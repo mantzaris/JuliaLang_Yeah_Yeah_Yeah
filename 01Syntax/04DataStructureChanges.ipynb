{
 "cells": [
  {
   "cell_type": "code",
   "execution_count": null,
   "metadata": {},
   "outputs": [],
   "source": []
  },
  {
   "cell_type": "code",
   "execution_count": null,
   "metadata": {},
   "outputs": [],
   "source": []
  },
  {
   "cell_type": "markdown",
   "metadata": {},
   "source": [
    "# Flatten\n",
    "\n",
    "Iterators.flatten\n",
    "\n",
    "when you have an iteration of some sort that returns a iterator on iterators and you want an iterator of the elements (all the elements of the iterators are concatenated)"
   ]
  },
  {
   "cell_type": "code",
   "execution_count": 14,
   "metadata": {},
   "outputs": [
    {
     "name": "stdout",
     "output_type": "stream",
     "text": [
      "[[3.0, 6.0, 2.0], [0.0, 6.0, 9.0], [5.0, 9.0, 6.0], [6.0, 3.0, 6.0], [7.0, 6.0, 6.0]]\n",
      "[3.0, 6.0, 2.0, 0.0, 6.0, 9.0, 5.0, 9.0, 6.0, 6.0, 3.0, 6.0, 7.0, 6.0, 6.0]\n"
     ]
    }
   ],
   "source": [
    "res1 = [round.(10 .* rand(3)) for _ in 1:5]\n",
    "\n",
    "res2 = Iterators.flatten( res1 ) |> collect\n",
    "\n",
    "println(res1)\n",
    "println(res2)"
   ]
  },
  {
   "cell_type": "code",
   "execution_count": null,
   "metadata": {},
   "outputs": [],
   "source": []
  },
  {
   "cell_type": "markdown",
   "metadata": {},
   "source": [
    "# Flatmap\n",
    "\n",
    "Equivalent to flatten(map(f, iterators...))."
   ]
  },
  {
   "cell_type": "code",
   "execution_count": 8,
   "metadata": {},
   "outputs": [
    {
     "data": {
      "text/plain": [
       "5-element Vector{Vector{Int64}}:\n",
       " [1, 0, 1, 4, 9]\n",
       " [0, 1, 4, 9, 16]\n",
       " [1, 4, 9, 16, 25]\n",
       " [4, 9, 16, 25, 36]\n",
       " [9, 16, 25, 36, 49]"
      ]
     },
     "metadata": {},
     "output_type": "display_data"
    },
    {
     "name": "stdout",
     "output_type": "stream",
     "text": [
      "[1, 0, 1, 4, 9, 0, 1, 4, 9, 16, 1, 4, 9, 16, 25, 4, 9, 16, 25, 36, 9, 16, 25, 36, 49]\n",
      "[1, 0, 1, 4, 9, 0, 1, 4, 9, 16, 1, 4, 9, 16, 25, 4, 9, 16, 25, 36, 9, 16, 25, 36, 49]\n"
     ]
    }
   ],
   "source": [
    "xx = 1:5\n",
    "\n",
    "res2 = map( x -> (x-2:1:x+2).^2 , xx )\n",
    "\n",
    "res3 = Iterators.flatten(map( x -> (x-2:1:x+2).^2 , xx )) |> collect\n",
    "\n",
    "res4 = Iterators.flatmap( x -> (x-2:1:x+2).^2 , xx ) |> collect\n",
    "\n",
    "display(res2)\n",
    "println(res3)\n",
    "println(res4)"
   ]
  },
  {
   "cell_type": "code",
   "execution_count": 2,
   "metadata": {},
   "outputs": [],
   "source": []
  },
  {
   "cell_type": "markdown",
   "metadata": {},
   "source": [
    "# stack"
   ]
  },
  {
   "cell_type": "code",
   "execution_count": 17,
   "metadata": {},
   "outputs": [
    {
     "data": {
      "text/plain": [
       "2×3 Matrix{Int64}:\n",
       " 1  30  500\n",
       " 2  40  600"
      ]
     },
     "metadata": {},
     "output_type": "display_data"
    },
    {
     "data": {
      "text/plain": [
       "3×2 Matrix{Int64}:\n",
       "   1    2\n",
       "  30   40\n",
       " 500  600"
      ]
     },
     "metadata": {},
     "output_type": "display_data"
    },
    {
     "data": {
      "text/plain": [
       "2×3 Matrix{Int64}:\n",
       " 1  30  500\n",
       " 2  40  600"
      ]
     },
     "metadata": {},
     "output_type": "display_data"
    }
   ],
   "source": [
    "xx = ( 1:2, [30, 40], [500,600] )\n",
    "\n",
    "res1 = stack( xx )\n",
    "\n",
    "res2 = stack( xx, dims=1 )\n",
    "\n",
    "res3 = stack( xx, dims=2 )\n",
    "\n",
    "display(res1)\n",
    "display(res2)\n",
    "display(res3)"
   ]
  },
  {
   "cell_type": "code",
   "execution_count": 19,
   "metadata": {},
   "outputs": [
    {
     "data": {
      "text/plain": [
       "4×4 Matrix{Float64}:\n",
       "   0.0    0.0    1.0    1.0\n",
       "   6.0    4.0   10.0    9.0\n",
       "  61.0   78.0   53.0    9.0\n",
       " 298.0  782.0  203.0  544.0"
      ]
     },
     "metadata": {},
     "output_type": "display_data"
    },
    {
     "data": {
      "text/plain": [
       "4×4 Matrix{Float64}:\n",
       " 0.0   6.0  61.0  298.0\n",
       " 0.0   4.0  78.0  782.0\n",
       " 1.0  10.0  53.0  203.0\n",
       " 1.0   9.0   9.0  544.0"
      ]
     },
     "metadata": {},
     "output_type": "display_data"
    }
   ],
   "source": [
    "xx = map( x-> round.(x .* rand(4)) , [1,10,100,1000] )\n",
    "\n",
    "res1 = stack( xx , dims=1 )\n",
    "res2 = stack( xx , dims=2 )\n",
    "\n",
    "display(res1)\n",
    "display(res2)"
   ]
  },
  {
   "cell_type": "code",
   "execution_count": 25,
   "metadata": {},
   "outputs": [],
   "source": []
  },
  {
   "cell_type": "code",
   "execution_count": null,
   "metadata": {},
   "outputs": [],
   "source": []
  },
  {
   "cell_type": "markdown",
   "metadata": {},
   "source": [
    "# eachslice"
   ]
  },
  {
   "cell_type": "code",
   "execution_count": 29,
   "metadata": {},
   "outputs": [
    {
     "data": {
      "text/plain": [
       "4×5 Matrix{Float64}:\n",
       " 5.0   9.0  8.0  4.0  2.0\n",
       " 9.0  10.0  6.0  0.0  5.0\n",
       " 7.0   1.0  8.0  8.0  9.0\n",
       " 7.0   3.0  2.0  2.0  1.0"
      ]
     },
     "metadata": {},
     "output_type": "display_data"
    },
    {
     "data": {
      "text/plain": [
       "4-element RowSlices{Matrix{Float64}, Tuple{Base.OneTo{Int64}}, SubArray{Float64, 1, Matrix{Float64}, Tuple{Int64, Base.Slice{Base.OneTo{Int64}}}, true}}:\n",
       " [5.0, 9.0, 8.0, 4.0, 2.0]\n",
       " [9.0, 10.0, 6.0, 0.0, 5.0]\n",
       " [7.0, 1.0, 8.0, 8.0, 9.0]\n",
       " [7.0, 3.0, 2.0, 2.0, 1.0]"
      ]
     },
     "metadata": {},
     "output_type": "display_data"
    },
    {
     "data": {
      "text/plain": [
       "5-element ColumnSlices{Matrix{Float64}, Tuple{Base.OneTo{Int64}}, SubArray{Float64, 1, Matrix{Float64}, Tuple{Base.Slice{Base.OneTo{Int64}}, Int64}, true}}:\n",
       " [5.0, 9.0, 7.0, 7.0]\n",
       " [9.0, 10.0, 1.0, 3.0]\n",
       " [8.0, 6.0, 8.0, 2.0]\n",
       " [4.0, 0.0, 8.0, 2.0]\n",
       " [2.0, 5.0, 9.0, 1.0]"
      ]
     },
     "metadata": {},
     "output_type": "display_data"
    }
   ],
   "source": [
    "xx = round.( 10 .* rand(4,5) )\n",
    "\n",
    "res1 = eachslice( xx , dims=1 )\n",
    "res2 = eachslice( xx , dims=2 )\n",
    "\n",
    "display(xx)\n",
    "display(res1)\n",
    "display(res2)"
   ]
  },
  {
   "cell_type": "code",
   "execution_count": 30,
   "metadata": {},
   "outputs": [
    {
     "data": {
      "text/plain": [
       "4×5 Matrix{Float64}:\n",
       " 5.0   9.0  8.0  4.0  2.0\n",
       " 9.0  10.0  6.0  0.0  5.0\n",
       " 7.0   1.0  8.0  8.0  9.0\n",
       " 7.0   3.0  2.0  2.0  1.0"
      ]
     },
     "metadata": {},
     "output_type": "display_data"
    },
    {
     "data": {
      "text/plain": [
       "4-element RowSlices{Matrix{Float64}, Tuple{Base.OneTo{Int64}}, SubArray{Float64, 1, Matrix{Float64}, Tuple{Int64, Base.Slice{Base.OneTo{Int64}}}, true}}:\n",
       " [5.0, 9.0, 8.0, 4.0, 2.0]\n",
       " [9.0, 10.0, 6.0, 0.0, 5.0]\n",
       " [7.0, 1.0, 8.0, 8.0, 9.0]\n",
       " [7.0, 3.0, 2.0, 2.0, 1.0]"
      ]
     },
     "metadata": {},
     "output_type": "display_data"
    },
    {
     "data": {
      "text/plain": [
       "5-element ColumnSlices{Matrix{Float64}, Tuple{Base.OneTo{Int64}}, SubArray{Float64, 1, Matrix{Float64}, Tuple{Base.Slice{Base.OneTo{Int64}}, Int64}, true}}:\n",
       " [5.0, 9.0, 7.0, 7.0]\n",
       " [9.0, 10.0, 1.0, 3.0]\n",
       " [8.0, 6.0, 8.0, 2.0]\n",
       " [4.0, 0.0, 8.0, 2.0]\n",
       " [2.0, 5.0, 9.0, 1.0]"
      ]
     },
     "metadata": {},
     "output_type": "display_data"
    }
   ],
   "source": [
    "\n",
    "res1 = eachrow( xx )\n",
    "res2 = eachcol( xx )\n",
    "\n",
    "display(xx)\n",
    "display(res1)\n",
    "display(res2)"
   ]
  },
  {
   "cell_type": "code",
   "execution_count": 33,
   "metadata": {},
   "outputs": [
    {
     "data": {
      "text/plain": [
       "4×5 Matrix{Float64}:\n",
       " 65.6634  1.21765  47.7965  6.44004  91.1874\n",
       " 65.628   1.65894  47.6116  6.32781  91.4738\n",
       " 64.8859  1.92818  48.0547  6.38884  90.9302\n",
       " 65.0104  1.28466  48.0902  6.18103  90.7847"
      ]
     },
     "metadata": {},
     "output_type": "display_data"
    }
   ],
   "source": [
    "mapslices( x-> x .+ rand()*100 , rand(4,5), dims=1 )"
   ]
  },
  {
   "cell_type": "code",
   "execution_count": null,
   "metadata": {},
   "outputs": [],
   "source": []
  },
  {
   "cell_type": "code",
   "execution_count": null,
   "metadata": {},
   "outputs": [],
   "source": []
  }
 ],
 "metadata": {
  "kernelspec": {
   "display_name": "Julia 1.8.2",
   "language": "julia",
   "name": "julia-1.8"
  },
  "language_info": {
   "file_extension": ".jl",
   "mimetype": "application/julia",
   "name": "julia",
   "version": "1.8.2"
  }
 },
 "nbformat": 4,
 "nbformat_minor": 4
}
