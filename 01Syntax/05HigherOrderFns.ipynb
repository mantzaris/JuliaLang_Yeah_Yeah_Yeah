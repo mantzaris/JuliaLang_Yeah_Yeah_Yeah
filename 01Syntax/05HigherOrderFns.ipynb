{
 "cells": [
  {
   "cell_type": "code",
   "execution_count": 4,
   "id": "a22bc48a-8830-42bc-8f43-d6f7b80e3e61",
   "metadata": {},
   "outputs": [],
   "source": [
    "using StatsBase"
   ]
  },
  {
   "cell_type": "code",
   "execution_count": 9,
   "id": "9501c20e-11ae-49ef-bf95-a69340a70249",
   "metadata": {},
   "outputs": [],
   "source": [
    "samples = sample(1:10, 5, replace=true);"
   ]
  },
  {
   "cell_type": "markdown",
   "id": "1ad221ea-4ea8-4860-a048-ec5325cdc334",
   "metadata": {},
   "source": [
    "### squares"
   ]
  },
  {
   "cell_type": "code",
   "execution_count": 16,
   "id": "56838f00-8c68-4b01-be84-ab4f22933030",
   "metadata": {},
   "outputs": [
    {
     "name": "stdout",
     "output_type": "stream",
     "text": [
      "squares from for loop = Any[25, 36, 9, 100, 25]"
     ]
    }
   ],
   "source": [
    "squares_forloop = []\n",
    "\n",
    "for s in samples\n",
    "    push!(squares_forloop, s^2)\n",
    "end\n",
    "\n",
    "print(\"squares from for loop = $(squares_forloop)\")"
   ]
  },
  {
   "cell_type": "code",
   "execution_count": 17,
   "id": "bd65f334-25e1-4675-81a0-3146ee6f467c",
   "metadata": {},
   "outputs": [
    {
     "name": "stdout",
     "output_type": "stream",
     "text": [
      "squares from comprehension = [25, 36, 9, 100, 25]"
     ]
    }
   ],
   "source": [
    "squares_arrayComprehension = [ s^2 for s in samples ]\n",
    "\n",
    "print(\"squares from comprehension = $(squares_arrayComprehension)\")"
   ]
  },
  {
   "cell_type": "code",
   "execution_count": 18,
   "id": "df526268-2eb7-4a34-9609-7a6dcff2dc5a",
   "metadata": {},
   "outputs": [
    {
     "name": "stdout",
     "output_type": "stream",
     "text": [
      "squares from map = [25, 36, 9, 100, 25]"
     ]
    }
   ],
   "source": [
    "squares_map = map(s -> s^2, samples)\n",
    "\n",
    "print(\"squares from map = $(squares_map)\")"
   ]
  },
  {
   "cell_type": "markdown",
   "id": "8686de74-26bc-49b4-b4fe-1b14769e1741",
   "metadata": {},
   "source": [
    "### sum of squares"
   ]
  },
  {
   "cell_type": "code",
   "execution_count": 19,
   "id": "0e960857-af40-4f04-a33f-2393cecdc45e",
   "metadata": {},
   "outputs": [
    {
     "name": "stdout",
     "output_type": "stream",
     "text": [
      "sum of squares from for loop = 195"
     ]
    }
   ],
   "source": [
    "squares_forloop = []\n",
    "\n",
    "for s in samples\n",
    "    push!(squares_forloop, s^2)\n",
    "end\n",
    "\n",
    "sum_of_squares = sum( squares_forloop )\n",
    "\n",
    "print(\"sum of squares from for loop = $(sum_of_squares)\")"
   ]
  },
  {
   "cell_type": "code",
   "execution_count": 20,
   "id": "4dda3fef-9958-4a60-b302-5d00cb076564",
   "metadata": {},
   "outputs": [
    {
     "name": "stdout",
     "output_type": "stream",
     "text": [
      "sum of squares from comprehension = 195"
     ]
    }
   ],
   "source": [
    "sum_of_squares_arrayComprehension = sum( [ s^2 for s in samples ] )\n",
    "\n",
    "print(\"sum of squares from comprehension = $(sum_of_squares_arrayComprehension)\")"
   ]
  },
  {
   "cell_type": "code",
   "execution_count": 21,
   "id": "6fd18d22-58f7-44cd-b4e8-e1af5cb1bc42",
   "metadata": {},
   "outputs": [
    {
     "name": "stdout",
     "output_type": "stream",
     "text": [
      "sum of squares from map = 195"
     ]
    }
   ],
   "source": [
    "sum_of_squares_map = sum( map(s -> s^2, samples) )\n",
    "\n",
    "print(\"sum of squares from map = $(sum_of_squares_map)\")"
   ]
  },
  {
   "cell_type": "code",
   "execution_count": 23,
   "id": "68a7586c-d9f9-42f2-8c5e-df4fe2285817",
   "metadata": {},
   "outputs": [
    {
     "name": "stdout",
     "output_type": "stream",
     "text": [
      "sum of squares from map = 195"
     ]
    }
   ],
   "source": [
    "sum_of_squares_map = map(s -> s^2, samples) |> s_vals -> sum(s_vals)  \n",
    "\n",
    "print(\"sum of squares from map = $(sum_of_squares_map)\")"
   ]
  },
  {
   "cell_type": "code",
   "execution_count": 24,
   "id": "06da7b72-7f92-4b12-bf8e-a3d4d42b322b",
   "metadata": {},
   "outputs": [
    {
     "name": "stdout",
     "output_type": "stream",
     "text": [
      "sum of squares from map = 195"
     ]
    }
   ],
   "source": [
    "sum_of_squares_map = map(s -> s^2, samples) |> sum  \n",
    "\n",
    "print(\"sum of squares from map = $(sum_of_squares_map)\")"
   ]
  },
  {
   "cell_type": "code",
   "execution_count": null,
   "id": "c7461dc4-d6da-49c0-83bd-265167accff4",
   "metadata": {},
   "outputs": [],
   "source": []
  },
  {
   "cell_type": "code",
   "execution_count": null,
   "id": "ea87c7ae-9c1c-4646-a5f3-e2a75ade669b",
   "metadata": {},
   "outputs": [],
   "source": []
  },
  {
   "cell_type": "code",
   "execution_count": null,
   "id": "591ecc69-eca9-4f7c-aa51-2417ea2efaf8",
   "metadata": {},
   "outputs": [],
   "source": []
  },
  {
   "cell_type": "code",
   "execution_count": null,
   "id": "dcbe9bef-db63-40a4-9612-3664356c0ecf",
   "metadata": {},
   "outputs": [],
   "source": []
  },
  {
   "cell_type": "code",
   "execution_count": null,
   "id": "9fffffd2-6423-4949-89de-e48361265f99",
   "metadata": {},
   "outputs": [],
   "source": []
  },
  {
   "cell_type": "code",
   "execution_count": null,
   "id": "b5ba5c97-832f-4403-95a4-33581f54d9ad",
   "metadata": {},
   "outputs": [],
   "source": []
  }
 ],
 "metadata": {
  "kernelspec": {
   "display_name": "Julia 1.8.2",
   "language": "julia",
   "name": "julia-1.8"
  },
  "language_info": {
   "file_extension": ".jl",
   "mimetype": "application/julia",
   "name": "julia",
   "version": "1.8.2"
  }
 },
 "nbformat": 4,
 "nbformat_minor": 5
}
