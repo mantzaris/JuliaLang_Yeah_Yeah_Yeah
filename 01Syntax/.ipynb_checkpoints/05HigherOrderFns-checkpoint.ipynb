{
 "cells": [
  {
   "cell_type": "code",
   "execution_count": 1,
   "id": "a22bc48a-8830-42bc-8f43-d6f7b80e3e61",
   "metadata": {},
   "outputs": [],
   "source": [
    "using StatsBase"
   ]
  },
  {
   "cell_type": "code",
   "execution_count": 41,
   "id": "9501c20e-11ae-49ef-bf95-a69340a70249",
   "metadata": {},
   "outputs": [
    {
     "data": {
      "text/plain": [
       "0:5:25"
      ]
     },
     "execution_count": 41,
     "metadata": {},
     "output_type": "execute_result"
    }
   ],
   "source": [
    "vec_data_1 = 0:5:25"
   ]
  },
  {
   "cell_type": "code",
   "execution_count": 92,
   "id": "d0cee172-6f33-4e8f-bdf5-8945c07b2cc9",
   "metadata": {},
   "outputs": [
    {
     "name": "stdout",
     "output_type": "stream",
     "text": [
      "[0, 25, 100, 225, 400, 625]"
     ]
    }
   ],
   "source": [
    "vec_new = map( x -> x^2, vec_data_1 )\n",
    "\n",
    "print( vec_new )"
   ]
  },
  {
   "cell_type": "code",
   "execution_count": 93,
   "id": "feb9a5d6-5f5d-44da-943f-a5dba4eef4f8",
   "metadata": {},
   "outputs": [
    {
     "name": "stdout",
     "output_type": "stream",
     "text": [
      "[15, 20, 25]"
     ]
    }
   ],
   "source": [
    "vec_new = filter( x -> x > 10, vec_data_1 )\n",
    "\n",
    "print( vec_new )"
   ]
  },
  {
   "cell_type": "code",
   "execution_count": 98,
   "id": "6e60d991-9041-4aa5-a6b6-1f9489eb5b53",
   "metadata": {},
   "outputs": [
    {
     "name": "stdout",
     "output_type": "stream",
     "text": [
      "75"
     ]
    }
   ],
   "source": [
    "vec_new = reduce((a, x) -> a + x, vec_data_1)\n",
    "\n",
    "print( vec_new )"
   ]
  },
  {
   "cell_type": "code",
   "execution_count": null,
   "id": "680ed379-90e0-4d9c-be9d-1ad8e72f853c",
   "metadata": {},
   "outputs": [],
   "source": []
  },
  {
   "cell_type": "code",
   "execution_count": null,
   "id": "5c0db403-c89c-48e2-a4e6-e79f88076cb4",
   "metadata": {},
   "outputs": [],
   "source": []
  },
  {
   "cell_type": "code",
   "execution_count": null,
   "id": "90c3480d-8fbb-4ec2-a304-b2b404e8245c",
   "metadata": {},
   "outputs": [],
   "source": []
  },
  {
   "cell_type": "markdown",
   "id": "1ad221ea-4ea8-4860-a048-ec5325cdc334",
   "metadata": {},
   "source": [
    "### squares"
   ]
  },
  {
   "cell_type": "code",
   "execution_count": 42,
   "id": "56838f00-8c68-4b01-be84-ab4f22933030",
   "metadata": {},
   "outputs": [
    {
     "name": "stdout",
     "output_type": "stream",
     "text": [
      "vec_new from for loop = Any[0, 25, 100, 225, 400, 625]"
     ]
    }
   ],
   "source": [
    "vec_new = []\n",
    "\n",
    "for v in vec_data_1\n",
    "    push!(vec_new, v^2)\n",
    "end\n",
    "\n",
    "print(\"vec_new from for loop = $(vec_new)\")"
   ]
  },
  {
   "cell_type": "code",
   "execution_count": 43,
   "id": "bd65f334-25e1-4675-81a0-3146ee6f467c",
   "metadata": {},
   "outputs": [
    {
     "name": "stdout",
     "output_type": "stream",
     "text": [
      "squares from comprehension = [0, 25, 100, 225, 400, 625]"
     ]
    }
   ],
   "source": [
    "vec_new = [ v^2 for v in vec_data_1 ]\n",
    "\n",
    "print(\"squares from comprehension = $(vec_new)\")"
   ]
  },
  {
   "cell_type": "code",
   "execution_count": 44,
   "id": "df526268-2eb7-4a34-9609-7a6dcff2dc5a",
   "metadata": {},
   "outputs": [
    {
     "name": "stdout",
     "output_type": "stream",
     "text": [
      "squares from map = [0, 25, 100, 225, 400, 625]"
     ]
    }
   ],
   "source": [
    "vec_new = map(v -> v^2, vec_data_1)\n",
    "\n",
    "print(\"squares from map = $(vec_new)\")"
   ]
  },
  {
   "cell_type": "markdown",
   "id": "8686de74-26bc-49b4-b4fe-1b14769e1741",
   "metadata": {},
   "source": [
    "### sum of squares"
   ]
  },
  {
   "cell_type": "code",
   "execution_count": 45,
   "id": "0e960857-af40-4f04-a33f-2393cecdc45e",
   "metadata": {},
   "outputs": [
    {
     "name": "stdout",
     "output_type": "stream",
     "text": [
      "sum of squares from for loop = 1375"
     ]
    }
   ],
   "source": [
    "vec_new = []\n",
    "\n",
    "for v in vec_data_1\n",
    "    push!(vec_new, v^2)\n",
    "end\n",
    "\n",
    "sum_of_squares = sum( vec_new )\n",
    "\n",
    "print(\"sum of squares from for loop = $(sum_of_squares)\")"
   ]
  },
  {
   "cell_type": "code",
   "execution_count": 46,
   "id": "4dda3fef-9958-4a60-b302-5d00cb076564",
   "metadata": {},
   "outputs": [
    {
     "name": "stdout",
     "output_type": "stream",
     "text": [
      "sum of squares from comprehension = 1375"
     ]
    }
   ],
   "source": [
    "sum_of_squares = sum( [ v^2 for v in vec_data_1 ] )\n",
    "\n",
    "print(\"sum of squares from comprehension = $(sum_of_squares)\")"
   ]
  },
  {
   "cell_type": "code",
   "execution_count": 47,
   "id": "6fd18d22-58f7-44cd-b4e8-e1af5cb1bc42",
   "metadata": {},
   "outputs": [
    {
     "name": "stdout",
     "output_type": "stream",
     "text": [
      "sum of squares from map = 1375"
     ]
    }
   ],
   "source": [
    "sum_of_squares = sum( map(s -> s^2, vec_data_1) )\n",
    "\n",
    "print(\"sum of squares from map = $(sum_of_squares)\")"
   ]
  },
  {
   "cell_type": "code",
   "execution_count": 48,
   "id": "68a7586c-d9f9-42f2-8c5e-df4fe2285817",
   "metadata": {},
   "outputs": [
    {
     "name": "stdout",
     "output_type": "stream",
     "text": [
      "sum of squares from map pipeline = 1375"
     ]
    }
   ],
   "source": [
    "sum_of_squares = map(s -> s^2, vec_data_1) |> s_vals -> sum(s_vals)  \n",
    "\n",
    "print(\"sum of squares from map pipeline = $(sum_of_squares)\")"
   ]
  },
  {
   "cell_type": "code",
   "execution_count": 49,
   "id": "06da7b72-7f92-4b12-bf8e-a3d4d42b322b",
   "metadata": {},
   "outputs": [
    {
     "name": "stdout",
     "output_type": "stream",
     "text": [
      "sum of squares from map = 1375"
     ]
    }
   ],
   "source": [
    "sum_of_squares = map(s -> s^2, vec_data_1) |> sum  \n",
    "\n",
    "print(\"sum of squares from map = $(sum_of_squares)\")"
   ]
  },
  {
   "cell_type": "code",
   "execution_count": null,
   "id": "c7461dc4-d6da-49c0-83bd-265167accff4",
   "metadata": {},
   "outputs": [],
   "source": []
  },
  {
   "cell_type": "markdown",
   "id": "d3ffecec-c006-4e62-b26c-2094719a7971",
   "metadata": {},
   "source": [
    "## 2 vectors of data"
   ]
  },
  {
   "cell_type": "code",
   "execution_count": 52,
   "id": "ea87c7ae-9c1c-4646-a5f3-e2a75ade669b",
   "metadata": {},
   "outputs": [
    {
     "data": {
      "text/plain": [
       "25:-5:0"
      ]
     },
     "execution_count": 52,
     "metadata": {},
     "output_type": "execute_result"
    }
   ],
   "source": [
    "vec_data_2 = 25:-5:0"
   ]
  },
  {
   "cell_type": "code",
   "execution_count": 61,
   "id": "591ecc69-eca9-4f7c-aa51-2417ea2efaf8",
   "metadata": {},
   "outputs": [
    {
     "name": "stdout",
     "output_type": "stream",
     "text": [
      "Any[625, 425, 325, 325, 425, 625]"
     ]
    }
   ],
   "source": [
    "vec_new = []\n",
    "\n",
    "for index in eachindex(vec_data_1)\n",
    "    temp = vec_data_1[index]^2 + vec_data_2[index]^2\n",
    "    push!(vec_new, temp)\n",
    "end\n",
    "\n",
    "print(vec_new)"
   ]
  },
  {
   "cell_type": "code",
   "execution_count": 62,
   "id": "dcbe9bef-db63-40a4-9612-3664356c0ecf",
   "metadata": {},
   "outputs": [
    {
     "name": "stdout",
     "output_type": "stream",
     "text": [
      "[625, 425, 325, 325, 425, 625]"
     ]
    }
   ],
   "source": [
    "vec_new = map( (x1,x2) -> x1^2 + x2^2, vec_data_1, vec_data_2 )\n",
    "\n",
    "print(vec_new)"
   ]
  },
  {
   "cell_type": "code",
   "execution_count": 56,
   "id": "9fffffd2-6423-4949-89de-e48361265f99",
   "metadata": {},
   "outputs": [
    {
     "data": {
      "text/plain": [
       "f1 (generic function with 1 method)"
      ]
     },
     "execution_count": 56,
     "metadata": {},
     "output_type": "execute_result"
    }
   ],
   "source": [
    "f1(first, second) = first^2 + second^2"
   ]
  },
  {
   "cell_type": "code",
   "execution_count": 63,
   "id": "b5ba5c97-832f-4403-95a4-33581f54d9ad",
   "metadata": {},
   "outputs": [
    {
     "name": "stdout",
     "output_type": "stream",
     "text": [
      "[625, 425, 325, 325, 425, 625]"
     ]
    }
   ],
   "source": [
    "vec_new = map( (x1,x2) -> f1(x1,x2), vec_data_1, vec_data_2 )\n",
    "\n",
    "print(vec_new)"
   ]
  },
  {
   "cell_type": "code",
   "execution_count": 80,
   "id": "ea623cd3-9111-4692-a251-eca1b028421d",
   "metadata": {},
   "outputs": [
    {
     "name": "stdout",
     "output_type": "stream",
     "text": [
      "[625, 425, 325, 325, 425, 625]"
     ]
    }
   ],
   "source": [
    "vec_new = map( x -> f1(x[1],x[2]), zip(vec_data_1, vec_data_2) )\n",
    "\n",
    "print(vec_new)"
   ]
  },
  {
   "cell_type": "code",
   "execution_count": 72,
   "id": "0f58f147-8610-4f05-bda1-f506c967fe49",
   "metadata": {},
   "outputs": [
    {
     "name": "stdout",
     "output_type": "stream",
     "text": [
      "[625, 425, 325, 325, 425, 625]"
     ]
    }
   ],
   "source": [
    "vec_new = zip(vec_data_1,vec_data_2) .|> x -> x[1]^2 + x[2]^2\n",
    "\n",
    "print(vec_new)"
   ]
  },
  {
   "cell_type": "code",
   "execution_count": 75,
   "id": "e0fa50b0-4b5b-4383-bc52-636e2256334e",
   "metadata": {},
   "outputs": [
    {
     "name": "stdout",
     "output_type": "stream",
     "text": [
      "[625, 425, 325, 325, 425, 625]"
     ]
    }
   ],
   "source": [
    "vec_new = zip(vec_data_1,vec_data_2) .|> x -> zip(x[1]^2, x[2]^2) .|> x -> x[1] + x[2]\n",
    "\n",
    "print(vec_new)"
   ]
  },
  {
   "cell_type": "code",
   "execution_count": 78,
   "id": "3539cd36-107a-4351-813a-2f87a2b01468",
   "metadata": {},
   "outputs": [
    {
     "name": "stdout",
     "output_type": "stream",
     "text": [
      "[625, 425, 325, 325, 425, 625]"
     ]
    }
   ],
   "source": [
    "vec_new = zip(vec_data_1,vec_data_2) .|> x -> zip(x[1]^2, x[2]^2) .|> x -> x[1] + x[2]\n",
    "\n",
    "print(vec_new)"
   ]
  },
  {
   "cell_type": "code",
   "execution_count": 82,
   "id": "7f89bc7e-ecd4-4c44-b407-e62eae4d8522",
   "metadata": {},
   "outputs": [
    {
     "name": "stdout",
     "output_type": "stream",
     "text": [
      "[625, 425, 325, 325, 425, 625]"
     ]
    }
   ],
   "source": [
    "vec_new = zip(vec_data_1,vec_data_2) .|> \n",
    "            x -> zip(x[1]^2, x[2]^2) .|> \n",
    "            x -> x[1] + x[2] |>\n",
    "            x -> reduce(sum,x)\n",
    "\n",
    "print(vec_new)"
   ]
  },
  {
   "cell_type": "code",
   "execution_count": null,
   "id": "7206e9dd-903b-49be-a59b-a9823449534c",
   "metadata": {},
   "outputs": [],
   "source": []
  },
  {
   "cell_type": "code",
   "execution_count": 111,
   "id": "b80ed8df-c6ab-4283-b9cb-13572aaad997",
   "metadata": {},
   "outputs": [
    {
     "name": "stdout",
     "output_type": "stream",
     "text": [
      "[0.0, 1.0, 2.0]"
     ]
    }
   ],
   "source": [
    "vec_new = map( x -> x / 10, filter( x -> x % 10 == 0, vec_data_1) )\n",
    "\n",
    "print( vec_new )"
   ]
  },
  {
   "cell_type": "code",
   "execution_count": 107,
   "id": "aa4ee26d-974b-4270-aced-b093086148d1",
   "metadata": {},
   "outputs": [
    {
     "name": "stdout",
     "output_type": "stream",
     "text": [
      "[0.0, 1.0, 2.0]"
     ]
    }
   ],
   "source": [
    "vec_new = filter( x -> x % 10 == 0, vec_data_1) |>\n",
    "            x -> map( x -> x / 10, x)\n",
    "\n",
    "print( vec_new )"
   ]
  },
  {
   "cell_type": "code",
   "execution_count": 110,
   "id": "0d2e814b-c947-47a3-a09c-2c3367e313d0",
   "metadata": {},
   "outputs": [
    {
     "name": "stdout",
     "output_type": "stream",
     "text": [
      "[0, 1, 2]"
     ]
    }
   ],
   "source": [
    "vec_new = filter( x -> x % 10 == 0, vec_data_1) |>\n",
    "            x -> map( x -> x / 10, x) |>\n",
    "            x -> Int.(x)\n",
    "            \n",
    "\n",
    "print( vec_new )"
   ]
  },
  {
   "cell_type": "code",
   "execution_count": null,
   "id": "58585d23-e99a-4f94-b278-aba331dcdf05",
   "metadata": {},
   "outputs": [],
   "source": []
  },
  {
   "cell_type": "code",
   "execution_count": null,
   "id": "905cb616-f676-4865-b16f-84e200ea60f8",
   "metadata": {},
   "outputs": [],
   "source": []
  },
  {
   "cell_type": "code",
   "execution_count": null,
   "id": "37d8cd27-5651-4358-a91c-c4aea0aca6e2",
   "metadata": {},
   "outputs": [],
   "source": []
  },
  {
   "cell_type": "code",
   "execution_count": null,
   "id": "63a246ed-b238-4a67-a7ca-f693f10c5116",
   "metadata": {},
   "outputs": [],
   "source": []
  },
  {
   "cell_type": "code",
   "execution_count": null,
   "id": "dd358aa6-3229-43ee-a6c0-4e6c7ded5986",
   "metadata": {},
   "outputs": [],
   "source": []
  },
  {
   "cell_type": "code",
   "execution_count": null,
   "id": "e758632c-1088-4352-bfd0-4246f77ea3cc",
   "metadata": {},
   "outputs": [],
   "source": []
  },
  {
   "cell_type": "code",
   "execution_count": null,
   "id": "f100985e-c693-4b8a-b2c3-2afc48f8a107",
   "metadata": {},
   "outputs": [],
   "source": []
  },
  {
   "cell_type": "code",
   "execution_count": null,
   "id": "fab974b9-6d7e-4d84-93aa-a5e3cffbaaaf",
   "metadata": {},
   "outputs": [],
   "source": []
  },
  {
   "cell_type": "code",
   "execution_count": null,
   "id": "5baa6da3-e357-4d58-849a-600665fd6e60",
   "metadata": {},
   "outputs": [],
   "source": []
  },
  {
   "cell_type": "code",
   "execution_count": null,
   "id": "d822a7d1-d0a7-4183-a3bb-955227122dff",
   "metadata": {},
   "outputs": [],
   "source": []
  },
  {
   "cell_type": "code",
   "execution_count": null,
   "id": "b6ad6d3a-daa7-46a8-a430-89a1b9133d72",
   "metadata": {},
   "outputs": [],
   "source": []
  },
  {
   "cell_type": "code",
   "execution_count": null,
   "id": "e5397748-e196-4ef3-9950-cf70f3b56371",
   "metadata": {},
   "outputs": [],
   "source": []
  },
  {
   "cell_type": "code",
   "execution_count": null,
   "id": "60a9f55f-d4a3-4623-8eb0-d76bca1b7b2f",
   "metadata": {},
   "outputs": [],
   "source": []
  },
  {
   "cell_type": "code",
   "execution_count": null,
   "id": "fe54be79-69bc-4e91-b8eb-6bbbc6784766",
   "metadata": {},
   "outputs": [],
   "source": []
  },
  {
   "cell_type": "code",
   "execution_count": null,
   "id": "41bcc2d2-ba38-46a1-a134-cdb358a61d0b",
   "metadata": {},
   "outputs": [],
   "source": []
  },
  {
   "cell_type": "code",
   "execution_count": null,
   "id": "ed2be94b-bfb1-41fe-ada0-5833e3d117c1",
   "metadata": {},
   "outputs": [],
   "source": []
  }
 ],
 "metadata": {
  "kernelspec": {
   "display_name": "Julia 1.8.2",
   "language": "julia",
   "name": "julia-1.8"
  },
  "language_info": {
   "file_extension": ".jl",
   "mimetype": "application/julia",
   "name": "julia",
   "version": "1.8.2"
  }
 },
 "nbformat": 4,
 "nbformat_minor": 5
}
