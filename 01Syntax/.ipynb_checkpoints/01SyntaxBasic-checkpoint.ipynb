{
 "cells": [
  {
   "cell_type": "code",
   "execution_count": null,
   "id": "ba795744-d153-4ce2-875e-64360022af4f",
   "metadata": {},
   "outputs": [],
   "source": []
  },
  {
   "cell_type": "code",
   "execution_count": 55,
   "id": "d4d0a537-9dd1-4340-9697-f3735a141989",
   "metadata": {},
   "outputs": [],
   "source": [
    "# commented line"
   ]
  },
  {
   "cell_type": "code",
   "execution_count": 1,
   "id": "bf001618-e230-4a8b-a971-c9f48a2ef42b",
   "metadata": {},
   "outputs": [],
   "source": [
    "#=\n",
    "multiple\n",
    "commented \n",
    "lines\n",
    "=#\n",
    "\n",
    "#=multiple\n",
    "commented \n",
    "lines=#"
   ]
  },
  {
   "cell_type": "code",
   "execution_count": 2,
   "id": "61b7f3ce-2a3e-4c2f-ae5a-1a3685c524f1",
   "metadata": {},
   "outputs": [
    {
     "name": "stdout",
     "output_type": "stream",
     "text": [
      "Hello World!"
     ]
    }
   ],
   "source": [
    "#mandatory new language greeting\n",
    "print(\"Hello World!\")"
   ]
  },
  {
   "cell_type": "code",
   "execution_count": 3,
   "id": "f89fe88e-92db-492f-9f88-196acfe95a84",
   "metadata": {},
   "outputs": [
    {
     "data": {
      "text/plain": [
       "10"
      ]
     },
     "execution_count": 3,
     "metadata": {},
     "output_type": "execute_result"
    }
   ],
   "source": [
    "#variable assignment \n",
    "x = 10"
   ]
  },
  {
   "cell_type": "code",
   "execution_count": 4,
   "id": "181c88a7-acae-4949-a8da-6f44491470a2",
   "metadata": {},
   "outputs": [
    {
     "name": "stdout",
     "output_type": "stream",
     "text": [
      "100\n"
     ]
    }
   ],
   "source": [
    "#reassignment\n",
    "x = 100\n",
    "println(x)"
   ]
  },
  {
   "cell_type": "code",
   "execution_count": 5,
   "id": "2d4c79ff-be85-44ef-bc87-26eb24494061",
   "metadata": {},
   "outputs": [
    {
     "data": {
      "text/plain": [
       "1000"
      ]
     },
     "execution_count": 5,
     "metadata": {},
     "output_type": "execute_result"
    }
   ],
   "source": [
    "#make it a constant\n",
    "const y = 1000"
   ]
  },
  {
   "cell_type": "code",
   "execution_count": 6,
   "id": "a89a3b6e-b61e-4c63-992e-e8f1c3084cf6",
   "metadata": {},
   "outputs": [
    {
     "name": "stderr",
     "output_type": "stream",
     "text": [
      "WARNING: redefinition of constant y. This may fail, cause incorrect answers, or produce other errors.\n"
     ]
    },
    {
     "data": {
      "text/plain": [
       "1"
      ]
     },
     "execution_count": 6,
     "metadata": {},
     "output_type": "execute_result"
    }
   ],
   "source": [
    "#attempt to reassign it, it does not produce an 'error' but produces a 'warning'\n",
    "#still mutable\n",
    "y = 1"
   ]
  },
  {
   "cell_type": "code",
   "execution_count": 7,
   "id": "43495499-8cf3-4c70-b700-97551ea2221b",
   "metadata": {},
   "outputs": [
    {
     "name": "stdout",
     "output_type": "stream",
     "text": [
      "1\n"
     ]
    }
   ],
   "source": [
    "#still reassigns though\n",
    "println(y)"
   ]
  },
  {
   "cell_type": "code",
   "execution_count": 8,
   "id": "4465d86f-b506-4bdf-b654-59f67e359dce",
   "metadata": {},
   "outputs": [
    {
     "name": "stdout",
     "output_type": "stream",
     "text": [
      "20\n",
      "40\n",
      "60\n"
     ]
    }
   ],
   "source": [
    "#assign mutliple variables at once\n",
    "a,b,c = 20, 40, 60\n",
    "println(a)\n",
    "println(b)\n",
    "println(c)"
   ]
  },
  {
   "cell_type": "code",
   "execution_count": null,
   "id": "ad26b037-f160-4aa8-aa83-601caa8435fd",
   "metadata": {},
   "outputs": [],
   "source": []
  },
  {
   "cell_type": "code",
   "execution_count": 9,
   "id": "9e0ac073-8ef1-4b47-912b-9dfddc061e80",
   "metadata": {},
   "outputs": [
    {
     "name": "stdout",
     "output_type": "stream",
     "text": [
      "t_0 + 1 = 11\n",
      "t_0 - t_1 = -1\n",
      "multiplication of t_2 * 10 = -10\n",
      "t_3 = t_0 ^ 2 = 100\n",
      "t_4 = t_0 / 2 = 5.0\n",
      "t_5 = t_0 / 3 = 3.3333333333333335\n",
      "t_6 = t_0 // 3 = 10//3\n",
      "t_7 = (t_0 // 3) + (7 // 4) = 61//12\n"
     ]
    }
   ],
   "source": [
    "#standard aritmetic\n",
    "t_0 = 10\n",
    "#addition\n",
    "t_1 = t_0 + 1\n",
    "#print a descriptive string and the value\n",
    "println(\"t_0 + 1 = \", t_1)\n",
    "#subtraction\n",
    "t_2 = t_0 - t_1\n",
    "#print the number within a string that is called 'string interpolation'\n",
    "#using $() placing the variable inside the parenthesis\n",
    "println(\"t_0 - t_1 = $(t_2)\")\n",
    "#compute a multiplication inside the string interpolation\n",
    "println(\"multiplication of t_2 * 10 = $( t_2*10 )\")\n",
    "#exponentiation, and we can have multiple commands per line when commands are separated by semicolons ';'\n",
    "t_3 = t_0 ^ 2; println(\"t_3 = t_0 ^ 2 = $(t_3)\")\n",
    "#division\n",
    "t_4 = t_0 / 2; println(\"t_4 = t_0 / 2 = $(t_4)\")\n",
    "# division\n",
    "t_5 = t_0 / 3; println(\"t_5 = t_0 / 3 = $(t_5)\")\n",
    "# make fractions\n",
    "t_6 = t_0 // 3; println(\"t_6 = t_0 // 3 = $(t_6)\")\n",
    "# add fractions together\n",
    "t_7 = (t_0 // 3) + (7 // 4); println(\"t_7 = (t_0 // 3) + (7 // 4) = $(t_7)\")"
   ]
  },
  {
   "cell_type": "code",
   "execution_count": 10,
   "id": "c7fea051-0d14-4a48-b3cf-e69280bd1823",
   "metadata": {},
   "outputs": [
    {
     "name": "stdout",
     "output_type": "stream",
     "text": [
      "Howdy!\n",
      "s1 = Howdy!\n",
      "Howdy! How are you?\n",
      "length of s2 = 19\n",
      "s2 from 1 to 12 = Howdy! How a\n",
      "s2 from 5 to 12 = y! How a\n",
      "s2 from 1 to 3 and then 6 to the end = How! How are you?\n",
      "s6 = hello\n",
      "s7 = Hiya! How are you?\n",
      "s7 = Hiya! What are you?\n",
      "s8 = Hiya! What are you?Are you good?\n"
     ]
    }
   ],
   "source": [
    "# strings\n",
    "s1 = \"Howdy!\"\n",
    "println(s1)\n",
    "# we can do string interpolation with a string\n",
    "println(\"s1 = $(s1)\")\n",
    "# concatenate strings\n",
    "s2 = s1 * \" How are you?\"\n",
    "println(s2)\n",
    "# length of a string\n",
    "s2_length = length(s2)\n",
    "println(\"length of s2 = $(s2_length)\")\n",
    "# subset of the strings (treat like an array)\n",
    "s3 = s2[1:12]\n",
    "println(\"s2 from 1 to 12 = $(s3)\")\n",
    "s4 = s2[5:12]\n",
    "println(\"s2 from 5 to 12 = $(s4)\")\n",
    "# removing part of a string\n",
    "s5 = s2[1:3] * s2[6:end]\n",
    "println(\"s2 from 1 to 3 and then 6 to the end = $(s5)\")\n",
    "# string interpolation shorthand not needing the parenthesis\n",
    "s6 = \"hello\"\n",
    "println(\"s6 = $s6\")\n",
    "# substring replace\n",
    "s7 = replace(s2, \"Howdy\" => \"Hiya\")\n",
    "println(\"s7 = $s7\")\n",
    "# multiple substring replace using the pairs operator '=>'\n",
    "s7 = replace(s2, \"Howdy\" => \"Hiya\", \"How\" => \"What\")\n",
    "println(\"s7 = $s7\")\n",
    "# we can make a string with the 'string' constructor\n",
    "s8 = string(s7, \"Are you good?\")\n",
    "println(\"s8 = $s8\")"
   ]
  },
  {
   "cell_type": "code",
   "execution_count": 11,
   "id": "1e76d171-2f2e-4cf2-93f7-b81da55c20aa",
   "metadata": {},
   "outputs": [
    {
     "name": "stdout",
     "output_type": "stream",
     "text": [
      "c_str = Hi\n"
     ]
    }
   ],
   "source": [
    "#build up a string from characters\n",
    "c1 = 'H'\n",
    "c2 = 'i'\n",
    "c_str = string(c1,c2)\n",
    "println(\"c_str = \",c_str)"
   ]
  },
  {
   "cell_type": "code",
   "execution_count": 12,
   "id": "6d21efbe-cb78-4bfe-9723-2416be174194",
   "metadata": {},
   "outputs": [
    {
     "data": {
      "text/plain": [
       "\"Çī\""
      ]
     },
     "execution_count": 12,
     "metadata": {},
     "output_type": "execute_result"
    }
   ],
   "source": [
    "string( 'c' + 100, 'c' + 200)"
   ]
  },
  {
   "cell_type": "code",
   "execution_count": null,
   "id": "07163c9f-985b-4b7b-a7c9-7a322c5bece8",
   "metadata": {},
   "outputs": [],
   "source": []
  },
  {
   "cell_type": "code",
   "execution_count": null,
   "id": "91eb5243-6cbc-430e-b570-6db949358338",
   "metadata": {},
   "outputs": [],
   "source": []
  },
  {
   "cell_type": "code",
   "execution_count": 14,
   "id": "6f270664-1edb-48de-a9c8-e918c844adb2",
   "metadata": {},
   "outputs": [
    {
     "data": {
      "text/plain": [
       "\"Hey\""
      ]
     },
     "execution_count": 14,
     "metadata": {},
     "output_type": "execute_result"
    }
   ],
   "source": [
    "#specify the types at declaration \n",
    "q::Int = 10\n",
    "r::Int64 = 20\n",
    "s::Float64 = 3.14\n",
    "t::String = \"Hi!\"\n",
    "u = \"Hey\""
   ]
  },
  {
   "cell_type": "code",
   "execution_count": 16,
   "id": "76ff9c4b-77d3-45a4-b336-67f4180a24e4",
   "metadata": {},
   "outputs": [
    {
     "data": {
      "text/plain": [
       "Int64"
      ]
     },
     "execution_count": 16,
     "metadata": {},
     "output_type": "execute_result"
    }
   ],
   "source": [
    "#get the type of 'q'\n",
    "typeof(q)"
   ]
  },
  {
   "cell_type": "code",
   "execution_count": 17,
   "id": "e53819cc-43c0-4414-9615-4c9a30626d16",
   "metadata": {},
   "outputs": [
    {
     "data": {
      "text/plain": [
       "true"
      ]
     },
     "execution_count": 17,
     "metadata": {},
     "output_type": "execute_result"
    }
   ],
   "source": [
    "#check the type of 'q' against another\n",
    "isa(q,Int)"
   ]
  },
  {
   "cell_type": "code",
   "execution_count": 18,
   "id": "03963daa-5f25-410d-adcf-918e3bb42f2f",
   "metadata": {},
   "outputs": [
    {
     "data": {
      "text/plain": [
       "false"
      ]
     },
     "execution_count": 18,
     "metadata": {},
     "output_type": "execute_result"
    }
   ],
   "source": [
    "#check the type of 'q' against another 'sibling' of Number\n",
    "isa(q,Float64)"
   ]
  },
  {
   "cell_type": "code",
   "execution_count": 19,
   "id": "9ec07123-a2a8-47a5-b29d-04348df44c01",
   "metadata": {},
   "outputs": [
    {
     "data": {
      "text/plain": [
       "true"
      ]
     },
     "execution_count": 19,
     "metadata": {},
     "output_type": "execute_result"
    }
   ],
   "source": [
    "#check the type of 'q' against another parent type\n",
    "isa(q,Number)"
   ]
  },
  {
   "cell_type": "code",
   "execution_count": 20,
   "id": "0bc2459a-c96c-43a8-a915-e98949dc5361",
   "metadata": {},
   "outputs": [
    {
     "ename": "LoadError",
     "evalue": "TypeError: in typeassert, expected String, got a value of type Int64",
     "output_type": "error",
     "traceback": [
      "TypeError: in typeassert, expected String, got a value of type Int64",
      "",
      "Stacktrace:",
      " [1] top-level scope",
      "   @ In[20]:2"
     ]
    }
   ],
   "source": [
    "#check against the wrong type\n",
    "q::String"
   ]
  },
  {
   "cell_type": "code",
   "execution_count": 21,
   "id": "597fd8e1-7483-4d82-a5f6-88b388fb52f4",
   "metadata": {},
   "outputs": [
    {
     "data": {
      "text/plain": [
       "10"
      ]
     },
     "execution_count": 21,
     "metadata": {},
     "output_type": "execute_result"
    }
   ],
   "source": [
    "#check against the parent type as an assertion\n",
    "q::Number"
   ]
  },
  {
   "cell_type": "code",
   "execution_count": 29,
   "id": "1205ca5e-92af-440a-b92d-5a41d630dcb2",
   "metadata": {},
   "outputs": [
    {
     "name": "stdout",
     "output_type": "stream",
     "text": [
      "Int64, true\n",
      "Int64, true\n",
      "Int64, false\n",
      "Int64, false\n",
      "Int64, false\n",
      "Int64, true\n"
     ]
    }
   ],
   "source": [
    "z::Int32 = 1\n",
    "println(typeof(x),\", \", typeof(z) <: Number) \n",
    "println(typeof(x),\", \", typeof(z) <: Int32)\n",
    "println(typeof(x),\", \", typeof(z) <: Int64)\n",
    "println(typeof(x),\", \", typeof(z) <: Int8)\n",
    "println(typeof(x),\", \", typeof(z) <: Char) \n",
    "println(typeof(x),\", \", typeof(z) <: Real) "
   ]
  },
  {
   "cell_type": "code",
   "execution_count": 30,
   "id": "2dbe6a68-9948-4b19-a59b-fa751b0fc17f",
   "metadata": {},
   "outputs": [
    {
     "data": {
      "text/plain": [
       "Float16(1.0)"
      ]
     },
     "execution_count": 30,
     "metadata": {},
     "output_type": "execute_result"
    }
   ],
   "source": [
    "#convert types\n",
    "z_float = Float16(z)"
   ]
  },
  {
   "cell_type": "code",
   "execution_count": 31,
   "id": "b08f2aa9-02bd-46c7-bf50-29ce436d9dee",
   "metadata": {},
   "outputs": [
    {
     "data": {
      "text/plain": [
       "Float16"
      ]
     },
     "execution_count": 31,
     "metadata": {},
     "output_type": "execute_result"
    }
   ],
   "source": [
    "typeof(z_float)"
   ]
  },
  {
   "cell_type": "code",
   "execution_count": 36,
   "id": "a653bce6-92aa-430e-9178-283aae05d14a",
   "metadata": {},
   "outputs": [
    {
     "data": {
      "text/plain": [
       "Float64"
      ]
     },
     "execution_count": 36,
     "metadata": {},
     "output_type": "execute_result"
    }
   ],
   "source": [
    "#typecasting for compatibility in operations\n",
    "a1::Float16 = 2\n",
    "a2::Float64 = 3\n",
    "b1::Int8 = 4\n",
    "a4 = a1+a2+b1\n",
    "typeof(a4)"
   ]
  },
  {
   "cell_type": "code",
   "execution_count": null,
   "id": "337c14e8-faaf-4dc9-aede-828d359053d8",
   "metadata": {},
   "outputs": [],
   "source": []
  },
  {
   "cell_type": "code",
   "execution_count": null,
   "id": "e46e3e56-47cc-4492-af89-c850538c0d0e",
   "metadata": {},
   "outputs": [],
   "source": []
  },
  {
   "cell_type": "code",
   "execution_count": 37,
   "id": "4d34d30a-5b35-466f-8ec0-71b823a3c79f",
   "metadata": {},
   "outputs": [],
   "source": [
    "#custom types\n",
    "#immutable structs, the fields cannot be modified after defining them\n",
    "struct Point\n",
    "    x::Float64\n",
    "    y::Float64\n",
    "end"
   ]
  },
  {
   "cell_type": "code",
   "execution_count": 38,
   "id": "9a6d5ccc-a864-43c0-bfc8-a348037651fd",
   "metadata": {},
   "outputs": [
    {
     "data": {
      "text/plain": [
       "Point(1.0, 2.0)"
      ]
     },
     "execution_count": 38,
     "metadata": {},
     "output_type": "execute_result"
    }
   ],
   "source": [
    "p1 = Point(1,2)"
   ]
  },
  {
   "cell_type": "code",
   "execution_count": 39,
   "id": "c7e20ddc-41db-4a92-aba6-9b09c40f9532",
   "metadata": {},
   "outputs": [
    {
     "name": "stdout",
     "output_type": "stream",
     "text": [
      "x = 1.0 y = 2.0\n"
     ]
    }
   ],
   "source": [
    "println(\"x = \", p1.x,\" y = \",p1.y)"
   ]
  },
  {
   "cell_type": "code",
   "execution_count": 40,
   "id": "091fdd73-3c55-4c33-9ca8-56ee9d2cd546",
   "metadata": {},
   "outputs": [
    {
     "ename": "LoadError",
     "evalue": "setfield!: immutable struct of type Point cannot be changed",
     "output_type": "error",
     "traceback": [
      "setfield!: immutable struct of type Point cannot be changed",
      "",
      "Stacktrace:",
      " [1] setproperty!(x::Point, f::Symbol, v::Int64)",
      "   @ Base ./Base.jl:39",
      " [2] top-level scope",
      "   @ In[40]:2"
     ]
    }
   ],
   "source": [
    "#try to change the values\n",
    "p1.x = 3"
   ]
  },
  {
   "cell_type": "code",
   "execution_count": 43,
   "id": "5d4cb215-75e3-4a8f-b54d-1780e783e4d8",
   "metadata": {},
   "outputs": [],
   "source": [
    "#now we can define a mutable struct which allows modifying the values\n",
    "mutable struct MutablePoint\n",
    "    x::Float64\n",
    "    y::Float64\n",
    "end"
   ]
  },
  {
   "cell_type": "code",
   "execution_count": 44,
   "id": "29ad9134-29c3-418f-a594-f4dd46faf2af",
   "metadata": {},
   "outputs": [
    {
     "data": {
      "text/plain": [
       "3.0"
      ]
     },
     "execution_count": 44,
     "metadata": {},
     "output_type": "execute_result"
    }
   ],
   "source": [
    "mp = MutablePoint(1.0, 2.0)\n",
    "mp.x = 3.0 "
   ]
  },
  {
   "cell_type": "code",
   "execution_count": 45,
   "id": "e5e578df-df51-4398-9d39-7c086e197c1c",
   "metadata": {},
   "outputs": [],
   "source": [
    "#we don't have to define types\n",
    "mutable struct Names\n",
    "    first\n",
    "    last\n",
    "end"
   ]
  },
  {
   "cell_type": "code",
   "execution_count": 46,
   "id": "d7769b51-f14d-4061-86ca-61bb87866e85",
   "metadata": {},
   "outputs": [
    {
     "data": {
      "text/plain": [
       "Names(\"alex\", \"manz\")"
      ]
     },
     "execution_count": 46,
     "metadata": {},
     "output_type": "execute_result"
    }
   ],
   "source": [
    "nms = Names(\"alex\",\"manz\")"
   ]
  },
  {
   "cell_type": "code",
   "execution_count": 55,
   "id": "08b671ba-e40b-41ba-bc75-0584c08f3f30",
   "metadata": {},
   "outputs": [],
   "source": [
    "#we can put commas and semicolons if we wish but must be consistent\n",
    "mutable struct NamesA\n",
    "    first,\n",
    "    last\n",
    "end\n",
    "mutable struct NamesB\n",
    "    first,\n",
    "    last\n",
    "end"
   ]
  },
  {
   "cell_type": "code",
   "execution_count": 56,
   "id": "5fe30a86-7528-4ab5-a847-414f8853e77b",
   "metadata": {},
   "outputs": [],
   "source": [
    "mutable struct NamesC\n",
    "    first; last; phone\n",
    "end"
   ]
  },
  {
   "cell_type": "code",
   "execution_count": 59,
   "id": "6ab73cbc-b859-4f10-9ea5-c44b39f98667",
   "metadata": {},
   "outputs": [],
   "source": [
    "mutable struct NamesE\n",
    "    first; last; phone\n",
    "end"
   ]
  },
  {
   "cell_type": "code",
   "execution_count": null,
   "id": "42602c33-6ad4-4ced-9564-2c1073c6bd29",
   "metadata": {},
   "outputs": [],
   "source": []
  },
  {
   "cell_type": "code",
   "execution_count": 60,
   "id": "a49f9dc3-beb7-4d90-9c34-46727a5e9e8f",
   "metadata": {},
   "outputs": [],
   "source": [
    "#we can make 'parametric types(structs)' they are akin to Generics\n",
    "struct parametricUser{T}\n",
    "    userID::T\n",
    "    userName\n",
    "end"
   ]
  },
  {
   "cell_type": "code",
   "execution_count": 63,
   "id": "aa661832-ad47-4a92-b6c4-bd7564442ba3",
   "metadata": {},
   "outputs": [
    {
     "data": {
      "text/plain": [
       "parametricUser{Float16}(Float16(123.0), \"John\")"
      ]
     },
     "execution_count": 63,
     "metadata": {},
     "output_type": "execute_result"
    }
   ],
   "source": [
    "pu1 = parametricUser( Float16(123), \"John\" )"
   ]
  },
  {
   "cell_type": "code",
   "execution_count": 67,
   "id": "a8d09ad3-8a26-4079-be6e-c1136af456ce",
   "metadata": {},
   "outputs": [
    {
     "name": "stdout",
     "output_type": "stream",
     "text": [
      "123.0\n",
      "Float16\n"
     ]
    }
   ],
   "source": [
    "println( pu1.userID )\n",
    "println( typeof(pu1.userID) )"
   ]
  },
  {
   "cell_type": "code",
   "execution_count": 71,
   "id": "efcc7a40-4e18-4ca9-8437-71b6af736585",
   "metadata": {},
   "outputs": [],
   "source": [
    "#we can make 'parametric types(structs)' with multiple parametric types and constrainst\n",
    "struct parametricUserB{T1,T2<:Int,T3<:String}\n",
    "    userID::T1\n",
    "    count::T2\n",
    "    userName::T3\n",
    "    appID::T1\n",
    "end"
   ]
  },
  {
   "cell_type": "code",
   "execution_count": 72,
   "id": "90dd4d47-6915-4805-9a90-d1509f242766",
   "metadata": {},
   "outputs": [
    {
     "data": {
      "text/plain": [
       "parametricUserB{Int64, Int64, String}(123, 2, \"John\", 21)"
      ]
     },
     "execution_count": 72,
     "metadata": {},
     "output_type": "execute_result"
    }
   ],
   "source": [
    "# ok\n",
    "parametricUserB(123,2,\"John\",21)"
   ]
  },
  {
   "cell_type": "code",
   "execution_count": 73,
   "id": "c3eb682e-45d4-4469-afc0-b3524b2e6a92",
   "metadata": {},
   "outputs": [
    {
     "ename": "LoadError",
     "evalue": "MethodError: no method matching parametricUserB(::Int64, ::Int64, ::Int64, ::Int64)\n\u001b[0mClosest candidates are:\n\u001b[0m  parametricUserB(::T1, ::T2, \u001b[91m::T3\u001b[39m, ::T1) where {T1, T2<:Int64, T3<:String} at In[71]:3",
     "output_type": "error",
     "traceback": [
      "MethodError: no method matching parametricUserB(::Int64, ::Int64, ::Int64, ::Int64)\n\u001b[0mClosest candidates are:\n\u001b[0m  parametricUserB(::T1, ::T2, \u001b[91m::T3\u001b[39m, ::T1) where {T1, T2<:Int64, T3<:String} at In[71]:3",
      "",
      "Stacktrace:",
      " [1] top-level scope",
      "   @ In[73]:2"
     ]
    }
   ],
   "source": [
    "# not ok, violates type constraint T3\n",
    "parametricUserB(123,2,0,21)"
   ]
  },
  {
   "cell_type": "code",
   "execution_count": 74,
   "id": "eeb5848f-06aa-4538-9274-079c7ae2a991",
   "metadata": {},
   "outputs": [
    {
     "ename": "LoadError",
     "evalue": "MethodError: no method matching parametricUserB(::Int64, ::Float64, ::String, ::Int64)\n\u001b[0mClosest candidates are:\n\u001b[0m  parametricUserB(::T1, \u001b[91m::T2\u001b[39m, ::T3, ::T1) where {T1, T2<:Int64, T3<:String} at In[71]:3",
     "output_type": "error",
     "traceback": [
      "MethodError: no method matching parametricUserB(::Int64, ::Float64, ::String, ::Int64)\n\u001b[0mClosest candidates are:\n\u001b[0m  parametricUserB(::T1, \u001b[91m::T2\u001b[39m, ::T3, ::T1) where {T1, T2<:Int64, T3<:String} at In[71]:3",
      "",
      "Stacktrace:",
      " [1] top-level scope",
      "   @ In[74]:2"
     ]
    }
   ],
   "source": [
    "# not ok, violates type constraint T2\n",
    "parametricUserB(123,1.2,\"John\",21)"
   ]
  },
  {
   "cell_type": "code",
   "execution_count": 75,
   "id": "9658aadb-989e-4172-b475-debe0c002cda",
   "metadata": {},
   "outputs": [
    {
     "ename": "LoadError",
     "evalue": "MethodError: no method matching parametricUserB(::Int64, ::Int64, ::String, ::Float64)\n\u001b[0mClosest candidates are:\n\u001b[0m  parametricUserB(::T1, ::T2, ::T3, \u001b[91m::T1\u001b[39m) where {T1, T2<:Int64, T3<:String} at In[71]:3",
     "output_type": "error",
     "traceback": [
      "MethodError: no method matching parametricUserB(::Int64, ::Int64, ::String, ::Float64)\n\u001b[0mClosest candidates are:\n\u001b[0m  parametricUserB(::T1, ::T2, ::T3, \u001b[91m::T1\u001b[39m) where {T1, T2<:Int64, T3<:String} at In[71]:3",
      "",
      "Stacktrace:",
      " [1] top-level scope",
      "   @ In[75]:2"
     ]
    }
   ],
   "source": [
    "# not ok, violates type constraint for 'userID' and 'appID' to be the same\n",
    "parametricUserB(123,12,\"John\",1.2)"
   ]
  },
  {
   "cell_type": "code",
   "execution_count": null,
   "id": "72a5068e-b390-4adf-8eec-dc25c7cedb08",
   "metadata": {},
   "outputs": [],
   "source": []
  },
  {
   "cell_type": "code",
   "execution_count": 76,
   "id": "f915d33b-c1a4-4783-ae87-7f9a927b51f5",
   "metadata": {},
   "outputs": [],
   "source": [
    "# inner constructor\n",
    "struct PositivePoint\n",
    "    x::Float64\n",
    "    y::Float64\n",
    "    PositivePoint(x, y) = x > 0 && y > 0 ? new(x, y) : throw(ArgumentError(\"Coordinates must be positive\"))\n",
    "end"
   ]
  },
  {
   "cell_type": "code",
   "execution_count": 77,
   "id": "e6617263-efec-457e-9943-2a4932a315b2",
   "metadata": {},
   "outputs": [
    {
     "data": {
      "text/plain": [
       "PositivePoint(2.0, 3.3)"
      ]
     },
     "execution_count": 77,
     "metadata": {},
     "output_type": "execute_result"
    }
   ],
   "source": [
    "pp1 = PositivePoint(2,3.3)"
   ]
  },
  {
   "cell_type": "code",
   "execution_count": 78,
   "id": "04bd2dae-36ed-4ef4-bfe5-833163516194",
   "metadata": {},
   "outputs": [
    {
     "ename": "LoadError",
     "evalue": "ArgumentError: Coordinates must be positive",
     "output_type": "error",
     "traceback": [
      "ArgumentError: Coordinates must be positive",
      "",
      "Stacktrace:",
      " [1] PositivePoint(x::Int64, y::Float64)",
      "   @ Main ./In[76]:5",
      " [2] top-level scope",
      "   @ In[78]:1"
     ]
    }
   ],
   "source": [
    "pp2 = PositivePoint(2,-3.3)"
   ]
  },
  {
   "cell_type": "code",
   "execution_count": null,
   "id": "94da5273-63cd-48b9-b947-04886405430f",
   "metadata": {},
   "outputs": [],
   "source": []
  },
  {
   "cell_type": "code",
   "execution_count": null,
   "id": "9149cfb9-38a7-42c1-89e1-b55a78470c10",
   "metadata": {},
   "outputs": [],
   "source": [
    "x::Union{Int, Float64} = 10  # x can be either an Int or a Float64"
   ]
  },
  {
   "cell_type": "code",
   "execution_count": null,
   "id": "b2ca3a2a-ffac-4deb-ad71-aa2c9cd2db1e",
   "metadata": {},
   "outputs": [],
   "source": []
  },
  {
   "cell_type": "code",
   "execution_count": null,
   "id": "98cc02d8-890b-4c3e-adaa-95dd6e9d18dc",
   "metadata": {},
   "outputs": [],
   "source": []
  },
  {
   "cell_type": "code",
   "execution_count": 127,
   "id": "fbae33e0-e8fe-4c64-b131-4776a4ccc19c",
   "metadata": {},
   "outputs": [
    {
     "name": "stdout",
     "output_type": "stream",
     "text": [
      "i = 1\n",
      "i = 2\n",
      "i = 3\n",
      "i = 4\n",
      "i = 5\n"
     ]
    }
   ],
   "source": [
    "for i in 1:5\n",
    "    print(\"i = $i\");print(\"\\n\")\n",
    "end"
   ]
  },
  {
   "cell_type": "code",
   "execution_count": 137,
   "id": "ad1b51c9-ac6f-4e3f-9068-2d4202a8cc38",
   "metadata": {},
   "outputs": [
    {
     "data": {
      "text/plain": [
       "-1.2:4.3:20.3"
      ]
     },
     "execution_count": 137,
     "metadata": {},
     "output_type": "execute_result"
    }
   ],
   "source": [
    "range(-1.2, stop=22, step=4.3)"
   ]
  },
  {
   "cell_type": "code",
   "execution_count": 138,
   "id": "ad522989-575c-4fa3-9ec5-1ce779dbb478",
   "metadata": {},
   "outputs": [
    {
     "name": "stdout",
     "output_type": "stream",
     "text": [
      "-1.2\n",
      "3.1\n",
      "7.4\n",
      "11.7\n",
      "16.0\n",
      "20.3\n"
     ]
    }
   ],
   "source": [
    "arr = [1, 2, 3, 4, 5]\n",
    "for x in range(-1.2, stop=22, step=4.3)\n",
    "    println(x)\n",
    "end"
   ]
  },
  {
   "cell_type": "code",
   "execution_count": null,
   "id": "0c687552-ad91-49d3-8dca-1d475b188e7e",
   "metadata": {},
   "outputs": [],
   "source": []
  },
  {
   "cell_type": "code",
   "execution_count": null,
   "id": "607c9761-f19e-49f3-b146-c5d5b99b16c0",
   "metadata": {},
   "outputs": [],
   "source": []
  },
  {
   "cell_type": "code",
   "execution_count": null,
   "id": "08ac0d46-ca18-48fd-85e0-889d038979a8",
   "metadata": {},
   "outputs": [],
   "source": []
  },
  {
   "cell_type": "code",
   "execution_count": null,
   "id": "4c072f5e-2891-4e0a-8211-c36ec001a352",
   "metadata": {},
   "outputs": [],
   "source": []
  },
  {
   "cell_type": "code",
   "execution_count": null,
   "id": "e8036f7b-623c-4078-9235-8cf397d9eb6a",
   "metadata": {},
   "outputs": [],
   "source": []
  },
  {
   "cell_type": "code",
   "execution_count": 139,
   "id": "9fd6c1e1-eb97-4d9a-8e12-c04ced28a049",
   "metadata": {},
   "outputs": [
    {
     "name": "stdout",
     "output_type": "stream",
     "text": [
      "Index: 1, Value: a\n",
      "Index: 2, Value: b\n",
      "Index: 3, Value: c\n"
     ]
    }
   ],
   "source": [
    "arr = [\"a\", \"b\", \"c\"]\n",
    "for (index, value) in enumerate(arr)\n",
    "    println(\"Index: $index, Value: $value\")\n",
    "end\n"
   ]
  },
  {
   "cell_type": "code",
   "execution_count": 140,
   "id": "6da26c99-94e7-425d-81cf-2ef8fc05665b",
   "metadata": {},
   "outputs": [
    {
     "name": "stdout",
     "output_type": "stream",
     "text": [
      "(1, 4)\n",
      "(1, 5)\n",
      "(1, 6)\n",
      "(2, 4)\n",
      "(2, 5)\n",
      "(2, 6)\n",
      "(3, 4)\n",
      "(3, 5)\n",
      "(3, 6)\n"
     ]
    }
   ],
   "source": [
    "for i in 1:3\n",
    "    for j in 4:6\n",
    "        println((i,j))\n",
    "    end\n",
    "end"
   ]
  },
  {
   "cell_type": "code",
   "execution_count": 141,
   "id": "4093212f-7013-4ef5-8b1f-9b85b170a73b",
   "metadata": {},
   "outputs": [
    {
     "name": "stdout",
     "output_type": "stream",
     "text": [
      "(1, 4)\n",
      "(1, 5)\n",
      "(1, 6)\n",
      "(2, 4)\n",
      "(2, 5)\n",
      "(2, 6)\n",
      "(3, 4)\n",
      "(3, 5)\n",
      "(3, 6)\n"
     ]
    }
   ],
   "source": [
    "for i in 1:3, j in 4:6\n",
    "    println((i, j))\n",
    "end\n"
   ]
  },
  {
   "cell_type": "code",
   "execution_count": 142,
   "id": "fb7349b0-c445-4096-b8cb-dee3ed341e0d",
   "metadata": {},
   "outputs": [
    {
     "name": "stdout",
     "output_type": "stream",
     "text": [
      "(1, 4, 7)\n",
      "(1, 4, 8)\n",
      "(1, 5, 7)\n",
      "(1, 5, 8)\n",
      "(1, 6, 7)\n",
      "(1, 6, 8)\n",
      "(2, 4, 7)\n",
      "(2, 4, 8)\n",
      "(2, 5, 7)\n",
      "(2, 5, 8)\n",
      "(2, 6, 7)\n",
      "(2, 6, 8)\n",
      "(3, 4, 7)\n",
      "(3, 4, 8)\n",
      "(3, 5, 7)\n",
      "(3, 5, 8)\n",
      "(3, 6, 7)\n",
      "(3, 6, 8)\n"
     ]
    }
   ],
   "source": [
    "for i in 1:3, j in 4:6, k in 7:8\n",
    "    println((i, j,k))\n",
    "end"
   ]
  },
  {
   "cell_type": "code",
   "execution_count": 143,
   "id": "63fa7db0-8360-4633-a61d-aa0731bd8ca3",
   "metadata": {},
   "outputs": [
    {
     "data": {
      "text/plain": [
       "Dict{Any, Any} with 4 entries:\n",
       "  \"c\" => [1, 2, 4]\n",
       "  \"b\" => 2\n",
       "  12  => 'c'\n",
       "  \"a\" => 1"
      ]
     },
     "execution_count": 143,
     "metadata": {},
     "output_type": "execute_result"
    }
   ],
   "source": [
    "dict = Dict(\"a\" => 1, \"b\" => 2, \"c\" => [1,2,4], 12 => 'c')"
   ]
  },
  {
   "cell_type": "code",
   "execution_count": 146,
   "id": "2690bd1f-e71b-4c55-9f0e-3acb9101fa35",
   "metadata": {},
   "outputs": [
    {
     "data": {
      "text/plain": [
       "3-element Vector{Int64}:\n",
       " 1\n",
       " 2\n",
       " 4"
      ]
     },
     "execution_count": 146,
     "metadata": {},
     "output_type": "execute_result"
    }
   ],
   "source": [
    "dict[\"c\"]"
   ]
  },
  {
   "cell_type": "code",
   "execution_count": 147,
   "id": "5e5356d6-d108-4c1b-a1e5-936ae36fe47a",
   "metadata": {},
   "outputs": [
    {
     "name": "stdout",
     "output_type": "stream",
     "text": [
      "Key: b, Value: 2\n",
      "Key: a, Value: 1\n"
     ]
    }
   ],
   "source": [
    "dict = Dict(\"a\" => 1, \"b\" => 2)\n",
    "for (key, value) in dict\n",
    "    println(\"Key: $key, Value: $value\")\n",
    "end\n"
   ]
  },
  {
   "cell_type": "code",
   "execution_count": null,
   "id": "61af4d0e-b7c9-40a8-ad38-82d41325be15",
   "metadata": {},
   "outputs": [],
   "source": []
  },
  {
   "cell_type": "code",
   "execution_count": null,
   "id": "6f7afe23-fe84-4725-a4b0-eb8acc7c401b",
   "metadata": {},
   "outputs": [],
   "source": []
  },
  {
   "cell_type": "code",
   "execution_count": null,
   "id": "98e070dd-0752-49ea-8e7c-1ae36b191e12",
   "metadata": {},
   "outputs": [],
   "source": []
  },
  {
   "cell_type": "code",
   "execution_count": 148,
   "id": "8bd3c254-e43a-4735-9aa1-09e84b1ac8d3",
   "metadata": {},
   "outputs": [
    {
     "data": {
      "text/plain": [
       "4-element Vector{Int64}:\n",
       " 1\n",
       " 2\n",
       " 4\n",
       " 5"
      ]
     },
     "execution_count": 148,
     "metadata": {},
     "output_type": "execute_result"
    }
   ],
   "source": [
    "arr = [1, 2, 3, 4, 5]\n",
    "deleteat!(arr, 3) "
   ]
  },
  {
   "cell_type": "code",
   "execution_count": null,
   "id": "f2b25645-9a5a-43af-a41b-19b1d3881667",
   "metadata": {},
   "outputs": [],
   "source": []
  },
  {
   "cell_type": "code",
   "execution_count": 152,
   "id": "6a616221-d651-4d00-9425-3b9b1a8cc8f2",
   "metadata": {},
   "outputs": [
    {
     "data": {
      "text/plain": [
       "f1 (generic function with 1 method)"
      ]
     },
     "execution_count": 152,
     "metadata": {},
     "output_type": "execute_result"
    }
   ],
   "source": []
  },
  {
   "cell_type": "code",
   "execution_count": 162,
   "id": "3cfab70c-1554-4c3d-8385-b7ffa1f940c6",
   "metadata": {},
   "outputs": [
    {
     "data": {
      "text/plain": [
       "11-element Vector{Int64}:\n",
       " 10\n",
       " 11\n",
       " 12\n",
       " 13\n",
       " 14\n",
       " 15\n",
       " 16\n",
       " 17\n",
       " 18\n",
       " 19\n",
       " 20"
      ]
     },
     "execution_count": 162,
     "metadata": {},
     "output_type": "execute_result"
    }
   ],
   "source": [
    "filter!( x-> x >=10 , collect(1:20))"
   ]
  },
  {
   "cell_type": "code",
   "execution_count": null,
   "id": "52cb073f-fdc5-4a85-8c05-6e6c5001eb1c",
   "metadata": {},
   "outputs": [],
   "source": []
  },
  {
   "cell_type": "code",
   "execution_count": null,
   "id": "783f2bdf-7014-4297-b1dd-8a0aacd54793",
   "metadata": {},
   "outputs": [],
   "source": []
  },
  {
   "cell_type": "code",
   "execution_count": 150,
   "id": "0ddd1f9b-c0d0-43dd-b560-742cbc42c11a",
   "metadata": {},
   "outputs": [
    {
     "data": {
      "text/plain": [
       "4-element Vector{Int64}:\n",
       " 1\n",
       " 2\n",
       " 4\n",
       " 5"
      ]
     },
     "execution_count": 150,
     "metadata": {},
     "output_type": "execute_result"
    }
   ],
   "source": [
    "arr = [1, 2, 3, 4, 5]\n",
    "filter!(x -> x != 3, arr)"
   ]
  },
  {
   "cell_type": "code",
   "execution_count": null,
   "id": "4bc447c3-955c-4601-ab99-b9678488caca",
   "metadata": {},
   "outputs": [],
   "source": []
  },
  {
   "cell_type": "code",
   "execution_count": 170,
   "id": "ba418910-fca4-4789-ad78-c7a90d0c37e0",
   "metadata": {},
   "outputs": [
    {
     "data": {
      "text/plain": [
       "6-element Vector{Int64}:\n",
       " 1\n",
       " 2\n",
       " 3\n",
       " 3\n",
       " 4\n",
       " 5"
      ]
     },
     "execution_count": 170,
     "metadata": {},
     "output_type": "execute_result"
    }
   ],
   "source": [
    "arr = [1, 2, 3]\n",
    "push!(arr, 3,4,5) "
   ]
  },
  {
   "cell_type": "code",
   "execution_count": 172,
   "id": "85598fbe-c8d1-40a5-8734-f21f67afdee6",
   "metadata": {},
   "outputs": [
    {
     "data": {
      "text/plain": [
       "6-element Vector{Int64}:\n",
       " 1\n",
       " 2\n",
       " 3\n",
       " 2\n",
       " 3\n",
       " 4"
      ]
     },
     "execution_count": 172,
     "metadata": {},
     "output_type": "execute_result"
    }
   ],
   "source": [
    "[ [1,2,3]..., [2,3,4]...]"
   ]
  },
  {
   "cell_type": "code",
   "execution_count": 179,
   "id": "4888fb43-dc75-402c-ab83-a2148c7f97d9",
   "metadata": {},
   "outputs": [
    {
     "data": {
      "text/plain": [
       "4-element Vector{Int64}:\n",
       "  1\n",
       " 22\n",
       "  2\n",
       "  4"
      ]
     },
     "execution_count": 179,
     "metadata": {},
     "output_type": "execute_result"
    }
   ],
   "source": [
    "arr = [1, 2, 4]\n",
    "insert!(arr, 2, 22)"
   ]
  },
  {
   "cell_type": "code",
   "execution_count": 180,
   "id": "da0db116-bd6e-4796-b834-735619b51f9a",
   "metadata": {},
   "outputs": [
    {
     "data": {
      "text/plain": [
       "6-element Vector{Int64}:\n",
       " 1\n",
       " 2\n",
       " 3\n",
       " 4\n",
       " 5\n",
       " 6"
      ]
     },
     "execution_count": 180,
     "metadata": {},
     "output_type": "execute_result"
    }
   ],
   "source": [
    "arr1 = [1, 2, 3]\n",
    "arr2 = [4, 5, 6]\n",
    "append!(arr1, arr2) "
   ]
  },
  {
   "cell_type": "code",
   "execution_count": 182,
   "id": "27c3b97d-8b02-4bf1-ae30-dc34be363fdd",
   "metadata": {},
   "outputs": [
    {
     "data": {
      "text/plain": [
       "6-element Vector{Int64}:\n",
       " 1\n",
       " 2\n",
       " 3\n",
       " 4\n",
       " 5\n",
       " 6"
      ]
     },
     "execution_count": 182,
     "metadata": {},
     "output_type": "execute_result"
    }
   ],
   "source": [
    "arr1"
   ]
  },
  {
   "cell_type": "code",
   "execution_count": null,
   "id": "0e287352-c605-4486-adc6-908412db5e55",
   "metadata": {},
   "outputs": [],
   "source": []
  },
  {
   "cell_type": "code",
   "execution_count": null,
   "id": "04d813ff-52b6-41eb-bdcb-a6f241884779",
   "metadata": {},
   "outputs": [],
   "source": []
  },
  {
   "cell_type": "code",
   "execution_count": 54,
   "id": "8f17abe6-8d1a-4213-a233-08b7bad4fad8",
   "metadata": {},
   "outputs": [
    {
     "data": {
      "text/plain": [
       "9-element Vector{Int64}:\n",
       " 1\n",
       " 2\n",
       " 3\n",
       " 2\n",
       " 4\n",
       " 6\n",
       " 3\n",
       " 6\n",
       " 9"
      ]
     },
     "execution_count": 54,
     "metadata": {},
     "output_type": "execute_result"
    }
   ],
   "source": [
    "#nested array\n",
    "result = [i * j for i in 1:3 for j in 1:3]"
   ]
  },
  {
   "cell_type": "code",
   "execution_count": 185,
   "id": "10bbc104-7306-4d8a-abf8-7a49909521ef",
   "metadata": {},
   "outputs": [
    {
     "data": {
      "text/plain": [
       "3×3×2 Array{Int64, 3}:\n",
       "[:, :, 1] =\n",
       " 1  2  3\n",
       " 2  4  6\n",
       " 3  6  9\n",
       "\n",
       "[:, :, 2] =\n",
       " 1  2  3\n",
       " 2  4  6\n",
       " 3  6  9"
      ]
     },
     "execution_count": 185,
     "metadata": {},
     "output_type": "execute_result"
    }
   ],
   "source": [
    "# include a comma to make into a matrix\n",
    "matrix_result = [i * j for i in 1:3, j in 1:3, k in 1:2]\n"
   ]
  },
  {
   "cell_type": "code",
   "execution_count": null,
   "id": "176ab334-2fae-4fa9-a1aa-ea2889bab4dc",
   "metadata": {},
   "outputs": [],
   "source": []
  },
  {
   "cell_type": "code",
   "execution_count": 189,
   "id": "420d9746-488b-4d53-ba11-9c471a36d399",
   "metadata": {},
   "outputs": [
    {
     "data": {
      "text/plain": [
       "5-element Vector{Int64}:\n",
       " 2\n",
       " 2\n",
       " 4\n",
       " 6\n",
       " 6"
      ]
     },
     "execution_count": 189,
     "metadata": {},
     "output_type": "execute_result"
    }
   ],
   "source": [
    "even_result = [i * j for i in 1:3 for j in 1:3 if (i * j) % 2 == 0]\n"
   ]
  },
  {
   "cell_type": "code",
   "execution_count": null,
   "id": "26c7ee8b-b826-40cf-91b9-b27cdfed3806",
   "metadata": {},
   "outputs": [],
   "source": []
  },
  {
   "cell_type": "code",
   "execution_count": null,
   "id": "73efe86c-dddf-40c1-877f-442a803bb1a7",
   "metadata": {},
   "outputs": [],
   "source": []
  },
  {
   "cell_type": "code",
   "execution_count": null,
   "id": "690c7996-8626-4e06-aece-91b2bbacecc7",
   "metadata": {},
   "outputs": [],
   "source": []
  },
  {
   "cell_type": "code",
   "execution_count": null,
   "id": "ba6dbe68-f380-4109-b078-bd1030410ca6",
   "metadata": {},
   "outputs": [],
   "source": []
  },
  {
   "cell_type": "code",
   "execution_count": null,
   "id": "c8513f1e-d8ba-4390-9813-97b9a6961c50",
   "metadata": {},
   "outputs": [],
   "source": []
  },
  {
   "cell_type": "code",
   "execution_count": null,
   "id": "5d446c2d-1148-447b-ae64-9d513e461afb",
   "metadata": {},
   "outputs": [],
   "source": []
  },
  {
   "cell_type": "code",
   "execution_count": null,
   "id": "7924c8be-619d-45ff-afdd-b9e2f587425c",
   "metadata": {},
   "outputs": [],
   "source": []
  }
 ],
 "metadata": {
  "kernelspec": {
   "display_name": "Julia 1.8.2",
   "language": "julia",
   "name": "julia-1.8"
  },
  "language_info": {
   "file_extension": ".jl",
   "mimetype": "application/julia",
   "name": "julia",
   "version": "1.8.2"
  }
 },
 "nbformat": 4,
 "nbformat_minor": 5
}
