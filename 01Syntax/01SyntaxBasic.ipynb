{
 "cells": [
  {
   "cell_type": "code",
   "execution_count": null,
   "metadata": {},
   "outputs": [],
   "source": []
  },
  {
   "cell_type": "code",
   "execution_count": 2,
   "metadata": {},
   "outputs": [],
   "source": [
    "# commented line is commented, all text here is ignored by Julia"
   ]
  },
  {
   "cell_type": "code",
   "execution_count": 3,
   "metadata": {},
   "outputs": [],
   "source": [
    "#=\n",
    "multiple\n",
    "commented \n",
    "lines\n",
    "=#\n",
    "\n",
    "#=multiple\n",
    "commented \n",
    "lines=#"
   ]
  },
  {
   "cell_type": "code",
   "execution_count": 4,
   "metadata": {},
   "outputs": [
    {
     "name": "stdout",
     "output_type": "stream",
     "text": [
      "Hello World!"
     ]
    }
   ],
   "source": [
    "#mandatory new language greeting\n",
    "print(\"Hello World!\")"
   ]
  },
  {
   "cell_type": "code",
   "execution_count": 5,
   "metadata": {},
   "outputs": [
    {
     "data": {
      "text/plain": [
       "10"
      ]
     },
     "execution_count": 5,
     "metadata": {},
     "output_type": "execute_result"
    }
   ],
   "source": [
    "#variable assignment \n",
    "x = 10"
   ]
  },
  {
   "cell_type": "code",
   "execution_count": 6,
   "metadata": {},
   "outputs": [
    {
     "name": "stdout",
     "output_type": "stream",
     "text": [
      "100\n"
     ]
    }
   ],
   "source": [
    "#reassignment\n",
    "x = 100\n",
    "println(x)"
   ]
  },
  {
   "cell_type": "code",
   "execution_count": 7,
   "metadata": {},
   "outputs": [
    {
     "data": {
      "text/plain": [
       "1000"
      ]
     },
     "execution_count": 7,
     "metadata": {},
     "output_type": "execute_result"
    }
   ],
   "source": [
    "#make it a constant\n",
    "const y = 1000"
   ]
  },
  {
   "cell_type": "code",
   "execution_count": 8,
   "metadata": {},
   "outputs": [
    {
     "name": "stderr",
     "output_type": "stream",
     "text": [
      "WARNING: redefinition of constant y. This may fail, cause incorrect answers, or produce other errors.\n"
     ]
    },
    {
     "data": {
      "text/plain": [
       "1"
      ]
     },
     "execution_count": 8,
     "metadata": {},
     "output_type": "execute_result"
    }
   ],
   "source": [
    "#attempt to reassign it, it does not produce an 'error' but produces a 'warning'\n",
    "#still mutable\n",
    "y = 1"
   ]
  },
  {
   "cell_type": "code",
   "execution_count": 9,
   "metadata": {},
   "outputs": [
    {
     "name": "stdout",
     "output_type": "stream",
     "text": [
      "1\n"
     ]
    }
   ],
   "source": [
    "#still reassigns though\n",
    "println(y)"
   ]
  },
  {
   "cell_type": "code",
   "execution_count": 10,
   "metadata": {},
   "outputs": [
    {
     "name": "stdout",
     "output_type": "stream",
     "text": [
      "y = 1\n"
     ]
    }
   ],
   "source": [
    "#'string interpolation', we can put variables inside strings \n",
    "println(\"y = $(y)\")"
   ]
  },
  {
   "cell_type": "code",
   "execution_count": 11,
   "metadata": {},
   "outputs": [
    {
     "name": "stdout",
     "output_type": "stream",
     "text": [
      "y = 2\n"
     ]
    }
   ],
   "source": [
    "#we can do computations inside the parenthesis of the string interpolation\n",
    "println(\"y = $(y+1)\")"
   ]
  },
  {
   "cell_type": "code",
   "execution_count": 12,
   "metadata": {},
   "outputs": [
    {
     "name": "stdout",
     "output_type": "stream",
     "text": [
      "y = 1\n"
     ]
    }
   ],
   "source": [
    "#we can omit the parenthesis when the variable does not include any operations on it before printing\n",
    "println(\"y = $y\")"
   ]
  },
  {
   "cell_type": "code",
   "execution_count": 13,
   "metadata": {},
   "outputs": [
    {
     "name": "stdout",
     "output_type": "stream",
     "text": [
      "x1=10, y1+x1=30, string data = cat\n"
     ]
    }
   ],
   "source": [
    "# multiple interpolation and operations including strings\n",
    "x1 = 10\n",
    "y1 = 20\n",
    "str1 = \"cat\"\n",
    "println(\"x1=$x1, y1+x1=$(y1 + x1), string data = $str1\")"
   ]
  },
  {
   "cell_type": "code",
   "execution_count": 14,
   "metadata": {},
   "outputs": [
    {
     "name": "stdout",
     "output_type": "stream",
     "text": [
      "no new line: 1, no new line: 2, new line after this: 3\n",
      "on new line: 4"
     ]
    }
   ],
   "source": [
    "#when can print without a new line being included\n",
    "print(\"no new line: 1, \")\n",
    "print(\"no new line: 2, \")\n",
    "println(\"new line after this: 3\")\n",
    "print(\"on new line: 4\")"
   ]
  },
  {
   "cell_type": "code",
   "execution_count": 15,
   "metadata": {},
   "outputs": [
    {
     "name": "stdout",
     "output_type": "stream",
     "text": [
      "a new lines after this\n",
      "no new line 1, no new line 2, new line after this \n",
      "now new line 3"
     ]
    }
   ],
   "source": [
    "#new lines can be produced manually by inserting a 'special character' within the string that is: \\n \n",
    "print(\"a new lines after this\\n\")\n",
    "print(\"no new line 1, \")\n",
    "print(\"no new line 2, \")\n",
    "print(\"new line after this \\n\")\n",
    "print(\"now new line 3\")"
   ]
  },
  {
   "cell_type": "code",
   "execution_count": null,
   "metadata": {},
   "outputs": [],
   "source": []
  },
  {
   "cell_type": "code",
   "execution_count": 16,
   "metadata": {},
   "outputs": [
    {
     "name": "stdout",
     "output_type": "stream",
     "text": [
      "20\n",
      "40\n",
      "60\n"
     ]
    }
   ],
   "source": [
    "#assign mutliple variables at once\n",
    "a,b,c = 20, 40, 60\n",
    "println(a)\n",
    "println(b)\n",
    "println(c)"
   ]
  },
  {
   "cell_type": "code",
   "execution_count": 17,
   "metadata": {},
   "outputs": [
    {
     "data": {
      "text/plain": [
       "11"
      ]
     },
     "execution_count": 17,
     "metadata": {},
     "output_type": "execute_result"
    }
   ],
   "source": [
    "#standard aritmetic\n",
    "t_0 = 10\n",
    "#addition\n",
    "t_1 = t_0 + 1"
   ]
  },
  {
   "cell_type": "code",
   "execution_count": 18,
   "metadata": {},
   "outputs": [
    {
     "name": "stdout",
     "output_type": "stream",
     "text": [
      "t_0 + 1 = 11\n",
      "-1\n"
     ]
    }
   ],
   "source": [
    "#print a descriptive string and the value\n",
    "println(\"t_0 + 1 = \", t_1)\n",
    "#subtraction\n",
    "t_2 = t_0 - t_1\n",
    "println( t_2 )"
   ]
  },
  {
   "cell_type": "code",
   "execution_count": 19,
   "metadata": {},
   "outputs": [
    {
     "name": "stdout",
     "output_type": "stream",
     "text": [
      "multiplication of t_2 * 10 = -10\n"
     ]
    }
   ],
   "source": [
    "#multiplication\n",
    "println(\"multiplication of t_2 * 10 = $( t_2*10 )\")"
   ]
  },
  {
   "cell_type": "code",
   "execution_count": 20,
   "metadata": {},
   "outputs": [
    {
     "name": "stdout",
     "output_type": "stream",
     "text": [
      "t_3 = t_0 ^ 2 = 100\n"
     ]
    }
   ],
   "source": [
    "#exponentiation\n",
    "t_3 = t_0 ^ 2\n",
    "println(\"t_3 = t_0 ^ 2 = $(t_3)\")"
   ]
  },
  {
   "cell_type": "code",
   "execution_count": 21,
   "metadata": {},
   "outputs": [
    {
     "name": "stdout",
     "output_type": "stream",
     "text": [
      "t_4 = t_0 / 2 = 5.0\n"
     ]
    }
   ],
   "source": [
    "#division\n",
    "t_4 = t_0 / 2\n",
    "println(\"t_4 = t_0 / 2 = $(t_4)\")"
   ]
  },
  {
   "cell_type": "code",
   "execution_count": 22,
   "metadata": {},
   "outputs": [
    {
     "data": {
      "text/plain": [
       "3.3333333333333335"
      ]
     },
     "execution_count": 22,
     "metadata": {},
     "output_type": "execute_result"
    }
   ],
   "source": [
    "# division\n",
    "t_5 = t_0 / 3"
   ]
  },
  {
   "cell_type": "code",
   "execution_count": 23,
   "metadata": {},
   "outputs": [
    {
     "data": {
      "text/plain": [
       "10//3"
      ]
     },
     "execution_count": 23,
     "metadata": {},
     "output_type": "execute_result"
    }
   ],
   "source": [
    "# make fractions, the double forward slash, // , stops julia from making decimal numbers\n",
    "t_6 = t_0 // 3"
   ]
  },
  {
   "cell_type": "code",
   "execution_count": 24,
   "metadata": {},
   "outputs": [
    {
     "data": {
      "text/plain": [
       "61//12"
      ]
     },
     "execution_count": 24,
     "metadata": {},
     "output_type": "execute_result"
    }
   ],
   "source": [
    "# add fractions together\n",
    "t_7 = (t_0 // 3) + (7 // 4)"
   ]
  },
  {
   "cell_type": "code",
   "execution_count": 25,
   "metadata": {},
   "outputs": [],
   "source": [
    "# putting a semicolon at the end of a statement keeps it from printing by default the result of the last statement\n",
    "10 * 3;"
   ]
  },
  {
   "cell_type": "code",
   "execution_count": 26,
   "metadata": {},
   "outputs": [
    {
     "name": "stdout",
     "output_type": "stream",
     "text": [
      "25//7"
     ]
    }
   ],
   "source": [
    "#we can put multiple statements on the same line if we put semicolons between them\n",
    "x = 5; x2 = x^2; x2 = x2 // 7; print(x2)"
   ]
  },
  {
   "cell_type": "code",
   "execution_count": null,
   "metadata": {},
   "outputs": [],
   "source": []
  },
  {
   "cell_type": "markdown",
   "metadata": {},
   "source": [
    "## Strings"
   ]
  },
  {
   "cell_type": "code",
   "execution_count": 27,
   "metadata": {},
   "outputs": [
    {
     "name": "stdout",
     "output_type": "stream",
     "text": [
      "Howdy!\n"
     ]
    }
   ],
   "source": [
    "# strings\n",
    "s1 = \"Howdy!\"\n",
    "println(s1)"
   ]
  },
  {
   "cell_type": "code",
   "execution_count": 28,
   "metadata": {},
   "outputs": [
    {
     "name": "stdout",
     "output_type": "stream",
     "text": [
      "s1 = Howdy!\n"
     ]
    }
   ],
   "source": [
    "# we can do string interpolation with a string\n",
    "println(\"s1 = $(s1)\")"
   ]
  },
  {
   "cell_type": "code",
   "execution_count": 29,
   "metadata": {},
   "outputs": [
    {
     "data": {
      "text/plain": [
       "\"Howdy! How are you?\""
      ]
     },
     "execution_count": 29,
     "metadata": {},
     "output_type": "execute_result"
    }
   ],
   "source": [
    "# concatenate strings with the asterix, with numbers it is a multiplication and with strings it puts them together\n",
    "s2 = s1 * \" How are you?\""
   ]
  },
  {
   "cell_type": "code",
   "execution_count": 30,
   "metadata": {},
   "outputs": [
    {
     "name": "stdout",
     "output_type": "stream",
     "text": [
      "length of s2 = 19\n"
     ]
    }
   ],
   "source": [
    "# length of a string\n",
    "s2_length = length(s2)\n",
    "println(\"length of s2 = $(s2_length)\")"
   ]
  },
  {
   "cell_type": "code",
   "execution_count": 31,
   "metadata": {},
   "outputs": [
    {
     "data": {
      "text/plain": [
       "\"Howdy! How a\""
      ]
     },
     "execution_count": 31,
     "metadata": {},
     "output_type": "execute_result"
    }
   ],
   "source": [
    "# subset of the string (treat like an array) to get a selected range of characters\n",
    "s3 = s2[1:12]"
   ]
  },
  {
   "cell_type": "code",
   "execution_count": 32,
   "metadata": {},
   "outputs": [
    {
     "data": {
      "text/plain": [
       "\"y! How a\""
      ]
     },
     "execution_count": 32,
     "metadata": {},
     "output_type": "execute_result"
    }
   ],
   "source": [
    "s4 = s2[5:12]"
   ]
  },
  {
   "cell_type": "code",
   "execution_count": 33,
   "metadata": {},
   "outputs": [
    {
     "data": {
      "text/plain": [
       "\"y! How are you?\""
      ]
     },
     "execution_count": 33,
     "metadata": {},
     "output_type": "execute_result"
    }
   ],
   "source": [
    "#for arrays there is a keyword 'end' to get the last index\n",
    "s2[5:end]"
   ]
  },
  {
   "cell_type": "code",
   "execution_count": 34,
   "metadata": {},
   "outputs": [
    {
     "data": {
      "text/plain": [
       "\"Hwy\""
      ]
     },
     "execution_count": 34,
     "metadata": {},
     "output_type": "execute_result"
    }
   ],
   "source": [
    "#get a non-consequetive set of the characters as a string returned\n",
    "s2[[1,3,5]]"
   ]
  },
  {
   "cell_type": "code",
   "execution_count": 35,
   "metadata": {},
   "outputs": [
    {
     "data": {
      "text/plain": [
       "\"Hw How \""
      ]
     },
     "execution_count": 35,
     "metadata": {},
     "output_type": "execute_result"
    }
   ],
   "source": [
    "#combine individual indices (positions) in the array with the operation of ... called 'splat' to expand the range into the array\n",
    "s2[[1,3,7:11...]]"
   ]
  },
  {
   "cell_type": "code",
   "execution_count": 36,
   "metadata": {},
   "outputs": [
    {
     "data": {
      "text/plain": [
       "\"Hw How are you?\""
      ]
     },
     "execution_count": 36,
     "metadata": {},
     "output_type": "execute_result"
    }
   ],
   "source": [
    "#use the end keyword to get the remaining characters of the string\n",
    "s2[[1,3,7:end...]]"
   ]
  },
  {
   "cell_type": "code",
   "execution_count": 37,
   "metadata": {},
   "outputs": [
    {
     "data": {
      "text/plain": [
       "\"How! How are you?\""
      ]
     },
     "execution_count": 37,
     "metadata": {},
     "output_type": "execute_result"
    }
   ],
   "source": [
    "#by reassigning a string to a subset of itself\n",
    "s2_orig = s2\n",
    "s2 = s2[1:3] * s2[6:end]\n",
    "s2"
   ]
  },
  {
   "cell_type": "code",
   "execution_count": 38,
   "metadata": {},
   "outputs": [
    {
     "data": {
      "text/plain": [
       "\"Howdy! How are you?\""
      ]
     },
     "execution_count": 38,
     "metadata": {},
     "output_type": "execute_result"
    }
   ],
   "source": [
    "#bring back the original value\n",
    "s2 = s2_orig"
   ]
  },
  {
   "cell_type": "code",
   "execution_count": 39,
   "metadata": {},
   "outputs": [
    {
     "data": {
      "text/plain": [
       "\"Hiya pal! How are you?\""
      ]
     },
     "execution_count": 39,
     "metadata": {},
     "output_type": "execute_result"
    }
   ],
   "source": [
    "#replace parts of a string with another string with the 'replace' function, it uses the operation of producing a 'pair' with =>\n",
    "s7 = replace(s2, \"Howdy\" => \"Hiya pal\")\n",
    "s7"
   ]
  },
  {
   "cell_type": "code",
   "execution_count": 40,
   "metadata": {},
   "outputs": [
    {
     "data": {
      "text/plain": [
       "\"Hiya! What are you?\""
      ]
     },
     "execution_count": 40,
     "metadata": {},
     "output_type": "execute_result"
    }
   ],
   "source": [
    "# multiple substring replace using the pairs operator '=>'\n",
    "s7 = replace(s2, \"Howdy\" => \"Hiya\", \"How\" => \"What\")"
   ]
  },
  {
   "cell_type": "code",
   "execution_count": 41,
   "metadata": {},
   "outputs": [
    {
     "data": {
      "text/plain": [
       "\"Hiya! What are you?\""
      ]
     },
     "execution_count": 41,
     "metadata": {},
     "output_type": "execute_result"
    }
   ],
   "source": [
    "# multiple substring replace using the pairs operator '=>' of an array of pairs that have to be expanded with splat\n",
    "s7 = replace(s2, [\"Howdy\" => \"Hiya\", \"How\" => \"What\"]...)"
   ]
  },
  {
   "cell_type": "code",
   "execution_count": 42,
   "metadata": {},
   "outputs": [
    {
     "data": {
      "text/plain": [
       "\"Hiya! What are you?  Are you good?\""
      ]
     },
     "execution_count": 42,
     "metadata": {},
     "output_type": "execute_result"
    }
   ],
   "source": [
    "#we can construct a string using the string function\n",
    "s8 = string(s7, \"  Are you good?\")"
   ]
  },
  {
   "cell_type": "code",
   "execution_count": null,
   "metadata": {},
   "outputs": [],
   "source": []
  },
  {
   "cell_type": "markdown",
   "metadata": {},
   "source": [
    "## characters"
   ]
  },
  {
   "cell_type": "code",
   "execution_count": 43,
   "metadata": {},
   "outputs": [
    {
     "name": "stdout",
     "output_type": "stream",
     "text": [
      "c_str = Hi\n"
     ]
    }
   ],
   "source": [
    "#build up a string from characters\n",
    "c1 = 'H'\n",
    "c2 = 'i'\n",
    "c_str = string(c1,c2)\n",
    "println(\"c_str = \",c_str)"
   ]
  },
  {
   "cell_type": "code",
   "execution_count": 44,
   "metadata": {},
   "outputs": [
    {
     "data": {
      "text/plain": [
       "\"Çī\""
      ]
     },
     "execution_count": 44,
     "metadata": {},
     "output_type": "execute_result"
    }
   ],
   "source": [
    "string( 'c' + 100, 'c' + 200)"
   ]
  },
  {
   "cell_type": "code",
   "execution_count": 45,
   "metadata": {},
   "outputs": [
    {
     "data": {
      "text/plain": [
       "'º': Unicode U+00BA (category Lo: Letter, other)"
      ]
     },
     "execution_count": 45,
     "metadata": {},
     "output_type": "execute_result"
    }
   ],
   "source": [
    "Char(Int('c')+87)"
   ]
  },
  {
   "cell_type": "code",
   "execution_count": 46,
   "metadata": {},
   "outputs": [
    {
     "data": {
      "text/plain": [
       "4-element Vector{Char}:\n",
       " '7': ASCII/Unicode U+0037 (category Nd: Number, decimal digit)\n",
       " '{': ASCII/Unicode U+007B (category Ps: Punctuation, open)\n",
       " '+': ASCII/Unicode U+002B (category Sm: Symbol, math)\n",
       " 'Ƽ': Unicode U+01BC (category Lu: Letter, uppercase)"
      ]
     },
     "execution_count": 46,
     "metadata": {},
     "output_type": "execute_result"
    }
   ],
   "source": [
    "Char.([55,123,43,444])"
   ]
  },
  {
   "cell_type": "code",
   "execution_count": null,
   "metadata": {},
   "outputs": [],
   "source": []
  },
  {
   "cell_type": "code",
   "execution_count": 47,
   "metadata": {},
   "outputs": [
    {
     "name": "stdout",
     "output_type": "stream",
     "text": [
      "12.3"
     ]
    }
   ],
   "source": [
    "#UTF-8 encoding\n",
    "δ = 1.23\n",
    "print( δ * 10 )"
   ]
  },
  {
   "cell_type": "code",
   "execution_count": 48,
   "metadata": {},
   "outputs": [
    {
     "data": {
      "text/plain": [
       "π = 3.1415926535897..."
      ]
     },
     "execution_count": 48,
     "metadata": {},
     "output_type": "execute_result"
    }
   ],
   "source": [
    "#there are some built in constants\n",
    "pi"
   ]
  },
  {
   "cell_type": "code",
   "execution_count": 49,
   "metadata": {},
   "outputs": [
    {
     "data": {
      "text/plain": [
       "2.718281828459045"
      ]
     },
     "execution_count": 49,
     "metadata": {},
     "output_type": "execute_result"
    }
   ],
   "source": [
    "#built in methods of constants\n",
    "exp(1)"
   ]
  },
  {
   "cell_type": "code",
   "execution_count": 50,
   "metadata": {},
   "outputs": [],
   "source": [
    "#variable names must begin with a letter [A-Z,a-z] or an underscore, or Unicode greater than 00A0, \n",
    "#Unicode character categories Lu/Ll/Lt/Lm/Lo/Nl (letters), Sc/So (currency and other symbols), and \n",
    "# a few other letter-like characters (e.g. a subset of the Sm math symbols) are allowed\n",
    "# Subsequent characters may also include ! and digits (0-9 and other characters in categories Nd/No), \n",
    "# as well as other Unicode code points: diacritics and other modifying marks (categories Mn/Mc/Me/Sk), \n",
    "# some punctuation connectors (category Pc), primes, and a few other characters."
   ]
  },
  {
   "cell_type": "code",
   "execution_count": 51,
   "metadata": {},
   "outputs": [
    {
     "data": {
      "text/plain": [
       "(1, 2, 3)"
      ]
     },
     "execution_count": 51,
     "metadata": {},
     "output_type": "execute_result"
    }
   ],
   "source": [
    "#an underscore '_' can be used to discard values\n",
    "a,_,c = (1,2,3)"
   ]
  },
  {
   "cell_type": "code",
   "execution_count": 52,
   "metadata": {},
   "outputs": [
    {
     "data": {
      "text/plain": [
       "1"
      ]
     },
     "execution_count": 52,
     "metadata": {},
     "output_type": "execute_result"
    }
   ],
   "source": [
    "a"
   ]
  },
  {
   "cell_type": "code",
   "execution_count": 53,
   "metadata": {},
   "outputs": [
    {
     "data": {
      "text/plain": [
       "3"
      ]
     },
     "execution_count": 53,
     "metadata": {},
     "output_type": "execute_result"
    }
   ],
   "source": [
    "c"
   ]
  },
  {
   "cell_type": "code",
   "execution_count": 54,
   "metadata": {},
   "outputs": [],
   "source": [
    "# you cannot use keywords like 'if' 'else' etc as variable names"
   ]
  },
  {
   "cell_type": "code",
   "execution_count": null,
   "metadata": {},
   "outputs": [],
   "source": []
  },
  {
   "cell_type": "markdown",
   "metadata": {},
   "source": [
    "## chaining expressions\n",
    "var1 = var2 = var3\n",
    "\n",
    "this can be generalized by saying: `variable = value` \n",
    "\n",
    "each value is computed on the right hand side. The whole assignment is considered as an expression equal to the right hand side `value`. "
   ]
  },
  {
   "cell_type": "code",
   "execution_count": 55,
   "metadata": {},
   "outputs": [
    {
     "name": "stdout",
     "output_type": "stream",
     "text": [
      "a = 10\n",
      "b = 10\n",
      "c = 10\n"
     ]
    }
   ],
   "source": [
    "a = b = c = 10\n",
    "println(\"a = $a\")\n",
    "println(\"b = $b\")\n",
    "println(\"c = $c\")"
   ]
  },
  {
   "cell_type": "code",
   "execution_count": 56,
   "metadata": {},
   "outputs": [
    {
     "name": "stdout",
     "output_type": "stream",
     "text": [
      "a = 20\n",
      "b = 20\n",
      "c = 10\n"
     ]
    }
   ],
   "source": [
    "a = b = (c = 10) * 2\n",
    "println(\"a = $a\")\n",
    "println(\"b = $b\")\n",
    "println(\"c = $c\")"
   ]
  },
  {
   "cell_type": "code",
   "execution_count": 57,
   "metadata": {},
   "outputs": [
    {
     "name": "stdout",
     "output_type": "stream",
     "text": [
      "a = 5.0\n",
      "b = 20\n",
      "c = 10\n"
     ]
    }
   ],
   "source": [
    "a = (b = (c = 10) * 2) / 4\n",
    "println(\"a = $a\")\n",
    "println(\"b = $b\")\n",
    "println(\"c = $c\")"
   ]
  },
  {
   "cell_type": "code",
   "execution_count": null,
   "metadata": {},
   "outputs": [],
   "source": []
  },
  {
   "cell_type": "code",
   "execution_count": null,
   "metadata": {},
   "outputs": [],
   "source": []
  },
  {
   "cell_type": "code",
   "execution_count": null,
   "metadata": {},
   "outputs": [],
   "source": []
  },
  {
   "cell_type": "code",
   "execution_count": 58,
   "metadata": {},
   "outputs": [
    {
     "data": {
      "text/plain": [
       "4"
      ]
     },
     "execution_count": 58,
     "metadata": {},
     "output_type": "execute_result"
    }
   ],
   "source": [
    "#specify the types at declaration \n",
    "q::Int = 10\n",
    "r::Int64 = 20\n",
    "s::Float64 = 3.14\n",
    "t::String = \"Hi!\"\n",
    "u = \"Hey\"\n",
    "f::UInt8 = 4"
   ]
  },
  {
   "cell_type": "code",
   "execution_count": 59,
   "metadata": {},
   "outputs": [
    {
     "data": {
      "text/plain": [
       "Int64"
      ]
     },
     "execution_count": 59,
     "metadata": {},
     "output_type": "execute_result"
    }
   ],
   "source": [
    "#get the type of 'q'\n",
    "typeof(q)"
   ]
  },
  {
   "cell_type": "code",
   "execution_count": 60,
   "metadata": {},
   "outputs": [
    {
     "data": {
      "text/plain": [
       "true"
      ]
     },
     "execution_count": 60,
     "metadata": {},
     "output_type": "execute_result"
    }
   ],
   "source": [
    "#check the type of 'q' against another\n",
    "isa(q,Int)"
   ]
  },
  {
   "cell_type": "code",
   "execution_count": 61,
   "metadata": {},
   "outputs": [
    {
     "data": {
      "text/plain": [
       "false"
      ]
     },
     "execution_count": 61,
     "metadata": {},
     "output_type": "execute_result"
    }
   ],
   "source": [
    "#check the type of 'q' against another 'sibling' of Number\n",
    "isa(q,Float64)"
   ]
  },
  {
   "cell_type": "code",
   "execution_count": 62,
   "metadata": {},
   "outputs": [
    {
     "data": {
      "text/plain": [
       "true"
      ]
     },
     "execution_count": 62,
     "metadata": {},
     "output_type": "execute_result"
    }
   ],
   "source": [
    "#check the type of 'q' against another parent type\n",
    "isa(q,Number)"
   ]
  },
  {
   "cell_type": "code",
   "execution_count": 63,
   "metadata": {},
   "outputs": [
    {
     "ename": "LoadError",
     "evalue": "TypeError: in typeassert, expected String, got a value of type Int64",
     "output_type": "error",
     "traceback": [
      "TypeError: in typeassert, expected String, got a value of type Int64",
      "",
      "Stacktrace:",
      " [1] top-level scope",
      "   @ In[63]:2"
     ]
    }
   ],
   "source": [
    "#check against the wrong type\n",
    "q::String"
   ]
  },
  {
   "cell_type": "code",
   "execution_count": 64,
   "metadata": {},
   "outputs": [
    {
     "data": {
      "text/plain": [
       "10"
      ]
     },
     "execution_count": 64,
     "metadata": {},
     "output_type": "execute_result"
    }
   ],
   "source": [
    "#check against the parent type as an assertion\n",
    "q::Number"
   ]
  },
  {
   "cell_type": "code",
   "execution_count": 65,
   "metadata": {},
   "outputs": [
    {
     "data": {
      "text/plain": [
       "55"
      ]
     },
     "execution_count": 65,
     "metadata": {},
     "output_type": "execute_result"
    }
   ],
   "source": [
    "f = 55"
   ]
  },
  {
   "cell_type": "code",
   "execution_count": 66,
   "metadata": {},
   "outputs": [
    {
     "ename": "LoadError",
     "evalue": "InexactError: trunc(UInt8, -3)",
     "output_type": "error",
     "traceback": [
      "InexactError: trunc(UInt8, -3)",
      "",
      "Stacktrace:",
      " [1] throw_inexacterror(f::Symbol, #unused#::Type{UInt8}, val::Int64)",
      "   @ Core ./boot.jl:614",
      " [2] checked_trunc_uint",
      "   @ ./boot.jl:644 [inlined]",
      " [3] toUInt8",
      "   @ ./boot.jl:706 [inlined]",
      " [4] UInt8",
      "   @ ./boot.jl:766 [inlined]",
      " [5] convert(#unused#::Type{UInt8}, x::Int64)",
      "   @ Base ./number.jl:7",
      " [6] top-level scope",
      "   @ In[66]:1"
     ]
    }
   ],
   "source": [
    "f = -3"
   ]
  },
  {
   "cell_type": "code",
   "execution_count": null,
   "metadata": {},
   "outputs": [],
   "source": []
  },
  {
   "cell_type": "code",
   "execution_count": null,
   "metadata": {},
   "outputs": [],
   "source": []
  },
  {
   "cell_type": "code",
   "execution_count": null,
   "metadata": {},
   "outputs": [],
   "source": []
  },
  {
   "cell_type": "code",
   "execution_count": 67,
   "metadata": {},
   "outputs": [
    {
     "name": "stdout",
     "output_type": "stream",
     "text": [
      "Int64, true\n",
      "Int64, true\n",
      "Int64, false\n",
      "Int64, false\n",
      "Int64, false\n",
      "Int64, true\n"
     ]
    }
   ],
   "source": [
    "z::Int32 = 1\n",
    "println(typeof(x),\", \", typeof(z) <: Number) \n",
    "println(typeof(x),\", \", typeof(z) <: Int32)\n",
    "println(typeof(x),\", \", typeof(z) <: Int64)\n",
    "println(typeof(x),\", \", typeof(z) <: Int8)\n",
    "println(typeof(x),\", \", typeof(z) <: Char) \n",
    "println(typeof(x),\", \", typeof(z) <: Real) "
   ]
  },
  {
   "cell_type": "code",
   "execution_count": 68,
   "metadata": {},
   "outputs": [
    {
     "data": {
      "text/plain": [
       "Float16(1.0)"
      ]
     },
     "execution_count": 68,
     "metadata": {},
     "output_type": "execute_result"
    }
   ],
   "source": [
    "#convert types\n",
    "z_float = Float16(z)"
   ]
  },
  {
   "cell_type": "code",
   "execution_count": 69,
   "metadata": {},
   "outputs": [
    {
     "data": {
      "text/plain": [
       "Float16"
      ]
     },
     "execution_count": 69,
     "metadata": {},
     "output_type": "execute_result"
    }
   ],
   "source": [
    "typeof(z_float)"
   ]
  },
  {
   "cell_type": "code",
   "execution_count": 70,
   "metadata": {},
   "outputs": [
    {
     "data": {
      "text/plain": [
       "Float64"
      ]
     },
     "execution_count": 70,
     "metadata": {},
     "output_type": "execute_result"
    }
   ],
   "source": [
    "#typecasting for compatibility in operations\n",
    "a1::Float16 = 2\n",
    "a2::Float64 = 3\n",
    "b1::Int8 = 4\n",
    "a4 = a1+a2+b1\n",
    "typeof(a4)"
   ]
  },
  {
   "cell_type": "code",
   "execution_count": null,
   "metadata": {},
   "outputs": [],
   "source": []
  },
  {
   "cell_type": "code",
   "execution_count": null,
   "metadata": {},
   "outputs": [],
   "source": []
  },
  {
   "cell_type": "code",
   "execution_count": 71,
   "metadata": {},
   "outputs": [],
   "source": [
    "#custom types\n",
    "#immutable structs, the fields cannot be modified after defining them\n",
    "struct Point\n",
    "    x::Float64\n",
    "    y::Float64\n",
    "end"
   ]
  },
  {
   "cell_type": "code",
   "execution_count": 72,
   "metadata": {},
   "outputs": [
    {
     "data": {
      "text/plain": [
       "Point(1.0, 2.0)"
      ]
     },
     "execution_count": 72,
     "metadata": {},
     "output_type": "execute_result"
    }
   ],
   "source": [
    "p1 = Point(1,2)"
   ]
  },
  {
   "cell_type": "code",
   "execution_count": 73,
   "metadata": {},
   "outputs": [
    {
     "name": "stdout",
     "output_type": "stream",
     "text": [
      "x = 1.0 y = 2.0\n"
     ]
    }
   ],
   "source": [
    "println(\"x = \", p1.x,\" y = \",p1.y)"
   ]
  },
  {
   "cell_type": "code",
   "execution_count": 74,
   "metadata": {},
   "outputs": [
    {
     "ename": "LoadError",
     "evalue": "setfield!: immutable struct of type Point cannot be changed",
     "output_type": "error",
     "traceback": [
      "setfield!: immutable struct of type Point cannot be changed",
      "",
      "Stacktrace:",
      " [1] setproperty!(x::Point, f::Symbol, v::Int64)",
      "   @ Base ./Base.jl:39",
      " [2] top-level scope",
      "   @ In[74]:2"
     ]
    }
   ],
   "source": [
    "#try to change the values\n",
    "p1.x = 3"
   ]
  },
  {
   "cell_type": "code",
   "execution_count": 75,
   "metadata": {},
   "outputs": [],
   "source": [
    "#now we can define a mutable struct which allows modifying the values\n",
    "mutable struct MutablePoint\n",
    "    x::Float64\n",
    "    y::Float64\n",
    "end"
   ]
  },
  {
   "cell_type": "code",
   "execution_count": 76,
   "metadata": {},
   "outputs": [
    {
     "data": {
      "text/plain": [
       "3.0"
      ]
     },
     "execution_count": 76,
     "metadata": {},
     "output_type": "execute_result"
    }
   ],
   "source": [
    "mp = MutablePoint(1.0, 2.0)\n",
    "mp.x = 3.0 "
   ]
  },
  {
   "cell_type": "code",
   "execution_count": 77,
   "metadata": {},
   "outputs": [],
   "source": [
    "#we don't have to define types\n",
    "mutable struct Names\n",
    "    first\n",
    "    last\n",
    "end"
   ]
  },
  {
   "cell_type": "code",
   "execution_count": 78,
   "metadata": {},
   "outputs": [
    {
     "data": {
      "text/plain": [
       "Names(\"alex\", \"manz\")"
      ]
     },
     "execution_count": 78,
     "metadata": {},
     "output_type": "execute_result"
    }
   ],
   "source": [
    "nms = Names(\"alex\",\"manz\")"
   ]
  },
  {
   "cell_type": "code",
   "execution_count": 79,
   "metadata": {},
   "outputs": [],
   "source": [
    "#we can put commas and semicolons if we wish but must be consistent\n",
    "mutable struct NamesA\n",
    "    first,\n",
    "    last\n",
    "end\n",
    "mutable struct NamesB2\n",
    "    first\n",
    "    last\n",
    "end"
   ]
  },
  {
   "cell_type": "code",
   "execution_count": 80,
   "metadata": {},
   "outputs": [],
   "source": [
    "mutable struct NamesC\n",
    "    first; last; phone\n",
    "end"
   ]
  },
  {
   "cell_type": "code",
   "execution_count": 81,
   "metadata": {},
   "outputs": [],
   "source": [
    "mutable struct NamesE\n",
    "    first; last; phone\n",
    "end"
   ]
  },
  {
   "cell_type": "code",
   "execution_count": null,
   "metadata": {},
   "outputs": [],
   "source": []
  },
  {
   "cell_type": "code",
   "execution_count": 82,
   "metadata": {},
   "outputs": [],
   "source": [
    "#we can make 'parametric types(structs)' they are akin to Generics\n",
    "struct parametricUser{T}\n",
    "    userID::T\n",
    "    userName\n",
    "end"
   ]
  },
  {
   "cell_type": "code",
   "execution_count": 83,
   "metadata": {},
   "outputs": [
    {
     "data": {
      "text/plain": [
       "parametricUser{Float16}(Float16(123.0), \"John\")"
      ]
     },
     "execution_count": 83,
     "metadata": {},
     "output_type": "execute_result"
    }
   ],
   "source": [
    "pu1 = parametricUser( Float16(123), \"John\" )"
   ]
  },
  {
   "cell_type": "code",
   "execution_count": 84,
   "metadata": {},
   "outputs": [
    {
     "name": "stdout",
     "output_type": "stream",
     "text": [
      "123.0\n",
      "Float16\n"
     ]
    }
   ],
   "source": [
    "println( pu1.userID )\n",
    "println( typeof(pu1.userID) )"
   ]
  },
  {
   "cell_type": "code",
   "execution_count": 85,
   "metadata": {},
   "outputs": [
    {
     "data": {
      "text/plain": [
       "parametricUser{Char}('z', \"John\")"
      ]
     },
     "execution_count": 85,
     "metadata": {},
     "output_type": "execute_result"
    }
   ],
   "source": [
    "pu1 = parametricUser( 'z', \"John\" )"
   ]
  },
  {
   "cell_type": "code",
   "execution_count": 86,
   "metadata": {},
   "outputs": [],
   "source": [
    "#we can make 'parametric types(structs)' with multiple parametric types and constrainst\n",
    "struct parametricUserB{T1,T2<:Int,T3<:String}\n",
    "    userID::T1\n",
    "    count::T2\n",
    "    userName::T3\n",
    "    appID::T1\n",
    "end"
   ]
  },
  {
   "cell_type": "code",
   "execution_count": 87,
   "metadata": {},
   "outputs": [
    {
     "data": {
      "text/plain": [
       "parametricUserB{Int64, Int64, String}(123, 2, \"John\", 21)"
      ]
     },
     "execution_count": 87,
     "metadata": {},
     "output_type": "execute_result"
    }
   ],
   "source": [
    "# ok\n",
    "parametricUserB(123,2,\"John\",21)"
   ]
  },
  {
   "cell_type": "code",
   "execution_count": 88,
   "metadata": {},
   "outputs": [
    {
     "ename": "LoadError",
     "evalue": "MethodError: no method matching parametricUserB(::Int64, ::Int64, ::Int64, ::Int64)\n\u001b[0mClosest candidates are:\n\u001b[0m  parametricUserB(::T1, ::T2, \u001b[91m::T3\u001b[39m, ::T1) where {T1, T2<:Int64, T3<:String} at In[86]:3",
     "output_type": "error",
     "traceback": [
      "MethodError: no method matching parametricUserB(::Int64, ::Int64, ::Int64, ::Int64)\n\u001b[0mClosest candidates are:\n\u001b[0m  parametricUserB(::T1, ::T2, \u001b[91m::T3\u001b[39m, ::T1) where {T1, T2<:Int64, T3<:String} at In[86]:3",
      "",
      "Stacktrace:",
      " [1] top-level scope",
      "   @ In[88]:2"
     ]
    }
   ],
   "source": [
    "# not ok, violates type constraint T3\n",
    "parametricUserB(123,2,0,21)"
   ]
  },
  {
   "cell_type": "code",
   "execution_count": 89,
   "metadata": {},
   "outputs": [
    {
     "ename": "LoadError",
     "evalue": "MethodError: no method matching parametricUserB(::Int64, ::Float64, ::String, ::Int64)\n\u001b[0mClosest candidates are:\n\u001b[0m  parametricUserB(::T1, \u001b[91m::T2\u001b[39m, ::T3, ::T1) where {T1, T2<:Int64, T3<:String} at In[86]:3",
     "output_type": "error",
     "traceback": [
      "MethodError: no method matching parametricUserB(::Int64, ::Float64, ::String, ::Int64)\n\u001b[0mClosest candidates are:\n\u001b[0m  parametricUserB(::T1, \u001b[91m::T2\u001b[39m, ::T3, ::T1) where {T1, T2<:Int64, T3<:String} at In[86]:3",
      "",
      "Stacktrace:",
      " [1] top-level scope",
      "   @ In[89]:2"
     ]
    }
   ],
   "source": [
    "# not ok, violates type constraint T2\n",
    "parametricUserB(123,1.2,\"John\",21)"
   ]
  },
  {
   "cell_type": "code",
   "execution_count": 90,
   "metadata": {},
   "outputs": [
    {
     "ename": "LoadError",
     "evalue": "MethodError: no method matching parametricUserB(::Int64, ::Int64, ::String, ::Float64)\n\u001b[0mClosest candidates are:\n\u001b[0m  parametricUserB(::T1, ::T2, ::T3, \u001b[91m::T1\u001b[39m) where {T1, T2<:Int64, T3<:String} at In[86]:3",
     "output_type": "error",
     "traceback": [
      "MethodError: no method matching parametricUserB(::Int64, ::Int64, ::String, ::Float64)\n\u001b[0mClosest candidates are:\n\u001b[0m  parametricUserB(::T1, ::T2, ::T3, \u001b[91m::T1\u001b[39m) where {T1, T2<:Int64, T3<:String} at In[86]:3",
      "",
      "Stacktrace:",
      " [1] top-level scope",
      "   @ In[90]:2"
     ]
    }
   ],
   "source": [
    "# not ok, violates type constraint for 'userID' and 'appID' to be the same\n",
    "parametricUserB(123,12,\"John\",1.2)"
   ]
  },
  {
   "cell_type": "code",
   "execution_count": null,
   "metadata": {},
   "outputs": [],
   "source": []
  },
  {
   "cell_type": "code",
   "execution_count": 91,
   "metadata": {},
   "outputs": [],
   "source": [
    "# inner constructor\n",
    "struct PositivePoint\n",
    "    x::Float64\n",
    "    y::Float64\n",
    "    PositivePoint(x, y) = x > 0 && y > 0 ? new(x, y) : throw(ArgumentError(\"Coordinates must be positive\"))\n",
    "end"
   ]
  },
  {
   "cell_type": "code",
   "execution_count": 92,
   "metadata": {},
   "outputs": [
    {
     "data": {
      "text/plain": [
       "PositivePoint(2.0, 3.3)"
      ]
     },
     "execution_count": 92,
     "metadata": {},
     "output_type": "execute_result"
    }
   ],
   "source": [
    "pp1 = PositivePoint(2,3.3)"
   ]
  },
  {
   "cell_type": "code",
   "execution_count": 93,
   "metadata": {},
   "outputs": [
    {
     "ename": "LoadError",
     "evalue": "ArgumentError: Coordinates must be positive",
     "output_type": "error",
     "traceback": [
      "ArgumentError: Coordinates must be positive",
      "",
      "Stacktrace:",
      " [1] PositivePoint(x::Int64, y::Float64)",
      "   @ Main ./In[91]:5",
      " [2] top-level scope",
      "   @ In[93]:1"
     ]
    }
   ],
   "source": [
    "pp2 = PositivePoint(2,-3.3)"
   ]
  },
  {
   "cell_type": "code",
   "execution_count": null,
   "metadata": {},
   "outputs": [],
   "source": []
  },
  {
   "cell_type": "code",
   "execution_count": 94,
   "metadata": {},
   "outputs": [],
   "source": [
    "# different inner constructors\n",
    "# Inner constructors are defined \n",
    "# inside the struct block and can enforce invariants or provide default values\n",
    "struct PersonType2\n",
    "    firstName\n",
    "    lastName\n",
    "    PersonType2(firstName,lastName) = new(firstName,lastName)\n",
    "    PersonType2() = new(\"John\",\"Doe\")\n",
    "end"
   ]
  },
  {
   "cell_type": "code",
   "execution_count": 95,
   "metadata": {},
   "outputs": [
    {
     "name": "stdout",
     "output_type": "stream",
     "text": [
      "PersonType2(\"John\", \"Doe\")\n",
      "PersonType2(\"Bob\", \"Minton\")\n"
     ]
    }
   ],
   "source": [
    "pt2a = PersonType2()\n",
    "println(pt2a)\n",
    "pt2b = PersonType2(\"Bob\",\"Minton\")\n",
    "println(pt2b)"
   ]
  },
  {
   "cell_type": "code",
   "execution_count": 96,
   "metadata": {},
   "outputs": [],
   "source": [
    "#let us add optional arguments as well to simplify and expand to more use cases\n",
    "struct PersonType3\n",
    "    firstName\n",
    "    lastName\n",
    "    function PersonType3(firstName=\"John\", lastName=\"Doe\")\n",
    "        new(firstName,lastName)\n",
    "    end\n",
    "end"
   ]
  },
  {
   "cell_type": "code",
   "execution_count": 97,
   "metadata": {},
   "outputs": [
    {
     "name": "stdout",
     "output_type": "stream",
     "text": [
      "PersonType3(\"John\", \"Doe\")\n",
      "PersonType3(\"Bob\", \"Doe\")\n"
     ]
    }
   ],
   "source": [
    "pt3a = PersonType3()\n",
    "println(pt3a)\n",
    "pt3b = PersonType3(\"Bob\")\n",
    "println(pt3b)"
   ]
  },
  {
   "cell_type": "code",
   "execution_count": 98,
   "metadata": {},
   "outputs": [
    {
     "ename": "LoadError",
     "evalue": "MethodError: no method matching PersonType3(; lastname=\"Minton\")\n\u001b[0mClosest candidates are:\n\u001b[0m  PersonType3() at In[96]:5\u001b[91m got unsupported keyword argument \"lastname\"\u001b[39m\n\u001b[0m  PersonType3(\u001b[91m::Any\u001b[39m) at In[96]:5\u001b[91m got unsupported keyword argument \"lastname\"\u001b[39m\n\u001b[0m  PersonType3(\u001b[91m::Any\u001b[39m, \u001b[91m::Any\u001b[39m) at In[96]:5\u001b[91m got unsupported keyword argument \"lastname\"\u001b[39m",
     "output_type": "error",
     "traceback": [
      "MethodError: no method matching PersonType3(; lastname=\"Minton\")\n\u001b[0mClosest candidates are:\n\u001b[0m  PersonType3() at In[96]:5\u001b[91m got unsupported keyword argument \"lastname\"\u001b[39m\n\u001b[0m  PersonType3(\u001b[91m::Any\u001b[39m) at In[96]:5\u001b[91m got unsupported keyword argument \"lastname\"\u001b[39m\n\u001b[0m  PersonType3(\u001b[91m::Any\u001b[39m, \u001b[91m::Any\u001b[39m) at In[96]:5\u001b[91m got unsupported keyword argument \"lastname\"\u001b[39m",
      "",
      "Stacktrace:",
      " [1] top-level scope",
      "   @ In[98]:2"
     ]
    }
   ],
   "source": [
    "# fails\n",
    "pt3c = PersonType3(lastname=\"Minton\")\n",
    "println(pt3c)"
   ]
  },
  {
   "cell_type": "code",
   "execution_count": 99,
   "metadata": {},
   "outputs": [],
   "source": [
    "#adding for keyword arguments\n",
    "struct PersonType4z\n",
    "    id\n",
    "    firstName\n",
    "    lastName\n",
    "    function PersonType4z(id;firstName=\"John\", lastName=\"Doe\") #added a semicolon\n",
    "        new(id,firstName,lastName)\n",
    "    end\n",
    "end"
   ]
  },
  {
   "cell_type": "code",
   "execution_count": 100,
   "metadata": {},
   "outputs": [
    {
     "name": "stdout",
     "output_type": "stream",
     "text": [
      "PersonType4z(1, \"John\", \"Doe\")\n"
     ]
    },
    {
     "data": {
      "text/plain": [
       "PersonType4z(2, \"bob\", \"baker\")"
      ]
     },
     "execution_count": 100,
     "metadata": {},
     "output_type": "execute_result"
    }
   ],
   "source": [
    "pt4a = PersonType4z(1)\n",
    "println(pt4a)\n",
    "PersonType4z(2,lastName=\"baker\",firstName=\"bob\")"
   ]
  },
  {
   "cell_type": "code",
   "execution_count": null,
   "metadata": {},
   "outputs": [],
   "source": []
  },
  {
   "cell_type": "code",
   "execution_count": 101,
   "metadata": {},
   "outputs": [],
   "source": [
    "# inner constructor and keyword arguments\n",
    "struct PersonType6\n",
    "    firstName\n",
    "    lastName\n",
    "    function PersonType6(;firstName=nothing, lastName=nothing)\n",
    "        # Check if firstName was provided\n",
    "        if firstName === nothing\n",
    "            println(\"firstName was not provided, using default.\")\n",
    "            firstName = \"John\"\n",
    "        end\n",
    "\n",
    "        # Check if lastName was provided\n",
    "        if lastName === nothing\n",
    "            println(\"lastName was not provided, using default.\")\n",
    "            lastName = \"Doe\"\n",
    "        end\n",
    "\n",
    "        return new(firstName, lastName)\n",
    "    end\n",
    "end"
   ]
  },
  {
   "cell_type": "code",
   "execution_count": 102,
   "metadata": {},
   "outputs": [
    {
     "name": "stdout",
     "output_type": "stream",
     "text": [
      "firstName was not provided, using default.\n",
      "lastName was not provided, using default.\n",
      "PersonType6(\"John\", \"Doe\")\n",
      "firstName was not provided, using default.\n",
      "PersonType6(\"John\", \"Minton\")\n",
      "lastName was not provided, using default.\n",
      "PersonType6(\"Bob\", \"Doe\")\n",
      "PersonType6(\"Bob\", \"Minton\")\n"
     ]
    }
   ],
   "source": [
    "pt6a = PersonType6()\n",
    "println(pt6a)\n",
    "pt6c = PersonType6(lastName=\"Minton\")\n",
    "println(pt6c)\n",
    "pt6d = PersonType6(firstName=\"Bob\")\n",
    "println(pt6d)\n",
    "pt6e = PersonType6(firstName=\"Bob\",lastName=\"Minton\")\n",
    "println(pt6e)"
   ]
  },
  {
   "cell_type": "code",
   "execution_count": null,
   "metadata": {},
   "outputs": [],
   "source": []
  },
  {
   "cell_type": "code",
   "execution_count": 103,
   "metadata": {},
   "outputs": [
    {
     "name": "stdout",
     "output_type": "stream",
     "text": [
      "more\n"
     ]
    }
   ],
   "source": [
    "r = 1000\n",
    "r < 100 ? println(\"less\") : println(\"more\")"
   ]
  },
  {
   "cell_type": "code",
   "execution_count": 104,
   "metadata": {},
   "outputs": [
    {
     "name": "stdout",
     "output_type": "stream",
     "text": [
      "y no good\n"
     ]
    }
   ],
   "source": [
    "xx = 1000\n",
    "yy = 10\n",
    "xx < 100 ? print(\"cool\") : yy < 100 ? println(\"y no good\") : println(\"y good\")"
   ]
  },
  {
   "cell_type": "code",
   "execution_count": 105,
   "metadata": {},
   "outputs": [
    {
     "data": {
      "text/plain": [
       "Circle"
      ]
     },
     "execution_count": 105,
     "metadata": {},
     "output_type": "execute_result"
    }
   ],
   "source": [
    "# 'outer' constructors\n",
    "struct Circle\n",
    "    radius::Float64\n",
    "end\n",
    "\n",
    "# Outer constructor\n",
    "Circle(diameter::Float64, is_diameter::Bool) = is_diameter ? Circle(diameter / 2) : Circle(diameter)"
   ]
  },
  {
   "cell_type": "code",
   "execution_count": 106,
   "metadata": {},
   "outputs": [
    {
     "name": "stdout",
     "output_type": "stream",
     "text": [
      "Circle(5.0)\n",
      "Circle(10.0)\n"
     ]
    }
   ],
   "source": [
    "println( Circle(10.0,true) )\n",
    "println( Circle(10.0,false) )"
   ]
  },
  {
   "cell_type": "code",
   "execution_count": 107,
   "metadata": {},
   "outputs": [
    {
     "data": {
      "text/plain": [
       "Circle"
      ]
     },
     "execution_count": 107,
     "metadata": {},
     "output_type": "execute_result"
    }
   ],
   "source": [
    "#inner and outer constructors\n",
    "struct Circle2\n",
    "    radius::Float64\n",
    "    Circle2(radius) = new(radius)\n",
    "end\n",
    "\n",
    "# Outer constructor\n",
    "Circle(diameter::Float64, is_diameter::Bool) = is_diameter ? Circle(diameter / 2) : Circle(diameter)"
   ]
  },
  {
   "cell_type": "code",
   "execution_count": 108,
   "metadata": {},
   "outputs": [
    {
     "name": "stdout",
     "output_type": "stream",
     "text": [
      "Circle(5.0)\n",
      "Circle(10.0)\n"
     ]
    }
   ],
   "source": [
    "println( Circle(10.0,true) )\n",
    "println( Circle(10.0) )"
   ]
  },
  {
   "cell_type": "code",
   "execution_count": null,
   "metadata": {},
   "outputs": [],
   "source": []
  },
  {
   "cell_type": "code",
   "execution_count": 109,
   "metadata": {},
   "outputs": [],
   "source": [
    "# define an abstract type and then create structs that are subtypes of that abstract type\n",
    "abstract type Shape end\n",
    "\n",
    "struct Square <: Shape\n",
    "    side::Float64\n",
    "end\n",
    "\n",
    "struct Triangle <: Shape\n",
    "    base::Float64\n",
    "    height::Float64\n",
    "end"
   ]
  },
  {
   "cell_type": "code",
   "execution_count": 110,
   "metadata": {},
   "outputs": [
    {
     "name": "stdout",
     "output_type": "stream",
     "text": [
      "25.0\n",
      "6.0\n"
     ]
    }
   ],
   "source": [
    "# Define a function that calculates the area of any shape\n",
    "function area(shape::Shape)\n",
    "    if shape isa Square\n",
    "        return shape.side^2\n",
    "    elseif shape isa Triangle\n",
    "        return 0.5 * shape.base * shape.height\n",
    "    else\n",
    "        throw(ArgumentError(\"Unsupported shape\"))\n",
    "    end\n",
    "end\n",
    "\n",
    "sq = Square(5.0)\n",
    "tri = Triangle(3.0, 4.0)\n",
    "# Now you can calculate the area of any shape\n",
    "\n",
    "println(area(sq)) \n",
    "println(area(tri))"
   ]
  },
  {
   "cell_type": "code",
   "execution_count": null,
   "metadata": {},
   "outputs": [],
   "source": []
  },
  {
   "cell_type": "code",
   "execution_count": 111,
   "metadata": {},
   "outputs": [
    {
     "data": {
      "text/plain": [
       "Line8(Point8(1.0, 2.0), Point8(3.0, 4.0))"
      ]
     },
     "execution_count": 111,
     "metadata": {},
     "output_type": "execute_result"
    }
   ],
   "source": [
    "# Structs can have fields of different types, including other structs.\n",
    "struct Point8\n",
    "    x::Float64\n",
    "    y::Float64\n",
    "end\n",
    "\n",
    "# Define the Line struct\n",
    "struct Line8\n",
    "    start::Point8\n",
    "    last::Point8\n",
    "end\n",
    "\n",
    "# Construct instances\n",
    "start_point = Point8(1.0, 2.0)  \n",
    "end_point = Point8(3.0, 4.0) \n",
    "\n",
    "my_line = Line8(start_point, end_point)  # Creates a Line from start_point to end_point"
   ]
  },
  {
   "cell_type": "code",
   "execution_count": null,
   "metadata": {},
   "outputs": [],
   "source": []
  },
  {
   "cell_type": "code",
   "execution_count": null,
   "metadata": {},
   "outputs": [],
   "source": []
  },
  {
   "cell_type": "code",
   "execution_count": null,
   "metadata": {},
   "outputs": [],
   "source": []
  },
  {
   "cell_type": "code",
   "execution_count": 112,
   "metadata": {},
   "outputs": [
    {
     "data": {
      "text/plain": [
       "area (generic function with 2 methods)"
      ]
     },
     "execution_count": 112,
     "metadata": {},
     "output_type": "execute_result"
    }
   ],
   "source": [
    "# function and input argument checks based on type checks\n",
    "#and type checks on custom types\n",
    "struct Rectangle\n",
    "    length::Float64\n",
    "    width::Float64\n",
    "end\n",
    "\n",
    "area(r::Rectangle) = r.length * r.width"
   ]
  },
  {
   "cell_type": "code",
   "execution_count": 113,
   "metadata": {},
   "outputs": [
    {
     "data": {
      "text/plain": [
       "10.0"
      ]
     },
     "execution_count": 113,
     "metadata": {},
     "output_type": "execute_result"
    }
   ],
   "source": [
    "rect1 = Rectangle(5,2)\n",
    "area(rect1)"
   ]
  },
  {
   "cell_type": "code",
   "execution_count": null,
   "metadata": {},
   "outputs": [],
   "source": []
  },
  {
   "cell_type": "code",
   "execution_count": null,
   "metadata": {},
   "outputs": [],
   "source": []
  },
  {
   "cell_type": "code",
   "execution_count": 114,
   "metadata": {},
   "outputs": [
    {
     "data": {
      "text/plain": [
       "10"
      ]
     },
     "execution_count": 114,
     "metadata": {},
     "output_type": "execute_result"
    }
   ],
   "source": [
    "#Union types\n",
    "x3a::Union{Int, Float64} = 10  # x can be either an Int or a Float64"
   ]
  },
  {
   "cell_type": "code",
   "execution_count": 115,
   "metadata": {},
   "outputs": [
    {
     "name": "stdout",
     "output_type": "stream",
     "text": [
      "100\n",
      "33.333333333333336\n"
     ]
    },
    {
     "ename": "LoadError",
     "evalue": "MethodError: \u001b[0mCannot `convert` an object of type \n\u001b[0m  \u001b[92mString\u001b[39m\u001b[0m to an object of type \n\u001b[0m  \u001b[91mUnion{Float64, Int64}\u001b[39m\n\u001b[0mClosest candidates are:\n\u001b[0m  convert(::Type{T}, \u001b[91m::T\u001b[39m) where T<:Number at number.jl:6\n\u001b[0m  convert(::Type{T}, \u001b[91m::Number\u001b[39m) where T<:Number at number.jl:7\n\u001b[0m  convert(::Type{T}, \u001b[91m::Base.TwicePrecision\u001b[39m) where T<:Number at twiceprecision.jl:273\n\u001b[0m  ...",
     "output_type": "error",
     "traceback": [
      "MethodError: \u001b[0mCannot `convert` an object of type \n\u001b[0m  \u001b[92mString\u001b[39m\u001b[0m to an object of type \n\u001b[0m  \u001b[91mUnion{Float64, Int64}\u001b[39m\n\u001b[0mClosest candidates are:\n\u001b[0m  convert(::Type{T}, \u001b[91m::T\u001b[39m) where T<:Number at number.jl:6\n\u001b[0m  convert(::Type{T}, \u001b[91m::Number\u001b[39m) where T<:Number at number.jl:7\n\u001b[0m  convert(::Type{T}, \u001b[91m::Base.TwicePrecision\u001b[39m) where T<:Number at twiceprecision.jl:273\n\u001b[0m  ...",
      "",
      "Stacktrace:",
      " [1] top-level scope",
      "   @ In[115]:8"
     ]
    }
   ],
   "source": [
    "#ok\n",
    "x3a = x3a*10\n",
    "println(x3a)\n",
    "#ok\n",
    "x3a = x3a/3\n",
    "println(x3a)\n",
    "#not ok\n",
    "x3a = \"hi\"\n",
    "println(x3a)"
   ]
  },
  {
   "cell_type": "code",
   "execution_count": 116,
   "metadata": {},
   "outputs": [
    {
     "data": {
      "text/plain": [
       "Union{Char, Float64, Int64}"
      ]
     },
     "execution_count": 116,
     "metadata": {},
     "output_type": "execute_result"
    }
   ],
   "source": [
    "# Define a type alias\n",
    "const myType = Union{Int, Float64, Char}"
   ]
  },
  {
   "cell_type": "code",
   "execution_count": 117,
   "metadata": {},
   "outputs": [
    {
     "data": {
      "text/plain": [
       "123"
      ]
     },
     "execution_count": 117,
     "metadata": {},
     "output_type": "execute_result"
    }
   ],
   "source": [
    "x3::myType = 123"
   ]
  },
  {
   "cell_type": "code",
   "execution_count": 118,
   "metadata": {},
   "outputs": [
    {
     "name": "stdout",
     "output_type": "stream",
     "text": [
      "61.5\n",
      "d\n"
     ]
    },
    {
     "ename": "LoadError",
     "evalue": "MethodError: \u001b[0mCannot `convert` an object of type \n\u001b[0m  \u001b[92mString\u001b[39m\u001b[0m to an object of type \n\u001b[0m  \u001b[91mUnion{Char, Float64, Int64}\u001b[39m\n\u001b[0mClosest candidates are:\n\u001b[0m  convert(::Type{T}, \u001b[91m::T\u001b[39m) where T at Base.jl:61",
     "output_type": "error",
     "traceback": [
      "MethodError: \u001b[0mCannot `convert` an object of type \n\u001b[0m  \u001b[92mString\u001b[39m\u001b[0m to an object of type \n\u001b[0m  \u001b[91mUnion{Char, Float64, Int64}\u001b[39m\n\u001b[0mClosest candidates are:\n\u001b[0m  convert(::Type{T}, \u001b[91m::T\u001b[39m) where T at Base.jl:61",
      "",
      "Stacktrace:",
      " [1] top-level scope",
      "   @ In[118]:8"
     ]
    }
   ],
   "source": [
    "#ok\n",
    "x3 = 123/2\n",
    "println(x3)\n",
    "#ok\n",
    "x3 = 'd'\n",
    "println(x3)\n",
    "#not ok\n",
    "x3 = \"hi\"\n",
    "println(x3)"
   ]
  },
  {
   "cell_type": "code",
   "execution_count": null,
   "metadata": {},
   "outputs": [],
   "source": []
  },
  {
   "cell_type": "code",
   "execution_count": 119,
   "metadata": {},
   "outputs": [],
   "source": [
    "struct Box1\n",
    "    contents::String\n",
    "end\n",
    "struct Box2\n",
    "    label::String\n",
    "end\n",
    "struct Box3 \n",
    "    weight::Float64\n",
    "end"
   ]
  },
  {
   "cell_type": "code",
   "execution_count": 120,
   "metadata": {},
   "outputs": [
    {
     "data": {
      "text/plain": [
       "boxTypeNumber\u001b[90m (alias for \u001b[39m\u001b[90mUnion{Box1, Box2}\u001b[39m\u001b[90m)\u001b[39m"
      ]
     },
     "execution_count": 120,
     "metadata": {},
     "output_type": "execute_result"
    }
   ],
   "source": [
    "# Define a type alias on custom types\n",
    "const boxTypeNumber = Union{Box1,Box2}"
   ]
  },
  {
   "cell_type": "code",
   "execution_count": 121,
   "metadata": {},
   "outputs": [
    {
     "data": {
      "text/plain": [
       "Box1(\"present\")"
      ]
     },
     "execution_count": 121,
     "metadata": {},
     "output_type": "execute_result"
    }
   ],
   "source": [
    "xBox::boxTypeNumber = Box1(\"present\")"
   ]
  },
  {
   "cell_type": "code",
   "execution_count": 122,
   "metadata": {},
   "outputs": [
    {
     "data": {
      "text/plain": [
       "Box2(\"utensils\")"
      ]
     },
     "execution_count": 122,
     "metadata": {},
     "output_type": "execute_result"
    }
   ],
   "source": [
    "xBox = Box2(\"utensils\")"
   ]
  },
  {
   "cell_type": "code",
   "execution_count": 124,
   "metadata": {},
   "outputs": [
    {
     "data": {
      "text/plain": [
       "true"
      ]
     },
     "execution_count": 124,
     "metadata": {},
     "output_type": "execute_result"
    }
   ],
   "source": [
    "xBox isa Box2"
   ]
  },
  {
   "cell_type": "code",
   "execution_count": 126,
   "metadata": {},
   "outputs": [
    {
     "data": {
      "text/plain": [
       "true"
      ]
     },
     "execution_count": 126,
     "metadata": {},
     "output_type": "execute_result"
    }
   ],
   "source": [
    "isa(xBox,Box2)"
   ]
  },
  {
   "cell_type": "code",
   "execution_count": 111,
   "metadata": {},
   "outputs": [
    {
     "ename": "LoadError",
     "evalue": "MethodError: \u001b[0mCannot `convert` an object of type \n\u001b[0m  \u001b[92mBox3\u001b[39m\u001b[0m to an object of type \n\u001b[0m  \u001b[91mboxTypeNumber\u001b[39m\n\u001b[0mClosest candidates are:\n\u001b[0m  convert(::Type{T}, \u001b[91m::T\u001b[39m) where T at Base.jl:61",
     "output_type": "error",
     "traceback": [
      "MethodError: \u001b[0mCannot `convert` an object of type \n\u001b[0m  \u001b[92mBox3\u001b[39m\u001b[0m to an object of type \n\u001b[0m  \u001b[91mboxTypeNumber\u001b[39m\n\u001b[0mClosest candidates are:\n\u001b[0m  convert(::Type{T}, \u001b[91m::T\u001b[39m) where T at Base.jl:61",
      "",
      "Stacktrace:",
      " [1] top-level scope",
      "   @ In[111]:2"
     ]
    }
   ],
   "source": [
    "#won't work\n",
    "xBox = Box3(3.3)"
   ]
  },
  {
   "cell_type": "code",
   "execution_count": null,
   "metadata": {},
   "outputs": [],
   "source": []
  },
  {
   "cell_type": "markdown",
   "metadata": {},
   "source": [
    "## previously we constructed structs by using the struct name and passing in parameter values from the 'outside' but we can use 'inner constructors'"
   ]
  },
  {
   "cell_type": "code",
   "execution_count": 135,
   "metadata": {},
   "outputs": [
    {
     "data": {
      "text/plain": [
       "OrderedIntegers1(1, 2)"
      ]
     },
     "execution_count": 135,
     "metadata": {},
     "output_type": "execute_result"
    }
   ],
   "source": [
    "struct OrderedIntegers1\n",
    "   x::Integer\n",
    "   y::Integer\n",
    "   OrderedIntegers1(x,y) = x > y ? error(\"out of order\") : new(x,y) #uses the keyword 'new'\n",
    "end\n",
    "\n",
    "OrderedIntegers1(1,2)"
   ]
  },
  {
   "cell_type": "code",
   "execution_count": 136,
   "metadata": {},
   "outputs": [
    {
     "ename": "LoadError",
     "evalue": "out of order",
     "output_type": "error",
     "traceback": [
      "out of order",
      "",
      "Stacktrace:",
      " [1] error(s::String)",
      "   @ Base ./error.jl:35",
      " [2] OrderedIntegers1(x::Int64, y::Int64)",
      "   @ Main ./In[135]:4",
      " [3] top-level scope",
      "   @ In[136]:1"
     ]
    }
   ],
   "source": [
    "OrderedIntegers1(2,1)"
   ]
  },
  {
   "cell_type": "code",
   "execution_count": 137,
   "metadata": {},
   "outputs": [
    {
     "data": {
      "text/plain": [
       "OrderedIntegers2(2, 1)"
      ]
     },
     "execution_count": 137,
     "metadata": {},
     "output_type": "execute_result"
    }
   ],
   "source": [
    "struct OrderedIntegers2\n",
    "    x::Integer\n",
    "    y::Integer\n",
    "    OrderedIntegers2(x,y) = x > y ? error(\"out of order\") : new(x,y) #uses the keyword 'new'\n",
    "    function OrderedIntegers2(x)\n",
    "        new(x+1,x)\n",
    "    end\n",
    "end\n",
    "\n",
    "OrderedIntegers2(1)"
   ]
  },
  {
   "cell_type": "code",
   "execution_count": 140,
   "metadata": {},
   "outputs": [],
   "source": [
    "struct OrderedType{T<:Number}\n",
    "    x::T\n",
    "    y::T\n",
    "    z::String\n",
    "    OrderedType(x::T,y::T,z::String) where T = new{T}(x,y,z)\n",
    "    OrderedType(x::T,y::T) where T = new{T}(x,y,\"foo\")\n",
    "end"
   ]
  },
  {
   "cell_type": "code",
   "execution_count": 141,
   "metadata": {},
   "outputs": [
    {
     "data": {
      "text/plain": [
       "OrderedType{Int64}(1, 2, \"great\")"
      ]
     },
     "execution_count": 141,
     "metadata": {},
     "output_type": "execute_result"
    }
   ],
   "source": [
    "OrderedType(1,2,\"great\")"
   ]
  },
  {
   "cell_type": "code",
   "execution_count": 142,
   "metadata": {},
   "outputs": [
    {
     "data": {
      "text/plain": [
       "OrderedType{Int64}(2, 2, \"foo\")"
      ]
     },
     "execution_count": 142,
     "metadata": {},
     "output_type": "execute_result"
    }
   ],
   "source": [
    "OrderedType(2,2)"
   ]
  },
  {
   "cell_type": "code",
   "execution_count": 143,
   "metadata": {},
   "outputs": [
    {
     "ename": "LoadError",
     "evalue": "MethodError: no method matching OrderedType(::Int64, ::Float64, ::String)\n\u001b[0mClosest candidates are:\n\u001b[0m  OrderedType(::T, \u001b[91m::T\u001b[39m, ::String) where T at In[140]:5\n\u001b[0m  OrderedType(::T, \u001b[91m::T\u001b[39m) where T at In[140]:6",
     "output_type": "error",
     "traceback": [
      "MethodError: no method matching OrderedType(::Int64, ::Float64, ::String)\n\u001b[0mClosest candidates are:\n\u001b[0m  OrderedType(::T, \u001b[91m::T\u001b[39m, ::String) where T at In[140]:5\n\u001b[0m  OrderedType(::T, \u001b[91m::T\u001b[39m) where T at In[140]:6",
      "",
      "Stacktrace:",
      " [1] top-level scope",
      "   @ In[143]:1"
     ]
    }
   ],
   "source": [
    "OrderedType(1,2.5,\"great\") #won't work"
   ]
  },
  {
   "cell_type": "code",
   "execution_count": null,
   "metadata": {},
   "outputs": [],
   "source": []
  },
  {
   "cell_type": "code",
   "execution_count": null,
   "metadata": {},
   "outputs": [],
   "source": []
  },
  {
   "cell_type": "markdown",
   "metadata": {},
   "source": [
    "## making arrays, matrices, tuples etc"
   ]
  },
  {
   "cell_type": "code",
   "execution_count": 112,
   "metadata": {},
   "outputs": [
    {
     "data": {
      "text/plain": [
       "4-element Vector{Int64}:\n",
       " 1\n",
       " 2\n",
       " 3\n",
       " 4"
      ]
     },
     "metadata": {},
     "output_type": "display_data"
    },
    {
     "data": {
      "text/plain": [
       "2×2 Matrix{Int64}:\n",
       " 1  2\n",
       " 3  4"
      ]
     },
     "metadata": {},
     "output_type": "display_data"
    }
   ],
   "source": [
    "arr1 = [1, 2, 3, 4]  # 1D array (Vector)\n",
    "display(arr1)\n",
    "arr2 = [1 2; 3 4]    # 2D array (Matrix)\n",
    "display(arr2)"
   ]
  },
  {
   "cell_type": "code",
   "execution_count": 113,
   "metadata": {},
   "outputs": [
    {
     "name": "stdout",
     "output_type": "stream",
     "text": [
      "[0.0, 0.0, 0.0]\n",
      "[1.0, 1.0, 1.0]\n"
     ]
    }
   ],
   "source": [
    "zeros_arr = zeros(3)\n",
    "println(zeros_arr)\n",
    "ones_arr = ones(3)\n",
    "println(ones_arr)"
   ]
  },
  {
   "cell_type": "code",
   "execution_count": 114,
   "metadata": {},
   "outputs": [
    {
     "name": "stdout",
     "output_type": "stream",
     "text": [
      "[0.0019797818391125155, 0.5277790886343634, 0.9730327733914651]\n"
     ]
    }
   ],
   "source": [
    "rand_arr = rand(3)\n",
    "println(rand_arr)"
   ]
  },
  {
   "cell_type": "code",
   "execution_count": 115,
   "metadata": {},
   "outputs": [
    {
     "name": "stdout",
     "output_type": "stream",
     "text": [
      "1:5\n"
     ]
    }
   ],
   "source": [
    "range_arr1 = 1:5\n",
    "println(range_arr1)"
   ]
  },
  {
   "cell_type": "code",
   "execution_count": 116,
   "metadata": {},
   "outputs": [
    {
     "name": "stdout",
     "output_type": "stream",
     "text": [
      "[1, 2, 3, 4, 5]\n",
      "1.0:1.0:5.0\n"
     ]
    }
   ],
   "source": [
    "range_arr_collected = collect( 1:5 )\n",
    "println( range_arr_collected )\n",
    "lin_space = range(1, stop=5, length=5)  # [1.0, 2.0, 3.0, 4.0, 5.0]\n",
    "println( lin_space)"
   ]
  },
  {
   "cell_type": "code",
   "execution_count": null,
   "metadata": {},
   "outputs": [],
   "source": []
  },
  {
   "cell_type": "code",
   "execution_count": 117,
   "metadata": {},
   "outputs": [
    {
     "name": "stdout",
     "output_type": "stream",
     "text": [
      "[140601639443824, 140601618467056, 0]\n"
     ]
    }
   ],
   "source": [
    "# pre-allocated Arrays\n",
    "empty_arr = Array{Int}(undef, 3)  # Uninitialized array\n",
    "println( empty_arr )"
   ]
  },
  {
   "cell_type": "code",
   "execution_count": 118,
   "metadata": {},
   "outputs": [
    {
     "name": "stdout",
     "output_type": "stream",
     "text": [
      "Before: [1, 1, 1, 1, 0]\n",
      "After: [1, 2, 3, 4, 5]\n"
     ]
    }
   ],
   "source": [
    "vec = Array{Int}(undef, 5)  # Creates a 1D array of Ints with 5 elements\n",
    "println(\"Before: \", vec)\n",
    "vec .= 1:5  # Filling in the array\n",
    "println(\"After: \", vec)"
   ]
  },
  {
   "cell_type": "code",
   "execution_count": 119,
   "metadata": {},
   "outputs": [
    {
     "data": {
      "text/plain": [
       "3×2 Matrix{Float64}:\n",
       " 2.0e-323  4.0e-323\n",
       " 1.5e-323  1.0e-323\n",
       " 4.4e-323  5.0e-324"
      ]
     },
     "metadata": {},
     "output_type": "display_data"
    },
    {
     "data": {
      "text/plain": [
       "3×2 Matrix{Float64}:\n",
       " 1.1  2.2\n",
       " 3.3  4.4\n",
       " 5.5  6.6"
      ]
     },
     "metadata": {},
     "output_type": "display_data"
    }
   ],
   "source": [
    "mat = Array{Float64}(undef, 3, 2)  \n",
    "display( mat)\n",
    "mat .= [1.1 2.2; 3.3 4.4; 5.5 6.6] \n",
    "display( mat)"
   ]
  },
  {
   "cell_type": "code",
   "execution_count": 120,
   "metadata": {},
   "outputs": [
    {
     "data": {
      "text/plain": [
       "3×4 Matrix{Float64}:\n",
       " 1.0  1.0  1.0  1.0\n",
       " 1.0  1.0  1.0  1.0\n",
       " 1.0  1.0  1.0  1.0"
      ]
     },
     "execution_count": 120,
     "metadata": {},
     "output_type": "execute_result"
    }
   ],
   "source": [
    "mat = ones(3,4)"
   ]
  },
  {
   "cell_type": "code",
   "execution_count": 121,
   "metadata": {},
   "outputs": [
    {
     "data": {
      "text/plain": [
       "3×4 Matrix{Float64}:\n",
       " 2.0  2.0  2.0  2.0\n",
       " 4.0  1.0  1.0  1.0\n",
       " 4.0  1.0  1.0  1.0"
      ]
     },
     "execution_count": 121,
     "metadata": {},
     "output_type": "execute_result"
    }
   ],
   "source": [
    "mat[1,:] .= 2\n",
    "mat[2:end,1] .= 4\n",
    "mat"
   ]
  },
  {
   "cell_type": "code",
   "execution_count": 122,
   "metadata": {},
   "outputs": [
    {
     "data": {
      "text/plain": [
       "3×4 Matrix{Float64}:\n",
       " 2.0        0.515845   2.0  2.0\n",
       " 0.0200884  0.0403422  1.0  1.0\n",
       " 0.0581858  1.0        1.0  1.0"
      ]
     },
     "execution_count": 122,
     "metadata": {},
     "output_type": "execute_result"
    }
   ],
   "source": [
    "mat[2:5] .= rand(4)\n",
    "mat"
   ]
  },
  {
   "cell_type": "code",
   "execution_count": 123,
   "metadata": {},
   "outputs": [
    {
     "data": {
      "text/plain": [
       "12"
      ]
     },
     "execution_count": 123,
     "metadata": {},
     "output_type": "execute_result"
    }
   ],
   "source": [
    "length(mat)"
   ]
  },
  {
   "cell_type": "code",
   "execution_count": null,
   "metadata": {},
   "outputs": [],
   "source": []
  },
  {
   "cell_type": "code",
   "execution_count": null,
   "metadata": {},
   "outputs": [],
   "source": []
  },
  {
   "cell_type": "code",
   "execution_count": null,
   "metadata": {},
   "outputs": [],
   "source": []
  },
  {
   "cell_type": "code",
   "execution_count": 124,
   "metadata": {},
   "outputs": [
    {
     "name": "stdout",
     "output_type": "stream",
     "text": [
      "Before:\n",
      "[#undef #undef; #undef #undef;;; #undef #undef; #undef #undef]\n"
     ]
    }
   ],
   "source": [
    "arr_3d = Array{String}(undef, 2, 2, 2)  # a 2x2x2 3D array of Strings\n",
    "println(\"Before:\\n\", arr_3d)\n"
   ]
  },
  {
   "cell_type": "code",
   "execution_count": 125,
   "metadata": {},
   "outputs": [
    {
     "name": "stdout",
     "output_type": "stream",
     "text": [
      "Before: PointX[PointX(6.9466446741947e-310, 6.9466446741979e-310), PointX(6.94664467420104e-310, 6.9466446742042e-310)]\n",
      "After: PointX[PointX(1.0, 2.0), PointX(3.0, 4.0)]\n"
     ]
    }
   ],
   "source": [
    "struct PointX\n",
    "    x::Float64\n",
    "    y::Float64\n",
    "end\n",
    "\n",
    "points = Array{PointX}(undef, 2)  # Creates an array of 2 Points\n",
    "println(\"Before: \", points)\n",
    "points .= [PointX(1.0, 2.0), PointX(3.0, 4.0)]  # Filling in the array\n",
    "println(\"After: \", points)"
   ]
  },
  {
   "cell_type": "code",
   "execution_count": null,
   "metadata": {},
   "outputs": [],
   "source": []
  },
  {
   "cell_type": "code",
   "execution_count": null,
   "metadata": {},
   "outputs": [],
   "source": []
  },
  {
   "cell_type": "code",
   "execution_count": null,
   "metadata": {},
   "outputs": [],
   "source": []
  },
  {
   "cell_type": "code",
   "execution_count": 126,
   "metadata": {},
   "outputs": [
    {
     "name": "stdout",
     "output_type": "stream",
     "text": [
      "[1, 2, 3, 4]\n"
     ]
    },
    {
     "data": {
      "text/plain": [
       "2×2 Matrix{Int64}:\n",
       " 1  3\n",
       " 2  4"
      ]
     },
     "metadata": {},
     "output_type": "display_data"
    }
   ],
   "source": [
    "arr_vcat = vcat([1, 2], [3, 4])  # Vertical concatenation: [1, 2, 3, 4]\n",
    "println( arr_vcat )\n",
    "arr_hcat = hcat([1, 2], [3, 4])  # Horizontal concatenation: [1 3; 2 4]\n",
    "display( arr_hcat )"
   ]
  },
  {
   "cell_type": "code",
   "execution_count": 127,
   "metadata": {},
   "outputs": [
    {
     "data": {
      "text/plain": [
       "2×2×2 Array{Float64, 3}:\n",
       "[:, :, 1] =\n",
       " 0.23742   0.323226\n",
       " 0.711056  0.890593\n",
       "\n",
       "[:, :, 2] =\n",
       " 0.685553  0.387369\n",
       " 0.629589  0.664728"
      ]
     },
     "metadata": {},
     "output_type": "display_data"
    }
   ],
   "source": [
    "three_d_arr = rand(2, 2, 2)  # 3D array with random values\n",
    "display(three_d_arr)"
   ]
  },
  {
   "cell_type": "code",
   "execution_count": 128,
   "metadata": {},
   "outputs": [
    {
     "data": {
      "text/plain": [
       "2×2 reshape(::UnitRange{Int64}, 2, 2) with eltype Int64:\n",
       " 1  3\n",
       " 2  4"
      ]
     },
     "metadata": {},
     "output_type": "display_data"
    }
   ],
   "source": [
    "reshaped_arr = reshape(1:4, (2, 2))  # [1 3; 2 4]\n",
    "display( reshaped_arr )"
   ]
  },
  {
   "cell_type": "code",
   "execution_count": null,
   "metadata": {},
   "outputs": [],
   "source": []
  },
  {
   "cell_type": "code",
   "execution_count": null,
   "metadata": {},
   "outputs": [],
   "source": []
  },
  {
   "cell_type": "markdown",
   "metadata": {},
   "source": [
    "## mutating and reassigning arrays\n",
    "\n",
    "When dealing with primitives like integers or single values if we reassign variable names to values, even if they we set referring to each other the reassignment points them to a new 'object' or 'value'"
   ]
  },
  {
   "cell_type": "code",
   "execution_count": 1,
   "metadata": {},
   "outputs": [
    {
     "name": "stdout",
     "output_type": "stream",
     "text": [
      "a = 10, b = 5\n"
     ]
    }
   ],
   "source": [
    "a = 5\n",
    "b = a\n",
    "a = 10\n",
    "println(\"a = $a, b = $b\")"
   ]
  },
  {
   "cell_type": "markdown",
   "metadata": {},
   "source": [
    "### mutating the arrays means that the object variable names point to has changed and the changes can be picked up from any of the variable names still pointing to the same 'value' (array, struct, etc)"
   ]
  },
  {
   "cell_type": "code",
   "execution_count": 2,
   "metadata": {},
   "outputs": [
    {
     "name": "stdout",
     "output_type": "stream",
     "text": [
      "arr_1 = hello, arr_2 = [11, 2, 33], arr_3 = [11, 2, 33]\n"
     ]
    }
   ],
   "source": [
    "arr_1 = [1,2,3]\n",
    "arr_2 = arr_1\n",
    "arr_3 = arr_2\n",
    "\n",
    "#changing a value in arr_1 changes it for all variable names \n",
    "#pointing to the array itself and if a variable name changes\n",
    "#what it is pointing to the rest are unaffected\n",
    "\n",
    "arr_1[1] = 11\n",
    "arr_3[3] = 33\n",
    "arr_1 = \"hello\"\n",
    "\n",
    "println(\"arr_1 = $arr_1, arr_2 = $arr_2, arr_3 = $arr_3\")"
   ]
  },
  {
   "cell_type": "markdown",
   "metadata": {},
   "source": [
    "### when we pass a set of arguments to a function some will change the original values and other will not\n",
    "\n",
    "when we pass in primitive values the originals are not changed but when we pass in an object like an array they are changed"
   ]
  },
  {
   "cell_type": "markdown",
   "metadata": {},
   "source": [
    "Here we see a function that does 'reassignment of the variable name' but not mutation (pure function)"
   ]
  },
  {
   "cell_type": "code",
   "execution_count": 5,
   "metadata": {},
   "outputs": [
    {
     "name": "stdout",
     "output_type": "stream",
     "text": [
      "calling fn_nonmutating values before\n",
      "v1 = [1, 2, 3]\n",
      "v2 = [1, 2, 3]\n",
      "v3 = [1, 2, 3]\n",
      "values returned from Any[10, [11, 12, 13], 12]\n",
      "calling fn_nonmutating values after\n",
      "v1 = [1, 2, 3]\n",
      "v2 = [1, 2, 3]\n",
      "v3 = [1, 2, 3]\n"
     ]
    }
   ],
   "source": [
    "function fn_nonmutating(x,y,z)\n",
    "    x = 10\n",
    "    y = [11,12,13]\n",
    "    z = 12\n",
    "    return [x,y,z]\n",
    "end\n",
    "\n",
    "v1 = [1,2,3]\n",
    "v2 = [1,2,3]\n",
    "v3 = [1,2,3]\n",
    "\n",
    "println( \"calling fn_nonmutating values before\" )\n",
    "println( \"v1 = $v1\" )\n",
    "println( \"v2 = $v2\" )\n",
    "println( \"v3 = $v3\" )\n",
    "\n",
    "println( \"values returned from $(fn_nonmutating(v1,v2,v3))\" )\n",
    "\n",
    "println( \"calling fn_nonmutating values after\" )\n",
    "println( \"v1 = $v1\" )\n",
    "println( \"v2 = $v2\" )\n",
    "println( \"v3 = $v3\" )"
   ]
  },
  {
   "cell_type": "markdown",
   "metadata": {},
   "source": [
    "Here we do not just reassign but also mutation which affects the original variables after the call. In Julia such functions that mutate have an exclamation mark to note that they mutate"
   ]
  },
  {
   "cell_type": "code",
   "execution_count": 7,
   "metadata": {},
   "outputs": [
    {
     "name": "stdout",
     "output_type": "stream",
     "text": [
      "calling fn_mutating! values before\n",
      "v1 = [1, 2, 3]\n",
      "v2 = [1, 2, 3]\n",
      "v3 = [1, 2, 3]\n",
      "values returned from Any[10, [11, 2, 3], [1, 2, 12]]\n",
      "calling fn_mutating! values after\n",
      "v1 = [1, 2, 3]\n",
      "v2 = [11, 2, 3]\n",
      "v3 = [1, 2, 12]\n"
     ]
    }
   ],
   "source": [
    "function fn_mutating!(x,y,z)\n",
    "    x = 10\n",
    "    y[1] = 11\n",
    "    z[3] = 12\n",
    "    return [x,y,z]\n",
    "end\n",
    "\n",
    "v1 = [1,2,3]\n",
    "v2 = [1,2,3]\n",
    "v3 = [1,2,3]\n",
    "\n",
    "println( \"calling fn_mutating! values before\" )\n",
    "println( \"v1 = $v1\" )\n",
    "println( \"v2 = $v2\" )\n",
    "println( \"v3 = $v3\" )\n",
    "\n",
    "println( \"values returned from $(fn_mutating!(v1,v2,v3))\" )\n",
    "\n",
    "println( \"calling fn_mutating! values after\" )\n",
    "println( \"v1 = $v1\" )\n",
    "println( \"v2 = $v2\" )\n",
    "println( \"v3 = $v3\" )"
   ]
  },
  {
   "cell_type": "code",
   "execution_count": null,
   "metadata": {},
   "outputs": [],
   "source": []
  },
  {
   "cell_type": "code",
   "execution_count": null,
   "metadata": {},
   "outputs": [],
   "source": []
  },
  {
   "cell_type": "code",
   "execution_count": 129,
   "metadata": {},
   "outputs": [
    {
     "name": "stdout",
     "output_type": "stream",
     "text": [
      "i = 1\n",
      "i = 2\n",
      "i = 3\n",
      "i = 4\n",
      "i = 5\n"
     ]
    }
   ],
   "source": [
    "for i in 1:5\n",
    "    print(\"i = $i\");print(\"\\n\")\n",
    "end"
   ]
  },
  {
   "cell_type": "code",
   "execution_count": 130,
   "metadata": {},
   "outputs": [
    {
     "data": {
      "text/plain": [
       "-1.2:4.3:20.3"
      ]
     },
     "execution_count": 130,
     "metadata": {},
     "output_type": "execute_result"
    }
   ],
   "source": [
    "range(-1.2, stop=22, step=4.3)"
   ]
  },
  {
   "cell_type": "code",
   "execution_count": 131,
   "metadata": {},
   "outputs": [
    {
     "name": "stdout",
     "output_type": "stream",
     "text": [
      "-1.2\n",
      "3.1\n",
      "7.4\n",
      "11.7\n",
      "16.0\n",
      "20.3\n"
     ]
    }
   ],
   "source": [
    "arr = [1, 2, 3, 4, 5]\n",
    "for x in range(-1.2, stop=22, step=4.3)\n",
    "    println(x)\n",
    "end"
   ]
  },
  {
   "cell_type": "code",
   "execution_count": null,
   "metadata": {},
   "outputs": [],
   "source": []
  },
  {
   "cell_type": "code",
   "execution_count": null,
   "metadata": {},
   "outputs": [],
   "source": []
  },
  {
   "cell_type": "code",
   "execution_count": null,
   "metadata": {},
   "outputs": [],
   "source": []
  },
  {
   "cell_type": "code",
   "execution_count": null,
   "metadata": {},
   "outputs": [],
   "source": []
  },
  {
   "cell_type": "code",
   "execution_count": null,
   "metadata": {},
   "outputs": [],
   "source": []
  },
  {
   "cell_type": "code",
   "execution_count": 132,
   "metadata": {},
   "outputs": [
    {
     "name": "stdout",
     "output_type": "stream",
     "text": [
      "Index: 1, Value: a\n",
      "Index: 2, Value: b\n",
      "Index: 3, Value: c\n"
     ]
    }
   ],
   "source": [
    "arr = [\"a\", \"b\", \"c\"]\n",
    "for (index, value) in enumerate(arr)\n",
    "    println(\"Index: $index, Value: $value\")\n",
    "end\n"
   ]
  },
  {
   "cell_type": "code",
   "execution_count": 133,
   "metadata": {},
   "outputs": [
    {
     "name": "stdout",
     "output_type": "stream",
     "text": [
      "(1, 4)\n",
      "(1, 5)\n",
      "(1, 6)\n",
      "(2, 4)\n",
      "(2, 5)\n",
      "(2, 6)\n",
      "(3, 4)\n",
      "(3, 5)\n",
      "(3, 6)\n"
     ]
    }
   ],
   "source": [
    "for i in 1:3\n",
    "    for j in 4:6\n",
    "        println((i,j))\n",
    "    end\n",
    "end"
   ]
  },
  {
   "cell_type": "code",
   "execution_count": 134,
   "metadata": {},
   "outputs": [
    {
     "name": "stdout",
     "output_type": "stream",
     "text": [
      "(1, 4)\n",
      "(1, 5)\n",
      "(1, 6)\n",
      "(2, 4)\n",
      "(2, 5)\n",
      "(2, 6)\n",
      "(3, 4)\n",
      "(3, 5)\n",
      "(3, 6)\n"
     ]
    }
   ],
   "source": [
    "for i in 1:3, j in 4:6\n",
    "    println((i, j))\n",
    "end\n"
   ]
  },
  {
   "cell_type": "code",
   "execution_count": 135,
   "metadata": {},
   "outputs": [
    {
     "name": "stdout",
     "output_type": "stream",
     "text": [
      "(1, 4, 7)\n",
      "(1, 4, 8)\n",
      "(1, 5, 7)\n",
      "(1, 5, 8)\n",
      "(1, 6, 7)\n",
      "(1, 6, 8)\n",
      "(2, 4, 7)\n",
      "(2, 4, 8)\n",
      "(2, 5, 7)\n",
      "(2, 5, 8)\n",
      "(2, 6, 7)\n",
      "(2, 6, 8)\n",
      "(3, 4, 7)\n",
      "(3, 4, 8)\n",
      "(3, 5, 7)\n",
      "(3, 5, 8)\n",
      "(3, 6, 7)\n",
      "(3, 6, 8)\n"
     ]
    }
   ],
   "source": [
    "for i in 1:3, j in 4:6, k in 7:8\n",
    "    println((i, j,k))\n",
    "end"
   ]
  },
  {
   "cell_type": "code",
   "execution_count": 136,
   "metadata": {},
   "outputs": [
    {
     "data": {
      "text/plain": [
       "Dict{Any, Any} with 4 entries:\n",
       "  \"c\" => [1, 2, 4]\n",
       "  \"b\" => 2\n",
       "  12  => 'c'\n",
       "  \"a\" => 1"
      ]
     },
     "execution_count": 136,
     "metadata": {},
     "output_type": "execute_result"
    }
   ],
   "source": [
    "dict = Dict(\"a\" => 1, \"b\" => 2, \"c\" => [1,2,4], 12 => 'c')"
   ]
  },
  {
   "cell_type": "code",
   "execution_count": 137,
   "metadata": {},
   "outputs": [
    {
     "data": {
      "text/plain": [
       "3-element Vector{Int64}:\n",
       " 1\n",
       " 2\n",
       " 4"
      ]
     },
     "execution_count": 137,
     "metadata": {},
     "output_type": "execute_result"
    }
   ],
   "source": [
    "dict[\"c\"]"
   ]
  },
  {
   "cell_type": "code",
   "execution_count": 138,
   "metadata": {},
   "outputs": [
    {
     "name": "stdout",
     "output_type": "stream",
     "text": [
      "Key: b, Value: 2\n",
      "Key: a, Value: 1\n"
     ]
    }
   ],
   "source": [
    "dict = Dict(\"a\" => 1, \"b\" => 2)\n",
    "for (key, value) in dict\n",
    "    println(\"Key: $key, Value: $value\")\n",
    "end\n"
   ]
  },
  {
   "cell_type": "code",
   "execution_count": null,
   "metadata": {},
   "outputs": [],
   "source": []
  },
  {
   "cell_type": "code",
   "execution_count": null,
   "metadata": {},
   "outputs": [],
   "source": []
  },
  {
   "cell_type": "code",
   "execution_count": null,
   "metadata": {},
   "outputs": [],
   "source": []
  },
  {
   "cell_type": "code",
   "execution_count": 139,
   "metadata": {},
   "outputs": [
    {
     "data": {
      "text/plain": [
       "4-element Vector{Int64}:\n",
       " 1\n",
       " 2\n",
       " 4\n",
       " 5"
      ]
     },
     "execution_count": 139,
     "metadata": {},
     "output_type": "execute_result"
    }
   ],
   "source": [
    "arr = [1, 2, 3, 4, 5]\n",
    "deleteat!(arr, 3) "
   ]
  },
  {
   "cell_type": "code",
   "execution_count": null,
   "metadata": {},
   "outputs": [],
   "source": []
  },
  {
   "cell_type": "code",
   "execution_count": null,
   "metadata": {},
   "outputs": [],
   "source": []
  },
  {
   "cell_type": "code",
   "execution_count": 140,
   "metadata": {},
   "outputs": [
    {
     "data": {
      "text/plain": [
       "11-element Vector{Int64}:\n",
       " 10\n",
       " 11\n",
       " 12\n",
       " 13\n",
       " 14\n",
       " 15\n",
       " 16\n",
       " 17\n",
       " 18\n",
       " 19\n",
       " 20"
      ]
     },
     "execution_count": 140,
     "metadata": {},
     "output_type": "execute_result"
    }
   ],
   "source": [
    "filter!( x-> x >=10 , collect(1:20))"
   ]
  },
  {
   "cell_type": "code",
   "execution_count": null,
   "metadata": {},
   "outputs": [],
   "source": []
  },
  {
   "cell_type": "code",
   "execution_count": null,
   "metadata": {},
   "outputs": [],
   "source": []
  },
  {
   "cell_type": "code",
   "execution_count": 141,
   "metadata": {},
   "outputs": [
    {
     "data": {
      "text/plain": [
       "4-element Vector{Int64}:\n",
       " 1\n",
       " 2\n",
       " 4\n",
       " 5"
      ]
     },
     "execution_count": 141,
     "metadata": {},
     "output_type": "execute_result"
    }
   ],
   "source": [
    "arr = [1, 2, 3, 4, 5]\n",
    "filter!(x -> x != 3, arr)"
   ]
  },
  {
   "cell_type": "code",
   "execution_count": null,
   "metadata": {},
   "outputs": [],
   "source": []
  },
  {
   "cell_type": "code",
   "execution_count": 142,
   "metadata": {},
   "outputs": [
    {
     "data": {
      "text/plain": [
       "6-element Vector{Int64}:\n",
       " 1\n",
       " 2\n",
       " 3\n",
       " 3\n",
       " 4\n",
       " 5"
      ]
     },
     "execution_count": 142,
     "metadata": {},
     "output_type": "execute_result"
    }
   ],
   "source": [
    "arr = [1, 2, 3]\n",
    "push!(arr, 3,4,5) "
   ]
  },
  {
   "cell_type": "code",
   "execution_count": 143,
   "metadata": {},
   "outputs": [
    {
     "data": {
      "text/plain": [
       "6-element Vector{Int64}:\n",
       " 1\n",
       " 2\n",
       " 3\n",
       " 2\n",
       " 3\n",
       " 4"
      ]
     },
     "execution_count": 143,
     "metadata": {},
     "output_type": "execute_result"
    }
   ],
   "source": [
    "[ [1,2,3]..., [2,3,4]...]"
   ]
  },
  {
   "cell_type": "code",
   "execution_count": 144,
   "metadata": {},
   "outputs": [
    {
     "data": {
      "text/plain": [
       "4-element Vector{Int64}:\n",
       "  1\n",
       " 22\n",
       "  2\n",
       "  4"
      ]
     },
     "execution_count": 144,
     "metadata": {},
     "output_type": "execute_result"
    }
   ],
   "source": [
    "arr = [1, 2, 4]\n",
    "insert!(arr, 2, 22)"
   ]
  },
  {
   "cell_type": "code",
   "execution_count": 145,
   "metadata": {},
   "outputs": [
    {
     "data": {
      "text/plain": [
       "6-element Vector{Int64}:\n",
       " 1\n",
       " 2\n",
       " 3\n",
       " 4\n",
       " 5\n",
       " 6"
      ]
     },
     "execution_count": 145,
     "metadata": {},
     "output_type": "execute_result"
    }
   ],
   "source": [
    "arr1 = [1, 2, 3]\n",
    "arr2 = [4, 5, 6]\n",
    "append!(arr1, arr2) "
   ]
  },
  {
   "cell_type": "code",
   "execution_count": 146,
   "metadata": {},
   "outputs": [
    {
     "data": {
      "text/plain": [
       "6-element Vector{Int64}:\n",
       " 1\n",
       " 2\n",
       " 3\n",
       " 4\n",
       " 5\n",
       " 6"
      ]
     },
     "execution_count": 146,
     "metadata": {},
     "output_type": "execute_result"
    }
   ],
   "source": [
    "arr1"
   ]
  },
  {
   "cell_type": "code",
   "execution_count": null,
   "metadata": {},
   "outputs": [],
   "source": []
  },
  {
   "cell_type": "code",
   "execution_count": null,
   "metadata": {},
   "outputs": [],
   "source": []
  },
  {
   "cell_type": "code",
   "execution_count": 147,
   "metadata": {},
   "outputs": [
    {
     "data": {
      "text/plain": [
       "9-element Vector{Int64}:\n",
       " 1\n",
       " 2\n",
       " 3\n",
       " 2\n",
       " 4\n",
       " 6\n",
       " 3\n",
       " 6\n",
       " 9"
      ]
     },
     "execution_count": 147,
     "metadata": {},
     "output_type": "execute_result"
    }
   ],
   "source": [
    "#nested array\n",
    "result = [i * j for i in 1:3 for j in 1:3]"
   ]
  },
  {
   "cell_type": "code",
   "execution_count": 148,
   "metadata": {},
   "outputs": [
    {
     "data": {
      "text/plain": [
       "3×3×2 Array{Int64, 3}:\n",
       "[:, :, 1] =\n",
       " 1  2  3\n",
       " 2  4  6\n",
       " 3  6  9\n",
       "\n",
       "[:, :, 2] =\n",
       " 1  2  3\n",
       " 2  4  6\n",
       " 3  6  9"
      ]
     },
     "execution_count": 148,
     "metadata": {},
     "output_type": "execute_result"
    }
   ],
   "source": [
    "# include a comma to make into a matrix\n",
    "matrix_result = [i * j for i in 1:3, j in 1:3, k in 1:2]\n"
   ]
  },
  {
   "cell_type": "code",
   "execution_count": null,
   "metadata": {},
   "outputs": [],
   "source": []
  },
  {
   "cell_type": "code",
   "execution_count": 149,
   "metadata": {},
   "outputs": [
    {
     "data": {
      "text/plain": [
       "5-element Vector{Int64}:\n",
       " 2\n",
       " 2\n",
       " 4\n",
       " 6\n",
       " 6"
      ]
     },
     "execution_count": 149,
     "metadata": {},
     "output_type": "execute_result"
    }
   ],
   "source": [
    "even_result = [i * j for i in 1:3 for j in 1:3 if (i * j) % 2 == 0]\n"
   ]
  },
  {
   "cell_type": "code",
   "execution_count": null,
   "metadata": {},
   "outputs": [],
   "source": []
  },
  {
   "cell_type": "code",
   "execution_count": 150,
   "metadata": {},
   "outputs": [
    {
     "data": {
      "text/plain": [
       "Simple_Return (generic function with 1 method)"
      ]
     },
     "execution_count": 150,
     "metadata": {},
     "output_type": "execute_result"
    }
   ],
   "source": [
    "include(\"./test1.jl\")"
   ]
  },
  {
   "cell_type": "code",
   "execution_count": 151,
   "metadata": {},
   "outputs": [
    {
     "name": "stdout",
     "output_type": "stream",
     "text": [
      "Simple_Return function value = 22\n"
     ]
    }
   ],
   "source": [
    "val = Simple_Return()\n",
    "println(\"Simple_Return function value = $val\")"
   ]
  },
  {
   "cell_type": "code",
   "execution_count": null,
   "metadata": {},
   "outputs": [],
   "source": []
  },
  {
   "cell_type": "code",
   "execution_count": null,
   "metadata": {},
   "outputs": [],
   "source": []
  },
  {
   "cell_type": "markdown",
   "metadata": {},
   "source": [
    "## Similar function\n",
    "\n",
    "initialize datastructures similar to another (fills with random values as placeholders)"
   ]
  },
  {
   "cell_type": "code",
   "execution_count": 2,
   "metadata": {},
   "outputs": [
    {
     "data": {
      "text/plain": [
       "3×4 Matrix{Float64}:\n",
       " 2.0e-323  1.6e-322      4.94e-321   6.90524e-310\n",
       " 4.0e-323  6.90514e-310  1.235e-321  1.5e-323\n",
       " 1.5e-323  4.94e-322     1.0e-322    1.6e-322"
      ]
     },
     "execution_count": 2,
     "metadata": {},
     "output_type": "execute_result"
    }
   ],
   "source": [
    "r1a = rand(3,4);\n",
    "r1b = similar(r1a)"
   ]
  },
  {
   "cell_type": "code",
   "execution_count": 16,
   "metadata": {},
   "outputs": [
    {
     "data": {
      "text/plain": [
       "5×5 Matrix{Int64}:\n",
       " 0  0  0  0  0\n",
       " 0  0  0  0  0\n",
       " 0  0  0  0  0\n",
       " 0  0  0  0  0\n",
       " 0  0  0  0  0"
      ]
     },
     "execution_count": 16,
     "metadata": {},
     "output_type": "execute_result"
    }
   ],
   "source": [
    "z1a = [0 for i in 1:5, j in 1:5]"
   ]
  },
  {
   "cell_type": "code",
   "execution_count": 17,
   "metadata": {},
   "outputs": [
    {
     "data": {
      "text/plain": [
       "5×5 Matrix{Int64}:\n",
       " 2  1  4  0  0\n",
       " 1  2  0  1  0\n",
       " 1  1  1  0  0\n",
       " 2  0  1  0  0\n",
       " 1  0  0  1  0"
      ]
     },
     "execution_count": 17,
     "metadata": {},
     "output_type": "execute_result"
    }
   ],
   "source": [
    "z1b = similar(z1a)"
   ]
  },
  {
   "cell_type": "code",
   "execution_count": null,
   "metadata": {},
   "outputs": [],
   "source": []
  },
  {
   "cell_type": "markdown",
   "metadata": {},
   "source": [
    "## convert types"
   ]
  },
  {
   "cell_type": "code",
   "execution_count": 147,
   "metadata": {},
   "outputs": [
    {
     "data": {
      "text/plain": [
       "2×4 Matrix{Float64}:\n",
       " 1.0  1.0  1.0  1.0\n",
       " 1.0  1.0  1.0  1.0"
      ]
     },
     "execution_count": 147,
     "metadata": {},
     "output_type": "execute_result"
    }
   ],
   "source": [
    "z2 = ones(2,4)"
   ]
  },
  {
   "cell_type": "code",
   "execution_count": 150,
   "metadata": {},
   "outputs": [
    {
     "data": {
      "text/plain": [
       "2×4 Matrix{Float32}:\n",
       " 1.0  1.0  1.0  1.0\n",
       " 1.0  1.0  1.0  1.0"
      ]
     },
     "execution_count": 150,
     "metadata": {},
     "output_type": "execute_result"
    }
   ],
   "source": [
    "z2b = map(Float32, z2)"
   ]
  },
  {
   "cell_type": "code",
   "execution_count": null,
   "metadata": {},
   "outputs": [],
   "source": []
  },
  {
   "cell_type": "code",
   "execution_count": null,
   "metadata": {},
   "outputs": [],
   "source": []
  },
  {
   "cell_type": "code",
   "execution_count": null,
   "metadata": {},
   "outputs": [],
   "source": []
  },
  {
   "cell_type": "markdown",
   "metadata": {},
   "source": [
    "# put functions into dictionaries"
   ]
  },
  {
   "cell_type": "code",
   "execution_count": 18,
   "metadata": {},
   "outputs": [
    {
     "data": {
      "text/plain": [
       "Dict{String, Any} with 6 entries:\n",
       "  \"f\" => #16\n",
       "  \"c\" => 10\n",
       "  \"e\" => #15\n",
       "  \"b\" => 2\n",
       "  \"a\" => 1\n",
       "  \"d\" => [1, 2, 3]"
      ]
     },
     "execution_count": 18,
     "metadata": {},
     "output_type": "execute_result"
    }
   ],
   "source": [
    "d2 = Dict(\"a\"=>1, \"b\"=>2, \"c\"=>10, \"d\"=>[1,2,3], \"e\"=> x->x*10, \"f\"=> (x,y)->x*y)"
   ]
  },
  {
   "cell_type": "code",
   "execution_count": 19,
   "metadata": {},
   "outputs": [
    {
     "data": {
      "text/plain": [
       "100"
      ]
     },
     "execution_count": 19,
     "metadata": {},
     "output_type": "execute_result"
    }
   ],
   "source": [
    "d2[\"e\"](10)"
   ]
  },
  {
   "cell_type": "code",
   "execution_count": 20,
   "metadata": {},
   "outputs": [
    {
     "data": {
      "text/plain": [
       "200"
      ]
     },
     "execution_count": 20,
     "metadata": {},
     "output_type": "execute_result"
    }
   ],
   "source": [
    "d2[\"f\"](10,20)"
   ]
  },
  {
   "cell_type": "code",
   "execution_count": null,
   "metadata": {},
   "outputs": [],
   "source": []
  },
  {
   "cell_type": "code",
   "execution_count": null,
   "metadata": {},
   "outputs": [],
   "source": []
  },
  {
   "cell_type": "code",
   "execution_count": null,
   "metadata": {},
   "outputs": [],
   "source": []
  },
  {
   "cell_type": "code",
   "execution_count": null,
   "metadata": {},
   "outputs": [],
   "source": []
  },
  {
   "cell_type": "code",
   "execution_count": 152,
   "metadata": {},
   "outputs": [
    {
     "name": "stdout",
     "output_type": "stream",
     "text": [
      "search: \u001b[0m\u001b[1mr\u001b[22m\u001b[0m\u001b[1me\u001b[22m\u001b[0m\u001b[1mp\u001b[22m\u001b[0m\u001b[1me\u001b[22m\u001b[0m\u001b[1ma\u001b[22m\u001b[0m\u001b[1mt\u001b[22m \u001b[0m\u001b[1mr\u001b[22m\u001b[0m\u001b[1me\u001b[22msha\u001b[0m\u001b[1mp\u001b[22m\u001b[0m\u001b[1me\u001b[22md_\u001b[0m\u001b[1ma\u001b[22mrr\n",
      "\n"
     ]
    },
    {
     "data": {
      "text/latex": [
       "\\begin{verbatim}\n",
       "repeat(A::AbstractArray, counts::Integer...)\n",
       "\\end{verbatim}\n",
       "Construct an array by repeating array \\texttt{A} a given number of times in each dimension, specified by \\texttt{counts}.\n",
       "\n",
       "See also: \\href{@ref}{\\texttt{fill}}, \\href{@ref}{\\texttt{Iterators.repeated}}, \\href{@ref}{\\texttt{Iterators.cycle}}.\n",
       "\n",
       "\\section{Examples}\n",
       "\\begin{verbatim}\n",
       "julia> repeat([1, 2, 3], 2)\n",
       "6-element Vector{Int64}:\n",
       " 1\n",
       " 2\n",
       " 3\n",
       " 1\n",
       " 2\n",
       " 3\n",
       "\n",
       "julia> repeat([1, 2, 3], 2, 3)\n",
       "6×3 Matrix{Int64}:\n",
       " 1  1  1\n",
       " 2  2  2\n",
       " 3  3  3\n",
       " 1  1  1\n",
       " 2  2  2\n",
       " 3  3  3\n",
       "\\end{verbatim}\n",
       "\\rule{\\textwidth}{1pt}\n",
       "\\begin{verbatim}\n",
       "repeat(A::AbstractArray; inner=ntuple(Returns(1), ndims(A)), outer=ntuple(Returns(1), ndims(A)))\n",
       "\\end{verbatim}\n",
       "Construct an array by repeating the entries of \\texttt{A}. The i-th element of \\texttt{inner} specifies the number of times that the individual entries of the i-th dimension of \\texttt{A} should be repeated. The i-th element of \\texttt{outer} specifies the number of times that a slice along the i-th dimension of \\texttt{A} should be repeated. If \\texttt{inner} or \\texttt{outer} are omitted, no repetition is performed.\n",
       "\n",
       "\\section{Examples}\n",
       "\\begin{verbatim}\n",
       "julia> repeat(1:2, inner=2)\n",
       "4-element Vector{Int64}:\n",
       " 1\n",
       " 1\n",
       " 2\n",
       " 2\n",
       "\n",
       "julia> repeat(1:2, outer=2)\n",
       "4-element Vector{Int64}:\n",
       " 1\n",
       " 2\n",
       " 1\n",
       " 2\n",
       "\n",
       "julia> repeat([1 2; 3 4], inner=(2, 1), outer=(1, 3))\n",
       "4×6 Matrix{Int64}:\n",
       " 1  2  1  2  1  2\n",
       " 1  2  1  2  1  2\n",
       " 3  4  3  4  3  4\n",
       " 3  4  3  4  3  4\n",
       "\\end{verbatim}\n",
       "\\rule{\\textwidth}{1pt}\n",
       "\\begin{verbatim}\n",
       "repeat(s::AbstractString, r::Integer)\n",
       "\\end{verbatim}\n",
       "Repeat a string \\texttt{r} times. This can be written as \\texttt{s\\^{}r}.\n",
       "\n",
       "See also \\href{@ref :^(::Union{AbstractString, AbstractChar}, ::Integer)}{\\texttt{\\^{}}}.\n",
       "\n",
       "\\section{Examples}\n",
       "\\begin{verbatim}\n",
       "julia> repeat(\"ha\", 3)\n",
       "\"hahaha\"\n",
       "\\end{verbatim}\n",
       "\\rule{\\textwidth}{1pt}\n",
       "\\begin{verbatim}\n",
       "repeat(c::AbstractChar, r::Integer) -> String\n",
       "\\end{verbatim}\n",
       "Repeat a character \\texttt{r} times. This can equivalently be accomplished by calling \\href{@ref :^(::Union{AbstractString, AbstractChar}, ::Integer)}{\\texttt{c\\^{}r}}.\n",
       "\n",
       "\\section{Examples}\n",
       "\\begin{verbatim}\n",
       "julia> repeat('A', 3)\n",
       "\"AAA\"\n",
       "\\end{verbatim}\n"
      ],
      "text/markdown": [
       "```\n",
       "repeat(A::AbstractArray, counts::Integer...)\n",
       "```\n",
       "\n",
       "Construct an array by repeating array `A` a given number of times in each dimension, specified by `counts`.\n",
       "\n",
       "See also: [`fill`](@ref), [`Iterators.repeated`](@ref), [`Iterators.cycle`](@ref).\n",
       "\n",
       "# Examples\n",
       "\n",
       "```jldoctest\n",
       "julia> repeat([1, 2, 3], 2)\n",
       "6-element Vector{Int64}:\n",
       " 1\n",
       " 2\n",
       " 3\n",
       " 1\n",
       " 2\n",
       " 3\n",
       "\n",
       "julia> repeat([1, 2, 3], 2, 3)\n",
       "6×3 Matrix{Int64}:\n",
       " 1  1  1\n",
       " 2  2  2\n",
       " 3  3  3\n",
       " 1  1  1\n",
       " 2  2  2\n",
       " 3  3  3\n",
       "```\n",
       "\n",
       "---\n",
       "\n",
       "```\n",
       "repeat(A::AbstractArray; inner=ntuple(Returns(1), ndims(A)), outer=ntuple(Returns(1), ndims(A)))\n",
       "```\n",
       "\n",
       "Construct an array by repeating the entries of `A`. The i-th element of `inner` specifies the number of times that the individual entries of the i-th dimension of `A` should be repeated. The i-th element of `outer` specifies the number of times that a slice along the i-th dimension of `A` should be repeated. If `inner` or `outer` are omitted, no repetition is performed.\n",
       "\n",
       "# Examples\n",
       "\n",
       "```jldoctest\n",
       "julia> repeat(1:2, inner=2)\n",
       "4-element Vector{Int64}:\n",
       " 1\n",
       " 1\n",
       " 2\n",
       " 2\n",
       "\n",
       "julia> repeat(1:2, outer=2)\n",
       "4-element Vector{Int64}:\n",
       " 1\n",
       " 2\n",
       " 1\n",
       " 2\n",
       "\n",
       "julia> repeat([1 2; 3 4], inner=(2, 1), outer=(1, 3))\n",
       "4×6 Matrix{Int64}:\n",
       " 1  2  1  2  1  2\n",
       " 1  2  1  2  1  2\n",
       " 3  4  3  4  3  4\n",
       " 3  4  3  4  3  4\n",
       "```\n",
       "\n",
       "---\n",
       "\n",
       "```\n",
       "repeat(s::AbstractString, r::Integer)\n",
       "```\n",
       "\n",
       "Repeat a string `r` times. This can be written as `s^r`.\n",
       "\n",
       "See also [`^`](@ref :^(::Union{AbstractString, AbstractChar}, ::Integer)).\n",
       "\n",
       "# Examples\n",
       "\n",
       "```jldoctest\n",
       "julia> repeat(\"ha\", 3)\n",
       "\"hahaha\"\n",
       "```\n",
       "\n",
       "---\n",
       "\n",
       "```\n",
       "repeat(c::AbstractChar, r::Integer) -> String\n",
       "```\n",
       "\n",
       "Repeat a character `r` times. This can equivalently be accomplished by calling [`c^r`](@ref :^(::Union{AbstractString, AbstractChar}, ::Integer)).\n",
       "\n",
       "# Examples\n",
       "\n",
       "```jldoctest\n",
       "julia> repeat('A', 3)\n",
       "\"AAA\"\n",
       "```\n"
      ],
      "text/plain": [
       "\u001b[36m  repeat(A::AbstractArray, counts::Integer...)\u001b[39m\n",
       "\n",
       "  Construct an array by repeating array \u001b[36mA\u001b[39m a given number of times in each\n",
       "  dimension, specified by \u001b[36mcounts\u001b[39m.\n",
       "\n",
       "  See also: \u001b[36mfill\u001b[39m, \u001b[36mIterators.repeated\u001b[39m, \u001b[36mIterators.cycle\u001b[39m.\n",
       "\n",
       "\u001b[1m  Examples\u001b[22m\n",
       "\u001b[1m  ≡≡≡≡≡≡≡≡≡≡\u001b[22m\n",
       "\n",
       "\u001b[36m  julia> repeat([1, 2, 3], 2)\u001b[39m\n",
       "\u001b[36m  6-element Vector{Int64}:\u001b[39m\n",
       "\u001b[36m   1\u001b[39m\n",
       "\u001b[36m   2\u001b[39m\n",
       "\u001b[36m   3\u001b[39m\n",
       "\u001b[36m   1\u001b[39m\n",
       "\u001b[36m   2\u001b[39m\n",
       "\u001b[36m   3\u001b[39m\n",
       "\u001b[36m  \u001b[39m\n",
       "\u001b[36m  julia> repeat([1, 2, 3], 2, 3)\u001b[39m\n",
       "\u001b[36m  6×3 Matrix{Int64}:\u001b[39m\n",
       "\u001b[36m   1  1  1\u001b[39m\n",
       "\u001b[36m   2  2  2\u001b[39m\n",
       "\u001b[36m   3  3  3\u001b[39m\n",
       "\u001b[36m   1  1  1\u001b[39m\n",
       "\u001b[36m   2  2  2\u001b[39m\n",
       "\u001b[36m   3  3  3\u001b[39m\n",
       "\n",
       "  ────────────────────────────────────────────────────────────────────────────\n",
       "\n",
       "\u001b[36m  repeat(A::AbstractArray; inner=ntuple(Returns(1), ndims(A)), outer=ntuple(Returns(1), ndims(A)))\u001b[39m\n",
       "\n",
       "  Construct an array by repeating the entries of \u001b[36mA\u001b[39m. The i-th element of \u001b[36minner\u001b[39m\n",
       "  specifies the number of times that the individual entries of the i-th\n",
       "  dimension of \u001b[36mA\u001b[39m should be repeated. The i-th element of \u001b[36mouter\u001b[39m specifies the\n",
       "  number of times that a slice along the i-th dimension of \u001b[36mA\u001b[39m should be\n",
       "  repeated. If \u001b[36minner\u001b[39m or \u001b[36mouter\u001b[39m are omitted, no repetition is performed.\n",
       "\n",
       "\u001b[1m  Examples\u001b[22m\n",
       "\u001b[1m  ≡≡≡≡≡≡≡≡≡≡\u001b[22m\n",
       "\n",
       "\u001b[36m  julia> repeat(1:2, inner=2)\u001b[39m\n",
       "\u001b[36m  4-element Vector{Int64}:\u001b[39m\n",
       "\u001b[36m   1\u001b[39m\n",
       "\u001b[36m   1\u001b[39m\n",
       "\u001b[36m   2\u001b[39m\n",
       "\u001b[36m   2\u001b[39m\n",
       "\u001b[36m  \u001b[39m\n",
       "\u001b[36m  julia> repeat(1:2, outer=2)\u001b[39m\n",
       "\u001b[36m  4-element Vector{Int64}:\u001b[39m\n",
       "\u001b[36m   1\u001b[39m\n",
       "\u001b[36m   2\u001b[39m\n",
       "\u001b[36m   1\u001b[39m\n",
       "\u001b[36m   2\u001b[39m\n",
       "\u001b[36m  \u001b[39m\n",
       "\u001b[36m  julia> repeat([1 2; 3 4], inner=(2, 1), outer=(1, 3))\u001b[39m\n",
       "\u001b[36m  4×6 Matrix{Int64}:\u001b[39m\n",
       "\u001b[36m   1  2  1  2  1  2\u001b[39m\n",
       "\u001b[36m   1  2  1  2  1  2\u001b[39m\n",
       "\u001b[36m   3  4  3  4  3  4\u001b[39m\n",
       "\u001b[36m   3  4  3  4  3  4\u001b[39m\n",
       "\n",
       "  ────────────────────────────────────────────────────────────────────────────\n",
       "\n",
       "\u001b[36m  repeat(s::AbstractString, r::Integer)\u001b[39m\n",
       "\n",
       "  Repeat a string \u001b[36mr\u001b[39m times. This can be written as \u001b[36ms^r\u001b[39m.\n",
       "\n",
       "  See also \u001b[36m^\u001b[39m.\n",
       "\n",
       "\u001b[1m  Examples\u001b[22m\n",
       "\u001b[1m  ≡≡≡≡≡≡≡≡≡≡\u001b[22m\n",
       "\n",
       "\u001b[36m  julia> repeat(\"ha\", 3)\u001b[39m\n",
       "\u001b[36m  \"hahaha\"\u001b[39m\n",
       "\n",
       "  ────────────────────────────────────────────────────────────────────────────\n",
       "\n",
       "\u001b[36m  repeat(c::AbstractChar, r::Integer) -> String\u001b[39m\n",
       "\n",
       "  Repeat a character \u001b[36mr\u001b[39m times. This can equivalently be accomplished by calling\n",
       "  \u001b[36mc^r\u001b[39m.\n",
       "\n",
       "\u001b[1m  Examples\u001b[22m\n",
       "\u001b[1m  ≡≡≡≡≡≡≡≡≡≡\u001b[22m\n",
       "\n",
       "\u001b[36m  julia> repeat('A', 3)\u001b[39m\n",
       "\u001b[36m  \"AAA\"\u001b[39m"
      ]
     },
     "execution_count": 152,
     "metadata": {},
     "output_type": "execute_result"
    }
   ],
   "source": [
    "?repeat"
   ]
  },
  {
   "cell_type": "code",
   "execution_count": null,
   "metadata": {},
   "outputs": [],
   "source": []
  },
  {
   "cell_type": "markdown",
   "id": "aba2daa2",
   "metadata": {},
   "source": [
    "## more on arrays"
   ]
  },
  {
   "cell_type": "code",
   "execution_count": 22,
   "id": "94de7767",
   "metadata": {},
   "outputs": [
    {
     "name": "stdout",
     "output_type": "stream",
     "text": [
      "Vector{Int64}, size (0,)\n",
      "Vector{Float64}\n",
      "Vector{Number}\n",
      "Vector{Any}\n",
      "Vector{Any}\n",
      "Vector{String}\n",
      "Vector{Person}\n"
     ]
    }
   ],
   "source": [
    "# empty integer arrays of 1D (vectors)\n",
    "arr1 = Int[]\n",
    "println( typeof(arr1), \", size $(size(arr1))\" )\n",
    "arr2 = Float64[]\n",
    "println( typeof(arr2) )\n",
    "arr3 = Number[]\n",
    "println( typeof(arr3) )\n",
    "arr4 = Any[]\n",
    "println( typeof(arr4) )\n",
    "arr5 = []\n",
    "println( typeof(arr5) )\n",
    "arr6 = String[]\n",
    "println( typeof(arr6) )\n",
    "\n",
    "struct Person\n",
    "    name:: String\n",
    "    ssn::Int\n",
    "end\n",
    "\n",
    "arr7 = Person[]\n",
    "println( typeof(arr7) )"
   ]
  },
  {
   "cell_type": "code",
   "execution_count": 23,
   "id": "4ffa322a",
   "metadata": {},
   "outputs": [
    {
     "name": "stdout",
     "output_type": "stream",
     "text": [
      "[1, 2, 3]\n"
     ]
    }
   ],
   "source": [
    "#adding elements\n",
    "push!(arr1, 1,2,3 ) # in Julia '!' generally means to mutate the args\n",
    "println( arr1 )\n"
   ]
  },
  {
   "cell_type": "code",
   "execution_count": 24,
   "id": "50cab8be",
   "metadata": {},
   "outputs": [
    {
     "ename": "LoadError",
     "evalue": "InexactError: Int64(4.5)",
     "output_type": "error",
     "traceback": [
      "InexactError: Int64(4.5)",
      "",
      "Stacktrace:",
      " [1] Int64",
      "   @ ./float.jl:912 [inlined]",
      " [2] convert",
      "   @ ./number.jl:7 [inlined]",
      " [3] push!(a::Vector{Int64}, item::Float64)",
      "   @ Base ./array.jl:1118",
      " [4] top-level scope",
      "   @ In[24]:1"
     ]
    }
   ],
   "source": [
    "push!(arr1, 4.5 ) # must respect the type "
   ]
  },
  {
   "cell_type": "code",
   "execution_count": 25,
   "id": "f74d70e8",
   "metadata": {},
   "outputs": [
    {
     "name": "stdout",
     "output_type": "stream",
     "text": [
      "Number[1, 2.5, 3//4]\n"
     ]
    }
   ],
   "source": [
    "push!(arr3, 1,2.5,3//4 )\n",
    "println(arr3)"
   ]
  },
  {
   "cell_type": "code",
   "execution_count": 26,
   "id": "ed9dd01c",
   "metadata": {},
   "outputs": [
    {
     "name": "stdout",
     "output_type": "stream",
     "text": [
      "Any[\"a\", 1, \"b\", 2, 'c', 2.5]\n"
     ]
    }
   ],
   "source": [
    "for element in [\"a\", 1, \"b\", 2, 'c', 2.5]\n",
    "    push!(arr4, element)\n",
    "end\n",
    "println(arr4)"
   ]
  },
  {
   "cell_type": "code",
   "execution_count": 27,
   "id": "2e95756b",
   "metadata": {},
   "outputs": [
    {
     "name": "stdout",
     "output_type": "stream",
     "text": [
      "Any[\"hi \", 5, \" yeah\"]\n"
     ]
    }
   ],
   "source": [
    "push!(arr5, \"hi \", 5, \" yeah\")\n",
    "println(arr5)"
   ]
  },
  {
   "cell_type": "code",
   "execution_count": 28,
   "id": "ed5c4e86",
   "metadata": {},
   "outputs": [
    {
     "name": "stdout",
     "output_type": "stream",
     "text": [
      "Person[Person(\"alex\", 123), Person(\"bob\", 234)]\n"
     ]
    }
   ],
   "source": [
    "for person_tmp in [Person(\"alex\",123), Person(\"bob\",234)]\n",
    "    push!(arr7, person_tmp)\n",
    "end\n",
    "println(arr7)"
   ]
  },
  {
   "cell_type": "code",
   "execution_count": 29,
   "id": "783677ae",
   "metadata": {},
   "outputs": [
    {
     "name": "stdout",
     "output_type": "stream",
     "text": [
      "Any[\"a\", 1, \"b\", 2, 'c', 2.5, Person[Person(\"alex\", 123), Person(\"bob\", 234)]]\n"
     ]
    }
   ],
   "source": [
    "push!(arr4, arr7) #the collection is added as a single potentially nested\n",
    "println(arr4)"
   ]
  },
  {
   "cell_type": "code",
   "execution_count": 30,
   "id": "6956447a",
   "metadata": {},
   "outputs": [
    {
     "name": "stdout",
     "output_type": "stream",
     "text": [
      "Any[\"hi \", 5, \" yeah\", Person(\"alex\", 123), Person(\"bob\", 234)]\n"
     ]
    }
   ],
   "source": [
    "append!(arr5,arr7) #appends the elements of the collection, stay 'flat'\n",
    "println(arr5)"
   ]
  },
  {
   "cell_type": "code",
   "execution_count": null,
   "id": "2f40f9be",
   "metadata": {},
   "outputs": [],
   "source": []
  },
  {
   "cell_type": "code",
   "execution_count": 57,
   "id": "89b39618",
   "metadata": {},
   "outputs": [
    {
     "name": "stdout",
     "output_type": "stream",
     "text": [
      "Integer[0, 0, 0, 0, 0]\n"
     ]
    }
   ],
   "source": [
    "#predefined arrays\n",
    "arr8 = zeros(Integer,5)\n",
    "println(arr8)"
   ]
  },
  {
   "cell_type": "code",
   "execution_count": 58,
   "id": "83a09ce5",
   "metadata": {},
   "outputs": [
    {
     "name": "stdout",
     "output_type": "stream",
     "text": [
      "[0.0, 0.0, 0.0, 0.0, 0.0]\n"
     ]
    }
   ],
   "source": [
    "arr9 = zeros(Float64, 5)\n",
    "println(arr9)"
   ]
  },
  {
   "cell_type": "code",
   "execution_count": 60,
   "id": "027ad9a5",
   "metadata": {},
   "outputs": [
    {
     "name": "stdout",
     "output_type": "stream",
     "text": [
      "Number[1, 1, 1, 1, 1]\n"
     ]
    }
   ],
   "source": [
    "arr10 = ones(Number, 5)\n",
    "println(arr10)"
   ]
  },
  {
   "cell_type": "code",
   "execution_count": 61,
   "id": "fa0e4101",
   "metadata": {},
   "outputs": [
    {
     "name": "stdout",
     "output_type": "stream",
     "text": [
      "Number[1, 3, 1, 1, 1]\n"
     ]
    }
   ],
   "source": [
    "arr10[2] = 3\n",
    "println(arr10)"
   ]
  },
  {
   "cell_type": "code",
   "execution_count": 64,
   "id": "63259387",
   "metadata": {},
   "outputs": [
    {
     "name": "stdout",
     "output_type": "stream",
     "text": [
      "[#undef, #undef, #undef, #undef, #undef]\n",
      "[\"ok\", \"ok\", \"ok\", \"ok\", \"ok\"]\n"
     ]
    }
   ],
   "source": [
    "#array of string predefined\n",
    "arr11 = Vector{String}(undef,5)\n",
    "println(arr11)\n",
    "arr11 .= \"ok\"\n",
    "println(arr11)"
   ]
  },
  {
   "cell_type": "code",
   "execution_count": 65,
   "id": "7353aefd",
   "metadata": {},
   "outputs": [
    {
     "data": {
      "text/plain": [
       "4×5 Matrix{Real}:\n",
       " 0  0  0  0  0\n",
       " 0  0  0  0  0\n",
       " 0  0  0  0  0\n",
       " 0  0  0  0  0"
      ]
     },
     "metadata": {},
     "output_type": "display_data"
    }
   ],
   "source": [
    "#matrices of defined size with defaults\n",
    "m_0 = zeros(Real, 4,5)\n",
    "display(m_0)"
   ]
  },
  {
   "cell_type": "code",
   "execution_count": 66,
   "id": "c90dbb3b",
   "metadata": {},
   "outputs": [
    {
     "name": "stdout",
     "output_type": "stream",
     "text": [
      "Person[#undef, #undef, #undef, #undef, #undef]\n"
     ]
    }
   ],
   "source": [
    "arr12 = Vector{Person}(undef, 5)\n",
    "println(arr12)"
   ]
  },
  {
   "cell_type": "code",
   "execution_count": 76,
   "metadata": {},
   "outputs": [
    {
     "name": "stdout",
     "output_type": "stream",
     "text": [
      "Person[#undef, #undef, #undef, #undef, #undef]\n"
     ]
    },
    {
     "data": {
      "text/plain": [
       "5-element Vector{Person}:\n",
       " Person(\"John Doe\", 0)\n",
       " Person(\"John Doe\", 0)\n",
       " Person(\"John Doe\", 0)\n",
       " Person(\"John Doe\", 0)\n",
       " Person(\"John Doe\", 0)"
      ]
     },
     "metadata": {},
     "output_type": "display_data"
    }
   ],
   "source": [
    "p1 = Person(\"John Doe\",000)\n",
    "arr12 = Vector{Person}(undef, 5)\n",
    "println(arr12)\n",
    "[ arr12[i]= p1 for i in 1:length(arr12) ]\n",
    "display(arr12)"
   ]
  },
  {
   "cell_type": "code",
   "execution_count": null,
   "id": "470a37c0",
   "metadata": {},
   "outputs": [],
   "source": []
  },
  {
   "cell_type": "code",
   "execution_count": null,
   "metadata": {},
   "outputs": [],
   "source": []
  },
  {
   "cell_type": "code",
   "execution_count": null,
   "metadata": {},
   "outputs": [],
   "source": []
  },
  {
   "cell_type": "code",
   "execution_count": null,
   "metadata": {},
   "outputs": [],
   "source": []
  },
  {
   "cell_type": "code",
   "execution_count": 32,
   "id": "f570cd23",
   "metadata": {},
   "outputs": [
    {
     "data": {
      "text/plain": [
       "2×3 Matrix{Int64}:\n",
       " 1  2  3\n",
       " 4  5  6"
      ]
     },
     "metadata": {},
     "output_type": "display_data"
    }
   ],
   "source": [
    "# matrices (multidimensional arrays)\n",
    "m1 = [1 2 3; 4 5 6]\n",
    "display(m1)"
   ]
  },
  {
   "cell_type": "code",
   "execution_count": 39,
   "id": "e651420f",
   "metadata": {},
   "outputs": [
    {
     "data": {
      "text/plain": [
       "2×4 Matrix{Int64}:\n",
       " 1  2  3  7\n",
       " 4  5  6  7"
      ]
     },
     "metadata": {},
     "output_type": "display_data"
    }
   ],
   "source": [
    "m1 = cat(m1, [7; 7], dims=2) # new column\n",
    "display(m1)"
   ]
  },
  {
   "cell_type": "code",
   "execution_count": 40,
   "id": "6931f7fa",
   "metadata": {},
   "outputs": [
    {
     "data": {
      "text/plain": [
       "2×5 Matrix{Int64}:\n",
       " 1  2  3  7  8\n",
       " 4  5  6  7  8"
      ]
     },
     "metadata": {},
     "output_type": "display_data"
    }
   ],
   "source": [
    "m1 = hcat(m1, [8; 8]) # new column with horizontal cancatenation\n",
    "display(m1)"
   ]
  },
  {
   "cell_type": "code",
   "execution_count": 56,
   "id": "225073d1",
   "metadata": {},
   "outputs": [
    {
     "data": {
      "text/plain": [
       "3×5 Matrix{Int64}:\n",
       " 1  2  3  7  8\n",
       " 4  5  6  7  8\n",
       " 1  2  3  4  5"
      ]
     },
     "metadata": {},
     "output_type": "display_data"
    }
   ],
   "source": [
    "m1 = vcat( m1, reshape(1:5, 1,5) )\n",
    "display(m1)"
   ]
  },
  {
   "cell_type": "code",
   "execution_count": 55,
   "id": "065f70f5",
   "metadata": {},
   "outputs": [
    {
     "data": {
      "text/plain": [
       "1×5 reshape(::UnitRange{Int64}, 1, 5) with eltype Int64:\n",
       " 1  2  3  4  5"
      ]
     },
     "execution_count": 55,
     "metadata": {},
     "output_type": "execute_result"
    }
   ],
   "source": [
    "reshape(1:5, 1,5)"
   ]
  },
  {
   "cell_type": "code",
   "execution_count": null,
   "id": "349b844a",
   "metadata": {},
   "outputs": [],
   "source": []
  },
  {
   "cell_type": "code",
   "execution_count": 80,
   "id": "952df501",
   "metadata": {},
   "outputs": [
    {
     "data": {
      "text/plain": [
       "2×2×2 Array{String, 3}:\n",
       "[:, :, 1] =\n",
       " #undef  #undef\n",
       " #undef  #undef\n",
       "\n",
       "[:, :, 2] =\n",
       " #undef  #undef\n",
       " #undef  #undef"
      ]
     },
     "metadata": {},
     "output_type": "display_data"
    },
    {
     "data": {
      "text/plain": [
       "2×2×2 Array{String, 3}:\n",
       "[:, :, 1] =\n",
       " \"Hello\"  \"Hello\"\n",
       " \"Hello\"  \"Hello\"\n",
       "\n",
       "[:, :, 2] =\n",
       " \"World!\"  \"World!\"\n",
       " \"World!\"  \"World!\""
      ]
     },
     "metadata": {},
     "output_type": "display_data"
    }
   ],
   "source": [
    "#predefined matrix (multidimensional array)\n",
    "arr13 = Array{String}(undef,(2,2,2))\n",
    "display(arr13)\n",
    "arr13[:,:,1] .= \"Hello\"\n",
    "arr13[:,:,2] .= \"World!\"\n",
    "display(arr13)"
   ]
  },
  {
   "cell_type": "code",
   "execution_count": null,
   "id": "efcb7338",
   "metadata": {},
   "outputs": [],
   "source": []
  },
  {
   "cell_type": "code",
   "execution_count": null,
   "id": "77565c3b",
   "metadata": {},
   "outputs": [],
   "source": []
  },
  {
   "cell_type": "code",
   "execution_count": null,
   "metadata": {},
   "outputs": [],
   "source": []
  },
  {
   "cell_type": "code",
   "execution_count": null,
   "id": "8d1167fc",
   "metadata": {},
   "outputs": [],
   "source": []
  },
  {
   "cell_type": "code",
   "execution_count": null,
   "id": "8fe83509",
   "metadata": {},
   "outputs": [],
   "source": []
  },
  {
   "cell_type": "code",
   "execution_count": null,
   "id": "f452bf9c",
   "metadata": {},
   "outputs": [],
   "source": []
  },
  {
   "cell_type": "code",
   "execution_count": null,
   "id": "5ff9fd43",
   "metadata": {},
   "outputs": [],
   "source": []
  },
  {
   "cell_type": "code",
   "execution_count": null,
   "id": "20f6b255",
   "metadata": {},
   "outputs": [],
   "source": []
  },
  {
   "cell_type": "code",
   "execution_count": null,
   "id": "ce33066b",
   "metadata": {},
   "outputs": [],
   "source": []
  }
 ],
 "metadata": {
  "kernelspec": {
   "display_name": "Julia 1.10.4",
   "language": "julia",
   "name": "julia-1.10"
  },
  "language_info": {
   "file_extension": ".jl",
   "mimetype": "application/julia",
   "name": "julia",
   "version": "1.10.4"
  }
 },
 "nbformat": 4,
 "nbformat_minor": 5
}
