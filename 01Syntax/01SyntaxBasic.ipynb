{
 "cells": [
  {
   "cell_type": "code",
   "execution_count": null,
   "id": "ba795744-d153-4ce2-875e-64360022af4f",
   "metadata": {},
   "outputs": [],
   "source": []
  },
  {
   "cell_type": "code",
   "execution_count": 1,
   "id": "d4d0a537-9dd1-4340-9697-f3735a141989",
   "metadata": {},
   "outputs": [],
   "source": [
    "# commented line"
   ]
  },
  {
   "cell_type": "code",
   "execution_count": 155,
   "id": "bf001618-e230-4a8b-a971-c9f48a2ef42b",
   "metadata": {},
   "outputs": [],
   "source": [
    "#=\n",
    "multiple\n",
    "commented \n",
    "lines\n",
    "=#\n",
    "\n",
    "#=multiple\n",
    "commented \n",
    "lines=#"
   ]
  },
  {
   "cell_type": "code",
   "execution_count": 156,
   "id": "61b7f3ce-2a3e-4c2f-ae5a-1a3685c524f1",
   "metadata": {},
   "outputs": [
    {
     "name": "stdout",
     "output_type": "stream",
     "text": [
      "Hello World!"
     ]
    }
   ],
   "source": [
    "#mandatory new language greeting\n",
    "print(\"Hello World!\")"
   ]
  },
  {
   "cell_type": "code",
   "execution_count": 157,
   "id": "f89fe88e-92db-492f-9f88-196acfe95a84",
   "metadata": {},
   "outputs": [
    {
     "data": {
      "text/plain": [
       "10"
      ]
     },
     "execution_count": 157,
     "metadata": {},
     "output_type": "execute_result"
    }
   ],
   "source": [
    "#variable assignment \n",
    "x = 10"
   ]
  },
  {
   "cell_type": "code",
   "execution_count": 158,
   "id": "181c88a7-acae-4949-a8da-6f44491470a2",
   "metadata": {},
   "outputs": [
    {
     "name": "stdout",
     "output_type": "stream",
     "text": [
      "100\n"
     ]
    }
   ],
   "source": [
    "#reassignment\n",
    "x = 100\n",
    "println(x)"
   ]
  },
  {
   "cell_type": "code",
   "execution_count": 159,
   "id": "2d4c79ff-be85-44ef-bc87-26eb24494061",
   "metadata": {},
   "outputs": [
    {
     "name": "stderr",
     "output_type": "stream",
     "text": [
      "WARNING: redefinition of constant y. This may fail, cause incorrect answers, or produce other errors.\n"
     ]
    },
    {
     "data": {
      "text/plain": [
       "1000"
      ]
     },
     "execution_count": 159,
     "metadata": {},
     "output_type": "execute_result"
    }
   ],
   "source": [
    "#make it a constant\n",
    "const y = 1000"
   ]
  },
  {
   "cell_type": "code",
   "execution_count": 161,
   "id": "a89a3b6e-b61e-4c63-992e-e8f1c3084cf6",
   "metadata": {},
   "outputs": [
    {
     "data": {
      "text/plain": [
       "1"
      ]
     },
     "execution_count": 161,
     "metadata": {},
     "output_type": "execute_result"
    }
   ],
   "source": [
    "#attempt to reassign it, it does not produce an 'error' but produces a 'warning'\n",
    "#still mutable\n",
    "y = 1"
   ]
  },
  {
   "cell_type": "code",
   "execution_count": 162,
   "id": "43495499-8cf3-4c70-b700-97551ea2221b",
   "metadata": {},
   "outputs": [
    {
     "name": "stdout",
     "output_type": "stream",
     "text": [
      "1\n"
     ]
    }
   ],
   "source": [
    "#still reassigns though\n",
    "println(y)"
   ]
  },
  {
   "cell_type": "code",
   "execution_count": 163,
   "id": "4465d86f-b506-4bdf-b654-59f67e359dce",
   "metadata": {},
   "outputs": [
    {
     "name": "stdout",
     "output_type": "stream",
     "text": [
      "20\n",
      "40\n",
      "60\n"
     ]
    }
   ],
   "source": [
    "#assign mutliple variables at once\n",
    "a,b,c = 20, 40, 60\n",
    "println(a)\n",
    "println(b)\n",
    "println(c)"
   ]
  },
  {
   "cell_type": "code",
   "execution_count": null,
   "id": "ad26b037-f160-4aa8-aa83-601caa8435fd",
   "metadata": {},
   "outputs": [],
   "source": []
  },
  {
   "cell_type": "code",
   "execution_count": 10,
   "id": "9e0ac073-8ef1-4b47-912b-9dfddc061e80",
   "metadata": {},
   "outputs": [
    {
     "name": "stdout",
     "output_type": "stream",
     "text": [
      "t_0 + 1 = 11\n",
      "t_0 - t_1 = -1\n",
      "multiplication of t_2 * 10 = -10\n",
      "t_3 = t_0 ^ 2 = 100\n",
      "t_4 = t_0 / 2 = 5.0\n",
      "t_5 = t_0 / 3 = 3.3333333333333335\n",
      "t_6 = t_0 // 3 = 10//3\n",
      "t_7 = (t_0 // 3) + (7 // 4) = 61//12\n"
     ]
    }
   ],
   "source": [
    "#standard aritmetic\n",
    "t_0 = 10\n",
    "#addition\n",
    "t_1 = t_0 + 1\n",
    "#print a descriptive string and the value\n",
    "println(\"t_0 + 1 = \", t_1)\n",
    "#subtraction\n",
    "t_2 = t_0 - t_1\n",
    "#print the number within a string that is called 'string interpolation'\n",
    "#using $() placing the variable inside the parenthesis\n",
    "println(\"t_0 - t_1 = $(t_2)\")\n",
    "#compute a multiplication inside the string interpolation\n",
    "println(\"multiplication of t_2 * 10 = $( t_2*10 )\")\n",
    "#exponentiation, and we can have multiple commands per line when commands are separated by semicolons ';'\n",
    "t_3 = t_0 ^ 2; println(\"t_3 = t_0 ^ 2 = $(t_3)\")\n",
    "#division\n",
    "t_4 = t_0 / 2; println(\"t_4 = t_0 / 2 = $(t_4)\")\n",
    "# division\n",
    "t_5 = t_0 / 3; println(\"t_5 = t_0 / 3 = $(t_5)\")\n",
    "# make fractions\n",
    "t_6 = t_0 // 3; println(\"t_6 = t_0 // 3 = $(t_6)\")\n",
    "# add fractions together\n",
    "t_7 = (t_0 // 3) + (7 // 4); println(\"t_7 = (t_0 // 3) + (7 // 4) = $(t_7)\")"
   ]
  },
  {
   "cell_type": "code",
   "execution_count": 75,
   "id": "c7fea051-0d14-4a48-b3cf-e69280bd1823",
   "metadata": {},
   "outputs": [
    {
     "name": "stdout",
     "output_type": "stream",
     "text": [
      "Howdy!\n",
      "s1 = Howdy!\n",
      "Howdy! How are you?\n",
      "length of s2 = 19\n",
      "s2 from 1 to 12 = Howdy! How a\n",
      "s2 from 5 to 12 = y! How a\n",
      "s2 from 1 to 3 and then 6 to the end = How! How are you?\n",
      "s6 = hello\n",
      "s7 = Hiya! How are you?\n",
      "s7 = Hiya! What are you?\n",
      "s8 = Hiya! What are you?Are you good?\n"
     ]
    }
   ],
   "source": [
    "# strings\n",
    "s1 = \"Howdy!\"\n",
    "println(s1)\n",
    "# we can do string interpolation with a string\n",
    "println(\"s1 = $(s1)\")\n",
    "# concatenate strings\n",
    "s2 = s1 * \" How are you?\"\n",
    "println(s2)\n",
    "# length of a string\n",
    "s2_length = length(s2)\n",
    "println(\"length of s2 = $(s2_length)\")\n",
    "# subset of the strings (treat like an array)\n",
    "s3 = s2[1:12]\n",
    "println(\"s2 from 1 to 12 = $(s3)\")\n",
    "s4 = s2[5:12]\n",
    "println(\"s2 from 5 to 12 = $(s4)\")\n",
    "# removing part of a string\n",
    "s5 = s2[1:3] * s2[6:end]\n",
    "println(\"s2 from 1 to 3 and then 6 to the end = $(s5)\")\n",
    "# string interpolation shorthand not needing the parenthesis\n",
    "s6 = \"hello\"\n",
    "println(\"s6 = $s6\")\n",
    "# substring replace\n",
    "s7 = replace(s2, \"Howdy\" => \"Hiya\")\n",
    "println(\"s7 = $s7\")\n",
    "# multiple substring replace using the pairs operator '=>'\n",
    "s7 = replace(s2, \"Howdy\" => \"Hiya\", \"How\" => \"What\")\n",
    "println(\"s7 = $s7\")\n",
    "# we can make a string with the 'string' constructor\n",
    "s8 = string(s7, \"Are you good?\")\n",
    "println(\"s8 = $s8\")"
   ]
  },
  {
   "cell_type": "code",
   "execution_count": 164,
   "id": "1e76d171-2f2e-4cf2-93f7-b81da55c20aa",
   "metadata": {},
   "outputs": [
    {
     "name": "stdout",
     "output_type": "stream",
     "text": [
      "c_str = Hi\n"
     ]
    }
   ],
   "source": [
    "#build up a string from characters\n",
    "c1 = 'H'\n",
    "c2 = 'i'\n",
    "c_str = string(c1,c2)\n",
    "println(\"c_str = \",c_str)"
   ]
  },
  {
   "cell_type": "code",
   "execution_count": 77,
   "id": "6d21efbe-cb78-4bfe-9723-2416be174194",
   "metadata": {},
   "outputs": [
    {
     "data": {
      "text/plain": [
       "\"Çī\""
      ]
     },
     "execution_count": 77,
     "metadata": {},
     "output_type": "execute_result"
    }
   ],
   "source": [
    "string( 'c' + 100, 'c' + 200)"
   ]
  },
  {
   "cell_type": "code",
   "execution_count": 170,
   "id": "07163c9f-985b-4b7b-a7c9-7a322c5bece8",
   "metadata": {},
   "outputs": [
    {
     "data": {
      "text/plain": [
       "'º': Unicode U+00BA (category Lo: Letter, other)"
      ]
     },
     "execution_count": 170,
     "metadata": {},
     "output_type": "execute_result"
    }
   ],
   "source": [
    "Char(Int('c')+87)"
   ]
  },
  {
   "cell_type": "code",
   "execution_count": 173,
   "id": "91eb5243-6cbc-430e-b570-6db949358338",
   "metadata": {},
   "outputs": [
    {
     "data": {
      "text/plain": [
       "4-element Vector{Char}:\n",
       " '7': ASCII/Unicode U+0037 (category Nd: Number, decimal digit)\n",
       " '{': ASCII/Unicode U+007B (category Ps: Punctuation, open)\n",
       " '+': ASCII/Unicode U+002B (category Sm: Symbol, math)\n",
       " 'Ƽ': Unicode U+01BC (category Lu: Letter, uppercase)"
      ]
     },
     "execution_count": 173,
     "metadata": {},
     "output_type": "execute_result"
    }
   ],
   "source": [
    "Char.([55,123,43,444])"
   ]
  },
  {
   "cell_type": "code",
   "execution_count": null,
   "id": "acca69c3-22b9-4aa5-b3b8-c165bccb9545",
   "metadata": {},
   "outputs": [],
   "source": []
  },
  {
   "cell_type": "code",
   "execution_count": null,
   "id": "f3b971f4-3c4d-420b-839f-468d6bcb85c2",
   "metadata": {},
   "outputs": [],
   "source": []
  },
  {
   "cell_type": "code",
   "execution_count": 175,
   "id": "6f270664-1edb-48de-a9c8-e918c844adb2",
   "metadata": {},
   "outputs": [
    {
     "data": {
      "text/plain": [
       "4"
      ]
     },
     "execution_count": 175,
     "metadata": {},
     "output_type": "execute_result"
    }
   ],
   "source": [
    "#specify the types at declaration \n",
    "q::Int = 10\n",
    "r::Int64 = 20\n",
    "s::Float64 = 3.14\n",
    "t::String = \"Hi!\"\n",
    "u = \"Hey\"\n",
    "f::UInt8 = 4"
   ]
  },
  {
   "cell_type": "code",
   "execution_count": 79,
   "id": "76ff9c4b-77d3-45a4-b336-67f4180a24e4",
   "metadata": {},
   "outputs": [
    {
     "data": {
      "text/plain": [
       "Int64"
      ]
     },
     "execution_count": 79,
     "metadata": {},
     "output_type": "execute_result"
    }
   ],
   "source": [
    "#get the type of 'q'\n",
    "typeof(q)"
   ]
  },
  {
   "cell_type": "code",
   "execution_count": 80,
   "id": "e53819cc-43c0-4414-9615-4c9a30626d16",
   "metadata": {},
   "outputs": [
    {
     "data": {
      "text/plain": [
       "true"
      ]
     },
     "execution_count": 80,
     "metadata": {},
     "output_type": "execute_result"
    }
   ],
   "source": [
    "#check the type of 'q' against another\n",
    "isa(q,Int)"
   ]
  },
  {
   "cell_type": "code",
   "execution_count": 81,
   "id": "03963daa-5f25-410d-adcf-918e3bb42f2f",
   "metadata": {},
   "outputs": [
    {
     "data": {
      "text/plain": [
       "false"
      ]
     },
     "execution_count": 81,
     "metadata": {},
     "output_type": "execute_result"
    }
   ],
   "source": [
    "#check the type of 'q' against another 'sibling' of Number\n",
    "isa(q,Float64)"
   ]
  },
  {
   "cell_type": "code",
   "execution_count": 82,
   "id": "9ec07123-a2a8-47a5-b29d-04348df44c01",
   "metadata": {},
   "outputs": [
    {
     "data": {
      "text/plain": [
       "true"
      ]
     },
     "execution_count": 82,
     "metadata": {},
     "output_type": "execute_result"
    }
   ],
   "source": [
    "#check the type of 'q' against another parent type\n",
    "isa(q,Number)"
   ]
  },
  {
   "cell_type": "code",
   "execution_count": 83,
   "id": "0bc2459a-c96c-43a8-a915-e98949dc5361",
   "metadata": {},
   "outputs": [
    {
     "ename": "LoadError",
     "evalue": "TypeError: in typeassert, expected String, got a value of type Int64",
     "output_type": "error",
     "traceback": [
      "TypeError: in typeassert, expected String, got a value of type Int64",
      "",
      "Stacktrace:",
      " [1] top-level scope",
      "   @ In[83]:2"
     ]
    }
   ],
   "source": [
    "#check against the wrong type\n",
    "q::String"
   ]
  },
  {
   "cell_type": "code",
   "execution_count": 84,
   "id": "597fd8e1-7483-4d82-a5f6-88b388fb52f4",
   "metadata": {},
   "outputs": [
    {
     "data": {
      "text/plain": [
       "10"
      ]
     },
     "execution_count": 84,
     "metadata": {},
     "output_type": "execute_result"
    }
   ],
   "source": [
    "#check against the parent type as an assertion\n",
    "q::Number"
   ]
  },
  {
   "cell_type": "code",
   "execution_count": 176,
   "id": "0af86b3d-d1dd-45cf-b5ad-d60de659e93d",
   "metadata": {},
   "outputs": [
    {
     "data": {
      "text/plain": [
       "55"
      ]
     },
     "execution_count": 176,
     "metadata": {},
     "output_type": "execute_result"
    }
   ],
   "source": [
    "f = 55"
   ]
  },
  {
   "cell_type": "code",
   "execution_count": 177,
   "id": "916999a2-4f85-49c3-86ca-050227856d71",
   "metadata": {},
   "outputs": [
    {
     "ename": "LoadError",
     "evalue": "InexactError: trunc(UInt8, -3)",
     "output_type": "error",
     "traceback": [
      "InexactError: trunc(UInt8, -3)",
      "",
      "Stacktrace:",
      " [1] throw_inexacterror(f::Symbol, #unused#::Type{UInt8}, val::Int64)",
      "   @ Core ./boot.jl:614",
      " [2] checked_trunc_uint",
      "   @ ./boot.jl:644 [inlined]",
      " [3] toUInt8",
      "   @ ./boot.jl:706 [inlined]",
      " [4] UInt8",
      "   @ ./boot.jl:766 [inlined]",
      " [5] convert(#unused#::Type{UInt8}, x::Int64)",
      "   @ Base ./number.jl:7",
      " [6] top-level scope",
      "   @ In[177]:1"
     ]
    }
   ],
   "source": [
    "f = -3"
   ]
  },
  {
   "cell_type": "code",
   "execution_count": null,
   "id": "71811f17-9530-4ec9-822b-482669d99d1d",
   "metadata": {},
   "outputs": [],
   "source": []
  },
  {
   "cell_type": "code",
   "execution_count": null,
   "id": "597b0807-ae44-492e-93a7-e2f55d0226c0",
   "metadata": {},
   "outputs": [],
   "source": []
  },
  {
   "cell_type": "code",
   "execution_count": null,
   "id": "a40f304f-1ecb-4491-9170-7c7a75208b9b",
   "metadata": {},
   "outputs": [],
   "source": []
  },
  {
   "cell_type": "code",
   "execution_count": 178,
   "id": "1205ca5e-92af-440a-b92d-5a41d630dcb2",
   "metadata": {},
   "outputs": [
    {
     "name": "stdout",
     "output_type": "stream",
     "text": [
      "Int64, true\n",
      "Int64, true\n",
      "Int64, false\n",
      "Int64, false\n",
      "Int64, false\n",
      "Int64, true\n"
     ]
    }
   ],
   "source": [
    "z::Int32 = 1\n",
    "println(typeof(x),\", \", typeof(z) <: Number) \n",
    "println(typeof(x),\", \", typeof(z) <: Int32)\n",
    "println(typeof(x),\", \", typeof(z) <: Int64)\n",
    "println(typeof(x),\", \", typeof(z) <: Int8)\n",
    "println(typeof(x),\", \", typeof(z) <: Char) \n",
    "println(typeof(x),\", \", typeof(z) <: Real) "
   ]
  },
  {
   "cell_type": "code",
   "execution_count": 179,
   "id": "2dbe6a68-9948-4b19-a59b-fa751b0fc17f",
   "metadata": {},
   "outputs": [
    {
     "data": {
      "text/plain": [
       "Float16(1.0)"
      ]
     },
     "execution_count": 179,
     "metadata": {},
     "output_type": "execute_result"
    }
   ],
   "source": [
    "#convert types\n",
    "z_float = Float16(z)"
   ]
  },
  {
   "cell_type": "code",
   "execution_count": 180,
   "id": "b08f2aa9-02bd-46c7-bf50-29ce436d9dee",
   "metadata": {},
   "outputs": [
    {
     "data": {
      "text/plain": [
       "Float16"
      ]
     },
     "execution_count": 180,
     "metadata": {},
     "output_type": "execute_result"
    }
   ],
   "source": [
    "typeof(z_float)"
   ]
  },
  {
   "cell_type": "code",
   "execution_count": 181,
   "id": "a653bce6-92aa-430e-9178-283aae05d14a",
   "metadata": {},
   "outputs": [
    {
     "data": {
      "text/plain": [
       "Float64"
      ]
     },
     "execution_count": 181,
     "metadata": {},
     "output_type": "execute_result"
    }
   ],
   "source": [
    "#typecasting for compatibility in operations\n",
    "a1::Float16 = 2\n",
    "a2::Float64 = 3\n",
    "b1::Int8 = 4\n",
    "a4 = a1+a2+b1\n",
    "typeof(a4)"
   ]
  },
  {
   "cell_type": "code",
   "execution_count": null,
   "id": "337c14e8-faaf-4dc9-aede-828d359053d8",
   "metadata": {},
   "outputs": [],
   "source": []
  },
  {
   "cell_type": "code",
   "execution_count": null,
   "id": "e46e3e56-47cc-4492-af89-c850538c0d0e",
   "metadata": {},
   "outputs": [],
   "source": []
  },
  {
   "cell_type": "code",
   "execution_count": 182,
   "id": "4d34d30a-5b35-466f-8ec0-71b823a3c79f",
   "metadata": {},
   "outputs": [],
   "source": [
    "#custom types\n",
    "#immutable structs, the fields cannot be modified after defining them\n",
    "struct Point\n",
    "    x::Float64\n",
    "    y::Float64\n",
    "end"
   ]
  },
  {
   "cell_type": "code",
   "execution_count": 183,
   "id": "9a6d5ccc-a864-43c0-bfc8-a348037651fd",
   "metadata": {},
   "outputs": [
    {
     "data": {
      "text/plain": [
       "Point(1.0, 2.0)"
      ]
     },
     "execution_count": 183,
     "metadata": {},
     "output_type": "execute_result"
    }
   ],
   "source": [
    "p1 = Point(1,2)"
   ]
  },
  {
   "cell_type": "code",
   "execution_count": 184,
   "id": "c7e20ddc-41db-4a92-aba6-9b09c40f9532",
   "metadata": {},
   "outputs": [
    {
     "name": "stdout",
     "output_type": "stream",
     "text": [
      "x = 1.0 y = 2.0\n"
     ]
    }
   ],
   "source": [
    "println(\"x = \", p1.x,\" y = \",p1.y)"
   ]
  },
  {
   "cell_type": "code",
   "execution_count": 185,
   "id": "091fdd73-3c55-4c33-9ca8-56ee9d2cd546",
   "metadata": {},
   "outputs": [
    {
     "ename": "LoadError",
     "evalue": "setfield!: immutable struct of type Point cannot be changed",
     "output_type": "error",
     "traceback": [
      "setfield!: immutable struct of type Point cannot be changed",
      "",
      "Stacktrace:",
      " [1] setproperty!(x::Point, f::Symbol, v::Int64)",
      "   @ Base ./Base.jl:39",
      " [2] top-level scope",
      "   @ In[185]:2"
     ]
    }
   ],
   "source": [
    "#try to change the values\n",
    "p1.x = 3"
   ]
  },
  {
   "cell_type": "code",
   "execution_count": 186,
   "id": "5d4cb215-75e3-4a8f-b54d-1780e783e4d8",
   "metadata": {},
   "outputs": [],
   "source": [
    "#now we can define a mutable struct which allows modifying the values\n",
    "mutable struct MutablePoint\n",
    "    x::Float64\n",
    "    y::Float64\n",
    "end"
   ]
  },
  {
   "cell_type": "code",
   "execution_count": 187,
   "id": "29ad9134-29c3-418f-a594-f4dd46faf2af",
   "metadata": {},
   "outputs": [
    {
     "data": {
      "text/plain": [
       "3.0"
      ]
     },
     "execution_count": 187,
     "metadata": {},
     "output_type": "execute_result"
    }
   ],
   "source": [
    "mp = MutablePoint(1.0, 2.0)\n",
    "mp.x = 3.0 "
   ]
  },
  {
   "cell_type": "code",
   "execution_count": 188,
   "id": "e5e578df-df51-4398-9d39-7c086e197c1c",
   "metadata": {},
   "outputs": [],
   "source": [
    "#we don't have to define types\n",
    "mutable struct Names\n",
    "    first\n",
    "    last\n",
    "end"
   ]
  },
  {
   "cell_type": "code",
   "execution_count": 189,
   "id": "d7769b51-f14d-4061-86ca-61bb87866e85",
   "metadata": {},
   "outputs": [
    {
     "data": {
      "text/plain": [
       "Names(\"alex\", \"manz\")"
      ]
     },
     "execution_count": 189,
     "metadata": {},
     "output_type": "execute_result"
    }
   ],
   "source": [
    "nms = Names(\"alex\",\"manz\")"
   ]
  },
  {
   "cell_type": "code",
   "execution_count": 191,
   "id": "08b671ba-e40b-41ba-bc75-0584c08f3f30",
   "metadata": {},
   "outputs": [],
   "source": [
    "#we can put commas and semicolons if we wish but must be consistent\n",
    "mutable struct NamesA\n",
    "    first,\n",
    "    last\n",
    "end\n",
    "mutable struct NamesB2\n",
    "    first\n",
    "    last\n",
    "end"
   ]
  },
  {
   "cell_type": "code",
   "execution_count": 98,
   "id": "5fe30a86-7528-4ab5-a847-414f8853e77b",
   "metadata": {},
   "outputs": [],
   "source": [
    "mutable struct NamesC\n",
    "    first; last; phone\n",
    "end"
   ]
  },
  {
   "cell_type": "code",
   "execution_count": 99,
   "id": "6ab73cbc-b859-4f10-9ea5-c44b39f98667",
   "metadata": {},
   "outputs": [],
   "source": [
    "mutable struct NamesE\n",
    "    first; last; phone\n",
    "end"
   ]
  },
  {
   "cell_type": "code",
   "execution_count": null,
   "id": "42602c33-6ad4-4ced-9564-2c1073c6bd29",
   "metadata": {},
   "outputs": [],
   "source": []
  },
  {
   "cell_type": "code",
   "execution_count": 192,
   "id": "a49f9dc3-beb7-4d90-9c34-46727a5e9e8f",
   "metadata": {},
   "outputs": [],
   "source": [
    "#we can make 'parametric types(structs)' they are akin to Generics\n",
    "struct parametricUser{T}\n",
    "    userID::T\n",
    "    userName\n",
    "end"
   ]
  },
  {
   "cell_type": "code",
   "execution_count": 193,
   "id": "aa661832-ad47-4a92-b6c4-bd7564442ba3",
   "metadata": {},
   "outputs": [
    {
     "data": {
      "text/plain": [
       "parametricUser{Float16}(Float16(123.0), \"John\")"
      ]
     },
     "execution_count": 193,
     "metadata": {},
     "output_type": "execute_result"
    }
   ],
   "source": [
    "pu1 = parametricUser( Float16(123), \"John\" )"
   ]
  },
  {
   "cell_type": "code",
   "execution_count": 102,
   "id": "a8d09ad3-8a26-4079-be6e-c1136af456ce",
   "metadata": {},
   "outputs": [
    {
     "name": "stdout",
     "output_type": "stream",
     "text": [
      "123.0\n",
      "Float16\n"
     ]
    }
   ],
   "source": [
    "println( pu1.userID )\n",
    "println( typeof(pu1.userID) )"
   ]
  },
  {
   "cell_type": "code",
   "execution_count": 194,
   "id": "caa71947-52aa-4bbb-b37c-4f4de95797df",
   "metadata": {},
   "outputs": [
    {
     "data": {
      "text/plain": [
       "parametricUser{Char}('z', \"John\")"
      ]
     },
     "execution_count": 194,
     "metadata": {},
     "output_type": "execute_result"
    }
   ],
   "source": [
    "pu1 = parametricUser( 'z', \"John\" )"
   ]
  },
  {
   "cell_type": "code",
   "execution_count": 103,
   "id": "efcc7a40-4e18-4ca9-8437-71b6af736585",
   "metadata": {},
   "outputs": [],
   "source": [
    "#we can make 'parametric types(structs)' with multiple parametric types and constrainst\n",
    "struct parametricUserB{T1,T2<:Int,T3<:String}\n",
    "    userID::T1\n",
    "    count::T2\n",
    "    userName::T3\n",
    "    appID::T1\n",
    "end"
   ]
  },
  {
   "cell_type": "code",
   "execution_count": 104,
   "id": "90dd4d47-6915-4805-9a90-d1509f242766",
   "metadata": {},
   "outputs": [
    {
     "data": {
      "text/plain": [
       "parametricUserB{Int64, Int64, String}(123, 2, \"John\", 21)"
      ]
     },
     "execution_count": 104,
     "metadata": {},
     "output_type": "execute_result"
    }
   ],
   "source": [
    "# ok\n",
    "parametricUserB(123,2,\"John\",21)"
   ]
  },
  {
   "cell_type": "code",
   "execution_count": 105,
   "id": "c3eb682e-45d4-4469-afc0-b3524b2e6a92",
   "metadata": {},
   "outputs": [
    {
     "ename": "LoadError",
     "evalue": "MethodError: no method matching parametricUserB(::Int64, ::Int64, ::Int64, ::Int64)\n\u001b[0mClosest candidates are:\n\u001b[0m  parametricUserB(::T1, ::T2, \u001b[91m::T3\u001b[39m, ::T1) where {T1, T2<:Int64, T3<:String} at In[103]:3",
     "output_type": "error",
     "traceback": [
      "MethodError: no method matching parametricUserB(::Int64, ::Int64, ::Int64, ::Int64)\n\u001b[0mClosest candidates are:\n\u001b[0m  parametricUserB(::T1, ::T2, \u001b[91m::T3\u001b[39m, ::T1) where {T1, T2<:Int64, T3<:String} at In[103]:3",
      "",
      "Stacktrace:",
      " [1] top-level scope",
      "   @ In[105]:2"
     ]
    }
   ],
   "source": [
    "# not ok, violates type constraint T3\n",
    "parametricUserB(123,2,0,21)"
   ]
  },
  {
   "cell_type": "code",
   "execution_count": 106,
   "id": "eeb5848f-06aa-4538-9274-079c7ae2a991",
   "metadata": {},
   "outputs": [
    {
     "ename": "LoadError",
     "evalue": "MethodError: no method matching parametricUserB(::Int64, ::Float64, ::String, ::Int64)\n\u001b[0mClosest candidates are:\n\u001b[0m  parametricUserB(::T1, \u001b[91m::T2\u001b[39m, ::T3, ::T1) where {T1, T2<:Int64, T3<:String} at In[103]:3",
     "output_type": "error",
     "traceback": [
      "MethodError: no method matching parametricUserB(::Int64, ::Float64, ::String, ::Int64)\n\u001b[0mClosest candidates are:\n\u001b[0m  parametricUserB(::T1, \u001b[91m::T2\u001b[39m, ::T3, ::T1) where {T1, T2<:Int64, T3<:String} at In[103]:3",
      "",
      "Stacktrace:",
      " [1] top-level scope",
      "   @ In[106]:2"
     ]
    }
   ],
   "source": [
    "# not ok, violates type constraint T2\n",
    "parametricUserB(123,1.2,\"John\",21)"
   ]
  },
  {
   "cell_type": "code",
   "execution_count": 107,
   "id": "9658aadb-989e-4172-b475-debe0c002cda",
   "metadata": {},
   "outputs": [
    {
     "ename": "LoadError",
     "evalue": "MethodError: no method matching parametricUserB(::Int64, ::Int64, ::String, ::Float64)\n\u001b[0mClosest candidates are:\n\u001b[0m  parametricUserB(::T1, ::T2, ::T3, \u001b[91m::T1\u001b[39m) where {T1, T2<:Int64, T3<:String} at In[103]:3",
     "output_type": "error",
     "traceback": [
      "MethodError: no method matching parametricUserB(::Int64, ::Int64, ::String, ::Float64)\n\u001b[0mClosest candidates are:\n\u001b[0m  parametricUserB(::T1, ::T2, ::T3, \u001b[91m::T1\u001b[39m) where {T1, T2<:Int64, T3<:String} at In[103]:3",
      "",
      "Stacktrace:",
      " [1] top-level scope",
      "   @ In[107]:2"
     ]
    }
   ],
   "source": [
    "# not ok, violates type constraint for 'userID' and 'appID' to be the same\n",
    "parametricUserB(123,12,\"John\",1.2)"
   ]
  },
  {
   "cell_type": "code",
   "execution_count": null,
   "id": "72a5068e-b390-4adf-8eec-dc25c7cedb08",
   "metadata": {},
   "outputs": [],
   "source": []
  },
  {
   "cell_type": "code",
   "execution_count": 108,
   "id": "f915d33b-c1a4-4783-ae87-7f9a927b51f5",
   "metadata": {},
   "outputs": [],
   "source": [
    "# inner constructor\n",
    "struct PositivePoint\n",
    "    x::Float64\n",
    "    y::Float64\n",
    "    PositivePoint(x, y) = x > 0 && y > 0 ? new(x, y) : throw(ArgumentError(\"Coordinates must be positive\"))\n",
    "end"
   ]
  },
  {
   "cell_type": "code",
   "execution_count": 109,
   "id": "e6617263-efec-457e-9943-2a4932a315b2",
   "metadata": {},
   "outputs": [
    {
     "data": {
      "text/plain": [
       "PositivePoint(2.0, 3.3)"
      ]
     },
     "execution_count": 109,
     "metadata": {},
     "output_type": "execute_result"
    }
   ],
   "source": [
    "pp1 = PositivePoint(2,3.3)"
   ]
  },
  {
   "cell_type": "code",
   "execution_count": 110,
   "id": "04bd2dae-36ed-4ef4-bfe5-833163516194",
   "metadata": {},
   "outputs": [
    {
     "ename": "LoadError",
     "evalue": "ArgumentError: Coordinates must be positive",
     "output_type": "error",
     "traceback": [
      "ArgumentError: Coordinates must be positive",
      "",
      "Stacktrace:",
      " [1] PositivePoint(x::Int64, y::Float64)",
      "   @ Main ./In[108]:5",
      " [2] top-level scope",
      "   @ In[110]:1"
     ]
    }
   ],
   "source": [
    "pp2 = PositivePoint(2,-3.3)"
   ]
  },
  {
   "cell_type": "code",
   "execution_count": null,
   "id": "d4cffc20-4537-4082-ab5d-af66852c099e",
   "metadata": {},
   "outputs": [],
   "source": []
  },
  {
   "cell_type": "code",
   "execution_count": 111,
   "id": "b9e9b051-3922-412f-86c5-e5c3cdbd882f",
   "metadata": {},
   "outputs": [],
   "source": [
    "# different inner constructors\n",
    "# Inner constructors are defined \n",
    "# inside the struct block and can enforce invariants or provide default values\n",
    "struct PersonType2\n",
    "    firstName\n",
    "    lastName\n",
    "    PersonType2(firstName,lastName) = new(firstName,lastName)\n",
    "    PersonType2() = new(\"John\",\"Doe\")\n",
    "end"
   ]
  },
  {
   "cell_type": "code",
   "execution_count": 112,
   "id": "4450ba7e-6c24-4e7a-ac99-c3679318f7b4",
   "metadata": {},
   "outputs": [
    {
     "name": "stdout",
     "output_type": "stream",
     "text": [
      "PersonType2(\"John\", \"Doe\")\n",
      "PersonType2(\"Bob\", \"Minton\")\n"
     ]
    }
   ],
   "source": [
    "pt2a = PersonType2()\n",
    "println(pt2a)\n",
    "pt2b = PersonType2(\"Bob\",\"Minton\")\n",
    "println(pt2b)"
   ]
  },
  {
   "cell_type": "code",
   "execution_count": 113,
   "id": "94da5273-63cd-48b9-b947-04886405430f",
   "metadata": {},
   "outputs": [],
   "source": [
    "#let us add optional arguments as well to simplify and expand to more use cases\n",
    "struct PersonType3\n",
    "    firstName\n",
    "    lastName\n",
    "    function PersonType3(firstName=\"John\", lastName=\"Doe\")\n",
    "        new(firstName,lastName)\n",
    "    end\n",
    "end"
   ]
  },
  {
   "cell_type": "code",
   "execution_count": 114,
   "id": "6dedda9e-06aa-4e84-886b-23eb25100287",
   "metadata": {},
   "outputs": [
    {
     "name": "stdout",
     "output_type": "stream",
     "text": [
      "PersonType3(\"John\", \"Doe\")\n",
      "PersonType3(\"Bob\", \"Doe\")\n"
     ]
    }
   ],
   "source": [
    "pt3a = PersonType3()\n",
    "println(pt3a)\n",
    "pt3b = PersonType3(\"Bob\")\n",
    "println(pt3b)"
   ]
  },
  {
   "cell_type": "code",
   "execution_count": 115,
   "id": "e59ef9e3-a13b-47a6-9012-05460929486f",
   "metadata": {},
   "outputs": [
    {
     "ename": "LoadError",
     "evalue": "MethodError: no method matching PersonType3(; lastname=\"Minton\")\n\u001b[0mClosest candidates are:\n\u001b[0m  PersonType3() at In[113]:5\u001b[91m got unsupported keyword argument \"lastname\"\u001b[39m\n\u001b[0m  PersonType3(\u001b[91m::Any\u001b[39m) at In[113]:5\u001b[91m got unsupported keyword argument \"lastname\"\u001b[39m\n\u001b[0m  PersonType3(\u001b[91m::Any\u001b[39m, \u001b[91m::Any\u001b[39m) at In[113]:5\u001b[91m got unsupported keyword argument \"lastname\"\u001b[39m",
     "output_type": "error",
     "traceback": [
      "MethodError: no method matching PersonType3(; lastname=\"Minton\")\n\u001b[0mClosest candidates are:\n\u001b[0m  PersonType3() at In[113]:5\u001b[91m got unsupported keyword argument \"lastname\"\u001b[39m\n\u001b[0m  PersonType3(\u001b[91m::Any\u001b[39m) at In[113]:5\u001b[91m got unsupported keyword argument \"lastname\"\u001b[39m\n\u001b[0m  PersonType3(\u001b[91m::Any\u001b[39m, \u001b[91m::Any\u001b[39m) at In[113]:5\u001b[91m got unsupported keyword argument \"lastname\"\u001b[39m",
      "",
      "Stacktrace:",
      " [1] top-level scope",
      "   @ In[115]:2"
     ]
    }
   ],
   "source": [
    "# fails\n",
    "pt3c = PersonType3(lastname=\"Minton\")\n",
    "println(pt3c)"
   ]
  },
  {
   "cell_type": "code",
   "execution_count": 203,
   "id": "c0e6419c-b14b-4c54-a783-9c88fd9e8756",
   "metadata": {},
   "outputs": [],
   "source": [
    "#adding for keyword arguments\n",
    "struct PersonType4z\n",
    "    id\n",
    "    firstName\n",
    "    lastName\n",
    "    function PersonType4z(id;firstName=\"John\", lastName=\"Doe\") #added a semicolon\n",
    "        new(id,firstName,lastName)\n",
    "    end\n",
    "end"
   ]
  },
  {
   "cell_type": "code",
   "execution_count": 207,
   "id": "058cf6fa-a75a-4d61-85e7-1580f3e21550",
   "metadata": {},
   "outputs": [
    {
     "name": "stdout",
     "output_type": "stream",
     "text": [
      "PersonType4z(1, \"John\", \"Doe\")\n"
     ]
    },
    {
     "data": {
      "text/plain": [
       "PersonType4z(2, \"bob\", \"baker\")"
      ]
     },
     "execution_count": 207,
     "metadata": {},
     "output_type": "execute_result"
    }
   ],
   "source": [
    "pt4a = PersonType4z(1)\n",
    "println(pt4a)\n",
    "PersonType4z(2,lastName=\"baker\",firstName=\"bob\")"
   ]
  },
  {
   "cell_type": "code",
   "execution_count": null,
   "id": "5bc0374f-f17e-4520-ba57-badf00d47741",
   "metadata": {},
   "outputs": [],
   "source": []
  },
  {
   "cell_type": "code",
   "execution_count": 208,
   "id": "09e7c1dd-75d0-4ab6-875c-e8abb29841d2",
   "metadata": {},
   "outputs": [],
   "source": [
    "# inner constructor and keyword arguments\n",
    "struct PersonType6\n",
    "    firstName\n",
    "    lastName\n",
    "    function PersonType6(;firstName=nothing, lastName=nothing)\n",
    "        # Check if firstName was provided\n",
    "        if firstName === nothing\n",
    "            println(\"firstName was not provided, using default.\")\n",
    "            firstName = \"John\"\n",
    "        end\n",
    "\n",
    "        # Check if lastName was provided\n",
    "        if lastName === nothing\n",
    "            println(\"lastName was not provided, using default.\")\n",
    "            lastName = \"Doe\"\n",
    "        end\n",
    "\n",
    "        return new(firstName, lastName)\n",
    "    end\n",
    "end"
   ]
  },
  {
   "cell_type": "code",
   "execution_count": 209,
   "id": "0389c84f-9646-4d58-8ac8-1dca4bda70e4",
   "metadata": {},
   "outputs": [
    {
     "name": "stdout",
     "output_type": "stream",
     "text": [
      "firstName was not provided, using default.\n",
      "lastName was not provided, using default.\n",
      "PersonType6(\"John\", \"Doe\")\n",
      "firstName was not provided, using default.\n",
      "PersonType6(\"John\", \"Minton\")\n",
      "lastName was not provided, using default.\n",
      "PersonType6(\"Bob\", \"Doe\")\n",
      "PersonType6(\"Bob\", \"Minton\")\n"
     ]
    }
   ],
   "source": [
    "pt6a = PersonType6()\n",
    "println(pt6a)\n",
    "pt6c = PersonType6(lastName=\"Minton\")\n",
    "println(pt6c)\n",
    "pt6d = PersonType6(firstName=\"Bob\")\n",
    "println(pt6d)\n",
    "pt6e = PersonType6(firstName=\"Bob\",lastName=\"Minton\")\n",
    "println(pt6e)"
   ]
  },
  {
   "cell_type": "code",
   "execution_count": null,
   "id": "108b2f65-30ca-4984-bb32-d0ba7f522720",
   "metadata": {},
   "outputs": [],
   "source": []
  },
  {
   "cell_type": "code",
   "execution_count": 211,
   "id": "3d17f72e-f019-472e-83a4-32052a64cc75",
   "metadata": {},
   "outputs": [
    {
     "name": "stdout",
     "output_type": "stream",
     "text": [
      "more\n"
     ]
    }
   ],
   "source": [
    "r = 1000\n",
    "r < 100 ? println(\"less\") : println(\"more\")"
   ]
  },
  {
   "cell_type": "code",
   "execution_count": 214,
   "id": "5215b472-b40c-4321-9c9b-2b7abc11e938",
   "metadata": {},
   "outputs": [
    {
     "name": "stdout",
     "output_type": "stream",
     "text": [
      "y no good\n"
     ]
    }
   ],
   "source": [
    "xx = 1000\n",
    "yy = 10\n",
    "xx < 100 ? print(\"cool\") : yy < 100 ? println(\"y no good\") : println(\"y good\")"
   ]
  },
  {
   "cell_type": "code",
   "execution_count": 120,
   "id": "57c2825a-0825-42d0-a470-db283a363343",
   "metadata": {},
   "outputs": [
    {
     "data": {
      "text/plain": [
       "Circle"
      ]
     },
     "execution_count": 120,
     "metadata": {},
     "output_type": "execute_result"
    }
   ],
   "source": [
    "# 'outer' constructors\n",
    "struct Circle\n",
    "    radius::Float64\n",
    "end\n",
    "\n",
    "# Outer constructor\n",
    "Circle(diameter::Float64, is_diameter::Bool) = is_diameter ? Circle(diameter / 2) : Circle(diameter)"
   ]
  },
  {
   "cell_type": "code",
   "execution_count": 215,
   "id": "f2cff261-b752-424b-96b3-0699553384b1",
   "metadata": {},
   "outputs": [
    {
     "name": "stdout",
     "output_type": "stream",
     "text": [
      "Circle(5.0)\n",
      "Circle(10.0)\n"
     ]
    }
   ],
   "source": [
    "println( Circle(10.0,true) )\n",
    "println( Circle(10.0,false) )"
   ]
  },
  {
   "cell_type": "code",
   "execution_count": 122,
   "id": "9091b39e-b1e6-4eb0-a2eb-879fdec932d1",
   "metadata": {},
   "outputs": [
    {
     "data": {
      "text/plain": [
       "Circle"
      ]
     },
     "execution_count": 122,
     "metadata": {},
     "output_type": "execute_result"
    }
   ],
   "source": [
    "#inner and outer constructors\n",
    "struct Circle2\n",
    "    radius::Float64\n",
    "    Circle2(radius) = new(radius)\n",
    "end\n",
    "\n",
    "# Outer constructor\n",
    "Circle(diameter::Float64, is_diameter::Bool) = is_diameter ? Circle(diameter / 2) : Circle(diameter)"
   ]
  },
  {
   "cell_type": "code",
   "execution_count": 123,
   "id": "fea7148c-9143-4255-ad6b-e1312e5d18d4",
   "metadata": {},
   "outputs": [
    {
     "name": "stdout",
     "output_type": "stream",
     "text": [
      "Circle(5.0)\n",
      "Circle(10.0)\n"
     ]
    }
   ],
   "source": [
    "println( Circle(10.0,true) )\n",
    "println( Circle(10.0) )"
   ]
  },
  {
   "cell_type": "code",
   "execution_count": null,
   "id": "9130c61d-9d02-49d3-91c6-b6c4083143ba",
   "metadata": {},
   "outputs": [],
   "source": []
  },
  {
   "cell_type": "code",
   "execution_count": 124,
   "id": "208b0487-51a8-42b6-8eae-ca7201ce140a",
   "metadata": {},
   "outputs": [],
   "source": [
    "# define an abstract type and then create structs that are subtypes of that abstract type\n",
    "abstract type Shape end\n",
    "\n",
    "struct Square <: Shape\n",
    "    side::Float64\n",
    "end\n",
    "\n",
    "struct Triangle <: Shape\n",
    "    base::Float64\n",
    "    height::Float64\n",
    "end"
   ]
  },
  {
   "cell_type": "code",
   "execution_count": 125,
   "id": "c2fc70ee-5556-4dae-9c1a-6ca0f6c5e3b6",
   "metadata": {},
   "outputs": [
    {
     "name": "stdout",
     "output_type": "stream",
     "text": [
      "25.0\n",
      "6.0\n"
     ]
    }
   ],
   "source": [
    "# Define a function that calculates the area of any shape\n",
    "function area(shape::Shape)\n",
    "    if shape isa Square\n",
    "        return shape.side^2\n",
    "    elseif shape isa Triangle\n",
    "        return 0.5 * shape.base * shape.height\n",
    "    else\n",
    "        throw(ArgumentError(\"Unsupported shape\"))\n",
    "    end\n",
    "end\n",
    "\n",
    "sq = Square(5.0)\n",
    "tri = Triangle(3.0, 4.0)\n",
    "# Now you can calculate the area of any shape\n",
    "\n",
    "println(area(sq)) \n",
    "println(area(tri))"
   ]
  },
  {
   "cell_type": "code",
   "execution_count": null,
   "id": "6f06e3fb-7d0e-4393-893c-21ad798ae3c3",
   "metadata": {},
   "outputs": [],
   "source": []
  },
  {
   "cell_type": "code",
   "execution_count": 126,
   "id": "9c4e684d-a4a2-442f-a4fd-abacb640c8a9",
   "metadata": {},
   "outputs": [
    {
     "data": {
      "text/plain": [
       "Line8(Point8(1.0, 2.0), Point8(3.0, 4.0))"
      ]
     },
     "execution_count": 126,
     "metadata": {},
     "output_type": "execute_result"
    }
   ],
   "source": [
    "# Structs can have fields of different types, including other structs.\n",
    "struct Point8\n",
    "    x::Float64\n",
    "    y::Float64\n",
    "end\n",
    "\n",
    "# Define the Line struct\n",
    "struct Line8\n",
    "    start::Point8\n",
    "    last::Point8\n",
    "end\n",
    "\n",
    "# Construct instances\n",
    "start_point = Point8(1.0, 2.0)  \n",
    "end_point = Point8(3.0, 4.0) \n",
    "\n",
    "my_line = Line8(start_point, end_point)  # Creates a Line from start_point to end_point"
   ]
  },
  {
   "cell_type": "code",
   "execution_count": null,
   "id": "a8d33f3a-8c05-4724-90e9-ab2134396cad",
   "metadata": {},
   "outputs": [],
   "source": []
  },
  {
   "cell_type": "code",
   "execution_count": null,
   "id": "cd9c1521-beaa-4a78-bf28-42e43b289b5f",
   "metadata": {},
   "outputs": [],
   "source": []
  },
  {
   "cell_type": "code",
   "execution_count": null,
   "id": "32c392ef-305f-4840-8c83-966cff1f219d",
   "metadata": {},
   "outputs": [],
   "source": []
  },
  {
   "cell_type": "code",
   "execution_count": 127,
   "id": "0b75245b-c958-4137-93d3-436961a4d91c",
   "metadata": {},
   "outputs": [
    {
     "data": {
      "text/plain": [
       "area (generic function with 2 methods)"
      ]
     },
     "execution_count": 127,
     "metadata": {},
     "output_type": "execute_result"
    }
   ],
   "source": [
    "# function and input argument checks based on type checks\n",
    "#and type checks on custom types\n",
    "struct Rectangle\n",
    "    length::Float64\n",
    "    width::Float64\n",
    "end\n",
    "\n",
    "area(r::Rectangle) = r.length * r.width"
   ]
  },
  {
   "cell_type": "code",
   "execution_count": 128,
   "id": "9801952f-4368-47e7-b0f8-18ed25e7c872",
   "metadata": {},
   "outputs": [
    {
     "data": {
      "text/plain": [
       "10.0"
      ]
     },
     "execution_count": 128,
     "metadata": {},
     "output_type": "execute_result"
    }
   ],
   "source": [
    "rect1 = Rectangle(5,2)\n",
    "area(rect1)"
   ]
  },
  {
   "cell_type": "code",
   "execution_count": null,
   "id": "66bdcc47-ad77-44bf-9aff-b4ce5ed33280",
   "metadata": {},
   "outputs": [],
   "source": []
  },
  {
   "cell_type": "code",
   "execution_count": null,
   "id": "34467419-68ee-44de-8de9-4b5874caf542",
   "metadata": {},
   "outputs": [],
   "source": []
  },
  {
   "cell_type": "code",
   "execution_count": 219,
   "id": "9149cfb9-38a7-42c1-89e1-b55a78470c10",
   "metadata": {},
   "outputs": [
    {
     "data": {
      "text/plain": [
       "10"
      ]
     },
     "execution_count": 219,
     "metadata": {},
     "output_type": "execute_result"
    }
   ],
   "source": [
    "#Union types\n",
    "x3a::Union{Int, Float64} = 10  # x can be either an Int or a Float64"
   ]
  },
  {
   "cell_type": "code",
   "execution_count": 220,
   "id": "b2ca3a2a-ffac-4deb-ad71-aa2c9cd2db1e",
   "metadata": {},
   "outputs": [
    {
     "name": "stdout",
     "output_type": "stream",
     "text": [
      "100\n",
      "33.333333333333336\n"
     ]
    },
    {
     "ename": "LoadError",
     "evalue": "MethodError: \u001b[0mCannot `convert` an object of type \n\u001b[0m  \u001b[92mString\u001b[39m\u001b[0m to an object of type \n\u001b[0m  \u001b[91mUnion{Float64, Int64}\u001b[39m\n\u001b[0mClosest candidates are:\n\u001b[0m  convert(::Type{T}, \u001b[91m::T\u001b[39m) where T<:Number at number.jl:6\n\u001b[0m  convert(::Type{T}, \u001b[91m::Number\u001b[39m) where T<:Number at number.jl:7\n\u001b[0m  convert(::Type{T}, \u001b[91m::Base.TwicePrecision\u001b[39m) where T<:Number at twiceprecision.jl:273\n\u001b[0m  ...",
     "output_type": "error",
     "traceback": [
      "MethodError: \u001b[0mCannot `convert` an object of type \n\u001b[0m  \u001b[92mString\u001b[39m\u001b[0m to an object of type \n\u001b[0m  \u001b[91mUnion{Float64, Int64}\u001b[39m\n\u001b[0mClosest candidates are:\n\u001b[0m  convert(::Type{T}, \u001b[91m::T\u001b[39m) where T<:Number at number.jl:6\n\u001b[0m  convert(::Type{T}, \u001b[91m::Number\u001b[39m) where T<:Number at number.jl:7\n\u001b[0m  convert(::Type{T}, \u001b[91m::Base.TwicePrecision\u001b[39m) where T<:Number at twiceprecision.jl:273\n\u001b[0m  ...",
      "",
      "Stacktrace:",
      " [1] top-level scope",
      "   @ In[220]:8"
     ]
    }
   ],
   "source": [
    "#ok\n",
    "x3a = x3a*10\n",
    "println(x3a)\n",
    "#ok\n",
    "x3a = x3a/3\n",
    "println(x3a)\n",
    "#not ok\n",
    "x3a = \"hi\"\n",
    "println(x3a)"
   ]
  },
  {
   "cell_type": "code",
   "execution_count": 132,
   "id": "b1a16e1e-e738-42b2-9a0c-780b4c58c5db",
   "metadata": {},
   "outputs": [
    {
     "data": {
      "text/plain": [
       "Union{Char, Float64, Int64}"
      ]
     },
     "execution_count": 132,
     "metadata": {},
     "output_type": "execute_result"
    }
   ],
   "source": [
    "# Define a type alias\n",
    "const myType = Union{Int, Float64, Char}"
   ]
  },
  {
   "cell_type": "code",
   "execution_count": 133,
   "id": "6b52a31c-1f6f-4e03-b5b4-689f8ab6ba1f",
   "metadata": {},
   "outputs": [
    {
     "data": {
      "text/plain": [
       "123"
      ]
     },
     "execution_count": 133,
     "metadata": {},
     "output_type": "execute_result"
    }
   ],
   "source": [
    "x3::myType = 123"
   ]
  },
  {
   "cell_type": "code",
   "execution_count": 134,
   "id": "58b28f0e-f570-470b-a794-f2f9556dc7ad",
   "metadata": {},
   "outputs": [
    {
     "name": "stdout",
     "output_type": "stream",
     "text": [
      "61.5\n",
      "d\n"
     ]
    },
    {
     "ename": "LoadError",
     "evalue": "MethodError: \u001b[0mCannot `convert` an object of type \n\u001b[0m  \u001b[92mString\u001b[39m\u001b[0m to an object of type \n\u001b[0m  \u001b[91mUnion{Char, Float64, Int64}\u001b[39m\n\u001b[0mClosest candidates are:\n\u001b[0m  convert(::Type{T}, \u001b[91m::T\u001b[39m) where T at Base.jl:61",
     "output_type": "error",
     "traceback": [
      "MethodError: \u001b[0mCannot `convert` an object of type \n\u001b[0m  \u001b[92mString\u001b[39m\u001b[0m to an object of type \n\u001b[0m  \u001b[91mUnion{Char, Float64, Int64}\u001b[39m\n\u001b[0mClosest candidates are:\n\u001b[0m  convert(::Type{T}, \u001b[91m::T\u001b[39m) where T at Base.jl:61",
      "",
      "Stacktrace:",
      " [1] top-level scope",
      "   @ In[134]:8"
     ]
    }
   ],
   "source": [
    "#ok\n",
    "x3 = 123/2\n",
    "println(x3)\n",
    "#ok\n",
    "x3 = 'd'\n",
    "println(x3)\n",
    "#not ok\n",
    "x3 = \"hi\"\n",
    "println(x3)"
   ]
  },
  {
   "cell_type": "code",
   "execution_count": null,
   "id": "58a79b5d-6e31-4029-857b-98ade0bb8749",
   "metadata": {},
   "outputs": [],
   "source": []
  },
  {
   "cell_type": "code",
   "execution_count": 135,
   "id": "939150ca-6d66-41a8-943d-884c877988ea",
   "metadata": {},
   "outputs": [],
   "source": [
    "struct Box1\n",
    "    contents::String\n",
    "end\n",
    "struct Box2\n",
    "    label::String\n",
    "end\n",
    "struct Box3 \n",
    "    weight::Float64\n",
    "end"
   ]
  },
  {
   "cell_type": "code",
   "execution_count": 136,
   "id": "a52a5865-1fb7-47e0-86b1-dba71fbae0fd",
   "metadata": {},
   "outputs": [
    {
     "data": {
      "text/plain": [
       "boxTypeNumber\u001b[90m (alias for \u001b[39m\u001b[90mUnion{Box1, Box2}\u001b[39m\u001b[90m)\u001b[39m"
      ]
     },
     "execution_count": 136,
     "metadata": {},
     "output_type": "execute_result"
    }
   ],
   "source": [
    "# Define a type alias on custom types\n",
    "const boxTypeNumber = Union{Box1,Box2}"
   ]
  },
  {
   "cell_type": "code",
   "execution_count": 137,
   "id": "98210d87-8d22-4727-9161-19dce628cc2c",
   "metadata": {},
   "outputs": [
    {
     "data": {
      "text/plain": [
       "Box1(\"present\")"
      ]
     },
     "execution_count": 137,
     "metadata": {},
     "output_type": "execute_result"
    }
   ],
   "source": [
    "xBox::boxTypeNumber = Box1(\"present\")"
   ]
  },
  {
   "cell_type": "code",
   "execution_count": 138,
   "id": "681cc601-a4a1-4a3c-9be6-a080d3e3ac3d",
   "metadata": {},
   "outputs": [
    {
     "data": {
      "text/plain": [
       "Box2(\"utensils\")"
      ]
     },
     "execution_count": 138,
     "metadata": {},
     "output_type": "execute_result"
    }
   ],
   "source": [
    "xBox = Box2(\"utensils\")"
   ]
  },
  {
   "cell_type": "code",
   "execution_count": 139,
   "id": "d51b4735-b461-4a70-9f9f-310d6804b56a",
   "metadata": {},
   "outputs": [
    {
     "ename": "LoadError",
     "evalue": "MethodError: \u001b[0mCannot `convert` an object of type \n\u001b[0m  \u001b[92mBox3\u001b[39m\u001b[0m to an object of type \n\u001b[0m  \u001b[91mboxTypeNumber\u001b[39m\n\u001b[0mClosest candidates are:\n\u001b[0m  convert(::Type{T}, \u001b[91m::T\u001b[39m) where T at Base.jl:61",
     "output_type": "error",
     "traceback": [
      "MethodError: \u001b[0mCannot `convert` an object of type \n\u001b[0m  \u001b[92mBox3\u001b[39m\u001b[0m to an object of type \n\u001b[0m  \u001b[91mboxTypeNumber\u001b[39m\n\u001b[0mClosest candidates are:\n\u001b[0m  convert(::Type{T}, \u001b[91m::T\u001b[39m) where T at Base.jl:61",
      "",
      "Stacktrace:",
      " [1] top-level scope",
      "   @ In[139]:2"
     ]
    }
   ],
   "source": [
    "#won't work\n",
    "xBox = Box3(3.3)"
   ]
  },
  {
   "cell_type": "code",
   "execution_count": null,
   "id": "98cc02d8-890b-4c3e-adaa-95dd6e9d18dc",
   "metadata": {},
   "outputs": [],
   "source": []
  },
  {
   "cell_type": "code",
   "execution_count": null,
   "id": "dabcecac-b642-4f22-96bc-8e4621743e52",
   "metadata": {},
   "outputs": [],
   "source": []
  },
  {
   "cell_type": "code",
   "execution_count": null,
   "id": "7653f096-ac1b-4b25-a9ac-894e313e59c6",
   "metadata": {},
   "outputs": [],
   "source": []
  },
  {
   "cell_type": "markdown",
   "id": "f419200d-6d76-43ea-bfd4-b6729c8d02c4",
   "metadata": {},
   "source": [
    "## making arrays, matrices, tuples etc"
   ]
  },
  {
   "cell_type": "code",
   "execution_count": 140,
   "id": "936e82b2-9bd3-4973-be74-68a3ce60bc40",
   "metadata": {},
   "outputs": [
    {
     "data": {
      "text/plain": [
       "4-element Vector{Int64}:\n",
       " 1\n",
       " 2\n",
       " 3\n",
       " 4"
      ]
     },
     "metadata": {},
     "output_type": "display_data"
    },
    {
     "data": {
      "text/plain": [
       "2×2 Matrix{Int64}:\n",
       " 1  2\n",
       " 3  4"
      ]
     },
     "metadata": {},
     "output_type": "display_data"
    }
   ],
   "source": [
    "arr1 = [1, 2, 3, 4]  # 1D array (Vector)\n",
    "display(arr1)\n",
    "arr2 = [1 2; 3 4]    # 2D array (Matrix)\n",
    "display(arr2)"
   ]
  },
  {
   "cell_type": "code",
   "execution_count": 141,
   "id": "e2e86d1c-e59a-43c9-a71e-41faf7dca753",
   "metadata": {},
   "outputs": [
    {
     "name": "stdout",
     "output_type": "stream",
     "text": [
      "[0.0, 0.0, 0.0]\n",
      "[1.0, 1.0, 1.0]\n"
     ]
    }
   ],
   "source": [
    "zeros_arr = zeros(3)\n",
    "println(zeros_arr)\n",
    "ones_arr = ones(3)\n",
    "println(ones_arr)"
   ]
  },
  {
   "cell_type": "code",
   "execution_count": 142,
   "id": "8252bf22-6a86-4684-a8fc-db58b349b53f",
   "metadata": {},
   "outputs": [
    {
     "name": "stdout",
     "output_type": "stream",
     "text": [
      "[0.16418764882153503, 0.9366339792710662, 0.6474277958073591]\n"
     ]
    }
   ],
   "source": [
    "rand_arr = rand(3)\n",
    "println(rand_arr)"
   ]
  },
  {
   "cell_type": "code",
   "execution_count": 143,
   "id": "b5993250-00bc-4c19-91d2-bc6b42637c0e",
   "metadata": {},
   "outputs": [
    {
     "name": "stdout",
     "output_type": "stream",
     "text": [
      "1:5\n"
     ]
    }
   ],
   "source": [
    "range_arr1 = 1:5\n",
    "println(range_arr1)"
   ]
  },
  {
   "cell_type": "code",
   "execution_count": 144,
   "id": "59d5bc08-4509-4cdf-9ce2-35f7ee6574bb",
   "metadata": {},
   "outputs": [
    {
     "name": "stdout",
     "output_type": "stream",
     "text": [
      "[1, 2, 3, 4, 5]\n",
      "1.0:1.0:5.0\n"
     ]
    }
   ],
   "source": [
    "range_arr_collected = collect( 1:5 )\n",
    "println( range_arr_collected )\n",
    "lin_space = range(1, stop=5, length=5)  # [1.0, 2.0, 3.0, 4.0, 5.0]\n",
    "println( lin_space)"
   ]
  },
  {
   "cell_type": "code",
   "execution_count": null,
   "id": "7c330210-5a5c-4191-ab9b-eae91705f492",
   "metadata": {},
   "outputs": [],
   "source": []
  },
  {
   "cell_type": "code",
   "execution_count": 146,
   "id": "148021e9-a55f-4e03-bb8a-5b20390195de",
   "metadata": {},
   "outputs": [
    {
     "name": "stdout",
     "output_type": "stream",
     "text": [
      "[140594984305712, 140594984305728, 140595009347824]\n"
     ]
    }
   ],
   "source": [
    "# pre-allocated Arrays\n",
    "empty_arr = Array{Int}(undef, 3)  # Uninitialized array\n",
    "println( empty_arr )"
   ]
  },
  {
   "cell_type": "code",
   "execution_count": 151,
   "id": "9bcd2221-e736-4cb1-8b31-24b503e10a44",
   "metadata": {},
   "outputs": [
    {
     "name": "stdout",
     "output_type": "stream",
     "text": [
      "Before: [140594961227728, 5416, -1, 0, 140594990844336]\n",
      "After: [1, 2, 3, 4, 5]\n"
     ]
    }
   ],
   "source": [
    "vec = Array{Int}(undef, 5)  # Creates a 1D array of Ints with 5 elements\n",
    "println(\"Before: \", vec)\n",
    "vec .= 1:5  # Filling in the array\n",
    "println(\"After: \", vec)"
   ]
  },
  {
   "cell_type": "code",
   "execution_count": 231,
   "id": "c0a224e8-7147-4dff-bda8-b9b8e905e4c5",
   "metadata": {},
   "outputs": [
    {
     "data": {
      "text/plain": [
       "3×2 Matrix{Float64}:\n",
       " 0.0           0.0\n",
       " 6.9463e-310   6.9463e-310\n",
       " 6.94631e-310  6.9463e-310"
      ]
     },
     "metadata": {},
     "output_type": "display_data"
    },
    {
     "data": {
      "text/plain": [
       "3×2 Matrix{Float64}:\n",
       " 1.1  2.2\n",
       " 3.3  4.4\n",
       " 5.5  6.6"
      ]
     },
     "metadata": {},
     "output_type": "display_data"
    }
   ],
   "source": [
    "mat = Array{Float64}(undef, 3, 2)  \n",
    "display( mat)\n",
    "mat .= [1.1 2.2; 3.3 4.4; 5.5 6.6] \n",
    "display( mat)"
   ]
  },
  {
   "cell_type": "code",
   "execution_count": 232,
   "id": "0e7003b7-c63c-423f-b098-72d881bb2ab1",
   "metadata": {},
   "outputs": [
    {
     "data": {
      "text/plain": [
       "3×4 Matrix{Float64}:\n",
       " 1.0  1.0  1.0  1.0\n",
       " 1.0  1.0  1.0  1.0\n",
       " 1.0  1.0  1.0  1.0"
      ]
     },
     "execution_count": 232,
     "metadata": {},
     "output_type": "execute_result"
    }
   ],
   "source": [
    "mat = ones(3,4)"
   ]
  },
  {
   "cell_type": "code",
   "execution_count": 233,
   "id": "74adbb3d-ffe6-4a72-a793-a702e4f7d4a0",
   "metadata": {},
   "outputs": [
    {
     "data": {
      "text/plain": [
       "3×4 Matrix{Float64}:\n",
       " 2.0  2.0  2.0  2.0\n",
       " 4.0  1.0  1.0  1.0\n",
       " 4.0  1.0  1.0  1.0"
      ]
     },
     "execution_count": 233,
     "metadata": {},
     "output_type": "execute_result"
    }
   ],
   "source": [
    "mat[1,:] .= 2\n",
    "mat[2:end,1] .= 4\n",
    "mat"
   ]
  },
  {
   "cell_type": "code",
   "execution_count": 236,
   "id": "c3f9a568-73f8-440a-873d-e0d134122c90",
   "metadata": {},
   "outputs": [
    {
     "data": {
      "text/plain": [
       "3×4 Matrix{Float64}:\n",
       " 2.0       0.512216  2.0  2.0\n",
       " 0.161202  0.384358  1.0  1.0\n",
       " 0.526264  1.0       1.0  1.0"
      ]
     },
     "execution_count": 236,
     "metadata": {},
     "output_type": "execute_result"
    }
   ],
   "source": [
    "mat[2:5] .= rand(4)\n",
    "mat"
   ]
  },
  {
   "cell_type": "code",
   "execution_count": 237,
   "id": "cb93e99f-7b9a-49f3-af7e-1dd3dd0c94ab",
   "metadata": {},
   "outputs": [
    {
     "data": {
      "text/plain": [
       "12"
      ]
     },
     "execution_count": 237,
     "metadata": {},
     "output_type": "execute_result"
    }
   ],
   "source": [
    "length(mat)"
   ]
  },
  {
   "cell_type": "code",
   "execution_count": null,
   "id": "374945c6-fbc1-462a-920a-37be1b019316",
   "metadata": {},
   "outputs": [],
   "source": []
  },
  {
   "cell_type": "code",
   "execution_count": null,
   "id": "3187fd65-4742-4d87-853e-b248fc9c9cf6",
   "metadata": {},
   "outputs": [],
   "source": []
  },
  {
   "cell_type": "code",
   "execution_count": null,
   "id": "8a5d9430-70a8-4dd2-af65-d0be699791ae",
   "metadata": {},
   "outputs": [],
   "source": []
  },
  {
   "cell_type": "code",
   "execution_count": 239,
   "id": "2b00235b-eb68-4240-ba8e-667e7ed1ac54",
   "metadata": {},
   "outputs": [
    {
     "name": "stdout",
     "output_type": "stream",
     "text": [
      "Before:\n",
      "[#undef #undef; #undef #undef;;; #undef #undef; #undef #undef]\n"
     ]
    }
   ],
   "source": [
    "arr_3d = Array{String}(undef, 2, 2, 2)  # a 2x2x2 3D array of Strings\n",
    "println(\"Before:\\n\", arr_3d)\n"
   ]
  },
  {
   "cell_type": "code",
   "execution_count": 154,
   "id": "4e63b9c0-9a56-4505-b245-b1376c1b1060",
   "metadata": {},
   "outputs": [
    {
     "name": "stdout",
     "output_type": "stream",
     "text": [
      "Before: PointX[PointX(6.9462340451923e-310, 6.94630483329594e-310), PointX(6.9463051160185e-310, 6.94630483329594e-310)]\n",
      "After: PointX[PointX(1.0, 2.0), PointX(3.0, 4.0)]\n"
     ]
    }
   ],
   "source": [
    "struct PointX\n",
    "    x::Float64\n",
    "    y::Float64\n",
    "end\n",
    "\n",
    "points = Array{PointX}(undef, 2)  # Creates an array of 2 Points\n",
    "println(\"Before: \", points)\n",
    "points .= [PointX(1.0, 2.0), PointX(3.0, 4.0)]  # Filling in the array\n",
    "println(\"After: \", points)"
   ]
  },
  {
   "cell_type": "code",
   "execution_count": null,
   "id": "25c18993-dddd-4ebf-8342-ff198cde5407",
   "metadata": {},
   "outputs": [],
   "source": []
  },
  {
   "cell_type": "code",
   "execution_count": null,
   "id": "d46a0443-0c3c-4c93-b404-c1eaa53daf55",
   "metadata": {},
   "outputs": [],
   "source": []
  },
  {
   "cell_type": "code",
   "execution_count": null,
   "id": "a72bd4c8-d890-403c-bab8-62c2add2d51f",
   "metadata": {},
   "outputs": [],
   "source": []
  },
  {
   "cell_type": "code",
   "execution_count": 149,
   "id": "eae0ed0f-1233-4d28-911b-8df0e863e7b2",
   "metadata": {},
   "outputs": [
    {
     "name": "stdout",
     "output_type": "stream",
     "text": [
      "[1, 2, 3, 4]\n"
     ]
    },
    {
     "data": {
      "text/plain": [
       "2×2 Matrix{Int64}:\n",
       " 1  3\n",
       " 2  4"
      ]
     },
     "metadata": {},
     "output_type": "display_data"
    }
   ],
   "source": [
    "arr_vcat = vcat([1, 2], [3, 4])  # Vertical concatenation: [1, 2, 3, 4]\n",
    "println( arr_vcat )\n",
    "arr_hcat = hcat([1, 2], [3, 4])  # Horizontal concatenation: [1 3; 2 4]\n",
    "display( arr_hcat )"
   ]
  },
  {
   "cell_type": "code",
   "execution_count": 148,
   "id": "da1ec089-1b6b-4fd9-8a80-e917e79f5984",
   "metadata": {},
   "outputs": [
    {
     "data": {
      "text/plain": [
       "2×2×2 Array{Float64, 3}:\n",
       "[:, :, 1] =\n",
       " 0.509968  0.63164\n",
       " 0.100091  0.540134\n",
       "\n",
       "[:, :, 2] =\n",
       " 0.221921  0.276734\n",
       " 0.675157  0.20821"
      ]
     },
     "metadata": {},
     "output_type": "display_data"
    }
   ],
   "source": [
    "three_d_arr = rand(2, 2, 2)  # 3D array with random values\n",
    "display(three_d_arr)"
   ]
  },
  {
   "cell_type": "code",
   "execution_count": 150,
   "id": "6aa3cc1a-e662-4cd9-94b4-e5d660936794",
   "metadata": {},
   "outputs": [
    {
     "data": {
      "text/plain": [
       "2×2 reshape(::UnitRange{Int64}, 2, 2) with eltype Int64:\n",
       " 1  3\n",
       " 2  4"
      ]
     },
     "metadata": {},
     "output_type": "display_data"
    }
   ],
   "source": [
    "reshaped_arr = reshape(1:4, (2, 2))  # [1 3; 2 4]\n",
    "display( reshaped_arr )"
   ]
  },
  {
   "cell_type": "code",
   "execution_count": null,
   "id": "c5ec6332-7da9-49de-aa7a-bc44f267c1b8",
   "metadata": {},
   "outputs": [],
   "source": []
  },
  {
   "cell_type": "code",
   "execution_count": null,
   "id": "f02951e2-ed01-4575-ae94-64128bd91e1b",
   "metadata": {},
   "outputs": [],
   "source": []
  },
  {
   "cell_type": "code",
   "execution_count": null,
   "id": "b4b36269-4205-4348-961d-9dd60131b7ca",
   "metadata": {},
   "outputs": [],
   "source": []
  },
  {
   "cell_type": "code",
   "execution_count": null,
   "id": "69986ce5-4611-40a2-984f-baa73bc0a079",
   "metadata": {},
   "outputs": [],
   "source": []
  },
  {
   "cell_type": "code",
   "execution_count": null,
   "id": "4df23ca2-6286-4532-9067-38cc2094c824",
   "metadata": {},
   "outputs": [],
   "source": []
  },
  {
   "cell_type": "code",
   "execution_count": null,
   "id": "7def70e5-f2ed-4863-8aca-e73c77c07436",
   "metadata": {},
   "outputs": [],
   "source": []
  },
  {
   "cell_type": "code",
   "execution_count": 127,
   "id": "fbae33e0-e8fe-4c64-b131-4776a4ccc19c",
   "metadata": {},
   "outputs": [
    {
     "name": "stdout",
     "output_type": "stream",
     "text": [
      "i = 1\n",
      "i = 2\n",
      "i = 3\n",
      "i = 4\n",
      "i = 5\n"
     ]
    }
   ],
   "source": [
    "for i in 1:5\n",
    "    print(\"i = $i\");print(\"\\n\")\n",
    "end"
   ]
  },
  {
   "cell_type": "code",
   "execution_count": 137,
   "id": "ad1b51c9-ac6f-4e3f-9068-2d4202a8cc38",
   "metadata": {},
   "outputs": [
    {
     "data": {
      "text/plain": [
       "-1.2:4.3:20.3"
      ]
     },
     "execution_count": 137,
     "metadata": {},
     "output_type": "execute_result"
    }
   ],
   "source": [
    "range(-1.2, stop=22, step=4.3)"
   ]
  },
  {
   "cell_type": "code",
   "execution_count": 138,
   "id": "ad522989-575c-4fa3-9ec5-1ce779dbb478",
   "metadata": {},
   "outputs": [
    {
     "name": "stdout",
     "output_type": "stream",
     "text": [
      "-1.2\n",
      "3.1\n",
      "7.4\n",
      "11.7\n",
      "16.0\n",
      "20.3\n"
     ]
    }
   ],
   "source": [
    "arr = [1, 2, 3, 4, 5]\n",
    "for x in range(-1.2, stop=22, step=4.3)\n",
    "    println(x)\n",
    "end"
   ]
  },
  {
   "cell_type": "code",
   "execution_count": null,
   "id": "0c687552-ad91-49d3-8dca-1d475b188e7e",
   "metadata": {},
   "outputs": [],
   "source": []
  },
  {
   "cell_type": "code",
   "execution_count": null,
   "id": "607c9761-f19e-49f3-b146-c5d5b99b16c0",
   "metadata": {},
   "outputs": [],
   "source": []
  },
  {
   "cell_type": "code",
   "execution_count": null,
   "id": "08ac0d46-ca18-48fd-85e0-889d038979a8",
   "metadata": {},
   "outputs": [],
   "source": []
  },
  {
   "cell_type": "code",
   "execution_count": null,
   "id": "4c072f5e-2891-4e0a-8211-c36ec001a352",
   "metadata": {},
   "outputs": [],
   "source": []
  },
  {
   "cell_type": "code",
   "execution_count": null,
   "id": "e8036f7b-623c-4078-9235-8cf397d9eb6a",
   "metadata": {},
   "outputs": [],
   "source": []
  },
  {
   "cell_type": "code",
   "execution_count": 139,
   "id": "9fd6c1e1-eb97-4d9a-8e12-c04ced28a049",
   "metadata": {},
   "outputs": [
    {
     "name": "stdout",
     "output_type": "stream",
     "text": [
      "Index: 1, Value: a\n",
      "Index: 2, Value: b\n",
      "Index: 3, Value: c\n"
     ]
    }
   ],
   "source": [
    "arr = [\"a\", \"b\", \"c\"]\n",
    "for (index, value) in enumerate(arr)\n",
    "    println(\"Index: $index, Value: $value\")\n",
    "end\n"
   ]
  },
  {
   "cell_type": "code",
   "execution_count": 140,
   "id": "6da26c99-94e7-425d-81cf-2ef8fc05665b",
   "metadata": {},
   "outputs": [
    {
     "name": "stdout",
     "output_type": "stream",
     "text": [
      "(1, 4)\n",
      "(1, 5)\n",
      "(1, 6)\n",
      "(2, 4)\n",
      "(2, 5)\n",
      "(2, 6)\n",
      "(3, 4)\n",
      "(3, 5)\n",
      "(3, 6)\n"
     ]
    }
   ],
   "source": [
    "for i in 1:3\n",
    "    for j in 4:6\n",
    "        println((i,j))\n",
    "    end\n",
    "end"
   ]
  },
  {
   "cell_type": "code",
   "execution_count": 141,
   "id": "4093212f-7013-4ef5-8b1f-9b85b170a73b",
   "metadata": {},
   "outputs": [
    {
     "name": "stdout",
     "output_type": "stream",
     "text": [
      "(1, 4)\n",
      "(1, 5)\n",
      "(1, 6)\n",
      "(2, 4)\n",
      "(2, 5)\n",
      "(2, 6)\n",
      "(3, 4)\n",
      "(3, 5)\n",
      "(3, 6)\n"
     ]
    }
   ],
   "source": [
    "for i in 1:3, j in 4:6\n",
    "    println((i, j))\n",
    "end\n"
   ]
  },
  {
   "cell_type": "code",
   "execution_count": 142,
   "id": "fb7349b0-c445-4096-b8cb-dee3ed341e0d",
   "metadata": {},
   "outputs": [
    {
     "name": "stdout",
     "output_type": "stream",
     "text": [
      "(1, 4, 7)\n",
      "(1, 4, 8)\n",
      "(1, 5, 7)\n",
      "(1, 5, 8)\n",
      "(1, 6, 7)\n",
      "(1, 6, 8)\n",
      "(2, 4, 7)\n",
      "(2, 4, 8)\n",
      "(2, 5, 7)\n",
      "(2, 5, 8)\n",
      "(2, 6, 7)\n",
      "(2, 6, 8)\n",
      "(3, 4, 7)\n",
      "(3, 4, 8)\n",
      "(3, 5, 7)\n",
      "(3, 5, 8)\n",
      "(3, 6, 7)\n",
      "(3, 6, 8)\n"
     ]
    }
   ],
   "source": [
    "for i in 1:3, j in 4:6, k in 7:8\n",
    "    println((i, j,k))\n",
    "end"
   ]
  },
  {
   "cell_type": "code",
   "execution_count": 143,
   "id": "63fa7db0-8360-4633-a61d-aa0731bd8ca3",
   "metadata": {},
   "outputs": [
    {
     "data": {
      "text/plain": [
       "Dict{Any, Any} with 4 entries:\n",
       "  \"c\" => [1, 2, 4]\n",
       "  \"b\" => 2\n",
       "  12  => 'c'\n",
       "  \"a\" => 1"
      ]
     },
     "execution_count": 143,
     "metadata": {},
     "output_type": "execute_result"
    }
   ],
   "source": [
    "dict = Dict(\"a\" => 1, \"b\" => 2, \"c\" => [1,2,4], 12 => 'c')"
   ]
  },
  {
   "cell_type": "code",
   "execution_count": 146,
   "id": "2690bd1f-e71b-4c55-9f0e-3acb9101fa35",
   "metadata": {},
   "outputs": [
    {
     "data": {
      "text/plain": [
       "3-element Vector{Int64}:\n",
       " 1\n",
       " 2\n",
       " 4"
      ]
     },
     "execution_count": 146,
     "metadata": {},
     "output_type": "execute_result"
    }
   ],
   "source": [
    "dict[\"c\"]"
   ]
  },
  {
   "cell_type": "code",
   "execution_count": 147,
   "id": "5e5356d6-d108-4c1b-a1e5-936ae36fe47a",
   "metadata": {},
   "outputs": [
    {
     "name": "stdout",
     "output_type": "stream",
     "text": [
      "Key: b, Value: 2\n",
      "Key: a, Value: 1\n"
     ]
    }
   ],
   "source": [
    "dict = Dict(\"a\" => 1, \"b\" => 2)\n",
    "for (key, value) in dict\n",
    "    println(\"Key: $key, Value: $value\")\n",
    "end\n"
   ]
  },
  {
   "cell_type": "code",
   "execution_count": null,
   "id": "61af4d0e-b7c9-40a8-ad38-82d41325be15",
   "metadata": {},
   "outputs": [],
   "source": []
  },
  {
   "cell_type": "code",
   "execution_count": null,
   "id": "6f7afe23-fe84-4725-a4b0-eb8acc7c401b",
   "metadata": {},
   "outputs": [],
   "source": []
  },
  {
   "cell_type": "code",
   "execution_count": null,
   "id": "98e070dd-0752-49ea-8e7c-1ae36b191e12",
   "metadata": {},
   "outputs": [],
   "source": []
  },
  {
   "cell_type": "code",
   "execution_count": 148,
   "id": "8bd3c254-e43a-4735-9aa1-09e84b1ac8d3",
   "metadata": {},
   "outputs": [
    {
     "data": {
      "text/plain": [
       "4-element Vector{Int64}:\n",
       " 1\n",
       " 2\n",
       " 4\n",
       " 5"
      ]
     },
     "execution_count": 148,
     "metadata": {},
     "output_type": "execute_result"
    }
   ],
   "source": [
    "arr = [1, 2, 3, 4, 5]\n",
    "deleteat!(arr, 3) "
   ]
  },
  {
   "cell_type": "code",
   "execution_count": null,
   "id": "f2b25645-9a5a-43af-a41b-19b1d3881667",
   "metadata": {},
   "outputs": [],
   "source": []
  },
  {
   "cell_type": "code",
   "execution_count": 152,
   "id": "6a616221-d651-4d00-9425-3b9b1a8cc8f2",
   "metadata": {},
   "outputs": [
    {
     "data": {
      "text/plain": [
       "f1 (generic function with 1 method)"
      ]
     },
     "execution_count": 152,
     "metadata": {},
     "output_type": "execute_result"
    }
   ],
   "source": []
  },
  {
   "cell_type": "code",
   "execution_count": 162,
   "id": "3cfab70c-1554-4c3d-8385-b7ffa1f940c6",
   "metadata": {},
   "outputs": [
    {
     "data": {
      "text/plain": [
       "11-element Vector{Int64}:\n",
       " 10\n",
       " 11\n",
       " 12\n",
       " 13\n",
       " 14\n",
       " 15\n",
       " 16\n",
       " 17\n",
       " 18\n",
       " 19\n",
       " 20"
      ]
     },
     "execution_count": 162,
     "metadata": {},
     "output_type": "execute_result"
    }
   ],
   "source": [
    "filter!( x-> x >=10 , collect(1:20))"
   ]
  },
  {
   "cell_type": "code",
   "execution_count": null,
   "id": "52cb073f-fdc5-4a85-8c05-6e6c5001eb1c",
   "metadata": {},
   "outputs": [],
   "source": []
  },
  {
   "cell_type": "code",
   "execution_count": null,
   "id": "783f2bdf-7014-4297-b1dd-8a0aacd54793",
   "metadata": {},
   "outputs": [],
   "source": []
  },
  {
   "cell_type": "code",
   "execution_count": 150,
   "id": "0ddd1f9b-c0d0-43dd-b560-742cbc42c11a",
   "metadata": {},
   "outputs": [
    {
     "data": {
      "text/plain": [
       "4-element Vector{Int64}:\n",
       " 1\n",
       " 2\n",
       " 4\n",
       " 5"
      ]
     },
     "execution_count": 150,
     "metadata": {},
     "output_type": "execute_result"
    }
   ],
   "source": [
    "arr = [1, 2, 3, 4, 5]\n",
    "filter!(x -> x != 3, arr)"
   ]
  },
  {
   "cell_type": "code",
   "execution_count": null,
   "id": "4bc447c3-955c-4601-ab99-b9678488caca",
   "metadata": {},
   "outputs": [],
   "source": []
  },
  {
   "cell_type": "code",
   "execution_count": 170,
   "id": "ba418910-fca4-4789-ad78-c7a90d0c37e0",
   "metadata": {},
   "outputs": [
    {
     "data": {
      "text/plain": [
       "6-element Vector{Int64}:\n",
       " 1\n",
       " 2\n",
       " 3\n",
       " 3\n",
       " 4\n",
       " 5"
      ]
     },
     "execution_count": 170,
     "metadata": {},
     "output_type": "execute_result"
    }
   ],
   "source": [
    "arr = [1, 2, 3]\n",
    "push!(arr, 3,4,5) "
   ]
  },
  {
   "cell_type": "code",
   "execution_count": 172,
   "id": "85598fbe-c8d1-40a5-8734-f21f67afdee6",
   "metadata": {},
   "outputs": [
    {
     "data": {
      "text/plain": [
       "6-element Vector{Int64}:\n",
       " 1\n",
       " 2\n",
       " 3\n",
       " 2\n",
       " 3\n",
       " 4"
      ]
     },
     "execution_count": 172,
     "metadata": {},
     "output_type": "execute_result"
    }
   ],
   "source": [
    "[ [1,2,3]..., [2,3,4]...]"
   ]
  },
  {
   "cell_type": "code",
   "execution_count": 179,
   "id": "4888fb43-dc75-402c-ab83-a2148c7f97d9",
   "metadata": {},
   "outputs": [
    {
     "data": {
      "text/plain": [
       "4-element Vector{Int64}:\n",
       "  1\n",
       " 22\n",
       "  2\n",
       "  4"
      ]
     },
     "execution_count": 179,
     "metadata": {},
     "output_type": "execute_result"
    }
   ],
   "source": [
    "arr = [1, 2, 4]\n",
    "insert!(arr, 2, 22)"
   ]
  },
  {
   "cell_type": "code",
   "execution_count": 180,
   "id": "da0db116-bd6e-4796-b834-735619b51f9a",
   "metadata": {},
   "outputs": [
    {
     "data": {
      "text/plain": [
       "6-element Vector{Int64}:\n",
       " 1\n",
       " 2\n",
       " 3\n",
       " 4\n",
       " 5\n",
       " 6"
      ]
     },
     "execution_count": 180,
     "metadata": {},
     "output_type": "execute_result"
    }
   ],
   "source": [
    "arr1 = [1, 2, 3]\n",
    "arr2 = [4, 5, 6]\n",
    "append!(arr1, arr2) "
   ]
  },
  {
   "cell_type": "code",
   "execution_count": 182,
   "id": "27c3b97d-8b02-4bf1-ae30-dc34be363fdd",
   "metadata": {},
   "outputs": [
    {
     "data": {
      "text/plain": [
       "6-element Vector{Int64}:\n",
       " 1\n",
       " 2\n",
       " 3\n",
       " 4\n",
       " 5\n",
       " 6"
      ]
     },
     "execution_count": 182,
     "metadata": {},
     "output_type": "execute_result"
    }
   ],
   "source": [
    "arr1"
   ]
  },
  {
   "cell_type": "code",
   "execution_count": null,
   "id": "0e287352-c605-4486-adc6-908412db5e55",
   "metadata": {},
   "outputs": [],
   "source": []
  },
  {
   "cell_type": "code",
   "execution_count": null,
   "id": "04d813ff-52b6-41eb-bdcb-a6f241884779",
   "metadata": {},
   "outputs": [],
   "source": []
  },
  {
   "cell_type": "code",
   "execution_count": 54,
   "id": "8f17abe6-8d1a-4213-a233-08b7bad4fad8",
   "metadata": {},
   "outputs": [
    {
     "data": {
      "text/plain": [
       "9-element Vector{Int64}:\n",
       " 1\n",
       " 2\n",
       " 3\n",
       " 2\n",
       " 4\n",
       " 6\n",
       " 3\n",
       " 6\n",
       " 9"
      ]
     },
     "execution_count": 54,
     "metadata": {},
     "output_type": "execute_result"
    }
   ],
   "source": [
    "#nested array\n",
    "result = [i * j for i in 1:3 for j in 1:3]"
   ]
  },
  {
   "cell_type": "code",
   "execution_count": 185,
   "id": "10bbc104-7306-4d8a-abf8-7a49909521ef",
   "metadata": {},
   "outputs": [
    {
     "data": {
      "text/plain": [
       "3×3×2 Array{Int64, 3}:\n",
       "[:, :, 1] =\n",
       " 1  2  3\n",
       " 2  4  6\n",
       " 3  6  9\n",
       "\n",
       "[:, :, 2] =\n",
       " 1  2  3\n",
       " 2  4  6\n",
       " 3  6  9"
      ]
     },
     "execution_count": 185,
     "metadata": {},
     "output_type": "execute_result"
    }
   ],
   "source": [
    "# include a comma to make into a matrix\n",
    "matrix_result = [i * j for i in 1:3, j in 1:3, k in 1:2]\n"
   ]
  },
  {
   "cell_type": "code",
   "execution_count": null,
   "id": "176ab334-2fae-4fa9-a1aa-ea2889bab4dc",
   "metadata": {},
   "outputs": [],
   "source": []
  },
  {
   "cell_type": "code",
   "execution_count": 189,
   "id": "420d9746-488b-4d53-ba11-9c471a36d399",
   "metadata": {},
   "outputs": [
    {
     "data": {
      "text/plain": [
       "5-element Vector{Int64}:\n",
       " 2\n",
       " 2\n",
       " 4\n",
       " 6\n",
       " 6"
      ]
     },
     "execution_count": 189,
     "metadata": {},
     "output_type": "execute_result"
    }
   ],
   "source": [
    "even_result = [i * j for i in 1:3 for j in 1:3 if (i * j) % 2 == 0]\n"
   ]
  },
  {
   "cell_type": "code",
   "execution_count": null,
   "id": "26c7ee8b-b826-40cf-91b9-b27cdfed3806",
   "metadata": {},
   "outputs": [],
   "source": []
  },
  {
   "cell_type": "code",
   "execution_count": null,
   "id": "73efe86c-dddf-40c1-877f-442a803bb1a7",
   "metadata": {},
   "outputs": [],
   "source": []
  },
  {
   "cell_type": "code",
   "execution_count": null,
   "id": "690c7996-8626-4e06-aece-91b2bbacecc7",
   "metadata": {},
   "outputs": [],
   "source": []
  },
  {
   "cell_type": "code",
   "execution_count": null,
   "id": "ba6dbe68-f380-4109-b078-bd1030410ca6",
   "metadata": {},
   "outputs": [],
   "source": []
  },
  {
   "cell_type": "code",
   "execution_count": null,
   "id": "c8513f1e-d8ba-4390-9813-97b9a6961c50",
   "metadata": {},
   "outputs": [],
   "source": []
  },
  {
   "cell_type": "code",
   "execution_count": null,
   "id": "5d446c2d-1148-447b-ae64-9d513e461afb",
   "metadata": {},
   "outputs": [],
   "source": []
  },
  {
   "cell_type": "code",
   "execution_count": null,
   "id": "7924c8be-619d-45ff-afdd-b9e2f587425c",
   "metadata": {},
   "outputs": [],
   "source": []
  }
 ],
 "metadata": {
  "kernelspec": {
   "display_name": "Julia 1.8.2",
   "language": "julia",
   "name": "julia-1.8"
  },
  "language_info": {
   "file_extension": ".jl",
   "mimetype": "application/julia",
   "name": "julia",
   "version": "1.8.2"
  }
 },
 "nbformat": 4,
 "nbformat_minor": 5
}
