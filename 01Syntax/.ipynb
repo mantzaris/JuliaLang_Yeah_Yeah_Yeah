{
 "cells": [
  {
   "cell_type": "code",
   "execution_count": null,
   "id": "196674cc-d5c3-45c4-967a-5ff05035488f",
   "metadata": {},
   "outputs": [],
   "source": []
  }
 ],
 "metadata": {
  "kernelspec": {
   "display_name": "Julia 1.8.2",
   "language": "julia",
   "name": "julia-1.8"
  },
  "language_info": {
   "file_extension": ".jl",
   "mimetype": "application/julia",
   "name": "julia",
   "version": "1.8.2"
  }
 },
 "nbformat": 4,
 "nbformat_minor": 5
}
