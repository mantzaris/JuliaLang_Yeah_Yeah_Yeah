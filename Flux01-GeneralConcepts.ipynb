{
 "cells": [
  {
   "cell_type": "code",
   "execution_count": null,
   "metadata": {},
   "outputs": [],
   "source": []
  },
  {
   "cell_type": "code",
   "execution_count": 1,
   "metadata": {},
   "outputs": [],
   "source": [
    "using Flux\n",
    "using Zygote\n",
    "\n",
    "using Plots"
   ]
  },
  {
   "cell_type": "code",
   "execution_count": null,
   "metadata": {},
   "outputs": [],
   "source": []
  },
  {
   "cell_type": "markdown",
   "metadata": {},
   "source": [
    "### <span style=\"color:orange\">write a function and make a function for the gradient of the function</span>"
   ]
  },
  {
   "cell_type": "code",
   "execution_count": 2,
   "metadata": {},
   "outputs": [
    {
     "data": {
      "text/plain": [
       "d2f1 (generic function with 1 method)"
      ]
     },
     "execution_count": 2,
     "metadata": {},
     "output_type": "execute_result"
    }
   ],
   "source": [
    "f1(x) = 3x^2 - 2x + 10 # the function\n",
    "df1(x) = gradient(f1, x)[1] # the gradient function df/dx = 6x - 2\n",
    "d2f1(x) = gradient(df1, x)[1] # acceleration d²f/dx² = 6"
   ]
  },
  {
   "cell_type": "code",
   "execution_count": 3,
   "metadata": {},
   "outputs": [
    {
     "name": "stdout",
     "output_type": "stream",
     "text": [
      "grad1 = 58.0, grads2 = [4.0, 10.0, 58.0], accelerations = [6.0, 6.0, 6.0]\n"
     ]
    }
   ],
   "source": [
    "grad1 = df1(10) # gradient at 1 point\n",
    "grads2 = df1.([1,2,10]) #gradient at multiple points\n",
    "accelerations = d2f1.([1,2,10])\n",
    "println(\"grad1 = $(grad1), grads2 = $(grads2), accelerations = $(accelerations)\")"
   ]
  },
  {
   "cell_type": "code",
   "execution_count": null,
   "metadata": {},
   "outputs": [],
   "source": []
  },
  {
   "cell_type": "markdown",
   "metadata": {},
   "source": [
    "### <span style=\"color:orange\">We can find the gradient of a function with various computations inside and especially the well known MSE</span>"
   ]
  },
  {
   "cell_type": "code",
   "execution_count": 4,
   "metadata": {},
   "outputs": [
    {
     "data": {
      "text/plain": [
       "f_mse (generic function with 1 method)"
      ]
     },
     "execution_count": 4,
     "metadata": {},
     "output_type": "execute_result"
    }
   ],
   "source": [
    "f_mse(x, y) = sum((x .- y).^2)"
   ]
  },
  {
   "cell_type": "code",
   "execution_count": 5,
   "metadata": {},
   "outputs": [
    {
     "name": "stdout",
     "output_type": "stream",
     "text": [
      "grads = ([0.0, 2.0, -2.0], [-0.0, -2.0, 2.0])\n"
     ]
    }
   ],
   "source": [
    "xx = [2,1,0]\n",
    "yy = [2,0,1]\n",
    "grads = gradient(f_mse, xx, yy)\n",
    "println(\"grads = $(grads)\")"
   ]
  },
  {
   "cell_type": "code",
   "execution_count": 6,
   "metadata": {},
   "outputs": [
    {
     "data": {
      "text/plain": [
       "Grads(...)"
      ]
     },
     "execution_count": 6,
     "metadata": {},
     "output_type": "execute_result"
    }
   ],
   "source": [
    "xx = [2,1,0]\n",
    "yy = [2,0,1]\n",
    "gs = gradient(Flux.params(xx, yy)) do\n",
    "         f_mse(xx, yy)\n",
    "        end"
   ]
  },
  {
   "cell_type": "code",
   "execution_count": 7,
   "metadata": {},
   "outputs": [
    {
     "data": {
      "text/plain": [
       "(:grads, :params)"
      ]
     },
     "execution_count": 7,
     "metadata": {},
     "output_type": "execute_result"
    }
   ],
   "source": [
    "fieldnames(typeof(gs))"
   ]
  },
  {
   "cell_type": "code",
   "execution_count": 8,
   "metadata": {},
   "outputs": [
    {
     "data": {
      "text/plain": [
       "IdDict{Any, Any} with 4 entries:\n",
       "  :(Main.xx) => [0.0, 2.0, -2.0]\n",
       "  :(Main.yy) => [-0.0, -2.0, 2.0]\n",
       "  [2, 1, 0]  => [0.0, 2.0, -2.0]\n",
       "  [2, 0, 1]  => [-0.0, -2.0, 2.0]"
      ]
     },
     "execution_count": 8,
     "metadata": {},
     "output_type": "execute_result"
    }
   ],
   "source": [
    "gs.grads"
   ]
  },
  {
   "cell_type": "code",
   "execution_count": 9,
   "metadata": {},
   "outputs": [
    {
     "data": {
      "text/plain": [
       "Params([[2, 1, 0], [2, 0, 1]])"
      ]
     },
     "execution_count": 9,
     "metadata": {},
     "output_type": "execute_result"
    }
   ],
   "source": [
    "gs.params"
   ]
  },
  {
   "cell_type": "code",
   "execution_count": 10,
   "metadata": {},
   "outputs": [
    {
     "data": {
      "text/plain": [
       "3-element Vector{Float64}:\n",
       "  0.0\n",
       "  2.0\n",
       " -2.0"
      ]
     },
     "execution_count": 10,
     "metadata": {},
     "output_type": "execute_result"
    }
   ],
   "source": [
    "gs[xx]"
   ]
  },
  {
   "cell_type": "code",
   "execution_count": 11,
   "metadata": {},
   "outputs": [
    {
     "data": {
      "text/plain": [
       "3-element Vector{Float64}:\n",
       " -0.0\n",
       " -2.0\n",
       "  2.0"
      ]
     },
     "execution_count": 11,
     "metadata": {},
     "output_type": "execute_result"
    }
   ],
   "source": [
    "gs[yy]"
   ]
  },
  {
   "cell_type": "code",
   "execution_count": null,
   "metadata": {},
   "outputs": [],
   "source": []
  },
  {
   "cell_type": "markdown",
   "metadata": {},
   "source": [
    "### <span style=\"color:orange\">linear regression</span>"
   ]
  },
  {
   "cell_type": "code",
   "execution_count": 12,
   "metadata": {},
   "outputs": [
    {
     "data": {
      "text/plain": [
       "3.4035462155662675"
      ]
     },
     "execution_count": 12,
     "metadata": {},
     "output_type": "execute_result"
    }
   ],
   "source": [
    "x, y = rand(5), rand(2) # 5 features (dims) -> 2 featuers (dims)\n",
    "W = rand(2, 5)\n",
    "b = rand(2)\n",
    "m1(x) = W*x .+ b\n",
    "function loss1(x, y)\n",
    "    y_hat = m1(x)\n",
    "    sum((y .- y_hat).^2)\n",
    "end\n",
    "loss1(x,y)"
   ]
  },
  {
   "cell_type": "code",
   "execution_count": 13,
   "metadata": {},
   "outputs": [
    {
     "data": {
      "text/plain": [
       "Grads(...)"
      ]
     },
     "execution_count": 13,
     "metadata": {},
     "output_type": "execute_result"
    }
   ],
   "source": [
    "gs = gradient(() -> loss1(x, y), Flux.params(W, b))"
   ]
  },
  {
   "cell_type": "code",
   "execution_count": 14,
   "metadata": {},
   "outputs": [
    {
     "data": {
      "text/plain": [
       "2×5 Matrix{Float64}:\n",
       " 0.989896  0.658552  0.783307  1.20489  0.215579\n",
       " 2.6286    1.74874   2.08002   3.1995   0.572456"
      ]
     },
     "execution_count": 14,
     "metadata": {},
     "output_type": "execute_result"
    }
   ],
   "source": [
    "gs[W]"
   ]
  },
  {
   "cell_type": "code",
   "execution_count": 15,
   "metadata": {},
   "outputs": [
    {
     "data": {
      "text/plain": [
       "2-element Vector{Float64}:\n",
       " 1.3003564836794808\n",
       " 3.4530070775510735"
      ]
     },
     "execution_count": 15,
     "metadata": {},
     "output_type": "execute_result"
    }
   ],
   "source": [
    "gs[b]"
   ]
  },
  {
   "cell_type": "code",
   "execution_count": 16,
   "metadata": {},
   "outputs": [
    {
     "data": {
      "text/plain": [
       "2×5 Matrix{Float64}:\n",
       " 0.989896  0.658552  0.783307  1.20489  0.215579\n",
       " 2.6286    1.74874   2.08002   3.1995   0.572456"
      ]
     },
     "execution_count": 16,
     "metadata": {},
     "output_type": "execute_result"
    }
   ],
   "source": [
    "W_grad = gs[W]"
   ]
  },
  {
   "cell_type": "markdown",
   "metadata": {},
   "source": [
    "### <span style=\"color:orange\">Update parameter **W** (the transformation matrix) by a step</span>"
   ]
  },
  {
   "cell_type": "code",
   "execution_count": 17,
   "metadata": {},
   "outputs": [
    {
     "data": {
      "text/plain": [
       "2×5 Matrix{Float64}:\n",
       " 0.502367  0.456226  0.372892   0.0759559  -0.00621648\n",
       " 0.583897  0.603241  0.13208   -0.0196197   0.0207495"
      ]
     },
     "execution_count": 17,
     "metadata": {},
     "output_type": "execute_result"
    }
   ],
   "source": [
    "W = W .- (0.1 .* W_grad )"
   ]
  },
  {
   "cell_type": "code",
   "execution_count": 18,
   "metadata": {},
   "outputs": [
    {
     "data": {
      "text/plain": [
       "1.1569178845818753"
      ]
     },
     "execution_count": 18,
     "metadata": {},
     "output_type": "execute_result"
    }
   ],
   "source": [
    "loss1(x,y)"
   ]
  },
  {
   "cell_type": "markdown",
   "metadata": {},
   "source": [
    "### <span style=\"color:orange\">And another step in that direction</span>"
   ]
  },
  {
   "cell_type": "code",
   "execution_count": 19,
   "metadata": {},
   "outputs": [
    {
     "data": {
      "text/plain": [
       "0.09383935768301616"
      ]
     },
     "execution_count": 19,
     "metadata": {},
     "output_type": "execute_result"
    }
   ],
   "source": [
    "W = W .- (0.1 .* W_grad )\n",
    "loss1(x,y)"
   ]
  },
  {
   "cell_type": "markdown",
   "metadata": {},
   "source": [
    "### <span style=\"color:orange\">And another step</span>"
   ]
  },
  {
   "cell_type": "code",
   "execution_count": 20,
   "metadata": {},
   "outputs": [
    {
     "data": {
      "text/plain": [
       "0.21431063486969046"
      ]
     },
     "execution_count": 20,
     "metadata": {},
     "output_type": "execute_result"
    }
   ],
   "source": [
    "W = W .- (0.1 .* W_grad )\n",
    "loss1(x,y)"
   ]
  },
  {
   "cell_type": "markdown",
   "metadata": {},
   "source": [
    "### <span style=\"color:orange\">And another step</span>"
   ]
  },
  {
   "cell_type": "code",
   "execution_count": 21,
   "metadata": {},
   "outputs": [
    {
     "data": {
      "text/plain": [
       "1.518331716141899"
      ]
     },
     "execution_count": 21,
     "metadata": {},
     "output_type": "execute_result"
    }
   ],
   "source": [
    "W = W .- (0.1 .* W_grad )\n",
    "loss1(x,y)"
   ]
  },
  {
   "cell_type": "code",
   "execution_count": null,
   "metadata": {},
   "outputs": [],
   "source": []
  },
  {
   "cell_type": "markdown",
   "metadata": {},
   "source": [
    "### <span style=\"color:orange\">Layers (sequential transformations)</span>"
   ]
  },
  {
   "cell_type": "code",
   "execution_count": 22,
   "metadata": {},
   "outputs": [
    {
     "data": {
      "text/plain": [
       "2-element Vector{Float64}:\n",
       " 1.4799407210745164\n",
       " 2.6853903335246523"
      ]
     },
     "execution_count": 22,
     "metadata": {},
     "output_type": "execute_result"
    }
   ],
   "source": [
    "W1 = rand(3, 5) #5 to 3 transformation\n",
    "b1 = rand(3)\n",
    "layer1(x) = W1 * x .+ b1\n",
    "\n",
    "W2 = rand(2, 3) #3 to 2 transformation\n",
    "b2 = rand(2)\n",
    "layer2(x) = W2 * x .+ b2\n",
    "\n",
    "m2(x) = layer2(sigmoid.(layer1(x)))\n",
    "\n",
    "m2(rand(5)) #transforming 5 to 3, then 3 to 2 dims with an activation layer of sigmoid "
   ]
  },
  {
   "cell_type": "code",
   "execution_count": 23,
   "metadata": {},
   "outputs": [
    {
     "data": {
      "text/plain": [
       "loss2 (generic function with 1 method)"
      ]
     },
     "execution_count": 23,
     "metadata": {},
     "output_type": "execute_result"
    }
   ],
   "source": [
    "x, y = rand(5), rand(2)\n",
    "function loss2(x, y)\n",
    "    y_hat = m2(x)\n",
    "    sum((y .- y_hat).^2)\n",
    "end"
   ]
  },
  {
   "cell_type": "code",
   "execution_count": 24,
   "metadata": {},
   "outputs": [
    {
     "data": {
      "text/plain": [
       "Grads(...)"
      ]
     },
     "execution_count": 24,
     "metadata": {},
     "output_type": "execute_result"
    }
   ],
   "source": [
    "gs = gradient(() -> loss2(x, y), Flux.params(W1, b1, W2, b2))"
   ]
  },
  {
   "cell_type": "code",
   "execution_count": 25,
   "metadata": {},
   "outputs": [
    {
     "data": {
      "text/plain": [
       "3×5 Matrix{Float64}:\n",
       " 0.169662  0.0980585  0.194919  0.0659817  0.161758\n",
       " 0.271269  0.156784   0.311653  0.105497   0.258632\n",
       " 0.637249  0.368308   0.732116  0.247827   0.607562"
      ]
     },
     "execution_count": 25,
     "metadata": {},
     "output_type": "execute_result"
    }
   ],
   "source": [
    "gs[W1]"
   ]
  },
  {
   "cell_type": "code",
   "execution_count": 26,
   "metadata": {},
   "outputs": [
    {
     "data": {
      "text/plain": [
       "2×3 Matrix{Float64}:\n",
       " 1.9352   1.92324  1.62242\n",
       " 4.18368  4.15783  3.50749"
      ]
     },
     "execution_count": 26,
     "metadata": {},
     "output_type": "execute_result"
    }
   ],
   "source": [
    "gs[W2]"
   ]
  },
  {
   "cell_type": "code",
   "execution_count": 27,
   "metadata": {},
   "outputs": [
    {
     "data": {
      "text/plain": [
       "6.153017752843563"
      ]
     },
     "execution_count": 27,
     "metadata": {},
     "output_type": "execute_result"
    }
   ],
   "source": [
    "loss2(x, y)"
   ]
  },
  {
   "cell_type": "code",
   "execution_count": 28,
   "metadata": {},
   "outputs": [
    {
     "data": {
      "text/plain": [
       "2×3 Matrix{Float64}:\n",
       " 1.9352   1.92324  1.62242\n",
       " 4.18368  4.15783  3.50749"
      ]
     },
     "execution_count": 28,
     "metadata": {},
     "output_type": "execute_result"
    }
   ],
   "source": [
    "W1_grad = gs[W1]\n",
    "W2_grad = gs[W2]"
   ]
  },
  {
   "cell_type": "code",
   "execution_count": 29,
   "metadata": {},
   "outputs": [
    {
     "data": {
      "text/plain": [
       "2×3 Matrix{Float64}:\n",
       " -0.12678   0.293594  0.0912248\n",
       "  0.209541  0.339868  0.478063"
      ]
     },
     "execution_count": 29,
     "metadata": {},
     "output_type": "execute_result"
    }
   ],
   "source": [
    "W1 = W1 .- (0.1 .* W1_grad ) \n",
    "W2 = W2 .- (0.1 .* W2_grad ) "
   ]
  },
  {
   "cell_type": "code",
   "execution_count": 30,
   "metadata": {},
   "outputs": [
    {
     "data": {
      "text/plain": [
       "1.7088285979204874"
      ]
     },
     "execution_count": 30,
     "metadata": {},
     "output_type": "execute_result"
    }
   ],
   "source": [
    "loss2(x, y)"
   ]
  },
  {
   "cell_type": "code",
   "execution_count": 31,
   "metadata": {},
   "outputs": [
    {
     "data": {
      "text/plain": [
       "2×3 Matrix{Float64}:\n",
       " -0.3203     0.101269   -0.0710174\n",
       " -0.208827  -0.0759156   0.127314"
      ]
     },
     "execution_count": 31,
     "metadata": {},
     "output_type": "execute_result"
    }
   ],
   "source": [
    "W1 = W1 .- (0.1 .* W1_grad ) \n",
    "W2 = W2 .- (0.1 .* W2_grad ) "
   ]
  },
  {
   "cell_type": "code",
   "execution_count": 32,
   "metadata": {},
   "outputs": [
    {
     "data": {
      "text/plain": [
       "0.029616470549416244"
      ]
     },
     "execution_count": 32,
     "metadata": {},
     "output_type": "execute_result"
    }
   ],
   "source": [
    "loss2(x, y)"
   ]
  },
  {
   "cell_type": "markdown",
   "metadata": {},
   "source": [
    "### <span style=\"color:orange\">Let's make a **Chain** of transformations rather than separate transformations</span>"
   ]
  },
  {
   "cell_type": "code",
   "execution_count": 33,
   "metadata": {},
   "outputs": [
    {
     "data": {
      "text/plain": [
       "Chain(#7, #8, #9)"
      ]
     },
     "execution_count": 33,
     "metadata": {},
     "output_type": "execute_result"
    }
   ],
   "source": [
    "W1 = rand(3, 5) #5 to 3 transformation\n",
    "b1 = rand(3)\n",
    "W2 = rand(2, 3) #3 to 2 transformation\n",
    "b2 = rand(2)\n",
    "\n",
    "m3 = Chain( x -> W1 * x .+ b1 , x -> sigmoid.(x) , x -> W2 * x .+ b2 )  #processes each transformation in sequence"
   ]
  },
  {
   "cell_type": "code",
   "execution_count": 34,
   "metadata": {},
   "outputs": [
    {
     "data": {
      "text/plain": [
       "loss3 (generic function with 1 method)"
      ]
     },
     "execution_count": 34,
     "metadata": {},
     "output_type": "execute_result"
    }
   ],
   "source": [
    "x, y = rand(5), rand(2)\n",
    "function loss3(x, y)\n",
    "    y_hat = m3(x)\n",
    "    sum((y .- y_hat).^2)\n",
    "end"
   ]
  },
  {
   "cell_type": "code",
   "execution_count": 35,
   "metadata": {},
   "outputs": [
    {
     "data": {
      "text/plain": [
       "Grads(...)"
      ]
     },
     "execution_count": 35,
     "metadata": {},
     "output_type": "execute_result"
    }
   ],
   "source": [
    "gs = gradient(() -> loss3(x, y), Flux.params(W1, b1, W2, b2))"
   ]
  },
  {
   "cell_type": "code",
   "execution_count": 36,
   "metadata": {},
   "outputs": [
    {
     "data": {
      "text/plain": [
       "2.972366210066568"
      ]
     },
     "execution_count": 36,
     "metadata": {},
     "output_type": "execute_result"
    }
   ],
   "source": [
    "loss3(x, y)"
   ]
  },
  {
   "cell_type": "code",
   "execution_count": 37,
   "metadata": {},
   "outputs": [
    {
     "data": {
      "text/plain": [
       "1.1529557244833981"
      ]
     },
     "execution_count": 37,
     "metadata": {},
     "output_type": "execute_result"
    }
   ],
   "source": [
    "W1_grad = gs[W1]\n",
    "W2_grad = gs[W2]\n",
    "W1 = W1 .- (0.1 .* W1_grad ) \n",
    "W2 = W2 .- (0.1 .* W2_grad ) \n",
    "loss3(x, y)"
   ]
  },
  {
   "cell_type": "code",
   "execution_count": 38,
   "metadata": {},
   "outputs": [
    {
     "data": {
      "text/plain": [
       "0.1879588990499561"
      ]
     },
     "execution_count": 38,
     "metadata": {},
     "output_type": "execute_result"
    }
   ],
   "source": [
    "W1 = W1 .- (0.1 .* W1_grad ) \n",
    "W2 = W2 .- (0.1 .* W2_grad ) \n",
    "loss3(x, y)"
   ]
  },
  {
   "cell_type": "markdown",
   "metadata": {},
   "source": [
    "### <span style=\"color:orange\">Function composition</span>\n",
    "\n",
    "- https://docs.julialang.org/en/v1/manual/functions/#Function-composition-and-piping\n",
    "- https://math.libretexts.org/Courses/Western_Connecticut_State_University/Draft_Custom_Version_MAT_131_College_Algebra/03%3A_Functions/3.04%3A_Composition_of_Functions\n",
    "- '\\circ' is the operator symbol or use '|>' as a pipe\n",
    "\n",
    "### <span style=\"color:orange\">Use the **Dense Layer** function to make the transformations</span>\n",
    "\n",
    "- the weights for the transformations are initialized automatically"
   ]
  },
  {
   "cell_type": "code",
   "execution_count": 39,
   "metadata": {},
   "outputs": [
    {
     "name": "stdout",
     "output_type": "stream",
     "text": [
      "7.416198487095663\n",
      "7.416198487095663\n"
     ]
    }
   ],
   "source": [
    "#notice that the equivalence is produced from different orders of pipe VS compositions\n",
    "println( 1:10 |> sum |> sqrt ) \n",
    "println( (sqrt ∘ sum)(1:10) )"
   ]
  },
  {
   "cell_type": "code",
   "execution_count": 40,
   "metadata": {},
   "outputs": [
    {
     "data": {
      "text/plain": [
       "Dense(3 => 2) ∘ Dense(5 => 3, σ)"
      ]
     },
     "execution_count": 40,
     "metadata": {},
     "output_type": "execute_result"
    }
   ],
   "source": [
    "m4 = Dense(3 => 2) ∘ Dense(5 => 3,sigmoid) "
   ]
  },
  {
   "cell_type": "code",
   "execution_count": 41,
   "metadata": {},
   "outputs": [
    {
     "data": {
      "text/plain": [
       "3.333597088715595"
      ]
     },
     "execution_count": 41,
     "metadata": {},
     "output_type": "execute_result"
    }
   ],
   "source": [
    "# the weights and matrices are no longer supplied 'manually' but are part of the Dense layer object\n",
    "x, y = rand(5), rand(2)\n",
    "function loss4(x, y)\n",
    "    y_hat = m4(x)\n",
    "    sum((y .- y_hat).^2)\n",
    "end\n",
    "loss4(x, y)"
   ]
  },
  {
   "cell_type": "code",
   "execution_count": 42,
   "metadata": {},
   "outputs": [
    {
     "data": {
      "text/plain": [
       "Params([Float32[-0.9246504 -0.40359044 0.20740518; -0.57735413 -0.7178955 0.254862], Float32[0.0, 0.0], Float32[0.13879766 0.13076779 … 0.42068997 -0.7111993; -0.06201461 -0.67361426 … -0.031723574 0.5534653; 0.0050576427 -0.68233407 … -0.467941 -0.4030135], Float32[0.0, 0.0, 0.0]])"
      ]
     },
     "execution_count": 42,
     "metadata": {},
     "output_type": "execute_result"
    }
   ],
   "source": [
    "opt = Descent(0.1)\n",
    "params = Flux.params(m4)"
   ]
  },
  {
   "cell_type": "code",
   "execution_count": 43,
   "metadata": {},
   "outputs": [],
   "source": [
    "#use Flux's inbuilt api to get the gradients for the composite function"
   ]
  },
  {
   "cell_type": "code",
   "execution_count": 44,
   "metadata": {},
   "outputs": [
    {
     "data": {
      "text/plain": [
       "Grads(...)"
      ]
     },
     "execution_count": 44,
     "metadata": {},
     "output_type": "execute_result"
    }
   ],
   "source": [
    "grads = Flux.gradient(params) do\n",
    "    loss4(x, y)\n",
    "end"
   ]
  },
  {
   "cell_type": "code",
   "execution_count": 45,
   "metadata": {},
   "outputs": [],
   "source": [
    "Flux.update!(opt, params, grads)"
   ]
  },
  {
   "cell_type": "code",
   "execution_count": 46,
   "metadata": {},
   "outputs": [
    {
     "data": {
      "text/plain": [
       "1.1908452416927349"
      ]
     },
     "execution_count": 46,
     "metadata": {},
     "output_type": "execute_result"
    }
   ],
   "source": [
    "loss4(x, y)"
   ]
  },
  {
   "cell_type": "code",
   "execution_count": 47,
   "metadata": {},
   "outputs": [
    {
     "data": {
      "text/plain": [
       "0.458928037749669"
      ]
     },
     "execution_count": 47,
     "metadata": {},
     "output_type": "execute_result"
    }
   ],
   "source": [
    "grads = Flux.gradient(params) do\n",
    "    loss4(x, y)\n",
    "end\n",
    "Flux.update!(opt, params, grads)\n",
    "loss4(x, y)"
   ]
  },
  {
   "cell_type": "code",
   "execution_count": 48,
   "metadata": {},
   "outputs": [
    {
     "data": {
      "text/plain": [
       "0.18168974324177178"
      ]
     },
     "execution_count": 48,
     "metadata": {},
     "output_type": "execute_result"
    }
   ],
   "source": [
    "grads = Flux.gradient(params) do\n",
    "    loss4(x, y)\n",
    "end\n",
    "Flux.update!(opt, params, grads)\n",
    "loss4(x, y)"
   ]
  },
  {
   "cell_type": "code",
   "execution_count": null,
   "metadata": {},
   "outputs": [],
   "source": []
  },
  {
   "cell_type": "markdown",
   "metadata": {},
   "source": [
    "### <span style=\"color:orange\">Use the **Chain** to creat the sequence of transformations</span>\n",
    "\n",
    "- notice how the order from right to left changes with "
   ]
  },
  {
   "cell_type": "code",
   "execution_count": 49,
   "metadata": {},
   "outputs": [
    {
     "data": {
      "text/plain": [
       "Chain(\n",
       "  Dense(5 => 3, σ),                     \u001b[90m# 18 parameters\u001b[39m\n",
       "  Dense(3 => 2),                        \u001b[90m# 8 parameters\u001b[39m\n",
       ") \u001b[90m                  # Total: 4 arrays, \u001b[39m26 parameters, 360 bytes."
      ]
     },
     "execution_count": 49,
     "metadata": {},
     "output_type": "execute_result"
    }
   ],
   "source": [
    "m5 = Chain(  Dense(5 => 3, sigmoid) , Dense(3 => 2)  )"
   ]
  },
  {
   "cell_type": "code",
   "execution_count": 50,
   "metadata": {},
   "outputs": [
    {
     "data": {
      "text/plain": [
       "0.09879426810960419"
      ]
     },
     "execution_count": 50,
     "metadata": {},
     "output_type": "execute_result"
    }
   ],
   "source": [
    "# the weights and matrices are no longer supplied 'manually' but are part of the Dense layer object\n",
    "x, y = rand(5), rand(2)\n",
    "function loss5(x, y)\n",
    "    y_hat = m5(x)\n",
    "    sum((y .- y_hat).^2)\n",
    "end\n",
    "loss5(x, y)"
   ]
  },
  {
   "cell_type": "code",
   "execution_count": 51,
   "metadata": {},
   "outputs": [
    {
     "data": {
      "text/plain": [
       "Params([Float32[-0.0782606 -0.6727774 … 0.5186444 0.7253689; -0.26564622 0.39393464 … -0.46368375 0.20492013; 0.32633793 -0.46941987 … -0.8291047 -0.6932451], Float32[0.0, 0.0, 0.0], Float32[-0.52176875 0.8295443 0.44255218; 0.48600182 -0.22171363 0.2184688], Float32[0.0, 0.0]])"
      ]
     },
     "execution_count": 51,
     "metadata": {},
     "output_type": "execute_result"
    }
   ],
   "source": [
    "opt = Descent(0.1)\n",
    "params = Flux.params(m5)"
   ]
  },
  {
   "cell_type": "code",
   "execution_count": 52,
   "metadata": {},
   "outputs": [
    {
     "data": {
      "text/plain": [
       "Grads(...)"
      ]
     },
     "execution_count": 52,
     "metadata": {},
     "output_type": "execute_result"
    }
   ],
   "source": [
    "grads = Flux.gradient(params) do\n",
    "    loss5(x, y)\n",
    "end"
   ]
  },
  {
   "cell_type": "code",
   "execution_count": 53,
   "metadata": {},
   "outputs": [],
   "source": [
    "Flux.update!(opt, params, grads)"
   ]
  },
  {
   "cell_type": "code",
   "execution_count": 54,
   "metadata": {},
   "outputs": [
    {
     "data": {
      "text/plain": [
       "0.03674057651346195"
      ]
     },
     "execution_count": 54,
     "metadata": {},
     "output_type": "execute_result"
    }
   ],
   "source": [
    "loss5(x, y)"
   ]
  },
  {
   "cell_type": "code",
   "execution_count": null,
   "metadata": {},
   "outputs": [],
   "source": []
  },
  {
   "cell_type": "markdown",
   "metadata": {},
   "source": [
    "### <span style=\"color:orange\">Using a different optimizer **Adam**</span>\n",
    "\n",
    "- Kingma, Diederik P., and Jimmy Ba. \"Adam: A method for stochastic optimization.\" arXiv preprint arXiv:1412.6980 (2014)."
   ]
  },
  {
   "cell_type": "code",
   "execution_count": 55,
   "metadata": {},
   "outputs": [
    {
     "data": {
      "text/plain": [
       "Chain(\n",
       "  Dense(5 => 3, σ),                     \u001b[90m# 18 parameters\u001b[39m\n",
       "  Dense(3 => 2),                        \u001b[90m# 8 parameters\u001b[39m\n",
       ") \u001b[90m                  # Total: 4 arrays, \u001b[39m26 parameters, 360 bytes."
      ]
     },
     "execution_count": 55,
     "metadata": {},
     "output_type": "execute_result"
    }
   ],
   "source": [
    "m5 = Chain(  Dense(5 => 3, sigmoid) , Dense(3 => 2)  )"
   ]
  },
  {
   "cell_type": "code",
   "execution_count": 56,
   "metadata": {},
   "outputs": [
    {
     "data": {
      "text/plain": [
       "0.325258532233035"
      ]
     },
     "execution_count": 56,
     "metadata": {},
     "output_type": "execute_result"
    }
   ],
   "source": [
    "# the weights and matrices are no longer supplied 'manually' but are part of the Dense layer object\n",
    "x, y = rand(5), rand(2)\n",
    "function loss5(x, y)\n",
    "    y_hat = m5(x)\n",
    "    sum((y .- y_hat).^2)\n",
    "end\n",
    "params = Flux.params(m5)\n",
    "loss5(x, y)"
   ]
  },
  {
   "cell_type": "code",
   "execution_count": 57,
   "metadata": {},
   "outputs": [
    {
     "data": {
      "text/plain": [
       "Adam(0.1, (0.9, 0.999), 1.0e-8, IdDict{Any, Any}())"
      ]
     },
     "execution_count": 57,
     "metadata": {},
     "output_type": "execute_result"
    }
   ],
   "source": [
    "opt = Adam(0.1)"
   ]
  },
  {
   "cell_type": "code",
   "execution_count": 58,
   "metadata": {},
   "outputs": [
    {
     "data": {
      "text/plain": [
       "Grads(...)"
      ]
     },
     "execution_count": 58,
     "metadata": {},
     "output_type": "execute_result"
    }
   ],
   "source": [
    "grads = Flux.gradient(params) do\n",
    "    loss5(x, y)\n",
    "end"
   ]
  },
  {
   "cell_type": "code",
   "execution_count": 59,
   "metadata": {},
   "outputs": [
    {
     "data": {
      "text/plain": [
       "0.06451193841747808"
      ]
     },
     "execution_count": 59,
     "metadata": {},
     "output_type": "execute_result"
    }
   ],
   "source": [
    "Flux.update!(opt, params, grads)\n",
    "loss5(x, y)"
   ]
  },
  {
   "cell_type": "code",
   "execution_count": null,
   "metadata": {},
   "outputs": [],
   "source": []
  },
  {
   "cell_type": "code",
   "execution_count": 60,
   "metadata": {},
   "outputs": [
    {
     "data": {
      "text/plain": [
       "0.37320319439140714"
      ]
     },
     "execution_count": 60,
     "metadata": {},
     "output_type": "execute_result"
    }
   ],
   "source": [
    "#similar to before\n",
    "m6 = Chain(  Dense(5 => 3, sigmoid) , Dense(3 => 2)  )\n",
    "x, y = rand(5), rand(2)\n",
    "function loss6(x, y)\n",
    "    y_hat = m6(x)\n",
    "    sum((y .- y_hat).^2)\n",
    "end\n",
    "opt = Adam(0.1)\n",
    "loss6(x, y)"
   ]
  },
  {
   "cell_type": "markdown",
   "metadata": {},
   "source": [
    "### <span style=\"color:orange\">Now we don't pass parameters of a model related to the loss, but just the variables related to the loss and the parameters are found automatically</span>"
   ]
  },
  {
   "cell_type": "code",
   "execution_count": 61,
   "metadata": {},
   "outputs": [
    {
     "data": {
      "text/plain": [
       "Grads(...)"
      ]
     },
     "execution_count": 61,
     "metadata": {},
     "output_type": "execute_result"
    }
   ],
   "source": [
    "grads = gradient(Flux.params(x, y)) do\n",
    "         loss6(x, y)\n",
    "       end"
   ]
  },
  {
   "cell_type": "code",
   "execution_count": 62,
   "metadata": {},
   "outputs": [
    {
     "data": {
      "text/plain": [
       "5-element Vector{Float64}:\n",
       "  0.23046898710516756\n",
       " -0.1683397444846098\n",
       "  0.11957989899694946\n",
       " -0.029095752016500526\n",
       " -0.007279261620637592"
      ]
     },
     "metadata": {},
     "output_type": "display_data"
    },
    {
     "data": {
      "text/plain": [
       "2-element Vector{Float64}:\n",
       "  1.0059783586383964\n",
       " -0.6934120849226862"
      ]
     },
     "metadata": {},
     "output_type": "display_data"
    }
   ],
   "source": [
    "display(grads[x])\n",
    "display(grads[y])"
   ]
  },
  {
   "cell_type": "code",
   "execution_count": 63,
   "metadata": {},
   "outputs": [
    {
     "data": {
      "text/plain": [
       "0.19172840118175805"
      ]
     },
     "execution_count": 63,
     "metadata": {},
     "output_type": "execute_result"
    }
   ],
   "source": [
    "Flux.update!(opt, Flux.params(x, y), grads)\n",
    "loss6(x, y)"
   ]
  },
  {
   "cell_type": "code",
   "execution_count": 64,
   "metadata": {},
   "outputs": [
    {
     "data": {
      "text/plain": [
       "0.11266742614772121"
      ]
     },
     "execution_count": 64,
     "metadata": {},
     "output_type": "execute_result"
    }
   ],
   "source": [
    "Flux.update!(opt, Flux.params(x, y), grads)\n",
    "loss6(x, y)"
   ]
  },
  {
   "cell_type": "code",
   "execution_count": 65,
   "metadata": {},
   "outputs": [
    {
     "data": {
      "text/plain": [
       "0.09427239274824094"
      ]
     },
     "execution_count": 65,
     "metadata": {},
     "output_type": "execute_result"
    }
   ],
   "source": [
    "Flux.update!(opt, Flux.params(x, y), grads)\n",
    "loss6(x, y)"
   ]
  },
  {
   "cell_type": "code",
   "execution_count": 66,
   "metadata": {},
   "outputs": [
    {
     "data": {
      "text/plain": [
       "0.1199266828430947"
      ]
     },
     "execution_count": 66,
     "metadata": {},
     "output_type": "execute_result"
    }
   ],
   "source": [
    "Flux.update!(opt, Flux.params(x, y), grads)\n",
    "loss6(x, y)"
   ]
  },
  {
   "cell_type": "code",
   "execution_count": null,
   "metadata": {},
   "outputs": [],
   "source": []
  },
  {
   "cell_type": "code",
   "execution_count": null,
   "metadata": {},
   "outputs": [],
   "source": []
  },
  {
   "cell_type": "code",
   "execution_count": null,
   "metadata": {},
   "outputs": [],
   "source": []
  },
  {
   "cell_type": "code",
   "execution_count": null,
   "metadata": {},
   "outputs": [],
   "source": []
  },
  {
   "cell_type": "code",
   "execution_count": null,
   "metadata": {},
   "outputs": [],
   "source": []
  },
  {
   "cell_type": "markdown",
   "metadata": {},
   "source": [
    "### <span style=\"color:orange\">The Single Neuron Model</span>\n",
    "**supervised learning**\n",
    "\n",
    "Labeled data, D = $\\{(x_1,y_2),(x_2,y_2),\\ldots,(x_n,y_n)\\}$\n",
    "\n",
    "Each data point can be considered to be a 'signal' (common in the journal publications to see the data points referred to as) x_i\n",
    "\n",
    "$x_i + 1 \\rightarrow (w_1,b) \\rightarrow z = w_1 * x_i + b \\rightarrow a = \\phi(z) $\n",
    "\n",
    "Here $z$ can be considered to be a 'pre-activation' and $a$ a post-activation, that exists within the neuron. That is within the single neuron there are 2 steps, the production of $z$ that is a linear 'projection'/'transformation' and the $a$ is the 'activation' that is typically non-linear (eg. sigmoid or rectified linear units 'relu')\n",
    "\n",
    "There is a 'cost' function for the neuron, in a manner similar to that of the common statistical fits\n",
    "\n",
    "$C(w,b) = \\sum_{i=1}^N dist(y,\\hat{y}_i)$\n",
    "\n",
    "The cost function gives us a 'landscape' (hyperdimensional surface of $y$ and $\\hat{y}$ similarity for the parameters of the model) to minimize the cost (degree of fit). Our goal is to find $W$ and $b$ which minimizes $C$. The cost function can from a variety of forms based upon the 'dist' function where in regression cases it is often mean squared error, and in categorical predictions cross entropy"
   ]
  },
  {
   "cell_type": "markdown",
   "metadata": {},
   "source": [
    "### <span style=\"color:orange\">Dense Layer</span>\n",
    "\n",
    "The **Dense** layer used corresponds to the $\\phi$ function above that produces the non-linear *activation* operation upon the transformed values in *z*"
   ]
  },
  {
   "cell_type": "code",
   "execution_count": 67,
   "metadata": {},
   "outputs": [
    {
     "data": {
      "text/plain": [
       "5×64 Matrix{Float64}:\n",
       " 0.248681  0.619632  0.00166739  0.472397   …  0.458362  0.650218  0.944641\n",
       " 0.317246  0.846206  0.710969    0.751096      0.931728  0.295003  0.764373\n",
       " 0.63367   0.990899  0.723795    0.0222604     0.346243  0.451888  0.944598\n",
       " 0.421457  0.662853  0.790984    0.640749      0.124312  0.469222  0.45254\n",
       " 0.8018    0.374226  0.579223    0.825099      0.484767  0.965368  0.183863"
      ]
     },
     "execution_count": 67,
     "metadata": {},
     "output_type": "execute_result"
    }
   ],
   "source": [
    "rdata = rand( 5, 64)"
   ]
  },
  {
   "cell_type": "code",
   "execution_count": 68,
   "metadata": {},
   "outputs": [
    {
     "data": {
      "text/plain": [
       "Dense(5 => 2, tanh)  \u001b[90m# 12 parameters\u001b[39m"
      ]
     },
     "execution_count": 68,
     "metadata": {},
     "output_type": "execute_result"
    }
   ],
   "source": [
    "d1 = Dense(5 => 2)\n",
    "d2 = Dense(5 => 2, identity)\n",
    "d3 = Dense(5 => 2, sigmoid)\n",
    "d4 = Dense(5 => 2, tanh)"
   ]
  },
  {
   "cell_type": "code",
   "execution_count": 69,
   "metadata": {},
   "outputs": [
    {
     "data": {
      "text/plain": [
       "2×64 Matrix{Float64}:\n",
       "  1.04283    1.56466     1.05424   …  0.971259   1.10362   1.59051\n",
       " -0.614901  -0.0564862  -0.635201     0.265972  -0.337814  0.365738"
      ]
     },
     "execution_count": 69,
     "metadata": {},
     "output_type": "execute_result"
    }
   ],
   "source": [
    "d1(rdata)"
   ]
  },
  {
   "cell_type": "code",
   "execution_count": 70,
   "metadata": {},
   "outputs": [
    {
     "data": {
      "text/plain": [
       "2×64 Matrix{Float64}:\n",
       " -0.394495  -1.11371   -0.654     …  -1.03311   -0.440168  -1.19717\n",
       "  0.725834   0.445356   0.871988      0.520935   0.807629   0.0880134"
      ]
     },
     "execution_count": 70,
     "metadata": {},
     "output_type": "execute_result"
    }
   ],
   "source": [
    "d2(rdata)"
   ]
  },
  {
   "cell_type": "code",
   "execution_count": 71,
   "metadata": {},
   "outputs": [
    {
     "data": {
      "text/plain": [
       "2×64 Matrix{Float64}:\n",
       " 0.755821  0.845125  0.788472  0.837282  …  0.767118  0.822068  0.83924\n",
       " 0.285813  0.288959  0.269337  0.25345      0.254335  0.280608  0.340697"
      ]
     },
     "execution_count": 71,
     "metadata": {},
     "output_type": "execute_result"
    }
   ],
   "source": [
    "d3(rdata)"
   ]
  },
  {
   "cell_type": "code",
   "execution_count": 72,
   "metadata": {},
   "outputs": [
    {
     "data": {
      "text/plain": [
       "2×64 Matrix{Float64}:\n",
       " -0.856607  -0.944052  -0.830856  …  -0.665619  -0.92357   -0.950413\n",
       " -0.286419  -0.20894   -0.514283     -0.545985  -0.184105   0.0736512"
      ]
     },
     "execution_count": 72,
     "metadata": {},
     "output_type": "execute_result"
    }
   ],
   "source": [
    "d4(rdata)"
   ]
  },
  {
   "cell_type": "code",
   "execution_count": 73,
   "metadata": {},
   "outputs": [
    {
     "data": {
      "text/plain": [
       "2-element Vector{Float32}:\n",
       "  326.18564\n",
       " -674.86926"
      ]
     },
     "execution_count": 73,
     "metadata": {},
     "output_type": "execute_result"
    }
   ],
   "source": [
    "d1( [0,1,10,100,1000] )"
   ]
  },
  {
   "cell_type": "code",
   "execution_count": 74,
   "metadata": {},
   "outputs": [
    {
     "data": {
      "text/plain": [
       "2-element Vector{Float32}:\n",
       " 1.0\n",
       " 0.0"
      ]
     },
     "execution_count": 74,
     "metadata": {},
     "output_type": "execute_result"
    }
   ],
   "source": [
    "d3( [0,1,10,100,1000] )"
   ]
  },
  {
   "cell_type": "code",
   "execution_count": 75,
   "metadata": {},
   "outputs": [
    {
     "data": {
      "text/plain": [
       "2-element Vector{Float32}:\n",
       " -1.0\n",
       " -1.0"
      ]
     },
     "execution_count": 75,
     "metadata": {},
     "output_type": "execute_result"
    }
   ],
   "source": [
    "d4( [0,1,10,100,1000] )"
   ]
  },
  {
   "cell_type": "code",
   "execution_count": null,
   "metadata": {},
   "outputs": [],
   "source": []
  },
  {
   "cell_type": "markdown",
   "metadata": {},
   "source": [
    "### <span style=\"color:orange\">There are other layer types likes the **Conv** layer type (CNNs)</span>\n",
    "\n",
    "- They follow the type: Width-Height-Channel-NumberOfImages (WHCN)\n",
    "- for 32 color images of 50x50 pixels that has a WHCN size of (50,50,3,32)\n",
    "- You can do CNN convolutional layers on 1D data too (sound / audio data) where there are 2 channels in stereo, and for let's say 72 samples(recordings) the size is (72, 2, 1)\n",
    "- 3D Conv layers would add an extra dimension so if the 3D images (eg medical) are 50x50x50, that is (50,50,50,3,32)\n",
    "\n",
    "- **Stride**: the CNN filters move/jump/reposition themselves how many pixels eeach time (the filter 'patch' is shifted how many pixels each time)\n",
    "- **Padding**: due to edge boundaries the filters cannot produce the same image number of pixels (shrinks) are each application so many layers would shrink the image by alot. Also pixels on the boudnary/edge of the image get used in fewer filter operations than those in the middle areas. So padding adds 0 pixels on the outer perimeter. to maintain the same image size use\n",
    "\n",
    "$paddingSize = \\frac{f-1}{2}$\n",
    "\n",
    "since\n",
    "\n",
    "$n + 2p - f + 1 = n$\n",
    "\n",
    "- **Dilation** widens the kernel by skipping pixels so the filter covers a wider area\n",
    "\n",
    "functional usage: $Conv(filter, in => out, \\sigma = identity; stride = 1, pad = 0, dilation = 1, groups = 1, [bias, init])$"
   ]
  },
  {
   "cell_type": "code",
   "execution_count": 76,
   "metadata": {},
   "outputs": [
    {
     "data": {
      "text/plain": [
       "Conv((5, 5), 3 => 7, relu)  \u001b[90m# 532 parameters\u001b[39m"
      ]
     },
     "execution_count": 76,
     "metadata": {},
     "output_type": "execute_result"
    }
   ],
   "source": [
    "conv_layer1 = Conv((5,5), 3 => 7, relu)"
   ]
  },
  {
   "cell_type": "code",
   "execution_count": 77,
   "metadata": {},
   "outputs": [
    {
     "data": {
      "text/plain": [
       "50×50×3×1 Array{Float32, 4}:\n",
       "[:, :, 1, 1] =\n",
       " 0.964314   0.318368   0.483916   …  0.649836   0.410183   0.172161\n",
       " 0.223538   0.911282   0.577506      0.232959   0.159465   0.675359\n",
       " 0.765302   0.598426   0.770101      0.550623   0.866855   0.407651\n",
       " 0.349827   0.462454   0.64233       0.551891   0.912977   0.858203\n",
       " 0.357166   0.3863     0.80333       0.0801029  0.468604   0.192012\n",
       " 0.0833232  0.925365   0.290821   …  0.329142   0.584178   0.595573\n",
       " 0.864472   0.0162374  0.687803      0.056703   0.209485   0.208384\n",
       " 0.470377   0.0704058  0.182768      0.41235    0.579324   0.268576\n",
       " 0.404838   0.629865   0.344479      0.364903   0.236597   0.423569\n",
       " 0.814027   0.643066   0.055529      0.0121582  0.326171   0.3938\n",
       " 0.633809   0.421816   0.707949   …  0.0806138  0.740844   0.464184\n",
       " 0.39672    0.491786   0.819279      0.278954   0.318158   0.0379305\n",
       " 0.237204   0.948415   0.787249      0.425028   0.708082   0.40438\n",
       " ⋮                                ⋱                        \n",
       " 0.699289   0.773448   0.335172      0.472182   0.28277    0.753239\n",
       " 0.343307   0.535241   0.0811799     0.118935   0.365493   0.904341\n",
       " 0.105828   0.700741   0.981885   …  0.697665   0.963389   0.399707\n",
       " 0.821383   0.209472   0.663801      0.785301   0.663289   0.601787\n",
       " 0.698075   0.0537151  0.0651245     0.668822   0.715366   0.490645\n",
       " 0.357907   0.535247   0.287392      0.966616   0.0563729  0.886291\n",
       " 0.98305    0.0811983  0.710018      0.0800676  0.373837   0.67495\n",
       " 0.78966    0.223519   0.841848   …  0.45112    0.0249491  0.610892\n",
       " 0.122571   0.198274   0.681166      0.171633   0.950675   0.941468\n",
       " 0.972459   0.179012   0.854682      0.48742    0.381527   0.675361\n",
       " 0.27201    0.181952   0.560521      0.782583   0.127772   0.342868\n",
       " 0.0183558  0.428679   0.489849      0.659099   0.686131   0.808652\n",
       "\n",
       "[:, :, 2, 1] =\n",
       " 0.977567   0.522767   0.124802    …  0.269261   0.713146   0.547059\n",
       " 0.826936   0.882075   0.737999       0.0962892  0.377091   0.830407\n",
       " 0.0823126  0.581262   0.0496988      0.144898   0.255339   0.317513\n",
       " 0.541631   0.171224   0.27108        0.357404   0.692789   0.449796\n",
       " 0.418096   0.993647   0.56124        0.420743   0.847765   0.876231\n",
       " 0.238017   0.678906   0.709678    …  0.374789   0.133055   0.782205\n",
       " 0.22295    0.503918   0.250585       0.257756   0.220613   0.191157\n",
       " 0.70544    0.883067   0.631021       0.649876   0.308298   0.174676\n",
       " 0.683929   0.515877   0.924713       0.319193   0.609659   0.303182\n",
       " 0.265117   0.401297   0.934921       0.819285   0.781333   0.640437\n",
       " 0.107944   0.40432    0.213945    …  0.563798   0.430443   0.961041\n",
       " 0.0477201  0.264209   0.162962       0.150464   0.0777187  0.323659\n",
       " 0.0239436  0.366784   0.159036       0.625195   0.493115   0.237001\n",
       " ⋮                                 ⋱                        \n",
       " 0.342526   0.172255   0.51724        0.548747   0.057056   0.118606\n",
       " 0.193299   0.611831   0.352745       0.94759    0.539826   0.925176\n",
       " 0.916784   0.733822   0.28068     …  0.792826   0.0386509  0.610658\n",
       " 0.890438   0.754481   0.0134378      0.450754   0.48127    0.513448\n",
       " 0.050469   0.0216349  0.869735       0.654216   0.507692   0.816412\n",
       " 0.225      0.683604   0.737052       0.430929   0.304819   0.702007\n",
       " 0.544224   0.842553   0.755571       0.07271    0.285242   0.0614028\n",
       " 0.0157278  0.529684   0.531949    …  0.697136   0.389468   0.872212\n",
       " 0.356458   0.803379   0.702164       0.952739   0.769274   0.67292\n",
       " 0.0694984  0.348827   0.00295222     0.963261   0.819672   0.720957\n",
       " 0.768027   0.266085   0.542815       0.340695   0.812386   0.352832\n",
       " 0.980723   0.0194181  0.302587       0.864749   0.062888   0.139826\n",
       "\n",
       "[:, :, 3, 1] =\n",
       " 0.339531   0.204727    0.98028    …  0.75275     0.871283   0.981377\n",
       " 0.630179   0.326062    0.677403      0.148544    0.0262276  0.732124\n",
       " 0.295161   0.00908095  0.328054      0.0707296   0.488662   0.499863\n",
       " 0.0307418  0.480407    0.316413      0.255682    0.760246   0.579161\n",
       " 0.974904   0.319302    0.432694      0.658139    0.0647401  0.914673\n",
       " 0.74808    0.0134631   0.115527   …  0.0948461   0.721454   0.904782\n",
       " 0.108318   0.20157     0.0179586     0.499619    0.994133   0.62994\n",
       " 0.854962   0.600323    0.0151303     0.935782    0.0836638  0.00586653\n",
       " 0.661214   0.191348    0.0153357     0.272225    0.227279   0.118787\n",
       " 0.875422   0.057457    0.0651742     0.596359    0.699165   0.851038\n",
       " 0.468355   0.689228    0.765234   …  0.148679    0.515197   0.814011\n",
       " 0.611328   0.270619    0.299654      0.577479    0.38457    0.401461\n",
       " 0.0259178  0.419003    0.684628      0.0981542   0.866547   0.780541\n",
       " ⋮                                 ⋱                         \n",
       " 0.703951   0.990015    0.386705      0.00428593  0.800244   0.0639564\n",
       " 0.367648   0.688793    0.207601      0.283005    0.34503    0.820756\n",
       " 0.320431   0.952065    0.74633    …  0.725289    0.132235   0.559609\n",
       " 0.336006   0.244097    0.452032      0.0479904   0.944572   0.779874\n",
       " 0.685071   0.101292    0.968017      0.731244    0.817446   0.907532\n",
       " 0.0182863  0.311604    0.268841      0.960782    0.885203   0.298683\n",
       " 0.708374   0.533859    0.685158      0.974012    0.134338   0.676267\n",
       " 0.894399   0.565829    0.999048   …  0.201681    0.286934   0.356529\n",
       " 0.9982     0.0902534   0.335965      0.82244     0.825972   0.922694\n",
       " 0.862311   0.0231628   0.319191      0.616684    0.907621   0.360764\n",
       " 0.427968   0.474232    0.987426      0.0981738   0.497359   0.840595\n",
       " 0.496656   0.0492936   0.169223      0.665495    0.370387   0.777083"
      ]
     },
     "execution_count": 77,
     "metadata": {},
     "output_type": "execute_result"
    }
   ],
   "source": [
    "image1 = rand(Float32, 50, 50, 3, 1) #3 channel image (color)"
   ]
  },
  {
   "cell_type": "markdown",
   "metadata": {},
   "source": [
    "### <span style=\"color:orange\">Pass the image into the Conv layer but notice the size change of the image and the channel number increase</span>"
   ]
  },
  {
   "cell_type": "code",
   "execution_count": 78,
   "metadata": {},
   "outputs": [
    {
     "data": {
      "text/plain": [
       "(46, 46, 7, 1)"
      ]
     },
     "execution_count": 78,
     "metadata": {},
     "output_type": "execute_result"
    }
   ],
   "source": [
    "size( conv_layer1(image1) )"
   ]
  },
  {
   "cell_type": "markdown",
   "metadata": {},
   "source": [
    "### <span style=\"color:orange\">Add padding to this new Conv layer to see the size be preserved</span>"
   ]
  },
  {
   "cell_type": "code",
   "execution_count": 79,
   "metadata": {},
   "outputs": [
    {
     "data": {
      "text/plain": [
       "Conv((5, 5), 3 => 7, relu, pad=2)  \u001b[90m# 532 parameters\u001b[39m"
      ]
     },
     "execution_count": 79,
     "metadata": {},
     "output_type": "execute_result"
    }
   ],
   "source": [
    "conv_layer2 = Conv((5,5), 3 => 7, relu, pad=2)"
   ]
  },
  {
   "cell_type": "code",
   "execution_count": 80,
   "metadata": {},
   "outputs": [
    {
     "data": {
      "text/plain": [
       "(50, 50, 7, 1)"
      ]
     },
     "execution_count": 80,
     "metadata": {},
     "output_type": "execute_result"
    }
   ],
   "source": [
    "size( conv_layer2(image1) )"
   ]
  },
  {
   "cell_type": "markdown",
   "metadata": {},
   "source": [
    "### <span style=\"color:orange\">More will be said about different layers later on</span>\n",
    "\n",
    "- BatchNorm\n",
    "- Dropout\n",
    "\n",
    "and more"
   ]
  },
  {
   "cell_type": "code",
   "execution_count": null,
   "metadata": {},
   "outputs": [],
   "source": []
  },
  {
   "cell_type": "markdown",
   "metadata": {},
   "source": [
    "### <span style=\"color:orange\">Activation Functions</span>\n",
    "\n",
    "- Between 'neurons'/'perceptrons'/'transformations'/'layers' we take the linear transformation, and produce an **activation** that is a non-linear tranformation. This is the linear tranformation value produced 'z' that is then tranformed with the non-linear activation function $\\phi$ to produce the output $a$, from operations: $ z = w_1 * x_i + b \\rightarrow a = \\phi(z) $\n",
    "- The activation function produces $ a = \\phi(z) $\n",
    "- If your 'layer' has only one dimension output $R^N \\rightarrow R^1$ (with X input having $N$ dimension and only 1 neuron in that layer) then there is 1 activation function applied, but if there are more neurons in the layer, then multiple activation functions are applied, 1 for each neuron in the layer $R^N \\rightarrow R^3$ 3 activation function applications\n",
    "- These $\\phi$ functions can be varied and are an area of research themselves. Although apparently simple in their operation, the consequences of the choices of these functions can change both the performance accuracies and even the performance run time\n",
    "- Softmax is not *strictly* considered to be an *activation* function. We use softmax at the end output to get a probability distribution over a vector of outputs to produce another vector of outputs of the same length that then is a normalized distribution for categorical probability predictions.\n",
    "- Many functions exist but we will cover a few major ones only, and you can even research your own functions yourself as novel functions and explore the pros and cons for each one"
   ]
  },
  {
   "cell_type": "code",
   "execution_count": 81,
   "metadata": {},
   "outputs": [
    {
     "data": {
      "image/svg+xml": [
       "<?xml version=\"1.0\" encoding=\"utf-8\"?>\n",
       "<svg xmlns=\"http://www.w3.org/2000/svg\" xmlns:xlink=\"http://www.w3.org/1999/xlink\" width=\"600\" height=\"400\" viewBox=\"0 0 2400 1600\">\n",
       "<defs>\n",
       "  <clipPath id=\"clip010\">\n",
       "    <rect x=\"0\" y=\"0\" width=\"2400\" height=\"1600\"/>\n",
       "  </clipPath>\n",
       "</defs>\n",
       "<path clip-path=\"url(#clip010)\" d=\"\n",
       "M0 1600 L2400 1600 L2400 0 L0 0  Z\n",
       "  \" fill=\"#ffffff\" fill-rule=\"evenodd\" fill-opacity=\"1\"/>\n",
       "<defs>\n",
       "  <clipPath id=\"clip011\">\n",
       "    <rect x=\"480\" y=\"0\" width=\"1681\" height=\"1600\"/>\n",
       "  </clipPath>\n",
       "</defs>\n",
       "<path clip-path=\"url(#clip010)\" d=\"\n",
       "M186.274 1486.45 L2352.76 1486.45 L2352.76 123.472 L186.274 123.472  Z\n",
       "  \" fill=\"#ffffff\" fill-rule=\"evenodd\" fill-opacity=\"1\"/>\n",
       "<defs>\n",
       "  <clipPath id=\"clip012\">\n",
       "    <rect x=\"186\" y=\"123\" width=\"2167\" height=\"1364\"/>\n",
       "  </clipPath>\n",
       "</defs>\n",
       "<polyline clip-path=\"url(#clip012)\" style=\"stroke:#000000; stroke-linecap:round; stroke-linejoin:round; stroke-width:2; stroke-opacity:0.1; fill:none\" points=\"\n",
       "  451.975,1486.45 451.975,123.472 \n",
       "  \"/>\n",
       "<polyline clip-path=\"url(#clip012)\" style=\"stroke:#000000; stroke-linecap:round; stroke-linejoin:round; stroke-width:2; stroke-opacity:0.1; fill:none\" points=\"\n",
       "  860.745,1486.45 860.745,123.472 \n",
       "  \"/>\n",
       "<polyline clip-path=\"url(#clip012)\" style=\"stroke:#000000; stroke-linecap:round; stroke-linejoin:round; stroke-width:2; stroke-opacity:0.1; fill:none\" points=\"\n",
       "  1269.51,1486.45 1269.51,123.472 \n",
       "  \"/>\n",
       "<polyline clip-path=\"url(#clip012)\" style=\"stroke:#000000; stroke-linecap:round; stroke-linejoin:round; stroke-width:2; stroke-opacity:0.1; fill:none\" points=\"\n",
       "  1678.29,1486.45 1678.29,123.472 \n",
       "  \"/>\n",
       "<polyline clip-path=\"url(#clip012)\" style=\"stroke:#000000; stroke-linecap:round; stroke-linejoin:round; stroke-width:2; stroke-opacity:0.1; fill:none\" points=\"\n",
       "  2087.06,1486.45 2087.06,123.472 \n",
       "  \"/>\n",
       "<polyline clip-path=\"url(#clip010)\" style=\"stroke:#000000; stroke-linecap:round; stroke-linejoin:round; stroke-width:4; stroke-opacity:1; fill:none\" points=\"\n",
       "  186.274,1486.45 2352.76,1486.45 \n",
       "  \"/>\n",
       "<polyline clip-path=\"url(#clip010)\" style=\"stroke:#000000; stroke-linecap:round; stroke-linejoin:round; stroke-width:4; stroke-opacity:1; fill:none\" points=\"\n",
       "  451.975,1486.45 451.975,1467.55 \n",
       "  \"/>\n",
       "<polyline clip-path=\"url(#clip010)\" style=\"stroke:#000000; stroke-linecap:round; stroke-linejoin:round; stroke-width:4; stroke-opacity:1; fill:none\" points=\"\n",
       "  860.745,1486.45 860.745,1467.55 \n",
       "  \"/>\n",
       "<polyline clip-path=\"url(#clip010)\" style=\"stroke:#000000; stroke-linecap:round; stroke-linejoin:round; stroke-width:4; stroke-opacity:1; fill:none\" points=\"\n",
       "  1269.51,1486.45 1269.51,1467.55 \n",
       "  \"/>\n",
       "<polyline clip-path=\"url(#clip010)\" style=\"stroke:#000000; stroke-linecap:round; stroke-linejoin:round; stroke-width:4; stroke-opacity:1; fill:none\" points=\"\n",
       "  1678.29,1486.45 1678.29,1467.55 \n",
       "  \"/>\n",
       "<polyline clip-path=\"url(#clip010)\" style=\"stroke:#000000; stroke-linecap:round; stroke-linejoin:round; stroke-width:4; stroke-opacity:1; fill:none\" points=\"\n",
       "  2087.06,1486.45 2087.06,1467.55 \n",
       "  \"/>\n",
       "<path clip-path=\"url(#clip010)\" d=\"M420.875 1532.02 L450.551 1532.02 L450.551 1535.95 L420.875 1535.95 L420.875 1532.02 Z\" fill=\"#000000\" fill-rule=\"evenodd\" fill-opacity=\"1\" /><path clip-path=\"url(#clip010)\" d=\"M473.491 1518.36 L461.685 1536.81 L473.491 1536.81 L473.491 1518.36 M472.264 1514.29 L478.143 1514.29 L478.143 1536.81 L483.074 1536.81 L483.074 1540.7 L478.143 1540.7 L478.143 1548.85 L473.491 1548.85 L473.491 1540.7 L457.889 1540.7 L457.889 1536.19 L472.264 1514.29 Z\" fill=\"#000000\" fill-rule=\"evenodd\" fill-opacity=\"1\" /><path clip-path=\"url(#clip010)\" d=\"M830.687 1532.02 L860.363 1532.02 L860.363 1535.95 L830.687 1535.95 L830.687 1532.02 Z\" fill=\"#000000\" fill-rule=\"evenodd\" fill-opacity=\"1\" /><path clip-path=\"url(#clip010)\" d=\"M874.483 1544.91 L890.802 1544.91 L890.802 1548.85 L868.858 1548.85 L868.858 1544.91 Q871.52 1542.16 876.103 1537.53 Q880.71 1532.88 881.891 1531.53 Q884.136 1529.01 885.015 1527.27 Q885.918 1525.51 885.918 1523.82 Q885.918 1521.07 883.974 1519.33 Q882.053 1517.6 878.951 1517.6 Q876.752 1517.6 874.298 1518.36 Q871.867 1519.13 869.09 1520.68 L869.09 1515.95 Q871.914 1514.82 874.367 1514.24 Q876.821 1513.66 878.858 1513.66 Q884.228 1513.66 887.423 1516.35 Q890.617 1519.03 890.617 1523.52 Q890.617 1525.65 889.807 1527.57 Q889.02 1529.47 886.914 1532.07 Q886.335 1532.74 883.233 1535.95 Q880.131 1539.15 874.483 1544.91 Z\" fill=\"#000000\" fill-rule=\"evenodd\" fill-opacity=\"1\" /><path clip-path=\"url(#clip010)\" d=\"M1269.51 1517.37 Q1265.9 1517.37 1264.08 1520.93 Q1262.27 1524.47 1262.27 1531.6 Q1262.27 1538.71 1264.08 1542.27 Q1265.9 1545.82 1269.51 1545.82 Q1273.15 1545.82 1274.95 1542.27 Q1276.78 1538.71 1276.78 1531.6 Q1276.78 1524.47 1274.95 1520.93 Q1273.15 1517.37 1269.51 1517.37 M1269.51 1513.66 Q1275.33 1513.66 1278.38 1518.27 Q1281.46 1522.85 1281.46 1531.6 Q1281.46 1540.33 1278.38 1544.94 Q1275.33 1549.52 1269.51 1549.52 Q1263.7 1549.52 1260.63 1544.94 Q1257.57 1540.33 1257.57 1531.6 Q1257.57 1522.85 1260.63 1518.27 Q1263.7 1513.66 1269.51 1513.66 Z\" fill=\"#000000\" fill-rule=\"evenodd\" fill-opacity=\"1\" /><path clip-path=\"url(#clip010)\" d=\"M1672.94 1544.91 L1689.26 1544.91 L1689.26 1548.85 L1667.31 1548.85 L1667.31 1544.91 Q1669.97 1542.16 1674.56 1537.53 Q1679.16 1532.88 1680.35 1531.53 Q1682.59 1529.01 1683.47 1527.27 Q1684.37 1525.51 1684.37 1523.82 Q1684.37 1521.07 1682.43 1519.33 Q1680.51 1517.6 1677.41 1517.6 Q1675.21 1517.6 1672.75 1518.36 Q1670.32 1519.13 1667.54 1520.68 L1667.54 1515.95 Q1670.37 1514.82 1672.82 1514.24 Q1675.28 1513.66 1677.31 1513.66 Q1682.68 1513.66 1685.88 1516.35 Q1689.07 1519.03 1689.07 1523.52 Q1689.07 1525.65 1688.26 1527.57 Q1687.47 1529.47 1685.37 1532.07 Q1684.79 1532.74 1681.69 1535.95 Q1678.59 1539.15 1672.94 1544.91 Z\" fill=\"#000000\" fill-rule=\"evenodd\" fill-opacity=\"1\" /><path clip-path=\"url(#clip010)\" d=\"M2090.06 1518.36 L2078.26 1536.81 L2090.06 1536.81 L2090.06 1518.36 M2088.84 1514.29 L2094.72 1514.29 L2094.72 1536.81 L2099.65 1536.81 L2099.65 1540.7 L2094.72 1540.7 L2094.72 1548.85 L2090.06 1548.85 L2090.06 1540.7 L2074.46 1540.7 L2074.46 1536.19 L2088.84 1514.29 Z\" fill=\"#000000\" fill-rule=\"evenodd\" fill-opacity=\"1\" /><polyline clip-path=\"url(#clip012)\" style=\"stroke:#000000; stroke-linecap:round; stroke-linejoin:round; stroke-width:2; stroke-opacity:0.1; fill:none\" points=\"\n",
       "  186.274,1456.6 2352.76,1456.6 \n",
       "  \"/>\n",
       "<polyline clip-path=\"url(#clip012)\" style=\"stroke:#000000; stroke-linecap:round; stroke-linejoin:round; stroke-width:2; stroke-opacity:0.1; fill:none\" points=\"\n",
       "  186.274,1130.78 2352.76,1130.78 \n",
       "  \"/>\n",
       "<polyline clip-path=\"url(#clip012)\" style=\"stroke:#000000; stroke-linecap:round; stroke-linejoin:round; stroke-width:2; stroke-opacity:0.1; fill:none\" points=\"\n",
       "  186.274,804.96 2352.76,804.96 \n",
       "  \"/>\n",
       "<polyline clip-path=\"url(#clip012)\" style=\"stroke:#000000; stroke-linecap:round; stroke-linejoin:round; stroke-width:2; stroke-opacity:0.1; fill:none\" points=\"\n",
       "  186.274,479.142 2352.76,479.142 \n",
       "  \"/>\n",
       "<polyline clip-path=\"url(#clip012)\" style=\"stroke:#000000; stroke-linecap:round; stroke-linejoin:round; stroke-width:2; stroke-opacity:0.1; fill:none\" points=\"\n",
       "  186.274,153.324 2352.76,153.324 \n",
       "  \"/>\n",
       "<polyline clip-path=\"url(#clip010)\" style=\"stroke:#000000; stroke-linecap:round; stroke-linejoin:round; stroke-width:4; stroke-opacity:1; fill:none\" points=\"\n",
       "  186.274,1486.45 186.274,123.472 \n",
       "  \"/>\n",
       "<polyline clip-path=\"url(#clip010)\" style=\"stroke:#000000; stroke-linecap:round; stroke-linejoin:round; stroke-width:4; stroke-opacity:1; fill:none\" points=\"\n",
       "  186.274,1456.6 205.172,1456.6 \n",
       "  \"/>\n",
       "<polyline clip-path=\"url(#clip010)\" style=\"stroke:#000000; stroke-linecap:round; stroke-linejoin:round; stroke-width:4; stroke-opacity:1; fill:none\" points=\"\n",
       "  186.274,1130.78 205.172,1130.78 \n",
       "  \"/>\n",
       "<polyline clip-path=\"url(#clip010)\" style=\"stroke:#000000; stroke-linecap:round; stroke-linejoin:round; stroke-width:4; stroke-opacity:1; fill:none\" points=\"\n",
       "  186.274,804.96 205.172,804.96 \n",
       "  \"/>\n",
       "<polyline clip-path=\"url(#clip010)\" style=\"stroke:#000000; stroke-linecap:round; stroke-linejoin:round; stroke-width:4; stroke-opacity:1; fill:none\" points=\"\n",
       "  186.274,479.142 205.172,479.142 \n",
       "  \"/>\n",
       "<polyline clip-path=\"url(#clip010)\" style=\"stroke:#000000; stroke-linecap:round; stroke-linejoin:round; stroke-width:4; stroke-opacity:1; fill:none\" points=\"\n",
       "  186.274,153.324 205.172,153.324 \n",
       "  \"/>\n",
       "<path clip-path=\"url(#clip010)\" d=\"M62.9365 1442.39 Q59.3254 1442.39 57.4967 1445.96 Q55.6912 1449.5 55.6912 1456.63 Q55.6912 1463.74 57.4967 1467.3 Q59.3254 1470.84 62.9365 1470.84 Q66.5707 1470.84 68.3763 1467.3 Q70.205 1463.74 70.205 1456.63 Q70.205 1449.5 68.3763 1445.96 Q66.5707 1442.39 62.9365 1442.39 M62.9365 1438.69 Q68.7467 1438.69 71.8022 1443.3 Q74.8809 1447.88 74.8809 1456.63 Q74.8809 1465.36 71.8022 1469.96 Q68.7467 1474.55 62.9365 1474.55 Q57.1264 1474.55 54.0477 1469.96 Q50.9921 1465.36 50.9921 1456.63 Q50.9921 1447.88 54.0477 1443.3 Q57.1264 1438.69 62.9365 1438.69 Z\" fill=\"#000000\" fill-rule=\"evenodd\" fill-opacity=\"1\" /><path clip-path=\"url(#clip010)\" d=\"M83.0984 1468 L87.9827 1468 L87.9827 1473.88 L83.0984 1473.88 L83.0984 1468 Z\" fill=\"#000000\" fill-rule=\"evenodd\" fill-opacity=\"1\" /><path clip-path=\"url(#clip010)\" d=\"M108.168 1442.39 Q104.557 1442.39 102.728 1445.96 Q100.922 1449.5 100.922 1456.63 Q100.922 1463.74 102.728 1467.3 Q104.557 1470.84 108.168 1470.84 Q111.802 1470.84 113.608 1467.3 Q115.436 1463.74 115.436 1456.63 Q115.436 1449.5 113.608 1445.96 Q111.802 1442.39 108.168 1442.39 M108.168 1438.69 Q113.978 1438.69 117.033 1443.3 Q120.112 1447.88 120.112 1456.63 Q120.112 1465.36 117.033 1469.96 Q113.978 1474.55 108.168 1474.55 Q102.358 1474.55 99.2789 1469.96 Q96.2234 1465.36 96.2234 1456.63 Q96.2234 1447.88 99.2789 1443.3 Q102.358 1438.69 108.168 1438.69 Z\" fill=\"#000000\" fill-rule=\"evenodd\" fill-opacity=\"1\" /><path clip-path=\"url(#clip010)\" d=\"M138.33 1442.39 Q134.719 1442.39 132.89 1445.96 Q131.084 1449.5 131.084 1456.63 Q131.084 1463.74 132.89 1467.3 Q134.719 1470.84 138.33 1470.84 Q141.964 1470.84 143.769 1467.3 Q145.598 1463.74 145.598 1456.63 Q145.598 1449.5 143.769 1445.96 Q141.964 1442.39 138.33 1442.39 M138.33 1438.69 Q144.14 1438.69 147.195 1443.3 Q150.274 1447.88 150.274 1456.63 Q150.274 1465.36 147.195 1469.96 Q144.14 1474.55 138.33 1474.55 Q132.519 1474.55 129.441 1469.96 Q126.385 1465.36 126.385 1456.63 Q126.385 1447.88 129.441 1443.3 Q132.519 1438.69 138.33 1438.69 Z\" fill=\"#000000\" fill-rule=\"evenodd\" fill-opacity=\"1\" /><path clip-path=\"url(#clip010)\" d=\"M63.9319 1116.58 Q60.3208 1116.58 58.4921 1120.14 Q56.6865 1123.68 56.6865 1130.81 Q56.6865 1137.92 58.4921 1141.48 Q60.3208 1145.03 63.9319 1145.03 Q67.5661 1145.03 69.3717 1141.48 Q71.2004 1137.92 71.2004 1130.81 Q71.2004 1123.68 69.3717 1120.14 Q67.5661 1116.58 63.9319 1116.58 M63.9319 1112.87 Q69.742 1112.87 72.7976 1117.48 Q75.8763 1122.06 75.8763 1130.81 Q75.8763 1139.54 72.7976 1144.15 Q69.742 1148.73 63.9319 1148.73 Q58.1217 1148.73 55.043 1144.15 Q51.9875 1139.54 51.9875 1130.81 Q51.9875 1122.06 55.043 1117.48 Q58.1217 1112.87 63.9319 1112.87 Z\" fill=\"#000000\" fill-rule=\"evenodd\" fill-opacity=\"1\" /><path clip-path=\"url(#clip010)\" d=\"M84.0938 1142.18 L88.978 1142.18 L88.978 1148.06 L84.0938 1148.06 L84.0938 1142.18 Z\" fill=\"#000000\" fill-rule=\"evenodd\" fill-opacity=\"1\" /><path clip-path=\"url(#clip010)\" d=\"M103.191 1144.12 L119.51 1144.12 L119.51 1148.06 L97.566 1148.06 L97.566 1144.12 Q100.228 1141.37 104.811 1136.74 Q109.418 1132.09 110.598 1130.74 Q112.844 1128.22 113.723 1126.48 Q114.626 1124.72 114.626 1123.03 Q114.626 1120.28 112.682 1118.54 Q110.76 1116.81 107.658 1116.81 Q105.459 1116.81 103.006 1117.57 Q100.575 1118.34 97.7974 1119.89 L97.7974 1115.16 Q100.621 1114.03 103.075 1113.45 Q105.529 1112.87 107.566 1112.87 Q112.936 1112.87 116.131 1115.56 Q119.325 1118.24 119.325 1122.73 Q119.325 1124.86 118.515 1126.78 Q117.728 1128.68 115.621 1131.28 Q115.043 1131.95 111.941 1135.16 Q108.839 1138.36 103.191 1144.12 Z\" fill=\"#000000\" fill-rule=\"evenodd\" fill-opacity=\"1\" /><path clip-path=\"url(#clip010)\" d=\"M129.371 1113.5 L147.728 1113.5 L147.728 1117.43 L133.654 1117.43 L133.654 1125.91 Q134.672 1125.56 135.691 1125.4 Q136.709 1125.21 137.728 1125.21 Q143.515 1125.21 146.894 1128.38 Q150.274 1131.55 150.274 1136.97 Q150.274 1142.55 146.802 1145.65 Q143.33 1148.73 137.01 1148.73 Q134.834 1148.73 132.566 1148.36 Q130.32 1147.99 127.913 1147.25 L127.913 1142.55 Q129.996 1143.68 132.219 1144.24 Q134.441 1144.79 136.918 1144.79 Q140.922 1144.79 143.26 1142.69 Q145.598 1140.58 145.598 1136.97 Q145.598 1133.36 143.26 1131.25 Q140.922 1129.15 136.918 1129.15 Q135.043 1129.15 133.168 1129.56 Q131.316 1129.98 129.371 1130.86 L129.371 1113.5 Z\" fill=\"#000000\" fill-rule=\"evenodd\" fill-opacity=\"1\" /><path clip-path=\"url(#clip010)\" d=\"M62.9365 790.759 Q59.3254 790.759 57.4967 794.323 Q55.6912 797.865 55.6912 804.995 Q55.6912 812.101 57.4967 815.666 Q59.3254 819.208 62.9365 819.208 Q66.5707 819.208 68.3763 815.666 Q70.205 812.101 70.205 804.995 Q70.205 797.865 68.3763 794.323 Q66.5707 790.759 62.9365 790.759 M62.9365 787.055 Q68.7467 787.055 71.8022 791.661 Q74.8809 796.245 74.8809 804.995 Q74.8809 813.722 71.8022 818.328 Q68.7467 822.911 62.9365 822.911 Q57.1264 822.911 54.0477 818.328 Q50.9921 813.722 50.9921 804.995 Q50.9921 796.245 54.0477 791.661 Q57.1264 787.055 62.9365 787.055 Z\" fill=\"#000000\" fill-rule=\"evenodd\" fill-opacity=\"1\" /><path clip-path=\"url(#clip010)\" d=\"M83.0984 816.36 L87.9827 816.36 L87.9827 822.24 L83.0984 822.24 L83.0984 816.36 Z\" fill=\"#000000\" fill-rule=\"evenodd\" fill-opacity=\"1\" /><path clip-path=\"url(#clip010)\" d=\"M98.2141 787.68 L116.57 787.68 L116.57 791.615 L102.496 791.615 L102.496 800.087 Q103.515 799.74 104.534 799.578 Q105.552 799.393 106.571 799.393 Q112.358 799.393 115.737 802.564 Q119.117 805.735 119.117 811.152 Q119.117 816.731 115.645 819.833 Q112.172 822.911 105.853 822.911 Q103.677 822.911 101.409 822.541 Q99.1632 822.171 96.7558 821.43 L96.7558 816.731 Q98.8391 817.865 101.061 818.421 Q103.284 818.976 105.76 818.976 Q109.765 818.976 112.103 816.87 Q114.441 814.763 114.441 811.152 Q114.441 807.541 112.103 805.435 Q109.765 803.328 105.76 803.328 Q103.885 803.328 102.01 803.745 Q100.159 804.161 98.2141 805.041 L98.2141 787.68 Z\" fill=\"#000000\" fill-rule=\"evenodd\" fill-opacity=\"1\" /><path clip-path=\"url(#clip010)\" d=\"M138.33 790.759 Q134.719 790.759 132.89 794.323 Q131.084 797.865 131.084 804.995 Q131.084 812.101 132.89 815.666 Q134.719 819.208 138.33 819.208 Q141.964 819.208 143.769 815.666 Q145.598 812.101 145.598 804.995 Q145.598 797.865 143.769 794.323 Q141.964 790.759 138.33 790.759 M138.33 787.055 Q144.14 787.055 147.195 791.661 Q150.274 796.245 150.274 804.995 Q150.274 813.722 147.195 818.328 Q144.14 822.911 138.33 822.911 Q132.519 822.911 129.441 818.328 Q126.385 813.722 126.385 804.995 Q126.385 796.245 129.441 791.661 Q132.519 787.055 138.33 787.055 Z\" fill=\"#000000\" fill-rule=\"evenodd\" fill-opacity=\"1\" /><path clip-path=\"url(#clip010)\" d=\"M63.9319 464.941 Q60.3208 464.941 58.4921 468.506 Q56.6865 472.047 56.6865 479.177 Q56.6865 486.283 58.4921 489.848 Q60.3208 493.39 63.9319 493.39 Q67.5661 493.39 69.3717 489.848 Q71.2004 486.283 71.2004 479.177 Q71.2004 472.047 69.3717 468.506 Q67.5661 464.941 63.9319 464.941 M63.9319 461.237 Q69.742 461.237 72.7976 465.844 Q75.8763 470.427 75.8763 479.177 Q75.8763 487.904 72.7976 492.51 Q69.742 497.093 63.9319 497.093 Q58.1217 497.093 55.043 492.51 Q51.9875 487.904 51.9875 479.177 Q51.9875 470.427 55.043 465.844 Q58.1217 461.237 63.9319 461.237 Z\" fill=\"#000000\" fill-rule=\"evenodd\" fill-opacity=\"1\" /><path clip-path=\"url(#clip010)\" d=\"M84.0938 490.543 L88.978 490.543 L88.978 496.422 L84.0938 496.422 L84.0938 490.543 Z\" fill=\"#000000\" fill-rule=\"evenodd\" fill-opacity=\"1\" /><path clip-path=\"url(#clip010)\" d=\"M97.9826 461.862 L120.205 461.862 L120.205 463.853 L107.658 496.422 L102.774 496.422 L114.58 465.797 L97.9826 465.797 L97.9826 461.862 Z\" fill=\"#000000\" fill-rule=\"evenodd\" fill-opacity=\"1\" /><path clip-path=\"url(#clip010)\" d=\"M129.371 461.862 L147.728 461.862 L147.728 465.797 L133.654 465.797 L133.654 474.269 Q134.672 473.922 135.691 473.76 Q136.709 473.575 137.728 473.575 Q143.515 473.575 146.894 476.746 Q150.274 479.918 150.274 485.334 Q150.274 490.913 146.802 494.015 Q143.33 497.093 137.01 497.093 Q134.834 497.093 132.566 496.723 Q130.32 496.353 127.913 495.612 L127.913 490.913 Q129.996 492.047 132.219 492.603 Q134.441 493.158 136.918 493.158 Q140.922 493.158 143.26 491.052 Q145.598 488.945 145.598 485.334 Q145.598 481.723 143.26 479.617 Q140.922 477.51 136.918 477.51 Q135.043 477.51 133.168 477.927 Q131.316 478.344 129.371 479.223 L129.371 461.862 Z\" fill=\"#000000\" fill-rule=\"evenodd\" fill-opacity=\"1\" /><path clip-path=\"url(#clip010)\" d=\"M53.7467 166.669 L61.3856 166.669 L61.3856 140.304 L53.0754 141.97 L53.0754 137.711 L61.3393 136.044 L66.0152 136.044 L66.0152 166.669 L73.654 166.669 L73.654 170.604 L53.7467 170.604 L53.7467 166.669 Z\" fill=\"#000000\" fill-rule=\"evenodd\" fill-opacity=\"1\" /><path clip-path=\"url(#clip010)\" d=\"M83.0984 164.725 L87.9827 164.725 L87.9827 170.604 L83.0984 170.604 L83.0984 164.725 Z\" fill=\"#000000\" fill-rule=\"evenodd\" fill-opacity=\"1\" /><path clip-path=\"url(#clip010)\" d=\"M108.168 139.123 Q104.557 139.123 102.728 142.688 Q100.922 146.229 100.922 153.359 Q100.922 160.465 102.728 164.03 Q104.557 167.572 108.168 167.572 Q111.802 167.572 113.608 164.03 Q115.436 160.465 115.436 153.359 Q115.436 146.229 113.608 142.688 Q111.802 139.123 108.168 139.123 M108.168 135.419 Q113.978 135.419 117.033 140.026 Q120.112 144.609 120.112 153.359 Q120.112 162.086 117.033 166.692 Q113.978 171.276 108.168 171.276 Q102.358 171.276 99.2789 166.692 Q96.2234 162.086 96.2234 153.359 Q96.2234 144.609 99.2789 140.026 Q102.358 135.419 108.168 135.419 Z\" fill=\"#000000\" fill-rule=\"evenodd\" fill-opacity=\"1\" /><path clip-path=\"url(#clip010)\" d=\"M138.33 139.123 Q134.719 139.123 132.89 142.688 Q131.084 146.229 131.084 153.359 Q131.084 160.465 132.89 164.03 Q134.719 167.572 138.33 167.572 Q141.964 167.572 143.769 164.03 Q145.598 160.465 145.598 153.359 Q145.598 146.229 143.769 142.688 Q141.964 139.123 138.33 139.123 M138.33 135.419 Q144.14 135.419 147.195 140.026 Q150.274 144.609 150.274 153.359 Q150.274 162.086 147.195 166.692 Q144.14 171.276 138.33 171.276 Q132.519 171.276 129.441 166.692 Q126.385 162.086 126.385 153.359 Q126.385 144.609 129.441 140.026 Q132.519 135.419 138.33 135.419 Z\" fill=\"#000000\" fill-rule=\"evenodd\" fill-opacity=\"1\" /><path clip-path=\"url(#clip010)\" d=\"M1144.67 28.5427 L1144.67 35.5912 Q1141.51 33.9709 1138.1 33.1607 Q1134.7 32.3505 1131.06 32.3505 Q1125.51 32.3505 1122.71 34.0519 Q1119.96 35.7533 1119.96 39.156 Q1119.96 41.7486 1121.94 43.2475 Q1123.93 44.7058 1129.92 46.0426 L1132.47 46.6097 Q1140.41 48.3111 1143.73 51.4303 Q1147.1 54.509 1147.1 60.0587 Q1147.1 66.3781 1142.07 70.0644 Q1137.09 73.7508 1128.34 73.7508 Q1124.7 73.7508 1120.73 73.0216 Q1116.8 72.3329 1112.42 70.9151 L1112.42 63.2184 Q1116.55 65.3654 1120.56 66.4591 Q1124.57 67.5124 1128.5 67.5124 Q1133.77 67.5124 1136.6 65.73 Q1139.44 63.9071 1139.44 60.6258 Q1139.44 57.5877 1137.37 55.9673 Q1135.35 54.3469 1128.42 52.8481 L1125.83 52.2405 Q1118.9 50.7821 1115.82 47.7845 Q1112.74 44.7463 1112.74 39.4801 Q1112.74 33.0797 1117.28 29.5959 Q1121.82 26.1121 1130.16 26.1121 Q1134.3 26.1121 1137.94 26.7198 Q1141.59 27.3274 1144.67 28.5427 Z\" fill=\"#000000\" fill-rule=\"evenodd\" fill-opacity=\"1\" /><path clip-path=\"url(#clip010)\" d=\"M1158.97 27.2059 L1166.42 27.2059 L1166.42 72.576 L1158.97 72.576 L1158.97 27.2059 M1158.97 9.54393 L1166.42 9.54393 L1166.42 18.9825 L1158.97 18.9825 L1158.97 9.54393 Z\" fill=\"#000000\" fill-rule=\"evenodd\" fill-opacity=\"1\" /><path clip-path=\"url(#clip010)\" d=\"M1211.87 49.3643 Q1211.87 41.2625 1208.51 36.8065 Q1205.19 32.3505 1199.15 32.3505 Q1193.16 32.3505 1189.79 36.8065 Q1186.47 41.2625 1186.47 49.3643 Q1186.47 57.4256 1189.79 61.8816 Q1193.16 66.3376 1199.15 66.3376 Q1205.19 66.3376 1208.51 61.8816 Q1211.87 57.4256 1211.87 49.3643 M1219.32 66.9452 Q1219.32 78.5308 1214.18 84.1616 Q1209.03 89.8329 1198.42 89.8329 Q1194.49 89.8329 1191.01 89.2252 Q1187.52 88.6581 1184.24 87.4428 L1184.24 80.1917 Q1187.52 81.9741 1190.72 82.8248 Q1193.93 83.6755 1197.25 83.6755 Q1204.58 83.6755 1208.22 79.8271 Q1211.87 76.0193 1211.87 68.282 L1211.87 64.5957 Q1209.56 68.6061 1205.96 70.5911 Q1202.35 72.576 1197.33 72.576 Q1188.98 72.576 1183.88 66.2161 Q1178.77 59.8562 1178.77 49.3643 Q1178.77 38.832 1183.88 32.472 Q1188.98 26.1121 1197.33 26.1121 Q1202.35 26.1121 1205.96 28.0971 Q1209.56 30.082 1211.87 34.0924 L1211.87 27.2059 L1219.32 27.2059 L1219.32 66.9452 Z\" fill=\"#000000\" fill-rule=\"evenodd\" fill-opacity=\"1\" /><path clip-path=\"url(#clip010)\" d=\"M1270 35.9153 Q1272.8 30.8922 1276.69 28.5022 Q1280.57 26.1121 1285.84 26.1121 Q1292.93 26.1121 1296.78 31.0947 Q1300.63 36.0368 1300.63 45.1919 L1300.63 72.576 L1293.13 72.576 L1293.13 45.4349 Q1293.13 38.913 1290.82 35.7533 Q1288.51 32.5936 1283.77 32.5936 Q1277.98 32.5936 1274.62 36.4419 Q1271.26 40.2903 1271.26 46.9338 L1271.26 72.576 L1263.76 72.576 L1263.76 45.4349 Q1263.76 38.8725 1261.45 35.7533 Q1259.14 32.5936 1254.32 32.5936 Q1248.61 32.5936 1245.25 36.4824 Q1241.89 40.3308 1241.89 46.9338 L1241.89 72.576 L1234.39 72.576 L1234.39 27.2059 L1241.89 27.2059 L1241.89 34.2544 Q1244.44 30.082 1248 28.0971 Q1251.57 26.1121 1256.47 26.1121 Q1261.41 26.1121 1264.86 28.6237 Q1268.34 31.1352 1270 35.9153 Z\" fill=\"#000000\" fill-rule=\"evenodd\" fill-opacity=\"1\" /><path clip-path=\"url(#clip010)\" d=\"M1333.07 32.4315 Q1327.08 32.4315 1323.59 37.1306 Q1320.11 41.7891 1320.11 49.9314 Q1320.11 58.0738 1323.55 62.7728 Q1327.04 67.4314 1333.07 67.4314 Q1339.03 67.4314 1342.51 62.7323 Q1346 58.0333 1346 49.9314 Q1346 41.8701 1342.51 37.1711 Q1339.03 32.4315 1333.07 32.4315 M1333.07 26.1121 Q1342.8 26.1121 1348.35 32.4315 Q1353.9 38.7509 1353.9 49.9314 Q1353.9 61.0714 1348.35 67.4314 Q1342.8 73.7508 1333.07 73.7508 Q1323.31 73.7508 1317.76 67.4314 Q1312.25 61.0714 1312.25 49.9314 Q1312.25 38.7509 1317.76 32.4315 Q1323.31 26.1121 1333.07 26.1121 Z\" fill=\"#000000\" fill-rule=\"evenodd\" fill-opacity=\"1\" /><path clip-path=\"url(#clip010)\" d=\"M1366.25 27.2059 L1373.7 27.2059 L1373.7 72.576 L1366.25 72.576 L1366.25 27.2059 M1366.25 9.54393 L1373.7 9.54393 L1373.7 18.9825 L1366.25 18.9825 L1366.25 9.54393 Z\" fill=\"#000000\" fill-rule=\"evenodd\" fill-opacity=\"1\" /><path clip-path=\"url(#clip010)\" d=\"M1419.16 34.0924 L1419.16 9.54393 L1426.61 9.54393 L1426.61 72.576 L1419.16 72.576 L1419.16 65.7705 Q1416.81 69.8214 1413.2 71.8063 Q1409.64 73.7508 1404.61 73.7508 Q1396.39 73.7508 1391.2 67.1883 Q1386.06 60.6258 1386.06 49.9314 Q1386.06 39.2371 1391.2 32.6746 Q1396.39 26.1121 1404.61 26.1121 Q1409.64 26.1121 1413.2 28.0971 Q1416.81 30.0415 1419.16 34.0924 M1393.76 49.9314 Q1393.76 58.1548 1397.12 62.8538 Q1400.52 67.5124 1406.44 67.5124 Q1412.35 67.5124 1415.75 62.8538 Q1419.16 58.1548 1419.16 49.9314 Q1419.16 41.7081 1415.75 37.0496 Q1412.35 32.3505 1406.44 32.3505 Q1400.52 32.3505 1397.12 37.0496 Q1393.76 41.7081 1393.76 49.9314 Z\" fill=\"#000000\" fill-rule=\"evenodd\" fill-opacity=\"1\" /><polyline clip-path=\"url(#clip012)\" style=\"stroke:#009af9; stroke-linecap:round; stroke-linejoin:round; stroke-width:4; stroke-opacity:1; fill:none\" points=\"\n",
       "  247.59,1447.87 268.028,1446.96 288.467,1445.96 308.905,1444.85 329.344,1443.63 349.782,1442.28 370.221,1440.79 390.659,1439.15 411.098,1437.34 431.536,1435.35 \n",
       "  451.975,1433.15 472.413,1430.74 492.852,1428.08 513.29,1425.15 533.729,1421.93 554.167,1418.39 574.606,1414.51 595.044,1410.24 615.483,1405.55 635.921,1400.42 \n",
       "  656.36,1394.79 676.798,1388.63 697.237,1381.89 717.675,1374.52 738.114,1366.49 758.552,1357.73 778.991,1348.2 799.429,1337.84 819.868,1326.59 840.306,1314.41 \n",
       "  860.745,1301.24 881.183,1287.03 901.622,1271.73 922.06,1255.29 942.499,1237.67 962.937,1218.85 983.376,1198.79 1003.81,1177.48 1024.25,1154.92 1044.69,1131.12 \n",
       "  1065.13,1106.09 1085.57,1079.88 1106.01,1052.55 1126.45,1024.15 1146.88,994.79 1167.32,964.558 1187.76,933.577 1208.2,901.979 1228.64,869.907 1249.08,837.515 \n",
       "  1269.51,804.96 1289.95,772.405 1310.39,740.013 1330.83,707.941 1351.27,676.343 1371.71,645.362 1392.15,615.13 1412.58,585.766 1433.02,557.372 1453.46,530.036 \n",
       "  1473.9,503.828 1494.34,478.803 1514.78,454.999 1535.22,432.439 1555.65,411.132 1576.09,391.074 1596.53,372.25 1616.97,354.634 1637.41,338.195 1657.85,322.891 \n",
       "  1678.29,308.678 1698.72,295.507 1719.16,283.326 1739.6,272.082 1760.04,261.721 1780.48,252.188 1800.92,243.43 1821.35,235.396 1841.79,228.033 1862.23,221.295 \n",
       "  1882.67,215.133 1903.11,209.505 1923.55,204.368 1943.99,199.683 1964.42,195.414 1984.86,191.526 2005.3,187.987 2025.74,184.768 2046.18,181.842 2066.62,179.182 \n",
       "  2087.06,176.765 2107.49,174.571 2127.93,172.579 2148.37,170.771 2168.81,169.131 2189.25,167.643 2209.69,166.294 2230.12,165.071 2250.56,163.962 2271,162.957 \n",
       "  2291.44,162.047 \n",
       "  \"/>\n",
       "<path clip-path=\"url(#clip010)\" d=\"\n",
       "M1987.39 272.585 L2280.54 272.585 L2280.54 168.905 L1987.39 168.905  Z\n",
       "  \" fill=\"#ffffff\" fill-rule=\"evenodd\" fill-opacity=\"1\"/>\n",
       "<polyline clip-path=\"url(#clip010)\" style=\"stroke:#000000; stroke-linecap:round; stroke-linejoin:round; stroke-width:4; stroke-opacity:1; fill:none\" points=\"\n",
       "  1987.39,272.585 2280.54,272.585 2280.54,168.905 1987.39,168.905 1987.39,272.585 \n",
       "  \"/>\n",
       "<polyline clip-path=\"url(#clip010)\" style=\"stroke:#009af9; stroke-linecap:round; stroke-linejoin:round; stroke-width:4; stroke-opacity:1; fill:none\" points=\"\n",
       "  2011.46,220.745 2155.89,220.745 \n",
       "  \"/>\n",
       "<path clip-path=\"url(#clip010)\" d=\"M2193.81 240.432 Q2192 245.062 2190.29 246.474 Q2188.58 247.886 2185.71 247.886 L2182.3 247.886 L2182.3 244.321 L2184.8 244.321 Q2186.56 244.321 2187.53 243.488 Q2188.51 242.654 2189.69 239.552 L2190.45 237.608 L2179.97 212.099 L2184.48 212.099 L2192.58 232.377 L2200.68 212.099 L2205.2 212.099 L2193.81 240.432 Z\" fill=\"#000000\" fill-rule=\"evenodd\" fill-opacity=\"1\" /><path clip-path=\"url(#clip010)\" d=\"M2212.49 234.089 L2220.13 234.089 L2220.13 207.724 L2211.82 209.391 L2211.82 205.131 L2220.08 203.465 L2224.76 203.465 L2224.76 234.089 L2232.4 234.089 L2232.4 238.025 L2212.49 238.025 L2212.49 234.089 Z\" fill=\"#000000\" fill-rule=\"evenodd\" fill-opacity=\"1\" /></svg>\n"
      ]
     },
     "execution_count": 81,
     "metadata": {},
     "output_type": "execute_result"
    }
   ],
   "source": [
    "# 'σ' symbol or 'sigma' can be used for the sigmoid, σ(x) = 1 / (1 + exp(-x))\n",
    "plot(-5:0.1:5,sigmoid,title=\"sigmoid\")"
   ]
  },
  {
   "cell_type": "code",
   "execution_count": 82,
   "metadata": {},
   "outputs": [
    {
     "data": {
      "image/svg+xml": [
       "<?xml version=\"1.0\" encoding=\"utf-8\"?>\n",
       "<svg xmlns=\"http://www.w3.org/2000/svg\" xmlns:xlink=\"http://www.w3.org/1999/xlink\" width=\"600\" height=\"400\" viewBox=\"0 0 2400 1600\">\n",
       "<defs>\n",
       "  <clipPath id=\"clip050\">\n",
       "    <rect x=\"0\" y=\"0\" width=\"2400\" height=\"1600\"/>\n",
       "  </clipPath>\n",
       "</defs>\n",
       "<path clip-path=\"url(#clip050)\" d=\"\n",
       "M0 1600 L2400 1600 L2400 0 L0 0  Z\n",
       "  \" fill=\"#ffffff\" fill-rule=\"evenodd\" fill-opacity=\"1\"/>\n",
       "<defs>\n",
       "  <clipPath id=\"clip051\">\n",
       "    <rect x=\"480\" y=\"0\" width=\"1681\" height=\"1600\"/>\n",
       "  </clipPath>\n",
       "</defs>\n",
       "<path clip-path=\"url(#clip050)\" d=\"\n",
       "M186.274 1486.45 L2352.76 1486.45 L2352.76 123.472 L186.274 123.472  Z\n",
       "  \" fill=\"#ffffff\" fill-rule=\"evenodd\" fill-opacity=\"1\"/>\n",
       "<defs>\n",
       "  <clipPath id=\"clip052\">\n",
       "    <rect x=\"186\" y=\"123\" width=\"2167\" height=\"1364\"/>\n",
       "  </clipPath>\n",
       "</defs>\n",
       "<polyline clip-path=\"url(#clip052)\" style=\"stroke:#000000; stroke-linecap:round; stroke-linejoin:round; stroke-width:2; stroke-opacity:0.1; fill:none\" points=\"\n",
       "  451.975,1486.45 451.975,123.472 \n",
       "  \"/>\n",
       "<polyline clip-path=\"url(#clip052)\" style=\"stroke:#000000; stroke-linecap:round; stroke-linejoin:round; stroke-width:2; stroke-opacity:0.1; fill:none\" points=\"\n",
       "  860.745,1486.45 860.745,123.472 \n",
       "  \"/>\n",
       "<polyline clip-path=\"url(#clip052)\" style=\"stroke:#000000; stroke-linecap:round; stroke-linejoin:round; stroke-width:2; stroke-opacity:0.1; fill:none\" points=\"\n",
       "  1269.51,1486.45 1269.51,123.472 \n",
       "  \"/>\n",
       "<polyline clip-path=\"url(#clip052)\" style=\"stroke:#000000; stroke-linecap:round; stroke-linejoin:round; stroke-width:2; stroke-opacity:0.1; fill:none\" points=\"\n",
       "  1678.29,1486.45 1678.29,123.472 \n",
       "  \"/>\n",
       "<polyline clip-path=\"url(#clip052)\" style=\"stroke:#000000; stroke-linecap:round; stroke-linejoin:round; stroke-width:2; stroke-opacity:0.1; fill:none\" points=\"\n",
       "  2087.06,1486.45 2087.06,123.472 \n",
       "  \"/>\n",
       "<polyline clip-path=\"url(#clip050)\" style=\"stroke:#000000; stroke-linecap:round; stroke-linejoin:round; stroke-width:4; stroke-opacity:1; fill:none\" points=\"\n",
       "  186.274,1486.45 2352.76,1486.45 \n",
       "  \"/>\n",
       "<polyline clip-path=\"url(#clip050)\" style=\"stroke:#000000; stroke-linecap:round; stroke-linejoin:round; stroke-width:4; stroke-opacity:1; fill:none\" points=\"\n",
       "  451.975,1486.45 451.975,1467.55 \n",
       "  \"/>\n",
       "<polyline clip-path=\"url(#clip050)\" style=\"stroke:#000000; stroke-linecap:round; stroke-linejoin:round; stroke-width:4; stroke-opacity:1; fill:none\" points=\"\n",
       "  860.745,1486.45 860.745,1467.55 \n",
       "  \"/>\n",
       "<polyline clip-path=\"url(#clip050)\" style=\"stroke:#000000; stroke-linecap:round; stroke-linejoin:round; stroke-width:4; stroke-opacity:1; fill:none\" points=\"\n",
       "  1269.51,1486.45 1269.51,1467.55 \n",
       "  \"/>\n",
       "<polyline clip-path=\"url(#clip050)\" style=\"stroke:#000000; stroke-linecap:round; stroke-linejoin:round; stroke-width:4; stroke-opacity:1; fill:none\" points=\"\n",
       "  1678.29,1486.45 1678.29,1467.55 \n",
       "  \"/>\n",
       "<polyline clip-path=\"url(#clip050)\" style=\"stroke:#000000; stroke-linecap:round; stroke-linejoin:round; stroke-width:4; stroke-opacity:1; fill:none\" points=\"\n",
       "  2087.06,1486.45 2087.06,1467.55 \n",
       "  \"/>\n",
       "<path clip-path=\"url(#clip050)\" d=\"M420.875 1532.02 L450.551 1532.02 L450.551 1535.95 L420.875 1535.95 L420.875 1532.02 Z\" fill=\"#000000\" fill-rule=\"evenodd\" fill-opacity=\"1\" /><path clip-path=\"url(#clip050)\" d=\"M473.491 1518.36 L461.685 1536.81 L473.491 1536.81 L473.491 1518.36 M472.264 1514.29 L478.143 1514.29 L478.143 1536.81 L483.074 1536.81 L483.074 1540.7 L478.143 1540.7 L478.143 1548.85 L473.491 1548.85 L473.491 1540.7 L457.889 1540.7 L457.889 1536.19 L472.264 1514.29 Z\" fill=\"#000000\" fill-rule=\"evenodd\" fill-opacity=\"1\" /><path clip-path=\"url(#clip050)\" d=\"M830.687 1532.02 L860.363 1532.02 L860.363 1535.95 L830.687 1535.95 L830.687 1532.02 Z\" fill=\"#000000\" fill-rule=\"evenodd\" fill-opacity=\"1\" /><path clip-path=\"url(#clip050)\" d=\"M874.483 1544.91 L890.802 1544.91 L890.802 1548.85 L868.858 1548.85 L868.858 1544.91 Q871.52 1542.16 876.103 1537.53 Q880.71 1532.88 881.891 1531.53 Q884.136 1529.01 885.015 1527.27 Q885.918 1525.51 885.918 1523.82 Q885.918 1521.07 883.974 1519.33 Q882.053 1517.6 878.951 1517.6 Q876.752 1517.6 874.298 1518.36 Q871.867 1519.13 869.09 1520.68 L869.09 1515.95 Q871.914 1514.82 874.367 1514.24 Q876.821 1513.66 878.858 1513.66 Q884.228 1513.66 887.423 1516.35 Q890.617 1519.03 890.617 1523.52 Q890.617 1525.65 889.807 1527.57 Q889.02 1529.47 886.914 1532.07 Q886.335 1532.74 883.233 1535.95 Q880.131 1539.15 874.483 1544.91 Z\" fill=\"#000000\" fill-rule=\"evenodd\" fill-opacity=\"1\" /><path clip-path=\"url(#clip050)\" d=\"M1269.51 1517.37 Q1265.9 1517.37 1264.08 1520.93 Q1262.27 1524.47 1262.27 1531.6 Q1262.27 1538.71 1264.08 1542.27 Q1265.9 1545.82 1269.51 1545.82 Q1273.15 1545.82 1274.95 1542.27 Q1276.78 1538.71 1276.78 1531.6 Q1276.78 1524.47 1274.95 1520.93 Q1273.15 1517.37 1269.51 1517.37 M1269.51 1513.66 Q1275.33 1513.66 1278.38 1518.27 Q1281.46 1522.85 1281.46 1531.6 Q1281.46 1540.33 1278.38 1544.94 Q1275.33 1549.52 1269.51 1549.52 Q1263.7 1549.52 1260.63 1544.94 Q1257.57 1540.33 1257.57 1531.6 Q1257.57 1522.85 1260.63 1518.27 Q1263.7 1513.66 1269.51 1513.66 Z\" fill=\"#000000\" fill-rule=\"evenodd\" fill-opacity=\"1\" /><path clip-path=\"url(#clip050)\" d=\"M1672.94 1544.91 L1689.26 1544.91 L1689.26 1548.85 L1667.31 1548.85 L1667.31 1544.91 Q1669.97 1542.16 1674.56 1537.53 Q1679.16 1532.88 1680.35 1531.53 Q1682.59 1529.01 1683.47 1527.27 Q1684.37 1525.51 1684.37 1523.82 Q1684.37 1521.07 1682.43 1519.33 Q1680.51 1517.6 1677.41 1517.6 Q1675.21 1517.6 1672.75 1518.36 Q1670.32 1519.13 1667.54 1520.68 L1667.54 1515.95 Q1670.37 1514.82 1672.82 1514.24 Q1675.28 1513.66 1677.31 1513.66 Q1682.68 1513.66 1685.88 1516.35 Q1689.07 1519.03 1689.07 1523.52 Q1689.07 1525.65 1688.26 1527.57 Q1687.47 1529.47 1685.37 1532.07 Q1684.79 1532.74 1681.69 1535.95 Q1678.59 1539.15 1672.94 1544.91 Z\" fill=\"#000000\" fill-rule=\"evenodd\" fill-opacity=\"1\" /><path clip-path=\"url(#clip050)\" d=\"M2090.06 1518.36 L2078.26 1536.81 L2090.06 1536.81 L2090.06 1518.36 M2088.84 1514.29 L2094.72 1514.29 L2094.72 1536.81 L2099.65 1536.81 L2099.65 1540.7 L2094.72 1540.7 L2094.72 1548.85 L2090.06 1548.85 L2090.06 1540.7 L2074.46 1540.7 L2074.46 1536.19 L2088.84 1514.29 Z\" fill=\"#000000\" fill-rule=\"evenodd\" fill-opacity=\"1\" /><polyline clip-path=\"url(#clip052)\" style=\"stroke:#000000; stroke-linecap:round; stroke-linejoin:round; stroke-width:2; stroke-opacity:0.1; fill:none\" points=\"\n",
       "  186.274,1456.6 2352.76,1456.6 \n",
       "  \"/>\n",
       "<polyline clip-path=\"url(#clip052)\" style=\"stroke:#000000; stroke-linecap:round; stroke-linejoin:round; stroke-width:2; stroke-opacity:0.1; fill:none\" points=\"\n",
       "  186.274,1130.78 2352.76,1130.78 \n",
       "  \"/>\n",
       "<polyline clip-path=\"url(#clip052)\" style=\"stroke:#000000; stroke-linecap:round; stroke-linejoin:round; stroke-width:2; stroke-opacity:0.1; fill:none\" points=\"\n",
       "  186.274,804.96 2352.76,804.96 \n",
       "  \"/>\n",
       "<polyline clip-path=\"url(#clip052)\" style=\"stroke:#000000; stroke-linecap:round; stroke-linejoin:round; stroke-width:2; stroke-opacity:0.1; fill:none\" points=\"\n",
       "  186.274,479.142 2352.76,479.142 \n",
       "  \"/>\n",
       "<polyline clip-path=\"url(#clip052)\" style=\"stroke:#000000; stroke-linecap:round; stroke-linejoin:round; stroke-width:2; stroke-opacity:0.1; fill:none\" points=\"\n",
       "  186.274,153.324 2352.76,153.324 \n",
       "  \"/>\n",
       "<polyline clip-path=\"url(#clip050)\" style=\"stroke:#000000; stroke-linecap:round; stroke-linejoin:round; stroke-width:4; stroke-opacity:1; fill:none\" points=\"\n",
       "  186.274,1486.45 186.274,123.472 \n",
       "  \"/>\n",
       "<polyline clip-path=\"url(#clip050)\" style=\"stroke:#000000; stroke-linecap:round; stroke-linejoin:round; stroke-width:4; stroke-opacity:1; fill:none\" points=\"\n",
       "  186.274,1456.6 205.172,1456.6 \n",
       "  \"/>\n",
       "<polyline clip-path=\"url(#clip050)\" style=\"stroke:#000000; stroke-linecap:round; stroke-linejoin:round; stroke-width:4; stroke-opacity:1; fill:none\" points=\"\n",
       "  186.274,1130.78 205.172,1130.78 \n",
       "  \"/>\n",
       "<polyline clip-path=\"url(#clip050)\" style=\"stroke:#000000; stroke-linecap:round; stroke-linejoin:round; stroke-width:4; stroke-opacity:1; fill:none\" points=\"\n",
       "  186.274,804.96 205.172,804.96 \n",
       "  \"/>\n",
       "<polyline clip-path=\"url(#clip050)\" style=\"stroke:#000000; stroke-linecap:round; stroke-linejoin:round; stroke-width:4; stroke-opacity:1; fill:none\" points=\"\n",
       "  186.274,479.142 205.172,479.142 \n",
       "  \"/>\n",
       "<polyline clip-path=\"url(#clip050)\" style=\"stroke:#000000; stroke-linecap:round; stroke-linejoin:round; stroke-width:4; stroke-opacity:1; fill:none\" points=\"\n",
       "  186.274,153.324 205.172,153.324 \n",
       "  \"/>\n",
       "<path clip-path=\"url(#clip050)\" d=\"M62.9365 1442.39 Q59.3254 1442.39 57.4967 1445.96 Q55.6912 1449.5 55.6912 1456.63 Q55.6912 1463.74 57.4967 1467.3 Q59.3254 1470.84 62.9365 1470.84 Q66.5707 1470.84 68.3763 1467.3 Q70.205 1463.74 70.205 1456.63 Q70.205 1449.5 68.3763 1445.96 Q66.5707 1442.39 62.9365 1442.39 M62.9365 1438.69 Q68.7467 1438.69 71.8022 1443.3 Q74.8809 1447.88 74.8809 1456.63 Q74.8809 1465.36 71.8022 1469.96 Q68.7467 1474.55 62.9365 1474.55 Q57.1264 1474.55 54.0477 1469.96 Q50.9921 1465.36 50.9921 1456.63 Q50.9921 1447.88 54.0477 1443.3 Q57.1264 1438.69 62.9365 1438.69 Z\" fill=\"#000000\" fill-rule=\"evenodd\" fill-opacity=\"1\" /><path clip-path=\"url(#clip050)\" d=\"M83.0984 1468 L87.9827 1468 L87.9827 1473.88 L83.0984 1473.88 L83.0984 1468 Z\" fill=\"#000000\" fill-rule=\"evenodd\" fill-opacity=\"1\" /><path clip-path=\"url(#clip050)\" d=\"M108.168 1442.39 Q104.557 1442.39 102.728 1445.96 Q100.922 1449.5 100.922 1456.63 Q100.922 1463.74 102.728 1467.3 Q104.557 1470.84 108.168 1470.84 Q111.802 1470.84 113.608 1467.3 Q115.436 1463.74 115.436 1456.63 Q115.436 1449.5 113.608 1445.96 Q111.802 1442.39 108.168 1442.39 M108.168 1438.69 Q113.978 1438.69 117.033 1443.3 Q120.112 1447.88 120.112 1456.63 Q120.112 1465.36 117.033 1469.96 Q113.978 1474.55 108.168 1474.55 Q102.358 1474.55 99.2789 1469.96 Q96.2234 1465.36 96.2234 1456.63 Q96.2234 1447.88 99.2789 1443.3 Q102.358 1438.69 108.168 1438.69 Z\" fill=\"#000000\" fill-rule=\"evenodd\" fill-opacity=\"1\" /><path clip-path=\"url(#clip050)\" d=\"M138.33 1442.39 Q134.719 1442.39 132.89 1445.96 Q131.084 1449.5 131.084 1456.63 Q131.084 1463.74 132.89 1467.3 Q134.719 1470.84 138.33 1470.84 Q141.964 1470.84 143.769 1467.3 Q145.598 1463.74 145.598 1456.63 Q145.598 1449.5 143.769 1445.96 Q141.964 1442.39 138.33 1442.39 M138.33 1438.69 Q144.14 1438.69 147.195 1443.3 Q150.274 1447.88 150.274 1456.63 Q150.274 1465.36 147.195 1469.96 Q144.14 1474.55 138.33 1474.55 Q132.519 1474.55 129.441 1469.96 Q126.385 1465.36 126.385 1456.63 Q126.385 1447.88 129.441 1443.3 Q132.519 1438.69 138.33 1438.69 Z\" fill=\"#000000\" fill-rule=\"evenodd\" fill-opacity=\"1\" /><path clip-path=\"url(#clip050)\" d=\"M63.9319 1116.58 Q60.3208 1116.58 58.4921 1120.14 Q56.6865 1123.68 56.6865 1130.81 Q56.6865 1137.92 58.4921 1141.48 Q60.3208 1145.03 63.9319 1145.03 Q67.5661 1145.03 69.3717 1141.48 Q71.2004 1137.92 71.2004 1130.81 Q71.2004 1123.68 69.3717 1120.14 Q67.5661 1116.58 63.9319 1116.58 M63.9319 1112.87 Q69.742 1112.87 72.7976 1117.48 Q75.8763 1122.06 75.8763 1130.81 Q75.8763 1139.54 72.7976 1144.15 Q69.742 1148.73 63.9319 1148.73 Q58.1217 1148.73 55.043 1144.15 Q51.9875 1139.54 51.9875 1130.81 Q51.9875 1122.06 55.043 1117.48 Q58.1217 1112.87 63.9319 1112.87 Z\" fill=\"#000000\" fill-rule=\"evenodd\" fill-opacity=\"1\" /><path clip-path=\"url(#clip050)\" d=\"M84.0938 1142.18 L88.978 1142.18 L88.978 1148.06 L84.0938 1148.06 L84.0938 1142.18 Z\" fill=\"#000000\" fill-rule=\"evenodd\" fill-opacity=\"1\" /><path clip-path=\"url(#clip050)\" d=\"M103.191 1144.12 L119.51 1144.12 L119.51 1148.06 L97.566 1148.06 L97.566 1144.12 Q100.228 1141.37 104.811 1136.74 Q109.418 1132.09 110.598 1130.74 Q112.844 1128.22 113.723 1126.48 Q114.626 1124.72 114.626 1123.03 Q114.626 1120.28 112.682 1118.54 Q110.76 1116.81 107.658 1116.81 Q105.459 1116.81 103.006 1117.57 Q100.575 1118.34 97.7974 1119.89 L97.7974 1115.16 Q100.621 1114.03 103.075 1113.45 Q105.529 1112.87 107.566 1112.87 Q112.936 1112.87 116.131 1115.56 Q119.325 1118.24 119.325 1122.73 Q119.325 1124.86 118.515 1126.78 Q117.728 1128.68 115.621 1131.28 Q115.043 1131.95 111.941 1135.16 Q108.839 1138.36 103.191 1144.12 Z\" fill=\"#000000\" fill-rule=\"evenodd\" fill-opacity=\"1\" /><path clip-path=\"url(#clip050)\" d=\"M129.371 1113.5 L147.728 1113.5 L147.728 1117.43 L133.654 1117.43 L133.654 1125.91 Q134.672 1125.56 135.691 1125.4 Q136.709 1125.21 137.728 1125.21 Q143.515 1125.21 146.894 1128.38 Q150.274 1131.55 150.274 1136.97 Q150.274 1142.55 146.802 1145.65 Q143.33 1148.73 137.01 1148.73 Q134.834 1148.73 132.566 1148.36 Q130.32 1147.99 127.913 1147.25 L127.913 1142.55 Q129.996 1143.68 132.219 1144.24 Q134.441 1144.79 136.918 1144.79 Q140.922 1144.79 143.26 1142.69 Q145.598 1140.58 145.598 1136.97 Q145.598 1133.36 143.26 1131.25 Q140.922 1129.15 136.918 1129.15 Q135.043 1129.15 133.168 1129.56 Q131.316 1129.98 129.371 1130.86 L129.371 1113.5 Z\" fill=\"#000000\" fill-rule=\"evenodd\" fill-opacity=\"1\" /><path clip-path=\"url(#clip050)\" d=\"M62.9365 790.759 Q59.3254 790.759 57.4967 794.323 Q55.6912 797.865 55.6912 804.995 Q55.6912 812.101 57.4967 815.666 Q59.3254 819.208 62.9365 819.208 Q66.5707 819.208 68.3763 815.666 Q70.205 812.101 70.205 804.995 Q70.205 797.865 68.3763 794.323 Q66.5707 790.759 62.9365 790.759 M62.9365 787.055 Q68.7467 787.055 71.8022 791.661 Q74.8809 796.245 74.8809 804.995 Q74.8809 813.722 71.8022 818.328 Q68.7467 822.911 62.9365 822.911 Q57.1264 822.911 54.0477 818.328 Q50.9921 813.722 50.9921 804.995 Q50.9921 796.245 54.0477 791.661 Q57.1264 787.055 62.9365 787.055 Z\" fill=\"#000000\" fill-rule=\"evenodd\" fill-opacity=\"1\" /><path clip-path=\"url(#clip050)\" d=\"M83.0984 816.36 L87.9827 816.36 L87.9827 822.24 L83.0984 822.24 L83.0984 816.36 Z\" fill=\"#000000\" fill-rule=\"evenodd\" fill-opacity=\"1\" /><path clip-path=\"url(#clip050)\" d=\"M98.2141 787.68 L116.57 787.68 L116.57 791.615 L102.496 791.615 L102.496 800.087 Q103.515 799.74 104.534 799.578 Q105.552 799.393 106.571 799.393 Q112.358 799.393 115.737 802.564 Q119.117 805.735 119.117 811.152 Q119.117 816.731 115.645 819.833 Q112.172 822.911 105.853 822.911 Q103.677 822.911 101.409 822.541 Q99.1632 822.171 96.7558 821.43 L96.7558 816.731 Q98.8391 817.865 101.061 818.421 Q103.284 818.976 105.76 818.976 Q109.765 818.976 112.103 816.87 Q114.441 814.763 114.441 811.152 Q114.441 807.541 112.103 805.435 Q109.765 803.328 105.76 803.328 Q103.885 803.328 102.01 803.745 Q100.159 804.161 98.2141 805.041 L98.2141 787.68 Z\" fill=\"#000000\" fill-rule=\"evenodd\" fill-opacity=\"1\" /><path clip-path=\"url(#clip050)\" d=\"M138.33 790.759 Q134.719 790.759 132.89 794.323 Q131.084 797.865 131.084 804.995 Q131.084 812.101 132.89 815.666 Q134.719 819.208 138.33 819.208 Q141.964 819.208 143.769 815.666 Q145.598 812.101 145.598 804.995 Q145.598 797.865 143.769 794.323 Q141.964 790.759 138.33 790.759 M138.33 787.055 Q144.14 787.055 147.195 791.661 Q150.274 796.245 150.274 804.995 Q150.274 813.722 147.195 818.328 Q144.14 822.911 138.33 822.911 Q132.519 822.911 129.441 818.328 Q126.385 813.722 126.385 804.995 Q126.385 796.245 129.441 791.661 Q132.519 787.055 138.33 787.055 Z\" fill=\"#000000\" fill-rule=\"evenodd\" fill-opacity=\"1\" /><path clip-path=\"url(#clip050)\" d=\"M63.9319 464.941 Q60.3208 464.941 58.4921 468.506 Q56.6865 472.047 56.6865 479.177 Q56.6865 486.283 58.4921 489.848 Q60.3208 493.39 63.9319 493.39 Q67.5661 493.39 69.3717 489.848 Q71.2004 486.283 71.2004 479.177 Q71.2004 472.047 69.3717 468.506 Q67.5661 464.941 63.9319 464.941 M63.9319 461.237 Q69.742 461.237 72.7976 465.844 Q75.8763 470.427 75.8763 479.177 Q75.8763 487.904 72.7976 492.51 Q69.742 497.093 63.9319 497.093 Q58.1217 497.093 55.043 492.51 Q51.9875 487.904 51.9875 479.177 Q51.9875 470.427 55.043 465.844 Q58.1217 461.237 63.9319 461.237 Z\" fill=\"#000000\" fill-rule=\"evenodd\" fill-opacity=\"1\" /><path clip-path=\"url(#clip050)\" d=\"M84.0938 490.543 L88.978 490.543 L88.978 496.422 L84.0938 496.422 L84.0938 490.543 Z\" fill=\"#000000\" fill-rule=\"evenodd\" fill-opacity=\"1\" /><path clip-path=\"url(#clip050)\" d=\"M97.9826 461.862 L120.205 461.862 L120.205 463.853 L107.658 496.422 L102.774 496.422 L114.58 465.797 L97.9826 465.797 L97.9826 461.862 Z\" fill=\"#000000\" fill-rule=\"evenodd\" fill-opacity=\"1\" /><path clip-path=\"url(#clip050)\" d=\"M129.371 461.862 L147.728 461.862 L147.728 465.797 L133.654 465.797 L133.654 474.269 Q134.672 473.922 135.691 473.76 Q136.709 473.575 137.728 473.575 Q143.515 473.575 146.894 476.746 Q150.274 479.918 150.274 485.334 Q150.274 490.913 146.802 494.015 Q143.33 497.093 137.01 497.093 Q134.834 497.093 132.566 496.723 Q130.32 496.353 127.913 495.612 L127.913 490.913 Q129.996 492.047 132.219 492.603 Q134.441 493.158 136.918 493.158 Q140.922 493.158 143.26 491.052 Q145.598 488.945 145.598 485.334 Q145.598 481.723 143.26 479.617 Q140.922 477.51 136.918 477.51 Q135.043 477.51 133.168 477.927 Q131.316 478.344 129.371 479.223 L129.371 461.862 Z\" fill=\"#000000\" fill-rule=\"evenodd\" fill-opacity=\"1\" /><path clip-path=\"url(#clip050)\" d=\"M53.7467 166.669 L61.3856 166.669 L61.3856 140.304 L53.0754 141.97 L53.0754 137.711 L61.3393 136.044 L66.0152 136.044 L66.0152 166.669 L73.654 166.669 L73.654 170.604 L53.7467 170.604 L53.7467 166.669 Z\" fill=\"#000000\" fill-rule=\"evenodd\" fill-opacity=\"1\" /><path clip-path=\"url(#clip050)\" d=\"M83.0984 164.725 L87.9827 164.725 L87.9827 170.604 L83.0984 170.604 L83.0984 164.725 Z\" fill=\"#000000\" fill-rule=\"evenodd\" fill-opacity=\"1\" /><path clip-path=\"url(#clip050)\" d=\"M108.168 139.123 Q104.557 139.123 102.728 142.688 Q100.922 146.229 100.922 153.359 Q100.922 160.465 102.728 164.03 Q104.557 167.572 108.168 167.572 Q111.802 167.572 113.608 164.03 Q115.436 160.465 115.436 153.359 Q115.436 146.229 113.608 142.688 Q111.802 139.123 108.168 139.123 M108.168 135.419 Q113.978 135.419 117.033 140.026 Q120.112 144.609 120.112 153.359 Q120.112 162.086 117.033 166.692 Q113.978 171.276 108.168 171.276 Q102.358 171.276 99.2789 166.692 Q96.2234 162.086 96.2234 153.359 Q96.2234 144.609 99.2789 140.026 Q102.358 135.419 108.168 135.419 Z\" fill=\"#000000\" fill-rule=\"evenodd\" fill-opacity=\"1\" /><path clip-path=\"url(#clip050)\" d=\"M138.33 139.123 Q134.719 139.123 132.89 142.688 Q131.084 146.229 131.084 153.359 Q131.084 160.465 132.89 164.03 Q134.719 167.572 138.33 167.572 Q141.964 167.572 143.769 164.03 Q145.598 160.465 145.598 153.359 Q145.598 146.229 143.769 142.688 Q141.964 139.123 138.33 139.123 M138.33 135.419 Q144.14 135.419 147.195 140.026 Q150.274 144.609 150.274 153.359 Q150.274 162.086 147.195 166.692 Q144.14 171.276 138.33 171.276 Q132.519 171.276 129.441 166.692 Q126.385 162.086 126.385 153.359 Q126.385 144.609 129.441 140.026 Q132.519 135.419 138.33 135.419 Z\" fill=\"#000000\" fill-rule=\"evenodd\" fill-opacity=\"1\" /><path clip-path=\"url(#clip050)\" d=\"M1043.25 28.5427 L1043.25 35.5912 Q1040.09 33.9709 1036.69 33.1607 Q1033.29 32.3505 1029.64 32.3505 Q1024.09 32.3505 1021.3 34.0519 Q1018.54 35.7533 1018.54 39.156 Q1018.54 41.7486 1020.53 43.2475 Q1022.51 44.7058 1028.51 46.0426 L1031.06 46.6097 Q1039 48.3111 1042.32 51.4303 Q1045.68 54.509 1045.68 60.0587 Q1045.68 66.3781 1040.66 70.0644 Q1035.68 73.7508 1026.93 73.7508 Q1023.28 73.7508 1019.31 73.0216 Q1015.38 72.3329 1011.01 70.9151 L1011.01 63.2184 Q1015.14 65.3654 1019.15 66.4591 Q1023.16 67.5124 1027.09 67.5124 Q1032.35 67.5124 1035.19 65.73 Q1038.03 63.9071 1038.03 60.6258 Q1038.03 57.5877 1035.96 55.9673 Q1033.93 54.3469 1027.01 52.8481 L1024.41 52.2405 Q1017.49 50.7821 1014.41 47.7845 Q1011.33 44.7463 1011.33 39.4801 Q1011.33 33.0797 1015.87 29.5959 Q1020.4 26.1121 1028.75 26.1121 Q1032.88 26.1121 1036.53 26.7198 Q1040.17 27.3274 1043.25 28.5427 Z\" fill=\"#000000\" fill-rule=\"evenodd\" fill-opacity=\"1\" /><path clip-path=\"url(#clip050)\" d=\"M1057.55 27.2059 L1065.01 27.2059 L1065.01 72.576 L1057.55 72.576 L1057.55 27.2059 M1057.55 9.54393 L1065.01 9.54393 L1065.01 18.9825 L1057.55 18.9825 L1057.55 9.54393 Z\" fill=\"#000000\" fill-rule=\"evenodd\" fill-opacity=\"1\" /><path clip-path=\"url(#clip050)\" d=\"M1110.46 49.3643 Q1110.46 41.2625 1107.09 36.8065 Q1103.77 32.3505 1097.74 32.3505 Q1091.74 32.3505 1088.38 36.8065 Q1085.06 41.2625 1085.06 49.3643 Q1085.06 57.4256 1088.38 61.8816 Q1091.74 66.3376 1097.74 66.3376 Q1103.77 66.3376 1107.09 61.8816 Q1110.46 57.4256 1110.46 49.3643 M1117.91 66.9452 Q1117.91 78.5308 1112.77 84.1616 Q1107.62 89.8329 1097.01 89.8329 Q1093.08 89.8329 1089.59 89.2252 Q1086.11 88.6581 1082.83 87.4428 L1082.83 80.1917 Q1086.11 81.9741 1089.31 82.8248 Q1092.51 83.6755 1095.83 83.6755 Q1103.16 83.6755 1106.81 79.8271 Q1110.46 76.0193 1110.46 68.282 L1110.46 64.5957 Q1108.15 68.6061 1104.54 70.5911 Q1100.94 72.576 1095.91 72.576 Q1087.57 72.576 1082.46 66.2161 Q1077.36 59.8562 1077.36 49.3643 Q1077.36 38.832 1082.46 32.472 Q1087.57 26.1121 1095.91 26.1121 Q1100.94 26.1121 1104.54 28.0971 Q1108.15 30.082 1110.46 34.0924 L1110.46 27.2059 L1117.91 27.2059 L1117.91 66.9452 Z\" fill=\"#000000\" fill-rule=\"evenodd\" fill-opacity=\"1\" /><path clip-path=\"url(#clip050)\" d=\"M1168.59 35.9153 Q1171.38 30.8922 1175.27 28.5022 Q1179.16 26.1121 1184.43 26.1121 Q1191.51 26.1121 1195.36 31.0947 Q1199.21 36.0368 1199.21 45.1919 L1199.21 72.576 L1191.72 72.576 L1191.72 45.4349 Q1191.72 38.913 1189.41 35.7533 Q1187.1 32.5936 1182.36 32.5936 Q1176.57 32.5936 1173.2 36.4419 Q1169.84 40.2903 1169.84 46.9338 L1169.84 72.576 L1162.35 72.576 L1162.35 45.4349 Q1162.35 38.8725 1160.04 35.7533 Q1157.73 32.5936 1152.91 32.5936 Q1147.2 32.5936 1143.84 36.4824 Q1140.47 40.3308 1140.47 46.9338 L1140.47 72.576 L1132.98 72.576 L1132.98 27.2059 L1140.47 27.2059 L1140.47 34.2544 Q1143.03 30.082 1146.59 28.0971 Q1150.16 26.1121 1155.06 26.1121 Q1160 26.1121 1163.44 28.6237 Q1166.93 31.1352 1168.59 35.9153 Z\" fill=\"#000000\" fill-rule=\"evenodd\" fill-opacity=\"1\" /><path clip-path=\"url(#clip050)\" d=\"M1231.66 32.4315 Q1225.66 32.4315 1222.18 37.1306 Q1218.7 41.7891 1218.7 49.9314 Q1218.7 58.0738 1222.14 62.7728 Q1225.62 67.4314 1231.66 67.4314 Q1237.61 67.4314 1241.1 62.7323 Q1244.58 58.0333 1244.58 49.9314 Q1244.58 41.8701 1241.1 37.1711 Q1237.61 32.4315 1231.66 32.4315 M1231.66 26.1121 Q1241.38 26.1121 1246.93 32.4315 Q1252.48 38.7509 1252.48 49.9314 Q1252.48 61.0714 1246.93 67.4314 Q1241.38 73.7508 1231.66 73.7508 Q1221.9 73.7508 1216.35 67.4314 Q1210.84 61.0714 1210.84 49.9314 Q1210.84 38.7509 1216.35 32.4315 Q1221.9 26.1121 1231.66 26.1121 Z\" fill=\"#000000\" fill-rule=\"evenodd\" fill-opacity=\"1\" /><path clip-path=\"url(#clip050)\" d=\"M1264.84 27.2059 L1272.29 27.2059 L1272.29 72.576 L1264.84 72.576 L1264.84 27.2059 M1264.84 9.54393 L1272.29 9.54393 L1272.29 18.9825 L1264.84 18.9825 L1264.84 9.54393 Z\" fill=\"#000000\" fill-rule=\"evenodd\" fill-opacity=\"1\" /><path clip-path=\"url(#clip050)\" d=\"M1317.74 34.0924 L1317.74 9.54393 L1325.19 9.54393 L1325.19 72.576 L1317.74 72.576 L1317.74 65.7705 Q1315.39 69.8214 1311.79 71.8063 Q1308.22 73.7508 1303.2 73.7508 Q1294.97 73.7508 1289.79 67.1883 Q1284.65 60.6258 1284.65 49.9314 Q1284.65 39.2371 1289.79 32.6746 Q1294.97 26.1121 1303.2 26.1121 Q1308.22 26.1121 1311.79 28.0971 Q1315.39 30.0415 1317.74 34.0924 M1292.34 49.9314 Q1292.34 58.1548 1295.7 62.8538 Q1299.11 67.5124 1305.02 67.5124 Q1310.94 67.5124 1314.34 62.8538 Q1317.74 58.1548 1317.74 49.9314 Q1317.74 41.7081 1314.34 37.0496 Q1310.94 32.3505 1305.02 32.3505 Q1299.11 32.3505 1295.7 37.0496 Q1292.34 41.7081 1292.34 49.9314 Z\" fill=\"#000000\" fill-rule=\"evenodd\" fill-opacity=\"1\" /><path clip-path=\"url(#clip050)\" d=\"M1375.02 86.3491 L1375.02 92.1419 L1331.92 92.1419 L1331.92 86.3491 L1375.02 86.3491 Z\" fill=\"#000000\" fill-rule=\"evenodd\" fill-opacity=\"1\" /><path clip-path=\"url(#clip050)\" d=\"M1405 9.54393 L1405 15.7418 L1397.87 15.7418 Q1393.86 15.7418 1392.28 17.3622 Q1390.74 18.9825 1390.74 23.1955 L1390.74 27.2059 L1403.01 27.2059 L1403.01 32.9987 L1390.74 32.9987 L1390.74 72.576 L1383.24 72.576 L1383.24 32.9987 L1376.11 32.9987 L1376.11 27.2059 L1383.24 27.2059 L1383.24 24.0462 Q1383.24 16.471 1386.77 13.0277 Q1390.29 9.54393 1397.95 9.54393 L1405 9.54393 Z\" fill=\"#000000\" fill-rule=\"evenodd\" fill-opacity=\"1\" /><path clip-path=\"url(#clip050)\" d=\"M1431.85 49.7694 Q1422.82 49.7694 1419.34 51.8354 Q1415.85 53.9013 1415.85 58.8839 Q1415.85 62.8538 1418.45 65.2034 Q1421.08 67.5124 1425.58 67.5124 Q1431.77 67.5124 1435.5 63.1374 Q1439.27 58.7219 1439.27 51.4303 L1439.27 49.7694 L1431.85 49.7694 M1446.72 46.6907 L1446.72 72.576 L1439.27 72.576 L1439.27 65.6895 Q1436.72 69.8214 1432.91 71.8063 Q1429.1 73.7508 1423.59 73.7508 Q1416.62 73.7508 1412.49 69.8619 Q1408.4 65.9325 1408.4 59.3701 Q1408.4 51.7138 1413.5 47.825 Q1418.65 43.9361 1428.82 43.9361 L1439.27 43.9361 L1439.27 43.2069 Q1439.27 38.0623 1435.87 35.2672 Q1432.5 32.4315 1426.39 32.4315 Q1422.5 32.4315 1418.81 33.3632 Q1415.12 34.295 1411.72 36.1584 L1411.72 29.2718 Q1415.81 27.692 1419.66 26.9223 Q1423.51 26.1121 1427.16 26.1121 Q1437 26.1121 1441.86 31.2163 Q1446.72 36.3204 1446.72 46.6907 Z\" fill=\"#000000\" fill-rule=\"evenodd\" fill-opacity=\"1\" /><path clip-path=\"url(#clip050)\" d=\"M1491 28.5427 L1491 35.5912 Q1487.84 33.9709 1484.44 33.1607 Q1481.03 32.3505 1477.39 32.3505 Q1471.84 32.3505 1469.04 34.0519 Q1466.29 35.7533 1466.29 39.156 Q1466.29 41.7486 1468.27 43.2475 Q1470.26 44.7058 1476.25 46.0426 L1478.8 46.6097 Q1486.74 48.3111 1490.07 51.4303 Q1493.43 54.509 1493.43 60.0587 Q1493.43 66.3781 1488.41 70.0644 Q1483.42 73.7508 1474.67 73.7508 Q1471.03 73.7508 1467.06 73.0216 Q1463.13 72.3329 1458.75 70.9151 L1458.75 63.2184 Q1462.88 65.3654 1466.9 66.4591 Q1470.91 67.5124 1474.84 67.5124 Q1480.1 67.5124 1482.94 65.73 Q1485.77 63.9071 1485.77 60.6258 Q1485.77 57.5877 1483.71 55.9673 Q1481.68 54.3469 1474.75 52.8481 L1472.16 52.2405 Q1465.23 50.7821 1462.16 47.7845 Q1459.08 44.7463 1459.08 39.4801 Q1459.08 33.0797 1463.61 29.5959 Q1468.15 26.1121 1476.5 26.1121 Q1480.63 26.1121 1484.27 26.7198 Q1487.92 27.3274 1491 28.5427 Z\" fill=\"#000000\" fill-rule=\"evenodd\" fill-opacity=\"1\" /><path clip-path=\"url(#clip050)\" d=\"M1512.67 14.324 L1512.67 27.2059 L1528.02 27.2059 L1528.02 32.9987 L1512.67 32.9987 L1512.67 57.6282 Q1512.67 63.1779 1514.17 64.7578 Q1515.71 66.3376 1520.37 66.3376 L1528.02 66.3376 L1528.02 72.576 L1520.37 72.576 Q1511.74 72.576 1508.46 69.3758 Q1505.18 66.1351 1505.18 57.6282 L1505.18 32.9987 L1499.71 32.9987 L1499.71 27.2059 L1505.18 27.2059 L1505.18 14.324 L1512.67 14.324 Z\" fill=\"#000000\" fill-rule=\"evenodd\" fill-opacity=\"1\" /><polyline clip-path=\"url(#clip052)\" style=\"stroke:#009af9; stroke-linecap:round; stroke-linejoin:round; stroke-width:4; stroke-opacity:1; fill:none\" points=\"\n",
       "  247.59,1447.87 268.028,1446.96 288.467,1445.96 308.905,1444.85 329.344,1443.63 349.782,1442.28 370.221,1440.79 390.659,1439.15 411.098,1437.34 431.536,1435.35 \n",
       "  451.975,1433.15 472.413,1430.74 492.852,1428.08 513.29,1425.15 533.729,1421.93 554.167,1418.39 574.606,1414.51 595.044,1410.24 615.483,1405.55 635.921,1400.42 \n",
       "  656.36,1394.79 676.798,1388.63 697.237,1381.89 717.675,1374.52 738.114,1366.49 758.552,1357.73 778.991,1348.2 799.429,1337.84 819.868,1326.59 840.306,1314.41 \n",
       "  860.745,1301.24 881.183,1287.03 901.622,1271.73 922.06,1255.29 942.499,1237.67 962.937,1218.85 983.376,1198.79 1003.81,1177.48 1024.25,1154.92 1044.69,1131.12 \n",
       "  1065.13,1106.09 1085.57,1079.88 1106.01,1052.55 1126.45,1024.15 1146.88,994.79 1167.32,964.558 1187.76,933.577 1208.2,901.979 1228.64,869.907 1249.08,837.515 \n",
       "  1269.51,804.96 1289.95,772.405 1310.39,740.013 1330.83,707.941 1351.27,676.343 1371.71,645.362 1392.15,615.13 1412.58,585.766 1433.02,557.372 1453.46,530.036 \n",
       "  1473.9,503.828 1494.34,478.803 1514.78,454.999 1535.22,432.439 1555.65,411.132 1576.09,391.074 1596.53,372.25 1616.97,354.634 1637.41,338.195 1657.85,322.891 \n",
       "  1678.29,308.678 1698.72,295.507 1719.16,283.326 1739.6,272.082 1760.04,261.721 1780.48,252.188 1800.92,243.43 1821.35,235.396 1841.79,228.033 1862.23,221.295 \n",
       "  1882.67,215.133 1903.11,209.505 1923.55,204.368 1943.99,199.683 1964.42,195.414 1984.86,191.526 2005.3,187.987 2025.74,184.768 2046.18,181.842 2066.62,179.182 \n",
       "  2087.06,176.765 2107.49,174.571 2127.93,172.579 2148.37,170.771 2168.81,169.131 2189.25,167.643 2209.69,166.294 2230.12,165.071 2250.56,163.962 2271,162.957 \n",
       "  2291.44,162.047 \n",
       "  \"/>\n",
       "<path clip-path=\"url(#clip050)\" d=\"\n",
       "M1987.39 272.585 L2280.54 272.585 L2280.54 168.905 L1987.39 168.905  Z\n",
       "  \" fill=\"#ffffff\" fill-rule=\"evenodd\" fill-opacity=\"1\"/>\n",
       "<polyline clip-path=\"url(#clip050)\" style=\"stroke:#000000; stroke-linecap:round; stroke-linejoin:round; stroke-width:4; stroke-opacity:1; fill:none\" points=\"\n",
       "  1987.39,272.585 2280.54,272.585 2280.54,168.905 1987.39,168.905 1987.39,272.585 \n",
       "  \"/>\n",
       "<polyline clip-path=\"url(#clip050)\" style=\"stroke:#009af9; stroke-linecap:round; stroke-linejoin:round; stroke-width:4; stroke-opacity:1; fill:none\" points=\"\n",
       "  2011.46,220.745 2155.89,220.745 \n",
       "  \"/>\n",
       "<path clip-path=\"url(#clip050)\" d=\"M2193.81 240.432 Q2192 245.062 2190.29 246.474 Q2188.58 247.886 2185.71 247.886 L2182.3 247.886 L2182.3 244.321 L2184.8 244.321 Q2186.56 244.321 2187.53 243.488 Q2188.51 242.654 2189.69 239.552 L2190.45 237.608 L2179.97 212.099 L2184.48 212.099 L2192.58 232.377 L2200.68 212.099 L2205.2 212.099 L2193.81 240.432 Z\" fill=\"#000000\" fill-rule=\"evenodd\" fill-opacity=\"1\" /><path clip-path=\"url(#clip050)\" d=\"M2212.49 234.089 L2220.13 234.089 L2220.13 207.724 L2211.82 209.391 L2211.82 205.131 L2220.08 203.465 L2224.76 203.465 L2224.76 234.089 L2232.4 234.089 L2232.4 238.025 L2212.49 238.025 L2212.49 234.089 Z\" fill=\"#000000\" fill-rule=\"evenodd\" fill-opacity=\"1\" /></svg>\n"
      ]
     },
     "execution_count": 82,
     "metadata": {},
     "output_type": "execute_result"
    }
   ],
   "source": [
    "# sigmoid_fast is a faster less accurate version of the sigmoid\n",
    "plot(-5:0.1:5,sigmoid_fast,title=\"sigmoid_fast\")"
   ]
  },
  {
   "cell_type": "markdown",
   "metadata": {},
   "source": [
    "### <span style=\"color:orange\">Let's compare the running time of the normal sigmoid and the faster version using the convenient Julia macro @time</span>"
   ]
  },
  {
   "cell_type": "code",
   "execution_count": 83,
   "metadata": {},
   "outputs": [
    {
     "name": "stdout",
     "output_type": "stream",
     "text": [
      "  0.008577 seconds (4 allocations: 7.629 MiB)\n"
     ]
    }
   ],
   "source": [
    "rr = rand(10^6);\n",
    "@time sigmoid.( rr );"
   ]
  },
  {
   "cell_type": "code",
   "execution_count": 84,
   "metadata": {},
   "outputs": [
    {
     "name": "stdout",
     "output_type": "stream",
     "text": [
      "  0.022468 seconds (834 allocations: 7.667 MiB, 65.77% compilation time)\n"
     ]
    }
   ],
   "source": [
    "@time sigmoid_fast.( rr );"
   ]
  },
  {
   "cell_type": "code",
   "execution_count": 85,
   "metadata": {},
   "outputs": [
    {
     "name": "stdout",
     "output_type": "stream",
     "text": [
      "  0.036864 seconds (126.74 k allocations: 14.232 MiB, 92.46% compilation time)\n"
     ]
    }
   ],
   "source": [
    "# relu(x) = max(0, x) simple and powerful, very fast too\n",
    "@time relu.( rr );"
   ]
  },
  {
   "cell_type": "code",
   "execution_count": 86,
   "metadata": {},
   "outputs": [
    {
     "data": {
      "image/svg+xml": [
       "<?xml version=\"1.0\" encoding=\"utf-8\"?>\n",
       "<svg xmlns=\"http://www.w3.org/2000/svg\" xmlns:xlink=\"http://www.w3.org/1999/xlink\" width=\"600\" height=\"400\" viewBox=\"0 0 2400 1600\">\n",
       "<defs>\n",
       "  <clipPath id=\"clip090\">\n",
       "    <rect x=\"0\" y=\"0\" width=\"2400\" height=\"1600\"/>\n",
       "  </clipPath>\n",
       "</defs>\n",
       "<path clip-path=\"url(#clip090)\" d=\"\n",
       "M0 1600 L2400 1600 L2400 0 L0 0  Z\n",
       "  \" fill=\"#ffffff\" fill-rule=\"evenodd\" fill-opacity=\"1\"/>\n",
       "<defs>\n",
       "  <clipPath id=\"clip091\">\n",
       "    <rect x=\"480\" y=\"0\" width=\"1681\" height=\"1600\"/>\n",
       "  </clipPath>\n",
       "</defs>\n",
       "<path clip-path=\"url(#clip090)\" d=\"\n",
       "M112.177 1486.45 L2352.76 1486.45 L2352.76 123.472 L112.177 123.472  Z\n",
       "  \" fill=\"#ffffff\" fill-rule=\"evenodd\" fill-opacity=\"1\"/>\n",
       "<defs>\n",
       "  <clipPath id=\"clip092\">\n",
       "    <rect x=\"112\" y=\"123\" width=\"2242\" height=\"1364\"/>\n",
       "  </clipPath>\n",
       "</defs>\n",
       "<polyline clip-path=\"url(#clip092)\" style=\"stroke:#000000; stroke-linecap:round; stroke-linejoin:round; stroke-width:2; stroke-opacity:0.1; fill:none\" points=\"\n",
       "  386.965,1486.45 386.965,123.472 \n",
       "  \"/>\n",
       "<polyline clip-path=\"url(#clip092)\" style=\"stroke:#000000; stroke-linecap:round; stroke-linejoin:round; stroke-width:2; stroke-opacity:0.1; fill:none\" points=\"\n",
       "  809.716,1486.45 809.716,123.472 \n",
       "  \"/>\n",
       "<polyline clip-path=\"url(#clip092)\" style=\"stroke:#000000; stroke-linecap:round; stroke-linejoin:round; stroke-width:2; stroke-opacity:0.1; fill:none\" points=\"\n",
       "  1232.47,1486.45 1232.47,123.472 \n",
       "  \"/>\n",
       "<polyline clip-path=\"url(#clip092)\" style=\"stroke:#000000; stroke-linecap:round; stroke-linejoin:round; stroke-width:2; stroke-opacity:0.1; fill:none\" points=\"\n",
       "  1655.22,1486.45 1655.22,123.472 \n",
       "  \"/>\n",
       "<polyline clip-path=\"url(#clip092)\" style=\"stroke:#000000; stroke-linecap:round; stroke-linejoin:round; stroke-width:2; stroke-opacity:0.1; fill:none\" points=\"\n",
       "  2077.97,1486.45 2077.97,123.472 \n",
       "  \"/>\n",
       "<polyline clip-path=\"url(#clip090)\" style=\"stroke:#000000; stroke-linecap:round; stroke-linejoin:round; stroke-width:4; stroke-opacity:1; fill:none\" points=\"\n",
       "  112.177,1486.45 2352.76,1486.45 \n",
       "  \"/>\n",
       "<polyline clip-path=\"url(#clip090)\" style=\"stroke:#000000; stroke-linecap:round; stroke-linejoin:round; stroke-width:4; stroke-opacity:1; fill:none\" points=\"\n",
       "  386.965,1486.45 386.965,1467.55 \n",
       "  \"/>\n",
       "<polyline clip-path=\"url(#clip090)\" style=\"stroke:#000000; stroke-linecap:round; stroke-linejoin:round; stroke-width:4; stroke-opacity:1; fill:none\" points=\"\n",
       "  809.716,1486.45 809.716,1467.55 \n",
       "  \"/>\n",
       "<polyline clip-path=\"url(#clip090)\" style=\"stroke:#000000; stroke-linecap:round; stroke-linejoin:round; stroke-width:4; stroke-opacity:1; fill:none\" points=\"\n",
       "  1232.47,1486.45 1232.47,1467.55 \n",
       "  \"/>\n",
       "<polyline clip-path=\"url(#clip090)\" style=\"stroke:#000000; stroke-linecap:round; stroke-linejoin:round; stroke-width:4; stroke-opacity:1; fill:none\" points=\"\n",
       "  1655.22,1486.45 1655.22,1467.55 \n",
       "  \"/>\n",
       "<polyline clip-path=\"url(#clip090)\" style=\"stroke:#000000; stroke-linecap:round; stroke-linejoin:round; stroke-width:4; stroke-opacity:1; fill:none\" points=\"\n",
       "  2077.97,1486.45 2077.97,1467.55 \n",
       "  \"/>\n",
       "<path clip-path=\"url(#clip090)\" d=\"M355.866 1532.02 L385.542 1532.02 L385.542 1535.95 L355.866 1535.95 L355.866 1532.02 Z\" fill=\"#000000\" fill-rule=\"evenodd\" fill-opacity=\"1\" /><path clip-path=\"url(#clip090)\" d=\"M408.481 1518.36 L396.676 1536.81 L408.481 1536.81 L408.481 1518.36 M407.254 1514.29 L413.134 1514.29 L413.134 1536.81 L418.065 1536.81 L418.065 1540.7 L413.134 1540.7 L413.134 1548.85 L408.481 1548.85 L408.481 1540.7 L392.879 1540.7 L392.879 1536.19 L407.254 1514.29 Z\" fill=\"#000000\" fill-rule=\"evenodd\" fill-opacity=\"1\" /><path clip-path=\"url(#clip090)\" d=\"M779.658 1532.02 L809.334 1532.02 L809.334 1535.95 L779.658 1535.95 L779.658 1532.02 Z\" fill=\"#000000\" fill-rule=\"evenodd\" fill-opacity=\"1\" /><path clip-path=\"url(#clip090)\" d=\"M823.454 1544.91 L839.774 1544.91 L839.774 1548.85 L817.829 1548.85 L817.829 1544.91 Q820.491 1542.16 825.075 1537.53 Q829.681 1532.88 830.862 1531.53 Q833.107 1529.01 833.987 1527.27 Q834.889 1525.51 834.889 1523.82 Q834.889 1521.07 832.945 1519.33 Q831.024 1517.6 827.922 1517.6 Q825.723 1517.6 823.269 1518.36 Q820.838 1519.13 818.061 1520.68 L818.061 1515.95 Q820.885 1514.82 823.338 1514.24 Q825.792 1513.66 827.829 1513.66 Q833.2 1513.66 836.394 1516.35 Q839.588 1519.03 839.588 1523.52 Q839.588 1525.65 838.778 1527.57 Q837.991 1529.47 835.885 1532.07 Q835.306 1532.74 832.204 1535.95 Q829.102 1539.15 823.454 1544.91 Z\" fill=\"#000000\" fill-rule=\"evenodd\" fill-opacity=\"1\" /><path clip-path=\"url(#clip090)\" d=\"M1232.47 1517.37 Q1228.86 1517.37 1227.03 1520.93 Q1225.22 1524.47 1225.22 1531.6 Q1225.22 1538.71 1227.03 1542.27 Q1228.86 1545.82 1232.47 1545.82 Q1236.1 1545.82 1237.91 1542.27 Q1239.74 1538.71 1239.74 1531.6 Q1239.74 1524.47 1237.91 1520.93 Q1236.1 1517.37 1232.47 1517.37 M1232.47 1513.66 Q1238.28 1513.66 1241.33 1518.27 Q1244.41 1522.85 1244.41 1531.6 Q1244.41 1540.33 1241.33 1544.94 Q1238.28 1549.52 1232.47 1549.52 Q1226.66 1549.52 1223.58 1544.94 Q1220.52 1540.33 1220.52 1531.6 Q1220.52 1522.85 1223.58 1518.27 Q1226.66 1513.66 1232.47 1513.66 Z\" fill=\"#000000\" fill-rule=\"evenodd\" fill-opacity=\"1\" /><path clip-path=\"url(#clip090)\" d=\"M1649.87 1544.91 L1666.19 1544.91 L1666.19 1548.85 L1644.25 1548.85 L1644.25 1544.91 Q1646.91 1542.16 1651.49 1537.53 Q1656.1 1532.88 1657.28 1531.53 Q1659.52 1529.01 1660.4 1527.27 Q1661.31 1525.51 1661.31 1523.82 Q1661.31 1521.07 1659.36 1519.33 Q1657.44 1517.6 1654.34 1517.6 Q1652.14 1517.6 1649.68 1518.36 Q1647.25 1519.13 1644.48 1520.68 L1644.48 1515.95 Q1647.3 1514.82 1649.75 1514.24 Q1652.21 1513.66 1654.25 1513.66 Q1659.62 1513.66 1662.81 1516.35 Q1666 1519.03 1666 1523.52 Q1666 1525.65 1665.19 1527.57 Q1664.41 1529.47 1662.3 1532.07 Q1661.72 1532.74 1658.62 1535.95 Q1655.52 1539.15 1649.87 1544.91 Z\" fill=\"#000000\" fill-rule=\"evenodd\" fill-opacity=\"1\" /><path clip-path=\"url(#clip090)\" d=\"M2080.98 1518.36 L2069.17 1536.81 L2080.98 1536.81 L2080.98 1518.36 M2079.75 1514.29 L2085.63 1514.29 L2085.63 1536.81 L2090.56 1536.81 L2090.56 1540.7 L2085.63 1540.7 L2085.63 1548.85 L2080.98 1548.85 L2080.98 1540.7 L2065.38 1540.7 L2065.38 1536.19 L2079.75 1514.29 Z\" fill=\"#000000\" fill-rule=\"evenodd\" fill-opacity=\"1\" /><polyline clip-path=\"url(#clip092)\" style=\"stroke:#000000; stroke-linecap:round; stroke-linejoin:round; stroke-width:2; stroke-opacity:0.1; fill:none\" points=\"\n",
       "  112.177,1447.87 2352.76,1447.87 \n",
       "  \"/>\n",
       "<polyline clip-path=\"url(#clip092)\" style=\"stroke:#000000; stroke-linecap:round; stroke-linejoin:round; stroke-width:2; stroke-opacity:0.1; fill:none\" points=\"\n",
       "  112.177,1190.71 2352.76,1190.71 \n",
       "  \"/>\n",
       "<polyline clip-path=\"url(#clip092)\" style=\"stroke:#000000; stroke-linecap:round; stroke-linejoin:round; stroke-width:2; stroke-opacity:0.1; fill:none\" points=\"\n",
       "  112.177,933.543 2352.76,933.543 \n",
       "  \"/>\n",
       "<polyline clip-path=\"url(#clip092)\" style=\"stroke:#000000; stroke-linecap:round; stroke-linejoin:round; stroke-width:2; stroke-opacity:0.1; fill:none\" points=\"\n",
       "  112.177,676.377 2352.76,676.377 \n",
       "  \"/>\n",
       "<polyline clip-path=\"url(#clip092)\" style=\"stroke:#000000; stroke-linecap:round; stroke-linejoin:round; stroke-width:2; stroke-opacity:0.1; fill:none\" points=\"\n",
       "  112.177,419.212 2352.76,419.212 \n",
       "  \"/>\n",
       "<polyline clip-path=\"url(#clip092)\" style=\"stroke:#000000; stroke-linecap:round; stroke-linejoin:round; stroke-width:2; stroke-opacity:0.1; fill:none\" points=\"\n",
       "  112.177,162.047 2352.76,162.047 \n",
       "  \"/>\n",
       "<polyline clip-path=\"url(#clip090)\" style=\"stroke:#000000; stroke-linecap:round; stroke-linejoin:round; stroke-width:4; stroke-opacity:1; fill:none\" points=\"\n",
       "  112.177,1486.45 112.177,123.472 \n",
       "  \"/>\n",
       "<polyline clip-path=\"url(#clip090)\" style=\"stroke:#000000; stroke-linecap:round; stroke-linejoin:round; stroke-width:4; stroke-opacity:1; fill:none\" points=\"\n",
       "  112.177,1447.87 131.075,1447.87 \n",
       "  \"/>\n",
       "<polyline clip-path=\"url(#clip090)\" style=\"stroke:#000000; stroke-linecap:round; stroke-linejoin:round; stroke-width:4; stroke-opacity:1; fill:none\" points=\"\n",
       "  112.177,1190.71 131.075,1190.71 \n",
       "  \"/>\n",
       "<polyline clip-path=\"url(#clip090)\" style=\"stroke:#000000; stroke-linecap:round; stroke-linejoin:round; stroke-width:4; stroke-opacity:1; fill:none\" points=\"\n",
       "  112.177,933.543 131.075,933.543 \n",
       "  \"/>\n",
       "<polyline clip-path=\"url(#clip090)\" style=\"stroke:#000000; stroke-linecap:round; stroke-linejoin:round; stroke-width:4; stroke-opacity:1; fill:none\" points=\"\n",
       "  112.177,676.377 131.075,676.377 \n",
       "  \"/>\n",
       "<polyline clip-path=\"url(#clip090)\" style=\"stroke:#000000; stroke-linecap:round; stroke-linejoin:round; stroke-width:4; stroke-opacity:1; fill:none\" points=\"\n",
       "  112.177,419.212 131.075,419.212 \n",
       "  \"/>\n",
       "<polyline clip-path=\"url(#clip090)\" style=\"stroke:#000000; stroke-linecap:round; stroke-linejoin:round; stroke-width:4; stroke-opacity:1; fill:none\" points=\"\n",
       "  112.177,162.047 131.075,162.047 \n",
       "  \"/>\n",
       "<path clip-path=\"url(#clip090)\" d=\"M64.2328 1433.67 Q60.6217 1433.67 58.793 1437.24 Q56.9875 1440.78 56.9875 1447.91 Q56.9875 1455.01 58.793 1458.58 Q60.6217 1462.12 64.2328 1462.12 Q67.867 1462.12 69.6726 1458.58 Q71.5013 1455.01 71.5013 1447.91 Q71.5013 1440.78 69.6726 1437.24 Q67.867 1433.67 64.2328 1433.67 M64.2328 1429.97 Q70.0429 1429.97 73.0985 1434.57 Q76.1772 1439.16 76.1772 1447.91 Q76.1772 1456.63 73.0985 1461.24 Q70.0429 1465.82 64.2328 1465.82 Q58.4226 1465.82 55.344 1461.24 Q52.2884 1456.63 52.2884 1447.91 Q52.2884 1439.16 55.344 1434.57 Q58.4226 1429.97 64.2328 1429.97 Z\" fill=\"#000000\" fill-rule=\"evenodd\" fill-opacity=\"1\" /><path clip-path=\"url(#clip090)\" d=\"M56.2699 1204.05 L63.9087 1204.05 L63.9087 1177.69 L55.5986 1179.35 L55.5986 1175.09 L63.8624 1173.43 L68.5383 1173.43 L68.5383 1204.05 L76.1772 1204.05 L76.1772 1207.99 L56.2699 1207.99 L56.2699 1204.05 Z\" fill=\"#000000\" fill-rule=\"evenodd\" fill-opacity=\"1\" /><path clip-path=\"url(#clip090)\" d=\"M59.8578 946.887 L76.1772 946.887 L76.1772 950.823 L54.2328 950.823 L54.2328 946.887 Q56.8949 944.133 61.4782 939.503 Q66.0846 934.85 67.2652 933.508 Q69.5105 930.985 70.3902 929.249 Q71.2929 927.489 71.2929 925.8 Q71.2929 923.045 69.3485 921.309 Q67.4272 919.573 64.3254 919.573 Q62.1263 919.573 59.6726 920.337 Q57.2421 921.101 54.4643 922.651 L54.4643 917.929 Q57.2884 916.795 59.7421 916.216 Q62.1958 915.638 64.2328 915.638 Q69.6031 915.638 72.7976 918.323 Q75.992 921.008 75.992 925.499 Q75.992 927.628 75.1818 929.55 Q74.3948 931.448 72.2883 934.04 Q71.7096 934.712 68.6078 937.929 Q65.5059 941.124 59.8578 946.887 Z\" fill=\"#000000\" fill-rule=\"evenodd\" fill-opacity=\"1\" /><path clip-path=\"url(#clip090)\" d=\"M69.0476 675.023 Q72.404 675.741 74.279 678.009 Q76.1772 680.278 76.1772 683.611 Q76.1772 688.727 72.6587 691.528 Q69.1402 694.329 62.6587 694.329 Q60.4828 694.329 58.168 693.889 Q55.8764 693.472 53.4227 692.616 L53.4227 688.102 Q55.3671 689.236 57.6819 689.815 Q59.9967 690.394 62.5198 690.394 Q66.918 690.394 69.2096 688.657 Q71.5244 686.921 71.5244 683.611 Q71.5244 680.556 69.3717 678.843 Q67.242 677.107 63.4226 677.107 L59.3949 677.107 L59.3949 673.264 L63.6078 673.264 Q67.0569 673.264 68.8855 671.898 Q70.7142 670.509 70.7142 667.917 Q70.7142 665.255 68.8161 663.843 Q66.9411 662.408 63.4226 662.408 Q61.5013 662.408 59.3023 662.824 Q57.1032 663.241 54.4643 664.121 L54.4643 659.954 Q57.1264 659.213 59.4412 658.843 Q61.7791 658.472 63.8393 658.472 Q69.1633 658.472 72.2652 660.903 Q75.367 663.31 75.367 667.431 Q75.367 670.301 73.7235 672.292 Q72.08 674.259 69.0476 675.023 Z\" fill=\"#000000\" fill-rule=\"evenodd\" fill-opacity=\"1\" /><path clip-path=\"url(#clip090)\" d=\"M66.5939 406.006 L54.7884 424.455 L66.5939 424.455 L66.5939 406.006 M65.367 401.932 L71.2466 401.932 L71.2466 424.455 L76.1772 424.455 L76.1772 428.344 L71.2466 428.344 L71.2466 436.492 L66.5939 436.492 L66.5939 428.344 L50.9921 428.344 L50.9921 423.83 L65.367 401.932 Z\" fill=\"#000000\" fill-rule=\"evenodd\" fill-opacity=\"1\" /><path clip-path=\"url(#clip090)\" d=\"M55.2745 144.767 L73.6309 144.767 L73.6309 148.702 L59.5569 148.702 L59.5569 157.174 Q60.5754 156.827 61.5939 156.665 Q62.6124 156.48 63.6309 156.48 Q69.418 156.48 72.7976 159.651 Q76.1772 162.822 76.1772 168.239 Q76.1772 173.818 72.705 176.92 Q69.2328 179.998 62.9134 179.998 Q60.7374 179.998 58.4689 179.628 Q56.2236 179.257 53.8162 178.517 L53.8162 173.818 Q55.8995 174.952 58.1217 175.507 Q60.3439 176.063 62.8208 176.063 Q66.8254 176.063 69.1633 173.957 Q71.5013 171.85 71.5013 168.239 Q71.5013 164.628 69.1633 162.521 Q66.8254 160.415 62.8208 160.415 Q60.9458 160.415 59.0708 160.832 Q57.2189 161.248 55.2745 162.128 L55.2745 144.767 Z\" fill=\"#000000\" fill-rule=\"evenodd\" fill-opacity=\"1\" /><path clip-path=\"url(#clip090)\" d=\"M1187.1 34.1734 Q1185.84 33.4443 1184.34 33.1202 Q1182.88 32.7556 1181.1 32.7556 Q1174.78 32.7556 1171.38 36.8875 Q1168.02 40.9789 1168.02 48.6757 L1168.02 72.576 L1160.52 72.576 L1160.52 27.2059 L1168.02 27.2059 L1168.02 34.2544 Q1170.37 30.1225 1174.13 28.1376 Q1177.9 26.1121 1183.29 26.1121 Q1184.06 26.1121 1184.99 26.2337 Q1185.92 26.3147 1187.06 26.5172 L1187.1 34.1734 Z\" fill=\"#000000\" fill-rule=\"evenodd\" fill-opacity=\"1\" /><path clip-path=\"url(#clip090)\" d=\"M1231.9 48.0275 L1231.9 51.6733 L1197.63 51.6733 Q1198.11 59.3701 1202.25 63.421 Q1206.42 67.4314 1213.83 67.4314 Q1218.13 67.4314 1222.14 66.3781 Q1226.19 65.3249 1230.16 63.2184 L1230.16 70.267 Q1226.15 71.9684 1221.93 72.8596 Q1217.72 73.7508 1213.39 73.7508 Q1202.53 73.7508 1196.17 67.4314 Q1189.85 61.1119 1189.85 50.3365 Q1189.85 39.1965 1195.85 32.6746 Q1201.88 26.1121 1212.09 26.1121 Q1221.25 26.1121 1226.55 32.0264 Q1231.9 37.9003 1231.9 48.0275 M1224.45 45.84 Q1224.36 39.7232 1221 36.0774 Q1217.68 32.4315 1212.17 32.4315 Q1205.93 32.4315 1202.17 35.9558 Q1198.44 39.4801 1197.87 45.8805 L1224.45 45.84 Z\" fill=\"#000000\" fill-rule=\"evenodd\" fill-opacity=\"1\" /><path clip-path=\"url(#clip090)\" d=\"M1244.13 9.54393 L1251.59 9.54393 L1251.59 72.576 L1244.13 72.576 L1244.13 9.54393 Z\" fill=\"#000000\" fill-rule=\"evenodd\" fill-opacity=\"1\" /><path clip-path=\"url(#clip090)\" d=\"M1266.41 54.671 L1266.41 27.2059 L1273.87 27.2059 L1273.87 54.3874 Q1273.87 60.8284 1276.38 64.0691 Q1278.89 67.2693 1283.91 67.2693 Q1289.95 67.2693 1293.43 63.421 Q1296.96 59.5726 1296.96 52.9291 L1296.96 27.2059 L1304.41 27.2059 L1304.41 72.576 L1296.96 72.576 L1296.96 65.6084 Q1294.24 69.7404 1290.64 71.7658 Q1287.07 73.7508 1282.33 73.7508 Q1274.51 73.7508 1270.46 68.8897 Q1266.41 64.0286 1266.41 54.671 M1285.17 26.1121 L1285.17 26.1121 Z\" fill=\"#000000\" fill-rule=\"evenodd\" fill-opacity=\"1\" /><polyline clip-path=\"url(#clip092)\" style=\"stroke:#009af9; stroke-linecap:round; stroke-linejoin:round; stroke-width:4; stroke-opacity:1; fill:none\" points=\"\n",
       "  175.59,1447.87 196.727,1447.87 217.865,1447.87 239.002,1447.87 260.14,1447.87 281.277,1447.87 302.415,1447.87 323.553,1447.87 344.69,1447.87 365.828,1447.87 \n",
       "  386.965,1447.87 408.103,1447.87 429.24,1447.87 450.378,1447.87 471.515,1447.87 492.653,1447.87 513.79,1447.87 534.928,1447.87 556.065,1447.87 577.203,1447.87 \n",
       "  598.34,1447.87 619.478,1447.87 640.616,1447.87 661.753,1447.87 682.891,1447.87 704.028,1447.87 725.166,1447.87 746.303,1447.87 767.441,1447.87 788.578,1447.87 \n",
       "  809.716,1447.87 830.853,1447.87 851.991,1447.87 873.128,1447.87 894.266,1447.87 915.404,1447.87 936.541,1447.87 957.679,1447.87 978.816,1447.87 999.954,1447.87 \n",
       "  1021.09,1447.87 1042.23,1447.87 1063.37,1447.87 1084.5,1447.87 1105.64,1447.87 1126.78,1447.87 1147.92,1447.87 1169.05,1447.87 1190.19,1447.87 1211.33,1447.87 \n",
       "  1232.47,1447.87 1253.6,1422.16 1274.74,1396.44 1295.88,1370.72 1317.02,1345.01 1338.15,1319.29 1359.29,1293.57 1380.43,1267.86 1401.57,1242.14 1422.7,1216.42 \n",
       "  1443.84,1190.71 1464.98,1164.99 1486.12,1139.27 1507.25,1113.56 1528.39,1087.84 1549.53,1062.13 1570.67,1036.41 1591.8,1010.69 1612.94,984.976 1634.08,959.259 \n",
       "  1655.22,933.543 1676.35,907.826 1697.49,882.11 1718.63,856.393 1739.77,830.677 1760.9,804.96 1782.04,779.243 1803.18,753.527 1824.32,727.81 1845.46,702.094 \n",
       "  1866.59,676.377 1887.73,650.661 1908.87,624.944 1930.01,599.228 1951.14,573.511 1972.28,547.795 1993.42,522.078 2014.56,496.362 2035.69,470.645 2056.83,444.929 \n",
       "  2077.97,419.212 2099.11,393.496 2120.24,367.779 2141.38,342.063 2162.52,316.346 2183.66,290.63 2204.79,264.913 2225.93,239.196 2247.07,213.48 2268.21,187.763 \n",
       "  2289.34,162.047 \n",
       "  \"/>\n",
       "<path clip-path=\"url(#clip090)\" d=\"\n",
       "M1976.69 272.585 L2278.07 272.585 L2278.07 168.905 L1976.69 168.905  Z\n",
       "  \" fill=\"#ffffff\" fill-rule=\"evenodd\" fill-opacity=\"1\"/>\n",
       "<polyline clip-path=\"url(#clip090)\" style=\"stroke:#000000; stroke-linecap:round; stroke-linejoin:round; stroke-width:4; stroke-opacity:1; fill:none\" points=\"\n",
       "  1976.69,272.585 2278.07,272.585 2278.07,168.905 1976.69,168.905 1976.69,272.585 \n",
       "  \"/>\n",
       "<polyline clip-path=\"url(#clip090)\" style=\"stroke:#009af9; stroke-linecap:round; stroke-linejoin:round; stroke-width:4; stroke-opacity:1; fill:none\" points=\"\n",
       "  2001.58,220.745 2150.95,220.745 \n",
       "  \"/>\n",
       "<path clip-path=\"url(#clip090)\" d=\"M2189.69 240.432 Q2187.89 245.062 2186.17 246.474 Q2184.46 247.886 2181.59 247.886 L2178.19 247.886 L2178.19 244.321 L2180.69 244.321 Q2182.45 244.321 2183.42 243.488 Q2184.39 242.654 2185.57 239.552 L2186.34 237.608 L2175.85 212.099 L2180.36 212.099 L2188.46 232.377 L2196.57 212.099 L2201.08 212.099 L2189.69 240.432 Z\" fill=\"#000000\" fill-rule=\"evenodd\" fill-opacity=\"1\" /><path clip-path=\"url(#clip090)\" d=\"M2208.37 234.089 L2216.01 234.089 L2216.01 207.724 L2207.7 209.391 L2207.7 205.131 L2215.96 203.465 L2220.64 203.465 L2220.64 234.089 L2228.28 234.089 L2228.28 238.025 L2208.37 238.025 L2208.37 234.089 Z\" fill=\"#000000\" fill-rule=\"evenodd\" fill-opacity=\"1\" /></svg>\n"
      ]
     },
     "execution_count": 86,
     "metadata": {},
     "output_type": "execute_result"
    }
   ],
   "source": [
    "plot(-5:0.1:5,relu,title=\"relu\")"
   ]
  },
  {
   "cell_type": "code",
   "execution_count": 87,
   "metadata": {},
   "outputs": [
    {
     "name": "stdout",
     "output_type": "stream",
     "text": [
      "  0.069968 seconds (133.25 k allocations: 14.597 MiB, 43.44% gc time, 52.38% compilation time)\n"
     ]
    }
   ],
   "source": [
    "# leakyrelu(x, a=0.01) = max(a*x, x) is like relu but without the hard zero setting in the left side of the zero\n",
    "@time leakyrelu.( rr );"
   ]
  },
  {
   "cell_type": "code",
   "execution_count": 88,
   "metadata": {},
   "outputs": [
    {
     "data": {
      "image/svg+xml": [
       "<?xml version=\"1.0\" encoding=\"utf-8\"?>\n",
       "<svg xmlns=\"http://www.w3.org/2000/svg\" xmlns:xlink=\"http://www.w3.org/1999/xlink\" width=\"600\" height=\"400\" viewBox=\"0 0 2400 1600\">\n",
       "<defs>\n",
       "  <clipPath id=\"clip130\">\n",
       "    <rect x=\"0\" y=\"0\" width=\"2400\" height=\"1600\"/>\n",
       "  </clipPath>\n",
       "</defs>\n",
       "<path clip-path=\"url(#clip130)\" d=\"\n",
       "M0 1600 L2400 1600 L2400 0 L0 0  Z\n",
       "  \" fill=\"#ffffff\" fill-rule=\"evenodd\" fill-opacity=\"1\"/>\n",
       "<defs>\n",
       "  <clipPath id=\"clip131\">\n",
       "    <rect x=\"480\" y=\"0\" width=\"1681\" height=\"1600\"/>\n",
       "  </clipPath>\n",
       "</defs>\n",
       "<path clip-path=\"url(#clip130)\" d=\"\n",
       "M112.177 1486.45 L2352.76 1486.45 L2352.76 123.472 L112.177 123.472  Z\n",
       "  \" fill=\"#ffffff\" fill-rule=\"evenodd\" fill-opacity=\"1\"/>\n",
       "<defs>\n",
       "  <clipPath id=\"clip132\">\n",
       "    <rect x=\"112\" y=\"123\" width=\"2242\" height=\"1364\"/>\n",
       "  </clipPath>\n",
       "</defs>\n",
       "<polyline clip-path=\"url(#clip132)\" style=\"stroke:#000000; stroke-linecap:round; stroke-linejoin:round; stroke-width:2; stroke-opacity:0.1; fill:none\" points=\"\n",
       "  386.965,1486.45 386.965,123.472 \n",
       "  \"/>\n",
       "<polyline clip-path=\"url(#clip132)\" style=\"stroke:#000000; stroke-linecap:round; stroke-linejoin:round; stroke-width:2; stroke-opacity:0.1; fill:none\" points=\"\n",
       "  809.716,1486.45 809.716,123.472 \n",
       "  \"/>\n",
       "<polyline clip-path=\"url(#clip132)\" style=\"stroke:#000000; stroke-linecap:round; stroke-linejoin:round; stroke-width:2; stroke-opacity:0.1; fill:none\" points=\"\n",
       "  1232.47,1486.45 1232.47,123.472 \n",
       "  \"/>\n",
       "<polyline clip-path=\"url(#clip132)\" style=\"stroke:#000000; stroke-linecap:round; stroke-linejoin:round; stroke-width:2; stroke-opacity:0.1; fill:none\" points=\"\n",
       "  1655.22,1486.45 1655.22,123.472 \n",
       "  \"/>\n",
       "<polyline clip-path=\"url(#clip132)\" style=\"stroke:#000000; stroke-linecap:round; stroke-linejoin:round; stroke-width:2; stroke-opacity:0.1; fill:none\" points=\"\n",
       "  2077.97,1486.45 2077.97,123.472 \n",
       "  \"/>\n",
       "<polyline clip-path=\"url(#clip130)\" style=\"stroke:#000000; stroke-linecap:round; stroke-linejoin:round; stroke-width:4; stroke-opacity:1; fill:none\" points=\"\n",
       "  112.177,1486.45 2352.76,1486.45 \n",
       "  \"/>\n",
       "<polyline clip-path=\"url(#clip130)\" style=\"stroke:#000000; stroke-linecap:round; stroke-linejoin:round; stroke-width:4; stroke-opacity:1; fill:none\" points=\"\n",
       "  386.965,1486.45 386.965,1467.55 \n",
       "  \"/>\n",
       "<polyline clip-path=\"url(#clip130)\" style=\"stroke:#000000; stroke-linecap:round; stroke-linejoin:round; stroke-width:4; stroke-opacity:1; fill:none\" points=\"\n",
       "  809.716,1486.45 809.716,1467.55 \n",
       "  \"/>\n",
       "<polyline clip-path=\"url(#clip130)\" style=\"stroke:#000000; stroke-linecap:round; stroke-linejoin:round; stroke-width:4; stroke-opacity:1; fill:none\" points=\"\n",
       "  1232.47,1486.45 1232.47,1467.55 \n",
       "  \"/>\n",
       "<polyline clip-path=\"url(#clip130)\" style=\"stroke:#000000; stroke-linecap:round; stroke-linejoin:round; stroke-width:4; stroke-opacity:1; fill:none\" points=\"\n",
       "  1655.22,1486.45 1655.22,1467.55 \n",
       "  \"/>\n",
       "<polyline clip-path=\"url(#clip130)\" style=\"stroke:#000000; stroke-linecap:round; stroke-linejoin:round; stroke-width:4; stroke-opacity:1; fill:none\" points=\"\n",
       "  2077.97,1486.45 2077.97,1467.55 \n",
       "  \"/>\n",
       "<path clip-path=\"url(#clip130)\" d=\"M355.866 1532.02 L385.542 1532.02 L385.542 1535.95 L355.866 1535.95 L355.866 1532.02 Z\" fill=\"#000000\" fill-rule=\"evenodd\" fill-opacity=\"1\" /><path clip-path=\"url(#clip130)\" d=\"M408.481 1518.36 L396.676 1536.81 L408.481 1536.81 L408.481 1518.36 M407.254 1514.29 L413.134 1514.29 L413.134 1536.81 L418.065 1536.81 L418.065 1540.7 L413.134 1540.7 L413.134 1548.85 L408.481 1548.85 L408.481 1540.7 L392.879 1540.7 L392.879 1536.19 L407.254 1514.29 Z\" fill=\"#000000\" fill-rule=\"evenodd\" fill-opacity=\"1\" /><path clip-path=\"url(#clip130)\" d=\"M779.658 1532.02 L809.334 1532.02 L809.334 1535.95 L779.658 1535.95 L779.658 1532.02 Z\" fill=\"#000000\" fill-rule=\"evenodd\" fill-opacity=\"1\" /><path clip-path=\"url(#clip130)\" d=\"M823.454 1544.91 L839.774 1544.91 L839.774 1548.85 L817.829 1548.85 L817.829 1544.91 Q820.491 1542.16 825.075 1537.53 Q829.681 1532.88 830.862 1531.53 Q833.107 1529.01 833.987 1527.27 Q834.889 1525.51 834.889 1523.82 Q834.889 1521.07 832.945 1519.33 Q831.024 1517.6 827.922 1517.6 Q825.723 1517.6 823.269 1518.36 Q820.838 1519.13 818.061 1520.68 L818.061 1515.95 Q820.885 1514.82 823.338 1514.24 Q825.792 1513.66 827.829 1513.66 Q833.2 1513.66 836.394 1516.35 Q839.588 1519.03 839.588 1523.52 Q839.588 1525.65 838.778 1527.57 Q837.991 1529.47 835.885 1532.07 Q835.306 1532.74 832.204 1535.95 Q829.102 1539.15 823.454 1544.91 Z\" fill=\"#000000\" fill-rule=\"evenodd\" fill-opacity=\"1\" /><path clip-path=\"url(#clip130)\" d=\"M1232.47 1517.37 Q1228.86 1517.37 1227.03 1520.93 Q1225.22 1524.47 1225.22 1531.6 Q1225.22 1538.71 1227.03 1542.27 Q1228.86 1545.82 1232.47 1545.82 Q1236.1 1545.82 1237.91 1542.27 Q1239.74 1538.71 1239.74 1531.6 Q1239.74 1524.47 1237.91 1520.93 Q1236.1 1517.37 1232.47 1517.37 M1232.47 1513.66 Q1238.28 1513.66 1241.33 1518.27 Q1244.41 1522.85 1244.41 1531.6 Q1244.41 1540.33 1241.33 1544.94 Q1238.28 1549.52 1232.47 1549.52 Q1226.66 1549.52 1223.58 1544.94 Q1220.52 1540.33 1220.52 1531.6 Q1220.52 1522.85 1223.58 1518.27 Q1226.66 1513.66 1232.47 1513.66 Z\" fill=\"#000000\" fill-rule=\"evenodd\" fill-opacity=\"1\" /><path clip-path=\"url(#clip130)\" d=\"M1649.87 1544.91 L1666.19 1544.91 L1666.19 1548.85 L1644.25 1548.85 L1644.25 1544.91 Q1646.91 1542.16 1651.49 1537.53 Q1656.1 1532.88 1657.28 1531.53 Q1659.52 1529.01 1660.4 1527.27 Q1661.31 1525.51 1661.31 1523.82 Q1661.31 1521.07 1659.36 1519.33 Q1657.44 1517.6 1654.34 1517.6 Q1652.14 1517.6 1649.68 1518.36 Q1647.25 1519.13 1644.48 1520.68 L1644.48 1515.95 Q1647.3 1514.82 1649.75 1514.24 Q1652.21 1513.66 1654.25 1513.66 Q1659.62 1513.66 1662.81 1516.35 Q1666 1519.03 1666 1523.52 Q1666 1525.65 1665.19 1527.57 Q1664.41 1529.47 1662.3 1532.07 Q1661.72 1532.74 1658.62 1535.95 Q1655.52 1539.15 1649.87 1544.91 Z\" fill=\"#000000\" fill-rule=\"evenodd\" fill-opacity=\"1\" /><path clip-path=\"url(#clip130)\" d=\"M2080.98 1518.36 L2069.17 1536.81 L2080.98 1536.81 L2080.98 1518.36 M2079.75 1514.29 L2085.63 1514.29 L2085.63 1536.81 L2090.56 1536.81 L2090.56 1540.7 L2085.63 1540.7 L2085.63 1548.85 L2080.98 1548.85 L2080.98 1540.7 L2065.38 1540.7 L2065.38 1536.19 L2079.75 1514.29 Z\" fill=\"#000000\" fill-rule=\"evenodd\" fill-opacity=\"1\" /><polyline clip-path=\"url(#clip132)\" style=\"stroke:#000000; stroke-linecap:round; stroke-linejoin:round; stroke-width:2; stroke-opacity:0.1; fill:none\" points=\"\n",
       "  112.177,1435.14 2352.76,1435.14 \n",
       "  \"/>\n",
       "<polyline clip-path=\"url(#clip132)\" style=\"stroke:#000000; stroke-linecap:round; stroke-linejoin:round; stroke-width:2; stroke-opacity:0.1; fill:none\" points=\"\n",
       "  112.177,1180.52 2352.76,1180.52 \n",
       "  \"/>\n",
       "<polyline clip-path=\"url(#clip132)\" style=\"stroke:#000000; stroke-linecap:round; stroke-linejoin:round; stroke-width:2; stroke-opacity:0.1; fill:none\" points=\"\n",
       "  112.177,925.904 2352.76,925.904 \n",
       "  \"/>\n",
       "<polyline clip-path=\"url(#clip132)\" style=\"stroke:#000000; stroke-linecap:round; stroke-linejoin:round; stroke-width:2; stroke-opacity:0.1; fill:none\" points=\"\n",
       "  112.177,671.285 2352.76,671.285 \n",
       "  \"/>\n",
       "<polyline clip-path=\"url(#clip132)\" style=\"stroke:#000000; stroke-linecap:round; stroke-linejoin:round; stroke-width:2; stroke-opacity:0.1; fill:none\" points=\"\n",
       "  112.177,416.666 2352.76,416.666 \n",
       "  \"/>\n",
       "<polyline clip-path=\"url(#clip132)\" style=\"stroke:#000000; stroke-linecap:round; stroke-linejoin:round; stroke-width:2; stroke-opacity:0.1; fill:none\" points=\"\n",
       "  112.177,162.047 2352.76,162.047 \n",
       "  \"/>\n",
       "<polyline clip-path=\"url(#clip130)\" style=\"stroke:#000000; stroke-linecap:round; stroke-linejoin:round; stroke-width:4; stroke-opacity:1; fill:none\" points=\"\n",
       "  112.177,1486.45 112.177,123.472 \n",
       "  \"/>\n",
       "<polyline clip-path=\"url(#clip130)\" style=\"stroke:#000000; stroke-linecap:round; stroke-linejoin:round; stroke-width:4; stroke-opacity:1; fill:none\" points=\"\n",
       "  112.177,1435.14 131.075,1435.14 \n",
       "  \"/>\n",
       "<polyline clip-path=\"url(#clip130)\" style=\"stroke:#000000; stroke-linecap:round; stroke-linejoin:round; stroke-width:4; stroke-opacity:1; fill:none\" points=\"\n",
       "  112.177,1180.52 131.075,1180.52 \n",
       "  \"/>\n",
       "<polyline clip-path=\"url(#clip130)\" style=\"stroke:#000000; stroke-linecap:round; stroke-linejoin:round; stroke-width:4; stroke-opacity:1; fill:none\" points=\"\n",
       "  112.177,925.904 131.075,925.904 \n",
       "  \"/>\n",
       "<polyline clip-path=\"url(#clip130)\" style=\"stroke:#000000; stroke-linecap:round; stroke-linejoin:round; stroke-width:4; stroke-opacity:1; fill:none\" points=\"\n",
       "  112.177,671.285 131.075,671.285 \n",
       "  \"/>\n",
       "<polyline clip-path=\"url(#clip130)\" style=\"stroke:#000000; stroke-linecap:round; stroke-linejoin:round; stroke-width:4; stroke-opacity:1; fill:none\" points=\"\n",
       "  112.177,416.666 131.075,416.666 \n",
       "  \"/>\n",
       "<polyline clip-path=\"url(#clip130)\" style=\"stroke:#000000; stroke-linecap:round; stroke-linejoin:round; stroke-width:4; stroke-opacity:1; fill:none\" points=\"\n",
       "  112.177,162.047 131.075,162.047 \n",
       "  \"/>\n",
       "<path clip-path=\"url(#clip130)\" d=\"M64.2328 1420.94 Q60.6217 1420.94 58.793 1424.51 Q56.9875 1428.05 56.9875 1435.18 Q56.9875 1442.28 58.793 1445.85 Q60.6217 1449.39 64.2328 1449.39 Q67.867 1449.39 69.6726 1445.85 Q71.5013 1442.28 71.5013 1435.18 Q71.5013 1428.05 69.6726 1424.51 Q67.867 1420.94 64.2328 1420.94 M64.2328 1417.24 Q70.0429 1417.24 73.0985 1421.84 Q76.1772 1426.43 76.1772 1435.18 Q76.1772 1443.9 73.0985 1448.51 Q70.0429 1453.09 64.2328 1453.09 Q58.4226 1453.09 55.344 1448.51 Q52.2884 1443.9 52.2884 1435.18 Q52.2884 1426.43 55.344 1421.84 Q58.4226 1417.24 64.2328 1417.24 Z\" fill=\"#000000\" fill-rule=\"evenodd\" fill-opacity=\"1\" /><path clip-path=\"url(#clip130)\" d=\"M56.2699 1193.87 L63.9087 1193.87 L63.9087 1167.5 L55.5986 1169.17 L55.5986 1164.91 L63.8624 1163.24 L68.5383 1163.24 L68.5383 1193.87 L76.1772 1193.87 L76.1772 1197.8 L56.2699 1197.8 L56.2699 1193.87 Z\" fill=\"#000000\" fill-rule=\"evenodd\" fill-opacity=\"1\" /><path clip-path=\"url(#clip130)\" d=\"M59.8578 939.249 L76.1772 939.249 L76.1772 943.184 L54.2328 943.184 L54.2328 939.249 Q56.8949 936.494 61.4782 931.865 Q66.0846 927.212 67.2652 925.869 Q69.5105 923.346 70.3902 921.61 Q71.2929 919.851 71.2929 918.161 Q71.2929 915.406 69.3485 913.67 Q67.4272 911.934 64.3254 911.934 Q62.1263 911.934 59.6726 912.698 Q57.2421 913.462 54.4643 915.013 L54.4643 910.291 Q57.2884 909.156 59.7421 908.578 Q62.1958 907.999 64.2328 907.999 Q69.6031 907.999 72.7976 910.684 Q75.992 913.369 75.992 917.86 Q75.992 919.99 75.1818 921.911 Q74.3948 923.809 72.2883 926.402 Q71.7096 927.073 68.6078 930.291 Q65.5059 933.485 59.8578 939.249 Z\" fill=\"#000000\" fill-rule=\"evenodd\" fill-opacity=\"1\" /><path clip-path=\"url(#clip130)\" d=\"M69.0476 669.931 Q72.404 670.648 74.279 672.917 Q76.1772 675.185 76.1772 678.519 Q76.1772 683.634 72.6587 686.435 Q69.1402 689.236 62.6587 689.236 Q60.4828 689.236 58.168 688.796 Q55.8764 688.38 53.4227 687.523 L53.4227 683.009 Q55.3671 684.144 57.6819 684.722 Q59.9967 685.301 62.5198 685.301 Q66.918 685.301 69.2096 683.565 Q71.5244 681.829 71.5244 678.519 Q71.5244 675.463 69.3717 673.75 Q67.242 672.014 63.4226 672.014 L59.3949 672.014 L59.3949 668.172 L63.6078 668.172 Q67.0569 668.172 68.8855 666.806 Q70.7142 665.417 70.7142 662.824 Q70.7142 660.162 68.8161 658.75 Q66.9411 657.315 63.4226 657.315 Q61.5013 657.315 59.3023 657.732 Q57.1032 658.148 54.4643 659.028 L54.4643 654.861 Q57.1264 654.121 59.4412 653.75 Q61.7791 653.38 63.8393 653.38 Q69.1633 653.38 72.2652 655.811 Q75.367 658.218 75.367 662.338 Q75.367 665.209 73.7235 667.199 Q72.08 669.167 69.0476 669.931 Z\" fill=\"#000000\" fill-rule=\"evenodd\" fill-opacity=\"1\" /><path clip-path=\"url(#clip130)\" d=\"M66.5939 403.46 L54.7884 421.909 L66.5939 421.909 L66.5939 403.46 M65.367 399.386 L71.2466 399.386 L71.2466 421.909 L76.1772 421.909 L76.1772 425.798 L71.2466 425.798 L71.2466 433.946 L66.5939 433.946 L66.5939 425.798 L50.9921 425.798 L50.9921 421.284 L65.367 399.386 Z\" fill=\"#000000\" fill-rule=\"evenodd\" fill-opacity=\"1\" /><path clip-path=\"url(#clip130)\" d=\"M55.2745 144.767 L73.6309 144.767 L73.6309 148.702 L59.5569 148.702 L59.5569 157.174 Q60.5754 156.827 61.5939 156.665 Q62.6124 156.48 63.6309 156.48 Q69.418 156.48 72.7976 159.651 Q76.1772 162.822 76.1772 168.239 Q76.1772 173.818 72.705 176.92 Q69.2328 179.998 62.9134 179.998 Q60.7374 179.998 58.4689 179.628 Q56.2236 179.257 53.8162 178.517 L53.8162 173.818 Q55.8995 174.952 58.1217 175.507 Q60.3439 176.063 62.8208 176.063 Q66.8254 176.063 69.1633 173.957 Q71.5013 171.85 71.5013 168.239 Q71.5013 164.628 69.1633 162.521 Q66.8254 160.415 62.8208 160.415 Q60.9458 160.415 59.0708 160.832 Q57.2189 161.248 55.2745 162.128 L55.2745 144.767 Z\" fill=\"#000000\" fill-rule=\"evenodd\" fill-opacity=\"1\" /><path clip-path=\"url(#clip130)\" d=\"M1051.11 9.54393 L1058.56 9.54393 L1058.56 72.576 L1051.11 72.576 L1051.11 9.54393 Z\" fill=\"#000000\" fill-rule=\"evenodd\" fill-opacity=\"1\" /><path clip-path=\"url(#clip130)\" d=\"M1112.96 48.0275 L1112.96 51.6733 L1078.69 51.6733 Q1079.18 59.3701 1083.31 63.421 Q1087.48 67.4314 1094.9 67.4314 Q1099.19 67.4314 1103.2 66.3781 Q1107.25 65.3249 1111.22 63.2184 L1111.22 70.267 Q1107.21 71.9684 1103 72.8596 Q1098.79 73.7508 1094.45 73.7508 Q1083.6 73.7508 1077.24 67.4314 Q1070.92 61.1119 1070.92 50.3365 Q1070.92 39.1965 1076.91 32.6746 Q1082.95 26.1121 1093.16 26.1121 Q1102.31 26.1121 1107.62 32.0264 Q1112.96 37.9003 1112.96 48.0275 M1105.51 45.84 Q1105.43 39.7232 1102.07 36.0774 Q1098.75 32.4315 1093.24 32.4315 Q1087 32.4315 1083.23 35.9558 Q1079.5 39.4801 1078.94 45.8805 L1105.51 45.84 Z\" fill=\"#000000\" fill-rule=\"evenodd\" fill-opacity=\"1\" /><path clip-path=\"url(#clip130)\" d=\"M1145.82 49.7694 Q1136.78 49.7694 1133.3 51.8354 Q1129.82 53.9013 1129.82 58.8839 Q1129.82 62.8538 1132.41 65.2034 Q1135.04 67.5124 1139.54 67.5124 Q1145.74 67.5124 1149.46 63.1374 Q1153.23 58.7219 1153.23 51.4303 L1153.23 49.7694 L1145.82 49.7694 M1160.68 46.6907 L1160.68 72.576 L1153.23 72.576 L1153.23 65.6895 Q1150.68 69.8214 1146.87 71.8063 Q1143.06 73.7508 1137.55 73.7508 Q1130.59 73.7508 1126.45 69.8619 Q1122.36 65.9325 1122.36 59.3701 Q1122.36 51.7138 1127.47 47.825 Q1132.61 43.9361 1142.78 43.9361 L1153.23 43.9361 L1153.23 43.2069 Q1153.23 38.0623 1149.83 35.2672 Q1146.47 32.4315 1140.35 32.4315 Q1136.46 32.4315 1132.77 33.3632 Q1129.09 34.295 1125.68 36.1584 L1125.68 29.2718 Q1129.78 27.692 1133.62 26.9223 Q1137.47 26.1121 1141.12 26.1121 Q1150.96 26.1121 1155.82 31.2163 Q1160.68 36.3204 1160.68 46.6907 Z\" fill=\"#000000\" fill-rule=\"evenodd\" fill-opacity=\"1\" /><path clip-path=\"url(#clip130)\" d=\"M1175.75 9.54393 L1183.25 9.54393 L1183.25 46.7717 L1205.49 27.2059 L1215.01 27.2059 L1190.94 48.4326 L1216.02 72.576 L1206.3 72.576 L1183.25 50.4176 L1183.25 72.576 L1175.75 72.576 L1175.75 9.54393 Z\" fill=\"#000000\" fill-rule=\"evenodd\" fill-opacity=\"1\" /><path clip-path=\"url(#clip130)\" d=\"M1240 76.7889 Q1236.84 84.8907 1233.84 87.3618 Q1230.85 89.8329 1225.82 89.8329 L1219.87 89.8329 L1219.87 83.5945 L1224.24 83.5945 Q1227.32 83.5945 1229.02 82.1361 Q1230.72 80.6778 1232.79 75.2496 L1234.13 71.8468 L1215.78 27.2059 L1223.68 27.2059 L1237.85 62.6918 L1252.03 27.2059 L1259.93 27.2059 L1240 76.7889 Z\" fill=\"#000000\" fill-rule=\"evenodd\" fill-opacity=\"1\" /><path clip-path=\"url(#clip130)\" d=\"M1296.51 34.1734 Q1295.26 33.4443 1293.76 33.1202 Q1292.3 32.7556 1290.52 32.7556 Q1284.2 32.7556 1280.79 36.8875 Q1277.43 40.9789 1277.43 48.6757 L1277.43 72.576 L1269.94 72.576 L1269.94 27.2059 L1277.43 27.2059 L1277.43 34.2544 Q1279.78 30.1225 1283.55 28.1376 Q1287.32 26.1121 1292.7 26.1121 Q1293.47 26.1121 1294.4 26.2337 Q1295.34 26.3147 1296.47 26.5172 L1296.51 34.1734 Z\" fill=\"#000000\" fill-rule=\"evenodd\" fill-opacity=\"1\" /><path clip-path=\"url(#clip130)\" d=\"M1341.31 48.0275 L1341.31 51.6733 L1307.04 51.6733 Q1307.53 59.3701 1311.66 63.421 Q1315.83 67.4314 1323.25 67.4314 Q1327.54 67.4314 1331.55 66.3781 Q1335.6 65.3249 1339.57 63.2184 L1339.57 70.267 Q1335.56 71.9684 1331.35 72.8596 Q1327.14 73.7508 1322.8 73.7508 Q1311.95 73.7508 1305.59 67.4314 Q1299.27 61.1119 1299.27 50.3365 Q1299.27 39.1965 1305.26 32.6746 Q1311.3 26.1121 1321.51 26.1121 Q1330.66 26.1121 1335.97 32.0264 Q1341.31 37.9003 1341.31 48.0275 M1333.86 45.84 Q1333.78 39.7232 1330.42 36.0774 Q1327.1 32.4315 1321.59 32.4315 Q1315.35 32.4315 1311.58 35.9558 Q1307.85 39.4801 1307.29 45.8805 L1333.86 45.84 Z\" fill=\"#000000\" fill-rule=\"evenodd\" fill-opacity=\"1\" /><path clip-path=\"url(#clip130)\" d=\"M1353.55 9.54393 L1361 9.54393 L1361 72.576 L1353.55 72.576 L1353.55 9.54393 Z\" fill=\"#000000\" fill-rule=\"evenodd\" fill-opacity=\"1\" /><path clip-path=\"url(#clip130)\" d=\"M1375.83 54.671 L1375.83 27.2059 L1383.28 27.2059 L1383.28 54.3874 Q1383.28 60.8284 1385.79 64.0691 Q1388.3 67.2693 1393.33 67.2693 Q1399.36 67.2693 1402.85 63.421 Q1406.37 59.5726 1406.37 52.9291 L1406.37 27.2059 L1413.83 27.2059 L1413.83 72.576 L1406.37 72.576 L1406.37 65.6084 Q1403.66 69.7404 1400.05 71.7658 Q1396.49 73.7508 1391.75 73.7508 Q1383.93 73.7508 1379.88 68.8897 Q1375.83 64.0286 1375.83 54.671 M1394.58 26.1121 L1394.58 26.1121 Z\" fill=\"#000000\" fill-rule=\"evenodd\" fill-opacity=\"1\" /><polyline clip-path=\"url(#clip132)\" style=\"stroke:#009af9; stroke-linecap:round; stroke-linejoin:round; stroke-width:4; stroke-opacity:1; fill:none\" points=\"\n",
       "  175.59,1447.87 196.727,1447.62 217.865,1447.36 239.002,1447.11 260.14,1446.85 281.277,1446.6 302.415,1446.35 323.553,1446.09 344.69,1445.84 365.828,1445.58 \n",
       "  386.965,1445.33 408.103,1445.07 429.24,1444.82 450.378,1444.56 471.515,1444.31 492.653,1444.05 513.79,1443.8 534.928,1443.54 556.065,1443.29 577.203,1443.04 \n",
       "  598.34,1442.78 619.478,1442.53 640.616,1442.27 661.753,1442.02 682.891,1441.76 704.028,1441.51 725.166,1441.25 746.303,1441 767.441,1440.74 788.578,1440.49 \n",
       "  809.716,1440.23 830.853,1439.98 851.991,1439.73 873.128,1439.47 894.266,1439.22 915.404,1438.96 936.541,1438.71 957.679,1438.45 978.816,1438.2 999.954,1437.94 \n",
       "  1021.09,1437.69 1042.23,1437.43 1063.37,1437.18 1084.5,1436.92 1105.64,1436.67 1126.78,1436.42 1147.92,1436.16 1169.05,1435.91 1190.19,1435.65 1211.33,1435.4 \n",
       "  1232.47,1435.14 1253.6,1409.68 1274.74,1384.22 1295.88,1358.76 1317.02,1333.29 1338.15,1307.83 1359.29,1282.37 1380.43,1256.91 1401.57,1231.45 1422.7,1205.98 \n",
       "  1443.84,1180.52 1464.98,1155.06 1486.12,1129.6 1507.25,1104.14 1528.39,1078.68 1549.53,1053.21 1570.67,1027.75 1591.8,1002.29 1612.94,976.828 1634.08,951.366 \n",
       "  1655.22,925.904 1676.35,900.442 1697.49,874.98 1718.63,849.518 1739.77,824.056 1760.9,798.595 1782.04,773.133 1803.18,747.671 1824.32,722.209 1845.46,696.747 \n",
       "  1866.59,671.285 1887.73,645.823 1908.87,620.361 1930.01,594.899 1951.14,569.437 1972.28,543.975 1993.42,518.514 2014.56,493.052 2035.69,467.59 2056.83,442.128 \n",
       "  2077.97,416.666 2099.11,391.204 2120.24,365.742 2141.38,340.28 2162.52,314.818 2183.66,289.356 2204.79,263.895 2225.93,238.433 2247.07,212.971 2268.21,187.509 \n",
       "  2289.34,162.047 \n",
       "  \"/>\n",
       "<path clip-path=\"url(#clip130)\" d=\"\n",
       "M1976.69 272.585 L2278.07 272.585 L2278.07 168.905 L1976.69 168.905  Z\n",
       "  \" fill=\"#ffffff\" fill-rule=\"evenodd\" fill-opacity=\"1\"/>\n",
       "<polyline clip-path=\"url(#clip130)\" style=\"stroke:#000000; stroke-linecap:round; stroke-linejoin:round; stroke-width:4; stroke-opacity:1; fill:none\" points=\"\n",
       "  1976.69,272.585 2278.07,272.585 2278.07,168.905 1976.69,168.905 1976.69,272.585 \n",
       "  \"/>\n",
       "<polyline clip-path=\"url(#clip130)\" style=\"stroke:#009af9; stroke-linecap:round; stroke-linejoin:round; stroke-width:4; stroke-opacity:1; fill:none\" points=\"\n",
       "  2001.58,220.745 2150.95,220.745 \n",
       "  \"/>\n",
       "<path clip-path=\"url(#clip130)\" d=\"M2189.69 240.432 Q2187.89 245.062 2186.17 246.474 Q2184.46 247.886 2181.59 247.886 L2178.19 247.886 L2178.19 244.321 L2180.69 244.321 Q2182.45 244.321 2183.42 243.488 Q2184.39 242.654 2185.57 239.552 L2186.34 237.608 L2175.85 212.099 L2180.36 212.099 L2188.46 232.377 L2196.57 212.099 L2201.08 212.099 L2189.69 240.432 Z\" fill=\"#000000\" fill-rule=\"evenodd\" fill-opacity=\"1\" /><path clip-path=\"url(#clip130)\" d=\"M2208.37 234.089 L2216.01 234.089 L2216.01 207.724 L2207.7 209.391 L2207.7 205.131 L2215.96 203.465 L2220.64 203.465 L2220.64 234.089 L2228.28 234.089 L2228.28 238.025 L2208.37 238.025 L2208.37 234.089 Z\" fill=\"#000000\" fill-rule=\"evenodd\" fill-opacity=\"1\" /></svg>\n"
      ]
     },
     "execution_count": 88,
     "metadata": {},
     "output_type": "execute_result"
    }
   ],
   "source": [
    "plot(-5:0.1:5,leakyrelu,title=\"leakyrelu\")"
   ]
  },
  {
   "cell_type": "markdown",
   "metadata": {},
   "source": [
    "### <span style=\"color:orange\">tanh, is likely the first activation function explored, from Kunihito Fukushima in the Cognitron Model</span>\n",
    "\n",
    "- it spans values from -1 to +1 but as a trigonometric function is more expensive to compute\n",
    "- Julia reverts to a fast version and a 'hardtanh' stepwise version that is faster"
   ]
  },
  {
   "cell_type": "code",
   "execution_count": 89,
   "metadata": {},
   "outputs": [
    {
     "name": "stdout",
     "output_type": "stream",
     "text": [
      "  0.043436 seconds (131.40 k allocations: 14.293 MiB, 77.36% compilation time)\n"
     ]
    }
   ],
   "source": [
    "@time tanh_fast.( rr );"
   ]
  },
  {
   "cell_type": "code",
   "execution_count": 90,
   "metadata": {},
   "outputs": [
    {
     "name": "stdout",
     "output_type": "stream",
     "text": [
      "  0.038246 seconds (128.37 k allocations: 14.370 MiB, 92.81% compilation time)\n"
     ]
    }
   ],
   "source": [
    "# hardtanh(x) = max(-1, min(1, x))\n",
    "@time hardtanh.( rr );"
   ]
  },
  {
   "cell_type": "code",
   "execution_count": 91,
   "metadata": {},
   "outputs": [
    {
     "data": {
      "image/svg+xml": [
       "<?xml version=\"1.0\" encoding=\"utf-8\"?>\n",
       "<svg xmlns=\"http://www.w3.org/2000/svg\" xmlns:xlink=\"http://www.w3.org/1999/xlink\" width=\"600\" height=\"400\" viewBox=\"0 0 2400 1600\">\n",
       "<defs>\n",
       "  <clipPath id=\"clip170\">\n",
       "    <rect x=\"0\" y=\"0\" width=\"2400\" height=\"1600\"/>\n",
       "  </clipPath>\n",
       "</defs>\n",
       "<path clip-path=\"url(#clip170)\" d=\"\n",
       "M0 1600 L2400 1600 L2400 0 L0 0  Z\n",
       "  \" fill=\"#ffffff\" fill-rule=\"evenodd\" fill-opacity=\"1\"/>\n",
       "<defs>\n",
       "  <clipPath id=\"clip171\">\n",
       "    <rect x=\"480\" y=\"0\" width=\"1681\" height=\"1600\"/>\n",
       "  </clipPath>\n",
       "</defs>\n",
       "<path clip-path=\"url(#clip170)\" d=\"\n",
       "M193.936 1486.45 L1152.76 1486.45 L1152.76 123.472 L193.936 123.472  Z\n",
       "  \" fill=\"#ffffff\" fill-rule=\"evenodd\" fill-opacity=\"1\"/>\n",
       "<defs>\n",
       "  <clipPath id=\"clip172\">\n",
       "    <rect x=\"193\" y=\"123\" width=\"960\" height=\"1364\"/>\n",
       "  </clipPath>\n",
       "</defs>\n",
       "<polyline clip-path=\"url(#clip172)\" style=\"stroke:#000000; stroke-linecap:round; stroke-linejoin:round; stroke-width:2; stroke-opacity:0.1; fill:none\" points=\"\n",
       "  311.527,1486.45 311.527,123.472 \n",
       "  \"/>\n",
       "<polyline clip-path=\"url(#clip172)\" style=\"stroke:#000000; stroke-linecap:round; stroke-linejoin:round; stroke-width:2; stroke-opacity:0.1; fill:none\" points=\"\n",
       "  492.437,1486.45 492.437,123.472 \n",
       "  \"/>\n",
       "<polyline clip-path=\"url(#clip172)\" style=\"stroke:#000000; stroke-linecap:round; stroke-linejoin:round; stroke-width:2; stroke-opacity:0.1; fill:none\" points=\"\n",
       "  673.346,1486.45 673.346,123.472 \n",
       "  \"/>\n",
       "<polyline clip-path=\"url(#clip172)\" style=\"stroke:#000000; stroke-linecap:round; stroke-linejoin:round; stroke-width:2; stroke-opacity:0.1; fill:none\" points=\"\n",
       "  854.255,1486.45 854.255,123.472 \n",
       "  \"/>\n",
       "<polyline clip-path=\"url(#clip172)\" style=\"stroke:#000000; stroke-linecap:round; stroke-linejoin:round; stroke-width:2; stroke-opacity:0.1; fill:none\" points=\"\n",
       "  1035.16,1486.45 1035.16,123.472 \n",
       "  \"/>\n",
       "<polyline clip-path=\"url(#clip170)\" style=\"stroke:#000000; stroke-linecap:round; stroke-linejoin:round; stroke-width:4; stroke-opacity:1; fill:none\" points=\"\n",
       "  193.936,1486.45 1152.76,1486.45 \n",
       "  \"/>\n",
       "<polyline clip-path=\"url(#clip170)\" style=\"stroke:#000000; stroke-linecap:round; stroke-linejoin:round; stroke-width:4; stroke-opacity:1; fill:none\" points=\"\n",
       "  311.527,1486.45 311.527,1467.55 \n",
       "  \"/>\n",
       "<polyline clip-path=\"url(#clip170)\" style=\"stroke:#000000; stroke-linecap:round; stroke-linejoin:round; stroke-width:4; stroke-opacity:1; fill:none\" points=\"\n",
       "  492.437,1486.45 492.437,1467.55 \n",
       "  \"/>\n",
       "<polyline clip-path=\"url(#clip170)\" style=\"stroke:#000000; stroke-linecap:round; stroke-linejoin:round; stroke-width:4; stroke-opacity:1; fill:none\" points=\"\n",
       "  673.346,1486.45 673.346,1467.55 \n",
       "  \"/>\n",
       "<polyline clip-path=\"url(#clip170)\" style=\"stroke:#000000; stroke-linecap:round; stroke-linejoin:round; stroke-width:4; stroke-opacity:1; fill:none\" points=\"\n",
       "  854.255,1486.45 854.255,1467.55 \n",
       "  \"/>\n",
       "<polyline clip-path=\"url(#clip170)\" style=\"stroke:#000000; stroke-linecap:round; stroke-linejoin:round; stroke-width:4; stroke-opacity:1; fill:none\" points=\"\n",
       "  1035.16,1486.45 1035.16,1467.55 \n",
       "  \"/>\n",
       "<path clip-path=\"url(#clip170)\" d=\"M280.428 1532.02 L310.104 1532.02 L310.104 1535.95 L280.428 1535.95 L280.428 1532.02 Z\" fill=\"#000000\" fill-rule=\"evenodd\" fill-opacity=\"1\" /><path clip-path=\"url(#clip170)\" d=\"M333.043 1518.36 L321.238 1536.81 L333.043 1536.81 L333.043 1518.36 M331.816 1514.29 L337.696 1514.29 L337.696 1536.81 L342.626 1536.81 L342.626 1540.7 L337.696 1540.7 L337.696 1548.85 L333.043 1548.85 L333.043 1540.7 L317.441 1540.7 L317.441 1536.19 L331.816 1514.29 Z\" fill=\"#000000\" fill-rule=\"evenodd\" fill-opacity=\"1\" /><path clip-path=\"url(#clip170)\" d=\"M462.379 1532.02 L492.055 1532.02 L492.055 1535.95 L462.379 1535.95 L462.379 1532.02 Z\" fill=\"#000000\" fill-rule=\"evenodd\" fill-opacity=\"1\" /><path clip-path=\"url(#clip170)\" d=\"M506.175 1544.91 L522.494 1544.91 L522.494 1548.85 L500.55 1548.85 L500.55 1544.91 Q503.212 1542.16 507.795 1537.53 Q512.402 1532.88 513.582 1531.53 Q515.828 1529.01 516.707 1527.27 Q517.61 1525.51 517.61 1523.82 Q517.61 1521.07 515.666 1519.33 Q513.744 1517.6 510.642 1517.6 Q508.443 1517.6 505.99 1518.36 Q503.559 1519.13 500.781 1520.68 L500.781 1515.95 Q503.605 1514.82 506.059 1514.24 Q508.513 1513.66 510.55 1513.66 Q515.92 1513.66 519.115 1516.35 Q522.309 1519.03 522.309 1523.52 Q522.309 1525.65 521.499 1527.57 Q520.712 1529.47 518.605 1532.07 Q518.027 1532.74 514.925 1535.95 Q511.823 1539.15 506.175 1544.91 Z\" fill=\"#000000\" fill-rule=\"evenodd\" fill-opacity=\"1\" /><path clip-path=\"url(#clip170)\" d=\"M673.346 1517.37 Q669.735 1517.37 667.906 1520.93 Q666.101 1524.47 666.101 1531.6 Q666.101 1538.71 667.906 1542.27 Q669.735 1545.82 673.346 1545.82 Q676.98 1545.82 678.786 1542.27 Q680.614 1538.71 680.614 1531.6 Q680.614 1524.47 678.786 1520.93 Q676.98 1517.37 673.346 1517.37 M673.346 1513.66 Q679.156 1513.66 682.212 1518.27 Q685.29 1522.85 685.29 1531.6 Q685.29 1540.33 682.212 1544.94 Q679.156 1549.52 673.346 1549.52 Q667.536 1549.52 664.457 1544.94 Q661.402 1540.33 661.402 1531.6 Q661.402 1522.85 664.457 1518.27 Q667.536 1513.66 673.346 1513.66 Z\" fill=\"#000000\" fill-rule=\"evenodd\" fill-opacity=\"1\" /><path clip-path=\"url(#clip170)\" d=\"M848.908 1544.91 L865.228 1544.91 L865.228 1548.85 L843.283 1548.85 L843.283 1544.91 Q845.945 1542.16 850.529 1537.53 Q855.135 1532.88 856.316 1531.53 Q858.561 1529.01 859.441 1527.27 Q860.343 1525.51 860.343 1523.82 Q860.343 1521.07 858.399 1519.33 Q856.478 1517.6 853.376 1517.6 Q851.177 1517.6 848.723 1518.36 Q846.292 1519.13 843.515 1520.68 L843.515 1515.95 Q846.339 1514.82 848.792 1514.24 Q851.246 1513.66 853.283 1513.66 Q858.653 1513.66 861.848 1516.35 Q865.042 1519.03 865.042 1523.52 Q865.042 1525.65 864.232 1527.57 Q863.445 1529.47 861.339 1532.07 Q860.76 1532.74 857.658 1535.95 Q854.556 1539.15 848.908 1544.91 Z\" fill=\"#000000\" fill-rule=\"evenodd\" fill-opacity=\"1\" /><path clip-path=\"url(#clip170)\" d=\"M1038.17 1518.36 L1026.37 1536.81 L1038.17 1536.81 L1038.17 1518.36 M1036.95 1514.29 L1042.83 1514.29 L1042.83 1536.81 L1047.76 1536.81 L1047.76 1540.7 L1042.83 1540.7 L1042.83 1548.85 L1038.17 1548.85 L1038.17 1540.7 L1022.57 1540.7 L1022.57 1536.19 L1036.95 1514.29 Z\" fill=\"#000000\" fill-rule=\"evenodd\" fill-opacity=\"1\" /><polyline clip-path=\"url(#clip172)\" style=\"stroke:#000000; stroke-linecap:round; stroke-linejoin:round; stroke-width:2; stroke-opacity:0.1; fill:none\" points=\"\n",
       "  193.936,1447.93 1152.76,1447.93 \n",
       "  \"/>\n",
       "<polyline clip-path=\"url(#clip172)\" style=\"stroke:#000000; stroke-linecap:round; stroke-linejoin:round; stroke-width:2; stroke-opacity:0.1; fill:none\" points=\"\n",
       "  193.936,1126.45 1152.76,1126.45 \n",
       "  \"/>\n",
       "<polyline clip-path=\"url(#clip172)\" style=\"stroke:#000000; stroke-linecap:round; stroke-linejoin:round; stroke-width:2; stroke-opacity:0.1; fill:none\" points=\"\n",
       "  193.936,804.96 1152.76,804.96 \n",
       "  \"/>\n",
       "<polyline clip-path=\"url(#clip172)\" style=\"stroke:#000000; stroke-linecap:round; stroke-linejoin:round; stroke-width:2; stroke-opacity:0.1; fill:none\" points=\"\n",
       "  193.936,483.474 1152.76,483.474 \n",
       "  \"/>\n",
       "<polyline clip-path=\"url(#clip172)\" style=\"stroke:#000000; stroke-linecap:round; stroke-linejoin:round; stroke-width:2; stroke-opacity:0.1; fill:none\" points=\"\n",
       "  193.936,161.989 1152.76,161.989 \n",
       "  \"/>\n",
       "<polyline clip-path=\"url(#clip170)\" style=\"stroke:#000000; stroke-linecap:round; stroke-linejoin:round; stroke-width:4; stroke-opacity:1; fill:none\" points=\"\n",
       "  193.936,1486.45 193.936,123.472 \n",
       "  \"/>\n",
       "<polyline clip-path=\"url(#clip170)\" style=\"stroke:#000000; stroke-linecap:round; stroke-linejoin:round; stroke-width:4; stroke-opacity:1; fill:none\" points=\"\n",
       "  193.936,1447.93 212.834,1447.93 \n",
       "  \"/>\n",
       "<polyline clip-path=\"url(#clip170)\" style=\"stroke:#000000; stroke-linecap:round; stroke-linejoin:round; stroke-width:4; stroke-opacity:1; fill:none\" points=\"\n",
       "  193.936,1126.45 212.834,1126.45 \n",
       "  \"/>\n",
       "<polyline clip-path=\"url(#clip170)\" style=\"stroke:#000000; stroke-linecap:round; stroke-linejoin:round; stroke-width:4; stroke-opacity:1; fill:none\" points=\"\n",
       "  193.936,804.96 212.834,804.96 \n",
       "  \"/>\n",
       "<polyline clip-path=\"url(#clip170)\" style=\"stroke:#000000; stroke-linecap:round; stroke-linejoin:round; stroke-width:4; stroke-opacity:1; fill:none\" points=\"\n",
       "  193.936,483.474 212.834,483.474 \n",
       "  \"/>\n",
       "<polyline clip-path=\"url(#clip170)\" style=\"stroke:#000000; stroke-linecap:round; stroke-linejoin:round; stroke-width:4; stroke-opacity:1; fill:none\" points=\"\n",
       "  193.936,161.989 212.834,161.989 \n",
       "  \"/>\n",
       "<path clip-path=\"url(#clip170)\" d=\"M50.9921 1448.38 L80.6679 1448.38 L80.6679 1452.32 L50.9921 1452.32 L50.9921 1448.38 Z\" fill=\"#000000\" fill-rule=\"evenodd\" fill-opacity=\"1\" /><path clip-path=\"url(#clip170)\" d=\"M91.5706 1461.28 L99.2095 1461.28 L99.2095 1434.91 L90.8993 1436.58 L90.8993 1432.32 L99.1632 1430.65 L103.839 1430.65 L103.839 1461.28 L111.478 1461.28 L111.478 1465.21 L91.5706 1465.21 L91.5706 1461.28 Z\" fill=\"#000000\" fill-rule=\"evenodd\" fill-opacity=\"1\" /><path clip-path=\"url(#clip170)\" d=\"M120.922 1459.33 L125.807 1459.33 L125.807 1465.21 L120.922 1465.21 L120.922 1459.33 Z\" fill=\"#000000\" fill-rule=\"evenodd\" fill-opacity=\"1\" /><path clip-path=\"url(#clip170)\" d=\"M145.992 1433.73 Q142.381 1433.73 140.552 1437.29 Q138.746 1440.84 138.746 1447.97 Q138.746 1455.07 140.552 1458.64 Q142.381 1462.18 145.992 1462.18 Q149.626 1462.18 151.431 1458.64 Q153.26 1455.07 153.26 1447.97 Q153.26 1440.84 151.431 1437.29 Q149.626 1433.73 145.992 1433.73 M145.992 1430.03 Q151.802 1430.03 154.857 1434.63 Q157.936 1439.22 157.936 1447.97 Q157.936 1456.69 154.857 1461.3 Q151.802 1465.88 145.992 1465.88 Q140.181 1465.88 137.103 1461.3 Q134.047 1456.69 134.047 1447.97 Q134.047 1439.22 137.103 1434.63 Q140.181 1430.03 145.992 1430.03 Z\" fill=\"#000000\" fill-rule=\"evenodd\" fill-opacity=\"1\" /><path clip-path=\"url(#clip170)\" d=\"M51.9875 1126.9 L81.6633 1126.9 L81.6633 1130.83 L51.9875 1130.83 L51.9875 1126.9 Z\" fill=\"#000000\" fill-rule=\"evenodd\" fill-opacity=\"1\" /><path clip-path=\"url(#clip170)\" d=\"M101.756 1112.24 Q98.1447 1112.24 96.316 1115.81 Q94.5104 1119.35 94.5104 1126.48 Q94.5104 1133.59 96.316 1137.15 Q98.1447 1140.69 101.756 1140.69 Q105.39 1140.69 107.196 1137.15 Q109.024 1133.59 109.024 1126.48 Q109.024 1119.35 107.196 1115.81 Q105.39 1112.24 101.756 1112.24 M101.756 1108.54 Q107.566 1108.54 110.621 1113.15 Q113.7 1117.73 113.7 1126.48 Q113.7 1135.21 110.621 1139.81 Q107.566 1144.4 101.756 1144.4 Q95.9456 1144.4 92.8669 1139.81 Q89.8114 1135.21 89.8114 1126.48 Q89.8114 1117.73 92.8669 1113.15 Q95.9456 1108.54 101.756 1108.54 Z\" fill=\"#000000\" fill-rule=\"evenodd\" fill-opacity=\"1\" /><path clip-path=\"url(#clip170)\" d=\"M121.918 1137.85 L126.802 1137.85 L126.802 1143.73 L121.918 1143.73 L121.918 1137.85 Z\" fill=\"#000000\" fill-rule=\"evenodd\" fill-opacity=\"1\" /><path clip-path=\"url(#clip170)\" d=\"M137.033 1109.17 L155.39 1109.17 L155.39 1113.1 L141.316 1113.1 L141.316 1121.57 Q142.334 1121.23 143.353 1121.06 Q144.371 1120.88 145.39 1120.88 Q151.177 1120.88 154.556 1124.05 Q157.936 1127.22 157.936 1132.64 Q157.936 1138.22 154.464 1141.32 Q150.992 1144.4 144.672 1144.4 Q142.496 1144.4 140.228 1144.03 Q137.982 1143.66 135.575 1142.92 L135.575 1138.22 Q137.658 1139.35 139.881 1139.91 Q142.103 1140.46 144.58 1140.46 Q148.584 1140.46 150.922 1138.36 Q153.26 1136.25 153.26 1132.64 Q153.26 1129.03 150.922 1126.92 Q148.584 1124.81 144.58 1124.81 Q142.705 1124.81 140.83 1125.23 Q138.978 1125.65 137.033 1126.53 L137.033 1109.17 Z\" fill=\"#000000\" fill-rule=\"evenodd\" fill-opacity=\"1\" /><path clip-path=\"url(#clip170)\" d=\"M100.76 790.759 Q97.1493 790.759 95.3206 794.323 Q93.515 797.865 93.515 804.995 Q93.515 812.101 95.3206 815.666 Q97.1493 819.208 100.76 819.208 Q104.395 819.208 106.2 815.666 Q108.029 812.101 108.029 804.995 Q108.029 797.865 106.2 794.323 Q104.395 790.759 100.76 790.759 M100.76 787.055 Q106.571 787.055 109.626 791.661 Q112.705 796.245 112.705 804.995 Q112.705 813.722 109.626 818.328 Q106.571 822.911 100.76 822.911 Q94.9502 822.911 91.8715 818.328 Q88.816 813.722 88.816 804.995 Q88.816 796.245 91.8715 791.661 Q94.9502 787.055 100.76 787.055 Z\" fill=\"#000000\" fill-rule=\"evenodd\" fill-opacity=\"1\" /><path clip-path=\"url(#clip170)\" d=\"M120.922 816.36 L125.807 816.36 L125.807 822.24 L120.922 822.24 L120.922 816.36 Z\" fill=\"#000000\" fill-rule=\"evenodd\" fill-opacity=\"1\" /><path clip-path=\"url(#clip170)\" d=\"M145.992 790.759 Q142.381 790.759 140.552 794.323 Q138.746 797.865 138.746 804.995 Q138.746 812.101 140.552 815.666 Q142.381 819.208 145.992 819.208 Q149.626 819.208 151.431 815.666 Q153.26 812.101 153.26 804.995 Q153.26 797.865 151.431 794.323 Q149.626 790.759 145.992 790.759 M145.992 787.055 Q151.802 787.055 154.857 791.661 Q157.936 796.245 157.936 804.995 Q157.936 813.722 154.857 818.328 Q151.802 822.911 145.992 822.911 Q140.181 822.911 137.103 818.328 Q134.047 813.722 134.047 804.995 Q134.047 796.245 137.103 791.661 Q140.181 787.055 145.992 787.055 Z\" fill=\"#000000\" fill-rule=\"evenodd\" fill-opacity=\"1\" /><path clip-path=\"url(#clip170)\" d=\"M101.756 469.273 Q98.1447 469.273 96.316 472.838 Q94.5104 476.379 94.5104 483.509 Q94.5104 490.615 96.316 494.18 Q98.1447 497.722 101.756 497.722 Q105.39 497.722 107.196 494.18 Q109.024 490.615 109.024 483.509 Q109.024 476.379 107.196 472.838 Q105.39 469.273 101.756 469.273 M101.756 465.569 Q107.566 465.569 110.621 470.176 Q113.7 474.759 113.7 483.509 Q113.7 492.236 110.621 496.842 Q107.566 501.426 101.756 501.426 Q95.9456 501.426 92.8669 496.842 Q89.8114 492.236 89.8114 483.509 Q89.8114 474.759 92.8669 470.176 Q95.9456 465.569 101.756 465.569 Z\" fill=\"#000000\" fill-rule=\"evenodd\" fill-opacity=\"1\" /><path clip-path=\"url(#clip170)\" d=\"M121.918 494.875 L126.802 494.875 L126.802 500.754 L121.918 500.754 L121.918 494.875 Z\" fill=\"#000000\" fill-rule=\"evenodd\" fill-opacity=\"1\" /><path clip-path=\"url(#clip170)\" d=\"M137.033 466.194 L155.39 466.194 L155.39 470.129 L141.316 470.129 L141.316 478.602 Q142.334 478.254 143.353 478.092 Q144.371 477.907 145.39 477.907 Q151.177 477.907 154.556 481.078 Q157.936 484.25 157.936 489.666 Q157.936 495.245 154.464 498.347 Q150.992 501.426 144.672 501.426 Q142.496 501.426 140.228 501.055 Q137.982 500.685 135.575 499.944 L135.575 495.245 Q137.658 496.379 139.881 496.935 Q142.103 497.49 144.58 497.49 Q148.584 497.49 150.922 495.384 Q153.26 493.277 153.26 489.666 Q153.26 486.055 150.922 483.949 Q148.584 481.842 144.58 481.842 Q142.705 481.842 140.83 482.259 Q138.978 482.676 137.033 483.555 L137.033 466.194 Z\" fill=\"#000000\" fill-rule=\"evenodd\" fill-opacity=\"1\" /><path clip-path=\"url(#clip170)\" d=\"M91.5706 175.333 L99.2095 175.333 L99.2095 148.968 L90.8993 150.634 L90.8993 146.375 L99.1632 144.709 L103.839 144.709 L103.839 175.333 L111.478 175.333 L111.478 179.269 L91.5706 179.269 L91.5706 175.333 Z\" fill=\"#000000\" fill-rule=\"evenodd\" fill-opacity=\"1\" /><path clip-path=\"url(#clip170)\" d=\"M120.922 173.389 L125.807 173.389 L125.807 179.269 L120.922 179.269 L120.922 173.389 Z\" fill=\"#000000\" fill-rule=\"evenodd\" fill-opacity=\"1\" /><path clip-path=\"url(#clip170)\" d=\"M145.992 147.787 Q142.381 147.787 140.552 151.352 Q138.746 154.894 138.746 162.023 Q138.746 169.13 140.552 172.694 Q142.381 176.236 145.992 176.236 Q149.626 176.236 151.431 172.694 Q153.26 169.13 153.26 162.023 Q153.26 154.894 151.431 151.352 Q149.626 147.787 145.992 147.787 M145.992 144.084 Q151.802 144.084 154.857 148.69 Q157.936 153.273 157.936 162.023 Q157.936 170.75 154.857 175.357 Q151.802 179.94 145.992 179.94 Q140.181 179.94 137.103 175.357 Q134.047 170.75 134.047 162.023 Q134.047 153.273 137.103 148.69 Q140.181 144.084 145.992 144.084 Z\" fill=\"#000000\" fill-rule=\"evenodd\" fill-opacity=\"1\" /><path clip-path=\"url(#clip170)\" d=\"M495.511 14.324 L495.511 27.2059 L510.864 27.2059 L510.864 32.9987 L495.511 32.9987 L495.511 57.6282 Q495.511 63.1779 497.01 64.7578 Q498.549 66.3376 503.208 66.3376 L510.864 66.3376 L510.864 72.576 L503.208 72.576 Q494.58 72.576 491.298 69.3758 Q488.017 66.1351 488.017 57.6282 L488.017 32.9987 L482.548 32.9987 L482.548 27.2059 L488.017 27.2059 L488.017 14.324 L495.511 14.324 Z\" fill=\"#000000\" fill-rule=\"evenodd\" fill-opacity=\"1\" /><path clip-path=\"url(#clip170)\" d=\"M541.286 49.7694 Q532.253 49.7694 528.769 51.8354 Q525.285 53.9013 525.285 58.8839 Q525.285 62.8538 527.878 65.2034 Q530.511 67.5124 535.008 67.5124 Q541.205 67.5124 544.932 63.1374 Q548.7 58.7219 548.7 51.4303 L548.7 49.7694 L541.286 49.7694 M556.153 46.6907 L556.153 72.576 L548.7 72.576 L548.7 65.6895 Q546.148 69.8214 542.34 71.8063 Q538.532 73.7508 533.023 73.7508 Q526.055 73.7508 521.923 69.8619 Q517.832 65.9325 517.832 59.3701 Q517.832 51.7138 522.936 47.825 Q528.081 43.9361 538.248 43.9361 L548.7 43.9361 L548.7 43.2069 Q548.7 38.0623 545.297 35.2672 Q541.935 32.4315 535.818 32.4315 Q531.929 32.4315 528.243 33.3632 Q524.556 34.295 521.153 36.1584 L521.153 29.2718 Q525.245 27.692 529.093 26.9223 Q532.942 26.1121 536.587 26.1121 Q546.431 26.1121 551.292 31.2163 Q556.153 36.3204 556.153 46.6907 Z\" fill=\"#000000\" fill-rule=\"evenodd\" fill-opacity=\"1\" /><path clip-path=\"url(#clip170)\" d=\"M609.22 45.1919 L609.22 72.576 L601.766 72.576 L601.766 45.4349 Q601.766 38.994 599.255 35.7938 Q596.743 32.5936 591.72 32.5936 Q585.684 32.5936 582.201 36.4419 Q578.717 40.2903 578.717 46.9338 L578.717 72.576 L571.223 72.576 L571.223 27.2059 L578.717 27.2059 L578.717 34.2544 Q581.39 30.163 584.996 28.1376 Q588.642 26.1121 593.381 26.1121 Q601.199 26.1121 605.21 30.9732 Q609.22 35.7938 609.22 45.1919 Z\" fill=\"#000000\" fill-rule=\"evenodd\" fill-opacity=\"1\" /><path clip-path=\"url(#clip170)\" d=\"M661.801 45.1919 L661.801 72.576 L654.347 72.576 L654.347 45.4349 Q654.347 38.994 651.836 35.7938 Q649.324 32.5936 644.301 32.5936 Q638.265 32.5936 634.781 36.4419 Q631.298 40.2903 631.298 46.9338 L631.298 72.576 L623.803 72.576 L623.803 9.54393 L631.298 9.54393 L631.298 34.2544 Q633.971 30.163 637.576 28.1376 Q641.222 26.1121 645.962 26.1121 Q653.78 26.1121 657.79 30.9732 Q661.801 35.7938 661.801 45.1919 Z\" fill=\"#000000\" fill-rule=\"evenodd\" fill-opacity=\"1\" /><path clip-path=\"url(#clip170)\" d=\"M711.141 86.3491 L711.141 92.1419 L668.039 92.1419 L668.039 86.3491 L711.141 86.3491 Z\" fill=\"#000000\" fill-rule=\"evenodd\" fill-opacity=\"1\" /><path clip-path=\"url(#clip170)\" d=\"M741.118 9.54393 L741.118 15.7418 L733.988 15.7418 Q729.978 15.7418 728.398 17.3622 Q726.858 18.9825 726.858 23.1955 L726.858 27.2059 L739.133 27.2059 L739.133 32.9987 L726.858 32.9987 L726.858 72.576 L719.364 72.576 L719.364 32.9987 L712.235 32.9987 L712.235 27.2059 L719.364 27.2059 L719.364 24.0462 Q719.364 16.471 722.889 13.0277 Q726.413 9.54393 734.069 9.54393 L741.118 9.54393 Z\" fill=\"#000000\" fill-rule=\"evenodd\" fill-opacity=\"1\" /><path clip-path=\"url(#clip170)\" d=\"M767.975 49.7694 Q758.942 49.7694 755.458 51.8354 Q751.974 53.9013 751.974 58.8839 Q751.974 62.8538 754.567 65.2034 Q757.2 67.5124 761.696 67.5124 Q767.894 67.5124 771.621 63.1374 Q775.388 58.7219 775.388 51.4303 L775.388 49.7694 L767.975 49.7694 M782.842 46.6907 L782.842 72.576 L775.388 72.576 L775.388 65.6895 Q772.836 69.8214 769.028 71.8063 Q765.22 73.7508 759.711 73.7508 Q752.744 73.7508 748.612 69.8619 Q744.52 65.9325 744.52 59.3701 Q744.52 51.7138 749.624 47.825 Q754.769 43.9361 764.937 43.9361 L775.388 43.9361 L775.388 43.2069 Q775.388 38.0623 771.985 35.2672 Q768.623 32.4315 762.506 32.4315 Q758.617 32.4315 754.931 33.3632 Q751.245 34.295 747.842 36.1584 L747.842 29.2718 Q751.933 27.692 755.782 26.9223 Q759.63 26.1121 763.276 26.1121 Q773.12 26.1121 777.981 31.2163 Q782.842 36.3204 782.842 46.6907 Z\" fill=\"#000000\" fill-rule=\"evenodd\" fill-opacity=\"1\" /><path clip-path=\"url(#clip170)\" d=\"M827.118 28.5427 L827.118 35.5912 Q823.959 33.9709 820.556 33.1607 Q817.153 32.3505 813.507 32.3505 Q807.957 32.3505 805.162 34.0519 Q802.408 35.7533 802.408 39.156 Q802.408 41.7486 804.393 43.2475 Q806.378 44.7058 812.373 46.0426 L814.925 46.6097 Q822.865 48.3111 826.187 51.4303 Q829.549 54.509 829.549 60.0587 Q829.549 66.3781 824.526 70.0644 Q819.543 73.7508 810.793 73.7508 Q807.147 73.7508 803.177 73.0216 Q799.248 72.3329 794.873 70.9151 L794.873 63.2184 Q799.005 65.3654 803.015 66.4591 Q807.026 67.5124 810.955 67.5124 Q816.221 67.5124 819.057 65.73 Q821.893 63.9071 821.893 60.6258 Q821.893 57.5877 819.827 55.9673 Q817.801 54.3469 810.874 52.8481 L808.282 52.2405 Q801.355 50.7821 798.276 47.7845 Q795.197 44.7463 795.197 39.4801 Q795.197 33.0797 799.734 29.5959 Q804.271 26.1121 812.616 26.1121 Q816.748 26.1121 820.394 26.7198 Q824.04 27.3274 827.118 28.5427 Z\" fill=\"#000000\" fill-rule=\"evenodd\" fill-opacity=\"1\" /><path clip-path=\"url(#clip170)\" d=\"M848.791 14.324 L848.791 27.2059 L864.144 27.2059 L864.144 32.9987 L848.791 32.9987 L848.791 57.6282 Q848.791 63.1779 850.289 64.7578 Q851.829 66.3376 856.487 66.3376 L864.144 66.3376 L864.144 72.576 L856.487 72.576 Q847.859 72.576 844.578 69.3758 Q841.296 66.1351 841.296 57.6282 L841.296 32.9987 L835.828 32.9987 L835.828 27.2059 L841.296 27.2059 L841.296 14.324 L848.791 14.324 Z\" fill=\"#000000\" fill-rule=\"evenodd\" fill-opacity=\"1\" /><polyline clip-path=\"url(#clip172)\" style=\"stroke:#009af9; stroke-linecap:round; stroke-linejoin:round; stroke-width:4; stroke-opacity:1; fill:none\" points=\"\n",
       "  221.072,1447.87 230.118,1447.86 239.163,1447.84 248.209,1447.83 257.254,1447.8 266.3,1447.77 275.345,1447.74 284.391,1447.69 293.436,1447.64 302.482,1447.58 \n",
       "  311.527,1447.5 320.573,1447.4 329.618,1447.29 338.664,1447.15 347.709,1446.97 356.754,1446.76 365.8,1446.5 374.845,1446.18 383.891,1445.8 392.936,1445.33 \n",
       "  401.982,1444.75 411.027,1444.05 420.073,1443.19 429.118,1442.15 438.164,1440.88 447.209,1439.32 456.255,1437.43 465.3,1435.13 474.346,1432.33 483.391,1428.93 \n",
       "  492.437,1424.8 501.482,1419.79 510.527,1413.73 519.573,1406.4 528.618,1397.57 537.664,1386.94 546.709,1374.22 555.755,1359.02 564.8,1340.98 573.846,1319.66 \n",
       "  582.891,1294.64 591.937,1265.52 600.982,1231.92 610.028,1193.55 619.073,1150.27 628.119,1102.09 637.164,1049.26 646.21,992.266 655.255,931.867 664.3,869.044 \n",
       "  673.346,804.96 682.391,740.876 691.437,678.053 700.482,617.654 709.528,560.664 718.573,507.832 727.619,459.652 736.664,416.369 745.71,378.003 754.755,344.401 \n",
       "  763.801,315.277 772.846,290.262 781.892,268.944 790.937,250.897 799.983,235.704 809.028,222.975 818.073,212.353 827.119,203.519 836.164,196.191 845.21,190.127 \n",
       "  854.255,185.118 863.301,180.987 872.346,177.585 881.392,174.786 890.437,172.485 899.483,170.595 908.528,169.044 917.574,167.77 926.619,166.726 935.665,165.87 \n",
       "  944.71,165.168 953.756,164.593 962.801,164.122 971.846,163.736 980.892,163.419 989.937,163.16 998.983,162.948 1008.03,162.774 1017.07,162.632 1026.12,162.515 \n",
       "  1035.16,162.42 1044.21,162.342 1053.26,162.278 1062.3,162.225 1071.35,162.182 1080.39,162.147 1089.44,162.118 1098.48,162.095 1107.53,162.076 1116.57,162.06 \n",
       "  1125.62,162.047 \n",
       "  \"/>\n",
       "<path clip-path=\"url(#clip170)\" d=\"\n",
       "M961.829 272.585 L1120.8 272.585 L1120.8 168.905 L961.829 168.905  Z\n",
       "  \" fill=\"#ffffff\" fill-rule=\"evenodd\" fill-opacity=\"1\"/>\n",
       "<polyline clip-path=\"url(#clip170)\" style=\"stroke:#000000; stroke-linecap:round; stroke-linejoin:round; stroke-width:4; stroke-opacity:1; fill:none\" points=\"\n",
       "  961.829,272.585 1120.8,272.585 1120.8,168.905 961.829,168.905 961.829,272.585 \n",
       "  \"/>\n",
       "<polyline clip-path=\"url(#clip170)\" style=\"stroke:#009af9; stroke-linecap:round; stroke-linejoin:round; stroke-width:4; stroke-opacity:1; fill:none\" points=\"\n",
       "  972.483,220.745 1036.4,220.745 \n",
       "  \"/>\n",
       "<path clip-path=\"url(#clip170)\" d=\"M1060.9 240.432 Q1059.09 245.062 1057.38 246.474 Q1055.67 247.886 1052.8 247.886 L1049.4 247.886 L1049.4 244.321 L1051.9 244.321 Q1053.66 244.321 1054.63 243.488 Q1055.6 242.654 1056.78 239.552 L1057.54 237.608 L1047.06 212.099 L1051.57 212.099 L1059.67 232.377 L1067.78 212.099 L1072.29 212.099 L1060.9 240.432 Z\" fill=\"#000000\" fill-rule=\"evenodd\" fill-opacity=\"1\" /><path clip-path=\"url(#clip170)\" d=\"M1079.58 234.089 L1087.22 234.089 L1087.22 207.724 L1078.91 209.391 L1078.91 205.131 L1087.17 203.465 L1091.85 203.465 L1091.85 234.089 L1099.49 234.089 L1099.49 238.025 L1079.58 238.025 L1079.58 234.089 Z\" fill=\"#000000\" fill-rule=\"evenodd\" fill-opacity=\"1\" /><path clip-path=\"url(#clip170)\" d=\"\n",
       "M1393.94 1486.45 L2352.76 1486.45 L2352.76 123.472 L1393.94 123.472  Z\n",
       "  \" fill=\"#ffffff\" fill-rule=\"evenodd\" fill-opacity=\"1\"/>\n",
       "<defs>\n",
       "  <clipPath id=\"clip173\">\n",
       "    <rect x=\"1393\" y=\"123\" width=\"960\" height=\"1364\"/>\n",
       "  </clipPath>\n",
       "</defs>\n",
       "<polyline clip-path=\"url(#clip173)\" style=\"stroke:#000000; stroke-linecap:round; stroke-linejoin:round; stroke-width:2; stroke-opacity:0.1; fill:none\" points=\"\n",
       "  1511.53,1486.45 1511.53,123.472 \n",
       "  \"/>\n",
       "<polyline clip-path=\"url(#clip173)\" style=\"stroke:#000000; stroke-linecap:round; stroke-linejoin:round; stroke-width:2; stroke-opacity:0.1; fill:none\" points=\"\n",
       "  1692.44,1486.45 1692.44,123.472 \n",
       "  \"/>\n",
       "<polyline clip-path=\"url(#clip173)\" style=\"stroke:#000000; stroke-linecap:round; stroke-linejoin:round; stroke-width:2; stroke-opacity:0.1; fill:none\" points=\"\n",
       "  1873.35,1486.45 1873.35,123.472 \n",
       "  \"/>\n",
       "<polyline clip-path=\"url(#clip173)\" style=\"stroke:#000000; stroke-linecap:round; stroke-linejoin:round; stroke-width:2; stroke-opacity:0.1; fill:none\" points=\"\n",
       "  2054.26,1486.45 2054.26,123.472 \n",
       "  \"/>\n",
       "<polyline clip-path=\"url(#clip173)\" style=\"stroke:#000000; stroke-linecap:round; stroke-linejoin:round; stroke-width:2; stroke-opacity:0.1; fill:none\" points=\"\n",
       "  2235.16,1486.45 2235.16,123.472 \n",
       "  \"/>\n",
       "<polyline clip-path=\"url(#clip170)\" style=\"stroke:#000000; stroke-linecap:round; stroke-linejoin:round; stroke-width:4; stroke-opacity:1; fill:none\" points=\"\n",
       "  1393.94,1486.45 2352.76,1486.45 \n",
       "  \"/>\n",
       "<polyline clip-path=\"url(#clip170)\" style=\"stroke:#000000; stroke-linecap:round; stroke-linejoin:round; stroke-width:4; stroke-opacity:1; fill:none\" points=\"\n",
       "  1511.53,1486.45 1511.53,1467.55 \n",
       "  \"/>\n",
       "<polyline clip-path=\"url(#clip170)\" style=\"stroke:#000000; stroke-linecap:round; stroke-linejoin:round; stroke-width:4; stroke-opacity:1; fill:none\" points=\"\n",
       "  1692.44,1486.45 1692.44,1467.55 \n",
       "  \"/>\n",
       "<polyline clip-path=\"url(#clip170)\" style=\"stroke:#000000; stroke-linecap:round; stroke-linejoin:round; stroke-width:4; stroke-opacity:1; fill:none\" points=\"\n",
       "  1873.35,1486.45 1873.35,1467.55 \n",
       "  \"/>\n",
       "<polyline clip-path=\"url(#clip170)\" style=\"stroke:#000000; stroke-linecap:round; stroke-linejoin:round; stroke-width:4; stroke-opacity:1; fill:none\" points=\"\n",
       "  2054.26,1486.45 2054.26,1467.55 \n",
       "  \"/>\n",
       "<polyline clip-path=\"url(#clip170)\" style=\"stroke:#000000; stroke-linecap:round; stroke-linejoin:round; stroke-width:4; stroke-opacity:1; fill:none\" points=\"\n",
       "  2235.16,1486.45 2235.16,1467.55 \n",
       "  \"/>\n",
       "<path clip-path=\"url(#clip170)\" d=\"M1480.43 1532.02 L1510.1 1532.02 L1510.1 1535.95 L1480.43 1535.95 L1480.43 1532.02 Z\" fill=\"#000000\" fill-rule=\"evenodd\" fill-opacity=\"1\" /><path clip-path=\"url(#clip170)\" d=\"M1533.04 1518.36 L1521.24 1536.81 L1533.04 1536.81 L1533.04 1518.36 M1531.82 1514.29 L1537.7 1514.29 L1537.7 1536.81 L1542.63 1536.81 L1542.63 1540.7 L1537.7 1540.7 L1537.7 1548.85 L1533.04 1548.85 L1533.04 1540.7 L1517.44 1540.7 L1517.44 1536.19 L1531.82 1514.29 Z\" fill=\"#000000\" fill-rule=\"evenodd\" fill-opacity=\"1\" /><path clip-path=\"url(#clip170)\" d=\"M1662.38 1532.02 L1692.05 1532.02 L1692.05 1535.95 L1662.38 1535.95 L1662.38 1532.02 Z\" fill=\"#000000\" fill-rule=\"evenodd\" fill-opacity=\"1\" /><path clip-path=\"url(#clip170)\" d=\"M1706.17 1544.91 L1722.49 1544.91 L1722.49 1548.85 L1700.55 1548.85 L1700.55 1544.91 Q1703.21 1542.16 1707.8 1537.53 Q1712.4 1532.88 1713.58 1531.53 Q1715.83 1529.01 1716.71 1527.27 Q1717.61 1525.51 1717.61 1523.82 Q1717.61 1521.07 1715.67 1519.33 Q1713.74 1517.6 1710.64 1517.6 Q1708.44 1517.6 1705.99 1518.36 Q1703.56 1519.13 1700.78 1520.68 L1700.78 1515.95 Q1703.61 1514.82 1706.06 1514.24 Q1708.51 1513.66 1710.55 1513.66 Q1715.92 1513.66 1719.11 1516.35 Q1722.31 1519.03 1722.31 1523.52 Q1722.31 1525.65 1721.5 1527.57 Q1720.71 1529.47 1718.61 1532.07 Q1718.03 1532.74 1714.92 1535.95 Q1711.82 1539.15 1706.17 1544.91 Z\" fill=\"#000000\" fill-rule=\"evenodd\" fill-opacity=\"1\" /><path clip-path=\"url(#clip170)\" d=\"M1873.35 1517.37 Q1869.73 1517.37 1867.91 1520.93 Q1866.1 1524.47 1866.1 1531.6 Q1866.1 1538.71 1867.91 1542.27 Q1869.73 1545.82 1873.35 1545.82 Q1876.98 1545.82 1878.79 1542.27 Q1880.61 1538.71 1880.61 1531.6 Q1880.61 1524.47 1878.79 1520.93 Q1876.98 1517.37 1873.35 1517.37 M1873.35 1513.66 Q1879.16 1513.66 1882.21 1518.27 Q1885.29 1522.85 1885.29 1531.6 Q1885.29 1540.33 1882.21 1544.94 Q1879.16 1549.52 1873.35 1549.52 Q1867.54 1549.52 1864.46 1544.94 Q1861.4 1540.33 1861.4 1531.6 Q1861.4 1522.85 1864.46 1518.27 Q1867.54 1513.66 1873.35 1513.66 Z\" fill=\"#000000\" fill-rule=\"evenodd\" fill-opacity=\"1\" /><path clip-path=\"url(#clip170)\" d=\"M2048.91 1544.91 L2065.23 1544.91 L2065.23 1548.85 L2043.28 1548.85 L2043.28 1544.91 Q2045.95 1542.16 2050.53 1537.53 Q2055.13 1532.88 2056.32 1531.53 Q2058.56 1529.01 2059.44 1527.27 Q2060.34 1525.51 2060.34 1523.82 Q2060.34 1521.07 2058.4 1519.33 Q2056.48 1517.6 2053.38 1517.6 Q2051.18 1517.6 2048.72 1518.36 Q2046.29 1519.13 2043.51 1520.68 L2043.51 1515.95 Q2046.34 1514.82 2048.79 1514.24 Q2051.25 1513.66 2053.28 1513.66 Q2058.65 1513.66 2061.85 1516.35 Q2065.04 1519.03 2065.04 1523.52 Q2065.04 1525.65 2064.23 1527.57 Q2063.45 1529.47 2061.34 1532.07 Q2060.76 1532.74 2057.66 1535.95 Q2054.56 1539.15 2048.91 1544.91 Z\" fill=\"#000000\" fill-rule=\"evenodd\" fill-opacity=\"1\" /><path clip-path=\"url(#clip170)\" d=\"M2238.17 1518.36 L2226.37 1536.81 L2238.17 1536.81 L2238.17 1518.36 M2236.95 1514.29 L2242.83 1514.29 L2242.83 1536.81 L2247.76 1536.81 L2247.76 1540.7 L2242.83 1540.7 L2242.83 1548.85 L2238.17 1548.85 L2238.17 1540.7 L2222.57 1540.7 L2222.57 1536.19 L2236.95 1514.29 Z\" fill=\"#000000\" fill-rule=\"evenodd\" fill-opacity=\"1\" /><polyline clip-path=\"url(#clip173)\" style=\"stroke:#000000; stroke-linecap:round; stroke-linejoin:round; stroke-width:2; stroke-opacity:0.1; fill:none\" points=\"\n",
       "  1393.94,1447.87 2352.76,1447.87 \n",
       "  \"/>\n",
       "<polyline clip-path=\"url(#clip173)\" style=\"stroke:#000000; stroke-linecap:round; stroke-linejoin:round; stroke-width:2; stroke-opacity:0.1; fill:none\" points=\"\n",
       "  1393.94,1126.42 2352.76,1126.42 \n",
       "  \"/>\n",
       "<polyline clip-path=\"url(#clip173)\" style=\"stroke:#000000; stroke-linecap:round; stroke-linejoin:round; stroke-width:2; stroke-opacity:0.1; fill:none\" points=\"\n",
       "  1393.94,804.96 2352.76,804.96 \n",
       "  \"/>\n",
       "<polyline clip-path=\"url(#clip173)\" style=\"stroke:#000000; stroke-linecap:round; stroke-linejoin:round; stroke-width:2; stroke-opacity:0.1; fill:none\" points=\"\n",
       "  1393.94,483.503 2352.76,483.503 \n",
       "  \"/>\n",
       "<polyline clip-path=\"url(#clip173)\" style=\"stroke:#000000; stroke-linecap:round; stroke-linejoin:round; stroke-width:2; stroke-opacity:0.1; fill:none\" points=\"\n",
       "  1393.94,162.047 2352.76,162.047 \n",
       "  \"/>\n",
       "<polyline clip-path=\"url(#clip170)\" style=\"stroke:#000000; stroke-linecap:round; stroke-linejoin:round; stroke-width:4; stroke-opacity:1; fill:none\" points=\"\n",
       "  1393.94,1486.45 1393.94,123.472 \n",
       "  \"/>\n",
       "<polyline clip-path=\"url(#clip170)\" style=\"stroke:#000000; stroke-linecap:round; stroke-linejoin:round; stroke-width:4; stroke-opacity:1; fill:none\" points=\"\n",
       "  1393.94,1447.87 1412.83,1447.87 \n",
       "  \"/>\n",
       "<polyline clip-path=\"url(#clip170)\" style=\"stroke:#000000; stroke-linecap:round; stroke-linejoin:round; stroke-width:4; stroke-opacity:1; fill:none\" points=\"\n",
       "  1393.94,1126.42 1412.83,1126.42 \n",
       "  \"/>\n",
       "<polyline clip-path=\"url(#clip170)\" style=\"stroke:#000000; stroke-linecap:round; stroke-linejoin:round; stroke-width:4; stroke-opacity:1; fill:none\" points=\"\n",
       "  1393.94,804.96 1412.83,804.96 \n",
       "  \"/>\n",
       "<polyline clip-path=\"url(#clip170)\" style=\"stroke:#000000; stroke-linecap:round; stroke-linejoin:round; stroke-width:4; stroke-opacity:1; fill:none\" points=\"\n",
       "  1393.94,483.503 1412.83,483.503 \n",
       "  \"/>\n",
       "<polyline clip-path=\"url(#clip170)\" style=\"stroke:#000000; stroke-linecap:round; stroke-linejoin:round; stroke-width:4; stroke-opacity:1; fill:none\" points=\"\n",
       "  1393.94,162.047 1412.83,162.047 \n",
       "  \"/>\n",
       "<path clip-path=\"url(#clip170)\" d=\"M1250.99 1448.32 L1280.67 1448.32 L1280.67 1452.26 L1250.99 1452.26 L1250.99 1448.32 Z\" fill=\"#000000\" fill-rule=\"evenodd\" fill-opacity=\"1\" /><path clip-path=\"url(#clip170)\" d=\"M1291.57 1461.22 L1299.21 1461.22 L1299.21 1434.85 L1290.9 1436.52 L1290.9 1432.26 L1299.16 1430.59 L1303.84 1430.59 L1303.84 1461.22 L1311.48 1461.22 L1311.48 1465.15 L1291.57 1465.15 L1291.57 1461.22 Z\" fill=\"#000000\" fill-rule=\"evenodd\" fill-opacity=\"1\" /><path clip-path=\"url(#clip170)\" d=\"M1320.92 1459.27 L1325.81 1459.27 L1325.81 1465.15 L1320.92 1465.15 L1320.92 1459.27 Z\" fill=\"#000000\" fill-rule=\"evenodd\" fill-opacity=\"1\" /><path clip-path=\"url(#clip170)\" d=\"M1345.99 1433.67 Q1342.38 1433.67 1340.55 1437.24 Q1338.75 1440.78 1338.75 1447.91 Q1338.75 1455.01 1340.55 1458.58 Q1342.38 1462.12 1345.99 1462.12 Q1349.63 1462.12 1351.43 1458.58 Q1353.26 1455.01 1353.26 1447.91 Q1353.26 1440.78 1351.43 1437.24 Q1349.63 1433.67 1345.99 1433.67 M1345.99 1429.97 Q1351.8 1429.97 1354.86 1434.57 Q1357.94 1439.16 1357.94 1447.91 Q1357.94 1456.63 1354.86 1461.24 Q1351.8 1465.82 1345.99 1465.82 Q1340.18 1465.82 1337.1 1461.24 Q1334.05 1456.63 1334.05 1447.91 Q1334.05 1439.16 1337.1 1434.57 Q1340.18 1429.97 1345.99 1429.97 Z\" fill=\"#000000\" fill-rule=\"evenodd\" fill-opacity=\"1\" /><path clip-path=\"url(#clip170)\" d=\"M1251.99 1126.87 L1281.66 1126.87 L1281.66 1130.8 L1251.99 1130.8 L1251.99 1126.87 Z\" fill=\"#000000\" fill-rule=\"evenodd\" fill-opacity=\"1\" /><path clip-path=\"url(#clip170)\" d=\"M1301.76 1112.22 Q1298.14 1112.22 1296.32 1115.78 Q1294.51 1119.32 1294.51 1126.45 Q1294.51 1133.56 1296.32 1137.12 Q1298.14 1140.66 1301.76 1140.66 Q1305.39 1140.66 1307.2 1137.12 Q1309.02 1133.56 1309.02 1126.45 Q1309.02 1119.32 1307.2 1115.78 Q1305.39 1112.22 1301.76 1112.22 M1301.76 1108.51 Q1307.57 1108.51 1310.62 1113.12 Q1313.7 1117.7 1313.7 1126.45 Q1313.7 1135.18 1310.62 1139.78 Q1307.57 1144.37 1301.76 1144.37 Q1295.95 1144.37 1292.87 1139.78 Q1289.81 1135.18 1289.81 1126.45 Q1289.81 1117.7 1292.87 1113.12 Q1295.95 1108.51 1301.76 1108.51 Z\" fill=\"#000000\" fill-rule=\"evenodd\" fill-opacity=\"1\" /><path clip-path=\"url(#clip170)\" d=\"M1321.92 1137.82 L1326.8 1137.82 L1326.8 1143.7 L1321.92 1143.7 L1321.92 1137.82 Z\" fill=\"#000000\" fill-rule=\"evenodd\" fill-opacity=\"1\" /><path clip-path=\"url(#clip170)\" d=\"M1337.03 1109.14 L1355.39 1109.14 L1355.39 1113.07 L1341.32 1113.07 L1341.32 1121.54 Q1342.33 1121.2 1343.35 1121.03 Q1344.37 1120.85 1345.39 1120.85 Q1351.18 1120.85 1354.56 1124.02 Q1357.94 1127.19 1357.94 1132.61 Q1357.94 1138.19 1354.46 1141.29 Q1350.99 1144.37 1344.67 1144.37 Q1342.5 1144.37 1340.23 1144 Q1337.98 1143.63 1335.58 1142.89 L1335.58 1138.19 Q1337.66 1139.32 1339.88 1139.88 Q1342.1 1140.43 1344.58 1140.43 Q1348.58 1140.43 1350.92 1138.33 Q1353.26 1136.22 1353.26 1132.61 Q1353.26 1129 1350.92 1126.89 Q1348.58 1124.78 1344.58 1124.78 Q1342.7 1124.78 1340.83 1125.2 Q1338.98 1125.62 1337.03 1126.5 L1337.03 1109.14 Z\" fill=\"#000000\" fill-rule=\"evenodd\" fill-opacity=\"1\" /><path clip-path=\"url(#clip170)\" d=\"M1300.76 790.759 Q1297.15 790.759 1295.32 794.323 Q1293.52 797.865 1293.52 804.995 Q1293.52 812.101 1295.32 815.666 Q1297.15 819.208 1300.76 819.208 Q1304.39 819.208 1306.2 815.666 Q1308.03 812.101 1308.03 804.995 Q1308.03 797.865 1306.2 794.323 Q1304.39 790.759 1300.76 790.759 M1300.76 787.055 Q1306.57 787.055 1309.63 791.661 Q1312.7 796.245 1312.7 804.995 Q1312.7 813.722 1309.63 818.328 Q1306.57 822.911 1300.76 822.911 Q1294.95 822.911 1291.87 818.328 Q1288.82 813.722 1288.82 804.995 Q1288.82 796.245 1291.87 791.661 Q1294.95 787.055 1300.76 787.055 Z\" fill=\"#000000\" fill-rule=\"evenodd\" fill-opacity=\"1\" /><path clip-path=\"url(#clip170)\" d=\"M1320.92 816.36 L1325.81 816.36 L1325.81 822.24 L1320.92 822.24 L1320.92 816.36 Z\" fill=\"#000000\" fill-rule=\"evenodd\" fill-opacity=\"1\" /><path clip-path=\"url(#clip170)\" d=\"M1345.99 790.759 Q1342.38 790.759 1340.55 794.323 Q1338.75 797.865 1338.75 804.995 Q1338.75 812.101 1340.55 815.666 Q1342.38 819.208 1345.99 819.208 Q1349.63 819.208 1351.43 815.666 Q1353.26 812.101 1353.26 804.995 Q1353.26 797.865 1351.43 794.323 Q1349.63 790.759 1345.99 790.759 M1345.99 787.055 Q1351.8 787.055 1354.86 791.661 Q1357.94 796.245 1357.94 804.995 Q1357.94 813.722 1354.86 818.328 Q1351.8 822.911 1345.99 822.911 Q1340.18 822.911 1337.1 818.328 Q1334.05 813.722 1334.05 804.995 Q1334.05 796.245 1337.1 791.661 Q1340.18 787.055 1345.99 787.055 Z\" fill=\"#000000\" fill-rule=\"evenodd\" fill-opacity=\"1\" /><path clip-path=\"url(#clip170)\" d=\"M1301.76 469.302 Q1298.14 469.302 1296.32 472.867 Q1294.51 476.409 1294.51 483.538 Q1294.51 490.645 1296.32 494.209 Q1298.14 497.751 1301.76 497.751 Q1305.39 497.751 1307.2 494.209 Q1309.02 490.645 1309.02 483.538 Q1309.02 476.409 1307.2 472.867 Q1305.39 469.302 1301.76 469.302 M1301.76 465.598 Q1307.57 465.598 1310.62 470.205 Q1313.7 474.788 1313.7 483.538 Q1313.7 492.265 1310.62 496.871 Q1307.57 501.455 1301.76 501.455 Q1295.95 501.455 1292.87 496.871 Q1289.81 492.265 1289.81 483.538 Q1289.81 474.788 1292.87 470.205 Q1295.95 465.598 1301.76 465.598 Z\" fill=\"#000000\" fill-rule=\"evenodd\" fill-opacity=\"1\" /><path clip-path=\"url(#clip170)\" d=\"M1321.92 494.904 L1326.8 494.904 L1326.8 500.783 L1321.92 500.783 L1321.92 494.904 Z\" fill=\"#000000\" fill-rule=\"evenodd\" fill-opacity=\"1\" /><path clip-path=\"url(#clip170)\" d=\"M1337.03 466.223 L1355.39 466.223 L1355.39 470.159 L1341.32 470.159 L1341.32 478.631 Q1342.33 478.284 1343.35 478.122 Q1344.37 477.936 1345.39 477.936 Q1351.18 477.936 1354.56 481.108 Q1357.94 484.279 1357.94 489.696 Q1357.94 495.274 1354.46 498.376 Q1350.99 501.455 1344.67 501.455 Q1342.5 501.455 1340.23 501.084 Q1337.98 500.714 1335.58 499.973 L1335.58 495.274 Q1337.66 496.408 1339.88 496.964 Q1342.1 497.52 1344.58 497.52 Q1348.58 497.52 1350.92 495.413 Q1353.26 493.307 1353.26 489.696 Q1353.26 486.084 1350.92 483.978 Q1348.58 481.872 1344.58 481.872 Q1342.7 481.872 1340.83 482.288 Q1338.98 482.705 1337.03 483.584 L1337.03 466.223 Z\" fill=\"#000000\" fill-rule=\"evenodd\" fill-opacity=\"1\" /><path clip-path=\"url(#clip170)\" d=\"M1291.57 175.392 L1299.21 175.392 L1299.21 149.026 L1290.9 150.693 L1290.9 146.434 L1299.16 144.767 L1303.84 144.767 L1303.84 175.392 L1311.48 175.392 L1311.48 179.327 L1291.57 179.327 L1291.57 175.392 Z\" fill=\"#000000\" fill-rule=\"evenodd\" fill-opacity=\"1\" /><path clip-path=\"url(#clip170)\" d=\"M1320.92 173.447 L1325.81 173.447 L1325.81 179.327 L1320.92 179.327 L1320.92 173.447 Z\" fill=\"#000000\" fill-rule=\"evenodd\" fill-opacity=\"1\" /><path clip-path=\"url(#clip170)\" d=\"M1345.99 147.846 Q1342.38 147.846 1340.55 151.41 Q1338.75 154.952 1338.75 162.082 Q1338.75 169.188 1340.55 172.753 Q1342.38 176.295 1345.99 176.295 Q1349.63 176.295 1351.43 172.753 Q1353.26 169.188 1353.26 162.082 Q1353.26 154.952 1351.43 151.41 Q1349.63 147.846 1345.99 147.846 M1345.99 144.142 Q1351.8 144.142 1354.86 148.748 Q1357.94 153.332 1357.94 162.082 Q1357.94 170.808 1354.86 175.415 Q1351.8 179.998 1345.99 179.998 Q1340.18 179.998 1337.1 175.415 Q1334.05 170.808 1334.05 162.082 Q1334.05 153.332 1337.1 148.748 Q1340.18 144.142 1345.99 144.142 Z\" fill=\"#000000\" fill-rule=\"evenodd\" fill-opacity=\"1\" /><path clip-path=\"url(#clip170)\" d=\"M1730 45.1919 L1730 72.576 L1722.55 72.576 L1722.55 45.4349 Q1722.55 38.994 1720.04 35.7938 Q1717.53 32.5936 1712.5 32.5936 Q1706.47 32.5936 1702.99 36.4419 Q1699.5 40.2903 1699.5 46.9338 L1699.5 72.576 L1692.01 72.576 L1692.01 9.54393 L1699.5 9.54393 L1699.5 34.2544 Q1702.17 30.163 1705.78 28.1376 Q1709.43 26.1121 1714.17 26.1121 Q1721.98 26.1121 1725.99 30.9732 Q1730 35.7938 1730 45.1919 Z\" fill=\"#000000\" fill-rule=\"evenodd\" fill-opacity=\"1\" /><path clip-path=\"url(#clip170)\" d=\"M1765.49 49.7694 Q1756.46 49.7694 1752.97 51.8354 Q1749.49 53.9013 1749.49 58.8839 Q1749.49 62.8538 1752.08 65.2034 Q1754.72 67.5124 1759.21 67.5124 Q1765.41 67.5124 1769.14 63.1374 Q1772.9 58.7219 1772.9 51.4303 L1772.9 49.7694 L1765.49 49.7694 M1780.36 46.6907 L1780.36 72.576 L1772.9 72.576 L1772.9 65.6895 Q1770.35 69.8214 1766.54 71.8063 Q1762.74 73.7508 1757.23 73.7508 Q1750.26 73.7508 1746.13 69.8619 Q1742.04 65.9325 1742.04 59.3701 Q1742.04 51.7138 1747.14 47.825 Q1752.28 43.9361 1762.45 43.9361 L1772.9 43.9361 L1772.9 43.2069 Q1772.9 38.0623 1769.5 35.2672 Q1766.14 32.4315 1760.02 32.4315 Q1756.13 32.4315 1752.45 33.3632 Q1748.76 34.295 1745.36 36.1584 L1745.36 29.2718 Q1749.45 27.692 1753.3 26.9223 Q1757.15 26.1121 1760.79 26.1121 Q1770.64 26.1121 1775.5 31.2163 Q1780.36 36.3204 1780.36 46.6907 Z\" fill=\"#000000\" fill-rule=\"evenodd\" fill-opacity=\"1\" /><path clip-path=\"url(#clip170)\" d=\"M1822 34.1734 Q1820.74 33.4443 1819.25 33.1202 Q1817.79 32.7556 1816.01 32.7556 Q1809.69 32.7556 1806.28 36.8875 Q1802.92 40.9789 1802.92 48.6757 L1802.92 72.576 L1795.43 72.576 L1795.43 27.2059 L1802.92 27.2059 L1802.92 34.2544 Q1805.27 30.1225 1809.04 28.1376 Q1812.81 26.1121 1818.19 26.1121 Q1818.96 26.1121 1819.89 26.2337 Q1820.83 26.3147 1821.96 26.5172 L1822 34.1734 Z\" fill=\"#000000\" fill-rule=\"evenodd\" fill-opacity=\"1\" /><path clip-path=\"url(#clip170)\" d=\"M1858.22 34.0924 L1858.22 9.54393 L1865.67 9.54393 L1865.67 72.576 L1858.22 72.576 L1858.22 65.7705 Q1855.87 69.8214 1852.26 71.8063 Q1848.7 73.7508 1843.67 73.7508 Q1835.45 73.7508 1830.26 67.1883 Q1825.12 60.6258 1825.12 49.9314 Q1825.12 39.2371 1830.26 32.6746 Q1835.45 26.1121 1843.67 26.1121 Q1848.7 26.1121 1852.26 28.0971 Q1855.87 30.0415 1858.22 34.0924 M1832.82 49.9314 Q1832.82 58.1548 1836.18 62.8538 Q1839.58 67.5124 1845.5 67.5124 Q1851.41 67.5124 1854.81 62.8538 Q1858.22 58.1548 1858.22 49.9314 Q1858.22 41.7081 1854.81 37.0496 Q1851.41 32.3505 1845.5 32.3505 Q1839.58 32.3505 1836.18 37.0496 Q1832.82 41.7081 1832.82 49.9314 Z\" fill=\"#000000\" fill-rule=\"evenodd\" fill-opacity=\"1\" /><path clip-path=\"url(#clip170)\" d=\"M1888.4 14.324 L1888.4 27.2059 L1903.75 27.2059 L1903.75 32.9987 L1888.4 32.9987 L1888.4 57.6282 Q1888.4 63.1779 1889.89 64.7578 Q1891.43 66.3376 1896.09 66.3376 L1903.75 66.3376 L1903.75 72.576 L1896.09 72.576 Q1887.46 72.576 1884.18 69.3758 Q1880.9 66.1351 1880.9 57.6282 L1880.9 32.9987 L1875.43 32.9987 L1875.43 27.2059 L1880.9 27.2059 L1880.9 14.324 L1888.4 14.324 Z\" fill=\"#000000\" fill-rule=\"evenodd\" fill-opacity=\"1\" /><path clip-path=\"url(#clip170)\" d=\"M1934.17 49.7694 Q1925.14 49.7694 1921.65 51.8354 Q1918.17 53.9013 1918.17 58.8839 Q1918.17 62.8538 1920.76 65.2034 Q1923.39 67.5124 1927.89 67.5124 Q1934.09 67.5124 1937.82 63.1374 Q1941.58 58.7219 1941.58 51.4303 L1941.58 49.7694 L1934.17 49.7694 M1949.04 46.6907 L1949.04 72.576 L1941.58 72.576 L1941.58 65.6895 Q1939.03 69.8214 1935.22 71.8063 Q1931.42 73.7508 1925.91 73.7508 Q1918.94 73.7508 1914.81 69.8619 Q1910.72 65.9325 1910.72 59.3701 Q1910.72 51.7138 1915.82 47.825 Q1920.96 43.9361 1931.13 43.9361 L1941.58 43.9361 L1941.58 43.2069 Q1941.58 38.0623 1938.18 35.2672 Q1934.82 32.4315 1928.7 32.4315 Q1924.81 32.4315 1921.13 33.3632 Q1917.44 34.295 1914.04 36.1584 L1914.04 29.2718 Q1918.13 27.692 1921.98 26.9223 Q1925.83 26.1121 1929.47 26.1121 Q1939.31 26.1121 1944.18 31.2163 Q1949.04 36.3204 1949.04 46.6907 Z\" fill=\"#000000\" fill-rule=\"evenodd\" fill-opacity=\"1\" /><path clip-path=\"url(#clip170)\" d=\"M2002.1 45.1919 L2002.1 72.576 L1994.65 72.576 L1994.65 45.4349 Q1994.65 38.994 1992.14 35.7938 Q1989.63 32.5936 1984.6 32.5936 Q1978.57 32.5936 1975.08 36.4419 Q1971.6 40.2903 1971.6 46.9338 L1971.6 72.576 L1964.11 72.576 L1964.11 27.2059 L1971.6 27.2059 L1971.6 34.2544 Q1974.27 30.163 1977.88 28.1376 Q1981.53 26.1121 1986.26 26.1121 Q1994.08 26.1121 1998.09 30.9732 Q2002.1 35.7938 2002.1 45.1919 Z\" fill=\"#000000\" fill-rule=\"evenodd\" fill-opacity=\"1\" /><path clip-path=\"url(#clip170)\" d=\"M2054.68 45.1919 L2054.68 72.576 L2047.23 72.576 L2047.23 45.4349 Q2047.23 38.994 2044.72 35.7938 Q2042.21 32.5936 2037.18 32.5936 Q2031.15 32.5936 2027.67 36.4419 Q2024.18 40.2903 2024.18 46.9338 L2024.18 72.576 L2016.69 72.576 L2016.69 9.54393 L2024.18 9.54393 L2024.18 34.2544 Q2026.85 30.163 2030.46 28.1376 Q2034.11 26.1121 2038.85 26.1121 Q2046.66 26.1121 2050.67 30.9732 Q2054.68 35.7938 2054.68 45.1919 Z\" fill=\"#000000\" fill-rule=\"evenodd\" fill-opacity=\"1\" /><polyline clip-path=\"url(#clip173)\" style=\"stroke:#009af9; stroke-linecap:round; stroke-linejoin:round; stroke-width:4; stroke-opacity:1; fill:none\" points=\"\n",
       "  1421.07,1447.87 1430.12,1447.87 1439.16,1447.87 1448.21,1447.87 1457.25,1447.87 1466.3,1447.87 1475.35,1447.87 1484.39,1447.87 1493.44,1447.87 1502.48,1447.87 \n",
       "  1511.53,1447.87 1520.57,1447.87 1529.62,1447.87 1538.66,1447.87 1547.71,1447.87 1556.75,1447.87 1565.8,1447.87 1574.85,1447.87 1583.89,1447.87 1592.94,1447.87 \n",
       "  1601.98,1447.87 1611.03,1447.87 1620.07,1447.87 1629.12,1447.87 1638.16,1447.87 1647.21,1447.87 1656.25,1447.87 1665.3,1447.87 1674.35,1447.87 1683.39,1447.87 \n",
       "  1692.44,1447.87 1701.48,1447.87 1710.53,1447.87 1719.57,1447.87 1728.62,1447.87 1737.66,1447.87 1746.71,1447.87 1755.75,1447.87 1764.8,1447.87 1773.85,1447.87 \n",
       "  1782.89,1447.87 1791.94,1383.58 1800.98,1319.29 1810.03,1255 1819.07,1190.71 1828.12,1126.42 1837.16,1062.13 1846.21,997.834 1855.26,933.543 1864.3,869.251 \n",
       "  1873.35,804.96 1882.39,740.669 1891.44,676.377 1900.48,612.086 1909.53,547.795 1918.57,483.503 1927.62,419.212 1936.66,354.921 1945.71,290.63 1954.76,226.338 \n",
       "  1963.8,162.047 1972.85,162.047 1981.89,162.047 1990.94,162.047 1999.98,162.047 2009.03,162.047 2018.07,162.047 2027.12,162.047 2036.16,162.047 2045.21,162.047 \n",
       "  2054.26,162.047 2063.3,162.047 2072.35,162.047 2081.39,162.047 2090.44,162.047 2099.48,162.047 2108.53,162.047 2117.57,162.047 2126.62,162.047 2135.66,162.047 \n",
       "  2144.71,162.047 2153.76,162.047 2162.8,162.047 2171.85,162.047 2180.89,162.047 2189.94,162.047 2198.98,162.047 2208.03,162.047 2217.07,162.047 2226.12,162.047 \n",
       "  2235.16,162.047 2244.21,162.047 2253.26,162.047 2262.3,162.047 2271.35,162.047 2280.39,162.047 2289.44,162.047 2298.48,162.047 2307.53,162.047 2316.57,162.047 \n",
       "  2325.62,162.047 \n",
       "  \"/>\n",
       "<path clip-path=\"url(#clip170)\" d=\"\n",
       "M2161.83 272.585 L2320.8 272.585 L2320.8 168.905 L2161.83 168.905  Z\n",
       "  \" fill=\"#ffffff\" fill-rule=\"evenodd\" fill-opacity=\"1\"/>\n",
       "<polyline clip-path=\"url(#clip170)\" style=\"stroke:#000000; stroke-linecap:round; stroke-linejoin:round; stroke-width:4; stroke-opacity:1; fill:none\" points=\"\n",
       "  2161.83,272.585 2320.8,272.585 2320.8,168.905 2161.83,168.905 2161.83,272.585 \n",
       "  \"/>\n",
       "<polyline clip-path=\"url(#clip170)\" style=\"stroke:#009af9; stroke-linecap:round; stroke-linejoin:round; stroke-width:4; stroke-opacity:1; fill:none\" points=\"\n",
       "  2172.48,220.745 2236.4,220.745 \n",
       "  \"/>\n",
       "<path clip-path=\"url(#clip170)\" d=\"M2260.9 240.432 Q2259.09 245.062 2257.38 246.474 Q2255.67 247.886 2252.8 247.886 L2249.4 247.886 L2249.4 244.321 L2251.9 244.321 Q2253.66 244.321 2254.63 243.488 Q2255.6 242.654 2256.78 239.552 L2257.54 237.608 L2247.06 212.099 L2251.57 212.099 L2259.67 232.377 L2267.78 212.099 L2272.29 212.099 L2260.9 240.432 Z\" fill=\"#000000\" fill-rule=\"evenodd\" fill-opacity=\"1\" /><path clip-path=\"url(#clip170)\" d=\"M2279.58 234.089 L2287.22 234.089 L2287.22 207.724 L2278.91 209.391 L2278.91 205.131 L2287.17 203.465 L2291.85 203.465 L2291.85 234.089 L2299.49 234.089 L2299.49 238.025 L2279.58 238.025 L2279.58 234.089 Z\" fill=\"#000000\" fill-rule=\"evenodd\" fill-opacity=\"1\" /></svg>\n"
      ]
     },
     "execution_count": 91,
     "metadata": {},
     "output_type": "execute_result"
    }
   ],
   "source": [
    "p1 = plot(-5:0.1:5,tanh_fast,title=\"tanh_fast\")\n",
    "p2 = plot(-5:0.1:5,hardtanh,title=\"hardtanh\")\n",
    "plot(p1,p2)"
   ]
  },
  {
   "cell_type": "code",
   "execution_count": null,
   "metadata": {},
   "outputs": [],
   "source": []
  },
  {
   "cell_type": "markdown",
   "metadata": {},
   "source": [
    "### <span style=\"color:orange\">**Softmax**</span>\n",
    "\n",
    "- After your input passes through multiple layers (transformations) the final layer can be treated in various ways\n",
    "- If your goal is to do 'regression' that is predict continuous values, you can omit an activation function and omit a final non-linear transformation upon those last neurons\n",
    "- If your goal is to do some categorical value prediction, like to predict an animal from an image, then each neuron output at the final layer will correspond to one of the selections as your target variables are **one hot encoded** pushing correct answers to be a value 1 on the correct neuron and a 0 on the rest. In the ideal fitted neural network your final outputs will be multiple 0s and a single 1 value for the category position. The neurons here will have activation functions (commonly), and then feed into a softmax.\n",
    "- Softmax, takes a vector of values, and produces from a set of numbers a normalized vector of values. Normalized, meaning that the original set of number may not add to 1, but the normalized array (set of numbers) after using softmax will sum to 1. \n",
    "- The use of softmax is akin to taking the *max* in that there is preference for the values which are larger. You can consider the *max* function as a 'winner takes all* and the softmax amplifies the larger values in relation with the rest but does not completely disregard them. \n",
    "- The values of the softmax output can be taken as probabilities \n",
    "- The functional operation is akin to the *partition function* used in statistical mechanics\n",
    "\n",
    "The operation is to take the exponential of each value and then divide that value by the sum of all the exponentiated values\n",
    "- softmax(x) = exp.(x) ./ sum(exp.(x))"
   ]
  },
  {
   "cell_type": "code",
   "execution_count": 92,
   "metadata": {},
   "outputs": [
    {
     "data": {
      "text/plain": [
       "3-element Vector{Float64}:\n",
       " 0.28140804404603065\n",
       " 0.2546285279891599\n",
       " 0.4639634279648094"
      ]
     },
     "execution_count": 92,
     "metadata": {},
     "output_type": "execute_result"
    }
   ],
   "source": [
    "y_hat = [0.3, 0.2, 0.8]\n",
    "softmax( y_hat )"
   ]
  },
  {
   "cell_type": "markdown",
   "metadata": {},
   "source": [
    "### add more elements to see the change, more possible candidates <u>dilute</u> the candidate choice"
   ]
  },
  {
   "cell_type": "code",
   "execution_count": 93,
   "metadata": {},
   "outputs": [
    {
     "data": {
      "text/plain": [
       "10-element Vector{Float64}:\n",
       " 0.12583465263342328\n",
       " 0.11385990218827859\n",
       " 0.08434949014611497\n",
       " 0.08434949014611497\n",
       " 0.08434949014611497\n",
       " 0.08434949014611497\n",
       " 0.08434949014611497\n",
       " 0.08434949014611497\n",
       " 0.08434949014611497\n",
       " 0.16985901415549334"
      ]
     },
     "execution_count": 93,
     "metadata": {},
     "output_type": "execute_result"
    }
   ],
   "source": [
    "y_hat = [0.5, 0.4, 0.1, 0.1, 0.1, 0.1, 0.1, 0.1, 0.1, 0.8]\n",
    "softmax( y_hat )"
   ]
  },
  {
   "cell_type": "markdown",
   "metadata": {},
   "source": [
    "### the absolute difference in value (not only relative) matters in softmax"
   ]
  },
  {
   "cell_type": "code",
   "execution_count": 94,
   "metadata": {},
   "outputs": [
    {
     "data": {
      "text/plain": [
       "3-element Vector{Float64}:\n",
       " 0.006676412513376451\n",
       " 0.0024561149044509535\n",
       " 0.9908674725821726"
      ]
     },
     "execution_count": 94,
     "metadata": {},
     "output_type": "execute_result"
    }
   ],
   "source": [
    "y_hat = [3, 2, 8]\n",
    "softmax( y_hat )"
   ]
  },
  {
   "cell_type": "code",
   "execution_count": 95,
   "metadata": {},
   "outputs": [
    {
     "data": {
      "text/plain": [
       "10-element Vector{Float64}:\n",
       " 0.04633571203449501\n",
       " 0.0170459558495309\n",
       " 0.0008486681692761852\n",
       " 0.0008486681692761852\n",
       " 0.0008486681692761852\n",
       " 0.0008486681692761852\n",
       " 0.0008486681692761852\n",
       " 0.0008486681692761852\n",
       " 0.0008486681692761852\n",
       " 0.9306776549310407"
      ]
     },
     "execution_count": 95,
     "metadata": {},
     "output_type": "execute_result"
    }
   ],
   "source": [
    "y_hat = [5, 4, 1, 1, 1, 1, 1, 1, 1, 8]\n",
    "softmax( y_hat )"
   ]
  },
  {
   "cell_type": "markdown",
   "metadata": {},
   "source": [
    "### softmax can be applied to a matrix of values along the columns or the rows\n",
    "\n",
    "- If we apply a NN to multiple inputs (eg, to many images) we received mulitpe final output layer results which independently need the softmax applied to them. These multiple outputs are commonly kept in a matrix (multidimensional array)\n",
    "- These multiple NN outputs can be kept along the columns of the matrix or on the rows. If each indepdent output is a column of the matrix softmax must be applied to a specific column computing along the rows. analogously for the matrix storing the outputs along each row"
   ]
  },
  {
   "cell_type": "code",
   "execution_count": 96,
   "metadata": {},
   "outputs": [
    {
     "data": {
      "text/plain": [
       "3-element Vector{Int64}:\n",
       " 1\n",
       " 2\n",
       " 3"
      ]
     },
     "metadata": {},
     "output_type": "display_data"
    },
    {
     "data": {
      "text/plain": [
       "3-element Vector{Float64}:\n",
       " 0.09003057317038046\n",
       " 0.24472847105479764\n",
       " 0.6652409557748218"
      ]
     },
     "metadata": {},
     "output_type": "display_data"
    },
    {
     "data": {
      "text/plain": [
       "3-element Vector{Float64}:\n",
       " 1.0\n",
       " 1.0\n",
       " 1.0"
      ]
     },
     "metadata": {},
     "output_type": "display_data"
    }
   ],
   "source": [
    "y_hat = [1,2,3] #column\n",
    "display(y_hat)\n",
    "display( softmax( y_hat , dims=1 ) ) #results as expected as it moves along dim=1 (rows)\n",
    "display( softmax( y_hat , dims=2 ) ) #results of all 1 since each row has 1 value along the columns (dim=2)"
   ]
  },
  {
   "cell_type": "code",
   "execution_count": 97,
   "metadata": {},
   "outputs": [
    {
     "data": {
      "text/plain": [
       "3×2 Matrix{Int64}:\n",
       " 1  10\n",
       " 2  20\n",
       " 3  30"
      ]
     },
     "metadata": {},
     "output_type": "display_data"
    },
    {
     "data": {
      "text/plain": [
       "3×2 Matrix{Float64}:\n",
       " 0.0900306  2.06106e-9\n",
       " 0.244728   4.53979e-5\n",
       " 0.665241   0.999955"
      ]
     },
     "metadata": {},
     "output_type": "display_data"
    },
    {
     "data": {
      "text/plain": [
       "3×2 Matrix{Float64}:\n",
       " 0.000123395  0.999877\n",
       " 1.523e-8     1.0\n",
       " 1.87953e-12  1.0"
      ]
     },
     "metadata": {},
     "output_type": "display_data"
    }
   ],
   "source": [
    "y_hat = [1 10 ; 2 20 ; 3 30] # 3x2 matrix\n",
    "display(y_hat)\n",
    "display( softmax( y_hat , dims=1 ) ) #along the rows for each column\n",
    "display( softmax( y_hat , dims=2 ) ) #along the columns for each row"
   ]
  },
  {
   "cell_type": "markdown",
   "metadata": {},
   "source": [
    "### we use *softmax* as final layer output transformations, and not to activation functions between layers"
   ]
  },
  {
   "cell_type": "code",
   "execution_count": 98,
   "metadata": {},
   "outputs": [],
   "source": [
    "#right and wrong\n",
    "rdata = rand( 7 , 1 );"
   ]
  },
  {
   "cell_type": "code",
   "execution_count": 99,
   "metadata": {},
   "outputs": [
    {
     "data": {
      "text/plain": [
       "3×1 Matrix{Float64}:\n",
       " 0.5764759220093394\n",
       " 0.7617959324717983\n",
       " 0.4307001766972836"
      ]
     },
     "metadata": {},
     "output_type": "display_data"
    }
   ],
   "source": [
    "#works\n",
    "d5 = Chain( Dense( 7=>3 , sigmoid ))\n",
    "display( d5(rdata) )"
   ]
  },
  {
   "cell_type": "code",
   "execution_count": 100,
   "metadata": {},
   "outputs": [
    {
     "ename": "LoadError",
     "evalue": "`softmax(x)` called with a number, but it expects an array. Usually this is because a layer like `Dense(3,4,softmax)` is broadcasting it like an activation function; `softmax` needs to be outside the layer.",
     "output_type": "error",
     "traceback": [
      "`softmax(x)` called with a number, but it expects an array. Usually this is because a layer like `Dense(3,4,softmax)` is broadcasting it like an activation function; `softmax` needs to be outside the layer.",
      "",
      "Stacktrace:",
      "  [1] error(::String, ::String, ::String)",
      "    @ Base ./error.jl:44",
      "  [2] softmax(::Float64)",
      "    @ NNlib ~/.julia/packages/NNlib/Rh36b/src/softmax.jl:157",
      "  [3] _broadcast_getindex_evalf",
      "    @ ./broadcast.jl:670 [inlined]",
      "  [4] _broadcast_getindex",
      "    @ ./broadcast.jl:643 [inlined]",
      "  [5] getindex",
      "    @ ./broadcast.jl:597 [inlined]",
      "  [6] copy",
      "    @ ./broadcast.jl:899 [inlined]",
      "  [7] materialize",
      "    @ ./broadcast.jl:860 [inlined]",
      "  [8] (::Dense{typeof(softmax), Matrix{Float32}, Vector{Float32}})(x::Matrix{Float64})",
      "    @ Flux ~/.julia/packages/Flux/4k0Ls/src/layers/basic.jl:172",
      "  [9] macro expansion",
      "    @ ~/.julia/packages/Flux/4k0Ls/src/layers/basic.jl:53 [inlined]",
      " [10] _applychain",
      "    @ ~/.julia/packages/Flux/4k0Ls/src/layers/basic.jl:53 [inlined]",
      " [11] (::Chain{Tuple{Dense{typeof(softmax), Matrix{Float32}, Vector{Float32}}}})(x::Matrix{Float64})",
      "    @ Flux ~/.julia/packages/Flux/4k0Ls/src/layers/basic.jl:51",
      " [12] top-level scope",
      "    @ In[100]:3",
      " [13] eval",
      "    @ ./boot.jl:368 [inlined]",
      " [14] include_string(mapexpr::typeof(REPL.softscope), mod::Module, code::String, filename::String)",
      "    @ Base ./loading.jl:1428"
     ]
    }
   ],
   "source": [
    "#does not work\n",
    "d6 = Chain( Dense( 7=>3 , softmax ))\n",
    "display( d6(rdata) )"
   ]
  },
  {
   "cell_type": "code",
   "execution_count": 101,
   "metadata": {},
   "outputs": [
    {
     "data": {
      "text/plain": [
       "3×1 Matrix{Float64}:\n",
       " 0.31530702204006406\n",
       " 0.4468884444113666\n",
       " 0.23780453354856934"
      ]
     },
     "metadata": {},
     "output_type": "display_data"
    }
   ],
   "source": [
    "#works by placing the softmax after the 'activation' which when empty is identity\n",
    "d7 = Chain( Dense( 7=>3 ) , softmax )\n",
    "display( d7(rdata) )"
   ]
  },
  {
   "cell_type": "code",
   "execution_count": 102,
   "metadata": {},
   "outputs": [
    {
     "data": {
      "text/plain": [
       "3×1 Matrix{Float64}:\n",
       " 0.565842024875295\n",
       " 0.1868590381440328\n",
       " 0.24729893698067218"
      ]
     },
     "metadata": {},
     "output_type": "display_data"
    }
   ],
   "source": [
    "#works by placing the softmax after the 'activation'\n",
    "d7 = Chain( Dense( 7=>3 , hardtanh ) , softmax )\n",
    "display( d7(rdata) )"
   ]
  },
  {
   "cell_type": "code",
   "execution_count": null,
   "metadata": {},
   "outputs": [],
   "source": []
  },
  {
   "cell_type": "code",
   "execution_count": null,
   "metadata": {},
   "outputs": [],
   "source": []
  },
  {
   "cell_type": "markdown",
   "metadata": {},
   "source": [
    "### <span style=\"color:orange\">DataLoader</span>\n",
    "\n",
    "- It is convenient to feed data to the **train!** function via the DataLoader. **train!** updates the parameters according to the gradient and optimizer, and the DataLoader takes the dataset and passes in the tuples of data in the (x,y) or (features,target) variable format\n",
    "- It is similar in concept to how R xgboost uses can package the training data \n",
    "- DataLoader can be used to produce 'batches' (mini-batches) of data so that the gradient is not based upon the full \n",
    "- The DataLoader can be used in multiple ways and there are different uses in conjunction with the training schemes\n",
    "- DataLoader(data; [batchsize, buffer, collate, parallel, partial, rng, shuffle])\n",
    "- Takes as input a single data array, a tuple (or a named tuple) of arrays, *the last dimension in each array is the observation dimension*\n",
    "- Default batchsize is 1\n",
    "- can be made to run batches in parallel"
   ]
  },
  {
   "cell_type": "markdown",
   "metadata": {},
   "source": [
    "### <span style=\"color:orange\">In Flux **features span rows**</span>"
   ]
  },
  {
   "cell_type": "code",
   "execution_count": 105,
   "metadata": {},
   "outputs": [
    {
     "data": {
      "text/plain": [
       "(10, 20)"
      ]
     },
     "metadata": {},
     "output_type": "display_data"
    },
    {
     "data": {
      "text/plain": [
       "(10, 20)"
      ]
     },
     "metadata": {},
     "output_type": "display_data"
    },
    {
     "data": {
      "text/plain": [
       "(10, 20)"
      ]
     },
     "metadata": {},
     "output_type": "display_data"
    },
    {
     "data": {
      "text/plain": [
       "(10, 20)"
      ]
     },
     "metadata": {},
     "output_type": "display_data"
    },
    {
     "data": {
      "text/plain": [
       "(10, 20)"
      ]
     },
     "metadata": {},
     "output_type": "display_data"
    }
   ],
   "source": [
    "#check the sizes of the batches\n",
    "Xtrain = rand(10, 100);\n",
    "array_loader = Flux.DataLoader(Xtrain, batchsize=20);\n",
    "for mbatch in array_loader\n",
    "    display( size(mbatch) )\n",
    "end"
   ]
  },
  {
   "cell_type": "code",
   "execution_count": 154,
   "metadata": {},
   "outputs": [
    {
     "name": "stdout",
     "output_type": "stream",
     "text": [
      "(10, 5)\n",
      "(5,)\n",
      "(10, 5)\n",
      "(5,)\n",
      "(10, 5)\n",
      "(5,)\n",
      "(10, 5)\n",
      "(5,)\n",
      "(10, 5)\n",
      "(5,)\n",
      "(10, 5)\n",
      "(5,)\n",
      "(10, 5)\n",
      "(5,)\n",
      "(10, 5)\n",
      "(5,)\n",
      "(10, 5)\n",
      "(5,)\n",
      "(10, 5)\n",
      "(5,)\n",
      "(10, 5)\n",
      "(5,)\n",
      "(10, 5)\n",
      "(5,)\n",
      "(10, 5)\n",
      "(5,)\n",
      "(10, 5)\n",
      "(5,)\n",
      "(10, 5)\n",
      "(5,)\n",
      "(10, 5)\n",
      "(5,)\n",
      "(10, 5)\n",
      "(5,)\n",
      "(10, 5)\n",
      "(5,)\n",
      "(10, 5)\n",
      "(5,)\n",
      "(10, 5)\n",
      "(5,)\n"
     ]
    }
   ],
   "source": [
    "Xtrain = rand(10, 100);\n",
    "Ytrain = rand([\"a\",\"b\",\"c\"], 100);\n",
    "#just like with R's XGBoost we can set the data and label and then have the data and label in each batch\n",
    "train_loader = Flux.DataLoader((data=Xtrain, label=Ytrain), batchsize=5);\n",
    "for batch in train_loader\n",
    "    println( size(batch.data) )\n",
    "    println( size(batch.label) )\n",
    "end"
   ]
  },
  {
   "cell_type": "code",
   "execution_count": 157,
   "metadata": {},
   "outputs": [
    {
     "name": "stdout",
     "output_type": "stream",
     "text": [
      "(10, 5)\n",
      "(5,)\n",
      "(10, 5)\n",
      "(5,)\n",
      "(10, 5)\n",
      "(5,)\n",
      "(10, 5)\n",
      "(5,)\n",
      "(10, 5)\n",
      "(5,)\n",
      "(10, 5)\n",
      "(5,)\n",
      "(10, 5)\n",
      "(5,)\n",
      "(10, 5)\n",
      "(5,)\n",
      "(10, 5)\n",
      "(5,)\n",
      "(10, 5)\n",
      "(5,)\n",
      "(10, 5)\n",
      "(5,)\n",
      "(10, 5)\n",
      "(5,)\n",
      "(10, 5)\n",
      "(5,)\n",
      "(10, 5)\n",
      "(5,)\n",
      "(10, 5)\n",
      "(5,)\n",
      "(10, 5)\n",
      "(5,)\n",
      "(10, 5)\n",
      "(5,)\n",
      "(10, 5)\n",
      "(5,)\n",
      "(10, 5)\n",
      "(5,)\n",
      "(10, 5)\n",
      "(5,)\n"
     ]
    }
   ],
   "source": [
    "Xtrain = rand(10, 100);\n",
    "Ytrain = rand([\"a\",\"b\",\"c\"], 100);\n",
    "train_loader = Flux.DataLoader((data=Xtrain, label=Ytrain), batchsize=5);\n",
    "#we can 'destructure' the batch of the data and label at the start of the loop\n",
    "for (Xdata, Ylabel) in train_loader\n",
    "    println( size(Xdata) )\n",
    "    println( size(Ylabel) )\n",
    "end"
   ]
  },
  {
   "cell_type": "code",
   "execution_count": 161,
   "metadata": {},
   "outputs": [
    {
     "name": "stdout",
     "output_type": "stream",
     "text": [
      "epoch num: 1\n",
      "epoch num: 2\n",
      "epoch num: 3\n",
      "epoch num: 4\n",
      "epoch num: 5\n"
     ]
    }
   ],
   "source": [
    "Xtrain = rand(10, 100);\n",
    "Ytrain = rand([\"a\",\"b\",\"c\"], 100);\n",
    "train_loader = Flux.DataLoader((data=Xtrain, label=Ytrain), batchsize=5 , shuffle=true);\n",
    "#we can 'destructure' the batch of the data and label at the start of the loop\n",
    "#we perform multiple passes via epochs for the training scheme\n",
    "for epoch in 1:5\n",
    "    for (Xdata, Ylabel) in train_loader\n",
    "        @assert size(Xdata) == (10, 5)\n",
    "        @assert size(Ylabel) == (5,)\n",
    "    end\n",
    "    println(\"epoch num: $(epoch)\")\n",
    "end"
   ]
  },
  {
   "cell_type": "code",
   "execution_count": null,
   "metadata": {},
   "outputs": [],
   "source": []
  },
  {
   "cell_type": "code",
   "execution_count": null,
   "metadata": {},
   "outputs": [],
   "source": []
  },
  {
   "cell_type": "code",
   "execution_count": null,
   "metadata": {},
   "outputs": [],
   "source": [
    "### <span style=\"color:orange\"></span>"
   ]
  },
  {
   "cell_type": "code",
   "execution_count": null,
   "metadata": {},
   "outputs": [],
   "source": [
    "#!!!!!!!xxxxx"
   ]
  },
  {
   "cell_type": "code",
   "execution_count": null,
   "metadata": {},
   "outputs": [],
   "source": []
  },
  {
   "cell_type": "code",
   "execution_count": null,
   "metadata": {},
   "outputs": [],
   "source": []
  },
  {
   "cell_type": "code",
   "execution_count": null,
   "metadata": {},
   "outputs": [],
   "source": []
  },
  {
   "cell_type": "code",
   "execution_count": null,
   "metadata": {},
   "outputs": [],
   "source": []
  },
  {
   "cell_type": "code",
   "execution_count": null,
   "metadata": {},
   "outputs": [],
   "source": []
  },
  {
   "cell_type": "code",
   "execution_count": null,
   "metadata": {},
   "outputs": [],
   "source": []
  },
  {
   "cell_type": "code",
   "execution_count": null,
   "metadata": {},
   "outputs": [],
   "source": []
  },
  {
   "cell_type": "markdown",
   "metadata": {},
   "source": [
    "### <span style=\"color:orange\">Look at a simple function to 'fit'</span>"
   ]
  },
  {
   "cell_type": "code",
   "execution_count": 2,
   "metadata": {},
   "outputs": [
    {
     "data": {
      "text/plain": [
       "target_function (generic function with 1 method)"
      ]
     },
     "execution_count": 2,
     "metadata": {},
     "output_type": "execute_result"
    }
   ],
   "source": [
    "function target_function(x)\n",
    "    4x + 2\n",
    "end"
   ]
  },
  {
   "cell_type": "markdown",
   "metadata": {},
   "source": [
    "### <span style=\"color:orange\">training and testing data</span>"
   ]
  },
  {
   "cell_type": "code",
   "execution_count": 3,
   "metadata": {},
   "outputs": [
    {
     "data": {
      "text/plain": [
       "([0 1 … 4 5], [6 7 … 9 10])"
      ]
     },
     "execution_count": 3,
     "metadata": {},
     "output_type": "execute_result"
    }
   ],
   "source": [
    "x_train, x_test = hcat(0:5...), hcat(6:10...)"
   ]
  },
  {
   "cell_type": "code",
   "execution_count": 4,
   "metadata": {},
   "outputs": [
    {
     "data": {
      "text/plain": [
       "([2 6 … 18 22], [26 30 … 38 42])"
      ]
     },
     "execution_count": 4,
     "metadata": {},
     "output_type": "execute_result"
    }
   ],
   "source": [
    "y_train, y_test = target_function.(x_train), target_function.(x_test)"
   ]
  },
  {
   "cell_type": "code",
   "execution_count": 5,
   "metadata": {},
   "outputs": [
    {
     "data": {
      "image/svg+xml": [
       "<?xml version=\"1.0\" encoding=\"utf-8\"?>\n",
       "<svg xmlns=\"http://www.w3.org/2000/svg\" xmlns:xlink=\"http://www.w3.org/1999/xlink\" width=\"600\" height=\"400\" viewBox=\"0 0 2400 1600\">\n",
       "<defs>\n",
       "  <clipPath id=\"clip140\">\n",
       "    <rect x=\"0\" y=\"0\" width=\"2400\" height=\"1600\"/>\n",
       "  </clipPath>\n",
       "</defs>\n",
       "<path clip-path=\"url(#clip140)\" d=\"\n",
       "M0 1600 L2400 1600 L2400 0 L0 0  Z\n",
       "  \" fill=\"#ffffff\" fill-rule=\"evenodd\" fill-opacity=\"1\"/>\n",
       "<defs>\n",
       "  <clipPath id=\"clip141\">\n",
       "    <rect x=\"480\" y=\"0\" width=\"1681\" height=\"1600\"/>\n",
       "  </clipPath>\n",
       "</defs>\n",
       "<path clip-path=\"url(#clip140)\" d=\"\n",
       "M140.696 1486.45 L2352.76 1486.45 L2352.76 47.2441 L140.696 47.2441  Z\n",
       "  \" fill=\"#ffffff\" fill-rule=\"evenodd\" fill-opacity=\"1\"/>\n",
       "<defs>\n",
       "  <clipPath id=\"clip142\">\n",
       "    <rect x=\"140\" y=\"47\" width=\"2213\" height=\"1440\"/>\n",
       "  </clipPath>\n",
       "</defs>\n",
       "<polyline clip-path=\"url(#clip142)\" style=\"stroke:#000000; stroke-linecap:round; stroke-linejoin:round; stroke-width:2; stroke-opacity:0.1; fill:none\" points=\"\n",
       "  203.301,1486.45 203.301,47.2441 \n",
       "  \"/>\n",
       "<polyline clip-path=\"url(#clip142)\" style=\"stroke:#000000; stroke-linecap:round; stroke-linejoin:round; stroke-width:2; stroke-opacity:0.1; fill:none\" points=\"\n",
       "  620.671,1486.45 620.671,47.2441 \n",
       "  \"/>\n",
       "<polyline clip-path=\"url(#clip142)\" style=\"stroke:#000000; stroke-linecap:round; stroke-linejoin:round; stroke-width:2; stroke-opacity:0.1; fill:none\" points=\"\n",
       "  1038.04,1486.45 1038.04,47.2441 \n",
       "  \"/>\n",
       "<polyline clip-path=\"url(#clip142)\" style=\"stroke:#000000; stroke-linecap:round; stroke-linejoin:round; stroke-width:2; stroke-opacity:0.1; fill:none\" points=\"\n",
       "  1455.41,1486.45 1455.41,47.2441 \n",
       "  \"/>\n",
       "<polyline clip-path=\"url(#clip142)\" style=\"stroke:#000000; stroke-linecap:round; stroke-linejoin:round; stroke-width:2; stroke-opacity:0.1; fill:none\" points=\"\n",
       "  1872.78,1486.45 1872.78,47.2441 \n",
       "  \"/>\n",
       "<polyline clip-path=\"url(#clip142)\" style=\"stroke:#000000; stroke-linecap:round; stroke-linejoin:round; stroke-width:2; stroke-opacity:0.1; fill:none\" points=\"\n",
       "  2290.15,1486.45 2290.15,47.2441 \n",
       "  \"/>\n",
       "<polyline clip-path=\"url(#clip140)\" style=\"stroke:#000000; stroke-linecap:round; stroke-linejoin:round; stroke-width:4; stroke-opacity:1; fill:none\" points=\"\n",
       "  140.696,1486.45 2352.76,1486.45 \n",
       "  \"/>\n",
       "<polyline clip-path=\"url(#clip140)\" style=\"stroke:#000000; stroke-linecap:round; stroke-linejoin:round; stroke-width:4; stroke-opacity:1; fill:none\" points=\"\n",
       "  203.301,1486.45 203.301,1467.55 \n",
       "  \"/>\n",
       "<polyline clip-path=\"url(#clip140)\" style=\"stroke:#000000; stroke-linecap:round; stroke-linejoin:round; stroke-width:4; stroke-opacity:1; fill:none\" points=\"\n",
       "  620.671,1486.45 620.671,1467.55 \n",
       "  \"/>\n",
       "<polyline clip-path=\"url(#clip140)\" style=\"stroke:#000000; stroke-linecap:round; stroke-linejoin:round; stroke-width:4; stroke-opacity:1; fill:none\" points=\"\n",
       "  1038.04,1486.45 1038.04,1467.55 \n",
       "  \"/>\n",
       "<polyline clip-path=\"url(#clip140)\" style=\"stroke:#000000; stroke-linecap:round; stroke-linejoin:round; stroke-width:4; stroke-opacity:1; fill:none\" points=\"\n",
       "  1455.41,1486.45 1455.41,1467.55 \n",
       "  \"/>\n",
       "<polyline clip-path=\"url(#clip140)\" style=\"stroke:#000000; stroke-linecap:round; stroke-linejoin:round; stroke-width:4; stroke-opacity:1; fill:none\" points=\"\n",
       "  1872.78,1486.45 1872.78,1467.55 \n",
       "  \"/>\n",
       "<polyline clip-path=\"url(#clip140)\" style=\"stroke:#000000; stroke-linecap:round; stroke-linejoin:round; stroke-width:4; stroke-opacity:1; fill:none\" points=\"\n",
       "  2290.15,1486.45 2290.15,1467.55 \n",
       "  \"/>\n",
       "<path clip-path=\"url(#clip140)\" d=\"M203.301 1517.37 Q199.69 1517.37 197.861 1520.93 Q196.056 1524.47 196.056 1531.6 Q196.056 1538.71 197.861 1542.27 Q199.69 1545.82 203.301 1545.82 Q206.935 1545.82 208.741 1542.27 Q210.57 1538.71 210.57 1531.6 Q210.57 1524.47 208.741 1520.93 Q206.935 1517.37 203.301 1517.37 M203.301 1513.66 Q209.111 1513.66 212.167 1518.27 Q215.245 1522.85 215.245 1531.6 Q215.245 1540.33 212.167 1544.94 Q209.111 1549.52 203.301 1549.52 Q197.491 1549.52 194.412 1544.94 Q191.357 1540.33 191.357 1531.6 Q191.357 1522.85 194.412 1518.27 Q197.491 1513.66 203.301 1513.66 Z\" fill=\"#000000\" fill-rule=\"evenodd\" fill-opacity=\"1\" /><path clip-path=\"url(#clip140)\" d=\"M611.053 1544.91 L618.692 1544.91 L618.692 1518.55 L610.382 1520.21 L610.382 1515.95 L618.645 1514.29 L623.321 1514.29 L623.321 1544.91 L630.96 1544.91 L630.96 1548.85 L611.053 1548.85 L611.053 1544.91 Z\" fill=\"#000000\" fill-rule=\"evenodd\" fill-opacity=\"1\" /><path clip-path=\"url(#clip140)\" d=\"M1032.69 1544.91 L1049.01 1544.91 L1049.01 1548.85 L1027.07 1548.85 L1027.07 1544.91 Q1029.73 1542.16 1034.31 1537.53 Q1038.92 1532.88 1040.1 1531.53 Q1042.35 1529.01 1043.23 1527.27 Q1044.13 1525.51 1044.13 1523.82 Q1044.13 1521.07 1042.18 1519.33 Q1040.26 1517.6 1037.16 1517.6 Q1034.96 1517.6 1032.51 1518.36 Q1030.08 1519.13 1027.3 1520.68 L1027.3 1515.95 Q1030.12 1514.82 1032.58 1514.24 Q1035.03 1513.66 1037.07 1513.66 Q1042.44 1513.66 1045.63 1516.35 Q1048.83 1519.03 1048.83 1523.52 Q1048.83 1525.65 1048.02 1527.57 Q1047.23 1529.47 1045.12 1532.07 Q1044.55 1532.74 1041.44 1535.95 Q1038.34 1539.15 1032.69 1544.91 Z\" fill=\"#000000\" fill-rule=\"evenodd\" fill-opacity=\"1\" /><path clip-path=\"url(#clip140)\" d=\"M1459.66 1530.21 Q1463.01 1530.93 1464.89 1533.2 Q1466.79 1535.47 1466.79 1538.8 Q1466.79 1543.92 1463.27 1546.72 Q1459.75 1549.52 1453.27 1549.52 Q1451.09 1549.52 1448.78 1549.08 Q1446.49 1548.66 1444.03 1547.81 L1444.03 1543.29 Q1445.98 1544.43 1448.29 1545.01 Q1450.61 1545.58 1453.13 1545.58 Q1457.53 1545.58 1459.82 1543.85 Q1462.14 1542.11 1462.14 1538.8 Q1462.14 1535.75 1459.98 1534.03 Q1457.85 1532.3 1454.03 1532.3 L1450.01 1532.3 L1450.01 1528.45 L1454.22 1528.45 Q1457.67 1528.45 1459.5 1527.09 Q1461.32 1525.7 1461.32 1523.11 Q1461.32 1520.45 1459.43 1519.03 Q1457.55 1517.6 1454.03 1517.6 Q1452.11 1517.6 1449.91 1518.01 Q1447.71 1518.43 1445.08 1519.31 L1445.08 1515.14 Q1447.74 1514.4 1450.05 1514.03 Q1452.39 1513.66 1454.45 1513.66 Q1459.77 1513.66 1462.88 1516.09 Q1465.98 1518.5 1465.98 1522.62 Q1465.98 1525.49 1464.33 1527.48 Q1462.69 1529.45 1459.66 1530.21 Z\" fill=\"#000000\" fill-rule=\"evenodd\" fill-opacity=\"1\" /><path clip-path=\"url(#clip140)\" d=\"M1875.79 1518.36 L1863.98 1536.81 L1875.79 1536.81 L1875.79 1518.36 M1874.56 1514.29 L1880.44 1514.29 L1880.44 1536.81 L1885.37 1536.81 L1885.37 1540.7 L1880.44 1540.7 L1880.44 1548.85 L1875.79 1548.85 L1875.79 1540.7 L1860.19 1540.7 L1860.19 1536.19 L1874.56 1514.29 Z\" fill=\"#000000\" fill-rule=\"evenodd\" fill-opacity=\"1\" /><path clip-path=\"url(#clip140)\" d=\"M2280.43 1514.29 L2298.78 1514.29 L2298.78 1518.22 L2284.71 1518.22 L2284.71 1526.7 Q2285.73 1526.35 2286.75 1526.19 Q2287.77 1526 2288.78 1526 Q2294.57 1526 2297.95 1529.17 Q2301.33 1532.34 2301.33 1537.76 Q2301.33 1543.34 2297.86 1546.44 Q2294.39 1549.52 2288.07 1549.52 Q2285.89 1549.52 2283.62 1549.15 Q2281.38 1548.78 2278.97 1548.04 L2278.97 1543.34 Q2281.05 1544.47 2283.28 1545.03 Q2285.5 1545.58 2287.97 1545.58 Q2291.98 1545.58 2294.32 1543.48 Q2296.66 1541.37 2296.66 1537.76 Q2296.66 1534.15 2294.32 1532.04 Q2291.98 1529.94 2287.97 1529.94 Q2286.1 1529.94 2284.22 1530.35 Q2282.37 1530.77 2280.43 1531.65 L2280.43 1514.29 Z\" fill=\"#000000\" fill-rule=\"evenodd\" fill-opacity=\"1\" /><polyline clip-path=\"url(#clip142)\" style=\"stroke:#000000; stroke-linecap:round; stroke-linejoin:round; stroke-width:2; stroke-opacity:0.1; fill:none\" points=\"\n",
       "  140.696,1242.05 2352.76,1242.05 \n",
       "  \"/>\n",
       "<polyline clip-path=\"url(#clip142)\" style=\"stroke:#000000; stroke-linecap:round; stroke-linejoin:round; stroke-width:2; stroke-opacity:0.1; fill:none\" points=\"\n",
       "  140.696,902.62 2352.76,902.62 \n",
       "  \"/>\n",
       "<polyline clip-path=\"url(#clip142)\" style=\"stroke:#000000; stroke-linecap:round; stroke-linejoin:round; stroke-width:2; stroke-opacity:0.1; fill:none\" points=\"\n",
       "  140.696,563.185 2352.76,563.185 \n",
       "  \"/>\n",
       "<polyline clip-path=\"url(#clip142)\" style=\"stroke:#000000; stroke-linecap:round; stroke-linejoin:round; stroke-width:2; stroke-opacity:0.1; fill:none\" points=\"\n",
       "  140.696,223.75 2352.76,223.75 \n",
       "  \"/>\n",
       "<polyline clip-path=\"url(#clip140)\" style=\"stroke:#000000; stroke-linecap:round; stroke-linejoin:round; stroke-width:4; stroke-opacity:1; fill:none\" points=\"\n",
       "  140.696,1486.45 140.696,47.2441 \n",
       "  \"/>\n",
       "<polyline clip-path=\"url(#clip140)\" style=\"stroke:#000000; stroke-linecap:round; stroke-linejoin:round; stroke-width:4; stroke-opacity:1; fill:none\" points=\"\n",
       "  140.696,1242.05 159.593,1242.05 \n",
       "  \"/>\n",
       "<polyline clip-path=\"url(#clip140)\" style=\"stroke:#000000; stroke-linecap:round; stroke-linejoin:round; stroke-width:4; stroke-opacity:1; fill:none\" points=\"\n",
       "  140.696,902.62 159.593,902.62 \n",
       "  \"/>\n",
       "<polyline clip-path=\"url(#clip140)\" style=\"stroke:#000000; stroke-linecap:round; stroke-linejoin:round; stroke-width:4; stroke-opacity:1; fill:none\" points=\"\n",
       "  140.696,563.185 159.593,563.185 \n",
       "  \"/>\n",
       "<polyline clip-path=\"url(#clip140)\" style=\"stroke:#000000; stroke-linecap:round; stroke-linejoin:round; stroke-width:4; stroke-opacity:1; fill:none\" points=\"\n",
       "  140.696,223.75 159.593,223.75 \n",
       "  \"/>\n",
       "<path clip-path=\"url(#clip140)\" d=\"M83.7929 1224.77 L102.149 1224.77 L102.149 1228.71 L88.0753 1228.71 L88.0753 1237.18 Q89.0938 1236.83 90.1123 1236.67 Q91.1308 1236.49 92.1493 1236.49 Q97.9363 1236.49 101.316 1239.66 Q104.696 1242.83 104.696 1248.25 Q104.696 1253.83 101.223 1256.93 Q97.7511 1260.01 91.4317 1260.01 Q89.2558 1260.01 86.9873 1259.64 Q84.7419 1259.27 82.3346 1258.52 L82.3346 1253.83 Q84.4179 1254.96 86.6401 1255.52 Q88.8623 1256.07 91.3391 1256.07 Q95.3437 1256.07 97.6817 1253.96 Q100.02 1251.86 100.02 1248.25 Q100.02 1244.64 97.6817 1242.53 Q95.3437 1240.42 91.3391 1240.42 Q89.4641 1240.42 87.5892 1240.84 Q85.7373 1241.26 83.7929 1242.14 L83.7929 1224.77 Z\" fill=\"#000000\" fill-rule=\"evenodd\" fill-opacity=\"1\" /><path clip-path=\"url(#clip140)\" d=\"M53.3995 915.965 L61.0384 915.965 L61.0384 889.599 L52.7282 891.266 L52.7282 887.007 L60.9921 885.34 L65.668 885.34 L65.668 915.965 L73.3068 915.965 L73.3068 919.9 L53.3995 919.9 L53.3995 915.965 Z\" fill=\"#000000\" fill-rule=\"evenodd\" fill-opacity=\"1\" /><path clip-path=\"url(#clip140)\" d=\"M92.7512 888.419 Q89.1401 888.419 87.3114 891.983 Q85.5058 895.525 85.5058 902.655 Q85.5058 909.761 87.3114 913.326 Q89.1401 916.868 92.7512 916.868 Q96.3854 916.868 98.1909 913.326 Q100.02 909.761 100.02 902.655 Q100.02 895.525 98.1909 891.983 Q96.3854 888.419 92.7512 888.419 M92.7512 884.715 Q98.5613 884.715 101.617 889.321 Q104.696 893.905 104.696 902.655 Q104.696 911.381 101.617 915.988 Q98.5613 920.571 92.7512 920.571 Q86.941 920.571 83.8623 915.988 Q80.8068 911.381 80.8068 902.655 Q80.8068 893.905 83.8623 889.321 Q86.941 884.715 92.7512 884.715 Z\" fill=\"#000000\" fill-rule=\"evenodd\" fill-opacity=\"1\" /><path clip-path=\"url(#clip140)\" d=\"M54.3949 576.53 L62.0337 576.53 L62.0337 550.164 L53.7236 551.831 L53.7236 547.572 L61.9874 545.905 L66.6633 545.905 L66.6633 576.53 L74.3022 576.53 L74.3022 580.465 L54.3949 580.465 L54.3949 576.53 Z\" fill=\"#000000\" fill-rule=\"evenodd\" fill-opacity=\"1\" /><path clip-path=\"url(#clip140)\" d=\"M83.7929 545.905 L102.149 545.905 L102.149 549.84 L88.0753 549.84 L88.0753 558.312 Q89.0938 557.965 90.1123 557.803 Q91.1308 557.618 92.1493 557.618 Q97.9363 557.618 101.316 560.789 Q104.696 563.961 104.696 569.377 Q104.696 574.956 101.223 578.058 Q97.7511 581.136 91.4317 581.136 Q89.2558 581.136 86.9873 580.766 Q84.7419 580.396 82.3346 579.655 L82.3346 574.956 Q84.4179 576.09 86.6401 576.646 Q88.8623 577.201 91.3391 577.201 Q95.3437 577.201 97.6817 575.095 Q100.02 572.988 100.02 569.377 Q100.02 565.766 97.6817 563.66 Q95.3437 561.553 91.3391 561.553 Q89.4641 561.553 87.5892 561.97 Q85.7373 562.386 83.7929 563.266 L83.7929 545.905 Z\" fill=\"#000000\" fill-rule=\"evenodd\" fill-opacity=\"1\" /><path clip-path=\"url(#clip140)\" d=\"M56.6171 237.095 L72.9365 237.095 L72.9365 241.03 L50.9921 241.03 L50.9921 237.095 Q53.6541 234.34 58.2375 229.711 Q62.8439 225.058 64.0245 223.715 Q66.2698 221.192 67.1494 219.456 Q68.0522 217.697 68.0522 216.007 Q68.0522 213.253 66.1078 211.516 Q64.1865 209.78 61.0847 209.78 Q58.8856 209.78 56.4319 210.544 Q54.0014 211.308 51.2236 212.859 L51.2236 208.137 Q54.0477 207.003 56.5014 206.424 Q58.955 205.845 60.9921 205.845 Q66.3624 205.845 69.5568 208.53 Q72.7513 211.216 72.7513 215.706 Q72.7513 217.836 71.9411 219.757 Q71.1541 221.655 69.0476 224.248 Q68.4689 224.919 65.367 228.137 Q62.2652 231.331 56.6171 237.095 Z\" fill=\"#000000\" fill-rule=\"evenodd\" fill-opacity=\"1\" /><path clip-path=\"url(#clip140)\" d=\"M92.7512 209.549 Q89.1401 209.549 87.3114 213.114 Q85.5058 216.655 85.5058 223.785 Q85.5058 230.891 87.3114 234.456 Q89.1401 237.998 92.7512 237.998 Q96.3854 237.998 98.1909 234.456 Q100.02 230.891 100.02 223.785 Q100.02 216.655 98.1909 213.114 Q96.3854 209.549 92.7512 209.549 M92.7512 205.845 Q98.5613 205.845 101.617 210.452 Q104.696 215.035 104.696 223.785 Q104.696 232.512 101.617 237.118 Q98.5613 241.702 92.7512 241.702 Q86.941 241.702 83.8623 237.118 Q80.8068 232.512 80.8068 223.785 Q80.8068 215.035 83.8623 210.452 Q86.941 205.845 92.7512 205.845 Z\" fill=\"#000000\" fill-rule=\"evenodd\" fill-opacity=\"1\" /><circle clip-path=\"url(#clip142)\" cx=\"203.301\" cy=\"1445.72\" r=\"14.4\" fill=\"#0000ff\" fill-rule=\"evenodd\" fill-opacity=\"1\" stroke=\"#000000\" stroke-opacity=\"1\" stroke-width=\"3.2\"/>\n",
       "<circle clip-path=\"url(#clip142)\" cx=\"620.671\" cy=\"1174.17\" r=\"14.4\" fill=\"#0000ff\" fill-rule=\"evenodd\" fill-opacity=\"1\" stroke=\"#000000\" stroke-opacity=\"1\" stroke-width=\"3.2\"/>\n",
       "<circle clip-path=\"url(#clip142)\" cx=\"1038.04\" cy=\"902.62\" r=\"14.4\" fill=\"#0000ff\" fill-rule=\"evenodd\" fill-opacity=\"1\" stroke=\"#000000\" stroke-opacity=\"1\" stroke-width=\"3.2\"/>\n",
       "<circle clip-path=\"url(#clip142)\" cx=\"1455.41\" cy=\"631.072\" r=\"14.4\" fill=\"#0000ff\" fill-rule=\"evenodd\" fill-opacity=\"1\" stroke=\"#000000\" stroke-opacity=\"1\" stroke-width=\"3.2\"/>\n",
       "<circle clip-path=\"url(#clip142)\" cx=\"1872.78\" cy=\"359.524\" r=\"14.4\" fill=\"#0000ff\" fill-rule=\"evenodd\" fill-opacity=\"1\" stroke=\"#000000\" stroke-opacity=\"1\" stroke-width=\"3.2\"/>\n",
       "<circle clip-path=\"url(#clip142)\" cx=\"2290.15\" cy=\"87.9763\" r=\"14.4\" fill=\"#0000ff\" fill-rule=\"evenodd\" fill-opacity=\"1\" stroke=\"#000000\" stroke-opacity=\"1\" stroke-width=\"3.2\"/>\n",
       "</svg>\n"
      ]
     },
     "execution_count": 5,
     "metadata": {},
     "output_type": "execute_result"
    }
   ],
   "source": [
    "plot(x_train, y_train, legend=false, linetype=\"scatter\", color=\"blue\")"
   ]
  },
  {
   "cell_type": "markdown",
   "metadata": {},
   "source": [
    "### <span style=\"color:orange\">Produce a dense layer of 1 element, a 1 to 1 transformation</span>\n",
    "\n",
    "The Dense function produces a **dense** layer of connections between the neurons (input dimensions). The first argument is the input dimension (input feature size) and the second value is the output dimension (output layer feature size)"
   ]
  },
  {
   "cell_type": "code",
   "execution_count": 6,
   "metadata": {},
   "outputs": [
    {
     "data": {
      "text/plain": [
       "Dense(1 => 1)       \u001b[90m# 2 parameters\u001b[39m"
      ]
     },
     "execution_count": 6,
     "metadata": {},
     "output_type": "execute_result"
    }
   ],
   "source": [
    "model = Dense(1,1)"
   ]
  },
  {
   "cell_type": "code",
   "execution_count": 7,
   "metadata": {},
   "outputs": [
    {
     "data": {
      "text/plain": [
       "Dense{typeof(identity), Matrix{Float32}, Vector{Float32}}"
      ]
     },
     "execution_count": 7,
     "metadata": {},
     "output_type": "execute_result"
    }
   ],
   "source": [
    "typeof(model)"
   ]
  },
  {
   "cell_type": "code",
   "execution_count": 8,
   "metadata": {},
   "outputs": [
    {
     "data": {
      "text/plain": [
       "(:weight, :bias, :σ)"
      ]
     },
     "execution_count": 8,
     "metadata": {},
     "output_type": "execute_result"
    }
   ],
   "source": [
    "fieldnames(typeof(model))"
   ]
  },
  {
   "cell_type": "code",
   "execution_count": 9,
   "metadata": {},
   "outputs": [
    {
     "data": {
      "text/plain": [
       "1×1 Matrix{Float32}:\n",
       " 1.5517563"
      ]
     },
     "execution_count": 9,
     "metadata": {},
     "output_type": "execute_result"
    }
   ],
   "source": [
    "model.weight"
   ]
  },
  {
   "cell_type": "code",
   "execution_count": 10,
   "metadata": {},
   "outputs": [
    {
     "data": {
      "text/plain": [
       "1-element Vector{Float32}:\n",
       " 0.0"
      ]
     },
     "execution_count": 10,
     "metadata": {},
     "output_type": "execute_result"
    }
   ],
   "source": [
    "model.bias"
   ]
  },
  {
   "cell_type": "code",
   "execution_count": 11,
   "metadata": {},
   "outputs": [
    {
     "data": {
      "text/plain": [
       "identity (generic function with 1 method)"
      ]
     },
     "execution_count": 11,
     "metadata": {},
     "output_type": "execute_result"
    }
   ],
   "source": [
    "model.σ"
   ]
  },
  {
   "cell_type": "markdown",
   "metadata": {},
   "source": [
    "### <span style=\"color:orange\">See what the random untrained model parameters produce for the model outputs</span>"
   ]
  },
  {
   "cell_type": "code",
   "execution_count": 12,
   "metadata": {},
   "outputs": [
    {
     "data": {
      "text/plain": [
       "1×6 Matrix{Float32}:\n",
       " 0.0  1.55176  3.10351  4.65527  6.20703  7.75878"
      ]
     },
     "execution_count": 12,
     "metadata": {},
     "output_type": "execute_result"
    }
   ],
   "source": [
    "model(x_train)"
   ]
  },
  {
   "cell_type": "code",
   "execution_count": 13,
   "metadata": {},
   "outputs": [
    {
     "data": {
      "text/plain": [
       "loss (generic function with 1 method)"
      ]
     },
     "execution_count": 13,
     "metadata": {},
     "output_type": "execute_result"
    }
   ],
   "source": [
    "loss(x,y) = Flux.mse(model(x), y)"
   ]
  },
  {
   "cell_type": "markdown",
   "metadata": {},
   "source": [
    "### <span style=\"color:orange\">Current loss of the model and its randomly initialized parameters</span>"
   ]
  },
  {
   "cell_type": "code",
   "execution_count": 14,
   "metadata": {},
   "outputs": [
    {
     "data": {
      "text/plain": [
       "83.42649f0"
      ]
     },
     "execution_count": 14,
     "metadata": {},
     "output_type": "execute_result"
    }
   ],
   "source": [
    "loss(x_train,y_train)"
   ]
  },
  {
   "cell_type": "markdown",
   "metadata": {},
   "source": [
    "### <span style=\"color:orange\">Define an optimizer to change the parameters according the loss function</span>\n",
    "\n",
    "The step size is the $\\eta$ argument/parameter value\n",
    "\n",
    "there is also the popular alternative of **ADAM**"
   ]
  },
  {
   "cell_type": "code",
   "execution_count": 15,
   "metadata": {},
   "outputs": [
    {
     "data": {
      "text/plain": [
       "Descent(0.05)"
      ]
     },
     "execution_count": 15,
     "metadata": {},
     "output_type": "execute_result"
    }
   ],
   "source": [
    "opt = Flux.Descent(0.05) #non-stochastic"
   ]
  },
  {
   "cell_type": "markdown",
   "metadata": {},
   "source": [
    "### <span style=\"color:orange\">package the data into 'tuples' that makes it easy to send to the learning scheme</span>\n",
    "\n",
    "This follows the feature and target pairing of the fundamental nature of the supervised learning scheme"
   ]
  },
  {
   "cell_type": "code",
   "execution_count": 16,
   "metadata": {},
   "outputs": [
    {
     "data": {
      "text/plain": [
       "1-element Vector{Tuple{Matrix{Int64}, Matrix{Int64}}}:\n",
       " ([0 1 … 4 5], [2 6 … 18 22])"
      ]
     },
     "execution_count": 16,
     "metadata": {},
     "output_type": "execute_result"
    }
   ],
   "source": [
    "data = [(x_train, y_train)] #array of tuples"
   ]
  },
  {
   "cell_type": "code",
   "execution_count": 17,
   "metadata": {},
   "outputs": [
    {
     "data": {
      "text/plain": [
       "Params([Float32[1.5517563;;], Float32[0.0]])"
      ]
     },
     "execution_count": 17,
     "metadata": {},
     "output_type": "execute_result"
    }
   ],
   "source": [
    "parameters = Flux.params(model)"
   ]
  },
  {
   "cell_type": "markdown",
   "metadata": {},
   "source": [
    "### <span style=\"color:orange\">Train the model parameters now</span>\n",
    "\n",
    "The training uses the gradient from the optimizer to change the parameters so that the model loss is reduced (descent of the loss)"
   ]
  },
  {
   "cell_type": "code",
   "execution_count": 18,
   "metadata": {},
   "outputs": [
    {
     "name": "stdout",
     "output_type": "stream",
     "text": [
      "loss original = 83.42649\n",
      "loss after training = 0.4562064\n"
     ]
    }
   ],
   "source": [
    "println(\"loss original = $(loss(x_train,y_train))\")\n",
    "\n",
    "Flux.train!(loss, parameters, data, opt)\n",
    "\n",
    "println(\"loss after training = $(loss(x_train,y_train))\")"
   ]
  },
  {
   "cell_type": "code",
   "execution_count": 19,
   "metadata": {},
   "outputs": [
    {
     "data": {
      "text/plain": [
       "1×1 Matrix{Float32}:\n",
       " 4.29598"
      ]
     },
     "execution_count": 19,
     "metadata": {},
     "output_type": "execute_result"
    }
   ],
   "source": [
    "model.weight"
   ]
  },
  {
   "cell_type": "code",
   "execution_count": 20,
   "metadata": {},
   "outputs": [
    {
     "data": {
      "text/plain": [
       "1-element Vector{Float32}:\n",
       " 0.81206095"
      ]
     },
     "execution_count": 20,
     "metadata": {},
     "output_type": "execute_result"
    }
   ],
   "source": [
    "model.bias"
   ]
  },
  {
   "cell_type": "markdown",
   "metadata": {},
   "source": [
    "### <span style=\"color:orange\">Let us redo the learning scheme but differently this time</span>"
   ]
  },
  {
   "cell_type": "code",
   "execution_count": 21,
   "metadata": {},
   "outputs": [
    {
     "data": {
      "text/plain": [
       "Dense(1 => 1)       \u001b[90m# 2 parameters\u001b[39m"
      ]
     },
     "execution_count": 21,
     "metadata": {},
     "output_type": "execute_result"
    }
   ],
   "source": [
    "model = Dense(1,1)"
   ]
  },
  {
   "cell_type": "code",
   "execution_count": 22,
   "metadata": {},
   "outputs": [
    {
     "data": {
      "text/plain": [
       "1×1 Matrix{Float32}:\n",
       " -1.2775202"
      ]
     },
     "execution_count": 22,
     "metadata": {},
     "output_type": "execute_result"
    }
   ],
   "source": [
    "model.weight"
   ]
  },
  {
   "cell_type": "code",
   "execution_count": 23,
   "metadata": {},
   "outputs": [
    {
     "data": {
      "text/plain": [
       "1-element Vector{Float32}:\n",
       " 0.0"
      ]
     },
     "execution_count": 23,
     "metadata": {},
     "output_type": "execute_result"
    }
   ],
   "source": [
    "model.bias"
   ]
  },
  {
   "cell_type": "code",
   "execution_count": 24,
   "metadata": {},
   "outputs": [
    {
     "data": {
      "text/plain": [
       "Params([Float32[-1.2775202;;], Float32[0.0]])"
      ]
     },
     "execution_count": 24,
     "metadata": {},
     "output_type": "execute_result"
    }
   ],
   "source": [
    "parameters = Flux.params(model)"
   ]
  },
  {
   "cell_type": "code",
   "execution_count": 25,
   "metadata": {},
   "outputs": [
    {
     "data": {
      "text/plain": [
       "312.0872f0"
      ]
     },
     "execution_count": 25,
     "metadata": {},
     "output_type": "execute_result"
    }
   ],
   "source": [
    "loss(x_train,y_train)"
   ]
  },
  {
   "cell_type": "code",
   "execution_count": 26,
   "metadata": {},
   "outputs": [
    {
     "data": {
      "text/plain": [
       "7"
      ]
     },
     "execution_count": 26,
     "metadata": {},
     "output_type": "execute_result"
    }
   ],
   "source": [
    "rand(1:20) #get a random number from the range"
   ]
  },
  {
   "cell_type": "markdown",
   "metadata": {},
   "source": [
    "### <span style=\"color:orange\">Use the Stochastic approach (faster) as the gradient for each data point is not being calculated</span>"
   ]
  },
  {
   "cell_type": "code",
   "execution_count": 27,
   "metadata": {},
   "outputs": [
    {
     "name": "stdout",
     "output_type": "stream",
     "text": [
      "loss original = 312.0872\n",
      "(1, 6)\n",
      "loss after training = 3.031649e-13\n"
     ]
    }
   ],
   "source": [
    "println(\"loss original = $(loss(x_train,y_train))\")\n",
    "\n",
    "(mm,nn) = size(x_train)\n",
    "println(size(x_train))\n",
    "for epoch in 1:1_000\n",
    "    ii = rand(1:nn)\n",
    "    data = [(x_train[:,ii],y_train[:,ii])]\n",
    "    Flux.train!(loss, parameters, data, opt)\n",
    "end\n",
    "\n",
    "println(\"loss after training = $(loss(x_train,y_train))\")"
   ]
  },
  {
   "cell_type": "code",
   "execution_count": null,
   "metadata": {},
   "outputs": [],
   "source": []
  },
  {
   "cell_type": "code",
   "execution_count": 28,
   "metadata": {},
   "outputs": [
    {
     "data": {
      "text/plain": [
       "1×1 Matrix{Float32}:\n",
       " 3.9999998"
      ]
     },
     "execution_count": 28,
     "metadata": {},
     "output_type": "execute_result"
    }
   ],
   "source": [
    "model.weight"
   ]
  },
  {
   "cell_type": "code",
   "execution_count": 29,
   "metadata": {},
   "outputs": [
    {
     "data": {
      "text/plain": [
       "1-element Vector{Float32}:\n",
       " 2.000001"
      ]
     },
     "execution_count": 29,
     "metadata": {},
     "output_type": "execute_result"
    }
   ],
   "source": [
    "model.bias"
   ]
  },
  {
   "cell_type": "code",
   "execution_count": 30,
   "metadata": {},
   "outputs": [
    {
     "data": {
      "image/svg+xml": [
       "<?xml version=\"1.0\" encoding=\"utf-8\"?>\n",
       "<svg xmlns=\"http://www.w3.org/2000/svg\" xmlns:xlink=\"http://www.w3.org/1999/xlink\" width=\"600\" height=\"400\" viewBox=\"0 0 2400 1600\">\n",
       "<defs>\n",
       "  <clipPath id=\"clip180\">\n",
       "    <rect x=\"0\" y=\"0\" width=\"2400\" height=\"1600\"/>\n",
       "  </clipPath>\n",
       "</defs>\n",
       "<path clip-path=\"url(#clip180)\" d=\"\n",
       "M0 1600 L2400 1600 L2400 0 L0 0  Z\n",
       "  \" fill=\"#ffffff\" fill-rule=\"evenodd\" fill-opacity=\"1\"/>\n",
       "<defs>\n",
       "  <clipPath id=\"clip181\">\n",
       "    <rect x=\"480\" y=\"0\" width=\"1681\" height=\"1600\"/>\n",
       "  </clipPath>\n",
       "</defs>\n",
       "<path clip-path=\"url(#clip180)\" d=\"\n",
       "M187.084 1486.45 L2352.76 1486.45 L2352.76 47.2441 L187.084 47.2441  Z\n",
       "  \" fill=\"#ffffff\" fill-rule=\"evenodd\" fill-opacity=\"1\"/>\n",
       "<defs>\n",
       "  <clipPath id=\"clip182\">\n",
       "    <rect x=\"187\" y=\"47\" width=\"2167\" height=\"1440\"/>\n",
       "  </clipPath>\n",
       "</defs>\n",
       "<polyline clip-path=\"url(#clip182)\" style=\"stroke:#000000; stroke-linecap:round; stroke-linejoin:round; stroke-width:2; stroke-opacity:0.1; fill:none\" points=\"\n",
       "  248.377,1486.45 248.377,47.2441 \n",
       "  \"/>\n",
       "<polyline clip-path=\"url(#clip182)\" style=\"stroke:#000000; stroke-linecap:round; stroke-linejoin:round; stroke-width:2; stroke-opacity:0.1; fill:none\" points=\"\n",
       "  759.148,1486.45 759.148,47.2441 \n",
       "  \"/>\n",
       "<polyline clip-path=\"url(#clip182)\" style=\"stroke:#000000; stroke-linecap:round; stroke-linejoin:round; stroke-width:2; stroke-opacity:0.1; fill:none\" points=\"\n",
       "  1269.92,1486.45 1269.92,47.2441 \n",
       "  \"/>\n",
       "<polyline clip-path=\"url(#clip182)\" style=\"stroke:#000000; stroke-linecap:round; stroke-linejoin:round; stroke-width:2; stroke-opacity:0.1; fill:none\" points=\"\n",
       "  1780.69,1486.45 1780.69,47.2441 \n",
       "  \"/>\n",
       "<polyline clip-path=\"url(#clip182)\" style=\"stroke:#000000; stroke-linecap:round; stroke-linejoin:round; stroke-width:2; stroke-opacity:0.1; fill:none\" points=\"\n",
       "  2291.46,1486.45 2291.46,47.2441 \n",
       "  \"/>\n",
       "<polyline clip-path=\"url(#clip180)\" style=\"stroke:#000000; stroke-linecap:round; stroke-linejoin:round; stroke-width:4; stroke-opacity:1; fill:none\" points=\"\n",
       "  187.084,1486.45 2352.76,1486.45 \n",
       "  \"/>\n",
       "<polyline clip-path=\"url(#clip180)\" style=\"stroke:#000000; stroke-linecap:round; stroke-linejoin:round; stroke-width:4; stroke-opacity:1; fill:none\" points=\"\n",
       "  248.377,1486.45 248.377,1467.55 \n",
       "  \"/>\n",
       "<polyline clip-path=\"url(#clip180)\" style=\"stroke:#000000; stroke-linecap:round; stroke-linejoin:round; stroke-width:4; stroke-opacity:1; fill:none\" points=\"\n",
       "  759.148,1486.45 759.148,1467.55 \n",
       "  \"/>\n",
       "<polyline clip-path=\"url(#clip180)\" style=\"stroke:#000000; stroke-linecap:round; stroke-linejoin:round; stroke-width:4; stroke-opacity:1; fill:none\" points=\"\n",
       "  1269.92,1486.45 1269.92,1467.55 \n",
       "  \"/>\n",
       "<polyline clip-path=\"url(#clip180)\" style=\"stroke:#000000; stroke-linecap:round; stroke-linejoin:round; stroke-width:4; stroke-opacity:1; fill:none\" points=\"\n",
       "  1780.69,1486.45 1780.69,1467.55 \n",
       "  \"/>\n",
       "<polyline clip-path=\"url(#clip180)\" style=\"stroke:#000000; stroke-linecap:round; stroke-linejoin:round; stroke-width:4; stroke-opacity:1; fill:none\" points=\"\n",
       "  2291.46,1486.45 2291.46,1467.55 \n",
       "  \"/>\n",
       "<path clip-path=\"url(#clip180)\" d=\"M248.782 1529.7 Q245.634 1529.7 243.782 1531.86 Q241.953 1534.01 241.953 1537.76 Q241.953 1541.49 243.782 1543.66 Q245.634 1545.82 248.782 1545.82 Q251.93 1545.82 253.759 1543.66 Q255.611 1541.49 255.611 1537.76 Q255.611 1534.01 253.759 1531.86 Q251.93 1529.7 248.782 1529.7 M258.064 1515.05 L258.064 1519.31 Q256.305 1518.48 254.499 1518.04 Q252.717 1517.6 250.958 1517.6 Q246.328 1517.6 243.874 1520.72 Q241.444 1523.85 241.097 1530.17 Q242.462 1528.15 244.523 1527.09 Q246.583 1526 249.06 1526 Q254.268 1526 257.277 1529.17 Q260.31 1532.32 260.31 1537.76 Q260.31 1543.08 257.161 1546.3 Q254.013 1549.52 248.782 1549.52 Q242.787 1549.52 239.615 1544.94 Q236.444 1540.33 236.444 1531.6 Q236.444 1523.41 240.333 1518.55 Q244.222 1513.66 250.773 1513.66 Q252.532 1513.66 254.314 1514.01 Q256.12 1514.36 258.064 1515.05 Z\" fill=\"#000000\" fill-rule=\"evenodd\" fill-opacity=\"1\" /><path clip-path=\"url(#clip180)\" d=\"M748.037 1514.29 L770.259 1514.29 L770.259 1516.28 L757.713 1548.85 L752.829 1548.85 L764.634 1518.22 L748.037 1518.22 L748.037 1514.29 Z\" fill=\"#000000\" fill-rule=\"evenodd\" fill-opacity=\"1\" /><path clip-path=\"url(#clip180)\" d=\"M1269.92 1532.44 Q1266.59 1532.44 1264.67 1534.22 Q1262.77 1536 1262.77 1539.13 Q1262.77 1542.25 1264.67 1544.03 Q1266.59 1545.82 1269.92 1545.82 Q1273.25 1545.82 1275.17 1544.03 Q1277.1 1542.23 1277.1 1539.13 Q1277.1 1536 1275.17 1534.22 Q1273.28 1532.44 1269.92 1532.44 M1265.24 1530.45 Q1262.23 1529.7 1260.55 1527.64 Q1258.88 1525.58 1258.88 1522.62 Q1258.88 1518.48 1261.82 1516.07 Q1264.78 1513.66 1269.92 1513.66 Q1275.08 1513.66 1278.02 1516.07 Q1280.96 1518.48 1280.96 1522.62 Q1280.96 1525.58 1279.27 1527.64 Q1277.61 1529.7 1274.62 1530.45 Q1278 1531.23 1279.87 1533.52 Q1281.77 1535.82 1281.77 1539.13 Q1281.77 1544.15 1278.69 1546.83 Q1275.64 1549.52 1269.92 1549.52 Q1264.2 1549.52 1261.12 1546.83 Q1258.07 1544.15 1258.07 1539.13 Q1258.07 1535.82 1259.97 1533.52 Q1261.86 1531.23 1265.24 1530.45 M1263.53 1523.06 Q1263.53 1525.75 1265.2 1527.25 Q1266.89 1528.76 1269.92 1528.76 Q1272.93 1528.76 1274.62 1527.25 Q1276.33 1525.75 1276.33 1523.06 Q1276.33 1520.38 1274.62 1518.87 Q1272.93 1517.37 1269.92 1517.37 Q1266.89 1517.37 1265.2 1518.87 Q1263.53 1520.38 1263.53 1523.06 Z\" fill=\"#000000\" fill-rule=\"evenodd\" fill-opacity=\"1\" /><path clip-path=\"url(#clip180)\" d=\"M1770.99 1548.13 L1770.99 1543.87 Q1772.75 1544.7 1774.56 1545.14 Q1776.36 1545.58 1778.1 1545.58 Q1782.73 1545.58 1785.16 1542.48 Q1787.61 1539.36 1787.96 1533.01 Q1786.62 1535.01 1784.56 1536.07 Q1782.5 1537.13 1780 1537.13 Q1774.81 1537.13 1771.78 1534.01 Q1768.77 1530.86 1768.77 1525.42 Q1768.77 1520.1 1771.92 1516.88 Q1775.07 1513.66 1780.3 1513.66 Q1786.29 1513.66 1789.44 1518.27 Q1792.61 1522.85 1792.61 1531.6 Q1792.61 1539.77 1788.72 1544.66 Q1784.86 1549.52 1778.31 1549.52 Q1776.55 1549.52 1774.74 1549.17 Q1772.94 1548.82 1770.99 1548.13 M1780.3 1533.48 Q1783.45 1533.48 1785.27 1531.32 Q1787.13 1529.17 1787.13 1525.42 Q1787.13 1521.7 1785.27 1519.54 Q1783.45 1517.37 1780.3 1517.37 Q1777.15 1517.37 1775.3 1519.54 Q1773.47 1521.7 1773.47 1525.42 Q1773.47 1529.17 1775.3 1531.32 Q1777.15 1533.48 1780.3 1533.48 Z\" fill=\"#000000\" fill-rule=\"evenodd\" fill-opacity=\"1\" /><path clip-path=\"url(#clip180)\" d=\"M2266.15 1544.91 L2273.79 1544.91 L2273.79 1518.55 L2265.48 1520.21 L2265.48 1515.95 L2273.74 1514.29 L2278.42 1514.29 L2278.42 1544.91 L2286.06 1544.91 L2286.06 1548.85 L2266.15 1548.85 L2266.15 1544.91 Z\" fill=\"#000000\" fill-rule=\"evenodd\" fill-opacity=\"1\" /><path clip-path=\"url(#clip180)\" d=\"M2305.5 1517.37 Q2301.89 1517.37 2300.06 1520.93 Q2298.26 1524.47 2298.26 1531.6 Q2298.26 1538.71 2300.06 1542.27 Q2301.89 1545.82 2305.5 1545.82 Q2309.14 1545.82 2310.94 1542.27 Q2312.77 1538.71 2312.77 1531.6 Q2312.77 1524.47 2310.94 1520.93 Q2309.14 1517.37 2305.5 1517.37 M2305.5 1513.66 Q2311.31 1513.66 2314.37 1518.27 Q2317.45 1522.85 2317.45 1531.6 Q2317.45 1540.33 2314.37 1544.94 Q2311.31 1549.52 2305.5 1549.52 Q2299.69 1549.52 2296.61 1544.94 Q2293.56 1540.33 2293.56 1531.6 Q2293.56 1522.85 2296.61 1518.27 Q2299.69 1513.66 2305.5 1513.66 Z\" fill=\"#000000\" fill-rule=\"evenodd\" fill-opacity=\"1\" /><polyline clip-path=\"url(#clip182)\" style=\"stroke:#000000; stroke-linecap:round; stroke-linejoin:round; stroke-width:2; stroke-opacity:0.1; fill:none\" points=\"\n",
       "  187.084,1318.43 2352.76,1318.43 \n",
       "  \"/>\n",
       "<polyline clip-path=\"url(#clip182)\" style=\"stroke:#000000; stroke-linecap:round; stroke-linejoin:round; stroke-width:2; stroke-opacity:0.1; fill:none\" points=\"\n",
       "  187.084,1106.28 2352.76,1106.28 \n",
       "  \"/>\n",
       "<polyline clip-path=\"url(#clip182)\" style=\"stroke:#000000; stroke-linecap:round; stroke-linejoin:round; stroke-width:2; stroke-opacity:0.1; fill:none\" points=\"\n",
       "  187.084,894.134 2352.76,894.134 \n",
       "  \"/>\n",
       "<polyline clip-path=\"url(#clip182)\" style=\"stroke:#000000; stroke-linecap:round; stroke-linejoin:round; stroke-width:2; stroke-opacity:0.1; fill:none\" points=\"\n",
       "  187.084,681.987 2352.76,681.987 \n",
       "  \"/>\n",
       "<polyline clip-path=\"url(#clip182)\" style=\"stroke:#000000; stroke-linecap:round; stroke-linejoin:round; stroke-width:2; stroke-opacity:0.1; fill:none\" points=\"\n",
       "  187.084,469.84 2352.76,469.84 \n",
       "  \"/>\n",
       "<polyline clip-path=\"url(#clip182)\" style=\"stroke:#000000; stroke-linecap:round; stroke-linejoin:round; stroke-width:2; stroke-opacity:0.1; fill:none\" points=\"\n",
       "  187.084,257.694 2352.76,257.694 \n",
       "  \"/>\n",
       "<polyline clip-path=\"url(#clip180)\" style=\"stroke:#000000; stroke-linecap:round; stroke-linejoin:round; stroke-width:4; stroke-opacity:1; fill:none\" points=\"\n",
       "  187.084,1486.45 187.084,47.2441 \n",
       "  \"/>\n",
       "<polyline clip-path=\"url(#clip180)\" style=\"stroke:#000000; stroke-linecap:round; stroke-linejoin:round; stroke-width:4; stroke-opacity:1; fill:none\" points=\"\n",
       "  187.084,1318.43 205.982,1318.43 \n",
       "  \"/>\n",
       "<polyline clip-path=\"url(#clip180)\" style=\"stroke:#000000; stroke-linecap:round; stroke-linejoin:round; stroke-width:4; stroke-opacity:1; fill:none\" points=\"\n",
       "  187.084,1106.28 205.982,1106.28 \n",
       "  \"/>\n",
       "<polyline clip-path=\"url(#clip180)\" style=\"stroke:#000000; stroke-linecap:round; stroke-linejoin:round; stroke-width:4; stroke-opacity:1; fill:none\" points=\"\n",
       "  187.084,894.134 205.982,894.134 \n",
       "  \"/>\n",
       "<polyline clip-path=\"url(#clip180)\" style=\"stroke:#000000; stroke-linecap:round; stroke-linejoin:round; stroke-width:4; stroke-opacity:1; fill:none\" points=\"\n",
       "  187.084,681.987 205.982,681.987 \n",
       "  \"/>\n",
       "<polyline clip-path=\"url(#clip180)\" style=\"stroke:#000000; stroke-linecap:round; stroke-linejoin:round; stroke-width:4; stroke-opacity:1; fill:none\" points=\"\n",
       "  187.084,469.84 205.982,469.84 \n",
       "  \"/>\n",
       "<polyline clip-path=\"url(#clip180)\" style=\"stroke:#000000; stroke-linecap:round; stroke-linejoin:round; stroke-width:4; stroke-opacity:1; fill:none\" points=\"\n",
       "  187.084,257.694 205.982,257.694 \n",
       "  \"/>\n",
       "<path clip-path=\"url(#clip180)\" d=\"M58.7699 1331.77 L75.0892 1331.77 L75.0892 1335.71 L53.1449 1335.71 L53.1449 1331.77 Q55.8069 1329.02 60.3902 1324.39 Q64.9967 1319.74 66.1772 1318.39 Q68.4226 1315.87 69.3022 1314.13 Q70.205 1312.37 70.205 1310.68 Q70.205 1307.93 68.2606 1306.19 Q66.3393 1304.46 63.2374 1304.46 Q61.0384 1304.46 58.5847 1305.22 Q56.1541 1305.99 53.3764 1307.54 L53.3764 1302.81 Q56.2004 1301.68 58.6541 1301.1 Q61.1078 1300.52 63.1448 1300.52 Q68.5152 1300.52 71.7096 1303.21 Q74.904 1305.89 74.904 1310.38 Q74.904 1312.51 74.0939 1314.43 Q73.3068 1316.33 71.2004 1318.93 Q70.6217 1319.6 67.5198 1322.81 Q64.418 1326.01 58.7699 1331.77 Z\" fill=\"#000000\" fill-rule=\"evenodd\" fill-opacity=\"1\" /><path clip-path=\"url(#clip180)\" d=\"M83.7234 1301.15 L105.946 1301.15 L105.946 1303.14 L93.3993 1335.71 L88.5151 1335.71 L100.321 1305.08 L83.7234 1305.08 L83.7234 1301.15 Z\" fill=\"#000000\" fill-rule=\"evenodd\" fill-opacity=\"1\" /><path clip-path=\"url(#clip180)\" d=\"M115.066 1329.83 L119.95 1329.83 L119.95 1335.71 L115.066 1335.71 L115.066 1329.83 Z\" fill=\"#000000\" fill-rule=\"evenodd\" fill-opacity=\"1\" /><path clip-path=\"url(#clip180)\" d=\"M130.182 1301.15 L148.538 1301.15 L148.538 1305.08 L134.464 1305.08 L134.464 1313.55 Q135.482 1313.21 136.501 1313.05 Q137.519 1312.86 138.538 1312.86 Q144.325 1312.86 147.705 1316.03 Q151.084 1319.2 151.084 1324.62 Q151.084 1330.2 147.612 1333.3 Q144.14 1336.38 137.82 1336.38 Q135.644 1336.38 133.376 1336.01 Q131.131 1335.64 128.723 1334.9 L128.723 1330.2 Q130.807 1331.33 133.029 1331.89 Q135.251 1332.44 137.728 1332.44 Q141.732 1332.44 144.07 1330.34 Q146.408 1328.23 146.408 1324.62 Q146.408 1321.01 144.07 1318.9 Q141.732 1316.8 137.728 1316.8 Q135.853 1316.8 133.978 1317.21 Q132.126 1317.63 130.182 1318.51 L130.182 1301.15 Z\" fill=\"#000000\" fill-rule=\"evenodd\" fill-opacity=\"1\" /><path clip-path=\"url(#clip180)\" d=\"M67.9133 1104.93 Q71.2698 1105.64 73.1448 1107.91 Q75.0429 1110.18 75.0429 1113.51 Q75.0429 1118.63 71.5244 1121.43 Q68.0059 1124.23 61.5245 1124.23 Q59.3486 1124.23 57.0338 1123.79 Q54.7421 1123.38 52.2884 1122.52 L52.2884 1118.01 Q54.2328 1119.14 56.5477 1119.72 Q58.8625 1120.3 61.3856 1120.3 Q65.7837 1120.3 68.0754 1118.56 Q70.3902 1116.82 70.3902 1113.51 Q70.3902 1110.46 68.2374 1108.75 Q66.1078 1107.01 62.2884 1107.01 L58.2606 1107.01 L58.2606 1103.17 L62.4735 1103.17 Q65.9226 1103.17 67.7513 1101.8 Q69.58 1100.41 69.58 1097.82 Q69.58 1095.16 67.6819 1093.75 Q65.8069 1092.31 62.2884 1092.31 Q60.3671 1092.31 58.168 1092.73 Q55.969 1093.14 53.3301 1094.02 L53.3301 1089.86 Q55.9921 1089.12 58.3069 1088.75 Q60.6449 1088.38 62.705 1088.38 Q68.0291 1088.38 71.1309 1090.81 Q74.2327 1093.21 74.2327 1097.33 Q74.2327 1100.2 72.5892 1102.2 Q70.9457 1104.16 67.9133 1104.93 Z\" fill=\"#000000\" fill-rule=\"evenodd\" fill-opacity=\"1\" /><path clip-path=\"url(#clip180)\" d=\"M93.9086 1092.08 Q90.2975 1092.08 88.4688 1095.64 Q86.6632 1099.19 86.6632 1106.32 Q86.6632 1113.42 88.4688 1116.99 Q90.2975 1120.53 93.9086 1120.53 Q97.5428 1120.53 99.3483 1116.99 Q101.177 1113.42 101.177 1106.32 Q101.177 1099.19 99.3483 1095.64 Q97.5428 1092.08 93.9086 1092.08 M93.9086 1088.38 Q99.7187 1088.38 102.774 1092.98 Q105.853 1097.57 105.853 1106.32 Q105.853 1115.04 102.774 1119.65 Q99.7187 1124.23 93.9086 1124.23 Q88.0984 1124.23 85.0197 1119.65 Q81.9642 1115.04 81.9642 1106.32 Q81.9642 1097.57 85.0197 1092.98 Q88.0984 1088.38 93.9086 1088.38 Z\" fill=\"#000000\" fill-rule=\"evenodd\" fill-opacity=\"1\" /><path clip-path=\"url(#clip180)\" d=\"M114.07 1117.68 L118.955 1117.68 L118.955 1123.56 L114.07 1123.56 L114.07 1117.68 Z\" fill=\"#000000\" fill-rule=\"evenodd\" fill-opacity=\"1\" /><path clip-path=\"url(#clip180)\" d=\"M139.14 1092.08 Q135.529 1092.08 133.7 1095.64 Q131.894 1099.19 131.894 1106.32 Q131.894 1113.42 133.7 1116.99 Q135.529 1120.53 139.14 1120.53 Q142.774 1120.53 144.58 1116.99 Q146.408 1113.42 146.408 1106.32 Q146.408 1099.19 144.58 1095.64 Q142.774 1092.08 139.14 1092.08 M139.14 1088.38 Q144.95 1088.38 148.005 1092.98 Q151.084 1097.57 151.084 1106.32 Q151.084 1115.04 148.005 1119.65 Q144.95 1124.23 139.14 1124.23 Q133.33 1124.23 130.251 1119.65 Q127.195 1115.04 127.195 1106.32 Q127.195 1097.57 130.251 1092.98 Q133.33 1088.38 139.14 1088.38 Z\" fill=\"#000000\" fill-rule=\"evenodd\" fill-opacity=\"1\" /><path clip-path=\"url(#clip180)\" d=\"M68.9087 892.78 Q72.2652 893.497 74.1402 895.766 Q76.0383 898.034 76.0383 901.368 Q76.0383 906.484 72.5198 909.284 Q69.0013 912.085 62.5198 912.085 Q60.3439 912.085 58.0291 911.646 Q55.7375 911.229 53.2838 910.372 L53.2838 905.859 Q55.2282 906.993 57.543 907.571 Q59.8578 908.15 62.381 908.15 Q66.7791 908.15 69.0707 906.414 Q71.3855 904.678 71.3855 901.368 Q71.3855 898.312 69.2328 896.599 Q67.1032 894.863 63.2837 894.863 L59.256 894.863 L59.256 891.021 L63.4689 891.021 Q66.918 891.021 68.7467 889.655 Q70.5754 888.266 70.5754 885.673 Q70.5754 883.011 68.6772 881.599 Q66.8022 880.164 63.2837 880.164 Q61.3624 880.164 59.1634 880.581 Q56.9643 880.998 54.3254 881.877 L54.3254 877.711 Q56.9875 876.97 59.3023 876.599 Q61.6402 876.229 63.7004 876.229 Q69.0244 876.229 72.1263 878.66 Q75.2281 881.067 75.2281 885.187 Q75.2281 888.058 73.5846 890.048 Q71.9411 892.016 68.9087 892.78 Z\" fill=\"#000000\" fill-rule=\"evenodd\" fill-opacity=\"1\" /><path clip-path=\"url(#clip180)\" d=\"M88.9317 907.479 L105.251 907.479 L105.251 911.414 L83.3068 911.414 L83.3068 907.479 Q85.9688 904.724 90.5521 900.095 Q95.1586 895.442 96.3391 894.099 Q98.5845 891.576 99.4641 889.84 Q100.367 888.081 100.367 886.391 Q100.367 883.636 98.4224 881.9 Q96.5011 880.164 93.3993 880.164 Q91.2002 880.164 88.7466 880.928 Q86.316 881.692 83.5382 883.243 L83.5382 878.521 Q86.3623 877.386 88.816 876.808 Q91.2697 876.229 93.3067 876.229 Q98.6771 876.229 101.871 878.914 Q105.066 881.599 105.066 886.09 Q105.066 888.22 104.256 890.141 Q103.469 892.039 101.362 894.632 Q100.784 895.303 97.6817 898.521 Q94.5799 901.715 88.9317 907.479 Z\" fill=\"#000000\" fill-rule=\"evenodd\" fill-opacity=\"1\" /><path clip-path=\"url(#clip180)\" d=\"M115.066 905.534 L119.95 905.534 L119.95 911.414 L115.066 911.414 L115.066 905.534 Z\" fill=\"#000000\" fill-rule=\"evenodd\" fill-opacity=\"1\" /><path clip-path=\"url(#clip180)\" d=\"M130.182 876.854 L148.538 876.854 L148.538 880.789 L134.464 880.789 L134.464 889.261 Q135.482 888.914 136.501 888.752 Q137.519 888.567 138.538 888.567 Q144.325 888.567 147.705 891.738 Q151.084 894.909 151.084 900.326 Q151.084 905.905 147.612 909.007 Q144.14 912.085 137.82 912.085 Q135.644 912.085 133.376 911.715 Q131.131 911.345 128.723 910.604 L128.723 905.905 Q130.807 907.039 133.029 907.595 Q135.251 908.15 137.728 908.15 Q141.732 908.15 144.07 906.044 Q146.408 903.937 146.408 900.326 Q146.408 896.715 144.07 894.609 Q141.732 892.502 137.728 892.502 Q135.853 892.502 133.978 892.919 Q132.126 893.335 130.182 894.215 L130.182 876.854 Z\" fill=\"#000000\" fill-rule=\"evenodd\" fill-opacity=\"1\" /><path clip-path=\"url(#clip180)\" d=\"M67.9133 680.633 Q71.2698 681.351 73.1448 683.619 Q75.0429 685.888 75.0429 689.221 Q75.0429 694.337 71.5244 697.138 Q68.0059 699.939 61.5245 699.939 Q59.3486 699.939 57.0338 699.499 Q54.7421 699.082 52.2884 698.226 L52.2884 693.712 Q54.2328 694.846 56.5477 695.425 Q58.8625 696.003 61.3856 696.003 Q65.7837 696.003 68.0754 694.267 Q70.3902 692.531 70.3902 689.221 Q70.3902 686.165 68.2374 684.453 Q66.1078 682.716 62.2884 682.716 L58.2606 682.716 L58.2606 678.874 L62.4735 678.874 Q65.9226 678.874 67.7513 677.508 Q69.58 676.119 69.58 673.527 Q69.58 670.865 67.6819 669.453 Q65.8069 668.017 62.2884 668.017 Q60.3671 668.017 58.168 668.434 Q55.969 668.851 53.3301 669.73 L53.3301 665.564 Q55.9921 664.823 58.3069 664.453 Q60.6449 664.082 62.705 664.082 Q68.0291 664.082 71.1309 666.513 Q74.2327 668.92 74.2327 673.041 Q74.2327 675.911 72.5892 677.902 Q70.9457 679.869 67.9133 680.633 Z\" fill=\"#000000\" fill-rule=\"evenodd\" fill-opacity=\"1\" /><path clip-path=\"url(#clip180)\" d=\"M83.9549 664.707 L102.311 664.707 L102.311 668.642 L88.2373 668.642 L88.2373 677.115 Q89.2558 676.767 90.2743 676.605 Q91.2928 676.42 92.3113 676.42 Q98.0984 676.42 101.478 679.591 Q104.858 682.763 104.858 688.179 Q104.858 693.758 101.385 696.86 Q97.9132 699.939 91.5938 699.939 Q89.4178 699.939 87.1493 699.568 Q84.904 699.198 82.4966 698.457 L82.4966 693.758 Q84.5799 694.892 86.8021 695.448 Q89.0243 696.003 91.5012 696.003 Q95.5058 696.003 97.8437 693.897 Q100.182 691.79 100.182 688.179 Q100.182 684.568 97.8437 682.462 Q95.5058 680.355 91.5012 680.355 Q89.6262 680.355 87.7512 680.772 Q85.8993 681.189 83.9549 682.068 L83.9549 664.707 Z\" fill=\"#000000\" fill-rule=\"evenodd\" fill-opacity=\"1\" /><path clip-path=\"url(#clip180)\" d=\"M114.07 693.388 L118.955 693.388 L118.955 699.267 L114.07 699.267 L114.07 693.388 Z\" fill=\"#000000\" fill-rule=\"evenodd\" fill-opacity=\"1\" /><path clip-path=\"url(#clip180)\" d=\"M139.14 667.786 Q135.529 667.786 133.7 671.351 Q131.894 674.892 131.894 682.022 Q131.894 689.128 133.7 692.693 Q135.529 696.235 139.14 696.235 Q142.774 696.235 144.58 692.693 Q146.408 689.128 146.408 682.022 Q146.408 674.892 144.58 671.351 Q142.774 667.786 139.14 667.786 M139.14 664.082 Q144.95 664.082 148.005 668.689 Q151.084 673.272 151.084 682.022 Q151.084 690.749 148.005 695.355 Q144.95 699.939 139.14 699.939 Q133.33 699.939 130.251 695.355 Q127.195 690.749 127.195 682.022 Q127.195 673.272 130.251 668.689 Q133.33 664.082 139.14 664.082 Z\" fill=\"#000000\" fill-rule=\"evenodd\" fill-opacity=\"1\" /><path clip-path=\"url(#clip180)\" d=\"M68.9087 468.486 Q72.2652 469.204 74.1402 471.472 Q76.0383 473.741 76.0383 477.074 Q76.0383 482.19 72.5198 484.991 Q69.0013 487.792 62.5198 487.792 Q60.3439 487.792 58.0291 487.352 Q55.7375 486.935 53.2838 486.079 L53.2838 481.565 Q55.2282 482.699 57.543 483.278 Q59.8578 483.857 62.381 483.857 Q66.7791 483.857 69.0707 482.121 Q71.3855 480.384 71.3855 477.074 Q71.3855 474.019 69.2328 472.306 Q67.1032 470.57 63.2837 470.57 L59.256 470.57 L59.256 466.727 L63.4689 466.727 Q66.918 466.727 68.7467 465.361 Q70.5754 463.972 70.5754 461.38 Q70.5754 458.718 68.6772 457.306 Q66.8022 455.871 63.2837 455.871 Q61.3624 455.871 59.1634 456.287 Q56.9643 456.704 54.3254 457.584 L54.3254 453.417 Q56.9875 452.676 59.3023 452.306 Q61.6402 451.935 63.7004 451.935 Q69.0244 451.935 72.1263 454.366 Q75.2281 456.773 75.2281 460.894 Q75.2281 463.764 73.5846 465.755 Q71.9411 467.722 68.9087 468.486 Z\" fill=\"#000000\" fill-rule=\"evenodd\" fill-opacity=\"1\" /><path clip-path=\"url(#clip180)\" d=\"M83.7234 452.56 L105.946 452.56 L105.946 454.551 L93.3993 487.12 L88.5151 487.12 L100.321 456.496 L83.7234 456.496 L83.7234 452.56 Z\" fill=\"#000000\" fill-rule=\"evenodd\" fill-opacity=\"1\" /><path clip-path=\"url(#clip180)\" d=\"M115.066 481.241 L119.95 481.241 L119.95 487.12 L115.066 487.12 L115.066 481.241 Z\" fill=\"#000000\" fill-rule=\"evenodd\" fill-opacity=\"1\" /><path clip-path=\"url(#clip180)\" d=\"M130.182 452.56 L148.538 452.56 L148.538 456.496 L134.464 456.496 L134.464 464.968 Q135.482 464.621 136.501 464.459 Q137.519 464.273 138.538 464.273 Q144.325 464.273 147.705 467.445 Q151.084 470.616 151.084 476.033 Q151.084 481.611 147.612 484.713 Q144.14 487.792 137.82 487.792 Q135.644 487.792 133.376 487.421 Q131.131 487.051 128.723 486.31 L128.723 481.611 Q130.807 482.745 133.029 483.301 Q135.251 483.857 137.728 483.857 Q141.732 483.857 144.07 481.75 Q146.408 479.644 146.408 476.033 Q146.408 472.421 144.07 470.315 Q141.732 468.209 137.728 468.209 Q135.853 468.209 133.978 468.625 Q132.126 469.042 130.182 469.921 L130.182 452.56 Z\" fill=\"#000000\" fill-rule=\"evenodd\" fill-opacity=\"1\" /><path clip-path=\"url(#clip180)\" d=\"M66.5939 244.488 L54.7884 262.937 L66.5939 262.937 L66.5939 244.488 M65.367 240.414 L71.2466 240.414 L71.2466 262.937 L76.1772 262.937 L76.1772 266.826 L71.2466 266.826 L71.2466 274.974 L66.5939 274.974 L66.5939 266.826 L50.9921 266.826 L50.9921 262.312 L65.367 240.414 Z\" fill=\"#000000\" fill-rule=\"evenodd\" fill-opacity=\"1\" /><path clip-path=\"url(#clip180)\" d=\"M93.9086 243.492 Q90.2975 243.492 88.4688 247.057 Q86.6632 250.599 86.6632 257.728 Q86.6632 264.835 88.4688 268.4 Q90.2975 271.941 93.9086 271.941 Q97.5428 271.941 99.3483 268.4 Q101.177 264.835 101.177 257.728 Q101.177 250.599 99.3483 247.057 Q97.5428 243.492 93.9086 243.492 M93.9086 239.789 Q99.7187 239.789 102.774 244.395 Q105.853 248.978 105.853 257.728 Q105.853 266.455 102.774 271.062 Q99.7187 275.645 93.9086 275.645 Q88.0984 275.645 85.0197 271.062 Q81.9642 266.455 81.9642 257.728 Q81.9642 248.978 85.0197 244.395 Q88.0984 239.789 93.9086 239.789 Z\" fill=\"#000000\" fill-rule=\"evenodd\" fill-opacity=\"1\" /><path clip-path=\"url(#clip180)\" d=\"M114.07 269.094 L118.955 269.094 L118.955 274.974 L114.07 274.974 L114.07 269.094 Z\" fill=\"#000000\" fill-rule=\"evenodd\" fill-opacity=\"1\" /><path clip-path=\"url(#clip180)\" d=\"M139.14 243.492 Q135.529 243.492 133.7 247.057 Q131.894 250.599 131.894 257.728 Q131.894 264.835 133.7 268.4 Q135.529 271.941 139.14 271.941 Q142.774 271.941 144.58 268.4 Q146.408 264.835 146.408 257.728 Q146.408 250.599 144.58 247.057 Q142.774 243.492 139.14 243.492 M139.14 239.789 Q144.95 239.789 148.005 244.395 Q151.084 248.978 151.084 257.728 Q151.084 266.455 148.005 271.062 Q144.95 275.645 139.14 275.645 Q133.33 275.645 130.251 271.062 Q127.195 266.455 127.195 257.728 Q127.195 248.978 130.251 244.395 Q133.33 239.789 139.14 239.789 Z\" fill=\"#000000\" fill-rule=\"evenodd\" fill-opacity=\"1\" /><circle clip-path=\"url(#clip182)\" cx=\"248.377\" cy=\"1445.72\" r=\"14.4\" fill=\"#0000ff\" fill-rule=\"evenodd\" fill-opacity=\"1\" stroke=\"#000000\" stroke-opacity=\"1\" stroke-width=\"3.2\"/>\n",
       "<circle clip-path=\"url(#clip182)\" cx=\"759.148\" cy=\"1106.28\" r=\"14.4\" fill=\"#0000ff\" fill-rule=\"evenodd\" fill-opacity=\"1\" stroke=\"#000000\" stroke-opacity=\"1\" stroke-width=\"3.2\"/>\n",
       "<circle clip-path=\"url(#clip182)\" cx=\"1269.92\" cy=\"766.846\" r=\"14.4\" fill=\"#0000ff\" fill-rule=\"evenodd\" fill-opacity=\"1\" stroke=\"#000000\" stroke-opacity=\"1\" stroke-width=\"3.2\"/>\n",
       "<circle clip-path=\"url(#clip182)\" cx=\"1780.69\" cy=\"427.411\" r=\"14.4\" fill=\"#0000ff\" fill-rule=\"evenodd\" fill-opacity=\"1\" stroke=\"#000000\" stroke-opacity=\"1\" stroke-width=\"3.2\"/>\n",
       "<circle clip-path=\"url(#clip182)\" cx=\"2291.46\" cy=\"87.9763\" r=\"14.4\" fill=\"#0000ff\" fill-rule=\"evenodd\" fill-opacity=\"1\" stroke=\"#000000\" stroke-opacity=\"1\" stroke-width=\"3.2\"/>\n",
       "<polyline clip-path=\"url(#clip182)\" style=\"stroke:#00a9ad; stroke-linecap:round; stroke-linejoin:round; stroke-width:4; stroke-opacity:1; fill:none\" points=\"\n",
       "  248.377,1445.72 269.014,1432 289.651,1418.29 310.288,1404.57 330.926,1390.86 351.563,1377.14 372.2,1363.43 392.837,1349.71 413.475,1336 434.112,1322.28 \n",
       "  454.749,1308.57 475.386,1294.86 496.024,1281.14 516.661,1267.43 537.298,1253.71 557.935,1240 578.573,1226.28 599.21,1212.57 619.847,1198.85 640.484,1185.14 \n",
       "  661.122,1171.42 681.759,1157.71 702.396,1144 723.033,1130.28 743.67,1116.57 764.308,1102.85 784.945,1089.14 805.582,1075.42 826.219,1061.71 846.857,1047.99 \n",
       "  867.494,1034.28 888.131,1020.57 908.768,1006.85 929.406,993.136 950.043,979.421 970.68,965.707 991.317,951.992 1011.95,938.278 1032.59,924.563 1053.23,910.849 \n",
       "  1073.87,897.134 1094.5,883.42 1115.14,869.705 1135.78,855.991 1156.42,842.276 1177.05,828.561 1197.69,814.847 1218.33,801.132 1238.96,787.418 1259.6,773.703 \n",
       "  1280.24,759.989 1300.88,746.274 1321.51,732.56 1342.15,718.845 1362.79,705.131 1383.42,691.416 1404.06,677.702 1424.7,663.987 1445.34,650.272 1465.97,636.558 \n",
       "  1486.61,622.843 1507.25,609.129 1527.89,595.414 1548.52,581.7 1569.16,567.985 1589.8,554.271 1610.43,540.556 1631.07,526.842 1651.71,513.127 1672.35,499.413 \n",
       "  1692.98,485.698 1713.62,471.983 1734.26,458.269 1754.9,444.554 1775.53,430.84 1796.17,417.125 1816.81,403.411 1837.44,389.696 1858.08,375.982 1878.72,362.267 \n",
       "  1899.36,348.553 1919.99,334.838 1940.63,321.124 1961.27,307.409 1981.9,293.694 2002.54,279.98 2023.18,266.265 2043.82,252.551 2064.45,238.836 2085.09,225.122 \n",
       "  2105.73,211.407 2126.37,197.693 2147,183.978 2167.64,170.264 2188.28,156.549 2208.91,142.835 2229.55,129.12 2250.19,115.405 2270.83,101.691 2291.46,87.9764 \n",
       "  \n",
       "  \"/>\n",
       "</svg>\n"
      ]
     },
     "execution_count": 30,
     "metadata": {},
     "output_type": "execute_result"
    }
   ],
   "source": [
    "plot(x_test, y_test, legend=false, linetype=\"scatter\", color=\"blue\")\n",
    "domain = LinRange(6,10,100)\n",
    "plot!(domain, domain .* model.weight .+ model.bias, legend=false)"
   ]
  },
  {
   "cell_type": "markdown",
   "metadata": {},
   "source": [
    "### <span style=\"color:orange\">Let's make a set of **predictions** from the model</span>"
   ]
  },
  {
   "cell_type": "code",
   "execution_count": 31,
   "metadata": {},
   "outputs": [
    {
     "data": {
      "text/plain": [
       "1×4 Matrix{Float64}:\n",
       " 30.0  34.0  4.0  402.0"
      ]
     },
     "execution_count": 31,
     "metadata": {},
     "output_type": "execute_result"
    }
   ],
   "source": [
    "model([7 8 .5 100])"
   ]
  },
  {
   "cell_type": "code",
   "execution_count": null,
   "metadata": {},
   "outputs": [],
   "source": []
  },
  {
   "cell_type": "markdown",
   "metadata": {},
   "source": [
    "### <span style=\"color:orange\">Let us look at the same problem in a slightly different approach</span>\n",
    "\n",
    "- Flux assumes that the features span the 'rows' and not the columns, meaning that each column is a data point. \n",
    "- We often use a **DataLoader** object to encapsulate the features and targets and set the batch size for the SGD\n",
    "- The Adam optimizer is very popular and well known as it handles 'momenta'"
   ]
  },
  {
   "cell_type": "code",
   "execution_count": 38,
   "metadata": {},
   "outputs": [
    {
     "data": {
      "text/plain": [
       "([222 374 … 366 70], [162 146 … 130 74])"
      ]
     },
     "execution_count": 38,
     "metadata": {},
     "output_type": "execute_result"
    }
   ],
   "source": [
    "#hcat makes sure that this x data is a row and not a default column\n",
    "x_train, x_test = hcat(rand(1:100,20)...), hcat(rand(1:100,20)...)\n",
    "y_train, y_test = target_function.(x_train), target_function.(x_test)"
   ]
  },
  {
   "cell_type": "code",
   "execution_count": null,
   "metadata": {},
   "outputs": [],
   "source": []
  },
  {
   "cell_type": "code",
   "execution_count": 39,
   "metadata": {},
   "outputs": [
    {
     "data": {
      "text/plain": [
       "MLUtils.DataLoader{Tuple{Matrix{Int64}, Matrix{Int64}}, Random._GLOBAL_RNG, Val{nothing}}(([55 93 … 91 17], [222 374 … 366 70]), 2, false, true, true, false, Val{nothing}(), Random._GLOBAL_RNG())"
      ]
     },
     "execution_count": 39,
     "metadata": {},
     "output_type": "execute_result"
    }
   ],
   "source": [
    "W = rand()\n",
    "b = rand()\n",
    "model1(x) = W*x .+ b\n",
    "function loss1(x,y)\n",
    "    y_hat = model1.(x)[1]\n",
    "    sum((y .- y_hat).^2)\n",
    "end\n",
    "pars = Flux.params(model1)\n",
    "opt = Flux.Adam(0.01)      # will store optimiser momentum\n",
    "loader = Flux.DataLoader( (x_train, y_train) , batchsize=2, shuffle=true )"
   ]
  },
  {
   "cell_type": "code",
   "execution_count": 40,
   "metadata": {},
   "outputs": [
    {
     "name": "stdout",
     "output_type": "stream",
     "text": [
      "55 93\n",
      "222 374\n"
     ]
    }
   ],
   "source": [
    "for (x,y) in (x_train,y_train)\n",
    "    println(x,\" \",y)\n",
    "end"
   ]
  },
  {
   "cell_type": "code",
   "execution_count": 34,
   "metadata": {},
   "outputs": [
    {
     "ename": "LoadError",
     "evalue": "MethodError: no method matching loss1(::Matrix{Int64})\n\u001b[0mClosest candidates are:\n\u001b[0m  loss1(::Any, \u001b[91m::Any\u001b[39m) at In[33]:4",
     "output_type": "error",
     "traceback": [
      "MethodError: no method matching loss1(::Matrix{Int64})\n\u001b[0mClosest candidates are:\n\u001b[0m  loss1(::Any, \u001b[91m::Any\u001b[39m) at In[33]:4",
      "",
      "Stacktrace:",
      "  [1] macro expansion",
      "    @ ~/.julia/packages/Zygote/dABKa/src/compiler/interface2.jl:0 [inlined]",
      "  [2] _pullback(ctx::Zygote.Context{true}, f::typeof(loss1), args::Matrix{Int64})",
      "    @ Zygote ~/.julia/packages/Zygote/dABKa/src/compiler/interface2.jl:9",
      "  [3] _apply(::Function, ::Vararg{Any})",
      "    @ Core ./boot.jl:816",
      "  [4] adjoint",
      "    @ ~/.julia/packages/Zygote/dABKa/src/lib/lib.jl:203 [inlined]",
      "  [5] _pullback",
      "    @ ~/.julia/packages/ZygoteRules/AIbCs/src/adjoint.jl:65 [inlined]",
      "  [6] _pullback",
      "    @ ~/.julia/packages/Flux/4k0Ls/src/optimise/train.jl:130 [inlined]",
      "  [7] _pullback(::Zygote.Context{true}, ::Flux.Optimise.var\"#37#40\"{typeof(loss1), Matrix{Int64}})",
      "    @ Zygote ~/.julia/packages/Zygote/dABKa/src/compiler/interface2.jl:0",
      "  [8] pullback(f::Function, ps::Params{Zygote.Buffer{Any, Vector{Any}}})",
      "    @ Zygote ~/.julia/packages/Zygote/dABKa/src/compiler/interface.jl:373",
      "  [9] gradient(f::Function, args::Params{Zygote.Buffer{Any, Vector{Any}}})",
      "    @ Zygote ~/.julia/packages/Zygote/dABKa/src/compiler/interface.jl:96",
      " [10] macro expansion",
      "    @ ~/.julia/packages/Flux/4k0Ls/src/optimise/train.jl:129 [inlined]",
      " [11] macro expansion",
      "    @ ~/.julia/packages/ProgressLogging/6KXlp/src/ProgressLogging.jl:328 [inlined]",
      " [12] train!(loss::Function, ps::Params{Zygote.Buffer{Any, Vector{Any}}}, data::Tuple{Matrix{Int64}, Matrix{Int64}}, opt::Adam; cb::Flux.Optimise.var\"#38#41\")",
      "    @ Flux.Optimise ~/.julia/packages/Flux/4k0Ls/src/optimise/train.jl:127",
      " [13] train!(loss::Function, ps::Params{Zygote.Buffer{Any, Vector{Any}}}, data::Tuple{Matrix{Int64}, Matrix{Int64}}, opt::Adam)",
      "    @ Flux.Optimise ~/.julia/packages/Flux/4k0Ls/src/optimise/train.jl:123",
      " [14] top-level scope",
      "    @ ./In[34]:5",
      " [15] eval",
      "    @ ./boot.jl:368 [inlined]",
      " [16] include_string(mapexpr::typeof(REPL.softscope), mod::Module, code::String, filename::String)",
      "    @ Base ./loading.jl:1428"
     ]
    }
   ],
   "source": [
    "for epoch in 1:1_000\n",
    "    for (x, y) in loader\n",
    "        y_hat = model1(x)\n",
    "        loss1(y, y_hat)\n",
    "        Flux.train!(loss1, pars, (x,y), opt)\n",
    "    end\n",
    "end"
   ]
  },
  {
   "cell_type": "code",
   "execution_count": 101,
   "metadata": {},
   "outputs": [],
   "source": [
    "#plot(losses)"
   ]
  },
  {
   "cell_type": "code",
   "execution_count": 102,
   "metadata": {},
   "outputs": [
    {
     "data": {
      "text/plain": [
       "0.18349628499663506"
      ]
     },
     "execution_count": 102,
     "metadata": {},
     "output_type": "execute_result"
    }
   ],
   "source": [
    "W"
   ]
  },
  {
   "cell_type": "code",
   "execution_count": null,
   "metadata": {},
   "outputs": [],
   "source": []
  },
  {
   "cell_type": "code",
   "execution_count": 32,
   "metadata": {},
   "outputs": [],
   "source": [
    "### <span style=\"color:orange\"></span>\n",
    "### <span style=\"color:orange\"></span>\n"
   ]
  },
  {
   "cell_type": "code",
   "execution_count": null,
   "metadata": {},
   "outputs": [],
   "source": []
  },
  {
   "cell_type": "code",
   "execution_count": null,
   "metadata": {},
   "outputs": [],
   "source": []
  },
  {
   "cell_type": "markdown",
   "metadata": {},
   "source": [
    "### <span style=\"color:orange\">produce some ground truth parameters</span>"
   ]
  },
  {
   "cell_type": "code",
   "execution_count": 36,
   "metadata": {},
   "outputs": [
    {
     "data": {
      "text/plain": [
       "2×5 Matrix{Int64}:\n",
       " 1  2  3  4  5\n",
       " 5  4  3  2  1"
      ]
     },
     "metadata": {},
     "output_type": "display_data"
    }
   ],
   "source": [
    "W_truth = [1 2 3 4 5]\n",
    "display( W_truth )"
   ]
  },
  {
   "cell_type": "code",
   "execution_count": 38,
   "metadata": {},
   "outputs": [
    {
     "data": {
      "text/plain": [
       "1-element Vector{Float64}:\n",
       " -2.0"
      ]
     },
     "metadata": {},
     "output_type": "display_data"
    }
   ],
   "source": [
    "b_truth = [ -2.0 ]\n",
    "display( b_truth )"
   ]
  },
  {
   "cell_type": "markdown",
   "metadata": {},
   "source": [
    "### <span style=\"color:orange\">produce a ground truth model to produce data</span>"
   ]
  },
  {
   "cell_type": "code",
   "execution_count": 12,
   "metadata": {},
   "outputs": [
    {
     "data": {
      "text/plain": [
       "ground_truth_model (generic function with 1 method)"
      ]
     },
     "execution_count": 12,
     "metadata": {},
     "output_type": "execute_result"
    }
   ],
   "source": [
    "ground_truth_model(x) = (W_truth * x) .+ b_truth"
   ]
  },
  {
   "cell_type": "markdown",
   "metadata": {},
   "source": [
    "### <span style=\"color:orange\">produce some *training feature* data</span>"
   ]
  },
  {
   "cell_type": "code",
   "execution_count": 145,
   "metadata": {},
   "outputs": [
    {
     "name": "stdout",
     "output_type": "stream",
     "text": [
      "(1000,)\n"
     ]
    },
    {
     "data": {
      "text/plain": [
       "4-element Vector{Vector{Float64}}:\n",
       " [2.1208584464907614, 4.163429508817119, 1.7837581819243453, 4.191883360153838, 0.9090654523496511]\n",
       " [2.5236466993444058, 0.5522780451803794, 4.308994851030602, 3.5725598676226236, 2.2233108849818866]\n",
       " [1.0168668447179057, 4.720139202172423, 0.0335506960345161, 4.052071949031639, 1.5691063438533743]\n",
       " [1.537624116410331, 1.7997210953088234, 4.538404390194335, 0.5282918858982111, 1.1087434807820133]"
      ]
     },
     "metadata": {},
     "output_type": "display_data"
    }
   ],
   "source": [
    "NN = 10^3\n",
    "x_train = [ 5 .* rand(5) for _ in 1:NN ]\n",
    "println( size( x_train ) )\n",
    "display( x_train[1:4] )"
   ]
  },
  {
   "cell_type": "markdown",
   "metadata": {},
   "source": [
    "### <span style=\"color:orange\">produce some *training target* data</span>"
   ]
  },
  {
   "cell_type": "code",
   "execution_count": 146,
   "metadata": {},
   "outputs": [
    {
     "name": "stdout",
     "output_type": "stream",
     "text": [
      "(1000,)\n"
     ]
    },
    {
     "data": {
      "text/plain": [
       "4-element Vector{Vector{Float64}}:\n",
       " [35.982321957464244, 39.91723968690263]\n",
       " [40.89538747080707, 35.14593318607259]\n",
       " [33.78056442140868, 31.656362480792733]\n",
       " [25.634360399374426, 28.4468328996352]"
      ]
     },
     "metadata": {},
     "output_type": "display_data"
    }
   ],
   "source": [
    "y_train = [ ground_truth_model(x) + 0.2 .* randn(2) for x in x_train ]\n",
    "println( size( y_train ) )\n",
    "display( y_train[1:4] )"
   ]
  },
  {
   "cell_type": "markdown",
   "metadata": {},
   "source": [
    "### <span style=\"color:orange\">define the model</span>"
   ]
  },
  {
   "cell_type": "code",
   "execution_count": 147,
   "metadata": {},
   "outputs": [
    {
     "data": {
      "text/plain": [
       "model_to_fit (generic function with 1 method)"
      ]
     },
     "execution_count": 147,
     "metadata": {},
     "output_type": "execute_result"
    }
   ],
   "source": [
    "model_to_fit(x) = W1*x .+ b1"
   ]
  },
  {
   "cell_type": "markdown",
   "metadata": {},
   "source": [
    "### <span style=\"color:orange\">Initialize the model parameters</span>"
   ]
  },
  {
   "cell_type": "code",
   "execution_count": 189,
   "metadata": {},
   "outputs": [
    {
     "data": {
      "text/plain": [
       "2-element Vector{Float64}:\n",
       " 10.27977596938496\n",
       " 10.752576902079465"
      ]
     },
     "execution_count": 189,
     "metadata": {},
     "output_type": "execute_result"
    }
   ],
   "source": [
    "W1 = rand( 2, 5 ) .+ 10\n",
    "b1 = rand( 2 ) .+ 10"
   ]
  },
  {
   "cell_type": "markdown",
   "metadata": {},
   "source": [
    "### <span style=\"color:orange\">define the loss function</span>"
   ]
  },
  {
   "cell_type": "code",
   "execution_count": 190,
   "metadata": {},
   "outputs": [
    {
     "data": {
      "text/plain": [
       "loss1 (generic function with 1 method)"
      ]
     },
     "execution_count": 190,
     "metadata": {},
     "output_type": "execute_result"
    }
   ],
   "source": [
    "function loss1( x, y )\n",
    "    y_hat = model_to_fit( x ) #y_hat is our prediction based upon the model given the current value of the parameters \n",
    "    sum( ( y .- y_hat ).^2 ) #this is the sum of squared errors (SSE) of the prediction for these parameter values\n",
    "end"
   ]
  },
  {
   "cell_type": "markdown",
   "metadata": {},
   "source": [
    "### <span style=\"color:orange\">set the optimizer for parameter for the gradients</span>"
   ]
  },
  {
   "cell_type": "code",
   "execution_count": 191,
   "metadata": {},
   "outputs": [
    {
     "data": {
      "text/plain": [
       "Adam(0.01, (0.9, 0.999), 1.0e-8, IdDict{Any, Any}())"
      ]
     },
     "execution_count": 191,
     "metadata": {},
     "output_type": "execute_result"
    }
   ],
   "source": [
    "opt = Flux.Adam(0.01) # an alternative is >Descent(0.01)< "
   ]
  },
  {
   "cell_type": "markdown",
   "metadata": {},
   "source": [
    "### <span style=\"color:orange\">get the parameters of the model which need to be optimized</span>"
   ]
  },
  {
   "cell_type": "code",
   "execution_count": 192,
   "metadata": {},
   "outputs": [
    {
     "data": {
      "text/plain": [
       "Params([model_to_fit])"
      ]
     },
     "execution_count": 192,
     "metadata": {},
     "output_type": "execute_result"
    }
   ],
   "source": [
    "ps = Params( [model_to_fit] ) # Params is part of Zygote.jl, as Zygote allows a dictionary style retrieval of the parameter variables\n",
    "#alternative forms are >Params([W1,b1])< , using flux >Flux.params(W1, b1)< or >Flux.params(model_to_fit)<"
   ]
  },
  {
   "cell_type": "markdown",
   "metadata": {},
   "source": [
    "### <span style=\"color:orange\">We can calculate the loss for each setting of the parameters which is needed to find the **gradient** </span>"
   ]
  },
  {
   "cell_type": "code",
   "execution_count": 193,
   "metadata": {},
   "outputs": [
    {
     "name": "stdout",
     "output_type": "stream",
     "text": [
      "24237.961876376605\n"
     ]
    },
    {
     "data": {
      "text/plain": [
       "Grads(...)"
      ]
     },
     "execution_count": 193,
     "metadata": {},
     "output_type": "execute_result"
    }
   ],
   "source": [
    "gs = gradient( Params([W1,b1]) ) do #using Zygote.jl\n",
    "    l1 = loss1(x_train[1],y_train[1])\n",
    "    println(l1)\n",
    "    return l1\n",
    "end"
   ]
  },
  {
   "cell_type": "code",
   "execution_count": 194,
   "metadata": {},
   "outputs": [
    {
     "data": {
      "text/plain": [
       "2×5 Matrix{Float64}:\n",
       " 479.536  941.371  403.316  947.805  205.544\n",
       " 454.025  891.29   381.86   897.381  194.609"
      ]
     },
     "execution_count": 194,
     "metadata": {},
     "output_type": "execute_result"
    }
   ],
   "source": [
    "gs[W1]"
   ]
  },
  {
   "cell_type": "code",
   "execution_count": 195,
   "metadata": {},
   "outputs": [
    {
     "data": {
      "text/plain": [
       "2-element Vector{Float64}:\n",
       " 226.10475919027664\n",
       " 214.07588695837143"
      ]
     },
     "execution_count": 195,
     "metadata": {},
     "output_type": "execute_result"
    }
   ],
   "source": [
    "gs[b1]"
   ]
  },
  {
   "cell_type": "code",
   "execution_count": 196,
   "metadata": {},
   "outputs": [
    {
     "name": "stdout",
     "output_type": "stream",
     "text": [
      "24237.961876376605\n"
     ]
    },
    {
     "data": {
      "text/plain": [
       "Grads(...)"
      ]
     },
     "execution_count": 196,
     "metadata": {},
     "output_type": "execute_result"
    }
   ],
   "source": [
    "gs = gradient(Flux.params(x_train, y_train)) do #using Flux.jl\n",
    "    l1 = loss1(x_train[1],y_train[1])\n",
    "    println(l1)\n",
    "    return l1\n",
    "end"
   ]
  },
  {
   "cell_type": "code",
   "execution_count": 197,
   "metadata": {},
   "outputs": [],
   "source": [
    "train_data = zip( x_train, y_train )\n",
    "\n",
    "ps = Flux.params( model_to_fit )\n",
    "\n",
    "loss_log = []\n",
    "\n",
    "for (x,y) in train_data\n",
    "    gs = gradient( ps ) do #using Flux.jl\n",
    "        l1 = loss1(x,y)\n",
    "        Zygote.ignore_derivatives() do # code in this 'block' is not part of the differentiated set (not part of the optimization)\n",
    "            push!(loss_log, l1)\n",
    "        end\n",
    "        return l1\n",
    "    end\n",
    "    Flux.Optimise.update!(opt, ps, gs)\n",
    "end"
   ]
  },
  {
   "cell_type": "code",
   "execution_count": 198,
   "metadata": {},
   "outputs": [
    {
     "data": {
      "text/plain": [
       "1000-element Vector{Any}:\n",
       " 24237.961876376605\n",
       " 24093.623717882045\n",
       " 18884.228937818887\n",
       " 13464.934682025541\n",
       "  9472.990301449478\n",
       " 31403.13484342039\n",
       " 16700.79033210296\n",
       " 15297.859388950936\n",
       " 13660.081499067375\n",
       " 12317.934664637005\n",
       " 18941.627383771804\n",
       " 16515.51335477688\n",
       " 22488.66343331941\n",
       "     ⋮\n",
       " 22173.70908233695\n",
       "  8887.247844694572\n",
       " 37537.70818517936\n",
       " 31591.92454538282\n",
       " 17988.07626468913\n",
       " 29712.204483713125\n",
       " 37370.469458890584\n",
       " 19132.197662348208\n",
       " 26474.38283523103\n",
       " 15120.480969724633\n",
       " 36310.313945297996\n",
       " 26813.532422541026"
      ]
     },
     "execution_count": 198,
     "metadata": {},
     "output_type": "execute_result"
    }
   ],
   "source": [
    "loss_log"
   ]
  },
  {
   "cell_type": "code",
   "execution_count": 199,
   "metadata": {},
   "outputs": [
    {
     "data": {
      "image/svg+xml": [
       "<?xml version=\"1.0\" encoding=\"utf-8\"?>\n",
       "<svg xmlns=\"http://www.w3.org/2000/svg\" xmlns:xlink=\"http://www.w3.org/1999/xlink\" width=\"600\" height=\"400\" viewBox=\"0 0 2400 1600\">\n",
       "<defs>\n",
       "  <clipPath id=\"clip770\">\n",
       "    <rect x=\"0\" y=\"0\" width=\"2400\" height=\"1600\"/>\n",
       "  </clipPath>\n",
       "</defs>\n",
       "<path clip-path=\"url(#clip770)\" d=\"\n",
       "M0 1600 L2400 1600 L2400 0 L0 0  Z\n",
       "  \" fill=\"#ffffff\" fill-rule=\"evenodd\" fill-opacity=\"1\"/>\n",
       "<defs>\n",
       "  <clipPath id=\"clip771\">\n",
       "    <rect x=\"480\" y=\"0\" width=\"1681\" height=\"1600\"/>\n",
       "  </clipPath>\n",
       "</defs>\n",
       "<path clip-path=\"url(#clip770)\" d=\"\n",
       "M277.431 1486.45 L2352.76 1486.45 L2352.76 47.2441 L277.431 47.2441  Z\n",
       "  \" fill=\"#ffffff\" fill-rule=\"evenodd\" fill-opacity=\"1\"/>\n",
       "<defs>\n",
       "  <clipPath id=\"clip772\">\n",
       "    <rect x=\"277\" y=\"47\" width=\"2076\" height=\"1440\"/>\n",
       "  </clipPath>\n",
       "</defs>\n",
       "<polyline clip-path=\"url(#clip772)\" style=\"stroke:#000000; stroke-linecap:round; stroke-linejoin:round; stroke-width:2; stroke-opacity:0.1; fill:none\" points=\"\n",
       "  334.207,1486.45 334.207,47.2441 \n",
       "  \"/>\n",
       "<polyline clip-path=\"url(#clip772)\" style=\"stroke:#000000; stroke-linecap:round; stroke-linejoin:round; stroke-width:2; stroke-opacity:0.1; fill:none\" points=\"\n",
       "  824.16,1486.45 824.16,47.2441 \n",
       "  \"/>\n",
       "<polyline clip-path=\"url(#clip772)\" style=\"stroke:#000000; stroke-linecap:round; stroke-linejoin:round; stroke-width:2; stroke-opacity:0.1; fill:none\" points=\"\n",
       "  1314.11,1486.45 1314.11,47.2441 \n",
       "  \"/>\n",
       "<polyline clip-path=\"url(#clip772)\" style=\"stroke:#000000; stroke-linecap:round; stroke-linejoin:round; stroke-width:2; stroke-opacity:0.1; fill:none\" points=\"\n",
       "  1804.07,1486.45 1804.07,47.2441 \n",
       "  \"/>\n",
       "<polyline clip-path=\"url(#clip772)\" style=\"stroke:#000000; stroke-linecap:round; stroke-linejoin:round; stroke-width:2; stroke-opacity:0.1; fill:none\" points=\"\n",
       "  2294.02,1486.45 2294.02,47.2441 \n",
       "  \"/>\n",
       "<polyline clip-path=\"url(#clip770)\" style=\"stroke:#000000; stroke-linecap:round; stroke-linejoin:round; stroke-width:4; stroke-opacity:1; fill:none\" points=\"\n",
       "  277.431,1486.45 2352.76,1486.45 \n",
       "  \"/>\n",
       "<polyline clip-path=\"url(#clip770)\" style=\"stroke:#000000; stroke-linecap:round; stroke-linejoin:round; stroke-width:4; stroke-opacity:1; fill:none\" points=\"\n",
       "  334.207,1486.45 334.207,1467.55 \n",
       "  \"/>\n",
       "<polyline clip-path=\"url(#clip770)\" style=\"stroke:#000000; stroke-linecap:round; stroke-linejoin:round; stroke-width:4; stroke-opacity:1; fill:none\" points=\"\n",
       "  824.16,1486.45 824.16,1467.55 \n",
       "  \"/>\n",
       "<polyline clip-path=\"url(#clip770)\" style=\"stroke:#000000; stroke-linecap:round; stroke-linejoin:round; stroke-width:4; stroke-opacity:1; fill:none\" points=\"\n",
       "  1314.11,1486.45 1314.11,1467.55 \n",
       "  \"/>\n",
       "<polyline clip-path=\"url(#clip770)\" style=\"stroke:#000000; stroke-linecap:round; stroke-linejoin:round; stroke-width:4; stroke-opacity:1; fill:none\" points=\"\n",
       "  1804.07,1486.45 1804.07,1467.55 \n",
       "  \"/>\n",
       "<polyline clip-path=\"url(#clip770)\" style=\"stroke:#000000; stroke-linecap:round; stroke-linejoin:round; stroke-width:4; stroke-opacity:1; fill:none\" points=\"\n",
       "  2294.02,1486.45 2294.02,1467.55 \n",
       "  \"/>\n",
       "<path clip-path=\"url(#clip770)\" d=\"M334.207 1517.37 Q330.596 1517.37 328.767 1520.93 Q326.961 1524.47 326.961 1531.6 Q326.961 1538.71 328.767 1542.27 Q330.596 1545.82 334.207 1545.82 Q337.841 1545.82 339.647 1542.27 Q341.475 1538.71 341.475 1531.6 Q341.475 1524.47 339.647 1520.93 Q337.841 1517.37 334.207 1517.37 M334.207 1513.66 Q340.017 1513.66 343.072 1518.27 Q346.151 1522.85 346.151 1531.6 Q346.151 1540.33 343.072 1544.94 Q340.017 1549.52 334.207 1549.52 Q328.397 1549.52 325.318 1544.94 Q322.262 1540.33 322.262 1531.6 Q322.262 1522.85 325.318 1518.27 Q328.397 1513.66 334.207 1513.66 Z\" fill=\"#000000\" fill-rule=\"evenodd\" fill-opacity=\"1\" /><path clip-path=\"url(#clip770)\" d=\"M787.852 1544.91 L804.172 1544.91 L804.172 1548.85 L782.227 1548.85 L782.227 1544.91 Q784.889 1542.16 789.473 1537.53 Q794.079 1532.88 795.26 1531.53 Q797.505 1529.01 798.385 1527.27 Q799.288 1525.51 799.288 1523.82 Q799.288 1521.07 797.343 1519.33 Q795.422 1517.6 792.32 1517.6 Q790.121 1517.6 787.667 1518.36 Q785.237 1519.13 782.459 1520.68 L782.459 1515.95 Q785.283 1514.82 787.737 1514.24 Q790.19 1513.66 792.227 1513.66 Q797.598 1513.66 800.792 1516.35 Q803.987 1519.03 803.987 1523.52 Q803.987 1525.65 803.176 1527.57 Q802.389 1529.47 800.283 1532.07 Q799.704 1532.74 796.602 1535.95 Q793.501 1539.15 787.852 1544.91 Z\" fill=\"#000000\" fill-rule=\"evenodd\" fill-opacity=\"1\" /><path clip-path=\"url(#clip770)\" d=\"M814.033 1514.29 L832.389 1514.29 L832.389 1518.22 L818.315 1518.22 L818.315 1526.7 Q819.334 1526.35 820.352 1526.19 Q821.371 1526 822.389 1526 Q828.176 1526 831.556 1529.17 Q834.936 1532.34 834.936 1537.76 Q834.936 1543.34 831.463 1546.44 Q827.991 1549.52 821.672 1549.52 Q819.496 1549.52 817.227 1549.15 Q814.982 1548.78 812.575 1548.04 L812.575 1543.34 Q814.658 1544.47 816.88 1545.03 Q819.102 1545.58 821.579 1545.58 Q825.584 1545.58 827.922 1543.48 Q830.26 1541.37 830.26 1537.76 Q830.26 1534.15 827.922 1532.04 Q825.584 1529.94 821.579 1529.94 Q819.704 1529.94 817.829 1530.35 Q815.977 1530.77 814.033 1531.65 L814.033 1514.29 Z\" fill=\"#000000\" fill-rule=\"evenodd\" fill-opacity=\"1\" /><path clip-path=\"url(#clip770)\" d=\"M854.148 1517.37 Q850.537 1517.37 848.709 1520.93 Q846.903 1524.47 846.903 1531.6 Q846.903 1538.71 848.709 1542.27 Q850.537 1545.82 854.148 1545.82 Q857.783 1545.82 859.588 1542.27 Q861.417 1538.71 861.417 1531.6 Q861.417 1524.47 859.588 1520.93 Q857.783 1517.37 854.148 1517.37 M854.148 1513.66 Q859.959 1513.66 863.014 1518.27 Q866.093 1522.85 866.093 1531.6 Q866.093 1540.33 863.014 1544.94 Q859.959 1549.52 854.148 1549.52 Q848.338 1549.52 845.26 1544.94 Q842.204 1540.33 842.204 1531.6 Q842.204 1522.85 845.26 1518.27 Q848.338 1513.66 854.148 1513.66 Z\" fill=\"#000000\" fill-rule=\"evenodd\" fill-opacity=\"1\" /><path clip-path=\"url(#clip770)\" d=\"M1273.73 1514.29 L1292.09 1514.29 L1292.09 1518.22 L1278.01 1518.22 L1278.01 1526.7 Q1279.03 1526.35 1280.05 1526.19 Q1281.07 1526 1282.09 1526 Q1287.88 1526 1291.25 1529.17 Q1294.63 1532.34 1294.63 1537.76 Q1294.63 1543.34 1291.16 1546.44 Q1287.69 1549.52 1281.37 1549.52 Q1279.19 1549.52 1276.93 1549.15 Q1274.68 1548.78 1272.27 1548.04 L1272.27 1543.34 Q1274.36 1544.47 1276.58 1545.03 Q1278.8 1545.58 1281.28 1545.58 Q1285.28 1545.58 1287.62 1543.48 Q1289.96 1541.37 1289.96 1537.76 Q1289.96 1534.15 1287.62 1532.04 Q1285.28 1529.94 1281.28 1529.94 Q1279.4 1529.94 1277.53 1530.35 Q1275.68 1530.77 1273.73 1531.65 L1273.73 1514.29 Z\" fill=\"#000000\" fill-rule=\"evenodd\" fill-opacity=\"1\" /><path clip-path=\"url(#clip770)\" d=\"M1313.85 1517.37 Q1310.24 1517.37 1308.41 1520.93 Q1306.6 1524.47 1306.6 1531.6 Q1306.6 1538.71 1308.41 1542.27 Q1310.24 1545.82 1313.85 1545.82 Q1317.48 1545.82 1319.29 1542.27 Q1321.12 1538.71 1321.12 1531.6 Q1321.12 1524.47 1319.29 1520.93 Q1317.48 1517.37 1313.85 1517.37 M1313.85 1513.66 Q1319.66 1513.66 1322.71 1518.27 Q1325.79 1522.85 1325.79 1531.6 Q1325.79 1540.33 1322.71 1544.94 Q1319.66 1549.52 1313.85 1549.52 Q1308.04 1549.52 1304.96 1544.94 Q1301.9 1540.33 1301.9 1531.6 Q1301.9 1522.85 1304.96 1518.27 Q1308.04 1513.66 1313.85 1513.66 Z\" fill=\"#000000\" fill-rule=\"evenodd\" fill-opacity=\"1\" /><path clip-path=\"url(#clip770)\" d=\"M1344.01 1517.37 Q1340.4 1517.37 1338.57 1520.93 Q1336.76 1524.47 1336.76 1531.6 Q1336.76 1538.71 1338.57 1542.27 Q1340.4 1545.82 1344.01 1545.82 Q1347.64 1545.82 1349.45 1542.27 Q1351.28 1538.71 1351.28 1531.6 Q1351.28 1524.47 1349.45 1520.93 Q1347.64 1517.37 1344.01 1517.37 M1344.01 1513.66 Q1349.82 1513.66 1352.87 1518.27 Q1355.95 1522.85 1355.95 1531.6 Q1355.95 1540.33 1352.87 1544.94 Q1349.82 1549.52 1344.01 1549.52 Q1338.2 1549.52 1335.12 1544.94 Q1332.06 1540.33 1332.06 1531.6 Q1332.06 1522.85 1335.12 1518.27 Q1338.2 1513.66 1344.01 1513.66 Z\" fill=\"#000000\" fill-rule=\"evenodd\" fill-opacity=\"1\" /><path clip-path=\"url(#clip770)\" d=\"M1762.34 1514.29 L1784.56 1514.29 L1784.56 1516.28 L1772.02 1548.85 L1767.13 1548.85 L1778.94 1518.22 L1762.34 1518.22 L1762.34 1514.29 Z\" fill=\"#000000\" fill-rule=\"evenodd\" fill-opacity=\"1\" /><path clip-path=\"url(#clip770)\" d=\"M1793.73 1514.29 L1812.09 1514.29 L1812.09 1518.22 L1798.01 1518.22 L1798.01 1526.7 Q1799.03 1526.35 1800.05 1526.19 Q1801.07 1526 1802.09 1526 Q1807.87 1526 1811.25 1529.17 Q1814.63 1532.34 1814.63 1537.76 Q1814.63 1543.34 1811.16 1546.44 Q1807.69 1549.52 1801.37 1549.52 Q1799.19 1549.52 1796.93 1549.15 Q1794.68 1548.78 1792.27 1548.04 L1792.27 1543.34 Q1794.36 1544.47 1796.58 1545.03 Q1798.8 1545.58 1801.28 1545.58 Q1805.28 1545.58 1807.62 1543.48 Q1809.96 1541.37 1809.96 1537.76 Q1809.96 1534.15 1807.62 1532.04 Q1805.28 1529.94 1801.28 1529.94 Q1799.4 1529.94 1797.53 1530.35 Q1795.68 1530.77 1793.73 1531.65 L1793.73 1514.29 Z\" fill=\"#000000\" fill-rule=\"evenodd\" fill-opacity=\"1\" /><path clip-path=\"url(#clip770)\" d=\"M1833.85 1517.37 Q1830.24 1517.37 1828.41 1520.93 Q1826.6 1524.47 1826.6 1531.6 Q1826.6 1538.71 1828.41 1542.27 Q1830.24 1545.82 1833.85 1545.82 Q1837.48 1545.82 1839.29 1542.27 Q1841.12 1538.71 1841.12 1531.6 Q1841.12 1524.47 1839.29 1520.93 Q1837.48 1517.37 1833.85 1517.37 M1833.85 1513.66 Q1839.66 1513.66 1842.71 1518.27 Q1845.79 1522.85 1845.79 1531.6 Q1845.79 1540.33 1842.71 1544.94 Q1839.66 1549.52 1833.85 1549.52 Q1828.04 1549.52 1824.96 1544.94 Q1821.9 1540.33 1821.9 1531.6 Q1821.9 1522.85 1824.96 1518.27 Q1828.04 1513.66 1833.85 1513.66 Z\" fill=\"#000000\" fill-rule=\"evenodd\" fill-opacity=\"1\" /><path clip-path=\"url(#clip770)\" d=\"M2238.55 1544.91 L2246.18 1544.91 L2246.18 1518.55 L2237.87 1520.21 L2237.87 1515.95 L2246.14 1514.29 L2250.81 1514.29 L2250.81 1544.91 L2258.45 1544.91 L2258.45 1548.85 L2238.55 1548.85 L2238.55 1544.91 Z\" fill=\"#000000\" fill-rule=\"evenodd\" fill-opacity=\"1\" /><path clip-path=\"url(#clip770)\" d=\"M2277.9 1517.37 Q2274.29 1517.37 2272.46 1520.93 Q2270.65 1524.47 2270.65 1531.6 Q2270.65 1538.71 2272.46 1542.27 Q2274.29 1545.82 2277.9 1545.82 Q2281.53 1545.82 2283.34 1542.27 Q2285.17 1538.71 2285.17 1531.6 Q2285.17 1524.47 2283.34 1520.93 Q2281.53 1517.37 2277.9 1517.37 M2277.9 1513.66 Q2283.71 1513.66 2286.76 1518.27 Q2289.84 1522.85 2289.84 1531.6 Q2289.84 1540.33 2286.76 1544.94 Q2283.71 1549.52 2277.9 1549.52 Q2272.09 1549.52 2269.01 1544.94 Q2265.95 1540.33 2265.95 1531.6 Q2265.95 1522.85 2269.01 1518.27 Q2272.09 1513.66 2277.9 1513.66 Z\" fill=\"#000000\" fill-rule=\"evenodd\" fill-opacity=\"1\" /><path clip-path=\"url(#clip770)\" d=\"M2308.06 1517.37 Q2304.45 1517.37 2302.62 1520.93 Q2300.81 1524.47 2300.81 1531.6 Q2300.81 1538.71 2302.62 1542.27 Q2304.45 1545.82 2308.06 1545.82 Q2311.69 1545.82 2313.5 1542.27 Q2315.33 1538.71 2315.33 1531.6 Q2315.33 1524.47 2313.5 1520.93 Q2311.69 1517.37 2308.06 1517.37 M2308.06 1513.66 Q2313.87 1513.66 2316.93 1518.27 Q2320 1522.85 2320 1531.6 Q2320 1540.33 2316.93 1544.94 Q2313.87 1549.52 2308.06 1549.52 Q2302.25 1549.52 2299.17 1544.94 Q2296.12 1540.33 2296.12 1531.6 Q2296.12 1522.85 2299.17 1518.27 Q2302.25 1513.66 2308.06 1513.66 Z\" fill=\"#000000\" fill-rule=\"evenodd\" fill-opacity=\"1\" /><path clip-path=\"url(#clip770)\" d=\"M2338.22 1517.37 Q2334.61 1517.37 2332.78 1520.93 Q2330.98 1524.47 2330.98 1531.6 Q2330.98 1538.71 2332.78 1542.27 Q2334.61 1545.82 2338.22 1545.82 Q2341.86 1545.82 2343.66 1542.27 Q2345.49 1538.71 2345.49 1531.6 Q2345.49 1524.47 2343.66 1520.93 Q2341.86 1517.37 2338.22 1517.37 M2338.22 1513.66 Q2344.03 1513.66 2347.09 1518.27 Q2350.17 1522.85 2350.17 1531.6 Q2350.17 1540.33 2347.09 1544.94 Q2344.03 1549.52 2338.22 1549.52 Q2332.41 1549.52 2329.33 1544.94 Q2326.28 1540.33 2326.28 1531.6 Q2326.28 1522.85 2329.33 1518.27 Q2332.41 1513.66 2338.22 1513.66 Z\" fill=\"#000000\" fill-rule=\"evenodd\" fill-opacity=\"1\" /><polyline clip-path=\"url(#clip772)\" style=\"stroke:#000000; stroke-linecap:round; stroke-linejoin:round; stroke-width:2; stroke-opacity:0.1; fill:none\" points=\"\n",
       "  277.431,1294.77 2352.76,1294.77 \n",
       "  \"/>\n",
       "<polyline clip-path=\"url(#clip772)\" style=\"stroke:#000000; stroke-linecap:round; stroke-linejoin:round; stroke-width:2; stroke-opacity:0.1; fill:none\" points=\"\n",
       "  277.431,1084.02 2352.76,1084.02 \n",
       "  \"/>\n",
       "<polyline clip-path=\"url(#clip772)\" style=\"stroke:#000000; stroke-linecap:round; stroke-linejoin:round; stroke-width:2; stroke-opacity:0.1; fill:none\" points=\"\n",
       "  277.431,873.275 2352.76,873.275 \n",
       "  \"/>\n",
       "<polyline clip-path=\"url(#clip772)\" style=\"stroke:#000000; stroke-linecap:round; stroke-linejoin:round; stroke-width:2; stroke-opacity:0.1; fill:none\" points=\"\n",
       "  277.431,662.525 2352.76,662.525 \n",
       "  \"/>\n",
       "<polyline clip-path=\"url(#clip772)\" style=\"stroke:#000000; stroke-linecap:round; stroke-linejoin:round; stroke-width:2; stroke-opacity:0.1; fill:none\" points=\"\n",
       "  277.431,451.776 2352.76,451.776 \n",
       "  \"/>\n",
       "<polyline clip-path=\"url(#clip772)\" style=\"stroke:#000000; stroke-linecap:round; stroke-linejoin:round; stroke-width:2; stroke-opacity:0.1; fill:none\" points=\"\n",
       "  277.431,241.026 2352.76,241.026 \n",
       "  \"/>\n",
       "<polyline clip-path=\"url(#clip770)\" style=\"stroke:#000000; stroke-linecap:round; stroke-linejoin:round; stroke-width:4; stroke-opacity:1; fill:none\" points=\"\n",
       "  277.431,1486.45 277.431,47.2441 \n",
       "  \"/>\n",
       "<polyline clip-path=\"url(#clip770)\" style=\"stroke:#000000; stroke-linecap:round; stroke-linejoin:round; stroke-width:4; stroke-opacity:1; fill:none\" points=\"\n",
       "  277.431,1294.77 296.329,1294.77 \n",
       "  \"/>\n",
       "<polyline clip-path=\"url(#clip770)\" style=\"stroke:#000000; stroke-linecap:round; stroke-linejoin:round; stroke-width:4; stroke-opacity:1; fill:none\" points=\"\n",
       "  277.431,1084.02 296.329,1084.02 \n",
       "  \"/>\n",
       "<polyline clip-path=\"url(#clip770)\" style=\"stroke:#000000; stroke-linecap:round; stroke-linejoin:round; stroke-width:4; stroke-opacity:1; fill:none\" points=\"\n",
       "  277.431,873.275 296.329,873.275 \n",
       "  \"/>\n",
       "<polyline clip-path=\"url(#clip770)\" style=\"stroke:#000000; stroke-linecap:round; stroke-linejoin:round; stroke-width:4; stroke-opacity:1; fill:none\" points=\"\n",
       "  277.431,662.525 296.329,662.525 \n",
       "  \"/>\n",
       "<polyline clip-path=\"url(#clip770)\" style=\"stroke:#000000; stroke-linecap:round; stroke-linejoin:round; stroke-width:4; stroke-opacity:1; fill:none\" points=\"\n",
       "  277.431,451.776 296.329,451.776 \n",
       "  \"/>\n",
       "<polyline clip-path=\"url(#clip770)\" style=\"stroke:#000000; stroke-linecap:round; stroke-linejoin:round; stroke-width:4; stroke-opacity:1; fill:none\" points=\"\n",
       "  277.431,241.026 296.329,241.026 \n",
       "  \"/>\n",
       "<path clip-path=\"url(#clip770)\" d=\"M54.5569 1314.57 L62.1958 1314.57 L62.1958 1288.2 L53.8856 1289.87 L53.8856 1285.61 L62.1495 1283.94 L66.8254 1283.94 L66.8254 1314.57 L74.4642 1314.57 L74.4642 1318.5 L54.5569 1318.5 L54.5569 1314.57 Z\" fill=\"#000000\" fill-rule=\"evenodd\" fill-opacity=\"1\" /><path clip-path=\"url(#clip770)\" d=\"M83.9086 1312.62 L88.7928 1312.62 L88.7928 1318.5 L83.9086 1318.5 L83.9086 1312.62 Z\" fill=\"#000000\" fill-rule=\"evenodd\" fill-opacity=\"1\" /><path clip-path=\"url(#clip770)\" d=\"M108.978 1287.02 Q105.367 1287.02 103.538 1290.59 Q101.733 1294.13 101.733 1301.26 Q101.733 1308.36 103.538 1311.93 Q105.367 1315.47 108.978 1315.47 Q112.612 1315.47 114.418 1311.93 Q116.246 1308.36 116.246 1301.26 Q116.246 1294.13 114.418 1290.59 Q112.612 1287.02 108.978 1287.02 M108.978 1283.32 Q114.788 1283.32 117.844 1287.92 Q120.922 1292.51 120.922 1301.26 Q120.922 1309.98 117.844 1314.59 Q114.788 1319.17 108.978 1319.17 Q103.168 1319.17 100.089 1314.59 Q97.0335 1309.98 97.0335 1301.26 Q97.0335 1292.51 100.089 1287.92 Q103.168 1283.32 108.978 1283.32 Z\" fill=\"#000000\" fill-rule=\"evenodd\" fill-opacity=\"1\" /><path clip-path=\"url(#clip770)\" d=\"M157.311 1293.04 L146.732 1303.66 L157.311 1314.24 L154.556 1317.04 L143.931 1306.42 L133.306 1317.04 L130.575 1314.24 L141.131 1303.66 L130.575 1293.04 L133.306 1290.24 L143.931 1300.86 L154.556 1290.24 L157.311 1293.04 Z\" fill=\"#000000\" fill-rule=\"evenodd\" fill-opacity=\"1\" /><path clip-path=\"url(#clip770)\" d=\"M169.672 1314.57 L177.311 1314.57 L177.311 1288.2 L169.001 1289.87 L169.001 1285.61 L177.265 1283.94 L181.94 1283.94 L181.94 1314.57 L189.579 1314.57 L189.579 1318.5 L169.672 1318.5 L169.672 1314.57 Z\" fill=\"#000000\" fill-rule=\"evenodd\" fill-opacity=\"1\" /><path clip-path=\"url(#clip770)\" d=\"M209.024 1287.02 Q205.413 1287.02 203.584 1290.59 Q201.778 1294.13 201.778 1301.26 Q201.778 1308.36 203.584 1311.93 Q205.413 1315.47 209.024 1315.47 Q212.658 1315.47 214.463 1311.93 Q216.292 1308.36 216.292 1301.26 Q216.292 1294.13 214.463 1290.59 Q212.658 1287.02 209.024 1287.02 M209.024 1283.32 Q214.834 1283.32 217.889 1287.92 Q220.968 1292.51 220.968 1301.26 Q220.968 1309.98 217.889 1314.59 Q214.834 1319.17 209.024 1319.17 Q203.214 1319.17 200.135 1314.59 Q197.079 1309.98 197.079 1301.26 Q197.079 1292.51 200.135 1287.92 Q203.214 1283.32 209.024 1283.32 Z\" fill=\"#000000\" fill-rule=\"evenodd\" fill-opacity=\"1\" /><path clip-path=\"url(#clip770)\" d=\"M233.645 1266.32 L224.053 1281.31 L233.645 1281.31 L233.645 1266.32 M232.648 1263.01 L237.425 1263.01 L237.425 1281.31 L241.431 1281.31 L241.431 1284.47 L237.425 1284.47 L237.425 1291.09 L233.645 1291.09 L233.645 1284.47 L220.968 1284.47 L220.968 1280.8 L232.648 1263.01 Z\" fill=\"#000000\" fill-rule=\"evenodd\" fill-opacity=\"1\" /><path clip-path=\"url(#clip770)\" d=\"M57.7745 1103.82 L74.0939 1103.82 L74.0939 1107.75 L52.1495 1107.75 L52.1495 1103.82 Q54.8115 1101.06 59.3949 1096.43 Q64.0013 1091.78 65.1819 1090.44 Q67.4272 1087.91 68.3068 1086.18 Q69.2096 1084.42 69.2096 1082.73 Q69.2096 1079.97 67.2652 1078.24 Q65.3439 1076.5 62.2421 1076.5 Q60.043 1076.5 57.5893 1077.27 Q55.1588 1078.03 52.381 1079.58 L52.381 1074.86 Q55.2051 1073.72 57.6588 1073.15 Q60.1124 1072.57 62.1495 1072.57 Q67.5198 1072.57 70.7142 1075.25 Q73.9087 1077.94 73.9087 1082.43 Q73.9087 1084.56 73.0985 1086.48 Q72.3115 1088.38 70.205 1090.97 Q69.6263 1091.64 66.5245 1094.86 Q63.4226 1098.05 57.7745 1103.82 Z\" fill=\"#000000\" fill-rule=\"evenodd\" fill-opacity=\"1\" /><path clip-path=\"url(#clip770)\" d=\"M83.9086 1101.87 L88.7928 1101.87 L88.7928 1107.75 L83.9086 1107.75 L83.9086 1101.87 Z\" fill=\"#000000\" fill-rule=\"evenodd\" fill-opacity=\"1\" /><path clip-path=\"url(#clip770)\" d=\"M108.978 1076.27 Q105.367 1076.27 103.538 1079.84 Q101.733 1083.38 101.733 1090.51 Q101.733 1097.61 103.538 1101.18 Q105.367 1104.72 108.978 1104.72 Q112.612 1104.72 114.418 1101.18 Q116.246 1097.61 116.246 1090.51 Q116.246 1083.38 114.418 1079.84 Q112.612 1076.27 108.978 1076.27 M108.978 1072.57 Q114.788 1072.57 117.844 1077.17 Q120.922 1081.76 120.922 1090.51 Q120.922 1099.23 117.844 1103.84 Q114.788 1108.42 108.978 1108.42 Q103.168 1108.42 100.089 1103.84 Q97.0335 1099.23 97.0335 1090.51 Q97.0335 1081.76 100.089 1077.17 Q103.168 1072.57 108.978 1072.57 Z\" fill=\"#000000\" fill-rule=\"evenodd\" fill-opacity=\"1\" /><path clip-path=\"url(#clip770)\" d=\"M157.311 1082.29 L146.732 1092.91 L157.311 1103.49 L154.556 1106.29 L143.931 1095.67 L133.306 1106.29 L130.575 1103.49 L141.131 1092.91 L130.575 1082.29 L133.306 1079.49 L143.931 1090.11 L154.556 1079.49 L157.311 1082.29 Z\" fill=\"#000000\" fill-rule=\"evenodd\" fill-opacity=\"1\" /><path clip-path=\"url(#clip770)\" d=\"M169.672 1103.82 L177.311 1103.82 L177.311 1077.45 L169.001 1079.12 L169.001 1074.86 L177.265 1073.19 L181.94 1073.19 L181.94 1103.82 L189.579 1103.82 L189.579 1107.75 L169.672 1107.75 L169.672 1103.82 Z\" fill=\"#000000\" fill-rule=\"evenodd\" fill-opacity=\"1\" /><path clip-path=\"url(#clip770)\" d=\"M209.024 1076.27 Q205.413 1076.27 203.584 1079.84 Q201.778 1083.38 201.778 1090.51 Q201.778 1097.61 203.584 1101.18 Q205.413 1104.72 209.024 1104.72 Q212.658 1104.72 214.463 1101.18 Q216.292 1097.61 216.292 1090.51 Q216.292 1083.38 214.463 1079.84 Q212.658 1076.27 209.024 1076.27 M209.024 1072.57 Q214.834 1072.57 217.889 1077.17 Q220.968 1081.76 220.968 1090.51 Q220.968 1099.23 217.889 1103.84 Q214.834 1108.42 209.024 1108.42 Q203.214 1108.42 200.135 1103.84 Q197.079 1099.23 197.079 1090.51 Q197.079 1081.76 200.135 1077.17 Q203.214 1072.57 209.024 1072.57 Z\" fill=\"#000000\" fill-rule=\"evenodd\" fill-opacity=\"1\" /><path clip-path=\"url(#clip770)\" d=\"M233.645 1055.57 L224.053 1070.56 L233.645 1070.56 L233.645 1055.57 M232.648 1052.26 L237.425 1052.26 L237.425 1070.56 L241.431 1070.56 L241.431 1073.72 L237.425 1073.72 L237.425 1080.34 L233.645 1080.34 L233.645 1073.72 L220.968 1073.72 L220.968 1070.05 L232.648 1052.26 Z\" fill=\"#000000\" fill-rule=\"evenodd\" fill-opacity=\"1\" /><path clip-path=\"url(#clip770)\" d=\"M67.9133 878.369 Q71.2698 879.086 73.1448 881.355 Q75.0429 883.623 75.0429 886.956 Q75.0429 892.072 71.5244 894.873 Q68.0059 897.674 61.5245 897.674 Q59.3486 897.674 57.0338 897.234 Q54.7421 896.818 52.2884 895.961 L52.2884 891.447 Q54.2328 892.581 56.5477 893.16 Q58.8625 893.739 61.3856 893.739 Q65.7837 893.739 68.0754 892.003 Q70.3902 890.267 70.3902 886.956 Q70.3902 883.901 68.2374 882.188 Q66.1078 880.452 62.2884 880.452 L58.2606 880.452 L58.2606 876.609 L62.4735 876.609 Q65.9226 876.609 67.7513 875.244 Q69.58 873.855 69.58 871.262 Q69.58 868.6 67.6819 867.188 Q65.8069 865.753 62.2884 865.753 Q60.3671 865.753 58.168 866.17 Q55.969 866.586 53.3301 867.466 L53.3301 863.299 Q55.9921 862.558 58.3069 862.188 Q60.6449 861.818 62.705 861.818 Q68.0291 861.818 71.1309 864.248 Q74.2327 866.656 74.2327 870.776 Q74.2327 873.646 72.5892 875.637 Q70.9457 877.605 67.9133 878.369 Z\" fill=\"#000000\" fill-rule=\"evenodd\" fill-opacity=\"1\" /><path clip-path=\"url(#clip770)\" d=\"M83.9086 891.123 L88.7928 891.123 L88.7928 897.003 L83.9086 897.003 L83.9086 891.123 Z\" fill=\"#000000\" fill-rule=\"evenodd\" fill-opacity=\"1\" /><path clip-path=\"url(#clip770)\" d=\"M108.978 865.521 Q105.367 865.521 103.538 869.086 Q101.733 872.628 101.733 879.757 Q101.733 886.864 103.538 890.429 Q105.367 893.97 108.978 893.97 Q112.612 893.97 114.418 890.429 Q116.246 886.864 116.246 879.757 Q116.246 872.628 114.418 869.086 Q112.612 865.521 108.978 865.521 M108.978 861.818 Q114.788 861.818 117.844 866.424 Q120.922 871.008 120.922 879.757 Q120.922 888.484 117.844 893.091 Q114.788 897.674 108.978 897.674 Q103.168 897.674 100.089 893.091 Q97.0335 888.484 97.0335 879.757 Q97.0335 871.008 100.089 866.424 Q103.168 861.818 108.978 861.818 Z\" fill=\"#000000\" fill-rule=\"evenodd\" fill-opacity=\"1\" /><path clip-path=\"url(#clip770)\" d=\"M157.311 871.54 L146.732 882.165 L157.311 892.744 L154.556 895.544 L143.931 884.919 L133.306 895.544 L130.575 892.744 L141.131 882.165 L130.575 871.54 L133.306 868.739 L143.931 879.364 L154.556 868.739 L157.311 871.54 Z\" fill=\"#000000\" fill-rule=\"evenodd\" fill-opacity=\"1\" /><path clip-path=\"url(#clip770)\" d=\"M169.672 893.068 L177.311 893.068 L177.311 866.702 L169.001 868.369 L169.001 864.109 L177.265 862.443 L181.94 862.443 L181.94 893.068 L189.579 893.068 L189.579 897.003 L169.672 897.003 L169.672 893.068 Z\" fill=\"#000000\" fill-rule=\"evenodd\" fill-opacity=\"1\" /><path clip-path=\"url(#clip770)\" d=\"M209.024 865.521 Q205.413 865.521 203.584 869.086 Q201.778 872.628 201.778 879.757 Q201.778 886.864 203.584 890.429 Q205.413 893.97 209.024 893.97 Q212.658 893.97 214.463 890.429 Q216.292 886.864 216.292 879.757 Q216.292 872.628 214.463 869.086 Q212.658 865.521 209.024 865.521 M209.024 861.818 Q214.834 861.818 217.889 866.424 Q220.968 871.008 220.968 879.757 Q220.968 888.484 217.889 893.091 Q214.834 897.674 209.024 897.674 Q203.214 897.674 200.135 893.091 Q197.079 888.484 197.079 879.757 Q197.079 871.008 200.135 866.424 Q203.214 861.818 209.024 861.818 Z\" fill=\"#000000\" fill-rule=\"evenodd\" fill-opacity=\"1\" /><path clip-path=\"url(#clip770)\" d=\"M233.645 844.823 L224.053 859.812 L233.645 859.812 L233.645 844.823 M232.648 841.512 L237.425 841.512 L237.425 859.812 L241.431 859.812 L241.431 862.972 L237.425 862.972 L237.425 869.592 L233.645 869.592 L233.645 862.972 L220.968 862.972 L220.968 859.304 L232.648 841.512 Z\" fill=\"#000000\" fill-rule=\"evenodd\" fill-opacity=\"1\" /><path clip-path=\"url(#clip770)\" d=\"M66.5939 655.767 L54.7884 674.216 L66.5939 674.216 L66.5939 655.767 M65.367 651.693 L71.2466 651.693 L71.2466 674.216 L76.1772 674.216 L76.1772 678.105 L71.2466 678.105 L71.2466 686.253 L66.5939 686.253 L66.5939 678.105 L50.9921 678.105 L50.9921 673.591 L65.367 651.693 Z\" fill=\"#000000\" fill-rule=\"evenodd\" fill-opacity=\"1\" /><path clip-path=\"url(#clip770)\" d=\"M83.9086 680.373 L88.7928 680.373 L88.7928 686.253 L83.9086 686.253 L83.9086 680.373 Z\" fill=\"#000000\" fill-rule=\"evenodd\" fill-opacity=\"1\" /><path clip-path=\"url(#clip770)\" d=\"M108.978 654.772 Q105.367 654.772 103.538 658.337 Q101.733 661.878 101.733 669.008 Q101.733 676.114 103.538 679.679 Q105.367 683.221 108.978 683.221 Q112.612 683.221 114.418 679.679 Q116.246 676.114 116.246 669.008 Q116.246 661.878 114.418 658.337 Q112.612 654.772 108.978 654.772 M108.978 651.068 Q114.788 651.068 117.844 655.675 Q120.922 660.258 120.922 669.008 Q120.922 677.735 117.844 682.341 Q114.788 686.924 108.978 686.924 Q103.168 686.924 100.089 682.341 Q97.0335 677.735 97.0335 669.008 Q97.0335 660.258 100.089 655.675 Q103.168 651.068 108.978 651.068 Z\" fill=\"#000000\" fill-rule=\"evenodd\" fill-opacity=\"1\" /><path clip-path=\"url(#clip770)\" d=\"M157.311 660.79 L146.732 671.415 L157.311 681.994 L154.556 684.795 L143.931 674.17 L133.306 684.795 L130.575 681.994 L141.131 671.415 L130.575 660.79 L133.306 657.989 L143.931 668.614 L154.556 657.989 L157.311 660.79 Z\" fill=\"#000000\" fill-rule=\"evenodd\" fill-opacity=\"1\" /><path clip-path=\"url(#clip770)\" d=\"M169.672 682.318 L177.311 682.318 L177.311 655.952 L169.001 657.619 L169.001 653.36 L177.265 651.693 L181.94 651.693 L181.94 682.318 L189.579 682.318 L189.579 686.253 L169.672 686.253 L169.672 682.318 Z\" fill=\"#000000\" fill-rule=\"evenodd\" fill-opacity=\"1\" /><path clip-path=\"url(#clip770)\" d=\"M209.024 654.772 Q205.413 654.772 203.584 658.337 Q201.778 661.878 201.778 669.008 Q201.778 676.114 203.584 679.679 Q205.413 683.221 209.024 683.221 Q212.658 683.221 214.463 679.679 Q216.292 676.114 216.292 669.008 Q216.292 661.878 214.463 658.337 Q212.658 654.772 209.024 654.772 M209.024 651.068 Q214.834 651.068 217.889 655.675 Q220.968 660.258 220.968 669.008 Q220.968 677.735 217.889 682.341 Q214.834 686.924 209.024 686.924 Q203.214 686.924 200.135 682.341 Q197.079 677.735 197.079 669.008 Q197.079 660.258 200.135 655.675 Q203.214 651.068 209.024 651.068 Z\" fill=\"#000000\" fill-rule=\"evenodd\" fill-opacity=\"1\" /><path clip-path=\"url(#clip770)\" d=\"M233.645 634.073 L224.053 649.063 L233.645 649.063 L233.645 634.073 M232.648 630.763 L237.425 630.763 L237.425 649.063 L241.431 649.063 L241.431 652.222 L237.425 652.222 L237.425 658.843 L233.645 658.843 L233.645 652.222 L220.968 652.222 L220.968 648.555 L232.648 630.763 Z\" fill=\"#000000\" fill-rule=\"evenodd\" fill-opacity=\"1\" /><path clip-path=\"url(#clip770)\" d=\"M53.793 440.943 L72.1494 440.943 L72.1494 444.879 L58.0754 444.879 L58.0754 453.351 Q59.0939 453.003 60.1124 452.841 Q61.131 452.656 62.1495 452.656 Q67.9365 452.656 71.3161 455.828 Q74.6957 458.999 74.6957 464.415 Q74.6957 469.994 71.2235 473.096 Q67.7513 476.175 61.4319 476.175 Q59.256 476.175 56.9875 475.804 Q54.7421 475.434 52.3347 474.693 L52.3347 469.994 Q54.418 471.128 56.6402 471.684 Q58.8625 472.24 61.3393 472.24 Q65.3439 472.24 67.6819 470.133 Q70.0198 468.027 70.0198 464.415 Q70.0198 460.804 67.6819 458.698 Q65.3439 456.591 61.3393 456.591 Q59.4643 456.591 57.5893 457.008 Q55.7375 457.425 53.793 458.304 L53.793 440.943 Z\" fill=\"#000000\" fill-rule=\"evenodd\" fill-opacity=\"1\" /><path clip-path=\"url(#clip770)\" d=\"M83.9086 469.624 L88.7928 469.624 L88.7928 475.503 L83.9086 475.503 L83.9086 469.624 Z\" fill=\"#000000\" fill-rule=\"evenodd\" fill-opacity=\"1\" /><path clip-path=\"url(#clip770)\" d=\"M108.978 444.022 Q105.367 444.022 103.538 447.587 Q101.733 451.129 101.733 458.258 Q101.733 465.365 103.538 468.929 Q105.367 472.471 108.978 472.471 Q112.612 472.471 114.418 468.929 Q116.246 465.365 116.246 458.258 Q116.246 451.129 114.418 447.587 Q112.612 444.022 108.978 444.022 M108.978 440.318 Q114.788 440.318 117.844 444.925 Q120.922 449.508 120.922 458.258 Q120.922 466.985 117.844 471.591 Q114.788 476.175 108.978 476.175 Q103.168 476.175 100.089 471.591 Q97.0335 466.985 97.0335 458.258 Q97.0335 449.508 100.089 444.925 Q103.168 440.318 108.978 440.318 Z\" fill=\"#000000\" fill-rule=\"evenodd\" fill-opacity=\"1\" /><path clip-path=\"url(#clip770)\" d=\"M157.311 450.041 L146.732 460.665 L157.311 471.244 L154.556 474.045 L143.931 463.42 L133.306 474.045 L130.575 471.244 L141.131 460.665 L130.575 450.041 L133.306 447.24 L143.931 457.865 L154.556 447.24 L157.311 450.041 Z\" fill=\"#000000\" fill-rule=\"evenodd\" fill-opacity=\"1\" /><path clip-path=\"url(#clip770)\" d=\"M169.672 471.568 L177.311 471.568 L177.311 445.203 L169.001 446.869 L169.001 442.61 L177.265 440.943 L181.94 440.943 L181.94 471.568 L189.579 471.568 L189.579 475.503 L169.672 475.503 L169.672 471.568 Z\" fill=\"#000000\" fill-rule=\"evenodd\" fill-opacity=\"1\" /><path clip-path=\"url(#clip770)\" d=\"M209.024 444.022 Q205.413 444.022 203.584 447.587 Q201.778 451.129 201.778 458.258 Q201.778 465.365 203.584 468.929 Q205.413 472.471 209.024 472.471 Q212.658 472.471 214.463 468.929 Q216.292 465.365 216.292 458.258 Q216.292 451.129 214.463 447.587 Q212.658 444.022 209.024 444.022 M209.024 440.318 Q214.834 440.318 217.889 444.925 Q220.968 449.508 220.968 458.258 Q220.968 466.985 217.889 471.591 Q214.834 476.175 209.024 476.175 Q203.214 476.175 200.135 471.591 Q197.079 466.985 197.079 458.258 Q197.079 449.508 200.135 444.925 Q203.214 440.318 209.024 440.318 Z\" fill=\"#000000\" fill-rule=\"evenodd\" fill-opacity=\"1\" /><path clip-path=\"url(#clip770)\" d=\"M233.645 423.323 L224.053 438.313 L233.645 438.313 L233.645 423.323 M232.648 420.013 L237.425 420.013 L237.425 438.313 L241.431 438.313 L241.431 441.473 L237.425 441.473 L237.425 448.093 L233.645 448.093 L233.645 441.473 L220.968 441.473 L220.968 437.805 L232.648 420.013 Z\" fill=\"#000000\" fill-rule=\"evenodd\" fill-opacity=\"1\" /><path clip-path=\"url(#clip770)\" d=\"M64.3254 245.61 Q61.1773 245.61 59.3254 247.763 Q57.4967 249.916 57.4967 253.666 Q57.4967 257.393 59.3254 259.569 Q61.1773 261.721 64.3254 261.721 Q67.4735 261.721 69.3022 259.569 Q71.1541 257.393 71.1541 253.666 Q71.1541 249.916 69.3022 247.763 Q67.4735 245.61 64.3254 245.61 M73.6077 230.958 L73.6077 235.217 Q71.8485 234.383 70.0429 233.944 Q68.2606 233.504 66.5013 233.504 Q61.8717 233.504 59.418 236.629 Q56.9875 239.754 56.6402 246.073 Q58.006 244.059 60.0662 242.995 Q62.1263 241.907 64.6032 241.907 Q69.8115 241.907 72.8207 245.078 Q75.8531 248.226 75.8531 253.666 Q75.8531 258.99 72.705 262.207 Q69.5568 265.425 64.3254 265.425 Q58.33 265.425 55.1588 260.842 Q51.9875 256.235 51.9875 247.508 Q51.9875 239.314 55.8764 234.453 Q59.7652 229.569 66.3161 229.569 Q68.0754 229.569 69.8578 229.916 Q71.6633 230.263 73.6077 230.958 Z\" fill=\"#000000\" fill-rule=\"evenodd\" fill-opacity=\"1\" /><path clip-path=\"url(#clip770)\" d=\"M83.9086 258.874 L88.7928 258.874 L88.7928 264.754 L83.9086 264.754 L83.9086 258.874 Z\" fill=\"#000000\" fill-rule=\"evenodd\" fill-opacity=\"1\" /><path clip-path=\"url(#clip770)\" d=\"M108.978 233.272 Q105.367 233.272 103.538 236.837 Q101.733 240.379 101.733 247.508 Q101.733 254.615 103.538 258.18 Q105.367 261.721 108.978 261.721 Q112.612 261.721 114.418 258.18 Q116.246 254.615 116.246 247.508 Q116.246 240.379 114.418 236.837 Q112.612 233.272 108.978 233.272 M108.978 229.569 Q114.788 229.569 117.844 234.175 Q120.922 238.758 120.922 247.508 Q120.922 256.235 117.844 260.842 Q114.788 265.425 108.978 265.425 Q103.168 265.425 100.089 260.842 Q97.0335 256.235 97.0335 247.508 Q97.0335 238.758 100.089 234.175 Q103.168 229.569 108.978 229.569 Z\" fill=\"#000000\" fill-rule=\"evenodd\" fill-opacity=\"1\" /><path clip-path=\"url(#clip770)\" d=\"M157.311 239.291 L146.732 249.916 L157.311 260.494 L154.556 263.295 L143.931 252.67 L133.306 263.295 L130.575 260.494 L141.131 249.916 L130.575 239.291 L133.306 236.49 L143.931 247.115 L154.556 236.49 L157.311 239.291 Z\" fill=\"#000000\" fill-rule=\"evenodd\" fill-opacity=\"1\" /><path clip-path=\"url(#clip770)\" d=\"M169.672 260.819 L177.311 260.819 L177.311 234.453 L169.001 236.12 L169.001 231.86 L177.265 230.194 L181.94 230.194 L181.94 260.819 L189.579 260.819 L189.579 264.754 L169.672 264.754 L169.672 260.819 Z\" fill=\"#000000\" fill-rule=\"evenodd\" fill-opacity=\"1\" /><path clip-path=\"url(#clip770)\" d=\"M209.024 233.272 Q205.413 233.272 203.584 236.837 Q201.778 240.379 201.778 247.508 Q201.778 254.615 203.584 258.18 Q205.413 261.721 209.024 261.721 Q212.658 261.721 214.463 258.18 Q216.292 254.615 216.292 247.508 Q216.292 240.379 214.463 236.837 Q212.658 233.272 209.024 233.272 M209.024 229.569 Q214.834 229.569 217.889 234.175 Q220.968 238.758 220.968 247.508 Q220.968 256.235 217.889 260.842 Q214.834 265.425 209.024 265.425 Q203.214 265.425 200.135 260.842 Q197.079 256.235 197.079 247.508 Q197.079 238.758 200.135 234.175 Q203.214 229.569 209.024 229.569 Z\" fill=\"#000000\" fill-rule=\"evenodd\" fill-opacity=\"1\" /><path clip-path=\"url(#clip770)\" d=\"M233.645 212.573 L224.053 227.563 L233.645 227.563 L233.645 212.573 M232.648 209.263 L237.425 209.263 L237.425 227.563 L241.431 227.563 L241.431 230.723 L237.425 230.723 L237.425 237.343 L233.645 237.343 L233.645 230.723 L220.968 230.723 L220.968 227.055 L232.648 209.263 Z\" fill=\"#000000\" fill-rule=\"evenodd\" fill-opacity=\"1\" /><polyline clip-path=\"url(#clip772)\" style=\"stroke:#009af9; stroke-linecap:round; stroke-linejoin:round; stroke-width:4; stroke-opacity:1; fill:none\" points=\"\n",
       "  336.167,994.71 338.126,997.752 340.086,1107.54 342.046,1221.75 344.006,1305.88 345.966,843.704 347.925,1153.56 349.885,1183.12 351.845,1217.64 353.805,1245.92 \n",
       "  355.765,1106.33 357.724,1157.46 359.684,1031.58 361.644,483.219 363.604,1030.69 365.564,1288.01 367.524,621.351 369.483,830.678 371.443,665.232 373.403,1069.23 \n",
       "  375.363,1151.65 377.323,1097.14 379.282,725.589 381.242,1023.7 383.202,1016.91 385.162,1152.38 387.122,1305.87 389.081,883.41 391.041,1239.67 393.001,1135.99 \n",
       "  394.961,1011.21 396.921,1003.85 398.881,1168.65 400.84,834.066 402.8,1036.07 404.76,703.321 406.72,988.877 408.68,1228.27 410.639,1038.02 412.599,986.386 \n",
       "  414.559,1335.61 416.519,1152.03 418.479,1293.45 420.439,1249.86 422.398,1181.68 424.358,1001.61 426.318,1131.2 428.278,1071.36 430.238,882.657 432.197,1024.12 \n",
       "  434.157,646.092 436.117,1175.89 438.077,1180.62 440.037,1091.7 441.996,1433.84 443.956,1178.75 445.916,813.629 447.876,1278.85 449.836,698.461 451.796,769.481 \n",
       "  453.755,1104.22 455.715,1135.39 457.675,1224.32 459.635,1060.86 461.595,878.282 463.554,1186.95 465.514,987.242 467.474,1248.83 469.434,1245.52 471.394,1029 \n",
       "  473.353,475.772 475.313,1276.77 477.273,871.178 479.233,1341.89 481.193,962.568 483.153,1040.17 485.112,959.825 487.072,845.388 489.032,1232.75 490.992,838.137 \n",
       "  492.952,1061.22 494.911,927.378 496.871,917.716 498.831,1374.58 500.791,1038.38 502.751,888.187 504.711,881.131 506.67,1076.52 508.63,1068.52 510.59,1248.02 \n",
       "  512.55,1229.96 514.51,989.022 516.469,1219.16 518.429,1239.8 520.389,1104.97 522.349,1217.53 524.309,1071.5 526.268,623.386 528.228,1167.35 530.188,986.991 \n",
       "  532.148,997.857 534.108,963.961 536.068,1104.45 538.027,1232.55 539.987,1331.73 541.947,792.32 543.907,1037.68 545.867,796.441 547.826,1008.7 549.786,709.836 \n",
       "  551.746,777.615 553.706,697.473 555.666,1287.26 557.625,1344.53 559.585,1044.87 561.545,1085.09 563.505,1095.12 565.465,1172.04 567.425,889.917 569.384,1123.18 \n",
       "  571.344,1241.03 573.304,914.644 575.264,748.838 577.224,733.722 579.183,915.189 581.143,987.791 583.103,638.113 585.063,1200.6 587.023,1359.05 588.982,1055.94 \n",
       "  590.942,1015.94 592.902,945.506 594.862,1368.05 596.822,1013.41 598.782,1325.93 600.741,1315.78 602.701,940.809 604.661,1069.52 606.621,1146.52 608.581,1269.32 \n",
       "  610.54,1175.52 612.5,744.453 614.46,640.119 616.42,966.545 618.38,876.488 620.34,1302.31 622.299,1045.1 624.259,638.561 626.219,966.292 628.179,1019.69 \n",
       "  630.139,1122.27 632.098,1017.78 634.058,1024.02 636.018,1135.08 637.978,1232.77 639.938,1055.26 641.897,1326.56 643.857,905.781 645.817,843.093 647.777,1205.41 \n",
       "  649.737,1331.74 651.697,1178.65 653.656,799.951 655.616,765.361 657.576,1028.26 659.536,1321.5 661.496,1128.18 663.455,1070.77 665.415,1312.43 667.375,921.261 \n",
       "  669.335,919.247 671.295,1281.74 673.254,1164.51 675.214,1281.53 677.174,1086.89 679.134,1179.05 681.094,1098.28 683.054,875.474 685.013,953.804 686.973,518.563 \n",
       "  688.933,314.654 690.893,838.232 692.853,1367.64 694.812,1164.63 696.772,1314.31 698.732,1017.49 700.692,1262.33 702.652,1174.44 704.611,1289.78 706.571,1040.91 \n",
       "  708.531,750.698 710.491,1217.07 712.451,1014.34 714.411,477.7 716.37,796.489 718.33,1036.48 720.29,1118.66 722.25,605.738 724.21,907.659 726.169,860.88 \n",
       "  728.129,1188.65 730.089,1045.45 732.049,941.953 734.009,1280.09 735.969,926.418 737.928,1031.83 739.888,1320.2 741.848,1101.9 743.808,836.548 745.768,1050.19 \n",
       "  747.727,998.243 749.687,1084.55 751.647,1165.39 753.607,1068.14 755.567,1164.31 757.526,1250.25 759.486,1293.4 761.446,1286.07 763.406,1267.2 765.366,981.636 \n",
       "  767.326,1250.12 769.285,1037.62 771.245,1308.91 773.205,1235.12 775.165,1220.51 777.125,1129.71 779.084,1256.13 781.044,928.108 783.004,840.517 784.964,1213.4 \n",
       "  786.924,1222.05 788.883,823.124 790.843,1392.72 792.803,1088.21 794.763,1195.92 796.723,1128.23 798.683,1185.19 800.642,956.814 802.602,784.645 804.562,586.277 \n",
       "  806.522,990.022 808.482,1302.98 810.441,879.535 812.401,1051.97 814.361,1274.71 816.321,1330.99 818.281,845.628 820.24,1133.06 822.2,1197.13 824.16,940.331 \n",
       "  826.12,1005.24 828.08,1246.47 830.04,1386.19 831.999,1213.71 833.959,974.432 835.919,1092.1 837.879,1142.33 839.839,1019.06 841.798,1170.08 843.758,857.13 \n",
       "  845.718,1025.84 847.678,1002.64 849.638,860.032 851.598,1207.08 853.557,1151.14 855.517,1054.07 857.477,786.551 859.437,1267.23 861.397,883.775 863.356,1244.44 \n",
       "  865.316,906.072 867.276,1221.62 869.236,996.101 871.196,1213.9 873.155,818.252 875.115,972.16 877.075,1097.93 879.035,1063.4 880.995,704.9 882.955,810.177 \n",
       "  884.914,989.913 886.874,1064.9 888.834,616.562 890.794,1321.7 892.754,1004.35 894.713,1267.39 896.673,437.204 898.633,1222.79 900.593,1233.1 902.553,1210.18 \n",
       "  904.512,1331.79 906.472,789.147 908.432,1173.03 910.392,965.224 912.352,938.346 914.312,1244.07 916.271,1156.02 918.231,1223.04 920.191,613.265 922.151,1047.62 \n",
       "  924.111,926.207 926.07,987.096 928.03,1390.07 929.99,1208.54 931.95,961.226 933.91,1042.72 935.869,950.489 937.829,1021.39 939.789,951.824 941.749,1103.68 \n",
       "  943.709,1368.64 945.669,944.692 947.628,973.378 949.588,1019.44 951.548,1241.88 953.508,1309.56 955.468,1276 957.427,1166.94 959.387,1357.85 961.347,456.04 \n",
       "  963.307,609.026 965.267,1088.05 967.227,1119.8 969.186,796.659 971.146,878.78 973.106,905.067 975.066,694.669 977.026,1246.17 978.985,964.731 980.945,1289.67 \n",
       "  982.905,1131.2 984.865,1139.47 986.825,978.361 988.784,789.826 990.744,845.9 992.704,1050.22 994.664,811.328 996.624,1268.87 998.584,1102.98 1000.54,1016.02 \n",
       "  1002.5,971.713 1004.46,830.415 1006.42,1255.02 1008.38,900.441 1010.34,648.985 1012.3,1149.58 1014.26,871.832 1016.22,1020.6 1018.18,1116.96 1020.14,867.94 \n",
       "  1022.1,1021.77 1024.06,1185.69 1026.02,1024.7 1027.98,1192.05 1029.94,335.969 1031.9,897.758 1033.86,969.977 1035.82,795.851 1037.78,991.349 1039.74,985.4 \n",
       "  1041.7,901.188 1043.66,839.176 1045.62,736.092 1047.58,830.305 1049.54,974.63 1051.5,1053.7 1053.46,886.378 1055.42,1152.55 1057.38,1048.71 1059.34,1139.39 \n",
       "  1061.3,847.352 1063.26,633.029 1065.22,1078.69 1067.18,963.935 1069.14,1057.65 1071.1,684.477 1073.06,965.97 1075.02,1082.18 1076.98,940.075 1078.94,1198.09 \n",
       "  1080.9,1358.94 1082.86,646.755 1084.82,1371.41 1086.78,695.777 1088.73,1216.16 1090.69,945.606 1092.65,1224.52 1094.61,1261.29 1096.57,1155.7 1098.53,1027.58 \n",
       "  1100.49,1027.72 1102.45,1358.45 1104.41,876.412 1106.37,1120.63 1108.33,1175.94 1110.29,1010.97 1112.25,957.318 1114.21,751.931 1116.17,716.491 1118.13,975.834 \n",
       "  1120.09,1023.61 1122.05,746.418 1124.01,1188.31 1125.97,1069.22 1127.93,1324.92 1129.89,956.425 1131.85,982.776 1133.81,840.478 1135.77,1084.27 1137.73,880.518 \n",
       "  1139.69,1088.83 1141.65,1326.87 1143.61,448.236 1145.57,875.281 1147.53,512.657 1149.49,981.347 1151.45,1258.83 1153.41,1112.68 1155.37,842.374 1157.33,979.432 \n",
       "  1159.29,1285.44 1161.25,991.508 1163.21,1061.67 1165.17,1024.52 1167.13,1016.19 1169.09,736.895 1171.05,1026.13 1173.01,1209.8 1174.97,994.995 1176.93,720.001 \n",
       "  1178.89,776.798 1180.85,932.227 1182.81,1187.84 1184.77,400.859 1186.73,1335.02 1188.69,1214.95 1190.65,1167.53 1192.61,827.743 1194.56,1069.75 1196.52,1171.14 \n",
       "  1198.48,765.847 1200.44,1011.24 1202.4,983.952 1204.36,686.748 1206.32,877.404 1208.28,903.081 1210.24,942.933 1212.2,1103.77 1214.16,717.187 1216.12,1190.89 \n",
       "  1218.08,980.207 1220.04,644.926 1222,865.519 1223.96,1389.81 1225.92,1310.69 1227.88,909.704 1229.84,1289.39 1231.8,850.217 1233.76,952.512 1235.72,1296.18 \n",
       "  1237.68,509.569 1239.64,465.774 1241.6,1231.49 1243.56,1389.31 1245.52,1090 1247.48,1032.94 1249.44,1161.18 1251.4,1187.48 1253.36,807.865 1255.32,870.544 \n",
       "  1257.28,1292.39 1259.24,782.749 1261.2,631.262 1263.16,644.897 1265.12,990.867 1267.08,1242.37 1269.04,1256.26 1271,737.709 1272.96,1150.32 1274.92,710.155 \n",
       "  1276.88,708.043 1278.84,1308.96 1280.8,768.475 1282.76,1340.33 1284.72,1147.58 1286.68,1076.95 1288.64,1294.54 1290.6,638.765 1292.56,1250.55 1294.52,1011.47 \n",
       "  1296.48,1104.22 1298.43,963.511 1300.39,1299.2 1302.35,845.183 1304.31,1048.63 1306.27,1187.63 1308.23,934.711 1310.19,1094.66 1312.15,1067.34 1314.11,1271.99 \n",
       "  1316.07,1150.16 1318.03,714.699 1319.99,1142.39 1321.95,1282.75 1323.91,959.915 1325.87,877.494 1327.83,989.688 1329.79,1100.37 1331.75,897.416 1333.71,1329.92 \n",
       "  1335.67,764.476 1337.63,979.793 1339.59,1270 1341.55,727.775 1343.51,910.284 1345.47,1307.14 1347.43,845.675 1349.39,720.112 1351.35,1233.77 1353.31,1028.09 \n",
       "  1355.27,617.459 1357.23,766.101 1359.19,596.681 1361.15,1198.48 1363.11,1276 1365.07,1026.03 1367.03,860.106 1368.99,1300.39 1370.95,1173.85 1372.91,1154.97 \n",
       "  1374.87,922.648 1376.83,1166.09 1378.79,1155.59 1380.75,1224.03 1382.71,1246.87 1384.67,758.386 1386.63,1134.6 1388.59,995.96 1390.55,1090.96 1392.51,1237.39 \n",
       "  1394.47,1430.06 1396.43,1285.64 1398.39,1428.99 1400.35,1260.93 1402.31,1176.08 1404.26,1096.66 1406.22,1054.79 1408.18,869.601 1410.14,566.758 1412.1,971.546 \n",
       "  1414.06,1087.78 1416.02,1232.25 1417.98,734.569 1419.94,1091.65 1421.9,1185.93 1423.86,804.163 1425.82,631.375 1427.78,704.806 1429.74,783.985 1431.7,863.212 \n",
       "  1433.66,1211.34 1435.62,886.45 1437.58,717.09 1439.54,1205.04 1441.5,820.949 1443.46,1202.73 1445.42,1062.98 1447.38,1166.92 1449.34,1308.99 1451.3,1136.44 \n",
       "  1453.26,1107.82 1455.22,1145.57 1457.18,1273.75 1459.14,1005.42 1461.1,1208.04 1463.06,692.946 1465.02,1059.53 1466.98,1150.95 1468.94,1198.53 1470.9,860.837 \n",
       "  1472.86,1031.71 1474.82,1079.23 1476.78,1123.11 1478.74,1063.45 1480.7,1156.21 1482.66,1038.94 1484.62,709.766 1486.58,545.404 1488.54,1267.16 1490.5,1258.96 \n",
       "  1492.46,1258.67 1494.42,1108.68 1496.38,903.082 1498.34,878.766 1500.3,1042.34 1502.26,939.086 1504.22,1186.16 1506.18,822.547 1508.14,958.015 1510.09,1320 \n",
       "  1512.05,677.257 1514.01,1228.82 1515.97,1264.21 1517.93,971.687 1519.89,867.535 1521.85,802.949 1523.81,1132.42 1525.77,1220.09 1527.73,1143.49 1529.69,921.068 \n",
       "  1531.65,1127.49 1533.61,1282.53 1535.57,1151.42 1537.53,1233.17 1539.49,844.315 1541.45,1158.79 1543.41,372.821 1545.37,1323.2 1547.33,894.551 1549.29,1110.41 \n",
       "  1551.25,1044.53 1553.21,997.889 1555.17,788.033 1557.13,937.249 1559.09,1230.7 1561.05,883.047 1563.01,1000.58 1564.97,1150.64 1566.93,1049.36 1568.89,1007.78 \n",
       "  1570.85,922.847 1572.81,627.486 1574.77,1083.89 1576.73,1204.97 1578.69,1206.7 1580.65,669.522 1582.61,1133.38 1584.57,552.11 1586.53,919.201 1588.49,1178.12 \n",
       "  1590.45,1026.86 1592.41,958.292 1594.37,1184.99 1596.33,1132.23 1598.29,1145.57 1600.25,758.773 1602.21,863.155 1604.17,947.1 1606.13,1049.17 1608.09,1009.44 \n",
       "  1610.05,1005.74 1612.01,1005.79 1613.96,1086.59 1615.92,721.717 1617.88,1275.93 1619.84,1300.85 1621.8,1173.61 1623.76,977.293 1625.72,1252.74 1627.68,413.934 \n",
       "  1629.64,1203.45 1631.6,1123.18 1633.56,1078.31 1635.52,1236.87 1637.48,838.639 1639.44,1056.35 1641.4,879.979 1643.36,1061.86 1645.32,1304.16 1647.28,1157.56 \n",
       "  1649.24,738.519 1651.2,1028.73 1653.16,1216.57 1655.12,705.76 1657.08,845.457 1659.04,920.898 1661,1126.84 1662.96,904.561 1664.92,787.24 1666.88,87.9763 \n",
       "  1668.84,1415.59 1670.8,981.737 1672.76,958.119 1674.72,1006.15 1676.68,1243.78 1678.64,1048.31 1680.6,1263.41 1682.56,1170.04 1684.52,851.558 1686.48,1182.86 \n",
       "  1688.44,982.361 1690.4,1054.5 1692.36,1221.4 1694.32,1071.64 1696.28,664.485 1698.24,1248.98 1700.2,886.956 1702.16,1117.63 1704.12,828.062 1706.08,1071.55 \n",
       "  1708.04,1197.15 1710,475.402 1711.96,1440.46 1713.92,1074.79 1715.88,738.879 1717.84,1240.03 1719.79,1210.32 1721.75,1067.97 1723.71,1337.12 1725.67,871.11 \n",
       "  1727.63,1135.03 1729.59,923.919 1731.55,886.896 1733.51,762.868 1735.47,430.713 1737.43,1060.7 1739.39,1210.54 1741.35,875.743 1743.31,1014.53 1745.27,1172.54 \n",
       "  1747.23,868.157 1749.19,1291.75 1751.15,725.498 1753.11,1098.93 1755.07,1016.75 1757.03,589.71 1758.99,1137.72 1760.95,924.515 1762.91,1190.93 1764.87,1204.91 \n",
       "  1766.83,1321.1 1768.79,1140.49 1770.75,1289.28 1772.71,801.11 1774.67,1160.33 1776.63,871.273 1778.59,884.124 1780.55,612.271 1782.51,679.703 1784.47,928.204 \n",
       "  1786.43,404.413 1788.39,1123.25 1790.35,921.799 1792.31,1040.15 1794.27,1240.97 1796.23,1060.12 1798.19,1370.68 1800.15,1161.41 1802.11,1113.77 1804.07,1131.94 \n",
       "  1806.03,858.62 1807.99,735.169 1809.95,1445.72 1811.91,1117.31 1813.87,1100.61 1815.83,444.776 1817.79,730.636 1819.75,984.696 1821.71,1112.6 1823.67,903.027 \n",
       "  1825.62,1251.9 1827.58,918.193 1829.54,865.988 1831.5,867.283 1833.46,1181.95 1835.42,1069.86 1837.38,902.02 1839.34,681.641 1841.3,1032.1 1843.26,878.441 \n",
       "  1845.22,1186.32 1847.18,1213.26 1849.14,621.791 1851.1,746.086 1853.06,779.825 1855.02,1174.49 1856.98,883.994 1858.94,992.521 1860.9,1144.39 1862.86,1264.02 \n",
       "  1864.82,1114.07 1866.78,1148.88 1868.74,875.276 1870.7,1080.54 1872.66,1280.89 1874.62,967.683 1876.58,792.611 1878.54,1129.69 1880.5,941.452 1882.46,1207.41 \n",
       "  1884.42,936.742 1886.38,1224.73 1888.34,994.294 1890.3,690.65 1892.26,1055.65 1894.22,868.247 1896.18,635.403 1898.14,583.73 1900.1,1019.04 1902.06,944.321 \n",
       "  1904.02,1013.63 1905.98,467.944 1907.94,1135.18 1909.9,1047.54 1911.86,732.242 1913.82,880.282 1915.78,923.077 1917.74,973.132 1919.7,1135.79 1921.66,941.505 \n",
       "  1923.62,1115.43 1925.58,1333.05 1927.54,951.786 1929.49,657.181 1931.45,970.375 1933.41,1355.11 1935.37,1280.17 1937.33,515.74 1939.29,1192.7 1941.25,1112.78 \n",
       "  1943.21,1072.91 1945.17,1147.35 1947.13,1035.13 1949.09,852.172 1951.05,901.351 1953.01,963.538 1954.97,1078.19 1956.93,802.145 1958.89,1131.89 1960.85,1051.07 \n",
       "  1962.81,1088.67 1964.77,1323.59 1966.73,1243.27 1968.69,1074.69 1970.65,1113.4 1972.61,949.859 1974.57,896.966 1976.53,1118.07 1978.49,671.359 1980.45,1321.32 \n",
       "  1982.41,1424.54 1984.37,724.382 1986.33,1151.52 1988.29,692.167 1990.25,1009.46 1992.21,935.896 1994.17,1001.31 1996.13,1123.04 1998.09,635.365 2000.05,934.347 \n",
       "  2002.01,1072.81 2003.97,825.353 2005.93,718.364 2007.89,839.414 2009.85,1174.13 2011.81,1138.19 2013.77,834.211 2015.73,1010.81 2017.69,1109.12 2019.65,940.311 \n",
       "  2021.61,1225.6 2023.57,1198.76 2025.53,997.984 2027.49,1127.83 2029.45,1217.57 2031.41,1063.2 2033.37,1160.95 2035.32,1092.02 2037.28,1047.97 2039.24,648.823 \n",
       "  2041.2,665.107 2043.16,1273.51 2045.12,1122.5 2047.08,1091.53 2049.04,1141.55 2051,1223.14 2052.96,1001.69 2054.92,620.864 2056.88,526.933 2058.84,905.152 \n",
       "  2060.8,1296.94 2062.76,1155.81 2064.72,1006.35 2066.68,1296.69 2068.64,1288.85 2070.6,1154.43 2072.56,1033.7 2074.52,1003.22 2076.48,822.632 2078.44,870.125 \n",
       "  2080.4,769.877 2082.36,1083.08 2084.32,548.043 2086.28,1177.57 2088.24,824.581 2090.2,1181.1 2092.16,1009.22 2094.12,1244.04 2096.08,1142.38 2098.04,1127.33 \n",
       "  2100,1148.12 2101.96,1095.73 2103.92,946.706 2105.88,913.961 2107.84,784.578 2109.8,1238.02 2111.76,944.139 2113.72,1169.28 2115.68,497.558 2117.64,1186.88 \n",
       "  2119.6,1120.51 2121.56,1035.46 2123.52,1034.06 2125.48,1171.95 2127.44,1301.67 2129.4,1085.95 2131.36,542.252 2133.32,1154.59 2135.28,921.803 2137.24,757.173 \n",
       "  2139.2,936.607 2141.15,833.799 2143.11,436.551 2145.07,843.291 2147.03,704.401 2148.99,898.188 2150.95,1118.63 2152.91,908.953 2154.87,867.808 2156.83,1294.19 \n",
       "  2158.79,1282.35 2160.75,983.56 2162.71,1359.46 2164.67,973.087 2166.63,909.28 2168.59,1179.4 2170.55,840.761 2172.51,866.437 2174.47,1299.05 2176.43,845.647 \n",
       "  2178.39,900.241 2180.35,1078.92 2182.31,1204.48 2184.27,899.315 2186.23,1020.08 2188.19,1084.69 2190.15,1064.49 2192.11,1271.24 2194.07,1111.77 2196.03,808.943 \n",
       "  2197.99,914.678 2199.95,1152.42 2201.91,1137.27 2203.87,934.778 2205.83,706.062 2207.79,1077.61 2209.75,1355.19 2211.71,914.092 2213.67,1037.72 2215.63,964.616 \n",
       "  2217.59,897.992 2219.55,1046.59 2221.51,995.66 2223.47,1212.86 2225.43,1262.65 2227.39,1297.04 2229.35,964.916 2231.31,593.57 2233.27,1243 2235.23,1138.75 \n",
       "  2237.19,827.321 2239.15,701.435 2241.11,1182.97 2243.07,544.814 2245.02,1128.78 2246.98,1179.27 2248.94,645.688 2250.9,1025.36 2252.86,804.268 2254.82,914.59 \n",
       "  2256.78,1212.46 2258.74,1009.08 2260.7,1127.84 2262.66,1114.87 2264.62,1216.81 2266.58,1277.83 2268.54,1213.36 2270.5,663.303 2272.46,1038.21 2274.42,1318.23 \n",
       "  2276.38,714.418 2278.34,839.725 2280.3,1126.43 2282.26,879.34 2284.22,717.943 2286.18,1102.31 2288.14,947.577 2290.1,1186.86 2292.06,740.285 2294.02,940.43 \n",
       "  \n",
       "  \"/>\n",
       "<path clip-path=\"url(#clip770)\" d=\"\n",
       "M2000.56 198.898 L2283.58 198.898 L2283.58 95.2176 L2000.56 95.2176  Z\n",
       "  \" fill=\"#ffffff\" fill-rule=\"evenodd\" fill-opacity=\"1\"/>\n",
       "<polyline clip-path=\"url(#clip770)\" style=\"stroke:#000000; stroke-linecap:round; stroke-linejoin:round; stroke-width:4; stroke-opacity:1; fill:none\" points=\"\n",
       "  2000.56,198.898 2283.58,198.898 2283.58,95.2176 2000.56,95.2176 2000.56,198.898 \n",
       "  \"/>\n",
       "<polyline clip-path=\"url(#clip770)\" style=\"stroke:#009af9; stroke-linecap:round; stroke-linejoin:round; stroke-width:4; stroke-opacity:1; fill:none\" points=\"\n",
       "  2023.62,147.058 2161.97,147.058 \n",
       "  \"/>\n",
       "<path clip-path=\"url(#clip770)\" d=\"M2198.87 166.745 Q2197.07 171.375 2195.35 172.787 Q2193.64 174.199 2190.77 174.199 L2187.37 174.199 L2187.37 170.634 L2189.87 170.634 Q2191.63 170.634 2192.6 169.8 Q2193.57 168.967 2194.75 165.865 L2195.52 163.921 L2185.03 138.412 L2189.54 138.412 L2197.65 158.689 L2205.75 138.412 L2210.26 138.412 L2198.87 166.745 Z\" fill=\"#000000\" fill-rule=\"evenodd\" fill-opacity=\"1\" /><path clip-path=\"url(#clip770)\" d=\"M2217.55 160.402 L2225.19 160.402 L2225.19 134.037 L2216.88 135.703 L2216.88 131.444 L2225.15 129.778 L2229.82 129.778 L2229.82 160.402 L2237.46 160.402 L2237.46 164.338 L2217.55 164.338 L2217.55 160.402 Z\" fill=\"#000000\" fill-rule=\"evenodd\" fill-opacity=\"1\" /></svg>\n"
      ]
     },
     "execution_count": 199,
     "metadata": {},
     "output_type": "execute_result"
    }
   ],
   "source": [
    "plot(loss_log)"
   ]
  },
  {
   "cell_type": "code",
   "execution_count": null,
   "metadata": {},
   "outputs": [],
   "source": []
  },
  {
   "cell_type": "code",
   "execution_count": 176,
   "metadata": {},
   "outputs": [],
   "source": [
    "Flux.train!(loss1, Flux.params(W1, b1), train_data, opt)"
   ]
  },
  {
   "cell_type": "code",
   "execution_count": 177,
   "metadata": {},
   "outputs": [
    {
     "name": "stdout",
     "output_type": "stream",
     "text": [
      "W1 = [0.8526601897901432 1.8089781878686866 2.843352512230477 3.783402383418999 4.840248197918984; 4.797194978205234 3.7688514161715436 2.779565643803137 1.7445006592620482 0.808295954025268]\n"
     ]
    },
    {
     "data": {
      "text/plain": [
       "2×5 Matrix{Float64}:\n",
       " 0.85266  1.80898  2.84335  3.7834  4.84025\n",
       " 4.79719  3.76885  2.77957  1.7445  0.808296"
      ]
     },
     "execution_count": 177,
     "metadata": {},
     "output_type": "execute_result"
    }
   ],
   "source": [
    "@show W1"
   ]
  },
  {
   "cell_type": "code",
   "execution_count": 178,
   "metadata": {},
   "outputs": [
    {
     "name": "stdout",
     "output_type": "stream",
     "text": [
      "b1 = [1.3049211044422402, 0.9647066212655245]\n"
     ]
    },
    {
     "data": {
      "text/plain": [
       "2-element Vector{Float64}:\n",
       " 1.3049211044422402\n",
       " 0.9647066212655245"
      ]
     },
     "execution_count": 178,
     "metadata": {},
     "output_type": "execute_result"
    }
   ],
   "source": [
    "@show b1"
   ]
  },
  {
   "cell_type": "code",
   "execution_count": 179,
   "metadata": {},
   "outputs": [
    {
     "name": "stdout",
     "output_type": "stream",
     "text": [
      "maximum(abs, W1 .- W_truth) = 0.2554993407379518\n"
     ]
    },
    {
     "data": {
      "text/plain": [
       "0.2554993407379518"
      ]
     },
     "execution_count": 179,
     "metadata": {},
     "output_type": "execute_result"
    }
   ],
   "source": [
    "@show maximum(abs, W1 .- W_truth)"
   ]
  },
  {
   "cell_type": "code",
   "execution_count": 188,
   "metadata": {},
   "outputs": [
    {
     "data": {
      "text/plain": [
       "()"
      ]
     },
     "execution_count": 188,
     "metadata": {},
     "output_type": "execute_result"
    }
   ],
   "source": [
    "fieldnames(typeof(model_to_fit))"
   ]
  },
  {
   "cell_type": "code",
   "execution_count": 184,
   "metadata": {},
   "outputs": [
    {
     "data": {
      "text/plain": [
       "σ (generic function with 2 methods)"
      ]
     },
     "execution_count": 184,
     "metadata": {},
     "output_type": "execute_result"
    }
   ],
   "source": [
    "sigmoid"
   ]
  },
  {
   "cell_type": "code",
   "execution_count": 181,
   "metadata": {},
   "outputs": [
    {
     "data": {
      "text/plain": [
       "σ (generic function with 2 methods)"
      ]
     },
     "execution_count": 181,
     "metadata": {},
     "output_type": "execute_result"
    }
   ],
   "source": [
    "σ\n"
   ]
  },
  {
   "cell_type": "code",
   "execution_count": null,
   "metadata": {},
   "outputs": [],
   "source": []
  },
  {
   "cell_type": "code",
   "execution_count": null,
   "metadata": {},
   "outputs": [],
   "source": []
  },
  {
   "cell_type": "code",
   "execution_count": null,
   "metadata": {},
   "outputs": [],
   "source": [
    "### <span style=\"color:orange\"></span>"
   ]
  },
  {
   "cell_type": "code",
   "execution_count": null,
   "metadata": {},
   "outputs": [],
   "source": []
  },
  {
   "cell_type": "code",
   "execution_count": null,
   "metadata": {},
   "outputs": [],
   "source": [
    "### <span style=\"color:orange\"></span>"
   ]
  },
  {
   "cell_type": "code",
   "execution_count": null,
   "metadata": {},
   "outputs": [],
   "source": [
    "### <span style=\"color:orange\"></span>"
   ]
  },
  {
   "cell_type": "code",
   "execution_count": 20,
   "metadata": {},
   "outputs": [],
   "source": [
    "### <span style=\"color:orange\"></span>"
   ]
  },
  {
   "cell_type": "code",
   "execution_count": 21,
   "metadata": {},
   "outputs": [],
   "source": [
    "### <span style=\"color:orange\"></span>"
   ]
  },
  {
   "cell_type": "code",
   "execution_count": 22,
   "metadata": {},
   "outputs": [],
   "source": [
    "### <span style=\"color:orange\"></span>"
   ]
  },
  {
   "cell_type": "code",
   "execution_count": 23,
   "metadata": {},
   "outputs": [],
   "source": [
    "### <span style=\"color:orange\"></span>"
   ]
  },
  {
   "cell_type": "code",
   "execution_count": 24,
   "metadata": {},
   "outputs": [],
   "source": [
    "### <span style=\"color:orange\"></span>"
   ]
  },
  {
   "cell_type": "code",
   "execution_count": 25,
   "metadata": {},
   "outputs": [],
   "source": [
    "### <span style=\"color:orange\"></span>"
   ]
  },
  {
   "cell_type": "code",
   "execution_count": 26,
   "metadata": {},
   "outputs": [],
   "source": [
    "### <span style=\"color:orange\"></span>"
   ]
  },
  {
   "cell_type": "code",
   "execution_count": 27,
   "metadata": {},
   "outputs": [],
   "source": [
    "### <span style=\"color:orange\"></span>"
   ]
  },
  {
   "cell_type": "code",
   "execution_count": null,
   "metadata": {},
   "outputs": [],
   "source": [
    "### <span style=\"color:orange\"></span>"
   ]
  }
 ],
 "metadata": {
  "kernelspec": {
   "display_name": "Julia 1.8.2",
   "language": "julia",
   "name": "julia-1.8"
  },
  "language_info": {
   "file_extension": ".jl",
   "mimetype": "application/julia",
   "name": "julia",
   "version": "1.8.2"
  }
 },
 "nbformat": 4,
 "nbformat_minor": 4
}
