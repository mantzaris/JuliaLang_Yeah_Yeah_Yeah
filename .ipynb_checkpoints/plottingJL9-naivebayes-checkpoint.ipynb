{
 "cells": [
  {
   "cell_type": "markdown",
   "metadata": {},
   "source": [
    "# naive bayes\n",
    "\n",
    "$n$ features, $\\mathbf{x} = [x_1,\\ldots,x_n]$, where each feature is **independent** to produce the probabilities over $K$ classes:\n",
    "\n",
    "$p(C_k|x_1,\\ldots,x_n)$\n",
    "\n",
    "and the independence assumption allows us to produce a a simplification relying on \n",
    "\n",
    "$p(C_k|\\mathbf{x}) = \\frac{p(C_k)p(\\mathbf{x}|C_k)}{p(\\mathbf{x})} \\propto p(C_k,x_1,\\ldots,x_n)$   \n",
    "\n",
    "and\n",
    "\n",
    "$p(C_k,x_1,\\ldots,x_n) = p(x_1,\\ldots,x_n,C_k) = p(x_1|x_2,\\ldots,C_k)p(x_2,\\ldots,x_n,C_k)=p(x_1|x_2,\\ldots,x_n,C_k)p(x_2|x_3,\\ldots,x_n,C_k)\\dots p(x_{n-1}|x_n,C_k)p(x_n|C_k)p(C_k)$\n",
    "\n",
    "\n",
    "with the indepdence assumption \n",
    "\n",
    "$p(x_i|x_{i+1},\\ldots,x_n,C_k) = p(x_i|C_k)$ \n",
    "\n",
    "and,\n",
    "\n",
    "$p(C_k|x_1,\\ldots,x_n) \\propto p(C_k,x_1,\\ldots,x_n) \\propto p(C_k)p(x_1|C_k)p(x_2|C_k)p(x_2|C_k)p(x_3|C_k)\\ldots \\propto p(C_k)\\prod^n_{i=1}p(x_i|C_k)$\n",
    "\n",
    "producing,\n",
    "\n",
    "$p(C_k|x_1,\\ldots,x_n) = \\frac{1}{Z} p(C_k)\\prod^n_{i=1}p(x_i|C_k)$, with $Z = p(\\mathbf{x}) = \\sum_k p(C_k)p(\\mathbf{x}|C_k)$\n",
    "\n",
    "the search is for the maximum posterior,\n",
    "\n",
    "$argmax_{k} p(C_k) \\prod^n_{i=1}p(x_i|C_k)$"
   ]
  },
  {
   "cell_type": "code",
   "execution_count": null,
   "metadata": {},
   "outputs": [],
   "source": []
  },
  {
   "cell_type": "code",
   "execution_count": 3,
   "metadata": {},
   "outputs": [],
   "source": [
    "#with the TextAnalysis pkg\n",
    "using TextAnalysis: NaiveBayesClassifier, fit!, predict"
   ]
  },
  {
   "cell_type": "code",
   "execution_count": null,
   "metadata": {},
   "outputs": [],
   "source": []
  },
  {
   "cell_type": "code",
   "execution_count": 4,
   "metadata": {},
   "outputs": [
    {
     "data": {
      "text/plain": [
       "2-element Array{String,1}:\n",
       " \"normal\"\n",
       " \"spam\""
      ]
     },
     "execution_count": 4,
     "metadata": {},
     "output_type": "execute_result"
    }
   ],
   "source": [
    "classes = [\"normal\",\"spam\"]"
   ]
  },
  {
   "cell_type": "code",
   "execution_count": 5,
   "metadata": {},
   "outputs": [
    {
     "data": {
      "text/plain": [
       "NaiveBayesClassifier{String}(String[], [\"normal\", \"spam\"], Array{Int64}(undef,0,2))"
      ]
     },
     "execution_count": 5,
     "metadata": {},
     "output_type": "execute_result"
    }
   ],
   "source": [
    "model = NaiveBayesClassifier(classes)"
   ]
  },
  {
   "cell_type": "code",
   "execution_count": 8,
   "metadata": {},
   "outputs": [
    {
     "data": {
      "text/plain": [
       "8-element Array{String,1}:\n",
       " \"normal\"\n",
       " \"normal\"\n",
       " \"normal\"\n",
       " \"normal\"\n",
       " \"spam\"\n",
       " \"spam\"\n",
       " \"spam\"\n",
       " \"normal\""
      ]
     },
     "execution_count": 8,
     "metadata": {},
     "output_type": "execute_result"
    }
   ],
   "source": [
    "email1 = \"This is Bob, how are you?\"\n",
    "email2 = \"Hi Alex, how are you this is Cat.\"\n",
    "email3 = \"You are being notified that you have a bill approaching.\"\n",
    "email4 = \"Hello, hope you are doing well, let me know if you want to go to the park, Derek.\"\n",
    "email5 = \"Amazin discount on a new car only \\$5 for this super sale\"\n",
    "email6 = \"Don't miss this super discount sale only this Friday\"\n",
    "email7 = \"Do you like low prices and sales? This fantastic sale will discount all your favorite items!\"\n",
    "email8 = \"This is hurricane season in FL be prepared\"\n",
    "\n",
    "emails = [email1,email2,email3,email4,email5,email6,email7,email8]\n",
    "email_classes = [classes[1],classes[1],classes[1],classes[1],classes[2],classes[2],classes[2],classes[1]]"
   ]
  },
  {
   "cell_type": "code",
   "execution_count": 10,
   "metadata": {},
   "outputs": [
    {
     "data": {
      "text/plain": [
       "8-element Array{NaiveBayesClassifier{String},1}:\n",
       " NaiveBayesClassifier{String}([\",\", \"how\", \"you\", \"is\", \"This\", \"are\", \"?\", \"Bob\", \"Hi\", \"Cat\"  …  \"items\", \"prices\", \"sales\", \"like\", \"FL\", \"prepared\", \"in\", \"season\", \"be\", \"hurricane\"], [\"normal\", \"spam\"], [6 1; 3 1; … ; 2 1; 2 1])\n",
       " NaiveBayesClassifier{String}([\",\", \"how\", \"you\", \"is\", \"This\", \"are\", \"?\", \"Bob\", \"Hi\", \"Cat\"  …  \"items\", \"prices\", \"sales\", \"like\", \"FL\", \"prepared\", \"in\", \"season\", \"be\", \"hurricane\"], [\"normal\", \"spam\"], [6 1; 3 1; … ; 2 1; 2 1])\n",
       " NaiveBayesClassifier{String}([\",\", \"how\", \"you\", \"is\", \"This\", \"are\", \"?\", \"Bob\", \"Hi\", \"Cat\"  …  \"items\", \"prices\", \"sales\", \"like\", \"FL\", \"prepared\", \"in\", \"season\", \"be\", \"hurricane\"], [\"normal\", \"spam\"], [6 1; 3 1; … ; 2 1; 2 1])\n",
       " NaiveBayesClassifier{String}([\",\", \"how\", \"you\", \"is\", \"This\", \"are\", \"?\", \"Bob\", \"Hi\", \"Cat\"  …  \"items\", \"prices\", \"sales\", \"like\", \"FL\", \"prepared\", \"in\", \"season\", \"be\", \"hurricane\"], [\"normal\", \"spam\"], [6 1; 3 1; … ; 2 1; 2 1])\n",
       " NaiveBayesClassifier{String}([\",\", \"how\", \"you\", \"is\", \"This\", \"are\", \"?\", \"Bob\", \"Hi\", \"Cat\"  …  \"items\", \"prices\", \"sales\", \"like\", \"FL\", \"prepared\", \"in\", \"season\", \"be\", \"hurricane\"], [\"normal\", \"spam\"], [6 1; 3 1; … ; 2 1; 2 1])\n",
       " NaiveBayesClassifier{String}([\",\", \"how\", \"you\", \"is\", \"This\", \"are\", \"?\", \"Bob\", \"Hi\", \"Cat\"  …  \"items\", \"prices\", \"sales\", \"like\", \"FL\", \"prepared\", \"in\", \"season\", \"be\", \"hurricane\"], [\"normal\", \"spam\"], [6 1; 3 1; … ; 2 1; 2 1])\n",
       " NaiveBayesClassifier{String}([\",\", \"how\", \"you\", \"is\", \"This\", \"are\", \"?\", \"Bob\", \"Hi\", \"Cat\"  …  \"items\", \"prices\", \"sales\", \"like\", \"FL\", \"prepared\", \"in\", \"season\", \"be\", \"hurricane\"], [\"normal\", \"spam\"], [6 1; 3 1; … ; 2 1; 2 1])\n",
       " NaiveBayesClassifier{String}([\",\", \"how\", \"you\", \"is\", \"This\", \"are\", \"?\", \"Bob\", \"Hi\", \"Cat\"  …  \"items\", \"prices\", \"sales\", \"like\", \"FL\", \"prepared\", \"in\", \"season\", \"be\", \"hurricane\"], [\"normal\", \"spam\"], [6 1; 3 1; … ; 2 1; 2 1])"
      ]
     },
     "execution_count": 10,
     "metadata": {},
     "output_type": "execute_result"
    }
   ],
   "source": [
    "modelfit(ind) = fit!(model, emails[ind], email_classes[ind])\n",
    "\n",
    "map(ii -> modelfit(ii), 1:length(emails))"
   ]
  },
  {
   "cell_type": "code",
   "execution_count": 14,
   "metadata": {},
   "outputs": [
    {
     "data": {
      "text/plain": [
       "\"Hello, it is Bob, remember that this Tuesday has a football game\""
      ]
     },
     "execution_count": 14,
     "metadata": {},
     "output_type": "execute_result"
    }
   ],
   "source": [
    "new_email1 = \"Don't miss the super sale this Saturday only. Last chance ever!\"\n",
    "new_email2 = \"Hello, it is Bob, remember that this Tuesday has a football game\""
   ]
  },
  {
   "cell_type": "code",
   "execution_count": 15,
   "metadata": {},
   "outputs": [
    {
     "data": {
      "text/plain": [
       "Dict{String,Float64} with 2 entries:\n",
       "  \"normal\" => 0.000486431\n",
       "  \"spam\"   => 0.999514"
      ]
     },
     "execution_count": 15,
     "metadata": {},
     "output_type": "execute_result"
    }
   ],
   "source": [
    "predict(model, new_email1)"
   ]
  },
  {
   "cell_type": "code",
   "execution_count": 16,
   "metadata": {},
   "outputs": [
    {
     "data": {
      "text/plain": [
       "Dict{String,Float64} with 2 entries:\n",
       "  \"normal\" => 0.984046\n",
       "  \"spam\"   => 0.0159545"
      ]
     },
     "execution_count": 16,
     "metadata": {},
     "output_type": "execute_result"
    }
   ],
   "source": [
    "predict(model, new_email2)"
   ]
  },
  {
   "cell_type": "code",
   "execution_count": 23,
   "metadata": {},
   "outputs": [
    {
     "data": {
      "text/plain": [
       "\"Hello, remember that this Tuesday has a football game, so let's go check out the fantastic car sale\""
      ]
     },
     "execution_count": 23,
     "metadata": {},
     "output_type": "execute_result"
    }
   ],
   "source": [
    "new_email3 = \"Hello, remember that this Tuesday has a football game, so let's go check out the fantastic car sale\""
   ]
  },
  {
   "cell_type": "code",
   "execution_count": 24,
   "metadata": {},
   "outputs": [
    {
     "data": {
      "text/plain": [
       "Dict{String,Float64} with 2 entries:\n",
       "  \"normal\" => 0.622803\n",
       "  \"spam\"   => 0.377197"
      ]
     },
     "execution_count": 24,
     "metadata": {},
     "output_type": "execute_result"
    }
   ],
   "source": [
    "predict(model, new_email3)"
   ]
  },
  {
   "cell_type": "code",
   "execution_count": null,
   "metadata": {},
   "outputs": [],
   "source": []
  },
  {
   "cell_type": "code",
   "execution_count": null,
   "metadata": {},
   "outputs": [],
   "source": []
  },
  {
   "cell_type": "code",
   "execution_count": null,
   "metadata": {},
   "outputs": [],
   "source": []
  },
  {
   "cell_type": "code",
   "execution_count": null,
   "metadata": {},
   "outputs": [],
   "source": []
  },
  {
   "cell_type": "code",
   "execution_count": null,
   "metadata": {},
   "outputs": [],
   "source": []
  }
 ],
 "metadata": {
  "kernelspec": {
   "display_name": "Julia 1.5.2",
   "language": "julia",
   "name": "julia-1.5"
  },
  "language_info": {
   "file_extension": ".jl",
   "mimetype": "application/julia",
   "name": "julia",
   "version": "1.5.2"
  }
 },
 "nbformat": 4,
 "nbformat_minor": 4
}
