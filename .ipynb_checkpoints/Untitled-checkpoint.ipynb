{
 "cells": [
  {
   "cell_type": "code",
   "execution_count": null,
   "id": "4ea700b6-92aa-4ae5-84fc-881483b10dd4",
   "metadata": {},
   "outputs": [],
   "source": []
  },
  {
   "cell_type": "code",
   "execution_count": 1,
   "id": "5bd77a9f-3c8c-42b0-83d6-eda404164c94",
   "metadata": {},
   "outputs": [
    {
     "name": "stdout",
     "output_type": "stream",
     "text": [
      "Hello World!"
     ]
    }
   ],
   "source": [
    "print(\"Hello World!\")"
   ]
  },
  {
   "cell_type": "code",
   "execution_count": 2,
   "id": "ee71b6f3-1709-43db-8e44-7f1d99f10cee",
   "metadata": {},
   "outputs": [],
   "source": [
    "import Pkg"
   ]
  },
  {
   "cell_type": "code",
   "execution_count": 33,
   "id": "f0c57815-c599-4f10-8b49-c75c08cc92c0",
   "metadata": {},
   "outputs": [],
   "source": [
    "#Pkg.add(\"SQLite\")"
   ]
  },
  {
   "cell_type": "code",
   "execution_count": 34,
   "id": "c388b859-244c-4981-aae2-61bafef17d14",
   "metadata": {},
   "outputs": [],
   "source": [
    "using SQLite"
   ]
  },
  {
   "cell_type": "code",
   "execution_count": 35,
   "id": "9def42ac-30d0-4845-b524-f38ba74b4b16",
   "metadata": {},
   "outputs": [
    {
     "name": "stdout",
     "output_type": "stream",
     "text": [
      "alice.svg\n",
      "animalSounds\n",
      "animations\n",
      "cloud1.svg\n",
      "countryRoadNoStopWords.svg\n",
      "countryRoad.svg\n",
      "crowdSounds\n",
      "crowdSoundsTest\n",
      "demoDB.db\n",
      "eagle.png\n",
      "figs\n",
      "fileMapStuff\n",
      "fileWAVs\n",
      "lettermask.svg\n",
      "mechanicalSounds\n",
      "mechanicalSoundsTest\n",
      "plottingJL1.ipynb\n",
      "plottingJL2.ipynb\n",
      "plottingJL3.ipynb\n",
      "plottingJL4.ipynb\n",
      "plottingJL5.ipynb\n",
      "plottingJL6-RandJL.ipynb\n",
      "plottingJL7-JLandR.ipynb\n",
      "plottingJL8audioML.ipynb\n",
      "plottingJL9-naivebayes.ipynb\n",
      "plottingJLb10-JLandPy.ipynb\n",
      "plottingJLbFluxAudio.ipynb\n",
      "plottingJLbFluxConv.ipynb\n",
      "plottingJLbFlux.ipynb\n",
      "README.md\n",
      "runs\n",
      "silhouette-bald-eagle.png\n",
      "tl_2017_12_cousub\n",
      "united_states_florida_administrative_boundaries_polygon\n",
      "Untitled.ipynb\n"
     ]
    },
    {
     "data": {
      "text/plain": [
       "Process(`\u001b[4mls\u001b[24m`, ProcessExited(0))"
      ]
     },
     "execution_count": 35,
     "metadata": {},
     "output_type": "execute_result"
    }
   ],
   "source": [
    "run(`ls `)"
   ]
  },
  {
   "cell_type": "code",
   "execution_count": 40,
   "id": "6c2bea1d-8f99-496d-b316-9a0d4e889352",
   "metadata": {},
   "outputs": [],
   "source": [
    "#Pkg.add(\"Tables\")\n",
    "using Tables"
   ]
  },
  {
   "cell_type": "code",
   "execution_count": 41,
   "id": "8aaa1f4a-bf7c-499f-9646-838a1fa76f46",
   "metadata": {},
   "outputs": [],
   "source": [
    "using DataFrames"
   ]
  },
  {
   "cell_type": "code",
   "execution_count": 37,
   "id": "fb7a341b-e884-418a-b026-e64cc89569aa",
   "metadata": {},
   "outputs": [
    {
     "data": {
      "text/plain": [
       "SQLite.DB(\"db2.db\")"
      ]
     },
     "execution_count": 37,
     "metadata": {},
     "output_type": "execute_result"
    }
   ],
   "source": [
    "db = SQLite.DB(\"db2.db\")"
   ]
  },
  {
   "cell_type": "code",
   "execution_count": 38,
   "id": "96d81ff4-6711-4332-8967-64c8fde46f9d",
   "metadata": {},
   "outputs": [
    {
     "data": {
      "text/plain": [
       "SQLite.DB(\"db2.db\")"
      ]
     },
     "execution_count": 38,
     "metadata": {},
     "output_type": "execute_result"
    }
   ],
   "source": [
    "db"
   ]
  },
  {
   "cell_type": "code",
   "execution_count": null,
   "id": "6df76804-f28d-4e6b-ae1f-4e7bcdc29149",
   "metadata": {},
   "outputs": [],
   "source": []
  },
  {
   "cell_type": "code",
   "execution_count": 65,
   "id": "b22e31f1-53be-4cfd-ac10-83622f1c96cc",
   "metadata": {},
   "outputs": [],
   "source": [
    "using SQLite\n",
    "using DataFrames\n",
    "using DBInterface, SQLite"
   ]
  },
  {
   "cell_type": "code",
   "execution_count": 67,
   "id": "cd836776-b8ff-46de-962e-33d5585733d1",
   "metadata": {},
   "outputs": [
    {
     "data": {
      "text/plain": [
       "SQLite.Stmt(SQLite.DB(\"db2.db\"), 17)"
      ]
     },
     "execution_count": 67,
     "metadata": {},
     "output_type": "execute_result"
    }
   ],
   "source": [
    "stmt = DBInterface.prepare(db, \"CREATE TABLE tableOne (first TEXT, last TEXT) \")"
   ]
  },
  {
   "cell_type": "code",
   "execution_count": 68,
   "id": "1a43a1e7-191c-4853-8c78-0590618dd775",
   "metadata": {},
   "outputs": [
    {
     "data": {
      "text/plain": [
       "SQLite.Query(SQLite.Stmt(SQLite.DB(\"db2.db\"), 17), Base.RefValue{Int32}(101), Symbol[], Type[], Dict{Symbol, Int64}(), Base.RefValue{Int64}(0))"
      ]
     },
     "execution_count": 68,
     "metadata": {},
     "output_type": "execute_result"
    }
   ],
   "source": [
    "DBInterface.execute(stmt)"
   ]
  },
  {
   "cell_type": "code",
   "execution_count": 69,
   "id": "226e242a-7936-4289-8971-d9c0f8d8c44a",
   "metadata": {},
   "outputs": [
    {
     "data": {
      "text/plain": [
       "SQLite.Stmt(SQLite.DB(\"db2.db\"), 18)"
      ]
     },
     "execution_count": 69,
     "metadata": {},
     "output_type": "execute_result"
    }
   ],
   "source": [
    "stmt2 = DBInterface.prepare(db, \"INSERT INTO tableOne (first, last) VALUES (?, ?)\")"
   ]
  },
  {
   "cell_type": "code",
   "execution_count": 70,
   "id": "d0178f22-ed6d-4588-9660-0d7010ec8907",
   "metadata": {},
   "outputs": [
    {
     "data": {
      "text/plain": [
       "(first = \"alex\", last = \"manz\")"
      ]
     },
     "execution_count": 70,
     "metadata": {},
     "output_type": "execute_result"
    }
   ],
   "source": [
    "row = (first=\"alex\", last=\"manz\")"
   ]
  },
  {
   "cell_type": "code",
   "execution_count": 71,
   "id": "277e5cf2-f807-4645-9faf-e9b68312665d",
   "metadata": {},
   "outputs": [
    {
     "data": {
      "text/plain": [
       "SQLite.Query(SQLite.Stmt(SQLite.DB(\"db2.db\"), 18), Base.RefValue{Int32}(101), Symbol[], Type[], Dict{Symbol, Int64}(), Base.RefValue{Int64}(0))"
      ]
     },
     "execution_count": 71,
     "metadata": {},
     "output_type": "execute_result"
    }
   ],
   "source": [
    "DBInterface.execute(stmt2, (row.first, row.last))"
   ]
  },
  {
   "cell_type": "code",
   "execution_count": 73,
   "id": "72eff46e-53b3-448b-bf07-74d47633fe9f",
   "metadata": {},
   "outputs": [
    {
     "data": {
      "text/plain": [
       "SQLite.Stmt(SQLite.DB(\"db2.db\"), 19)"
      ]
     },
     "execution_count": 73,
     "metadata": {},
     "output_type": "execute_result"
    }
   ],
   "source": [
    "stmt3 = DBInterface.prepare(db, \"SELECT * FROM tableOne \")"
   ]
  },
  {
   "cell_type": "code",
   "execution_count": 75,
   "id": "a0d7004f-2b0c-4e32-81be-d2d6af460f59",
   "metadata": {},
   "outputs": [
    {
     "data": {
      "text/plain": [
       "SQLite.Query(SQLite.Stmt(SQLite.DB(\"db2.db\"), 19), Base.RefValue{Int32}(100), [:first, :last], Type[Union{Missing, String}, Union{Missing, String}], Dict(:first => 1, :last => 2), Base.RefValue{Int64}(0))"
      ]
     },
     "execution_count": 75,
     "metadata": {},
     "output_type": "execute_result"
    }
   ],
   "source": [
    "df_tmp = DBInterface.execute(stmt3) "
   ]
  },
  {
   "cell_type": "code",
   "execution_count": 77,
   "id": "e8026ef0-3d96-46f5-a435-b20e586a9d09",
   "metadata": {},
   "outputs": [
    {
     "data": {
      "text/plain": [
       "SQLite.Query"
      ]
     },
     "execution_count": 77,
     "metadata": {},
     "output_type": "execute_result"
    }
   ],
   "source": [
    "typeof(df_tmp)"
   ]
  },
  {
   "cell_type": "code",
   "execution_count": 80,
   "id": "a7799842-262e-47b1-ac78-38ebf2d98f00",
   "metadata": {},
   "outputs": [
    {
     "data": {
      "text/plain": [
       "SQLite.Query(SQLite.Stmt(SQLite.DB(\"db2.db\"), 19), Base.RefValue{Int32}(100), [:first, :last], Type[Union{Missing, String}, Union{Missing, String}], Dict(:first => 1, :last => 2), Base.RefValue{Int64}(1))"
      ]
     },
     "execution_count": 80,
     "metadata": {},
     "output_type": "execute_result"
    }
   ],
   "source": [
    "Tables.rows(df_tmp)"
   ]
  },
  {
   "cell_type": "code",
   "execution_count": 83,
   "id": "0b29cb50-b41e-4298-bcc7-75e7913167ad",
   "metadata": {},
   "outputs": [
    {
     "data": {
      "text/plain": [
       "(:stmt, :status, :names, :types, :lookup, :current_rownumber)"
      ]
     },
     "execution_count": 83,
     "metadata": {},
     "output_type": "execute_result"
    }
   ],
   "source": [
    "fieldnames(typeof(df_tmp))"
   ]
  },
  {
   "cell_type": "code",
   "execution_count": 84,
   "id": "91b6265e-8d9d-41f1-982b-12a5b72db6d7",
   "metadata": {},
   "outputs": [
    {
     "data": {
      "text/html": [
       "4-element Vector{Method}:<ul><li> eltype(q::<b>SQLite.Query</b>) in SQLite at <a href=\"file:///home/tasty/.julia/packages/SQLite/aDggE/src/tables.jl\" target=\"_blank\">/home/tasty/.julia/packages/SQLite/aDggE/src/tables.jl:38</a><li> isempty(q::<b>SQLite.Query</b>) in SQLite at <a href=\"file:///home/tasty/.julia/packages/SQLite/aDggE/src/tables.jl\" target=\"_blank\">/home/tasty/.julia/packages/SQLite/aDggE/src/tables.jl:15</a><li> iterate(q::<b>SQLite.Query</b>) in SQLite at <a href=\"file:///home/tasty/.julia/packages/SQLite/aDggE/src/tables.jl\" target=\"_blank\">/home/tasty/.julia/packages/SQLite/aDggE/src/tables.jl:81</a><li> iterate(q::<b>SQLite.Query</b>, rownumber) in SQLite at <a href=\"file:///home/tasty/.julia/packages/SQLite/aDggE/src/tables.jl\" target=\"_blank\">/home/tasty/.julia/packages/SQLite/aDggE/src/tables.jl:87</a></ul>"
      ],
      "text/plain": [
       "[1] eltype(q::SQLite.Query) in SQLite at /home/tasty/.julia/packages/SQLite/aDggE/src/tables.jl:38\n",
       "[2] isempty(q::SQLite.Query) in SQLite at /home/tasty/.julia/packages/SQLite/aDggE/src/tables.jl:15\n",
       "[3] iterate(q::SQLite.Query) in SQLite at /home/tasty/.julia/packages/SQLite/aDggE/src/tables.jl:81\n",
       "[4] iterate(q::SQLite.Query, rownumber) in SQLite at /home/tasty/.julia/packages/SQLite/aDggE/src/tables.jl:87"
      ]
     },
     "execution_count": 84,
     "metadata": {},
     "output_type": "execute_result"
    }
   ],
   "source": [
    "methodswith(typeof(df_tmp))"
   ]
  },
  {
   "cell_type": "code",
   "execution_count": 85,
   "id": "5c01eda0-08fb-47c3-8d88-3fc955a97b5b",
   "metadata": {},
   "outputs": [
    {
     "data": {
      "text/plain": [
       "(SQLite.Row: (first = \"alex\", last = \"manz\"), 2)"
      ]
     },
     "execution_count": 85,
     "metadata": {},
     "output_type": "execute_result"
    }
   ],
   "source": [
    "iterate(df_tmp)"
   ]
  },
  {
   "cell_type": "code",
   "execution_count": null,
   "id": "9a59b898-d90d-4df3-bd29-51f04378deb9",
   "metadata": {},
   "outputs": [],
   "source": []
  },
  {
   "cell_type": "code",
   "execution_count": 86,
   "id": "d77ca7a9-999f-4588-9a19-1fbfe81c2983",
   "metadata": {},
   "outputs": [
    {
     "data": {
      "text/plain": [
       "(first = \"alex2\", last = \"manz2\")"
      ]
     },
     "execution_count": 86,
     "metadata": {},
     "output_type": "execute_result"
    }
   ],
   "source": [
    "row = (first=\"alex2\", last=\"manz2\")"
   ]
  },
  {
   "cell_type": "code",
   "execution_count": 91,
   "id": "81780369-d647-4788-9a3a-180472c094c7",
   "metadata": {},
   "outputs": [
    {
     "data": {
      "text/plain": [
       "SQLite.Query(SQLite.Stmt(SQLite.DB(\"db2.db\"), 18), Base.RefValue{Int32}(101), Symbol[], Type[], Dict{Symbol, Int64}(), Base.RefValue{Int64}(0))"
      ]
     },
     "execution_count": 91,
     "metadata": {},
     "output_type": "execute_result"
    }
   ],
   "source": [
    "DBInterface.execute(stmt2, (row.first, row.last))"
   ]
  },
  {
   "cell_type": "code",
   "execution_count": 92,
   "id": "f613f312-72d2-4d20-97cf-2d7f496bce5d",
   "metadata": {},
   "outputs": [
    {
     "data": {
      "text/plain": [
       "SQLite.Query(SQLite.Stmt(SQLite.DB(\"db2.db\"), 18), Base.RefValue{Int32}(101), Symbol[], Type[], Dict{Symbol, Int64}(), Base.RefValue{Int64}(0))"
      ]
     },
     "execution_count": 92,
     "metadata": {},
     "output_type": "execute_result"
    }
   ],
   "source": [
    "row = (first=\"alex3\", last=\"manz3\")\n",
    "DBInterface.execute(stmt2, (row.first, row.last))"
   ]
  },
  {
   "cell_type": "code",
   "execution_count": 93,
   "id": "bcd000af-30f1-4360-bc01-6075251d1a4d",
   "metadata": {},
   "outputs": [
    {
     "data": {
      "text/plain": [
       "SQLite.Query(SQLite.Stmt(SQLite.DB(\"db2.db\"), 19), Base.RefValue{Int32}(100), [:first, :last], Type[Union{Missing, String}, Union{Missing, String}], Dict(:first => 1, :last => 2), Base.RefValue{Int64}(0))"
      ]
     },
     "execution_count": 93,
     "metadata": {},
     "output_type": "execute_result"
    }
   ],
   "source": [
    "df_tmp = DBInterface.execute(stmt3) "
   ]
  },
  {
   "cell_type": "code",
   "execution_count": 94,
   "id": "d0da94d3-9049-4860-81f9-45debf4c9daf",
   "metadata": {},
   "outputs": [
    {
     "data": {
      "text/plain": [
       "(SQLite.Row: (first = \"alex\", last = \"manz\"), 2)"
      ]
     },
     "execution_count": 94,
     "metadata": {},
     "output_type": "execute_result"
    }
   ],
   "source": [
    "iterate(df_tmp)"
   ]
  },
  {
   "cell_type": "code",
   "execution_count": null,
   "id": "5396384b-8bfa-44fe-ac97-925128899c12",
   "metadata": {},
   "outputs": [],
   "source": []
  },
  {
   "cell_type": "code",
   "execution_count": null,
   "id": "c89b7bc9-27d6-4fec-a6b9-794cf0f2e17f",
   "metadata": {},
   "outputs": [],
   "source": []
  },
  {
   "cell_type": "code",
   "execution_count": null,
   "id": "0d6a1026-0a3e-4b88-9e37-08421e36cfc8",
   "metadata": {},
   "outputs": [],
   "source": []
  },
  {
   "cell_type": "code",
   "execution_count": null,
   "id": "e471a84c-5170-4830-afc2-d7d36130dd2c",
   "metadata": {},
   "outputs": [],
   "source": []
  },
  {
   "cell_type": "code",
   "execution_count": null,
   "id": "fd372e15-9221-4ba9-894e-6333c4734877",
   "metadata": {},
   "outputs": [],
   "source": []
  },
  {
   "cell_type": "code",
   "execution_count": null,
   "id": "01084401-2ced-4fcd-b1b4-ef2d956c0e9a",
   "metadata": {},
   "outputs": [],
   "source": []
  }
 ],
 "metadata": {
  "kernelspec": {
   "display_name": "Julia 1.6.2",
   "language": "julia",
   "name": "julia-1.6"
  },
  "language_info": {
   "file_extension": ".jl",
   "mimetype": "application/julia",
   "name": "julia",
   "version": "1.6.2"
  }
 },
 "nbformat": 4,
 "nbformat_minor": 5
}
