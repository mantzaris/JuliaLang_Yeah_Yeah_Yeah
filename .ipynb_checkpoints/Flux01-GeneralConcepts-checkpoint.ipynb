{
 "cells": [
  {
   "cell_type": "code",
   "execution_count": null,
   "metadata": {},
   "outputs": [],
   "source": []
  },
  {
   "cell_type": "code",
   "execution_count": 1,
   "metadata": {},
   "outputs": [],
   "source": [
    "using Flux\n",
    "using Zygote\n",
    "\n",
    "using Plots"
   ]
  },
  {
   "cell_type": "code",
   "execution_count": null,
   "metadata": {},
   "outputs": [],
   "source": []
  },
  {
   "cell_type": "markdown",
   "metadata": {},
   "source": [
    "### <span style=\"color:orange\">write a function and make a function for the gradient of the function</span>"
   ]
  },
  {
   "cell_type": "code",
   "execution_count": 2,
   "metadata": {},
   "outputs": [
    {
     "data": {
      "text/plain": [
       "d2f1 (generic function with 1 method)"
      ]
     },
     "execution_count": 2,
     "metadata": {},
     "output_type": "execute_result"
    }
   ],
   "source": [
    "f1(x) = 3x^2 - 2x + 10 # the function\n",
    "df1(x) = gradient(f1, x)[1] # the gradient function df/dx = 6x - 2\n",
    "d2f1(x) = gradient(df1, x)[1] # acceleration d²f/dx² = 6"
   ]
  },
  {
   "cell_type": "code",
   "execution_count": 3,
   "metadata": {},
   "outputs": [
    {
     "name": "stdout",
     "output_type": "stream",
     "text": [
      "grad1 = 58.0, grads2 = [4.0, 10.0, 58.0], accelerations = [6.0, 6.0, 6.0]\n"
     ]
    }
   ],
   "source": [
    "grad1 = df1(10) # gradient at 1 point\n",
    "grads2 = df1.([1,2,10]) #gradient at multiple points\n",
    "accelerations = d2f1.([1,2,10])\n",
    "println(\"grad1 = $(grad1), grads2 = $(grads2), accelerations = $(accelerations)\")"
   ]
  },
  {
   "cell_type": "code",
   "execution_count": null,
   "metadata": {},
   "outputs": [],
   "source": []
  },
  {
   "cell_type": "markdown",
   "metadata": {},
   "source": [
    "### <span style=\"color:orange\">We can find the gradient of a function with various computations inside and especially the well known MSE</span>"
   ]
  },
  {
   "cell_type": "code",
   "execution_count": 4,
   "metadata": {},
   "outputs": [
    {
     "data": {
      "text/plain": [
       "f_mse (generic function with 1 method)"
      ]
     },
     "execution_count": 4,
     "metadata": {},
     "output_type": "execute_result"
    }
   ],
   "source": [
    "f_mse(x, y) = sum((x .- y).^2)"
   ]
  },
  {
   "cell_type": "code",
   "execution_count": 5,
   "metadata": {},
   "outputs": [
    {
     "name": "stdout",
     "output_type": "stream",
     "text": [
      "grads = ([0.0, 2.0, -2.0], [-0.0, -2.0, 2.0])\n"
     ]
    }
   ],
   "source": [
    "xx = [2,1,0]\n",
    "yy = [2,0,1]\n",
    "grads = gradient(f_mse, xx, yy)\n",
    "println(\"grads = $(grads)\")"
   ]
  },
  {
   "cell_type": "code",
   "execution_count": 6,
   "metadata": {},
   "outputs": [
    {
     "data": {
      "text/plain": [
       "Grads(...)"
      ]
     },
     "execution_count": 6,
     "metadata": {},
     "output_type": "execute_result"
    }
   ],
   "source": [
    "xx = [2,1,0]\n",
    "yy = [2,0,1]\n",
    "gs = gradient(Flux.params(xx, yy)) do\n",
    "         f_mse(xx, yy)\n",
    "        end"
   ]
  },
  {
   "cell_type": "code",
   "execution_count": 7,
   "metadata": {},
   "outputs": [
    {
     "data": {
      "text/plain": [
       "(:grads, :params)"
      ]
     },
     "execution_count": 7,
     "metadata": {},
     "output_type": "execute_result"
    }
   ],
   "source": [
    "fieldnames(typeof(gs))"
   ]
  },
  {
   "cell_type": "code",
   "execution_count": 8,
   "metadata": {},
   "outputs": [
    {
     "data": {
      "text/plain": [
       "IdDict{Any, Any} with 4 entries:\n",
       "  [2, 1, 0]  => [0.0, 2.0, -2.0]\n",
       "  :(Main.xx) => [0.0, 2.0, -2.0]\n",
       "  :(Main.yy) => [-0.0, -2.0, 2.0]\n",
       "  [2, 0, 1]  => [-0.0, -2.0, 2.0]"
      ]
     },
     "execution_count": 8,
     "metadata": {},
     "output_type": "execute_result"
    }
   ],
   "source": [
    "gs.grads"
   ]
  },
  {
   "cell_type": "code",
   "execution_count": 9,
   "metadata": {},
   "outputs": [
    {
     "data": {
      "text/plain": [
       "Params([[2, 1, 0], [2, 0, 1]])"
      ]
     },
     "execution_count": 9,
     "metadata": {},
     "output_type": "execute_result"
    }
   ],
   "source": [
    "gs.params"
   ]
  },
  {
   "cell_type": "code",
   "execution_count": 10,
   "metadata": {},
   "outputs": [
    {
     "data": {
      "text/plain": [
       "3-element Vector{Float64}:\n",
       "  0.0\n",
       "  2.0\n",
       " -2.0"
      ]
     },
     "execution_count": 10,
     "metadata": {},
     "output_type": "execute_result"
    }
   ],
   "source": [
    "gs[xx]"
   ]
  },
  {
   "cell_type": "code",
   "execution_count": 11,
   "metadata": {},
   "outputs": [
    {
     "data": {
      "text/plain": [
       "3-element Vector{Float64}:\n",
       " -0.0\n",
       " -2.0\n",
       "  2.0"
      ]
     },
     "execution_count": 11,
     "metadata": {},
     "output_type": "execute_result"
    }
   ],
   "source": [
    "gs[yy]"
   ]
  },
  {
   "cell_type": "code",
   "execution_count": null,
   "metadata": {},
   "outputs": [],
   "source": []
  },
  {
   "cell_type": "markdown",
   "metadata": {},
   "source": [
    "### <span style=\"color:orange\">linear regression</span>"
   ]
  },
  {
   "cell_type": "code",
   "execution_count": 12,
   "metadata": {},
   "outputs": [
    {
     "data": {
      "text/plain": [
       "6.304166987728548"
      ]
     },
     "execution_count": 12,
     "metadata": {},
     "output_type": "execute_result"
    }
   ],
   "source": [
    "x, y = rand(5), rand(2) # 5 features (dims) -> 2 featuers (dims)\n",
    "W = rand(2, 5)\n",
    "b = rand(2)\n",
    "m1(x) = W*x .+ b\n",
    "function loss1(x, y)\n",
    "    y_hat = m1(x)\n",
    "    sum((y .- y_hat).^2)\n",
    "end\n",
    "loss1(x,y)"
   ]
  },
  {
   "cell_type": "code",
   "execution_count": 13,
   "metadata": {},
   "outputs": [
    {
     "data": {
      "text/plain": [
       "Grads(...)"
      ]
     },
     "execution_count": 13,
     "metadata": {},
     "output_type": "execute_result"
    }
   ],
   "source": [
    "gs = gradient(() -> loss1(x, y), Flux.params(W, b))"
   ]
  },
  {
   "cell_type": "code",
   "execution_count": 14,
   "metadata": {},
   "outputs": [
    {
     "data": {
      "text/plain": [
       "2×5 Matrix{Float64}:\n",
       " 2.36225  0.326783  2.05626  1.8728   3.0619\n",
       " 2.60404  0.360231  2.26674  2.06449  3.37531"
      ]
     },
     "execution_count": 14,
     "metadata": {},
     "output_type": "execute_result"
    }
   ],
   "source": [
    "gs[W]"
   ]
  },
  {
   "cell_type": "code",
   "execution_count": 15,
   "metadata": {},
   "outputs": [
    {
     "data": {
      "text/plain": [
       "2-element Vector{Float64}:\n",
       " 3.373944795192435\n",
       " 3.7192962331478885"
      ]
     },
     "execution_count": 15,
     "metadata": {},
     "output_type": "execute_result"
    }
   ],
   "source": [
    "gs[b]"
   ]
  },
  {
   "cell_type": "code",
   "execution_count": 16,
   "metadata": {},
   "outputs": [
    {
     "data": {
      "text/plain": [
       "2×5 Matrix{Float64}:\n",
       " 2.36225  0.326783  2.05626  1.8728   3.0619\n",
       " 2.60404  0.360231  2.26674  2.06449  3.37531"
      ]
     },
     "execution_count": 16,
     "metadata": {},
     "output_type": "execute_result"
    }
   ],
   "source": [
    "W_grad = gs[W]"
   ]
  },
  {
   "cell_type": "markdown",
   "metadata": {},
   "source": [
    "### <span style=\"color:orange\">Update parameter **W** (the transformation matrix) by a step</span>"
   ]
  },
  {
   "cell_type": "code",
   "execution_count": 17,
   "metadata": {},
   "outputs": [
    {
     "data": {
      "text/plain": [
       "2×5 Matrix{Float64}:\n",
       " 0.172265  0.876594  0.665784  0.137708  -0.210755\n",
       " 0.198667  0.347635  0.517086  0.453124   0.00595652"
      ]
     },
     "execution_count": 17,
     "metadata": {},
     "output_type": "execute_result"
    }
   ],
   "source": [
    "W = W .- (0.1 .* W_grad )"
   ]
  },
  {
   "cell_type": "code",
   "execution_count": 18,
   "metadata": {},
   "outputs": [
    {
     "data": {
      "text/plain": [
       "2.265406972458729"
      ]
     },
     "execution_count": 18,
     "metadata": {},
     "output_type": "execute_result"
    }
   ],
   "source": [
    "loss1(x,y)"
   ]
  },
  {
   "cell_type": "markdown",
   "metadata": {},
   "source": [
    "### <span style=\"color:orange\">And another step in that direction</span>"
   ]
  },
  {
   "cell_type": "code",
   "execution_count": 19,
   "metadata": {},
   "outputs": [
    {
     "data": {
      "text/plain": [
       "0.24944407478337216"
      ]
     },
     "execution_count": 19,
     "metadata": {},
     "output_type": "execute_result"
    }
   ],
   "source": [
    "W = W .- (0.1 .* W_grad )\n",
    "loss1(x,y)"
   ]
  },
  {
   "cell_type": "markdown",
   "metadata": {},
   "source": [
    "### <span style=\"color:orange\">And another step</span>"
   ]
  },
  {
   "cell_type": "code",
   "execution_count": 20,
   "metadata": {},
   "outputs": [
    {
     "data": {
      "text/plain": [
       "0.2562782947024781"
      ]
     },
     "execution_count": 20,
     "metadata": {},
     "output_type": "execute_result"
    }
   ],
   "source": [
    "W = W .- (0.1 .* W_grad )\n",
    "loss1(x,y)"
   ]
  },
  {
   "cell_type": "markdown",
   "metadata": {},
   "source": [
    "### <span style=\"color:orange\">And another step</span>"
   ]
  },
  {
   "cell_type": "code",
   "execution_count": 21,
   "metadata": {},
   "outputs": [
    {
     "data": {
      "text/plain": [
       "2.285909632216047"
      ]
     },
     "execution_count": 21,
     "metadata": {},
     "output_type": "execute_result"
    }
   ],
   "source": [
    "W = W .- (0.1 .* W_grad )\n",
    "loss1(x,y)"
   ]
  },
  {
   "cell_type": "code",
   "execution_count": null,
   "metadata": {},
   "outputs": [],
   "source": []
  },
  {
   "cell_type": "markdown",
   "metadata": {},
   "source": [
    "### <span style=\"color:orange\">Layers (sequential transformations)</span>"
   ]
  },
  {
   "cell_type": "code",
   "execution_count": 22,
   "metadata": {},
   "outputs": [
    {
     "data": {
      "text/plain": [
       "2-element Vector{Float64}:\n",
       " 1.5309041744641396\n",
       " 1.7863769829274818"
      ]
     },
     "execution_count": 22,
     "metadata": {},
     "output_type": "execute_result"
    }
   ],
   "source": [
    "W1 = rand(3, 5) #5 to 3 transformation\n",
    "b1 = rand(3)\n",
    "layer1(x) = W1 * x .+ b1\n",
    "\n",
    "W2 = rand(2, 3) #3 to 2 transformation\n",
    "b2 = rand(2)\n",
    "layer2(x) = W2 * x .+ b2\n",
    "\n",
    "m2(x) = layer2(sigmoid.(layer1(x)))\n",
    "\n",
    "m2(rand(5)) #transforming 5 to 3, then 3 to 2 dims with an activation layer of sigmoid "
   ]
  },
  {
   "cell_type": "code",
   "execution_count": 23,
   "metadata": {},
   "outputs": [
    {
     "data": {
      "text/plain": [
       "loss2 (generic function with 1 method)"
      ]
     },
     "execution_count": 23,
     "metadata": {},
     "output_type": "execute_result"
    }
   ],
   "source": [
    "x, y = rand(5), rand(2)\n",
    "function loss2(x, y)\n",
    "    y_hat = m2(x)\n",
    "    sum((y .- y_hat).^2)\n",
    "end"
   ]
  },
  {
   "cell_type": "code",
   "execution_count": 24,
   "metadata": {},
   "outputs": [
    {
     "data": {
      "text/plain": [
       "Grads(...)"
      ]
     },
     "execution_count": 24,
     "metadata": {},
     "output_type": "execute_result"
    }
   ],
   "source": [
    "gs = gradient(() -> loss2(x, y), Flux.params(W1, b1, W2, b2))"
   ]
  },
  {
   "cell_type": "code",
   "execution_count": 25,
   "metadata": {},
   "outputs": [
    {
     "data": {
      "text/plain": [
       "3×5 Matrix{Float64}:\n",
       " 0.109677   0.0171435   0.151084   0.352476  0.137453\n",
       " 0.0555342  0.00868051  0.0765006  0.178474  0.0695985\n",
       " 0.0773248  0.0120866   0.106518   0.248504  0.0969076"
      ]
     },
     "execution_count": 25,
     "metadata": {},
     "output_type": "execute_result"
    }
   ],
   "source": [
    "gs[W1]"
   ]
  },
  {
   "cell_type": "code",
   "execution_count": 26,
   "metadata": {},
   "outputs": [
    {
     "data": {
      "text/plain": [
       "2×3 Matrix{Float64}:\n",
       " 1.56293  1.64159  1.63251\n",
       " 1.41174  1.48279  1.47459"
      ]
     },
     "execution_count": 26,
     "metadata": {},
     "output_type": "execute_result"
    }
   ],
   "source": [
    "gs[W2]"
   ]
  },
  {
   "cell_type": "code",
   "execution_count": 27,
   "metadata": {},
   "outputs": [
    {
     "data": {
      "text/plain": [
       "1.937697646865833"
      ]
     },
     "execution_count": 27,
     "metadata": {},
     "output_type": "execute_result"
    }
   ],
   "source": [
    "loss2(x, y)"
   ]
  },
  {
   "cell_type": "code",
   "execution_count": 28,
   "metadata": {},
   "outputs": [
    {
     "data": {
      "text/plain": [
       "2×3 Matrix{Float64}:\n",
       " 1.56293  1.64159  1.63251\n",
       " 1.41174  1.48279  1.47459"
      ]
     },
     "execution_count": 28,
     "metadata": {},
     "output_type": "execute_result"
    }
   ],
   "source": [
    "W1_grad = gs[W1]\n",
    "W2_grad = gs[W2]"
   ]
  },
  {
   "cell_type": "code",
   "execution_count": 29,
   "metadata": {},
   "outputs": [
    {
     "data": {
      "text/plain": [
       "2×3 Matrix{Float64}:\n",
       " 0.286022  -0.0535075  0.122401\n",
       " 0.543962   0.400552   0.456552"
      ]
     },
     "execution_count": 29,
     "metadata": {},
     "output_type": "execute_result"
    }
   ],
   "source": [
    "W1 = W1 .- (0.1 .* W1_grad ) \n",
    "W2 = W2 .- (0.1 .* W2_grad ) "
   ]
  },
  {
   "cell_type": "code",
   "execution_count": 30,
   "metadata": {},
   "outputs": [
    {
     "data": {
      "text/plain": [
       "0.7663952684652139"
      ]
     },
     "execution_count": 30,
     "metadata": {},
     "output_type": "execute_result"
    }
   ],
   "source": [
    "loss2(x, y)"
   ]
  },
  {
   "cell_type": "code",
   "execution_count": 31,
   "metadata": {},
   "outputs": [
    {
     "data": {
      "text/plain": [
       "2×3 Matrix{Float64}:\n",
       " 0.129729  -0.217667  -0.04085\n",
       " 0.402788   0.252272   0.309093"
      ]
     },
     "execution_count": 31,
     "metadata": {},
     "output_type": "execute_result"
    }
   ],
   "source": [
    "W1 = W1 .- (0.1 .* W1_grad ) \n",
    "W2 = W2 .- (0.1 .* W2_grad ) "
   ]
  },
  {
   "cell_type": "code",
   "execution_count": 32,
   "metadata": {},
   "outputs": [
    {
     "data": {
      "text/plain": [
       "0.13413610410253957"
      ]
     },
     "execution_count": 32,
     "metadata": {},
     "output_type": "execute_result"
    }
   ],
   "source": [
    "loss2(x, y)"
   ]
  },
  {
   "cell_type": "markdown",
   "metadata": {},
   "source": [
    "### <span style=\"color:orange\">Let's make a **Chain** of transformations rather than separate transformations</span>"
   ]
  },
  {
   "cell_type": "code",
   "execution_count": 33,
   "metadata": {},
   "outputs": [
    {
     "data": {
      "text/plain": [
       "Chain(#7, #8, #9)"
      ]
     },
     "execution_count": 33,
     "metadata": {},
     "output_type": "execute_result"
    }
   ],
   "source": [
    "W1 = rand(3, 5) #5 to 3 transformation\n",
    "b1 = rand(3)\n",
    "W2 = rand(2, 3) #3 to 2 transformation\n",
    "b2 = rand(2)\n",
    "\n",
    "m3 = Chain( x -> W1 * x .+ b1 , x -> sigmoid.(x) , x -> W2 * x .+ b2 )  #processes each transformation in sequence"
   ]
  },
  {
   "cell_type": "code",
   "execution_count": 34,
   "metadata": {},
   "outputs": [
    {
     "data": {
      "text/plain": [
       "loss3 (generic function with 1 method)"
      ]
     },
     "execution_count": 34,
     "metadata": {},
     "output_type": "execute_result"
    }
   ],
   "source": [
    "x, y = rand(5), rand(2)\n",
    "function loss3(x, y)\n",
    "    y_hat = m3(x)\n",
    "    sum((y .- y_hat).^2)\n",
    "end"
   ]
  },
  {
   "cell_type": "code",
   "execution_count": 35,
   "metadata": {},
   "outputs": [
    {
     "data": {
      "text/plain": [
       "Grads(...)"
      ]
     },
     "execution_count": 35,
     "metadata": {},
     "output_type": "execute_result"
    }
   ],
   "source": [
    "gs = gradient(() -> loss3(x, y), Flux.params(W1, b1, W2, b2))"
   ]
  },
  {
   "cell_type": "code",
   "execution_count": 36,
   "metadata": {},
   "outputs": [
    {
     "data": {
      "text/plain": [
       "5.812693188076139"
      ]
     },
     "execution_count": 36,
     "metadata": {},
     "output_type": "execute_result"
    }
   ],
   "source": [
    "loss3(x, y)"
   ]
  },
  {
   "cell_type": "code",
   "execution_count": 37,
   "metadata": {},
   "outputs": [
    {
     "data": {
      "text/plain": [
       "1.8649286972439154"
      ]
     },
     "execution_count": 37,
     "metadata": {},
     "output_type": "execute_result"
    }
   ],
   "source": [
    "W1_grad = gs[W1]\n",
    "W2_grad = gs[W2]\n",
    "W1 = W1 .- (0.1 .* W1_grad ) \n",
    "W2 = W2 .- (0.1 .* W2_grad ) \n",
    "loss3(x, y)"
   ]
  },
  {
   "cell_type": "code",
   "execution_count": 38,
   "metadata": {},
   "outputs": [
    {
     "data": {
      "text/plain": [
       "0.1216695790368294"
      ]
     },
     "execution_count": 38,
     "metadata": {},
     "output_type": "execute_result"
    }
   ],
   "source": [
    "W1 = W1 .- (0.1 .* W1_grad ) \n",
    "W2 = W2 .- (0.1 .* W2_grad ) \n",
    "loss3(x, y)"
   ]
  },
  {
   "cell_type": "markdown",
   "metadata": {},
   "source": [
    "### <span style=\"color:orange\">Function composition</span>\n",
    "\n",
    "- https://docs.julialang.org/en/v1/manual/functions/#Function-composition-and-piping\n",
    "- https://math.libretexts.org/Courses/Western_Connecticut_State_University/Draft_Custom_Version_MAT_131_College_Algebra/03%3A_Functions/3.04%3A_Composition_of_Functions\n",
    "- '\\circ' is the operator symbol or use '|>' as a pipe\n",
    "\n",
    "### <span style=\"color:orange\">Use the **Dense Layer** function to make the transformations</span>\n",
    "\n",
    "- the weights for the transformations are initialized automatically"
   ]
  },
  {
   "cell_type": "code",
   "execution_count": 39,
   "metadata": {},
   "outputs": [
    {
     "name": "stdout",
     "output_type": "stream",
     "text": [
      "7.416198487095663\n",
      "7.416198487095663\n"
     ]
    }
   ],
   "source": [
    "#notice that the equivalence is produced from different orders of pipe VS compositions\n",
    "println( 1:10 |> sum |> sqrt ) \n",
    "println( (sqrt ∘ sum)(1:10) )"
   ]
  },
  {
   "cell_type": "code",
   "execution_count": 40,
   "metadata": {},
   "outputs": [
    {
     "data": {
      "text/plain": [
       "Dense(3 => 2) ∘ Dense(5 => 3, σ)"
      ]
     },
     "execution_count": 40,
     "metadata": {},
     "output_type": "execute_result"
    }
   ],
   "source": [
    "m4 = Dense(3 => 2) ∘ Dense(5 => 3,sigmoid) "
   ]
  },
  {
   "cell_type": "code",
   "execution_count": 41,
   "metadata": {},
   "outputs": [
    {
     "data": {
      "text/plain": [
       "2.139356480217059"
      ]
     },
     "execution_count": 41,
     "metadata": {},
     "output_type": "execute_result"
    }
   ],
   "source": [
    "# the weights and matrices are no longer supplied 'manually' but are part of the Dense layer object\n",
    "x, y = rand(5), rand(2)\n",
    "function loss4(x, y)\n",
    "    y_hat = m4(x)\n",
    "    sum((y .- y_hat).^2)\n",
    "end\n",
    "loss4(x, y)"
   ]
  },
  {
   "cell_type": "code",
   "execution_count": 42,
   "metadata": {},
   "outputs": [
    {
     "data": {
      "text/plain": [
       "Params([Float32[-0.57269084 -0.9291086 -0.42609337; -0.726888 -0.5572878 0.8806486], Float32[0.0, 0.0], Float32[-0.80836236 -0.61190975 … 0.6051753 -0.26934215; -0.55433583 -0.35151505 … 0.24153626 -0.09267101; 0.6824641 -0.15489912 … 0.07773315 0.17739525], Float32[0.0, 0.0, 0.0]])"
      ]
     },
     "execution_count": 42,
     "metadata": {},
     "output_type": "execute_result"
    }
   ],
   "source": [
    "opt = Descent(0.1)\n",
    "params = Flux.params(m4)"
   ]
  },
  {
   "cell_type": "code",
   "execution_count": 43,
   "metadata": {},
   "outputs": [],
   "source": [
    "#use Flux's inbuilt api to get the gradients for the composite function"
   ]
  },
  {
   "cell_type": "code",
   "execution_count": 44,
   "metadata": {},
   "outputs": [
    {
     "data": {
      "text/plain": [
       "Grads(...)"
      ]
     },
     "execution_count": 44,
     "metadata": {},
     "output_type": "execute_result"
    }
   ],
   "source": [
    "grads = Flux.gradient(params) do\n",
    "    loss4(x, y)\n",
    "end"
   ]
  },
  {
   "cell_type": "code",
   "execution_count": 45,
   "metadata": {},
   "outputs": [],
   "source": [
    "Flux.update!(opt, params, grads)"
   ]
  },
  {
   "cell_type": "code",
   "execution_count": 46,
   "metadata": {},
   "outputs": [
    {
     "data": {
      "text/plain": [
       "0.7881319436664576"
      ]
     },
     "execution_count": 46,
     "metadata": {},
     "output_type": "execute_result"
    }
   ],
   "source": [
    "loss4(x, y)"
   ]
  },
  {
   "cell_type": "code",
   "execution_count": 47,
   "metadata": {},
   "outputs": [
    {
     "data": {
      "text/plain": [
       "0.31320031047829483"
      ]
     },
     "execution_count": 47,
     "metadata": {},
     "output_type": "execute_result"
    }
   ],
   "source": [
    "grads = Flux.gradient(params) do\n",
    "    loss4(x, y)\n",
    "end\n",
    "Flux.update!(opt, params, grads)\n",
    "loss4(x, y)"
   ]
  },
  {
   "cell_type": "code",
   "execution_count": 48,
   "metadata": {},
   "outputs": [
    {
     "data": {
      "text/plain": [
       "0.1281980693317756"
      ]
     },
     "execution_count": 48,
     "metadata": {},
     "output_type": "execute_result"
    }
   ],
   "source": [
    "grads = Flux.gradient(params) do\n",
    "    loss4(x, y)\n",
    "end\n",
    "Flux.update!(opt, params, grads)\n",
    "loss4(x, y)"
   ]
  },
  {
   "cell_type": "code",
   "execution_count": null,
   "metadata": {},
   "outputs": [],
   "source": []
  },
  {
   "cell_type": "markdown",
   "metadata": {},
   "source": [
    "### <span style=\"color:orange\">Use the **Chain** to creat the sequence of transformations</span>\n",
    "\n",
    "- notice how the order from right to left changes with "
   ]
  },
  {
   "cell_type": "code",
   "execution_count": 49,
   "metadata": {},
   "outputs": [
    {
     "data": {
      "text/plain": [
       "Chain(\n",
       "  Dense(5 => 3, σ),                     \u001b[90m# 18 parameters\u001b[39m\n",
       "  Dense(3 => 2),                        \u001b[90m# 8 parameters\u001b[39m\n",
       ") \u001b[90m                  # Total: 4 arrays, \u001b[39m26 parameters, 360 bytes."
      ]
     },
     "execution_count": 49,
     "metadata": {},
     "output_type": "execute_result"
    }
   ],
   "source": [
    "m5 = Chain(  Dense(5 => 3, sigmoid) , Dense(3 => 2)  )"
   ]
  },
  {
   "cell_type": "code",
   "execution_count": 50,
   "metadata": {},
   "outputs": [
    {
     "data": {
      "text/plain": [
       "0.45832217918273427"
      ]
     },
     "execution_count": 50,
     "metadata": {},
     "output_type": "execute_result"
    }
   ],
   "source": [
    "# the weights and matrices are no longer supplied 'manually' but are part of the Dense layer object\n",
    "x, y = rand(5), rand(2)\n",
    "function loss5(x, y)\n",
    "    y_hat = m5(x)\n",
    "    sum((y .- y_hat).^2)\n",
    "end\n",
    "loss5(x, y)"
   ]
  },
  {
   "cell_type": "code",
   "execution_count": 51,
   "metadata": {},
   "outputs": [
    {
     "data": {
      "text/plain": [
       "Params([Float32[-0.15713102 0.5600156 … 0.687669 -0.6718237; -0.43580818 -0.6009365 … 0.50947994 -0.3289989; -0.31738284 -0.43340406 … -0.3354581 0.8151], Float32[0.0, 0.0, 0.0], Float32[0.76063293 -0.461643 0.47759032; -0.4258711 0.10266599 0.13205491], Float32[0.0, 0.0]])"
      ]
     },
     "execution_count": 51,
     "metadata": {},
     "output_type": "execute_result"
    }
   ],
   "source": [
    "opt = Descent(0.1)\n",
    "params = Flux.params(m5)"
   ]
  },
  {
   "cell_type": "code",
   "execution_count": 52,
   "metadata": {},
   "outputs": [
    {
     "data": {
      "text/plain": [
       "Grads(...)"
      ]
     },
     "execution_count": 52,
     "metadata": {},
     "output_type": "execute_result"
    }
   ],
   "source": [
    "grads = Flux.gradient(params) do\n",
    "    loss5(x, y)\n",
    "end"
   ]
  },
  {
   "cell_type": "code",
   "execution_count": 53,
   "metadata": {},
   "outputs": [],
   "source": [
    "Flux.update!(opt, params, grads)"
   ]
  },
  {
   "cell_type": "code",
   "execution_count": 54,
   "metadata": {},
   "outputs": [
    {
     "data": {
      "text/plain": [
       "0.18022437185765394"
      ]
     },
     "execution_count": 54,
     "metadata": {},
     "output_type": "execute_result"
    }
   ],
   "source": [
    "loss5(x, y)"
   ]
  },
  {
   "cell_type": "code",
   "execution_count": null,
   "metadata": {},
   "outputs": [],
   "source": []
  },
  {
   "cell_type": "markdown",
   "metadata": {},
   "source": [
    "### <span style=\"color:orange\">Using a different optimizer **Adam**</span>\n",
    "\n",
    "- Kingma, Diederik P., and Jimmy Ba. \"Adam: A method for stochastic optimization.\" arXiv preprint arXiv:1412.6980 (2014)."
   ]
  },
  {
   "cell_type": "code",
   "execution_count": 55,
   "metadata": {},
   "outputs": [
    {
     "data": {
      "text/plain": [
       "Chain(\n",
       "  Dense(5 => 3, σ),                     \u001b[90m# 18 parameters\u001b[39m\n",
       "  Dense(3 => 2),                        \u001b[90m# 8 parameters\u001b[39m\n",
       ") \u001b[90m                  # Total: 4 arrays, \u001b[39m26 parameters, 360 bytes."
      ]
     },
     "execution_count": 55,
     "metadata": {},
     "output_type": "execute_result"
    }
   ],
   "source": [
    "m5 = Chain(  Dense(5 => 3, sigmoid) , Dense(3 => 2)  )"
   ]
  },
  {
   "cell_type": "code",
   "execution_count": 56,
   "metadata": {},
   "outputs": [
    {
     "data": {
      "text/plain": [
       "0.66790911126334"
      ]
     },
     "execution_count": 56,
     "metadata": {},
     "output_type": "execute_result"
    }
   ],
   "source": [
    "# the weights and matrices are no longer supplied 'manually' but are part of the Dense layer object\n",
    "x, y = rand(5), rand(2)\n",
    "function loss5(x, y)\n",
    "    y_hat = m5(x)\n",
    "    sum((y .- y_hat).^2)\n",
    "end\n",
    "params = Flux.params(m5)\n",
    "loss5(x, y)"
   ]
  },
  {
   "cell_type": "code",
   "execution_count": 57,
   "metadata": {},
   "outputs": [
    {
     "data": {
      "text/plain": [
       "Adam(0.1, (0.9, 0.999), 1.0e-8, IdDict{Any, Any}())"
      ]
     },
     "execution_count": 57,
     "metadata": {},
     "output_type": "execute_result"
    }
   ],
   "source": [
    "opt = Adam(0.1)"
   ]
  },
  {
   "cell_type": "code",
   "execution_count": 58,
   "metadata": {},
   "outputs": [
    {
     "data": {
      "text/plain": [
       "Grads(...)"
      ]
     },
     "execution_count": 58,
     "metadata": {},
     "output_type": "execute_result"
    }
   ],
   "source": [
    "grads = Flux.gradient(params) do\n",
    "    loss5(x, y)\n",
    "end"
   ]
  },
  {
   "cell_type": "code",
   "execution_count": 59,
   "metadata": {},
   "outputs": [
    {
     "data": {
      "text/plain": [
       "0.11303984797758831"
      ]
     },
     "execution_count": 59,
     "metadata": {},
     "output_type": "execute_result"
    }
   ],
   "source": [
    "Flux.update!(opt, params, grads)\n",
    "loss5(x, y)"
   ]
  },
  {
   "cell_type": "code",
   "execution_count": null,
   "metadata": {},
   "outputs": [],
   "source": []
  },
  {
   "cell_type": "code",
   "execution_count": 60,
   "metadata": {},
   "outputs": [
    {
     "data": {
      "text/plain": [
       "3.5462765571385333"
      ]
     },
     "execution_count": 60,
     "metadata": {},
     "output_type": "execute_result"
    }
   ],
   "source": [
    "#similar to before\n",
    "m6 = Chain(  Dense(5 => 3, sigmoid) , Dense(3 => 2)  )\n",
    "x, y = rand(5), rand(2)\n",
    "function loss6(x, y)\n",
    "    y_hat = m6(x)\n",
    "    sum((y .- y_hat).^2)\n",
    "end\n",
    "opt = Adam(0.1)\n",
    "loss6(x, y)"
   ]
  },
  {
   "cell_type": "markdown",
   "metadata": {},
   "source": [
    "### <span style=\"color:orange\">Now we don't pass parameters of a model related to the loss, but just the variables related to the loss and the parameters are found automatically</span>"
   ]
  },
  {
   "cell_type": "code",
   "execution_count": 61,
   "metadata": {},
   "outputs": [
    {
     "data": {
      "text/plain": [
       "Grads(...)"
      ]
     },
     "execution_count": 61,
     "metadata": {},
     "output_type": "execute_result"
    }
   ],
   "source": [
    "grads = gradient(Flux.params(x, y)) do\n",
    "         loss6(x, y)\n",
    "       end"
   ]
  },
  {
   "cell_type": "code",
   "execution_count": 62,
   "metadata": {},
   "outputs": [
    {
     "data": {
      "text/plain": [
       "5-element Vector{Float64}:\n",
       "  0.6361760990259739\n",
       " -0.5611927230340055\n",
       " -0.3444779349520957\n",
       " -0.46882482107935164\n",
       " -0.19652764435505016"
      ]
     },
     "metadata": {},
     "output_type": "display_data"
    },
    {
     "data": {
      "text/plain": [
       "2-element Vector{Float64}:\n",
       " 1.60118699990094\n",
       " 3.40900372834973"
      ]
     },
     "metadata": {},
     "output_type": "display_data"
    }
   ],
   "source": [
    "display(grads[x])\n",
    "display(grads[y])"
   ]
  },
  {
   "cell_type": "code",
   "execution_count": 63,
   "metadata": {},
   "outputs": [
    {
     "data": {
      "text/plain": [
       "2.86459092109202"
      ]
     },
     "execution_count": 63,
     "metadata": {},
     "output_type": "execute_result"
    }
   ],
   "source": [
    "Flux.update!(opt, Flux.params(x, y), grads)\n",
    "loss6(x, y)"
   ]
  },
  {
   "cell_type": "code",
   "execution_count": 64,
   "metadata": {},
   "outputs": [
    {
     "data": {
      "text/plain": [
       "2.415966949824604"
      ]
     },
     "execution_count": 64,
     "metadata": {},
     "output_type": "execute_result"
    }
   ],
   "source": [
    "Flux.update!(opt, Flux.params(x, y), grads)\n",
    "loss6(x, y)"
   ]
  },
  {
   "cell_type": "code",
   "execution_count": 65,
   "metadata": {},
   "outputs": [
    {
     "data": {
      "text/plain": [
       "2.076995349641757"
      ]
     },
     "execution_count": 65,
     "metadata": {},
     "output_type": "execute_result"
    }
   ],
   "source": [
    "Flux.update!(opt, Flux.params(x, y), grads)\n",
    "loss6(x, y)"
   ]
  },
  {
   "cell_type": "code",
   "execution_count": 66,
   "metadata": {},
   "outputs": [
    {
     "data": {
      "text/plain": [
       "1.8061747004727255"
      ]
     },
     "execution_count": 66,
     "metadata": {},
     "output_type": "execute_result"
    }
   ],
   "source": [
    "Flux.update!(opt, Flux.params(x, y), grads)\n",
    "loss6(x, y)"
   ]
  },
  {
   "cell_type": "code",
   "execution_count": null,
   "metadata": {},
   "outputs": [],
   "source": []
  },
  {
   "cell_type": "code",
   "execution_count": null,
   "metadata": {},
   "outputs": [],
   "source": []
  },
  {
   "cell_type": "code",
   "execution_count": null,
   "metadata": {},
   "outputs": [],
   "source": []
  },
  {
   "cell_type": "code",
   "execution_count": null,
   "metadata": {},
   "outputs": [],
   "source": []
  },
  {
   "cell_type": "code",
   "execution_count": null,
   "metadata": {},
   "outputs": [],
   "source": []
  },
  {
   "cell_type": "markdown",
   "metadata": {},
   "source": [
    "### <span style=\"color:orange\">The Single Neuron Model</span>\n",
    "**supervised learning**\n",
    "\n",
    "Labeled data, D = $\\{(x_1,y_2),(x_2,y_2),\\ldots,(x_n,y_n)\\}$\n",
    "\n",
    "Each data point can be considered to be a 'signal' (common in the journal publications to see the data points referred to as) x_i\n",
    "\n",
    "$x_i + 1 \\rightarrow (w_1,b) \\rightarrow z = w_1 * x_i + b \\rightarrow a = \\phi(z) $\n",
    "\n",
    "Here $z$ can be considered to be a 'pre-activation' and $a$ a post-activation, that exists within the neuron. That is within the single neuron there are 2 steps, the production of $z$ that is a linear 'projection'/'transformation' and the $a$ is the 'activation' that is typically non-linear (eg. sigmoid or rectified linear units 'relu')\n",
    "\n",
    "There is a 'cost' function for the neuron, in a manner similar to that of the common statistical fits\n",
    "\n",
    "$C(w,b) = \\sum_{i=1}^N dist(y,\\hat{y}_i)$\n",
    "\n",
    "The cost function gives us a 'landscape' (hyperdimensional surface of $y$ and $\\hat{y}$ similarity for the parameters of the model) to minimize the cost (degree of fit). Our goal is to find $W$ and $b$ which minimizes $C$. The cost function can from a variety of forms based upon the 'dist' function where in regression cases it is often mean squared error, and in categorical predictions cross entropy"
   ]
  },
  {
   "cell_type": "markdown",
   "metadata": {},
   "source": [
    "### <span style=\"color:orange\">Dense Layer</span>\n",
    "\n",
    "The **Dense** layer used corresponds to the $\\phi$ function above that produces the non-linear *activation* operation upon the transformed values in *z*"
   ]
  },
  {
   "cell_type": "code",
   "execution_count": 67,
   "metadata": {},
   "outputs": [
    {
     "data": {
      "text/plain": [
       "5×64 Matrix{Float64}:\n",
       " 0.36426    0.51207   0.0622349  0.504392  …  0.652455  0.611455  0.691497\n",
       " 0.780879   0.198784  0.16361    0.900887     0.854145  0.807842  0.654392\n",
       " 0.203989   0.988775  0.722537   0.855874     0.749649  0.348908  0.828317\n",
       " 0.123276   0.645493  0.578176   0.799958     0.908095  0.159729  0.576531\n",
       " 0.0987901  0.864629  0.0254322  0.559638     0.696046  0.312806  0.86906"
      ]
     },
     "execution_count": 67,
     "metadata": {},
     "output_type": "execute_result"
    }
   ],
   "source": [
    "rdata = rand( 5, 64)"
   ]
  },
  {
   "cell_type": "code",
   "execution_count": 68,
   "metadata": {},
   "outputs": [
    {
     "data": {
      "text/plain": [
       "Dense(5 => 2, tanh)  \u001b[90m# 12 parameters\u001b[39m"
      ]
     },
     "execution_count": 68,
     "metadata": {},
     "output_type": "execute_result"
    }
   ],
   "source": [
    "d1 = Dense(5 => 2)\n",
    "d2 = Dense(5 => 2, identity)\n",
    "d3 = Dense(5 => 2, sigmoid)\n",
    "d4 = Dense(5 => 2, tanh)"
   ]
  },
  {
   "cell_type": "code",
   "execution_count": 69,
   "metadata": {},
   "outputs": [
    {
     "data": {
      "text/plain": [
       "2×64 Matrix{Float64}:\n",
       " -0.429832  -0.21523   -0.207403  …  -0.491611  -0.418265  -0.417454\n",
       " -0.594201  -0.899814  -0.199659     -0.819949  -0.805813  -1.11803"
      ]
     },
     "execution_count": 69,
     "metadata": {},
     "output_type": "execute_result"
    }
   ],
   "source": [
    "d1(rdata)"
   ]
  },
  {
   "cell_type": "code",
   "execution_count": 70,
   "metadata": {},
   "outputs": [
    {
     "data": {
      "text/plain": [
       "2×64 Matrix{Float64}:\n",
       " -0.302385  0.562028   0.847888   0.413159  …  0.30241   -0.394886  0.113686\n",
       "  0.650809  0.0346387  0.0782991  0.74232      0.875592   0.684583  0.481223"
      ]
     },
     "execution_count": 70,
     "metadata": {},
     "output_type": "execute_result"
    }
   ],
   "source": [
    "d2(rdata)"
   ]
  },
  {
   "cell_type": "code",
   "execution_count": 71,
   "metadata": {},
   "outputs": [
    {
     "data": {
      "text/plain": [
       "2×64 Matrix{Float64}:\n",
       " 0.555506  0.351663  0.341588  0.44617   …  0.43386   0.517959  0.440916\n",
       " 0.56751   0.377775  0.493039  0.453738     0.413446  0.556112  0.419412"
      ]
     },
     "execution_count": 71,
     "metadata": {},
     "output_type": "execute_result"
    }
   ],
   "source": [
    "d3(rdata)"
   ]
  },
  {
   "cell_type": "code",
   "execution_count": 72,
   "metadata": {},
   "outputs": [
    {
     "data": {
      "text/plain": [
       "2×64 Matrix{Float64}:\n",
       " -0.389661  -0.796287  -0.383311   …  -0.8182    -0.603771  -0.825473\n",
       " -0.021698  -0.493513  -0.0494993     -0.258613  -0.199768  -0.448346"
      ]
     },
     "execution_count": 72,
     "metadata": {},
     "output_type": "execute_result"
    }
   ],
   "source": [
    "d4(rdata)"
   ]
  },
  {
   "cell_type": "code",
   "execution_count": 73,
   "metadata": {},
   "outputs": [
    {
     "data": {
      "text/plain": [
       "2-element Vector{Float32}:\n",
       "  -76.116005\n",
       " -649.5248"
      ]
     },
     "execution_count": 73,
     "metadata": {},
     "output_type": "execute_result"
    }
   ],
   "source": [
    "d1( [0,1,10,100,1000] )"
   ]
  },
  {
   "cell_type": "code",
   "execution_count": 74,
   "metadata": {},
   "outputs": [
    {
     "data": {
      "text/plain": [
       "2-element Vector{Float32}:\n",
       " 1.0\n",
       " 0.0"
      ]
     },
     "execution_count": 74,
     "metadata": {},
     "output_type": "execute_result"
    }
   ],
   "source": [
    "d3( [0,1,10,100,1000] )"
   ]
  },
  {
   "cell_type": "code",
   "execution_count": 75,
   "metadata": {},
   "outputs": [
    {
     "data": {
      "text/plain": [
       "2-element Vector{Float32}:\n",
       " -1.0\n",
       " -1.0"
      ]
     },
     "execution_count": 75,
     "metadata": {},
     "output_type": "execute_result"
    }
   ],
   "source": [
    "d4( [0,1,10,100,1000] )"
   ]
  },
  {
   "cell_type": "code",
   "execution_count": null,
   "metadata": {},
   "outputs": [],
   "source": []
  },
  {
   "cell_type": "markdown",
   "metadata": {},
   "source": [
    "### <span style=\"color:orange\">There are other layer types likes the **Conv** layer type (CNNs)</span>\n",
    "\n",
    "- They follow the type: Width-Height-Channel-NumberOfImages (WHCN)\n",
    "- for 32 color images of 50x50 pixels that has a WHCN size of (50,50,3,32)\n",
    "- You can do CNN convolutional layers on 1D data too (sound / audio data) where there are 2 channels in stereo, and for let's say 72 samples(recordings) the size is (72, 2, 1)\n",
    "- 3D Conv layers would add an extra dimension so if the 3D images (eg medical) are 50x50x50, that is (50,50,50,3,32)\n",
    "\n",
    "- **Stride**: the CNN filters move/jump/reposition themselves how many pixels eeach time (the filter 'patch' is shifted how many pixels each time)\n",
    "- **Padding**: due to edge boundaries the filters cannot produce the same image number of pixels (shrinks) are each application so many layers would shrink the image by alot. Also pixels on the boudnary/edge of the image get used in fewer filter operations than those in the middle areas. So padding adds 0 pixels on the outer perimeter. to maintain the same image size use\n",
    "\n",
    "$paddingSize = \\frac{f-1}{2}$\n",
    "\n",
    "since\n",
    "\n",
    "$n + 2p - f + 1 = n$\n",
    "\n",
    "- **Dilation** widens the kernel by skipping pixels so the filter covers a wider area\n",
    "\n",
    "functional usage: $Conv(filter, in => out, \\sigma = identity; stride = 1, pad = 0, dilation = 1, groups = 1, [bias, init])$"
   ]
  },
  {
   "cell_type": "code",
   "execution_count": 76,
   "metadata": {},
   "outputs": [
    {
     "data": {
      "text/plain": [
       "Conv((5, 5), 3 => 7, relu)  \u001b[90m# 532 parameters\u001b[39m"
      ]
     },
     "execution_count": 76,
     "metadata": {},
     "output_type": "execute_result"
    }
   ],
   "source": [
    "conv_layer1 = Conv((5,5), 3 => 7, relu)"
   ]
  },
  {
   "cell_type": "code",
   "execution_count": 77,
   "metadata": {},
   "outputs": [
    {
     "data": {
      "text/plain": [
       "50×50×3×1 Array{Float32, 4}:\n",
       "[:, :, 1, 1] =\n",
       " 0.634033   0.192729   0.557974   …  0.882058   0.445293   0.643773\n",
       " 0.968075   0.676135   0.0797387     0.765735   0.508837   0.261027\n",
       " 0.266002   0.312607   0.277972      0.981898   0.673407   0.446932\n",
       " 0.758738   0.373222   0.340718      0.267536   0.166161   0.399834\n",
       " 0.0167754  0.91326    0.456227      0.555303   0.294636   0.53394\n",
       " 0.514383   0.213068   0.121956   …  0.0210194  0.360681   0.690594\n",
       " 0.959194   0.875005   0.66858       0.099885   0.953041   0.179577\n",
       " 0.549147   0.0315394  0.696794      0.136385   0.47125    0.192144\n",
       " 0.354294   0.237189   0.230375      0.285721   0.0742336  0.191778\n",
       " 0.770121   0.0515059  0.150729      0.451883   0.489872   0.264627\n",
       " 0.709035   0.506016   0.497161   …  0.310171   0.910623   0.331637\n",
       " 0.513711   0.997743   0.225421      0.259214   0.820073   0.7722\n",
       " 0.700155   0.476886   0.784677      0.199433   0.81348    0.103939\n",
       " ⋮                                ⋱                        \n",
       " 0.563821   0.774525   0.164521      0.421653   0.973848   0.195615\n",
       " 0.799145   0.59365    0.748519      0.482421   0.379476   0.669509\n",
       " 0.0094648  0.738135   0.108433   …  0.737648   0.325688   0.914941\n",
       " 0.423056   0.555525   0.932709      0.69154    0.648811   0.357167\n",
       " 0.882789   0.775054   0.923772      0.550608   0.42104    0.622035\n",
       " 0.487391   0.165832   0.817443      0.814508   0.33698    0.553197\n",
       " 0.542168   0.0303837  0.143902      0.285899   0.0214463  0.643431\n",
       " 0.948288   0.969339   0.367344   …  0.756497   0.325628   0.759143\n",
       " 0.760057   0.626862   0.0625085     0.111478   0.151008   0.472216\n",
       " 0.986161   0.0746375  0.748541      0.11447    0.378371   0.258707\n",
       " 0.891099   0.0576848  0.0118936     0.432743   0.750742   0.243466\n",
       " 0.978281   0.270221   0.053402      0.824436   0.855578   0.453462\n",
       "\n",
       "[:, :, 2, 1] =\n",
       " 0.813155    0.0826527  0.618477   …  0.845734    0.892062    0.82849\n",
       " 0.305512    0.179945   0.0473787     0.683949    0.318592    0.00925654\n",
       " 0.0101383   0.97832    0.467782      0.677201    0.453777    0.106313\n",
       " 0.129806    0.500888   0.860733      0.0513728   0.00888813  0.219582\n",
       " 0.129222    0.240163   0.9752        0.488894    0.378466    0.516301\n",
       " 0.766017    0.52172    0.432994   …  0.339278    0.685877    0.632863\n",
       " 0.789371    0.359482   0.0217547     0.450663    0.0983295   0.360415\n",
       " 0.067356    0.564543   0.776594      0.768386    0.119554    0.285959\n",
       " 0.938626    0.124042   0.479129      0.5039      0.507412    0.00229394\n",
       " 0.944079    0.566083   0.340646      0.119359    0.749818    0.466934\n",
       " 0.357705    0.868529   0.942837   …  0.0498962   0.096442    0.663454\n",
       " 0.374307    0.724905   0.544288      0.205678    0.168205    0.72236\n",
       " 0.432772    0.443627   0.8665        0.538776    0.618846    0.128233\n",
       " ⋮                                 ⋱                          \n",
       " 0.230927    0.824126   0.801169      0.330766    0.0312427   0.0178303\n",
       " 0.975471    0.0202091  0.731063      0.445057    0.179492    0.052928\n",
       " 0.155305    0.747262   0.0867153  …  0.00620091  0.0371512   0.204106\n",
       " 0.249451    0.987778   0.575881      0.212344    0.224531    0.482082\n",
       " 0.673476    0.639175   0.149574      0.521553    0.533488    0.0180718\n",
       " 4.84586f-5  0.910946   0.162529      0.123224    0.402339    0.450886\n",
       " 0.0552266   0.667089   0.165942      0.648998    0.06176     0.628999\n",
       " 0.0548903   0.62531    0.53501    …  0.37692     0.219736    0.638468\n",
       " 0.606804    0.629617   0.592864      0.416772    0.565615    0.513811\n",
       " 0.246302    0.124832   0.276961      0.217509    0.439375    0.141263\n",
       " 0.829279    0.678586   0.0658049     0.512961    0.341474    0.139807\n",
       " 0.732272    0.335544   0.060442      0.418357    0.0119623   0.208034\n",
       "\n",
       "[:, :, 3, 1] =\n",
       " 0.0968956  0.917406   0.709861   0.710814   …  0.650107  0.717869   0.488086\n",
       " 0.664603   0.11484    0.541853   0.836551      0.03874   0.416927   0.626671\n",
       " 0.0070774  0.430966   0.706258   0.815162      0.853791  0.134215   0.924465\n",
       " 0.743152   0.218604   0.586072   0.31235       0.689051  0.010664   0.361405\n",
       " 0.213998   0.883162   0.250652   0.526903      0.225116  0.939007   0.912051\n",
       " 0.905196   0.468104   0.767035   0.543268   …  0.482295  0.214883   0.553595\n",
       " 0.732978   0.135064   0.485386   0.346423      0.897643  0.0692616  0.248688\n",
       " 0.875344   0.541263   0.1422     0.581579      0.763627  0.0892139  0.2404\n",
       " 0.603092   0.677304   0.7219     0.319397      0.388009  0.922603   0.667351\n",
       " 0.848666   0.837539   0.17797    0.105138      0.491545  0.678546   0.592905\n",
       " 0.0861406  0.0576732  0.697651   0.858229   …  0.32005   0.7824     0.66927\n",
       " 0.270235   0.324512   0.474331   0.773527      0.889256  0.997512   0.332354\n",
       " 0.0947536  0.85862    0.353755   0.932838      0.271295  0.899537   0.956467\n",
       " ⋮                                           ⋱                       \n",
       " 0.483082   0.802613   0.160837   0.348676      0.298546  0.524037   0.251584\n",
       " 0.439444   0.223577   0.157767   0.518191      0.200406  0.716068   0.182719\n",
       " 0.0327623  0.0495462  0.581933   0.721711   …  0.619446  0.4545     0.168136\n",
       " 0.625803   0.174235   0.611044   0.479217      0.64143   0.432691   0.828523\n",
       " 0.367171   0.854052   0.439008   0.552655      0.748983  0.192833   0.902916\n",
       " 0.609863   0.225895   0.0417967  0.155502      0.884638  0.852053   0.562423\n",
       " 0.0431111  0.533107   0.0675732  0.791524      0.355686  0.711851   0.7279\n",
       " 0.32917    0.169211   0.931839   0.0727553  …  0.706185  0.746465   0.110473\n",
       " 0.943173   0.173249   0.803973   0.821707      0.995607  0.975307   0.483945\n",
       " 0.0866832  0.383782   0.411804   0.679089      0.352779  0.142722   0.460504\n",
       " 0.289032   0.480552   0.290276   0.212843      0.168893  0.2213     0.933175\n",
       " 0.157205   0.587684   0.0508696  0.900965      0.235482  0.772524   0.743508"
      ]
     },
     "execution_count": 77,
     "metadata": {},
     "output_type": "execute_result"
    }
   ],
   "source": [
    "image1 = rand(Float32, 50, 50, 3, 1) #3 channel image (color)"
   ]
  },
  {
   "cell_type": "markdown",
   "metadata": {},
   "source": [
    "### <span style=\"color:orange\">Pass the image into the Conv layer but notice the size change of the image and the channel number increase</span>"
   ]
  },
  {
   "cell_type": "code",
   "execution_count": 78,
   "metadata": {},
   "outputs": [
    {
     "data": {
      "text/plain": [
       "(46, 46, 7, 1)"
      ]
     },
     "execution_count": 78,
     "metadata": {},
     "output_type": "execute_result"
    }
   ],
   "source": [
    "size( conv_layer1(image1) )"
   ]
  },
  {
   "cell_type": "markdown",
   "metadata": {},
   "source": [
    "### <span style=\"color:orange\">Add padding to this new Conv layer to see the size be preserved</span>"
   ]
  },
  {
   "cell_type": "code",
   "execution_count": 79,
   "metadata": {},
   "outputs": [
    {
     "data": {
      "text/plain": [
       "Conv((5, 5), 3 => 7, relu, pad=2)  \u001b[90m# 532 parameters\u001b[39m"
      ]
     },
     "execution_count": 79,
     "metadata": {},
     "output_type": "execute_result"
    }
   ],
   "source": [
    "conv_layer2 = Conv((5,5), 3 => 7, relu, pad=2)"
   ]
  },
  {
   "cell_type": "code",
   "execution_count": 80,
   "metadata": {},
   "outputs": [
    {
     "data": {
      "text/plain": [
       "(50, 50, 7, 1)"
      ]
     },
     "execution_count": 80,
     "metadata": {},
     "output_type": "execute_result"
    }
   ],
   "source": [
    "size( conv_layer2(image1) )"
   ]
  },
  {
   "cell_type": "markdown",
   "metadata": {},
   "source": [
    "### <span style=\"color:orange\">More will be said about different layers later on</span>\n",
    "\n",
    "- BatchNorm\n",
    "- Dropout\n",
    "\n",
    "and more"
   ]
  },
  {
   "cell_type": "code",
   "execution_count": null,
   "metadata": {},
   "outputs": [],
   "source": []
  },
  {
   "cell_type": "markdown",
   "metadata": {},
   "source": [
    "### <span style=\"color:orange\">Activation Functions</span>\n",
    "\n",
    "- Between 'neurons'/'perceptrons'/'transformations'/'layers' we take the linear transformation, and produce an **activation** that is a non-linear tranformation. This is the linear tranformation value produced 'z' that is then tranformed with the non-linear activation function $\\phi$ to produce the output $a$, from operations: $ z = w_1 * x_i + b \\rightarrow a = \\phi(z) $\n",
    "- The activation function produces $ a = \\phi(z) $\n",
    "- If your 'layer' has only one dimension output $R^N \\rightarrow R^1$ (with X input having $N$ dimension and only 1 neuron in that layer) then there is 1 activation function applied, but if there are more neurons in the layer, then multiple activation functions are applied, 1 for each neuron in the layer $R^N \\rightarrow R^3$ 3 activation function applications\n",
    "- These $\\phi$ functions can be varied and are an area of research themselves. Although apparently simple in their operation, the consequences of the choices of these functions can change both the performance accuracies and even the performance run time\n",
    "- Softmax is not *strictly* considered to be an *activation* function. We use softmax at the end output to get a probability distribution over a vector of outputs to produce another vector of outputs of the same length that then is a normalized distribution for categorical probability predictions.\n",
    "- Many functions exist but we will cover a few major ones only, and you can even research your own functions yourself as novel functions and explore the pros and cons for each one"
   ]
  },
  {
   "cell_type": "code",
   "execution_count": 81,
   "metadata": {},
   "outputs": [
    {
     "data": {
      "image/svg+xml": [
       "<?xml version=\"1.0\" encoding=\"utf-8\"?>\n",
       "<svg xmlns=\"http://www.w3.org/2000/svg\" xmlns:xlink=\"http://www.w3.org/1999/xlink\" width=\"600\" height=\"400\" viewBox=\"0 0 2400 1600\">\n",
       "<defs>\n",
       "  <clipPath id=\"clip310\">\n",
       "    <rect x=\"0\" y=\"0\" width=\"2400\" height=\"1600\"/>\n",
       "  </clipPath>\n",
       "</defs>\n",
       "<path clip-path=\"url(#clip310)\" d=\"\n",
       "M0 1600 L2400 1600 L2400 0 L0 0  Z\n",
       "  \" fill=\"#ffffff\" fill-rule=\"evenodd\" fill-opacity=\"1\"/>\n",
       "<defs>\n",
       "  <clipPath id=\"clip311\">\n",
       "    <rect x=\"480\" y=\"0\" width=\"1681\" height=\"1600\"/>\n",
       "  </clipPath>\n",
       "</defs>\n",
       "<path clip-path=\"url(#clip310)\" d=\"\n",
       "M186.274 1486.45 L2352.76 1486.45 L2352.76 123.472 L186.274 123.472  Z\n",
       "  \" fill=\"#ffffff\" fill-rule=\"evenodd\" fill-opacity=\"1\"/>\n",
       "<defs>\n",
       "  <clipPath id=\"clip312\">\n",
       "    <rect x=\"186\" y=\"123\" width=\"2167\" height=\"1364\"/>\n",
       "  </clipPath>\n",
       "</defs>\n",
       "<polyline clip-path=\"url(#clip312)\" style=\"stroke:#000000; stroke-linecap:round; stroke-linejoin:round; stroke-width:2; stroke-opacity:0.1; fill:none\" points=\"\n",
       "  451.975,1486.45 451.975,123.472 \n",
       "  \"/>\n",
       "<polyline clip-path=\"url(#clip312)\" style=\"stroke:#000000; stroke-linecap:round; stroke-linejoin:round; stroke-width:2; stroke-opacity:0.1; fill:none\" points=\"\n",
       "  860.745,1486.45 860.745,123.472 \n",
       "  \"/>\n",
       "<polyline clip-path=\"url(#clip312)\" style=\"stroke:#000000; stroke-linecap:round; stroke-linejoin:round; stroke-width:2; stroke-opacity:0.1; fill:none\" points=\"\n",
       "  1269.51,1486.45 1269.51,123.472 \n",
       "  \"/>\n",
       "<polyline clip-path=\"url(#clip312)\" style=\"stroke:#000000; stroke-linecap:round; stroke-linejoin:round; stroke-width:2; stroke-opacity:0.1; fill:none\" points=\"\n",
       "  1678.29,1486.45 1678.29,123.472 \n",
       "  \"/>\n",
       "<polyline clip-path=\"url(#clip312)\" style=\"stroke:#000000; stroke-linecap:round; stroke-linejoin:round; stroke-width:2; stroke-opacity:0.1; fill:none\" points=\"\n",
       "  2087.06,1486.45 2087.06,123.472 \n",
       "  \"/>\n",
       "<polyline clip-path=\"url(#clip310)\" style=\"stroke:#000000; stroke-linecap:round; stroke-linejoin:round; stroke-width:4; stroke-opacity:1; fill:none\" points=\"\n",
       "  186.274,1486.45 2352.76,1486.45 \n",
       "  \"/>\n",
       "<polyline clip-path=\"url(#clip310)\" style=\"stroke:#000000; stroke-linecap:round; stroke-linejoin:round; stroke-width:4; stroke-opacity:1; fill:none\" points=\"\n",
       "  451.975,1486.45 451.975,1467.55 \n",
       "  \"/>\n",
       "<polyline clip-path=\"url(#clip310)\" style=\"stroke:#000000; stroke-linecap:round; stroke-linejoin:round; stroke-width:4; stroke-opacity:1; fill:none\" points=\"\n",
       "  860.745,1486.45 860.745,1467.55 \n",
       "  \"/>\n",
       "<polyline clip-path=\"url(#clip310)\" style=\"stroke:#000000; stroke-linecap:round; stroke-linejoin:round; stroke-width:4; stroke-opacity:1; fill:none\" points=\"\n",
       "  1269.51,1486.45 1269.51,1467.55 \n",
       "  \"/>\n",
       "<polyline clip-path=\"url(#clip310)\" style=\"stroke:#000000; stroke-linecap:round; stroke-linejoin:round; stroke-width:4; stroke-opacity:1; fill:none\" points=\"\n",
       "  1678.29,1486.45 1678.29,1467.55 \n",
       "  \"/>\n",
       "<polyline clip-path=\"url(#clip310)\" style=\"stroke:#000000; stroke-linecap:round; stroke-linejoin:round; stroke-width:4; stroke-opacity:1; fill:none\" points=\"\n",
       "  2087.06,1486.45 2087.06,1467.55 \n",
       "  \"/>\n",
       "<path clip-path=\"url(#clip310)\" d=\"M420.875 1532.02 L450.551 1532.02 L450.551 1535.95 L420.875 1535.95 L420.875 1532.02 Z\" fill=\"#000000\" fill-rule=\"evenodd\" fill-opacity=\"1\" /><path clip-path=\"url(#clip310)\" d=\"M473.491 1518.36 L461.685 1536.81 L473.491 1536.81 L473.491 1518.36 M472.264 1514.29 L478.143 1514.29 L478.143 1536.81 L483.074 1536.81 L483.074 1540.7 L478.143 1540.7 L478.143 1548.85 L473.491 1548.85 L473.491 1540.7 L457.889 1540.7 L457.889 1536.19 L472.264 1514.29 Z\" fill=\"#000000\" fill-rule=\"evenodd\" fill-opacity=\"1\" /><path clip-path=\"url(#clip310)\" d=\"M830.687 1532.02 L860.363 1532.02 L860.363 1535.95 L830.687 1535.95 L830.687 1532.02 Z\" fill=\"#000000\" fill-rule=\"evenodd\" fill-opacity=\"1\" /><path clip-path=\"url(#clip310)\" d=\"M874.483 1544.91 L890.802 1544.91 L890.802 1548.85 L868.858 1548.85 L868.858 1544.91 Q871.52 1542.16 876.103 1537.53 Q880.71 1532.88 881.891 1531.53 Q884.136 1529.01 885.015 1527.27 Q885.918 1525.51 885.918 1523.82 Q885.918 1521.07 883.974 1519.33 Q882.053 1517.6 878.951 1517.6 Q876.752 1517.6 874.298 1518.36 Q871.867 1519.13 869.09 1520.68 L869.09 1515.95 Q871.914 1514.82 874.367 1514.24 Q876.821 1513.66 878.858 1513.66 Q884.228 1513.66 887.423 1516.35 Q890.617 1519.03 890.617 1523.52 Q890.617 1525.65 889.807 1527.57 Q889.02 1529.47 886.914 1532.07 Q886.335 1532.74 883.233 1535.95 Q880.131 1539.15 874.483 1544.91 Z\" fill=\"#000000\" fill-rule=\"evenodd\" fill-opacity=\"1\" /><path clip-path=\"url(#clip310)\" d=\"M1269.51 1517.37 Q1265.9 1517.37 1264.08 1520.93 Q1262.27 1524.47 1262.27 1531.6 Q1262.27 1538.71 1264.08 1542.27 Q1265.9 1545.82 1269.51 1545.82 Q1273.15 1545.82 1274.95 1542.27 Q1276.78 1538.71 1276.78 1531.6 Q1276.78 1524.47 1274.95 1520.93 Q1273.15 1517.37 1269.51 1517.37 M1269.51 1513.66 Q1275.33 1513.66 1278.38 1518.27 Q1281.46 1522.85 1281.46 1531.6 Q1281.46 1540.33 1278.38 1544.94 Q1275.33 1549.52 1269.51 1549.52 Q1263.7 1549.52 1260.63 1544.94 Q1257.57 1540.33 1257.57 1531.6 Q1257.57 1522.85 1260.63 1518.27 Q1263.7 1513.66 1269.51 1513.66 Z\" fill=\"#000000\" fill-rule=\"evenodd\" fill-opacity=\"1\" /><path clip-path=\"url(#clip310)\" d=\"M1672.94 1544.91 L1689.26 1544.91 L1689.26 1548.85 L1667.31 1548.85 L1667.31 1544.91 Q1669.97 1542.16 1674.56 1537.53 Q1679.16 1532.88 1680.35 1531.53 Q1682.59 1529.01 1683.47 1527.27 Q1684.37 1525.51 1684.37 1523.82 Q1684.37 1521.07 1682.43 1519.33 Q1680.51 1517.6 1677.41 1517.6 Q1675.21 1517.6 1672.75 1518.36 Q1670.32 1519.13 1667.54 1520.68 L1667.54 1515.95 Q1670.37 1514.82 1672.82 1514.24 Q1675.28 1513.66 1677.31 1513.66 Q1682.68 1513.66 1685.88 1516.35 Q1689.07 1519.03 1689.07 1523.52 Q1689.07 1525.65 1688.26 1527.57 Q1687.47 1529.47 1685.37 1532.07 Q1684.79 1532.74 1681.69 1535.95 Q1678.59 1539.15 1672.94 1544.91 Z\" fill=\"#000000\" fill-rule=\"evenodd\" fill-opacity=\"1\" /><path clip-path=\"url(#clip310)\" d=\"M2090.06 1518.36 L2078.26 1536.81 L2090.06 1536.81 L2090.06 1518.36 M2088.84 1514.29 L2094.72 1514.29 L2094.72 1536.81 L2099.65 1536.81 L2099.65 1540.7 L2094.72 1540.7 L2094.72 1548.85 L2090.06 1548.85 L2090.06 1540.7 L2074.46 1540.7 L2074.46 1536.19 L2088.84 1514.29 Z\" fill=\"#000000\" fill-rule=\"evenodd\" fill-opacity=\"1\" /><polyline clip-path=\"url(#clip312)\" style=\"stroke:#000000; stroke-linecap:round; stroke-linejoin:round; stroke-width:2; stroke-opacity:0.1; fill:none\" points=\"\n",
       "  186.274,1456.6 2352.76,1456.6 \n",
       "  \"/>\n",
       "<polyline clip-path=\"url(#clip312)\" style=\"stroke:#000000; stroke-linecap:round; stroke-linejoin:round; stroke-width:2; stroke-opacity:0.1; fill:none\" points=\"\n",
       "  186.274,1130.78 2352.76,1130.78 \n",
       "  \"/>\n",
       "<polyline clip-path=\"url(#clip312)\" style=\"stroke:#000000; stroke-linecap:round; stroke-linejoin:round; stroke-width:2; stroke-opacity:0.1; fill:none\" points=\"\n",
       "  186.274,804.96 2352.76,804.96 \n",
       "  \"/>\n",
       "<polyline clip-path=\"url(#clip312)\" style=\"stroke:#000000; stroke-linecap:round; stroke-linejoin:round; stroke-width:2; stroke-opacity:0.1; fill:none\" points=\"\n",
       "  186.274,479.142 2352.76,479.142 \n",
       "  \"/>\n",
       "<polyline clip-path=\"url(#clip312)\" style=\"stroke:#000000; stroke-linecap:round; stroke-linejoin:round; stroke-width:2; stroke-opacity:0.1; fill:none\" points=\"\n",
       "  186.274,153.324 2352.76,153.324 \n",
       "  \"/>\n",
       "<polyline clip-path=\"url(#clip310)\" style=\"stroke:#000000; stroke-linecap:round; stroke-linejoin:round; stroke-width:4; stroke-opacity:1; fill:none\" points=\"\n",
       "  186.274,1486.45 186.274,123.472 \n",
       "  \"/>\n",
       "<polyline clip-path=\"url(#clip310)\" style=\"stroke:#000000; stroke-linecap:round; stroke-linejoin:round; stroke-width:4; stroke-opacity:1; fill:none\" points=\"\n",
       "  186.274,1456.6 205.172,1456.6 \n",
       "  \"/>\n",
       "<polyline clip-path=\"url(#clip310)\" style=\"stroke:#000000; stroke-linecap:round; stroke-linejoin:round; stroke-width:4; stroke-opacity:1; fill:none\" points=\"\n",
       "  186.274,1130.78 205.172,1130.78 \n",
       "  \"/>\n",
       "<polyline clip-path=\"url(#clip310)\" style=\"stroke:#000000; stroke-linecap:round; stroke-linejoin:round; stroke-width:4; stroke-opacity:1; fill:none\" points=\"\n",
       "  186.274,804.96 205.172,804.96 \n",
       "  \"/>\n",
       "<polyline clip-path=\"url(#clip310)\" style=\"stroke:#000000; stroke-linecap:round; stroke-linejoin:round; stroke-width:4; stroke-opacity:1; fill:none\" points=\"\n",
       "  186.274,479.142 205.172,479.142 \n",
       "  \"/>\n",
       "<polyline clip-path=\"url(#clip310)\" style=\"stroke:#000000; stroke-linecap:round; stroke-linejoin:round; stroke-width:4; stroke-opacity:1; fill:none\" points=\"\n",
       "  186.274,153.324 205.172,153.324 \n",
       "  \"/>\n",
       "<path clip-path=\"url(#clip310)\" d=\"M62.9365 1442.39 Q59.3254 1442.39 57.4967 1445.96 Q55.6912 1449.5 55.6912 1456.63 Q55.6912 1463.74 57.4967 1467.3 Q59.3254 1470.84 62.9365 1470.84 Q66.5707 1470.84 68.3763 1467.3 Q70.205 1463.74 70.205 1456.63 Q70.205 1449.5 68.3763 1445.96 Q66.5707 1442.39 62.9365 1442.39 M62.9365 1438.69 Q68.7467 1438.69 71.8022 1443.3 Q74.8809 1447.88 74.8809 1456.63 Q74.8809 1465.36 71.8022 1469.96 Q68.7467 1474.55 62.9365 1474.55 Q57.1264 1474.55 54.0477 1469.96 Q50.9921 1465.36 50.9921 1456.63 Q50.9921 1447.88 54.0477 1443.3 Q57.1264 1438.69 62.9365 1438.69 Z\" fill=\"#000000\" fill-rule=\"evenodd\" fill-opacity=\"1\" /><path clip-path=\"url(#clip310)\" d=\"M83.0984 1468 L87.9827 1468 L87.9827 1473.88 L83.0984 1473.88 L83.0984 1468 Z\" fill=\"#000000\" fill-rule=\"evenodd\" fill-opacity=\"1\" /><path clip-path=\"url(#clip310)\" d=\"M108.168 1442.39 Q104.557 1442.39 102.728 1445.96 Q100.922 1449.5 100.922 1456.63 Q100.922 1463.74 102.728 1467.3 Q104.557 1470.84 108.168 1470.84 Q111.802 1470.84 113.608 1467.3 Q115.436 1463.74 115.436 1456.63 Q115.436 1449.5 113.608 1445.96 Q111.802 1442.39 108.168 1442.39 M108.168 1438.69 Q113.978 1438.69 117.033 1443.3 Q120.112 1447.88 120.112 1456.63 Q120.112 1465.36 117.033 1469.96 Q113.978 1474.55 108.168 1474.55 Q102.358 1474.55 99.2789 1469.96 Q96.2234 1465.36 96.2234 1456.63 Q96.2234 1447.88 99.2789 1443.3 Q102.358 1438.69 108.168 1438.69 Z\" fill=\"#000000\" fill-rule=\"evenodd\" fill-opacity=\"1\" /><path clip-path=\"url(#clip310)\" d=\"M138.33 1442.39 Q134.719 1442.39 132.89 1445.96 Q131.084 1449.5 131.084 1456.63 Q131.084 1463.74 132.89 1467.3 Q134.719 1470.84 138.33 1470.84 Q141.964 1470.84 143.769 1467.3 Q145.598 1463.74 145.598 1456.63 Q145.598 1449.5 143.769 1445.96 Q141.964 1442.39 138.33 1442.39 M138.33 1438.69 Q144.14 1438.69 147.195 1443.3 Q150.274 1447.88 150.274 1456.63 Q150.274 1465.36 147.195 1469.96 Q144.14 1474.55 138.33 1474.55 Q132.519 1474.55 129.441 1469.96 Q126.385 1465.36 126.385 1456.63 Q126.385 1447.88 129.441 1443.3 Q132.519 1438.69 138.33 1438.69 Z\" fill=\"#000000\" fill-rule=\"evenodd\" fill-opacity=\"1\" /><path clip-path=\"url(#clip310)\" d=\"M63.9319 1116.58 Q60.3208 1116.58 58.4921 1120.14 Q56.6865 1123.68 56.6865 1130.81 Q56.6865 1137.92 58.4921 1141.48 Q60.3208 1145.03 63.9319 1145.03 Q67.5661 1145.03 69.3717 1141.48 Q71.2004 1137.92 71.2004 1130.81 Q71.2004 1123.68 69.3717 1120.14 Q67.5661 1116.58 63.9319 1116.58 M63.9319 1112.87 Q69.742 1112.87 72.7976 1117.48 Q75.8763 1122.06 75.8763 1130.81 Q75.8763 1139.54 72.7976 1144.15 Q69.742 1148.73 63.9319 1148.73 Q58.1217 1148.73 55.043 1144.15 Q51.9875 1139.54 51.9875 1130.81 Q51.9875 1122.06 55.043 1117.48 Q58.1217 1112.87 63.9319 1112.87 Z\" fill=\"#000000\" fill-rule=\"evenodd\" fill-opacity=\"1\" /><path clip-path=\"url(#clip310)\" d=\"M84.0938 1142.18 L88.978 1142.18 L88.978 1148.06 L84.0938 1148.06 L84.0938 1142.18 Z\" fill=\"#000000\" fill-rule=\"evenodd\" fill-opacity=\"1\" /><path clip-path=\"url(#clip310)\" d=\"M103.191 1144.12 L119.51 1144.12 L119.51 1148.06 L97.566 1148.06 L97.566 1144.12 Q100.228 1141.37 104.811 1136.74 Q109.418 1132.09 110.598 1130.74 Q112.844 1128.22 113.723 1126.48 Q114.626 1124.72 114.626 1123.03 Q114.626 1120.28 112.682 1118.54 Q110.76 1116.81 107.658 1116.81 Q105.459 1116.81 103.006 1117.57 Q100.575 1118.34 97.7974 1119.89 L97.7974 1115.16 Q100.621 1114.03 103.075 1113.45 Q105.529 1112.87 107.566 1112.87 Q112.936 1112.87 116.131 1115.56 Q119.325 1118.24 119.325 1122.73 Q119.325 1124.86 118.515 1126.78 Q117.728 1128.68 115.621 1131.28 Q115.043 1131.95 111.941 1135.16 Q108.839 1138.36 103.191 1144.12 Z\" fill=\"#000000\" fill-rule=\"evenodd\" fill-opacity=\"1\" /><path clip-path=\"url(#clip310)\" d=\"M129.371 1113.5 L147.728 1113.5 L147.728 1117.43 L133.654 1117.43 L133.654 1125.91 Q134.672 1125.56 135.691 1125.4 Q136.709 1125.21 137.728 1125.21 Q143.515 1125.21 146.894 1128.38 Q150.274 1131.55 150.274 1136.97 Q150.274 1142.55 146.802 1145.65 Q143.33 1148.73 137.01 1148.73 Q134.834 1148.73 132.566 1148.36 Q130.32 1147.99 127.913 1147.25 L127.913 1142.55 Q129.996 1143.68 132.219 1144.24 Q134.441 1144.79 136.918 1144.79 Q140.922 1144.79 143.26 1142.69 Q145.598 1140.58 145.598 1136.97 Q145.598 1133.36 143.26 1131.25 Q140.922 1129.15 136.918 1129.15 Q135.043 1129.15 133.168 1129.56 Q131.316 1129.98 129.371 1130.86 L129.371 1113.5 Z\" fill=\"#000000\" fill-rule=\"evenodd\" fill-opacity=\"1\" /><path clip-path=\"url(#clip310)\" d=\"M62.9365 790.759 Q59.3254 790.759 57.4967 794.323 Q55.6912 797.865 55.6912 804.995 Q55.6912 812.101 57.4967 815.666 Q59.3254 819.208 62.9365 819.208 Q66.5707 819.208 68.3763 815.666 Q70.205 812.101 70.205 804.995 Q70.205 797.865 68.3763 794.323 Q66.5707 790.759 62.9365 790.759 M62.9365 787.055 Q68.7467 787.055 71.8022 791.661 Q74.8809 796.245 74.8809 804.995 Q74.8809 813.722 71.8022 818.328 Q68.7467 822.911 62.9365 822.911 Q57.1264 822.911 54.0477 818.328 Q50.9921 813.722 50.9921 804.995 Q50.9921 796.245 54.0477 791.661 Q57.1264 787.055 62.9365 787.055 Z\" fill=\"#000000\" fill-rule=\"evenodd\" fill-opacity=\"1\" /><path clip-path=\"url(#clip310)\" d=\"M83.0984 816.36 L87.9827 816.36 L87.9827 822.24 L83.0984 822.24 L83.0984 816.36 Z\" fill=\"#000000\" fill-rule=\"evenodd\" fill-opacity=\"1\" /><path clip-path=\"url(#clip310)\" d=\"M98.2141 787.68 L116.57 787.68 L116.57 791.615 L102.496 791.615 L102.496 800.087 Q103.515 799.74 104.534 799.578 Q105.552 799.393 106.571 799.393 Q112.358 799.393 115.737 802.564 Q119.117 805.735 119.117 811.152 Q119.117 816.731 115.645 819.833 Q112.172 822.911 105.853 822.911 Q103.677 822.911 101.409 822.541 Q99.1632 822.171 96.7558 821.43 L96.7558 816.731 Q98.8391 817.865 101.061 818.421 Q103.284 818.976 105.76 818.976 Q109.765 818.976 112.103 816.87 Q114.441 814.763 114.441 811.152 Q114.441 807.541 112.103 805.435 Q109.765 803.328 105.76 803.328 Q103.885 803.328 102.01 803.745 Q100.159 804.161 98.2141 805.041 L98.2141 787.68 Z\" fill=\"#000000\" fill-rule=\"evenodd\" fill-opacity=\"1\" /><path clip-path=\"url(#clip310)\" d=\"M138.33 790.759 Q134.719 790.759 132.89 794.323 Q131.084 797.865 131.084 804.995 Q131.084 812.101 132.89 815.666 Q134.719 819.208 138.33 819.208 Q141.964 819.208 143.769 815.666 Q145.598 812.101 145.598 804.995 Q145.598 797.865 143.769 794.323 Q141.964 790.759 138.33 790.759 M138.33 787.055 Q144.14 787.055 147.195 791.661 Q150.274 796.245 150.274 804.995 Q150.274 813.722 147.195 818.328 Q144.14 822.911 138.33 822.911 Q132.519 822.911 129.441 818.328 Q126.385 813.722 126.385 804.995 Q126.385 796.245 129.441 791.661 Q132.519 787.055 138.33 787.055 Z\" fill=\"#000000\" fill-rule=\"evenodd\" fill-opacity=\"1\" /><path clip-path=\"url(#clip310)\" d=\"M63.9319 464.941 Q60.3208 464.941 58.4921 468.506 Q56.6865 472.047 56.6865 479.177 Q56.6865 486.283 58.4921 489.848 Q60.3208 493.39 63.9319 493.39 Q67.5661 493.39 69.3717 489.848 Q71.2004 486.283 71.2004 479.177 Q71.2004 472.047 69.3717 468.506 Q67.5661 464.941 63.9319 464.941 M63.9319 461.237 Q69.742 461.237 72.7976 465.844 Q75.8763 470.427 75.8763 479.177 Q75.8763 487.904 72.7976 492.51 Q69.742 497.093 63.9319 497.093 Q58.1217 497.093 55.043 492.51 Q51.9875 487.904 51.9875 479.177 Q51.9875 470.427 55.043 465.844 Q58.1217 461.237 63.9319 461.237 Z\" fill=\"#000000\" fill-rule=\"evenodd\" fill-opacity=\"1\" /><path clip-path=\"url(#clip310)\" d=\"M84.0938 490.543 L88.978 490.543 L88.978 496.422 L84.0938 496.422 L84.0938 490.543 Z\" fill=\"#000000\" fill-rule=\"evenodd\" fill-opacity=\"1\" /><path clip-path=\"url(#clip310)\" d=\"M97.9826 461.862 L120.205 461.862 L120.205 463.853 L107.658 496.422 L102.774 496.422 L114.58 465.797 L97.9826 465.797 L97.9826 461.862 Z\" fill=\"#000000\" fill-rule=\"evenodd\" fill-opacity=\"1\" /><path clip-path=\"url(#clip310)\" d=\"M129.371 461.862 L147.728 461.862 L147.728 465.797 L133.654 465.797 L133.654 474.269 Q134.672 473.922 135.691 473.76 Q136.709 473.575 137.728 473.575 Q143.515 473.575 146.894 476.746 Q150.274 479.918 150.274 485.334 Q150.274 490.913 146.802 494.015 Q143.33 497.093 137.01 497.093 Q134.834 497.093 132.566 496.723 Q130.32 496.353 127.913 495.612 L127.913 490.913 Q129.996 492.047 132.219 492.603 Q134.441 493.158 136.918 493.158 Q140.922 493.158 143.26 491.052 Q145.598 488.945 145.598 485.334 Q145.598 481.723 143.26 479.617 Q140.922 477.51 136.918 477.51 Q135.043 477.51 133.168 477.927 Q131.316 478.344 129.371 479.223 L129.371 461.862 Z\" fill=\"#000000\" fill-rule=\"evenodd\" fill-opacity=\"1\" /><path clip-path=\"url(#clip310)\" d=\"M53.7467 166.669 L61.3856 166.669 L61.3856 140.304 L53.0754 141.97 L53.0754 137.711 L61.3393 136.044 L66.0152 136.044 L66.0152 166.669 L73.654 166.669 L73.654 170.604 L53.7467 170.604 L53.7467 166.669 Z\" fill=\"#000000\" fill-rule=\"evenodd\" fill-opacity=\"1\" /><path clip-path=\"url(#clip310)\" d=\"M83.0984 164.725 L87.9827 164.725 L87.9827 170.604 L83.0984 170.604 L83.0984 164.725 Z\" fill=\"#000000\" fill-rule=\"evenodd\" fill-opacity=\"1\" /><path clip-path=\"url(#clip310)\" d=\"M108.168 139.123 Q104.557 139.123 102.728 142.688 Q100.922 146.229 100.922 153.359 Q100.922 160.465 102.728 164.03 Q104.557 167.572 108.168 167.572 Q111.802 167.572 113.608 164.03 Q115.436 160.465 115.436 153.359 Q115.436 146.229 113.608 142.688 Q111.802 139.123 108.168 139.123 M108.168 135.419 Q113.978 135.419 117.033 140.026 Q120.112 144.609 120.112 153.359 Q120.112 162.086 117.033 166.692 Q113.978 171.276 108.168 171.276 Q102.358 171.276 99.2789 166.692 Q96.2234 162.086 96.2234 153.359 Q96.2234 144.609 99.2789 140.026 Q102.358 135.419 108.168 135.419 Z\" fill=\"#000000\" fill-rule=\"evenodd\" fill-opacity=\"1\" /><path clip-path=\"url(#clip310)\" d=\"M138.33 139.123 Q134.719 139.123 132.89 142.688 Q131.084 146.229 131.084 153.359 Q131.084 160.465 132.89 164.03 Q134.719 167.572 138.33 167.572 Q141.964 167.572 143.769 164.03 Q145.598 160.465 145.598 153.359 Q145.598 146.229 143.769 142.688 Q141.964 139.123 138.33 139.123 M138.33 135.419 Q144.14 135.419 147.195 140.026 Q150.274 144.609 150.274 153.359 Q150.274 162.086 147.195 166.692 Q144.14 171.276 138.33 171.276 Q132.519 171.276 129.441 166.692 Q126.385 162.086 126.385 153.359 Q126.385 144.609 129.441 140.026 Q132.519 135.419 138.33 135.419 Z\" fill=\"#000000\" fill-rule=\"evenodd\" fill-opacity=\"1\" /><path clip-path=\"url(#clip310)\" d=\"M1144.67 28.5427 L1144.67 35.5912 Q1141.51 33.9709 1138.1 33.1607 Q1134.7 32.3505 1131.06 32.3505 Q1125.51 32.3505 1122.71 34.0519 Q1119.96 35.7533 1119.96 39.156 Q1119.96 41.7486 1121.94 43.2475 Q1123.93 44.7058 1129.92 46.0426 L1132.47 46.6097 Q1140.41 48.3111 1143.73 51.4303 Q1147.1 54.509 1147.1 60.0587 Q1147.1 66.3781 1142.07 70.0644 Q1137.09 73.7508 1128.34 73.7508 Q1124.7 73.7508 1120.73 73.0216 Q1116.8 72.3329 1112.42 70.9151 L1112.42 63.2184 Q1116.55 65.3654 1120.56 66.4591 Q1124.57 67.5124 1128.5 67.5124 Q1133.77 67.5124 1136.6 65.73 Q1139.44 63.9071 1139.44 60.6258 Q1139.44 57.5877 1137.37 55.9673 Q1135.35 54.3469 1128.42 52.8481 L1125.83 52.2405 Q1118.9 50.7821 1115.82 47.7845 Q1112.74 44.7463 1112.74 39.4801 Q1112.74 33.0797 1117.28 29.5959 Q1121.82 26.1121 1130.16 26.1121 Q1134.3 26.1121 1137.94 26.7198 Q1141.59 27.3274 1144.67 28.5427 Z\" fill=\"#000000\" fill-rule=\"evenodd\" fill-opacity=\"1\" /><path clip-path=\"url(#clip310)\" d=\"M1158.97 27.2059 L1166.42 27.2059 L1166.42 72.576 L1158.97 72.576 L1158.97 27.2059 M1158.97 9.54393 L1166.42 9.54393 L1166.42 18.9825 L1158.97 18.9825 L1158.97 9.54393 Z\" fill=\"#000000\" fill-rule=\"evenodd\" fill-opacity=\"1\" /><path clip-path=\"url(#clip310)\" d=\"M1211.87 49.3643 Q1211.87 41.2625 1208.51 36.8065 Q1205.19 32.3505 1199.15 32.3505 Q1193.16 32.3505 1189.79 36.8065 Q1186.47 41.2625 1186.47 49.3643 Q1186.47 57.4256 1189.79 61.8816 Q1193.16 66.3376 1199.15 66.3376 Q1205.19 66.3376 1208.51 61.8816 Q1211.87 57.4256 1211.87 49.3643 M1219.32 66.9452 Q1219.32 78.5308 1214.18 84.1616 Q1209.03 89.8329 1198.42 89.8329 Q1194.49 89.8329 1191.01 89.2252 Q1187.52 88.6581 1184.24 87.4428 L1184.24 80.1917 Q1187.52 81.9741 1190.72 82.8248 Q1193.93 83.6755 1197.25 83.6755 Q1204.58 83.6755 1208.22 79.8271 Q1211.87 76.0193 1211.87 68.282 L1211.87 64.5957 Q1209.56 68.6061 1205.96 70.5911 Q1202.35 72.576 1197.33 72.576 Q1188.98 72.576 1183.88 66.2161 Q1178.77 59.8562 1178.77 49.3643 Q1178.77 38.832 1183.88 32.472 Q1188.98 26.1121 1197.33 26.1121 Q1202.35 26.1121 1205.96 28.0971 Q1209.56 30.082 1211.87 34.0924 L1211.87 27.2059 L1219.32 27.2059 L1219.32 66.9452 Z\" fill=\"#000000\" fill-rule=\"evenodd\" fill-opacity=\"1\" /><path clip-path=\"url(#clip310)\" d=\"M1270 35.9153 Q1272.8 30.8922 1276.69 28.5022 Q1280.57 26.1121 1285.84 26.1121 Q1292.93 26.1121 1296.78 31.0947 Q1300.63 36.0368 1300.63 45.1919 L1300.63 72.576 L1293.13 72.576 L1293.13 45.4349 Q1293.13 38.913 1290.82 35.7533 Q1288.51 32.5936 1283.77 32.5936 Q1277.98 32.5936 1274.62 36.4419 Q1271.26 40.2903 1271.26 46.9338 L1271.26 72.576 L1263.76 72.576 L1263.76 45.4349 Q1263.76 38.8725 1261.45 35.7533 Q1259.14 32.5936 1254.32 32.5936 Q1248.61 32.5936 1245.25 36.4824 Q1241.89 40.3308 1241.89 46.9338 L1241.89 72.576 L1234.39 72.576 L1234.39 27.2059 L1241.89 27.2059 L1241.89 34.2544 Q1244.44 30.082 1248 28.0971 Q1251.57 26.1121 1256.47 26.1121 Q1261.41 26.1121 1264.86 28.6237 Q1268.34 31.1352 1270 35.9153 Z\" fill=\"#000000\" fill-rule=\"evenodd\" fill-opacity=\"1\" /><path clip-path=\"url(#clip310)\" d=\"M1333.07 32.4315 Q1327.08 32.4315 1323.59 37.1306 Q1320.11 41.7891 1320.11 49.9314 Q1320.11 58.0738 1323.55 62.7728 Q1327.04 67.4314 1333.07 67.4314 Q1339.03 67.4314 1342.51 62.7323 Q1346 58.0333 1346 49.9314 Q1346 41.8701 1342.51 37.1711 Q1339.03 32.4315 1333.07 32.4315 M1333.07 26.1121 Q1342.8 26.1121 1348.35 32.4315 Q1353.9 38.7509 1353.9 49.9314 Q1353.9 61.0714 1348.35 67.4314 Q1342.8 73.7508 1333.07 73.7508 Q1323.31 73.7508 1317.76 67.4314 Q1312.25 61.0714 1312.25 49.9314 Q1312.25 38.7509 1317.76 32.4315 Q1323.31 26.1121 1333.07 26.1121 Z\" fill=\"#000000\" fill-rule=\"evenodd\" fill-opacity=\"1\" /><path clip-path=\"url(#clip310)\" d=\"M1366.25 27.2059 L1373.7 27.2059 L1373.7 72.576 L1366.25 72.576 L1366.25 27.2059 M1366.25 9.54393 L1373.7 9.54393 L1373.7 18.9825 L1366.25 18.9825 L1366.25 9.54393 Z\" fill=\"#000000\" fill-rule=\"evenodd\" fill-opacity=\"1\" /><path clip-path=\"url(#clip310)\" d=\"M1419.16 34.0924 L1419.16 9.54393 L1426.61 9.54393 L1426.61 72.576 L1419.16 72.576 L1419.16 65.7705 Q1416.81 69.8214 1413.2 71.8063 Q1409.64 73.7508 1404.61 73.7508 Q1396.39 73.7508 1391.2 67.1883 Q1386.06 60.6258 1386.06 49.9314 Q1386.06 39.2371 1391.2 32.6746 Q1396.39 26.1121 1404.61 26.1121 Q1409.64 26.1121 1413.2 28.0971 Q1416.81 30.0415 1419.16 34.0924 M1393.76 49.9314 Q1393.76 58.1548 1397.12 62.8538 Q1400.52 67.5124 1406.44 67.5124 Q1412.35 67.5124 1415.75 62.8538 Q1419.16 58.1548 1419.16 49.9314 Q1419.16 41.7081 1415.75 37.0496 Q1412.35 32.3505 1406.44 32.3505 Q1400.52 32.3505 1397.12 37.0496 Q1393.76 41.7081 1393.76 49.9314 Z\" fill=\"#000000\" fill-rule=\"evenodd\" fill-opacity=\"1\" /><polyline clip-path=\"url(#clip312)\" style=\"stroke:#009af9; stroke-linecap:round; stroke-linejoin:round; stroke-width:4; stroke-opacity:1; fill:none\" points=\"\n",
       "  247.59,1447.87 268.028,1446.96 288.467,1445.96 308.905,1444.85 329.344,1443.63 349.782,1442.28 370.221,1440.79 390.659,1439.15 411.098,1437.34 431.536,1435.35 \n",
       "  451.975,1433.15 472.413,1430.74 492.852,1428.08 513.29,1425.15 533.729,1421.93 554.167,1418.39 574.606,1414.51 595.044,1410.24 615.483,1405.55 635.921,1400.42 \n",
       "  656.36,1394.79 676.798,1388.63 697.237,1381.89 717.675,1374.52 738.114,1366.49 758.552,1357.73 778.991,1348.2 799.429,1337.84 819.868,1326.59 840.306,1314.41 \n",
       "  860.745,1301.24 881.183,1287.03 901.622,1271.73 922.06,1255.29 942.499,1237.67 962.937,1218.85 983.376,1198.79 1003.81,1177.48 1024.25,1154.92 1044.69,1131.12 \n",
       "  1065.13,1106.09 1085.57,1079.88 1106.01,1052.55 1126.45,1024.15 1146.88,994.79 1167.32,964.558 1187.76,933.577 1208.2,901.979 1228.64,869.907 1249.08,837.515 \n",
       "  1269.51,804.96 1289.95,772.405 1310.39,740.013 1330.83,707.941 1351.27,676.343 1371.71,645.362 1392.15,615.13 1412.58,585.766 1433.02,557.372 1453.46,530.036 \n",
       "  1473.9,503.828 1494.34,478.803 1514.78,454.999 1535.22,432.439 1555.65,411.132 1576.09,391.074 1596.53,372.25 1616.97,354.634 1637.41,338.195 1657.85,322.891 \n",
       "  1678.29,308.678 1698.72,295.507 1719.16,283.326 1739.6,272.082 1760.04,261.721 1780.48,252.188 1800.92,243.43 1821.35,235.396 1841.79,228.033 1862.23,221.295 \n",
       "  1882.67,215.133 1903.11,209.505 1923.55,204.368 1943.99,199.683 1964.42,195.414 1984.86,191.526 2005.3,187.987 2025.74,184.768 2046.18,181.842 2066.62,179.182 \n",
       "  2087.06,176.765 2107.49,174.571 2127.93,172.579 2148.37,170.771 2168.81,169.131 2189.25,167.643 2209.69,166.294 2230.12,165.071 2250.56,163.962 2271,162.957 \n",
       "  2291.44,162.047 \n",
       "  \"/>\n",
       "<path clip-path=\"url(#clip310)\" d=\"\n",
       "M1987.39 272.585 L2280.54 272.585 L2280.54 168.905 L1987.39 168.905  Z\n",
       "  \" fill=\"#ffffff\" fill-rule=\"evenodd\" fill-opacity=\"1\"/>\n",
       "<polyline clip-path=\"url(#clip310)\" style=\"stroke:#000000; stroke-linecap:round; stroke-linejoin:round; stroke-width:4; stroke-opacity:1; fill:none\" points=\"\n",
       "  1987.39,272.585 2280.54,272.585 2280.54,168.905 1987.39,168.905 1987.39,272.585 \n",
       "  \"/>\n",
       "<polyline clip-path=\"url(#clip310)\" style=\"stroke:#009af9; stroke-linecap:round; stroke-linejoin:round; stroke-width:4; stroke-opacity:1; fill:none\" points=\"\n",
       "  2011.46,220.745 2155.89,220.745 \n",
       "  \"/>\n",
       "<path clip-path=\"url(#clip310)\" d=\"M2193.81 240.432 Q2192 245.062 2190.29 246.474 Q2188.58 247.886 2185.71 247.886 L2182.3 247.886 L2182.3 244.321 L2184.8 244.321 Q2186.56 244.321 2187.53 243.488 Q2188.51 242.654 2189.69 239.552 L2190.45 237.608 L2179.97 212.099 L2184.48 212.099 L2192.58 232.377 L2200.68 212.099 L2205.2 212.099 L2193.81 240.432 Z\" fill=\"#000000\" fill-rule=\"evenodd\" fill-opacity=\"1\" /><path clip-path=\"url(#clip310)\" d=\"M2212.49 234.089 L2220.13 234.089 L2220.13 207.724 L2211.82 209.391 L2211.82 205.131 L2220.08 203.465 L2224.76 203.465 L2224.76 234.089 L2232.4 234.089 L2232.4 238.025 L2212.49 238.025 L2212.49 234.089 Z\" fill=\"#000000\" fill-rule=\"evenodd\" fill-opacity=\"1\" /></svg>\n"
      ]
     },
     "execution_count": 81,
     "metadata": {},
     "output_type": "execute_result"
    }
   ],
   "source": [
    "# 'σ' symbol or 'sigma' can be used for the sigmoid, σ(x) = 1 / (1 + exp(-x))\n",
    "plot(-5:0.1:5,sigmoid,title=\"sigmoid\")"
   ]
  },
  {
   "cell_type": "code",
   "execution_count": 82,
   "metadata": {},
   "outputs": [
    {
     "data": {
      "image/svg+xml": [
       "<?xml version=\"1.0\" encoding=\"utf-8\"?>\n",
       "<svg xmlns=\"http://www.w3.org/2000/svg\" xmlns:xlink=\"http://www.w3.org/1999/xlink\" width=\"600\" height=\"400\" viewBox=\"0 0 2400 1600\">\n",
       "<defs>\n",
       "  <clipPath id=\"clip350\">\n",
       "    <rect x=\"0\" y=\"0\" width=\"2400\" height=\"1600\"/>\n",
       "  </clipPath>\n",
       "</defs>\n",
       "<path clip-path=\"url(#clip350)\" d=\"\n",
       "M0 1600 L2400 1600 L2400 0 L0 0  Z\n",
       "  \" fill=\"#ffffff\" fill-rule=\"evenodd\" fill-opacity=\"1\"/>\n",
       "<defs>\n",
       "  <clipPath id=\"clip351\">\n",
       "    <rect x=\"480\" y=\"0\" width=\"1681\" height=\"1600\"/>\n",
       "  </clipPath>\n",
       "</defs>\n",
       "<path clip-path=\"url(#clip350)\" d=\"\n",
       "M186.274 1486.45 L2352.76 1486.45 L2352.76 123.472 L186.274 123.472  Z\n",
       "  \" fill=\"#ffffff\" fill-rule=\"evenodd\" fill-opacity=\"1\"/>\n",
       "<defs>\n",
       "  <clipPath id=\"clip352\">\n",
       "    <rect x=\"186\" y=\"123\" width=\"2167\" height=\"1364\"/>\n",
       "  </clipPath>\n",
       "</defs>\n",
       "<polyline clip-path=\"url(#clip352)\" style=\"stroke:#000000; stroke-linecap:round; stroke-linejoin:round; stroke-width:2; stroke-opacity:0.1; fill:none\" points=\"\n",
       "  451.975,1486.45 451.975,123.472 \n",
       "  \"/>\n",
       "<polyline clip-path=\"url(#clip352)\" style=\"stroke:#000000; stroke-linecap:round; stroke-linejoin:round; stroke-width:2; stroke-opacity:0.1; fill:none\" points=\"\n",
       "  860.745,1486.45 860.745,123.472 \n",
       "  \"/>\n",
       "<polyline clip-path=\"url(#clip352)\" style=\"stroke:#000000; stroke-linecap:round; stroke-linejoin:round; stroke-width:2; stroke-opacity:0.1; fill:none\" points=\"\n",
       "  1269.51,1486.45 1269.51,123.472 \n",
       "  \"/>\n",
       "<polyline clip-path=\"url(#clip352)\" style=\"stroke:#000000; stroke-linecap:round; stroke-linejoin:round; stroke-width:2; stroke-opacity:0.1; fill:none\" points=\"\n",
       "  1678.29,1486.45 1678.29,123.472 \n",
       "  \"/>\n",
       "<polyline clip-path=\"url(#clip352)\" style=\"stroke:#000000; stroke-linecap:round; stroke-linejoin:round; stroke-width:2; stroke-opacity:0.1; fill:none\" points=\"\n",
       "  2087.06,1486.45 2087.06,123.472 \n",
       "  \"/>\n",
       "<polyline clip-path=\"url(#clip350)\" style=\"stroke:#000000; stroke-linecap:round; stroke-linejoin:round; stroke-width:4; stroke-opacity:1; fill:none\" points=\"\n",
       "  186.274,1486.45 2352.76,1486.45 \n",
       "  \"/>\n",
       "<polyline clip-path=\"url(#clip350)\" style=\"stroke:#000000; stroke-linecap:round; stroke-linejoin:round; stroke-width:4; stroke-opacity:1; fill:none\" points=\"\n",
       "  451.975,1486.45 451.975,1467.55 \n",
       "  \"/>\n",
       "<polyline clip-path=\"url(#clip350)\" style=\"stroke:#000000; stroke-linecap:round; stroke-linejoin:round; stroke-width:4; stroke-opacity:1; fill:none\" points=\"\n",
       "  860.745,1486.45 860.745,1467.55 \n",
       "  \"/>\n",
       "<polyline clip-path=\"url(#clip350)\" style=\"stroke:#000000; stroke-linecap:round; stroke-linejoin:round; stroke-width:4; stroke-opacity:1; fill:none\" points=\"\n",
       "  1269.51,1486.45 1269.51,1467.55 \n",
       "  \"/>\n",
       "<polyline clip-path=\"url(#clip350)\" style=\"stroke:#000000; stroke-linecap:round; stroke-linejoin:round; stroke-width:4; stroke-opacity:1; fill:none\" points=\"\n",
       "  1678.29,1486.45 1678.29,1467.55 \n",
       "  \"/>\n",
       "<polyline clip-path=\"url(#clip350)\" style=\"stroke:#000000; stroke-linecap:round; stroke-linejoin:round; stroke-width:4; stroke-opacity:1; fill:none\" points=\"\n",
       "  2087.06,1486.45 2087.06,1467.55 \n",
       "  \"/>\n",
       "<path clip-path=\"url(#clip350)\" d=\"M420.875 1532.02 L450.551 1532.02 L450.551 1535.95 L420.875 1535.95 L420.875 1532.02 Z\" fill=\"#000000\" fill-rule=\"evenodd\" fill-opacity=\"1\" /><path clip-path=\"url(#clip350)\" d=\"M473.491 1518.36 L461.685 1536.81 L473.491 1536.81 L473.491 1518.36 M472.264 1514.29 L478.143 1514.29 L478.143 1536.81 L483.074 1536.81 L483.074 1540.7 L478.143 1540.7 L478.143 1548.85 L473.491 1548.85 L473.491 1540.7 L457.889 1540.7 L457.889 1536.19 L472.264 1514.29 Z\" fill=\"#000000\" fill-rule=\"evenodd\" fill-opacity=\"1\" /><path clip-path=\"url(#clip350)\" d=\"M830.687 1532.02 L860.363 1532.02 L860.363 1535.95 L830.687 1535.95 L830.687 1532.02 Z\" fill=\"#000000\" fill-rule=\"evenodd\" fill-opacity=\"1\" /><path clip-path=\"url(#clip350)\" d=\"M874.483 1544.91 L890.802 1544.91 L890.802 1548.85 L868.858 1548.85 L868.858 1544.91 Q871.52 1542.16 876.103 1537.53 Q880.71 1532.88 881.891 1531.53 Q884.136 1529.01 885.015 1527.27 Q885.918 1525.51 885.918 1523.82 Q885.918 1521.07 883.974 1519.33 Q882.053 1517.6 878.951 1517.6 Q876.752 1517.6 874.298 1518.36 Q871.867 1519.13 869.09 1520.68 L869.09 1515.95 Q871.914 1514.82 874.367 1514.24 Q876.821 1513.66 878.858 1513.66 Q884.228 1513.66 887.423 1516.35 Q890.617 1519.03 890.617 1523.52 Q890.617 1525.65 889.807 1527.57 Q889.02 1529.47 886.914 1532.07 Q886.335 1532.74 883.233 1535.95 Q880.131 1539.15 874.483 1544.91 Z\" fill=\"#000000\" fill-rule=\"evenodd\" fill-opacity=\"1\" /><path clip-path=\"url(#clip350)\" d=\"M1269.51 1517.37 Q1265.9 1517.37 1264.08 1520.93 Q1262.27 1524.47 1262.27 1531.6 Q1262.27 1538.71 1264.08 1542.27 Q1265.9 1545.82 1269.51 1545.82 Q1273.15 1545.82 1274.95 1542.27 Q1276.78 1538.71 1276.78 1531.6 Q1276.78 1524.47 1274.95 1520.93 Q1273.15 1517.37 1269.51 1517.37 M1269.51 1513.66 Q1275.33 1513.66 1278.38 1518.27 Q1281.46 1522.85 1281.46 1531.6 Q1281.46 1540.33 1278.38 1544.94 Q1275.33 1549.52 1269.51 1549.52 Q1263.7 1549.52 1260.63 1544.94 Q1257.57 1540.33 1257.57 1531.6 Q1257.57 1522.85 1260.63 1518.27 Q1263.7 1513.66 1269.51 1513.66 Z\" fill=\"#000000\" fill-rule=\"evenodd\" fill-opacity=\"1\" /><path clip-path=\"url(#clip350)\" d=\"M1672.94 1544.91 L1689.26 1544.91 L1689.26 1548.85 L1667.31 1548.85 L1667.31 1544.91 Q1669.97 1542.16 1674.56 1537.53 Q1679.16 1532.88 1680.35 1531.53 Q1682.59 1529.01 1683.47 1527.27 Q1684.37 1525.51 1684.37 1523.82 Q1684.37 1521.07 1682.43 1519.33 Q1680.51 1517.6 1677.41 1517.6 Q1675.21 1517.6 1672.75 1518.36 Q1670.32 1519.13 1667.54 1520.68 L1667.54 1515.95 Q1670.37 1514.82 1672.82 1514.24 Q1675.28 1513.66 1677.31 1513.66 Q1682.68 1513.66 1685.88 1516.35 Q1689.07 1519.03 1689.07 1523.52 Q1689.07 1525.65 1688.26 1527.57 Q1687.47 1529.47 1685.37 1532.07 Q1684.79 1532.74 1681.69 1535.95 Q1678.59 1539.15 1672.94 1544.91 Z\" fill=\"#000000\" fill-rule=\"evenodd\" fill-opacity=\"1\" /><path clip-path=\"url(#clip350)\" d=\"M2090.06 1518.36 L2078.26 1536.81 L2090.06 1536.81 L2090.06 1518.36 M2088.84 1514.29 L2094.72 1514.29 L2094.72 1536.81 L2099.65 1536.81 L2099.65 1540.7 L2094.72 1540.7 L2094.72 1548.85 L2090.06 1548.85 L2090.06 1540.7 L2074.46 1540.7 L2074.46 1536.19 L2088.84 1514.29 Z\" fill=\"#000000\" fill-rule=\"evenodd\" fill-opacity=\"1\" /><polyline clip-path=\"url(#clip352)\" style=\"stroke:#000000; stroke-linecap:round; stroke-linejoin:round; stroke-width:2; stroke-opacity:0.1; fill:none\" points=\"\n",
       "  186.274,1456.6 2352.76,1456.6 \n",
       "  \"/>\n",
       "<polyline clip-path=\"url(#clip352)\" style=\"stroke:#000000; stroke-linecap:round; stroke-linejoin:round; stroke-width:2; stroke-opacity:0.1; fill:none\" points=\"\n",
       "  186.274,1130.78 2352.76,1130.78 \n",
       "  \"/>\n",
       "<polyline clip-path=\"url(#clip352)\" style=\"stroke:#000000; stroke-linecap:round; stroke-linejoin:round; stroke-width:2; stroke-opacity:0.1; fill:none\" points=\"\n",
       "  186.274,804.96 2352.76,804.96 \n",
       "  \"/>\n",
       "<polyline clip-path=\"url(#clip352)\" style=\"stroke:#000000; stroke-linecap:round; stroke-linejoin:round; stroke-width:2; stroke-opacity:0.1; fill:none\" points=\"\n",
       "  186.274,479.142 2352.76,479.142 \n",
       "  \"/>\n",
       "<polyline clip-path=\"url(#clip352)\" style=\"stroke:#000000; stroke-linecap:round; stroke-linejoin:round; stroke-width:2; stroke-opacity:0.1; fill:none\" points=\"\n",
       "  186.274,153.324 2352.76,153.324 \n",
       "  \"/>\n",
       "<polyline clip-path=\"url(#clip350)\" style=\"stroke:#000000; stroke-linecap:round; stroke-linejoin:round; stroke-width:4; stroke-opacity:1; fill:none\" points=\"\n",
       "  186.274,1486.45 186.274,123.472 \n",
       "  \"/>\n",
       "<polyline clip-path=\"url(#clip350)\" style=\"stroke:#000000; stroke-linecap:round; stroke-linejoin:round; stroke-width:4; stroke-opacity:1; fill:none\" points=\"\n",
       "  186.274,1456.6 205.172,1456.6 \n",
       "  \"/>\n",
       "<polyline clip-path=\"url(#clip350)\" style=\"stroke:#000000; stroke-linecap:round; stroke-linejoin:round; stroke-width:4; stroke-opacity:1; fill:none\" points=\"\n",
       "  186.274,1130.78 205.172,1130.78 \n",
       "  \"/>\n",
       "<polyline clip-path=\"url(#clip350)\" style=\"stroke:#000000; stroke-linecap:round; stroke-linejoin:round; stroke-width:4; stroke-opacity:1; fill:none\" points=\"\n",
       "  186.274,804.96 205.172,804.96 \n",
       "  \"/>\n",
       "<polyline clip-path=\"url(#clip350)\" style=\"stroke:#000000; stroke-linecap:round; stroke-linejoin:round; stroke-width:4; stroke-opacity:1; fill:none\" points=\"\n",
       "  186.274,479.142 205.172,479.142 \n",
       "  \"/>\n",
       "<polyline clip-path=\"url(#clip350)\" style=\"stroke:#000000; stroke-linecap:round; stroke-linejoin:round; stroke-width:4; stroke-opacity:1; fill:none\" points=\"\n",
       "  186.274,153.324 205.172,153.324 \n",
       "  \"/>\n",
       "<path clip-path=\"url(#clip350)\" d=\"M62.9365 1442.39 Q59.3254 1442.39 57.4967 1445.96 Q55.6912 1449.5 55.6912 1456.63 Q55.6912 1463.74 57.4967 1467.3 Q59.3254 1470.84 62.9365 1470.84 Q66.5707 1470.84 68.3763 1467.3 Q70.205 1463.74 70.205 1456.63 Q70.205 1449.5 68.3763 1445.96 Q66.5707 1442.39 62.9365 1442.39 M62.9365 1438.69 Q68.7467 1438.69 71.8022 1443.3 Q74.8809 1447.88 74.8809 1456.63 Q74.8809 1465.36 71.8022 1469.96 Q68.7467 1474.55 62.9365 1474.55 Q57.1264 1474.55 54.0477 1469.96 Q50.9921 1465.36 50.9921 1456.63 Q50.9921 1447.88 54.0477 1443.3 Q57.1264 1438.69 62.9365 1438.69 Z\" fill=\"#000000\" fill-rule=\"evenodd\" fill-opacity=\"1\" /><path clip-path=\"url(#clip350)\" d=\"M83.0984 1468 L87.9827 1468 L87.9827 1473.88 L83.0984 1473.88 L83.0984 1468 Z\" fill=\"#000000\" fill-rule=\"evenodd\" fill-opacity=\"1\" /><path clip-path=\"url(#clip350)\" d=\"M108.168 1442.39 Q104.557 1442.39 102.728 1445.96 Q100.922 1449.5 100.922 1456.63 Q100.922 1463.74 102.728 1467.3 Q104.557 1470.84 108.168 1470.84 Q111.802 1470.84 113.608 1467.3 Q115.436 1463.74 115.436 1456.63 Q115.436 1449.5 113.608 1445.96 Q111.802 1442.39 108.168 1442.39 M108.168 1438.69 Q113.978 1438.69 117.033 1443.3 Q120.112 1447.88 120.112 1456.63 Q120.112 1465.36 117.033 1469.96 Q113.978 1474.55 108.168 1474.55 Q102.358 1474.55 99.2789 1469.96 Q96.2234 1465.36 96.2234 1456.63 Q96.2234 1447.88 99.2789 1443.3 Q102.358 1438.69 108.168 1438.69 Z\" fill=\"#000000\" fill-rule=\"evenodd\" fill-opacity=\"1\" /><path clip-path=\"url(#clip350)\" d=\"M138.33 1442.39 Q134.719 1442.39 132.89 1445.96 Q131.084 1449.5 131.084 1456.63 Q131.084 1463.74 132.89 1467.3 Q134.719 1470.84 138.33 1470.84 Q141.964 1470.84 143.769 1467.3 Q145.598 1463.74 145.598 1456.63 Q145.598 1449.5 143.769 1445.96 Q141.964 1442.39 138.33 1442.39 M138.33 1438.69 Q144.14 1438.69 147.195 1443.3 Q150.274 1447.88 150.274 1456.63 Q150.274 1465.36 147.195 1469.96 Q144.14 1474.55 138.33 1474.55 Q132.519 1474.55 129.441 1469.96 Q126.385 1465.36 126.385 1456.63 Q126.385 1447.88 129.441 1443.3 Q132.519 1438.69 138.33 1438.69 Z\" fill=\"#000000\" fill-rule=\"evenodd\" fill-opacity=\"1\" /><path clip-path=\"url(#clip350)\" d=\"M63.9319 1116.58 Q60.3208 1116.58 58.4921 1120.14 Q56.6865 1123.68 56.6865 1130.81 Q56.6865 1137.92 58.4921 1141.48 Q60.3208 1145.03 63.9319 1145.03 Q67.5661 1145.03 69.3717 1141.48 Q71.2004 1137.92 71.2004 1130.81 Q71.2004 1123.68 69.3717 1120.14 Q67.5661 1116.58 63.9319 1116.58 M63.9319 1112.87 Q69.742 1112.87 72.7976 1117.48 Q75.8763 1122.06 75.8763 1130.81 Q75.8763 1139.54 72.7976 1144.15 Q69.742 1148.73 63.9319 1148.73 Q58.1217 1148.73 55.043 1144.15 Q51.9875 1139.54 51.9875 1130.81 Q51.9875 1122.06 55.043 1117.48 Q58.1217 1112.87 63.9319 1112.87 Z\" fill=\"#000000\" fill-rule=\"evenodd\" fill-opacity=\"1\" /><path clip-path=\"url(#clip350)\" d=\"M84.0938 1142.18 L88.978 1142.18 L88.978 1148.06 L84.0938 1148.06 L84.0938 1142.18 Z\" fill=\"#000000\" fill-rule=\"evenodd\" fill-opacity=\"1\" /><path clip-path=\"url(#clip350)\" d=\"M103.191 1144.12 L119.51 1144.12 L119.51 1148.06 L97.566 1148.06 L97.566 1144.12 Q100.228 1141.37 104.811 1136.74 Q109.418 1132.09 110.598 1130.74 Q112.844 1128.22 113.723 1126.48 Q114.626 1124.72 114.626 1123.03 Q114.626 1120.28 112.682 1118.54 Q110.76 1116.81 107.658 1116.81 Q105.459 1116.81 103.006 1117.57 Q100.575 1118.34 97.7974 1119.89 L97.7974 1115.16 Q100.621 1114.03 103.075 1113.45 Q105.529 1112.87 107.566 1112.87 Q112.936 1112.87 116.131 1115.56 Q119.325 1118.24 119.325 1122.73 Q119.325 1124.86 118.515 1126.78 Q117.728 1128.68 115.621 1131.28 Q115.043 1131.95 111.941 1135.16 Q108.839 1138.36 103.191 1144.12 Z\" fill=\"#000000\" fill-rule=\"evenodd\" fill-opacity=\"1\" /><path clip-path=\"url(#clip350)\" d=\"M129.371 1113.5 L147.728 1113.5 L147.728 1117.43 L133.654 1117.43 L133.654 1125.91 Q134.672 1125.56 135.691 1125.4 Q136.709 1125.21 137.728 1125.21 Q143.515 1125.21 146.894 1128.38 Q150.274 1131.55 150.274 1136.97 Q150.274 1142.55 146.802 1145.65 Q143.33 1148.73 137.01 1148.73 Q134.834 1148.73 132.566 1148.36 Q130.32 1147.99 127.913 1147.25 L127.913 1142.55 Q129.996 1143.68 132.219 1144.24 Q134.441 1144.79 136.918 1144.79 Q140.922 1144.79 143.26 1142.69 Q145.598 1140.58 145.598 1136.97 Q145.598 1133.36 143.26 1131.25 Q140.922 1129.15 136.918 1129.15 Q135.043 1129.15 133.168 1129.56 Q131.316 1129.98 129.371 1130.86 L129.371 1113.5 Z\" fill=\"#000000\" fill-rule=\"evenodd\" fill-opacity=\"1\" /><path clip-path=\"url(#clip350)\" d=\"M62.9365 790.759 Q59.3254 790.759 57.4967 794.323 Q55.6912 797.865 55.6912 804.995 Q55.6912 812.101 57.4967 815.666 Q59.3254 819.208 62.9365 819.208 Q66.5707 819.208 68.3763 815.666 Q70.205 812.101 70.205 804.995 Q70.205 797.865 68.3763 794.323 Q66.5707 790.759 62.9365 790.759 M62.9365 787.055 Q68.7467 787.055 71.8022 791.661 Q74.8809 796.245 74.8809 804.995 Q74.8809 813.722 71.8022 818.328 Q68.7467 822.911 62.9365 822.911 Q57.1264 822.911 54.0477 818.328 Q50.9921 813.722 50.9921 804.995 Q50.9921 796.245 54.0477 791.661 Q57.1264 787.055 62.9365 787.055 Z\" fill=\"#000000\" fill-rule=\"evenodd\" fill-opacity=\"1\" /><path clip-path=\"url(#clip350)\" d=\"M83.0984 816.36 L87.9827 816.36 L87.9827 822.24 L83.0984 822.24 L83.0984 816.36 Z\" fill=\"#000000\" fill-rule=\"evenodd\" fill-opacity=\"1\" /><path clip-path=\"url(#clip350)\" d=\"M98.2141 787.68 L116.57 787.68 L116.57 791.615 L102.496 791.615 L102.496 800.087 Q103.515 799.74 104.534 799.578 Q105.552 799.393 106.571 799.393 Q112.358 799.393 115.737 802.564 Q119.117 805.735 119.117 811.152 Q119.117 816.731 115.645 819.833 Q112.172 822.911 105.853 822.911 Q103.677 822.911 101.409 822.541 Q99.1632 822.171 96.7558 821.43 L96.7558 816.731 Q98.8391 817.865 101.061 818.421 Q103.284 818.976 105.76 818.976 Q109.765 818.976 112.103 816.87 Q114.441 814.763 114.441 811.152 Q114.441 807.541 112.103 805.435 Q109.765 803.328 105.76 803.328 Q103.885 803.328 102.01 803.745 Q100.159 804.161 98.2141 805.041 L98.2141 787.68 Z\" fill=\"#000000\" fill-rule=\"evenodd\" fill-opacity=\"1\" /><path clip-path=\"url(#clip350)\" d=\"M138.33 790.759 Q134.719 790.759 132.89 794.323 Q131.084 797.865 131.084 804.995 Q131.084 812.101 132.89 815.666 Q134.719 819.208 138.33 819.208 Q141.964 819.208 143.769 815.666 Q145.598 812.101 145.598 804.995 Q145.598 797.865 143.769 794.323 Q141.964 790.759 138.33 790.759 M138.33 787.055 Q144.14 787.055 147.195 791.661 Q150.274 796.245 150.274 804.995 Q150.274 813.722 147.195 818.328 Q144.14 822.911 138.33 822.911 Q132.519 822.911 129.441 818.328 Q126.385 813.722 126.385 804.995 Q126.385 796.245 129.441 791.661 Q132.519 787.055 138.33 787.055 Z\" fill=\"#000000\" fill-rule=\"evenodd\" fill-opacity=\"1\" /><path clip-path=\"url(#clip350)\" d=\"M63.9319 464.941 Q60.3208 464.941 58.4921 468.506 Q56.6865 472.047 56.6865 479.177 Q56.6865 486.283 58.4921 489.848 Q60.3208 493.39 63.9319 493.39 Q67.5661 493.39 69.3717 489.848 Q71.2004 486.283 71.2004 479.177 Q71.2004 472.047 69.3717 468.506 Q67.5661 464.941 63.9319 464.941 M63.9319 461.237 Q69.742 461.237 72.7976 465.844 Q75.8763 470.427 75.8763 479.177 Q75.8763 487.904 72.7976 492.51 Q69.742 497.093 63.9319 497.093 Q58.1217 497.093 55.043 492.51 Q51.9875 487.904 51.9875 479.177 Q51.9875 470.427 55.043 465.844 Q58.1217 461.237 63.9319 461.237 Z\" fill=\"#000000\" fill-rule=\"evenodd\" fill-opacity=\"1\" /><path clip-path=\"url(#clip350)\" d=\"M84.0938 490.543 L88.978 490.543 L88.978 496.422 L84.0938 496.422 L84.0938 490.543 Z\" fill=\"#000000\" fill-rule=\"evenodd\" fill-opacity=\"1\" /><path clip-path=\"url(#clip350)\" d=\"M97.9826 461.862 L120.205 461.862 L120.205 463.853 L107.658 496.422 L102.774 496.422 L114.58 465.797 L97.9826 465.797 L97.9826 461.862 Z\" fill=\"#000000\" fill-rule=\"evenodd\" fill-opacity=\"1\" /><path clip-path=\"url(#clip350)\" d=\"M129.371 461.862 L147.728 461.862 L147.728 465.797 L133.654 465.797 L133.654 474.269 Q134.672 473.922 135.691 473.76 Q136.709 473.575 137.728 473.575 Q143.515 473.575 146.894 476.746 Q150.274 479.918 150.274 485.334 Q150.274 490.913 146.802 494.015 Q143.33 497.093 137.01 497.093 Q134.834 497.093 132.566 496.723 Q130.32 496.353 127.913 495.612 L127.913 490.913 Q129.996 492.047 132.219 492.603 Q134.441 493.158 136.918 493.158 Q140.922 493.158 143.26 491.052 Q145.598 488.945 145.598 485.334 Q145.598 481.723 143.26 479.617 Q140.922 477.51 136.918 477.51 Q135.043 477.51 133.168 477.927 Q131.316 478.344 129.371 479.223 L129.371 461.862 Z\" fill=\"#000000\" fill-rule=\"evenodd\" fill-opacity=\"1\" /><path clip-path=\"url(#clip350)\" d=\"M53.7467 166.669 L61.3856 166.669 L61.3856 140.304 L53.0754 141.97 L53.0754 137.711 L61.3393 136.044 L66.0152 136.044 L66.0152 166.669 L73.654 166.669 L73.654 170.604 L53.7467 170.604 L53.7467 166.669 Z\" fill=\"#000000\" fill-rule=\"evenodd\" fill-opacity=\"1\" /><path clip-path=\"url(#clip350)\" d=\"M83.0984 164.725 L87.9827 164.725 L87.9827 170.604 L83.0984 170.604 L83.0984 164.725 Z\" fill=\"#000000\" fill-rule=\"evenodd\" fill-opacity=\"1\" /><path clip-path=\"url(#clip350)\" d=\"M108.168 139.123 Q104.557 139.123 102.728 142.688 Q100.922 146.229 100.922 153.359 Q100.922 160.465 102.728 164.03 Q104.557 167.572 108.168 167.572 Q111.802 167.572 113.608 164.03 Q115.436 160.465 115.436 153.359 Q115.436 146.229 113.608 142.688 Q111.802 139.123 108.168 139.123 M108.168 135.419 Q113.978 135.419 117.033 140.026 Q120.112 144.609 120.112 153.359 Q120.112 162.086 117.033 166.692 Q113.978 171.276 108.168 171.276 Q102.358 171.276 99.2789 166.692 Q96.2234 162.086 96.2234 153.359 Q96.2234 144.609 99.2789 140.026 Q102.358 135.419 108.168 135.419 Z\" fill=\"#000000\" fill-rule=\"evenodd\" fill-opacity=\"1\" /><path clip-path=\"url(#clip350)\" d=\"M138.33 139.123 Q134.719 139.123 132.89 142.688 Q131.084 146.229 131.084 153.359 Q131.084 160.465 132.89 164.03 Q134.719 167.572 138.33 167.572 Q141.964 167.572 143.769 164.03 Q145.598 160.465 145.598 153.359 Q145.598 146.229 143.769 142.688 Q141.964 139.123 138.33 139.123 M138.33 135.419 Q144.14 135.419 147.195 140.026 Q150.274 144.609 150.274 153.359 Q150.274 162.086 147.195 166.692 Q144.14 171.276 138.33 171.276 Q132.519 171.276 129.441 166.692 Q126.385 162.086 126.385 153.359 Q126.385 144.609 129.441 140.026 Q132.519 135.419 138.33 135.419 Z\" fill=\"#000000\" fill-rule=\"evenodd\" fill-opacity=\"1\" /><path clip-path=\"url(#clip350)\" d=\"M1043.25 28.5427 L1043.25 35.5912 Q1040.09 33.9709 1036.69 33.1607 Q1033.29 32.3505 1029.64 32.3505 Q1024.09 32.3505 1021.3 34.0519 Q1018.54 35.7533 1018.54 39.156 Q1018.54 41.7486 1020.53 43.2475 Q1022.51 44.7058 1028.51 46.0426 L1031.06 46.6097 Q1039 48.3111 1042.32 51.4303 Q1045.68 54.509 1045.68 60.0587 Q1045.68 66.3781 1040.66 70.0644 Q1035.68 73.7508 1026.93 73.7508 Q1023.28 73.7508 1019.31 73.0216 Q1015.38 72.3329 1011.01 70.9151 L1011.01 63.2184 Q1015.14 65.3654 1019.15 66.4591 Q1023.16 67.5124 1027.09 67.5124 Q1032.35 67.5124 1035.19 65.73 Q1038.03 63.9071 1038.03 60.6258 Q1038.03 57.5877 1035.96 55.9673 Q1033.93 54.3469 1027.01 52.8481 L1024.41 52.2405 Q1017.49 50.7821 1014.41 47.7845 Q1011.33 44.7463 1011.33 39.4801 Q1011.33 33.0797 1015.87 29.5959 Q1020.4 26.1121 1028.75 26.1121 Q1032.88 26.1121 1036.53 26.7198 Q1040.17 27.3274 1043.25 28.5427 Z\" fill=\"#000000\" fill-rule=\"evenodd\" fill-opacity=\"1\" /><path clip-path=\"url(#clip350)\" d=\"M1057.55 27.2059 L1065.01 27.2059 L1065.01 72.576 L1057.55 72.576 L1057.55 27.2059 M1057.55 9.54393 L1065.01 9.54393 L1065.01 18.9825 L1057.55 18.9825 L1057.55 9.54393 Z\" fill=\"#000000\" fill-rule=\"evenodd\" fill-opacity=\"1\" /><path clip-path=\"url(#clip350)\" d=\"M1110.46 49.3643 Q1110.46 41.2625 1107.09 36.8065 Q1103.77 32.3505 1097.74 32.3505 Q1091.74 32.3505 1088.38 36.8065 Q1085.06 41.2625 1085.06 49.3643 Q1085.06 57.4256 1088.38 61.8816 Q1091.74 66.3376 1097.74 66.3376 Q1103.77 66.3376 1107.09 61.8816 Q1110.46 57.4256 1110.46 49.3643 M1117.91 66.9452 Q1117.91 78.5308 1112.77 84.1616 Q1107.62 89.8329 1097.01 89.8329 Q1093.08 89.8329 1089.59 89.2252 Q1086.11 88.6581 1082.83 87.4428 L1082.83 80.1917 Q1086.11 81.9741 1089.31 82.8248 Q1092.51 83.6755 1095.83 83.6755 Q1103.16 83.6755 1106.81 79.8271 Q1110.46 76.0193 1110.46 68.282 L1110.46 64.5957 Q1108.15 68.6061 1104.54 70.5911 Q1100.94 72.576 1095.91 72.576 Q1087.57 72.576 1082.46 66.2161 Q1077.36 59.8562 1077.36 49.3643 Q1077.36 38.832 1082.46 32.472 Q1087.57 26.1121 1095.91 26.1121 Q1100.94 26.1121 1104.54 28.0971 Q1108.15 30.082 1110.46 34.0924 L1110.46 27.2059 L1117.91 27.2059 L1117.91 66.9452 Z\" fill=\"#000000\" fill-rule=\"evenodd\" fill-opacity=\"1\" /><path clip-path=\"url(#clip350)\" d=\"M1168.59 35.9153 Q1171.38 30.8922 1175.27 28.5022 Q1179.16 26.1121 1184.43 26.1121 Q1191.51 26.1121 1195.36 31.0947 Q1199.21 36.0368 1199.21 45.1919 L1199.21 72.576 L1191.72 72.576 L1191.72 45.4349 Q1191.72 38.913 1189.41 35.7533 Q1187.1 32.5936 1182.36 32.5936 Q1176.57 32.5936 1173.2 36.4419 Q1169.84 40.2903 1169.84 46.9338 L1169.84 72.576 L1162.35 72.576 L1162.35 45.4349 Q1162.35 38.8725 1160.04 35.7533 Q1157.73 32.5936 1152.91 32.5936 Q1147.2 32.5936 1143.84 36.4824 Q1140.47 40.3308 1140.47 46.9338 L1140.47 72.576 L1132.98 72.576 L1132.98 27.2059 L1140.47 27.2059 L1140.47 34.2544 Q1143.03 30.082 1146.59 28.0971 Q1150.16 26.1121 1155.06 26.1121 Q1160 26.1121 1163.44 28.6237 Q1166.93 31.1352 1168.59 35.9153 Z\" fill=\"#000000\" fill-rule=\"evenodd\" fill-opacity=\"1\" /><path clip-path=\"url(#clip350)\" d=\"M1231.66 32.4315 Q1225.66 32.4315 1222.18 37.1306 Q1218.7 41.7891 1218.7 49.9314 Q1218.7 58.0738 1222.14 62.7728 Q1225.62 67.4314 1231.66 67.4314 Q1237.61 67.4314 1241.1 62.7323 Q1244.58 58.0333 1244.58 49.9314 Q1244.58 41.8701 1241.1 37.1711 Q1237.61 32.4315 1231.66 32.4315 M1231.66 26.1121 Q1241.38 26.1121 1246.93 32.4315 Q1252.48 38.7509 1252.48 49.9314 Q1252.48 61.0714 1246.93 67.4314 Q1241.38 73.7508 1231.66 73.7508 Q1221.9 73.7508 1216.35 67.4314 Q1210.84 61.0714 1210.84 49.9314 Q1210.84 38.7509 1216.35 32.4315 Q1221.9 26.1121 1231.66 26.1121 Z\" fill=\"#000000\" fill-rule=\"evenodd\" fill-opacity=\"1\" /><path clip-path=\"url(#clip350)\" d=\"M1264.84 27.2059 L1272.29 27.2059 L1272.29 72.576 L1264.84 72.576 L1264.84 27.2059 M1264.84 9.54393 L1272.29 9.54393 L1272.29 18.9825 L1264.84 18.9825 L1264.84 9.54393 Z\" fill=\"#000000\" fill-rule=\"evenodd\" fill-opacity=\"1\" /><path clip-path=\"url(#clip350)\" d=\"M1317.74 34.0924 L1317.74 9.54393 L1325.19 9.54393 L1325.19 72.576 L1317.74 72.576 L1317.74 65.7705 Q1315.39 69.8214 1311.79 71.8063 Q1308.22 73.7508 1303.2 73.7508 Q1294.97 73.7508 1289.79 67.1883 Q1284.65 60.6258 1284.65 49.9314 Q1284.65 39.2371 1289.79 32.6746 Q1294.97 26.1121 1303.2 26.1121 Q1308.22 26.1121 1311.79 28.0971 Q1315.39 30.0415 1317.74 34.0924 M1292.34 49.9314 Q1292.34 58.1548 1295.7 62.8538 Q1299.11 67.5124 1305.02 67.5124 Q1310.94 67.5124 1314.34 62.8538 Q1317.74 58.1548 1317.74 49.9314 Q1317.74 41.7081 1314.34 37.0496 Q1310.94 32.3505 1305.02 32.3505 Q1299.11 32.3505 1295.7 37.0496 Q1292.34 41.7081 1292.34 49.9314 Z\" fill=\"#000000\" fill-rule=\"evenodd\" fill-opacity=\"1\" /><path clip-path=\"url(#clip350)\" d=\"M1375.02 86.3491 L1375.02 92.1419 L1331.92 92.1419 L1331.92 86.3491 L1375.02 86.3491 Z\" fill=\"#000000\" fill-rule=\"evenodd\" fill-opacity=\"1\" /><path clip-path=\"url(#clip350)\" d=\"M1405 9.54393 L1405 15.7418 L1397.87 15.7418 Q1393.86 15.7418 1392.28 17.3622 Q1390.74 18.9825 1390.74 23.1955 L1390.74 27.2059 L1403.01 27.2059 L1403.01 32.9987 L1390.74 32.9987 L1390.74 72.576 L1383.24 72.576 L1383.24 32.9987 L1376.11 32.9987 L1376.11 27.2059 L1383.24 27.2059 L1383.24 24.0462 Q1383.24 16.471 1386.77 13.0277 Q1390.29 9.54393 1397.95 9.54393 L1405 9.54393 Z\" fill=\"#000000\" fill-rule=\"evenodd\" fill-opacity=\"1\" /><path clip-path=\"url(#clip350)\" d=\"M1431.85 49.7694 Q1422.82 49.7694 1419.34 51.8354 Q1415.85 53.9013 1415.85 58.8839 Q1415.85 62.8538 1418.45 65.2034 Q1421.08 67.5124 1425.58 67.5124 Q1431.77 67.5124 1435.5 63.1374 Q1439.27 58.7219 1439.27 51.4303 L1439.27 49.7694 L1431.85 49.7694 M1446.72 46.6907 L1446.72 72.576 L1439.27 72.576 L1439.27 65.6895 Q1436.72 69.8214 1432.91 71.8063 Q1429.1 73.7508 1423.59 73.7508 Q1416.62 73.7508 1412.49 69.8619 Q1408.4 65.9325 1408.4 59.3701 Q1408.4 51.7138 1413.5 47.825 Q1418.65 43.9361 1428.82 43.9361 L1439.27 43.9361 L1439.27 43.2069 Q1439.27 38.0623 1435.87 35.2672 Q1432.5 32.4315 1426.39 32.4315 Q1422.5 32.4315 1418.81 33.3632 Q1415.12 34.295 1411.72 36.1584 L1411.72 29.2718 Q1415.81 27.692 1419.66 26.9223 Q1423.51 26.1121 1427.16 26.1121 Q1437 26.1121 1441.86 31.2163 Q1446.72 36.3204 1446.72 46.6907 Z\" fill=\"#000000\" fill-rule=\"evenodd\" fill-opacity=\"1\" /><path clip-path=\"url(#clip350)\" d=\"M1491 28.5427 L1491 35.5912 Q1487.84 33.9709 1484.44 33.1607 Q1481.03 32.3505 1477.39 32.3505 Q1471.84 32.3505 1469.04 34.0519 Q1466.29 35.7533 1466.29 39.156 Q1466.29 41.7486 1468.27 43.2475 Q1470.26 44.7058 1476.25 46.0426 L1478.8 46.6097 Q1486.74 48.3111 1490.07 51.4303 Q1493.43 54.509 1493.43 60.0587 Q1493.43 66.3781 1488.41 70.0644 Q1483.42 73.7508 1474.67 73.7508 Q1471.03 73.7508 1467.06 73.0216 Q1463.13 72.3329 1458.75 70.9151 L1458.75 63.2184 Q1462.88 65.3654 1466.9 66.4591 Q1470.91 67.5124 1474.84 67.5124 Q1480.1 67.5124 1482.94 65.73 Q1485.77 63.9071 1485.77 60.6258 Q1485.77 57.5877 1483.71 55.9673 Q1481.68 54.3469 1474.75 52.8481 L1472.16 52.2405 Q1465.23 50.7821 1462.16 47.7845 Q1459.08 44.7463 1459.08 39.4801 Q1459.08 33.0797 1463.61 29.5959 Q1468.15 26.1121 1476.5 26.1121 Q1480.63 26.1121 1484.27 26.7198 Q1487.92 27.3274 1491 28.5427 Z\" fill=\"#000000\" fill-rule=\"evenodd\" fill-opacity=\"1\" /><path clip-path=\"url(#clip350)\" d=\"M1512.67 14.324 L1512.67 27.2059 L1528.02 27.2059 L1528.02 32.9987 L1512.67 32.9987 L1512.67 57.6282 Q1512.67 63.1779 1514.17 64.7578 Q1515.71 66.3376 1520.37 66.3376 L1528.02 66.3376 L1528.02 72.576 L1520.37 72.576 Q1511.74 72.576 1508.46 69.3758 Q1505.18 66.1351 1505.18 57.6282 L1505.18 32.9987 L1499.71 32.9987 L1499.71 27.2059 L1505.18 27.2059 L1505.18 14.324 L1512.67 14.324 Z\" fill=\"#000000\" fill-rule=\"evenodd\" fill-opacity=\"1\" /><polyline clip-path=\"url(#clip352)\" style=\"stroke:#009af9; stroke-linecap:round; stroke-linejoin:round; stroke-width:4; stroke-opacity:1; fill:none\" points=\"\n",
       "  247.59,1447.87 268.028,1446.96 288.467,1445.96 308.905,1444.85 329.344,1443.63 349.782,1442.28 370.221,1440.79 390.659,1439.15 411.098,1437.34 431.536,1435.35 \n",
       "  451.975,1433.15 472.413,1430.74 492.852,1428.08 513.29,1425.15 533.729,1421.93 554.167,1418.39 574.606,1414.51 595.044,1410.24 615.483,1405.55 635.921,1400.42 \n",
       "  656.36,1394.79 676.798,1388.63 697.237,1381.89 717.675,1374.52 738.114,1366.49 758.552,1357.73 778.991,1348.2 799.429,1337.84 819.868,1326.59 840.306,1314.41 \n",
       "  860.745,1301.24 881.183,1287.03 901.622,1271.73 922.06,1255.29 942.499,1237.67 962.937,1218.85 983.376,1198.79 1003.81,1177.48 1024.25,1154.92 1044.69,1131.12 \n",
       "  1065.13,1106.09 1085.57,1079.88 1106.01,1052.55 1126.45,1024.15 1146.88,994.79 1167.32,964.558 1187.76,933.577 1208.2,901.979 1228.64,869.907 1249.08,837.515 \n",
       "  1269.51,804.96 1289.95,772.405 1310.39,740.013 1330.83,707.941 1351.27,676.343 1371.71,645.362 1392.15,615.13 1412.58,585.766 1433.02,557.372 1453.46,530.036 \n",
       "  1473.9,503.828 1494.34,478.803 1514.78,454.999 1535.22,432.439 1555.65,411.132 1576.09,391.074 1596.53,372.25 1616.97,354.634 1637.41,338.195 1657.85,322.891 \n",
       "  1678.29,308.678 1698.72,295.507 1719.16,283.326 1739.6,272.082 1760.04,261.721 1780.48,252.188 1800.92,243.43 1821.35,235.396 1841.79,228.033 1862.23,221.295 \n",
       "  1882.67,215.133 1903.11,209.505 1923.55,204.368 1943.99,199.683 1964.42,195.414 1984.86,191.526 2005.3,187.987 2025.74,184.768 2046.18,181.842 2066.62,179.182 \n",
       "  2087.06,176.765 2107.49,174.571 2127.93,172.579 2148.37,170.771 2168.81,169.131 2189.25,167.643 2209.69,166.294 2230.12,165.071 2250.56,163.962 2271,162.957 \n",
       "  2291.44,162.047 \n",
       "  \"/>\n",
       "<path clip-path=\"url(#clip350)\" d=\"\n",
       "M1987.39 272.585 L2280.54 272.585 L2280.54 168.905 L1987.39 168.905  Z\n",
       "  \" fill=\"#ffffff\" fill-rule=\"evenodd\" fill-opacity=\"1\"/>\n",
       "<polyline clip-path=\"url(#clip350)\" style=\"stroke:#000000; stroke-linecap:round; stroke-linejoin:round; stroke-width:4; stroke-opacity:1; fill:none\" points=\"\n",
       "  1987.39,272.585 2280.54,272.585 2280.54,168.905 1987.39,168.905 1987.39,272.585 \n",
       "  \"/>\n",
       "<polyline clip-path=\"url(#clip350)\" style=\"stroke:#009af9; stroke-linecap:round; stroke-linejoin:round; stroke-width:4; stroke-opacity:1; fill:none\" points=\"\n",
       "  2011.46,220.745 2155.89,220.745 \n",
       "  \"/>\n",
       "<path clip-path=\"url(#clip350)\" d=\"M2193.81 240.432 Q2192 245.062 2190.29 246.474 Q2188.58 247.886 2185.71 247.886 L2182.3 247.886 L2182.3 244.321 L2184.8 244.321 Q2186.56 244.321 2187.53 243.488 Q2188.51 242.654 2189.69 239.552 L2190.45 237.608 L2179.97 212.099 L2184.48 212.099 L2192.58 232.377 L2200.68 212.099 L2205.2 212.099 L2193.81 240.432 Z\" fill=\"#000000\" fill-rule=\"evenodd\" fill-opacity=\"1\" /><path clip-path=\"url(#clip350)\" d=\"M2212.49 234.089 L2220.13 234.089 L2220.13 207.724 L2211.82 209.391 L2211.82 205.131 L2220.08 203.465 L2224.76 203.465 L2224.76 234.089 L2232.4 234.089 L2232.4 238.025 L2212.49 238.025 L2212.49 234.089 Z\" fill=\"#000000\" fill-rule=\"evenodd\" fill-opacity=\"1\" /></svg>\n"
      ]
     },
     "execution_count": 82,
     "metadata": {},
     "output_type": "execute_result"
    }
   ],
   "source": [
    "# sigmoid_fast is a faster less accurate version of the sigmoid\n",
    "plot(-5:0.1:5,sigmoid_fast,title=\"sigmoid_fast\")"
   ]
  },
  {
   "cell_type": "markdown",
   "metadata": {},
   "source": [
    "### <span style=\"color:orange\">Let's compare the running time of the normal sigmoid and the faster version using the convenient Julia macro @time</span>"
   ]
  },
  {
   "cell_type": "code",
   "execution_count": 83,
   "metadata": {},
   "outputs": [
    {
     "name": "stdout",
     "output_type": "stream",
     "text": [
      "  0.007203 seconds (4 allocations: 7.629 MiB)\n"
     ]
    }
   ],
   "source": [
    "rr = rand(10^6);\n",
    "@time sigmoid.( rr );"
   ]
  },
  {
   "cell_type": "code",
   "execution_count": 84,
   "metadata": {},
   "outputs": [
    {
     "name": "stdout",
     "output_type": "stream",
     "text": [
      "  0.022614 seconds (834 allocations: 7.667 MiB, 66.78% compilation time)\n"
     ]
    }
   ],
   "source": [
    "@time sigmoid_fast.( rr );"
   ]
  },
  {
   "cell_type": "code",
   "execution_count": 85,
   "metadata": {},
   "outputs": [
    {
     "name": "stdout",
     "output_type": "stream",
     "text": [
      "  0.042044 seconds (126.74 k allocations: 14.232 MiB, 92.21% compilation time)\n"
     ]
    }
   ],
   "source": [
    "# relu(x) = max(0, x) simple and powerful, very fast too\n",
    "@time relu.( rr );"
   ]
  },
  {
   "cell_type": "code",
   "execution_count": 86,
   "metadata": {},
   "outputs": [
    {
     "data": {
      "image/svg+xml": [
       "<?xml version=\"1.0\" encoding=\"utf-8\"?>\n",
       "<svg xmlns=\"http://www.w3.org/2000/svg\" xmlns:xlink=\"http://www.w3.org/1999/xlink\" width=\"600\" height=\"400\" viewBox=\"0 0 2400 1600\">\n",
       "<defs>\n",
       "  <clipPath id=\"clip390\">\n",
       "    <rect x=\"0\" y=\"0\" width=\"2400\" height=\"1600\"/>\n",
       "  </clipPath>\n",
       "</defs>\n",
       "<path clip-path=\"url(#clip390)\" d=\"\n",
       "M0 1600 L2400 1600 L2400 0 L0 0  Z\n",
       "  \" fill=\"#ffffff\" fill-rule=\"evenodd\" fill-opacity=\"1\"/>\n",
       "<defs>\n",
       "  <clipPath id=\"clip391\">\n",
       "    <rect x=\"480\" y=\"0\" width=\"1681\" height=\"1600\"/>\n",
       "  </clipPath>\n",
       "</defs>\n",
       "<path clip-path=\"url(#clip390)\" d=\"\n",
       "M112.177 1486.45 L2352.76 1486.45 L2352.76 123.472 L112.177 123.472  Z\n",
       "  \" fill=\"#ffffff\" fill-rule=\"evenodd\" fill-opacity=\"1\"/>\n",
       "<defs>\n",
       "  <clipPath id=\"clip392\">\n",
       "    <rect x=\"112\" y=\"123\" width=\"2242\" height=\"1364\"/>\n",
       "  </clipPath>\n",
       "</defs>\n",
       "<polyline clip-path=\"url(#clip392)\" style=\"stroke:#000000; stroke-linecap:round; stroke-linejoin:round; stroke-width:2; stroke-opacity:0.1; fill:none\" points=\"\n",
       "  386.965,1486.45 386.965,123.472 \n",
       "  \"/>\n",
       "<polyline clip-path=\"url(#clip392)\" style=\"stroke:#000000; stroke-linecap:round; stroke-linejoin:round; stroke-width:2; stroke-opacity:0.1; fill:none\" points=\"\n",
       "  809.716,1486.45 809.716,123.472 \n",
       "  \"/>\n",
       "<polyline clip-path=\"url(#clip392)\" style=\"stroke:#000000; stroke-linecap:round; stroke-linejoin:round; stroke-width:2; stroke-opacity:0.1; fill:none\" points=\"\n",
       "  1232.47,1486.45 1232.47,123.472 \n",
       "  \"/>\n",
       "<polyline clip-path=\"url(#clip392)\" style=\"stroke:#000000; stroke-linecap:round; stroke-linejoin:round; stroke-width:2; stroke-opacity:0.1; fill:none\" points=\"\n",
       "  1655.22,1486.45 1655.22,123.472 \n",
       "  \"/>\n",
       "<polyline clip-path=\"url(#clip392)\" style=\"stroke:#000000; stroke-linecap:round; stroke-linejoin:round; stroke-width:2; stroke-opacity:0.1; fill:none\" points=\"\n",
       "  2077.97,1486.45 2077.97,123.472 \n",
       "  \"/>\n",
       "<polyline clip-path=\"url(#clip390)\" style=\"stroke:#000000; stroke-linecap:round; stroke-linejoin:round; stroke-width:4; stroke-opacity:1; fill:none\" points=\"\n",
       "  112.177,1486.45 2352.76,1486.45 \n",
       "  \"/>\n",
       "<polyline clip-path=\"url(#clip390)\" style=\"stroke:#000000; stroke-linecap:round; stroke-linejoin:round; stroke-width:4; stroke-opacity:1; fill:none\" points=\"\n",
       "  386.965,1486.45 386.965,1467.55 \n",
       "  \"/>\n",
       "<polyline clip-path=\"url(#clip390)\" style=\"stroke:#000000; stroke-linecap:round; stroke-linejoin:round; stroke-width:4; stroke-opacity:1; fill:none\" points=\"\n",
       "  809.716,1486.45 809.716,1467.55 \n",
       "  \"/>\n",
       "<polyline clip-path=\"url(#clip390)\" style=\"stroke:#000000; stroke-linecap:round; stroke-linejoin:round; stroke-width:4; stroke-opacity:1; fill:none\" points=\"\n",
       "  1232.47,1486.45 1232.47,1467.55 \n",
       "  \"/>\n",
       "<polyline clip-path=\"url(#clip390)\" style=\"stroke:#000000; stroke-linecap:round; stroke-linejoin:round; stroke-width:4; stroke-opacity:1; fill:none\" points=\"\n",
       "  1655.22,1486.45 1655.22,1467.55 \n",
       "  \"/>\n",
       "<polyline clip-path=\"url(#clip390)\" style=\"stroke:#000000; stroke-linecap:round; stroke-linejoin:round; stroke-width:4; stroke-opacity:1; fill:none\" points=\"\n",
       "  2077.97,1486.45 2077.97,1467.55 \n",
       "  \"/>\n",
       "<path clip-path=\"url(#clip390)\" d=\"M355.866 1532.02 L385.542 1532.02 L385.542 1535.95 L355.866 1535.95 L355.866 1532.02 Z\" fill=\"#000000\" fill-rule=\"evenodd\" fill-opacity=\"1\" /><path clip-path=\"url(#clip390)\" d=\"M408.481 1518.36 L396.676 1536.81 L408.481 1536.81 L408.481 1518.36 M407.254 1514.29 L413.134 1514.29 L413.134 1536.81 L418.065 1536.81 L418.065 1540.7 L413.134 1540.7 L413.134 1548.85 L408.481 1548.85 L408.481 1540.7 L392.879 1540.7 L392.879 1536.19 L407.254 1514.29 Z\" fill=\"#000000\" fill-rule=\"evenodd\" fill-opacity=\"1\" /><path clip-path=\"url(#clip390)\" d=\"M779.658 1532.02 L809.334 1532.02 L809.334 1535.95 L779.658 1535.95 L779.658 1532.02 Z\" fill=\"#000000\" fill-rule=\"evenodd\" fill-opacity=\"1\" /><path clip-path=\"url(#clip390)\" d=\"M823.454 1544.91 L839.774 1544.91 L839.774 1548.85 L817.829 1548.85 L817.829 1544.91 Q820.491 1542.16 825.075 1537.53 Q829.681 1532.88 830.862 1531.53 Q833.107 1529.01 833.987 1527.27 Q834.889 1525.51 834.889 1523.82 Q834.889 1521.07 832.945 1519.33 Q831.024 1517.6 827.922 1517.6 Q825.723 1517.6 823.269 1518.36 Q820.838 1519.13 818.061 1520.68 L818.061 1515.95 Q820.885 1514.82 823.338 1514.24 Q825.792 1513.66 827.829 1513.66 Q833.2 1513.66 836.394 1516.35 Q839.588 1519.03 839.588 1523.52 Q839.588 1525.65 838.778 1527.57 Q837.991 1529.47 835.885 1532.07 Q835.306 1532.74 832.204 1535.95 Q829.102 1539.15 823.454 1544.91 Z\" fill=\"#000000\" fill-rule=\"evenodd\" fill-opacity=\"1\" /><path clip-path=\"url(#clip390)\" d=\"M1232.47 1517.37 Q1228.86 1517.37 1227.03 1520.93 Q1225.22 1524.47 1225.22 1531.6 Q1225.22 1538.71 1227.03 1542.27 Q1228.86 1545.82 1232.47 1545.82 Q1236.1 1545.82 1237.91 1542.27 Q1239.74 1538.71 1239.74 1531.6 Q1239.74 1524.47 1237.91 1520.93 Q1236.1 1517.37 1232.47 1517.37 M1232.47 1513.66 Q1238.28 1513.66 1241.33 1518.27 Q1244.41 1522.85 1244.41 1531.6 Q1244.41 1540.33 1241.33 1544.94 Q1238.28 1549.52 1232.47 1549.52 Q1226.66 1549.52 1223.58 1544.94 Q1220.52 1540.33 1220.52 1531.6 Q1220.52 1522.85 1223.58 1518.27 Q1226.66 1513.66 1232.47 1513.66 Z\" fill=\"#000000\" fill-rule=\"evenodd\" fill-opacity=\"1\" /><path clip-path=\"url(#clip390)\" d=\"M1649.87 1544.91 L1666.19 1544.91 L1666.19 1548.85 L1644.25 1548.85 L1644.25 1544.91 Q1646.91 1542.16 1651.49 1537.53 Q1656.1 1532.88 1657.28 1531.53 Q1659.52 1529.01 1660.4 1527.27 Q1661.31 1525.51 1661.31 1523.82 Q1661.31 1521.07 1659.36 1519.33 Q1657.44 1517.6 1654.34 1517.6 Q1652.14 1517.6 1649.68 1518.36 Q1647.25 1519.13 1644.48 1520.68 L1644.48 1515.95 Q1647.3 1514.82 1649.75 1514.24 Q1652.21 1513.66 1654.25 1513.66 Q1659.62 1513.66 1662.81 1516.35 Q1666 1519.03 1666 1523.52 Q1666 1525.65 1665.19 1527.57 Q1664.41 1529.47 1662.3 1532.07 Q1661.72 1532.74 1658.62 1535.95 Q1655.52 1539.15 1649.87 1544.91 Z\" fill=\"#000000\" fill-rule=\"evenodd\" fill-opacity=\"1\" /><path clip-path=\"url(#clip390)\" d=\"M2080.98 1518.36 L2069.17 1536.81 L2080.98 1536.81 L2080.98 1518.36 M2079.75 1514.29 L2085.63 1514.29 L2085.63 1536.81 L2090.56 1536.81 L2090.56 1540.7 L2085.63 1540.7 L2085.63 1548.85 L2080.98 1548.85 L2080.98 1540.7 L2065.38 1540.7 L2065.38 1536.19 L2079.75 1514.29 Z\" fill=\"#000000\" fill-rule=\"evenodd\" fill-opacity=\"1\" /><polyline clip-path=\"url(#clip392)\" style=\"stroke:#000000; stroke-linecap:round; stroke-linejoin:round; stroke-width:2; stroke-opacity:0.1; fill:none\" points=\"\n",
       "  112.177,1447.87 2352.76,1447.87 \n",
       "  \"/>\n",
       "<polyline clip-path=\"url(#clip392)\" style=\"stroke:#000000; stroke-linecap:round; stroke-linejoin:round; stroke-width:2; stroke-opacity:0.1; fill:none\" points=\"\n",
       "  112.177,1190.71 2352.76,1190.71 \n",
       "  \"/>\n",
       "<polyline clip-path=\"url(#clip392)\" style=\"stroke:#000000; stroke-linecap:round; stroke-linejoin:round; stroke-width:2; stroke-opacity:0.1; fill:none\" points=\"\n",
       "  112.177,933.543 2352.76,933.543 \n",
       "  \"/>\n",
       "<polyline clip-path=\"url(#clip392)\" style=\"stroke:#000000; stroke-linecap:round; stroke-linejoin:round; stroke-width:2; stroke-opacity:0.1; fill:none\" points=\"\n",
       "  112.177,676.377 2352.76,676.377 \n",
       "  \"/>\n",
       "<polyline clip-path=\"url(#clip392)\" style=\"stroke:#000000; stroke-linecap:round; stroke-linejoin:round; stroke-width:2; stroke-opacity:0.1; fill:none\" points=\"\n",
       "  112.177,419.212 2352.76,419.212 \n",
       "  \"/>\n",
       "<polyline clip-path=\"url(#clip392)\" style=\"stroke:#000000; stroke-linecap:round; stroke-linejoin:round; stroke-width:2; stroke-opacity:0.1; fill:none\" points=\"\n",
       "  112.177,162.047 2352.76,162.047 \n",
       "  \"/>\n",
       "<polyline clip-path=\"url(#clip390)\" style=\"stroke:#000000; stroke-linecap:round; stroke-linejoin:round; stroke-width:4; stroke-opacity:1; fill:none\" points=\"\n",
       "  112.177,1486.45 112.177,123.472 \n",
       "  \"/>\n",
       "<polyline clip-path=\"url(#clip390)\" style=\"stroke:#000000; stroke-linecap:round; stroke-linejoin:round; stroke-width:4; stroke-opacity:1; fill:none\" points=\"\n",
       "  112.177,1447.87 131.075,1447.87 \n",
       "  \"/>\n",
       "<polyline clip-path=\"url(#clip390)\" style=\"stroke:#000000; stroke-linecap:round; stroke-linejoin:round; stroke-width:4; stroke-opacity:1; fill:none\" points=\"\n",
       "  112.177,1190.71 131.075,1190.71 \n",
       "  \"/>\n",
       "<polyline clip-path=\"url(#clip390)\" style=\"stroke:#000000; stroke-linecap:round; stroke-linejoin:round; stroke-width:4; stroke-opacity:1; fill:none\" points=\"\n",
       "  112.177,933.543 131.075,933.543 \n",
       "  \"/>\n",
       "<polyline clip-path=\"url(#clip390)\" style=\"stroke:#000000; stroke-linecap:round; stroke-linejoin:round; stroke-width:4; stroke-opacity:1; fill:none\" points=\"\n",
       "  112.177,676.377 131.075,676.377 \n",
       "  \"/>\n",
       "<polyline clip-path=\"url(#clip390)\" style=\"stroke:#000000; stroke-linecap:round; stroke-linejoin:round; stroke-width:4; stroke-opacity:1; fill:none\" points=\"\n",
       "  112.177,419.212 131.075,419.212 \n",
       "  \"/>\n",
       "<polyline clip-path=\"url(#clip390)\" style=\"stroke:#000000; stroke-linecap:round; stroke-linejoin:round; stroke-width:4; stroke-opacity:1; fill:none\" points=\"\n",
       "  112.177,162.047 131.075,162.047 \n",
       "  \"/>\n",
       "<path clip-path=\"url(#clip390)\" d=\"M64.2328 1433.67 Q60.6217 1433.67 58.793 1437.24 Q56.9875 1440.78 56.9875 1447.91 Q56.9875 1455.01 58.793 1458.58 Q60.6217 1462.12 64.2328 1462.12 Q67.867 1462.12 69.6726 1458.58 Q71.5013 1455.01 71.5013 1447.91 Q71.5013 1440.78 69.6726 1437.24 Q67.867 1433.67 64.2328 1433.67 M64.2328 1429.97 Q70.0429 1429.97 73.0985 1434.57 Q76.1772 1439.16 76.1772 1447.91 Q76.1772 1456.63 73.0985 1461.24 Q70.0429 1465.82 64.2328 1465.82 Q58.4226 1465.82 55.344 1461.24 Q52.2884 1456.63 52.2884 1447.91 Q52.2884 1439.16 55.344 1434.57 Q58.4226 1429.97 64.2328 1429.97 Z\" fill=\"#000000\" fill-rule=\"evenodd\" fill-opacity=\"1\" /><path clip-path=\"url(#clip390)\" d=\"M56.2699 1204.05 L63.9087 1204.05 L63.9087 1177.69 L55.5986 1179.35 L55.5986 1175.09 L63.8624 1173.43 L68.5383 1173.43 L68.5383 1204.05 L76.1772 1204.05 L76.1772 1207.99 L56.2699 1207.99 L56.2699 1204.05 Z\" fill=\"#000000\" fill-rule=\"evenodd\" fill-opacity=\"1\" /><path clip-path=\"url(#clip390)\" d=\"M59.8578 946.887 L76.1772 946.887 L76.1772 950.823 L54.2328 950.823 L54.2328 946.887 Q56.8949 944.133 61.4782 939.503 Q66.0846 934.85 67.2652 933.508 Q69.5105 930.985 70.3902 929.249 Q71.2929 927.489 71.2929 925.8 Q71.2929 923.045 69.3485 921.309 Q67.4272 919.573 64.3254 919.573 Q62.1263 919.573 59.6726 920.337 Q57.2421 921.101 54.4643 922.651 L54.4643 917.929 Q57.2884 916.795 59.7421 916.216 Q62.1958 915.638 64.2328 915.638 Q69.6031 915.638 72.7976 918.323 Q75.992 921.008 75.992 925.499 Q75.992 927.628 75.1818 929.55 Q74.3948 931.448 72.2883 934.04 Q71.7096 934.712 68.6078 937.929 Q65.5059 941.124 59.8578 946.887 Z\" fill=\"#000000\" fill-rule=\"evenodd\" fill-opacity=\"1\" /><path clip-path=\"url(#clip390)\" d=\"M69.0476 675.023 Q72.404 675.741 74.279 678.009 Q76.1772 680.278 76.1772 683.611 Q76.1772 688.727 72.6587 691.528 Q69.1402 694.329 62.6587 694.329 Q60.4828 694.329 58.168 693.889 Q55.8764 693.472 53.4227 692.616 L53.4227 688.102 Q55.3671 689.236 57.6819 689.815 Q59.9967 690.394 62.5198 690.394 Q66.918 690.394 69.2096 688.657 Q71.5244 686.921 71.5244 683.611 Q71.5244 680.556 69.3717 678.843 Q67.242 677.107 63.4226 677.107 L59.3949 677.107 L59.3949 673.264 L63.6078 673.264 Q67.0569 673.264 68.8855 671.898 Q70.7142 670.509 70.7142 667.917 Q70.7142 665.255 68.8161 663.843 Q66.9411 662.408 63.4226 662.408 Q61.5013 662.408 59.3023 662.824 Q57.1032 663.241 54.4643 664.121 L54.4643 659.954 Q57.1264 659.213 59.4412 658.843 Q61.7791 658.472 63.8393 658.472 Q69.1633 658.472 72.2652 660.903 Q75.367 663.31 75.367 667.431 Q75.367 670.301 73.7235 672.292 Q72.08 674.259 69.0476 675.023 Z\" fill=\"#000000\" fill-rule=\"evenodd\" fill-opacity=\"1\" /><path clip-path=\"url(#clip390)\" d=\"M66.5939 406.006 L54.7884 424.455 L66.5939 424.455 L66.5939 406.006 M65.367 401.932 L71.2466 401.932 L71.2466 424.455 L76.1772 424.455 L76.1772 428.344 L71.2466 428.344 L71.2466 436.492 L66.5939 436.492 L66.5939 428.344 L50.9921 428.344 L50.9921 423.83 L65.367 401.932 Z\" fill=\"#000000\" fill-rule=\"evenodd\" fill-opacity=\"1\" /><path clip-path=\"url(#clip390)\" d=\"M55.2745 144.767 L73.6309 144.767 L73.6309 148.702 L59.5569 148.702 L59.5569 157.174 Q60.5754 156.827 61.5939 156.665 Q62.6124 156.48 63.6309 156.48 Q69.418 156.48 72.7976 159.651 Q76.1772 162.822 76.1772 168.239 Q76.1772 173.818 72.705 176.92 Q69.2328 179.998 62.9134 179.998 Q60.7374 179.998 58.4689 179.628 Q56.2236 179.257 53.8162 178.517 L53.8162 173.818 Q55.8995 174.952 58.1217 175.507 Q60.3439 176.063 62.8208 176.063 Q66.8254 176.063 69.1633 173.957 Q71.5013 171.85 71.5013 168.239 Q71.5013 164.628 69.1633 162.521 Q66.8254 160.415 62.8208 160.415 Q60.9458 160.415 59.0708 160.832 Q57.2189 161.248 55.2745 162.128 L55.2745 144.767 Z\" fill=\"#000000\" fill-rule=\"evenodd\" fill-opacity=\"1\" /><path clip-path=\"url(#clip390)\" d=\"M1187.1 34.1734 Q1185.84 33.4443 1184.34 33.1202 Q1182.88 32.7556 1181.1 32.7556 Q1174.78 32.7556 1171.38 36.8875 Q1168.02 40.9789 1168.02 48.6757 L1168.02 72.576 L1160.52 72.576 L1160.52 27.2059 L1168.02 27.2059 L1168.02 34.2544 Q1170.37 30.1225 1174.13 28.1376 Q1177.9 26.1121 1183.29 26.1121 Q1184.06 26.1121 1184.99 26.2337 Q1185.92 26.3147 1187.06 26.5172 L1187.1 34.1734 Z\" fill=\"#000000\" fill-rule=\"evenodd\" fill-opacity=\"1\" /><path clip-path=\"url(#clip390)\" d=\"M1231.9 48.0275 L1231.9 51.6733 L1197.63 51.6733 Q1198.11 59.3701 1202.25 63.421 Q1206.42 67.4314 1213.83 67.4314 Q1218.13 67.4314 1222.14 66.3781 Q1226.19 65.3249 1230.16 63.2184 L1230.16 70.267 Q1226.15 71.9684 1221.93 72.8596 Q1217.72 73.7508 1213.39 73.7508 Q1202.53 73.7508 1196.17 67.4314 Q1189.85 61.1119 1189.85 50.3365 Q1189.85 39.1965 1195.85 32.6746 Q1201.88 26.1121 1212.09 26.1121 Q1221.25 26.1121 1226.55 32.0264 Q1231.9 37.9003 1231.9 48.0275 M1224.45 45.84 Q1224.36 39.7232 1221 36.0774 Q1217.68 32.4315 1212.17 32.4315 Q1205.93 32.4315 1202.17 35.9558 Q1198.44 39.4801 1197.87 45.8805 L1224.45 45.84 Z\" fill=\"#000000\" fill-rule=\"evenodd\" fill-opacity=\"1\" /><path clip-path=\"url(#clip390)\" d=\"M1244.13 9.54393 L1251.59 9.54393 L1251.59 72.576 L1244.13 72.576 L1244.13 9.54393 Z\" fill=\"#000000\" fill-rule=\"evenodd\" fill-opacity=\"1\" /><path clip-path=\"url(#clip390)\" d=\"M1266.41 54.671 L1266.41 27.2059 L1273.87 27.2059 L1273.87 54.3874 Q1273.87 60.8284 1276.38 64.0691 Q1278.89 67.2693 1283.91 67.2693 Q1289.95 67.2693 1293.43 63.421 Q1296.96 59.5726 1296.96 52.9291 L1296.96 27.2059 L1304.41 27.2059 L1304.41 72.576 L1296.96 72.576 L1296.96 65.6084 Q1294.24 69.7404 1290.64 71.7658 Q1287.07 73.7508 1282.33 73.7508 Q1274.51 73.7508 1270.46 68.8897 Q1266.41 64.0286 1266.41 54.671 M1285.17 26.1121 L1285.17 26.1121 Z\" fill=\"#000000\" fill-rule=\"evenodd\" fill-opacity=\"1\" /><polyline clip-path=\"url(#clip392)\" style=\"stroke:#009af9; stroke-linecap:round; stroke-linejoin:round; stroke-width:4; stroke-opacity:1; fill:none\" points=\"\n",
       "  175.59,1447.87 196.727,1447.87 217.865,1447.87 239.002,1447.87 260.14,1447.87 281.277,1447.87 302.415,1447.87 323.553,1447.87 344.69,1447.87 365.828,1447.87 \n",
       "  386.965,1447.87 408.103,1447.87 429.24,1447.87 450.378,1447.87 471.515,1447.87 492.653,1447.87 513.79,1447.87 534.928,1447.87 556.065,1447.87 577.203,1447.87 \n",
       "  598.34,1447.87 619.478,1447.87 640.616,1447.87 661.753,1447.87 682.891,1447.87 704.028,1447.87 725.166,1447.87 746.303,1447.87 767.441,1447.87 788.578,1447.87 \n",
       "  809.716,1447.87 830.853,1447.87 851.991,1447.87 873.128,1447.87 894.266,1447.87 915.404,1447.87 936.541,1447.87 957.679,1447.87 978.816,1447.87 999.954,1447.87 \n",
       "  1021.09,1447.87 1042.23,1447.87 1063.37,1447.87 1084.5,1447.87 1105.64,1447.87 1126.78,1447.87 1147.92,1447.87 1169.05,1447.87 1190.19,1447.87 1211.33,1447.87 \n",
       "  1232.47,1447.87 1253.6,1422.16 1274.74,1396.44 1295.88,1370.72 1317.02,1345.01 1338.15,1319.29 1359.29,1293.57 1380.43,1267.86 1401.57,1242.14 1422.7,1216.42 \n",
       "  1443.84,1190.71 1464.98,1164.99 1486.12,1139.27 1507.25,1113.56 1528.39,1087.84 1549.53,1062.13 1570.67,1036.41 1591.8,1010.69 1612.94,984.976 1634.08,959.259 \n",
       "  1655.22,933.543 1676.35,907.826 1697.49,882.11 1718.63,856.393 1739.77,830.677 1760.9,804.96 1782.04,779.243 1803.18,753.527 1824.32,727.81 1845.46,702.094 \n",
       "  1866.59,676.377 1887.73,650.661 1908.87,624.944 1930.01,599.228 1951.14,573.511 1972.28,547.795 1993.42,522.078 2014.56,496.362 2035.69,470.645 2056.83,444.929 \n",
       "  2077.97,419.212 2099.11,393.496 2120.24,367.779 2141.38,342.063 2162.52,316.346 2183.66,290.63 2204.79,264.913 2225.93,239.196 2247.07,213.48 2268.21,187.763 \n",
       "  2289.34,162.047 \n",
       "  \"/>\n",
       "<path clip-path=\"url(#clip390)\" d=\"\n",
       "M1976.69 272.585 L2278.07 272.585 L2278.07 168.905 L1976.69 168.905  Z\n",
       "  \" fill=\"#ffffff\" fill-rule=\"evenodd\" fill-opacity=\"1\"/>\n",
       "<polyline clip-path=\"url(#clip390)\" style=\"stroke:#000000; stroke-linecap:round; stroke-linejoin:round; stroke-width:4; stroke-opacity:1; fill:none\" points=\"\n",
       "  1976.69,272.585 2278.07,272.585 2278.07,168.905 1976.69,168.905 1976.69,272.585 \n",
       "  \"/>\n",
       "<polyline clip-path=\"url(#clip390)\" style=\"stroke:#009af9; stroke-linecap:round; stroke-linejoin:round; stroke-width:4; stroke-opacity:1; fill:none\" points=\"\n",
       "  2001.58,220.745 2150.95,220.745 \n",
       "  \"/>\n",
       "<path clip-path=\"url(#clip390)\" d=\"M2189.69 240.432 Q2187.89 245.062 2186.17 246.474 Q2184.46 247.886 2181.59 247.886 L2178.19 247.886 L2178.19 244.321 L2180.69 244.321 Q2182.45 244.321 2183.42 243.488 Q2184.39 242.654 2185.57 239.552 L2186.34 237.608 L2175.85 212.099 L2180.36 212.099 L2188.46 232.377 L2196.57 212.099 L2201.08 212.099 L2189.69 240.432 Z\" fill=\"#000000\" fill-rule=\"evenodd\" fill-opacity=\"1\" /><path clip-path=\"url(#clip390)\" d=\"M2208.37 234.089 L2216.01 234.089 L2216.01 207.724 L2207.7 209.391 L2207.7 205.131 L2215.96 203.465 L2220.64 203.465 L2220.64 234.089 L2228.28 234.089 L2228.28 238.025 L2208.37 238.025 L2208.37 234.089 Z\" fill=\"#000000\" fill-rule=\"evenodd\" fill-opacity=\"1\" /></svg>\n"
      ]
     },
     "execution_count": 86,
     "metadata": {},
     "output_type": "execute_result"
    }
   ],
   "source": [
    "plot(-5:0.1:5,relu,title=\"relu\")"
   ]
  },
  {
   "cell_type": "code",
   "execution_count": 87,
   "metadata": {},
   "outputs": [
    {
     "name": "stdout",
     "output_type": "stream",
     "text": [
      "  0.039402 seconds (133.25 k allocations: 14.597 MiB, 93.27% compilation time)\n"
     ]
    }
   ],
   "source": [
    "# leakyrelu(x, a=0.01) = max(a*x, x) is like relu but without the hard zero setting in the left side of the zero\n",
    "@time leakyrelu.( rr );"
   ]
  },
  {
   "cell_type": "code",
   "execution_count": 88,
   "metadata": {},
   "outputs": [
    {
     "data": {
      "image/svg+xml": [
       "<?xml version=\"1.0\" encoding=\"utf-8\"?>\n",
       "<svg xmlns=\"http://www.w3.org/2000/svg\" xmlns:xlink=\"http://www.w3.org/1999/xlink\" width=\"600\" height=\"400\" viewBox=\"0 0 2400 1600\">\n",
       "<defs>\n",
       "  <clipPath id=\"clip430\">\n",
       "    <rect x=\"0\" y=\"0\" width=\"2400\" height=\"1600\"/>\n",
       "  </clipPath>\n",
       "</defs>\n",
       "<path clip-path=\"url(#clip430)\" d=\"\n",
       "M0 1600 L2400 1600 L2400 0 L0 0  Z\n",
       "  \" fill=\"#ffffff\" fill-rule=\"evenodd\" fill-opacity=\"1\"/>\n",
       "<defs>\n",
       "  <clipPath id=\"clip431\">\n",
       "    <rect x=\"480\" y=\"0\" width=\"1681\" height=\"1600\"/>\n",
       "  </clipPath>\n",
       "</defs>\n",
       "<path clip-path=\"url(#clip430)\" d=\"\n",
       "M112.177 1486.45 L2352.76 1486.45 L2352.76 123.472 L112.177 123.472  Z\n",
       "  \" fill=\"#ffffff\" fill-rule=\"evenodd\" fill-opacity=\"1\"/>\n",
       "<defs>\n",
       "  <clipPath id=\"clip432\">\n",
       "    <rect x=\"112\" y=\"123\" width=\"2242\" height=\"1364\"/>\n",
       "  </clipPath>\n",
       "</defs>\n",
       "<polyline clip-path=\"url(#clip432)\" style=\"stroke:#000000; stroke-linecap:round; stroke-linejoin:round; stroke-width:2; stroke-opacity:0.1; fill:none\" points=\"\n",
       "  386.965,1486.45 386.965,123.472 \n",
       "  \"/>\n",
       "<polyline clip-path=\"url(#clip432)\" style=\"stroke:#000000; stroke-linecap:round; stroke-linejoin:round; stroke-width:2; stroke-opacity:0.1; fill:none\" points=\"\n",
       "  809.716,1486.45 809.716,123.472 \n",
       "  \"/>\n",
       "<polyline clip-path=\"url(#clip432)\" style=\"stroke:#000000; stroke-linecap:round; stroke-linejoin:round; stroke-width:2; stroke-opacity:0.1; fill:none\" points=\"\n",
       "  1232.47,1486.45 1232.47,123.472 \n",
       "  \"/>\n",
       "<polyline clip-path=\"url(#clip432)\" style=\"stroke:#000000; stroke-linecap:round; stroke-linejoin:round; stroke-width:2; stroke-opacity:0.1; fill:none\" points=\"\n",
       "  1655.22,1486.45 1655.22,123.472 \n",
       "  \"/>\n",
       "<polyline clip-path=\"url(#clip432)\" style=\"stroke:#000000; stroke-linecap:round; stroke-linejoin:round; stroke-width:2; stroke-opacity:0.1; fill:none\" points=\"\n",
       "  2077.97,1486.45 2077.97,123.472 \n",
       "  \"/>\n",
       "<polyline clip-path=\"url(#clip430)\" style=\"stroke:#000000; stroke-linecap:round; stroke-linejoin:round; stroke-width:4; stroke-opacity:1; fill:none\" points=\"\n",
       "  112.177,1486.45 2352.76,1486.45 \n",
       "  \"/>\n",
       "<polyline clip-path=\"url(#clip430)\" style=\"stroke:#000000; stroke-linecap:round; stroke-linejoin:round; stroke-width:4; stroke-opacity:1; fill:none\" points=\"\n",
       "  386.965,1486.45 386.965,1467.55 \n",
       "  \"/>\n",
       "<polyline clip-path=\"url(#clip430)\" style=\"stroke:#000000; stroke-linecap:round; stroke-linejoin:round; stroke-width:4; stroke-opacity:1; fill:none\" points=\"\n",
       "  809.716,1486.45 809.716,1467.55 \n",
       "  \"/>\n",
       "<polyline clip-path=\"url(#clip430)\" style=\"stroke:#000000; stroke-linecap:round; stroke-linejoin:round; stroke-width:4; stroke-opacity:1; fill:none\" points=\"\n",
       "  1232.47,1486.45 1232.47,1467.55 \n",
       "  \"/>\n",
       "<polyline clip-path=\"url(#clip430)\" style=\"stroke:#000000; stroke-linecap:round; stroke-linejoin:round; stroke-width:4; stroke-opacity:1; fill:none\" points=\"\n",
       "  1655.22,1486.45 1655.22,1467.55 \n",
       "  \"/>\n",
       "<polyline clip-path=\"url(#clip430)\" style=\"stroke:#000000; stroke-linecap:round; stroke-linejoin:round; stroke-width:4; stroke-opacity:1; fill:none\" points=\"\n",
       "  2077.97,1486.45 2077.97,1467.55 \n",
       "  \"/>\n",
       "<path clip-path=\"url(#clip430)\" d=\"M355.866 1532.02 L385.542 1532.02 L385.542 1535.95 L355.866 1535.95 L355.866 1532.02 Z\" fill=\"#000000\" fill-rule=\"evenodd\" fill-opacity=\"1\" /><path clip-path=\"url(#clip430)\" d=\"M408.481 1518.36 L396.676 1536.81 L408.481 1536.81 L408.481 1518.36 M407.254 1514.29 L413.134 1514.29 L413.134 1536.81 L418.065 1536.81 L418.065 1540.7 L413.134 1540.7 L413.134 1548.85 L408.481 1548.85 L408.481 1540.7 L392.879 1540.7 L392.879 1536.19 L407.254 1514.29 Z\" fill=\"#000000\" fill-rule=\"evenodd\" fill-opacity=\"1\" /><path clip-path=\"url(#clip430)\" d=\"M779.658 1532.02 L809.334 1532.02 L809.334 1535.95 L779.658 1535.95 L779.658 1532.02 Z\" fill=\"#000000\" fill-rule=\"evenodd\" fill-opacity=\"1\" /><path clip-path=\"url(#clip430)\" d=\"M823.454 1544.91 L839.774 1544.91 L839.774 1548.85 L817.829 1548.85 L817.829 1544.91 Q820.491 1542.16 825.075 1537.53 Q829.681 1532.88 830.862 1531.53 Q833.107 1529.01 833.987 1527.27 Q834.889 1525.51 834.889 1523.82 Q834.889 1521.07 832.945 1519.33 Q831.024 1517.6 827.922 1517.6 Q825.723 1517.6 823.269 1518.36 Q820.838 1519.13 818.061 1520.68 L818.061 1515.95 Q820.885 1514.82 823.338 1514.24 Q825.792 1513.66 827.829 1513.66 Q833.2 1513.66 836.394 1516.35 Q839.588 1519.03 839.588 1523.52 Q839.588 1525.65 838.778 1527.57 Q837.991 1529.47 835.885 1532.07 Q835.306 1532.74 832.204 1535.95 Q829.102 1539.15 823.454 1544.91 Z\" fill=\"#000000\" fill-rule=\"evenodd\" fill-opacity=\"1\" /><path clip-path=\"url(#clip430)\" d=\"M1232.47 1517.37 Q1228.86 1517.37 1227.03 1520.93 Q1225.22 1524.47 1225.22 1531.6 Q1225.22 1538.71 1227.03 1542.27 Q1228.86 1545.82 1232.47 1545.82 Q1236.1 1545.82 1237.91 1542.27 Q1239.74 1538.71 1239.74 1531.6 Q1239.74 1524.47 1237.91 1520.93 Q1236.1 1517.37 1232.47 1517.37 M1232.47 1513.66 Q1238.28 1513.66 1241.33 1518.27 Q1244.41 1522.85 1244.41 1531.6 Q1244.41 1540.33 1241.33 1544.94 Q1238.28 1549.52 1232.47 1549.52 Q1226.66 1549.52 1223.58 1544.94 Q1220.52 1540.33 1220.52 1531.6 Q1220.52 1522.85 1223.58 1518.27 Q1226.66 1513.66 1232.47 1513.66 Z\" fill=\"#000000\" fill-rule=\"evenodd\" fill-opacity=\"1\" /><path clip-path=\"url(#clip430)\" d=\"M1649.87 1544.91 L1666.19 1544.91 L1666.19 1548.85 L1644.25 1548.85 L1644.25 1544.91 Q1646.91 1542.16 1651.49 1537.53 Q1656.1 1532.88 1657.28 1531.53 Q1659.52 1529.01 1660.4 1527.27 Q1661.31 1525.51 1661.31 1523.82 Q1661.31 1521.07 1659.36 1519.33 Q1657.44 1517.6 1654.34 1517.6 Q1652.14 1517.6 1649.68 1518.36 Q1647.25 1519.13 1644.48 1520.68 L1644.48 1515.95 Q1647.3 1514.82 1649.75 1514.24 Q1652.21 1513.66 1654.25 1513.66 Q1659.62 1513.66 1662.81 1516.35 Q1666 1519.03 1666 1523.52 Q1666 1525.65 1665.19 1527.57 Q1664.41 1529.47 1662.3 1532.07 Q1661.72 1532.74 1658.62 1535.95 Q1655.52 1539.15 1649.87 1544.91 Z\" fill=\"#000000\" fill-rule=\"evenodd\" fill-opacity=\"1\" /><path clip-path=\"url(#clip430)\" d=\"M2080.98 1518.36 L2069.17 1536.81 L2080.98 1536.81 L2080.98 1518.36 M2079.75 1514.29 L2085.63 1514.29 L2085.63 1536.81 L2090.56 1536.81 L2090.56 1540.7 L2085.63 1540.7 L2085.63 1548.85 L2080.98 1548.85 L2080.98 1540.7 L2065.38 1540.7 L2065.38 1536.19 L2079.75 1514.29 Z\" fill=\"#000000\" fill-rule=\"evenodd\" fill-opacity=\"1\" /><polyline clip-path=\"url(#clip432)\" style=\"stroke:#000000; stroke-linecap:round; stroke-linejoin:round; stroke-width:2; stroke-opacity:0.1; fill:none\" points=\"\n",
       "  112.177,1435.14 2352.76,1435.14 \n",
       "  \"/>\n",
       "<polyline clip-path=\"url(#clip432)\" style=\"stroke:#000000; stroke-linecap:round; stroke-linejoin:round; stroke-width:2; stroke-opacity:0.1; fill:none\" points=\"\n",
       "  112.177,1180.52 2352.76,1180.52 \n",
       "  \"/>\n",
       "<polyline clip-path=\"url(#clip432)\" style=\"stroke:#000000; stroke-linecap:round; stroke-linejoin:round; stroke-width:2; stroke-opacity:0.1; fill:none\" points=\"\n",
       "  112.177,925.904 2352.76,925.904 \n",
       "  \"/>\n",
       "<polyline clip-path=\"url(#clip432)\" style=\"stroke:#000000; stroke-linecap:round; stroke-linejoin:round; stroke-width:2; stroke-opacity:0.1; fill:none\" points=\"\n",
       "  112.177,671.285 2352.76,671.285 \n",
       "  \"/>\n",
       "<polyline clip-path=\"url(#clip432)\" style=\"stroke:#000000; stroke-linecap:round; stroke-linejoin:round; stroke-width:2; stroke-opacity:0.1; fill:none\" points=\"\n",
       "  112.177,416.666 2352.76,416.666 \n",
       "  \"/>\n",
       "<polyline clip-path=\"url(#clip432)\" style=\"stroke:#000000; stroke-linecap:round; stroke-linejoin:round; stroke-width:2; stroke-opacity:0.1; fill:none\" points=\"\n",
       "  112.177,162.047 2352.76,162.047 \n",
       "  \"/>\n",
       "<polyline clip-path=\"url(#clip430)\" style=\"stroke:#000000; stroke-linecap:round; stroke-linejoin:round; stroke-width:4; stroke-opacity:1; fill:none\" points=\"\n",
       "  112.177,1486.45 112.177,123.472 \n",
       "  \"/>\n",
       "<polyline clip-path=\"url(#clip430)\" style=\"stroke:#000000; stroke-linecap:round; stroke-linejoin:round; stroke-width:4; stroke-opacity:1; fill:none\" points=\"\n",
       "  112.177,1435.14 131.075,1435.14 \n",
       "  \"/>\n",
       "<polyline clip-path=\"url(#clip430)\" style=\"stroke:#000000; stroke-linecap:round; stroke-linejoin:round; stroke-width:4; stroke-opacity:1; fill:none\" points=\"\n",
       "  112.177,1180.52 131.075,1180.52 \n",
       "  \"/>\n",
       "<polyline clip-path=\"url(#clip430)\" style=\"stroke:#000000; stroke-linecap:round; stroke-linejoin:round; stroke-width:4; stroke-opacity:1; fill:none\" points=\"\n",
       "  112.177,925.904 131.075,925.904 \n",
       "  \"/>\n",
       "<polyline clip-path=\"url(#clip430)\" style=\"stroke:#000000; stroke-linecap:round; stroke-linejoin:round; stroke-width:4; stroke-opacity:1; fill:none\" points=\"\n",
       "  112.177,671.285 131.075,671.285 \n",
       "  \"/>\n",
       "<polyline clip-path=\"url(#clip430)\" style=\"stroke:#000000; stroke-linecap:round; stroke-linejoin:round; stroke-width:4; stroke-opacity:1; fill:none\" points=\"\n",
       "  112.177,416.666 131.075,416.666 \n",
       "  \"/>\n",
       "<polyline clip-path=\"url(#clip430)\" style=\"stroke:#000000; stroke-linecap:round; stroke-linejoin:round; stroke-width:4; stroke-opacity:1; fill:none\" points=\"\n",
       "  112.177,162.047 131.075,162.047 \n",
       "  \"/>\n",
       "<path clip-path=\"url(#clip430)\" d=\"M64.2328 1420.94 Q60.6217 1420.94 58.793 1424.51 Q56.9875 1428.05 56.9875 1435.18 Q56.9875 1442.28 58.793 1445.85 Q60.6217 1449.39 64.2328 1449.39 Q67.867 1449.39 69.6726 1445.85 Q71.5013 1442.28 71.5013 1435.18 Q71.5013 1428.05 69.6726 1424.51 Q67.867 1420.94 64.2328 1420.94 M64.2328 1417.24 Q70.0429 1417.24 73.0985 1421.84 Q76.1772 1426.43 76.1772 1435.18 Q76.1772 1443.9 73.0985 1448.51 Q70.0429 1453.09 64.2328 1453.09 Q58.4226 1453.09 55.344 1448.51 Q52.2884 1443.9 52.2884 1435.18 Q52.2884 1426.43 55.344 1421.84 Q58.4226 1417.24 64.2328 1417.24 Z\" fill=\"#000000\" fill-rule=\"evenodd\" fill-opacity=\"1\" /><path clip-path=\"url(#clip430)\" d=\"M56.2699 1193.87 L63.9087 1193.87 L63.9087 1167.5 L55.5986 1169.17 L55.5986 1164.91 L63.8624 1163.24 L68.5383 1163.24 L68.5383 1193.87 L76.1772 1193.87 L76.1772 1197.8 L56.2699 1197.8 L56.2699 1193.87 Z\" fill=\"#000000\" fill-rule=\"evenodd\" fill-opacity=\"1\" /><path clip-path=\"url(#clip430)\" d=\"M59.8578 939.249 L76.1772 939.249 L76.1772 943.184 L54.2328 943.184 L54.2328 939.249 Q56.8949 936.494 61.4782 931.865 Q66.0846 927.212 67.2652 925.869 Q69.5105 923.346 70.3902 921.61 Q71.2929 919.851 71.2929 918.161 Q71.2929 915.406 69.3485 913.67 Q67.4272 911.934 64.3254 911.934 Q62.1263 911.934 59.6726 912.698 Q57.2421 913.462 54.4643 915.013 L54.4643 910.291 Q57.2884 909.156 59.7421 908.578 Q62.1958 907.999 64.2328 907.999 Q69.6031 907.999 72.7976 910.684 Q75.992 913.369 75.992 917.86 Q75.992 919.99 75.1818 921.911 Q74.3948 923.809 72.2883 926.402 Q71.7096 927.073 68.6078 930.291 Q65.5059 933.485 59.8578 939.249 Z\" fill=\"#000000\" fill-rule=\"evenodd\" fill-opacity=\"1\" /><path clip-path=\"url(#clip430)\" d=\"M69.0476 669.931 Q72.404 670.648 74.279 672.917 Q76.1772 675.185 76.1772 678.519 Q76.1772 683.634 72.6587 686.435 Q69.1402 689.236 62.6587 689.236 Q60.4828 689.236 58.168 688.796 Q55.8764 688.38 53.4227 687.523 L53.4227 683.009 Q55.3671 684.144 57.6819 684.722 Q59.9967 685.301 62.5198 685.301 Q66.918 685.301 69.2096 683.565 Q71.5244 681.829 71.5244 678.519 Q71.5244 675.463 69.3717 673.75 Q67.242 672.014 63.4226 672.014 L59.3949 672.014 L59.3949 668.172 L63.6078 668.172 Q67.0569 668.172 68.8855 666.806 Q70.7142 665.417 70.7142 662.824 Q70.7142 660.162 68.8161 658.75 Q66.9411 657.315 63.4226 657.315 Q61.5013 657.315 59.3023 657.732 Q57.1032 658.148 54.4643 659.028 L54.4643 654.861 Q57.1264 654.121 59.4412 653.75 Q61.7791 653.38 63.8393 653.38 Q69.1633 653.38 72.2652 655.811 Q75.367 658.218 75.367 662.338 Q75.367 665.209 73.7235 667.199 Q72.08 669.167 69.0476 669.931 Z\" fill=\"#000000\" fill-rule=\"evenodd\" fill-opacity=\"1\" /><path clip-path=\"url(#clip430)\" d=\"M66.5939 403.46 L54.7884 421.909 L66.5939 421.909 L66.5939 403.46 M65.367 399.386 L71.2466 399.386 L71.2466 421.909 L76.1772 421.909 L76.1772 425.798 L71.2466 425.798 L71.2466 433.946 L66.5939 433.946 L66.5939 425.798 L50.9921 425.798 L50.9921 421.284 L65.367 399.386 Z\" fill=\"#000000\" fill-rule=\"evenodd\" fill-opacity=\"1\" /><path clip-path=\"url(#clip430)\" d=\"M55.2745 144.767 L73.6309 144.767 L73.6309 148.702 L59.5569 148.702 L59.5569 157.174 Q60.5754 156.827 61.5939 156.665 Q62.6124 156.48 63.6309 156.48 Q69.418 156.48 72.7976 159.651 Q76.1772 162.822 76.1772 168.239 Q76.1772 173.818 72.705 176.92 Q69.2328 179.998 62.9134 179.998 Q60.7374 179.998 58.4689 179.628 Q56.2236 179.257 53.8162 178.517 L53.8162 173.818 Q55.8995 174.952 58.1217 175.507 Q60.3439 176.063 62.8208 176.063 Q66.8254 176.063 69.1633 173.957 Q71.5013 171.85 71.5013 168.239 Q71.5013 164.628 69.1633 162.521 Q66.8254 160.415 62.8208 160.415 Q60.9458 160.415 59.0708 160.832 Q57.2189 161.248 55.2745 162.128 L55.2745 144.767 Z\" fill=\"#000000\" fill-rule=\"evenodd\" fill-opacity=\"1\" /><path clip-path=\"url(#clip430)\" d=\"M1051.11 9.54393 L1058.56 9.54393 L1058.56 72.576 L1051.11 72.576 L1051.11 9.54393 Z\" fill=\"#000000\" fill-rule=\"evenodd\" fill-opacity=\"1\" /><path clip-path=\"url(#clip430)\" d=\"M1112.96 48.0275 L1112.96 51.6733 L1078.69 51.6733 Q1079.18 59.3701 1083.31 63.421 Q1087.48 67.4314 1094.9 67.4314 Q1099.19 67.4314 1103.2 66.3781 Q1107.25 65.3249 1111.22 63.2184 L1111.22 70.267 Q1107.21 71.9684 1103 72.8596 Q1098.79 73.7508 1094.45 73.7508 Q1083.6 73.7508 1077.24 67.4314 Q1070.92 61.1119 1070.92 50.3365 Q1070.92 39.1965 1076.91 32.6746 Q1082.95 26.1121 1093.16 26.1121 Q1102.31 26.1121 1107.62 32.0264 Q1112.96 37.9003 1112.96 48.0275 M1105.51 45.84 Q1105.43 39.7232 1102.07 36.0774 Q1098.75 32.4315 1093.24 32.4315 Q1087 32.4315 1083.23 35.9558 Q1079.5 39.4801 1078.94 45.8805 L1105.51 45.84 Z\" fill=\"#000000\" fill-rule=\"evenodd\" fill-opacity=\"1\" /><path clip-path=\"url(#clip430)\" d=\"M1145.82 49.7694 Q1136.78 49.7694 1133.3 51.8354 Q1129.82 53.9013 1129.82 58.8839 Q1129.82 62.8538 1132.41 65.2034 Q1135.04 67.5124 1139.54 67.5124 Q1145.74 67.5124 1149.46 63.1374 Q1153.23 58.7219 1153.23 51.4303 L1153.23 49.7694 L1145.82 49.7694 M1160.68 46.6907 L1160.68 72.576 L1153.23 72.576 L1153.23 65.6895 Q1150.68 69.8214 1146.87 71.8063 Q1143.06 73.7508 1137.55 73.7508 Q1130.59 73.7508 1126.45 69.8619 Q1122.36 65.9325 1122.36 59.3701 Q1122.36 51.7138 1127.47 47.825 Q1132.61 43.9361 1142.78 43.9361 L1153.23 43.9361 L1153.23 43.2069 Q1153.23 38.0623 1149.83 35.2672 Q1146.47 32.4315 1140.35 32.4315 Q1136.46 32.4315 1132.77 33.3632 Q1129.09 34.295 1125.68 36.1584 L1125.68 29.2718 Q1129.78 27.692 1133.62 26.9223 Q1137.47 26.1121 1141.12 26.1121 Q1150.96 26.1121 1155.82 31.2163 Q1160.68 36.3204 1160.68 46.6907 Z\" fill=\"#000000\" fill-rule=\"evenodd\" fill-opacity=\"1\" /><path clip-path=\"url(#clip430)\" d=\"M1175.75 9.54393 L1183.25 9.54393 L1183.25 46.7717 L1205.49 27.2059 L1215.01 27.2059 L1190.94 48.4326 L1216.02 72.576 L1206.3 72.576 L1183.25 50.4176 L1183.25 72.576 L1175.75 72.576 L1175.75 9.54393 Z\" fill=\"#000000\" fill-rule=\"evenodd\" fill-opacity=\"1\" /><path clip-path=\"url(#clip430)\" d=\"M1240 76.7889 Q1236.84 84.8907 1233.84 87.3618 Q1230.85 89.8329 1225.82 89.8329 L1219.87 89.8329 L1219.87 83.5945 L1224.24 83.5945 Q1227.32 83.5945 1229.02 82.1361 Q1230.72 80.6778 1232.79 75.2496 L1234.13 71.8468 L1215.78 27.2059 L1223.68 27.2059 L1237.85 62.6918 L1252.03 27.2059 L1259.93 27.2059 L1240 76.7889 Z\" fill=\"#000000\" fill-rule=\"evenodd\" fill-opacity=\"1\" /><path clip-path=\"url(#clip430)\" d=\"M1296.51 34.1734 Q1295.26 33.4443 1293.76 33.1202 Q1292.3 32.7556 1290.52 32.7556 Q1284.2 32.7556 1280.79 36.8875 Q1277.43 40.9789 1277.43 48.6757 L1277.43 72.576 L1269.94 72.576 L1269.94 27.2059 L1277.43 27.2059 L1277.43 34.2544 Q1279.78 30.1225 1283.55 28.1376 Q1287.32 26.1121 1292.7 26.1121 Q1293.47 26.1121 1294.4 26.2337 Q1295.34 26.3147 1296.47 26.5172 L1296.51 34.1734 Z\" fill=\"#000000\" fill-rule=\"evenodd\" fill-opacity=\"1\" /><path clip-path=\"url(#clip430)\" d=\"M1341.31 48.0275 L1341.31 51.6733 L1307.04 51.6733 Q1307.53 59.3701 1311.66 63.421 Q1315.83 67.4314 1323.25 67.4314 Q1327.54 67.4314 1331.55 66.3781 Q1335.6 65.3249 1339.57 63.2184 L1339.57 70.267 Q1335.56 71.9684 1331.35 72.8596 Q1327.14 73.7508 1322.8 73.7508 Q1311.95 73.7508 1305.59 67.4314 Q1299.27 61.1119 1299.27 50.3365 Q1299.27 39.1965 1305.26 32.6746 Q1311.3 26.1121 1321.51 26.1121 Q1330.66 26.1121 1335.97 32.0264 Q1341.31 37.9003 1341.31 48.0275 M1333.86 45.84 Q1333.78 39.7232 1330.42 36.0774 Q1327.1 32.4315 1321.59 32.4315 Q1315.35 32.4315 1311.58 35.9558 Q1307.85 39.4801 1307.29 45.8805 L1333.86 45.84 Z\" fill=\"#000000\" fill-rule=\"evenodd\" fill-opacity=\"1\" /><path clip-path=\"url(#clip430)\" d=\"M1353.55 9.54393 L1361 9.54393 L1361 72.576 L1353.55 72.576 L1353.55 9.54393 Z\" fill=\"#000000\" fill-rule=\"evenodd\" fill-opacity=\"1\" /><path clip-path=\"url(#clip430)\" d=\"M1375.83 54.671 L1375.83 27.2059 L1383.28 27.2059 L1383.28 54.3874 Q1383.28 60.8284 1385.79 64.0691 Q1388.3 67.2693 1393.33 67.2693 Q1399.36 67.2693 1402.85 63.421 Q1406.37 59.5726 1406.37 52.9291 L1406.37 27.2059 L1413.83 27.2059 L1413.83 72.576 L1406.37 72.576 L1406.37 65.6084 Q1403.66 69.7404 1400.05 71.7658 Q1396.49 73.7508 1391.75 73.7508 Q1383.93 73.7508 1379.88 68.8897 Q1375.83 64.0286 1375.83 54.671 M1394.58 26.1121 L1394.58 26.1121 Z\" fill=\"#000000\" fill-rule=\"evenodd\" fill-opacity=\"1\" /><polyline clip-path=\"url(#clip432)\" style=\"stroke:#009af9; stroke-linecap:round; stroke-linejoin:round; stroke-width:4; stroke-opacity:1; fill:none\" points=\"\n",
       "  175.59,1447.87 196.727,1447.62 217.865,1447.36 239.002,1447.11 260.14,1446.85 281.277,1446.6 302.415,1446.35 323.553,1446.09 344.69,1445.84 365.828,1445.58 \n",
       "  386.965,1445.33 408.103,1445.07 429.24,1444.82 450.378,1444.56 471.515,1444.31 492.653,1444.05 513.79,1443.8 534.928,1443.54 556.065,1443.29 577.203,1443.04 \n",
       "  598.34,1442.78 619.478,1442.53 640.616,1442.27 661.753,1442.02 682.891,1441.76 704.028,1441.51 725.166,1441.25 746.303,1441 767.441,1440.74 788.578,1440.49 \n",
       "  809.716,1440.23 830.853,1439.98 851.991,1439.73 873.128,1439.47 894.266,1439.22 915.404,1438.96 936.541,1438.71 957.679,1438.45 978.816,1438.2 999.954,1437.94 \n",
       "  1021.09,1437.69 1042.23,1437.43 1063.37,1437.18 1084.5,1436.92 1105.64,1436.67 1126.78,1436.42 1147.92,1436.16 1169.05,1435.91 1190.19,1435.65 1211.33,1435.4 \n",
       "  1232.47,1435.14 1253.6,1409.68 1274.74,1384.22 1295.88,1358.76 1317.02,1333.29 1338.15,1307.83 1359.29,1282.37 1380.43,1256.91 1401.57,1231.45 1422.7,1205.98 \n",
       "  1443.84,1180.52 1464.98,1155.06 1486.12,1129.6 1507.25,1104.14 1528.39,1078.68 1549.53,1053.21 1570.67,1027.75 1591.8,1002.29 1612.94,976.828 1634.08,951.366 \n",
       "  1655.22,925.904 1676.35,900.442 1697.49,874.98 1718.63,849.518 1739.77,824.056 1760.9,798.595 1782.04,773.133 1803.18,747.671 1824.32,722.209 1845.46,696.747 \n",
       "  1866.59,671.285 1887.73,645.823 1908.87,620.361 1930.01,594.899 1951.14,569.437 1972.28,543.975 1993.42,518.514 2014.56,493.052 2035.69,467.59 2056.83,442.128 \n",
       "  2077.97,416.666 2099.11,391.204 2120.24,365.742 2141.38,340.28 2162.52,314.818 2183.66,289.356 2204.79,263.895 2225.93,238.433 2247.07,212.971 2268.21,187.509 \n",
       "  2289.34,162.047 \n",
       "  \"/>\n",
       "<path clip-path=\"url(#clip430)\" d=\"\n",
       "M1976.69 272.585 L2278.07 272.585 L2278.07 168.905 L1976.69 168.905  Z\n",
       "  \" fill=\"#ffffff\" fill-rule=\"evenodd\" fill-opacity=\"1\"/>\n",
       "<polyline clip-path=\"url(#clip430)\" style=\"stroke:#000000; stroke-linecap:round; stroke-linejoin:round; stroke-width:4; stroke-opacity:1; fill:none\" points=\"\n",
       "  1976.69,272.585 2278.07,272.585 2278.07,168.905 1976.69,168.905 1976.69,272.585 \n",
       "  \"/>\n",
       "<polyline clip-path=\"url(#clip430)\" style=\"stroke:#009af9; stroke-linecap:round; stroke-linejoin:round; stroke-width:4; stroke-opacity:1; fill:none\" points=\"\n",
       "  2001.58,220.745 2150.95,220.745 \n",
       "  \"/>\n",
       "<path clip-path=\"url(#clip430)\" d=\"M2189.69 240.432 Q2187.89 245.062 2186.17 246.474 Q2184.46 247.886 2181.59 247.886 L2178.19 247.886 L2178.19 244.321 L2180.69 244.321 Q2182.45 244.321 2183.42 243.488 Q2184.39 242.654 2185.57 239.552 L2186.34 237.608 L2175.85 212.099 L2180.36 212.099 L2188.46 232.377 L2196.57 212.099 L2201.08 212.099 L2189.69 240.432 Z\" fill=\"#000000\" fill-rule=\"evenodd\" fill-opacity=\"1\" /><path clip-path=\"url(#clip430)\" d=\"M2208.37 234.089 L2216.01 234.089 L2216.01 207.724 L2207.7 209.391 L2207.7 205.131 L2215.96 203.465 L2220.64 203.465 L2220.64 234.089 L2228.28 234.089 L2228.28 238.025 L2208.37 238.025 L2208.37 234.089 Z\" fill=\"#000000\" fill-rule=\"evenodd\" fill-opacity=\"1\" /></svg>\n"
      ]
     },
     "execution_count": 88,
     "metadata": {},
     "output_type": "execute_result"
    }
   ],
   "source": [
    "plot(-5:0.1:5,leakyrelu,title=\"leakyrelu\")"
   ]
  },
  {
   "cell_type": "markdown",
   "metadata": {},
   "source": [
    "### <span style=\"color:orange\">tanh, is likely the first activation function explored, from Kunihito Fukushima in the Cognitron Model</span>\n",
    "\n",
    "- it spans values from -1 to +1 but as a trigonometric function is more expensive to compute\n",
    "- Julia reverts to a fast version and a 'hardtanh' stepwise version that is faster"
   ]
  },
  {
   "cell_type": "code",
   "execution_count": 89,
   "metadata": {},
   "outputs": [
    {
     "name": "stdout",
     "output_type": "stream",
     "text": [
      "  0.044785 seconds (131.40 k allocations: 14.293 MiB, 78.24% compilation time)\n"
     ]
    }
   ],
   "source": [
    "@time tanh_fast.( rr );"
   ]
  },
  {
   "cell_type": "code",
   "execution_count": 90,
   "metadata": {},
   "outputs": [
    {
     "name": "stdout",
     "output_type": "stream",
     "text": [
      "  0.040423 seconds (128.37 k allocations: 14.370 MiB, 93.58% compilation time)\n"
     ]
    }
   ],
   "source": [
    "# hardtanh(x) = max(-1, min(1, x))\n",
    "@time hardtanh.( rr );"
   ]
  },
  {
   "cell_type": "code",
   "execution_count": 91,
   "metadata": {},
   "outputs": [
    {
     "data": {
      "image/svg+xml": [
       "<?xml version=\"1.0\" encoding=\"utf-8\"?>\n",
       "<svg xmlns=\"http://www.w3.org/2000/svg\" xmlns:xlink=\"http://www.w3.org/1999/xlink\" width=\"600\" height=\"400\" viewBox=\"0 0 2400 1600\">\n",
       "<defs>\n",
       "  <clipPath id=\"clip470\">\n",
       "    <rect x=\"0\" y=\"0\" width=\"2400\" height=\"1600\"/>\n",
       "  </clipPath>\n",
       "</defs>\n",
       "<path clip-path=\"url(#clip470)\" d=\"\n",
       "M0 1600 L2400 1600 L2400 0 L0 0  Z\n",
       "  \" fill=\"#ffffff\" fill-rule=\"evenodd\" fill-opacity=\"1\"/>\n",
       "<defs>\n",
       "  <clipPath id=\"clip471\">\n",
       "    <rect x=\"480\" y=\"0\" width=\"1681\" height=\"1600\"/>\n",
       "  </clipPath>\n",
       "</defs>\n",
       "<path clip-path=\"url(#clip470)\" d=\"\n",
       "M193.936 1486.45 L1152.76 1486.45 L1152.76 123.472 L193.936 123.472  Z\n",
       "  \" fill=\"#ffffff\" fill-rule=\"evenodd\" fill-opacity=\"1\"/>\n",
       "<defs>\n",
       "  <clipPath id=\"clip472\">\n",
       "    <rect x=\"193\" y=\"123\" width=\"960\" height=\"1364\"/>\n",
       "  </clipPath>\n",
       "</defs>\n",
       "<polyline clip-path=\"url(#clip472)\" style=\"stroke:#000000; stroke-linecap:round; stroke-linejoin:round; stroke-width:2; stroke-opacity:0.1; fill:none\" points=\"\n",
       "  311.527,1486.45 311.527,123.472 \n",
       "  \"/>\n",
       "<polyline clip-path=\"url(#clip472)\" style=\"stroke:#000000; stroke-linecap:round; stroke-linejoin:round; stroke-width:2; stroke-opacity:0.1; fill:none\" points=\"\n",
       "  492.437,1486.45 492.437,123.472 \n",
       "  \"/>\n",
       "<polyline clip-path=\"url(#clip472)\" style=\"stroke:#000000; stroke-linecap:round; stroke-linejoin:round; stroke-width:2; stroke-opacity:0.1; fill:none\" points=\"\n",
       "  673.346,1486.45 673.346,123.472 \n",
       "  \"/>\n",
       "<polyline clip-path=\"url(#clip472)\" style=\"stroke:#000000; stroke-linecap:round; stroke-linejoin:round; stroke-width:2; stroke-opacity:0.1; fill:none\" points=\"\n",
       "  854.255,1486.45 854.255,123.472 \n",
       "  \"/>\n",
       "<polyline clip-path=\"url(#clip472)\" style=\"stroke:#000000; stroke-linecap:round; stroke-linejoin:round; stroke-width:2; stroke-opacity:0.1; fill:none\" points=\"\n",
       "  1035.16,1486.45 1035.16,123.472 \n",
       "  \"/>\n",
       "<polyline clip-path=\"url(#clip470)\" style=\"stroke:#000000; stroke-linecap:round; stroke-linejoin:round; stroke-width:4; stroke-opacity:1; fill:none\" points=\"\n",
       "  193.936,1486.45 1152.76,1486.45 \n",
       "  \"/>\n",
       "<polyline clip-path=\"url(#clip470)\" style=\"stroke:#000000; stroke-linecap:round; stroke-linejoin:round; stroke-width:4; stroke-opacity:1; fill:none\" points=\"\n",
       "  311.527,1486.45 311.527,1467.55 \n",
       "  \"/>\n",
       "<polyline clip-path=\"url(#clip470)\" style=\"stroke:#000000; stroke-linecap:round; stroke-linejoin:round; stroke-width:4; stroke-opacity:1; fill:none\" points=\"\n",
       "  492.437,1486.45 492.437,1467.55 \n",
       "  \"/>\n",
       "<polyline clip-path=\"url(#clip470)\" style=\"stroke:#000000; stroke-linecap:round; stroke-linejoin:round; stroke-width:4; stroke-opacity:1; fill:none\" points=\"\n",
       "  673.346,1486.45 673.346,1467.55 \n",
       "  \"/>\n",
       "<polyline clip-path=\"url(#clip470)\" style=\"stroke:#000000; stroke-linecap:round; stroke-linejoin:round; stroke-width:4; stroke-opacity:1; fill:none\" points=\"\n",
       "  854.255,1486.45 854.255,1467.55 \n",
       "  \"/>\n",
       "<polyline clip-path=\"url(#clip470)\" style=\"stroke:#000000; stroke-linecap:round; stroke-linejoin:round; stroke-width:4; stroke-opacity:1; fill:none\" points=\"\n",
       "  1035.16,1486.45 1035.16,1467.55 \n",
       "  \"/>\n",
       "<path clip-path=\"url(#clip470)\" d=\"M280.428 1532.02 L310.104 1532.02 L310.104 1535.95 L280.428 1535.95 L280.428 1532.02 Z\" fill=\"#000000\" fill-rule=\"evenodd\" fill-opacity=\"1\" /><path clip-path=\"url(#clip470)\" d=\"M333.043 1518.36 L321.238 1536.81 L333.043 1536.81 L333.043 1518.36 M331.816 1514.29 L337.696 1514.29 L337.696 1536.81 L342.626 1536.81 L342.626 1540.7 L337.696 1540.7 L337.696 1548.85 L333.043 1548.85 L333.043 1540.7 L317.441 1540.7 L317.441 1536.19 L331.816 1514.29 Z\" fill=\"#000000\" fill-rule=\"evenodd\" fill-opacity=\"1\" /><path clip-path=\"url(#clip470)\" d=\"M462.379 1532.02 L492.055 1532.02 L492.055 1535.95 L462.379 1535.95 L462.379 1532.02 Z\" fill=\"#000000\" fill-rule=\"evenodd\" fill-opacity=\"1\" /><path clip-path=\"url(#clip470)\" d=\"M506.175 1544.91 L522.494 1544.91 L522.494 1548.85 L500.55 1548.85 L500.55 1544.91 Q503.212 1542.16 507.795 1537.53 Q512.402 1532.88 513.582 1531.53 Q515.828 1529.01 516.707 1527.27 Q517.61 1525.51 517.61 1523.82 Q517.61 1521.07 515.666 1519.33 Q513.744 1517.6 510.642 1517.6 Q508.443 1517.6 505.99 1518.36 Q503.559 1519.13 500.781 1520.68 L500.781 1515.95 Q503.605 1514.82 506.059 1514.24 Q508.513 1513.66 510.55 1513.66 Q515.92 1513.66 519.115 1516.35 Q522.309 1519.03 522.309 1523.52 Q522.309 1525.65 521.499 1527.57 Q520.712 1529.47 518.605 1532.07 Q518.027 1532.74 514.925 1535.95 Q511.823 1539.15 506.175 1544.91 Z\" fill=\"#000000\" fill-rule=\"evenodd\" fill-opacity=\"1\" /><path clip-path=\"url(#clip470)\" d=\"M673.346 1517.37 Q669.735 1517.37 667.906 1520.93 Q666.101 1524.47 666.101 1531.6 Q666.101 1538.71 667.906 1542.27 Q669.735 1545.82 673.346 1545.82 Q676.98 1545.82 678.786 1542.27 Q680.614 1538.71 680.614 1531.6 Q680.614 1524.47 678.786 1520.93 Q676.98 1517.37 673.346 1517.37 M673.346 1513.66 Q679.156 1513.66 682.212 1518.27 Q685.29 1522.85 685.29 1531.6 Q685.29 1540.33 682.212 1544.94 Q679.156 1549.52 673.346 1549.52 Q667.536 1549.52 664.457 1544.94 Q661.402 1540.33 661.402 1531.6 Q661.402 1522.85 664.457 1518.27 Q667.536 1513.66 673.346 1513.66 Z\" fill=\"#000000\" fill-rule=\"evenodd\" fill-opacity=\"1\" /><path clip-path=\"url(#clip470)\" d=\"M848.908 1544.91 L865.228 1544.91 L865.228 1548.85 L843.283 1548.85 L843.283 1544.91 Q845.945 1542.16 850.529 1537.53 Q855.135 1532.88 856.316 1531.53 Q858.561 1529.01 859.441 1527.27 Q860.343 1525.51 860.343 1523.82 Q860.343 1521.07 858.399 1519.33 Q856.478 1517.6 853.376 1517.6 Q851.177 1517.6 848.723 1518.36 Q846.292 1519.13 843.515 1520.68 L843.515 1515.95 Q846.339 1514.82 848.792 1514.24 Q851.246 1513.66 853.283 1513.66 Q858.653 1513.66 861.848 1516.35 Q865.042 1519.03 865.042 1523.52 Q865.042 1525.65 864.232 1527.57 Q863.445 1529.47 861.339 1532.07 Q860.76 1532.74 857.658 1535.95 Q854.556 1539.15 848.908 1544.91 Z\" fill=\"#000000\" fill-rule=\"evenodd\" fill-opacity=\"1\" /><path clip-path=\"url(#clip470)\" d=\"M1038.17 1518.36 L1026.37 1536.81 L1038.17 1536.81 L1038.17 1518.36 M1036.95 1514.29 L1042.83 1514.29 L1042.83 1536.81 L1047.76 1536.81 L1047.76 1540.7 L1042.83 1540.7 L1042.83 1548.85 L1038.17 1548.85 L1038.17 1540.7 L1022.57 1540.7 L1022.57 1536.19 L1036.95 1514.29 Z\" fill=\"#000000\" fill-rule=\"evenodd\" fill-opacity=\"1\" /><polyline clip-path=\"url(#clip472)\" style=\"stroke:#000000; stroke-linecap:round; stroke-linejoin:round; stroke-width:2; stroke-opacity:0.1; fill:none\" points=\"\n",
       "  193.936,1447.93 1152.76,1447.93 \n",
       "  \"/>\n",
       "<polyline clip-path=\"url(#clip472)\" style=\"stroke:#000000; stroke-linecap:round; stroke-linejoin:round; stroke-width:2; stroke-opacity:0.1; fill:none\" points=\"\n",
       "  193.936,1126.45 1152.76,1126.45 \n",
       "  \"/>\n",
       "<polyline clip-path=\"url(#clip472)\" style=\"stroke:#000000; stroke-linecap:round; stroke-linejoin:round; stroke-width:2; stroke-opacity:0.1; fill:none\" points=\"\n",
       "  193.936,804.96 1152.76,804.96 \n",
       "  \"/>\n",
       "<polyline clip-path=\"url(#clip472)\" style=\"stroke:#000000; stroke-linecap:round; stroke-linejoin:round; stroke-width:2; stroke-opacity:0.1; fill:none\" points=\"\n",
       "  193.936,483.474 1152.76,483.474 \n",
       "  \"/>\n",
       "<polyline clip-path=\"url(#clip472)\" style=\"stroke:#000000; stroke-linecap:round; stroke-linejoin:round; stroke-width:2; stroke-opacity:0.1; fill:none\" points=\"\n",
       "  193.936,161.989 1152.76,161.989 \n",
       "  \"/>\n",
       "<polyline clip-path=\"url(#clip470)\" style=\"stroke:#000000; stroke-linecap:round; stroke-linejoin:round; stroke-width:4; stroke-opacity:1; fill:none\" points=\"\n",
       "  193.936,1486.45 193.936,123.472 \n",
       "  \"/>\n",
       "<polyline clip-path=\"url(#clip470)\" style=\"stroke:#000000; stroke-linecap:round; stroke-linejoin:round; stroke-width:4; stroke-opacity:1; fill:none\" points=\"\n",
       "  193.936,1447.93 212.834,1447.93 \n",
       "  \"/>\n",
       "<polyline clip-path=\"url(#clip470)\" style=\"stroke:#000000; stroke-linecap:round; stroke-linejoin:round; stroke-width:4; stroke-opacity:1; fill:none\" points=\"\n",
       "  193.936,1126.45 212.834,1126.45 \n",
       "  \"/>\n",
       "<polyline clip-path=\"url(#clip470)\" style=\"stroke:#000000; stroke-linecap:round; stroke-linejoin:round; stroke-width:4; stroke-opacity:1; fill:none\" points=\"\n",
       "  193.936,804.96 212.834,804.96 \n",
       "  \"/>\n",
       "<polyline clip-path=\"url(#clip470)\" style=\"stroke:#000000; stroke-linecap:round; stroke-linejoin:round; stroke-width:4; stroke-opacity:1; fill:none\" points=\"\n",
       "  193.936,483.474 212.834,483.474 \n",
       "  \"/>\n",
       "<polyline clip-path=\"url(#clip470)\" style=\"stroke:#000000; stroke-linecap:round; stroke-linejoin:round; stroke-width:4; stroke-opacity:1; fill:none\" points=\"\n",
       "  193.936,161.989 212.834,161.989 \n",
       "  \"/>\n",
       "<path clip-path=\"url(#clip470)\" d=\"M50.9921 1448.38 L80.6679 1448.38 L80.6679 1452.32 L50.9921 1452.32 L50.9921 1448.38 Z\" fill=\"#000000\" fill-rule=\"evenodd\" fill-opacity=\"1\" /><path clip-path=\"url(#clip470)\" d=\"M91.5706 1461.28 L99.2095 1461.28 L99.2095 1434.91 L90.8993 1436.58 L90.8993 1432.32 L99.1632 1430.65 L103.839 1430.65 L103.839 1461.28 L111.478 1461.28 L111.478 1465.21 L91.5706 1465.21 L91.5706 1461.28 Z\" fill=\"#000000\" fill-rule=\"evenodd\" fill-opacity=\"1\" /><path clip-path=\"url(#clip470)\" d=\"M120.922 1459.33 L125.807 1459.33 L125.807 1465.21 L120.922 1465.21 L120.922 1459.33 Z\" fill=\"#000000\" fill-rule=\"evenodd\" fill-opacity=\"1\" /><path clip-path=\"url(#clip470)\" d=\"M145.992 1433.73 Q142.381 1433.73 140.552 1437.29 Q138.746 1440.84 138.746 1447.97 Q138.746 1455.07 140.552 1458.64 Q142.381 1462.18 145.992 1462.18 Q149.626 1462.18 151.431 1458.64 Q153.26 1455.07 153.26 1447.97 Q153.26 1440.84 151.431 1437.29 Q149.626 1433.73 145.992 1433.73 M145.992 1430.03 Q151.802 1430.03 154.857 1434.63 Q157.936 1439.22 157.936 1447.97 Q157.936 1456.69 154.857 1461.3 Q151.802 1465.88 145.992 1465.88 Q140.181 1465.88 137.103 1461.3 Q134.047 1456.69 134.047 1447.97 Q134.047 1439.22 137.103 1434.63 Q140.181 1430.03 145.992 1430.03 Z\" fill=\"#000000\" fill-rule=\"evenodd\" fill-opacity=\"1\" /><path clip-path=\"url(#clip470)\" d=\"M51.9875 1126.9 L81.6633 1126.9 L81.6633 1130.83 L51.9875 1130.83 L51.9875 1126.9 Z\" fill=\"#000000\" fill-rule=\"evenodd\" fill-opacity=\"1\" /><path clip-path=\"url(#clip470)\" d=\"M101.756 1112.24 Q98.1447 1112.24 96.316 1115.81 Q94.5104 1119.35 94.5104 1126.48 Q94.5104 1133.59 96.316 1137.15 Q98.1447 1140.69 101.756 1140.69 Q105.39 1140.69 107.196 1137.15 Q109.024 1133.59 109.024 1126.48 Q109.024 1119.35 107.196 1115.81 Q105.39 1112.24 101.756 1112.24 M101.756 1108.54 Q107.566 1108.54 110.621 1113.15 Q113.7 1117.73 113.7 1126.48 Q113.7 1135.21 110.621 1139.81 Q107.566 1144.4 101.756 1144.4 Q95.9456 1144.4 92.8669 1139.81 Q89.8114 1135.21 89.8114 1126.48 Q89.8114 1117.73 92.8669 1113.15 Q95.9456 1108.54 101.756 1108.54 Z\" fill=\"#000000\" fill-rule=\"evenodd\" fill-opacity=\"1\" /><path clip-path=\"url(#clip470)\" d=\"M121.918 1137.85 L126.802 1137.85 L126.802 1143.73 L121.918 1143.73 L121.918 1137.85 Z\" fill=\"#000000\" fill-rule=\"evenodd\" fill-opacity=\"1\" /><path clip-path=\"url(#clip470)\" d=\"M137.033 1109.17 L155.39 1109.17 L155.39 1113.1 L141.316 1113.1 L141.316 1121.57 Q142.334 1121.23 143.353 1121.06 Q144.371 1120.88 145.39 1120.88 Q151.177 1120.88 154.556 1124.05 Q157.936 1127.22 157.936 1132.64 Q157.936 1138.22 154.464 1141.32 Q150.992 1144.4 144.672 1144.4 Q142.496 1144.4 140.228 1144.03 Q137.982 1143.66 135.575 1142.92 L135.575 1138.22 Q137.658 1139.35 139.881 1139.91 Q142.103 1140.46 144.58 1140.46 Q148.584 1140.46 150.922 1138.36 Q153.26 1136.25 153.26 1132.64 Q153.26 1129.03 150.922 1126.92 Q148.584 1124.81 144.58 1124.81 Q142.705 1124.81 140.83 1125.23 Q138.978 1125.65 137.033 1126.53 L137.033 1109.17 Z\" fill=\"#000000\" fill-rule=\"evenodd\" fill-opacity=\"1\" /><path clip-path=\"url(#clip470)\" d=\"M100.76 790.759 Q97.1493 790.759 95.3206 794.323 Q93.515 797.865 93.515 804.995 Q93.515 812.101 95.3206 815.666 Q97.1493 819.208 100.76 819.208 Q104.395 819.208 106.2 815.666 Q108.029 812.101 108.029 804.995 Q108.029 797.865 106.2 794.323 Q104.395 790.759 100.76 790.759 M100.76 787.055 Q106.571 787.055 109.626 791.661 Q112.705 796.245 112.705 804.995 Q112.705 813.722 109.626 818.328 Q106.571 822.911 100.76 822.911 Q94.9502 822.911 91.8715 818.328 Q88.816 813.722 88.816 804.995 Q88.816 796.245 91.8715 791.661 Q94.9502 787.055 100.76 787.055 Z\" fill=\"#000000\" fill-rule=\"evenodd\" fill-opacity=\"1\" /><path clip-path=\"url(#clip470)\" d=\"M120.922 816.36 L125.807 816.36 L125.807 822.24 L120.922 822.24 L120.922 816.36 Z\" fill=\"#000000\" fill-rule=\"evenodd\" fill-opacity=\"1\" /><path clip-path=\"url(#clip470)\" d=\"M145.992 790.759 Q142.381 790.759 140.552 794.323 Q138.746 797.865 138.746 804.995 Q138.746 812.101 140.552 815.666 Q142.381 819.208 145.992 819.208 Q149.626 819.208 151.431 815.666 Q153.26 812.101 153.26 804.995 Q153.26 797.865 151.431 794.323 Q149.626 790.759 145.992 790.759 M145.992 787.055 Q151.802 787.055 154.857 791.661 Q157.936 796.245 157.936 804.995 Q157.936 813.722 154.857 818.328 Q151.802 822.911 145.992 822.911 Q140.181 822.911 137.103 818.328 Q134.047 813.722 134.047 804.995 Q134.047 796.245 137.103 791.661 Q140.181 787.055 145.992 787.055 Z\" fill=\"#000000\" fill-rule=\"evenodd\" fill-opacity=\"1\" /><path clip-path=\"url(#clip470)\" d=\"M101.756 469.273 Q98.1447 469.273 96.316 472.838 Q94.5104 476.379 94.5104 483.509 Q94.5104 490.615 96.316 494.18 Q98.1447 497.722 101.756 497.722 Q105.39 497.722 107.196 494.18 Q109.024 490.615 109.024 483.509 Q109.024 476.379 107.196 472.838 Q105.39 469.273 101.756 469.273 M101.756 465.569 Q107.566 465.569 110.621 470.176 Q113.7 474.759 113.7 483.509 Q113.7 492.236 110.621 496.842 Q107.566 501.426 101.756 501.426 Q95.9456 501.426 92.8669 496.842 Q89.8114 492.236 89.8114 483.509 Q89.8114 474.759 92.8669 470.176 Q95.9456 465.569 101.756 465.569 Z\" fill=\"#000000\" fill-rule=\"evenodd\" fill-opacity=\"1\" /><path clip-path=\"url(#clip470)\" d=\"M121.918 494.875 L126.802 494.875 L126.802 500.754 L121.918 500.754 L121.918 494.875 Z\" fill=\"#000000\" fill-rule=\"evenodd\" fill-opacity=\"1\" /><path clip-path=\"url(#clip470)\" d=\"M137.033 466.194 L155.39 466.194 L155.39 470.129 L141.316 470.129 L141.316 478.602 Q142.334 478.254 143.353 478.092 Q144.371 477.907 145.39 477.907 Q151.177 477.907 154.556 481.078 Q157.936 484.25 157.936 489.666 Q157.936 495.245 154.464 498.347 Q150.992 501.426 144.672 501.426 Q142.496 501.426 140.228 501.055 Q137.982 500.685 135.575 499.944 L135.575 495.245 Q137.658 496.379 139.881 496.935 Q142.103 497.49 144.58 497.49 Q148.584 497.49 150.922 495.384 Q153.26 493.277 153.26 489.666 Q153.26 486.055 150.922 483.949 Q148.584 481.842 144.58 481.842 Q142.705 481.842 140.83 482.259 Q138.978 482.676 137.033 483.555 L137.033 466.194 Z\" fill=\"#000000\" fill-rule=\"evenodd\" fill-opacity=\"1\" /><path clip-path=\"url(#clip470)\" d=\"M91.5706 175.333 L99.2095 175.333 L99.2095 148.968 L90.8993 150.634 L90.8993 146.375 L99.1632 144.709 L103.839 144.709 L103.839 175.333 L111.478 175.333 L111.478 179.269 L91.5706 179.269 L91.5706 175.333 Z\" fill=\"#000000\" fill-rule=\"evenodd\" fill-opacity=\"1\" /><path clip-path=\"url(#clip470)\" d=\"M120.922 173.389 L125.807 173.389 L125.807 179.269 L120.922 179.269 L120.922 173.389 Z\" fill=\"#000000\" fill-rule=\"evenodd\" fill-opacity=\"1\" /><path clip-path=\"url(#clip470)\" d=\"M145.992 147.787 Q142.381 147.787 140.552 151.352 Q138.746 154.894 138.746 162.023 Q138.746 169.13 140.552 172.694 Q142.381 176.236 145.992 176.236 Q149.626 176.236 151.431 172.694 Q153.26 169.13 153.26 162.023 Q153.26 154.894 151.431 151.352 Q149.626 147.787 145.992 147.787 M145.992 144.084 Q151.802 144.084 154.857 148.69 Q157.936 153.273 157.936 162.023 Q157.936 170.75 154.857 175.357 Q151.802 179.94 145.992 179.94 Q140.181 179.94 137.103 175.357 Q134.047 170.75 134.047 162.023 Q134.047 153.273 137.103 148.69 Q140.181 144.084 145.992 144.084 Z\" fill=\"#000000\" fill-rule=\"evenodd\" fill-opacity=\"1\" /><path clip-path=\"url(#clip470)\" d=\"M495.511 14.324 L495.511 27.2059 L510.864 27.2059 L510.864 32.9987 L495.511 32.9987 L495.511 57.6282 Q495.511 63.1779 497.01 64.7578 Q498.549 66.3376 503.208 66.3376 L510.864 66.3376 L510.864 72.576 L503.208 72.576 Q494.58 72.576 491.298 69.3758 Q488.017 66.1351 488.017 57.6282 L488.017 32.9987 L482.548 32.9987 L482.548 27.2059 L488.017 27.2059 L488.017 14.324 L495.511 14.324 Z\" fill=\"#000000\" fill-rule=\"evenodd\" fill-opacity=\"1\" /><path clip-path=\"url(#clip470)\" d=\"M541.286 49.7694 Q532.253 49.7694 528.769 51.8354 Q525.285 53.9013 525.285 58.8839 Q525.285 62.8538 527.878 65.2034 Q530.511 67.5124 535.008 67.5124 Q541.205 67.5124 544.932 63.1374 Q548.7 58.7219 548.7 51.4303 L548.7 49.7694 L541.286 49.7694 M556.153 46.6907 L556.153 72.576 L548.7 72.576 L548.7 65.6895 Q546.148 69.8214 542.34 71.8063 Q538.532 73.7508 533.023 73.7508 Q526.055 73.7508 521.923 69.8619 Q517.832 65.9325 517.832 59.3701 Q517.832 51.7138 522.936 47.825 Q528.081 43.9361 538.248 43.9361 L548.7 43.9361 L548.7 43.2069 Q548.7 38.0623 545.297 35.2672 Q541.935 32.4315 535.818 32.4315 Q531.929 32.4315 528.243 33.3632 Q524.556 34.295 521.153 36.1584 L521.153 29.2718 Q525.245 27.692 529.093 26.9223 Q532.942 26.1121 536.587 26.1121 Q546.431 26.1121 551.292 31.2163 Q556.153 36.3204 556.153 46.6907 Z\" fill=\"#000000\" fill-rule=\"evenodd\" fill-opacity=\"1\" /><path clip-path=\"url(#clip470)\" d=\"M609.22 45.1919 L609.22 72.576 L601.766 72.576 L601.766 45.4349 Q601.766 38.994 599.255 35.7938 Q596.743 32.5936 591.72 32.5936 Q585.684 32.5936 582.201 36.4419 Q578.717 40.2903 578.717 46.9338 L578.717 72.576 L571.223 72.576 L571.223 27.2059 L578.717 27.2059 L578.717 34.2544 Q581.39 30.163 584.996 28.1376 Q588.642 26.1121 593.381 26.1121 Q601.199 26.1121 605.21 30.9732 Q609.22 35.7938 609.22 45.1919 Z\" fill=\"#000000\" fill-rule=\"evenodd\" fill-opacity=\"1\" /><path clip-path=\"url(#clip470)\" d=\"M661.801 45.1919 L661.801 72.576 L654.347 72.576 L654.347 45.4349 Q654.347 38.994 651.836 35.7938 Q649.324 32.5936 644.301 32.5936 Q638.265 32.5936 634.781 36.4419 Q631.298 40.2903 631.298 46.9338 L631.298 72.576 L623.803 72.576 L623.803 9.54393 L631.298 9.54393 L631.298 34.2544 Q633.971 30.163 637.576 28.1376 Q641.222 26.1121 645.962 26.1121 Q653.78 26.1121 657.79 30.9732 Q661.801 35.7938 661.801 45.1919 Z\" fill=\"#000000\" fill-rule=\"evenodd\" fill-opacity=\"1\" /><path clip-path=\"url(#clip470)\" d=\"M711.141 86.3491 L711.141 92.1419 L668.039 92.1419 L668.039 86.3491 L711.141 86.3491 Z\" fill=\"#000000\" fill-rule=\"evenodd\" fill-opacity=\"1\" /><path clip-path=\"url(#clip470)\" d=\"M741.118 9.54393 L741.118 15.7418 L733.988 15.7418 Q729.978 15.7418 728.398 17.3622 Q726.858 18.9825 726.858 23.1955 L726.858 27.2059 L739.133 27.2059 L739.133 32.9987 L726.858 32.9987 L726.858 72.576 L719.364 72.576 L719.364 32.9987 L712.235 32.9987 L712.235 27.2059 L719.364 27.2059 L719.364 24.0462 Q719.364 16.471 722.889 13.0277 Q726.413 9.54393 734.069 9.54393 L741.118 9.54393 Z\" fill=\"#000000\" fill-rule=\"evenodd\" fill-opacity=\"1\" /><path clip-path=\"url(#clip470)\" d=\"M767.975 49.7694 Q758.942 49.7694 755.458 51.8354 Q751.974 53.9013 751.974 58.8839 Q751.974 62.8538 754.567 65.2034 Q757.2 67.5124 761.696 67.5124 Q767.894 67.5124 771.621 63.1374 Q775.388 58.7219 775.388 51.4303 L775.388 49.7694 L767.975 49.7694 M782.842 46.6907 L782.842 72.576 L775.388 72.576 L775.388 65.6895 Q772.836 69.8214 769.028 71.8063 Q765.22 73.7508 759.711 73.7508 Q752.744 73.7508 748.612 69.8619 Q744.52 65.9325 744.52 59.3701 Q744.52 51.7138 749.624 47.825 Q754.769 43.9361 764.937 43.9361 L775.388 43.9361 L775.388 43.2069 Q775.388 38.0623 771.985 35.2672 Q768.623 32.4315 762.506 32.4315 Q758.617 32.4315 754.931 33.3632 Q751.245 34.295 747.842 36.1584 L747.842 29.2718 Q751.933 27.692 755.782 26.9223 Q759.63 26.1121 763.276 26.1121 Q773.12 26.1121 777.981 31.2163 Q782.842 36.3204 782.842 46.6907 Z\" fill=\"#000000\" fill-rule=\"evenodd\" fill-opacity=\"1\" /><path clip-path=\"url(#clip470)\" d=\"M827.118 28.5427 L827.118 35.5912 Q823.959 33.9709 820.556 33.1607 Q817.153 32.3505 813.507 32.3505 Q807.957 32.3505 805.162 34.0519 Q802.408 35.7533 802.408 39.156 Q802.408 41.7486 804.393 43.2475 Q806.378 44.7058 812.373 46.0426 L814.925 46.6097 Q822.865 48.3111 826.187 51.4303 Q829.549 54.509 829.549 60.0587 Q829.549 66.3781 824.526 70.0644 Q819.543 73.7508 810.793 73.7508 Q807.147 73.7508 803.177 73.0216 Q799.248 72.3329 794.873 70.9151 L794.873 63.2184 Q799.005 65.3654 803.015 66.4591 Q807.026 67.5124 810.955 67.5124 Q816.221 67.5124 819.057 65.73 Q821.893 63.9071 821.893 60.6258 Q821.893 57.5877 819.827 55.9673 Q817.801 54.3469 810.874 52.8481 L808.282 52.2405 Q801.355 50.7821 798.276 47.7845 Q795.197 44.7463 795.197 39.4801 Q795.197 33.0797 799.734 29.5959 Q804.271 26.1121 812.616 26.1121 Q816.748 26.1121 820.394 26.7198 Q824.04 27.3274 827.118 28.5427 Z\" fill=\"#000000\" fill-rule=\"evenodd\" fill-opacity=\"1\" /><path clip-path=\"url(#clip470)\" d=\"M848.791 14.324 L848.791 27.2059 L864.144 27.2059 L864.144 32.9987 L848.791 32.9987 L848.791 57.6282 Q848.791 63.1779 850.289 64.7578 Q851.829 66.3376 856.487 66.3376 L864.144 66.3376 L864.144 72.576 L856.487 72.576 Q847.859 72.576 844.578 69.3758 Q841.296 66.1351 841.296 57.6282 L841.296 32.9987 L835.828 32.9987 L835.828 27.2059 L841.296 27.2059 L841.296 14.324 L848.791 14.324 Z\" fill=\"#000000\" fill-rule=\"evenodd\" fill-opacity=\"1\" /><polyline clip-path=\"url(#clip472)\" style=\"stroke:#009af9; stroke-linecap:round; stroke-linejoin:round; stroke-width:4; stroke-opacity:1; fill:none\" points=\"\n",
       "  221.072,1447.87 230.118,1447.86 239.163,1447.84 248.209,1447.83 257.254,1447.8 266.3,1447.77 275.345,1447.74 284.391,1447.69 293.436,1447.64 302.482,1447.58 \n",
       "  311.527,1447.5 320.573,1447.4 329.618,1447.29 338.664,1447.15 347.709,1446.97 356.754,1446.76 365.8,1446.5 374.845,1446.18 383.891,1445.8 392.936,1445.33 \n",
       "  401.982,1444.75 411.027,1444.05 420.073,1443.19 429.118,1442.15 438.164,1440.88 447.209,1439.32 456.255,1437.43 465.3,1435.13 474.346,1432.33 483.391,1428.93 \n",
       "  492.437,1424.8 501.482,1419.79 510.527,1413.73 519.573,1406.4 528.618,1397.57 537.664,1386.94 546.709,1374.22 555.755,1359.02 564.8,1340.98 573.846,1319.66 \n",
       "  582.891,1294.64 591.937,1265.52 600.982,1231.92 610.028,1193.55 619.073,1150.27 628.119,1102.09 637.164,1049.26 646.21,992.266 655.255,931.867 664.3,869.044 \n",
       "  673.346,804.96 682.391,740.876 691.437,678.053 700.482,617.654 709.528,560.664 718.573,507.832 727.619,459.652 736.664,416.369 745.71,378.003 754.755,344.401 \n",
       "  763.801,315.277 772.846,290.262 781.892,268.944 790.937,250.897 799.983,235.704 809.028,222.975 818.073,212.353 827.119,203.519 836.164,196.191 845.21,190.127 \n",
       "  854.255,185.118 863.301,180.987 872.346,177.585 881.392,174.786 890.437,172.485 899.483,170.595 908.528,169.044 917.574,167.77 926.619,166.726 935.665,165.87 \n",
       "  944.71,165.168 953.756,164.593 962.801,164.122 971.846,163.736 980.892,163.419 989.937,163.16 998.983,162.948 1008.03,162.774 1017.07,162.632 1026.12,162.515 \n",
       "  1035.16,162.42 1044.21,162.342 1053.26,162.278 1062.3,162.225 1071.35,162.182 1080.39,162.147 1089.44,162.118 1098.48,162.095 1107.53,162.076 1116.57,162.06 \n",
       "  1125.62,162.047 \n",
       "  \"/>\n",
       "<path clip-path=\"url(#clip470)\" d=\"\n",
       "M961.829 272.585 L1120.8 272.585 L1120.8 168.905 L961.829 168.905  Z\n",
       "  \" fill=\"#ffffff\" fill-rule=\"evenodd\" fill-opacity=\"1\"/>\n",
       "<polyline clip-path=\"url(#clip470)\" style=\"stroke:#000000; stroke-linecap:round; stroke-linejoin:round; stroke-width:4; stroke-opacity:1; fill:none\" points=\"\n",
       "  961.829,272.585 1120.8,272.585 1120.8,168.905 961.829,168.905 961.829,272.585 \n",
       "  \"/>\n",
       "<polyline clip-path=\"url(#clip470)\" style=\"stroke:#009af9; stroke-linecap:round; stroke-linejoin:round; stroke-width:4; stroke-opacity:1; fill:none\" points=\"\n",
       "  972.483,220.745 1036.4,220.745 \n",
       "  \"/>\n",
       "<path clip-path=\"url(#clip470)\" d=\"M1060.9 240.432 Q1059.09 245.062 1057.38 246.474 Q1055.67 247.886 1052.8 247.886 L1049.4 247.886 L1049.4 244.321 L1051.9 244.321 Q1053.66 244.321 1054.63 243.488 Q1055.6 242.654 1056.78 239.552 L1057.54 237.608 L1047.06 212.099 L1051.57 212.099 L1059.67 232.377 L1067.78 212.099 L1072.29 212.099 L1060.9 240.432 Z\" fill=\"#000000\" fill-rule=\"evenodd\" fill-opacity=\"1\" /><path clip-path=\"url(#clip470)\" d=\"M1079.58 234.089 L1087.22 234.089 L1087.22 207.724 L1078.91 209.391 L1078.91 205.131 L1087.17 203.465 L1091.85 203.465 L1091.85 234.089 L1099.49 234.089 L1099.49 238.025 L1079.58 238.025 L1079.58 234.089 Z\" fill=\"#000000\" fill-rule=\"evenodd\" fill-opacity=\"1\" /><path clip-path=\"url(#clip470)\" d=\"\n",
       "M1393.94 1486.45 L2352.76 1486.45 L2352.76 123.472 L1393.94 123.472  Z\n",
       "  \" fill=\"#ffffff\" fill-rule=\"evenodd\" fill-opacity=\"1\"/>\n",
       "<defs>\n",
       "  <clipPath id=\"clip473\">\n",
       "    <rect x=\"1393\" y=\"123\" width=\"960\" height=\"1364\"/>\n",
       "  </clipPath>\n",
       "</defs>\n",
       "<polyline clip-path=\"url(#clip473)\" style=\"stroke:#000000; stroke-linecap:round; stroke-linejoin:round; stroke-width:2; stroke-opacity:0.1; fill:none\" points=\"\n",
       "  1511.53,1486.45 1511.53,123.472 \n",
       "  \"/>\n",
       "<polyline clip-path=\"url(#clip473)\" style=\"stroke:#000000; stroke-linecap:round; stroke-linejoin:round; stroke-width:2; stroke-opacity:0.1; fill:none\" points=\"\n",
       "  1692.44,1486.45 1692.44,123.472 \n",
       "  \"/>\n",
       "<polyline clip-path=\"url(#clip473)\" style=\"stroke:#000000; stroke-linecap:round; stroke-linejoin:round; stroke-width:2; stroke-opacity:0.1; fill:none\" points=\"\n",
       "  1873.35,1486.45 1873.35,123.472 \n",
       "  \"/>\n",
       "<polyline clip-path=\"url(#clip473)\" style=\"stroke:#000000; stroke-linecap:round; stroke-linejoin:round; stroke-width:2; stroke-opacity:0.1; fill:none\" points=\"\n",
       "  2054.26,1486.45 2054.26,123.472 \n",
       "  \"/>\n",
       "<polyline clip-path=\"url(#clip473)\" style=\"stroke:#000000; stroke-linecap:round; stroke-linejoin:round; stroke-width:2; stroke-opacity:0.1; fill:none\" points=\"\n",
       "  2235.16,1486.45 2235.16,123.472 \n",
       "  \"/>\n",
       "<polyline clip-path=\"url(#clip470)\" style=\"stroke:#000000; stroke-linecap:round; stroke-linejoin:round; stroke-width:4; stroke-opacity:1; fill:none\" points=\"\n",
       "  1393.94,1486.45 2352.76,1486.45 \n",
       "  \"/>\n",
       "<polyline clip-path=\"url(#clip470)\" style=\"stroke:#000000; stroke-linecap:round; stroke-linejoin:round; stroke-width:4; stroke-opacity:1; fill:none\" points=\"\n",
       "  1511.53,1486.45 1511.53,1467.55 \n",
       "  \"/>\n",
       "<polyline clip-path=\"url(#clip470)\" style=\"stroke:#000000; stroke-linecap:round; stroke-linejoin:round; stroke-width:4; stroke-opacity:1; fill:none\" points=\"\n",
       "  1692.44,1486.45 1692.44,1467.55 \n",
       "  \"/>\n",
       "<polyline clip-path=\"url(#clip470)\" style=\"stroke:#000000; stroke-linecap:round; stroke-linejoin:round; stroke-width:4; stroke-opacity:1; fill:none\" points=\"\n",
       "  1873.35,1486.45 1873.35,1467.55 \n",
       "  \"/>\n",
       "<polyline clip-path=\"url(#clip470)\" style=\"stroke:#000000; stroke-linecap:round; stroke-linejoin:round; stroke-width:4; stroke-opacity:1; fill:none\" points=\"\n",
       "  2054.26,1486.45 2054.26,1467.55 \n",
       "  \"/>\n",
       "<polyline clip-path=\"url(#clip470)\" style=\"stroke:#000000; stroke-linecap:round; stroke-linejoin:round; stroke-width:4; stroke-opacity:1; fill:none\" points=\"\n",
       "  2235.16,1486.45 2235.16,1467.55 \n",
       "  \"/>\n",
       "<path clip-path=\"url(#clip470)\" d=\"M1480.43 1532.02 L1510.1 1532.02 L1510.1 1535.95 L1480.43 1535.95 L1480.43 1532.02 Z\" fill=\"#000000\" fill-rule=\"evenodd\" fill-opacity=\"1\" /><path clip-path=\"url(#clip470)\" d=\"M1533.04 1518.36 L1521.24 1536.81 L1533.04 1536.81 L1533.04 1518.36 M1531.82 1514.29 L1537.7 1514.29 L1537.7 1536.81 L1542.63 1536.81 L1542.63 1540.7 L1537.7 1540.7 L1537.7 1548.85 L1533.04 1548.85 L1533.04 1540.7 L1517.44 1540.7 L1517.44 1536.19 L1531.82 1514.29 Z\" fill=\"#000000\" fill-rule=\"evenodd\" fill-opacity=\"1\" /><path clip-path=\"url(#clip470)\" d=\"M1662.38 1532.02 L1692.05 1532.02 L1692.05 1535.95 L1662.38 1535.95 L1662.38 1532.02 Z\" fill=\"#000000\" fill-rule=\"evenodd\" fill-opacity=\"1\" /><path clip-path=\"url(#clip470)\" d=\"M1706.17 1544.91 L1722.49 1544.91 L1722.49 1548.85 L1700.55 1548.85 L1700.55 1544.91 Q1703.21 1542.16 1707.8 1537.53 Q1712.4 1532.88 1713.58 1531.53 Q1715.83 1529.01 1716.71 1527.27 Q1717.61 1525.51 1717.61 1523.82 Q1717.61 1521.07 1715.67 1519.33 Q1713.74 1517.6 1710.64 1517.6 Q1708.44 1517.6 1705.99 1518.36 Q1703.56 1519.13 1700.78 1520.68 L1700.78 1515.95 Q1703.61 1514.82 1706.06 1514.24 Q1708.51 1513.66 1710.55 1513.66 Q1715.92 1513.66 1719.11 1516.35 Q1722.31 1519.03 1722.31 1523.52 Q1722.31 1525.65 1721.5 1527.57 Q1720.71 1529.47 1718.61 1532.07 Q1718.03 1532.74 1714.92 1535.95 Q1711.82 1539.15 1706.17 1544.91 Z\" fill=\"#000000\" fill-rule=\"evenodd\" fill-opacity=\"1\" /><path clip-path=\"url(#clip470)\" d=\"M1873.35 1517.37 Q1869.73 1517.37 1867.91 1520.93 Q1866.1 1524.47 1866.1 1531.6 Q1866.1 1538.71 1867.91 1542.27 Q1869.73 1545.82 1873.35 1545.82 Q1876.98 1545.82 1878.79 1542.27 Q1880.61 1538.71 1880.61 1531.6 Q1880.61 1524.47 1878.79 1520.93 Q1876.98 1517.37 1873.35 1517.37 M1873.35 1513.66 Q1879.16 1513.66 1882.21 1518.27 Q1885.29 1522.85 1885.29 1531.6 Q1885.29 1540.33 1882.21 1544.94 Q1879.16 1549.52 1873.35 1549.52 Q1867.54 1549.52 1864.46 1544.94 Q1861.4 1540.33 1861.4 1531.6 Q1861.4 1522.85 1864.46 1518.27 Q1867.54 1513.66 1873.35 1513.66 Z\" fill=\"#000000\" fill-rule=\"evenodd\" fill-opacity=\"1\" /><path clip-path=\"url(#clip470)\" d=\"M2048.91 1544.91 L2065.23 1544.91 L2065.23 1548.85 L2043.28 1548.85 L2043.28 1544.91 Q2045.95 1542.16 2050.53 1537.53 Q2055.13 1532.88 2056.32 1531.53 Q2058.56 1529.01 2059.44 1527.27 Q2060.34 1525.51 2060.34 1523.82 Q2060.34 1521.07 2058.4 1519.33 Q2056.48 1517.6 2053.38 1517.6 Q2051.18 1517.6 2048.72 1518.36 Q2046.29 1519.13 2043.51 1520.68 L2043.51 1515.95 Q2046.34 1514.82 2048.79 1514.24 Q2051.25 1513.66 2053.28 1513.66 Q2058.65 1513.66 2061.85 1516.35 Q2065.04 1519.03 2065.04 1523.52 Q2065.04 1525.65 2064.23 1527.57 Q2063.45 1529.47 2061.34 1532.07 Q2060.76 1532.74 2057.66 1535.95 Q2054.56 1539.15 2048.91 1544.91 Z\" fill=\"#000000\" fill-rule=\"evenodd\" fill-opacity=\"1\" /><path clip-path=\"url(#clip470)\" d=\"M2238.17 1518.36 L2226.37 1536.81 L2238.17 1536.81 L2238.17 1518.36 M2236.95 1514.29 L2242.83 1514.29 L2242.83 1536.81 L2247.76 1536.81 L2247.76 1540.7 L2242.83 1540.7 L2242.83 1548.85 L2238.17 1548.85 L2238.17 1540.7 L2222.57 1540.7 L2222.57 1536.19 L2236.95 1514.29 Z\" fill=\"#000000\" fill-rule=\"evenodd\" fill-opacity=\"1\" /><polyline clip-path=\"url(#clip473)\" style=\"stroke:#000000; stroke-linecap:round; stroke-linejoin:round; stroke-width:2; stroke-opacity:0.1; fill:none\" points=\"\n",
       "  1393.94,1447.87 2352.76,1447.87 \n",
       "  \"/>\n",
       "<polyline clip-path=\"url(#clip473)\" style=\"stroke:#000000; stroke-linecap:round; stroke-linejoin:round; stroke-width:2; stroke-opacity:0.1; fill:none\" points=\"\n",
       "  1393.94,1126.42 2352.76,1126.42 \n",
       "  \"/>\n",
       "<polyline clip-path=\"url(#clip473)\" style=\"stroke:#000000; stroke-linecap:round; stroke-linejoin:round; stroke-width:2; stroke-opacity:0.1; fill:none\" points=\"\n",
       "  1393.94,804.96 2352.76,804.96 \n",
       "  \"/>\n",
       "<polyline clip-path=\"url(#clip473)\" style=\"stroke:#000000; stroke-linecap:round; stroke-linejoin:round; stroke-width:2; stroke-opacity:0.1; fill:none\" points=\"\n",
       "  1393.94,483.503 2352.76,483.503 \n",
       "  \"/>\n",
       "<polyline clip-path=\"url(#clip473)\" style=\"stroke:#000000; stroke-linecap:round; stroke-linejoin:round; stroke-width:2; stroke-opacity:0.1; fill:none\" points=\"\n",
       "  1393.94,162.047 2352.76,162.047 \n",
       "  \"/>\n",
       "<polyline clip-path=\"url(#clip470)\" style=\"stroke:#000000; stroke-linecap:round; stroke-linejoin:round; stroke-width:4; stroke-opacity:1; fill:none\" points=\"\n",
       "  1393.94,1486.45 1393.94,123.472 \n",
       "  \"/>\n",
       "<polyline clip-path=\"url(#clip470)\" style=\"stroke:#000000; stroke-linecap:round; stroke-linejoin:round; stroke-width:4; stroke-opacity:1; fill:none\" points=\"\n",
       "  1393.94,1447.87 1412.83,1447.87 \n",
       "  \"/>\n",
       "<polyline clip-path=\"url(#clip470)\" style=\"stroke:#000000; stroke-linecap:round; stroke-linejoin:round; stroke-width:4; stroke-opacity:1; fill:none\" points=\"\n",
       "  1393.94,1126.42 1412.83,1126.42 \n",
       "  \"/>\n",
       "<polyline clip-path=\"url(#clip470)\" style=\"stroke:#000000; stroke-linecap:round; stroke-linejoin:round; stroke-width:4; stroke-opacity:1; fill:none\" points=\"\n",
       "  1393.94,804.96 1412.83,804.96 \n",
       "  \"/>\n",
       "<polyline clip-path=\"url(#clip470)\" style=\"stroke:#000000; stroke-linecap:round; stroke-linejoin:round; stroke-width:4; stroke-opacity:1; fill:none\" points=\"\n",
       "  1393.94,483.503 1412.83,483.503 \n",
       "  \"/>\n",
       "<polyline clip-path=\"url(#clip470)\" style=\"stroke:#000000; stroke-linecap:round; stroke-linejoin:round; stroke-width:4; stroke-opacity:1; fill:none\" points=\"\n",
       "  1393.94,162.047 1412.83,162.047 \n",
       "  \"/>\n",
       "<path clip-path=\"url(#clip470)\" d=\"M1250.99 1448.32 L1280.67 1448.32 L1280.67 1452.26 L1250.99 1452.26 L1250.99 1448.32 Z\" fill=\"#000000\" fill-rule=\"evenodd\" fill-opacity=\"1\" /><path clip-path=\"url(#clip470)\" d=\"M1291.57 1461.22 L1299.21 1461.22 L1299.21 1434.85 L1290.9 1436.52 L1290.9 1432.26 L1299.16 1430.59 L1303.84 1430.59 L1303.84 1461.22 L1311.48 1461.22 L1311.48 1465.15 L1291.57 1465.15 L1291.57 1461.22 Z\" fill=\"#000000\" fill-rule=\"evenodd\" fill-opacity=\"1\" /><path clip-path=\"url(#clip470)\" d=\"M1320.92 1459.27 L1325.81 1459.27 L1325.81 1465.15 L1320.92 1465.15 L1320.92 1459.27 Z\" fill=\"#000000\" fill-rule=\"evenodd\" fill-opacity=\"1\" /><path clip-path=\"url(#clip470)\" d=\"M1345.99 1433.67 Q1342.38 1433.67 1340.55 1437.24 Q1338.75 1440.78 1338.75 1447.91 Q1338.75 1455.01 1340.55 1458.58 Q1342.38 1462.12 1345.99 1462.12 Q1349.63 1462.12 1351.43 1458.58 Q1353.26 1455.01 1353.26 1447.91 Q1353.26 1440.78 1351.43 1437.24 Q1349.63 1433.67 1345.99 1433.67 M1345.99 1429.97 Q1351.8 1429.97 1354.86 1434.57 Q1357.94 1439.16 1357.94 1447.91 Q1357.94 1456.63 1354.86 1461.24 Q1351.8 1465.82 1345.99 1465.82 Q1340.18 1465.82 1337.1 1461.24 Q1334.05 1456.63 1334.05 1447.91 Q1334.05 1439.16 1337.1 1434.57 Q1340.18 1429.97 1345.99 1429.97 Z\" fill=\"#000000\" fill-rule=\"evenodd\" fill-opacity=\"1\" /><path clip-path=\"url(#clip470)\" d=\"M1251.99 1126.87 L1281.66 1126.87 L1281.66 1130.8 L1251.99 1130.8 L1251.99 1126.87 Z\" fill=\"#000000\" fill-rule=\"evenodd\" fill-opacity=\"1\" /><path clip-path=\"url(#clip470)\" d=\"M1301.76 1112.22 Q1298.14 1112.22 1296.32 1115.78 Q1294.51 1119.32 1294.51 1126.45 Q1294.51 1133.56 1296.32 1137.12 Q1298.14 1140.66 1301.76 1140.66 Q1305.39 1140.66 1307.2 1137.12 Q1309.02 1133.56 1309.02 1126.45 Q1309.02 1119.32 1307.2 1115.78 Q1305.39 1112.22 1301.76 1112.22 M1301.76 1108.51 Q1307.57 1108.51 1310.62 1113.12 Q1313.7 1117.7 1313.7 1126.45 Q1313.7 1135.18 1310.62 1139.78 Q1307.57 1144.37 1301.76 1144.37 Q1295.95 1144.37 1292.87 1139.78 Q1289.81 1135.18 1289.81 1126.45 Q1289.81 1117.7 1292.87 1113.12 Q1295.95 1108.51 1301.76 1108.51 Z\" fill=\"#000000\" fill-rule=\"evenodd\" fill-opacity=\"1\" /><path clip-path=\"url(#clip470)\" d=\"M1321.92 1137.82 L1326.8 1137.82 L1326.8 1143.7 L1321.92 1143.7 L1321.92 1137.82 Z\" fill=\"#000000\" fill-rule=\"evenodd\" fill-opacity=\"1\" /><path clip-path=\"url(#clip470)\" d=\"M1337.03 1109.14 L1355.39 1109.14 L1355.39 1113.07 L1341.32 1113.07 L1341.32 1121.54 Q1342.33 1121.2 1343.35 1121.03 Q1344.37 1120.85 1345.39 1120.85 Q1351.18 1120.85 1354.56 1124.02 Q1357.94 1127.19 1357.94 1132.61 Q1357.94 1138.19 1354.46 1141.29 Q1350.99 1144.37 1344.67 1144.37 Q1342.5 1144.37 1340.23 1144 Q1337.98 1143.63 1335.58 1142.89 L1335.58 1138.19 Q1337.66 1139.32 1339.88 1139.88 Q1342.1 1140.43 1344.58 1140.43 Q1348.58 1140.43 1350.92 1138.33 Q1353.26 1136.22 1353.26 1132.61 Q1353.26 1129 1350.92 1126.89 Q1348.58 1124.78 1344.58 1124.78 Q1342.7 1124.78 1340.83 1125.2 Q1338.98 1125.62 1337.03 1126.5 L1337.03 1109.14 Z\" fill=\"#000000\" fill-rule=\"evenodd\" fill-opacity=\"1\" /><path clip-path=\"url(#clip470)\" d=\"M1300.76 790.759 Q1297.15 790.759 1295.32 794.323 Q1293.52 797.865 1293.52 804.995 Q1293.52 812.101 1295.32 815.666 Q1297.15 819.208 1300.76 819.208 Q1304.39 819.208 1306.2 815.666 Q1308.03 812.101 1308.03 804.995 Q1308.03 797.865 1306.2 794.323 Q1304.39 790.759 1300.76 790.759 M1300.76 787.055 Q1306.57 787.055 1309.63 791.661 Q1312.7 796.245 1312.7 804.995 Q1312.7 813.722 1309.63 818.328 Q1306.57 822.911 1300.76 822.911 Q1294.95 822.911 1291.87 818.328 Q1288.82 813.722 1288.82 804.995 Q1288.82 796.245 1291.87 791.661 Q1294.95 787.055 1300.76 787.055 Z\" fill=\"#000000\" fill-rule=\"evenodd\" fill-opacity=\"1\" /><path clip-path=\"url(#clip470)\" d=\"M1320.92 816.36 L1325.81 816.36 L1325.81 822.24 L1320.92 822.24 L1320.92 816.36 Z\" fill=\"#000000\" fill-rule=\"evenodd\" fill-opacity=\"1\" /><path clip-path=\"url(#clip470)\" d=\"M1345.99 790.759 Q1342.38 790.759 1340.55 794.323 Q1338.75 797.865 1338.75 804.995 Q1338.75 812.101 1340.55 815.666 Q1342.38 819.208 1345.99 819.208 Q1349.63 819.208 1351.43 815.666 Q1353.26 812.101 1353.26 804.995 Q1353.26 797.865 1351.43 794.323 Q1349.63 790.759 1345.99 790.759 M1345.99 787.055 Q1351.8 787.055 1354.86 791.661 Q1357.94 796.245 1357.94 804.995 Q1357.94 813.722 1354.86 818.328 Q1351.8 822.911 1345.99 822.911 Q1340.18 822.911 1337.1 818.328 Q1334.05 813.722 1334.05 804.995 Q1334.05 796.245 1337.1 791.661 Q1340.18 787.055 1345.99 787.055 Z\" fill=\"#000000\" fill-rule=\"evenodd\" fill-opacity=\"1\" /><path clip-path=\"url(#clip470)\" d=\"M1301.76 469.302 Q1298.14 469.302 1296.32 472.867 Q1294.51 476.409 1294.51 483.538 Q1294.51 490.645 1296.32 494.209 Q1298.14 497.751 1301.76 497.751 Q1305.39 497.751 1307.2 494.209 Q1309.02 490.645 1309.02 483.538 Q1309.02 476.409 1307.2 472.867 Q1305.39 469.302 1301.76 469.302 M1301.76 465.598 Q1307.57 465.598 1310.62 470.205 Q1313.7 474.788 1313.7 483.538 Q1313.7 492.265 1310.62 496.871 Q1307.57 501.455 1301.76 501.455 Q1295.95 501.455 1292.87 496.871 Q1289.81 492.265 1289.81 483.538 Q1289.81 474.788 1292.87 470.205 Q1295.95 465.598 1301.76 465.598 Z\" fill=\"#000000\" fill-rule=\"evenodd\" fill-opacity=\"1\" /><path clip-path=\"url(#clip470)\" d=\"M1321.92 494.904 L1326.8 494.904 L1326.8 500.783 L1321.92 500.783 L1321.92 494.904 Z\" fill=\"#000000\" fill-rule=\"evenodd\" fill-opacity=\"1\" /><path clip-path=\"url(#clip470)\" d=\"M1337.03 466.223 L1355.39 466.223 L1355.39 470.159 L1341.32 470.159 L1341.32 478.631 Q1342.33 478.284 1343.35 478.122 Q1344.37 477.936 1345.39 477.936 Q1351.18 477.936 1354.56 481.108 Q1357.94 484.279 1357.94 489.696 Q1357.94 495.274 1354.46 498.376 Q1350.99 501.455 1344.67 501.455 Q1342.5 501.455 1340.23 501.084 Q1337.98 500.714 1335.58 499.973 L1335.58 495.274 Q1337.66 496.408 1339.88 496.964 Q1342.1 497.52 1344.58 497.52 Q1348.58 497.52 1350.92 495.413 Q1353.26 493.307 1353.26 489.696 Q1353.26 486.084 1350.92 483.978 Q1348.58 481.872 1344.58 481.872 Q1342.7 481.872 1340.83 482.288 Q1338.98 482.705 1337.03 483.584 L1337.03 466.223 Z\" fill=\"#000000\" fill-rule=\"evenodd\" fill-opacity=\"1\" /><path clip-path=\"url(#clip470)\" d=\"M1291.57 175.392 L1299.21 175.392 L1299.21 149.026 L1290.9 150.693 L1290.9 146.434 L1299.16 144.767 L1303.84 144.767 L1303.84 175.392 L1311.48 175.392 L1311.48 179.327 L1291.57 179.327 L1291.57 175.392 Z\" fill=\"#000000\" fill-rule=\"evenodd\" fill-opacity=\"1\" /><path clip-path=\"url(#clip470)\" d=\"M1320.92 173.447 L1325.81 173.447 L1325.81 179.327 L1320.92 179.327 L1320.92 173.447 Z\" fill=\"#000000\" fill-rule=\"evenodd\" fill-opacity=\"1\" /><path clip-path=\"url(#clip470)\" d=\"M1345.99 147.846 Q1342.38 147.846 1340.55 151.41 Q1338.75 154.952 1338.75 162.082 Q1338.75 169.188 1340.55 172.753 Q1342.38 176.295 1345.99 176.295 Q1349.63 176.295 1351.43 172.753 Q1353.26 169.188 1353.26 162.082 Q1353.26 154.952 1351.43 151.41 Q1349.63 147.846 1345.99 147.846 M1345.99 144.142 Q1351.8 144.142 1354.86 148.748 Q1357.94 153.332 1357.94 162.082 Q1357.94 170.808 1354.86 175.415 Q1351.8 179.998 1345.99 179.998 Q1340.18 179.998 1337.1 175.415 Q1334.05 170.808 1334.05 162.082 Q1334.05 153.332 1337.1 148.748 Q1340.18 144.142 1345.99 144.142 Z\" fill=\"#000000\" fill-rule=\"evenodd\" fill-opacity=\"1\" /><path clip-path=\"url(#clip470)\" d=\"M1730 45.1919 L1730 72.576 L1722.55 72.576 L1722.55 45.4349 Q1722.55 38.994 1720.04 35.7938 Q1717.53 32.5936 1712.5 32.5936 Q1706.47 32.5936 1702.99 36.4419 Q1699.5 40.2903 1699.5 46.9338 L1699.5 72.576 L1692.01 72.576 L1692.01 9.54393 L1699.5 9.54393 L1699.5 34.2544 Q1702.17 30.163 1705.78 28.1376 Q1709.43 26.1121 1714.17 26.1121 Q1721.98 26.1121 1725.99 30.9732 Q1730 35.7938 1730 45.1919 Z\" fill=\"#000000\" fill-rule=\"evenodd\" fill-opacity=\"1\" /><path clip-path=\"url(#clip470)\" d=\"M1765.49 49.7694 Q1756.46 49.7694 1752.97 51.8354 Q1749.49 53.9013 1749.49 58.8839 Q1749.49 62.8538 1752.08 65.2034 Q1754.72 67.5124 1759.21 67.5124 Q1765.41 67.5124 1769.14 63.1374 Q1772.9 58.7219 1772.9 51.4303 L1772.9 49.7694 L1765.49 49.7694 M1780.36 46.6907 L1780.36 72.576 L1772.9 72.576 L1772.9 65.6895 Q1770.35 69.8214 1766.54 71.8063 Q1762.74 73.7508 1757.23 73.7508 Q1750.26 73.7508 1746.13 69.8619 Q1742.04 65.9325 1742.04 59.3701 Q1742.04 51.7138 1747.14 47.825 Q1752.28 43.9361 1762.45 43.9361 L1772.9 43.9361 L1772.9 43.2069 Q1772.9 38.0623 1769.5 35.2672 Q1766.14 32.4315 1760.02 32.4315 Q1756.13 32.4315 1752.45 33.3632 Q1748.76 34.295 1745.36 36.1584 L1745.36 29.2718 Q1749.45 27.692 1753.3 26.9223 Q1757.15 26.1121 1760.79 26.1121 Q1770.64 26.1121 1775.5 31.2163 Q1780.36 36.3204 1780.36 46.6907 Z\" fill=\"#000000\" fill-rule=\"evenodd\" fill-opacity=\"1\" /><path clip-path=\"url(#clip470)\" d=\"M1822 34.1734 Q1820.74 33.4443 1819.25 33.1202 Q1817.79 32.7556 1816.01 32.7556 Q1809.69 32.7556 1806.28 36.8875 Q1802.92 40.9789 1802.92 48.6757 L1802.92 72.576 L1795.43 72.576 L1795.43 27.2059 L1802.92 27.2059 L1802.92 34.2544 Q1805.27 30.1225 1809.04 28.1376 Q1812.81 26.1121 1818.19 26.1121 Q1818.96 26.1121 1819.89 26.2337 Q1820.83 26.3147 1821.96 26.5172 L1822 34.1734 Z\" fill=\"#000000\" fill-rule=\"evenodd\" fill-opacity=\"1\" /><path clip-path=\"url(#clip470)\" d=\"M1858.22 34.0924 L1858.22 9.54393 L1865.67 9.54393 L1865.67 72.576 L1858.22 72.576 L1858.22 65.7705 Q1855.87 69.8214 1852.26 71.8063 Q1848.7 73.7508 1843.67 73.7508 Q1835.45 73.7508 1830.26 67.1883 Q1825.12 60.6258 1825.12 49.9314 Q1825.12 39.2371 1830.26 32.6746 Q1835.45 26.1121 1843.67 26.1121 Q1848.7 26.1121 1852.26 28.0971 Q1855.87 30.0415 1858.22 34.0924 M1832.82 49.9314 Q1832.82 58.1548 1836.18 62.8538 Q1839.58 67.5124 1845.5 67.5124 Q1851.41 67.5124 1854.81 62.8538 Q1858.22 58.1548 1858.22 49.9314 Q1858.22 41.7081 1854.81 37.0496 Q1851.41 32.3505 1845.5 32.3505 Q1839.58 32.3505 1836.18 37.0496 Q1832.82 41.7081 1832.82 49.9314 Z\" fill=\"#000000\" fill-rule=\"evenodd\" fill-opacity=\"1\" /><path clip-path=\"url(#clip470)\" d=\"M1888.4 14.324 L1888.4 27.2059 L1903.75 27.2059 L1903.75 32.9987 L1888.4 32.9987 L1888.4 57.6282 Q1888.4 63.1779 1889.89 64.7578 Q1891.43 66.3376 1896.09 66.3376 L1903.75 66.3376 L1903.75 72.576 L1896.09 72.576 Q1887.46 72.576 1884.18 69.3758 Q1880.9 66.1351 1880.9 57.6282 L1880.9 32.9987 L1875.43 32.9987 L1875.43 27.2059 L1880.9 27.2059 L1880.9 14.324 L1888.4 14.324 Z\" fill=\"#000000\" fill-rule=\"evenodd\" fill-opacity=\"1\" /><path clip-path=\"url(#clip470)\" d=\"M1934.17 49.7694 Q1925.14 49.7694 1921.65 51.8354 Q1918.17 53.9013 1918.17 58.8839 Q1918.17 62.8538 1920.76 65.2034 Q1923.39 67.5124 1927.89 67.5124 Q1934.09 67.5124 1937.82 63.1374 Q1941.58 58.7219 1941.58 51.4303 L1941.58 49.7694 L1934.17 49.7694 M1949.04 46.6907 L1949.04 72.576 L1941.58 72.576 L1941.58 65.6895 Q1939.03 69.8214 1935.22 71.8063 Q1931.42 73.7508 1925.91 73.7508 Q1918.94 73.7508 1914.81 69.8619 Q1910.72 65.9325 1910.72 59.3701 Q1910.72 51.7138 1915.82 47.825 Q1920.96 43.9361 1931.13 43.9361 L1941.58 43.9361 L1941.58 43.2069 Q1941.58 38.0623 1938.18 35.2672 Q1934.82 32.4315 1928.7 32.4315 Q1924.81 32.4315 1921.13 33.3632 Q1917.44 34.295 1914.04 36.1584 L1914.04 29.2718 Q1918.13 27.692 1921.98 26.9223 Q1925.83 26.1121 1929.47 26.1121 Q1939.31 26.1121 1944.18 31.2163 Q1949.04 36.3204 1949.04 46.6907 Z\" fill=\"#000000\" fill-rule=\"evenodd\" fill-opacity=\"1\" /><path clip-path=\"url(#clip470)\" d=\"M2002.1 45.1919 L2002.1 72.576 L1994.65 72.576 L1994.65 45.4349 Q1994.65 38.994 1992.14 35.7938 Q1989.63 32.5936 1984.6 32.5936 Q1978.57 32.5936 1975.08 36.4419 Q1971.6 40.2903 1971.6 46.9338 L1971.6 72.576 L1964.11 72.576 L1964.11 27.2059 L1971.6 27.2059 L1971.6 34.2544 Q1974.27 30.163 1977.88 28.1376 Q1981.53 26.1121 1986.26 26.1121 Q1994.08 26.1121 1998.09 30.9732 Q2002.1 35.7938 2002.1 45.1919 Z\" fill=\"#000000\" fill-rule=\"evenodd\" fill-opacity=\"1\" /><path clip-path=\"url(#clip470)\" d=\"M2054.68 45.1919 L2054.68 72.576 L2047.23 72.576 L2047.23 45.4349 Q2047.23 38.994 2044.72 35.7938 Q2042.21 32.5936 2037.18 32.5936 Q2031.15 32.5936 2027.67 36.4419 Q2024.18 40.2903 2024.18 46.9338 L2024.18 72.576 L2016.69 72.576 L2016.69 9.54393 L2024.18 9.54393 L2024.18 34.2544 Q2026.85 30.163 2030.46 28.1376 Q2034.11 26.1121 2038.85 26.1121 Q2046.66 26.1121 2050.67 30.9732 Q2054.68 35.7938 2054.68 45.1919 Z\" fill=\"#000000\" fill-rule=\"evenodd\" fill-opacity=\"1\" /><polyline clip-path=\"url(#clip473)\" style=\"stroke:#009af9; stroke-linecap:round; stroke-linejoin:round; stroke-width:4; stroke-opacity:1; fill:none\" points=\"\n",
       "  1421.07,1447.87 1430.12,1447.87 1439.16,1447.87 1448.21,1447.87 1457.25,1447.87 1466.3,1447.87 1475.35,1447.87 1484.39,1447.87 1493.44,1447.87 1502.48,1447.87 \n",
       "  1511.53,1447.87 1520.57,1447.87 1529.62,1447.87 1538.66,1447.87 1547.71,1447.87 1556.75,1447.87 1565.8,1447.87 1574.85,1447.87 1583.89,1447.87 1592.94,1447.87 \n",
       "  1601.98,1447.87 1611.03,1447.87 1620.07,1447.87 1629.12,1447.87 1638.16,1447.87 1647.21,1447.87 1656.25,1447.87 1665.3,1447.87 1674.35,1447.87 1683.39,1447.87 \n",
       "  1692.44,1447.87 1701.48,1447.87 1710.53,1447.87 1719.57,1447.87 1728.62,1447.87 1737.66,1447.87 1746.71,1447.87 1755.75,1447.87 1764.8,1447.87 1773.85,1447.87 \n",
       "  1782.89,1447.87 1791.94,1383.58 1800.98,1319.29 1810.03,1255 1819.07,1190.71 1828.12,1126.42 1837.16,1062.13 1846.21,997.834 1855.26,933.543 1864.3,869.251 \n",
       "  1873.35,804.96 1882.39,740.669 1891.44,676.377 1900.48,612.086 1909.53,547.795 1918.57,483.503 1927.62,419.212 1936.66,354.921 1945.71,290.63 1954.76,226.338 \n",
       "  1963.8,162.047 1972.85,162.047 1981.89,162.047 1990.94,162.047 1999.98,162.047 2009.03,162.047 2018.07,162.047 2027.12,162.047 2036.16,162.047 2045.21,162.047 \n",
       "  2054.26,162.047 2063.3,162.047 2072.35,162.047 2081.39,162.047 2090.44,162.047 2099.48,162.047 2108.53,162.047 2117.57,162.047 2126.62,162.047 2135.66,162.047 \n",
       "  2144.71,162.047 2153.76,162.047 2162.8,162.047 2171.85,162.047 2180.89,162.047 2189.94,162.047 2198.98,162.047 2208.03,162.047 2217.07,162.047 2226.12,162.047 \n",
       "  2235.16,162.047 2244.21,162.047 2253.26,162.047 2262.3,162.047 2271.35,162.047 2280.39,162.047 2289.44,162.047 2298.48,162.047 2307.53,162.047 2316.57,162.047 \n",
       "  2325.62,162.047 \n",
       "  \"/>\n",
       "<path clip-path=\"url(#clip470)\" d=\"\n",
       "M2161.83 272.585 L2320.8 272.585 L2320.8 168.905 L2161.83 168.905  Z\n",
       "  \" fill=\"#ffffff\" fill-rule=\"evenodd\" fill-opacity=\"1\"/>\n",
       "<polyline clip-path=\"url(#clip470)\" style=\"stroke:#000000; stroke-linecap:round; stroke-linejoin:round; stroke-width:4; stroke-opacity:1; fill:none\" points=\"\n",
       "  2161.83,272.585 2320.8,272.585 2320.8,168.905 2161.83,168.905 2161.83,272.585 \n",
       "  \"/>\n",
       "<polyline clip-path=\"url(#clip470)\" style=\"stroke:#009af9; stroke-linecap:round; stroke-linejoin:round; stroke-width:4; stroke-opacity:1; fill:none\" points=\"\n",
       "  2172.48,220.745 2236.4,220.745 \n",
       "  \"/>\n",
       "<path clip-path=\"url(#clip470)\" d=\"M2260.9 240.432 Q2259.09 245.062 2257.38 246.474 Q2255.67 247.886 2252.8 247.886 L2249.4 247.886 L2249.4 244.321 L2251.9 244.321 Q2253.66 244.321 2254.63 243.488 Q2255.6 242.654 2256.78 239.552 L2257.54 237.608 L2247.06 212.099 L2251.57 212.099 L2259.67 232.377 L2267.78 212.099 L2272.29 212.099 L2260.9 240.432 Z\" fill=\"#000000\" fill-rule=\"evenodd\" fill-opacity=\"1\" /><path clip-path=\"url(#clip470)\" d=\"M2279.58 234.089 L2287.22 234.089 L2287.22 207.724 L2278.91 209.391 L2278.91 205.131 L2287.17 203.465 L2291.85 203.465 L2291.85 234.089 L2299.49 234.089 L2299.49 238.025 L2279.58 238.025 L2279.58 234.089 Z\" fill=\"#000000\" fill-rule=\"evenodd\" fill-opacity=\"1\" /></svg>\n"
      ]
     },
     "execution_count": 91,
     "metadata": {},
     "output_type": "execute_result"
    }
   ],
   "source": [
    "p1 = plot(-5:0.1:5,tanh_fast,title=\"tanh_fast\")\n",
    "p2 = plot(-5:0.1:5,hardtanh,title=\"hardtanh\")\n",
    "plot(p1,p2)"
   ]
  },
  {
   "cell_type": "code",
   "execution_count": null,
   "metadata": {},
   "outputs": [],
   "source": []
  },
  {
   "cell_type": "markdown",
   "metadata": {},
   "source": [
    "### <span style=\"color:orange\">**Softmax**</span>\n",
    "\n",
    "- After your input passes through multiple layers (transformations) the final layer can be treated in various ways\n",
    "- If your goal is to do 'regression' that is predict continuous values, you can omit an activation function and omit a final non-linear transformation upon those last neurons\n",
    "- If your goal is to do some categorical value prediction, like to predict an animal from an image, then each neuron output at the final layer will correspond to one of the selections as your target variables are **one hot encoded** pushing correct answers to be a value 1 on the correct neuron and a 0 on the rest. In the ideal fitted neural network your final outputs will be multiple 0s and a single 1 value for the category position. The neurons here will have activation functions (commonly), and then feed into a softmax.\n",
    "- Softmax, takes a vector of values, and produces from a set of numbers a normalized vector of values. Normalized, meaning that the original set of number may not add to 1, but the normalized array (set of numbers) after using softmax will sum to 1. \n",
    "- The use of softmax is akin to taking the *max* in that there is preference for the values which are larger. You can consider the *max* function as a 'winner takes all* and the softmax amplifies the larger values in relation with the rest but does not completely disregard them. \n",
    "- The values of the softmax output can be taken as probabilities \n",
    "- The functional operation is akin to the *partition function* used in statistical mechanics\n",
    "\n",
    "The operation is to take the exponential of each value and then divide that value by the sum of all the exponentiated values\n",
    "- softmax(x) = exp.(x) ./ sum(exp.(x))"
   ]
  },
  {
   "cell_type": "code",
   "execution_count": 92,
   "metadata": {},
   "outputs": [
    {
     "data": {
      "text/plain": [
       "3-element Vector{Float64}:\n",
       " 0.28140804404603065\n",
       " 0.2546285279891599\n",
       " 0.4639634279648094"
      ]
     },
     "execution_count": 92,
     "metadata": {},
     "output_type": "execute_result"
    }
   ],
   "source": [
    "y_hat = [0.3, 0.2, 0.8]\n",
    "softmax( y_hat )"
   ]
  },
  {
   "cell_type": "markdown",
   "metadata": {},
   "source": [
    "### add more elements to see the change, more possible candidates <u>dilute</u> the candidate choice"
   ]
  },
  {
   "cell_type": "code",
   "execution_count": 93,
   "metadata": {},
   "outputs": [
    {
     "data": {
      "text/plain": [
       "10-element Vector{Float64}:\n",
       " 0.12583465263342328\n",
       " 0.11385990218827859\n",
       " 0.08434949014611497\n",
       " 0.08434949014611497\n",
       " 0.08434949014611497\n",
       " 0.08434949014611497\n",
       " 0.08434949014611497\n",
       " 0.08434949014611497\n",
       " 0.08434949014611497\n",
       " 0.16985901415549334"
      ]
     },
     "execution_count": 93,
     "metadata": {},
     "output_type": "execute_result"
    }
   ],
   "source": [
    "y_hat = [0.5, 0.4, 0.1, 0.1, 0.1, 0.1, 0.1, 0.1, 0.1, 0.8]\n",
    "softmax( y_hat )"
   ]
  },
  {
   "cell_type": "markdown",
   "metadata": {},
   "source": [
    "### the absolute difference in value (not only relative) matters in softmax"
   ]
  },
  {
   "cell_type": "code",
   "execution_count": 94,
   "metadata": {},
   "outputs": [
    {
     "data": {
      "text/plain": [
       "3-element Vector{Float64}:\n",
       " 0.006676412513376451\n",
       " 0.0024561149044509535\n",
       " 0.9908674725821726"
      ]
     },
     "execution_count": 94,
     "metadata": {},
     "output_type": "execute_result"
    }
   ],
   "source": [
    "y_hat = [3, 2, 8]\n",
    "softmax( y_hat )"
   ]
  },
  {
   "cell_type": "code",
   "execution_count": 95,
   "metadata": {},
   "outputs": [
    {
     "data": {
      "text/plain": [
       "10-element Vector{Float64}:\n",
       " 0.04633571203449501\n",
       " 0.0170459558495309\n",
       " 0.0008486681692761852\n",
       " 0.0008486681692761852\n",
       " 0.0008486681692761852\n",
       " 0.0008486681692761852\n",
       " 0.0008486681692761852\n",
       " 0.0008486681692761852\n",
       " 0.0008486681692761852\n",
       " 0.9306776549310407"
      ]
     },
     "execution_count": 95,
     "metadata": {},
     "output_type": "execute_result"
    }
   ],
   "source": [
    "y_hat = [5, 4, 1, 1, 1, 1, 1, 1, 1, 8]\n",
    "softmax( y_hat )"
   ]
  },
  {
   "cell_type": "markdown",
   "metadata": {},
   "source": [
    "### softmax can be applied to a matrix of values along the columns or the rows\n",
    "\n",
    "- If we apply a NN to multiple inputs (eg, to many images) we received mulitpe final output layer results which independently need the softmax applied to them. These multiple outputs are commonly kept in a matrix (multidimensional array)\n",
    "- These multiple NN outputs can be kept along the columns of the matrix or on the rows. If each indepdent output is a column of the matrix softmax must be applied to a specific column computing along the rows. analogously for the matrix storing the outputs along each row"
   ]
  },
  {
   "cell_type": "code",
   "execution_count": 96,
   "metadata": {},
   "outputs": [
    {
     "data": {
      "text/plain": [
       "3-element Vector{Int64}:\n",
       " 1\n",
       " 2\n",
       " 3"
      ]
     },
     "metadata": {},
     "output_type": "display_data"
    },
    {
     "data": {
      "text/plain": [
       "3-element Vector{Float64}:\n",
       " 0.09003057317038046\n",
       " 0.24472847105479764\n",
       " 0.6652409557748218"
      ]
     },
     "metadata": {},
     "output_type": "display_data"
    },
    {
     "data": {
      "text/plain": [
       "3-element Vector{Float64}:\n",
       " 1.0\n",
       " 1.0\n",
       " 1.0"
      ]
     },
     "metadata": {},
     "output_type": "display_data"
    }
   ],
   "source": [
    "y_hat = [1,2,3] #column\n",
    "display(y_hat)\n",
    "display( softmax( y_hat , dims=1 ) ) #results as expected as it moves along dim=1 (rows)\n",
    "display( softmax( y_hat , dims=2 ) ) #results of all 1 since each row has 1 value along the columns (dim=2)"
   ]
  },
  {
   "cell_type": "code",
   "execution_count": 97,
   "metadata": {},
   "outputs": [
    {
     "data": {
      "text/plain": [
       "3×2 Matrix{Int64}:\n",
       " 1  10\n",
       " 2  20\n",
       " 3  30"
      ]
     },
     "metadata": {},
     "output_type": "display_data"
    },
    {
     "data": {
      "text/plain": [
       "3×2 Matrix{Float64}:\n",
       " 0.0900306  2.06106e-9\n",
       " 0.244728   4.53979e-5\n",
       " 0.665241   0.999955"
      ]
     },
     "metadata": {},
     "output_type": "display_data"
    },
    {
     "data": {
      "text/plain": [
       "3×2 Matrix{Float64}:\n",
       " 0.000123395  0.999877\n",
       " 1.523e-8     1.0\n",
       " 1.87953e-12  1.0"
      ]
     },
     "metadata": {},
     "output_type": "display_data"
    }
   ],
   "source": [
    "y_hat = [1 10 ; 2 20 ; 3 30] # 3x2 matrix\n",
    "display(y_hat)\n",
    "display( softmax( y_hat , dims=1 ) ) #along the rows for each column\n",
    "display( softmax( y_hat , dims=2 ) ) #along the columns for each row"
   ]
  },
  {
   "cell_type": "markdown",
   "metadata": {},
   "source": [
    "### we use *softmax* as final layer output transformations, and not to activation functions between layers"
   ]
  },
  {
   "cell_type": "code",
   "execution_count": 98,
   "metadata": {},
   "outputs": [],
   "source": [
    "#right and wrong\n",
    "rdata = rand( 7 , 1 );"
   ]
  },
  {
   "cell_type": "code",
   "execution_count": 99,
   "metadata": {},
   "outputs": [
    {
     "data": {
      "text/plain": [
       "3×1 Matrix{Float64}:\n",
       " 0.6836654787643148\n",
       " 0.4249854272003677\n",
       " 0.5399686922934454"
      ]
     },
     "metadata": {},
     "output_type": "display_data"
    }
   ],
   "source": [
    "#works\n",
    "d5 = Chain( Dense( 7=>3 , sigmoid ))\n",
    "display( d5(rdata) )"
   ]
  },
  {
   "cell_type": "code",
   "execution_count": 100,
   "metadata": {},
   "outputs": [
    {
     "ename": "LoadError",
     "evalue": "`softmax(x)` called with a number, but it expects an array. Usually this is because a layer like `Dense(3,4,softmax)` is broadcasting it like an activation function; `softmax` needs to be outside the layer.",
     "output_type": "error",
     "traceback": [
      "`softmax(x)` called with a number, but it expects an array. Usually this is because a layer like `Dense(3,4,softmax)` is broadcasting it like an activation function; `softmax` needs to be outside the layer.",
      "",
      "Stacktrace:",
      "  [1] error(::String, ::String, ::String)",
      "    @ Base ./error.jl:44",
      "  [2] softmax(::Float64)",
      "    @ NNlib ~/.julia/packages/NNlib/Rh36b/src/softmax.jl:157",
      "  [3] _broadcast_getindex_evalf",
      "    @ ./broadcast.jl:670 [inlined]",
      "  [4] _broadcast_getindex",
      "    @ ./broadcast.jl:643 [inlined]",
      "  [5] getindex",
      "    @ ./broadcast.jl:597 [inlined]",
      "  [6] copy",
      "    @ ./broadcast.jl:899 [inlined]",
      "  [7] materialize",
      "    @ ./broadcast.jl:860 [inlined]",
      "  [8] (::Dense{typeof(softmax), Matrix{Float32}, Vector{Float32}})(x::Matrix{Float64})",
      "    @ Flux ~/.julia/packages/Flux/4k0Ls/src/layers/basic.jl:172",
      "  [9] macro expansion",
      "    @ ~/.julia/packages/Flux/4k0Ls/src/layers/basic.jl:53 [inlined]",
      " [10] _applychain",
      "    @ ~/.julia/packages/Flux/4k0Ls/src/layers/basic.jl:53 [inlined]",
      " [11] (::Chain{Tuple{Dense{typeof(softmax), Matrix{Float32}, Vector{Float32}}}})(x::Matrix{Float64})",
      "    @ Flux ~/.julia/packages/Flux/4k0Ls/src/layers/basic.jl:51",
      " [12] top-level scope",
      "    @ In[100]:3",
      " [13] eval",
      "    @ ./boot.jl:368 [inlined]",
      " [14] include_string(mapexpr::typeof(REPL.softscope), mod::Module, code::String, filename::String)",
      "    @ Base ./loading.jl:1428"
     ]
    }
   ],
   "source": [
    "#does not work\n",
    "d6 = Chain( Dense( 7=>3 , softmax ))\n",
    "display( d6(rdata) )"
   ]
  },
  {
   "cell_type": "code",
   "execution_count": 101,
   "metadata": {},
   "outputs": [
    {
     "data": {
      "text/plain": [
       "3×1 Matrix{Float64}:\n",
       " 0.4988485301240435\n",
       " 0.13440222590237474\n",
       " 0.3667492439735818"
      ]
     },
     "metadata": {},
     "output_type": "display_data"
    }
   ],
   "source": [
    "#works by placing the softmax after the 'activation' which when empty is identity\n",
    "d7 = Chain( Dense( 7=>3 ) , softmax )\n",
    "display( d7(rdata) )"
   ]
  },
  {
   "cell_type": "code",
   "execution_count": 102,
   "metadata": {},
   "outputs": [
    {
     "data": {
      "text/plain": [
       "3×1 Matrix{Float64}:\n",
       " 0.3945380000588379\n",
       " 0.41887284095139965\n",
       " 0.1865891589897624"
      ]
     },
     "metadata": {},
     "output_type": "display_data"
    }
   ],
   "source": [
    "#works by placing the softmax after the 'activation'\n",
    "d7 = Chain( Dense( 7=>3 , hardtanh ) , softmax )\n",
    "display( d7(rdata) )"
   ]
  },
  {
   "cell_type": "code",
   "execution_count": null,
   "metadata": {},
   "outputs": [],
   "source": []
  },
  {
   "cell_type": "code",
   "execution_count": null,
   "metadata": {},
   "outputs": [],
   "source": []
  },
  {
   "cell_type": "markdown",
   "metadata": {},
   "source": [
    "### <span style=\"color:orange\">DataLoader</span>\n",
    "\n",
    "- It is convenient to feed data to the **train!** function via the DataLoader. **train!** updates the parameters according to the gradient and optimizer, and the DataLoader takes the dataset and passes in the tuples of data in the (x,y) or (features,target) variable format\n",
    "- It is similar in concept to how R xgboost uses can package the training data \n",
    "- DataLoader can be used to produce 'batches' (mini-batches) of data so that the gradient is not based upon the full \n",
    "- The DataLoader can be used in multiple ways and there are different uses in conjunction with the training schemes\n",
    "- DataLoader(data; [batchsize, buffer, collate, parallel, partial, rng, shuffle])\n",
    "- Takes as input a single data array, a tuple (or a named tuple) of arrays, *the last dimension in each array is the observation dimension*\n",
    "- Default batchsize is 1\n",
    "- can be made to run batches in parallel"
   ]
  },
  {
   "cell_type": "markdown",
   "metadata": {},
   "source": [
    "### <span style=\"color:orange\">In Flux **features span rows**</span>"
   ]
  },
  {
   "cell_type": "code",
   "execution_count": 103,
   "metadata": {},
   "outputs": [
    {
     "data": {
      "text/plain": [
       "(10, 20)"
      ]
     },
     "metadata": {},
     "output_type": "display_data"
    },
    {
     "data": {
      "text/plain": [
       "(10, 20)"
      ]
     },
     "metadata": {},
     "output_type": "display_data"
    },
    {
     "data": {
      "text/plain": [
       "(10, 20)"
      ]
     },
     "metadata": {},
     "output_type": "display_data"
    },
    {
     "data": {
      "text/plain": [
       "(10, 20)"
      ]
     },
     "metadata": {},
     "output_type": "display_data"
    },
    {
     "data": {
      "text/plain": [
       "(10, 20)"
      ]
     },
     "metadata": {},
     "output_type": "display_data"
    }
   ],
   "source": [
    "#check the sizes of the batches\n",
    "Xtrain = rand(10, 100);\n",
    "array_loader = Flux.DataLoader(Xtrain, batchsize=20);\n",
    "for mbatch in array_loader\n",
    "    display( size(mbatch) )\n",
    "end"
   ]
  },
  {
   "cell_type": "code",
   "execution_count": 104,
   "metadata": {},
   "outputs": [
    {
     "name": "stdout",
     "output_type": "stream",
     "text": [
      "(10, 5)\n",
      "(5,)\n",
      "(10, 5)\n",
      "(5,)\n",
      "(10, 5)\n",
      "(5,)\n",
      "(10, 5)\n",
      "(5,)\n",
      "(10, 5)\n",
      "(5,)\n",
      "(10, 5)\n",
      "(5,)\n",
      "(10, 5)\n",
      "(5,)\n",
      "(10, 5)\n",
      "(5,)\n",
      "(10, 5)\n",
      "(5,)\n",
      "(10, 5)\n",
      "(5,)\n",
      "(10, 5)\n",
      "(5,)\n",
      "(10, 5)\n",
      "(5,)\n",
      "(10, 5)\n",
      "(5,)\n",
      "(10, 5)\n",
      "(5,)\n",
      "(10, 5)\n",
      "(5,)\n",
      "(10, 5)\n",
      "(5,)\n",
      "(10, 5)\n",
      "(5,)\n",
      "(10, 5)\n",
      "(5,)\n",
      "(10, 5)\n",
      "(5,)\n",
      "(10, 5)\n",
      "(5,)\n"
     ]
    }
   ],
   "source": [
    "Xtrain = rand(10, 100);\n",
    "Ytrain = rand([\"a\",\"b\",\"c\"], 100);\n",
    "#just like with R's XGBoost we can set the data and label and then have the data and label in each batch\n",
    "train_loader = Flux.DataLoader((data=Xtrain, label=Ytrain), batchsize=5);\n",
    "for batch in train_loader\n",
    "    println( size(batch.data) )\n",
    "    println( size(batch.label) )\n",
    "end"
   ]
  },
  {
   "cell_type": "code",
   "execution_count": 105,
   "metadata": {},
   "outputs": [
    {
     "name": "stdout",
     "output_type": "stream",
     "text": [
      "(10, 5)\n",
      "(5,)\n",
      "(10, 5)\n",
      "(5,)\n",
      "(10, 5)\n",
      "(5,)\n",
      "(10, 5)\n",
      "(5,)\n",
      "(10, 5)\n",
      "(5,)\n",
      "(10, 5)\n",
      "(5,)\n",
      "(10, 5)\n",
      "(5,)\n",
      "(10, 5)\n",
      "(5,)\n",
      "(10, 5)\n",
      "(5,)\n",
      "(10, 5)\n",
      "(5,)\n",
      "(10, 5)\n",
      "(5,)\n",
      "(10, 5)\n",
      "(5,)\n",
      "(10, 5)\n",
      "(5,)\n",
      "(10, 5)\n",
      "(5,)\n",
      "(10, 5)\n",
      "(5,)\n",
      "(10, 5)\n",
      "(5,)\n",
      "(10, 5)\n",
      "(5,)\n",
      "(10, 5)\n",
      "(5,)\n",
      "(10, 5)\n",
      "(5,)\n",
      "(10, 5)\n",
      "(5,)\n"
     ]
    }
   ],
   "source": [
    "Xtrain = rand(10, 100);\n",
    "Ytrain = rand([\"a\",\"b\",\"c\"], 100);\n",
    "train_loader = Flux.DataLoader((data=Xtrain, label=Ytrain), batchsize=5);\n",
    "#we can 'destructure' the batch of the data and label at the start of the loop\n",
    "for (Xdata, Ylabel) in train_loader\n",
    "    println( size(Xdata) )\n",
    "    println( size(Ylabel) )\n",
    "end"
   ]
  },
  {
   "cell_type": "code",
   "execution_count": 106,
   "metadata": {},
   "outputs": [
    {
     "name": "stdout",
     "output_type": "stream",
     "text": [
      "epoch num: 1\n",
      "epoch num: 2\n",
      "epoch num: 3\n",
      "epoch num: 4\n",
      "epoch num: 5\n"
     ]
    }
   ],
   "source": [
    "Xtrain = rand(10, 100);\n",
    "Ytrain = rand([\"a\",\"b\",\"c\"], 100);\n",
    "train_loader = Flux.DataLoader((data=Xtrain, label=Ytrain), batchsize=5 , shuffle=true);\n",
    "#we can 'destructure' the batch of the data and label at the start of the loop\n",
    "#we perform multiple passes via epochs for the training scheme\n",
    "for epoch in 1:5\n",
    "    for (Xdata, Ylabel) in train_loader\n",
    "        @assert size(Xdata) == (10, 5)\n",
    "        @assert size(Ylabel) == (5,)\n",
    "    end\n",
    "    println(\"epoch num: $(epoch)\")\n",
    "end"
   ]
  },
  {
   "cell_type": "code",
   "execution_count": 107,
   "metadata": {},
   "outputs": [
    {
     "name": "stdout",
     "output_type": "stream",
     "text": [
      "epoch num: 1\n",
      "epoch num: 2\n",
      "epoch num: 3\n",
      "epoch num: 4\n",
      "epoch num: 5\n"
     ]
    }
   ],
   "source": [
    "# we can change the names of the variables for the feature and target data in both places\n",
    "Xtrain = rand(10, 100);\n",
    "Ytrain = rand([\"a\",\"b\",\"c\"], 100);\n",
    "train_loader = Flux.DataLoader((xdata=Xtrain, ydata=Ytrain), batchsize=5 , shuffle=true);\n",
    "for epoch in 1:5\n",
    "    for (x, y) in train_loader\n",
    "        @assert size(x) == (10, 5)\n",
    "        @assert size(y) == (5,)\n",
    "    end\n",
    "    println(\"epoch num: $(epoch)\")\n",
    "end"
   ]
  },
  {
   "cell_type": "code",
   "execution_count": null,
   "metadata": {},
   "outputs": [],
   "source": []
  },
  {
   "cell_type": "markdown",
   "metadata": {},
   "source": [
    "### <span style=\"color:orange\">**Encoding**, 1-Hot</span>\n",
    "\n",
    "- Encoding data is important when we have categorical data. This can be in the features or the target data as well. That is we may have features such as a variable for a type of animal (eg cat/dog/bird) which is represented in **1-Hot Encoding**, eg. $cat \\rightarrow [1,0,0], dog\\rightarrow [0,1,0], bird \\rightarrow [0,0,1]$. That is a single 1 and the rest are zeros and the length of the vector is as long as the number of categorical options. The output target value can also be categorical which is 1-Hot encoded. \n",
    "- If we have input data that has 2 continuous features and 2 categorical features where the categorical features can take on 2 discrete values for the first case and 3 different discrete values for the second categorical feature; then the full input vector will have $2+2+3 = 7$ dimensions (input neurons) similarly for the output which if it is to predict a single output class label of 4 different possible labels, there will be 4 output neurons producing values which we take the softmax of, and then compare that to the ground truth data that is 1-hot encoded.\n",
    "- The difference to dummy variables is that dummy variables are commonly placed in K-1 encoding. \n",
    "- Stored in memory efficient format (similar to sparse datastructures)\n",
    "- We can **index** the results to get a 1 or 0 (or true and false) on each position"
   ]
  },
  {
   "cell_type": "code",
   "execution_count": 108,
   "metadata": {},
   "outputs": [],
   "source": [
    "# it is in a separate package incase you want to use it outside of flux as well\n",
    "using OneHotArrays"
   ]
  },
  {
   "cell_type": "code",
   "execution_count": 109,
   "metadata": {},
   "outputs": [
    {
     "data": {
      "text/plain": [
       "3-element OneHotVector(::UInt32) with eltype Bool:\n",
       " 1\n",
       " ⋅\n",
       " ⋅"
      ]
     },
     "execution_count": 109,
     "metadata": {},
     "output_type": "execute_result"
    }
   ],
   "source": [
    "categories1 = [\"apple\",\"beetroot\",\"carrot\"]\n",
    "result1 = onehot(\"apple\", categories1)\n",
    "result1"
   ]
  },
  {
   "cell_type": "code",
   "execution_count": 110,
   "metadata": {},
   "outputs": [
    {
     "data": {
      "text/plain": [
       "OneHotVector{UInt32, 3}\u001b[90m (alias for \u001b[39m\u001b[90mOneHotArray{UInt32, 3, 0, 1, UInt32}\u001b[39m\u001b[90m)\u001b[39m"
      ]
     },
     "execution_count": 110,
     "metadata": {},
     "output_type": "execute_result"
    }
   ],
   "source": [
    "typeof(result1)"
   ]
  },
  {
   "cell_type": "code",
   "execution_count": 111,
   "metadata": {},
   "outputs": [
    {
     "data": {
      "text/plain": [
       "3-element OneHotVector(::UInt32) with eltype Bool:\n",
       " ⋅\n",
       " 1\n",
       " ⋅"
      ]
     },
     "execution_count": 111,
     "metadata": {},
     "output_type": "execute_result"
    }
   ],
   "source": [
    "result2 = onehot(\"beetroot\", categories1)\n",
    "result2"
   ]
  },
  {
   "cell_type": "code",
   "execution_count": 112,
   "metadata": {},
   "outputs": [
    {
     "data": {
      "text/plain": [
       "3-element Vector{Bool}:\n",
       " 0\n",
       " 1\n",
       " 0"
      ]
     },
     "execution_count": 112,
     "metadata": {},
     "output_type": "execute_result"
    }
   ],
   "source": [
    "[result2[ii] for ii in 1:length(result2)]"
   ]
  },
  {
   "cell_type": "code",
   "execution_count": 113,
   "metadata": {},
   "outputs": [
    {
     "data": {
      "text/plain": [
       "false"
      ]
     },
     "metadata": {},
     "output_type": "display_data"
    },
    {
     "data": {
      "text/plain": [
       "true"
      ]
     },
     "metadata": {},
     "output_type": "display_data"
    }
   ],
   "source": [
    "display(result2[1])\n",
    "display(result2[2])"
   ]
  },
  {
   "cell_type": "code",
   "execution_count": 114,
   "metadata": {},
   "outputs": [
    {
     "ename": "LoadError",
     "evalue": "Value beetroot!!! is not in labels",
     "output_type": "error",
     "traceback": [
      "Value beetroot!!! is not in labels",
      "",
      "Stacktrace:",
      " [1] error(s::String)",
      "   @ Base ./error.jl:35",
      " [2] onehot(x::String, labels::Vector{String})",
      "   @ OneHotArrays ~/.julia/packages/OneHotArrays/Moo4n/src/onehot.jl:33",
      " [3] top-level scope",
      "   @ In[114]:2",
      " [4] eval",
      "   @ ./boot.jl:368 [inlined]",
      " [5] include_string(mapexpr::typeof(REPL.softscope), mod::Module, code::String, filename::String)",
      "   @ Base ./loading.jl:1428"
     ]
    }
   ],
   "source": [
    "# if it not part of the set\n",
    "result3 = onehot(\"beetroot!!!\", categories1)\n",
    "result3"
   ]
  },
  {
   "cell_type": "code",
   "execution_count": 115,
   "metadata": {},
   "outputs": [
    {
     "data": {
      "text/plain": [
       "3-element OneHotVector(::UInt32) with eltype Bool:\n",
       " ⋅\n",
       " ⋅\n",
       " 1"
      ]
     },
     "execution_count": 115,
     "metadata": {},
     "output_type": "execute_result"
    }
   ],
   "source": [
    "# provide a 'default' value for elements not in the set\n",
    "result4 = onehot(\"beetroot!!!\", categories1,\"carrot\")\n",
    "result4"
   ]
  },
  {
   "cell_type": "code",
   "execution_count": 116,
   "metadata": {},
   "outputs": [
    {
     "data": {
      "text/plain": [
       "3-element OneHotVector(::UInt32) with eltype Bool:\n",
       " ⋅\n",
       " ⋅\n",
       " 1"
      ]
     },
     "execution_count": 116,
     "metadata": {},
     "output_type": "execute_result"
    }
   ],
   "source": [
    "# can use numbers as category labels\n",
    "categories2 = [11,22,33]\n",
    "result2 = onehot(33, categories2)\n",
    "result2"
   ]
  },
  {
   "cell_type": "code",
   "execution_count": 117,
   "metadata": {},
   "outputs": [
    {
     "data": {
      "text/plain": [
       "3-element OneHotVector(::UInt32) with eltype Bool:\n",
       " ⋅\n",
       " ⋅\n",
       " 1"
      ]
     },
     "execution_count": 117,
     "metadata": {},
     "output_type": "execute_result"
    }
   ],
   "source": [
    "# we can use 'symbols'\n",
    "categoriesSymbols = [:sunny,:dark,:raining]\n",
    "resultSymbols = onehot(:raining, categoriesSymbols)\n",
    "resultSymbols"
   ]
  },
  {
   "cell_type": "markdown",
   "metadata": {},
   "source": [
    "### <span style=\"color:orange\">One Hot Batch, **onehotbatch**</span>\n",
    "\n",
    "- We typically have a vector of cateogory labels (prediction categories) and then want the one hot from that 'batch' since we run a mini-batch and get predictions and need the set of one hot encoded vectors and it is good to have them in a matrix"
   ]
  },
  {
   "cell_type": "code",
   "execution_count": 118,
   "metadata": {},
   "outputs": [
    {
     "data": {
      "text/plain": [
       "3×7 OneHotMatrix(::Vector{UInt32}) with eltype Bool:\n",
       " ⋅  ⋅  1  1  ⋅  ⋅  ⋅\n",
       " 1  ⋅  ⋅  ⋅  ⋅  1  1\n",
       " ⋅  1  ⋅  ⋅  1  ⋅  ⋅"
      ]
     },
     "execution_count": 118,
     "metadata": {},
     "output_type": "execute_result"
    }
   ],
   "source": [
    "categories3 = [\"bird\",\"cat\",\"dog\"]\n",
    "# some hypothetical testing target data\n",
    "testY = [\"cat\",\"dog\",\"bird\",\"bird\",\"dog\",\"cat\",\"cat\"]\n",
    "results3 = onehotbatch(testY,categories3)"
   ]
  },
  {
   "cell_type": "markdown",
   "metadata": {},
   "source": [
    "### <span style=\"color:orange\">One Cold, **onecold**</span>\n",
    "\n",
    "- This terminology is coined by the Julia developers, as being the opposite of the One Hot, the inverse in a way\n",
    "- It allows us to supply a one hot encoded vector, or a probability distribution, or Boolean vector to get back the label or symbol \n",
    "- This is useful when you want to get the accuracy of categorical predictions in terms of equality"
   ]
  },
  {
   "cell_type": "code",
   "execution_count": 119,
   "metadata": {},
   "outputs": [
    {
     "data": {
      "text/plain": [
       "\"cat\""
      ]
     },
     "metadata": {},
     "output_type": "display_data"
    },
    {
     "data": {
      "text/plain": [
       "\"cat\""
      ]
     },
     "metadata": {},
     "output_type": "display_data"
    },
    {
     "data": {
      "text/plain": [
       "\"cat\""
      ]
     },
     "metadata": {},
     "output_type": "display_data"
    },
    {
     "data": {
      "text/plain": [
       "\"cat\""
      ]
     },
     "metadata": {},
     "output_type": "display_data"
    }
   ],
   "source": [
    "categories3 = [\"bird\",\"cat\",\"dog\"]\n",
    "y_hat1 = [0,1,0]\n",
    "display( onecold(y_hat1, categories3) )\n",
    "y_hat2 = [0.2, 0.6, 0.2] #plausible softmax output\n",
    "display( onecold(y_hat2, categories3) )\n",
    "y_hat3 = [false, true, false]\n",
    "display( onecold(y_hat3, categories3) )\n",
    "\n",
    "# go from label to 1-hot and then back to label via 1-cold to give the original\n",
    "y_hat4 = \"cat\"\n",
    "onehot4 = onehot(y_hat4, categories3)\n",
    "display( onecold(onehot4, categories3) )"
   ]
  },
  {
   "cell_type": "code",
   "execution_count": 120,
   "metadata": {},
   "outputs": [
    {
     "data": {
      "text/plain": [
       "3×7 OneHotMatrix(::Vector{UInt32}) with eltype Bool:\n",
       " ⋅  ⋅  1  1  ⋅  ⋅  ⋅\n",
       " 1  ⋅  ⋅  ⋅  ⋅  1  1\n",
       " ⋅  1  ⋅  ⋅  1  ⋅  ⋅"
      ]
     },
     "metadata": {},
     "output_type": "display_data"
    },
    {
     "data": {
      "text/plain": [
       "7-element Vector{String}:\n",
       " \"cat\"\n",
       " \"dog\"\n",
       " \"bird\"\n",
       " \"bird\"\n",
       " \"dog\"\n",
       " \"cat\"\n",
       " \"cat\""
      ]
     },
     "execution_count": 120,
     "metadata": {},
     "output_type": "execute_result"
    }
   ],
   "source": [
    "# get back the labels from the onehotbatch encoding to be the original data\n",
    "categories3 = [\"bird\",\"cat\",\"dog\"]\n",
    "# some hypothetical testing target data\n",
    "testY = [\"cat\",\"dog\",\"bird\",\"bird\",\"dog\",\"cat\",\"cat\"]\n",
    "results3 = onehotbatch(testY,categories3)\n",
    "display(results3)\n",
    "results3OneCold = onecold( results3, categories3 )"
   ]
  },
  {
   "cell_type": "code",
   "execution_count": null,
   "metadata": {},
   "outputs": [],
   "source": []
  },
  {
   "cell_type": "markdown",
   "metadata": {},
   "source": [
    "### <span style=\"color:orange\">Training models</span>\n",
    "\n",
    "We saw some examples on training the parameters of a model and now let's look at more ways. Overall approach involves:\n",
    "\n",
    "- Providing an **Objective Function**. This tells the training scheme how well the model is doing for a set of parameter values. Training can then obtain the gradient of the objective function for the parameters at those values. The objective function is commonly taken to be the **Loss function** as the loss function assesses how the features and the target values do no match according to the defined criteria. Training uses the gradient of the loss function (in respect to the parameters) to know the direction for which the loss value can decrease according to the parameter values. \n",
    "- The parameters must be *trainable*\n",
    "- The data passed can be a single data point or a collection of data points (mini batch)\n",
    "- An optimiser will change the parameters according to the gradient\n",
    "- Training is often an **iterative** process that is data->loss function->gradient->optimization"
   ]
  },
  {
   "cell_type": "code",
   "execution_count": 212,
   "metadata": {},
   "outputs": [],
   "source": [
    "# train!(loss, pars::Params, data, opt::AbstractOptimiser; [cb])\n",
    "#future versions of FluxML may change this function call"
   ]
  },
  {
   "cell_type": "code",
   "execution_count": 328,
   "metadata": {},
   "outputs": [
    {
     "data": {
      "text/plain": [
       "1-element Vector{Float64}:\n",
       " -0.10898633622714388"
      ]
     },
     "metadata": {},
     "output_type": "display_data"
    },
    {
     "data": {
      "text/plain": [
       "1-element Vector{Float32}:\n",
       " -0.16092119"
      ]
     },
     "metadata": {},
     "output_type": "display_data"
    },
    {
     "data": {
      "text/plain": [
       "Adam(0.5, (0.9, 0.999), 1.0e-8, IdDict{Any, Any}())"
      ]
     },
     "execution_count": 328,
     "metadata": {},
     "output_type": "execute_result"
    }
   ],
   "source": [
    "m1b = Chain( Dense(3 => 2, sigmoid) , Dense(2 => 1) )\n",
    "#test the data transformation\n",
    "display( m1b(rand(3)) )\n",
    "display( m1b([1,2,3]) )\n",
    "function loss1b(x,y) \n",
    "    println(\"x = $(x), y = $(y)\")\n",
    "    y_hat = m1b(x)\n",
    "    println(\"y_hat = $(y_hat)\")\n",
    "    abs.( y .- y_hat )[1]\n",
    "end\n",
    "params = Flux.params( m1b )\n",
    "opt = Adam(0.5)"
   ]
  },
  {
   "cell_type": "code",
   "execution_count": 329,
   "metadata": {},
   "outputs": [
    {
     "name": "stdout",
     "output_type": "stream",
     "text": [
      "x = [1, 2, 3], y = 100\n",
      "y_hat = Float32[-0.16092119]\n",
      "pre-train loss = 100.16092\n",
      "x = [1, 2, 3], y = 100\n",
      "y_hat = Float32[-0.16092119]\n",
      "x = [1, 2, 3], y = 100\n",
      "y_hat = Float32[1.3154023]\n",
      "post-train loss = 98.6846\n"
     ]
    }
   ],
   "source": [
    "x = [1,2,3]\n",
    "y = 100 #target\n",
    "println(\"pre-train loss = $(loss1b(x,y))\")\n",
    "Flux.train!( loss1b , params , [(x,y)] , opt )\n",
    "println(\"post-train loss = $(loss1b(x,y))\")"
   ]
  },
  {
   "cell_type": "code",
   "execution_count": 330,
   "metadata": {},
   "outputs": [
    {
     "name": "stdout",
     "output_type": "stream",
     "text": [
      "x = [1, 2, 3], y = 100\n",
      "y_hat = Float32[1.3154023]\n",
      "x = [1, 2, 3], y = 100\n",
      "y_hat = Float32[2.3286602]\n",
      "train loss = 97.67134\n"
     ]
    }
   ],
   "source": [
    "#let us continue the training\n",
    "data = [(x,y)]\n",
    "Flux.train!( loss1b , params , data , opt )\n",
    "println(\"train loss = $(loss1b(x,y))\")"
   ]
  },
  {
   "cell_type": "code",
   "execution_count": 331,
   "metadata": {},
   "outputs": [
    {
     "name": "stdout",
     "output_type": "stream",
     "text": [
      "x = [1, 2, 3], y = 100\n",
      "y_hat = Float32[2.3286602]\n",
      "x = [1, 2, 3], y = 100\n",
      "y_hat = Float32[3.3250794]\n",
      "x = [1, 2, 3], y = 100\n",
      "y_hat = Float32[4.3245325]\n",
      "x = [1, 2, 3], y = 100\n",
      "y_hat = Float32[5.32508]\n",
      "x = [1, 2, 3], y = 100\n",
      "y_hat = Float32[6.3260374]\n",
      "x = [1, 2, 3], y = 100\n",
      "y_hat = Float32[7.3271685]\n",
      "x = [1, 2, 3], y = 100\n",
      "y_hat = Float32[8.328377]\n",
      "train loss = 91.67162\n"
     ]
    }
   ],
   "source": [
    "#this can be repetitive so let us just place many repeated data points in the dataset\n",
    "data = [ (x,y), (x,y), (x,y), (x,y), (x,y), (x,y) ]\n",
    "Flux.train!( loss1b , params , data , opt )\n",
    "println(\"train loss = $(loss1b(x,y))\")"
   ]
  },
  {
   "cell_type": "code",
   "execution_count": 332,
   "metadata": {},
   "outputs": [],
   "source": [
    "#has a convenient function called ncycle as we will apply\n",
    "using IterTools"
   ]
  },
  {
   "cell_type": "code",
   "execution_count": 333,
   "metadata": {},
   "outputs": [
    {
     "data": {
      "text/plain": [
       "20"
      ]
     },
     "metadata": {},
     "output_type": "display_data"
    }
   ],
   "source": [
    "data = ncycle([(x, y)], 20)\n",
    "display( length(data) )"
   ]
  },
  {
   "cell_type": "code",
   "execution_count": 334,
   "metadata": {},
   "outputs": [
    {
     "name": "stdout",
     "output_type": "stream",
     "text": [
      "x = [1, 2, 3], y = 100\n",
      "y_hat = Float32[8.328377]\n",
      "x = [1, 2, 3], y = 100\n",
      "y_hat = Float32[9.329622]\n",
      "x = [1, 2, 3], y = 100\n",
      "y_hat = Float32[10.330881]\n",
      "x = [1, 2, 3], y = 100\n",
      "y_hat = Float32[11.332142]\n",
      "x = [1, 2, 3], y = 100\n",
      "y_hat = Float32[12.333397]\n",
      "x = [1, 2, 3], y = 100\n",
      "y_hat = Float32[13.334642]\n",
      "x = [1, 2, 3], y = 100\n",
      "y_hat = Float32[14.335875]\n",
      "x = [1, 2, 3], y = 100\n",
      "y_hat = Float32[15.337091]\n",
      "x = [1, 2, 3], y = 100\n",
      "y_hat = Float32[16.338291]\n",
      "x = [1, 2, 3], y = 100\n",
      "y_hat = Float32[17.339472]\n",
      "x = [1, 2, 3], y = 100\n",
      "y_hat = Float32[18.340633]\n",
      "x = [1, 2, 3], y = 100\n",
      "y_hat = Float32[19.341778]\n",
      "x = [1, 2, 3], y = 100\n",
      "y_hat = Float32[20.342901]\n",
      "x = [1, 2, 3], y = 100\n",
      "y_hat = Float32[21.344006]\n",
      "x = [1, 2, 3], y = 100\n",
      "y_hat = Float32[22.345089]\n",
      "x = [1, 2, 3], y = 100\n",
      "y_hat = Float32[23.346151]\n",
      "x = [1, 2, 3], y = 100\n",
      "y_hat = Float32[24.347195]\n",
      "x = [1, 2, 3], y = 100\n",
      "y_hat = Float32[25.348217]\n",
      "x = [1, 2, 3], y = 100\n",
      "y_hat = Float32[26.34922]\n",
      "x = [1, 2, 3], y = 100\n",
      "y_hat = Float32[27.350204]\n",
      "x = [1, 2, 3], y = 100\n",
      "y_hat = Float32[28.35117]\n",
      "train loss = 71.648834\n"
     ]
    }
   ],
   "source": [
    "Flux.train!( loss1b , params , data , opt )\n",
    "println(\"train loss = $(loss1b(x,y))\")"
   ]
  },
  {
   "cell_type": "code",
   "execution_count": 261,
   "metadata": {},
   "outputs": [
    {
     "name": "stdout",
     "output_type": "stream",
     "text": [
      "x = [1, 2, 3], y = 100\n",
      "y_hat = Float32[30.033571]\n",
      "x = [1, 2, 3], y = 100\n",
      "y_hat = Float32[40.03357]\n",
      "x = [1, 2, 3], y = 100\n",
      "y_hat = Float32[50.03357]\n",
      "x = [1, 2, 3], y = 100\n",
      "y_hat = Float32[60.03357]\n",
      "x = [1, 2, 3], y = 100\n",
      "y_hat = Float32[70.03357]\n",
      "x = [1, 2, 3], y = 100\n",
      "y_hat = Float32[80.03357]\n",
      "x = [1, 2, 3], y = 100\n",
      "y_hat = Float32[90.03357]\n",
      "x = [1, 2, 3], y = 100\n",
      "y_hat = Float32[100.05939]\n",
      "x = [1, 2, 3], y = 100\n",
      "y_hat = Float32[106.52192]\n",
      "x = [1, 2, 3], y = 100\n",
      "y_hat = Float32[110.31864]\n",
      "x = [1, 2, 3], y = 100\n",
      "y_hat = Float32[111.9971]\n",
      "x = [1, 2, 3], y = 100\n",
      "y_hat = Float32[111.97363]\n",
      "x = [1, 2, 3], y = 100\n",
      "y_hat = Float32[110.559845]\n",
      "x = [1, 2, 3], y = 100\n",
      "y_hat = Float32[107.9948]\n",
      "x = [1, 2, 3], y = 100\n",
      "y_hat = Float32[104.46571]\n",
      "x = [1, 2, 3], y = 100\n",
      "y_hat = Float32[100.121765]\n",
      "x = [1, 2, 3], y = 100\n",
      "y_hat = Float32[95.083565]\n",
      "x = [1, 2, 3], y = 100\n",
      "y_hat = Float32[91.850174]\n",
      "x = [1, 2, 3], y = 100\n",
      "y_hat = Float32[90.17383]\n",
      "x = [1, 2, 3], y = 100\n",
      "y_hat = Float32[89.84748]\n",
      "x = [1, 2, 3], y = 100\n",
      "y_hat = Float32[90.69669]\n",
      "train loss = 9.303307\n"
     ]
    }
   ],
   "source": [
    "#change the optimizer to make the steps 'larger' needing less steps but more 'coarse'\n",
    "opt = Adam(5)\n",
    "Flux.train!( loss1b , params , data , opt )\n",
    "println(\"train loss = $(loss1b(x,y))\")"
   ]
  },
  {
   "cell_type": "code",
   "execution_count": 390,
   "metadata": {},
   "outputs": [
    {
     "data": {
      "text/plain": [
       "Adam(0.1, (0.9, 0.999), 1.0e-8, IdDict{Any, Any}())"
      ]
     },
     "execution_count": 390,
     "metadata": {},
     "output_type": "execute_result"
    }
   ],
   "source": [
    "#we can run a similar model again but with a more custom loop\n",
    "#reset with a new model, params optimizer etc\n",
    "m1c = Chain( Dense(3 => 2, sigmoid) , Dense(2 => 1) )\n",
    "function loss1c(x,y) \n",
    "    y_hat = m1c(x)\n",
    "    abs.( y .- y_hat )[1]\n",
    "end\n",
    "params = Flux.params( m1c )\n",
    "opt = Adam(0.1)"
   ]
  },
  {
   "cell_type": "code",
   "execution_count": 399,
   "metadata": {},
   "outputs": [
    {
     "data": {
      "text/plain": [
       "IterTools.NCycle{Vector{Tuple{Vector{Int64}, Int64}}}([([10, 20, 30], 100)], 2000)"
      ]
     },
     "execution_count": 399,
     "metadata": {},
     "output_type": "execute_result"
    }
   ],
   "source": [
    "x = [10,20,30]\n",
    "y = 100 #target\n",
    "data = ncycle([(x, y)], 2000)"
   ]
  },
  {
   "cell_type": "code",
   "execution_count": 400,
   "metadata": {},
   "outputs": [
    {
     "data": {
      "text/plain": [
       "2000"
      ]
     },
     "metadata": {},
     "output_type": "display_data"
    }
   ],
   "source": [
    "display(length(data))"
   ]
  },
  {
   "cell_type": "code",
   "execution_count": 401,
   "metadata": {},
   "outputs": [
    {
     "data": {
      "text/plain": [
       "([10, 20, 30], 100)"
      ]
     },
     "execution_count": 401,
     "metadata": {},
     "output_type": "execute_result"
    }
   ],
   "source": [
    "#iterators (not just in Julia) have their own methods of being accessed\n",
    "nth(data,1)"
   ]
  },
  {
   "cell_type": "code",
   "execution_count": 402,
   "metadata": {},
   "outputs": [
    {
     "data": {
      "text/plain": [
       "([10, 20, 30], 100)"
      ]
     },
     "execution_count": 402,
     "metadata": {},
     "output_type": "execute_result"
    }
   ],
   "source": [
    "nth(data,8)"
   ]
  },
  {
   "cell_type": "code",
   "execution_count": 403,
   "metadata": {},
   "outputs": [
    {
     "data": {
      "text/plain": [
       "([10, 20, 30], 100)"
      ]
     },
     "metadata": {},
     "output_type": "display_data"
    },
    {
     "data": {
      "text/plain": [
       "3-element Vector{Int64}:\n",
       " 10\n",
       " 20\n",
       " 30"
      ]
     },
     "metadata": {},
     "output_type": "display_data"
    },
    {
     "data": {
      "text/plain": [
       "100"
      ]
     },
     "metadata": {},
     "output_type": "display_data"
    },
    {
     "data": {
      "text/plain": [
       "([10, 20, 30], 100)"
      ]
     },
     "metadata": {},
     "output_type": "display_data"
    },
    {
     "data": {
      "text/plain": [
       "3-element Vector{Int64}:\n",
       " 10\n",
       " 20\n",
       " 30"
      ]
     },
     "metadata": {},
     "output_type": "display_data"
    },
    {
     "data": {
      "text/plain": [
       "100"
      ]
     },
     "metadata": {},
     "output_type": "display_data"
    },
    {
     "data": {
      "text/plain": [
       "([10, 20, 30], 100)"
      ]
     },
     "metadata": {},
     "output_type": "display_data"
    },
    {
     "data": {
      "text/plain": [
       "3-element Vector{Int64}:\n",
       " 10\n",
       " 20\n",
       " 30"
      ]
     },
     "metadata": {},
     "output_type": "display_data"
    },
    {
     "data": {
      "text/plain": [
       "100"
      ]
     },
     "metadata": {},
     "output_type": "display_data"
    }
   ],
   "source": [
    "#we can use iterators in a loop\n",
    "ii = 1\n",
    "for data_tmp in data\n",
    "    if(ii > 3) break end\n",
    "    ii += 1\n",
    "    display( data_tmp )\n",
    "    display( data_tmp[1] )\n",
    "    display( data_tmp[2] )\n",
    "end"
   ]
  },
  {
   "cell_type": "code",
   "execution_count": 404,
   "metadata": {},
   "outputs": [],
   "source": [
    "#iterate our training\n",
    "losses = []\n",
    "for data_tmp in data\n",
    "    \n",
    "    Flux.train!( loss1c , params , [data_tmp] , opt )\n",
    "    push!(losses, loss1c(data_tmp...) )\n",
    "    \n",
    "end"
   ]
  },
  {
   "cell_type": "code",
   "execution_count": 405,
   "metadata": {},
   "outputs": [
    {
     "data": {
      "image/svg+xml": [
       "<?xml version=\"1.0\" encoding=\"utf-8\"?>\n",
       "<svg xmlns=\"http://www.w3.org/2000/svg\" xmlns:xlink=\"http://www.w3.org/1999/xlink\" width=\"600\" height=\"400\" viewBox=\"0 0 2400 1600\">\n",
       "<defs>\n",
       "  <clipPath id=\"clip710\">\n",
       "    <rect x=\"0\" y=\"0\" width=\"2400\" height=\"1600\"/>\n",
       "  </clipPath>\n",
       "</defs>\n",
       "<path clip-path=\"url(#clip710)\" d=\"\n",
       "M0 1600 L2400 1600 L2400 0 L0 0  Z\n",
       "  \" fill=\"#ffffff\" fill-rule=\"evenodd\" fill-opacity=\"1\"/>\n",
       "<defs>\n",
       "  <clipPath id=\"clip711\">\n",
       "    <rect x=\"480\" y=\"0\" width=\"1681\" height=\"1600\"/>\n",
       "  </clipPath>\n",
       "</defs>\n",
       "<path clip-path=\"url(#clip710)\" d=\"\n",
       "M141.853 1486.45 L2352.76 1486.45 L2352.76 47.2441 L141.853 47.2441  Z\n",
       "  \" fill=\"#ffffff\" fill-rule=\"evenodd\" fill-opacity=\"1\"/>\n",
       "<defs>\n",
       "  <clipPath id=\"clip712\">\n",
       "    <rect x=\"141\" y=\"47\" width=\"2212\" height=\"1440\"/>\n",
       "  </clipPath>\n",
       "</defs>\n",
       "<polyline clip-path=\"url(#clip712)\" style=\"stroke:#000000; stroke-linecap:round; stroke-linejoin:round; stroke-width:2; stroke-opacity:0.1; fill:none\" points=\"\n",
       "  203.382,1486.45 203.382,47.2441 \n",
       "  \"/>\n",
       "<polyline clip-path=\"url(#clip712)\" style=\"stroke:#000000; stroke-linecap:round; stroke-linejoin:round; stroke-width:2; stroke-opacity:0.1; fill:none\" points=\"\n",
       "  725.082,1486.45 725.082,47.2441 \n",
       "  \"/>\n",
       "<polyline clip-path=\"url(#clip712)\" style=\"stroke:#000000; stroke-linecap:round; stroke-linejoin:round; stroke-width:2; stroke-opacity:0.1; fill:none\" points=\"\n",
       "  1246.78,1486.45 1246.78,47.2441 \n",
       "  \"/>\n",
       "<polyline clip-path=\"url(#clip712)\" style=\"stroke:#000000; stroke-linecap:round; stroke-linejoin:round; stroke-width:2; stroke-opacity:0.1; fill:none\" points=\"\n",
       "  1768.48,1486.45 1768.48,47.2441 \n",
       "  \"/>\n",
       "<polyline clip-path=\"url(#clip712)\" style=\"stroke:#000000; stroke-linecap:round; stroke-linejoin:round; stroke-width:2; stroke-opacity:0.1; fill:none\" points=\"\n",
       "  2290.18,1486.45 2290.18,47.2441 \n",
       "  \"/>\n",
       "<polyline clip-path=\"url(#clip710)\" style=\"stroke:#000000; stroke-linecap:round; stroke-linejoin:round; stroke-width:4; stroke-opacity:1; fill:none\" points=\"\n",
       "  141.853,1486.45 2352.76,1486.45 \n",
       "  \"/>\n",
       "<polyline clip-path=\"url(#clip710)\" style=\"stroke:#000000; stroke-linecap:round; stroke-linejoin:round; stroke-width:4; stroke-opacity:1; fill:none\" points=\"\n",
       "  203.382,1486.45 203.382,1467.55 \n",
       "  \"/>\n",
       "<polyline clip-path=\"url(#clip710)\" style=\"stroke:#000000; stroke-linecap:round; stroke-linejoin:round; stroke-width:4; stroke-opacity:1; fill:none\" points=\"\n",
       "  725.082,1486.45 725.082,1467.55 \n",
       "  \"/>\n",
       "<polyline clip-path=\"url(#clip710)\" style=\"stroke:#000000; stroke-linecap:round; stroke-linejoin:round; stroke-width:4; stroke-opacity:1; fill:none\" points=\"\n",
       "  1246.78,1486.45 1246.78,1467.55 \n",
       "  \"/>\n",
       "<polyline clip-path=\"url(#clip710)\" style=\"stroke:#000000; stroke-linecap:round; stroke-linejoin:round; stroke-width:4; stroke-opacity:1; fill:none\" points=\"\n",
       "  1768.48,1486.45 1768.48,1467.55 \n",
       "  \"/>\n",
       "<polyline clip-path=\"url(#clip710)\" style=\"stroke:#000000; stroke-linecap:round; stroke-linejoin:round; stroke-width:4; stroke-opacity:1; fill:none\" points=\"\n",
       "  2290.18,1486.45 2290.18,1467.55 \n",
       "  \"/>\n",
       "<path clip-path=\"url(#clip710)\" d=\"M203.382 1517.37 Q199.771 1517.37 197.942 1520.93 Q196.137 1524.47 196.137 1531.6 Q196.137 1538.71 197.942 1542.27 Q199.771 1545.82 203.382 1545.82 Q207.017 1545.82 208.822 1542.27 Q210.651 1538.71 210.651 1531.6 Q210.651 1524.47 208.822 1520.93 Q207.017 1517.37 203.382 1517.37 M203.382 1513.66 Q209.192 1513.66 212.248 1518.27 Q215.327 1522.85 215.327 1531.6 Q215.327 1540.33 212.248 1544.94 Q209.192 1549.52 203.382 1549.52 Q197.572 1549.52 194.493 1544.94 Q191.438 1540.33 191.438 1531.6 Q191.438 1522.85 194.493 1518.27 Q197.572 1513.66 203.382 1513.66 Z\" fill=\"#000000\" fill-rule=\"evenodd\" fill-opacity=\"1\" /><path clip-path=\"url(#clip710)\" d=\"M684.701 1514.29 L703.057 1514.29 L703.057 1518.22 L688.983 1518.22 L688.983 1526.7 Q690.002 1526.35 691.02 1526.19 Q692.039 1526 693.057 1526 Q698.844 1526 702.224 1529.17 Q705.603 1532.34 705.603 1537.76 Q705.603 1543.34 702.131 1546.44 Q698.659 1549.52 692.34 1549.52 Q690.164 1549.52 687.895 1549.15 Q685.65 1548.78 683.242 1548.04 L683.242 1543.34 Q685.326 1544.47 687.548 1545.03 Q689.77 1545.58 692.247 1545.58 Q696.252 1545.58 698.59 1543.48 Q700.928 1541.37 700.928 1537.76 Q700.928 1534.15 698.59 1532.04 Q696.252 1529.94 692.247 1529.94 Q690.372 1529.94 688.497 1530.35 Q686.645 1530.77 684.701 1531.65 L684.701 1514.29 Z\" fill=\"#000000\" fill-rule=\"evenodd\" fill-opacity=\"1\" /><path clip-path=\"url(#clip710)\" d=\"M724.816 1517.37 Q721.205 1517.37 719.377 1520.93 Q717.571 1524.47 717.571 1531.6 Q717.571 1538.71 719.377 1542.27 Q721.205 1545.82 724.816 1545.82 Q728.451 1545.82 730.256 1542.27 Q732.085 1538.71 732.085 1531.6 Q732.085 1524.47 730.256 1520.93 Q728.451 1517.37 724.816 1517.37 M724.816 1513.66 Q730.626 1513.66 733.682 1518.27 Q736.761 1522.85 736.761 1531.6 Q736.761 1540.33 733.682 1544.94 Q730.626 1549.52 724.816 1549.52 Q719.006 1549.52 715.927 1544.94 Q712.872 1540.33 712.872 1531.6 Q712.872 1522.85 715.927 1518.27 Q719.006 1513.66 724.816 1513.66 Z\" fill=\"#000000\" fill-rule=\"evenodd\" fill-opacity=\"1\" /><path clip-path=\"url(#clip710)\" d=\"M754.978 1517.37 Q751.367 1517.37 749.538 1520.93 Q747.733 1524.47 747.733 1531.6 Q747.733 1538.71 749.538 1542.27 Q751.367 1545.82 754.978 1545.82 Q758.612 1545.82 760.418 1542.27 Q762.247 1538.71 762.247 1531.6 Q762.247 1524.47 760.418 1520.93 Q758.612 1517.37 754.978 1517.37 M754.978 1513.66 Q760.788 1513.66 763.844 1518.27 Q766.923 1522.85 766.923 1531.6 Q766.923 1540.33 763.844 1544.94 Q760.788 1549.52 754.978 1549.52 Q749.168 1549.52 746.089 1544.94 Q743.034 1540.33 743.034 1531.6 Q743.034 1522.85 746.089 1518.27 Q749.168 1513.66 754.978 1513.66 Z\" fill=\"#000000\" fill-rule=\"evenodd\" fill-opacity=\"1\" /><path clip-path=\"url(#clip710)\" d=\"M1191.31 1544.91 L1198.95 1544.91 L1198.95 1518.55 L1190.64 1520.21 L1190.64 1515.95 L1198.9 1514.29 L1203.58 1514.29 L1203.58 1544.91 L1211.22 1544.91 L1211.22 1548.85 L1191.31 1548.85 L1191.31 1544.91 Z\" fill=\"#000000\" fill-rule=\"evenodd\" fill-opacity=\"1\" /><path clip-path=\"url(#clip710)\" d=\"M1230.66 1517.37 Q1227.05 1517.37 1225.22 1520.93 Q1223.41 1524.47 1223.41 1531.6 Q1223.41 1538.71 1225.22 1542.27 Q1227.05 1545.82 1230.66 1545.82 Q1234.29 1545.82 1236.1 1542.27 Q1237.93 1538.71 1237.93 1531.6 Q1237.93 1524.47 1236.1 1520.93 Q1234.29 1517.37 1230.66 1517.37 M1230.66 1513.66 Q1236.47 1513.66 1239.53 1518.27 Q1242.6 1522.85 1242.6 1531.6 Q1242.6 1540.33 1239.53 1544.94 Q1236.47 1549.52 1230.66 1549.52 Q1224.85 1549.52 1221.77 1544.94 Q1218.72 1540.33 1218.72 1531.6 Q1218.72 1522.85 1221.77 1518.27 Q1224.85 1513.66 1230.66 1513.66 Z\" fill=\"#000000\" fill-rule=\"evenodd\" fill-opacity=\"1\" /><path clip-path=\"url(#clip710)\" d=\"M1260.82 1517.37 Q1257.21 1517.37 1255.38 1520.93 Q1253.58 1524.47 1253.58 1531.6 Q1253.58 1538.71 1255.38 1542.27 Q1257.21 1545.82 1260.82 1545.82 Q1264.46 1545.82 1266.26 1542.27 Q1268.09 1538.71 1268.09 1531.6 Q1268.09 1524.47 1266.26 1520.93 Q1264.46 1517.37 1260.82 1517.37 M1260.82 1513.66 Q1266.63 1513.66 1269.69 1518.27 Q1272.77 1522.85 1272.77 1531.6 Q1272.77 1540.33 1269.69 1544.94 Q1266.63 1549.52 1260.82 1549.52 Q1255.01 1549.52 1251.93 1544.94 Q1248.88 1540.33 1248.88 1531.6 Q1248.88 1522.85 1251.93 1518.27 Q1255.01 1513.66 1260.82 1513.66 Z\" fill=\"#000000\" fill-rule=\"evenodd\" fill-opacity=\"1\" /><path clip-path=\"url(#clip710)\" d=\"M1290.98 1517.37 Q1287.37 1517.37 1285.54 1520.93 Q1283.74 1524.47 1283.74 1531.6 Q1283.74 1538.71 1285.54 1542.27 Q1287.37 1545.82 1290.98 1545.82 Q1294.62 1545.82 1296.42 1542.27 Q1298.25 1538.71 1298.25 1531.6 Q1298.25 1524.47 1296.42 1520.93 Q1294.62 1517.37 1290.98 1517.37 M1290.98 1513.66 Q1296.79 1513.66 1299.85 1518.27 Q1302.93 1522.85 1302.93 1531.6 Q1302.93 1540.33 1299.85 1544.94 Q1296.79 1549.52 1290.98 1549.52 Q1285.17 1549.52 1282.1 1544.94 Q1279.04 1540.33 1279.04 1531.6 Q1279.04 1522.85 1282.1 1518.27 Q1285.17 1513.66 1290.98 1513.66 Z\" fill=\"#000000\" fill-rule=\"evenodd\" fill-opacity=\"1\" /><path clip-path=\"url(#clip710)\" d=\"M1713.01 1544.91 L1720.65 1544.91 L1720.65 1518.55 L1712.34 1520.21 L1712.34 1515.95 L1720.6 1514.29 L1725.28 1514.29 L1725.28 1544.91 L1732.92 1544.91 L1732.92 1548.85 L1713.01 1548.85 L1713.01 1544.91 Z\" fill=\"#000000\" fill-rule=\"evenodd\" fill-opacity=\"1\" /><path clip-path=\"url(#clip710)\" d=\"M1742.41 1514.29 L1760.76 1514.29 L1760.76 1518.22 L1746.69 1518.22 L1746.69 1526.7 Q1747.71 1526.35 1748.73 1526.19 Q1749.74 1526 1750.76 1526 Q1756.55 1526 1759.93 1529.17 Q1763.31 1532.34 1763.31 1537.76 Q1763.31 1543.34 1759.84 1546.44 Q1756.36 1549.52 1750.05 1549.52 Q1747.87 1549.52 1745.6 1549.15 Q1743.36 1548.78 1740.95 1548.04 L1740.95 1543.34 Q1743.03 1544.47 1745.25 1545.03 Q1747.48 1545.58 1749.95 1545.58 Q1753.96 1545.58 1756.3 1543.48 Q1758.63 1541.37 1758.63 1537.76 Q1758.63 1534.15 1756.3 1532.04 Q1753.96 1529.94 1749.95 1529.94 Q1748.08 1529.94 1746.2 1530.35 Q1744.35 1530.77 1742.41 1531.65 L1742.41 1514.29 Z\" fill=\"#000000\" fill-rule=\"evenodd\" fill-opacity=\"1\" /><path clip-path=\"url(#clip710)\" d=\"M1782.52 1517.37 Q1778.91 1517.37 1777.08 1520.93 Q1775.28 1524.47 1775.28 1531.6 Q1775.28 1538.71 1777.08 1542.27 Q1778.91 1545.82 1782.52 1545.82 Q1786.16 1545.82 1787.96 1542.27 Q1789.79 1538.71 1789.79 1531.6 Q1789.79 1524.47 1787.96 1520.93 Q1786.16 1517.37 1782.52 1517.37 M1782.52 1513.66 Q1788.33 1513.66 1791.39 1518.27 Q1794.47 1522.85 1794.47 1531.6 Q1794.47 1540.33 1791.39 1544.94 Q1788.33 1549.52 1782.52 1549.52 Q1776.71 1549.52 1773.63 1544.94 Q1770.58 1540.33 1770.58 1531.6 Q1770.58 1522.85 1773.63 1518.27 Q1776.71 1513.66 1782.52 1513.66 Z\" fill=\"#000000\" fill-rule=\"evenodd\" fill-opacity=\"1\" /><path clip-path=\"url(#clip710)\" d=\"M1812.68 1517.37 Q1809.07 1517.37 1807.24 1520.93 Q1805.44 1524.47 1805.44 1531.6 Q1805.44 1538.71 1807.24 1542.27 Q1809.07 1545.82 1812.68 1545.82 Q1816.32 1545.82 1818.12 1542.27 Q1819.95 1538.71 1819.95 1531.6 Q1819.95 1524.47 1818.12 1520.93 Q1816.32 1517.37 1812.68 1517.37 M1812.68 1513.66 Q1818.49 1513.66 1821.55 1518.27 Q1824.63 1522.85 1824.63 1531.6 Q1824.63 1540.33 1821.55 1544.94 Q1818.49 1549.52 1812.68 1549.52 Q1806.87 1549.52 1803.8 1544.94 Q1800.74 1540.33 1800.74 1531.6 Q1800.74 1522.85 1803.8 1518.27 Q1806.87 1513.66 1812.68 1513.66 Z\" fill=\"#000000\" fill-rule=\"evenodd\" fill-opacity=\"1\" /><path clip-path=\"url(#clip710)\" d=\"M2238.79 1544.91 L2255.11 1544.91 L2255.11 1548.85 L2233.17 1548.85 L2233.17 1544.91 Q2235.83 1542.16 2240.41 1537.53 Q2245.02 1532.88 2246.2 1531.53 Q2248.45 1529.01 2249.33 1527.27 Q2250.23 1525.51 2250.23 1523.82 Q2250.23 1521.07 2248.29 1519.33 Q2246.36 1517.6 2243.26 1517.6 Q2241.06 1517.6 2238.61 1518.36 Q2236.18 1519.13 2233.4 1520.68 L2233.4 1515.95 Q2236.23 1514.82 2238.68 1514.24 Q2241.13 1513.66 2243.17 1513.66 Q2248.54 1513.66 2251.73 1516.35 Q2254.93 1519.03 2254.93 1523.52 Q2254.93 1525.65 2254.12 1527.57 Q2253.33 1529.47 2251.23 1532.07 Q2250.65 1532.74 2247.54 1535.95 Q2244.44 1539.15 2238.79 1544.91 Z\" fill=\"#000000\" fill-rule=\"evenodd\" fill-opacity=\"1\" /><path clip-path=\"url(#clip710)\" d=\"M2274.93 1517.37 Q2271.32 1517.37 2269.49 1520.93 Q2267.68 1524.47 2267.68 1531.6 Q2267.68 1538.71 2269.49 1542.27 Q2271.32 1545.82 2274.93 1545.82 Q2278.56 1545.82 2280.37 1542.27 Q2282.2 1538.71 2282.2 1531.6 Q2282.2 1524.47 2280.37 1520.93 Q2278.56 1517.37 2274.93 1517.37 M2274.93 1513.66 Q2280.74 1513.66 2283.79 1518.27 Q2286.87 1522.85 2286.87 1531.6 Q2286.87 1540.33 2283.79 1544.94 Q2280.74 1549.52 2274.93 1549.52 Q2269.12 1549.52 2266.04 1544.94 Q2262.98 1540.33 2262.98 1531.6 Q2262.98 1522.85 2266.04 1518.27 Q2269.12 1513.66 2274.93 1513.66 Z\" fill=\"#000000\" fill-rule=\"evenodd\" fill-opacity=\"1\" /><path clip-path=\"url(#clip710)\" d=\"M2305.09 1517.37 Q2301.48 1517.37 2299.65 1520.93 Q2297.85 1524.47 2297.85 1531.6 Q2297.85 1538.71 2299.65 1542.27 Q2301.48 1545.82 2305.09 1545.82 Q2308.72 1545.82 2310.53 1542.27 Q2312.36 1538.71 2312.36 1531.6 Q2312.36 1524.47 2310.53 1520.93 Q2308.72 1517.37 2305.09 1517.37 M2305.09 1513.66 Q2310.9 1513.66 2313.96 1518.27 Q2317.03 1522.85 2317.03 1531.6 Q2317.03 1540.33 2313.96 1544.94 Q2310.9 1549.52 2305.09 1549.52 Q2299.28 1549.52 2296.2 1544.94 Q2293.15 1540.33 2293.15 1531.6 Q2293.15 1522.85 2296.2 1518.27 Q2299.28 1513.66 2305.09 1513.66 Z\" fill=\"#000000\" fill-rule=\"evenodd\" fill-opacity=\"1\" /><path clip-path=\"url(#clip710)\" d=\"M2335.25 1517.37 Q2331.64 1517.37 2329.81 1520.93 Q2328.01 1524.47 2328.01 1531.6 Q2328.01 1538.71 2329.81 1542.27 Q2331.64 1545.82 2335.25 1545.82 Q2338.89 1545.82 2340.69 1542.27 Q2342.52 1538.71 2342.52 1531.6 Q2342.52 1524.47 2340.69 1520.93 Q2338.89 1517.37 2335.25 1517.37 M2335.25 1513.66 Q2341.06 1513.66 2344.12 1518.27 Q2347.2 1522.85 2347.2 1531.6 Q2347.2 1540.33 2344.12 1544.94 Q2341.06 1549.52 2335.25 1549.52 Q2329.44 1549.52 2326.36 1544.94 Q2323.31 1540.33 2323.31 1531.6 Q2323.31 1522.85 2326.36 1518.27 Q2329.44 1513.66 2335.25 1513.66 Z\" fill=\"#000000\" fill-rule=\"evenodd\" fill-opacity=\"1\" /><polyline clip-path=\"url(#clip712)\" style=\"stroke:#000000; stroke-linecap:round; stroke-linejoin:round; stroke-width:2; stroke-opacity:0.1; fill:none\" points=\"\n",
       "  141.853,1445.72 2352.76,1445.72 \n",
       "  \"/>\n",
       "<polyline clip-path=\"url(#clip712)\" style=\"stroke:#000000; stroke-linecap:round; stroke-linejoin:round; stroke-width:2; stroke-opacity:0.1; fill:none\" points=\"\n",
       "  141.853,1214.91 2352.76,1214.91 \n",
       "  \"/>\n",
       "<polyline clip-path=\"url(#clip712)\" style=\"stroke:#000000; stroke-linecap:round; stroke-linejoin:round; stroke-width:2; stroke-opacity:0.1; fill:none\" points=\"\n",
       "  141.853,984.103 2352.76,984.103 \n",
       "  \"/>\n",
       "<polyline clip-path=\"url(#clip712)\" style=\"stroke:#000000; stroke-linecap:round; stroke-linejoin:round; stroke-width:2; stroke-opacity:0.1; fill:none\" points=\"\n",
       "  141.853,753.295 2352.76,753.295 \n",
       "  \"/>\n",
       "<polyline clip-path=\"url(#clip712)\" style=\"stroke:#000000; stroke-linecap:round; stroke-linejoin:round; stroke-width:2; stroke-opacity:0.1; fill:none\" points=\"\n",
       "  141.853,522.486 2352.76,522.486 \n",
       "  \"/>\n",
       "<polyline clip-path=\"url(#clip712)\" style=\"stroke:#000000; stroke-linecap:round; stroke-linejoin:round; stroke-width:2; stroke-opacity:0.1; fill:none\" points=\"\n",
       "  141.853,291.677 2352.76,291.677 \n",
       "  \"/>\n",
       "<polyline clip-path=\"url(#clip712)\" style=\"stroke:#000000; stroke-linecap:round; stroke-linejoin:round; stroke-width:2; stroke-opacity:0.1; fill:none\" points=\"\n",
       "  141.853,60.8683 2352.76,60.8683 \n",
       "  \"/>\n",
       "<polyline clip-path=\"url(#clip710)\" style=\"stroke:#000000; stroke-linecap:round; stroke-linejoin:round; stroke-width:4; stroke-opacity:1; fill:none\" points=\"\n",
       "  141.853,1486.45 141.853,47.2441 \n",
       "  \"/>\n",
       "<polyline clip-path=\"url(#clip710)\" style=\"stroke:#000000; stroke-linecap:round; stroke-linejoin:round; stroke-width:4; stroke-opacity:1; fill:none\" points=\"\n",
       "  141.853,1445.72 160.751,1445.72 \n",
       "  \"/>\n",
       "<polyline clip-path=\"url(#clip710)\" style=\"stroke:#000000; stroke-linecap:round; stroke-linejoin:round; stroke-width:4; stroke-opacity:1; fill:none\" points=\"\n",
       "  141.853,1214.91 160.751,1214.91 \n",
       "  \"/>\n",
       "<polyline clip-path=\"url(#clip710)\" style=\"stroke:#000000; stroke-linecap:round; stroke-linejoin:round; stroke-width:4; stroke-opacity:1; fill:none\" points=\"\n",
       "  141.853,984.103 160.751,984.103 \n",
       "  \"/>\n",
       "<polyline clip-path=\"url(#clip710)\" style=\"stroke:#000000; stroke-linecap:round; stroke-linejoin:round; stroke-width:4; stroke-opacity:1; fill:none\" points=\"\n",
       "  141.853,753.295 160.751,753.295 \n",
       "  \"/>\n",
       "<polyline clip-path=\"url(#clip710)\" style=\"stroke:#000000; stroke-linecap:round; stroke-linejoin:round; stroke-width:4; stroke-opacity:1; fill:none\" points=\"\n",
       "  141.853,522.486 160.751,522.486 \n",
       "  \"/>\n",
       "<polyline clip-path=\"url(#clip710)\" style=\"stroke:#000000; stroke-linecap:round; stroke-linejoin:round; stroke-width:4; stroke-opacity:1; fill:none\" points=\"\n",
       "  141.853,291.677 160.751,291.677 \n",
       "  \"/>\n",
       "<polyline clip-path=\"url(#clip710)\" style=\"stroke:#000000; stroke-linecap:round; stroke-linejoin:round; stroke-width:4; stroke-opacity:1; fill:none\" points=\"\n",
       "  141.853,60.8683 160.751,60.8683 \n",
       "  \"/>\n",
       "<path clip-path=\"url(#clip710)\" d=\"M93.9086 1431.52 Q90.2975 1431.52 88.4688 1435.08 Q86.6632 1438.63 86.6632 1445.76 Q86.6632 1452.86 88.4688 1456.43 Q90.2975 1459.97 93.9086 1459.97 Q97.5428 1459.97 99.3483 1456.43 Q101.177 1452.86 101.177 1445.76 Q101.177 1438.63 99.3483 1435.08 Q97.5428 1431.52 93.9086 1431.52 M93.9086 1427.82 Q99.7187 1427.82 102.774 1432.42 Q105.853 1437.01 105.853 1445.76 Q105.853 1454.48 102.774 1459.09 Q99.7187 1463.67 93.9086 1463.67 Q88.0984 1463.67 85.0197 1459.09 Q81.9642 1454.48 81.9642 1445.76 Q81.9642 1437.01 85.0197 1432.42 Q88.0984 1427.82 93.9086 1427.82 Z\" fill=\"#000000\" fill-rule=\"evenodd\" fill-opacity=\"1\" /><path clip-path=\"url(#clip710)\" d=\"M54.5569 1228.26 L62.1958 1228.26 L62.1958 1201.89 L53.8856 1203.56 L53.8856 1199.3 L62.1495 1197.63 L66.8254 1197.63 L66.8254 1228.26 L74.4642 1228.26 L74.4642 1232.19 L54.5569 1232.19 L54.5569 1228.26 Z\" fill=\"#000000\" fill-rule=\"evenodd\" fill-opacity=\"1\" /><path clip-path=\"url(#clip710)\" d=\"M93.9086 1200.71 Q90.2975 1200.71 88.4688 1204.28 Q86.6632 1207.82 86.6632 1214.95 Q86.6632 1222.05 88.4688 1225.62 Q90.2975 1229.16 93.9086 1229.16 Q97.5428 1229.16 99.3483 1225.62 Q101.177 1222.05 101.177 1214.95 Q101.177 1207.82 99.3483 1204.28 Q97.5428 1200.71 93.9086 1200.71 M93.9086 1197.01 Q99.7187 1197.01 102.774 1201.61 Q105.853 1206.2 105.853 1214.95 Q105.853 1223.67 102.774 1228.28 Q99.7187 1232.86 93.9086 1232.86 Q88.0984 1232.86 85.0197 1228.28 Q81.9642 1223.67 81.9642 1214.95 Q81.9642 1206.2 85.0197 1201.61 Q88.0984 1197.01 93.9086 1197.01 Z\" fill=\"#000000\" fill-rule=\"evenodd\" fill-opacity=\"1\" /><path clip-path=\"url(#clip710)\" d=\"M57.7745 997.448 L74.0939 997.448 L74.0939 1001.38 L52.1495 1001.38 L52.1495 997.448 Q54.8115 994.694 59.3949 990.064 Q64.0013 985.411 65.1819 984.069 Q67.4272 981.546 68.3068 979.809 Q69.2096 978.05 69.2096 976.36 Q69.2096 973.606 67.2652 971.87 Q65.3439 970.134 62.2421 970.134 Q60.043 970.134 57.5893 970.897 Q55.1588 971.661 52.381 973.212 L52.381 968.49 Q55.2051 967.356 57.6588 966.777 Q60.1124 966.198 62.1495 966.198 Q67.5198 966.198 70.7142 968.884 Q73.9087 971.569 73.9087 976.059 Q73.9087 978.189 73.0985 980.11 Q72.3115 982.009 70.205 984.601 Q69.6263 985.272 66.5245 988.49 Q63.4226 991.684 57.7745 997.448 Z\" fill=\"#000000\" fill-rule=\"evenodd\" fill-opacity=\"1\" /><path clip-path=\"url(#clip710)\" d=\"M93.9086 969.902 Q90.2975 969.902 88.4688 973.467 Q86.6632 977.009 86.6632 984.138 Q86.6632 991.245 88.4688 994.809 Q90.2975 998.351 93.9086 998.351 Q97.5428 998.351 99.3483 994.809 Q101.177 991.245 101.177 984.138 Q101.177 977.009 99.3483 973.467 Q97.5428 969.902 93.9086 969.902 M93.9086 966.198 Q99.7187 966.198 102.774 970.805 Q105.853 975.388 105.853 984.138 Q105.853 992.865 102.774 997.471 Q99.7187 1002.05 93.9086 1002.05 Q88.0984 1002.05 85.0197 997.471 Q81.9642 992.865 81.9642 984.138 Q81.9642 975.388 85.0197 970.805 Q88.0984 966.198 93.9086 966.198 Z\" fill=\"#000000\" fill-rule=\"evenodd\" fill-opacity=\"1\" /><path clip-path=\"url(#clip710)\" d=\"M67.9133 751.94 Q71.2698 752.658 73.1448 754.927 Q75.0429 757.195 75.0429 760.528 Q75.0429 765.644 71.5244 768.445 Q68.0059 771.246 61.5245 771.246 Q59.3486 771.246 57.0338 770.806 Q54.7421 770.389 52.2884 769.533 L52.2884 765.019 Q54.2328 766.153 56.5477 766.732 Q58.8625 767.311 61.3856 767.311 Q65.7837 767.311 68.0754 765.575 Q70.3902 763.839 70.3902 760.528 Q70.3902 757.473 68.2374 755.76 Q66.1078 754.024 62.2884 754.024 L58.2606 754.024 L58.2606 750.181 L62.4735 750.181 Q65.9226 750.181 67.7513 748.816 Q69.58 747.427 69.58 744.834 Q69.58 742.172 67.6819 740.76 Q65.8069 739.325 62.2884 739.325 Q60.3671 739.325 58.168 739.741 Q55.969 740.158 53.3301 741.038 L53.3301 736.871 Q55.9921 736.13 58.3069 735.76 Q60.6449 735.39 62.705 735.39 Q68.0291 735.39 71.1309 737.82 Q74.2327 740.228 74.2327 744.348 Q74.2327 747.218 72.5892 749.209 Q70.9457 751.177 67.9133 751.94 Z\" fill=\"#000000\" fill-rule=\"evenodd\" fill-opacity=\"1\" /><path clip-path=\"url(#clip710)\" d=\"M93.9086 739.093 Q90.2975 739.093 88.4688 742.658 Q86.6632 746.2 86.6632 753.329 Q86.6632 760.436 88.4688 764.001 Q90.2975 767.542 93.9086 767.542 Q97.5428 767.542 99.3483 764.001 Q101.177 760.436 101.177 753.329 Q101.177 746.2 99.3483 742.658 Q97.5428 739.093 93.9086 739.093 M93.9086 735.39 Q99.7187 735.39 102.774 739.996 Q105.853 744.579 105.853 753.329 Q105.853 762.056 102.774 766.663 Q99.7187 771.246 93.9086 771.246 Q88.0984 771.246 85.0197 766.663 Q81.9642 762.056 81.9642 753.329 Q81.9642 744.579 85.0197 739.996 Q88.0984 735.39 93.9086 735.39 Z\" fill=\"#000000\" fill-rule=\"evenodd\" fill-opacity=\"1\" /><path clip-path=\"url(#clip710)\" d=\"M66.5939 509.28 L54.7884 527.729 L66.5939 527.729 L66.5939 509.28 M65.367 505.206 L71.2466 505.206 L71.2466 527.729 L76.1772 527.729 L76.1772 531.618 L71.2466 531.618 L71.2466 539.766 L66.5939 539.766 L66.5939 531.618 L50.9921 531.618 L50.9921 527.104 L65.367 505.206 Z\" fill=\"#000000\" fill-rule=\"evenodd\" fill-opacity=\"1\" /><path clip-path=\"url(#clip710)\" d=\"M93.9086 508.285 Q90.2975 508.285 88.4688 511.849 Q86.6632 515.391 86.6632 522.521 Q86.6632 529.627 88.4688 533.192 Q90.2975 536.733 93.9086 536.733 Q97.5428 536.733 99.3483 533.192 Q101.177 529.627 101.177 522.521 Q101.177 515.391 99.3483 511.849 Q97.5428 508.285 93.9086 508.285 M93.9086 504.581 Q99.7187 504.581 102.774 509.187 Q105.853 513.771 105.853 522.521 Q105.853 531.247 102.774 535.854 Q99.7187 540.437 93.9086 540.437 Q88.0984 540.437 85.0197 535.854 Q81.9642 531.247 81.9642 522.521 Q81.9642 513.771 85.0197 509.187 Q88.0984 504.581 93.9086 504.581 Z\" fill=\"#000000\" fill-rule=\"evenodd\" fill-opacity=\"1\" /><path clip-path=\"url(#clip710)\" d=\"M53.793 274.397 L72.1494 274.397 L72.1494 278.332 L58.0754 278.332 L58.0754 286.804 Q59.0939 286.457 60.1124 286.295 Q61.131 286.11 62.1495 286.11 Q67.9365 286.11 71.3161 289.281 Q74.6957 292.453 74.6957 297.869 Q74.6957 303.448 71.2235 306.55 Q67.7513 309.628 61.4319 309.628 Q59.256 309.628 56.9875 309.258 Q54.7421 308.888 52.3347 308.147 L52.3347 303.448 Q54.418 304.582 56.6402 305.138 Q58.8625 305.693 61.3393 305.693 Q65.3439 305.693 67.6819 303.587 Q70.0198 301.48 70.0198 297.869 Q70.0198 294.258 67.6819 292.152 Q65.3439 290.045 61.3393 290.045 Q59.4643 290.045 57.5893 290.462 Q55.7375 290.878 53.793 291.758 L53.793 274.397 Z\" fill=\"#000000\" fill-rule=\"evenodd\" fill-opacity=\"1\" /><path clip-path=\"url(#clip710)\" d=\"M93.9086 277.476 Q90.2975 277.476 88.4688 281.041 Q86.6632 284.582 86.6632 291.712 Q86.6632 298.818 88.4688 302.383 Q90.2975 305.925 93.9086 305.925 Q97.5428 305.925 99.3483 302.383 Q101.177 298.818 101.177 291.712 Q101.177 284.582 99.3483 281.041 Q97.5428 277.476 93.9086 277.476 M93.9086 273.772 Q99.7187 273.772 102.774 278.379 Q105.853 282.962 105.853 291.712 Q105.853 300.439 102.774 305.045 Q99.7187 309.628 93.9086 309.628 Q88.0984 309.628 85.0197 305.045 Q81.9642 300.439 81.9642 291.712 Q81.9642 282.962 85.0197 278.379 Q88.0984 273.772 93.9086 273.772 Z\" fill=\"#000000\" fill-rule=\"evenodd\" fill-opacity=\"1\" /><path clip-path=\"url(#clip710)\" d=\"M64.3254 59.0049 Q61.1773 59.0049 59.3254 61.1577 Q57.4967 63.3104 57.4967 67.0604 Q57.4967 70.7873 59.3254 72.9632 Q61.1773 75.1159 64.3254 75.1159 Q67.4735 75.1159 69.3022 72.9632 Q71.1541 70.7873 71.1541 67.0604 Q71.1541 63.3104 69.3022 61.1577 Q67.4735 59.0049 64.3254 59.0049 M73.6077 44.3522 L73.6077 48.6114 Q71.8485 47.7781 70.0429 47.3383 Q68.2606 46.8985 66.5013 46.8985 Q61.8717 46.8985 59.418 50.0235 Q56.9875 53.1485 56.6402 59.4679 Q58.006 57.454 60.0662 56.3892 Q62.1263 55.3012 64.6032 55.3012 Q69.8115 55.3012 72.8207 58.4725 Q75.8531 61.6206 75.8531 67.0604 Q75.8531 72.3845 72.705 75.602 Q69.5568 78.8196 64.3254 78.8196 Q58.33 78.8196 55.1588 74.2363 Q51.9875 69.6299 51.9875 60.903 Q51.9875 52.7086 55.8764 47.8476 Q59.7652 42.9633 66.3161 42.9633 Q68.0754 42.9633 69.8578 43.3105 Q71.6633 43.6578 73.6077 44.3522 Z\" fill=\"#000000\" fill-rule=\"evenodd\" fill-opacity=\"1\" /><path clip-path=\"url(#clip710)\" d=\"M93.9086 46.667 Q90.2975 46.667 88.4688 50.2318 Q86.6632 53.7735 86.6632 60.903 Q86.6632 68.0095 88.4688 71.5743 Q90.2975 75.1159 93.9086 75.1159 Q97.5428 75.1159 99.3483 71.5743 Q101.177 68.0095 101.177 60.903 Q101.177 53.7735 99.3483 50.2318 Q97.5428 46.667 93.9086 46.667 M93.9086 42.9633 Q99.7187 42.9633 102.774 47.5698 Q105.853 52.1531 105.853 60.903 Q105.853 69.6299 102.774 74.2363 Q99.7187 78.8196 93.9086 78.8196 Q88.0984 78.8196 85.0197 74.2363 Q81.9642 69.6299 81.9642 60.903 Q81.9642 52.1531 85.0197 47.5698 Q88.0984 42.9633 93.9086 42.9633 Z\" fill=\"#000000\" fill-rule=\"evenodd\" fill-opacity=\"1\" /><polyline clip-path=\"url(#clip712)\" style=\"stroke:#009af9; stroke-linecap:round; stroke-linejoin:round; stroke-width:4; stroke-opacity:1; fill:none\" points=\"\n",
       "  204.426,87.9763 205.469,92.5926 206.512,97.2087 207.556,101.825 208.599,106.441 209.643,111.057 210.686,115.673 211.729,120.29 212.773,124.906 213.816,129.522 \n",
       "  214.86,134.138 215.903,138.754 216.946,143.371 217.99,147.987 219.033,152.603 220.077,157.219 221.12,161.835 222.163,166.452 223.207,171.068 224.25,175.684 \n",
       "  225.294,180.3 226.337,184.916 227.38,189.533 228.424,194.149 229.467,198.765 230.511,203.381 231.554,207.997 232.597,212.614 233.641,217.23 234.684,221.846 \n",
       "  235.728,226.462 236.771,231.078 237.814,235.694 238.858,240.311 239.901,244.927 240.945,249.543 241.988,254.159 243.031,258.776 244.075,263.392 245.118,268.008 \n",
       "  246.162,272.624 247.205,277.24 248.248,281.856 249.292,286.473 250.335,291.089 251.379,295.705 252.422,300.321 253.465,304.937 254.509,309.554 255.552,314.17 \n",
       "  256.596,318.786 257.639,323.402 258.682,328.018 259.726,332.635 260.769,337.251 261.813,341.867 262.856,346.483 263.899,351.099 264.943,355.715 265.986,360.332 \n",
       "  267.03,364.948 268.073,369.564 269.116,374.18 270.16,378.797 271.203,383.413 272.247,388.029 273.29,392.645 274.333,397.261 275.377,401.877 276.42,406.494 \n",
       "  277.464,411.11 278.507,415.726 279.551,420.342 280.594,424.958 281.637,429.575 282.681,434.191 283.724,438.807 284.768,443.423 285.811,448.039 286.854,452.656 \n",
       "  287.898,457.272 288.941,461.888 289.985,466.504 291.028,471.12 292.071,475.736 293.115,480.353 294.158,484.969 295.202,489.585 296.245,494.201 297.288,498.818 \n",
       "  298.332,503.434 299.375,508.05 300.419,512.666 301.462,517.282 302.505,521.898 303.549,526.515 304.592,531.131 305.636,535.747 306.679,540.363 307.722,544.979 \n",
       "  308.766,549.596 309.809,554.212 310.853,558.828 311.896,563.444 312.939,568.06 313.983,572.677 315.026,577.293 316.07,581.909 317.113,586.525 318.156,591.141 \n",
       "  319.2,595.758 320.243,600.374 321.287,604.99 322.33,609.606 323.373,614.222 324.417,618.838 325.46,623.455 326.504,628.071 327.547,632.687 328.59,637.303 \n",
       "  329.634,641.919 330.677,646.535 331.721,651.151 332.764,655.767 333.807,660.383 334.851,664.999 335.894,669.616 336.938,674.232 337.981,678.848 339.024,683.464 \n",
       "  340.068,688.08 341.111,692.696 342.155,697.312 343.198,701.928 344.241,706.544 345.285,711.16 346.328,715.777 347.372,720.393 348.415,725.009 349.458,729.625 \n",
       "  350.502,734.241 351.545,738.857 352.589,743.473 353.632,748.089 354.675,752.705 355.719,757.322 356.762,761.938 357.806,766.554 358.849,771.17 359.892,775.786 \n",
       "  360.936,780.402 361.979,785.018 363.023,789.634 364.066,794.25 365.109,798.866 366.153,803.483 367.196,808.099 368.24,812.715 369.283,817.331 370.326,821.947 \n",
       "  371.37,826.563 372.413,831.179 373.457,835.795 374.5,840.411 375.543,845.028 376.587,849.644 377.63,854.26 378.674,858.876 379.717,863.492 380.76,868.108 \n",
       "  381.804,872.724 382.847,877.34 383.891,881.956 384.934,886.572 385.977,891.189 387.021,895.805 388.064,900.421 389.108,905.037 390.151,909.653 391.194,914.269 \n",
       "  392.238,918.885 393.281,923.501 394.325,928.117 395.368,932.734 396.411,937.35 397.455,941.966 398.498,946.582 399.542,951.198 400.585,955.814 401.628,960.43 \n",
       "  402.672,965.046 403.715,969.662 404.759,974.278 405.802,978.895 406.845,983.511 407.889,988.127 408.932,992.743 409.976,997.359 411.019,1001.98 412.062,1006.59 \n",
       "  413.106,1011.21 414.149,1015.82 415.193,1020.44 416.236,1025.06 417.279,1029.67 418.323,1034.29 419.366,1038.9 420.41,1043.52 421.453,1048.14 422.496,1052.75 \n",
       "  423.54,1057.37 424.583,1061.98 425.627,1066.6 426.67,1071.22 427.713,1075.83 428.757,1080.45 429.8,1085.07 430.844,1089.68 431.887,1094.3 432.93,1098.91 \n",
       "  433.974,1103.53 435.017,1108.15 436.061,1112.76 437.104,1117.38 438.147,1121.99 439.191,1126.61 440.234,1131.23 441.278,1135.84 442.321,1140.46 443.364,1145.07 \n",
       "  444.408,1149.69 445.451,1154.31 446.495,1158.92 447.538,1163.54 448.581,1168.15 449.625,1172.77 450.668,1177.39 451.712,1182 452.755,1186.62 453.798,1191.24 \n",
       "  454.842,1195.85 455.885,1200.47 456.929,1205.08 457.972,1209.7 459.015,1214.32 460.059,1218.93 461.102,1223.55 462.146,1228.16 463.189,1232.78 464.232,1237.4 \n",
       "  465.276,1242.01 466.319,1246.63 467.363,1251.24 468.406,1255.86 469.449,1260.48 470.493,1265.09 471.536,1269.71 472.58,1274.33 473.623,1278.94 474.666,1283.56 \n",
       "  475.71,1288.17 476.753,1292.79 477.797,1297.41 478.84,1302.02 479.883,1306.64 480.927,1311.25 481.97,1315.87 483.014,1320.49 484.057,1325.1 485.1,1329.72 \n",
       "  486.144,1334.33 487.187,1338.95 488.231,1343.57 489.274,1348.18 490.317,1352.8 491.361,1357.42 492.404,1362.03 493.448,1366.65 494.491,1371.26 495.534,1375.88 \n",
       "  496.578,1380.5 497.621,1385.11 498.665,1389.73 499.708,1394.34 500.751,1398.96 501.795,1403.58 502.838,1408.19 503.882,1412.81 504.925,1417.42 505.968,1422.04 \n",
       "  507.012,1426.66 508.055,1431.27 509.099,1435.89 510.142,1440.51 511.185,1445.12 512.229,1441.7 513.272,1438.01 514.316,1435.15 515.359,1433.04 516.402,1431.59 \n",
       "  517.446,1430.76 518.489,1430.47 519.533,1430.67 520.576,1431.31 521.619,1432.35 522.663,1433.75 523.706,1435.47 524.75,1437.48 525.793,1439.74 526.836,1442.25 \n",
       "  527.88,1444.96 528.923,1443.57 529.967,1441.42 531.01,1439.94 532.053,1439.08 533.097,1438.76 534.14,1438.93 535.184,1439.55 536.227,1440.57 537.27,1441.95 \n",
       "  538.314,1443.65 539.357,1445.64 540.401,1443.54 541.444,1441.97 542.487,1441.02 543.531,1440.63 544.574,1440.74 545.618,1441.3 546.661,1442.26 547.704,1443.59 \n",
       "  548.748,1445.25 549.791,1444.24 550.835,1442.94 551.878,1442.24 552.921,1442.06 553.965,1442.37 555.008,1443.11 556.052,1444.23 557.095,1445.71 558.138,1443.95 \n",
       "  559.182,1442.8 560.225,1442.23 561.269,1442.18 562.312,1442.59 563.355,1443.43 564.399,1444.64 565.442,1445.25 566.486,1444.31 567.529,1443.93 568.572,1444.05 \n",
       "  569.616,1444.62 570.659,1445.59 571.703,1444.51 572.746,1443.77 573.789,1443.56 574.833,1443.84 575.876,1444.55 576.92,1445.65 577.963,1444.34 579.006,1443.5 \n",
       "  580.05,1443.2 581.093,1443.39 582.137,1444.02 583.18,1445.06 584.223,1444.99 585.267,1444.2 586.31,1443.95 587.354,1444.19 588.397,1444.86 589.44,1445.51 \n",
       "  590.484,1445.01 591.527,1445.02 592.571,1445.49 593.614,1445.06 594.657,1444.73 595.701,1444.89 596.744,1445.49 597.788,1444.94 598.831,1444.5 599.874,1444.56 \n",
       "  600.918,1445.08 601.961,1445.44 603.005,1445.06 604.048,1445.19 605.091,1445.68 606.135,1445.62 607.178,1445.41 608.222,1445.5 609.265,1445.4 610.308,1445.37 \n",
       "  611.352,1445.63 612.395,1445.7 613.439,1445.22 614.482,1445.21 615.525,1445.66 616.569,1444.91 617.612,1444.59 618.656,1444.77 619.699,1445.38 620.742,1445.04 \n",
       "  621.786,1444.59 622.829,1444.64 623.873,1445.15 624.916,1445.37 625.959,1445 627.003,1445.14 628.046,1445.72 629.09,1444.74 630.133,1444.32 631.176,1444.4 \n",
       "  632.22,1444.93 633.263,1445.57 634.307,1445.18 635.35,1445.3 636.393,1445.58 637.437,1445.54 638.48,1445.49 639.524,1445.57 640.567,1445.34 641.61,1445.31 \n",
       "  642.654,1445.69 643.697,1445.69 644.741,1445.34 645.784,1445.44 646.827,1445.45 647.871,1445.42 648.914,1445.59 649.958,1445.67 651.001,1445.25 652.044,1445.24 \n",
       "  653.088,1445.69 654.131,1444.89 655.175,1444.57 656.218,1444.75 657.261,1445.36 658.305,1445.06 659.348,1444.6 660.392,1444.65 661.435,1445.16 662.478,1445.36 \n",
       "  663.522,1444.99 664.565,1445.13 665.609,1445.71 666.652,1444.75 667.695,1444.32 668.739,1444.4 669.782,1444.94 670.826,1445.56 671.869,1445.18 672.912,1445.29 \n",
       "  673.956,1445.59 674.999,1445.54 676.043,1445.48 677.086,1445.57 678.129,1445.34 679.173,1445.32 680.216,1445.68 681.26,1445.69 682.303,1445.34 683.346,1445.44 \n",
       "  684.39,1445.45 685.433,1445.42 686.477,1445.59 687.52,1445.66 688.563,1445.25 689.607,1445.24 690.65,1445.69 691.694,1444.89 692.737,1444.57 693.78,1444.75 \n",
       "  694.824,1445.36 695.867,1445.06 696.911,1444.6 697.954,1444.66 698.997,1445.16 700.041,1445.36 701.084,1444.99 702.128,1445.13 703.171,1445.71 704.214,1444.75 \n",
       "  705.258,1444.32 706.301,1444.4 707.345,1444.94 708.388,1445.56 709.431,1445.18 710.475,1445.29 711.518,1445.59 712.562,1445.54 713.605,1445.48 714.648,1445.57 \n",
       "  715.692,1445.34 716.735,1445.32 717.779,1445.68 718.822,1445.69 719.865,1445.34 720.909,1445.44 721.952,1445.45 722.996,1445.42 724.039,1445.59 725.082,1445.66 \n",
       "  726.126,1445.25 727.169,1445.24 728.213,1445.69 729.256,1444.89 730.299,1444.57 731.343,1444.75 732.386,1445.36 733.43,1445.06 734.473,1444.6 735.517,1444.65 \n",
       "  736.56,1445.16 737.603,1445.36 738.647,1444.99 739.69,1445.13 740.734,1445.71 741.777,1444.75 742.82,1444.32 743.864,1444.4 744.907,1444.94 745.951,1445.56 \n",
       "  746.994,1445.18 748.037,1445.29 749.081,1445.59 750.124,1445.54 751.168,1445.48 752.211,1445.57 753.254,1445.34 754.298,1445.32 755.341,1445.68 756.385,1445.69 \n",
       "  757.428,1445.34 758.471,1445.44 759.515,1445.45 760.558,1445.42 761.602,1445.59 762.645,1445.66 763.688,1445.25 764.732,1445.24 765.775,1445.69 766.819,1444.89 \n",
       "  767.862,1444.57 768.905,1444.75 769.949,1445.36 770.992,1445.06 772.036,1444.6 773.079,1444.65 774.122,1445.16 775.166,1445.36 776.209,1444.99 777.253,1445.13 \n",
       "  778.296,1445.71 779.339,1444.75 780.383,1444.32 781.426,1444.4 782.47,1444.94 783.513,1445.56 784.556,1445.18 785.6,1445.29 786.643,1445.59 787.687,1445.54 \n",
       "  788.73,1445.48 789.773,1445.57 790.817,1445.34 791.86,1445.32 792.904,1445.68 793.947,1445.69 794.99,1445.34 796.034,1445.44 797.077,1445.45 798.121,1445.42 \n",
       "  799.164,1445.59 800.207,1445.67 801.251,1445.25 802.294,1445.24 803.338,1445.69 804.381,1444.89 805.424,1444.57 806.468,1444.75 807.511,1445.36 808.555,1445.06 \n",
       "  809.598,1444.6 810.641,1444.65 811.685,1445.16 812.728,1445.36 813.772,1444.99 814.815,1445.13 815.858,1445.71 816.902,1444.75 817.945,1444.32 818.989,1444.4 \n",
       "  820.032,1444.94 821.075,1445.56 822.119,1445.18 823.162,1445.29 824.206,1445.59 825.249,1445.54 826.292,1445.48 827.336,1445.57 828.379,1445.34 829.423,1445.32 \n",
       "  830.466,1445.68 831.509,1445.69 832.553,1445.34 833.596,1445.44 834.64,1445.45 835.683,1445.42 836.726,1445.59 837.77,1445.67 838.813,1445.25 839.857,1445.24 \n",
       "  840.9,1445.69 841.943,1444.89 842.987,1444.57 844.03,1444.75 845.074,1445.37 846.117,1445.06 847.16,1444.6 848.204,1444.65 849.247,1445.16 850.291,1445.36 \n",
       "  851.334,1444.99 852.377,1445.13 853.421,1445.71 854.464,1444.75 855.508,1444.32 856.551,1444.4 857.594,1444.94 858.638,1445.56 859.681,1445.18 860.725,1445.29 \n",
       "  861.768,1445.59 862.811,1445.54 863.855,1445.48 864.898,1445.57 865.942,1445.34 866.985,1445.32 868.028,1445.68 869.072,1445.69 870.115,1445.34 871.159,1445.44 \n",
       "  872.202,1445.45 873.245,1445.42 874.289,1445.59 875.332,1445.67 876.376,1445.25 877.419,1445.24 878.462,1445.69 879.506,1444.89 880.549,1444.57 881.593,1444.75 \n",
       "  882.636,1445.37 883.679,1445.06 884.723,1444.6 885.766,1444.65 886.81,1445.16 887.853,1445.36 888.896,1445 889.94,1445.13 890.983,1445.71 892.027,1444.75 \n",
       "  893.07,1444.32 894.113,1444.4 895.157,1444.94 896.2,1445.56 897.244,1445.18 898.287,1445.29 899.33,1445.59 900.374,1445.54 901.417,1445.48 902.461,1445.57 \n",
       "  903.504,1445.34 904.547,1445.32 905.591,1445.68 906.634,1445.69 907.678,1445.34 908.721,1445.44 909.764,1445.45 910.808,1445.42 911.851,1445.59 912.895,1445.67 \n",
       "  913.938,1445.25 914.981,1445.24 916.025,1445.69 917.068,1444.89 918.112,1444.57 919.155,1444.75 920.198,1445.37 921.242,1445.06 922.285,1444.6 923.329,1444.65 \n",
       "  924.372,1445.16 925.415,1445.36 926.459,1445 927.502,1445.13 928.546,1445.71 929.589,1444.75 930.632,1444.32 931.676,1444.4 932.719,1444.94 933.763,1445.56 \n",
       "  934.806,1445.18 935.849,1445.29 936.893,1445.58 937.936,1445.54 938.98,1445.48 940.023,1445.57 941.066,1445.34 942.11,1445.32 943.153,1445.68 944.197,1445.69 \n",
       "  945.24,1445.34 946.283,1445.44 947.327,1445.45 948.37,1445.42 949.414,1445.59 950.457,1445.67 951.5,1445.25 952.544,1445.24 953.587,1445.69 954.631,1444.89 \n",
       "  955.674,1444.57 956.717,1444.75 957.761,1445.37 958.804,1445.06 959.848,1444.6 960.891,1444.65 961.934,1445.16 962.978,1445.36 964.021,1445 965.065,1445.13 \n",
       "  966.108,1445.71 967.151,1444.75 968.195,1444.32 969.238,1444.4 970.282,1444.94 971.325,1445.56 972.368,1445.18 973.412,1445.29 974.455,1445.58 975.499,1445.54 \n",
       "  976.542,1445.48 977.585,1445.57 978.629,1445.34 979.672,1445.32 980.716,1445.68 981.759,1445.69 982.802,1445.34 983.846,1445.44 984.889,1445.45 985.933,1445.42 \n",
       "  986.976,1445.59 988.019,1445.67 989.063,1445.25 990.106,1445.24 991.15,1445.69 992.193,1444.89 993.236,1444.57 994.28,1444.75 995.323,1445.37 996.367,1445.06 \n",
       "  997.41,1444.6 998.453,1444.65 999.497,1445.16 1000.54,1445.36 1001.58,1445 1002.63,1445.13 1003.67,1445.71 1004.71,1444.75 1005.76,1444.32 1006.8,1444.4 \n",
       "  1007.84,1444.94 1008.89,1445.56 1009.93,1445.18 1010.97,1445.29 1012.02,1445.58 1013.06,1445.54 1014.1,1445.48 1015.15,1445.57 1016.19,1445.34 1017.23,1445.32 \n",
       "  1018.28,1445.68 1019.32,1445.69 1020.36,1445.34 1021.41,1445.44 1022.45,1445.45 1023.5,1445.42 1024.54,1445.59 1025.58,1445.67 1026.63,1445.25 1027.67,1445.24 \n",
       "  1028.71,1445.69 1029.76,1444.89 1030.8,1444.57 1031.84,1444.75 1032.89,1445.37 1033.93,1445.06 1034.97,1444.6 1036.02,1444.65 1037.06,1445.16 1038.1,1445.36 \n",
       "  1039.15,1445 1040.19,1445.13 1041.23,1445.71 1042.28,1444.75 1043.32,1444.32 1044.36,1444.4 1045.41,1444.94 1046.45,1445.56 1047.49,1445.18 1048.54,1445.29 \n",
       "  1049.58,1445.58 1050.62,1445.54 1051.67,1445.48 1052.71,1445.57 1053.75,1445.34 1054.8,1445.31 1055.84,1445.69 1056.88,1445.69 1057.93,1445.34 1058.97,1445.44 \n",
       "  1060.01,1445.45 1061.06,1445.42 1062.1,1445.59 1063.14,1445.67 1064.19,1445.25 1065.23,1445.24 1066.27,1445.69 1067.32,1444.89 1068.36,1444.57 1069.4,1444.75 \n",
       "  1070.45,1445.37 1071.49,1445.06 1072.53,1444.6 1073.58,1444.65 1074.62,1445.16 1075.67,1445.36 1076.71,1445 1077.75,1445.13 1078.8,1445.71 1079.84,1444.75 \n",
       "  1080.88,1444.32 1081.93,1444.4 1082.97,1444.94 1084.01,1445.56 1085.06,1445.18 1086.1,1445.29 1087.14,1445.58 1088.19,1445.54 1089.23,1445.48 1090.27,1445.57 \n",
       "  1091.32,1445.34 1092.36,1445.31 1093.4,1445.69 1094.45,1445.69 1095.49,1445.34 1096.53,1445.44 1097.58,1445.45 1098.62,1445.42 1099.66,1445.59 1100.71,1445.67 \n",
       "  1101.75,1445.25 1102.79,1445.24 1103.84,1445.69 1104.88,1444.89 1105.92,1444.57 1106.97,1444.75 1108.01,1445.37 1109.05,1445.06 1110.1,1444.6 1111.14,1444.65 \n",
       "  1112.18,1445.16 1113.23,1445.36 1114.27,1445 1115.31,1445.13 1116.36,1445.71 1117.4,1444.75 1118.44,1444.32 1119.49,1444.4 1120.53,1444.94 1121.57,1445.56 \n",
       "  1122.62,1445.18 1123.66,1445.29 1124.7,1445.58 1125.75,1445.54 1126.79,1445.48 1127.84,1445.57 1128.88,1445.34 1129.92,1445.31 1130.97,1445.69 1132.01,1445.69 \n",
       "  1133.05,1445.35 1134.1,1445.44 1135.14,1445.45 1136.18,1445.42 1137.23,1445.59 1138.27,1445.67 1139.31,1445.25 1140.36,1445.24 1141.4,1445.69 1142.44,1444.89 \n",
       "  1143.49,1444.57 1144.53,1444.75 1145.57,1445.37 1146.62,1445.06 1147.66,1444.6 1148.7,1444.65 1149.75,1445.16 1150.79,1445.36 1151.83,1445 1152.88,1445.13 \n",
       "  1153.92,1445.71 1154.96,1444.75 1156.01,1444.32 1157.05,1444.4 1158.09,1444.94 1159.14,1445.56 1160.18,1445.18 1161.22,1445.29 1162.27,1445.58 1163.31,1445.54 \n",
       "  1164.35,1445.48 1165.4,1445.57 1166.44,1445.34 1167.48,1445.31 1168.53,1445.69 1169.57,1445.69 1170.61,1445.35 1171.66,1445.44 1172.7,1445.45 1173.74,1445.42 \n",
       "  1174.79,1445.59 1175.83,1445.67 1176.87,1445.25 1177.92,1445.23 1178.96,1445.68 1180.01,1444.89 1181.05,1444.57 1182.09,1444.75 1183.14,1445.37 1184.18,1445.06 \n",
       "  1185.22,1444.6 1186.27,1444.65 1187.31,1445.16 1188.35,1445.36 1189.4,1445 1190.44,1445.13 1191.48,1445.71 1192.53,1444.75 1193.57,1444.32 1194.61,1444.4 \n",
       "  1195.66,1444.94 1196.7,1445.57 1197.74,1445.18 1198.79,1445.29 1199.83,1445.58 1200.87,1445.54 1201.92,1445.49 1202.96,1445.57 1204,1445.34 1205.05,1445.31 \n",
       "  1206.09,1445.69 1207.13,1445.69 1208.18,1445.35 1209.22,1445.44 1210.26,1445.45 1211.31,1445.42 1212.35,1445.59 1213.39,1445.67 1214.44,1445.25 1215.48,1445.23 \n",
       "  1216.52,1445.68 1217.57,1444.89 1218.61,1444.57 1219.65,1444.75 1220.7,1445.37 1221.74,1445.06 1222.78,1444.6 1223.83,1444.65 1224.87,1445.16 1225.91,1445.36 \n",
       "  1226.96,1445 1228,1445.13 1229.04,1445.71 1230.09,1444.75 1231.13,1444.32 1232.18,1444.4 1233.22,1444.94 1234.26,1445.57 1235.31,1445.18 1236.35,1445.29 \n",
       "  1237.39,1445.58 1238.44,1445.54 1239.48,1445.49 1240.52,1445.57 1241.57,1445.34 1242.61,1445.31 1243.65,1445.69 1244.7,1445.69 1245.74,1445.35 1246.78,1445.44 \n",
       "  1247.83,1445.45 1248.87,1445.42 1249.91,1445.59 1250.96,1445.67 1252,1445.25 1253.04,1445.23 1254.09,1445.68 1255.13,1444.89 1256.17,1444.57 1257.22,1444.75 \n",
       "  1258.26,1445.37 1259.3,1445.06 1260.35,1444.6 1261.39,1444.65 1262.43,1445.16 1263.48,1445.36 1264.52,1445 1265.56,1445.13 1266.61,1445.71 1267.65,1444.75 \n",
       "  1268.69,1444.32 1269.74,1444.4 1270.78,1444.93 1271.82,1445.57 1272.87,1445.18 1273.91,1445.29 1274.95,1445.58 1276,1445.54 1277.04,1445.49 1278.08,1445.57 \n",
       "  1279.13,1445.34 1280.17,1445.31 1281.21,1445.69 1282.26,1445.69 1283.3,1445.35 1284.35,1445.44 1285.39,1445.45 1286.43,1445.42 1287.48,1445.59 1288.52,1445.67 \n",
       "  1289.56,1445.25 1290.61,1445.23 1291.65,1445.68 1292.69,1444.89 1293.74,1444.57 1294.78,1444.75 1295.82,1445.37 1296.87,1445.06 1297.91,1444.6 1298.95,1444.65 \n",
       "  1300,1445.16 1301.04,1445.36 1302.08,1445 1303.13,1445.13 1304.17,1445.71 1305.21,1444.75 1306.26,1444.32 1307.3,1444.4 1308.34,1444.93 1309.39,1445.57 \n",
       "  1310.43,1445.18 1311.47,1445.29 1312.52,1445.58 1313.56,1445.54 1314.6,1445.49 1315.65,1445.57 1316.69,1445.34 1317.73,1445.31 1318.78,1445.69 1319.82,1445.69 \n",
       "  1320.86,1445.35 1321.91,1445.44 1322.95,1445.45 1323.99,1445.42 1325.04,1445.59 1326.08,1445.67 1327.12,1445.25 1328.17,1445.23 1329.21,1445.68 1330.25,1444.89 \n",
       "  1331.3,1444.57 1332.34,1444.75 1333.38,1445.37 1334.43,1445.06 1335.47,1444.6 1336.52,1444.65 1337.56,1445.16 1338.6,1445.36 1339.65,1445 1340.69,1445.13 \n",
       "  1341.73,1445.71 1342.78,1444.75 1343.82,1444.32 1344.86,1444.4 1345.91,1444.93 1346.95,1445.57 1347.99,1445.18 1349.04,1445.29 1350.08,1445.58 1351.12,1445.54 \n",
       "  1352.17,1445.49 1353.21,1445.57 1354.25,1445.34 1355.3,1445.31 1356.34,1445.69 1357.38,1445.69 1358.43,1445.35 1359.47,1445.44 1360.51,1445.45 1361.56,1445.42 \n",
       "  1362.6,1445.59 1363.64,1445.67 1364.69,1445.25 1365.73,1445.23 1366.77,1445.68 1367.82,1444.89 1368.86,1444.57 1369.9,1444.75 1370.95,1445.37 1371.99,1445.06 \n",
       "  1373.03,1444.6 1374.08,1444.65 1375.12,1445.16 1376.16,1445.36 1377.21,1445 1378.25,1445.13 1379.29,1445.71 1380.34,1444.75 1381.38,1444.32 1382.42,1444.4 \n",
       "  1383.47,1444.93 1384.51,1445.57 1385.55,1445.18 1386.6,1445.29 1387.64,1445.58 1388.69,1445.54 1389.73,1445.49 1390.77,1445.57 1391.82,1445.34 1392.86,1445.31 \n",
       "  1393.9,1445.69 1394.95,1445.69 1395.99,1445.35 1397.03,1445.44 1398.08,1445.45 1399.12,1445.42 1400.16,1445.6 1401.21,1445.67 1402.25,1445.25 1403.29,1445.23 \n",
       "  1404.34,1445.68 1405.38,1444.89 1406.42,1444.57 1407.47,1444.75 1408.51,1445.37 1409.55,1445.06 1410.6,1444.6 1411.64,1444.65 1412.68,1445.16 1413.73,1445.36 \n",
       "  1414.77,1445 1415.81,1445.13 1416.86,1445.71 1417.9,1444.75 1418.94,1444.32 1419.99,1444.4 1421.03,1444.93 1422.07,1445.57 1423.12,1445.18 1424.16,1445.29 \n",
       "  1425.2,1445.58 1426.25,1445.54 1427.29,1445.49 1428.33,1445.57 1429.38,1445.33 1430.42,1445.31 1431.46,1445.69 1432.51,1445.69 1433.55,1445.35 1434.59,1445.44 \n",
       "  1435.64,1445.45 1436.68,1445.41 1437.73,1445.6 1438.77,1445.67 1439.81,1445.25 1440.86,1445.23 1441.9,1445.68 1442.94,1444.89 1443.99,1444.57 1445.03,1444.75 \n",
       "  1446.07,1445.37 1447.12,1445.06 1448.16,1444.6 1449.2,1444.65 1450.25,1445.16 1451.29,1445.36 1452.33,1445 1453.38,1445.13 1454.42,1445.71 1455.46,1444.75 \n",
       "  1456.51,1444.32 1457.55,1444.4 1458.59,1444.93 1459.64,1445.57 1460.68,1445.18 1461.72,1445.3 1462.77,1445.58 1463.81,1445.54 1464.85,1445.49 1465.9,1445.57 \n",
       "  1466.94,1445.33 1467.98,1445.31 1469.03,1445.69 1470.07,1445.69 1471.11,1445.35 1472.16,1445.44 1473.2,1445.45 1474.24,1445.41 1475.29,1445.6 1476.33,1445.67 \n",
       "  1477.37,1445.25 1478.42,1445.23 1479.46,1445.68 1480.5,1444.89 1481.55,1444.57 1482.59,1444.75 1483.63,1445.37 1484.68,1445.05 1485.72,1444.6 1486.76,1444.65 \n",
       "  1487.81,1445.16 1488.85,1445.36 1489.9,1445 1490.94,1445.13 1491.98,1445.71 1493.03,1444.75 1494.07,1444.32 1495.11,1444.4 1496.16,1444.93 1497.2,1445.57 \n",
       "  1498.24,1445.18 1499.29,1445.3 1500.33,1445.58 1501.37,1445.54 1502.42,1445.49 1503.46,1445.57 1504.5,1445.33 1505.55,1445.31 1506.59,1445.69 1507.63,1445.69 \n",
       "  1508.68,1445.35 1509.72,1445.44 1510.76,1445.45 1511.81,1445.41 1512.85,1445.6 1513.89,1445.67 1514.94,1445.25 1515.98,1445.23 1517.02,1445.68 1518.07,1444.89 \n",
       "  1519.11,1444.57 1520.15,1444.75 1521.2,1445.37 1522.24,1445.05 1523.28,1444.6 1524.33,1444.65 1525.37,1445.16 1526.41,1445.36 1527.46,1445 1528.5,1445.13 \n",
       "  1529.54,1445.71 1530.59,1444.75 1531.63,1444.32 1532.67,1444.4 1533.72,1444.93 1534.76,1445.57 1535.8,1445.18 1536.85,1445.3 1537.89,1445.58 1538.93,1445.54 \n",
       "  1539.98,1445.49 1541.02,1445.57 1542.07,1445.33 1543.11,1445.31 1544.15,1445.69 1545.2,1445.69 1546.24,1445.35 1547.28,1445.44 1548.33,1445.45 1549.37,1445.41 \n",
       "  1550.41,1445.6 1551.46,1445.67 1552.5,1445.25 1553.54,1445.23 1554.59,1445.68 1555.63,1444.89 1556.67,1444.57 1557.72,1444.75 1558.76,1445.37 1559.8,1445.05 \n",
       "  1560.85,1444.6 1561.89,1444.65 1562.93,1445.16 1563.98,1445.36 1565.02,1445 1566.06,1445.13 1567.11,1445.71 1568.15,1444.75 1569.19,1444.32 1570.24,1444.4 \n",
       "  1571.28,1444.93 1572.32,1445.57 1573.37,1445.18 1574.41,1445.3 1575.45,1445.58 1576.5,1445.54 1577.54,1445.49 1578.58,1445.57 1579.63,1445.33 1580.67,1445.31 \n",
       "  1581.71,1445.69 1582.76,1445.69 1583.8,1445.35 1584.84,1445.45 1585.89,1445.45 1586.93,1445.41 1587.97,1445.6 1589.02,1445.67 1590.06,1445.25 1591.1,1445.23 \n",
       "  1592.15,1445.68 1593.19,1444.89 1594.24,1444.57 1595.28,1444.75 1596.32,1445.37 1597.37,1445.05 1598.41,1444.6 1599.45,1444.65 1600.5,1445.16 1601.54,1445.36 \n",
       "  1602.58,1445 1603.63,1445.13 1604.67,1445.71 1605.71,1444.75 1606.76,1444.32 1607.8,1444.4 1608.84,1444.93 1609.89,1445.57 1610.93,1445.18 1611.97,1445.3 \n",
       "  1613.02,1445.58 1614.06,1445.54 1615.1,1445.49 1616.15,1445.57 1617.19,1445.33 1618.23,1445.31 1619.28,1445.69 1620.32,1445.69 1621.36,1445.35 1622.41,1445.45 \n",
       "  1623.45,1445.45 1624.49,1445.41 1625.54,1445.6 1626.58,1445.67 1627.62,1445.25 1628.67,1445.23 1629.71,1445.68 1630.75,1444.89 1631.8,1444.57 1632.84,1444.75 \n",
       "  1633.88,1445.37 1634.93,1445.05 1635.97,1444.6 1637.01,1444.65 1638.06,1445.16 1639.1,1445.36 1640.14,1445 1641.19,1445.13 1642.23,1445.71 1643.27,1444.74 \n",
       "  1644.32,1444.32 1645.36,1444.4 1646.41,1444.93 1647.45,1445.57 1648.49,1445.18 1649.54,1445.3 1650.58,1445.58 1651.62,1445.54 1652.67,1445.49 1653.71,1445.57 \n",
       "  1654.75,1445.33 1655.8,1445.31 1656.84,1445.69 1657.88,1445.69 1658.93,1445.35 1659.97,1445.45 1661.01,1445.45 1662.06,1445.41 1663.1,1445.6 1664.14,1445.67 \n",
       "  1665.19,1445.25 1666.23,1445.23 1667.27,1445.68 1668.32,1444.89 1669.36,1444.57 1670.4,1444.75 1671.45,1445.37 1672.49,1445.05 1673.53,1444.6 1674.58,1444.65 \n",
       "  1675.62,1445.16 1676.66,1445.36 1677.71,1445 1678.75,1445.13 1679.79,1445.71 1680.84,1444.74 1681.88,1444.32 1682.92,1444.4 1683.97,1444.93 1685.01,1445.57 \n",
       "  1686.05,1445.18 1687.1,1445.3 1688.14,1445.58 1689.18,1445.53 1690.23,1445.49 1691.27,1445.57 1692.31,1445.33 1693.36,1445.31 1694.4,1445.69 1695.44,1445.69 \n",
       "  1696.49,1445.35 1697.53,1445.45 1698.58,1445.45 1699.62,1445.41 1700.66,1445.6 1701.71,1445.67 1702.75,1445.25 1703.79,1445.23 1704.84,1445.68 1705.88,1444.89 \n",
       "  1706.92,1444.57 1707.97,1444.75 1709.01,1445.37 1710.05,1445.05 1711.1,1444.6 1712.14,1444.65 1713.18,1445.16 1714.23,1445.36 1715.27,1445 1716.31,1445.13 \n",
       "  1717.36,1445.71 1718.4,1444.74 1719.44,1444.32 1720.49,1444.4 1721.53,1444.93 1722.57,1445.57 1723.62,1445.18 1724.66,1445.3 1725.7,1445.58 1726.75,1445.53 \n",
       "  1727.79,1445.49 1728.83,1445.57 1729.88,1445.33 1730.92,1445.31 1731.96,1445.69 1733.01,1445.69 1734.05,1445.35 1735.09,1445.45 1736.14,1445.45 1737.18,1445.41 \n",
       "  1738.22,1445.6 1739.27,1445.67 1740.31,1445.25 1741.35,1445.23 1742.4,1445.68 1743.44,1444.89 1744.48,1444.57 1745.53,1444.75 1746.57,1445.37 1747.61,1445.05 \n",
       "  1748.66,1444.6 1749.7,1444.65 1750.75,1445.16 1751.79,1445.36 1752.83,1445 1753.88,1445.13 1754.92,1445.71 1755.96,1444.74 1757.01,1444.32 1758.05,1444.4 \n",
       "  1759.09,1444.93 1760.14,1445.57 1761.18,1445.18 1762.22,1445.3 1763.27,1445.58 1764.31,1445.53 1765.35,1445.49 1766.4,1445.57 1767.44,1445.33 1768.48,1445.31 \n",
       "  1769.53,1445.69 1770.57,1445.69 1771.61,1445.35 1772.66,1445.45 1773.7,1445.45 1774.74,1445.41 1775.79,1445.6 1776.83,1445.67 1777.87,1445.24 1778.92,1445.23 \n",
       "  1779.96,1445.68 1781,1444.89 1782.05,1444.57 1783.09,1444.75 1784.13,1445.37 1785.18,1445.05 1786.22,1444.6 1787.26,1444.65 1788.31,1445.16 1789.35,1445.36 \n",
       "  1790.39,1445 1791.44,1445.13 1792.48,1445.71 1793.52,1444.74 1794.57,1444.32 1795.61,1444.4 1796.65,1444.93 1797.7,1445.57 1798.74,1445.18 1799.78,1445.3 \n",
       "  1800.83,1445.58 1801.87,1445.53 1802.92,1445.49 1803.96,1445.57 1805,1445.33 1806.05,1445.31 1807.09,1445.69 1808.13,1445.69 1809.18,1445.35 1810.22,1445.45 \n",
       "  1811.26,1445.45 1812.31,1445.41 1813.35,1445.6 1814.39,1445.67 1815.44,1445.24 1816.48,1445.23 1817.52,1445.68 1818.57,1444.89 1819.61,1444.58 1820.65,1444.75 \n",
       "  1821.7,1445.37 1822.74,1445.05 1823.78,1444.6 1824.83,1444.65 1825.87,1445.16 1826.91,1445.36 1827.96,1445 1829,1445.13 1830.04,1445.71 1831.09,1444.74 \n",
       "  1832.13,1444.32 1833.17,1444.4 1834.22,1444.93 1835.26,1445.57 1836.3,1445.18 1837.35,1445.3 1838.39,1445.58 1839.43,1445.53 1840.48,1445.49 1841.52,1445.57 \n",
       "  1842.56,1445.33 1843.61,1445.31 1844.65,1445.69 1845.69,1445.69 1846.74,1445.35 1847.78,1445.45 1848.82,1445.45 1849.87,1445.41 1850.91,1445.6 1851.95,1445.67 \n",
       "  1853,1445.24 1854.04,1445.23 1855.09,1445.68 1856.13,1444.89 1857.17,1444.58 1858.22,1444.75 1859.26,1445.37 1860.3,1445.05 1861.35,1444.6 1862.39,1444.65 \n",
       "  1863.43,1445.16 1864.48,1445.37 1865.52,1445 1866.56,1445.13 1867.61,1445.71 1868.65,1444.74 1869.69,1444.32 1870.74,1444.4 1871.78,1444.93 1872.82,1445.57 \n",
       "  1873.87,1445.18 1874.91,1445.3 1875.95,1445.58 1877,1445.53 1878.04,1445.49 1879.08,1445.57 1880.13,1445.33 1881.17,1445.31 1882.21,1445.69 1883.26,1445.69 \n",
       "  1884.3,1445.35 1885.34,1445.45 1886.39,1445.45 1887.43,1445.41 1888.47,1445.6 1889.52,1445.67 1890.56,1445.24 1891.6,1445.23 1892.65,1445.68 1893.69,1444.89 \n",
       "  1894.73,1444.58 1895.78,1444.75 1896.82,1445.37 1897.86,1445.05 1898.91,1444.6 1899.95,1444.65 1900.99,1445.16 1902.04,1445.37 1903.08,1445 1904.13,1445.13 \n",
       "  1905.17,1445.71 1906.21,1444.74 1907.26,1444.32 1908.3,1444.4 1909.34,1444.93 1910.39,1445.57 1911.43,1445.18 1912.47,1445.3 1913.52,1445.58 1914.56,1445.53 \n",
       "  1915.6,1445.49 1916.65,1445.57 1917.69,1445.33 1918.73,1445.31 1919.78,1445.69 1920.82,1445.69 1921.86,1445.35 1922.91,1445.45 1923.95,1445.45 1924.99,1445.41 \n",
       "  1926.04,1445.6 1927.08,1445.67 1928.12,1445.24 1929.17,1445.23 1930.21,1445.68 1931.25,1444.89 1932.3,1444.58 1933.34,1444.75 1934.38,1445.37 1935.43,1445.05 \n",
       "  1936.47,1444.6 1937.51,1444.65 1938.56,1445.16 1939.6,1445.37 1940.64,1445 1941.69,1445.13 1942.73,1445.71 1943.77,1444.74 1944.82,1444.32 1945.86,1444.4 \n",
       "  1946.9,1444.93 1947.95,1445.57 1948.99,1445.18 1950.03,1445.3 1951.08,1445.58 1952.12,1445.53 1953.16,1445.49 1954.21,1445.57 1955.25,1445.33 1956.3,1445.31 \n",
       "  1957.34,1445.69 1958.38,1445.69 1959.43,1445.35 1960.47,1445.45 1961.51,1445.45 1962.56,1445.41 1963.6,1445.6 1964.64,1445.67 1965.69,1445.24 1966.73,1445.23 \n",
       "  1967.77,1445.68 1968.82,1444.89 1969.86,1444.58 1970.9,1444.75 1971.95,1445.37 1972.99,1445.05 1974.03,1444.6 1975.08,1444.65 1976.12,1445.16 1977.16,1445.37 \n",
       "  1978.21,1445 1979.25,1445.13 1980.29,1445.71 1981.34,1444.74 1982.38,1444.32 1983.42,1444.4 1984.47,1444.93 1985.51,1445.57 1986.55,1445.18 1987.6,1445.3 \n",
       "  1988.64,1445.58 1989.68,1445.53 1990.73,1445.49 1991.77,1445.57 1992.81,1445.33 1993.86,1445.31 1994.9,1445.69 1995.94,1445.69 1996.99,1445.35 1998.03,1445.45 \n",
       "  1999.07,1445.45 2000.12,1445.41 2001.16,1445.6 2002.2,1445.67 2003.25,1445.24 2004.29,1445.23 2005.33,1445.68 2006.38,1444.89 2007.42,1444.58 2008.47,1444.75 \n",
       "  2009.51,1445.37 2010.55,1445.05 2011.6,1444.6 2012.64,1444.65 2013.68,1445.16 2014.73,1445.37 2015.77,1445 2016.81,1445.13 2017.86,1445.71 2018.9,1444.74 \n",
       "  2019.94,1444.32 2020.99,1444.4 2022.03,1444.93 2023.07,1445.57 2024.12,1445.18 2025.16,1445.3 2026.2,1445.58 2027.25,1445.53 2028.29,1445.49 2029.33,1445.57 \n",
       "  2030.38,1445.33 2031.42,1445.31 2032.46,1445.69 2033.51,1445.69 2034.55,1445.35 2035.59,1445.45 2036.64,1445.45 2037.68,1445.41 2038.72,1445.6 2039.77,1445.67 \n",
       "  2040.81,1445.24 2041.85,1445.23 2042.9,1445.68 2043.94,1444.89 2044.98,1444.58 2046.03,1444.75 2047.07,1445.37 2048.11,1445.05 2049.16,1444.6 2050.2,1444.65 \n",
       "  2051.24,1445.16 2052.29,1445.37 2053.33,1445 2054.37,1445.13 2055.42,1445.71 2056.46,1444.74 2057.5,1444.32 2058.55,1444.4 2059.59,1444.93 2060.64,1445.57 \n",
       "  2061.68,1445.18 2062.72,1445.3 2063.77,1445.58 2064.81,1445.53 2065.85,1445.49 2066.9,1445.57 2067.94,1445.33 2068.98,1445.31 2070.03,1445.69 2071.07,1445.69 \n",
       "  2072.11,1445.35 2073.16,1445.45 2074.2,1445.45 2075.24,1445.41 2076.29,1445.6 2077.33,1445.67 2078.37,1445.24 2079.42,1445.23 2080.46,1445.68 2081.5,1444.89 \n",
       "  2082.55,1444.58 2083.59,1444.75 2084.63,1445.37 2085.68,1445.05 2086.72,1444.6 2087.76,1444.65 2088.81,1445.16 2089.85,1445.37 2090.89,1445 2091.94,1445.13 \n",
       "  2092.98,1445.71 2094.02,1444.74 2095.07,1444.32 2096.11,1444.4 2097.15,1444.93 2098.2,1445.57 2099.24,1445.18 2100.28,1445.3 2101.33,1445.58 2102.37,1445.53 \n",
       "  2103.41,1445.49 2104.46,1445.57 2105.5,1445.33 2106.54,1445.31 2107.59,1445.69 2108.63,1445.69 2109.67,1445.35 2110.72,1445.45 2111.76,1445.44 2112.81,1445.41 \n",
       "  2113.85,1445.6 2114.89,1445.67 2115.94,1445.24 2116.98,1445.23 2118.02,1445.68 2119.07,1444.89 2120.11,1444.58 2121.15,1444.75 2122.2,1445.37 2123.24,1445.05 \n",
       "  2124.28,1444.6 2125.33,1444.65 2126.37,1445.16 2127.41,1445.37 2128.46,1445 2129.5,1445.13 2130.54,1445.71 2131.59,1444.74 2132.63,1444.32 2133.67,1444.4 \n",
       "  2134.72,1444.93 2135.76,1445.57 2136.8,1445.18 2137.85,1445.3 2138.89,1445.58 2139.93,1445.53 2140.98,1445.49 2142.02,1445.57 2143.06,1445.33 2144.11,1445.31 \n",
       "  2145.15,1445.69 2146.19,1445.69 2147.24,1445.35 2148.28,1445.45 2149.32,1445.44 2150.37,1445.41 2151.41,1445.6 2152.45,1445.67 2153.5,1445.24 2154.54,1445.23 \n",
       "  2155.58,1445.68 2156.63,1444.9 2157.67,1444.58 2158.71,1444.75 2159.76,1445.37 2160.8,1445.05 2161.84,1444.6 2162.89,1444.65 2163.93,1445.16 2164.98,1445.37 \n",
       "  2166.02,1445 2167.06,1445.13 2168.11,1445.71 2169.15,1444.74 2170.19,1444.32 2171.24,1444.4 2172.28,1444.93 2173.32,1445.57 2174.37,1445.18 2175.41,1445.3 \n",
       "  2176.45,1445.58 2177.5,1445.53 2178.54,1445.49 2179.58,1445.57 2180.63,1445.33 2181.67,1445.31 2182.71,1445.69 2183.76,1445.69 2184.8,1445.35 2185.84,1445.45 \n",
       "  2186.89,1445.44 2187.93,1445.41 2188.97,1445.6 2190.02,1445.67 2191.06,1445.24 2192.1,1445.23 2193.15,1445.68 2194.19,1444.9 2195.23,1444.58 2196.28,1444.75 \n",
       "  2197.32,1445.37 2198.36,1445.05 2199.41,1444.6 2200.45,1444.65 2201.49,1445.16 2202.54,1445.37 2203.58,1445 2204.62,1445.13 2205.67,1445.72 2206.71,1444.74 \n",
       "  2207.75,1444.32 2208.8,1444.4 2209.84,1444.93 2210.88,1445.57 2211.93,1445.18 2212.97,1445.3 2214.01,1445.58 2215.06,1445.53 2216.1,1445.49 2217.15,1445.57 \n",
       "  2218.19,1445.33 2219.23,1445.31 2220.28,1445.69 2221.32,1445.69 2222.36,1445.35 2223.41,1445.45 2224.45,1445.44 2225.49,1445.41 2226.54,1445.6 2227.58,1445.67 \n",
       "  2228.62,1445.24 2229.67,1445.23 2230.71,1445.68 2231.75,1444.9 2232.8,1444.58 2233.84,1444.75 2234.88,1445.37 2235.93,1445.05 2236.97,1444.6 2238.01,1444.65 \n",
       "  2239.06,1445.16 2240.1,1445.37 2241.14,1445 2242.19,1445.13 2243.23,1445.72 2244.27,1444.74 2245.32,1444.32 2246.36,1444.4 2247.4,1444.93 2248.45,1445.57 \n",
       "  2249.49,1445.18 2250.53,1445.3 2251.58,1445.58 2252.62,1445.53 2253.66,1445.49 2254.71,1445.57 2255.75,1445.33 2256.79,1445.31 2257.84,1445.69 2258.88,1445.69 \n",
       "  2259.92,1445.35 2260.97,1445.45 2262.01,1445.44 2263.05,1445.41 2264.1,1445.6 2265.14,1445.67 2266.18,1445.24 2267.23,1445.23 2268.27,1445.68 2269.32,1444.9 \n",
       "  2270.36,1444.58 2271.4,1444.75 2272.45,1445.37 2273.49,1445.05 2274.53,1444.6 2275.58,1444.65 2276.62,1445.16 2277.66,1445.37 2278.71,1445 2279.75,1445.13 \n",
       "  2280.79,1445.72 2281.84,1444.74 2282.88,1444.32 2283.92,1444.4 2284.97,1444.93 2286.01,1445.57 2287.05,1445.18 2288.1,1445.3 2289.14,1445.58 2290.18,1445.53 \n",
       "  \n",
       "  \"/>\n",
       "<path clip-path=\"url(#clip710)\" d=\"\n",
       "M1980.97 198.898 L2279.06 198.898 L2279.06 95.2176 L1980.97 95.2176  Z\n",
       "  \" fill=\"#ffffff\" fill-rule=\"evenodd\" fill-opacity=\"1\"/>\n",
       "<polyline clip-path=\"url(#clip710)\" style=\"stroke:#000000; stroke-linecap:round; stroke-linejoin:round; stroke-width:4; stroke-opacity:1; fill:none\" points=\"\n",
       "  1980.97,198.898 2279.06,198.898 2279.06,95.2176 1980.97,95.2176 1980.97,198.898 \n",
       "  \"/>\n",
       "<polyline clip-path=\"url(#clip710)\" style=\"stroke:#009af9; stroke-linecap:round; stroke-linejoin:round; stroke-width:4; stroke-opacity:1; fill:none\" points=\"\n",
       "  2005.54,147.058 2152.93,147.058 \n",
       "  \"/>\n",
       "<path clip-path=\"url(#clip710)\" d=\"M2191.34 166.745 Q2189.53 171.375 2187.82 172.787 Q2186.11 174.199 2183.24 174.199 L2179.84 174.199 L2179.84 170.634 L2182.34 170.634 Q2184.09 170.634 2185.07 169.8 Q2186.04 168.967 2187.22 165.865 L2187.98 163.921 L2177.5 138.412 L2182.01 138.412 L2190.11 158.689 L2198.22 138.412 L2202.73 138.412 L2191.34 166.745 Z\" fill=\"#000000\" fill-rule=\"evenodd\" fill-opacity=\"1\" /><path clip-path=\"url(#clip710)\" d=\"M2210.02 160.402 L2217.66 160.402 L2217.66 134.037 L2209.35 135.703 L2209.35 131.444 L2217.61 129.778 L2222.29 129.778 L2222.29 160.402 L2229.93 160.402 L2229.93 164.338 L2210.02 164.338 L2210.02 160.402 Z\" fill=\"#000000\" fill-rule=\"evenodd\" fill-opacity=\"1\" /></svg>\n"
      ]
     },
     "execution_count": 405,
     "metadata": {},
     "output_type": "execute_result"
    }
   ],
   "source": [
    "plot(losses)"
   ]
  },
  {
   "cell_type": "code",
   "execution_count": 417,
   "metadata": {},
   "outputs": [],
   "source": [
    "#iterate our training with early exit\n",
    "m1c = Chain( Dense(3 => 2, sigmoid) , Dense(2 => 1) )\n",
    "params = Flux.params( m1c )\n",
    "data = ncycle([(x, y)], 2000)\n",
    "losses = []\n",
    "for data_tmp in data\n",
    "    \n",
    "    Flux.train!( loss1c , params , [data_tmp] , opt )\n",
    "    push!(losses, loss1c(data_tmp...) )\n",
    "    if(losses[end] < 1) break end\n",
    "end"
   ]
  },
  {
   "cell_type": "code",
   "execution_count": 418,
   "metadata": {},
   "outputs": [
    {
     "data": {
      "text/plain": [
       "488"
      ]
     },
     "execution_count": 418,
     "metadata": {},
     "output_type": "execute_result"
    }
   ],
   "source": [
    "length(losses)"
   ]
  },
  {
   "cell_type": "code",
   "execution_count": 419,
   "metadata": {},
   "outputs": [
    {
     "data": {
      "image/svg+xml": [
       "<?xml version=\"1.0\" encoding=\"utf-8\"?>\n",
       "<svg xmlns=\"http://www.w3.org/2000/svg\" xmlns:xlink=\"http://www.w3.org/1999/xlink\" width=\"600\" height=\"400\" viewBox=\"0 0 2400 1600\">\n",
       "<defs>\n",
       "  <clipPath id=\"clip830\">\n",
       "    <rect x=\"0\" y=\"0\" width=\"2400\" height=\"1600\"/>\n",
       "  </clipPath>\n",
       "</defs>\n",
       "<path clip-path=\"url(#clip830)\" d=\"\n",
       "M0 1600 L2400 1600 L2400 0 L0 0  Z\n",
       "  \" fill=\"#ffffff\" fill-rule=\"evenodd\" fill-opacity=\"1\"/>\n",
       "<defs>\n",
       "  <clipPath id=\"clip831\">\n",
       "    <rect x=\"480\" y=\"0\" width=\"1681\" height=\"1600\"/>\n",
       "  </clipPath>\n",
       "</defs>\n",
       "<path clip-path=\"url(#clip830)\" d=\"\n",
       "M169.121 1486.45 L2352.76 1486.45 L2352.76 47.2441 L169.121 47.2441  Z\n",
       "  \" fill=\"#ffffff\" fill-rule=\"evenodd\" fill-opacity=\"1\"/>\n",
       "<defs>\n",
       "  <clipPath id=\"clip832\">\n",
       "    <rect x=\"169\" y=\"47\" width=\"2185\" height=\"1440\"/>\n",
       "  </clipPath>\n",
       "</defs>\n",
       "<polyline clip-path=\"url(#clip832)\" style=\"stroke:#000000; stroke-linecap:round; stroke-linejoin:round; stroke-width:2; stroke-opacity:0.1; fill:none\" points=\"\n",
       "  226.692,1486.45 226.692,47.2441 \n",
       "  \"/>\n",
       "<polyline clip-path=\"url(#clip832)\" style=\"stroke:#000000; stroke-linecap:round; stroke-linejoin:round; stroke-width:2; stroke-opacity:0.1; fill:none\" points=\"\n",
       "  649.697,1486.45 649.697,47.2441 \n",
       "  \"/>\n",
       "<polyline clip-path=\"url(#clip832)\" style=\"stroke:#000000; stroke-linecap:round; stroke-linejoin:round; stroke-width:2; stroke-opacity:0.1; fill:none\" points=\"\n",
       "  1072.7,1486.45 1072.7,47.2441 \n",
       "  \"/>\n",
       "<polyline clip-path=\"url(#clip832)\" style=\"stroke:#000000; stroke-linecap:round; stroke-linejoin:round; stroke-width:2; stroke-opacity:0.1; fill:none\" points=\"\n",
       "  1495.71,1486.45 1495.71,47.2441 \n",
       "  \"/>\n",
       "<polyline clip-path=\"url(#clip832)\" style=\"stroke:#000000; stroke-linecap:round; stroke-linejoin:round; stroke-width:2; stroke-opacity:0.1; fill:none\" points=\"\n",
       "  1918.71,1486.45 1918.71,47.2441 \n",
       "  \"/>\n",
       "<polyline clip-path=\"url(#clip832)\" style=\"stroke:#000000; stroke-linecap:round; stroke-linejoin:round; stroke-width:2; stroke-opacity:0.1; fill:none\" points=\"\n",
       "  2341.72,1486.45 2341.72,47.2441 \n",
       "  \"/>\n",
       "<polyline clip-path=\"url(#clip830)\" style=\"stroke:#000000; stroke-linecap:round; stroke-linejoin:round; stroke-width:4; stroke-opacity:1; fill:none\" points=\"\n",
       "  169.121,1486.45 2352.76,1486.45 \n",
       "  \"/>\n",
       "<polyline clip-path=\"url(#clip830)\" style=\"stroke:#000000; stroke-linecap:round; stroke-linejoin:round; stroke-width:4; stroke-opacity:1; fill:none\" points=\"\n",
       "  226.692,1486.45 226.692,1467.55 \n",
       "  \"/>\n",
       "<polyline clip-path=\"url(#clip830)\" style=\"stroke:#000000; stroke-linecap:round; stroke-linejoin:round; stroke-width:4; stroke-opacity:1; fill:none\" points=\"\n",
       "  649.697,1486.45 649.697,1467.55 \n",
       "  \"/>\n",
       "<polyline clip-path=\"url(#clip830)\" style=\"stroke:#000000; stroke-linecap:round; stroke-linejoin:round; stroke-width:4; stroke-opacity:1; fill:none\" points=\"\n",
       "  1072.7,1486.45 1072.7,1467.55 \n",
       "  \"/>\n",
       "<polyline clip-path=\"url(#clip830)\" style=\"stroke:#000000; stroke-linecap:round; stroke-linejoin:round; stroke-width:4; stroke-opacity:1; fill:none\" points=\"\n",
       "  1495.71,1486.45 1495.71,1467.55 \n",
       "  \"/>\n",
       "<polyline clip-path=\"url(#clip830)\" style=\"stroke:#000000; stroke-linecap:round; stroke-linejoin:round; stroke-width:4; stroke-opacity:1; fill:none\" points=\"\n",
       "  1918.71,1486.45 1918.71,1467.55 \n",
       "  \"/>\n",
       "<polyline clip-path=\"url(#clip830)\" style=\"stroke:#000000; stroke-linecap:round; stroke-linejoin:round; stroke-width:4; stroke-opacity:1; fill:none\" points=\"\n",
       "  2341.72,1486.45 2341.72,1467.55 \n",
       "  \"/>\n",
       "<path clip-path=\"url(#clip830)\" d=\"M226.692 1517.37 Q223.081 1517.37 221.252 1520.93 Q219.447 1524.47 219.447 1531.6 Q219.447 1538.71 221.252 1542.27 Q223.081 1545.82 226.692 1545.82 Q230.326 1545.82 232.132 1542.27 Q233.961 1538.71 233.961 1531.6 Q233.961 1524.47 232.132 1520.93 Q230.326 1517.37 226.692 1517.37 M226.692 1513.66 Q232.502 1513.66 235.558 1518.27 Q238.637 1522.85 238.637 1531.6 Q238.637 1540.33 235.558 1544.94 Q232.502 1549.52 226.692 1549.52 Q220.882 1549.52 217.803 1544.94 Q214.748 1540.33 214.748 1531.6 Q214.748 1522.85 217.803 1518.27 Q220.882 1513.66 226.692 1513.66 Z\" fill=\"#000000\" fill-rule=\"evenodd\" fill-opacity=\"1\" /><path clip-path=\"url(#clip830)\" d=\"M609.304 1544.91 L616.942 1544.91 L616.942 1518.55 L608.632 1520.21 L608.632 1515.95 L616.896 1514.29 L621.572 1514.29 L621.572 1544.91 L629.211 1544.91 L629.211 1548.85 L609.304 1548.85 L609.304 1544.91 Z\" fill=\"#000000\" fill-rule=\"evenodd\" fill-opacity=\"1\" /><path clip-path=\"url(#clip830)\" d=\"M648.655 1517.37 Q645.044 1517.37 643.215 1520.93 Q641.41 1524.47 641.41 1531.6 Q641.41 1538.71 643.215 1542.27 Q645.044 1545.82 648.655 1545.82 Q652.289 1545.82 654.095 1542.27 Q655.924 1538.71 655.924 1531.6 Q655.924 1524.47 654.095 1520.93 Q652.289 1517.37 648.655 1517.37 M648.655 1513.66 Q654.465 1513.66 657.521 1518.27 Q660.6 1522.85 660.6 1531.6 Q660.6 1540.33 657.521 1544.94 Q654.465 1549.52 648.655 1549.52 Q642.845 1549.52 639.766 1544.94 Q636.711 1540.33 636.711 1531.6 Q636.711 1522.85 639.766 1518.27 Q642.845 1513.66 648.655 1513.66 Z\" fill=\"#000000\" fill-rule=\"evenodd\" fill-opacity=\"1\" /><path clip-path=\"url(#clip830)\" d=\"M678.817 1517.37 Q675.206 1517.37 673.377 1520.93 Q671.572 1524.47 671.572 1531.6 Q671.572 1538.71 673.377 1542.27 Q675.206 1545.82 678.817 1545.82 Q682.451 1545.82 684.257 1542.27 Q686.086 1538.71 686.086 1531.6 Q686.086 1524.47 684.257 1520.93 Q682.451 1517.37 678.817 1517.37 M678.817 1513.66 Q684.627 1513.66 687.683 1518.27 Q690.761 1522.85 690.761 1531.6 Q690.761 1540.33 687.683 1544.94 Q684.627 1549.52 678.817 1549.52 Q673.007 1549.52 669.928 1544.94 Q666.873 1540.33 666.873 1531.6 Q666.873 1522.85 669.928 1518.27 Q673.007 1513.66 678.817 1513.66 Z\" fill=\"#000000\" fill-rule=\"evenodd\" fill-opacity=\"1\" /><path clip-path=\"url(#clip830)\" d=\"M1036.39 1544.91 L1052.71 1544.91 L1052.71 1548.85 L1030.77 1548.85 L1030.77 1544.91 Q1033.43 1542.16 1038.01 1537.53 Q1042.62 1532.88 1043.8 1531.53 Q1046.05 1529.01 1046.93 1527.27 Q1047.83 1525.51 1047.83 1523.82 Q1047.83 1521.07 1045.88 1519.33 Q1043.96 1517.6 1040.86 1517.6 Q1038.66 1517.6 1036.21 1518.36 Q1033.78 1519.13 1031 1520.68 L1031 1515.95 Q1033.82 1514.82 1036.28 1514.24 Q1038.73 1513.66 1040.77 1513.66 Q1046.14 1513.66 1049.33 1516.35 Q1052.53 1519.03 1052.53 1523.52 Q1052.53 1525.65 1051.72 1527.57 Q1050.93 1529.47 1048.82 1532.07 Q1048.25 1532.74 1045.14 1535.95 Q1042.04 1539.15 1036.39 1544.91 Z\" fill=\"#000000\" fill-rule=\"evenodd\" fill-opacity=\"1\" /><path clip-path=\"url(#clip830)\" d=\"M1072.53 1517.37 Q1068.92 1517.37 1067.09 1520.93 Q1065.28 1524.47 1065.28 1531.6 Q1065.28 1538.71 1067.09 1542.27 Q1068.92 1545.82 1072.53 1545.82 Q1076.16 1545.82 1077.97 1542.27 Q1079.8 1538.71 1079.8 1531.6 Q1079.8 1524.47 1077.97 1520.93 Q1076.16 1517.37 1072.53 1517.37 M1072.53 1513.66 Q1078.34 1513.66 1081.39 1518.27 Q1084.47 1522.85 1084.47 1531.6 Q1084.47 1540.33 1081.39 1544.94 Q1078.34 1549.52 1072.53 1549.52 Q1066.72 1549.52 1063.64 1544.94 Q1060.58 1540.33 1060.58 1531.6 Q1060.58 1522.85 1063.64 1518.27 Q1066.72 1513.66 1072.53 1513.66 Z\" fill=\"#000000\" fill-rule=\"evenodd\" fill-opacity=\"1\" /><path clip-path=\"url(#clip830)\" d=\"M1102.69 1517.37 Q1099.08 1517.37 1097.25 1520.93 Q1095.44 1524.47 1095.44 1531.6 Q1095.44 1538.71 1097.25 1542.27 Q1099.08 1545.82 1102.69 1545.82 Q1106.32 1545.82 1108.13 1542.27 Q1109.96 1538.71 1109.96 1531.6 Q1109.96 1524.47 1108.13 1520.93 Q1106.32 1517.37 1102.69 1517.37 M1102.69 1513.66 Q1108.5 1513.66 1111.56 1518.27 Q1114.63 1522.85 1114.63 1531.6 Q1114.63 1540.33 1111.56 1544.94 Q1108.5 1549.52 1102.69 1549.52 Q1096.88 1549.52 1093.8 1544.94 Q1090.75 1540.33 1090.75 1531.6 Q1090.75 1522.85 1093.8 1518.27 Q1096.88 1513.66 1102.69 1513.66 Z\" fill=\"#000000\" fill-rule=\"evenodd\" fill-opacity=\"1\" /><path clip-path=\"url(#clip830)\" d=\"M1469.47 1530.21 Q1472.82 1530.93 1474.7 1533.2 Q1476.6 1535.47 1476.6 1538.8 Q1476.6 1543.92 1473.08 1546.72 Q1469.56 1549.52 1463.08 1549.52 Q1460.9 1549.52 1458.59 1549.08 Q1456.3 1548.66 1453.84 1547.81 L1453.84 1543.29 Q1455.79 1544.43 1458.1 1545.01 Q1460.42 1545.58 1462.94 1545.58 Q1467.34 1545.58 1469.63 1543.85 Q1471.94 1542.11 1471.94 1538.8 Q1471.94 1535.75 1469.79 1534.03 Q1467.66 1532.3 1463.84 1532.3 L1459.82 1532.3 L1459.82 1528.45 L1464.03 1528.45 Q1467.48 1528.45 1469.31 1527.09 Q1471.13 1525.7 1471.13 1523.11 Q1471.13 1520.45 1469.24 1519.03 Q1467.36 1517.6 1463.84 1517.6 Q1461.92 1517.6 1459.72 1518.01 Q1457.52 1518.43 1454.88 1519.31 L1454.88 1515.14 Q1457.55 1514.4 1459.86 1514.03 Q1462.2 1513.66 1464.26 1513.66 Q1469.58 1513.66 1472.69 1516.09 Q1475.79 1518.5 1475.79 1522.62 Q1475.79 1525.49 1474.14 1527.48 Q1472.5 1529.45 1469.47 1530.21 Z\" fill=\"#000000\" fill-rule=\"evenodd\" fill-opacity=\"1\" /><path clip-path=\"url(#clip830)\" d=\"M1495.46 1517.37 Q1491.85 1517.37 1490.02 1520.93 Q1488.22 1524.47 1488.22 1531.6 Q1488.22 1538.71 1490.02 1542.27 Q1491.85 1545.82 1495.46 1545.82 Q1499.1 1545.82 1500.9 1542.27 Q1502.73 1538.71 1502.73 1531.6 Q1502.73 1524.47 1500.9 1520.93 Q1499.1 1517.37 1495.46 1517.37 M1495.46 1513.66 Q1501.27 1513.66 1504.33 1518.27 Q1507.41 1522.85 1507.41 1531.6 Q1507.41 1540.33 1504.33 1544.94 Q1501.27 1549.52 1495.46 1549.52 Q1489.65 1549.52 1486.57 1544.94 Q1483.52 1540.33 1483.52 1531.6 Q1483.52 1522.85 1486.57 1518.27 Q1489.65 1513.66 1495.46 1513.66 Z\" fill=\"#000000\" fill-rule=\"evenodd\" fill-opacity=\"1\" /><path clip-path=\"url(#clip830)\" d=\"M1525.63 1517.37 Q1522.01 1517.37 1520.19 1520.93 Q1518.38 1524.47 1518.38 1531.6 Q1518.38 1538.71 1520.19 1542.27 Q1522.01 1545.82 1525.63 1545.82 Q1529.26 1545.82 1531.06 1542.27 Q1532.89 1538.71 1532.89 1531.6 Q1532.89 1524.47 1531.06 1520.93 Q1529.26 1517.37 1525.63 1517.37 M1525.63 1513.66 Q1531.44 1513.66 1534.49 1518.27 Q1537.57 1522.85 1537.57 1531.6 Q1537.57 1540.33 1534.49 1544.94 Q1531.44 1549.52 1525.63 1549.52 Q1519.81 1549.52 1516.74 1544.94 Q1513.68 1540.33 1513.68 1531.6 Q1513.68 1522.85 1516.74 1518.27 Q1519.81 1513.66 1525.63 1513.66 Z\" fill=\"#000000\" fill-rule=\"evenodd\" fill-opacity=\"1\" /><path clip-path=\"url(#clip830)\" d=\"M1891.8 1518.36 L1880 1536.81 L1891.8 1536.81 L1891.8 1518.36 M1890.57 1514.29 L1896.45 1514.29 L1896.45 1536.81 L1901.38 1536.81 L1901.38 1540.7 L1896.45 1540.7 L1896.45 1548.85 L1891.8 1548.85 L1891.8 1540.7 L1876.2 1540.7 L1876.2 1536.19 L1890.57 1514.29 Z\" fill=\"#000000\" fill-rule=\"evenodd\" fill-opacity=\"1\" /><path clip-path=\"url(#clip830)\" d=\"M1919.12 1517.37 Q1915.5 1517.37 1913.68 1520.93 Q1911.87 1524.47 1911.87 1531.6 Q1911.87 1538.71 1913.68 1542.27 Q1915.5 1545.82 1919.12 1545.82 Q1922.75 1545.82 1924.56 1542.27 Q1926.38 1538.71 1926.38 1531.6 Q1926.38 1524.47 1924.56 1520.93 Q1922.75 1517.37 1919.12 1517.37 M1919.12 1513.66 Q1924.93 1513.66 1927.98 1518.27 Q1931.06 1522.85 1931.06 1531.6 Q1931.06 1540.33 1927.98 1544.94 Q1924.93 1549.52 1919.12 1549.52 Q1913.31 1549.52 1910.23 1544.94 Q1907.17 1540.33 1907.17 1531.6 Q1907.17 1522.85 1910.23 1518.27 Q1913.31 1513.66 1919.12 1513.66 Z\" fill=\"#000000\" fill-rule=\"evenodd\" fill-opacity=\"1\" /><path clip-path=\"url(#clip830)\" d=\"M1949.28 1517.37 Q1945.67 1517.37 1943.84 1520.93 Q1942.03 1524.47 1942.03 1531.6 Q1942.03 1538.71 1943.84 1542.27 Q1945.67 1545.82 1949.28 1545.82 Q1952.91 1545.82 1954.72 1542.27 Q1956.55 1538.71 1956.55 1531.6 Q1956.55 1524.47 1954.72 1520.93 Q1952.91 1517.37 1949.28 1517.37 M1949.28 1513.66 Q1955.09 1513.66 1958.14 1518.27 Q1961.22 1522.85 1961.22 1531.6 Q1961.22 1540.33 1958.14 1544.94 Q1955.09 1549.52 1949.28 1549.52 Q1943.47 1549.52 1940.39 1544.94 Q1937.33 1540.33 1937.33 1531.6 Q1937.33 1522.85 1940.39 1518.27 Q1943.47 1513.66 1949.28 1513.66 Z\" fill=\"#000000\" fill-rule=\"evenodd\" fill-opacity=\"1\" /><path clip-path=\"url(#clip830)\" d=\"M2301.33 1514.29 L2319.69 1514.29 L2319.69 1518.22 L2305.62 1518.22 L2305.62 1526.7 Q2306.63 1526.35 2307.65 1526.19 Q2308.67 1526 2309.69 1526 Q2315.48 1526 2318.86 1529.17 Q2322.24 1532.34 2322.24 1537.76 Q2322.24 1543.34 2318.76 1546.44 Q2315.29 1549.52 2308.97 1549.52 Q2306.8 1549.52 2304.53 1549.15 Q2302.28 1548.78 2299.88 1548.04 L2299.88 1543.34 Q2301.96 1544.47 2304.18 1545.03 Q2306.4 1545.58 2308.88 1545.58 Q2312.88 1545.58 2315.22 1543.48 Q2317.56 1541.37 2317.56 1537.76 Q2317.56 1534.15 2315.22 1532.04 Q2312.88 1529.94 2308.88 1529.94 Q2307.01 1529.94 2305.13 1530.35 Q2303.28 1530.77 2301.33 1531.65 L2301.33 1514.29 Z\" fill=\"#000000\" fill-rule=\"evenodd\" fill-opacity=\"1\" /><path clip-path=\"url(#clip830)\" d=\"M2341.45 1517.37 Q2337.84 1517.37 2336.01 1520.93 Q2334.2 1524.47 2334.2 1531.6 Q2334.2 1538.71 2336.01 1542.27 Q2337.84 1545.82 2341.45 1545.82 Q2345.08 1545.82 2346.89 1542.27 Q2348.72 1538.71 2348.72 1531.6 Q2348.72 1524.47 2346.89 1520.93 Q2345.08 1517.37 2341.45 1517.37 M2341.45 1513.66 Q2347.26 1513.66 2350.31 1518.27 Q2353.39 1522.85 2353.39 1531.6 Q2353.39 1540.33 2350.31 1544.94 Q2347.26 1549.52 2341.45 1549.52 Q2335.64 1549.52 2332.56 1544.94 Q2329.5 1540.33 2329.5 1531.6 Q2329.5 1522.85 2332.56 1518.27 Q2335.64 1513.66 2341.45 1513.66 Z\" fill=\"#000000\" fill-rule=\"evenodd\" fill-opacity=\"1\" /><path clip-path=\"url(#clip830)\" d=\"M2371.61 1517.37 Q2368 1517.37 2366.17 1520.93 Q2364.37 1524.47 2364.37 1531.6 Q2364.37 1538.71 2366.17 1542.27 Q2368 1545.82 2371.61 1545.82 Q2375.25 1545.82 2377.05 1542.27 Q2378.88 1538.71 2378.88 1531.6 Q2378.88 1524.47 2377.05 1520.93 Q2375.25 1517.37 2371.61 1517.37 M2371.61 1513.66 Q2377.42 1513.66 2380.48 1518.27 Q2383.56 1522.85 2383.56 1531.6 Q2383.56 1540.33 2380.48 1544.94 Q2377.42 1549.52 2371.61 1549.52 Q2365.8 1549.52 2362.72 1544.94 Q2359.67 1540.33 2359.67 1531.6 Q2359.67 1522.85 2362.72 1518.27 Q2365.8 1513.66 2371.61 1513.66 Z\" fill=\"#000000\" fill-rule=\"evenodd\" fill-opacity=\"1\" /><polyline clip-path=\"url(#clip832)\" style=\"stroke:#000000; stroke-linecap:round; stroke-linejoin:round; stroke-width:2; stroke-opacity:0.1; fill:none\" points=\"\n",
       "  169.121,1459.53 2352.76,1459.53 \n",
       "  \"/>\n",
       "<polyline clip-path=\"url(#clip832)\" style=\"stroke:#000000; stroke-linecap:round; stroke-linejoin:round; stroke-width:2; stroke-opacity:0.1; fill:none\" points=\"\n",
       "  169.121,1111.03 2352.76,1111.03 \n",
       "  \"/>\n",
       "<polyline clip-path=\"url(#clip832)\" style=\"stroke:#000000; stroke-linecap:round; stroke-linejoin:round; stroke-width:2; stroke-opacity:0.1; fill:none\" points=\"\n",
       "  169.121,762.538 2352.76,762.538 \n",
       "  \"/>\n",
       "<polyline clip-path=\"url(#clip832)\" style=\"stroke:#000000; stroke-linecap:round; stroke-linejoin:round; stroke-width:2; stroke-opacity:0.1; fill:none\" points=\"\n",
       "  169.121,414.041 2352.76,414.041 \n",
       "  \"/>\n",
       "<polyline clip-path=\"url(#clip832)\" style=\"stroke:#000000; stroke-linecap:round; stroke-linejoin:round; stroke-width:2; stroke-opacity:0.1; fill:none\" points=\"\n",
       "  169.121,65.5438 2352.76,65.5438 \n",
       "  \"/>\n",
       "<polyline clip-path=\"url(#clip830)\" style=\"stroke:#000000; stroke-linecap:round; stroke-linejoin:round; stroke-width:4; stroke-opacity:1; fill:none\" points=\"\n",
       "  169.121,1486.45 169.121,47.2441 \n",
       "  \"/>\n",
       "<polyline clip-path=\"url(#clip830)\" style=\"stroke:#000000; stroke-linecap:round; stroke-linejoin:round; stroke-width:4; stroke-opacity:1; fill:none\" points=\"\n",
       "  169.121,1459.53 188.019,1459.53 \n",
       "  \"/>\n",
       "<polyline clip-path=\"url(#clip830)\" style=\"stroke:#000000; stroke-linecap:round; stroke-linejoin:round; stroke-width:4; stroke-opacity:1; fill:none\" points=\"\n",
       "  169.121,1111.03 188.019,1111.03 \n",
       "  \"/>\n",
       "<polyline clip-path=\"url(#clip830)\" style=\"stroke:#000000; stroke-linecap:round; stroke-linejoin:round; stroke-width:4; stroke-opacity:1; fill:none\" points=\"\n",
       "  169.121,762.538 188.019,762.538 \n",
       "  \"/>\n",
       "<polyline clip-path=\"url(#clip830)\" style=\"stroke:#000000; stroke-linecap:round; stroke-linejoin:round; stroke-width:4; stroke-opacity:1; fill:none\" points=\"\n",
       "  169.121,414.041 188.019,414.041 \n",
       "  \"/>\n",
       "<polyline clip-path=\"url(#clip830)\" style=\"stroke:#000000; stroke-linecap:round; stroke-linejoin:round; stroke-width:4; stroke-opacity:1; fill:none\" points=\"\n",
       "  169.121,65.5438 188.019,65.5438 \n",
       "  \"/>\n",
       "<path clip-path=\"url(#clip830)\" d=\"M121.177 1445.33 Q117.566 1445.33 115.737 1448.9 Q113.932 1452.44 113.932 1459.57 Q113.932 1466.67 115.737 1470.24 Q117.566 1473.78 121.177 1473.78 Q124.811 1473.78 126.617 1470.24 Q128.445 1466.67 128.445 1459.57 Q128.445 1452.44 126.617 1448.9 Q124.811 1445.33 121.177 1445.33 M121.177 1441.63 Q126.987 1441.63 130.043 1446.23 Q133.121 1450.82 133.121 1459.57 Q133.121 1468.29 130.043 1472.9 Q126.987 1477.48 121.177 1477.48 Q115.367 1477.48 112.288 1472.9 Q109.233 1468.29 109.233 1459.57 Q109.233 1450.82 112.288 1446.23 Q115.367 1441.63 121.177 1441.63 Z\" fill=\"#000000\" fill-rule=\"evenodd\" fill-opacity=\"1\" /><path clip-path=\"url(#clip830)\" d=\"M86.0382 1124.38 L102.358 1124.38 L102.358 1128.31 L80.4133 1128.31 L80.4133 1124.38 Q83.0753 1121.63 87.6586 1117 Q92.2651 1112.34 93.4456 1111 Q95.691 1108.48 96.5706 1106.74 Q97.4734 1104.98 97.4734 1103.29 Q97.4734 1100.54 95.5289 1098.8 Q93.6076 1097.07 90.5058 1097.07 Q88.3067 1097.07 85.8531 1097.83 Q83.4225 1098.59 80.6447 1100.14 L80.6447 1095.42 Q83.4688 1094.29 85.9225 1093.71 Q88.3762 1093.13 90.4132 1093.13 Q95.7836 1093.13 98.978 1095.82 Q102.172 1098.5 102.172 1102.99 Q102.172 1105.12 101.362 1107.04 Q100.575 1108.94 98.4687 1111.53 Q97.89 1112.2 94.7882 1115.42 Q91.6864 1118.62 86.0382 1124.38 Z\" fill=\"#000000\" fill-rule=\"evenodd\" fill-opacity=\"1\" /><path clip-path=\"url(#clip830)\" d=\"M112.219 1093.75 L130.575 1093.75 L130.575 1097.69 L116.501 1097.69 L116.501 1106.16 Q117.52 1105.82 118.538 1105.65 Q119.557 1105.47 120.575 1105.47 Q126.362 1105.47 129.742 1108.64 Q133.121 1111.81 133.121 1117.23 Q133.121 1122.81 129.649 1125.91 Q126.177 1128.99 119.857 1128.99 Q117.682 1128.99 115.413 1128.62 Q113.168 1128.25 110.76 1127.5 L110.76 1122.81 Q112.844 1123.94 115.066 1124.5 Q117.288 1125.05 119.765 1125.05 Q123.77 1125.05 126.107 1122.94 Q128.445 1120.84 128.445 1117.23 Q128.445 1113.62 126.107 1111.51 Q123.77 1109.4 119.765 1109.4 Q117.89 1109.4 116.015 1109.82 Q114.163 1110.24 112.219 1111.12 L112.219 1093.75 Z\" fill=\"#000000\" fill-rule=\"evenodd\" fill-opacity=\"1\" /><path clip-path=\"url(#clip830)\" d=\"M81.0614 745.258 L99.4178 745.258 L99.4178 749.193 L85.3438 749.193 L85.3438 757.665 Q86.3623 757.318 87.3808 757.156 Q88.3993 756.971 89.4178 756.971 Q95.2049 756.971 98.5845 760.142 Q101.964 763.313 101.964 768.73 Q101.964 774.309 98.4919 777.411 Q95.0197 780.489 88.7003 780.489 Q86.5243 780.489 84.2558 780.119 Q82.0105 779.748 79.6031 779.008 L79.6031 774.309 Q81.6864 775.443 83.9086 775.998 Q86.1308 776.554 88.6077 776.554 Q92.6123 776.554 94.9502 774.448 Q97.2882 772.341 97.2882 768.73 Q97.2882 765.119 94.9502 763.012 Q92.6123 760.906 88.6077 760.906 Q86.7327 760.906 84.8577 761.323 Q83.0058 761.739 81.0614 762.619 L81.0614 745.258 Z\" fill=\"#000000\" fill-rule=\"evenodd\" fill-opacity=\"1\" /><path clip-path=\"url(#clip830)\" d=\"M121.177 748.337 Q117.566 748.337 115.737 751.901 Q113.932 755.443 113.932 762.573 Q113.932 769.679 115.737 773.244 Q117.566 776.786 121.177 776.786 Q124.811 776.786 126.617 773.244 Q128.445 769.679 128.445 762.573 Q128.445 755.443 126.617 751.901 Q124.811 748.337 121.177 748.337 M121.177 744.633 Q126.987 744.633 130.043 749.239 Q133.121 753.823 133.121 762.573 Q133.121 771.299 130.043 775.906 Q126.987 780.489 121.177 780.489 Q115.367 780.489 112.288 775.906 Q109.233 771.299 109.233 762.573 Q109.233 753.823 112.288 749.239 Q115.367 744.633 121.177 744.633 Z\" fill=\"#000000\" fill-rule=\"evenodd\" fill-opacity=\"1\" /><path clip-path=\"url(#clip830)\" d=\"M80.8299 396.761 L103.052 396.761 L103.052 398.752 L90.5058 431.321 L85.6216 431.321 L97.4271 400.696 L80.8299 400.696 L80.8299 396.761 Z\" fill=\"#000000\" fill-rule=\"evenodd\" fill-opacity=\"1\" /><path clip-path=\"url(#clip830)\" d=\"M112.219 396.761 L130.575 396.761 L130.575 400.696 L116.501 400.696 L116.501 409.168 Q117.52 408.821 118.538 408.659 Q119.557 408.474 120.575 408.474 Q126.362 408.474 129.742 411.645 Q133.121 414.816 133.121 420.233 Q133.121 425.812 129.649 428.913 Q126.177 431.992 119.857 431.992 Q117.682 431.992 115.413 431.622 Q113.168 431.251 110.76 430.511 L110.76 425.812 Q112.844 426.946 115.066 427.501 Q117.288 428.057 119.765 428.057 Q123.77 428.057 126.107 425.951 Q128.445 423.844 128.445 420.233 Q128.445 416.622 126.107 414.515 Q123.77 412.409 119.765 412.409 Q117.89 412.409 116.015 412.826 Q114.163 413.242 112.219 414.122 L112.219 396.761 Z\" fill=\"#000000\" fill-rule=\"evenodd\" fill-opacity=\"1\" /><path clip-path=\"url(#clip830)\" d=\"M51.6634 78.8886 L59.3023 78.8886 L59.3023 52.523 L50.9921 54.1897 L50.9921 49.9305 L59.256 48.2638 L63.9319 48.2638 L63.9319 78.8886 L71.5707 78.8886 L71.5707 82.8238 L51.6634 82.8238 L51.6634 78.8886 Z\" fill=\"#000000\" fill-rule=\"evenodd\" fill-opacity=\"1\" /><path clip-path=\"url(#clip830)\" d=\"M91.0151 51.3425 Q87.404 51.3425 85.5753 54.9073 Q83.7697 58.4489 83.7697 65.5785 Q83.7697 72.685 85.5753 76.2498 Q87.404 79.7914 91.0151 79.7914 Q94.6493 79.7914 96.4548 76.2498 Q98.2835 72.685 98.2835 65.5785 Q98.2835 58.4489 96.4548 54.9073 Q94.6493 51.3425 91.0151 51.3425 M91.0151 47.6388 Q96.8252 47.6388 99.8808 52.2453 Q102.959 56.8286 102.959 65.5785 Q102.959 74.3053 99.8808 78.9118 Q96.8252 83.4951 91.0151 83.4951 Q85.2049 83.4951 82.1262 78.9118 Q79.0707 74.3053 79.0707 65.5785 Q79.0707 56.8286 82.1262 52.2453 Q85.2049 47.6388 91.0151 47.6388 Z\" fill=\"#000000\" fill-rule=\"evenodd\" fill-opacity=\"1\" /><path clip-path=\"url(#clip830)\" d=\"M121.177 51.3425 Q117.566 51.3425 115.737 54.9073 Q113.932 58.4489 113.932 65.5785 Q113.932 72.685 115.737 76.2498 Q117.566 79.7914 121.177 79.7914 Q124.811 79.7914 126.617 76.2498 Q128.445 72.685 128.445 65.5785 Q128.445 58.4489 126.617 54.9073 Q124.811 51.3425 121.177 51.3425 M121.177 47.6388 Q126.987 47.6388 130.043 52.2453 Q133.121 56.8286 133.121 65.5785 Q133.121 74.3053 130.043 78.9118 Q126.987 83.4951 121.177 83.4951 Q115.367 83.4951 112.288 78.9118 Q109.233 74.3053 109.233 65.5785 Q109.233 56.8286 112.288 52.2453 Q115.367 47.6388 121.177 47.6388 Z\" fill=\"#000000\" fill-rule=\"evenodd\" fill-opacity=\"1\" /><polyline clip-path=\"url(#clip832)\" style=\"stroke:#009af9; stroke-linecap:round; stroke-linejoin:round; stroke-width:4; stroke-opacity:1; fill:none\" points=\"\n",
       "  230.922,87.9763 235.152,90.7642 239.382,93.5523 243.612,96.3402 247.842,99.1282 252.073,101.916 256.303,104.704 260.533,107.492 264.763,110.28 268.993,113.068 \n",
       "  273.223,115.856 277.453,118.644 281.683,121.432 285.913,124.22 290.143,127.008 294.373,129.796 298.603,132.584 302.833,135.372 307.063,138.16 311.293,140.948 \n",
       "  315.523,143.736 319.753,146.524 323.983,149.312 328.213,152.1 332.443,154.888 336.673,157.676 340.904,160.464 345.134,163.252 349.364,166.04 353.594,168.828 \n",
       "  357.824,171.616 362.054,174.404 366.284,177.191 370.514,179.979 374.744,182.767 378.974,185.555 383.204,188.343 387.434,191.131 391.664,193.919 395.894,196.707 \n",
       "  400.124,199.495 404.354,202.283 408.584,205.071 412.814,207.859 417.044,210.647 421.274,213.435 425.504,216.223 429.734,219.011 433.965,221.799 438.195,224.587 \n",
       "  442.425,227.375 446.655,230.163 450.885,232.951 455.115,235.739 459.345,238.527 463.575,241.315 467.805,244.103 472.035,246.891 476.265,249.679 480.495,252.467 \n",
       "  484.725,255.255 488.955,258.043 493.185,260.831 497.415,263.619 501.645,266.407 505.875,269.195 510.105,271.983 514.335,274.771 518.565,277.559 522.796,280.347 \n",
       "  527.026,283.135 531.256,285.922 535.486,288.71 539.716,291.498 543.946,294.286 548.176,297.074 552.406,299.862 556.636,302.65 560.866,305.438 565.096,308.226 \n",
       "  569.326,311.014 573.556,313.802 577.786,316.59 582.016,319.378 586.246,322.166 590.476,324.954 594.706,327.742 598.936,330.53 603.166,333.318 607.396,336.106 \n",
       "  611.626,338.894 615.857,341.682 620.087,344.47 624.317,347.258 628.547,350.046 632.777,352.834 637.007,355.622 641.237,358.41 645.467,361.198 649.697,363.986 \n",
       "  653.927,366.774 658.157,369.562 662.387,372.35 666.617,375.138 670.847,377.926 675.077,380.714 679.307,383.502 683.537,386.29 687.767,389.078 691.997,391.866 \n",
       "  696.227,394.654 700.457,397.442 704.687,400.23 708.918,403.018 713.148,405.806 717.378,408.594 721.608,411.382 725.838,414.17 730.068,416.958 734.298,419.746 \n",
       "  738.528,422.534 742.758,425.322 746.988,428.11 751.218,430.898 755.448,433.686 759.678,436.474 763.908,439.262 768.138,442.05 772.368,444.838 776.598,447.626 \n",
       "  780.828,450.414 785.058,453.202 789.288,455.99 793.518,458.778 797.749,461.566 801.979,464.354 806.209,467.142 810.439,469.93 814.669,472.718 818.899,475.506 \n",
       "  823.129,478.294 827.359,481.082 831.589,483.87 835.819,486.658 840.049,489.445 844.279,492.233 848.509,495.021 852.739,497.809 856.969,500.597 861.199,503.385 \n",
       "  865.429,506.173 869.659,508.961 873.889,511.749 878.119,514.537 882.349,517.325 886.579,520.113 890.81,522.901 895.04,525.689 899.27,528.477 903.5,531.265 \n",
       "  907.73,534.053 911.96,536.841 916.19,539.629 920.42,542.417 924.65,545.205 928.88,547.993 933.11,550.781 937.34,553.569 941.57,556.357 945.8,559.145 \n",
       "  950.03,561.933 954.26,564.721 958.49,567.509 962.72,570.297 966.95,573.085 971.18,575.873 975.41,578.661 979.641,581.449 983.871,584.237 988.101,587.025 \n",
       "  992.331,589.813 996.561,592.601 1000.79,595.389 1005.02,598.177 1009.25,600.965 1013.48,603.753 1017.71,606.541 1021.94,609.329 1026.17,612.117 1030.4,614.905 \n",
       "  1034.63,617.693 1038.86,620.481 1043.09,623.269 1047.32,626.057 1051.55,628.845 1055.78,631.633 1060.01,634.421 1064.24,637.209 1068.47,639.997 1072.7,642.785 \n",
       "  1076.93,645.573 1081.16,648.361 1085.39,651.149 1089.62,653.937 1093.85,656.725 1098.08,659.513 1102.31,662.301 1106.54,665.089 1110.77,667.877 1115,670.665 \n",
       "  1119.23,673.453 1123.46,676.241 1127.69,679.029 1131.92,681.817 1136.15,684.605 1140.38,687.393 1144.61,690.181 1148.84,692.969 1153.07,695.756 1157.3,698.545 \n",
       "  1161.53,701.332 1165.76,704.121 1169.99,706.908 1174.22,709.696 1178.45,712.484 1182.68,715.272 1186.91,718.06 1191.14,720.848 1195.37,723.636 1199.6,726.424 \n",
       "  1203.83,729.212 1208.06,732 1212.29,734.788 1216.52,737.576 1220.75,740.364 1224.98,743.152 1229.21,745.94 1233.44,748.728 1237.67,751.516 1241.9,754.304 \n",
       "  1246.13,757.092 1250.36,759.88 1254.59,762.668 1258.82,765.456 1263.05,768.244 1267.28,771.032 1271.51,773.82 1275.74,776.608 1279.97,779.396 1284.2,782.184 \n",
       "  1288.43,784.972 1292.66,787.76 1296.89,790.548 1301.12,793.336 1305.35,796.124 1309.58,798.912 1313.81,801.7 1318.04,804.488 1322.27,807.276 1326.5,810.064 \n",
       "  1330.73,812.852 1334.96,815.64 1339.19,818.428 1343.42,821.216 1347.65,824.004 1351.88,826.792 1356.11,829.58 1360.34,832.368 1364.57,835.156 1368.8,837.944 \n",
       "  1373.03,840.732 1377.26,843.52 1381.49,846.308 1385.72,849.096 1389.96,851.884 1394.19,854.672 1398.42,857.46 1402.65,860.248 1406.88,863.036 1411.11,865.824 \n",
       "  1415.34,868.612 1419.57,871.4 1423.8,874.188 1428.03,876.976 1432.26,879.764 1436.49,882.552 1440.72,885.34 1444.95,888.128 1449.18,890.916 1453.41,893.704 \n",
       "  1457.64,896.492 1461.87,899.28 1466.1,902.068 1470.33,904.856 1474.56,907.644 1478.79,910.432 1483.02,913.219 1487.25,916.008 1491.48,918.795 1495.71,921.583 \n",
       "  1499.94,924.371 1504.17,927.159 1508.4,929.947 1512.63,932.735 1516.86,935.523 1521.09,938.311 1525.32,941.099 1529.55,943.887 1533.78,946.675 1538.01,949.463 \n",
       "  1542.24,952.251 1546.47,955.039 1550.7,957.827 1554.93,960.615 1559.16,963.403 1563.39,966.191 1567.62,968.979 1571.85,971.767 1576.08,974.555 1580.31,977.343 \n",
       "  1584.54,980.131 1588.77,982.919 1593,985.707 1597.23,988.495 1601.46,991.282 1605.69,994.07 1609.92,996.858 1614.15,999.646 1618.38,1002.43 1622.61,1005.22 \n",
       "  1626.84,1008.01 1631.07,1010.8 1635.3,1013.59 1639.53,1016.37 1643.76,1019.16 1647.99,1021.95 1652.22,1024.74 1656.45,1027.53 1660.68,1030.31 1664.91,1033.1 \n",
       "  1669.14,1035.89 1673.37,1038.68 1677.6,1041.47 1681.83,1044.25 1686.06,1047.04 1690.29,1049.83 1694.52,1052.62 1698.75,1055.4 1702.98,1058.19 1707.21,1060.98 \n",
       "  1711.44,1063.77 1715.67,1066.56 1719.9,1069.34 1724.13,1072.13 1728.36,1074.92 1732.59,1077.71 1736.82,1080.5 1741.05,1083.28 1745.28,1086.07 1749.51,1088.86 \n",
       "  1753.74,1091.65 1757.97,1094.44 1762.2,1097.22 1766.43,1100.01 1770.66,1102.8 1774.89,1105.59 1779.12,1108.38 1783.35,1111.16 1787.58,1113.95 1791.81,1116.74 \n",
       "  1796.04,1119.53 1800.27,1122.32 1804.5,1125.1 1808.73,1127.89 1812.96,1130.68 1817.19,1133.47 1821.42,1136.26 1825.65,1139.04 1829.88,1141.83 1834.11,1144.62 \n",
       "  1838.34,1147.41 1842.57,1150.19 1846.8,1152.98 1851.03,1155.77 1855.26,1158.56 1859.49,1161.35 1863.72,1164.13 1867.95,1166.92 1872.18,1169.71 1876.41,1172.5 \n",
       "  1880.64,1175.29 1884.87,1178.07 1889.1,1180.86 1893.33,1183.65 1897.56,1186.44 1901.79,1189.23 1906.02,1192.01 1910.25,1194.8 1914.48,1197.59 1918.71,1200.38 \n",
       "  1922.94,1203.17 1927.17,1205.95 1931.4,1208.74 1935.63,1211.53 1939.86,1214.32 1944.09,1217.11 1948.32,1219.89 1952.55,1222.68 1956.78,1225.47 1961.01,1228.26 \n",
       "  1965.24,1231.04 1969.47,1233.83 1973.7,1236.62 1977.93,1239.41 1982.16,1242.2 1986.39,1244.98 1990.62,1247.77 1994.85,1250.56 1999.08,1253.35 2003.31,1256.14 \n",
       "  2007.54,1258.92 2011.77,1261.71 2016,1264.5 2020.23,1267.29 2024.46,1270.08 2028.69,1272.86 2032.92,1275.65 2037.15,1278.44 2041.38,1281.23 2045.61,1284.02 \n",
       "  2049.84,1286.8 2054.07,1289.59 2058.3,1292.38 2062.53,1295.17 2066.76,1297.96 2070.99,1300.74 2075.22,1303.53 2079.45,1306.32 2083.68,1309.11 2087.91,1311.89 \n",
       "  2092.14,1314.68 2096.37,1317.47 2100.6,1320.26 2104.83,1323.05 2109.06,1325.83 2113.29,1328.62 2117.52,1331.41 2121.75,1334.2 2125.98,1336.99 2130.21,1339.77 \n",
       "  2134.44,1342.56 2138.67,1345.35 2142.9,1348.14 2147.13,1350.93 2151.36,1353.71 2155.59,1356.5 2159.82,1359.29 2164.05,1362.08 2168.28,1364.87 2172.51,1367.65 \n",
       "  2176.74,1370.44 2180.97,1373.23 2185.2,1376.02 2189.43,1378.81 2193.66,1381.59 2197.89,1384.38 2202.12,1387.17 2206.35,1389.96 2210.58,1392.74 2214.81,1395.53 \n",
       "  2219.04,1398.32 2223.27,1401.11 2227.5,1403.9 2231.73,1406.68 2235.96,1409.47 2240.19,1412.26 2244.42,1415.05 2248.65,1417.84 2252.88,1420.62 2257.11,1423.41 \n",
       "  2261.34,1426.2 2265.57,1428.99 2269.8,1431.78 2274.03,1434.56 2278.26,1437.35 2282.49,1440.14 2286.72,1442.93 2290.95,1445.72 \n",
       "  \"/>\n",
       "<path clip-path=\"url(#clip830)\" d=\"\n",
       "M1984.91 198.898 L2279.97 198.898 L2279.97 95.2176 L1984.91 95.2176  Z\n",
       "  \" fill=\"#ffffff\" fill-rule=\"evenodd\" fill-opacity=\"1\"/>\n",
       "<polyline clip-path=\"url(#clip830)\" style=\"stroke:#000000; stroke-linecap:round; stroke-linejoin:round; stroke-width:4; stroke-opacity:1; fill:none\" points=\"\n",
       "  1984.91,198.898 2279.97,198.898 2279.97,95.2176 1984.91,95.2176 1984.91,198.898 \n",
       "  \"/>\n",
       "<polyline clip-path=\"url(#clip830)\" style=\"stroke:#009af9; stroke-linecap:round; stroke-linejoin:round; stroke-width:4; stroke-opacity:1; fill:none\" points=\"\n",
       "  2009.17,147.058 2154.75,147.058 \n",
       "  \"/>\n",
       "<path clip-path=\"url(#clip830)\" d=\"M2192.86 166.745 Q2191.05 171.375 2189.34 172.787 Q2187.62 174.199 2184.75 174.199 L2181.35 174.199 L2181.35 170.634 L2183.85 170.634 Q2185.61 170.634 2186.58 169.8 Q2187.55 168.967 2188.73 165.865 L2189.5 163.921 L2179.01 138.412 L2183.53 138.412 L2191.63 158.689 L2199.73 138.412 L2204.24 138.412 L2192.86 166.745 Z\" fill=\"#000000\" fill-rule=\"evenodd\" fill-opacity=\"1\" /><path clip-path=\"url(#clip830)\" d=\"M2211.54 160.402 L2219.17 160.402 L2219.17 134.037 L2210.86 135.703 L2210.86 131.444 L2219.13 129.778 L2223.8 129.778 L2223.8 160.402 L2231.44 160.402 L2231.44 164.338 L2211.54 164.338 L2211.54 160.402 Z\" fill=\"#000000\" fill-rule=\"evenodd\" fill-opacity=\"1\" /></svg>\n"
      ]
     },
     "execution_count": 419,
     "metadata": {},
     "output_type": "execute_result"
    }
   ],
   "source": [
    "plot(losses)"
   ]
  },
  {
   "cell_type": "code",
   "execution_count": 421,
   "metadata": {},
   "outputs": [
    {
     "data": {
      "text/plain": [
       "1-element Vector{Float32}:\n",
       " 99.008865"
      ]
     },
     "execution_count": 421,
     "metadata": {},
     "output_type": "execute_result"
    }
   ],
   "source": [
    "#test it out\n",
    "m1c([10,20,30])"
   ]
  },
  {
   "cell_type": "code",
   "execution_count": 423,
   "metadata": {},
   "outputs": [
    {
     "data": {
      "text/plain": [
       "1-element Vector{Float32}:\n",
       " 97.21809"
      ]
     },
     "execution_count": 423,
     "metadata": {},
     "output_type": "execute_result"
    }
   ],
   "source": [
    "#test it out on different data than the inputs\n",
    "m1c([1,2,3])"
   ]
  },
  {
   "cell_type": "code",
   "execution_count": 443,
   "metadata": {},
   "outputs": [],
   "source": [
    "#let's make the training data to be more than fitting a single point, make it 3 points\n",
    "data = ncycle([([1,2,3], 10),([10,20,30], 100),([100,200,300], 200)], 1000)\n",
    "m1c = Chain( Dense(3 => 2, sigmoid) , Dense(2 => 1) )\n",
    "params = Flux.params( m1c )\n",
    "losses = []\n",
    "for data_tmp in data\n",
    "    \n",
    "    Flux.train!( loss1c , params , [data_tmp] , opt )\n",
    "    push!(losses, loss1c(data_tmp...) )\n",
    "    if(losses[end] < 1) break end\n",
    "end"
   ]
  },
  {
   "cell_type": "code",
   "execution_count": 444,
   "metadata": {},
   "outputs": [
    {
     "data": {
      "text/plain": [
       "1-element Vector{Float32}:\n",
       " 9.278412"
      ]
     },
     "execution_count": 444,
     "metadata": {},
     "output_type": "execute_result"
    }
   ],
   "source": [
    "#test it out\n",
    "m1c([100,200,300])"
   ]
  },
  {
   "cell_type": "code",
   "execution_count": 445,
   "metadata": {},
   "outputs": [
    {
     "data": {
      "image/svg+xml": [
       "<?xml version=\"1.0\" encoding=\"utf-8\"?>\n",
       "<svg xmlns=\"http://www.w3.org/2000/svg\" xmlns:xlink=\"http://www.w3.org/1999/xlink\" width=\"600\" height=\"400\" viewBox=\"0 0 2400 1600\">\n",
       "<defs>\n",
       "  <clipPath id=\"clip990\">\n",
       "    <rect x=\"0\" y=\"0\" width=\"2400\" height=\"1600\"/>\n",
       "  </clipPath>\n",
       "</defs>\n",
       "<path clip-path=\"url(#clip990)\" d=\"\n",
       "M0 1600 L2400 1600 L2400 0 L0 0  Z\n",
       "  \" fill=\"#ffffff\" fill-rule=\"evenodd\" fill-opacity=\"1\"/>\n",
       "<defs>\n",
       "  <clipPath id=\"clip991\">\n",
       "    <rect x=\"480\" y=\"0\" width=\"1681\" height=\"1600\"/>\n",
       "  </clipPath>\n",
       "</defs>\n",
       "<path clip-path=\"url(#clip990)\" d=\"\n",
       "M170.857 1486.45 L2352.76 1486.45 L2352.76 47.2441 L170.857 47.2441  Z\n",
       "  \" fill=\"#ffffff\" fill-rule=\"evenodd\" fill-opacity=\"1\"/>\n",
       "<defs>\n",
       "  <clipPath id=\"clip992\">\n",
       "    <rect x=\"170\" y=\"47\" width=\"2183\" height=\"1440\"/>\n",
       "  </clipPath>\n",
       "</defs>\n",
       "<polyline clip-path=\"url(#clip992)\" style=\"stroke:#000000; stroke-linecap:round; stroke-linejoin:round; stroke-width:2; stroke-opacity:0.1; fill:none\" points=\"\n",
       "  575.675,1486.45 575.675,47.2441 \n",
       "  \"/>\n",
       "<polyline clip-path=\"url(#clip992)\" style=\"stroke:#000000; stroke-linecap:round; stroke-linejoin:round; stroke-width:2; stroke-opacity:0.1; fill:none\" points=\"\n",
       "  1004.51,1486.45 1004.51,47.2441 \n",
       "  \"/>\n",
       "<polyline clip-path=\"url(#clip992)\" style=\"stroke:#000000; stroke-linecap:round; stroke-linejoin:round; stroke-width:2; stroke-opacity:0.1; fill:none\" points=\"\n",
       "  1433.34,1486.45 1433.34,47.2441 \n",
       "  \"/>\n",
       "<polyline clip-path=\"url(#clip992)\" style=\"stroke:#000000; stroke-linecap:round; stroke-linejoin:round; stroke-width:2; stroke-opacity:0.1; fill:none\" points=\"\n",
       "  1862.17,1486.45 1862.17,47.2441 \n",
       "  \"/>\n",
       "<polyline clip-path=\"url(#clip992)\" style=\"stroke:#000000; stroke-linecap:round; stroke-linejoin:round; stroke-width:2; stroke-opacity:0.1; fill:none\" points=\"\n",
       "  2291,1486.45 2291,47.2441 \n",
       "  \"/>\n",
       "<polyline clip-path=\"url(#clip990)\" style=\"stroke:#000000; stroke-linecap:round; stroke-linejoin:round; stroke-width:4; stroke-opacity:1; fill:none\" points=\"\n",
       "  170.857,1486.45 2352.76,1486.45 \n",
       "  \"/>\n",
       "<polyline clip-path=\"url(#clip990)\" style=\"stroke:#000000; stroke-linecap:round; stroke-linejoin:round; stroke-width:4; stroke-opacity:1; fill:none\" points=\"\n",
       "  575.675,1486.45 575.675,1467.55 \n",
       "  \"/>\n",
       "<polyline clip-path=\"url(#clip990)\" style=\"stroke:#000000; stroke-linecap:round; stroke-linejoin:round; stroke-width:4; stroke-opacity:1; fill:none\" points=\"\n",
       "  1004.51,1486.45 1004.51,1467.55 \n",
       "  \"/>\n",
       "<polyline clip-path=\"url(#clip990)\" style=\"stroke:#000000; stroke-linecap:round; stroke-linejoin:round; stroke-width:4; stroke-opacity:1; fill:none\" points=\"\n",
       "  1433.34,1486.45 1433.34,1467.55 \n",
       "  \"/>\n",
       "<polyline clip-path=\"url(#clip990)\" style=\"stroke:#000000; stroke-linecap:round; stroke-linejoin:round; stroke-width:4; stroke-opacity:1; fill:none\" points=\"\n",
       "  1862.17,1486.45 1862.17,1467.55 \n",
       "  \"/>\n",
       "<polyline clip-path=\"url(#clip990)\" style=\"stroke:#000000; stroke-linecap:round; stroke-linejoin:round; stroke-width:4; stroke-opacity:1; fill:none\" points=\"\n",
       "  2291,1486.45 2291,1467.55 \n",
       "  \"/>\n",
       "<path clip-path=\"url(#clip990)\" d=\"M565.953 1514.29 L584.309 1514.29 L584.309 1518.22 L570.235 1518.22 L570.235 1526.7 Q571.254 1526.35 572.272 1526.19 Q573.291 1526 574.309 1526 Q580.096 1526 583.476 1529.17 Q586.856 1532.34 586.856 1537.76 Q586.856 1543.34 583.383 1546.44 Q579.911 1549.52 573.592 1549.52 Q571.416 1549.52 569.147 1549.15 Q566.902 1548.78 564.495 1548.04 L564.495 1543.34 Q566.578 1544.47 568.8 1545.03 Q571.022 1545.58 573.499 1545.58 Q577.504 1545.58 579.842 1543.48 Q582.18 1541.37 582.18 1537.76 Q582.18 1534.15 579.842 1532.04 Q577.504 1529.94 573.499 1529.94 Q571.624 1529.94 569.749 1530.35 Q567.897 1530.77 565.953 1531.65 L565.953 1514.29 Z\" fill=\"#000000\" fill-rule=\"evenodd\" fill-opacity=\"1\" /><path clip-path=\"url(#clip990)\" d=\"M979.195 1544.91 L986.834 1544.91 L986.834 1518.55 L978.524 1520.21 L978.524 1515.95 L986.787 1514.29 L991.463 1514.29 L991.463 1544.91 L999.102 1544.91 L999.102 1548.85 L979.195 1548.85 L979.195 1544.91 Z\" fill=\"#000000\" fill-rule=\"evenodd\" fill-opacity=\"1\" /><path clip-path=\"url(#clip990)\" d=\"M1018.55 1517.37 Q1014.94 1517.37 1013.11 1520.93 Q1011.3 1524.47 1011.3 1531.6 Q1011.3 1538.71 1013.11 1542.27 Q1014.94 1545.82 1018.55 1545.82 Q1022.18 1545.82 1023.99 1542.27 Q1025.82 1538.71 1025.82 1531.6 Q1025.82 1524.47 1023.99 1520.93 Q1022.18 1517.37 1018.55 1517.37 M1018.55 1513.66 Q1024.36 1513.66 1027.41 1518.27 Q1030.49 1522.85 1030.49 1531.6 Q1030.49 1540.33 1027.41 1544.94 Q1024.36 1549.52 1018.55 1549.52 Q1012.74 1549.52 1009.66 1544.94 Q1006.6 1540.33 1006.6 1531.6 Q1006.6 1522.85 1009.66 1518.27 Q1012.74 1513.66 1018.55 1513.66 Z\" fill=\"#000000\" fill-rule=\"evenodd\" fill-opacity=\"1\" /><path clip-path=\"url(#clip990)\" d=\"M1408.52 1544.91 L1416.16 1544.91 L1416.16 1518.55 L1407.85 1520.21 L1407.85 1515.95 L1416.12 1514.29 L1420.79 1514.29 L1420.79 1544.91 L1428.43 1544.91 L1428.43 1548.85 L1408.52 1548.85 L1408.52 1544.91 Z\" fill=\"#000000\" fill-rule=\"evenodd\" fill-opacity=\"1\" /><path clip-path=\"url(#clip990)\" d=\"M1437.92 1514.29 L1456.28 1514.29 L1456.28 1518.22 L1442.21 1518.22 L1442.21 1526.7 Q1443.22 1526.35 1444.24 1526.19 Q1445.26 1526 1446.28 1526 Q1452.07 1526 1455.45 1529.17 Q1458.83 1532.34 1458.83 1537.76 Q1458.83 1543.34 1455.35 1546.44 Q1451.88 1549.52 1445.56 1549.52 Q1443.39 1549.52 1441.12 1549.15 Q1438.87 1548.78 1436.46 1548.04 L1436.46 1543.34 Q1438.55 1544.47 1440.77 1545.03 Q1442.99 1545.58 1445.47 1545.58 Q1449.47 1545.58 1451.81 1543.48 Q1454.15 1541.37 1454.15 1537.76 Q1454.15 1534.15 1451.81 1532.04 Q1449.47 1529.94 1445.47 1529.94 Q1443.59 1529.94 1441.72 1530.35 Q1439.87 1530.77 1437.92 1531.65 L1437.92 1514.29 Z\" fill=\"#000000\" fill-rule=\"evenodd\" fill-opacity=\"1\" /><path clip-path=\"url(#clip990)\" d=\"M1840.95 1544.91 L1857.26 1544.91 L1857.26 1548.85 L1835.32 1548.85 L1835.32 1544.91 Q1837.98 1542.16 1842.57 1537.53 Q1847.17 1532.88 1848.35 1531.53 Q1850.6 1529.01 1851.48 1527.27 Q1852.38 1525.51 1852.38 1523.82 Q1852.38 1521.07 1850.44 1519.33 Q1848.51 1517.6 1845.41 1517.6 Q1843.21 1517.6 1840.76 1518.36 Q1838.33 1519.13 1835.55 1520.68 L1835.55 1515.95 Q1838.38 1514.82 1840.83 1514.24 Q1843.28 1513.66 1845.32 1513.66 Q1850.69 1513.66 1853.88 1516.35 Q1857.08 1519.03 1857.08 1523.52 Q1857.08 1525.65 1856.27 1527.57 Q1855.48 1529.47 1853.38 1532.07 Q1852.8 1532.74 1849.7 1535.95 Q1846.59 1539.15 1840.95 1544.91 Z\" fill=\"#000000\" fill-rule=\"evenodd\" fill-opacity=\"1\" /><path clip-path=\"url(#clip990)\" d=\"M1877.08 1517.37 Q1873.47 1517.37 1871.64 1520.93 Q1869.83 1524.47 1869.83 1531.6 Q1869.83 1538.71 1871.64 1542.27 Q1873.47 1545.82 1877.08 1545.82 Q1880.71 1545.82 1882.52 1542.27 Q1884.35 1538.71 1884.35 1531.6 Q1884.35 1524.47 1882.52 1520.93 Q1880.71 1517.37 1877.08 1517.37 M1877.08 1513.66 Q1882.89 1513.66 1885.94 1518.27 Q1889.02 1522.85 1889.02 1531.6 Q1889.02 1540.33 1885.94 1544.94 Q1882.89 1549.52 1877.08 1549.52 Q1871.27 1549.52 1868.19 1544.94 Q1865.13 1540.33 1865.13 1531.6 Q1865.13 1522.85 1868.19 1518.27 Q1871.27 1513.66 1877.08 1513.66 Z\" fill=\"#000000\" fill-rule=\"evenodd\" fill-opacity=\"1\" /><path clip-path=\"url(#clip990)\" d=\"M2270.28 1544.91 L2286.59 1544.91 L2286.59 1548.85 L2264.65 1548.85 L2264.65 1544.91 Q2267.31 1542.16 2271.9 1537.53 Q2276.5 1532.88 2277.68 1531.53 Q2279.93 1529.01 2280.81 1527.27 Q2281.71 1525.51 2281.71 1523.82 Q2281.71 1521.07 2279.77 1519.33 Q2277.84 1517.6 2274.74 1517.6 Q2272.54 1517.6 2270.09 1518.36 Q2267.66 1519.13 2264.88 1520.68 L2264.88 1515.95 Q2267.71 1514.82 2270.16 1514.24 Q2272.61 1513.66 2274.65 1513.66 Q2280.02 1513.66 2283.21 1516.35 Q2286.41 1519.03 2286.41 1523.52 Q2286.41 1525.65 2285.6 1527.57 Q2284.81 1529.47 2282.71 1532.07 Q2282.13 1532.74 2279.02 1535.95 Q2275.92 1539.15 2270.28 1544.91 Z\" fill=\"#000000\" fill-rule=\"evenodd\" fill-opacity=\"1\" /><path clip-path=\"url(#clip990)\" d=\"M2296.46 1514.29 L2314.81 1514.29 L2314.81 1518.22 L2300.74 1518.22 L2300.74 1526.7 Q2301.76 1526.35 2302.77 1526.19 Q2303.79 1526 2304.81 1526 Q2310.6 1526 2313.98 1529.17 Q2317.36 1532.34 2317.36 1537.76 Q2317.36 1543.34 2313.89 1546.44 Q2310.41 1549.52 2304.09 1549.52 Q2301.92 1549.52 2299.65 1549.15 Q2297.4 1548.78 2295 1548.04 L2295 1543.34 Q2297.08 1544.47 2299.3 1545.03 Q2301.52 1545.58 2304 1545.58 Q2308.01 1545.58 2310.34 1543.48 Q2312.68 1541.37 2312.68 1537.76 Q2312.68 1534.15 2310.34 1532.04 Q2308.01 1529.94 2304 1529.94 Q2302.13 1529.94 2300.25 1530.35 Q2298.4 1530.77 2296.46 1531.65 L2296.46 1514.29 Z\" fill=\"#000000\" fill-rule=\"evenodd\" fill-opacity=\"1\" /><polyline clip-path=\"url(#clip992)\" style=\"stroke:#000000; stroke-linecap:round; stroke-linejoin:round; stroke-width:2; stroke-opacity:0.1; fill:none\" points=\"\n",
       "  170.857,1450.79 2352.76,1450.79 \n",
       "  \"/>\n",
       "<polyline clip-path=\"url(#clip992)\" style=\"stroke:#000000; stroke-linecap:round; stroke-linejoin:round; stroke-width:2; stroke-opacity:0.1; fill:none\" points=\"\n",
       "  170.857,1105.54 2352.76,1105.54 \n",
       "  \"/>\n",
       "<polyline clip-path=\"url(#clip992)\" style=\"stroke:#000000; stroke-linecap:round; stroke-linejoin:round; stroke-width:2; stroke-opacity:0.1; fill:none\" points=\"\n",
       "  170.857,760.281 2352.76,760.281 \n",
       "  \"/>\n",
       "<polyline clip-path=\"url(#clip992)\" style=\"stroke:#000000; stroke-linecap:round; stroke-linejoin:round; stroke-width:2; stroke-opacity:0.1; fill:none\" points=\"\n",
       "  170.857,415.025 2352.76,415.025 \n",
       "  \"/>\n",
       "<polyline clip-path=\"url(#clip992)\" style=\"stroke:#000000; stroke-linecap:round; stroke-linejoin:round; stroke-width:2; stroke-opacity:0.1; fill:none\" points=\"\n",
       "  170.857,69.7696 2352.76,69.7696 \n",
       "  \"/>\n",
       "<polyline clip-path=\"url(#clip990)\" style=\"stroke:#000000; stroke-linecap:round; stroke-linejoin:round; stroke-width:4; stroke-opacity:1; fill:none\" points=\"\n",
       "  170.857,1486.45 170.857,47.2441 \n",
       "  \"/>\n",
       "<polyline clip-path=\"url(#clip990)\" style=\"stroke:#000000; stroke-linecap:round; stroke-linejoin:round; stroke-width:4; stroke-opacity:1; fill:none\" points=\"\n",
       "  170.857,1450.79 189.755,1450.79 \n",
       "  \"/>\n",
       "<polyline clip-path=\"url(#clip990)\" style=\"stroke:#000000; stroke-linecap:round; stroke-linejoin:round; stroke-width:4; stroke-opacity:1; fill:none\" points=\"\n",
       "  170.857,1105.54 189.755,1105.54 \n",
       "  \"/>\n",
       "<polyline clip-path=\"url(#clip990)\" style=\"stroke:#000000; stroke-linecap:round; stroke-linejoin:round; stroke-width:4; stroke-opacity:1; fill:none\" points=\"\n",
       "  170.857,760.281 189.755,760.281 \n",
       "  \"/>\n",
       "<polyline clip-path=\"url(#clip990)\" style=\"stroke:#000000; stroke-linecap:round; stroke-linejoin:round; stroke-width:4; stroke-opacity:1; fill:none\" points=\"\n",
       "  170.857,415.025 189.755,415.025 \n",
       "  \"/>\n",
       "<polyline clip-path=\"url(#clip990)\" style=\"stroke:#000000; stroke-linecap:round; stroke-linejoin:round; stroke-width:4; stroke-opacity:1; fill:none\" points=\"\n",
       "  170.857,69.7696 189.755,69.7696 \n",
       "  \"/>\n",
       "<path clip-path=\"url(#clip990)\" d=\"M122.913 1436.59 Q119.302 1436.59 117.473 1440.16 Q115.668 1443.7 115.668 1450.83 Q115.668 1457.93 117.473 1461.5 Q119.302 1465.04 122.913 1465.04 Q126.547 1465.04 128.353 1461.5 Q130.182 1457.93 130.182 1450.83 Q130.182 1443.7 128.353 1440.16 Q126.547 1436.59 122.913 1436.59 M122.913 1432.89 Q128.723 1432.89 131.779 1437.49 Q134.857 1442.08 134.857 1450.83 Q134.857 1459.55 131.779 1464.16 Q128.723 1468.74 122.913 1468.74 Q117.103 1468.74 114.024 1464.16 Q110.969 1459.55 110.969 1450.83 Q110.969 1442.08 114.024 1437.49 Q117.103 1432.89 122.913 1432.89 Z\" fill=\"#000000\" fill-rule=\"evenodd\" fill-opacity=\"1\" /><path clip-path=\"url(#clip990)\" d=\"M82.7975 1088.26 L101.154 1088.26 L101.154 1092.19 L87.0799 1092.19 L87.0799 1100.66 Q88.0984 1100.32 89.1169 1100.15 Q90.1354 1099.97 91.1539 1099.97 Q96.941 1099.97 100.321 1103.14 Q103.7 1106.31 103.7 1111.73 Q103.7 1117.31 100.228 1120.41 Q96.7558 1123.49 90.4364 1123.49 Q88.2604 1123.49 85.9919 1123.12 Q83.7466 1122.75 81.3392 1122.01 L81.3392 1117.31 Q83.4225 1118.44 85.6447 1119 Q87.8669 1119.55 90.3438 1119.55 Q94.3484 1119.55 96.6863 1117.45 Q99.0243 1115.34 99.0243 1111.73 Q99.0243 1108.12 96.6863 1106.01 Q94.3484 1103.9 90.3438 1103.9 Q88.4688 1103.9 86.5938 1104.32 Q84.7419 1104.74 82.7975 1105.62 L82.7975 1088.26 Z\" fill=\"#000000\" fill-rule=\"evenodd\" fill-opacity=\"1\" /><path clip-path=\"url(#clip990)\" d=\"M122.913 1091.34 Q119.302 1091.34 117.473 1094.9 Q115.668 1098.44 115.668 1105.57 Q115.668 1112.68 117.473 1116.24 Q119.302 1119.78 122.913 1119.78 Q126.547 1119.78 128.353 1116.24 Q130.182 1112.68 130.182 1105.57 Q130.182 1098.44 128.353 1094.9 Q126.547 1091.34 122.913 1091.34 M122.913 1087.63 Q128.723 1087.63 131.779 1092.24 Q134.857 1096.82 134.857 1105.57 Q134.857 1114.3 131.779 1118.9 Q128.723 1123.49 122.913 1123.49 Q117.103 1123.49 114.024 1118.9 Q110.969 1114.3 110.969 1105.57 Q110.969 1096.82 114.024 1092.24 Q117.103 1087.63 122.913 1087.63 Z\" fill=\"#000000\" fill-rule=\"evenodd\" fill-opacity=\"1\" /><path clip-path=\"url(#clip990)\" d=\"M53.3995 773.626 L61.0384 773.626 L61.0384 747.26 L52.7282 748.927 L52.7282 744.668 L60.9921 743.001 L65.668 743.001 L65.668 773.626 L73.3068 773.626 L73.3068 777.561 L53.3995 777.561 L53.3995 773.626 Z\" fill=\"#000000\" fill-rule=\"evenodd\" fill-opacity=\"1\" /><path clip-path=\"url(#clip990)\" d=\"M92.7512 746.08 Q89.1401 746.08 87.3114 749.645 Q85.5058 753.186 85.5058 760.316 Q85.5058 767.422 87.3114 770.987 Q89.1401 774.529 92.7512 774.529 Q96.3854 774.529 98.1909 770.987 Q100.02 767.422 100.02 760.316 Q100.02 753.186 98.1909 749.645 Q96.3854 746.08 92.7512 746.08 M92.7512 742.376 Q98.5613 742.376 101.617 746.983 Q104.696 751.566 104.696 760.316 Q104.696 769.043 101.617 773.649 Q98.5613 778.232 92.7512 778.232 Q86.941 778.232 83.8623 773.649 Q80.8068 769.043 80.8068 760.316 Q80.8068 751.566 83.8623 746.983 Q86.941 742.376 92.7512 742.376 Z\" fill=\"#000000\" fill-rule=\"evenodd\" fill-opacity=\"1\" /><path clip-path=\"url(#clip990)\" d=\"M122.913 746.08 Q119.302 746.08 117.473 749.645 Q115.668 753.186 115.668 760.316 Q115.668 767.422 117.473 770.987 Q119.302 774.529 122.913 774.529 Q126.547 774.529 128.353 770.987 Q130.182 767.422 130.182 760.316 Q130.182 753.186 128.353 749.645 Q126.547 746.08 122.913 746.08 M122.913 742.376 Q128.723 742.376 131.779 746.983 Q134.857 751.566 134.857 760.316 Q134.857 769.043 131.779 773.649 Q128.723 778.232 122.913 778.232 Q117.103 778.232 114.024 773.649 Q110.969 769.043 110.969 760.316 Q110.969 751.566 114.024 746.983 Q117.103 742.376 122.913 742.376 Z\" fill=\"#000000\" fill-rule=\"evenodd\" fill-opacity=\"1\" /><path clip-path=\"url(#clip990)\" d=\"M53.3995 428.37 L61.0384 428.37 L61.0384 402.005 L52.7282 403.671 L52.7282 399.412 L60.9921 397.745 L65.668 397.745 L65.668 428.37 L73.3068 428.37 L73.3068 432.305 L53.3995 432.305 L53.3995 428.37 Z\" fill=\"#000000\" fill-rule=\"evenodd\" fill-opacity=\"1\" /><path clip-path=\"url(#clip990)\" d=\"M82.7975 397.745 L101.154 397.745 L101.154 401.681 L87.0799 401.681 L87.0799 410.153 Q88.0984 409.806 89.1169 409.643 Q90.1354 409.458 91.1539 409.458 Q96.941 409.458 100.321 412.63 Q103.7 415.801 103.7 421.217 Q103.7 426.796 100.228 429.898 Q96.7558 432.977 90.4364 432.977 Q88.2604 432.977 85.9919 432.606 Q83.7466 432.236 81.3392 431.495 L81.3392 426.796 Q83.4225 427.93 85.6447 428.486 Q87.8669 429.042 90.3438 429.042 Q94.3484 429.042 96.6863 426.935 Q99.0243 424.829 99.0243 421.217 Q99.0243 417.606 96.6863 415.5 Q94.3484 413.393 90.3438 413.393 Q88.4688 413.393 86.5938 413.81 Q84.7419 414.227 82.7975 415.106 L82.7975 397.745 Z\" fill=\"#000000\" fill-rule=\"evenodd\" fill-opacity=\"1\" /><path clip-path=\"url(#clip990)\" d=\"M122.913 400.824 Q119.302 400.824 117.473 404.389 Q115.668 407.931 115.668 415.06 Q115.668 422.167 117.473 425.731 Q119.302 429.273 122.913 429.273 Q126.547 429.273 128.353 425.731 Q130.182 422.167 130.182 415.06 Q130.182 407.931 128.353 404.389 Q126.547 400.824 122.913 400.824 M122.913 397.12 Q128.723 397.12 131.779 401.727 Q134.857 406.31 134.857 415.06 Q134.857 423.787 131.779 428.393 Q128.723 432.977 122.913 432.977 Q117.103 432.977 114.024 428.393 Q110.969 423.787 110.969 415.06 Q110.969 406.31 114.024 401.727 Q117.103 397.12 122.913 397.12 Z\" fill=\"#000000\" fill-rule=\"evenodd\" fill-opacity=\"1\" /><path clip-path=\"url(#clip990)\" d=\"M56.6171 83.1145 L72.9365 83.1145 L72.9365 87.0496 L50.9921 87.0496 L50.9921 83.1145 Q53.6541 80.3599 58.2375 75.7303 Q62.8439 71.0775 64.0245 69.7349 Q66.2698 67.2118 67.1494 65.4757 Q68.0522 63.7164 68.0522 62.0266 Q68.0522 59.272 66.1078 57.5359 Q64.1865 55.7998 61.0847 55.7998 Q58.8856 55.7998 56.4319 56.5637 Q54.0014 57.3276 51.2236 58.8785 L51.2236 54.1563 Q54.0477 53.022 56.5014 52.4433 Q58.955 51.8646 60.9921 51.8646 Q66.3624 51.8646 69.5568 54.5498 Q72.7513 57.235 72.7513 61.7257 Q72.7513 63.8553 71.9411 65.7766 Q71.1541 67.6747 69.0476 70.2673 Q68.4689 70.9386 65.367 74.1562 Q62.2652 77.3506 56.6171 83.1145 Z\" fill=\"#000000\" fill-rule=\"evenodd\" fill-opacity=\"1\" /><path clip-path=\"url(#clip990)\" d=\"M92.7512 55.5683 Q89.1401 55.5683 87.3114 59.1331 Q85.5058 62.6748 85.5058 69.8044 Q85.5058 76.9108 87.3114 80.4756 Q89.1401 84.0173 92.7512 84.0173 Q96.3854 84.0173 98.1909 80.4756 Q100.02 76.9108 100.02 69.8044 Q100.02 62.6748 98.1909 59.1331 Q96.3854 55.5683 92.7512 55.5683 M92.7512 51.8646 Q98.5613 51.8646 101.617 56.4711 Q104.696 61.0544 104.696 69.8044 Q104.696 78.5312 101.617 83.1376 Q98.5613 87.7209 92.7512 87.7209 Q86.941 87.7209 83.8623 83.1376 Q80.8068 78.5312 80.8068 69.8044 Q80.8068 61.0544 83.8623 56.4711 Q86.941 51.8646 92.7512 51.8646 Z\" fill=\"#000000\" fill-rule=\"evenodd\" fill-opacity=\"1\" /><path clip-path=\"url(#clip990)\" d=\"M122.913 55.5683 Q119.302 55.5683 117.473 59.1331 Q115.668 62.6748 115.668 69.8044 Q115.668 76.9108 117.473 80.4756 Q119.302 84.0173 122.913 84.0173 Q126.547 84.0173 128.353 80.4756 Q130.182 76.9108 130.182 69.8044 Q130.182 62.6748 128.353 59.1331 Q126.547 55.5683 122.913 55.5683 M122.913 51.8646 Q128.723 51.8646 131.779 56.4711 Q134.857 61.0544 134.857 69.8044 Q134.857 78.5312 131.779 83.1376 Q128.723 87.7209 122.913 87.7209 Q117.103 87.7209 114.024 83.1376 Q110.969 78.5312 110.969 69.8044 Q110.969 61.0544 114.024 56.4711 Q117.103 51.8646 122.913 51.8646 Z\" fill=\"#000000\" fill-rule=\"evenodd\" fill-opacity=\"1\" /><polyline clip-path=\"url(#clip992)\" style=\"stroke:#009af9; stroke-linecap:round; stroke-linejoin:round; stroke-width:4; stroke-opacity:1; fill:none\" points=\"\n",
       "  232.609,1392.47 318.376,776.426 404.142,87.9763 489.909,1400.57 575.675,782.614 661.442,94.1761 747.208,1407.53 832.974,788.842 918.741,100.413 1004.51,1414.08 \n",
       "  1090.27,795.094 1176.04,106.669 1261.81,1420.48 1347.57,801.356 1433.34,112.934 1519.11,1426.82 1604.87,807.625 1690.64,119.204 1776.41,1433.13 1862.17,813.897 \n",
       "  1947.94,125.476 2033.7,1439.43 2119.47,820.169 2205.24,131.748 2291,1445.72 \n",
       "  \"/>\n",
       "<path clip-path=\"url(#clip990)\" d=\"\n",
       "M1985.16 198.898 L2280.03 198.898 L2280.03 95.2176 L1985.16 95.2176  Z\n",
       "  \" fill=\"#ffffff\" fill-rule=\"evenodd\" fill-opacity=\"1\"/>\n",
       "<polyline clip-path=\"url(#clip990)\" style=\"stroke:#000000; stroke-linecap:round; stroke-linejoin:round; stroke-width:4; stroke-opacity:1; fill:none\" points=\"\n",
       "  1985.16,198.898 2280.03,198.898 2280.03,95.2176 1985.16,95.2176 1985.16,198.898 \n",
       "  \"/>\n",
       "<polyline clip-path=\"url(#clip990)\" style=\"stroke:#009af9; stroke-linecap:round; stroke-linejoin:round; stroke-width:4; stroke-opacity:1; fill:none\" points=\"\n",
       "  2009.41,147.058 2154.87,147.058 \n",
       "  \"/>\n",
       "<path clip-path=\"url(#clip990)\" d=\"M2192.95 166.745 Q2191.15 171.375 2189.43 172.787 Q2187.72 174.199 2184.85 174.199 L2181.45 174.199 L2181.45 170.634 L2183.95 170.634 Q2185.71 170.634 2186.68 169.8 Q2187.65 168.967 2188.83 165.865 L2189.6 163.921 L2179.11 138.412 L2183.62 138.412 L2191.72 158.689 L2199.83 138.412 L2204.34 138.412 L2192.95 166.745 Z\" fill=\"#000000\" fill-rule=\"evenodd\" fill-opacity=\"1\" /><path clip-path=\"url(#clip990)\" d=\"M2211.63 160.402 L2219.27 160.402 L2219.27 134.037 L2210.96 135.703 L2210.96 131.444 L2219.22 129.778 L2223.9 129.778 L2223.9 160.402 L2231.54 160.402 L2231.54 164.338 L2211.63 164.338 L2211.63 160.402 Z\" fill=\"#000000\" fill-rule=\"evenodd\" fill-opacity=\"1\" /></svg>\n"
      ]
     },
     "execution_count": 445,
     "metadata": {},
     "output_type": "execute_result"
    }
   ],
   "source": [
    "plot(losses)"
   ]
  },
  {
   "cell_type": "code",
   "execution_count": 456,
   "metadata": {},
   "outputs": [],
   "source": [
    "#let's make the model more complex\n",
    "data = ncycle([([1,2,3], 10),([10,20,30], 100),([100,200,300], 200)], 10000)\n",
    "m1c = Chain( Dense(3 => 5) , Dense(5 => 2) , Dense(2 => 1) )\n",
    "params = Flux.params( m1c )\n",
    "losses = []\n",
    "for data_tmp in data\n",
    "    \n",
    "    Flux.train!( loss1c , params , [data_tmp] , opt )\n",
    "    push!(losses, loss1c(data_tmp...) )\n",
    "    if(losses[end] < 1) break end\n",
    "end"
   ]
  },
  {
   "cell_type": "code",
   "execution_count": 457,
   "metadata": {},
   "outputs": [
    {
     "data": {
      "image/svg+xml": [
       "<?xml version=\"1.0\" encoding=\"utf-8\"?>\n",
       "<svg xmlns=\"http://www.w3.org/2000/svg\" xmlns:xlink=\"http://www.w3.org/1999/xlink\" width=\"600\" height=\"400\" viewBox=\"0 0 2400 1600\">\n",
       "<defs>\n",
       "  <clipPath id=\"clip190\">\n",
       "    <rect x=\"0\" y=\"0\" width=\"2400\" height=\"1600\"/>\n",
       "  </clipPath>\n",
       "</defs>\n",
       "<path clip-path=\"url(#clip190)\" d=\"\n",
       "M0 1600 L2400 1600 L2400 0 L0 0  Z\n",
       "  \" fill=\"#ffffff\" fill-rule=\"evenodd\" fill-opacity=\"1\"/>\n",
       "<defs>\n",
       "  <clipPath id=\"clip191\">\n",
       "    <rect x=\"480\" y=\"0\" width=\"1681\" height=\"1600\"/>\n",
       "  </clipPath>\n",
       "</defs>\n",
       "<path clip-path=\"url(#clip190)\" d=\"\n",
       "M170.857 1486.45 L2352.76 1486.45 L2352.76 47.2441 L170.857 47.2441  Z\n",
       "  \" fill=\"#ffffff\" fill-rule=\"evenodd\" fill-opacity=\"1\"/>\n",
       "<defs>\n",
       "  <clipPath id=\"clip192\">\n",
       "    <rect x=\"170\" y=\"47\" width=\"2183\" height=\"1440\"/>\n",
       "  </clipPath>\n",
       "</defs>\n",
       "<polyline clip-path=\"url(#clip192)\" style=\"stroke:#000000; stroke-linecap:round; stroke-linejoin:round; stroke-width:2; stroke-opacity:0.1; fill:none\" points=\"\n",
       "  183.6,1486.45 183.6,47.2441 \n",
       "  \"/>\n",
       "<polyline clip-path=\"url(#clip192)\" style=\"stroke:#000000; stroke-linecap:round; stroke-linejoin:round; stroke-width:2; stroke-opacity:0.1; fill:none\" points=\"\n",
       "  673.694,1486.45 673.694,47.2441 \n",
       "  \"/>\n",
       "<polyline clip-path=\"url(#clip192)\" style=\"stroke:#000000; stroke-linecap:round; stroke-linejoin:round; stroke-width:2; stroke-opacity:0.1; fill:none\" points=\"\n",
       "  1163.79,1486.45 1163.79,47.2441 \n",
       "  \"/>\n",
       "<polyline clip-path=\"url(#clip192)\" style=\"stroke:#000000; stroke-linecap:round; stroke-linejoin:round; stroke-width:2; stroke-opacity:0.1; fill:none\" points=\"\n",
       "  1653.88,1486.45 1653.88,47.2441 \n",
       "  \"/>\n",
       "<polyline clip-path=\"url(#clip192)\" style=\"stroke:#000000; stroke-linecap:round; stroke-linejoin:round; stroke-width:2; stroke-opacity:0.1; fill:none\" points=\"\n",
       "  2143.98,1486.45 2143.98,47.2441 \n",
       "  \"/>\n",
       "<polyline clip-path=\"url(#clip190)\" style=\"stroke:#000000; stroke-linecap:round; stroke-linejoin:round; stroke-width:4; stroke-opacity:1; fill:none\" points=\"\n",
       "  170.857,1486.45 2352.76,1486.45 \n",
       "  \"/>\n",
       "<polyline clip-path=\"url(#clip190)\" style=\"stroke:#000000; stroke-linecap:round; stroke-linejoin:round; stroke-width:4; stroke-opacity:1; fill:none\" points=\"\n",
       "  183.6,1486.45 183.6,1467.55 \n",
       "  \"/>\n",
       "<polyline clip-path=\"url(#clip190)\" style=\"stroke:#000000; stroke-linecap:round; stroke-linejoin:round; stroke-width:4; stroke-opacity:1; fill:none\" points=\"\n",
       "  673.694,1486.45 673.694,1467.55 \n",
       "  \"/>\n",
       "<polyline clip-path=\"url(#clip190)\" style=\"stroke:#000000; stroke-linecap:round; stroke-linejoin:round; stroke-width:4; stroke-opacity:1; fill:none\" points=\"\n",
       "  1163.79,1486.45 1163.79,1467.55 \n",
       "  \"/>\n",
       "<polyline clip-path=\"url(#clip190)\" style=\"stroke:#000000; stroke-linecap:round; stroke-linejoin:round; stroke-width:4; stroke-opacity:1; fill:none\" points=\"\n",
       "  1653.88,1486.45 1653.88,1467.55 \n",
       "  \"/>\n",
       "<polyline clip-path=\"url(#clip190)\" style=\"stroke:#000000; stroke-linecap:round; stroke-linejoin:round; stroke-width:4; stroke-opacity:1; fill:none\" points=\"\n",
       "  2143.98,1486.45 2143.98,1467.55 \n",
       "  \"/>\n",
       "<path clip-path=\"url(#clip190)\" d=\"M183.6 1517.37 Q179.989 1517.37 178.16 1520.93 Q176.355 1524.47 176.355 1531.6 Q176.355 1538.71 178.16 1542.27 Q179.989 1545.82 183.6 1545.82 Q187.234 1545.82 189.04 1542.27 Q190.868 1538.71 190.868 1531.6 Q190.868 1524.47 189.04 1520.93 Q187.234 1517.37 183.6 1517.37 M183.6 1513.66 Q189.41 1513.66 192.466 1518.27 Q195.544 1522.85 195.544 1531.6 Q195.544 1540.33 192.466 1544.94 Q189.41 1549.52 183.6 1549.52 Q177.79 1549.52 174.711 1544.94 Q171.655 1540.33 171.655 1531.6 Q171.655 1522.85 174.711 1518.27 Q177.79 1513.66 183.6 1513.66 Z\" fill=\"#000000\" fill-rule=\"evenodd\" fill-opacity=\"1\" /><path clip-path=\"url(#clip190)\" d=\"M648.381 1544.91 L656.02 1544.91 L656.02 1518.55 L647.71 1520.21 L647.71 1515.95 L655.974 1514.29 L660.65 1514.29 L660.65 1544.91 L668.289 1544.91 L668.289 1548.85 L648.381 1548.85 L648.381 1544.91 Z\" fill=\"#000000\" fill-rule=\"evenodd\" fill-opacity=\"1\" /><path clip-path=\"url(#clip190)\" d=\"M687.733 1517.37 Q684.122 1517.37 682.293 1520.93 Q680.488 1524.47 680.488 1531.6 Q680.488 1538.71 682.293 1542.27 Q684.122 1545.82 687.733 1545.82 Q691.367 1545.82 693.173 1542.27 Q695.002 1538.71 695.002 1531.6 Q695.002 1524.47 693.173 1520.93 Q691.367 1517.37 687.733 1517.37 M687.733 1513.66 Q693.543 1513.66 696.599 1518.27 Q699.678 1522.85 699.678 1531.6 Q699.678 1540.33 696.599 1544.94 Q693.543 1549.52 687.733 1549.52 Q681.923 1549.52 678.844 1544.94 Q675.789 1540.33 675.789 1531.6 Q675.789 1522.85 678.844 1518.27 Q681.923 1513.66 687.733 1513.66 Z\" fill=\"#000000\" fill-rule=\"evenodd\" fill-opacity=\"1\" /><path clip-path=\"url(#clip190)\" d=\"M1142.56 1544.91 L1158.88 1544.91 L1158.88 1548.85 L1136.94 1548.85 L1136.94 1544.91 Q1139.6 1542.16 1144.18 1537.53 Q1148.79 1532.88 1149.97 1531.53 Q1152.21 1529.01 1153.09 1527.27 Q1154 1525.51 1154 1523.82 Q1154 1521.07 1152.05 1519.33 Q1150.13 1517.6 1147.03 1517.6 Q1144.83 1517.6 1142.38 1518.36 Q1139.95 1519.13 1137.17 1520.68 L1137.17 1515.95 Q1139.99 1514.82 1142.45 1514.24 Q1144.9 1513.66 1146.94 1513.66 Q1152.31 1513.66 1155.5 1516.35 Q1158.7 1519.03 1158.7 1523.52 Q1158.7 1525.65 1157.89 1527.57 Q1157.1 1529.47 1154.99 1532.07 Q1154.41 1532.74 1151.31 1535.95 Q1148.21 1539.15 1142.56 1544.91 Z\" fill=\"#000000\" fill-rule=\"evenodd\" fill-opacity=\"1\" /><path clip-path=\"url(#clip190)\" d=\"M1178.7 1517.37 Q1175.08 1517.37 1173.26 1520.93 Q1171.45 1524.47 1171.45 1531.6 Q1171.45 1538.71 1173.26 1542.27 Q1175.08 1545.82 1178.7 1545.82 Q1182.33 1545.82 1184.13 1542.27 Q1185.96 1538.71 1185.96 1531.6 Q1185.96 1524.47 1184.13 1520.93 Q1182.33 1517.37 1178.7 1517.37 M1178.7 1513.66 Q1184.51 1513.66 1187.56 1518.27 Q1190.64 1522.85 1190.64 1531.6 Q1190.64 1540.33 1187.56 1544.94 Q1184.51 1549.52 1178.7 1549.52 Q1172.89 1549.52 1169.81 1544.94 Q1166.75 1540.33 1166.75 1531.6 Q1166.75 1522.85 1169.81 1518.27 Q1172.89 1513.66 1178.7 1513.66 Z\" fill=\"#000000\" fill-rule=\"evenodd\" fill-opacity=\"1\" /><path clip-path=\"url(#clip190)\" d=\"M1642.72 1530.21 Q1646.08 1530.93 1647.96 1533.2 Q1649.85 1535.47 1649.85 1538.8 Q1649.85 1543.92 1646.34 1546.72 Q1642.82 1549.52 1636.34 1549.52 Q1634.16 1549.52 1631.84 1549.08 Q1629.55 1548.66 1627.1 1547.81 L1627.1 1543.29 Q1629.04 1544.43 1631.36 1545.01 Q1633.67 1545.58 1636.2 1545.58 Q1640.59 1545.58 1642.89 1543.85 Q1645.2 1542.11 1645.2 1538.8 Q1645.2 1535.75 1643.05 1534.03 Q1640.92 1532.3 1637.1 1532.3 L1633.07 1532.3 L1633.07 1528.45 L1637.28 1528.45 Q1640.73 1528.45 1642.56 1527.09 Q1644.39 1525.7 1644.39 1523.11 Q1644.39 1520.45 1642.49 1519.03 Q1640.62 1517.6 1637.1 1517.6 Q1635.18 1517.6 1632.98 1518.01 Q1630.78 1518.43 1628.14 1519.31 L1628.14 1515.14 Q1630.8 1514.4 1633.12 1514.03 Q1635.46 1513.66 1637.52 1513.66 Q1642.84 1513.66 1645.94 1516.09 Q1649.04 1518.5 1649.04 1522.62 Q1649.04 1525.49 1647.4 1527.48 Q1645.76 1529.45 1642.72 1530.21 Z\" fill=\"#000000\" fill-rule=\"evenodd\" fill-opacity=\"1\" /><path clip-path=\"url(#clip190)\" d=\"M1668.72 1517.37 Q1665.11 1517.37 1663.28 1520.93 Q1661.47 1524.47 1661.47 1531.6 Q1661.47 1538.71 1663.28 1542.27 Q1665.11 1545.82 1668.72 1545.82 Q1672.35 1545.82 1674.16 1542.27 Q1675.99 1538.71 1675.99 1531.6 Q1675.99 1524.47 1674.16 1520.93 Q1672.35 1517.37 1668.72 1517.37 M1668.72 1513.66 Q1674.53 1513.66 1677.59 1518.27 Q1680.66 1522.85 1680.66 1531.6 Q1680.66 1540.33 1677.59 1544.94 Q1674.53 1549.52 1668.72 1549.52 Q1662.91 1549.52 1659.83 1544.94 Q1656.78 1540.33 1656.78 1531.6 Q1656.78 1522.85 1659.83 1518.27 Q1662.91 1513.66 1668.72 1513.66 Z\" fill=\"#000000\" fill-rule=\"evenodd\" fill-opacity=\"1\" /><path clip-path=\"url(#clip190)\" d=\"M2132.15 1518.36 L2120.34 1536.81 L2132.15 1536.81 L2132.15 1518.36 M2130.92 1514.29 L2136.8 1514.29 L2136.8 1536.81 L2141.73 1536.81 L2141.73 1540.7 L2136.8 1540.7 L2136.8 1548.85 L2132.15 1548.85 L2132.15 1540.7 L2116.55 1540.7 L2116.55 1536.19 L2130.92 1514.29 Z\" fill=\"#000000\" fill-rule=\"evenodd\" fill-opacity=\"1\" /><path clip-path=\"url(#clip190)\" d=\"M2159.46 1517.37 Q2155.85 1517.37 2154.02 1520.93 Q2152.22 1524.47 2152.22 1531.6 Q2152.22 1538.71 2154.02 1542.27 Q2155.85 1545.82 2159.46 1545.82 Q2163.1 1545.82 2164.9 1542.27 Q2166.73 1538.71 2166.73 1531.6 Q2166.73 1524.47 2164.9 1520.93 Q2163.1 1517.37 2159.46 1517.37 M2159.46 1513.66 Q2165.27 1513.66 2168.33 1518.27 Q2171.41 1522.85 2171.41 1531.6 Q2171.41 1540.33 2168.33 1544.94 Q2165.27 1549.52 2159.46 1549.52 Q2153.65 1549.52 2150.57 1544.94 Q2147.52 1540.33 2147.52 1531.6 Q2147.52 1522.85 2150.57 1518.27 Q2153.65 1513.66 2159.46 1513.66 Z\" fill=\"#000000\" fill-rule=\"evenodd\" fill-opacity=\"1\" /><polyline clip-path=\"url(#clip192)\" style=\"stroke:#000000; stroke-linecap:round; stroke-linejoin:round; stroke-width:2; stroke-opacity:0.1; fill:none\" points=\"\n",
       "  170.857,1448.45 2352.76,1448.45 \n",
       "  \"/>\n",
       "<polyline clip-path=\"url(#clip192)\" style=\"stroke:#000000; stroke-linecap:round; stroke-linejoin:round; stroke-width:2; stroke-opacity:0.1; fill:none\" points=\"\n",
       "  170.857,1138.81 2352.76,1138.81 \n",
       "  \"/>\n",
       "<polyline clip-path=\"url(#clip192)\" style=\"stroke:#000000; stroke-linecap:round; stroke-linejoin:round; stroke-width:2; stroke-opacity:0.1; fill:none\" points=\"\n",
       "  170.857,829.169 2352.76,829.169 \n",
       "  \"/>\n",
       "<polyline clip-path=\"url(#clip192)\" style=\"stroke:#000000; stroke-linecap:round; stroke-linejoin:round; stroke-width:2; stroke-opacity:0.1; fill:none\" points=\"\n",
       "  170.857,519.526 2352.76,519.526 \n",
       "  \"/>\n",
       "<polyline clip-path=\"url(#clip192)\" style=\"stroke:#000000; stroke-linecap:round; stroke-linejoin:round; stroke-width:2; stroke-opacity:0.1; fill:none\" points=\"\n",
       "  170.857,209.883 2352.76,209.883 \n",
       "  \"/>\n",
       "<polyline clip-path=\"url(#clip190)\" style=\"stroke:#000000; stroke-linecap:round; stroke-linejoin:round; stroke-width:4; stroke-opacity:1; fill:none\" points=\"\n",
       "  170.857,1486.45 170.857,47.2441 \n",
       "  \"/>\n",
       "<polyline clip-path=\"url(#clip190)\" style=\"stroke:#000000; stroke-linecap:round; stroke-linejoin:round; stroke-width:4; stroke-opacity:1; fill:none\" points=\"\n",
       "  170.857,1448.45 189.755,1448.45 \n",
       "  \"/>\n",
       "<polyline clip-path=\"url(#clip190)\" style=\"stroke:#000000; stroke-linecap:round; stroke-linejoin:round; stroke-width:4; stroke-opacity:1; fill:none\" points=\"\n",
       "  170.857,1138.81 189.755,1138.81 \n",
       "  \"/>\n",
       "<polyline clip-path=\"url(#clip190)\" style=\"stroke:#000000; stroke-linecap:round; stroke-linejoin:round; stroke-width:4; stroke-opacity:1; fill:none\" points=\"\n",
       "  170.857,829.169 189.755,829.169 \n",
       "  \"/>\n",
       "<polyline clip-path=\"url(#clip190)\" style=\"stroke:#000000; stroke-linecap:round; stroke-linejoin:round; stroke-width:4; stroke-opacity:1; fill:none\" points=\"\n",
       "  170.857,519.526 189.755,519.526 \n",
       "  \"/>\n",
       "<polyline clip-path=\"url(#clip190)\" style=\"stroke:#000000; stroke-linecap:round; stroke-linejoin:round; stroke-width:4; stroke-opacity:1; fill:none\" points=\"\n",
       "  170.857,209.883 189.755,209.883 \n",
       "  \"/>\n",
       "<path clip-path=\"url(#clip190)\" d=\"M122.913 1434.25 Q119.302 1434.25 117.473 1437.82 Q115.668 1441.36 115.668 1448.49 Q115.668 1455.6 117.473 1459.16 Q119.302 1462.7 122.913 1462.7 Q126.547 1462.7 128.353 1459.16 Q130.182 1455.6 130.182 1448.49 Q130.182 1441.36 128.353 1437.82 Q126.547 1434.25 122.913 1434.25 M122.913 1430.55 Q128.723 1430.55 131.779 1435.16 Q134.857 1439.74 134.857 1448.49 Q134.857 1457.22 131.779 1461.82 Q128.723 1466.41 122.913 1466.41 Q117.103 1466.41 114.024 1461.82 Q110.969 1457.22 110.969 1448.49 Q110.969 1439.74 114.024 1435.16 Q117.103 1430.55 122.913 1430.55 Z\" fill=\"#000000\" fill-rule=\"evenodd\" fill-opacity=\"1\" /><path clip-path=\"url(#clip190)\" d=\"M82.7975 1121.53 L101.154 1121.53 L101.154 1125.47 L87.0799 1125.47 L87.0799 1133.94 Q88.0984 1133.59 89.1169 1133.43 Q90.1354 1133.24 91.1539 1133.24 Q96.941 1133.24 100.321 1136.42 Q103.7 1139.59 103.7 1145 Q103.7 1150.58 100.228 1153.68 Q96.7558 1156.76 90.4364 1156.76 Q88.2604 1156.76 85.9919 1156.39 Q83.7466 1156.02 81.3392 1155.28 L81.3392 1150.58 Q83.4225 1151.72 85.6447 1152.27 Q87.8669 1152.83 90.3438 1152.83 Q94.3484 1152.83 96.6863 1150.72 Q99.0243 1148.61 99.0243 1145 Q99.0243 1141.39 96.6863 1139.29 Q94.3484 1137.18 90.3438 1137.18 Q88.4688 1137.18 86.5938 1137.6 Q84.7419 1138.01 82.7975 1138.89 L82.7975 1121.53 Z\" fill=\"#000000\" fill-rule=\"evenodd\" fill-opacity=\"1\" /><path clip-path=\"url(#clip190)\" d=\"M122.913 1124.61 Q119.302 1124.61 117.473 1128.17 Q115.668 1131.72 115.668 1138.85 Q115.668 1145.95 117.473 1149.52 Q119.302 1153.06 122.913 1153.06 Q126.547 1153.06 128.353 1149.52 Q130.182 1145.95 130.182 1138.85 Q130.182 1131.72 128.353 1128.17 Q126.547 1124.61 122.913 1124.61 M122.913 1120.91 Q128.723 1120.91 131.779 1125.51 Q134.857 1130.1 134.857 1138.85 Q134.857 1147.57 131.779 1152.18 Q128.723 1156.76 122.913 1156.76 Q117.103 1156.76 114.024 1152.18 Q110.969 1147.57 110.969 1138.85 Q110.969 1130.1 114.024 1125.51 Q117.103 1120.91 122.913 1120.91 Z\" fill=\"#000000\" fill-rule=\"evenodd\" fill-opacity=\"1\" /><path clip-path=\"url(#clip190)\" d=\"M53.3995 842.513 L61.0384 842.513 L61.0384 816.148 L52.7282 817.814 L52.7282 813.555 L60.9921 811.889 L65.668 811.889 L65.668 842.513 L73.3068 842.513 L73.3068 846.449 L53.3995 846.449 L53.3995 842.513 Z\" fill=\"#000000\" fill-rule=\"evenodd\" fill-opacity=\"1\" /><path clip-path=\"url(#clip190)\" d=\"M92.7512 814.967 Q89.1401 814.967 87.3114 818.532 Q85.5058 822.074 85.5058 829.203 Q85.5058 836.31 87.3114 839.875 Q89.1401 843.416 92.7512 843.416 Q96.3854 843.416 98.1909 839.875 Q100.02 836.31 100.02 829.203 Q100.02 822.074 98.1909 818.532 Q96.3854 814.967 92.7512 814.967 M92.7512 811.264 Q98.5613 811.264 101.617 815.87 Q104.696 820.453 104.696 829.203 Q104.696 837.93 101.617 842.537 Q98.5613 847.12 92.7512 847.12 Q86.941 847.12 83.8623 842.537 Q80.8068 837.93 80.8068 829.203 Q80.8068 820.453 83.8623 815.87 Q86.941 811.264 92.7512 811.264 Z\" fill=\"#000000\" fill-rule=\"evenodd\" fill-opacity=\"1\" /><path clip-path=\"url(#clip190)\" d=\"M122.913 814.967 Q119.302 814.967 117.473 818.532 Q115.668 822.074 115.668 829.203 Q115.668 836.31 117.473 839.875 Q119.302 843.416 122.913 843.416 Q126.547 843.416 128.353 839.875 Q130.182 836.31 130.182 829.203 Q130.182 822.074 128.353 818.532 Q126.547 814.967 122.913 814.967 M122.913 811.264 Q128.723 811.264 131.779 815.87 Q134.857 820.453 134.857 829.203 Q134.857 837.93 131.779 842.537 Q128.723 847.12 122.913 847.12 Q117.103 847.12 114.024 842.537 Q110.969 837.93 110.969 829.203 Q110.969 820.453 114.024 815.87 Q117.103 811.264 122.913 811.264 Z\" fill=\"#000000\" fill-rule=\"evenodd\" fill-opacity=\"1\" /><path clip-path=\"url(#clip190)\" d=\"M53.3995 532.871 L61.0384 532.871 L61.0384 506.505 L52.7282 508.172 L52.7282 503.912 L60.9921 502.246 L65.668 502.246 L65.668 532.871 L73.3068 532.871 L73.3068 536.806 L53.3995 536.806 L53.3995 532.871 Z\" fill=\"#000000\" fill-rule=\"evenodd\" fill-opacity=\"1\" /><path clip-path=\"url(#clip190)\" d=\"M82.7975 502.246 L101.154 502.246 L101.154 506.181 L87.0799 506.181 L87.0799 514.653 Q88.0984 514.306 89.1169 514.144 Q90.1354 513.959 91.1539 513.959 Q96.941 513.959 100.321 517.13 Q103.7 520.301 103.7 525.718 Q103.7 531.296 100.228 534.398 Q96.7558 537.477 90.4364 537.477 Q88.2604 537.477 85.9919 537.107 Q83.7466 536.736 81.3392 535.995 L81.3392 531.296 Q83.4225 532.431 85.6447 532.986 Q87.8669 533.542 90.3438 533.542 Q94.3484 533.542 96.6863 531.435 Q99.0243 529.329 99.0243 525.718 Q99.0243 522.107 96.6863 520 Q94.3484 517.894 90.3438 517.894 Q88.4688 517.894 86.5938 518.31 Q84.7419 518.727 82.7975 519.607 L82.7975 502.246 Z\" fill=\"#000000\" fill-rule=\"evenodd\" fill-opacity=\"1\" /><path clip-path=\"url(#clip190)\" d=\"M122.913 505.324 Q119.302 505.324 117.473 508.889 Q115.668 512.431 115.668 519.56 Q115.668 526.667 117.473 530.232 Q119.302 533.773 122.913 533.773 Q126.547 533.773 128.353 530.232 Q130.182 526.667 130.182 519.56 Q130.182 512.431 128.353 508.889 Q126.547 505.324 122.913 505.324 M122.913 501.621 Q128.723 501.621 131.779 506.227 Q134.857 510.81 134.857 519.56 Q134.857 528.287 131.779 532.894 Q128.723 537.477 122.913 537.477 Q117.103 537.477 114.024 532.894 Q110.969 528.287 110.969 519.56 Q110.969 510.81 114.024 506.227 Q117.103 501.621 122.913 501.621 Z\" fill=\"#000000\" fill-rule=\"evenodd\" fill-opacity=\"1\" /><path clip-path=\"url(#clip190)\" d=\"M56.6171 223.228 L72.9365 223.228 L72.9365 227.163 L50.9921 227.163 L50.9921 223.228 Q53.6541 220.473 58.2375 215.843 Q62.8439 211.191 64.0245 209.848 Q66.2698 207.325 67.1494 205.589 Q68.0522 203.83 68.0522 202.14 Q68.0522 199.385 66.1078 197.649 Q64.1865 195.913 61.0847 195.913 Q58.8856 195.913 56.4319 196.677 Q54.0014 197.441 51.2236 198.992 L51.2236 194.269 Q54.0477 193.135 56.5014 192.556 Q58.955 191.978 60.9921 191.978 Q66.3624 191.978 69.5568 194.663 Q72.7513 197.348 72.7513 201.839 Q72.7513 203.968 71.9411 205.89 Q71.1541 207.788 69.0476 210.38 Q68.4689 211.052 65.367 214.269 Q62.2652 217.464 56.6171 223.228 Z\" fill=\"#000000\" fill-rule=\"evenodd\" fill-opacity=\"1\" /><path clip-path=\"url(#clip190)\" d=\"M92.7512 195.681 Q89.1401 195.681 87.3114 199.246 Q85.5058 202.788 85.5058 209.917 Q85.5058 217.024 87.3114 220.589 Q89.1401 224.13 92.7512 224.13 Q96.3854 224.13 98.1909 220.589 Q100.02 217.024 100.02 209.917 Q100.02 202.788 98.1909 199.246 Q96.3854 195.681 92.7512 195.681 M92.7512 191.978 Q98.5613 191.978 101.617 196.584 Q104.696 201.168 104.696 209.917 Q104.696 218.644 101.617 223.251 Q98.5613 227.834 92.7512 227.834 Q86.941 227.834 83.8623 223.251 Q80.8068 218.644 80.8068 209.917 Q80.8068 201.168 83.8623 196.584 Q86.941 191.978 92.7512 191.978 Z\" fill=\"#000000\" fill-rule=\"evenodd\" fill-opacity=\"1\" /><path clip-path=\"url(#clip190)\" d=\"M122.913 195.681 Q119.302 195.681 117.473 199.246 Q115.668 202.788 115.668 209.917 Q115.668 217.024 117.473 220.589 Q119.302 224.13 122.913 224.13 Q126.547 224.13 128.353 220.589 Q130.182 217.024 130.182 209.917 Q130.182 202.788 128.353 199.246 Q126.547 195.681 122.913 195.681 M122.913 191.978 Q128.723 191.978 131.779 196.584 Q134.857 201.168 134.857 209.917 Q134.857 218.644 131.779 223.251 Q128.723 227.834 122.913 227.834 Q117.103 227.834 114.024 223.251 Q110.969 218.644 110.969 209.917 Q110.969 201.168 114.024 196.584 Q117.103 191.978 122.913 191.978 Z\" fill=\"#000000\" fill-rule=\"evenodd\" fill-opacity=\"1\" /><polyline clip-path=\"url(#clip192)\" style=\"stroke:#009af9; stroke-linecap:round; stroke-linejoin:round; stroke-width:4; stroke-opacity:1; fill:none\" points=\"\n",
       "  232.609,1387.65 281.619,900.846 330.628,1358.57 379.637,1411.09 428.647,1080.16 477.656,690.069 526.666,1410.81 575.675,970.203 624.684,939.172 673.694,1396.46 \n",
       "  722.703,816.252 771.713,87.9763 820.722,1396.12 869.731,841.989 918.741,474.201 967.75,1405.32 1016.76,903.676 1065.77,1046.22 1114.78,1415.85 1163.79,968.393 \n",
       "  1212.8,1159.05 1261.81,1430.59 1310.82,1075.05 1359.83,553.486 1408.83,1436.44 1457.84,1058.12 1506.85,1090.85 1555.86,1426.18 1604.87,941.255 1653.88,1231.92 \n",
       "  1702.89,1428.29 1751.9,988.868 1800.91,1323.58 1849.92,1427.96 1898.93,941.904 1947.94,1236.18 1996.95,1435.02 2045.96,1001.37 2094.97,1410.5 2143.98,1438.02 \n",
       "  2192.99,981.09 2241.99,1366.8 2291,1445.72 \n",
       "  \"/>\n",
       "<path clip-path=\"url(#clip190)\" d=\"\n",
       "M1985.16 198.898 L2280.03 198.898 L2280.03 95.2176 L1985.16 95.2176  Z\n",
       "  \" fill=\"#ffffff\" fill-rule=\"evenodd\" fill-opacity=\"1\"/>\n",
       "<polyline clip-path=\"url(#clip190)\" style=\"stroke:#000000; stroke-linecap:round; stroke-linejoin:round; stroke-width:4; stroke-opacity:1; fill:none\" points=\"\n",
       "  1985.16,198.898 2280.03,198.898 2280.03,95.2176 1985.16,95.2176 1985.16,198.898 \n",
       "  \"/>\n",
       "<polyline clip-path=\"url(#clip190)\" style=\"stroke:#009af9; stroke-linecap:round; stroke-linejoin:round; stroke-width:4; stroke-opacity:1; fill:none\" points=\"\n",
       "  2009.41,147.058 2154.87,147.058 \n",
       "  \"/>\n",
       "<path clip-path=\"url(#clip190)\" d=\"M2192.95 166.745 Q2191.15 171.375 2189.43 172.787 Q2187.72 174.199 2184.85 174.199 L2181.45 174.199 L2181.45 170.634 L2183.95 170.634 Q2185.71 170.634 2186.68 169.8 Q2187.65 168.967 2188.83 165.865 L2189.6 163.921 L2179.11 138.412 L2183.62 138.412 L2191.72 158.689 L2199.83 138.412 L2204.34 138.412 L2192.95 166.745 Z\" fill=\"#000000\" fill-rule=\"evenodd\" fill-opacity=\"1\" /><path clip-path=\"url(#clip190)\" d=\"M2211.63 160.402 L2219.27 160.402 L2219.27 134.037 L2210.96 135.703 L2210.96 131.444 L2219.22 129.778 L2223.9 129.778 L2223.9 160.402 L2231.54 160.402 L2231.54 164.338 L2211.63 164.338 L2211.63 160.402 Z\" fill=\"#000000\" fill-rule=\"evenodd\" fill-opacity=\"1\" /></svg>\n"
      ]
     },
     "execution_count": 457,
     "metadata": {},
     "output_type": "execute_result"
    }
   ],
   "source": [
    "plot(losses)"
   ]
  },
  {
   "cell_type": "code",
   "execution_count": 458,
   "metadata": {},
   "outputs": [
    {
     "data": {
      "text/plain": [
       "1-element Vector{Float32}:\n",
       " 237.35135"
      ]
     },
     "execution_count": 458,
     "metadata": {},
     "output_type": "execute_result"
    }
   ],
   "source": [
    "#test it out\n",
    "m1c([100,200,300])"
   ]
  },
  {
   "cell_type": "code",
   "execution_count": 459,
   "metadata": {},
   "outputs": [
    {
     "data": {
      "text/plain": [
       "1-element Vector{Float32}:\n",
       " 30.266272"
      ]
     },
     "execution_count": 459,
     "metadata": {},
     "output_type": "execute_result"
    }
   ],
   "source": [
    "#test it out\n",
    "m1c([10,20,30])"
   ]
  },
  {
   "cell_type": "code",
   "execution_count": 478,
   "metadata": {},
   "outputs": [],
   "source": [
    "#let's make the model even more complex\n",
    "data = ncycle([([1,2,3], 10),([10,20,30], 100),([100,200,300], 200)], 1000)\n",
    "m1c = Chain( Dense(3 => 10, relu) , Dense(10 => 5, relu) , Dense(5 => 1) )\n",
    "params = Flux.params( m1c )\n",
    "losses = []\n",
    "opt = Adam(0.1)\n",
    "for data_tmp in data\n",
    "    \n",
    "    Flux.train!( loss1c , params , [data_tmp] , opt )\n",
    "    push!(losses, loss1c(data_tmp...) )\n",
    "    \n",
    "end"
   ]
  },
  {
   "cell_type": "code",
   "execution_count": 479,
   "metadata": {},
   "outputs": [
    {
     "data": {
      "image/svg+xml": [
       "<?xml version=\"1.0\" encoding=\"utf-8\"?>\n",
       "<svg xmlns=\"http://www.w3.org/2000/svg\" xmlns:xlink=\"http://www.w3.org/1999/xlink\" width=\"600\" height=\"400\" viewBox=\"0 0 2400 1600\">\n",
       "<defs>\n",
       "  <clipPath id=\"clip590\">\n",
       "    <rect x=\"0\" y=\"0\" width=\"2400\" height=\"1600\"/>\n",
       "  </clipPath>\n",
       "</defs>\n",
       "<path clip-path=\"url(#clip590)\" d=\"\n",
       "M0 1600 L2400 1600 L2400 0 L0 0  Z\n",
       "  \" fill=\"#ffffff\" fill-rule=\"evenodd\" fill-opacity=\"1\"/>\n",
       "<defs>\n",
       "  <clipPath id=\"clip591\">\n",
       "    <rect x=\"480\" y=\"0\" width=\"1681\" height=\"1600\"/>\n",
       "  </clipPath>\n",
       "</defs>\n",
       "<path clip-path=\"url(#clip590)\" d=\"\n",
       "M169.121 1486.45 L2352.76 1486.45 L2352.76 47.2441 L169.121 47.2441  Z\n",
       "  \" fill=\"#ffffff\" fill-rule=\"evenodd\" fill-opacity=\"1\"/>\n",
       "<defs>\n",
       "  <clipPath id=\"clip592\">\n",
       "    <rect x=\"169\" y=\"47\" width=\"2185\" height=\"1440\"/>\n",
       "  </clipPath>\n",
       "</defs>\n",
       "<polyline clip-path=\"url(#clip592)\" style=\"stroke:#000000; stroke-linecap:round; stroke-linejoin:round; stroke-width:2; stroke-opacity:0.1; fill:none\" points=\"\n",
       "  230.235,1486.45 230.235,47.2441 \n",
       "  \"/>\n",
       "<polyline clip-path=\"url(#clip592)\" style=\"stroke:#000000; stroke-linecap:round; stroke-linejoin:round; stroke-width:2; stroke-opacity:0.1; fill:none\" points=\"\n",
       "  917.142,1486.45 917.142,47.2441 \n",
       "  \"/>\n",
       "<polyline clip-path=\"url(#clip592)\" style=\"stroke:#000000; stroke-linecap:round; stroke-linejoin:round; stroke-width:2; stroke-opacity:0.1; fill:none\" points=\"\n",
       "  1604.05,1486.45 1604.05,47.2441 \n",
       "  \"/>\n",
       "<polyline clip-path=\"url(#clip592)\" style=\"stroke:#000000; stroke-linecap:round; stroke-linejoin:round; stroke-width:2; stroke-opacity:0.1; fill:none\" points=\"\n",
       "  2290.95,1486.45 2290.95,47.2441 \n",
       "  \"/>\n",
       "<polyline clip-path=\"url(#clip590)\" style=\"stroke:#000000; stroke-linecap:round; stroke-linejoin:round; stroke-width:4; stroke-opacity:1; fill:none\" points=\"\n",
       "  169.121,1486.45 2352.76,1486.45 \n",
       "  \"/>\n",
       "<polyline clip-path=\"url(#clip590)\" style=\"stroke:#000000; stroke-linecap:round; stroke-linejoin:round; stroke-width:4; stroke-opacity:1; fill:none\" points=\"\n",
       "  230.235,1486.45 230.235,1467.55 \n",
       "  \"/>\n",
       "<polyline clip-path=\"url(#clip590)\" style=\"stroke:#000000; stroke-linecap:round; stroke-linejoin:round; stroke-width:4; stroke-opacity:1; fill:none\" points=\"\n",
       "  917.142,1486.45 917.142,1467.55 \n",
       "  \"/>\n",
       "<polyline clip-path=\"url(#clip590)\" style=\"stroke:#000000; stroke-linecap:round; stroke-linejoin:round; stroke-width:4; stroke-opacity:1; fill:none\" points=\"\n",
       "  1604.05,1486.45 1604.05,1467.55 \n",
       "  \"/>\n",
       "<polyline clip-path=\"url(#clip590)\" style=\"stroke:#000000; stroke-linecap:round; stroke-linejoin:round; stroke-width:4; stroke-opacity:1; fill:none\" points=\"\n",
       "  2290.95,1486.45 2290.95,1467.55 \n",
       "  \"/>\n",
       "<path clip-path=\"url(#clip590)\" d=\"M230.235 1517.37 Q226.624 1517.37 224.796 1520.93 Q222.99 1524.47 222.99 1531.6 Q222.99 1538.71 224.796 1542.27 Q226.624 1545.82 230.235 1545.82 Q233.87 1545.82 235.675 1542.27 Q237.504 1538.71 237.504 1531.6 Q237.504 1524.47 235.675 1520.93 Q233.87 1517.37 230.235 1517.37 M230.235 1513.66 Q236.046 1513.66 239.101 1518.27 Q242.18 1522.85 242.18 1531.6 Q242.18 1540.33 239.101 1544.94 Q236.046 1549.52 230.235 1549.52 Q224.425 1549.52 221.347 1544.94 Q218.291 1540.33 218.291 1531.6 Q218.291 1522.85 221.347 1518.27 Q224.425 1513.66 230.235 1513.66 Z\" fill=\"#000000\" fill-rule=\"evenodd\" fill-opacity=\"1\" /><path clip-path=\"url(#clip590)\" d=\"M861.668 1544.91 L869.307 1544.91 L869.307 1518.55 L860.996 1520.21 L860.996 1515.95 L869.26 1514.29 L873.936 1514.29 L873.936 1544.91 L881.575 1544.91 L881.575 1548.85 L861.668 1548.85 L861.668 1544.91 Z\" fill=\"#000000\" fill-rule=\"evenodd\" fill-opacity=\"1\" /><path clip-path=\"url(#clip590)\" d=\"M901.019 1517.37 Q897.408 1517.37 895.58 1520.93 Q893.774 1524.47 893.774 1531.6 Q893.774 1538.71 895.58 1542.27 Q897.408 1545.82 901.019 1545.82 Q904.654 1545.82 906.459 1542.27 Q908.288 1538.71 908.288 1531.6 Q908.288 1524.47 906.459 1520.93 Q904.654 1517.37 901.019 1517.37 M901.019 1513.66 Q906.829 1513.66 909.885 1518.27 Q912.964 1522.85 912.964 1531.6 Q912.964 1540.33 909.885 1544.94 Q906.829 1549.52 901.019 1549.52 Q895.209 1549.52 892.13 1544.94 Q889.075 1540.33 889.075 1531.6 Q889.075 1522.85 892.13 1518.27 Q895.209 1513.66 901.019 1513.66 Z\" fill=\"#000000\" fill-rule=\"evenodd\" fill-opacity=\"1\" /><path clip-path=\"url(#clip590)\" d=\"M931.181 1517.37 Q927.57 1517.37 925.741 1520.93 Q923.936 1524.47 923.936 1531.6 Q923.936 1538.71 925.741 1542.27 Q927.57 1545.82 931.181 1545.82 Q934.815 1545.82 936.621 1542.27 Q938.45 1538.71 938.45 1531.6 Q938.45 1524.47 936.621 1520.93 Q934.815 1517.37 931.181 1517.37 M931.181 1513.66 Q936.991 1513.66 940.047 1518.27 Q943.126 1522.85 943.126 1531.6 Q943.126 1540.33 940.047 1544.94 Q936.991 1549.52 931.181 1549.52 Q925.371 1549.52 922.292 1544.94 Q919.237 1540.33 919.237 1531.6 Q919.237 1522.85 922.292 1518.27 Q925.371 1513.66 931.181 1513.66 Z\" fill=\"#000000\" fill-rule=\"evenodd\" fill-opacity=\"1\" /><path clip-path=\"url(#clip590)\" d=\"M961.343 1517.37 Q957.732 1517.37 955.903 1520.93 Q954.098 1524.47 954.098 1531.6 Q954.098 1538.71 955.903 1542.27 Q957.732 1545.82 961.343 1545.82 Q964.977 1545.82 966.783 1542.27 Q968.612 1538.71 968.612 1531.6 Q968.612 1524.47 966.783 1520.93 Q964.977 1517.37 961.343 1517.37 M961.343 1513.66 Q967.153 1513.66 970.209 1518.27 Q973.287 1522.85 973.287 1531.6 Q973.287 1540.33 970.209 1544.94 Q967.153 1549.52 961.343 1549.52 Q955.533 1549.52 952.454 1544.94 Q949.399 1540.33 949.399 1531.6 Q949.399 1522.85 952.454 1518.27 Q955.533 1513.66 961.343 1513.66 Z\" fill=\"#000000\" fill-rule=\"evenodd\" fill-opacity=\"1\" /><path clip-path=\"url(#clip590)\" d=\"M1552.66 1544.91 L1568.98 1544.91 L1568.98 1548.85 L1547.03 1548.85 L1547.03 1544.91 Q1549.7 1542.16 1554.28 1537.53 Q1558.89 1532.88 1560.07 1531.53 Q1562.31 1529.01 1563.19 1527.27 Q1564.09 1525.51 1564.09 1523.82 Q1564.09 1521.07 1562.15 1519.33 Q1560.23 1517.6 1557.13 1517.6 Q1554.93 1517.6 1552.47 1518.36 Q1550.04 1519.13 1547.27 1520.68 L1547.27 1515.95 Q1550.09 1514.82 1552.54 1514.24 Q1555 1513.66 1557.03 1513.66 Q1562.41 1513.66 1565.6 1516.35 Q1568.79 1519.03 1568.79 1523.52 Q1568.79 1525.65 1567.98 1527.57 Q1567.2 1529.47 1565.09 1532.07 Q1564.51 1532.74 1561.41 1535.95 Q1558.31 1539.15 1552.66 1544.91 Z\" fill=\"#000000\" fill-rule=\"evenodd\" fill-opacity=\"1\" /><path clip-path=\"url(#clip590)\" d=\"M1588.79 1517.37 Q1585.18 1517.37 1583.35 1520.93 Q1581.55 1524.47 1581.55 1531.6 Q1581.55 1538.71 1583.35 1542.27 Q1585.18 1545.82 1588.79 1545.82 Q1592.43 1545.82 1594.23 1542.27 Q1596.06 1538.71 1596.06 1531.6 Q1596.06 1524.47 1594.23 1520.93 Q1592.43 1517.37 1588.79 1517.37 M1588.79 1513.66 Q1594.6 1513.66 1597.66 1518.27 Q1600.74 1522.85 1600.74 1531.6 Q1600.74 1540.33 1597.66 1544.94 Q1594.6 1549.52 1588.79 1549.52 Q1582.98 1549.52 1579.91 1544.94 Q1576.85 1540.33 1576.85 1531.6 Q1576.85 1522.85 1579.91 1518.27 Q1582.98 1513.66 1588.79 1513.66 Z\" fill=\"#000000\" fill-rule=\"evenodd\" fill-opacity=\"1\" /><path clip-path=\"url(#clip590)\" d=\"M1618.96 1517.37 Q1615.34 1517.37 1613.52 1520.93 Q1611.71 1524.47 1611.71 1531.6 Q1611.71 1538.71 1613.52 1542.27 Q1615.34 1545.82 1618.96 1545.82 Q1622.59 1545.82 1624.4 1542.27 Q1626.22 1538.71 1626.22 1531.6 Q1626.22 1524.47 1624.4 1520.93 Q1622.59 1517.37 1618.96 1517.37 M1618.96 1513.66 Q1624.77 1513.66 1627.82 1518.27 Q1630.9 1522.85 1630.9 1531.6 Q1630.9 1540.33 1627.82 1544.94 Q1624.77 1549.52 1618.96 1549.52 Q1613.15 1549.52 1610.07 1544.94 Q1607.01 1540.33 1607.01 1531.6 Q1607.01 1522.85 1610.07 1518.27 Q1613.15 1513.66 1618.96 1513.66 Z\" fill=\"#000000\" fill-rule=\"evenodd\" fill-opacity=\"1\" /><path clip-path=\"url(#clip590)\" d=\"M1649.12 1517.37 Q1645.51 1517.37 1643.68 1520.93 Q1641.87 1524.47 1641.87 1531.6 Q1641.87 1538.71 1643.68 1542.27 Q1645.51 1545.82 1649.12 1545.82 Q1652.75 1545.82 1654.56 1542.27 Q1656.39 1538.71 1656.39 1531.6 Q1656.39 1524.47 1654.56 1520.93 Q1652.75 1517.37 1649.12 1517.37 M1649.12 1513.66 Q1654.93 1513.66 1657.98 1518.27 Q1661.06 1522.85 1661.06 1531.6 Q1661.06 1540.33 1657.98 1544.94 Q1654.93 1549.52 1649.12 1549.52 Q1643.31 1549.52 1640.23 1544.94 Q1637.17 1540.33 1637.17 1531.6 Q1637.17 1522.85 1640.23 1518.27 Q1643.31 1513.66 1649.12 1513.66 Z\" fill=\"#000000\" fill-rule=\"evenodd\" fill-opacity=\"1\" /><path clip-path=\"url(#clip590)\" d=\"M2249.64 1530.21 Q2252.99 1530.93 2254.87 1533.2 Q2256.77 1535.47 2256.77 1538.8 Q2256.77 1543.92 2253.25 1546.72 Q2249.73 1549.52 2243.25 1549.52 Q2241.07 1549.52 2238.76 1549.08 Q2236.46 1548.66 2234.01 1547.81 L2234.01 1543.29 Q2235.96 1544.43 2238.27 1545.01 Q2240.58 1545.58 2243.11 1545.58 Q2247.51 1545.58 2249.8 1543.85 Q2252.11 1542.11 2252.11 1538.8 Q2252.11 1535.75 2249.96 1534.03 Q2247.83 1532.3 2244.01 1532.3 L2239.98 1532.3 L2239.98 1528.45 L2244.2 1528.45 Q2247.64 1528.45 2249.47 1527.09 Q2251.3 1525.7 2251.3 1523.11 Q2251.3 1520.45 2249.4 1519.03 Q2247.53 1517.6 2244.01 1517.6 Q2242.09 1517.6 2239.89 1518.01 Q2237.69 1518.43 2235.05 1519.31 L2235.05 1515.14 Q2237.71 1514.4 2240.03 1514.03 Q2242.37 1513.66 2244.43 1513.66 Q2249.75 1513.66 2252.85 1516.09 Q2255.96 1518.5 2255.96 1522.62 Q2255.96 1525.49 2254.31 1527.48 Q2252.67 1529.45 2249.64 1530.21 Z\" fill=\"#000000\" fill-rule=\"evenodd\" fill-opacity=\"1\" /><path clip-path=\"url(#clip590)\" d=\"M2275.63 1517.37 Q2272.02 1517.37 2270.19 1520.93 Q2268.39 1524.47 2268.39 1531.6 Q2268.39 1538.71 2270.19 1542.27 Q2272.02 1545.82 2275.63 1545.82 Q2279.27 1545.82 2281.07 1542.27 Q2282.9 1538.71 2282.9 1531.6 Q2282.9 1524.47 2281.07 1520.93 Q2279.27 1517.37 2275.63 1517.37 M2275.63 1513.66 Q2281.44 1513.66 2284.5 1518.27 Q2287.58 1522.85 2287.58 1531.6 Q2287.58 1540.33 2284.5 1544.94 Q2281.44 1549.52 2275.63 1549.52 Q2269.82 1549.52 2266.74 1544.94 Q2263.69 1540.33 2263.69 1531.6 Q2263.69 1522.85 2266.74 1518.27 Q2269.82 1513.66 2275.63 1513.66 Z\" fill=\"#000000\" fill-rule=\"evenodd\" fill-opacity=\"1\" /><path clip-path=\"url(#clip590)\" d=\"M2305.79 1517.37 Q2302.18 1517.37 2300.35 1520.93 Q2298.55 1524.47 2298.55 1531.6 Q2298.55 1538.71 2300.35 1542.27 Q2302.18 1545.82 2305.79 1545.82 Q2309.43 1545.82 2311.23 1542.27 Q2313.06 1538.71 2313.06 1531.6 Q2313.06 1524.47 2311.23 1520.93 Q2309.43 1517.37 2305.79 1517.37 M2305.79 1513.66 Q2311.6 1513.66 2314.66 1518.27 Q2317.74 1522.85 2317.74 1531.6 Q2317.74 1540.33 2314.66 1544.94 Q2311.6 1549.52 2305.79 1549.52 Q2299.98 1549.52 2296.9 1544.94 Q2293.85 1540.33 2293.85 1531.6 Q2293.85 1522.85 2296.9 1518.27 Q2299.98 1513.66 2305.79 1513.66 Z\" fill=\"#000000\" fill-rule=\"evenodd\" fill-opacity=\"1\" /><path clip-path=\"url(#clip590)\" d=\"M2335.95 1517.37 Q2332.34 1517.37 2330.51 1520.93 Q2328.71 1524.47 2328.71 1531.6 Q2328.71 1538.71 2330.51 1542.27 Q2332.34 1545.82 2335.95 1545.82 Q2339.59 1545.82 2341.39 1542.27 Q2343.22 1538.71 2343.22 1531.6 Q2343.22 1524.47 2341.39 1520.93 Q2339.59 1517.37 2335.95 1517.37 M2335.95 1513.66 Q2341.76 1513.66 2344.82 1518.27 Q2347.9 1522.85 2347.9 1531.6 Q2347.9 1540.33 2344.82 1544.94 Q2341.76 1549.52 2335.95 1549.52 Q2330.14 1549.52 2327.07 1544.94 Q2324.01 1540.33 2324.01 1531.6 Q2324.01 1522.85 2327.07 1518.27 Q2330.14 1513.66 2335.95 1513.66 Z\" fill=\"#000000\" fill-rule=\"evenodd\" fill-opacity=\"1\" /><polyline clip-path=\"url(#clip592)\" style=\"stroke:#000000; stroke-linecap:round; stroke-linejoin:round; stroke-width:2; stroke-opacity:0.1; fill:none\" points=\"\n",
       "  169.121,1445.73 2352.76,1445.73 \n",
       "  \"/>\n",
       "<polyline clip-path=\"url(#clip592)\" style=\"stroke:#000000; stroke-linecap:round; stroke-linejoin:round; stroke-width:2; stroke-opacity:0.1; fill:none\" points=\"\n",
       "  169.121,1196.91 2352.76,1196.91 \n",
       "  \"/>\n",
       "<polyline clip-path=\"url(#clip592)\" style=\"stroke:#000000; stroke-linecap:round; stroke-linejoin:round; stroke-width:2; stroke-opacity:0.1; fill:none\" points=\"\n",
       "  169.121,948.097 2352.76,948.097 \n",
       "  \"/>\n",
       "<polyline clip-path=\"url(#clip592)\" style=\"stroke:#000000; stroke-linecap:round; stroke-linejoin:round; stroke-width:2; stroke-opacity:0.1; fill:none\" points=\"\n",
       "  169.121,699.282 2352.76,699.282 \n",
       "  \"/>\n",
       "<polyline clip-path=\"url(#clip592)\" style=\"stroke:#000000; stroke-linecap:round; stroke-linejoin:round; stroke-width:2; stroke-opacity:0.1; fill:none\" points=\"\n",
       "  169.121,450.466 2352.76,450.466 \n",
       "  \"/>\n",
       "<polyline clip-path=\"url(#clip592)\" style=\"stroke:#000000; stroke-linecap:round; stroke-linejoin:round; stroke-width:2; stroke-opacity:0.1; fill:none\" points=\"\n",
       "  169.121,201.651 2352.76,201.651 \n",
       "  \"/>\n",
       "<polyline clip-path=\"url(#clip590)\" style=\"stroke:#000000; stroke-linecap:round; stroke-linejoin:round; stroke-width:4; stroke-opacity:1; fill:none\" points=\"\n",
       "  169.121,1486.45 169.121,47.2441 \n",
       "  \"/>\n",
       "<polyline clip-path=\"url(#clip590)\" style=\"stroke:#000000; stroke-linecap:round; stroke-linejoin:round; stroke-width:4; stroke-opacity:1; fill:none\" points=\"\n",
       "  169.121,1445.73 188.019,1445.73 \n",
       "  \"/>\n",
       "<polyline clip-path=\"url(#clip590)\" style=\"stroke:#000000; stroke-linecap:round; stroke-linejoin:round; stroke-width:4; stroke-opacity:1; fill:none\" points=\"\n",
       "  169.121,1196.91 188.019,1196.91 \n",
       "  \"/>\n",
       "<polyline clip-path=\"url(#clip590)\" style=\"stroke:#000000; stroke-linecap:round; stroke-linejoin:round; stroke-width:4; stroke-opacity:1; fill:none\" points=\"\n",
       "  169.121,948.097 188.019,948.097 \n",
       "  \"/>\n",
       "<polyline clip-path=\"url(#clip590)\" style=\"stroke:#000000; stroke-linecap:round; stroke-linejoin:round; stroke-width:4; stroke-opacity:1; fill:none\" points=\"\n",
       "  169.121,699.282 188.019,699.282 \n",
       "  \"/>\n",
       "<polyline clip-path=\"url(#clip590)\" style=\"stroke:#000000; stroke-linecap:round; stroke-linejoin:round; stroke-width:4; stroke-opacity:1; fill:none\" points=\"\n",
       "  169.121,450.466 188.019,450.466 \n",
       "  \"/>\n",
       "<polyline clip-path=\"url(#clip590)\" style=\"stroke:#000000; stroke-linecap:round; stroke-linejoin:round; stroke-width:4; stroke-opacity:1; fill:none\" points=\"\n",
       "  169.121,201.651 188.019,201.651 \n",
       "  \"/>\n",
       "<path clip-path=\"url(#clip590)\" d=\"M121.177 1431.53 Q117.566 1431.53 115.737 1435.09 Q113.932 1438.63 113.932 1445.76 Q113.932 1452.87 115.737 1456.43 Q117.566 1459.98 121.177 1459.98 Q124.811 1459.98 126.617 1456.43 Q128.445 1452.87 128.445 1445.76 Q128.445 1438.63 126.617 1435.09 Q124.811 1431.53 121.177 1431.53 M121.177 1427.82 Q126.987 1427.82 130.043 1432.43 Q133.121 1437.01 133.121 1445.76 Q133.121 1454.49 130.043 1459.1 Q126.987 1463.68 121.177 1463.68 Q115.367 1463.68 112.288 1459.1 Q109.233 1454.49 109.233 1445.76 Q109.233 1437.01 112.288 1432.43 Q115.367 1427.82 121.177 1427.82 Z\" fill=\"#000000\" fill-rule=\"evenodd\" fill-opacity=\"1\" /><path clip-path=\"url(#clip590)\" d=\"M86.0382 1210.26 L102.358 1210.26 L102.358 1214.19 L80.4133 1214.19 L80.4133 1210.26 Q83.0753 1207.5 87.6586 1202.87 Q92.2651 1198.22 93.4456 1196.88 Q95.691 1194.35 96.5706 1192.62 Q97.4734 1190.86 97.4734 1189.17 Q97.4734 1186.41 95.5289 1184.68 Q93.6076 1182.94 90.5058 1182.94 Q88.3067 1182.94 85.8531 1183.71 Q83.4225 1184.47 80.6447 1186.02 L80.6447 1181.3 Q83.4688 1180.16 85.9225 1179.59 Q88.3762 1179.01 90.4132 1179.01 Q95.7836 1179.01 98.978 1181.69 Q102.172 1184.38 102.172 1188.87 Q102.172 1191 101.362 1192.92 Q100.575 1194.82 98.4687 1197.41 Q97.89 1198.08 94.7882 1201.3 Q91.6864 1204.49 86.0382 1210.26 Z\" fill=\"#000000\" fill-rule=\"evenodd\" fill-opacity=\"1\" /><path clip-path=\"url(#clip590)\" d=\"M112.219 1179.63 L130.575 1179.63 L130.575 1183.57 L116.501 1183.57 L116.501 1192.04 Q117.52 1191.69 118.538 1191.53 Q119.557 1191.35 120.575 1191.35 Q126.362 1191.35 129.742 1194.52 Q133.121 1197.69 133.121 1203.1 Q133.121 1208.68 129.649 1211.78 Q126.177 1214.86 119.857 1214.86 Q117.682 1214.86 115.413 1214.49 Q113.168 1214.12 110.76 1213.38 L110.76 1208.68 Q112.844 1209.82 115.066 1210.37 Q117.288 1210.93 119.765 1210.93 Q123.77 1210.93 126.107 1208.82 Q128.445 1206.72 128.445 1203.1 Q128.445 1199.49 126.107 1197.39 Q123.77 1195.28 119.765 1195.28 Q117.89 1195.28 116.015 1195.7 Q114.163 1196.11 112.219 1196.99 L112.219 1179.63 Z\" fill=\"#000000\" fill-rule=\"evenodd\" fill-opacity=\"1\" /><path clip-path=\"url(#clip590)\" d=\"M81.0614 930.817 L99.4178 930.817 L99.4178 934.752 L85.3438 934.752 L85.3438 943.224 Q86.3623 942.877 87.3808 942.715 Q88.3993 942.53 89.4178 942.53 Q95.2049 942.53 98.5845 945.701 Q101.964 948.872 101.964 954.289 Q101.964 959.868 98.4919 962.97 Q95.0197 966.048 88.7003 966.048 Q86.5243 966.048 84.2558 965.678 Q82.0105 965.307 79.6031 964.567 L79.6031 959.868 Q81.6864 961.002 83.9086 961.558 Q86.1308 962.113 88.6077 962.113 Q92.6123 962.113 94.9502 960.007 Q97.2882 957.9 97.2882 954.289 Q97.2882 950.678 94.9502 948.571 Q92.6123 946.465 88.6077 946.465 Q86.7327 946.465 84.8577 946.882 Q83.0058 947.298 81.0614 948.178 L81.0614 930.817 Z\" fill=\"#000000\" fill-rule=\"evenodd\" fill-opacity=\"1\" /><path clip-path=\"url(#clip590)\" d=\"M121.177 933.896 Q117.566 933.896 115.737 937.46 Q113.932 941.002 113.932 948.132 Q113.932 955.238 115.737 958.803 Q117.566 962.345 121.177 962.345 Q124.811 962.345 126.617 958.803 Q128.445 955.238 128.445 948.132 Q128.445 941.002 126.617 937.46 Q124.811 933.896 121.177 933.896 M121.177 930.192 Q126.987 930.192 130.043 934.798 Q133.121 939.382 133.121 948.132 Q133.121 956.858 130.043 961.465 Q126.987 966.048 121.177 966.048 Q115.367 966.048 112.288 961.465 Q109.233 956.858 109.233 948.132 Q109.233 939.382 112.288 934.798 Q115.367 930.192 121.177 930.192 Z\" fill=\"#000000\" fill-rule=\"evenodd\" fill-opacity=\"1\" /><path clip-path=\"url(#clip590)\" d=\"M80.8299 682.002 L103.052 682.002 L103.052 683.992 L90.5058 716.562 L85.6216 716.562 L97.4271 685.937 L80.8299 685.937 L80.8299 682.002 Z\" fill=\"#000000\" fill-rule=\"evenodd\" fill-opacity=\"1\" /><path clip-path=\"url(#clip590)\" d=\"M112.219 682.002 L130.575 682.002 L130.575 685.937 L116.501 685.937 L116.501 694.409 Q117.52 694.062 118.538 693.9 Q119.557 693.715 120.575 693.715 Q126.362 693.715 129.742 696.886 Q133.121 700.057 133.121 705.474 Q133.121 711.052 129.649 714.154 Q126.177 717.233 119.857 717.233 Q117.682 717.233 115.413 716.863 Q113.168 716.492 110.76 715.751 L110.76 711.052 Q112.844 712.187 115.066 712.742 Q117.288 713.298 119.765 713.298 Q123.77 713.298 126.107 711.191 Q128.445 709.085 128.445 705.474 Q128.445 701.863 126.107 699.756 Q123.77 697.65 119.765 697.65 Q117.89 697.65 116.015 698.066 Q114.163 698.483 112.219 699.363 L112.219 682.002 Z\" fill=\"#000000\" fill-rule=\"evenodd\" fill-opacity=\"1\" /><path clip-path=\"url(#clip590)\" d=\"M51.6634 463.811 L59.3023 463.811 L59.3023 437.446 L50.9921 439.112 L50.9921 434.853 L59.256 433.186 L63.9319 433.186 L63.9319 463.811 L71.5707 463.811 L71.5707 467.746 L51.6634 467.746 L51.6634 463.811 Z\" fill=\"#000000\" fill-rule=\"evenodd\" fill-opacity=\"1\" /><path clip-path=\"url(#clip590)\" d=\"M91.0151 436.265 Q87.404 436.265 85.5753 439.83 Q83.7697 443.371 83.7697 450.501 Q83.7697 457.607 85.5753 461.172 Q87.404 464.714 91.0151 464.714 Q94.6493 464.714 96.4548 461.172 Q98.2835 457.607 98.2835 450.501 Q98.2835 443.371 96.4548 439.83 Q94.6493 436.265 91.0151 436.265 M91.0151 432.561 Q96.8252 432.561 99.8808 437.168 Q102.959 441.751 102.959 450.501 Q102.959 459.228 99.8808 463.834 Q96.8252 468.418 91.0151 468.418 Q85.2049 468.418 82.1262 463.834 Q79.0707 459.228 79.0707 450.501 Q79.0707 441.751 82.1262 437.168 Q85.2049 432.561 91.0151 432.561 Z\" fill=\"#000000\" fill-rule=\"evenodd\" fill-opacity=\"1\" /><path clip-path=\"url(#clip590)\" d=\"M121.177 436.265 Q117.566 436.265 115.737 439.83 Q113.932 443.371 113.932 450.501 Q113.932 457.607 115.737 461.172 Q117.566 464.714 121.177 464.714 Q124.811 464.714 126.617 461.172 Q128.445 457.607 128.445 450.501 Q128.445 443.371 126.617 439.83 Q124.811 436.265 121.177 436.265 M121.177 432.561 Q126.987 432.561 130.043 437.168 Q133.121 441.751 133.121 450.501 Q133.121 459.228 130.043 463.834 Q126.987 468.418 121.177 468.418 Q115.367 468.418 112.288 463.834 Q109.233 459.228 109.233 450.501 Q109.233 441.751 112.288 437.168 Q115.367 432.561 121.177 432.561 Z\" fill=\"#000000\" fill-rule=\"evenodd\" fill-opacity=\"1\" /><path clip-path=\"url(#clip590)\" d=\"M52.6588 214.996 L60.2976 214.996 L60.2976 188.63 L51.9875 190.297 L51.9875 186.038 L60.2513 184.371 L64.9272 184.371 L64.9272 214.996 L72.5661 214.996 L72.5661 218.931 L52.6588 218.931 L52.6588 214.996 Z\" fill=\"#000000\" fill-rule=\"evenodd\" fill-opacity=\"1\" /><path clip-path=\"url(#clip590)\" d=\"M86.0382 214.996 L102.358 214.996 L102.358 218.931 L80.4133 218.931 L80.4133 214.996 Q83.0753 212.241 87.6586 207.612 Q92.2651 202.959 93.4456 201.616 Q95.691 199.093 96.5706 197.357 Q97.4734 195.598 97.4734 193.908 Q97.4734 191.153 95.5289 189.417 Q93.6076 187.681 90.5058 187.681 Q88.3067 187.681 85.8531 188.445 Q83.4225 189.209 80.6447 190.76 L80.6447 186.038 Q83.4688 184.903 85.9225 184.325 Q88.3762 183.746 90.4132 183.746 Q95.7836 183.746 98.978 186.431 Q102.172 189.116 102.172 193.607 Q102.172 195.737 101.362 197.658 Q100.575 199.556 98.4687 202.149 Q97.89 202.82 94.7882 206.038 Q91.6864 209.232 86.0382 214.996 Z\" fill=\"#000000\" fill-rule=\"evenodd\" fill-opacity=\"1\" /><path clip-path=\"url(#clip590)\" d=\"M112.219 184.371 L130.575 184.371 L130.575 188.306 L116.501 188.306 L116.501 196.778 Q117.52 196.431 118.538 196.269 Q119.557 196.084 120.575 196.084 Q126.362 196.084 129.742 199.255 Q133.121 202.426 133.121 207.843 Q133.121 213.422 129.649 216.524 Q126.177 219.602 119.857 219.602 Q117.682 219.602 115.413 219.232 Q113.168 218.862 110.76 218.121 L110.76 213.422 Q112.844 214.556 115.066 215.112 Q117.288 215.667 119.765 215.667 Q123.77 215.667 126.107 213.561 Q128.445 211.454 128.445 207.843 Q128.445 204.232 126.107 202.126 Q123.77 200.019 119.765 200.019 Q117.89 200.019 116.015 200.436 Q114.163 200.852 112.219 201.732 L112.219 184.371 Z\" fill=\"#000000\" fill-rule=\"evenodd\" fill-opacity=\"1\" /><polyline clip-path=\"url(#clip592)\" style=\"stroke:#009af9; stroke-linecap:round; stroke-linejoin:round; stroke-width:4; stroke-opacity:1; fill:none\" points=\"\n",
       "  230.922,1375.49 231.609,927.766 232.296,416.138 232.983,1374.33 233.67,595.457 234.357,766.19 235.044,1370.86 235.731,587.686 236.418,913.654 237.104,1381 \n",
       "  237.791,655.174 238.478,1086.52 239.165,1403.08 239.852,821.891 240.539,87.9763 241.226,1415.18 241.913,813.836 242.6,578.232 243.287,1409.39 243.974,710.357 \n",
       "  244.66,1268.38 245.347,1397.38 246.034,605.549 246.721,585.233 247.408,1393.86 248.095,585.057 248.782,489.413 249.469,1398.26 250.156,601.23 250.843,700.818 \n",
       "  251.529,1408.82 252.216,649.709 252.903,1252.04 253.59,1427.54 254.277,749.035 254.964,1016.44 255.651,1439.83 256.338,766.471 257.025,1135.09 257.712,1438.49 \n",
       "  258.399,715.517 259.085,1167.1 259.772,1429.11 260.459,641.391 261.146,728.73 261.833,1427.14 262.52,634.483 263.207,765.865 263.894,1434.8 264.581,667.018 \n",
       "  265.268,1144.38 265.955,1439.74 266.641,744.661 267.328,1298.8 268.015,1429.7 268.702,752.987 269.389,1438.78 270.076,1433.79 270.763,706.428 271.45,1238.9 \n",
       "  272.137,1432.37 272.824,724.631 273.51,1336.57 274.197,1419.2 274.884,799.853 275.571,936.202 276.258,1414.65 276.945,791.499 277.632,1208.45 278.319,1424.47 \n",
       "  279.006,727.334 279.693,1367.16 280.38,1426.74 281.066,737.614 281.753,1256.59 282.44,1416.11 283.127,806.663 283.814,894.989 284.501,1413.4 285.188,794.697 \n",
       "  285.875,1183.19 286.562,1424.13 287.249,729.813 287.936,1386.14 288.622,1427.07 289.309,738.274 289.996,1254.83 290.683,1417.25 291.37,804.139 292.057,911.295 \n",
       "  292.744,1414.97 293.431,791.998 294.118,1193.2 294.805,1425.57 295.492,728.797 296.178,1385.15 296.865,1428.56 297.552,736.912 298.239,1262.48 298.926,1419.18 \n",
       "  299.613,800.696 300.3,928.334 300.987,1417.04 301.674,789.145 302.361,1199.87 303.047,1427.32 303.734,727.992 304.421,1389.24 305.108,1430.23 305.795,736.262 \n",
       "  306.482,1260.09 307.169,1421.11 307.856,798.899 308.543,929.94 309.23,1418.91 309.917,788.007 310.603,1193.05 311.29,1428.76 311.977,728.337 312.664,1404.09 \n",
       "  313.351,1431.43 314.038,736.906 314.725,1338.81 315.412,1436.47 316.099,702.255 316.786,1207.35 317.473,1436.34 318.159,719.708 318.846,1385.32 319.533,1426.29 \n",
       "  320.22,784.248 320.907,1020.99 321.594,1423 322.281,780.174 322.968,1223.06 323.655,1431.29 324.342,727.346 325.028,1419.75 325.715,1433.02 326.402,739.488 \n",
       "  327.089,1381.2 327.776,1437.39 328.463,707.131 329.15,1268.36 329.837,1436.78 330.524,727.036 331.211,1296.64 331.898,1426.33 332.584,795.476 333.271,904.085 \n",
       "  333.958,1422.79 334.645,792.306 335.332,1108 336.019,1431.07 336.706,737.678 337.393,1236.37 338.08,1445.33 338.767,666.938 339.454,814.159 340.14,1439.8 \n",
       "  340.827,654.145 341.514,805.445 342.201,1443.21 342.888,675.922 343.575,1086.48 344.262,1437.5 344.949,730.764 345.636,1185.42 346.323,1419.19 347.009,834.152 \n",
       "  347.696,516.784 348.383,1409.63 349.07,852.748 349.757,600.911 350.444,1415.29 351.131,799.142 351.818,1198.23 352.505,1429.78 353.192,716.299 353.879,1203.88 \n",
       "  354.565,1436.14 355.252,704.463 355.939,1237.09 356.626,1432.49 357.313,736.16 358,1228.94 358.687,1420.15 359.374,815.466 360.061,748.133 360.748,1415.05 \n",
       "  361.435,819.325 362.121,912.088 362.808,1422.48 363.495,765.337 364.182,1416.96 364.869,1436.64 365.556,690.684 366.243,971.941 366.93,1443.32 367.617,677.194 \n",
       "  368.304,969.462 368.991,1441.28 369.677,699.88 370.364,1282.13 371.051,1432 371.738,759.73 372.425,1252.59 373.112,1428.46 373.799,761.975 374.486,1381.19 \n",
       "  375.173,1434.72 375.86,720.272 376.546,1328.17 377.233,1435.75 377.92,734.804 378.607,1284.11 379.294,1427.38 379.981,797.626 380.668,933.351 381.355,1425 \n",
       "  382.042,792.287 382.729,1147.28 383.416,1433.26 384.102,738.841 384.789,1209.95 385.476,1444.63 386.163,670.366 386.85,798.901 387.537,1438.54 388.224,657.776 \n",
       "  388.911,786.453 389.598,1441.68 390.285,678.58 390.972,1051.94 391.658,1439.81 392.345,731 393.032,1253.69 393.719,1423.12 394.406,828.803 395.093,622.656 \n",
       "  395.78,1414.7 396.467,846.936 397.154,697.016 397.841,1420.51 398.527,796.853 399.214,1257.44 399.901,1434.67 400.588,718.176 401.275,1172.05 401.962,1441.03 \n",
       "  402.649,707.596 403.336,1209.68 404.023,1438.23 404.71,739.047 405.397,1265.78 406.083,1427.53 406.77,816.634 407.457,796.578 408.144,1423.92 408.831,821.038 \n",
       "  409.518,950.918 410.205,1431.72 410.892,768.967 411.579,1397.15 412.266,1445.48 412.953,695.992 413.639,966.121 414.326,1439.1 415.013,685.032 415.7,981.247 \n",
       "  416.387,1443.08 417.074,712.249 417.761,1323.4 418.448,1436.71 419.135,777.627 419.822,1183.46 420.508,1431.72 421.195,782.943 421.882,1302.63 422.569,1437.43 \n",
       "  423.256,741.49 423.943,1410.31 424.63,1438.63 425.317,758.517 426.004,1409.92 426.691,1443.1 427.378,730.816 428.064,1329.59 428.751,1443.82 429.438,753.772 \n",
       "  430.125,1387.42 430.812,1443.35 431.499,731.115 432.186,1353.47 432.873,1444.72 433.56,762.263 434.247,1430.97 434.934,1444.16 435.62,744.259 436.307,1429.94 \n",
       "  436.994,1443.74 437.681,780.579 438.368,1288.25 439.055,1442.84 439.742,763.619 440.429,1329.91 441.116,1442.2 441.803,715.757 442.49,1079.23 443.176,1443.27 \n",
       "  443.863,722.642 444.55,1245.01 445.237,1438.65 445.924,769.402 446.611,1415.44 447.298,1435.58 447.985,763.994 448.672,1310.64 449.359,1430.26 450.045,811.099 \n",
       "  450.732,1100.02 451.419,1431.18 452.106,796.318 452.793,1369.77 453.48,1441.94 454.167,742.389 454.854,1246.14 455.541,1445.47 456.228,749.729 456.915,1443.73 \n",
       "  457.601,1439.25 458.288,803.148 458.975,1176.23 459.662,1439.19 460.349,796.339 461.036,1382.08 461.723,1443.57 462.41,747.211 463.097,1277.8 463.784,1441.28 \n",
       "  464.471,759.931 465.157,1374.24 465.844,1441.37 466.531,819.334 467.218,1063.11 467.905,1440.16 468.592,814.281 469.279,1266.57 469.966,1441.24 470.653,763.937 \n",
       "  471.34,1387.27 472.026,1437.64 472.713,777.672 473.4,1363.02 474.087,1436.28 474.774,751.117 475.461,1284.52 476.148,1442.48 476.835,777.827 477.522,1249.8 \n",
       "  478.209,1433.5 478.896,853.586 479.582,831.341 480.269,1427.87 480.956,855.64 481.643,1010.6 482.33,1436.4 483.017,802.555 483.704,1341.92 484.391,1440.95 \n",
       "  485.078,731.73 485.765,934.278 486.452,1437.98 487.138,722.603 487.825,952.971 488.512,1445.37 489.199,751.449 489.886,1286.49 490.573,1429.82 491.26,818.366 \n",
       "  491.947,1230.41 492.634,1423.49 493.321,824.988 494.007,1340.24 494.694,1430.19 495.381,784.37 496.068,1383.92 496.755,1433.48 497.442,802.561 498.129,1388.27 \n",
       "  498.816,1441.42 499.503,775.271 500.19,1314.99 500.877,1444.94 501.563,799.997 502.25,1376.14 502.937,1440.55 503.624,780.331 504.311,1364.63 504.998,1445.49 \n",
       "  505.685,815.029 506.372,1402.07 507.059,1442.6 507.746,798.819 508.433,1386.15 509.119,1439.53 509.806,837.228 510.493,1246.92 511.18,1444.09 511.867,817.471 \n",
       "  512.554,1364.71 513.241,1436.5 513.928,767.509 514.615,1111.96 515.302,1438.3 515.988,775.051 516.675,1284.73 517.362,1441.64 518.049,825.125 518.736,1367.01 \n",
       "  519.423,1439.77 520.11,819.75 520.797,1344.18 521.484,1441.1 522.171,775.918 522.858,1141.21 523.544,1436.49 524.231,787.861 524.918,1359.04 525.605,1444.05 \n",
       "  526.292,846.511 526.979,1232.32 527.666,1436.99 528.353,845.384 529.04,1400 529.727,1445.04 530.414,800.063 531.1,1287.88 531.787,1444.01 532.474,815.881 \n",
       "  533.161,1340.23 533.848,1437.24 534.535,881.648 535.222,1006.66 535.909,1438.16 536.596,878.249 537.283,1204.99 537.97,1441.95 538.656,828.007 539.343,1421.81 \n",
       "  540.03,1444.99 540.717,847.767 541.404,1423.26 542.091,1444.89 542.778,819.306 543.465,1386.36 544.152,1444.54 544.839,846.933 545.525,1443.22 546.212,1443.38 \n",
       "  546.899,826.528 547.586,1435.91 548.273,1443.83 548.96,862.339 549.647,1341.4 550.334,1441.84 551.021,842.896 551.708,1273.85 552.395,1433.45 553.081,792.924 \n",
       "  553.768,1028.58 554.455,1438.21 555.142,799.972 555.829,1185.09 556.516,1438.68 557.203,848.008 557.89,1193.18 558.577,1421.81 559.264,946.323 559.951,628.934 \n",
       "  560.637,1419.55 561.324,959.603 562.011,745.965 562.698,1437.63 563.385,903.661 564.072,1311.82 564.759,1429.18 565.446,821.381 566.133,1143.41 566.82,1426.63 \n",
       "  567.506,815.209 568.193,1204.27 568.88,1442.19 569.567,856.068 570.254,1236.36 570.941,1423.59 571.628,947.637 572.315,733.058 573.002,1415.32 573.689,957.596 \n",
       "  574.376,867.883 575.062,1428.94 575.749,902.875 576.436,1412.08 577.123,1435.34 577.81,822.404 578.497,1044.86 579.184,1418.76 579.871,812.14 580.558,1077.39 \n",
       "  581.245,1424.39 581.932,846.746 582.618,1429.69 583.305,1443.12 583.992,929.765 584.679,975.615 585.366,1425.76 586.053,941.23 586.74,1083.18 587.427,1432.36 \n",
       "  588.114,894.061 588.801,1333.17 589.487,1437.15 590.174,822.174 590.861,950.073 591.548,1424.04 592.235,814.283 592.922,989.351 593.609,1432.27 594.296,848.224 \n",
       "  594.983,1352.68 595.67,1440.02 596.357,924.567 597.043,1132.54 597.73,1437.76 598.417,933.353 599.104,1237.44 599.791,1442.94 600.478,891.571 601.165,1382.23 \n",
       "  601.852,1440.33 602.539,920.432 603.226,1331.21 603.913,1434.46 604.599,894.945 605.286,1376.64 605.973,1433.52 606.66,930.641 607.347,1279.57 608.034,1445.64 \n",
       "  608.721,907.637 609.408,1312.94 610.095,1425.18 610.782,853.06 611.469,1054.25 612.155,1426.14 612.842,860.142 613.529,1208.46 614.216,1443.43 614.903,913.442 \n",
       "  615.59,1442.95 616.277,1427.11 616.964,911.304 617.651,1324.38 618.338,1418.41 619.024,966.008 619.711,1103.32 620.398,1425.92 621.085,952.448 621.772,1359.98 \n",
       "  622.459,1438.28 623.146,894.183 623.833,1268.65 624.52,1424.02 625.207,905.663 625.894,1402.22 626.58,1438.59 627.267,973.212 627.954,1082.7 628.641,1441.69 \n",
       "  629.328,971.271 630.015,1272.33 630.702,1443.94 631.389,921.514 632.076,1417.02 632.763,1441.91 633.45,941.257 634.136,1404.07 634.823,1438.47 635.51,910.612 \n",
       "  636.197,1317.54 636.884,1445.58 637.571,941.335 638.258,1393.7 638.945,1439.04 639.632,920.746 640.319,1376.47 641.005,1440.55 641.692,957.294 642.379,1407.2 \n",
       "  643.066,1443.51 643.753,940.35 644.44,1379.16 645.127,1442.61 645.814,985.729 646.501,1227.23 647.188,1445.61 647.875,970.236 648.561,1405.04 649.248,1443.32 \n",
       "  649.935,917.866 650.622,1166.77 651.309,1431.72 651.996,929.482 652.683,1361.86 653.37,1423.35 654.057,990.001 654.744,1262.07 655.431,1435.26 656.117,984.355 \n",
       "  656.804,1434.79 657.491,1432.43 658.178,935.474 658.865,1241.16 659.552,1442.48 660.239,956.639 660.926,1370.06 661.613,1422.41 662.3,1031.81 662.986,1020.16 \n",
       "  663.673,1422.75 664.36,1030.22 665.047,1214.91 665.734,1438.5 666.421,973.114 667.108,1439.98 667.795,1418.87 668.482,993.769 669.169,1435.26 669.856,1420.77 \n",
       "  670.542,965.723 671.229,1376.28 671.916,1443.3 672.603,1004.93 673.29,1407.81 673.977,1421.92 674.664,985.927 675.351,1408.52 676.038,1415.5 676.725,1030.08 \n",
       "  677.412,1276.22 678.098,1432 678.785,1008.83 679.472,1318.51 680.159,1431.32 680.846,951.746 681.533,1059.6 682.22,1436.48 682.907,962.868 683.594,1247.5 \n",
       "  684.281,1432.1 684.967,1023.19 685.654,1386.88 686.341,1437.56 687.028,1018.82 687.715,1320.06 688.402,1433.7 689.089,972.727 689.776,1135.29 690.463,1445.32 \n",
       "  691.15,994.057 691.837,1406.7 692.523,1415.32 693.21,1068.88 693.897,1146.28 694.584,1416.95 695.271,1068.12 695.958,1332.51 696.645,1439.02 697.332,1012.54 \n",
       "  698.019,1332.01 698.706,1414.76 699.393,1033.84 700.079,1252.4 700.766,1438.01 701.453,1122.64 702.14,831.844 702.827,1434.11 703.514,1124.59 704.201,1038.31 \n",
       "  704.888,1431.9 705.575,1060.6 706.262,1276.49 706.949,1395.28 707.635,971.69 708.322,856.541 709.009,1406.39 709.696,968.24 710.383,890.876 711.07,1441.37 \n",
       "  711.757,1007.63 712.444,1267.51 713.131,1388.75 713.818,1093.74 714.504,1203.72 715.191,1374.91 715.878,1104.1 716.565,1313.84 717.252,1400.09 717.939,1054.77 \n",
       "  718.626,1402.15 719.313,1432.68 720,1079.23 720.687,1412.99 721.374,1424.48 722.06,1050.56 722.747,1368.45 723.434,1434.11 724.121,1094.06 724.808,1397.81 \n",
       "  725.495,1444.82 726.182,1075.02 726.869,1387.48 727.556,1436.29 728.243,1129.22 728.93,1207.68 729.616,1425.63 730.303,1111.95 730.99,1388.76 731.677,1433.3 \n",
       "  732.364,1048.09 733.051,1098.06 733.738,1410.22 734.425,1059.25 735.112,1296.69 735.799,1434.85 736.485,1125.7 737.172,1320.66 737.859,1431.72 738.546,1120.07 \n",
       "  739.233,1366.9 739.92,1441.78 740.607,1068.86 741.294,1167.12 741.981,1445.32 742.668,1088.66 743.355,1432.62 744.041,1444.37 744.728,1166.06 745.415,1117.43 \n",
       "  746.102,1430.86 746.789,1167.75 747.476,1289.34 748.163,1440.05 748.85,1116.02 749.537,1413.31 750.224,1425.6 750.911,1145.01 751.597,1420.61 752.284,1443.31 \n",
       "  752.971,1111.63 753.658,1336.69 754.345,1436.32 755.032,1153.35 755.719,1441.47 756.406,1432.33 757.093,1136.79 757.78,1421.13 758.466,1395.46 759.153,1192.79 \n",
       "  759.84,1257.82 760.527,1406.87 761.214,1172.05 761.901,1315.32 762.588,1425.43 763.275,1104.33 763.962,1007.66 764.649,1380.55 765.336,1114.5 766.022,1202.42 \n",
       "  766.709,1415.83 767.396,1186.95 768.083,1382.01 768.77,1442.8 769.457,1186.94 770.144,1321.84 770.831,1444.22 771.518,1138.08 772.205,1132.9 772.892,1425.04 \n",
       "  773.578,1162.3 774.265,1421.39 774.952,1427.94 775.639,1246.7 776.326,1105.66 777.013,1445.47 777.7,1249.94 778.387,1285.32 779.074,1434.01 779.761,1195.95 \n",
       "  780.448,1409.14 781.134,1402.56 781.821,1228.55 782.508,1418.79 783.195,1424.32 783.882,1193.34 784.569,1329.22 785.256,1439.6 785.943,1239.47 786.63,1443.11 \n",
       "  787.317,1443.87 788.003,1216.47 788.69,1433.75 789.377,1445.19 790.064,1276.33 790.751,1273.57 791.438,1440.7 792.125,1257.24 792.812,1287.71 793.499,1426.33 \n",
       "  794.186,1192.78 794.873,999.565 795.559,1426.47 796.246,1213.23 796.933,1249.46 797.62,1364.56 798.307,1295.49 798.994,1311.61 799.681,1367.42 800.368,1292.06 \n",
       "  801.055,1352.58 801.742,1432.22 802.429,1228.48 803.115,1090.62 803.802,1409.55 804.489,1251.3 805.176,1394.9 805.863,1443.51 806.55,1349.8 807.237,1064.38 \n",
       "  807.924,1407.13 808.611,1353.82 809.298,1280.97 809.984,1439.38 810.671,1285.15 811.358,1336.97 812.045,1405.21 812.732,1315.88 813.419,1343.63 814.106,1431.82 \n",
       "  814.793,1287.46 815.48,1292.57 816.167,1413.19 816.854,1339.17 817.54,1402.96 818.227,1436.25 818.914,1313.42 819.601,1384.13 820.288,1437.72 820.975,1376.76 \n",
       "  821.662,1318.18 822.349,1434.49 823.036,1356.56 823.723,1221.03 824.41,1399.92 825.096,1288.98 825.783,914.449 826.47,1444.18 827.157,1311.57 827.844,1179.28 \n",
       "  828.531,1376.92 829.218,1399.28 829.905,1361.21 830.592,1385.54 831.279,1395.93 831.965,1292.47 832.652,1423.32 833.339,1324.82 834.026,1018.98 834.713,1357.12 \n",
       "  835.4,1351.37 836.087,1345 836.774,1411.82 837.461,1431.66 838.148,1084.32 838.835,1427.67 839.521,1438.45 840.208,1415.55 840.895,1442.34 841.582,1365.71 \n",
       "  842.269,1131.63 842.956,1423 843.643,1376.76 844.33,1367.34 845.017,1443.06 845.704,1433.45 846.391,1198.12 847.077,1410.25 847.764,1442.24 848.451,1375.46 \n",
       "  849.138,1416.41 849.825,1359.66 850.512,1057.65 851.199,1440.32 851.886,1367.87 852.573,1249.06 853.26,1440.24 853.947,1439.79 854.633,1369.95 855.32,1409.66 \n",
       "  856.007,1436.38 856.694,1331.31 857.381,1435.19 858.068,1384.25 858.755,1146.46 859.442,1406.61 860.129,1414.89 860.816,1435.34 861.502,1403.14 862.189,1389.46 \n",
       "  862.876,1161.95 863.563,1400.41 864.25,1433.64 864.937,1292.59 865.624,1280.94 866.311,1357.6 866.998,929.644 867.685,1420.2 868.372,1355.91 869.058,1049.9 \n",
       "  869.745,1241.4 870.432,1412.56 871.119,1351.36 871.806,1126.75 872.493,1368.98 873.18,932.109 873.867,1115.6 874.554,1405.54 875.241,1334.55 875.928,1201.28 \n",
       "  876.614,1367.76 877.301,1132.1 877.988,1298.75 878.675,1350.98 879.362,1205.78 880.049,1398.79 880.736,1369.74 881.423,1197.69 882.11,1436.02 882.797,1404.32 \n",
       "  883.483,707.11 884.17,1442.52 884.857,1437.31 885.544,1108.9 886.231,1445.63 886.918,1322.28 887.605,1427.82 888.292,1331.12 888.979,1412.42 889.666,1375.08 \n",
       "  890.353,1291.26 891.039,1358.32 891.726,1219.44 892.413,1302.54 893.1,1384.25 893.787,1381.84 894.474,1335.37 895.161,1423.3 895.848,1135.68 896.535,1438.26 \n",
       "  897.222,1434.37 897.909,1425.23 898.595,1304 899.282,1355.19 899.969,1161.03 900.656,1294.64 901.343,1372.11 902.03,1382.43 902.717,1360.96 903.404,1424.29 \n",
       "  904.091,1155.39 904.778,1408.16 905.464,1422.71 906.151,1398.24 906.838,1344.63 907.525,1387.3 908.212,1178.53 908.899,1348.61 909.586,1394.23 910.273,1335.29 \n",
       "  910.96,1381.82 911.647,1425.15 912.334,1321.98 913.02,1408.17 913.707,1442.6 914.394,1241.95 915.081,1338.68 915.768,1357.89 916.455,934.31 917.142,1330.63 \n",
       "  917.829,1358.13 918.516,1034.24 919.203,1356.88 919.89,1417.71 920.576,1388.91 921.263,1404.74 921.95,1354.39 922.637,946.605 923.324,1435.93 924.011,1370.76 \n",
       "  924.698,1273.67 925.385,1402.28 926.072,1411.24 926.759,1172.4 927.445,1394.7 928.132,1391.58 928.819,1227.16 929.506,1399.79 930.193,1445.62 930.88,1169.79 \n",
       "  931.567,1414.24 932.254,1323.16 932.941,711.557 933.628,1444.76 934.315,1351.87 935.001,1117.57 935.688,1414.05 936.375,1414.89 937.062,1265.15 937.749,1410.03 \n",
       "  938.436,1391.16 939.123,1315.19 939.81,1430.13 940.497,1444.01 941.184,1394.78 941.871,1442.93 942.557,1432.19 943.244,1313.87 943.931,1444.08 944.618,1397.43 \n",
       "  945.305,1195.91 945.992,1440.05 946.679,1442.62 947.366,1249.06 948.053,1444.24 948.74,1342.55 949.427,877.508 950.113,1433.39 950.8,1329.86 951.487,900.768 \n",
       "  952.174,1437.33 952.861,1370.93 953.548,1220.79 954.235,1438.91 954.922,1422.03 955.609,1281.87 956.296,1422.38 956.982,1415.04 957.669,1423.41 958.356,1424.12 \n",
       "  959.043,1407.57 959.73,1188.01 960.417,1444.48 961.104,1428.13 961.791,1429.02 962.478,1424.59 963.165,1382.38 963.852,1229.44 964.538,1425.39 965.225,1416.28 \n",
       "  965.912,1295.75 966.599,1444.79 967.286,1383.01 967.973,956.777 968.66,1429.98 969.347,1378.12 970.034,1035.32 970.721,1437.83 971.408,1432.28 972.094,1420.47 \n",
       "  972.781,1439.91 973.468,1349.03 974.155,1017.1 974.842,1443.32 975.529,1368.67 976.216,1338.24 976.903,1428.91 977.59,1417.98 978.277,1135.27 978.963,1435.74 \n",
       "  979.65,1399.11 980.337,1190.37 981.024,1442.97 981.711,1441.35 982.398,1236.44 983.085,1445.61 983.772,1326.09 984.459,805.881 985.146,1437.05 985.833,1351.65 \n",
       "  986.519,1172.7 987.206,1443.25 987.893,1422.83 988.58,1248.6 989.267,1439.21 989.954,1400.33 990.641,1298.52 991.328,1444.62 992.015,1437.76 992.702,1423.07 \n",
       "  993.389,1438.44 994.075,1439.45 994.762,1340.98 995.449,1441.18 996.136,1390.61 996.823,1218.85 997.51,1430.51 998.197,1439.81 998.884,1244.63 999.571,1440.95 \n",
       "  1000.26,1353.39 1000.94,882.93 1001.63,1440.45 1002.32,1341.26 1003.01,909.102 1003.69,1440.04 1004.38,1383.27 1005.07,1229.37 1005.75,1425.2 1006.44,1419.93 \n",
       "  1007.13,1367.34 1007.81,1430.43 1008.5,1436.7 1009.19,1268.12 1009.87,1438.72 1010.56,1377.22 1011.25,1002.98 1011.93,1419.33 1012.62,1381.74 1013.31,1133.98 \n",
       "  1014,1425.83 1014.68,1444.65 1015.37,1245.54 1016.06,1440.72 1016.74,1317.48 1017.43,763.319 1018.12,1421.31 1018.8,1333.81 1019.49,1103.83 1020.18,1425.32 \n",
       "  1020.86,1443.15 1021.55,1319.99 1022.24,1442.18 1022.93,1423.47 1023.61,1389.75 1024.3,1436.11 1024.99,1419.41 1025.67,1396.89 1026.36,1440.98 1027.05,1435.27 \n",
       "  1027.73,1415.97 1028.42,1440.88 1029.11,1415.89 1029.79,1373.51 1030.48,1440.33 1031.17,1429.32 1031.86,1441.45 1032.54,1430.4 1033.23,1428.98 1033.92,1441.97 \n",
       "  1034.6,1438.27 1035.29,1415.43 1035.98,1357.89 1036.66,1441.5 1037.35,1437.19 1038.04,1432.6 1038.72,1442.68 1039.41,1429.79 1040.1,1431.9 1040.79,1435.02 \n",
       "  1041.47,1414.32 1042.16,1402.32 1042.85,1444.13 1043.53,1429.29 1044.22,1342.25 1044.91,1436.17 1045.59,1440.87 1046.28,1250.49 1046.97,1439.72 1047.65,1352.46 \n",
       "  1048.34,964.875 1049.03,1443.29 1049.71,1389.69 1050.4,1357.29 1051.09,1442.03 1051.78,1399.41 1052.46,1165.68 1053.15,1432.08 1053.84,1395.55 1054.52,1275.06 \n",
       "  1055.21,1436.3 1055.9,1432.35 1056.58,1407.9 1057.27,1436.21 1057.96,1443.37 1058.64,1393.02 1059.33,1418 1060.02,1409.51 1060.71,1358.28 1061.39,1421.22 \n",
       "  1062.08,1435.75 1062.77,1435.67 1063.45,1442.78 1064.14,1422.21 1064.83,1427.99 1065.51,1430.94 1066.2,1421.63 1066.89,1366.54 1067.57,1431.08 1068.26,1432.02 \n",
       "  1068.95,1437.25 1069.64,1445.26 1070.32,1434.67 1071.01,1433.82 1071.7,1431.6 1072.38,1410.2 1073.07,1402.57 1073.76,1436.87 1074.44,1433.55 1075.13,1342.21 \n",
       "  1075.82,1445.59 1076.5,1437.12 1077.19,1254.09 1077.88,1440.58 1078.56,1348.89 1079.25,966.203 1079.94,1434.43 1080.63,1385.97 1081.31,1356.63 1082,1442.96 \n",
       "  1082.69,1402.58 1083.37,1164.19 1084.06,1429.95 1084.75,1398.24 1085.43,1272.68 1086.12,1440.31 1086.81,1429.44 1087.49,1407.41 1088.18,1439.58 1088.87,1443.98 \n",
       "  1089.56,1388.45 1090.24,1445.12 1090.93,1405.8 1091.62,1356.01 1092.3,1434.43 1092.99,1429.1 1093.68,1366.42 1094.36,1443.7 1095.05,1445.46 1095.74,1360.31 \n",
       "  1096.42,1436.99 1097.11,1408.18 1097.8,1301.8 1098.49,1442.81 1099.17,1442.16 1099.86,1389.87 1100.55,1440.13 1101.23,1430.51 1101.92,1409.56 1102.61,1439.78 \n",
       "  1103.29,1411.32 1103.98,1412.88 1104.67,1428.91 1105.35,1434.95 1106.04,1341.01 1106.73,1435.23 1107.42,1444.89 1108.1,1348.83 1108.79,1437.7 1109.48,1386.59 \n",
       "  1110.16,1183.37 1110.85,1417.56 1111.54,1435.33 1112.22,1320.04 1112.91,1418.48 1113.6,1357.97 1114.28,980.562 1114.97,1438.44 1115.66,1347.93 1116.34,1040.51 \n",
       "  1117.03,1432.24 1117.72,1395.23 1118.41,1422.34 1119.09,1429.41 1119.78,1397.51 1120.47,1116.6 1121.15,1443.82 1121.84,1415.31 1122.53,1396.43 1123.21,1429.7 \n",
       "  1123.9,1390.37 1124.59,1202.69 1125.27,1435.27 1125.96,1397.29 1126.65,1371.64 1127.34,1444.74 1128.02,1418.91 1128.71,1256.33 1129.4,1441.1 1130.08,1429.32 \n",
       "  1130.77,1381.14 1131.46,1437.1 1132.14,1386.86 1132.83,1111.91 1133.52,1443.23 1134.2,1394.99 1134.89,1258.83 1135.58,1433.61 1136.27,1425.3 1136.95,1393.86 \n",
       "  1137.64,1443.43 1138.33,1432.63 1139.01,1345.54 1139.7,1436.02 1140.39,1388.05 1141.07,1291.64 1141.76,1444.66 1142.45,1443.3 1143.13,1434.56 1143.82,1436.67 \n",
       "  1144.51,1434.83 1145.19,1351.68 1145.88,1444.83 1146.57,1397.71 1147.26,1204.17 1147.94,1434.92 1148.63,1419.44 1149.32,1418.21 1150,1438.98 1150.69,1392.41 \n",
       "  1151.38,1163.01 1152.06,1443.88 1152.75,1423.31 1153.44,1401.37 1154.12,1440.46 1154.81,1378.78 1155.5,1090.34 1156.19,1429.8 1156.87,1377.38 1157.56,1198.34 \n",
       "  1158.25,1434.24 1158.93,1437.44 1159.62,1209.62 1160.31,1440.9 1160.99,1334.25 1161.68,761.185 1162.37,1422.19 1163.05,1351.67 1163.74,1087.94 1164.43,1424.13 \n",
       "  1165.12,1429.64 1165.8,1359.89 1166.49,1444 1167.18,1412.48 1167.86,1440.66 1168.55,1426.37 1169.24,1429.69 1169.92,1342.69 1170.61,1427.52 1171.3,1425.22 \n",
       "  1171.98,1361.53 1172.67,1441.82 1173.36,1426.72 1174.04,1318.48 1174.73,1433.25 1175.42,1419.82 1176.11,1386.88 1176.79,1440.32 1177.48,1437.5 1178.17,1373.57 \n",
       "  1178.85,1442.78 1179.54,1407.01 1180.23,1426.78 1180.91,1439.68 1181.6,1445.72 1182.29,1388.45 1182.97,1428.43 1183.66,1422.15 1184.35,1382.24 1185.04,1439.96 \n",
       "  1185.72,1420.48 1186.41,1319.24 1187.1,1439.99 1187.78,1432.8 1188.47,1376.36 1189.16,1444.97 1189.84,1420.63 1190.53,1359.65 1191.22,1434.41 1191.9,1426.44 \n",
       "  1192.59,1445.37 1193.28,1445.57 1193.97,1432.81 1194.65,1445.5 1195.34,1434.21 1196.03,1413.47 1196.71,1349.27 1197.4,1440.28 1198.09,1441.49 1198.77,1413.79 \n",
       "  1199.46,1442.39 1200.15,1428.15 1200.83,1414.85 1201.52,1441.96 1202.21,1417.96 1202.9,1425.72 1203.58,1435.74 1204.27,1437.81 1204.96,1411.59 1205.64,1441.01 \n",
       "  1206.33,1416.85 1207.02,1430.29 1207.7,1427.52 1208.39,1433.29 1209.08,1348.93 1209.76,1431.55 1210.45,1428.94 1211.14,1342.96 1211.82,1439.2 1212.51,1419.2 \n",
       "  1213.2,1249.93 1213.89,1420.5 1214.57,1437.97 1215.26,1308.64 1215.95,1429.32 1216.63,1342.89 1217.32,991.483 1218.01,1439.11 1218.69,1369.75 1219.38,1332.83 \n",
       "  1220.07,1421.66 1220.75,1417.11 1221.44,1141.87 1222.13,1423.79 1222.82,1393.75 1223.5,1164.91 1224.19,1437.85 1224.88,1435.95 1225.56,1339.32 1226.25,1441.68 \n",
       "  1226.94,1355.74 1227.62,976.041 1228.31,1442.67 1229,1378 1229.68,1283.12 1230.37,1435.83 1231.06,1419.6 1231.75,1286.75 1232.43,1445.47 1233.12,1423.43 \n",
       "  1233.81,1440.32 1234.49,1436.35 1235.18,1402.77 1235.87,1265.86 1236.55,1445.11 1237.24,1439.31 1237.93,1287.45 1238.61,1435.88 1239.3,1364.72 1239.99,981.131 \n",
       "  1240.67,1444.4 1241.36,1358.82 1242.05,1046.88 1242.74,1438.88 1243.42,1408.53 1244.11,1427.9 1244.8,1438.26 1245.48,1382.21 1246.17,1107.33 1246.86,1425.02 \n",
       "  1247.54,1396.96 1248.23,1373.36 1248.92,1433.93 1249.6,1410.28 1250.29,1232.14 1250.98,1435.22 1251.67,1417.26 1252.35,1399.13 1253.04,1416.21 1253.73,1409.05 \n",
       "  1254.41,1318.07 1255.1,1421.49 1255.79,1442.65 1256.47,1372.3 1257.16,1445.33 1257.85,1417.82 1258.53,1385.37 1259.22,1426.19 1259.91,1420.28 1260.6,1396.96 \n",
       "  1261.28,1426.25 1261.97,1438.23 1262.66,1434.65 1263.34,1442.44 1264.03,1426.71 1264.72,1442.06 1265.4,1433.97 1266.09,1421.1 1266.78,1392.25 1267.46,1440.27 \n",
       "  1268.15,1432.79 1268.84,1444.11 1269.52,1440.1 1270.21,1423.14 1270.9,1433.48 1271.59,1440.4 1272.27,1425.08 1272.96,1373.68 1273.65,1429.17 1274.33,1437.1 \n",
       "  1275.02,1369.48 1275.71,1439 1276.39,1411.75 1277.08,1282.87 1277.77,1438.91 1278.45,1444.44 1279.14,1274.14 1279.83,1443.73 1280.52,1349.03 1281.2,960.884 \n",
       "  1281.89,1438.03 1282.58,1376.64 1283.26,1304.23 1283.95,1444.78 1284.64,1419.66 1285.32,1250.88 1286.01,1432.37 1286.7,1421.3 1287.38,1388.28 1288.07,1437.4 \n",
       "  1288.76,1410.46 1289.45,1356.61 1290.13,1444.61 1290.82,1444.66 1291.51,1427.08 1292.19,1442.73 1292.88,1426.85 1293.57,1435.21 1294.25,1435.33 1294.94,1411.63 \n",
       "  1295.63,1324.72 1296.31,1441.35 1297,1442.39 1297.69,1379.24 1298.38,1426.28 1299.06,1417.9 1299.75,1372.39 1300.44,1430.02 1301.12,1432.74 1301.81,1414.66 \n",
       "  1302.5,1440.17 1303.18,1422.02 1303.87,1356.99 1304.56,1420.75 1305.24,1436.67 1305.93,1368.88 1306.62,1425.87 1307.3,1415.09 1307.99,1295.23 1308.68,1440.93 \n",
       "  1309.37,1437.82 1310.05,1243.48 1310.74,1416.42 1311.43,1338.16 1312.11,913.989 1312.8,1415.88 1313.49,1365.67 1314.17,1264.46 1314.86,1433.86 1315.55,1417.76 \n",
       "  1316.23,1198.7 1316.92,1440.03 1317.61,1394.59 1318.3,1227.29 1318.98,1443.4 1319.67,1440.47 1320.36,1253.6 1321.04,1430.07 1321.73,1345.87 1322.42,873.728 \n",
       "  1323.1,1438.99 1323.79,1369.39 1324.48,1196.72 1325.16,1438.54 1325.85,1414.58 1326.54,1277.5 1327.23,1444.1 1327.91,1394.47 1328.6,1334.15 1329.29,1430.39 \n",
       "  1329.97,1445.02 1330.66,1389.93 1331.35,1437.45 1332.03,1434.55 1332.72,1316.11 1333.41,1443.16 1334.09,1381.4 1334.78,1141.33 1335.47,1441.3 1336.15,1403.38 \n",
       "  1336.84,1347.06 1337.53,1437.69 1338.22,1414.44 1338.9,1342.52 1339.59,1438.71 1340.28,1439.14 1340.96,1366.8 1341.65,1422.88 1342.34,1409.43 1343.02,1364.66 \n",
       "  1343.71,1429.07 1344.4,1431.64 1345.08,1429.47 1345.77,1441.79 1346.46,1434.37 1347.15,1414.79 1347.83,1419.96 1348.52,1409.71 1349.21,1318.4 1349.89,1426.55 \n",
       "  1350.58,1443.65 1351.27,1380.34 1351.95,1440.37 1352.64,1422.78 1353.33,1384.3 1354.01,1417.18 1354.7,1424.8 1355.39,1434.03 1356.08,1417.6 1356.76,1431.72 \n",
       "  1357.45,1381.78 1358.14,1432.36 1358.82,1425.76 1359.51,1393.95 1360.2,1442.33 1360.88,1425.59 1361.57,1319.18 1362.26,1441.3 1362.94,1436.85 1363.63,1308.05 \n",
       "  1364.32,1429.13 1365,1365.65 1365.69,1093.01 1366.38,1439.1 1367.07,1406.89 1367.75,1434.54 1368.44,1437.78 1369.13,1387.9 1369.81,1103.86 1370.5,1443.82 \n",
       "  1371.19,1382.19 1371.87,1191.42 1372.56,1429.4 1373.25,1437.91 1373.93,1257.93 1374.62,1433.59 1375.31,1341 1376,849.067 1376.68,1434.52 1377.37,1359.21 \n",
       "  1378.06,1155.75 1378.74,1408.58 1379.43,1426.34 1380.12,1323.06 1380.8,1412.81 1381.49,1408.62 1382.18,1394.59 1382.86,1440.26 1383.55,1425.63 1384.24,1308.69 \n",
       "  1384.93,1427.08 1385.61,1444.95 1386.3,1312.49 1386.99,1429.37 1387.67,1367.89 1388.36,1047.92 1389.05,1444.15 1389.73,1370.28 1390.42,1154.23 1391.11,1428.15 \n",
       "  1391.79,1430.37 1392.48,1289.15 1393.17,1439.61 1393.86,1345.31 1394.54,870.241 1395.23,1439.6 1395.92,1358.81 1396.6,1159.34 1397.29,1438.86 1397.98,1429.63 \n",
       "  1398.66,1327.69 1399.35,1424.46 1400.04,1413.31 1400.72,1404.56 1401.41,1437.73 1402.1,1430.46 1402.78,1381.62 1403.47,1439.96 1404.16,1427.28 1404.85,1393.33 \n",
       "  1405.53,1444.02 1406.22,1425.49 1406.91,1349.53 1407.59,1432.35 1408.28,1423.64 1408.97,1409.2 1409.65,1445.58 1410.34,1434.35 1411.03,1394.35 1411.71,1432.4 \n",
       "  1412.4,1412.32 1413.09,1414.83 1413.78,1439.2 1414.46,1440.63 1415.15,1400.4 1415.84,1442.52 1416.52,1429.42 1417.21,1389.28 1417.9,1441.9 1418.58,1414.12 \n",
       "  1419.27,1330.16 1419.96,1435.15 1420.64,1430.68 1421.33,1423.11 1422.02,1440.8 1422.71,1438.57 1423.39,1433.81 1424.08,1424.81 1424.77,1420.62 1425.45,1391.49 \n",
       "  1426.14,1429.03 1426.83,1435.25 1427.51,1409.89 1428.2,1439.76 1428.89,1416.61 1429.57,1336.82 1430.26,1418.83 1430.95,1435.41 1431.63,1414.95 1432.32,1425.66 \n",
       "  1433.01,1438.6 1433.7,1431.03 1434.38,1438.52 1435.07,1404.08 1435.76,1396.95 1436.44,1415.91 1437.13,1443.79 1437.82,1363.4 1438.5,1415.85 1439.19,1436.95 \n",
       "  1439.88,1339.56 1440.56,1430.8 1441.25,1381.9 1441.94,1185.42 1442.63,1443.52 1443.31,1429.92 1444,1341.45 1444.69,1443.49 1445.37,1365.78 1446.06,1021.85 \n",
       "  1446.75,1433.88 1447.43,1355.76 1448.12,1081.23 1448.81,1442.94 1449.49,1402.48 1450.18,1440.87 1450.87,1439.41 1451.56,1391.35 1452.24,1096.42 1452.93,1440.08 \n",
       "  1453.62,1406.85 1454.3,1352.9 1454.99,1428.82 1455.68,1400.89 1456.36,1262.38 1457.05,1437.22 1457.74,1408.38 1458.42,1431.75 1459.11,1445.58 1459.8,1417.33 \n",
       "  1460.48,1284.42 1461.17,1443.53 1461.86,1439.93 1462.55,1289.63 1463.23,1434.42 1463.92,1355.96 1464.61,1003.47 1465.29,1442.06 1465.98,1352.94 1466.67,1080.73 \n",
       "  1467.35,1424.11 1468.04,1404.91 1468.73,1426.34 1469.41,1426.12 1470.1,1384.98 1470.79,1072.08 1471.48,1444.02 1472.16,1399.64 1472.85,1332.52 1473.54,1420.05 \n",
       "  1474.22,1408.21 1474.91,1281.94 1475.6,1426.37 1476.28,1417.67 1476.97,1430.13 1477.66,1436.91 1478.34,1405.09 1479.03,1245.95 1479.72,1413.67 1480.41,1438.98 \n",
       "  1481.09,1322.02 1481.78,1415.86 1482.47,1366.5 1483.15,1026.07 1483.84,1432.93 1484.53,1362.26 1485.21,1100.27 1485.9,1443.33 1486.59,1414.62 1487.27,1398.62 \n",
       "  1487.96,1437.17 1488.65,1372.67 1489.34,1032.42 1490.02,1425.43 1490.71,1386.98 1491.4,1297.62 1492.08,1437.63 1492.77,1418.58 1493.46,1306.96 1494.14,1441.36 \n",
       "  1494.83,1427.51 1495.52,1403.6 1496.2,1436.54 1496.89,1394.51 1497.58,1217.34 1498.26,1422.92 1498.95,1429.45 1499.64,1342.89 1500.33,1433.27 1501.01,1374.31 \n",
       "  1501.7,1040.39 1502.39,1444.3 1503.07,1370.37 1503.76,1117.79 1504.45,1445.01 1505.13,1423.34 1505.82,1376.58 1506.51,1443.3 1507.19,1362.85 1507.88,1006.03 \n",
       "  1508.57,1445.16 1509.26,1377.82 1509.94,1277 1510.63,1438.7 1511.32,1416.92 1512,1245.25 1512.69,1436.54 1513.38,1401.06 1514.06,1313.37 1514.75,1417.59 \n",
       "  1515.44,1436.89 1516.12,1406.79 1516.81,1421.29 1517.5,1445.7 1518.19,1314.69 1518.87,1443.45 1519.56,1395.17 1520.25,1148.88 1520.93,1427.39 1521.62,1419.18 \n",
       "  1522.31,1359.14 1522.99,1436.96 1523.68,1396.83 1524.37,1327.4 1525.05,1442.83 1525.74,1421.43 1526.43,1279.8 1527.11,1442.19 1527.8,1392.79 1528.49,1014.18 \n",
       "  1529.18,1434.97 1529.86,1393.84 1530.55,1104.51 1531.24,1444.3 1531.92,1441.67 1532.61,1380.34 1533.3,1432.46 1533.98,1333.65 1534.67,1000.48 1535.36,1444.66 \n",
       "  1536.04,1346.94 1536.73,1268.22 1537.42,1434.8 1538.11,1444.49 1538.79,1249.24 1539.48,1445.47 1540.17,1429.98 1540.85,1313.78 1541.54,1434.46 1542.23,1418.37 \n",
       "  1542.91,1405.11 1543.6,1444.3 1544.29,1431.32 1544.97,1313.96 1545.66,1429.28 1546.35,1440.21 1547.04,1291.03 1547.72,1435.17 1548.41,1358.37 1549.1,1020.95 \n",
       "  1549.78,1445.63 1550.47,1392.9 1551.16,1354.62 1551.84,1440.79 1552.53,1401.61 1553.22,1214.25 1553.9,1433.15 1554.59,1399.85 1555.28,1334.51 1555.96,1439.72 \n",
       "  1556.65,1425.67 1557.34,1339.74 1558.03,1421.19 1558.71,1437.61 1559.4,1319.58 1560.09,1428.39 1560.77,1382.93 1561.46,1080.77 1562.15,1439.24 1562.83,1390.52 \n",
       "  1563.52,1208.05 1564.21,1417.89 1564.89,1434.41 1565.58,1203.52 1566.27,1428.88 1566.96,1309.71 1567.64,754.967 1568.33,1438.67 1569.02,1325.69 1569.7,1077.18 \n",
       "  1570.39,1431.97 1571.08,1435.77 1571.76,1383.25 1572.45,1441.19 1573.14,1437.32 1573.82,1438.19 1574.51,1420.06 1575.2,1406.63 1575.89,1340.88 1576.57,1424.93 \n",
       "  1577.26,1438.07 1577.95,1441.7 1578.63,1443.03 1579.32,1442.91 1580.01,1385.42 1580.69,1418.4 1581.38,1392.09 1582.07,1264.1 1582.75,1426.47 1583.44,1416.89 \n",
       "  1584.13,1345.62 1584.82,1433.79 1585.5,1390.55 1586.19,1077.13 1586.88,1408.07 1587.56,1419.91 1588.25,1390.54 1588.94,1409.56 1589.62,1380.2 1590.31,1195.77 \n",
       "  1591,1427.25 1591.68,1380.02 1592.37,1315.27 1593.06,1431.78 1593.74,1444.72 1594.43,1365.9 1595.12,1400.38 1595.81,1444.44 1596.49,1381.42 1597.18,1403.48 \n",
       "  1597.87,1398.59 1598.55,1233.94 1599.24,1433.55 1599.93,1429.83 1600.61,1407.46 1601.3,1428.26 1601.99,1376.28 1602.67,1170.88 1603.36,1428.95 1604.05,1401.19 \n",
       "  1604.74,1411.55 1605.42,1438.57 1606.11,1406.03 1606.8,1116.1 1607.48,1415.97 1608.17,1407.72 1608.86,1220.48 1609.54,1427.3 1610.23,1431.12 1610.92,1299.11 \n",
       "  1611.6,1431.36 1612.29,1340.72 1612.98,989.339 1613.67,1404.74 1614.35,1370.03 1615.04,1308.52 1615.73,1405.76 1616.41,1415.64 1617.1,1187.97 1617.79,1423.93 \n",
       "  1618.47,1390.94 1619.16,1214.67 1619.85,1435.06 1620.53,1433.23 1621.22,1295.9 1621.91,1406.34 1622.59,1358.44 1623.28,940.198 1623.97,1410.76 1624.66,1380.42 \n",
       "  1625.34,1233.55 1626.03,1437.39 1626.72,1418.21 1627.4,1353.58 1628.09,1428.05 1628.78,1424.23 1629.46,1364.85 1630.15,1427.38 1630.84,1399.76 1631.52,1188.29 \n",
       "  1632.21,1442.58 1632.9,1437.67 1633.59,1364.58 1634.27,1418.26 1634.96,1364.3 1635.65,1061.39 1636.33,1426.78 1637.02,1360.18 1637.71,1138.77 1638.39,1433.32 \n",
       "  1639.08,1414.53 1639.77,1352.38 1640.45,1404.09 1641.14,1370.49 1641.83,983.753 1642.52,1402.01 1643.2,1385.36 1643.89,1253.07 1644.58,1420.14 1645.26,1418.39 \n",
       "  1645.95,1348.06 1646.64,1438.28 1647.32,1426.84 1648.01,1363.91 1648.7,1409.25 1649.38,1394.75 1650.07,1178.43 1650.76,1413.16 1651.44,1429.89 1652.13,1381.21 \n",
       "  1652.82,1439.27 1653.51,1373.64 1654.19,1080.6 1654.88,1426.68 1655.57,1370.49 1656.25,1161.68 1656.94,1426.38 1657.63,1425.41 1658.31,1322.15 1659,1444.24 \n",
       "  1659.69,1358.37 1660.37,946.331 1661.06,1426.65 1661.75,1373.34 1662.44,1219.95 1663.12,1433.6 1663.81,1419.52 1664.5,1296.04 1665.18,1445.48 1665.87,1402.97 \n",
       "  1666.56,1364.25 1667.24,1440.95 1667.93,1433.13 1668.62,1348.88 1669.3,1431.42 1669.99,1439.21 1670.68,1292.38 1671.37,1443.58 1672.05,1365.61 1672.74,1046.59 \n",
       "  1673.43,1426.96 1674.11,1369.87 1674.8,1155.78 1675.49,1441.27 1676.17,1430.97 1676.86,1299.95 1677.55,1431.14 1678.23,1346.37 1678.92,897.923 1679.61,1440.14 \n",
       "  1680.3,1359.34 1680.98,1172.55 1681.67,1436.53 1682.36,1431.91 1683.04,1335.63 1683.73,1442.14 1684.42,1416.61 1685.1,1414.58 1685.79,1424.53 1686.48,1427.68 \n",
       "  1687.16,1375.5 1687.85,1433.3 1688.54,1430.08 1689.22,1386.33 1689.91,1443.55 1690.6,1422.46 1691.29,1340.23 1691.97,1444.99 1692.66,1427.02 1693.35,1398.36 \n",
       "  1694.03,1438.61 1694.72,1431.45 1695.41,1384.39 1696.09,1435.69 1696.78,1416.14 1697.47,1431.34 1698.15,1416.45 1698.84,1435.69 1699.53,1381.29 1700.22,1421.86 \n",
       "  1700.9,1435.11 1701.59,1369.34 1702.28,1445.01 1702.96,1408.19 1703.65,1310.99 1704.34,1421.78 1705.02,1436.53 1705.71,1444.54 1706.4,1429.4 1707.08,1443.72 \n",
       "  1707.77,1374.8 1708.46,1434.09 1709.15,1393.37 1709.83,1246.51 1710.52,1407.99 1711.21,1417.56 1711.89,1385.83 1712.58,1405.17 1713.27,1393.93 1713.95,1141.48 \n",
       "  1714.64,1422.42 1715.33,1423.14 1716.01,1444.68 1716.7,1431.9 1717.39,1380.34 1718.07,1154.5 1718.76,1398.13 1719.45,1380.5 1720.14,1266.74 1720.82,1403.82 \n",
       "  1721.51,1443.72 1722.2,1422.9 1722.88,1434.99 1723.57,1445.57 1724.26,1336.51 1724.94,1429.41 1725.63,1402.98 1726.32,1197.26 1727,1429.91 1727.69,1433.32 \n",
       "  1728.38,1432.13 1729.07,1442.03 1729.75,1376.46 1730.44,1236.97 1731.13,1419.98 1731.81,1399.87 1732.5,1364.03 1733.19,1427.43 1733.87,1412.08 1734.56,1088.9 \n",
       "  1735.25,1433.48 1735.93,1415.49 1736.62,1194.64 1737.31,1404.59 1738,1424.27 1738.68,1338.76 1739.37,1400.79 1740.06,1337.79 1740.74,1045.18 1741.43,1417.24 \n",
       "  1742.12,1367.66 1742.8,1353.47 1743.49,1437.89 1744.18,1420.11 1744.86,1157.77 1745.55,1403.79 1746.24,1395.74 1746.92,1184.79 1747.61,1408.8 1748.3,1437.7 \n",
       "  1748.99,1336.91 1749.67,1441.54 1750.36,1355.83 1751.05,992.312 1751.73,1422.13 1752.42,1377.57 1753.11,1275.99 1753.79,1425.34 1754.48,1422.27 1755.17,1318.92 \n",
       "  1755.85,1443.9 1756.54,1427.12 1757.23,1410.15 1757.92,1423.69 1758.6,1398.99 1759.29,1240.41 1759.98,1433.18 1760.66,1434.83 1761.35,1331.12 1762.04,1444.69 \n",
       "  1762.72,1369.8 1763.41,1040.46 1764.1,1443.46 1764.78,1366.03 1765.47,1115.57 1766.16,1432.76 1766.85,1418.86 1767.53,1393.7 1768.22,1444.45 1768.91,1369.57 \n",
       "  1769.59,1042.16 1770.28,1431.19 1770.97,1383.67 1771.65,1298.09 1772.34,1441.98 1773.03,1423.85 1773.71,1320.23 1774.4,1433.94 1775.09,1433.77 1775.78,1392.81 \n",
       "  1776.46,1442.33 1777.15,1388.73 1777.84,1213.78 1778.52,1435.98 1779.21,1423.42 1779.9,1355.62 1780.58,1443.28 1781.27,1381.63 1781.96,1064.4 1782.64,1427.16 \n",
       "  1783.33,1378.7 1784.02,1143.04 1784.7,1434.33 1785.39,1432.99 1786.08,1353.27 1786.77,1442.65 1787.45,1351.8 1788.14,985.305 1788.83,1444.08 1789.51,1366.43 \n",
       "  1790.2,1252.76 1790.89,1438.01 1791.57,1427.71 1792.26,1272.7 1792.95,1436.29 1793.63,1411.63 1794.32,1340.63 1795.01,1415.87 1795.7,1425.5 1796.38,1379.55 \n",
       "  1797.07,1421.05 1797.76,1444.4 1798.44,1379.4 1799.13,1445.68 1799.82,1413.46 1800.5,1363.89 1801.19,1419.72 1801.88,1431.17 1802.56,1439.9 1803.25,1428.31 \n",
       "  1803.94,1431.91 1804.63,1439.9 1805.31,1433.73 1806,1414.68 1806.69,1369.96 1807.37,1406.43 1808.06,1440.5 1808.75,1437.97 1809.43,1405.65 1810.12,1430.71 \n",
       "  1810.81,1445.64 1811.49,1422.37 1812.18,1415.45 1812.87,1394.15 1813.55,1432.87 1814.24,1430.47 1814.93,1364.75 1815.62,1398.59 1816.3,1441.78 1816.99,1370.57 \n",
       "  1817.68,1402.38 1818.36,1419.95 1819.05,1335.38 1819.74,1434.49 1820.42,1436.26 1821.11,1278.3 1821.8,1426.56 1822.48,1361.13 1823.17,1053.63 1823.86,1427.81 \n",
       "  1824.55,1399.8 1825.23,1399.78 1825.92,1438.25 1826.61,1394.84 1827.29,1169.76 1827.98,1414.25 1828.67,1390.52 1829.35,1265.31 1830.04,1425.78 1830.73,1440.88 \n",
       "  1831.41,1438.13 1832.1,1432.98 1832.79,1439.95 1833.48,1413.01 1834.16,1404.47 1834.85,1415.54 1835.54,1381.11 1836.22,1403.83 1836.91,1432.99 1837.6,1445.01 \n",
       "  1838.28,1420.43 1838.97,1428.7 1839.66,1443.25 1840.34,1435.38 1841.03,1417.95 1841.72,1365.7 1842.4,1402.75 1843.09,1436.87 1843.78,1436.05 1844.47,1407.15 \n",
       "  1845.15,1435.76 1845.84,1442.39 1846.53,1439.09 1847.21,1408.13 1847.9,1383.36 1848.59,1424.76 1849.27,1439.13 1849.96,1379.29 1850.65,1426.03 1851.33,1442.94 \n",
       "  1852.02,1335.14 1852.71,1444.18 1853.4,1390.16 1854.08,1191.59 1854.77,1420.94 1855.46,1438.71 1856.14,1348.19 1856.83,1427.94 1857.52,1357.32 1858.2,1040.77 \n",
       "  1858.89,1433.37 1859.58,1348.27 1860.26,1103.44 1860.95,1405.05 1861.64,1396.66 1862.33,1423.98 1863.01,1401.01 1863.7,1396.79 1864.39,1089.53 1865.07,1417.24 \n",
       "  1865.76,1412.92 1866.45,1340.6 1867.13,1438.21 1867.82,1394.59 1868.51,1282.75 1869.19,1405.38 1869.88,1402.89 1870.57,1439.46 1871.26,1411.37 1871.94,1421.9 \n",
       "  1872.63,1265.98 1873.32,1441.36 1874,1436.58 1874.69,1320.4 1875.38,1424.94 1876.06,1352.57 1876.75,1040.74 1877.44,1426.72 1878.12,1349.66 1878.81,1117.85 \n",
       "  1879.5,1444.13 1880.18,1402.77 1880.87,1391.47 1881.56,1424.89 1882.25,1384.86 1882.93,1036.31 1883.62,1435.25 1884.31,1397.77 1884.99,1287.13 1885.68,1444.11 \n",
       "  1886.37,1409.73 1887.05,1331.31 1887.74,1440.32 1888.43,1420.3 1889.11,1377.29 1889.8,1429.03 1890.49,1400.99 1891.18,1194.47 1891.86,1443.87 1892.55,1436.1 \n",
       "  1893.24,1371.71 1893.92,1428.55 1894.61,1367.85 1895.3,1077.77 1895.98,1440.83 1896.67,1365.36 1897.36,1160.32 1898.04,1433.15 1898.73,1420.97 1899.42,1328.81 \n",
       "  1900.11,1440.43 1900.79,1362.79 1901.48,958.297 1902.17,1438.62 1902.85,1377.15 1903.54,1225.29 1904.23,1440.04 1904.91,1416.42 1905.6,1297.84 1906.29,1424.48 \n",
       "  1906.97,1400 1907.66,1365.69 1908.35,1432.04 1909.03,1436.68 1909.72,1352.48 1910.41,1430.63 1911.1,1445.23 1911.78,1369.3 1912.47,1401.08 1913.16,1395.8 \n",
       "  1913.84,1207.43 1914.53,1409.59 1915.22,1422.34 1915.9,1427.19 1916.59,1445.04 1917.28,1389.77 1917.96,1251.43 1918.65,1416.7 1919.34,1414.37 1920.03,1351.45 \n",
       "  1920.71,1418.29 1921.4,1396.82 1922.09,1077.76 1922.77,1439.01 1923.46,1397.97 1924.15,1171.35 1924.83,1433.3 1925.52,1434.16 1926.21,1296.79 1926.89,1445 \n",
       "  1927.58,1320.59 1928.27,902.211 1928.96,1430.17 1929.64,1334.43 1930.33,1180.48 1931.02,1444.59 1931.7,1436.27 1932.39,1323.68 1933.08,1430.49 1933.76,1437.94 \n",
       "  1934.45,1393.26 1935.14,1445.26 1935.82,1407.88 1936.51,1401.9 1937.2,1428.55 1937.88,1439.59 1938.57,1392.64 1939.26,1438.34 1939.95,1442.52 1940.63,1341.86 \n",
       "  1941.32,1439.21 1942.01,1394.58 1942.69,1230.77 1943.38,1437.2 1944.07,1418.64 1944.75,1395.12 1945.44,1418.12 1946.13,1392.92 1946.81,1146.36 1947.5,1426.18 \n",
       "  1948.19,1422.05 1948.88,1440.26 1949.56,1434.49 1950.25,1381.26 1950.94,1166.08 1951.62,1405.83 1952.31,1381.86 1953,1282.13 1953.68,1415.29 1954.37,1445.12 \n",
       "  1955.06,1404.21 1955.74,1442.92 1956.43,1442.71 1957.12,1357.77 1957.81,1414.63 1958.49,1406.14 1959.18,1221.03 1959.87,1413.52 1960.55,1437.67 1961.24,1431.34 \n",
       "  1961.93,1430.85 1962.61,1370.12 1963.3,1205.57 1963.99,1440.76 1964.67,1393.61 1965.36,1393.59 1966.05,1443.05 1966.74,1417.12 1967.42,1116.53 1968.11,1429.84 \n",
       "  1968.8,1420.21 1969.48,1220.11 1970.17,1440.5 1970.86,1419.25 1971.54,1313.85 1972.23,1438.5 1972.92,1331.33 1973.6,1017.3 1974.29,1438.46 1974.98,1360.28 \n",
       "  1975.66,1323.8 1976.35,1423.89 1977.04,1426.98 1977.73,1186.46 1978.41,1434.94 1979.1,1402.32 1979.79,1212.93 1980.47,1444.9 1981.16,1445.05 1981.85,1304.88 \n",
       "  1982.53,1444.88 1983.22,1347.51 1983.91,960.6 1984.59,1437.54 1985.28,1369.77 1985.97,1246.98 1986.66,1436.63 1987.34,1419.04 1988.03,1267.6 1988.72,1418.02 \n",
       "  1989.4,1398.58 1990.09,1319.44 1990.78,1423.24 1991.46,1442.86 1992.15,1415.63 1992.84,1442.07 1993.52,1438.68 1994.21,1333.98 1994.9,1417.25 1995.59,1394.96 \n",
       "  1996.27,1222.5 1996.96,1425.48 1997.65,1438.34 1998.33,1309.67 1999.02,1436.5 1999.71,1363.35 2000.39,1003.07 2001.08,1409.15 2001.77,1355.97 2002.45,1048.56 \n",
       "  2003.14,1407.3 2003.83,1402.75 2004.51,1374.48 2005.2,1423.45 2005.89,1396.22 2006.58,1218.06 2007.26,1431.13 2007.95,1410.65 2008.64,1439.84 2009.32,1393.59 \n",
       "  2010.01,1404.09 2010.7,1196.27 2011.38,1397.68 2012.07,1413.34 2012.76,1350.76 2013.44,1432.19 2014.13,1415.09 2014.82,1382.91 2015.51,1429.31 2016.19,1445.53 \n",
       "  2016.88,1431.6 2017.57,1430.39 2018.25,1425.42 2018.94,1441.31 2019.63,1436.02 2020.31,1414.73 2021,1343.69 2021.69,1411.98 2022.37,1445.64 2023.06,1400.62 \n",
       "  2023.75,1422.51 2024.44,1424.46 2025.12,1405.45 2025.81,1434.44 2026.5,1423.26 2027.18,1435.28 2027.87,1405.72 2028.56,1434.31 2029.24,1411.12 2029.93,1403.49 \n",
       "  2030.62,1422.67 2031.3,1425.58 2031.99,1422.14 2032.68,1428.74 2033.36,1354.33 2034.05,1433.44 2034.74,1434.77 2035.43,1289.55 2036.11,1400.21 2036.8,1365.67 \n",
       "  2037.49,1086.34 2038.17,1404.44 2038.86,1406.43 2039.55,1430.14 2040.23,1434.16 2040.92,1389.41 2041.61,1148.11 2042.29,1428.76 2042.98,1384.39 2043.67,1235.52 \n",
       "  2044.36,1428.63 2045.04,1441.56 2045.73,1224.02 2046.42,1442.41 2047.1,1336.28 2047.79,825.712 2048.48,1419.41 2049.16,1353.12 2049.85,1116.73 2050.54,1427.79 \n",
       "  2051.22,1432.73 2051.91,1375.98 2052.6,1432.39 2053.29,1415.19 2053.97,1442.43 2054.66,1402.91 2055.35,1429.38 2056.03,1345.08 2056.72,1401.98 2057.41,1426.94 \n",
       "  2058.09,1358.82 2058.78,1418.9 2059.47,1426.31 2060.15,1318.37 2060.84,1436.19 2061.53,1421.47 2062.22,1379.89 2062.9,1402.77 2063.59,1437.57 2064.28,1369.07 \n",
       "  2064.96,1406.34 2065.65,1409.05 2066.34,1445.13 2067.02,1438.23 2067.71,1442.03 2068.4,1365.61 2069.08,1424.36 2069.77,1429.73 2070.46,1350.57 2071.14,1424.26 \n",
       "  2071.83,1412.28 2072.52,1290.42 2073.21,1443.99 2073.89,1431.76 2074.58,1428.3 2075.27,1420.59 2075.95,1438.24 2076.64,1419.56 2077.33,1430.35 2078.01,1421.71 \n",
       "  2078.7,1435.14 2079.39,1445.57 2080.07,1432.58 2080.76,1435.51 2081.45,1441.85 2082.14,1420.46 2082.82,1391.1 2083.51,1431.42 2084.2,1429.39 2084.88,1419.98 \n",
       "  2085.57,1444.8 2086.26,1434.62 2086.94,1403.8 2087.63,1427.67 2088.32,1435.09 2089,1374.94 2089.69,1440.22 2090.38,1410.2 2091.07,1278.11 2091.75,1434.21 \n",
       "  2092.44,1441.3 2093.13,1324.06 2093.81,1442.83 2094.5,1362.34 2095.19,1053.4 2095.87,1435.14 2096.56,1389.39 2097.25,1360.04 2097.93,1442.98 2098.62,1412.56 \n",
       "  2099.31,1233.76 2099.99,1425.8 2100.68,1415.03 2101.37,1359.69 2102.06,1433.22 2102.74,1419.21 2103.43,1398.75 2104.12,1445.33 2104.8,1438.07 2105.49,1429.77 \n",
       "  2106.18,1443.81 2106.86,1436.08 2107.55,1401.43 2108.24,1435.04 2108.92,1404.44 2109.61,1303.02 2110.3,1436.77 2110.99,1434.01 2111.67,1289.13 2112.36,1414.48 \n",
       "  2113.05,1368.99 2113.73,1009.45 2114.42,1423.76 2115.11,1400.48 2115.79,1339.74 2116.48,1429.13 2117.17,1395.67 2117.85,1235.33 2118.54,1393.69 2119.23,1395.01 \n",
       "  2119.92,1351.25 2120.6,1400.71 2121.29,1429.84 2121.98,1328.93 2122.66,1435.76 2123.35,1439.63 2124.04,1340.1 2124.72,1425.96 2125.41,1383.14 2126.1,1110.32 \n",
       "  2126.78,1426.7 2127.47,1392.72 2128.16,1240.36 2128.84,1442.58 2129.53,1430.77 2130.22,1442.93 2130.91,1419.32 2131.59,1434.77 2132.28,1398.75 2132.97,1431.13 \n",
       "  2133.65,1393.36 2134.34,1350.52 2135.03,1445.11 2135.71,1443.69 2136.4,1400.85 2137.09,1440.75 2137.77,1437.59 2138.46,1316.68 2139.15,1429.53 2139.84,1386.8 \n",
       "  2140.52,1175.77 2141.21,1445.04 2141.9,1438.16 2142.58,1358.24 2143.27,1424.24 2143.96,1355.45 2144.64,1047.55 2145.33,1437.64 2146.02,1344.96 2146.7,1106.33 \n",
       "  2147.39,1435.16 2148.08,1392.32 2148.77,1427.63 2149.45,1443.99 2150.14,1402.38 2150.83,1099.28 2151.51,1433.64 2152.2,1418.04 2152.89,1344.34 2153.57,1443.34 \n",
       "  2154.26,1391.29 2154.95,1287.62 2155.63,1425.05 2156.32,1400.38 2157.01,1434.77 2157.7,1432.7 2158.38,1424.89 2159.07,1265.19 2159.76,1445.19 2160.44,1433.03 \n",
       "  2161.13,1322.36 2161.82,1441.85 2162.5,1348.87 2163.19,1044.67 2163.88,1433.34 2164.56,1346.5 2165.25,1123.36 2165.94,1436.45 2166.62,1401.09 2167.31,1383.84 \n",
       "  2168,1412.62 2168.69,1385.78 2169.37,1030.64 2170.06,1417.99 2170.75,1399.27 2171.43,1283.37 2172.12,1444.49 2172.81,1407.71 2173.49,1335.03 2174.18,1417.21 \n",
       "  2174.87,1417.87 2175.55,1377.2 2176.24,1427.93 2176.93,1403.3 2177.62,1194.48 2178.3,1430.45 2178.99,1436.97 2179.68,1378.92 2180.36,1403.38 2181.05,1367.62 \n",
       "  2181.74,1087.38 2182.42,1403.09 2183.11,1364.84 2183.8,1167.31 2184.48,1421.02 2185.17,1420.1 2185.86,1326.3 2186.55,1434.88 2187.23,1364.2 2187.92,959.892 \n",
       "  2188.61,1399.06 2189.29,1378.63 2189.98,1225.39 2190.67,1401.94 2191.35,1415.24 2192.04,1300.2 2192.73,1434.37 2193.41,1399.34 2194.1,1369.79 2194.79,1425.36 \n",
       "  2195.47,1436.7 2196.16,1347.68 2196.85,1425.9 2197.54,1444.41 2198.22,1377.01 2198.91,1440.64 2199.6,1396.77 2200.28,1214.54 2200.97,1416.52 2201.66,1423.16 \n",
       "  2202.34,1431.41 2203.03,1429.67 2203.72,1389.36 2204.4,1250.16 2205.09,1445.64 2205.78,1413.91 2206.47,1354.62 2207.15,1442.86 2207.84,1398.4 2208.53,1086.01 \n",
       "  2209.21,1432.8 2209.9,1400.53 2210.59,1181.3 2211.27,1443.82 2211.96,1431.52 2212.65,1290.66 2213.33,1428.56 2214.02,1318.52 2214.71,899.833 2215.4,1443.82 \n",
       "  2216.08,1331.64 2216.77,1173.99 2217.46,1431.67 2218.14,1432.42 2218.83,1333.79 2219.52,1444.32 2220.2,1441.6 2220.89,1401.17 2221.58,1433.73 2222.26,1404.81 \n",
       "  2222.95,1395.92 2223.64,1441.85 2224.32,1443.11 2225.01,1401.28 2225.7,1423.38 2226.39,1438.67 2227.07,1352.14 2227.76,1434.03 2228.45,1398.03 2229.13,1239.43 \n",
       "  2229.82,1444.88 2230.51,1421.56 2231.19,1389.06 2231.88,1444.44 2232.57,1390.59 2233.25,1142.56 2233.94,1436.62 2234.63,1419.24 2235.32,1432.8 2236,1436.38 \n",
       "  2236.69,1385.46 2237.38,1179.11 2238.06,1415.7 2238.75,1386.82 2239.44,1296.1 2240.12,1420.47 2240.81,1440.27 2241.5,1392.41 2242.18,1444.21 2242.87,1441.67 \n",
       "  2243.56,1360.78 2244.25,1417.59 2244.93,1411.47 2245.62,1320.86 2246.31,1425.89 2246.99,1426.92 2247.68,1425.09 2248.37,1432.66 2249.05,1443 2249.74,1425.41 \n",
       "  2250.43,1403.74 2251.11,1408.86 2251.8,1381.87 2252.49,1402.18 2253.18,1439.08 2253.86,1416.21 2254.55,1421.25 2255.24,1437.15 2255.92,1388.16 2256.61,1432.74 \n",
       "  2257.3,1403.56 2257.98,1320.89 2258.67,1395.49 2259.36,1443.95 2260.04,1445.55 2260.73,1400.07 2261.42,1435.41 2262.1,1381.14 2262.79,1432.93 2263.48,1402.57 \n",
       "  2264.17,1258.21 2264.85,1427.34 2265.54,1427.65 2266.23,1374.66 2266.91,1426.43 2267.6,1383.1 2268.29,1131.32 2268.97,1440.65 2269.66,1412.13 2270.35,1431.1 \n",
       "  2271.03,1413.64 2271.72,1392 2272.41,1174.49 2273.1,1424.06 2273.78,1393.46 2274.47,1288.95 2275.16,1431.46 2275.84,1433 2276.53,1399.36 2277.22,1400.59 \n",
       "  2277.9,1441.37 2278.59,1366.98 2279.28,1398.27 2279.96,1403.27 2280.65,1329.59 2281.34,1417.3 2282.03,1434.36 2282.71,1412.25 2283.4,1436.43 2284.09,1443.1 \n",
       "  2284.77,1406.09 2285.46,1400.43 2286.15,1413.88 2286.83,1361.08 2287.52,1405.79 2288.21,1434.37 2288.89,1437.22 2289.58,1439.15 2290.27,1443.51 2290.95,1405.5 \n",
       "  \n",
       "  \"/>\n",
       "<path clip-path=\"url(#clip590)\" d=\"\n",
       "M1984.91 198.898 L2279.97 198.898 L2279.97 95.2176 L1984.91 95.2176  Z\n",
       "  \" fill=\"#ffffff\" fill-rule=\"evenodd\" fill-opacity=\"1\"/>\n",
       "<polyline clip-path=\"url(#clip590)\" style=\"stroke:#000000; stroke-linecap:round; stroke-linejoin:round; stroke-width:4; stroke-opacity:1; fill:none\" points=\"\n",
       "  1984.91,198.898 2279.97,198.898 2279.97,95.2176 1984.91,95.2176 1984.91,198.898 \n",
       "  \"/>\n",
       "<polyline clip-path=\"url(#clip590)\" style=\"stroke:#009af9; stroke-linecap:round; stroke-linejoin:round; stroke-width:4; stroke-opacity:1; fill:none\" points=\"\n",
       "  2009.17,147.058 2154.75,147.058 \n",
       "  \"/>\n",
       "<path clip-path=\"url(#clip590)\" d=\"M2192.86 166.745 Q2191.05 171.375 2189.34 172.787 Q2187.62 174.199 2184.75 174.199 L2181.35 174.199 L2181.35 170.634 L2183.85 170.634 Q2185.61 170.634 2186.58 169.8 Q2187.55 168.967 2188.73 165.865 L2189.5 163.921 L2179.01 138.412 L2183.53 138.412 L2191.63 158.689 L2199.73 138.412 L2204.24 138.412 L2192.86 166.745 Z\" fill=\"#000000\" fill-rule=\"evenodd\" fill-opacity=\"1\" /><path clip-path=\"url(#clip590)\" d=\"M2211.54 160.402 L2219.17 160.402 L2219.17 134.037 L2210.86 135.703 L2210.86 131.444 L2219.13 129.778 L2223.8 129.778 L2223.8 160.402 L2231.44 160.402 L2231.44 164.338 L2211.54 164.338 L2211.54 160.402 Z\" fill=\"#000000\" fill-rule=\"evenodd\" fill-opacity=\"1\" /></svg>\n"
      ]
     },
     "execution_count": 479,
     "metadata": {},
     "output_type": "execute_result"
    }
   ],
   "source": [
    "plot(losses)"
   ]
  },
  {
   "cell_type": "code",
   "execution_count": 480,
   "metadata": {},
   "outputs": [
    {
     "data": {
      "text/plain": [
       "1-element Vector{Float32}:\n",
       " 204.04187"
      ]
     },
     "execution_count": 480,
     "metadata": {},
     "output_type": "execute_result"
    }
   ],
   "source": [
    "#test it out\n",
    "m1c([100,200,300])"
   ]
  },
  {
   "cell_type": "code",
   "execution_count": 481,
   "metadata": {},
   "outputs": [
    {
     "data": {
      "text/plain": [
       "1-element Vector{Float32}:\n",
       " 101.86452"
      ]
     },
     "execution_count": 481,
     "metadata": {},
     "output_type": "execute_result"
    }
   ],
   "source": [
    "#test it out\n",
    "m1c([10,20,30])"
   ]
  },
  {
   "cell_type": "code",
   "execution_count": 482,
   "metadata": {},
   "outputs": [
    {
     "data": {
      "text/plain": [
       "1-element Vector{Float32}:\n",
       " 12.151026"
      ]
     },
     "execution_count": 482,
     "metadata": {},
     "output_type": "execute_result"
    }
   ],
   "source": [
    "#test it out\n",
    "m1c([1,2,3])"
   ]
  },
  {
   "cell_type": "code",
   "execution_count": 483,
   "metadata": {},
   "outputs": [],
   "source": [
    "#the more complex model looks better"
   ]
  },
  {
   "cell_type": "code",
   "execution_count": null,
   "metadata": {},
   "outputs": [],
   "source": []
  },
  {
   "cell_type": "code",
   "execution_count": null,
   "metadata": {},
   "outputs": [],
   "source": []
  },
  {
   "cell_type": "code",
   "execution_count": null,
   "metadata": {},
   "outputs": [],
   "source": []
  },
  {
   "cell_type": "code",
   "execution_count": null,
   "metadata": {},
   "outputs": [],
   "source": []
  },
  {
   "cell_type": "code",
   "execution_count": null,
   "metadata": {},
   "outputs": [],
   "source": [
    "### <span style=\"color:orange\"></span>"
   ]
  },
  {
   "cell_type": "code",
   "execution_count": null,
   "metadata": {},
   "outputs": [],
   "source": [
    "#!!!!!!!xxxxx"
   ]
  },
  {
   "cell_type": "code",
   "execution_count": null,
   "metadata": {},
   "outputs": [],
   "source": []
  },
  {
   "cell_type": "code",
   "execution_count": null,
   "metadata": {},
   "outputs": [],
   "source": []
  },
  {
   "cell_type": "code",
   "execution_count": null,
   "metadata": {},
   "outputs": [],
   "source": []
  },
  {
   "cell_type": "code",
   "execution_count": null,
   "metadata": {},
   "outputs": [],
   "source": []
  },
  {
   "cell_type": "code",
   "execution_count": null,
   "metadata": {},
   "outputs": [],
   "source": []
  },
  {
   "cell_type": "code",
   "execution_count": null,
   "metadata": {},
   "outputs": [],
   "source": []
  },
  {
   "cell_type": "code",
   "execution_count": null,
   "metadata": {},
   "outputs": [],
   "source": []
  },
  {
   "cell_type": "code",
   "execution_count": null,
   "metadata": {},
   "outputs": [],
   "source": []
  },
  {
   "cell_type": "code",
   "execution_count": null,
   "metadata": {},
   "outputs": [],
   "source": []
  },
  {
   "cell_type": "code",
   "execution_count": null,
   "metadata": {},
   "outputs": [],
   "source": []
  },
  {
   "cell_type": "code",
   "execution_count": null,
   "metadata": {},
   "outputs": [],
   "source": []
  },
  {
   "cell_type": "code",
   "execution_count": null,
   "metadata": {},
   "outputs": [],
   "source": []
  },
  {
   "cell_type": "code",
   "execution_count": null,
   "metadata": {},
   "outputs": [],
   "source": []
  },
  {
   "cell_type": "code",
   "execution_count": null,
   "metadata": {},
   "outputs": [],
   "source": []
  },
  {
   "cell_type": "code",
   "execution_count": null,
   "metadata": {},
   "outputs": [],
   "source": []
  },
  {
   "cell_type": "code",
   "execution_count": null,
   "metadata": {},
   "outputs": [],
   "source": []
  },
  {
   "cell_type": "code",
   "execution_count": null,
   "metadata": {},
   "outputs": [],
   "source": []
  },
  {
   "cell_type": "markdown",
   "metadata": {},
   "source": [
    "### <span style=\"color:orange\">Look at a simple function to 'fit'</span>"
   ]
  },
  {
   "cell_type": "code",
   "execution_count": 2,
   "metadata": {},
   "outputs": [
    {
     "data": {
      "text/plain": [
       "target_function (generic function with 1 method)"
      ]
     },
     "execution_count": 2,
     "metadata": {},
     "output_type": "execute_result"
    }
   ],
   "source": [
    "function target_function(x)\n",
    "    4x + 2\n",
    "end"
   ]
  },
  {
   "cell_type": "markdown",
   "metadata": {},
   "source": [
    "### <span style=\"color:orange\">training and testing data</span>"
   ]
  },
  {
   "cell_type": "code",
   "execution_count": 3,
   "metadata": {},
   "outputs": [
    {
     "data": {
      "text/plain": [
       "([0 1 … 4 5], [6 7 … 9 10])"
      ]
     },
     "execution_count": 3,
     "metadata": {},
     "output_type": "execute_result"
    }
   ],
   "source": [
    "x_train, x_test = hcat(0:5...), hcat(6:10...)"
   ]
  },
  {
   "cell_type": "code",
   "execution_count": 4,
   "metadata": {},
   "outputs": [
    {
     "data": {
      "text/plain": [
       "([2 6 … 18 22], [26 30 … 38 42])"
      ]
     },
     "execution_count": 4,
     "metadata": {},
     "output_type": "execute_result"
    }
   ],
   "source": [
    "y_train, y_test = target_function.(x_train), target_function.(x_test)"
   ]
  },
  {
   "cell_type": "code",
   "execution_count": 5,
   "metadata": {},
   "outputs": [
    {
     "data": {
      "image/svg+xml": [
       "<?xml version=\"1.0\" encoding=\"utf-8\"?>\n",
       "<svg xmlns=\"http://www.w3.org/2000/svg\" xmlns:xlink=\"http://www.w3.org/1999/xlink\" width=\"600\" height=\"400\" viewBox=\"0 0 2400 1600\">\n",
       "<defs>\n",
       "  <clipPath id=\"clip140\">\n",
       "    <rect x=\"0\" y=\"0\" width=\"2400\" height=\"1600\"/>\n",
       "  </clipPath>\n",
       "</defs>\n",
       "<path clip-path=\"url(#clip140)\" d=\"\n",
       "M0 1600 L2400 1600 L2400 0 L0 0  Z\n",
       "  \" fill=\"#ffffff\" fill-rule=\"evenodd\" fill-opacity=\"1\"/>\n",
       "<defs>\n",
       "  <clipPath id=\"clip141\">\n",
       "    <rect x=\"480\" y=\"0\" width=\"1681\" height=\"1600\"/>\n",
       "  </clipPath>\n",
       "</defs>\n",
       "<path clip-path=\"url(#clip140)\" d=\"\n",
       "M140.696 1486.45 L2352.76 1486.45 L2352.76 47.2441 L140.696 47.2441  Z\n",
       "  \" fill=\"#ffffff\" fill-rule=\"evenodd\" fill-opacity=\"1\"/>\n",
       "<defs>\n",
       "  <clipPath id=\"clip142\">\n",
       "    <rect x=\"140\" y=\"47\" width=\"2213\" height=\"1440\"/>\n",
       "  </clipPath>\n",
       "</defs>\n",
       "<polyline clip-path=\"url(#clip142)\" style=\"stroke:#000000; stroke-linecap:round; stroke-linejoin:round; stroke-width:2; stroke-opacity:0.1; fill:none\" points=\"\n",
       "  203.301,1486.45 203.301,47.2441 \n",
       "  \"/>\n",
       "<polyline clip-path=\"url(#clip142)\" style=\"stroke:#000000; stroke-linecap:round; stroke-linejoin:round; stroke-width:2; stroke-opacity:0.1; fill:none\" points=\"\n",
       "  620.671,1486.45 620.671,47.2441 \n",
       "  \"/>\n",
       "<polyline clip-path=\"url(#clip142)\" style=\"stroke:#000000; stroke-linecap:round; stroke-linejoin:round; stroke-width:2; stroke-opacity:0.1; fill:none\" points=\"\n",
       "  1038.04,1486.45 1038.04,47.2441 \n",
       "  \"/>\n",
       "<polyline clip-path=\"url(#clip142)\" style=\"stroke:#000000; stroke-linecap:round; stroke-linejoin:round; stroke-width:2; stroke-opacity:0.1; fill:none\" points=\"\n",
       "  1455.41,1486.45 1455.41,47.2441 \n",
       "  \"/>\n",
       "<polyline clip-path=\"url(#clip142)\" style=\"stroke:#000000; stroke-linecap:round; stroke-linejoin:round; stroke-width:2; stroke-opacity:0.1; fill:none\" points=\"\n",
       "  1872.78,1486.45 1872.78,47.2441 \n",
       "  \"/>\n",
       "<polyline clip-path=\"url(#clip142)\" style=\"stroke:#000000; stroke-linecap:round; stroke-linejoin:round; stroke-width:2; stroke-opacity:0.1; fill:none\" points=\"\n",
       "  2290.15,1486.45 2290.15,47.2441 \n",
       "  \"/>\n",
       "<polyline clip-path=\"url(#clip140)\" style=\"stroke:#000000; stroke-linecap:round; stroke-linejoin:round; stroke-width:4; stroke-opacity:1; fill:none\" points=\"\n",
       "  140.696,1486.45 2352.76,1486.45 \n",
       "  \"/>\n",
       "<polyline clip-path=\"url(#clip140)\" style=\"stroke:#000000; stroke-linecap:round; stroke-linejoin:round; stroke-width:4; stroke-opacity:1; fill:none\" points=\"\n",
       "  203.301,1486.45 203.301,1467.55 \n",
       "  \"/>\n",
       "<polyline clip-path=\"url(#clip140)\" style=\"stroke:#000000; stroke-linecap:round; stroke-linejoin:round; stroke-width:4; stroke-opacity:1; fill:none\" points=\"\n",
       "  620.671,1486.45 620.671,1467.55 \n",
       "  \"/>\n",
       "<polyline clip-path=\"url(#clip140)\" style=\"stroke:#000000; stroke-linecap:round; stroke-linejoin:round; stroke-width:4; stroke-opacity:1; fill:none\" points=\"\n",
       "  1038.04,1486.45 1038.04,1467.55 \n",
       "  \"/>\n",
       "<polyline clip-path=\"url(#clip140)\" style=\"stroke:#000000; stroke-linecap:round; stroke-linejoin:round; stroke-width:4; stroke-opacity:1; fill:none\" points=\"\n",
       "  1455.41,1486.45 1455.41,1467.55 \n",
       "  \"/>\n",
       "<polyline clip-path=\"url(#clip140)\" style=\"stroke:#000000; stroke-linecap:round; stroke-linejoin:round; stroke-width:4; stroke-opacity:1; fill:none\" points=\"\n",
       "  1872.78,1486.45 1872.78,1467.55 \n",
       "  \"/>\n",
       "<polyline clip-path=\"url(#clip140)\" style=\"stroke:#000000; stroke-linecap:round; stroke-linejoin:round; stroke-width:4; stroke-opacity:1; fill:none\" points=\"\n",
       "  2290.15,1486.45 2290.15,1467.55 \n",
       "  \"/>\n",
       "<path clip-path=\"url(#clip140)\" d=\"M203.301 1517.37 Q199.69 1517.37 197.861 1520.93 Q196.056 1524.47 196.056 1531.6 Q196.056 1538.71 197.861 1542.27 Q199.69 1545.82 203.301 1545.82 Q206.935 1545.82 208.741 1542.27 Q210.57 1538.71 210.57 1531.6 Q210.57 1524.47 208.741 1520.93 Q206.935 1517.37 203.301 1517.37 M203.301 1513.66 Q209.111 1513.66 212.167 1518.27 Q215.245 1522.85 215.245 1531.6 Q215.245 1540.33 212.167 1544.94 Q209.111 1549.52 203.301 1549.52 Q197.491 1549.52 194.412 1544.94 Q191.357 1540.33 191.357 1531.6 Q191.357 1522.85 194.412 1518.27 Q197.491 1513.66 203.301 1513.66 Z\" fill=\"#000000\" fill-rule=\"evenodd\" fill-opacity=\"1\" /><path clip-path=\"url(#clip140)\" d=\"M611.053 1544.91 L618.692 1544.91 L618.692 1518.55 L610.382 1520.21 L610.382 1515.95 L618.645 1514.29 L623.321 1514.29 L623.321 1544.91 L630.96 1544.91 L630.96 1548.85 L611.053 1548.85 L611.053 1544.91 Z\" fill=\"#000000\" fill-rule=\"evenodd\" fill-opacity=\"1\" /><path clip-path=\"url(#clip140)\" d=\"M1032.69 1544.91 L1049.01 1544.91 L1049.01 1548.85 L1027.07 1548.85 L1027.07 1544.91 Q1029.73 1542.16 1034.31 1537.53 Q1038.92 1532.88 1040.1 1531.53 Q1042.35 1529.01 1043.23 1527.27 Q1044.13 1525.51 1044.13 1523.82 Q1044.13 1521.07 1042.18 1519.33 Q1040.26 1517.6 1037.16 1517.6 Q1034.96 1517.6 1032.51 1518.36 Q1030.08 1519.13 1027.3 1520.68 L1027.3 1515.95 Q1030.12 1514.82 1032.58 1514.24 Q1035.03 1513.66 1037.07 1513.66 Q1042.44 1513.66 1045.63 1516.35 Q1048.83 1519.03 1048.83 1523.52 Q1048.83 1525.65 1048.02 1527.57 Q1047.23 1529.47 1045.12 1532.07 Q1044.55 1532.74 1041.44 1535.95 Q1038.34 1539.15 1032.69 1544.91 Z\" fill=\"#000000\" fill-rule=\"evenodd\" fill-opacity=\"1\" /><path clip-path=\"url(#clip140)\" d=\"M1459.66 1530.21 Q1463.01 1530.93 1464.89 1533.2 Q1466.79 1535.47 1466.79 1538.8 Q1466.79 1543.92 1463.27 1546.72 Q1459.75 1549.52 1453.27 1549.52 Q1451.09 1549.52 1448.78 1549.08 Q1446.49 1548.66 1444.03 1547.81 L1444.03 1543.29 Q1445.98 1544.43 1448.29 1545.01 Q1450.61 1545.58 1453.13 1545.58 Q1457.53 1545.58 1459.82 1543.85 Q1462.14 1542.11 1462.14 1538.8 Q1462.14 1535.75 1459.98 1534.03 Q1457.85 1532.3 1454.03 1532.3 L1450.01 1532.3 L1450.01 1528.45 L1454.22 1528.45 Q1457.67 1528.45 1459.5 1527.09 Q1461.32 1525.7 1461.32 1523.11 Q1461.32 1520.45 1459.43 1519.03 Q1457.55 1517.6 1454.03 1517.6 Q1452.11 1517.6 1449.91 1518.01 Q1447.71 1518.43 1445.08 1519.31 L1445.08 1515.14 Q1447.74 1514.4 1450.05 1514.03 Q1452.39 1513.66 1454.45 1513.66 Q1459.77 1513.66 1462.88 1516.09 Q1465.98 1518.5 1465.98 1522.62 Q1465.98 1525.49 1464.33 1527.48 Q1462.69 1529.45 1459.66 1530.21 Z\" fill=\"#000000\" fill-rule=\"evenodd\" fill-opacity=\"1\" /><path clip-path=\"url(#clip140)\" d=\"M1875.79 1518.36 L1863.98 1536.81 L1875.79 1536.81 L1875.79 1518.36 M1874.56 1514.29 L1880.44 1514.29 L1880.44 1536.81 L1885.37 1536.81 L1885.37 1540.7 L1880.44 1540.7 L1880.44 1548.85 L1875.79 1548.85 L1875.79 1540.7 L1860.19 1540.7 L1860.19 1536.19 L1874.56 1514.29 Z\" fill=\"#000000\" fill-rule=\"evenodd\" fill-opacity=\"1\" /><path clip-path=\"url(#clip140)\" d=\"M2280.43 1514.29 L2298.78 1514.29 L2298.78 1518.22 L2284.71 1518.22 L2284.71 1526.7 Q2285.73 1526.35 2286.75 1526.19 Q2287.77 1526 2288.78 1526 Q2294.57 1526 2297.95 1529.17 Q2301.33 1532.34 2301.33 1537.76 Q2301.33 1543.34 2297.86 1546.44 Q2294.39 1549.52 2288.07 1549.52 Q2285.89 1549.52 2283.62 1549.15 Q2281.38 1548.78 2278.97 1548.04 L2278.97 1543.34 Q2281.05 1544.47 2283.28 1545.03 Q2285.5 1545.58 2287.97 1545.58 Q2291.98 1545.58 2294.32 1543.48 Q2296.66 1541.37 2296.66 1537.76 Q2296.66 1534.15 2294.32 1532.04 Q2291.98 1529.94 2287.97 1529.94 Q2286.1 1529.94 2284.22 1530.35 Q2282.37 1530.77 2280.43 1531.65 L2280.43 1514.29 Z\" fill=\"#000000\" fill-rule=\"evenodd\" fill-opacity=\"1\" /><polyline clip-path=\"url(#clip142)\" style=\"stroke:#000000; stroke-linecap:round; stroke-linejoin:round; stroke-width:2; stroke-opacity:0.1; fill:none\" points=\"\n",
       "  140.696,1242.05 2352.76,1242.05 \n",
       "  \"/>\n",
       "<polyline clip-path=\"url(#clip142)\" style=\"stroke:#000000; stroke-linecap:round; stroke-linejoin:round; stroke-width:2; stroke-opacity:0.1; fill:none\" points=\"\n",
       "  140.696,902.62 2352.76,902.62 \n",
       "  \"/>\n",
       "<polyline clip-path=\"url(#clip142)\" style=\"stroke:#000000; stroke-linecap:round; stroke-linejoin:round; stroke-width:2; stroke-opacity:0.1; fill:none\" points=\"\n",
       "  140.696,563.185 2352.76,563.185 \n",
       "  \"/>\n",
       "<polyline clip-path=\"url(#clip142)\" style=\"stroke:#000000; stroke-linecap:round; stroke-linejoin:round; stroke-width:2; stroke-opacity:0.1; fill:none\" points=\"\n",
       "  140.696,223.75 2352.76,223.75 \n",
       "  \"/>\n",
       "<polyline clip-path=\"url(#clip140)\" style=\"stroke:#000000; stroke-linecap:round; stroke-linejoin:round; stroke-width:4; stroke-opacity:1; fill:none\" points=\"\n",
       "  140.696,1486.45 140.696,47.2441 \n",
       "  \"/>\n",
       "<polyline clip-path=\"url(#clip140)\" style=\"stroke:#000000; stroke-linecap:round; stroke-linejoin:round; stroke-width:4; stroke-opacity:1; fill:none\" points=\"\n",
       "  140.696,1242.05 159.593,1242.05 \n",
       "  \"/>\n",
       "<polyline clip-path=\"url(#clip140)\" style=\"stroke:#000000; stroke-linecap:round; stroke-linejoin:round; stroke-width:4; stroke-opacity:1; fill:none\" points=\"\n",
       "  140.696,902.62 159.593,902.62 \n",
       "  \"/>\n",
       "<polyline clip-path=\"url(#clip140)\" style=\"stroke:#000000; stroke-linecap:round; stroke-linejoin:round; stroke-width:4; stroke-opacity:1; fill:none\" points=\"\n",
       "  140.696,563.185 159.593,563.185 \n",
       "  \"/>\n",
       "<polyline clip-path=\"url(#clip140)\" style=\"stroke:#000000; stroke-linecap:round; stroke-linejoin:round; stroke-width:4; stroke-opacity:1; fill:none\" points=\"\n",
       "  140.696,223.75 159.593,223.75 \n",
       "  \"/>\n",
       "<path clip-path=\"url(#clip140)\" d=\"M83.7929 1224.77 L102.149 1224.77 L102.149 1228.71 L88.0753 1228.71 L88.0753 1237.18 Q89.0938 1236.83 90.1123 1236.67 Q91.1308 1236.49 92.1493 1236.49 Q97.9363 1236.49 101.316 1239.66 Q104.696 1242.83 104.696 1248.25 Q104.696 1253.83 101.223 1256.93 Q97.7511 1260.01 91.4317 1260.01 Q89.2558 1260.01 86.9873 1259.64 Q84.7419 1259.27 82.3346 1258.52 L82.3346 1253.83 Q84.4179 1254.96 86.6401 1255.52 Q88.8623 1256.07 91.3391 1256.07 Q95.3437 1256.07 97.6817 1253.96 Q100.02 1251.86 100.02 1248.25 Q100.02 1244.64 97.6817 1242.53 Q95.3437 1240.42 91.3391 1240.42 Q89.4641 1240.42 87.5892 1240.84 Q85.7373 1241.26 83.7929 1242.14 L83.7929 1224.77 Z\" fill=\"#000000\" fill-rule=\"evenodd\" fill-opacity=\"1\" /><path clip-path=\"url(#clip140)\" d=\"M53.3995 915.965 L61.0384 915.965 L61.0384 889.599 L52.7282 891.266 L52.7282 887.007 L60.9921 885.34 L65.668 885.34 L65.668 915.965 L73.3068 915.965 L73.3068 919.9 L53.3995 919.9 L53.3995 915.965 Z\" fill=\"#000000\" fill-rule=\"evenodd\" fill-opacity=\"1\" /><path clip-path=\"url(#clip140)\" d=\"M92.7512 888.419 Q89.1401 888.419 87.3114 891.983 Q85.5058 895.525 85.5058 902.655 Q85.5058 909.761 87.3114 913.326 Q89.1401 916.868 92.7512 916.868 Q96.3854 916.868 98.1909 913.326 Q100.02 909.761 100.02 902.655 Q100.02 895.525 98.1909 891.983 Q96.3854 888.419 92.7512 888.419 M92.7512 884.715 Q98.5613 884.715 101.617 889.321 Q104.696 893.905 104.696 902.655 Q104.696 911.381 101.617 915.988 Q98.5613 920.571 92.7512 920.571 Q86.941 920.571 83.8623 915.988 Q80.8068 911.381 80.8068 902.655 Q80.8068 893.905 83.8623 889.321 Q86.941 884.715 92.7512 884.715 Z\" fill=\"#000000\" fill-rule=\"evenodd\" fill-opacity=\"1\" /><path clip-path=\"url(#clip140)\" d=\"M54.3949 576.53 L62.0337 576.53 L62.0337 550.164 L53.7236 551.831 L53.7236 547.572 L61.9874 545.905 L66.6633 545.905 L66.6633 576.53 L74.3022 576.53 L74.3022 580.465 L54.3949 580.465 L54.3949 576.53 Z\" fill=\"#000000\" fill-rule=\"evenodd\" fill-opacity=\"1\" /><path clip-path=\"url(#clip140)\" d=\"M83.7929 545.905 L102.149 545.905 L102.149 549.84 L88.0753 549.84 L88.0753 558.312 Q89.0938 557.965 90.1123 557.803 Q91.1308 557.618 92.1493 557.618 Q97.9363 557.618 101.316 560.789 Q104.696 563.961 104.696 569.377 Q104.696 574.956 101.223 578.058 Q97.7511 581.136 91.4317 581.136 Q89.2558 581.136 86.9873 580.766 Q84.7419 580.396 82.3346 579.655 L82.3346 574.956 Q84.4179 576.09 86.6401 576.646 Q88.8623 577.201 91.3391 577.201 Q95.3437 577.201 97.6817 575.095 Q100.02 572.988 100.02 569.377 Q100.02 565.766 97.6817 563.66 Q95.3437 561.553 91.3391 561.553 Q89.4641 561.553 87.5892 561.97 Q85.7373 562.386 83.7929 563.266 L83.7929 545.905 Z\" fill=\"#000000\" fill-rule=\"evenodd\" fill-opacity=\"1\" /><path clip-path=\"url(#clip140)\" d=\"M56.6171 237.095 L72.9365 237.095 L72.9365 241.03 L50.9921 241.03 L50.9921 237.095 Q53.6541 234.34 58.2375 229.711 Q62.8439 225.058 64.0245 223.715 Q66.2698 221.192 67.1494 219.456 Q68.0522 217.697 68.0522 216.007 Q68.0522 213.253 66.1078 211.516 Q64.1865 209.78 61.0847 209.78 Q58.8856 209.78 56.4319 210.544 Q54.0014 211.308 51.2236 212.859 L51.2236 208.137 Q54.0477 207.003 56.5014 206.424 Q58.955 205.845 60.9921 205.845 Q66.3624 205.845 69.5568 208.53 Q72.7513 211.216 72.7513 215.706 Q72.7513 217.836 71.9411 219.757 Q71.1541 221.655 69.0476 224.248 Q68.4689 224.919 65.367 228.137 Q62.2652 231.331 56.6171 237.095 Z\" fill=\"#000000\" fill-rule=\"evenodd\" fill-opacity=\"1\" /><path clip-path=\"url(#clip140)\" d=\"M92.7512 209.549 Q89.1401 209.549 87.3114 213.114 Q85.5058 216.655 85.5058 223.785 Q85.5058 230.891 87.3114 234.456 Q89.1401 237.998 92.7512 237.998 Q96.3854 237.998 98.1909 234.456 Q100.02 230.891 100.02 223.785 Q100.02 216.655 98.1909 213.114 Q96.3854 209.549 92.7512 209.549 M92.7512 205.845 Q98.5613 205.845 101.617 210.452 Q104.696 215.035 104.696 223.785 Q104.696 232.512 101.617 237.118 Q98.5613 241.702 92.7512 241.702 Q86.941 241.702 83.8623 237.118 Q80.8068 232.512 80.8068 223.785 Q80.8068 215.035 83.8623 210.452 Q86.941 205.845 92.7512 205.845 Z\" fill=\"#000000\" fill-rule=\"evenodd\" fill-opacity=\"1\" /><circle clip-path=\"url(#clip142)\" cx=\"203.301\" cy=\"1445.72\" r=\"14.4\" fill=\"#0000ff\" fill-rule=\"evenodd\" fill-opacity=\"1\" stroke=\"#000000\" stroke-opacity=\"1\" stroke-width=\"3.2\"/>\n",
       "<circle clip-path=\"url(#clip142)\" cx=\"620.671\" cy=\"1174.17\" r=\"14.4\" fill=\"#0000ff\" fill-rule=\"evenodd\" fill-opacity=\"1\" stroke=\"#000000\" stroke-opacity=\"1\" stroke-width=\"3.2\"/>\n",
       "<circle clip-path=\"url(#clip142)\" cx=\"1038.04\" cy=\"902.62\" r=\"14.4\" fill=\"#0000ff\" fill-rule=\"evenodd\" fill-opacity=\"1\" stroke=\"#000000\" stroke-opacity=\"1\" stroke-width=\"3.2\"/>\n",
       "<circle clip-path=\"url(#clip142)\" cx=\"1455.41\" cy=\"631.072\" r=\"14.4\" fill=\"#0000ff\" fill-rule=\"evenodd\" fill-opacity=\"1\" stroke=\"#000000\" stroke-opacity=\"1\" stroke-width=\"3.2\"/>\n",
       "<circle clip-path=\"url(#clip142)\" cx=\"1872.78\" cy=\"359.524\" r=\"14.4\" fill=\"#0000ff\" fill-rule=\"evenodd\" fill-opacity=\"1\" stroke=\"#000000\" stroke-opacity=\"1\" stroke-width=\"3.2\"/>\n",
       "<circle clip-path=\"url(#clip142)\" cx=\"2290.15\" cy=\"87.9763\" r=\"14.4\" fill=\"#0000ff\" fill-rule=\"evenodd\" fill-opacity=\"1\" stroke=\"#000000\" stroke-opacity=\"1\" stroke-width=\"3.2\"/>\n",
       "</svg>\n"
      ]
     },
     "execution_count": 5,
     "metadata": {},
     "output_type": "execute_result"
    }
   ],
   "source": [
    "plot(x_train, y_train, legend=false, linetype=\"scatter\", color=\"blue\")"
   ]
  },
  {
   "cell_type": "markdown",
   "metadata": {},
   "source": [
    "### <span style=\"color:orange\">Produce a dense layer of 1 element, a 1 to 1 transformation</span>\n",
    "\n",
    "The Dense function produces a **dense** layer of connections between the neurons (input dimensions). The first argument is the input dimension (input feature size) and the second value is the output dimension (output layer feature size)"
   ]
  },
  {
   "cell_type": "code",
   "execution_count": 6,
   "metadata": {},
   "outputs": [
    {
     "data": {
      "text/plain": [
       "Dense(1 => 1)       \u001b[90m# 2 parameters\u001b[39m"
      ]
     },
     "execution_count": 6,
     "metadata": {},
     "output_type": "execute_result"
    }
   ],
   "source": [
    "model = Dense(1,1)"
   ]
  },
  {
   "cell_type": "code",
   "execution_count": 7,
   "metadata": {},
   "outputs": [
    {
     "data": {
      "text/plain": [
       "Dense{typeof(identity), Matrix{Float32}, Vector{Float32}}"
      ]
     },
     "execution_count": 7,
     "metadata": {},
     "output_type": "execute_result"
    }
   ],
   "source": [
    "typeof(model)"
   ]
  },
  {
   "cell_type": "code",
   "execution_count": 8,
   "metadata": {},
   "outputs": [
    {
     "data": {
      "text/plain": [
       "(:weight, :bias, :σ)"
      ]
     },
     "execution_count": 8,
     "metadata": {},
     "output_type": "execute_result"
    }
   ],
   "source": [
    "fieldnames(typeof(model))"
   ]
  },
  {
   "cell_type": "code",
   "execution_count": 9,
   "metadata": {},
   "outputs": [
    {
     "data": {
      "text/plain": [
       "1×1 Matrix{Float32}:\n",
       " 1.5517563"
      ]
     },
     "execution_count": 9,
     "metadata": {},
     "output_type": "execute_result"
    }
   ],
   "source": [
    "model.weight"
   ]
  },
  {
   "cell_type": "code",
   "execution_count": 10,
   "metadata": {},
   "outputs": [
    {
     "data": {
      "text/plain": [
       "1-element Vector{Float32}:\n",
       " 0.0"
      ]
     },
     "execution_count": 10,
     "metadata": {},
     "output_type": "execute_result"
    }
   ],
   "source": [
    "model.bias"
   ]
  },
  {
   "cell_type": "code",
   "execution_count": 11,
   "metadata": {},
   "outputs": [
    {
     "data": {
      "text/plain": [
       "identity (generic function with 1 method)"
      ]
     },
     "execution_count": 11,
     "metadata": {},
     "output_type": "execute_result"
    }
   ],
   "source": [
    "model.σ"
   ]
  },
  {
   "cell_type": "markdown",
   "metadata": {},
   "source": [
    "### <span style=\"color:orange\">See what the random untrained model parameters produce for the model outputs</span>"
   ]
  },
  {
   "cell_type": "code",
   "execution_count": 12,
   "metadata": {},
   "outputs": [
    {
     "data": {
      "text/plain": [
       "1×6 Matrix{Float32}:\n",
       " 0.0  1.55176  3.10351  4.65527  6.20703  7.75878"
      ]
     },
     "execution_count": 12,
     "metadata": {},
     "output_type": "execute_result"
    }
   ],
   "source": [
    "model(x_train)"
   ]
  },
  {
   "cell_type": "code",
   "execution_count": 13,
   "metadata": {},
   "outputs": [
    {
     "data": {
      "text/plain": [
       "loss (generic function with 1 method)"
      ]
     },
     "execution_count": 13,
     "metadata": {},
     "output_type": "execute_result"
    }
   ],
   "source": [
    "loss(x,y) = Flux.mse(model(x), y)"
   ]
  },
  {
   "cell_type": "markdown",
   "metadata": {},
   "source": [
    "### <span style=\"color:orange\">Current loss of the model and its randomly initialized parameters</span>"
   ]
  },
  {
   "cell_type": "code",
   "execution_count": 14,
   "metadata": {},
   "outputs": [
    {
     "data": {
      "text/plain": [
       "83.42649f0"
      ]
     },
     "execution_count": 14,
     "metadata": {},
     "output_type": "execute_result"
    }
   ],
   "source": [
    "loss(x_train,y_train)"
   ]
  },
  {
   "cell_type": "markdown",
   "metadata": {},
   "source": [
    "### <span style=\"color:orange\">Define an optimizer to change the parameters according the loss function</span>\n",
    "\n",
    "The step size is the $\\eta$ argument/parameter value\n",
    "\n",
    "there is also the popular alternative of **ADAM**"
   ]
  },
  {
   "cell_type": "code",
   "execution_count": 15,
   "metadata": {},
   "outputs": [
    {
     "data": {
      "text/plain": [
       "Descent(0.05)"
      ]
     },
     "execution_count": 15,
     "metadata": {},
     "output_type": "execute_result"
    }
   ],
   "source": [
    "opt = Flux.Descent(0.05) #non-stochastic"
   ]
  },
  {
   "cell_type": "markdown",
   "metadata": {},
   "source": [
    "### <span style=\"color:orange\">package the data into 'tuples' that makes it easy to send to the learning scheme</span>\n",
    "\n",
    "This follows the feature and target pairing of the fundamental nature of the supervised learning scheme"
   ]
  },
  {
   "cell_type": "code",
   "execution_count": 16,
   "metadata": {},
   "outputs": [
    {
     "data": {
      "text/plain": [
       "1-element Vector{Tuple{Matrix{Int64}, Matrix{Int64}}}:\n",
       " ([0 1 … 4 5], [2 6 … 18 22])"
      ]
     },
     "execution_count": 16,
     "metadata": {},
     "output_type": "execute_result"
    }
   ],
   "source": [
    "data = [(x_train, y_train)] #array of tuples"
   ]
  },
  {
   "cell_type": "code",
   "execution_count": 17,
   "metadata": {},
   "outputs": [
    {
     "data": {
      "text/plain": [
       "Params([Float32[1.5517563;;], Float32[0.0]])"
      ]
     },
     "execution_count": 17,
     "metadata": {},
     "output_type": "execute_result"
    }
   ],
   "source": [
    "parameters = Flux.params(model)"
   ]
  },
  {
   "cell_type": "markdown",
   "metadata": {},
   "source": [
    "### <span style=\"color:orange\">Train the model parameters now</span>\n",
    "\n",
    "The training uses the gradient from the optimizer to change the parameters so that the model loss is reduced (descent of the loss)"
   ]
  },
  {
   "cell_type": "code",
   "execution_count": 18,
   "metadata": {},
   "outputs": [
    {
     "name": "stdout",
     "output_type": "stream",
     "text": [
      "loss original = 83.42649\n",
      "loss after training = 0.4562064\n"
     ]
    }
   ],
   "source": [
    "println(\"loss original = $(loss(x_train,y_train))\")\n",
    "\n",
    "Flux.train!(loss, parameters, data, opt)\n",
    "\n",
    "println(\"loss after training = $(loss(x_train,y_train))\")"
   ]
  },
  {
   "cell_type": "code",
   "execution_count": 19,
   "metadata": {},
   "outputs": [
    {
     "data": {
      "text/plain": [
       "1×1 Matrix{Float32}:\n",
       " 4.29598"
      ]
     },
     "execution_count": 19,
     "metadata": {},
     "output_type": "execute_result"
    }
   ],
   "source": [
    "model.weight"
   ]
  },
  {
   "cell_type": "code",
   "execution_count": 20,
   "metadata": {},
   "outputs": [
    {
     "data": {
      "text/plain": [
       "1-element Vector{Float32}:\n",
       " 0.81206095"
      ]
     },
     "execution_count": 20,
     "metadata": {},
     "output_type": "execute_result"
    }
   ],
   "source": [
    "model.bias"
   ]
  },
  {
   "cell_type": "markdown",
   "metadata": {},
   "source": [
    "### <span style=\"color:orange\">Let us redo the learning scheme but differently this time</span>"
   ]
  },
  {
   "cell_type": "code",
   "execution_count": 21,
   "metadata": {},
   "outputs": [
    {
     "data": {
      "text/plain": [
       "Dense(1 => 1)       \u001b[90m# 2 parameters\u001b[39m"
      ]
     },
     "execution_count": 21,
     "metadata": {},
     "output_type": "execute_result"
    }
   ],
   "source": [
    "model = Dense(1,1)"
   ]
  },
  {
   "cell_type": "code",
   "execution_count": 22,
   "metadata": {},
   "outputs": [
    {
     "data": {
      "text/plain": [
       "1×1 Matrix{Float32}:\n",
       " -1.2775202"
      ]
     },
     "execution_count": 22,
     "metadata": {},
     "output_type": "execute_result"
    }
   ],
   "source": [
    "model.weight"
   ]
  },
  {
   "cell_type": "code",
   "execution_count": 23,
   "metadata": {},
   "outputs": [
    {
     "data": {
      "text/plain": [
       "1-element Vector{Float32}:\n",
       " 0.0"
      ]
     },
     "execution_count": 23,
     "metadata": {},
     "output_type": "execute_result"
    }
   ],
   "source": [
    "model.bias"
   ]
  },
  {
   "cell_type": "code",
   "execution_count": 24,
   "metadata": {},
   "outputs": [
    {
     "data": {
      "text/plain": [
       "Params([Float32[-1.2775202;;], Float32[0.0]])"
      ]
     },
     "execution_count": 24,
     "metadata": {},
     "output_type": "execute_result"
    }
   ],
   "source": [
    "parameters = Flux.params(model)"
   ]
  },
  {
   "cell_type": "code",
   "execution_count": 25,
   "metadata": {},
   "outputs": [
    {
     "data": {
      "text/plain": [
       "312.0872f0"
      ]
     },
     "execution_count": 25,
     "metadata": {},
     "output_type": "execute_result"
    }
   ],
   "source": [
    "loss(x_train,y_train)"
   ]
  },
  {
   "cell_type": "code",
   "execution_count": 26,
   "metadata": {},
   "outputs": [
    {
     "data": {
      "text/plain": [
       "7"
      ]
     },
     "execution_count": 26,
     "metadata": {},
     "output_type": "execute_result"
    }
   ],
   "source": [
    "rand(1:20) #get a random number from the range"
   ]
  },
  {
   "cell_type": "markdown",
   "metadata": {},
   "source": [
    "### <span style=\"color:orange\">Use the Stochastic approach (faster) as the gradient for each data point is not being calculated</span>"
   ]
  },
  {
   "cell_type": "code",
   "execution_count": 27,
   "metadata": {},
   "outputs": [
    {
     "name": "stdout",
     "output_type": "stream",
     "text": [
      "loss original = 312.0872\n",
      "(1, 6)\n",
      "loss after training = 3.031649e-13\n"
     ]
    }
   ],
   "source": [
    "println(\"loss original = $(loss(x_train,y_train))\")\n",
    "\n",
    "(mm,nn) = size(x_train)\n",
    "println(size(x_train))\n",
    "for epoch in 1:1_000\n",
    "    ii = rand(1:nn)\n",
    "    data = [(x_train[:,ii],y_train[:,ii])]\n",
    "    Flux.train!(loss, parameters, data, opt)\n",
    "end\n",
    "\n",
    "println(\"loss after training = $(loss(x_train,y_train))\")"
   ]
  },
  {
   "cell_type": "code",
   "execution_count": null,
   "metadata": {},
   "outputs": [],
   "source": []
  },
  {
   "cell_type": "code",
   "execution_count": 28,
   "metadata": {},
   "outputs": [
    {
     "data": {
      "text/plain": [
       "1×1 Matrix{Float32}:\n",
       " 3.9999998"
      ]
     },
     "execution_count": 28,
     "metadata": {},
     "output_type": "execute_result"
    }
   ],
   "source": [
    "model.weight"
   ]
  },
  {
   "cell_type": "code",
   "execution_count": 29,
   "metadata": {},
   "outputs": [
    {
     "data": {
      "text/plain": [
       "1-element Vector{Float32}:\n",
       " 2.000001"
      ]
     },
     "execution_count": 29,
     "metadata": {},
     "output_type": "execute_result"
    }
   ],
   "source": [
    "model.bias"
   ]
  },
  {
   "cell_type": "code",
   "execution_count": 30,
   "metadata": {},
   "outputs": [
    {
     "data": {
      "image/svg+xml": [
       "<?xml version=\"1.0\" encoding=\"utf-8\"?>\n",
       "<svg xmlns=\"http://www.w3.org/2000/svg\" xmlns:xlink=\"http://www.w3.org/1999/xlink\" width=\"600\" height=\"400\" viewBox=\"0 0 2400 1600\">\n",
       "<defs>\n",
       "  <clipPath id=\"clip180\">\n",
       "    <rect x=\"0\" y=\"0\" width=\"2400\" height=\"1600\"/>\n",
       "  </clipPath>\n",
       "</defs>\n",
       "<path clip-path=\"url(#clip180)\" d=\"\n",
       "M0 1600 L2400 1600 L2400 0 L0 0  Z\n",
       "  \" fill=\"#ffffff\" fill-rule=\"evenodd\" fill-opacity=\"1\"/>\n",
       "<defs>\n",
       "  <clipPath id=\"clip181\">\n",
       "    <rect x=\"480\" y=\"0\" width=\"1681\" height=\"1600\"/>\n",
       "  </clipPath>\n",
       "</defs>\n",
       "<path clip-path=\"url(#clip180)\" d=\"\n",
       "M187.084 1486.45 L2352.76 1486.45 L2352.76 47.2441 L187.084 47.2441  Z\n",
       "  \" fill=\"#ffffff\" fill-rule=\"evenodd\" fill-opacity=\"1\"/>\n",
       "<defs>\n",
       "  <clipPath id=\"clip182\">\n",
       "    <rect x=\"187\" y=\"47\" width=\"2167\" height=\"1440\"/>\n",
       "  </clipPath>\n",
       "</defs>\n",
       "<polyline clip-path=\"url(#clip182)\" style=\"stroke:#000000; stroke-linecap:round; stroke-linejoin:round; stroke-width:2; stroke-opacity:0.1; fill:none\" points=\"\n",
       "  248.377,1486.45 248.377,47.2441 \n",
       "  \"/>\n",
       "<polyline clip-path=\"url(#clip182)\" style=\"stroke:#000000; stroke-linecap:round; stroke-linejoin:round; stroke-width:2; stroke-opacity:0.1; fill:none\" points=\"\n",
       "  759.148,1486.45 759.148,47.2441 \n",
       "  \"/>\n",
       "<polyline clip-path=\"url(#clip182)\" style=\"stroke:#000000; stroke-linecap:round; stroke-linejoin:round; stroke-width:2; stroke-opacity:0.1; fill:none\" points=\"\n",
       "  1269.92,1486.45 1269.92,47.2441 \n",
       "  \"/>\n",
       "<polyline clip-path=\"url(#clip182)\" style=\"stroke:#000000; stroke-linecap:round; stroke-linejoin:round; stroke-width:2; stroke-opacity:0.1; fill:none\" points=\"\n",
       "  1780.69,1486.45 1780.69,47.2441 \n",
       "  \"/>\n",
       "<polyline clip-path=\"url(#clip182)\" style=\"stroke:#000000; stroke-linecap:round; stroke-linejoin:round; stroke-width:2; stroke-opacity:0.1; fill:none\" points=\"\n",
       "  2291.46,1486.45 2291.46,47.2441 \n",
       "  \"/>\n",
       "<polyline clip-path=\"url(#clip180)\" style=\"stroke:#000000; stroke-linecap:round; stroke-linejoin:round; stroke-width:4; stroke-opacity:1; fill:none\" points=\"\n",
       "  187.084,1486.45 2352.76,1486.45 \n",
       "  \"/>\n",
       "<polyline clip-path=\"url(#clip180)\" style=\"stroke:#000000; stroke-linecap:round; stroke-linejoin:round; stroke-width:4; stroke-opacity:1; fill:none\" points=\"\n",
       "  248.377,1486.45 248.377,1467.55 \n",
       "  \"/>\n",
       "<polyline clip-path=\"url(#clip180)\" style=\"stroke:#000000; stroke-linecap:round; stroke-linejoin:round; stroke-width:4; stroke-opacity:1; fill:none\" points=\"\n",
       "  759.148,1486.45 759.148,1467.55 \n",
       "  \"/>\n",
       "<polyline clip-path=\"url(#clip180)\" style=\"stroke:#000000; stroke-linecap:round; stroke-linejoin:round; stroke-width:4; stroke-opacity:1; fill:none\" points=\"\n",
       "  1269.92,1486.45 1269.92,1467.55 \n",
       "  \"/>\n",
       "<polyline clip-path=\"url(#clip180)\" style=\"stroke:#000000; stroke-linecap:round; stroke-linejoin:round; stroke-width:4; stroke-opacity:1; fill:none\" points=\"\n",
       "  1780.69,1486.45 1780.69,1467.55 \n",
       "  \"/>\n",
       "<polyline clip-path=\"url(#clip180)\" style=\"stroke:#000000; stroke-linecap:round; stroke-linejoin:round; stroke-width:4; stroke-opacity:1; fill:none\" points=\"\n",
       "  2291.46,1486.45 2291.46,1467.55 \n",
       "  \"/>\n",
       "<path clip-path=\"url(#clip180)\" d=\"M248.782 1529.7 Q245.634 1529.7 243.782 1531.86 Q241.953 1534.01 241.953 1537.76 Q241.953 1541.49 243.782 1543.66 Q245.634 1545.82 248.782 1545.82 Q251.93 1545.82 253.759 1543.66 Q255.611 1541.49 255.611 1537.76 Q255.611 1534.01 253.759 1531.86 Q251.93 1529.7 248.782 1529.7 M258.064 1515.05 L258.064 1519.31 Q256.305 1518.48 254.499 1518.04 Q252.717 1517.6 250.958 1517.6 Q246.328 1517.6 243.874 1520.72 Q241.444 1523.85 241.097 1530.17 Q242.462 1528.15 244.523 1527.09 Q246.583 1526 249.06 1526 Q254.268 1526 257.277 1529.17 Q260.31 1532.32 260.31 1537.76 Q260.31 1543.08 257.161 1546.3 Q254.013 1549.52 248.782 1549.52 Q242.787 1549.52 239.615 1544.94 Q236.444 1540.33 236.444 1531.6 Q236.444 1523.41 240.333 1518.55 Q244.222 1513.66 250.773 1513.66 Q252.532 1513.66 254.314 1514.01 Q256.12 1514.36 258.064 1515.05 Z\" fill=\"#000000\" fill-rule=\"evenodd\" fill-opacity=\"1\" /><path clip-path=\"url(#clip180)\" d=\"M748.037 1514.29 L770.259 1514.29 L770.259 1516.28 L757.713 1548.85 L752.829 1548.85 L764.634 1518.22 L748.037 1518.22 L748.037 1514.29 Z\" fill=\"#000000\" fill-rule=\"evenodd\" fill-opacity=\"1\" /><path clip-path=\"url(#clip180)\" d=\"M1269.92 1532.44 Q1266.59 1532.44 1264.67 1534.22 Q1262.77 1536 1262.77 1539.13 Q1262.77 1542.25 1264.67 1544.03 Q1266.59 1545.82 1269.92 1545.82 Q1273.25 1545.82 1275.17 1544.03 Q1277.1 1542.23 1277.1 1539.13 Q1277.1 1536 1275.17 1534.22 Q1273.28 1532.44 1269.92 1532.44 M1265.24 1530.45 Q1262.23 1529.7 1260.55 1527.64 Q1258.88 1525.58 1258.88 1522.62 Q1258.88 1518.48 1261.82 1516.07 Q1264.78 1513.66 1269.92 1513.66 Q1275.08 1513.66 1278.02 1516.07 Q1280.96 1518.48 1280.96 1522.62 Q1280.96 1525.58 1279.27 1527.64 Q1277.61 1529.7 1274.62 1530.45 Q1278 1531.23 1279.87 1533.52 Q1281.77 1535.82 1281.77 1539.13 Q1281.77 1544.15 1278.69 1546.83 Q1275.64 1549.52 1269.92 1549.52 Q1264.2 1549.52 1261.12 1546.83 Q1258.07 1544.15 1258.07 1539.13 Q1258.07 1535.82 1259.97 1533.52 Q1261.86 1531.23 1265.24 1530.45 M1263.53 1523.06 Q1263.53 1525.75 1265.2 1527.25 Q1266.89 1528.76 1269.92 1528.76 Q1272.93 1528.76 1274.62 1527.25 Q1276.33 1525.75 1276.33 1523.06 Q1276.33 1520.38 1274.62 1518.87 Q1272.93 1517.37 1269.92 1517.37 Q1266.89 1517.37 1265.2 1518.87 Q1263.53 1520.38 1263.53 1523.06 Z\" fill=\"#000000\" fill-rule=\"evenodd\" fill-opacity=\"1\" /><path clip-path=\"url(#clip180)\" d=\"M1770.99 1548.13 L1770.99 1543.87 Q1772.75 1544.7 1774.56 1545.14 Q1776.36 1545.58 1778.1 1545.58 Q1782.73 1545.58 1785.16 1542.48 Q1787.61 1539.36 1787.96 1533.01 Q1786.62 1535.01 1784.56 1536.07 Q1782.5 1537.13 1780 1537.13 Q1774.81 1537.13 1771.78 1534.01 Q1768.77 1530.86 1768.77 1525.42 Q1768.77 1520.1 1771.92 1516.88 Q1775.07 1513.66 1780.3 1513.66 Q1786.29 1513.66 1789.44 1518.27 Q1792.61 1522.85 1792.61 1531.6 Q1792.61 1539.77 1788.72 1544.66 Q1784.86 1549.52 1778.31 1549.52 Q1776.55 1549.52 1774.74 1549.17 Q1772.94 1548.82 1770.99 1548.13 M1780.3 1533.48 Q1783.45 1533.48 1785.27 1531.32 Q1787.13 1529.17 1787.13 1525.42 Q1787.13 1521.7 1785.27 1519.54 Q1783.45 1517.37 1780.3 1517.37 Q1777.15 1517.37 1775.3 1519.54 Q1773.47 1521.7 1773.47 1525.42 Q1773.47 1529.17 1775.3 1531.32 Q1777.15 1533.48 1780.3 1533.48 Z\" fill=\"#000000\" fill-rule=\"evenodd\" fill-opacity=\"1\" /><path clip-path=\"url(#clip180)\" d=\"M2266.15 1544.91 L2273.79 1544.91 L2273.79 1518.55 L2265.48 1520.21 L2265.48 1515.95 L2273.74 1514.29 L2278.42 1514.29 L2278.42 1544.91 L2286.06 1544.91 L2286.06 1548.85 L2266.15 1548.85 L2266.15 1544.91 Z\" fill=\"#000000\" fill-rule=\"evenodd\" fill-opacity=\"1\" /><path clip-path=\"url(#clip180)\" d=\"M2305.5 1517.37 Q2301.89 1517.37 2300.06 1520.93 Q2298.26 1524.47 2298.26 1531.6 Q2298.26 1538.71 2300.06 1542.27 Q2301.89 1545.82 2305.5 1545.82 Q2309.14 1545.82 2310.94 1542.27 Q2312.77 1538.71 2312.77 1531.6 Q2312.77 1524.47 2310.94 1520.93 Q2309.14 1517.37 2305.5 1517.37 M2305.5 1513.66 Q2311.31 1513.66 2314.37 1518.27 Q2317.45 1522.85 2317.45 1531.6 Q2317.45 1540.33 2314.37 1544.94 Q2311.31 1549.52 2305.5 1549.52 Q2299.69 1549.52 2296.61 1544.94 Q2293.56 1540.33 2293.56 1531.6 Q2293.56 1522.85 2296.61 1518.27 Q2299.69 1513.66 2305.5 1513.66 Z\" fill=\"#000000\" fill-rule=\"evenodd\" fill-opacity=\"1\" /><polyline clip-path=\"url(#clip182)\" style=\"stroke:#000000; stroke-linecap:round; stroke-linejoin:round; stroke-width:2; stroke-opacity:0.1; fill:none\" points=\"\n",
       "  187.084,1318.43 2352.76,1318.43 \n",
       "  \"/>\n",
       "<polyline clip-path=\"url(#clip182)\" style=\"stroke:#000000; stroke-linecap:round; stroke-linejoin:round; stroke-width:2; stroke-opacity:0.1; fill:none\" points=\"\n",
       "  187.084,1106.28 2352.76,1106.28 \n",
       "  \"/>\n",
       "<polyline clip-path=\"url(#clip182)\" style=\"stroke:#000000; stroke-linecap:round; stroke-linejoin:round; stroke-width:2; stroke-opacity:0.1; fill:none\" points=\"\n",
       "  187.084,894.134 2352.76,894.134 \n",
       "  \"/>\n",
       "<polyline clip-path=\"url(#clip182)\" style=\"stroke:#000000; stroke-linecap:round; stroke-linejoin:round; stroke-width:2; stroke-opacity:0.1; fill:none\" points=\"\n",
       "  187.084,681.987 2352.76,681.987 \n",
       "  \"/>\n",
       "<polyline clip-path=\"url(#clip182)\" style=\"stroke:#000000; stroke-linecap:round; stroke-linejoin:round; stroke-width:2; stroke-opacity:0.1; fill:none\" points=\"\n",
       "  187.084,469.84 2352.76,469.84 \n",
       "  \"/>\n",
       "<polyline clip-path=\"url(#clip182)\" style=\"stroke:#000000; stroke-linecap:round; stroke-linejoin:round; stroke-width:2; stroke-opacity:0.1; fill:none\" points=\"\n",
       "  187.084,257.694 2352.76,257.694 \n",
       "  \"/>\n",
       "<polyline clip-path=\"url(#clip180)\" style=\"stroke:#000000; stroke-linecap:round; stroke-linejoin:round; stroke-width:4; stroke-opacity:1; fill:none\" points=\"\n",
       "  187.084,1486.45 187.084,47.2441 \n",
       "  \"/>\n",
       "<polyline clip-path=\"url(#clip180)\" style=\"stroke:#000000; stroke-linecap:round; stroke-linejoin:round; stroke-width:4; stroke-opacity:1; fill:none\" points=\"\n",
       "  187.084,1318.43 205.982,1318.43 \n",
       "  \"/>\n",
       "<polyline clip-path=\"url(#clip180)\" style=\"stroke:#000000; stroke-linecap:round; stroke-linejoin:round; stroke-width:4; stroke-opacity:1; fill:none\" points=\"\n",
       "  187.084,1106.28 205.982,1106.28 \n",
       "  \"/>\n",
       "<polyline clip-path=\"url(#clip180)\" style=\"stroke:#000000; stroke-linecap:round; stroke-linejoin:round; stroke-width:4; stroke-opacity:1; fill:none\" points=\"\n",
       "  187.084,894.134 205.982,894.134 \n",
       "  \"/>\n",
       "<polyline clip-path=\"url(#clip180)\" style=\"stroke:#000000; stroke-linecap:round; stroke-linejoin:round; stroke-width:4; stroke-opacity:1; fill:none\" points=\"\n",
       "  187.084,681.987 205.982,681.987 \n",
       "  \"/>\n",
       "<polyline clip-path=\"url(#clip180)\" style=\"stroke:#000000; stroke-linecap:round; stroke-linejoin:round; stroke-width:4; stroke-opacity:1; fill:none\" points=\"\n",
       "  187.084,469.84 205.982,469.84 \n",
       "  \"/>\n",
       "<polyline clip-path=\"url(#clip180)\" style=\"stroke:#000000; stroke-linecap:round; stroke-linejoin:round; stroke-width:4; stroke-opacity:1; fill:none\" points=\"\n",
       "  187.084,257.694 205.982,257.694 \n",
       "  \"/>\n",
       "<path clip-path=\"url(#clip180)\" d=\"M58.7699 1331.77 L75.0892 1331.77 L75.0892 1335.71 L53.1449 1335.71 L53.1449 1331.77 Q55.8069 1329.02 60.3902 1324.39 Q64.9967 1319.74 66.1772 1318.39 Q68.4226 1315.87 69.3022 1314.13 Q70.205 1312.37 70.205 1310.68 Q70.205 1307.93 68.2606 1306.19 Q66.3393 1304.46 63.2374 1304.46 Q61.0384 1304.46 58.5847 1305.22 Q56.1541 1305.99 53.3764 1307.54 L53.3764 1302.81 Q56.2004 1301.68 58.6541 1301.1 Q61.1078 1300.52 63.1448 1300.52 Q68.5152 1300.52 71.7096 1303.21 Q74.904 1305.89 74.904 1310.38 Q74.904 1312.51 74.0939 1314.43 Q73.3068 1316.33 71.2004 1318.93 Q70.6217 1319.6 67.5198 1322.81 Q64.418 1326.01 58.7699 1331.77 Z\" fill=\"#000000\" fill-rule=\"evenodd\" fill-opacity=\"1\" /><path clip-path=\"url(#clip180)\" d=\"M83.7234 1301.15 L105.946 1301.15 L105.946 1303.14 L93.3993 1335.71 L88.5151 1335.71 L100.321 1305.08 L83.7234 1305.08 L83.7234 1301.15 Z\" fill=\"#000000\" fill-rule=\"evenodd\" fill-opacity=\"1\" /><path clip-path=\"url(#clip180)\" d=\"M115.066 1329.83 L119.95 1329.83 L119.95 1335.71 L115.066 1335.71 L115.066 1329.83 Z\" fill=\"#000000\" fill-rule=\"evenodd\" fill-opacity=\"1\" /><path clip-path=\"url(#clip180)\" d=\"M130.182 1301.15 L148.538 1301.15 L148.538 1305.08 L134.464 1305.08 L134.464 1313.55 Q135.482 1313.21 136.501 1313.05 Q137.519 1312.86 138.538 1312.86 Q144.325 1312.86 147.705 1316.03 Q151.084 1319.2 151.084 1324.62 Q151.084 1330.2 147.612 1333.3 Q144.14 1336.38 137.82 1336.38 Q135.644 1336.38 133.376 1336.01 Q131.131 1335.64 128.723 1334.9 L128.723 1330.2 Q130.807 1331.33 133.029 1331.89 Q135.251 1332.44 137.728 1332.44 Q141.732 1332.44 144.07 1330.34 Q146.408 1328.23 146.408 1324.62 Q146.408 1321.01 144.07 1318.9 Q141.732 1316.8 137.728 1316.8 Q135.853 1316.8 133.978 1317.21 Q132.126 1317.63 130.182 1318.51 L130.182 1301.15 Z\" fill=\"#000000\" fill-rule=\"evenodd\" fill-opacity=\"1\" /><path clip-path=\"url(#clip180)\" d=\"M67.9133 1104.93 Q71.2698 1105.64 73.1448 1107.91 Q75.0429 1110.18 75.0429 1113.51 Q75.0429 1118.63 71.5244 1121.43 Q68.0059 1124.23 61.5245 1124.23 Q59.3486 1124.23 57.0338 1123.79 Q54.7421 1123.38 52.2884 1122.52 L52.2884 1118.01 Q54.2328 1119.14 56.5477 1119.72 Q58.8625 1120.3 61.3856 1120.3 Q65.7837 1120.3 68.0754 1118.56 Q70.3902 1116.82 70.3902 1113.51 Q70.3902 1110.46 68.2374 1108.75 Q66.1078 1107.01 62.2884 1107.01 L58.2606 1107.01 L58.2606 1103.17 L62.4735 1103.17 Q65.9226 1103.17 67.7513 1101.8 Q69.58 1100.41 69.58 1097.82 Q69.58 1095.16 67.6819 1093.75 Q65.8069 1092.31 62.2884 1092.31 Q60.3671 1092.31 58.168 1092.73 Q55.969 1093.14 53.3301 1094.02 L53.3301 1089.86 Q55.9921 1089.12 58.3069 1088.75 Q60.6449 1088.38 62.705 1088.38 Q68.0291 1088.38 71.1309 1090.81 Q74.2327 1093.21 74.2327 1097.33 Q74.2327 1100.2 72.5892 1102.2 Q70.9457 1104.16 67.9133 1104.93 Z\" fill=\"#000000\" fill-rule=\"evenodd\" fill-opacity=\"1\" /><path clip-path=\"url(#clip180)\" d=\"M93.9086 1092.08 Q90.2975 1092.08 88.4688 1095.64 Q86.6632 1099.19 86.6632 1106.32 Q86.6632 1113.42 88.4688 1116.99 Q90.2975 1120.53 93.9086 1120.53 Q97.5428 1120.53 99.3483 1116.99 Q101.177 1113.42 101.177 1106.32 Q101.177 1099.19 99.3483 1095.64 Q97.5428 1092.08 93.9086 1092.08 M93.9086 1088.38 Q99.7187 1088.38 102.774 1092.98 Q105.853 1097.57 105.853 1106.32 Q105.853 1115.04 102.774 1119.65 Q99.7187 1124.23 93.9086 1124.23 Q88.0984 1124.23 85.0197 1119.65 Q81.9642 1115.04 81.9642 1106.32 Q81.9642 1097.57 85.0197 1092.98 Q88.0984 1088.38 93.9086 1088.38 Z\" fill=\"#000000\" fill-rule=\"evenodd\" fill-opacity=\"1\" /><path clip-path=\"url(#clip180)\" d=\"M114.07 1117.68 L118.955 1117.68 L118.955 1123.56 L114.07 1123.56 L114.07 1117.68 Z\" fill=\"#000000\" fill-rule=\"evenodd\" fill-opacity=\"1\" /><path clip-path=\"url(#clip180)\" d=\"M139.14 1092.08 Q135.529 1092.08 133.7 1095.64 Q131.894 1099.19 131.894 1106.32 Q131.894 1113.42 133.7 1116.99 Q135.529 1120.53 139.14 1120.53 Q142.774 1120.53 144.58 1116.99 Q146.408 1113.42 146.408 1106.32 Q146.408 1099.19 144.58 1095.64 Q142.774 1092.08 139.14 1092.08 M139.14 1088.38 Q144.95 1088.38 148.005 1092.98 Q151.084 1097.57 151.084 1106.32 Q151.084 1115.04 148.005 1119.65 Q144.95 1124.23 139.14 1124.23 Q133.33 1124.23 130.251 1119.65 Q127.195 1115.04 127.195 1106.32 Q127.195 1097.57 130.251 1092.98 Q133.33 1088.38 139.14 1088.38 Z\" fill=\"#000000\" fill-rule=\"evenodd\" fill-opacity=\"1\" /><path clip-path=\"url(#clip180)\" d=\"M68.9087 892.78 Q72.2652 893.497 74.1402 895.766 Q76.0383 898.034 76.0383 901.368 Q76.0383 906.484 72.5198 909.284 Q69.0013 912.085 62.5198 912.085 Q60.3439 912.085 58.0291 911.646 Q55.7375 911.229 53.2838 910.372 L53.2838 905.859 Q55.2282 906.993 57.543 907.571 Q59.8578 908.15 62.381 908.15 Q66.7791 908.15 69.0707 906.414 Q71.3855 904.678 71.3855 901.368 Q71.3855 898.312 69.2328 896.599 Q67.1032 894.863 63.2837 894.863 L59.256 894.863 L59.256 891.021 L63.4689 891.021 Q66.918 891.021 68.7467 889.655 Q70.5754 888.266 70.5754 885.673 Q70.5754 883.011 68.6772 881.599 Q66.8022 880.164 63.2837 880.164 Q61.3624 880.164 59.1634 880.581 Q56.9643 880.998 54.3254 881.877 L54.3254 877.711 Q56.9875 876.97 59.3023 876.599 Q61.6402 876.229 63.7004 876.229 Q69.0244 876.229 72.1263 878.66 Q75.2281 881.067 75.2281 885.187 Q75.2281 888.058 73.5846 890.048 Q71.9411 892.016 68.9087 892.78 Z\" fill=\"#000000\" fill-rule=\"evenodd\" fill-opacity=\"1\" /><path clip-path=\"url(#clip180)\" d=\"M88.9317 907.479 L105.251 907.479 L105.251 911.414 L83.3068 911.414 L83.3068 907.479 Q85.9688 904.724 90.5521 900.095 Q95.1586 895.442 96.3391 894.099 Q98.5845 891.576 99.4641 889.84 Q100.367 888.081 100.367 886.391 Q100.367 883.636 98.4224 881.9 Q96.5011 880.164 93.3993 880.164 Q91.2002 880.164 88.7466 880.928 Q86.316 881.692 83.5382 883.243 L83.5382 878.521 Q86.3623 877.386 88.816 876.808 Q91.2697 876.229 93.3067 876.229 Q98.6771 876.229 101.871 878.914 Q105.066 881.599 105.066 886.09 Q105.066 888.22 104.256 890.141 Q103.469 892.039 101.362 894.632 Q100.784 895.303 97.6817 898.521 Q94.5799 901.715 88.9317 907.479 Z\" fill=\"#000000\" fill-rule=\"evenodd\" fill-opacity=\"1\" /><path clip-path=\"url(#clip180)\" d=\"M115.066 905.534 L119.95 905.534 L119.95 911.414 L115.066 911.414 L115.066 905.534 Z\" fill=\"#000000\" fill-rule=\"evenodd\" fill-opacity=\"1\" /><path clip-path=\"url(#clip180)\" d=\"M130.182 876.854 L148.538 876.854 L148.538 880.789 L134.464 880.789 L134.464 889.261 Q135.482 888.914 136.501 888.752 Q137.519 888.567 138.538 888.567 Q144.325 888.567 147.705 891.738 Q151.084 894.909 151.084 900.326 Q151.084 905.905 147.612 909.007 Q144.14 912.085 137.82 912.085 Q135.644 912.085 133.376 911.715 Q131.131 911.345 128.723 910.604 L128.723 905.905 Q130.807 907.039 133.029 907.595 Q135.251 908.15 137.728 908.15 Q141.732 908.15 144.07 906.044 Q146.408 903.937 146.408 900.326 Q146.408 896.715 144.07 894.609 Q141.732 892.502 137.728 892.502 Q135.853 892.502 133.978 892.919 Q132.126 893.335 130.182 894.215 L130.182 876.854 Z\" fill=\"#000000\" fill-rule=\"evenodd\" fill-opacity=\"1\" /><path clip-path=\"url(#clip180)\" d=\"M67.9133 680.633 Q71.2698 681.351 73.1448 683.619 Q75.0429 685.888 75.0429 689.221 Q75.0429 694.337 71.5244 697.138 Q68.0059 699.939 61.5245 699.939 Q59.3486 699.939 57.0338 699.499 Q54.7421 699.082 52.2884 698.226 L52.2884 693.712 Q54.2328 694.846 56.5477 695.425 Q58.8625 696.003 61.3856 696.003 Q65.7837 696.003 68.0754 694.267 Q70.3902 692.531 70.3902 689.221 Q70.3902 686.165 68.2374 684.453 Q66.1078 682.716 62.2884 682.716 L58.2606 682.716 L58.2606 678.874 L62.4735 678.874 Q65.9226 678.874 67.7513 677.508 Q69.58 676.119 69.58 673.527 Q69.58 670.865 67.6819 669.453 Q65.8069 668.017 62.2884 668.017 Q60.3671 668.017 58.168 668.434 Q55.969 668.851 53.3301 669.73 L53.3301 665.564 Q55.9921 664.823 58.3069 664.453 Q60.6449 664.082 62.705 664.082 Q68.0291 664.082 71.1309 666.513 Q74.2327 668.92 74.2327 673.041 Q74.2327 675.911 72.5892 677.902 Q70.9457 679.869 67.9133 680.633 Z\" fill=\"#000000\" fill-rule=\"evenodd\" fill-opacity=\"1\" /><path clip-path=\"url(#clip180)\" d=\"M83.9549 664.707 L102.311 664.707 L102.311 668.642 L88.2373 668.642 L88.2373 677.115 Q89.2558 676.767 90.2743 676.605 Q91.2928 676.42 92.3113 676.42 Q98.0984 676.42 101.478 679.591 Q104.858 682.763 104.858 688.179 Q104.858 693.758 101.385 696.86 Q97.9132 699.939 91.5938 699.939 Q89.4178 699.939 87.1493 699.568 Q84.904 699.198 82.4966 698.457 L82.4966 693.758 Q84.5799 694.892 86.8021 695.448 Q89.0243 696.003 91.5012 696.003 Q95.5058 696.003 97.8437 693.897 Q100.182 691.79 100.182 688.179 Q100.182 684.568 97.8437 682.462 Q95.5058 680.355 91.5012 680.355 Q89.6262 680.355 87.7512 680.772 Q85.8993 681.189 83.9549 682.068 L83.9549 664.707 Z\" fill=\"#000000\" fill-rule=\"evenodd\" fill-opacity=\"1\" /><path clip-path=\"url(#clip180)\" d=\"M114.07 693.388 L118.955 693.388 L118.955 699.267 L114.07 699.267 L114.07 693.388 Z\" fill=\"#000000\" fill-rule=\"evenodd\" fill-opacity=\"1\" /><path clip-path=\"url(#clip180)\" d=\"M139.14 667.786 Q135.529 667.786 133.7 671.351 Q131.894 674.892 131.894 682.022 Q131.894 689.128 133.7 692.693 Q135.529 696.235 139.14 696.235 Q142.774 696.235 144.58 692.693 Q146.408 689.128 146.408 682.022 Q146.408 674.892 144.58 671.351 Q142.774 667.786 139.14 667.786 M139.14 664.082 Q144.95 664.082 148.005 668.689 Q151.084 673.272 151.084 682.022 Q151.084 690.749 148.005 695.355 Q144.95 699.939 139.14 699.939 Q133.33 699.939 130.251 695.355 Q127.195 690.749 127.195 682.022 Q127.195 673.272 130.251 668.689 Q133.33 664.082 139.14 664.082 Z\" fill=\"#000000\" fill-rule=\"evenodd\" fill-opacity=\"1\" /><path clip-path=\"url(#clip180)\" d=\"M68.9087 468.486 Q72.2652 469.204 74.1402 471.472 Q76.0383 473.741 76.0383 477.074 Q76.0383 482.19 72.5198 484.991 Q69.0013 487.792 62.5198 487.792 Q60.3439 487.792 58.0291 487.352 Q55.7375 486.935 53.2838 486.079 L53.2838 481.565 Q55.2282 482.699 57.543 483.278 Q59.8578 483.857 62.381 483.857 Q66.7791 483.857 69.0707 482.121 Q71.3855 480.384 71.3855 477.074 Q71.3855 474.019 69.2328 472.306 Q67.1032 470.57 63.2837 470.57 L59.256 470.57 L59.256 466.727 L63.4689 466.727 Q66.918 466.727 68.7467 465.361 Q70.5754 463.972 70.5754 461.38 Q70.5754 458.718 68.6772 457.306 Q66.8022 455.871 63.2837 455.871 Q61.3624 455.871 59.1634 456.287 Q56.9643 456.704 54.3254 457.584 L54.3254 453.417 Q56.9875 452.676 59.3023 452.306 Q61.6402 451.935 63.7004 451.935 Q69.0244 451.935 72.1263 454.366 Q75.2281 456.773 75.2281 460.894 Q75.2281 463.764 73.5846 465.755 Q71.9411 467.722 68.9087 468.486 Z\" fill=\"#000000\" fill-rule=\"evenodd\" fill-opacity=\"1\" /><path clip-path=\"url(#clip180)\" d=\"M83.7234 452.56 L105.946 452.56 L105.946 454.551 L93.3993 487.12 L88.5151 487.12 L100.321 456.496 L83.7234 456.496 L83.7234 452.56 Z\" fill=\"#000000\" fill-rule=\"evenodd\" fill-opacity=\"1\" /><path clip-path=\"url(#clip180)\" d=\"M115.066 481.241 L119.95 481.241 L119.95 487.12 L115.066 487.12 L115.066 481.241 Z\" fill=\"#000000\" fill-rule=\"evenodd\" fill-opacity=\"1\" /><path clip-path=\"url(#clip180)\" d=\"M130.182 452.56 L148.538 452.56 L148.538 456.496 L134.464 456.496 L134.464 464.968 Q135.482 464.621 136.501 464.459 Q137.519 464.273 138.538 464.273 Q144.325 464.273 147.705 467.445 Q151.084 470.616 151.084 476.033 Q151.084 481.611 147.612 484.713 Q144.14 487.792 137.82 487.792 Q135.644 487.792 133.376 487.421 Q131.131 487.051 128.723 486.31 L128.723 481.611 Q130.807 482.745 133.029 483.301 Q135.251 483.857 137.728 483.857 Q141.732 483.857 144.07 481.75 Q146.408 479.644 146.408 476.033 Q146.408 472.421 144.07 470.315 Q141.732 468.209 137.728 468.209 Q135.853 468.209 133.978 468.625 Q132.126 469.042 130.182 469.921 L130.182 452.56 Z\" fill=\"#000000\" fill-rule=\"evenodd\" fill-opacity=\"1\" /><path clip-path=\"url(#clip180)\" d=\"M66.5939 244.488 L54.7884 262.937 L66.5939 262.937 L66.5939 244.488 M65.367 240.414 L71.2466 240.414 L71.2466 262.937 L76.1772 262.937 L76.1772 266.826 L71.2466 266.826 L71.2466 274.974 L66.5939 274.974 L66.5939 266.826 L50.9921 266.826 L50.9921 262.312 L65.367 240.414 Z\" fill=\"#000000\" fill-rule=\"evenodd\" fill-opacity=\"1\" /><path clip-path=\"url(#clip180)\" d=\"M93.9086 243.492 Q90.2975 243.492 88.4688 247.057 Q86.6632 250.599 86.6632 257.728 Q86.6632 264.835 88.4688 268.4 Q90.2975 271.941 93.9086 271.941 Q97.5428 271.941 99.3483 268.4 Q101.177 264.835 101.177 257.728 Q101.177 250.599 99.3483 247.057 Q97.5428 243.492 93.9086 243.492 M93.9086 239.789 Q99.7187 239.789 102.774 244.395 Q105.853 248.978 105.853 257.728 Q105.853 266.455 102.774 271.062 Q99.7187 275.645 93.9086 275.645 Q88.0984 275.645 85.0197 271.062 Q81.9642 266.455 81.9642 257.728 Q81.9642 248.978 85.0197 244.395 Q88.0984 239.789 93.9086 239.789 Z\" fill=\"#000000\" fill-rule=\"evenodd\" fill-opacity=\"1\" /><path clip-path=\"url(#clip180)\" d=\"M114.07 269.094 L118.955 269.094 L118.955 274.974 L114.07 274.974 L114.07 269.094 Z\" fill=\"#000000\" fill-rule=\"evenodd\" fill-opacity=\"1\" /><path clip-path=\"url(#clip180)\" d=\"M139.14 243.492 Q135.529 243.492 133.7 247.057 Q131.894 250.599 131.894 257.728 Q131.894 264.835 133.7 268.4 Q135.529 271.941 139.14 271.941 Q142.774 271.941 144.58 268.4 Q146.408 264.835 146.408 257.728 Q146.408 250.599 144.58 247.057 Q142.774 243.492 139.14 243.492 M139.14 239.789 Q144.95 239.789 148.005 244.395 Q151.084 248.978 151.084 257.728 Q151.084 266.455 148.005 271.062 Q144.95 275.645 139.14 275.645 Q133.33 275.645 130.251 271.062 Q127.195 266.455 127.195 257.728 Q127.195 248.978 130.251 244.395 Q133.33 239.789 139.14 239.789 Z\" fill=\"#000000\" fill-rule=\"evenodd\" fill-opacity=\"1\" /><circle clip-path=\"url(#clip182)\" cx=\"248.377\" cy=\"1445.72\" r=\"14.4\" fill=\"#0000ff\" fill-rule=\"evenodd\" fill-opacity=\"1\" stroke=\"#000000\" stroke-opacity=\"1\" stroke-width=\"3.2\"/>\n",
       "<circle clip-path=\"url(#clip182)\" cx=\"759.148\" cy=\"1106.28\" r=\"14.4\" fill=\"#0000ff\" fill-rule=\"evenodd\" fill-opacity=\"1\" stroke=\"#000000\" stroke-opacity=\"1\" stroke-width=\"3.2\"/>\n",
       "<circle clip-path=\"url(#clip182)\" cx=\"1269.92\" cy=\"766.846\" r=\"14.4\" fill=\"#0000ff\" fill-rule=\"evenodd\" fill-opacity=\"1\" stroke=\"#000000\" stroke-opacity=\"1\" stroke-width=\"3.2\"/>\n",
       "<circle clip-path=\"url(#clip182)\" cx=\"1780.69\" cy=\"427.411\" r=\"14.4\" fill=\"#0000ff\" fill-rule=\"evenodd\" fill-opacity=\"1\" stroke=\"#000000\" stroke-opacity=\"1\" stroke-width=\"3.2\"/>\n",
       "<circle clip-path=\"url(#clip182)\" cx=\"2291.46\" cy=\"87.9763\" r=\"14.4\" fill=\"#0000ff\" fill-rule=\"evenodd\" fill-opacity=\"1\" stroke=\"#000000\" stroke-opacity=\"1\" stroke-width=\"3.2\"/>\n",
       "<polyline clip-path=\"url(#clip182)\" style=\"stroke:#00a9ad; stroke-linecap:round; stroke-linejoin:round; stroke-width:4; stroke-opacity:1; fill:none\" points=\"\n",
       "  248.377,1445.72 269.014,1432 289.651,1418.29 310.288,1404.57 330.926,1390.86 351.563,1377.14 372.2,1363.43 392.837,1349.71 413.475,1336 434.112,1322.28 \n",
       "  454.749,1308.57 475.386,1294.86 496.024,1281.14 516.661,1267.43 537.298,1253.71 557.935,1240 578.573,1226.28 599.21,1212.57 619.847,1198.85 640.484,1185.14 \n",
       "  661.122,1171.42 681.759,1157.71 702.396,1144 723.033,1130.28 743.67,1116.57 764.308,1102.85 784.945,1089.14 805.582,1075.42 826.219,1061.71 846.857,1047.99 \n",
       "  867.494,1034.28 888.131,1020.57 908.768,1006.85 929.406,993.136 950.043,979.421 970.68,965.707 991.317,951.992 1011.95,938.278 1032.59,924.563 1053.23,910.849 \n",
       "  1073.87,897.134 1094.5,883.42 1115.14,869.705 1135.78,855.991 1156.42,842.276 1177.05,828.561 1197.69,814.847 1218.33,801.132 1238.96,787.418 1259.6,773.703 \n",
       "  1280.24,759.989 1300.88,746.274 1321.51,732.56 1342.15,718.845 1362.79,705.131 1383.42,691.416 1404.06,677.702 1424.7,663.987 1445.34,650.272 1465.97,636.558 \n",
       "  1486.61,622.843 1507.25,609.129 1527.89,595.414 1548.52,581.7 1569.16,567.985 1589.8,554.271 1610.43,540.556 1631.07,526.842 1651.71,513.127 1672.35,499.413 \n",
       "  1692.98,485.698 1713.62,471.983 1734.26,458.269 1754.9,444.554 1775.53,430.84 1796.17,417.125 1816.81,403.411 1837.44,389.696 1858.08,375.982 1878.72,362.267 \n",
       "  1899.36,348.553 1919.99,334.838 1940.63,321.124 1961.27,307.409 1981.9,293.694 2002.54,279.98 2023.18,266.265 2043.82,252.551 2064.45,238.836 2085.09,225.122 \n",
       "  2105.73,211.407 2126.37,197.693 2147,183.978 2167.64,170.264 2188.28,156.549 2208.91,142.835 2229.55,129.12 2250.19,115.405 2270.83,101.691 2291.46,87.9764 \n",
       "  \n",
       "  \"/>\n",
       "</svg>\n"
      ]
     },
     "execution_count": 30,
     "metadata": {},
     "output_type": "execute_result"
    }
   ],
   "source": [
    "plot(x_test, y_test, legend=false, linetype=\"scatter\", color=\"blue\")\n",
    "domain = LinRange(6,10,100)\n",
    "plot!(domain, domain .* model.weight .+ model.bias, legend=false)"
   ]
  },
  {
   "cell_type": "markdown",
   "metadata": {},
   "source": [
    "### <span style=\"color:orange\">Let's make a set of **predictions** from the model</span>"
   ]
  },
  {
   "cell_type": "code",
   "execution_count": 31,
   "metadata": {},
   "outputs": [
    {
     "data": {
      "text/plain": [
       "1×4 Matrix{Float64}:\n",
       " 30.0  34.0  4.0  402.0"
      ]
     },
     "execution_count": 31,
     "metadata": {},
     "output_type": "execute_result"
    }
   ],
   "source": [
    "model([7 8 .5 100])"
   ]
  },
  {
   "cell_type": "code",
   "execution_count": null,
   "metadata": {},
   "outputs": [],
   "source": []
  },
  {
   "cell_type": "markdown",
   "metadata": {},
   "source": [
    "### <span style=\"color:orange\">Let us look at the same problem in a slightly different approach</span>\n",
    "\n",
    "- Flux assumes that the features span the 'rows' and not the columns, meaning that each column is a data point. \n",
    "- We often use a **DataLoader** object to encapsulate the features and targets and set the batch size for the SGD\n",
    "- The Adam optimizer is very popular and well known as it handles 'momenta'"
   ]
  },
  {
   "cell_type": "code",
   "execution_count": 38,
   "metadata": {},
   "outputs": [
    {
     "data": {
      "text/plain": [
       "([222 374 … 366 70], [162 146 … 130 74])"
      ]
     },
     "execution_count": 38,
     "metadata": {},
     "output_type": "execute_result"
    }
   ],
   "source": [
    "#hcat makes sure that this x data is a row and not a default column\n",
    "x_train, x_test = hcat(rand(1:100,20)...), hcat(rand(1:100,20)...)\n",
    "y_train, y_test = target_function.(x_train), target_function.(x_test)"
   ]
  },
  {
   "cell_type": "code",
   "execution_count": null,
   "metadata": {},
   "outputs": [],
   "source": []
  },
  {
   "cell_type": "code",
   "execution_count": 39,
   "metadata": {},
   "outputs": [
    {
     "data": {
      "text/plain": [
       "MLUtils.DataLoader{Tuple{Matrix{Int64}, Matrix{Int64}}, Random._GLOBAL_RNG, Val{nothing}}(([55 93 … 91 17], [222 374 … 366 70]), 2, false, true, true, false, Val{nothing}(), Random._GLOBAL_RNG())"
      ]
     },
     "execution_count": 39,
     "metadata": {},
     "output_type": "execute_result"
    }
   ],
   "source": [
    "W = rand()\n",
    "b = rand()\n",
    "model1(x) = W*x .+ b\n",
    "function loss1(x,y)\n",
    "    y_hat = model1.(x)[1]\n",
    "    sum((y .- y_hat).^2)\n",
    "end\n",
    "pars = Flux.params(model1)\n",
    "opt = Flux.Adam(0.01)      # will store optimiser momentum\n",
    "loader = Flux.DataLoader( (x_train, y_train) , batchsize=2, shuffle=true )"
   ]
  },
  {
   "cell_type": "code",
   "execution_count": 40,
   "metadata": {},
   "outputs": [
    {
     "name": "stdout",
     "output_type": "stream",
     "text": [
      "55 93\n",
      "222 374\n"
     ]
    }
   ],
   "source": [
    "for (x,y) in (x_train,y_train)\n",
    "    println(x,\" \",y)\n",
    "end"
   ]
  },
  {
   "cell_type": "code",
   "execution_count": 34,
   "metadata": {},
   "outputs": [
    {
     "ename": "LoadError",
     "evalue": "MethodError: no method matching loss1(::Matrix{Int64})\n\u001b[0mClosest candidates are:\n\u001b[0m  loss1(::Any, \u001b[91m::Any\u001b[39m) at In[33]:4",
     "output_type": "error",
     "traceback": [
      "MethodError: no method matching loss1(::Matrix{Int64})\n\u001b[0mClosest candidates are:\n\u001b[0m  loss1(::Any, \u001b[91m::Any\u001b[39m) at In[33]:4",
      "",
      "Stacktrace:",
      "  [1] macro expansion",
      "    @ ~/.julia/packages/Zygote/dABKa/src/compiler/interface2.jl:0 [inlined]",
      "  [2] _pullback(ctx::Zygote.Context{true}, f::typeof(loss1), args::Matrix{Int64})",
      "    @ Zygote ~/.julia/packages/Zygote/dABKa/src/compiler/interface2.jl:9",
      "  [3] _apply(::Function, ::Vararg{Any})",
      "    @ Core ./boot.jl:816",
      "  [4] adjoint",
      "    @ ~/.julia/packages/Zygote/dABKa/src/lib/lib.jl:203 [inlined]",
      "  [5] _pullback",
      "    @ ~/.julia/packages/ZygoteRules/AIbCs/src/adjoint.jl:65 [inlined]",
      "  [6] _pullback",
      "    @ ~/.julia/packages/Flux/4k0Ls/src/optimise/train.jl:130 [inlined]",
      "  [7] _pullback(::Zygote.Context{true}, ::Flux.Optimise.var\"#37#40\"{typeof(loss1), Matrix{Int64}})",
      "    @ Zygote ~/.julia/packages/Zygote/dABKa/src/compiler/interface2.jl:0",
      "  [8] pullback(f::Function, ps::Params{Zygote.Buffer{Any, Vector{Any}}})",
      "    @ Zygote ~/.julia/packages/Zygote/dABKa/src/compiler/interface.jl:373",
      "  [9] gradient(f::Function, args::Params{Zygote.Buffer{Any, Vector{Any}}})",
      "    @ Zygote ~/.julia/packages/Zygote/dABKa/src/compiler/interface.jl:96",
      " [10] macro expansion",
      "    @ ~/.julia/packages/Flux/4k0Ls/src/optimise/train.jl:129 [inlined]",
      " [11] macro expansion",
      "    @ ~/.julia/packages/ProgressLogging/6KXlp/src/ProgressLogging.jl:328 [inlined]",
      " [12] train!(loss::Function, ps::Params{Zygote.Buffer{Any, Vector{Any}}}, data::Tuple{Matrix{Int64}, Matrix{Int64}}, opt::Adam; cb::Flux.Optimise.var\"#38#41\")",
      "    @ Flux.Optimise ~/.julia/packages/Flux/4k0Ls/src/optimise/train.jl:127",
      " [13] train!(loss::Function, ps::Params{Zygote.Buffer{Any, Vector{Any}}}, data::Tuple{Matrix{Int64}, Matrix{Int64}}, opt::Adam)",
      "    @ Flux.Optimise ~/.julia/packages/Flux/4k0Ls/src/optimise/train.jl:123",
      " [14] top-level scope",
      "    @ ./In[34]:5",
      " [15] eval",
      "    @ ./boot.jl:368 [inlined]",
      " [16] include_string(mapexpr::typeof(REPL.softscope), mod::Module, code::String, filename::String)",
      "    @ Base ./loading.jl:1428"
     ]
    }
   ],
   "source": [
    "for epoch in 1:1_000\n",
    "    for (x, y) in loader\n",
    "        y_hat = model1(x)\n",
    "        loss1(y, y_hat)\n",
    "        Flux.train!(loss1, pars, (x,y), opt)\n",
    "    end\n",
    "end"
   ]
  },
  {
   "cell_type": "code",
   "execution_count": 101,
   "metadata": {},
   "outputs": [],
   "source": [
    "#plot(losses)"
   ]
  },
  {
   "cell_type": "code",
   "execution_count": 102,
   "metadata": {},
   "outputs": [
    {
     "data": {
      "text/plain": [
       "0.18349628499663506"
      ]
     },
     "execution_count": 102,
     "metadata": {},
     "output_type": "execute_result"
    }
   ],
   "source": [
    "W"
   ]
  },
  {
   "cell_type": "code",
   "execution_count": null,
   "metadata": {},
   "outputs": [],
   "source": []
  },
  {
   "cell_type": "code",
   "execution_count": 32,
   "metadata": {},
   "outputs": [],
   "source": [
    "### <span style=\"color:orange\"></span>\n",
    "### <span style=\"color:orange\"></span>\n"
   ]
  },
  {
   "cell_type": "code",
   "execution_count": null,
   "metadata": {},
   "outputs": [],
   "source": []
  },
  {
   "cell_type": "code",
   "execution_count": null,
   "metadata": {},
   "outputs": [],
   "source": []
  },
  {
   "cell_type": "markdown",
   "metadata": {},
   "source": [
    "### <span style=\"color:orange\">produce some ground truth parameters</span>"
   ]
  },
  {
   "cell_type": "code",
   "execution_count": 36,
   "metadata": {},
   "outputs": [
    {
     "data": {
      "text/plain": [
       "2×5 Matrix{Int64}:\n",
       " 1  2  3  4  5\n",
       " 5  4  3  2  1"
      ]
     },
     "metadata": {},
     "output_type": "display_data"
    }
   ],
   "source": [
    "W_truth = [1 2 3 4 5]\n",
    "display( W_truth )"
   ]
  },
  {
   "cell_type": "code",
   "execution_count": 38,
   "metadata": {},
   "outputs": [
    {
     "data": {
      "text/plain": [
       "1-element Vector{Float64}:\n",
       " -2.0"
      ]
     },
     "metadata": {},
     "output_type": "display_data"
    }
   ],
   "source": [
    "b_truth = [ -2.0 ]\n",
    "display( b_truth )"
   ]
  },
  {
   "cell_type": "markdown",
   "metadata": {},
   "source": [
    "### <span style=\"color:orange\">produce a ground truth model to produce data</span>"
   ]
  },
  {
   "cell_type": "code",
   "execution_count": 12,
   "metadata": {},
   "outputs": [
    {
     "data": {
      "text/plain": [
       "ground_truth_model (generic function with 1 method)"
      ]
     },
     "execution_count": 12,
     "metadata": {},
     "output_type": "execute_result"
    }
   ],
   "source": [
    "ground_truth_model(x) = (W_truth * x) .+ b_truth"
   ]
  },
  {
   "cell_type": "markdown",
   "metadata": {},
   "source": [
    "### <span style=\"color:orange\">produce some *training feature* data</span>"
   ]
  },
  {
   "cell_type": "code",
   "execution_count": 145,
   "metadata": {},
   "outputs": [
    {
     "name": "stdout",
     "output_type": "stream",
     "text": [
      "(1000,)\n"
     ]
    },
    {
     "data": {
      "text/plain": [
       "4-element Vector{Vector{Float64}}:\n",
       " [2.1208584464907614, 4.163429508817119, 1.7837581819243453, 4.191883360153838, 0.9090654523496511]\n",
       " [2.5236466993444058, 0.5522780451803794, 4.308994851030602, 3.5725598676226236, 2.2233108849818866]\n",
       " [1.0168668447179057, 4.720139202172423, 0.0335506960345161, 4.052071949031639, 1.5691063438533743]\n",
       " [1.537624116410331, 1.7997210953088234, 4.538404390194335, 0.5282918858982111, 1.1087434807820133]"
      ]
     },
     "metadata": {},
     "output_type": "display_data"
    }
   ],
   "source": [
    "NN = 10^3\n",
    "x_train = [ 5 .* rand(5) for _ in 1:NN ]\n",
    "println( size( x_train ) )\n",
    "display( x_train[1:4] )"
   ]
  },
  {
   "cell_type": "markdown",
   "metadata": {},
   "source": [
    "### <span style=\"color:orange\">produce some *training target* data</span>"
   ]
  },
  {
   "cell_type": "code",
   "execution_count": 146,
   "metadata": {},
   "outputs": [
    {
     "name": "stdout",
     "output_type": "stream",
     "text": [
      "(1000,)\n"
     ]
    },
    {
     "data": {
      "text/plain": [
       "4-element Vector{Vector{Float64}}:\n",
       " [35.982321957464244, 39.91723968690263]\n",
       " [40.89538747080707, 35.14593318607259]\n",
       " [33.78056442140868, 31.656362480792733]\n",
       " [25.634360399374426, 28.4468328996352]"
      ]
     },
     "metadata": {},
     "output_type": "display_data"
    }
   ],
   "source": [
    "y_train = [ ground_truth_model(x) + 0.2 .* randn(2) for x in x_train ]\n",
    "println( size( y_train ) )\n",
    "display( y_train[1:4] )"
   ]
  },
  {
   "cell_type": "markdown",
   "metadata": {},
   "source": [
    "### <span style=\"color:orange\">define the model</span>"
   ]
  },
  {
   "cell_type": "code",
   "execution_count": 147,
   "metadata": {},
   "outputs": [
    {
     "data": {
      "text/plain": [
       "model_to_fit (generic function with 1 method)"
      ]
     },
     "execution_count": 147,
     "metadata": {},
     "output_type": "execute_result"
    }
   ],
   "source": [
    "model_to_fit(x) = W1*x .+ b1"
   ]
  },
  {
   "cell_type": "markdown",
   "metadata": {},
   "source": [
    "### <span style=\"color:orange\">Initialize the model parameters</span>"
   ]
  },
  {
   "cell_type": "code",
   "execution_count": 189,
   "metadata": {},
   "outputs": [
    {
     "data": {
      "text/plain": [
       "2-element Vector{Float64}:\n",
       " 10.27977596938496\n",
       " 10.752576902079465"
      ]
     },
     "execution_count": 189,
     "metadata": {},
     "output_type": "execute_result"
    }
   ],
   "source": [
    "W1 = rand( 2, 5 ) .+ 10\n",
    "b1 = rand( 2 ) .+ 10"
   ]
  },
  {
   "cell_type": "markdown",
   "metadata": {},
   "source": [
    "### <span style=\"color:orange\">define the loss function</span>"
   ]
  },
  {
   "cell_type": "code",
   "execution_count": 190,
   "metadata": {},
   "outputs": [
    {
     "data": {
      "text/plain": [
       "loss1 (generic function with 1 method)"
      ]
     },
     "execution_count": 190,
     "metadata": {},
     "output_type": "execute_result"
    }
   ],
   "source": [
    "function loss1( x, y )\n",
    "    y_hat = model_to_fit( x ) #y_hat is our prediction based upon the model given the current value of the parameters \n",
    "    sum( ( y .- y_hat ).^2 ) #this is the sum of squared errors (SSE) of the prediction for these parameter values\n",
    "end"
   ]
  },
  {
   "cell_type": "markdown",
   "metadata": {},
   "source": [
    "### <span style=\"color:orange\">set the optimizer for parameter for the gradients</span>"
   ]
  },
  {
   "cell_type": "code",
   "execution_count": 191,
   "metadata": {},
   "outputs": [
    {
     "data": {
      "text/plain": [
       "Adam(0.01, (0.9, 0.999), 1.0e-8, IdDict{Any, Any}())"
      ]
     },
     "execution_count": 191,
     "metadata": {},
     "output_type": "execute_result"
    }
   ],
   "source": [
    "opt = Flux.Adam(0.01) # an alternative is >Descent(0.01)< "
   ]
  },
  {
   "cell_type": "markdown",
   "metadata": {},
   "source": [
    "### <span style=\"color:orange\">get the parameters of the model which need to be optimized</span>"
   ]
  },
  {
   "cell_type": "code",
   "execution_count": 192,
   "metadata": {},
   "outputs": [
    {
     "data": {
      "text/plain": [
       "Params([model_to_fit])"
      ]
     },
     "execution_count": 192,
     "metadata": {},
     "output_type": "execute_result"
    }
   ],
   "source": [
    "ps = Params( [model_to_fit] ) # Params is part of Zygote.jl, as Zygote allows a dictionary style retrieval of the parameter variables\n",
    "#alternative forms are >Params([W1,b1])< , using flux >Flux.params(W1, b1)< or >Flux.params(model_to_fit)<"
   ]
  },
  {
   "cell_type": "markdown",
   "metadata": {},
   "source": [
    "### <span style=\"color:orange\">We can calculate the loss for each setting of the parameters which is needed to find the **gradient** </span>"
   ]
  },
  {
   "cell_type": "code",
   "execution_count": 193,
   "metadata": {},
   "outputs": [
    {
     "name": "stdout",
     "output_type": "stream",
     "text": [
      "24237.961876376605\n"
     ]
    },
    {
     "data": {
      "text/plain": [
       "Grads(...)"
      ]
     },
     "execution_count": 193,
     "metadata": {},
     "output_type": "execute_result"
    }
   ],
   "source": [
    "gs = gradient( Params([W1,b1]) ) do #using Zygote.jl\n",
    "    l1 = loss1(x_train[1],y_train[1])\n",
    "    println(l1)\n",
    "    return l1\n",
    "end"
   ]
  },
  {
   "cell_type": "code",
   "execution_count": 194,
   "metadata": {},
   "outputs": [
    {
     "data": {
      "text/plain": [
       "2×5 Matrix{Float64}:\n",
       " 479.536  941.371  403.316  947.805  205.544\n",
       " 454.025  891.29   381.86   897.381  194.609"
      ]
     },
     "execution_count": 194,
     "metadata": {},
     "output_type": "execute_result"
    }
   ],
   "source": [
    "gs[W1]"
   ]
  },
  {
   "cell_type": "code",
   "execution_count": 195,
   "metadata": {},
   "outputs": [
    {
     "data": {
      "text/plain": [
       "2-element Vector{Float64}:\n",
       " 226.10475919027664\n",
       " 214.07588695837143"
      ]
     },
     "execution_count": 195,
     "metadata": {},
     "output_type": "execute_result"
    }
   ],
   "source": [
    "gs[b1]"
   ]
  },
  {
   "cell_type": "code",
   "execution_count": 196,
   "metadata": {},
   "outputs": [
    {
     "name": "stdout",
     "output_type": "stream",
     "text": [
      "24237.961876376605\n"
     ]
    },
    {
     "data": {
      "text/plain": [
       "Grads(...)"
      ]
     },
     "execution_count": 196,
     "metadata": {},
     "output_type": "execute_result"
    }
   ],
   "source": [
    "gs = gradient(Flux.params(x_train, y_train)) do #using Flux.jl\n",
    "    l1 = loss1(x_train[1],y_train[1])\n",
    "    println(l1)\n",
    "    return l1\n",
    "end"
   ]
  },
  {
   "cell_type": "code",
   "execution_count": 197,
   "metadata": {},
   "outputs": [],
   "source": [
    "train_data = zip( x_train, y_train )\n",
    "\n",
    "ps = Flux.params( model_to_fit )\n",
    "\n",
    "loss_log = []\n",
    "\n",
    "for (x,y) in train_data\n",
    "    gs = gradient( ps ) do #using Flux.jl\n",
    "        l1 = loss1(x,y)\n",
    "        Zygote.ignore_derivatives() do # code in this 'block' is not part of the differentiated set (not part of the optimization)\n",
    "            push!(loss_log, l1)\n",
    "        end\n",
    "        return l1\n",
    "    end\n",
    "    Flux.Optimise.update!(opt, ps, gs)\n",
    "end"
   ]
  },
  {
   "cell_type": "code",
   "execution_count": 198,
   "metadata": {},
   "outputs": [
    {
     "data": {
      "text/plain": [
       "1000-element Vector{Any}:\n",
       " 24237.961876376605\n",
       " 24093.623717882045\n",
       " 18884.228937818887\n",
       " 13464.934682025541\n",
       "  9472.990301449478\n",
       " 31403.13484342039\n",
       " 16700.79033210296\n",
       " 15297.859388950936\n",
       " 13660.081499067375\n",
       " 12317.934664637005\n",
       " 18941.627383771804\n",
       " 16515.51335477688\n",
       " 22488.66343331941\n",
       "     ⋮\n",
       " 22173.70908233695\n",
       "  8887.247844694572\n",
       " 37537.70818517936\n",
       " 31591.92454538282\n",
       " 17988.07626468913\n",
       " 29712.204483713125\n",
       " 37370.469458890584\n",
       " 19132.197662348208\n",
       " 26474.38283523103\n",
       " 15120.480969724633\n",
       " 36310.313945297996\n",
       " 26813.532422541026"
      ]
     },
     "execution_count": 198,
     "metadata": {},
     "output_type": "execute_result"
    }
   ],
   "source": [
    "loss_log"
   ]
  },
  {
   "cell_type": "code",
   "execution_count": 199,
   "metadata": {},
   "outputs": [
    {
     "data": {
      "image/svg+xml": [
       "<?xml version=\"1.0\" encoding=\"utf-8\"?>\n",
       "<svg xmlns=\"http://www.w3.org/2000/svg\" xmlns:xlink=\"http://www.w3.org/1999/xlink\" width=\"600\" height=\"400\" viewBox=\"0 0 2400 1600\">\n",
       "<defs>\n",
       "  <clipPath id=\"clip770\">\n",
       "    <rect x=\"0\" y=\"0\" width=\"2400\" height=\"1600\"/>\n",
       "  </clipPath>\n",
       "</defs>\n",
       "<path clip-path=\"url(#clip770)\" d=\"\n",
       "M0 1600 L2400 1600 L2400 0 L0 0  Z\n",
       "  \" fill=\"#ffffff\" fill-rule=\"evenodd\" fill-opacity=\"1\"/>\n",
       "<defs>\n",
       "  <clipPath id=\"clip771\">\n",
       "    <rect x=\"480\" y=\"0\" width=\"1681\" height=\"1600\"/>\n",
       "  </clipPath>\n",
       "</defs>\n",
       "<path clip-path=\"url(#clip770)\" d=\"\n",
       "M277.431 1486.45 L2352.76 1486.45 L2352.76 47.2441 L277.431 47.2441  Z\n",
       "  \" fill=\"#ffffff\" fill-rule=\"evenodd\" fill-opacity=\"1\"/>\n",
       "<defs>\n",
       "  <clipPath id=\"clip772\">\n",
       "    <rect x=\"277\" y=\"47\" width=\"2076\" height=\"1440\"/>\n",
       "  </clipPath>\n",
       "</defs>\n",
       "<polyline clip-path=\"url(#clip772)\" style=\"stroke:#000000; stroke-linecap:round; stroke-linejoin:round; stroke-width:2; stroke-opacity:0.1; fill:none\" points=\"\n",
       "  334.207,1486.45 334.207,47.2441 \n",
       "  \"/>\n",
       "<polyline clip-path=\"url(#clip772)\" style=\"stroke:#000000; stroke-linecap:round; stroke-linejoin:round; stroke-width:2; stroke-opacity:0.1; fill:none\" points=\"\n",
       "  824.16,1486.45 824.16,47.2441 \n",
       "  \"/>\n",
       "<polyline clip-path=\"url(#clip772)\" style=\"stroke:#000000; stroke-linecap:round; stroke-linejoin:round; stroke-width:2; stroke-opacity:0.1; fill:none\" points=\"\n",
       "  1314.11,1486.45 1314.11,47.2441 \n",
       "  \"/>\n",
       "<polyline clip-path=\"url(#clip772)\" style=\"stroke:#000000; stroke-linecap:round; stroke-linejoin:round; stroke-width:2; stroke-opacity:0.1; fill:none\" points=\"\n",
       "  1804.07,1486.45 1804.07,47.2441 \n",
       "  \"/>\n",
       "<polyline clip-path=\"url(#clip772)\" style=\"stroke:#000000; stroke-linecap:round; stroke-linejoin:round; stroke-width:2; stroke-opacity:0.1; fill:none\" points=\"\n",
       "  2294.02,1486.45 2294.02,47.2441 \n",
       "  \"/>\n",
       "<polyline clip-path=\"url(#clip770)\" style=\"stroke:#000000; stroke-linecap:round; stroke-linejoin:round; stroke-width:4; stroke-opacity:1; fill:none\" points=\"\n",
       "  277.431,1486.45 2352.76,1486.45 \n",
       "  \"/>\n",
       "<polyline clip-path=\"url(#clip770)\" style=\"stroke:#000000; stroke-linecap:round; stroke-linejoin:round; stroke-width:4; stroke-opacity:1; fill:none\" points=\"\n",
       "  334.207,1486.45 334.207,1467.55 \n",
       "  \"/>\n",
       "<polyline clip-path=\"url(#clip770)\" style=\"stroke:#000000; stroke-linecap:round; stroke-linejoin:round; stroke-width:4; stroke-opacity:1; fill:none\" points=\"\n",
       "  824.16,1486.45 824.16,1467.55 \n",
       "  \"/>\n",
       "<polyline clip-path=\"url(#clip770)\" style=\"stroke:#000000; stroke-linecap:round; stroke-linejoin:round; stroke-width:4; stroke-opacity:1; fill:none\" points=\"\n",
       "  1314.11,1486.45 1314.11,1467.55 \n",
       "  \"/>\n",
       "<polyline clip-path=\"url(#clip770)\" style=\"stroke:#000000; stroke-linecap:round; stroke-linejoin:round; stroke-width:4; stroke-opacity:1; fill:none\" points=\"\n",
       "  1804.07,1486.45 1804.07,1467.55 \n",
       "  \"/>\n",
       "<polyline clip-path=\"url(#clip770)\" style=\"stroke:#000000; stroke-linecap:round; stroke-linejoin:round; stroke-width:4; stroke-opacity:1; fill:none\" points=\"\n",
       "  2294.02,1486.45 2294.02,1467.55 \n",
       "  \"/>\n",
       "<path clip-path=\"url(#clip770)\" d=\"M334.207 1517.37 Q330.596 1517.37 328.767 1520.93 Q326.961 1524.47 326.961 1531.6 Q326.961 1538.71 328.767 1542.27 Q330.596 1545.82 334.207 1545.82 Q337.841 1545.82 339.647 1542.27 Q341.475 1538.71 341.475 1531.6 Q341.475 1524.47 339.647 1520.93 Q337.841 1517.37 334.207 1517.37 M334.207 1513.66 Q340.017 1513.66 343.072 1518.27 Q346.151 1522.85 346.151 1531.6 Q346.151 1540.33 343.072 1544.94 Q340.017 1549.52 334.207 1549.52 Q328.397 1549.52 325.318 1544.94 Q322.262 1540.33 322.262 1531.6 Q322.262 1522.85 325.318 1518.27 Q328.397 1513.66 334.207 1513.66 Z\" fill=\"#000000\" fill-rule=\"evenodd\" fill-opacity=\"1\" /><path clip-path=\"url(#clip770)\" d=\"M787.852 1544.91 L804.172 1544.91 L804.172 1548.85 L782.227 1548.85 L782.227 1544.91 Q784.889 1542.16 789.473 1537.53 Q794.079 1532.88 795.26 1531.53 Q797.505 1529.01 798.385 1527.27 Q799.288 1525.51 799.288 1523.82 Q799.288 1521.07 797.343 1519.33 Q795.422 1517.6 792.32 1517.6 Q790.121 1517.6 787.667 1518.36 Q785.237 1519.13 782.459 1520.68 L782.459 1515.95 Q785.283 1514.82 787.737 1514.24 Q790.19 1513.66 792.227 1513.66 Q797.598 1513.66 800.792 1516.35 Q803.987 1519.03 803.987 1523.52 Q803.987 1525.65 803.176 1527.57 Q802.389 1529.47 800.283 1532.07 Q799.704 1532.74 796.602 1535.95 Q793.501 1539.15 787.852 1544.91 Z\" fill=\"#000000\" fill-rule=\"evenodd\" fill-opacity=\"1\" /><path clip-path=\"url(#clip770)\" d=\"M814.033 1514.29 L832.389 1514.29 L832.389 1518.22 L818.315 1518.22 L818.315 1526.7 Q819.334 1526.35 820.352 1526.19 Q821.371 1526 822.389 1526 Q828.176 1526 831.556 1529.17 Q834.936 1532.34 834.936 1537.76 Q834.936 1543.34 831.463 1546.44 Q827.991 1549.52 821.672 1549.52 Q819.496 1549.52 817.227 1549.15 Q814.982 1548.78 812.575 1548.04 L812.575 1543.34 Q814.658 1544.47 816.88 1545.03 Q819.102 1545.58 821.579 1545.58 Q825.584 1545.58 827.922 1543.48 Q830.26 1541.37 830.26 1537.76 Q830.26 1534.15 827.922 1532.04 Q825.584 1529.94 821.579 1529.94 Q819.704 1529.94 817.829 1530.35 Q815.977 1530.77 814.033 1531.65 L814.033 1514.29 Z\" fill=\"#000000\" fill-rule=\"evenodd\" fill-opacity=\"1\" /><path clip-path=\"url(#clip770)\" d=\"M854.148 1517.37 Q850.537 1517.37 848.709 1520.93 Q846.903 1524.47 846.903 1531.6 Q846.903 1538.71 848.709 1542.27 Q850.537 1545.82 854.148 1545.82 Q857.783 1545.82 859.588 1542.27 Q861.417 1538.71 861.417 1531.6 Q861.417 1524.47 859.588 1520.93 Q857.783 1517.37 854.148 1517.37 M854.148 1513.66 Q859.959 1513.66 863.014 1518.27 Q866.093 1522.85 866.093 1531.6 Q866.093 1540.33 863.014 1544.94 Q859.959 1549.52 854.148 1549.52 Q848.338 1549.52 845.26 1544.94 Q842.204 1540.33 842.204 1531.6 Q842.204 1522.85 845.26 1518.27 Q848.338 1513.66 854.148 1513.66 Z\" fill=\"#000000\" fill-rule=\"evenodd\" fill-opacity=\"1\" /><path clip-path=\"url(#clip770)\" d=\"M1273.73 1514.29 L1292.09 1514.29 L1292.09 1518.22 L1278.01 1518.22 L1278.01 1526.7 Q1279.03 1526.35 1280.05 1526.19 Q1281.07 1526 1282.09 1526 Q1287.88 1526 1291.25 1529.17 Q1294.63 1532.34 1294.63 1537.76 Q1294.63 1543.34 1291.16 1546.44 Q1287.69 1549.52 1281.37 1549.52 Q1279.19 1549.52 1276.93 1549.15 Q1274.68 1548.78 1272.27 1548.04 L1272.27 1543.34 Q1274.36 1544.47 1276.58 1545.03 Q1278.8 1545.58 1281.28 1545.58 Q1285.28 1545.58 1287.62 1543.48 Q1289.96 1541.37 1289.96 1537.76 Q1289.96 1534.15 1287.62 1532.04 Q1285.28 1529.94 1281.28 1529.94 Q1279.4 1529.94 1277.53 1530.35 Q1275.68 1530.77 1273.73 1531.65 L1273.73 1514.29 Z\" fill=\"#000000\" fill-rule=\"evenodd\" fill-opacity=\"1\" /><path clip-path=\"url(#clip770)\" d=\"M1313.85 1517.37 Q1310.24 1517.37 1308.41 1520.93 Q1306.6 1524.47 1306.6 1531.6 Q1306.6 1538.71 1308.41 1542.27 Q1310.24 1545.82 1313.85 1545.82 Q1317.48 1545.82 1319.29 1542.27 Q1321.12 1538.71 1321.12 1531.6 Q1321.12 1524.47 1319.29 1520.93 Q1317.48 1517.37 1313.85 1517.37 M1313.85 1513.66 Q1319.66 1513.66 1322.71 1518.27 Q1325.79 1522.85 1325.79 1531.6 Q1325.79 1540.33 1322.71 1544.94 Q1319.66 1549.52 1313.85 1549.52 Q1308.04 1549.52 1304.96 1544.94 Q1301.9 1540.33 1301.9 1531.6 Q1301.9 1522.85 1304.96 1518.27 Q1308.04 1513.66 1313.85 1513.66 Z\" fill=\"#000000\" fill-rule=\"evenodd\" fill-opacity=\"1\" /><path clip-path=\"url(#clip770)\" d=\"M1344.01 1517.37 Q1340.4 1517.37 1338.57 1520.93 Q1336.76 1524.47 1336.76 1531.6 Q1336.76 1538.71 1338.57 1542.27 Q1340.4 1545.82 1344.01 1545.82 Q1347.64 1545.82 1349.45 1542.27 Q1351.28 1538.71 1351.28 1531.6 Q1351.28 1524.47 1349.45 1520.93 Q1347.64 1517.37 1344.01 1517.37 M1344.01 1513.66 Q1349.82 1513.66 1352.87 1518.27 Q1355.95 1522.85 1355.95 1531.6 Q1355.95 1540.33 1352.87 1544.94 Q1349.82 1549.52 1344.01 1549.52 Q1338.2 1549.52 1335.12 1544.94 Q1332.06 1540.33 1332.06 1531.6 Q1332.06 1522.85 1335.12 1518.27 Q1338.2 1513.66 1344.01 1513.66 Z\" fill=\"#000000\" fill-rule=\"evenodd\" fill-opacity=\"1\" /><path clip-path=\"url(#clip770)\" d=\"M1762.34 1514.29 L1784.56 1514.29 L1784.56 1516.28 L1772.02 1548.85 L1767.13 1548.85 L1778.94 1518.22 L1762.34 1518.22 L1762.34 1514.29 Z\" fill=\"#000000\" fill-rule=\"evenodd\" fill-opacity=\"1\" /><path clip-path=\"url(#clip770)\" d=\"M1793.73 1514.29 L1812.09 1514.29 L1812.09 1518.22 L1798.01 1518.22 L1798.01 1526.7 Q1799.03 1526.35 1800.05 1526.19 Q1801.07 1526 1802.09 1526 Q1807.87 1526 1811.25 1529.17 Q1814.63 1532.34 1814.63 1537.76 Q1814.63 1543.34 1811.16 1546.44 Q1807.69 1549.52 1801.37 1549.52 Q1799.19 1549.52 1796.93 1549.15 Q1794.68 1548.78 1792.27 1548.04 L1792.27 1543.34 Q1794.36 1544.47 1796.58 1545.03 Q1798.8 1545.58 1801.28 1545.58 Q1805.28 1545.58 1807.62 1543.48 Q1809.96 1541.37 1809.96 1537.76 Q1809.96 1534.15 1807.62 1532.04 Q1805.28 1529.94 1801.28 1529.94 Q1799.4 1529.94 1797.53 1530.35 Q1795.68 1530.77 1793.73 1531.65 L1793.73 1514.29 Z\" fill=\"#000000\" fill-rule=\"evenodd\" fill-opacity=\"1\" /><path clip-path=\"url(#clip770)\" d=\"M1833.85 1517.37 Q1830.24 1517.37 1828.41 1520.93 Q1826.6 1524.47 1826.6 1531.6 Q1826.6 1538.71 1828.41 1542.27 Q1830.24 1545.82 1833.85 1545.82 Q1837.48 1545.82 1839.29 1542.27 Q1841.12 1538.71 1841.12 1531.6 Q1841.12 1524.47 1839.29 1520.93 Q1837.48 1517.37 1833.85 1517.37 M1833.85 1513.66 Q1839.66 1513.66 1842.71 1518.27 Q1845.79 1522.85 1845.79 1531.6 Q1845.79 1540.33 1842.71 1544.94 Q1839.66 1549.52 1833.85 1549.52 Q1828.04 1549.52 1824.96 1544.94 Q1821.9 1540.33 1821.9 1531.6 Q1821.9 1522.85 1824.96 1518.27 Q1828.04 1513.66 1833.85 1513.66 Z\" fill=\"#000000\" fill-rule=\"evenodd\" fill-opacity=\"1\" /><path clip-path=\"url(#clip770)\" d=\"M2238.55 1544.91 L2246.18 1544.91 L2246.18 1518.55 L2237.87 1520.21 L2237.87 1515.95 L2246.14 1514.29 L2250.81 1514.29 L2250.81 1544.91 L2258.45 1544.91 L2258.45 1548.85 L2238.55 1548.85 L2238.55 1544.91 Z\" fill=\"#000000\" fill-rule=\"evenodd\" fill-opacity=\"1\" /><path clip-path=\"url(#clip770)\" d=\"M2277.9 1517.37 Q2274.29 1517.37 2272.46 1520.93 Q2270.65 1524.47 2270.65 1531.6 Q2270.65 1538.71 2272.46 1542.27 Q2274.29 1545.82 2277.9 1545.82 Q2281.53 1545.82 2283.34 1542.27 Q2285.17 1538.71 2285.17 1531.6 Q2285.17 1524.47 2283.34 1520.93 Q2281.53 1517.37 2277.9 1517.37 M2277.9 1513.66 Q2283.71 1513.66 2286.76 1518.27 Q2289.84 1522.85 2289.84 1531.6 Q2289.84 1540.33 2286.76 1544.94 Q2283.71 1549.52 2277.9 1549.52 Q2272.09 1549.52 2269.01 1544.94 Q2265.95 1540.33 2265.95 1531.6 Q2265.95 1522.85 2269.01 1518.27 Q2272.09 1513.66 2277.9 1513.66 Z\" fill=\"#000000\" fill-rule=\"evenodd\" fill-opacity=\"1\" /><path clip-path=\"url(#clip770)\" d=\"M2308.06 1517.37 Q2304.45 1517.37 2302.62 1520.93 Q2300.81 1524.47 2300.81 1531.6 Q2300.81 1538.71 2302.62 1542.27 Q2304.45 1545.82 2308.06 1545.82 Q2311.69 1545.82 2313.5 1542.27 Q2315.33 1538.71 2315.33 1531.6 Q2315.33 1524.47 2313.5 1520.93 Q2311.69 1517.37 2308.06 1517.37 M2308.06 1513.66 Q2313.87 1513.66 2316.93 1518.27 Q2320 1522.85 2320 1531.6 Q2320 1540.33 2316.93 1544.94 Q2313.87 1549.52 2308.06 1549.52 Q2302.25 1549.52 2299.17 1544.94 Q2296.12 1540.33 2296.12 1531.6 Q2296.12 1522.85 2299.17 1518.27 Q2302.25 1513.66 2308.06 1513.66 Z\" fill=\"#000000\" fill-rule=\"evenodd\" fill-opacity=\"1\" /><path clip-path=\"url(#clip770)\" d=\"M2338.22 1517.37 Q2334.61 1517.37 2332.78 1520.93 Q2330.98 1524.47 2330.98 1531.6 Q2330.98 1538.71 2332.78 1542.27 Q2334.61 1545.82 2338.22 1545.82 Q2341.86 1545.82 2343.66 1542.27 Q2345.49 1538.71 2345.49 1531.6 Q2345.49 1524.47 2343.66 1520.93 Q2341.86 1517.37 2338.22 1517.37 M2338.22 1513.66 Q2344.03 1513.66 2347.09 1518.27 Q2350.17 1522.85 2350.17 1531.6 Q2350.17 1540.33 2347.09 1544.94 Q2344.03 1549.52 2338.22 1549.52 Q2332.41 1549.52 2329.33 1544.94 Q2326.28 1540.33 2326.28 1531.6 Q2326.28 1522.85 2329.33 1518.27 Q2332.41 1513.66 2338.22 1513.66 Z\" fill=\"#000000\" fill-rule=\"evenodd\" fill-opacity=\"1\" /><polyline clip-path=\"url(#clip772)\" style=\"stroke:#000000; stroke-linecap:round; stroke-linejoin:round; stroke-width:2; stroke-opacity:0.1; fill:none\" points=\"\n",
       "  277.431,1294.77 2352.76,1294.77 \n",
       "  \"/>\n",
       "<polyline clip-path=\"url(#clip772)\" style=\"stroke:#000000; stroke-linecap:round; stroke-linejoin:round; stroke-width:2; stroke-opacity:0.1; fill:none\" points=\"\n",
       "  277.431,1084.02 2352.76,1084.02 \n",
       "  \"/>\n",
       "<polyline clip-path=\"url(#clip772)\" style=\"stroke:#000000; stroke-linecap:round; stroke-linejoin:round; stroke-width:2; stroke-opacity:0.1; fill:none\" points=\"\n",
       "  277.431,873.275 2352.76,873.275 \n",
       "  \"/>\n",
       "<polyline clip-path=\"url(#clip772)\" style=\"stroke:#000000; stroke-linecap:round; stroke-linejoin:round; stroke-width:2; stroke-opacity:0.1; fill:none\" points=\"\n",
       "  277.431,662.525 2352.76,662.525 \n",
       "  \"/>\n",
       "<polyline clip-path=\"url(#clip772)\" style=\"stroke:#000000; stroke-linecap:round; stroke-linejoin:round; stroke-width:2; stroke-opacity:0.1; fill:none\" points=\"\n",
       "  277.431,451.776 2352.76,451.776 \n",
       "  \"/>\n",
       "<polyline clip-path=\"url(#clip772)\" style=\"stroke:#000000; stroke-linecap:round; stroke-linejoin:round; stroke-width:2; stroke-opacity:0.1; fill:none\" points=\"\n",
       "  277.431,241.026 2352.76,241.026 \n",
       "  \"/>\n",
       "<polyline clip-path=\"url(#clip770)\" style=\"stroke:#000000; stroke-linecap:round; stroke-linejoin:round; stroke-width:4; stroke-opacity:1; fill:none\" points=\"\n",
       "  277.431,1486.45 277.431,47.2441 \n",
       "  \"/>\n",
       "<polyline clip-path=\"url(#clip770)\" style=\"stroke:#000000; stroke-linecap:round; stroke-linejoin:round; stroke-width:4; stroke-opacity:1; fill:none\" points=\"\n",
       "  277.431,1294.77 296.329,1294.77 \n",
       "  \"/>\n",
       "<polyline clip-path=\"url(#clip770)\" style=\"stroke:#000000; stroke-linecap:round; stroke-linejoin:round; stroke-width:4; stroke-opacity:1; fill:none\" points=\"\n",
       "  277.431,1084.02 296.329,1084.02 \n",
       "  \"/>\n",
       "<polyline clip-path=\"url(#clip770)\" style=\"stroke:#000000; stroke-linecap:round; stroke-linejoin:round; stroke-width:4; stroke-opacity:1; fill:none\" points=\"\n",
       "  277.431,873.275 296.329,873.275 \n",
       "  \"/>\n",
       "<polyline clip-path=\"url(#clip770)\" style=\"stroke:#000000; stroke-linecap:round; stroke-linejoin:round; stroke-width:4; stroke-opacity:1; fill:none\" points=\"\n",
       "  277.431,662.525 296.329,662.525 \n",
       "  \"/>\n",
       "<polyline clip-path=\"url(#clip770)\" style=\"stroke:#000000; stroke-linecap:round; stroke-linejoin:round; stroke-width:4; stroke-opacity:1; fill:none\" points=\"\n",
       "  277.431,451.776 296.329,451.776 \n",
       "  \"/>\n",
       "<polyline clip-path=\"url(#clip770)\" style=\"stroke:#000000; stroke-linecap:round; stroke-linejoin:round; stroke-width:4; stroke-opacity:1; fill:none\" points=\"\n",
       "  277.431,241.026 296.329,241.026 \n",
       "  \"/>\n",
       "<path clip-path=\"url(#clip770)\" d=\"M54.5569 1314.57 L62.1958 1314.57 L62.1958 1288.2 L53.8856 1289.87 L53.8856 1285.61 L62.1495 1283.94 L66.8254 1283.94 L66.8254 1314.57 L74.4642 1314.57 L74.4642 1318.5 L54.5569 1318.5 L54.5569 1314.57 Z\" fill=\"#000000\" fill-rule=\"evenodd\" fill-opacity=\"1\" /><path clip-path=\"url(#clip770)\" d=\"M83.9086 1312.62 L88.7928 1312.62 L88.7928 1318.5 L83.9086 1318.5 L83.9086 1312.62 Z\" fill=\"#000000\" fill-rule=\"evenodd\" fill-opacity=\"1\" /><path clip-path=\"url(#clip770)\" d=\"M108.978 1287.02 Q105.367 1287.02 103.538 1290.59 Q101.733 1294.13 101.733 1301.26 Q101.733 1308.36 103.538 1311.93 Q105.367 1315.47 108.978 1315.47 Q112.612 1315.47 114.418 1311.93 Q116.246 1308.36 116.246 1301.26 Q116.246 1294.13 114.418 1290.59 Q112.612 1287.02 108.978 1287.02 M108.978 1283.32 Q114.788 1283.32 117.844 1287.92 Q120.922 1292.51 120.922 1301.26 Q120.922 1309.98 117.844 1314.59 Q114.788 1319.17 108.978 1319.17 Q103.168 1319.17 100.089 1314.59 Q97.0335 1309.98 97.0335 1301.26 Q97.0335 1292.51 100.089 1287.92 Q103.168 1283.32 108.978 1283.32 Z\" fill=\"#000000\" fill-rule=\"evenodd\" fill-opacity=\"1\" /><path clip-path=\"url(#clip770)\" d=\"M157.311 1293.04 L146.732 1303.66 L157.311 1314.24 L154.556 1317.04 L143.931 1306.42 L133.306 1317.04 L130.575 1314.24 L141.131 1303.66 L130.575 1293.04 L133.306 1290.24 L143.931 1300.86 L154.556 1290.24 L157.311 1293.04 Z\" fill=\"#000000\" fill-rule=\"evenodd\" fill-opacity=\"1\" /><path clip-path=\"url(#clip770)\" d=\"M169.672 1314.57 L177.311 1314.57 L177.311 1288.2 L169.001 1289.87 L169.001 1285.61 L177.265 1283.94 L181.94 1283.94 L181.94 1314.57 L189.579 1314.57 L189.579 1318.5 L169.672 1318.5 L169.672 1314.57 Z\" fill=\"#000000\" fill-rule=\"evenodd\" fill-opacity=\"1\" /><path clip-path=\"url(#clip770)\" d=\"M209.024 1287.02 Q205.413 1287.02 203.584 1290.59 Q201.778 1294.13 201.778 1301.26 Q201.778 1308.36 203.584 1311.93 Q205.413 1315.47 209.024 1315.47 Q212.658 1315.47 214.463 1311.93 Q216.292 1308.36 216.292 1301.26 Q216.292 1294.13 214.463 1290.59 Q212.658 1287.02 209.024 1287.02 M209.024 1283.32 Q214.834 1283.32 217.889 1287.92 Q220.968 1292.51 220.968 1301.26 Q220.968 1309.98 217.889 1314.59 Q214.834 1319.17 209.024 1319.17 Q203.214 1319.17 200.135 1314.59 Q197.079 1309.98 197.079 1301.26 Q197.079 1292.51 200.135 1287.92 Q203.214 1283.32 209.024 1283.32 Z\" fill=\"#000000\" fill-rule=\"evenodd\" fill-opacity=\"1\" /><path clip-path=\"url(#clip770)\" d=\"M233.645 1266.32 L224.053 1281.31 L233.645 1281.31 L233.645 1266.32 M232.648 1263.01 L237.425 1263.01 L237.425 1281.31 L241.431 1281.31 L241.431 1284.47 L237.425 1284.47 L237.425 1291.09 L233.645 1291.09 L233.645 1284.47 L220.968 1284.47 L220.968 1280.8 L232.648 1263.01 Z\" fill=\"#000000\" fill-rule=\"evenodd\" fill-opacity=\"1\" /><path clip-path=\"url(#clip770)\" d=\"M57.7745 1103.82 L74.0939 1103.82 L74.0939 1107.75 L52.1495 1107.75 L52.1495 1103.82 Q54.8115 1101.06 59.3949 1096.43 Q64.0013 1091.78 65.1819 1090.44 Q67.4272 1087.91 68.3068 1086.18 Q69.2096 1084.42 69.2096 1082.73 Q69.2096 1079.97 67.2652 1078.24 Q65.3439 1076.5 62.2421 1076.5 Q60.043 1076.5 57.5893 1077.27 Q55.1588 1078.03 52.381 1079.58 L52.381 1074.86 Q55.2051 1073.72 57.6588 1073.15 Q60.1124 1072.57 62.1495 1072.57 Q67.5198 1072.57 70.7142 1075.25 Q73.9087 1077.94 73.9087 1082.43 Q73.9087 1084.56 73.0985 1086.48 Q72.3115 1088.38 70.205 1090.97 Q69.6263 1091.64 66.5245 1094.86 Q63.4226 1098.05 57.7745 1103.82 Z\" fill=\"#000000\" fill-rule=\"evenodd\" fill-opacity=\"1\" /><path clip-path=\"url(#clip770)\" d=\"M83.9086 1101.87 L88.7928 1101.87 L88.7928 1107.75 L83.9086 1107.75 L83.9086 1101.87 Z\" fill=\"#000000\" fill-rule=\"evenodd\" fill-opacity=\"1\" /><path clip-path=\"url(#clip770)\" d=\"M108.978 1076.27 Q105.367 1076.27 103.538 1079.84 Q101.733 1083.38 101.733 1090.51 Q101.733 1097.61 103.538 1101.18 Q105.367 1104.72 108.978 1104.72 Q112.612 1104.72 114.418 1101.18 Q116.246 1097.61 116.246 1090.51 Q116.246 1083.38 114.418 1079.84 Q112.612 1076.27 108.978 1076.27 M108.978 1072.57 Q114.788 1072.57 117.844 1077.17 Q120.922 1081.76 120.922 1090.51 Q120.922 1099.23 117.844 1103.84 Q114.788 1108.42 108.978 1108.42 Q103.168 1108.42 100.089 1103.84 Q97.0335 1099.23 97.0335 1090.51 Q97.0335 1081.76 100.089 1077.17 Q103.168 1072.57 108.978 1072.57 Z\" fill=\"#000000\" fill-rule=\"evenodd\" fill-opacity=\"1\" /><path clip-path=\"url(#clip770)\" d=\"M157.311 1082.29 L146.732 1092.91 L157.311 1103.49 L154.556 1106.29 L143.931 1095.67 L133.306 1106.29 L130.575 1103.49 L141.131 1092.91 L130.575 1082.29 L133.306 1079.49 L143.931 1090.11 L154.556 1079.49 L157.311 1082.29 Z\" fill=\"#000000\" fill-rule=\"evenodd\" fill-opacity=\"1\" /><path clip-path=\"url(#clip770)\" d=\"M169.672 1103.82 L177.311 1103.82 L177.311 1077.45 L169.001 1079.12 L169.001 1074.86 L177.265 1073.19 L181.94 1073.19 L181.94 1103.82 L189.579 1103.82 L189.579 1107.75 L169.672 1107.75 L169.672 1103.82 Z\" fill=\"#000000\" fill-rule=\"evenodd\" fill-opacity=\"1\" /><path clip-path=\"url(#clip770)\" d=\"M209.024 1076.27 Q205.413 1076.27 203.584 1079.84 Q201.778 1083.38 201.778 1090.51 Q201.778 1097.61 203.584 1101.18 Q205.413 1104.72 209.024 1104.72 Q212.658 1104.72 214.463 1101.18 Q216.292 1097.61 216.292 1090.51 Q216.292 1083.38 214.463 1079.84 Q212.658 1076.27 209.024 1076.27 M209.024 1072.57 Q214.834 1072.57 217.889 1077.17 Q220.968 1081.76 220.968 1090.51 Q220.968 1099.23 217.889 1103.84 Q214.834 1108.42 209.024 1108.42 Q203.214 1108.42 200.135 1103.84 Q197.079 1099.23 197.079 1090.51 Q197.079 1081.76 200.135 1077.17 Q203.214 1072.57 209.024 1072.57 Z\" fill=\"#000000\" fill-rule=\"evenodd\" fill-opacity=\"1\" /><path clip-path=\"url(#clip770)\" d=\"M233.645 1055.57 L224.053 1070.56 L233.645 1070.56 L233.645 1055.57 M232.648 1052.26 L237.425 1052.26 L237.425 1070.56 L241.431 1070.56 L241.431 1073.72 L237.425 1073.72 L237.425 1080.34 L233.645 1080.34 L233.645 1073.72 L220.968 1073.72 L220.968 1070.05 L232.648 1052.26 Z\" fill=\"#000000\" fill-rule=\"evenodd\" fill-opacity=\"1\" /><path clip-path=\"url(#clip770)\" d=\"M67.9133 878.369 Q71.2698 879.086 73.1448 881.355 Q75.0429 883.623 75.0429 886.956 Q75.0429 892.072 71.5244 894.873 Q68.0059 897.674 61.5245 897.674 Q59.3486 897.674 57.0338 897.234 Q54.7421 896.818 52.2884 895.961 L52.2884 891.447 Q54.2328 892.581 56.5477 893.16 Q58.8625 893.739 61.3856 893.739 Q65.7837 893.739 68.0754 892.003 Q70.3902 890.267 70.3902 886.956 Q70.3902 883.901 68.2374 882.188 Q66.1078 880.452 62.2884 880.452 L58.2606 880.452 L58.2606 876.609 L62.4735 876.609 Q65.9226 876.609 67.7513 875.244 Q69.58 873.855 69.58 871.262 Q69.58 868.6 67.6819 867.188 Q65.8069 865.753 62.2884 865.753 Q60.3671 865.753 58.168 866.17 Q55.969 866.586 53.3301 867.466 L53.3301 863.299 Q55.9921 862.558 58.3069 862.188 Q60.6449 861.818 62.705 861.818 Q68.0291 861.818 71.1309 864.248 Q74.2327 866.656 74.2327 870.776 Q74.2327 873.646 72.5892 875.637 Q70.9457 877.605 67.9133 878.369 Z\" fill=\"#000000\" fill-rule=\"evenodd\" fill-opacity=\"1\" /><path clip-path=\"url(#clip770)\" d=\"M83.9086 891.123 L88.7928 891.123 L88.7928 897.003 L83.9086 897.003 L83.9086 891.123 Z\" fill=\"#000000\" fill-rule=\"evenodd\" fill-opacity=\"1\" /><path clip-path=\"url(#clip770)\" d=\"M108.978 865.521 Q105.367 865.521 103.538 869.086 Q101.733 872.628 101.733 879.757 Q101.733 886.864 103.538 890.429 Q105.367 893.97 108.978 893.97 Q112.612 893.97 114.418 890.429 Q116.246 886.864 116.246 879.757 Q116.246 872.628 114.418 869.086 Q112.612 865.521 108.978 865.521 M108.978 861.818 Q114.788 861.818 117.844 866.424 Q120.922 871.008 120.922 879.757 Q120.922 888.484 117.844 893.091 Q114.788 897.674 108.978 897.674 Q103.168 897.674 100.089 893.091 Q97.0335 888.484 97.0335 879.757 Q97.0335 871.008 100.089 866.424 Q103.168 861.818 108.978 861.818 Z\" fill=\"#000000\" fill-rule=\"evenodd\" fill-opacity=\"1\" /><path clip-path=\"url(#clip770)\" d=\"M157.311 871.54 L146.732 882.165 L157.311 892.744 L154.556 895.544 L143.931 884.919 L133.306 895.544 L130.575 892.744 L141.131 882.165 L130.575 871.54 L133.306 868.739 L143.931 879.364 L154.556 868.739 L157.311 871.54 Z\" fill=\"#000000\" fill-rule=\"evenodd\" fill-opacity=\"1\" /><path clip-path=\"url(#clip770)\" d=\"M169.672 893.068 L177.311 893.068 L177.311 866.702 L169.001 868.369 L169.001 864.109 L177.265 862.443 L181.94 862.443 L181.94 893.068 L189.579 893.068 L189.579 897.003 L169.672 897.003 L169.672 893.068 Z\" fill=\"#000000\" fill-rule=\"evenodd\" fill-opacity=\"1\" /><path clip-path=\"url(#clip770)\" d=\"M209.024 865.521 Q205.413 865.521 203.584 869.086 Q201.778 872.628 201.778 879.757 Q201.778 886.864 203.584 890.429 Q205.413 893.97 209.024 893.97 Q212.658 893.97 214.463 890.429 Q216.292 886.864 216.292 879.757 Q216.292 872.628 214.463 869.086 Q212.658 865.521 209.024 865.521 M209.024 861.818 Q214.834 861.818 217.889 866.424 Q220.968 871.008 220.968 879.757 Q220.968 888.484 217.889 893.091 Q214.834 897.674 209.024 897.674 Q203.214 897.674 200.135 893.091 Q197.079 888.484 197.079 879.757 Q197.079 871.008 200.135 866.424 Q203.214 861.818 209.024 861.818 Z\" fill=\"#000000\" fill-rule=\"evenodd\" fill-opacity=\"1\" /><path clip-path=\"url(#clip770)\" d=\"M233.645 844.823 L224.053 859.812 L233.645 859.812 L233.645 844.823 M232.648 841.512 L237.425 841.512 L237.425 859.812 L241.431 859.812 L241.431 862.972 L237.425 862.972 L237.425 869.592 L233.645 869.592 L233.645 862.972 L220.968 862.972 L220.968 859.304 L232.648 841.512 Z\" fill=\"#000000\" fill-rule=\"evenodd\" fill-opacity=\"1\" /><path clip-path=\"url(#clip770)\" d=\"M66.5939 655.767 L54.7884 674.216 L66.5939 674.216 L66.5939 655.767 M65.367 651.693 L71.2466 651.693 L71.2466 674.216 L76.1772 674.216 L76.1772 678.105 L71.2466 678.105 L71.2466 686.253 L66.5939 686.253 L66.5939 678.105 L50.9921 678.105 L50.9921 673.591 L65.367 651.693 Z\" fill=\"#000000\" fill-rule=\"evenodd\" fill-opacity=\"1\" /><path clip-path=\"url(#clip770)\" d=\"M83.9086 680.373 L88.7928 680.373 L88.7928 686.253 L83.9086 686.253 L83.9086 680.373 Z\" fill=\"#000000\" fill-rule=\"evenodd\" fill-opacity=\"1\" /><path clip-path=\"url(#clip770)\" d=\"M108.978 654.772 Q105.367 654.772 103.538 658.337 Q101.733 661.878 101.733 669.008 Q101.733 676.114 103.538 679.679 Q105.367 683.221 108.978 683.221 Q112.612 683.221 114.418 679.679 Q116.246 676.114 116.246 669.008 Q116.246 661.878 114.418 658.337 Q112.612 654.772 108.978 654.772 M108.978 651.068 Q114.788 651.068 117.844 655.675 Q120.922 660.258 120.922 669.008 Q120.922 677.735 117.844 682.341 Q114.788 686.924 108.978 686.924 Q103.168 686.924 100.089 682.341 Q97.0335 677.735 97.0335 669.008 Q97.0335 660.258 100.089 655.675 Q103.168 651.068 108.978 651.068 Z\" fill=\"#000000\" fill-rule=\"evenodd\" fill-opacity=\"1\" /><path clip-path=\"url(#clip770)\" d=\"M157.311 660.79 L146.732 671.415 L157.311 681.994 L154.556 684.795 L143.931 674.17 L133.306 684.795 L130.575 681.994 L141.131 671.415 L130.575 660.79 L133.306 657.989 L143.931 668.614 L154.556 657.989 L157.311 660.79 Z\" fill=\"#000000\" fill-rule=\"evenodd\" fill-opacity=\"1\" /><path clip-path=\"url(#clip770)\" d=\"M169.672 682.318 L177.311 682.318 L177.311 655.952 L169.001 657.619 L169.001 653.36 L177.265 651.693 L181.94 651.693 L181.94 682.318 L189.579 682.318 L189.579 686.253 L169.672 686.253 L169.672 682.318 Z\" fill=\"#000000\" fill-rule=\"evenodd\" fill-opacity=\"1\" /><path clip-path=\"url(#clip770)\" d=\"M209.024 654.772 Q205.413 654.772 203.584 658.337 Q201.778 661.878 201.778 669.008 Q201.778 676.114 203.584 679.679 Q205.413 683.221 209.024 683.221 Q212.658 683.221 214.463 679.679 Q216.292 676.114 216.292 669.008 Q216.292 661.878 214.463 658.337 Q212.658 654.772 209.024 654.772 M209.024 651.068 Q214.834 651.068 217.889 655.675 Q220.968 660.258 220.968 669.008 Q220.968 677.735 217.889 682.341 Q214.834 686.924 209.024 686.924 Q203.214 686.924 200.135 682.341 Q197.079 677.735 197.079 669.008 Q197.079 660.258 200.135 655.675 Q203.214 651.068 209.024 651.068 Z\" fill=\"#000000\" fill-rule=\"evenodd\" fill-opacity=\"1\" /><path clip-path=\"url(#clip770)\" d=\"M233.645 634.073 L224.053 649.063 L233.645 649.063 L233.645 634.073 M232.648 630.763 L237.425 630.763 L237.425 649.063 L241.431 649.063 L241.431 652.222 L237.425 652.222 L237.425 658.843 L233.645 658.843 L233.645 652.222 L220.968 652.222 L220.968 648.555 L232.648 630.763 Z\" fill=\"#000000\" fill-rule=\"evenodd\" fill-opacity=\"1\" /><path clip-path=\"url(#clip770)\" d=\"M53.793 440.943 L72.1494 440.943 L72.1494 444.879 L58.0754 444.879 L58.0754 453.351 Q59.0939 453.003 60.1124 452.841 Q61.131 452.656 62.1495 452.656 Q67.9365 452.656 71.3161 455.828 Q74.6957 458.999 74.6957 464.415 Q74.6957 469.994 71.2235 473.096 Q67.7513 476.175 61.4319 476.175 Q59.256 476.175 56.9875 475.804 Q54.7421 475.434 52.3347 474.693 L52.3347 469.994 Q54.418 471.128 56.6402 471.684 Q58.8625 472.24 61.3393 472.24 Q65.3439 472.24 67.6819 470.133 Q70.0198 468.027 70.0198 464.415 Q70.0198 460.804 67.6819 458.698 Q65.3439 456.591 61.3393 456.591 Q59.4643 456.591 57.5893 457.008 Q55.7375 457.425 53.793 458.304 L53.793 440.943 Z\" fill=\"#000000\" fill-rule=\"evenodd\" fill-opacity=\"1\" /><path clip-path=\"url(#clip770)\" d=\"M83.9086 469.624 L88.7928 469.624 L88.7928 475.503 L83.9086 475.503 L83.9086 469.624 Z\" fill=\"#000000\" fill-rule=\"evenodd\" fill-opacity=\"1\" /><path clip-path=\"url(#clip770)\" d=\"M108.978 444.022 Q105.367 444.022 103.538 447.587 Q101.733 451.129 101.733 458.258 Q101.733 465.365 103.538 468.929 Q105.367 472.471 108.978 472.471 Q112.612 472.471 114.418 468.929 Q116.246 465.365 116.246 458.258 Q116.246 451.129 114.418 447.587 Q112.612 444.022 108.978 444.022 M108.978 440.318 Q114.788 440.318 117.844 444.925 Q120.922 449.508 120.922 458.258 Q120.922 466.985 117.844 471.591 Q114.788 476.175 108.978 476.175 Q103.168 476.175 100.089 471.591 Q97.0335 466.985 97.0335 458.258 Q97.0335 449.508 100.089 444.925 Q103.168 440.318 108.978 440.318 Z\" fill=\"#000000\" fill-rule=\"evenodd\" fill-opacity=\"1\" /><path clip-path=\"url(#clip770)\" d=\"M157.311 450.041 L146.732 460.665 L157.311 471.244 L154.556 474.045 L143.931 463.42 L133.306 474.045 L130.575 471.244 L141.131 460.665 L130.575 450.041 L133.306 447.24 L143.931 457.865 L154.556 447.24 L157.311 450.041 Z\" fill=\"#000000\" fill-rule=\"evenodd\" fill-opacity=\"1\" /><path clip-path=\"url(#clip770)\" d=\"M169.672 471.568 L177.311 471.568 L177.311 445.203 L169.001 446.869 L169.001 442.61 L177.265 440.943 L181.94 440.943 L181.94 471.568 L189.579 471.568 L189.579 475.503 L169.672 475.503 L169.672 471.568 Z\" fill=\"#000000\" fill-rule=\"evenodd\" fill-opacity=\"1\" /><path clip-path=\"url(#clip770)\" d=\"M209.024 444.022 Q205.413 444.022 203.584 447.587 Q201.778 451.129 201.778 458.258 Q201.778 465.365 203.584 468.929 Q205.413 472.471 209.024 472.471 Q212.658 472.471 214.463 468.929 Q216.292 465.365 216.292 458.258 Q216.292 451.129 214.463 447.587 Q212.658 444.022 209.024 444.022 M209.024 440.318 Q214.834 440.318 217.889 444.925 Q220.968 449.508 220.968 458.258 Q220.968 466.985 217.889 471.591 Q214.834 476.175 209.024 476.175 Q203.214 476.175 200.135 471.591 Q197.079 466.985 197.079 458.258 Q197.079 449.508 200.135 444.925 Q203.214 440.318 209.024 440.318 Z\" fill=\"#000000\" fill-rule=\"evenodd\" fill-opacity=\"1\" /><path clip-path=\"url(#clip770)\" d=\"M233.645 423.323 L224.053 438.313 L233.645 438.313 L233.645 423.323 M232.648 420.013 L237.425 420.013 L237.425 438.313 L241.431 438.313 L241.431 441.473 L237.425 441.473 L237.425 448.093 L233.645 448.093 L233.645 441.473 L220.968 441.473 L220.968 437.805 L232.648 420.013 Z\" fill=\"#000000\" fill-rule=\"evenodd\" fill-opacity=\"1\" /><path clip-path=\"url(#clip770)\" d=\"M64.3254 245.61 Q61.1773 245.61 59.3254 247.763 Q57.4967 249.916 57.4967 253.666 Q57.4967 257.393 59.3254 259.569 Q61.1773 261.721 64.3254 261.721 Q67.4735 261.721 69.3022 259.569 Q71.1541 257.393 71.1541 253.666 Q71.1541 249.916 69.3022 247.763 Q67.4735 245.61 64.3254 245.61 M73.6077 230.958 L73.6077 235.217 Q71.8485 234.383 70.0429 233.944 Q68.2606 233.504 66.5013 233.504 Q61.8717 233.504 59.418 236.629 Q56.9875 239.754 56.6402 246.073 Q58.006 244.059 60.0662 242.995 Q62.1263 241.907 64.6032 241.907 Q69.8115 241.907 72.8207 245.078 Q75.8531 248.226 75.8531 253.666 Q75.8531 258.99 72.705 262.207 Q69.5568 265.425 64.3254 265.425 Q58.33 265.425 55.1588 260.842 Q51.9875 256.235 51.9875 247.508 Q51.9875 239.314 55.8764 234.453 Q59.7652 229.569 66.3161 229.569 Q68.0754 229.569 69.8578 229.916 Q71.6633 230.263 73.6077 230.958 Z\" fill=\"#000000\" fill-rule=\"evenodd\" fill-opacity=\"1\" /><path clip-path=\"url(#clip770)\" d=\"M83.9086 258.874 L88.7928 258.874 L88.7928 264.754 L83.9086 264.754 L83.9086 258.874 Z\" fill=\"#000000\" fill-rule=\"evenodd\" fill-opacity=\"1\" /><path clip-path=\"url(#clip770)\" d=\"M108.978 233.272 Q105.367 233.272 103.538 236.837 Q101.733 240.379 101.733 247.508 Q101.733 254.615 103.538 258.18 Q105.367 261.721 108.978 261.721 Q112.612 261.721 114.418 258.18 Q116.246 254.615 116.246 247.508 Q116.246 240.379 114.418 236.837 Q112.612 233.272 108.978 233.272 M108.978 229.569 Q114.788 229.569 117.844 234.175 Q120.922 238.758 120.922 247.508 Q120.922 256.235 117.844 260.842 Q114.788 265.425 108.978 265.425 Q103.168 265.425 100.089 260.842 Q97.0335 256.235 97.0335 247.508 Q97.0335 238.758 100.089 234.175 Q103.168 229.569 108.978 229.569 Z\" fill=\"#000000\" fill-rule=\"evenodd\" fill-opacity=\"1\" /><path clip-path=\"url(#clip770)\" d=\"M157.311 239.291 L146.732 249.916 L157.311 260.494 L154.556 263.295 L143.931 252.67 L133.306 263.295 L130.575 260.494 L141.131 249.916 L130.575 239.291 L133.306 236.49 L143.931 247.115 L154.556 236.49 L157.311 239.291 Z\" fill=\"#000000\" fill-rule=\"evenodd\" fill-opacity=\"1\" /><path clip-path=\"url(#clip770)\" d=\"M169.672 260.819 L177.311 260.819 L177.311 234.453 L169.001 236.12 L169.001 231.86 L177.265 230.194 L181.94 230.194 L181.94 260.819 L189.579 260.819 L189.579 264.754 L169.672 264.754 L169.672 260.819 Z\" fill=\"#000000\" fill-rule=\"evenodd\" fill-opacity=\"1\" /><path clip-path=\"url(#clip770)\" d=\"M209.024 233.272 Q205.413 233.272 203.584 236.837 Q201.778 240.379 201.778 247.508 Q201.778 254.615 203.584 258.18 Q205.413 261.721 209.024 261.721 Q212.658 261.721 214.463 258.18 Q216.292 254.615 216.292 247.508 Q216.292 240.379 214.463 236.837 Q212.658 233.272 209.024 233.272 M209.024 229.569 Q214.834 229.569 217.889 234.175 Q220.968 238.758 220.968 247.508 Q220.968 256.235 217.889 260.842 Q214.834 265.425 209.024 265.425 Q203.214 265.425 200.135 260.842 Q197.079 256.235 197.079 247.508 Q197.079 238.758 200.135 234.175 Q203.214 229.569 209.024 229.569 Z\" fill=\"#000000\" fill-rule=\"evenodd\" fill-opacity=\"1\" /><path clip-path=\"url(#clip770)\" d=\"M233.645 212.573 L224.053 227.563 L233.645 227.563 L233.645 212.573 M232.648 209.263 L237.425 209.263 L237.425 227.563 L241.431 227.563 L241.431 230.723 L237.425 230.723 L237.425 237.343 L233.645 237.343 L233.645 230.723 L220.968 230.723 L220.968 227.055 L232.648 209.263 Z\" fill=\"#000000\" fill-rule=\"evenodd\" fill-opacity=\"1\" /><polyline clip-path=\"url(#clip772)\" style=\"stroke:#009af9; stroke-linecap:round; stroke-linejoin:round; stroke-width:4; stroke-opacity:1; fill:none\" points=\"\n",
       "  336.167,994.71 338.126,997.752 340.086,1107.54 342.046,1221.75 344.006,1305.88 345.966,843.704 347.925,1153.56 349.885,1183.12 351.845,1217.64 353.805,1245.92 \n",
       "  355.765,1106.33 357.724,1157.46 359.684,1031.58 361.644,483.219 363.604,1030.69 365.564,1288.01 367.524,621.351 369.483,830.678 371.443,665.232 373.403,1069.23 \n",
       "  375.363,1151.65 377.323,1097.14 379.282,725.589 381.242,1023.7 383.202,1016.91 385.162,1152.38 387.122,1305.87 389.081,883.41 391.041,1239.67 393.001,1135.99 \n",
       "  394.961,1011.21 396.921,1003.85 398.881,1168.65 400.84,834.066 402.8,1036.07 404.76,703.321 406.72,988.877 408.68,1228.27 410.639,1038.02 412.599,986.386 \n",
       "  414.559,1335.61 416.519,1152.03 418.479,1293.45 420.439,1249.86 422.398,1181.68 424.358,1001.61 426.318,1131.2 428.278,1071.36 430.238,882.657 432.197,1024.12 \n",
       "  434.157,646.092 436.117,1175.89 438.077,1180.62 440.037,1091.7 441.996,1433.84 443.956,1178.75 445.916,813.629 447.876,1278.85 449.836,698.461 451.796,769.481 \n",
       "  453.755,1104.22 455.715,1135.39 457.675,1224.32 459.635,1060.86 461.595,878.282 463.554,1186.95 465.514,987.242 467.474,1248.83 469.434,1245.52 471.394,1029 \n",
       "  473.353,475.772 475.313,1276.77 477.273,871.178 479.233,1341.89 481.193,962.568 483.153,1040.17 485.112,959.825 487.072,845.388 489.032,1232.75 490.992,838.137 \n",
       "  492.952,1061.22 494.911,927.378 496.871,917.716 498.831,1374.58 500.791,1038.38 502.751,888.187 504.711,881.131 506.67,1076.52 508.63,1068.52 510.59,1248.02 \n",
       "  512.55,1229.96 514.51,989.022 516.469,1219.16 518.429,1239.8 520.389,1104.97 522.349,1217.53 524.309,1071.5 526.268,623.386 528.228,1167.35 530.188,986.991 \n",
       "  532.148,997.857 534.108,963.961 536.068,1104.45 538.027,1232.55 539.987,1331.73 541.947,792.32 543.907,1037.68 545.867,796.441 547.826,1008.7 549.786,709.836 \n",
       "  551.746,777.615 553.706,697.473 555.666,1287.26 557.625,1344.53 559.585,1044.87 561.545,1085.09 563.505,1095.12 565.465,1172.04 567.425,889.917 569.384,1123.18 \n",
       "  571.344,1241.03 573.304,914.644 575.264,748.838 577.224,733.722 579.183,915.189 581.143,987.791 583.103,638.113 585.063,1200.6 587.023,1359.05 588.982,1055.94 \n",
       "  590.942,1015.94 592.902,945.506 594.862,1368.05 596.822,1013.41 598.782,1325.93 600.741,1315.78 602.701,940.809 604.661,1069.52 606.621,1146.52 608.581,1269.32 \n",
       "  610.54,1175.52 612.5,744.453 614.46,640.119 616.42,966.545 618.38,876.488 620.34,1302.31 622.299,1045.1 624.259,638.561 626.219,966.292 628.179,1019.69 \n",
       "  630.139,1122.27 632.098,1017.78 634.058,1024.02 636.018,1135.08 637.978,1232.77 639.938,1055.26 641.897,1326.56 643.857,905.781 645.817,843.093 647.777,1205.41 \n",
       "  649.737,1331.74 651.697,1178.65 653.656,799.951 655.616,765.361 657.576,1028.26 659.536,1321.5 661.496,1128.18 663.455,1070.77 665.415,1312.43 667.375,921.261 \n",
       "  669.335,919.247 671.295,1281.74 673.254,1164.51 675.214,1281.53 677.174,1086.89 679.134,1179.05 681.094,1098.28 683.054,875.474 685.013,953.804 686.973,518.563 \n",
       "  688.933,314.654 690.893,838.232 692.853,1367.64 694.812,1164.63 696.772,1314.31 698.732,1017.49 700.692,1262.33 702.652,1174.44 704.611,1289.78 706.571,1040.91 \n",
       "  708.531,750.698 710.491,1217.07 712.451,1014.34 714.411,477.7 716.37,796.489 718.33,1036.48 720.29,1118.66 722.25,605.738 724.21,907.659 726.169,860.88 \n",
       "  728.129,1188.65 730.089,1045.45 732.049,941.953 734.009,1280.09 735.969,926.418 737.928,1031.83 739.888,1320.2 741.848,1101.9 743.808,836.548 745.768,1050.19 \n",
       "  747.727,998.243 749.687,1084.55 751.647,1165.39 753.607,1068.14 755.567,1164.31 757.526,1250.25 759.486,1293.4 761.446,1286.07 763.406,1267.2 765.366,981.636 \n",
       "  767.326,1250.12 769.285,1037.62 771.245,1308.91 773.205,1235.12 775.165,1220.51 777.125,1129.71 779.084,1256.13 781.044,928.108 783.004,840.517 784.964,1213.4 \n",
       "  786.924,1222.05 788.883,823.124 790.843,1392.72 792.803,1088.21 794.763,1195.92 796.723,1128.23 798.683,1185.19 800.642,956.814 802.602,784.645 804.562,586.277 \n",
       "  806.522,990.022 808.482,1302.98 810.441,879.535 812.401,1051.97 814.361,1274.71 816.321,1330.99 818.281,845.628 820.24,1133.06 822.2,1197.13 824.16,940.331 \n",
       "  826.12,1005.24 828.08,1246.47 830.04,1386.19 831.999,1213.71 833.959,974.432 835.919,1092.1 837.879,1142.33 839.839,1019.06 841.798,1170.08 843.758,857.13 \n",
       "  845.718,1025.84 847.678,1002.64 849.638,860.032 851.598,1207.08 853.557,1151.14 855.517,1054.07 857.477,786.551 859.437,1267.23 861.397,883.775 863.356,1244.44 \n",
       "  865.316,906.072 867.276,1221.62 869.236,996.101 871.196,1213.9 873.155,818.252 875.115,972.16 877.075,1097.93 879.035,1063.4 880.995,704.9 882.955,810.177 \n",
       "  884.914,989.913 886.874,1064.9 888.834,616.562 890.794,1321.7 892.754,1004.35 894.713,1267.39 896.673,437.204 898.633,1222.79 900.593,1233.1 902.553,1210.18 \n",
       "  904.512,1331.79 906.472,789.147 908.432,1173.03 910.392,965.224 912.352,938.346 914.312,1244.07 916.271,1156.02 918.231,1223.04 920.191,613.265 922.151,1047.62 \n",
       "  924.111,926.207 926.07,987.096 928.03,1390.07 929.99,1208.54 931.95,961.226 933.91,1042.72 935.869,950.489 937.829,1021.39 939.789,951.824 941.749,1103.68 \n",
       "  943.709,1368.64 945.669,944.692 947.628,973.378 949.588,1019.44 951.548,1241.88 953.508,1309.56 955.468,1276 957.427,1166.94 959.387,1357.85 961.347,456.04 \n",
       "  963.307,609.026 965.267,1088.05 967.227,1119.8 969.186,796.659 971.146,878.78 973.106,905.067 975.066,694.669 977.026,1246.17 978.985,964.731 980.945,1289.67 \n",
       "  982.905,1131.2 984.865,1139.47 986.825,978.361 988.784,789.826 990.744,845.9 992.704,1050.22 994.664,811.328 996.624,1268.87 998.584,1102.98 1000.54,1016.02 \n",
       "  1002.5,971.713 1004.46,830.415 1006.42,1255.02 1008.38,900.441 1010.34,648.985 1012.3,1149.58 1014.26,871.832 1016.22,1020.6 1018.18,1116.96 1020.14,867.94 \n",
       "  1022.1,1021.77 1024.06,1185.69 1026.02,1024.7 1027.98,1192.05 1029.94,335.969 1031.9,897.758 1033.86,969.977 1035.82,795.851 1037.78,991.349 1039.74,985.4 \n",
       "  1041.7,901.188 1043.66,839.176 1045.62,736.092 1047.58,830.305 1049.54,974.63 1051.5,1053.7 1053.46,886.378 1055.42,1152.55 1057.38,1048.71 1059.34,1139.39 \n",
       "  1061.3,847.352 1063.26,633.029 1065.22,1078.69 1067.18,963.935 1069.14,1057.65 1071.1,684.477 1073.06,965.97 1075.02,1082.18 1076.98,940.075 1078.94,1198.09 \n",
       "  1080.9,1358.94 1082.86,646.755 1084.82,1371.41 1086.78,695.777 1088.73,1216.16 1090.69,945.606 1092.65,1224.52 1094.61,1261.29 1096.57,1155.7 1098.53,1027.58 \n",
       "  1100.49,1027.72 1102.45,1358.45 1104.41,876.412 1106.37,1120.63 1108.33,1175.94 1110.29,1010.97 1112.25,957.318 1114.21,751.931 1116.17,716.491 1118.13,975.834 \n",
       "  1120.09,1023.61 1122.05,746.418 1124.01,1188.31 1125.97,1069.22 1127.93,1324.92 1129.89,956.425 1131.85,982.776 1133.81,840.478 1135.77,1084.27 1137.73,880.518 \n",
       "  1139.69,1088.83 1141.65,1326.87 1143.61,448.236 1145.57,875.281 1147.53,512.657 1149.49,981.347 1151.45,1258.83 1153.41,1112.68 1155.37,842.374 1157.33,979.432 \n",
       "  1159.29,1285.44 1161.25,991.508 1163.21,1061.67 1165.17,1024.52 1167.13,1016.19 1169.09,736.895 1171.05,1026.13 1173.01,1209.8 1174.97,994.995 1176.93,720.001 \n",
       "  1178.89,776.798 1180.85,932.227 1182.81,1187.84 1184.77,400.859 1186.73,1335.02 1188.69,1214.95 1190.65,1167.53 1192.61,827.743 1194.56,1069.75 1196.52,1171.14 \n",
       "  1198.48,765.847 1200.44,1011.24 1202.4,983.952 1204.36,686.748 1206.32,877.404 1208.28,903.081 1210.24,942.933 1212.2,1103.77 1214.16,717.187 1216.12,1190.89 \n",
       "  1218.08,980.207 1220.04,644.926 1222,865.519 1223.96,1389.81 1225.92,1310.69 1227.88,909.704 1229.84,1289.39 1231.8,850.217 1233.76,952.512 1235.72,1296.18 \n",
       "  1237.68,509.569 1239.64,465.774 1241.6,1231.49 1243.56,1389.31 1245.52,1090 1247.48,1032.94 1249.44,1161.18 1251.4,1187.48 1253.36,807.865 1255.32,870.544 \n",
       "  1257.28,1292.39 1259.24,782.749 1261.2,631.262 1263.16,644.897 1265.12,990.867 1267.08,1242.37 1269.04,1256.26 1271,737.709 1272.96,1150.32 1274.92,710.155 \n",
       "  1276.88,708.043 1278.84,1308.96 1280.8,768.475 1282.76,1340.33 1284.72,1147.58 1286.68,1076.95 1288.64,1294.54 1290.6,638.765 1292.56,1250.55 1294.52,1011.47 \n",
       "  1296.48,1104.22 1298.43,963.511 1300.39,1299.2 1302.35,845.183 1304.31,1048.63 1306.27,1187.63 1308.23,934.711 1310.19,1094.66 1312.15,1067.34 1314.11,1271.99 \n",
       "  1316.07,1150.16 1318.03,714.699 1319.99,1142.39 1321.95,1282.75 1323.91,959.915 1325.87,877.494 1327.83,989.688 1329.79,1100.37 1331.75,897.416 1333.71,1329.92 \n",
       "  1335.67,764.476 1337.63,979.793 1339.59,1270 1341.55,727.775 1343.51,910.284 1345.47,1307.14 1347.43,845.675 1349.39,720.112 1351.35,1233.77 1353.31,1028.09 \n",
       "  1355.27,617.459 1357.23,766.101 1359.19,596.681 1361.15,1198.48 1363.11,1276 1365.07,1026.03 1367.03,860.106 1368.99,1300.39 1370.95,1173.85 1372.91,1154.97 \n",
       "  1374.87,922.648 1376.83,1166.09 1378.79,1155.59 1380.75,1224.03 1382.71,1246.87 1384.67,758.386 1386.63,1134.6 1388.59,995.96 1390.55,1090.96 1392.51,1237.39 \n",
       "  1394.47,1430.06 1396.43,1285.64 1398.39,1428.99 1400.35,1260.93 1402.31,1176.08 1404.26,1096.66 1406.22,1054.79 1408.18,869.601 1410.14,566.758 1412.1,971.546 \n",
       "  1414.06,1087.78 1416.02,1232.25 1417.98,734.569 1419.94,1091.65 1421.9,1185.93 1423.86,804.163 1425.82,631.375 1427.78,704.806 1429.74,783.985 1431.7,863.212 \n",
       "  1433.66,1211.34 1435.62,886.45 1437.58,717.09 1439.54,1205.04 1441.5,820.949 1443.46,1202.73 1445.42,1062.98 1447.38,1166.92 1449.34,1308.99 1451.3,1136.44 \n",
       "  1453.26,1107.82 1455.22,1145.57 1457.18,1273.75 1459.14,1005.42 1461.1,1208.04 1463.06,692.946 1465.02,1059.53 1466.98,1150.95 1468.94,1198.53 1470.9,860.837 \n",
       "  1472.86,1031.71 1474.82,1079.23 1476.78,1123.11 1478.74,1063.45 1480.7,1156.21 1482.66,1038.94 1484.62,709.766 1486.58,545.404 1488.54,1267.16 1490.5,1258.96 \n",
       "  1492.46,1258.67 1494.42,1108.68 1496.38,903.082 1498.34,878.766 1500.3,1042.34 1502.26,939.086 1504.22,1186.16 1506.18,822.547 1508.14,958.015 1510.09,1320 \n",
       "  1512.05,677.257 1514.01,1228.82 1515.97,1264.21 1517.93,971.687 1519.89,867.535 1521.85,802.949 1523.81,1132.42 1525.77,1220.09 1527.73,1143.49 1529.69,921.068 \n",
       "  1531.65,1127.49 1533.61,1282.53 1535.57,1151.42 1537.53,1233.17 1539.49,844.315 1541.45,1158.79 1543.41,372.821 1545.37,1323.2 1547.33,894.551 1549.29,1110.41 \n",
       "  1551.25,1044.53 1553.21,997.889 1555.17,788.033 1557.13,937.249 1559.09,1230.7 1561.05,883.047 1563.01,1000.58 1564.97,1150.64 1566.93,1049.36 1568.89,1007.78 \n",
       "  1570.85,922.847 1572.81,627.486 1574.77,1083.89 1576.73,1204.97 1578.69,1206.7 1580.65,669.522 1582.61,1133.38 1584.57,552.11 1586.53,919.201 1588.49,1178.12 \n",
       "  1590.45,1026.86 1592.41,958.292 1594.37,1184.99 1596.33,1132.23 1598.29,1145.57 1600.25,758.773 1602.21,863.155 1604.17,947.1 1606.13,1049.17 1608.09,1009.44 \n",
       "  1610.05,1005.74 1612.01,1005.79 1613.96,1086.59 1615.92,721.717 1617.88,1275.93 1619.84,1300.85 1621.8,1173.61 1623.76,977.293 1625.72,1252.74 1627.68,413.934 \n",
       "  1629.64,1203.45 1631.6,1123.18 1633.56,1078.31 1635.52,1236.87 1637.48,838.639 1639.44,1056.35 1641.4,879.979 1643.36,1061.86 1645.32,1304.16 1647.28,1157.56 \n",
       "  1649.24,738.519 1651.2,1028.73 1653.16,1216.57 1655.12,705.76 1657.08,845.457 1659.04,920.898 1661,1126.84 1662.96,904.561 1664.92,787.24 1666.88,87.9763 \n",
       "  1668.84,1415.59 1670.8,981.737 1672.76,958.119 1674.72,1006.15 1676.68,1243.78 1678.64,1048.31 1680.6,1263.41 1682.56,1170.04 1684.52,851.558 1686.48,1182.86 \n",
       "  1688.44,982.361 1690.4,1054.5 1692.36,1221.4 1694.32,1071.64 1696.28,664.485 1698.24,1248.98 1700.2,886.956 1702.16,1117.63 1704.12,828.062 1706.08,1071.55 \n",
       "  1708.04,1197.15 1710,475.402 1711.96,1440.46 1713.92,1074.79 1715.88,738.879 1717.84,1240.03 1719.79,1210.32 1721.75,1067.97 1723.71,1337.12 1725.67,871.11 \n",
       "  1727.63,1135.03 1729.59,923.919 1731.55,886.896 1733.51,762.868 1735.47,430.713 1737.43,1060.7 1739.39,1210.54 1741.35,875.743 1743.31,1014.53 1745.27,1172.54 \n",
       "  1747.23,868.157 1749.19,1291.75 1751.15,725.498 1753.11,1098.93 1755.07,1016.75 1757.03,589.71 1758.99,1137.72 1760.95,924.515 1762.91,1190.93 1764.87,1204.91 \n",
       "  1766.83,1321.1 1768.79,1140.49 1770.75,1289.28 1772.71,801.11 1774.67,1160.33 1776.63,871.273 1778.59,884.124 1780.55,612.271 1782.51,679.703 1784.47,928.204 \n",
       "  1786.43,404.413 1788.39,1123.25 1790.35,921.799 1792.31,1040.15 1794.27,1240.97 1796.23,1060.12 1798.19,1370.68 1800.15,1161.41 1802.11,1113.77 1804.07,1131.94 \n",
       "  1806.03,858.62 1807.99,735.169 1809.95,1445.72 1811.91,1117.31 1813.87,1100.61 1815.83,444.776 1817.79,730.636 1819.75,984.696 1821.71,1112.6 1823.67,903.027 \n",
       "  1825.62,1251.9 1827.58,918.193 1829.54,865.988 1831.5,867.283 1833.46,1181.95 1835.42,1069.86 1837.38,902.02 1839.34,681.641 1841.3,1032.1 1843.26,878.441 \n",
       "  1845.22,1186.32 1847.18,1213.26 1849.14,621.791 1851.1,746.086 1853.06,779.825 1855.02,1174.49 1856.98,883.994 1858.94,992.521 1860.9,1144.39 1862.86,1264.02 \n",
       "  1864.82,1114.07 1866.78,1148.88 1868.74,875.276 1870.7,1080.54 1872.66,1280.89 1874.62,967.683 1876.58,792.611 1878.54,1129.69 1880.5,941.452 1882.46,1207.41 \n",
       "  1884.42,936.742 1886.38,1224.73 1888.34,994.294 1890.3,690.65 1892.26,1055.65 1894.22,868.247 1896.18,635.403 1898.14,583.73 1900.1,1019.04 1902.06,944.321 \n",
       "  1904.02,1013.63 1905.98,467.944 1907.94,1135.18 1909.9,1047.54 1911.86,732.242 1913.82,880.282 1915.78,923.077 1917.74,973.132 1919.7,1135.79 1921.66,941.505 \n",
       "  1923.62,1115.43 1925.58,1333.05 1927.54,951.786 1929.49,657.181 1931.45,970.375 1933.41,1355.11 1935.37,1280.17 1937.33,515.74 1939.29,1192.7 1941.25,1112.78 \n",
       "  1943.21,1072.91 1945.17,1147.35 1947.13,1035.13 1949.09,852.172 1951.05,901.351 1953.01,963.538 1954.97,1078.19 1956.93,802.145 1958.89,1131.89 1960.85,1051.07 \n",
       "  1962.81,1088.67 1964.77,1323.59 1966.73,1243.27 1968.69,1074.69 1970.65,1113.4 1972.61,949.859 1974.57,896.966 1976.53,1118.07 1978.49,671.359 1980.45,1321.32 \n",
       "  1982.41,1424.54 1984.37,724.382 1986.33,1151.52 1988.29,692.167 1990.25,1009.46 1992.21,935.896 1994.17,1001.31 1996.13,1123.04 1998.09,635.365 2000.05,934.347 \n",
       "  2002.01,1072.81 2003.97,825.353 2005.93,718.364 2007.89,839.414 2009.85,1174.13 2011.81,1138.19 2013.77,834.211 2015.73,1010.81 2017.69,1109.12 2019.65,940.311 \n",
       "  2021.61,1225.6 2023.57,1198.76 2025.53,997.984 2027.49,1127.83 2029.45,1217.57 2031.41,1063.2 2033.37,1160.95 2035.32,1092.02 2037.28,1047.97 2039.24,648.823 \n",
       "  2041.2,665.107 2043.16,1273.51 2045.12,1122.5 2047.08,1091.53 2049.04,1141.55 2051,1223.14 2052.96,1001.69 2054.92,620.864 2056.88,526.933 2058.84,905.152 \n",
       "  2060.8,1296.94 2062.76,1155.81 2064.72,1006.35 2066.68,1296.69 2068.64,1288.85 2070.6,1154.43 2072.56,1033.7 2074.52,1003.22 2076.48,822.632 2078.44,870.125 \n",
       "  2080.4,769.877 2082.36,1083.08 2084.32,548.043 2086.28,1177.57 2088.24,824.581 2090.2,1181.1 2092.16,1009.22 2094.12,1244.04 2096.08,1142.38 2098.04,1127.33 \n",
       "  2100,1148.12 2101.96,1095.73 2103.92,946.706 2105.88,913.961 2107.84,784.578 2109.8,1238.02 2111.76,944.139 2113.72,1169.28 2115.68,497.558 2117.64,1186.88 \n",
       "  2119.6,1120.51 2121.56,1035.46 2123.52,1034.06 2125.48,1171.95 2127.44,1301.67 2129.4,1085.95 2131.36,542.252 2133.32,1154.59 2135.28,921.803 2137.24,757.173 \n",
       "  2139.2,936.607 2141.15,833.799 2143.11,436.551 2145.07,843.291 2147.03,704.401 2148.99,898.188 2150.95,1118.63 2152.91,908.953 2154.87,867.808 2156.83,1294.19 \n",
       "  2158.79,1282.35 2160.75,983.56 2162.71,1359.46 2164.67,973.087 2166.63,909.28 2168.59,1179.4 2170.55,840.761 2172.51,866.437 2174.47,1299.05 2176.43,845.647 \n",
       "  2178.39,900.241 2180.35,1078.92 2182.31,1204.48 2184.27,899.315 2186.23,1020.08 2188.19,1084.69 2190.15,1064.49 2192.11,1271.24 2194.07,1111.77 2196.03,808.943 \n",
       "  2197.99,914.678 2199.95,1152.42 2201.91,1137.27 2203.87,934.778 2205.83,706.062 2207.79,1077.61 2209.75,1355.19 2211.71,914.092 2213.67,1037.72 2215.63,964.616 \n",
       "  2217.59,897.992 2219.55,1046.59 2221.51,995.66 2223.47,1212.86 2225.43,1262.65 2227.39,1297.04 2229.35,964.916 2231.31,593.57 2233.27,1243 2235.23,1138.75 \n",
       "  2237.19,827.321 2239.15,701.435 2241.11,1182.97 2243.07,544.814 2245.02,1128.78 2246.98,1179.27 2248.94,645.688 2250.9,1025.36 2252.86,804.268 2254.82,914.59 \n",
       "  2256.78,1212.46 2258.74,1009.08 2260.7,1127.84 2262.66,1114.87 2264.62,1216.81 2266.58,1277.83 2268.54,1213.36 2270.5,663.303 2272.46,1038.21 2274.42,1318.23 \n",
       "  2276.38,714.418 2278.34,839.725 2280.3,1126.43 2282.26,879.34 2284.22,717.943 2286.18,1102.31 2288.14,947.577 2290.1,1186.86 2292.06,740.285 2294.02,940.43 \n",
       "  \n",
       "  \"/>\n",
       "<path clip-path=\"url(#clip770)\" d=\"\n",
       "M2000.56 198.898 L2283.58 198.898 L2283.58 95.2176 L2000.56 95.2176  Z\n",
       "  \" fill=\"#ffffff\" fill-rule=\"evenodd\" fill-opacity=\"1\"/>\n",
       "<polyline clip-path=\"url(#clip770)\" style=\"stroke:#000000; stroke-linecap:round; stroke-linejoin:round; stroke-width:4; stroke-opacity:1; fill:none\" points=\"\n",
       "  2000.56,198.898 2283.58,198.898 2283.58,95.2176 2000.56,95.2176 2000.56,198.898 \n",
       "  \"/>\n",
       "<polyline clip-path=\"url(#clip770)\" style=\"stroke:#009af9; stroke-linecap:round; stroke-linejoin:round; stroke-width:4; stroke-opacity:1; fill:none\" points=\"\n",
       "  2023.62,147.058 2161.97,147.058 \n",
       "  \"/>\n",
       "<path clip-path=\"url(#clip770)\" d=\"M2198.87 166.745 Q2197.07 171.375 2195.35 172.787 Q2193.64 174.199 2190.77 174.199 L2187.37 174.199 L2187.37 170.634 L2189.87 170.634 Q2191.63 170.634 2192.6 169.8 Q2193.57 168.967 2194.75 165.865 L2195.52 163.921 L2185.03 138.412 L2189.54 138.412 L2197.65 158.689 L2205.75 138.412 L2210.26 138.412 L2198.87 166.745 Z\" fill=\"#000000\" fill-rule=\"evenodd\" fill-opacity=\"1\" /><path clip-path=\"url(#clip770)\" d=\"M2217.55 160.402 L2225.19 160.402 L2225.19 134.037 L2216.88 135.703 L2216.88 131.444 L2225.15 129.778 L2229.82 129.778 L2229.82 160.402 L2237.46 160.402 L2237.46 164.338 L2217.55 164.338 L2217.55 160.402 Z\" fill=\"#000000\" fill-rule=\"evenodd\" fill-opacity=\"1\" /></svg>\n"
      ]
     },
     "execution_count": 199,
     "metadata": {},
     "output_type": "execute_result"
    }
   ],
   "source": [
    "plot(loss_log)"
   ]
  },
  {
   "cell_type": "code",
   "execution_count": null,
   "metadata": {},
   "outputs": [],
   "source": []
  },
  {
   "cell_type": "code",
   "execution_count": 176,
   "metadata": {},
   "outputs": [],
   "source": [
    "Flux.train!(loss1, Flux.params(W1, b1), train_data, opt)"
   ]
  },
  {
   "cell_type": "code",
   "execution_count": 177,
   "metadata": {},
   "outputs": [
    {
     "name": "stdout",
     "output_type": "stream",
     "text": [
      "W1 = [0.8526601897901432 1.8089781878686866 2.843352512230477 3.783402383418999 4.840248197918984; 4.797194978205234 3.7688514161715436 2.779565643803137 1.7445006592620482 0.808295954025268]\n"
     ]
    },
    {
     "data": {
      "text/plain": [
       "2×5 Matrix{Float64}:\n",
       " 0.85266  1.80898  2.84335  3.7834  4.84025\n",
       " 4.79719  3.76885  2.77957  1.7445  0.808296"
      ]
     },
     "execution_count": 177,
     "metadata": {},
     "output_type": "execute_result"
    }
   ],
   "source": [
    "@show W1"
   ]
  },
  {
   "cell_type": "code",
   "execution_count": 178,
   "metadata": {},
   "outputs": [
    {
     "name": "stdout",
     "output_type": "stream",
     "text": [
      "b1 = [1.3049211044422402, 0.9647066212655245]\n"
     ]
    },
    {
     "data": {
      "text/plain": [
       "2-element Vector{Float64}:\n",
       " 1.3049211044422402\n",
       " 0.9647066212655245"
      ]
     },
     "execution_count": 178,
     "metadata": {},
     "output_type": "execute_result"
    }
   ],
   "source": [
    "@show b1"
   ]
  },
  {
   "cell_type": "code",
   "execution_count": 179,
   "metadata": {},
   "outputs": [
    {
     "name": "stdout",
     "output_type": "stream",
     "text": [
      "maximum(abs, W1 .- W_truth) = 0.2554993407379518\n"
     ]
    },
    {
     "data": {
      "text/plain": [
       "0.2554993407379518"
      ]
     },
     "execution_count": 179,
     "metadata": {},
     "output_type": "execute_result"
    }
   ],
   "source": [
    "@show maximum(abs, W1 .- W_truth)"
   ]
  },
  {
   "cell_type": "code",
   "execution_count": 188,
   "metadata": {},
   "outputs": [
    {
     "data": {
      "text/plain": [
       "()"
      ]
     },
     "execution_count": 188,
     "metadata": {},
     "output_type": "execute_result"
    }
   ],
   "source": [
    "fieldnames(typeof(model_to_fit))"
   ]
  },
  {
   "cell_type": "code",
   "execution_count": 184,
   "metadata": {},
   "outputs": [
    {
     "data": {
      "text/plain": [
       "σ (generic function with 2 methods)"
      ]
     },
     "execution_count": 184,
     "metadata": {},
     "output_type": "execute_result"
    }
   ],
   "source": [
    "sigmoid"
   ]
  },
  {
   "cell_type": "code",
   "execution_count": 181,
   "metadata": {},
   "outputs": [
    {
     "data": {
      "text/plain": [
       "σ (generic function with 2 methods)"
      ]
     },
     "execution_count": 181,
     "metadata": {},
     "output_type": "execute_result"
    }
   ],
   "source": [
    "σ\n"
   ]
  },
  {
   "cell_type": "code",
   "execution_count": null,
   "metadata": {},
   "outputs": [],
   "source": []
  },
  {
   "cell_type": "code",
   "execution_count": null,
   "metadata": {},
   "outputs": [],
   "source": []
  },
  {
   "cell_type": "code",
   "execution_count": null,
   "metadata": {},
   "outputs": [],
   "source": [
    "### <span style=\"color:orange\"></span>"
   ]
  },
  {
   "cell_type": "code",
   "execution_count": null,
   "metadata": {},
   "outputs": [],
   "source": []
  },
  {
   "cell_type": "code",
   "execution_count": null,
   "metadata": {},
   "outputs": [],
   "source": [
    "### <span style=\"color:orange\"></span>"
   ]
  },
  {
   "cell_type": "code",
   "execution_count": null,
   "metadata": {},
   "outputs": [],
   "source": [
    "### <span style=\"color:orange\"></span>"
   ]
  },
  {
   "cell_type": "code",
   "execution_count": 20,
   "metadata": {},
   "outputs": [],
   "source": [
    "### <span style=\"color:orange\"></span>"
   ]
  },
  {
   "cell_type": "code",
   "execution_count": 21,
   "metadata": {},
   "outputs": [],
   "source": [
    "### <span style=\"color:orange\"></span>"
   ]
  },
  {
   "cell_type": "code",
   "execution_count": 22,
   "metadata": {},
   "outputs": [],
   "source": [
    "### <span style=\"color:orange\"></span>"
   ]
  },
  {
   "cell_type": "code",
   "execution_count": 23,
   "metadata": {},
   "outputs": [],
   "source": [
    "### <span style=\"color:orange\"></span>"
   ]
  },
  {
   "cell_type": "code",
   "execution_count": 24,
   "metadata": {},
   "outputs": [],
   "source": [
    "### <span style=\"color:orange\"></span>"
   ]
  },
  {
   "cell_type": "code",
   "execution_count": 25,
   "metadata": {},
   "outputs": [],
   "source": [
    "### <span style=\"color:orange\"></span>"
   ]
  },
  {
   "cell_type": "code",
   "execution_count": 26,
   "metadata": {},
   "outputs": [],
   "source": [
    "### <span style=\"color:orange\"></span>"
   ]
  },
  {
   "cell_type": "code",
   "execution_count": 27,
   "metadata": {},
   "outputs": [],
   "source": [
    "### <span style=\"color:orange\"></span>"
   ]
  },
  {
   "cell_type": "code",
   "execution_count": null,
   "metadata": {},
   "outputs": [],
   "source": [
    "### <span style=\"color:orange\"></span>"
   ]
  }
 ],
 "metadata": {
  "kernelspec": {
   "display_name": "Julia 1.8.2",
   "language": "julia",
   "name": "julia-1.8"
  },
  "language_info": {
   "file_extension": ".jl",
   "mimetype": "application/julia",
   "name": "julia",
   "version": "1.8.2"
  }
 },
 "nbformat": 4,
 "nbformat_minor": 4
}
