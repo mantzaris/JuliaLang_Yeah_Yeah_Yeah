{
 "cells": [
  {
   "cell_type": "code",
   "execution_count": null,
   "metadata": {},
   "outputs": [],
   "source": []
  },
  {
   "cell_type": "code",
   "execution_count": 8,
   "metadata": {},
   "outputs": [],
   "source": [
    "using Flux"
   ]
  },
  {
   "cell_type": "code",
   "execution_count": 9,
   "metadata": {},
   "outputs": [],
   "source": [
    "using ImageShow, Images, ImageInTerminal\n",
    "using MLDatasets"
   ]
  },
  {
   "cell_type": "code",
   "execution_count": 10,
   "metadata": {},
   "outputs": [
    {
     "name": "stdout",
     "output_type": "stream",
     "text": [
      "train_x_raw size = (28, 28, 60000), train_y_raw size = (60000,)\n"
     ]
    },
    {
     "data": {
      "text/plain": [
       "5-element Vector{Int64}:\n",
       " 5\n",
       " 0\n",
       " 4\n",
       " 1\n",
       " 9"
      ]
     },
     "metadata": {},
     "output_type": "display_data"
    }
   ],
   "source": [
    "train_x_raw, train_y_raw = MNIST(split = :train)[:]\n",
    "test_x_raw,  test_y_raw  = MNIST(split = :test)[:];\n",
    "println( \"train_x_raw size = $(size(train_x_raw)), train_y_raw size = $(size(train_y_raw))\")\n",
    "display( train_y_raw[1:5] )"
   ]
  },
  {
   "cell_type": "code",
   "execution_count": 11,
   "metadata": {},
   "outputs": [
    {
     "data": {
      "image/png": "[encoded data removed]",
      "text/html": [
       "<img src=\"data:image/png;base64,iVBORw0KGgoAAAANSUhEUgAAAHAAAABwCAAAAADji6uXAAAABGdBTUEAALGPC/xhBQAAAAFzUkdCAK7OHOkAAAAgY0hSTQAAeiYAAICEAAD6AAAAgOgAAHUwAADqYAAAOpgAABdwnLpRPAAAAiVJREFUaAW9wT2IFgQABuAHemnI4aJFISgJwkDIIiqIsMLcajiKIEEIshosmgSHhhoUIW/IcIgCISHa+psKsp8hEKSSSAlyECon61Q+jMDT4RuO7w6/n5Pe54myKIuyKIuyKIuyKIuyKIuyKIuyKIuyKIuyKIuyKIsZ3YQ5y17FLdiE3TiI5/EvDuAto6IsyqIsJrgDN+MRPIpb8YzV/sAhzOMSTuI7q0VZlEVZjHE/vsac8ZbwBgb4CH/hH/xmtSiLsiiLMc7iPOasdhyLeAL/4ajpRFmURVmM8Tf24Cn8hEOGfsZ2DLAZr5telEVZlMUEn+IYLmELXsQCBoZ+xcumF2VRFmUxhYuGLhjahY+xZHZRFmVRFjN4Ew/gMTyJr8wuyqIsymIGA7yEH/E+vsEJHMZV04myKIuymNEZvIAj2ImdWIcPcc5kURZlURZr8Al+xwK2YT/uxD78abwoi7IoizX6Bc/haRzBK7gb240XZVEWZXEDFnEUHyDYisfxreuLsiiLslije/EsHkQMncL3xouyKIuymNEmvIZ5bLDsCs5hyXhRFmVRFlPagB3YjY1GncA+fG6yKIuyKIsJ1mMz3sU9Rh3H2/gMS6YTZVEWZXEdt+E93Ie7jPoBC/gSl80myqIsymKFh7EHD+F2oy7jHezHwNpEWZRFWawwj3nLTuMLXMFBLLoxURZlURYr7MVe/58oi7Ioi7Ioi7Ioi7Ioi7IouwZsVVgTmd3ynQAAAABJRU5ErkJg\">"
      ],
      "text/plain": [
       "\u001b[0m\u001b[38;2;0;0;0m██\u001b[38;2;0;0;0m██\u001b[38;2;0;0;0m██\u001b[38;2;0;0;0m██\u001b[38;2;0;0;0m██\u001b[38;2;0;0;0m██\u001b[38;2;0;0;0m██\u001b[38;2;0;0;0m██\u001b[38;2;0;0;0m██\u001b[38;2;0;0;0m██\u001b[38;2;0;0;0m██\u001b[38;2;0;0;0m██\u001b[38;2;0;0;0m██\u001b[38;2;0;0;0m██\u001b[38;2;0;0;0m██\u001b[38;2;0;0;0m██\u001b[38;2;0;0;0m██\u001b[38;2;0;0;0m██\u001b[38;2;0;0;0m██\u001b[38;2;0;0;0m██\u001b[38;2;0;0;0m██\u001b[38;2;0;0;0m██\u001b[38;2;0;0;0m██\u001b[38;2;0;0;0m██\u001b[38;2;0;0;0m██\u001b[38;2;0;0;0m██\u001b[38;2;0;0;0m██\u001b[38;2;0;0;0m██\u001b[0m\n",
       "\u001b[0m\u001b[38;2;0;0;0m██\u001b[38;2;0;0;0m██\u001b[38;2;0;0;0m██\u001b[38;2;0;0;0m██\u001b[38;2;0;0;0m██\u001b[38;2;0;0;0m██\u001b[38;2;0;0;0m██\u001b[38;2;0;0;0m██\u001b[38;2;0;0;0m██\u001b[38;2;0;0;0m██\u001b[38;2;0;0;0m██\u001b[38;2;0;0;0m██\u001b[38;2;0;0;0m██\u001b[38;2;0;0;0m██\u001b[38;2;0;0;0m██\u001b[38;2;0;0;0m██\u001b[38;2;0;0;0m██\u001b[38;2;0;0;0m██\u001b[38;2;0;0;0m██\u001b[38;2;0;0;0m██\u001b[38;2;0;0;0m██\u001b[38;2;0;0;0m██\u001b[38;2;0;0;0m██\u001b[38;2;0;0;0m██\u001b[38;2;0;0;0m██\u001b[38;2;0;0;0m██\u001b[38;2;0;0;0m██\u001b[38;2;0;0;0m██\u001b[0m\n",
       "\u001b[0m\u001b[38;2;0;0;0m██\u001b[38;2;0;0;0m██\u001b[38;2;0;0;0m██\u001b[38;2;0;0;0m██\u001b[38;2;0;0;0m██\u001b[38;2;0;0;0m██\u001b[38;2;0;0;0m██\u001b[38;2;0;0;0m██\u001b[38;2;0;0;0m██\u001b[38;2;0;0;0m██\u001b[38;2;0;0;0m██\u001b[38;2;0;0;0m██\u001b[38;2;0;0;0m██\u001b[38;2;0;0;0m██\u001b[38;2;0;0;0m██\u001b[38;2;0;0;0m██\u001b[38;2;0;0;0m██\u001b[38;2;0;0;0m██\u001b[38;2;0;0;0m██\u001b[38;2;0;0;0m██\u001b[38;2;0;0;0m██\u001b[38;2;0;0;0m██\u001b[38;2;0;0;0m██\u001b[38;2;0;0;0m██\u001b[38;2;0;0;0m██\u001b[38;2;0;0;0m██\u001b[38;2;0;0;0m██\u001b[38;2;0;0;0m██\u001b[0m\n",
       "\u001b[0m\u001b[38;2;0;0;0m██\u001b[38;2;0;0;0m██\u001b[38;2;0;0;0m██\u001b[38;2;0;0;0m██\u001b[38;2;0;0;0m██\u001b[38;2;0;0;0m██\u001b[38;2;0;0;0m██\u001b[38;2;0;0;0m██\u001b[38;2;0;0;0m██\u001b[38;2;0;0;0m██\u001b[38;2;0;0;0m██\u001b[38;2;0;0;0m██\u001b[38;2;0;0;0m██\u001b[38;2;0;0;0m██\u001b[38;2;0;0;0m██\u001b[38;2;0;0;0m██\u001b[38;2;0;0;0m██\u001b[38;2;0;0;0m██\u001b[38;2;0;0;0m██\u001b[38;2;0;0;0m██\u001b[38;2;0;0;0m██\u001b[38;2;0;0;0m██\u001b[38;2;0;0;0m██\u001b[38;2;0;0;0m██\u001b[38;2;0;0;0m██\u001b[38;2;0;0;0m██\u001b[38;2;0;0;0m██\u001b[38;2;0;0;0m██\u001b[0m\n",
       "\u001b[0m\u001b[38;2;0;0;0m██\u001b[38;2;0;0;0m██\u001b[38;2;0;0;0m██\u001b[38;2;0;0;0m██\u001b[38;2;0;0;0m██\u001b[38;2;0;0;0m██\u001b[38;2;0;0;0m██\u001b[38;2;0;0;0m██\u001b[38;2;0;0;0m██\u001b[38;2;0;0;0m██\u001b[38;2;0;0;0m██\u001b[38;2;0;0;0m██\u001b[38;2;0;0;0m██\u001b[38;2;0;0;0m██\u001b[38;2;0;0;0m██\u001b[38;2;0;0;0m██\u001b[38;2;0;0;0m██\u001b[38;2;0;0;0m██\u001b[38;2;0;0;0m██\u001b[38;2;0;0;0m██\u001b[38;2;0;0;0m██\u001b[38;2;0;0;0m██\u001b[38;2;0;0;0m██\u001b[38;2;0;0;0m██\u001b[38;2;0;0;0m██\u001b[38;2;0;0;0m██\u001b[38;2;0;0;0m██\u001b[38;2;0;0;0m██\u001b[0m\n",
       "\u001b[0m\u001b[38;2;0;0;0m██\u001b[38;2;0;0;0m██\u001b[38;2;0;0;0m██\u001b[38;2;0;0;0m██\u001b[38;2;0;0;0m██\u001b[38;2;0;0;0m██\u001b[38;2;0;0;0m██\u001b[38;2;0;0;0m██\u001b[38;2;0;0;0m██\u001b[38;2;0;0;0m██\u001b[38;2;0;0;0m██\u001b[38;2;0;0;0m██\u001b[38;2;3;3;3m██\u001b[38;2;18;18;18m██\u001b[38;2;18;18;18m██\u001b[38;2;18;18;18m██\u001b[38;2;126;126;126m██\u001b[38;2;136;136;136m██\u001b[38;2;175;175;175m██\u001b[38;2;26;26;26m██\u001b[38;2;166;166;166m██\u001b[38;2;255;255;255m██\u001b[38;2;247;247;247m██\u001b[38;2;127;127;127m██\u001b[38;2;0;0;0m██\u001b[38;2;0;0;0m██\u001b[38;2;0;0;0m██\u001b[38;2;0;0;0m██\u001b[0m\n",
       "\u001b[0m\u001b[38;2;0;0;0m██\u001b[38;2;0;0;0m██\u001b[38;2;0;0;0m██\u001b[38;2;0;0;0m██\u001b[38;2;0;0;0m██\u001b[38;2;0;0;0m██\u001b[38;2;0;0;0m██\u001b[38;2;0;0;0m██\u001b[38;2;30;30;30m██\u001b[38;2;36;36;36m██\u001b[38;2;94;94;94m██\u001b[38;2;154;154;154m██\u001b[38;2;170;170;170m██\u001b[38;2;253;253;253m██\u001b[38;2;253;253;253m██\u001b[38;2;253;253;253m██\u001b[38;2;253;253;253m██\u001b[38;2;253;253;253m██\u001b[38;2;225;225;225m██\u001b[38;2;172;172;172m██\u001b[38;2;253;253;253m██\u001b[38;2;242;242;242m██\u001b[38;2;195;195;195m██\u001b[38;2;64;64;64m██\u001b[38;2;0;0;0m██\u001b[38;2;0;0;0m██\u001b[38;2;0;0;0m██\u001b[38;2;0;0;0m██\u001b[0m\n",
       "\u001b[0m\u001b[38;2;0;0;0m██\u001b[38;2;0;0;0m██\u001b[38;2;0;0;0m██\u001b[38;2;0;0;0m██\u001b[38;2;0;0;0m██\u001b[38;2;0;0;0m██\u001b[38;2;0;0;0m██\u001b[38;2;49;49;49m██\u001b[38;2;238;238;238m██\u001b[38;2;253;253;253m██\u001b[38;2;253;253;253m██\u001b[38;2;253;253;253m██\u001b[38;2;253;253;253m██\u001b[38;2;253;253;253m██\u001b[38;2;253;253;253m██\u001b[38;2;253;253;253m██\u001b[38;2;253;253;253m██\u001b[38;2;251;251;251m██\u001b[38;2;93;93;93m██\u001b[38;2;82;82;82m██\u001b[38;2;82;82;82m██\u001b[38;2;56;56;56m██\u001b[38;2;39;39;39m██\u001b[38;2;0;0;0m██\u001b[38;2;0;0;0m██\u001b[38;2;0;0;0m██\u001b[38;2;0;0;0m██\u001b[38;2;0;0;0m██\u001b[0m\n",
       "\u001b[0m\u001b[38;2;0;0;0m██\u001b[38;2;0;0;0m██\u001b[38;2;0;0;0m██\u001b[38;2;0;0;0m██\u001b[38;2;0;0;0m██\u001b[38;2;0;0;0m██\u001b[38;2;0;0;0m██\u001b[38;2;18;18;18m██\u001b[38;2;219;219;219m██\u001b[38;2;253;253;253m██\u001b[38;2;253;253;253m██\u001b[38;2;253;253;253m██\u001b[38;2;253;253;253m██\u001b[38;2;253;253;253m██\u001b[38;2;198;198;198m██\u001b[38;2;182;182;182m██\u001b[38;2;247;247;247m██\u001b[38;2;241;241;241m██\u001b[38;2;0;0;0m██\u001b[38;2;0;0;0m██\u001b[38;2;0;0;0m██\u001b[38;2;0;0;0m██\u001b[38;2;0;0;0m██\u001b[38;2;0;0;0m██\u001b[38;2;0;0;0m██\u001b[38;2;0;0;0m██\u001b[38;2;0;0;0m██\u001b[38;2;0;0;0m██\u001b[0m\n",
       "\u001b[0m\u001b[38;2;0;0;0m██\u001b[38;2;0;0;0m██\u001b[38;2;0;0;0m██\u001b[38;2;0;0;0m██\u001b[38;2;0;0;0m██\u001b[38;2;0;0;0m██\u001b[38;2;0;0;0m██\u001b[38;2;0;0;0m██\u001b[38;2;80;80;80m██\u001b[38;2;156;156;156m██\u001b[38;2;107;107;107m██\u001b[38;2;253;253;253m██\u001b[38;2;253;253;253m██\u001b[38;2;205;205;205m██\u001b[38;2;11;11;11m██\u001b[38;2;0;0;0m██\u001b[38;2;43;43;43m██\u001b[38;2;154;154;154m██\u001b[38;2;0;0;0m██\u001b[38;2;0;0;0m██\u001b[38;2;0;0;0m██\u001b[38;2;0;0;0m██\u001b[38;2;0;0;0m██\u001b[38;2;0;0;0m██\u001b[38;2;0;0;0m██\u001b[38;2;0;0;0m██\u001b[38;2;0;0;0m██\u001b[38;2;0;0;0m██\u001b[0m\n",
       "\u001b[0m\u001b[38;2;0;0;0m██\u001b[38;2;0;0;0m██\u001b[38;2;0;0;0m██\u001b[38;2;0;0;0m██\u001b[38;2;0;0;0m██\u001b[38;2;0;0;0m██\u001b[38;2;0;0;0m██\u001b[38;2;0;0;0m██\u001b[38;2;0;0;0m██\u001b[38;2;14;14;14m██\u001b[38;2;1;1;1m██\u001b[38;2;154;154;154m██\u001b[38;2;253;253;253m██\u001b[38;2;90;90;90m██\u001b[38;2;0;0;0m██\u001b[38;2;0;0;0m██\u001b[38;2;0;0;0m██\u001b[38;2;0;0;0m██\u001b[38;2;0;0;0m██\u001b[38;2;0;0;0m██\u001b[38;2;0;0;0m██\u001b[38;2;0;0;0m██\u001b[38;2;0;0;0m██\u001b[38;2;0;0;0m██\u001b[38;2;0;0;0m██\u001b[38;2;0;0;0m██\u001b[38;2;0;0;0m██\u001b[38;2;0;0;0m██\u001b[0m\n",
       "\u001b[0m\u001b[38;2;0;0;0m██\u001b[38;2;0;0;0m██\u001b[38;2;0;0;0m██\u001b[38;2;0;0;0m██\u001b[38;2;0;0;0m██\u001b[38;2;0;0;0m██\u001b[38;2;0;0;0m██\u001b[38;2;0;0;0m██\u001b[38;2;0;0;0m██\u001b[38;2;0;0;0m██\u001b[38;2;0;0;0m██\u001b[38;2;139;139;139m██\u001b[38;2;253;253;253m██\u001b[38;2;190;190;190m██\u001b[38;2;2;2;2m██\u001b[38;2;0;0;0m██\u001b[38;2;0;0;0m██\u001b[38;2;0;0;0m██\u001b[38;2;0;0;0m██\u001b[38;2;0;0;0m██\u001b[38;2;0;0;0m██\u001b[38;2;0;0;0m██\u001b[38;2;0;0;0m██\u001b[38;2;0;0;0m██\u001b[38;2;0;0;0m██\u001b[38;2;0;0;0m██\u001b[38;2;0;0;0m██\u001b[38;2;0;0;0m██\u001b[0m\n",
       "\u001b[0m\u001b[38;2;0;0;0m██\u001b[38;2;0;0;0m██\u001b[38;2;0;0;0m██\u001b[38;2;0;0;0m██\u001b[38;2;0;0;0m██\u001b[38;2;0;0;0m██\u001b[38;2;0;0;0m██\u001b[38;2;0;0;0m██\u001b[38;2;0;0;0m██\u001b[38;2;0;0;0m██\u001b[38;2;0;0;0m██\u001b[38;2;11;11;11m██\u001b[38;2;190;190;190m██\u001b[38;2;253;253;253m██\u001b[38;2;70;70;70m██\u001b[38;2;0;0;0m██\u001b[38;2;0;0;0m██\u001b[38;2;0;0;0m██\u001b[38;2;0;0;0m██\u001b[38;2;0;0;0m██\u001b[38;2;0;0;0m██\u001b[38;2;0;0;0m██\u001b[38;2;0;0;0m██\u001b[38;2;0;0;0m██\u001b[38;2;0;0;0m██\u001b[38;2;0;0;0m██\u001b[38;2;0;0;0m██\u001b[38;2;0;0;0m██\u001b[0m\n",
       "\u001b[0m\u001b[38;2;0;0;0m██\u001b[38;2;0;0;0m██\u001b[38;2;0;0;0m██\u001b[38;2;0;0;0m██\u001b[38;2;0;0;0m██\u001b[38;2;0;0;0m██\u001b[38;2;0;0;0m██\u001b[38;2;0;0;0m██\u001b[38;2;0;0;0m██\u001b[38;2;0;0;0m██\u001b[38;2;0;0;0m██\u001b[38;2;0;0;0m██\u001b[38;2;35;35;35m██\u001b[38;2;241;241;241m██\u001b[38;2;225;225;225m██\u001b[38;2;160;160;160m██\u001b[38;2;108;108;108m██\u001b[38;2;1;1;1m██\u001b[38;2;0;0;0m██\u001b[38;2;0;0;0m██\u001b[38;2;0;0;0m██\u001b[38;2;0;0;0m██\u001b[38;2;0;0;0m██\u001b[38;2;0;0;0m██\u001b[38;2;0;0;0m██\u001b[38;2;0;0;0m██\u001b[38;2;0;0;0m██\u001b[38;2;0;0;0m██\u001b[0m\n",
       "\u001b[0m\u001b[38;2;0;0;0m██\u001b[38;2;0;0;0m██\u001b[38;2;0;0;0m██\u001b[38;2;0;0;0m██\u001b[38;2;0;0;0m██\u001b[38;2;0;0;0m██\u001b[38;2;0;0;0m██\u001b[38;2;0;0;0m██\u001b[38;2;0;0;0m██\u001b[38;2;0;0;0m██\u001b[38;2;0;0;0m██\u001b[38;2;0;0;0m██\u001b[38;2;0;0;0m██\u001b[38;2;81;81;81m██\u001b[38;2;240;240;240m██\u001b[38;2;253;253;253m██\u001b[38;2;253;253;253m██\u001b[38;2;119;119;119m██\u001b[38;2;25;25;25m██\u001b[38;2;0;0;0m██\u001b[38;2;0;0;0m██\u001b[38;2;0;0;0m██\u001b[38;2;0;0;0m██\u001b[38;2;0;0;0m██\u001b[38;2;0;0;0m██\u001b[38;2;0;0;0m██\u001b[38;2;0;0;0m██\u001b[38;2;0;0;0m██\u001b[0m\n",
       "\u001b[0m\u001b[38;2;0;0;0m██\u001b[38;2;0;0;0m██\u001b[38;2;0;0;0m██\u001b[38;2;0;0;0m██\u001b[38;2;0;0;0m██\u001b[38;2;0;0;0m██\u001b[38;2;0;0;0m██\u001b[38;2;0;0;0m██\u001b[38;2;0;0;0m██\u001b[38;2;0;0;0m██\u001b[38;2;0;0;0m██\u001b[38;2;0;0;0m██\u001b[38;2;0;0;0m██\u001b[38;2;0;0;0m██\u001b[38;2;45;45;45m██\u001b[38;2;186;186;186m██\u001b[38;2;253;253;253m██\u001b[38;2;253;253;253m██\u001b[38;2;150;150;150m██\u001b[38;2;27;27;27m██\u001b[38;2;0;0;0m██\u001b[38;2;0;0;0m██\u001b[38;2;0;0;0m██\u001b[38;2;0;0;0m██\u001b[38;2;0;0;0m██\u001b[38;2;0;0;0m██\u001b[38;2;0;0;0m██\u001b[38;2;0;0;0m██\u001b[0m\n",
       "\u001b[0m\u001b[38;2;0;0;0m██\u001b[38;2;0;0;0m██\u001b[38;2;0;0;0m██\u001b[38;2;0;0;0m██\u001b[38;2;0;0;0m██\u001b[38;2;0;0;0m██\u001b[38;2;0;0;0m██\u001b[38;2;0;0;0m██\u001b[38;2;0;0;0m██\u001b[38;2;0;0;0m██\u001b[38;2;0;0;0m██\u001b[38;2;0;0;0m██\u001b[38;2;0;0;0m██\u001b[38;2;0;0;0m██\u001b[38;2;0;0;0m██\u001b[38;2;16;16;16m██\u001b[38;2;93;93;93m██\u001b[38;2;252;252;252m██\u001b[38;2;253;253;253m██\u001b[38;2;187;187;187m██\u001b[38;2;0;0;0m██\u001b[38;2;0;0;0m██\u001b[38;2;0;0;0m██\u001b[38;2;0;0;0m██\u001b[38;2;0;0;0m██\u001b[38;2;0;0;0m██\u001b[38;2;0;0;0m██\u001b[38;2;0;0;0m██\u001b[0m\n",
       "\u001b[0m\u001b[38;2;0;0;0m██\u001b[38;2;0;0;0m██\u001b[38;2;0;0;0m██\u001b[38;2;0;0;0m██\u001b[38;2;0;0;0m██\u001b[38;2;0;0;0m██\u001b[38;2;0;0;0m██\u001b[38;2;0;0;0m██\u001b[38;2;0;0;0m██\u001b[38;2;0;0;0m██\u001b[38;2;0;0;0m██\u001b[38;2;0;0;0m██\u001b[38;2;0;0;0m██\u001b[38;2;0;0;0m██\u001b[38;2;0;0;0m██\u001b[38;2;0;0;0m██\u001b[38;2;0;0;0m██\u001b[38;2;249;249;249m██\u001b[38;2;253;253;253m██\u001b[38;2;249;249;249m██\u001b[38;2;64;64;64m██\u001b[38;2;0;0;0m██\u001b[38;2;0;0;0m██\u001b[38;2;0;0;0m██\u001b[38;2;0;0;0m██\u001b[38;2;0;0;0m██\u001b[38;2;0;0;0m██\u001b[38;2;0;0;0m██\u001b[0m\n",
       "\u001b[0m\u001b[38;2;0;0;0m██\u001b[38;2;0;0;0m██\u001b[38;2;0;0;0m██\u001b[38;2;0;0;0m██\u001b[38;2;0;0;0m██\u001b[38;2;0;0;0m██\u001b[38;2;0;0;0m██\u001b[38;2;0;0;0m██\u001b[38;2;0;0;0m██\u001b[38;2;0;0;0m██\u001b[38;2;0;0;0m██\u001b[38;2;0;0;0m██\u001b[38;2;0;0;0m██\u001b[38;2;0;0;0m██\u001b[38;2;46;46;46m██\u001b[38;2;130;130;130m██\u001b[38;2;183;183;183m██\u001b[38;2;253;253;253m██\u001b[38;2;253;253;253m██\u001b[38;2;207;207;207m██\u001b[38;2;2;2;2m██\u001b[38;2;0;0;0m██\u001b[38;2;0;0;0m██\u001b[38;2;0;0;0m██\u001b[38;2;0;0;0m██\u001b[38;2;0;0;0m██\u001b[38;2;0;0;0m██\u001b[38;2;0;0;0m██\u001b[0m\n",
       "\u001b[0m\u001b[38;2;0;0;0m██\u001b[38;2;0;0;0m██\u001b[38;2;0;0;0m██\u001b[38;2;0;0;0m██\u001b[38;2;0;0;0m██\u001b[38;2;0;0;0m██\u001b[38;2;0;0;0m██\u001b[38;2;0;0;0m██\u001b[38;2;0;0;0m██\u001b[38;2;0;0;0m██\u001b[38;2;0;0;0m██\u001b[38;2;0;0;0m██\u001b[38;2;39;39;39m██\u001b[38;2;148;148;148m██\u001b[38;2;229;229;229m██\u001b[38;2;253;253;253m██\u001b[38;2;253;253;253m██\u001b[38;2;253;253;253m██\u001b[38;2;250;250;250m██\u001b[38;2;182;182;182m██\u001b[38;2;0;0;0m██\u001b[38;2;0;0;0m██\u001b[38;2;0;0;0m██\u001b[38;2;0;0;0m██\u001b[38;2;0;0;0m██\u001b[38;2;0;0;0m██\u001b[38;2;0;0;0m██\u001b[38;2;0;0;0m██\u001b[0m\n",
       "\u001b[0m\u001b[38;2;0;0;0m██\u001b[38;2;0;0;0m██\u001b[38;2;0;0;0m██\u001b[38;2;0;0;0m██\u001b[38;2;0;0;0m██\u001b[38;2;0;0;0m██\u001b[38;2;0;0;0m██\u001b[38;2;0;0;0m██\u001b[38;2;0;0;0m██\u001b[38;2;0;0;0m██\u001b[38;2;24;24;24m██\u001b[38;2;114;114;114m██\u001b[38;2;221;221;221m██\u001b[38;2;253;253;253m██\u001b[38;2;253;253;253m██\u001b[38;2;253;253;253m██\u001b[38;2;253;253;253m██\u001b[38;2;201;201;201m██\u001b[38;2;78;78;78m██\u001b[38;2;0;0;0m██\u001b[38;2;0;0;0m██\u001b[38;2;0;0;0m██\u001b[38;2;0;0;0m██\u001b[38;2;0;0;0m██\u001b[38;2;0;0;0m██\u001b[38;2;0;0;0m██\u001b[38;2;0;0;0m██\u001b[38;2;0;0;0m██\u001b[0m\n",
       "\u001b[0m\u001b[38;2;0;0;0m██\u001b[38;2;0;0;0m██\u001b[38;2;0;0;0m██\u001b[38;2;0;0;0m██\u001b[38;2;0;0;0m██\u001b[38;2;0;0;0m██\u001b[38;2;0;0;0m██\u001b[38;2;0;0;0m██\u001b[38;2;23;23;23m██\u001b[38;2;66;66;66m██\u001b[38;2;213;213;213m██\u001b[38;2;253;253;253m██\u001b[38;2;253;253;253m██\u001b[38;2;253;253;253m██\u001b[38;2;253;253;253m██\u001b[38;2;198;198;198m██\u001b[38;2;81;81;81m██\u001b[38;2;2;2;2m██\u001b[38;2;0;0;0m██\u001b[38;2;0;0;0m██\u001b[38;2;0;0;0m██\u001b[38;2;0;0;0m██\u001b[38;2;0;0;0m██\u001b[38;2;0;0;0m██\u001b[38;2;0;0;0m██\u001b[38;2;0;0;0m██\u001b[38;2;0;0;0m██\u001b[38;2;0;0;0m██\u001b[0m\n",
       "\u001b[0m\u001b[38;2;0;0;0m██\u001b[38;2;0;0;0m██\u001b[38;2;0;0;0m██\u001b[38;2;0;0;0m██\u001b[38;2;0;0;0m██\u001b[38;2;0;0;0m██\u001b[38;2;18;18;18m██\u001b[38;2;171;171;171m██\u001b[38;2;219;219;219m██\u001b[38;2;253;253;253m██\u001b[38;2;253;253;253m██\u001b[38;2;253;253;253m██\u001b[38;2;253;253;253m██\u001b[38;2;195;195;195m██\u001b[38;2;80;80;80m██\u001b[38;2;9;9;9m██\u001b[38;2;0;0;0m██\u001b[38;2;0;0;0m██\u001b[38;2;0;0;0m██\u001b[38;2;0;0;0m██\u001b[38;2;0;0;0m██\u001b[38;2;0;0;0m██\u001b[38;2;0;0;0m██\u001b[38;2;0;0;0m██\u001b[38;2;0;0;0m██\u001b[38;2;0;0;0m██\u001b[38;2;0;0;0m██\u001b[38;2;0;0;0m██\u001b[0m\n",
       "\u001b[0m\u001b[38;2;0;0;0m██\u001b[38;2;0;0;0m██\u001b[38;2;0;0;0m██\u001b[38;2;0;0;0m██\u001b[38;2;55;55;55m██\u001b[38;2;172;172;172m██\u001b[38;2;226;226;226m██\u001b[38;2;253;253;253m██\u001b[38;2;253;253;253m██\u001b[38;2;253;253;253m██\u001b[38;2;253;253;253m██\u001b[38;2;244;244;244m██\u001b[38;2;133;133;133m██\u001b[38;2;11;11;11m██\u001b[38;2;0;0;0m██\u001b[38;2;0;0;0m██\u001b[38;2;0;0;0m██\u001b[38;2;0;0;0m██\u001b[38;2;0;0;0m██\u001b[38;2;0;0;0m██\u001b[38;2;0;0;0m██\u001b[38;2;0;0;0m██\u001b[38;2;0;0;0m██\u001b[38;2;0;0;0m██\u001b[38;2;0;0;0m██\u001b[38;2;0;0;0m██\u001b[38;2;0;0;0m██\u001b[38;2;0;0;0m██\u001b[0m\n",
       "\u001b[0m\u001b[38;2;0;0;0m██\u001b[38;2;0;0;0m██\u001b[38;2;0;0;0m██\u001b[38;2;0;0;0m██\u001b[38;2;136;136;136m██\u001b[38;2;253;253;253m██\u001b[38;2;253;253;253m██\u001b[38;2;253;253;253m██\u001b[38;2;212;212;212m██\u001b[38;2;135;135;135m██\u001b[38;2;132;132;132m██\u001b[38;2;16;16;16m██\u001b[38;2;0;0;0m██\u001b[38;2;0;0;0m██\u001b[38;2;0;0;0m██\u001b[38;2;0;0;0m██\u001b[38;2;0;0;0m██\u001b[38;2;0;0;0m██\u001b[38;2;0;0;0m██\u001b[38;2;0;0;0m██\u001b[38;2;0;0;0m██\u001b[38;2;0;0;0m██\u001b[38;2;0;0;0m██\u001b[38;2;0;0;0m██\u001b[38;2;0;0;0m██\u001b[38;2;0;0;0m██\u001b[38;2;0;0;0m██\u001b[38;2;0;0;0m██\u001b[0m\n",
       "\u001b[0m\u001b[38;2;0;0;0m██\u001b[38;2;0;0;0m██\u001b[38;2;0;0;0m██\u001b[38;2;0;0;0m██\u001b[38;2;0;0;0m██\u001b[38;2;0;0;0m██\u001b[38;2;0;0;0m██\u001b[38;2;0;0;0m██\u001b[38;2;0;0;0m██\u001b[38;2;0;0;0m██\u001b[38;2;0;0;0m██\u001b[38;2;0;0;0m██\u001b[38;2;0;0;0m██\u001b[38;2;0;0;0m██\u001b[38;2;0;0;0m██\u001b[38;2;0;0;0m██\u001b[38;2;0;0;0m██\u001b[38;2;0;0;0m██\u001b[38;2;0;0;0m██\u001b[38;2;0;0;0m██\u001b[38;2;0;0;0m██\u001b[38;2;0;0;0m██\u001b[38;2;0;0;0m██\u001b[38;2;0;0;0m██\u001b[38;2;0;0;0m██\u001b[38;2;0;0;0m██\u001b[38;2;0;0;0m██\u001b[38;2;0;0;0m██\u001b[0m\n",
       "\u001b[0m\u001b[38;2;0;0;0m██\u001b[38;2;0;0;0m██\u001b[38;2;0;0;0m██\u001b[38;2;0;0;0m██\u001b[38;2;0;0;0m██\u001b[38;2;0;0;0m██\u001b[38;2;0;0;0m██\u001b[38;2;0;0;0m██\u001b[38;2;0;0;0m██\u001b[38;2;0;0;0m██\u001b[38;2;0;0;0m██\u001b[38;2;0;0;0m██\u001b[38;2;0;0;0m██\u001b[38;2;0;0;0m██\u001b[38;2;0;0;0m██\u001b[38;2;0;0;0m██\u001b[38;2;0;0;0m██\u001b[38;2;0;0;0m██\u001b[38;2;0;0;0m██\u001b[38;2;0;0;0m██\u001b[38;2;0;0;0m██\u001b[38;2;0;0;0m██\u001b[38;2;0;0;0m██\u001b[38;2;0;0;0m██\u001b[38;2;0;0;0m██\u001b[38;2;0;0;0m██\u001b[38;2;0;0;0m██\u001b[38;2;0;0;0m██\u001b[0m\n",
       "\u001b[0m\u001b[38;2;0;0;0m██\u001b[38;2;0;0;0m██\u001b[38;2;0;0;0m██\u001b[38;2;0;0;0m██\u001b[38;2;0;0;0m██\u001b[38;2;0;0;0m██\u001b[38;2;0;0;0m██\u001b[38;2;0;0;0m██\u001b[38;2;0;0;0m██\u001b[38;2;0;0;0m██\u001b[38;2;0;0;0m██\u001b[38;2;0;0;0m██\u001b[38;2;0;0;0m██\u001b[38;2;0;0;0m██\u001b[38;2;0;0;0m██\u001b[38;2;0;0;0m██\u001b[38;2;0;0;0m██\u001b[38;2;0;0;0m██\u001b[38;2;0;0;0m██\u001b[38;2;0;0;0m██\u001b[38;2;0;0;0m██\u001b[38;2;0;0;0m██\u001b[38;2;0;0;0m██\u001b[38;2;0;0;0m██\u001b[38;2;0;0;0m██\u001b[38;2;0;0;0m██\u001b[38;2;0;0;0m██\u001b[38;2;0;0;0m██\u001b[0m"
      ]
     },
     "execution_count": 11,
     "metadata": {},
     "output_type": "execute_result"
    }
   ],
   "source": [
    "convert2image(MNIST, train_x_raw[ : , : , 1 ] )"
   ]
  },
  {
   "cell_type": "markdown",
   "metadata": {},
   "source": [
    "## <span style=\"color:orange\"> Create a 'Scale' layer which takes in inputs and scales the values linearly </span>\n",
    "\n",
    "- Does not perform any transformations"
   ]
  },
  {
   "cell_type": "code",
   "execution_count": 12,
   "metadata": {},
   "outputs": [
    {
     "data": {
      "text/plain": [
       "Chain(\n",
       "  Dense(1 => 3),                        \u001b[90m# 6 parameters\u001b[39m\n",
       ") "
      ]
     },
     "execution_count": 12,
     "metadata": {},
     "output_type": "execute_result"
    }
   ],
   "source": [
    "m1 = Chain( Dense(1=>3) )"
   ]
  },
  {
   "cell_type": "code",
   "execution_count": 13,
   "metadata": {},
   "outputs": [
    {
     "data": {
      "text/plain": [
       "(:weight, :bias, :σ)"
      ]
     },
     "execution_count": 13,
     "metadata": {},
     "output_type": "execute_result"
    }
   ],
   "source": [
    "fieldnames(typeof(m1.layers[1]))"
   ]
  },
  {
   "cell_type": "code",
   "execution_count": 14,
   "metadata": {},
   "outputs": [
    {
     "data": {
      "text/plain": [
       "3×1 Matrix{Float32}:\n",
       "  0.38271046\n",
       " -0.35430595\n",
       " -0.765652"
      ]
     },
     "execution_count": 14,
     "metadata": {},
     "output_type": "execute_result"
    }
   ],
   "source": [
    "m1.layers[1].weight"
   ]
  },
  {
   "cell_type": "code",
   "execution_count": 15,
   "metadata": {},
   "outputs": [
    {
     "data": {
      "text/plain": [
       "3-element Vector{Float32}:\n",
       "  0.38271046\n",
       " -0.35430595\n",
       " -0.765652"
      ]
     },
     "execution_count": 15,
     "metadata": {},
     "output_type": "execute_result"
    }
   ],
   "source": [
    "m1( [1] ) #values returned / mapped "
   ]
  },
  {
   "cell_type": "code",
   "execution_count": 16,
   "metadata": {},
   "outputs": [
    {
     "data": {
      "text/plain": [
       "Scale(3)            \u001b[90m# 6 parameters\u001b[39m"
      ]
     },
     "execution_count": 16,
     "metadata": {},
     "output_type": "execute_result"
    }
   ],
   "source": [
    "m1s = Flux.Scale( [0.1, 10, 100] ) #scaling layer"
   ]
  },
  {
   "cell_type": "code",
   "execution_count": 17,
   "metadata": {},
   "outputs": [
    {
     "data": {
      "text/plain": [
       "Chain(\n",
       "  Chain(\n",
       "    Dense(1 => 3),                      \u001b[90m# 6 parameters\u001b[39m\n",
       "  ),\n",
       "  Scale(3),                             \u001b[90m# 6 parameters\u001b[39m\n",
       ") \u001b[90m                  # Total: 4 arrays, \u001b[39m12 parameters, 360 bytes."
      ]
     },
     "execution_count": 17,
     "metadata": {},
     "output_type": "execute_result"
    }
   ],
   "source": [
    "m1scaled = Chain( m1 , m1s )"
   ]
  },
  {
   "cell_type": "code",
   "execution_count": 18,
   "metadata": {},
   "outputs": [
    {
     "data": {
      "text/plain": [
       "3-element Vector{Float64}:\n",
       "   0.03827104568481446\n",
       "  -3.543059527873993\n",
       " -76.56520009040833"
      ]
     },
     "execution_count": 18,
     "metadata": {},
     "output_type": "execute_result"
    }
   ],
   "source": [
    "m1scaled( [1] )"
   ]
  },
  {
   "cell_type": "code",
   "execution_count": 19,
   "metadata": {},
   "outputs": [
    {
     "data": {
      "text/plain": [
       "Scale(3)            \u001b[90m# 6 parameters\u001b[39m"
      ]
     },
     "execution_count": 19,
     "metadata": {},
     "output_type": "execute_result"
    }
   ],
   "source": [
    "m1s2 = Flux.Scale( repeat( [0.01] , 3 ) ) #scaling layer"
   ]
  },
  {
   "cell_type": "code",
   "execution_count": 20,
   "metadata": {},
   "outputs": [
    {
     "data": {
      "text/plain": [
       "Chain(\n",
       "  Chain(\n",
       "    Dense(1 => 3),                      \u001b[90m# 6 parameters\u001b[39m\n",
       "  ),\n",
       "  Scale(3),                             \u001b[90m# 6 parameters\u001b[39m\n",
       ") \u001b[90m                  # Total: 4 arrays, \u001b[39m12 parameters, 360 bytes."
      ]
     },
     "execution_count": 20,
     "metadata": {},
     "output_type": "execute_result"
    }
   ],
   "source": [
    "m1scaled2 = Chain( m1 , m1s2 )"
   ]
  },
  {
   "cell_type": "code",
   "execution_count": 21,
   "metadata": {},
   "outputs": [
    {
     "data": {
      "text/plain": [
       "3-element Vector{Float64}:\n",
       "  0.0038271045684814455\n",
       " -0.003543059527873993\n",
       " -0.007656520009040832"
      ]
     },
     "execution_count": 21,
     "metadata": {},
     "output_type": "execute_result"
    }
   ],
   "source": [
    "m1scaled2( [1] )"
   ]
  },
  {
   "cell_type": "code",
   "execution_count": 22,
   "metadata": {},
   "outputs": [
    {
     "data": {
      "text/plain": [
       "Scale(3)            \u001b[90m# 6 parameters\u001b[39m"
      ]
     },
     "execution_count": 22,
     "metadata": {},
     "output_type": "execute_result"
    }
   ],
   "source": [
    "m1s3 = Flux.Scale( [1,0,1] ) #scaling layer which operates as a removing a neuron (dimension) component"
   ]
  },
  {
   "cell_type": "code",
   "execution_count": 23,
   "metadata": {},
   "outputs": [
    {
     "data": {
      "text/plain": [
       "Chain(\n",
       "  Chain(\n",
       "    Dense(1 => 3),                      \u001b[90m# 6 parameters\u001b[39m\n",
       "  ),\n",
       "  Scale(3),                             \u001b[90m# 6 parameters\u001b[39m\n",
       ") \u001b[90m                  # Total: 4 arrays, \u001b[39m12 parameters, 360 bytes."
      ]
     },
     "execution_count": 23,
     "metadata": {},
     "output_type": "execute_result"
    }
   ],
   "source": [
    "m1scaled3 = Chain( m1 , m1s3 )"
   ]
  },
  {
   "cell_type": "code",
   "execution_count": 24,
   "metadata": {},
   "outputs": [
    {
     "data": {
      "text/plain": [
       "3-element Vector{Float32}:\n",
       "  0.38271046\n",
       "  0.0\n",
       " -0.765652"
      ]
     },
     "execution_count": 24,
     "metadata": {},
     "output_type": "execute_result"
    }
   ],
   "source": [
    "m1scaled3( [1] )"
   ]
  },
  {
   "cell_type": "code",
   "execution_count": null,
   "metadata": {},
   "outputs": [],
   "source": []
  },
  {
   "cell_type": "code",
   "execution_count": null,
   "metadata": {},
   "outputs": [],
   "source": []
  },
  {
   "cell_type": "code",
   "execution_count": null,
   "metadata": {},
   "outputs": [],
   "source": []
  },
  {
   "cell_type": "markdown",
   "metadata": {},
   "source": [
    "## <span style=\"color:orange\"> Convolution Models </span>\n",
    "\n",
    "- Images (2D data) fed into CNN layers require the <u>W-H-C-N</u> order, which is Width-Height-ChannelNum-BatchSize. Eg if we have images width=28, height=28, 3 channels (R-G-B) and there are 100 of these images in the batch, the size of that data structure fed to the CNN layer is (28,28,3,100). If the images were monochromatic (gray scale) then the size would be (28,28,1,100). \n",
    "- Data can be 1D, for 1D convolutions, on time series or mono audio data, so that the format becomes W-C-N, eg. if we have 100 audio samples in one channel (mono) and each sample has 250 dimensions the size is, (250,1,1). If the data was stereo (2 channel) then the size would be (250,2,1)\n",
    "- If the data was 3D (like data from a magnetic scan), it could look like this (28,28,28,1,100) where the last 2 dimensions are the channel number and batch size. \n",
    "- The Convolutional (CNN) layer takes in a <u>filter size</u> to scan over the data.\n",
    "- The Convolutional (CNN) layer takes in the <u>channel size mapping</u>, which does a transformation from the input channel number to the output channel number. \n",
    "- Key parameter values are <u>stride</u>, <u>padding</u>, <u>dilation</u>\n",
    "- Padding specifies the number of pixels (elements) placed on the borders (boundaries of the data in each dimension). A single value (integer) for uniform padding around the data array, or if there 3 spatial dimensions a tuple of 3 integers is needed to specify the padding if not uniform. You can supply a 2x3 = 6 dimension tuple to padding to specify the padding for each boundary specifically. **note padding will change the size of the image after the application of the cnn filter**\n",
    "- <u>SamePad()</u> is a useful utility function so that it applies the necessary padding in order for the data dimensions to stay the same after the cnn filter application; that is a 28x28 image with SamePad() applied will still become 28x28 after exiting that layer and becoming input into the subsequent layer.\n",
    "\n",
    "\n",
    "#### convolution gifs from [ Vincent Dumoulin, Francesco Visin - A guide to convolution arithmetic for deep learning]"
   ]
  },
  {
   "cell_type": "markdown",
   "metadata": {},
   "source": [
    "### <span style=\"color:orange\"> No padding, no strides </span>\n",
    "\n",
    "![image info](./demoPics/no_padding_no_strides.gif)"
   ]
  },
  {
   "cell_type": "code",
   "execution_count": 25,
   "metadata": {},
   "outputs": [
    {
     "data": {
      "text/plain": [
       "(100, 100, 1, 10)"
      ]
     },
     "execution_count": 25,
     "metadata": {},
     "output_type": "execute_result"
    }
   ],
   "source": [
    "x = rand(Float32, 100, 100, 1, 10); #batch of monochrome images\n",
    "size( x )"
   ]
  },
  {
   "cell_type": "code",
   "execution_count": 26,
   "metadata": {},
   "outputs": [
    {
     "data": {
      "text/plain": [
       "Conv((5, 5), 1 => 1)  \u001b[90m# 26 parameters\u001b[39m"
      ]
     },
     "execution_count": 26,
     "metadata": {},
     "output_type": "execute_result"
    }
   ],
   "source": [
    "cnn_layer = Conv( (5,5) , 1 => 1 )"
   ]
  },
  {
   "cell_type": "code",
   "execution_count": 27,
   "metadata": {},
   "outputs": [
    {
     "data": {
      "text/plain": [
       "(96, 96, 1, 10)"
      ]
     },
     "execution_count": 27,
     "metadata": {},
     "output_type": "execute_result"
    }
   ],
   "source": [
    "cnn_output = cnn_layer(x)\n",
    "size( cnn_output )"
   ]
  },
  {
   "cell_type": "code",
   "execution_count": 28,
   "metadata": {},
   "outputs": [
    {
     "data": {
      "text/plain": [
       "false"
      ]
     },
     "execution_count": 28,
     "metadata": {},
     "output_type": "execute_result"
    }
   ],
   "source": [
    "size( x ) == size( cnn_output )"
   ]
  },
  {
   "cell_type": "code",
   "execution_count": 33,
   "metadata": {},
   "outputs": [
    {
     "data": {
      "image/png": "[encoded data removed]",
      "text/html": [
       "<img src=\"data:image/png;base64,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\">"
      ],
      "text/plain": [
       "\u001b[0m\u001b[38;2;12;12;12;48;2;24;24;24m▀\u001b[38;2;53;53;53;48;2;64;64;64m▀\u001b[38;2;32;32;32;48;2;61;61;61m▀\u001b[38;2;26;26;26;48;2;56;56;56m▀\u001b[38;2;33;33;33;48;2;69;69;69m▀\u001b[38;2;22;22;22;48;2;66;66;66m▀\u001b[38;2;17;17;17;48;2;51;51;51m▀\u001b[38;2;32;32;32;48;2;61;61;61m▀\u001b[38;2;32;32;32;48;2;54;54;54m▀\u001b[38;2;37;37;37;48;2;30;30;30m▀\u001b[38;2;45;45;45;48;2;62;62;62m▀\u001b[38;2;23;23;23;48;2;60;60;60m▀\u001b[38;2;35;35;35;48;2;61;61;61m▀\u001b[38;2;32;32;32;48;2;71;71;71m▀\u001b[38;2;35;35;35;48;2;57;57;57m▀\u001b[38;2;31;31;31;48;2;56;56;56m▀\u001b[38;2;30;30;30;48;2;45;45;45m▀\u001b[38;2;24;24;24;48;2;56;56;56m▀\u001b[38;2;27;27;27;48;2;56;56;56m▀\u001b[38;2;45;45;45;48;2;60;60;60m▀\u001b[38;2;24;24;24;48;2;63;63;63m▀\u001b[38;2;33;33;33;48;2;68;68;68m▀\u001b[38;2;42;42;42;48;2;64;64;64m▀\u001b[38;2;36;36;36;48;2;55;55;55m▀\u001b[38;2;19;19;19;48;2;103;103;103m▀\u001b[38;2;32;32;32;48;2;80;80;80m▀\u001b[38;2;42;42;42;48;2;64;64;64m▀\u001b[38;2;43;43;43;48;2;69;69;69m▀\u001b[38;2;39;39;39;48;2;64;64;64m▀\u001b[38;2;45;45;45;48;2;67;67;67m▀\u001b[38;2;33;33;33;48;2;69;69;69m▀\u001b[38;2;28;28;28;48;2;65;65;65m▀\u001b[38;2;48;48;48;48;2;75;75;75m▀\u001b[38;2;37;37;37;48;2;50;50;50m▀\u001b[38;2;53;53;53;48;2;67;67;67m▀\u001b[38;2;49;49;49;48;2;62;62;62m▀\u001b[38;2;49;49;49;48;2;75;75;75m▀\u001b[38;2;34;34;34;48;2;70;70;70m▀\u001b[38;2;37;37;37;48;2;76;76;76m▀\u001b[38;2;38;38;38;48;2;57;57;57m▀\u001b[38;2;37;37;37;48;2;50;50;50m▀\u001b[38;2;22;22;22;48;2;62;62;62m▀\u001b[38;2;34;34;34;48;2;94;94;94m▀\u001b[38;2;37;37;37;48;2;96;96;96m▀\u001b[38;2;37;37;37;48;2;88;88;88m▀\u001b[38;2;35;35;35;48;2;51;51;51m▀\u001b[38;2;31;31;31;48;2;56;56;56m▀\u001b[38;2;39;39;39;48;2;67;67;67m▀\u001b[38;2;13;13;13;48;2;24;24;24m▀\u001b[0m\n",
       "\u001b[0m\u001b[38;2;30;30;30;48;2;10;10;10m▀\u001b[38;2;74;74;74;48;2;53;53;53m▀\u001b[38;2;91;91;91;48;2;74;74;74m▀\u001b[38;2;51;51;51;48;2;77;77;77m▀\u001b[38;2;51;51;51;48;2;59;59;59m▀\u001b[38;2;60;60;60;48;2;45;45;45m▀\u001b[38;2;60;60;60;48;2;67;67;67m▀\u001b[38;2;52;52;52;48;2;81;81;81m▀\u001b[38;2;45;45;45;48;2;66;66;66m▀\u001b[38;2;51;51;51;48;2;63;63;63m▀\u001b[38;2;60;60;60;48;2;72;72;72m▀\u001b[38;2;73;73;73;48;2;63;63;63m▀\u001b[38;2;69;69;69;48;2;72;72;72m▀\u001b[38;2;48;48;48;48;2;57;57;57m▀\u001b[38;2;44;44;44;48;2;52;52;52m▀\u001b[38;2;51;51;51;48;2;53;53;53m▀\u001b[38;2;45;45;45;48;2;57;57;57m▀\u001b[38;2;58;58;58;48;2;58;58;58m▀\u001b[38;2;66;66;66;48;2;67;67;67m▀\u001b[38;2;55;55;55;48;2;44;44;44m▀\u001b[38;2;45;45;45;48;2;65;65;65m▀\u001b[38;2;46;46;46;48;2;65;65;65m▀\u001b[38;2;71;71;71;48;2;88;88;88m▀\u001b[38;2;93;93;93;48;2;63;63;63m▀\u001b[38;2;88;88;88;48;2;46;46;46m▀\u001b[38;2;78;78;78;48;2;37;37;37m▀\u001b[38;2;50;50;50;48;2;50;50;50m▀\u001b[38;2;37;37;37;48;2;52;52;52m▀\u001b[38;2;61;61;61;48;2;69;69;69m▀\u001b[38;2;49;49;49;48;2;71;71;71m▀\u001b[38;2;78;78;78;48;2;50;50;50m▀\u001b[38;2;72;72;72;48;2;54;54;54m▀\u001b[38;2;67;67;67;48;2;65;65;65m▀\u001b[38;2;48;48;48;48;2;60;60;60m▀\u001b[38;2;38;38;38;48;2;73;73;73m▀\u001b[38;2;42;42;42;48;2;80;80;80m▀\u001b[38;2;55;55;55;48;2;67;67;67m▀\u001b[38;2;46;46;46;48;2;53;53;53m▀\u001b[38;2;45;45;45;48;2;69;69;69m▀\u001b[38;2;56;56;56;48;2;76;76;76m▀\u001b[38;2;51;51;51;48;2;78;78;78m▀\u001b[38;2;63;63;63;48;2;47;47;47m▀\u001b[38;2;68;68;68;48;2;54;54;54m▀\u001b[38;2;72;72;72;48;2;47;47;47m▀\u001b[38;2;60;60;60;48;2;63;63;63m▀\u001b[38;2;42;42;42;48;2;71;71;71m▀\u001b[38;2;66;66;66;48;2;66;66;66m▀\u001b[38;2;63;63;63;48;2;58;58;58m▀\u001b[38;2;41;41;41;48;2;35;35;35m▀\u001b[0m\n",
       "\u001b[0m\u001b[38;2;34;34;34;48;2;42;42;42m▀\u001b[38;2;46;46;46;48;2;52;52;52m▀\u001b[38;2;52;52;52;48;2;59;59;59m▀\u001b[38;2;56;56;56;48;2;76;76;76m▀\u001b[38;2;72;72;72;48;2;69;69;69m▀\u001b[38;2;87;87;87;48;2;62;62;62m▀\u001b[38;2;71;71;71;48;2;59;59;59m▀\u001b[38;2;50;50;50;48;2;53;53;53m▀\u001b[38;2;87;87;87;48;2;87;87;87m▀\u001b[38;2;87;87;87;48;2;89;89;89m▀\u001b[38;2;85;85;85;48;2;64;64;64m▀\u001b[38;2;67;67;67;48;2;90;90;90m▀\u001b[38;2;77;77;77;48;2;76;76;76m▀\u001b[38;2;59;59;59;48;2;61;61;61m▀\u001b[38;2;75;75;75;48;2;51;51;51m▀\u001b[38;2;82;82;82;48;2;54;54;54m▀\u001b[38;2;67;67;67;48;2;62;62;62m▀\u001b[38;2;68;68;68;48;2;54;54;54m▀\u001b[38;2;67;67;67;48;2;61;61;61m▀\u001b[38;2;65;65;65;48;2;42;42;42m▀\u001b[38;2;68;68;68;48;2;51;51;51m▀\u001b[38;2;66;66;66;48;2;55;55;55m▀\u001b[38;2;55;55;55;48;2;54;54;54m▀\u001b[38;2;50;50;50;48;2;53;53;53m▀\u001b[38;2;43;43;43;48;2;66;66;66m▀\u001b[38;2;65;65;65;48;2;60;60;60m▀\u001b[38;2;57;57;57;48;2;68;68;68m▀\u001b[38;2;58;58;58;48;2;51;51;51m▀\u001b[38;2;63;63;63;48;2;70;70;70m▀\u001b[38;2;74;74;74;48;2;65;65;65m▀\u001b[38;2;60;60;60;48;2;66;66;66m▀\u001b[38;2;61;61;61;48;2;75;75;75m▀\u001b[38;2;50;50;50;48;2;62;62;62m▀\u001b[38;2;54;54;54;48;2;69;69;69m▀\u001b[38;2;82;82;82;48;2;56;56;56m▀\u001b[38;2;93;93;93;48;2;44;44;44m▀\u001b[38;2;82;82;82;48;2;37;37;37m▀\u001b[38;2;71;71;71;48;2;46;46;46m▀\u001b[38;2;76;76;76;48;2;72;72;72m▀\u001b[38;2;67;67;67;48;2;86;86;86m▀\u001b[38;2;87;87;87;48;2;55;55;55m▀\u001b[38;2;62;62;62;48;2;61;61;61m▀\u001b[38;2;59;59;59;48;2;72;72;72m▀\u001b[38;2;59;59;59;48;2;81;81;81m▀\u001b[38;2;58;58;58;48;2;69;69;69m▀\u001b[38;2;59;59;59;48;2;41;41;41m▀\u001b[38;2;49;49;49;48;2;50;50;50m▀\u001b[38;2;64;64;64;48;2;53;53;53m▀\u001b[38;2;43;43;43;48;2;30;30;30m▀\u001b[0m\n",
       "\u001b[0m\u001b[38;2;40;40;40;48;2;37;37;37m▀\u001b[38;2;71;71;71;48;2;68;68;68m▀\u001b[38;2;73;73;73;48;2;63;63;63m▀\u001b[38;2;66;66;66;48;2;65;65;65m▀\u001b[38;2;75;75;75;48;2;68;68;68m▀\u001b[38;2;47;47;47;48;2;64;64;64m▀\u001b[38;2;46;46;46;48;2;65;65;65m▀\u001b[38;2;19;19;19;48;2;58;58;58m▀\u001b[38;2;34;34;34;48;2;49;49;49m▀\u001b[38;2;53;53;53;48;2;42;42;42m▀\u001b[38;2;63;63;63;48;2;54;54;54m▀\u001b[38;2;71;71;71;48;2;60;60;60m▀\u001b[38;2;77;77;77;48;2;68;68;68m▀\u001b[38;2;50;50;50;48;2;91;91;91m▀\u001b[38;2;62;62;62;48;2;76;76;76m▀\u001b[38;2;68;68;68;48;2;69;69;69m▀\u001b[38;2;65;65;65;48;2;67;67;67m▀\u001b[38;2;55;55;55;48;2;81;81;81m▀\u001b[38;2;44;44;44;48;2;83;83;83m▀\u001b[38;2;55;55;55;48;2;76;76;76m▀\u001b[38;2;55;55;55;48;2;66;66;66m▀\u001b[38;2;86;86;86;48;2;64;64;64m▀\u001b[38;2;82;82;82;48;2;50;50;50m▀\u001b[38;2;72;72;72;48;2;51;51;51m▀\u001b[38;2;76;76;76;48;2;75;75;75m▀\u001b[38;2;47;47;47;48;2;66;66;66m▀\u001b[38;2;72;72;72;48;2;57;57;57m▀\u001b[38;2;64;64;64;48;2;68;68;68m▀\u001b[38;2;41;41;41;48;2;56;56;56m▀\u001b[38;2;55;55;55;48;2;55;55;55m▀\u001b[38;2;56;56;56;48;2;51;51;51m▀\u001b[38;2;82;82;82;48;2;46;46;46m▀\u001b[38;2;62;62;62;48;2;62;62;62m▀\u001b[38;2;59;59;59;48;2;51;51;51m▀\u001b[38;2;54;54;54;48;2;57;57;57m▀\u001b[38;2;55;55;55;48;2;49;49;49m▀\u001b[38;2;61;61;61;48;2;65;65;65m▀\u001b[38;2;49;49;49;48;2;55;55;55m▀\u001b[38;2;49;49;49;48;2;45;45;45m▀\u001b[38;2;63;63;63;48;2;43;43;43m▀\u001b[38;2;51;51;51;48;2;33;33;33m▀\u001b[38;2;45;45;45;48;2;41;41;41m▀\u001b[38;2;46;46;46;48;2;60;60;60m▀\u001b[38;2;60;60;60;48;2;78;78;78m▀\u001b[38;2;68;68;68;48;2;62;62;62m▀\u001b[38;2;74;74;74;48;2;72;72;72m▀\u001b[38;2;78;78;78;48;2;89;89;89m▀\u001b[38;2;74;74;74;48;2;100;100;100m▀\u001b[38;2;23;23;23;48;2;40;40;40m▀\u001b[0m\n",
       "\u001b[0m\u001b[38;2;28;28;28;48;2;15;15;15m▀\u001b[38;2;52;52;52;48;2;47;47;47m▀\u001b[38;2;35;35;35;48;2;40;40;40m▀\u001b[38;2;45;45;45;48;2;52;52;52m▀\u001b[38;2;51;51;51;48;2;69;69;69m▀\u001b[38;2;56;56;56;48;2;49;49;49m▀\u001b[38;2;76;76;76;48;2;62;62;62m▀\u001b[38;2;77;77;77;48;2;66;66;66m▀\u001b[38;2;56;56;56;48;2;71;71;71m▀\u001b[38;2;42;42;42;48;2;67;67;67m▀\u001b[38;2;61;61;61;48;2;73;73;73m▀\u001b[38;2;61;61;61;48;2;80;80;80m▀\u001b[38;2;62;62;62;48;2;81;81;81m▀\u001b[38;2;74;74;74;48;2;58;58;58m▀\u001b[38;2;55;55;55;48;2;63;63;63m▀\u001b[38;2;50;50;50;48;2;57;57;57m▀\u001b[38;2;91;91;91;48;2;63;63;63m▀\u001b[38;2;77;77;77;48;2;61;61;61m▀\u001b[38;2;61;61;61;48;2;64;64;64m▀\u001b[38;2;32;32;32;48;2;68;68;68m▀\u001b[38;2;69;69;69;48;2;71;71;71m▀\u001b[38;2;59;59;59;48;2;77;77;77m▀\u001b[38;2;59;59;59;48;2;72;72;72m▀\u001b[38;2;36;36;36;48;2;34;34;34m▀\u001b[38;2;46;46;46;48;2;37;37;37m▀\u001b[38;2;54;54;54;48;2;56;56;56m▀\u001b[38;2;49;49;49;48;2;73;73;73m▀\u001b[38;2;75;75;75;48;2;67;67;67m▀\u001b[38;2;73;73;73;48;2;48;48;48m▀\u001b[38;2;55;55;55;48;2;67;67;67m▀\u001b[38;2;39;39;39;48;2;92;92;92m▀\u001b[38;2;47;47;47;48;2;65;65;65m▀\u001b[38;2;59;59;59;48;2;74;74;74m▀\u001b[38;2;76;76;76;48;2;67;67;67m▀\u001b[38;2;85;85;85;48;2;50;50;50m▀\u001b[38;2;69;69;69;48;2;62;62;62m▀\u001b[38;2;42;42;42;48;2;54;54;54m▀\u001b[38;2;57;57;57;48;2;65;65;65m▀\u001b[38;2;62;62;62;48;2;72;72;72m▀\u001b[38;2;56;56;56;48;2;66;66;66m▀\u001b[38;2;73;73;73;48;2;50;50;50m▀\u001b[38;2;78;78;78;48;2;49;49;49m▀\u001b[38;2;72;72;72;48;2;26;26;26m▀\u001b[38;2;71;71;71;48;2;40;40;40m▀\u001b[38;2;56;56;56;48;2;36;36;36m▀\u001b[38;2;67;67;67;48;2;63;63;63m▀\u001b[38;2;56;56;56;48;2;48;48;48m▀\u001b[38;2;69;69;69;48;2;39;39;39m▀\u001b[38;2;34;34;34;48;2;28;28;28m▀\u001b[0m\n",
       "\u001b[0m\u001b[38;2;32;32;32;48;2;20;20;20m▀\u001b[38;2;66;66;66;48;2;41;41;41m▀\u001b[38;2;55;55;55;48;2;52;52;52m▀\u001b[38;2;49;49;49;48;2;61;61;61m▀\u001b[38;2;62;62;62;48;2;85;85;85m▀\u001b[38;2;50;50;50;48;2;51;51;51m▀\u001b[38;2;52;52;52;48;2;70;70;70m▀\u001b[38;2;64;64;64;48;2;84;84;84m▀\u001b[38;2;54;54;54;48;2;68;68;68m▀\u001b[38;2;66;66;66;48;2;60;60;60m▀\u001b[38;2;56;56;56;48;2;53;53;53m▀\u001b[38;2;65;65;65;48;2;77;77;77m▀\u001b[38;2;64;64;64;48;2;71;71;71m▀\u001b[38;2;74;74;74;48;2;45;45;45m▀\u001b[38;2;75;75;75;48;2;42;42;42m▀\u001b[38;2;72;72;72;48;2;48;48;48m▀\u001b[38;2;47;47;47;48;2;58;58;58m▀\u001b[38;2;57;57;57;48;2;65;65;65m▀\u001b[38;2;40;40;40;48;2;64;64;64m▀\u001b[38;2;53;53;53;48;2;38;38;38m▀\u001b[38;2;53;53;53;48;2;37;37;37m▀\u001b[38;2;51;51;51;48;2;51;51;51m▀\u001b[38;2;73;73;73;48;2;79;79;79m▀\u001b[38;2;60;60;60;48;2;85;85;85m▀\u001b[38;2;52;52;52;48;2;61;61;61m▀\u001b[38;2;62;62;62;48;2;68;68;68m▀\u001b[38;2;59;59;59;48;2;54;54;54m▀\u001b[38;2;86;86;86;48;2;61;61;61m▀\u001b[38;2;87;87;87;48;2;51;51;51m▀\u001b[38;2;65;65;65;48;2;47;47;47m▀\u001b[38;2;63;63;63;48;2;57;57;57m▀\u001b[38;2;64;64;64;48;2;56;56;56m▀\u001b[38;2;54;54;54;48;2;52;52;52m▀\u001b[38;2;59;59;59;48;2;48;48;48m▀\u001b[38;2;49;49;49;48;2;43;43;43m▀\u001b[38;2;63;63;63;48;2;70;70;70m▀\u001b[38;2;58;58;58;48;2;49;49;49m▀\u001b[38;2;64;64;64;48;2;19;19;19m▀\u001b[38;2;75;75;75;48;2;49;49;49m▀\u001b[38;2;58;58;58;48;2;58;58;58m▀\u001b[38;2;48;48;48;48;2;77;77;77m▀\u001b[38;2;46;46;46;48;2;82;82;82m▀\u001b[38;2;55;55;55;48;2;91;91;91m▀\u001b[38;2;66;66;66;48;2;68;68;68m▀\u001b[38;2;53;53;53;48;2;53;53;53m▀\u001b[38;2;57;57;57;48;2;55;55;55m▀\u001b[38;2;59;59;59;48;2;87;87;87m▀\u001b[38;2;54;54;54;48;2;66;66;66m▀\u001b[38;2;2;2;2;48;2;24;24;24m▀\u001b[0m\n",
       "\u001b[0m\u001b[38;2;30;30;30;48;2;35;35;35m▀\u001b[38;2;67;67;67;48;2;72;72;72m▀\u001b[38;2;74;74;74;48;2;74;74;74m▀\u001b[38;2;63;63;63;48;2;76;76;76m▀\u001b[38;2;44;44;44;48;2;55;55;55m▀\u001b[38;2;70;70;70;48;2;40;40;40m▀\u001b[38;2;61;61;61;48;2;42;42;42m▀\u001b[38;2;58;58;58;48;2;48;48;48m▀\u001b[38;2;55;55;55;48;2;35;35;35m▀\u001b[38;2;55;55;55;48;2;56;56;56m▀\u001b[38;2;60;60;60;48;2;56;56;56m▀\u001b[38;2;67;67;67;48;2;61;61;61m▀\u001b[38;2;69;69;69;48;2;57;57;57m▀\u001b[38;2;54;54;54;48;2;72;72;72m▀\u001b[38;2;67;67;67;48;2;81;81;81m▀\u001b[38;2;80;80;80;48;2;56;56;56m▀\u001b[38;2;64;64;64;48;2;45;45;45m▀\u001b[38;2;52;52;52;48;2;47;47;47m▀\u001b[38;2;67;67;67;48;2;72;72;72m▀\u001b[38;2;47;47;47;48;2;66;66;66m▀\u001b[38;2;38;38;38;48;2;57;57;57m▀\u001b[38;2;57;57;57;48;2;43;43;43m▀\u001b[38;2;64;64;64;48;2;60;60;60m▀\u001b[38;2;47;47;47;48;2;48;48;48m▀\u001b[38;2;31;31;31;48;2;71;71;71m▀\u001b[38;2;49;49;49;48;2;66;66;66m▀\u001b[38;2;58;58;58;48;2;63;63;63m▀\u001b[38;2;68;68;68;48;2;54;54;54m▀\u001b[38;2;47;47;47;48;2;58;58;58m▀\u001b[38;2;51;51;51;48;2;52;52;52m▀\u001b[38;2;76;76;76;48;2;66;66;66m▀\u001b[38;2;70;70;70;48;2;63;63;63m▀\u001b[38;2;75;75;75;48;2;45;45;45m▀\u001b[38;2;84;84;84;48;2;86;86;86m▀\u001b[38;2;60;60;60;48;2;96;96;96m▀\u001b[38;2;52;52;52;48;2;72;72;72m▀\u001b[38;2;58;58;58;48;2;94;94;94m▀\u001b[38;2;56;56;56;48;2;59;59;59m▀\u001b[38;2;83;83;83;48;2;54;54;54m▀\u001b[38;2;83;83;83;48;2;56;56;56m▀\u001b[38;2;82;82;82;48;2;56;56;56m▀\u001b[38;2;60;60;60;48;2;65;65;65m▀\u001b[38;2;51;51;51;48;2;54;54;54m▀\u001b[38;2;71;71;71;48;2;53;53;53m▀\u001b[38;2;52;52;52;48;2;84;84;84m▀\u001b[38;2;47;47;47;48;2;59;59;59m▀\u001b[38;2;60;60;60;48;2;53;53;53m▀\u001b[38;2;59;59;59;48;2;45;45;45m▀\u001b[38;2;37;37;37;48;2;28;28;28m▀\u001b[0m\n",
       "\u001b[0m\u001b[38;2;50;50;50;48;2;25;25;25m▀\u001b[38;2;89;89;89;48;2;65;65;65m▀\u001b[38;2;52;52;52;48;2;27;27;27m▀\u001b[38;2;67;67;67;48;2;53;53;53m▀\u001b[38;2;78;78;78;48;2;68;68;68m▀\u001b[38;2;72;72;72;48;2;55;55;55m▀\u001b[38;2;52;52;52;48;2;43;43;43m▀\u001b[38;2;69;69;69;48;2;62;62;62m▀\u001b[38;2;70;70;70;48;2;67;67;67m▀\u001b[38;2;74;74;74;48;2;50;50;50m▀\u001b[38;2;62;62;62;48;2;77;77;77m▀\u001b[38;2;44;44;44;48;2;56;56;56m▀\u001b[38;2;51;51;51;48;2;60;60;60m▀\u001b[38;2;61;61;61;48;2;63;63;63m▀\u001b[38;2;56;56;56;48;2;55;55;55m▀\u001b[38;2;52;52;52;48;2;59;59;59m▀\u001b[38;2;50;50;50;48;2;61;61;61m▀\u001b[38;2;26;26;26;48;2;49;49;49m▀\u001b[38;2;41;41;41;48;2;67;67;67m▀\u001b[38;2;57;57;57;48;2;80;80;80m▀\u001b[38;2;46;46;46;48;2;78;78;78m▀\u001b[38;2;53;53;53;48;2;64;64;64m▀\u001b[38;2;63;63;63;48;2;62;62;62m▀\u001b[38;2;93;93;93;48;2;44;44;44m▀\u001b[38;2;70;70;70;48;2;83;83;83m▀\u001b[38;2;61;61;61;48;2;65;65;65m▀\u001b[38;2;50;50;50;48;2;61;61;61m▀\u001b[38;2;67;67;67;48;2;63;63;63m▀\u001b[38;2;58;58;58;48;2;57;57;57m▀\u001b[38;2;63;63;63;48;2;50;50;50m▀\u001b[38;2;48;48;48;48;2;52;52;52m▀\u001b[38;2;61;61;61;48;2;64;64;64m▀\u001b[38;2;76;76;76;48;2;69;69;69m▀\u001b[38;2;70;70;70;48;2;63;63;63m▀\u001b[38;2;59;59;59;48;2;59;59;59m▀\u001b[38;2;52;52;52;48;2;58;58;58m▀\u001b[38;2;73;73;73;48;2;63;63;63m▀\u001b[38;2;43;43;43;48;2;65;65;65m▀\u001b[38;2;33;33;33;48;2;43;43;43m▀\u001b[38;2;46;46;46;48;2;53;53;53m▀\u001b[38;2;41;41;41;48;2;34;34;34m▀\u001b[38;2;46;46;46;48;2;42;42;42m▀\u001b[38;2;45;45;45;48;2;40;40;40m▀\u001b[38;2;77;77;77;48;2;58;58;58m▀\u001b[38;2;80;80;80;48;2;81;81;81m▀\u001b[38;2;76;76;76;48;2;47;47;47m▀\u001b[38;2;45;45;45;48;2;67;67;67m▀\u001b[38;2;54;54;54;48;2;60;60;60m▀\u001b[38;2;31;31;31;48;2;34;34;34m▀\u001b[0m\n",
       "\u001b[0m\u001b[38;2;35;35;35;48;2;23;23;23m▀\u001b[38;2;65;65;65;48;2;49;49;49m▀\u001b[38;2;54;54;54;48;2;77;77;77m▀\u001b[38;2;49;49;49;48;2;62;62;62m▀\u001b[38;2;69;69;69;48;2;77;77;77m▀\u001b[38;2;84;84;84;48;2;82;82;82m▀\u001b[38;2;71;71;71;48;2;85;85;85m▀\u001b[38;2;47;47;47;48;2;74;74;74m▀\u001b[38;2;55;55;55;48;2;64;64;64m▀\u001b[38;2;52;52;52;48;2;50;50;50m▀\u001b[38;2;60;60;60;48;2;46;46;46m▀\u001b[38;2;51;51;51;48;2;44;44;44m▀\u001b[38;2;74;74;74;48;2;56;56;56m▀\u001b[38;2;62;62;62;48;2;65;65;65m▀\u001b[38;2;47;47;47;48;2;60;60;60m▀\u001b[38;2;44;44;44;48;2;55;55;55m▀\u001b[38;2;44;44;44;48;2;46;46;46m▀\u001b[38;2;40;40;40;48;2;44;44;44m▀\u001b[38;2;46;46;46;48;2;48;48;48m▀\u001b[38;2;74;74;74;48;2;67;67;67m▀\u001b[38;2;106;106;106;48;2;105;105;105m▀\u001b[38;2;73;73;73;48;2;74;74;74m▀\u001b[38;2;56;56;56;48;2;46;46;46m▀\u001b[38;2;51;51;51;48;2;50;50;50m▀\u001b[38;2;63;63;63;48;2;70;70;70m▀\u001b[38;2;68;68;68;48;2;66;66;66m▀\u001b[38;2;67;67;67;48;2;83;83;83m▀\u001b[38;2;54;54;54;48;2;68;68;68m▀\u001b[38;2;59;59;59;48;2;62;62;62m▀\u001b[38;2;62;62;62;48;2;63;63;63m▀\u001b[38;2;50;50;50;48;2;49;49;49m▀\u001b[38;2;46;46;46;48;2;26;26;26m▀\u001b[38;2;63;63;63;48;2;53;53;53m▀\u001b[38;2;66;66;66;48;2;88;88;88m▀\u001b[38;2;50;50;50;48;2;57;57;57m▀\u001b[38;2;47;47;47;48;2;57;57;57m▀\u001b[38;2;59;59;59;48;2;63;63;63m▀\u001b[38;2;64;64;64;48;2;77;77;77m▀\u001b[38;2;59;59;59;48;2;61;61;61m▀\u001b[38;2;68;68;68;48;2;62;62;62m▀\u001b[38;2;76;76;76;48;2;80;80;80m▀\u001b[38;2;75;75;75;48;2;78;78;78m▀\u001b[38;2;67;67;67;48;2;85;85;85m▀\u001b[38;2;83;83;83;48;2;90;90;90m▀\u001b[38;2;90;90;90;48;2;69;69;69m▀\u001b[38;2;58;58;58;48;2;53;53;53m▀\u001b[38;2;68;68;68;48;2;65;65;65m▀\u001b[38;2;66;66;66;48;2;96;96;96m▀\u001b[38;2;37;37;37;48;2;43;43;43m▀\u001b[0m\n",
       "\u001b[0m\u001b[38;2;37;37;37;48;2;53;53;53m▀\u001b[38;2;41;41;41;48;2;59;59;59m▀\u001b[38;2;42;42;42;48;2;38;38;38m▀\u001b[38;2;55;55;55;48;2;38;38;38m▀\u001b[38;2;54;54;54;48;2;44;44;44m▀\u001b[38;2;56;56;56;48;2;31;31;31m▀\u001b[38;2;61;61;61;48;2;17;17;17m▀\u001b[38;2;73;73;73;48;2;52;52;52m▀\u001b[38;2;70;70;70;48;2;66;66;66m▀\u001b[38;2;75;75;75;48;2;76;76;76m▀\u001b[38;2;64;64;64;48;2;83;83;83m▀\u001b[38;2;50;50;50;48;2;64;64;64m▀\u001b[38;2;49;49;49;48;2;43;43;43m▀\u001b[38;2;72;72;72;48;2;54;54;54m▀\u001b[38;2;55;55;55;48;2;57;57;57m▀\u001b[38;2;38;38;38;48;2;73;73;73m▀\u001b[38;2;52;52;52;48;2;67;67;67m▀\u001b[38;2;68;68;68;48;2;89;89;89m▀\u001b[38;2;71;71;71;48;2;64;64;64m▀\u001b[38;2;72;72;72;48;2;43;43;43m▀\u001b[38;2;80;80;80;48;2;67;67;67m▀\u001b[38;2;69;69;69;48;2;78;78;78m▀\u001b[38;2;49;49;49;48;2;67;67;67m▀\u001b[38;2;71;71;71;48;2;63;63;63m▀\u001b[38;2;75;75;75;48;2;71;71;71m▀\u001b[38;2;73;73;73;48;2;68;68;68m▀\u001b[38;2;81;81;81;48;2;79;79;79m▀\u001b[38;2;71;71;71;48;2;56;56;56m▀\u001b[38;2;84;84;84;48;2;67;67;67m▀\u001b[38;2;74;74;74;48;2;72;72;72m▀\u001b[38;2;78;78;78;48;2;66;66;66m▀\u001b[38;2;65;65;65;48;2;76;76;76m▀\u001b[38;2;50;50;50;48;2;74;74;74m▀\u001b[38;2;70;70;70;48;2;54;54;54m▀\u001b[38;2;58;58;58;48;2;54;54;54m▀\u001b[38;2;46;46;46;48;2;32;32;32m▀\u001b[38;2;43;43;43;48;2;39;39;39m▀\u001b[38;2;77;77;77;48;2;64;64;64m▀\u001b[38;2;66;66;66;48;2;61;61;61m▀\u001b[38;2;64;64;64;48;2;51;51;51m▀\u001b[38;2;54;54;54;48;2;59;59;59m▀\u001b[38;2;52;52;52;48;2;56;56;56m▀\u001b[38;2;48;48;48;48;2;48;48;48m▀\u001b[38;2;46;46;46;48;2;54;54;54m▀\u001b[38;2;71;71;71;48;2;64;64;64m▀\u001b[38;2;57;57;57;48;2;82;82;82m▀\u001b[38;2;54;54;54;48;2;63;63;63m▀\u001b[38;2;65;65;65;48;2;68;68;68m▀\u001b[38;2;23;23;23;48;2;49;49;49m▀\u001b[0m\n",
       "\u001b[0m\u001b[38;2;26;26;26;48;2;32;32;32m▀\u001b[38;2;63;63;63;48;2;69;69;69m▀\u001b[38;2;70;70;70;48;2;66;66;66m▀\u001b[38;2;62;62;62;48;2;75;75;75m▀\u001b[38;2;67;67;67;48;2;83;83;83m▀\u001b[38;2;70;70;70;48;2;97;97;97m▀\u001b[38;2;53;53;53;48;2;90;90;90m▀\u001b[38;2;69;69;69;48;2;56;56;56m▀\u001b[38;2;68;68;68;48;2;32;32;32m▀\u001b[38;2;68;68;68;48;2;43;43;43m▀\u001b[38;2;70;70;70;48;2;48;48;48m▀\u001b[38;2;75;75;75;48;2;66;66;66m▀\u001b[38;2;58;58;58;48;2;50;50;50m▀\u001b[38;2;70;70;70;48;2;54;54;54m▀\u001b[38;2;72;72;72;48;2;50;50;50m▀\u001b[38;2;62;62;62;48;2;45;45;45m▀\u001b[38;2;69;69;69;48;2;55;55;55m▀\u001b[38;2;69;69;69;48;2;61;61;61m▀\u001b[38;2;100;100;100;48;2;81;81;81m▀\u001b[38;2;63;63;63;48;2;66;66;66m▀\u001b[38;2;67;67;67;48;2;55;55;55m▀\u001b[38;2;43;43;43;48;2;63;63;63m▀\u001b[38;2;61;61;61;48;2;54;54;54m▀\u001b[38;2;51;51;51;48;2;62;62;62m▀\u001b[38;2;59;59;59;48;2;52;52;52m▀\u001b[38;2;64;64;64;48;2;72;72;72m▀\u001b[38;2;37;37;37;48;2;60;60;60m▀\u001b[38;2;40;40;40;48;2;53;53;53m▀\u001b[38;2;43;43;43;48;2;61;61;61m▀\u001b[38;2;60;60;60;48;2;60;60;60m▀\u001b[38;2;69;69;69;48;2;69;69;69m▀\u001b[38;2;72;72;72;48;2;56;56;56m▀\u001b[38;2;75;75;75;48;2;64;64;64m▀\u001b[38;2;70;70;70;48;2;73;73;73m▀\u001b[38;2;66;66;66;48;2;66;66;66m▀\u001b[38;2;70;70;70;48;2;69;69;69m▀\u001b[38;2;49;49;49;48;2;78;78;78m▀\u001b[38;2;67;67;67;48;2;64;64;64m▀\u001b[38;2;76;76;76;48;2;73;73;73m▀\u001b[38;2;51;51;51;48;2;65;65;65m▀\u001b[38;2;61;61;61;48;2;53;53;53m▀\u001b[38;2;65;65;65;48;2;80;80;80m▀\u001b[38;2;69;69;69;48;2;73;73;73m▀\u001b[38;2;83;83;83;48;2;83;83;83m▀\u001b[38;2;79;79;79;48;2;69;69;69m▀\u001b[38;2;83;83;83;48;2;61;61;61m▀\u001b[38;2;71;71;71;48;2;41;41;41m▀\u001b[38;2;100;100;100;48;2;56;56;56m▀\u001b[38;2;53;53;53;48;2;40;40;40m▀\u001b[0m\n",
       "\u001b[0m\u001b[38;2;25;25;25;48;2;22;22;22m▀\u001b[38;2;65;65;65;48;2;77;77;77m▀\u001b[38;2;67;67;67;48;2;60;60;60m▀\u001b[38;2;56;56;56;48;2;60;60;60m▀\u001b[38;2;56;56;56;48;2;44;44;44m▀\u001b[38;2;64;64;64;48;2;60;60;60m▀\u001b[38;2;55;55;55;48;2;76;76;76m▀\u001b[38;2;44;44;44;48;2;60;60;60m▀\u001b[38;2;68;68;68;48;2;67;67;67m▀\u001b[38;2;41;41;41;48;2;78;78;78m▀\u001b[38;2;51;51;51;48;2;72;72;72m▀\u001b[38;2;87;87;87;48;2;84;84;84m▀\u001b[38;2;78;78;78;48;2;87;87;87m▀\u001b[38;2;32;32;32;48;2;47;47;47m▀\u001b[38;2;47;47;47;48;2;78;78;78m▀\u001b[38;2;55;55;55;48;2;65;65;65m▀\u001b[38;2;57;57;57;48;2;76;76;76m▀\u001b[38;2;51;51;51;48;2;51;51;51m▀\u001b[38;2;70;70;70;48;2;59;59;59m▀\u001b[38;2;63;63;63;48;2;56;56;56m▀\u001b[38;2;53;53;53;48;2;70;70;70m▀\u001b[38;2;50;50;50;48;2;78;78;78m▀\u001b[38;2;54;54;54;48;2;73;73;73m▀\u001b[38;2;78;78;78;48;2;63;63;63m▀\u001b[38;2;61;61;61;48;2;55;55;55m▀\u001b[38;2;78;78;78;48;2;79;79;79m▀\u001b[38;2;75;75;75;48;2;74;74;74m▀\u001b[38;2;79;79;79;48;2;61;61;61m▀\u001b[38;2;55;55;55;48;2;45;45;45m▀\u001b[38;2;44;44;44;48;2;43;43;43m▀\u001b[38;2;50;50;50;48;2;57;57;57m▀\u001b[38;2;64;64;64;48;2;82;82;82m▀\u001b[38;2;79;79;79;48;2;59;59;59m▀\u001b[38;2;84;84;84;48;2;67;67;67m▀\u001b[38;2;56;56;56;48;2;73;73;73m▀\u001b[38;2;72;72;72;48;2;84;84;84m▀\u001b[38;2;77;77;77;48;2;65;65;65m▀\u001b[38;2;66;66;66;48;2;72;72;72m▀\u001b[38;2;44;44;44;48;2;56;56;56m▀\u001b[38;2;71;71;71;48;2;72;72;72m▀\u001b[38;2;59;59;59;48;2;60;60;60m▀\u001b[38;2;46;46;46;48;2;67;67;67m▀\u001b[38;2;40;40;40;48;2;72;72;72m▀\u001b[38;2;54;54;54;48;2;57;57;57m▀\u001b[38;2;45;45;45;48;2;80;80;80m▀\u001b[38;2;60;60;60;48;2;78;78;78m▀\u001b[38;2;63;63;63;48;2;90;90;90m▀\u001b[38;2;44;44;44;48;2;52;52;52m▀\u001b[38;2;33;33;33;48;2;6;6;6m▀\u001b[0m\n",
       "\u001b[0m\u001b[38;2;22;22;22;48;2;28;28;28m▀\u001b[38;2;67;67;67;48;2;55;55;55m▀\u001b[38;2;84;84;84;48;2;60;60;60m▀\u001b[38;2;92;92;92;48;2;73;73;73m▀\u001b[38;2;74;74;74;48;2;61;61;61m▀\u001b[38;2;76;76;76;48;2;46;46;46m▀\u001b[38;2;48;48;48;48;2;58;58;58m▀\u001b[38;2;47;47;47;48;2;53;53;53m▀\u001b[38;2;70;70;70;48;2;62;62;62m▀\u001b[38;2;89;89;89;48;2;71;71;71m▀\u001b[38;2;55;55;55;48;2;60;60;60m▀\u001b[38;2;44;44;44;48;2;63;63;63m▀\u001b[38;2;62;62;62;48;2;78;78;78m▀\u001b[38;2;60;60;60;48;2;86;86;86m▀\u001b[38;2;53;53;53;48;2;79;79;79m▀\u001b[38;2;63;63;63;48;2;61;61;61m▀\u001b[38;2;62;62;62;48;2;33;33;33m▀\u001b[38;2;57;57;57;48;2;34;34;34m▀\u001b[38;2;69;69;69;48;2;39;39;39m▀\u001b[38;2;76;76;76;48;2;51;51;51m▀\u001b[38;2;85;85;85;48;2;62;62;62m▀\u001b[38;2;51;51;51;48;2;58;58;58m▀\u001b[38;2;58;58;58;48;2;59;59;59m▀\u001b[38;2;52;52;52;48;2;47;47;47m▀\u001b[38;2;54;54;54;48;2;67;67;67m▀\u001b[38;2;58;58;58;48;2;71;71;71m▀\u001b[38;2;64;64;64;48;2;73;73;73m▀\u001b[38;2;45;45;45;48;2;72;72;72m▀\u001b[38;2;50;50;50;48;2;59;59;59m▀\u001b[38;2;52;52;52;48;2;47;47;47m▀\u001b[38;2;58;58;58;48;2;66;66;66m▀\u001b[38;2;65;65;65;48;2;45;45;45m▀\u001b[38;2;63;63;63;48;2;63;63;63m▀\u001b[38;2;59;59;59;48;2;60;60;60m▀\u001b[38;2;92;92;92;48;2;72;72;72m▀\u001b[38;2;83;83;83;48;2;44;44;44m▀\u001b[38;2;64;64;64;48;2;47;47;47m▀\u001b[38;2;54;54;54;48;2;58;58;58m▀\u001b[38;2;83;83;83;48;2;75;75;75m▀\u001b[38;2;71;71;71;48;2;70;70;70m▀\u001b[38;2;63;63;63;48;2;69;69;69m▀\u001b[38;2;70;70;70;48;2;56;56;56m▀\u001b[38;2;56;56;56;48;2;45;45;45m▀\u001b[38;2;46;46;46;48;2;68;68;68m▀\u001b[38;2;61;61;61;48;2;45;45;45m▀\u001b[38;2;66;66;66;48;2;37;37;37m▀\u001b[38;2;65;65;65;48;2;67;67;67m▀\u001b[38;2;62;62;62;48;2;65;65;65m▀\u001b[38;2;26;26;26;48;2;35;35;35m▀\u001b[0m\n",
       "\u001b[0m\u001b[38;2;23;23;23;48;2;19;19;19m▀\u001b[38;2;53;53;53;48;2;67;67;67m▀\u001b[38;2;34;34;34;48;2;70;70;70m▀\u001b[38;2;44;44;44;48;2;61;61;61m▀\u001b[38;2;45;45;45;48;2;62;62;62m▀\u001b[38;2;47;47;47;48;2;45;45;45m▀\u001b[38;2;64;64;64;48;2;42;42;42m▀\u001b[38;2;74;74;74;48;2;32;32;32m▀\u001b[38;2;64;64;64;48;2;39;39;39m▀\u001b[38;2;69;69;69;48;2;53;53;53m▀\u001b[38;2;90;90;90;48;2;79;79;79m▀\u001b[38;2;90;90;90;48;2;85;85;85m▀\u001b[38;2;98;98;98;48;2;72;72;72m▀\u001b[38;2;98;98;98;48;2;77;77;77m▀\u001b[38;2;71;71;71;48;2;73;73;73m▀\u001b[38;2;45;45;45;48;2;86;86;86m▀\u001b[38;2;76;76;76;48;2;80;80;80m▀\u001b[38;2;51;51;51;48;2;67;67;67m▀\u001b[38;2;55;55;55;48;2;73;73;73m▀\u001b[38;2;56;56;56;48;2;78;78;78m▀\u001b[38;2;67;67;67;48;2;81;81;81m▀\u001b[38;2;73;73;73;48;2;68;68;68m▀\u001b[38;2;76;76;76;48;2;58;58;58m▀\u001b[38;2;62;62;62;48;2;52;52;52m▀\u001b[38;2;60;60;60;48;2;52;52;52m▀\u001b[38;2;59;59;59;48;2;70;70;70m▀\u001b[38;2;60;60;60;48;2;52;52;52m▀\u001b[38;2;82;82;82;48;2;56;56;56m▀\u001b[38;2;86;86;86;48;2;82;82;82m▀\u001b[38;2;62;62;62;48;2;70;70;70m▀\u001b[38;2;48;48;48;48;2;68;68;68m▀\u001b[38;2;64;64;64;48;2;83;83;83m▀\u001b[38;2;65;65;65;48;2;62;62;62m▀\u001b[38;2;76;76;76;48;2;65;65;65m▀\u001b[38;2;64;64;64;48;2;58;58;58m▀\u001b[38;2;79;79;79;48;2;54;54;54m▀\u001b[38;2;66;66;66;48;2;58;58;58m▀\u001b[38;2;69;69;69;48;2;71;71;71m▀\u001b[38;2;52;52;52;48;2;43;43;43m▀\u001b[38;2;55;55;55;48;2;48;48;48m▀\u001b[38;2;49;49;49;48;2;60;60;60m▀\u001b[38;2;64;64;64;48;2;38;38;38m▀\u001b[38;2;70;70;70;48;2;51;51;51m▀\u001b[38;2;59;59;59;48;2;60;60;60m▀\u001b[38;2;60;60;60;48;2;74;74;74m▀\u001b[38;2;44;44;44;48;2;67;67;67m▀\u001b[38;2;48;48;48;48;2;65;65;65m▀\u001b[38;2;52;52;52;48;2;51;51;51m▀\u001b[38;2;3;3;3;48;2;14;14;14m▀\u001b[0m\n",
       "\u001b[0m\u001b[38;2;24;24;24;48;2;18;18;18m▀\u001b[38;2;46;46;46;48;2;30;30;30m▀\u001b[38;2;53;53;53;48;2;39;39;39m▀\u001b[38;2;38;38;38;48;2;46;46;46m▀\u001b[38;2;50;50;50;48;2;53;53;53m▀\u001b[38;2;57;57;57;48;2;70;70;70m▀\u001b[38;2;61;61;61;48;2;82;82;82m▀\u001b[38;2;65;65;65;48;2;71;71;71m▀\u001b[38;2;67;67;67;48;2;65;65;65m▀\u001b[38;2;51;51;51;48;2;64;64;64m▀\u001b[38;2;45;45;45;48;2;47;47;47m▀\u001b[38;2;59;59;59;48;2;40;40;40m▀\u001b[38;2;59;59;59;48;2;72;72;72m▀\u001b[38;2;79;79;79;48;2;57;57;57m▀\u001b[38;2;74;74;74;48;2;53;53;53m▀\u001b[38;2;66;66;66;48;2;52;52;52m▀\u001b[38;2;49;49;49;48;2;49;49;49m▀\u001b[38;2;68;68;68;48;2;35;35;35m▀\u001b[38;2;77;77;77;48;2;49;49;49m▀\u001b[38;2;80;80;80;48;2;53;53;53m▀\u001b[38;2;73;73;73;48;2;80;80;80m▀\u001b[38;2;37;37;37;48;2;65;65;65m▀\u001b[38;2;57;57;57;48;2;66;66;66m▀\u001b[38;2;98;98;98;48;2;78;78;78m▀\u001b[38;2;83;83;83;48;2;73;73;73m▀\u001b[38;2;49;49;49;48;2;57;57;57m▀\u001b[38;2;42;42;42;48;2;48;48;48m▀\u001b[38;2;27;27;27;48;2;38;38;38m▀\u001b[38;2;45;45;45;48;2;48;48;48m▀\u001b[38;2;54;54;54;48;2;43;43;43m▀\u001b[38;2;68;68;68;48;2;41;41;41m▀\u001b[38;2;78;78;78;48;2;51;51;51m▀\u001b[38;2;46;46;46;48;2;68;68;68m▀\u001b[38;2;56;56;56;48;2;84;84;84m▀\u001b[38;2;63;63;63;48;2;58;58;58m▀\u001b[38;2;57;57;57;48;2;59;59;59m▀\u001b[38;2;40;40;40;48;2;65;65;65m▀\u001b[38;2;71;71;71;48;2;59;59;59m▀\u001b[38;2;92;92;92;48;2;44;44;44m▀\u001b[38;2;63;63;63;48;2;61;61;61m▀\u001b[38;2;62;62;62;48;2;75;75;75m▀\u001b[38;2;62;62;62;48;2;76;76;76m▀\u001b[38;2;63;63;63;48;2;66;66;66m▀\u001b[38;2;59;59;59;48;2;51;51;51m▀\u001b[38;2;48;48;48;48;2;62;62;62m▀\u001b[38;2;57;57;57;48;2;40;40;40m▀\u001b[38;2;50;50;50;48;2;53;53;53m▀\u001b[38;2;52;52;52;48;2;65;65;65m▀\u001b[38;2;29;29;29;48;2;20;20;20m▀\u001b[0m\n",
       "\u001b[0m\u001b[38;2;48;48;48;48;2;40;40;40m▀\u001b[38;2;65;65;65;48;2;53;53;53m▀\u001b[38;2;68;68;68;48;2;40;40;40m▀\u001b[38;2;76;76;76;48;2;62;62;62m▀\u001b[38;2;44;44;44;48;2;46;46;46m▀\u001b[38;2;29;29;29;48;2;58;58;58m▀\u001b[38;2;38;38;38;48;2;48;48;48m▀\u001b[38;2;66;66;66;48;2;61;61;61m▀\u001b[38;2;80;80;80;48;2;65;65;65m▀\u001b[38;2;57;57;57;48;2;44;44;44m▀\u001b[38;2;55;55;55;48;2;80;80;80m▀\u001b[38;2;51;51;51;48;2;52;52;52m▀\u001b[38;2;33;33;33;48;2;66;66;66m▀\u001b[38;2;54;54;54;48;2;58;58;58m▀\u001b[38;2;69;69;69;48;2;49;49;49m▀\u001b[38;2;55;55;55;48;2;55;55;55m▀\u001b[38;2;42;42;42;48;2;63;63;63m▀\u001b[38;2;49;49;49;48;2;80;80;80m▀\u001b[38;2;63;63;63;48;2;57;57;57m▀\u001b[38;2;59;59;59;48;2;38;38;38m▀\u001b[38;2;57;57;57;48;2;40;40;40m▀\u001b[38;2;61;61;61;48;2;39;39;39m▀\u001b[38;2;33;33;33;48;2;38;38;38m▀\u001b[38;2;63;63;63;48;2;30;30;30m▀\u001b[38;2;69;69;69;48;2;58;58;58m▀\u001b[38;2;46;46;46;48;2;45;45;45m▀\u001b[38;2;64;64;64;48;2;48;48;48m▀\u001b[38;2;65;65;65;48;2;55;55;55m▀\u001b[38;2;53;53;53;48;2;48;48;48m▀\u001b[38;2;51;51;51;48;2;35;35;35m▀\u001b[38;2;63;63;63;48;2;60;60;60m▀\u001b[38;2;77;77;77;48;2;87;87;87m▀\u001b[38;2;75;75;75;48;2;84;84;84m▀\u001b[38;2;76;76;76;48;2;66;66;66m▀\u001b[38;2;62;62;62;48;2;59;59;59m▀\u001b[38;2;66;66;66;48;2;86;86;86m▀\u001b[38;2;60;60;60;48;2;76;76;76m▀\u001b[38;2;52;52;52;48;2;73;73;73m▀\u001b[38;2;41;41;41;48;2;66;66;66m▀\u001b[38;2;34;34;34;48;2;68;68;68m▀\u001b[38;2;35;35;35;48;2;47;47;47m▀\u001b[38;2;42;42;42;48;2;52;52;52m▀\u001b[38;2;61;61;61;48;2;40;40;40m▀\u001b[38;2;55;55;55;48;2;54;54;54m▀\u001b[38;2;65;65;65;48;2;63;63;63m▀\u001b[38;2;42;42;42;48;2;60;60;60m▀\u001b[38;2;37;37;37;48;2;72;72;72m▀\u001b[38;2;42;42;42;48;2;53;53;53m▀\u001b[38;2;41;41;41;48;2;28;28;28m▀\u001b[0m\n",
       "\u001b[0m\u001b[38;2;45;45;45;48;2;23;23;23m▀\u001b[38;2;62;62;62;48;2;58;58;58m▀\u001b[38;2;39;39;39;48;2;59;59;59m▀\u001b[38;2;38;38;38;48;2;67;67;67m▀\u001b[38;2;32;32;32;48;2;86;86;86m▀\u001b[38;2;63;63;63;48;2;72;72;72m▀\u001b[38;2;73;73;73;48;2;57;57;57m▀\u001b[38;2;49;49;49;48;2;60;60;60m▀\u001b[38;2;28;28;28;48;2;74;74;74m▀\u001b[38;2;41;41;41;48;2;68;68;68m▀\u001b[38;2;42;42;42;48;2;55;55;55m▀\u001b[38;2;39;39;39;48;2;43;43;43m▀\u001b[38;2;54;54;54;48;2;67;67;67m▀\u001b[38;2;70;70;70;48;2;79;79;79m▀\u001b[38;2;67;67;67;48;2;82;82;82m▀\u001b[38;2;59;59;59;48;2;80;80;80m▀\u001b[38;2;73;73;73;48;2;56;56;56m▀\u001b[38;2;53;53;53;48;2;51;51;51m▀\u001b[38;2;38;38;38;48;2;31;31;31m▀\u001b[38;2;50;50;50;48;2;46;46;46m▀\u001b[38;2;53;53;53;48;2;58;58;58m▀\u001b[38;2;57;57;57;48;2;96;96;96m▀\u001b[38;2;64;64;64;48;2;81;81;81m▀\u001b[38;2;49;49;49;48;2;37;37;37m▀\u001b[38;2;34;34;34;48;2;27;27;27m▀\u001b[38;2;40;40;40;48;2;44;44;44m▀\u001b[38;2;40;40;40;48;2;45;45;45m▀\u001b[38;2;66;66;66;48;2;60;60;60m▀\u001b[38;2;56;56;56;48;2;72;72;72m▀\u001b[38;2;36;36;36;48;2;63;63;63m▀\u001b[38;2;42;42;42;48;2;69;69;69m▀\u001b[38;2;79;79;79;48;2;65;65;65m▀\u001b[38;2;65;65;65;48;2;65;65;65m▀\u001b[38;2;69;69;69;48;2;84;84;84m▀\u001b[38;2;31;31;31;48;2;66;66;66m▀\u001b[38;2;49;49;49;48;2;44;44;44m▀\u001b[38;2;64;64;64;48;2;66;66;66m▀\u001b[38;2;69;69;69;48;2;66;66;66m▀\u001b[38;2;59;59;59;48;2;51;51;51m▀\u001b[38;2;70;70;70;48;2;76;76;76m▀\u001b[38;2;68;68;68;48;2;77;77;77m▀\u001b[38;2;84;84;84;48;2;56;56;56m▀\u001b[38;2;57;57;57;48;2;63;63;63m▀\u001b[38;2;76;76;76;48;2;65;65;65m▀\u001b[38;2;69;69;69;48;2;68;68;68m▀\u001b[38;2;71;71;71;48;2;69;69;69m▀\u001b[38;2;77;77;77;48;2;70;70;70m▀\u001b[38;2;74;74;74;48;2;68;68;68m▀\u001b[38;2;22;22;22;48;2;24;24;24m▀\u001b[0m\n",
       "\u001b[0m\u001b[38;2;36;36;36;48;2;29;29;29m▀\u001b[38;2;66;66;66;48;2;52;52;52m▀\u001b[38;2;61;61;61;48;2;45;45;45m▀\u001b[38;2;64;64;64;48;2;46;46;46m▀\u001b[38;2;69;69;69;48;2;68;68;68m▀\u001b[38;2;70;70;70;48;2;68;68;68m▀\u001b[38;2;47;47;47;48;2;67;67;67m▀\u001b[38;2;53;53;53;48;2;53;53;53m▀\u001b[38;2;67;67;67;48;2;44;44;44m▀\u001b[38;2;69;69;69;48;2;71;71;71m▀\u001b[38;2;63;63;63;48;2;95;95;95m▀\u001b[38;2;62;62;62;48;2;77;77;77m▀\u001b[38;2;67;67;67;48;2;76;76;76m▀\u001b[38;2;75;75;75;48;2;62;62;62m▀\u001b[38;2;74;74;74;48;2;77;77;77m▀\u001b[38;2;42;42;42;48;2;53;53;53m▀\u001b[38;2;33;33;33;48;2;51;51;51m▀\u001b[38;2;56;56;56;48;2;66;66;66m▀\u001b[38;2;59;59;59;48;2;75;75;75m▀\u001b[38;2;66;66;66;48;2;55;55;55m▀\u001b[38;2;76;76;76;48;2;42;42;42m▀\u001b[38;2;66;66;66;48;2;61;61;61m▀\u001b[38;2;79;79;79;48;2;66;66;66m▀\u001b[38;2;41;41;41;48;2;41;41;41m▀\u001b[38;2;42;42;42;48;2;66;66;66m▀\u001b[38;2;59;59;59;48;2;70;70;70m▀\u001b[38;2;67;67;67;48;2;66;66;66m▀\u001b[38;2;62;62;62;48;2;51;51;51m▀\u001b[38;2;48;48;48;48;2;56;56;56m▀\u001b[38;2;54;54;54;48;2;63;63;63m▀\u001b[38;2;67;67;67;48;2;63;63;63m▀\u001b[38;2;71;71;71;48;2;70;70;70m▀\u001b[38;2;94;94;94;48;2;75;75;75m▀\u001b[38;2;57;57;57;48;2;82;82;82m▀\u001b[38;2;55;55;55;48;2;61;61;61m▀\u001b[38;2;46;46;46;48;2;45;45;45m▀\u001b[38;2;42;42;42;48;2;41;41;41m▀\u001b[38;2;46;46;46;48;2;46;46;46m▀\u001b[38;2;55;55;55;48;2;43;43;43m▀\u001b[38;2;60;60;60;48;2;39;39;39m▀\u001b[38;2;53;53;53;48;2;46;46;46m▀\u001b[38;2;47;47;47;48;2;76;76;76m▀\u001b[38;2;56;56;56;48;2;83;83;83m▀\u001b[38;2;62;62;62;48;2;70;70;70m▀\u001b[38;2;41;41;41;48;2;68;68;68m▀\u001b[38;2;49;49;49;48;2;57;57;57m▀\u001b[38;2;61;61;61;48;2;59;59;59m▀\u001b[38;2;57;57;57;48;2;59;59;59m▀\u001b[38;2;25;25;25;48;2;36;36;36m▀\u001b[0m\n",
       "\u001b[0m\u001b[38;2;22;22;22;48;2;23;23;23m▀\u001b[38;2;61;61;61;48;2;68;68;68m▀\u001b[38;2;48;48;48;48;2;80;80;80m▀\u001b[38;2;32;32;32;48;2;43;43;43m▀\u001b[38;2;37;37;37;48;2;52;52;52m▀\u001b[38;2;62;62;62;48;2;68;68;68m▀\u001b[38;2;78;78;78;48;2;91;91;91m▀\u001b[38;2;55;55;55;48;2;57;57;57m▀\u001b[38;2;57;57;57;48;2;52;52;52m▀\u001b[38;2;48;48;48;48;2;48;48;48m▀\u001b[38;2;56;56;56;48;2;70;70;70m▀\u001b[38;2;52;52;52;48;2;76;76;76m▀\u001b[38;2;50;50;50;48;2;72;72;72m▀\u001b[38;2;62;62;62;48;2;76;76;76m▀\u001b[38;2;55;55;55;48;2;68;68;68m▀\u001b[38;2;77;77;77;48;2;63;63;63m▀\u001b[38;2;76;76;76;48;2;68;68;68m▀\u001b[38;2;67;67;67;48;2;48;48;48m▀\u001b[38;2;68;68;68;48;2;55;55;55m▀\u001b[38;2;68;68;68;48;2;69;69;69m▀\u001b[38;2;55;55;55;48;2;97;97;97m▀\u001b[38;2;56;56;56;48;2;92;92;92m▀\u001b[38;2;71;71;71;48;2;82;82;82m▀\u001b[38;2;74;74;74;48;2;66;66;66m▀\u001b[38;2;60;60;60;48;2;77;77;77m▀\u001b[38;2;59;59;59;48;2;57;57;57m▀\u001b[38;2;64;64;64;48;2;55;55;55m▀\u001b[38;2;58;58;58;48;2;56;56;56m▀\u001b[38;2;57;57;57;48;2;79;79;79m▀\u001b[38;2;57;57;57;48;2;48;48;48m▀\u001b[38;2;63;63;63;48;2;57;57;57m▀\u001b[38;2;61;61;61;48;2;50;50;50m▀\u001b[38;2;67;67;67;48;2;55;55;55m▀\u001b[38;2;73;73;73;48;2;59;59;59m▀\u001b[38;2;70;70;70;48;2;53;53;53m▀\u001b[38;2;89;89;89;48;2;71;71;71m▀\u001b[38;2;75;75;75;48;2;79;79;79m▀\u001b[38;2;59;59;59;48;2;71;71;71m▀\u001b[38;2;49;49;49;48;2;63;63;63m▀\u001b[38;2;48;48;48;48;2;65;65;65m▀\u001b[38;2;32;32;32;48;2;56;56;56m▀\u001b[38;2;47;47;47;48;2;42;42;42m▀\u001b[38;2;72;72;72;48;2;55;55;55m▀\u001b[38;2;52;52;52;48;2;40;40;40m▀\u001b[38;2;61;61;61;48;2;39;39;39m▀\u001b[38;2;64;64;64;48;2;47;47;47m▀\u001b[38;2;70;70;70;48;2;61;61;61m▀\u001b[38;2;78;78;78;48;2;60;60;60m▀\u001b[38;2;32;32;32;48;2;51;51;51m▀\u001b[0m\n",
       "\u001b[0m\u001b[38;2;46;46;46;48;2;26;26;26m▀\u001b[38;2;53;53;53;48;2;66;66;66m▀\u001b[38;2;74;74;74;48;2;57;57;57m▀\u001b[38;2;73;73;73;48;2;60;60;60m▀\u001b[38;2;58;58;58;48;2;39;39;39m▀\u001b[38;2;35;35;35;48;2;37;37;37m▀\u001b[38;2;53;53;53;48;2;50;50;50m▀\u001b[38;2;75;75;75;48;2;72;72;72m▀\u001b[38;2;73;73;73;48;2;57;57;57m▀\u001b[38;2;51;51;51;48;2;34;34;34m▀\u001b[38;2;55;55;55;48;2;41;41;41m▀\u001b[38;2;55;55;55;48;2;40;40;40m▀\u001b[38;2;69;69;69;48;2;26;26;26m▀\u001b[38;2;68;68;68;48;2;45;45;45m▀\u001b[38;2;52;52;52;48;2;56;56;56m▀\u001b[38;2;49;49;49;48;2;64;64;64m▀\u001b[38;2;53;53;53;48;2;91;91;91m▀\u001b[38;2;77;77;77;48;2;56;56;56m▀\u001b[38;2;77;77;77;48;2;40;40;40m▀\u001b[38;2;69;69;69;48;2;20;20;20m▀\u001b[38;2;62;62;62;48;2;42;42;42m▀\u001b[38;2;66;66;66;48;2;50;50;50m▀\u001b[38;2;54;54;54;48;2;73;73;73m▀\u001b[38;2;66;66;66;48;2;71;71;71m▀\u001b[38;2;78;78;78;48;2;77;77;77m▀\u001b[38;2;59;59;59;48;2;82;82;82m▀\u001b[38;2;66;66;66;48;2;67;67;67m▀\u001b[38;2;61;61;61;48;2;52;52;52m▀\u001b[38;2;59;59;59;48;2;67;67;67m▀\u001b[38;2;68;68;68;48;2;46;46;46m▀\u001b[38;2;57;57;57;48;2;77;77;77m▀\u001b[38;2;41;41;41;48;2;77;77;77m▀\u001b[38;2;44;44;44;48;2;49;49;49m▀\u001b[38;2;66;66;66;48;2;62;62;62m▀\u001b[38;2;53;53;53;48;2;57;57;57m▀\u001b[38;2;42;42;42;48;2;40;40;40m▀\u001b[38;2;58;58;58;48;2;54;54;54m▀\u001b[38;2;60;60;60;48;2;38;38;38m▀\u001b[38;2;64;64;64;48;2;62;62;62m▀\u001b[38;2;73;73;73;48;2;81;81;81m▀\u001b[38;2;104;104;104;48;2;77;77;77m▀\u001b[38;2;100;100;100;48;2;89;89;89m▀\u001b[38;2;66;66;66;48;2;71;71;71m▀\u001b[38;2;63;63;63;48;2;56;56;56m▀\u001b[38;2;68;68;68;48;2;63;63;63m▀\u001b[38;2;54;54;54;48;2;61;61;61m▀\u001b[38;2;53;53;53;48;2;39;39;39m▀\u001b[38;2;69;69;69;48;2;47;47;47m▀\u001b[38;2;26;26;26;48;2;20;20;20m▀\u001b[0m\n",
       "\u001b[0m\u001b[38;2;31;31;31;48;2;34;34;34m▀\u001b[38;2;64;64;64;48;2;48;48;48m▀\u001b[38;2;66;66;66;48;2;66;66;66m▀\u001b[38;2;64;64;64;48;2;77;77;77m▀\u001b[38;2;75;75;75;48;2;80;80;80m▀\u001b[38;2;93;93;93;48;2;55;55;55m▀\u001b[38;2;70;70;70;48;2;64;64;64m▀\u001b[38;2;39;39;39;48;2;44;44;44m▀\u001b[38;2;53;53;53;48;2;55;55;55m▀\u001b[38;2;67;67;67;48;2;90;90;90m▀\u001b[38;2;57;57;57;48;2;88;88;88m▀\u001b[38;2;61;61;61;48;2;76;76;76m▀\u001b[38;2;61;61;61;48;2;52;52;52m▀\u001b[38;2;58;58;58;48;2;53;53;53m▀\u001b[38;2;54;54;54;48;2;47;47;47m▀\u001b[38;2;44;44;44;48;2;48;48;48m▀\u001b[38;2;48;48;48;48;2;54;54;54m▀\u001b[38;2;48;48;48;48;2;52;52;52m▀\u001b[38;2;47;47;47;48;2;69;69;69m▀\u001b[38;2;42;42;42;48;2;60;60;60m▀\u001b[38;2;60;60;60;48;2;71;71;71m▀\u001b[38;2;76;76;76;48;2;67;67;67m▀\u001b[38;2;88;88;88;48;2;68;68;68m▀\u001b[38;2;68;68;68;48;2;40;40;40m▀\u001b[38;2;45;45;45;48;2;42;42;42m▀\u001b[38;2;50;50;50;48;2;61;61;61m▀\u001b[38;2;67;67;67;48;2;69;69;69m▀\u001b[38;2;49;49;49;48;2;71;71;71m▀\u001b[38;2;32;32;32;48;2;49;49;49m▀\u001b[38;2;44;44;44;48;2;60;60;60m▀\u001b[38;2;56;56;56;48;2;59;59;59m▀\u001b[38;2;78;78;78;48;2;64;64;64m▀\u001b[38;2;70;70;70;48;2;69;69;69m▀\u001b[38;2;63;63;63;48;2;54;54;54m▀\u001b[38;2;61;61;61;48;2;73;73;73m▀\u001b[38;2;43;43;43;48;2;66;66;66m▀\u001b[38;2;45;45;45;48;2;87;87;87m▀\u001b[38;2;50;50;50;48;2;68;68;68m▀\u001b[38;2;59;59;59;48;2;57;57;57m▀\u001b[38;2;57;57;57;48;2;44;44;44m▀\u001b[38;2;59;59;59;48;2;54;54;54m▀\u001b[38;2;86;86;86;48;2;50;50;50m▀\u001b[38;2;73;73;73;48;2;54;54;54m▀\u001b[38;2;58;58;58;48;2;46;46;46m▀\u001b[38;2;40;40;40;48;2;40;40;40m▀\u001b[38;2;62;62;62;48;2;72;72;72m▀\u001b[38;2;38;38;38;48;2;71;71;71m▀\u001b[38;2;58;58;58;48;2;61;61;61m▀\u001b[38;2;27;27;27;48;2;45;45;45m▀\u001b[0m\n",
       "\u001b[0m\u001b[38;2;28;28;28;48;2;35;35;35m▀\u001b[38;2;63;63;63;48;2;69;69;69m▀\u001b[38;2;58;58;58;48;2;65;65;65m▀\u001b[38;2;54;54;54;48;2;75;75;75m▀\u001b[38;2;50;50;50;48;2;77;77;77m▀\u001b[38;2;62;62;62;48;2;69;69;69m▀\u001b[38;2;75;75;75;48;2;41;41;41m▀\u001b[38;2;77;77;77;48;2;41;41;41m▀\u001b[38;2;35;35;35;48;2;35;35;35m▀\u001b[38;2;51;51;51;48;2;55;55;55m▀\u001b[38;2;53;53;53;48;2;49;49;49m▀\u001b[38;2;56;56;56;48;2;59;59;59m▀\u001b[38;2;75;75;75;48;2;68;68;68m▀\u001b[38;2;70;70;70;48;2;49;49;49m▀\u001b[38;2;67;67;67;48;2;53;53;53m▀\u001b[38;2;62;62;62;48;2;65;65;65m▀\u001b[38;2;67;67;67;48;2;77;77;77m▀\u001b[38;2;54;54;54;48;2;84;84;84m▀\u001b[38;2;41;41;41;48;2;72;72;72m▀\u001b[38;2;43;43;43;48;2;63;63;63m▀\u001b[38;2;39;39;39;48;2;37;37;37m▀\u001b[38;2;73;73;73;48;2;50;50;50m▀\u001b[38;2;60;60;60;48;2;72;72;72m▀\u001b[38;2;63;63;63;48;2;73;73;73m▀\u001b[38;2;65;65;65;48;2;76;76;76m▀\u001b[38;2;79;79;79;48;2;67;67;67m▀\u001b[38;2;70;70;70;48;2;74;74;74m▀\u001b[38;2;75;75;75;48;2;74;74;74m▀\u001b[38;2;68;68;68;48;2;78;78;78m▀\u001b[38;2;56;56;56;48;2;67;67;67m▀\u001b[38;2;40;40;40;48;2;48;48;48m▀\u001b[38;2;48;48;48;48;2;67;67;67m▀\u001b[38;2;55;55;55;48;2;55;55;55m▀\u001b[38;2;53;53;53;48;2;34;34;34m▀\u001b[38;2;55;55;55;48;2;35;35;35m▀\u001b[38;2;72;72;72;48;2;61;61;61m▀\u001b[38;2;81;81;81;48;2;49;49;49m▀\u001b[38;2;89;89;89;48;2;52;52;52m▀\u001b[38;2;78;78;78;48;2;64;64;64m▀\u001b[38;2;60;60;60;48;2;74;74;74m▀\u001b[38;2;53;53;53;48;2;67;67;67m▀\u001b[38;2;74;74;74;48;2;97;97;97m▀\u001b[38;2;76;76;76;48;2;85;85;85m▀\u001b[38;2;59;59;59;48;2;48;48;48m▀\u001b[38;2;58;58;58;48;2;13;13;13m▀\u001b[38;2;53;53;53;48;2;53;53;53m▀\u001b[38;2;58;58;58;48;2;89;89;89m▀\u001b[38;2;60;60;60;48;2;62;62;62m▀\u001b[38;2;39;39;39;48;2;39;39;39m▀\u001b[0m\n",
       "\u001b[0m\u001b[38;2;14;14;14;48;2;6;6;6m▀\u001b[38;2;61;61;61;48;2;45;45;45m▀\u001b[38;2;54;54;54;48;2;55;55;55m▀\u001b[38;2;52;52;52;48;2;60;60;60m▀\u001b[38;2;55;55;55;48;2;67;67;67m▀\u001b[38;2;58;58;58;48;2;77;77;77m▀\u001b[38;2;60;60;60;48;2;65;65;65m▀\u001b[38;2;74;74;74;48;2;75;75;75m▀\u001b[38;2;68;68;68;48;2;67;67;67m▀\u001b[38;2;59;59;59;48;2;90;90;90m▀\u001b[38;2;71;71;71;48;2;78;78;78m▀\u001b[38;2;51;51;51;48;2;63;63;63m▀\u001b[38;2;74;74;74;48;2;58;58;58m▀\u001b[38;2;79;79;79;48;2;76;76;76m▀\u001b[38;2;90;90;90;48;2;71;71;71m▀\u001b[38;2;65;65;65;48;2;87;87;87m▀\u001b[38;2;86;86;86;48;2;71;71;71m▀\u001b[38;2;94;94;94;48;2;73;73;73m▀\u001b[38;2;78;78;78;48;2;65;65;65m▀\u001b[38;2;58;58;58;48;2;67;67;67m▀\u001b[38;2;37;37;37;48;2;54;54;54m▀\u001b[38;2;58;58;58;48;2;52;52;52m▀\u001b[38;2;56;56;56;48;2;40;40;40m▀\u001b[38;2;55;55;55;48;2;24;24;24m▀\u001b[38;2;64;64;64;48;2;53;53;53m▀\u001b[38;2;55;55;55;48;2;65;65;65m▀\u001b[38;2;58;58;58;48;2;62;62;62m▀\u001b[38;2;64;64;64;48;2;74;74;74m▀\u001b[38;2;65;65;65;48;2;55;55;55m▀\u001b[38;2;77;77;77;48;2;60;60;60m▀\u001b[38;2;68;68;68;48;2;58;58;58m▀\u001b[38;2;68;68;68;48;2;49;49;49m▀\u001b[38;2;67;67;67;48;2;55;55;55m▀\u001b[38;2;41;41;41;48;2;60;60;60m▀\u001b[38;2;38;38;38;48;2;60;60;60m▀\u001b[38;2;49;49;49;48;2;92;92;92m▀\u001b[38;2;50;50;50;48;2;87;87;87m▀\u001b[38;2;56;56;56;48;2;62;62;62m▀\u001b[38;2;42;42;42;48;2;59;59;59m▀\u001b[38;2;55;55;55;48;2;73;73;73m▀\u001b[38;2;65;65;65;48;2;74;74;74m▀\u001b[38;2;80;80;80;48;2;50;50;50m▀\u001b[38;2;79;79;79;48;2;53;53;53m▀\u001b[38;2;80;80;80;48;2;86;86;86m▀\u001b[38;2;58;58;58;48;2;90;90;90m▀\u001b[38;2;60;60;60;48;2;84;84;84m▀\u001b[38;2;94;94;94;48;2;106;106;106m▀\u001b[38;2;55;55;55;48;2;59;59;59m▀\u001b[38;2;27;27;27;48;2;25;25;25m▀\u001b[0m\n",
       "\u001b[0m\u001b[38;2;35;35;35;48;2;43;43;43m▀\u001b[38;2;65;65;65;48;2;55;55;55m▀\u001b[38;2;79;79;79;48;2;37;37;37m▀\u001b[38;2;71;71;71;48;2;70;70;70m▀\u001b[38;2;55;55;55;48;2;85;85;85m▀\u001b[38;2;61;61;61;48;2;70;70;70m▀\u001b[38;2;62;62;62;48;2;64;64;64m▀\u001b[38;2;67;67;67;48;2;78;78;78m▀\u001b[38;2;68;68;68;48;2;69;69;69m▀\u001b[38;2;75;75;75;48;2;56;56;56m▀\u001b[38;2;74;74;74;48;2;52;52;52m▀\u001b[38;2;65;65;65;48;2;57;57;57m▀\u001b[38;2;54;54;54;48;2;54;54;54m▀\u001b[38;2;46;46;46;48;2;40;40;40m▀\u001b[38;2;50;50;50;48;2;22;22;22m▀\u001b[38;2;58;58;58;48;2;23;23;23m▀\u001b[38;2;55;55;55;48;2;29;29;29m▀\u001b[38;2;56;56;56;48;2;59;59;59m▀\u001b[38;2;60;60;60;48;2;59;59;59m▀\u001b[38;2;62;62;62;48;2;60;60;60m▀\u001b[38;2;62;62;62;48;2;70;70;70m▀\u001b[38;2;57;57;57;48;2;71;71;71m▀\u001b[38;2;53;53;53;48;2;69;69;69m▀\u001b[38;2;47;47;47;48;2;72;72;72m▀\u001b[38;2;50;50;50;48;2;61;61;61m▀\u001b[38;2;48;48;48;48;2;40;40;40m▀\u001b[38;2;55;55;55;48;2;47;47;47m▀\u001b[38;2;36;36;36;48;2;46;46;46m▀\u001b[38;2;54;54;54;48;2;54;54;54m▀\u001b[38;2;45;45;45;48;2;53;53;53m▀\u001b[38;2;50;50;50;48;2;65;65;65m▀\u001b[38;2;48;48;48;48;2;80;80;80m▀\u001b[38;2;50;50;50;48;2;77;77;77m▀\u001b[38;2;72;72;72;48;2;83;83;83m▀\u001b[38;2;71;71;71;48;2;76;76;76m▀\u001b[38;2;79;79;79;48;2;59;59;59m▀\u001b[38;2;84;84;84;48;2;41;41;41m▀\u001b[38;2;63;63;63;48;2;52;52;52m▀\u001b[38;2;77;77;77;48;2;60;60;60m▀\u001b[38;2;72;72;72;48;2;58;58;58m▀\u001b[38;2;69;69;69;48;2;48;48;48m▀\u001b[38;2;58;58;58;48;2;49;49;49m▀\u001b[38;2;45;45;45;48;2;63;63;63m▀\u001b[38;2;77;77;77;48;2;49;49;49m▀\u001b[38;2;95;95;95;48;2;67;67;67m▀\u001b[38;2;71;71;71;48;2;37;37;37m▀\u001b[38;2;55;55;55;48;2;35;35;35m▀\u001b[38;2;64;64;64;48;2;44;44;44m▀\u001b[38;2;31;31;31;48;2;40;40;40m▀\u001b[0m\n",
       "\u001b[0m\u001b[38;2;16;16;16m▀\u001b[38;2;41;41;41m▀\u001b[38;2;25;25;25m▀\u001b[38;2;43;43;43m▀\u001b[38;2;53;53;53m▀\u001b[38;2;30;30;30m▀\u001b[38;2;41;41;41m▀\u001b[38;2;32;32;32m▀\u001b[38;2;36;36;36m▀\u001b[38;2;29;29;29m▀\u001b[38;2;32;32;32m▀\u001b[38;2;28;28;28m▀\u001b[38;2;23;23;23m▀\u001b[38;2;36;36;36m▀\u001b[38;2;30;30;30m▀\u001b[38;2;28;28;28m▀\u001b[38;2;33;33;33m▀\u001b[38;2;58;58;58m▀\u001b[38;2;45;45;45m▀\u001b[38;2;42;42;42m▀\u001b[38;2;25;25;25m▀\u001b[38;2;31;31;31m▀\u001b[38;2;43;43;43m▀\u001b[38;2;24;24;24m▀\u001b[38;2;34;34;34m▀\u001b[38;2;42;42;42m▀\u001b[38;2;45;45;45m▀\u001b[38;2;39;39;39m▀\u001b[38;2;28;28;28m▀\u001b[38;2;41;41;41m▀\u001b[38;2;44;44;44m▀\u001b[38;2;30;30;30m▀\u001b[38;2;38;38;38m▀\u001b[38;2;46;46;46m▀\u001b[38;2;30;30;30m▀\u001b[38;2;11;11;11m▀\u001b[38;2;24;24;24m▀\u001b[38;2;20;20;20m▀\u001b[38;2;36;36;36m▀\u001b[38;2;19;19;19m▀\u001b[38;2;11;11;11m▀\u001b[38;2;34;34;34m▀\u001b[38;2;29;29;29m▀\u001b[38;2;30;30;30m▀\u001b[38;2;31;31;31m▀\u001b[38;2;19;19;19m▀\u001b[38;2;15;15;15m▀\u001b[38;2;17;17;17m▀\u001b[38;2;21;21;21m▀\u001b[0m"
      ]
     },
     "execution_count": 33,
     "metadata": {},
     "output_type": "execute_result"
    }
   ],
   "source": [
    "convert2image(MNIST,cnn_output[:,:,1,1])"
   ]
  },
  {
   "cell_type": "code",
   "execution_count": null,
   "metadata": {},
   "outputs": [],
   "source": []
  },
  {
   "cell_type": "code",
   "execution_count": null,
   "metadata": {},
   "outputs": [],
   "source": []
  },
  {
   "cell_type": "code",
   "execution_count": null,
   "metadata": {},
   "outputs": [],
   "source": []
  },
  {
   "cell_type": "markdown",
   "metadata": {},
   "source": [
    "### <span style=\"color:orange\"> The data is in form WHN instead of WHCN so we must 'unsqueeze' the data to produce another dimension in the format</span>"
   ]
  },
  {
   "cell_type": "code",
   "execution_count": 37,
   "metadata": {},
   "outputs": [
    {
     "data": {
      "text/plain": [
       "(28, 28, 1, 60000)"
      ]
     },
     "execution_count": 37,
     "metadata": {},
     "output_type": "execute_result"
    }
   ],
   "source": [
    "size(Flux.unsqueeze(train_x_raw,dims=3))"
   ]
  },
  {
   "cell_type": "code",
   "execution_count": 40,
   "metadata": {},
   "outputs": [
    {
     "data": {
      "text/plain": [
       "(28, 28, 1, 60000)"
      ]
     },
     "execution_count": 40,
     "metadata": {},
     "output_type": "execute_result"
    }
   ],
   "source": [
    "images = Flux.unsqueeze(train_x_raw,dims=3);\n",
    "images |> size"
   ]
  },
  {
   "cell_type": "code",
   "execution_count": 42,
   "metadata": {},
   "outputs": [
    {
     "data": {
      "text/plain": [
       "(24, 24, 1, 60000)"
      ]
     },
     "execution_count": 42,
     "metadata": {},
     "output_type": "execute_result"
    }
   ],
   "source": [
    "cnn_output = cnn_layer(images) |> size"
   ]
  },
  {
   "cell_type": "code",
   "execution_count": 47,
   "metadata": {},
   "outputs": [
    {
     "data": {
      "text/plain": [
       "(28, 28, 1, 3)"
      ]
     },
     "execution_count": 47,
     "metadata": {},
     "output_type": "execute_result"
    }
   ],
   "source": [
    "images[:,:,:,1:3] |>size"
   ]
  },
  {
   "cell_type": "code",
   "execution_count": 53,
   "metadata": {},
   "outputs": [
    {
     "data": {
      "text/plain": [
       "(24, 24, 1, 3)"
      ]
     },
     "execution_count": 53,
     "metadata": {},
     "output_type": "execute_result"
    }
   ],
   "source": [
    "cnn_output = cnn_layer(images[:,:,:,1:3]) \n",
    "cnn_output |> size"
   ]
  },
  {
   "cell_type": "code",
   "execution_count": 55,
   "metadata": {},
   "outputs": [
    {
     "data": {
      "text/plain": [
       "(24, 24)"
      ]
     },
     "execution_count": 55,
     "metadata": {},
     "output_type": "execute_result"
    }
   ],
   "source": [
    "cnn_output[:,:,1,1] |>size"
   ]
  },
  {
   "cell_type": "code",
   "execution_count": 56,
   "metadata": {},
   "outputs": [
    {
     "data": {
      "image/png": "[encoded data removed]",
      "text/html": [
       "<img src=\"data:image/png;base64,iVBORw0KGgoAAAANSUhEUgAAAHgAAAB4CAAAAAAcD2kOAAAABGdBTUEAALGPC/xhBQAAAAFzUkdCAK7OHOkAAAAgY0hSTQAAeiYAAICEAAD6AAAAgOgAAHUwAADqYAAAOpgAABdwnLpRPAAAA0RJREFUaAXFwc9rFgQcx/G322c6Tbe0bekh02YFiYRBRJ3sJATVKQiCokOHTv0v/R9R1CUJOskqcIIHo7mJrjKc2jbdcs+z5+l5el+e4GHu5+X7eoUioUgoEoqEImE3BlCHniNohT0JRUKRUCQUCU8whFpoCLXo6dBnhT05jEKRUCQUCUVCv2F0CC2iFnsyhr5A19Ap9CdqojkUioQioUgoEvo1UIOtPI1eQKNoGD2HXkSX0ASaQG+gKfQ1fUKRUCQUCUVCv9Azgc6jIXQaLaJ7aAItoqfQJBpC42gMfYmOoS6aRPOojUKRUCQUCUVCv3/RCBpDb6I76CZ6C11AR9Eceh0to3voLppEI2gYBTXRMlpGoUgoEoqEIqHfABpEa+ghOo+CzqAp9Dtqo3nUQH+jn9FNNIjaaB2toVXUQaFIKBKKhCKhXwc10Sz6Fr2KRtEDtIbaaBpdQyfQ22gGXWdboUgoEoqEIqFfF7VQ0Cw6gRbRSXQBfYMa6D66habQs+gAarKVUCQUCUVCkfAE62gf6qJf0DNoCV1EHXSfjRbYmVAkFAlFQpGwmS59FuhZQe+j39AMmkTX2YVQJBQJRUKRsL0GOoQeoCl0Dn2MfkC/ouPoLjsTioQioUgoErbXRWvoIJpGX6FP0LtoBS2wC6FIKBKKhCJhhzqohUbRZfQPOoWOo5NoDh1ATXQaPUAr9AlFQpFQJBQJO7QfDaOH9FxGl9Hz6AP0IVpCl1AbDbJRKBKKhCKhSNhS0DBaRetsYh4dR++gaXQbraNlNgpFQpFQJBQJTxC0D+1Hq2zlI3QOnUSP0EH0CrqKBlCHPqFIKBKKhCLhf4NoDC3Q02IT76GL6BhaQn+gx2gGfYfabCIUCUVCkVAkB9EQeoQW2Mpr6DMU1EJN1ETX0E9oPzqLZlCDjUKRUCQUCUXSQY/YxBF0Hn2KzqBpNIiCfkRXUBeNozvoDmqziVAkFAlFQpE06XkZjaOz6HPURKtoAF1FI+gquoJW0Qj6C82iNtsKRUKRUCQUyQR6CZ1Fk/R8j46gx2gJ3ULz6DY6ilbQDbTOLoQioUgoEorkHrqP5tEEWqNPBx1G62gUjaMbqIG67FYoEoqEIqHIf5i9rg8HELlJAAAAAElFTkSuQmCC\">"
      ],
      "text/plain": [
       "\u001b[0m\u001b[38;2;0;0;0m██\u001b[38;2;0;0;0m██\u001b[38;2;0;0;0m██\u001b[38;2;0;0;0m██\u001b[38;2;0;0;0m██\u001b[38;2;0;0;0m██\u001b[38;2;0;0;0m██\u001b[38;2;0;0;0m██\u001b[38;2;0;0;0m██\u001b[38;2;0;0;0m██\u001b[38;2;0;0;0m██\u001b[38;2;0;0;0m██\u001b[38;2;0;0;0m██\u001b[38;2;0;0;0m██\u001b[38;2;0;0;0m██\u001b[38;2;0;0;0m██\u001b[38;2;0;0;0m██\u001b[38;2;0;0;0m██\u001b[38;2;0;0;0m██\u001b[38;2;0;0;0m██\u001b[38;2;0;0;0m██\u001b[38;2;0;0;0m██\u001b[38;2;0;0;0m██\u001b[38;2;0;0;0m██\u001b[0m\n",
       "\u001b[0m\u001b[38;2;0;0;0m██\u001b[38;2;0;0;0m██\u001b[38;2;0;0;0m██\u001b[38;2;0;0;0m██\u001b[38;2;0;0;0m██\u001b[38;2;0;0;0m██\u001b[38;2;0;0;0m██\u001b[38;2;0;0;0m██\u001b[38;2;0;0;0m██\u001b[38;2;2;2;2m██\u001b[38;2;0;0;0m██\u001b[38;2;0;0;0m██\u001b[38;2;13;13;13m██\u001b[38;2;0;0;0m██\u001b[38;2;0;0;0m██\u001b[38;2;0;0;0m██\u001b[38;2;0;0;0m██\u001b[38;2;0;0;0m██\u001b[38;2;0;0;0m██\u001b[38;2;0;0;0m██\u001b[38;2;0;0;0m██\u001b[38;2;0;0;0m██\u001b[38;2;0;0;0m██\u001b[38;2;0;0;0m██\u001b[0m\n",
       "\u001b[0m\u001b[38;2;0;0;0m██\u001b[38;2;0;0;0m██\u001b[38;2;0;0;0m██\u001b[38;2;0;0;0m██\u001b[38;2;5;5;5m██\u001b[38;2;0;0;0m██\u001b[38;2;5;5;5m██\u001b[38;2;0;0;0m██\u001b[38;2;0;0;0m██\u001b[38;2;0;0;0m██\u001b[38;2;0;0;0m██\u001b[38;2;0;0;0m██\u001b[38;2;0;0;0m██\u001b[38;2;0;0;0m██\u001b[38;2;0;0;0m██\u001b[38;2;0;0;0m██\u001b[38;2;0;0;0m██\u001b[38;2;0;0;0m██\u001b[38;2;0;0;0m██\u001b[38;2;0;0;0m██\u001b[38;2;0;0;0m██\u001b[38;2;0;0;0m██\u001b[38;2;0;0;0m██\u001b[38;2;12;12;12m██\u001b[0m\n",
       "\u001b[0m\u001b[38;2;0;0;0m██\u001b[38;2;0;0;0m██\u001b[38;2;0;0;0m██\u001b[38;2;8;8;8m██\u001b[38;2;18;18;18m██\u001b[38;2;0;0;0m██\u001b[38;2;0;0;0m██\u001b[38;2;0;0;0m██\u001b[38;2;0;0;0m██\u001b[38;2;0;0;0m██\u001b[38;2;0;0;0m██\u001b[38;2;0;0;0m██\u001b[38;2;0;0;0m██\u001b[38;2;0;0;0m██\u001b[38;2;0;0;0m██\u001b[38;2;0;0;0m██\u001b[38;2;0;0;0m██\u001b[38;2;20;20;20m██\u001b[38;2;131;131;131m██\u001b[38;2;84;84;84m██\u001b[38;2;116;116;116m██\u001b[38;2;88;88;88m██\u001b[38;2;81;81;81m██\u001b[38;2;45;45;45m██\u001b[0m\n",
       "\u001b[0m\u001b[38;2;0;0;0m██\u001b[38;2;0;0;0m██\u001b[38;2;0;0;0m██\u001b[38;2;0;0;0m██\u001b[38;2;0;0;0m██\u001b[38;2;0;0;0m██\u001b[38;2;0;0;0m██\u001b[38;2;0;0;0m██\u001b[38;2;0;0;0m██\u001b[38;2;0;0;0m██\u001b[38;2;16;16;16m██\u001b[38;2;50;50;50m██\u001b[38;2;65;65;65m██\u001b[38;2;73;73;73m██\u001b[38;2;102;102;102m██\u001b[38;2;139;139;139m██\u001b[38;2;68;68;68m██\u001b[38;2;90;90;90m██\u001b[38;2;153;153;153m██\u001b[38;2;139;139;139m██\u001b[38;2;81;81;81m██\u001b[38;2;0;0;0m██\u001b[38;2;0;0;0m██\u001b[38;2;0;0;0m██\u001b[0m\n",
       "\u001b[0m\u001b[38;2;0;0;0m██\u001b[38;2;0;0;0m██\u001b[38;2;0;0;0m██\u001b[38;2;4;4;4m██\u001b[38;2;4;4;4m██\u001b[38;2;26;26;26m██\u001b[38;2;75;75;75m██\u001b[38;2;80;80;80m██\u001b[38;2;113;113;113m██\u001b[38;2;95;95;95m██\u001b[38;2;73;73;73m██\u001b[38;2;95;95;95m██\u001b[38;2;77;77;77m██\u001b[38;2;88;88;88m██\u001b[38;2;137;137;137m██\u001b[38;2;144;144;144m██\u001b[38;2;89;89;89m██\u001b[38;2;110;110;110m██\u001b[38;2;43;43;43m██\u001b[38;2;61;61;61m██\u001b[38;2;60;60;60m██\u001b[38;2;35;35;35m██\u001b[38;2;4;4;4m██\u001b[38;2;0;0;0m██\u001b[0m\n",
       "\u001b[0m\u001b[38;2;0;0;0m██\u001b[38;2;0;0;0m██\u001b[38;2;0;0;0m██\u001b[38;2;1;1;1m██\u001b[38;2;15;15;15m██\u001b[38;2;46;46;46m██\u001b[38;2;132;132;132m██\u001b[38;2;105;105;105m██\u001b[38;2;78;78;78m██\u001b[38;2;136;136;136m██\u001b[38;2;159;159;159m██\u001b[38;2;176;176;176m██\u001b[38;2;140;140;140m██\u001b[38;2;193;193;193m██\u001b[38;2;177;177;177m██\u001b[38;2;155;155;155m██\u001b[38;2;65;65;65m██\u001b[38;2;124;124;124m██\u001b[38;2;57;57;57m██\u001b[38;2;69;69;69m██\u001b[38;2;73;73;73m██\u001b[38;2;53;53;53m██\u001b[38;2;19;19;19m██\u001b[38;2;3;3;3m██\u001b[0m\n",
       "\u001b[0m\u001b[38;2;0;0;0m██\u001b[38;2;0;0;0m██\u001b[38;2;0;0;0m██\u001b[38;2;3;3;3m██\u001b[38;2;18;18;18m██\u001b[38;2;37;37;37m██\u001b[38;2;117;117;117m██\u001b[38;2;154;154;154m██\u001b[38;2;109;109;109m██\u001b[38;2;172;172;172m██\u001b[38;2;114;114;114m██\u001b[38;2;84;84;84m██\u001b[38;2;80;80;80m██\u001b[38;2;109;109;109m██\u001b[38;2;101;101;101m██\u001b[38;2;82;82;82m██\u001b[38;2;9;9;9m██\u001b[38;2;30;30;30m██\u001b[38;2;33;33;33m██\u001b[38;2;29;29;29m██\u001b[38;2;23;23;23m██\u001b[38;2;14;14;14m██\u001b[38;2;2;2;2m██\u001b[38;2;0;0;0m██\u001b[0m\n",
       "\u001b[0m\u001b[38;2;0;0;0m██\u001b[38;2;0;0;0m██\u001b[38;2;0;0;0m██\u001b[38;2;1;1;1m██\u001b[38;2;11;11;11m██\u001b[38;2;0;0;0m██\u001b[38;2;39;39;39m██\u001b[38;2;86;86;86m██\u001b[38;2;101;101;101m██\u001b[38;2;152;152;152m██\u001b[38;2;105;105;105m██\u001b[38;2;80;80;80m██\u001b[38;2;29;29;29m██\u001b[38;2;33;33;33m██\u001b[38;2;58;58;58m██\u001b[38;2;123;123;123m██\u001b[38;2;43;43;43m██\u001b[38;2;0;0;0m██\u001b[38;2;0;0;0m██\u001b[38;2;0;0;0m██\u001b[38;2;0;0;0m██\u001b[38;2;0;0;0m██\u001b[38;2;0;0;0m██\u001b[38;2;0;0;0m██\u001b[0m\n",
       "\u001b[0m\u001b[38;2;0;0;0m██\u001b[38;2;0;0;0m██\u001b[38;2;0;0;0m██\u001b[38;2;0;0;0m██\u001b[38;2;6;6;6m██\u001b[38;2;4;4;4m██\u001b[38;2;2;2;2m██\u001b[38;2;64;64;64m██\u001b[38;2;68;68;68m██\u001b[38;2;131;131;131m██\u001b[38;2;169;169;169m██\u001b[38;2;89;89;89m██\u001b[38;2;21;21;21m██\u001b[38;2;0;0;0m██\u001b[38;2;0;0;0m██\u001b[38;2;0;0;0m██\u001b[38;2;23;23;23m██\u001b[38;2;7;7;7m██\u001b[38;2;0;0;0m██\u001b[38;2;0;0;0m██\u001b[38;2;0;0;0m██\u001b[38;2;0;0;0m██\u001b[38;2;0;0;0m██\u001b[38;2;0;0;0m██\u001b[0m\n",
       "\u001b[0m\u001b[38;2;0;0;0m██\u001b[38;2;0;0;0m██\u001b[38;2;0;0;0m██\u001b[38;2;0;0;0m██\u001b[38;2;0;0;0m██\u001b[38;2;1;1;1m██\u001b[38;2;0;0;0m██\u001b[38;2;9;9;9m██\u001b[38;2;28;28;28m██\u001b[38;2;51;51;51m██\u001b[38;2;122;122;122m██\u001b[38;2;87;87;87m██\u001b[38;2;0;0;0m██\u001b[38;2;0;0;0m██\u001b[38;2;0;0;0m██\u001b[38;2;0;0;0m██\u001b[38;2;0;0;0m██\u001b[38;2;0;0;0m██\u001b[38;2;0;0;0m██\u001b[38;2;0;0;0m██\u001b[38;2;0;0;0m██\u001b[38;2;0;0;0m██\u001b[38;2;0;0;0m██\u001b[38;2;0;0;0m██\u001b[0m\n",
       "\u001b[0m\u001b[38;2;0;0;0m██\u001b[38;2;0;0;0m██\u001b[38;2;0;0;0m██\u001b[38;2;0;0;0m██\u001b[38;2;0;0;0m██\u001b[38;2;0;0;0m██\u001b[38;2;0;0;0m██\u001b[38;2;9;9;9m██\u001b[38;2;5;5;5m██\u001b[38;2;28;28;28m██\u001b[38;2;109;109;109m██\u001b[38;2;166;166;166m██\u001b[38;2;47;47;47m██\u001b[38;2;8;8;8m██\u001b[38;2;43;43;43m██\u001b[38;2;0;0;0m██\u001b[38;2;0;0;0m██\u001b[38;2;0;0;0m██\u001b[38;2;0;0;0m██\u001b[38;2;0;0;0m██\u001b[38;2;0;0;0m██\u001b[38;2;0;0;0m██\u001b[38;2;0;0;0m██\u001b[38;2;0;0;0m██\u001b[0m\n",
       "\u001b[0m\u001b[38;2;0;0;0m██\u001b[38;2;0;0;0m██\u001b[38;2;0;0;0m██\u001b[38;2;0;0;0m██\u001b[38;2;0;0;0m██\u001b[38;2;0;0;0m██\u001b[38;2;0;0;0m██\u001b[38;2;1;1;1m██\u001b[38;2;11;11;11m██\u001b[38;2;8;8;8m██\u001b[38;2;51;51;51m██\u001b[38;2;154;154;154m██\u001b[38;2;141;141;141m██\u001b[38;2;72;72;72m██\u001b[38;2;30;30;30m██\u001b[38;2;24;24;24m██\u001b[38;2;0;0;0m██\u001b[38;2;0;0;0m██\u001b[38;2;0;0;0m██\u001b[38;2;0;0;0m██\u001b[38;2;0;0;0m██\u001b[38;2;0;0;0m██\u001b[38;2;0;0;0m██\u001b[38;2;0;0;0m██\u001b[0m\n",
       "\u001b[0m\u001b[38;2;0;0;0m██\u001b[38;2;0;0;0m██\u001b[38;2;0;0;0m██\u001b[38;2;0;0;0m██\u001b[38;2;0;0;0m██\u001b[38;2;0;0;0m██\u001b[38;2;0;0;0m██\u001b[38;2;0;0;0m██\u001b[38;2;2;2;2m██\u001b[38;2;11;11;11m██\u001b[38;2;0;0;0m██\u001b[38;2;71;71;71m██\u001b[38;2;166;166;166m██\u001b[38;2;149;149;149m██\u001b[38;2;59;59;59m██\u001b[38;2;36;36;36m██\u001b[38;2;0;0;0m██\u001b[38;2;0;0;0m██\u001b[38;2;0;0;0m██\u001b[38;2;0;0;0m██\u001b[38;2;0;0;0m██\u001b[38;2;0;0;0m██\u001b[38;2;0;0;0m██\u001b[38;2;0;0;0m██\u001b[0m\n",
       "\u001b[0m\u001b[38;2;0;0;0m██\u001b[38;2;0;0;0m██\u001b[38;2;0;0;0m██\u001b[38;2;0;0;0m██\u001b[38;2;0;0;0m██\u001b[38;2;0;0;0m██\u001b[38;2;0;0;0m██\u001b[38;2;0;0;0m██\u001b[38;2;0;0;0m██\u001b[38;2;6;6;6m██\u001b[38;2;15;15;15m██\u001b[38;2;11;11;11m██\u001b[38;2;60;60;60m██\u001b[38;2;92;92;92m██\u001b[38;2;83;83;83m██\u001b[38;2;89;89;89m██\u001b[38;2;0;0;0m██\u001b[38;2;7;7;7m██\u001b[38;2;0;0;0m██\u001b[38;2;33;33;33m██\u001b[38;2;13;13;13m██\u001b[38;2;0;0;0m██\u001b[38;2;0;0;0m██\u001b[38;2;0;0;0m██\u001b[0m\n",
       "\u001b[0m\u001b[38;2;0;0;0m██\u001b[38;2;0;0;0m██\u001b[38;2;0;0;0m██\u001b[38;2;0;0;0m██\u001b[38;2;0;0;0m██\u001b[38;2;0;0;0m██\u001b[38;2;0;0;0m██\u001b[38;2;0;0;0m██\u001b[38;2;6;6;6m██\u001b[38;2;14;14;14m██\u001b[38;2;0;0;0m██\u001b[38;2;0;0;0m██\u001b[38;2;0;0;0m██\u001b[38;2;0;0;0m██\u001b[38;2;31;31;31m██\u001b[38;2;116;116;116m██\u001b[38;2;88;88;88m██\u001b[38;2;71;71;71m██\u001b[38;2;0;0;0m██\u001b[38;2;29;29;29m██\u001b[38;2;16;16;16m██\u001b[38;2;0;0;0m██\u001b[38;2;0;0;0m██\u001b[38;2;0;0;0m██\u001b[0m\n",
       "\u001b[0m\u001b[38;2;0;0;0m██\u001b[38;2;0;0;0m██\u001b[38;2;0;0;0m██\u001b[38;2;0;0;0m██\u001b[38;2;0;0;0m██\u001b[38;2;0;0;0m██\u001b[38;2;4;4;4m██\u001b[38;2;12;12;12m██\u001b[38;2;0;0;0m██\u001b[38;2;0;0;0m██\u001b[38;2;0;0;0m██\u001b[38;2;0;0;0m██\u001b[38;2;0;0;0m██\u001b[38;2;0;0;0m██\u001b[38;2;0;0;0m██\u001b[38;2;140;140;140m██\u001b[38;2;190;190;190m██\u001b[38;2;139;139;139m██\u001b[38;2;39;39;39m██\u001b[38;2;33;33;33m██\u001b[38;2;0;0;0m██\u001b[38;2;0;0;0m██\u001b[38;2;0;0;0m██\u001b[38;2;0;0;0m██\u001b[0m\n",
       "\u001b[0m\u001b[38;2;0;0;0m██\u001b[38;2;0;0;0m██\u001b[38;2;0;0;0m██\u001b[38;2;0;0;0m██\u001b[38;2;4;4;4m██\u001b[38;2;5;5;5m██\u001b[38;2;11;11;11m██\u001b[38;2;0;0;0m██\u001b[38;2;0;0;0m██\u001b[38;2;0;0;0m██\u001b[38;2;0;0;0m██\u001b[38;2;0;0;0m██\u001b[38;2;0;0;0m██\u001b[38;2;91;91;91m██\u001b[38;2;136;136;136m██\u001b[38;2;170;170;170m██\u001b[38;2;176;176;176m██\u001b[38;2;148;148;148m██\u001b[38;2;81;81;81m██\u001b[38;2;31;31;31m██\u001b[38;2;2;2;2m██\u001b[38;2;0;0;0m██\u001b[38;2;0;0;0m██\u001b[38;2;0;0;0m██\u001b[0m\n",
       "\u001b[0m\u001b[38;2;0;0;0m██\u001b[38;2;0;0;0m██\u001b[38;2;3;3;3m██\u001b[38;2;23;23;23m██\u001b[38;2;0;0;0m██\u001b[38;2;0;0;0m██\u001b[38;2;0;0;0m██\u001b[38;2;0;0;0m██\u001b[38;2;0;0;0m██\u001b[38;2;0;0;0m██\u001b[38;2;0;0;0m██\u001b[38;2;78;78;78m██\u001b[38;2;149;149;149m██\u001b[38;2;167;167;167m██\u001b[38;2;150;150;150m██\u001b[38;2;141;141;141m██\u001b[38;2;131;131;131m██\u001b[38;2;92;92;92m██\u001b[38;2;4;4;4m██\u001b[38;2;0;0;0m██\u001b[38;2;0;0;0m██\u001b[38;2;0;0;0m██\u001b[38;2;0;0;0m██\u001b[38;2;0;0;0m██\u001b[0m\n",
       "\u001b[0m\u001b[38;2;9;9;9m██\u001b[38;2;14;14;14m██\u001b[38;2;0;0;0m██\u001b[38;2;0;0;0m██\u001b[38;2;0;0;0m██\u001b[38;2;0;0;0m██\u001b[38;2;0;0;0m██\u001b[38;2;0;0;0m██\u001b[38;2;0;0;0m██\u001b[38;2;50;50;50m██\u001b[38;2;151;151;151m██\u001b[38;2;155;155;155m██\u001b[38;2;150;150;150m██\u001b[38;2;160;160;160m██\u001b[38;2;143;143;143m██\u001b[38;2;94;94;94m██\u001b[38;2;37;37;37m██\u001b[38;2;43;43;43m██\u001b[38;2;47;47;47m██\u001b[38;2;8;8;8m██\u001b[38;2;0;0;0m██\u001b[38;2;0;0;0m██\u001b[38;2;0;0;0m██\u001b[38;2;0;0;0m██\u001b[0m\n",
       "\u001b[0m\u001b[38;2;7;7;7m██\u001b[38;2;0;0;0m██\u001b[38;2;0;0;0m██\u001b[38;2;0;0;0m██\u001b[38;2;0;0;0m██\u001b[38;2;0;0;0m██\u001b[38;2;13;13;13m██\u001b[38;2;62;62;62m██\u001b[38;2;159;159;159m██\u001b[38;2;195;195;195m██\u001b[38;2;144;144;144m██\u001b[38;2;154;154;154m██\u001b[38;2;154;154;154m██\u001b[38;2;94;94;94m██\u001b[38;2;42;42;42m██\u001b[38;2;41;41;41m██\u001b[38;2;58;58;58m██\u001b[38;2;31;31;31m██\u001b[38;2;4;4;4m██\u001b[38;2;0;0;0m██\u001b[38;2;0;0;0m██\u001b[38;2;0;0;0m██\u001b[38;2;0;0;0m██\u001b[38;2;0;0;0m██\u001b[0m\n",
       "\u001b[0m\u001b[38;2;0;0;0m██\u001b[38;2;0;0;0m██\u001b[38;2;39;39;39m██\u001b[38;2;60;60;60m██\u001b[38;2;103;103;103m██\u001b[38;2;208;208;208m██\u001b[38;2;201;201;201m██\u001b[38;2;189;189;189m██\u001b[38;2;191;191;191m██\u001b[38;2;145;145;145m██\u001b[38;2;158;158;158m██\u001b[38;2;108;108;108m██\u001b[38;2;56;56;56m██\u001b[38;2;44;44;44m██\u001b[38;2;56;56;56m██\u001b[38;2;30;30;30m██\u001b[38;2;4;4;4m██\u001b[38;2;0;0;0m██\u001b[38;2;0;0;0m██\u001b[38;2;0;0;0m██\u001b[38;2;0;0;0m██\u001b[38;2;0;0;0m██\u001b[38;2;0;0;0m██\u001b[38;2;0;0;0m██\u001b[0m\n",
       "\u001b[0m\u001b[38;2;22;22;22m██\u001b[38;2;60;60;60m██\u001b[38;2;103;103;103m██\u001b[38;2;138;138;138m██\u001b[38;2;138;138;138m██\u001b[38;2;136;136;136m██\u001b[38;2;149;149;149m██\u001b[38;2;139;139;139m██\u001b[38;2;122;122;122m██\u001b[38;2;89;89;89m██\u001b[38;2;58;58;58m██\u001b[38;2;26;26;26m██\u001b[38;2;43;43;43m██\u001b[38;2;30;30;30m██\u001b[38;2;6;6;6m██\u001b[38;2;0;0;0m██\u001b[38;2;0;0;0m██\u001b[38;2;0;0;0m██\u001b[38;2;0;0;0m██\u001b[38;2;0;0;0m██\u001b[38;2;0;0;0m██\u001b[38;2;0;0;0m██\u001b[38;2;0;0;0m██\u001b[38;2;0;0;0m██\u001b[0m\n",
       "\u001b[0m\u001b[38;2;0;0;0m██\u001b[38;2;1;1;1m██\u001b[38;2;29;29;29m██\u001b[38;2;51;51;51m██\u001b[38;2;42;42;42m██\u001b[38;2;42;42;42m██\u001b[38;2;42;42;42m██\u001b[38;2;40;40;40m██\u001b[38;2;52;52;52m██\u001b[38;2;46;46;46m██\u001b[38;2;61;61;61m██\u001b[38;2;47;47;47m██\u001b[38;2;9;9;9m██\u001b[38;2;1;1;1m██\u001b[38;2;0;0;0m██\u001b[38;2;0;0;0m██\u001b[38;2;0;0;0m██\u001b[38;2;0;0;0m██\u001b[38;2;0;0;0m██\u001b[38;2;0;0;0m██\u001b[38;2;0;0;0m██\u001b[38;2;0;0;0m██\u001b[38;2;0;0;0m██\u001b[38;2;0;0;0m██\u001b[0m"
      ]
     },
     "execution_count": 56,
     "metadata": {},
     "output_type": "execute_result"
    }
   ],
   "source": [
    "convert2image(MNIST,cnn_output[:,:,1,1])"
   ]
  },
  {
   "cell_type": "code",
   "execution_count": null,
   "metadata": {},
   "outputs": [],
   "source": []
  },
  {
   "cell_type": "code",
   "execution_count": 66,
   "metadata": {},
   "outputs": [
    {
     "data": {
      "text/plain": [
       "Conv((5, 5), 1 => 1, pad=2)  \u001b[90m# 26 parameters\u001b[39m"
      ]
     },
     "execution_count": 66,
     "metadata": {},
     "output_type": "execute_result"
    }
   ],
   "source": [
    "cnn_layer2 = Conv( (5,5) , 1 => 1 , pad = 2 ) #apply some padding"
   ]
  },
  {
   "cell_type": "code",
   "execution_count": 67,
   "metadata": {},
   "outputs": [
    {
     "data": {
      "text/plain": [
       "(100, 100, 1, 10)"
      ]
     },
     "execution_count": 67,
     "metadata": {},
     "output_type": "execute_result"
    }
   ],
   "source": [
    "cnn_output2 = cnn_layer2( x )\n",
    "size( cnn_output2 )"
   ]
  },
  {
   "cell_type": "code",
   "execution_count": 68,
   "metadata": {},
   "outputs": [
    {
     "data": {
      "text/plain": [
       "true"
      ]
     },
     "execution_count": 68,
     "metadata": {},
     "output_type": "execute_result"
    }
   ],
   "source": [
    "size( x ) == size( cnn_output2 )"
   ]
  },
  {
   "cell_type": "code",
   "execution_count": 69,
   "metadata": {},
   "outputs": [
    {
     "data": {
      "text/plain": [
       "(28, 28, 1, 3)"
      ]
     },
     "execution_count": 69,
     "metadata": {},
     "output_type": "execute_result"
    }
   ],
   "source": [
    "cnn_output = cnn_layer2(images[:,:,:,1:3])\n",
    "cnn_output |> size"
   ]
  },
  {
   "cell_type": "code",
   "execution_count": 70,
   "metadata": {},
   "outputs": [
    {
     "data": {
      "image/png": "[encoded data removed]",
      "text/html": [
       "<img src=\"data:image/png;base64,iVBORw0KGgoAAAANSUhEUgAAAHAAAABwCAAAAADji6uXAAAABGdBTUEAALGPC/xhBQAAAAFzUkdCAK7OHOkAAAAgY0hSTQAAeiYAAICEAAD6AAAAgOgAAHUwAADqYAAAOpgAABdwnLpRPAAAArBJREFUaAW9wU9oFQQcB/DPtm/CzGo1Byp0KZEyKdFIgtEfOnQpQiiICuwkAwk6dIu6RUGXDtWpOgXlJQmKVaciJBpFBGIwoj9gpM5NV240dW8d3oPxeu/tj+bv84liUSyKRbEoFsWiWBSLYlEsikWxuMpuwnX4XVMUi2JRLHroR8OV+wczlkWxKBbFoosBBAvWZhij2Ix92IABfIlv8SemNUWxKBbFoosBbMVv2g1iB/bhbtyHafThXu3mcQIzmqY1RbEoFsWii4sYxDN4DHdgO67BFEZ0eguPYhpv4j3dRbEoFsWii424Fc9jr3YXcB6bMINf8AVexHNYsrIoFsWiWHQxh0l8jjOYxAgWMY4zOI9H8Bm+0rQRc1YWxaJYFIseJvExPsQp3IYD+AANTUe1m7O6KBbFolisYMKyvejHHnzn8kWxKBbFYhV9uAFD2I1ncQIndRrBLC7oLYpFsSgWq1jCOXyPd3A7HsQ8NuNdy6awBWexoLsoFsWiWKzRJEYwjPvRwFMYw8OY0XQSO3Fcd1EsikWxWIejGMIUtmACp/Ek3kZwCacwhHM6RbEoFsVinT7FDszgDZzFLbgLu3ARf2Ncd1EsikWxWKMBLGqatGwQuzCOPZjFdlyPv3SKYlEsisUq+jUt6rQTY3gcE/gZr+JX9OkuikWxKBY99GEJDZ0ewH48ga2aRnEQ09iEWd1FsSgWxeI/+rABCzqN4mmMaXcML+G0pim9RbEoFsWiJbiEJSxoN4xD2I/dln2D13FEu3m9RbEoFsWi5VrMancnDuKQdj/gZXxi/aJYFIti0dLAzXgIr2Cb7g7gfTRcnigWxaJYtCziHryAbdodwxG8hnlXJopFsSgWLTci+Bof4Sccx4/+X1EsikWxaPkDh3HY1RXFolgUi2JRLIpFsX8BpDeBmYuwlbEAAAAASUVORK5C\">"
      ],
      "text/plain": [
       "\u001b[0m\u001b[38;2;0;0;0m██\u001b[38;2;0;0;0m██\u001b[38;2;0;0;0m██\u001b[38;2;0;0;0m██\u001b[38;2;0;0;0m██\u001b[38;2;0;0;0m██\u001b[38;2;0;0;0m██\u001b[38;2;0;0;0m██\u001b[38;2;0;0;0m██\u001b[38;2;0;0;0m██\u001b[38;2;0;0;0m██\u001b[38;2;0;0;0m██\u001b[38;2;0;0;0m██\u001b[38;2;0;0;0m██\u001b[38;2;0;0;0m██\u001b[38;2;0;0;0m██\u001b[38;2;0;0;0m██\u001b[38;2;0;0;0m██\u001b[38;2;0;0;0m██\u001b[38;2;0;0;0m██\u001b[38;2;0;0;0m██\u001b[38;2;0;0;0m██\u001b[38;2;0;0;0m██\u001b[38;2;0;0;0m██\u001b[38;2;0;0;0m██\u001b[38;2;0;0;0m██\u001b[38;2;0;0;0m██\u001b[38;2;0;0;0m██\u001b[0m\n",
       "\u001b[0m\u001b[38;2;0;0;0m██\u001b[38;2;0;0;0m██\u001b[38;2;0;0;0m██\u001b[38;2;0;0;0m██\u001b[38;2;0;0;0m██\u001b[38;2;0;0;0m██\u001b[38;2;0;0;0m██\u001b[38;2;0;0;0m██\u001b[38;2;0;0;0m██\u001b[38;2;0;0;0m██\u001b[38;2;0;0;0m██\u001b[38;2;0;0;0m██\u001b[38;2;0;0;0m██\u001b[38;2;0;0;0m██\u001b[38;2;0;0;0m██\u001b[38;2;0;0;0m██\u001b[38;2;0;0;0m██\u001b[38;2;0;0;0m██\u001b[38;2;0;0;0m██\u001b[38;2;0;0;0m██\u001b[38;2;0;0;0m██\u001b[38;2;0;0;0m██\u001b[38;2;0;0;0m██\u001b[38;2;0;0;0m██\u001b[38;2;0;0;0m██\u001b[38;2;0;0;0m██\u001b[38;2;0;0;0m██\u001b[38;2;0;0;0m██\u001b[0m\n",
       "\u001b[0m\u001b[38;2;0;0;0m██\u001b[38;2;0;0;0m██\u001b[38;2;0;0;0m██\u001b[38;2;0;0;0m██\u001b[38;2;0;0;0m██\u001b[38;2;0;0;0m██\u001b[38;2;0;0;0m██\u001b[38;2;0;0;0m██\u001b[38;2;0;0;0m██\u001b[38;2;0;0;0m██\u001b[38;2;0;0;0m██\u001b[38;2;0;0;0m██\u001b[38;2;0;0;0m██\u001b[38;2;0;0;0m██\u001b[38;2;0;0;0m██\u001b[38;2;0;0;0m██\u001b[38;2;0;0;0m██\u001b[38;2;0;0;0m██\u001b[38;2;0;0;0m██\u001b[38;2;0;0;0m██\u001b[38;2;0;0;0m██\u001b[38;2;0;0;0m██\u001b[38;2;0;0;0m██\u001b[38;2;0;0;0m██\u001b[38;2;0;0;0m██\u001b[38;2;0;0;0m██\u001b[38;2;0;0;0m██\u001b[38;2;0;0;0m██\u001b[0m\n",
       "\u001b[0m\u001b[38;2;0;0;0m██\u001b[38;2;0;0;0m██\u001b[38;2;0;0;0m██\u001b[38;2;0;0;0m██\u001b[38;2;0;0;0m██\u001b[38;2;0;0;0m██\u001b[38;2;0;0;0m██\u001b[38;2;0;0;0m██\u001b[38;2;0;0;0m██\u001b[38;2;0;0;0m██\u001b[38;2;0;0;0m██\u001b[38;2;0;0;0m██\u001b[38;2;0;0;0m██\u001b[38;2;0;0;0m██\u001b[38;2;0;0;0m██\u001b[38;2;0;0;0m██\u001b[38;2;0;0;0m██\u001b[38;2;0;0;0m██\u001b[38;2;0;0;0m██\u001b[38;2;0;0;0m██\u001b[38;2;0;0;0m██\u001b[38;2;0;0;0m██\u001b[38;2;0;0;0m██\u001b[38;2;0;0;0m██\u001b[38;2;18;18;18m██\u001b[38;2;31;31;31m██\u001b[38;2;0;0;0m██\u001b[38;2;0;0;0m██\u001b[0m\n",
       "\u001b[0m\u001b[38;2;0;0;0m██\u001b[38;2;0;0;0m██\u001b[38;2;0;0;0m██\u001b[38;2;0;0;0m██\u001b[38;2;0;0;0m██\u001b[38;2;0;0;0m██\u001b[38;2;2;2;2m██\u001b[38;2;0;0;0m██\u001b[38;2;0;0;0m██\u001b[38;2;0;0;0m██\u001b[38;2;0;0;0m██\u001b[38;2;0;0;0m██\u001b[38;2;0;0;0m██\u001b[38;2;0;0;0m██\u001b[38;2;0;0;0m██\u001b[38;2;0;0;0m██\u001b[38;2;0;0;0m██\u001b[38;2;0;0;0m██\u001b[38;2;0;0;0m██\u001b[38;2;0;0;0m██\u001b[38;2;0;0;0m██\u001b[38;2;0;0;0m██\u001b[38;2;0;0;0m██\u001b[38;2;0;0;0m██\u001b[38;2;10;10;10m██\u001b[38;2;0;0;0m██\u001b[38;2;0;0;0m██\u001b[38;2;0;0;0m██\u001b[0m\n",
       "\u001b[0m\u001b[38;2;0;0;0m██\u001b[38;2;0;0;0m██\u001b[38;2;0;0;0m██\u001b[38;2;0;0;0m██\u001b[38;2;0;0;0m██\u001b[38;2;3;3;3m██\u001b[38;2;7;7;7m██\u001b[38;2;0;0;0m██\u001b[38;2;0;0;0m██\u001b[38;2;0;0;0m██\u001b[38;2;0;0;0m██\u001b[38;2;0;0;0m██\u001b[38;2;0;0;0m██\u001b[38;2;0;0;0m██\u001b[38;2;0;0;0m██\u001b[38;2;0;0;0m██\u001b[38;2;0;0;0m██\u001b[38;2;19;19;19m██\u001b[38;2;79;79;79m██\u001b[38;2;99;99;99m██\u001b[38;2;154;154;154m██\u001b[38;2;160;160;160m██\u001b[38;2;163;163;163m██\u001b[38;2;99;99;99m██\u001b[38;2;44;44;44m██\u001b[38;2;19;19;19m██\u001b[38;2;0;0;0m██\u001b[38;2;0;0;0m██\u001b[0m\n",
       "\u001b[0m\u001b[38;2;0;0;0m██\u001b[38;2;0;0;0m██\u001b[38;2;0;0;0m██\u001b[38;2;0;0;0m██\u001b[38;2;0;0;0m██\u001b[38;2;6;6;6m██\u001b[38;2;32;32;32m██\u001b[38;2;0;0;0m██\u001b[38;2;0;0;0m██\u001b[38;2;0;0;0m██\u001b[38;2;0;0;0m██\u001b[38;2;9;9;9m██\u001b[38;2;47;47;47m██\u001b[38;2;102;102;102m██\u001b[38;2;154;154;154m██\u001b[38;2;216;216;216m██\u001b[38;2;197;197;197m██\u001b[38;2;198;198;198m██\u001b[38;2;255;255;255m██\u001b[38;2;255;255;255m██\u001b[38;2;255;255;255m██\u001b[38;2;255;255;255m██\u001b[38;2;245;245;245m██\u001b[38;2;135;135;135m██\u001b[38;2;81;81;81m██\u001b[38;2;44;44;44m██\u001b[38;2;0;0;0m██\u001b[38;2;0;0;0m██\u001b[0m\n",
       "\u001b[0m\u001b[38;2;0;0;0m██\u001b[38;2;0;0;0m██\u001b[38;2;0;0;0m██\u001b[38;2;0;0;0m██\u001b[38;2;0;0;0m██\u001b[38;2;1;1;1m██\u001b[38;2;41;41;41m██\u001b[38;2;92;92;92m██\u001b[38;2;171;171;171m██\u001b[38;2;214;214;214m██\u001b[38;2;250;250;250m██\u001b[38;2;255;255;255m██\u001b[38;2;234;234;234m██\u001b[38;2;255;255;255m██\u001b[38;2;255;255;255m██\u001b[38;2;255;255;255m██\u001b[38;2;255;255;255m██\u001b[38;2;255;255;255m██\u001b[38;2;148;148;148m██\u001b[38;2;225;225;225m██\u001b[38;2;206;206;206m██\u001b[38;2;98;98;98m██\u001b[38;2;0;0;0m██\u001b[38;2;0;0;0m██\u001b[38;2;0;0;0m██\u001b[38;2;0;0;0m██\u001b[38;2;0;0;0m██\u001b[38;2;0;0;0m██\u001b[0m\n",
       "\u001b[0m\u001b[38;2;0;0;0m██\u001b[38;2;0;0;0m██\u001b[38;2;0;0;0m██\u001b[38;2;0;0;0m██\u001b[38;2;0;0;0m██\u001b[38;2;11;11;11m██\u001b[38;2;76;76;76m██\u001b[38;2;204;204;204m██\u001b[38;2;255;255;255m██\u001b[38;2;255;255;255m██\u001b[38;2;255;255;255m██\u001b[38;2;255;255;255m██\u001b[38;2;228;228;228m██\u001b[38;2;243;243;243m██\u001b[38;2;255;255;255m██\u001b[38;2;237;237;237m██\u001b[38;2;203;203;203m██\u001b[38;2;133;133;133m██\u001b[38;2;0;0;0m██\u001b[38;2;1;1;1m██\u001b[38;2;0;0;0m██\u001b[38;2;0;0;0m██\u001b[38;2;0;0;0m██\u001b[38;2;0;0;0m██\u001b[38;2;0;0;0m██\u001b[38;2;0;0;0m██\u001b[38;2;0;0;0m██\u001b[38;2;0;0;0m██\u001b[0m\n",
       "\u001b[0m\u001b[38;2;0;0;0m██\u001b[38;2;0;0;0m██\u001b[38;2;0;0;0m██\u001b[38;2;0;0;0m██\u001b[38;2;0;0;0m██\u001b[38;2;0;0;0m██\u001b[38;2;38;38;38m██\u001b[38;2;133;133;133m██\u001b[38;2;184;184;184m██\u001b[38;2;146;146;146m██\u001b[38;2;167;167;167m██\u001b[38;2;164;164;164m██\u001b[38;2;91;91;91m██\u001b[38;2;71;71;71m██\u001b[38;2;59;59;59m██\u001b[38;2;135;135;135m██\u001b[38;2;63;63;63m██\u001b[38;2;0;0;0m██\u001b[38;2;0;0;0m██\u001b[38;2;11;11;11m██\u001b[38;2;0;0;0m██\u001b[38;2;0;0;0m██\u001b[38;2;0;0;0m██\u001b[38;2;0;0;0m██\u001b[38;2;0;0;0m██\u001b[38;2;0;0;0m██\u001b[38;2;0;0;0m██\u001b[38;2;0;0;0m██\u001b[0m\n",
       "\u001b[0m\u001b[38;2;0;0;0m██\u001b[38;2;0;0;0m██\u001b[38;2;0;0;0m██\u001b[38;2;0;0;0m██\u001b[38;2;0;0;0m██\u001b[38;2;0;0;0m██\u001b[38;2;0;0;0m██\u001b[38;2;54;54;54m██\u001b[38;2;45;45;45m██\u001b[38;2;22;22;22m██\u001b[38;2;62;62;62m██\u001b[38;2;157;157;157m██\u001b[38;2;2;2;2m██\u001b[38;2;0;0;0m██\u001b[38;2;0;0;0m██\u001b[38;2;0;0;0m██\u001b[38;2;0;0;0m██\u001b[38;2;0;0;0m██\u001b[38;2;0;0;0m██\u001b[38;2;0;0;0m██\u001b[38;2;0;0;0m██\u001b[38;2;0;0;0m██\u001b[38;2;0;0;0m██\u001b[38;2;0;0;0m██\u001b[38;2;0;0;0m██\u001b[38;2;0;0;0m██\u001b[38;2;0;0;0m██\u001b[38;2;0;0;0m██\u001b[0m\n",
       "\u001b[0m\u001b[38;2;0;0;0m██\u001b[38;2;0;0;0m██\u001b[38;2;0;0;0m██\u001b[38;2;0;0;0m██\u001b[38;2;0;0;0m██\u001b[38;2;0;0;0m██\u001b[38;2;0;0;0m██\u001b[38;2;0;0;0m██\u001b[38;2;0;0;0m██\u001b[38;2;0;0;0m██\u001b[38;2;73;73;73m██\u001b[38;2;159;159;159m██\u001b[38;2;52;52;52m██\u001b[38;2;0;0;0m██\u001b[38;2;0;0;0m██\u001b[38;2;0;0;0m██\u001b[38;2;0;0;0m██\u001b[38;2;0;0;0m██\u001b[38;2;0;0;0m██\u001b[38;2;0;0;0m██\u001b[38;2;0;0;0m██\u001b[38;2;0;0;0m██\u001b[38;2;0;0;0m██\u001b[38;2;0;0;0m██\u001b[38;2;0;0;0m██\u001b[38;2;0;0;0m██\u001b[38;2;0;0;0m██\u001b[38;2;0;0;0m██\u001b[0m\n",
       "\u001b[0m\u001b[38;2;0;0;0m██\u001b[38;2;0;0;0m██\u001b[38;2;0;0;0m██\u001b[38;2;0;0;0m██\u001b[38;2;0;0;0m██\u001b[38;2;0;0;0m██\u001b[38;2;0;0;0m██\u001b[38;2;0;0;0m██\u001b[38;2;1;1;1m██\u001b[38;2;16;16;16m██\u001b[38;2;89;89;89m██\u001b[38;2;207;207;207m██\u001b[38;2;148;148;148m██\u001b[38;2;24;24;24m██\u001b[38;2;0;0;0m██\u001b[38;2;0;0;0m██\u001b[38;2;0;0;0m██\u001b[38;2;0;0;0m██\u001b[38;2;0;0;0m██\u001b[38;2;21;21;21m██\u001b[38;2;6;6;6m██\u001b[38;2;0;0;0m██\u001b[38;2;0;0;0m██\u001b[38;2;0;0;0m██\u001b[38;2;0;0;0m██\u001b[38;2;0;0;0m██\u001b[38;2;0;0;0m██\u001b[38;2;0;0;0m██\u001b[0m\n",
       "\u001b[0m\u001b[38;2;0;0;0m██\u001b[38;2;0;0;0m██\u001b[38;2;0;0;0m██\u001b[38;2;0;0;0m██\u001b[38;2;0;0;0m██\u001b[38;2;0;0;0m██\u001b[38;2;0;0;0m██\u001b[38;2;0;0;0m██\u001b[38;2;0;0;0m██\u001b[38;2;0;0;0m██\u001b[38;2;38;38;38m██\u001b[38;2;107;107;107m██\u001b[38;2;148;148;148m██\u001b[38;2;89;89;89m██\u001b[38;2;79;79;79m██\u001b[38;2;99;99;99m██\u001b[38;2;0;0;0m██\u001b[38;2;0;0;0m██\u001b[38;2;0;0;0m██\u001b[38;2;0;0;0m██\u001b[38;2;24;24;24m██\u001b[38;2;7;7;7m██\u001b[38;2;0;0;0m██\u001b[38;2;0;0;0m██\u001b[38;2;0;0;0m██\u001b[38;2;0;0;0m██\u001b[38;2;0;0;0m██\u001b[38;2;0;0;0m██\u001b[0m\n",
       "\u001b[0m\u001b[38;2;0;0;0m██\u001b[38;2;0;0;0m██\u001b[38;2;0;0;0m██\u001b[38;2;0;0;0m██\u001b[38;2;0;0;0m██\u001b[38;2;0;0;0m██\u001b[38;2;0;0;0m██\u001b[38;2;0;0;0m██\u001b[38;2;0;0;0m██\u001b[38;2;0;0;0m██\u001b[38;2;0;0;0m██\u001b[38;2;59;59;59m██\u001b[38;2;126;126;126m██\u001b[38;2;152;152;152m██\u001b[38;2;150;150;150m██\u001b[38;2;240;240;240m██\u001b[38;2;203;203;203m██\u001b[38;2;18;18;18m██\u001b[38;2;0;0;0m██\u001b[38;2;0;0;0m██\u001b[38;2;0;0;0m██\u001b[38;2;42;42;42m██\u001b[38;2;0;0;0m██\u001b[38;2;0;0;0m██\u001b[38;2;0;0;0m██\u001b[38;2;0;0;0m██\u001b[38;2;0;0;0m██\u001b[38;2;0;0;0m██\u001b[0m\n",
       "\u001b[0m\u001b[38;2;0;0;0m██\u001b[38;2;0;0;0m██\u001b[38;2;0;0;0m██\u001b[38;2;0;0;0m██\u001b[38;2;0;0;0m██\u001b[38;2;0;0;0m██\u001b[38;2;0;0;0m██\u001b[38;2;0;0;0m██\u001b[38;2;0;0;0m██\u001b[38;2;0;0;0m██\u001b[38;2;0;0;0m██\u001b[38;2;0;0;0m██\u001b[38;2;75;75;75m██\u001b[38;2;105;105;105m██\u001b[38;2;129;129;129m██\u001b[38;2;186;186;186m██\u001b[38;2;164;164;164m██\u001b[38;2;106;106;106m██\u001b[38;2;0;0;0m██\u001b[38;2;4;4;4m██\u001b[38;2;0;0;0m██\u001b[38;2;19;19;19m██\u001b[38;2;16;16;16m██\u001b[38;2;0;0;0m██\u001b[38;2;0;0;0m██\u001b[38;2;0;0;0m██\u001b[38;2;0;0;0m██\u001b[38;2;0;0;0m██\u001b[0m\n",
       "\u001b[0m\u001b[38;2;0;0;0m██\u001b[38;2;0;0;0m██\u001b[38;2;0;0;0m██\u001b[38;2;0;0;0m██\u001b[38;2;0;0;0m██\u001b[38;2;0;0;0m██\u001b[38;2;0;0;0m██\u001b[38;2;0;0;0m██\u001b[38;2;0;0;0m██\u001b[38;2;0;0;0m██\u001b[38;2;0;0;0m██\u001b[38;2;0;0;0m██\u001b[38;2;0;0;0m██\u001b[38;2;38;38;38m██\u001b[38;2;20;20;20m██\u001b[38;2;17;17;17m██\u001b[38;2;0;0;0m██\u001b[38;2;34;34;34m██\u001b[38;2;47;47;47m██\u001b[38;2;91;91;91m██\u001b[38;2;86;86;86m██\u001b[38;2;73;73;73m██\u001b[38;2;0;0;0m██\u001b[38;2;0;0;0m██\u001b[38;2;0;0;0m██\u001b[38;2;0;0;0m██\u001b[38;2;0;0;0m██\u001b[38;2;0;0;0m██\u001b[0m\n",
       "\u001b[0m\u001b[38;2;0;0;0m██\u001b[38;2;0;0;0m██\u001b[38;2;0;0;0m██\u001b[38;2;0;0;0m██\u001b[38;2;0;0;0m██\u001b[38;2;0;0;0m██\u001b[38;2;0;0;0m██\u001b[38;2;0;0;0m██\u001b[38;2;0;0;0m██\u001b[38;2;0;0;0m██\u001b[38;2;3;3;3m██\u001b[38;2;0;0;0m██\u001b[38;2;0;0;0m██\u001b[38;2;0;0;0m██\u001b[38;2;0;0;0m██\u001b[38;2;0;0;0m██\u001b[38;2;9;9;9m██\u001b[38;2;78;78;78m██\u001b[38;2;5;5;5m██\u001b[38;2;97;97;97m██\u001b[38;2;76;76;76m██\u001b[38;2;109;109;109m██\u001b[38;2;14;14;14m██\u001b[38;2;0;0;0m██\u001b[38;2;0;0;0m██\u001b[38;2;0;0;0m██\u001b[38;2;0;0;0m██\u001b[38;2;0;0;0m██\u001b[0m\n",
       "\u001b[0m\u001b[38;2;0;0;0m██\u001b[38;2;0;0;0m██\u001b[38;2;0;0;0m██\u001b[38;2;0;0;0m██\u001b[38;2;0;0;0m██\u001b[38;2;0;0;0m██\u001b[38;2;0;0;0m██\u001b[38;2;0;0;0m██\u001b[38;2;2;2;2m██\u001b[38;2;2;2;2m██\u001b[38;2;0;0;0m██\u001b[38;2;0;0;0m██\u001b[38;2;0;0;0m██\u001b[38;2;0;0;0m██\u001b[38;2;0;0;0m██\u001b[38;2;42;42;42m██\u001b[38;2;146;146;146m██\u001b[38;2;230;230;230m██\u001b[38;2;176;176;176m██\u001b[38;2;140;140;140m██\u001b[38;2;19;19;19m██\u001b[38;2;43;43;43m██\u001b[38;2;15;15;15m██\u001b[38;2;0;0;0m██\u001b[38;2;0;0;0m██\u001b[38;2;0;0;0m██\u001b[38;2;0;0;0m██\u001b[38;2;0;0;0m██\u001b[0m\n",
       "\u001b[0m\u001b[38;2;0;0;0m██\u001b[38;2;0;0;0m██\u001b[38;2;0;0;0m██\u001b[38;2;0;0;0m██\u001b[38;2;0;0;0m██\u001b[38;2;0;0;0m██\u001b[38;2;1;1;1m██\u001b[38;2;0;0;0m██\u001b[38;2;0;0;0m██\u001b[38;2;0;0;0m██\u001b[38;2;0;0;0m██\u001b[38;2;0;0;0m██\u001b[38;2;0;0;0m██\u001b[38;2;64;64;64m██\u001b[38;2;145;145;145m██\u001b[38;2;230;230;230m██\u001b[38;2;255;255;255m██\u001b[38;2;255;255;255m██\u001b[38;2;236;236;236m██\u001b[38;2;22;22;22m██\u001b[38;2;0;0;0m██\u001b[38;2;31;31;31m██\u001b[38;2;0;0;0m██\u001b[38;2;0;0;0m██\u001b[38;2;0;0;0m██\u001b[38;2;0;0;0m██\u001b[38;2;0;0;0m██\u001b[38;2;0;0;0m██\u001b[0m\n",
       "\u001b[0m\u001b[38;2;0;0;0m██\u001b[38;2;0;0;0m██\u001b[38;2;0;0;0m██\u001b[38;2;0;0;0m██\u001b[38;2;1;1;1m██\u001b[38;2;7;7;7m██\u001b[38;2;0;0;0m██\u001b[38;2;0;0;0m██\u001b[38;2;0;0;0m██\u001b[38;2;0;0;0m██\u001b[38;2;0;0;0m██\u001b[38;2;60;60;60m██\u001b[38;2;151;151;151m██\u001b[38;2;255;255;255m██\u001b[38;2;255;255;255m██\u001b[38;2;255;255;255m██\u001b[38;2;255;255;255m██\u001b[38;2;211;211;211m██\u001b[38;2;80;80;80m██\u001b[38;2;0;0;0m██\u001b[38;2;0;0;0m██\u001b[38;2;10;10;10m██\u001b[38;2;0;0;0m██\u001b[38;2;0;0;0m██\u001b[38;2;0;0;0m██\u001b[38;2;0;0;0m██\u001b[38;2;0;0;0m██\u001b[38;2;0;0;0m██\u001b[0m\n",
       "\u001b[0m\u001b[38;2;0;0;0m██\u001b[38;2;0;0;0m██\u001b[38;2;4;4;4m██\u001b[38;2;0;0;0m██\u001b[38;2;0;0;0m██\u001b[38;2;0;0;0m██\u001b[38;2;0;0;0m██\u001b[38;2;0;0;0m██\u001b[38;2;0;0;0m██\u001b[38;2;19;19;19m██\u001b[38;2;126;126;126m██\u001b[38;2;207;207;207m██\u001b[38;2;255;255;255m██\u001b[38;2;255;255;255m██\u001b[38;2;255;255;255m██\u001b[38;2;198;198;198m██\u001b[38;2;81;81;81m██\u001b[38;2;0;0;0m██\u001b[38;2;0;0;0m██\u001b[38;2;0;0;0m██\u001b[38;2;0;0;0m██\u001b[38;2;0;0;0m██\u001b[38;2;0;0;0m██\u001b[38;2;0;0;0m██\u001b[38;2;0;0;0m██\u001b[38;2;0;0;0m██\u001b[38;2;0;0;0m██\u001b[38;2;0;0;0m██\u001b[0m\n",
       "\u001b[0m\u001b[38;2;0;0;0m██\u001b[38;2;0;0;0m██\u001b[38;2;15;15;15m██\u001b[38;2;0;0;0m██\u001b[38;2;0;0;0m██\u001b[38;2;0;0;0m██\u001b[38;2;0;0;0m██\u001b[38;2;46;46;46m██\u001b[38;2;148;148;148m██\u001b[38;2;255;255;255m██\u001b[38;2;255;255;255m██\u001b[38;2;255;255;255m██\u001b[38;2;255;255;255m██\u001b[38;2;206;206;206m██\u001b[38;2;76;76;76m██\u001b[38;2;0;0;0m██\u001b[38;2;0;0;0m██\u001b[38;2;0;0;0m██\u001b[38;2;0;0;0m██\u001b[38;2;0;0;0m██\u001b[38;2;0;0;0m██\u001b[38;2;0;0;0m██\u001b[38;2;0;0;0m██\u001b[38;2;0;0;0m██\u001b[38;2;0;0;0m██\u001b[38;2;0;0;0m██\u001b[38;2;0;0;0m██\u001b[38;2;0;0;0m██\u001b[0m\n",
       "\u001b[0m\u001b[38;2;0;0;0m██\u001b[38;2;0;0;0m██\u001b[38;2;13;13;13m██\u001b[38;2;29;29;29m██\u001b[38;2;96;96;96m██\u001b[38;2;229;229;229m██\u001b[38;2;255;255;255m██\u001b[38;2;255;255;255m██\u001b[38;2;255;255;255m██\u001b[38;2;255;255;255m██\u001b[38;2;255;255;255m██\u001b[38;2;255;255;255m██\u001b[38;2;94;94;94m██\u001b[38;2;2;2;2m██\u001b[38;2;0;0;0m██\u001b[38;2;0;0;0m██\u001b[38;2;0;0;0m██\u001b[38;2;0;0;0m██\u001b[38;2;0;0;0m██\u001b[38;2;0;0;0m██\u001b[38;2;0;0;0m██\u001b[38;2;0;0;0m██\u001b[38;2;0;0;0m██\u001b[38;2;0;0;0m██\u001b[38;2;0;0;0m██\u001b[38;2;0;0;0m██\u001b[38;2;0;0;0m██\u001b[38;2;0;0;0m██\u001b[0m\n",
       "\u001b[0m\u001b[38;2;0;0;0m██\u001b[38;2;0;0;0m██\u001b[38;2;10;10;10m██\u001b[38;2;83;83;83m██\u001b[38;2;212;212;212m██\u001b[38;2;255;255;255m██\u001b[38;2;255;255;255m██\u001b[38;2;255;255;255m██\u001b[38;2;255;255;255m██\u001b[38;2;211;211;211m██\u001b[38;2;130;130;130m██\u001b[38;2;10;10;10m██\u001b[38;2;0;0;0m██\u001b[38;2;0;0;0m██\u001b[38;2;0;0;0m██\u001b[38;2;0;0;0m██\u001b[38;2;0;0;0m██\u001b[38;2;0;0;0m██\u001b[38;2;0;0;0m██\u001b[38;2;0;0;0m██\u001b[38;2;0;0;0m██\u001b[38;2;0;0;0m██\u001b[38;2;0;0;0m██\u001b[38;2;0;0;0m██\u001b[38;2;0;0;0m██\u001b[38;2;0;0;0m██\u001b[38;2;0;0;0m██\u001b[38;2;0;0;0m██\u001b[0m\n",
       "\u001b[0m\u001b[38;2;0;0;0m██\u001b[38;2;0;0;0m██\u001b[38;2;27;27;27m██\u001b[38;2;87;87;87m██\u001b[38;2;151;151;151m██\u001b[38;2;130;130;130m██\u001b[38;2;89;89;89m██\u001b[38;2;47;47;47m██\u001b[38;2;0;0;0m██\u001b[38;2;0;0;0m██\u001b[38;2;0;0;0m██\u001b[38;2;0;0;0m██\u001b[38;2;0;0;0m██\u001b[38;2;0;0;0m██\u001b[38;2;0;0;0m██\u001b[38;2;0;0;0m██\u001b[38;2;0;0;0m██\u001b[38;2;0;0;0m██\u001b[38;2;0;0;0m██\u001b[38;2;0;0;0m██\u001b[38;2;0;0;0m██\u001b[38;2;0;0;0m██\u001b[38;2;0;0;0m██\u001b[38;2;0;0;0m██\u001b[38;2;0;0;0m██\u001b[38;2;0;0;0m██\u001b[38;2;0;0;0m██\u001b[38;2;0;0;0m██\u001b[0m\n",
       "\u001b[0m\u001b[38;2;0;0;0m██\u001b[38;2;0;0;0m██\u001b[38;2;0;0;0m██\u001b[38;2;0;0;0m██\u001b[38;2;0;0;0m██\u001b[38;2;0;0;0m██\u001b[38;2;0;0;0m██\u001b[38;2;0;0;0m██\u001b[38;2;0;0;0m██\u001b[38;2;0;0;0m██\u001b[38;2;0;0;0m██\u001b[38;2;0;0;0m██\u001b[38;2;0;0;0m██\u001b[38;2;0;0;0m██\u001b[38;2;0;0;0m██\u001b[38;2;0;0;0m██\u001b[38;2;0;0;0m██\u001b[38;2;0;0;0m██\u001b[38;2;0;0;0m██\u001b[38;2;0;0;0m██\u001b[38;2;0;0;0m██\u001b[38;2;0;0;0m██\u001b[38;2;0;0;0m██\u001b[38;2;0;0;0m██\u001b[38;2;0;0;0m██\u001b[38;2;0;0;0m██\u001b[38;2;0;0;0m██\u001b[38;2;0;0;0m██\u001b[0m\n",
       "\u001b[0m\u001b[38;2;0;0;0m██\u001b[38;2;0;0;0m██\u001b[38;2;0;0;0m██\u001b[38;2;0;0;0m██\u001b[38;2;0;0;0m██\u001b[38;2;0;0;0m██\u001b[38;2;0;0;0m██\u001b[38;2;0;0;0m██\u001b[38;2;0;0;0m██\u001b[38;2;0;0;0m██\u001b[38;2;0;0;0m██\u001b[38;2;0;0;0m██\u001b[38;2;0;0;0m██\u001b[38;2;0;0;0m██\u001b[38;2;0;0;0m██\u001b[38;2;0;0;0m██\u001b[38;2;0;0;0m██\u001b[38;2;0;0;0m██\u001b[38;2;0;0;0m██\u001b[38;2;0;0;0m██\u001b[38;2;0;0;0m██\u001b[38;2;0;0;0m██\u001b[38;2;0;0;0m██\u001b[38;2;0;0;0m██\u001b[38;2;0;0;0m██\u001b[38;2;0;0;0m██\u001b[38;2;0;0;0m██\u001b[38;2;0;0;0m██\u001b[0m"
      ]
     },
     "execution_count": 70,
     "metadata": {},
     "output_type": "execute_result"
    }
   ],
   "source": [
    "convert2image(MNIST,cnn_output[:,:,1,1])"
   ]
  },
  {
   "cell_type": "code",
   "execution_count": null,
   "metadata": {},
   "outputs": [],
   "source": []
  },
  {
   "cell_type": "code",
   "execution_count": null,
   "metadata": {},
   "outputs": [],
   "source": []
  },
  {
   "cell_type": "code",
   "execution_count": null,
   "metadata": {},
   "outputs": [],
   "source": []
  },
  {
   "cell_type": "markdown",
   "metadata": {},
   "source": [
    "#### <span style=\"color:orange\"> try SamePad() </span>"
   ]
  },
  {
   "cell_type": "code",
   "execution_count": 71,
   "metadata": {},
   "outputs": [
    {
     "data": {
      "text/plain": [
       "Conv((5, 5), 1 => 1, pad=2)  \u001b[90m# 26 parameters\u001b[39m"
      ]
     },
     "execution_count": 71,
     "metadata": {},
     "output_type": "execute_result"
    }
   ],
   "source": [
    "cnn_layer3 = Conv( (5,5) , 1 => 1 , pad = SamePad() ) #apply some padding using the SamePad() function helper"
   ]
  },
  {
   "cell_type": "code",
   "execution_count": 72,
   "metadata": {},
   "outputs": [
    {
     "data": {
      "text/plain": [
       "(100, 100, 1, 10)"
      ]
     },
     "execution_count": 72,
     "metadata": {},
     "output_type": "execute_result"
    }
   ],
   "source": [
    "cnn_output3 = cnn_layer3( x )\n",
    "size( cnn_output3 )"
   ]
  },
  {
   "cell_type": "code",
   "execution_count": 73,
   "metadata": {},
   "outputs": [
    {
     "data": {
      "text/plain": [
       "true"
      ]
     },
     "execution_count": 73,
     "metadata": {},
     "output_type": "execute_result"
    }
   ],
   "source": [
    "size( x ) == size( cnn_output3 )"
   ]
  },
  {
   "cell_type": "markdown",
   "metadata": {},
   "source": [
    "<span style=\"color:orange\"> What happens to the size on repeated applications of a filter </span>"
   ]
  },
  {
   "cell_type": "code",
   "execution_count": 75,
   "metadata": {},
   "outputs": [],
   "source": [
    "x = rand(Float32, 100, 100, 1, 10); #batch of monochrome images"
   ]
  },
  {
   "cell_type": "code",
   "execution_count": 76,
   "metadata": {},
   "outputs": [
    {
     "data": {
      "text/plain": [
       "Chain(\n",
       "  Conv((5, 5), 1 => 3),                 \u001b[90m# 78 parameters\u001b[39m\n",
       "  Conv((5, 5), 3 => 5),                 \u001b[90m# 380 parameters\u001b[39m\n",
       "  Conv((5, 5), 5 => 1),                 \u001b[90m# 126 parameters\u001b[39m\n",
       ") \u001b[90m                  # Total: 6 arrays, \u001b[39m584 parameters, 3.336 KiB."
      ]
     },
     "execution_count": 76,
     "metadata": {},
     "output_type": "execute_result"
    }
   ],
   "source": [
    "cnn_layer = Chain( Conv( (5,5) , 1=>3 ) , Conv( (5,5) , 3=>5 ) , Conv( (5,5) , 5=>1 ) ) "
   ]
  },
  {
   "cell_type": "code",
   "execution_count": 77,
   "metadata": {},
   "outputs": [
    {
     "data": {
      "text/plain": [
       "(88, 88, 1, 10)"
      ]
     },
     "execution_count": 77,
     "metadata": {},
     "output_type": "execute_result"
    }
   ],
   "source": [
    "cnn_output = cnn_layer( x )\n",
    "size( cnn_output )"
   ]
  },
  {
   "cell_type": "code",
   "execution_count": 79,
   "metadata": {},
   "outputs": [
    {
     "data": {
      "text/plain": [
       "(16, 16, 1, 3)"
      ]
     },
     "metadata": {},
     "output_type": "display_data"
    },
    {
     "data": {
      "image/png": "[encoded data removed]",
      "text/html": [
       "<img src=\"data:image/png;base64,iVBORw0KGgoAAAANSUhEUgAAAHAAAABwCAAAAADji6uXAAAABGdBTUEAALGPC/xhBQAAAAFzUkdCAK7OHOkAAAAgY0hSTQAAeiYAAICEAAD6AAAAgOgAAHUwAADqYAAAOpgAABdwnLpRPAAAAiRJREFUaAW9wc1OlAcAheFXegw4TBFBwVLTkuDGuOIGvN9uewu66MIYY+LShKhUaIPhR2YER2jyrr6FREma8zxZRGdoxv9oHR2gDRTKQlkoC2WhLJTllGtaQ+toBU3RDbSFHqLn6BiFslAWykJZKAtlWUAjdBeN0QRtoRcoaBsFvUAr6BA9RXPoGQploSyUhbJQFsqyjZbRT+hX9AbNowfoFVpAK2gP/YbeopdonaFQFspCWSgLZaEsMzRBb9EEjdEOCjpDf6EltIf+RBtohFbRCQploSyUhbJQFsqyhxbRAbqBttEttMvQK7TMN/zN0Dv0GYWyUBbKQlkoC2WZR1/QMppDMzSHVhjaQYcoaMY3nDAUykJZKAtloSyU5RQtoSmaoQ9oDb1kKGiGvvKjQlkoC2WhLJSFskxR0DG6RPfRiKET9Bi9RovoE98VykJZKAtloSyU5RgFBU3QPhqjR+icoV/QPldbQOcolIWyUBbKQlkoy010C03ROVpFU3SJ1tAztIouuNpnhkJZKAtloSyUhbJcoF30AG2gI/Q72kG7aIImfNcmeo9CWSgLZaEslIWyXKIxukDLaBf9g8boX67pI7qHQlkoC2WhLJSFstxGX9B7rjblaptoCX1CR+gMfUChLJSFslAWykJZbqIDrmkbjdETdI7+QD+jSzRCoSyUhbJQFspCWfb4UZvoNtpCd9A+OkQjdIo+MhTKQlkoC2WhLJT9B2zZYTKaqy4eAAAAAElFTkSuQmCC\">"
      ],
      "text/plain": [
       "\u001b[0m\u001b[38;2;11;11;11m██\u001b[38;2;4;4;4m██\u001b[38;2;0;0;0m██\u001b[38;2;0;0;0m██\u001b[38;2;0;0;0m██\u001b[38;2;0;0;0m██\u001b[38;2;0;0;0m██\u001b[38;2;0;0;0m██\u001b[38;2;0;0;0m██\u001b[38;2;0;0;0m██\u001b[38;2;0;0;0m██\u001b[38;2;0;0;0m██\u001b[38;2;0;0;0m██\u001b[38;2;23;23;23m██\u001b[38;2;4;4;4m██\u001b[38;2;30;30;30m██\u001b[0m\n",
       "\u001b[0m\u001b[38;2;0;0;0m██\u001b[38;2;0;0;0m██\u001b[38;2;0;0;0m██\u001b[38;2;0;0;0m██\u001b[38;2;0;0;0m██\u001b[38;2;0;0;0m██\u001b[38;2;0;0;0m██\u001b[38;2;22;22;22m██\u001b[38;2;45;45;45m██\u001b[38;2;63;63;63m██\u001b[38;2;54;54;54m██\u001b[38;2;55;55;55m██\u001b[38;2;90;90;90m██\u001b[38;2;126;126;126m██\u001b[38;2;74;74;74m██\u001b[38;2;60;60;60m██\u001b[0m\n",
       "\u001b[0m\u001b[38;2;8;8;8m██\u001b[38;2;18;18;18m██\u001b[38;2;38;38;38m██\u001b[38;2;50;50;50m██\u001b[38;2;40;40;40m██\u001b[38;2;75;75;75m██\u001b[38;2;25;25;25m██\u001b[38;2;29;29;29m██\u001b[38;2;94;94;94m██\u001b[38;2;98;98;98m██\u001b[38;2;48;48;48m██\u001b[38;2;66;66;66m██\u001b[38;2;74;74;74m██\u001b[38;2;65;65;65m██\u001b[38;2;67;67;67m██\u001b[38;2;0;0;0m██\u001b[0m\n",
       "\u001b[0m\u001b[38;2;57;57;57m██\u001b[38;2;73;73;73m██\u001b[38;2;76;76;76m██\u001b[38;2;103;103;103m██\u001b[38;2;68;68;68m██\u001b[38;2;82;82;82m██\u001b[38;2;53;53;53m██\u001b[38;2;7;7;7m██\u001b[38;2;102;102;102m██\u001b[38;2;120;120;120m██\u001b[38;2;24;24;24m██\u001b[38;2;78;78;78m██\u001b[38;2;48;48;48m██\u001b[38;2;0;0;0m██\u001b[38;2;23;23;23m██\u001b[38;2;0;0;0m██\u001b[0m\n",
       "\u001b[0m\u001b[38;2;53;53;53m██\u001b[38;2;63;63;63m██\u001b[38;2;33;33;33m██\u001b[38;2;66;66;66m██\u001b[38;2;78;78;78m██\u001b[38;2;50;50;50m██\u001b[38;2;54;54;54m██\u001b[38;2;0;0;0m██\u001b[38;2;46;46;46m██\u001b[38;2;60;60;60m██\u001b[38;2;0;0;0m██\u001b[38;2;0;0;0m██\u001b[38;2;26;26;26m██\u001b[38;2;10;10;10m██\u001b[38;2;42;42;42m██\u001b[38;2;10;10;10m██\u001b[0m\n",
       "\u001b[0m\u001b[38;2;29;29;29m██\u001b[38;2;40;40;40m██\u001b[38;2;14;14;14m██\u001b[38;2;34;34;34m██\u001b[38;2;83;83;83m██\u001b[38;2;59;59;59m██\u001b[38;2;32;32;32m██\u001b[38;2;0;0;0m██\u001b[38;2;0;0;0m██\u001b[38;2;16;16;16m██\u001b[38;2;0;0;0m██\u001b[38;2;0;0;0m██\u001b[38;2;0;0;0m██\u001b[38;2;0;0;0m██\u001b[38;2;13;13;13m██\u001b[38;2;2;2;2m██\u001b[0m\n",
       "\u001b[0m\u001b[38;2;36;36;36m██\u001b[38;2;35;35;35m██\u001b[38;2;30;30;30m██\u001b[38;2;36;36;36m██\u001b[38;2;79;79;79m██\u001b[38;2;61;61;61m██\u001b[38;2;50;50;50m██\u001b[38;2;32;32;32m██\u001b[38;2;0;0;0m██\u001b[38;2;0;0;0m██\u001b[38;2;4;4;4m██\u001b[38;2;0;0;0m██\u001b[38;2;0;0;0m██\u001b[38;2;0;0;0m██\u001b[38;2;0;0;0m██\u001b[38;2;0;0;0m██\u001b[0m\n",
       "\u001b[0m\u001b[38;2;25;25;25m██\u001b[38;2;39;39;39m██\u001b[38;2;26;26;26m██\u001b[38;2;26;26;26m██\u001b[38;2;54;54;54m██\u001b[38;2;76;76;76m██\u001b[38;2;13;13;13m██\u001b[38;2;13;13;13m██\u001b[38;2;4;4;4m██\u001b[38;2;0;0;0m██\u001b[38;2;1;1;1m██\u001b[38;2;0;0;0m██\u001b[38;2;0;0;0m██\u001b[38;2;0;0;0m██\u001b[38;2;0;0;0m██\u001b[38;2;0;0;0m██\u001b[0m\n",
       "\u001b[0m\u001b[38;2;16;16;16m██\u001b[38;2;29;29;29m██\u001b[38;2;12;12;12m██\u001b[38;2;11;11;11m██\u001b[38;2;50;50;50m██\u001b[38;2;86;86;86m██\u001b[38;2;13;13;13m██\u001b[38;2;0;0;0m██\u001b[38;2;43;43;43m██\u001b[38;2;0;0;0m██\u001b[38;2;12;12;12m██\u001b[38;2;0;0;0m██\u001b[38;2;0;0;0m██\u001b[38;2;0;0;0m██\u001b[38;2;0;0;0m██\u001b[38;2;0;0;0m██\u001b[0m\n",
       "\u001b[0m\u001b[38;2;2;2;2m██\u001b[38;2;20;20;20m██\u001b[38;2;16;16;16m██\u001b[38;2;6;6;6m██\u001b[38;2;27;27;27m██\u001b[38;2;62;62;62m██\u001b[38;2;54;54;54m██\u001b[38;2;48;48;48m██\u001b[38;2;48;48;48m██\u001b[38;2;25;25;25m██\u001b[38;2;2;2;2m██\u001b[38;2;0;0;0m██\u001b[38;2;0;0;0m██\u001b[38;2;0;0;0m██\u001b[38;2;8;8;8m██\u001b[38;2;2;2;2m██\u001b[0m\n",
       "\u001b[0m\u001b[38;2;7;7;7m██\u001b[38;2;29;29;29m██\u001b[38;2;20;20;20m██\u001b[38;2;0;0;0m██\u001b[38;2;46;46;46m██\u001b[38;2;53;53;53m██\u001b[38;2;52;52;52m██\u001b[38;2;70;70;70m██\u001b[38;2;10;10;10m██\u001b[38;2;29;29;29m██\u001b[38;2;0;0;0m██\u001b[38;2;0;0;0m██\u001b[38;2;0;0;0m██\u001b[38;2;0;0;0m██\u001b[38;2;0;0;0m██\u001b[38;2;0;0;0m██\u001b[0m\n",
       "\u001b[0m\u001b[38;2;5;5;5m██\u001b[38;2;2;2;2m██\u001b[38;2;30;30;30m██\u001b[38;2;26;26;26m██\u001b[38;2;31;31;31m██\u001b[38;2;62;62;62m██\u001b[38;2;30;30;30m██\u001b[38;2;25;25;25m██\u001b[38;2;0;0;0m██\u001b[38;2;0;0;0m██\u001b[38;2;0;0;0m██\u001b[38;2;0;0;0m██\u001b[38;2;0;0;0m██\u001b[38;2;0;0;0m██\u001b[38;2;32;32;32m██\u001b[38;2;4;4;4m██\u001b[0m\n",
       "\u001b[0m\u001b[38;2;4;4;4m██\u001b[38;2;14;14;14m██\u001b[38;2;28;28;28m██\u001b[38;2;42;42;42m██\u001b[38;2;15;15;15m██\u001b[38;2;9;9;9m██\u001b[38;2;21;21;21m██\u001b[38;2;0;0;0m██\u001b[38;2;0;0;0m██\u001b[38;2;0;0;0m██\u001b[38;2;0;0;0m██\u001b[38;2;0;0;0m██\u001b[38;2;0;0;0m██\u001b[38;2;0;0;0m██\u001b[38;2;14;14;14m██\u001b[38;2;25;25;25m██\u001b[0m\n",
       "\u001b[0m\u001b[38;2;19;19;19m██\u001b[38;2;14;14;14m██\u001b[38;2;0;0;0m██\u001b[38;2;0;0;0m██\u001b[38;2;0;0;0m██\u001b[38;2;0;0;0m██\u001b[38;2;0;0;0m██\u001b[38;2;0;0;0m██\u001b[38;2;0;0;0m██\u001b[38;2;0;0;0m██\u001b[38;2;32;32;32m██\u001b[38;2;46;46;46m██\u001b[38;2;34;34;34m██\u001b[38;2;19;19;19m██\u001b[38;2;12;12;12m██\u001b[38;2;0;0;0m██\u001b[0m\n",
       "\u001b[0m\u001b[38;2;24;24;24m██\u001b[38;2;0;0;0m██\u001b[38;2;0;0;0m██\u001b[38;2;0;0;0m██\u001b[38;2;0;0;0m██\u001b[38;2;0;0;0m██\u001b[38;2;0;0;0m██\u001b[38;2;0;0;0m██\u001b[38;2;49;49;49m██\u001b[38;2;61;61;61m██\u001b[38;2;123;123;123m██\u001b[38;2;117;117;117m██\u001b[38;2;30;30;30m██\u001b[38;2;32;32;32m██\u001b[38;2;18;18;18m██\u001b[38;2;10;10;10m██\u001b[0m\n",
       "\u001b[0m\u001b[38;2;0;0;0m██\u001b[38;2;0;0;0m██\u001b[38;2;0;0;0m██\u001b[38;2;0;0;0m██\u001b[38;2;0;0;0m██\u001b[38;2;0;0;0m██\u001b[38;2;32;32;32m██\u001b[38;2;47;47;47m██\u001b[38;2;84;84;84m██\u001b[38;2;101;101;101m██\u001b[38;2;100;100;100m██\u001b[38;2;84;84;84m██\u001b[38;2;40;40;40m██\u001b[38;2;29;29;29m██\u001b[38;2;0;0;0m██\u001b[38;2;0;0;0m██\u001b[0m"
      ]
     },
     "execution_count": 79,
     "metadata": {},
     "output_type": "execute_result"
    }
   ],
   "source": [
    "cnn_output = cnn_layer(images[:,:,:,1:3])\n",
    "display( cnn_output |> size )\n",
    "convert2image(MNIST,cnn_output[:,:,1,1])"
   ]
  },
  {
   "cell_type": "code",
   "execution_count": null,
   "metadata": {},
   "outputs": [],
   "source": []
  },
  {
   "cell_type": "code",
   "execution_count": 86,
   "metadata": {},
   "outputs": [
    {
     "data": {
      "text/plain": [
       "Chain(\n",
       "  Conv((5, 5), 1 => 3, pad=2),          \u001b[90m# 78 parameters\u001b[39m\n",
       "  Conv((5, 5), 3 => 5, pad=2),          \u001b[90m# 380 parameters\u001b[39m\n",
       "  Conv((5, 5), 5 => 1, pad=2),          \u001b[90m# 126 parameters\u001b[39m\n",
       ") \u001b[90m                  # Total: 6 arrays, \u001b[39m584 parameters, 3.336 KiB."
      ]
     },
     "execution_count": 86,
     "metadata": {},
     "output_type": "execute_result"
    }
   ],
   "source": [
    "cnn_layer_same_pad = Chain( Conv((5,5),1=>3,pad=SamePad()),Conv((5,5),3=>5,pad=SamePad()),Conv((5,5),5=>1,pad=SamePad()) ) "
   ]
  },
  {
   "cell_type": "code",
   "execution_count": 87,
   "metadata": {},
   "outputs": [
    {
     "data": {
      "text/plain": [
       "(100, 100, 1, 10)"
      ]
     },
     "execution_count": 87,
     "metadata": {},
     "output_type": "execute_result"
    }
   ],
   "source": [
    "cnn_layer_same_pad_res = cnn_layer_same_pad( x )\n",
    "size( cnn_layer_same_pad_res )"
   ]
  },
  {
   "cell_type": "code",
   "execution_count": 88,
   "metadata": {},
   "outputs": [
    {
     "data": {
      "text/plain": [
       "(28, 28, 1, 3)"
      ]
     },
     "metadata": {},
     "output_type": "display_data"
    },
    {
     "data": {
      "image/png": "[encoded data removed]",
      "text/html": [
       "<img src=\"data:image/png;base64,iVBORw0KGgoAAAANSUhEUgAAAHAAAABwCAAAAADji6uXAAAABGdBTUEAALGPC/xhBQAAAAFzUkdCAK7OHOkAAAAgY0hSTQAAeiYAAICEAAD6AAAAgOgAAHUwAADqYAAAOpgAABdwnLpRPAAAA5xJREFUaAW9wctuVAUYAODvzPzt9ELpxRApBENiNBqjLlzgWxjjQ5gYdz6FC1/DDSu2JC7cGDdGJDEaiZEGRCktLaUzZabnYpPT5HSgIrj4vy+cotAqTGvQ6MxggANUmMEiXsVdDHUWcIiQLCQLycKxAgVqNFo9VDpz6GNGq8I+ZlEh0MMIQ9NGWiFZSBaShRNq09awgBIP8AQFGgzQwzxGWgdYQU/nDNaxjYcIyUKykCwcK9CYNkKDGhOtRmustY6RzgBbOmMsYg4DhGQhWUgWjhToozZtiKHn+8u026Yd4oZOSBaShWThWCVHSBaShWThSINGjpAsJAvJwpECPVQ657CI217cKnZ0FjDGAPNoEJKFZCFZODaLGos4j1V8gD38iJ886zN8hxtaV7CDAXbRwxP0UWEXIVlIFpKFIw3GmMcSLqGPwDl8ilu4h6uosYQz+BzXcAe3cBkl1rCBA5Q4RImQLCQLycKxGkPUWMUK/sA5FHgbdzCHEQa4gzfxCUa4jm1U2MR9zOAQFcYIyUKykCw8pcBjzGIegcBlvIub+A1buIptnMcFTLCJA4xQ4JFpIVlIFpKFE/o4i0Kr0vodJdbxMb7UKnHdtMsoMcCWZ4VkIVlIFk5ocIgn2MECxujhW6xjGR/hmtPdxjLewAQPTAvJQrKQLJxQYw8j9FGihz1UuIWLeAeL+NrpHmGIHmYx0QnJQrKQLDylRIkGJQrM4DxWsYUSM/gCXzndLzqzKFEjJAvJQrJwpECBBo3OGGNs4AFewxoOcB8DvIebnm+iE5KFZCFZ9NCgNi0whyFGaLCLWbyO7/GNFxOo0CAkC8lCsqh1+lhFiTH2tQpcwAYq/OrllDohWUgWkoUTKjxG4ECnwZ9ezhLm0ccmajQIyUKykCwcKdBojTH24hYw8qxAYA81Gq2QLCQLycKRxst7H4ENLGGARfRRIjBED4ESDUKykCwkC//DKoYY4BKWsYx7GKLGY+xhz7SQLCQLycKxwFmMMfTvBpjFWziHCvvYxxx2sYkDTLQKNFohWUgWksUsAuu4gg9RYRsP0McQY4yxghVM8Ag7GGET29jGIUKn0QnJQrKQLJZwEefR4AfUWMUAE8xjHvOYwT42UeEh7uIhJii1SqcLyUKykCy2sY8drOMVXMQZrGEBy9jCCD9jB1v4Gw8xwSFq/y0kC8lCsnCkxi56KDHBNnrYwxBjTLCLR3iiVaHy4kKykCwk+wfdcASGjokqnQAAAABJRU5ErkJg\">"
      ],
      "text/plain": [
       "\u001b[0m\u001b[38;2;0;0;0m██\u001b[38;2;0;0;0m██\u001b[38;2;0;0;0m██\u001b[38;2;0;0;0m██\u001b[38;2;0;0;0m██\u001b[38;2;1;1;1m██\u001b[38;2;1;1;1m██\u001b[38;2;2;2;2m██\u001b[38;2;2;2;2m██\u001b[38;2;2;2;2m██\u001b[38;2;2;2;2m██\u001b[38;2;1;1;1m██\u001b[38;2;0;0;0m██\u001b[38;2;0;0;0m██\u001b[38;2;0;0;0m██\u001b[38;2;5;5;5m██\u001b[38;2;12;12;12m██\u001b[38;2;3;3;3m██\u001b[38;2;0;0;0m██\u001b[38;2;5;5;5m██\u001b[38;2;16;16;16m██\u001b[38;2;39;39;39m██\u001b[38;2;11;11;11m██\u001b[38;2;0;0;0m██\u001b[38;2;0;0;0m██\u001b[38;2;0;0;0m██\u001b[38;2;10;10;10m██\u001b[38;2;5;5;5m██\u001b[0m\n",
       "\u001b[0m\u001b[38;2;0;0;0m██\u001b[38;2;0;0;0m██\u001b[38;2;1;1;1m██\u001b[38;2;2;2;2m██\u001b[38;2;0;0;0m██\u001b[38;2;0;0;0m██\u001b[38;2;0;0;0m██\u001b[38;2;3;3;3m██\u001b[38;2;0;0;0m██\u001b[38;2;0;0;0m██\u001b[38;2;0;0;0m██\u001b[38;2;8;8;8m██\u001b[38;2;11;11;11m██\u001b[38;2;16;16;16m██\u001b[38;2;16;16;16m██\u001b[38;2;13;13;13m██\u001b[38;2;1;1;1m██\u001b[38;2;7;7;7m██\u001b[38;2;0;0;0m██\u001b[38;2;9;9;9m██\u001b[38;2;18;18;18m██\u001b[38;2;29;29;29m██\u001b[38;2;0;0;0m██\u001b[38;2;0;0;0m██\u001b[38;2;0;0;0m██\u001b[38;2;0;0;0m██\u001b[38;2;0;0;0m██\u001b[38;2;0;0;0m██\u001b[0m\n",
       "\u001b[0m\u001b[38;2;0;0;0m██\u001b[38;2;0;0;0m██\u001b[38;2;1;1;1m██\u001b[38;2;0;0;0m██\u001b[38;2;0;0;0m██\u001b[38;2;0;0;0m██\u001b[38;2;0;0;0m██\u001b[38;2;21;21;21m██\u001b[38;2;31;31;31m██\u001b[38;2;27;27;27m██\u001b[38;2;6;6;6m██\u001b[38;2;0;0;0m██\u001b[38;2;1;1;1m██\u001b[38;2;0;0;0m██\u001b[38;2;7;7;7m██\u001b[38;2;9;9;9m██\u001b[38;2;10;10;10m██\u001b[38;2;0;0;0m██\u001b[38;2;0;0;0m██\u001b[38;2;0;0;0m██\u001b[38;2;25;25;25m██\u001b[38;2;31;31;31m██\u001b[38;2;0;0;0m██\u001b[38;2;0;0;0m██\u001b[38;2;12;12;12m██\u001b[38;2;37;37;37m██\u001b[38;2;18;18;18m██\u001b[38;2;0;0;0m██\u001b[0m\n",
       "\u001b[0m\u001b[38;2;0;0;0m██\u001b[38;2;0;0;0m██\u001b[38;2;2;2;2m██\u001b[38;2;0;0;0m██\u001b[38;2;0;0;0m██\u001b[38;2;0;0;0m██\u001b[38;2;0;0;0m██\u001b[38;2;11;11;11m██\u001b[38;2;20;20;20m██\u001b[38;2;18;18;18m██\u001b[38;2;0;0;0m██\u001b[38;2;0;0;0m██\u001b[38;2;0;0;0m██\u001b[38;2;0;0;0m██\u001b[38;2;0;0;0m██\u001b[38;2;0;0;0m██\u001b[38;2;25;25;25m██\u001b[38;2;0;0;0m██\u001b[38;2;0;0;0m██\u001b[38;2;0;0;0m██\u001b[38;2;32;32;32m██\u001b[38;2;12;12;12m██\u001b[38;2;0;0;0m██\u001b[38;2;0;0;0m██\u001b[38;2;5;5;5m██\u001b[38;2;48;48;48m██\u001b[38;2;45;45;45m██\u001b[38;2;25;25;25m██\u001b[0m\n",
       "\u001b[0m\u001b[38;2;0;0;0m██\u001b[38;2;1;1;1m██\u001b[38;2;5;5;5m██\u001b[38;2;0;0;0m██\u001b[38;2;0;0;0m██\u001b[38;2;0;0;0m██\u001b[38;2;0;0;0m██\u001b[38;2;0;0;0m██\u001b[38;2;0;0;0m██\u001b[38;2;0;0;0m██\u001b[38;2;0;0;0m██\u001b[38;2;0;0;0m██\u001b[38;2;0;0;0m██\u001b[38;2;0;0;0m██\u001b[38;2;0;0;0m██\u001b[38;2;0;0;0m██\u001b[38;2;0;0;0m██\u001b[38;2;0;0;0m██\u001b[38;2;0;0;0m██\u001b[38;2;0;0;0m██\u001b[38;2;0;0;0m██\u001b[38;2;0;0;0m██\u001b[38;2;0;0;0m██\u001b[38;2;0;0;0m██\u001b[38;2;0;0;0m██\u001b[38;2;0;0;0m██\u001b[38;2;0;0;0m██\u001b[38;2;0;0;0m██\u001b[0m\n",
       "\u001b[0m\u001b[38;2;0;0;0m██\u001b[38;2;1;1;1m██\u001b[38;2;2;2;2m██\u001b[38;2;0;0;0m██\u001b[38;2;0;0;0m██\u001b[38;2;0;0;0m██\u001b[38;2;0;0;0m██\u001b[38;2;0;0;0m██\u001b[38;2;0;0;0m██\u001b[38;2;0;0;0m██\u001b[38;2;0;0;0m██\u001b[38;2;0;0;0m██\u001b[38;2;0;0;0m██\u001b[38;2;0;0;0m██\u001b[38;2;0;0;0m██\u001b[38;2;0;0;0m██\u001b[38;2;0;0;0m██\u001b[38;2;0;0;0m██\u001b[38;2;0;0;0m██\u001b[38;2;0;0;0m██\u001b[38;2;0;0;0m██\u001b[38;2;0;0;0m██\u001b[38;2;0;0;0m██\u001b[38;2;0;0;0m██\u001b[38;2;0;0;0m██\u001b[38;2;0;0;0m██\u001b[38;2;0;0;0m██\u001b[38;2;0;0;0m██\u001b[0m\n",
       "\u001b[0m\u001b[38;2;0;0;0m██\u001b[38;2;0;0;0m██\u001b[38;2;0;0;0m██\u001b[38;2;0;0;0m██\u001b[38;2;0;0;0m██\u001b[38;2;0;0;0m██\u001b[38;2;0;0;0m██\u001b[38;2;0;0;0m██\u001b[38;2;0;0;0m██\u001b[38;2;0;0;0m██\u001b[38;2;0;0;0m██\u001b[38;2;0;0;0m██\u001b[38;2;0;0;0m██\u001b[38;2;0;0;0m██\u001b[38;2;0;0;0m██\u001b[38;2;0;0;0m██\u001b[38;2;0;0;0m██\u001b[38;2;0;0;0m██\u001b[38;2;0;0;0m██\u001b[38;2;0;0;0m██\u001b[38;2;0;0;0m██\u001b[38;2;0;0;0m██\u001b[38;2;0;0;0m██\u001b[38;2;0;0;0m██\u001b[38;2;0;0;0m██\u001b[38;2;0;0;0m██\u001b[38;2;0;0;0m██\u001b[38;2;0;0;0m██\u001b[0m\n",
       "\u001b[0m\u001b[38;2;0;0;0m██\u001b[38;2;1;1;1m██\u001b[38;2;3;3;3m██\u001b[38;2;0;0;0m██\u001b[38;2;0;0;0m██\u001b[38;2;0;0;0m██\u001b[38;2;21;21;21m██\u001b[38;2;32;32;32m██\u001b[38;2;0;0;0m██\u001b[38;2;0;0;0m██\u001b[38;2;0;0;0m██\u001b[38;2;0;0;0m██\u001b[38;2;0;0;0m██\u001b[38;2;0;0;0m██\u001b[38;2;0;0;0m██\u001b[38;2;0;0;0m██\u001b[38;2;0;0;0m██\u001b[38;2;0;0;0m██\u001b[38;2;0;0;0m██\u001b[38;2;17;17;17m██\u001b[38;2;0;0;0m██\u001b[38;2;0;0;0m██\u001b[38;2;0;0;0m██\u001b[38;2;10;10;10m██\u001b[38;2;3;3;3m██\u001b[38;2;10;10;10m██\u001b[38;2;19;19;19m██\u001b[38;2;18;18;18m██\u001b[0m\n",
       "\u001b[0m\u001b[38;2;0;0;0m██\u001b[38;2;1;1;1m██\u001b[38;2;9;9;9m██\u001b[38;2;7;7;7m██\u001b[38;2;18;18;18m██\u001b[38;2;42;42;42m██\u001b[38;2;59;59;59m██\u001b[38;2;110;110;110m██\u001b[38;2;96;96;96m██\u001b[38;2;47;47;47m██\u001b[38;2;0;0;0m██\u001b[38;2;0;0;0m██\u001b[38;2;0;0;0m██\u001b[38;2;0;0;0m██\u001b[38;2;0;0;0m██\u001b[38;2;106;106;106m██\u001b[38;2;48;48;48m██\u001b[38;2;0;0;0m██\u001b[38;2;0;0;0m██\u001b[38;2;72;72;72m██\u001b[38;2;55;55;55m██\u001b[38;2;62;62;62m██\u001b[38;2;46;46;46m██\u001b[38;2;48;48;48m██\u001b[38;2;40;40;40m██\u001b[38;2;43;43;43m██\u001b[38;2;40;40;40m██\u001b[38;2;24;24;24m██\u001b[0m\n",
       "\u001b[0m\u001b[38;2;0;0;0m██\u001b[38;2;0;0;0m██\u001b[38;2;2;2;2m██\u001b[38;2;11;11;11m██\u001b[38;2;31;31;31m██\u001b[38;2;71;71;71m██\u001b[38;2;74;74;74m██\u001b[38;2;114;114;114m██\u001b[38;2;117;117;117m██\u001b[38;2;150;150;150m██\u001b[38;2;113;113;113m██\u001b[38;2;87;87;87m██\u001b[38;2;2;2;2m██\u001b[38;2;0;0;0m██\u001b[38;2;13;13;13m██\u001b[38;2;118;118;118m██\u001b[38;2;156;156;156m██\u001b[38;2;77;77;77m██\u001b[38;2;48;48;48m██\u001b[38;2;35;35;35m██\u001b[38;2;67;67;67m██\u001b[38;2;63;63;63m██\u001b[38;2;64;64;64m██\u001b[38;2;33;33;33m██\u001b[38;2;24;24;24m██\u001b[38;2;20;20;20m██\u001b[38;2;15;15;15m██\u001b[38;2;11;11;11m██\u001b[0m\n",
       "\u001b[0m\u001b[38;2;0;0;0m██\u001b[38;2;0;0;0m██\u001b[38;2;0;0;0m██\u001b[38;2;0;0;0m██\u001b[38;2;9;9;9m██\u001b[38;2;48;48;48m██\u001b[38;2;64;64;64m██\u001b[38;2;81;81;81m██\u001b[38;2;102;102;102m██\u001b[38;2;151;151;151m██\u001b[38;2;154;154;154m██\u001b[38;2;84;84;84m██\u001b[38;2;10;10;10m██\u001b[38;2;0;0;0m██\u001b[38;2;20;20;20m██\u001b[38;2;89;89;89m██\u001b[38;2;156;156;156m██\u001b[38;2;160;160;160m██\u001b[38;2;150;150;150m██\u001b[38;2;80;80;80m██\u001b[38;2;61;61;61m██\u001b[38;2;58;58;58m██\u001b[38;2;36;36;36m██\u001b[38;2;10;10;10m██\u001b[38;2;15;15;15m██\u001b[38;2;10;10;10m██\u001b[38;2;7;7;7m██\u001b[38;2;0;0;0m██\u001b[0m\n",
       "\u001b[0m\u001b[38;2;0;0;0m██\u001b[38;2;0;0;0m██\u001b[38;2;0;0;0m██\u001b[38;2;0;0;0m██\u001b[38;2;10;10;10m██\u001b[38;2;35;35;35m██\u001b[38;2;54;54;54m██\u001b[38;2;73;73;73m██\u001b[38;2;106;106;106m██\u001b[38;2;155;155;155m██\u001b[38;2;187;187;187m██\u001b[38;2;129;129;129m██\u001b[38;2;38;38;38m██\u001b[38;2;0;0;0m██\u001b[38;2;0;0;0m██\u001b[38;2;4;4;4m██\u001b[38;2;70;70;70m██\u001b[38;2;94;94;94m██\u001b[38;2;120;120;120m██\u001b[38;2;74;74;74m██\u001b[38;2;39;39;39m██\u001b[38;2;30;30;30m██\u001b[38;2;20;20;20m██\u001b[38;2;11;11;11m██\u001b[38;2;0;0;0m██\u001b[38;2;0;0;0m██\u001b[38;2;0;0;0m██\u001b[38;2;0;0;0m██\u001b[0m\n",
       "\u001b[0m\u001b[38;2;0;0;0m██\u001b[38;2;0;0;0m██\u001b[38;2;0;0;0m██\u001b[38;2;3;3;3m██\u001b[38;2;24;24;24m██\u001b[38;2;36;36;36m██\u001b[38;2;54;54;54m██\u001b[38;2;70;70;70m██\u001b[38;2;106;106;106m██\u001b[38;2;120;120;120m██\u001b[38;2;151;151;151m██\u001b[38;2;154;154;154m██\u001b[38;2;119;119;119m██\u001b[38;2;0;0;0m██\u001b[38;2;0;0;0m██\u001b[38;2;0;0;0m██\u001b[38;2;0;0;0m██\u001b[38;2;0;0;0m██\u001b[38;2;0;0;0m██\u001b[38;2;0;0;0m██\u001b[38;2;32;32;32m██\u001b[38;2;26;26;26m██\u001b[38;2;27;27;27m██\u001b[38;2;0;0;0m██\u001b[38;2;0;0;0m██\u001b[38;2;0;0;0m██\u001b[38;2;0;0;0m██\u001b[38;2;0;0;0m██\u001b[0m\n",
       "\u001b[0m\u001b[38;2;0;0;0m██\u001b[38;2;0;0;0m██\u001b[38;2;0;0;0m██\u001b[38;2;2;2;2m██\u001b[38;2;19;19;19m██\u001b[38;2;28;28;28m██\u001b[38;2;37;37;37m██\u001b[38;2;64;64;64m██\u001b[38;2;99;99;99m██\u001b[38;2;122;122;122m██\u001b[38;2;88;88;88m██\u001b[38;2;113;113;113m██\u001b[38;2;128;128;128m██\u001b[38;2;79;79;79m██\u001b[38;2;0;0;0m██\u001b[38;2;0;0;0m██\u001b[38;2;0;0;0m██\u001b[38;2;0;0;0m██\u001b[38;2;0;0;0m██\u001b[38;2;0;0;0m██\u001b[38;2;0;0;0m██\u001b[38;2;15;15;15m██\u001b[38;2;52;52;52m██\u001b[38;2;21;21;21m██\u001b[38;2;0;0;0m██\u001b[38;2;0;0;0m██\u001b[38;2;0;0;0m██\u001b[38;2;0;0;0m██\u001b[0m\n",
       "\u001b[0m\u001b[38;2;0;0;0m██\u001b[38;2;0;0;0m██\u001b[38;2;0;0;0m██\u001b[38;2;0;0;0m██\u001b[38;2;5;5;5m██\u001b[38;2;9;9;9m██\u001b[38;2;12;12;12m██\u001b[38;2;33;33;33m██\u001b[38;2;66;66;66m██\u001b[38;2;85;85;85m██\u001b[38;2;82;82;82m██\u001b[38;2;76;76;76m██\u001b[38;2;103;103;103m██\u001b[38;2;122;122;122m██\u001b[38;2;90;90;90m██\u001b[38;2;0;0;0m██\u001b[38;2;0;0;0m██\u001b[38;2;0;0;0m██\u001b[38;2;0;0;0m██\u001b[38;2;0;0;0m██\u001b[38;2;0;0;0m██\u001b[38;2;0;0;0m██\u001b[38;2;41;41;41m██\u001b[38;2;23;23;23m██\u001b[38;2;6;6;6m██\u001b[38;2;0;0;0m██\u001b[38;2;0;0;0m██\u001b[38;2;0;0;0m██\u001b[0m\n",
       "\u001b[0m\u001b[38;2;0;0;0m██\u001b[38;2;0;0;0m██\u001b[38;2;0;0;0m██\u001b[38;2;0;0;0m██\u001b[38;2;1;1;1m██\u001b[38;2;1;1;1m██\u001b[38;2;0;0;0m██\u001b[38;2;8;8;8m██\u001b[38;2;34;34;34m██\u001b[38;2;71;71;71m██\u001b[38;2;95;95;95m██\u001b[38;2;112;112;112m██\u001b[38;2;92;92;92m██\u001b[38;2;99;99;99m██\u001b[38;2;95;95;95m██\u001b[38;2;115;115;115m██\u001b[38;2;0;0;0m██\u001b[38;2;0;0;0m██\u001b[38;2;0;0;0m██\u001b[38;2;0;0;0m██\u001b[38;2;0;0;0m██\u001b[38;2;0;0;0m██\u001b[38;2;0;0;0m██\u001b[38;2;0;0;0m██\u001b[38;2;0;0;0m██\u001b[38;2;6;6;6m██\u001b[38;2;2;2;2m██\u001b[38;2;0;0;0m██\u001b[0m\n",
       "\u001b[0m\u001b[38;2;0;0;0m██\u001b[38;2;1;1;1m██\u001b[38;2;2;2;2m██\u001b[38;2;1;1;1m██\u001b[38;2;0;0;0m██\u001b[38;2;0;0;0m██\u001b[38;2;0;0;0m██\u001b[38;2;1;1;1m██\u001b[38;2;27;27;27m██\u001b[38;2;40;40;40m██\u001b[38;2;50;50;50m██\u001b[38;2;80;80;80m██\u001b[38;2;98;98;98m██\u001b[38;2;90;90;90m██\u001b[38;2;67;67;67m██\u001b[38;2;102;102;102m██\u001b[38;2;46;46;46m██\u001b[38;2;0;0;0m██\u001b[38;2;0;0;0m██\u001b[38;2;0;0;0m██\u001b[38;2;0;0;0m██\u001b[38;2;0;0;0m██\u001b[38;2;0;0;0m██\u001b[38;2;0;0;0m██\u001b[38;2;0;0;0m██\u001b[38;2;0;0;0m██\u001b[38;2;0;0;0m██\u001b[38;2;0;0;0m██\u001b[0m\n",
       "\u001b[0m\u001b[38;2;2;2;2m██\u001b[38;2;1;1;1m██\u001b[38;2;0;0;0m██\u001b[38;2;0;0;0m██\u001b[38;2;0;0;0m██\u001b[38;2;0;0;0m██\u001b[38;2;4;4;4m██\u001b[38;2;12;12;12m██\u001b[38;2;16;16;16m██\u001b[38;2;17;17;17m██\u001b[38;2;16;16;16m██\u001b[38;2;34;34;34m██\u001b[38;2;40;40;40m██\u001b[38;2;75;75;75m██\u001b[38;2;11;11;11m██\u001b[38;2;0;0;0m██\u001b[38;2;0;0;0m██\u001b[38;2;0;0;0m██\u001b[38;2;0;0;0m██\u001b[38;2;0;0;0m██\u001b[38;2;0;0;0m██\u001b[38;2;0;0;0m██\u001b[38;2;0;0;0m██\u001b[38;2;0;0;0m██\u001b[38;2;0;0;0m██\u001b[38;2;4;4;4m██\u001b[38;2;1;1;1m██\u001b[38;2;0;0;0m██\u001b[0m\n",
       "\u001b[0m\u001b[38;2;0;0;0m██\u001b[38;2;0;0;0m██\u001b[38;2;0;0;0m██\u001b[38;2;3;3;3m██\u001b[38;2;20;20;20m██\u001b[38;2;16;16;16m██\u001b[38;2;9;9;9m██\u001b[38;2;0;0;0m██\u001b[38;2;0;0;0m██\u001b[38;2;1;1;1m██\u001b[38;2;27;27;27m██\u001b[38;2;3;3;3m██\u001b[38;2;0;0;0m██\u001b[38;2;0;0;0m██\u001b[38;2;0;0;0m██\u001b[38;2;0;0;0m██\u001b[38;2;0;0;0m██\u001b[38;2;0;0;0m██\u001b[38;2;0;0;0m██\u001b[38;2;0;0;0m██\u001b[38;2;0;0;0m██\u001b[38;2;0;0;0m██\u001b[38;2;0;0;0m██\u001b[38;2;0;0;0m██\u001b[38;2;0;0;0m██\u001b[38;2;0;0;0m██\u001b[38;2;0;0;0m██\u001b[38;2;0;0;0m██\u001b[0m\n",
       "\u001b[0m\u001b[38;2;0;0;0m██\u001b[38;2;0;0;0m██\u001b[38;2;0;0;0m██\u001b[38;2;0;0;0m██\u001b[38;2;7;7;7m██\u001b[38;2;11;11;11m██\u001b[38;2;0;0;0m██\u001b[38;2;0;0;0m██\u001b[38;2;0;0;0m██\u001b[38;2;0;0;0m██\u001b[38;2;0;0;0m██\u001b[38;2;0;0;0m██\u001b[38;2;0;0;0m██\u001b[38;2;0;0;0m██\u001b[38;2;0;0;0m██\u001b[38;2;0;0;0m██\u001b[38;2;0;0;0m██\u001b[38;2;0;0;0m██\u001b[38;2;0;0;0m██\u001b[38;2;0;0;0m██\u001b[38;2;0;0;0m██\u001b[38;2;0;0;0m██\u001b[38;2;13;13;13m██\u001b[38;2;22;22;22m██\u001b[38;2;25;25;25m██\u001b[38;2;3;3;3m██\u001b[38;2;1;1;1m██\u001b[38;2;0;0;0m██\u001b[0m\n",
       "\u001b[0m\u001b[38;2;0;0;0m██\u001b[38;2;1;1;1m██\u001b[38;2;0;0;0m██\u001b[38;2;0;0;0m██\u001b[38;2;0;0;0m██\u001b[38;2;0;0;0m██\u001b[38;2;0;0;0m██\u001b[38;2;0;0;0m██\u001b[38;2;0;0;0m██\u001b[38;2;0;0;0m██\u001b[38;2;0;0;0m██\u001b[38;2;0;0;0m██\u001b[38;2;0;0;0m██\u001b[38;2;0;0;0m██\u001b[38;2;0;0;0m██\u001b[38;2;0;0;0m██\u001b[38;2;10;10;10m██\u001b[38;2;0;0;0m██\u001b[38;2;0;0;0m██\u001b[38;2;0;0;0m██\u001b[38;2;0;0;0m██\u001b[38;2;0;0;0m██\u001b[38;2;17;17;17m██\u001b[38;2;26;26;26m██\u001b[38;2;12;12;12m██\u001b[38;2;1;1;1m██\u001b[38;2;0;0;0m██\u001b[38;2;0;0;0m██\u001b[0m\n",
       "\u001b[0m\u001b[38;2;0;0;0m██\u001b[38;2;0;0;0m██\u001b[38;2;0;0;0m██\u001b[38;2;0;0;0m██\u001b[38;2;0;0;0m██\u001b[38;2;0;0;0m██\u001b[38;2;0;0;0m██\u001b[38;2;0;0;0m██\u001b[38;2;0;0;0m██\u001b[38;2;0;0;0m██\u001b[38;2;0;0;0m██\u001b[38;2;0;0;0m██\u001b[38;2;0;0;0m██\u001b[38;2;0;0;0m██\u001b[38;2;47;47;47m██\u001b[38;2;51;51;51m██\u001b[38;2;20;20;20m██\u001b[38;2;23;23;23m██\u001b[38;2;30;30;30m██\u001b[38;2;41;41;41m██\u001b[38;2;44;44;44m██\u001b[38;2;40;40;40m██\u001b[38;2;44;44;44m██\u001b[38;2;33;33;33m██\u001b[38;2;14;14;14m██\u001b[38;2;5;5;5m██\u001b[38;2;1;1;1m██\u001b[38;2;0;0;0m██\u001b[0m\n",
       "\u001b[0m\u001b[38;2;0;0;0m██\u001b[38;2;0;0;0m██\u001b[38;2;0;0;0m██\u001b[38;2;0;0;0m██\u001b[38;2;0;0;0m██\u001b[38;2;0;0;0m██\u001b[38;2;0;0;0m██\u001b[38;2;0;0;0m██\u001b[38;2;0;0;0m██\u001b[38;2;0;0;0m██\u001b[38;2;0;0;0m██\u001b[38;2;0;0;0m██\u001b[38;2;0;0;0m██\u001b[38;2;17;17;17m██\u001b[38;2;36;36;36m██\u001b[38;2;43;43;43m██\u001b[38;2;49;49;49m██\u001b[38;2;64;64;64m██\u001b[38;2;79;79;79m██\u001b[38;2;53;53;53m██\u001b[38;2;42;42;42m██\u001b[38;2;38;38;38m██\u001b[38;2;31;31;31m██\u001b[38;2;17;17;17m██\u001b[38;2;0;0;0m██\u001b[38;2;0;0;0m██\u001b[38;2;0;0;0m██\u001b[38;2;0;0;0m██\u001b[0m\n",
       "\u001b[0m\u001b[38;2;0;0;0m██\u001b[38;2;0;0;0m██\u001b[38;2;4;4;4m██\u001b[38;2;18;18;18m██\u001b[38;2;11;11;11m██\u001b[38;2;0;0;0m██\u001b[38;2;0;0;0m██\u001b[38;2;0;0;0m██\u001b[38;2;0;0;0m██\u001b[38;2;0;0;0m██\u001b[38;2;0;0;0m██\u001b[38;2;0;0;0m██\u001b[38;2;7;7;7m██\u001b[38;2;23;23;23m██\u001b[38;2;76;76;76m██\u001b[38;2;97;97;97m██\u001b[38;2;94;94;94m██\u001b[38;2;82;82;82m██\u001b[38;2;70;70;70m██\u001b[38;2;61;61;61m██\u001b[38;2;37;37;37m██\u001b[38;2;15;15;15m██\u001b[38;2;6;6;6m██\u001b[38;2;0;0;0m██\u001b[38;2;0;0;0m██\u001b[38;2;1;1;1m██\u001b[38;2;0;0;0m██\u001b[38;2;0;0;0m██\u001b[0m\n",
       "\u001b[0m\u001b[38;2;6;6;6m██\u001b[38;2;10;10;10m██\u001b[38;2;35;35;35m██\u001b[38;2;90;90;90m██\u001b[38;2;146;146;146m██\u001b[38;2;143;143;143m██\u001b[38;2;124;124;124m██\u001b[38;2;103;103;103m██\u001b[38;2;106;106;106m██\u001b[38;2;95;95;95m██\u001b[38;2;88;88;88m██\u001b[38;2;81;81;81m██\u001b[38;2;97;97;97m██\u001b[38;2;113;113;113m██\u001b[38;2;107;107;107m██\u001b[38;2;92;92;92m██\u001b[38;2;75;75;75m██\u001b[38;2;65;65;65m██\u001b[38;2;43;43;43m██\u001b[38;2;24;24;24m██\u001b[38;2;5;5;5m██\u001b[38;2;0;0;0m██\u001b[38;2;4;4;4m██\u001b[38;2;0;0;0m██\u001b[38;2;0;0;0m██\u001b[38;2;0;0;0m██\u001b[38;2;0;0;0m██\u001b[38;2;0;0;0m██\u001b[0m\n",
       "\u001b[0m\u001b[38;2;19;19;19m██\u001b[38;2;46;46;46m██\u001b[38;2;70;70;70m██\u001b[38;2;89;89;89m██\u001b[38;2;95;95;95m██\u001b[38;2;93;93;93m██\u001b[38;2;110;110;110m██\u001b[38;2;110;110;110m██\u001b[38;2;104;104;104m██\u001b[38;2;104;104;104m██\u001b[38;2;104;104;104m██\u001b[38;2;113;113;113m██\u001b[38;2;118;118;118m██\u001b[38;2;106;106;106m██\u001b[38;2;84;84;84m██\u001b[38;2;81;81;81m██\u001b[38;2;57;57;57m██\u001b[38;2;29;29;29m██\u001b[38;2;11;11;11m██\u001b[38;2;5;5;5m██\u001b[38;2;1;1;1m██\u001b[38;2;0;0;0m██\u001b[38;2;0;0;0m██\u001b[38;2;0;0;0m██\u001b[38;2;0;0;0m██\u001b[38;2;0;0;0m██\u001b[38;2;0;0;0m██\u001b[38;2;0;0;0m██\u001b[0m\n",
       "\u001b[0m\u001b[38;2;0;0;0m██\u001b[38;2;7;7;7m██\u001b[38;2;29;29;29m██\u001b[38;2;54;54;54m██\u001b[38;2;73;73;73m██\u001b[38;2;100;100;100m██\u001b[38;2;122;122;122m██\u001b[38;2;140;140;140m██\u001b[38;2;150;150;150m██\u001b[38;2;165;165;165m██\u001b[38;2;145;145;145m██\u001b[38;2;135;135;135m██\u001b[38;2;92;92;92m██\u001b[38;2;75;75;75m██\u001b[38;2;55;55;55m██\u001b[38;2;31;31;31m██\u001b[38;2;13;13;13m██\u001b[38;2;7;7;7m██\u001b[38;2;2;2;2m██\u001b[38;2;0;0;0m██\u001b[38;2;0;0;0m██\u001b[38;2;0;0;0m██\u001b[38;2;0;0;0m██\u001b[38;2;0;0;0m██\u001b[38;2;0;0;0m██\u001b[38;2;0;0;0m██\u001b[38;2;0;0;0m██\u001b[38;2;0;0;0m██\u001b[0m\n",
       "\u001b[0m\u001b[38;2;0;0;0m██\u001b[38;2;5;5;5m██\u001b[38;2;13;13;13m██\u001b[38;2;31;31;31m██\u001b[38;2;50;50;50m██\u001b[38;2;67;67;67m██\u001b[38;2;81;81;81m██\u001b[38;2;83;83;83m██\u001b[38;2;69;69;69m██\u001b[38;2;58;58;58m██\u001b[38;2;51;51;51m██\u001b[38;2;45;45;45m██\u001b[38;2;29;29;29m██\u001b[38;2;14;14;14m██\u001b[38;2;6;6;6m██\u001b[38;2;6;6;6m██\u001b[38;2;3;3;3m██\u001b[38;2;0;0;0m██\u001b[38;2;0;0;0m██\u001b[38;2;0;0;0m██\u001b[38;2;0;0;0m██\u001b[38;2;0;0;0m██\u001b[38;2;0;0;0m██\u001b[38;2;0;0;0m██\u001b[38;2;0;0;0m██\u001b[38;2;0;0;0m██\u001b[38;2;0;0;0m██\u001b[38;2;0;0;0m██\u001b[0m"
      ]
     },
     "execution_count": 88,
     "metadata": {},
     "output_type": "execute_result"
    }
   ],
   "source": [
    "cnn_output = cnn_layer_same_pad(images[:,:,:,1:3])\n",
    "display( cnn_output |> size )\n",
    "convert2image(MNIST,cnn_output[:,:,1,1])"
   ]
  },
  {
   "cell_type": "code",
   "execution_count": 89,
   "metadata": {},
   "outputs": [
    {
     "data": {
      "text/plain": [
       "(100, 100, 8, 10)"
      ]
     },
     "execution_count": 89,
     "metadata": {},
     "output_type": "execute_result"
    }
   ],
   "source": [
    "cnn_layer_same_pad2 = Chain( Conv((5,5),1=>3,pad=SamePad()),Conv((5,5),3=>5,pad=SamePad()),Conv((5,5),5=>8,pad=SamePad()) ) \n",
    "cnn_layer_same_pad_res = cnn_layer_same_pad2( x )\n",
    "size( cnn_layer_same_pad_res )"
   ]
  },
  {
   "cell_type": "code",
   "execution_count": 90,
   "metadata": {},
   "outputs": [
    {
     "data": {
      "text/plain": [
       "(28, 28, 8, 3)"
      ]
     },
     "metadata": {},
     "output_type": "display_data"
    },
    {
     "data": {
      "image/png": "[encoded data removed]",
      "text/html": [
       "<img src=\"data:image/png;base64,iVBORw0KGgoAAAANSUhEUgAAAHAAAABwCAAAAADji6uXAAAABGdBTUEAALGPC/xhBQAAAAFzUkdCAK7OHOkAAAAgY0hSTQAAeiYAAICEAAD6AAAAgOgAAHUwAADqYAAAOpgAABdwnLpRPAAAA61JREFUaAW9wUtvVOcZAODnnHmN75gYBwWaS0XaIFWRWIRGavdVfm323XTXXdQGRVFE0hSJO76EYbDNjO2Z88XSZ8kcbAjK4n2ecI4GxbtbQEGDI8whMIcpxpiqQrKQLCQLr2jROV+DFq1qgIlqom/mVIOCRhWShWQhWXhNgxYzfQUzzFRH+q7hBWYY4zouYR8jDFEQkoVkIVl4RYcWxZut4gaWMUDBBr7EEbbwPVaxij38jF3sIyQLyUKy8JoOqxhgF+tYx/u4iA3Mo8N/0OIlvsEv2NW3oZqpQrKQLCQLr5nHFVzEfWxjBz/6fXYwQIsBQrKQLCQLrznA//UVv+3P+Du+w7eqa1jEJvZUIVlIFpKF3+ki/ojvVA0muIktDDFVXUKHCUKykCwkC8caFO/uC9xCi5v4F9ZwG5tYwWWM8BIFgUBIFpKFZOFYQWCqWsYSlrGEBn/D1xjiEf6BIZ6hxQR7eI7nWMTYWSFZSBaShRMd1vEM+9jHNq6iw7cYqp7in7iK/2ELD7GGZaxiU98cpgjJQrKQLJzoUPA+tp16gs/xBMvYV93GEJ/gU9zGL1jCexhhrGpRUBCShWQhWTjRYoyLaFCcmmKKfX33cA9/xZfYxg6GOHCqQ6cKyUKykCy84hBDtOhQVHdwxZt9gw18heu4g6eqRlVUIVlIFpKFE0V1pGrxIR6otrCGQ4ydtYPbuIUb2MF9FH0hWUgWkoUTBY2qQcELXMGWaoRlfIKnOND3M9awgBXM40BfSBaShWThRIsODYpqhBV9+7iBz/AUDzHCn7CM9/AYj1CcFZKFZCFZNKpOVfTtYQ2HGKv+i8/wMdbwb/yEv2AdM9zHobNCspAsJAvvoMMcxk79hIfYcOoH7OIaFp0vJAvJQrIoGGDmrAUU7DrfS4yxhpHqAI/wDKvYQ3EqJAvJQrJwbIbAVLWIKSbOt45DBC5ghqu4gCOs4LGq6AvJQrKQLBxbwmWsYRPb3uxTrGOMu6o/4ADzuIPHWMQChvpCspAsJAvHJniAB94usId9zGOA51jGPO5hphqjOCskC8lCsnCs83YfYgF7OMICtnCAwBZWsadv4qyQLCQLycKJC7iCj7CCDzDAJnZxF0vYxQgtOnSqob5AwUxfSBaShWTh2Bw+wipe4Anu4TImeIkhxriAQzSqAQo6VYMWU+cLyUKykCzmMMMOdvECE2e1mEdRFbSYORWYYubNQrKQLCSLS5hg5O06HOjrVAPMMPXbQrKQLCT7FQceBJ2Ly+frAAAAAElFTkSuQmCC\">"
      ],
      "text/plain": [
       "\u001b[0m\u001b[38;2;0;0;0m██\u001b[38;2;0;0;0m██\u001b[38;2;0;0;0m██\u001b[38;2;0;0;0m██\u001b[38;2;0;0;0m██\u001b[38;2;1;1;1m██\u001b[38;2;0;0;0m██\u001b[38;2;0;0;0m██\u001b[38;2;0;0;0m██\u001b[38;2;0;0;0m██\u001b[38;2;0;0;0m██\u001b[38;2;0;0;0m██\u001b[38;2;0;0;0m██\u001b[38;2;0;0;0m██\u001b[38;2;0;0;0m██\u001b[38;2;0;0;0m██\u001b[38;2;0;0;0m██\u001b[38;2;8;8;8m██\u001b[38;2;7;7;7m██\u001b[38;2;8;8;8m██\u001b[38;2;3;3;3m██\u001b[38;2;8;8;8m██\u001b[38;2;12;12;12m██\u001b[38;2;17;17;17m██\u001b[38;2;13;13;13m██\u001b[38;2;4;4;4m██\u001b[38;2;0;0;0m██\u001b[38;2;0;0;0m██\u001b[0m\n",
       "\u001b[0m\u001b[38;2;0;0;0m██\u001b[38;2;0;0;0m██\u001b[38;2;0;0;0m██\u001b[38;2;2;2;2m██\u001b[38;2;0;0;0m██\u001b[38;2;1;1;1m██\u001b[38;2;0;0;0m██\u001b[38;2;0;0;0m██\u001b[38;2;0;0;0m██\u001b[38;2;0;0;0m██\u001b[38;2;1;1;1m██\u001b[38;2;3;3;3m██\u001b[38;2;5;5;5m██\u001b[38;2;5;5;5m██\u001b[38;2;8;8;8m██\u001b[38;2;0;0;0m██\u001b[38;2;0;0;0m██\u001b[38;2;0;0;0m██\u001b[38;2;0;0;0m██\u001b[38;2;0;0;0m██\u001b[38;2;0;0;0m██\u001b[38;2;0;0;0m██\u001b[38;2;0;0;0m██\u001b[38;2;0;0;0m██\u001b[38;2;1;1;1m██\u001b[38;2;0;0;0m██\u001b[38;2;1;1;1m██\u001b[38;2;1;1;1m██\u001b[0m\n",
       "\u001b[0m\u001b[38;2;0;0;0m██\u001b[38;2;0;0;0m██\u001b[38;2;0;0;0m██\u001b[38;2;2;2;2m██\u001b[38;2;1;1;1m██\u001b[38;2;3;3;3m██\u001b[38;2;0;0;0m██\u001b[38;2;0;0;0m██\u001b[38;2;0;0;0m██\u001b[38;2;0;0;0m██\u001b[38;2;0;0;0m██\u001b[38;2;0;0;0m██\u001b[38;2;0;0;0m██\u001b[38;2;0;0;0m██\u001b[38;2;0;0;0m██\u001b[38;2;0;0;0m██\u001b[38;2;0;0;0m██\u001b[38;2;0;0;0m██\u001b[38;2;26;26;26m██\u001b[38;2;12;12;12m██\u001b[38;2;9;9;9m██\u001b[38;2;0;0;0m██\u001b[38;2;34;34;34m██\u001b[38;2;50;50;50m██\u001b[38;2;39;39;39m██\u001b[38;2;24;24;24m██\u001b[38;2;7;7;7m██\u001b[38;2;6;6;6m██\u001b[0m\n",
       "\u001b[0m\u001b[38;2;0;0;0m██\u001b[38;2;0;0;0m██\u001b[38;2;0;0;0m██\u001b[38;2;0;0;0m██\u001b[38;2;2;2;2m██\u001b[38;2;2;2;2m██\u001b[38;2;0;0;0m██\u001b[38;2;0;0;0m██\u001b[38;2;0;0;0m██\u001b[38;2;0;0;0m██\u001b[38;2;0;0;0m██\u001b[38;2;0;0;0m██\u001b[38;2;13;13;13m██\u001b[38;2;52;52;52m██\u001b[38;2;63;63;63m██\u001b[38;2;66;66;66m██\u001b[38;2;65;65;65m██\u001b[38;2;85;85;85m██\u001b[38;2;139;139;139m██\u001b[38;2;134;134;134m██\u001b[38;2;112;112;112m██\u001b[38;2;68;68;68m██\u001b[38;2;81;81;81m██\u001b[38;2;94;94;94m██\u001b[38;2;82;82;82m██\u001b[38;2;46;46;46m██\u001b[38;2;11;11;11m██\u001b[38;2;0;0;0m██\u001b[0m\n",
       "\u001b[0m\u001b[38;2;0;0;0m██\u001b[38;2;0;0;0m██\u001b[38;2;0;0;0m██\u001b[38;2;0;0;0m██\u001b[38;2;0;0;0m██\u001b[38;2;13;13;13m██\u001b[38;2;16;16;16m██\u001b[38;2;3;3;3m██\u001b[38;2;21;21;21m██\u001b[38;2;39;39;39m██\u001b[38;2;60;60;60m██\u001b[38;2;74;74;74m██\u001b[38;2;94;94;94m██\u001b[38;2;101;101;101m██\u001b[38;2;99;99;99m██\u001b[38;2;48;48;48m██\u001b[38;2;50;50;50m██\u001b[38;2;55;55;55m██\u001b[38;2;32;32;32m██\u001b[38;2;13;13;13m██\u001b[38;2;0;0;0m██\u001b[38;2;0;0;0m██\u001b[38;2;0;0;0m██\u001b[38;2;0;0;0m██\u001b[38;2;20;20;20m██\u001b[38;2;20;20;20m██\u001b[38;2;8;8;8m██\u001b[38;2;0;0;0m██\u001b[0m\n",
       "\u001b[0m\u001b[38;2;0;0;0m██\u001b[38;2;0;0;0m██\u001b[38;2;0;0;0m██\u001b[38;2;0;0;0m██\u001b[38;2;7;7;7m██\u001b[38;2;35;35;35m██\u001b[38;2;49;49;49m██\u001b[38;2;19;19;19m██\u001b[38;2;0;0;0m██\u001b[38;2;1;1;1m██\u001b[38;2;0;0;0m██\u001b[38;2;0;0;0m██\u001b[38;2;0;0;0m██\u001b[38;2;0;0;0m██\u001b[38;2;0;0;0m██\u001b[38;2;0;0;0m██\u001b[38;2;0;0;0m██\u001b[38;2;0;0;0m██\u001b[38;2;0;0;0m██\u001b[38;2;0;0;0m██\u001b[38;2;0;0;0m██\u001b[38;2;0;0;0m██\u001b[38;2;0;0;0m██\u001b[38;2;0;0;0m██\u001b[38;2;0;0;0m██\u001b[38;2;3;3;3m██\u001b[38;2;5;5;5m██\u001b[38;2;3;3;3m██\u001b[0m\n",
       "\u001b[0m\u001b[38;2;0;0;0m██\u001b[38;2;0;0;0m██\u001b[38;2;0;0;0m██\u001b[38;2;0;0;0m██\u001b[38;2;0;0;0m██\u001b[38;2;0;0;0m██\u001b[38;2;0;0;0m██\u001b[38;2;0;0;0m██\u001b[38;2;0;0;0m██\u001b[38;2;0;0;0m██\u001b[38;2;0;0;0m██\u001b[38;2;0;0;0m██\u001b[38;2;0;0;0m██\u001b[38;2;0;0;0m██\u001b[38;2;0;0;0m██\u001b[38;2;0;0;0m██\u001b[38;2;0;0;0m██\u001b[38;2;0;0;0m██\u001b[38;2;37;37;37m██\u001b[38;2;95;95;95m██\u001b[38;2;49;49;49m██\u001b[38;2;0;0;0m██\u001b[38;2;0;0;0m██\u001b[38;2;26;26;26m██\u001b[38;2;35;35;35m██\u001b[38;2;12;12;12m██\u001b[38;2;0;0;0m██\u001b[38;2;0;0;0m██\u001b[0m\n",
       "\u001b[0m\u001b[38;2;0;0;0m██\u001b[38;2;0;0;0m██\u001b[38;2;0;0;0m██\u001b[38;2;0;0;0m██\u001b[38;2;0;0;0m██\u001b[38;2;0;0;0m██\u001b[38;2;0;0;0m██\u001b[38;2;0;0;0m██\u001b[38;2;0;0;0m██\u001b[38;2;0;0;0m██\u001b[38;2;0;0;0m██\u001b[38;2;0;0;0m██\u001b[38;2;0;0;0m██\u001b[38;2;0;0;0m██\u001b[38;2;14;14;14m██\u001b[38;2;46;46;46m██\u001b[38;2;0;0;0m██\u001b[38;2;0;0;0m██\u001b[38;2;38;38;38m██\u001b[38;2;87;87;87m██\u001b[38;2;96;96;96m██\u001b[38;2;27;27;27m██\u001b[38;2;10;10;10m██\u001b[38;2;22;22;22m██\u001b[38;2;35;35;35m██\u001b[38;2;28;28;28m██\u001b[38;2;10;10;10m██\u001b[38;2;2;2;2m██\u001b[0m\n",
       "\u001b[0m\u001b[38;2;0;0;0m██\u001b[38;2;1;1;1m██\u001b[38;2;0;0;0m██\u001b[38;2;0;0;0m██\u001b[38;2;0;0;0m██\u001b[38;2;0;0;0m██\u001b[38;2;0;0;0m██\u001b[38;2;0;0;0m██\u001b[38;2;0;0;0m██\u001b[38;2;0;0;0m██\u001b[38;2;0;0;0m██\u001b[38;2;0;0;0m██\u001b[38;2;0;0;0m██\u001b[38;2;51;51;51m██\u001b[38;2;103;103;103m██\u001b[38;2;105;105;105m██\u001b[38;2;93;93;93m██\u001b[38;2;26;26;26m██\u001b[38;2;53;53;53m██\u001b[38;2;39;39;39m██\u001b[38;2;16;16;16m██\u001b[38;2;28;28;28m██\u001b[38;2;29;29;29m██\u001b[38;2;14;14;14m██\u001b[38;2;12;12;12m██\u001b[38;2;11;11;11m██\u001b[38;2;14;14;14m██\u001b[38;2;6;6;6m██\u001b[0m\n",
       "\u001b[0m\u001b[38;2;0;0;0m██\u001b[38;2;0;0;0m██\u001b[38;2;4;4;4m██\u001b[38;2;0;0;0m██\u001b[38;2;0;0;0m██\u001b[38;2;11;11;11m██\u001b[38;2;21;21;21m██\u001b[38;2;32;32;32m██\u001b[38;2;42;42;42m██\u001b[38;2;43;43;43m██\u001b[38;2;100;100;100m██\u001b[38;2;17;17;17m██\u001b[38;2;0;0;0m██\u001b[38;2;24;24;24m██\u001b[38;2;120;120;120m██\u001b[38;2;103;103;103m██\u001b[38;2;75;75;75m██\u001b[38;2;28;28;28m██\u001b[38;2;45;45;45m██\u001b[38;2;27;27;27m██\u001b[38;2;0;0;0m██\u001b[38;2;0;0;0m██\u001b[38;2;9;9;9m██\u001b[38;2;0;0;0m██\u001b[38;2;0;0;0m██\u001b[38;2;0;0;0m██\u001b[38;2;0;0;0m██\u001b[38;2;0;0;0m██\u001b[0m\n",
       "\u001b[0m\u001b[38;2;0;0;0m██\u001b[38;2;0;0;0m██\u001b[38;2;2;2;2m██\u001b[38;2;18;18;18m██\u001b[38;2;0;0;0m██\u001b[38;2;0;0;0m██\u001b[38;2;0;0;0m██\u001b[38;2;0;0;0m██\u001b[38;2;25;25;25m██\u001b[38;2;23;23;23m██\u001b[38;2;51;51;51m██\u001b[38;2;0;0;0m██\u001b[38;2;0;0;0m██\u001b[38;2;0;0;0m██\u001b[38;2;48;48;48m██\u001b[38;2;73;73;73m██\u001b[38;2;36;36;36m██\u001b[38;2;6;6;6m██\u001b[38;2;0;0;0m██\u001b[38;2;15;15;15m██\u001b[38;2;11;11;11m██\u001b[38;2;24;24;24m██\u001b[38;2;1;1;1m██\u001b[38;2;0;0;0m██\u001b[38;2;0;0;0m██\u001b[38;2;0;0;0m██\u001b[38;2;5;5;5m██\u001b[38;2;1;1;1m██\u001b[0m\n",
       "\u001b[0m\u001b[38;2;0;0;0m██\u001b[38;2;0;0;0m██\u001b[38;2;0;0;0m██\u001b[38;2;17;17;17m██\u001b[38;2;21;21;21m██\u001b[38;2;0;0;0m██\u001b[38;2;0;0;0m██\u001b[38;2;0;0;0m██\u001b[38;2;0;0;0m██\u001b[38;2;44;44;44m██\u001b[38;2;26;26;26m██\u001b[38;2;11;11;11m██\u001b[38;2;0;0;0m██\u001b[38;2;0;0;0m██\u001b[38;2;0;0;0m██\u001b[38;2;31;31;31m██\u001b[38;2;62;62;62m██\u001b[38;2;71;71;71m██\u001b[38;2;23;23;23m██\u001b[38;2;4;4;4m██\u001b[38;2;14;14;14m██\u001b[38;2;41;41;41m██\u001b[38;2;9;9;9m██\u001b[38;2;0;0;0m██\u001b[38;2;0;0;0m██\u001b[38;2;2;2;2m██\u001b[38;2;4;4;4m██\u001b[38;2;0;0;0m██\u001b[0m\n",
       "\u001b[0m\u001b[38;2;0;0;0m██\u001b[38;2;0;0;0m██\u001b[38;2;2;2;2m██\u001b[38;2;8;8;8m██\u001b[38;2;22;22;22m██\u001b[38;2;1;1;1m██\u001b[38;2;0;0;0m██\u001b[38;2;0;0;0m██\u001b[38;2;0;0;0m██\u001b[38;2;40;40;40m██\u001b[38;2;22;22;22m██\u001b[38;2;0;0;0m██\u001b[38;2;0;0;0m██\u001b[38;2;0;0;0m██\u001b[38;2;0;0;0m██\u001b[38;2;0;0;0m██\u001b[38;2;0;0;0m██\u001b[38;2;53;53;53m██\u001b[38;2;77;77;77m██\u001b[38;2;56;56;56m██\u001b[38;2;36;36;36m██\u001b[38;2;24;24;24m██\u001b[38;2;2;2;2m██\u001b[38;2;0;0;0m██\u001b[38;2;0;0;0m██\u001b[38;2;0;0;0m██\u001b[38;2;0;0;0m██\u001b[38;2;0;0;0m██\u001b[0m\n",
       "\u001b[0m\u001b[38;2;0;0;0m██\u001b[38;2;0;0;0m██\u001b[38;2;2;2;2m██\u001b[38;2;2;2;2m██\u001b[38;2;5;5;5m██\u001b[38;2;3;3;3m██\u001b[38;2;1;1;1m██\u001b[38;2;0;0;0m██\u001b[38;2;0;0;0m██\u001b[38;2;0;0;0m██\u001b[38;2;22;22;22m██\u001b[38;2;0;0;0m██\u001b[38;2;0;0;0m██\u001b[38;2;0;0;0m██\u001b[38;2;0;0;0m██\u001b[38;2;0;0;0m██\u001b[38;2;0;0;0m██\u001b[38;2;0;0;0m██\u001b[38;2;20;20;20m██\u001b[38;2;91;91;91m██\u001b[38;2;90;90;90m██\u001b[38;2;50;50;50m██\u001b[38;2;0;0;0m██\u001b[38;2;0;0;0m██\u001b[38;2;1;1;1m██\u001b[38;2;1;1;1m██\u001b[38;2;0;0;0m██\u001b[38;2;0;0;0m██\u001b[0m\n",
       "\u001b[0m\u001b[38;2;0;0;0m██\u001b[38;2;0;0;0m██\u001b[38;2;1;1;1m██\u001b[38;2;1;1;1m██\u001b[38;2;0;0;0m██\u001b[38;2;0;0;0m██\u001b[38;2;2;2;2m██\u001b[38;2;29;29;29m██\u001b[38;2;0;0;0m██\u001b[38;2;0;0;0m██\u001b[38;2;0;0;0m██\u001b[38;2;15;15;15m██\u001b[38;2;9;9;9m██\u001b[38;2;0;0;0m██\u001b[38;2;0;0;0m██\u001b[38;2;0;0;0m██\u001b[38;2;0;0;0m██\u001b[38;2;0;0;0m██\u001b[38;2;0;0;0m██\u001b[38;2;43;43;43m██\u001b[38;2;95;95;95m██\u001b[38;2;89;89;89m██\u001b[38;2;30;30;30m██\u001b[38;2;0;0;0m██\u001b[38;2;0;0;0m██\u001b[38;2;0;0;0m██\u001b[38;2;0;0;0m██\u001b[38;2;0;0;0m██\u001b[0m\n",
       "\u001b[0m\u001b[38;2;0;0;0m██\u001b[38;2;0;0;0m██\u001b[38;2;0;0;0m██\u001b[38;2;1;1;1m██\u001b[38;2;0;0;0m██\u001b[38;2;1;1;1m██\u001b[38;2;1;1;1m██\u001b[38;2;15;15;15m██\u001b[38;2;22;22;22m██\u001b[38;2;0;0;0m██\u001b[38;2;0;0;0m██\u001b[38;2;0;0;0m██\u001b[38;2;11;11;11m██\u001b[38;2;31;31;31m██\u001b[38;2;7;7;7m██\u001b[38;2;0;0;0m██\u001b[38;2;0;0;0m██\u001b[38;2;0;0;0m██\u001b[38;2;0;0;0m██\u001b[38;2;7;7;7m██\u001b[38;2;58;58;58m██\u001b[38;2;66;66;66m██\u001b[38;2;42;42;42m██\u001b[38;2;7;7;7m██\u001b[38;2;0;0;0m██\u001b[38;2;0;0;0m██\u001b[38;2;0;0;0m██\u001b[38;2;0;0;0m██\u001b[0m\n",
       "\u001b[0m\u001b[38;2;0;0;0m██\u001b[38;2;0;0;0m██\u001b[38;2;2;2;2m██\u001b[38;2;0;0;0m██\u001b[38;2;1;1;1m██\u001b[38;2;0;0;0m██\u001b[38;2;0;0;0m██\u001b[38;2;0;0;0m██\u001b[38;2;12;12;12m██\u001b[38;2;0;0;0m██\u001b[38;2;0;0;0m██\u001b[38;2;0;0;0m██\u001b[38;2;0;0;0m██\u001b[38;2;50;50;50m██\u001b[38;2;69;69;69m██\u001b[38;2;45;45;45m██\u001b[38;2;17;17;17m██\u001b[38;2;2;2;2m██\u001b[38;2;38;38;38m██\u001b[38;2;49;49;49m██\u001b[38;2;75;75;75m██\u001b[38;2;49;49;49m██\u001b[38;2;15;15;15m██\u001b[38;2;6;6;6m██\u001b[38;2;0;0;0m██\u001b[38;2;0;0;0m██\u001b[38;2;0;0;0m██\u001b[38;2;0;0;0m██\u001b[0m\n",
       "\u001b[0m\u001b[38;2;1;1;1m██\u001b[38;2;1;1;1m██\u001b[38;2;0;0;0m██\u001b[38;2;0;0;0m██\u001b[38;2;0;0;0m██\u001b[38;2;0;0;0m██\u001b[38;2;0;0;0m██\u001b[38;2;0;0;0m██\u001b[38;2;0;0;0m██\u001b[38;2;15;15;15m██\u001b[38;2;9;9;9m██\u001b[38;2;0;0;0m██\u001b[38;2;0;0;0m██\u001b[38;2;0;0;0m██\u001b[38;2;38;38;38m██\u001b[38;2;68;68;68m██\u001b[38;2;60;60;60m██\u001b[38;2;0;0;0m██\u001b[38;2;0;0;0m██\u001b[38;2;42;42;42m██\u001b[38;2;93;93;93m██\u001b[38;2;72;72;72m██\u001b[38;2;19;19;19m██\u001b[38;2;0;0;0m██\u001b[38;2;0;0;0m██\u001b[38;2;0;0;0m██\u001b[38;2;0;0;0m██\u001b[38;2;0;0;0m██\u001b[0m\n",
       "\u001b[0m\u001b[38;2;1;1;1m██\u001b[38;2;1;1;1m██\u001b[38;2;0;0;0m██\u001b[38;2;0;0;0m██\u001b[38;2;0;0;0m██\u001b[38;2;0;0;0m██\u001b[38;2;0;0;0m██\u001b[38;2;0;0;0m██\u001b[38;2;0;0;0m██\u001b[38;2;13;13;13m██\u001b[38;2;14;14;14m██\u001b[38;2;0;0;0m██\u001b[38;2;0;0;0m██\u001b[38;2;0;0;0m██\u001b[38;2;0;0;0m██\u001b[38;2;10;10;10m██\u001b[38;2;30;30;30m██\u001b[38;2;0;0;0m██\u001b[38;2;0;0;0m██\u001b[38;2;0;0;0m██\u001b[38;2;29;29;29m██\u001b[38;2;55;55;55m██\u001b[38;2;28;28;28m██\u001b[38;2;0;0;0m██\u001b[38;2;0;0;0m██\u001b[38;2;0;0;0m██\u001b[38;2;0;0;0m██\u001b[38;2;0;0;0m██\u001b[0m\n",
       "\u001b[0m\u001b[38;2;0;0;0m██\u001b[38;2;3;3;3m██\u001b[38;2;0;0;0m██\u001b[38;2;0;0;0m██\u001b[38;2;0;0;0m██\u001b[38;2;0;0;0m██\u001b[38;2;0;0;0m██\u001b[38;2;8;8;8m██\u001b[38;2;7;7;7m██\u001b[38;2;0;0;0m██\u001b[38;2;0;0;0m██\u001b[38;2;0;0;0m██\u001b[38;2;0;0;0m██\u001b[38;2;0;0;0m██\u001b[38;2;0;0;0m██\u001b[38;2;0;0;0m██\u001b[38;2;21;21;21m██\u001b[38;2;15;15;15m██\u001b[38;2;0;0;0m██\u001b[38;2;0;0;0m██\u001b[38;2;22;22;22m██\u001b[38;2;28;28;28m██\u001b[38;2;10;10;10m██\u001b[38;2;13;13;13m██\u001b[38;2;1;1;1m██\u001b[38;2;0;0;0m██\u001b[38;2;0;0;0m██\u001b[38;2;0;0;0m██\u001b[0m\n",
       "\u001b[0m\u001b[38;2;0;0;0m██\u001b[38;2;0;0;0m██\u001b[38;2;4;4;4m██\u001b[38;2;0;0;0m██\u001b[38;2;0;0;0m██\u001b[38;2;9;9;9m██\u001b[38;2;5;5;5m██\u001b[38;2;0;0;0m██\u001b[38;2;0;0;0m██\u001b[38;2;0;0;0m██\u001b[38;2;0;0;0m██\u001b[38;2;0;0;0m██\u001b[38;2;0;0;0m██\u001b[38;2;18;18;18m██\u001b[38;2;12;12;12m██\u001b[38;2;16;16;16m██\u001b[38;2;27;27;27m██\u001b[38;2;18;18;18m██\u001b[38;2;25;25;25m██\u001b[38;2;31;31;31m██\u001b[38;2;26;26;26m██\u001b[38;2;40;40;40m██\u001b[38;2;2;2;2m██\u001b[38;2;2;2;2m██\u001b[38;2;0;0;0m██\u001b[38;2;0;0;0m██\u001b[38;2;0;0;0m██\u001b[38;2;0;0;0m██\u001b[0m\n",
       "\u001b[0m\u001b[38;2;0;0;0m██\u001b[38;2;10;10;10m██\u001b[38;2;29;29;29m██\u001b[38;2;44;44;44m██\u001b[38;2;21;21;21m██\u001b[38;2;0;0;0m██\u001b[38;2;0;0;0m██\u001b[38;2;0;0;0m██\u001b[38;2;0;0;0m██\u001b[38;2;0;0;0m██\u001b[38;2;0;0;0m██\u001b[38;2;0;0;0m██\u001b[38;2;35;35;35m██\u001b[38;2;53;53;53m██\u001b[38;2;44;44;44m██\u001b[38;2;10;10;10m██\u001b[38;2;16;16;16m██\u001b[38;2;43;43;43m██\u001b[38;2;36;36;36m██\u001b[38;2;43;43;43m██\u001b[38;2;3;3;3m██\u001b[38;2;0;0;0m██\u001b[38;2;9;9;9m██\u001b[38;2;17;17;17m██\u001b[38;2;0;0;0m██\u001b[38;2;0;0;0m██\u001b[38;2;0;0;0m██\u001b[38;2;0;0;0m██\u001b[0m\n",
       "\u001b[0m\u001b[38;2;0;0;0m██\u001b[38;2;2;2;2m██\u001b[38;2;0;0;0m██\u001b[38;2;0;0;0m██\u001b[38;2;0;0;0m██\u001b[38;2;0;0;0m██\u001b[38;2;0;0;0m██\u001b[38;2;0;0;0m██\u001b[38;2;0;0;0m██\u001b[38;2;0;0;0m██\u001b[38;2;0;0;0m██\u001b[38;2;4;4;4m██\u001b[38;2;23;23;23m██\u001b[38;2;24;24;24m██\u001b[38;2;31;31;31m██\u001b[38;2;13;13;13m██\u001b[38;2;0;0;0m██\u001b[38;2;27;27;27m██\u001b[38;2;34;34;34m██\u001b[38;2;12;12;12m██\u001b[38;2;0;0;0m██\u001b[38;2;0;0;0m██\u001b[38;2;0;0;0m██\u001b[38;2;8;8;8m██\u001b[38;2;0;0;0m██\u001b[38;2;0;0;0m██\u001b[38;2;0;0;0m██\u001b[38;2;0;0;0m██\u001b[0m\n",
       "\u001b[0m\u001b[38;2;0;0;0m██\u001b[38;2;0;0;0m██\u001b[38;2;0;0;0m██\u001b[38;2;0;0;0m██\u001b[38;2;0;0;0m██\u001b[38;2;0;0;0m██\u001b[38;2;0;0;0m██\u001b[38;2;0;0;0m██\u001b[38;2;0;0;0m██\u001b[38;2;28;28;28m██\u001b[38;2;36;36;36m██\u001b[38;2;24;24;24m██\u001b[38;2;19;19;19m██\u001b[38;2;27;27;27m██\u001b[38;2;9;9;9m██\u001b[38;2;2;2;2m██\u001b[38;2;4;4;4m██\u001b[38;2;5;5;5m██\u001b[38;2;18;18;18m██\u001b[38;2;0;0;0m██\u001b[38;2;0;0;0m██\u001b[38;2;0;0;0m██\u001b[38;2;0;0;0m██\u001b[38;2;0;0;0m██\u001b[38;2;0;0;0m██\u001b[38;2;0;0;0m██\u001b[38;2;0;0;0m██\u001b[38;2;0;0;0m██\u001b[0m\n",
       "\u001b[0m\u001b[38;2;0;0;0m██\u001b[38;2;0;0;0m██\u001b[38;2;6;6;6m██\u001b[38;2;28;28;28m██\u001b[38;2;57;57;57m██\u001b[38;2;69;69;69m██\u001b[38;2;93;93;93m██\u001b[38;2;96;96;96m██\u001b[38;2;73;73;73m██\u001b[38;2;60;60;60m██\u001b[38;2;26;26;26m██\u001b[38;2;34;34;34m██\u001b[38;2;21;21;21m██\u001b[38;2;12;12;12m██\u001b[38;2;11;11;11m██\u001b[38;2;0;0;0m██\u001b[38;2;0;0;0m██\u001b[38;2;0;0;0m██\u001b[38;2;1;1;1m██\u001b[38;2;0;0;0m██\u001b[38;2;0;0;0m██\u001b[38;2;0;0;0m██\u001b[38;2;4;4;4m██\u001b[38;2;3;3;3m██\u001b[38;2;0;0;0m██\u001b[38;2;0;0;0m██\u001b[38;2;0;0;0m██\u001b[38;2;0;0;0m██\u001b[0m\n",
       "\u001b[0m\u001b[38;2;0;0;0m██\u001b[38;2;5;5;5m██\u001b[38;2;35;35;35m██\u001b[38;2;48;48;48m██\u001b[38;2;43;43;43m██\u001b[38;2;32;32;32m██\u001b[38;2;38;38;38m██\u001b[38;2;57;57;57m██\u001b[38;2;49;49;49m██\u001b[38;2;39;39;39m██\u001b[38;2;9;9;9m██\u001b[38;2;0;0;0m██\u001b[38;2;6;6;6m██\u001b[38;2;0;0;0m██\u001b[38;2;1;1;1m██\u001b[38;2;0;0;0m██\u001b[38;2;3;3;3m██\u001b[38;2;2;2;2m██\u001b[38;2;0;0;0m██\u001b[38;2;0;0;0m██\u001b[38;2;1;1;1m██\u001b[38;2;3;3;3m██\u001b[38;2;0;0;0m██\u001b[38;2;0;0;0m██\u001b[38;2;0;0;0m██\u001b[38;2;0;0;0m██\u001b[38;2;0;0;0m██\u001b[38;2;0;0;0m██\u001b[0m\n",
       "\u001b[0m\u001b[38;2;5;5;5m██\u001b[38;2;2;2;2m██\u001b[38;2;15;15;15m██\u001b[38;2;22;22;22m██\u001b[38;2;8;8;8m██\u001b[38;2;0;0;0m██\u001b[38;2;0;0;0m██\u001b[38;2;0;0;0m██\u001b[38;2;0;0;0m██\u001b[38;2;0;0;0m██\u001b[38;2;2;2;2m██\u001b[38;2;7;7;7m██\u001b[38;2;6;6;6m██\u001b[38;2;0;0;0m██\u001b[38;2;0;0;0m██\u001b[38;2;2;2;2m██\u001b[38;2;0;0;0m██\u001b[38;2;0;0;0m██\u001b[38;2;0;0;0m██\u001b[38;2;4;4;4m██\u001b[38;2;0;0;0m██\u001b[38;2;0;0;0m██\u001b[38;2;0;0;0m██\u001b[38;2;0;0;0m██\u001b[38;2;0;0;0m██\u001b[38;2;0;0;0m██\u001b[38;2;0;0;0m██\u001b[38;2;0;0;0m██\u001b[0m\n",
       "\u001b[0m\u001b[38;2;21;21;21m██\u001b[38;2;13;13;13m██\u001b[38;2;0;0;0m██\u001b[38;2;0;0;0m██\u001b[38;2;0;0;0m██\u001b[38;2;0;0;0m██\u001b[38;2;0;0;0m██\u001b[38;2;0;0;0m██\u001b[38;2;0;0;0m██\u001b[38;2;0;0;0m██\u001b[38;2;0;0;0m██\u001b[38;2;0;0;0m██\u001b[38;2;0;0;0m██\u001b[38;2;0;0;0m██\u001b[38;2;0;0;0m██\u001b[38;2;0;0;0m██\u001b[38;2;0;0;0m██\u001b[38;2;3;3;3m██\u001b[38;2;0;0;0m██\u001b[38;2;0;0;0m██\u001b[38;2;0;0;0m██\u001b[38;2;0;0;0m██\u001b[38;2;0;0;0m██\u001b[38;2;0;0;0m██\u001b[38;2;0;0;0m██\u001b[38;2;0;0;0m██\u001b[38;2;0;0;0m██\u001b[38;2;0;0;0m██\u001b[0m"
      ]
     },
     "execution_count": 90,
     "metadata": {},
     "output_type": "execute_result"
    }
   ],
   "source": [
    "cnn_output = cnn_layer_same_pad2(images[:,:,:,1:3])\n",
    "display( cnn_output |> size )\n",
    "convert2image(MNIST,cnn_output[:,:,1,1])"
   ]
  },
  {
   "cell_type": "markdown",
   "metadata": {},
   "source": [
    "### <span style=\"color:orange\"> Example like the gif above </span>"
   ]
  },
  {
   "cell_type": "code",
   "execution_count": 30,
   "metadata": {},
   "outputs": [
    {
     "data": {
      "text/plain": [
       "(2, 2, 1, 10)"
      ]
     },
     "execution_count": 30,
     "metadata": {},
     "output_type": "execute_result"
    }
   ],
   "source": [
    "x = rand(Float32, 4, 4, 1, 10); #batch of monochrome images\n",
    "cnn_layer = Conv( (3,3) , 1 => 1 )\n",
    "cnn_layer( x ) |> size"
   ]
  },
  {
   "cell_type": "markdown",
   "metadata": {},
   "source": [
    "### <span style=\"color:orange\"> Add arbitrary padding (zeros) </span>\n",
    "\n",
    "![image info](./demoPics/arbitrary_padding_no_strides.gif)"
   ]
  },
  {
   "cell_type": "code",
   "execution_count": 31,
   "metadata": {},
   "outputs": [
    {
     "name": "stdout",
     "output_type": "stream",
     "text": [
      "(12, 12, 1, 1)\n"
     ]
    },
    {
     "data": {
      "text/plain": [
       "12×12×1×1 Array{Float32, 4}:\n",
       "[:, :, 1, 1] =\n",
       " 0.0  0.0  0.0   0.0        0.0       …   0.0         0.0  0.0  0.0\n",
       " 0.0  0.0  0.0   0.0        0.0           0.0         0.0  0.0  0.0\n",
       " 0.0  0.0  0.0   0.0        0.0           0.0         0.0  0.0  0.0\n",
       " 0.0  0.0  0.0  -0.516098  -0.637606     -0.0722668   0.0  0.0  0.0\n",
       " 0.0  0.0  0.0  -0.59015   -0.15906      -0.279384    0.0  0.0  0.0\n",
       " 0.0  0.0  0.0   0.131151  -0.41631   …   0.236352    0.0  0.0  0.0\n",
       " 0.0  0.0  0.0  -0.480828  -1.10059       0.0967512   0.0  0.0  0.0\n",
       " 0.0  0.0  0.0  -0.388956   0.210032      0.164969    0.0  0.0  0.0\n",
       " 0.0  0.0  0.0   0.238831   0.634291     -0.00617969  0.0  0.0  0.0\n",
       " 0.0  0.0  0.0   0.0        0.0           0.0         0.0  0.0  0.0\n",
       " 0.0  0.0  0.0   0.0        0.0       …   0.0         0.0  0.0  0.0\n",
       " 0.0  0.0  0.0   0.0        0.0           0.0         0.0  0.0  0.0"
      ]
     },
     "execution_count": 31,
     "metadata": {},
     "output_type": "execute_result"
    }
   ],
   "source": [
    "x = rand(Float32, 4, 4, 1, 1); #batch of monochrome images\n",
    "cnn_layer = Conv( (3,3) , 1 => 1 , pad = 5)\n",
    "println( cnn_layer( x ) |> size )\n",
    "cnn_layer( x )"
   ]
  },
  {
   "cell_type": "code",
   "execution_count": 32,
   "metadata": {},
   "outputs": [
    {
     "name": "stdout",
     "output_type": "stream",
     "text": [
      "(2, 12, 1, 1)\n"
     ]
    },
    {
     "data": {
      "text/plain": [
       "2×12×1×1 Array{Float32, 4}:\n",
       "[:, :, 1, 1] =\n",
       " 0.0  0.0  0.0  -0.611332  -0.695477  -0.597909  …   0.101236   0.0  0.0  0.0\n",
       " 0.0  0.0  0.0  -0.815298  -0.460176  -0.282421     -0.0336858  0.0  0.0  0.0"
      ]
     },
     "execution_count": 32,
     "metadata": {},
     "output_type": "execute_result"
    }
   ],
   "source": [
    "x = rand(Float32, 4, 4, 1, 1); \n",
    "cnn_layer = Conv( (3,3) , 1 => 1 , pad = (0,5) ) #non-uniform padding\n",
    "println( cnn_layer( x ) |> size )\n",
    "cnn_layer( x )"
   ]
  },
  {
   "cell_type": "code",
   "execution_count": null,
   "metadata": {},
   "outputs": [],
   "source": []
  },
  {
   "cell_type": "markdown",
   "metadata": {},
   "source": [
    "### <span style=\"color:orange\"> On 1D data </span>"
   ]
  },
  {
   "cell_type": "code",
   "execution_count": 33,
   "metadata": {},
   "outputs": [
    {
     "data": {
      "text/plain": [
       "(97, 1, 1)"
      ]
     },
     "execution_count": 33,
     "metadata": {},
     "output_type": "execute_result"
    }
   ],
   "source": [
    "x = rand(Float32, 100, 1, 1); #100elements, 1 channel, 10 samples in the batch \n",
    "cnn_layer = Conv( (4,) , 1 => 1 ) #4 element filter\n",
    "cnn_layer( x ) |> size"
   ]
  },
  {
   "cell_type": "code",
   "execution_count": 34,
   "metadata": {},
   "outputs": [
    {
     "data": {
      "text/plain": [
       "(100, 1, 1)"
      ]
     },
     "execution_count": 34,
     "metadata": {},
     "output_type": "execute_result"
    }
   ],
   "source": [
    "x = rand(Float32, 100, 1, 1); #100elements, 1 channel, 10 samples in the batch \n",
    "cnn_layer = Conv( (4,) , 1 => 1 , pad = SamePad() ) #4 element filter\n",
    "cnn_layer( x ) |> size"
   ]
  },
  {
   "cell_type": "markdown",
   "metadata": {},
   "source": [
    "### <span style=\"color:orange\"> Now apply 'Strides' </span>\n",
    "![image info](./demoPics/no_padding_strides.gif)\n",
    "\n",
    "(no padding but with strides)"
   ]
  },
  {
   "cell_type": "code",
   "execution_count": 35,
   "metadata": {},
   "outputs": [
    {
     "data": {
      "text/plain": [
       "(20, 1, 1)"
      ]
     },
     "execution_count": 35,
     "metadata": {},
     "output_type": "execute_result"
    }
   ],
   "source": [
    "x = rand(Float32, 100, 1, 1); #100elements, 1 channel, 10 samples in the batch \n",
    "cnn_layer = Conv( (4,) , 1 => 1 , stride=5 ) #4 element filter\n",
    "cnn_layer( x ) |> size"
   ]
  },
  {
   "cell_type": "code",
   "execution_count": 36,
   "metadata": {},
   "outputs": [
    {
     "data": {
      "text/plain": [
       "(97, 1, 1)"
      ]
     },
     "execution_count": 36,
     "metadata": {},
     "output_type": "execute_result"
    }
   ],
   "source": [
    "x = rand(Float32, 100, 1, 1); #100elements, 1 channel, 10 samples in the batch \n",
    "cnn_layer = Conv( (4,) , 1 => 1 , stride=1 ) \n",
    "cnn_layer( x ) |> size"
   ]
  },
  {
   "cell_type": "code",
   "execution_count": 37,
   "metadata": {},
   "outputs": [
    {
     "data": {
      "text/plain": [
       "(10, 10, 3, 10)"
      ]
     },
     "execution_count": 37,
     "metadata": {},
     "output_type": "execute_result"
    }
   ],
   "source": [
    "x = rand(Float32, 50, 50, 2, 10); #batch of monochrome images\n",
    "cnn_layer = Conv( (3,3) , 2 => 3 , stride = 5 )\n",
    "cnn_layer( x ) |> size"
   ]
  },
  {
   "cell_type": "markdown",
   "metadata": {},
   "source": [
    "### <span style=\"color:orange\"> Padding and Strides </span>\n",
    "\n",
    "![image info](./demoPics/padding_strides.gif)"
   ]
  },
  {
   "cell_type": "code",
   "execution_count": 38,
   "metadata": {},
   "outputs": [
    {
     "data": {
      "text/plain": [
       "(41, 41, 3, 10)"
      ]
     },
     "execution_count": 38,
     "metadata": {},
     "output_type": "execute_result"
    }
   ],
   "source": [
    "x = rand(Float32, 200, 200, 3, 10); #batch of monochrome images\n",
    "cnn_layer = Conv( (4,4) , 3 => 3 , pad=4 , stride = 5 )\n",
    "cnn_layer( x ) |> size"
   ]
  },
  {
   "cell_type": "markdown",
   "metadata": {},
   "source": [
    "### <span style=\"color:orange\"> Dilation, adds element skipping between element of the filter </span>\n",
    "\n",
    "![image info](./demoPics/dilation.gif)"
   ]
  },
  {
   "cell_type": "code",
   "execution_count": 39,
   "metadata": {},
   "outputs": [
    {
     "data": {
      "text/plain": [
       "(197, 197, 3, 10)"
      ]
     },
     "execution_count": 39,
     "metadata": {},
     "output_type": "execute_result"
    }
   ],
   "source": [
    "x = rand(Float32, 200, 200, 3, 10); \n",
    "cnn_layer = Conv( (4,4) , 3 => 3 , dilation = 1 )\n",
    "cnn_layer( x ) |> size"
   ]
  },
  {
   "cell_type": "code",
   "execution_count": 40,
   "metadata": {},
   "outputs": [
    {
     "data": {
      "text/plain": [
       "(194, 194, 3, 10)"
      ]
     },
     "execution_count": 40,
     "metadata": {},
     "output_type": "execute_result"
    }
   ],
   "source": [
    "x = rand(Float32, 200, 200, 3, 10); \n",
    "cnn_layer = Conv( (4,4) , 3 => 3 , dilation = 2 )\n",
    "cnn_layer( x ) |> size"
   ]
  },
  {
   "cell_type": "code",
   "execution_count": 41,
   "metadata": {},
   "outputs": [
    {
     "data": {
      "text/plain": [
       "(200, 200, 3, 10)"
      ]
     },
     "execution_count": 41,
     "metadata": {},
     "output_type": "execute_result"
    }
   ],
   "source": [
    "x = rand(Float32, 200, 200, 3, 10); \n",
    "cnn_layer = Conv( (5,5) , 3 => 3 , pad = 2 , dilation=1 )\n",
    "cnn_layer( x ) |> size"
   ]
  },
  {
   "cell_type": "code",
   "execution_count": 42,
   "metadata": {},
   "outputs": [
    {
     "data": {
      "text/plain": [
       "(188, 188, 1, 10)"
      ]
     },
     "execution_count": 42,
     "metadata": {},
     "output_type": "execute_result"
    }
   ],
   "source": [
    "x = rand(Float32, 200, 200, 1, 10); \n",
    "cnn_layer = Conv( (5,5) , 1 => 1 , pad = 2 , dilation=4 )\n",
    "cnn_layer( x ) |> size"
   ]
  },
  {
   "cell_type": "code",
   "execution_count": 91,
   "metadata": {},
   "outputs": [
    {
     "data": {
      "text/plain": [
       "(16, 16, 1, 3)"
      ]
     },
     "metadata": {},
     "output_type": "display_data"
    },
    {
     "data": {
      "image/png": "[encoded data removed]",
      "text/html": [
       "<img src=\"data:image/png;base64,iVBORw0KGgoAAAANSUhEUgAAAHAAAABwCAAAAADji6uXAAAABGdBTUEAALGPC/xhBQAAAAFzUkdCAK7OHOkAAAAgY0hSTQAAeiYAAICEAAD6AAAAgOgAAHUwAADqYAAAOpgAABdwnLpRPAAAAiRJREFUaAW9wc1OlAcAheFXegw4TBFBwVLTkuDGuOIGvN9uewu66MIYY+LShKhUaIPhR2YER2jyrr6FREma8zxZRGdoxv9oHR2gDRTKQlkoC2WhLJTllGtaQ+toBU3RDbSFHqLn6BiFslAWykJZKAtlWUAjdBeN0QRtoRcoaBsFvUAr6BA9RXPoGQploSyUhbJQFsqyjZbRT+hX9AbNowfoFVpAK2gP/YbeopdonaFQFspCWSgLZaEsMzRBb9EEjdEOCjpDf6EltIf+RBtohFbRCQploSyUhbJQFsqyhxbRAbqBttEttMvQK7TMN/zN0Dv0GYWyUBbKQlkoC2WZR1/QMppDMzSHVhjaQYcoaMY3nDAUykJZKAtloSyU5RQtoSmaoQ9oDb1kKGiGvvKjQlkoC2WhLJSFskxR0DG6RPfRiKET9Bi9RovoE98VykJZKAtloSyU5RgFBU3QPhqjR+icoV/QPldbQOcolIWyUBbKQlkoy010C03ROVpFU3SJ1tAztIouuNpnhkJZKAtloSyUhbJcoF30AG2gI/Q72kG7aIImfNcmeo9CWSgLZaEslIWyXKIxukDLaBf9g8boX67pI7qHQlkoC2WhLJSFstxGX9B7rjblaptoCX1CR+gMfUChLJSFslAWykJZbqIDrmkbjdETdI7+QD+jSzRCoSyUhbJQFspCWfb4UZvoNtpCd9A+OkQjdIo+MhTKQlkoC2WhLJT9B2zZYTKaqy4eAAAAAElFTkSuQmCC\">"
      ],
      "text/plain": [
       "\u001b[0m\u001b[38;2;11;11;11m██\u001b[38;2;4;4;4m██\u001b[38;2;0;0;0m██\u001b[38;2;0;0;0m██\u001b[38;2;0;0;0m██\u001b[38;2;0;0;0m██\u001b[38;2;0;0;0m██\u001b[38;2;0;0;0m██\u001b[38;2;0;0;0m██\u001b[38;2;0;0;0m██\u001b[38;2;0;0;0m██\u001b[38;2;0;0;0m██\u001b[38;2;0;0;0m██\u001b[38;2;23;23;23m██\u001b[38;2;4;4;4m██\u001b[38;2;30;30;30m██\u001b[0m\n",
       "\u001b[0m\u001b[38;2;0;0;0m██\u001b[38;2;0;0;0m██\u001b[38;2;0;0;0m██\u001b[38;2;0;0;0m██\u001b[38;2;0;0;0m██\u001b[38;2;0;0;0m██\u001b[38;2;0;0;0m██\u001b[38;2;22;22;22m██\u001b[38;2;45;45;45m██\u001b[38;2;63;63;63m██\u001b[38;2;54;54;54m██\u001b[38;2;55;55;55m██\u001b[38;2;90;90;90m██\u001b[38;2;126;126;126m██\u001b[38;2;74;74;74m██\u001b[38;2;60;60;60m██\u001b[0m\n",
       "\u001b[0m\u001b[38;2;8;8;8m██\u001b[38;2;18;18;18m██\u001b[38;2;38;38;38m██\u001b[38;2;50;50;50m██\u001b[38;2;40;40;40m██\u001b[38;2;75;75;75m██\u001b[38;2;25;25;25m██\u001b[38;2;29;29;29m██\u001b[38;2;94;94;94m██\u001b[38;2;98;98;98m██\u001b[38;2;48;48;48m██\u001b[38;2;66;66;66m██\u001b[38;2;74;74;74m██\u001b[38;2;65;65;65m██\u001b[38;2;67;67;67m██\u001b[38;2;0;0;0m██\u001b[0m\n",
       "\u001b[0m\u001b[38;2;57;57;57m██\u001b[38;2;73;73;73m██\u001b[38;2;76;76;76m██\u001b[38;2;103;103;103m██\u001b[38;2;68;68;68m██\u001b[38;2;82;82;82m██\u001b[38;2;53;53;53m██\u001b[38;2;7;7;7m██\u001b[38;2;102;102;102m██\u001b[38;2;120;120;120m██\u001b[38;2;24;24;24m██\u001b[38;2;78;78;78m██\u001b[38;2;48;48;48m██\u001b[38;2;0;0;0m██\u001b[38;2;23;23;23m██\u001b[38;2;0;0;0m██\u001b[0m\n",
       "\u001b[0m\u001b[38;2;53;53;53m██\u001b[38;2;63;63;63m██\u001b[38;2;33;33;33m██\u001b[38;2;66;66;66m██\u001b[38;2;78;78;78m██\u001b[38;2;50;50;50m██\u001b[38;2;54;54;54m██\u001b[38;2;0;0;0m██\u001b[38;2;46;46;46m██\u001b[38;2;60;60;60m██\u001b[38;2;0;0;0m██\u001b[38;2;0;0;0m██\u001b[38;2;26;26;26m██\u001b[38;2;10;10;10m██\u001b[38;2;42;42;42m██\u001b[38;2;10;10;10m██\u001b[0m\n",
       "\u001b[0m\u001b[38;2;29;29;29m██\u001b[38;2;40;40;40m██\u001b[38;2;14;14;14m██\u001b[38;2;34;34;34m██\u001b[38;2;83;83;83m██\u001b[38;2;59;59;59m██\u001b[38;2;32;32;32m██\u001b[38;2;0;0;0m██\u001b[38;2;0;0;0m██\u001b[38;2;16;16;16m██\u001b[38;2;0;0;0m██\u001b[38;2;0;0;0m██\u001b[38;2;0;0;0m██\u001b[38;2;0;0;0m██\u001b[38;2;13;13;13m██\u001b[38;2;2;2;2m██\u001b[0m\n",
       "\u001b[0m\u001b[38;2;36;36;36m██\u001b[38;2;35;35;35m██\u001b[38;2;30;30;30m██\u001b[38;2;36;36;36m██\u001b[38;2;79;79;79m██\u001b[38;2;61;61;61m██\u001b[38;2;50;50;50m██\u001b[38;2;32;32;32m██\u001b[38;2;0;0;0m██\u001b[38;2;0;0;0m██\u001b[38;2;4;4;4m██\u001b[38;2;0;0;0m██\u001b[38;2;0;0;0m██\u001b[38;2;0;0;0m██\u001b[38;2;0;0;0m██\u001b[38;2;0;0;0m██\u001b[0m\n",
       "\u001b[0m\u001b[38;2;25;25;25m██\u001b[38;2;39;39;39m██\u001b[38;2;26;26;26m██\u001b[38;2;26;26;26m██\u001b[38;2;54;54;54m██\u001b[38;2;76;76;76m██\u001b[38;2;13;13;13m██\u001b[38;2;13;13;13m██\u001b[38;2;4;4;4m██\u001b[38;2;0;0;0m██\u001b[38;2;1;1;1m██\u001b[38;2;0;0;0m██\u001b[38;2;0;0;0m██\u001b[38;2;0;0;0m██\u001b[38;2;0;0;0m██\u001b[38;2;0;0;0m██\u001b[0m\n",
       "\u001b[0m\u001b[38;2;16;16;16m██\u001b[38;2;29;29;29m██\u001b[38;2;12;12;12m██\u001b[38;2;11;11;11m██\u001b[38;2;50;50;50m██\u001b[38;2;86;86;86m██\u001b[38;2;13;13;13m██\u001b[38;2;0;0;0m██\u001b[38;2;43;43;43m██\u001b[38;2;0;0;0m██\u001b[38;2;12;12;12m██\u001b[38;2;0;0;0m██\u001b[38;2;0;0;0m██\u001b[38;2;0;0;0m██\u001b[38;2;0;0;0m██\u001b[38;2;0;0;0m██\u001b[0m\n",
       "\u001b[0m\u001b[38;2;2;2;2m██\u001b[38;2;20;20;20m██\u001b[38;2;16;16;16m██\u001b[38;2;6;6;6m██\u001b[38;2;27;27;27m██\u001b[38;2;62;62;62m██\u001b[38;2;54;54;54m██\u001b[38;2;48;48;48m██\u001b[38;2;48;48;48m██\u001b[38;2;25;25;25m██\u001b[38;2;2;2;2m██\u001b[38;2;0;0;0m██\u001b[38;2;0;0;0m██\u001b[38;2;0;0;0m██\u001b[38;2;8;8;8m██\u001b[38;2;2;2;2m██\u001b[0m\n",
       "\u001b[0m\u001b[38;2;7;7;7m██\u001b[38;2;29;29;29m██\u001b[38;2;20;20;20m██\u001b[38;2;0;0;0m██\u001b[38;2;46;46;46m██\u001b[38;2;53;53;53m██\u001b[38;2;52;52;52m██\u001b[38;2;70;70;70m██\u001b[38;2;10;10;10m██\u001b[38;2;29;29;29m██\u001b[38;2;0;0;0m██\u001b[38;2;0;0;0m██\u001b[38;2;0;0;0m██\u001b[38;2;0;0;0m██\u001b[38;2;0;0;0m██\u001b[38;2;0;0;0m██\u001b[0m\n",
       "\u001b[0m\u001b[38;2;5;5;5m██\u001b[38;2;2;2;2m██\u001b[38;2;30;30;30m██\u001b[38;2;26;26;26m██\u001b[38;2;31;31;31m██\u001b[38;2;62;62;62m██\u001b[38;2;30;30;30m██\u001b[38;2;25;25;25m██\u001b[38;2;0;0;0m██\u001b[38;2;0;0;0m██\u001b[38;2;0;0;0m██\u001b[38;2;0;0;0m██\u001b[38;2;0;0;0m██\u001b[38;2;0;0;0m██\u001b[38;2;32;32;32m██\u001b[38;2;4;4;4m██\u001b[0m\n",
       "\u001b[0m\u001b[38;2;4;4;4m██\u001b[38;2;14;14;14m██\u001b[38;2;28;28;28m██\u001b[38;2;42;42;42m██\u001b[38;2;15;15;15m██\u001b[38;2;9;9;9m██\u001b[38;2;21;21;21m██\u001b[38;2;0;0;0m██\u001b[38;2;0;0;0m██\u001b[38;2;0;0;0m██\u001b[38;2;0;0;0m██\u001b[38;2;0;0;0m██\u001b[38;2;0;0;0m██\u001b[38;2;0;0;0m██\u001b[38;2;14;14;14m██\u001b[38;2;25;25;25m██\u001b[0m\n",
       "\u001b[0m\u001b[38;2;19;19;19m██\u001b[38;2;14;14;14m██\u001b[38;2;0;0;0m██\u001b[38;2;0;0;0m██\u001b[38;2;0;0;0m██\u001b[38;2;0;0;0m██\u001b[38;2;0;0;0m██\u001b[38;2;0;0;0m██\u001b[38;2;0;0;0m██\u001b[38;2;0;0;0m██\u001b[38;2;32;32;32m██\u001b[38;2;46;46;46m██\u001b[38;2;34;34;34m██\u001b[38;2;19;19;19m██\u001b[38;2;12;12;12m██\u001b[38;2;0;0;0m██\u001b[0m\n",
       "\u001b[0m\u001b[38;2;24;24;24m██\u001b[38;2;0;0;0m██\u001b[38;2;0;0;0m██\u001b[38;2;0;0;0m██\u001b[38;2;0;0;0m██\u001b[38;2;0;0;0m██\u001b[38;2;0;0;0m██\u001b[38;2;0;0;0m██\u001b[38;2;49;49;49m██\u001b[38;2;61;61;61m██\u001b[38;2;123;123;123m██\u001b[38;2;117;117;117m██\u001b[38;2;30;30;30m██\u001b[38;2;32;32;32m██\u001b[38;2;18;18;18m██\u001b[38;2;10;10;10m██\u001b[0m\n",
       "\u001b[0m\u001b[38;2;0;0;0m██\u001b[38;2;0;0;0m██\u001b[38;2;0;0;0m██\u001b[38;2;0;0;0m██\u001b[38;2;0;0;0m██\u001b[38;2;0;0;0m██\u001b[38;2;32;32;32m██\u001b[38;2;47;47;47m██\u001b[38;2;84;84;84m██\u001b[38;2;101;101;101m██\u001b[38;2;100;100;100m██\u001b[38;2;84;84;84m██\u001b[38;2;40;40;40m██\u001b[38;2;29;29;29m██\u001b[38;2;0;0;0m██\u001b[38;2;0;0;0m██\u001b[0m"
      ]
     },
     "execution_count": 91,
     "metadata": {},
     "output_type": "execute_result"
    }
   ],
   "source": [
    "cnn_output = cnn_layer( images[:,:,:,1:3] )\n",
    "display( cnn_output |> size )\n",
    "convert2image( MNIST , cnn_output[:,:,1,1] )"
   ]
  },
  {
   "cell_type": "code",
   "execution_count": 93,
   "metadata": {},
   "outputs": [
    {
     "data": {
      "text/plain": [
       "(200, 200, 1, 10)"
      ]
     },
     "execution_count": 93,
     "metadata": {},
     "output_type": "execute_result"
    }
   ],
   "source": [
    "x = rand(Float32, 200, 200, 1, 10); \n",
    "cnn_layer = Conv( (5,5) , 1 => 1 , pad = SamePad() , dilation=4 )\n",
    "cnn_layer( x ) |> size"
   ]
  },
  {
   "cell_type": "code",
   "execution_count": 94,
   "metadata": {},
   "outputs": [
    {
     "data": {
      "text/plain": [
       "(28, 28, 1, 3)"
      ]
     },
     "metadata": {},
     "output_type": "display_data"
    },
    {
     "data": {
      "image/png": "[encoded data removed]",
      "text/html": [
       "<img src=\"data:image/png;base64,iVBORw0KGgoAAAANSUhEUgAAAHAAAABwCAAAAADji6uXAAAABGdBTUEAALGPC/xhBQAAAAFzUkdCAK7OHOkAAAAgY0hSTQAAeiYAAICEAAD6AAAAgOgAAHUwAADqYAAAOpgAABdwnLpRPAAABB5JREFUaAW9wVtvm4UZAODH9ms7B8fpIW3T0nNZC2JTVyYN6CVX+wUTEv9vd0jc7WIS0rSJbULryrq1RJQR0oY0BxKHOLYTO/YqfRepmwbYLt7nCS85jUAZgauooYQhqhhhAUOcRQmPHDVCRWFHISQLyUKy8JJN1BVO4a8YYITLWDLuiXG3FQIP8T6uY4Q/ICQLyUKy8JIRegrfGrfkeBfwPi5iCm28g/MYYANNhGQhWUgW/g9lnMc83sQMpjGHGg7wOYZYQQ+P8D1CspAsJAv/o0mcw9voYR51dLGCiyjjK+yhiREWFUKykCwkCz/RHTzFHZzCL7CNTQzwMd7D71DBM4U5zKOuEJKFZCFZBA4wjbbCBG5iAXt4G5dQwjYW8Hecxs/wCVr4vaMO8BX6GCIkC8lCsriIskIXVZzFTTzBHu7hnsIpjLCFFvoKVVRwBvtYRQltDFHBECFZSBaSxQHKClfRxia+xR18YtwmagrrWMdN3MUSptHAGkboK0yhipAsJAvJYhNT2MMcTmIVnyK82j5eRxk93MUNfIkHCnfxDRo4QBUdhGQhWUgWu9hVGOCEQwPHq+MWJnAVlzHEGjbRwBs4h6dYxhpCspAsJAsvGOIsZrDghzUwiw38CZ/hNGq4gSUMsYIRphVCspAsJAsv6KGFBi5ghCksoa9wEU/xNzzAr9HBF9jFNfwcU+jgPq6hiasIyUKykCy8ZBG38DpOo482amjhCp4qdPApfoUZ9PAAr6GESZzEOcygjpAsJAvJwit8jyYmMItbWMEOlo3bxyLewhsYYg4DVLGPKRxgDyFZSBaShedKqKOEcxhhC2vYwj2H1hzVxx5uYgbzmMATPMYq+mgjJAvJQrLwXBN76GJRoYzHjuqgidfwlsJjrOML/BZDfI4VlPEdHuEAIVlIFpKF57YdNXS8d3ENl7CBZVxBF39GF6vo4mtsOhSShWQhWfiJfonfoIcTWMYKHqKFVTTxDv6FBaw7KiQLyUKy8CMu4wPM4QzWMUATX+MfaCncxjNsoerVQrKQLCQLP+A2PsR1fIY/oocROriPnsIkHqGFeUxjFtvGhWQhWUgWFdQwhyoqGOEKAh+hj3uOdxJd7OMbTKKCeRyg7VBIFpKFZHEBVQSuYAp9LOKh49Uxwj62FGZxBlVUsYuOcSFZSBaSxQnMo4HAl7jveG/iElbwb+OaOKGwix0MjQvJQrKQLBooYQdr+KfjXUcZz9DGLFoooYYuNlHBOloKJUygjJAsJAvJ4i9erYFJ1NFFF/9RuI4LuIFVLKODDWwgFOrYw4xDIVlIFpKFF9RQxyQCPWxjR2Ee5zGHCjawiB3jKphGDTsODRGShWQhWXiuhgkEKuijjYHCecyhgUnsooMWdoxrookqBqg4NERIFpKFZP8FLUIPWbDF4vAAAAAASUVORK5C\">"
      ],
      "text/plain": [
       "\u001b[0m\u001b[38;2;0;0;0m██\u001b[38;2;0;0;0m██\u001b[38;2;0;0;0m██\u001b[38;2;0;0;0m██\u001b[38;2;19;19;19m██\u001b[38;2;23;23;23m██\u001b[38;2;25;25;25m██\u001b[38;2;29;29;29m██\u001b[38;2;61;61;61m██\u001b[38;2;67;67;67m██\u001b[38;2;68;68;68m██\u001b[38;2;66;66;66m██\u001b[38;2;71;71;71m██\u001b[38;2;70;70;70m██\u001b[38;2;31;31;31m██\u001b[38;2;29;29;29m██\u001b[38;2;51;51;51m██\u001b[38;2;52;52;52m██\u001b[38;2;11;11;11m██\u001b[38;2;11;11;11m██\u001b[38;2;11;11;11m██\u001b[38;2;11;11;11m██\u001b[38;2;11;11;11m██\u001b[38;2;10;10;10m██\u001b[38;2;13;13;13m██\u001b[38;2;13;13;13m██\u001b[38;2;0;0;0m██\u001b[38;2;0;0;0m██\u001b[0m\n",
       "\u001b[0m\u001b[38;2;0;0;0m██\u001b[38;2;0;0;0m██\u001b[38;2;0;0;0m██\u001b[38;2;0;0;0m██\u001b[38;2;1;1;1m██\u001b[38;2;8;8;8m██\u001b[38;2;8;8;8m██\u001b[38;2;26;26;26m██\u001b[38;2;5;5;5m██\u001b[38;2;1;1;1m██\u001b[38;2;0;0;0m██\u001b[38;2;30;30;30m██\u001b[38;2;0;0;0m██\u001b[38;2;0;0;0m██\u001b[38;2;0;0;0m██\u001b[38;2;0;0;0m██\u001b[38;2;0;0;0m██\u001b[38;2;0;0;0m██\u001b[38;2;0;0;0m██\u001b[38;2;0;0;0m██\u001b[38;2;47;47;47m██\u001b[38;2;47;47;47m██\u001b[38;2;51;51;51m██\u001b[38;2;9;9;9m██\u001b[38;2;79;79;79m██\u001b[38;2;113;113;113m██\u001b[38;2;112;112;112m██\u001b[38;2;43;43;43m██\u001b[0m\n",
       "\u001b[0m\u001b[38;2;0;0;0m██\u001b[38;2;0;0;0m██\u001b[38;2;0;0;0m██\u001b[38;2;0;0;0m██\u001b[38;2;0;0;0m██\u001b[38;2;0;0;0m██\u001b[38;2;0;0;0m██\u001b[38;2;0;0;0m██\u001b[38;2;0;0;0m██\u001b[38;2;0;0;0m██\u001b[38;2;0;0;0m██\u001b[38;2;0;0;0m██\u001b[38;2;0;0;0m██\u001b[38;2;0;0;0m██\u001b[38;2;0;0;0m██\u001b[38;2;0;0;0m██\u001b[38;2;0;0;0m██\u001b[38;2;0;0;0m██\u001b[38;2;26;26;26m██\u001b[38;2;92;92;92m██\u001b[38;2;120;120;120m██\u001b[38;2;130;130;130m██\u001b[38;2;118;118;118m██\u001b[38;2;106;106;106m██\u001b[38;2;131;131;131m██\u001b[38;2;127;127;127m██\u001b[38;2;107;107;107m██\u001b[38;2;57;57;57m██\u001b[0m\n",
       "\u001b[0m\u001b[38;2;0;0;0m██\u001b[38;2;0;0;0m██\u001b[38;2;0;0;0m██\u001b[38;2;0;0;0m██\u001b[38;2;0;0;0m██\u001b[38;2;0;0;0m██\u001b[38;2;0;0;0m██\u001b[38;2;0;0;0m██\u001b[38;2;0;0;0m██\u001b[38;2;0;0;0m██\u001b[38;2;0;0;0m██\u001b[38;2;0;0;0m██\u001b[38;2;0;0;0m██\u001b[38;2;2;2;2m██\u001b[38;2;27;27;27m██\u001b[38;2;51;51;51m██\u001b[38;2;92;92;92m██\u001b[38;2;105;105;105m██\u001b[38;2;116;116;116m██\u001b[38;2;136;136;136m██\u001b[38;2;142;142;142m██\u001b[38;2;139;139;139m██\u001b[38;2;83;83;83m██\u001b[38;2;81;81;81m██\u001b[38;2;81;81;81m██\u001b[38;2;73;73;73m██\u001b[38;2;32;32;32m██\u001b[38;2;18;18;18m██\u001b[0m\n",
       "\u001b[0m\u001b[38;2;0;0;0m██\u001b[38;2;0;0;0m██\u001b[38;2;0;0;0m██\u001b[38;2;0;0;0m██\u001b[38;2;0;0;0m██\u001b[38;2;0;0;0m██\u001b[38;2;0;0;0m██\u001b[38;2;0;0;0m██\u001b[38;2;0;0;0m██\u001b[38;2;0;0;0m██\u001b[38;2;0;0;0m██\u001b[38;2;0;0;0m██\u001b[38;2;9;9;9m██\u001b[38;2;32;32;32m██\u001b[38;2;82;82;82m██\u001b[38;2;74;74;74m██\u001b[38;2;116;116;116m██\u001b[38;2;123;123;123m██\u001b[38;2;114;114;114m██\u001b[38;2;111;111;111m██\u001b[38;2;139;139;139m██\u001b[38;2;141;141;141m██\u001b[38;2;48;48;48m██\u001b[38;2;41;41;41m██\u001b[38;2;55;55;55m██\u001b[38;2;54;54;54m██\u001b[38;2;0;0;0m██\u001b[38;2;0;0;0m██\u001b[0m\n",
       "\u001b[0m\u001b[38;2;0;0;0m██\u001b[38;2;0;0;0m██\u001b[38;2;0;0;0m██\u001b[38;2;0;0;0m██\u001b[38;2;0;0;0m██\u001b[38;2;0;0;0m██\u001b[38;2;0;0;0m██\u001b[38;2;0;0;0m██\u001b[38;2;0;0;0m██\u001b[38;2;0;0;0m██\u001b[38;2;49;49;49m██\u001b[38;2;21;21;21m██\u001b[38;2;70;70;70m██\u001b[38;2;88;88;88m██\u001b[38;2;133;133;133m██\u001b[38;2;118;118;118m██\u001b[38;2;100;100;100m██\u001b[38;2;96;96;96m██\u001b[38;2;16;16;16m██\u001b[38;2;73;73;73m██\u001b[38;2;21;21;21m██\u001b[38;2;24;24;24m██\u001b[38;2;0;0;0m██\u001b[38;2;0;0;0m██\u001b[38;2;20;20;20m██\u001b[38;2;44;44;44m██\u001b[38;2;7;7;7m██\u001b[38;2;7;7;7m██\u001b[0m\n",
       "\u001b[0m\u001b[38;2;4;4;4m██\u001b[38;2;1;1;1m██\u001b[38;2;12;12;12m██\u001b[38;2;0;0;0m██\u001b[38;2;0;0;0m██\u001b[38;2;8;8;8m██\u001b[38;2;46;46;46m██\u001b[38;2;7;7;7m██\u001b[38;2;0;0;0m██\u001b[38;2;50;50;50m██\u001b[38;2;79;79;79m██\u001b[38;2;50;50;50m██\u001b[38;2;55;55;55m██\u001b[38;2;31;31;31m██\u001b[38;2;37;37;37m██\u001b[38;2;56;56;56m██\u001b[38;2;93;93;93m██\u001b[38;2;27;27;27m██\u001b[38;2;0;0;0m██\u001b[38;2;0;0;0m██\u001b[38;2;0;0;0m██\u001b[38;2;0;0;0m██\u001b[38;2;0;0;0m██\u001b[38;2;0;0;0m██\u001b[38;2;17;17;17m██\u001b[38;2;9;9;9m██\u001b[38;2;2;2;2m██\u001b[38;2;0;0;0m██\u001b[0m\n",
       "\u001b[0m\u001b[38;2;32;32;32m██\u001b[38;2;34;34;34m██\u001b[38;2;34;34;34m██\u001b[38;2;3;3;3m██\u001b[38;2;8;8;8m██\u001b[38;2;30;30;30m██\u001b[38;2;84;84;84m██\u001b[38;2;17;17;17m██\u001b[38;2;0;0;0m██\u001b[38;2;0;0;0m██\u001b[38;2;0;0;0m██\u001b[38;2;0;0;0m██\u001b[38;2;18;18;18m██\u001b[38;2;17;17;17m██\u001b[38;2;0;0;0m██\u001b[38;2;21;21;21m██\u001b[38;2;51;51;51m██\u001b[38;2;27;27;27m██\u001b[38;2;5;5;5m██\u001b[38;2;8;8;8m██\u001b[38;2;29;29;29m██\u001b[38;2;23;23;23m██\u001b[38;2;0;0;0m██\u001b[38;2;1;1;1m██\u001b[38;2;5;5;5m██\u001b[38;2;3;3;3m██\u001b[38;2;5;5;5m██\u001b[38;2;0;0;0m██\u001b[0m\n",
       "\u001b[0m\u001b[38;2;29;29;29m██\u001b[38;2;34;34;34m██\u001b[38;2;34;34;34m██\u001b[38;2;35;35;35m██\u001b[38;2;23;23;23m██\u001b[38;2;12;12;12m██\u001b[38;2;58;58;58m██\u001b[38;2;66;66;66m██\u001b[38;2;0;0;0m██\u001b[38;2;0;0;0m██\u001b[38;2;0;0;0m██\u001b[38;2;0;0;0m██\u001b[38;2;0;0;0m██\u001b[38;2;6;6;6m██\u001b[38;2;0;0;0m██\u001b[38;2;0;0;0m██\u001b[38;2;0;0;0m██\u001b[38;2;38;38;38m██\u001b[38;2;63;63;63m██\u001b[38;2;33;33;33m██\u001b[38;2;44;44;44m██\u001b[38;2;56;56;56m██\u001b[38;2;1;1;1m██\u001b[38;2;0;0;0m██\u001b[38;2;0;0;0m██\u001b[38;2;0;0;0m██\u001b[38;2;13;13;13m██\u001b[38;2;10;10;10m██\u001b[0m\n",
       "\u001b[0m\u001b[38;2;11;11;11m██\u001b[38;2;21;21;21m██\u001b[38;2;14;14;14m██\u001b[38;2;34;34;34m██\u001b[38;2;40;40;40m██\u001b[38;2;0;0;0m██\u001b[38;2;0;0;0m██\u001b[38;2;4;4;4m██\u001b[38;2;0;0;0m██\u001b[38;2;0;0;0m██\u001b[38;2;0;0;0m██\u001b[38;2;0;0;0m██\u001b[38;2;0;0;0m██\u001b[38;2;0;0;0m██\u001b[38;2;36;36;36m██\u001b[38;2;38;38;38m██\u001b[38;2;30;30;30m██\u001b[38;2;96;96;96m██\u001b[38;2;131;131;131m██\u001b[38;2;94;94;94m██\u001b[38;2;49;49;49m██\u001b[38;2;56;56;56m██\u001b[38;2;59;59;59m██\u001b[38;2;28;28;28m██\u001b[38;2;40;40;40m██\u001b[38;2;37;37;37m██\u001b[38;2;42;42;42m██\u001b[38;2;32;32;32m██\u001b[0m\n",
       "\u001b[0m\u001b[38;2;0;0;0m██\u001b[38;2;0;0;0m██\u001b[38;2;0;0;0m██\u001b[38;2;10;10;10m██\u001b[38;2;26;26;26m██\u001b[38;2;0;0;0m██\u001b[38;2;0;0;0m██\u001b[38;2;0;0;0m██\u001b[38;2;0;0;0m██\u001b[38;2;0;0;0m██\u001b[38;2;0;0;0m██\u001b[38;2;0;0;0m██\u001b[38;2;0;0;0m██\u001b[38;2;0;0;0m██\u001b[38;2;43;43;43m██\u001b[38;2;82;82;82m██\u001b[38;2;90;90;90m██\u001b[38;2;128;128;128m██\u001b[38;2;161;161;161m██\u001b[38;2;129;129;129m██\u001b[38;2;72;72;72m██\u001b[38;2;54;54;54m██\u001b[38;2;68;68;68m██\u001b[38;2;68;68;68m██\u001b[38;2;91;91;91m██\u001b[38;2;63;63;63m██\u001b[38;2;36;36;36m██\u001b[38;2;10;10;10m██\u001b[0m\n",
       "\u001b[0m\u001b[38;2;0;0;0m██\u001b[38;2;0;0;0m██\u001b[38;2;0;0;0m██\u001b[38;2;8;8;8m██\u001b[38;2;48;48;48m██\u001b[38;2;39;39;39m██\u001b[38;2;0;0;0m██\u001b[38;2;0;0;0m██\u001b[38;2;0;0;0m██\u001b[38;2;0;0;0m██\u001b[38;2;0;0;0m██\u001b[38;2;0;0;0m██\u001b[38;2;0;0;0m██\u001b[38;2;0;0;0m██\u001b[38;2;55;55;55m██\u001b[38;2;97;97;97m██\u001b[38;2;77;77;77m██\u001b[38;2;67;67;67m██\u001b[38;2;75;75;75m██\u001b[38;2;94;94;94m██\u001b[38;2;78;78;78m██\u001b[38;2;89;89;89m██\u001b[38;2;59;59;59m██\u001b[38;2;57;57;57m██\u001b[38;2;66;66;66m██\u001b[38;2;62;62;62m██\u001b[38;2;47;47;47m██\u001b[38;2;10;10;10m██\u001b[0m\n",
       "\u001b[0m\u001b[38;2;0;0;0m██\u001b[38;2;0;0;0m██\u001b[38;2;0;0;0m██\u001b[38;2;0;0;0m██\u001b[38;2;32;32;32m██\u001b[38;2;44;44;44m██\u001b[38;2;26;26;26m██\u001b[38;2;25;25;25m██\u001b[38;2;35;35;35m██\u001b[38;2;5;5;5m██\u001b[38;2;0;0;0m██\u001b[38;2;0;0;0m██\u001b[38;2;28;28;28m██\u001b[38;2;0;0;0m██\u001b[38;2;0;0;0m██\u001b[38;2;10;10;10m██\u001b[38;2;64;64;64m██\u001b[38;2;54;54;54m██\u001b[38;2;27;27;27m██\u001b[38;2;16;16;16m██\u001b[38;2;49;49;49m██\u001b[38;2;93;93;93m██\u001b[38;2;69;69;69m██\u001b[38;2;59;59;59m██\u001b[38;2;18;18;18m██\u001b[38;2;51;51;51m██\u001b[38;2;61;61;61m██\u001b[38;2;42;42;42m██\u001b[0m\n",
       "\u001b[0m\u001b[38;2;0;0;0m██\u001b[38;2;0;0;0m██\u001b[38;2;0;0;0m██\u001b[38;2;0;0;0m██\u001b[38;2;0;0;0m██\u001b[38;2;39;39;39m██\u001b[38;2;62;62;62m██\u001b[38;2;81;81;81m██\u001b[38;2;76;76;76m██\u001b[38;2;23;23;23m██\u001b[38;2;29;29;29m██\u001b[38;2;13;13;13m██\u001b[38;2;59;59;59m██\u001b[38;2;0;0;0m██\u001b[38;2;0;0;0m██\u001b[38;2;0;0;0m██\u001b[38;2;6;6;6m██\u001b[38;2;57;57;57m██\u001b[38;2;40;40;40m██\u001b[38;2;19;19;19m██\u001b[38;2;4;4;4m██\u001b[38;2;76;76;76m██\u001b[38;2;70;70;70m██\u001b[38;2;68;68;68m██\u001b[38;2;35;35;35m██\u001b[38;2;74;74;74m██\u001b[38;2;87;87;87m██\u001b[38;2;68;68;68m██\u001b[0m\n",
       "\u001b[0m\u001b[38;2;0;0;0m██\u001b[38;2;0;0;0m██\u001b[38;2;0;0;0m██\u001b[38;2;0;0;0m██\u001b[38;2;0;0;0m██\u001b[38;2;25;25;25m██\u001b[38;2;53;53;53m██\u001b[38;2;89;89;89m██\u001b[38;2;96;96;96m██\u001b[38;2;62;62;62m██\u001b[38;2;37;37;37m██\u001b[38;2;0;0;0m██\u001b[38;2;32;32;32m██\u001b[38;2;0;0;0m██\u001b[38;2;0;0;0m██\u001b[38;2;0;0;0m██\u001b[38;2;0;0;0m██\u001b[38;2;25;25;25m██\u001b[38;2;68;68;68m██\u001b[38;2;80;80;80m██\u001b[38;2;78;78;78m██\u001b[38;2;98;98;98m██\u001b[38;2;94;94;94m██\u001b[38;2;99;99;99m██\u001b[38;2;62;62;62m██\u001b[38;2;84;84;84m██\u001b[38;2;84;84;84m██\u001b[38;2;61;61;61m██\u001b[0m\n",
       "\u001b[0m\u001b[38;2;0;0;0m██\u001b[38;2;1;1;1m██\u001b[38;2;8;8;8m██\u001b[38;2;9;9;9m██\u001b[38;2;32;32;32m██\u001b[38;2;31;31;31m██\u001b[38;2;36;36;36m██\u001b[38;2;67;67;67m██\u001b[38;2;50;50;50m██\u001b[38;2;0;0;0m██\u001b[38;2;0;0;0m██\u001b[38;2;0;0;0m██\u001b[38;2;10;10;10m██\u001b[38;2;0;0;0m██\u001b[38;2;0;0;0m██\u001b[38;2;0;0;0m██\u001b[38;2;0;0;0m██\u001b[38;2;20;20;20m██\u001b[38;2;61;61;61m██\u001b[38;2;106;106;106m██\u001b[38;2;119;119;119m██\u001b[38;2;143;143;143m██\u001b[38;2;151;151;151m██\u001b[38;2;122;122;122m██\u001b[38;2;63;63;63m██\u001b[38;2;61;61;61m██\u001b[38;2;56;56;56m██\u001b[38;2;44;44;44m██\u001b[0m\n",
       "\u001b[0m\u001b[38;2;0;0;0m██\u001b[38;2;15;15;15m██\u001b[38;2;8;8;8m██\u001b[38;2;0;0;0m██\u001b[38;2;0;0;0m██\u001b[38;2;0;0;0m██\u001b[38;2;2;2;2m██\u001b[38;2;0;0;0m██\u001b[38;2;0;0;0m██\u001b[38;2;0;0;0m██\u001b[38;2;0;0;0m██\u001b[38;2;0;0;0m██\u001b[38;2;0;0;0m██\u001b[38;2;14;14;14m██\u001b[38;2;41;41;41m██\u001b[38;2;84;84;84m██\u001b[38;2;84;84;84m██\u001b[38;2;48;48;48m██\u001b[38;2;40;40;40m██\u001b[38;2;66;66;66m██\u001b[38;2;152;152;152m██\u001b[38;2;150;150;150m██\u001b[38;2;104;104;104m██\u001b[38;2;79;79;79m██\u001b[38;2;65;65;65m██\u001b[38;2;44;44;44m██\u001b[38;2;3;3;3m██\u001b[38;2;0;0;0m██\u001b[0m\n",
       "\u001b[0m\u001b[38;2;0;0;0m██\u001b[38;2;0;0;0m██\u001b[38;2;0;0;0m██\u001b[38;2;0;0;0m██\u001b[38;2;0;0;0m██\u001b[38;2;0;0;0m██\u001b[38;2;0;0;0m██\u001b[38;2;0;0;0m██\u001b[38;2;0;0;0m██\u001b[38;2;0;0;0m██\u001b[38;2;0;0;0m██\u001b[38;2;0;0;0m██\u001b[38;2;0;0;0m██\u001b[38;2;70;70;70m██\u001b[38;2;103;103;103m██\u001b[38;2;132;132;132m██\u001b[38;2;112;112;112m██\u001b[38;2;57;57;57m██\u001b[38;2;79;79;79m██\u001b[38;2;70;70;70m██\u001b[38;2;92;92;92m██\u001b[38;2;83;83;83m██\u001b[38;2;60;60;60m██\u001b[38;2;51;51;51m██\u001b[38;2;18;18;18m██\u001b[38;2;0;0;0m██\u001b[38;2;0;0;0m██\u001b[38;2;0;0;0m██\u001b[0m\n",
       "\u001b[0m\u001b[38;2;0;0;0m██\u001b[38;2;0;0;0m██\u001b[38;2;0;0;0m██\u001b[38;2;0;0;0m██\u001b[38;2;0;0;0m██\u001b[38;2;0;0;0m██\u001b[38;2;0;0;0m██\u001b[38;2;0;0;0m██\u001b[38;2;0;0;0m██\u001b[38;2;0;0;0m██\u001b[38;2;48;48;48m██\u001b[38;2;120;120;120m██\u001b[38;2;112;112;112m██\u001b[38;2;128;128;128m██\u001b[38;2;101;101;101m██\u001b[38;2;107;107;107m██\u001b[38;2;65;65;65m██\u001b[38;2;41;41;41m██\u001b[38;2;34;34;34m██\u001b[38;2;48;48;48m██\u001b[38;2;125;125;125m██\u001b[38;2;81;81;81m██\u001b[38;2;21;21;21m██\u001b[38;2;0;0;0m██\u001b[38;2;0;0;0m██\u001b[38;2;0;0;0m██\u001b[38;2;0;0;0m██\u001b[38;2;0;0;0m██\u001b[0m\n",
       "\u001b[0m\u001b[38;2;0;0;0m██\u001b[38;2;0;0;0m██\u001b[38;2;0;0;0m██\u001b[38;2;0;0;0m██\u001b[38;2;0;0;0m██\u001b[38;2;0;0;0m██\u001b[38;2;0;0;0m██\u001b[38;2;0;0;0m██\u001b[38;2;30;30;30m██\u001b[38;2;118;118;118m██\u001b[38;2;138;138;138m██\u001b[38;2;159;159;159m██\u001b[38;2;138;138;138m██\u001b[38;2;134;134;134m██\u001b[38;2;115;115;115m██\u001b[38;2;82;82;82m██\u001b[38;2;16;16;16m██\u001b[38;2;0;0;0m██\u001b[38;2;0;0;0m██\u001b[38;2;47;47;47m██\u001b[38;2;101;101;101m██\u001b[38;2;64;64;64m██\u001b[38;2;26;26;26m██\u001b[38;2;0;0;0m██\u001b[38;2;0;0;0m██\u001b[38;2;0;0;0m██\u001b[38;2;0;0;0m██\u001b[38;2;0;0;0m██\u001b[0m\n",
       "\u001b[0m\u001b[38;2;0;0;0m██\u001b[38;2;0;0;0m██\u001b[38;2;0;0;0m██\u001b[38;2;0;0;0m██\u001b[38;2;0;0;0m██\u001b[38;2;0;0;0m██\u001b[38;2;0;0;0m██\u001b[38;2;47;47;47m██\u001b[38;2;138;138;138m██\u001b[38;2;172;172;172m██\u001b[38;2;119;119;119m██\u001b[38;2;75;75;75m██\u001b[38;2;67;67;67m██\u001b[38;2;66;66;66m██\u001b[38;2;56;56;56m██\u001b[38;2;8;8;8m██\u001b[38;2;0;0;0m██\u001b[38;2;0;0;0m██\u001b[38;2;9;9;9m██\u001b[38;2;6;6;6m██\u001b[38;2;31;31;31m██\u001b[38;2;55;55;55m██\u001b[38;2;37;37;37m██\u001b[38;2;15;15;15m██\u001b[38;2;0;0;0m██\u001b[38;2;0;0;0m██\u001b[38;2;0;0;0m██\u001b[38;2;0;0;0m██\u001b[0m\n",
       "\u001b[0m\u001b[38;2;3;3;3m██\u001b[38;2;9;9;9m██\u001b[38;2;29;29;29m██\u001b[38;2;34;34;34m██\u001b[38;2;37;37;37m██\u001b[38;2;36;36;36m██\u001b[38;2;67;67;67m██\u001b[38;2;71;71;71m██\u001b[38;2;55;55;55m██\u001b[38;2;50;50;50m██\u001b[38;2;0;0;0m██\u001b[38;2;0;0;0m██\u001b[38;2;0;0;0m██\u001b[38;2;0;0;0m██\u001b[38;2;0;0;0m██\u001b[38;2;0;0;0m██\u001b[38;2;0;0;0m██\u001b[38;2;17;17;17m██\u001b[38;2;8;8;8m██\u001b[38;2;0;0;0m██\u001b[38;2;0;0;0m██\u001b[38;2;40;40;40m██\u001b[38;2;40;40;40m██\u001b[38;2;39;39;39m██\u001b[38;2;12;12;12m██\u001b[38;2;0;0;0m██\u001b[38;2;0;0;0m██\u001b[38;2;0;0;0m██\u001b[0m\n",
       "\u001b[0m\u001b[38;2;29;29;29m██\u001b[38;2;34;34;34m██\u001b[38;2;38;38;38m██\u001b[38;2;69;69;69m██\u001b[38;2;79;79;79m██\u001b[38;2;74;74;74m██\u001b[38;2;42;42;42m██\u001b[38;2;0;0;0m██\u001b[38;2;0;0;0m██\u001b[38;2;0;0;0m██\u001b[38;2;0;0;0m██\u001b[38;2;0;0;0m██\u001b[38;2;0;0;0m██\u001b[38;2;0;0;0m██\u001b[38;2;7;7;7m██\u001b[38;2;6;6;6m██\u001b[38;2;0;0;0m██\u001b[38;2;0;0;0m██\u001b[38;2;0;0;0m██\u001b[38;2;15;15;15m██\u001b[38;2;36;36;36m██\u001b[38;2;45;45;45m██\u001b[38;2;50;50;50m██\u001b[38;2;39;39;39m██\u001b[38;2;2;2;2m██\u001b[38;2;0;0;0m██\u001b[38;2;0;0;0m██\u001b[38;2;0;0;0m██\u001b[0m\n",
       "\u001b[0m\u001b[38;2;45;45;45m██\u001b[38;2;69;69;69m██\u001b[38;2;81;81;81m██\u001b[38;2;85;85;85m██\u001b[38;2;48;48;48m██\u001b[38;2;0;0;0m██\u001b[38;2;0;0;0m██\u001b[38;2;0;0;0m██\u001b[38;2;0;0;0m██\u001b[38;2;0;0;0m██\u001b[38;2;0;0;0m██\u001b[38;2;0;0;0m██\u001b[38;2;41;41;41m██\u001b[38;2;70;70;70m██\u001b[38;2;45;45;45m██\u001b[38;2;2;2;2m██\u001b[38;2;0;0;0m██\u001b[38;2;0;0;0m██\u001b[38;2;0;0;0m██\u001b[38;2;29;29;29m██\u001b[38;2;52;52;52m██\u001b[38;2;52;52;52m██\u001b[38;2;41;41;41m██\u001b[38;2;26;26;26m██\u001b[38;2;0;0;0m██\u001b[38;2;0;0;0m██\u001b[38;2;0;0;0m██\u001b[38;2;0;0;0m██\u001b[0m\n",
       "\u001b[0m\u001b[38;2;57;57;57m██\u001b[38;2;70;70;70m██\u001b[38;2;68;68;68m██\u001b[38;2;46;46;46m██\u001b[38;2;0;0;0m██\u001b[38;2;0;0;0m██\u001b[38;2;0;0;0m██\u001b[38;2;0;0;0m██\u001b[38;2;0;0;0m██\u001b[38;2;0;0;0m██\u001b[38;2;0;0;0m██\u001b[38;2;34;34;34m██\u001b[38;2;43;43;43m██\u001b[38;2;46;46;46m██\u001b[38;2;33;33;33m██\u001b[38;2;17;17;17m██\u001b[38;2;1;1;1m██\u001b[38;2;2;2;2m██\u001b[38;2;8;8;8m██\u001b[38;2;20;20;20m██\u001b[38;2;34;34;34m██\u001b[38;2;37;37;37m██\u001b[38;2;16;16;16m██\u001b[38;2;0;0;0m██\u001b[38;2;0;0;0m██\u001b[38;2;1;1;1m██\u001b[38;2;9;9;9m██\u001b[38;2;11;11;11m██\u001b[0m\n",
       "\u001b[0m\u001b[38;2;0;0;0m██\u001b[38;2;0;0;0m██\u001b[38;2;0;0;0m██\u001b[38;2;0;0;0m██\u001b[38;2;0;0;0m██\u001b[38;2;0;0;0m██\u001b[38;2;12;12;12m██\u001b[38;2;21;21;21m██\u001b[38;2;28;28;28m██\u001b[38;2;19;19;19m██\u001b[38;2;10;10;10m██\u001b[38;2;0;0;0m██\u001b[38;2;0;0;0m██\u001b[38;2;34;34;34m██\u001b[38;2;59;59;59m██\u001b[38;2;68;68;68m██\u001b[38;2;45;45;45m██\u001b[38;2;18;18;18m██\u001b[38;2;8;8;8m██\u001b[38;2;0;0;0m██\u001b[38;2;0;0;0m██\u001b[38;2;4;4;4m██\u001b[38;2;4;4;4m██\u001b[38;2;7;7;7m██\u001b[38;2;0;0;0m██\u001b[38;2;14;14;14m██\u001b[38;2;14;14;14m██\u001b[38;2;14;14;14m██\u001b[0m\n",
       "\u001b[0m\u001b[38;2;0;0;0m██\u001b[38;2;0;0;0m██\u001b[38;2;0;0;0m██\u001b[38;2;6;6;6m██\u001b[38;2;13;13;13m██\u001b[38;2;22;22;22m██\u001b[38;2;26;26;26m██\u001b[38;2;18;18;18m██\u001b[38;2;13;13;13m██\u001b[38;2;0;0;0m██\u001b[38;2;0;0;0m██\u001b[38;2;24;24;24m██\u001b[38;2;49;49;49m██\u001b[38;2;69;69;69m██\u001b[38;2;72;72;72m██\u001b[38;2;52;52;52m██\u001b[38;2;13;13;13m██\u001b[38;2;0;0;0m██\u001b[38;2;0;0;0m██\u001b[38;2;0;0;0m██\u001b[38;2;0;0;0m██\u001b[38;2;7;7;7m██\u001b[38;2;18;18;18m██\u001b[38;2;24;24;24m██\u001b[38;2;11;11;11m██\u001b[38;2;14;14;14m██\u001b[38;2;14;14;14m██\u001b[38;2;12;12;12m██\u001b[0m\n",
       "\u001b[0m\u001b[38;2;0;0;0m██\u001b[38;2;6;6;6m██\u001b[38;2;14;14;14m██\u001b[38;2;18;18;18m██\u001b[38;2;21;21;21m██\u001b[38;2;17;17;17m██\u001b[38;2;10;10;10m██\u001b[38;2;6;6;6m██\u001b[38;2;6;6;6m██\u001b[38;2;25;25;25m██\u001b[38;2;45;45;45m██\u001b[38;2;57;57;57m██\u001b[38;2;66;66;66m██\u001b[38;2;58;58;58m██\u001b[38;2;48;48;48m██\u001b[38;2;32;32;32m██\u001b[38;2;0;0;0m██\u001b[38;2;0;0;0m██\u001b[38;2;0;0;0m██\u001b[38;2;0;0;0m██\u001b[38;2;14;14;14m██\u001b[38;2;28;28;28m██\u001b[38;2;33;33;33m██\u001b[38;2;29;29;29m██\u001b[38;2;14;14;14m██\u001b[38;2;14;14;14m██\u001b[38;2;14;14;14m██\u001b[38;2;10;10;10m██\u001b[0m"
      ]
     },
     "execution_count": 94,
     "metadata": {},
     "output_type": "execute_result"
    }
   ],
   "source": [
    "cnn_output = cnn_layer( images[:,:,:,1:3] )\n",
    "display( cnn_output |> size )\n",
    "convert2image( MNIST , cnn_output[:,:,1,1] )"
   ]
  },
  {
   "cell_type": "markdown",
   "metadata": {},
   "source": [
    "## <span style=\"color:orange\"> Transposed convolutional  </span>\n",
    "\n",
    "- Transposed convolutional layers 'upsample' the data, so that the output feature map goes from 'low' resolution to 'high' resolution.\n",
    "- Previously the operations would 'downsample' that reduces resolution.\n",
    "- Increases the size of the output\n",
    "- Takes each kernel element and projects onto the surroundings to create a patch\n",
    "\n",
    "![image info](./demoPics/no_padding_no_strides_transposed.gif)\n",
    "\n",
    "(transposed convolution, no padding no strides)\n",
    "\n",
    "![image info](./demoPics/full_padding_no_strides_transposed.gif)\n",
    "\n",
    "(transposed convolution, full padding no strides)\n",
    "\n",
    "![image info](./demoPics/padding_strides_transposed.gif)\n",
    "\n",
    "(transposed convolution, padding no strides)"
   ]
  },
  {
   "cell_type": "code",
   "execution_count": 95,
   "metadata": {},
   "outputs": [
    {
     "data": {
      "text/plain": [
       "(14, 14, 1, 10)"
      ]
     },
     "execution_count": 95,
     "metadata": {},
     "output_type": "execute_result"
    }
   ],
   "source": [
    "x = rand(Float32, 10, 10, 1, 10); \n",
    "cnn_layer = ConvTranspose( (5,5) , 1 => 1  )\n",
    "cnn_layer( x ) |> size"
   ]
  },
  {
   "cell_type": "code",
   "execution_count": 96,
   "metadata": {},
   "outputs": [
    {
     "data": {
      "text/plain": [
       "(32, 32, 1, 3)"
      ]
     },
     "metadata": {},
     "output_type": "display_data"
    },
    {
     "data": {
      "image/png": "[encoded data removed]",
      "text/html": [
       "<img src=\"data:image/png;base64,iVBORw0KGgoAAAANSUhEUgAAAIAAAACACAAAAADmVT4XAAAABGdBTUEAALGPC/xhBQAAAAFzUkdCAK7OHOkAAAAgY0hSTQAAeiYAAICEAAD6AAAAgOgAAHUwAADqYAAAOpgAABdwnLpRPAAAAltJREFUeAHFwTFrHAQABtCX9EutmtqGgkZBHCI46Coogrh0EQQXXfSX+DcEJzdx0MXB4qwVS+kgInawtASCklAs0SYmadMYhwzhktzlLil870VZlEVZlEVZlEVZlEVZlEVZlEVZlEVZlEVZlEVZlMUJTGHX4xFlURZlcYwz2DFo1+SexwyWDIqyKIuyGGEGl7Di9JYdLcqiLMpihPN4E9+YzNt4iOsGzWDboCiLsiiLEdZwHh/hS+O7atAMLuMv3DAoyqIsymKEc9jFx/gOqyb3HF7CJhYdFmVRFmUxwhq+wBWsGt8C7uAcHuF3/Ic1h0VZlEVZjGHVvvfwrUGz9qxjDu/iU2xhy2hRFmVRFhMKXsVN+9btW8VPxhdlURZlMaEr+AQ3Dfez8UVZlEVZTGgbn+NDfO30oizKoixO4E8s4318jzksOmwKu0aLsiiLsjihH/EUnsE7WHTYLNaMFmVRFmVxChvYwFeOtoaL+NtwURZlURYTCs7ggX0bjjaHVaNFWZRFWYxpGjPYwQPjeR3XsG64KIuyKItjTNvzBDZN5l88iXXDRVmURVkMMY1Z3Ldn02RexGu4ZrQoi7IoiwPO2vMQ953MW3gWv2HXaFEWZVEWB7yA4LbJvYIF/IPrWHa8KIuyKIsDnsYFzOEC5nEVS4Z7GQtYxy9Yxq7xRFmURVkcsIQPcBGfYctw83gDd/Er7mLHZKIsyqIsDjiLH3DHaJcxhVu4hUdOJsqiLMrigHu452jzuIR1/IHb2HY6URZlURYTWMGKxyvKoizKoizKoizKoizKoizK/gfsxGaIbeR3rQAAAABJRU5ErkJg\">"
      ],
      "text/plain": [
       "\u001b[0m\u001b[38;2;0;0;0;48;2;0;0;0m▀\u001b[38;2;0;0;0;48;2;0;0;0m▀\u001b[38;2;0;0;0;48;2;0;0;0m▀\u001b[38;2;0;0;0;48;2;0;0;0m▀\u001b[38;2;0;0;0;48;2;0;0;0m▀\u001b[38;2;0;0;0;48;2;0;0;0m▀\u001b[38;2;0;0;0;48;2;0;0;0m▀\u001b[38;2;0;0;0;48;2;0;0;0m▀\u001b[38;2;0;0;0;48;2;0;0;0m▀\u001b[38;2;0;0;0;48;2;0;0;0m▀\u001b[38;2;0;0;0;48;2;0;0;0m▀\u001b[38;2;0;0;0;48;2;0;0;0m▀\u001b[38;2;0;0;0;48;2;0;0;0m▀\u001b[38;2;0;0;0;48;2;0;0;0m▀\u001b[38;2;0;0;0;48;2;0;0;0m▀\u001b[38;2;0;0;0;48;2;0;0;0m▀\u001b[38;2;0;0;0;48;2;0;0;0m▀\u001b[38;2;0;0;0;48;2;0;0;0m▀\u001b[38;2;0;0;0;48;2;0;0;0m▀\u001b[38;2;0;0;0;48;2;0;0;0m▀\u001b[38;2;0;0;0;48;2;0;0;0m▀\u001b[38;2;0;0;0;48;2;0;0;0m▀\u001b[38;2;0;0;0;48;2;0;0;0m▀\u001b[38;2;0;0;0;48;2;0;0;0m▀\u001b[38;2;0;0;0;48;2;0;0;0m▀\u001b[38;2;0;0;0;48;2;0;0;0m▀\u001b[38;2;0;0;0;48;2;0;0;0m▀\u001b[38;2;0;0;0;48;2;0;0;0m▀\u001b[38;2;0;0;0;48;2;0;0;0m▀\u001b[38;2;0;0;0;48;2;0;0;0m▀\u001b[38;2;0;0;0;48;2;0;0;0m▀\u001b[38;2;0;0;0;48;2;0;0;0m▀\u001b[0m\n",
       "\u001b[0m\u001b[38;2;0;0;0;48;2;0;0;0m▀\u001b[38;2;0;0;0;48;2;0;0;0m▀\u001b[38;2;0;0;0;48;2;0;0;0m▀\u001b[38;2;0;0;0;48;2;0;0;0m▀\u001b[38;2;0;0;0;48;2;0;0;0m▀\u001b[38;2;0;0;0;48;2;0;0;0m▀\u001b[38;2;0;0;0;48;2;0;0;0m▀\u001b[38;2;0;0;0;48;2;0;0;0m▀\u001b[38;2;0;0;0;48;2;0;0;0m▀\u001b[38;2;0;0;0;48;2;0;0;0m▀\u001b[38;2;0;0;0;48;2;0;0;0m▀\u001b[38;2;0;0;0;48;2;0;0;0m▀\u001b[38;2;0;0;0;48;2;0;0;0m▀\u001b[38;2;0;0;0;48;2;0;0;0m▀\u001b[38;2;0;0;0;48;2;0;0;0m▀\u001b[38;2;0;0;0;48;2;0;0;0m▀\u001b[38;2;0;0;0;48;2;0;0;0m▀\u001b[38;2;0;0;0;48;2;0;0;0m▀\u001b[38;2;0;0;0;48;2;0;0;0m▀\u001b[38;2;0;0;0;48;2;0;0;0m▀\u001b[38;2;0;0;0;48;2;0;0;0m▀\u001b[38;2;0;0;0;48;2;0;0;0m▀\u001b[38;2;0;0;0;48;2;0;0;0m▀\u001b[38;2;0;0;0;48;2;0;0;0m▀\u001b[38;2;0;0;0;48;2;0;0;0m▀\u001b[38;2;0;0;0;48;2;0;0;0m▀\u001b[38;2;0;0;0;48;2;0;0;0m▀\u001b[38;2;0;0;0;48;2;0;0;0m▀\u001b[38;2;0;0;0;48;2;0;0;0m▀\u001b[38;2;0;0;0;48;2;0;0;0m▀\u001b[38;2;0;0;0;48;2;0;0;0m▀\u001b[38;2;0;0;0;48;2;0;0;0m▀\u001b[0m\n",
       "\u001b[0m\u001b[38;2;0;0;0;48;2;0;0;0m▀\u001b[38;2;0;0;0;48;2;0;0;0m▀\u001b[38;2;0;0;0;48;2;0;0;0m▀\u001b[38;2;0;0;0;48;2;0;0;0m▀\u001b[38;2;0;0;0;48;2;0;0;0m▀\u001b[38;2;0;0;0;48;2;0;0;0m▀\u001b[38;2;0;0;0;48;2;0;0;0m▀\u001b[38;2;0;0;0;48;2;0;0;0m▀\u001b[38;2;0;0;0;48;2;0;0;0m▀\u001b[38;2;0;0;0;48;2;0;0;0m▀\u001b[38;2;0;0;0;48;2;0;0;0m▀\u001b[38;2;0;0;0;48;2;0;0;0m▀\u001b[38;2;0;0;0;48;2;0;0;0m▀\u001b[38;2;0;0;0;48;2;1;1;1m▀\u001b[38;2;0;0;0;48;2;0;0;0m▀\u001b[38;2;0;0;0;48;2;0;0;0m▀\u001b[38;2;0;0;0;48;2;0;0;0m▀\u001b[38;2;0;0;0;48;2;0;0;0m▀\u001b[38;2;0;0;0;48;2;0;0;0m▀\u001b[38;2;0;0;0;48;2;0;0;0m▀\u001b[38;2;0;0;0;48;2;0;0;0m▀\u001b[38;2;0;0;0;48;2;0;0;0m▀\u001b[38;2;0;0;0;48;2;0;0;0m▀\u001b[38;2;0;0;0;48;2;0;0;0m▀\u001b[38;2;0;0;0;48;2;0;0;0m▀\u001b[38;2;0;0;0;48;2;0;0;0m▀\u001b[38;2;0;0;0;48;2;0;0;0m▀\u001b[38;2;0;0;0;48;2;0;0;0m▀\u001b[38;2;0;0;0;48;2;0;0;0m▀\u001b[38;2;0;0;0;48;2;0;0;0m▀\u001b[38;2;0;0;0;48;2;0;0;0m▀\u001b[38;2;0;0;0;48;2;0;0;0m▀\u001b[0m\n",
       "\u001b[0m\u001b[38;2;0;0;0;48;2;0;0;0m▀\u001b[38;2;0;0;0;48;2;0;0;0m▀\u001b[38;2;0;0;0;48;2;0;0;0m▀\u001b[38;2;0;0;0;48;2;0;0;0m▀\u001b[38;2;0;0;0;48;2;0;0;0m▀\u001b[38;2;0;0;0;48;2;0;0;0m▀\u001b[38;2;0;0;0;48;2;0;0;0m▀\u001b[38;2;0;0;0;48;2;5;5;5m▀\u001b[38;2;3;3;3;48;2;24;24;24m▀\u001b[38;2;0;0;0;48;2;0;0;0m▀\u001b[38;2;0;0;0;48;2;0;0;0m▀\u001b[38;2;0;0;0;48;2;0;0;0m▀\u001b[38;2;0;0;0;48;2;0;0;0m▀\u001b[38;2;0;0;0;48;2;0;0;0m▀\u001b[38;2;0;0;0;48;2;0;0;0m▀\u001b[38;2;0;0;0;48;2;0;0;0m▀\u001b[38;2;0;0;0;48;2;0;0;0m▀\u001b[38;2;0;0;0;48;2;0;0;0m▀\u001b[38;2;0;0;0;48;2;0;0;0m▀\u001b[38;2;0;0;0;48;2;0;0;0m▀\u001b[38;2;0;0;0;48;2;0;0;0m▀\u001b[38;2;0;0;0;48;2;0;0;0m▀\u001b[38;2;0;0;0;48;2;0;0;0m▀\u001b[38;2;0;0;0;48;2;0;0;0m▀\u001b[38;2;0;0;0;48;2;0;0;0m▀\u001b[38;2;0;0;0;48;2;0;0;0m▀\u001b[38;2;25;25;25;48;2;0;0;0m▀\u001b[38;2;30;30;30;48;2;0;0;0m▀\u001b[38;2;0;0;0;48;2;0;0;0m▀\u001b[38;2;0;0;0;48;2;0;0;0m▀\u001b[38;2;0;0;0;48;2;0;0;0m▀\u001b[38;2;0;0;0;48;2;0;0;0m▀\u001b[0m\n",
       "\u001b[0m\u001b[38;2;0;0;0;48;2;0;0;0m▀\u001b[38;2;0;0;0;48;2;0;0;0m▀\u001b[38;2;0;0;0;48;2;0;0;0m▀\u001b[38;2;0;0;0;48;2;0;0;0m▀\u001b[38;2;0;0;0;48;2;0;0;0m▀\u001b[38;2;0;0;0;48;2;0;0;0m▀\u001b[38;2;0;0;0;48;2;0;0;0m▀\u001b[38;2;18;18;18;48;2;5;5;5m▀\u001b[38;2;81;81;81;48;2;94;94;94m▀\u001b[38;2;0;0;0;48;2;91;91;91m▀\u001b[38;2;0;0;0;48;2;0;0;0m▀\u001b[38;2;0;0;0;48;2;0;0;0m▀\u001b[38;2;0;0;0;48;2;0;0;0m▀\u001b[38;2;0;0;0;48;2;0;0;0m▀\u001b[38;2;0;0;0;48;2;0;0;0m▀\u001b[38;2;0;0;0;48;2;0;0;0m▀\u001b[38;2;0;0;0;48;2;0;0;0m▀\u001b[38;2;0;0;0;48;2;0;0;0m▀\u001b[38;2;0;0;0;48;2;0;0;0m▀\u001b[38;2;0;0;0;48;2;0;0;0m▀\u001b[38;2;0;0;0;48;2;0;0;0m▀\u001b[38;2;62;62;62;48;2;0;0;0m▀\u001b[38;2;56;56;56;48;2;0;0;0m▀\u001b[38;2;0;0;0;48;2;0;0;0m▀\u001b[38;2;0;0;0;48;2;0;0;0m▀\u001b[38;2;0;0;0;48;2;5;5;5m▀\u001b[38;2;0;0;0;48;2;74;74;74m▀\u001b[38;2;5;5;5;48;2;54;54;54m▀\u001b[38;2;0;0;0;48;2;0;0;0m▀\u001b[38;2;0;0;0;48;2;0;0;0m▀\u001b[38;2;0;0;0;48;2;0;0;0m▀\u001b[38;2;0;0;0;48;2;0;0;0m▀\u001b[0m\n",
       "\u001b[0m\u001b[38;2;0;0;0;48;2;0;0;0m▀\u001b[38;2;0;0;0;48;2;0;0;0m▀\u001b[38;2;0;0;0;48;2;0;0;0m▀\u001b[38;2;0;0;0;48;2;0;0;0m▀\u001b[38;2;0;0;0;48;2;0;0;0m▀\u001b[38;2;0;0;0;48;2;0;0;0m▀\u001b[38;2;0;0;0;48;2;0;0;0m▀\u001b[38;2;13;13;13;48;2;0;0;0m▀\u001b[38;2;93;93;93;48;2;0;0;0m▀\u001b[38;2;183;183;183;48;2;17;17;17m▀\u001b[38;2;17;17;17;48;2;0;0;0m▀\u001b[38;2;0;0;0;48;2;0;0;0m▀\u001b[38;2;0;0;0;48;2;0;0;0m▀\u001b[38;2;0;0;0;48;2;0;0;0m▀\u001b[38;2;0;0;0;48;2;0;0;0m▀\u001b[38;2;0;0;0;48;2;0;0;0m▀\u001b[38;2;0;0;0;48;2;0;0;0m▀\u001b[38;2;0;0;0;48;2;0;0;0m▀\u001b[38;2;0;0;0;48;2;0;0;0m▀\u001b[38;2;0;0;0;48;2;0;0;0m▀\u001b[38;2;0;0;0;48;2;0;0;0m▀\u001b[38;2;0;0;0;48;2;35;35;35m▀\u001b[38;2;0;0;0;48;2;0;0;0m▀\u001b[38;2;0;0;0;48;2;8;8;8m▀\u001b[38;2;23;23;23;48;2;19;19;19m▀\u001b[38;2;54;54;54;48;2;15;15;15m▀\u001b[38;2;65;65;65;48;2;13;13;13m▀\u001b[38;2;21;21;21;48;2;0;0;0m▀\u001b[38;2;0;0;0;48;2;0;0;0m▀\u001b[38;2;0;0;0;48;2;0;0;0m▀\u001b[38;2;0;0;0;48;2;0;0;0m▀\u001b[38;2;0;0;0;48;2;0;0;0m▀\u001b[0m\n",
       "\u001b[0m\u001b[38;2;0;0;0;48;2;0;0;0m▀\u001b[38;2;0;0;0;48;2;0;0;0m▀\u001b[38;2;0;0;0;48;2;0;0;0m▀\u001b[38;2;0;0;0;48;2;0;0;0m▀\u001b[38;2;0;0;0;48;2;0;0;0m▀\u001b[38;2;0;0;0;48;2;0;0;0m▀\u001b[38;2;0;0;0;48;2;0;0;0m▀\u001b[38;2;0;0;0;48;2;0;0;0m▀\u001b[38;2;0;0;0;48;2;0;0;0m▀\u001b[38;2;0;0;0;48;2;0;0;0m▀\u001b[38;2;0;0;0;48;2;0;0;0m▀\u001b[38;2;0;0;0;48;2;0;0;0m▀\u001b[38;2;77;77;77;48;2;81;81;81m▀\u001b[38;2;0;0;0;48;2;43;43;43m▀\u001b[38;2;0;0;0;48;2;0;0;0m▀\u001b[38;2;0;0;0;48;2;0;0;0m▀\u001b[38;2;0;0;0;48;2;0;0;0m▀\u001b[38;2;12;12;12;48;2;0;0;0m▀\u001b[38;2;12;12;12;48;2;0;0;0m▀\u001b[38;2;0;0;0;48;2;0;0;0m▀\u001b[38;2;17;17;17;48;2;0;0;0m▀\u001b[38;2;109;109;109;48;2;50;50;50m▀\u001b[38;2;0;0;0;48;2;0;0;0m▀\u001b[38;2;0;0;0;48;2;0;0;0m▀\u001b[38;2;0;0;0;48;2;0;0;0m▀\u001b[38;2;0;0;0;48;2;0;0;0m▀\u001b[38;2;0;0;0;48;2;0;0;0m▀\u001b[38;2;0;0;0;48;2;0;0;0m▀\u001b[38;2;0;0;0;48;2;0;0;0m▀\u001b[38;2;0;0;0;48;2;0;0;0m▀\u001b[38;2;0;0;0;48;2;0;0;0m▀\u001b[38;2;0;0;0;48;2;0;0;0m▀\u001b[0m\n",
       "\u001b[0m\u001b[38;2;0;0;0;48;2;0;0;0m▀\u001b[38;2;0;0;0;48;2;0;0;0m▀\u001b[38;2;0;0;0;48;2;0;0;0m▀\u001b[38;2;0;0;0;48;2;0;0;0m▀\u001b[38;2;0;0;0;48;2;0;0;0m▀\u001b[38;2;0;0;0;48;2;0;0;0m▀\u001b[38;2;0;0;0;48;2;0;0;0m▀\u001b[38;2;0;0;0;48;2;0;0;0m▀\u001b[38;2;0;0;0;48;2;0;0;0m▀\u001b[38;2;0;0;0;48;2;0;0;0m▀\u001b[38;2;0;0;0;48;2;0;0;0m▀\u001b[38;2;0;0;0;48;2;0;0;0m▀\u001b[38;2;5;5;5;48;2;0;0;0m▀\u001b[38;2;127;127;127;48;2;27;27;27m▀\u001b[38;2;0;0;0;48;2;86;86;86m▀\u001b[38;2;0;0;0;48;2;0;0;0m▀\u001b[38;2;0;0;0;48;2;0;0;0m▀\u001b[38;2;0;0;0;48;2;0;0;0m▀\u001b[38;2;0;0;0;48;2;0;0;0m▀\u001b[38;2;0;0;0;48;2;0;0;0m▀\u001b[38;2;0;0;0;48;2;0;0;0m▀\u001b[38;2;0;0;0;48;2;0;0;0m▀\u001b[38;2;0;0;0;48;2;0;0;0m▀\u001b[38;2;0;0;0;48;2;0;0;0m▀\u001b[38;2;0;0;0;48;2;0;0;0m▀\u001b[38;2;0;0;0;48;2;0;0;0m▀\u001b[38;2;0;0;0;48;2;0;0;0m▀\u001b[38;2;0;0;0;48;2;0;0;0m▀\u001b[38;2;0;0;0;48;2;0;0;0m▀\u001b[38;2;0;0;0;48;2;0;0;0m▀\u001b[38;2;0;0;0;48;2;0;0;0m▀\u001b[38;2;0;0;0;48;2;0;0;0m▀\u001b[0m\n",
       "\u001b[0m\u001b[38;2;0;0;0;48;2;0;0;0m▀\u001b[38;2;0;0;0;48;2;0;0;0m▀\u001b[38;2;0;0;0;48;2;0;0;0m▀\u001b[38;2;0;0;0;48;2;0;0;0m▀\u001b[38;2;0;0;0;48;2;0;0;0m▀\u001b[38;2;0;0;0;48;2;0;0;0m▀\u001b[38;2;0;0;0;48;2;0;0;0m▀\u001b[38;2;0;0;0;48;2;0;0;0m▀\u001b[38;2;0;0;0;48;2;0;0;0m▀\u001b[38;2;0;0;0;48;2;0;0;0m▀\u001b[38;2;0;0;0;48;2;0;0;0m▀\u001b[38;2;0;0;0;48;2;0;0;0m▀\u001b[38;2;0;0;0;48;2;0;0;0m▀\u001b[38;2;0;0;0;48;2;0;0;0m▀\u001b[38;2;61;61;61;48;2;0;0;0m▀\u001b[38;2;80;80;80;48;2;10;10;10m▀\u001b[38;2;16;16;16;48;2;24;24;24m▀\u001b[38;2;33;33;33;48;2;97;97;97m▀\u001b[38;2;0;0;0;48;2;0;0;0m▀\u001b[38;2;0;0;0;48;2;0;0;0m▀\u001b[38;2;0;0;0;48;2;0;0;0m▀\u001b[38;2;0;0;0;48;2;0;0;0m▀\u001b[38;2;0;0;0;48;2;0;0;0m▀\u001b[38;2;1;1;1;48;2;13;13;13m▀\u001b[38;2;0;0;0;48;2;0;0;0m▀\u001b[38;2;0;0;0;48;2;0;0;0m▀\u001b[38;2;0;0;0;48;2;0;0;0m▀\u001b[38;2;0;0;0;48;2;0;0;0m▀\u001b[38;2;0;0;0;48;2;0;0;0m▀\u001b[38;2;0;0;0;48;2;0;0;0m▀\u001b[38;2;0;0;0;48;2;0;0;0m▀\u001b[38;2;0;0;0;48;2;0;0;0m▀\u001b[0m\n",
       "\u001b[0m\u001b[38;2;0;0;0;48;2;0;0;0m▀\u001b[38;2;0;0;0;48;2;0;0;0m▀\u001b[38;2;0;0;0;48;2;0;0;0m▀\u001b[38;2;0;0;0;48;2;0;0;0m▀\u001b[38;2;0;0;0;48;2;0;0;0m▀\u001b[38;2;0;0;0;48;2;0;0;0m▀\u001b[38;2;0;0;0;48;2;0;0;0m▀\u001b[38;2;0;0;0;48;2;0;0;0m▀\u001b[38;2;0;0;0;48;2;0;0;0m▀\u001b[38;2;0;0;0;48;2;0;0;0m▀\u001b[38;2;0;0;0;48;2;0;0;0m▀\u001b[38;2;0;0;0;48;2;0;0;0m▀\u001b[38;2;0;0;0;48;2;4;4;4m▀\u001b[38;2;0;0;0;48;2;7;7;7m▀\u001b[38;2;0;0;0;48;2;0;0;0m▀\u001b[38;2;0;0;0;48;2;0;0;0m▀\u001b[38;2;0;0;0;48;2;0;0;0m▀\u001b[38;2;10;10;10;48;2;0;0;0m▀\u001b[38;2;0;0;0;48;2;0;0;0m▀\u001b[38;2;0;0;0;48;2;0;0;0m▀\u001b[38;2;0;0;0;48;2;0;0;0m▀\u001b[38;2;0;0;0;48;2;0;0;0m▀\u001b[38;2;0;0;0;48;2;0;0;0m▀\u001b[38;2;0;0;0;48;2;17;17;17m▀\u001b[38;2;16;16;16;48;2;0;0;0m▀\u001b[38;2;0;0;0;48;2;0;0;0m▀\u001b[38;2;0;0;0;48;2;0;0;0m▀\u001b[38;2;0;0;0;48;2;0;0;0m▀\u001b[38;2;0;0;0;48;2;0;0;0m▀\u001b[38;2;0;0;0;48;2;0;0;0m▀\u001b[38;2;0;0;0;48;2;0;0;0m▀\u001b[38;2;0;0;0;48;2;0;0;0m▀\u001b[0m\n",
       "\u001b[0m\u001b[38;2;0;0;0;48;2;0;0;0m▀\u001b[38;2;0;0;0;48;2;0;0;0m▀\u001b[38;2;0;0;0;48;2;0;0;0m▀\u001b[38;2;0;0;0;48;2;0;0;0m▀\u001b[38;2;0;0;0;48;2;0;0;0m▀\u001b[38;2;0;0;0;48;2;0;0;0m▀\u001b[38;2;0;0;0;48;2;0;0;0m▀\u001b[38;2;0;0;0;48;2;0;0;0m▀\u001b[38;2;0;0;0;48;2;2;2;2m▀\u001b[38;2;0;0;0;48;2;2;2;2m▀\u001b[38;2;2;2;2;48;2;9;9;9m▀\u001b[38;2;7;7;7;48;2;0;0;0m▀\u001b[38;2;4;4;4;48;2;0;0;0m▀\u001b[38;2;0;0;0;48;2;0;0;0m▀\u001b[38;2;0;0;0;48;2;0;0;0m▀\u001b[38;2;0;0;0;48;2;0;0;0m▀\u001b[38;2;0;0;0;48;2;0;0;0m▀\u001b[38;2;0;0;0;48;2;0;0;0m▀\u001b[38;2;0;0;0;48;2;0;0;0m▀\u001b[38;2;0;0;0;48;2;0;0;0m▀\u001b[38;2;0;0;0;48;2;0;0;0m▀\u001b[38;2;0;0;0;48;2;0;0;0m▀\u001b[38;2;0;0;0;48;2;0;0;0m▀\u001b[38;2;70;70;70;48;2;59;59;59m▀\u001b[38;2;12;12;12;48;2;21;21;21m▀\u001b[38;2;0;0;0;48;2;0;0;0m▀\u001b[38;2;0;0;0;48;2;0;0;0m▀\u001b[38;2;0;0;0;48;2;0;0;0m▀\u001b[38;2;0;0;0;48;2;0;0;0m▀\u001b[38;2;0;0;0;48;2;0;0;0m▀\u001b[38;2;0;0;0;48;2;0;0;0m▀\u001b[38;2;0;0;0;48;2;0;0;0m▀\u001b[0m\n",
       "\u001b[0m\u001b[38;2;0;0;0;48;2;0;0;0m▀\u001b[38;2;0;0;0;48;2;0;0;0m▀\u001b[38;2;0;0;0;48;2;0;0;0m▀\u001b[38;2;0;0;0;48;2;0;0;0m▀\u001b[38;2;0;0;0;48;2;6;6;6m▀\u001b[38;2;0;0;0;48;2;6;6;6m▀\u001b[38;2;2;2;2;48;2;0;0;0m▀\u001b[38;2;14;14;14;48;2;0;0;0m▀\u001b[38;2;0;0;0;48;2;0;0;0m▀\u001b[38;2;0;0;0;48;2;0;0;0m▀\u001b[38;2;0;0;0;48;2;0;0;0m▀\u001b[38;2;0;0;0;48;2;0;0;0m▀\u001b[38;2;0;0;0;48;2;0;0;0m▀\u001b[38;2;0;0;0;48;2;0;0;0m▀\u001b[38;2;0;0;0;48;2;0;0;0m▀\u001b[38;2;0;0;0;48;2;0;0;0m▀\u001b[38;2;0;0;0;48;2;0;0;0m▀\u001b[38;2;0;0;0;48;2;0;0;0m▀\u001b[38;2;0;0;0;48;2;0;0;0m▀\u001b[38;2;0;0;0;48;2;0;0;0m▀\u001b[38;2;0;0;0;48;2;0;0;0m▀\u001b[38;2;0;0;0;48;2;59;59;59m▀\u001b[38;2;29;29;29;48;2;81;81;81m▀\u001b[38;2;103;103;103;48;2;59;59;59m▀\u001b[38;2;1;1;1;48;2;0;0;0m▀\u001b[38;2;0;0;0;48;2;0;0;0m▀\u001b[38;2;0;0;0;48;2;0;0;0m▀\u001b[38;2;0;0;0;48;2;0;0;0m▀\u001b[38;2;0;0;0;48;2;0;0;0m▀\u001b[38;2;0;0;0;48;2;0;0;0m▀\u001b[38;2;0;0;0;48;2;0;0;0m▀\u001b[38;2;0;0;0;48;2;0;0;0m▀\u001b[0m\n",
       "\u001b[0m\u001b[38;2;0;0;0;48;2;0;0;0m▀\u001b[38;2;0;0;0;48;2;0;0;0m▀\u001b[38;2;0;0;0;48;2;0;0;0m▀\u001b[38;2;0;0;0;48;2;0;0;0m▀\u001b[38;2;32;32;32;48;2;43;43;43m▀\u001b[38;2;36;36;36;48;2;58;58;58m▀\u001b[38;2;0;0;0;48;2;53;53;53m▀\u001b[38;2;0;0;0;48;2;68;68;68m▀\u001b[38;2;0;0;0;48;2;92;92;92m▀\u001b[38;2;0;0;0;48;2;30;30;30m▀\u001b[38;2;0;0;0;48;2;0;0;0m▀\u001b[38;2;0;0;0;48;2;0;0;0m▀\u001b[38;2;0;0;0;48;2;0;0;0m▀\u001b[38;2;0;0;0;48;2;0;0;0m▀\u001b[38;2;0;0;0;48;2;0;0;0m▀\u001b[38;2;0;0;0;48;2;0;0;0m▀\u001b[38;2;0;0;0;48;2;0;0;0m▀\u001b[38;2;0;0;0;48;2;36;36;36m▀\u001b[38;2;0;0;0;48;2;71;71;71m▀\u001b[38;2;39;39;39;48;2;59;59;59m▀\u001b[38;2;74;74;74;48;2;26;26;26m▀\u001b[38;2;59;59;59;48;2;1;1;1m▀\u001b[38;2;25;25;25;48;2;0;0;0m▀\u001b[38;2;0;0;0;48;2;0;0;0m▀\u001b[38;2;0;0;0;48;2;0;0;0m▀\u001b[38;2;0;0;0;48;2;0;0;0m▀\u001b[38;2;0;0;0;48;2;0;0;0m▀\u001b[38;2;0;0;0;48;2;0;0;0m▀\u001b[38;2;0;0;0;48;2;0;0;0m▀\u001b[38;2;0;0;0;48;2;0;0;0m▀\u001b[38;2;0;0;0;48;2;0;0;0m▀\u001b[38;2;0;0;0;48;2;0;0;0m▀\u001b[0m\n",
       "\u001b[0m\u001b[38;2;0;0;0;48;2;0;0;0m▀\u001b[38;2;0;0;0;48;2;0;0;0m▀\u001b[38;2;0;0;0;48;2;0;0;0m▀\u001b[38;2;0;0;0;48;2;0;0;0m▀\u001b[38;2;13;13;13;48;2;19;19;19m▀\u001b[38;2;98;98;98;48;2;35;35;35m▀\u001b[38;2;114;114;114;48;2;0;0;0m▀\u001b[38;2;8;8;8;48;2;0;0;0m▀\u001b[38;2;0;0;0;48;2;0;0;0m▀\u001b[38;2;0;0;0;48;2;0;0;0m▀\u001b[38;2;0;0;0;48;2;0;0;0m▀\u001b[38;2;0;0;0;48;2;0;0;0m▀\u001b[38;2;0;0;0;48;2;0;0;0m▀\u001b[38;2;0;0;0;48;2;0;0;0m▀\u001b[38;2;0;0;0;48;2;69;69;69m▀\u001b[38;2;24;24;24;48;2;70;70;70m▀\u001b[38;2;80;80;80;48;2;42;42;42m▀\u001b[38;2;58;58;58;48;2;4;4;4m▀\u001b[38;2;25;25;25;48;2;0;0;0m▀\u001b[38;2;3;3;3;48;2;0;0;0m▀\u001b[38;2;0;0;0;48;2;0;0;0m▀\u001b[38;2;0;0;0;48;2;0;0;0m▀\u001b[38;2;0;0;0;48;2;0;0;0m▀\u001b[38;2;0;0;0;48;2;0;0;0m▀\u001b[38;2;0;0;0;48;2;0;0;0m▀\u001b[38;2;0;0;0;48;2;0;0;0m▀\u001b[38;2;0;0;0;48;2;0;0;0m▀\u001b[38;2;0;0;0;48;2;0;0;0m▀\u001b[38;2;0;0;0;48;2;0;0;0m▀\u001b[38;2;0;0;0;48;2;0;0;0m▀\u001b[38;2;0;0;0;48;2;0;0;0m▀\u001b[38;2;0;0;0;48;2;0;0;0m▀\u001b[0m\n",
       "\u001b[0m\u001b[38;2;0;0;0;48;2;0;0;0m▀\u001b[38;2;0;0;0;48;2;0;0;0m▀\u001b[38;2;0;0;0;48;2;0;0;0m▀\u001b[38;2;0;0;0;48;2;0;0;0m▀\u001b[38;2;0;0;0;48;2;0;0;0m▀\u001b[38;2;0;0;0;48;2;0;0;0m▀\u001b[38;2;0;0;0;48;2;0;0;0m▀\u001b[38;2;0;0;0;48;2;0;0;0m▀\u001b[38;2;0;0;0;48;2;0;0;0m▀\u001b[38;2;0;0;0;48;2;0;0;0m▀\u001b[38;2;0;0;0;48;2;0;0;0m▀\u001b[38;2;24;24;24;48;2;0;0;0m▀\u001b[38;2;43;43;43;48;2;0;0;0m▀\u001b[38;2;31;31;31;48;2;0;0;0m▀\u001b[38;2;41;41;41;48;2;0;0;0m▀\u001b[38;2;5;5;5;48;2;0;0;0m▀\u001b[38;2;0;0;0;48;2;0;0;0m▀\u001b[38;2;0;0;0;48;2;0;0;0m▀\u001b[38;2;0;0;0;48;2;0;0;0m▀\u001b[38;2;0;0;0;48;2;0;0;0m▀\u001b[38;2;0;0;0;48;2;0;0;0m▀\u001b[38;2;0;0;0;48;2;0;0;0m▀\u001b[38;2;0;0;0;48;2;0;0;0m▀\u001b[38;2;0;0;0;48;2;0;0;0m▀\u001b[38;2;0;0;0;48;2;0;0;0m▀\u001b[38;2;0;0;0;48;2;0;0;0m▀\u001b[38;2;0;0;0;48;2;0;0;0m▀\u001b[38;2;0;0;0;48;2;0;0;0m▀\u001b[38;2;0;0;0;48;2;0;0;0m▀\u001b[38;2;0;0;0;48;2;0;0;0m▀\u001b[38;2;0;0;0;48;2;0;0;0m▀\u001b[38;2;0;0;0;48;2;0;0;0m▀\u001b[0m\n",
       "\u001b[0m\u001b[38;2;0;0;0;48;2;0;0;0m▀\u001b[38;2;0;0;0;48;2;0;0;0m▀\u001b[38;2;0;0;0;48;2;0;0;0m▀\u001b[38;2;0;0;0;48;2;0;0;0m▀\u001b[38;2;0;0;0;48;2;0;0;0m▀\u001b[38;2;0;0;0;48;2;0;0;0m▀\u001b[38;2;0;0;0;48;2;0;0;0m▀\u001b[38;2;0;0;0;48;2;0;0;0m▀\u001b[38;2;0;0;0;48;2;0;0;0m▀\u001b[38;2;0;0;0;48;2;0;0;0m▀\u001b[38;2;0;0;0;48;2;0;0;0m▀\u001b[38;2;0;0;0;48;2;0;0;0m▀\u001b[38;2;0;0;0;48;2;0;0;0m▀\u001b[38;2;0;0;0;48;2;0;0;0m▀\u001b[38;2;0;0;0;48;2;0;0;0m▀\u001b[38;2;0;0;0;48;2;0;0;0m▀\u001b[38;2;0;0;0;48;2;0;0;0m▀\u001b[38;2;0;0;0;48;2;0;0;0m▀\u001b[38;2;0;0;0;48;2;0;0;0m▀\u001b[38;2;0;0;0;48;2;0;0;0m▀\u001b[38;2;0;0;0;48;2;0;0;0m▀\u001b[38;2;0;0;0;48;2;0;0;0m▀\u001b[38;2;0;0;0;48;2;0;0;0m▀\u001b[38;2;0;0;0;48;2;0;0;0m▀\u001b[38;2;0;0;0;48;2;0;0;0m▀\u001b[38;2;0;0;0;48;2;0;0;0m▀\u001b[38;2;0;0;0;48;2;0;0;0m▀\u001b[38;2;0;0;0;48;2;0;0;0m▀\u001b[38;2;0;0;0;48;2;0;0;0m▀\u001b[38;2;0;0;0;48;2;0;0;0m▀\u001b[38;2;0;0;0;48;2;0;0;0m▀\u001b[38;2;0;0;0;48;2;0;0;0m▀\u001b[0m\n"
      ]
     },
     "execution_count": 96,
     "metadata": {},
     "output_type": "execute_result"
    }
   ],
   "source": [
    "cnn_output = cnn_layer( images[:,:,:,1:3] )\n",
    "display( cnn_output |> size )\n",
    "convert2image( MNIST , cnn_output[:,:,1,1] )"
   ]
  },
  {
   "cell_type": "code",
   "execution_count": 45,
   "metadata": {},
   "outputs": [
    {
     "data": {
      "text/plain": [
       "(2, 2, 1, 10)"
      ]
     },
     "execution_count": 45,
     "metadata": {},
     "output_type": "execute_result"
    }
   ],
   "source": [
    "x = rand(Float32, 10, 10, 1, 10); \n",
    "cnn_layer = ConvTranspose( (5,5) , 1 => 1 , pad=6 )\n",
    "cnn_layer( x ) |> size"
   ]
  },
  {
   "cell_type": "code",
   "execution_count": 97,
   "metadata": {},
   "outputs": [
    {
     "data": {
      "text/plain": [
       "(32, 32, 1, 3)"
      ]
     },
     "metadata": {},
     "output_type": "display_data"
    },
    {
     "data": {
      "image/png": "[encoded data removed]",
      "text/html": [
       "<img src=\"data:image/png;base64,iVBORw0KGgoAAAANSUhEUgAAAIAAAACACAAAAADmVT4XAAAABGdBTUEAALGPC/xhBQAAAAFzUkdCAK7OHOkAAAAgY0hSTQAAeiYAAICEAAD6AAAAgOgAAHUwAADqYAAAOpgAABdwnLpRPAAAAltJREFUeAHFwTFrHAQABtCX9EutmtqGgkZBHCI46Coogrh0EQQXXfSX+DcEJzdx0MXB4qwVS+kgInawtASCklAs0SYmadMYhwzhktzlLil870VZlEVZlEVZlEVZlEVZlEVZlEVZlEVZlEVZlEVZlMUJTGHX4xFlURZlcYwz2DFo1+SexwyWDIqyKIuyGGEGl7Di9JYdLcqiLMpihPN4E9+YzNt4iOsGzWDboCiLsiiLEdZwHh/hS+O7atAMLuMv3DAoyqIsymKEc9jFx/gOqyb3HF7CJhYdFmVRFmUxwhq+wBWsGt8C7uAcHuF3/Ic1h0VZlEVZjGHVvvfwrUGz9qxjDu/iU2xhy2hRFmVRFhMKXsVN+9btW8VPxhdlURZlMaEr+AQ3Dfez8UVZlEVZTGgbn+NDfO30oizKoixO4E8s4318jzksOmwKu0aLsiiLsjihH/EUnsE7WHTYLNaMFmVRFmVxChvYwFeOtoaL+NtwURZlURYTCs7ggX0bjjaHVaNFWZRFWYxpGjPYwQPjeR3XsG64KIuyKItjTNvzBDZN5l88iXXDRVmURVkMMY1Z3Ldn02RexGu4ZrQoi7IoiwPO2vMQ953MW3gWv2HXaFEWZVEWB7yA4LbJvYIF/IPrWHa8KIuyKIsDnsYFzOEC5nEVS4Z7GQtYxy9Yxq7xRFmURVkcsIQPcBGfYctw83gDd/Er7mLHZKIsyqIsDjiLH3DHaJcxhVu4hUdOJsqiLMrigHu452jzuIR1/IHb2HY6URZlURYTWMGKxyvKoizKoizKoizKoizKoizK/gfsxGaIbeR3rQAAAABJRU5ErkJg\">"
      ],
      "text/plain": [
       "\u001b[0m\u001b[38;2;0;0;0;48;2;0;0;0m▀\u001b[38;2;0;0;0;48;2;0;0;0m▀\u001b[38;2;0;0;0;48;2;0;0;0m▀\u001b[38;2;0;0;0;48;2;0;0;0m▀\u001b[38;2;0;0;0;48;2;0;0;0m▀\u001b[38;2;0;0;0;48;2;0;0;0m▀\u001b[38;2;0;0;0;48;2;0;0;0m▀\u001b[38;2;0;0;0;48;2;0;0;0m▀\u001b[38;2;0;0;0;48;2;0;0;0m▀\u001b[38;2;0;0;0;48;2;0;0;0m▀\u001b[38;2;0;0;0;48;2;0;0;0m▀\u001b[38;2;0;0;0;48;2;0;0;0m▀\u001b[38;2;0;0;0;48;2;0;0;0m▀\u001b[38;2;0;0;0;48;2;0;0;0m▀\u001b[38;2;0;0;0;48;2;0;0;0m▀\u001b[38;2;0;0;0;48;2;0;0;0m▀\u001b[38;2;0;0;0;48;2;0;0;0m▀\u001b[38;2;0;0;0;48;2;0;0;0m▀\u001b[38;2;0;0;0;48;2;0;0;0m▀\u001b[38;2;0;0;0;48;2;0;0;0m▀\u001b[38;2;0;0;0;48;2;0;0;0m▀\u001b[38;2;0;0;0;48;2;0;0;0m▀\u001b[38;2;0;0;0;48;2;0;0;0m▀\u001b[38;2;0;0;0;48;2;0;0;0m▀\u001b[38;2;0;0;0;48;2;0;0;0m▀\u001b[38;2;0;0;0;48;2;0;0;0m▀\u001b[38;2;0;0;0;48;2;0;0;0m▀\u001b[38;2;0;0;0;48;2;0;0;0m▀\u001b[38;2;0;0;0;48;2;0;0;0m▀\u001b[38;2;0;0;0;48;2;0;0;0m▀\u001b[38;2;0;0;0;48;2;0;0;0m▀\u001b[38;2;0;0;0;48;2;0;0;0m▀\u001b[0m\n",
       "\u001b[0m\u001b[38;2;0;0;0;48;2;0;0;0m▀\u001b[38;2;0;0;0;48;2;0;0;0m▀\u001b[38;2;0;0;0;48;2;0;0;0m▀\u001b[38;2;0;0;0;48;2;0;0;0m▀\u001b[38;2;0;0;0;48;2;0;0;0m▀\u001b[38;2;0;0;0;48;2;0;0;0m▀\u001b[38;2;0;0;0;48;2;0;0;0m▀\u001b[38;2;0;0;0;48;2;0;0;0m▀\u001b[38;2;0;0;0;48;2;0;0;0m▀\u001b[38;2;0;0;0;48;2;0;0;0m▀\u001b[38;2;0;0;0;48;2;0;0;0m▀\u001b[38;2;0;0;0;48;2;0;0;0m▀\u001b[38;2;0;0;0;48;2;0;0;0m▀\u001b[38;2;0;0;0;48;2;0;0;0m▀\u001b[38;2;0;0;0;48;2;0;0;0m▀\u001b[38;2;0;0;0;48;2;0;0;0m▀\u001b[38;2;0;0;0;48;2;0;0;0m▀\u001b[38;2;0;0;0;48;2;0;0;0m▀\u001b[38;2;0;0;0;48;2;0;0;0m▀\u001b[38;2;0;0;0;48;2;0;0;0m▀\u001b[38;2;0;0;0;48;2;0;0;0m▀\u001b[38;2;0;0;0;48;2;0;0;0m▀\u001b[38;2;0;0;0;48;2;0;0;0m▀\u001b[38;2;0;0;0;48;2;0;0;0m▀\u001b[38;2;0;0;0;48;2;0;0;0m▀\u001b[38;2;0;0;0;48;2;0;0;0m▀\u001b[38;2;0;0;0;48;2;0;0;0m▀\u001b[38;2;0;0;0;48;2;0;0;0m▀\u001b[38;2;0;0;0;48;2;0;0;0m▀\u001b[38;2;0;0;0;48;2;0;0;0m▀\u001b[38;2;0;0;0;48;2;0;0;0m▀\u001b[38;2;0;0;0;48;2;0;0;0m▀\u001b[0m\n",
       "\u001b[0m\u001b[38;2;0;0;0;48;2;0;0;0m▀\u001b[38;2;0;0;0;48;2;0;0;0m▀\u001b[38;2;0;0;0;48;2;0;0;0m▀\u001b[38;2;0;0;0;48;2;0;0;0m▀\u001b[38;2;0;0;0;48;2;0;0;0m▀\u001b[38;2;0;0;0;48;2;0;0;0m▀\u001b[38;2;0;0;0;48;2;0;0;0m▀\u001b[38;2;0;0;0;48;2;0;0;0m▀\u001b[38;2;0;0;0;48;2;0;0;0m▀\u001b[38;2;0;0;0;48;2;0;0;0m▀\u001b[38;2;0;0;0;48;2;0;0;0m▀\u001b[38;2;0;0;0;48;2;0;0;0m▀\u001b[38;2;0;0;0;48;2;0;0;0m▀\u001b[38;2;0;0;0;48;2;1;1;1m▀\u001b[38;2;0;0;0;48;2;0;0;0m▀\u001b[38;2;0;0;0;48;2;0;0;0m▀\u001b[38;2;0;0;0;48;2;0;0;0m▀\u001b[38;2;0;0;0;48;2;0;0;0m▀\u001b[38;2;0;0;0;48;2;0;0;0m▀\u001b[38;2;0;0;0;48;2;0;0;0m▀\u001b[38;2;0;0;0;48;2;0;0;0m▀\u001b[38;2;0;0;0;48;2;0;0;0m▀\u001b[38;2;0;0;0;48;2;0;0;0m▀\u001b[38;2;0;0;0;48;2;0;0;0m▀\u001b[38;2;0;0;0;48;2;0;0;0m▀\u001b[38;2;0;0;0;48;2;0;0;0m▀\u001b[38;2;0;0;0;48;2;0;0;0m▀\u001b[38;2;0;0;0;48;2;0;0;0m▀\u001b[38;2;0;0;0;48;2;0;0;0m▀\u001b[38;2;0;0;0;48;2;0;0;0m▀\u001b[38;2;0;0;0;48;2;0;0;0m▀\u001b[38;2;0;0;0;48;2;0;0;0m▀\u001b[0m\n",
       "\u001b[0m\u001b[38;2;0;0;0;48;2;0;0;0m▀\u001b[38;2;0;0;0;48;2;0;0;0m▀\u001b[38;2;0;0;0;48;2;0;0;0m▀\u001b[38;2;0;0;0;48;2;0;0;0m▀\u001b[38;2;0;0;0;48;2;0;0;0m▀\u001b[38;2;0;0;0;48;2;0;0;0m▀\u001b[38;2;0;0;0;48;2;0;0;0m▀\u001b[38;2;0;0;0;48;2;5;5;5m▀\u001b[38;2;3;3;3;48;2;24;24;24m▀\u001b[38;2;0;0;0;48;2;0;0;0m▀\u001b[38;2;0;0;0;48;2;0;0;0m▀\u001b[38;2;0;0;0;48;2;0;0;0m▀\u001b[38;2;0;0;0;48;2;0;0;0m▀\u001b[38;2;0;0;0;48;2;0;0;0m▀\u001b[38;2;0;0;0;48;2;0;0;0m▀\u001b[38;2;0;0;0;48;2;0;0;0m▀\u001b[38;2;0;0;0;48;2;0;0;0m▀\u001b[38;2;0;0;0;48;2;0;0;0m▀\u001b[38;2;0;0;0;48;2;0;0;0m▀\u001b[38;2;0;0;0;48;2;0;0;0m▀\u001b[38;2;0;0;0;48;2;0;0;0m▀\u001b[38;2;0;0;0;48;2;0;0;0m▀\u001b[38;2;0;0;0;48;2;0;0;0m▀\u001b[38;2;0;0;0;48;2;0;0;0m▀\u001b[38;2;0;0;0;48;2;0;0;0m▀\u001b[38;2;0;0;0;48;2;0;0;0m▀\u001b[38;2;25;25;25;48;2;0;0;0m▀\u001b[38;2;30;30;30;48;2;0;0;0m▀\u001b[38;2;0;0;0;48;2;0;0;0m▀\u001b[38;2;0;0;0;48;2;0;0;0m▀\u001b[38;2;0;0;0;48;2;0;0;0m▀\u001b[38;2;0;0;0;48;2;0;0;0m▀\u001b[0m\n",
       "\u001b[0m\u001b[38;2;0;0;0;48;2;0;0;0m▀\u001b[38;2;0;0;0;48;2;0;0;0m▀\u001b[38;2;0;0;0;48;2;0;0;0m▀\u001b[38;2;0;0;0;48;2;0;0;0m▀\u001b[38;2;0;0;0;48;2;0;0;0m▀\u001b[38;2;0;0;0;48;2;0;0;0m▀\u001b[38;2;0;0;0;48;2;0;0;0m▀\u001b[38;2;18;18;18;48;2;5;5;5m▀\u001b[38;2;81;81;81;48;2;94;94;94m▀\u001b[38;2;0;0;0;48;2;91;91;91m▀\u001b[38;2;0;0;0;48;2;0;0;0m▀\u001b[38;2;0;0;0;48;2;0;0;0m▀\u001b[38;2;0;0;0;48;2;0;0;0m▀\u001b[38;2;0;0;0;48;2;0;0;0m▀\u001b[38;2;0;0;0;48;2;0;0;0m▀\u001b[38;2;0;0;0;48;2;0;0;0m▀\u001b[38;2;0;0;0;48;2;0;0;0m▀\u001b[38;2;0;0;0;48;2;0;0;0m▀\u001b[38;2;0;0;0;48;2;0;0;0m▀\u001b[38;2;0;0;0;48;2;0;0;0m▀\u001b[38;2;0;0;0;48;2;0;0;0m▀\u001b[38;2;62;62;62;48;2;0;0;0m▀\u001b[38;2;56;56;56;48;2;0;0;0m▀\u001b[38;2;0;0;0;48;2;0;0;0m▀\u001b[38;2;0;0;0;48;2;0;0;0m▀\u001b[38;2;0;0;0;48;2;5;5;5m▀\u001b[38;2;0;0;0;48;2;74;74;74m▀\u001b[38;2;5;5;5;48;2;54;54;54m▀\u001b[38;2;0;0;0;48;2;0;0;0m▀\u001b[38;2;0;0;0;48;2;0;0;0m▀\u001b[38;2;0;0;0;48;2;0;0;0m▀\u001b[38;2;0;0;0;48;2;0;0;0m▀\u001b[0m\n",
       "\u001b[0m\u001b[38;2;0;0;0;48;2;0;0;0m▀\u001b[38;2;0;0;0;48;2;0;0;0m▀\u001b[38;2;0;0;0;48;2;0;0;0m▀\u001b[38;2;0;0;0;48;2;0;0;0m▀\u001b[38;2;0;0;0;48;2;0;0;0m▀\u001b[38;2;0;0;0;48;2;0;0;0m▀\u001b[38;2;0;0;0;48;2;0;0;0m▀\u001b[38;2;13;13;13;48;2;0;0;0m▀\u001b[38;2;93;93;93;48;2;0;0;0m▀\u001b[38;2;183;183;183;48;2;17;17;17m▀\u001b[38;2;17;17;17;48;2;0;0;0m▀\u001b[38;2;0;0;0;48;2;0;0;0m▀\u001b[38;2;0;0;0;48;2;0;0;0m▀\u001b[38;2;0;0;0;48;2;0;0;0m▀\u001b[38;2;0;0;0;48;2;0;0;0m▀\u001b[38;2;0;0;0;48;2;0;0;0m▀\u001b[38;2;0;0;0;48;2;0;0;0m▀\u001b[38;2;0;0;0;48;2;0;0;0m▀\u001b[38;2;0;0;0;48;2;0;0;0m▀\u001b[38;2;0;0;0;48;2;0;0;0m▀\u001b[38;2;0;0;0;48;2;0;0;0m▀\u001b[38;2;0;0;0;48;2;35;35;35m▀\u001b[38;2;0;0;0;48;2;0;0;0m▀\u001b[38;2;0;0;0;48;2;8;8;8m▀\u001b[38;2;23;23;23;48;2;19;19;19m▀\u001b[38;2;54;54;54;48;2;15;15;15m▀\u001b[38;2;65;65;65;48;2;13;13;13m▀\u001b[38;2;21;21;21;48;2;0;0;0m▀\u001b[38;2;0;0;0;48;2;0;0;0m▀\u001b[38;2;0;0;0;48;2;0;0;0m▀\u001b[38;2;0;0;0;48;2;0;0;0m▀\u001b[38;2;0;0;0;48;2;0;0;0m▀\u001b[0m\n",
       "\u001b[0m\u001b[38;2;0;0;0;48;2;0;0;0m▀\u001b[38;2;0;0;0;48;2;0;0;0m▀\u001b[38;2;0;0;0;48;2;0;0;0m▀\u001b[38;2;0;0;0;48;2;0;0;0m▀\u001b[38;2;0;0;0;48;2;0;0;0m▀\u001b[38;2;0;0;0;48;2;0;0;0m▀\u001b[38;2;0;0;0;48;2;0;0;0m▀\u001b[38;2;0;0;0;48;2;0;0;0m▀\u001b[38;2;0;0;0;48;2;0;0;0m▀\u001b[38;2;0;0;0;48;2;0;0;0m▀\u001b[38;2;0;0;0;48;2;0;0;0m▀\u001b[38;2;0;0;0;48;2;0;0;0m▀\u001b[38;2;77;77;77;48;2;81;81;81m▀\u001b[38;2;0;0;0;48;2;43;43;43m▀\u001b[38;2;0;0;0;48;2;0;0;0m▀\u001b[38;2;0;0;0;48;2;0;0;0m▀\u001b[38;2;0;0;0;48;2;0;0;0m▀\u001b[38;2;12;12;12;48;2;0;0;0m▀\u001b[38;2;12;12;12;48;2;0;0;0m▀\u001b[38;2;0;0;0;48;2;0;0;0m▀\u001b[38;2;17;17;17;48;2;0;0;0m▀\u001b[38;2;109;109;109;48;2;50;50;50m▀\u001b[38;2;0;0;0;48;2;0;0;0m▀\u001b[38;2;0;0;0;48;2;0;0;0m▀\u001b[38;2;0;0;0;48;2;0;0;0m▀\u001b[38;2;0;0;0;48;2;0;0;0m▀\u001b[38;2;0;0;0;48;2;0;0;0m▀\u001b[38;2;0;0;0;48;2;0;0;0m▀\u001b[38;2;0;0;0;48;2;0;0;0m▀\u001b[38;2;0;0;0;48;2;0;0;0m▀\u001b[38;2;0;0;0;48;2;0;0;0m▀\u001b[38;2;0;0;0;48;2;0;0;0m▀\u001b[0m\n",
       "\u001b[0m\u001b[38;2;0;0;0;48;2;0;0;0m▀\u001b[38;2;0;0;0;48;2;0;0;0m▀\u001b[38;2;0;0;0;48;2;0;0;0m▀\u001b[38;2;0;0;0;48;2;0;0;0m▀\u001b[38;2;0;0;0;48;2;0;0;0m▀\u001b[38;2;0;0;0;48;2;0;0;0m▀\u001b[38;2;0;0;0;48;2;0;0;0m▀\u001b[38;2;0;0;0;48;2;0;0;0m▀\u001b[38;2;0;0;0;48;2;0;0;0m▀\u001b[38;2;0;0;0;48;2;0;0;0m▀\u001b[38;2;0;0;0;48;2;0;0;0m▀\u001b[38;2;0;0;0;48;2;0;0;0m▀\u001b[38;2;5;5;5;48;2;0;0;0m▀\u001b[38;2;127;127;127;48;2;27;27;27m▀\u001b[38;2;0;0;0;48;2;86;86;86m▀\u001b[38;2;0;0;0;48;2;0;0;0m▀\u001b[38;2;0;0;0;48;2;0;0;0m▀\u001b[38;2;0;0;0;48;2;0;0;0m▀\u001b[38;2;0;0;0;48;2;0;0;0m▀\u001b[38;2;0;0;0;48;2;0;0;0m▀\u001b[38;2;0;0;0;48;2;0;0;0m▀\u001b[38;2;0;0;0;48;2;0;0;0m▀\u001b[38;2;0;0;0;48;2;0;0;0m▀\u001b[38;2;0;0;0;48;2;0;0;0m▀\u001b[38;2;0;0;0;48;2;0;0;0m▀\u001b[38;2;0;0;0;48;2;0;0;0m▀\u001b[38;2;0;0;0;48;2;0;0;0m▀\u001b[38;2;0;0;0;48;2;0;0;0m▀\u001b[38;2;0;0;0;48;2;0;0;0m▀\u001b[38;2;0;0;0;48;2;0;0;0m▀\u001b[38;2;0;0;0;48;2;0;0;0m▀\u001b[38;2;0;0;0;48;2;0;0;0m▀\u001b[0m\n",
       "\u001b[0m\u001b[38;2;0;0;0;48;2;0;0;0m▀\u001b[38;2;0;0;0;48;2;0;0;0m▀\u001b[38;2;0;0;0;48;2;0;0;0m▀\u001b[38;2;0;0;0;48;2;0;0;0m▀\u001b[38;2;0;0;0;48;2;0;0;0m▀\u001b[38;2;0;0;0;48;2;0;0;0m▀\u001b[38;2;0;0;0;48;2;0;0;0m▀\u001b[38;2;0;0;0;48;2;0;0;0m▀\u001b[38;2;0;0;0;48;2;0;0;0m▀\u001b[38;2;0;0;0;48;2;0;0;0m▀\u001b[38;2;0;0;0;48;2;0;0;0m▀\u001b[38;2;0;0;0;48;2;0;0;0m▀\u001b[38;2;0;0;0;48;2;0;0;0m▀\u001b[38;2;0;0;0;48;2;0;0;0m▀\u001b[38;2;61;61;61;48;2;0;0;0m▀\u001b[38;2;80;80;80;48;2;10;10;10m▀\u001b[38;2;16;16;16;48;2;24;24;24m▀\u001b[38;2;33;33;33;48;2;97;97;97m▀\u001b[38;2;0;0;0;48;2;0;0;0m▀\u001b[38;2;0;0;0;48;2;0;0;0m▀\u001b[38;2;0;0;0;48;2;0;0;0m▀\u001b[38;2;0;0;0;48;2;0;0;0m▀\u001b[38;2;0;0;0;48;2;0;0;0m▀\u001b[38;2;1;1;1;48;2;13;13;13m▀\u001b[38;2;0;0;0;48;2;0;0;0m▀\u001b[38;2;0;0;0;48;2;0;0;0m▀\u001b[38;2;0;0;0;48;2;0;0;0m▀\u001b[38;2;0;0;0;48;2;0;0;0m▀\u001b[38;2;0;0;0;48;2;0;0;0m▀\u001b[38;2;0;0;0;48;2;0;0;0m▀\u001b[38;2;0;0;0;48;2;0;0;0m▀\u001b[38;2;0;0;0;48;2;0;0;0m▀\u001b[0m\n",
       "\u001b[0m\u001b[38;2;0;0;0;48;2;0;0;0m▀\u001b[38;2;0;0;0;48;2;0;0;0m▀\u001b[38;2;0;0;0;48;2;0;0;0m▀\u001b[38;2;0;0;0;48;2;0;0;0m▀\u001b[38;2;0;0;0;48;2;0;0;0m▀\u001b[38;2;0;0;0;48;2;0;0;0m▀\u001b[38;2;0;0;0;48;2;0;0;0m▀\u001b[38;2;0;0;0;48;2;0;0;0m▀\u001b[38;2;0;0;0;48;2;0;0;0m▀\u001b[38;2;0;0;0;48;2;0;0;0m▀\u001b[38;2;0;0;0;48;2;0;0;0m▀\u001b[38;2;0;0;0;48;2;0;0;0m▀\u001b[38;2;0;0;0;48;2;4;4;4m▀\u001b[38;2;0;0;0;48;2;7;7;7m▀\u001b[38;2;0;0;0;48;2;0;0;0m▀\u001b[38;2;0;0;0;48;2;0;0;0m▀\u001b[38;2;0;0;0;48;2;0;0;0m▀\u001b[38;2;10;10;10;48;2;0;0;0m▀\u001b[38;2;0;0;0;48;2;0;0;0m▀\u001b[38;2;0;0;0;48;2;0;0;0m▀\u001b[38;2;0;0;0;48;2;0;0;0m▀\u001b[38;2;0;0;0;48;2;0;0;0m▀\u001b[38;2;0;0;0;48;2;0;0;0m▀\u001b[38;2;0;0;0;48;2;17;17;17m▀\u001b[38;2;16;16;16;48;2;0;0;0m▀\u001b[38;2;0;0;0;48;2;0;0;0m▀\u001b[38;2;0;0;0;48;2;0;0;0m▀\u001b[38;2;0;0;0;48;2;0;0;0m▀\u001b[38;2;0;0;0;48;2;0;0;0m▀\u001b[38;2;0;0;0;48;2;0;0;0m▀\u001b[38;2;0;0;0;48;2;0;0;0m▀\u001b[38;2;0;0;0;48;2;0;0;0m▀\u001b[0m\n",
       "\u001b[0m\u001b[38;2;0;0;0;48;2;0;0;0m▀\u001b[38;2;0;0;0;48;2;0;0;0m▀\u001b[38;2;0;0;0;48;2;0;0;0m▀\u001b[38;2;0;0;0;48;2;0;0;0m▀\u001b[38;2;0;0;0;48;2;0;0;0m▀\u001b[38;2;0;0;0;48;2;0;0;0m▀\u001b[38;2;0;0;0;48;2;0;0;0m▀\u001b[38;2;0;0;0;48;2;0;0;0m▀\u001b[38;2;0;0;0;48;2;2;2;2m▀\u001b[38;2;0;0;0;48;2;2;2;2m▀\u001b[38;2;2;2;2;48;2;9;9;9m▀\u001b[38;2;7;7;7;48;2;0;0;0m▀\u001b[38;2;4;4;4;48;2;0;0;0m▀\u001b[38;2;0;0;0;48;2;0;0;0m▀\u001b[38;2;0;0;0;48;2;0;0;0m▀\u001b[38;2;0;0;0;48;2;0;0;0m▀\u001b[38;2;0;0;0;48;2;0;0;0m▀\u001b[38;2;0;0;0;48;2;0;0;0m▀\u001b[38;2;0;0;0;48;2;0;0;0m▀\u001b[38;2;0;0;0;48;2;0;0;0m▀\u001b[38;2;0;0;0;48;2;0;0;0m▀\u001b[38;2;0;0;0;48;2;0;0;0m▀\u001b[38;2;0;0;0;48;2;0;0;0m▀\u001b[38;2;70;70;70;48;2;59;59;59m▀\u001b[38;2;12;12;12;48;2;21;21;21m▀\u001b[38;2;0;0;0;48;2;0;0;0m▀\u001b[38;2;0;0;0;48;2;0;0;0m▀\u001b[38;2;0;0;0;48;2;0;0;0m▀\u001b[38;2;0;0;0;48;2;0;0;0m▀\u001b[38;2;0;0;0;48;2;0;0;0m▀\u001b[38;2;0;0;0;48;2;0;0;0m▀\u001b[38;2;0;0;0;48;2;0;0;0m▀\u001b[0m\n",
       "\u001b[0m\u001b[38;2;0;0;0;48;2;0;0;0m▀\u001b[38;2;0;0;0;48;2;0;0;0m▀\u001b[38;2;0;0;0;48;2;0;0;0m▀\u001b[38;2;0;0;0;48;2;0;0;0m▀\u001b[38;2;0;0;0;48;2;6;6;6m▀\u001b[38;2;0;0;0;48;2;6;6;6m▀\u001b[38;2;2;2;2;48;2;0;0;0m▀\u001b[38;2;14;14;14;48;2;0;0;0m▀\u001b[38;2;0;0;0;48;2;0;0;0m▀\u001b[38;2;0;0;0;48;2;0;0;0m▀\u001b[38;2;0;0;0;48;2;0;0;0m▀\u001b[38;2;0;0;0;48;2;0;0;0m▀\u001b[38;2;0;0;0;48;2;0;0;0m▀\u001b[38;2;0;0;0;48;2;0;0;0m▀\u001b[38;2;0;0;0;48;2;0;0;0m▀\u001b[38;2;0;0;0;48;2;0;0;0m▀\u001b[38;2;0;0;0;48;2;0;0;0m▀\u001b[38;2;0;0;0;48;2;0;0;0m▀\u001b[38;2;0;0;0;48;2;0;0;0m▀\u001b[38;2;0;0;0;48;2;0;0;0m▀\u001b[38;2;0;0;0;48;2;0;0;0m▀\u001b[38;2;0;0;0;48;2;59;59;59m▀\u001b[38;2;29;29;29;48;2;81;81;81m▀\u001b[38;2;103;103;103;48;2;59;59;59m▀\u001b[38;2;1;1;1;48;2;0;0;0m▀\u001b[38;2;0;0;0;48;2;0;0;0m▀\u001b[38;2;0;0;0;48;2;0;0;0m▀\u001b[38;2;0;0;0;48;2;0;0;0m▀\u001b[38;2;0;0;0;48;2;0;0;0m▀\u001b[38;2;0;0;0;48;2;0;0;0m▀\u001b[38;2;0;0;0;48;2;0;0;0m▀\u001b[38;2;0;0;0;48;2;0;0;0m▀\u001b[0m\n",
       "\u001b[0m\u001b[38;2;0;0;0;48;2;0;0;0m▀\u001b[38;2;0;0;0;48;2;0;0;0m▀\u001b[38;2;0;0;0;48;2;0;0;0m▀\u001b[38;2;0;0;0;48;2;0;0;0m▀\u001b[38;2;32;32;32;48;2;43;43;43m▀\u001b[38;2;36;36;36;48;2;58;58;58m▀\u001b[38;2;0;0;0;48;2;53;53;53m▀\u001b[38;2;0;0;0;48;2;68;68;68m▀\u001b[38;2;0;0;0;48;2;92;92;92m▀\u001b[38;2;0;0;0;48;2;30;30;30m▀\u001b[38;2;0;0;0;48;2;0;0;0m▀\u001b[38;2;0;0;0;48;2;0;0;0m▀\u001b[38;2;0;0;0;48;2;0;0;0m▀\u001b[38;2;0;0;0;48;2;0;0;0m▀\u001b[38;2;0;0;0;48;2;0;0;0m▀\u001b[38;2;0;0;0;48;2;0;0;0m▀\u001b[38;2;0;0;0;48;2;0;0;0m▀\u001b[38;2;0;0;0;48;2;36;36;36m▀\u001b[38;2;0;0;0;48;2;71;71;71m▀\u001b[38;2;39;39;39;48;2;59;59;59m▀\u001b[38;2;74;74;74;48;2;26;26;26m▀\u001b[38;2;59;59;59;48;2;1;1;1m▀\u001b[38;2;25;25;25;48;2;0;0;0m▀\u001b[38;2;0;0;0;48;2;0;0;0m▀\u001b[38;2;0;0;0;48;2;0;0;0m▀\u001b[38;2;0;0;0;48;2;0;0;0m▀\u001b[38;2;0;0;0;48;2;0;0;0m▀\u001b[38;2;0;0;0;48;2;0;0;0m▀\u001b[38;2;0;0;0;48;2;0;0;0m▀\u001b[38;2;0;0;0;48;2;0;0;0m▀\u001b[38;2;0;0;0;48;2;0;0;0m▀\u001b[38;2;0;0;0;48;2;0;0;0m▀\u001b[0m\n",
       "\u001b[0m\u001b[38;2;0;0;0;48;2;0;0;0m▀\u001b[38;2;0;0;0;48;2;0;0;0m▀\u001b[38;2;0;0;0;48;2;0;0;0m▀\u001b[38;2;0;0;0;48;2;0;0;0m▀\u001b[38;2;13;13;13;48;2;19;19;19m▀\u001b[38;2;98;98;98;48;2;35;35;35m▀\u001b[38;2;114;114;114;48;2;0;0;0m▀\u001b[38;2;8;8;8;48;2;0;0;0m▀\u001b[38;2;0;0;0;48;2;0;0;0m▀\u001b[38;2;0;0;0;48;2;0;0;0m▀\u001b[38;2;0;0;0;48;2;0;0;0m▀\u001b[38;2;0;0;0;48;2;0;0;0m▀\u001b[38;2;0;0;0;48;2;0;0;0m▀\u001b[38;2;0;0;0;48;2;0;0;0m▀\u001b[38;2;0;0;0;48;2;69;69;69m▀\u001b[38;2;24;24;24;48;2;70;70;70m▀\u001b[38;2;80;80;80;48;2;42;42;42m▀\u001b[38;2;58;58;58;48;2;4;4;4m▀\u001b[38;2;25;25;25;48;2;0;0;0m▀\u001b[38;2;3;3;3;48;2;0;0;0m▀\u001b[38;2;0;0;0;48;2;0;0;0m▀\u001b[38;2;0;0;0;48;2;0;0;0m▀\u001b[38;2;0;0;0;48;2;0;0;0m▀\u001b[38;2;0;0;0;48;2;0;0;0m▀\u001b[38;2;0;0;0;48;2;0;0;0m▀\u001b[38;2;0;0;0;48;2;0;0;0m▀\u001b[38;2;0;0;0;48;2;0;0;0m▀\u001b[38;2;0;0;0;48;2;0;0;0m▀\u001b[38;2;0;0;0;48;2;0;0;0m▀\u001b[38;2;0;0;0;48;2;0;0;0m▀\u001b[38;2;0;0;0;48;2;0;0;0m▀\u001b[38;2;0;0;0;48;2;0;0;0m▀\u001b[0m\n",
       "\u001b[0m\u001b[38;2;0;0;0;48;2;0;0;0m▀\u001b[38;2;0;0;0;48;2;0;0;0m▀\u001b[38;2;0;0;0;48;2;0;0;0m▀\u001b[38;2;0;0;0;48;2;0;0;0m▀\u001b[38;2;0;0;0;48;2;0;0;0m▀\u001b[38;2;0;0;0;48;2;0;0;0m▀\u001b[38;2;0;0;0;48;2;0;0;0m▀\u001b[38;2;0;0;0;48;2;0;0;0m▀\u001b[38;2;0;0;0;48;2;0;0;0m▀\u001b[38;2;0;0;0;48;2;0;0;0m▀\u001b[38;2;0;0;0;48;2;0;0;0m▀\u001b[38;2;24;24;24;48;2;0;0;0m▀\u001b[38;2;43;43;43;48;2;0;0;0m▀\u001b[38;2;31;31;31;48;2;0;0;0m▀\u001b[38;2;41;41;41;48;2;0;0;0m▀\u001b[38;2;5;5;5;48;2;0;0;0m▀\u001b[38;2;0;0;0;48;2;0;0;0m▀\u001b[38;2;0;0;0;48;2;0;0;0m▀\u001b[38;2;0;0;0;48;2;0;0;0m▀\u001b[38;2;0;0;0;48;2;0;0;0m▀\u001b[38;2;0;0;0;48;2;0;0;0m▀\u001b[38;2;0;0;0;48;2;0;0;0m▀\u001b[38;2;0;0;0;48;2;0;0;0m▀\u001b[38;2;0;0;0;48;2;0;0;0m▀\u001b[38;2;0;0;0;48;2;0;0;0m▀\u001b[38;2;0;0;0;48;2;0;0;0m▀\u001b[38;2;0;0;0;48;2;0;0;0m▀\u001b[38;2;0;0;0;48;2;0;0;0m▀\u001b[38;2;0;0;0;48;2;0;0;0m▀\u001b[38;2;0;0;0;48;2;0;0;0m▀\u001b[38;2;0;0;0;48;2;0;0;0m▀\u001b[38;2;0;0;0;48;2;0;0;0m▀\u001b[0m\n",
       "\u001b[0m\u001b[38;2;0;0;0;48;2;0;0;0m▀\u001b[38;2;0;0;0;48;2;0;0;0m▀\u001b[38;2;0;0;0;48;2;0;0;0m▀\u001b[38;2;0;0;0;48;2;0;0;0m▀\u001b[38;2;0;0;0;48;2;0;0;0m▀\u001b[38;2;0;0;0;48;2;0;0;0m▀\u001b[38;2;0;0;0;48;2;0;0;0m▀\u001b[38;2;0;0;0;48;2;0;0;0m▀\u001b[38;2;0;0;0;48;2;0;0;0m▀\u001b[38;2;0;0;0;48;2;0;0;0m▀\u001b[38;2;0;0;0;48;2;0;0;0m▀\u001b[38;2;0;0;0;48;2;0;0;0m▀\u001b[38;2;0;0;0;48;2;0;0;0m▀\u001b[38;2;0;0;0;48;2;0;0;0m▀\u001b[38;2;0;0;0;48;2;0;0;0m▀\u001b[38;2;0;0;0;48;2;0;0;0m▀\u001b[38;2;0;0;0;48;2;0;0;0m▀\u001b[38;2;0;0;0;48;2;0;0;0m▀\u001b[38;2;0;0;0;48;2;0;0;0m▀\u001b[38;2;0;0;0;48;2;0;0;0m▀\u001b[38;2;0;0;0;48;2;0;0;0m▀\u001b[38;2;0;0;0;48;2;0;0;0m▀\u001b[38;2;0;0;0;48;2;0;0;0m▀\u001b[38;2;0;0;0;48;2;0;0;0m▀\u001b[38;2;0;0;0;48;2;0;0;0m▀\u001b[38;2;0;0;0;48;2;0;0;0m▀\u001b[38;2;0;0;0;48;2;0;0;0m▀\u001b[38;2;0;0;0;48;2;0;0;0m▀\u001b[38;2;0;0;0;48;2;0;0;0m▀\u001b[38;2;0;0;0;48;2;0;0;0m▀\u001b[38;2;0;0;0;48;2;0;0;0m▀\u001b[38;2;0;0;0;48;2;0;0;0m▀\u001b[0m\n"
      ]
     },
     "execution_count": 97,
     "metadata": {},
     "output_type": "execute_result"
    }
   ],
   "source": [
    "cnn_output = cnn_layer( images[:,:,:,1:3] )\n",
    "display( cnn_output |> size )\n",
    "convert2image( MNIST , cnn_output[:,:,1,1] )"
   ]
  },
  {
   "cell_type": "code",
   "execution_count": 98,
   "metadata": {},
   "outputs": [
    {
     "data": {
      "text/plain": [
       "(21, 21, 1, 10)"
      ]
     },
     "execution_count": 98,
     "metadata": {},
     "output_type": "execute_result"
    }
   ],
   "source": [
    "x = rand(Float32, 10, 10, 1, 10); \n",
    "cnn_layer = ConvTranspose( (5,5) , 1 => 1 , pad=1 , stride=2 )\n",
    "cnn_layer( x ) |> size"
   ]
  },
  {
   "cell_type": "code",
   "execution_count": 99,
   "metadata": {},
   "outputs": [
    {
     "data": {
      "text/plain": [
       "(57, 57, 1, 3)"
      ]
     },
     "metadata": {},
     "output_type": "display_data"
    },
    {
     "data": {
      "image/png": "[encoded data removed]",
      "text/html": [
       "<img src=\"data:image/png;base64,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\">"
      ],
      "text/plain": [
       "\u001b[0m\u001b[38;2;0;0;0;48;2;0;0;0m▀\u001b[38;2;0;0;0;48;2;0;0;0m▀\u001b[38;2;0;0;0;48;2;0;0;0m▀\u001b[38;2;0;0;0;48;2;0;0;0m▀\u001b[38;2;0;0;0;48;2;0;0;0m▀\u001b[38;2;0;0;0;48;2;0;0;0m▀\u001b[38;2;0;0;0;48;2;0;0;0m▀\u001b[38;2;0;0;0;48;2;0;0;0m▀\u001b[38;2;0;0;0;48;2;0;0;0m▀\u001b[38;2;0;0;0;48;2;0;0;0m▀\u001b[38;2;0;0;0;48;2;0;0;0m▀\u001b[38;2;0;0;0;48;2;0;0;0m▀\u001b[38;2;0;0;0;48;2;0;0;0m▀\u001b[38;2;0;0;0;48;2;0;0;0m▀\u001b[38;2;0;0;0;48;2;0;0;0m▀\u001b[38;2;0;0;0;48;2;0;0;0m▀\u001b[38;2;0;0;0;48;2;0;0;0m▀\u001b[38;2;0;0;0;48;2;0;0;0m▀\u001b[38;2;0;0;0;48;2;0;0;0m▀\u001b[38;2;0;0;0;48;2;0;0;0m▀\u001b[38;2;0;0;0;48;2;0;0;0m▀\u001b[38;2;0;0;0;48;2;0;0;0m▀\u001b[38;2;0;0;0;48;2;0;0;0m▀\u001b[38;2;0;0;0;48;2;0;0;0m▀\u001b[38;2;0;0;0;48;2;0;0;0m▀\u001b[38;2;0;0;0;48;2;0;0;0m▀\u001b[38;2;0;0;0;48;2;0;0;0m▀\u001b[38;2;0;0;0;48;2;0;0;0m▀\u001b[38;2;0;0;0;48;2;0;0;0m▀\u001b[38;2;0;0;0;48;2;0;0;0m▀\u001b[38;2;0;0;0;48;2;0;0;0m▀\u001b[38;2;0;0;0;48;2;0;0;0m▀\u001b[38;2;0;0;0;48;2;0;0;0m▀\u001b[38;2;0;0;0;48;2;0;0;0m▀\u001b[38;2;0;0;0;48;2;0;0;0m▀\u001b[38;2;0;0;0;48;2;0;0;0m▀\u001b[38;2;0;0;0;48;2;0;0;0m▀\u001b[38;2;0;0;0;48;2;0;0;0m▀\u001b[38;2;0;0;0;48;2;0;0;0m▀\u001b[38;2;0;0;0;48;2;0;0;0m▀\u001b[38;2;0;0;0;48;2;0;0;0m▀\u001b[38;2;0;0;0;48;2;0;0;0m▀\u001b[38;2;0;0;0;48;2;0;0;0m▀\u001b[38;2;0;0;0;48;2;0;0;0m▀\u001b[38;2;0;0;0;48;2;0;0;0m▀\u001b[38;2;0;0;0;48;2;0;0;0m▀\u001b[38;2;0;0;0;48;2;0;0;0m▀\u001b[38;2;0;0;0;48;2;0;0;0m▀\u001b[38;2;0;0;0;48;2;0;0;0m▀\u001b[38;2;0;0;0;48;2;0;0;0m▀\u001b[38;2;0;0;0;48;2;0;0;0m▀\u001b[38;2;0;0;0;48;2;0;0;0m▀\u001b[38;2;0;0;0;48;2;0;0;0m▀\u001b[38;2;0;0;0;48;2;0;0;0m▀\u001b[38;2;0;0;0;48;2;0;0;0m▀\u001b[38;2;0;0;0;48;2;0;0;0m▀\u001b[38;2;0;0;0;48;2;0;0;0m▀\u001b[0m\n",
       "\u001b[0m\u001b[38;2;0;0;0;48;2;0;0;0m▀\u001b[38;2;0;0;0;48;2;0;0;0m▀\u001b[38;2;0;0;0;48;2;0;0;0m▀\u001b[38;2;0;0;0;48;2;0;0;0m▀\u001b[38;2;0;0;0;48;2;0;0;0m▀\u001b[38;2;0;0;0;48;2;0;0;0m▀\u001b[38;2;0;0;0;48;2;0;0;0m▀\u001b[38;2;0;0;0;48;2;0;0;0m▀\u001b[38;2;0;0;0;48;2;0;0;0m▀\u001b[38;2;0;0;0;48;2;0;0;0m▀\u001b[38;2;0;0;0;48;2;0;0;0m▀\u001b[38;2;0;0;0;48;2;0;0;0m▀\u001b[38;2;0;0;0;48;2;0;0;0m▀\u001b[38;2;0;0;0;48;2;0;0;0m▀\u001b[38;2;0;0;0;48;2;0;0;0m▀\u001b[38;2;0;0;0;48;2;0;0;0m▀\u001b[38;2;0;0;0;48;2;0;0;0m▀\u001b[38;2;0;0;0;48;2;0;0;0m▀\u001b[38;2;0;0;0;48;2;0;0;0m▀\u001b[38;2;0;0;0;48;2;0;0;0m▀\u001b[38;2;0;0;0;48;2;0;0;0m▀\u001b[38;2;0;0;0;48;2;0;0;0m▀\u001b[38;2;0;0;0;48;2;0;0;0m▀\u001b[38;2;0;0;0;48;2;0;0;0m▀\u001b[38;2;0;0;0;48;2;0;0;0m▀\u001b[38;2;0;0;0;48;2;0;0;0m▀\u001b[38;2;0;0;0;48;2;0;0;0m▀\u001b[38;2;0;0;0;48;2;0;0;0m▀\u001b[38;2;0;0;0;48;2;0;0;0m▀\u001b[38;2;0;0;0;48;2;0;0;0m▀\u001b[38;2;0;0;0;48;2;0;0;0m▀\u001b[38;2;0;0;0;48;2;0;0;0m▀\u001b[38;2;0;0;0;48;2;0;0;0m▀\u001b[38;2;0;0;0;48;2;0;0;0m▀\u001b[38;2;0;0;0;48;2;0;0;0m▀\u001b[38;2;0;0;0;48;2;0;0;0m▀\u001b[38;2;0;0;0;48;2;0;0;0m▀\u001b[38;2;0;0;0;48;2;0;0;0m▀\u001b[38;2;0;0;0;48;2;0;0;0m▀\u001b[38;2;0;0;0;48;2;0;0;0m▀\u001b[38;2;0;0;0;48;2;0;0;0m▀\u001b[38;2;0;0;0;48;2;0;0;0m▀\u001b[38;2;0;0;0;48;2;0;0;0m▀\u001b[38;2;0;0;0;48;2;0;0;0m▀\u001b[38;2;0;0;0;48;2;0;0;0m▀\u001b[38;2;0;0;0;48;2;0;0;0m▀\u001b[38;2;0;0;0;48;2;0;0;0m▀\u001b[38;2;0;0;0;48;2;0;0;0m▀\u001b[38;2;0;0;0;48;2;0;0;0m▀\u001b[38;2;0;0;0;48;2;0;0;0m▀\u001b[38;2;0;0;0;48;2;0;0;0m▀\u001b[38;2;0;0;0;48;2;0;0;0m▀\u001b[38;2;0;0;0;48;2;0;0;0m▀\u001b[38;2;0;0;0;48;2;0;0;0m▀\u001b[38;2;0;0;0;48;2;0;0;0m▀\u001b[38;2;0;0;0;48;2;0;0;0m▀\u001b[38;2;0;0;0;48;2;0;0;0m▀\u001b[0m\n",
       "\u001b[0m\u001b[38;2;0;0;0;48;2;0;0;0m▀\u001b[38;2;0;0;0;48;2;0;0;0m▀\u001b[38;2;0;0;0;48;2;0;0;0m▀\u001b[38;2;0;0;0;48;2;0;0;0m▀\u001b[38;2;0;0;0;48;2;0;0;0m▀\u001b[38;2;0;0;0;48;2;0;0;0m▀\u001b[38;2;0;0;0;48;2;0;0;0m▀\u001b[38;2;0;0;0;48;2;0;0;0m▀\u001b[38;2;0;0;0;48;2;0;0;0m▀\u001b[38;2;0;0;0;48;2;0;0;0m▀\u001b[38;2;0;0;0;48;2;0;0;0m▀\u001b[38;2;0;0;0;48;2;0;0;0m▀\u001b[38;2;0;0;0;48;2;0;0;0m▀\u001b[38;2;0;0;0;48;2;0;0;0m▀\u001b[38;2;0;0;0;48;2;0;0;0m▀\u001b[38;2;0;0;0;48;2;0;0;0m▀\u001b[38;2;0;0;0;48;2;0;0;0m▀\u001b[38;2;0;0;0;48;2;0;0;0m▀\u001b[38;2;0;0;0;48;2;0;0;0m▀\u001b[38;2;0;0;0;48;2;0;0;0m▀\u001b[38;2;0;0;0;48;2;0;0;0m▀\u001b[38;2;0;0;0;48;2;0;0;0m▀\u001b[38;2;0;0;0;48;2;0;0;0m▀\u001b[38;2;0;0;0;48;2;0;0;0m▀\u001b[38;2;0;0;0;48;2;0;0;0m▀\u001b[38;2;0;0;0;48;2;0;0;0m▀\u001b[38;2;0;0;0;48;2;0;0;0m▀\u001b[38;2;0;0;0;48;2;0;0;0m▀\u001b[38;2;0;0;0;48;2;0;0;0m▀\u001b[38;2;0;0;0;48;2;0;0;0m▀\u001b[38;2;0;0;0;48;2;0;0;0m▀\u001b[38;2;0;0;0;48;2;0;0;0m▀\u001b[38;2;0;0;0;48;2;0;0;0m▀\u001b[38;2;0;0;0;48;2;0;0;0m▀\u001b[38;2;0;0;0;48;2;0;0;0m▀\u001b[38;2;0;0;0;48;2;0;0;0m▀\u001b[38;2;0;0;0;48;2;0;0;0m▀\u001b[38;2;0;0;0;48;2;0;0;0m▀\u001b[38;2;0;0;0;48;2;0;0;0m▀\u001b[38;2;0;0;0;48;2;0;0;0m▀\u001b[38;2;0;0;0;48;2;0;0;0m▀\u001b[38;2;0;0;0;48;2;0;0;0m▀\u001b[38;2;0;0;0;48;2;0;0;0m▀\u001b[38;2;0;0;0;48;2;0;0;0m▀\u001b[38;2;0;0;0;48;2;0;0;0m▀\u001b[38;2;0;0;0;48;2;0;0;0m▀\u001b[38;2;0;0;0;48;2;0;0;0m▀\u001b[38;2;0;0;0;48;2;0;0;0m▀\u001b[38;2;0;0;0;48;2;0;0;0m▀\u001b[38;2;0;0;0;48;2;0;0;0m▀\u001b[38;2;0;0;0;48;2;0;0;0m▀\u001b[38;2;0;0;0;48;2;0;0;0m▀\u001b[38;2;0;0;0;48;2;0;0;0m▀\u001b[38;2;0;0;0;48;2;0;0;0m▀\u001b[38;2;0;0;0;48;2;0;0;0m▀\u001b[38;2;0;0;0;48;2;0;0;0m▀\u001b[38;2;0;0;0;48;2;0;0;0m▀\u001b[0m\n",
       "\u001b[0m\u001b[38;2;0;0;0;48;2;0;0;0m▀\u001b[38;2;0;0;0;48;2;0;0;0m▀\u001b[38;2;0;0;0;48;2;0;0;0m▀\u001b[38;2;0;0;0;48;2;0;0;0m▀\u001b[38;2;0;0;0;48;2;0;0;0m▀\u001b[38;2;0;0;0;48;2;0;0;0m▀\u001b[38;2;0;0;0;48;2;0;0;0m▀\u001b[38;2;0;0;0;48;2;0;0;0m▀\u001b[38;2;0;0;0;48;2;0;0;0m▀\u001b[38;2;0;0;0;48;2;0;0;0m▀\u001b[38;2;0;0;0;48;2;0;0;0m▀\u001b[38;2;0;0;0;48;2;0;0;0m▀\u001b[38;2;0;0;0;48;2;0;0;0m▀\u001b[38;2;0;0;0;48;2;0;0;0m▀\u001b[38;2;0;0;0;48;2;0;0;0m▀\u001b[38;2;0;0;0;48;2;0;0;0m▀\u001b[38;2;0;0;0;48;2;0;0;0m▀\u001b[38;2;0;0;0;48;2;0;0;0m▀\u001b[38;2;0;0;0;48;2;0;0;0m▀\u001b[38;2;0;0;0;48;2;0;0;0m▀\u001b[38;2;0;0;0;48;2;0;0;0m▀\u001b[38;2;0;0;0;48;2;0;0;0m▀\u001b[38;2;0;0;0;48;2;0;0;0m▀\u001b[38;2;0;0;0;48;2;0;0;0m▀\u001b[38;2;0;0;0;48;2;0;0;0m▀\u001b[38;2;0;0;0;48;2;0;0;0m▀\u001b[38;2;0;0;0;48;2;0;0;0m▀\u001b[38;2;0;0;0;48;2;0;0;0m▀\u001b[38;2;0;0;0;48;2;0;0;0m▀\u001b[38;2;0;0;0;48;2;0;0;0m▀\u001b[38;2;0;0;0;48;2;0;0;0m▀\u001b[38;2;0;0;0;48;2;0;0;0m▀\u001b[38;2;0;0;0;48;2;0;0;0m▀\u001b[38;2;0;0;0;48;2;0;0;0m▀\u001b[38;2;0;0;0;48;2;0;0;0m▀\u001b[38;2;0;0;0;48;2;0;0;0m▀\u001b[38;2;0;0;0;48;2;0;0;0m▀\u001b[38;2;0;0;0;48;2;0;0;0m▀\u001b[38;2;0;0;0;48;2;0;0;0m▀\u001b[38;2;0;0;0;48;2;0;0;0m▀\u001b[38;2;0;0;0;48;2;0;0;0m▀\u001b[38;2;0;0;0;48;2;0;0;0m▀\u001b[38;2;0;0;0;48;2;0;0;0m▀\u001b[38;2;0;0;0;48;2;0;0;0m▀\u001b[38;2;0;0;0;48;2;0;0;0m▀\u001b[38;2;0;0;0;48;2;0;0;0m▀\u001b[38;2;0;0;0;48;2;0;0;0m▀\u001b[38;2;0;0;0;48;2;0;0;0m▀\u001b[38;2;0;0;0;48;2;0;0;0m▀\u001b[38;2;0;0;0;48;2;0;0;0m▀\u001b[38;2;0;0;0;48;2;0;0;0m▀\u001b[38;2;0;0;0;48;2;0;0;0m▀\u001b[38;2;0;0;0;48;2;0;0;0m▀\u001b[38;2;0;0;0;48;2;0;0;0m▀\u001b[38;2;0;0;0;48;2;0;0;0m▀\u001b[38;2;0;0;0;48;2;0;0;0m▀\u001b[38;2;0;0;0;48;2;0;0;0m▀\u001b[0m\n",
       "\u001b[0m\u001b[38;2;0;0;0;48;2;0;0;0m▀\u001b[38;2;0;0;0;48;2;0;0;0m▀\u001b[38;2;0;0;0;48;2;0;0;0m▀\u001b[38;2;0;0;0;48;2;0;0;0m▀\u001b[38;2;0;0;0;48;2;0;0;0m▀\u001b[38;2;0;0;0;48;2;0;0;0m▀\u001b[38;2;0;0;0;48;2;0;0;0m▀\u001b[38;2;0;0;0;48;2;0;0;0m▀\u001b[38;2;0;0;0;48;2;0;0;0m▀\u001b[38;2;0;0;0;48;2;0;0;0m▀\u001b[38;2;0;0;0;48;2;0;0;0m▀\u001b[38;2;0;0;0;48;2;0;0;0m▀\u001b[38;2;0;0;0;48;2;0;0;0m▀\u001b[38;2;0;0;0;48;2;0;0;0m▀\u001b[38;2;0;0;0;48;2;0;0;0m▀\u001b[38;2;0;0;0;48;2;0;0;0m▀\u001b[38;2;0;0;0;48;2;0;0;0m▀\u001b[38;2;0;0;0;48;2;0;0;0m▀\u001b[38;2;0;0;0;48;2;0;0;0m▀\u001b[38;2;0;0;0;48;2;0;0;0m▀\u001b[38;2;0;0;0;48;2;0;0;0m▀\u001b[38;2;0;0;0;48;2;0;0;0m▀\u001b[38;2;0;0;0;48;2;0;0;0m▀\u001b[38;2;0;0;0;48;2;0;0;0m▀\u001b[38;2;0;0;0;48;2;0;0;0m▀\u001b[38;2;0;0;0;48;2;0;0;0m▀\u001b[38;2;0;0;0;48;2;0;0;0m▀\u001b[38;2;0;0;0;48;2;2;2;2m▀\u001b[38;2;0;0;0;48;2;0;0;0m▀\u001b[38;2;0;0;0;48;2;0;0;0m▀\u001b[38;2;0;0;0;48;2;0;0;0m▀\u001b[38;2;0;0;0;48;2;0;0;0m▀\u001b[38;2;0;0;0;48;2;0;0;0m▀\u001b[38;2;0;0;0;48;2;17;17;17m▀\u001b[38;2;0;0;0;48;2;0;0;0m▀\u001b[38;2;0;0;0;48;2;0;0;0m▀\u001b[38;2;0;0;0;48;2;0;0;0m▀\u001b[38;2;0;0;0;48;2;10;10;10m▀\u001b[38;2;0;0;0;48;2;0;0;0m▀\u001b[38;2;0;0;0;48;2;0;0;0m▀\u001b[38;2;0;0;0;48;2;0;0;0m▀\u001b[38;2;0;0;0;48;2;17;17;17m▀\u001b[38;2;0;0;0;48;2;0;0;0m▀\u001b[38;2;0;0;0;48;2;9;9;9m▀\u001b[38;2;0;0;0;48;2;0;0;0m▀\u001b[38;2;0;0;0;48;2;0;0;0m▀\u001b[38;2;0;0;0;48;2;0;0;0m▀\u001b[38;2;0;0;0;48;2;0;0;0m▀\u001b[38;2;0;0;0;48;2;0;0;0m▀\u001b[38;2;0;0;0;48;2;0;0;0m▀\u001b[38;2;0;0;0;48;2;0;0;0m▀\u001b[38;2;0;0;0;48;2;0;0;0m▀\u001b[38;2;0;0;0;48;2;0;0;0m▀\u001b[38;2;0;0;0;48;2;0;0;0m▀\u001b[38;2;0;0;0;48;2;0;0;0m▀\u001b[38;2;0;0;0;48;2;0;0;0m▀\u001b[38;2;0;0;0;48;2;0;0;0m▀\u001b[0m\n",
       "\u001b[0m\u001b[38;2;0;0;0;48;2;0;0;0m▀\u001b[38;2;0;0;0;48;2;0;0;0m▀\u001b[38;2;0;0;0;48;2;0;0;0m▀\u001b[38;2;0;0;0;48;2;0;0;0m▀\u001b[38;2;0;0;0;48;2;0;0;0m▀\u001b[38;2;0;0;0;48;2;0;0;0m▀\u001b[38;2;0;0;0;48;2;0;0;0m▀\u001b[38;2;0;0;0;48;2;0;0;0m▀\u001b[38;2;0;0;0;48;2;0;0;0m▀\u001b[38;2;0;0;0;48;2;0;0;0m▀\u001b[38;2;0;0;0;48;2;0;0;0m▀\u001b[38;2;0;0;0;48;2;0;0;0m▀\u001b[38;2;0;0;0;48;2;0;0;0m▀\u001b[38;2;0;0;0;48;2;0;0;0m▀\u001b[38;2;0;0;0;48;2;0;0;0m▀\u001b[38;2;0;0;0;48;2;0;0;0m▀\u001b[38;2;0;0;0;48;2;0;0;0m▀\u001b[38;2;0;0;0;48;2;5;5;5m▀\u001b[38;2;0;0;0;48;2;0;0;0m▀\u001b[38;2;0;0;0;48;2;0;0;0m▀\u001b[38;2;0;0;0;48;2;0;0;0m▀\u001b[38;2;0;0;0;48;2;5;5;5m▀\u001b[38;2;0;0;0;48;2;0;0;0m▀\u001b[38;2;1;1;1;48;2;5;5;5m▀\u001b[38;2;0;0;0;48;2;0;0;0m▀\u001b[38;2;5;5;5;48;2;0;0;0m▀\u001b[38;2;2;2;2;48;2;0;0;0m▀\u001b[38;2;10;10;10;48;2;5;5;5m▀\u001b[38;2;0;0;0;48;2;0;0;0m▀\u001b[38;2;13;13;13;48;2;0;0;0m▀\u001b[38;2;0;0;0;48;2;0;0;0m▀\u001b[38;2;39;39;39;48;2;0;0;0m▀\u001b[38;2;16;16;16;48;2;0;0;0m▀\u001b[38;2;70;70;70;48;2;0;0;0m▀\u001b[38;2;0;0;0;48;2;0;0;0m▀\u001b[38;2;103;103;103;48;2;0;0;0m▀\u001b[38;2;5;5;5;48;2;0;0;0m▀\u001b[38;2;78;78;78;48;2;4;4;4m▀\u001b[38;2;0;0;0;48;2;0;0;0m▀\u001b[38;2;82;82;82;48;2;0;0;0m▀\u001b[38;2;21;21;21;48;2;0;0;0m▀\u001b[38;2;112;112;112;48;2;0;0;0m▀\u001b[38;2;12;12;12;48;2;0;0;0m▀\u001b[38;2;160;160;160;48;2;0;0;0m▀\u001b[38;2;0;0;0;48;2;0;0;0m▀\u001b[38;2;145;145;145;48;2;17;17;17m▀\u001b[38;2;0;0;0;48;2;0;0;0m▀\u001b[38;2;81;81;81;48;2;19;19;19m▀\u001b[38;2;0;0;0;48;2;3;3;3m▀\u001b[38;2;24;24;24;48;2;14;14;14m▀\u001b[38;2;0;0;0;48;2;0;0;0m▀\u001b[38;2;0;0;0;48;2;0;0;0m▀\u001b[38;2;0;0;0;48;2;0;0;0m▀\u001b[38;2;0;0;0;48;2;0;0;0m▀\u001b[38;2;0;0;0;48;2;0;0;0m▀\u001b[38;2;0;0;0;48;2;0;0;0m▀\u001b[38;2;0;0;0;48;2;0;0;0m▀\u001b[0m\n",
       "\u001b[0m\u001b[38;2;0;0;0;48;2;0;0;0m▀\u001b[38;2;0;0;0;48;2;0;0;0m▀\u001b[38;2;0;0;0;48;2;0;0;0m▀\u001b[38;2;0;0;0;48;2;0;0;0m▀\u001b[38;2;0;0;0;48;2;0;0;0m▀\u001b[38;2;0;0;0;48;2;0;0;0m▀\u001b[38;2;0;0;0;48;2;0;0;0m▀\u001b[38;2;0;0;0;48;2;0;0;0m▀\u001b[38;2;0;0;0;48;2;0;0;0m▀\u001b[38;2;0;0;0;48;2;0;0;0m▀\u001b[38;2;0;0;0;48;2;0;0;0m▀\u001b[38;2;0;0;0;48;2;0;0;0m▀\u001b[38;2;0;0;0;48;2;0;0;0m▀\u001b[38;2;0;0;0;48;2;0;0;0m▀\u001b[38;2;0;0;0;48;2;0;0;0m▀\u001b[38;2;7;7;7;48;2;0;0;0m▀\u001b[38;2;5;5;5;48;2;0;0;0m▀\u001b[38;2;17;17;17;48;2;23;23;23m▀\u001b[38;2;1;1;1;48;2;0;0;0m▀\u001b[38;2;39;39;39;48;2;0;0;0m▀\u001b[38;2;9;9;9;48;2;0;0;0m▀\u001b[38;2;70;70;70;48;2;0;0;0m▀\u001b[38;2;8;8;8;48;2;0;0;0m▀\u001b[38;2;101;101;101;48;2;0;0;0m▀\u001b[38;2;2;2;2;48;2;0;0;0m▀\u001b[38;2;137;137;137;48;2;0;0;0m▀\u001b[38;2;17;17;17;48;2;0;0;0m▀\u001b[38;2;158;158;158;48;2;0;0;0m▀\u001b[38;2;8;8;8;48;2;0;0;0m▀\u001b[38;2;177;177;177;48;2;1;1;1m▀\u001b[38;2;8;8;8;48;2;0;0;0m▀\u001b[38;2;182;182;182;48;2;0;0;0m▀\u001b[38;2;36;36;36;48;2;0;0;0m▀\u001b[38;2;152;152;152;48;2;0;0;0m▀\u001b[38;2;71;71;71;48;2;0;0;0m▀\u001b[38;2;166;166;166;48;2;0;0;0m▀\u001b[38;2;80;80;80;48;2;0;0;0m▀\u001b[38;2;129;129;129;48;2;0;0;0m▀\u001b[38;2;50;50;50;48;2;0;0;0m▀\u001b[38;2;186;186;186;48;2;0;0;0m▀\u001b[38;2;62;62;62;48;2;3;3;3m▀\u001b[38;2;130;130;130;48;2;0;0;0m▀\u001b[38;2;113;113;113;48;2;0;0;0m▀\u001b[38;2;133;133;133;48;2;0;0;0m▀\u001b[38;2;133;133;133;48;2;0;0;0m▀\u001b[38;2;100;100;100;48;2;17;17;17m▀\u001b[38;2;87;87;87;48;2;0;0;0m▀\u001b[38;2;66;66;66;48;2;25;25;25m▀\u001b[38;2;29;29;29;48;2;0;0;0m▀\u001b[38;2;37;37;37;48;2;8;8;8m▀\u001b[38;2;0;0;0;48;2;0;0;0m▀\u001b[38;2;0;0;0;48;2;0;0;0m▀\u001b[38;2;0;0;0;48;2;0;0;0m▀\u001b[38;2;0;0;0;48;2;0;0;0m▀\u001b[38;2;0;0;0;48;2;0;0;0m▀\u001b[38;2;0;0;0;48;2;0;0;0m▀\u001b[38;2;0;0;0;48;2;0;0;0m▀\u001b[0m\n",
       "\u001b[0m\u001b[38;2;0;0;0;48;2;0;0;0m▀\u001b[38;2;0;0;0;48;2;0;0;0m▀\u001b[38;2;0;0;0;48;2;0;0;0m▀\u001b[38;2;0;0;0;48;2;0;0;0m▀\u001b[38;2;0;0;0;48;2;0;0;0m▀\u001b[38;2;0;0;0;48;2;0;0;0m▀\u001b[38;2;0;0;0;48;2;0;0;0m▀\u001b[38;2;0;0;0;48;2;0;0;0m▀\u001b[38;2;0;0;0;48;2;0;0;0m▀\u001b[38;2;0;0;0;48;2;0;0;0m▀\u001b[38;2;0;0;0;48;2;0;0;0m▀\u001b[38;2;0;0;0;48;2;0;0;0m▀\u001b[38;2;0;0;0;48;2;0;0;0m▀\u001b[38;2;12;12;12;48;2;0;0;0m▀\u001b[38;2;8;8;8;48;2;0;0;0m▀\u001b[38;2;74;74;74;48;2;0;0;0m▀\u001b[38;2;36;36;36;48;2;0;0;0m▀\u001b[38;2;128;128;128;48;2;0;0;0m▀\u001b[38;2;19;19;19;48;2;0;0;0m▀\u001b[38;2;175;175;175;48;2;0;0;0m▀\u001b[38;2;33;33;33;48;2;0;0;0m▀\u001b[38;2;166;166;166;48;2;0;0;0m▀\u001b[38;2;66;66;66;48;2;0;0;0m▀\u001b[38;2;161;161;161;48;2;0;0;0m▀\u001b[38;2;89;89;89;48;2;0;0;0m▀\u001b[38;2;172;172;172;48;2;0;0;0m▀\u001b[38;2;115;115;115;48;2;0;0;0m▀\u001b[38;2;152;152;152;48;2;0;0;0m▀\u001b[38;2;141;141;141;48;2;0;0;0m▀\u001b[38;2;168;168;168;48;2;0;0;0m▀\u001b[38;2;141;141;141;48;2;0;0;0m▀\u001b[38;2;168;168;168;48;2;0;0;0m▀\u001b[38;2;141;141;141;48;2;0;0;0m▀\u001b[38;2;168;168;168;48;2;0;0;0m▀\u001b[38;2;141;141;141;48;2;0;0;0m▀\u001b[38;2;126;126;126;48;2;9;9;9m▀\u001b[38;2;109;109;109;48;2;0;0;0m▀\u001b[38;2;87;87;87;48;2;0;0;0m▀\u001b[38;2;111;111;111;48;2;0;0;0m▀\u001b[38;2;67;67;67;48;2;0;0;0m▀\u001b[38;2;118;118;118;48;2;0;0;0m▀\u001b[38;2;25;25;25;48;2;0;0;0m▀\u001b[38;2;136;136;136;48;2;0;0;0m▀\u001b[38;2;31;31;31;48;2;0;0;0m▀\u001b[38;2;122;122;122;48;2;0;0;0m▀\u001b[38;2;16;16;16;48;2;1;1;1m▀\u001b[38;2;70;70;70;48;2;0;0;0m▀\u001b[38;2;27;27;27;48;2;3;3;3m▀\u001b[38;2;20;20;20;48;2;0;0;0m▀\u001b[38;2;12;12;12;48;2;0;0;0m▀\u001b[38;2;0;0;0;48;2;0;0;0m▀\u001b[38;2;0;0;0;48;2;0;0;0m▀\u001b[38;2;0;0;0;48;2;0;0;0m▀\u001b[38;2;0;0;0;48;2;0;0;0m▀\u001b[38;2;0;0;0;48;2;0;0;0m▀\u001b[38;2;0;0;0;48;2;0;0;0m▀\u001b[38;2;0;0;0;48;2;0;0;0m▀\u001b[0m\n",
       "\u001b[0m\u001b[38;2;0;0;0;48;2;0;0;0m▀\u001b[38;2;0;0;0;48;2;0;0;0m▀\u001b[38;2;0;0;0;48;2;0;0;0m▀\u001b[38;2;0;0;0;48;2;0;0;0m▀\u001b[38;2;0;0;0;48;2;0;0;0m▀\u001b[38;2;0;0;0;48;2;0;0;0m▀\u001b[38;2;0;0;0;48;2;0;0;0m▀\u001b[38;2;0;0;0;48;2;0;0;0m▀\u001b[38;2;0;0;0;48;2;0;0;0m▀\u001b[38;2;0;0;0;48;2;0;0;0m▀\u001b[38;2;0;0;0;48;2;0;0;0m▀\u001b[38;2;0;0;0;48;2;0;0;0m▀\u001b[38;2;0;0;0;48;2;0;0;0m▀\u001b[38;2;7;7;7;48;2;0;0;0m▀\u001b[38;2;15;15;15;48;2;3;3;3m▀\u001b[38;2;57;57;57;48;2;0;0;0m▀\u001b[38;2;107;107;107;48;2;0;0;0m▀\u001b[38;2;79;79;79;48;2;0;0;0m▀\u001b[38;2;142;142;142;48;2;0;0;0m▀\u001b[38;2;159;159;159;48;2;0;0;0m▀\u001b[38;2;141;141;141;48;2;0;0;0m▀\u001b[38;2;168;168;168;48;2;0;0;0m▀\u001b[38;2;141;141;141;48;2;0;0;0m▀\u001b[38;2;168;168;168;48;2;7;7;7m▀\u001b[38;2;141;141;141;48;2;0;0;0m▀\u001b[38;2;168;168;168;48;2;0;0;0m▀\u001b[38;2;141;141;141;48;2;0;0;0m▀\u001b[38;2;154;154;154;48;2;0;0;0m▀\u001b[38;2;132;132;132;48;2;0;0;0m▀\u001b[38;2;136;136;136;48;2;0;0;0m▀\u001b[38;2;139;139;139;48;2;0;0;0m▀\u001b[38;2;137;137;137;48;2;0;0;0m▀\u001b[38;2;152;152;152;48;2;0;0;0m▀\u001b[38;2;150;150;150;48;2;0;0;0m▀\u001b[38;2;139;139;139;48;2;0;0;0m▀\u001b[38;2;93;93;93;48;2;55;55;55m▀\u001b[38;2;62;62;62;48;2;0;0;0m▀\u001b[38;2;73;73;73;48;2;4;4;4m▀\u001b[38;2;50;50;50;48;2;0;0;0m▀\u001b[38;2;0;0;0;48;2;0;0;0m▀\u001b[38;2;46;46;46;48;2;0;0;0m▀\u001b[38;2;0;0;0;48;2;0;0;0m▀\u001b[38;2;40;40;40;48;2;0;0;0m▀\u001b[38;2;2;2;2;48;2;0;0;0m▀\u001b[38;2;27;27;27;48;2;0;0;0m▀\u001b[38;2;0;0;0;48;2;0;0;0m▀\u001b[38;2;12;12;12;48;2;0;0;0m▀\u001b[38;2;8;8;8;48;2;0;0;0m▀\u001b[38;2;0;0;0;48;2;0;0;0m▀\u001b[38;2;0;0;0;48;2;0;0;0m▀\u001b[38;2;0;0;0;48;2;0;0;0m▀\u001b[38;2;0;0;0;48;2;0;0;0m▀\u001b[38;2;0;0;0;48;2;0;0;0m▀\u001b[38;2;0;0;0;48;2;0;0;0m▀\u001b[38;2;0;0;0;48;2;0;0;0m▀\u001b[38;2;0;0;0;48;2;0;0;0m▀\u001b[38;2;0;0;0;48;2;0;0;0m▀\u001b[0m\n",
       "\u001b[0m\u001b[38;2;0;0;0;48;2;0;0;0m▀\u001b[38;2;0;0;0;48;2;0;0;0m▀\u001b[38;2;0;0;0;48;2;0;0;0m▀\u001b[38;2;0;0;0;48;2;0;0;0m▀\u001b[38;2;0;0;0;48;2;0;0;0m▀\u001b[38;2;0;0;0;48;2;0;0;0m▀\u001b[38;2;0;0;0;48;2;0;0;0m▀\u001b[38;2;0;0;0;48;2;0;0;0m▀\u001b[38;2;0;0;0;48;2;0;0;0m▀\u001b[38;2;0;0;0;48;2;0;0;0m▀\u001b[38;2;0;0;0;48;2;0;0;0m▀\u001b[38;2;0;0;0;48;2;0;0;0m▀\u001b[38;2;0;0;0;48;2;0;0;0m▀\u001b[38;2;1;1;1;48;2;0;0;0m▀\u001b[38;2;5;5;5;48;2;1;1;1m▀\u001b[38;2;26;26;26;48;2;0;0;0m▀\u001b[38;2;74;74;74;48;2;11;11;11m▀\u001b[38;2;14;14;14;48;2;0;0;0m▀\u001b[38;2;144;144;144;48;2;0;0;0m▀\u001b[38;2;66;66;66;48;2;0;0;0m▀\u001b[38;2;134;134;134;48;2;0;0;0m▀\u001b[38;2;111;111;111;48;2;0;0;0m▀\u001b[38;2;165;165;165;48;2;0;0;0m▀\u001b[38;2;140;140;140;48;2;0;0;0m▀\u001b[38;2;141;141;141;48;2;0;0;0m▀\u001b[38;2;156;156;156;48;2;12;12;12m▀\u001b[38;2;133;133;133;48;2;0;0;0m▀\u001b[38;2;93;93;93;48;2;0;0;0m▀\u001b[38;2;97;97;97;48;2;0;0;0m▀\u001b[38;2;44;44;44;48;2;3;3;3m▀\u001b[38;2;106;106;106;48;2;0;0;0m▀\u001b[38;2;12;12;12;48;2;0;0;0m▀\u001b[38;2;127;127;127;48;2;0;0;0m▀\u001b[38;2;27;27;27;48;2;0;0;0m▀\u001b[38;2;155;155;155;48;2;0;0;0m▀\u001b[38;2;29;29;29;48;2;0;0;0m▀\u001b[38;2;49;49;49;48;2;0;0;0m▀\u001b[38;2;77;77;77;48;2;22;22;22m▀\u001b[38;2;0;0;0;48;2;0;0;0m▀\u001b[38;2;0;0;0;48;2;0;0;0m▀\u001b[38;2;0;0;0;48;2;0;0;0m▀\u001b[38;2;0;0;0;48;2;0;0;0m▀\u001b[38;2;0;0;0;48;2;0;0;0m▀\u001b[38;2;0;0;0;48;2;0;0;0m▀\u001b[38;2;0;0;0;48;2;0;0;0m▀\u001b[38;2;0;0;0;48;2;0;0;0m▀\u001b[38;2;0;0;0;48;2;0;0;0m▀\u001b[38;2;0;0;0;48;2;0;0;0m▀\u001b[38;2;0;0;0;48;2;0;0;0m▀\u001b[38;2;0;0;0;48;2;0;0;0m▀\u001b[38;2;0;0;0;48;2;0;0;0m▀\u001b[38;2;0;0;0;48;2;0;0;0m▀\u001b[38;2;0;0;0;48;2;0;0;0m▀\u001b[38;2;0;0;0;48;2;0;0;0m▀\u001b[38;2;0;0;0;48;2;0;0;0m▀\u001b[38;2;0;0;0;48;2;0;0;0m▀\u001b[38;2;0;0;0;48;2;0;0;0m▀\u001b[0m\n",
       "\u001b[0m\u001b[38;2;0;0;0;48;2;0;0;0m▀\u001b[38;2;0;0;0;48;2;0;0;0m▀\u001b[38;2;0;0;0;48;2;0;0;0m▀\u001b[38;2;0;0;0;48;2;0;0;0m▀\u001b[38;2;0;0;0;48;2;0;0;0m▀\u001b[38;2;0;0;0;48;2;0;0;0m▀\u001b[38;2;0;0;0;48;2;0;0;0m▀\u001b[38;2;0;0;0;48;2;0;0;0m▀\u001b[38;2;0;0;0;48;2;0;0;0m▀\u001b[38;2;0;0;0;48;2;0;0;0m▀\u001b[38;2;0;0;0;48;2;0;0;0m▀\u001b[38;2;0;0;0;48;2;0;0;0m▀\u001b[38;2;0;0;0;48;2;0;0;0m▀\u001b[38;2;0;0;0;48;2;0;0;0m▀\u001b[38;2;0;0;0;48;2;0;0;0m▀\u001b[38;2;4;4;4;48;2;0;0;0m▀\u001b[38;2;21;21;21;48;2;5;5;5m▀\u001b[38;2;0;0;0;48;2;0;0;0m▀\u001b[38;2;67;67;67;48;2;0;0;0m▀\u001b[38;2;0;0;0;48;2;0;0;0m▀\u001b[38;2;74;74;74;48;2;0;0;0m▀\u001b[38;2;54;54;54;48;2;0;0;0m▀\u001b[38;2;122;122;122;48;2;0;0;0m▀\u001b[38;2;65;65;65;48;2;0;0;0m▀\u001b[38;2;157;157;157;48;2;0;0;0m▀\u001b[38;2;106;106;106;48;2;4;4;4m▀\u001b[38;2;103;103;103;48;2;0;0;0m▀\u001b[38;2;64;64;64;48;2;37;37;37m▀\u001b[38;2;51;51;51;48;2;0;0;0m▀\u001b[38;2;54;54;54;48;2;0;0;0m▀\u001b[38;2;3;3;3;48;2;0;0;0m▀\u001b[38;2;4;4;4;48;2;0;0;0m▀\u001b[38;2;11;11;11;48;2;3;3;3m▀\u001b[38;2;0;0;0;48;2;0;0;0m▀\u001b[38;2;53;53;53;48;2;1;1;1m▀\u001b[38;2;0;0;0;48;2;6;6;6m▀\u001b[38;2;48;48;48;48;2;0;0;0m▀\u001b[38;2;30;30;30;48;2;0;0;0m▀\u001b[38;2;0;0;0;48;2;0;0;0m▀\u001b[38;2;0;0;0;48;2;0;0;0m▀\u001b[38;2;0;0;0;48;2;0;0;0m▀\u001b[38;2;0;0;0;48;2;0;0;0m▀\u001b[38;2;0;0;0;48;2;0;0;0m▀\u001b[38;2;0;0;0;48;2;0;0;0m▀\u001b[38;2;0;0;0;48;2;0;0;0m▀\u001b[38;2;0;0;0;48;2;0;0;0m▀\u001b[38;2;0;0;0;48;2;0;0;0m▀\u001b[38;2;0;0;0;48;2;0;0;0m▀\u001b[38;2;0;0;0;48;2;0;0;0m▀\u001b[38;2;0;0;0;48;2;0;0;0m▀\u001b[38;2;0;0;0;48;2;0;0;0m▀\u001b[38;2;0;0;0;48;2;0;0;0m▀\u001b[38;2;0;0;0;48;2;0;0;0m▀\u001b[38;2;0;0;0;48;2;0;0;0m▀\u001b[38;2;0;0;0;48;2;0;0;0m▀\u001b[38;2;0;0;0;48;2;0;0;0m▀\u001b[38;2;0;0;0;48;2;0;0;0m▀\u001b[0m\n",
       "\u001b[0m\u001b[38;2;0;0;0;48;2;0;0;0m▀\u001b[38;2;0;0;0;48;2;0;0;0m▀\u001b[38;2;0;0;0;48;2;0;0;0m▀\u001b[38;2;0;0;0;48;2;0;0;0m▀\u001b[38;2;0;0;0;48;2;0;0;0m▀\u001b[38;2;0;0;0;48;2;0;0;0m▀\u001b[38;2;0;0;0;48;2;0;0;0m▀\u001b[38;2;0;0;0;48;2;0;0;0m▀\u001b[38;2;0;0;0;48;2;0;0;0m▀\u001b[38;2;0;0;0;48;2;0;0;0m▀\u001b[38;2;0;0;0;48;2;0;0;0m▀\u001b[38;2;0;0;0;48;2;0;0;0m▀\u001b[38;2;0;0;0;48;2;0;0;0m▀\u001b[38;2;0;0;0;48;2;0;0;0m▀\u001b[38;2;0;0;0;48;2;0;0;0m▀\u001b[38;2;0;0;0;48;2;0;0;0m▀\u001b[38;2;0;0;0;48;2;0;0;0m▀\u001b[38;2;1;1;1;48;2;0;0;0m▀\u001b[38;2;4;4;4;48;2;1;1;1m▀\u001b[38;2;0;0;0;48;2;1;1;1m▀\u001b[38;2;5;5;5;48;2;0;0;0m▀\u001b[38;2;45;45;45;48;2;0;0;0m▀\u001b[38;2;61;61;61;48;2;10;10;10m▀\u001b[38;2;69;69;69;48;2;0;0;0m▀\u001b[38;2;129;129;129;48;2;0;0;0m▀\u001b[38;2;103;103;103;48;2;17;17;17m▀\u001b[38;2;89;89;89;48;2;0;0;0m▀\u001b[38;2;123;123;123;48;2;49;49;49m▀\u001b[38;2;0;0;0;48;2;0;0;0m▀\u001b[38;2;54;54;54;48;2;0;0;0m▀\u001b[38;2;0;0;0;48;2;0;0;0m▀\u001b[38;2;0;0;0;48;2;0;0;0m▀\u001b[38;2;0;0;0;48;2;0;0;0m▀\u001b[38;2;0;0;0;48;2;0;0;0m▀\u001b[38;2;0;0;0;48;2;0;0;0m▀\u001b[38;2;0;0;0;48;2;0;0;0m▀\u001b[38;2;0;0;0;48;2;0;0;0m▀\u001b[38;2;0;0;0;48;2;0;0;0m▀\u001b[38;2;0;0;0;48;2;0;0;0m▀\u001b[38;2;0;0;0;48;2;0;0;0m▀\u001b[38;2;0;0;0;48;2;0;0;0m▀\u001b[38;2;0;0;0;48;2;0;0;0m▀\u001b[38;2;0;0;0;48;2;0;0;0m▀\u001b[38;2;0;0;0;48;2;0;0;0m▀\u001b[38;2;0;0;0;48;2;0;0;0m▀\u001b[38;2;0;0;0;48;2;0;0;0m▀\u001b[38;2;0;0;0;48;2;0;0;0m▀\u001b[38;2;0;0;0;48;2;0;0;0m▀\u001b[38;2;0;0;0;48;2;0;0;0m▀\u001b[38;2;0;0;0;48;2;0;0;0m▀\u001b[38;2;0;0;0;48;2;0;0;0m▀\u001b[38;2;0;0;0;48;2;0;0;0m▀\u001b[38;2;0;0;0;48;2;0;0;0m▀\u001b[38;2;0;0;0;48;2;0;0;0m▀\u001b[38;2;0;0;0;48;2;0;0;0m▀\u001b[38;2;0;0;0;48;2;0;0;0m▀\u001b[38;2;0;0;0;48;2;0;0;0m▀\u001b[0m\n",
       "\u001b[0m\u001b[38;2;0;0;0;48;2;0;0;0m▀\u001b[38;2;0;0;0;48;2;0;0;0m▀\u001b[38;2;0;0;0;48;2;0;0;0m▀\u001b[38;2;0;0;0;48;2;0;0;0m▀\u001b[38;2;0;0;0;48;2;0;0;0m▀\u001b[38;2;0;0;0;48;2;0;0;0m▀\u001b[38;2;0;0;0;48;2;0;0;0m▀\u001b[38;2;0;0;0;48;2;0;0;0m▀\u001b[38;2;0;0;0;48;2;0;0;0m▀\u001b[38;2;0;0;0;48;2;0;0;0m▀\u001b[38;2;0;0;0;48;2;0;0;0m▀\u001b[38;2;0;0;0;48;2;0;0;0m▀\u001b[38;2;0;0;0;48;2;0;0;0m▀\u001b[38;2;0;0;0;48;2;0;0;0m▀\u001b[38;2;0;0;0;48;2;0;0;0m▀\u001b[38;2;0;0;0;48;2;0;0;0m▀\u001b[38;2;0;0;0;48;2;0;0;0m▀\u001b[38;2;0;0;0;48;2;0;0;0m▀\u001b[38;2;0;0;0;48;2;0;0;0m▀\u001b[38;2;0;0;0;48;2;0;0;0m▀\u001b[38;2;0;0;0;48;2;0;0;0m▀\u001b[38;2;10;10;10;48;2;0;0;0m▀\u001b[38;2;38;38;38;48;2;9;9;9m▀\u001b[38;2;23;23;23;48;2;0;0;0m▀\u001b[38;2;136;136;136;48;2;0;0;0m▀\u001b[38;2;80;80;80;48;2;0;0;0m▀\u001b[38;2;135;135;135;48;2;0;0;0m▀\u001b[38;2;116;116;116;48;2;50;50;50m▀\u001b[38;2;29;29;29;48;2;0;0;0m▀\u001b[38;2;103;103;103;48;2;33;33;33m▀\u001b[38;2;0;0;0;48;2;0;0;0m▀\u001b[38;2;14;14;14;48;2;0;0;0m▀\u001b[38;2;0;0;0;48;2;0;0;0m▀\u001b[38;2;0;0;0;48;2;0;0;0m▀\u001b[38;2;0;0;0;48;2;0;0;0m▀\u001b[38;2;0;0;0;48;2;0;0;0m▀\u001b[38;2;0;0;0;48;2;0;0;0m▀\u001b[38;2;0;0;0;48;2;0;0;0m▀\u001b[38;2;0;0;0;48;2;0;0;0m▀\u001b[38;2;0;0;0;48;2;0;0;0m▀\u001b[38;2;0;0;0;48;2;0;0;0m▀\u001b[38;2;0;0;0;48;2;0;0;0m▀\u001b[38;2;0;0;0;48;2;0;0;0m▀\u001b[38;2;0;0;0;48;2;0;0;0m▀\u001b[38;2;0;0;0;48;2;0;0;0m▀\u001b[38;2;0;0;0;48;2;0;0;0m▀\u001b[38;2;0;0;0;48;2;0;0;0m▀\u001b[38;2;0;0;0;48;2;0;0;0m▀\u001b[38;2;0;0;0;48;2;0;0;0m▀\u001b[38;2;0;0;0;48;2;0;0;0m▀\u001b[38;2;0;0;0;48;2;0;0;0m▀\u001b[38;2;0;0;0;48;2;0;0;0m▀\u001b[38;2;0;0;0;48;2;0;0;0m▀\u001b[38;2;0;0;0;48;2;0;0;0m▀\u001b[38;2;0;0;0;48;2;0;0;0m▀\u001b[38;2;0;0;0;48;2;0;0;0m▀\u001b[38;2;0;0;0;48;2;0;0;0m▀\u001b[0m\n",
       "\u001b[0m\u001b[38;2;0;0;0;48;2;0;0;0m▀\u001b[38;2;0;0;0;48;2;0;0;0m▀\u001b[38;2;0;0;0;48;2;0;0;0m▀\u001b[38;2;0;0;0;48;2;0;0;0m▀\u001b[38;2;0;0;0;48;2;0;0;0m▀\u001b[38;2;0;0;0;48;2;0;0;0m▀\u001b[38;2;0;0;0;48;2;0;0;0m▀\u001b[38;2;0;0;0;48;2;0;0;0m▀\u001b[38;2;0;0;0;48;2;0;0;0m▀\u001b[38;2;0;0;0;48;2;0;0;0m▀\u001b[38;2;0;0;0;48;2;0;0;0m▀\u001b[38;2;0;0;0;48;2;0;0;0m▀\u001b[38;2;0;0;0;48;2;0;0;0m▀\u001b[38;2;0;0;0;48;2;0;0;0m▀\u001b[38;2;0;0;0;48;2;0;0;0m▀\u001b[38;2;0;0;0;48;2;0;0;0m▀\u001b[38;2;0;0;0;48;2;0;0;0m▀\u001b[38;2;0;0;0;48;2;0;0;0m▀\u001b[38;2;0;0;0;48;2;0;0;0m▀\u001b[38;2;0;0;0;48;2;0;0;0m▀\u001b[38;2;0;0;0;48;2;0;0;0m▀\u001b[38;2;1;1;1;48;2;0;0;0m▀\u001b[38;2;3;3;3;48;2;1;1;1m▀\u001b[38;2;15;15;15;48;2;0;0;0m▀\u001b[38;2;58;58;58;48;2;10;10;10m▀\u001b[38;2;30;30;30;48;2;0;0;0m▀\u001b[38;2;155;155;155;48;2;0;0;0m▀\u001b[38;2;95;95;95;48;2;0;0;0m▀\u001b[38;2;91;91;91;48;2;0;0;0m▀\u001b[38;2;175;175;175;48;2;36;36;36m▀\u001b[38;2;9;9;9;48;2;0;0;0m▀\u001b[38;2;126;126;126;48;2;17;17;17m▀\u001b[38;2;0;0;0;48;2;0;0;0m▀\u001b[38;2;59;59;59;48;2;25;25;25m▀\u001b[38;2;0;0;0;48;2;0;0;0m▀\u001b[38;2;21;21;21;48;2;0;0;0m▀\u001b[38;2;0;0;0;48;2;0;0;0m▀\u001b[38;2;0;0;0;48;2;0;0;0m▀\u001b[38;2;0;0;0;48;2;0;0;0m▀\u001b[38;2;0;0;0;48;2;0;0;0m▀\u001b[38;2;0;0;0;48;2;0;0;0m▀\u001b[38;2;0;0;0;48;2;0;0;0m▀\u001b[38;2;0;0;0;48;2;0;0;0m▀\u001b[38;2;0;0;0;48;2;0;0;0m▀\u001b[38;2;0;0;0;48;2;0;0;0m▀\u001b[38;2;0;0;0;48;2;0;0;0m▀\u001b[38;2;0;0;0;48;2;0;0;0m▀\u001b[38;2;0;0;0;48;2;0;0;0m▀\u001b[38;2;0;0;0;48;2;0;0;0m▀\u001b[38;2;0;0;0;48;2;0;0;0m▀\u001b[38;2;0;0;0;48;2;0;0;0m▀\u001b[38;2;0;0;0;48;2;0;0;0m▀\u001b[38;2;0;0;0;48;2;0;0;0m▀\u001b[38;2;0;0;0;48;2;0;0;0m▀\u001b[38;2;0;0;0;48;2;0;0;0m▀\u001b[38;2;0;0;0;48;2;0;0;0m▀\u001b[38;2;0;0;0;48;2;0;0;0m▀\u001b[0m\n",
       "\u001b[0m\u001b[38;2;0;0;0;48;2;0;0;0m▀\u001b[38;2;0;0;0;48;2;0;0;0m▀\u001b[38;2;0;0;0;48;2;0;0;0m▀\u001b[38;2;0;0;0;48;2;0;0;0m▀\u001b[38;2;0;0;0;48;2;0;0;0m▀\u001b[38;2;0;0;0;48;2;0;0;0m▀\u001b[38;2;0;0;0;48;2;0;0;0m▀\u001b[38;2;0;0;0;48;2;0;0;0m▀\u001b[38;2;0;0;0;48;2;0;0;0m▀\u001b[38;2;0;0;0;48;2;0;0;0m▀\u001b[38;2;0;0;0;48;2;0;0;0m▀\u001b[38;2;0;0;0;48;2;0;0;0m▀\u001b[38;2;0;0;0;48;2;0;0;0m▀\u001b[38;2;0;0;0;48;2;0;0;0m▀\u001b[38;2;0;0;0;48;2;0;0;0m▀\u001b[38;2;0;0;0;48;2;0;0;0m▀\u001b[38;2;0;0;0;48;2;0;0;0m▀\u001b[38;2;0;0;0;48;2;0;0;0m▀\u001b[38;2;0;0;0;48;2;0;0;0m▀\u001b[38;2;0;0;0;48;2;0;0;0m▀\u001b[38;2;0;0;0;48;2;0;0;0m▀\u001b[38;2;0;0;0;48;2;0;0;0m▀\u001b[38;2;0;0;0;48;2;0;0;0m▀\u001b[38;2;2;2;2;48;2;0;0;0m▀\u001b[38;2;9;9;9;48;2;2;2;2m▀\u001b[38;2;22;22;22;48;2;0;0;0m▀\u001b[38;2;85;85;85;48;2;9;9;9m▀\u001b[38;2;31;31;31;48;2;0;0;0m▀\u001b[38;2;156;156;156;48;2;0;0;0m▀\u001b[38;2;133;133;133;48;2;0;0;0m▀\u001b[38;2;110;110;110;48;2;0;0;0m▀\u001b[38;2;179;179;179;48;2;14;14;14m▀\u001b[38;2;75;75;75;48;2;0;0;0m▀\u001b[38;2;145;145;145;48;2;28;28;28m▀\u001b[38;2;10;10;10;48;2;0;0;0m▀\u001b[38;2;107;107;107;48;2;36;36;36m▀\u001b[38;2;0;0;0;48;2;0;0;0m▀\u001b[38;2;30;30;30;48;2;4;4;4m▀\u001b[38;2;0;0;0;48;2;0;0;0m▀\u001b[38;2;5;5;5;48;2;0;0;0m▀\u001b[38;2;0;0;0;48;2;0;0;0m▀\u001b[38;2;0;0;0;48;2;0;0;0m▀\u001b[38;2;0;0;0;48;2;0;0;0m▀\u001b[38;2;0;0;0;48;2;0;0;0m▀\u001b[38;2;0;0;0;48;2;0;0;0m▀\u001b[38;2;0;0;0;48;2;0;0;0m▀\u001b[38;2;0;0;0;48;2;0;0;0m▀\u001b[38;2;0;0;0;48;2;0;0;0m▀\u001b[38;2;0;0;0;48;2;0;0;0m▀\u001b[38;2;0;0;0;48;2;0;0;0m▀\u001b[38;2;0;0;0;48;2;0;0;0m▀\u001b[38;2;0;0;0;48;2;0;0;0m▀\u001b[38;2;0;0;0;48;2;0;0;0m▀\u001b[38;2;0;0;0;48;2;0;0;0m▀\u001b[38;2;0;0;0;48;2;0;0;0m▀\u001b[38;2;0;0;0;48;2;0;0;0m▀\u001b[38;2;0;0;0;48;2;0;0;0m▀\u001b[0m\n",
       "\u001b[0m\u001b[38;2;0;0;0;48;2;0;0;0m▀\u001b[38;2;0;0;0;48;2;0;0;0m▀\u001b[38;2;0;0;0;48;2;0;0;0m▀\u001b[38;2;0;0;0;48;2;0;0;0m▀\u001b[38;2;0;0;0;48;2;0;0;0m▀\u001b[38;2;0;0;0;48;2;0;0;0m▀\u001b[38;2;0;0;0;48;2;0;0;0m▀\u001b[38;2;0;0;0;48;2;0;0;0m▀\u001b[38;2;0;0;0;48;2;0;0;0m▀\u001b[38;2;0;0;0;48;2;0;0;0m▀\u001b[38;2;0;0;0;48;2;0;0;0m▀\u001b[38;2;0;0;0;48;2;0;0;0m▀\u001b[38;2;0;0;0;48;2;0;0;0m▀\u001b[38;2;0;0;0;48;2;0;0;0m▀\u001b[38;2;0;0;0;48;2;0;0;0m▀\u001b[38;2;0;0;0;48;2;0;0;0m▀\u001b[38;2;0;0;0;48;2;0;0;0m▀\u001b[38;2;0;0;0;48;2;0;0;0m▀\u001b[38;2;0;0;0;48;2;0;0;0m▀\u001b[38;2;0;0;0;48;2;0;0;0m▀\u001b[38;2;0;0;0;48;2;0;0;0m▀\u001b[38;2;0;0;0;48;2;0;0;0m▀\u001b[38;2;0;0;0;48;2;0;0;0m▀\u001b[38;2;0;0;0;48;2;0;0;0m▀\u001b[38;2;0;0;0;48;2;0;0;0m▀\u001b[38;2;4;4;4;48;2;0;0;0m▀\u001b[38;2;21;21;21;48;2;5;5;5m▀\u001b[38;2;0;0;0;48;2;0;0;0m▀\u001b[38;2;94;94;94;48;2;0;0;0m▀\u001b[38;2;18;18;18;48;2;0;0;0m▀\u001b[38;2;161;161;161;48;2;0;0;0m▀\u001b[38;2;108;108;108;48;2;0;0;0m▀\u001b[38;2;152;152;152;48;2;0;0;0m▀\u001b[38;2;149;149;149;48;2;0;0;0m▀\u001b[38;2;106;106;106;48;2;0;0;0m▀\u001b[38;2;169;169;169;48;2;38;38;38m▀\u001b[38;2;25;25;25;48;2;0;0;0m▀\u001b[38;2;111;111;111;48;2;32;32;32m▀\u001b[38;2;0;0;0;48;2;0;0;0m▀\u001b[38;2;41;41;41;48;2;20;20;20m▀\u001b[38;2;0;0;0;48;2;0;0;0m▀\u001b[38;2;5;5;5;48;2;0;0;0m▀\u001b[38;2;0;0;0;48;2;0;0;0m▀\u001b[38;2;0;0;0;48;2;0;0;0m▀\u001b[38;2;0;0;0;48;2;0;0;0m▀\u001b[38;2;0;0;0;48;2;0;0;0m▀\u001b[38;2;0;0;0;48;2;0;0;0m▀\u001b[38;2;0;0;0;48;2;0;0;0m▀\u001b[38;2;0;0;0;48;2;0;0;0m▀\u001b[38;2;0;0;0;48;2;0;0;0m▀\u001b[38;2;0;0;0;48;2;0;0;0m▀\u001b[38;2;0;0;0;48;2;0;0;0m▀\u001b[38;2;0;0;0;48;2;0;0;0m▀\u001b[38;2;0;0;0;48;2;0;0;0m▀\u001b[38;2;0;0;0;48;2;0;0;0m▀\u001b[38;2;0;0;0;48;2;0;0;0m▀\u001b[38;2;0;0;0;48;2;0;0;0m▀\u001b[0m\n",
       "\u001b[0m\u001b[38;2;0;0;0;48;2;0;0;0m▀\u001b[38;2;0;0;0;48;2;0;0;0m▀\u001b[38;2;0;0;0;48;2;0;0;0m▀\u001b[38;2;0;0;0;48;2;0;0;0m▀\u001b[38;2;0;0;0;48;2;0;0;0m▀\u001b[38;2;0;0;0;48;2;0;0;0m▀\u001b[38;2;0;0;0;48;2;0;0;0m▀\u001b[38;2;0;0;0;48;2;0;0;0m▀\u001b[38;2;0;0;0;48;2;0;0;0m▀\u001b[38;2;0;0;0;48;2;0;0;0m▀\u001b[38;2;0;0;0;48;2;0;0;0m▀\u001b[38;2;0;0;0;48;2;0;0;0m▀\u001b[38;2;0;0;0;48;2;0;0;0m▀\u001b[38;2;0;0;0;48;2;0;0;0m▀\u001b[38;2;0;0;0;48;2;0;0;0m▀\u001b[38;2;0;0;0;48;2;0;0;0m▀\u001b[38;2;0;0;0;48;2;0;0;0m▀\u001b[38;2;0;0;0;48;2;0;0;0m▀\u001b[38;2;0;0;0;48;2;0;0;0m▀\u001b[38;2;0;0;0;48;2;0;0;0m▀\u001b[38;2;0;0;0;48;2;0;0;0m▀\u001b[38;2;0;0;0;48;2;0;0;0m▀\u001b[38;2;0;0;0;48;2;0;0;0m▀\u001b[38;2;0;0;0;48;2;0;0;0m▀\u001b[38;2;0;0;0;48;2;0;0;0m▀\u001b[38;2;0;0;0;48;2;0;0;0m▀\u001b[38;2;0;0;0;48;2;0;0;0m▀\u001b[38;2;2;2;2;48;2;0;0;0m▀\u001b[38;2;12;12;12;48;2;3;3;3m▀\u001b[38;2;0;0;0;48;2;0;0;0m▀\u001b[38;2;64;64;64;48;2;3;3;3m▀\u001b[38;2;0;0;0;48;2;0;0;0m▀\u001b[38;2;134;134;134;48;2;0;0;0m▀\u001b[38;2;67;67;67;48;2;0;0;0m▀\u001b[38;2;167;167;167;48;2;0;0;0m▀\u001b[38;2;132;132;132;48;2;5;5;5m▀\u001b[38;2;114;114;114;48;2;0;0;0m▀\u001b[38;2;169;169;169;48;2;4;4;4m▀\u001b[38;2;41;41;41;48;2;0;0;0m▀\u001b[38;2;119;119;119;48;2;37;37;37m▀\u001b[38;2;0;0;0;48;2;0;0;0m▀\u001b[38;2;41;41;41;48;2;2;2;2m▀\u001b[38;2;0;0;0;48;2;0;0;0m▀\u001b[38;2;0;0;0;48;2;0;0;0m▀\u001b[38;2;0;0;0;48;2;0;0;0m▀\u001b[38;2;0;0;0;48;2;0;0;0m▀\u001b[38;2;0;0;0;48;2;0;0;0m▀\u001b[38;2;0;0;0;48;2;0;0;0m▀\u001b[38;2;0;0;0;48;2;0;0;0m▀\u001b[38;2;0;0;0;48;2;0;0;0m▀\u001b[38;2;0;0;0;48;2;0;0;0m▀\u001b[38;2;0;0;0;48;2;0;0;0m▀\u001b[38;2;0;0;0;48;2;0;0;0m▀\u001b[38;2;0;0;0;48;2;0;0;0m▀\u001b[38;2;0;0;0;48;2;0;0;0m▀\u001b[38;2;0;0;0;48;2;0;0;0m▀\u001b[38;2;0;0;0;48;2;0;0;0m▀\u001b[0m\n",
       "\u001b[0m\u001b[38;2;0;0;0;48;2;0;0;0m▀\u001b[38;2;0;0;0;48;2;0;0;0m▀\u001b[38;2;0;0;0;48;2;0;0;0m▀\u001b[38;2;0;0;0;48;2;0;0;0m▀\u001b[38;2;0;0;0;48;2;0;0;0m▀\u001b[38;2;0;0;0;48;2;0;0;0m▀\u001b[38;2;0;0;0;48;2;0;0;0m▀\u001b[38;2;0;0;0;48;2;0;0;0m▀\u001b[38;2;0;0;0;48;2;0;0;0m▀\u001b[38;2;0;0;0;48;2;0;0;0m▀\u001b[38;2;0;0;0;48;2;0;0;0m▀\u001b[38;2;0;0;0;48;2;0;0;0m▀\u001b[38;2;0;0;0;48;2;0;0;0m▀\u001b[38;2;0;0;0;48;2;0;0;0m▀\u001b[38;2;0;0;0;48;2;0;0;0m▀\u001b[38;2;0;0;0;48;2;0;0;0m▀\u001b[38;2;0;0;0;48;2;0;0;0m▀\u001b[38;2;0;0;0;48;2;0;0;0m▀\u001b[38;2;0;0;0;48;2;0;0;0m▀\u001b[38;2;0;0;0;48;2;0;0;0m▀\u001b[38;2;0;0;0;48;2;0;0;0m▀\u001b[38;2;0;0;0;48;2;0;0;0m▀\u001b[38;2;0;0;0;48;2;0;0;0m▀\u001b[38;2;0;0;0;48;2;0;0;0m▀\u001b[38;2;0;0;0;48;2;0;0;0m▀\u001b[38;2;0;0;0;48;2;0;0;0m▀\u001b[38;2;0;0;0;48;2;0;0;0m▀\u001b[38;2;0;0;0;48;2;0;0;0m▀\u001b[38;2;0;0;0;48;2;0;0;0m▀\u001b[38;2;1;1;1;48;2;1;1;1m▀\u001b[38;2;4;4;4;48;2;0;0;0m▀\u001b[38;2;0;0;0;48;2;0;0;0m▀\u001b[38;2;29;29;29;48;2;0;0;0m▀\u001b[38;2;51;51;51;48;2;0;0;0m▀\u001b[38;2;132;132;132;48;2;0;0;0m▀\u001b[38;2;88;88;88;48;2;0;0;0m▀\u001b[38;2;141;141;141;48;2;0;0;0m▀\u001b[38;2;163;163;163;48;2;0;0;0m▀\u001b[38;2;123;123;123;48;2;0;0;0m▀\u001b[38;2;126;126;126;48;2;25;25;25m▀\u001b[38;2;27;27;27;48;2;0;0;0m▀\u001b[38;2;101;101;101;48;2;0;0;0m▀\u001b[38;2;0;0;0;48;2;7;7;7m▀\u001b[38;2;12;12;12;48;2;13;13;13m▀\u001b[38;2;0;0;0;48;2;0;0;0m▀\u001b[38;2;0;0;0;48;2;0;0;0m▀\u001b[38;2;0;0;0;48;2;0;0;0m▀\u001b[38;2;0;0;0;48;2;0;0;0m▀\u001b[38;2;0;0;0;48;2;0;0;0m▀\u001b[38;2;0;0;0;48;2;0;0;0m▀\u001b[38;2;0;0;0;48;2;0;0;0m▀\u001b[38;2;0;0;0;48;2;0;0;0m▀\u001b[38;2;0;0;0;48;2;0;0;0m▀\u001b[38;2;0;0;0;48;2;0;0;0m▀\u001b[38;2;0;0;0;48;2;0;0;0m▀\u001b[38;2;0;0;0;48;2;0;0;0m▀\u001b[38;2;0;0;0;48;2;0;0;0m▀\u001b[0m\n",
       "\u001b[0m\u001b[38;2;0;0;0;48;2;0;0;0m▀\u001b[38;2;0;0;0;48;2;0;0;0m▀\u001b[38;2;0;0;0;48;2;0;0;0m▀\u001b[38;2;0;0;0;48;2;0;0;0m▀\u001b[38;2;0;0;0;48;2;0;0;0m▀\u001b[38;2;0;0;0;48;2;0;0;0m▀\u001b[38;2;0;0;0;48;2;0;0;0m▀\u001b[38;2;0;0;0;48;2;0;0;0m▀\u001b[38;2;0;0;0;48;2;0;0;0m▀\u001b[38;2;0;0;0;48;2;0;0;0m▀\u001b[38;2;0;0;0;48;2;0;0;0m▀\u001b[38;2;0;0;0;48;2;0;0;0m▀\u001b[38;2;0;0;0;48;2;0;0;0m▀\u001b[38;2;0;0;0;48;2;0;0;0m▀\u001b[38;2;0;0;0;48;2;0;0;0m▀\u001b[38;2;0;0;0;48;2;0;0;0m▀\u001b[38;2;0;0;0;48;2;0;0;0m▀\u001b[38;2;0;0;0;48;2;0;0;0m▀\u001b[38;2;0;0;0;48;2;0;0;0m▀\u001b[38;2;0;0;0;48;2;0;0;0m▀\u001b[38;2;0;0;0;48;2;0;0;0m▀\u001b[38;2;0;0;0;48;2;0;0;0m▀\u001b[38;2;0;0;0;48;2;0;0;0m▀\u001b[38;2;0;0;0;48;2;0;0;0m▀\u001b[38;2;0;0;0;48;2;0;0;0m▀\u001b[38;2;0;0;0;48;2;0;0;0m▀\u001b[38;2;0;0;0;48;2;0;0;0m▀\u001b[38;2;11;11;11;48;2;7;7;7m▀\u001b[38;2;7;7;7;48;2;0;0;0m▀\u001b[38;2;44;44;44;48;2;0;0;0m▀\u001b[38;2;12;12;12;48;2;0;0;0m▀\u001b[38;2;88;88;88;48;2;0;0;0m▀\u001b[38;2;7;7;7;48;2;0;0;0m▀\u001b[38;2;148;148;148;48;2;0;0;0m▀\u001b[38;2;73;73;73;48;2;0;0;0m▀\u001b[38;2;106;106;106;48;2;0;0;0m▀\u001b[38;2;140;140;140;48;2;0;0;0m▀\u001b[38;2;156;156;156;48;2;0;0;0m▀\u001b[38;2;133;133;133;48;2;0;0;0m▀\u001b[38;2;85;85;85;48;2;25;25;25m▀\u001b[38;2;60;60;60;48;2;0;0;0m▀\u001b[38;2;71;71;71;48;2;0;0;0m▀\u001b[38;2;19;19;19;48;2;0;0;0m▀\u001b[38;2;13;13;13;48;2;0;0;0m▀\u001b[38;2;0;0;0;48;2;0;0;0m▀\u001b[38;2;0;0;0;48;2;0;0;0m▀\u001b[38;2;0;0;0;48;2;0;0;0m▀\u001b[38;2;0;0;0;48;2;0;0;0m▀\u001b[38;2;0;0;0;48;2;0;0;0m▀\u001b[38;2;0;0;0;48;2;0;0;0m▀\u001b[38;2;0;0;0;48;2;0;0;0m▀\u001b[38;2;0;0;0;48;2;0;0;0m▀\u001b[38;2;0;0;0;48;2;0;0;0m▀\u001b[38;2;0;0;0;48;2;0;0;0m▀\u001b[38;2;0;0;0;48;2;0;0;0m▀\u001b[38;2;0;0;0;48;2;0;0;0m▀\u001b[38;2;0;0;0;48;2;0;0;0m▀\u001b[0m\n",
       "\u001b[0m\u001b[38;2;0;0;0;48;2;0;0;0m▀\u001b[38;2;0;0;0;48;2;0;0;0m▀\u001b[38;2;0;0;0;48;2;0;0;0m▀\u001b[38;2;0;0;0;48;2;0;0;0m▀\u001b[38;2;0;0;0;48;2;0;0;0m▀\u001b[38;2;0;0;0;48;2;0;0;0m▀\u001b[38;2;0;0;0;48;2;0;0;0m▀\u001b[38;2;0;0;0;48;2;0;0;0m▀\u001b[38;2;0;0;0;48;2;0;0;0m▀\u001b[38;2;0;0;0;48;2;0;0;0m▀\u001b[38;2;0;0;0;48;2;0;0;0m▀\u001b[38;2;0;0;0;48;2;0;0;0m▀\u001b[38;2;0;0;0;48;2;0;0;0m▀\u001b[38;2;0;0;0;48;2;0;0;0m▀\u001b[38;2;0;0;0;48;2;0;0;0m▀\u001b[38;2;0;0;0;48;2;0;0;0m▀\u001b[38;2;0;0;0;48;2;0;0;0m▀\u001b[38;2;0;0;0;48;2;0;0;0m▀\u001b[38;2;0;0;0;48;2;0;0;0m▀\u001b[38;2;0;0;0;48;2;0;0;0m▀\u001b[38;2;0;0;0;48;2;0;0;0m▀\u001b[38;2;0;0;0;48;2;0;0;0m▀\u001b[38;2;0;0;0;48;2;0;0;0m▀\u001b[38;2;10;10;10;48;2;4;4;4m▀\u001b[38;2;6;6;6;48;2;0;0;0m▀\u001b[38;2;47;47;47;48;2;0;0;0m▀\u001b[38;2;16;16;16;48;2;0;0;0m▀\u001b[38;2;106;106;106;48;2;0;0;0m▀\u001b[38;2;23;23;23;48;2;0;0;0m▀\u001b[38;2;145;145;145;48;2;0;0;0m▀\u001b[38;2;49;49;49;48;2;0;0;0m▀\u001b[38;2;154;154;154;48;2;0;0;0m▀\u001b[38;2;85;85;85;48;2;0;0;0m▀\u001b[38;2;164;164;164;48;2;0;0;0m▀\u001b[38;2;119;119;119;48;2;0;0;0m▀\u001b[38;2;154;154;154;48;2;0;0;0m▀\u001b[38;2;140;140;140;48;2;0;0;0m▀\u001b[38;2;147;147;147;48;2;0;0;0m▀\u001b[38;2;119;119;119;48;2;0;0;0m▀\u001b[38;2;87;87;87;48;2;25;25;25m▀\u001b[38;2;35;35;35;48;2;0;0;0m▀\u001b[38;2;75;75;75;48;2;30;30;30m▀\u001b[38;2;1;1;1;48;2;0;0;0m▀\u001b[38;2;0;0;0;48;2;0;0;0m▀\u001b[38;2;0;0;0;48;2;0;0;0m▀\u001b[38;2;0;0;0;48;2;0;0;0m▀\u001b[38;2;0;0;0;48;2;0;0;0m▀\u001b[38;2;0;0;0;48;2;0;0;0m▀\u001b[38;2;0;0;0;48;2;0;0;0m▀\u001b[38;2;0;0;0;48;2;0;0;0m▀\u001b[38;2;0;0;0;48;2;0;0;0m▀\u001b[38;2;0;0;0;48;2;0;0;0m▀\u001b[38;2;0;0;0;48;2;0;0;0m▀\u001b[38;2;0;0;0;48;2;0;0;0m▀\u001b[38;2;0;0;0;48;2;0;0;0m▀\u001b[38;2;0;0;0;48;2;0;0;0m▀\u001b[38;2;0;0;0;48;2;0;0;0m▀\u001b[0m\n",
       "\u001b[0m\u001b[38;2;0;0;0;48;2;0;0;0m▀\u001b[38;2;0;0;0;48;2;0;0;0m▀\u001b[38;2;0;0;0;48;2;0;0;0m▀\u001b[38;2;0;0;0;48;2;0;0;0m▀\u001b[38;2;0;0;0;48;2;0;0;0m▀\u001b[38;2;0;0;0;48;2;0;0;0m▀\u001b[38;2;0;0;0;48;2;0;0;0m▀\u001b[38;2;0;0;0;48;2;0;0;0m▀\u001b[38;2;0;0;0;48;2;0;0;0m▀\u001b[38;2;0;0;0;48;2;0;0;0m▀\u001b[38;2;0;0;0;48;2;0;0;0m▀\u001b[38;2;0;0;0;48;2;0;0;0m▀\u001b[38;2;0;0;0;48;2;0;0;0m▀\u001b[38;2;0;0;0;48;2;0;0;0m▀\u001b[38;2;0;0;0;48;2;0;0;0m▀\u001b[38;2;0;0;0;48;2;0;0;0m▀\u001b[38;2;0;0;0;48;2;0;0;0m▀\u001b[38;2;0;0;0;48;2;1;1;1m▀\u001b[38;2;0;0;0;48;2;0;0;0m▀\u001b[38;2;6;6;6;48;2;0;0;0m▀\u001b[38;2;4;4;4;48;2;0;0;0m▀\u001b[38;2;35;35;35;48;2;7;7;7m▀\u001b[38;2;14;14;14;48;2;0;0;0m▀\u001b[38;2;91;91;91;48;2;0;0;0m▀\u001b[38;2;25;25;25;48;2;0;0;0m▀\u001b[38;2;139;139;139;48;2;0;0;0m▀\u001b[38;2;53;53;53;48;2;0;0;0m▀\u001b[38;2;149;149;149;48;2;0;0;0m▀\u001b[38;2;102;102;102;48;2;0;0;0m▀\u001b[38;2;154;154;154;48;2;0;0;0m▀\u001b[38;2;133;133;133;48;2;0;0;0m▀\u001b[38;2;163;163;163;48;2;0;0;0m▀\u001b[38;2;141;141;141;48;2;0;0;0m▀\u001b[38;2;155;155;155;48;2;0;0;0m▀\u001b[38;2;133;133;133;48;2;0;0;0m▀\u001b[38;2;111;111;111;48;2;0;0;0m▀\u001b[38;2;122;122;122;48;2;0;0;0m▀\u001b[38;2;47;47;47;48;2;19;19;19m▀\u001b[38;2;111;111;111;48;2;0;0;0m▀\u001b[38;2;12;12;12;48;2;15;15;15m▀\u001b[38;2;56;56;56;48;2;0;0;0m▀\u001b[38;2;36;36;36;48;2;0;0;0m▀\u001b[38;2;0;0;0;48;2;0;0;0m▀\u001b[38;2;0;0;0;48;2;0;0;0m▀\u001b[38;2;0;0;0;48;2;0;0;0m▀\u001b[38;2;0;0;0;48;2;0;0;0m▀\u001b[38;2;0;0;0;48;2;0;0;0m▀\u001b[38;2;0;0;0;48;2;0;0;0m▀\u001b[38;2;0;0;0;48;2;0;0;0m▀\u001b[38;2;0;0;0;48;2;0;0;0m▀\u001b[38;2;0;0;0;48;2;0;0;0m▀\u001b[38;2;0;0;0;48;2;0;0;0m▀\u001b[38;2;0;0;0;48;2;0;0;0m▀\u001b[38;2;0;0;0;48;2;0;0;0m▀\u001b[38;2;0;0;0;48;2;0;0;0m▀\u001b[38;2;0;0;0;48;2;0;0;0m▀\u001b[38;2;0;0;0;48;2;0;0;0m▀\u001b[0m\n",
       "\u001b[0m\u001b[38;2;0;0;0;48;2;0;0;0m▀\u001b[38;2;0;0;0;48;2;0;0;0m▀\u001b[38;2;0;0;0;48;2;0;0;0m▀\u001b[38;2;0;0;0;48;2;0;0;0m▀\u001b[38;2;0;0;0;48;2;0;0;0m▀\u001b[38;2;0;0;0;48;2;0;0;0m▀\u001b[38;2;0;0;0;48;2;0;0;0m▀\u001b[38;2;0;0;0;48;2;0;0;0m▀\u001b[38;2;0;0;0;48;2;0;0;0m▀\u001b[38;2;0;0;0;48;2;0;0;0m▀\u001b[38;2;0;0;0;48;2;0;0;0m▀\u001b[38;2;0;0;0;48;2;0;0;0m▀\u001b[38;2;0;0;0;48;2;0;0;0m▀\u001b[38;2;0;0;0;48;2;0;0;0m▀\u001b[38;2;0;0;0;48;2;0;0;0m▀\u001b[38;2;6;6;6;48;2;20;20;20m▀\u001b[38;2;4;4;4;48;2;0;0;0m▀\u001b[38;2;22;22;22;48;2;0;0;0m▀\u001b[38;2;6;6;6;48;2;0;0;0m▀\u001b[38;2;76;76;76;48;2;0;0;0m▀\u001b[38;2;28;28;28;48;2;0;0;0m▀\u001b[38;2;130;130;130;48;2;0;0;0m▀\u001b[38;2;41;41;41;48;2;0;0;0m▀\u001b[38;2;153;153;153;48;2;0;0;0m▀\u001b[38;2;90;90;90;48;2;0;0;0m▀\u001b[38;2;150;150;150;48;2;0;0;0m▀\u001b[38;2;131;131;131;48;2;0;0;0m▀\u001b[38;2;162;162;162;48;2;0;0;0m▀\u001b[38;2;141;141;141;48;2;0;0;0m▀\u001b[38;2;154;154;154;48;2;0;0;0m▀\u001b[38;2;132;132;132;48;2;0;0;0m▀\u001b[38;2;111;111;111;48;2;0;0;0m▀\u001b[38;2;123;123;123;48;2;0;0;0m▀\u001b[38;2;47;47;47;48;2;14;14;14m▀\u001b[38;2;117;117;117;48;2;0;0;0m▀\u001b[38;2;12;12;12;48;2;7;7;7m▀\u001b[38;2;82;82;82;48;2;0;0;0m▀\u001b[38;2;18;18;18;48;2;0;0;0m▀\u001b[38;2;24;24;24;48;2;0;0;0m▀\u001b[38;2;15;15;15;48;2;0;0;0m▀\u001b[38;2;0;0;0;48;2;0;0;0m▀\u001b[38;2;0;0;0;48;2;0;0;0m▀\u001b[38;2;0;0;0;48;2;0;0;0m▀\u001b[38;2;0;0;0;48;2;0;0;0m▀\u001b[38;2;0;0;0;48;2;0;0;0m▀\u001b[38;2;0;0;0;48;2;0;0;0m▀\u001b[38;2;0;0;0;48;2;0;0;0m▀\u001b[38;2;0;0;0;48;2;0;0;0m▀\u001b[38;2;0;0;0;48;2;0;0;0m▀\u001b[38;2;0;0;0;48;2;0;0;0m▀\u001b[38;2;0;0;0;48;2;0;0;0m▀\u001b[38;2;0;0;0;48;2;0;0;0m▀\u001b[38;2;0;0;0;48;2;0;0;0m▀\u001b[38;2;0;0;0;48;2;0;0;0m▀\u001b[38;2;0;0;0;48;2;0;0;0m▀\u001b[38;2;0;0;0;48;2;0;0;0m▀\u001b[38;2;0;0;0;48;2;0;0;0m▀\u001b[0m\n",
       "\u001b[0m\u001b[38;2;0;0;0;48;2;0;0;0m▀\u001b[38;2;0;0;0;48;2;0;0;0m▀\u001b[38;2;0;0;0;48;2;0;0;0m▀\u001b[38;2;0;0;0;48;2;0;0;0m▀\u001b[38;2;0;0;0;48;2;0;0;0m▀\u001b[38;2;0;0;0;48;2;0;0;0m▀\u001b[38;2;0;0;0;48;2;0;0;0m▀\u001b[38;2;0;0;0;48;2;0;0;0m▀\u001b[38;2;0;0;0;48;2;0;0;0m▀\u001b[38;2;0;0;0;48;2;2;2;2m▀\u001b[38;2;0;0;0;48;2;0;0;0m▀\u001b[38;2;4;4;4;48;2;12;12;12m▀\u001b[38;2;3;3;3;48;2;0;0;0m▀\u001b[38;2;47;47;47;48;2;0;0;0m▀\u001b[38;2;23;23;23;48;2;0;0;0m▀\u001b[38;2;104;104;104;48;2;0;0;0m▀\u001b[38;2;12;12;12;48;2;0;0;0m▀\u001b[38;2;150;150;150;48;2;0;0;0m▀\u001b[38;2;27;27;27;48;2;0;0;0m▀\u001b[38;2;168;168;168;48;2;0;0;0m▀\u001b[38;2;73;73;73;48;2;0;0;0m▀\u001b[38;2;143;143;143;48;2;0;0;0m▀\u001b[38;2;129;129;129;48;2;0;0;0m▀\u001b[38;2;160;160;160;48;2;0;0;0m▀\u001b[38;2;141;141;141;48;2;0;0;0m▀\u001b[38;2;154;154;154;48;2;0;0;0m▀\u001b[38;2;132;132;132;48;2;0;0;0m▀\u001b[38;2;110;110;110;48;2;0;0;0m▀\u001b[38;2;124;124;124;48;2;0;0;0m▀\u001b[38;2;48;48;48;48;2;13;13;13m▀\u001b[38;2;117;117;117;48;2;0;0;0m▀\u001b[38;2;15;15;15;48;2;6;6;6m▀\u001b[38;2;81;81;81;48;2;0;0;0m▀\u001b[38;2;18;18;18;48;2;0;0;0m▀\u001b[38;2;26;26;26;48;2;0;0;0m▀\u001b[38;2;15;15;15;48;2;0;0;0m▀\u001b[38;2;1;1;1;48;2;0;0;0m▀\u001b[38;2;0;0;0;48;2;0;0;0m▀\u001b[38;2;0;0;0;48;2;0;0;0m▀\u001b[38;2;0;0;0;48;2;0;0;0m▀\u001b[38;2;0;0;0;48;2;0;0;0m▀\u001b[38;2;0;0;0;48;2;0;0;0m▀\u001b[38;2;0;0;0;48;2;0;0;0m▀\u001b[38;2;0;0;0;48;2;0;0;0m▀\u001b[38;2;0;0;0;48;2;0;0;0m▀\u001b[38;2;0;0;0;48;2;0;0;0m▀\u001b[38;2;0;0;0;48;2;0;0;0m▀\u001b[38;2;0;0;0;48;2;0;0;0m▀\u001b[38;2;0;0;0;48;2;0;0;0m▀\u001b[38;2;0;0;0;48;2;0;0;0m▀\u001b[38;2;0;0;0;48;2;0;0;0m▀\u001b[38;2;0;0;0;48;2;0;0;0m▀\u001b[38;2;0;0;0;48;2;0;0;0m▀\u001b[38;2;0;0;0;48;2;0;0;0m▀\u001b[38;2;0;0;0;48;2;0;0;0m▀\u001b[38;2;0;0;0;48;2;0;0;0m▀\u001b[38;2;0;0;0;48;2;0;0;0m▀\u001b[0m\n",
       "\u001b[0m\u001b[38;2;0;0;0;48;2;0;0;0m▀\u001b[38;2;0;0;0;48;2;0;0;0m▀\u001b[38;2;0;0;0;48;2;0;0;0m▀\u001b[38;2;0;0;0;48;2;0;0;0m▀\u001b[38;2;0;0;0;48;2;0;0;0m▀\u001b[38;2;0;0;0;48;2;0;0;0m▀\u001b[38;2;0;0;0;48;2;0;0;0m▀\u001b[38;2;14;14;14;48;2;0;0;0m▀\u001b[38;2;8;8;8;48;2;0;0;0m▀\u001b[38;2;57;57;57;48;2;0;0;0m▀\u001b[38;2;17;17;17;48;2;0;0;0m▀\u001b[38;2;113;113;113;48;2;0;0;0m▀\u001b[38;2;11;11;11;48;2;0;0;0m▀\u001b[38;2;159;159;159;48;2;0;0;0m▀\u001b[38;2;52;52;52;48;2;0;0;0m▀\u001b[38;2;139;139;139;48;2;0;0;0m▀\u001b[38;2;107;107;107;48;2;0;0;0m▀\u001b[38;2;162;162;162;48;2;0;0;0m▀\u001b[38;2;130;130;130;48;2;0;0;0m▀\u001b[38;2;161;161;161;48;2;0;0;0m▀\u001b[38;2;141;141;141;48;2;0;0;0m▀\u001b[38;2;166;166;166;48;2;0;0;0m▀\u001b[38;2;139;139;139;48;2;0;0;0m▀\u001b[38;2;136;136;136;48;2;0;0;0m▀\u001b[38;2;124;124;124;48;2;0;0;0m▀\u001b[38;2;72;72;72;48;2;19;19;19m▀\u001b[38;2;108;108;108;48;2;0;0;0m▀\u001b[38;2;26;26;26;48;2;18;18;18m▀\u001b[38;2;79;79;79;48;2;0;0;0m▀\u001b[38;2;18;18;18;48;2;0;0;0m▀\u001b[38;2;27;27;27;48;2;0;0;0m▀\u001b[38;2;13;13;13;48;2;0;0;0m▀\u001b[38;2;3;3;3;48;2;0;0;0m▀\u001b[38;2;2;2;2;48;2;0;0;0m▀\u001b[38;2;0;0;0;48;2;0;0;0m▀\u001b[38;2;0;0;0;48;2;0;0;0m▀\u001b[38;2;0;0;0;48;2;0;0;0m▀\u001b[38;2;0;0;0;48;2;0;0;0m▀\u001b[38;2;0;0;0;48;2;0;0;0m▀\u001b[38;2;0;0;0;48;2;0;0;0m▀\u001b[38;2;0;0;0;48;2;0;0;0m▀\u001b[38;2;0;0;0;48;2;0;0;0m▀\u001b[38;2;0;0;0;48;2;0;0;0m▀\u001b[38;2;0;0;0;48;2;0;0;0m▀\u001b[38;2;0;0;0;48;2;0;0;0m▀\u001b[38;2;0;0;0;48;2;0;0;0m▀\u001b[38;2;0;0;0;48;2;0;0;0m▀\u001b[38;2;0;0;0;48;2;0;0;0m▀\u001b[38;2;0;0;0;48;2;0;0;0m▀\u001b[38;2;0;0;0;48;2;0;0;0m▀\u001b[38;2;0;0;0;48;2;0;0;0m▀\u001b[38;2;0;0;0;48;2;0;0;0m▀\u001b[38;2;0;0;0;48;2;0;0;0m▀\u001b[38;2;0;0;0;48;2;0;0;0m▀\u001b[38;2;0;0;0;48;2;0;0;0m▀\u001b[38;2;0;0;0;48;2;0;0;0m▀\u001b[38;2;0;0;0;48;2;0;0;0m▀\u001b[0m\n",
       "\u001b[0m\u001b[38;2;0;0;0;48;2;0;0;0m▀\u001b[38;2;0;0;0;48;2;0;0;0m▀\u001b[38;2;0;0;0;48;2;0;0;0m▀\u001b[38;2;0;0;0;48;2;0;0;0m▀\u001b[38;2;0;0;0;48;2;0;0;0m▀\u001b[38;2;0;0;0;48;2;0;0;0m▀\u001b[38;2;0;0;0;48;2;0;0;0m▀\u001b[38;2;37;37;37;48;2;0;0;0m▀\u001b[38;2;35;35;35;48;2;5;5;5m▀\u001b[38;2;92;92;92;48;2;0;0;0m▀\u001b[38;2;78;78;78;48;2;18;18;18m▀\u001b[38;2;129;129;129;48;2;0;0;0m▀\u001b[38;2;109;109;109;48;2;11;11;11m▀\u001b[38;2;160;160;160;48;2;0;0;0m▀\u001b[38;2;133;133;133;48;2;2;2;2m▀\u001b[38;2;153;153;153;48;2;0;0;0m▀\u001b[38;2;135;135;135;48;2;0;0;0m▀\u001b[38;2;128;128;128;48;2;1;1;1m▀\u001b[38;2;129;129;129;48;2;0;0;0m▀\u001b[38;2;99;99;99;48;2;0;0;0m▀\u001b[38;2;142;142;142;48;2;0;0;0m▀\u001b[38;2;54;54;54;48;2;0;0;0m▀\u001b[38;2;122;122;122;48;2;0;0;0m▀\u001b[38;2;16;16;16;48;2;14;14;14m▀\u001b[38;2;107;107;107;48;2;0;0;0m▀\u001b[38;2;14;14;14;48;2;0;0;0m▀\u001b[38;2;44;44;44;48;2;0;0;0m▀\u001b[38;2;23;23;23;48;2;0;0;0m▀\u001b[38;2;3;3;3;48;2;0;0;0m▀\u001b[38;2;2;2;2;48;2;0;0;0m▀\u001b[38;2;0;0;0;48;2;0;0;0m▀\u001b[38;2;0;0;0;48;2;0;0;0m▀\u001b[38;2;0;0;0;48;2;0;0;0m▀\u001b[38;2;0;0;0;48;2;0;0;0m▀\u001b[38;2;0;0;0;48;2;0;0;0m▀\u001b[38;2;0;0;0;48;2;0;0;0m▀\u001b[38;2;0;0;0;48;2;0;0;0m▀\u001b[38;2;0;0;0;48;2;0;0;0m▀\u001b[38;2;0;0;0;48;2;0;0;0m▀\u001b[38;2;0;0;0;48;2;0;0;0m▀\u001b[38;2;0;0;0;48;2;0;0;0m▀\u001b[38;2;0;0;0;48;2;0;0;0m▀\u001b[38;2;0;0;0;48;2;0;0;0m▀\u001b[38;2;0;0;0;48;2;0;0;0m▀\u001b[38;2;0;0;0;48;2;0;0;0m▀\u001b[38;2;0;0;0;48;2;0;0;0m▀\u001b[38;2;0;0;0;48;2;0;0;0m▀\u001b[38;2;0;0;0;48;2;0;0;0m▀\u001b[38;2;0;0;0;48;2;0;0;0m▀\u001b[38;2;0;0;0;48;2;0;0;0m▀\u001b[38;2;0;0;0;48;2;0;0;0m▀\u001b[38;2;0;0;0;48;2;0;0;0m▀\u001b[38;2;0;0;0;48;2;0;0;0m▀\u001b[38;2;0;0;0;48;2;0;0;0m▀\u001b[38;2;0;0;0;48;2;0;0;0m▀\u001b[38;2;0;0;0;48;2;0;0;0m▀\u001b[38;2;0;0;0;48;2;0;0;0m▀\u001b[0m\n",
       "\u001b[0m\u001b[38;2;0;0;0;48;2;0;0;0m▀\u001b[38;2;0;0;0;48;2;0;0;0m▀\u001b[38;2;0;0;0;48;2;0;0;0m▀\u001b[38;2;0;0;0;48;2;0;0;0m▀\u001b[38;2;0;0;0;48;2;0;0;0m▀\u001b[38;2;0;0;0;48;2;0;0;0m▀\u001b[38;2;0;0;0;48;2;0;0;0m▀\u001b[38;2;7;7;7;48;2;0;0;0m▀\u001b[38;2;35;35;35;48;2;8;8;8m▀\u001b[38;2;0;0;0;48;2;0;0;0m▀\u001b[38;2;107;107;107;48;2;0;0;0m▀\u001b[38;2;0;0;0;48;2;0;0;0m▀\u001b[38;2;143;143;143;48;2;0;0;0m▀\u001b[38;2;0;0;0;48;2;0;0;0m▀\u001b[38;2;143;143;143;48;2;0;0;0m▀\u001b[38;2;0;0;0;48;2;0;0;0m▀\u001b[38;2;133;133;133;48;2;0;0;0m▀\u001b[38;2;0;0;0;48;2;0;0;0m▀\u001b[38;2;100;100;100;48;2;0;0;0m▀\u001b[38;2;10;10;10;48;2;0;0;0m▀\u001b[38;2;76;76;76;48;2;0;0;0m▀\u001b[38;2;0;0;0;48;2;0;0;0m▀\u001b[38;2;45;45;45;48;2;0;0;0m▀\u001b[38;2;21;21;21;48;2;0;0;0m▀\u001b[38;2;5;5;5;48;2;0;0;0m▀\u001b[38;2;3;3;3;48;2;0;0;0m▀\u001b[38;2;0;0;0;48;2;0;0;0m▀\u001b[38;2;0;0;0;48;2;0;0;0m▀\u001b[38;2;0;0;0;48;2;0;0;0m▀\u001b[38;2;0;0;0;48;2;0;0;0m▀\u001b[38;2;0;0;0;48;2;0;0;0m▀\u001b[38;2;0;0;0;48;2;0;0;0m▀\u001b[38;2;0;0;0;48;2;0;0;0m▀\u001b[38;2;0;0;0;48;2;0;0;0m▀\u001b[38;2;0;0;0;48;2;0;0;0m▀\u001b[38;2;0;0;0;48;2;0;0;0m▀\u001b[38;2;0;0;0;48;2;0;0;0m▀\u001b[38;2;0;0;0;48;2;0;0;0m▀\u001b[38;2;0;0;0;48;2;0;0;0m▀\u001b[38;2;0;0;0;48;2;0;0;0m▀\u001b[38;2;0;0;0;48;2;0;0;0m▀\u001b[38;2;0;0;0;48;2;0;0;0m▀\u001b[38;2;0;0;0;48;2;0;0;0m▀\u001b[38;2;0;0;0;48;2;0;0;0m▀\u001b[38;2;0;0;0;48;2;0;0;0m▀\u001b[38;2;0;0;0;48;2;0;0;0m▀\u001b[38;2;0;0;0;48;2;0;0;0m▀\u001b[38;2;0;0;0;48;2;0;0;0m▀\u001b[38;2;0;0;0;48;2;0;0;0m▀\u001b[38;2;0;0;0;48;2;0;0;0m▀\u001b[38;2;0;0;0;48;2;0;0;0m▀\u001b[38;2;0;0;0;48;2;0;0;0m▀\u001b[38;2;0;0;0;48;2;0;0;0m▀\u001b[38;2;0;0;0;48;2;0;0;0m▀\u001b[38;2;0;0;0;48;2;0;0;0m▀\u001b[38;2;0;0;0;48;2;0;0;0m▀\u001b[38;2;0;0;0;48;2;0;0;0m▀\u001b[0m\n",
       "\u001b[0m\u001b[38;2;0;0;0;48;2;0;0;0m▀\u001b[38;2;0;0;0;48;2;0;0;0m▀\u001b[38;2;0;0;0;48;2;0;0;0m▀\u001b[38;2;0;0;0;48;2;0;0;0m▀\u001b[38;2;0;0;0;48;2;0;0;0m▀\u001b[38;2;0;0;0;48;2;0;0;0m▀\u001b[38;2;0;0;0;48;2;0;0;0m▀\u001b[38;2;0;0;0;48;2;0;0;0m▀\u001b[38;2;0;0;0;48;2;0;0;0m▀\u001b[38;2;0;0;0;48;2;0;0;0m▀\u001b[38;2;0;0;0;48;2;0;0;0m▀\u001b[38;2;0;0;0;48;2;0;0;0m▀\u001b[38;2;0;0;0;48;2;0;0;0m▀\u001b[38;2;0;0;0;48;2;0;0;0m▀\u001b[38;2;0;0;0;48;2;0;0;0m▀\u001b[38;2;0;0;0;48;2;0;0;0m▀\u001b[38;2;0;0;0;48;2;0;0;0m▀\u001b[38;2;0;0;0;48;2;0;0;0m▀\u001b[38;2;0;0;0;48;2;0;0;0m▀\u001b[38;2;0;0;0;48;2;0;0;0m▀\u001b[38;2;0;0;0;48;2;0;0;0m▀\u001b[38;2;0;0;0;48;2;0;0;0m▀\u001b[38;2;0;0;0;48;2;0;0;0m▀\u001b[38;2;0;0;0;48;2;0;0;0m▀\u001b[38;2;0;0;0;48;2;0;0;0m▀\u001b[38;2;0;0;0;48;2;0;0;0m▀\u001b[38;2;0;0;0;48;2;0;0;0m▀\u001b[38;2;0;0;0;48;2;0;0;0m▀\u001b[38;2;0;0;0;48;2;0;0;0m▀\u001b[38;2;0;0;0;48;2;0;0;0m▀\u001b[38;2;0;0;0;48;2;0;0;0m▀\u001b[38;2;0;0;0;48;2;0;0;0m▀\u001b[38;2;0;0;0;48;2;0;0;0m▀\u001b[38;2;0;0;0;48;2;0;0;0m▀\u001b[38;2;0;0;0;48;2;0;0;0m▀\u001b[38;2;0;0;0;48;2;0;0;0m▀\u001b[38;2;0;0;0;48;2;0;0;0m▀\u001b[38;2;0;0;0;48;2;0;0;0m▀\u001b[38;2;0;0;0;48;2;0;0;0m▀\u001b[38;2;0;0;0;48;2;0;0;0m▀\u001b[38;2;0;0;0;48;2;0;0;0m▀\u001b[38;2;0;0;0;48;2;0;0;0m▀\u001b[38;2;0;0;0;48;2;0;0;0m▀\u001b[38;2;0;0;0;48;2;0;0;0m▀\u001b[38;2;0;0;0;48;2;0;0;0m▀\u001b[38;2;0;0;0;48;2;0;0;0m▀\u001b[38;2;0;0;0;48;2;0;0;0m▀\u001b[38;2;0;0;0;48;2;0;0;0m▀\u001b[38;2;0;0;0;48;2;0;0;0m▀\u001b[38;2;0;0;0;48;2;0;0;0m▀\u001b[38;2;0;0;0;48;2;0;0;0m▀\u001b[38;2;0;0;0;48;2;0;0;0m▀\u001b[38;2;0;0;0;48;2;0;0;0m▀\u001b[38;2;0;0;0;48;2;0;0;0m▀\u001b[38;2;0;0;0;48;2;0;0;0m▀\u001b[38;2;0;0;0;48;2;0;0;0m▀\u001b[38;2;0;0;0;48;2;0;0;0m▀\u001b[0m\n",
       "\u001b[0m\u001b[38;2;0;0;0;48;2;0;0;0m▀\u001b[38;2;0;0;0;48;2;0;0;0m▀\u001b[38;2;0;0;0;48;2;0;0;0m▀\u001b[38;2;0;0;0;48;2;0;0;0m▀\u001b[38;2;0;0;0;48;2;0;0;0m▀\u001b[38;2;0;0;0;48;2;0;0;0m▀\u001b[38;2;0;0;0;48;2;0;0;0m▀\u001b[38;2;0;0;0;48;2;0;0;0m▀\u001b[38;2;0;0;0;48;2;0;0;0m▀\u001b[38;2;0;0;0;48;2;0;0;0m▀\u001b[38;2;0;0;0;48;2;0;0;0m▀\u001b[38;2;0;0;0;48;2;0;0;0m▀\u001b[38;2;0;0;0;48;2;0;0;0m▀\u001b[38;2;0;0;0;48;2;0;0;0m▀\u001b[38;2;0;0;0;48;2;0;0;0m▀\u001b[38;2;0;0;0;48;2;0;0;0m▀\u001b[38;2;0;0;0;48;2;0;0;0m▀\u001b[38;2;0;0;0;48;2;0;0;0m▀\u001b[38;2;0;0;0;48;2;0;0;0m▀\u001b[38;2;0;0;0;48;2;0;0;0m▀\u001b[38;2;0;0;0;48;2;0;0;0m▀\u001b[38;2;0;0;0;48;2;0;0;0m▀\u001b[38;2;0;0;0;48;2;0;0;0m▀\u001b[38;2;0;0;0;48;2;0;0;0m▀\u001b[38;2;0;0;0;48;2;0;0;0m▀\u001b[38;2;0;0;0;48;2;0;0;0m▀\u001b[38;2;0;0;0;48;2;0;0;0m▀\u001b[38;2;0;0;0;48;2;0;0;0m▀\u001b[38;2;0;0;0;48;2;0;0;0m▀\u001b[38;2;0;0;0;48;2;0;0;0m▀\u001b[38;2;0;0;0;48;2;0;0;0m▀\u001b[38;2;0;0;0;48;2;0;0;0m▀\u001b[38;2;0;0;0;48;2;0;0;0m▀\u001b[38;2;0;0;0;48;2;0;0;0m▀\u001b[38;2;0;0;0;48;2;0;0;0m▀\u001b[38;2;0;0;0;48;2;0;0;0m▀\u001b[38;2;0;0;0;48;2;0;0;0m▀\u001b[38;2;0;0;0;48;2;0;0;0m▀\u001b[38;2;0;0;0;48;2;0;0;0m▀\u001b[38;2;0;0;0;48;2;0;0;0m▀\u001b[38;2;0;0;0;48;2;0;0;0m▀\u001b[38;2;0;0;0;48;2;0;0;0m▀\u001b[38;2;0;0;0;48;2;0;0;0m▀\u001b[38;2;0;0;0;48;2;0;0;0m▀\u001b[38;2;0;0;0;48;2;0;0;0m▀\u001b[38;2;0;0;0;48;2;0;0;0m▀\u001b[38;2;0;0;0;48;2;0;0;0m▀\u001b[38;2;0;0;0;48;2;0;0;0m▀\u001b[38;2;0;0;0;48;2;0;0;0m▀\u001b[38;2;0;0;0;48;2;0;0;0m▀\u001b[38;2;0;0;0;48;2;0;0;0m▀\u001b[38;2;0;0;0;48;2;0;0;0m▀\u001b[38;2;0;0;0;48;2;0;0;0m▀\u001b[38;2;0;0;0;48;2;0;0;0m▀\u001b[38;2;0;0;0;48;2;0;0;0m▀\u001b[38;2;0;0;0;48;2;0;0;0m▀\u001b[38;2;0;0;0;48;2;0;0;0m▀\u001b[0m\n",
       "\u001b[0m\u001b[38;2;0;0;0m▀\u001b[38;2;0;0;0m▀\u001b[38;2;0;0;0m▀\u001b[38;2;0;0;0m▀\u001b[38;2;0;0;0m▀\u001b[38;2;0;0;0m▀\u001b[38;2;0;0;0m▀\u001b[38;2;0;0;0m▀\u001b[38;2;0;0;0m▀\u001b[38;2;0;0;0m▀\u001b[38;2;0;0;0m▀\u001b[38;2;0;0;0m▀\u001b[38;2;0;0;0m▀\u001b[38;2;0;0;0m▀\u001b[38;2;0;0;0m▀\u001b[38;2;0;0;0m▀\u001b[38;2;0;0;0m▀\u001b[38;2;0;0;0m▀\u001b[38;2;0;0;0m▀\u001b[38;2;0;0;0m▀\u001b[38;2;0;0;0m▀\u001b[38;2;0;0;0m▀\u001b[38;2;0;0;0m▀\u001b[38;2;0;0;0m▀\u001b[38;2;0;0;0m▀\u001b[38;2;0;0;0m▀\u001b[38;2;0;0;0m▀\u001b[38;2;0;0;0m▀\u001b[38;2;0;0;0m▀\u001b[38;2;0;0;0m▀\u001b[38;2;0;0;0m▀\u001b[38;2;0;0;0m▀\u001b[38;2;0;0;0m▀\u001b[38;2;0;0;0m▀\u001b[38;2;0;0;0m▀\u001b[38;2;0;0;0m▀\u001b[38;2;0;0;0m▀\u001b[38;2;0;0;0m▀\u001b[38;2;0;0;0m▀\u001b[38;2;0;0;0m▀\u001b[38;2;0;0;0m▀\u001b[38;2;0;0;0m▀\u001b[38;2;0;0;0m▀\u001b[38;2;0;0;0m▀\u001b[38;2;0;0;0m▀\u001b[38;2;0;0;0m▀\u001b[38;2;0;0;0m▀\u001b[38;2;0;0;0m▀\u001b[38;2;0;0;0m▀\u001b[38;2;0;0;0m▀\u001b[38;2;0;0;0m▀\u001b[38;2;0;0;0m▀\u001b[38;2;0;0;0m▀\u001b[38;2;0;0;0m▀\u001b[38;2;0;0;0m▀\u001b[38;2;0;0;0m▀\u001b[38;2;0;0;0m▀\u001b[0m"
      ]
     },
     "execution_count": 99,
     "metadata": {},
     "output_type": "execute_result"
    }
   ],
   "source": [
    "cnn_output = cnn_layer( images[:,:,:,1:3] )\n",
    "display( cnn_output |> size )\n",
    "convert2image( MNIST , cnn_output[:,:,1,1] )"
   ]
  },
  {
   "cell_type": "code",
   "execution_count": 100,
   "metadata": {},
   "outputs": [
    {
     "data": {
      "text/plain": [
       "(20, 20, 1, 10)"
      ]
     },
     "execution_count": 100,
     "metadata": {},
     "output_type": "execute_result"
    }
   ],
   "source": [
    "x = rand(Float32, 10, 10, 1, 10); \n",
    "cnn_layer = ConvTranspose( (5,5) , 1 => 1 , pad=SamePad() , stride=2 )\n",
    "cnn_layer( x ) |> size"
   ]
  },
  {
   "cell_type": "code",
   "execution_count": 101,
   "metadata": {},
   "outputs": [
    {
     "data": {
      "text/plain": [
       "(56, 56, 1, 3)"
      ]
     },
     "metadata": {},
     "output_type": "display_data"
    },
    {
     "data": {
      "image/png": "[encoded data removed]",
      "text/html": [
       "<img src=\"data:image/png;base64,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\">"
      ],
      "text/plain": [
       "\u001b[0m\u001b[38;2;0;0;0;48;2;0;0;0m▀\u001b[38;2;0;0;0;48;2;0;0;0m▀\u001b[38;2;0;0;0;48;2;0;0;0m▀\u001b[38;2;0;0;0;48;2;0;0;0m▀\u001b[38;2;0;0;0;48;2;0;0;0m▀\u001b[38;2;0;0;0;48;2;0;0;0m▀\u001b[38;2;0;0;0;48;2;0;0;0m▀\u001b[38;2;0;0;0;48;2;0;0;0m▀\u001b[38;2;0;0;0;48;2;0;0;0m▀\u001b[38;2;0;0;0;48;2;0;0;0m▀\u001b[38;2;0;0;0;48;2;0;0;0m▀\u001b[38;2;0;0;0;48;2;0;0;0m▀\u001b[38;2;0;0;0;48;2;0;0;0m▀\u001b[38;2;0;0;0;48;2;0;0;0m▀\u001b[38;2;0;0;0;48;2;0;0;0m▀\u001b[38;2;0;0;0;48;2;0;0;0m▀\u001b[38;2;0;0;0;48;2;0;0;0m▀\u001b[38;2;0;0;0;48;2;0;0;0m▀\u001b[38;2;0;0;0;48;2;0;0;0m▀\u001b[38;2;0;0;0;48;2;0;0;0m▀\u001b[38;2;0;0;0;48;2;0;0;0m▀\u001b[38;2;0;0;0;48;2;0;0;0m▀\u001b[38;2;0;0;0;48;2;0;0;0m▀\u001b[38;2;0;0;0;48;2;0;0;0m▀\u001b[38;2;0;0;0;48;2;0;0;0m▀\u001b[38;2;0;0;0;48;2;0;0;0m▀\u001b[38;2;0;0;0;48;2;0;0;0m▀\u001b[38;2;0;0;0;48;2;0;0;0m▀\u001b[38;2;0;0;0;48;2;0;0;0m▀\u001b[38;2;0;0;0;48;2;0;0;0m▀\u001b[38;2;0;0;0;48;2;0;0;0m▀\u001b[38;2;0;0;0;48;2;0;0;0m▀\u001b[38;2;0;0;0;48;2;0;0;0m▀\u001b[38;2;0;0;0;48;2;0;0;0m▀\u001b[38;2;0;0;0;48;2;0;0;0m▀\u001b[38;2;0;0;0;48;2;0;0;0m▀\u001b[38;2;0;0;0;48;2;0;0;0m▀\u001b[38;2;0;0;0;48;2;0;0;0m▀\u001b[38;2;0;0;0;48;2;0;0;0m▀\u001b[38;2;0;0;0;48;2;0;0;0m▀\u001b[38;2;0;0;0;48;2;0;0;0m▀\u001b[38;2;0;0;0;48;2;0;0;0m▀\u001b[38;2;0;0;0;48;2;0;0;0m▀\u001b[38;2;0;0;0;48;2;0;0;0m▀\u001b[38;2;0;0;0;48;2;0;0;0m▀\u001b[38;2;0;0;0;48;2;0;0;0m▀\u001b[38;2;0;0;0;48;2;0;0;0m▀\u001b[38;2;0;0;0;48;2;0;0;0m▀\u001b[38;2;0;0;0;48;2;0;0;0m▀\u001b[38;2;0;0;0;48;2;0;0;0m▀\u001b[38;2;0;0;0;48;2;0;0;0m▀\u001b[38;2;0;0;0;48;2;0;0;0m▀\u001b[38;2;0;0;0;48;2;0;0;0m▀\u001b[38;2;0;0;0;48;2;0;0;0m▀\u001b[38;2;0;0;0;48;2;0;0;0m▀\u001b[38;2;0;0;0;48;2;0;0;0m▀\u001b[0m\n",
       "\u001b[0m\u001b[38;2;0;0;0;48;2;0;0;0m▀\u001b[38;2;0;0;0;48;2;0;0;0m▀\u001b[38;2;0;0;0;48;2;0;0;0m▀\u001b[38;2;0;0;0;48;2;0;0;0m▀\u001b[38;2;0;0;0;48;2;0;0;0m▀\u001b[38;2;0;0;0;48;2;0;0;0m▀\u001b[38;2;0;0;0;48;2;0;0;0m▀\u001b[38;2;0;0;0;48;2;0;0;0m▀\u001b[38;2;0;0;0;48;2;0;0;0m▀\u001b[38;2;0;0;0;48;2;0;0;0m▀\u001b[38;2;0;0;0;48;2;0;0;0m▀\u001b[38;2;0;0;0;48;2;0;0;0m▀\u001b[38;2;0;0;0;48;2;0;0;0m▀\u001b[38;2;0;0;0;48;2;0;0;0m▀\u001b[38;2;0;0;0;48;2;0;0;0m▀\u001b[38;2;0;0;0;48;2;0;0;0m▀\u001b[38;2;0;0;0;48;2;0;0;0m▀\u001b[38;2;0;0;0;48;2;0;0;0m▀\u001b[38;2;0;0;0;48;2;0;0;0m▀\u001b[38;2;0;0;0;48;2;0;0;0m▀\u001b[38;2;0;0;0;48;2;0;0;0m▀\u001b[38;2;0;0;0;48;2;0;0;0m▀\u001b[38;2;0;0;0;48;2;0;0;0m▀\u001b[38;2;0;0;0;48;2;0;0;0m▀\u001b[38;2;0;0;0;48;2;0;0;0m▀\u001b[38;2;0;0;0;48;2;0;0;0m▀\u001b[38;2;0;0;0;48;2;0;0;0m▀\u001b[38;2;0;0;0;48;2;0;0;0m▀\u001b[38;2;0;0;0;48;2;0;0;0m▀\u001b[38;2;0;0;0;48;2;0;0;0m▀\u001b[38;2;0;0;0;48;2;0;0;0m▀\u001b[38;2;0;0;0;48;2;0;0;0m▀\u001b[38;2;0;0;0;48;2;0;0;0m▀\u001b[38;2;0;0;0;48;2;0;0;0m▀\u001b[38;2;0;0;0;48;2;0;0;0m▀\u001b[38;2;0;0;0;48;2;0;0;0m▀\u001b[38;2;0;0;0;48;2;0;0;0m▀\u001b[38;2;0;0;0;48;2;0;0;0m▀\u001b[38;2;0;0;0;48;2;0;0;0m▀\u001b[38;2;0;0;0;48;2;0;0;0m▀\u001b[38;2;0;0;0;48;2;0;0;0m▀\u001b[38;2;0;0;0;48;2;0;0;0m▀\u001b[38;2;0;0;0;48;2;0;0;0m▀\u001b[38;2;0;0;0;48;2;0;0;0m▀\u001b[38;2;0;0;0;48;2;0;0;0m▀\u001b[38;2;0;0;0;48;2;0;0;0m▀\u001b[38;2;0;0;0;48;2;0;0;0m▀\u001b[38;2;0;0;0;48;2;0;0;0m▀\u001b[38;2;0;0;0;48;2;0;0;0m▀\u001b[38;2;0;0;0;48;2;0;0;0m▀\u001b[38;2;0;0;0;48;2;0;0;0m▀\u001b[38;2;0;0;0;48;2;0;0;0m▀\u001b[38;2;0;0;0;48;2;0;0;0m▀\u001b[38;2;0;0;0;48;2;0;0;0m▀\u001b[38;2;0;0;0;48;2;0;0;0m▀\u001b[38;2;0;0;0;48;2;0;0;0m▀\u001b[0m\n",
       "\u001b[0m\u001b[38;2;0;0;0;48;2;0;0;0m▀\u001b[38;2;0;0;0;48;2;0;0;0m▀\u001b[38;2;0;0;0;48;2;0;0;0m▀\u001b[38;2;0;0;0;48;2;0;0;0m▀\u001b[38;2;0;0;0;48;2;0;0;0m▀\u001b[38;2;0;0;0;48;2;0;0;0m▀\u001b[38;2;0;0;0;48;2;0;0;0m▀\u001b[38;2;0;0;0;48;2;0;0;0m▀\u001b[38;2;0;0;0;48;2;0;0;0m▀\u001b[38;2;0;0;0;48;2;0;0;0m▀\u001b[38;2;0;0;0;48;2;0;0;0m▀\u001b[38;2;0;0;0;48;2;0;0;0m▀\u001b[38;2;0;0;0;48;2;0;0;0m▀\u001b[38;2;0;0;0;48;2;0;0;0m▀\u001b[38;2;0;0;0;48;2;0;0;0m▀\u001b[38;2;0;0;0;48;2;0;0;0m▀\u001b[38;2;0;0;0;48;2;0;0;0m▀\u001b[38;2;0;0;0;48;2;0;0;0m▀\u001b[38;2;0;0;0;48;2;0;0;0m▀\u001b[38;2;0;0;0;48;2;0;0;0m▀\u001b[38;2;0;0;0;48;2;0;0;0m▀\u001b[38;2;0;0;0;48;2;0;0;0m▀\u001b[38;2;0;0;0;48;2;0;0;0m▀\u001b[38;2;0;0;0;48;2;0;0;0m▀\u001b[38;2;0;0;0;48;2;0;0;0m▀\u001b[38;2;0;0;0;48;2;0;0;0m▀\u001b[38;2;0;0;0;48;2;0;0;0m▀\u001b[38;2;0;0;0;48;2;0;0;0m▀\u001b[38;2;0;0;0;48;2;0;0;0m▀\u001b[38;2;0;0;0;48;2;0;0;0m▀\u001b[38;2;0;0;0;48;2;0;0;0m▀\u001b[38;2;0;0;0;48;2;0;0;0m▀\u001b[38;2;0;0;0;48;2;0;0;0m▀\u001b[38;2;0;0;0;48;2;0;0;0m▀\u001b[38;2;0;0;0;48;2;0;0;0m▀\u001b[38;2;0;0;0;48;2;0;0;0m▀\u001b[38;2;0;0;0;48;2;0;0;0m▀\u001b[38;2;0;0;0;48;2;0;0;0m▀\u001b[38;2;0;0;0;48;2;0;0;0m▀\u001b[38;2;0;0;0;48;2;0;0;0m▀\u001b[38;2;0;0;0;48;2;0;0;0m▀\u001b[38;2;0;0;0;48;2;0;0;0m▀\u001b[38;2;0;0;0;48;2;0;0;0m▀\u001b[38;2;0;0;0;48;2;0;0;0m▀\u001b[38;2;0;0;0;48;2;0;0;0m▀\u001b[38;2;0;0;0;48;2;0;0;0m▀\u001b[38;2;0;0;0;48;2;0;0;0m▀\u001b[38;2;0;0;0;48;2;0;0;0m▀\u001b[38;2;0;0;0;48;2;0;0;0m▀\u001b[38;2;0;0;0;48;2;0;0;0m▀\u001b[38;2;0;0;0;48;2;0;0;0m▀\u001b[38;2;0;0;0;48;2;0;0;0m▀\u001b[38;2;0;0;0;48;2;0;0;0m▀\u001b[38;2;0;0;0;48;2;0;0;0m▀\u001b[38;2;0;0;0;48;2;0;0;0m▀\u001b[38;2;0;0;0;48;2;0;0;0m▀\u001b[0m\n",
       "\u001b[0m\u001b[38;2;0;0;0;48;2;0;0;0m▀\u001b[38;2;0;0;0;48;2;0;0;0m▀\u001b[38;2;0;0;0;48;2;0;0;0m▀\u001b[38;2;0;0;0;48;2;0;0;0m▀\u001b[38;2;0;0;0;48;2;0;0;0m▀\u001b[38;2;0;0;0;48;2;0;0;0m▀\u001b[38;2;0;0;0;48;2;0;0;0m▀\u001b[38;2;0;0;0;48;2;0;0;0m▀\u001b[38;2;0;0;0;48;2;0;0;0m▀\u001b[38;2;0;0;0;48;2;0;0;0m▀\u001b[38;2;0;0;0;48;2;0;0;0m▀\u001b[38;2;0;0;0;48;2;0;0;0m▀\u001b[38;2;0;0;0;48;2;0;0;0m▀\u001b[38;2;0;0;0;48;2;0;0;0m▀\u001b[38;2;0;0;0;48;2;0;0;0m▀\u001b[38;2;0;0;0;48;2;0;0;0m▀\u001b[38;2;0;0;0;48;2;0;0;0m▀\u001b[38;2;0;0;0;48;2;0;0;0m▀\u001b[38;2;0;0;0;48;2;0;0;0m▀\u001b[38;2;0;0;0;48;2;0;0;0m▀\u001b[38;2;0;0;0;48;2;0;0;0m▀\u001b[38;2;0;0;0;48;2;0;0;0m▀\u001b[38;2;0;0;0;48;2;0;0;0m▀\u001b[38;2;0;0;0;48;2;0;0;0m▀\u001b[38;2;0;0;0;48;2;0;0;0m▀\u001b[38;2;0;0;0;48;2;0;0;0m▀\u001b[38;2;0;0;0;48;2;0;0;0m▀\u001b[38;2;0;0;0;48;2;0;0;0m▀\u001b[38;2;0;0;0;48;2;0;0;0m▀\u001b[38;2;0;0;0;48;2;0;0;0m▀\u001b[38;2;0;0;0;48;2;0;0;0m▀\u001b[38;2;0;0;0;48;2;0;0;0m▀\u001b[38;2;0;0;0;48;2;0;0;0m▀\u001b[38;2;0;0;0;48;2;0;0;0m▀\u001b[38;2;0;0;0;48;2;0;0;0m▀\u001b[38;2;0;0;0;48;2;0;0;0m▀\u001b[38;2;0;0;0;48;2;0;0;0m▀\u001b[38;2;0;0;0;48;2;0;0;0m▀\u001b[38;2;0;0;0;48;2;0;0;0m▀\u001b[38;2;0;0;0;48;2;0;0;0m▀\u001b[38;2;0;0;0;48;2;0;0;0m▀\u001b[38;2;0;0;0;48;2;0;0;0m▀\u001b[38;2;0;0;0;48;2;0;0;0m▀\u001b[38;2;0;0;0;48;2;0;0;0m▀\u001b[38;2;0;0;0;48;2;0;0;0m▀\u001b[38;2;0;0;0;48;2;0;0;0m▀\u001b[38;2;0;0;0;48;2;0;0;0m▀\u001b[38;2;0;0;0;48;2;0;0;0m▀\u001b[38;2;0;0;0;48;2;0;0;0m▀\u001b[38;2;0;0;0;48;2;0;0;0m▀\u001b[38;2;0;0;0;48;2;0;0;0m▀\u001b[38;2;0;0;0;48;2;0;0;0m▀\u001b[38;2;0;0;0;48;2;0;0;0m▀\u001b[38;2;0;0;0;48;2;0;0;0m▀\u001b[38;2;0;0;0;48;2;0;0;0m▀\u001b[38;2;0;0;0;48;2;0;0;0m▀\u001b[0m\n",
       "\u001b[0m\u001b[38;2;0;0;0;48;2;0;0;0m▀\u001b[38;2;0;0;0;48;2;0;0;0m▀\u001b[38;2;0;0;0;48;2;0;0;0m▀\u001b[38;2;0;0;0;48;2;0;0;0m▀\u001b[38;2;0;0;0;48;2;0;0;0m▀\u001b[38;2;0;0;0;48;2;0;0;0m▀\u001b[38;2;0;0;0;48;2;0;0;0m▀\u001b[38;2;0;0;0;48;2;0;0;0m▀\u001b[38;2;0;0;0;48;2;0;0;0m▀\u001b[38;2;0;0;0;48;2;0;0;0m▀\u001b[38;2;0;0;0;48;2;0;0;0m▀\u001b[38;2;0;0;0;48;2;0;0;0m▀\u001b[38;2;0;0;0;48;2;0;0;0m▀\u001b[38;2;0;0;0;48;2;0;0;0m▀\u001b[38;2;0;0;0;48;2;0;0;0m▀\u001b[38;2;0;0;0;48;2;0;0;0m▀\u001b[38;2;0;0;0;48;2;0;0;0m▀\u001b[38;2;0;0;0;48;2;0;0;0m▀\u001b[38;2;0;0;0;48;2;0;0;0m▀\u001b[38;2;0;0;0;48;2;0;0;0m▀\u001b[38;2;0;0;0;48;2;0;0;0m▀\u001b[38;2;0;0;0;48;2;0;0;0m▀\u001b[38;2;1;1;1;48;2;0;0;0m▀\u001b[38;2;0;0;0;48;2;0;0;0m▀\u001b[38;2;6;6;6;48;2;0;0;0m▀\u001b[38;2;1;1;1;48;2;2;2;2m▀\u001b[38;2;8;8;8;48;2;0;0;0m▀\u001b[38;2;5;5;5;48;2;0;0;0m▀\u001b[38;2;8;8;8;48;2;0;0;0m▀\u001b[38;2;5;5;5;48;2;0;0;0m▀\u001b[38;2;41;41;41;48;2;0;0;0m▀\u001b[38;2;5;5;5;48;2;12;12;12m▀\u001b[38;2;56;56;56;48;2;0;0;0m▀\u001b[38;2;36;36;36;48;2;0;0;0m▀\u001b[38;2;70;70;70;48;2;0;0;0m▀\u001b[38;2;39;39;39;48;2;0;0;0m▀\u001b[38;2;28;28;28;48;2;0;0;0m▀\u001b[38;2;50;50;50;48;2;0;0;0m▀\u001b[38;2;57;57;57;48;2;0;0;0m▀\u001b[38;2;7;7;7;48;2;15;15;15m▀\u001b[38;2;97;97;97;48;2;0;0;0m▀\u001b[38;2;48;48;48;48;2;0;0;0m▀\u001b[38;2;106;106;106;48;2;0;0;0m▀\u001b[38;2;73;73;73;48;2;0;0;0m▀\u001b[38;2;69;69;69;48;2;0;0;0m▀\u001b[38;2;71;71;71;48;2;0;0;0m▀\u001b[38;2;17;17;17;48;2;3;3;3m▀\u001b[38;2;36;36;36;48;2;0;0;0m▀\u001b[38;2;2;2;2;48;2;7;7;7m▀\u001b[38;2;0;0;0;48;2;0;0;0m▀\u001b[38;2;0;0;0;48;2;0;0;0m▀\u001b[38;2;0;0;0;48;2;0;0;0m▀\u001b[38;2;0;0;0;48;2;0;0;0m▀\u001b[38;2;0;0;0;48;2;0;0;0m▀\u001b[38;2;0;0;0;48;2;0;0;0m▀\u001b[38;2;0;0;0;48;2;0;0;0m▀\u001b[0m\n",
       "\u001b[0m\u001b[38;2;0;0;0;48;2;0;0;0m▀\u001b[38;2;0;0;0;48;2;0;0;0m▀\u001b[38;2;0;0;0;48;2;0;0;0m▀\u001b[38;2;0;0;0;48;2;0;0;0m▀\u001b[38;2;0;0;0;48;2;0;0;0m▀\u001b[38;2;0;0;0;48;2;0;0;0m▀\u001b[38;2;0;0;0;48;2;0;0;0m▀\u001b[38;2;0;0;0;48;2;0;0;0m▀\u001b[38;2;0;0;0;48;2;0;0;0m▀\u001b[38;2;0;0;0;48;2;0;0;0m▀\u001b[38;2;0;0;0;48;2;0;0;0m▀\u001b[38;2;0;0;0;48;2;0;0;0m▀\u001b[38;2;0;0;0;48;2;0;0;0m▀\u001b[38;2;0;0;0;48;2;0;0;0m▀\u001b[38;2;9;9;9;48;2;0;0;0m▀\u001b[38;2;0;0;0;48;2;4;4;4m▀\u001b[38;2;14;14;14;48;2;0;0;0m▀\u001b[38;2;9;9;9;48;2;0;0;0m▀\u001b[38;2;33;33;33;48;2;0;0;0m▀\u001b[38;2;10;10;10;48;2;2;2;2m▀\u001b[38;2;58;58;58;48;2;0;0;0m▀\u001b[38;2;27;27;27;48;2;0;0;0m▀\u001b[38;2;71;71;71;48;2;0;0;0m▀\u001b[38;2;44;44;44;48;2;0;0;0m▀\u001b[38;2;102;102;102;48;2;0;0;0m▀\u001b[38;2;49;49;49;48;2;0;0;0m▀\u001b[38;2;115;115;115;48;2;0;0;0m▀\u001b[38;2;69;69;69;48;2;0;0;0m▀\u001b[38;2;116;116;116;48;2;0;0;0m▀\u001b[38;2;69;69;69;48;2;0;0;0m▀\u001b[38;2;134;134;134;48;2;0;0;0m▀\u001b[38;2;75;75;75;48;2;0;0;0m▀\u001b[38;2;163;163;163;48;2;0;0;0m▀\u001b[38;2;48;48;48;48;2;0;0;0m▀\u001b[38;2;159;159;159;48;2;0;0;0m▀\u001b[38;2;48;48;48;48;2;0;0;0m▀\u001b[38;2;123;123;123;48;2;0;0;0m▀\u001b[38;2;22;22;22;48;2;0;0;0m▀\u001b[38;2;127;127;127;48;2;0;0;0m▀\u001b[38;2;52;52;52;48;2;21;21;21m▀\u001b[38;2;189;189;189;48;2;0;0;0m▀\u001b[38;2;45;45;45;48;2;0;0;0m▀\u001b[38;2;189;189;189;48;2;0;0;0m▀\u001b[38;2;19;19;19;48;2;0;0;0m▀\u001b[38;2;116;116;116;48;2;0;0;0m▀\u001b[38;2;0;0;0;48;2;0;0;0m▀\u001b[38;2;30;30;30;48;2;17;17;17m▀\u001b[38;2;0;0;0;48;2;0;0;0m▀\u001b[38;2;0;0;0;48;2;9;9;9m▀\u001b[38;2;0;0;0;48;2;0;0;0m▀\u001b[38;2;0;0;0;48;2;0;0;0m▀\u001b[38;2;0;0;0;48;2;0;0;0m▀\u001b[38;2;0;0;0;48;2;0;0;0m▀\u001b[38;2;0;0;0;48;2;0;0;0m▀\u001b[38;2;0;0;0;48;2;0;0;0m▀\u001b[38;2;0;0;0;48;2;0;0;0m▀\u001b[0m\n",
       "\u001b[0m\u001b[38;2;0;0;0;48;2;0;0;0m▀\u001b[38;2;0;0;0;48;2;0;0;0m▀\u001b[38;2;0;0;0;48;2;0;0;0m▀\u001b[38;2;0;0;0;48;2;0;0;0m▀\u001b[38;2;0;0;0;48;2;0;0;0m▀\u001b[38;2;0;0;0;48;2;0;0;0m▀\u001b[38;2;0;0;0;48;2;0;0;0m▀\u001b[38;2;0;0;0;48;2;0;0;0m▀\u001b[38;2;0;0;0;48;2;0;0;0m▀\u001b[38;2;0;0;0;48;2;0;0;0m▀\u001b[38;2;0;0;0;48;2;0;0;0m▀\u001b[38;2;0;0;0;48;2;0;0;0m▀\u001b[38;2;15;15;15;48;2;0;0;0m▀\u001b[38;2;0;0;0;48;2;6;6;6m▀\u001b[38;2;84;84;84;48;2;0;0;0m▀\u001b[38;2;16;16;16;48;2;26;26;26m▀\u001b[38;2;118;118;118;48;2;0;0;0m▀\u001b[38;2;63;63;63;48;2;0;0;0m▀\u001b[38;2;132;132;132;48;2;0;0;0m▀\u001b[38;2;69;69;69;48;2;0;0;0m▀\u001b[38;2;157;157;157;48;2;0;0;0m▀\u001b[38;2;57;57;57;48;2;0;0;0m▀\u001b[38;2;173;173;173;48;2;0;0;0m▀\u001b[38;2;44;44;44;48;2;0;0;0m▀\u001b[38;2;193;193;193;48;2;0;0;0m▀\u001b[38;2;47;47;47;48;2;0;0;0m▀\u001b[38;2;212;212;212;48;2;0;0;0m▀\u001b[38;2;25;25;25;48;2;0;0;0m▀\u001b[38;2;208;208;208;48;2;0;0;0m▀\u001b[38;2;25;25;25;48;2;0;0;0m▀\u001b[38;2;244;244;244;48;2;0;0;0m▀\u001b[38;2;50;50;50;48;2;0;0;0m▀\u001b[38;2;230;230;230;48;2;0;0;0m▀\u001b[38;2;40;40;40;48;2;0;0;0m▀\u001b[38;2;193;193;193;48;2;0;0;0m▀\u001b[38;2;46;46;46;48;2;0;0;0m▀\u001b[38;2;102;102;102;48;2;2;2;2m▀\u001b[38;2;0;0;0;48;2;0;0;0m▀\u001b[38;2;171;171;171;48;2;0;0;0m▀\u001b[38;2;31;31;31;48;2;2;2;2m▀\u001b[38;2;185;185;185;48;2;0;0;0m▀\u001b[38;2;15;15;15;48;2;0;0;0m▀\u001b[38;2;153;153;153;48;2;8;8;8m▀\u001b[38;2;0;0;0;48;2;0;0;0m▀\u001b[38;2;71;71;71;48;2;14;14;14m▀\u001b[38;2;0;0;0;48;2;0;0;0m▀\u001b[38;2;1;1;1;48;2;11;11;11m▀\u001b[38;2;0;0;0;48;2;0;0;0m▀\u001b[38;2;3;3;3;48;2;3;3;3m▀\u001b[38;2;0;0;0;48;2;0;0;0m▀\u001b[38;2;0;0;0;48;2;0;0;0m▀\u001b[38;2;0;0;0;48;2;0;0;0m▀\u001b[38;2;0;0;0;48;2;0;0;0m▀\u001b[38;2;0;0;0;48;2;0;0;0m▀\u001b[38;2;0;0;0;48;2;0;0;0m▀\u001b[38;2;0;0;0;48;2;0;0;0m▀\u001b[0m\n",
       "\u001b[0m\u001b[38;2;0;0;0;48;2;0;0;0m▀\u001b[38;2;0;0;0;48;2;0;0;0m▀\u001b[38;2;0;0;0;48;2;0;0;0m▀\u001b[38;2;0;0;0;48;2;0;0;0m▀\u001b[38;2;0;0;0;48;2;0;0;0m▀\u001b[38;2;0;0;0;48;2;0;0;0m▀\u001b[38;2;0;0;0;48;2;0;0;0m▀\u001b[38;2;0;0;0;48;2;0;0;0m▀\u001b[38;2;0;0;0;48;2;0;0;0m▀\u001b[38;2;0;0;0;48;2;0;0;0m▀\u001b[38;2;0;0;0;48;2;0;0;0m▀\u001b[38;2;0;0;0;48;2;0;0;0m▀\u001b[38;2;14;14;14;48;2;0;0;0m▀\u001b[38;2;3;3;3;48;2;15;15;15m▀\u001b[38;2;133;133;133;48;2;0;0;0m▀\u001b[38;2;13;13;13;48;2;70;70;70m▀\u001b[38;2;211;211;211;48;2;0;0;0m▀\u001b[38;2;22;22;22;48;2;0;0;0m▀\u001b[38;2;231;231;231;48;2;0;0;0m▀\u001b[38;2;41;41;41;48;2;0;0;0m▀\u001b[38;2;243;243;243;48;2;0;0;0m▀\u001b[38;2;48;48;48;48;2;0;0;0m▀\u001b[38;2;242;242;242;48;2;0;0;0m▀\u001b[38;2;45;45;45;48;2;0;0;0m▀\u001b[38;2;255;255;255;48;2;0;0;0m▀\u001b[38;2;63;63;63;48;2;0;0;0m▀\u001b[38;2;241;241;241;48;2;0;0;0m▀\u001b[38;2;54;54;54;48;2;0;0;0m▀\u001b[38;2;235;235;235;48;2;0;0;0m▀\u001b[38;2;38;38;38;48;2;0;0;0m▀\u001b[38;2;252;252;252;48;2;0;0;0m▀\u001b[38;2;33;33;33;48;2;0;0;0m▀\u001b[38;2;255;255;255;48;2;0;0;0m▀\u001b[38;2;52;52;52;48;2;0;0;0m▀\u001b[38;2;145;145;145;48;2;10;10;10m▀\u001b[38;2;35;35;35;48;2;0;0;0m▀\u001b[38;2;65;65;65;48;2;27;27;27m▀\u001b[38;2;0;0;0;48;2;0;0;0m▀\u001b[38;2;99;99;99;48;2;7;7;7m▀\u001b[38;2;24;24;24;48;2;0;0;0m▀\u001b[38;2;77;77;77;48;2;6;6;6m▀\u001b[38;2;11;11;11;48;2;0;0;0m▀\u001b[38;2;58;58;58;48;2;5;5;5m▀\u001b[38;2;7;7;7;48;2;0;0;0m▀\u001b[38;2;11;11;11;48;2;3;3;3m▀\u001b[38;2;0;0;0;48;2;0;0;0m▀\u001b[38;2;0;0;0;48;2;2;2;2m▀\u001b[38;2;0;0;0;48;2;0;0;0m▀\u001b[38;2;3;3;3;48;2;0;0;0m▀\u001b[38;2;0;0;0;48;2;0;0;0m▀\u001b[38;2;0;0;0;48;2;0;0;0m▀\u001b[38;2;0;0;0;48;2;0;0;0m▀\u001b[38;2;0;0;0;48;2;0;0;0m▀\u001b[38;2;0;0;0;48;2;0;0;0m▀\u001b[38;2;0;0;0;48;2;0;0;0m▀\u001b[38;2;0;0;0;48;2;0;0;0m▀\u001b[0m\n",
       "\u001b[0m\u001b[38;2;0;0;0;48;2;0;0;0m▀\u001b[38;2;0;0;0;48;2;0;0;0m▀\u001b[38;2;0;0;0;48;2;0;0;0m▀\u001b[38;2;0;0;0;48;2;0;0;0m▀\u001b[38;2;0;0;0;48;2;0;0;0m▀\u001b[38;2;0;0;0;48;2;0;0;0m▀\u001b[38;2;0;0;0;48;2;0;0;0m▀\u001b[38;2;0;0;0;48;2;0;0;0m▀\u001b[38;2;0;0;0;48;2;0;0;0m▀\u001b[38;2;0;0;0;48;2;0;0;0m▀\u001b[38;2;0;0;0;48;2;0;0;0m▀\u001b[38;2;0;0;0;48;2;0;0;0m▀\u001b[38;2;19;19;19;48;2;1;1;1m▀\u001b[38;2;13;13;13;48;2;5;5;5m▀\u001b[38;2;138;138;138;48;2;0;0;0m▀\u001b[38;2;59;59;59;48;2;62;62;62m▀\u001b[38;2;205;205;205;48;2;0;0;0m▀\u001b[38;2;14;14;14;48;2;0;0;0m▀\u001b[38;2;205;205;205;48;2;0;0;0m▀\u001b[38;2;26;26;26;48;2;0;0;0m▀\u001b[38;2;246;246;246;48;2;0;0;0m▀\u001b[38;2;12;12;12;48;2;0;0;0m▀\u001b[38;2;255;255;255;48;2;0;0;0m▀\u001b[38;2;54;54;54;48;2;0;0;0m▀\u001b[38;2;247;247;247;48;2;0;0;0m▀\u001b[38;2;54;54;54;48;2;0;0;0m▀\u001b[38;2;173;173;173;48;2;13;13;13m▀\u001b[38;2;37;37;37;48;2;0;0;0m▀\u001b[38;2;132;132;132;48;2;28;28;28m▀\u001b[38;2;0;0;0;48;2;0;0;0m▀\u001b[38;2;151;151;151;48;2;7;7;7m▀\u001b[38;2;0;0;0;48;2;15;15;15m▀\u001b[38;2;205;205;205;48;2;0;0;0m▀\u001b[38;2;0;0;0;48;2;0;0;0m▀\u001b[38;2;71;71;71;48;2;2;2;2m▀\u001b[38;2;0;0;0;48;2;0;0;0m▀\u001b[38;2;16;16;16;48;2;18;18;18m▀\u001b[38;2;9;9;9;48;2;0;0;0m▀\u001b[38;2;19;19;19;48;2;0;0;0m▀\u001b[38;2;10;10;10;48;2;0;0;0m▀\u001b[38;2;10;10;10;48;2;0;0;0m▀\u001b[38;2;4;4;4;48;2;0;0;0m▀\u001b[38;2;9;9;9;48;2;0;0;0m▀\u001b[38;2;3;3;3;48;2;0;0;0m▀\u001b[38;2;0;0;0;48;2;0;0;0m▀\u001b[38;2;0;0;0;48;2;0;0;0m▀\u001b[38;2;2;2;2;48;2;0;0;0m▀\u001b[38;2;0;0;0;48;2;0;0;0m▀\u001b[38;2;0;0;0;48;2;0;0;0m▀\u001b[38;2;0;0;0;48;2;0;0;0m▀\u001b[38;2;0;0;0;48;2;0;0;0m▀\u001b[38;2;0;0;0;48;2;0;0;0m▀\u001b[38;2;0;0;0;48;2;0;0;0m▀\u001b[38;2;0;0;0;48;2;0;0;0m▀\u001b[38;2;0;0;0;48;2;0;0;0m▀\u001b[38;2;0;0;0;48;2;0;0;0m▀\u001b[0m\n",
       "\u001b[0m\u001b[38;2;0;0;0;48;2;0;0;0m▀\u001b[38;2;0;0;0;48;2;0;0;0m▀\u001b[38;2;0;0;0;48;2;0;0;0m▀\u001b[38;2;0;0;0;48;2;0;0;0m▀\u001b[38;2;0;0;0;48;2;0;0;0m▀\u001b[38;2;0;0;0;48;2;0;0;0m▀\u001b[38;2;0;0;0;48;2;0;0;0m▀\u001b[38;2;0;0;0;48;2;0;0;0m▀\u001b[38;2;0;0;0;48;2;0;0;0m▀\u001b[38;2;0;0;0;48;2;0;0;0m▀\u001b[38;2;0;0;0;48;2;0;0;0m▀\u001b[38;2;0;0;0;48;2;0;0;0m▀\u001b[38;2;6;6;6;48;2;0;0;0m▀\u001b[38;2;4;4;4;48;2;0;0;0m▀\u001b[38;2;83;83;83;48;2;3;3;3m▀\u001b[38;2;55;55;55;48;2;21;21;21m▀\u001b[38;2;103;103;103;48;2;2;2;2m▀\u001b[38;2;23;23;23;48;2;18;18;18m▀\u001b[38;2;112;112;112;48;2;7;7;7m▀\u001b[38;2;2;2;2;48;2;0;0;0m▀\u001b[38;2;170;170;170;48;2;0;0;0m▀\u001b[38;2;18;18;18;48;2;53;53;53m▀\u001b[38;2;255;255;255;48;2;0;0;0m▀\u001b[38;2;25;25;25;48;2;0;0;0m▀\u001b[38;2;202;202;202;48;2;0;0;0m▀\u001b[38;2;51;51;51;48;2;0;0;0m▀\u001b[38;2;95;95;95;48;2;19;19;19m▀\u001b[38;2;0;0;0;48;2;0;0;0m▀\u001b[38;2;37;37;37;48;2;13;13;13m▀\u001b[38;2;18;18;18;48;2;0;0;0m▀\u001b[38;2;71;71;71;48;2;2;2;2m▀\u001b[38;2;40;40;40;48;2;11;11;11m▀\u001b[38;2;89;89;89;48;2;5;5;5m▀\u001b[38;2;27;27;27;48;2;27;27;27m▀\u001b[38;2;13;13;13;48;2;3;3;3m▀\u001b[38;2;0;0;0;48;2;0;0;0m▀\u001b[38;2;4;4;4;48;2;6;6;6m▀\u001b[38;2;0;0;0;48;2;0;0;0m▀\u001b[38;2;0;0;0;48;2;0;0;0m▀\u001b[38;2;0;0;0;48;2;0;0;0m▀\u001b[38;2;0;0;0;48;2;0;0;0m▀\u001b[38;2;0;0;0;48;2;0;0;0m▀\u001b[38;2;0;0;0;48;2;0;0;0m▀\u001b[38;2;0;0;0;48;2;0;0;0m▀\u001b[38;2;0;0;0;48;2;0;0;0m▀\u001b[38;2;0;0;0;48;2;0;0;0m▀\u001b[38;2;0;0;0;48;2;0;0;0m▀\u001b[38;2;0;0;0;48;2;0;0;0m▀\u001b[38;2;0;0;0;48;2;0;0;0m▀\u001b[38;2;0;0;0;48;2;0;0;0m▀\u001b[38;2;0;0;0;48;2;0;0;0m▀\u001b[38;2;0;0;0;48;2;0;0;0m▀\u001b[38;2;0;0;0;48;2;0;0;0m▀\u001b[38;2;0;0;0;48;2;0;0;0m▀\u001b[38;2;0;0;0;48;2;0;0;0m▀\u001b[38;2;0;0;0;48;2;0;0;0m▀\u001b[0m\n",
       "\u001b[0m\u001b[38;2;0;0;0;48;2;0;0;0m▀\u001b[38;2;0;0;0;48;2;0;0;0m▀\u001b[38;2;0;0;0;48;2;0;0;0m▀\u001b[38;2;0;0;0;48;2;0;0;0m▀\u001b[38;2;0;0;0;48;2;0;0;0m▀\u001b[38;2;0;0;0;48;2;0;0;0m▀\u001b[38;2;0;0;0;48;2;0;0;0m▀\u001b[38;2;0;0;0;48;2;0;0;0m▀\u001b[38;2;0;0;0;48;2;0;0;0m▀\u001b[38;2;0;0;0;48;2;0;0;0m▀\u001b[38;2;0;0;0;48;2;0;0;0m▀\u001b[38;2;0;0;0;48;2;0;0;0m▀\u001b[38;2;0;0;0;48;2;0;0;0m▀\u001b[38;2;0;0;0;48;2;0;0;0m▀\u001b[38;2;26;26;26;48;2;0;0;0m▀\u001b[38;2;19;19;19;48;2;0;0;0m▀\u001b[38;2;42;42;42;48;2;0;0;0m▀\u001b[38;2;29;29;29;48;2;4;4;4m▀\u001b[38;2;20;20;20;48;2;0;0;0m▀\u001b[38;2;4;4;4;48;2;0;0;0m▀\u001b[38;2;145;145;145;48;2;0;0;0m▀\u001b[38;2;56;56;56;48;2;58;58;58m▀\u001b[38;2;227;227;227;48;2;0;0;0m▀\u001b[38;2;46;46;46;48;2;14;14;14m▀\u001b[38;2;202;202;202;48;2;0;0;0m▀\u001b[38;2;33;33;33;48;2;0;0;0m▀\u001b[38;2;20;20;20;48;2;9;9;9m▀\u001b[38;2;11;11;11;48;2;0;0;0m▀\u001b[38;2;7;7;7;48;2;14;14;14m▀\u001b[38;2;0;0;0;48;2;0;0;0m▀\u001b[38;2;15;15;15;48;2;0;0;0m▀\u001b[38;2;10;10;10;48;2;0;0;0m▀\u001b[38;2;44;44;44;48;2;0;0;0m▀\u001b[38;2;32;32;32;48;2;0;0;0m▀\u001b[38;2;0;0;0;48;2;0;0;0m▀\u001b[38;2;0;0;0;48;2;0;0;0m▀\u001b[38;2;8;8;8;48;2;0;0;0m▀\u001b[38;2;0;0;0;48;2;0;0;0m▀\u001b[38;2;0;0;0;48;2;0;0;0m▀\u001b[38;2;0;0;0;48;2;0;0;0m▀\u001b[38;2;0;0;0;48;2;0;0;0m▀\u001b[38;2;0;0;0;48;2;0;0;0m▀\u001b[38;2;0;0;0;48;2;0;0;0m▀\u001b[38;2;0;0;0;48;2;0;0;0m▀\u001b[38;2;0;0;0;48;2;0;0;0m▀\u001b[38;2;0;0;0;48;2;0;0;0m▀\u001b[38;2;0;0;0;48;2;0;0;0m▀\u001b[38;2;0;0;0;48;2;0;0;0m▀\u001b[38;2;0;0;0;48;2;0;0;0m▀\u001b[38;2;0;0;0;48;2;0;0;0m▀\u001b[38;2;0;0;0;48;2;0;0;0m▀\u001b[38;2;0;0;0;48;2;0;0;0m▀\u001b[38;2;0;0;0;48;2;0;0;0m▀\u001b[38;2;0;0;0;48;2;0;0;0m▀\u001b[38;2;0;0;0;48;2;0;0;0m▀\u001b[38;2;0;0;0;48;2;0;0;0m▀\u001b[0m\n",
       "\u001b[0m\u001b[38;2;0;0;0;48;2;0;0;0m▀\u001b[38;2;0;0;0;48;2;0;0;0m▀\u001b[38;2;0;0;0;48;2;0;0;0m▀\u001b[38;2;0;0;0;48;2;0;0;0m▀\u001b[38;2;0;0;0;48;2;0;0;0m▀\u001b[38;2;0;0;0;48;2;0;0;0m▀\u001b[38;2;0;0;0;48;2;0;0;0m▀\u001b[38;2;0;0;0;48;2;0;0;0m▀\u001b[38;2;0;0;0;48;2;0;0;0m▀\u001b[38;2;0;0;0;48;2;0;0;0m▀\u001b[38;2;0;0;0;48;2;0;0;0m▀\u001b[38;2;0;0;0;48;2;0;0;0m▀\u001b[38;2;0;0;0;48;2;0;0;0m▀\u001b[38;2;0;0;0;48;2;0;0;0m▀\u001b[38;2;0;0;0;48;2;0;0;0m▀\u001b[38;2;0;0;0;48;2;0;0;0m▀\u001b[38;2;5;5;5;48;2;0;0;0m▀\u001b[38;2;3;3;3;48;2;0;0;0m▀\u001b[38;2;0;0;0;48;2;0;0;0m▀\u001b[38;2;0;0;0;48;2;0;0;0m▀\u001b[38;2;79;79;79;48;2;2;2;2m▀\u001b[38;2;44;44;44;48;2;37;37;37m▀\u001b[38;2;200;200;200;48;2;0;0;0m▀\u001b[38;2;24;24;24;48;2;45;45;45m▀\u001b[38;2;188;188;188;48;2;0;0;0m▀\u001b[38;2;0;0;0;48;2;0;0;0m▀\u001b[38;2;86;86;86;48;2;0;0;0m▀\u001b[38;2;14;14;14;48;2;0;0;0m▀\u001b[38;2;7;7;7;48;2;16;16;16m▀\u001b[38;2;20;20;20;48;2;0;0;0m▀\u001b[38;2;1;1;1;48;2;4;4;4m▀\u001b[38;2;0;0;0;48;2;0;0;0m▀\u001b[38;2;0;0;0;48;2;0;0;0m▀\u001b[38;2;0;0;0;48;2;0;0;0m▀\u001b[38;2;0;0;0;48;2;0;0;0m▀\u001b[38;2;0;0;0;48;2;0;0;0m▀\u001b[38;2;0;0;0;48;2;0;0;0m▀\u001b[38;2;0;0;0;48;2;0;0;0m▀\u001b[38;2;0;0;0;48;2;0;0;0m▀\u001b[38;2;0;0;0;48;2;0;0;0m▀\u001b[38;2;0;0;0;48;2;0;0;0m▀\u001b[38;2;0;0;0;48;2;0;0;0m▀\u001b[38;2;0;0;0;48;2;0;0;0m▀\u001b[38;2;0;0;0;48;2;0;0;0m▀\u001b[38;2;0;0;0;48;2;0;0;0m▀\u001b[38;2;0;0;0;48;2;0;0;0m▀\u001b[38;2;0;0;0;48;2;0;0;0m▀\u001b[38;2;0;0;0;48;2;0;0;0m▀\u001b[38;2;0;0;0;48;2;0;0;0m▀\u001b[38;2;0;0;0;48;2;0;0;0m▀\u001b[38;2;0;0;0;48;2;0;0;0m▀\u001b[38;2;0;0;0;48;2;0;0;0m▀\u001b[38;2;0;0;0;48;2;0;0;0m▀\u001b[38;2;0;0;0;48;2;0;0;0m▀\u001b[38;2;0;0;0;48;2;0;0;0m▀\u001b[38;2;0;0;0;48;2;0;0;0m▀\u001b[0m\n",
       "\u001b[0m\u001b[38;2;0;0;0;48;2;0;0;0m▀\u001b[38;2;0;0;0;48;2;0;0;0m▀\u001b[38;2;0;0;0;48;2;0;0;0m▀\u001b[38;2;0;0;0;48;2;0;0;0m▀\u001b[38;2;0;0;0;48;2;0;0;0m▀\u001b[38;2;0;0;0;48;2;0;0;0m▀\u001b[38;2;0;0;0;48;2;0;0;0m▀\u001b[38;2;0;0;0;48;2;0;0;0m▀\u001b[38;2;0;0;0;48;2;0;0;0m▀\u001b[38;2;0;0;0;48;2;0;0;0m▀\u001b[38;2;0;0;0;48;2;0;0;0m▀\u001b[38;2;0;0;0;48;2;0;0;0m▀\u001b[38;2;0;0;0;48;2;0;0;0m▀\u001b[38;2;0;0;0;48;2;0;0;0m▀\u001b[38;2;0;0;0;48;2;0;0;0m▀\u001b[38;2;0;0;0;48;2;0;0;0m▀\u001b[38;2;0;0;0;48;2;0;0;0m▀\u001b[38;2;0;0;0;48;2;0;0;0m▀\u001b[38;2;0;0;0;48;2;0;0;0m▀\u001b[38;2;0;0;0;48;2;0;0;0m▀\u001b[38;2;48;48;48;48;2;0;0;0m▀\u001b[38;2;34;34;34;48;2;3;3;3m▀\u001b[38;2;109;109;109;48;2;0;0;0m▀\u001b[38;2;52;52;52;48;2;50;50;50m▀\u001b[38;2;202;202;202;48;2;0;0;0m▀\u001b[38;2;0;0;0;48;2;30;30;30m▀\u001b[38;2;147;147;147;48;2;0;0;0m▀\u001b[38;2;0;0;0;48;2;0;0;0m▀\u001b[38;2;91;91;91;48;2;0;0;0m▀\u001b[38;2;47;47;47;48;2;0;0;0m▀\u001b[38;2;50;50;50;48;2;0;0;0m▀\u001b[38;2;46;46;46;48;2;0;0;0m▀\u001b[38;2;14;14;14;48;2;0;0;0m▀\u001b[38;2;31;31;31;48;2;0;0;0m▀\u001b[38;2;2;2;2;48;2;6;6;6m▀\u001b[38;2;0;0;0;48;2;0;0;0m▀\u001b[38;2;0;0;0;48;2;0;0;0m▀\u001b[38;2;0;0;0;48;2;0;0;0m▀\u001b[38;2;0;0;0;48;2;0;0;0m▀\u001b[38;2;0;0;0;48;2;0;0;0m▀\u001b[38;2;0;0;0;48;2;0;0;0m▀\u001b[38;2;0;0;0;48;2;0;0;0m▀\u001b[38;2;0;0;0;48;2;0;0;0m▀\u001b[38;2;0;0;0;48;2;0;0;0m▀\u001b[38;2;0;0;0;48;2;0;0;0m▀\u001b[38;2;0;0;0;48;2;0;0;0m▀\u001b[38;2;0;0;0;48;2;0;0;0m▀\u001b[38;2;0;0;0;48;2;0;0;0m▀\u001b[38;2;0;0;0;48;2;0;0;0m▀\u001b[38;2;0;0;0;48;2;0;0;0m▀\u001b[38;2;0;0;0;48;2;0;0;0m▀\u001b[38;2;0;0;0;48;2;0;0;0m▀\u001b[38;2;0;0;0;48;2;0;0;0m▀\u001b[38;2;0;0;0;48;2;0;0;0m▀\u001b[38;2;0;0;0;48;2;0;0;0m▀\u001b[38;2;0;0;0;48;2;0;0;0m▀\u001b[0m\n",
       "\u001b[0m\u001b[38;2;0;0;0;48;2;0;0;0m▀\u001b[38;2;0;0;0;48;2;0;0;0m▀\u001b[38;2;0;0;0;48;2;0;0;0m▀\u001b[38;2;0;0;0;48;2;0;0;0m▀\u001b[38;2;0;0;0;48;2;0;0;0m▀\u001b[38;2;0;0;0;48;2;0;0;0m▀\u001b[38;2;0;0;0;48;2;0;0;0m▀\u001b[38;2;0;0;0;48;2;0;0;0m▀\u001b[38;2;0;0;0;48;2;0;0;0m▀\u001b[38;2;0;0;0;48;2;0;0;0m▀\u001b[38;2;0;0;0;48;2;0;0;0m▀\u001b[38;2;0;0;0;48;2;0;0;0m▀\u001b[38;2;0;0;0;48;2;0;0;0m▀\u001b[38;2;0;0;0;48;2;0;0;0m▀\u001b[38;2;0;0;0;48;2;0;0;0m▀\u001b[38;2;0;0;0;48;2;0;0;0m▀\u001b[38;2;0;0;0;48;2;0;0;0m▀\u001b[38;2;0;0;0;48;2;0;0;0m▀\u001b[38;2;0;0;0;48;2;0;0;0m▀\u001b[38;2;0;0;0;48;2;0;0;0m▀\u001b[38;2;4;4;4;48;2;0;0;0m▀\u001b[38;2;3;3;3;48;2;0;0;0m▀\u001b[38;2;67;67;67;48;2;1;1;1m▀\u001b[38;2;46;46;46;48;2;9;9;9m▀\u001b[38;2;131;131;131;48;2;0;0;0m▀\u001b[38;2;43;43;43;48;2;62;62;62m▀\u001b[38;2;176;176;176;48;2;0;0;0m▀\u001b[38;2;0;0;0;48;2;0;0;0m▀\u001b[38;2;180;180;180;48;2;0;0;0m▀\u001b[38;2;13;13;13;48;2;0;0;0m▀\u001b[38;2;160;160;160;48;2;0;0;0m▀\u001b[38;2;38;38;38;48;2;0;0;0m▀\u001b[38;2;87;87;87;48;2;0;0;0m▀\u001b[38;2;45;45;45;48;2;0;0;0m▀\u001b[38;2;19;19;19;48;2;2;2;2m▀\u001b[38;2;34;34;34;48;2;0;0;0m▀\u001b[38;2;4;4;4;48;2;4;4;4m▀\u001b[38;2;7;7;7;48;2;0;0;0m▀\u001b[38;2;0;0;0;48;2;1;1;1m▀\u001b[38;2;0;0;0;48;2;0;0;0m▀\u001b[38;2;0;0;0;48;2;0;0;0m▀\u001b[38;2;0;0;0;48;2;0;0;0m▀\u001b[38;2;0;0;0;48;2;0;0;0m▀\u001b[38;2;0;0;0;48;2;0;0;0m▀\u001b[38;2;0;0;0;48;2;0;0;0m▀\u001b[38;2;0;0;0;48;2;0;0;0m▀\u001b[38;2;0;0;0;48;2;0;0;0m▀\u001b[38;2;0;0;0;48;2;0;0;0m▀\u001b[38;2;0;0;0;48;2;0;0;0m▀\u001b[38;2;0;0;0;48;2;0;0;0m▀\u001b[38;2;0;0;0;48;2;0;0;0m▀\u001b[38;2;0;0;0;48;2;0;0;0m▀\u001b[38;2;0;0;0;48;2;0;0;0m▀\u001b[38;2;0;0;0;48;2;0;0;0m▀\u001b[38;2;0;0;0;48;2;0;0;0m▀\u001b[38;2;0;0;0;48;2;0;0;0m▀\u001b[0m\n",
       "\u001b[0m\u001b[38;2;0;0;0;48;2;0;0;0m▀\u001b[38;2;0;0;0;48;2;0;0;0m▀\u001b[38;2;0;0;0;48;2;0;0;0m▀\u001b[38;2;0;0;0;48;2;0;0;0m▀\u001b[38;2;0;0;0;48;2;0;0;0m▀\u001b[38;2;0;0;0;48;2;0;0;0m▀\u001b[38;2;0;0;0;48;2;0;0;0m▀\u001b[38;2;0;0;0;48;2;0;0;0m▀\u001b[38;2;0;0;0;48;2;0;0;0m▀\u001b[38;2;0;0;0;48;2;0;0;0m▀\u001b[38;2;0;0;0;48;2;0;0;0m▀\u001b[38;2;0;0;0;48;2;0;0;0m▀\u001b[38;2;0;0;0;48;2;0;0;0m▀\u001b[38;2;0;0;0;48;2;0;0;0m▀\u001b[38;2;0;0;0;48;2;0;0;0m▀\u001b[38;2;0;0;0;48;2;0;0;0m▀\u001b[38;2;0;0;0;48;2;0;0;0m▀\u001b[38;2;0;0;0;48;2;0;0;0m▀\u001b[38;2;0;0;0;48;2;0;0;0m▀\u001b[38;2;0;0;0;48;2;0;0;0m▀\u001b[38;2;0;0;0;48;2;0;0;0m▀\u001b[38;2;0;0;0;48;2;0;0;0m▀\u001b[38;2;12;12;12;48;2;0;0;0m▀\u001b[38;2;8;8;8;48;2;0;0;0m▀\u001b[38;2;88;88;88;48;2;3;3;3m▀\u001b[38;2;58;58;58;48;2;21;21;21m▀\u001b[38;2;116;116;116;48;2;0;0;0m▀\u001b[38;2;19;19;19;48;2;43;43;43m▀\u001b[38;2;194;194;194;48;2;0;0;0m▀\u001b[38;2;0;0;0;48;2;5;5;5m▀\u001b[38;2;218;218;218;48;2;0;0;0m▀\u001b[38;2;11;11;11;48;2;0;0;0m▀\u001b[38;2;172;172;172;48;2;0;0;0m▀\u001b[38;2;3;3;3;48;2;0;0;0m▀\u001b[38;2;104;104;104;48;2;0;0;0m▀\u001b[38;2;44;44;44;48;2;0;0;0m▀\u001b[38;2;28;28;28;48;2;0;0;0m▀\u001b[38;2;37;37;37;48;2;0;0;0m▀\u001b[38;2;4;4;4;48;2;7;7;7m▀\u001b[38;2;8;8;8;48;2;0;0;0m▀\u001b[38;2;0;0;0;48;2;1;1;1m▀\u001b[38;2;0;0;0;48;2;0;0;0m▀\u001b[38;2;0;0;0;48;2;0;0;0m▀\u001b[38;2;0;0;0;48;2;0;0;0m▀\u001b[38;2;0;0;0;48;2;0;0;0m▀\u001b[38;2;0;0;0;48;2;0;0;0m▀\u001b[38;2;0;0;0;48;2;0;0;0m▀\u001b[38;2;0;0;0;48;2;0;0;0m▀\u001b[38;2;0;0;0;48;2;0;0;0m▀\u001b[38;2;0;0;0;48;2;0;0;0m▀\u001b[38;2;0;0;0;48;2;0;0;0m▀\u001b[38;2;0;0;0;48;2;0;0;0m▀\u001b[38;2;0;0;0;48;2;0;0;0m▀\u001b[38;2;0;0;0;48;2;0;0;0m▀\u001b[38;2;0;0;0;48;2;0;0;0m▀\u001b[38;2;0;0;0;48;2;0;0;0m▀\u001b[0m\n",
       "\u001b[0m\u001b[38;2;0;0;0;48;2;0;0;0m▀\u001b[38;2;0;0;0;48;2;0;0;0m▀\u001b[38;2;0;0;0;48;2;0;0;0m▀\u001b[38;2;0;0;0;48;2;0;0;0m▀\u001b[38;2;0;0;0;48;2;0;0;0m▀\u001b[38;2;0;0;0;48;2;0;0;0m▀\u001b[38;2;0;0;0;48;2;0;0;0m▀\u001b[38;2;0;0;0;48;2;0;0;0m▀\u001b[38;2;0;0;0;48;2;0;0;0m▀\u001b[38;2;0;0;0;48;2;0;0;0m▀\u001b[38;2;0;0;0;48;2;0;0;0m▀\u001b[38;2;0;0;0;48;2;0;0;0m▀\u001b[38;2;0;0;0;48;2;0;0;0m▀\u001b[38;2;0;0;0;48;2;0;0;0m▀\u001b[38;2;0;0;0;48;2;0;0;0m▀\u001b[38;2;0;0;0;48;2;0;0;0m▀\u001b[38;2;0;0;0;48;2;0;0;0m▀\u001b[38;2;0;0;0;48;2;0;0;0m▀\u001b[38;2;0;0;0;48;2;0;0;0m▀\u001b[38;2;0;0;0;48;2;0;0;0m▀\u001b[38;2;0;0;0;48;2;0;0;0m▀\u001b[38;2;0;0;0;48;2;0;0;0m▀\u001b[38;2;0;0;0;48;2;0;0;0m▀\u001b[38;2;0;0;0;48;2;0;0;0m▀\u001b[38;2;27;27;27;48;2;0;0;0m▀\u001b[38;2;19;19;19;48;2;0;0;0m▀\u001b[38;2;75;75;75;48;2;1;1;1m▀\u001b[38;2;50;50;50;48;2;12;12;12m▀\u001b[38;2;100;100;100;48;2;2;2;2m▀\u001b[38;2;32;32;32;48;2;37;37;37m▀\u001b[38;2;177;177;177;48;2;0;0;0m▀\u001b[38;2;3;3;3;48;2;17;17;17m▀\u001b[38;2;201;201;201;48;2;0;0;0m▀\u001b[38;2;0;0;0;48;2;0;0;0m▀\u001b[38;2;187;187;187;48;2;0;0;0m▀\u001b[38;2;9;9;9;48;2;0;0;0m▀\u001b[38;2;121;121;121;48;2;0;0;0m▀\u001b[38;2;33;33;33;48;2;0;0;0m▀\u001b[38;2;24;24;24;48;2;5;5;5m▀\u001b[38;2;47;47;47;48;2;0;0;0m▀\u001b[38;2;2;2;2;48;2;11;11;11m▀\u001b[38;2;0;0;0;48;2;0;0;0m▀\u001b[38;2;0;0;0;48;2;0;0;0m▀\u001b[38;2;0;0;0;48;2;0;0;0m▀\u001b[38;2;0;0;0;48;2;0;0;0m▀\u001b[38;2;0;0;0;48;2;0;0;0m▀\u001b[38;2;0;0;0;48;2;0;0;0m▀\u001b[38;2;0;0;0;48;2;0;0;0m▀\u001b[38;2;0;0;0;48;2;0;0;0m▀\u001b[38;2;0;0;0;48;2;0;0;0m▀\u001b[38;2;0;0;0;48;2;0;0;0m▀\u001b[38;2;0;0;0;48;2;0;0;0m▀\u001b[38;2;0;0;0;48;2;0;0;0m▀\u001b[38;2;0;0;0;48;2;0;0;0m▀\u001b[38;2;0;0;0;48;2;0;0;0m▀\u001b[38;2;0;0;0;48;2;0;0;0m▀\u001b[0m\n",
       "\u001b[0m\u001b[38;2;0;0;0;48;2;0;0;0m▀\u001b[38;2;0;0;0;48;2;0;0;0m▀\u001b[38;2;0;0;0;48;2;0;0;0m▀\u001b[38;2;0;0;0;48;2;0;0;0m▀\u001b[38;2;0;0;0;48;2;0;0;0m▀\u001b[38;2;0;0;0;48;2;0;0;0m▀\u001b[38;2;0;0;0;48;2;0;0;0m▀\u001b[38;2;0;0;0;48;2;0;0;0m▀\u001b[38;2;0;0;0;48;2;0;0;0m▀\u001b[38;2;0;0;0;48;2;0;0;0m▀\u001b[38;2;0;0;0;48;2;0;0;0m▀\u001b[38;2;0;0;0;48;2;0;0;0m▀\u001b[38;2;0;0;0;48;2;0;0;0m▀\u001b[38;2;0;0;0;48;2;0;0;0m▀\u001b[38;2;0;0;0;48;2;0;0;0m▀\u001b[38;2;0;0;0;48;2;0;0;0m▀\u001b[38;2;0;0;0;48;2;0;0;0m▀\u001b[38;2;0;0;0;48;2;0;0;0m▀\u001b[38;2;0;0;0;48;2;0;0;0m▀\u001b[38;2;0;0;0;48;2;0;0;0m▀\u001b[38;2;0;0;0;48;2;0;0;0m▀\u001b[38;2;0;0;0;48;2;0;0;0m▀\u001b[38;2;0;0;0;48;2;0;0;0m▀\u001b[38;2;0;0;0;48;2;0;0;0m▀\u001b[38;2;0;0;0;48;2;0;0;0m▀\u001b[38;2;0;0;0;48;2;0;0;0m▀\u001b[38;2;15;15;15;48;2;0;0;0m▀\u001b[38;2;11;11;11;48;2;0;0;0m▀\u001b[38;2;57;57;57;48;2;1;1;1m▀\u001b[38;2;40;40;40;48;2;4;4;4m▀\u001b[38;2;78;78;78;48;2;3;3;3m▀\u001b[38;2;40;40;40;48;2;19;19;19m▀\u001b[38;2;199;199;199;48;2;0;0;0m▀\u001b[38;2;21;21;21;48;2;70;70;70m▀\u001b[38;2;232;232;232;48;2;0;0;0m▀\u001b[38;2;28;28;28;48;2;0;0;0m▀\u001b[38;2;191;191;191;48;2;0;0;0m▀\u001b[38;2;8;8;8;48;2;0;0;0m▀\u001b[38;2;88;88;88;48;2;0;0;0m▀\u001b[38;2;21;21;21;48;2;0;0;0m▀\u001b[38;2;3;3;3;48;2;16;16;16m▀\u001b[38;2;18;18;18;48;2;0;0;0m▀\u001b[38;2;1;1;1;48;2;3;3;3m▀\u001b[38;2;0;0;0;48;2;0;0;0m▀\u001b[38;2;0;0;0;48;2;0;0;0m▀\u001b[38;2;0;0;0;48;2;0;0;0m▀\u001b[38;2;0;0;0;48;2;0;0;0m▀\u001b[38;2;0;0;0;48;2;0;0;0m▀\u001b[38;2;0;0;0;48;2;0;0;0m▀\u001b[38;2;0;0;0;48;2;0;0;0m▀\u001b[38;2;0;0;0;48;2;0;0;0m▀\u001b[38;2;0;0;0;48;2;0;0;0m▀\u001b[38;2;0;0;0;48;2;0;0;0m▀\u001b[38;2;0;0;0;48;2;0;0;0m▀\u001b[38;2;0;0;0;48;2;0;0;0m▀\u001b[38;2;0;0;0;48;2;0;0;0m▀\u001b[0m\n",
       "\u001b[0m\u001b[38;2;0;0;0;48;2;0;0;0m▀\u001b[38;2;0;0;0;48;2;0;0;0m▀\u001b[38;2;0;0;0;48;2;0;0;0m▀\u001b[38;2;0;0;0;48;2;0;0;0m▀\u001b[38;2;0;0;0;48;2;0;0;0m▀\u001b[38;2;0;0;0;48;2;0;0;0m▀\u001b[38;2;0;0;0;48;2;0;0;0m▀\u001b[38;2;0;0;0;48;2;0;0;0m▀\u001b[38;2;0;0;0;48;2;0;0;0m▀\u001b[38;2;0;0;0;48;2;0;0;0m▀\u001b[38;2;0;0;0;48;2;0;0;0m▀\u001b[38;2;0;0;0;48;2;0;0;0m▀\u001b[38;2;0;0;0;48;2;0;0;0m▀\u001b[38;2;0;0;0;48;2;0;0;0m▀\u001b[38;2;0;0;0;48;2;0;0;0m▀\u001b[38;2;0;0;0;48;2;0;0;0m▀\u001b[38;2;0;0;0;48;2;0;0;0m▀\u001b[38;2;0;0;0;48;2;0;0;0m▀\u001b[38;2;0;0;0;48;2;0;0;0m▀\u001b[38;2;0;0;0;48;2;0;0;0m▀\u001b[38;2;0;0;0;48;2;0;0;0m▀\u001b[38;2;0;0;0;48;2;0;0;0m▀\u001b[38;2;0;0;0;48;2;0;0;0m▀\u001b[38;2;0;0;0;48;2;0;0;0m▀\u001b[38;2;0;0;0;48;2;0;0;0m▀\u001b[38;2;0;0;0;48;2;0;0;0m▀\u001b[38;2;14;14;14;48;2;0;0;0m▀\u001b[38;2;0;0;0;48;2;6;6;6m▀\u001b[38;2;50;50;50;48;2;0;0;0m▀\u001b[38;2;17;17;17;48;2;4;4;4m▀\u001b[38;2;99;99;99;48;2;0;0;0m▀\u001b[38;2;58;58;58;48;2;0;0;0m▀\u001b[38;2;213;213;213;48;2;0;0;0m▀\u001b[38;2;116;116;116;48;2;47;47;47m▀\u001b[38;2;255;255;255;48;2;0;0;0m▀\u001b[38;2;55;55;55;48;2;0;0;0m▀\u001b[38;2;226;226;226;48;2;0;0;0m▀\u001b[38;2;38;38;38;48;2;0;0;0m▀\u001b[38;2;72;72;72;48;2;11;11;11m▀\u001b[38;2;0;0;0;48;2;0;0;0m▀\u001b[38;2;17;17;17;48;2;22;22;22m▀\u001b[38;2;0;0;0;48;2;0;0;0m▀\u001b[38;2;0;0;0;48;2;3;3;3m▀\u001b[38;2;0;0;0;48;2;0;0;0m▀\u001b[38;2;0;0;0;48;2;0;0;0m▀\u001b[38;2;0;0;0;48;2;0;0;0m▀\u001b[38;2;0;0;0;48;2;0;0;0m▀\u001b[38;2;0;0;0;48;2;0;0;0m▀\u001b[38;2;0;0;0;48;2;0;0;0m▀\u001b[38;2;0;0;0;48;2;0;0;0m▀\u001b[38;2;0;0;0;48;2;0;0;0m▀\u001b[38;2;0;0;0;48;2;0;0;0m▀\u001b[38;2;0;0;0;48;2;0;0;0m▀\u001b[38;2;0;0;0;48;2;0;0;0m▀\u001b[38;2;0;0;0;48;2;0;0;0m▀\u001b[38;2;0;0;0;48;2;0;0;0m▀\u001b[0m\n",
       "\u001b[0m\u001b[38;2;0;0;0;48;2;0;0;0m▀\u001b[38;2;0;0;0;48;2;0;0;0m▀\u001b[38;2;0;0;0;48;2;0;0;0m▀\u001b[38;2;0;0;0;48;2;0;0;0m▀\u001b[38;2;0;0;0;48;2;0;0;0m▀\u001b[38;2;0;0;0;48;2;0;0;0m▀\u001b[38;2;0;0;0;48;2;0;0;0m▀\u001b[38;2;0;0;0;48;2;0;0;0m▀\u001b[38;2;0;0;0;48;2;0;0;0m▀\u001b[38;2;0;0;0;48;2;0;0;0m▀\u001b[38;2;0;0;0;48;2;0;0;0m▀\u001b[38;2;0;0;0;48;2;0;0;0m▀\u001b[38;2;0;0;0;48;2;0;0;0m▀\u001b[38;2;0;0;0;48;2;0;0;0m▀\u001b[38;2;0;0;0;48;2;0;0;0m▀\u001b[38;2;0;0;0;48;2;0;0;0m▀\u001b[38;2;0;0;0;48;2;0;0;0m▀\u001b[38;2;0;0;0;48;2;0;0;0m▀\u001b[38;2;0;0;0;48;2;0;0;0m▀\u001b[38;2;0;0;0;48;2;0;0;0m▀\u001b[38;2;0;0;0;48;2;0;0;0m▀\u001b[38;2;0;0;0;48;2;0;0;0m▀\u001b[38;2;12;12;12;48;2;0;0;0m▀\u001b[38;2;0;0;0;48;2;5;5;5m▀\u001b[38;2;50;50;50;48;2;0;0;0m▀\u001b[38;2;11;11;11;48;2;9;9;9m▀\u001b[38;2;95;95;95;48;2;0;0;0m▀\u001b[38;2;45;45;45;48;2;1;1;1m▀\u001b[38;2;139;139;139;48;2;0;0;0m▀\u001b[38;2;61;61;61;48;2;0;0;0m▀\u001b[38;2;171;171;171;48;2;0;0;0m▀\u001b[38;2;50;50;50;48;2;0;0;0m▀\u001b[38;2;255;255;255;48;2;0;0;0m▀\u001b[38;2;100;100;100;48;2;0;0;0m▀\u001b[38;2;253;253;253;48;2;0;0;0m▀\u001b[38;2;54;54;54;48;2;0;0;0m▀\u001b[38;2;230;230;230;48;2;0;0;0m▀\u001b[38;2;49;49;49;48;2;0;0;0m▀\u001b[38;2;60;60;60;48;2;11;11;11m▀\u001b[38;2;0;0;0;48;2;0;0;0m▀\u001b[38;2;0;0;0;48;2;18;18;18m▀\u001b[38;2;0;0;0;48;2;0;0;0m▀\u001b[38;2;3;3;3;48;2;0;0;0m▀\u001b[38;2;0;0;0;48;2;0;0;0m▀\u001b[38;2;0;0;0;48;2;0;0;0m▀\u001b[38;2;0;0;0;48;2;0;0;0m▀\u001b[38;2;0;0;0;48;2;0;0;0m▀\u001b[38;2;0;0;0;48;2;0;0;0m▀\u001b[38;2;0;0;0;48;2;0;0;0m▀\u001b[38;2;0;0;0;48;2;0;0;0m▀\u001b[38;2;0;0;0;48;2;0;0;0m▀\u001b[38;2;0;0;0;48;2;0;0;0m▀\u001b[38;2;0;0;0;48;2;0;0;0m▀\u001b[38;2;0;0;0;48;2;0;0;0m▀\u001b[38;2;0;0;0;48;2;0;0;0m▀\u001b[38;2;0;0;0;48;2;0;0;0m▀\u001b[0m\n",
       "\u001b[0m\u001b[38;2;0;0;0;48;2;0;0;0m▀\u001b[38;2;0;0;0;48;2;0;0;0m▀\u001b[38;2;0;0;0;48;2;0;0;0m▀\u001b[38;2;0;0;0;48;2;0;0;0m▀\u001b[38;2;0;0;0;48;2;0;0;0m▀\u001b[38;2;0;0;0;48;2;0;0;0m▀\u001b[38;2;0;0;0;48;2;0;0;0m▀\u001b[38;2;0;0;0;48;2;0;0;0m▀\u001b[38;2;0;0;0;48;2;0;0;0m▀\u001b[38;2;0;0;0;48;2;0;0;0m▀\u001b[38;2;0;0;0;48;2;0;0;0m▀\u001b[38;2;0;0;0;48;2;0;0;0m▀\u001b[38;2;0;0;0;48;2;0;0;0m▀\u001b[38;2;0;0;0;48;2;0;0;0m▀\u001b[38;2;0;0;0;48;2;0;0;0m▀\u001b[38;2;0;0;0;48;2;0;0;0m▀\u001b[38;2;0;0;0;48;2;0;0;0m▀\u001b[38;2;0;0;0;48;2;0;0;0m▀\u001b[38;2;7;7;7;48;2;0;0;0m▀\u001b[38;2;0;0;0;48;2;3;3;3m▀\u001b[38;2;38;38;38;48;2;0;0;0m▀\u001b[38;2;7;7;7;48;2;8;8;8m▀\u001b[38;2;88;88;88;48;2;0;0;0m▀\u001b[38;2;35;35;35;48;2;8;8;8m▀\u001b[38;2;139;139;139;48;2;0;0;0m▀\u001b[38;2;62;62;62;48;2;0;0;0m▀\u001b[38;2;199;199;199;48;2;0;0;0m▀\u001b[38;2;59;59;59;48;2;0;0;0m▀\u001b[38;2;239;239;239;48;2;0;0;0m▀\u001b[38;2;54;54;54;48;2;0;0;0m▀\u001b[38;2;248;248;248;48;2;0;0;0m▀\u001b[38;2;51;51;51;48;2;0;0;0m▀\u001b[38;2;250;250;250;48;2;0;0;0m▀\u001b[38;2;62;62;62;48;2;0;0;0m▀\u001b[38;2;199;199;199;48;2;0;0;0m▀\u001b[38;2;39;39;39;48;2;0;0;0m▀\u001b[38;2;137;137;137;48;2;23;23;23m▀\u001b[38;2;0;0;0;48;2;0;0;0m▀\u001b[38;2;17;17;17;48;2;16;16;16m▀\u001b[38;2;0;0;0;48;2;0;0;0m▀\u001b[38;2;1;1;1;48;2;8;8;8m▀\u001b[38;2;0;0;0;48;2;0;0;0m▀\u001b[38;2;0;0;0;48;2;0;0;0m▀\u001b[38;2;0;0;0;48;2;0;0;0m▀\u001b[38;2;0;0;0;48;2;0;0;0m▀\u001b[38;2;0;0;0;48;2;0;0;0m▀\u001b[38;2;0;0;0;48;2;0;0;0m▀\u001b[38;2;0;0;0;48;2;0;0;0m▀\u001b[38;2;0;0;0;48;2;0;0;0m▀\u001b[38;2;0;0;0;48;2;0;0;0m▀\u001b[38;2;0;0;0;48;2;0;0;0m▀\u001b[38;2;0;0;0;48;2;0;0;0m▀\u001b[38;2;0;0;0;48;2;0;0;0m▀\u001b[38;2;0;0;0;48;2;0;0;0m▀\u001b[38;2;0;0;0;48;2;0;0;0m▀\u001b[38;2;0;0;0;48;2;0;0;0m▀\u001b[0m\n",
       "\u001b[0m\u001b[38;2;0;0;0;48;2;0;0;0m▀\u001b[38;2;0;0;0;48;2;0;0;0m▀\u001b[38;2;0;0;0;48;2;0;0;0m▀\u001b[38;2;0;0;0;48;2;0;0;0m▀\u001b[38;2;0;0;0;48;2;0;0;0m▀\u001b[38;2;0;0;0;48;2;0;0;0m▀\u001b[38;2;0;0;0;48;2;0;0;0m▀\u001b[38;2;0;0;0;48;2;0;0;0m▀\u001b[38;2;0;0;0;48;2;0;0;0m▀\u001b[38;2;0;0;0;48;2;0;0;0m▀\u001b[38;2;0;0;0;48;2;0;0;0m▀\u001b[38;2;0;0;0;48;2;0;0;0m▀\u001b[38;2;0;0;0;48;2;0;0;0m▀\u001b[38;2;0;0;0;48;2;0;0;0m▀\u001b[38;2;7;7;7;48;2;0;0;0m▀\u001b[38;2;0;0;0;48;2;3;3;3m▀\u001b[38;2;23;23;23;48;2;0;0;0m▀\u001b[38;2;7;7;7;48;2;2;2;2m▀\u001b[38;2;78;78;78;48;2;0;0;0m▀\u001b[38;2;20;20;20;48;2;16;16;16m▀\u001b[38;2;128;128;128;48;2;0;0;0m▀\u001b[38;2;61;61;61;48;2;0;0;0m▀\u001b[38;2;187;187;187;48;2;0;0;0m▀\u001b[38;2;65;65;65;48;2;0;0;0m▀\u001b[38;2;246;246;246;48;2;0;0;0m▀\u001b[38;2;61;61;61;48;2;0;0;0m▀\u001b[38;2;255;255;255;48;2;0;0;0m▀\u001b[38;2;60;60;60;48;2;0;0;0m▀\u001b[38;2;244;244;244;48;2;0;0;0m▀\u001b[38;2;56;56;56;48;2;0;0;0m▀\u001b[38;2;202;202;202;48;2;0;0;0m▀\u001b[38;2;38;38;38;48;2;0;0;0m▀\u001b[38;2;157;157;157;48;2;23;23;23m▀\u001b[38;2;1;1;1;48;2;0;0;0m▀\u001b[38;2;111;111;111;48;2;19;19;19m▀\u001b[38;2;0;0;0;48;2;0;0;0m▀\u001b[38;2;45;45;45;48;2;9;9;9m▀\u001b[38;2;0;0;0;48;2;0;0;0m▀\u001b[38;2;0;0;0;48;2;3;3;3m▀\u001b[38;2;0;0;0;48;2;0;0;0m▀\u001b[38;2;9;9;9;48;2;0;0;0m▀\u001b[38;2;0;0;0;48;2;0;0;0m▀\u001b[38;2;0;0;0;48;2;0;0;0m▀\u001b[38;2;0;0;0;48;2;0;0;0m▀\u001b[38;2;0;0;0;48;2;0;0;0m▀\u001b[38;2;0;0;0;48;2;0;0;0m▀\u001b[38;2;0;0;0;48;2;0;0;0m▀\u001b[38;2;0;0;0;48;2;0;0;0m▀\u001b[38;2;0;0;0;48;2;0;0;0m▀\u001b[38;2;0;0;0;48;2;0;0;0m▀\u001b[38;2;0;0;0;48;2;0;0;0m▀\u001b[38;2;0;0;0;48;2;0;0;0m▀\u001b[38;2;0;0;0;48;2;0;0;0m▀\u001b[38;2;0;0;0;48;2;0;0;0m▀\u001b[38;2;0;0;0;48;2;0;0;0m▀\u001b[38;2;0;0;0;48;2;0;0;0m▀\u001b[0m\n",
       "\u001b[0m\u001b[38;2;0;0;0;48;2;0;0;0m▀\u001b[38;2;0;0;0;48;2;0;0;0m▀\u001b[38;2;0;0;0;48;2;0;0;0m▀\u001b[38;2;0;0;0;48;2;0;0;0m▀\u001b[38;2;0;0;0;48;2;0;0;0m▀\u001b[38;2;0;0;0;48;2;0;0;0m▀\u001b[38;2;0;0;0;48;2;0;0;0m▀\u001b[38;2;0;0;0;48;2;0;0;0m▀\u001b[38;2;0;0;0;48;2;0;0;0m▀\u001b[38;2;0;0;0;48;2;0;0;0m▀\u001b[38;2;6;6;6;48;2;0;0;0m▀\u001b[38;2;0;0;0;48;2;2;2;2m▀\u001b[38;2;55;55;55;48;2;0;0;0m▀\u001b[38;2;5;5;5;48;2;17;17;17m▀\u001b[38;2;90;90;90;48;2;0;0;0m▀\u001b[38;2;50;50;50;48;2;0;0;0m▀\u001b[38;2;121;121;121;48;2;0;0;0m▀\u001b[38;2;61;61;61;48;2;0;0;0m▀\u001b[38;2;169;169;169;48;2;0;0;0m▀\u001b[38;2;73;73;73;48;2;0;0;0m▀\u001b[38;2;237;237;237;48;2;0;0;0m▀\u001b[38;2;57;57;57;48;2;0;0;0m▀\u001b[38;2;255;255;255;48;2;0;0;0m▀\u001b[38;2;62;62;62;48;2;0;0;0m▀\u001b[38;2;242;242;242;48;2;0;0;0m▀\u001b[38;2;57;57;57;48;2;0;0;0m▀\u001b[38;2;201;201;201;48;2;0;0;0m▀\u001b[38;2;37;37;37;48;2;0;0;0m▀\u001b[38;2;158;158;158;48;2;21;21;21m▀\u001b[38;2;1;1;1;48;2;0;0;0m▀\u001b[38;2;112;112;112;48;2;18;18;18m▀\u001b[38;2;0;0;0;48;2;0;0;0m▀\u001b[38;2;52;52;52;48;2;9;9;9m▀\u001b[38;2;0;0;0;48;2;0;0;0m▀\u001b[38;2;5;5;5;48;2;3;3;3m▀\u001b[38;2;0;0;0;48;2;0;0;0m▀\u001b[38;2;0;0;0;48;2;0;0;0m▀\u001b[38;2;0;0;0;48;2;0;0;0m▀\u001b[38;2;4;4;4;48;2;0;0;0m▀\u001b[38;2;0;0;0;48;2;0;0;0m▀\u001b[38;2;0;0;0;48;2;0;0;0m▀\u001b[38;2;0;0;0;48;2;0;0;0m▀\u001b[38;2;0;0;0;48;2;0;0;0m▀\u001b[38;2;0;0;0;48;2;0;0;0m▀\u001b[38;2;0;0;0;48;2;0;0;0m▀\u001b[38;2;0;0;0;48;2;0;0;0m▀\u001b[38;2;0;0;0;48;2;0;0;0m▀\u001b[38;2;0;0;0;48;2;0;0;0m▀\u001b[38;2;0;0;0;48;2;0;0;0m▀\u001b[38;2;0;0;0;48;2;0;0;0m▀\u001b[38;2;0;0;0;48;2;0;0;0m▀\u001b[38;2;0;0;0;48;2;0;0;0m▀\u001b[38;2;0;0;0;48;2;0;0;0m▀\u001b[38;2;0;0;0;48;2;0;0;0m▀\u001b[38;2;0;0;0;48;2;0;0;0m▀\u001b[38;2;0;0;0;48;2;0;0;0m▀\u001b[0m\n",
       "\u001b[0m\u001b[38;2;0;0;0;48;2;0;0;0m▀\u001b[38;2;0;0;0;48;2;0;0;0m▀\u001b[38;2;0;0;0;48;2;0;0;0m▀\u001b[38;2;0;0;0;48;2;0;0;0m▀\u001b[38;2;0;0;0;48;2;0;0;0m▀\u001b[38;2;0;0;0;48;2;0;0;0m▀\u001b[38;2;17;17;17;48;2;0;0;0m▀\u001b[38;2;0;0;0;48;2;7;7;7m▀\u001b[38;2;59;59;59;48;2;0;0;0m▀\u001b[38;2;16;16;16;48;2;8;8;8m▀\u001b[38;2;92;92;92;48;2;0;0;0m▀\u001b[38;2;50;50;50;48;2;0;0;0m▀\u001b[38;2;139;139;139;48;2;0;0;0m▀\u001b[38;2;70;70;70;48;2;10;10;10m▀\u001b[38;2;196;196;196;48;2;0;0;0m▀\u001b[38;2;47;47;47;48;2;0;0;0m▀\u001b[38;2;218;218;218;48;2;0;0;0m▀\u001b[38;2;44;44;44;48;2;0;0;0m▀\u001b[38;2;255;255;255;48;2;0;0;0m▀\u001b[38;2;66;66;66;48;2;0;0;0m▀\u001b[38;2;255;255;255;48;2;0;0;0m▀\u001b[38;2;58;58;58;48;2;0;0;0m▀\u001b[38;2;222;222;222;48;2;0;0;0m▀\u001b[38;2;51;51;51;48;2;0;0;0m▀\u001b[38;2;164;164;164;48;2;19;19;19m▀\u001b[38;2;16;16;16;48;2;0;0;0m▀\u001b[38;2;112;112;112;48;2;21;21;21m▀\u001b[38;2;0;0;0;48;2;0;0;0m▀\u001b[38;2;52;52;52;48;2;10;10;10m▀\u001b[38;2;0;0;0;48;2;0;0;0m▀\u001b[38;2;8;8;8;48;2;3;3;3m▀\u001b[38;2;0;0;0;48;2;0;0;0m▀\u001b[38;2;0;0;0;48;2;0;0;0m▀\u001b[38;2;0;0;0;48;2;0;0;0m▀\u001b[38;2;4;4;4;48;2;0;0;0m▀\u001b[38;2;0;0;0;48;2;0;0;0m▀\u001b[38;2;0;0;0;48;2;0;0;0m▀\u001b[38;2;0;0;0;48;2;0;0;0m▀\u001b[38;2;0;0;0;48;2;0;0;0m▀\u001b[38;2;0;0;0;48;2;0;0;0m▀\u001b[38;2;0;0;0;48;2;0;0;0m▀\u001b[38;2;0;0;0;48;2;0;0;0m▀\u001b[38;2;0;0;0;48;2;0;0;0m▀\u001b[38;2;0;0;0;48;2;0;0;0m▀\u001b[38;2;0;0;0;48;2;0;0;0m▀\u001b[38;2;0;0;0;48;2;0;0;0m▀\u001b[38;2;0;0;0;48;2;0;0;0m▀\u001b[38;2;0;0;0;48;2;0;0;0m▀\u001b[38;2;0;0;0;48;2;0;0;0m▀\u001b[38;2;0;0;0;48;2;0;0;0m▀\u001b[38;2;0;0;0;48;2;0;0;0m▀\u001b[38;2;0;0;0;48;2;0;0;0m▀\u001b[38;2;0;0;0;48;2;0;0;0m▀\u001b[38;2;0;0;0;48;2;0;0;0m▀\u001b[38;2;0;0;0;48;2;0;0;0m▀\u001b[38;2;0;0;0;48;2;0;0;0m▀\u001b[0m\n",
       "\u001b[0m\u001b[38;2;0;0;0;48;2;0;0;0m▀\u001b[38;2;0;0;0;48;2;0;0;0m▀\u001b[38;2;0;0;0;48;2;0;0;0m▀\u001b[38;2;0;0;0;48;2;0;0;0m▀\u001b[38;2;0;0;0;48;2;0;0;0m▀\u001b[38;2;0;0;0;48;2;0;0;0m▀\u001b[38;2;52;52;52;48;2;0;0;0m▀\u001b[38;2;3;3;3;48;2;32;32;32m▀\u001b[38;2;136;136;136;48;2;0;0;0m▀\u001b[38;2;35;35;35;48;2;24;24;24m▀\u001b[38;2;193;193;193;48;2;0;0;0m▀\u001b[38;2;46;46;46;48;2;0;0;0m▀\u001b[38;2;255;255;255;48;2;0;0;0m▀\u001b[38;2;68;68;68;48;2;0;0;0m▀\u001b[38;2;240;240;240;48;2;0;0;0m▀\u001b[38;2;55;55;55;48;2;0;0;0m▀\u001b[38;2;222;222;222;48;2;0;0;0m▀\u001b[38;2;46;46;46;48;2;0;0;0m▀\u001b[38;2;210;210;210;48;2;0;0;0m▀\u001b[38;2;20;20;20;48;2;0;0;0m▀\u001b[38;2;173;173;173;48;2;13;13;13m▀\u001b[38;2;18;18;18;48;2;0;0;0m▀\u001b[38;2;134;134;134;48;2;23;23;23m▀\u001b[38;2;0;0;0;48;2;0;0;0m▀\u001b[38;2;63;63;63;48;2;12;12;12m▀\u001b[38;2;0;0;0;48;2;0;0;0m▀\u001b[38;2;6;6;6;48;2;6;6;6m▀\u001b[38;2;0;0;0;48;2;0;0;0m▀\u001b[38;2;0;0;0;48;2;0;0;0m▀\u001b[38;2;0;0;0;48;2;0;0;0m▀\u001b[38;2;3;3;3;48;2;0;0;0m▀\u001b[38;2;0;0;0;48;2;0;0;0m▀\u001b[38;2;0;0;0;48;2;0;0;0m▀\u001b[38;2;0;0;0;48;2;0;0;0m▀\u001b[38;2;0;0;0;48;2;0;0;0m▀\u001b[38;2;0;0;0;48;2;0;0;0m▀\u001b[38;2;0;0;0;48;2;0;0;0m▀\u001b[38;2;0;0;0;48;2;0;0;0m▀\u001b[38;2;0;0;0;48;2;0;0;0m▀\u001b[38;2;0;0;0;48;2;0;0;0m▀\u001b[38;2;0;0;0;48;2;0;0;0m▀\u001b[38;2;0;0;0;48;2;0;0;0m▀\u001b[38;2;0;0;0;48;2;0;0;0m▀\u001b[38;2;0;0;0;48;2;0;0;0m▀\u001b[38;2;0;0;0;48;2;0;0;0m▀\u001b[38;2;0;0;0;48;2;0;0;0m▀\u001b[38;2;0;0;0;48;2;0;0;0m▀\u001b[38;2;0;0;0;48;2;0;0;0m▀\u001b[38;2;0;0;0;48;2;0;0;0m▀\u001b[38;2;0;0;0;48;2;0;0;0m▀\u001b[38;2;0;0;0;48;2;0;0;0m▀\u001b[38;2;0;0;0;48;2;0;0;0m▀\u001b[38;2;0;0;0;48;2;0;0;0m▀\u001b[38;2;0;0;0;48;2;0;0;0m▀\u001b[38;2;0;0;0;48;2;0;0;0m▀\u001b[38;2;0;0;0;48;2;0;0;0m▀\u001b[0m\n",
       "\u001b[0m\u001b[38;2;0;0;0;48;2;0;0;0m▀\u001b[38;2;0;0;0;48;2;0;0;0m▀\u001b[38;2;0;0;0;48;2;0;0;0m▀\u001b[38;2;0;0;0;48;2;0;0;0m▀\u001b[38;2;0;0;0;48;2;0;0;0m▀\u001b[38;2;0;0;0;48;2;0;0;0m▀\u001b[38;2;42;42;42;48;2;4;4;4m▀\u001b[38;2;21;21;21;48;2;35;35;35m▀\u001b[38;2;127;127;127;48;2;9;9;9m▀\u001b[38;2;14;14;14;48;2;24;24;24m▀\u001b[38;2;153;153;153;48;2;16;16;16m▀\u001b[38;2;0;0;0;48;2;0;0;0m▀\u001b[38;2;154;154;154;48;2;21;21;21m▀\u001b[38;2;0;0;0;48;2;0;0;0m▀\u001b[38;2;145;145;145;48;2;20;20;20m▀\u001b[38;2;0;0;0;48;2;0;0;0m▀\u001b[38;2;123;123;123;48;2;17;17;17m▀\u001b[38;2;0;0;0;48;2;0;0;0m▀\u001b[38;2;105;105;105;48;2;14;14;14m▀\u001b[38;2;4;4;4;48;2;0;0;0m▀\u001b[38;2;85;85;85;48;2;7;7;7m▀\u001b[38;2;0;0;0;48;2;0;0;0m▀\u001b[38;2;18;18;18;48;2;6;6;6m▀\u001b[38;2;0;0;0;48;2;0;0;0m▀\u001b[38;2;0;0;0;48;2;1;1;1m▀\u001b[38;2;0;0;0;48;2;0;0;0m▀\u001b[38;2;5;5;5;48;2;0;0;0m▀\u001b[38;2;0;0;0;48;2;0;0;0m▀\u001b[38;2;1;1;1;48;2;0;0;0m▀\u001b[38;2;0;0;0;48;2;0;0;0m▀\u001b[38;2;0;0;0;48;2;0;0;0m▀\u001b[38;2;0;0;0;48;2;0;0;0m▀\u001b[38;2;0;0;0;48;2;0;0;0m▀\u001b[38;2;0;0;0;48;2;0;0;0m▀\u001b[38;2;0;0;0;48;2;0;0;0m▀\u001b[38;2;0;0;0;48;2;0;0;0m▀\u001b[38;2;0;0;0;48;2;0;0;0m▀\u001b[38;2;0;0;0;48;2;0;0;0m▀\u001b[38;2;0;0;0;48;2;0;0;0m▀\u001b[38;2;0;0;0;48;2;0;0;0m▀\u001b[38;2;0;0;0;48;2;0;0;0m▀\u001b[38;2;0;0;0;48;2;0;0;0m▀\u001b[38;2;0;0;0;48;2;0;0;0m▀\u001b[38;2;0;0;0;48;2;0;0;0m▀\u001b[38;2;0;0;0;48;2;0;0;0m▀\u001b[38;2;0;0;0;48;2;0;0;0m▀\u001b[38;2;0;0;0;48;2;0;0;0m▀\u001b[38;2;0;0;0;48;2;0;0;0m▀\u001b[38;2;0;0;0;48;2;0;0;0m▀\u001b[38;2;0;0;0;48;2;0;0;0m▀\u001b[38;2;0;0;0;48;2;0;0;0m▀\u001b[38;2;0;0;0;48;2;0;0;0m▀\u001b[38;2;0;0;0;48;2;0;0;0m▀\u001b[38;2;0;0;0;48;2;0;0;0m▀\u001b[38;2;0;0;0;48;2;0;0;0m▀\u001b[38;2;0;0;0;48;2;0;0;0m▀\u001b[0m\n",
       "\u001b[0m\u001b[38;2;0;0;0;48;2;0;0;0m▀\u001b[38;2;0;0;0;48;2;0;0;0m▀\u001b[38;2;0;0;0;48;2;0;0;0m▀\u001b[38;2;0;0;0;48;2;0;0;0m▀\u001b[38;2;0;0;0;48;2;0;0;0m▀\u001b[38;2;0;0;0;48;2;0;0;0m▀\u001b[38;2;45;45;45;48;2;0;0;0m▀\u001b[38;2;32;32;32;48;2;0;0;0m▀\u001b[38;2;63;63;63;48;2;0;0;0m▀\u001b[38;2;45;45;45;48;2;0;0;0m▀\u001b[38;2;52;52;52;48;2;0;0;0m▀\u001b[38;2;31;31;31;48;2;0;0;0m▀\u001b[38;2;58;58;58;48;2;0;0;0m▀\u001b[38;2;31;31;31;48;2;0;0;0m▀\u001b[38;2;45;45;45;48;2;0;0;0m▀\u001b[38;2;21;21;21;48;2;0;0;0m▀\u001b[38;2;26;26;26;48;2;0;0;0m▀\u001b[38;2;8;8;8;48;2;0;0;0m▀\u001b[38;2;34;34;34;48;2;0;0;0m▀\u001b[38;2;16;16;16;48;2;0;0;0m▀\u001b[38;2;0;0;0;48;2;0;0;0m▀\u001b[38;2;0;0;0;48;2;0;0;0m▀\u001b[38;2;4;4;4;48;2;0;0;0m▀\u001b[38;2;0;0;0;48;2;0;0;0m▀\u001b[38;2;1;1;1;48;2;0;0;0m▀\u001b[38;2;0;0;0;48;2;0;0;0m▀\u001b[38;2;0;0;0;48;2;0;0;0m▀\u001b[38;2;0;0;0;48;2;0;0;0m▀\u001b[38;2;0;0;0;48;2;0;0;0m▀\u001b[38;2;0;0;0;48;2;0;0;0m▀\u001b[38;2;0;0;0;48;2;0;0;0m▀\u001b[38;2;0;0;0;48;2;0;0;0m▀\u001b[38;2;0;0;0;48;2;0;0;0m▀\u001b[38;2;0;0;0;48;2;0;0;0m▀\u001b[38;2;0;0;0;48;2;0;0;0m▀\u001b[38;2;0;0;0;48;2;0;0;0m▀\u001b[38;2;0;0;0;48;2;0;0;0m▀\u001b[38;2;0;0;0;48;2;0;0;0m▀\u001b[38;2;0;0;0;48;2;0;0;0m▀\u001b[38;2;0;0;0;48;2;0;0;0m▀\u001b[38;2;0;0;0;48;2;0;0;0m▀\u001b[38;2;0;0;0;48;2;0;0;0m▀\u001b[38;2;0;0;0;48;2;0;0;0m▀\u001b[38;2;0;0;0;48;2;0;0;0m▀\u001b[38;2;0;0;0;48;2;0;0;0m▀\u001b[38;2;0;0;0;48;2;0;0;0m▀\u001b[38;2;0;0;0;48;2;0;0;0m▀\u001b[38;2;0;0;0;48;2;0;0;0m▀\u001b[38;2;0;0;0;48;2;0;0;0m▀\u001b[38;2;0;0;0;48;2;0;0;0m▀\u001b[38;2;0;0;0;48;2;0;0;0m▀\u001b[38;2;0;0;0;48;2;0;0;0m▀\u001b[38;2;0;0;0;48;2;0;0;0m▀\u001b[38;2;0;0;0;48;2;0;0;0m▀\u001b[38;2;0;0;0;48;2;0;0;0m▀\u001b[38;2;0;0;0;48;2;0;0;0m▀\u001b[0m\n",
       "\u001b[0m\u001b[38;2;0;0;0;48;2;0;0;0m▀\u001b[38;2;0;0;0;48;2;0;0;0m▀\u001b[38;2;0;0;0;48;2;0;0;0m▀\u001b[38;2;0;0;0;48;2;0;0;0m▀\u001b[38;2;0;0;0;48;2;0;0;0m▀\u001b[38;2;0;0;0;48;2;0;0;0m▀\u001b[38;2;0;0;0;48;2;0;0;0m▀\u001b[38;2;0;0;0;48;2;0;0;0m▀\u001b[38;2;0;0;0;48;2;0;0;0m▀\u001b[38;2;0;0;0;48;2;0;0;0m▀\u001b[38;2;0;0;0;48;2;0;0;0m▀\u001b[38;2;0;0;0;48;2;0;0;0m▀\u001b[38;2;0;0;0;48;2;0;0;0m▀\u001b[38;2;0;0;0;48;2;0;0;0m▀\u001b[38;2;0;0;0;48;2;0;0;0m▀\u001b[38;2;0;0;0;48;2;0;0;0m▀\u001b[38;2;0;0;0;48;2;0;0;0m▀\u001b[38;2;0;0;0;48;2;0;0;0m▀\u001b[38;2;0;0;0;48;2;0;0;0m▀\u001b[38;2;0;0;0;48;2;0;0;0m▀\u001b[38;2;0;0;0;48;2;0;0;0m▀\u001b[38;2;0;0;0;48;2;0;0;0m▀\u001b[38;2;0;0;0;48;2;0;0;0m▀\u001b[38;2;0;0;0;48;2;0;0;0m▀\u001b[38;2;0;0;0;48;2;0;0;0m▀\u001b[38;2;0;0;0;48;2;0;0;0m▀\u001b[38;2;0;0;0;48;2;0;0;0m▀\u001b[38;2;0;0;0;48;2;0;0;0m▀\u001b[38;2;0;0;0;48;2;0;0;0m▀\u001b[38;2;0;0;0;48;2;0;0;0m▀\u001b[38;2;0;0;0;48;2;0;0;0m▀\u001b[38;2;0;0;0;48;2;0;0;0m▀\u001b[38;2;0;0;0;48;2;0;0;0m▀\u001b[38;2;0;0;0;48;2;0;0;0m▀\u001b[38;2;0;0;0;48;2;0;0;0m▀\u001b[38;2;0;0;0;48;2;0;0;0m▀\u001b[38;2;0;0;0;48;2;0;0;0m▀\u001b[38;2;0;0;0;48;2;0;0;0m▀\u001b[38;2;0;0;0;48;2;0;0;0m▀\u001b[38;2;0;0;0;48;2;0;0;0m▀\u001b[38;2;0;0;0;48;2;0;0;0m▀\u001b[38;2;0;0;0;48;2;0;0;0m▀\u001b[38;2;0;0;0;48;2;0;0;0m▀\u001b[38;2;0;0;0;48;2;0;0;0m▀\u001b[38;2;0;0;0;48;2;0;0;0m▀\u001b[38;2;0;0;0;48;2;0;0;0m▀\u001b[38;2;0;0;0;48;2;0;0;0m▀\u001b[38;2;0;0;0;48;2;0;0;0m▀\u001b[38;2;0;0;0;48;2;0;0;0m▀\u001b[38;2;0;0;0;48;2;0;0;0m▀\u001b[38;2;0;0;0;48;2;0;0;0m▀\u001b[38;2;0;0;0;48;2;0;0;0m▀\u001b[38;2;0;0;0;48;2;0;0;0m▀\u001b[38;2;0;0;0;48;2;0;0;0m▀\u001b[38;2;0;0;0;48;2;0;0;0m▀\u001b[38;2;0;0;0;48;2;0;0;0m▀\u001b[0m\n",
       "\u001b[0m\u001b[38;2;0;0;0;48;2;0;0;0m▀\u001b[38;2;0;0;0;48;2;0;0;0m▀\u001b[38;2;0;0;0;48;2;0;0;0m▀\u001b[38;2;0;0;0;48;2;0;0;0m▀\u001b[38;2;0;0;0;48;2;0;0;0m▀\u001b[38;2;0;0;0;48;2;0;0;0m▀\u001b[38;2;0;0;0;48;2;0;0;0m▀\u001b[38;2;0;0;0;48;2;0;0;0m▀\u001b[38;2;0;0;0;48;2;0;0;0m▀\u001b[38;2;0;0;0;48;2;0;0;0m▀\u001b[38;2;0;0;0;48;2;0;0;0m▀\u001b[38;2;0;0;0;48;2;0;0;0m▀\u001b[38;2;0;0;0;48;2;0;0;0m▀\u001b[38;2;0;0;0;48;2;0;0;0m▀\u001b[38;2;0;0;0;48;2;0;0;0m▀\u001b[38;2;0;0;0;48;2;0;0;0m▀\u001b[38;2;0;0;0;48;2;0;0;0m▀\u001b[38;2;0;0;0;48;2;0;0;0m▀\u001b[38;2;0;0;0;48;2;0;0;0m▀\u001b[38;2;0;0;0;48;2;0;0;0m▀\u001b[38;2;0;0;0;48;2;0;0;0m▀\u001b[38;2;0;0;0;48;2;0;0;0m▀\u001b[38;2;0;0;0;48;2;0;0;0m▀\u001b[38;2;0;0;0;48;2;0;0;0m▀\u001b[38;2;0;0;0;48;2;0;0;0m▀\u001b[38;2;0;0;0;48;2;0;0;0m▀\u001b[38;2;0;0;0;48;2;0;0;0m▀\u001b[38;2;0;0;0;48;2;0;0;0m▀\u001b[38;2;0;0;0;48;2;0;0;0m▀\u001b[38;2;0;0;0;48;2;0;0;0m▀\u001b[38;2;0;0;0;48;2;0;0;0m▀\u001b[38;2;0;0;0;48;2;0;0;0m▀\u001b[38;2;0;0;0;48;2;0;0;0m▀\u001b[38;2;0;0;0;48;2;0;0;0m▀\u001b[38;2;0;0;0;48;2;0;0;0m▀\u001b[38;2;0;0;0;48;2;0;0;0m▀\u001b[38;2;0;0;0;48;2;0;0;0m▀\u001b[38;2;0;0;0;48;2;0;0;0m▀\u001b[38;2;0;0;0;48;2;0;0;0m▀\u001b[38;2;0;0;0;48;2;0;0;0m▀\u001b[38;2;0;0;0;48;2;0;0;0m▀\u001b[38;2;0;0;0;48;2;0;0;0m▀\u001b[38;2;0;0;0;48;2;0;0;0m▀\u001b[38;2;0;0;0;48;2;0;0;0m▀\u001b[38;2;0;0;0;48;2;0;0;0m▀\u001b[38;2;0;0;0;48;2;0;0;0m▀\u001b[38;2;0;0;0;48;2;0;0;0m▀\u001b[38;2;0;0;0;48;2;0;0;0m▀\u001b[38;2;0;0;0;48;2;0;0;0m▀\u001b[38;2;0;0;0;48;2;0;0;0m▀\u001b[38;2;0;0;0;48;2;0;0;0m▀\u001b[38;2;0;0;0;48;2;0;0;0m▀\u001b[38;2;0;0;0;48;2;0;0;0m▀\u001b[38;2;0;0;0;48;2;0;0;0m▀\u001b[38;2;0;0;0;48;2;0;0;0m▀\u001b[38;2;0;0;0;48;2;0;0;0m▀\u001b[0m\n"
      ]
     },
     "execution_count": 101,
     "metadata": {},
     "output_type": "execute_result"
    }
   ],
   "source": [
    "cnn_output = cnn_layer( images[:,:,:,1:3] )\n",
    "display( cnn_output |> size )\n",
    "convert2image( MNIST , cnn_output[:,:,1,1] )"
   ]
  },
  {
   "cell_type": "code",
   "execution_count": 102,
   "metadata": {},
   "outputs": [
    {
     "data": {
      "text/plain": [
       "40×40×1×1 Array{Float32, 4}:\n",
       "[:, :, 1, 1] =\n",
       " -0.0119461    0.0330568   0.0595997  …   0.0389195   -0.00426853\n",
       "  0.0361941   -0.0488861   0.0617708      0.0403372    0.000216651\n",
       " -0.00844998  -0.0678204  -0.027328      -0.0178456    0.0368818\n",
       "  0.326001    -0.316403    0.0935666      0.0754568   -0.178244\n",
       " -0.0526916    0.145805    0.26288        0.203351    -0.0223027\n",
       "  0.159643    -0.215625    0.272456   …   0.210758     0.00113198\n",
       " -0.0372708   -0.299139   -0.120537      -0.0932416    0.192704\n",
       "  0.335558    -0.354552   -0.0137535     -0.0536514   -0.0518787\n",
       " -0.0437493    0.121061    0.218267       0.0739067   -0.00810579\n",
       "  0.13255     -0.179031    0.226218       0.0765989    0.000411412\n",
       " -0.0309456   -0.248372   -0.100081   …  -0.0338881    0.0700372\n",
       "  0.179979    -0.201237   -0.0495758      0.0719903   -0.198488\n",
       " -0.0194445    0.0538058   0.0970092      0.22879     -0.0250927\n",
       "  ⋮                                   ⋱               \n",
       " -0.0271381    0.0750953   0.135393       0.020489    -0.00224715\n",
       "  0.0822224   -0.111055    0.140325       0.0212354    0.000114055\n",
       " -0.0191959   -0.154068   -0.0620812  …  -0.00939474   0.0194163\n",
       "  0.342785    -0.343113    0.0586668      0.0360883   -0.0866977\n",
       " -0.0516201    0.142841    0.257535       0.099029    -0.0108611\n",
       "  0.156397    -0.21124     0.266916       0.102636     0.000551258\n",
       " -0.0365129   -0.293056   -0.118086      -0.0454073    0.0938441\n",
       "  0.308444    -0.328181   -0.0213234  …   0.0142752   -0.104592\n",
       " -0.0393871    0.10899     0.196504       0.125165    -0.0137276\n",
       "  0.119334    -0.16118     0.203662       0.129724     0.000696749\n",
       " -0.02786     -0.223607   -0.0901019     -0.0573914    0.118612\n",
       "  0.0597466   -0.0845756  -0.0842029     -0.053634     0.00853583"
      ]
     },
     "execution_count": 102,
     "metadata": {},
     "output_type": "execute_result"
    }
   ],
   "source": [
    "x = rand(Float32, 10, 10, 1, 1); \n",
    "cnn_layer = ConvTranspose( (5,5) , 1 => 1 , pad=SamePad() , stride=4 )\n",
    "cnn_layer( x ) "
   ]
  },
  {
   "cell_type": "code",
   "execution_count": 103,
   "metadata": {},
   "outputs": [
    {
     "data": {
      "text/plain": [
       "(112, 112, 1, 3)"
      ]
     },
     "metadata": {},
     "output_type": "display_data"
    },
    {
     "data": {
      "image/png": "[encoded data removed]",
      "text/html": [
       "<img src=\"data:image/png;base64,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\">"
      ],
      "text/plain": [
       "\u001b[0m\u001b[38;2;0;0;0;48;2;0;0;0m▀\u001b[38;2;0;0;0;48;2;0;0;0m▀\u001b[38;2;0;0;0;48;2;0;0;0m▀\u001b[38;2;0;0;0;48;2;0;0;0m▀\u001b[38;2;0;0;0;48;2;0;0;0m▀\u001b[38;2;0;0;0;48;2;0;0;0m▀\u001b[38;2;0;0;0;48;2;0;0;0m▀\u001b[38;2;0;0;0;48;2;0;0;0m▀\u001b[38;2;0;0;0;48;2;0;0;0m▀\u001b[38;2;0;0;0;48;2;0;0;0m▀\u001b[38;2;0;0;0;48;2;0;0;0m▀\u001b[38;2;0;0;0;48;2;0;0;0m▀\u001b[38;2;0;0;0;48;2;0;0;0m▀\u001b[38;2;0;0;0;48;2;0;0;0m▀\u001b[38;2;0;0;0;48;2;0;0;0m▀\u001b[38;2;0;0;0;48;2;0;0;0m▀\u001b[38;2;0;0;0;48;2;0;0;0m▀\u001b[38;2;0;0;0;48;2;0;0;0m▀\u001b[38;2;0;0;0;48;2;0;0;0m▀\u001b[38;2;0;0;0;48;2;0;0;0m▀\u001b[38;2;0;0;0;48;2;0;0;0m▀\u001b[38;2;0;0;0;48;2;0;0;0m▀\u001b[38;2;0;0;0;48;2;0;0;0m▀\u001b[38;2;0;0;0;48;2;0;0;0m▀\u001b[38;2;0;0;0;48;2;0;0;0m▀\u001b[38;2;0;0;0;48;2;0;0;0m▀\u001b[38;2;0;0;0;48;2;0;0;0m▀\u001b[38;2;0;0;0;48;2;0;0;0m▀\u001b[38;2;0;0;0;48;2;0;0;0m▀\u001b[38;2;0;0;0;48;2;0;0;0m▀\u001b[38;2;0;0;0;48;2;0;0;0m▀\u001b[38;2;0;0;0;48;2;0;0;0m▀\u001b[38;2;0;0;0;48;2;0;0;0m▀\u001b[38;2;0;0;0;48;2;0;0;0m▀\u001b[38;2;0;0;0;48;2;0;0;0m▀\u001b[38;2;0;0;0;48;2;0;0;0m▀\u001b[38;2;0;0;0;48;2;0;0;0m▀\u001b[38;2;0;0;0;48;2;0;0;0m▀\u001b[38;2;0;0;0;48;2;0;0;0m▀\u001b[38;2;0;0;0;48;2;0;0;0m▀\u001b[38;2;0;0;0;48;2;0;0;0m▀\u001b[38;2;0;0;0;48;2;0;0;0m▀\u001b[38;2;0;0;0;48;2;0;0;0m▀\u001b[38;2;0;0;0;48;2;0;0;0m▀\u001b[38;2;0;0;0;48;2;0;0;0m▀\u001b[38;2;0;0;0;48;2;0;0;0m▀\u001b[38;2;0;0;0;48;2;0;0;0m▀\u001b[38;2;0;0;0;48;2;0;0;0m▀\u001b[38;2;0;0;0;48;2;0;0;0m▀\u001b[38;2;0;0;0;48;2;0;0;0m▀\u001b[38;2;0;0;0;48;2;0;0;0m▀\u001b[38;2;0;0;0;48;2;0;0;0m▀\u001b[38;2;0;0;0;48;2;0;0;0m▀\u001b[38;2;0;0;0;48;2;0;0;0m▀\u001b[38;2;0;0;0;48;2;0;0;0m▀\u001b[38;2;0;0;0;48;2;0;0;0m▀\u001b[38;2;0;0;0;48;2;0;0;0m▀\u001b[0m\n",
       "\u001b[0m\u001b[38;2;0;0;0;48;2;0;0;0m▀\u001b[38;2;0;0;0;48;2;0;0;0m▀\u001b[38;2;0;0;0;48;2;0;0;0m▀\u001b[38;2;0;0;0;48;2;0;0;0m▀\u001b[38;2;0;0;0;48;2;0;0;0m▀\u001b[38;2;0;0;0;48;2;0;0;0m▀\u001b[38;2;0;0;0;48;2;0;0;0m▀\u001b[38;2;0;0;0;48;2;0;0;0m▀\u001b[38;2;0;0;0;48;2;0;0;0m▀\u001b[38;2;0;0;0;48;2;0;0;0m▀\u001b[38;2;0;0;0;48;2;0;0;0m▀\u001b[38;2;0;0;0;48;2;0;0;0m▀\u001b[38;2;0;0;0;48;2;0;0;0m▀\u001b[38;2;0;0;0;48;2;0;0;0m▀\u001b[38;2;0;0;0;48;2;0;0;0m▀\u001b[38;2;0;0;0;48;2;0;0;0m▀\u001b[38;2;0;0;0;48;2;0;0;0m▀\u001b[38;2;0;0;0;48;2;0;0;0m▀\u001b[38;2;0;0;0;48;2;0;0;0m▀\u001b[38;2;0;0;0;48;2;0;0;0m▀\u001b[38;2;0;0;0;48;2;0;0;0m▀\u001b[38;2;0;0;0;48;2;0;0;0m▀\u001b[38;2;0;0;0;48;2;0;0;0m▀\u001b[38;2;0;0;0;48;2;0;0;0m▀\u001b[38;2;0;0;0;48;2;0;0;0m▀\u001b[38;2;0;0;0;48;2;0;0;0m▀\u001b[38;2;0;0;0;48;2;0;0;0m▀\u001b[38;2;0;0;0;48;2;0;0;0m▀\u001b[38;2;0;0;0;48;2;0;0;0m▀\u001b[38;2;0;0;0;48;2;0;0;0m▀\u001b[38;2;0;0;0;48;2;0;0;0m▀\u001b[38;2;0;0;0;48;2;0;0;0m▀\u001b[38;2;0;0;0;48;2;0;0;0m▀\u001b[38;2;0;0;0;48;2;0;0;0m▀\u001b[38;2;0;0;0;48;2;0;0;0m▀\u001b[38;2;0;0;0;48;2;0;0;0m▀\u001b[38;2;0;0;0;48;2;0;0;0m▀\u001b[38;2;0;0;0;48;2;0;0;0m▀\u001b[38;2;0;0;0;48;2;0;0;0m▀\u001b[38;2;0;0;0;48;2;0;0;0m▀\u001b[38;2;0;0;0;48;2;0;0;0m▀\u001b[38;2;0;0;0;48;2;0;0;0m▀\u001b[38;2;0;0;0;48;2;0;0;0m▀\u001b[38;2;0;0;0;48;2;0;0;0m▀\u001b[38;2;0;0;0;48;2;0;0;0m▀\u001b[38;2;0;0;0;48;2;0;0;0m▀\u001b[38;2;0;0;0;48;2;0;0;0m▀\u001b[38;2;0;0;0;48;2;0;0;0m▀\u001b[38;2;0;0;0;48;2;0;0;0m▀\u001b[38;2;0;0;0;48;2;0;0;0m▀\u001b[38;2;0;0;0;48;2;0;0;0m▀\u001b[38;2;0;0;0;48;2;0;0;0m▀\u001b[38;2;0;0;0;48;2;0;0;0m▀\u001b[38;2;0;0;0;48;2;0;0;0m▀\u001b[38;2;0;0;0;48;2;0;0;0m▀\u001b[38;2;0;0;0;48;2;0;0;0m▀\u001b[38;2;0;0;0;48;2;0;0;0m▀\u001b[0m\n",
       "\u001b[0m\u001b[38;2;0;0;0;48;2;0;0;0m▀\u001b[38;2;0;0;0;48;2;0;0;0m▀\u001b[38;2;0;0;0;48;2;0;0;0m▀\u001b[38;2;0;0;0;48;2;0;0;0m▀\u001b[38;2;0;0;0;48;2;0;0;0m▀\u001b[38;2;0;0;0;48;2;0;0;0m▀\u001b[38;2;0;0;0;48;2;0;0;0m▀\u001b[38;2;0;0;0;48;2;0;0;0m▀\u001b[38;2;0;0;0;48;2;0;0;0m▀\u001b[38;2;0;0;0;48;2;0;0;0m▀\u001b[38;2;0;0;0;48;2;0;0;0m▀\u001b[38;2;0;0;0;48;2;0;0;0m▀\u001b[38;2;0;0;0;48;2;0;0;0m▀\u001b[38;2;0;0;0;48;2;0;0;0m▀\u001b[38;2;0;0;0;48;2;0;0;0m▀\u001b[38;2;0;0;0;48;2;0;0;0m▀\u001b[38;2;0;0;0;48;2;0;0;0m▀\u001b[38;2;0;0;0;48;2;0;0;0m▀\u001b[38;2;0;0;0;48;2;0;0;0m▀\u001b[38;2;0;0;0;48;2;0;0;0m▀\u001b[38;2;0;0;0;48;2;0;0;0m▀\u001b[38;2;0;0;0;48;2;0;0;0m▀\u001b[38;2;0;0;0;48;2;0;0;0m▀\u001b[38;2;0;0;0;48;2;0;0;0m▀\u001b[38;2;0;0;0;48;2;0;0;0m▀\u001b[38;2;0;0;0;48;2;0;0;0m▀\u001b[38;2;0;0;0;48;2;0;0;0m▀\u001b[38;2;0;0;0;48;2;0;0;0m▀\u001b[38;2;0;0;0;48;2;0;0;0m▀\u001b[38;2;0;0;0;48;2;0;0;0m▀\u001b[38;2;0;0;0;48;2;0;0;0m▀\u001b[38;2;0;0;0;48;2;0;0;0m▀\u001b[38;2;0;0;0;48;2;0;0;0m▀\u001b[38;2;0;0;0;48;2;0;0;0m▀\u001b[38;2;0;0;0;48;2;0;0;0m▀\u001b[38;2;0;0;0;48;2;0;0;0m▀\u001b[38;2;0;0;0;48;2;0;0;0m▀\u001b[38;2;0;0;0;48;2;0;0;0m▀\u001b[38;2;0;0;0;48;2;0;0;0m▀\u001b[38;2;0;0;0;48;2;0;0;0m▀\u001b[38;2;0;0;0;48;2;0;0;0m▀\u001b[38;2;0;0;0;48;2;0;0;0m▀\u001b[38;2;0;0;0;48;2;0;0;0m▀\u001b[38;2;0;0;0;48;2;0;0;0m▀\u001b[38;2;0;0;0;48;2;0;0;0m▀\u001b[38;2;0;0;0;48;2;0;0;0m▀\u001b[38;2;0;0;0;48;2;0;0;0m▀\u001b[38;2;0;0;0;48;2;0;0;0m▀\u001b[38;2;0;0;0;48;2;0;0;0m▀\u001b[38;2;0;0;0;48;2;0;0;0m▀\u001b[38;2;0;0;0;48;2;0;0;0m▀\u001b[38;2;0;0;0;48;2;0;0;0m▀\u001b[38;2;0;0;0;48;2;0;0;0m▀\u001b[38;2;0;0;0;48;2;0;0;0m▀\u001b[38;2;0;0;0;48;2;0;0;0m▀\u001b[38;2;0;0;0;48;2;0;0;0m▀\u001b[38;2;0;0;0;48;2;0;0;0m▀\u001b[0m\n",
       "\u001b[0m\u001b[38;2;0;0;0;48;2;0;0;0m▀\u001b[38;2;0;0;0;48;2;0;0;0m▀\u001b[38;2;0;0;0;48;2;0;0;0m▀\u001b[38;2;0;0;0;48;2;0;0;0m▀\u001b[38;2;0;0;0;48;2;0;0;0m▀\u001b[38;2;0;0;0;48;2;0;0;0m▀\u001b[38;2;0;0;0;48;2;0;0;0m▀\u001b[38;2;0;0;0;48;2;0;0;0m▀\u001b[38;2;0;0;0;48;2;0;0;0m▀\u001b[38;2;0;0;0;48;2;0;0;0m▀\u001b[38;2;0;0;0;48;2;0;0;0m▀\u001b[38;2;0;0;0;48;2;0;0;0m▀\u001b[38;2;0;0;0;48;2;0;0;0m▀\u001b[38;2;0;0;0;48;2;0;0;0m▀\u001b[38;2;0;0;0;48;2;0;0;0m▀\u001b[38;2;0;0;0;48;2;0;0;0m▀\u001b[38;2;0;0;0;48;2;0;0;0m▀\u001b[38;2;0;0;0;48;2;0;0;0m▀\u001b[38;2;0;0;0;48;2;0;0;0m▀\u001b[38;2;0;0;0;48;2;0;0;0m▀\u001b[38;2;0;0;0;48;2;0;0;0m▀\u001b[38;2;0;0;0;48;2;0;0;0m▀\u001b[38;2;0;0;0;48;2;0;0;0m▀\u001b[38;2;0;0;0;48;2;0;0;0m▀\u001b[38;2;0;0;0;48;2;0;0;0m▀\u001b[38;2;0;0;0;48;2;0;0;0m▀\u001b[38;2;0;0;0;48;2;0;0;0m▀\u001b[38;2;0;0;0;48;2;0;0;0m▀\u001b[38;2;0;0;0;48;2;0;0;0m▀\u001b[38;2;0;0;0;48;2;0;0;0m▀\u001b[38;2;0;0;0;48;2;0;0;0m▀\u001b[38;2;0;0;0;48;2;0;0;0m▀\u001b[38;2;0;0;0;48;2;0;0;0m▀\u001b[38;2;0;0;0;48;2;0;0;0m▀\u001b[38;2;0;0;0;48;2;0;0;0m▀\u001b[38;2;0;0;0;48;2;0;0;0m▀\u001b[38;2;0;0;0;48;2;0;0;0m▀\u001b[38;2;0;0;0;48;2;0;0;0m▀\u001b[38;2;0;0;0;48;2;0;0;0m▀\u001b[38;2;0;0;0;48;2;0;0;0m▀\u001b[38;2;0;0;0;48;2;0;0;0m▀\u001b[38;2;0;0;0;48;2;0;0;0m▀\u001b[38;2;0;0;0;48;2;0;0;0m▀\u001b[38;2;0;0;0;48;2;0;0;0m▀\u001b[38;2;0;0;0;48;2;0;0;0m▀\u001b[38;2;0;0;0;48;2;0;0;0m▀\u001b[38;2;0;0;0;48;2;0;0;0m▀\u001b[38;2;0;0;0;48;2;0;0;0m▀\u001b[38;2;0;0;0;48;2;0;0;0m▀\u001b[38;2;0;0;0;48;2;0;0;0m▀\u001b[38;2;0;0;0;48;2;0;0;0m▀\u001b[38;2;0;0;0;48;2;0;0;0m▀\u001b[38;2;0;0;0;48;2;0;0;0m▀\u001b[38;2;0;0;0;48;2;0;0;0m▀\u001b[38;2;0;0;0;48;2;0;0;0m▀\u001b[38;2;0;0;0;48;2;0;0;0m▀\u001b[38;2;0;0;0;48;2;0;0;0m▀\u001b[0m\n",
       "\u001b[0m\u001b[38;2;0;0;0;48;2;0;0;0m▀\u001b[38;2;0;0;0;48;2;0;0;0m▀\u001b[38;2;0;0;0;48;2;0;0;0m▀\u001b[38;2;0;0;0;48;2;0;0;0m▀\u001b[38;2;0;0;0;48;2;0;0;0m▀\u001b[38;2;0;0;0;48;2;0;0;0m▀\u001b[38;2;0;0;0;48;2;0;0;0m▀\u001b[38;2;0;0;0;48;2;0;0;0m▀\u001b[38;2;0;0;0;48;2;0;0;0m▀\u001b[38;2;0;0;0;48;2;0;0;0m▀\u001b[38;2;0;0;0;48;2;0;0;0m▀\u001b[38;2;0;0;0;48;2;0;0;0m▀\u001b[38;2;0;0;0;48;2;0;0;0m▀\u001b[38;2;0;0;0;48;2;0;0;0m▀\u001b[38;2;0;0;0;48;2;0;0;0m▀\u001b[38;2;0;0;0;48;2;0;0;0m▀\u001b[38;2;0;0;0;48;2;0;0;0m▀\u001b[38;2;0;0;0;48;2;0;0;0m▀\u001b[38;2;0;0;0;48;2;0;0;0m▀\u001b[38;2;0;0;0;48;2;0;0;0m▀\u001b[38;2;0;0;0;48;2;0;0;0m▀\u001b[38;2;0;0;0;48;2;0;0;0m▀\u001b[38;2;0;0;0;48;2;0;0;0m▀\u001b[38;2;0;0;0;48;2;0;0;0m▀\u001b[38;2;0;0;0;48;2;0;0;0m▀\u001b[38;2;0;0;0;48;2;0;0;0m▀\u001b[38;2;0;0;0;48;2;0;0;0m▀\u001b[38;2;0;0;0;48;2;0;0;0m▀\u001b[38;2;0;0;0;48;2;0;0;0m▀\u001b[38;2;0;0;0;48;2;0;0;0m▀\u001b[38;2;0;0;0;48;2;0;0;0m▀\u001b[38;2;0;0;0;48;2;0;0;0m▀\u001b[38;2;0;0;0;48;2;0;0;0m▀\u001b[38;2;0;0;0;48;2;0;0;0m▀\u001b[38;2;0;0;0;48;2;0;0;0m▀\u001b[38;2;0;0;0;48;2;0;0;0m▀\u001b[38;2;0;0;0;48;2;0;0;0m▀\u001b[38;2;0;0;0;48;2;0;0;0m▀\u001b[38;2;0;0;0;48;2;0;0;0m▀\u001b[38;2;0;0;0;48;2;0;0;0m▀\u001b[38;2;0;0;0;48;2;0;0;0m▀\u001b[38;2;0;0;0;48;2;0;0;0m▀\u001b[38;2;0;0;0;48;2;0;0;0m▀\u001b[38;2;0;0;0;48;2;0;0;0m▀\u001b[38;2;0;0;0;48;2;0;0;0m▀\u001b[38;2;0;0;0;48;2;0;0;0m▀\u001b[38;2;0;0;0;48;2;0;0;0m▀\u001b[38;2;0;0;0;48;2;0;0;0m▀\u001b[38;2;0;0;0;48;2;0;0;0m▀\u001b[38;2;0;0;0;48;2;0;0;0m▀\u001b[38;2;0;0;0;48;2;0;0;0m▀\u001b[38;2;0;0;0;48;2;0;0;0m▀\u001b[38;2;0;0;0;48;2;0;0;0m▀\u001b[38;2;0;0;0;48;2;0;0;0m▀\u001b[38;2;0;0;0;48;2;0;0;0m▀\u001b[38;2;0;0;0;48;2;0;0;0m▀\u001b[38;2;0;0;0;48;2;0;0;0m▀\u001b[0m\n",
       "\u001b[0m\u001b[38;2;0;0;0;48;2;0;0;0m▀\u001b[38;2;0;0;0;48;2;0;0;0m▀\u001b[38;2;0;0;0;48;2;0;0;0m▀\u001b[38;2;0;0;0;48;2;0;0;0m▀\u001b[38;2;0;0;0;48;2;0;0;0m▀\u001b[38;2;0;0;0;48;2;0;0;0m▀\u001b[38;2;0;0;0;48;2;0;0;0m▀\u001b[38;2;0;0;0;48;2;0;0;0m▀\u001b[38;2;0;0;0;48;2;0;0;0m▀\u001b[38;2;0;0;0;48;2;0;0;0m▀\u001b[38;2;0;0;0;48;2;0;0;0m▀\u001b[38;2;0;0;0;48;2;0;0;0m▀\u001b[38;2;0;0;0;48;2;0;0;0m▀\u001b[38;2;0;0;0;48;2;0;0;0m▀\u001b[38;2;0;0;0;48;2;0;0;0m▀\u001b[38;2;0;0;0;48;2;0;0;0m▀\u001b[38;2;0;0;0;48;2;0;0;0m▀\u001b[38;2;0;0;0;48;2;0;0;0m▀\u001b[38;2;0;0;0;48;2;0;0;0m▀\u001b[38;2;0;0;0;48;2;0;0;0m▀\u001b[38;2;0;0;0;48;2;0;0;0m▀\u001b[38;2;0;0;0;48;2;0;0;0m▀\u001b[38;2;0;0;0;48;2;0;0;0m▀\u001b[38;2;0;0;0;48;2;0;0;0m▀\u001b[38;2;0;0;0;48;2;0;0;0m▀\u001b[38;2;0;0;0;48;2;0;0;0m▀\u001b[38;2;0;0;0;48;2;0;0;0m▀\u001b[38;2;0;0;0;48;2;0;0;0m▀\u001b[38;2;0;0;0;48;2;0;0;0m▀\u001b[38;2;0;0;0;48;2;0;0;0m▀\u001b[38;2;0;0;0;48;2;0;0;0m▀\u001b[38;2;0;0;0;48;2;0;0;0m▀\u001b[38;2;0;0;0;48;2;0;0;0m▀\u001b[38;2;0;0;0;48;2;0;0;0m▀\u001b[38;2;0;0;0;48;2;0;0;0m▀\u001b[38;2;0;0;0;48;2;0;0;0m▀\u001b[38;2;0;0;0;48;2;0;0;0m▀\u001b[38;2;0;0;0;48;2;0;0;0m▀\u001b[38;2;0;0;0;48;2;0;0;0m▀\u001b[38;2;0;0;0;48;2;0;0;0m▀\u001b[38;2;0;0;0;48;2;0;0;0m▀\u001b[38;2;0;0;0;48;2;0;0;0m▀\u001b[38;2;0;0;0;48;2;0;0;0m▀\u001b[38;2;0;0;0;48;2;0;0;0m▀\u001b[38;2;0;0;0;48;2;0;0;0m▀\u001b[38;2;0;0;0;48;2;0;0;0m▀\u001b[38;2;0;0;0;48;2;0;0;0m▀\u001b[38;2;0;0;0;48;2;0;0;0m▀\u001b[38;2;0;0;0;48;2;0;0;0m▀\u001b[38;2;0;0;0;48;2;0;0;0m▀\u001b[38;2;0;0;0;48;2;0;0;0m▀\u001b[38;2;0;0;0;48;2;0;0;0m▀\u001b[38;2;0;0;0;48;2;0;0;0m▀\u001b[38;2;0;0;0;48;2;0;0;0m▀\u001b[38;2;0;0;0;48;2;0;0;0m▀\u001b[38;2;0;0;0;48;2;0;0;0m▀\u001b[38;2;0;0;0;48;2;0;0;0m▀\u001b[0m\n",
       "\u001b[0m\u001b[38;2;0;0;0;48;2;0;0;0m▀\u001b[38;2;0;0;0;48;2;0;0;0m▀\u001b[38;2;0;0;0;48;2;0;0;0m▀\u001b[38;2;0;0;0;48;2;0;0;0m▀\u001b[38;2;0;0;0;48;2;0;0;0m▀\u001b[38;2;0;0;0;48;2;0;0;0m▀\u001b[38;2;0;0;0;48;2;0;0;0m▀\u001b[38;2;0;0;0;48;2;0;0;0m▀\u001b[38;2;0;0;0;48;2;0;0;0m▀\u001b[38;2;0;0;0;48;2;0;0;0m▀\u001b[38;2;0;0;0;48;2;0;0;0m▀\u001b[38;2;0;0;0;48;2;0;0;0m▀\u001b[38;2;0;0;0;48;2;0;0;0m▀\u001b[38;2;0;0;0;48;2;0;0;0m▀\u001b[38;2;0;0;0;48;2;0;0;0m▀\u001b[38;2;0;0;0;48;2;0;0;0m▀\u001b[38;2;0;0;0;48;2;0;0;0m▀\u001b[38;2;0;0;0;48;2;0;0;0m▀\u001b[38;2;0;0;0;48;2;0;0;0m▀\u001b[38;2;0;0;0;48;2;0;0;0m▀\u001b[38;2;0;0;0;48;2;0;0;0m▀\u001b[38;2;0;0;0;48;2;0;0;0m▀\u001b[38;2;0;0;0;48;2;0;0;0m▀\u001b[38;2;0;0;0;48;2;0;0;0m▀\u001b[38;2;0;0;0;48;2;0;0;0m▀\u001b[38;2;0;0;0;48;2;0;0;0m▀\u001b[38;2;0;0;0;48;2;0;0;0m▀\u001b[38;2;0;0;0;48;2;0;0;0m▀\u001b[38;2;0;0;0;48;2;0;0;0m▀\u001b[38;2;0;0;0;48;2;0;0;0m▀\u001b[38;2;0;0;0;48;2;0;0;0m▀\u001b[38;2;0;0;0;48;2;0;0;0m▀\u001b[38;2;0;0;0;48;2;0;0;0m▀\u001b[38;2;0;0;0;48;2;0;0;0m▀\u001b[38;2;0;0;0;48;2;0;0;0m▀\u001b[38;2;0;0;0;48;2;0;0;0m▀\u001b[38;2;0;0;0;48;2;0;0;0m▀\u001b[38;2;1;1;1;48;2;0;0;0m▀\u001b[38;2;0;0;0;48;2;0;0;0m▀\u001b[38;2;0;0;0;48;2;0;0;0m▀\u001b[38;2;0;0;0;48;2;0;0;0m▀\u001b[38;2;0;0;0;48;2;0;0;0m▀\u001b[38;2;0;0;0;48;2;0;0;0m▀\u001b[38;2;2;2;2;48;2;0;0;0m▀\u001b[38;2;0;0;0;48;2;0;0;0m▀\u001b[38;2;4;4;4;48;2;0;0;0m▀\u001b[38;2;0;0;0;48;2;0;0;0m▀\u001b[38;2;4;4;4;48;2;0;0;0m▀\u001b[38;2;0;0;0;48;2;0;0;0m▀\u001b[38;2;0;0;0;48;2;0;0;0m▀\u001b[38;2;0;0;0;48;2;0;0;0m▀\u001b[38;2;0;0;0;48;2;0;0;0m▀\u001b[38;2;0;0;0;48;2;0;0;0m▀\u001b[38;2;0;0;0;48;2;0;0;0m▀\u001b[38;2;0;0;0;48;2;0;0;0m▀\u001b[38;2;0;0;0;48;2;0;0;0m▀\u001b[38;2;0;0;0;48;2;0;0;0m▀\u001b[0m\n",
       "\u001b[0m\u001b[38;2;0;0;0;48;2;0;0;0m▀\u001b[38;2;0;0;0;48;2;0;0;0m▀\u001b[38;2;0;0;0;48;2;0;0;0m▀\u001b[38;2;0;0;0;48;2;0;0;0m▀\u001b[38;2;0;0;0;48;2;0;0;0m▀\u001b[38;2;0;0;0;48;2;0;0;0m▀\u001b[38;2;0;0;0;48;2;0;0;0m▀\u001b[38;2;0;0;0;48;2;0;0;0m▀\u001b[38;2;0;0;0;48;2;0;0;0m▀\u001b[38;2;0;0;0;48;2;0;0;0m▀\u001b[38;2;0;0;0;48;2;0;0;0m▀\u001b[38;2;0;0;0;48;2;0;0;0m▀\u001b[38;2;0;0;0;48;2;0;0;0m▀\u001b[38;2;0;0;0;48;2;0;0;0m▀\u001b[38;2;0;0;0;48;2;2;2;2m▀\u001b[38;2;0;0;0;48;2;0;0;0m▀\u001b[38;2;0;0;0;48;2;3;3;3m▀\u001b[38;2;0;0;0;48;2;0;0;0m▀\u001b[38;2;0;0;0;48;2;0;0;0m▀\u001b[38;2;0;0;0;48;2;0;0;0m▀\u001b[38;2;0;0;0;48;2;0;0;0m▀\u001b[38;2;0;0;0;48;2;0;0;0m▀\u001b[38;2;0;0;0;48;2;0;0;0m▀\u001b[38;2;0;0;0;48;2;0;0;0m▀\u001b[38;2;0;0;0;48;2;0;0;0m▀\u001b[38;2;0;0;0;48;2;0;0;0m▀\u001b[38;2;0;0;0;48;2;0;0;0m▀\u001b[38;2;1;1;1;48;2;0;0;0m▀\u001b[38;2;0;0;0;48;2;0;0;0m▀\u001b[38;2;1;1;1;48;2;0;0;0m▀\u001b[38;2;0;0;0;48;2;0;0;0m▀\u001b[38;2;1;1;1;48;2;0;0;0m▀\u001b[38;2;0;0;0;48;2;0;0;0m▀\u001b[38;2;1;1;1;48;2;0;0;0m▀\u001b[38;2;0;0;0;48;2;0;0;0m▀\u001b[38;2;1;1;1;48;2;0;0;0m▀\u001b[38;2;0;0;0;48;2;0;0;0m▀\u001b[38;2;6;6;6;48;2;0;0;0m▀\u001b[38;2;0;0;0;48;2;0;0;0m▀\u001b[38;2;3;3;3;48;2;0;0;0m▀\u001b[38;2;0;0;0;48;2;0;0;0m▀\u001b[38;2;7;7;7;48;2;0;0;0m▀\u001b[38;2;0;0;0;48;2;0;0;0m▀\u001b[38;2;8;8;8;48;2;0;0;0m▀\u001b[38;2;0;0;0;48;2;0;0;0m▀\u001b[38;2;7;7;7;48;2;0;0;0m▀\u001b[38;2;0;0;0;48;2;0;0;0m▀\u001b[38;2;3;3;3;48;2;0;0;0m▀\u001b[38;2;0;0;0;48;2;0;0;0m▀\u001b[38;2;0;0;0;48;2;0;0;0m▀\u001b[38;2;0;0;0;48;2;0;0;0m▀\u001b[38;2;0;0;0;48;2;0;0;0m▀\u001b[38;2;0;0;0;48;2;0;0;0m▀\u001b[38;2;0;0;0;48;2;0;0;0m▀\u001b[38;2;0;0;0;48;2;0;0;0m▀\u001b[38;2;0;0;0;48;2;0;0;0m▀\u001b[38;2;0;0;0;48;2;0;0;0m▀\u001b[0m\n",
       "\u001b[0m\u001b[38;2;0;0;0;48;2;0;0;0m▀\u001b[38;2;0;0;0;48;2;0;0;0m▀\u001b[38;2;0;0;0;48;2;0;0;0m▀\u001b[38;2;0;0;0;48;2;0;0;0m▀\u001b[38;2;0;0;0;48;2;0;0;0m▀\u001b[38;2;0;0;0;48;2;0;0;0m▀\u001b[38;2;0;0;0;48;2;0;0;0m▀\u001b[38;2;0;0;0;48;2;0;0;0m▀\u001b[38;2;0;0;0;48;2;0;0;0m▀\u001b[38;2;0;0;0;48;2;0;0;0m▀\u001b[38;2;0;0;0;48;2;0;0;0m▀\u001b[38;2;0;0;0;48;2;0;0;0m▀\u001b[38;2;0;0;0;48;2;0;0;0m▀\u001b[38;2;0;0;0;48;2;0;0;0m▀\u001b[38;2;0;0;0;48;2;1;1;1m▀\u001b[38;2;0;0;0;48;2;0;0;0m▀\u001b[38;2;0;0;0;48;2;7;7;7m▀\u001b[38;2;2;2;2;48;2;0;0;0m▀\u001b[38;2;0;0;0;48;2;0;0;0m▀\u001b[38;2;1;1;1;48;2;0;0;0m▀\u001b[38;2;0;0;0;48;2;0;0;0m▀\u001b[38;2;1;1;1;48;2;0;0;0m▀\u001b[38;2;0;0;0;48;2;0;0;0m▀\u001b[38;2;1;1;1;48;2;0;0;0m▀\u001b[38;2;0;0;0;48;2;0;0;0m▀\u001b[38;2;1;1;1;48;2;0;0;0m▀\u001b[38;2;0;0;0;48;2;0;0;0m▀\u001b[38;2;1;1;1;48;2;0;0;0m▀\u001b[38;2;0;0;0;48;2;0;0;0m▀\u001b[38;2;3;3;3;48;2;0;0;0m▀\u001b[38;2;0;0;0;48;2;0;0;0m▀\u001b[38;2;4;4;4;48;2;0;0;0m▀\u001b[38;2;0;0;0;48;2;1;1;1m▀\u001b[38;2;1;1;1;48;2;0;0;0m▀\u001b[38;2;0;0;0;48;2;0;0;0m▀\u001b[38;2;3;3;3;48;2;0;0;0m▀\u001b[38;2;0;0;0;48;2;0;0;0m▀\u001b[38;2;4;4;4;48;2;0;0;0m▀\u001b[38;2;0;0;0;48;2;0;0;0m▀\u001b[38;2;3;3;3;48;2;0;0;0m▀\u001b[38;2;0;0;0;48;2;0;0;0m▀\u001b[38;2;3;3;3;48;2;0;0;0m▀\u001b[38;2;0;0;0;48;2;0;0;0m▀\u001b[38;2;2;2;2;48;2;0;0;0m▀\u001b[38;2;0;0;0;48;2;0;0;0m▀\u001b[38;2;2;2;2;48;2;0;0;0m▀\u001b[38;2;0;0;0;48;2;0;0;0m▀\u001b[38;2;0;0;0;48;2;0;0;0m▀\u001b[38;2;0;0;0;48;2;0;0;0m▀\u001b[38;2;0;0;0;48;2;0;0;0m▀\u001b[38;2;0;0;0;48;2;0;0;0m▀\u001b[38;2;0;0;0;48;2;0;0;0m▀\u001b[38;2;0;0;0;48;2;0;0;0m▀\u001b[38;2;0;0;0;48;2;0;0;0m▀\u001b[38;2;0;0;0;48;2;0;0;0m▀\u001b[38;2;0;0;0;48;2;0;0;0m▀\u001b[38;2;0;0;0;48;2;0;0;0m▀\u001b[0m\n",
       "\u001b[0m\u001b[38;2;0;0;0;48;2;0;0;0m▀\u001b[38;2;0;0;0;48;2;0;0;0m▀\u001b[38;2;0;0;0;48;2;0;0;0m▀\u001b[38;2;0;0;0;48;2;0;0;0m▀\u001b[38;2;0;0;0;48;2;0;0;0m▀\u001b[38;2;0;0;0;48;2;0;0;0m▀\u001b[38;2;0;0;0;48;2;0;0;0m▀\u001b[38;2;0;0;0;48;2;0;0;0m▀\u001b[38;2;0;0;0;48;2;0;0;0m▀\u001b[38;2;0;0;0;48;2;0;0;0m▀\u001b[38;2;0;0;0;48;2;0;0;0m▀\u001b[38;2;0;0;0;48;2;0;0;0m▀\u001b[38;2;0;0;0;48;2;0;0;0m▀\u001b[38;2;0;0;0;48;2;0;0;0m▀\u001b[38;2;0;0;0;48;2;0;0;0m▀\u001b[38;2;0;0;0;48;2;0;0;0m▀\u001b[38;2;0;0;0;48;2;3;3;3m▀\u001b[38;2;5;5;5;48;2;0;0;0m▀\u001b[38;2;0;0;0;48;2;2;2;2m▀\u001b[38;2;4;4;4;48;2;0;0;0m▀\u001b[38;2;0;0;0;48;2;0;0;0m▀\u001b[38;2;6;6;6;48;2;0;0;0m▀\u001b[38;2;0;0;0;48;2;2;2;2m▀\u001b[38;2;1;1;1;48;2;0;0;0m▀\u001b[38;2;0;0;0;48;2;0;0;0m▀\u001b[38;2;1;1;1;48;2;0;0;0m▀\u001b[38;2;0;0;0;48;2;0;0;0m▀\u001b[38;2;3;3;3;48;2;0;0;0m▀\u001b[38;2;0;0;0;48;2;0;0;0m▀\u001b[38;2;7;7;7;48;2;0;0;0m▀\u001b[38;2;0;0;0;48;2;0;0;0m▀\u001b[38;2;6;6;6;48;2;0;0;0m▀\u001b[38;2;0;0;0;48;2;2;2;2m▀\u001b[38;2;8;8;8;48;2;0;0;0m▀\u001b[38;2;0;0;0;48;2;4;4;4m▀\u001b[38;2;6;6;6;48;2;0;0;0m▀\u001b[38;2;0;0;0;48;2;0;0;0m▀\u001b[38;2;0;0;0;48;2;0;0;0m▀\u001b[38;2;0;0;0;48;2;0;0;0m▀\u001b[38;2;0;0;0;48;2;0;0;0m▀\u001b[38;2;0;0;0;48;2;0;0;0m▀\u001b[38;2;0;0;0;48;2;0;0;0m▀\u001b[38;2;0;0;0;48;2;0;0;0m▀\u001b[38;2;0;0;0;48;2;0;0;0m▀\u001b[38;2;0;0;0;48;2;0;0;0m▀\u001b[38;2;0;0;0;48;2;0;0;0m▀\u001b[38;2;0;0;0;48;2;0;0;0m▀\u001b[38;2;0;0;0;48;2;0;0;0m▀\u001b[38;2;0;0;0;48;2;0;0;0m▀\u001b[38;2;0;0;0;48;2;0;0;0m▀\u001b[38;2;0;0;0;48;2;0;0;0m▀\u001b[38;2;0;0;0;48;2;0;0;0m▀\u001b[38;2;0;0;0;48;2;0;0;0m▀\u001b[38;2;0;0;0;48;2;0;0;0m▀\u001b[38;2;0;0;0;48;2;0;0;0m▀\u001b[38;2;0;0;0;48;2;0;0;0m▀\u001b[38;2;0;0;0;48;2;0;0;0m▀\u001b[0m\n",
       "\u001b[0m\u001b[38;2;0;0;0;48;2;0;0;0m▀\u001b[38;2;0;0;0;48;2;0;0;0m▀\u001b[38;2;0;0;0;48;2;0;0;0m▀\u001b[38;2;0;0;0;48;2;0;0;0m▀\u001b[38;2;0;0;0;48;2;0;0;0m▀\u001b[38;2;0;0;0;48;2;0;0;0m▀\u001b[38;2;0;0;0;48;2;0;0;0m▀\u001b[38;2;0;0;0;48;2;0;0;0m▀\u001b[38;2;0;0;0;48;2;0;0;0m▀\u001b[38;2;0;0;0;48;2;0;0;0m▀\u001b[38;2;0;0;0;48;2;0;0;0m▀\u001b[38;2;0;0;0;48;2;0;0;0m▀\u001b[38;2;0;0;0;48;2;0;0;0m▀\u001b[38;2;0;0;0;48;2;0;0;0m▀\u001b[38;2;0;0;0;48;2;0;0;0m▀\u001b[38;2;0;0;0;48;2;0;0;0m▀\u001b[38;2;0;0;0;48;2;0;0;0m▀\u001b[38;2;2;2;2;48;2;0;0;0m▀\u001b[38;2;0;0;0;48;2;1;1;1m▀\u001b[38;2;6;6;6;48;2;0;0;0m▀\u001b[38;2;0;0;0;48;2;0;0;0m▀\u001b[38;2;3;3;3;48;2;0;0;0m▀\u001b[38;2;0;0;0;48;2;4;4;4m▀\u001b[38;2;5;5;5;48;2;0;0;0m▀\u001b[38;2;0;0;0;48;2;0;0;0m▀\u001b[38;2;2;2;2;48;2;0;0;0m▀\u001b[38;2;0;0;0;48;2;0;0;0m▀\u001b[38;2;7;7;7;48;2;0;0;0m▀\u001b[38;2;0;0;0;48;2;0;0;0m▀\u001b[38;2;1;1;1;48;2;0;0;0m▀\u001b[38;2;0;0;0;48;2;0;0;0m▀\u001b[38;2;0;0;0;48;2;0;0;0m▀\u001b[38;2;0;0;0;48;2;0;0;0m▀\u001b[38;2;1;1;1;48;2;0;0;0m▀\u001b[38;2;0;0;0;48;2;0;0;0m▀\u001b[38;2;7;7;7;48;2;0;0;0m▀\u001b[38;2;1;1;1;48;2;0;0;0m▀\u001b[38;2;0;0;0;48;2;0;0;0m▀\u001b[38;2;0;0;0;48;2;0;0;0m▀\u001b[38;2;0;0;0;48;2;0;0;0m▀\u001b[38;2;0;0;0;48;2;0;0;0m▀\u001b[38;2;0;0;0;48;2;0;0;0m▀\u001b[38;2;0;0;0;48;2;0;0;0m▀\u001b[38;2;0;0;0;48;2;0;0;0m▀\u001b[38;2;0;0;0;48;2;0;0;0m▀\u001b[38;2;0;0;0;48;2;0;0;0m▀\u001b[38;2;0;0;0;48;2;0;0;0m▀\u001b[38;2;0;0;0;48;2;0;0;0m▀\u001b[38;2;0;0;0;48;2;0;0;0m▀\u001b[38;2;0;0;0;48;2;0;0;0m▀\u001b[38;2;0;0;0;48;2;0;0;0m▀\u001b[38;2;0;0;0;48;2;0;0;0m▀\u001b[38;2;0;0;0;48;2;0;0;0m▀\u001b[38;2;0;0;0;48;2;0;0;0m▀\u001b[38;2;0;0;0;48;2;0;0;0m▀\u001b[38;2;0;0;0;48;2;0;0;0m▀\u001b[38;2;0;0;0;48;2;0;0;0m▀\u001b[0m\n",
       "\u001b[0m\u001b[38;2;0;0;0;48;2;0;0;0m▀\u001b[38;2;0;0;0;48;2;0;0;0m▀\u001b[38;2;0;0;0;48;2;0;0;0m▀\u001b[38;2;0;0;0;48;2;0;0;0m▀\u001b[38;2;0;0;0;48;2;0;0;0m▀\u001b[38;2;0;0;0;48;2;0;0;0m▀\u001b[38;2;0;0;0;48;2;0;0;0m▀\u001b[38;2;0;0;0;48;2;0;0;0m▀\u001b[38;2;0;0;0;48;2;0;0;0m▀\u001b[38;2;0;0;0;48;2;0;0;0m▀\u001b[38;2;0;0;0;48;2;0;0;0m▀\u001b[38;2;0;0;0;48;2;0;0;0m▀\u001b[38;2;0;0;0;48;2;0;0;0m▀\u001b[38;2;0;0;0;48;2;0;0;0m▀\u001b[38;2;0;0;0;48;2;0;0;0m▀\u001b[38;2;0;0;0;48;2;0;0;0m▀\u001b[38;2;0;0;0;48;2;0;0;0m▀\u001b[38;2;0;0;0;48;2;0;0;0m▀\u001b[38;2;0;0;0;48;2;0;0;0m▀\u001b[38;2;1;1;1;48;2;0;0;0m▀\u001b[38;2;0;0;0;48;2;0;0;0m▀\u001b[38;2;0;0;0;48;2;0;0;0m▀\u001b[38;2;0;0;0;48;2;6;6;6m▀\u001b[38;2;0;0;0;48;2;0;0;0m▀\u001b[38;2;0;0;0;48;2;0;0;0m▀\u001b[38;2;3;3;3;48;2;0;0;0m▀\u001b[38;2;0;0;0;48;2;0;0;0m▀\u001b[38;2;0;0;0;48;2;0;0;0m▀\u001b[38;2;0;0;0;48;2;0;0;0m▀\u001b[38;2;0;0;0;48;2;0;0;0m▀\u001b[38;2;0;0;0;48;2;0;0;0m▀\u001b[38;2;0;0;0;48;2;0;0;0m▀\u001b[38;2;0;0;0;48;2;0;0;0m▀\u001b[38;2;0;0;0;48;2;0;0;0m▀\u001b[38;2;0;0;0;48;2;0;0;0m▀\u001b[38;2;0;0;0;48;2;0;0;0m▀\u001b[38;2;0;0;0;48;2;0;0;0m▀\u001b[38;2;0;0;0;48;2;0;0;0m▀\u001b[38;2;0;0;0;48;2;0;0;0m▀\u001b[38;2;0;0;0;48;2;0;0;0m▀\u001b[38;2;0;0;0;48;2;0;0;0m▀\u001b[38;2;0;0;0;48;2;0;0;0m▀\u001b[38;2;0;0;0;48;2;0;0;0m▀\u001b[38;2;0;0;0;48;2;0;0;0m▀\u001b[38;2;0;0;0;48;2;0;0;0m▀\u001b[38;2;0;0;0;48;2;0;0;0m▀\u001b[38;2;0;0;0;48;2;0;0;0m▀\u001b[38;2;0;0;0;48;2;0;0;0m▀\u001b[38;2;0;0;0;48;2;0;0;0m▀\u001b[38;2;0;0;0;48;2;0;0;0m▀\u001b[38;2;0;0;0;48;2;0;0;0m▀\u001b[38;2;0;0;0;48;2;0;0;0m▀\u001b[38;2;0;0;0;48;2;0;0;0m▀\u001b[38;2;0;0;0;48;2;0;0;0m▀\u001b[38;2;0;0;0;48;2;0;0;0m▀\u001b[38;2;0;0;0;48;2;0;0;0m▀\u001b[38;2;0;0;0;48;2;0;0;0m▀\u001b[0m\n",
       "\u001b[0m\u001b[38;2;0;0;0;48;2;0;0;0m▀\u001b[38;2;0;0;0;48;2;0;0;0m▀\u001b[38;2;0;0;0;48;2;0;0;0m▀\u001b[38;2;0;0;0;48;2;0;0;0m▀\u001b[38;2;0;0;0;48;2;0;0;0m▀\u001b[38;2;0;0;0;48;2;0;0;0m▀\u001b[38;2;0;0;0;48;2;0;0;0m▀\u001b[38;2;0;0;0;48;2;0;0;0m▀\u001b[38;2;0;0;0;48;2;0;0;0m▀\u001b[38;2;0;0;0;48;2;0;0;0m▀\u001b[38;2;0;0;0;48;2;0;0;0m▀\u001b[38;2;0;0;0;48;2;0;0;0m▀\u001b[38;2;0;0;0;48;2;0;0;0m▀\u001b[38;2;0;0;0;48;2;0;0;0m▀\u001b[38;2;0;0;0;48;2;0;0;0m▀\u001b[38;2;0;0;0;48;2;0;0;0m▀\u001b[38;2;0;0;0;48;2;0;0;0m▀\u001b[38;2;0;0;0;48;2;0;0;0m▀\u001b[38;2;0;0;0;48;2;0;0;0m▀\u001b[38;2;0;0;0;48;2;0;0;0m▀\u001b[38;2;0;0;0;48;2;0;0;0m▀\u001b[38;2;0;0;0;48;2;0;0;0m▀\u001b[38;2;0;0;0;48;2;0;0;0m▀\u001b[38;2;4;4;4;48;2;0;0;0m▀\u001b[38;2;0;0;0;48;2;7;7;7m▀\u001b[38;2;4;4;4;48;2;0;0;0m▀\u001b[38;2;0;0;0;48;2;0;0;0m▀\u001b[38;2;0;0;0;48;2;0;0;0m▀\u001b[38;2;0;0;0;48;2;0;0;0m▀\u001b[38;2;0;0;0;48;2;0;0;0m▀\u001b[38;2;0;0;0;48;2;0;0;0m▀\u001b[38;2;0;0;0;48;2;0;0;0m▀\u001b[38;2;0;0;0;48;2;0;0;0m▀\u001b[38;2;0;0;0;48;2;0;0;0m▀\u001b[38;2;0;0;0;48;2;0;0;0m▀\u001b[38;2;0;0;0;48;2;0;0;0m▀\u001b[38;2;0;0;0;48;2;0;0;0m▀\u001b[38;2;0;0;0;48;2;0;0;0m▀\u001b[38;2;0;0;0;48;2;0;0;0m▀\u001b[38;2;0;0;0;48;2;0;0;0m▀\u001b[38;2;0;0;0;48;2;0;0;0m▀\u001b[38;2;0;0;0;48;2;0;0;0m▀\u001b[38;2;0;0;0;48;2;0;0;0m▀\u001b[38;2;0;0;0;48;2;0;0;0m▀\u001b[38;2;0;0;0;48;2;0;0;0m▀\u001b[38;2;0;0;0;48;2;0;0;0m▀\u001b[38;2;0;0;0;48;2;0;0;0m▀\u001b[38;2;0;0;0;48;2;0;0;0m▀\u001b[38;2;0;0;0;48;2;0;0;0m▀\u001b[38;2;0;0;0;48;2;0;0;0m▀\u001b[38;2;0;0;0;48;2;0;0;0m▀\u001b[38;2;0;0;0;48;2;0;0;0m▀\u001b[38;2;0;0;0;48;2;0;0;0m▀\u001b[38;2;0;0;0;48;2;0;0;0m▀\u001b[38;2;0;0;0;48;2;0;0;0m▀\u001b[38;2;0;0;0;48;2;0;0;0m▀\u001b[38;2;0;0;0;48;2;0;0;0m▀\u001b[0m\n",
       "\u001b[0m\u001b[38;2;0;0;0;48;2;0;0;0m▀\u001b[38;2;0;0;0;48;2;0;0;0m▀\u001b[38;2;0;0;0;48;2;0;0;0m▀\u001b[38;2;0;0;0;48;2;0;0;0m▀\u001b[38;2;0;0;0;48;2;0;0;0m▀\u001b[38;2;0;0;0;48;2;0;0;0m▀\u001b[38;2;0;0;0;48;2;0;0;0m▀\u001b[38;2;0;0;0;48;2;0;0;0m▀\u001b[38;2;0;0;0;48;2;0;0;0m▀\u001b[38;2;0;0;0;48;2;0;0;0m▀\u001b[38;2;0;0;0;48;2;0;0;0m▀\u001b[38;2;0;0;0;48;2;0;0;0m▀\u001b[38;2;0;0;0;48;2;0;0;0m▀\u001b[38;2;0;0;0;48;2;0;0;0m▀\u001b[38;2;0;0;0;48;2;0;0;0m▀\u001b[38;2;0;0;0;48;2;0;0;0m▀\u001b[38;2;0;0;0;48;2;0;0;0m▀\u001b[38;2;0;0;0;48;2;0;0;0m▀\u001b[38;2;0;0;0;48;2;0;0;0m▀\u001b[38;2;0;0;0;48;2;0;0;0m▀\u001b[38;2;0;0;0;48;2;0;0;0m▀\u001b[38;2;0;0;0;48;2;0;0;0m▀\u001b[38;2;0;0;0;48;2;0;0;0m▀\u001b[38;2;0;0;0;48;2;0;0;0m▀\u001b[38;2;0;0;0;48;2;1;1;1m▀\u001b[38;2;6;6;6;48;2;0;0;0m▀\u001b[38;2;0;0;0;48;2;7;7;7m▀\u001b[38;2;3;3;3;48;2;0;0;0m▀\u001b[38;2;0;0;0;48;2;0;0;0m▀\u001b[38;2;0;0;0;48;2;0;0;0m▀\u001b[38;2;0;0;0;48;2;0;0;0m▀\u001b[38;2;0;0;0;48;2;0;0;0m▀\u001b[38;2;0;0;0;48;2;0;0;0m▀\u001b[38;2;0;0;0;48;2;0;0;0m▀\u001b[38;2;0;0;0;48;2;0;0;0m▀\u001b[38;2;0;0;0;48;2;0;0;0m▀\u001b[38;2;0;0;0;48;2;0;0;0m▀\u001b[38;2;0;0;0;48;2;0;0;0m▀\u001b[38;2;0;0;0;48;2;0;0;0m▀\u001b[38;2;0;0;0;48;2;0;0;0m▀\u001b[38;2;0;0;0;48;2;0;0;0m▀\u001b[38;2;0;0;0;48;2;0;0;0m▀\u001b[38;2;0;0;0;48;2;0;0;0m▀\u001b[38;2;0;0;0;48;2;0;0;0m▀\u001b[38;2;0;0;0;48;2;0;0;0m▀\u001b[38;2;0;0;0;48;2;0;0;0m▀\u001b[38;2;0;0;0;48;2;0;0;0m▀\u001b[38;2;0;0;0;48;2;0;0;0m▀\u001b[38;2;0;0;0;48;2;0;0;0m▀\u001b[38;2;0;0;0;48;2;0;0;0m▀\u001b[38;2;0;0;0;48;2;0;0;0m▀\u001b[38;2;0;0;0;48;2;0;0;0m▀\u001b[38;2;0;0;0;48;2;0;0;0m▀\u001b[38;2;0;0;0;48;2;0;0;0m▀\u001b[38;2;0;0;0;48;2;0;0;0m▀\u001b[38;2;0;0;0;48;2;0;0;0m▀\u001b[38;2;0;0;0;48;2;0;0;0m▀\u001b[0m\n",
       "\u001b[0m\u001b[38;2;0;0;0;48;2;0;0;0m▀\u001b[38;2;0;0;0;48;2;0;0;0m▀\u001b[38;2;0;0;0;48;2;0;0;0m▀\u001b[38;2;0;0;0;48;2;0;0;0m▀\u001b[38;2;0;0;0;48;2;0;0;0m▀\u001b[38;2;0;0;0;48;2;0;0;0m▀\u001b[38;2;0;0;0;48;2;0;0;0m▀\u001b[38;2;0;0;0;48;2;0;0;0m▀\u001b[38;2;0;0;0;48;2;0;0;0m▀\u001b[38;2;0;0;0;48;2;0;0;0m▀\u001b[38;2;0;0;0;48;2;0;0;0m▀\u001b[38;2;0;0;0;48;2;0;0;0m▀\u001b[38;2;0;0;0;48;2;0;0;0m▀\u001b[38;2;0;0;0;48;2;0;0;0m▀\u001b[38;2;0;0;0;48;2;0;0;0m▀\u001b[38;2;0;0;0;48;2;0;0;0m▀\u001b[38;2;0;0;0;48;2;0;0;0m▀\u001b[38;2;0;0;0;48;2;0;0;0m▀\u001b[38;2;0;0;0;48;2;0;0;0m▀\u001b[38;2;0;0;0;48;2;0;0;0m▀\u001b[38;2;0;0;0;48;2;0;0;0m▀\u001b[38;2;0;0;0;48;2;0;0;0m▀\u001b[38;2;0;0;0;48;2;0;0;0m▀\u001b[38;2;0;0;0;48;2;0;0;0m▀\u001b[38;2;0;0;0;48;2;0;0;0m▀\u001b[38;2;0;0;0;48;2;0;0;0m▀\u001b[38;2;0;0;0;48;2;3;3;3m▀\u001b[38;2;7;7;7;48;2;0;0;0m▀\u001b[38;2;0;0;0;48;2;5;5;5m▀\u001b[38;2;1;1;1;48;2;0;0;0m▀\u001b[38;2;0;0;0;48;2;0;0;0m▀\u001b[38;2;0;0;0;48;2;0;0;0m▀\u001b[38;2;0;0;0;48;2;0;0;0m▀\u001b[38;2;0;0;0;48;2;0;0;0m▀\u001b[38;2;0;0;0;48;2;0;0;0m▀\u001b[38;2;0;0;0;48;2;0;0;0m▀\u001b[38;2;0;0;0;48;2;0;0;0m▀\u001b[38;2;0;0;0;48;2;0;0;0m▀\u001b[38;2;0;0;0;48;2;0;0;0m▀\u001b[38;2;0;0;0;48;2;0;0;0m▀\u001b[38;2;0;0;0;48;2;0;0;0m▀\u001b[38;2;0;0;0;48;2;0;0;0m▀\u001b[38;2;0;0;0;48;2;0;0;0m▀\u001b[38;2;0;0;0;48;2;0;0;0m▀\u001b[38;2;0;0;0;48;2;0;0;0m▀\u001b[38;2;0;0;0;48;2;0;0;0m▀\u001b[38;2;0;0;0;48;2;0;0;0m▀\u001b[38;2;0;0;0;48;2;0;0;0m▀\u001b[38;2;0;0;0;48;2;0;0;0m▀\u001b[38;2;0;0;0;48;2;0;0;0m▀\u001b[38;2;0;0;0;48;2;0;0;0m▀\u001b[38;2;0;0;0;48;2;0;0;0m▀\u001b[38;2;0;0;0;48;2;0;0;0m▀\u001b[38;2;0;0;0;48;2;0;0;0m▀\u001b[38;2;0;0;0;48;2;0;0;0m▀\u001b[38;2;0;0;0;48;2;0;0;0m▀\u001b[38;2;0;0;0;48;2;0;0;0m▀\u001b[0m\n",
       "\u001b[0m\u001b[38;2;0;0;0;48;2;0;0;0m▀\u001b[38;2;0;0;0;48;2;0;0;0m▀\u001b[38;2;0;0;0;48;2;0;0;0m▀\u001b[38;2;0;0;0;48;2;0;0;0m▀\u001b[38;2;0;0;0;48;2;0;0;0m▀\u001b[38;2;0;0;0;48;2;0;0;0m▀\u001b[38;2;0;0;0;48;2;0;0;0m▀\u001b[38;2;0;0;0;48;2;0;0;0m▀\u001b[38;2;0;0;0;48;2;0;0;0m▀\u001b[38;2;0;0;0;48;2;0;0;0m▀\u001b[38;2;0;0;0;48;2;0;0;0m▀\u001b[38;2;0;0;0;48;2;0;0;0m▀\u001b[38;2;0;0;0;48;2;0;0;0m▀\u001b[38;2;0;0;0;48;2;0;0;0m▀\u001b[38;2;0;0;0;48;2;0;0;0m▀\u001b[38;2;0;0;0;48;2;0;0;0m▀\u001b[38;2;0;0;0;48;2;0;0;0m▀\u001b[38;2;0;0;0;48;2;0;0;0m▀\u001b[38;2;0;0;0;48;2;0;0;0m▀\u001b[38;2;0;0;0;48;2;0;0;0m▀\u001b[38;2;0;0;0;48;2;0;0;0m▀\u001b[38;2;0;0;0;48;2;0;0;0m▀\u001b[38;2;0;0;0;48;2;0;0;0m▀\u001b[38;2;0;0;0;48;2;0;0;0m▀\u001b[38;2;0;0;0;48;2;0;0;0m▀\u001b[38;2;0;0;0;48;2;0;0;0m▀\u001b[38;2;0;0;0;48;2;0;0;0m▀\u001b[38;2;2;2;2;48;2;0;0;0m▀\u001b[38;2;0;0;0;48;2;2;2;2m▀\u001b[38;2;8;8;8;48;2;0;0;0m▀\u001b[38;2;0;0;0;48;2;5;5;5m▀\u001b[38;2;3;3;3;48;2;0;0;0m▀\u001b[38;2;0;0;0;48;2;0;0;0m▀\u001b[38;2;2;2;2;48;2;0;0;0m▀\u001b[38;2;0;0;0;48;2;0;0;0m▀\u001b[38;2;0;0;0;48;2;0;0;0m▀\u001b[38;2;0;0;0;48;2;0;0;0m▀\u001b[38;2;0;0;0;48;2;0;0;0m▀\u001b[38;2;0;0;0;48;2;0;0;0m▀\u001b[38;2;0;0;0;48;2;0;0;0m▀\u001b[38;2;0;0;0;48;2;0;0;0m▀\u001b[38;2;0;0;0;48;2;0;0;0m▀\u001b[38;2;0;0;0;48;2;0;0;0m▀\u001b[38;2;0;0;0;48;2;0;0;0m▀\u001b[38;2;0;0;0;48;2;0;0;0m▀\u001b[38;2;0;0;0;48;2;0;0;0m▀\u001b[38;2;0;0;0;48;2;0;0;0m▀\u001b[38;2;0;0;0;48;2;0;0;0m▀\u001b[38;2;0;0;0;48;2;0;0;0m▀\u001b[38;2;0;0;0;48;2;0;0;0m▀\u001b[38;2;0;0;0;48;2;0;0;0m▀\u001b[38;2;0;0;0;48;2;0;0;0m▀\u001b[38;2;0;0;0;48;2;0;0;0m▀\u001b[38;2;0;0;0;48;2;0;0;0m▀\u001b[38;2;0;0;0;48;2;0;0;0m▀\u001b[38;2;0;0;0;48;2;0;0;0m▀\u001b[38;2;0;0;0;48;2;0;0;0m▀\u001b[0m\n",
       "\u001b[0m\u001b[38;2;0;0;0;48;2;0;0;0m▀\u001b[38;2;0;0;0;48;2;0;0;0m▀\u001b[38;2;0;0;0;48;2;0;0;0m▀\u001b[38;2;0;0;0;48;2;0;0;0m▀\u001b[38;2;0;0;0;48;2;0;0;0m▀\u001b[38;2;0;0;0;48;2;0;0;0m▀\u001b[38;2;0;0;0;48;2;0;0;0m▀\u001b[38;2;0;0;0;48;2;0;0;0m▀\u001b[38;2;0;0;0;48;2;0;0;0m▀\u001b[38;2;0;0;0;48;2;0;0;0m▀\u001b[38;2;0;0;0;48;2;0;0;0m▀\u001b[38;2;0;0;0;48;2;0;0;0m▀\u001b[38;2;0;0;0;48;2;0;0;0m▀\u001b[38;2;0;0;0;48;2;0;0;0m▀\u001b[38;2;0;0;0;48;2;0;0;0m▀\u001b[38;2;0;0;0;48;2;0;0;0m▀\u001b[38;2;0;0;0;48;2;0;0;0m▀\u001b[38;2;0;0;0;48;2;0;0;0m▀\u001b[38;2;0;0;0;48;2;0;0;0m▀\u001b[38;2;0;0;0;48;2;0;0;0m▀\u001b[38;2;0;0;0;48;2;0;0;0m▀\u001b[38;2;0;0;0;48;2;0;0;0m▀\u001b[38;2;0;0;0;48;2;0;0;0m▀\u001b[38;2;0;0;0;48;2;0;0;0m▀\u001b[38;2;0;0;0;48;2;0;0;0m▀\u001b[38;2;0;0;0;48;2;0;0;0m▀\u001b[38;2;0;0;0;48;2;0;0;0m▀\u001b[38;2;0;0;0;48;2;0;0;0m▀\u001b[38;2;0;0;0;48;2;0;0;0m▀\u001b[38;2;0;0;0;48;2;0;0;0m▀\u001b[38;2;0;0;0;48;2;1;1;1m▀\u001b[38;2;6;6;6;48;2;0;0;0m▀\u001b[38;2;0;0;0;48;2;3;3;3m▀\u001b[38;2;7;7;7;48;2;0;0;0m▀\u001b[38;2;0;0;0;48;2;1;1;1m▀\u001b[38;2;2;2;2;48;2;0;0;0m▀\u001b[38;2;0;0;0;48;2;0;0;0m▀\u001b[38;2;0;0;0;48;2;0;0;0m▀\u001b[38;2;0;0;0;48;2;0;0;0m▀\u001b[38;2;0;0;0;48;2;0;0;0m▀\u001b[38;2;0;0;0;48;2;0;0;0m▀\u001b[38;2;0;0;0;48;2;0;0;0m▀\u001b[38;2;0;0;0;48;2;0;0;0m▀\u001b[38;2;0;0;0;48;2;0;0;0m▀\u001b[38;2;0;0;0;48;2;0;0;0m▀\u001b[38;2;0;0;0;48;2;0;0;0m▀\u001b[38;2;0;0;0;48;2;0;0;0m▀\u001b[38;2;0;0;0;48;2;0;0;0m▀\u001b[38;2;0;0;0;48;2;0;0;0m▀\u001b[38;2;0;0;0;48;2;0;0;0m▀\u001b[38;2;0;0;0;48;2;0;0;0m▀\u001b[38;2;0;0;0;48;2;0;0;0m▀\u001b[38;2;0;0;0;48;2;0;0;0m▀\u001b[38;2;0;0;0;48;2;0;0;0m▀\u001b[38;2;0;0;0;48;2;0;0;0m▀\u001b[38;2;0;0;0;48;2;0;0;0m▀\u001b[38;2;0;0;0;48;2;0;0;0m▀\u001b[0m\n",
       "\u001b[0m\u001b[38;2;0;0;0;48;2;0;0;0m▀\u001b[38;2;0;0;0;48;2;0;0;0m▀\u001b[38;2;0;0;0;48;2;0;0;0m▀\u001b[38;2;0;0;0;48;2;0;0;0m▀\u001b[38;2;0;0;0;48;2;0;0;0m▀\u001b[38;2;0;0;0;48;2;0;0;0m▀\u001b[38;2;0;0;0;48;2;0;0;0m▀\u001b[38;2;0;0;0;48;2;0;0;0m▀\u001b[38;2;0;0;0;48;2;0;0;0m▀\u001b[38;2;0;0;0;48;2;0;0;0m▀\u001b[38;2;0;0;0;48;2;0;0;0m▀\u001b[38;2;0;0;0;48;2;0;0;0m▀\u001b[38;2;0;0;0;48;2;0;0;0m▀\u001b[38;2;0;0;0;48;2;0;0;0m▀\u001b[38;2;0;0;0;48;2;0;0;0m▀\u001b[38;2;0;0;0;48;2;0;0;0m▀\u001b[38;2;0;0;0;48;2;0;0;0m▀\u001b[38;2;0;0;0;48;2;0;0;0m▀\u001b[38;2;0;0;0;48;2;0;0;0m▀\u001b[38;2;0;0;0;48;2;0;0;0m▀\u001b[38;2;0;0;0;48;2;0;0;0m▀\u001b[38;2;0;0;0;48;2;0;0;0m▀\u001b[38;2;0;0;0;48;2;0;0;0m▀\u001b[38;2;0;0;0;48;2;0;0;0m▀\u001b[38;2;0;0;0;48;2;0;0;0m▀\u001b[38;2;0;0;0;48;2;0;0;0m▀\u001b[38;2;0;0;0;48;2;0;0;0m▀\u001b[38;2;0;0;0;48;2;0;0;0m▀\u001b[38;2;0;0;0;48;2;0;0;0m▀\u001b[38;2;0;0;0;48;2;0;0;0m▀\u001b[38;2;0;0;0;48;2;0;0;0m▀\u001b[38;2;0;0;0;48;2;0;0;0m▀\u001b[38;2;0;0;0;48;2;0;0;0m▀\u001b[38;2;2;2;2;48;2;0;0;0m▀\u001b[38;2;0;0;0;48;2;3;3;3m▀\u001b[38;2;1;1;1;48;2;0;0;0m▀\u001b[38;2;0;0;0;48;2;0;0;0m▀\u001b[38;2;2;2;2;48;2;0;0;0m▀\u001b[38;2;0;0;0;48;2;0;0;0m▀\u001b[38;2;0;0;0;48;2;0;0;0m▀\u001b[38;2;0;0;0;48;2;0;0;0m▀\u001b[38;2;0;0;0;48;2;0;0;0m▀\u001b[38;2;0;0;0;48;2;0;0;0m▀\u001b[38;2;0;0;0;48;2;0;0;0m▀\u001b[38;2;0;0;0;48;2;0;0;0m▀\u001b[38;2;0;0;0;48;2;0;0;0m▀\u001b[38;2;0;0;0;48;2;0;0;0m▀\u001b[38;2;0;0;0;48;2;0;0;0m▀\u001b[38;2;0;0;0;48;2;0;0;0m▀\u001b[38;2;0;0;0;48;2;0;0;0m▀\u001b[38;2;0;0;0;48;2;0;0;0m▀\u001b[38;2;0;0;0;48;2;0;0;0m▀\u001b[38;2;0;0;0;48;2;0;0;0m▀\u001b[38;2;0;0;0;48;2;0;0;0m▀\u001b[38;2;0;0;0;48;2;0;0;0m▀\u001b[38;2;0;0;0;48;2;0;0;0m▀\u001b[38;2;0;0;0;48;2;0;0;0m▀\u001b[0m\n",
       "\u001b[0m\u001b[38;2;0;0;0;48;2;0;0;0m▀\u001b[38;2;0;0;0;48;2;0;0;0m▀\u001b[38;2;0;0;0;48;2;0;0;0m▀\u001b[38;2;0;0;0;48;2;0;0;0m▀\u001b[38;2;0;0;0;48;2;0;0;0m▀\u001b[38;2;0;0;0;48;2;0;0;0m▀\u001b[38;2;0;0;0;48;2;0;0;0m▀\u001b[38;2;0;0;0;48;2;0;0;0m▀\u001b[38;2;0;0;0;48;2;0;0;0m▀\u001b[38;2;0;0;0;48;2;0;0;0m▀\u001b[38;2;0;0;0;48;2;0;0;0m▀\u001b[38;2;0;0;0;48;2;0;0;0m▀\u001b[38;2;0;0;0;48;2;0;0;0m▀\u001b[38;2;0;0;0;48;2;0;0;0m▀\u001b[38;2;0;0;0;48;2;0;0;0m▀\u001b[38;2;0;0;0;48;2;0;0;0m▀\u001b[38;2;0;0;0;48;2;0;0;0m▀\u001b[38;2;0;0;0;48;2;0;0;0m▀\u001b[38;2;0;0;0;48;2;0;0;0m▀\u001b[38;2;0;0;0;48;2;0;0;0m▀\u001b[38;2;0;0;0;48;2;0;0;0m▀\u001b[38;2;0;0;0;48;2;0;0;0m▀\u001b[38;2;0;0;0;48;2;0;0;0m▀\u001b[38;2;0;0;0;48;2;0;0;0m▀\u001b[38;2;0;0;0;48;2;0;0;0m▀\u001b[38;2;0;0;0;48;2;0;0;0m▀\u001b[38;2;0;0;0;48;2;0;0;0m▀\u001b[38;2;0;0;0;48;2;0;0;0m▀\u001b[38;2;0;0;0;48;2;0;0;0m▀\u001b[38;2;0;0;0;48;2;0;0;0m▀\u001b[38;2;0;0;0;48;2;0;0;0m▀\u001b[38;2;0;0;0;48;2;0;0;0m▀\u001b[38;2;0;0;0;48;2;0;0;0m▀\u001b[38;2;0;0;0;48;2;0;0;0m▀\u001b[38;2;0;0;0;48;2;0;0;0m▀\u001b[38;2;1;1;1;48;2;0;0;0m▀\u001b[38;2;0;0;0;48;2;0;0;0m▀\u001b[38;2;1;1;1;48;2;0;0;0m▀\u001b[38;2;0;0;0;48;2;0;0;0m▀\u001b[38;2;4;4;4;48;2;0;0;0m▀\u001b[38;2;0;0;0;48;2;0;0;0m▀\u001b[38;2;3;3;3;48;2;0;0;0m▀\u001b[38;2;0;0;0;48;2;0;0;0m▀\u001b[38;2;0;0;0;48;2;0;0;0m▀\u001b[38;2;0;0;0;48;2;0;0;0m▀\u001b[38;2;0;0;0;48;2;0;0;0m▀\u001b[38;2;0;0;0;48;2;0;0;0m▀\u001b[38;2;0;0;0;48;2;0;0;0m▀\u001b[38;2;0;0;0;48;2;0;0;0m▀\u001b[38;2;0;0;0;48;2;0;0;0m▀\u001b[38;2;0;0;0;48;2;0;0;0m▀\u001b[38;2;0;0;0;48;2;0;0;0m▀\u001b[38;2;0;0;0;48;2;0;0;0m▀\u001b[38;2;0;0;0;48;2;0;0;0m▀\u001b[38;2;0;0;0;48;2;0;0;0m▀\u001b[38;2;0;0;0;48;2;0;0;0m▀\u001b[38;2;0;0;0;48;2;0;0;0m▀\u001b[0m\n",
       "\u001b[0m\u001b[38;2;0;0;0;48;2;0;0;0m▀\u001b[38;2;0;0;0;48;2;0;0;0m▀\u001b[38;2;0;0;0;48;2;0;0;0m▀\u001b[38;2;0;0;0;48;2;0;0;0m▀\u001b[38;2;0;0;0;48;2;0;0;0m▀\u001b[38;2;0;0;0;48;2;0;0;0m▀\u001b[38;2;0;0;0;48;2;0;0;0m▀\u001b[38;2;0;0;0;48;2;0;0;0m▀\u001b[38;2;0;0;0;48;2;0;0;0m▀\u001b[38;2;0;0;0;48;2;0;0;0m▀\u001b[38;2;0;0;0;48;2;0;0;0m▀\u001b[38;2;0;0;0;48;2;0;0;0m▀\u001b[38;2;0;0;0;48;2;0;0;0m▀\u001b[38;2;0;0;0;48;2;0;0;0m▀\u001b[38;2;0;0;0;48;2;0;0;0m▀\u001b[38;2;0;0;0;48;2;0;0;0m▀\u001b[38;2;0;0;0;48;2;0;0;0m▀\u001b[38;2;0;0;0;48;2;0;0;0m▀\u001b[38;2;0;0;0;48;2;0;0;0m▀\u001b[38;2;0;0;0;48;2;0;0;0m▀\u001b[38;2;0;0;0;48;2;0;0;0m▀\u001b[38;2;0;0;0;48;2;0;0;0m▀\u001b[38;2;0;0;0;48;2;0;0;0m▀\u001b[38;2;0;0;0;48;2;0;0;0m▀\u001b[38;2;0;0;0;48;2;0;0;0m▀\u001b[38;2;0;0;0;48;2;0;0;0m▀\u001b[38;2;0;0;0;48;2;0;0;0m▀\u001b[38;2;0;0;0;48;2;0;0;0m▀\u001b[38;2;0;0;0;48;2;0;0;0m▀\u001b[38;2;0;0;0;48;2;0;0;0m▀\u001b[38;2;0;0;0;48;2;0;0;0m▀\u001b[38;2;0;0;0;48;2;0;0;0m▀\u001b[38;2;0;0;0;48;2;0;0;0m▀\u001b[38;2;0;0;0;48;2;0;0;0m▀\u001b[38;2;0;0;0;48;2;0;0;0m▀\u001b[38;2;1;1;1;48;2;0;0;0m▀\u001b[38;2;0;0;0;48;2;0;0;0m▀\u001b[38;2;2;2;2;48;2;0;0;0m▀\u001b[38;2;0;0;0;48;2;0;0;0m▀\u001b[38;2;4;4;4;48;2;0;0;0m▀\u001b[38;2;0;0;0;48;2;0;0;0m▀\u001b[38;2;0;0;0;48;2;0;0;0m▀\u001b[38;2;0;0;0;48;2;0;0;0m▀\u001b[38;2;0;0;0;48;2;0;0;0m▀\u001b[38;2;0;0;0;48;2;0;0;0m▀\u001b[38;2;0;0;0;48;2;0;0;0m▀\u001b[38;2;0;0;0;48;2;0;0;0m▀\u001b[38;2;0;0;0;48;2;0;0;0m▀\u001b[38;2;0;0;0;48;2;0;0;0m▀\u001b[38;2;0;0;0;48;2;0;0;0m▀\u001b[38;2;0;0;0;48;2;0;0;0m▀\u001b[38;2;0;0;0;48;2;0;0;0m▀\u001b[38;2;0;0;0;48;2;0;0;0m▀\u001b[38;2;0;0;0;48;2;0;0;0m▀\u001b[38;2;0;0;0;48;2;0;0;0m▀\u001b[38;2;0;0;0;48;2;0;0;0m▀\u001b[38;2;0;0;0;48;2;0;0;0m▀\u001b[0m\n",
       "\u001b[0m\u001b[38;2;0;0;0;48;2;0;0;0m▀\u001b[38;2;0;0;0;48;2;0;0;0m▀\u001b[38;2;0;0;0;48;2;0;0;0m▀\u001b[38;2;0;0;0;48;2;0;0;0m▀\u001b[38;2;0;0;0;48;2;0;0;0m▀\u001b[38;2;0;0;0;48;2;0;0;0m▀\u001b[38;2;0;0;0;48;2;0;0;0m▀\u001b[38;2;0;0;0;48;2;0;0;0m▀\u001b[38;2;0;0;0;48;2;0;0;0m▀\u001b[38;2;0;0;0;48;2;0;0;0m▀\u001b[38;2;0;0;0;48;2;0;0;0m▀\u001b[38;2;0;0;0;48;2;0;0;0m▀\u001b[38;2;0;0;0;48;2;0;0;0m▀\u001b[38;2;0;0;0;48;2;0;0;0m▀\u001b[38;2;0;0;0;48;2;0;0;0m▀\u001b[38;2;0;0;0;48;2;0;0;0m▀\u001b[38;2;0;0;0;48;2;0;0;0m▀\u001b[38;2;0;0;0;48;2;0;0;0m▀\u001b[38;2;0;0;0;48;2;0;0;0m▀\u001b[38;2;0;0;0;48;2;0;0;0m▀\u001b[38;2;0;0;0;48;2;0;0;0m▀\u001b[38;2;0;0;0;48;2;0;0;0m▀\u001b[38;2;0;0;0;48;2;0;0;0m▀\u001b[38;2;0;0;0;48;2;0;0;0m▀\u001b[38;2;0;0;0;48;2;0;0;0m▀\u001b[38;2;0;0;0;48;2;0;0;0m▀\u001b[38;2;0;0;0;48;2;0;0;0m▀\u001b[38;2;0;0;0;48;2;0;0;0m▀\u001b[38;2;0;0;0;48;2;0;0;0m▀\u001b[38;2;0;0;0;48;2;0;0;0m▀\u001b[38;2;0;0;0;48;2;0;0;0m▀\u001b[38;2;1;1;1;48;2;0;0;0m▀\u001b[38;2;0;0;0;48;2;0;0;0m▀\u001b[38;2;1;1;1;48;2;0;0;0m▀\u001b[38;2;0;0;0;48;2;0;0;0m▀\u001b[38;2;3;3;3;48;2;0;0;0m▀\u001b[38;2;0;0;0;48;2;0;0;0m▀\u001b[38;2;8;8;8;48;2;0;0;0m▀\u001b[38;2;0;0;0;48;2;0;0;0m▀\u001b[38;2;9;9;9;48;2;0;0;0m▀\u001b[38;2;1;1;1;48;2;0;0;0m▀\u001b[38;2;0;0;0;48;2;0;0;0m▀\u001b[38;2;0;0;0;48;2;0;0;0m▀\u001b[38;2;0;0;0;48;2;0;0;0m▀\u001b[38;2;0;0;0;48;2;0;0;0m▀\u001b[38;2;0;0;0;48;2;0;0;0m▀\u001b[38;2;0;0;0;48;2;0;0;0m▀\u001b[38;2;0;0;0;48;2;0;0;0m▀\u001b[38;2;0;0;0;48;2;0;0;0m▀\u001b[38;2;0;0;0;48;2;0;0;0m▀\u001b[38;2;0;0;0;48;2;0;0;0m▀\u001b[38;2;0;0;0;48;2;0;0;0m▀\u001b[38;2;0;0;0;48;2;0;0;0m▀\u001b[38;2;0;0;0;48;2;0;0;0m▀\u001b[38;2;0;0;0;48;2;0;0;0m▀\u001b[38;2;0;0;0;48;2;0;0;0m▀\u001b[38;2;0;0;0;48;2;0;0;0m▀\u001b[0m\n",
       "\u001b[0m\u001b[38;2;0;0;0;48;2;0;0;0m▀\u001b[38;2;0;0;0;48;2;0;0;0m▀\u001b[38;2;0;0;0;48;2;0;0;0m▀\u001b[38;2;0;0;0;48;2;0;0;0m▀\u001b[38;2;0;0;0;48;2;0;0;0m▀\u001b[38;2;0;0;0;48;2;0;0;0m▀\u001b[38;2;0;0;0;48;2;0;0;0m▀\u001b[38;2;0;0;0;48;2;0;0;0m▀\u001b[38;2;0;0;0;48;2;0;0;0m▀\u001b[38;2;0;0;0;48;2;0;0;0m▀\u001b[38;2;0;0;0;48;2;0;0;0m▀\u001b[38;2;0;0;0;48;2;0;0;0m▀\u001b[38;2;0;0;0;48;2;0;0;0m▀\u001b[38;2;0;0;0;48;2;0;0;0m▀\u001b[38;2;0;0;0;48;2;0;0;0m▀\u001b[38;2;0;0;0;48;2;0;0;0m▀\u001b[38;2;0;0;0;48;2;0;0;0m▀\u001b[38;2;0;0;0;48;2;0;0;0m▀\u001b[38;2;0;0;0;48;2;0;0;0m▀\u001b[38;2;0;0;0;48;2;0;0;0m▀\u001b[38;2;0;0;0;48;2;0;0;0m▀\u001b[38;2;0;0;0;48;2;0;0;0m▀\u001b[38;2;0;0;0;48;2;0;0;0m▀\u001b[38;2;0;0;0;48;2;0;0;0m▀\u001b[38;2;0;0;0;48;2;0;0;0m▀\u001b[38;2;0;0;0;48;2;0;0;0m▀\u001b[38;2;0;0;0;48;2;0;0;0m▀\u001b[38;2;1;1;1;48;2;0;0;0m▀\u001b[38;2;0;0;0;48;2;0;0;0m▀\u001b[38;2;1;1;1;48;2;0;0;0m▀\u001b[38;2;0;0;0;48;2;0;0;0m▀\u001b[38;2;3;3;3;48;2;0;0;0m▀\u001b[38;2;0;0;0;48;2;0;0;0m▀\u001b[38;2;7;7;7;48;2;0;0;0m▀\u001b[38;2;0;0;0;48;2;0;0;0m▀\u001b[38;2;9;9;9;48;2;0;0;0m▀\u001b[38;2;0;0;0;48;2;0;0;0m▀\u001b[38;2;4;4;4;48;2;0;0;0m▀\u001b[38;2;1;1;1;48;2;0;0;0m▀\u001b[38;2;0;0;0;48;2;0;0;0m▀\u001b[38;2;0;0;0;48;2;0;0;0m▀\u001b[38;2;0;0;0;48;2;0;0;0m▀\u001b[38;2;0;0;0;48;2;0;0;0m▀\u001b[38;2;0;0;0;48;2;0;0;0m▀\u001b[38;2;0;0;0;48;2;0;0;0m▀\u001b[38;2;0;0;0;48;2;0;0;0m▀\u001b[38;2;0;0;0;48;2;0;0;0m▀\u001b[38;2;0;0;0;48;2;0;0;0m▀\u001b[38;2;0;0;0;48;2;0;0;0m▀\u001b[38;2;0;0;0;48;2;0;0;0m▀\u001b[38;2;0;0;0;48;2;0;0;0m▀\u001b[38;2;0;0;0;48;2;0;0;0m▀\u001b[38;2;0;0;0;48;2;0;0;0m▀\u001b[38;2;0;0;0;48;2;0;0;0m▀\u001b[38;2;0;0;0;48;2;0;0;0m▀\u001b[38;2;0;0;0;48;2;0;0;0m▀\u001b[38;2;0;0;0;48;2;0;0;0m▀\u001b[0m\n",
       "\u001b[0m\u001b[38;2;0;0;0;48;2;0;0;0m▀\u001b[38;2;0;0;0;48;2;0;0;0m▀\u001b[38;2;0;0;0;48;2;0;0;0m▀\u001b[38;2;0;0;0;48;2;0;0;0m▀\u001b[38;2;0;0;0;48;2;0;0;0m▀\u001b[38;2;0;0;0;48;2;0;0;0m▀\u001b[38;2;0;0;0;48;2;0;0;0m▀\u001b[38;2;0;0;0;48;2;0;0;0m▀\u001b[38;2;0;0;0;48;2;0;0;0m▀\u001b[38;2;0;0;0;48;2;0;0;0m▀\u001b[38;2;0;0;0;48;2;0;0;0m▀\u001b[38;2;0;0;0;48;2;0;0;0m▀\u001b[38;2;0;0;0;48;2;0;0;0m▀\u001b[38;2;0;0;0;48;2;0;0;0m▀\u001b[38;2;0;0;0;48;2;0;0;0m▀\u001b[38;2;0;0;0;48;2;0;0;0m▀\u001b[38;2;0;0;0;48;2;0;0;0m▀\u001b[38;2;0;0;0;48;2;0;0;0m▀\u001b[38;2;0;0;0;48;2;0;0;0m▀\u001b[38;2;0;0;0;48;2;0;0;0m▀\u001b[38;2;0;0;0;48;2;0;0;0m▀\u001b[38;2;0;0;0;48;2;0;0;0m▀\u001b[38;2;0;0;0;48;2;0;0;0m▀\u001b[38;2;1;1;1;48;2;0;0;0m▀\u001b[38;2;0;0;0;48;2;0;0;0m▀\u001b[38;2;1;1;1;48;2;0;0;0m▀\u001b[38;2;0;0;0;48;2;0;0;0m▀\u001b[38;2;3;3;3;48;2;0;0;0m▀\u001b[38;2;0;0;0;48;2;0;0;0m▀\u001b[38;2;8;8;8;48;2;0;0;0m▀\u001b[38;2;0;0;0;48;2;0;0;0m▀\u001b[38;2;9;9;9;48;2;0;0;0m▀\u001b[38;2;0;0;0;48;2;0;0;0m▀\u001b[38;2;4;4;4;48;2;0;0;0m▀\u001b[38;2;1;1;1;48;2;0;0;0m▀\u001b[38;2;0;0;0;48;2;0;0;0m▀\u001b[38;2;0;0;0;48;2;0;0;0m▀\u001b[38;2;0;0;0;48;2;0;0;0m▀\u001b[38;2;0;0;0;48;2;0;0;0m▀\u001b[38;2;0;0;0;48;2;0;0;0m▀\u001b[38;2;0;0;0;48;2;0;0;0m▀\u001b[38;2;0;0;0;48;2;0;0;0m▀\u001b[38;2;0;0;0;48;2;0;0;0m▀\u001b[38;2;0;0;0;48;2;0;0;0m▀\u001b[38;2;0;0;0;48;2;0;0;0m▀\u001b[38;2;0;0;0;48;2;0;0;0m▀\u001b[38;2;0;0;0;48;2;0;0;0m▀\u001b[38;2;0;0;0;48;2;0;0;0m▀\u001b[38;2;0;0;0;48;2;0;0;0m▀\u001b[38;2;0;0;0;48;2;0;0;0m▀\u001b[38;2;0;0;0;48;2;0;0;0m▀\u001b[38;2;0;0;0;48;2;0;0;0m▀\u001b[38;2;0;0;0;48;2;0;0;0m▀\u001b[38;2;0;0;0;48;2;0;0;0m▀\u001b[38;2;0;0;0;48;2;0;0;0m▀\u001b[38;2;0;0;0;48;2;0;0;0m▀\u001b[38;2;0;0;0;48;2;0;0;0m▀\u001b[0m\n",
       "\u001b[0m\u001b[38;2;0;0;0;48;2;0;0;0m▀\u001b[38;2;0;0;0;48;2;0;0;0m▀\u001b[38;2;0;0;0;48;2;0;0;0m▀\u001b[38;2;0;0;0;48;2;0;0;0m▀\u001b[38;2;0;0;0;48;2;0;0;0m▀\u001b[38;2;0;0;0;48;2;0;0;0m▀\u001b[38;2;0;0;0;48;2;0;0;0m▀\u001b[38;2;0;0;0;48;2;0;0;0m▀\u001b[38;2;0;0;0;48;2;0;0;0m▀\u001b[38;2;0;0;0;48;2;0;0;0m▀\u001b[38;2;0;0;0;48;2;0;0;0m▀\u001b[38;2;0;0;0;48;2;0;0;0m▀\u001b[38;2;0;0;0;48;2;0;0;0m▀\u001b[38;2;0;0;0;48;2;0;0;0m▀\u001b[38;2;0;0;0;48;2;0;0;0m▀\u001b[38;2;0;0;0;48;2;0;0;0m▀\u001b[38;2;0;0;0;48;2;0;0;0m▀\u001b[38;2;0;0;0;48;2;0;0;0m▀\u001b[38;2;0;0;0;48;2;0;0;0m▀\u001b[38;2;1;1;1;48;2;0;0;0m▀\u001b[38;2;0;0;0;48;2;0;0;0m▀\u001b[38;2;1;1;1;48;2;0;0;0m▀\u001b[38;2;0;0;0;48;2;0;0;0m▀\u001b[38;2;1;1;1;48;2;0;0;0m▀\u001b[38;2;0;0;0;48;2;0;0;0m▀\u001b[38;2;6;6;6;48;2;0;0;0m▀\u001b[38;2;0;0;0;48;2;0;0;0m▀\u001b[38;2;8;8;8;48;2;0;0;0m▀\u001b[38;2;0;0;0;48;2;0;0;0m▀\u001b[38;2;4;4;4;48;2;0;0;0m▀\u001b[38;2;0;0;0;48;2;0;0;0m▀\u001b[38;2;0;0;0;48;2;0;0;0m▀\u001b[38;2;0;0;0;48;2;0;0;0m▀\u001b[38;2;0;0;0;48;2;0;0;0m▀\u001b[38;2;0;0;0;48;2;0;0;0m▀\u001b[38;2;0;0;0;48;2;0;0;0m▀\u001b[38;2;0;0;0;48;2;0;0;0m▀\u001b[38;2;0;0;0;48;2;0;0;0m▀\u001b[38;2;0;0;0;48;2;0;0;0m▀\u001b[38;2;0;0;0;48;2;0;0;0m▀\u001b[38;2;0;0;0;48;2;0;0;0m▀\u001b[38;2;0;0;0;48;2;0;0;0m▀\u001b[38;2;0;0;0;48;2;0;0;0m▀\u001b[38;2;0;0;0;48;2;0;0;0m▀\u001b[38;2;0;0;0;48;2;0;0;0m▀\u001b[38;2;0;0;0;48;2;0;0;0m▀\u001b[38;2;0;0;0;48;2;0;0;0m▀\u001b[38;2;0;0;0;48;2;0;0;0m▀\u001b[38;2;0;0;0;48;2;0;0;0m▀\u001b[38;2;0;0;0;48;2;0;0;0m▀\u001b[38;2;0;0;0;48;2;0;0;0m▀\u001b[38;2;0;0;0;48;2;0;0;0m▀\u001b[38;2;0;0;0;48;2;0;0;0m▀\u001b[38;2;0;0;0;48;2;0;0;0m▀\u001b[38;2;0;0;0;48;2;0;0;0m▀\u001b[38;2;0;0;0;48;2;0;0;0m▀\u001b[38;2;0;0;0;48;2;0;0;0m▀\u001b[0m\n",
       "\u001b[0m\u001b[38;2;0;0;0;48;2;0;0;0m▀\u001b[38;2;0;0;0;48;2;0;0;0m▀\u001b[38;2;0;0;0;48;2;0;0;0m▀\u001b[38;2;0;0;0;48;2;0;0;0m▀\u001b[38;2;0;0;0;48;2;0;0;0m▀\u001b[38;2;0;0;0;48;2;0;0;0m▀\u001b[38;2;0;0;0;48;2;0;0;0m▀\u001b[38;2;0;0;0;48;2;0;0;0m▀\u001b[38;2;0;0;0;48;2;6;6;6m▀\u001b[38;2;0;0;0;48;2;0;0;0m▀\u001b[38;2;0;0;0;48;2;4;4;4m▀\u001b[38;2;0;0;0;48;2;0;0;0m▀\u001b[38;2;0;0;0;48;2;0;0;0m▀\u001b[38;2;0;0;0;48;2;0;0;0m▀\u001b[38;2;0;0;0;48;2;0;0;0m▀\u001b[38;2;1;1;1;48;2;0;0;0m▀\u001b[38;2;0;0;0;48;2;0;0;0m▀\u001b[38;2;2;2;2;48;2;0;0;0m▀\u001b[38;2;0;0;0;48;2;0;0;0m▀\u001b[38;2;5;5;5;48;2;0;0;0m▀\u001b[38;2;0;0;0;48;2;0;0;0m▀\u001b[38;2;5;5;5;48;2;0;0;0m▀\u001b[38;2;0;0;0;48;2;0;0;0m▀\u001b[38;2;10;10;10;48;2;0;0;0m▀\u001b[38;2;0;0;0;48;2;0;0;0m▀\u001b[38;2;6;6;6;48;2;0;0;0m▀\u001b[38;2;1;1;1;48;2;0;0;0m▀\u001b[38;2;1;1;1;48;2;0;0;0m▀\u001b[38;2;0;0;0;48;2;0;0;0m▀\u001b[38;2;0;0;0;48;2;0;0;0m▀\u001b[38;2;0;0;0;48;2;0;0;0m▀\u001b[38;2;0;0;0;48;2;0;0;0m▀\u001b[38;2;0;0;0;48;2;0;0;0m▀\u001b[38;2;0;0;0;48;2;0;0;0m▀\u001b[38;2;0;0;0;48;2;0;0;0m▀\u001b[38;2;0;0;0;48;2;0;0;0m▀\u001b[38;2;0;0;0;48;2;0;0;0m▀\u001b[38;2;0;0;0;48;2;0;0;0m▀\u001b[38;2;0;0;0;48;2;0;0;0m▀\u001b[38;2;0;0;0;48;2;0;0;0m▀\u001b[38;2;0;0;0;48;2;0;0;0m▀\u001b[38;2;0;0;0;48;2;0;0;0m▀\u001b[38;2;0;0;0;48;2;0;0;0m▀\u001b[38;2;0;0;0;48;2;0;0;0m▀\u001b[38;2;0;0;0;48;2;0;0;0m▀\u001b[38;2;0;0;0;48;2;0;0;0m▀\u001b[38;2;0;0;0;48;2;0;0;0m▀\u001b[38;2;0;0;0;48;2;0;0;0m▀\u001b[38;2;0;0;0;48;2;0;0;0m▀\u001b[38;2;0;0;0;48;2;0;0;0m▀\u001b[38;2;0;0;0;48;2;0;0;0m▀\u001b[38;2;0;0;0;48;2;0;0;0m▀\u001b[38;2;0;0;0;48;2;0;0;0m▀\u001b[38;2;0;0;0;48;2;0;0;0m▀\u001b[38;2;0;0;0;48;2;0;0;0m▀\u001b[38;2;0;0;0;48;2;0;0;0m▀\u001b[38;2;0;0;0;48;2;0;0;0m▀\u001b[0m\n",
       "\u001b[0m\u001b[38;2;0;0;0;48;2;0;0;0m▀\u001b[38;2;0;0;0;48;2;0;0;0m▀\u001b[38;2;0;0;0;48;2;0;0;0m▀\u001b[38;2;0;0;0;48;2;0;0;0m▀\u001b[38;2;0;0;0;48;2;0;0;0m▀\u001b[38;2;0;0;0;48;2;0;0;0m▀\u001b[38;2;0;0;0;48;2;0;0;0m▀\u001b[38;2;0;0;0;48;2;0;0;0m▀\u001b[38;2;0;0;0;48;2;0;0;0m▀\u001b[38;2;4;4;4;48;2;0;0;0m▀\u001b[38;2;0;0;0;48;2;0;0;0m▀\u001b[38;2;10;10;10;48;2;0;0;0m▀\u001b[38;2;0;0;0;48;2;0;0;0m▀\u001b[38;2;10;10;10;48;2;0;0;0m▀\u001b[38;2;0;0;0;48;2;0;0;0m▀\u001b[38;2;10;10;10;48;2;0;0;0m▀\u001b[38;2;0;0;0;48;2;0;0;0m▀\u001b[38;2;9;9;9;48;2;0;0;0m▀\u001b[38;2;0;0;0;48;2;0;0;0m▀\u001b[38;2;5;5;5;48;2;0;0;0m▀\u001b[38;2;0;0;0;48;2;0;0;0m▀\u001b[38;2;6;6;6;48;2;0;0;0m▀\u001b[38;2;1;1;1;48;2;0;0;0m▀\u001b[38;2;1;1;1;48;2;0;0;0m▀\u001b[38;2;0;0;0;48;2;0;0;0m▀\u001b[38;2;0;0;0;48;2;0;0;0m▀\u001b[38;2;0;0;0;48;2;0;0;0m▀\u001b[38;2;0;0;0;48;2;0;0;0m▀\u001b[38;2;0;0;0;48;2;0;0;0m▀\u001b[38;2;0;0;0;48;2;0;0;0m▀\u001b[38;2;0;0;0;48;2;0;0;0m▀\u001b[38;2;0;0;0;48;2;0;0;0m▀\u001b[38;2;0;0;0;48;2;0;0;0m▀\u001b[38;2;0;0;0;48;2;0;0;0m▀\u001b[38;2;0;0;0;48;2;0;0;0m▀\u001b[38;2;0;0;0;48;2;0;0;0m▀\u001b[38;2;0;0;0;48;2;0;0;0m▀\u001b[38;2;0;0;0;48;2;0;0;0m▀\u001b[38;2;0;0;0;48;2;0;0;0m▀\u001b[38;2;0;0;0;48;2;0;0;0m▀\u001b[38;2;0;0;0;48;2;0;0;0m▀\u001b[38;2;0;0;0;48;2;0;0;0m▀\u001b[38;2;0;0;0;48;2;0;0;0m▀\u001b[38;2;0;0;0;48;2;0;0;0m▀\u001b[38;2;0;0;0;48;2;0;0;0m▀\u001b[38;2;0;0;0;48;2;0;0;0m▀\u001b[38;2;0;0;0;48;2;0;0;0m▀\u001b[38;2;0;0;0;48;2;0;0;0m▀\u001b[38;2;0;0;0;48;2;0;0;0m▀\u001b[38;2;0;0;0;48;2;0;0;0m▀\u001b[38;2;0;0;0;48;2;0;0;0m▀\u001b[38;2;0;0;0;48;2;0;0;0m▀\u001b[38;2;0;0;0;48;2;0;0;0m▀\u001b[38;2;0;0;0;48;2;0;0;0m▀\u001b[38;2;0;0;0;48;2;0;0;0m▀\u001b[38;2;0;0;0;48;2;0;0;0m▀\u001b[38;2;0;0;0;48;2;0;0;0m▀\u001b[0m\n",
       "\u001b[0m\u001b[38;2;0;0;0;48;2;0;0;0m▀\u001b[38;2;0;0;0;48;2;0;0;0m▀\u001b[38;2;0;0;0;48;2;0;0;0m▀\u001b[38;2;0;0;0;48;2;0;0;0m▀\u001b[38;2;0;0;0;48;2;0;0;0m▀\u001b[38;2;0;0;0;48;2;0;0;0m▀\u001b[38;2;0;0;0;48;2;0;0;0m▀\u001b[38;2;0;0;0;48;2;0;0;0m▀\u001b[38;2;0;0;0;48;2;0;0;0m▀\u001b[38;2;0;0;0;48;2;0;0;0m▀\u001b[38;2;0;0;0;48;2;0;0;0m▀\u001b[38;2;0;0;0;48;2;0;0;0m▀\u001b[38;2;0;0;0;48;2;0;0;0m▀\u001b[38;2;0;0;0;48;2;0;0;0m▀\u001b[38;2;0;0;0;48;2;0;0;0m▀\u001b[38;2;0;0;0;48;2;0;0;0m▀\u001b[38;2;0;0;0;48;2;0;0;0m▀\u001b[38;2;0;0;0;48;2;0;0;0m▀\u001b[38;2;0;0;0;48;2;0;0;0m▀\u001b[38;2;0;0;0;48;2;0;0;0m▀\u001b[38;2;0;0;0;48;2;0;0;0m▀\u001b[38;2;0;0;0;48;2;0;0;0m▀\u001b[38;2;0;0;0;48;2;0;0;0m▀\u001b[38;2;0;0;0;48;2;0;0;0m▀\u001b[38;2;0;0;0;48;2;0;0;0m▀\u001b[38;2;0;0;0;48;2;0;0;0m▀\u001b[38;2;0;0;0;48;2;0;0;0m▀\u001b[38;2;0;0;0;48;2;0;0;0m▀\u001b[38;2;0;0;0;48;2;0;0;0m▀\u001b[38;2;0;0;0;48;2;0;0;0m▀\u001b[38;2;0;0;0;48;2;0;0;0m▀\u001b[38;2;0;0;0;48;2;0;0;0m▀\u001b[38;2;0;0;0;48;2;0;0;0m▀\u001b[38;2;0;0;0;48;2;0;0;0m▀\u001b[38;2;0;0;0;48;2;0;0;0m▀\u001b[38;2;0;0;0;48;2;0;0;0m▀\u001b[38;2;0;0;0;48;2;0;0;0m▀\u001b[38;2;0;0;0;48;2;0;0;0m▀\u001b[38;2;0;0;0;48;2;0;0;0m▀\u001b[38;2;0;0;0;48;2;0;0;0m▀\u001b[38;2;0;0;0;48;2;0;0;0m▀\u001b[38;2;0;0;0;48;2;0;0;0m▀\u001b[38;2;0;0;0;48;2;0;0;0m▀\u001b[38;2;0;0;0;48;2;0;0;0m▀\u001b[38;2;0;0;0;48;2;0;0;0m▀\u001b[38;2;0;0;0;48;2;0;0;0m▀\u001b[38;2;0;0;0;48;2;0;0;0m▀\u001b[38;2;0;0;0;48;2;0;0;0m▀\u001b[38;2;0;0;0;48;2;0;0;0m▀\u001b[38;2;0;0;0;48;2;0;0;0m▀\u001b[38;2;0;0;0;48;2;0;0;0m▀\u001b[38;2;0;0;0;48;2;0;0;0m▀\u001b[38;2;0;0;0;48;2;0;0;0m▀\u001b[38;2;0;0;0;48;2;0;0;0m▀\u001b[38;2;0;0;0;48;2;0;0;0m▀\u001b[38;2;0;0;0;48;2;0;0;0m▀\u001b[38;2;0;0;0;48;2;0;0;0m▀\u001b[0m\n",
       "\u001b[0m\u001b[38;2;0;0;0;48;2;0;0;0m▀\u001b[38;2;0;0;0;48;2;0;0;0m▀\u001b[38;2;0;0;0;48;2;0;0;0m▀\u001b[38;2;0;0;0;48;2;0;0;0m▀\u001b[38;2;0;0;0;48;2;0;0;0m▀\u001b[38;2;0;0;0;48;2;0;0;0m▀\u001b[38;2;0;0;0;48;2;0;0;0m▀\u001b[38;2;0;0;0;48;2;0;0;0m▀\u001b[38;2;0;0;0;48;2;0;0;0m▀\u001b[38;2;0;0;0;48;2;0;0;0m▀\u001b[38;2;0;0;0;48;2;0;0;0m▀\u001b[38;2;0;0;0;48;2;0;0;0m▀\u001b[38;2;0;0;0;48;2;0;0;0m▀\u001b[38;2;0;0;0;48;2;0;0;0m▀\u001b[38;2;0;0;0;48;2;0;0;0m▀\u001b[38;2;0;0;0;48;2;0;0;0m▀\u001b[38;2;0;0;0;48;2;0;0;0m▀\u001b[38;2;0;0;0;48;2;0;0;0m▀\u001b[38;2;0;0;0;48;2;0;0;0m▀\u001b[38;2;0;0;0;48;2;0;0;0m▀\u001b[38;2;0;0;0;48;2;0;0;0m▀\u001b[38;2;0;0;0;48;2;0;0;0m▀\u001b[38;2;0;0;0;48;2;0;0;0m▀\u001b[38;2;0;0;0;48;2;0;0;0m▀\u001b[38;2;0;0;0;48;2;0;0;0m▀\u001b[38;2;0;0;0;48;2;0;0;0m▀\u001b[38;2;0;0;0;48;2;0;0;0m▀\u001b[38;2;0;0;0;48;2;0;0;0m▀\u001b[38;2;0;0;0;48;2;0;0;0m▀\u001b[38;2;0;0;0;48;2;0;0;0m▀\u001b[38;2;0;0;0;48;2;0;0;0m▀\u001b[38;2;0;0;0;48;2;0;0;0m▀\u001b[38;2;0;0;0;48;2;0;0;0m▀\u001b[38;2;0;0;0;48;2;0;0;0m▀\u001b[38;2;0;0;0;48;2;0;0;0m▀\u001b[38;2;0;0;0;48;2;0;0;0m▀\u001b[38;2;0;0;0;48;2;0;0;0m▀\u001b[38;2;0;0;0;48;2;0;0;0m▀\u001b[38;2;0;0;0;48;2;0;0;0m▀\u001b[38;2;0;0;0;48;2;0;0;0m▀\u001b[38;2;0;0;0;48;2;0;0;0m▀\u001b[38;2;0;0;0;48;2;0;0;0m▀\u001b[38;2;0;0;0;48;2;0;0;0m▀\u001b[38;2;0;0;0;48;2;0;0;0m▀\u001b[38;2;0;0;0;48;2;0;0;0m▀\u001b[38;2;0;0;0;48;2;0;0;0m▀\u001b[38;2;0;0;0;48;2;0;0;0m▀\u001b[38;2;0;0;0;48;2;0;0;0m▀\u001b[38;2;0;0;0;48;2;0;0;0m▀\u001b[38;2;0;0;0;48;2;0;0;0m▀\u001b[38;2;0;0;0;48;2;0;0;0m▀\u001b[38;2;0;0;0;48;2;0;0;0m▀\u001b[38;2;0;0;0;48;2;0;0;0m▀\u001b[38;2;0;0;0;48;2;0;0;0m▀\u001b[38;2;0;0;0;48;2;0;0;0m▀\u001b[38;2;0;0;0;48;2;0;0;0m▀\u001b[38;2;0;0;0;48;2;0;0;0m▀\u001b[0m\n",
       "\u001b[0m\u001b[38;2;0;0;0m▀\u001b[38;2;0;0;0m▀\u001b[38;2;0;0;0m▀\u001b[38;2;0;0;0m▀\u001b[38;2;0;0;0m▀\u001b[38;2;0;0;0m▀\u001b[38;2;0;0;0m▀\u001b[38;2;0;0;0m▀\u001b[38;2;0;0;0m▀\u001b[38;2;0;0;0m▀\u001b[38;2;0;0;0m▀\u001b[38;2;0;0;0m▀\u001b[38;2;0;0;0m▀\u001b[38;2;0;0;0m▀\u001b[38;2;0;0;0m▀\u001b[38;2;0;0;0m▀\u001b[38;2;0;0;0m▀\u001b[38;2;0;0;0m▀\u001b[38;2;0;0;0m▀\u001b[38;2;0;0;0m▀\u001b[38;2;0;0;0m▀\u001b[38;2;0;0;0m▀\u001b[38;2;0;0;0m▀\u001b[38;2;0;0;0m▀\u001b[38;2;0;0;0m▀\u001b[38;2;0;0;0m▀\u001b[38;2;0;0;0m▀\u001b[38;2;0;0;0m▀\u001b[38;2;0;0;0m▀\u001b[38;2;0;0;0m▀\u001b[38;2;0;0;0m▀\u001b[38;2;0;0;0m▀\u001b[38;2;0;0;0m▀\u001b[38;2;0;0;0m▀\u001b[38;2;0;0;0m▀\u001b[38;2;0;0;0m▀\u001b[38;2;0;0;0m▀\u001b[38;2;0;0;0m▀\u001b[38;2;0;0;0m▀\u001b[38;2;0;0;0m▀\u001b[38;2;0;0;0m▀\u001b[38;2;0;0;0m▀\u001b[38;2;0;0;0m▀\u001b[38;2;0;0;0m▀\u001b[38;2;0;0;0m▀\u001b[38;2;0;0;0m▀\u001b[38;2;0;0;0m▀\u001b[38;2;0;0;0m▀\u001b[38;2;0;0;0m▀\u001b[38;2;0;0;0m▀\u001b[38;2;0;0;0m▀\u001b[38;2;0;0;0m▀\u001b[38;2;0;0;0m▀\u001b[38;2;0;0;0m▀\u001b[38;2;0;0;0m▀\u001b[38;2;0;0;0m▀\u001b[38;2;0;0;0m▀\u001b[0m"
      ]
     },
     "execution_count": 103,
     "metadata": {},
     "output_type": "execute_result"
    }
   ],
   "source": [
    "cnn_output = cnn_layer( images[:,:,:,1:3] )\n",
    "display( cnn_output |> size )\n",
    "convert2image( MNIST , cnn_output[:,:,1,1] )"
   ]
  },
  {
   "cell_type": "markdown",
   "metadata": {},
   "source": [
    "#### <span style=\"color:orange\"> Depthwise Convolutional Layers apply kernels to each channel separately so that the kernel does not span all channels </span>"
   ]
  },
  {
   "cell_type": "code",
   "execution_count": 104,
   "metadata": {},
   "outputs": [
    {
     "data": {
      "text/plain": [
       "(10, 10, 5, 10)"
      ]
     },
     "execution_count": 104,
     "metadata": {},
     "output_type": "execute_result"
    }
   ],
   "source": [
    "x = rand(Float32, 10, 10, 5, 10); \n",
    "cnn_layer = DepthwiseConv( (5,5) , 5 => 5 , pad=SamePad() )\n",
    "cnn_layer( x ) |> size"
   ]
  },
  {
   "cell_type": "code",
   "execution_count": null,
   "metadata": {},
   "outputs": [],
   "source": []
  },
  {
   "cell_type": "markdown",
   "metadata": {},
   "source": [
    "### <span style=\"color:orange\"> Common layers often used 'after' a CNN layer </span>\n",
    "\n",
    "- they reduce the size of the output, and do not have parameters to train\n",
    "- MaxPool, takes the maximum element in the region, and the corresponding 'MeanPool' exists\n",
    "- Adaptive Max Pool, this takes in a tuple for the size of the data desired for each channel and batch size and finds for you the MaxPool size for the target output size needed. (equivalently there is the AdaptiveMeanPool)\n",
    "\n",
    "- GlobalMaxPool produces a single value for each of the channels and each of the batch samples (also GlobalMeanPool is there)"
   ]
  },
  {
   "cell_type": "code",
   "execution_count": 105,
   "metadata": {},
   "outputs": [
    {
     "data": {
      "text/plain": [
       "(19, 19, 2, 10)"
      ]
     },
     "execution_count": 105,
     "metadata": {},
     "output_type": "execute_result"
    }
   ],
   "source": [
    "x = rand(Float32, 100, 100, 1, 10); \n",
    "m = Chain( Conv( (5,5) , 1 => 2 ) , MaxPool((5,5)) )\n",
    "m( x ) |> size"
   ]
  },
  {
   "cell_type": "code",
   "execution_count": 106,
   "metadata": {},
   "outputs": [
    {
     "data": {
      "text/plain": [
       "(4, 4, 2, 3)"
      ]
     },
     "metadata": {},
     "output_type": "display_data"
    },
    {
     "data": {
      "image/png": "[encoded data removed]",
      "text/html": [
       "<img src=\"data:image/png;base64,iVBORw0KGgoAAAANSUhEUgAAAGQAAABkCAAAAABVicqIAAAABGdBTUEAALGPC/xhBQAAAAFzUkdCAK7OHOkAAAAgY0hSTQAAeiYAAICEAAD6AAAAgOgAAHUwAADqYAAAOpgAABdwnLpRPAAAAMZJREFUaAW9wTERAgEAxMDARABSvsMExrD3AuioGNCAgmuz643hZLgwvBkkIAEJSEACEpCABCQgAQlIQAISkIAEJCABCUhAAhKQgAS8MnwZDoaTQQISkIAEJCABCUhAAhKQgAQkIAEJSEACEpCABCQgAQlIwB/DneHDcDBIQAISkIAEJCABCUhAAhKQgAQkIAEJSEACEpCABCQgAQn4YHgyvBgOBglIQAISkIAEJCABCUhAAhKQgAQkIAEJSEACEpCABCQggT/HSgltazmXrwAAAABJRU5ErkJg\">"
      ],
      "text/plain": [
       "\u001b[0m\u001b[38;2;16;16;16m██\u001b[38;2;226;226;226m██\u001b[38;2;227;227;227m██\u001b[38;2;200;200;200m██\u001b[0m\n",
       "\u001b[0m\u001b[38;2;18;18;18m██\u001b[38;2;207;207;207m██\u001b[38;2;255;255;255m██\u001b[38;2;181;181;181m██\u001b[0m\n",
       "\u001b[0m\u001b[38;2;0;0;0m██\u001b[38;2;6;6;6m██\u001b[38;2;241;241;241m██\u001b[38;2;229;229;229m██\u001b[0m\n",
       "\u001b[0m\u001b[38;2;76;76;76m██\u001b[38;2;213;213;213m██\u001b[38;2;207;207;207m██\u001b[38;2;255;255;255m██\u001b[0m"
      ]
     },
     "execution_count": 106,
     "metadata": {},
     "output_type": "execute_result"
    }
   ],
   "source": [
    "cnn_output = m( images[:,:,:,1:3] )\n",
    "display( cnn_output |> size )\n",
    "convert2image( MNIST , cnn_output[:,:,1,1] )"
   ]
  },
  {
   "cell_type": "code",
   "execution_count": 108,
   "metadata": {},
   "outputs": [
    {
     "data": {
      "text/plain": [
       "(20, 20, 2, 10)"
      ]
     },
     "execution_count": 108,
     "metadata": {},
     "output_type": "execute_result"
    }
   ],
   "source": [
    "x = rand(Float32, 100, 100, 1, 10); \n",
    "m = Chain( Conv( (5,5) , 1 => 2 , pad=SamePad() ) , MaxPool((5,5)) )\n",
    "m( x ) |> size"
   ]
  },
  {
   "cell_type": "code",
   "execution_count": 109,
   "metadata": {},
   "outputs": [
    {
     "data": {
      "text/plain": [
       "(5, 5, 2, 3)"
      ]
     },
     "metadata": {},
     "output_type": "display_data"
    },
    {
     "data": {
      "image/png": "[encoded data removed]",
      "text/html": [
       "<img src=\"data:image/png;base64,iVBORw0KGgoAAAANSUhEUgAAAGQAAABkCAAAAABVicqIAAAABGdBTUEAALGPC/xhBQAAAAFzUkdCAK7OHOkAAAAgY0hSTQAAeiYAAICEAAD6AAAAgOgAAHUwAADqYAAAOpgAABdwnLpRPAAAANZJREFUaAW9wbERQVEUANGdsaMfqRIUoAwKkAqEmlHFTzWiAwXcFxjBniMLO6Y904npzCQBCUhAAhKQgAQkIAEJSEACEpCABCQgAQlIQBY2pgO/+TBJQAISkIAEJCABCUhAAhKQgAQkIAEJSEACEpCFC9OL6c10Y5KABCQgAQlIQAISkIAEJCABCUhAAhKQgAQkIAsb047pyHRnkoAEJCABCUhAAhKQgAQkIAEJSEACEpCABCTgk+nK/x5MEpCABCQgAQlIQAISkIAEJCABCUhAAhKQgAS+8rcJrNmrUCIAAAAASUVORK5C\">"
      ],
      "text/plain": [
       "\u001b[0m\u001b[38;2;0;0;0m██\u001b[38;2;3;3;3m██\u001b[38;2;9;9;9m██\u001b[38;2;83;83;83m██\u001b[38;2;169;169;169m██\u001b[0m\n",
       "\u001b[0m\u001b[38;2;0;0;0m██\u001b[38;2;206;206;206m██\u001b[38;2;255;255;255m██\u001b[38;2;255;255;255m██\u001b[38;2;240;240;240m██\u001b[0m\n",
       "\u001b[0m\u001b[38;2;0;0;0m██\u001b[38;2;60;60;60m██\u001b[38;2;241;241;241m██\u001b[38;2;197;197;197m██\u001b[38;2;64;64;64m██\u001b[0m\n",
       "\u001b[0m\u001b[38;2;0;0;0m██\u001b[38;2;7;7;7m██\u001b[38;2;244;244;244m██\u001b[38;2;255;255;255m██\u001b[38;2;196;196;196m██\u001b[0m\n",
       "\u001b[0m\u001b[38;2;144;144;144m██\u001b[38;2;255;255;255m██\u001b[38;2;255;255;255m██\u001b[38;2;255;255;255m██\u001b[38;2;76;76;76m██\u001b[0m"
      ]
     },
     "execution_count": 109,
     "metadata": {},
     "output_type": "execute_result"
    }
   ],
   "source": [
    "cnn_output = m( images[:,:,:,1:3] )\n",
    "display( cnn_output |> size )\n",
    "convert2image( MNIST , cnn_output[:,:,1,1] )"
   ]
  },
  {
   "cell_type": "code",
   "execution_count": 113,
   "metadata": {},
   "outputs": [
    {
     "data": {
      "text/plain": [
       "(20, 20, 2, 10)"
      ]
     },
     "execution_count": 113,
     "metadata": {},
     "output_type": "execute_result"
    }
   ],
   "source": [
    "x = rand(Float32, 100, 100, 1, 10); \n",
    "m = Chain( Conv( (5,5) , 1 => 2  ) , MaxPool( (5,5), pad=SamePad() ) )\n",
    "m( x ) |> size"
   ]
  },
  {
   "cell_type": "code",
   "execution_count": 114,
   "metadata": {},
   "outputs": [
    {
     "data": {
      "text/plain": [
       "(40, 40, 2, 10)"
      ]
     },
     "execution_count": 114,
     "metadata": {},
     "output_type": "execute_result"
    }
   ],
   "source": [
    "x = rand(Float32, 100, 100, 1, 10); \n",
    "m = Chain( Conv( (5,5) , 1 => 2  ) , AdaptiveMaxPool( (40,40) ) ) #we want a 40x40 output from MaxPool\n",
    "m( x ) |> size"
   ]
  },
  {
   "cell_type": "code",
   "execution_count": null,
   "metadata": {},
   "outputs": [],
   "source": []
  },
  {
   "cell_type": "code",
   "execution_count": 116,
   "metadata": {},
   "outputs": [
    {
     "data": {
      "text/plain": [
       "(1, 1, 3, 10)"
      ]
     },
     "execution_count": 116,
     "metadata": {},
     "output_type": "execute_result"
    }
   ],
   "source": [
    "x = rand(Float32, 100, 100, 1, 10); \n",
    "m = Chain( Conv( (5,5) , 1 => 3  ) , GlobalMaxPool() ) #we want a 40x40 output from MaxPool\n",
    "m( x ) |> size"
   ]
  },
  {
   "cell_type": "code",
   "execution_count": null,
   "metadata": {},
   "outputs": [],
   "source": []
  },
  {
   "cell_type": "markdown",
   "metadata": {},
   "source": [
    "### <span style=\"color:orange\"> Upsampling </span>\n",
    "\n",
    "- These do the opposite of pooling. Instead of a transposed convolution these layers 'upsample' by increasing the resolution from the perspective of further interpolating across the domain in the statistical sense. \n",
    "- There are different methods for doing so, such as the bilinear and nearest"
   ]
  },
  {
   "cell_type": "code",
   "execution_count": 122,
   "metadata": {},
   "outputs": [
    {
     "data": {
      "text/plain": [
       "(200, 200, 2, 10)"
      ]
     },
     "execution_count": 122,
     "metadata": {},
     "output_type": "execute_result"
    }
   ],
   "source": [
    "x = rand(Float32, 100, 100, 2, 10); \n",
    "m = Upsample( :nearest, size= (200,200) )\n",
    "m( x ) |> size"
   ]
  },
  {
   "cell_type": "code",
   "execution_count": 125,
   "metadata": {},
   "outputs": [
    {
     "data": {
      "text/plain": [
       "(280, 280, 2, 10)"
      ]
     },
     "execution_count": 125,
     "metadata": {},
     "output_type": "execute_result"
    }
   ],
   "source": [
    "x = rand(Float32, 28, 28, 2, 10); \n",
    "m = Upsample( :nearest, size= (28*10,28*10) )\n",
    "m( x ) |> size"
   ]
  },
  {
   "cell_type": "code",
   "execution_count": 126,
   "metadata": {},
   "outputs": [
    {
     "data": {
      "text/plain": [
       "(280, 280, 1, 3)"
      ]
     },
     "metadata": {},
     "output_type": "display_data"
    },
    {
     "data": {
      "image/png": "[encoded data removed]",
      "text/html": [
       "<img src=\"data:image/png;base64,iVBORw0KGgoAAAANSUhEUgAAARgAAAEYCAAAAACi5bZQAAAABGdBTUEAALGPC/xhBQAAAAFzUkdCAK7OHOkAAAAgY0hSTQAAeiYAAICEAAD6AAAAgOgAAHUwAADqYAAAOpgAABdwnLpRPAAAA7dJREFUeAHtwU3oHwIcx/F3eefAYXKxUkhpauUhoSQPsRuHf6SolfJ0GDmtdnDgsKVsB5ODqJWV3DydKI8HtVoeElIcFHbCWP8mtXH6nv6f1n/5/R/K5/WSiqQiqUgqkoqkIqlIKpKKpCKpSCqSiqQiqUgqkoqkIqlIKpKKpCKpSCqSiqQiqUgqkoqkIqlIKpKKpCKpSCqSiqQiqUgqkoqkIqlIKpKKpCKpSCqSiqQi2SDnMLZwJo8zzmNsY+xi7Gfcz/iL8SzjGVZHKpKKpCKpSCqSiqQiqUgqkgW7hHEu4ybGzYwLGPdwtn5iHGQsMU4wvmR8zNmSiqQiqUgqkoqkIqlIKpKKZCGuZbzP2MJinWY8xVhmvMb4hfE74zvOllQkFUlFUpFUJBVJRVKRVCQL8SPjV8YWztYRxnHG7Yy/GYdZe1KRVCQVSUVSkVQkFUlFUpEsxG+M3Yy7GJ8zDrLSF4wdjGXGdsaTrCepSCqSiqQiqUgqkoqkIqlIFuxNxgeME4yrGQ8xDjCWWelrxqOsJ6lIKpKKpCKpSCqSiqQiqUjWzJ+s9AcrPcx4nXGajSYVSUVSkVQkFUlFUpFUJBXJunqacR3jVsadjPfYaFKRVCQVSUVSkVQkFUlFUpGsq2XGI4zPGC8zPmQcZbzI+Ie1JxVJRVKRVCQVSUVSkVQkFckG+YHxIOMQYydjJ+N8xquMY6wVqUgqkoqkIqlIKpKKpCKpSDbcG4zvGQcYdzD2MS5l7GX8zGJJRVKRVCQVSUVSkVQkFUlFsol8xbiPcTfjEOMxxhWMHSyWVCQVSUVSkVQkFUlFUpFUJJvSccZhxisMGbcwbmN8xCJIRVKRVCQVSUVSkVQkFUlFsolcxbiXcT1DVvqG8QmLJRVJRVKRVCQVSUVSkVQkFckG2cZ4grHE2MqZnGIcY5xmsaQiqUgqkoqkIqlIKpKKpCJZB1sZDzB2MS5jdY4y9jLeZq1IRVKRVCQVSUVSkVQkFUlFsmAXMbYzXmBcyeocYTzHeItxmrUnFUlFUpFUJBVJRVKRVCQVyX9wIeMlxjWMy1mdTxkHGO8yTrIxpCKpSCqSiqQiqUgqkoqkIlmlGxm7GTcwLmZ1TjKeZ+xjLLN5SEVSkVQkFUlFUpFUJBVJRbJKS4wlzuRbxjuMU4z9jONsblKRVCQVSUVSkVQkFUlFUpGs0h7GHv4PpCKpSCqSiqQiqUgqkoqkIqlIKpKKpCKpSCqSiqQiqUgqkoqkIqlIKpKKpCKpSCqSiqSifwHoS1qzT4MctAAAAABJRU5ErkJg\">"
      ],
      "text/plain": [
       "\u001b[0m\u001b[38;2;0;0;0;48;2;0;0;0m▀\u001b[38;2;0;0;0;48;2;0;0;0m▀\u001b[38;2;0;0;0;48;2;0;0;0m▀\u001b[38;2;0;0;0;48;2;0;0;0m▀\u001b[38;2;0;0;0;48;2;0;0;0m▀\u001b[38;2;0;0;0;48;2;0;0;0m▀\u001b[38;2;0;0;0;48;2;0;0;0m▀\u001b[38;2;0;0;0;48;2;0;0;0m▀\u001b[38;2;0;0;0;48;2;0;0;0m▀\u001b[38;2;0;0;0;48;2;0;0;0m▀\u001b[38;2;0;0;0;48;2;0;0;0m▀\u001b[38;2;0;0;0;48;2;0;0;0m▀\u001b[38;2;0;0;0;48;2;0;0;0m▀\u001b[38;2;0;0;0;48;2;0;0;0m▀\u001b[38;2;0;0;0;48;2;0;0;0m▀\u001b[38;2;0;0;0;48;2;0;0;0m▀\u001b[38;2;0;0;0;48;2;0;0;0m▀\u001b[38;2;0;0;0;48;2;0;0;0m▀\u001b[38;2;0;0;0;48;2;0;0;0m▀\u001b[38;2;0;0;0;48;2;0;0;0m▀\u001b[38;2;0;0;0;48;2;0;0;0m▀\u001b[38;2;0;0;0;48;2;0;0;0m▀\u001b[38;2;0;0;0;48;2;0;0;0m▀\u001b[38;2;0;0;0;48;2;0;0;0m▀\u001b[38;2;0;0;0;48;2;0;0;0m▀\u001b[38;2;0;0;0;48;2;0;0;0m▀\u001b[38;2;0;0;0;48;2;0;0;0m▀\u001b[38;2;0;0;0;48;2;0;0;0m▀\u001b[38;2;0;0;0;48;2;0;0;0m▀\u001b[38;2;0;0;0;48;2;0;0;0m▀\u001b[38;2;0;0;0;48;2;0;0;0m▀\u001b[38;2;0;0;0;48;2;0;0;0m▀\u001b[38;2;0;0;0;48;2;0;0;0m▀\u001b[38;2;0;0;0;48;2;0;0;0m▀\u001b[38;2;0;0;0;48;2;0;0;0m▀\u001b[38;2;0;0;0;48;2;0;0;0m▀\u001b[0m\n",
       "\u001b[0m\u001b[38;2;0;0;0;48;2;0;0;0m▀\u001b[38;2;0;0;0;48;2;0;0;0m▀\u001b[38;2;0;0;0;48;2;0;0;0m▀\u001b[38;2;0;0;0;48;2;0;0;0m▀\u001b[38;2;0;0;0;48;2;0;0;0m▀\u001b[38;2;0;0;0;48;2;0;0;0m▀\u001b[38;2;0;0;0;48;2;0;0;0m▀\u001b[38;2;0;0;0;48;2;0;0;0m▀\u001b[38;2;0;0;0;48;2;0;0;0m▀\u001b[38;2;0;0;0;48;2;0;0;0m▀\u001b[38;2;0;0;0;48;2;0;0;0m▀\u001b[38;2;0;0;0;48;2;0;0;0m▀\u001b[38;2;0;0;0;48;2;0;0;0m▀\u001b[38;2;0;0;0;48;2;0;0;0m▀\u001b[38;2;0;0;0;48;2;0;0;0m▀\u001b[38;2;0;0;0;48;2;0;0;0m▀\u001b[38;2;0;0;0;48;2;0;0;0m▀\u001b[38;2;0;0;0;48;2;0;0;0m▀\u001b[38;2;0;0;0;48;2;0;0;0m▀\u001b[38;2;0;0;0;48;2;0;0;0m▀\u001b[38;2;0;0;0;48;2;0;0;0m▀\u001b[38;2;0;0;0;48;2;0;0;0m▀\u001b[38;2;0;0;0;48;2;0;0;0m▀\u001b[38;2;0;0;0;48;2;0;0;0m▀\u001b[38;2;0;0;0;48;2;0;0;0m▀\u001b[38;2;0;0;0;48;2;0;0;0m▀\u001b[38;2;0;0;0;48;2;0;0;0m▀\u001b[38;2;0;0;0;48;2;0;0;0m▀\u001b[38;2;0;0;0;48;2;0;0;0m▀\u001b[38;2;0;0;0;48;2;0;0;0m▀\u001b[38;2;0;0;0;48;2;0;0;0m▀\u001b[38;2;0;0;0;48;2;0;0;0m▀\u001b[38;2;0;0;0;48;2;0;0;0m▀\u001b[38;2;0;0;0;48;2;0;0;0m▀\u001b[38;2;0;0;0;48;2;0;0;0m▀\u001b[38;2;0;0;0;48;2;0;0;0m▀\u001b[0m\n",
       "\u001b[0m\u001b[38;2;0;0;0;48;2;0;0;0m▀\u001b[38;2;0;0;0;48;2;0;0;0m▀\u001b[38;2;0;0;0;48;2;0;0;0m▀\u001b[38;2;0;0;0;48;2;0;0;0m▀\u001b[38;2;0;0;0;48;2;0;0;0m▀\u001b[38;2;0;0;0;48;2;0;0;0m▀\u001b[38;2;0;0;0;48;2;0;0;0m▀\u001b[38;2;0;0;0;48;2;0;0;0m▀\u001b[38;2;0;0;0;48;2;0;0;0m▀\u001b[38;2;0;0;0;48;2;0;0;0m▀\u001b[38;2;0;0;0;48;2;0;0;0m▀\u001b[38;2;0;0;0;48;2;0;0;0m▀\u001b[38;2;0;0;0;48;2;0;0;0m▀\u001b[38;2;0;0;0;48;2;0;0;0m▀\u001b[38;2;0;0;0;48;2;0;0;0m▀\u001b[38;2;0;0;0;48;2;0;0;0m▀\u001b[38;2;0;0;0;48;2;0;0;0m▀\u001b[38;2;0;0;0;48;2;0;0;0m▀\u001b[38;2;0;0;0;48;2;0;0;0m▀\u001b[38;2;0;0;0;48;2;0;0;0m▀\u001b[38;2;0;0;0;48;2;0;0;0m▀\u001b[38;2;0;0;0;48;2;0;0;0m▀\u001b[38;2;0;0;0;48;2;0;0;0m▀\u001b[38;2;0;0;0;48;2;0;0;0m▀\u001b[38;2;0;0;0;48;2;0;0;0m▀\u001b[38;2;0;0;0;48;2;0;0;0m▀\u001b[38;2;0;0;0;48;2;0;0;0m▀\u001b[38;2;0;0;0;48;2;0;0;0m▀\u001b[38;2;0;0;0;48;2;0;0;0m▀\u001b[38;2;0;0;0;48;2;0;0;0m▀\u001b[38;2;0;0;0;48;2;0;0;0m▀\u001b[38;2;0;0;0;48;2;0;0;0m▀\u001b[38;2;0;0;0;48;2;0;0;0m▀\u001b[38;2;0;0;0;48;2;0;0;0m▀\u001b[38;2;0;0;0;48;2;0;0;0m▀\u001b[38;2;0;0;0;48;2;0;0;0m▀\u001b[0m\n",
       "\u001b[0m\u001b[38;2;0;0;0;48;2;0;0;0m▀\u001b[38;2;0;0;0;48;2;0;0;0m▀\u001b[38;2;0;0;0;48;2;0;0;0m▀\u001b[38;2;0;0;0;48;2;0;0;0m▀\u001b[38;2;0;0;0;48;2;0;0;0m▀\u001b[38;2;0;0;0;48;2;0;0;0m▀\u001b[38;2;0;0;0;48;2;0;0;0m▀\u001b[38;2;0;0;0;48;2;0;0;0m▀\u001b[38;2;0;0;0;48;2;0;0;0m▀\u001b[38;2;0;0;0;48;2;0;0;0m▀\u001b[38;2;0;0;0;48;2;2;2;2m▀\u001b[38;2;0;0;0;48;2;4;4;4m▀\u001b[38;2;0;0;0;48;2;5;5;5m▀\u001b[38;2;0;0;0;48;2;11;11;11m▀\u001b[38;2;0;0;0;48;2;17;17;17m▀\u001b[38;2;0;0;0;48;2;22;22;22m▀\u001b[38;2;2;2;2;48;2;30;30;30m▀\u001b[38;2;5;5;5;48;2;46;46;46m▀\u001b[38;2;5;5;5;48;2;47;47;47m▀\u001b[38;2;5;5;5;48;2;47;47;47m▀\u001b[38;2;20;20;20;48;2;92;92;92m▀\u001b[38;2;36;36;36;48;2;140;140;140m▀\u001b[38;2;40;40;40;48;2;150;150;150m▀\u001b[38;2;47;47;47;48;2;168;168;168m▀\u001b[38;2;19;19;19;48;2;81;81;81m▀\u001b[38;2;27;27;27;48;2;108;108;108m▀\u001b[38;2;54;54;54;48;2;192;192;192m▀\u001b[38;2;71;71;71;48;2;242;242;242m▀\u001b[38;2;69;69;69;48;2;231;231;231m▀\u001b[38;2;45;45;45;48;2;148;148;148m▀\u001b[38;2;18;18;18;48;2;58;58;58m▀\u001b[38;2;0;0;0;48;2;0;0;0m▀\u001b[38;2;0;0;0;48;2;0;0;0m▀\u001b[38;2;0;0;0;48;2;0;0;0m▀\u001b[38;2;0;0;0;48;2;0;0;0m▀\u001b[38;2;0;0;0;48;2;0;0;0m▀\u001b[0m\n",
       "\u001b[0m\u001b[38;2;0;0;0;48;2;0;0;0m▀\u001b[38;2;0;0;0;48;2;0;0;0m▀\u001b[38;2;0;0;0;48;2;0;0;0m▀\u001b[38;2;0;0;0;48;2;0;0;0m▀\u001b[38;2;0;0;0;48;2;0;0;0m▀\u001b[38;2;0;0;0;48;2;0;0;0m▀\u001b[38;2;0;0;0;48;2;0;0;0m▀\u001b[38;2;0;0;0;48;2;0;0;0m▀\u001b[38;2;0;0;0;48;2;1;1;1m▀\u001b[38;2;1;1;1;48;2;25;25;25m▀\u001b[38;2;17;17;17;48;2;107;107;107m▀\u001b[38;2;34;34;34;48;2;183;183;183m▀\u001b[38;2;44;44;44;48;2;194;194;194m▀\u001b[38;2;83;83;83;48;2;207;207;207m▀\u001b[38;2;124;124;124;48;2;220;220;220m▀\u001b[38;2;145;145;145;48;2;227;227;227m▀\u001b[38;2;172;172;172;48;2;236;236;236m▀\u001b[38;2;221;221;221;48;2;252;252;252m▀\u001b[38;2;224;224;224;48;2;253;253;253m▀\u001b[38;2;224;224;224;48;2;253;253;253m▀\u001b[38;2;230;230;230;48;2;253;253;253m▀\u001b[38;2;237;237;237;48;2;253;253;253m▀\u001b[38;2;235;235;235;48;2;236;236;236m▀\u001b[38;2;216;216;216;48;2;145;145;145m▀\u001b[38;2;169;169;169;48;2;114;114;114m▀\u001b[38;2;194;194;194;48;2;119;119;119m▀\u001b[38;2;237;237;237;48;2;124;124;124m▀\u001b[38;2;233;233;233;48;2;106;106;106m▀\u001b[38;2;198;198;198;48;2;84;84;84m▀\u001b[38;2;106;106;106;48;2;36;36;36m▀\u001b[38;2;35;35;35;48;2;9;9;9m▀\u001b[38;2;0;0;0;48;2;0;0;0m▀\u001b[38;2;0;0;0;48;2;0;0;0m▀\u001b[38;2;0;0;0;48;2;0;0;0m▀\u001b[38;2;0;0;0;48;2;0;0;0m▀\u001b[38;2;0;0;0;48;2;0;0;0m▀\u001b[0m\n",
       "\u001b[0m\u001b[38;2;0;0;0;48;2;0;0;0m▀\u001b[38;2;0;0;0;48;2;0;0;0m▀\u001b[38;2;0;0;0;48;2;0;0;0m▀\u001b[38;2;0;0;0;48;2;0;0;0m▀\u001b[38;2;0;0;0;48;2;0;0;0m▀\u001b[38;2;0;0;0;48;2;0;0;0m▀\u001b[38;2;0;0;0;48;2;0;0;0m▀\u001b[38;2;0;0;0;48;2;0;0;0m▀\u001b[38;2;1;1;1;48;2;0;0;0m▀\u001b[38;2;24;24;24;48;2;9;9;9m▀\u001b[38;2;131;131;131;48;2;96;96;96m▀\u001b[38;2;235;235;235;48;2;193;193;193m▀\u001b[38;2;252;252;252;48;2;223;223;223m▀\u001b[38;2;253;253;253;48;2;215;215;215m▀\u001b[38;2;253;253;253;48;2;241;241;241m▀\u001b[38;2;253;253;253;48;2;253;253;253m▀\u001b[38;2;253;253;253;48;2;249;249;249m▀\u001b[38;2;250;250;250;48;2;228;228;228m▀\u001b[38;2;229;229;229;48;2;157;157;157m▀\u001b[38;2;220;220;220;48;2;135;135;135m▀\u001b[38;2;234;234;234;48;2;160;160;160m▀\u001b[38;2;249;249;249;48;2;197;197;197m▀\u001b[38;2;221;221;221;48;2;189;189;189m▀\u001b[38;2;71;71;71;48;2;27;27;27m▀\u001b[38;2;43;43;43;48;2;0;0;0m▀\u001b[38;2;41;41;41;48;2;0;0;0m▀\u001b[38;2;37;37;37;48;2;0;0;0m▀\u001b[38;2;27;27;27;48;2;0;0;0m▀\u001b[38;2;20;20;20;48;2;0;0;0m▀\u001b[38;2;5;5;5;48;2;0;0;0m▀\u001b[38;2;0;0;0;48;2;0;0;0m▀\u001b[38;2;0;0;0;48;2;0;0;0m▀\u001b[38;2;0;0;0;48;2;0;0;0m▀\u001b[38;2;0;0;0;48;2;0;0;0m▀\u001b[38;2;0;0;0;48;2;0;0;0m▀\u001b[38;2;0;0;0;48;2;0;0;0m▀\u001b[0m\n",
       "\u001b[0m\u001b[38;2;0;0;0;48;2;0;0;0m▀\u001b[38;2;0;0;0;48;2;0;0;0m▀\u001b[38;2;0;0;0;48;2;0;0;0m▀\u001b[38;2;0;0;0;48;2;0;0;0m▀\u001b[38;2;0;0;0;48;2;0;0;0m▀\u001b[38;2;0;0;0;48;2;0;0;0m▀\u001b[38;2;0;0;0;48;2;0;0;0m▀\u001b[38;2;0;0;0;48;2;0;0;0m▀\u001b[38;2;0;0;0;48;2;0;0;0m▀\u001b[38;2;0;0;0;48;2;0;0;0m▀\u001b[38;2;37;37;37;48;2;5;5;5m▀\u001b[38;2;93;93;93;48;2;16;16;16m▀\u001b[38;2;134;134;134;48;2;29;29;29m▀\u001b[38;2;108;108;108;48;2;21;21;21m▀\u001b[38;2;201;201;201;48;2;123;123;123m▀\u001b[38;2;247;247;247;48;2;209;209;209m▀\u001b[38;2;236;236;236;48;2;212;212;212m▀\u001b[38;2;172;172;172;48;2;99;99;99m▀\u001b[38;2;37;37;37;48;2;15;15;15m▀\u001b[38;2;8;8;8;48;2;0;0;0m▀\u001b[38;2;25;25;25;48;2;3;3;3m▀\u001b[38;2;70;70;70;48;2;9;9;9m▀\u001b[38;2;117;117;117;48;2;16;16;16m▀\u001b[38;2;17;17;17;48;2;2;2;2m▀\u001b[38;2;0;0;0;48;2;0;0;0m▀\u001b[38;2;0;0;0;48;2;0;0;0m▀\u001b[38;2;0;0;0;48;2;0;0;0m▀\u001b[38;2;0;0;0;48;2;0;0;0m▀\u001b[38;2;0;0;0;48;2;0;0;0m▀\u001b[38;2;0;0;0;48;2;0;0;0m▀\u001b[38;2;0;0;0;48;2;0;0;0m▀\u001b[38;2;0;0;0;48;2;0;0;0m▀\u001b[38;2;0;0;0;48;2;0;0;0m▀\u001b[38;2;0;0;0;48;2;0;0;0m▀\u001b[38;2;0;0;0;48;2;0;0;0m▀\u001b[38;2;0;0;0;48;2;0;0;0m▀\u001b[0m\n",
       "\u001b[0m\u001b[38;2;0;0;0;48;2;0;0;0m▀\u001b[38;2;0;0;0;48;2;0;0;0m▀\u001b[38;2;0;0;0;48;2;0;0;0m▀\u001b[38;2;0;0;0;48;2;0;0;0m▀\u001b[38;2;0;0;0;48;2;0;0;0m▀\u001b[38;2;0;0;0;48;2;0;0;0m▀\u001b[38;2;0;0;0;48;2;0;0;0m▀\u001b[38;2;0;0;0;48;2;0;0;0m▀\u001b[38;2;0;0;0;48;2;0;0;0m▀\u001b[38;2;0;0;0;48;2;0;0;0m▀\u001b[38;2;0;0;0;48;2;0;0;0m▀\u001b[38;2;1;1;1;48;2;0;0;0m▀\u001b[38;2;3;3;3;48;2;0;0;0m▀\u001b[38;2;5;5;5;48;2;2;2;2m▀\u001b[38;2;103;103;103;48;2;54;54;54m▀\u001b[38;2;198;198;198;48;2;148;148;148m▀\u001b[38;2;227;227;227;48;2;222;222;222m▀\u001b[38;2;145;145;145;48;2;198;198;198m▀\u001b[38;2;21;21;21;48;2;58;58;58m▀\u001b[38;2;0;0;0;48;2;10;10;10m▀\u001b[38;2;0;0;0;48;2;0;0;0m▀\u001b[38;2;0;0;0;48;2;0;0;0m▀\u001b[38;2;0;0;0;48;2;0;0;0m▀\u001b[38;2;0;0;0;48;2;0;0;0m▀\u001b[38;2;0;0;0;48;2;0;0;0m▀\u001b[38;2;0;0;0;48;2;0;0;0m▀\u001b[38;2;0;0;0;48;2;0;0;0m▀\u001b[38;2;0;0;0;48;2;0;0;0m▀\u001b[38;2;0;0;0;48;2;0;0;0m▀\u001b[38;2;0;0;0;48;2;0;0;0m▀\u001b[38;2;0;0;0;48;2;0;0;0m▀\u001b[38;2;0;0;0;48;2;0;0;0m▀\u001b[38;2;0;0;0;48;2;0;0;0m▀\u001b[38;2;0;0;0;48;2;0;0;0m▀\u001b[38;2;0;0;0;48;2;0;0;0m▀\u001b[38;2;0;0;0;48;2;0;0;0m▀\u001b[0m\n",
       "\u001b[0m\u001b[38;2;0;0;0;48;2;0;0;0m▀\u001b[38;2;0;0;0;48;2;0;0;0m▀\u001b[38;2;0;0;0;48;2;0;0;0m▀\u001b[38;2;0;0;0;48;2;0;0;0m▀\u001b[38;2;0;0;0;48;2;0;0;0m▀\u001b[38;2;0;0;0;48;2;0;0;0m▀\u001b[38;2;0;0;0;48;2;0;0;0m▀\u001b[38;2;0;0;0;48;2;0;0;0m▀\u001b[38;2;0;0;0;48;2;0;0;0m▀\u001b[38;2;0;0;0;48;2;0;0;0m▀\u001b[38;2;0;0;0;48;2;0;0;0m▀\u001b[38;2;0;0;0;48;2;0;0;0m▀\u001b[38;2;0;0;0;48;2;0;0;0m▀\u001b[38;2;0;0;0;48;2;0;0;0m▀\u001b[38;2;6;6;6;48;2;0;0;0m▀\u001b[38;2;77;77;77;48;2;18;18;18m▀\u001b[38;2;175;175;175;48;2;88;88;88m▀\u001b[38;2;229;229;229;48;2;216;216;216m▀\u001b[38;2;128;128;128;48;2;220;220;220m▀\u001b[38;2;64;64;64;48;2;182;182;182m▀\u001b[38;2;38;38;38;48;2;145;145;145m▀\u001b[38;2;22;22;22;48;2;93;93;93m▀\u001b[38;2;1;1;1;48;2;17;17;17m▀\u001b[38;2;0;0;0;48;2;5;5;5m▀\u001b[38;2;0;0;0;48;2;1;1;1m▀\u001b[38;2;0;0;0;48;2;0;0;0m▀\u001b[38;2;0;0;0;48;2;0;0;0m▀\u001b[38;2;0;0;0;48;2;0;0;0m▀\u001b[38;2;0;0;0;48;2;0;0;0m▀\u001b[38;2;0;0;0;48;2;0;0;0m▀\u001b[38;2;0;0;0;48;2;0;0;0m▀\u001b[38;2;0;0;0;48;2;0;0;0m▀\u001b[38;2;0;0;0;48;2;0;0;0m▀\u001b[38;2;0;0;0;48;2;0;0;0m▀\u001b[38;2;0;0;0;48;2;0;0;0m▀\u001b[38;2;0;0;0;48;2;0;0;0m▀\u001b[0m\n",
       "\u001b[0m\u001b[38;2;0;0;0;48;2;0;0;0m▀\u001b[38;2;0;0;0;48;2;0;0;0m▀\u001b[38;2;0;0;0;48;2;0;0;0m▀\u001b[38;2;0;0;0;48;2;0;0;0m▀\u001b[38;2;0;0;0;48;2;0;0;0m▀\u001b[38;2;0;0;0;48;2;0;0;0m▀\u001b[38;2;0;0;0;48;2;0;0;0m▀\u001b[38;2;0;0;0;48;2;0;0;0m▀\u001b[38;2;0;0;0;48;2;0;0;0m▀\u001b[38;2;0;0;0;48;2;0;0;0m▀\u001b[38;2;0;0;0;48;2;0;0;0m▀\u001b[38;2;0;0;0;48;2;0;0;0m▀\u001b[38;2;0;0;0;48;2;0;0;0m▀\u001b[38;2;0;0;0;48;2;0;0;0m▀\u001b[38;2;0;0;0;48;2;0;0;0m▀\u001b[38;2;2;2;2;48;2;0;0;0m▀\u001b[38;2;31;31;31;48;2;6;6;6m▀\u001b[38;2;112;112;112;48;2;32;32;32m▀\u001b[38;2;216;216;216;48;2;93;93;93m▀\u001b[38;2;237;237;237;48;2;175;175;175m▀\u001b[38;2;237;237;237;48;2;229;229;229m▀\u001b[38;2;199;199;199;48;2;242;242;242m▀\u001b[38;2;102;102;102;48;2;204;204;204m▀\u001b[38;2;35;35;35;48;2;124;124;124m▀\u001b[38;2;8;8;8;48;2;46;46;46m▀\u001b[38;2;0;0;0;48;2;10;10;10m▀\u001b[38;2;0;0;0;48;2;0;0;0m▀\u001b[38;2;0;0;0;48;2;0;0;0m▀\u001b[38;2;0;0;0;48;2;0;0;0m▀\u001b[38;2;0;0;0;48;2;0;0;0m▀\u001b[38;2;0;0;0;48;2;0;0;0m▀\u001b[38;2;0;0;0;48;2;0;0;0m▀\u001b[38;2;0;0;0;48;2;0;0;0m▀\u001b[38;2;0;0;0;48;2;0;0;0m▀\u001b[38;2;0;0;0;48;2;0;0;0m▀\u001b[38;2;0;0;0;48;2;0;0;0m▀\u001b[0m\n",
       "\u001b[0m\u001b[38;2;0;0;0;48;2;0;0;0m▀\u001b[38;2;0;0;0;48;2;0;0;0m▀\u001b[38;2;0;0;0;48;2;0;0;0m▀\u001b[38;2;0;0;0;48;2;0;0;0m▀\u001b[38;2;0;0;0;48;2;0;0;0m▀\u001b[38;2;0;0;0;48;2;0;0;0m▀\u001b[38;2;0;0;0;48;2;0;0;0m▀\u001b[38;2;0;0;0;48;2;0;0;0m▀\u001b[38;2;0;0;0;48;2;0;0;0m▀\u001b[38;2;0;0;0;48;2;0;0;0m▀\u001b[38;2;0;0;0;48;2;0;0;0m▀\u001b[38;2;0;0;0;48;2;0;0;0m▀\u001b[38;2;0;0;0;48;2;0;0;0m▀\u001b[38;2;0;0;0;48;2;0;0;0m▀\u001b[38;2;0;0;0;48;2;0;0;0m▀\u001b[38;2;0;0;0;48;2;0;0;0m▀\u001b[38;2;0;0;0;48;2;0;0;0m▀\u001b[38;2;3;3;3;48;2;0;0;0m▀\u001b[38;2;22;22;22;48;2;0;0;0m▀\u001b[38;2;79;79;79;48;2;8;8;8m▀\u001b[38;2;137;137;137;48;2;39;39;39m▀\u001b[38;2;195;195;195;48;2;119;119;119m▀\u001b[38;2;244;244;244;48;2;246;246;246m▀\u001b[38;2;205;205;205;48;2;251;251;251m▀\u001b[38;2;134;134;134;48;2;218;218;218m▀\u001b[38;2;54;54;54;48;2;111;111;111m▀\u001b[38;2;0;0;0;48;2;13;13;13m▀\u001b[38;2;0;0;0;48;2;1;1;1m▀\u001b[38;2;0;0;0;48;2;0;0;0m▀\u001b[38;2;0;0;0;48;2;0;0;0m▀\u001b[38;2;0;0;0;48;2;0;0;0m▀\u001b[38;2;0;0;0;48;2;0;0;0m▀\u001b[38;2;0;0;0;48;2;0;0;0m▀\u001b[38;2;0;0;0;48;2;0;0;0m▀\u001b[38;2;0;0;0;48;2;0;0;0m▀\u001b[38;2;0;0;0;48;2;0;0;0m▀\u001b[0m\n",
       "\u001b[0m\u001b[38;2;0;0;0;48;2;0;0;0m▀\u001b[38;2;0;0;0;48;2;0;0;0m▀\u001b[38;2;0;0;0;48;2;0;0;0m▀\u001b[38;2;0;0;0;48;2;0;0;0m▀\u001b[38;2;0;0;0;48;2;0;0;0m▀\u001b[38;2;0;0;0;48;2;0;0;0m▀\u001b[38;2;0;0;0;48;2;0;0;0m▀\u001b[38;2;0;0;0;48;2;0;0;0m▀\u001b[38;2;0;0;0;48;2;0;0;0m▀\u001b[38;2;0;0;0;48;2;0;0;0m▀\u001b[38;2;0;0;0;48;2;0;0;0m▀\u001b[38;2;0;0;0;48;2;0;0;0m▀\u001b[38;2;0;0;0;48;2;0;0;0m▀\u001b[38;2;0;0;0;48;2;0;0;0m▀\u001b[38;2;0;0;0;48;2;0;0;0m▀\u001b[38;2;0;0;0;48;2;1;1;1m▀\u001b[38;2;0;0;0;48;2;2;2;2m▀\u001b[38;2;1;1;1;48;2;10;10;10m▀\u001b[38;2;5;5;5;48;2;43;43;43m▀\u001b[38;2;14;14;14;48;2;97;97;97m▀\u001b[38;2;21;21;21;48;2;140;140;140m▀\u001b[38;2;89;89;89;48;2;188;188;188m▀\u001b[38;2;243;243;243;48;2;250;250;250m▀\u001b[38;2;252;252;252;48;2;252;252;252m▀\u001b[38;2;245;245;245;48;2;223;223;223m▀\u001b[38;2;148;148;148;48;2;111;111;111m▀\u001b[38;2;39;39;39;48;2;7;7;7m▀\u001b[38;2;2;2;2;48;2;0;0;0m▀\u001b[38;2;0;0;0;48;2;0;0;0m▀\u001b[38;2;0;0;0;48;2;0;0;0m▀\u001b[38;2;0;0;0;48;2;0;0;0m▀\u001b[38;2;0;0;0;48;2;0;0;0m▀\u001b[38;2;0;0;0;48;2;0;0;0m▀\u001b[38;2;0;0;0;48;2;0;0;0m▀\u001b[38;2;0;0;0;48;2;0;0;0m▀\u001b[38;2;0;0;0;48;2;0;0;0m▀\u001b[0m\n",
       "\u001b[0m\u001b[38;2;0;0;0;48;2;0;0;0m▀\u001b[38;2;0;0;0;48;2;0;0;0m▀\u001b[38;2;0;0;0;48;2;0;0;0m▀\u001b[38;2;0;0;0;48;2;0;0;0m▀\u001b[38;2;0;0;0;48;2;0;0;0m▀\u001b[38;2;0;0;0;48;2;0;0;0m▀\u001b[38;2;0;0;0;48;2;0;0;0m▀\u001b[38;2;0;0;0;48;2;0;0;0m▀\u001b[38;2;0;0;0;48;2;0;0;0m▀\u001b[38;2;0;0;0;48;2;0;0;0m▀\u001b[38;2;0;0;0;48;2;0;0;0m▀\u001b[38;2;0;0;0;48;2;0;0;0m▀\u001b[38;2;0;0;0;48;2;2;2;2m▀\u001b[38;2;0;0;0;48;2;12;12;12m▀\u001b[38;2;0;0;0;48;2;44;44;44m▀\u001b[38;2;14;14;14;48;2;94;94;94m▀\u001b[38;2;50;50;50;48;2;150;150;150m▀\u001b[38;2;113;113;113;48;2;203;203;203m▀\u001b[38;2;170;170;170;48;2;236;236;236m▀\u001b[38;2;207;207;207;48;2;250;250;250m▀\u001b[38;2;226;226;226;48;2;253;253;253m▀\u001b[38;2;239;239;239;48;2;246;246;246m▀\u001b[38;2;252;252;252;48;2;220;220;220m▀\u001b[38;2;249;249;249;48;2;170;170;170m▀\u001b[38;2;206;206;206;48;2;112;112;112m▀\u001b[38;2;95;95;95;48;2;46;46;46m▀\u001b[38;2;0;0;0;48;2;0;0;0m▀\u001b[38;2;0;0;0;48;2;0;0;0m▀\u001b[38;2;0;0;0;48;2;0;0;0m▀\u001b[38;2;0;0;0;48;2;0;0;0m▀\u001b[38;2;0;0;0;48;2;0;0;0m▀\u001b[38;2;0;0;0;48;2;0;0;0m▀\u001b[38;2;0;0;0;48;2;0;0;0m▀\u001b[38;2;0;0;0;48;2;0;0;0m▀\u001b[38;2;0;0;0;48;2;0;0;0m▀\u001b[38;2;0;0;0;48;2;0;0;0m▀\u001b[0m\n",
       "\u001b[0m\u001b[38;2;0;0;0;48;2;0;0;0m▀\u001b[38;2;0;0;0;48;2;0;0;0m▀\u001b[38;2;0;0;0;48;2;0;0;0m▀\u001b[38;2;0;0;0;48;2;0;0;0m▀\u001b[38;2;0;0;0;48;2;0;0;0m▀\u001b[38;2;0;0;0;48;2;0;0;0m▀\u001b[38;2;0;0;0;48;2;0;0;0m▀\u001b[38;2;0;0;0;48;2;0;0;0m▀\u001b[38;2;0;0;0;48;2;3;3;3m▀\u001b[38;2;0;0;0;48;2;16;16;16m▀\u001b[38;2;3;3;3;48;2;34;34;34m▀\u001b[38;2;10;10;10;48;2;58;58;58m▀\u001b[38;2;26;26;26;48;2;102;102;102m▀\u001b[38;2;72;72;72;48;2;198;198;198m▀\u001b[38;2;132;132;132;48;2;238;238;238m▀\u001b[38;2;192;192;192;48;2;250;250;250m▀\u001b[38;2;236;236;236;48;2;250;250;250m▀\u001b[38;2;252;252;252;48;2;244;244;244m▀\u001b[38;2;253;253;253;48;2;231;231;231m▀\u001b[38;2;242;242;242;48;2;192;192;192m▀\u001b[38;2;221;221;221;48;2;126;126;126m▀\u001b[38;2;188;188;188;48;2;57;57;57m▀\u001b[38;2;136;136;136;48;2;9;9;9m▀\u001b[38;2;65;65;65;48;2;3;3;3m▀\u001b[38;2;16;16;16;48;2;1;1;1m▀\u001b[38;2;0;0;0;48;2;0;0;0m▀\u001b[38;2;0;0;0;48;2;0;0;0m▀\u001b[38;2;0;0;0;48;2;0;0;0m▀\u001b[38;2;0;0;0;48;2;0;0;0m▀\u001b[38;2;0;0;0;48;2;0;0;0m▀\u001b[38;2;0;0;0;48;2;0;0;0m▀\u001b[38;2;0;0;0;48;2;0;0;0m▀\u001b[38;2;0;0;0;48;2;0;0;0m▀\u001b[38;2;0;0;0;48;2;0;0;0m▀\u001b[38;2;0;0;0;48;2;0;0;0m▀\u001b[38;2;0;0;0;48;2;0;0;0m▀\u001b[0m\n",
       "\u001b[0m\u001b[38;2;0;0;0;48;2;0;0;0m▀\u001b[38;2;0;0;0;48;2;0;0;0m▀\u001b[38;2;0;0;0;48;2;0;0;0m▀\u001b[38;2;0;0;0;48;2;0;0;0m▀\u001b[38;2;0;0;0;48;2;0;0;0m▀\u001b[38;2;1;1;1;48;2;20;20;20m▀\u001b[38;2;3;3;3;48;2;63;63;63m▀\u001b[38;2;7;7;7;48;2;126;126;126m▀\u001b[38;2;24;24;24;48;2;164;164;164m▀\u001b[38;2;116;116;116;48;2;212;212;212m▀\u001b[38;2;174;174;174;48;2;237;237;237m▀\u001b[38;2;205;205;205;48;2;246;246;246m▀\u001b[38;2;231;231;231;48;2;253;253;253m▀\u001b[38;2;246;246;246;48;2;253;253;253m▀\u001b[38;2;251;251;251;48;2;248;248;248m▀\u001b[38;2;251;251;251;48;2;207;207;207m▀\u001b[38;2;234;234;234;48;2;138;138;138m▀\u001b[38;2;186;186;186;48;2;61;61;61m▀\u001b[38;2;109;109;109;48;2;27;27;27m▀\u001b[38;2;51;51;51;48;2;8;8;8m▀\u001b[38;2;21;21;21;48;2;1;1;1m▀\u001b[38;2;7;7;7;48;2;0;0;0m▀\u001b[38;2;1;1;1;48;2;0;0;0m▀\u001b[38;2;0;0;0;48;2;0;0;0m▀\u001b[38;2;0;0;0;48;2;0;0;0m▀\u001b[38;2;0;0;0;48;2;0;0;0m▀\u001b[38;2;0;0;0;48;2;0;0;0m▀\u001b[38;2;0;0;0;48;2;0;0;0m▀\u001b[38;2;0;0;0;48;2;0;0;0m▀\u001b[38;2;0;0;0;48;2;0;0;0m▀\u001b[38;2;0;0;0;48;2;0;0;0m▀\u001b[38;2;0;0;0;48;2;0;0;0m▀\u001b[38;2;0;0;0;48;2;0;0;0m▀\u001b[38;2;0;0;0;48;2;0;0;0m▀\u001b[38;2;0;0;0;48;2;0;0;0m▀\u001b[38;2;0;0;0;48;2;0;0;0m▀\u001b[0m\n",
       "\u001b[0m\u001b[38;2;0;0;0;48;2;0;0;0m▀\u001b[38;2;0;0;0;48;2;0;0;0m▀\u001b[38;2;0;0;0;48;2;0;0;0m▀\u001b[38;2;0;0;0;48;2;0;0;0m▀\u001b[38;2;0;0;0;48;2;0;0;0m▀\u001b[38;2;48;48;48;48;2;49;49;49m▀\u001b[38;2;128;128;128;48;2;121;121;121m▀\u001b[38;2;212;212;212;48;2;179;179;179m▀\u001b[38;2;237;237;237;48;2;182;182;182m▀\u001b[38;2;249;249;249;48;2;182;182;182m▀\u001b[38;2;243;243;243;48;2;167;167;167m▀\u001b[38;2;222;222;222;48;2;137;137;137m▀\u001b[38;2;195;195;195;48;2;98;98;98m▀\u001b[38;2;191;191;191;48;2;93;93;93m▀\u001b[38;2;148;148;148;48;2;35;35;35m▀\u001b[38;2;98;98;98;48;2;6;6;6m▀\u001b[38;2;49;49;49;48;2;0;0;0m▀\u001b[38;2;7;7;7;48;2;0;0;0m▀\u001b[38;2;1;1;1;48;2;0;0;0m▀\u001b[38;2;0;0;0;48;2;0;0;0m▀\u001b[38;2;0;0;0;48;2;0;0;0m▀\u001b[38;2;0;0;0;48;2;0;0;0m▀\u001b[38;2;0;0;0;48;2;0;0;0m▀\u001b[38;2;0;0;0;48;2;0;0;0m▀\u001b[38;2;0;0;0;48;2;0;0;0m▀\u001b[38;2;0;0;0;48;2;0;0;0m▀\u001b[38;2;0;0;0;48;2;0;0;0m▀\u001b[38;2;0;0;0;48;2;0;0;0m▀\u001b[38;2;0;0;0;48;2;0;0;0m▀\u001b[38;2;0;0;0;48;2;0;0;0m▀\u001b[38;2;0;0;0;48;2;0;0;0m▀\u001b[38;2;0;0;0;48;2;0;0;0m▀\u001b[38;2;0;0;0;48;2;0;0;0m▀\u001b[38;2;0;0;0;48;2;0;0;0m▀\u001b[38;2;0;0;0;48;2;0;0;0m▀\u001b[38;2;0;0;0;48;2;0;0;0m▀\u001b[0m\n",
       "\u001b[0m\u001b[38;2;0;0;0;48;2;0;0;0m▀\u001b[38;2;0;0;0;48;2;0;0;0m▀\u001b[38;2;0;0;0;48;2;0;0;0m▀\u001b[38;2;0;0;0;48;2;0;0;0m▀\u001b[38;2;0;0;0;48;2;0;0;0m▀\u001b[38;2;2;2;2;48;2;0;0;0m▀\u001b[38;2;5;5;5;48;2;0;0;0m▀\u001b[38;2;8;8;8;48;2;0;0;0m▀\u001b[38;2;8;8;8;48;2;0;0;0m▀\u001b[38;2;8;8;8;48;2;0;0;0m▀\u001b[38;2;7;7;7;48;2;0;0;0m▀\u001b[38;2;6;6;6;48;2;0;0;0m▀\u001b[38;2;4;4;4;48;2;0;0;0m▀\u001b[38;2;4;4;4;48;2;0;0;0m▀\u001b[38;2;2;2;2;48;2;0;0;0m▀\u001b[38;2;0;0;0;48;2;0;0;0m▀\u001b[38;2;0;0;0;48;2;0;0;0m▀\u001b[38;2;0;0;0;48;2;0;0;0m▀\u001b[38;2;0;0;0;48;2;0;0;0m▀\u001b[38;2;0;0;0;48;2;0;0;0m▀\u001b[38;2;0;0;0;48;2;0;0;0m▀\u001b[38;2;0;0;0;48;2;0;0;0m▀\u001b[38;2;0;0;0;48;2;0;0;0m▀\u001b[38;2;0;0;0;48;2;0;0;0m▀\u001b[38;2;0;0;0;48;2;0;0;0m▀\u001b[38;2;0;0;0;48;2;0;0;0m▀\u001b[38;2;0;0;0;48;2;0;0;0m▀\u001b[38;2;0;0;0;48;2;0;0;0m▀\u001b[38;2;0;0;0;48;2;0;0;0m▀\u001b[38;2;0;0;0;48;2;0;0;0m▀\u001b[38;2;0;0;0;48;2;0;0;0m▀\u001b[38;2;0;0;0;48;2;0;0;0m▀\u001b[38;2;0;0;0;48;2;0;0;0m▀\u001b[38;2;0;0;0;48;2;0;0;0m▀\u001b[38;2;0;0;0;48;2;0;0;0m▀\u001b[38;2;0;0;0;48;2;0;0;0m▀\u001b[0m\n",
       "\u001b[0m\u001b[38;2;0;0;0;48;2;0;0;0m▀\u001b[38;2;0;0;0;48;2;0;0;0m▀\u001b[38;2;0;0;0;48;2;0;0;0m▀\u001b[38;2;0;0;0;48;2;0;0;0m▀\u001b[38;2;0;0;0;48;2;0;0;0m▀\u001b[38;2;0;0;0;48;2;0;0;0m▀\u001b[38;2;0;0;0;48;2;0;0;0m▀\u001b[38;2;0;0;0;48;2;0;0;0m▀\u001b[38;2;0;0;0;48;2;0;0;0m▀\u001b[38;2;0;0;0;48;2;0;0;0m▀\u001b[38;2;0;0;0;48;2;0;0;0m▀\u001b[38;2;0;0;0;48;2;0;0;0m▀\u001b[38;2;0;0;0;48;2;0;0;0m▀\u001b[38;2;0;0;0;48;2;0;0;0m▀\u001b[38;2;0;0;0;48;2;0;0;0m▀\u001b[38;2;0;0;0;48;2;0;0;0m▀\u001b[38;2;0;0;0;48;2;0;0;0m▀\u001b[38;2;0;0;0;48;2;0;0;0m▀\u001b[38;2;0;0;0;48;2;0;0;0m▀\u001b[38;2;0;0;0;48;2;0;0;0m▀\u001b[38;2;0;0;0;48;2;0;0;0m▀\u001b[38;2;0;0;0;48;2;0;0;0m▀\u001b[38;2;0;0;0;48;2;0;0;0m▀\u001b[38;2;0;0;0;48;2;0;0;0m▀\u001b[38;2;0;0;0;48;2;0;0;0m▀\u001b[38;2;0;0;0;48;2;0;0;0m▀\u001b[38;2;0;0;0;48;2;0;0;0m▀\u001b[38;2;0;0;0;48;2;0;0;0m▀\u001b[38;2;0;0;0;48;2;0;0;0m▀\u001b[38;2;0;0;0;48;2;0;0;0m▀\u001b[38;2;0;0;0;48;2;0;0;0m▀\u001b[38;2;0;0;0;48;2;0;0;0m▀\u001b[38;2;0;0;0;48;2;0;0;0m▀\u001b[38;2;0;0;0;48;2;0;0;0m▀\u001b[38;2;0;0;0;48;2;0;0;0m▀\u001b[38;2;0;0;0;48;2;0;0;0m▀\u001b[0m\n"
      ]
     },
     "execution_count": 126,
     "metadata": {},
     "output_type": "execute_result"
    }
   ],
   "source": [
    "cnn_output = m( images[:,:,:,1:3] )\n",
    "display( cnn_output |> size )\n",
    "convert2image( MNIST , cnn_output[:,:,1,1] )"
   ]
  },
  {
   "cell_type": "code",
   "execution_count": 129,
   "metadata": {},
   "outputs": [
    {
     "data": {
      "text/plain": [
       "(1000, 1000, 2, 10)"
      ]
     },
     "execution_count": 129,
     "metadata": {},
     "output_type": "execute_result"
    }
   ],
   "source": [
    "x = rand(Float32, 100, 100, 2, 10); \n",
    "m = Upsample( :bilinear, scale=10 )\n",
    "m( x ) |> size"
   ]
  },
  {
   "cell_type": "code",
   "execution_count": 130,
   "metadata": {},
   "outputs": [
    {
     "data": {
      "text/plain": [
       "(280, 280, 1, 3)"
      ]
     },
     "metadata": {},
     "output_type": "display_data"
    },
    {
     "data": {
      "image/png": "[encoded data removed]",
      "text/html": [
       "<img src=\"data:image/png;base64,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\">"
      ],
      "text/plain": [
       "\u001b[0m\u001b[38;2;0;0;0;48;2;0;0;0m▀\u001b[38;2;0;0;0;48;2;0;0;0m▀\u001b[38;2;0;0;0;48;2;0;0;0m▀\u001b[38;2;0;0;0;48;2;0;0;0m▀\u001b[38;2;0;0;0;48;2;0;0;0m▀\u001b[38;2;0;0;0;48;2;0;0;0m▀\u001b[38;2;0;0;0;48;2;0;0;0m▀\u001b[38;2;0;0;0;48;2;0;0;0m▀\u001b[38;2;0;0;0;48;2;0;0;0m▀\u001b[38;2;0;0;0;48;2;0;0;0m▀\u001b[38;2;0;0;0;48;2;0;0;0m▀\u001b[38;2;0;0;0;48;2;0;0;0m▀\u001b[38;2;0;0;0;48;2;0;0;0m▀\u001b[38;2;0;0;0;48;2;0;0;0m▀\u001b[38;2;0;0;0;48;2;0;0;0m▀\u001b[38;2;0;0;0;48;2;0;0;0m▀\u001b[38;2;0;0;0;48;2;0;0;0m▀\u001b[38;2;0;0;0;48;2;0;0;0m▀\u001b[38;2;0;0;0;48;2;0;0;0m▀\u001b[38;2;0;0;0;48;2;0;0;0m▀\u001b[38;2;0;0;0;48;2;0;0;0m▀\u001b[38;2;0;0;0;48;2;0;0;0m▀\u001b[38;2;0;0;0;48;2;0;0;0m▀\u001b[38;2;0;0;0;48;2;0;0;0m▀\u001b[38;2;0;0;0;48;2;0;0;0m▀\u001b[38;2;0;0;0;48;2;0;0;0m▀\u001b[38;2;0;0;0;48;2;0;0;0m▀\u001b[38;2;0;0;0;48;2;0;0;0m▀\u001b[38;2;0;0;0;48;2;0;0;0m▀\u001b[38;2;0;0;0;48;2;0;0;0m▀\u001b[38;2;0;0;0;48;2;0;0;0m▀\u001b[38;2;0;0;0;48;2;0;0;0m▀\u001b[38;2;0;0;0;48;2;0;0;0m▀\u001b[38;2;0;0;0;48;2;0;0;0m▀\u001b[38;2;0;0;0;48;2;0;0;0m▀\u001b[38;2;0;0;0;48;2;0;0;0m▀\u001b[0m\n",
       "\u001b[0m\u001b[38;2;0;0;0;48;2;0;0;0m▀\u001b[38;2;0;0;0;48;2;0;0;0m▀\u001b[38;2;0;0;0;48;2;0;0;0m▀\u001b[38;2;0;0;0;48;2;0;0;0m▀\u001b[38;2;0;0;0;48;2;0;0;0m▀\u001b[38;2;0;0;0;48;2;0;0;0m▀\u001b[38;2;0;0;0;48;2;0;0;0m▀\u001b[38;2;0;0;0;48;2;0;0;0m▀\u001b[38;2;0;0;0;48;2;0;0;0m▀\u001b[38;2;0;0;0;48;2;0;0;0m▀\u001b[38;2;0;0;0;48;2;0;0;0m▀\u001b[38;2;0;0;0;48;2;0;0;0m▀\u001b[38;2;0;0;0;48;2;0;0;0m▀\u001b[38;2;0;0;0;48;2;0;0;0m▀\u001b[38;2;0;0;0;48;2;0;0;0m▀\u001b[38;2;0;0;0;48;2;0;0;0m▀\u001b[38;2;0;0;0;48;2;0;0;0m▀\u001b[38;2;0;0;0;48;2;0;0;0m▀\u001b[38;2;0;0;0;48;2;0;0;0m▀\u001b[38;2;0;0;0;48;2;0;0;0m▀\u001b[38;2;0;0;0;48;2;0;0;0m▀\u001b[38;2;0;0;0;48;2;0;0;0m▀\u001b[38;2;0;0;0;48;2;0;0;0m▀\u001b[38;2;0;0;0;48;2;0;0;0m▀\u001b[38;2;0;0;0;48;2;0;0;0m▀\u001b[38;2;0;0;0;48;2;0;0;0m▀\u001b[38;2;0;0;0;48;2;0;0;0m▀\u001b[38;2;0;0;0;48;2;0;0;0m▀\u001b[38;2;0;0;0;48;2;0;0;0m▀\u001b[38;2;0;0;0;48;2;0;0;0m▀\u001b[38;2;0;0;0;48;2;0;0;0m▀\u001b[38;2;0;0;0;48;2;0;0;0m▀\u001b[38;2;0;0;0;48;2;0;0;0m▀\u001b[38;2;0;0;0;48;2;0;0;0m▀\u001b[38;2;0;0;0;48;2;0;0;0m▀\u001b[38;2;0;0;0;48;2;0;0;0m▀\u001b[0m\n",
       "\u001b[0m\u001b[38;2;0;0;0;48;2;0;0;0m▀\u001b[38;2;0;0;0;48;2;0;0;0m▀\u001b[38;2;0;0;0;48;2;0;0;0m▀\u001b[38;2;0;0;0;48;2;0;0;0m▀\u001b[38;2;0;0;0;48;2;0;0;0m▀\u001b[38;2;0;0;0;48;2;0;0;0m▀\u001b[38;2;0;0;0;48;2;0;0;0m▀\u001b[38;2;0;0;0;48;2;0;0;0m▀\u001b[38;2;0;0;0;48;2;0;0;0m▀\u001b[38;2;0;0;0;48;2;0;0;0m▀\u001b[38;2;0;0;0;48;2;0;0;0m▀\u001b[38;2;0;0;0;48;2;0;0;0m▀\u001b[38;2;0;0;0;48;2;0;0;0m▀\u001b[38;2;0;0;0;48;2;0;0;0m▀\u001b[38;2;0;0;0;48;2;0;0;0m▀\u001b[38;2;0;0;0;48;2;0;0;0m▀\u001b[38;2;0;0;0;48;2;0;0;0m▀\u001b[38;2;0;0;0;48;2;1;1;1m▀\u001b[38;2;0;0;0;48;2;1;1;1m▀\u001b[38;2;0;0;0;48;2;1;1;1m▀\u001b[38;2;0;0;0;48;2;4;4;4m▀\u001b[38;2;0;0;0;48;2;7;7;7m▀\u001b[38;2;0;0;0;48;2;8;8;8m▀\u001b[38;2;0;0;0;48;2;9;9;9m▀\u001b[38;2;0;0;0;48;2;6;6;6m▀\u001b[38;2;0;0;0;48;2;5;5;5m▀\u001b[38;2;0;0;0;48;2;10;10;10m▀\u001b[38;2;0;0;0;48;2;14;14;14m▀\u001b[38;2;0;0;0;48;2;15;15;15m▀\u001b[38;2;0;0;0;48;2;12;12;12m▀\u001b[38;2;0;0;0;48;2;6;6;6m▀\u001b[38;2;0;0;0;48;2;1;1;1m▀\u001b[38;2;0;0;0;48;2;0;0;0m▀\u001b[38;2;0;0;0;48;2;0;0;0m▀\u001b[38;2;0;0;0;48;2;0;0;0m▀\u001b[38;2;0;0;0;48;2;0;0;0m▀\u001b[0m\n",
       "\u001b[0m\u001b[38;2;0;0;0;48;2;0;0;0m▀\u001b[38;2;0;0;0;48;2;0;0;0m▀\u001b[38;2;0;0;0;48;2;0;0;0m▀\u001b[38;2;0;0;0;48;2;0;0;0m▀\u001b[38;2;0;0;0;48;2;0;0;0m▀\u001b[38;2;0;0;0;48;2;0;0;0m▀\u001b[38;2;0;0;0;48;2;0;0;0m▀\u001b[38;2;0;0;0;48;2;0;0;0m▀\u001b[38;2;0;0;0;48;2;0;0;0m▀\u001b[38;2;0;0;0;48;2;1;1;1m▀\u001b[38;2;0;0;0;48;2;8;8;8m▀\u001b[38;2;0;0;0;48;2;13;13;13m▀\u001b[38;2;1;1;1;48;2;20;20;20m▀\u001b[38;2;1;1;1;48;2;37;37;37m▀\u001b[38;2;2;2;2;48;2;54;54;54m▀\u001b[38;2;3;3;3;48;2;65;65;65m▀\u001b[38;2;8;8;8;48;2;83;83;83m▀\u001b[38;2;13;13;13;48;2;106;106;106m▀\u001b[38;2;14;14;14;48;2;109;109;109m▀\u001b[38;2;15;15;15;48;2;110;110;110m▀\u001b[38;2;41;41;41;48;2;137;137;137m▀\u001b[38;2;74;74;74;48;2;171;171;171m▀\u001b[38;2;83;83;83;48;2;180;180;180m▀\u001b[38;2;93;93;93;48;2;183;183;183m▀\u001b[38;2;58;58;58;48;2;135;135;135m▀\u001b[38;2;47;47;47;48;2;124;124;124m▀\u001b[38;2;99;99;99;48;2;194;194;194m▀\u001b[38;2;138;138;138;48;2;233;233;233m▀\u001b[38;2;144;144;144;48;2;229;229;229m▀\u001b[38;2;114;114;114;48;2;171;171;171m▀\u001b[38;2;60;60;60;48;2;84;84;84m▀\u001b[38;2;11;11;11;48;2;15;15;15m▀\u001b[38;2;0;0;0;48;2;0;0;0m▀\u001b[38;2;0;0;0;48;2;0;0;0m▀\u001b[38;2;0;0;0;48;2;0;0;0m▀\u001b[38;2;0;0;0;48;2;0;0;0m▀\u001b[0m\n",
       "\u001b[0m\u001b[38;2;0;0;0;48;2;0;0;0m▀\u001b[38;2;0;0;0;48;2;0;0;0m▀\u001b[38;2;0;0;0;48;2;0;0;0m▀\u001b[38;2;0;0;0;48;2;0;0;0m▀\u001b[38;2;0;0;0;48;2;0;0;0m▀\u001b[38;2;0;0;0;48;2;0;0;0m▀\u001b[38;2;0;0;0;48;2;0;0;0m▀\u001b[38;2;0;0;0;48;2;0;0;0m▀\u001b[38;2;2;2;2;48;2;8;8;8m▀\u001b[38;2;14;14;14;48;2;46;46;46m▀\u001b[38;2;52;52;52;48;2;146;146;146m▀\u001b[38;2;76;76;76;48;2;206;206;206m▀\u001b[38;2;91;91;91;48;2;217;217;217m▀\u001b[38;2;122;122;122;48;2;226;226;226m▀\u001b[38;2;154;154;154;48;2;233;233;233m▀\u001b[38;2;172;172;172;48;2;237;237;237m▀\u001b[38;2;198;198;198;48;2;244;244;244m▀\u001b[38;2;232;232;232;48;2;251;251;251m▀\u001b[38;2;237;237;237;48;2;249;249;249m▀\u001b[38;2;237;237;237;48;2;247;247;247m▀\u001b[38;2;240;240;240;48;2;249;249;249m▀\u001b[38;2;244;244;244;48;2;252;252;252m▀\u001b[38;2;238;238;238;48;2;233;233;233m▀\u001b[38;2;206;206;206;48;2;147;147;147m▀\u001b[38;2;167;167;167;48;2;99;99;99m▀\u001b[38;2;167;167;167;48;2;95;95;95m▀\u001b[38;2;203;203;203;48;2;99;99;99m▀\u001b[38;2;202;202;202;48;2;86;86;86m▀\u001b[38;2;178;178;178;48;2;70;70;70m▀\u001b[38;2;120;120;120;48;2;41;41;41m▀\u001b[38;2;48;48;48;48;2;12;12;12m▀\u001b[38;2;8;8;8;48;2;2;2;2m▀\u001b[38;2;0;0;0;48;2;0;0;0m▀\u001b[38;2;0;0;0;48;2;0;0;0m▀\u001b[38;2;0;0;0;48;2;0;0;0m▀\u001b[38;2;0;0;0;48;2;0;0;0m▀\u001b[0m\n",
       "\u001b[0m\u001b[38;2;0;0;0;48;2;0;0;0m▀\u001b[38;2;0;0;0;48;2;0;0;0m▀\u001b[38;2;0;0;0;48;2;0;0;0m▀\u001b[38;2;0;0;0;48;2;0;0;0m▀\u001b[38;2;0;0;0;48;2;0;0;0m▀\u001b[38;2;0;0;0;48;2;0;0;0m▀\u001b[38;2;0;0;0;48;2;0;0;0m▀\u001b[38;2;0;0;0;48;2;0;0;0m▀\u001b[38;2;6;6;6;48;2;2;2;2m▀\u001b[38;2;41;41;41;48;2;21;21;21m▀\u001b[38;2;157;157;157;48;2;107;107;107m▀\u001b[38;2;233;233;233;48;2;177;177;177m▀\u001b[38;2;249;249;249;48;2;198;198;198m▀\u001b[38;2;249;249;249;48;2;196;196;196m▀\u001b[38;2;252;252;252;48;2;235;235;235m▀\u001b[38;2;253;253;253;48;2;252;252;252m▀\u001b[38;2;252;252;252;48;2;245;245;245m▀\u001b[38;2;244;244;244;48;2;209;209;209m▀\u001b[38;2;218;218;218;48;2;132;132;132m▀\u001b[38;2;205;205;205;48;2;103;103;103m▀\u001b[38;2;220;220;220;48;2;121;121;121m▀\u001b[38;2;241;241;241;48;2;161;161;161m▀\u001b[38;2;216;216;216;48;2;168;168;168m▀\u001b[38;2;91;91;91;48;2;57;57;57m▀\u001b[38;2;30;30;30;48;2;1;1;1m▀\u001b[38;2;28;28;28;48;2;1;1;1m▀\u001b[38;2;26;26;26;48;2;1;1;1m▀\u001b[38;2;20;20;20;48;2;1;1;1m▀\u001b[38;2;15;15;15;48;2;0;0;0m▀\u001b[38;2;8;8;8;48;2;0;0;0m▀\u001b[38;2;1;1;1;48;2;0;0;0m▀\u001b[38;2;0;0;0;48;2;0;0;0m▀\u001b[38;2;0;0;0;48;2;0;0;0m▀\u001b[38;2;0;0;0;48;2;0;0;0m▀\u001b[38;2;0;0;0;48;2;0;0;0m▀\u001b[38;2;0;0;0;48;2;0;0;0m▀\u001b[0m\n",
       "\u001b[0m\u001b[38;2;0;0;0;48;2;0;0;0m▀\u001b[38;2;0;0;0;48;2;0;0;0m▀\u001b[38;2;0;0;0;48;2;0;0;0m▀\u001b[38;2;0;0;0;48;2;0;0;0m▀\u001b[38;2;0;0;0;48;2;0;0;0m▀\u001b[38;2;0;0;0;48;2;0;0;0m▀\u001b[38;2;0;0;0;48;2;0;0;0m▀\u001b[38;2;0;0;0;48;2;0;0;0m▀\u001b[38;2;0;0;0;48;2;0;0;0m▀\u001b[38;2;6;6;6;48;2;1;1;1m▀\u001b[38;2;44;44;44;48;2;7;7;7m▀\u001b[38;2;89;89;89;48;2;19;19;19m▀\u001b[38;2;107;107;107;48;2;24;24;24m▀\u001b[38;2;107;107;107;48;2;36;36;36m▀\u001b[38;2;189;189;189;48;2;129;129;129m▀\u001b[38;2;239;239;239;48;2;212;212;212m▀\u001b[38;2;224;224;224;48;2;202;202;202m▀\u001b[38;2;150;150;150;48;2;106;106;106m▀\u001b[38;2;46;46;46;48;2;24;24;24m▀\u001b[38;2;11;11;11;48;2;1;1;1m▀\u001b[38;2;22;22;22;48;2;2;2;2m▀\u001b[38;2;57;57;57;48;2;9;9;9m▀\u001b[38;2;90;90;90;48;2;15;15;15m▀\u001b[38;2;32;32;32;48;2;5;5;5m▀\u001b[38;2;0;0;0;48;2;0;0;0m▀\u001b[38;2;0;0;0;48;2;0;0;0m▀\u001b[38;2;0;0;0;48;2;0;0;0m▀\u001b[38;2;0;0;0;48;2;0;0;0m▀\u001b[38;2;0;0;0;48;2;0;0;0m▀\u001b[38;2;0;0;0;48;2;0;0;0m▀\u001b[38;2;0;0;0;48;2;0;0;0m▀\u001b[38;2;0;0;0;48;2;0;0;0m▀\u001b[38;2;0;0;0;48;2;0;0;0m▀\u001b[38;2;0;0;0;48;2;0;0;0m▀\u001b[38;2;0;0;0;48;2;0;0;0m▀\u001b[38;2;0;0;0;48;2;0;0;0m▀\u001b[0m\n",
       "\u001b[0m\u001b[38;2;0;0;0;48;2;0;0;0m▀\u001b[38;2;0;0;0;48;2;0;0;0m▀\u001b[38;2;0;0;0;48;2;0;0;0m▀\u001b[38;2;0;0;0;48;2;0;0;0m▀\u001b[38;2;0;0;0;48;2;0;0;0m▀\u001b[38;2;0;0;0;48;2;0;0;0m▀\u001b[38;2;0;0;0;48;2;0;0;0m▀\u001b[38;2;0;0;0;48;2;0;0;0m▀\u001b[38;2;0;0;0;48;2;0;0;0m▀\u001b[38;2;0;0;0;48;2;0;0;0m▀\u001b[38;2;0;0;0;48;2;0;0;0m▀\u001b[38;2;2;2;2;48;2;0;0;0m▀\u001b[38;2;3;3;3;48;2;0;0;0m▀\u001b[38;2;19;19;19;48;2;9;9;9m▀\u001b[38;2;107;107;107;48;2;58;58;58m▀\u001b[38;2;198;198;198;48;2;150;150;150m▀\u001b[38;2;217;217;217;48;2;216;216;216m▀\u001b[38;2;142;142;142;48;2;188;188;188m▀\u001b[38;2;36;36;36;48;2;74;74;74m▀\u001b[38;2;2;2;2;48;2;16;16;16m▀\u001b[38;2;0;0;0;48;2;2;2;2m▀\u001b[38;2;0;0;0;48;2;1;1;1m▀\u001b[38;2;0;0;0;48;2;0;0;0m▀\u001b[38;2;0;0;0;48;2;0;0;0m▀\u001b[38;2;0;0;0;48;2;0;0;0m▀\u001b[38;2;0;0;0;48;2;0;0;0m▀\u001b[38;2;0;0;0;48;2;0;0;0m▀\u001b[38;2;0;0;0;48;2;0;0;0m▀\u001b[38;2;0;0;0;48;2;0;0;0m▀\u001b[38;2;0;0;0;48;2;0;0;0m▀\u001b[38;2;0;0;0;48;2;0;0;0m▀\u001b[38;2;0;0;0;48;2;0;0;0m▀\u001b[38;2;0;0;0;48;2;0;0;0m▀\u001b[38;2;0;0;0;48;2;0;0;0m▀\u001b[38;2;0;0;0;48;2;0;0;0m▀\u001b[38;2;0;0;0;48;2;0;0;0m▀\u001b[0m\n",
       "\u001b[0m\u001b[38;2;0;0;0;48;2;0;0;0m▀\u001b[38;2;0;0;0;48;2;0;0;0m▀\u001b[38;2;0;0;0;48;2;0;0;0m▀\u001b[38;2;0;0;0;48;2;0;0;0m▀\u001b[38;2;0;0;0;48;2;0;0;0m▀\u001b[38;2;0;0;0;48;2;0;0;0m▀\u001b[38;2;0;0;0;48;2;0;0;0m▀\u001b[38;2;0;0;0;48;2;0;0;0m▀\u001b[38;2;0;0;0;48;2;0;0;0m▀\u001b[38;2;0;0;0;48;2;0;0;0m▀\u001b[38;2;0;0;0;48;2;0;0;0m▀\u001b[38;2;0;0;0;48;2;0;0;0m▀\u001b[38;2;0;0;0;48;2;0;0;0m▀\u001b[38;2;1;1;1;48;2;0;0;0m▀\u001b[38;2;14;14;14;48;2;3;3;3m▀\u001b[38;2;81;81;81;48;2;25;25;25m▀\u001b[38;2;173;173;173;48;2;101;101;101m▀\u001b[38;2;214;214;214;48;2;198;198;198m▀\u001b[38;2;143;143;143;48;2;210;210;210m▀\u001b[38;2;81;81;81;48;2;182;182;182m▀\u001b[38;2;50;50;50;48;2;149;149;149m▀\u001b[38;2;30;30;30;48;2;102;102;102m▀\u001b[38;2;6;6;6;48;2;36;36;36m▀\u001b[38;2;0;0;0;48;2;10;10;10m▀\u001b[38;2;0;0;0;48;2;2;2;2m▀\u001b[38;2;0;0;0;48;2;0;0;0m▀\u001b[38;2;0;0;0;48;2;0;0;0m▀\u001b[38;2;0;0;0;48;2;0;0;0m▀\u001b[38;2;0;0;0;48;2;0;0;0m▀\u001b[38;2;0;0;0;48;2;0;0;0m▀\u001b[38;2;0;0;0;48;2;0;0;0m▀\u001b[38;2;0;0;0;48;2;0;0;0m▀\u001b[38;2;0;0;0;48;2;0;0;0m▀\u001b[38;2;0;0;0;48;2;0;0;0m▀\u001b[38;2;0;0;0;48;2;0;0;0m▀\u001b[38;2;0;0;0;48;2;0;0;0m▀\u001b[0m\n",
       "\u001b[0m\u001b[38;2;0;0;0;48;2;0;0;0m▀\u001b[38;2;0;0;0;48;2;0;0;0m▀\u001b[38;2;0;0;0;48;2;0;0;0m▀\u001b[38;2;0;0;0;48;2;0;0;0m▀\u001b[38;2;0;0;0;48;2;0;0;0m▀\u001b[38;2;0;0;0;48;2;0;0;0m▀\u001b[38;2;0;0;0;48;2;0;0;0m▀\u001b[38;2;0;0;0;48;2;0;0;0m▀\u001b[38;2;0;0;0;48;2;0;0;0m▀\u001b[38;2;0;0;0;48;2;0;0;0m▀\u001b[38;2;0;0;0;48;2;0;0;0m▀\u001b[38;2;0;0;0;48;2;0;0;0m▀\u001b[38;2;0;0;0;48;2;0;0;0m▀\u001b[38;2;0;0;0;48;2;0;0;0m▀\u001b[38;2;0;0;0;48;2;0;0;0m▀\u001b[38;2;5;5;5;48;2;0;0;0m▀\u001b[38;2;42;42;42;48;2;11;11;11m▀\u001b[38;2;120;120;120;48;2;43;43;43m▀\u001b[38;2;199;199;199;48;2;105;105;105m▀\u001b[38;2;226;226;226;48;2;174;174;174m▀\u001b[38;2;227;227;227;48;2;224;224;224m▀\u001b[38;2;194;194;194;48;2;235;235;235m▀\u001b[38;2;114;114;114;48;2;199;199;199m▀\u001b[38;2;51;51;51;48;2;131;131;131m▀\u001b[38;2;16;16;16;48;2;62;62;62m▀\u001b[38;2;2;2;2;48;2;16;16;16m▀\u001b[38;2;0;0;0;48;2;2;2;2m▀\u001b[38;2;0;0;0;48;2;0;0;0m▀\u001b[38;2;0;0;0;48;2;0;0;0m▀\u001b[38;2;0;0;0;48;2;0;0;0m▀\u001b[38;2;0;0;0;48;2;0;0;0m▀\u001b[38;2;0;0;0;48;2;0;0;0m▀\u001b[38;2;0;0;0;48;2;0;0;0m▀\u001b[38;2;0;0;0;48;2;0;0;0m▀\u001b[38;2;0;0;0;48;2;0;0;0m▀\u001b[38;2;0;0;0;48;2;0;0;0m▀\u001b[0m\n",
       "\u001b[0m\u001b[38;2;0;0;0;48;2;0;0;0m▀\u001b[38;2;0;0;0;48;2;0;0;0m▀\u001b[38;2;0;0;0;48;2;0;0;0m▀\u001b[38;2;0;0;0;48;2;0;0;0m▀\u001b[38;2;0;0;0;48;2;0;0;0m▀\u001b[38;2;0;0;0;48;2;0;0;0m▀\u001b[38;2;0;0;0;48;2;0;0;0m▀\u001b[38;2;0;0;0;48;2;0;0;0m▀\u001b[38;2;0;0;0;48;2;0;0;0m▀\u001b[38;2;0;0;0;48;2;0;0;0m▀\u001b[38;2;0;0;0;48;2;0;0;0m▀\u001b[38;2;0;0;0;48;2;0;0;0m▀\u001b[38;2;0;0;0;48;2;0;0;0m▀\u001b[38;2;0;0;0;48;2;0;0;0m▀\u001b[38;2;0;0;0;48;2;0;0;0m▀\u001b[38;2;0;0;0;48;2;0;0;0m▀\u001b[38;2;0;0;0;48;2;0;0;0m▀\u001b[38;2;6;6;6;48;2;0;0;0m▀\u001b[38;2;29;29;29;48;2;3;3;3m▀\u001b[38;2;83;83;83;48;2;15;15;15m▀\u001b[38;2;142;142;142;48;2;46;46;46m▀\u001b[38;2;196;196;196;48;2;119;119;119m▀\u001b[38;2;235;235;235;48;2;227;227;227m▀\u001b[38;2;206;206;206;48;2;247;247;247m▀\u001b[38;2;143;143;143;48;2;218;218;218m▀\u001b[38;2;68;68;68;48;2;137;137;137m▀\u001b[38;2;9;9;9;48;2;30;30;30m▀\u001b[38;2;0;0;0;48;2;4;4;4m▀\u001b[38;2;0;0;0;48;2;0;0;0m▀\u001b[38;2;0;0;0;48;2;0;0;0m▀\u001b[38;2;0;0;0;48;2;0;0;0m▀\u001b[38;2;0;0;0;48;2;0;0;0m▀\u001b[38;2;0;0;0;48;2;0;0;0m▀\u001b[38;2;0;0;0;48;2;0;0;0m▀\u001b[38;2;0;0;0;48;2;0;0;0m▀\u001b[38;2;0;0;0;48;2;0;0;0m▀\u001b[0m\n",
       "\u001b[0m\u001b[38;2;0;0;0;48;2;0;0;0m▀\u001b[38;2;0;0;0;48;2;0;0;0m▀\u001b[38;2;0;0;0;48;2;0;0;0m▀\u001b[38;2;0;0;0;48;2;0;0;0m▀\u001b[38;2;0;0;0;48;2;0;0;0m▀\u001b[38;2;0;0;0;48;2;0;0;0m▀\u001b[38;2;0;0;0;48;2;0;0;0m▀\u001b[38;2;0;0;0;48;2;0;0;0m▀\u001b[38;2;0;0;0;48;2;0;0;0m▀\u001b[38;2;0;0;0;48;2;0;0;0m▀\u001b[38;2;0;0;0;48;2;0;0;0m▀\u001b[38;2;0;0;0;48;2;0;0;0m▀\u001b[38;2;0;0;0;48;2;0;0;0m▀\u001b[38;2;0;0;0;48;2;0;0;0m▀\u001b[38;2;0;0;0;48;2;0;0;0m▀\u001b[38;2;0;0;0;48;2;1;1;1m▀\u001b[38;2;0;0;0;48;2;3;3;3m▀\u001b[38;2;1;1;1;48;2;12;12;12m▀\u001b[38;2;6;6;6;48;2;39;39;39m▀\u001b[38;2;14;14;14;48;2;78;78;78m▀\u001b[38;2;26;26;26;48;2;114;114;114m▀\u001b[38;2;90;90;90;48;2;163;163;163m▀\u001b[38;2;221;221;221;48;2;236;236;236m▀\u001b[38;2;251;251;251;48;2;251;251;251m▀\u001b[38;2;242;242;242;48;2;233;233;233m▀\u001b[38;2;173;173;173;48;2;152;152;152m▀\u001b[38;2;57;57;57;48;2;35;35;35m▀\u001b[38;2;10;10;10;48;2;4;4;4m▀\u001b[38;2;0;0;0;48;2;0;0;0m▀\u001b[38;2;0;0;0;48;2;0;0;0m▀\u001b[38;2;0;0;0;48;2;0;0;0m▀\u001b[38;2;0;0;0;48;2;0;0;0m▀\u001b[38;2;0;0;0;48;2;0;0;0m▀\u001b[38;2;0;0;0;48;2;0;0;0m▀\u001b[38;2;0;0;0;48;2;0;0;0m▀\u001b[38;2;0;0;0;48;2;0;0;0m▀\u001b[0m\n",
       "\u001b[0m\u001b[38;2;0;0;0;48;2;0;0;0m▀\u001b[38;2;0;0;0;48;2;0;0;0m▀\u001b[38;2;0;0;0;48;2;0;0;0m▀\u001b[38;2;0;0;0;48;2;0;0;0m▀\u001b[38;2;0;0;0;48;2;0;0;0m▀\u001b[38;2;0;0;0;48;2;0;0;0m▀\u001b[38;2;0;0;0;48;2;0;0;0m▀\u001b[38;2;0;0;0;48;2;0;0;0m▀\u001b[38;2;0;0;0;48;2;0;0;0m▀\u001b[38;2;0;0;0;48;2;0;0;0m▀\u001b[38;2;0;0;0;48;2;0;0;0m▀\u001b[38;2;0;0;0;48;2;0;0;0m▀\u001b[38;2;0;0;0;48;2;2;2;2m▀\u001b[38;2;0;0;0;48;2;11;11;11m▀\u001b[38;2;2;2;2;48;2;33;33;33m▀\u001b[38;2;13;13;13;48;2;73;73;73m▀\u001b[38;2;42;42;42;48;2;126;126;126m▀\u001b[38;2;87;87;87;48;2;183;183;183m▀\u001b[38;2;134;134;134;48;2;223;223;223m▀\u001b[38;2;176;176;176;48;2;243;243;243m▀\u001b[38;2;205;205;205;48;2;250;250;250m▀\u001b[38;2;227;227;227;48;2;247;247;247m▀\u001b[38;2;248;248;248;48;2;232;232;232m▀\u001b[38;2;248;248;248;48;2;202;202;202m▀\u001b[38;2;218;218;218;48;2;154;154;154m▀\u001b[38;2;130;130;130;48;2;83;83;83m▀\u001b[38;2;19;19;19;48;2;11;11;11m▀\u001b[38;2;0;0;0;48;2;0;0;0m▀\u001b[38;2;0;0;0;48;2;0;0;0m▀\u001b[38;2;0;0;0;48;2;0;0;0m▀\u001b[38;2;0;0;0;48;2;0;0;0m▀\u001b[38;2;0;0;0;48;2;0;0;0m▀\u001b[38;2;0;0;0;48;2;0;0;0m▀\u001b[38;2;0;0;0;48;2;0;0;0m▀\u001b[38;2;0;0;0;48;2;0;0;0m▀\u001b[38;2;0;0;0;48;2;0;0;0m▀\u001b[0m\n",
       "\u001b[0m\u001b[38;2;0;0;0;48;2;0;0;0m▀\u001b[38;2;0;0;0;48;2;0;0;0m▀\u001b[38;2;0;0;0;48;2;0;0;0m▀\u001b[38;2;0;0;0;48;2;0;0;0m▀\u001b[38;2;0;0;0;48;2;0;0;0m▀\u001b[38;2;0;0;0;48;2;0;0;0m▀\u001b[38;2;0;0;0;48;2;0;0;0m▀\u001b[38;2;0;0;0;48;2;0;0;0m▀\u001b[38;2;0;0;0;48;2;3;3;3m▀\u001b[38;2;0;0;0;48;2;12;12;12m▀\u001b[38;2;3;3;3;48;2;26;26;26m▀\u001b[38;2;8;8;8;48;2;47;47;47m▀\u001b[38;2;23;23;23;48;2;95;95;95m▀\u001b[38;2;59;59;59;48;2;168;168;168m▀\u001b[38;2;113;113;113;48;2;212;212;212m▀\u001b[38;2;173;173;173;48;2;236;236;236m▀\u001b[38;2;220;220;220;48;2;247;247;247m▀\u001b[38;2;242;242;242;48;2;247;247;247m▀\u001b[38;2;249;249;249;48;2;239;239;239m▀\u001b[38;2;246;246;246;48;2;211;211;211m▀\u001b[38;2;234;234;234;48;2;160;160;160m▀\u001b[38;2;211;211;211;48;2;99;99;99m▀\u001b[38;2;167;167;167;48;2;50;50;50m▀\u001b[38;2;104;104;104;48;2;24;24;24m▀\u001b[38;2;47;47;47;48;2;8;8;8m▀\u001b[38;2;13;13;13;48;2;0;0;0m▀\u001b[38;2;2;2;2;48;2;0;0;0m▀\u001b[38;2;0;0;0;48;2;0;0;0m▀\u001b[38;2;0;0;0;48;2;0;0;0m▀\u001b[38;2;0;0;0;48;2;0;0;0m▀\u001b[38;2;0;0;0;48;2;0;0;0m▀\u001b[38;2;0;0;0;48;2;0;0;0m▀\u001b[38;2;0;0;0;48;2;0;0;0m▀\u001b[38;2;0;0;0;48;2;0;0;0m▀\u001b[38;2;0;0;0;48;2;0;0;0m▀\u001b[38;2;0;0;0;48;2;0;0;0m▀\u001b[0m\n",
       "\u001b[0m\u001b[38;2;0;0;0;48;2;0;0;0m▀\u001b[38;2;0;0;0;48;2;0;0;0m▀\u001b[38;2;0;0;0;48;2;0;0;0m▀\u001b[38;2;0;0;0;48;2;0;0;0m▀\u001b[38;2;0;0;0;48;2;4;4;4m▀\u001b[38;2;1;1;1;48;2;20;20;20m▀\u001b[38;2;2;2;2;48;2;52;52;52m▀\u001b[38;2;8;8;8;48;2;84;84;84m▀\u001b[38;2;34;34;34;48;2;123;123;123m▀\u001b[38;2;94;94;94;48;2;188;188;188m▀\u001b[38;2;132;132;132;48;2;222;222;222m▀\u001b[38;2;161;161;161;48;2;239;239;239m▀\u001b[38;2;195;195;195;48;2;250;250;250m▀\u001b[38;2;232;232;232;48;2;251;251;251m▀\u001b[38;2;249;249;249;48;2;247;247;247m▀\u001b[38;2;251;251;251;48;2;222;222;222m▀\u001b[38;2;238;238;238;48;2;174;174;174m▀\u001b[38;2;204;204;204;48;2;112;112;112m▀\u001b[38;2;154;154;154;48;2;59;59;59m▀\u001b[38;2;104;104;104;48;2;23;23;23m▀\u001b[38;2;60;60;60;48;2;5;5;5m▀\u001b[38;2;26;26;26;48;2;1;1;1m▀\u001b[38;2;5;5;5;48;2;0;0;0m▀\u001b[38;2;0;0;0;48;2;0;0;0m▀\u001b[38;2;0;0;0;48;2;0;0;0m▀\u001b[38;2;0;0;0;48;2;0;0;0m▀\u001b[38;2;0;0;0;48;2;0;0;0m▀\u001b[38;2;0;0;0;48;2;0;0;0m▀\u001b[38;2;0;0;0;48;2;0;0;0m▀\u001b[38;2;0;0;0;48;2;0;0;0m▀\u001b[38;2;0;0;0;48;2;0;0;0m▀\u001b[38;2;0;0;0;48;2;0;0;0m▀\u001b[38;2;0;0;0;48;2;0;0;0m▀\u001b[38;2;0;0;0;48;2;0;0;0m▀\u001b[38;2;0;0;0;48;2;0;0;0m▀\u001b[38;2;0;0;0;48;2;0;0;0m▀\u001b[0m\n",
       "\u001b[0m\u001b[38;2;0;0;0;48;2;0;0;0m▀\u001b[38;2;0;0;0;48;2;0;0;0m▀\u001b[38;2;0;0;0;48;2;0;0;0m▀\u001b[38;2;0;0;0;48;2;0;0;0m▀\u001b[38;2;11;11;11;48;2;17;17;17m▀\u001b[38;2;61;61;61;48;2;89;89;89m▀\u001b[38;2;136;136;136;48;2;170;170;170m▀\u001b[38;2;194;194;194;48;2;215;215;215m▀\u001b[38;2;223;223;223;48;2;222;222;222m▀\u001b[38;2;243;243;243;48;2;223;223;223m▀\u001b[38;2;243;243;243;48;2;204;204;204m▀\u001b[38;2;234;234;234;48;2;169;169;169m▀\u001b[38;2;225;225;225;48;2;141;141;141m▀\u001b[38;2;220;220;220;48;2;125;125;125m▀\u001b[38;2;195;195;195;48;2;71;71;71m▀\u001b[38;2;144;144;144;48;2;33;33;33m▀\u001b[38;2;78;78;78;48;2;14;14;14m▀\u001b[38;2;24;24;24;48;2;3;3;3m▀\u001b[38;2;7;7;7;48;2;0;0;0m▀\u001b[38;2;2;2;2;48;2;0;0;0m▀\u001b[38;2;0;0;0;48;2;0;0;0m▀\u001b[38;2;0;0;0;48;2;0;0;0m▀\u001b[38;2;0;0;0;48;2;0;0;0m▀\u001b[38;2;0;0;0;48;2;0;0;0m▀\u001b[38;2;0;0;0;48;2;0;0;0m▀\u001b[38;2;0;0;0;48;2;0;0;0m▀\u001b[38;2;0;0;0;48;2;0;0;0m▀\u001b[38;2;0;0;0;48;2;0;0;0m▀\u001b[38;2;0;0;0;48;2;0;0;0m▀\u001b[38;2;0;0;0;48;2;0;0;0m▀\u001b[38;2;0;0;0;48;2;0;0;0m▀\u001b[38;2;0;0;0;48;2;0;0;0m▀\u001b[38;2;0;0;0;48;2;0;0;0m▀\u001b[38;2;0;0;0;48;2;0;0;0m▀\u001b[38;2;0;0;0;48;2;0;0;0m▀\u001b[38;2;0;0;0;48;2;0;0;0m▀\u001b[0m\n",
       "\u001b[0m\u001b[38;2;0;0;0;48;2;0;0;0m▀\u001b[38;2;0;0;0;48;2;0;0;0m▀\u001b[38;2;0;0;0;48;2;0;0;0m▀\u001b[38;2;0;0;0;48;2;0;0;0m▀\u001b[38;2;6;6;6;48;2;0;0;0m▀\u001b[38;2;34;34;34;48;2;1;1;1m▀\u001b[38;2;63;63;63;48;2;1;1;1m▀\u001b[38;2;78;78;78;48;2;2;2;2m▀\u001b[38;2;78;78;78;48;2;2;2;2m▀\u001b[38;2;77;77;77;48;2;2;2;2m▀\u001b[38;2;69;69;69;48;2;1;1;1m▀\u001b[38;2;54;54;54;48;2;1;1;1m▀\u001b[38;2;43;43;43;48;2;1;1;1m▀\u001b[38;2;36;36;36;48;2;1;1;1m▀\u001b[38;2;14;14;14;48;2;0;0;0m▀\u001b[38;2;2;2;2;48;2;0;0;0m▀\u001b[38;2;0;0;0;48;2;0;0;0m▀\u001b[38;2;0;0;0;48;2;0;0;0m▀\u001b[38;2;0;0;0;48;2;0;0;0m▀\u001b[38;2;0;0;0;48;2;0;0;0m▀\u001b[38;2;0;0;0;48;2;0;0;0m▀\u001b[38;2;0;0;0;48;2;0;0;0m▀\u001b[38;2;0;0;0;48;2;0;0;0m▀\u001b[38;2;0;0;0;48;2;0;0;0m▀\u001b[38;2;0;0;0;48;2;0;0;0m▀\u001b[38;2;0;0;0;48;2;0;0;0m▀\u001b[38;2;0;0;0;48;2;0;0;0m▀\u001b[38;2;0;0;0;48;2;0;0;0m▀\u001b[38;2;0;0;0;48;2;0;0;0m▀\u001b[38;2;0;0;0;48;2;0;0;0m▀\u001b[38;2;0;0;0;48;2;0;0;0m▀\u001b[38;2;0;0;0;48;2;0;0;0m▀\u001b[38;2;0;0;0;48;2;0;0;0m▀\u001b[38;2;0;0;0;48;2;0;0;0m▀\u001b[38;2;0;0;0;48;2;0;0;0m▀\u001b[38;2;0;0;0;48;2;0;0;0m▀\u001b[0m\n",
       "\u001b[0m\u001b[38;2;0;0;0;48;2;0;0;0m▀\u001b[38;2;0;0;0;48;2;0;0;0m▀\u001b[38;2;0;0;0;48;2;0;0;0m▀\u001b[38;2;0;0;0;48;2;0;0;0m▀\u001b[38;2;0;0;0;48;2;0;0;0m▀\u001b[38;2;0;0;0;48;2;0;0;0m▀\u001b[38;2;0;0;0;48;2;0;0;0m▀\u001b[38;2;0;0;0;48;2;0;0;0m▀\u001b[38;2;0;0;0;48;2;0;0;0m▀\u001b[38;2;0;0;0;48;2;0;0;0m▀\u001b[38;2;0;0;0;48;2;0;0;0m▀\u001b[38;2;0;0;0;48;2;0;0;0m▀\u001b[38;2;0;0;0;48;2;0;0;0m▀\u001b[38;2;0;0;0;48;2;0;0;0m▀\u001b[38;2;0;0;0;48;2;0;0;0m▀\u001b[38;2;0;0;0;48;2;0;0;0m▀\u001b[38;2;0;0;0;48;2;0;0;0m▀\u001b[38;2;0;0;0;48;2;0;0;0m▀\u001b[38;2;0;0;0;48;2;0;0;0m▀\u001b[38;2;0;0;0;48;2;0;0;0m▀\u001b[38;2;0;0;0;48;2;0;0;0m▀\u001b[38;2;0;0;0;48;2;0;0;0m▀\u001b[38;2;0;0;0;48;2;0;0;0m▀\u001b[38;2;0;0;0;48;2;0;0;0m▀\u001b[38;2;0;0;0;48;2;0;0;0m▀\u001b[38;2;0;0;0;48;2;0;0;0m▀\u001b[38;2;0;0;0;48;2;0;0;0m▀\u001b[38;2;0;0;0;48;2;0;0;0m▀\u001b[38;2;0;0;0;48;2;0;0;0m▀\u001b[38;2;0;0;0;48;2;0;0;0m▀\u001b[38;2;0;0;0;48;2;0;0;0m▀\u001b[38;2;0;0;0;48;2;0;0;0m▀\u001b[38;2;0;0;0;48;2;0;0;0m▀\u001b[38;2;0;0;0;48;2;0;0;0m▀\u001b[38;2;0;0;0;48;2;0;0;0m▀\u001b[38;2;0;0;0;48;2;0;0;0m▀\u001b[0m\n"
      ]
     },
     "execution_count": 130,
     "metadata": {},
     "output_type": "execute_result"
    }
   ],
   "source": [
    "cnn_output = m( images[:,:,:,1:3] )\n",
    "display( cnn_output |> size )\n",
    "convert2image( MNIST , cnn_output[:,:,1,1] )"
   ]
  },
  {
   "cell_type": "code",
   "execution_count": null,
   "metadata": {},
   "outputs": [],
   "source": []
  },
  {
   "cell_type": "markdown",
   "metadata": {},
   "source": [
    "### <span style=\"color:orange\"> Layer level functions </span>\n",
    "\n",
    "- We can have layers that are functions of layers\n",
    "- eg. 'Maxout' which takes in a set of layers where each gets fed the same input, and then produces the maximum from each output\n",
    "- 'activations' which returns the output from each layer\n",
    "- 'parallel' that is a layer which passes an input array into each layer in a set and then a function merges (reduces) these layer outputs"
   ]
  },
  {
   "cell_type": "code",
   "execution_count": 131,
   "metadata": {},
   "outputs": [
    {
     "data": {
      "text/plain": [
       "(97, 1, 1)"
      ]
     },
     "execution_count": 131,
     "metadata": {},
     "output_type": "execute_result"
    }
   ],
   "source": [
    "x = rand(Float32, 100, 1, 1); #100elements, 1 channel, 10 samples in the batch \n",
    "cnn_layer = Conv( (4,) , 1 => 1 ) #4 element filter\n",
    "cnn_layer( x ) |> size"
   ]
  },
  {
   "cell_type": "code",
   "execution_count": 132,
   "metadata": {},
   "outputs": [
    {
     "name": "stdout",
     "output_type": "stream",
     "text": [
      "3\n"
     ]
    },
    {
     "data": {
      "text/plain": [
       "10×10 Matrix{Float32}:\n",
       " -0.399328     0.0760445   0.871108   …   0.516235    0.739331   0.78714\n",
       " -0.100741     0.202583   -0.693497      -0.321393   -0.127195   0.365254\n",
       "  0.475157     0.297879    0.539067       0.0387698   0.182239  -0.106542\n",
       " -0.306768    -0.560046   -0.579755      -0.975201   -0.456696  -0.766125\n",
       " -0.403551     0.640238    0.498729       0.476726    1.01766    0.202576\n",
       "  1.24741      2.1034      2.02862    …   1.62772     1.69147    1.08707\n",
       " -0.00884771  -0.277226   -0.0824485     -0.420657   -0.578645  -0.197409\n",
       " -0.130242    -0.652528   -0.593686       0.498859    0.505471  -0.197141\n",
       "  0.0296733   -0.334418    0.195391      -0.30445    -0.119436   0.233789\n",
       "  0.179215     0.360399    0.288385       0.0169251   0.783229  -0.0436499"
      ]
     },
     "metadata": {},
     "output_type": "display_data"
    },
    {
     "data": {
      "text/plain": [
       "5×10 Matrix{Float32}:\n",
       " -0.952944  -1.52144   -1.59779   …  -0.941566  -1.45855    -0.344095\n",
       " -0.390894   0.367682  -0.203505      0.649967   1.18733     0.403731\n",
       "  1.14596    1.0904     1.36609       1.0537     0.495952    0.89529\n",
       " -0.607759  -1.30913   -2.03014      -0.626309  -0.962691   -0.564924\n",
       "  0.243959  -0.043168   0.619059      0.820755   0.0323841   0.275044"
      ]
     },
     "metadata": {},
     "output_type": "display_data"
    },
    {
     "data": {
      "text/plain": [
       "1×10 Matrix{Float32}:\n",
       " 0.924873  0.0134082  1.62699  -0.995293  …  0.552321  -1.19354  0.681168"
      ]
     },
     "metadata": {},
     "output_type": "display_data"
    }
   ],
   "source": [
    "x = rand(Float32, 50, 10);\n",
    "m = Chain( Dense(50=>10), Dense(10=>5), Dense(5=>1) )\n",
    "res = Flux.activations(m,x)\n",
    "println(length(res))\n",
    "display(res[1])\n",
    "display(res[2])\n",
    "display(res[3])"
   ]
  },
  {
   "cell_type": "code",
   "execution_count": 59,
   "metadata": {},
   "outputs": [
    {
     "data": {
      "text/plain": [
       "5×4 Matrix{Float32}:\n",
       "  0.150559   0.654824    0.731266    0.782263\n",
       "  0.216073   0.575891    0.142889    0.449494\n",
       "  0.228694   0.0191426   0.0298108  -0.284264\n",
       " -0.574127  -0.143012   -0.148505    0.110705\n",
       "  0.573039   0.336649    0.433287    0.399928"
      ]
     },
     "execution_count": 59,
     "metadata": {},
     "output_type": "execute_result"
    }
   ],
   "source": [
    "x = rand(Float32, 10, 4);\n",
    "m = Maxout( Dense(10=>5), Dense(10=>5), Dense(10=>5) )\n",
    "m(x)"
   ]
  },
  {
   "cell_type": "code",
   "execution_count": 60,
   "metadata": {},
   "outputs": [
    {
     "data": {
      "text/plain": [
       "12×4 Matrix{Float32}:\n",
       "  0.248707   1.46678    0.569922    1.87419\n",
       " -0.0816642  0.243273  -0.565229   -0.554613\n",
       "  0.550014   0.125127   0.916952    0.519952\n",
       "  0.981695   0.735799   0.991014    0.978413\n",
       "  0.795676   0.49258    0.0212672   0.114624\n",
       "  0.777628   0.752816   0.0285347   0.961091\n",
       "  0.364511   0.491473   0.148388    0.803039\n",
       "  0.387119   0.446076   0.926738    0.0734932\n",
       "  0.193289   0.719858   0.933196    0.82026\n",
       "  0.768382   0.95945    0.582951    0.19\n",
       "  0.290165   0.476125   0.371995    0.122148\n",
       "  0.102595   0.983255   0.154041    0.959871"
      ]
     },
     "execution_count": 60,
     "metadata": {},
     "output_type": "execute_result"
    }
   ],
   "source": [
    "x = rand(Float32, 10, 4);\n",
    "m = Chain( Dense(10=>5) , Dense(5=>2) )\n",
    "#takes in the layer and the 'connection function'\n",
    "m_skip = SkipConnection( m , (mx,x) -> cat(mx,x,dims=1) ) #add a shortcut for the layer input to the output\n",
    "m_skip(x)"
   ]
  },
  {
   "cell_type": "code",
   "execution_count": 61,
   "metadata": {},
   "outputs": [
    {
     "data": {
      "text/plain": [
       "(10, 10, 8, 4)"
      ]
     },
     "execution_count": 61,
     "metadata": {},
     "output_type": "execute_result"
    }
   ],
   "source": [
    "x = rand(Float32, 10,10, 3, 4);\n",
    "m = Chain( Conv((3,3), 3=>5, pad=SamePad()) )\n",
    "#takes in the layer and the 'connection function'\n",
    "m_skip = SkipConnection( m , (mx,x) -> cat(mx,x,dims=3) ) #add a shortcut for the layer input to the output\n",
    "m_skip(x) |> size"
   ]
  },
  {
   "cell_type": "code",
   "execution_count": 62,
   "metadata": {},
   "outputs": [
    {
     "data": {
      "text/plain": [
       "(8, 8, 5, 4)"
      ]
     },
     "execution_count": 62,
     "metadata": {},
     "output_type": "execute_result"
    }
   ],
   "source": [
    "x = rand(Float32, 10,10, 3, 4);\n",
    "m_parallel = Parallel( + , Conv((3,3), 3=>5), Conv((3,3), 3=>5), Conv((3,3), 3=>5) )\n",
    "m_parallel( x ) |> size"
   ]
  },
  {
   "cell_type": "code",
   "execution_count": null,
   "metadata": {},
   "outputs": [],
   "source": []
  },
  {
   "cell_type": "markdown",
   "metadata": {},
   "source": [
    "### <span style=\"color:orange\"> Normalization and Regularization </span>\n",
    "\n",
    "- Although they can be done (as demonstrated earlier) in the approach commonly found in statistics, there are ways to do this in the ML fashion"
   ]
  },
  {
   "cell_type": "code",
   "execution_count": 63,
   "metadata": {},
   "outputs": [
    {
     "data": {
      "text/plain": [
       "(10, 10, 3, 4)"
      ]
     },
     "metadata": {},
     "output_type": "display_data"
    },
    {
     "data": {
      "text/plain": [
       "(8, 8, 1, 4)"
      ]
     },
     "execution_count": 63,
     "metadata": {},
     "output_type": "execute_result"
    }
   ],
   "source": [
    "#Batch Normalization\n",
    "x = rand(Float32, 10,10, 3, 4);\n",
    "m = BatchNorm( 3 )\n",
    "display( m( x ) |> size )\n",
    "m = Chain( Conv((3,3),3=>1) , BatchNorm(1) )\n",
    "m( x ) |> size"
   ]
  },
  {
   "cell_type": "code",
   "execution_count": 64,
   "metadata": {},
   "outputs": [
    {
     "data": {
      "text/plain": [
       "5×4 Matrix{Float32}:\n",
       "  0.0       0.0  -0.0        0.0\n",
       "  0.48666   0.0   0.0        0.0\n",
       " -0.0      -0.0   0.311387  -0.0\n",
       "  0.0       0.0   0.0        1.5902\n",
       " -1.97138  -0.0  -1.30835   -2.49288"
      ]
     },
     "execution_count": 64,
     "metadata": {},
     "output_type": "execute_result"
    }
   ],
   "source": [
    "#Dropout layer\n",
    "x = rand(Float32, 10, 4)\n",
    "m = Chain( Dense(10 => 5), Dropout(0.5) )\n",
    "Flux.trainmode!(m)\n",
    "m( x ) #notice the zeros"
   ]
  },
  {
   "cell_type": "code",
   "execution_count": 65,
   "metadata": {},
   "outputs": [
    {
     "data": {
      "text/plain": [
       "(7, 7, 3, 4)"
      ]
     },
     "execution_count": 65,
     "metadata": {},
     "output_type": "execute_result"
    }
   ],
   "source": [
    "x = rand(Float32, 10,10, 3, 4)\n",
    "m = Chain( Conv((4,4), 3=>3), Dropout(0.5, dims=3) ) #dropping out on the channels\n",
    "Flux.trainmode!(m)\n",
    "m( x ) |> size"
   ]
  },
  {
   "cell_type": "code",
   "execution_count": 66,
   "metadata": {},
   "outputs": [
    {
     "data": {
      "text/plain": [
       "(5, 4)"
      ]
     },
     "metadata": {},
     "output_type": "display_data"
    },
    {
     "data": {
      "text/plain": [
       "1×4 Matrix{Float32}:\n",
       " 1.19209f-7  -1.19209f-7  1.04308f-7  2.98023f-7"
      ]
     },
     "metadata": {},
     "output_type": "display_data"
    }
   ],
   "source": [
    "#LayerNorm does normalization and is used in recurrence networks\n",
    "x = rand(Float32, 10, 4)\n",
    "m = Chain( Dense(10=>5) , LayerNorm(5) )\n",
    "display( size( m( x ) ) )\n",
    "display( sum( m(x) , dims=1 ) )"
   ]
  },
  {
   "cell_type": "code",
   "execution_count": 67,
   "metadata": {},
   "outputs": [
    {
     "data": {
      "text/plain": [
       "(8, 8, 5, 4)"
      ]
     },
     "execution_count": 67,
     "metadata": {},
     "output_type": "execute_result"
    }
   ],
   "source": [
    "#Instance Normalization layer to normalize channels in WHCN\n",
    "x = rand(Float32, 10,10, 3, 4)\n",
    "m = Chain( Conv((3,3),3=>5) , InstanceNorm(5) )\n",
    "m( x ) |> size"
   ]
  },
  {
   "cell_type": "code",
   "execution_count": 68,
   "metadata": {},
   "outputs": [
    {
     "data": {
      "text/plain": [
       "5×4 Matrix{Float32}:\n",
       " 0.244559  0.0277367  0.226669   0.132\n",
       " 0.175455  0.171288   0.0970931  0.189409\n",
       " 0.106477  0.232003   0.21215    0.31107\n",
       " 0.144144  0.338041   0.101241   0.327354\n",
       " 0.369147  0.279377   0.167223   0.252018"
      ]
     },
     "execution_count": 68,
     "metadata": {},
     "output_type": "execute_result"
    }
   ],
   "source": [
    "#we can do normalization outside of a layer\n",
    "x = rand(Float32, 5, 4)\n",
    "Flux.normalize( x )"
   ]
  },
  {
   "cell_type": "code",
   "execution_count": 69,
   "metadata": {},
   "outputs": [
    {
     "data": {
      "text/plain": [
       "6×4 Matrix{Float32}:\n",
       " 0.0       0.0      0.0      0.0\n",
       " 0.0       0.0      0.0      0.0\n",
       " 0.0       0.0      0.0      0.0\n",
       " 0.0       0.0      0.0      0.0\n",
       " 0.601625  1.78619  1.20431  1.527\n",
       " 0.0       0.0      0.0      0.0"
      ]
     },
     "execution_count": 69,
     "metadata": {},
     "output_type": "execute_result"
    }
   ],
   "source": [
    "#we can do dropout outside of a layer\n",
    "x = rand(Float32, 6, 4)\n",
    "Flux.dropout( x , 0.5 , dims=1 )"
   ]
  },
  {
   "cell_type": "code",
   "execution_count": null,
   "metadata": {},
   "outputs": [],
   "source": []
  },
  {
   "cell_type": "code",
   "execution_count": null,
   "metadata": {},
   "outputs": [],
   "source": []
  },
  {
   "cell_type": "markdown",
   "metadata": {},
   "source": [
    "### <span style=\"color:orange\"> Autosizing </span>\n",
    "\n",
    "- Sometimes if there are many layers in a Chain it becomes a challenge to track the dimension changes for the transformations on the data sizes if you change some aspect the sizes need to be re-entered. This is especially hazardous when working with CNN layers where padding and resolution changes can alter the dimensions (shape) of the data. \n",
    "- There is a macro <u>autosize</u> that can act on the layers to replace the character *_* with the necessary size. (calculates in run time)\n",
    "- There is the function *outputsize* that does this operation"
   ]
  },
  {
   "cell_type": "code",
   "execution_count": 82,
   "metadata": {},
   "outputs": [
    {
     "data": {
      "text/plain": [
       "(10, 10, 3, 4)"
      ]
     },
     "execution_count": 82,
     "metadata": {},
     "output_type": "execute_result"
    }
   ],
   "source": [
    "x = rand(Float32, 10,10, 3, 4);\n",
    "x_size = size(x)"
   ]
  },
  {
   "cell_type": "code",
   "execution_count": 85,
   "metadata": {},
   "outputs": [
    {
     "data": {
      "text/plain": [
       "Chain(\n",
       "  Conv((3, 3), 3 => 5, relu, stride=2),  \u001b[90m# 140 parameters\u001b[39m\n",
       "  Flux.flatten,\n",
       "  Dense(80 => 10),                      \u001b[90m# 810 parameters\u001b[39m\n",
       ") \u001b[90m                  # Total: 4 arrays, \u001b[39m950 parameters, 4.188 KiB."
      ]
     },
     "execution_count": 85,
     "metadata": {},
     "output_type": "execute_result"
    }
   ],
   "source": [
    "m = @autosize (10,10, 3, 4) Chain(Conv((3, 3), _ => 5, relu, stride=2), Flux.flatten, Dense(_ => 10))"
   ]
  },
  {
   "cell_type": "code",
   "execution_count": 87,
   "metadata": {},
   "outputs": [
    {
     "data": {
      "text/plain": [
       "Dense(80 => 10)     \u001b[90m# 810 parameters\u001b[39m"
      ]
     },
     "execution_count": 87,
     "metadata": {},
     "output_type": "execute_result"
    }
   ],
   "source": [
    "m[3]"
   ]
  },
  {
   "cell_type": "code",
   "execution_count": 92,
   "metadata": {},
   "outputs": [
    {
     "data": {
      "text/plain": [
       "Chain(\n",
       "  Conv((3, 3), 3 => 5, relu, stride=2),  \u001b[90m# 140 parameters\u001b[39m\n",
       "  Flux.flatten,\n",
       "  Dense(80 => 10),                      \u001b[90m# 810 parameters\u001b[39m\n",
       ") \u001b[90m                  # Total: 4 arrays, \u001b[39m950 parameters, 4.188 KiB."
      ]
     },
     "execution_count": 92,
     "metadata": {},
     "output_type": "execute_result"
    }
   ],
   "source": [
    "m = @autosize (x_size[1],x_size[2],x_size[3],x_size[4]) Chain( Conv( ( 3 , 3 ) , _ => 5 , relu , stride=2 ), Flux.flatten , Dense( _ => 10 ) )"
   ]
  },
  {
   "cell_type": "code",
   "execution_count": null,
   "metadata": {},
   "outputs": [],
   "source": []
  },
  {
   "cell_type": "code",
   "execution_count": null,
   "metadata": {},
   "outputs": [],
   "source": []
  },
  {
   "cell_type": "code",
   "execution_count": null,
   "metadata": {},
   "outputs": [],
   "source": []
  },
  {
   "cell_type": "code",
   "execution_count": null,
   "metadata": {},
   "outputs": [],
   "source": []
  },
  {
   "cell_type": "code",
   "execution_count": null,
   "metadata": {},
   "outputs": [],
   "source": []
  },
  {
   "cell_type": "code",
   "execution_count": null,
   "metadata": {},
   "outputs": [],
   "source": []
  },
  {
   "cell_type": "code",
   "execution_count": null,
   "metadata": {},
   "outputs": [],
   "source": []
  },
  {
   "cell_type": "markdown",
   "metadata": {},
   "source": [
    "### <span style=\"color:orange\"> testmode! and trainmode! </span>\n",
    "\n",
    "- manually specify to the models if you are training or testing\n",
    "- so that layers like dropout are not randomly working on the forward steps"
   ]
  },
  {
   "cell_type": "code",
   "execution_count": 74,
   "metadata": {},
   "outputs": [
    {
     "data": {
      "text/plain": [
       "Chain(\n",
       "  Conv((3, 3), 3 => 5),                 \u001b[90m# 140 parameters\u001b[39m\n",
       "  InstanceNorm(5, affine=false),\n",
       ") "
      ]
     },
     "execution_count": 74,
     "metadata": {},
     "output_type": "execute_result"
    }
   ],
   "source": [
    "testmode!(m, true)"
   ]
  },
  {
   "cell_type": "code",
   "execution_count": 75,
   "metadata": {},
   "outputs": [
    {
     "data": {
      "text/plain": [
       "Chain(\n",
       "  Conv((3, 3), 3 => 5),                 \u001b[90m# 140 parameters\u001b[39m\n",
       "  InstanceNorm(5, affine=false),\n",
       ") "
      ]
     },
     "execution_count": 75,
     "metadata": {},
     "output_type": "execute_result"
    }
   ],
   "source": [
    "trainmode!(m, true)"
   ]
  },
  {
   "cell_type": "code",
   "execution_count": null,
   "metadata": {},
   "outputs": [],
   "source": []
  },
  {
   "cell_type": "code",
   "execution_count": null,
   "metadata": {},
   "outputs": [],
   "source": []
  },
  {
   "cell_type": "code",
   "execution_count": null,
   "metadata": {},
   "outputs": [],
   "source": []
  },
  {
   "cell_type": "code",
   "execution_count": null,
   "metadata": {},
   "outputs": [],
   "source": []
  },
  {
   "cell_type": "code",
   "execution_count": null,
   "metadata": {},
   "outputs": [],
   "source": []
  },
  {
   "cell_type": "code",
   "execution_count": null,
   "metadata": {},
   "outputs": [],
   "source": []
  },
  {
   "cell_type": "code",
   "execution_count": null,
   "metadata": {},
   "outputs": [],
   "source": []
  },
  {
   "cell_type": "code",
   "execution_count": null,
   "metadata": {},
   "outputs": [],
   "source": []
  },
  {
   "cell_type": "markdown",
   "metadata": {},
   "source": [
    "important function utilities ; Flux.flatten    "
   ]
  },
  {
   "cell_type": "code",
   "execution_count": 72,
   "metadata": {},
   "outputs": [
    {
     "ename": "LoadError",
     "evalue": "syntax: \"./\" is not a unary operator",
     "output_type": "error",
     "traceback": [
      "syntax: \"./\" is not a unary operator",
      "",
      "Stacktrace:",
      " [1] top-level scope",
      "   @ In[72]:1",
      " [2] eval",
      "   @ ./boot.jl:368 [inlined]",
      " [3] include_string(mapexpr::typeof(REPL.softscope), mod::Module, code::String, filename::String)",
      "   @ Base ./loading.jl:1428"
     ]
    }
   ],
   "source": [
    "![image info](./demoPics/arbitrary_padding_no_strides.gif)"
   ]
  },
  {
   "cell_type": "code",
   "execution_count": 73,
   "metadata": {},
   "outputs": [
    {
     "ename": "LoadError",
     "evalue": "syntax: \"<\" is not a unary operator",
     "output_type": "error",
     "traceback": [
      "syntax: \"<\" is not a unary operator",
      "",
      "Stacktrace:",
      " [1] top-level scope",
      "   @ In[73]:1",
      " [2] eval",
      "   @ ./boot.jl:368 [inlined]",
      " [3] include_string(mapexpr::typeof(REPL.softscope), mod::Module, code::String, filename::String)",
      "   @ Base ./loading.jl:1428"
     ]
    }
   ],
   "source": [
    "<span style=\"color:orange\">  </span>"
   ]
  }
 ],
 "metadata": {
  "kernelspec": {
   "display_name": "Julia 1.8.2",
   "language": "julia",
   "name": "julia-1.8"
  },
  "language_info": {
   "file_extension": ".jl",
   "mimetype": "application/julia",
   "name": "julia",
   "version": "1.8.2"
  }
 },
 "nbformat": 4,
 "nbformat_minor": 4
}
