{
 "cells": [
  {
   "cell_type": "code",
   "execution_count": null,
   "metadata": {},
   "outputs": [],
   "source": []
  },
  {
   "cell_type": "code",
   "execution_count": 1,
   "metadata": {},
   "outputs": [],
   "source": [
    "using Flux"
   ]
  },
  {
   "cell_type": "code",
   "execution_count": null,
   "metadata": {},
   "outputs": [],
   "source": []
  },
  {
   "cell_type": "markdown",
   "metadata": {},
   "source": [
    "## <span style=\"color:orange\"> Create a 'Scale' layer which takes in inputs and scales the values linearly </span>\n",
    "\n",
    "- Does not perform any transformations"
   ]
  },
  {
   "cell_type": "code",
   "execution_count": 2,
   "metadata": {},
   "outputs": [
    {
     "data": {
      "text/plain": [
       "Chain(\n",
       "  Dense(1 => 3),                        \u001b[90m# 6 parameters\u001b[39m\n",
       ") "
      ]
     },
     "execution_count": 2,
     "metadata": {},
     "output_type": "execute_result"
    }
   ],
   "source": [
    "m1 = Chain( Dense(1=>3) )"
   ]
  },
  {
   "cell_type": "code",
   "execution_count": 3,
   "metadata": {},
   "outputs": [
    {
     "data": {
      "text/plain": [
       "(:weight, :bias, :σ)"
      ]
     },
     "execution_count": 3,
     "metadata": {},
     "output_type": "execute_result"
    }
   ],
   "source": [
    "fieldnames(typeof(m1.layers[1]))"
   ]
  },
  {
   "cell_type": "code",
   "execution_count": 4,
   "metadata": {},
   "outputs": [
    {
     "data": {
      "text/plain": [
       "3×1 Matrix{Float32}:\n",
       "  1.081102\n",
       " -0.9390565\n",
       "  0.22493231"
      ]
     },
     "execution_count": 4,
     "metadata": {},
     "output_type": "execute_result"
    }
   ],
   "source": [
    "m1.layers[1].weight"
   ]
  },
  {
   "cell_type": "code",
   "execution_count": 5,
   "metadata": {},
   "outputs": [
    {
     "data": {
      "text/plain": [
       "3-element Vector{Float32}:\n",
       "  1.081102\n",
       " -0.9390565\n",
       "  0.22493231"
      ]
     },
     "execution_count": 5,
     "metadata": {},
     "output_type": "execute_result"
    }
   ],
   "source": [
    "m1( [1] ) #values returned / mapped "
   ]
  },
  {
   "cell_type": "code",
   "execution_count": 6,
   "metadata": {},
   "outputs": [
    {
     "data": {
      "text/plain": [
       "Scale(3)            \u001b[90m# 6 parameters\u001b[39m"
      ]
     },
     "execution_count": 6,
     "metadata": {},
     "output_type": "execute_result"
    }
   ],
   "source": [
    "m1s = Flux.Scale( [0.1, 10, 100] ) #scaling layer"
   ]
  },
  {
   "cell_type": "code",
   "execution_count": 7,
   "metadata": {},
   "outputs": [
    {
     "data": {
      "text/plain": [
       "Chain(\n",
       "  Chain(\n",
       "    Dense(1 => 3),                      \u001b[90m# 6 parameters\u001b[39m\n",
       "  ),\n",
       "  Scale(3),                             \u001b[90m# 6 parameters\u001b[39m\n",
       ") \u001b[90m                  # Total: 4 arrays, \u001b[39m12 parameters, 360 bytes."
      ]
     },
     "execution_count": 7,
     "metadata": {},
     "output_type": "execute_result"
    }
   ],
   "source": [
    "m1scaled = Chain( m1 , m1s )"
   ]
  },
  {
   "cell_type": "code",
   "execution_count": 8,
   "metadata": {},
   "outputs": [
    {
     "data": {
      "text/plain": [
       "3-element Vector{Float64}:\n",
       "  0.10811020135879518\n",
       " -9.390565156936646\n",
       " 22.493231296539307"
      ]
     },
     "execution_count": 8,
     "metadata": {},
     "output_type": "execute_result"
    }
   ],
   "source": [
    "m1scaled( [1] )"
   ]
  },
  {
   "cell_type": "code",
   "execution_count": 9,
   "metadata": {},
   "outputs": [
    {
     "data": {
      "text/plain": [
       "Scale(3)            \u001b[90m# 6 parameters\u001b[39m"
      ]
     },
     "execution_count": 9,
     "metadata": {},
     "output_type": "execute_result"
    }
   ],
   "source": [
    "m1s2 = Flux.Scale( repeat( [0.01] , 3 ) ) #scaling layer"
   ]
  },
  {
   "cell_type": "code",
   "execution_count": 10,
   "metadata": {},
   "outputs": [
    {
     "data": {
      "text/plain": [
       "Chain(\n",
       "  Chain(\n",
       "    Dense(1 => 3),                      \u001b[90m# 6 parameters\u001b[39m\n",
       "  ),\n",
       "  Scale(3),                             \u001b[90m# 6 parameters\u001b[39m\n",
       ") \u001b[90m                  # Total: 4 arrays, \u001b[39m12 parameters, 360 bytes."
      ]
     },
     "execution_count": 10,
     "metadata": {},
     "output_type": "execute_result"
    }
   ],
   "source": [
    "m1scaled2 = Chain( m1 , m1s2 )"
   ]
  },
  {
   "cell_type": "code",
   "execution_count": 11,
   "metadata": {},
   "outputs": [
    {
     "data": {
      "text/plain": [
       "3-element Vector{Float64}:\n",
       "  0.010811020135879517\n",
       " -0.009390565156936646\n",
       "  0.0022493231296539305"
      ]
     },
     "execution_count": 11,
     "metadata": {},
     "output_type": "execute_result"
    }
   ],
   "source": [
    "m1scaled2( [1] )"
   ]
  },
  {
   "cell_type": "code",
   "execution_count": 12,
   "metadata": {},
   "outputs": [
    {
     "data": {
      "text/plain": [
       "Scale(3)            \u001b[90m# 6 parameters\u001b[39m"
      ]
     },
     "execution_count": 12,
     "metadata": {},
     "output_type": "execute_result"
    }
   ],
   "source": [
    "m1s3 = Flux.Scale( [1,0,1] ) #scaling layer which operates as a removing a neuron (dimension) component"
   ]
  },
  {
   "cell_type": "code",
   "execution_count": 13,
   "metadata": {},
   "outputs": [
    {
     "data": {
      "text/plain": [
       "Chain(\n",
       "  Chain(\n",
       "    Dense(1 => 3),                      \u001b[90m# 6 parameters\u001b[39m\n",
       "  ),\n",
       "  Scale(3),                             \u001b[90m# 6 parameters\u001b[39m\n",
       ") \u001b[90m                  # Total: 4 arrays, \u001b[39m12 parameters, 360 bytes."
      ]
     },
     "execution_count": 13,
     "metadata": {},
     "output_type": "execute_result"
    }
   ],
   "source": [
    "m1scaled3 = Chain( m1 , m1s3 )"
   ]
  },
  {
   "cell_type": "code",
   "execution_count": 14,
   "metadata": {},
   "outputs": [
    {
     "data": {
      "text/plain": [
       "3-element Vector{Float32}:\n",
       " 1.081102\n",
       " 0.0\n",
       " 0.22493231"
      ]
     },
     "execution_count": 14,
     "metadata": {},
     "output_type": "execute_result"
    }
   ],
   "source": [
    "m1scaled3( [1] )"
   ]
  },
  {
   "cell_type": "code",
   "execution_count": null,
   "metadata": {},
   "outputs": [],
   "source": []
  },
  {
   "cell_type": "code",
   "execution_count": null,
   "metadata": {},
   "outputs": [],
   "source": []
  },
  {
   "cell_type": "code",
   "execution_count": null,
   "metadata": {},
   "outputs": [],
   "source": []
  },
  {
   "cell_type": "markdown",
   "metadata": {},
   "source": [
    "## <span style=\"color:orange\"> Convolution Models </span>\n",
    "\n",
    "- Images (2D data) fed into CNN layers require the <u>W-H-C-N</u> order, which is Width-Height-ChannelNum-BatchSize. Eg if we have images width=28, height=28, 3 channels (R-G-B) and there are 100 of these images in the batch, the size of that data structure fed to the CNN layer is (28,28,3,100). If the images were monochromatic (gray scale) then the size would be (28,28,1,100). \n",
    "- Data can be 1D, for 1D convolutions, on time series or mono audio data, so that the format becomes W-C-N, eg. if we have 100 audio samples in one channel (mono) and each sample has 250 dimensions the size is, (250,1,1). If the data was stereo (2 channel) then the size would be (250,2,1)\n",
    "- If the data was 3D (like data from a magnetic scan), it could look like this (28,28,28,1,100) where the last 2 dimensions are the channel number and batch size. \n",
    "- The Convolutional (CNN) layer takes in a <u>filter size</u> to scan over the data.\n",
    "- The Convolutional (CNN) layer takes in the <u>channel size mapping</u>, which does a transformation from the input channel number to the output channel number. \n",
    "- Key parameter values are <u>stride</u>, <u>padding</u>, <u>dilation</u>\n",
    "- Padding specifies the number of pixels (elements) placed on the borders (boundaries of the data in each dimension). A single value (integer) for uniform padding around the data array, or if there 3 spatial dimensions a tuple of 3 integers is needed to specify the padding if not uniform. You can supply a 2x3 = 6 dimension tuple to padding to specify the padding for each boundary specifically. **note padding will change the size of the image after the application of the cnn filter**\n",
    "- <u>SamePad()</u> is a useful utility function so that it applies the necessary padding in order for the data dimensions to stay the same after the cnn filter application; that is a 28x28 image with SamePad() applied will still become 28x28 after exiting that layer and becoming input into the subsequent layer.\n",
    "\n",
    "\n",
    "#### convolution gifs from [ Vincent Dumoulin, Francesco Visin - A guide to convolution arithmetic for deep learning]"
   ]
  },
  {
   "cell_type": "markdown",
   "metadata": {},
   "source": [
    "### <span style=\"color:orange\"> No padding, no strides </span>\n",
    "\n",
    "![image info](./demoPics/no_padding_no_strides.gif)"
   ]
  },
  {
   "cell_type": "code",
   "execution_count": 15,
   "metadata": {},
   "outputs": [
    {
     "data": {
      "text/plain": [
       "(100, 100, 1, 10)"
      ]
     },
     "execution_count": 15,
     "metadata": {},
     "output_type": "execute_result"
    }
   ],
   "source": [
    "x = rand(Float32, 100, 100, 1, 10); #batch of monochrome images\n",
    "size( x )"
   ]
  },
  {
   "cell_type": "code",
   "execution_count": 16,
   "metadata": {},
   "outputs": [
    {
     "data": {
      "text/plain": [
       "Conv((5, 5), 1 => 1)  \u001b[90m# 26 parameters\u001b[39m"
      ]
     },
     "execution_count": 16,
     "metadata": {},
     "output_type": "execute_result"
    }
   ],
   "source": [
    "cnn_layer = Conv( (5,5) , 1 => 1 )"
   ]
  },
  {
   "cell_type": "code",
   "execution_count": 17,
   "metadata": {},
   "outputs": [
    {
     "data": {
      "text/plain": [
       "(96, 96, 1, 10)"
      ]
     },
     "execution_count": 17,
     "metadata": {},
     "output_type": "execute_result"
    }
   ],
   "source": [
    "cnn_output = cnn_layer(x)\n",
    "size( cnn_output )"
   ]
  },
  {
   "cell_type": "code",
   "execution_count": 18,
   "metadata": {},
   "outputs": [
    {
     "data": {
      "text/plain": [
       "false"
      ]
     },
     "execution_count": 18,
     "metadata": {},
     "output_type": "execute_result"
    }
   ],
   "source": [
    "size( x ) == size( cnn_output )"
   ]
  },
  {
   "cell_type": "code",
   "execution_count": 19,
   "metadata": {},
   "outputs": [
    {
     "data": {
      "text/plain": [
       "Conv((5, 5), 1 => 1, pad=2)  \u001b[90m# 26 parameters\u001b[39m"
      ]
     },
     "execution_count": 19,
     "metadata": {},
     "output_type": "execute_result"
    }
   ],
   "source": [
    "cnn_layer2 = Conv( (5,5) , 1 => 1 , pad = 2 ) #apply some padding"
   ]
  },
  {
   "cell_type": "code",
   "execution_count": 20,
   "metadata": {},
   "outputs": [
    {
     "data": {
      "text/plain": [
       "(100, 100, 1, 10)"
      ]
     },
     "execution_count": 20,
     "metadata": {},
     "output_type": "execute_result"
    }
   ],
   "source": [
    "cnn_output2 = cnn_layer2( x )\n",
    "size( cnn_output2 )"
   ]
  },
  {
   "cell_type": "code",
   "execution_count": 21,
   "metadata": {},
   "outputs": [
    {
     "data": {
      "text/plain": [
       "true"
      ]
     },
     "execution_count": 21,
     "metadata": {},
     "output_type": "execute_result"
    }
   ],
   "source": [
    "size( x ) == size( cnn_output2 )"
   ]
  },
  {
   "cell_type": "markdown",
   "metadata": {},
   "source": [
    "#### <span style=\"color:orange\"> try SamePad() </span>"
   ]
  },
  {
   "cell_type": "code",
   "execution_count": 22,
   "metadata": {},
   "outputs": [
    {
     "data": {
      "text/plain": [
       "Conv((5, 5), 1 => 1, pad=2)  \u001b[90m# 26 parameters\u001b[39m"
      ]
     },
     "execution_count": 22,
     "metadata": {},
     "output_type": "execute_result"
    }
   ],
   "source": [
    "cnn_layer3 = Conv( (5,5) , 1 => 1 , pad = SamePad() ) #apply some padding using the SamePad() function helper"
   ]
  },
  {
   "cell_type": "code",
   "execution_count": 23,
   "metadata": {},
   "outputs": [
    {
     "data": {
      "text/plain": [
       "(100, 100, 1, 10)"
      ]
     },
     "execution_count": 23,
     "metadata": {},
     "output_type": "execute_result"
    }
   ],
   "source": [
    "cnn_output3 = cnn_layer3( x )\n",
    "size( cnn_output3 )"
   ]
  },
  {
   "cell_type": "code",
   "execution_count": 24,
   "metadata": {},
   "outputs": [
    {
     "data": {
      "text/plain": [
       "true"
      ]
     },
     "execution_count": 24,
     "metadata": {},
     "output_type": "execute_result"
    }
   ],
   "source": [
    "size( x ) == size( cnn_output3 )"
   ]
  },
  {
   "cell_type": "markdown",
   "metadata": {},
   "source": [
    "<span style=\"color:orange\"> What happens to the size on repeated applications of a filter </span>"
   ]
  },
  {
   "cell_type": "code",
   "execution_count": 25,
   "metadata": {},
   "outputs": [],
   "source": [
    "x = rand(Float32, 100, 100, 1, 10); #batch of monochrome images"
   ]
  },
  {
   "cell_type": "code",
   "execution_count": 26,
   "metadata": {},
   "outputs": [
    {
     "data": {
      "text/plain": [
       "Chain(\n",
       "  Conv((5, 5), 1 => 3),                 \u001b[90m# 78 parameters\u001b[39m\n",
       "  Conv((5, 5), 3 => 5),                 \u001b[90m# 380 parameters\u001b[39m\n",
       "  Conv((5, 5), 5 => 8),                 \u001b[90m# 1_008 parameters\u001b[39m\n",
       ") \u001b[90m                  # Total: 6 arrays, \u001b[39m1_466 parameters, 6.781 KiB."
      ]
     },
     "execution_count": 26,
     "metadata": {},
     "output_type": "execute_result"
    }
   ],
   "source": [
    "cnn_layer = Chain( Conv( (5,5) , 1=>3 ) , Conv( (5,5) , 3=>5 ) , Conv( (5,5) , 5=>8 ) ) "
   ]
  },
  {
   "cell_type": "code",
   "execution_count": 27,
   "metadata": {},
   "outputs": [
    {
     "data": {
      "text/plain": [
       "(88, 88, 8, 10)"
      ]
     },
     "execution_count": 27,
     "metadata": {},
     "output_type": "execute_result"
    }
   ],
   "source": [
    "cnn_output = cnn_layer( x )\n",
    "size( cnn_output )"
   ]
  },
  {
   "cell_type": "code",
   "execution_count": 28,
   "metadata": {},
   "outputs": [
    {
     "data": {
      "text/plain": [
       "Chain(\n",
       "  Conv((5, 5), 1 => 3, pad=2),          \u001b[90m# 78 parameters\u001b[39m\n",
       "  Conv((5, 5), 3 => 5, pad=2),          \u001b[90m# 380 parameters\u001b[39m\n",
       "  Conv((5, 5), 5 => 8, pad=2),          \u001b[90m# 1_008 parameters\u001b[39m\n",
       ") \u001b[90m                  # Total: 6 arrays, \u001b[39m1_466 parameters, 6.781 KiB."
      ]
     },
     "execution_count": 28,
     "metadata": {},
     "output_type": "execute_result"
    }
   ],
   "source": [
    "cnn_layer_same_pad = Chain( Conv((5,5),1=>3,pad=SamePad()),Conv((5,5),3=>5,pad=SamePad()),Conv((5,5),5=>8,pad=SamePad()) ) "
   ]
  },
  {
   "cell_type": "code",
   "execution_count": 29,
   "metadata": {},
   "outputs": [
    {
     "data": {
      "text/plain": [
       "(100, 100, 8, 10)"
      ]
     },
     "execution_count": 29,
     "metadata": {},
     "output_type": "execute_result"
    }
   ],
   "source": [
    "cnn_layer_same_pad = cnn_layer_same_pad( x )\n",
    "size( cnn_layer_same_pad )"
   ]
  },
  {
   "cell_type": "markdown",
   "metadata": {},
   "source": [
    "### <span style=\"color:orange\"> Example like the gif above </span>"
   ]
  },
  {
   "cell_type": "code",
   "execution_count": 30,
   "metadata": {},
   "outputs": [
    {
     "data": {
      "text/plain": [
       "(2, 2, 1, 10)"
      ]
     },
     "execution_count": 30,
     "metadata": {},
     "output_type": "execute_result"
    }
   ],
   "source": [
    "x = rand(Float32, 4, 4, 1, 10); #batch of monochrome images\n",
    "cnn_layer = Conv( (3,3) , 1 => 1 )\n",
    "cnn_layer( x ) |> size"
   ]
  },
  {
   "cell_type": "markdown",
   "metadata": {},
   "source": [
    "### <span style=\"color:orange\"> Add arbitrary padding (zeros) </span>\n",
    "\n",
    "![image info](./demoPics/arbitrary_padding_no_strides.gif)"
   ]
  },
  {
   "cell_type": "code",
   "execution_count": 31,
   "metadata": {},
   "outputs": [
    {
     "name": "stdout",
     "output_type": "stream",
     "text": [
      "(12, 12, 1, 1)\n"
     ]
    },
    {
     "data": {
      "text/plain": [
       "12×12×1×1 Array{Float32, 4}:\n",
       "[:, :, 1, 1] =\n",
       " 0.0  0.0  0.0   0.0        0.0       …   0.0         0.0  0.0  0.0\n",
       " 0.0  0.0  0.0   0.0        0.0           0.0         0.0  0.0  0.0\n",
       " 0.0  0.0  0.0   0.0        0.0           0.0         0.0  0.0  0.0\n",
       " 0.0  0.0  0.0  -0.516098  -0.637606     -0.0722668   0.0  0.0  0.0\n",
       " 0.0  0.0  0.0  -0.59015   -0.15906      -0.279384    0.0  0.0  0.0\n",
       " 0.0  0.0  0.0   0.131151  -0.41631   …   0.236352    0.0  0.0  0.0\n",
       " 0.0  0.0  0.0  -0.480828  -1.10059       0.0967512   0.0  0.0  0.0\n",
       " 0.0  0.0  0.0  -0.388956   0.210032      0.164969    0.0  0.0  0.0\n",
       " 0.0  0.0  0.0   0.238831   0.634291     -0.00617969  0.0  0.0  0.0\n",
       " 0.0  0.0  0.0   0.0        0.0           0.0         0.0  0.0  0.0\n",
       " 0.0  0.0  0.0   0.0        0.0       …   0.0         0.0  0.0  0.0\n",
       " 0.0  0.0  0.0   0.0        0.0           0.0         0.0  0.0  0.0"
      ]
     },
     "execution_count": 31,
     "metadata": {},
     "output_type": "execute_result"
    }
   ],
   "source": [
    "x = rand(Float32, 4, 4, 1, 1); #batch of monochrome images\n",
    "cnn_layer = Conv( (3,3) , 1 => 1 , pad = 5)\n",
    "println( cnn_layer( x ) |> size )\n",
    "cnn_layer( x )"
   ]
  },
  {
   "cell_type": "code",
   "execution_count": 32,
   "metadata": {},
   "outputs": [
    {
     "name": "stdout",
     "output_type": "stream",
     "text": [
      "(2, 12, 1, 1)\n"
     ]
    },
    {
     "data": {
      "text/plain": [
       "2×12×1×1 Array{Float32, 4}:\n",
       "[:, :, 1, 1] =\n",
       " 0.0  0.0  0.0  -0.611332  -0.695477  -0.597909  …   0.101236   0.0  0.0  0.0\n",
       " 0.0  0.0  0.0  -0.815298  -0.460176  -0.282421     -0.0336858  0.0  0.0  0.0"
      ]
     },
     "execution_count": 32,
     "metadata": {},
     "output_type": "execute_result"
    }
   ],
   "source": [
    "x = rand(Float32, 4, 4, 1, 1); \n",
    "cnn_layer = Conv( (3,3) , 1 => 1 , pad = (0,5) ) #non-uniform padding\n",
    "println( cnn_layer( x ) |> size )\n",
    "cnn_layer( x )"
   ]
  },
  {
   "cell_type": "code",
   "execution_count": null,
   "metadata": {},
   "outputs": [],
   "source": []
  },
  {
   "cell_type": "markdown",
   "metadata": {},
   "source": [
    "### <span style=\"color:orange\"> On 1D data </span>"
   ]
  },
  {
   "cell_type": "code",
   "execution_count": 33,
   "metadata": {},
   "outputs": [
    {
     "data": {
      "text/plain": [
       "(97, 1, 1)"
      ]
     },
     "execution_count": 33,
     "metadata": {},
     "output_type": "execute_result"
    }
   ],
   "source": [
    "x = rand(Float32, 100, 1, 1); #100elements, 1 channel, 10 samples in the batch \n",
    "cnn_layer = Conv( (4,) , 1 => 1 ) #4 element filter\n",
    "cnn_layer( x ) |> size"
   ]
  },
  {
   "cell_type": "code",
   "execution_count": 34,
   "metadata": {},
   "outputs": [
    {
     "data": {
      "text/plain": [
       "(100, 1, 1)"
      ]
     },
     "execution_count": 34,
     "metadata": {},
     "output_type": "execute_result"
    }
   ],
   "source": [
    "x = rand(Float32, 100, 1, 1); #100elements, 1 channel, 10 samples in the batch \n",
    "cnn_layer = Conv( (4,) , 1 => 1 , pad = SamePad() ) #4 element filter\n",
    "cnn_layer( x ) |> size"
   ]
  },
  {
   "cell_type": "markdown",
   "metadata": {},
   "source": [
    "### <span style=\"color:orange\"> Now apply 'Strides' </span>\n",
    "![image info](./demoPics/no_padding_strides.gif)\n",
    "\n",
    "(no padding but with strides)"
   ]
  },
  {
   "cell_type": "code",
   "execution_count": 35,
   "metadata": {},
   "outputs": [
    {
     "data": {
      "text/plain": [
       "(20, 1, 1)"
      ]
     },
     "execution_count": 35,
     "metadata": {},
     "output_type": "execute_result"
    }
   ],
   "source": [
    "x = rand(Float32, 100, 1, 1); #100elements, 1 channel, 10 samples in the batch \n",
    "cnn_layer = Conv( (4,) , 1 => 1 , stride=5 ) #4 element filter\n",
    "cnn_layer( x ) |> size"
   ]
  },
  {
   "cell_type": "code",
   "execution_count": 36,
   "metadata": {},
   "outputs": [
    {
     "data": {
      "text/plain": [
       "(97, 1, 1)"
      ]
     },
     "execution_count": 36,
     "metadata": {},
     "output_type": "execute_result"
    }
   ],
   "source": [
    "x = rand(Float32, 100, 1, 1); #100elements, 1 channel, 10 samples in the batch \n",
    "cnn_layer = Conv( (4,) , 1 => 1 , stride=1 ) \n",
    "cnn_layer( x ) |> size"
   ]
  },
  {
   "cell_type": "code",
   "execution_count": 37,
   "metadata": {},
   "outputs": [
    {
     "data": {
      "text/plain": [
       "(10, 10, 3, 10)"
      ]
     },
     "execution_count": 37,
     "metadata": {},
     "output_type": "execute_result"
    }
   ],
   "source": [
    "x = rand(Float32, 50, 50, 2, 10); #batch of monochrome images\n",
    "cnn_layer = Conv( (3,3) , 2 => 3 , stride = 5 )\n",
    "cnn_layer( x ) |> size"
   ]
  },
  {
   "cell_type": "markdown",
   "metadata": {},
   "source": [
    "### <span style=\"color:orange\"> Padding and Strides </span>\n",
    "\n",
    "![image info](./demoPics/padding_strides.gif)"
   ]
  },
  {
   "cell_type": "code",
   "execution_count": 38,
   "metadata": {},
   "outputs": [
    {
     "data": {
      "text/plain": [
       "(41, 41, 3, 10)"
      ]
     },
     "execution_count": 38,
     "metadata": {},
     "output_type": "execute_result"
    }
   ],
   "source": [
    "x = rand(Float32, 200, 200, 3, 10); #batch of monochrome images\n",
    "cnn_layer = Conv( (4,4) , 3 => 3 , pad=4 , stride = 5 )\n",
    "cnn_layer( x ) |> size"
   ]
  },
  {
   "cell_type": "markdown",
   "metadata": {},
   "source": [
    "### <span style=\"color:orange\"> Dilation, adds element skipping between element of the filter </span>\n",
    "\n",
    "![image info](./demoPics/dilation.gif)"
   ]
  },
  {
   "cell_type": "code",
   "execution_count": 39,
   "metadata": {},
   "outputs": [
    {
     "data": {
      "text/plain": [
       "(197, 197, 3, 10)"
      ]
     },
     "execution_count": 39,
     "metadata": {},
     "output_type": "execute_result"
    }
   ],
   "source": [
    "x = rand(Float32, 200, 200, 3, 10); \n",
    "cnn_layer = Conv( (4,4) , 3 => 3 , dilation = 1 )\n",
    "cnn_layer( x ) |> size"
   ]
  },
  {
   "cell_type": "code",
   "execution_count": 40,
   "metadata": {},
   "outputs": [
    {
     "data": {
      "text/plain": [
       "(194, 194, 3, 10)"
      ]
     },
     "execution_count": 40,
     "metadata": {},
     "output_type": "execute_result"
    }
   ],
   "source": [
    "x = rand(Float32, 200, 200, 3, 10); \n",
    "cnn_layer = Conv( (4,4) , 3 => 3 , dilation = 2 )\n",
    "cnn_layer( x ) |> size"
   ]
  },
  {
   "cell_type": "code",
   "execution_count": 41,
   "metadata": {},
   "outputs": [
    {
     "data": {
      "text/plain": [
       "(200, 200, 3, 10)"
      ]
     },
     "execution_count": 41,
     "metadata": {},
     "output_type": "execute_result"
    }
   ],
   "source": [
    "x = rand(Float32, 200, 200, 3, 10); \n",
    "cnn_layer = Conv( (5,5) , 3 => 3 , pad = 2 , dilation=1 )\n",
    "cnn_layer( x ) |> size"
   ]
  },
  {
   "cell_type": "code",
   "execution_count": 42,
   "metadata": {},
   "outputs": [
    {
     "data": {
      "text/plain": [
       "(188, 188, 1, 10)"
      ]
     },
     "execution_count": 42,
     "metadata": {},
     "output_type": "execute_result"
    }
   ],
   "source": [
    "x = rand(Float32, 200, 200, 1, 10); \n",
    "cnn_layer = Conv( (5,5) , 1 => 1 , pad = 2 , dilation=4 )\n",
    "cnn_layer( x ) |> size"
   ]
  },
  {
   "cell_type": "code",
   "execution_count": 43,
   "metadata": {},
   "outputs": [
    {
     "data": {
      "text/plain": [
       "(200, 200, 1, 10)"
      ]
     },
     "execution_count": 43,
     "metadata": {},
     "output_type": "execute_result"
    }
   ],
   "source": [
    "x = rand(Float32, 200, 200, 1, 10); \n",
    "cnn_layer = Conv( (5,5) , 1 => 1 , pad = SamePad() , dilation=4 )\n",
    "cnn_layer( x ) |> size"
   ]
  },
  {
   "cell_type": "markdown",
   "metadata": {},
   "source": [
    "## <span style=\"color:orange\"> Transposed convolutional  </span>\n",
    "\n",
    "- Transposed convolutional layers 'upsample' the data, so that the output feature map goes from 'low' resolution to 'high' resolution.\n",
    "- Previously the operations would 'downsample' that reduces resolution.\n",
    "- Increases the size of the output\n",
    "- Takes each kernel element and projects onto the surroundings to create a patch\n",
    "\n",
    "![image info](./demoPics/no_padding_no_strides_transposed.gif)\n",
    "\n",
    "(transposed convolution, no padding no strides)\n",
    "\n",
    "![image info](./demoPics/full_padding_no_strides_transposed.gif)\n",
    "\n",
    "(transposed convolution, full padding no strides)\n",
    "\n",
    "![image info](./demoPics/padding_strides_transposed.gif)\n",
    "\n",
    "(transposed convolution, padding no strides)"
   ]
  },
  {
   "cell_type": "code",
   "execution_count": 44,
   "metadata": {},
   "outputs": [
    {
     "data": {
      "text/plain": [
       "(14, 14, 1, 10)"
      ]
     },
     "execution_count": 44,
     "metadata": {},
     "output_type": "execute_result"
    }
   ],
   "source": [
    "x = rand(Float32, 10, 10, 1, 10); \n",
    "cnn_layer = ConvTranspose( (5,5) , 1 => 1  )\n",
    "cnn_layer( x ) |> size"
   ]
  },
  {
   "cell_type": "code",
   "execution_count": 45,
   "metadata": {},
   "outputs": [
    {
     "data": {
      "text/plain": [
       "(2, 2, 1, 10)"
      ]
     },
     "execution_count": 45,
     "metadata": {},
     "output_type": "execute_result"
    }
   ],
   "source": [
    "x = rand(Float32, 10, 10, 1, 10); \n",
    "cnn_layer = ConvTranspose( (5,5) , 1 => 1 , pad=6 )\n",
    "cnn_layer( x ) |> size"
   ]
  },
  {
   "cell_type": "code",
   "execution_count": 46,
   "metadata": {},
   "outputs": [
    {
     "data": {
      "text/plain": [
       "(21, 21, 1, 10)"
      ]
     },
     "execution_count": 46,
     "metadata": {},
     "output_type": "execute_result"
    }
   ],
   "source": [
    "x = rand(Float32, 10, 10, 1, 10); \n",
    "cnn_layer = ConvTranspose( (5,5) , 1 => 1 , pad=1 , stride=2 )\n",
    "cnn_layer( x ) |> size"
   ]
  },
  {
   "cell_type": "code",
   "execution_count": 47,
   "metadata": {},
   "outputs": [
    {
     "data": {
      "text/plain": [
       "(20, 20, 1, 10)"
      ]
     },
     "execution_count": 47,
     "metadata": {},
     "output_type": "execute_result"
    }
   ],
   "source": [
    "x = rand(Float32, 10, 10, 1, 10); \n",
    "cnn_layer = ConvTranspose( (5,5) , 1 => 1 , pad=SamePad() , stride=2 )\n",
    "cnn_layer( x ) |> size"
   ]
  },
  {
   "cell_type": "code",
   "execution_count": 48,
   "metadata": {},
   "outputs": [
    {
     "data": {
      "text/plain": [
       "40×40×1×1 Array{Float32, 4}:\n",
       "[:, :, 1, 1] =\n",
       " -0.156648    0.0159298    0.012652    …   0.0131595    -0.0454108\n",
       "  0.0517362   0.0868224   -0.0404709      -0.0420944     0.130631\n",
       "  0.125355   -0.0631235    0.0824729       0.0857812    -0.161884\n",
       " -0.147655    0.273796    -0.0808607      -0.0245397     0.0175266\n",
       " -0.295617    0.0300618    0.0238761       0.0180027    -0.0621236\n",
       "  0.0976335   0.163846    -0.0763743   …  -0.0575866     0.178707\n",
       "  0.236562   -0.119123     0.155638        0.117352     -0.221463\n",
       " -0.0624092   0.255647     0.169183        0.116833     -0.0102089\n",
       " -0.100961    0.0102669    0.00815431      0.00737917   -0.025464\n",
       "  0.0333444   0.0559577   -0.0260838      -0.0236043     0.0732509\n",
       "  0.0807919  -0.0406835    0.0531544   …   0.0481016    -0.090776\n",
       " -0.0477475   0.119221     0.0184456      -0.124253      0.0349422\n",
       " -0.0903342   0.00918623   0.00729602      0.0227668    -0.0785634\n",
       "  ⋮                                    ⋱                \n",
       " -0.242406    0.0246507    0.0195784       0.00475633   -0.0164131\n",
       "  0.0800595   0.134354    -0.062627       -0.0152144     0.0472147\n",
       "  0.193981   -0.0976808    0.127623    …   0.0310045    -0.0585107\n",
       " -0.136876    0.31309      0.0112001       0.0402514    -0.00483017\n",
       " -0.263874    0.0268338    0.0213123       0.000873373  -0.00301383\n",
       "  0.0871498   0.146252    -0.0681734      -0.00279373    0.00866971\n",
       "  0.21116    -0.106332     0.138926        0.00569314   -0.0107439\n",
       " -0.153983    0.346835     0.00477518  …  -0.0505548     0.0122839\n",
       " -0.297775    0.0302813    0.0240504       0.00680591   -0.0234858\n",
       "  0.0983463   0.165042    -0.0769319      -0.0217706     0.0675603\n",
       "  0.238289   -0.119993     0.156774        0.0443648    -0.0837239\n",
       " -0.0147353   0.199411     0.242039        0.0684934    -0.00938839"
      ]
     },
     "execution_count": 48,
     "metadata": {},
     "output_type": "execute_result"
    }
   ],
   "source": [
    "x = rand(Float32, 10, 10, 1, 1); \n",
    "cnn_layer = ConvTranspose( (5,5) , 1 => 1 , pad=SamePad() , stride=4 )\n",
    "cnn_layer( x ) "
   ]
  },
  {
   "cell_type": "code",
   "execution_count": null,
   "metadata": {},
   "outputs": [],
   "source": []
  },
  {
   "cell_type": "markdown",
   "metadata": {},
   "source": [
    "#### <span style=\"color:orange\"> Depthwise Convolutional Layers apply kernels to each channel separately so that the kernel does not span all channels </span>"
   ]
  },
  {
   "cell_type": "code",
   "execution_count": 49,
   "metadata": {},
   "outputs": [
    {
     "data": {
      "text/plain": [
       "(10, 10, 5, 10)"
      ]
     },
     "execution_count": 49,
     "metadata": {},
     "output_type": "execute_result"
    }
   ],
   "source": [
    "x = rand(Float32, 10, 10, 5, 10); \n",
    "cnn_layer = DepthwiseConv( (5,5) , 5 => 5 , pad=SamePad() )\n",
    "cnn_layer( x ) |> size"
   ]
  },
  {
   "cell_type": "code",
   "execution_count": null,
   "metadata": {},
   "outputs": [],
   "source": []
  },
  {
   "cell_type": "markdown",
   "metadata": {},
   "source": [
    "### <span style=\"color:orange\"> Common layers often used 'after' a CNN layer </span>\n",
    "\n",
    "- they reduce the size of the output, and do not have parameters to train\n",
    "- MaxPool, takes the maximum element in the region, and the corresponding 'MeanPool' exists\n",
    "- Adaptive Max Pool, this takes in a tuple for the size of the data desired for each channel and batch size and finds for you the MaxPool size for the target output size needed. (equivalently there is the AdaptiveMeanPool)\n",
    "\n",
    "- GlobalMaxPool produces a single value for each of the channels and each of the batch samples (also GlobalMeanPool is there)"
   ]
  },
  {
   "cell_type": "code",
   "execution_count": 50,
   "metadata": {},
   "outputs": [
    {
     "data": {
      "text/plain": [
       "(19, 19, 2, 10)"
      ]
     },
     "execution_count": 50,
     "metadata": {},
     "output_type": "execute_result"
    }
   ],
   "source": [
    "x = rand(Float32, 100, 100, 1, 10); \n",
    "m = Chain( Conv( (5,5) , 1 => 2 ) , MaxPool((5,5)) )\n",
    "m( x ) |> size"
   ]
  },
  {
   "cell_type": "code",
   "execution_count": 51,
   "metadata": {},
   "outputs": [
    {
     "data": {
      "text/plain": [
       "(20, 20, 2, 10)"
      ]
     },
     "execution_count": 51,
     "metadata": {},
     "output_type": "execute_result"
    }
   ],
   "source": [
    "x = rand(Float32, 100, 100, 1, 10); \n",
    "m = Chain( Conv( (5,5) , 1 => 2 , pad=SamePad() ) , MaxPool((5,5)) )\n",
    "m( x ) |> size"
   ]
  },
  {
   "cell_type": "code",
   "execution_count": 52,
   "metadata": {},
   "outputs": [
    {
     "data": {
      "text/plain": [
       "(20, 20, 2, 10)"
      ]
     },
     "execution_count": 52,
     "metadata": {},
     "output_type": "execute_result"
    }
   ],
   "source": [
    "x = rand(Float32, 100, 100, 1, 10); \n",
    "m = Chain( Conv( (5,5) , 1 => 2  ) , MaxPool( (5,5), pad=SamePad() ) )\n",
    "m( x ) |> size"
   ]
  },
  {
   "cell_type": "code",
   "execution_count": 53,
   "metadata": {},
   "outputs": [
    {
     "data": {
      "text/plain": [
       "(40, 40, 2, 10)"
      ]
     },
     "execution_count": 53,
     "metadata": {},
     "output_type": "execute_result"
    }
   ],
   "source": [
    "x = rand(Float32, 100, 100, 1, 10); \n",
    "m = Chain( Conv( (5,5) , 1 => 2  ) , AdaptiveMaxPool( (40,40) ) ) #we want a 40x40 output from MaxPool\n",
    "m( x ) |> size"
   ]
  },
  {
   "cell_type": "code",
   "execution_count": null,
   "metadata": {},
   "outputs": [],
   "source": []
  },
  {
   "cell_type": "code",
   "execution_count": 54,
   "metadata": {},
   "outputs": [
    {
     "data": {
      "text/plain": [
       "(1, 1, 3, 10)"
      ]
     },
     "execution_count": 54,
     "metadata": {},
     "output_type": "execute_result"
    }
   ],
   "source": [
    "x = rand(Float32, 100, 100, 1, 10); \n",
    "m = Chain( Conv( (5,5) , 1 => 3  ) , GlobalMaxPool() ) #we want a 40x40 output from MaxPool\n",
    "m( x ) |> size"
   ]
  },
  {
   "cell_type": "code",
   "execution_count": null,
   "metadata": {},
   "outputs": [],
   "source": []
  },
  {
   "cell_type": "markdown",
   "metadata": {},
   "source": [
    "### <span style=\"color:orange\"> Upsampling </span>\n",
    "\n",
    "- These do the opposite of pooling. Instead of a transposed convolution these layers 'upsample' by increasing the resolution from the perspective of further interpolating across the domain in the statistical sense. \n",
    "- There are different methods for doing so, such as the bilinear and nearest"
   ]
  },
  {
   "cell_type": "code",
   "execution_count": 55,
   "metadata": {},
   "outputs": [
    {
     "data": {
      "text/plain": [
       "(200, 200, 2, 10)"
      ]
     },
     "execution_count": 55,
     "metadata": {},
     "output_type": "execute_result"
    }
   ],
   "source": [
    "x = rand(Float32, 100, 100, 2, 10); \n",
    "m = Upsample( :nearest, size= (200,200) )\n",
    "m( x ) |> size"
   ]
  },
  {
   "cell_type": "code",
   "execution_count": 56,
   "metadata": {},
   "outputs": [
    {
     "data": {
      "text/plain": [
       "(400, 400, 2, 10)"
      ]
     },
     "execution_count": 56,
     "metadata": {},
     "output_type": "execute_result"
    }
   ],
   "source": [
    "x = rand(Float32, 100, 100, 2, 10); \n",
    "m = Upsample( :bilinear, scale=4 )\n",
    "m( x ) |> size"
   ]
  },
  {
   "cell_type": "code",
   "execution_count": null,
   "metadata": {},
   "outputs": [],
   "source": []
  },
  {
   "cell_type": "markdown",
   "metadata": {},
   "source": [
    "### <span style=\"color:orange\"> Layer level functions </span>\n",
    "\n",
    "- We can have layers that are functions of layers\n",
    "- eg. 'Maxout' which takes in a set of layers where each gets fed the same input, and then produces the maximum from each output\n",
    "- 'activations' which returns the output from each layer\n",
    "- 'parallel' that is a layer which passes an input array into each layer in a set and then a function merges (reduces) these layer outputs"
   ]
  },
  {
   "cell_type": "code",
   "execution_count": 57,
   "metadata": {},
   "outputs": [
    {
     "data": {
      "text/plain": [
       "(97, 1, 1)"
      ]
     },
     "execution_count": 57,
     "metadata": {},
     "output_type": "execute_result"
    }
   ],
   "source": [
    "x = rand(Float32, 100, 1, 1); #100elements, 1 channel, 10 samples in the batch \n",
    "cnn_layer = Conv( (4,) , 1 => 1 ) #4 element filter\n",
    "cnn_layer( x ) |> size"
   ]
  },
  {
   "cell_type": "code",
   "execution_count": 58,
   "metadata": {},
   "outputs": [
    {
     "name": "stdout",
     "output_type": "stream",
     "text": [
      "3\n"
     ]
    },
    {
     "data": {
      "text/plain": [
       "10×10 Matrix{Float32}:\n",
       "  0.104019     0.64803     0.778489  …   0.122761    0.263171    0.602039\n",
       " -0.267188     0.306332   -0.264342     -0.0165527  -0.178171    0.128349\n",
       "  0.740282     0.390395    0.56051       0.336735    0.888938    0.691681\n",
       "  0.154933    -0.0623896   0.478717      0.338286    0.0785628   0.365552\n",
       " -0.00796315  -0.380192   -0.857213     -0.72154    -0.556986   -0.761873\n",
       "  0.125633    -0.190631   -1.57758   …  -0.423703   -0.258463   -0.972998\n",
       "  1.01791      1.63882     1.32083       1.0964      1.39184     1.91049\n",
       "  0.20267      0.189534   -0.224482     -0.510914   -0.318382   -0.0921068\n",
       "  0.194208     0.401334    0.120313     -0.339739    0.343185    0.05559\n",
       " -0.626419    -1.05856    -1.77117      -1.02311    -0.635239   -1.50735"
      ]
     },
     "metadata": {},
     "output_type": "display_data"
    },
    {
     "data": {
      "text/plain": [
       "5×10 Matrix{Float32}:\n",
       "  0.42936   0.745046    1.29382   …  0.806019   0.738076     1.20675\n",
       " -0.440996  0.127819   -0.690024     0.311694  -0.00736124  -0.182937\n",
       "  0.342297  1.06494     2.21109      1.27448    1.12952      1.86698\n",
       "  0.533908  0.368261    0.794068     0.436817   0.632967     0.662862\n",
       " -0.266657  0.0765609   1.02867      0.775354  -0.0691142    0.656896"
      ]
     },
     "metadata": {},
     "output_type": "display_data"
    },
    {
     "data": {
      "text/plain": [
       "1×10 Matrix{Float32}:\n",
       " -1.04205  -1.42367  -2.5071  -0.195312  …  -1.23951  -1.70034  -2.22997"
      ]
     },
     "metadata": {},
     "output_type": "display_data"
    }
   ],
   "source": [
    "x = rand(Float32, 50, 10);\n",
    "m = Chain( Dense(50=>10), Dense(10=>5), Dense(5=>1) )\n",
    "res = Flux.activations(m,x)\n",
    "println(length(res))\n",
    "display(res[1])\n",
    "display(res[2])\n",
    "display(res[3])"
   ]
  },
  {
   "cell_type": "code",
   "execution_count": 59,
   "metadata": {},
   "outputs": [
    {
     "data": {
      "text/plain": [
       "5×4 Matrix{Float32}:\n",
       "  0.150559   0.654824    0.731266    0.782263\n",
       "  0.216073   0.575891    0.142889    0.449494\n",
       "  0.228694   0.0191426   0.0298108  -0.284264\n",
       " -0.574127  -0.143012   -0.148505    0.110705\n",
       "  0.573039   0.336649    0.433287    0.399928"
      ]
     },
     "execution_count": 59,
     "metadata": {},
     "output_type": "execute_result"
    }
   ],
   "source": [
    "x = rand(Float32, 10, 4);\n",
    "m = Maxout( Dense(10=>5), Dense(10=>5), Dense(10=>5) )\n",
    "m(x)"
   ]
  },
  {
   "cell_type": "code",
   "execution_count": 60,
   "metadata": {},
   "outputs": [
    {
     "data": {
      "text/plain": [
       "12×4 Matrix{Float32}:\n",
       "  0.248707   1.46678    0.569922    1.87419\n",
       " -0.0816642  0.243273  -0.565229   -0.554613\n",
       "  0.550014   0.125127   0.916952    0.519952\n",
       "  0.981695   0.735799   0.991014    0.978413\n",
       "  0.795676   0.49258    0.0212672   0.114624\n",
       "  0.777628   0.752816   0.0285347   0.961091\n",
       "  0.364511   0.491473   0.148388    0.803039\n",
       "  0.387119   0.446076   0.926738    0.0734932\n",
       "  0.193289   0.719858   0.933196    0.82026\n",
       "  0.768382   0.95945    0.582951    0.19\n",
       "  0.290165   0.476125   0.371995    0.122148\n",
       "  0.102595   0.983255   0.154041    0.959871"
      ]
     },
     "execution_count": 60,
     "metadata": {},
     "output_type": "execute_result"
    }
   ],
   "source": [
    "x = rand(Float32, 10, 4);\n",
    "m = Chain( Dense(10=>5) , Dense(5=>2) )\n",
    "#takes in the layer and the 'connection function'\n",
    "m_skip = SkipConnection( m , (mx,x) -> cat(mx,x,dims=1) ) #add a shortcut for the layer input to the output\n",
    "m_skip(x)"
   ]
  },
  {
   "cell_type": "code",
   "execution_count": 61,
   "metadata": {},
   "outputs": [
    {
     "data": {
      "text/plain": [
       "(10, 10, 8, 4)"
      ]
     },
     "execution_count": 61,
     "metadata": {},
     "output_type": "execute_result"
    }
   ],
   "source": [
    "x = rand(Float32, 10,10, 3, 4);\n",
    "m = Chain( Conv((3,3), 3=>5, pad=SamePad()) )\n",
    "#takes in the layer and the 'connection function'\n",
    "m_skip = SkipConnection( m , (mx,x) -> cat(mx,x,dims=3) ) #add a shortcut for the layer input to the output\n",
    "m_skip(x) |> size"
   ]
  },
  {
   "cell_type": "code",
   "execution_count": 62,
   "metadata": {},
   "outputs": [
    {
     "data": {
      "text/plain": [
       "(8, 8, 5, 4)"
      ]
     },
     "execution_count": 62,
     "metadata": {},
     "output_type": "execute_result"
    }
   ],
   "source": [
    "x = rand(Float32, 10,10, 3, 4);\n",
    "m_parallel = Parallel( + , Conv((3,3), 3=>5), Conv((3,3), 3=>5), Conv((3,3), 3=>5) )\n",
    "m_parallel( x ) |> size"
   ]
  },
  {
   "cell_type": "code",
   "execution_count": null,
   "metadata": {},
   "outputs": [],
   "source": []
  },
  {
   "cell_type": "markdown",
   "metadata": {},
   "source": [
    "### <span style=\"color:orange\"> Normalization and Regularization </span>\n",
    "\n",
    "- Although they can be done (as demonstrated earlier) in the approach commonly found in statistics, there are ways to do this in the ML fashion"
   ]
  },
  {
   "cell_type": "code",
   "execution_count": 63,
   "metadata": {},
   "outputs": [
    {
     "data": {
      "text/plain": [
       "(10, 10, 3, 4)"
      ]
     },
     "metadata": {},
     "output_type": "display_data"
    },
    {
     "data": {
      "text/plain": [
       "(8, 8, 1, 4)"
      ]
     },
     "execution_count": 63,
     "metadata": {},
     "output_type": "execute_result"
    }
   ],
   "source": [
    "#Batch Normalization\n",
    "x = rand(Float32, 10,10, 3, 4);\n",
    "m = BatchNorm( 3 )\n",
    "display( m( x ) |> size )\n",
    "m = Chain( Conv((3,3),3=>1) , BatchNorm(1) )\n",
    "m( x ) |> size"
   ]
  },
  {
   "cell_type": "code",
   "execution_count": 64,
   "metadata": {},
   "outputs": [
    {
     "data": {
      "text/plain": [
       "5×4 Matrix{Float32}:\n",
       "  0.0       0.0  -0.0        0.0\n",
       "  0.48666   0.0   0.0        0.0\n",
       " -0.0      -0.0   0.311387  -0.0\n",
       "  0.0       0.0   0.0        1.5902\n",
       " -1.97138  -0.0  -1.30835   -2.49288"
      ]
     },
     "execution_count": 64,
     "metadata": {},
     "output_type": "execute_result"
    }
   ],
   "source": [
    "#Dropout layer\n",
    "x = rand(Float32, 10, 4)\n",
    "m = Chain( Dense(10 => 5), Dropout(0.5) )\n",
    "Flux.trainmode!(m)\n",
    "m( x ) #notice the zeros"
   ]
  },
  {
   "cell_type": "code",
   "execution_count": 65,
   "metadata": {},
   "outputs": [
    {
     "data": {
      "text/plain": [
       "(7, 7, 3, 4)"
      ]
     },
     "execution_count": 65,
     "metadata": {},
     "output_type": "execute_result"
    }
   ],
   "source": [
    "x = rand(Float32, 10,10, 3, 4)\n",
    "m = Chain( Conv((4,4), 3=>3), Dropout(0.5, dims=3) ) #dropping out on the channels\n",
    "Flux.trainmode!(m)\n",
    "m( x ) |> size"
   ]
  },
  {
   "cell_type": "code",
   "execution_count": 66,
   "metadata": {},
   "outputs": [
    {
     "data": {
      "text/plain": [
       "(5, 4)"
      ]
     },
     "metadata": {},
     "output_type": "display_data"
    },
    {
     "data": {
      "text/plain": [
       "1×4 Matrix{Float32}:\n",
       " 1.19209f-7  -1.19209f-7  1.04308f-7  2.98023f-7"
      ]
     },
     "metadata": {},
     "output_type": "display_data"
    }
   ],
   "source": [
    "#LayerNorm does normalization and is used in recurrence networks\n",
    "x = rand(Float32, 10, 4)\n",
    "m = Chain( Dense(10=>5) , LayerNorm(5) )\n",
    "display( size( m( x ) ) )\n",
    "display( sum( m(x) , dims=1 ) )"
   ]
  },
  {
   "cell_type": "code",
   "execution_count": 67,
   "metadata": {},
   "outputs": [
    {
     "data": {
      "text/plain": [
       "(8, 8, 5, 4)"
      ]
     },
     "execution_count": 67,
     "metadata": {},
     "output_type": "execute_result"
    }
   ],
   "source": [
    "#Instance Normalization layer to normalize channels in WHCN\n",
    "x = rand(Float32, 10,10, 3, 4)\n",
    "m = Chain( Conv((3,3),3=>5) , InstanceNorm(5) )\n",
    "m( x ) |> size"
   ]
  },
  {
   "cell_type": "code",
   "execution_count": 68,
   "metadata": {},
   "outputs": [
    {
     "data": {
      "text/plain": [
       "5×4 Matrix{Float32}:\n",
       " 0.244559  0.0277367  0.226669   0.132\n",
       " 0.175455  0.171288   0.0970931  0.189409\n",
       " 0.106477  0.232003   0.21215    0.31107\n",
       " 0.144144  0.338041   0.101241   0.327354\n",
       " 0.369147  0.279377   0.167223   0.252018"
      ]
     },
     "execution_count": 68,
     "metadata": {},
     "output_type": "execute_result"
    }
   ],
   "source": [
    "#we can do normalization outside of a layer\n",
    "x = rand(Float32, 5, 4)\n",
    "Flux.normalize( x )"
   ]
  },
  {
   "cell_type": "code",
   "execution_count": 69,
   "metadata": {},
   "outputs": [
    {
     "data": {
      "text/plain": [
       "6×4 Matrix{Float32}:\n",
       " 0.0       0.0      0.0      0.0\n",
       " 0.0       0.0      0.0      0.0\n",
       " 0.0       0.0      0.0      0.0\n",
       " 0.0       0.0      0.0      0.0\n",
       " 0.601625  1.78619  1.20431  1.527\n",
       " 0.0       0.0      0.0      0.0"
      ]
     },
     "execution_count": 69,
     "metadata": {},
     "output_type": "execute_result"
    }
   ],
   "source": [
    "#we can do dropout outside of a layer\n",
    "x = rand(Float32, 6, 4)\n",
    "Flux.dropout( x , 0.5 , dims=1 )"
   ]
  },
  {
   "cell_type": "code",
   "execution_count": null,
   "metadata": {},
   "outputs": [],
   "source": []
  },
  {
   "cell_type": "code",
   "execution_count": null,
   "metadata": {},
   "outputs": [],
   "source": []
  },
  {
   "cell_type": "markdown",
   "metadata": {},
   "source": [
    "### <span style=\"color:orange\"> Autosizing </span>\n",
    "\n",
    "- Sometimes if there are many layers in a Chain it becomes a challenge to track the dimension changes for the transformations on the data sizes if you change some aspect the sizes need to be re-entered. This is especially hazardous when working with CNN layers where padding and resolution changes can alter the dimensions (shape) of the data. \n",
    "- There is a macro <u>autosize</u> that can act on the layers to replace the character *_* with the necessary size. (calculates in run time)\n",
    "- There is the function *outputsize* that does this operation"
   ]
  },
  {
   "cell_type": "code",
   "execution_count": 82,
   "metadata": {},
   "outputs": [
    {
     "data": {
      "text/plain": [
       "(10, 10, 3, 4)"
      ]
     },
     "execution_count": 82,
     "metadata": {},
     "output_type": "execute_result"
    }
   ],
   "source": [
    "x = rand(Float32, 10,10, 3, 4);\n",
    "x_size = size(x)"
   ]
  },
  {
   "cell_type": "code",
   "execution_count": 85,
   "metadata": {},
   "outputs": [
    {
     "data": {
      "text/plain": [
       "Chain(\n",
       "  Conv((3, 3), 3 => 5, relu, stride=2),  \u001b[90m# 140 parameters\u001b[39m\n",
       "  Flux.flatten,\n",
       "  Dense(80 => 10),                      \u001b[90m# 810 parameters\u001b[39m\n",
       ") \u001b[90m                  # Total: 4 arrays, \u001b[39m950 parameters, 4.188 KiB."
      ]
     },
     "execution_count": 85,
     "metadata": {},
     "output_type": "execute_result"
    }
   ],
   "source": [
    "m = @autosize (10,10, 3, 4) Chain(Conv((3, 3), _ => 5, relu, stride=2), Flux.flatten, Dense(_ => 10))"
   ]
  },
  {
   "cell_type": "code",
   "execution_count": 87,
   "metadata": {},
   "outputs": [
    {
     "data": {
      "text/plain": [
       "Dense(80 => 10)     \u001b[90m# 810 parameters\u001b[39m"
      ]
     },
     "execution_count": 87,
     "metadata": {},
     "output_type": "execute_result"
    }
   ],
   "source": [
    "m[3]"
   ]
  },
  {
   "cell_type": "code",
   "execution_count": 92,
   "metadata": {},
   "outputs": [
    {
     "data": {
      "text/plain": [
       "Chain(\n",
       "  Conv((3, 3), 3 => 5, relu, stride=2),  \u001b[90m# 140 parameters\u001b[39m\n",
       "  Flux.flatten,\n",
       "  Dense(80 => 10),                      \u001b[90m# 810 parameters\u001b[39m\n",
       ") \u001b[90m                  # Total: 4 arrays, \u001b[39m950 parameters, 4.188 KiB."
      ]
     },
     "execution_count": 92,
     "metadata": {},
     "output_type": "execute_result"
    }
   ],
   "source": [
    "m = @autosize (x_size[1],x_size[2],x_size[3],x_size[4]) Chain( Conv( ( 3 , 3 ) , _ => 5 , relu , stride=2 ), Flux.flatten , Dense( _ => 10 ) )"
   ]
  },
  {
   "cell_type": "code",
   "execution_count": null,
   "metadata": {},
   "outputs": [],
   "source": []
  },
  {
   "cell_type": "code",
   "execution_count": null,
   "metadata": {},
   "outputs": [],
   "source": []
  },
  {
   "cell_type": "code",
   "execution_count": null,
   "metadata": {},
   "outputs": [],
   "source": []
  },
  {
   "cell_type": "code",
   "execution_count": null,
   "metadata": {},
   "outputs": [],
   "source": []
  },
  {
   "cell_type": "code",
   "execution_count": null,
   "metadata": {},
   "outputs": [],
   "source": []
  },
  {
   "cell_type": "code",
   "execution_count": null,
   "metadata": {},
   "outputs": [],
   "source": []
  },
  {
   "cell_type": "code",
   "execution_count": null,
   "metadata": {},
   "outputs": [],
   "source": []
  },
  {
   "cell_type": "markdown",
   "metadata": {},
   "source": [
    "### <span style=\"color:orange\"> testmode! and trainmode! </span>\n",
    "\n",
    "- manually specify to the models if you are training or testing\n",
    "- so that layers like dropout are not randomly working on the forward steps"
   ]
  },
  {
   "cell_type": "code",
   "execution_count": 74,
   "metadata": {},
   "outputs": [
    {
     "data": {
      "text/plain": [
       "Chain(\n",
       "  Conv((3, 3), 3 => 5),                 \u001b[90m# 140 parameters\u001b[39m\n",
       "  InstanceNorm(5, affine=false),\n",
       ") "
      ]
     },
     "execution_count": 74,
     "metadata": {},
     "output_type": "execute_result"
    }
   ],
   "source": [
    "testmode!(m, true)"
   ]
  },
  {
   "cell_type": "code",
   "execution_count": 75,
   "metadata": {},
   "outputs": [
    {
     "data": {
      "text/plain": [
       "Chain(\n",
       "  Conv((3, 3), 3 => 5),                 \u001b[90m# 140 parameters\u001b[39m\n",
       "  InstanceNorm(5, affine=false),\n",
       ") "
      ]
     },
     "execution_count": 75,
     "metadata": {},
     "output_type": "execute_result"
    }
   ],
   "source": [
    "trainmode!(m, true)"
   ]
  },
  {
   "cell_type": "code",
   "execution_count": null,
   "metadata": {},
   "outputs": [],
   "source": []
  },
  {
   "cell_type": "code",
   "execution_count": null,
   "metadata": {},
   "outputs": [],
   "source": []
  },
  {
   "cell_type": "code",
   "execution_count": null,
   "metadata": {},
   "outputs": [],
   "source": []
  },
  {
   "cell_type": "code",
   "execution_count": null,
   "metadata": {},
   "outputs": [],
   "source": []
  },
  {
   "cell_type": "code",
   "execution_count": null,
   "metadata": {},
   "outputs": [],
   "source": []
  },
  {
   "cell_type": "code",
   "execution_count": null,
   "metadata": {},
   "outputs": [],
   "source": []
  },
  {
   "cell_type": "code",
   "execution_count": null,
   "metadata": {},
   "outputs": [],
   "source": []
  },
  {
   "cell_type": "code",
   "execution_count": null,
   "metadata": {},
   "outputs": [],
   "source": []
  },
  {
   "cell_type": "markdown",
   "metadata": {},
   "source": [
    "important function utilities ; Flux.flatten    "
   ]
  },
  {
   "cell_type": "code",
   "execution_count": 72,
   "metadata": {},
   "outputs": [
    {
     "ename": "LoadError",
     "evalue": "syntax: \"./\" is not a unary operator",
     "output_type": "error",
     "traceback": [
      "syntax: \"./\" is not a unary operator",
      "",
      "Stacktrace:",
      " [1] top-level scope",
      "   @ In[72]:1",
      " [2] eval",
      "   @ ./boot.jl:368 [inlined]",
      " [3] include_string(mapexpr::typeof(REPL.softscope), mod::Module, code::String, filename::String)",
      "   @ Base ./loading.jl:1428"
     ]
    }
   ],
   "source": [
    "![image info](./demoPics/arbitrary_padding_no_strides.gif)"
   ]
  },
  {
   "cell_type": "code",
   "execution_count": 73,
   "metadata": {},
   "outputs": [
    {
     "ename": "LoadError",
     "evalue": "syntax: \"<\" is not a unary operator",
     "output_type": "error",
     "traceback": [
      "syntax: \"<\" is not a unary operator",
      "",
      "Stacktrace:",
      " [1] top-level scope",
      "   @ In[73]:1",
      " [2] eval",
      "   @ ./boot.jl:368 [inlined]",
      " [3] include_string(mapexpr::typeof(REPL.softscope), mod::Module, code::String, filename::String)",
      "   @ Base ./loading.jl:1428"
     ]
    }
   ],
   "source": [
    "<span style=\"color:orange\">  </span>"
   ]
  }
 ],
 "metadata": {
  "kernelspec": {
   "display_name": "Julia 1.8.2",
   "language": "julia",
   "name": "julia-1.8"
  },
  "language_info": {
   "file_extension": ".jl",
   "mimetype": "application/julia",
   "name": "julia",
   "version": "1.8.2"
  }
 },
 "nbformat": 4,
 "nbformat_minor": 4
}
