{
 "cells": [
  {
   "cell_type": "code",
   "execution_count": null,
   "metadata": {},
   "outputs": [],
   "source": []
  },
  {
   "cell_type": "code",
   "execution_count": 1,
   "metadata": {},
   "outputs": [],
   "source": [
    "using Flux"
   ]
  },
  {
   "cell_type": "code",
   "execution_count": 2,
   "metadata": {},
   "outputs": [],
   "source": [
    "using ImageShow, Images, ImageInTerminal\n",
    "using MLDatasets"
   ]
  },
  {
   "cell_type": "code",
   "execution_count": 3,
   "metadata": {},
   "outputs": [
    {
     "name": "stdout",
     "output_type": "stream",
     "text": [
      "train_x_raw size = (28, 28, 60000), train_y_raw size = (60000,)\n"
     ]
    },
    {
     "data": {
      "text/plain": [
       "5-element Vector{Int64}:\n",
       " 5\n",
       " 0\n",
       " 4\n",
       " 1\n",
       " 9"
      ]
     },
     "metadata": {},
     "output_type": "display_data"
    }
   ],
   "source": [
    "train_x_raw, train_y_raw = MNIST(split = :train)[:]\n",
    "test_x_raw,  test_y_raw  = MNIST(split = :test)[:];\n",
    "println( \"train_x_raw size = $(size(train_x_raw)), train_y_raw size = $(size(train_y_raw))\")\n",
    "display( train_y_raw[1:5] )"
   ]
  },
  {
   "cell_type": "code",
   "execution_count": 4,
   "metadata": {},
   "outputs": [
    {
     "data": {
      "image/png": "[encoded data removed]",
      "text/plain": [
       "\u001b[0m\u001b[38;2;0;0;0m██\u001b[38;2;0;0;0m██\u001b[38;2;0;0;0m██\u001b[38;2;0;0;0m██\u001b[38;2;0;0;0m██\u001b[38;2;0;0;0m██\u001b[38;2;0;0;0m██\u001b[38;2;0;0;0m██\u001b[38;2;0;0;0m██\u001b[38;2;0;0;0m██\u001b[38;2;0;0;0m██\u001b[38;2;0;0;0m██\u001b[38;2;0;0;0m██\u001b[38;2;0;0;0m██\u001b[38;2;0;0;0m██\u001b[38;2;0;0;0m██\u001b[38;2;0;0;0m██\u001b[38;2;0;0;0m██\u001b[38;2;0;0;0m██\u001b[38;2;0;0;0m██\u001b[38;2;0;0;0m██\u001b[38;2;0;0;0m██\u001b[38;2;0;0;0m██\u001b[38;2;0;0;0m██\u001b[38;2;0;0;0m██\u001b[38;2;0;0;0m██\u001b[38;2;0;0;0m██\u001b[38;2;0;0;0m██\u001b[0m\n",
       "\u001b[0m\u001b[38;2;0;0;0m██\u001b[38;2;0;0;0m██\u001b[38;2;0;0;0m██\u001b[38;2;0;0;0m██\u001b[38;2;0;0;0m██\u001b[38;2;0;0;0m██\u001b[38;2;0;0;0m██\u001b[38;2;0;0;0m██\u001b[38;2;0;0;0m██\u001b[38;2;0;0;0m██\u001b[38;2;0;0;0m██\u001b[38;2;0;0;0m██\u001b[38;2;0;0;0m██\u001b[38;2;0;0;0m██\u001b[38;2;0;0;0m██\u001b[38;2;0;0;0m██\u001b[38;2;0;0;0m██\u001b[38;2;0;0;0m██\u001b[38;2;0;0;0m██\u001b[38;2;0;0;0m██\u001b[38;2;0;0;0m██\u001b[38;2;0;0;0m██\u001b[38;2;0;0;0m██\u001b[38;2;0;0;0m██\u001b[38;2;0;0;0m██\u001b[38;2;0;0;0m██\u001b[38;2;0;0;0m██\u001b[38;2;0;0;0m██\u001b[0m\n",
       "\u001b[0m\u001b[38;2;0;0;0m██\u001b[38;2;0;0;0m██\u001b[38;2;0;0;0m██\u001b[38;2;0;0;0m██\u001b[38;2;0;0;0m██\u001b[38;2;0;0;0m██\u001b[38;2;0;0;0m██\u001b[38;2;0;0;0m██\u001b[38;2;0;0;0m██\u001b[38;2;0;0;0m██\u001b[38;2;0;0;0m██\u001b[38;2;0;0;0m██\u001b[38;2;0;0;0m██\u001b[38;2;0;0;0m██\u001b[38;2;0;0;0m██\u001b[38;2;0;0;0m██\u001b[38;2;0;0;0m██\u001b[38;2;0;0;0m██\u001b[38;2;0;0;0m██\u001b[38;2;0;0;0m██\u001b[38;2;0;0;0m██\u001b[38;2;0;0;0m██\u001b[38;2;0;0;0m██\u001b[38;2;0;0;0m██\u001b[38;2;0;0;0m██\u001b[38;2;0;0;0m██\u001b[38;2;0;0;0m██\u001b[38;2;0;0;0m██\u001b[0m\n",
       "\u001b[0m\u001b[38;2;0;0;0m██\u001b[38;2;0;0;0m██\u001b[38;2;0;0;0m██\u001b[38;2;0;0;0m██\u001b[38;2;0;0;0m██\u001b[38;2;0;0;0m██\u001b[38;2;0;0;0m██\u001b[38;2;0;0;0m██\u001b[38;2;0;0;0m██\u001b[38;2;0;0;0m██\u001b[38;2;0;0;0m██\u001b[38;2;0;0;0m██\u001b[38;2;0;0;0m██\u001b[38;2;0;0;0m██\u001b[38;2;0;0;0m██\u001b[38;2;0;0;0m██\u001b[38;2;0;0;0m██\u001b[38;2;0;0;0m██\u001b[38;2;0;0;0m██\u001b[38;2;0;0;0m██\u001b[38;2;0;0;0m██\u001b[38;2;0;0;0m██\u001b[38;2;0;0;0m██\u001b[38;2;0;0;0m██\u001b[38;2;0;0;0m██\u001b[38;2;0;0;0m██\u001b[38;2;0;0;0m██\u001b[38;2;0;0;0m██\u001b[0m\n",
       "\u001b[0m\u001b[38;2;0;0;0m██\u001b[38;2;0;0;0m██\u001b[38;2;0;0;0m██\u001b[38;2;0;0;0m██\u001b[38;2;0;0;0m██\u001b[38;2;0;0;0m██\u001b[38;2;0;0;0m██\u001b[38;2;0;0;0m██\u001b[38;2;0;0;0m██\u001b[38;2;0;0;0m██\u001b[38;2;0;0;0m██\u001b[38;2;0;0;0m██\u001b[38;2;0;0;0m██\u001b[38;2;0;0;0m██\u001b[38;2;0;0;0m██\u001b[38;2;0;0;0m██\u001b[38;2;0;0;0m██\u001b[38;2;0;0;0m██\u001b[38;2;0;0;0m██\u001b[38;2;0;0;0m██\u001b[38;2;0;0;0m██\u001b[38;2;0;0;0m██\u001b[38;2;0;0;0m██\u001b[38;2;0;0;0m██\u001b[38;2;0;0;0m██\u001b[38;2;0;0;0m██\u001b[38;2;0;0;0m██\u001b[38;2;0;0;0m██\u001b[0m\n",
       "\u001b[0m\u001b[38;2;0;0;0m██\u001b[38;2;0;0;0m██\u001b[38;2;0;0;0m██\u001b[38;2;0;0;0m██\u001b[38;2;0;0;0m██\u001b[38;2;0;0;0m██\u001b[38;2;0;0;0m██\u001b[38;2;0;0;0m██\u001b[38;2;0;0;0m██\u001b[38;2;0;0;0m██\u001b[38;2;0;0;0m██\u001b[38;2;0;0;0m██\u001b[38;2;3;3;3m██\u001b[38;2;18;18;18m██\u001b[38;2;18;18;18m██\u001b[38;2;18;18;18m██\u001b[38;2;126;126;126m██\u001b[38;2;136;136;136m██\u001b[38;2;175;175;175m██\u001b[38;2;26;26;26m██\u001b[38;2;166;166;166m██\u001b[38;2;255;255;255m██\u001b[38;2;247;247;247m██\u001b[38;2;127;127;127m██\u001b[38;2;0;0;0m██\u001b[38;2;0;0;0m██\u001b[38;2;0;0;0m██\u001b[38;2;0;0;0m██\u001b[0m\n",
       "\u001b[0m\u001b[38;2;0;0;0m██\u001b[38;2;0;0;0m██\u001b[38;2;0;0;0m██\u001b[38;2;0;0;0m██\u001b[38;2;0;0;0m██\u001b[38;2;0;0;0m██\u001b[38;2;0;0;0m██\u001b[38;2;0;0;0m██\u001b[38;2;30;30;30m██\u001b[38;2;36;36;36m██\u001b[38;2;94;94;94m██\u001b[38;2;154;154;154m██\u001b[38;2;170;170;170m██\u001b[38;2;253;253;253m██\u001b[38;2;253;253;253m██\u001b[38;2;253;253;253m██\u001b[38;2;253;253;253m██\u001b[38;2;253;253;253m██\u001b[38;2;225;225;225m██\u001b[38;2;172;172;172m██\u001b[38;2;253;253;253m██\u001b[38;2;242;242;242m██\u001b[38;2;195;195;195m██\u001b[38;2;64;64;64m██\u001b[38;2;0;0;0m██\u001b[38;2;0;0;0m██\u001b[38;2;0;0;0m██\u001b[38;2;0;0;0m██\u001b[0m\n",
       "\u001b[0m\u001b[38;2;0;0;0m██\u001b[38;2;0;0;0m██\u001b[38;2;0;0;0m██\u001b[38;2;0;0;0m██\u001b[38;2;0;0;0m██\u001b[38;2;0;0;0m██\u001b[38;2;0;0;0m██\u001b[38;2;49;49;49m██\u001b[38;2;238;238;238m██\u001b[38;2;253;253;253m██\u001b[38;2;253;253;253m██\u001b[38;2;253;253;253m██\u001b[38;2;253;253;253m██\u001b[38;2;253;253;253m██\u001b[38;2;253;253;253m██\u001b[38;2;253;253;253m██\u001b[38;2;253;253;253m██\u001b[38;2;251;251;251m██\u001b[38;2;93;93;93m██\u001b[38;2;82;82;82m██\u001b[38;2;82;82;82m██\u001b[38;2;56;56;56m██\u001b[38;2;39;39;39m██\u001b[38;2;0;0;0m██\u001b[38;2;0;0;0m██\u001b[38;2;0;0;0m██\u001b[38;2;0;0;0m██\u001b[38;2;0;0;0m██\u001b[0m\n",
       "\u001b[0m\u001b[38;2;0;0;0m██\u001b[38;2;0;0;0m██\u001b[38;2;0;0;0m██\u001b[38;2;0;0;0m██\u001b[38;2;0;0;0m██\u001b[38;2;0;0;0m██\u001b[38;2;0;0;0m██\u001b[38;2;18;18;18m██\u001b[38;2;219;219;219m██\u001b[38;2;253;253;253m██\u001b[38;2;253;253;253m██\u001b[38;2;253;253;253m██\u001b[38;2;253;253;253m██\u001b[38;2;253;253;253m██\u001b[38;2;198;198;198m██\u001b[38;2;182;182;182m██\u001b[38;2;247;247;247m██\u001b[38;2;241;241;241m██\u001b[38;2;0;0;0m██\u001b[38;2;0;0;0m██\u001b[38;2;0;0;0m██\u001b[38;2;0;0;0m██\u001b[38;2;0;0;0m██\u001b[38;2;0;0;0m██\u001b[38;2;0;0;0m██\u001b[38;2;0;0;0m██\u001b[38;2;0;0;0m██\u001b[38;2;0;0;0m██\u001b[0m\n",
       "\u001b[0m\u001b[38;2;0;0;0m██\u001b[38;2;0;0;0m██\u001b[38;2;0;0;0m██\u001b[38;2;0;0;0m██\u001b[38;2;0;0;0m██\u001b[38;2;0;0;0m██\u001b[38;2;0;0;0m██\u001b[38;2;0;0;0m██\u001b[38;2;80;80;80m██\u001b[38;2;156;156;156m██\u001b[38;2;107;107;107m██\u001b[38;2;253;253;253m██\u001b[38;2;253;253;253m██\u001b[38;2;205;205;205m██\u001b[38;2;11;11;11m██\u001b[38;2;0;0;0m██\u001b[38;2;43;43;43m██\u001b[38;2;154;154;154m██\u001b[38;2;0;0;0m██\u001b[38;2;0;0;0m██\u001b[38;2;0;0;0m██\u001b[38;2;0;0;0m██\u001b[38;2;0;0;0m██\u001b[38;2;0;0;0m██\u001b[38;2;0;0;0m██\u001b[38;2;0;0;0m██\u001b[38;2;0;0;0m██\u001b[38;2;0;0;0m██\u001b[0m\n",
       "\u001b[0m\u001b[38;2;0;0;0m██\u001b[38;2;0;0;0m██\u001b[38;2;0;0;0m██\u001b[38;2;0;0;0m██\u001b[38;2;0;0;0m██\u001b[38;2;0;0;0m██\u001b[38;2;0;0;0m██\u001b[38;2;0;0;0m██\u001b[38;2;0;0;0m██\u001b[38;2;14;14;14m██\u001b[38;2;1;1;1m██\u001b[38;2;154;154;154m██\u001b[38;2;253;253;253m██\u001b[38;2;90;90;90m██\u001b[38;2;0;0;0m██\u001b[38;2;0;0;0m██\u001b[38;2;0;0;0m██\u001b[38;2;0;0;0m██\u001b[38;2;0;0;0m██\u001b[38;2;0;0;0m██\u001b[38;2;0;0;0m██\u001b[38;2;0;0;0m██\u001b[38;2;0;0;0m██\u001b[38;2;0;0;0m██\u001b[38;2;0;0;0m██\u001b[38;2;0;0;0m██\u001b[38;2;0;0;0m██\u001b[38;2;0;0;0m██\u001b[0m\n",
       "\u001b[0m\u001b[38;2;0;0;0m██\u001b[38;2;0;0;0m██\u001b[38;2;0;0;0m██\u001b[38;2;0;0;0m██\u001b[38;2;0;0;0m██\u001b[38;2;0;0;0m██\u001b[38;2;0;0;0m██\u001b[38;2;0;0;0m██\u001b[38;2;0;0;0m██\u001b[38;2;0;0;0m██\u001b[38;2;0;0;0m██\u001b[38;2;139;139;139m██\u001b[38;2;253;253;253m██\u001b[38;2;190;190;190m██\u001b[38;2;2;2;2m██\u001b[38;2;0;0;0m██\u001b[38;2;0;0;0m██\u001b[38;2;0;0;0m██\u001b[38;2;0;0;0m██\u001b[38;2;0;0;0m██\u001b[38;2;0;0;0m██\u001b[38;2;0;0;0m██\u001b[38;2;0;0;0m██\u001b[38;2;0;0;0m██\u001b[38;2;0;0;0m██\u001b[38;2;0;0;0m██\u001b[38;2;0;0;0m██\u001b[38;2;0;0;0m██\u001b[0m\n",
       "\u001b[0m\u001b[38;2;0;0;0m██\u001b[38;2;0;0;0m██\u001b[38;2;0;0;0m██\u001b[38;2;0;0;0m██\u001b[38;2;0;0;0m██\u001b[38;2;0;0;0m██\u001b[38;2;0;0;0m██\u001b[38;2;0;0;0m██\u001b[38;2;0;0;0m██\u001b[38;2;0;0;0m██\u001b[38;2;0;0;0m██\u001b[38;2;11;11;11m██\u001b[38;2;190;190;190m██\u001b[38;2;253;253;253m██\u001b[38;2;70;70;70m██\u001b[38;2;0;0;0m██\u001b[38;2;0;0;0m██\u001b[38;2;0;0;0m██\u001b[38;2;0;0;0m██\u001b[38;2;0;0;0m██\u001b[38;2;0;0;0m██\u001b[38;2;0;0;0m██\u001b[38;2;0;0;0m██\u001b[38;2;0;0;0m██\u001b[38;2;0;0;0m██\u001b[38;2;0;0;0m██\u001b[38;2;0;0;0m██\u001b[38;2;0;0;0m██\u001b[0m\n",
       "\u001b[0m\u001b[38;2;0;0;0m██\u001b[38;2;0;0;0m██\u001b[38;2;0;0;0m██\u001b[38;2;0;0;0m██\u001b[38;2;0;0;0m██\u001b[38;2;0;0;0m██\u001b[38;2;0;0;0m██\u001b[38;2;0;0;0m██\u001b[38;2;0;0;0m██\u001b[38;2;0;0;0m██\u001b[38;2;0;0;0m██\u001b[38;2;0;0;0m██\u001b[38;2;35;35;35m██\u001b[38;2;241;241;241m██\u001b[38;2;225;225;225m██\u001b[38;2;160;160;160m██\u001b[38;2;108;108;108m██\u001b[38;2;1;1;1m██\u001b[38;2;0;0;0m██\u001b[38;2;0;0;0m██\u001b[38;2;0;0;0m██\u001b[38;2;0;0;0m██\u001b[38;2;0;0;0m██\u001b[38;2;0;0;0m██\u001b[38;2;0;0;0m██\u001b[38;2;0;0;0m██\u001b[38;2;0;0;0m██\u001b[38;2;0;0;0m██\u001b[0m\n",
       "\u001b[0m\u001b[38;2;0;0;0m██\u001b[38;2;0;0;0m██\u001b[38;2;0;0;0m██\u001b[38;2;0;0;0m██\u001b[38;2;0;0;0m██\u001b[38;2;0;0;0m██\u001b[38;2;0;0;0m██\u001b[38;2;0;0;0m██\u001b[38;2;0;0;0m██\u001b[38;2;0;0;0m██\u001b[38;2;0;0;0m██\u001b[38;2;0;0;0m██\u001b[38;2;0;0;0m██\u001b[38;2;81;81;81m██\u001b[38;2;240;240;240m██\u001b[38;2;253;253;253m██\u001b[38;2;253;253;253m██\u001b[38;2;119;119;119m██\u001b[38;2;25;25;25m██\u001b[38;2;0;0;0m██\u001b[38;2;0;0;0m██\u001b[38;2;0;0;0m██\u001b[38;2;0;0;0m██\u001b[38;2;0;0;0m██\u001b[38;2;0;0;0m██\u001b[38;2;0;0;0m██\u001b[38;2;0;0;0m██\u001b[38;2;0;0;0m██\u001b[0m\n",
       "\u001b[0m\u001b[38;2;0;0;0m██\u001b[38;2;0;0;0m██\u001b[38;2;0;0;0m██\u001b[38;2;0;0;0m██\u001b[38;2;0;0;0m██\u001b[38;2;0;0;0m██\u001b[38;2;0;0;0m██\u001b[38;2;0;0;0m██\u001b[38;2;0;0;0m██\u001b[38;2;0;0;0m██\u001b[38;2;0;0;0m██\u001b[38;2;0;0;0m██\u001b[38;2;0;0;0m██\u001b[38;2;0;0;0m██\u001b[38;2;45;45;45m██\u001b[38;2;186;186;186m██\u001b[38;2;253;253;253m██\u001b[38;2;253;253;253m██\u001b[38;2;150;150;150m██\u001b[38;2;27;27;27m██\u001b[38;2;0;0;0m██\u001b[38;2;0;0;0m██\u001b[38;2;0;0;0m██\u001b[38;2;0;0;0m██\u001b[38;2;0;0;0m██\u001b[38;2;0;0;0m██\u001b[38;2;0;0;0m██\u001b[38;2;0;0;0m██\u001b[0m\n",
       "\u001b[0m\u001b[38;2;0;0;0m██\u001b[38;2;0;0;0m██\u001b[38;2;0;0;0m██\u001b[38;2;0;0;0m██\u001b[38;2;0;0;0m██\u001b[38;2;0;0;0m██\u001b[38;2;0;0;0m██\u001b[38;2;0;0;0m██\u001b[38;2;0;0;0m██\u001b[38;2;0;0;0m██\u001b[38;2;0;0;0m██\u001b[38;2;0;0;0m██\u001b[38;2;0;0;0m██\u001b[38;2;0;0;0m██\u001b[38;2;0;0;0m██\u001b[38;2;16;16;16m██\u001b[38;2;93;93;93m██\u001b[38;2;252;252;252m██\u001b[38;2;253;253;253m██\u001b[38;2;187;187;187m██\u001b[38;2;0;0;0m██\u001b[38;2;0;0;0m██\u001b[38;2;0;0;0m██\u001b[38;2;0;0;0m██\u001b[38;2;0;0;0m██\u001b[38;2;0;0;0m██\u001b[38;2;0;0;0m██\u001b[38;2;0;0;0m██\u001b[0m\n",
       "\u001b[0m\u001b[38;2;0;0;0m██\u001b[38;2;0;0;0m██\u001b[38;2;0;0;0m██\u001b[38;2;0;0;0m██\u001b[38;2;0;0;0m██\u001b[38;2;0;0;0m██\u001b[38;2;0;0;0m██\u001b[38;2;0;0;0m██\u001b[38;2;0;0;0m██\u001b[38;2;0;0;0m██\u001b[38;2;0;0;0m██\u001b[38;2;0;0;0m██\u001b[38;2;0;0;0m██\u001b[38;2;0;0;0m██\u001b[38;2;0;0;0m██\u001b[38;2;0;0;0m██\u001b[38;2;0;0;0m██\u001b[38;2;249;249;249m██\u001b[38;2;253;253;253m██\u001b[38;2;249;249;249m██\u001b[38;2;64;64;64m██\u001b[38;2;0;0;0m██\u001b[38;2;0;0;0m██\u001b[38;2;0;0;0m██\u001b[38;2;0;0;0m██\u001b[38;2;0;0;0m██\u001b[38;2;0;0;0m██\u001b[38;2;0;0;0m██\u001b[0m\n",
       "\u001b[0m\u001b[38;2;0;0;0m██\u001b[38;2;0;0;0m██\u001b[38;2;0;0;0m██\u001b[38;2;0;0;0m██\u001b[38;2;0;0;0m██\u001b[38;2;0;0;0m██\u001b[38;2;0;0;0m██\u001b[38;2;0;0;0m██\u001b[38;2;0;0;0m██\u001b[38;2;0;0;0m██\u001b[38;2;0;0;0m██\u001b[38;2;0;0;0m██\u001b[38;2;0;0;0m██\u001b[38;2;0;0;0m██\u001b[38;2;46;46;46m██\u001b[38;2;130;130;130m██\u001b[38;2;183;183;183m██\u001b[38;2;253;253;253m██\u001b[38;2;253;253;253m██\u001b[38;2;207;207;207m██\u001b[38;2;2;2;2m██\u001b[38;2;0;0;0m██\u001b[38;2;0;0;0m██\u001b[38;2;0;0;0m██\u001b[38;2;0;0;0m██\u001b[38;2;0;0;0m██\u001b[38;2;0;0;0m██\u001b[38;2;0;0;0m██\u001b[0m\n",
       "\u001b[0m\u001b[38;2;0;0;0m██\u001b[38;2;0;0;0m██\u001b[38;2;0;0;0m██\u001b[38;2;0;0;0m██\u001b[38;2;0;0;0m██\u001b[38;2;0;0;0m██\u001b[38;2;0;0;0m██\u001b[38;2;0;0;0m██\u001b[38;2;0;0;0m██\u001b[38;2;0;0;0m██\u001b[38;2;0;0;0m██\u001b[38;2;0;0;0m██\u001b[38;2;39;39;39m██\u001b[38;2;148;148;148m██\u001b[38;2;229;229;229m██\u001b[38;2;253;253;253m██\u001b[38;2;253;253;253m██\u001b[38;2;253;253;253m██\u001b[38;2;250;250;250m██\u001b[38;2;182;182;182m██\u001b[38;2;0;0;0m██\u001b[38;2;0;0;0m██\u001b[38;2;0;0;0m██\u001b[38;2;0;0;0m██\u001b[38;2;0;0;0m██\u001b[38;2;0;0;0m██\u001b[38;2;0;0;0m██\u001b[38;2;0;0;0m██\u001b[0m\n",
       "\u001b[0m\u001b[38;2;0;0;0m██\u001b[38;2;0;0;0m██\u001b[38;2;0;0;0m██\u001b[38;2;0;0;0m██\u001b[38;2;0;0;0m██\u001b[38;2;0;0;0m██\u001b[38;2;0;0;0m██\u001b[38;2;0;0;0m██\u001b[38;2;0;0;0m██\u001b[38;2;0;0;0m██\u001b[38;2;24;24;24m██\u001b[38;2;114;114;114m██\u001b[38;2;221;221;221m██\u001b[38;2;253;253;253m██\u001b[38;2;253;253;253m██\u001b[38;2;253;253;253m██\u001b[38;2;253;253;253m██\u001b[38;2;201;201;201m██\u001b[38;2;78;78;78m██\u001b[38;2;0;0;0m██\u001b[38;2;0;0;0m██\u001b[38;2;0;0;0m██\u001b[38;2;0;0;0m██\u001b[38;2;0;0;0m██\u001b[38;2;0;0;0m██\u001b[38;2;0;0;0m██\u001b[38;2;0;0;0m██\u001b[38;2;0;0;0m██\u001b[0m\n",
       "\u001b[0m\u001b[38;2;0;0;0m██\u001b[38;2;0;0;0m██\u001b[38;2;0;0;0m██\u001b[38;2;0;0;0m██\u001b[38;2;0;0;0m██\u001b[38;2;0;0;0m██\u001b[38;2;0;0;0m██\u001b[38;2;0;0;0m██\u001b[38;2;23;23;23m██\u001b[38;2;66;66;66m██\u001b[38;2;213;213;213m██\u001b[38;2;253;253;253m██\u001b[38;2;253;253;253m██\u001b[38;2;253;253;253m██\u001b[38;2;253;253;253m██\u001b[38;2;198;198;198m██\u001b[38;2;81;81;81m██\u001b[38;2;2;2;2m██\u001b[38;2;0;0;0m██\u001b[38;2;0;0;0m██\u001b[38;2;0;0;0m██\u001b[38;2;0;0;0m██\u001b[38;2;0;0;0m██\u001b[38;2;0;0;0m██\u001b[38;2;0;0;0m██\u001b[38;2;0;0;0m██\u001b[38;2;0;0;0m██\u001b[38;2;0;0;0m██\u001b[0m\n",
       "\u001b[0m\u001b[38;2;0;0;0m██\u001b[38;2;0;0;0m██\u001b[38;2;0;0;0m██\u001b[38;2;0;0;0m██\u001b[38;2;0;0;0m██\u001b[38;2;0;0;0m██\u001b[38;2;18;18;18m██\u001b[38;2;171;171;171m██\u001b[38;2;219;219;219m██\u001b[38;2;253;253;253m██\u001b[38;2;253;253;253m██\u001b[38;2;253;253;253m██\u001b[38;2;253;253;253m██\u001b[38;2;195;195;195m██\u001b[38;2;80;80;80m██\u001b[38;2;9;9;9m██\u001b[38;2;0;0;0m██\u001b[38;2;0;0;0m██\u001b[38;2;0;0;0m██\u001b[38;2;0;0;0m██\u001b[38;2;0;0;0m██\u001b[38;2;0;0;0m██\u001b[38;2;0;0;0m██\u001b[38;2;0;0;0m██\u001b[38;2;0;0;0m██\u001b[38;2;0;0;0m██\u001b[38;2;0;0;0m██\u001b[38;2;0;0;0m██\u001b[0m\n",
       "\u001b[0m\u001b[38;2;0;0;0m██\u001b[38;2;0;0;0m██\u001b[38;2;0;0;0m██\u001b[38;2;0;0;0m██\u001b[38;2;55;55;55m██\u001b[38;2;172;172;172m██\u001b[38;2;226;226;226m██\u001b[38;2;253;253;253m██\u001b[38;2;253;253;253m██\u001b[38;2;253;253;253m██\u001b[38;2;253;253;253m██\u001b[38;2;244;244;244m██\u001b[38;2;133;133;133m██\u001b[38;2;11;11;11m██\u001b[38;2;0;0;0m██\u001b[38;2;0;0;0m██\u001b[38;2;0;0;0m██\u001b[38;2;0;0;0m██\u001b[38;2;0;0;0m██\u001b[38;2;0;0;0m██\u001b[38;2;0;0;0m██\u001b[38;2;0;0;0m██\u001b[38;2;0;0;0m██\u001b[38;2;0;0;0m██\u001b[38;2;0;0;0m██\u001b[38;2;0;0;0m██\u001b[38;2;0;0;0m██\u001b[38;2;0;0;0m██\u001b[0m\n",
       "\u001b[0m\u001b[38;2;0;0;0m██\u001b[38;2;0;0;0m██\u001b[38;2;0;0;0m██\u001b[38;2;0;0;0m██\u001b[38;2;136;136;136m██\u001b[38;2;253;253;253m██\u001b[38;2;253;253;253m██\u001b[38;2;253;253;253m██\u001b[38;2;212;212;212m██\u001b[38;2;135;135;135m██\u001b[38;2;132;132;132m██\u001b[38;2;16;16;16m██\u001b[38;2;0;0;0m██\u001b[38;2;0;0;0m██\u001b[38;2;0;0;0m██\u001b[38;2;0;0;0m██\u001b[38;2;0;0;0m██\u001b[38;2;0;0;0m██\u001b[38;2;0;0;0m██\u001b[38;2;0;0;0m██\u001b[38;2;0;0;0m██\u001b[38;2;0;0;0m██\u001b[38;2;0;0;0m██\u001b[38;2;0;0;0m██\u001b[38;2;0;0;0m██\u001b[38;2;0;0;0m██\u001b[38;2;0;0;0m██\u001b[38;2;0;0;0m██\u001b[0m\n",
       "\u001b[0m\u001b[38;2;0;0;0m██\u001b[38;2;0;0;0m██\u001b[38;2;0;0;0m██\u001b[38;2;0;0;0m██\u001b[38;2;0;0;0m██\u001b[38;2;0;0;0m██\u001b[38;2;0;0;0m██\u001b[38;2;0;0;0m██\u001b[38;2;0;0;0m██\u001b[38;2;0;0;0m██\u001b[38;2;0;0;0m██\u001b[38;2;0;0;0m██\u001b[38;2;0;0;0m██\u001b[38;2;0;0;0m██\u001b[38;2;0;0;0m██\u001b[38;2;0;0;0m██\u001b[38;2;0;0;0m██\u001b[38;2;0;0;0m██\u001b[38;2;0;0;0m██\u001b[38;2;0;0;0m██\u001b[38;2;0;0;0m██\u001b[38;2;0;0;0m██\u001b[38;2;0;0;0m██\u001b[38;2;0;0;0m██\u001b[38;2;0;0;0m██\u001b[38;2;0;0;0m██\u001b[38;2;0;0;0m██\u001b[38;2;0;0;0m██\u001b[0m\n",
       "\u001b[0m\u001b[38;2;0;0;0m██\u001b[38;2;0;0;0m██\u001b[38;2;0;0;0m██\u001b[38;2;0;0;0m██\u001b[38;2;0;0;0m██\u001b[38;2;0;0;0m██\u001b[38;2;0;0;0m██\u001b[38;2;0;0;0m██\u001b[38;2;0;0;0m██\u001b[38;2;0;0;0m██\u001b[38;2;0;0;0m██\u001b[38;2;0;0;0m██\u001b[38;2;0;0;0m██\u001b[38;2;0;0;0m██\u001b[38;2;0;0;0m██\u001b[38;2;0;0;0m██\u001b[38;2;0;0;0m██\u001b[38;2;0;0;0m██\u001b[38;2;0;0;0m██\u001b[38;2;0;0;0m██\u001b[38;2;0;0;0m██\u001b[38;2;0;0;0m██\u001b[38;2;0;0;0m██\u001b[38;2;0;0;0m██\u001b[38;2;0;0;0m██\u001b[38;2;0;0;0m██\u001b[38;2;0;0;0m██\u001b[38;2;0;0;0m██\u001b[0m\n",
       "\u001b[0m\u001b[38;2;0;0;0m██\u001b[38;2;0;0;0m██\u001b[38;2;0;0;0m██\u001b[38;2;0;0;0m██\u001b[38;2;0;0;0m██\u001b[38;2;0;0;0m██\u001b[38;2;0;0;0m██\u001b[38;2;0;0;0m██\u001b[38;2;0;0;0m██\u001b[38;2;0;0;0m██\u001b[38;2;0;0;0m██\u001b[38;2;0;0;0m██\u001b[38;2;0;0;0m██\u001b[38;2;0;0;0m██\u001b[38;2;0;0;0m██\u001b[38;2;0;0;0m██\u001b[38;2;0;0;0m██\u001b[38;2;0;0;0m██\u001b[38;2;0;0;0m██\u001b[38;2;0;0;0m██\u001b[38;2;0;0;0m██\u001b[38;2;0;0;0m██\u001b[38;2;0;0;0m██\u001b[38;2;0;0;0m██\u001b[38;2;0;0;0m██\u001b[38;2;0;0;0m██\u001b[38;2;0;0;0m██\u001b[38;2;0;0;0m██\u001b[0m"
      ]
     },
     "execution_count": 4,
     "metadata": {},
     "output_type": "execute_result"
    }
   ],
   "source": [
    "convert2image(MNIST, train_x_raw[ : , : , 1 ] )"
   ]
  },
  {
   "cell_type": "markdown",
   "metadata": {},
   "source": [
    "## <span style=\"color:orange\"> Create a 'Scale' layer which takes in inputs and scales the values linearly </span>\n",
    "\n",
    "- Does not perform any transformations"
   ]
  },
  {
   "cell_type": "code",
   "execution_count": 5,
   "metadata": {},
   "outputs": [
    {
     "data": {
      "text/plain": [
       "Chain(\n",
       "  Dense(1 => 3),                        \u001b[90m# 6 parameters\u001b[39m\n",
       ") "
      ]
     },
     "execution_count": 5,
     "metadata": {},
     "output_type": "execute_result"
    }
   ],
   "source": [
    "m1 = Chain( Dense(1=>3) )"
   ]
  },
  {
   "cell_type": "code",
   "execution_count": 6,
   "metadata": {},
   "outputs": [
    {
     "data": {
      "text/plain": [
       "(:weight, :bias, :σ)"
      ]
     },
     "execution_count": 6,
     "metadata": {},
     "output_type": "execute_result"
    }
   ],
   "source": [
    "fieldnames(typeof(m1.layers[1]))"
   ]
  },
  {
   "cell_type": "code",
   "execution_count": 7,
   "metadata": {},
   "outputs": [
    {
     "data": {
      "text/plain": [
       "3×1 Matrix{Float32}:\n",
       " -0.14411756\n",
       "  1.131786\n",
       "  0.33730546"
      ]
     },
     "execution_count": 7,
     "metadata": {},
     "output_type": "execute_result"
    }
   ],
   "source": [
    "m1.layers[1].weight"
   ]
  },
  {
   "cell_type": "code",
   "execution_count": 8,
   "metadata": {},
   "outputs": [
    {
     "data": {
      "text/plain": [
       "3-element Vector{Float32}:\n",
       " -0.14411756\n",
       "  1.131786\n",
       "  0.33730546"
      ]
     },
     "execution_count": 8,
     "metadata": {},
     "output_type": "execute_result"
    }
   ],
   "source": [
    "m1( [1] ) #values returned / mapped "
   ]
  },
  {
   "cell_type": "code",
   "execution_count": 9,
   "metadata": {},
   "outputs": [
    {
     "data": {
      "text/plain": [
       "Scale(3)            \u001b[90m# 6 parameters\u001b[39m"
      ]
     },
     "execution_count": 9,
     "metadata": {},
     "output_type": "execute_result"
    }
   ],
   "source": [
    "m1s = Flux.Scale( [0.1, 10, 100] ) #scaling layer"
   ]
  },
  {
   "cell_type": "code",
   "execution_count": 10,
   "metadata": {},
   "outputs": [
    {
     "data": {
      "text/plain": [
       "Chain(\n",
       "  Chain(\n",
       "    Dense(1 => 3),                      \u001b[90m# 6 parameters\u001b[39m\n",
       "  ),\n",
       "  Scale(3),                             \u001b[90m# 6 parameters\u001b[39m\n",
       ") \u001b[90m                  # Total: 4 arrays, \u001b[39m12 parameters, 360 bytes."
      ]
     },
     "execution_count": 10,
     "metadata": {},
     "output_type": "execute_result"
    }
   ],
   "source": [
    "m1scaled = Chain( m1 , m1s )"
   ]
  },
  {
   "cell_type": "code",
   "execution_count": 11,
   "metadata": {},
   "outputs": [
    {
     "data": {
      "text/plain": [
       "3-element Vector{Float64}:\n",
       " -0.014411756396293642\n",
       " 11.317859888076782\n",
       " 33.73054563999176"
      ]
     },
     "execution_count": 11,
     "metadata": {},
     "output_type": "execute_result"
    }
   ],
   "source": [
    "m1scaled( [1] )"
   ]
  },
  {
   "cell_type": "code",
   "execution_count": 12,
   "metadata": {},
   "outputs": [
    {
     "data": {
      "text/plain": [
       "Scale(3)            \u001b[90m# 6 parameters\u001b[39m"
      ]
     },
     "execution_count": 12,
     "metadata": {},
     "output_type": "execute_result"
    }
   ],
   "source": [
    "m1s2 = Flux.Scale( repeat( [0.01] , 3 ) ) #scaling layer"
   ]
  },
  {
   "cell_type": "code",
   "execution_count": 13,
   "metadata": {},
   "outputs": [
    {
     "data": {
      "text/plain": [
       "Chain(\n",
       "  Chain(\n",
       "    Dense(1 => 3),                      \u001b[90m# 6 parameters\u001b[39m\n",
       "  ),\n",
       "  Scale(3),                             \u001b[90m# 6 parameters\u001b[39m\n",
       ") \u001b[90m                  # Total: 4 arrays, \u001b[39m12 parameters, 360 bytes."
      ]
     },
     "execution_count": 13,
     "metadata": {},
     "output_type": "execute_result"
    }
   ],
   "source": [
    "m1scaled2 = Chain( m1 , m1s2 )"
   ]
  },
  {
   "cell_type": "code",
   "execution_count": 14,
   "metadata": {},
   "outputs": [
    {
     "data": {
      "text/plain": [
       "3-element Vector{Float64}:\n",
       " -0.001441175639629364\n",
       "  0.011317859888076782\n",
       "  0.0033730545639991763"
      ]
     },
     "execution_count": 14,
     "metadata": {},
     "output_type": "execute_result"
    }
   ],
   "source": [
    "m1scaled2( [1] )"
   ]
  },
  {
   "cell_type": "code",
   "execution_count": 15,
   "metadata": {},
   "outputs": [
    {
     "data": {
      "text/plain": [
       "Scale(3)            \u001b[90m# 6 parameters\u001b[39m"
      ]
     },
     "execution_count": 15,
     "metadata": {},
     "output_type": "execute_result"
    }
   ],
   "source": [
    "m1s3 = Flux.Scale( [1,0,1] ) #scaling layer which operates as a removing a neuron (dimension) component"
   ]
  },
  {
   "cell_type": "code",
   "execution_count": 16,
   "metadata": {},
   "outputs": [
    {
     "data": {
      "text/plain": [
       "Chain(\n",
       "  Chain(\n",
       "    Dense(1 => 3),                      \u001b[90m# 6 parameters\u001b[39m\n",
       "  ),\n",
       "  Scale(3),                             \u001b[90m# 6 parameters\u001b[39m\n",
       ") \u001b[90m                  # Total: 4 arrays, \u001b[39m12 parameters, 360 bytes."
      ]
     },
     "execution_count": 16,
     "metadata": {},
     "output_type": "execute_result"
    }
   ],
   "source": [
    "m1scaled3 = Chain( m1 , m1s3 )"
   ]
  },
  {
   "cell_type": "code",
   "execution_count": 17,
   "metadata": {},
   "outputs": [
    {
     "data": {
      "text/plain": [
       "3-element Vector{Float32}:\n",
       " -0.14411756\n",
       "  0.0\n",
       "  0.33730546"
      ]
     },
     "execution_count": 17,
     "metadata": {},
     "output_type": "execute_result"
    }
   ],
   "source": [
    "m1scaled3( [1] )"
   ]
  },
  {
   "cell_type": "code",
   "execution_count": null,
   "metadata": {},
   "outputs": [],
   "source": []
  },
  {
   "cell_type": "code",
   "execution_count": null,
   "metadata": {},
   "outputs": [],
   "source": []
  },
  {
   "cell_type": "code",
   "execution_count": null,
   "metadata": {},
   "outputs": [],
   "source": []
  },
  {
   "cell_type": "markdown",
   "metadata": {},
   "source": [
    "## <span style=\"color:orange\"> Convolution Models </span>\n",
    "\n",
    "- Images (2D data) fed into CNN layers require the <u>W-H-C-N</u> order, which is Width-Height-ChannelNum-BatchSize. Eg if we have images width=28, height=28, 3 channels (R-G-B) and there are 100 of these images in the batch, the size of that data structure fed to the CNN layer is (28,28,3,100). If the images were monochromatic (gray scale) then the size would be (28,28,1,100). \n",
    "- Data can be 1D, for 1D convolutions, on time series or mono audio data, so that the format becomes W-C-N, eg. if we have 100 audio samples in one channel (mono) and each sample has 250 dimensions the size is, (250,1,1). If the data was stereo (2 channel) then the size would be (250,2,1)\n",
    "- If the data was 3D (like data from a magnetic scan), it could look like this (28,28,28,1,100) where the last 2 dimensions are the channel number and batch size. \n",
    "- The Convolutional (CNN) layer takes in a <u>filter size</u> to scan over the data.\n",
    "- The Convolutional (CNN) layer takes in the <u>channel size mapping</u>, which does a transformation from the input channel number to the output channel number. \n",
    "- Key parameter values are <u>stride</u>, <u>padding</u>, <u>dilation</u>\n",
    "- Padding specifies the number of pixels (elements) placed on the borders (boundaries of the data in each dimension). A single value (integer) for uniform padding around the data array, or if there 3 spatial dimensions a tuple of 3 integers is needed to specify the padding if not uniform. You can supply a 2x3 = 6 dimension tuple to padding to specify the padding for each boundary specifically. **note padding will change the size of the image after the application of the cnn filter**\n",
    "- <u>SamePad()</u> is a useful utility function so that it applies the necessary padding in order for the data dimensions to stay the same after the cnn filter application; that is a 28x28 image with SamePad() applied will still become 28x28 after exiting that layer and becoming input into the subsequent layer.\n",
    "\n",
    "\n",
    "#### convolution gifs from [ Vincent Dumoulin, Francesco Visin - A guide to convolution arithmetic for deep learning]"
   ]
  },
  {
   "cell_type": "markdown",
   "metadata": {},
   "source": [
    "### <span style=\"color:orange\"> No padding, no strides </span>\n",
    "\n",
    "![image info](./demoPics/no_padding_no_strides.gif)"
   ]
  },
  {
   "cell_type": "code",
   "execution_count": 18,
   "metadata": {},
   "outputs": [
    {
     "data": {
      "text/plain": [
       "(100, 100, 1, 10)"
      ]
     },
     "execution_count": 18,
     "metadata": {},
     "output_type": "execute_result"
    }
   ],
   "source": [
    "x = rand(Float32, 100, 100, 1, 10); #batch of monochrome images\n",
    "size( x )"
   ]
  },
  {
   "cell_type": "code",
   "execution_count": 19,
   "metadata": {},
   "outputs": [
    {
     "data": {
      "text/plain": [
       "Conv((5, 5), 1 => 1)  \u001b[90m# 26 parameters\u001b[39m"
      ]
     },
     "execution_count": 19,
     "metadata": {},
     "output_type": "execute_result"
    }
   ],
   "source": [
    "cnn_layer = Conv( (5,5) , 1 => 1 )"
   ]
  },
  {
   "cell_type": "code",
   "execution_count": 20,
   "metadata": {},
   "outputs": [
    {
     "data": {
      "text/plain": [
       "(96, 96, 1, 10)"
      ]
     },
     "execution_count": 20,
     "metadata": {},
     "output_type": "execute_result"
    }
   ],
   "source": [
    "cnn_output = cnn_layer(x)\n",
    "size( cnn_output )"
   ]
  },
  {
   "cell_type": "code",
   "execution_count": 21,
   "metadata": {},
   "outputs": [
    {
     "data": {
      "text/plain": [
       "false"
      ]
     },
     "execution_count": 21,
     "metadata": {},
     "output_type": "execute_result"
    }
   ],
   "source": [
    "size( x ) == size( cnn_output )"
   ]
  },
  {
   "cell_type": "code",
   "execution_count": 22,
   "metadata": {},
   "outputs": [
    {
     "data": {
      "image/png": "[encoded data removed]",
      "text/plain": [
       "\u001b[0m\u001b[38;2;26;26;26;48;2;0;0;0m▀\u001b[38;2;28;28;28;48;2;0;0;0m▀\u001b[38;2;0;0;0;48;2;10;10;10m▀\u001b[38;2;2;2;2;48;2;20;20;20m▀\u001b[38;2;3;3;3;48;2;1;1;1m▀\u001b[38;2;0;0;0;48;2;0;0;0m▀\u001b[38;2;21;21;21;48;2;0;0;0m▀\u001b[38;2;13;13;13;48;2;13;13;13m▀\u001b[38;2;0;0;0;48;2;0;0;0m▀\u001b[38;2;4;4;4;48;2;0;0;0m▀\u001b[38;2;0;0;0;48;2;0;0;0m▀\u001b[38;2;0;0;0;48;2;25;25;25m▀\u001b[38;2;0;0;0;48;2;0;0;0m▀\u001b[38;2;0;0;0;48;2;0;0;0m▀\u001b[38;2;0;0;0;48;2;14;14;14m▀\u001b[38;2;16;16;16;48;2;0;0;0m▀\u001b[38;2;16;16;16;48;2;0;0;0m▀\u001b[38;2;0;0;0;48;2;23;23;23m▀\u001b[38;2;15;15;15;48;2;4;4;4m▀\u001b[38;2;0;0;0;48;2;0;0;0m▀\u001b[38;2;0;0;0;48;2;0;0;0m▀\u001b[38;2;0;0;0;48;2;7;7;7m▀\u001b[38;2;0;0;0;48;2;0;0;0m▀\u001b[38;2;0;0;0;48;2;0;0;0m▀\u001b[38;2;0;0;0;48;2;0;0;0m▀\u001b[38;2;0;0;0;48;2;0;0;0m▀\u001b[38;2;0;0;0;48;2;19;19;19m▀\u001b[38;2;0;0;0;48;2;6;6;6m▀\u001b[38;2;0;0;0;48;2;0;0;0m▀\u001b[38;2;0;0;0;48;2;0;0;0m▀\u001b[38;2;0;0;0;48;2;0;0;0m▀\u001b[38;2;0;0;0;48;2;10;10;10m▀\u001b[38;2;19;19;19;48;2;0;0;0m▀\u001b[38;2;0;0;0;48;2;0;0;0m▀\u001b[38;2;0;0;0;48;2;1;1;1m▀\u001b[38;2;0;0;0;48;2;34;34;34m▀\u001b[38;2;0;0;0;48;2;22;22;22m▀\u001b[38;2;0;0;0;48;2;0;0;0m▀\u001b[38;2;16;16;16;48;2;0;0;0m▀\u001b[38;2;9;9;9;48;2;4;4;4m▀\u001b[38;2;0;0;0;48;2;16;16;16m▀\u001b[38;2;0;0;0;48;2;9;9;9m▀\u001b[38;2;0;0;0;48;2;0;0;0m▀\u001b[38;2;0;0;0;48;2;0;0;0m▀\u001b[38;2;16;16;16;48;2;7;7;7m▀\u001b[38;2;14;14;14;48;2;0;0;0m▀\u001b[38;2;17;17;17;48;2;0;0;0m▀\u001b[38;2;0;0;0;48;2;0;0;0m▀\u001b[38;2;0;0;0;48;2;0;0;0m▀\u001b[0m\n",
       "\u001b[0m\u001b[38;2;0;0;0;48;2;3;3;3m▀\u001b[38;2;0;0;0;48;2;14;14;14m▀\u001b[38;2;0;0;0;48;2;0;0;0m▀\u001b[38;2;0;0;0;48;2;0;0;0m▀\u001b[38;2;0;0;0;48;2;9;9;9m▀\u001b[38;2;6;6;6;48;2;16;16;16m▀\u001b[38;2;0;0;0;48;2;0;0;0m▀\u001b[38;2;0;0;0;48;2;0;0;0m▀\u001b[38;2;0;0;0;48;2;0;0;0m▀\u001b[38;2;0;0;0;48;2;9;9;9m▀\u001b[38;2;15;15;15;48;2;0;0;0m▀\u001b[38;2;27;27;27;48;2;0;0;0m▀\u001b[38;2;0;0;0;48;2;0;0;0m▀\u001b[38;2;0;0;0;48;2;0;0;0m▀\u001b[38;2;0;0;0;48;2;0;0;0m▀\u001b[38;2;0;0;0;48;2;0;0;0m▀\u001b[38;2;6;6;6;48;2;4;4;4m▀\u001b[38;2;0;0;0;48;2;16;16;16m▀\u001b[38;2;0;0;0;48;2;0;0;0m▀\u001b[38;2;0;0;0;48;2;1;1;1m▀\u001b[38;2;0;0;0;48;2;36;36;36m▀\u001b[38;2;0;0;0;48;2;28;28;28m▀\u001b[38;2;0;0;0;48;2;0;0;0m▀\u001b[38;2;8;8;8;48;2;0;0;0m▀\u001b[38;2;35;35;35;48;2;13;13;13m▀\u001b[38;2;23;23;23;48;2;0;0;0m▀\u001b[38;2;0;0;0;48;2;0;0;0m▀\u001b[38;2;0;0;0;48;2;19;19;19m▀\u001b[38;2;0;0;0;48;2;0;0;0m▀\u001b[38;2;0;0;0;48;2;0;0;0m▀\u001b[38;2;35;35;35;48;2;0;0;0m▀\u001b[38;2;0;0;0;48;2;0;0;0m▀\u001b[38;2;0;0;0;48;2;0;0;0m▀\u001b[38;2;7;7;7;48;2;0;0;0m▀\u001b[38;2;36;36;36;48;2;0;0;0m▀\u001b[38;2;0;0;0;48;2;0;0;0m▀\u001b[38;2;12;12;12;48;2;0;0;0m▀\u001b[38;2;7;7;7;48;2;0;0;0m▀\u001b[38;2;0;0;0;48;2;0;0;0m▀\u001b[38;2;0;0;0;48;2;0;0;0m▀\u001b[38;2;4;4;4;48;2;0;0;0m▀\u001b[38;2;0;0;0;48;2;0;0;0m▀\u001b[38;2;10;10;10;48;2;8;8;8m▀\u001b[38;2;13;13;13;48;2;31;31;31m▀\u001b[38;2;0;0;0;48;2;0;0;0m▀\u001b[38;2;0;0;0;48;2;0;0;0m▀\u001b[38;2;1;1;1;48;2;0;0;0m▀\u001b[38;2;0;0;0;48;2;8;8;8m▀\u001b[38;2;0;0;0;48;2;19;19;19m▀\u001b[0m\n",
       "\u001b[0m\u001b[38;2;0;0;0;48;2;9;9;9m▀\u001b[38;2;0;0;0;48;2;0;0;0m▀\u001b[38;2;3;3;3;48;2;0;0;0m▀\u001b[38;2;0;0;0;48;2;18;18;18m▀\u001b[38;2;0;0;0;48;2;0;0;0m▀\u001b[38;2;1;1;1;48;2;0;0;0m▀\u001b[38;2;0;0;0;48;2;14;14;14m▀\u001b[38;2;0;0;0;48;2;0;0;0m▀\u001b[38;2;43;43;43;48;2;0;0;0m▀\u001b[38;2;13;13;13;48;2;1;1;1m▀\u001b[38;2;0;0;0;48;2;1;1;1m▀\u001b[38;2;0;0;0;48;2;2;2;2m▀\u001b[38;2;0;0;0;48;2;0;0;0m▀\u001b[38;2;6;6;6;48;2;0;0;0m▀\u001b[38;2;32;32;32;48;2;0;0;0m▀\u001b[38;2;9;9;9;48;2;15;15;15m▀\u001b[38;2;10;10;10;48;2;1;1;1m▀\u001b[38;2;0;0;0;48;2;0;0;0m▀\u001b[38;2;0;0;0;48;2;0;0;0m▀\u001b[38;2;7;7;7;48;2;0;0;0m▀\u001b[38;2;1;1;1;48;2;0;0;0m▀\u001b[38;2;0;0;0;48;2;0;0;0m▀\u001b[38;2;0;0;0;48;2;0;0;0m▀\u001b[38;2;18;18;18;48;2;0;0;0m▀\u001b[38;2;5;5;5;48;2;0;0;0m▀\u001b[38;2;0;0;0;48;2;0;0;0m▀\u001b[38;2;0;0;0;48;2;0;0;0m▀\u001b[38;2;0;0;0;48;2;21;21;21m▀\u001b[38;2;0;0;0;48;2;1;1;1m▀\u001b[38;2;0;0;0;48;2;6;6;6m▀\u001b[38;2;20;20;20;48;2;0;0;0m▀\u001b[38;2;20;20;20;48;2;0;0;0m▀\u001b[38;2;7;7;7;48;2;0;0;0m▀\u001b[38;2;0;0;0;48;2;0;0;0m▀\u001b[38;2;7;7;7;48;2;27;27;27m▀\u001b[38;2;40;40;40;48;2;0;0;0m▀\u001b[38;2;8;8;8;48;2;0;0;0m▀\u001b[38;2;8;8;8;48;2;0;0;0m▀\u001b[38;2;2;2;2;48;2;4;4;4m▀\u001b[38;2;0;0;0;48;2;31;31;31m▀\u001b[38;2;0;0;0;48;2;0;0;0m▀\u001b[38;2;0;0;0;48;2;0;0;0m▀\u001b[38;2;7;7;7;48;2;4;4;4m▀\u001b[38;2;0;0;0;48;2;0;0;0m▀\u001b[38;2;0;0;0;48;2;0;0;0m▀\u001b[38;2;7;7;7;48;2;12;12;12m▀\u001b[38;2;33;33;33;48;2;0;0;0m▀\u001b[38;2;17;17;17;48;2;0;0;0m▀\u001b[38;2;0;0;0;48;2;0;0;0m▀\u001b[0m\n",
       "\u001b[0m\u001b[38;2;0;0;0;48;2;10;10;10m▀\u001b[38;2;0;0;0;48;2;44;44;44m▀\u001b[38;2;0;0;0;48;2;4;4;4m▀\u001b[38;2;0;0;0;48;2;0;0;0m▀\u001b[38;2;0;0;0;48;2;28;28;28m▀\u001b[38;2;15;15;15;48;2;0;0;0m▀\u001b[38;2;4;4;4;48;2;0;0;0m▀\u001b[38;2;31;31;31;48;2;3;3;3m▀\u001b[38;2;19;19;19;48;2;1;1;1m▀\u001b[38;2;0;0;0;48;2;0;0;0m▀\u001b[38;2;0;0;0;48;2;0;0;0m▀\u001b[38;2;0;0;0;48;2;0;0;0m▀\u001b[38;2;0;0;0;48;2;0;0;0m▀\u001b[38;2;0;0;0;48;2;10;10;10m▀\u001b[38;2;2;2;2;48;2;27;27;27m▀\u001b[38;2;0;0;0;48;2;15;15;15m▀\u001b[38;2;0;0;0;48;2;10;10;10m▀\u001b[38;2;12;12;12;48;2;0;0;0m▀\u001b[38;2;1;1;1;48;2;0;0;0m▀\u001b[38;2;0;0;0;48;2;0;0;0m▀\u001b[38;2;19;19;19;48;2;0;0;0m▀\u001b[38;2;0;0;0;48;2;0;0;0m▀\u001b[38;2;0;0;0;48;2;65;65;65m▀\u001b[38;2;52;52;52;48;2;37;37;37m▀\u001b[38;2;55;55;55;48;2;0;0;0m▀\u001b[38;2;0;0;0;48;2;13;13;13m▀\u001b[38;2;0;0;0;48;2;2;2;2m▀\u001b[38;2;5;5;5;48;2;0;0;0m▀\u001b[38;2;0;0;0;48;2;18;18;18m▀\u001b[38;2;0;0;0;48;2;14;14;14m▀\u001b[38;2;17;17;17;48;2;0;0;0m▀\u001b[38;2;0;0;0;48;2;0;0;0m▀\u001b[38;2;0;0;0;48;2;51;51;51m▀\u001b[38;2;0;0;0;48;2;22;22;22m▀\u001b[38;2;27;27;27;48;2;0;0;0m▀\u001b[38;2;0;0;0;48;2;0;0;0m▀\u001b[38;2;0;0;0;48;2;42;42;42m▀\u001b[38;2;0;0;0;48;2;7;7;7m▀\u001b[38;2;0;0;0;48;2;0;0;0m▀\u001b[38;2;0;0;0;48;2;0;0;0m▀\u001b[38;2;0;0;0;48;2;25;25;25m▀\u001b[38;2;40;40;40;48;2;39;39;39m▀\u001b[38;2;3;3;3;48;2;0;0;0m▀\u001b[38;2;0;0;0;48;2;0;0;0m▀\u001b[38;2;9;9;9;48;2;0;0;0m▀\u001b[38;2;0;0;0;48;2;33;33;33m▀\u001b[38;2;0;0;0;48;2;24;24;24m▀\u001b[38;2;0;0;0;48;2;0;0;0m▀\u001b[38;2;4;4;4;48;2;0;0;0m▀\u001b[0m\n",
       "\u001b[0m\u001b[38;2;0;0;0;48;2;0;0;0m▀\u001b[38;2;0;0;0;48;2;0;0;0m▀\u001b[38;2;0;0;0;48;2;0;0;0m▀\u001b[38;2;0;0;0;48;2;0;0;0m▀\u001b[38;2;0;0;0;48;2;0;0;0m▀\u001b[38;2;3;3;3;48;2;0;0;0m▀\u001b[38;2;3;3;3;48;2;0;0;0m▀\u001b[38;2;0;0;0;48;2;0;0;0m▀\u001b[38;2;16;16;16;48;2;0;0;0m▀\u001b[38;2;16;16;16;48;2;10;10;10m▀\u001b[38;2;0;0;0;48;2;0;0;0m▀\u001b[38;2;0;0;0;48;2;0;0;0m▀\u001b[38;2;0;0;0;48;2;9;9;9m▀\u001b[38;2;0;0;0;48;2;40;40;40m▀\u001b[38;2;0;0;0;48;2;11;11;11m▀\u001b[38;2;0;0;0;48;2;0;0;0m▀\u001b[38;2;0;0;0;48;2;0;0;0m▀\u001b[38;2;0;0;0;48;2;0;0;0m▀\u001b[38;2;0;0;0;48;2;6;6;6m▀\u001b[38;2;7;7;7;48;2;40;40;40m▀\u001b[38;2;4;4;4;48;2;0;0;0m▀\u001b[38;2;0;0;0;48;2;0;0;0m▀\u001b[38;2;0;0;0;48;2;0;0;0m▀\u001b[38;2;0;0;0;48;2;0;0;0m▀\u001b[38;2;0;0;0;48;2;0;0;0m▀\u001b[38;2;0;0;0;48;2;0;0;0m▀\u001b[38;2;0;0;0;48;2;0;0;0m▀\u001b[38;2;0;0;0;48;2;20;20;20m▀\u001b[38;2;4;4;4;48;2;13;13;13m▀\u001b[38;2;7;7;7;48;2;0;0;0m▀\u001b[38;2;0;0;0;48;2;0;0;0m▀\u001b[38;2;0;0;0;48;2;0;0;0m▀\u001b[38;2;5;5;5;48;2;6;6;6m▀\u001b[38;2;0;0;0;48;2;6;6;6m▀\u001b[38;2;0;0;0;48;2;8;8;8m▀\u001b[38;2;0;0;0;48;2;0;0;0m▀\u001b[38;2;6;6;6;48;2;0;0;0m▀\u001b[38;2;4;4;4;48;2;0;0;0m▀\u001b[38;2;11;11;11;48;2;0;0;0m▀\u001b[38;2;20;20;20;48;2;6;6;6m▀\u001b[38;2;5;5;5;48;2;0;0;0m▀\u001b[38;2;0;0;0;48;2;0;0;0m▀\u001b[38;2;0;0;0;48;2;0;0;0m▀\u001b[38;2;0;0;0;48;2;0;0;0m▀\u001b[38;2;0;0;0;48;2;9;9;9m▀\u001b[38;2;0;0;0;48;2;16;16;16m▀\u001b[38;2;0;0;0;48;2;4;4;4m▀\u001b[38;2;13;13;13;48;2;2;2;2m▀\u001b[38;2;42;42;42;48;2;16;16;16m▀\u001b[0m\n",
       "\u001b[0m\u001b[38;2;0;0;0;48;2;0;0;0m▀\u001b[38;2;4;4;4;48;2;0;0;0m▀\u001b[38;2;48;48;48;48;2;0;0;0m▀\u001b[38;2;40;40;40;48;2;0;0;0m▀\u001b[38;2;0;0;0;48;2;0;0;0m▀\u001b[38;2;0;0;0;48;2;28;28;28m▀\u001b[38;2;12;12;12;48;2;7;7;7m▀\u001b[38;2;20;20;20;48;2;0;0;0m▀\u001b[38;2;0;0;0;48;2;0;0;0m▀\u001b[38;2;0;0;0;48;2;15;15;15m▀\u001b[38;2;0;0;0;48;2;0;0;0m▀\u001b[38;2;0;0;0;48;2;13;13;13m▀\u001b[38;2;3;3;3;48;2;3;3;3m▀\u001b[38;2;8;8;8;48;2;0;0;0m▀\u001b[38;2;5;5;5;48;2;0;0;0m▀\u001b[38;2;4;4;4;48;2;0;0;0m▀\u001b[38;2;0;0;0;48;2;25;25;25m▀\u001b[38;2;0;0;0;48;2;0;0;0m▀\u001b[38;2;3;3;3;48;2;0;0;0m▀\u001b[38;2;0;0;0;48;2;0;0;0m▀\u001b[38;2;0;0;0;48;2;0;0;0m▀\u001b[38;2;32;32;32;48;2;3;3;3m▀\u001b[38;2;0;0;0;48;2;0;0;0m▀\u001b[38;2;0;0;0;48;2;8;8;8m▀\u001b[38;2;0;0;0;48;2;0;0;0m▀\u001b[38;2;0;0;0;48;2;0;0;0m▀\u001b[38;2;0;0;0;48;2;0;0;0m▀\u001b[38;2;17;17;17;48;2;0;0;0m▀\u001b[38;2;0;0;0;48;2;0;0;0m▀\u001b[38;2;0;0;0;48;2;0;0;0m▀\u001b[38;2;1;1;1;48;2;0;0;0m▀\u001b[38;2;1;1;1;48;2;4;4;4m▀\u001b[38;2;14;14;14;48;2;0;0;0m▀\u001b[38;2;0;0;0;48;2;0;0;0m▀\u001b[38;2;0;0;0;48;2;0;0;0m▀\u001b[38;2;0;0;0;48;2;0;0;0m▀\u001b[38;2;27;27;27;48;2;0;0;0m▀\u001b[38;2;34;34;34;48;2;0;0;0m▀\u001b[38;2;41;41;41;48;2;5;5;5m▀\u001b[38;2;0;0;0;48;2;0;0;0m▀\u001b[38;2;0;0;0;48;2;0;0;0m▀\u001b[38;2;45;45;45;48;2;2;2;2m▀\u001b[38;2;0;0;0;48;2;0;0;0m▀\u001b[38;2;0;0;0;48;2;0;0;0m▀\u001b[38;2;35;35;35;48;2;0;0;0m▀\u001b[38;2;15;15;15;48;2;9;9;9m▀\u001b[38;2;0;0;0;48;2;7;7;7m▀\u001b[38;2;0;0;0;48;2;5;5;5m▀\u001b[38;2;18;18;18;48;2;1;1;1m▀\u001b[0m\n",
       "\u001b[0m\u001b[38;2;15;15;15;48;2;0;0;0m▀\u001b[38;2;0;0;0;48;2;14;14;14m▀\u001b[38;2;0;0;0;48;2;9;9;9m▀\u001b[38;2;23;23;23;48;2;0;0;0m▀\u001b[38;2;26;26;26;48;2;0;0;0m▀\u001b[38;2;0;0;0;48;2;29;29;29m▀\u001b[38;2;0;0;0;48;2;0;0;0m▀\u001b[38;2;0;0;0;48;2;0;0;0m▀\u001b[38;2;0;0;0;48;2;0;0;0m▀\u001b[38;2;14;14;14;48;2;0;0;0m▀\u001b[38;2;0;0;0;48;2;0;0;0m▀\u001b[38;2;0;0;0;48;2;0;0;0m▀\u001b[38;2;0;0;0;48;2;0;0;0m▀\u001b[38;2;0;0;0;48;2;7;7;7m▀\u001b[38;2;0;0;0;48;2;15;15;15m▀\u001b[38;2;0;0;0;48;2;0;0;0m▀\u001b[38;2;0;0;0;48;2;0;0;0m▀\u001b[38;2;36;36;36;48;2;0;0;0m▀\u001b[38;2;47;47;47;48;2;0;0;0m▀\u001b[38;2;12;12;12;48;2;0;0;0m▀\u001b[38;2;17;17;17;48;2;0;0;0m▀\u001b[38;2;10;10;10;48;2;0;0;0m▀\u001b[38;2;0;0;0;48;2;0;0;0m▀\u001b[38;2;2;2;2;48;2;9;9;9m▀\u001b[38;2;0;0;0;48;2;0;0;0m▀\u001b[38;2;0;0;0;48;2;14;14;14m▀\u001b[38;2;15;15;15;48;2;4;4;4m▀\u001b[38;2;29;29;29;48;2;0;0;0m▀\u001b[38;2;0;0;0;48;2;3;3;3m▀\u001b[38;2;0;0;0;48;2;0;0;0m▀\u001b[38;2;35;35;35;48;2;0;0;0m▀\u001b[38;2;2;2;2;48;2;0;0;0m▀\u001b[38;2;0;0;0;48;2;32;32;32m▀\u001b[38;2;11;11;11;48;2;43;43;43m▀\u001b[38;2;0;0;0;48;2;10;10;10m▀\u001b[38;2;1;1;1;48;2;0;0;0m▀\u001b[38;2;0;0;0;48;2;0;0;0m▀\u001b[38;2;0;0;0;48;2;0;0;0m▀\u001b[38;2;0;0;0;48;2;10;10;10m▀\u001b[38;2;24;24;24;48;2;0;0;0m▀\u001b[38;2;23;23;23;48;2;16;16;16m▀\u001b[38;2;0;0;0;48;2;0;0;0m▀\u001b[38;2;0;0;0;48;2;0;0;0m▀\u001b[38;2;5;5;5;48;2;34;34;34m▀\u001b[38;2;0;0;0;48;2;9;9;9m▀\u001b[38;2;0;0;0;48;2;0;0;0m▀\u001b[38;2;0;0;0;48;2;0;0;0m▀\u001b[38;2;23;23;23;48;2;0;0;0m▀\u001b[38;2;11;11;11;48;2;0;0;0m▀\u001b[0m\n",
       "\u001b[0m\u001b[38;2;0;0;0;48;2;27;27;27m▀\u001b[38;2;0;0;0;48;2;4;4;4m▀\u001b[38;2;6;6;6;48;2;0;0;0m▀\u001b[38;2;25;25;25;48;2;1;1;1m▀\u001b[38;2;21;21;21;48;2;0;0;0m▀\u001b[38;2;0;0;0;48;2;0;0;0m▀\u001b[38;2;5;5;5;48;2;0;0;0m▀\u001b[38;2;25;25;25;48;2;0;0;0m▀\u001b[38;2;2;2;2;48;2;35;35;35m▀\u001b[38;2;2;2;2;48;2;8;8;8m▀\u001b[38;2;0;0;0;48;2;0;0;0m▀\u001b[38;2;0;0;0;48;2;13;13;13m▀\u001b[38;2;0;0;0;48;2;0;0;0m▀\u001b[38;2;0;0;0;48;2;0;0;0m▀\u001b[38;2;0;0;0;48;2;0;0;0m▀\u001b[38;2;8;8;8;48;2;0;0;0m▀\u001b[38;2;0;0;0;48;2;0;0;0m▀\u001b[38;2;29;29;29;48;2;0;0;0m▀\u001b[38;2;6;6;6;48;2;0;0;0m▀\u001b[38;2;0;0;0;48;2;0;0;0m▀\u001b[38;2;30;30;30;48;2;0;0;0m▀\u001b[38;2;11;11;11;48;2;0;0;0m▀\u001b[38;2;0;0;0;48;2;0;0;0m▀\u001b[38;2;17;17;17;48;2;0;0;0m▀\u001b[38;2;0;0;0;48;2;0;0;0m▀\u001b[38;2;0;0;0;48;2;45;45;45m▀\u001b[38;2;0;0;0;48;2;15;15;15m▀\u001b[38;2;0;0;0;48;2;0;0;0m▀\u001b[38;2;1;1;1;48;2;0;0;0m▀\u001b[38;2;0;0;0;48;2;0;0;0m▀\u001b[38;2;0;0;0;48;2;24;24;24m▀\u001b[38;2;21;21;21;48;2;6;6;6m▀\u001b[38;2;3;3;3;48;2;0;0;0m▀\u001b[38;2;0;0;0;48;2;0;0;0m▀\u001b[38;2;0;0;0;48;2;0;0;0m▀\u001b[38;2;0;0;0;48;2;0;0;0m▀\u001b[38;2;0;0;0;48;2;0;0;0m▀\u001b[38;2;0;0;0;48;2;8;8;8m▀\u001b[38;2;0;0;0;48;2;25;25;25m▀\u001b[38;2;0;0;0;48;2;0;0;0m▀\u001b[38;2;16;16;16;48;2;0;0;0m▀\u001b[38;2;0;0;0;48;2;0;0;0m▀\u001b[38;2;0;0;0;48;2;0;0;0m▀\u001b[38;2;0;0;0;48;2;1;1;1m▀\u001b[38;2;0;0;0;48;2;12;12;12m▀\u001b[38;2;0;0;0;48;2;0;0;0m▀\u001b[38;2;0;0;0;48;2;12;12;12m▀\u001b[38;2;0;0;0;48;2;0;0;0m▀\u001b[38;2;1;1;1;48;2;0;0;0m▀\u001b[0m\n",
       "\u001b[0m\u001b[38;2;0;0;0;48;2;0;0;0m▀\u001b[38;2;0;0;0;48;2;23;23;23m▀\u001b[38;2;30;30;30;48;2;0;0;0m▀\u001b[38;2;9;9;9;48;2;0;0;0m▀\u001b[38;2;0;0;0;48;2;20;20;20m▀\u001b[38;2;0;0;0;48;2;30;30;30m▀\u001b[38;2;1;1;1;48;2;0;0;0m▀\u001b[38;2;3;3;3;48;2;0;0;0m▀\u001b[38;2;0;0;0;48;2;0;0;0m▀\u001b[38;2;0;0;0;48;2;14;14;14m▀\u001b[38;2;0;0;0;48;2;24;24;24m▀\u001b[38;2;0;0;0;48;2;0;0;0m▀\u001b[38;2;23;23;23;48;2;0;0;0m▀\u001b[38;2;14;14;14;48;2;0;0;0m▀\u001b[38;2;0;0;0;48;2;0;0;0m▀\u001b[38;2;14;14;14;48;2;0;0;0m▀\u001b[38;2;24;24;24;48;2;0;0;0m▀\u001b[38;2;0;0;0;48;2;35;35;35m▀\u001b[38;2;0;0;0;48;2;0;0;0m▀\u001b[38;2;2;2;2;48;2;0;0;0m▀\u001b[38;2;12;12;12;48;2;0;0;0m▀\u001b[38;2;12;12;12;48;2;0;0;0m▀\u001b[38;2;15;15;15;48;2;0;0;0m▀\u001b[38;2;24;24;24;48;2;0;0;0m▀\u001b[38;2;16;16;16;48;2;0;0;0m▀\u001b[38;2;0;0;0;48;2;0;0;0m▀\u001b[38;2;0;0;0;48;2;8;8;8m▀\u001b[38;2;0;0;0;48;2;0;0;0m▀\u001b[38;2;0;0;0;48;2;0;0;0m▀\u001b[38;2;0;0;0;48;2;0;0;0m▀\u001b[38;2;5;5;5;48;2;15;15;15m▀\u001b[38;2;0;0;0;48;2;0;0;0m▀\u001b[38;2;3;3;3;48;2;0;0;0m▀\u001b[38;2;23;23;23;48;2;0;0;0m▀\u001b[38;2;1;1;1;48;2;0;0;0m▀\u001b[38;2;14;14;14;48;2;0;0;0m▀\u001b[38;2;0;0;0;48;2;12;12;12m▀\u001b[38;2;0;0;0;48;2;0;0;0m▀\u001b[38;2;2;2;2;48;2;0;0;0m▀\u001b[38;2;21;21;21;48;2;0;0;0m▀\u001b[38;2;41;41;41;48;2;0;0;0m▀\u001b[38;2;0;0;0;48;2;0;0;0m▀\u001b[38;2;0;0;0;48;2;0;0;0m▀\u001b[38;2;19;19;19;48;2;0;0;0m▀\u001b[38;2;17;17;17;48;2;0;0;0m▀\u001b[38;2;0;0;0;48;2;0;0;0m▀\u001b[38;2;0;0;0;48;2;8;8;8m▀\u001b[38;2;0;0;0;48;2;0;0;0m▀\u001b[38;2;0;0;0;48;2;0;0;0m▀\u001b[0m\n",
       "\u001b[0m\u001b[38;2;0;0;0;48;2;0;0;0m▀\u001b[38;2;0;0;0;48;2;0;0;0m▀\u001b[38;2;0;0;0;48;2;40;40;40m▀\u001b[38;2;22;22;22;48;2;7;7;7m▀\u001b[38;2;3;3;3;48;2;0;0;0m▀\u001b[38;2;17;17;17;48;2;0;0;0m▀\u001b[38;2;0;0;0;48;2;0;0;0m▀\u001b[38;2;0;0;0;48;2;19;19;19m▀\u001b[38;2;8;8;8;48;2;0;0;0m▀\u001b[38;2;0;0;0;48;2;26;26;26m▀\u001b[38;2;0;0;0;48;2;14;14;14m▀\u001b[38;2;0;0;0;48;2;0;0;0m▀\u001b[38;2;16;16;16;48;2;0;0;0m▀\u001b[38;2;6;6;6;48;2;1;1;1m▀\u001b[38;2;0;0;0;48;2;10;10;10m▀\u001b[38;2;16;16;16;48;2;3;3;3m▀\u001b[38;2;1;1;1;48;2;0;0;0m▀\u001b[38;2;0;0;0;48;2;0;0;0m▀\u001b[38;2;0;0;0;48;2;0;0;0m▀\u001b[38;2;0;0;0;48;2;19;19;19m▀\u001b[38;2;0;0;0;48;2;0;0;0m▀\u001b[38;2;0;0;0;48;2;0;0;0m▀\u001b[38;2;0;0;0;48;2;0;0;0m▀\u001b[38;2;0;0;0;48;2;13;13;13m▀\u001b[38;2;0;0;0;48;2;4;4;4m▀\u001b[38;2;32;32;32;48;2;2;2;2m▀\u001b[38;2;26;26;26;48;2;6;6;6m▀\u001b[38;2;0;0;0;48;2;0;0;0m▀\u001b[38;2;0;0;0;48;2;3;3;3m▀\u001b[38;2;0;0;0;48;2;0;0;0m▀\u001b[38;2;0;0;0;48;2;0;0;0m▀\u001b[38;2;0;0;0;48;2;0;0;0m▀\u001b[38;2;0;0;0;48;2;0;0;0m▀\u001b[38;2;0;0;0;48;2;0;0;0m▀\u001b[38;2;27;27;27;48;2;3;3;3m▀\u001b[38;2;4;4;4;48;2;0;0;0m▀\u001b[38;2;0;0;0;48;2;18;18;18m▀\u001b[38;2;20;20;20;48;2;22;22;22m▀\u001b[38;2;27;27;27;48;2;0;0;0m▀\u001b[38;2;0;0;0;48;2;0;0;0m▀\u001b[38;2;0;0;0;48;2;0;0;0m▀\u001b[38;2;14;14;14;48;2;0;0;0m▀\u001b[38;2;0;0;0;48;2;0;0;0m▀\u001b[38;2;0;0;0;48;2;0;0;0m▀\u001b[38;2;0;0;0;48;2;0;0;0m▀\u001b[38;2;7;7;7;48;2;0;0;0m▀\u001b[38;2;33;33;33;48;2;0;0;0m▀\u001b[38;2;5;5;5;48;2;0;0;0m▀\u001b[38;2;2;2;2;48;2;0;0;0m▀\u001b[0m\n",
       "\u001b[0m\u001b[38;2;6;6;6;48;2;0;0;0m▀\u001b[38;2;0;0;0;48;2;32;32;32m▀\u001b[38;2;0;0;0;48;2;25;25;25m▀\u001b[38;2;0;0;0;48;2;0;0;0m▀\u001b[38;2;9;9;9;48;2;0;0;0m▀\u001b[38;2;0;0;0;48;2;0;0;0m▀\u001b[38;2;0;0;0;48;2;6;6;6m▀\u001b[38;2;23;23;23;48;2;0;0;0m▀\u001b[38;2;5;5;5;48;2;0;0;0m▀\u001b[38;2;0;0;0;48;2;0;0;0m▀\u001b[38;2;0;0;0;48;2;0;0;0m▀\u001b[38;2;18;18;18;48;2;0;0;0m▀\u001b[38;2;0;0;0;48;2;0;0;0m▀\u001b[38;2;0;0;0;48;2;26;26;26m▀\u001b[38;2;7;7;7;48;2;0;0;0m▀\u001b[38;2;22;22;22;48;2;0;0;0m▀\u001b[38;2;14;14;14;48;2;0;0;0m▀\u001b[38;2;0;0;0;48;2;0;0;0m▀\u001b[38;2;17;17;17;48;2;10;10;10m▀\u001b[38;2;31;31;31;48;2;0;0;0m▀\u001b[38;2;21;21;21;48;2;0;0;0m▀\u001b[38;2;0;0;0;48;2;23;23;23m▀\u001b[38;2;7;7;7;48;2;0;0;0m▀\u001b[38;2;0;0;0;48;2;0;0;0m▀\u001b[38;2;0;0;0;48;2;0;0;0m▀\u001b[38;2;19;19;19;48;2;0;0;0m▀\u001b[38;2;0;0;0;48;2;9;9;9m▀\u001b[38;2;0;0;0;48;2;31;31;31m▀\u001b[38;2;0;0;0;48;2;0;0;0m▀\u001b[38;2;0;0;0;48;2;7;7;7m▀\u001b[38;2;16;16;16;48;2;0;0;0m▀\u001b[38;2;0;0;0;48;2;0;0;0m▀\u001b[38;2;7;7;7;48;2;0;0;0m▀\u001b[38;2;0;0;0;48;2;0;0;0m▀\u001b[38;2;0;0;0;48;2;0;0;0m▀\u001b[38;2;0;0;0;48;2;0;0;0m▀\u001b[38;2;0;0;0;48;2;0;0;0m▀\u001b[38;2;7;7;7;48;2;7;7;7m▀\u001b[38;2;0;0;0;48;2;1;1;1m▀\u001b[38;2;0;0;0;48;2;0;0;0m▀\u001b[38;2;3;3;3;48;2;14;14;14m▀\u001b[38;2;29;29;29;48;2;4;4;4m▀\u001b[38;2;0;0;0;48;2;0;0;0m▀\u001b[38;2;0;0;0;48;2;26;26;26m▀\u001b[38;2;36;36;36;48;2;2;2;2m▀\u001b[38;2;0;0;0;48;2;0;0;0m▀\u001b[38;2;0;0;0;48;2;0;0;0m▀\u001b[38;2;0;0;0;48;2;0;0;0m▀\u001b[38;2;8;8;8;48;2;26;26;26m▀\u001b[0m\n",
       "\u001b[0m\u001b[38;2;0;0;0;48;2;0;0;0m▀\u001b[38;2;3;3;3;48;2;0;0;0m▀\u001b[38;2;0;0;0;48;2;0;0;0m▀\u001b[38;2;0;0;0;48;2;15;15;15m▀\u001b[38;2;0;0;0;48;2;33;33;33m▀\u001b[38;2;40;40;40;48;2;0;0;0m▀\u001b[38;2;0;0;0;48;2;0;0;0m▀\u001b[38;2;0;0;0;48;2;23;23;23m▀\u001b[38;2;5;5;5;48;2;0;0;0m▀\u001b[38;2;2;2;2;48;2;0;0;0m▀\u001b[38;2;11;11;11;48;2;0;0;0m▀\u001b[38;2;0;0;0;48;2;0;0;0m▀\u001b[38;2;0;0;0;48;2;4;4;4m▀\u001b[38;2;0;0;0;48;2;7;7;7m▀\u001b[38;2;5;5;5;48;2;0;0;0m▀\u001b[38;2;0;0;0;48;2;0;0;0m▀\u001b[38;2;0;0;0;48;2;0;0;0m▀\u001b[38;2;4;4;4;48;2;0;0;0m▀\u001b[38;2;0;0;0;48;2;0;0;0m▀\u001b[38;2;0;0;0;48;2;15;15;15m▀\u001b[38;2;0;0;0;48;2;0;0;0m▀\u001b[38;2;0;0;0;48;2;0;0;0m▀\u001b[38;2;0;0;0;48;2;4;4;4m▀\u001b[38;2;11;11;11;48;2;0;0;0m▀\u001b[38;2;18;18;18;48;2;0;0;0m▀\u001b[38;2;50;50;50;48;2;0;0;0m▀\u001b[38;2;0;0;0;48;2;6;6;6m▀\u001b[38;2;0;0;0;48;2;0;0;0m▀\u001b[38;2;0;0;0;48;2;0;0;0m▀\u001b[38;2;3;3;3;48;2;0;0;0m▀\u001b[38;2;11;11;11;48;2;0;0;0m▀\u001b[38;2;0;0;0;48;2;24;24;24m▀\u001b[38;2;4;4;4;48;2;0;0;0m▀\u001b[38;2;5;5;5;48;2;0;0;0m▀\u001b[38;2;14;14;14;48;2;0;0;0m▀\u001b[38;2;0;0;0;48;2;0;0;0m▀\u001b[38;2;4;4;4;48;2;34;34;34m▀\u001b[38;2;0;0;0;48;2;31;31;31m▀\u001b[38;2;0;0;0;48;2;0;0;0m▀\u001b[38;2;0;0;0;48;2;0;0;0m▀\u001b[38;2;4;4;4;48;2;0;0;0m▀\u001b[38;2;0;0;0;48;2;0;0;0m▀\u001b[38;2;0;0;0;48;2;14;14;14m▀\u001b[38;2;18;18;18;48;2;14;14;14m▀\u001b[38;2;0;0;0;48;2;0;0;0m▀\u001b[38;2;0;0;0;48;2;0;0;0m▀\u001b[38;2;45;45;45;48;2;0;0;0m▀\u001b[38;2;16;16;16;48;2;0;0;0m▀\u001b[38;2;0;0;0;48;2;0;0;0m▀\u001b[0m\n",
       "\u001b[0m\u001b[38;2;0;0;0;48;2;0;0;0m▀\u001b[38;2;8;8;8;48;2;0;0;0m▀\u001b[38;2;25;25;25;48;2;0;0;0m▀\u001b[38;2;0;0;0;48;2;0;0;0m▀\u001b[38;2;0;0;0;48;2;0;0;0m▀\u001b[38;2;0;0;0;48;2;0;0;0m▀\u001b[38;2;0;0;0;48;2;10;10;10m▀\u001b[38;2;0;0;0;48;2;10;10;10m▀\u001b[38;2;13;13;13;48;2;25;25;25m▀\u001b[38;2;0;0;0;48;2;7;7;7m▀\u001b[38;2;8;8;8;48;2;1;1;1m▀\u001b[38;2;6;6;6;48;2;0;0;0m▀\u001b[38;2;0;0;0;48;2;0;0;0m▀\u001b[38;2;0;0;0;48;2;7;7;7m▀\u001b[38;2;10;10;10;48;2;0;0;0m▀\u001b[38;2;0;0;0;48;2;6;6;6m▀\u001b[38;2;0;0;0;48;2;39;39;39m▀\u001b[38;2;0;0;0;48;2;7;7;7m▀\u001b[38;2;0;0;0;48;2;0;0;0m▀\u001b[38;2;0;0;0;48;2;0;0;0m▀\u001b[38;2;12;12;12;48;2;0;0;0m▀\u001b[38;2;9;9;9;48;2;4;4;4m▀\u001b[38;2;6;6;6;48;2;32;32;32m▀\u001b[38;2;0;0;0;48;2;0;0;0m▀\u001b[38;2;0;0;0;48;2;0;0;0m▀\u001b[38;2;0;0;0;48;2;1;1;1m▀\u001b[38;2;0;0;0;48;2;0;0;0m▀\u001b[38;2;28;28;28;48;2;14;14;14m▀\u001b[38;2;56;56;56;48;2;0;0;0m▀\u001b[38;2;0;0;0;48;2;0;0;0m▀\u001b[38;2;0;0;0;48;2;0;0;0m▀\u001b[38;2;0;0;0;48;2;0;0;0m▀\u001b[38;2;3;3;3;48;2;18;18;18m▀\u001b[38;2;0;0;0;48;2;0;0;0m▀\u001b[38;2;0;0;0;48;2;0;0;0m▀\u001b[38;2;0;0;0;48;2;19;19;19m▀\u001b[38;2;2;2;2;48;2;0;0;0m▀\u001b[38;2;0;0;0;48;2;0;0;0m▀\u001b[38;2;12;12;12;48;2;3;3;3m▀\u001b[38;2;17;17;17;48;2;3;3;3m▀\u001b[38;2;0;0;0;48;2;0;0;0m▀\u001b[38;2;8;8;8;48;2;0;0;0m▀\u001b[38;2;41;41;41;48;2;0;0;0m▀\u001b[38;2;0;0;0;48;2;0;0;0m▀\u001b[38;2;0;0;0;48;2;17;17;17m▀\u001b[38;2;0;0;0;48;2;32;32;32m▀\u001b[38;2;0;0;0;48;2;2;2;2m▀\u001b[38;2;4;4;4;48;2;0;0;0m▀\u001b[38;2;5;5;5;48;2;0;0;0m▀\u001b[0m\n",
       "\u001b[0m\u001b[38;2;0;0;0;48;2;0;0;0m▀\u001b[38;2;0;0;0;48;2;0;0;0m▀\u001b[38;2;0;0;0;48;2;0;0;0m▀\u001b[38;2;5;5;5;48;2;21;21;21m▀\u001b[38;2;15;15;15;48;2;4;4;4m▀\u001b[38;2;0;0;0;48;2;0;0;0m▀\u001b[38;2;12;12;12;48;2;0;0;0m▀\u001b[38;2;0;0;0;48;2;31;31;31m▀\u001b[38;2;0;0;0;48;2;9;9;9m▀\u001b[38;2;8;8;8;48;2;0;0;0m▀\u001b[38;2;0;0;0;48;2;4;4;4m▀\u001b[38;2;0;0;0;48;2;0;0;0m▀\u001b[38;2;0;0;0;48;2;0;0;0m▀\u001b[38;2;3;3;3;48;2;7;7;7m▀\u001b[38;2;0;0;0;48;2;29;29;29m▀\u001b[38;2;0;0;0;48;2;22;22;22m▀\u001b[38;2;0;0;0;48;2;0;0;0m▀\u001b[38;2;0;0;0;48;2;0;0;0m▀\u001b[38;2;0;0;0;48;2;31;31;31m▀\u001b[38;2;0;0;0;48;2;0;0;0m▀\u001b[38;2;0;0;0;48;2;0;0;0m▀\u001b[38;2;0;0;0;48;2;22;22;22m▀\u001b[38;2;36;36;36;48;2;0;0;0m▀\u001b[38;2;0;0;0;48;2;0;0;0m▀\u001b[38;2;0;0;0;48;2;22;22;22m▀\u001b[38;2;0;0;0;48;2;11;11;11m▀\u001b[38;2;0;0;0;48;2;0;0;0m▀\u001b[38;2;0;0;0;48;2;0;0;0m▀\u001b[38;2;0;0;0;48;2;0;0;0m▀\u001b[38;2;4;4;4;48;2;32;32;32m▀\u001b[38;2;8;8;8;48;2;12;12;12m▀\u001b[38;2;0;0;0;48;2;0;0;0m▀\u001b[38;2;0;0;0;48;2;0;0;0m▀\u001b[38;2;0;0;0;48;2;0;0;0m▀\u001b[38;2;9;9;9;48;2;0;0;0m▀\u001b[38;2;0;0;0;48;2;0;0;0m▀\u001b[38;2;30;30;30;48;2;0;0;0m▀\u001b[38;2;7;7;7;48;2;0;0;0m▀\u001b[38;2;0;0;0;48;2;0;0;0m▀\u001b[38;2;0;0;0;48;2;0;0;0m▀\u001b[38;2;35;35;35;48;2;0;0;0m▀\u001b[38;2;21;21;21;48;2;0;0;0m▀\u001b[38;2;0;0;0;48;2;0;0;0m▀\u001b[38;2;0;0;0;48;2;0;0;0m▀\u001b[38;2;24;24;24;48;2;0;0;0m▀\u001b[38;2;0;0;0;48;2;0;0;0m▀\u001b[38;2;0;0;0;48;2;0;0;0m▀\u001b[38;2;14;14;14;48;2;0;0;0m▀\u001b[38;2;27;27;27;48;2;0;0;0m▀\u001b[0m\n",
       "\u001b[0m\u001b[38;2;0;0;0;48;2;0;0;0m▀\u001b[38;2;3;3;3;48;2;16;16;16m▀\u001b[38;2;14;14;14;48;2;0;0;0m▀\u001b[38;2;0;0;0;48;2;0;0;0m▀\u001b[38;2;0;0;0;48;2;0;0;0m▀\u001b[38;2;0;0;0;48;2;7;7;7m▀\u001b[38;2;10;10;10;48;2;12;12;12m▀\u001b[38;2;9;9;9;48;2;0;0;0m▀\u001b[38;2;15;15;15;48;2;0;0;0m▀\u001b[38;2;0;0;0;48;2;0;0;0m▀\u001b[38;2;0;0;0;48;2;2;2;2m▀\u001b[38;2;2;2;2;48;2;29;29;29m▀\u001b[38;2;36;36;36;48;2;0;0;0m▀\u001b[38;2;19;19;19;48;2;0;0;0m▀\u001b[38;2;0;0;0;48;2;0;0;0m▀\u001b[38;2;0;0;0;48;2;0;0;0m▀\u001b[38;2;0;0;0;48;2;0;0;0m▀\u001b[38;2;3;3;3;48;2;0;0;0m▀\u001b[38;2;0;0;0;48;2;30;30;30m▀\u001b[38;2;0;0;0;48;2;54;54;54m▀\u001b[38;2;0;0;0;48;2;27;27;27m▀\u001b[38;2;0;0;0;48;2;3;3;3m▀\u001b[38;2;0;0;0;48;2;21;21;21m▀\u001b[38;2;2;2;2;48;2;0;0;0m▀\u001b[38;2;0;0;0;48;2;0;0;0m▀\u001b[38;2;0;0;0;48;2;0;0;0m▀\u001b[38;2;14;14;14;48;2;8;8;8m▀\u001b[38;2;0;0;0;48;2;0;0;0m▀\u001b[38;2;0;0;0;48;2;6;6;6m▀\u001b[38;2;15;15;15;48;2;19;19;19m▀\u001b[38;2;11;11;11;48;2;0;0;0m▀\u001b[38;2;7;7;7;48;2;3;3;3m▀\u001b[38;2;0;0;0;48;2;11;11;11m▀\u001b[38;2;2;2;2;48;2;0;0;0m▀\u001b[38;2;32;32;32;48;2;0;0;0m▀\u001b[38;2;11;11;11;48;2;0;0;0m▀\u001b[38;2;0;0;0;48;2;0;0;0m▀\u001b[38;2;0;0;0;48;2;9;9;9m▀\u001b[38;2;22;22;22;48;2;44;44;44m▀\u001b[38;2;0;0;0;48;2;25;25;25m▀\u001b[38;2;0;0;0;48;2;3;3;3m▀\u001b[38;2;0;0;0;48;2;0;0;0m▀\u001b[38;2;0;0;0;48;2;0;0;0m▀\u001b[38;2;7;7;7;48;2;0;0;0m▀\u001b[38;2;7;7;7;48;2;0;0;0m▀\u001b[38;2;0;0;0;48;2;0;0;0m▀\u001b[38;2;19;19;19;48;2;0;0;0m▀\u001b[38;2;0;0;0;48;2;0;0;0m▀\u001b[38;2;9;9;9;48;2;12;12;12m▀\u001b[0m\n",
       "\u001b[0m\u001b[38;2;25;25;25;48;2;0;0;0m▀\u001b[38;2;44;44;44;48;2;0;0;0m▀\u001b[38;2;7;7;7;48;2;0;0;0m▀\u001b[38;2;9;9;9;48;2;13;13;13m▀\u001b[38;2;3;3;3;48;2;0;0;0m▀\u001b[38;2;0;0;0;48;2;0;0;0m▀\u001b[38;2;0;0;0;48;2;0;0;0m▀\u001b[38;2;2;2;2;48;2;21;21;21m▀\u001b[38;2;0;0;0;48;2;16;16;16m▀\u001b[38;2;13;13;13;48;2;0;0;0m▀\u001b[38;2;7;7;7;48;2;0;0;0m▀\u001b[38;2;0;0;0;48;2;0;0;0m▀\u001b[38;2;0;0;0;48;2;0;0;0m▀\u001b[38;2;0;0;0;48;2;15;15;15m▀\u001b[38;2;16;16;16;48;2;0;0;0m▀\u001b[38;2;39;39;39;48;2;0;0;0m▀\u001b[38;2;0;0;0;48;2;0;0;0m▀\u001b[38;2;0;0;0;48;2;5;5;5m▀\u001b[38;2;0;0;0;48;2;33;33;33m▀\u001b[38;2;0;0;0;48;2;0;0;0m▀\u001b[38;2;0;0;0;48;2;0;0;0m▀\u001b[38;2;22;22;22;48;2;0;0;0m▀\u001b[38;2;4;4;4;48;2;3;3;3m▀\u001b[38;2;0;0;0;48;2;1;1;1m▀\u001b[38;2;0;0;0;48;2;0;0;0m▀\u001b[38;2;5;5;5;48;2;0;0;0m▀\u001b[38;2;15;15;15;48;2;22;22;22m▀\u001b[38;2;0;0;0;48;2;0;0;0m▀\u001b[38;2;0;0;0;48;2;10;10;10m▀\u001b[38;2;18;18;18;48;2;0;0;0m▀\u001b[38;2;0;0;0;48;2;0;0;0m▀\u001b[38;2;0;0;0;48;2;0;0;0m▀\u001b[38;2;0;0;0;48;2;0;0;0m▀\u001b[38;2;0;0;0;48;2;0;0;0m▀\u001b[38;2;0;0;0;48;2;0;0;0m▀\u001b[38;2;18;18;18;48;2;0;0;0m▀\u001b[38;2;36;36;36;48;2;0;0;0m▀\u001b[38;2;0;0;0;48;2;23;23;23m▀\u001b[38;2;0;0;0;48;2;0;0;0m▀\u001b[38;2;0;0;0;48;2;0;0;0m▀\u001b[38;2;27;27;27;48;2;2;2;2m▀\u001b[38;2;26;26;26;48;2;18;18;18m▀\u001b[38;2;0;0;0;48;2;0;0;0m▀\u001b[38;2;0;0;0;48;2;0;0;0m▀\u001b[38;2;0;0;0;48;2;0;0;0m▀\u001b[38;2;0;0;0;48;2;25;25;25m▀\u001b[38;2;0;0;0;48;2;0;0;0m▀\u001b[38;2;0;0;0;48;2;14;14;14m▀\u001b[38;2;20;20;20;48;2;20;20;20m▀\u001b[0m\n",
       "\u001b[0m\u001b[38;2;0;0;0;48;2;0;0;0m▀\u001b[38;2;0;0;0;48;2;23;23;23m▀\u001b[38;2;0;0;0;48;2;14;14;14m▀\u001b[38;2;0;0;0;48;2;0;0;0m▀\u001b[38;2;0;0;0;48;2;0;0;0m▀\u001b[38;2;18;18;18;48;2;3;3;3m▀\u001b[38;2;34;34;34;48;2;0;0;0m▀\u001b[38;2;0;0;0;48;2;0;0;0m▀\u001b[38;2;0;0;0;48;2;0;0;0m▀\u001b[38;2;15;15;15;48;2;0;0;0m▀\u001b[38;2;12;12;12;48;2;0;0;0m▀\u001b[38;2;3;3;3;48;2;18;18;18m▀\u001b[38;2;18;18;18;48;2;20;20;20m▀\u001b[38;2;6;6;6;48;2;0;0;0m▀\u001b[38;2;18;18;18;48;2;0;0;0m▀\u001b[38;2;0;0;0;48;2;0;0;0m▀\u001b[38;2;0;0;0;48;2;11;11;11m▀\u001b[38;2;6;6;6;48;2;49;49;49m▀\u001b[38;2;0;0;0;48;2;42;42;42m▀\u001b[38;2;0;0;0;48;2;1;1;1m▀\u001b[38;2;26;26;26;48;2;3;3;3m▀\u001b[38;2;28;28;28;48;2;0;0;0m▀\u001b[38;2;0;0;0;48;2;0;0;0m▀\u001b[38;2;0;0;0;48;2;0;0;0m▀\u001b[38;2;14;14;14;48;2;21;21;21m▀\u001b[38;2;0;0;0;48;2;11;11;11m▀\u001b[38;2;0;0;0;48;2;0;0;0m▀\u001b[38;2;0;0;0;48;2;0;0;0m▀\u001b[38;2;0;0;0;48;2;0;0;0m▀\u001b[38;2;3;3;3;48;2;0;0;0m▀\u001b[38;2;29;29;29;48;2;0;0;0m▀\u001b[38;2;8;8;8;48;2;0;0;0m▀\u001b[38;2;0;0;0;48;2;0;0;0m▀\u001b[38;2;0;0;0;48;2;0;0;0m▀\u001b[38;2;25;25;25;48;2;12;12;12m▀\u001b[38;2;44;44;44;48;2;0;0;0m▀\u001b[38;2;0;0;0;48;2;0;0;0m▀\u001b[38;2;0;0;0;48;2;0;0;0m▀\u001b[38;2;0;0;0;48;2;0;0;0m▀\u001b[38;2;2;2;2;48;2;0;0;0m▀\u001b[38;2;10;10;10;48;2;0;0;0m▀\u001b[38;2;0;0;0;48;2;0;0;0m▀\u001b[38;2;0;0;0;48;2;0;0;0m▀\u001b[38;2;0;0;0;48;2;1;1;1m▀\u001b[38;2;8;8;8;48;2;0;0;0m▀\u001b[38;2;0;0;0;48;2;0;0;0m▀\u001b[38;2;0;0;0;48;2;0;0;0m▀\u001b[38;2;0;0;0;48;2;20;20;20m▀\u001b[38;2;13;13;13;48;2;13;13;13m▀\u001b[0m\n",
       "\u001b[0m\u001b[38;2;0;0;0;48;2;0;0;0m▀\u001b[38;2;0;0;0;48;2;0;0;0m▀\u001b[38;2;0;0;0;48;2;9;9;9m▀\u001b[38;2;0;0;0;48;2;3;3;3m▀\u001b[38;2;2;2;2;48;2;0;0;0m▀\u001b[38;2;0;0;0;48;2;1;1;1m▀\u001b[38;2;0;0;0;48;2;0;0;0m▀\u001b[38;2;0;0;0;48;2;0;0;0m▀\u001b[38;2;46;46;46;48;2;17;17;17m▀\u001b[38;2;0;0;0;48;2;0;0;0m▀\u001b[38;2;0;0;0;48;2;2;2;2m▀\u001b[38;2;0;0;0;48;2;0;0;0m▀\u001b[38;2;9;9;9;48;2;0;0;0m▀\u001b[38;2;28;28;28;48;2;0;0;0m▀\u001b[38;2;13;13;13;48;2;17;17;17m▀\u001b[38;2;0;0;0;48;2;0;0;0m▀\u001b[38;2;0;0;0;48;2;0;0;0m▀\u001b[38;2;0;0;0;48;2;26;26;26m▀\u001b[38;2;0;0;0;48;2;0;0;0m▀\u001b[38;2;21;21;21;48;2;0;0;0m▀\u001b[38;2;20;20;20;48;2;0;0;0m▀\u001b[38;2;0;0;0;48;2;32;32;32m▀\u001b[38;2;0;0;0;48;2;47;47;47m▀\u001b[38;2;9;9;9;48;2;2;2;2m▀\u001b[38;2;0;0;0;48;2;0;0;0m▀\u001b[38;2;0;0;0;48;2;0;0;0m▀\u001b[38;2;16;16;16;48;2;0;0;0m▀\u001b[38;2;37;37;37;48;2;0;0;0m▀\u001b[38;2;14;14;14;48;2;3;3;3m▀\u001b[38;2;0;0;0;48;2;9;9;9m▀\u001b[38;2;0;0;0;48;2;13;13;13m▀\u001b[38;2;0;0;0;48;2;8;8;8m▀\u001b[38;2;0;0;0;48;2;0;0;0m▀\u001b[38;2;32;32;32;48;2;0;0;0m▀\u001b[38;2;0;0;0;48;2;24;24;24m▀\u001b[38;2;0;0;0;48;2;36;36;36m▀\u001b[38;2;0;0;0;48;2;0;0;0m▀\u001b[38;2;0;0;0;48;2;0;0;0m▀\u001b[38;2;0;0;0;48;2;1;1;1m▀\u001b[38;2;21;21;21;48;2;44;44;44m▀\u001b[38;2;16;16;16;48;2;5;5;5m▀\u001b[38;2;0;0;0;48;2;0;0;0m▀\u001b[38;2;0;0;0;48;2;8;8;8m▀\u001b[38;2;0;0;0;48;2;0;0;0m▀\u001b[38;2;24;24;24;48;2;0;0;0m▀\u001b[38;2;43;43;43;48;2;0;0;0m▀\u001b[38;2;4;4;4;48;2;0;0;0m▀\u001b[38;2;0;0;0;48;2;7;7;7m▀\u001b[38;2;0;0;0;48;2;17;17;17m▀\u001b[0m\n",
       "\u001b[0m\u001b[38;2;0;0;0;48;2;0;0;0m▀\u001b[38;2;0;0;0;48;2;0;0;0m▀\u001b[38;2;0;0;0;48;2;19;19;19m▀\u001b[38;2;17;17;17;48;2;0;0;0m▀\u001b[38;2;13;13;13;48;2;0;0;0m▀\u001b[38;2;0;0;0;48;2;0;0;0m▀\u001b[38;2;0;0;0;48;2;0;0;0m▀\u001b[38;2;23;23;23;48;2;30;30;30m▀\u001b[38;2;36;36;36;48;2;0;0;0m▀\u001b[38;2;0;0;0;48;2;0;0;0m▀\u001b[38;2;0;0;0;48;2;20;20;20m▀\u001b[38;2;33;33;33;48;2;1;1;1m▀\u001b[38;2;2;2;2;48;2;0;0;0m▀\u001b[38;2;0;0;0;48;2;10;10;10m▀\u001b[38;2;0;0;0;48;2;9;9;9m▀\u001b[38;2;8;8;8;48;2;0;0;0m▀\u001b[38;2;14;14;14;48;2;0;0;0m▀\u001b[38;2;0;0;0;48;2;10;10;10m▀\u001b[38;2;0;0;0;48;2;3;3;3m▀\u001b[38;2;0;0;0;48;2;0;0;0m▀\u001b[38;2;0;0;0;48;2;19;19;19m▀\u001b[38;2;0;0;0;48;2;0;0;0m▀\u001b[38;2;0;0;0;48;2;0;0;0m▀\u001b[38;2;0;0;0;48;2;0;0;0m▀\u001b[38;2;0;0;0;48;2;0;0;0m▀\u001b[38;2;12;12;12;48;2;0;0;0m▀\u001b[38;2;5;5;5;48;2;0;0;0m▀\u001b[38;2;12;12;12;48;2;0;0;0m▀\u001b[38;2;0;0;0;48;2;0;0;0m▀\u001b[38;2;29;29;29;48;2;0;0;0m▀\u001b[38;2;0;0;0;48;2;0;0;0m▀\u001b[38;2;0;0;0;48;2;10;10;10m▀\u001b[38;2;0;0;0;48;2;0;0;0m▀\u001b[38;2;0;0;0;48;2;0;0;0m▀\u001b[38;2;0;0;0;48;2;0;0;0m▀\u001b[38;2;0;0;0;48;2;0;0;0m▀\u001b[38;2;2;2;2;48;2;0;0;0m▀\u001b[38;2;0;0;0;48;2;25;25;25m▀\u001b[38;2;0;0;0;48;2;24;24;24m▀\u001b[38;2;0;0;0;48;2;0;0;0m▀\u001b[38;2;0;0;0;48;2;0;0;0m▀\u001b[38;2;25;25;25;48;2;17;17;17m▀\u001b[38;2;0;0;0;48;2;0;0;0m▀\u001b[38;2;0;0;0;48;2;0;0;0m▀\u001b[38;2;20;20;20;48;2;17;17;17m▀\u001b[38;2;0;0;0;48;2;10;10;10m▀\u001b[38;2;46;46;46;48;2;12;12;12m▀\u001b[38;2;6;6;6;48;2;0;0;0m▀\u001b[38;2;0;0;0;48;2;3;3;3m▀\u001b[0m\n",
       "\u001b[0m\u001b[38;2;1;1;1;48;2;0;0;0m▀\u001b[38;2;15;15;15;48;2;5;5;5m▀\u001b[38;2;0;0;0;48;2;0;0;0m▀\u001b[38;2;0;0;0;48;2;0;0;0m▀\u001b[38;2;0;0;0;48;2;0;0;0m▀\u001b[38;2;1;1;1;48;2;0;0;0m▀\u001b[38;2;17;17;17;48;2;0;0;0m▀\u001b[38;2;0;0;0;48;2;0;0;0m▀\u001b[38;2;0;0;0;48;2;5;5;5m▀\u001b[38;2;0;0;0;48;2;21;21;21m▀\u001b[38;2;23;23;23;48;2;0;0;0m▀\u001b[38;2;0;0;0;48;2;0;0;0m▀\u001b[38;2;0;0;0;48;2;0;0;0m▀\u001b[38;2;20;20;20;48;2;0;0;0m▀\u001b[38;2;4;4;4;48;2;0;0;0m▀\u001b[38;2;2;2;2;48;2;33;33;33m▀\u001b[38;2;10;10;10;48;2;0;0;0m▀\u001b[38;2;0;0;0;48;2;0;0;0m▀\u001b[38;2;1;1;1;48;2;0;0;0m▀\u001b[38;2;0;0;0;48;2;0;0;0m▀\u001b[38;2;0;0;0;48;2;0;0;0m▀\u001b[38;2;7;7;7;48;2;0;0;0m▀\u001b[38;2;3;3;3;48;2;0;0;0m▀\u001b[38;2;13;13;13;48;2;0;0;0m▀\u001b[38;2;32;32;32;48;2;0;0;0m▀\u001b[38;2;17;17;17;48;2;0;0;0m▀\u001b[38;2;11;11;11;48;2;0;0;0m▀\u001b[38;2;0;0;0;48;2;7;7;7m▀\u001b[38;2;0;0;0;48;2;1;1;1m▀\u001b[38;2;33;33;33;48;2;0;0;0m▀\u001b[38;2;8;8;8;48;2;0;0;0m▀\u001b[38;2;0;0;0;48;2;0;0;0m▀\u001b[38;2;0;0;0;48;2;0;0;0m▀\u001b[38;2;31;31;31;48;2;0;0;0m▀\u001b[38;2;0;0;0;48;2;0;0;0m▀\u001b[38;2;0;0;0;48;2;0;0;0m▀\u001b[38;2;0;0;0;48;2;0;0;0m▀\u001b[38;2;17;17;17;48;2;0;0;0m▀\u001b[38;2;3;3;3;48;2;0;0;0m▀\u001b[38;2;0;0;0;48;2;14;14;14m▀\u001b[38;2;18;18;18;48;2;15;15;15m▀\u001b[38;2;0;0;0;48;2;0;0;0m▀\u001b[38;2;0;0;0;48;2;0;0;0m▀\u001b[38;2;0;0;0;48;2;30;30;30m▀\u001b[38;2;0;0;0;48;2;2;2;2m▀\u001b[38;2;0;0;0;48;2;7;7;7m▀\u001b[38;2;14;14;14;48;2;0;0;0m▀\u001b[38;2;3;3;3;48;2;0;0;0m▀\u001b[38;2;7;7;7;48;2;9;9;9m▀\u001b[0m\n",
       "\u001b[0m\u001b[38;2;0;0;0;48;2;8;8;8m▀\u001b[38;2;0;0;0;48;2;6;6;6m▀\u001b[38;2;0;0;0;48;2;0;0;0m▀\u001b[38;2;0;0;0;48;2;0;0;0m▀\u001b[38;2;0;0;0;48;2;13;13;13m▀\u001b[38;2;2;2;2;48;2;0;0;0m▀\u001b[38;2;0;0;0;48;2;14;14;14m▀\u001b[38;2;8;8;8;48;2;6;6;6m▀\u001b[38;2;0;0;0;48;2;0;0;0m▀\u001b[38;2;1;1;1;48;2;0;0;0m▀\u001b[38;2;18;18;18;48;2;8;8;8m▀\u001b[38;2;1;1;1;48;2;29;29;29m▀\u001b[38;2;0;0;0;48;2;0;0;0m▀\u001b[38;2;0;0;0;48;2;0;0;0m▀\u001b[38;2;13;13;13;48;2;5;5;5m▀\u001b[38;2;0;0;0;48;2;0;0;0m▀\u001b[38;2;0;0;0;48;2;0;0;0m▀\u001b[38;2;0;0;0;48;2;0;0;0m▀\u001b[38;2;0;0;0;48;2;11;11;11m▀\u001b[38;2;0;0;0;48;2;18;18;18m▀\u001b[38;2;0;0;0;48;2;12;12;12m▀\u001b[38;2;0;0;0;48;2;54;54;54m▀\u001b[38;2;0;0;0;48;2;23;23;23m▀\u001b[38;2;0;0;0;48;2;0;0;0m▀\u001b[38;2;0;0;0;48;2;0;0;0m▀\u001b[38;2;0;0;0;48;2;0;0;0m▀\u001b[38;2;0;0;0;48;2;0;0;0m▀\u001b[38;2;0;0;0;48;2;28;28;28m▀\u001b[38;2;1;1;1;48;2;20;20;20m▀\u001b[38;2;14;14;14;48;2;0;0;0m▀\u001b[38;2;0;0;0;48;2;0;0;0m▀\u001b[38;2;0;0;0;48;2;6;6;6m▀\u001b[38;2;0;0;0;48;2;0;0;0m▀\u001b[38;2;39;39;39;48;2;0;0;0m▀\u001b[38;2;6;6;6;48;2;0;0;0m▀\u001b[38;2;0;0;0;48;2;0;0;0m▀\u001b[38;2;11;11;11;48;2;16;16;16m▀\u001b[38;2;41;41;41;48;2;26;26;26m▀\u001b[38;2;0;0;0;48;2;0;0;0m▀\u001b[38;2;0;0;0;48;2;0;0;0m▀\u001b[38;2;18;18;18;48;2;5;5;5m▀\u001b[38;2;0;0;0;48;2;0;0;0m▀\u001b[38;2;0;0;0;48;2;0;0;0m▀\u001b[38;2;0;0;0;48;2;0;0;0m▀\u001b[38;2;24;24;24;48;2;2;2;2m▀\u001b[38;2;16;16;16;48;2;8;8;8m▀\u001b[38;2;0;0;0;48;2;2;2;2m▀\u001b[38;2;12;12;12;48;2;0;0;0m▀\u001b[38;2;0;0;0;48;2;0;0;0m▀\u001b[0m\n",
       "\u001b[0m\u001b[38;2;0;0;0;48;2;9;9;9m▀\u001b[38;2;0;0;0;48;2;0;0;0m▀\u001b[38;2;12;12;12;48;2;0;0;0m▀\u001b[38;2;3;3;3;48;2;0;0;0m▀\u001b[38;2;0;0;0;48;2;14;14;14m▀\u001b[38;2;15;15;15;48;2;0;0;0m▀\u001b[38;2;29;29;29;48;2;0;0;0m▀\u001b[38;2;0;0;0;48;2;4;4;4m▀\u001b[38;2;0;0;0;48;2;0;0;0m▀\u001b[38;2;3;3;3;48;2;0;0;0m▀\u001b[38;2;0;0;0;48;2;0;0;0m▀\u001b[38;2;0;0;0;48;2;0;0;0m▀\u001b[38;2;17;17;17;48;2;0;0;0m▀\u001b[38;2;19;19;19;48;2;0;0;0m▀\u001b[38;2;2;2;2;48;2;0;0;0m▀\u001b[38;2;20;20;20;48;2;16;16;16m▀\u001b[38;2;1;1;1;48;2;0;0;0m▀\u001b[38;2;0;0;0;48;2;0;0;0m▀\u001b[38;2;8;8;8;48;2;4;4;4m▀\u001b[38;2;0;0;0;48;2;5;5;5m▀\u001b[38;2;0;0;0;48;2;2;2;2m▀\u001b[38;2;0;0;0;48;2;0;0;0m▀\u001b[38;2;0;0;0;48;2;0;0;0m▀\u001b[38;2;0;0;0;48;2;6;6;6m▀\u001b[38;2;2;2;2;48;2;2;2;2m▀\u001b[38;2;26;26;26;48;2;0;0;0m▀\u001b[38;2;51;51;51;48;2;0;0;0m▀\u001b[38;2;20;20;20;48;2;0;0;0m▀\u001b[38;2;0;0;0;48;2;9;9;9m▀\u001b[38;2;0;0;0;48;2;1;1;1m▀\u001b[38;2;0;0;0;48;2;0;0;0m▀\u001b[38;2;4;4;4;48;2;0;0;0m▀\u001b[38;2;0;0;0;48;2;0;0;0m▀\u001b[38;2;9;9;9;48;2;0;0;0m▀\u001b[38;2;8;8;8;48;2;0;0;0m▀\u001b[38;2;13;13;13;48;2;0;0;0m▀\u001b[38;2;0;0;0;48;2;9;9;9m▀\u001b[38;2;0;0;0;48;2;0;0;0m▀\u001b[38;2;0;0;0;48;2;0;0;0m▀\u001b[38;2;8;8;8;48;2;25;25;25m▀\u001b[38;2;0;0;0;48;2;0;0;0m▀\u001b[38;2;0;0;0;48;2;0;0;0m▀\u001b[38;2;0;0;0;48;2;0;0;0m▀\u001b[38;2;14;14;14;48;2;1;1;1m▀\u001b[38;2;0;0;0;48;2;22;22;22m▀\u001b[38;2;0;0;0;48;2;0;0;0m▀\u001b[38;2;0;0;0;48;2;0;0;0m▀\u001b[38;2;0;0;0;48;2;5;5;5m▀\u001b[38;2;3;3;3;48;2;31;31;31m▀\u001b[0m\n",
       "\u001b[0m\u001b[38;2;17;17;17;48;2;0;0;0m▀\u001b[38;2;9;9;9;48;2;9;9;9m▀\u001b[38;2;0;0;0;48;2;6;6;6m▀\u001b[38;2;0;0;0;48;2;0;0;0m▀\u001b[38;2;5;5;5;48;2;0;0;0m▀\u001b[38;2;4;4;4;48;2;0;0;0m▀\u001b[38;2;0;0;0;48;2;2;2;2m▀\u001b[38;2;0;0;0;48;2;0;0;0m▀\u001b[38;2;0;0;0;48;2;0;0;0m▀\u001b[38;2;13;13;13;48;2;0;0;0m▀\u001b[38;2;27;27;27;48;2;9;9;9m▀\u001b[38;2;31;31;31;48;2;0;0;0m▀\u001b[38;2;0;0;0;48;2;4;4;4m▀\u001b[38;2;0;0;0;48;2;17;17;17m▀\u001b[38;2;0;0;0;48;2;1;1;1m▀\u001b[38;2;0;0;0;48;2;0;0;0m▀\u001b[38;2;0;0;0;48;2;0;0;0m▀\u001b[38;2;0;0;0;48;2;0;0;0m▀\u001b[38;2;7;7;7;48;2;0;0;0m▀\u001b[38;2;0;0;0;48;2;0;0;0m▀\u001b[38;2;0;0;0;48;2;0;0;0m▀\u001b[38;2;22;22;22;48;2;0;0;0m▀\u001b[38;2;14;14;14;48;2;0;0;0m▀\u001b[38;2;0;0;0;48;2;0;0;0m▀\u001b[38;2;4;4;4;48;2;33;33;33m▀\u001b[38;2;7;7;7;48;2;0;0;0m▀\u001b[38;2;0;0;0;48;2;0;0;0m▀\u001b[38;2;0;0;0;48;2;4;4;4m▀\u001b[38;2;14;14;14;48;2;0;0;0m▀\u001b[38;2;0;0;0;48;2;0;0;0m▀\u001b[38;2;0;0;0;48;2;3;3;3m▀\u001b[38;2;21;21;21;48;2;30;30;30m▀\u001b[38;2;0;0;0;48;2;27;27;27m▀\u001b[38;2;0;0;0;48;2;0;0;0m▀\u001b[38;2;1;1;1;48;2;0;0;0m▀\u001b[38;2;16;16;16;48;2;0;0;0m▀\u001b[38;2;0;0;0;48;2;0;0;0m▀\u001b[38;2;39;39;39;48;2;0;0;0m▀\u001b[38;2;51;51;51;48;2;0;0;0m▀\u001b[38;2;0;0;0;48;2;0;0;0m▀\u001b[38;2;0;0;0;48;2;0;0;0m▀\u001b[38;2;17;17;17;48;2;0;0;0m▀\u001b[38;2;8;8;8;48;2;7;7;7m▀\u001b[38;2;0;0;0;48;2;0;0;0m▀\u001b[38;2;0;0;0;48;2;0;0;0m▀\u001b[38;2;0;0;0;48;2;10;10;10m▀\u001b[38;2;2;2;2;48;2;9;9;9m▀\u001b[38;2;0;0;0;48;2;16;16;16m▀\u001b[38;2;0;0;0;48;2;0;0;0m▀\u001b[0m\n",
       "\u001b[0m\u001b[38;2;0;0;0;48;2;0;0;0m▀\u001b[38;2;0;0;0;48;2;0;0;0m▀\u001b[38;2;0;0;0;48;2;0;0;0m▀\u001b[38;2;2;2;2;48;2;38;38;38m▀\u001b[38;2;0;0;0;48;2;40;40;40m▀\u001b[38;2;0;0;0;48;2;0;0;0m▀\u001b[38;2;0;0;0;48;2;4;4;4m▀\u001b[38;2;30;30;30;48;2;0;0;0m▀\u001b[38;2;17;17;17;48;2;0;0;0m▀\u001b[38;2;9;9;9;48;2;35;35;35m▀\u001b[38;2;4;4;4;48;2;0;0;0m▀\u001b[38;2;0;0;0;48;2;0;0;0m▀\u001b[38;2;0;0;0;48;2;2;2;2m▀\u001b[38;2;0;0;0;48;2;0;0;0m▀\u001b[38;2;0;0;0;48;2;43;43;43m▀\u001b[38;2;24;24;24;48;2;0;0;0m▀\u001b[38;2;0;0;0;48;2;0;0;0m▀\u001b[38;2;0;0;0;48;2;11;11;11m▀\u001b[38;2;15;15;15;48;2;4;4;4m▀\u001b[38;2;20;20;20;48;2;0;0;0m▀\u001b[38;2;20;20;20;48;2;0;0;0m▀\u001b[38;2;4;4;4;48;2;0;0;0m▀\u001b[38;2;1;1;1;48;2;2;2;2m▀\u001b[38;2;6;6;6;48;2;7;7;7m▀\u001b[38;2;0;0;0;48;2;0;0;0m▀\u001b[38;2;0;0;0;48;2;0;0;0m▀\u001b[38;2;13;13;13;48;2;0;0;0m▀\u001b[38;2;0;0;0;48;2;11;11;11m▀\u001b[38;2;0;0;0;48;2;0;0;0m▀\u001b[38;2;13;13;13;48;2;0;0;0m▀\u001b[38;2;6;6;6;48;2;6;6;6m▀\u001b[38;2;0;0;0;48;2;0;0;0m▀\u001b[38;2;0;0;0;48;2;20;20;20m▀\u001b[38;2;0;0;0;48;2;1;1;1m▀\u001b[38;2;7;7;7;48;2;0;0;0m▀\u001b[38;2;9;9;9;48;2;0;0;0m▀\u001b[38;2;0;0;0;48;2;0;0;0m▀\u001b[38;2;1;1;1;48;2;2;2;2m▀\u001b[38;2;20;20;20;48;2;0;0;0m▀\u001b[38;2;17;17;17;48;2;0;0;0m▀\u001b[38;2;0;0;0;48;2;0;0;0m▀\u001b[38;2;0;0;0;48;2;6;6;6m▀\u001b[38;2;0;0;0;48;2;0;0;0m▀\u001b[38;2;0;0;0;48;2;0;0;0m▀\u001b[38;2;25;25;25;48;2;0;0;0m▀\u001b[38;2;0;0;0;48;2;0;0;0m▀\u001b[38;2;0;0;0;48;2;24;24;24m▀\u001b[38;2;0;0;0;48;2;0;0;0m▀\u001b[38;2;13;13;13;48;2;0;0;0m▀\u001b[0m\n",
       "\u001b[0m\u001b[38;2;4;4;4m▀\u001b[38;2;0;0;0m▀\u001b[38;2;2;2;2m▀\u001b[38;2;0;0;0m▀\u001b[38;2;0;0;0m▀\u001b[38;2;0;0;0m▀\u001b[38;2;0;0;0m▀\u001b[38;2;0;0;0m▀\u001b[38;2;0;0;0m▀\u001b[38;2;0;0;0m▀\u001b[38;2;0;0;0m▀\u001b[38;2;0;0;0m▀\u001b[38;2;0;0;0m▀\u001b[38;2;11;11;11m▀\u001b[38;2;15;15;15m▀\u001b[38;2;0;0;0m▀\u001b[38;2;0;0;0m▀\u001b[38;2;0;0;0m▀\u001b[38;2;22;22;22m▀\u001b[38;2;0;0;0m▀\u001b[38;2;0;0;0m▀\u001b[38;2;3;3;3m▀\u001b[38;2;0;0;0m▀\u001b[38;2;0;0;0m▀\u001b[38;2;0;0;0m▀\u001b[38;2;0;0;0m▀\u001b[38;2;22;22;22m▀\u001b[38;2;43;43;43m▀\u001b[38;2;0;0;0m▀\u001b[38;2;0;0;0m▀\u001b[38;2;0;0;0m▀\u001b[38;2;0;0;0m▀\u001b[38;2;0;0;0m▀\u001b[38;2;0;0;0m▀\u001b[38;2;0;0;0m▀\u001b[38;2;0;0;0m▀\u001b[38;2;0;0;0m▀\u001b[38;2;0;0;0m▀\u001b[38;2;0;0;0m▀\u001b[38;2;27;27;27m▀\u001b[38;2;45;45;45m▀\u001b[38;2;19;19;19m▀\u001b[38;2;0;0;0m▀\u001b[38;2;0;0;0m▀\u001b[38;2;0;0;0m▀\u001b[38;2;13;13;13m▀\u001b[38;2;30;30;30m▀\u001b[38;2;12;12;12m▀\u001b[38;2;0;0;0m▀\u001b[0m"
      ]
     },
     "execution_count": 22,
     "metadata": {},
     "output_type": "execute_result"
    }
   ],
   "source": [
    "convert2image(MNIST,cnn_output[:,:,1,1])"
   ]
  },
  {
   "cell_type": "code",
   "execution_count": null,
   "metadata": {},
   "outputs": [],
   "source": []
  },
  {
   "cell_type": "code",
   "execution_count": null,
   "metadata": {},
   "outputs": [],
   "source": []
  },
  {
   "cell_type": "code",
   "execution_count": null,
   "metadata": {},
   "outputs": [],
   "source": []
  },
  {
   "cell_type": "markdown",
   "metadata": {},
   "source": [
    "### <span style=\"color:orange\"> The data is in form WHN instead of WHCN so we must 'unsqueeze' the data to produce another dimension in the format</span>"
   ]
  },
  {
   "cell_type": "code",
   "execution_count": 23,
   "metadata": {},
   "outputs": [
    {
     "data": {
      "text/plain": [
       "(28, 28, 1, 60000)"
      ]
     },
     "execution_count": 23,
     "metadata": {},
     "output_type": "execute_result"
    }
   ],
   "source": [
    "size(Flux.unsqueeze(train_x_raw,dims=3))"
   ]
  },
  {
   "cell_type": "code",
   "execution_count": 24,
   "metadata": {},
   "outputs": [
    {
     "data": {
      "text/plain": [
       "(28, 28, 1, 60000)"
      ]
     },
     "execution_count": 24,
     "metadata": {},
     "output_type": "execute_result"
    }
   ],
   "source": [
    "images = Flux.unsqueeze(train_x_raw,dims=3);\n",
    "images |> size"
   ]
  },
  {
   "cell_type": "code",
   "execution_count": 25,
   "metadata": {},
   "outputs": [
    {
     "data": {
      "text/plain": [
       "(24, 24, 1, 60000)"
      ]
     },
     "execution_count": 25,
     "metadata": {},
     "output_type": "execute_result"
    }
   ],
   "source": [
    "cnn_output = cnn_layer(images) |> size"
   ]
  },
  {
   "cell_type": "code",
   "execution_count": 26,
   "metadata": {},
   "outputs": [
    {
     "data": {
      "text/plain": [
       "(28, 28, 1, 3)"
      ]
     },
     "execution_count": 26,
     "metadata": {},
     "output_type": "execute_result"
    }
   ],
   "source": [
    "images[:,:,:,1:3] |>size"
   ]
  },
  {
   "cell_type": "code",
   "execution_count": 27,
   "metadata": {},
   "outputs": [
    {
     "data": {
      "text/plain": [
       "(24, 24, 1, 3)"
      ]
     },
     "execution_count": 27,
     "metadata": {},
     "output_type": "execute_result"
    }
   ],
   "source": [
    "cnn_output = cnn_layer(images[:,:,:,1:3]) \n",
    "cnn_output |> size"
   ]
  },
  {
   "cell_type": "code",
   "execution_count": 28,
   "metadata": {},
   "outputs": [
    {
     "data": {
      "text/plain": [
       "(24, 24)"
      ]
     },
     "execution_count": 28,
     "metadata": {},
     "output_type": "execute_result"
    }
   ],
   "source": [
    "cnn_output[:,:,1,1] |> size"
   ]
  },
  {
   "cell_type": "code",
   "execution_count": 29,
   "metadata": {},
   "outputs": [
    {
     "data": {
      "image/png": "[encoded data removed]",
      "text/plain": [
       "\u001b[0m\u001b[38;2;0;0;0m██\u001b[38;2;0;0;0m██\u001b[38;2;0;0;0m██\u001b[38;2;0;0;0m██\u001b[38;2;0;0;0m██\u001b[38;2;0;0;0m██\u001b[38;2;0;0;0m██\u001b[38;2;0;0;0m██\u001b[38;2;0;0;0m██\u001b[38;2;0;0;0m██\u001b[38;2;0;0;0m██\u001b[38;2;0;0;0m██\u001b[38;2;0;0;0m██\u001b[38;2;0;0;0m██\u001b[38;2;0;0;0m██\u001b[38;2;0;0;0m██\u001b[38;2;0;0;0m██\u001b[38;2;0;0;0m██\u001b[38;2;0;0;0m██\u001b[38;2;0;0;0m██\u001b[38;2;0;0;0m██\u001b[38;2;0;0;0m██\u001b[38;2;0;0;0m██\u001b[38;2;0;0;0m██\u001b[0m\n",
       "\u001b[0m\u001b[38;2;0;0;0m██\u001b[38;2;0;0;0m██\u001b[38;2;0;0;0m██\u001b[38;2;0;0;0m██\u001b[38;2;0;0;0m██\u001b[38;2;0;0;0m██\u001b[38;2;0;0;0m██\u001b[38;2;0;0;0m██\u001b[38;2;0;0;0m██\u001b[38;2;0;0;0m██\u001b[38;2;0;0;0m██\u001b[38;2;0;0;0m██\u001b[38;2;0;0;0m██\u001b[38;2;0;0;0m██\u001b[38;2;0;0;0m██\u001b[38;2;0;0;0m██\u001b[38;2;0;0;0m██\u001b[38;2;0;0;0m██\u001b[38;2;0;0;0m██\u001b[38;2;0;0;0m██\u001b[38;2;0;0;0m██\u001b[38;2;0;0;0m██\u001b[38;2;0;0;0m██\u001b[38;2;0;0;0m██\u001b[0m\n",
       "\u001b[0m\u001b[38;2;0;0;0m██\u001b[38;2;0;0;0m██\u001b[38;2;0;0;0m██\u001b[38;2;0;0;0m██\u001b[38;2;2;2;2m██\u001b[38;2;0;0;0m██\u001b[38;2;0;0;0m██\u001b[38;2;0;0;0m██\u001b[38;2;0;0;0m██\u001b[38;2;0;0;0m██\u001b[38;2;0;0;0m██\u001b[38;2;0;0;0m██\u001b[38;2;0;0;0m██\u001b[38;2;0;0;0m██\u001b[38;2;0;0;0m██\u001b[38;2;0;0;0m██\u001b[38;2;0;0;0m██\u001b[38;2;0;0;0m██\u001b[38;2;31;31;31m██\u001b[38;2;35;35;35m██\u001b[38;2;31;31;31m██\u001b[38;2;16;16;16m██\u001b[38;2;2;2;2m██\u001b[38;2;0;0;0m██\u001b[0m\n",
       "\u001b[0m\u001b[38;2;0;0;0m██\u001b[38;2;0;0;0m██\u001b[38;2;0;0;0m██\u001b[38;2;3;3;3m██\u001b[38;2;7;7;7m██\u001b[38;2;0;0;0m██\u001b[38;2;0;0;0m██\u001b[38;2;0;0;0m██\u001b[38;2;0;0;0m██\u001b[38;2;0;0;0m██\u001b[38;2;37;37;37m██\u001b[38;2;65;65;65m██\u001b[38;2;111;111;111m██\u001b[38;2;112;112;112m██\u001b[38;2;130;130;130m██\u001b[38;2;102;102;102m██\u001b[38;2;134;134;134m██\u001b[38;2;154;154;154m██\u001b[38;2;204;204;204m██\u001b[38;2;191;191;191m██\u001b[38;2;55;55;55m██\u001b[38;2;0;0;0m██\u001b[38;2;0;0;0m██\u001b[38;2;0;0;0m██\u001b[0m\n",
       "\u001b[0m\u001b[38;2;0;0;0m██\u001b[38;2;0;0;0m██\u001b[38;2;0;0;0m██\u001b[38;2;12;12;12m██\u001b[38;2;85;85;85m██\u001b[38;2;87;87;87m██\u001b[38;2;135;135;135m██\u001b[38;2;144;144;144m██\u001b[38;2;135;135;135m██\u001b[38;2;163;163;163m██\u001b[38;2;130;130;130m██\u001b[38;2;138;138;138m██\u001b[38;2;158;158;158m██\u001b[38;2;95;95;95m██\u001b[38;2;29;29;29m██\u001b[38;2;0;0;0m██\u001b[38;2;51;51;51m██\u001b[38;2;55;55;55m██\u001b[38;2;36;36;36m██\u001b[38;2;0;0;0m██\u001b[38;2;0;0;0m██\u001b[38;2;0;0;0m██\u001b[38;2;0;0;0m██\u001b[38;2;0;0;0m██\u001b[0m\n",
       "\u001b[0m\u001b[38;2;0;0;0m██\u001b[38;2;0;0;0m██\u001b[38;2;0;0;0m██\u001b[38;2;19;19;19m██\u001b[38;2;139;139;139m██\u001b[38;2;188;188;188m██\u001b[38;2;250;250;250m██\u001b[38;2;254;254;254m██\u001b[38;2;119;119;119m██\u001b[38;2;99;99;99m██\u001b[38;2;41;41;41m██\u001b[38;2;60;60;60m██\u001b[38;2;63;63;63m██\u001b[38;2;102;102;102m██\u001b[38;2;0;0;0m██\u001b[38;2;0;0;0m██\u001b[38;2;0;0;0m██\u001b[38;2;0;0;0m██\u001b[38;2;0;0;0m██\u001b[38;2;0;0;0m██\u001b[38;2;0;0;0m██\u001b[38;2;13;13;13m██\u001b[38;2;59;59;59m██\u001b[38;2;46;46;46m██\u001b[0m\n",
       "\u001b[0m\u001b[38;2;0;0;0m██\u001b[38;2;0;0;0m██\u001b[38;2;0;0;0m██\u001b[38;2;15;15;15m██\u001b[38;2;112;112;112m██\u001b[38;2;106;106;106m██\u001b[38;2;116;116;116m██\u001b[38;2;130;130;130m██\u001b[38;2;60;60;60m██\u001b[38;2;0;0;0m██\u001b[38;2;0;0;0m██\u001b[38;2;0;0;0m██\u001b[38;2;0;0;0m██\u001b[38;2;0;0;0m██\u001b[38;2;0;0;0m██\u001b[38;2;0;0;0m██\u001b[38;2;0;0;0m██\u001b[38;2;0;0;0m██\u001b[38;2;0;0;0m██\u001b[38;2;0;0;0m██\u001b[38;2;28;28;28m██\u001b[38;2;52;52;52m██\u001b[38;2;60;60;60m██\u001b[38;2;22;22;22m██\u001b[0m\n",
       "\u001b[0m\u001b[38;2;0;0;0m██\u001b[38;2;0;0;0m██\u001b[38;2;0;0;0m██\u001b[38;2;0;0;0m██\u001b[38;2;1;1;1m██\u001b[38;2;0;0;0m██\u001b[38;2;0;0;0m██\u001b[38;2;0;0;0m██\u001b[38;2;18;18;18m██\u001b[38;2;0;0;0m██\u001b[38;2;0;0;0m██\u001b[38;2;0;0;0m██\u001b[38;2;0;0;0m██\u001b[38;2;0;0;0m██\u001b[38;2;0;0;0m██\u001b[38;2;0;0;0m██\u001b[38;2;0;0;0m██\u001b[38;2;3;3;3m██\u001b[38;2;0;0;0m██\u001b[38;2;9;9;9m██\u001b[38;2;17;17;17m██\u001b[38;2;14;14;14m██\u001b[38;2;13;13;13m██\u001b[38;2;0;0;0m██\u001b[0m\n",
       "\u001b[0m\u001b[38;2;0;0;0m██\u001b[38;2;0;0;0m██\u001b[38;2;0;0;0m██\u001b[38;2;0;0;0m██\u001b[38;2;0;0;0m██\u001b[38;2;0;0;0m██\u001b[38;2;0;0;0m██\u001b[38;2;0;0;0m██\u001b[38;2;84;84;84m██\u001b[38;2;39;39;39m██\u001b[38;2;0;0;0m██\u001b[38;2;0;0;0m██\u001b[38;2;0;0;0m██\u001b[38;2;0;0;0m██\u001b[38;2;0;0;0m██\u001b[38;2;0;0;0m██\u001b[38;2;50;50;50m██\u001b[38;2;88;88;88m██\u001b[38;2;0;0;0m██\u001b[38;2;0;0;0m██\u001b[38;2;0;0;0m██\u001b[38;2;0;0;0m██\u001b[38;2;0;0;0m██\u001b[38;2;0;0;0m██\u001b[0m\n",
       "\u001b[0m\u001b[38;2;0;0;0m██\u001b[38;2;0;0;0m██\u001b[38;2;0;0;0m██\u001b[38;2;0;0;0m██\u001b[38;2;0;0;0m██\u001b[38;2;0;0;0m██\u001b[38;2;0;0;0m██\u001b[38;2;0;0;0m██\u001b[38;2;53;53;53m██\u001b[38;2;77;77;77m██\u001b[38;2;0;0;0m██\u001b[38;2;0;0;0m██\u001b[38;2;0;0;0m██\u001b[38;2;0;0;0m██\u001b[38;2;0;0;0m██\u001b[38;2;0;0;0m██\u001b[38;2;0;0;0m██\u001b[38;2;53;53;53m██\u001b[38;2;0;0;0m██\u001b[38;2;0;0;0m██\u001b[38;2;0;0;0m██\u001b[38;2;0;0;0m██\u001b[38;2;0;0;0m██\u001b[38;2;0;0;0m██\u001b[0m\n",
       "\u001b[0m\u001b[38;2;0;0;0m██\u001b[38;2;0;0;0m██\u001b[38;2;0;0;0m██\u001b[38;2;0;0;0m██\u001b[38;2;0;0;0m██\u001b[38;2;0;0;0m██\u001b[38;2;0;0;0m██\u001b[38;2;0;0;0m██\u001b[38;2;6;6;6m██\u001b[38;2;52;52;52m██\u001b[38;2;28;28;28m██\u001b[38;2;95;95;95m██\u001b[38;2;58;58;58m██\u001b[38;2;0;0;0m██\u001b[38;2;0;0;0m██\u001b[38;2;0;0;0m██\u001b[38;2;0;0;0m██\u001b[38;2;0;0;0m██\u001b[38;2;0;0;0m██\u001b[38;2;0;0;0m██\u001b[38;2;0;0;0m██\u001b[38;2;0;0;0m██\u001b[38;2;0;0;0m██\u001b[38;2;0;0;0m██\u001b[0m\n",
       "\u001b[0m\u001b[38;2;0;0;0m██\u001b[38;2;0;0;0m██\u001b[38;2;0;0;0m██\u001b[38;2;0;0;0m██\u001b[38;2;0;0;0m██\u001b[38;2;0;0;0m██\u001b[38;2;0;0;0m██\u001b[38;2;0;0;0m██\u001b[38;2;0;0;0m██\u001b[38;2;16;16;16m██\u001b[38;2;19;19;19m██\u001b[38;2;164;164;164m██\u001b[38;2;235;235;235m██\u001b[38;2;102;102;102m██\u001b[38;2;0;0;0m██\u001b[38;2;0;0;0m██\u001b[38;2;0;0;0m██\u001b[38;2;0;0;0m██\u001b[38;2;0;0;0m██\u001b[38;2;0;0;0m██\u001b[38;2;0;0;0m██\u001b[38;2;0;0;0m██\u001b[38;2;0;0;0m██\u001b[38;2;0;0;0m██\u001b[0m\n",
       "\u001b[0m\u001b[38;2;0;0;0m██\u001b[38;2;0;0;0m██\u001b[38;2;0;0;0m██\u001b[38;2;0;0;0m██\u001b[38;2;0;0;0m██\u001b[38;2;0;0;0m██\u001b[38;2;0;0;0m██\u001b[38;2;0;0;0m██\u001b[38;2;0;0;0m██\u001b[38;2;0;0;0m██\u001b[38;2;8;8;8m██\u001b[38;2;34;34;34m██\u001b[38;2;198;198;198m██\u001b[38;2;218;218;218m██\u001b[38;2;76;76;76m██\u001b[38;2;0;0;0m██\u001b[38;2;0;0;0m██\u001b[38;2;0;0;0m██\u001b[38;2;0;0;0m██\u001b[38;2;0;0;0m██\u001b[38;2;0;0;0m██\u001b[38;2;0;0;0m██\u001b[38;2;0;0;0m██\u001b[38;2;0;0;0m██\u001b[0m\n",
       "\u001b[0m\u001b[38;2;0;0;0m██\u001b[38;2;0;0;0m██\u001b[38;2;0;0;0m██\u001b[38;2;0;0;0m██\u001b[38;2;0;0;0m██\u001b[38;2;0;0;0m██\u001b[38;2;0;0;0m██\u001b[38;2;0;0;0m██\u001b[38;2;0;0;0m██\u001b[38;2;0;0;0m██\u001b[38;2;0;0;0m██\u001b[38;2;0;0;0m██\u001b[38;2;0;0;0m██\u001b[38;2;157;157;157m██\u001b[38;2;127;127;127m██\u001b[38;2;81;81;81m██\u001b[38;2;0;0;0m██\u001b[38;2;0;0;0m██\u001b[38;2;0;0;0m██\u001b[38;2;0;0;0m██\u001b[38;2;0;0;0m██\u001b[38;2;0;0;0m██\u001b[38;2;0;0;0m██\u001b[38;2;0;0;0m██\u001b[0m\n",
       "\u001b[0m\u001b[38;2;0;0;0m██\u001b[38;2;0;0;0m██\u001b[38;2;0;0;0m██\u001b[38;2;0;0;0m██\u001b[38;2;0;0;0m██\u001b[38;2;0;0;0m██\u001b[38;2;0;0;0m██\u001b[38;2;0;0;0m██\u001b[38;2;0;0;0m██\u001b[38;2;0;0;0m██\u001b[38;2;0;0;0m██\u001b[38;2;0;0;0m██\u001b[38;2;0;0;0m██\u001b[38;2;0;0;0m██\u001b[38;2;38;38;38m██\u001b[38;2;100;100;100m██\u001b[38;2;52;52;52m██\u001b[38;2;0;0;0m██\u001b[38;2;0;0;0m██\u001b[38;2;0;0;0m██\u001b[38;2;3;3;3m██\u001b[38;2;0;0;0m██\u001b[38;2;0;0;0m██\u001b[38;2;0;0;0m██\u001b[0m\n",
       "\u001b[0m\u001b[38;2;0;0;0m██\u001b[38;2;0;0;0m██\u001b[38;2;0;0;0m██\u001b[38;2;0;0;0m██\u001b[38;2;0;0;0m██\u001b[38;2;0;0;0m██\u001b[38;2;0;0;0m██\u001b[38;2;0;0;0m██\u001b[38;2;2;2;2m██\u001b[38;2;0;0;0m██\u001b[38;2;0;0;0m██\u001b[38;2;0;0;0m██\u001b[38;2;0;0;0m██\u001b[38;2;0;0;0m██\u001b[38;2;0;0;0m██\u001b[38;2;90;90;90m██\u001b[38;2;0;0;0m██\u001b[38;2;0;0;0m██\u001b[38;2;0;0;0m██\u001b[38;2;0;0;0m██\u001b[38;2;0;0;0m██\u001b[38;2;0;0;0m██\u001b[38;2;0;0;0m██\u001b[38;2;0;0;0m██\u001b[0m\n",
       "\u001b[0m\u001b[38;2;0;0;0m██\u001b[38;2;0;0;0m██\u001b[38;2;0;0;0m██\u001b[38;2;0;0;0m██\u001b[38;2;0;0;0m██\u001b[38;2;0;0;0m██\u001b[38;2;2;2;2m██\u001b[38;2;0;0;0m██\u001b[38;2;0;0;0m██\u001b[38;2;0;0;0m██\u001b[38;2;5;5;5m██\u001b[38;2;52;52;52m██\u001b[38;2;85;85;85m██\u001b[38;2;138;138;138m██\u001b[38;2;56;56;56m██\u001b[38;2;3;3;3m██\u001b[38;2;0;0;0m██\u001b[38;2;0;0;0m██\u001b[38;2;0;0;0m██\u001b[38;2;11;11;11m██\u001b[38;2;1;1;1m██\u001b[38;2;0;0;0m██\u001b[38;2;0;0;0m██\u001b[38;2;0;0;0m██\u001b[0m\n",
       "\u001b[0m\u001b[38;2;0;0;0m██\u001b[38;2;0;0;0m██\u001b[38;2;0;0;0m██\u001b[38;2;0;0;0m██\u001b[38;2;1;1;1m██\u001b[38;2;0;0;0m██\u001b[38;2;0;0;0m██\u001b[38;2;0;0;0m██\u001b[38;2;0;0;0m██\u001b[38;2;55;55;55m██\u001b[38;2;123;123;123m██\u001b[38;2;174;174;174m██\u001b[38;2;166;166;166m██\u001b[38;2;75;75;75m██\u001b[38;2;8;8;8m██\u001b[38;2;0;0;0m██\u001b[38;2;0;0;0m██\u001b[38;2;0;0;0m██\u001b[38;2;0;0;0m██\u001b[38;2;22;22;22m██\u001b[38;2;22;22;22m██\u001b[38;2;0;0;0m██\u001b[38;2;0;0;0m██\u001b[38;2;0;0;0m██\u001b[0m\n",
       "\u001b[0m\u001b[38;2;0;0;0m██\u001b[38;2;0;0;0m██\u001b[38;2;1;1;1m██\u001b[38;2;5;5;5m██\u001b[38;2;0;0;0m██\u001b[38;2;0;0;0m██\u001b[38;2;0;0;0m██\u001b[38;2;19;19;19m██\u001b[38;2;106;106;106m██\u001b[38;2;170;170;170m██\u001b[38;2;168;168;168m██\u001b[38;2;101;101;101m██\u001b[38;2;22;22;22m██\u001b[38;2;0;0;0m██\u001b[38;2;0;0;0m██\u001b[38;2;0;0;0m██\u001b[38;2;0;0;0m██\u001b[38;2;0;0;0m██\u001b[38;2;37;37;37m██\u001b[38;2;77;77;77m██\u001b[38;2;1;1;1m██\u001b[38;2;0;0;0m██\u001b[38;2;0;0;0m██\u001b[38;2;0;0;0m██\u001b[0m\n",
       "\u001b[0m\u001b[38;2;3;3;3m██\u001b[38;2;0;0;0m██\u001b[38;2;0;0;0m██\u001b[38;2;0;0;0m██\u001b[38;2;0;0;0m██\u001b[38;2;28;28;28m██\u001b[38;2;119;119;119m██\u001b[38;2;168;168;168m██\u001b[38;2;172;172;172m██\u001b[38;2;100;100;100m██\u001b[38;2;0;0;0m██\u001b[38;2;0;0;0m██\u001b[38;2;0;0;0m██\u001b[38;2;0;0;0m██\u001b[38;2;0;0;0m██\u001b[38;2;0;0;0m██\u001b[38;2;0;0;0m██\u001b[38;2;40;40;40m██\u001b[38;2;64;64;64m██\u001b[38;2;62;62;62m██\u001b[38;2;0;0;0m██\u001b[38;2;0;0;0m██\u001b[38;2;0;0;0m██\u001b[38;2;0;0;0m██\u001b[0m\n",
       "\u001b[0m\u001b[38;2;21;21;21m██\u001b[38;2;27;27;27m██\u001b[38;2;39;39;39m██\u001b[38;2;105;105;105m██\u001b[38;2;129;129;129m██\u001b[38;2;187;187;187m██\u001b[38;2;215;215;215m██\u001b[38;2;112;112;112m██\u001b[38;2;53;53;53m██\u001b[38;2;0;0;0m██\u001b[38;2;0;0;0m██\u001b[38;2;0;0;0m██\u001b[38;2;0;0;0m██\u001b[38;2;0;0;0m██\u001b[38;2;0;0;0m██\u001b[38;2;30;30;30m██\u001b[38;2;55;55;55m██\u001b[38;2;58;58;58m██\u001b[38;2;27;27;27m██\u001b[38;2;0;0;0m██\u001b[38;2;0;0;0m██\u001b[38;2;0;0;0m██\u001b[38;2;0;0;0m██\u001b[38;2;0;0;0m██\u001b[0m\n",
       "\u001b[0m\u001b[38;2;48;48;48m██\u001b[38;2;146;146;146m██\u001b[38;2;238;238;238m██\u001b[38;2;255;255;255m██\u001b[38;2;255;255;255m██\u001b[38;2;192;192;192m██\u001b[38;2;80;80;80m██\u001b[38;2;0;0;0m██\u001b[38;2;0;0;0m██\u001b[38;2;0;0;0m██\u001b[38;2;0;0;0m██\u001b[38;2;0;0;0m██\u001b[38;2;0;0;0m██\u001b[38;2;28;28;28m██\u001b[38;2;55;55;55m██\u001b[38;2;57;57;57m██\u001b[38;2;27;27;27m██\u001b[38;2;1;1;1m██\u001b[38;2;0;0;0m██\u001b[38;2;0;0;0m██\u001b[38;2;0;0;0m██\u001b[38;2;0;0;0m██\u001b[38;2;0;0;0m██\u001b[38;2;0;0;0m██\u001b[0m\n",
       "\u001b[0m\u001b[38;2;53;53;53m██\u001b[38;2;96;96;96m██\u001b[38;2;89;89;89m██\u001b[38;2;30;30;30m██\u001b[38;2;0;0;0m██\u001b[38;2;0;0;0m██\u001b[38;2;0;0;0m██\u001b[38;2;0;0;0m██\u001b[38;2;0;0;0m██\u001b[38;2;0;0;0m██\u001b[38;2;0;0;0m██\u001b[38;2;25;25;25m██\u001b[38;2;56;56;56m██\u001b[38;2;56;56;56m██\u001b[38;2;26;26;26m██\u001b[38;2;3;3;3m██\u001b[38;2;0;0;0m██\u001b[38;2;0;0;0m██\u001b[38;2;0;0;0m██\u001b[38;2;0;0;0m██\u001b[38;2;0;0;0m██\u001b[38;2;0;0;0m██\u001b[38;2;0;0;0m██\u001b[38;2;0;0;0m██\u001b[0m\n",
       "\u001b[0m\u001b[38;2;13;13;13m██\u001b[38;2;0;0;0m██\u001b[38;2;0;0;0m██\u001b[38;2;0;0;0m██\u001b[38;2;0;0;0m██\u001b[38;2;0;0;0m██\u001b[38;2;0;0;0m██\u001b[38;2;0;0;0m██\u001b[38;2;0;0;0m██\u001b[38;2;18;18;18m██\u001b[38;2;45;45;45m██\u001b[38;2;65;65;65m██\u001b[38;2;44;44;44m██\u001b[38;2;4;4;4m██\u001b[38;2;0;0;0m██\u001b[38;2;0;0;0m██\u001b[38;2;0;0;0m██\u001b[38;2;0;0;0m██\u001b[38;2;0;0;0m██\u001b[38;2;0;0;0m██\u001b[38;2;0;0;0m██\u001b[38;2;0;0;0m██\u001b[38;2;0;0;0m██\u001b[38;2;0;0;0m██\u001b[0m"
      ]
     },
     "execution_count": 29,
     "metadata": {},
     "output_type": "execute_result"
    }
   ],
   "source": [
    "convert2image(MNIST,cnn_output[:,:,1,1])"
   ]
  },
  {
   "cell_type": "code",
   "execution_count": null,
   "metadata": {},
   "outputs": [],
   "source": []
  },
  {
   "cell_type": "code",
   "execution_count": 30,
   "metadata": {},
   "outputs": [
    {
     "data": {
      "text/plain": [
       "Conv((5, 5), 1 => 1, pad=2)  \u001b[90m# 26 parameters\u001b[39m"
      ]
     },
     "execution_count": 30,
     "metadata": {},
     "output_type": "execute_result"
    }
   ],
   "source": [
    "cnn_layer2 = Conv( (5,5) , 1 => 1 , pad = 2 ) #apply some padding"
   ]
  },
  {
   "cell_type": "code",
   "execution_count": 31,
   "metadata": {},
   "outputs": [
    {
     "data": {
      "text/plain": [
       "(100, 100, 1, 10)"
      ]
     },
     "execution_count": 31,
     "metadata": {},
     "output_type": "execute_result"
    }
   ],
   "source": [
    "cnn_output2 = cnn_layer2( x )\n",
    "size( cnn_output2 )"
   ]
  },
  {
   "cell_type": "code",
   "execution_count": 32,
   "metadata": {},
   "outputs": [
    {
     "data": {
      "text/plain": [
       "true"
      ]
     },
     "execution_count": 32,
     "metadata": {},
     "output_type": "execute_result"
    }
   ],
   "source": [
    "size( x ) == size( cnn_output2 )"
   ]
  },
  {
   "cell_type": "code",
   "execution_count": 33,
   "metadata": {},
   "outputs": [
    {
     "data": {
      "text/plain": [
       "(28, 28, 1, 3)"
      ]
     },
     "execution_count": 33,
     "metadata": {},
     "output_type": "execute_result"
    }
   ],
   "source": [
    "cnn_output = cnn_layer2(images[:,:,:,1:3])\n",
    "cnn_output |> size"
   ]
  },
  {
   "cell_type": "code",
   "execution_count": 34,
   "metadata": {},
   "outputs": [
    {
     "data": {
      "image/png": "[encoded data removed]",
      "text/plain": [
       "\u001b[0m\u001b[38;2;0;0;0m██\u001b[38;2;0;0;0m██\u001b[38;2;0;0;0m██\u001b[38;2;0;0;0m██\u001b[38;2;0;0;0m██\u001b[38;2;0;0;0m██\u001b[38;2;0;0;0m██\u001b[38;2;0;0;0m██\u001b[38;2;0;0;0m██\u001b[38;2;0;0;0m██\u001b[38;2;0;0;0m██\u001b[38;2;0;0;0m██\u001b[38;2;0;0;0m██\u001b[38;2;0;0;0m██\u001b[38;2;0;0;0m██\u001b[38;2;0;0;0m██\u001b[38;2;0;0;0m██\u001b[38;2;0;0;0m██\u001b[38;2;0;0;0m██\u001b[38;2;0;0;0m██\u001b[38;2;0;0;0m██\u001b[38;2;0;0;0m██\u001b[38;2;0;0;0m██\u001b[38;2;0;0;0m██\u001b[38;2;0;0;0m██\u001b[38;2;0;0;0m██\u001b[38;2;0;0;0m██\u001b[38;2;0;0;0m██\u001b[0m\n",
       "\u001b[0m\u001b[38;2;0;0;0m██\u001b[38;2;0;0;0m██\u001b[38;2;0;0;0m██\u001b[38;2;0;0;0m██\u001b[38;2;0;0;0m██\u001b[38;2;0;0;0m██\u001b[38;2;0;0;0m██\u001b[38;2;0;0;0m██\u001b[38;2;0;0;0m██\u001b[38;2;0;0;0m██\u001b[38;2;0;0;0m██\u001b[38;2;0;0;0m██\u001b[38;2;0;0;0m██\u001b[38;2;0;0;0m██\u001b[38;2;0;0;0m██\u001b[38;2;0;0;0m██\u001b[38;2;0;0;0m██\u001b[38;2;0;0;0m██\u001b[38;2;0;0;0m██\u001b[38;2;0;0;0m██\u001b[38;2;0;0;0m██\u001b[38;2;0;0;0m██\u001b[38;2;0;0;0m██\u001b[38;2;0;0;0m██\u001b[38;2;0;0;0m██\u001b[38;2;0;0;0m██\u001b[38;2;0;0;0m██\u001b[38;2;0;0;0m██\u001b[0m\n",
       "\u001b[0m\u001b[38;2;0;0;0m██\u001b[38;2;0;0;0m██\u001b[38;2;0;0;0m██\u001b[38;2;0;0;0m██\u001b[38;2;0;0;0m██\u001b[38;2;0;0;0m██\u001b[38;2;0;0;0m██\u001b[38;2;0;0;0m██\u001b[38;2;0;0;0m██\u001b[38;2;0;0;0m██\u001b[38;2;0;0;0m██\u001b[38;2;0;0;0m██\u001b[38;2;0;0;0m██\u001b[38;2;0;0;0m██\u001b[38;2;0;0;0m██\u001b[38;2;0;0;0m██\u001b[38;2;0;0;0m██\u001b[38;2;0;0;0m██\u001b[38;2;0;0;0m██\u001b[38;2;0;0;0m██\u001b[38;2;0;0;0m██\u001b[38;2;0;0;0m██\u001b[38;2;0;0;0m██\u001b[38;2;0;0;0m██\u001b[38;2;0;0;0m██\u001b[38;2;0;0;0m██\u001b[38;2;0;0;0m██\u001b[38;2;0;0;0m██\u001b[0m\n",
       "\u001b[0m\u001b[38;2;0;0;0m██\u001b[38;2;0;0;0m██\u001b[38;2;0;0;0m██\u001b[38;2;0;0;0m██\u001b[38;2;0;0;0m██\u001b[38;2;0;0;0m██\u001b[38;2;0;0;0m██\u001b[38;2;0;0;0m██\u001b[38;2;0;0;0m██\u001b[38;2;0;0;0m██\u001b[38;2;0;0;0m██\u001b[38;2;0;0;0m██\u001b[38;2;0;0;0m██\u001b[38;2;0;0;0m██\u001b[38;2;0;0;0m██\u001b[38;2;0;0;0m██\u001b[38;2;0;0;0m██\u001b[38;2;0;0;0m██\u001b[38;2;0;0;0m██\u001b[38;2;0;0;0m██\u001b[38;2;0;0;0m██\u001b[38;2;0;0;0m██\u001b[38;2;0;0;0m██\u001b[38;2;0;0;0m██\u001b[38;2;0;0;0m██\u001b[38;2;0;0;0m██\u001b[38;2;0;0;0m██\u001b[38;2;0;0;0m██\u001b[0m\n",
       "\u001b[0m\u001b[38;2;0;0;0m██\u001b[38;2;0;0;0m██\u001b[38;2;0;0;0m██\u001b[38;2;0;0;0m██\u001b[38;2;0;0;0m██\u001b[38;2;0;0;0m██\u001b[38;2;0;0;0m██\u001b[38;2;0;0;0m██\u001b[38;2;0;0;0m██\u001b[38;2;0;0;0m██\u001b[38;2;0;0;0m██\u001b[38;2;0;0;0m██\u001b[38;2;0;0;0m██\u001b[38;2;0;0;0m██\u001b[38;2;0;0;0m██\u001b[38;2;0;0;0m██\u001b[38;2;0;0;0m██\u001b[38;2;0;0;0m██\u001b[38;2;0;0;0m██\u001b[38;2;0;0;0m██\u001b[38;2;0;0;0m██\u001b[38;2;6;6;6m██\u001b[38;2;42;42;42m██\u001b[38;2;2;2;2m██\u001b[38;2;8;8;8m██\u001b[38;2;12;12;12m██\u001b[38;2;0;0;0m██\u001b[38;2;0;0;0m██\u001b[0m\n",
       "\u001b[0m\u001b[38;2;0;0;0m██\u001b[38;2;0;0;0m██\u001b[38;2;0;0;0m██\u001b[38;2;0;0;0m██\u001b[38;2;0;0;0m██\u001b[38;2;0;0;0m██\u001b[38;2;0;0;0m██\u001b[38;2;0;0;0m██\u001b[38;2;0;0;0m██\u001b[38;2;0;0;0m██\u001b[38;2;0;0;0m██\u001b[38;2;0;0;0m██\u001b[38;2;0;0;0m██\u001b[38;2;0;0;0m██\u001b[38;2;0;0;0m██\u001b[38;2;0;0;0m██\u001b[38;2;0;0;0m██\u001b[38;2;0;0;0m██\u001b[38;2;0;0;0m██\u001b[38;2;0;0;0m██\u001b[38;2;0;0;0m██\u001b[38;2;0;0;0m██\u001b[38;2;0;0;0m██\u001b[38;2;0;0;0m██\u001b[38;2;0;0;0m██\u001b[38;2;0;0;0m██\u001b[38;2;0;0;0m██\u001b[38;2;0;0;0m██\u001b[0m\n",
       "\u001b[0m\u001b[38;2;0;0;0m██\u001b[38;2;0;0;0m██\u001b[38;2;0;0;0m██\u001b[38;2;0;0;0m██\u001b[38;2;0;0;0m██\u001b[38;2;0;0;0m██\u001b[38;2;0;0;0m██\u001b[38;2;0;0;0m██\u001b[38;2;0;0;0m██\u001b[38;2;0;0;0m██\u001b[38;2;0;0;0m██\u001b[38;2;0;0;0m██\u001b[38;2;0;0;0m██\u001b[38;2;0;0;0m██\u001b[38;2;0;0;0m██\u001b[38;2;0;0;0m██\u001b[38;2;0;0;0m██\u001b[38;2;0;0;0m██\u001b[38;2;0;0;0m██\u001b[38;2;0;0;0m██\u001b[38;2;0;0;0m██\u001b[38;2;0;0;0m██\u001b[38;2;0;0;0m██\u001b[38;2;0;0;0m██\u001b[38;2;0;0;0m██\u001b[38;2;0;0;0m██\u001b[38;2;0;0;0m██\u001b[38;2;0;0;0m██\u001b[0m\n",
       "\u001b[0m\u001b[38;2;0;0;0m██\u001b[38;2;0;0;0m██\u001b[38;2;0;0;0m██\u001b[38;2;0;0;0m██\u001b[38;2;0;0;0m██\u001b[38;2;0;0;0m██\u001b[38;2;0;0;0m██\u001b[38;2;0;0;0m██\u001b[38;2;0;0;0m██\u001b[38;2;0;0;0m██\u001b[38;2;0;0;0m██\u001b[38;2;0;0;0m██\u001b[38;2;0;0;0m██\u001b[38;2;0;0;0m██\u001b[38;2;0;0;0m██\u001b[38;2;0;0;0m██\u001b[38;2;0;0;0m██\u001b[38;2;0;0;0m██\u001b[38;2;0;0;0m██\u001b[38;2;39;39;39m██\u001b[38;2;10;10;10m██\u001b[38;2;0;0;0m██\u001b[38;2;0;0;0m██\u001b[38;2;0;0;0m██\u001b[38;2;45;45;45m██\u001b[38;2;26;26;26m██\u001b[38;2;0;0;0m██\u001b[38;2;0;0;0m██\u001b[0m\n",
       "\u001b[0m\u001b[38;2;0;0;0m██\u001b[38;2;0;0;0m██\u001b[38;2;0;0;0m██\u001b[38;2;0;0;0m██\u001b[38;2;0;0;0m██\u001b[38;2;4;4;4m██\u001b[38;2;17;17;17m██\u001b[38;2;13;13;13m██\u001b[38;2;0;0;0m██\u001b[38;2;0;0;0m██\u001b[38;2;0;0;0m██\u001b[38;2;0;0;0m██\u001b[38;2;0;0;0m██\u001b[38;2;0;0;0m██\u001b[38;2;0;0;0m██\u001b[38;2;0;0;0m██\u001b[38;2;0;0;0m██\u001b[38;2;0;0;0m██\u001b[38;2;0;0;0m██\u001b[38;2;50;50;50m██\u001b[38;2;41;41;41m██\u001b[38;2;0;0;0m██\u001b[38;2;10;10;10m██\u001b[38;2;42;42;42m██\u001b[38;2;39;39;39m██\u001b[38;2;12;12;12m██\u001b[38;2;0;0;0m██\u001b[38;2;0;0;0m██\u001b[0m\n",
       "\u001b[0m\u001b[38;2;0;0;0m██\u001b[38;2;0;0;0m██\u001b[38;2;0;0;0m██\u001b[38;2;0;0;0m██\u001b[38;2;0;0;0m██\u001b[38;2;16;16;16m██\u001b[38;2;89;89;89m██\u001b[38;2;98;98;98m██\u001b[38;2;11;11;11m██\u001b[38;2;0;0;0m██\u001b[38;2;0;0;0m██\u001b[38;2;0;0;0m██\u001b[38;2;0;0;0m██\u001b[38;2;0;0;0m██\u001b[38;2;0;0;0m██\u001b[38;2;57;57;57m██\u001b[38;2;0;0;0m██\u001b[38;2;0;0;0m██\u001b[38;2;0;0;0m██\u001b[38;2;17;17;17m██\u001b[38;2;12;12;12m██\u001b[38;2;5;5;5m██\u001b[38;2;11;11;11m██\u001b[38;2;11;11;11m██\u001b[38;2;7;7;7m██\u001b[38;2;0;0;0m██\u001b[38;2;0;0;0m██\u001b[38;2;0;0;0m██\u001b[0m\n",
       "\u001b[0m\u001b[38;2;0;0;0m██\u001b[38;2;0;0;0m██\u001b[38;2;0;0;0m██\u001b[38;2;0;0;0m██\u001b[38;2;0;0;0m██\u001b[38;2;5;5;5m██\u001b[38;2;71;71;71m██\u001b[38;2;85;85;85m██\u001b[38;2;52;52;52m██\u001b[38;2;0;0;0m██\u001b[38;2;17;17;17m██\u001b[38;2;0;0;0m██\u001b[38;2;0;0;0m██\u001b[38;2;0;0;0m██\u001b[38;2;0;0;0m██\u001b[38;2;81;81;81m██\u001b[38;2;13;13;13m██\u001b[38;2;0;0;0m██\u001b[38;2;46;46;46m██\u001b[38;2;50;50;50m██\u001b[38;2;0;0;0m██\u001b[38;2;0;0;0m██\u001b[38;2;0;0;0m██\u001b[38;2;0;0;0m██\u001b[38;2;0;0;0m██\u001b[38;2;0;0;0m██\u001b[38;2;0;0;0m██\u001b[38;2;0;0;0m██\u001b[0m\n",
       "\u001b[0m\u001b[38;2;0;0;0m██\u001b[38;2;0;0;0m██\u001b[38;2;0;0;0m██\u001b[38;2;0;0;0m██\u001b[38;2;0;0;0m██\u001b[38;2;0;0;0m██\u001b[38;2;24;24;24m██\u001b[38;2;37;37;37m██\u001b[38;2;5;5;5m██\u001b[38;2;46;46;46m██\u001b[38;2;25;25;25m██\u001b[38;2;0;0;0m██\u001b[38;2;0;0;0m██\u001b[38;2;0;0;0m██\u001b[38;2;0;0;0m██\u001b[38;2;19;19;19m██\u001b[38;2;0;0;0m██\u001b[38;2;0;0;0m██\u001b[38;2;8;8;8m██\u001b[38;2;28;28;28m██\u001b[38;2;0;0;0m██\u001b[38;2;0;0;0m██\u001b[38;2;0;0;0m██\u001b[38;2;0;0;0m██\u001b[38;2;0;0;0m██\u001b[38;2;0;0;0m██\u001b[38;2;0;0;0m██\u001b[38;2;0;0;0m██\u001b[0m\n",
       "\u001b[0m\u001b[38;2;0;0;0m██\u001b[38;2;0;0;0m██\u001b[38;2;0;0;0m██\u001b[38;2;0;0;0m██\u001b[38;2;0;0;0m██\u001b[38;2;0;0;0m██\u001b[38;2;0;0;0m██\u001b[38;2;4;4;4m██\u001b[38;2;0;0;0m██\u001b[38;2;58;58;58m██\u001b[38;2;106;106;106m██\u001b[38;2;0;0;0m██\u001b[38;2;0;0;0m██\u001b[38;2;0;0;0m██\u001b[38;2;0;0;0m██\u001b[38;2;0;0;0m██\u001b[38;2;0;0;0m██\u001b[38;2;0;0;0m██\u001b[38;2;0;0;0m██\u001b[38;2;0;0;0m██\u001b[38;2;0;0;0m██\u001b[38;2;0;0;0m██\u001b[38;2;0;0;0m██\u001b[38;2;0;0;0m██\u001b[38;2;0;0;0m██\u001b[38;2;0;0;0m██\u001b[38;2;0;0;0m██\u001b[38;2;0;0;0m██\u001b[0m\n",
       "\u001b[0m\u001b[38;2;0;0;0m██\u001b[38;2;0;0;0m██\u001b[38;2;0;0;0m██\u001b[38;2;0;0;0m██\u001b[38;2;0;0;0m██\u001b[38;2;0;0;0m██\u001b[38;2;0;0;0m██\u001b[38;2;0;0;0m██\u001b[38;2;0;0;0m██\u001b[38;2;42;42;42m██\u001b[38;2;78;78;78m██\u001b[38;2;50;50;50m██\u001b[38;2;0;0;0m██\u001b[38;2;0;0;0m██\u001b[38;2;0;0;0m██\u001b[38;2;0;0;0m██\u001b[38;2;0;0;0m██\u001b[38;2;0;0;0m██\u001b[38;2;0;0;0m██\u001b[38;2;0;0;0m██\u001b[38;2;0;0;0m██\u001b[38;2;0;0;0m██\u001b[38;2;0;0;0m██\u001b[38;2;0;0;0m██\u001b[38;2;0;0;0m██\u001b[38;2;0;0;0m██\u001b[38;2;0;0;0m██\u001b[38;2;0;0;0m██\u001b[0m\n",
       "\u001b[0m\u001b[38;2;0;0;0m██\u001b[38;2;0;0;0m██\u001b[38;2;0;0;0m██\u001b[38;2;0;0;0m██\u001b[38;2;0;0;0m██\u001b[38;2;0;0;0m██\u001b[38;2;0;0;0m██\u001b[38;2;0;0;0m██\u001b[38;2;0;0;0m██\u001b[38;2;3;3;3m██\u001b[38;2;59;59;59m██\u001b[38;2;81;81;81m██\u001b[38;2;12;12;12m██\u001b[38;2;0;0;0m██\u001b[38;2;0;0;0m██\u001b[38;2;0;0;0m██\u001b[38;2;0;0;0m██\u001b[38;2;0;0;0m██\u001b[38;2;0;0;0m██\u001b[38;2;0;0;0m██\u001b[38;2;0;0;0m██\u001b[38;2;0;0;0m██\u001b[38;2;0;0;0m██\u001b[38;2;0;0;0m██\u001b[38;2;0;0;0m██\u001b[38;2;0;0;0m██\u001b[38;2;0;0;0m██\u001b[38;2;0;0;0m██\u001b[0m\n",
       "\u001b[0m\u001b[38;2;0;0;0m██\u001b[38;2;0;0;0m██\u001b[38;2;0;0;0m██\u001b[38;2;0;0;0m██\u001b[38;2;0;0;0m██\u001b[38;2;0;0;0m██\u001b[38;2;0;0;0m██\u001b[38;2;0;0;0m██\u001b[38;2;0;0;0m██\u001b[38;2;0;0;0m██\u001b[38;2;10;10;10m██\u001b[38;2;75;75;75m██\u001b[38;2;79;79;79m██\u001b[38;2;47;47;47m██\u001b[38;2;0;0;0m██\u001b[38;2;0;0;0m██\u001b[38;2;0;0;0m██\u001b[38;2;0;0;0m██\u001b[38;2;0;0;0m██\u001b[38;2;0;0;0m██\u001b[38;2;0;0;0m██\u001b[38;2;0;0;0m██\u001b[38;2;0;0;0m██\u001b[38;2;0;0;0m██\u001b[38;2;0;0;0m██\u001b[38;2;0;0;0m██\u001b[38;2;0;0;0m██\u001b[38;2;0;0;0m██\u001b[0m\n",
       "\u001b[0m\u001b[38;2;0;0;0m██\u001b[38;2;0;0;0m██\u001b[38;2;0;0;0m██\u001b[38;2;0;0;0m██\u001b[38;2;0;0;0m██\u001b[38;2;0;0;0m██\u001b[38;2;0;0;0m██\u001b[38;2;0;0;0m██\u001b[38;2;0;0;0m██\u001b[38;2;0;0;0m██\u001b[38;2;0;0;0m██\u001b[38;2;24;24;24m██\u001b[38;2;54;54;54m██\u001b[38;2;25;25;25m██\u001b[38;2;17;17;17m██\u001b[38;2;0;0;0m██\u001b[38;2;0;0;0m██\u001b[38;2;0;0;0m██\u001b[38;2;0;0;0m██\u001b[38;2;0;0;0m██\u001b[38;2;0;0;0m██\u001b[38;2;0;0;0m██\u001b[38;2;8;8;8m██\u001b[38;2;0;0;0m██\u001b[38;2;0;0;0m██\u001b[38;2;0;0;0m██\u001b[38;2;0;0;0m██\u001b[38;2;0;0;0m██\u001b[0m\n",
       "\u001b[0m\u001b[38;2;0;0;0m██\u001b[38;2;0;0;0m██\u001b[38;2;0;0;0m██\u001b[38;2;0;0;0m██\u001b[38;2;0;0;0m██\u001b[38;2;0;0;0m██\u001b[38;2;0;0;0m██\u001b[38;2;0;0;0m██\u001b[38;2;0;0;0m██\u001b[38;2;0;0;0m██\u001b[38;2;0;0;0m██\u001b[38;2;0;0;0m██\u001b[38;2;0;0;0m██\u001b[38;2;0;0;0m██\u001b[38;2;0;0;0m██\u001b[38;2;0;0;0m██\u001b[38;2;0;0;0m██\u001b[38;2;0;0;0m██\u001b[38;2;0;0;0m██\u001b[38;2;0;0;0m██\u001b[38;2;0;0;0m██\u001b[38;2;0;0;0m██\u001b[38;2;0;0;0m██\u001b[38;2;0;0;0m██\u001b[38;2;0;0;0m██\u001b[38;2;0;0;0m██\u001b[38;2;0;0;0m██\u001b[38;2;0;0;0m██\u001b[0m\n",
       "\u001b[0m\u001b[38;2;0;0;0m██\u001b[38;2;0;0;0m██\u001b[38;2;0;0;0m██\u001b[38;2;0;0;0m██\u001b[38;2;0;0;0m██\u001b[38;2;0;0;0m██\u001b[38;2;0;0;0m██\u001b[38;2;0;0;0m██\u001b[38;2;0;0;0m██\u001b[38;2;0;0;0m██\u001b[38;2;0;0;0m██\u001b[38;2;0;0;0m██\u001b[38;2;0;0;0m██\u001b[38;2;0;0;0m██\u001b[38;2;0;0;0m██\u001b[38;2;0;0;0m██\u001b[38;2;0;0;0m██\u001b[38;2;0;0;0m██\u001b[38;2;0;0;0m██\u001b[38;2;0;0;0m██\u001b[38;2;0;0;0m██\u001b[38;2;14;14;14m██\u001b[38;2;2;2;2m██\u001b[38;2;0;0;0m██\u001b[38;2;0;0;0m██\u001b[38;2;0;0;0m██\u001b[38;2;0;0;0m██\u001b[38;2;0;0;0m██\u001b[0m\n",
       "\u001b[0m\u001b[38;2;0;0;0m██\u001b[38;2;0;0;0m██\u001b[38;2;0;0;0m██\u001b[38;2;0;0;0m██\u001b[38;2;0;0;0m██\u001b[38;2;0;0;0m██\u001b[38;2;0;0;0m██\u001b[38;2;0;0;0m██\u001b[38;2;0;0;0m██\u001b[38;2;0;0;0m██\u001b[38;2;0;0;0m██\u001b[38;2;0;0;0m██\u001b[38;2;0;0;0m██\u001b[38;2;0;0;0m██\u001b[38;2;0;0;0m██\u001b[38;2;0;0;0m██\u001b[38;2;0;0;0m██\u001b[38;2;0;0;0m██\u001b[38;2;0;0;0m██\u001b[38;2;0;0;0m██\u001b[38;2;0;0;0m██\u001b[38;2;13;13;13m██\u001b[38;2;12;12;12m██\u001b[38;2;0;0;0m██\u001b[38;2;0;0;0m██\u001b[38;2;0;0;0m██\u001b[38;2;0;0;0m██\u001b[38;2;0;0;0m██\u001b[0m\n",
       "\u001b[0m\u001b[38;2;0;0;0m██\u001b[38;2;0;0;0m██\u001b[38;2;0;0;0m██\u001b[38;2;0;0;0m██\u001b[38;2;0;0;0m██\u001b[38;2;0;0;0m██\u001b[38;2;0;0;0m██\u001b[38;2;0;0;0m██\u001b[38;2;0;0;0m██\u001b[38;2;0;0;0m██\u001b[38;2;0;0;0m██\u001b[38;2;0;0;0m██\u001b[38;2;0;0;0m██\u001b[38;2;0;0;0m██\u001b[38;2;0;0;0m██\u001b[38;2;0;0;0m██\u001b[38;2;0;0;0m██\u001b[38;2;0;0;0m██\u001b[38;2;0;0;0m██\u001b[38;2;0;0;0m██\u001b[38;2;35;35;35m██\u001b[38;2;46;46;46m██\u001b[38;2;0;0;0m██\u001b[38;2;0;0;0m██\u001b[38;2;0;0;0m██\u001b[38;2;0;0;0m██\u001b[38;2;0;0;0m██\u001b[38;2;0;0;0m██\u001b[0m\n",
       "\u001b[0m\u001b[38;2;0;0;0m██\u001b[38;2;0;0;0m██\u001b[38;2;0;0;0m██\u001b[38;2;0;0;0m██\u001b[38;2;0;0;0m██\u001b[38;2;0;0;0m██\u001b[38;2;0;0;0m██\u001b[38;2;0;0;0m██\u001b[38;2;0;0;0m██\u001b[38;2;0;0;0m██\u001b[38;2;0;0;0m██\u001b[38;2;0;0;0m██\u001b[38;2;0;0;0m██\u001b[38;2;0;0;0m██\u001b[38;2;0;0;0m██\u001b[38;2;0;0;0m██\u001b[38;2;0;0;0m██\u001b[38;2;0;0;0m██\u001b[38;2;0;0;0m██\u001b[38;2;33;33;33m██\u001b[38;2;55;55;55m██\u001b[38;2;33;33;33m██\u001b[38;2;0;0;0m██\u001b[38;2;0;0;0m██\u001b[38;2;0;0;0m██\u001b[38;2;0;0;0m██\u001b[38;2;0;0;0m██\u001b[38;2;0;0;0m██\u001b[0m\n",
       "\u001b[0m\u001b[38;2;0;0;0m██\u001b[38;2;0;0;0m██\u001b[38;2;0;0;0m██\u001b[38;2;0;0;0m██\u001b[38;2;0;0;0m██\u001b[38;2;0;0;0m██\u001b[38;2;0;0;0m██\u001b[38;2;0;0;0m██\u001b[38;2;0;0;0m██\u001b[38;2;0;0;0m██\u001b[38;2;0;0;0m██\u001b[38;2;0;0;0m██\u001b[38;2;0;0;0m██\u001b[38;2;0;0;0m██\u001b[38;2;0;0;0m██\u001b[38;2;0;0;0m██\u001b[38;2;0;0;0m██\u001b[38;2;17;17;17m██\u001b[38;2;45;45;45m██\u001b[38;2;39;39;39m██\u001b[38;2;14;14;14m██\u001b[38;2;0;0;0m██\u001b[38;2;0;0;0m██\u001b[38;2;0;0;0m██\u001b[38;2;0;0;0m██\u001b[38;2;0;0;0m██\u001b[38;2;0;0;0m██\u001b[38;2;0;0;0m██\u001b[0m\n",
       "\u001b[0m\u001b[38;2;0;0;0m██\u001b[38;2;0;0;0m██\u001b[38;2;0;0;0m██\u001b[38;2;0;0;0m██\u001b[38;2;0;0;0m██\u001b[38;2;0;0;0m██\u001b[38;2;0;0;0m██\u001b[38;2;0;0;0m██\u001b[38;2;0;0;0m██\u001b[38;2;0;0;0m██\u001b[38;2;0;0;0m██\u001b[38;2;0;0;0m██\u001b[38;2;0;0;0m██\u001b[38;2;0;0;0m██\u001b[38;2;0;0;0m██\u001b[38;2;16;16;16m██\u001b[38;2;44;44;44m██\u001b[38;2;39;39;39m██\u001b[38;2;15;15;15m██\u001b[38;2;0;0;0m██\u001b[38;2;0;0;0m██\u001b[38;2;0;0;0m██\u001b[38;2;0;0;0m██\u001b[38;2;0;0;0m██\u001b[38;2;0;0;0m██\u001b[38;2;0;0;0m██\u001b[38;2;0;0;0m██\u001b[38;2;0;0;0m██\u001b[0m\n",
       "\u001b[0m\u001b[38;2;0;0;0m██\u001b[38;2;0;0;0m██\u001b[38;2;0;0;0m██\u001b[38;2;0;0;0m██\u001b[38;2;0;0;0m██\u001b[38;2;0;0;0m██\u001b[38;2;0;0;0m██\u001b[38;2;0;0;0m██\u001b[38;2;0;0;0m██\u001b[38;2;0;0;0m██\u001b[38;2;0;0;0m██\u001b[38;2;0;0;0m██\u001b[38;2;0;0;0m██\u001b[38;2;16;16;16m██\u001b[38;2;45;45;45m██\u001b[38;2;37;37;37m██\u001b[38;2;15;15;15m██\u001b[38;2;2;2;2m██\u001b[38;2;0;0;0m██\u001b[38;2;0;0;0m██\u001b[38;2;0;0;0m██\u001b[38;2;0;0;0m██\u001b[38;2;0;0;0m██\u001b[38;2;0;0;0m██\u001b[38;2;0;0;0m██\u001b[38;2;0;0;0m██\u001b[38;2;0;0;0m██\u001b[38;2;0;0;0m██\u001b[0m\n",
       "\u001b[0m\u001b[38;2;0;0;0m██\u001b[38;2;0;0;0m██\u001b[38;2;31;31;31m██\u001b[38;2;114;114;114m██\u001b[38;2;115;115;115m██\u001b[38;2;69;69;69m██\u001b[38;2;66;66;66m██\u001b[38;2;70;70;70m██\u001b[38;2;64;64;64m██\u001b[38;2;72;72;72m██\u001b[38;2;4;4;4m██\u001b[38;2;1;1;1m██\u001b[38;2;39;39;39m██\u001b[38;2;48;48;48m██\u001b[38;2;25;25;25m██\u001b[38;2;2;2;2m██\u001b[38;2;0;0;0m██\u001b[38;2;0;0;0m██\u001b[38;2;0;0;0m██\u001b[38;2;0;0;0m██\u001b[38;2;0;0;0m██\u001b[38;2;0;0;0m██\u001b[38;2;0;0;0m██\u001b[38;2;0;0;0m██\u001b[38;2;0;0;0m██\u001b[38;2;0;0;0m██\u001b[38;2;0;0;0m██\u001b[38;2;0;0;0m██\u001b[0m\n",
       "\u001b[0m\u001b[38;2;0;0;0m██\u001b[38;2;0;0;0m██\u001b[38;2;40;40;40m██\u001b[38;2;57;57;57m██\u001b[38;2;23;23;23m██\u001b[38;2;11;11;11m██\u001b[38;2;27;27;27m██\u001b[38;2;31;31;31m██\u001b[38;2;46;46;46m██\u001b[38;2;21;21;21m██\u001b[38;2;22;22;22m██\u001b[38;2;27;27;27m██\u001b[38;2;24;24;24m██\u001b[38;2;3;3;3m██\u001b[38;2;0;0;0m██\u001b[38;2;0;0;0m██\u001b[38;2;0;0;0m██\u001b[38;2;0;0;0m██\u001b[38;2;0;0;0m██\u001b[38;2;0;0;0m██\u001b[38;2;0;0;0m██\u001b[38;2;0;0;0m██\u001b[38;2;0;0;0m██\u001b[38;2;0;0;0m██\u001b[38;2;0;0;0m██\u001b[38;2;0;0;0m██\u001b[38;2;0;0;0m██\u001b[38;2;0;0;0m██\u001b[0m\n",
       "\u001b[0m\u001b[38;2;0;0;0m██\u001b[38;2;0;0;0m██\u001b[38;2;0;0;0m██\u001b[38;2;0;0;0m██\u001b[38;2;0;0;0m██\u001b[38;2;0;0;0m██\u001b[38;2;0;0;0m██\u001b[38;2;0;0;0m██\u001b[38;2;0;0;0m██\u001b[38;2;0;0;0m██\u001b[38;2;0;0;0m██\u001b[38;2;0;0;0m██\u001b[38;2;0;0;0m██\u001b[38;2;0;0;0m██\u001b[38;2;0;0;0m██\u001b[38;2;0;0;0m██\u001b[38;2;0;0;0m██\u001b[38;2;0;0;0m██\u001b[38;2;0;0;0m██\u001b[38;2;0;0;0m██\u001b[38;2;0;0;0m██\u001b[38;2;0;0;0m██\u001b[38;2;0;0;0m██\u001b[38;2;0;0;0m██\u001b[38;2;0;0;0m██\u001b[38;2;0;0;0m██\u001b[38;2;0;0;0m██\u001b[38;2;0;0;0m██\u001b[0m"
      ]
     },
     "execution_count": 34,
     "metadata": {},
     "output_type": "execute_result"
    }
   ],
   "source": [
    "convert2image(MNIST,cnn_output[:,:,1,1])"
   ]
  },
  {
   "cell_type": "code",
   "execution_count": null,
   "metadata": {},
   "outputs": [],
   "source": []
  },
  {
   "cell_type": "code",
   "execution_count": null,
   "metadata": {},
   "outputs": [],
   "source": []
  },
  {
   "cell_type": "code",
   "execution_count": null,
   "metadata": {},
   "outputs": [],
   "source": []
  },
  {
   "cell_type": "markdown",
   "metadata": {},
   "source": [
    "#### <span style=\"color:orange\"> try SamePad() </span>"
   ]
  },
  {
   "cell_type": "code",
   "execution_count": 35,
   "metadata": {},
   "outputs": [
    {
     "data": {
      "text/plain": [
       "Conv((5, 5), 1 => 1, pad=2)  \u001b[90m# 26 parameters\u001b[39m"
      ]
     },
     "execution_count": 35,
     "metadata": {},
     "output_type": "execute_result"
    }
   ],
   "source": [
    "cnn_layer3 = Conv( (5,5) , 1 => 1 , pad = SamePad() ) #apply some padding using the SamePad() function helper"
   ]
  },
  {
   "cell_type": "code",
   "execution_count": 36,
   "metadata": {},
   "outputs": [
    {
     "data": {
      "text/plain": [
       "(100, 100, 1, 10)"
      ]
     },
     "execution_count": 36,
     "metadata": {},
     "output_type": "execute_result"
    }
   ],
   "source": [
    "cnn_output3 = cnn_layer3( x )\n",
    "size( cnn_output3 )"
   ]
  },
  {
   "cell_type": "code",
   "execution_count": 37,
   "metadata": {},
   "outputs": [
    {
     "data": {
      "text/plain": [
       "true"
      ]
     },
     "execution_count": 37,
     "metadata": {},
     "output_type": "execute_result"
    }
   ],
   "source": [
    "size( x ) == size( cnn_output3 )"
   ]
  },
  {
   "cell_type": "markdown",
   "metadata": {},
   "source": [
    "<span style=\"color:orange\"> What happens to the size on repeated applications of a filter </span>"
   ]
  },
  {
   "cell_type": "code",
   "execution_count": 38,
   "metadata": {},
   "outputs": [],
   "source": [
    "x = rand(Float32, 100, 100, 1, 10); #batch of monochrome images"
   ]
  },
  {
   "cell_type": "code",
   "execution_count": 39,
   "metadata": {},
   "outputs": [
    {
     "data": {
      "text/plain": [
       "Chain(\n",
       "  Conv((5, 5), 1 => 3),                 \u001b[90m# 78 parameters\u001b[39m\n",
       "  Conv((5, 5), 3 => 5),                 \u001b[90m# 380 parameters\u001b[39m\n",
       "  Conv((5, 5), 5 => 1),                 \u001b[90m# 126 parameters\u001b[39m\n",
       ") \u001b[90m                  # Total: 6 arrays, \u001b[39m584 parameters, 3.336 KiB."
      ]
     },
     "execution_count": 39,
     "metadata": {},
     "output_type": "execute_result"
    }
   ],
   "source": [
    "cnn_layer = Chain( Conv( (5,5) , 1=>3 ) , Conv( (5,5) , 3=>5 ) , Conv( (5,5) , 5=>1 ) ) "
   ]
  },
  {
   "cell_type": "code",
   "execution_count": 40,
   "metadata": {},
   "outputs": [
    {
     "data": {
      "text/plain": [
       "(88, 88, 1, 10)"
      ]
     },
     "execution_count": 40,
     "metadata": {},
     "output_type": "execute_result"
    }
   ],
   "source": [
    "cnn_output = cnn_layer( x )\n",
    "size( cnn_output )"
   ]
  },
  {
   "cell_type": "code",
   "execution_count": 41,
   "metadata": {},
   "outputs": [
    {
     "data": {
      "text/plain": [
       "(16, 16, 1, 3)"
      ]
     },
     "metadata": {},
     "output_type": "display_data"
    },
    {
     "data": {
      "image/png": "[encoded data removed]",
      "text/plain": [
       "\u001b[0m\u001b[38;2;0;0;0m██\u001b[38;2;24;24;24m██\u001b[38;2;70;70;70m██\u001b[38;2;134;134;134m██\u001b[38;2;186;186;186m██\u001b[38;2;122;122;122m██\u001b[38;2;66;66;66m██\u001b[38;2;50;50;50m██\u001b[38;2;81;81;81m██\u001b[38;2;133;133;133m██\u001b[38;2;106;106;106m██\u001b[38;2;49;49;49m██\u001b[38;2;89;89;89m██\u001b[38;2;141;141;141m██\u001b[38;2;87;87;87m██\u001b[38;2;77;77;77m██\u001b[0m\n",
       "\u001b[0m\u001b[38;2;0;0;0m██\u001b[38;2;0;0;0m██\u001b[38;2;35;35;35m██\u001b[38;2;107;107;107m██\u001b[38;2;230;230;230m██\u001b[38;2;227;227;227m██\u001b[38;2;198;198;198m██\u001b[38;2;198;198;198m██\u001b[38;2;165;165;165m██\u001b[38;2;179;179;179m██\u001b[38;2;200;200;200m██\u001b[38;2;178;178;178m██\u001b[38;2;216;216;216m██\u001b[38;2;203;203;203m██\u001b[38;2;112;112;112m██\u001b[38;2;120;120;120m██\u001b[0m\n",
       "\u001b[0m\u001b[38;2;12;12;12m██\u001b[38;2;70;70;70m██\u001b[38;2;45;45;45m██\u001b[38;2;135;135;135m██\u001b[38;2;245;245;245m██\u001b[38;2;255;255;255m██\u001b[38;2;255;255;255m██\u001b[38;2;255;255;255m██\u001b[38;2;255;255;255m██\u001b[38;2;218;218;218m██\u001b[38;2;148;148;148m██\u001b[38;2;151;151;151m██\u001b[38;2;255;255;255m██\u001b[38;2;251;251;251m██\u001b[38;2;176;176;176m██\u001b[38;2;135;135;135m██\u001b[0m\n",
       "\u001b[0m\u001b[38;2;64;64;64m██\u001b[38;2;153;153;153m██\u001b[38;2;168;168;168m██\u001b[38;2;177;177;177m██\u001b[38;2;255;255;255m██\u001b[38;2;255;255;255m██\u001b[38;2;255;255;255m██\u001b[38;2;255;255;255m██\u001b[38;2;255;255;255m██\u001b[38;2;255;255;255m██\u001b[38;2;240;240;240m██\u001b[38;2;122;122;122m██\u001b[38;2;180;180;180m██\u001b[38;2;174;174;174m██\u001b[38;2;212;212;212m██\u001b[38;2;187;187;187m██\u001b[0m\n",
       "\u001b[0m\u001b[38;2;65;65;65m██\u001b[38;2;132;132;132m██\u001b[38;2;230;230;230m██\u001b[38;2;255;255;255m██\u001b[38;2;255;255;255m██\u001b[38;2;255;255;255m██\u001b[38;2;255;255;255m██\u001b[38;2;255;255;255m██\u001b[38;2;255;255;255m██\u001b[38;2;255;255;255m██\u001b[38;2;237;237;237m██\u001b[38;2;164;164;164m██\u001b[38;2;115;115;115m██\u001b[38;2;45;45;45m██\u001b[38;2;84;84;84m██\u001b[38;2;86;86;86m██\u001b[0m\n",
       "\u001b[0m\u001b[38;2;58;58;58m██\u001b[38;2;91;91;91m██\u001b[38;2;176;176;176m██\u001b[38;2;255;255;255m██\u001b[38;2;255;255;255m██\u001b[38;2;255;255;255m██\u001b[38;2;255;255;255m██\u001b[38;2;255;255;255m██\u001b[38;2;255;255;255m██\u001b[38;2;255;255;255m██\u001b[38;2;158;158;158m██\u001b[38;2;69;69;69m██\u001b[38;2;0;0;0m██\u001b[38;2;0;0;0m██\u001b[38;2;0;0;0m██\u001b[38;2;0;0;0m██\u001b[0m\n",
       "\u001b[0m\u001b[38;2;35;35;35m██\u001b[38;2;53;53;53m██\u001b[38;2;60;60;60m██\u001b[38;2;168;168;168m██\u001b[38;2;213;213;213m██\u001b[38;2;187;187;187m██\u001b[38;2;114;114;114m██\u001b[38;2;104;104;104m██\u001b[38;2;198;198;198m██\u001b[38;2;255;255;255m██\u001b[38;2;206;206;206m██\u001b[38;2;40;40;40m██\u001b[38;2;0;0;0m██\u001b[38;2;0;0;0m██\u001b[38;2;0;0;0m██\u001b[38;2;0;0;0m██\u001b[0m\n",
       "\u001b[0m\u001b[38;2;0;0;0m██\u001b[38;2;21;21;21m██\u001b[38;2;0;0;0m██\u001b[38;2;8;8;8m██\u001b[38;2;108;108;108m██\u001b[38;2;174;174;174m██\u001b[38;2;131;131;131m██\u001b[38;2;0;0;0m██\u001b[38;2;0;0;0m██\u001b[38;2;125;125;125m██\u001b[38;2;255;255;255m██\u001b[38;2;206;206;206m██\u001b[38;2;2;2;2m██\u001b[38;2;0;0;0m██\u001b[38;2;0;0;0m██\u001b[38;2;0;0;0m██\u001b[0m\n",
       "\u001b[0m\u001b[38;2;0;0;0m██\u001b[38;2;0;0;0m██\u001b[38;2;0;0;0m██\u001b[38;2;0;0;0m██\u001b[38;2;48;48;48m██\u001b[38;2;143;143;143m██\u001b[38;2;186;186;186m██\u001b[38;2;97;97;97m██\u001b[38;2;0;0;0m██\u001b[38;2;0;0;0m██\u001b[38;2;147;147;147m██\u001b[38;2;255;255;255m██\u001b[38;2;220;220;220m██\u001b[38;2;74;74;74m██\u001b[38;2;0;0;0m██\u001b[38;2;0;0;0m██\u001b[0m\n",
       "\u001b[0m\u001b[38;2;0;0;0m██\u001b[38;2;0;0;0m██\u001b[38;2;17;17;17m██\u001b[38;2;36;36;36m██\u001b[38;2;51;51;51m██\u001b[38;2;121;121;121m██\u001b[38;2;187;187;187m██\u001b[38;2;253;253;253m██\u001b[38;2;211;211;211m██\u001b[38;2;48;48;48m██\u001b[38;2;38;38;38m██\u001b[38;2;117;117;117m██\u001b[38;2;191;191;191m██\u001b[38;2;203;203;203m██\u001b[38;2;73;73;73m██\u001b[38;2;0;0;0m██\u001b[0m\n",
       "\u001b[0m\u001b[38;2;10;10;10m██\u001b[38;2;5;5;5m██\u001b[38;2;0;0;0m██\u001b[38;2;3;3;3m██\u001b[38;2;66;66;66m██\u001b[38;2;132;132;132m██\u001b[38;2;174;174;174m██\u001b[38;2;250;250;250m██\u001b[38;2;255;255;255m██\u001b[38;2;255;255;255m██\u001b[38;2;106;106;106m██\u001b[38;2;0;0;0m██\u001b[38;2;8;8;8m██\u001b[38;2;97;97;97m██\u001b[38;2;174;174;174m██\u001b[38;2;83;83;83m██\u001b[0m\n",
       "\u001b[0m\u001b[38;2;8;8;8m██\u001b[38;2;16;16;16m██\u001b[38;2;3;3;3m██\u001b[38;2;27;27;27m██\u001b[38;2;66;66;66m██\u001b[38;2;117;117;117m██\u001b[38;2;127;127;127m██\u001b[38;2;215;215;215m██\u001b[38;2;255;255;255m██\u001b[38;2;255;255;255m██\u001b[38;2;255;255;255m██\u001b[38;2;93;93;93m██\u001b[38;2;0;0;0m██\u001b[38;2;0;0;0m██\u001b[38;2;100;100;100m██\u001b[38;2;125;125;125m██\u001b[0m\n",
       "\u001b[0m\u001b[38;2;19;19;19m██\u001b[38;2;43;43;43m██\u001b[38;2;57;57;57m██\u001b[38;2;47;47;47m██\u001b[38;2;23;23;23m██\u001b[38;2;68;68;68m██\u001b[38;2;118;118;118m██\u001b[38;2;125;125;125m██\u001b[38;2;144;144;144m██\u001b[38;2;235;235;235m██\u001b[38;2;255;255;255m██\u001b[38;2;239;239;239m██\u001b[38;2;109;109;109m██\u001b[38;2;34;34;34m██\u001b[38;2;74;74;74m██\u001b[38;2;110;110;110m██\u001b[0m\n",
       "\u001b[0m\u001b[38;2;95;95;95m██\u001b[38;2;102;102;102m██\u001b[38;2;81;81;81m██\u001b[38;2;89;89;89m██\u001b[38;2;78;78;78m██\u001b[38;2;0;0;0m██\u001b[38;2;23;23;23m██\u001b[38;2;46;46;46m██\u001b[38;2;103;103;103m██\u001b[38;2;201;201;201m██\u001b[38;2;243;243;243m██\u001b[38;2;255;255;255m██\u001b[38;2;250;250;250m██\u001b[38;2;93;93;93m██\u001b[38;2;49;49;49m██\u001b[38;2;37;37;37m██\u001b[0m\n",
       "\u001b[0m\u001b[38;2;79;79;79m██\u001b[38;2;81;81;81m██\u001b[38;2;77;77;77m██\u001b[38;2;58;58;58m██\u001b[38;2;24;24;24m██\u001b[38;2;35;35;35m██\u001b[38;2;81;81;81m██\u001b[38;2;120;120;120m██\u001b[38;2;141;141;141m██\u001b[38;2;211;211;211m██\u001b[38;2;255;255;255m██\u001b[38;2;255;255;255m██\u001b[38;2;223;223;223m██\u001b[38;2;145;145;145m██\u001b[38;2;56;56;56m██\u001b[38;2;0;0;0m██\u001b[0m\n",
       "\u001b[0m\u001b[38;2;59;59;59m██\u001b[38;2;67;67;67m██\u001b[38;2;44;44;44m██\u001b[38;2;84;84;84m██\u001b[38;2;111;111;111m██\u001b[38;2;134;134;134m██\u001b[38;2;160;160;160m██\u001b[38;2;196;196;196m██\u001b[38;2;230;230;230m██\u001b[38;2;255;255;255m██\u001b[38;2;255;255;255m██\u001b[38;2;255;255;255m██\u001b[38;2;208;208;208m██\u001b[38;2;131;131;131m██\u001b[38;2;29;29;29m██\u001b[38;2;0;0;0m██\u001b[0m"
      ]
     },
     "execution_count": 41,
     "metadata": {},
     "output_type": "execute_result"
    }
   ],
   "source": [
    "cnn_output = cnn_layer(images[:,:,:,1:3])\n",
    "display( cnn_output |> size )\n",
    "convert2image(MNIST,cnn_output[:,:,1,1])"
   ]
  },
  {
   "cell_type": "code",
   "execution_count": null,
   "metadata": {},
   "outputs": [],
   "source": []
  },
  {
   "cell_type": "code",
   "execution_count": 42,
   "metadata": {},
   "outputs": [
    {
     "data": {
      "text/plain": [
       "Chain(\n",
       "  Conv((5, 5), 1 => 3, pad=2),          \u001b[90m# 78 parameters\u001b[39m\n",
       "  Conv((5, 5), 3 => 5, pad=2),          \u001b[90m# 380 parameters\u001b[39m\n",
       "  Conv((5, 5), 5 => 1, pad=2),          \u001b[90m# 126 parameters\u001b[39m\n",
       ") \u001b[90m                  # Total: 6 arrays, \u001b[39m584 parameters, 3.336 KiB."
      ]
     },
     "execution_count": 42,
     "metadata": {},
     "output_type": "execute_result"
    }
   ],
   "source": [
    "cnn_layer_same_pad = Chain( Conv((5,5),1=>3,pad=SamePad()),Conv((5,5),3=>5,pad=SamePad()),Conv((5,5),5=>1,pad=SamePad()) ) "
   ]
  },
  {
   "cell_type": "code",
   "execution_count": 43,
   "metadata": {},
   "outputs": [
    {
     "data": {
      "text/plain": [
       "(100, 100, 1, 10)"
      ]
     },
     "execution_count": 43,
     "metadata": {},
     "output_type": "execute_result"
    }
   ],
   "source": [
    "cnn_layer_same_pad_res = cnn_layer_same_pad( x )\n",
    "size( cnn_layer_same_pad_res )"
   ]
  },
  {
   "cell_type": "code",
   "execution_count": 44,
   "metadata": {},
   "outputs": [
    {
     "data": {
      "text/plain": [
       "(28, 28, 1, 3)"
      ]
     },
     "metadata": {},
     "output_type": "display_data"
    },
    {
     "data": {
      "image/png": "[encoded data removed]",
      "text/plain": [
       "\u001b[0m\u001b[38;2;0;0;0m██\u001b[38;2;0;0;0m██\u001b[38;2;0;0;0m██\u001b[38;2;0;0;0m██\u001b[38;2;0;0;0m██\u001b[38;2;0;0;0m██\u001b[38;2;0;0;0m██\u001b[38;2;0;0;0m██\u001b[38;2;0;0;0m██\u001b[38;2;0;0;0m██\u001b[38;2;0;0;0m██\u001b[38;2;0;0;0m██\u001b[38;2;0;0;0m██\u001b[38;2;0;0;0m██\u001b[38;2;0;0;0m██\u001b[38;2;0;0;0m██\u001b[38;2;0;0;0m██\u001b[38;2;0;0;0m██\u001b[38;2;0;0;0m██\u001b[38;2;0;0;0m██\u001b[38;2;0;0;0m██\u001b[38;2;0;0;0m██\u001b[38;2;7;7;7m██\u001b[38;2;0;0;0m██\u001b[38;2;0;0;0m██\u001b[38;2;0;0;0m██\u001b[38;2;0;0;0m██\u001b[38;2;11;11;11m██\u001b[0m\n",
       "\u001b[0m\u001b[38;2;0;0;0m██\u001b[38;2;0;0;0m██\u001b[38;2;0;0;0m██\u001b[38;2;1;1;1m██\u001b[38;2;2;2;2m██\u001b[38;2;0;0;0m██\u001b[38;2;0;0;0m██\u001b[38;2;0;0;0m██\u001b[38;2;0;0;0m██\u001b[38;2;0;0;0m██\u001b[38;2;0;0;0m██\u001b[38;2;0;0;0m██\u001b[38;2;0;0;0m██\u001b[38;2;0;0;0m██\u001b[38;2;0;0;0m██\u001b[38;2;0;0;0m██\u001b[38;2;0;0;0m██\u001b[38;2;0;0;0m██\u001b[38;2;0;0;0m██\u001b[38;2;0;0;0m██\u001b[38;2;0;0;0m██\u001b[38;2;0;0;0m██\u001b[38;2;13;13;13m██\u001b[38;2;9;9;9m██\u001b[38;2;0;0;0m██\u001b[38;2;0;0;0m██\u001b[38;2;0;0;0m██\u001b[38;2;0;0;0m██\u001b[0m\n",
       "\u001b[0m\u001b[38;2;0;0;0m██\u001b[38;2;0;0;0m██\u001b[38;2;2;2;2m██\u001b[38;2;2;2;2m██\u001b[38;2;0;0;0m██\u001b[38;2;0;0;0m██\u001b[38;2;0;0;0m██\u001b[38;2;0;0;0m██\u001b[38;2;0;0;0m██\u001b[38;2;0;0;0m██\u001b[38;2;0;0;0m██\u001b[38;2;0;0;0m██\u001b[38;2;0;0;0m██\u001b[38;2;0;0;0m██\u001b[38;2;0;0;0m██\u001b[38;2;0;0;0m██\u001b[38;2;0;0;0m██\u001b[38;2;0;0;0m██\u001b[38;2;0;0;0m██\u001b[38;2;0;0;0m██\u001b[38;2;0;0;0m██\u001b[38;2;11;11;11m██\u001b[38;2;29;29;29m██\u001b[38;2;22;22;22m██\u001b[38;2;0;0;0m██\u001b[38;2;0;0;0m██\u001b[38;2;0;0;0m██\u001b[38;2;0;0;0m██\u001b[0m\n",
       "\u001b[0m\u001b[38;2;0;0;0m██\u001b[38;2;0;0;0m██\u001b[38;2;0;0;0m██\u001b[38;2;0;0;0m██\u001b[38;2;0;0;0m██\u001b[38;2;0;0;0m██\u001b[38;2;0;0;0m██\u001b[38;2;0;0;0m██\u001b[38;2;0;0;0m██\u001b[38;2;0;0;0m██\u001b[38;2;0;0;0m██\u001b[38;2;0;0;0m██\u001b[38;2;0;0;0m██\u001b[38;2;4;4;4m██\u001b[38;2;1;1;1m██\u001b[38;2;32;32;32m██\u001b[38;2;37;37;37m██\u001b[38;2;53;53;53m██\u001b[38;2;73;73;73m██\u001b[38;2;57;57;57m██\u001b[38;2;44;44;44m██\u001b[38;2;23;23;23m██\u001b[38;2;16;16;16m██\u001b[38;2;60;60;60m██\u001b[38;2;64;64;64m██\u001b[38;2;53;53;53m██\u001b[38;2;5;5;5m██\u001b[38;2;0;0;0m██\u001b[0m\n",
       "\u001b[0m\u001b[38;2;0;0;0m██\u001b[38;2;0;0;0m██\u001b[38;2;0;0;0m██\u001b[38;2;0;0;0m██\u001b[38;2;0;0;0m██\u001b[38;2;5;5;5m██\u001b[38;2;0;0;0m██\u001b[38;2;5;5;5m██\u001b[38;2;26;26;26m██\u001b[38;2;63;63;63m██\u001b[38;2;72;72;72m██\u001b[38;2;89;89;89m██\u001b[38;2;64;64;64m██\u001b[38;2;70;70;70m██\u001b[38;2;56;56;56m██\u001b[38;2;67;67;67m██\u001b[38;2;63;63;63m██\u001b[38;2;91;91;91m██\u001b[38;2;111;111;111m██\u001b[38;2;101;101;101m██\u001b[38;2;25;25;25m██\u001b[38;2;1;1;1m██\u001b[38;2;7;7;7m██\u001b[38;2;94;94;94m██\u001b[38;2;104;104;104m██\u001b[38;2;71;71;71m██\u001b[38;2;17;17;17m██\u001b[38;2;0;0;0m██\u001b[0m\n",
       "\u001b[0m\u001b[38;2;0;0;0m██\u001b[38;2;1;1;1m██\u001b[38;2;4;4;4m██\u001b[38;2;20;20;20m██\u001b[38;2;13;13;13m██\u001b[38;2;50;50;50m██\u001b[38;2;54;54;54m██\u001b[38;2;32;32;32m██\u001b[38;2;18;18;18m██\u001b[38;2;18;18;18m██\u001b[38;2;55;55;55m██\u001b[38;2;97;97;97m██\u001b[38;2;146;146;146m██\u001b[38;2;133;133;133m██\u001b[38;2;115;115;115m██\u001b[38;2;65;65;65m██\u001b[38;2;34;34;34m██\u001b[38;2;87;87;87m██\u001b[38;2;81;81;81m██\u001b[38;2;134;134;134m██\u001b[38;2;87;87;87m██\u001b[38;2;0;0;0m██\u001b[38;2;0;0;0m██\u001b[38;2;0;0;0m██\u001b[38;2;0;0;0m██\u001b[38;2;37;37;37m██\u001b[38;2;27;27;27m██\u001b[38;2;15;15;15m██\u001b[0m\n",
       "\u001b[0m\u001b[38;2;0;0;0m██\u001b[38;2;1;1;1m██\u001b[38;2;5;5;5m██\u001b[38;2;7;7;7m██\u001b[38;2;0;0;0m██\u001b[38;2;16;16;16m██\u001b[38;2;61;61;61m██\u001b[38;2;46;46;46m██\u001b[38;2;28;28;28m██\u001b[38;2;20;20;20m██\u001b[38;2;75;75;75m██\u001b[38;2;139;139;139m██\u001b[38;2;172;172;172m██\u001b[38;2;166;166;166m██\u001b[38;2;115;115;115m██\u001b[38;2;5;5;5m██\u001b[38;2;0;0;0m██\u001b[38;2;48;48;48m██\u001b[38;2;49;49;49m██\u001b[38;2;109;109;109m██\u001b[38;2;74;74;74m██\u001b[38;2;3;3;3m██\u001b[38;2;0;0;0m██\u001b[38;2;0;0;0m██\u001b[38;2;0;0;0m██\u001b[38;2;47;47;47m██\u001b[38;2;49;49;49m██\u001b[38;2;21;21;21m██\u001b[0m\n",
       "\u001b[0m\u001b[38;2;0;0;0m██\u001b[38;2;1;1;1m██\u001b[38;2;6;6;6m██\u001b[38;2;0;0;0m██\u001b[38;2;0;0;0m██\u001b[38;2;24;24;24m██\u001b[38;2;81;81;81m██\u001b[38;2;119;119;119m██\u001b[38;2;40;40;40m██\u001b[38;2;0;0;0m██\u001b[38;2;0;0;0m██\u001b[38;2;0;0;0m██\u001b[38;2;0;0;0m██\u001b[38;2;86;86;86m██\u001b[38;2;184;184;184m██\u001b[38;2;42;42;42m██\u001b[38;2;0;0;0m██\u001b[38;2;0;0;0m██\u001b[38;2;0;0;0m██\u001b[38;2;61;61;61m██\u001b[38;2;119;119;119m██\u001b[38;2;43;43;43m██\u001b[38;2;0;0;0m██\u001b[38;2;0;0;0m██\u001b[38;2;0;0;0m██\u001b[38;2;26;26;26m██\u001b[38;2;31;31;31m██\u001b[38;2;19;19;19m██\u001b[0m\n",
       "\u001b[0m\u001b[38;2;0;0;0m██\u001b[38;2;1;1;1m██\u001b[38;2;6;6;6m██\u001b[38;2;0;0;0m██\u001b[38;2;0;0;0m██\u001b[38;2;11;11;11m██\u001b[38;2;32;32;32m██\u001b[38;2;99;99;99m██\u001b[38;2;74;74;74m██\u001b[38;2;67;67;67m██\u001b[38;2;0;0;0m██\u001b[38;2;0;0;0m██\u001b[38;2;0;0;0m██\u001b[38;2;27;27;27m██\u001b[38;2;154;154;154m██\u001b[38;2;71;71;71m██\u001b[38;2;2;2;2m██\u001b[38;2;0;0;0m██\u001b[38;2;0;0;0m██\u001b[38;2;0;0;0m██\u001b[38;2;71;71;71m██\u001b[38;2;30;30;30m██\u001b[38;2;0;0;0m██\u001b[38;2;0;0;0m██\u001b[38;2;0;0;0m██\u001b[38;2;0;0;0m██\u001b[38;2;17;17;17m██\u001b[38;2;18;18;18m██\u001b[0m\n",
       "\u001b[0m\u001b[38;2;0;0;0m██\u001b[38;2;0;0;0m██\u001b[38;2;3;3;3m██\u001b[38;2;2;2;2m██\u001b[38;2;0;0;0m██\u001b[38;2;6;6;6m██\u001b[38;2;37;37;37m██\u001b[38;2;66;66;66m██\u001b[38;2;110;110;110m██\u001b[38;2;97;97;97m██\u001b[38;2;43;43;43m██\u001b[38;2;0;0;0m██\u001b[38;2;0;0;0m██\u001b[38;2;0;0;0m██\u001b[38;2;39;39;39m██\u001b[38;2;128;128;128m██\u001b[38;2;130;130;130m██\u001b[38;2;0;0;0m██\u001b[38;2;0;0;0m██\u001b[38;2;0;0;0m██\u001b[38;2;26;26;26m██\u001b[38;2;19;19;19m██\u001b[38;2;7;7;7m██\u001b[38;2;0;0;0m██\u001b[38;2;0;0;0m██\u001b[38;2;0;0;0m██\u001b[38;2;5;5;5m██\u001b[38;2;12;12;12m██\u001b[0m\n",
       "\u001b[0m\u001b[38;2;0;0;0m██\u001b[38;2;0;0;0m██\u001b[38;2;0;0;0m██\u001b[38;2;3;3;3m██\u001b[38;2;5;5;5m██\u001b[38;2;0;0;0m██\u001b[38;2;0;0;0m██\u001b[38;2;0;0;0m██\u001b[38;2;63;63;63m██\u001b[38;2;52;52;52m██\u001b[38;2;94;94;94m██\u001b[38;2;27;27;27m██\u001b[38;2;0;0;0m██\u001b[38;2;0;0;0m██\u001b[38;2;0;0;0m██\u001b[38;2;159;159;159m██\u001b[38;2;159;159;159m██\u001b[38;2;23;23;23m██\u001b[38;2;0;0;0m██\u001b[38;2;0;0;0m██\u001b[38;2;0;0;0m██\u001b[38;2;0;0;0m██\u001b[38;2;9;9;9m██\u001b[38;2;0;0;0m██\u001b[38;2;0;0;0m██\u001b[38;2;0;0;0m██\u001b[38;2;0;0;0m██\u001b[38;2;6;6;6m██\u001b[0m\n",
       "\u001b[0m\u001b[38;2;0;0;0m██\u001b[38;2;0;0;0m██\u001b[38;2;0;0;0m██\u001b[38;2;0;0;0m██\u001b[38;2;13;13;13m██\u001b[38;2;0;0;0m██\u001b[38;2;0;0;0m██\u001b[38;2;28;28;28m██\u001b[38;2;35;35;35m██\u001b[38;2;61;61;61m██\u001b[38;2;113;113;113m██\u001b[38;2;156;156;156m██\u001b[38;2;0;0;0m██\u001b[38;2;0;0;0m██\u001b[38;2;0;0;0m██\u001b[38;2;58;58;58m██\u001b[38;2;156;156;156m██\u001b[38;2;129;129;129m██\u001b[38;2;51;51;51m██\u001b[38;2;0;0;0m██\u001b[38;2;0;0;0m██\u001b[38;2;0;0;0m██\u001b[38;2;0;0;0m██\u001b[38;2;0;0;0m██\u001b[38;2;2;2;2m██\u001b[38;2;0;0;0m██\u001b[38;2;0;0;0m██\u001b[38;2;2;2;2m██\u001b[0m\n",
       "\u001b[0m\u001b[38;2;0;0;0m██\u001b[38;2;0;0;0m██\u001b[38;2;0;0;0m██\u001b[38;2;0;0;0m██\u001b[38;2;4;4;4m██\u001b[38;2;7;7;7m██\u001b[38;2;3;3;3m██\u001b[38;2;24;24;24m██\u001b[38;2;0;0;0m██\u001b[38;2;21;21;21m██\u001b[38;2;89;89;89m██\u001b[38;2;156;156;156m██\u001b[38;2;122;122;122m██\u001b[38;2;0;0;0m██\u001b[38;2;0;0;0m██\u001b[38;2;0;0;0m██\u001b[38;2;85;85;85m██\u001b[38;2;143;143;143m██\u001b[38;2;166;166;166m██\u001b[38;2;95;95;95m██\u001b[38;2;0;0;0m██\u001b[38;2;0;0;0m██\u001b[38;2;0;0;0m██\u001b[38;2;0;0;0m██\u001b[38;2;0;0;0m██\u001b[38;2;4;4;4m██\u001b[38;2;0;0;0m██\u001b[38;2;0;0;0m██\u001b[0m\n",
       "\u001b[0m\u001b[38;2;0;0;0m██\u001b[38;2;0;0;0m██\u001b[38;2;0;0;0m██\u001b[38;2;2;2;2m██\u001b[38;2;0;0;0m██\u001b[38;2;0;0;0m██\u001b[38;2;3;3;3m██\u001b[38;2;38;38;38m██\u001b[38;2;0;0;0m██\u001b[38;2;5;5;5m██\u001b[38;2;69;69;69m██\u001b[38;2;113;113;113m██\u001b[38;2;129;129;129m██\u001b[38;2;19;19;19m██\u001b[38;2;0;0;0m██\u001b[38;2;0;0;0m██\u001b[38;2;0;0;0m██\u001b[38;2;33;33;33m██\u001b[38;2;144;144;144m██\u001b[38;2;170;170;170m██\u001b[38;2;83;83;83m██\u001b[38;2;0;0;0m██\u001b[38;2;0;0;0m██\u001b[38;2;0;0;0m██\u001b[38;2;0;0;0m██\u001b[38;2;0;0;0m██\u001b[38;2;0;0;0m██\u001b[38;2;0;0;0m██\u001b[0m\n",
       "\u001b[0m\u001b[38;2;0;0;0m██\u001b[38;2;0;0;0m██\u001b[38;2;1;1;1m██\u001b[38;2;2;2;2m██\u001b[38;2;1;1;1m██\u001b[38;2;0;0;0m██\u001b[38;2;0;0;0m██\u001b[38;2;11;11;11m██\u001b[38;2;23;23;23m██\u001b[38;2;0;0;0m██\u001b[38;2;9;9;9m██\u001b[38;2;38;38;38m██\u001b[38;2;72;72;72m██\u001b[38;2;52;52;52m██\u001b[38;2;0;0;0m██\u001b[38;2;0;0;0m██\u001b[38;2;0;0;0m██\u001b[38;2;0;0;0m██\u001b[38;2;17;17;17m██\u001b[38;2;133;133;133m██\u001b[38;2;142;142;142m██\u001b[38;2;68;68;68m██\u001b[38;2;12;12;12m██\u001b[38;2;0;0;0m██\u001b[38;2;0;0;0m██\u001b[38;2;0;0;0m██\u001b[38;2;0;0;0m██\u001b[38;2;0;0;0m██\u001b[0m\n",
       "\u001b[0m\u001b[38;2;0;0;0m██\u001b[38;2;0;0;0m██\u001b[38;2;0;0;0m██\u001b[38;2;0;0;0m██\u001b[38;2;1;1;1m██\u001b[38;2;0;0;0m██\u001b[38;2;0;0;0m██\u001b[38;2;0;0;0m██\u001b[38;2;2;2;2m██\u001b[38;2;0;0;0m██\u001b[38;2;0;0;0m██\u001b[38;2;9;9;9m██\u001b[38;2;31;31;31m██\u001b[38;2;43;43;43m██\u001b[38;2;79;79;79m██\u001b[38;2;22;22;22m██\u001b[38;2;0;0;0m██\u001b[38;2;0;0;0m██\u001b[38;2;0;0;0m██\u001b[38;2;0;0;0m██\u001b[38;2;143;143;143m██\u001b[38;2;121;121;121m██\u001b[38;2;74;74;74m██\u001b[38;2;0;0;0m██\u001b[38;2;0;0;0m██\u001b[38;2;0;0;0m██\u001b[38;2;0;0;0m██\u001b[38;2;0;0;0m██\u001b[0m\n",
       "\u001b[0m\u001b[38;2;0;0;0m██\u001b[38;2;0;0;0m██\u001b[38;2;1;1;1m██\u001b[38;2;2;2;2m██\u001b[38;2;1;1;1m██\u001b[38;2;0;0;0m██\u001b[38;2;0;0;0m██\u001b[38;2;0;0;0m██\u001b[38;2;0;0;0m██\u001b[38;2;0;0;0m██\u001b[38;2;0;0;0m██\u001b[38;2;0;0;0m██\u001b[38;2;44;44;44m██\u001b[38;2;44;44;44m██\u001b[38;2;123;123;123m██\u001b[38;2;101;101;101m██\u001b[38;2;61;61;61m██\u001b[38;2;0;0;0m██\u001b[38;2;0;0;0m██\u001b[38;2;0;0;0m██\u001b[38;2;74;74;74m██\u001b[38;2;121;121;121m██\u001b[38;2;94;94;94m██\u001b[38;2;2;2;2m██\u001b[38;2;0;0;0m██\u001b[38;2;0;0;0m██\u001b[38;2;0;0;0m██\u001b[38;2;0;0;0m██\u001b[0m\n",
       "\u001b[0m\u001b[38;2;1;1;1m██\u001b[38;2;2;2;2m██\u001b[38;2;0;0;0m██\u001b[38;2;0;0;0m██\u001b[38;2;0;0;0m██\u001b[38;2;0;0;0m██\u001b[38;2;0;0;0m██\u001b[38;2;0;0;0m██\u001b[38;2;0;0;0m██\u001b[38;2;0;0;0m██\u001b[38;2;0;0;0m██\u001b[38;2;40;40;40m██\u001b[38;2;30;30;30m██\u001b[38;2;73;73;73m██\u001b[38;2;92;92;92m██\u001b[38;2;109;109;109m██\u001b[38;2;196;196;196m██\u001b[38;2;33;33;33m██\u001b[38;2;0;0;0m██\u001b[38;2;0;0;0m██\u001b[38;2;0;0;0m██\u001b[38;2;78;78;78m██\u001b[38;2;121;121;121m██\u001b[38;2;20;20;20m██\u001b[38;2;20;20;20m██\u001b[38;2;0;0;0m██\u001b[38;2;0;0;0m██\u001b[38;2;0;0;0m██\u001b[0m\n",
       "\u001b[0m\u001b[38;2;3;3;3m██\u001b[38;2;0;0;0m██\u001b[38;2;0;0;0m██\u001b[38;2;0;0;0m██\u001b[38;2;0;0;0m██\u001b[38;2;0;0;0m██\u001b[38;2;0;0;0m██\u001b[38;2;0;0;0m██\u001b[38;2;0;0;0m██\u001b[38;2;0;0;0m██\u001b[38;2;45;45;45m██\u001b[38;2;74;74;74m██\u001b[38;2;74;74;74m██\u001b[38;2;60;60;60m██\u001b[38;2;101;101;101m██\u001b[38;2;118;118;118m██\u001b[38;2;144;144;144m██\u001b[38;2;54;54;54m██\u001b[38;2;0;0;0m██\u001b[38;2;0;0;0m██\u001b[38;2;0;0;0m██\u001b[38;2;9;9;9m██\u001b[38;2;97;97;97m██\u001b[38;2;43;43;43m██\u001b[38;2;28;28;28m██\u001b[38;2;2;2;2m██\u001b[38;2;0;0;0m██\u001b[38;2;0;0;0m██\u001b[0m\n",
       "\u001b[0m\u001b[38;2;0;0;0m██\u001b[38;2;0;0;0m██\u001b[38;2;0;0;0m██\u001b[38;2;0;0;0m██\u001b[38;2;0;0;0m██\u001b[38;2;0;0;0m██\u001b[38;2;28;28;28m██\u001b[38;2;43;43;43m██\u001b[38;2;52;52;52m██\u001b[38;2;44;44;44m██\u001b[38;2;46;46;46m██\u001b[38;2;61;61;61m██\u001b[38;2;109;109;109m██\u001b[38;2;137;137;137m██\u001b[38;2;55;55;55m██\u001b[38;2;102;102;102m██\u001b[38;2;58;58;58m██\u001b[38;2;83;83;83m██\u001b[38;2;10;10;10m██\u001b[38;2;0;0;0m██\u001b[38;2;0;0;0m██\u001b[38;2;0;0;0m██\u001b[38;2;72;72;72m██\u001b[38;2;53;53;53m██\u001b[38;2;29;29;29m██\u001b[38;2;0;0;0m██\u001b[38;2;1;1;1m██\u001b[38;2;0;0;0m██\u001b[0m\n",
       "\u001b[0m\u001b[38;2;0;0;0m██\u001b[38;2;0;0;0m██\u001b[38;2;8;8;8m██\u001b[38;2;3;3;3m██\u001b[38;2;26;26;26m██\u001b[38;2;64;64;64m██\u001b[38;2;67;67;67m██\u001b[38;2;71;71;71m██\u001b[38;2;73;73;73m██\u001b[38;2;83;83;83m██\u001b[38;2;105;105;105m██\u001b[38;2;101;101;101m██\u001b[38;2;80;80;80m██\u001b[38;2;109;109;109m██\u001b[38;2;61;61;61m██\u001b[38;2;45;45;45m██\u001b[38;2;32;32;32m██\u001b[38;2;9;9;9m██\u001b[38;2;0;0;0m██\u001b[38;2;0;0;0m██\u001b[38;2;0;0;0m██\u001b[38;2;0;0;0m██\u001b[38;2;41;41;41m██\u001b[38;2;37;37;37m██\u001b[38;2;27;27;27m██\u001b[38;2;0;0;0m██\u001b[38;2;0;0;0m██\u001b[38;2;0;0;0m██\u001b[0m\n",
       "\u001b[0m\u001b[38;2;14;14;14m██\u001b[38;2;26;26;26m██\u001b[38;2;40;40;40m██\u001b[38;2;39;39;39m██\u001b[38;2;46;46;46m██\u001b[38;2;55;55;55m██\u001b[38;2;63;63;63m██\u001b[38;2;98;98;98m██\u001b[38;2;111;111;111m██\u001b[38;2;150;150;150m██\u001b[38;2;129;129;129m██\u001b[38;2;81;81;81m██\u001b[38;2;63;63;63m██\u001b[38;2;47;47;47m██\u001b[38;2;34;34;34m██\u001b[38;2;0;0;0m██\u001b[38;2;0;0;0m██\u001b[38;2;24;24;24m██\u001b[38;2;0;0;0m██\u001b[38;2;0;0;0m██\u001b[38;2;0;0;0m██\u001b[38;2;0;0;0m██\u001b[38;2;6;6;6m██\u001b[38;2;19;19;19m██\u001b[38;2;19;19;19m██\u001b[38;2;0;0;0m██\u001b[38;2;0;0;0m██\u001b[38;2;0;0;0m██\u001b[0m\n",
       "\u001b[0m\u001b[38;2;13;13;13m██\u001b[38;2;13;13;13m██\u001b[38;2;38;38;38m██\u001b[38;2;49;49;49m██\u001b[38;2;40;40;40m██\u001b[38;2;23;23;23m██\u001b[38;2;52;52;52m██\u001b[38;2;81;81;81m██\u001b[38;2;96;96;96m██\u001b[38;2;83;83;83m██\u001b[38;2;81;81;81m██\u001b[38;2;39;39;39m██\u001b[38;2;13;13;13m██\u001b[38;2;0;0;0m██\u001b[38;2;0;0;0m██\u001b[38;2;0;0;0m██\u001b[38;2;0;0;0m██\u001b[38;2;0;0;0m██\u001b[38;2;0;0;0m██\u001b[38;2;0;0;0m██\u001b[38;2;0;0;0m██\u001b[38;2;0;0;0m██\u001b[38;2;0;0;0m██\u001b[38;2;10;10;10m██\u001b[38;2;14;14;14m██\u001b[38;2;0;0;0m██\u001b[38;2;0;0;0m██\u001b[38;2;0;0;0m██\u001b[0m\n",
       "\u001b[0m\u001b[38;2;0;0;0m██\u001b[38;2;0;0;0m██\u001b[38;2;3;3;3m██\u001b[38;2;24;24;24m██\u001b[38;2;40;40;40m██\u001b[38;2;3;3;3m██\u001b[38;2;0;0;0m██\u001b[38;2;4;4;4m██\u001b[38;2;30;30;30m██\u001b[38;2;0;0;0m██\u001b[38;2;0;0;0m██\u001b[38;2;0;0;0m██\u001b[38;2;0;0;0m██\u001b[38;2;0;0;0m██\u001b[38;2;0;0;0m██\u001b[38;2;0;0;0m██\u001b[38;2;1;1;1m██\u001b[38;2;0;0;0m██\u001b[38;2;0;0;0m██\u001b[38;2;0;0;0m██\u001b[38;2;0;0;0m██\u001b[38;2;0;0;0m██\u001b[38;2;0;0;0m██\u001b[38;2;2;2;2m██\u001b[38;2;5;5;5m██\u001b[38;2;0;0;0m██\u001b[38;2;0;0;0m██\u001b[38;2;0;0;0m██\u001b[0m\n",
       "\u001b[0m\u001b[38;2;0;0;0m██\u001b[38;2;26;26;26m██\u001b[38;2;36;36;36m██\u001b[38;2;76;76;76m██\u001b[38;2;90;90;90m██\u001b[38;2;60;60;60m██\u001b[38;2;4;4;4m██\u001b[38;2;0;0;0m██\u001b[38;2;0;0;0m██\u001b[38;2;0;0;0m██\u001b[38;2;0;0;0m██\u001b[38;2;0;0;0m██\u001b[38;2;0;0;0m██\u001b[38;2;0;0;0m██\u001b[38;2;0;0;0m██\u001b[38;2;0;0;0m██\u001b[38;2;0;0;0m██\u001b[38;2;0;0;0m██\u001b[38;2;0;0;0m██\u001b[38;2;0;0;0m██\u001b[38;2;2;2;2m██\u001b[38;2;0;0;0m██\u001b[38;2;0;0;0m██\u001b[38;2;0;0;0m██\u001b[38;2;3;3;3m██\u001b[38;2;0;0;0m██\u001b[38;2;0;0;0m██\u001b[38;2;0;0;0m██\u001b[0m\n",
       "\u001b[0m\u001b[38;2;0;0;0m██\u001b[38;2;0;0;0m██\u001b[38;2;0;0;0m██\u001b[38;2;10;10;10m██\u001b[38;2;27;27;27m██\u001b[38;2;26;26;26m██\u001b[38;2;0;0;0m██\u001b[38;2;0;0;0m██\u001b[38;2;0;0;0m██\u001b[38;2;4;4;4m██\u001b[38;2;5;5;5m██\u001b[38;2;0;0;0m██\u001b[38;2;0;0;0m██\u001b[38;2;0;0;0m██\u001b[38;2;0;0;0m██\u001b[38;2;0;0;0m██\u001b[38;2;0;0;0m██\u001b[38;2;3;3;3m██\u001b[38;2;5;5;5m██\u001b[38;2;1;1;1m██\u001b[38;2;0;0;0m██\u001b[38;2;0;0;0m██\u001b[38;2;0;0;0m██\u001b[38;2;0;0;0m██\u001b[38;2;0;0;0m██\u001b[38;2;0;0;0m██\u001b[38;2;0;0;0m██\u001b[38;2;0;0;0m██\u001b[0m\n",
       "\u001b[0m\u001b[38;2;10;10;10m██\u001b[38;2;0;0;0m██\u001b[38;2;0;0;0m██\u001b[38;2;19;19;19m██\u001b[38;2;26;26;26m██\u001b[38;2;37;37;37m██\u001b[38;2;14;14;14m██\u001b[38;2;0;0;0m██\u001b[38;2;0;0;0m██\u001b[38;2;0;0;0m██\u001b[38;2;0;0;0m██\u001b[38;2;0;0;0m██\u001b[38;2;0;0;0m██\u001b[38;2;0;0;0m██\u001b[38;2;0;0;0m██\u001b[38;2;0;0;0m██\u001b[38;2;8;8;8m██\u001b[38;2;4;4;4m██\u001b[38;2;0;0;0m██\u001b[38;2;0;0;0m██\u001b[38;2;0;0;0m██\u001b[38;2;0;0;0m██\u001b[38;2;0;0;0m██\u001b[38;2;0;0;0m██\u001b[38;2;0;0;0m██\u001b[38;2;0;0;0m██\u001b[38;2;0;0;0m██\u001b[38;2;0;0;0m██\u001b[0m\n",
       "\u001b[0m\u001b[38;2;5;5;5m██\u001b[38;2;0;0;0m██\u001b[38;2;0;0;0m██\u001b[38;2;0;0;0m██\u001b[38;2;14;14;14m██\u001b[38;2;24;24;24m██\u001b[38;2;29;29;29m██\u001b[38;2;0;0;0m██\u001b[38;2;8;8;8m██\u001b[38;2;9;9;9m██\u001b[38;2;1;1;1m██\u001b[38;2;0;0;0m██\u001b[38;2;0;0;0m██\u001b[38;2;0;0;0m██\u001b[38;2;2;2;2m██\u001b[38;2;1;1;1m██\u001b[38;2;0;0;0m██\u001b[38;2;0;0;0m██\u001b[38;2;0;0;0m██\u001b[38;2;0;0;0m██\u001b[38;2;0;0;0m██\u001b[38;2;0;0;0m██\u001b[38;2;0;0;0m██\u001b[38;2;0;0;0m██\u001b[38;2;0;0;0m██\u001b[38;2;0;0;0m██\u001b[38;2;0;0;0m██\u001b[38;2;0;0;0m██\u001b[0m"
      ]
     },
     "execution_count": 44,
     "metadata": {},
     "output_type": "execute_result"
    }
   ],
   "source": [
    "cnn_output = cnn_layer_same_pad(images[:,:,:,1:3])\n",
    "display( cnn_output |> size )\n",
    "convert2image(MNIST,cnn_output[:,:,1,1])"
   ]
  },
  {
   "cell_type": "code",
   "execution_count": 45,
   "metadata": {},
   "outputs": [
    {
     "data": {
      "text/plain": [
       "(100, 100, 8, 10)"
      ]
     },
     "execution_count": 45,
     "metadata": {},
     "output_type": "execute_result"
    }
   ],
   "source": [
    "cnn_layer_same_pad2 = Chain( Conv((5,5),1=>3,pad=SamePad()),Conv((5,5),3=>5,pad=SamePad()),Conv((5,5),5=>8,pad=SamePad()) ) \n",
    "cnn_layer_same_pad_res = cnn_layer_same_pad2( x )\n",
    "size( cnn_layer_same_pad_res )"
   ]
  },
  {
   "cell_type": "code",
   "execution_count": 46,
   "metadata": {},
   "outputs": [
    {
     "data": {
      "text/plain": [
       "(28, 28, 8, 3)"
      ]
     },
     "metadata": {},
     "output_type": "display_data"
    },
    {
     "data": {
      "image/png": "[encoded data removed]",
      "text/plain": [
       "\u001b[0m\u001b[38;2;0;0;0m██\u001b[38;2;0;0;0m██\u001b[38;2;0;0;0m██\u001b[38;2;0;0;0m██\u001b[38;2;1;1;1m██\u001b[38;2;2;2;2m██\u001b[38;2;4;4;4m██\u001b[38;2;7;7;7m██\u001b[38;2;12;12;12m██\u001b[38;2;17;17;17m██\u001b[38;2;24;24;24m██\u001b[38;2;31;31;31m██\u001b[38;2;39;39;39m██\u001b[38;2;40;40;40m██\u001b[38;2;49;49;49m██\u001b[38;2;57;57;57m██\u001b[38;2;61;61;61m██\u001b[38;2;54;54;54m██\u001b[38;2;46;46;46m██\u001b[38;2;67;67;67m██\u001b[38;2;55;55;55m██\u001b[38;2;54;54;54m██\u001b[38;2;34;34;34m██\u001b[38;2;27;27;27m██\u001b[38;2;19;19;19m██\u001b[38;2;7;7;7m██\u001b[38;2;6;6;6m██\u001b[38;2;4;4;4m██\u001b[0m\n",
       "\u001b[0m\u001b[38;2;0;0;0m██\u001b[38;2;0;0;0m██\u001b[38;2;0;0;0m██\u001b[38;2;2;2;2m██\u001b[38;2;6;6;6m██\u001b[38;2;9;9;9m██\u001b[38;2;17;17;17m██\u001b[38;2;26;26;26m██\u001b[38;2;34;34;34m██\u001b[38;2;47;47;47m██\u001b[38;2;53;53;53m██\u001b[38;2;61;61;61m██\u001b[38;2;69;69;69m██\u001b[38;2;70;70;70m██\u001b[38;2;72;72;72m██\u001b[38;2;74;74;74m██\u001b[38;2;61;61;61m██\u001b[38;2;57;57;57m██\u001b[38;2;52;52;52m██\u001b[38;2;66;66;66m██\u001b[38;2;45;45;45m██\u001b[38;2;32;32;32m██\u001b[38;2;17;17;17m██\u001b[38;2;21;21;21m██\u001b[38;2;19;19;19m██\u001b[38;2;9;9;9m██\u001b[38;2;7;7;7m██\u001b[38;2;6;6;6m██\u001b[0m\n",
       "\u001b[0m\u001b[38;2;0;0;0m██\u001b[38;2;0;0;0m██\u001b[38;2;0;0;0m██\u001b[38;2;1;1;1m██\u001b[38;2;1;1;1m██\u001b[38;2;3;3;3m██\u001b[38;2;22;22;22m██\u001b[38;2;42;42;42m██\u001b[38;2;47;47;47m██\u001b[38;2;63;63;63m██\u001b[38;2;72;72;72m██\u001b[38;2;76;76;76m██\u001b[38;2;84;84;84m██\u001b[38;2;87;87;87m██\u001b[38;2;85;85;85m██\u001b[38;2;93;93;93m██\u001b[38;2;84;84;84m██\u001b[38;2;91;91;91m██\u001b[38;2;100;100;100m██\u001b[38;2;80;80;80m██\u001b[38;2;64;64;64m██\u001b[38;2;48;48;48m██\u001b[38;2;79;79;79m██\u001b[38;2;85;85;85m██\u001b[38;2;52;52;52m██\u001b[38;2;29;29;29m██\u001b[38;2;8;8;8m██\u001b[38;2;11;11;11m██\u001b[0m\n",
       "\u001b[0m\u001b[38;2;0;0;0m██\u001b[38;2;0;0;0m██\u001b[38;2;0;0;0m██\u001b[38;2;0;0;0m██\u001b[38;2;3;3;3m██\u001b[38;2;8;8;8m██\u001b[38;2;24;24;24m██\u001b[38;2;50;50;50m██\u001b[38;2;47;47;47m██\u001b[38;2;68;68;68m██\u001b[38;2;86;86;86m██\u001b[38;2;100;100;100m██\u001b[38;2;114;114;114m██\u001b[38;2;120;120;120m██\u001b[38;2;121;121;121m██\u001b[38;2;139;139;139m██\u001b[38;2;130;130;130m██\u001b[38;2;122;122;122m██\u001b[38;2;100;100;100m██\u001b[38;2;73;73;73m██\u001b[38;2;61;61;61m██\u001b[38;2;79;79;79m██\u001b[38;2;77;77;77m██\u001b[38;2;58;58;58m██\u001b[38;2;13;13;13m██\u001b[38;2;4;4;4m██\u001b[38;2;1;1;1m██\u001b[38;2;4;4;4m██\u001b[0m\n",
       "\u001b[0m\u001b[38;2;0;0;0m██\u001b[38;2;0;0;0m██\u001b[38;2;0;0;0m██\u001b[38;2;6;6;6m██\u001b[38;2;13;13;13m██\u001b[38;2;20;20;20m██\u001b[38;2;16;16;16m██\u001b[38;2;44;44;44m██\u001b[38;2;42;42;42m██\u001b[38;2;78;78;78m██\u001b[38;2;136;136;136m██\u001b[38;2;133;133;133m██\u001b[38;2;133;133;133m██\u001b[38;2;122;122;122m██\u001b[38;2;113;113;113m██\u001b[38;2;103;103;103m██\u001b[38;2;120;120;120m██\u001b[38;2;83;83;83m██\u001b[38;2;72;72;72m██\u001b[38;2;51;51;51m██\u001b[38;2;39;39;39m██\u001b[38;2;36;36;36m██\u001b[38;2;25;25;25m██\u001b[38;2;0;0;0m██\u001b[38;2;4;4;4m██\u001b[38;2;25;25;25m██\u001b[38;2;30;30;30m██\u001b[38;2;28;28;28m██\u001b[0m\n",
       "\u001b[0m\u001b[38;2;0;0;0m██\u001b[38;2;0;0;0m██\u001b[38;2;0;0;0m██\u001b[38;2;8;8;8m██\u001b[38;2;20;20;20m██\u001b[38;2;22;22;22m██\u001b[38;2;14;14;14m██\u001b[38;2;40;40;40m██\u001b[38;2;62;62;62m██\u001b[38;2;80;80;80m██\u001b[38;2;140;140;140m██\u001b[38;2;116;116;116m██\u001b[38;2;111;111;111m██\u001b[38;2;114;114;114m██\u001b[38;2;98;98;98m██\u001b[38;2;87;87;87m██\u001b[38;2;113;113;113m██\u001b[38;2;65;65;65m██\u001b[38;2;73;73;73m██\u001b[38;2;50;50;50m██\u001b[38;2;38;38;38m██\u001b[38;2;13;13;13m██\u001b[38;2;11;11;11m██\u001b[38;2;0;0;0m██\u001b[38;2;26;26;26m██\u001b[38;2;38;38;38m██\u001b[38;2;24;24;24m██\u001b[38;2;15;15;15m██\u001b[0m\n",
       "\u001b[0m\u001b[38;2;0;0;0m██\u001b[38;2;0;0;0m██\u001b[38;2;3;3;3m██\u001b[38;2;17;17;17m██\u001b[38;2;32;32;32m██\u001b[38;2;23;23;23m██\u001b[38;2;14;14;14m██\u001b[38;2;34;34;34m██\u001b[38;2;45;45;45m██\u001b[38;2;35;35;35m██\u001b[38;2;51;51;51m██\u001b[38;2;70;70;70m██\u001b[38;2;75;75;75m██\u001b[38;2;109;109;109m██\u001b[38;2;69;69;69m██\u001b[38;2;24;24;24m██\u001b[38;2;47;47;47m██\u001b[38;2;15;15;15m██\u001b[38;2;34;34;34m██\u001b[38;2;31;31;31m██\u001b[38;2;11;11;11m██\u001b[38;2;19;19;19m██\u001b[38;2;19;19;19m██\u001b[38;2;14;14;14m██\u001b[38;2;14;14;14m██\u001b[38;2;0;0;0m██\u001b[38;2;0;0;0m██\u001b[38;2;0;0;0m██\u001b[0m\n",
       "\u001b[0m\u001b[38;2;0;0;0m██\u001b[38;2;0;0;0m██\u001b[38;2;0;0;0m██\u001b[38;2;7;7;7m██\u001b[38;2;18;18;18m██\u001b[38;2;0;0;0m██\u001b[38;2;5;5;5m██\u001b[38;2;26;26;26m██\u001b[38;2;31;31;31m██\u001b[38;2;0;0;0m██\u001b[38;2;0;0;0m██\u001b[38;2;45;45;45m██\u001b[38;2;75;75;75m██\u001b[38;2;76;76;76m██\u001b[38;2;60;60;60m██\u001b[38;2;22;22;22m██\u001b[38;2;65;65;65m██\u001b[38;2;36;36;36m██\u001b[38;2;12;12;12m██\u001b[38;2;0;0;0m██\u001b[38;2;15;15;15m██\u001b[38;2;45;45;45m██\u001b[38;2;47;47;47m██\u001b[38;2;11;11;11m██\u001b[38;2;0;0;0m██\u001b[38;2;0;0;0m██\u001b[38;2;0;0;0m██\u001b[38;2;0;0;0m██\u001b[0m\n",
       "\u001b[0m\u001b[38;2;0;0;0m██\u001b[38;2;0;0;0m██\u001b[38;2;0;0;0m██\u001b[38;2;0;0;0m██\u001b[38;2;8;8;8m██\u001b[38;2;0;0;0m██\u001b[38;2;0;0;0m██\u001b[38;2;20;20;20m██\u001b[38;2;33;33;33m██\u001b[38;2;0;0;0m██\u001b[38;2;0;0;0m██\u001b[38;2;43;43;43m██\u001b[38;2;63;63;63m██\u001b[38;2;49;49;49m██\u001b[38;2;79;79;79m██\u001b[38;2;107;107;107m██\u001b[38;2;75;75;75m██\u001b[38;2;32;32;32m██\u001b[38;2;0;0;0m██\u001b[38;2;4;4;4m██\u001b[38;2;27;27;27m██\u001b[38;2;8;8;8m██\u001b[38;2;0;0;0m██\u001b[38;2;0;0;0m██\u001b[38;2;0;0;0m██\u001b[38;2;0;0;0m██\u001b[38;2;0;0;0m██\u001b[38;2;0;0;0m██\u001b[0m\n",
       "\u001b[0m\u001b[38;2;0;0;0m██\u001b[38;2;0;0;0m██\u001b[38;2;0;0;0m██\u001b[38;2;0;0;0m██\u001b[38;2;2;2;2m██\u001b[38;2;0;0;0m██\u001b[38;2;0;0;0m██\u001b[38;2;5;5;5m██\u001b[38;2;38;38;38m██\u001b[38;2;26;26;26m██\u001b[38;2;14;14;14m██\u001b[38;2;52;52;52m██\u001b[38;2;36;36;36m██\u001b[38;2;30;30;30m██\u001b[38;2;41;41;41m██\u001b[38;2;108;108;108m██\u001b[38;2;70;70;70m██\u001b[38;2;67;67;67m██\u001b[38;2;14;14;14m██\u001b[38;2;22;22;22m██\u001b[38;2;0;0;0m██\u001b[38;2;0;0;0m██\u001b[38;2;0;0;0m██\u001b[38;2;0;0;0m██\u001b[38;2;0;0;0m██\u001b[38;2;0;0;0m██\u001b[38;2;0;0;0m██\u001b[38;2;0;0;0m██\u001b[0m\n",
       "\u001b[0m\u001b[38;2;0;0;0m██\u001b[38;2;0;0;0m██\u001b[38;2;0;0;0m██\u001b[38;2;0;0;0m██\u001b[38;2;4;4;4m██\u001b[38;2;0;0;0m██\u001b[38;2;0;0;0m██\u001b[38;2;57;57;57m██\u001b[38;2;72;72;72m██\u001b[38;2;54;54;54m██\u001b[38;2;31;31;31m██\u001b[38;2;54;54;54m██\u001b[38;2;47;47;47m██\u001b[38;2;26;26;26m██\u001b[38;2;26;26;26m██\u001b[38;2;88;88;88m██\u001b[38;2;96;96;96m██\u001b[38;2;73;73;73m██\u001b[38;2;52;52;52m██\u001b[38;2;1;1;1m██\u001b[38;2;0;0;0m██\u001b[38;2;0;0;0m██\u001b[38;2;0;0;0m██\u001b[38;2;0;0;0m██\u001b[38;2;0;0;0m██\u001b[38;2;0;0;0m██\u001b[38;2;0;0;0m██\u001b[38;2;0;0;0m██\u001b[0m\n",
       "\u001b[0m\u001b[38;2;0;0;0m██\u001b[38;2;0;0;0m██\u001b[38;2;0;0;0m██\u001b[38;2;2;2;2m██\u001b[38;2;24;24;24m██\u001b[38;2;26;26;26m██\u001b[38;2;27;27;27m██\u001b[38;2;74;74;74m██\u001b[38;2;78;78;78m██\u001b[38;2;14;14;14m██\u001b[38;2;16;16;16m██\u001b[38;2;62;62;62m██\u001b[38;2;76;76;76m██\u001b[38;2;0;0;0m██\u001b[38;2;0;0;0m██\u001b[38;2;21;21;21m██\u001b[38;2;51;51;51m██\u001b[38;2;46;46;46m██\u001b[38;2;53;53;53m██\u001b[38;2;35;35;35m██\u001b[38;2;10;10;10m██\u001b[38;2;0;0;0m██\u001b[38;2;0;0;0m██\u001b[38;2;0;0;0m██\u001b[38;2;0;0;0m██\u001b[38;2;0;0;0m██\u001b[38;2;0;0;0m██\u001b[38;2;0;0;0m██\u001b[0m\n",
       "\u001b[0m\u001b[38;2;0;0;0m██\u001b[38;2;1;1;1m██\u001b[38;2;3;3;3m██\u001b[38;2;3;3;3m██\u001b[38;2;21;21;21m██\u001b[38;2;31;31;31m██\u001b[38;2;24;24;24m██\u001b[38;2;54;54;54m██\u001b[38;2;62;62;62m██\u001b[38;2;19;19;19m██\u001b[38;2;18;18;18m██\u001b[38;2;79;79;79m██\u001b[38;2;66;66;66m██\u001b[38;2;0;0;0m██\u001b[38;2;0;0;0m██\u001b[38;2;17;17;17m██\u001b[38;2;42;42;42m██\u001b[38;2;45;45;45m██\u001b[38;2;68;68;68m██\u001b[38;2;94;94;94m██\u001b[38;2;69;69;69m██\u001b[38;2;20;20;20m██\u001b[38;2;0;0;0m██\u001b[38;2;3;3;3m██\u001b[38;2;6;6;6m██\u001b[38;2;7;7;7m██\u001b[38;2;1;1;1m██\u001b[38;2;0;0;0m██\u001b[0m\n",
       "\u001b[0m\u001b[38;2;0;0;0m██\u001b[38;2;0;0;0m██\u001b[38;2;3;3;3m██\u001b[38;2;3;3;3m██\u001b[38;2;10;10;10m██\u001b[38;2;21;21;21m██\u001b[38;2;11;11;11m██\u001b[38;2;19;19;19m██\u001b[38;2;43;43;43m██\u001b[38;2;26;26;26m██\u001b[38;2;14;14;14m██\u001b[38;2;51;51;51m██\u001b[38;2;55;55;55m██\u001b[38;2;44;44;44m██\u001b[38;2;15;15;15m██\u001b[38;2;26;26;26m██\u001b[38;2;34;34;34m██\u001b[38;2;3;3;3m██\u001b[38;2;79;79;79m██\u001b[38;2;107;107;107m██\u001b[38;2;114;114;114m██\u001b[38;2;59;59;59m██\u001b[38;2;21;21;21m██\u001b[38;2;19;19;19m██\u001b[38;2;12;12;12m██\u001b[38;2;1;1;1m██\u001b[38;2;1;1;1m██\u001b[38;2;0;0;0m██\u001b[0m\n",
       "\u001b[0m\u001b[38;2;0;0;0m██\u001b[38;2;0;0;0m██\u001b[38;2;2;2;2m██\u001b[38;2;1;1;1m██\u001b[38;2;2;2;2m██\u001b[38;2;4;4;4m██\u001b[38;2;1;1;1m██\u001b[38;2;8;8;8m██\u001b[38;2;29;29;29m██\u001b[38;2;33;33;33m██\u001b[38;2;13;13;13m██\u001b[38;2;43;43;43m██\u001b[38;2;64;64;64m██\u001b[38;2;72;72;72m██\u001b[38;2;85;85;85m██\u001b[38;2;39;39;39m██\u001b[38;2;39;39;39m██\u001b[38;2;2;2;2m██\u001b[38;2;37;37;37m██\u001b[38;2;82;82;82m██\u001b[38;2;83;83;83m██\u001b[38;2;75;75;75m██\u001b[38;2;53;53;53m██\u001b[38;2;16;16;16m██\u001b[38;2;23;23;23m██\u001b[38;2;0;0;0m██\u001b[38;2;0;0;0m██\u001b[38;2;0;0;0m██\u001b[0m\n",
       "\u001b[0m\u001b[38;2;0;0;0m██\u001b[38;2;0;0;0m██\u001b[38;2;0;0;0m██\u001b[38;2;1;1;1m██\u001b[38;2;1;1;1m██\u001b[38;2;6;6;6m██\u001b[38;2;8;8;8m██\u001b[38;2;17;17;17m██\u001b[38;2;37;37;37m██\u001b[38;2;49;49;49m██\u001b[38;2;54;54;54m██\u001b[38;2;66;66;66m██\u001b[38;2;76;76;76m██\u001b[38;2;65;65;65m██\u001b[38;2;87;87;87m██\u001b[38;2;97;97;97m██\u001b[38;2;88;88;88m██\u001b[38;2;46;46;46m██\u001b[38;2;27;27;27m██\u001b[38;2;26;26;26m██\u001b[38;2;47;47;47m██\u001b[38;2;41;41;41m██\u001b[38;2;38;38;38m██\u001b[38;2;36;36;36m██\u001b[38;2;26;26;26m██\u001b[38;2;0;0;0m██\u001b[38;2;0;0;0m██\u001b[38;2;0;0;0m██\u001b[0m\n",
       "\u001b[0m\u001b[38;2;0;0;0m██\u001b[38;2;0;0;0m██\u001b[38;2;2;2;2m██\u001b[38;2;4;4;4m██\u001b[38;2;8;8;8m██\u001b[38;2;14;14;14m██\u001b[38;2;23;23;23m██\u001b[38;2;30;30;30m██\u001b[38;2;61;61;61m██\u001b[38;2;98;98;98m██\u001b[38;2;89;89;89m██\u001b[38;2;86;86;86m██\u001b[38;2;89;89;89m██\u001b[38;2;82;82;82m██\u001b[38;2;66;66;66m██\u001b[38;2;107;107;107m██\u001b[38;2;108;108;108m██\u001b[38;2;86;86;86m██\u001b[38;2;50;50;50m██\u001b[38;2;5;5;5m██\u001b[38;2;0;0;0m██\u001b[38;2;23;23;23m██\u001b[38;2;12;12;12m██\u001b[38;2;41;41;41m██\u001b[38;2;31;31;31m██\u001b[38;2;0;0;0m██\u001b[38;2;1;1;1m██\u001b[38;2;0;0;0m██\u001b[0m\n",
       "\u001b[0m\u001b[38;2;2;2;2m██\u001b[38;2;5;5;5m██\u001b[38;2;9;9;9m██\u001b[38;2;14;14;14m██\u001b[38;2;17;17;17m██\u001b[38;2;35;35;35m██\u001b[38;2;55;55;55m██\u001b[38;2;71;71;71m██\u001b[38;2;86;86;86m██\u001b[38;2;109;109;109m██\u001b[38;2;121;121;121m██\u001b[38;2;110;110;110m██\u001b[38;2;119;119;119m██\u001b[38;2;126;126;126m██\u001b[38;2;83;83;83m██\u001b[38;2;58;58;58m██\u001b[38;2;57;57;57m██\u001b[38;2;89;89;89m██\u001b[38;2;40;40;40m██\u001b[38;2;0;0;0m██\u001b[38;2;0;0;0m██\u001b[38;2;0;0;0m██\u001b[38;2;3;3;3m██\u001b[38;2;2;2;2m██\u001b[38;2;19;19;19m██\u001b[38;2;5;5;5m██\u001b[38;2;0;0;0m██\u001b[38;2;0;0;0m██\u001b[0m\n",
       "\u001b[0m\u001b[38;2;3;3;3m██\u001b[38;2;4;4;4m██\u001b[38;2;8;8;8m██\u001b[38;2;24;24;24m██\u001b[38;2;46;46;46m██\u001b[38;2;57;57;57m██\u001b[38;2;78;78;78m██\u001b[38;2;84;84;84m██\u001b[38;2;86;86;86m██\u001b[38;2;99;99;99m██\u001b[38;2;121;121;121m██\u001b[38;2;120;120;120m██\u001b[38;2;142;142;142m██\u001b[38;2;136;136;136m██\u001b[38;2;88;88;88m██\u001b[38;2;54;54;54m██\u001b[38;2;9;9;9m██\u001b[38;2;44;44;44m██\u001b[38;2;10;10;10m██\u001b[38;2;0;0;0m██\u001b[38;2;2;2;2m██\u001b[38;2;0;0;0m██\u001b[38;2;0;0;0m██\u001b[38;2;0;0;0m██\u001b[38;2;5;5;5m██\u001b[38;2;9;9;9m██\u001b[38;2;3;3;3m██\u001b[38;2;0;0;0m██\u001b[0m\n",
       "\u001b[0m\u001b[38;2;0;0;0m██\u001b[38;2;0;0;0m██\u001b[38;2;6;6;6m██\u001b[38;2;28;28;28m██\u001b[38;2;35;35;35m██\u001b[38;2;37;37;37m██\u001b[38;2;55;55;55m██\u001b[38;2;62;62;62m██\u001b[38;2;78;78;78m██\u001b[38;2;102;102;102m██\u001b[38;2;98;98;98m██\u001b[38;2;111;111;111m██\u001b[38;2;107;107;107m██\u001b[38;2;102;102;102m██\u001b[38;2;60;60;60m██\u001b[38;2;26;26;26m██\u001b[38;2;0;0;0m██\u001b[38;2;35;35;35m██\u001b[38;2;34;34;34m██\u001b[38;2;1;1;1m██\u001b[38;2;0;0;0m██\u001b[38;2;0;0;0m██\u001b[38;2;0;0;0m██\u001b[38;2;0;0;0m██\u001b[38;2;0;0;0m██\u001b[38;2;3;3;3m██\u001b[38;2;0;0;0m██\u001b[38;2;0;0;0m██\u001b[0m\n",
       "\u001b[0m\u001b[38;2;4;4;4m██\u001b[38;2;14;14;14m██\u001b[38;2;22;22;22m██\u001b[38;2;29;29;29m██\u001b[38;2;33;33;33m██\u001b[38;2;36;36;36m██\u001b[38;2;67;67;67m██\u001b[38;2;94;94;94m██\u001b[38;2;87;87;87m██\u001b[38;2;87;87;87m██\u001b[38;2;79;79;79m██\u001b[38;2;58;58;58m██\u001b[38;2;45;45;45m██\u001b[38;2;41;41;41m██\u001b[38;2;38;38;38m██\u001b[38;2;44;44;44m██\u001b[38;2;70;70;70m██\u001b[38;2;64;64;64m██\u001b[38;2;14;14;14m██\u001b[38;2;0;0;0m██\u001b[38;2;0;0;0m██\u001b[38;2;0;0;0m██\u001b[38;2;0;0;0m██\u001b[38;2;0;0;0m██\u001b[38;2;0;0;0m██\u001b[38;2;0;0;0m██\u001b[38;2;0;0;0m██\u001b[38;2;0;0;0m██\u001b[0m\n",
       "\u001b[0m\u001b[38;2;11;11;11m██\u001b[38;2;21;21;21m██\u001b[38;2;20;20;20m██\u001b[38;2;22;22;22m██\u001b[38;2;31;31;31m██\u001b[38;2;42;42;42m██\u001b[38;2;77;77;77m██\u001b[38;2;74;74;74m██\u001b[38;2;49;49;49m██\u001b[38;2;36;36;36m██\u001b[38;2;19;19;19m██\u001b[38;2;0;0;0m██\u001b[38;2;13;13;13m██\u001b[38;2;42;42;42m██\u001b[38;2;90;90;90m██\u001b[38;2;90;90;90m██\u001b[38;2;51;51;51m██\u001b[38;2;25;25;25m██\u001b[38;2;0;0;0m██\u001b[38;2;0;0;0m██\u001b[38;2;0;0;0m██\u001b[38;2;0;0;0m██\u001b[38;2;0;0;0m██\u001b[38;2;0;0;0m██\u001b[38;2;0;0;0m██\u001b[38;2;0;0;0m██\u001b[38;2;1;1;1m██\u001b[38;2;0;0;0m██\u001b[0m\n",
       "\u001b[0m\u001b[38;2;16;16;16m██\u001b[38;2;18;18;18m██\u001b[38;2;7;7;7m██\u001b[38;2;9;9;9m██\u001b[38;2;10;10;10m██\u001b[38;2;8;8;8m██\u001b[38;2;2;2;2m██\u001b[38;2;0;0;0m██\u001b[38;2;0;0;0m██\u001b[38;2;0;0;0m██\u001b[38;2;0;0;0m██\u001b[38;2;39;39;39m██\u001b[38;2;68;68;68m██\u001b[38;2;101;101;101m██\u001b[38;2;72;72;72m██\u001b[38;2;55;55;55m██\u001b[38;2;19;19;19m██\u001b[38;2;0;0;0m██\u001b[38;2;0;0;0m██\u001b[38;2;0;0;0m██\u001b[38;2;0;0;0m██\u001b[38;2;0;0;0m██\u001b[38;2;0;0;0m██\u001b[38;2;0;0;0m██\u001b[38;2;0;0;0m██\u001b[38;2;0;0;0m██\u001b[38;2;0;0;0m██\u001b[38;2;0;0;0m██\u001b[0m\n",
       "\u001b[0m\u001b[38;2;15;15;15m██\u001b[38;2;9;9;9m██\u001b[38;2;0;0;0m██\u001b[38;2;15;15;15m██\u001b[38;2;7;7;7m██\u001b[38;2;0;0;0m██\u001b[38;2;0;0;0m██\u001b[38;2;0;0;0m██\u001b[38;2;0;0;0m██\u001b[38;2;40;40;40m██\u001b[38;2;91;91;91m██\u001b[38;2;94;94;94m██\u001b[38;2;76;76;76m██\u001b[38;2;56;56;56m██\u001b[38;2;34;34;34m██\u001b[38;2;5;5;5m██\u001b[38;2;0;0;0m██\u001b[38;2;0;0;0m██\u001b[38;2;0;0;0m██\u001b[38;2;0;0;0m██\u001b[38;2;0;0;0m██\u001b[38;2;0;0;0m██\u001b[38;2;0;0;0m██\u001b[38;2;0;0;0m██\u001b[38;2;0;0;0m██\u001b[38;2;0;0;0m██\u001b[38;2;0;0;0m██\u001b[38;2;0;0;0m██\u001b[0m\n",
       "\u001b[0m\u001b[38;2;0;0;0m██\u001b[38;2;0;0;0m██\u001b[38;2;0;0;0m██\u001b[38;2;0;0;0m██\u001b[38;2;0;0;0m██\u001b[38;2;0;0;0m██\u001b[38;2;0;0;0m██\u001b[38;2;20;20;20m██\u001b[38;2;61;61;61m██\u001b[38;2;63;63;63m██\u001b[38;2;54;54;54m██\u001b[38;2;26;26;26m██\u001b[38;2;29;29;29m██\u001b[38;2;0;0;0m██\u001b[38;2;0;0;0m██\u001b[38;2;0;0;0m██\u001b[38;2;0;0;0m██\u001b[38;2;0;0;0m██\u001b[38;2;0;0;0m██\u001b[38;2;0;0;0m██\u001b[38;2;0;0;0m██\u001b[38;2;0;0;0m██\u001b[38;2;0;0;0m██\u001b[38;2;2;2;2m██\u001b[38;2;0;0;0m██\u001b[38;2;0;0;0m██\u001b[38;2;0;0;0m██\u001b[38;2;0;0;0m██\u001b[0m\n",
       "\u001b[0m\u001b[38;2;0;0;0m██\u001b[38;2;0;0;0m██\u001b[38;2;0;0;0m██\u001b[38;2;0;0;0m██\u001b[38;2;0;0;0m██\u001b[38;2;33;33;33m██\u001b[38;2;78;78;78m██\u001b[38;2;88;88;88m██\u001b[38;2;53;53;53m██\u001b[38;2;16;16;16m██\u001b[38;2;23;23;23m██\u001b[38;2;5;5;5m██\u001b[38;2;0;0;0m██\u001b[38;2;0;0;0m██\u001b[38;2;0;0;0m██\u001b[38;2;0;0;0m██\u001b[38;2;0;0;0m██\u001b[38;2;0;0;0m██\u001b[38;2;0;0;0m██\u001b[38;2;0;0;0m██\u001b[38;2;0;0;0m██\u001b[38;2;3;3;3m██\u001b[38;2;3;3;3m██\u001b[38;2;0;0;0m██\u001b[38;2;0;0;0m██\u001b[38;2;0;0;0m██\u001b[38;2;0;0;0m██\u001b[38;2;0;0;0m██\u001b[0m\n",
       "\u001b[0m\u001b[38;2;2;2;2m██\u001b[38;2;0;0;0m██\u001b[38;2;0;0;0m██\u001b[38;2;17;17;17m██\u001b[38;2;59;59;59m██\u001b[38;2;78;78;78m██\u001b[38;2;71;71;71m██\u001b[38;2;49;49;49m██\u001b[38;2;17;17;17m██\u001b[38;2;13;13;13m██\u001b[38;2;0;0;0m██\u001b[38;2;0;0;0m██\u001b[38;2;0;0;0m██\u001b[38;2;0;0;0m██\u001b[38;2;0;0;0m██\u001b[38;2;0;0;0m██\u001b[38;2;0;0;0m██\u001b[38;2;0;0;0m██\u001b[38;2;0;0;0m██\u001b[38;2;0;0;0m██\u001b[38;2;3;3;3m██\u001b[38;2;0;0;0m██\u001b[38;2;0;0;0m██\u001b[38;2;0;0;0m██\u001b[38;2;0;0;0m██\u001b[38;2;0;0;0m██\u001b[38;2;0;0;0m██\u001b[38;2;0;0;0m██\u001b[0m\n",
       "\u001b[0m\u001b[38;2;2;2;2m██\u001b[38;2;18;18;18m██\u001b[38;2;36;36;36m██\u001b[38;2;60;60;60m██\u001b[38;2;67;67;67m██\u001b[38;2;34;34;34m██\u001b[38;2;9;9;9m██\u001b[38;2;0;0;0m██\u001b[38;2;0;0;0m██\u001b[38;2;0;0;0m██\u001b[38;2;0;0;0m██\u001b[38;2;0;0;0m██\u001b[38;2;0;0;0m██\u001b[38;2;0;0;0m██\u001b[38;2;0;0;0m██\u001b[38;2;0;0;0m██\u001b[38;2;0;0;0m██\u001b[38;2;0;0;0m██\u001b[38;2;4;4;4m██\u001b[38;2;0;0;0m██\u001b[38;2;0;0;0m██\u001b[38;2;0;0;0m██\u001b[38;2;0;0;0m██\u001b[38;2;0;0;0m██\u001b[38;2;0;0;0m██\u001b[38;2;0;0;0m██\u001b[38;2;0;0;0m██\u001b[38;2;0;0;0m██\u001b[0m"
      ]
     },
     "execution_count": 46,
     "metadata": {},
     "output_type": "execute_result"
    }
   ],
   "source": [
    "cnn_output = cnn_layer_same_pad2(images[:,:,:,1:3])\n",
    "display( cnn_output |> size )\n",
    "convert2image(MNIST,cnn_output[:,:,1,1])"
   ]
  },
  {
   "cell_type": "markdown",
   "metadata": {},
   "source": [
    "### <span style=\"color:orange\"> Example like the gif above </span>"
   ]
  },
  {
   "cell_type": "code",
   "execution_count": 47,
   "metadata": {},
   "outputs": [
    {
     "data": {
      "text/plain": [
       "(2, 2, 1, 10)"
      ]
     },
     "execution_count": 47,
     "metadata": {},
     "output_type": "execute_result"
    }
   ],
   "source": [
    "x = rand(Float32, 4, 4, 1, 10); #batch of monochrome images\n",
    "cnn_layer = Conv( (3,3) , 1 => 1 )\n",
    "cnn_layer( x ) |> size"
   ]
  },
  {
   "cell_type": "markdown",
   "metadata": {},
   "source": [
    "### <span style=\"color:orange\"> Add arbitrary padding (zeros) </span>\n",
    "\n",
    "![image info](./demoPics/arbitrary_padding_no_strides.gif)"
   ]
  },
  {
   "cell_type": "code",
   "execution_count": 48,
   "metadata": {},
   "outputs": [
    {
     "name": "stdout",
     "output_type": "stream",
     "text": [
      "(12, 12, 1, 1)\n"
     ]
    },
    {
     "data": {
      "text/plain": [
       "12×12×1×1 Array{Float32, 4}:\n",
       "[:, :, 1, 1] =\n",
       " 0.0  0.0  0.0   0.0         0.0        …   0.0        0.0  0.0  0.0\n",
       " 0.0  0.0  0.0   0.0         0.0            0.0        0.0  0.0  0.0\n",
       " 0.0  0.0  0.0   0.0         0.0            0.0        0.0  0.0  0.0\n",
       " 0.0  0.0  0.0  -0.0640955  -0.251571      -0.0329745  0.0  0.0  0.0\n",
       " 0.0  0.0  0.0  -0.0925409  -0.553379       0.172833   0.0  0.0  0.0\n",
       " 0.0  0.0  0.0  -0.334725   -1.22976    …  -0.438103   0.0  0.0  0.0\n",
       " 0.0  0.0  0.0  -0.404602   -0.832145       0.15079    0.0  0.0  0.0\n",
       " 0.0  0.0  0.0  -0.382805   -0.271513      -0.275864   0.0  0.0  0.0\n",
       " 0.0  0.0  0.0  -0.112068   -0.0606893     -0.464829   0.0  0.0  0.0\n",
       " 0.0  0.0  0.0   0.0         0.0            0.0        0.0  0.0  0.0\n",
       " 0.0  0.0  0.0   0.0         0.0        …   0.0        0.0  0.0  0.0\n",
       " 0.0  0.0  0.0   0.0         0.0            0.0        0.0  0.0  0.0"
      ]
     },
     "execution_count": 48,
     "metadata": {},
     "output_type": "execute_result"
    }
   ],
   "source": [
    "x = rand(Float32, 4, 4, 1, 1); #batch of monochrome images\n",
    "cnn_layer = Conv( (3,3) , 1 => 1 , pad = 5)\n",
    "println( cnn_layer( x ) |> size )\n",
    "cnn_layer( x )"
   ]
  },
  {
   "cell_type": "code",
   "execution_count": 49,
   "metadata": {},
   "outputs": [
    {
     "name": "stdout",
     "output_type": "stream",
     "text": [
      "(2, 12, 1, 1)\n"
     ]
    },
    {
     "data": {
      "text/plain": [
       "2×12×1×1 Array{Float32, 4}:\n",
       "[:, :, 1, 1] =\n",
       " 0.0  0.0  0.0  -0.105666  -0.240248   …  -0.505978  -0.122575  0.0  0.0  0.0\n",
       " 0.0  0.0  0.0   0.027149   0.0147412     -0.243536  -0.283383  0.0  0.0  0.0"
      ]
     },
     "execution_count": 49,
     "metadata": {},
     "output_type": "execute_result"
    }
   ],
   "source": [
    "x = rand(Float32, 4, 4, 1, 1); \n",
    "cnn_layer = Conv( (3,3) , 1 => 1 , pad = (0,5) ) #non-uniform padding\n",
    "println( cnn_layer( x ) |> size )\n",
    "cnn_layer( x )"
   ]
  },
  {
   "cell_type": "code",
   "execution_count": null,
   "metadata": {},
   "outputs": [],
   "source": []
  },
  {
   "cell_type": "markdown",
   "metadata": {},
   "source": [
    "### <span style=\"color:orange\"> On 1D data </span>"
   ]
  },
  {
   "cell_type": "code",
   "execution_count": 50,
   "metadata": {},
   "outputs": [
    {
     "data": {
      "text/plain": [
       "(97, 1, 1)"
      ]
     },
     "execution_count": 50,
     "metadata": {},
     "output_type": "execute_result"
    }
   ],
   "source": [
    "x = rand(Float32, 100, 1, 1); #100elements, 1 channel, 10 samples in the batch \n",
    "cnn_layer = Conv( (4,) , 1 => 1 ) #4 element filter\n",
    "cnn_layer( x ) |> size"
   ]
  },
  {
   "cell_type": "code",
   "execution_count": 51,
   "metadata": {},
   "outputs": [
    {
     "data": {
      "text/plain": [
       "(100, 1, 1)"
      ]
     },
     "execution_count": 51,
     "metadata": {},
     "output_type": "execute_result"
    }
   ],
   "source": [
    "x = rand(Float32, 100, 1, 1); #100elements, 1 channel, 10 samples in the batch \n",
    "cnn_layer = Conv( (4,) , 1 => 1 , pad = SamePad() ) #4 element filter\n",
    "cnn_layer( x ) |> size"
   ]
  },
  {
   "cell_type": "markdown",
   "metadata": {},
   "source": [
    "### <span style=\"color:orange\"> Now apply 'Strides' </span>\n",
    "![image info](./demoPics/no_padding_strides.gif)\n",
    "\n",
    "(no padding but with strides)"
   ]
  },
  {
   "cell_type": "code",
   "execution_count": 52,
   "metadata": {},
   "outputs": [
    {
     "data": {
      "text/plain": [
       "(20, 1, 1)"
      ]
     },
     "execution_count": 52,
     "metadata": {},
     "output_type": "execute_result"
    }
   ],
   "source": [
    "x = rand(Float32, 100, 1, 1); #100elements, 1 channel, 10 samples in the batch \n",
    "cnn_layer = Conv( (4,) , 1 => 1 , stride=5 ) #4 element filter\n",
    "cnn_layer( x ) |> size"
   ]
  },
  {
   "cell_type": "code",
   "execution_count": 53,
   "metadata": {},
   "outputs": [
    {
     "data": {
      "text/plain": [
       "(97, 1, 1)"
      ]
     },
     "execution_count": 53,
     "metadata": {},
     "output_type": "execute_result"
    }
   ],
   "source": [
    "x = rand(Float32, 100, 1, 1); #100elements, 1 channel, 10 samples in the batch \n",
    "cnn_layer = Conv( (4,) , 1 => 1 , stride=1 ) \n",
    "cnn_layer( x ) |> size"
   ]
  },
  {
   "cell_type": "code",
   "execution_count": 54,
   "metadata": {},
   "outputs": [
    {
     "data": {
      "text/plain": [
       "(10, 10, 3, 10)"
      ]
     },
     "execution_count": 54,
     "metadata": {},
     "output_type": "execute_result"
    }
   ],
   "source": [
    "x = rand(Float32, 50, 50, 2, 10); #batch of monochrome images\n",
    "cnn_layer = Conv( (3,3) , 2 => 3 , stride = 5 )\n",
    "cnn_layer( x ) |> size"
   ]
  },
  {
   "cell_type": "markdown",
   "metadata": {},
   "source": [
    "### <span style=\"color:orange\"> Padding and Strides </span>\n",
    "\n",
    "![image info](./demoPics/padding_strides.gif)"
   ]
  },
  {
   "cell_type": "code",
   "execution_count": 55,
   "metadata": {},
   "outputs": [
    {
     "data": {
      "text/plain": [
       "(41, 41, 3, 10)"
      ]
     },
     "execution_count": 55,
     "metadata": {},
     "output_type": "execute_result"
    }
   ],
   "source": [
    "x = rand(Float32, 200, 200, 3, 10); #batch of monochrome images\n",
    "cnn_layer = Conv( (4,4) , 3 => 3 , pad=4 , stride = 5 )\n",
    "cnn_layer( x ) |> size"
   ]
  },
  {
   "cell_type": "markdown",
   "metadata": {},
   "source": [
    "### <span style=\"color:orange\"> Dilation, adds element skipping between element of the filter </span>\n",
    "\n",
    "![image info](./demoPics/dilation.gif)"
   ]
  },
  {
   "cell_type": "code",
   "execution_count": 56,
   "metadata": {},
   "outputs": [
    {
     "data": {
      "text/plain": [
       "(197, 197, 3, 10)"
      ]
     },
     "execution_count": 56,
     "metadata": {},
     "output_type": "execute_result"
    }
   ],
   "source": [
    "x = rand(Float32, 200, 200, 3, 10); \n",
    "cnn_layer = Conv( (4,4) , 3 => 3 , dilation = 1 )\n",
    "cnn_layer( x ) |> size"
   ]
  },
  {
   "cell_type": "code",
   "execution_count": 57,
   "metadata": {},
   "outputs": [
    {
     "data": {
      "text/plain": [
       "(194, 194, 3, 10)"
      ]
     },
     "execution_count": 57,
     "metadata": {},
     "output_type": "execute_result"
    }
   ],
   "source": [
    "x = rand(Float32, 200, 200, 3, 10); \n",
    "cnn_layer = Conv( (4,4) , 3 => 3 , dilation = 2 )\n",
    "cnn_layer( x ) |> size"
   ]
  },
  {
   "cell_type": "code",
   "execution_count": 58,
   "metadata": {},
   "outputs": [
    {
     "data": {
      "text/plain": [
       "(200, 200, 3, 10)"
      ]
     },
     "execution_count": 58,
     "metadata": {},
     "output_type": "execute_result"
    }
   ],
   "source": [
    "x = rand(Float32, 200, 200, 3, 10); \n",
    "cnn_layer = Conv( (5,5) , 3 => 3 , pad = 2 , dilation=1 )\n",
    "cnn_layer( x ) |> size"
   ]
  },
  {
   "cell_type": "code",
   "execution_count": 59,
   "metadata": {},
   "outputs": [
    {
     "data": {
      "text/plain": [
       "(188, 188, 1, 10)"
      ]
     },
     "execution_count": 59,
     "metadata": {},
     "output_type": "execute_result"
    }
   ],
   "source": [
    "x = rand(Float32, 200, 200, 1, 10); \n",
    "cnn_layer = Conv( (5,5) , 1 => 1 , pad = 2 , dilation=4 )\n",
    "cnn_layer( x ) |> size"
   ]
  },
  {
   "cell_type": "code",
   "execution_count": 60,
   "metadata": {},
   "outputs": [
    {
     "data": {
      "text/plain": [
       "(16, 16, 1, 3)"
      ]
     },
     "metadata": {},
     "output_type": "display_data"
    },
    {
     "data": {
      "image/png": "[encoded data removed]",
      "text/plain": [
       "\u001b[0m\u001b[38;2;0;0;0m██\u001b[38;2;0;0;0m██\u001b[38;2;0;0;0m██\u001b[38;2;0;0;0m██\u001b[38;2;0;0;0m██\u001b[38;2;0;0;0m██\u001b[38;2;0;0;0m██\u001b[38;2;0;0;0m██\u001b[38;2;0;0;0m██\u001b[38;2;50;50;50m██\u001b[38;2;90;90;90m██\u001b[38;2;0;0;0m██\u001b[38;2;0;0;0m██\u001b[38;2;0;0;0m██\u001b[38;2;0;0;0m██\u001b[38;2;0;0;0m██\u001b[0m\n",
       "\u001b[0m\u001b[38;2;0;0;0m██\u001b[38;2;0;0;0m██\u001b[38;2;0;0;0m██\u001b[38;2;0;0;0m██\u001b[38;2;0;0;0m██\u001b[38;2;0;0;0m██\u001b[38;2;0;0;0m██\u001b[38;2;0;0;0m██\u001b[38;2;0;0;0m██\u001b[38;2;39;39;39m██\u001b[38;2;150;150;150m██\u001b[38;2;140;140;140m██\u001b[38;2;34;34;34m██\u001b[38;2;0;0;0m██\u001b[38;2;0;0;0m██\u001b[38;2;0;0;0m██\u001b[0m\n",
       "\u001b[0m\u001b[38;2;0;0;0m██\u001b[38;2;0;0;0m██\u001b[38;2;0;0;0m██\u001b[38;2;0;0;0m██\u001b[38;2;0;0;0m██\u001b[38;2;0;0;0m██\u001b[38;2;0;0;0m██\u001b[38;2;0;0;0m██\u001b[38;2;0;0;0m██\u001b[38;2;0;0;0m██\u001b[38;2;92;92;92m██\u001b[38;2;165;165;165m██\u001b[38;2;109;109;109m██\u001b[38;2;66;66;66m██\u001b[38;2;0;0;0m██\u001b[38;2;0;0;0m██\u001b[0m\n",
       "\u001b[0m\u001b[38;2;0;0;0m██\u001b[38;2;0;0;0m██\u001b[38;2;0;0;0m██\u001b[38;2;0;0;0m██\u001b[38;2;0;0;0m██\u001b[38;2;0;0;0m██\u001b[38;2;0;0;0m██\u001b[38;2;0;0;0m██\u001b[38;2;0;0;0m██\u001b[38;2;0;0;0m██\u001b[38;2;24;24;24m██\u001b[38;2;207;207;207m██\u001b[38;2;241;241;241m██\u001b[38;2;211;211;211m██\u001b[38;2;171;171;171m██\u001b[38;2;0;0;0m██\u001b[0m\n",
       "\u001b[0m\u001b[38;2;0;0;0m██\u001b[38;2;0;0;0m██\u001b[38;2;0;0;0m██\u001b[38;2;0;0;0m██\u001b[38;2;0;0;0m██\u001b[38;2;18;18;18m██\u001b[38;2;55;55;55m██\u001b[38;2;22;22;22m██\u001b[38;2;59;59;59m██\u001b[38;2;96;96;96m██\u001b[38;2;168;168;168m██\u001b[38;2;248;248;248m██\u001b[38;2;255;255;255m██\u001b[38;2;238;238;238m██\u001b[38;2;207;207;207m██\u001b[38;2;72;72;72m██\u001b[0m\n",
       "\u001b[0m\u001b[38;2;0;0;0m██\u001b[38;2;0;0;0m██\u001b[38;2;0;0;0m██\u001b[38;2;0;0;0m██\u001b[38;2;0;0;0m██\u001b[38;2;38;38;38m██\u001b[38;2;171;171;171m██\u001b[38;2;208;208;208m██\u001b[38;2;183;183;183m██\u001b[38;2;168;168;168m██\u001b[38;2;168;168;168m██\u001b[38;2;151;151;151m██\u001b[38;2;122;122;122m██\u001b[38;2;141;141;141m██\u001b[38;2;123;123;123m██\u001b[38;2;70;70;70m██\u001b[0m\n",
       "\u001b[0m\u001b[38;2;0;0;0m██\u001b[38;2;0;0;0m██\u001b[38;2;0;0;0m██\u001b[38;2;0;0;0m██\u001b[38;2;8;8;8m██\u001b[38;2;73;73;73m██\u001b[38;2;187;187;187m██\u001b[38;2;255;255;255m██\u001b[38;2;247;247;247m██\u001b[38;2;209;209;209m██\u001b[38;2;91;91;91m██\u001b[38;2;80;80;80m██\u001b[38;2;8;8;8m██\u001b[38;2;0;0;0m██\u001b[38;2;0;0;0m██\u001b[38;2;57;57;57m██\u001b[0m\n",
       "\u001b[0m\u001b[38;2;0;0;0m██\u001b[38;2;0;0;0m██\u001b[38;2;0;0;0m██\u001b[38;2;0;0;0m██\u001b[38;2;2;2;2m██\u001b[38;2;85;85;85m██\u001b[38;2;165;165;165m██\u001b[38;2;255;255;255m██\u001b[38;2;192;192;192m██\u001b[38;2;140;140;140m██\u001b[38;2;87;87;87m██\u001b[38;2;62;62;62m██\u001b[38;2;0;0;0m██\u001b[38;2;0;0;0m██\u001b[38;2;0;0;0m██\u001b[38;2;67;67;67m██\u001b[0m\n",
       "\u001b[0m\u001b[38;2;0;0;0m██\u001b[38;2;0;0;0m██\u001b[38;2;0;0;0m██\u001b[38;2;70;70;70m██\u001b[38;2;107;107;107m██\u001b[38;2;163;163;163m██\u001b[38;2;180;180;180m██\u001b[38;2;160;160;160m██\u001b[38;2;107;107;107m██\u001b[38;2;59;59;59m██\u001b[38;2;42;42;42m██\u001b[38;2;0;0;0m██\u001b[38;2;0;0;0m██\u001b[38;2;0;0;0m██\u001b[38;2;0;0;0m██\u001b[38;2;4;4;4m██\u001b[0m\n",
       "\u001b[0m\u001b[38;2;67;67;67m██\u001b[38;2;48;48;48m██\u001b[38;2;70;70;70m██\u001b[38;2;99;99;99m██\u001b[38;2;128;128;128m██\u001b[38;2;169;169;169m██\u001b[38;2;105;105;105m██\u001b[38;2;41;41;41m██\u001b[38;2;0;0;0m██\u001b[38;2;0;0;0m██\u001b[38;2;62;62;62m██\u001b[38;2;108;108;108m██\u001b[38;2;62;62;62m██\u001b[38;2;0;0;0m██\u001b[38;2;0;0;0m██\u001b[38;2;0;0;0m██\u001b[0m\n",
       "\u001b[0m\u001b[38;2;111;111;111m██\u001b[38;2;190;190;190m██\u001b[38;2;174;174;174m██\u001b[38;2;84;84;84m██\u001b[38;2;57;57;57m██\u001b[38;2;45;45;45m██\u001b[38;2;108;108;108m██\u001b[38;2;73;73;73m██\u001b[38;2;0;0;0m██\u001b[38;2;0;0;0m██\u001b[38;2;101;101;101m██\u001b[38;2;154;154;154m██\u001b[38;2;90;90;90m██\u001b[38;2;54;54;54m██\u001b[38;2;0;0;0m██\u001b[38;2;0;0;0m██\u001b[0m\n",
       "\u001b[0m\u001b[38;2;44;44;44m██\u001b[38;2;125;125;125m██\u001b[38;2;145;145;145m██\u001b[38;2;107;107;107m██\u001b[38;2;76;76;76m██\u001b[38;2;62;62;62m██\u001b[38;2;87;87;87m██\u001b[38;2;122;122;122m██\u001b[38;2;113;113;113m██\u001b[38;2;55;55;55m██\u001b[38;2;62;62;62m██\u001b[38;2;110;110;110m██\u001b[38;2;99;99;99m██\u001b[38;2;94;94;94m██\u001b[38;2;21;21;21m██\u001b[38;2;0;0;0m██\u001b[0m\n",
       "\u001b[0m\u001b[38;2;0;0;0m██\u001b[38;2;51;51;51m██\u001b[38;2;78;78;78m██\u001b[38;2;39;39;39m██\u001b[38;2;13;13;13m██\u001b[38;2;48;48;48m██\u001b[38;2;118;118;118m██\u001b[38;2;109;109;109m██\u001b[38;2;121;121;121m██\u001b[38;2;34;34;34m██\u001b[38;2;25;25;25m██\u001b[38;2;31;31;31m██\u001b[38;2;14;14;14m██\u001b[38;2;0;0;0m██\u001b[38;2;0;0;0m██\u001b[38;2;0;0;0m██\u001b[0m\n",
       "\u001b[0m\u001b[38;2;45;45;45m██\u001b[38;2;43;43;43m██\u001b[38;2;33;33;33m██\u001b[38;2;0;0;0m██\u001b[38;2;0;0;0m██\u001b[38;2;41;41;41m██\u001b[38;2;79;79;79m██\u001b[38;2;25;25;25m██\u001b[38;2;12;12;12m██\u001b[38;2;6;6;6m██\u001b[38;2;0;0;0m██\u001b[38;2;0;0;0m██\u001b[38;2;0;0;0m██\u001b[38;2;0;0;0m██\u001b[38;2;14;14;14m██\u001b[38;2;66;66;66m██\u001b[0m\n",
       "\u001b[0m\u001b[38;2;12;12;12m██\u001b[38;2;0;0;0m██\u001b[38;2;6;6;6m██\u001b[38;2;5;5;5m██\u001b[38;2;0;0;0m██\u001b[38;2;0;0;0m██\u001b[38;2;14;14;14m██\u001b[38;2;0;0;0m██\u001b[38;2;0;0;0m██\u001b[38;2;0;0;0m██\u001b[38;2;0;0;0m██\u001b[38;2;0;0;0m██\u001b[38;2;0;0;0m██\u001b[38;2;17;17;17m██\u001b[38;2;56;56;56m██\u001b[38;2;128;128;128m██\u001b[0m\n",
       "\u001b[0m\u001b[38;2;0;0;0m██\u001b[38;2;0;0;0m██\u001b[38;2;0;0;0m██\u001b[38;2;0;0;0m██\u001b[38;2;0;0;0m██\u001b[38;2;0;0;0m██\u001b[38;2;20;20;20m██\u001b[38;2;33;33;33m██\u001b[38;2;0;0;0m██\u001b[38;2;0;0;0m██\u001b[38;2;0;0;0m██\u001b[38;2;0;0;0m██\u001b[38;2;2;2;2m██\u001b[38;2;44;44;44m██\u001b[38;2;45;45;45m██\u001b[38;2;179;179;179m██\u001b[0m"
      ]
     },
     "execution_count": 60,
     "metadata": {},
     "output_type": "execute_result"
    }
   ],
   "source": [
    "cnn_output = cnn_layer( images[:,:,:,1:3] )\n",
    "display( cnn_output |> size )\n",
    "convert2image( MNIST , cnn_output[:,:,1,1] )"
   ]
  },
  {
   "cell_type": "code",
   "execution_count": 61,
   "metadata": {},
   "outputs": [
    {
     "data": {
      "text/plain": [
       "(200, 200, 1, 10)"
      ]
     },
     "execution_count": 61,
     "metadata": {},
     "output_type": "execute_result"
    }
   ],
   "source": [
    "x = rand(Float32, 200, 200, 1, 10); \n",
    "cnn_layer = Conv( (5,5) , 1 => 1 , pad = SamePad() , dilation=4 )\n",
    "cnn_layer( x ) |> size"
   ]
  },
  {
   "cell_type": "code",
   "execution_count": 62,
   "metadata": {},
   "outputs": [
    {
     "data": {
      "text/plain": [
       "(28, 28, 1, 3)"
      ]
     },
     "metadata": {},
     "output_type": "display_data"
    },
    {
     "data": {
      "image/png": "[encoded data removed]",
      "text/plain": [
       "\u001b[0m\u001b[38;2;0;0;0m██\u001b[38;2;0;0;0m██\u001b[38;2;0;0;0m██\u001b[38;2;0;0;0m██\u001b[38;2;24;24;24m██\u001b[38;2;33;33;33m██\u001b[38;2;41;41;41m██\u001b[38;2;46;46;46m██\u001b[38;2;69;69;69m██\u001b[38;2;76;76;76m██\u001b[38;2;95;95;95m██\u001b[38;2;91;91;91m██\u001b[38;2;106;106;106m██\u001b[38;2;104;104;104m██\u001b[38;2;28;28;28m██\u001b[38;2;30;30;30m██\u001b[38;2;86;86;86m██\u001b[38;2;93;93;93m██\u001b[38;2;55;55;55m██\u001b[38;2;55;55;55m██\u001b[38;2;54;54;54m██\u001b[38;2;54;54;54m██\u001b[38;2;45;45;45m██\u001b[38;2;42;42;42m██\u001b[38;2;57;57;57m██\u001b[38;2;55;55;55m██\u001b[38;2;0;0;0m██\u001b[38;2;0;0;0m██\u001b[0m\n",
       "\u001b[0m\u001b[38;2;0;0;0m██\u001b[38;2;0;0;0m██\u001b[38;2;0;0;0m██\u001b[38;2;0;0;0m██\u001b[38;2;0;0;0m██\u001b[38;2;9;9;9m██\u001b[38;2;24;24;24m██\u001b[38;2;66;66;66m██\u001b[38;2;50;50;50m██\u001b[38;2;32;32;32m██\u001b[38;2;0;0;0m██\u001b[38;2;37;37;37m██\u001b[38;2;29;29;29m██\u001b[38;2;33;33;33m██\u001b[38;2;0;0;0m██\u001b[38;2;0;0;0m██\u001b[38;2;37;37;37m██\u001b[38;2;84;84;84m██\u001b[38;2;49;49;49m██\u001b[38;2;73;73;73m██\u001b[38;2;69;69;69m██\u001b[38;2;58;58;58m██\u001b[38;2;21;21;21m██\u001b[38;2;4;4;4m██\u001b[38;2;55;55;55m██\u001b[38;2;92;92;92m██\u001b[38;2;64;64;64m██\u001b[38;2;20;20;20m██\u001b[0m\n",
       "\u001b[0m\u001b[38;2;0;0;0m██\u001b[38;2;0;0;0m██\u001b[38;2;0;0;0m██\u001b[38;2;0;0;0m██\u001b[38;2;0;0;0m██\u001b[38;2;0;0;0m██\u001b[38;2;0;0;0m██\u001b[38;2;5;5;5m██\u001b[38;2;33;33;33m██\u001b[38;2;0;0;0m██\u001b[38;2;0;0;0m██\u001b[38;2;12;12;12m██\u001b[38;2;13;13;13m██\u001b[38;2;0;0;0m██\u001b[38;2;0;0;0m██\u001b[38;2;15;15;15m██\u001b[38;2;44;44;44m██\u001b[38;2;59;59;59m██\u001b[38;2;65;65;65m██\u001b[38;2;99;99;99m██\u001b[38;2;116;116;116m██\u001b[38;2;97;97;97m██\u001b[38;2;74;74;74m██\u001b[38;2;71;71;71m██\u001b[38;2;81;81;81m██\u001b[38;2;80;80;80m██\u001b[38;2;69;69;69m██\u001b[38;2;43;43;43m██\u001b[0m\n",
       "\u001b[0m\u001b[38;2;0;0;0m██\u001b[38;2;0;0;0m██\u001b[38;2;0;0;0m██\u001b[38;2;0;0;0m██\u001b[38;2;0;0;0m██\u001b[38;2;0;0;0m██\u001b[38;2;0;0;0m██\u001b[38;2;10;10;10m██\u001b[38;2;38;38;38m██\u001b[38;2;20;20;20m██\u001b[38;2;2;2;2m██\u001b[38;2;32;32;32m██\u001b[38;2;72;72;72m██\u001b[38;2;69;69;69m██\u001b[38;2;25;25;25m██\u001b[38;2;40;40;40m██\u001b[38;2;78;78;78m██\u001b[38;2;79;79;79m██\u001b[38;2;83;83;83m██\u001b[38;2;111;111;111m██\u001b[38;2;137;137;137m██\u001b[38;2;123;123;123m██\u001b[38;2;63;63;63m██\u001b[38;2;62;62;62m██\u001b[38;2;62;62;62m██\u001b[38;2;58;58;58m██\u001b[38;2;24;24;24m██\u001b[38;2;17;17;17m██\u001b[0m\n",
       "\u001b[0m\u001b[38;2;0;0;0m██\u001b[38;2;0;0;0m██\u001b[38;2;0;0;0m██\u001b[38;2;0;0;0m██\u001b[38;2;0;0;0m██\u001b[38;2;0;0;0m██\u001b[38;2;0;0;0m██\u001b[38;2;0;0;0m██\u001b[38;2;22;22;22m██\u001b[38;2;40;40;40m██\u001b[38;2;35;35;35m██\u001b[38;2;18;18;18m██\u001b[38;2;77;77;77m██\u001b[38;2;90;90;90m██\u001b[38;2;36;36;36m██\u001b[38;2;28;28;28m██\u001b[38;2;66;66;66m██\u001b[38;2;72;72;72m██\u001b[38;2;74;74;74m██\u001b[38;2;76;76;76m██\u001b[38;2;124;124;124m██\u001b[38;2;138;138;138m██\u001b[38;2;57;57;57m██\u001b[38;2;38;38;38m██\u001b[38;2;51;51;51m██\u001b[38;2;50;50;50m██\u001b[38;2;0;0;0m██\u001b[38;2;0;0;0m██\u001b[0m\n",
       "\u001b[0m\u001b[38;2;0;0;0m██\u001b[38;2;0;0;0m██\u001b[38;2;0;0;0m██\u001b[38;2;0;0;0m██\u001b[38;2;0;0;0m██\u001b[38;2;0;0;0m██\u001b[38;2;0;0;0m██\u001b[38;2;2;2;2m██\u001b[38;2;0;0;0m██\u001b[38;2;38;38;38m██\u001b[38;2;42;42;42m██\u001b[38;2;39;39;39m██\u001b[38;2;51;51;51m██\u001b[38;2;72;72;72m██\u001b[38;2;61;61;61m██\u001b[38;2;49;49;49m██\u001b[38;2;140;140;140m██\u001b[38;2;152;152;152m██\u001b[38;2;133;133;133m██\u001b[38;2;88;88;88m██\u001b[38;2;122;122;122m██\u001b[38;2;202;202;202m██\u001b[38;2;140;140;140m██\u001b[38;2;78;78;78m██\u001b[38;2;41;41;41m██\u001b[38;2;43;43;43m██\u001b[38;2;10;10;10m██\u001b[38;2;5;5;5m██\u001b[0m\n",
       "\u001b[0m\u001b[38;2;0;0;0m██\u001b[38;2;0;0;0m██\u001b[38;2;0;0;0m██\u001b[38;2;0;0;0m██\u001b[38;2;0;0;0m██\u001b[38;2;0;0;0m██\u001b[38;2;0;0;0m██\u001b[38;2;0;0;0m██\u001b[38;2;5;5;5m██\u001b[38;2;50;50;50m██\u001b[38;2;120;120;120m██\u001b[38;2;151;151;151m██\u001b[38;2;144;144;144m██\u001b[38;2;153;153;153m██\u001b[38;2;156;156;156m██\u001b[38;2;176;176;176m██\u001b[38;2;215;215;215m██\u001b[38;2;178;178;178m██\u001b[38;2;128;128;128m██\u001b[38;2;109;109;109m██\u001b[38;2;140;140;140m██\u001b[38;2;124;124;124m██\u001b[38;2;126;126;126m██\u001b[38;2;86;86;86m██\u001b[38;2;69;69;69m██\u001b[38;2;37;37;37m██\u001b[38;2;14;14;14m██\u001b[38;2;3;3;3m██\u001b[0m\n",
       "\u001b[0m\u001b[38;2;0;0;0m██\u001b[38;2;0;0;0m██\u001b[38;2;0;0;0m██\u001b[38;2;0;0;0m██\u001b[38;2;0;0;0m██\u001b[38;2;0;0;0m██\u001b[38;2;17;17;17m██\u001b[38;2;27;27;27m██\u001b[38;2;91;91;91m██\u001b[38;2;89;89;89m██\u001b[38;2;117;117;117m██\u001b[38;2;174;174;174m██\u001b[38;2;202;202;202m██\u001b[38;2;207;207;207m██\u001b[38;2;156;156;156m██\u001b[38;2;163;163;163m██\u001b[38;2;180;180;180m██\u001b[38;2;166;166;166m██\u001b[38;2;73;73;73m██\u001b[38;2;67;67;67m██\u001b[38;2;86;86;86m██\u001b[38;2;64;64;64m██\u001b[38;2;25;25;25m██\u001b[38;2;46;46;46m██\u001b[38;2;61;61;61m██\u001b[38;2;60;60;60m██\u001b[38;2;36;36;36m██\u001b[38;2;6;6;6m██\u001b[0m\n",
       "\u001b[0m\u001b[38;2;0;0;0m██\u001b[38;2;0;0;0m██\u001b[38;2;0;0;0m██\u001b[38;2;0;0;0m██\u001b[38;2;0;0;0m██\u001b[38;2;0;0;0m██\u001b[38;2;16;16;16m██\u001b[38;2;38;38;38m██\u001b[38;2;102;102;102m██\u001b[38;2;97;97;97m██\u001b[38;2;97;97;97m██\u001b[38;2;100;100;100m██\u001b[38;2;168;168;168m██\u001b[38;2;211;211;211m██\u001b[38;2;142;142;142m██\u001b[38;2;124;124;124m██\u001b[38;2;126;126;126m██\u001b[38;2;157;157;157m██\u001b[38;2;57;57;57m██\u001b[38;2;40;40;40m██\u001b[38;2;48;48;48m██\u001b[38;2;59;59;59m██\u001b[38;2;11;11;11m██\u001b[38;2;1;1;1m██\u001b[38;2;21;21;21m██\u001b[38;2;58;58;58m██\u001b[38;2;58;58;58m██\u001b[38;2;43;43;43m██\u001b[0m\n",
       "\u001b[0m\u001b[38;2;0;0;0m██\u001b[38;2;0;0;0m██\u001b[38;2;0;0;0m██\u001b[38;2;0;0;0m██\u001b[38;2;0;0;0m██\u001b[38;2;0;0;0m██\u001b[38;2;0;0;0m██\u001b[38;2;27;27;27m██\u001b[38;2;81;81;81m██\u001b[38;2;95;95;95m██\u001b[38;2;61;61;61m██\u001b[38;2;72;72;72m██\u001b[38;2;165;165;165m██\u001b[38;2;255;255;255m██\u001b[38;2;176;176;176m██\u001b[38;2;112;112;112m██\u001b[38;2;132;132;132m██\u001b[38;2;242;242;242m██\u001b[38;2;193;193;193m██\u001b[38;2;103;103;103m██\u001b[38;2;68;68;68m██\u001b[38;2;118;118;118m██\u001b[38;2;101;101;101m██\u001b[38;2;68;68;68m██\u001b[38;2;30;30;30m██\u001b[38;2;58;58;58m██\u001b[38;2;68;68;68m██\u001b[38;2;49;49;49m██\u001b[0m\n",
       "\u001b[0m\u001b[38;2;5;5;5m██\u001b[38;2;4;4;4m██\u001b[38;2;16;16;16m██\u001b[38;2;6;6;6m██\u001b[38;2;5;5;5m██\u001b[38;2;29;29;29m██\u001b[38;2;16;16;16m██\u001b[38;2;54;54;54m██\u001b[38;2;83;83;83m██\u001b[38;2;105;105;105m██\u001b[38;2;143;143;143m██\u001b[38;2;237;237;237m██\u001b[38;2;255;255;255m██\u001b[38;2;255;255;255m██\u001b[38;2;244;244;244m██\u001b[38;2;202;202;202m██\u001b[38;2;177;177;177m██\u001b[38;2;182;182;182m██\u001b[38;2;186;186;186m██\u001b[38;2;136;136;136m██\u001b[38;2;109;109;109m██\u001b[38;2;123;123;123m██\u001b[38;2;145;145;145m██\u001b[38;2;132;132;132m██\u001b[38;2;120;120;120m██\u001b[38;2;109;109;109m██\u001b[38;2;89;89;89m██\u001b[38;2;76;76;76m██\u001b[0m\n",
       "\u001b[0m\u001b[38;2;42;42;42m██\u001b[38;2;45;45;45m██\u001b[38;2;45;45;45m██\u001b[38;2;41;41;41m██\u001b[38;2;79;79;79m██\u001b[38;2;76;76;76m██\u001b[38;2;80;80;80m██\u001b[38;2;92;92;92m██\u001b[38;2;171;171;171m██\u001b[38;2;190;190;190m██\u001b[38;2;169;169;169m██\u001b[38;2;255;255;255m██\u001b[38;2;255;255;255m██\u001b[38;2;255;255;255m██\u001b[38;2;206;206;206m██\u001b[38;2;179;179;179m██\u001b[38;2;167;167;167m██\u001b[38;2;157;157;157m██\u001b[38;2;103;103;103m██\u001b[38;2;95;95;95m██\u001b[38;2;83;83;83m██\u001b[38;2;101;101;101m██\u001b[38;2;129;129;129m██\u001b[38;2;140;140;140m██\u001b[38;2;153;153;153m██\u001b[38;2;156;156;156m██\u001b[38;2;103;103;103m██\u001b[38;2;64;64;64m██\u001b[0m\n",
       "\u001b[0m\u001b[38;2;39;39;39m██\u001b[38;2;45;45;45m██\u001b[38;2;41;41;41m██\u001b[38;2;32;32;32m██\u001b[38;2;55;55;55m██\u001b[38;2;52;52;52m██\u001b[38;2;74;74;74m██\u001b[38;2;110;110;110m██\u001b[38;2;234;234;234m██\u001b[38;2;240;240;240m██\u001b[38;2;160;160;160m██\u001b[38;2;182;182;182m██\u001b[38;2;255;255;255m██\u001b[38;2;255;255;255m██\u001b[38;2;144;144;144m██\u001b[38;2;90;90;90m██\u001b[38;2;134;134;134m██\u001b[38;2;130;130;130m██\u001b[38;2;43;43;43m██\u001b[38;2;53;53;53m██\u001b[38;2;83;83;83m██\u001b[38;2;110;110;110m██\u001b[38;2;126;126;126m██\u001b[38;2;120;120;120m██\u001b[38;2;128;128;128m██\u001b[38;2;147;147;147m██\u001b[38;2;70;70;70m██\u001b[38;2;39;39;39m██\u001b[0m\n",
       "\u001b[0m\u001b[38;2;11;11;11m██\u001b[38;2;18;18;18m██\u001b[38;2;0;0;0m██\u001b[38;2;8;8;8m██\u001b[38;2;33;33;33m██\u001b[38;2;28;28;28m██\u001b[38;2;21;21;21m██\u001b[38;2;92;92;92m██\u001b[38;2;125;125;125m██\u001b[38;2;175;175;175m██\u001b[38;2;81;81;81m██\u001b[38;2;144;144;144m██\u001b[38;2;110;110;110m██\u001b[38;2;157;157;157m██\u001b[38;2;52;52;52m██\u001b[38;2;44;44;44m██\u001b[38;2;84;84;84m██\u001b[38;2;95;95;95m██\u001b[38;2;101;101;101m██\u001b[38;2;109;109;109m██\u001b[38;2;130;130;130m██\u001b[38;2;156;156;156m██\u001b[38;2;127;127;127m██\u001b[38;2;101;101;101m██\u001b[38;2;31;31;31m██\u001b[38;2;71;71;71m██\u001b[38;2;46;46;46m██\u001b[38;2;40;40;40m██\u001b[0m\n",
       "\u001b[0m\u001b[38;2;0;0;0m██\u001b[38;2;0;0;0m██\u001b[38;2;0;0;0m██\u001b[38;2;0;0;0m██\u001b[38;2;14;14;14m██\u001b[38;2;0;0;0m██\u001b[38;2;0;0;0m██\u001b[38;2;0;0;0m██\u001b[38;2;33;33;33m██\u001b[38;2;0;0;0m██\u001b[38;2;9;9;9m██\u001b[38;2;88;88;88m██\u001b[38;2;139;139;139m██\u001b[38;2;104;104;104m██\u001b[38;2;102;102;102m██\u001b[38;2;137;137;137m██\u001b[38;2;133;133;133m██\u001b[38;2;111;111;111m██\u001b[38;2;104;104;104m██\u001b[38;2;137;137;137m██\u001b[38;2;189;189;189m██\u001b[38;2;153;153;153m██\u001b[38;2;106;106;106m██\u001b[38;2;78;78;78m██\u001b[38;2;40;40;40m██\u001b[38;2;56;56;56m██\u001b[38;2;58;58;58m██\u001b[38;2;57;57;57m██\u001b[0m\n",
       "\u001b[0m\u001b[38;2;0;0;0m██\u001b[38;2;0;0;0m██\u001b[38;2;0;0;0m██\u001b[38;2;0;0;0m██\u001b[38;2;11;11;11m██\u001b[38;2;12;12;12m██\u001b[38;2;0;0;0m██\u001b[38;2;0;0;0m██\u001b[38;2;39;39;39m██\u001b[38;2;0;0;0m██\u001b[38;2;21;21;21m██\u001b[38;2;123;123;123m██\u001b[38;2;188;188;188m██\u001b[38;2;180;180;180m██\u001b[38;2;133;133;133m██\u001b[38;2;152;152;152m██\u001b[38;2;165;165;165m██\u001b[38;2;187;187;187m██\u001b[38;2;150;150;150m██\u001b[38;2;146;146;146m██\u001b[38;2;150;150;150m██\u001b[38;2;126;126;126m██\u001b[38;2;111;111;111m██\u001b[38;2;96;96;96m██\u001b[38;2;74;74;74m██\u001b[38;2;77;77;77m██\u001b[38;2;59;59;59m██\u001b[38;2;48;48;48m██\u001b[0m\n",
       "\u001b[0m\u001b[38;2;0;0;0m██\u001b[38;2;0;0;0m██\u001b[38;2;0;0;0m██\u001b[38;2;0;0;0m██\u001b[38;2;0;0;0m██\u001b[38;2;0;0;0m██\u001b[38;2;0;0;0m██\u001b[38;2;0;0;0m██\u001b[38;2;14;14;14m██\u001b[38;2;22;22;22m██\u001b[38;2;68;68;68m██\u001b[38;2;56;56;56m██\u001b[38;2;154;154;154m██\u001b[38;2;227;227;227m██\u001b[38;2;156;156;156m██\u001b[38;2;126;126;126m██\u001b[38;2;131;131;131m██\u001b[38;2;165;165;165m██\u001b[38;2;144;144;144m██\u001b[38;2;129;129;129m██\u001b[38;2;120;120;120m██\u001b[38;2;141;141;141m██\u001b[38;2;110;110;110m██\u001b[38;2;82;82;82m██\u001b[38;2;82;82;82m██\u001b[38;2;71;71;71m██\u001b[38;2;16;16;16m██\u001b[38;2;0;0;0m██\u001b[0m\n",
       "\u001b[0m\u001b[38;2;0;0;0m██\u001b[38;2;0;0;0m██\u001b[38;2;0;0;0m██\u001b[38;2;0;0;0m██\u001b[38;2;0;0;0m██\u001b[38;2;0;0;0m██\u001b[38;2;2;2;2m██\u001b[38;2;7;7;7m██\u001b[38;2;38;38;38m██\u001b[38;2;49;49;49m██\u001b[38;2;82;82;82m██\u001b[38;2;89;89;89m██\u001b[38;2;88;88;88m██\u001b[38;2;155;155;155m██\u001b[38;2;133;133;133m██\u001b[38;2;100;100;100m██\u001b[38;2;65;65;65m██\u001b[38;2;127;127;127m██\u001b[38;2;142;142;142m██\u001b[38;2;169;169;169m██\u001b[38;2;104;104;104m██\u001b[38;2;119;119;119m██\u001b[38;2;110;110;110m██\u001b[38;2;84;84;84m██\u001b[38;2;47;47;47m██\u001b[38;2;19;19;19m██\u001b[38;2;0;0;0m██\u001b[38;2;0;0;0m██\u001b[0m\n",
       "\u001b[0m\u001b[38;2;0;0;0m██\u001b[38;2;0;0;0m██\u001b[38;2;0;0;0m██\u001b[38;2;0;0;0m██\u001b[38;2;0;0;0m██\u001b[38;2;0;0;0m██\u001b[38;2;46;46;46m██\u001b[38;2;46;46;46m██\u001b[38;2;37;37;37m██\u001b[38;2;29;29;29m██\u001b[38;2;61;61;61m██\u001b[38;2;130;130;130m██\u001b[38;2;196;196;196m██\u001b[38;2;162;162;162m██\u001b[38;2;182;182;182m██\u001b[38;2;210;210;210m██\u001b[38;2;179;179;179m██\u001b[38;2;174;174;174m██\u001b[38;2;127;127;127m██\u001b[38;2;118;118;118m██\u001b[38;2;65;65;65m██\u001b[38;2;66;66;66m██\u001b[38;2;73;73;73m██\u001b[38;2;62;62;62m██\u001b[38;2;52;52;52m██\u001b[38;2;24;24;24m██\u001b[38;2;5;5;5m██\u001b[38;2;0;0;0m██\u001b[0m\n",
       "\u001b[0m\u001b[38;2;0;0;0m██\u001b[38;2;0;0;0m██\u001b[38;2;0;0;0m██\u001b[38;2;0;0;0m██\u001b[38;2;0;0;0m██\u001b[38;2;0;0;0m██\u001b[38;2;0;0;0m██\u001b[38;2;17;17;17m██\u001b[38;2;29;29;29m██\u001b[38;2;55;55;55m██\u001b[38;2;79;79;79m██\u001b[38;2;150;150;150m██\u001b[38;2;243;243;243m██\u001b[38;2;255;255;255m██\u001b[38;2;255;255;255m██\u001b[38;2;250;250;250m██\u001b[38;2;196;196;196m██\u001b[38;2;194;194;194m██\u001b[38;2;181;181;181m██\u001b[38;2;125;125;125m██\u001b[38;2;43;43;43m██\u001b[38;2;10;10;10m██\u001b[38;2;4;4;4m██\u001b[38;2;43;43;43m██\u001b[38;2;51;51;51m██\u001b[38;2;51;51;51m██\u001b[38;2;31;31;31m██\u001b[38;2;5;5;5m██\u001b[0m\n",
       "\u001b[0m\u001b[38;2;0;0;0m██\u001b[38;2;0;0;0m██\u001b[38;2;0;0;0m██\u001b[38;2;5;5;5m██\u001b[38;2;0;0;0m██\u001b[38;2;0;0;0m██\u001b[38;2;0;0;0m██\u001b[38;2;0;0;0m██\u001b[38;2;39;39;39m██\u001b[38;2;95;95;95m██\u001b[38;2;124;124;124m██\u001b[38;2;163;163;163m██\u001b[38;2;252;252;252m██\u001b[38;2;255;255;255m██\u001b[38;2;255;255;255m██\u001b[38;2;201;201;201m██\u001b[38;2;140;140;140m██\u001b[38;2;148;148;148m██\u001b[38;2;130;130;130m██\u001b[38;2;69;69;69m██\u001b[38;2;24;24;24m██\u001b[38;2;13;13;13m██\u001b[38;2;0;0;0m██\u001b[38;2;0;0;0m██\u001b[38;2;19;19;19m██\u001b[38;2;51;51;51m██\u001b[38;2;51;51;51m██\u001b[38;2;38;38;38m██\u001b[0m\n",
       "\u001b[0m\u001b[38;2;0;0;0m██\u001b[38;2;0;0;0m██\u001b[38;2;0;0;0m██\u001b[38;2;0;0;0m██\u001b[38;2;0;0;0m██\u001b[38;2;0;0;0m██\u001b[38;2;0;0;0m██\u001b[38;2;0;0;0m██\u001b[38;2;20;20;20m██\u001b[38;2;117;117;117m██\u001b[38;2;166;166;166m██\u001b[38;2;167;167;167m██\u001b[38;2;117;117;117m██\u001b[38;2;216;216;216m██\u001b[38;2;219;219;219m██\u001b[38;2;187;187;187m██\u001b[38;2;77;77;77m██\u001b[38;2;57;57;57m██\u001b[38;2;60;60;60m██\u001b[38;2;63;63;63m██\u001b[38;2;14;14;14m██\u001b[38;2;3;3;3m██\u001b[38;2;1;1;1m██\u001b[38;2;0;0;0m██\u001b[38;2;6;6;6m██\u001b[38;2;51;51;51m██\u001b[38;2;51;51;51m██\u001b[38;2;51;51;51m██\u001b[0m\n",
       "\u001b[0m\u001b[38;2;0;0;0m██\u001b[38;2;0;0;0m██\u001b[38;2;0;0;0m██\u001b[38;2;5;5;5m██\u001b[38;2;16;16;16m██\u001b[38;2;6;6;6m██\u001b[38;2;0;0;0m██\u001b[38;2;55;55;55m██\u001b[38;2;81;81;81m██\u001b[38;2;131;131;131m██\u001b[38;2;146;146;146m██\u001b[38;2;161;161;161m██\u001b[38;2;141;141;141m██\u001b[38;2;167;167;167m██\u001b[38;2;182;182;182m██\u001b[38;2;173;173;173m██\u001b[38;2;122;122;122m██\u001b[38;2;100;100;100m██\u001b[38;2;51;51;51m██\u001b[38;2;19;19;19m██\u001b[38;2;0;0;0m██\u001b[38;2;0;0;0m██\u001b[38;2;9;9;9m██\u001b[38;2;36;36;36m██\u001b[38;2;68;68;68m██\u001b[38;2;66;66;66m██\u001b[38;2;55;55;55m██\u001b[38;2;42;42;42m██\u001b[0m\n",
       "\u001b[0m\u001b[38;2;0;0;0m██\u001b[38;2;5;5;5m██\u001b[38;2;18;18;18m██\u001b[38;2;25;25;25m██\u001b[38;2;64;64;64m██\u001b[38;2;138;138;138m██\u001b[38;2;156;156;156m██\u001b[38;2;123;123;123m██\u001b[38;2;91;91;91m██\u001b[38;2;102;102;102m██\u001b[38;2;157;157;157m██\u001b[38;2;187;187;187m██\u001b[38;2;137;137;137m██\u001b[38;2;130;130;130m██\u001b[38;2;162;162;162m██\u001b[38;2;182;182;182m██\u001b[38;2;133;133;133m██\u001b[38;2;117;117;117m██\u001b[38;2;78;78;78m██\u001b[38;2;12;12;12m██\u001b[38;2;0;0;0m██\u001b[38;2;0;0;0m██\u001b[38;2;9;9;9m██\u001b[38;2;52;52;52m██\u001b[38;2;82;82;82m██\u001b[38;2;82;82;82m██\u001b[38;2;69;69;69m██\u001b[38;2;40;40;40m██\u001b[0m\n",
       "\u001b[0m\u001b[38;2;3;3;3m██\u001b[38;2;40;40;40m██\u001b[38;2;44;44;44m██\u001b[38;2;76;76;76m██\u001b[38;2;131;131;131m██\u001b[38;2;157;157;157m██\u001b[38;2;163;163;163m██\u001b[38;2;160;160;160m██\u001b[38;2;157;157;157m██\u001b[38;2;88;88;88m██\u001b[38;2;73;73;73m██\u001b[38;2;69;69;69m██\u001b[38;2;150;150;150m██\u001b[38;2;137;137;137m██\u001b[38;2;96;96;96m██\u001b[38;2;63;63;63m██\u001b[38;2;72;72;72m██\u001b[38;2;90;90;90m██\u001b[38;2;58;58;58m██\u001b[38;2;37;37;37m██\u001b[38;2;8;8;8m██\u001b[38;2;2;2;2m██\u001b[38;2;15;15;15m██\u001b[38;2;32;32;32m██\u001b[38;2;63;63;63m██\u001b[38;2;71;71;71m██\u001b[38;2;47;47;47m██\u001b[38;2;23;23;23m██\u001b[0m\n",
       "\u001b[0m\u001b[38;2;4;4;4m██\u001b[38;2;12;12;12m██\u001b[38;2;38;38;38m██\u001b[38;2;45;45;45m██\u001b[38;2;52;52;52m██\u001b[38;2;65;65;65m██\u001b[38;2;111;111;111m██\u001b[38;2;113;113;113m██\u001b[38;2;100;100;100m██\u001b[38;2;20;20;20m██\u001b[38;2;62;62;62m██\u001b[38;2;58;58;58m██\u001b[38;2;77;77;77m██\u001b[38;2;63;63;63m██\u001b[38;2;47;47;47m██\u001b[38;2;26;26;26m██\u001b[38;2;1;1;1m██\u001b[38;2;44;44;44m██\u001b[38;2;74;74;74m██\u001b[38;2;87;87;87m██\u001b[38;2;57;57;57m██\u001b[38;2;23;23;23m██\u001b[38;2;23;23;23m██\u001b[38;2;12;12;12m██\u001b[38;2;9;9;9m██\u001b[38;2;31;31;31m██\u001b[38;2;31;31;31m██\u001b[38;2;30;30;30m██\u001b[0m\n",
       "\u001b[0m\u001b[38;2;39;39;39m██\u001b[38;2;45;45;45m██\u001b[38;2;50;50;50m██\u001b[38;2;98;98;98m██\u001b[38;2;113;113;113m██\u001b[38;2;113;113;113m██\u001b[38;2;83;83;83m██\u001b[38;2;90;90;90m██\u001b[38;2;85;85;85m██\u001b[38;2;55;55;55m██\u001b[38;2;17;17;17m██\u001b[38;2;0;0;0m██\u001b[38;2;47;47;47m██\u001b[38;2;25;25;25m██\u001b[38;2;6;6;6m██\u001b[38;2;36;36;36m██\u001b[38;2;59;59;59m██\u001b[38;2;88;88;88m██\u001b[38;2;95;95;95m██\u001b[38;2;82;82;82m██\u001b[38;2;31;31;31m██\u001b[38;2;11;11;11m██\u001b[38;2;0;0;0m██\u001b[38;2;0;0;0m██\u001b[38;2;22;22;22m██\u001b[38;2;31;31;31m██\u001b[38;2;31;31;31m██\u001b[38;2;25;25;25m██\u001b[0m\n",
       "\u001b[0m\u001b[38;2;62;62;62m██\u001b[38;2;98;98;98m██\u001b[38;2;115;115;115m██\u001b[38;2;122;122;122m██\u001b[38;2;106;106;106m██\u001b[38;2;85;85;85m██\u001b[38;2;73;73;73m██\u001b[38;2;71;71;71m██\u001b[38;2;30;30;30m██\u001b[38;2;0;0;0m██\u001b[38;2;0;0;0m██\u001b[38;2;0;0;0m██\u001b[38;2;27;27;27m██\u001b[38;2;39;39;39m██\u001b[38;2;66;66;66m██\u001b[38;2;79;79;79m██\u001b[38;2;90;90;90m██\u001b[38;2;90;90;90m██\u001b[38;2;82;82;82m██\u001b[38;2;62;62;62m██\u001b[38;2;3;3;3m██\u001b[38;2;0;0;0m██\u001b[38;2;0;0;0m██\u001b[38;2;10;10;10m██\u001b[38;2;31;31;31m██\u001b[38;2;31;31;31m██\u001b[38;2;30;30;30m██\u001b[38;2;22;22;22m██\u001b[0m"
      ]
     },
     "execution_count": 62,
     "metadata": {},
     "output_type": "execute_result"
    }
   ],
   "source": [
    "cnn_output = cnn_layer( images[:,:,:,1:3] )\n",
    "display( cnn_output |> size )\n",
    "convert2image( MNIST , cnn_output[:,:,1,1] )"
   ]
  },
  {
   "cell_type": "markdown",
   "metadata": {},
   "source": [
    "## <span style=\"color:orange\"> Transposed convolutional  </span>\n",
    "\n",
    "- Transposed convolutional layers 'upsample' the data, so that the output feature map goes from 'low' resolution to 'high' resolution.\n",
    "- Previously the operations would 'downsample' that reduces resolution.\n",
    "- Increases the size of the output\n",
    "- Takes each kernel element and projects onto the surroundings to create a patch\n",
    "\n",
    "![image info](./demoPics/no_padding_no_strides_transposed.gif)\n",
    "\n",
    "(transposed convolution, no padding no strides)\n",
    "\n",
    "![image info](./demoPics/full_padding_no_strides_transposed.gif)\n",
    "\n",
    "(transposed convolution, full padding no strides)\n",
    "\n",
    "![image info](./demoPics/padding_strides_transposed.gif)\n",
    "\n",
    "(transposed convolution, padding no strides)"
   ]
  },
  {
   "cell_type": "code",
   "execution_count": 63,
   "metadata": {},
   "outputs": [
    {
     "data": {
      "text/plain": [
       "(14, 14, 1, 10)"
      ]
     },
     "execution_count": 63,
     "metadata": {},
     "output_type": "execute_result"
    }
   ],
   "source": [
    "x = rand(Float32, 10, 10, 1, 10); \n",
    "cnn_layer = ConvTranspose( (5,5) , 1 => 1  )\n",
    "cnn_layer( x ) |> size"
   ]
  },
  {
   "cell_type": "code",
   "execution_count": 64,
   "metadata": {},
   "outputs": [
    {
     "data": {
      "text/plain": [
       "(32, 32, 1, 3)"
      ]
     },
     "metadata": {},
     "output_type": "display_data"
    },
    {
     "data": {
      "image/png": "[encoded data removed]",
      "text/plain": [
       "\u001b[0m\u001b[38;2;0;0;0;48;2;0;0;0m▀\u001b[38;2;0;0;0;48;2;0;0;0m▀\u001b[38;2;0;0;0;48;2;0;0;0m▀\u001b[38;2;0;0;0;48;2;0;0;0m▀\u001b[38;2;0;0;0;48;2;0;0;0m▀\u001b[38;2;0;0;0;48;2;0;0;0m▀\u001b[38;2;0;0;0;48;2;0;0;0m▀\u001b[38;2;0;0;0;48;2;0;0;0m▀\u001b[38;2;0;0;0;48;2;0;0;0m▀\u001b[38;2;0;0;0;48;2;0;0;0m▀\u001b[38;2;0;0;0;48;2;0;0;0m▀\u001b[38;2;0;0;0;48;2;0;0;0m▀\u001b[38;2;0;0;0;48;2;0;0;0m▀\u001b[38;2;0;0;0;48;2;0;0;0m▀\u001b[38;2;0;0;0;48;2;0;0;0m▀\u001b[38;2;0;0;0;48;2;0;0;0m▀\u001b[38;2;0;0;0;48;2;0;0;0m▀\u001b[38;2;0;0;0;48;2;0;0;0m▀\u001b[38;2;0;0;0;48;2;0;0;0m▀\u001b[38;2;0;0;0;48;2;0;0;0m▀\u001b[38;2;0;0;0;48;2;0;0;0m▀\u001b[38;2;0;0;0;48;2;0;0;0m▀\u001b[38;2;0;0;0;48;2;0;0;0m▀\u001b[38;2;0;0;0;48;2;0;0;0m▀\u001b[38;2;0;0;0;48;2;0;0;0m▀\u001b[38;2;0;0;0;48;2;0;0;0m▀\u001b[38;2;0;0;0;48;2;0;0;0m▀\u001b[38;2;0;0;0;48;2;0;0;0m▀\u001b[38;2;0;0;0;48;2;0;0;0m▀\u001b[38;2;0;0;0;48;2;0;0;0m▀\u001b[38;2;0;0;0;48;2;0;0;0m▀\u001b[38;2;0;0;0;48;2;0;0;0m▀\u001b[0m\n",
       "\u001b[0m\u001b[38;2;0;0;0;48;2;0;0;0m▀\u001b[38;2;0;0;0;48;2;0;0;0m▀\u001b[38;2;0;0;0;48;2;0;0;0m▀\u001b[38;2;0;0;0;48;2;0;0;0m▀\u001b[38;2;0;0;0;48;2;0;0;0m▀\u001b[38;2;0;0;0;48;2;0;0;0m▀\u001b[38;2;0;0;0;48;2;0;0;0m▀\u001b[38;2;0;0;0;48;2;0;0;0m▀\u001b[38;2;0;0;0;48;2;0;0;0m▀\u001b[38;2;0;0;0;48;2;0;0;0m▀\u001b[38;2;0;0;0;48;2;0;0;0m▀\u001b[38;2;0;0;0;48;2;0;0;0m▀\u001b[38;2;0;0;0;48;2;0;0;0m▀\u001b[38;2;0;0;0;48;2;0;0;0m▀\u001b[38;2;0;0;0;48;2;0;0;0m▀\u001b[38;2;0;0;0;48;2;0;0;0m▀\u001b[38;2;0;0;0;48;2;0;0;0m▀\u001b[38;2;0;0;0;48;2;0;0;0m▀\u001b[38;2;0;0;0;48;2;0;0;0m▀\u001b[38;2;0;0;0;48;2;0;0;0m▀\u001b[38;2;0;0;0;48;2;0;0;0m▀\u001b[38;2;0;0;0;48;2;0;0;0m▀\u001b[38;2;0;0;0;48;2;0;0;0m▀\u001b[38;2;0;0;0;48;2;0;0;0m▀\u001b[38;2;0;0;0;48;2;0;0;0m▀\u001b[38;2;0;0;0;48;2;0;0;0m▀\u001b[38;2;0;0;0;48;2;0;0;0m▀\u001b[38;2;0;0;0;48;2;0;0;0m▀\u001b[38;2;0;0;0;48;2;0;0;0m▀\u001b[38;2;0;0;0;48;2;0;0;0m▀\u001b[38;2;0;0;0;48;2;0;0;0m▀\u001b[38;2;0;0;0;48;2;0;0;0m▀\u001b[0m\n",
       "\u001b[0m\u001b[38;2;0;0;0;48;2;0;0;0m▀\u001b[38;2;0;0;0;48;2;0;0;0m▀\u001b[38;2;0;0;0;48;2;0;0;0m▀\u001b[38;2;0;0;0;48;2;0;0;0m▀\u001b[38;2;0;0;0;48;2;0;0;0m▀\u001b[38;2;0;0;0;48;2;0;0;0m▀\u001b[38;2;0;0;0;48;2;0;0;0m▀\u001b[38;2;0;0;0;48;2;0;0;0m▀\u001b[38;2;0;0;0;48;2;0;0;0m▀\u001b[38;2;0;0;0;48;2;0;0;0m▀\u001b[38;2;0;0;0;48;2;0;0;0m▀\u001b[38;2;0;0;0;48;2;0;0;0m▀\u001b[38;2;0;0;0;48;2;0;0;0m▀\u001b[38;2;0;0;0;48;2;0;0;0m▀\u001b[38;2;0;0;0;48;2;1;1;1m▀\u001b[38;2;0;0;0;48;2;0;0;0m▀\u001b[38;2;0;0;0;48;2;0;0;0m▀\u001b[38;2;0;0;0;48;2;3;3;3m▀\u001b[38;2;0;0;0;48;2;0;0;0m▀\u001b[38;2;0;0;0;48;2;8;8;8m▀\u001b[38;2;0;0;0;48;2;0;0;0m▀\u001b[38;2;0;0;0;48;2;0;0;0m▀\u001b[38;2;0;0;0;48;2;0;0;0m▀\u001b[38;2;0;0;0;48;2;1;1;1m▀\u001b[38;2;0;0;0;48;2;0;0;0m▀\u001b[38;2;0;0;0;48;2;0;0;0m▀\u001b[38;2;0;0;0;48;2;0;0;0m▀\u001b[38;2;0;0;0;48;2;0;0;0m▀\u001b[38;2;0;0;0;48;2;0;0;0m▀\u001b[38;2;0;0;0;48;2;0;0;0m▀\u001b[38;2;0;0;0;48;2;0;0;0m▀\u001b[38;2;0;0;0;48;2;0;0;0m▀\u001b[0m\n",
       "\u001b[0m\u001b[38;2;0;0;0;48;2;0;0;0m▀\u001b[38;2;0;0;0;48;2;0;0;0m▀\u001b[38;2;0;0;0;48;2;0;0;0m▀\u001b[38;2;0;0;0;48;2;0;0;0m▀\u001b[38;2;0;0;0;48;2;0;0;0m▀\u001b[38;2;0;0;0;48;2;0;0;0m▀\u001b[38;2;0;0;0;48;2;0;0;0m▀\u001b[38;2;0;0;0;48;2;0;0;0m▀\u001b[38;2;0;0;0;48;2;0;0;0m▀\u001b[38;2;1;1;1;48;2;7;7;7m▀\u001b[38;2;0;0;0;48;2;0;0;0m▀\u001b[38;2;0;0;0;48;2;0;0;0m▀\u001b[38;2;0;0;0;48;2;0;0;0m▀\u001b[38;2;0;0;0;48;2;0;0;0m▀\u001b[38;2;0;0;0;48;2;0;0;0m▀\u001b[38;2;0;0;0;48;2;0;0;0m▀\u001b[38;2;0;0;0;48;2;0;0;0m▀\u001b[38;2;0;0;0;48;2;0;0;0m▀\u001b[38;2;0;0;0;48;2;0;0;0m▀\u001b[38;2;0;0;0;48;2;0;0;0m▀\u001b[38;2;0;0;0;48;2;0;0;0m▀\u001b[38;2;0;0;0;48;2;0;0;0m▀\u001b[38;2;0;0;0;48;2;0;0;0m▀\u001b[38;2;0;0;0;48;2;0;0;0m▀\u001b[38;2;0;0;0;48;2;0;0;0m▀\u001b[38;2;0;0;0;48;2;9;9;9m▀\u001b[38;2;2;2;2;48;2;0;0;0m▀\u001b[38;2;0;0;0;48;2;0;0;0m▀\u001b[38;2;0;0;0;48;2;0;0;0m▀\u001b[38;2;0;0;0;48;2;0;0;0m▀\u001b[38;2;0;0;0;48;2;0;0;0m▀\u001b[38;2;0;0;0;48;2;0;0;0m▀\u001b[0m\n",
       "\u001b[0m\u001b[38;2;0;0;0;48;2;0;0;0m▀\u001b[38;2;0;0;0;48;2;0;0;0m▀\u001b[38;2;0;0;0;48;2;0;0;0m▀\u001b[38;2;0;0;0;48;2;0;0;0m▀\u001b[38;2;0;0;0;48;2;0;0;0m▀\u001b[38;2;0;0;0;48;2;0;0;0m▀\u001b[38;2;0;0;0;48;2;0;0;0m▀\u001b[38;2;7;7;7;48;2;14;14;14m▀\u001b[38;2;18;18;18;48;2;60;60;60m▀\u001b[38;2;0;0;0;48;2;0;0;0m▀\u001b[38;2;0;0;0;48;2;0;0;0m▀\u001b[38;2;0;0;0;48;2;0;0;0m▀\u001b[38;2;0;0;0;48;2;0;0;0m▀\u001b[38;2;0;0;0;48;2;0;0;0m▀\u001b[38;2;0;0;0;48;2;0;0;0m▀\u001b[38;2;0;0;0;48;2;0;0;0m▀\u001b[38;2;0;0;0;48;2;0;0;0m▀\u001b[38;2;0;0;0;48;2;0;0;0m▀\u001b[38;2;0;0;0;48;2;0;0;0m▀\u001b[38;2;0;0;0;48;2;0;0;0m▀\u001b[38;2;0;0;0;48;2;0;0;0m▀\u001b[38;2;0;0;0;48;2;0;0;0m▀\u001b[38;2;0;0;0;48;2;0;0;0m▀\u001b[38;2;0;0;0;48;2;0;0;0m▀\u001b[38;2;0;0;0;48;2;0;0;0m▀\u001b[38;2;0;0;0;48;2;0;0;0m▀\u001b[38;2;0;0;0;48;2;29;29;29m▀\u001b[38;2;0;0;0;48;2;31;31;31m▀\u001b[38;2;0;0;0;48;2;0;0;0m▀\u001b[38;2;0;0;0;48;2;0;0;0m▀\u001b[38;2;0;0;0;48;2;0;0;0m▀\u001b[38;2;0;0;0;48;2;0;0;0m▀\u001b[0m\n",
       "\u001b[0m\u001b[38;2;0;0;0;48;2;0;0;0m▀\u001b[38;2;0;0;0;48;2;0;0;0m▀\u001b[38;2;0;0;0;48;2;0;0;0m▀\u001b[38;2;0;0;0;48;2;0;0;0m▀\u001b[38;2;0;0;0;48;2;0;0;0m▀\u001b[38;2;0;0;0;48;2;0;0;0m▀\u001b[38;2;0;0;0;48;2;0;0;0m▀\u001b[38;2;0;0;0;48;2;7;7;7m▀\u001b[38;2;18;18;18;48;2;22;22;22m▀\u001b[38;2;0;0;0;48;2;0;0;0m▀\u001b[38;2;0;0;0;48;2;0;0;0m▀\u001b[38;2;0;0;0;48;2;0;0;0m▀\u001b[38;2;0;0;0;48;2;0;0;0m▀\u001b[38;2;0;0;0;48;2;0;0;0m▀\u001b[38;2;0;0;0;48;2;0;0;0m▀\u001b[38;2;0;0;0;48;2;0;0;0m▀\u001b[38;2;0;0;0;48;2;0;0;0m▀\u001b[38;2;0;0;0;48;2;0;0;0m▀\u001b[38;2;0;0;0;48;2;0;0;0m▀\u001b[38;2;0;0;0;48;2;0;0;0m▀\u001b[38;2;0;0;0;48;2;8;8;8m▀\u001b[38;2;0;0;0;48;2;0;0;0m▀\u001b[38;2;0;0;0;48;2;0;0;0m▀\u001b[38;2;0;0;0;48;2;0;0;0m▀\u001b[38;2;0;0;0;48;2;5;5;5m▀\u001b[38;2;19;19;19;48;2;9;9;9m▀\u001b[38;2;40;40;40;48;2;10;10;10m▀\u001b[38;2;16;16;16;48;2;0;0;0m▀\u001b[38;2;0;0;0;48;2;0;0;0m▀\u001b[38;2;0;0;0;48;2;0;0;0m▀\u001b[38;2;0;0;0;48;2;0;0;0m▀\u001b[38;2;0;0;0;48;2;0;0;0m▀\u001b[0m\n",
       "\u001b[0m\u001b[38;2;0;0;0;48;2;0;0;0m▀\u001b[38;2;0;0;0;48;2;0;0;0m▀\u001b[38;2;0;0;0;48;2;0;0;0m▀\u001b[38;2;0;0;0;48;2;0;0;0m▀\u001b[38;2;0;0;0;48;2;0;0;0m▀\u001b[38;2;0;0;0;48;2;0;0;0m▀\u001b[38;2;0;0;0;48;2;0;0;0m▀\u001b[38;2;3;3;3;48;2;0;0;0m▀\u001b[38;2;30;30;30;48;2;16;16;16m▀\u001b[38;2;0;0;0;48;2;11;11;11m▀\u001b[38;2;0;0;0;48;2;0;0;0m▀\u001b[38;2;0;0;0;48;2;0;0;0m▀\u001b[38;2;0;0;0;48;2;0;0;0m▀\u001b[38;2;0;0;0;48;2;0;0;0m▀\u001b[38;2;0;0;0;48;2;0;0;0m▀\u001b[38;2;0;0;0;48;2;0;0;0m▀\u001b[38;2;0;0;0;48;2;30;30;30m▀\u001b[38;2;0;0;0;48;2;9;9;9m▀\u001b[38;2;0;0;0;48;2;0;0;0m▀\u001b[38;2;0;0;0;48;2;0;0;0m▀\u001b[38;2;22;22;22;48;2;0;0;0m▀\u001b[38;2;57;57;57;48;2;39;39;39m▀\u001b[38;2;0;0;0;48;2;0;0;0m▀\u001b[38;2;0;0;0;48;2;0;0;0m▀\u001b[38;2;0;0;0;48;2;0;0;0m▀\u001b[38;2;0;0;0;48;2;0;0;0m▀\u001b[38;2;0;0;0;48;2;0;0;0m▀\u001b[38;2;0;0;0;48;2;0;0;0m▀\u001b[38;2;0;0;0;48;2;0;0;0m▀\u001b[38;2;0;0;0;48;2;0;0;0m▀\u001b[38;2;0;0;0;48;2;0;0;0m▀\u001b[38;2;0;0;0;48;2;0;0;0m▀\u001b[0m\n",
       "\u001b[0m\u001b[38;2;0;0;0;48;2;0;0;0m▀\u001b[38;2;0;0;0;48;2;0;0;0m▀\u001b[38;2;0;0;0;48;2;0;0;0m▀\u001b[38;2;0;0;0;48;2;0;0;0m▀\u001b[38;2;0;0;0;48;2;0;0;0m▀\u001b[38;2;0;0;0;48;2;0;0;0m▀\u001b[38;2;0;0;0;48;2;0;0;0m▀\u001b[38;2;0;0;0;48;2;0;0;0m▀\u001b[38;2;0;0;0;48;2;0;0;0m▀\u001b[38;2;3;3;3;48;2;0;0;0m▀\u001b[38;2;0;0;0;48;2;0;0;0m▀\u001b[38;2;13;13;13;48;2;26;26;26m▀\u001b[38;2;0;0;0;48;2;1;1;1m▀\u001b[38;2;0;0;0;48;2;0;0;0m▀\u001b[38;2;0;0;0;48;2;0;0;0m▀\u001b[38;2;0;0;0;48;2;0;0;0m▀\u001b[38;2;0;0;0;48;2;0;0;0m▀\u001b[38;2;0;0;0;48;2;0;0;0m▀\u001b[38;2;0;0;0;48;2;0;0;0m▀\u001b[38;2;0;0;0;48;2;0;0;0m▀\u001b[38;2;0;0;0;48;2;0;0;0m▀\u001b[38;2;0;0;0;48;2;0;0;0m▀\u001b[38;2;0;0;0;48;2;0;0;0m▀\u001b[38;2;0;0;0;48;2;0;0;0m▀\u001b[38;2;0;0;0;48;2;0;0;0m▀\u001b[38;2;0;0;0;48;2;0;0;0m▀\u001b[38;2;0;0;0;48;2;0;0;0m▀\u001b[38;2;0;0;0;48;2;0;0;0m▀\u001b[38;2;0;0;0;48;2;0;0;0m▀\u001b[38;2;0;0;0;48;2;0;0;0m▀\u001b[38;2;0;0;0;48;2;0;0;0m▀\u001b[38;2;0;0;0;48;2;0;0;0m▀\u001b[0m\n",
       "\u001b[0m\u001b[38;2;0;0;0;48;2;0;0;0m▀\u001b[38;2;0;0;0;48;2;0;0;0m▀\u001b[38;2;0;0;0;48;2;0;0;0m▀\u001b[38;2;0;0;0;48;2;0;0;0m▀\u001b[38;2;0;0;0;48;2;0;0;0m▀\u001b[38;2;0;0;0;48;2;0;0;0m▀\u001b[38;2;0;0;0;48;2;0;0;0m▀\u001b[38;2;0;0;0;48;2;0;0;0m▀\u001b[38;2;0;0;0;48;2;0;0;0m▀\u001b[38;2;0;0;0;48;2;0;0;0m▀\u001b[38;2;0;0;0;48;2;0;0;0m▀\u001b[38;2;2;2;2;48;2;0;0;0m▀\u001b[38;2;31;31;31;48;2;7;7;7m▀\u001b[38;2;0;0;0;48;2;30;30;30m▀\u001b[38;2;0;0;0;48;2;0;0;0m▀\u001b[38;2;0;0;0;48;2;0;0;0m▀\u001b[38;2;0;0;0;48;2;0;0;0m▀\u001b[38;2;0;0;0;48;2;0;0;0m▀\u001b[38;2;0;0;0;48;2;0;0;0m▀\u001b[38;2;0;0;0;48;2;0;0;0m▀\u001b[38;2;0;0;0;48;2;0;0;0m▀\u001b[38;2;0;0;0;48;2;0;0;0m▀\u001b[38;2;0;0;0;48;2;0;0;0m▀\u001b[38;2;0;0;0;48;2;0;0;0m▀\u001b[38;2;0;0;0;48;2;0;0;0m▀\u001b[38;2;0;0;0;48;2;0;0;0m▀\u001b[38;2;0;0;0;48;2;0;0;0m▀\u001b[38;2;0;0;0;48;2;0;0;0m▀\u001b[38;2;0;0;0;48;2;0;0;0m▀\u001b[38;2;0;0;0;48;2;0;0;0m▀\u001b[38;2;0;0;0;48;2;0;0;0m▀\u001b[38;2;0;0;0;48;2;0;0;0m▀\u001b[0m\n",
       "\u001b[0m\u001b[38;2;0;0;0;48;2;0;0;0m▀\u001b[38;2;0;0;0;48;2;0;0;0m▀\u001b[38;2;0;0;0;48;2;0;0;0m▀\u001b[38;2;0;0;0;48;2;0;0;0m▀\u001b[38;2;0;0;0;48;2;0;0;0m▀\u001b[38;2;0;0;0;48;2;0;0;0m▀\u001b[38;2;0;0;0;48;2;0;0;0m▀\u001b[38;2;0;0;0;48;2;0;0;0m▀\u001b[38;2;0;0;0;48;2;0;0;0m▀\u001b[38;2;0;0;0;48;2;0;0;0m▀\u001b[38;2;0;0;0;48;2;0;0;0m▀\u001b[38;2;0;0;0;48;2;0;0;0m▀\u001b[38;2;0;0;0;48;2;0;0;0m▀\u001b[38;2;16;16;16;48;2;0;0;0m▀\u001b[38;2;20;20;20;48;2;17;17;17m▀\u001b[38;2;0;0;0;48;2;35;35;35m▀\u001b[38;2;0;0;0;48;2;0;0;0m▀\u001b[38;2;0;0;0;48;2;0;0;0m▀\u001b[38;2;0;0;0;48;2;0;0;0m▀\u001b[38;2;0;0;0;48;2;0;0;0m▀\u001b[38;2;0;0;0;48;2;0;0;0m▀\u001b[38;2;0;0;0;48;2;0;0;0m▀\u001b[38;2;0;0;0;48;2;17;17;17m▀\u001b[38;2;0;0;0;48;2;0;0;0m▀\u001b[38;2;0;0;0;48;2;0;0;0m▀\u001b[38;2;0;0;0;48;2;0;0;0m▀\u001b[38;2;0;0;0;48;2;0;0;0m▀\u001b[38;2;0;0;0;48;2;0;0;0m▀\u001b[38;2;0;0;0;48;2;0;0;0m▀\u001b[38;2;0;0;0;48;2;0;0;0m▀\u001b[38;2;0;0;0;48;2;0;0;0m▀\u001b[38;2;0;0;0;48;2;0;0;0m▀\u001b[0m\n",
       "\u001b[0m\u001b[38;2;0;0;0;48;2;0;0;0m▀\u001b[38;2;0;0;0;48;2;0;0;0m▀\u001b[38;2;0;0;0;48;2;0;0;0m▀\u001b[38;2;0;0;0;48;2;0;0;0m▀\u001b[38;2;0;0;0;48;2;0;0;0m▀\u001b[38;2;0;0;0;48;2;0;0;0m▀\u001b[38;2;0;0;0;48;2;0;0;0m▀\u001b[38;2;0;0;0;48;2;0;0;0m▀\u001b[38;2;0;0;0;48;2;0;0;0m▀\u001b[38;2;0;0;0;48;2;0;0;0m▀\u001b[38;2;0;0;0;48;2;0;0;0m▀\u001b[38;2;0;0;0;48;2;18;18;18m▀\u001b[38;2;4;4;4;48;2;1;1;1m▀\u001b[38;2;17;17;17;48;2;0;0;0m▀\u001b[38;2;0;0;0;48;2;0;0;0m▀\u001b[38;2;0;0;0;48;2;0;0;0m▀\u001b[38;2;0;0;0;48;2;0;0;0m▀\u001b[38;2;0;0;0;48;2;0;0;0m▀\u001b[38;2;0;0;0;48;2;0;0;0m▀\u001b[38;2;0;0;0;48;2;0;0;0m▀\u001b[38;2;0;0;0;48;2;0;0;0m▀\u001b[38;2;0;0;0;48;2;0;0;0m▀\u001b[38;2;8;8;8;48;2;0;0;0m▀\u001b[38;2;0;0;0;48;2;7;7;7m▀\u001b[38;2;0;0;0;48;2;16;16;16m▀\u001b[38;2;0;0;0;48;2;0;0;0m▀\u001b[38;2;0;0;0;48;2;0;0;0m▀\u001b[38;2;0;0;0;48;2;0;0;0m▀\u001b[38;2;0;0;0;48;2;0;0;0m▀\u001b[38;2;0;0;0;48;2;0;0;0m▀\u001b[38;2;0;0;0;48;2;0;0;0m▀\u001b[38;2;0;0;0;48;2;0;0;0m▀\u001b[0m\n",
       "\u001b[0m\u001b[38;2;0;0;0;48;2;0;0;0m▀\u001b[38;2;0;0;0;48;2;0;0;0m▀\u001b[38;2;0;0;0;48;2;0;0;0m▀\u001b[38;2;0;0;0;48;2;0;0;0m▀\u001b[38;2;0;0;0;48;2;0;0;0m▀\u001b[38;2;0;0;0;48;2;0;0;0m▀\u001b[38;2;0;0;0;48;2;6;6;6m▀\u001b[38;2;0;0;0;48;2;24;24;24m▀\u001b[38;2;10;10;10;48;2;0;0;0m▀\u001b[38;2;4;4;4;48;2;0;0;0m▀\u001b[38;2;10;10;10;48;2;0;0;0m▀\u001b[38;2;0;0;0;48;2;0;0;0m▀\u001b[38;2;0;0;0;48;2;0;0;0m▀\u001b[38;2;0;0;0;48;2;0;0;0m▀\u001b[38;2;0;0;0;48;2;0;0;0m▀\u001b[38;2;0;0;0;48;2;0;0;0m▀\u001b[38;2;0;0;0;48;2;0;0;0m▀\u001b[38;2;0;0;0;48;2;0;0;0m▀\u001b[38;2;0;0;0;48;2;0;0;0m▀\u001b[38;2;0;0;0;48;2;0;0;0m▀\u001b[38;2;0;0;0;48;2;0;0;0m▀\u001b[38;2;0;0;0;48;2;0;0;0m▀\u001b[38;2;3;3;3;48;2;38;38;38m▀\u001b[38;2;48;48;48;48;2;46;46;46m▀\u001b[38;2;1;1;1;48;2;0;0;0m▀\u001b[38;2;0;0;0;48;2;0;0;0m▀\u001b[38;2;0;0;0;48;2;0;0;0m▀\u001b[38;2;0;0;0;48;2;0;0;0m▀\u001b[38;2;0;0;0;48;2;0;0;0m▀\u001b[38;2;0;0;0;48;2;0;0;0m▀\u001b[38;2;0;0;0;48;2;0;0;0m▀\u001b[38;2;0;0;0;48;2;0;0;0m▀\u001b[0m\n",
       "\u001b[0m\u001b[38;2;0;0;0;48;2;0;0;0m▀\u001b[38;2;0;0;0;48;2;0;0;0m▀\u001b[38;2;0;0;0;48;2;0;0;0m▀\u001b[38;2;0;0;0;48;2;0;0;0m▀\u001b[38;2;0;0;0;48;2;36;36;36m▀\u001b[38;2;12;12;12;48;2;22;22;22m▀\u001b[38;2;0;0;0;48;2;0;0;0m▀\u001b[38;2;0;0;0;48;2;0;0;0m▀\u001b[38;2;0;0;0;48;2;0;0;0m▀\u001b[38;2;0;0;0;48;2;0;0;0m▀\u001b[38;2;0;0;0;48;2;0;0;0m▀\u001b[38;2;0;0;0;48;2;0;0;0m▀\u001b[38;2;0;0;0;48;2;0;0;0m▀\u001b[38;2;0;0;0;48;2;0;0;0m▀\u001b[38;2;0;0;0;48;2;0;0;0m▀\u001b[38;2;0;0;0;48;2;0;0;0m▀\u001b[38;2;0;0;0;48;2;0;0;0m▀\u001b[38;2;0;0;0;48;2;0;0;0m▀\u001b[38;2;0;0;0;48;2;18;18;18m▀\u001b[38;2;0;0;0;48;2;39;39;39m▀\u001b[38;2;19;19;19;48;2;20;20;20m▀\u001b[38;2;41;41;41;48;2;1;1;1m▀\u001b[38;2;20;20;20;48;2;0;0;0m▀\u001b[38;2;0;0;0;48;2;0;0;0m▀\u001b[38;2;0;0;0;48;2;0;0;0m▀\u001b[38;2;0;0;0;48;2;0;0;0m▀\u001b[38;2;0;0;0;48;2;0;0;0m▀\u001b[38;2;0;0;0;48;2;0;0;0m▀\u001b[38;2;0;0;0;48;2;0;0;0m▀\u001b[38;2;0;0;0;48;2;0;0;0m▀\u001b[38;2;0;0;0;48;2;0;0;0m▀\u001b[38;2;0;0;0;48;2;0;0;0m▀\u001b[0m\n",
       "\u001b[0m\u001b[38;2;0;0;0;48;2;0;0;0m▀\u001b[38;2;0;0;0;48;2;0;0;0m▀\u001b[38;2;0;0;0;48;2;0;0;0m▀\u001b[38;2;0;0;0;48;2;0;0;0m▀\u001b[38;2;23;23;23;48;2;0;0;0m▀\u001b[38;2;0;0;0;48;2;0;0;0m▀\u001b[38;2;0;0;0;48;2;0;0;0m▀\u001b[38;2;0;0;0;48;2;0;0;0m▀\u001b[38;2;0;0;0;48;2;0;0;0m▀\u001b[38;2;0;0;0;48;2;0;0;0m▀\u001b[38;2;0;0;0;48;2;0;0;0m▀\u001b[38;2;0;0;0;48;2;0;0;0m▀\u001b[38;2;0;0;0;48;2;0;0;0m▀\u001b[38;2;0;0;0;48;2;0;0;0m▀\u001b[38;2;0;0;0;48;2;0;0;0m▀\u001b[38;2;0;0;0;48;2;42;42;42m▀\u001b[38;2;16;16;16;48;2;32;32;32m▀\u001b[38;2;37;37;37;48;2;3;3;3m▀\u001b[38;2;19;19;19;48;2;0;0;0m▀\u001b[38;2;2;2;2;48;2;0;0;0m▀\u001b[38;2;0;0;0;48;2;0;0;0m▀\u001b[38;2;0;0;0;48;2;0;0;0m▀\u001b[38;2;0;0;0;48;2;0;0;0m▀\u001b[38;2;0;0;0;48;2;0;0;0m▀\u001b[38;2;0;0;0;48;2;0;0;0m▀\u001b[38;2;0;0;0;48;2;0;0;0m▀\u001b[38;2;0;0;0;48;2;0;0;0m▀\u001b[38;2;0;0;0;48;2;0;0;0m▀\u001b[38;2;0;0;0;48;2;0;0;0m▀\u001b[38;2;0;0;0;48;2;0;0;0m▀\u001b[38;2;0;0;0;48;2;0;0;0m▀\u001b[38;2;0;0;0;48;2;0;0;0m▀\u001b[0m\n",
       "\u001b[0m\u001b[38;2;0;0;0;48;2;0;0;0m▀\u001b[38;2;0;0;0;48;2;0;0;0m▀\u001b[38;2;0;0;0;48;2;0;0;0m▀\u001b[38;2;0;0;0;48;2;0;0;0m▀\u001b[38;2;26;26;26;48;2;0;0;0m▀\u001b[38;2;19;19;19;48;2;0;0;0m▀\u001b[38;2;0;0;0;48;2;0;0;0m▀\u001b[38;2;0;0;0;48;2;0;0;0m▀\u001b[38;2;0;0;0;48;2;0;0;0m▀\u001b[38;2;0;0;0;48;2;0;0;0m▀\u001b[38;2;0;0;0;48;2;0;0;0m▀\u001b[38;2;0;0;0;48;2;0;0;0m▀\u001b[38;2;4;4;4;48;2;0;0;0m▀\u001b[38;2;14;14;14;48;2;0;0;0m▀\u001b[38;2;31;31;31;48;2;0;0;0m▀\u001b[38;2;4;4;4;48;2;0;0;0m▀\u001b[38;2;0;0;0;48;2;0;0;0m▀\u001b[38;2;0;0;0;48;2;0;0;0m▀\u001b[38;2;0;0;0;48;2;0;0;0m▀\u001b[38;2;0;0;0;48;2;0;0;0m▀\u001b[38;2;0;0;0;48;2;0;0;0m▀\u001b[38;2;0;0;0;48;2;0;0;0m▀\u001b[38;2;0;0;0;48;2;0;0;0m▀\u001b[38;2;0;0;0;48;2;0;0;0m▀\u001b[38;2;0;0;0;48;2;0;0;0m▀\u001b[38;2;0;0;0;48;2;0;0;0m▀\u001b[38;2;0;0;0;48;2;0;0;0m▀\u001b[38;2;0;0;0;48;2;0;0;0m▀\u001b[38;2;0;0;0;48;2;0;0;0m▀\u001b[38;2;0;0;0;48;2;0;0;0m▀\u001b[38;2;0;0;0;48;2;0;0;0m▀\u001b[38;2;0;0;0;48;2;0;0;0m▀\u001b[0m\n",
       "\u001b[0m\u001b[38;2;0;0;0;48;2;0;0;0m▀\u001b[38;2;0;0;0;48;2;0;0;0m▀\u001b[38;2;0;0;0;48;2;0;0;0m▀\u001b[38;2;0;0;0;48;2;0;0;0m▀\u001b[38;2;0;0;0;48;2;0;0;0m▀\u001b[38;2;0;0;0;48;2;0;0;0m▀\u001b[38;2;0;0;0;48;2;0;0;0m▀\u001b[38;2;0;0;0;48;2;0;0;0m▀\u001b[38;2;0;0;0;48;2;0;0;0m▀\u001b[38;2;0;0;0;48;2;0;0;0m▀\u001b[38;2;0;0;0;48;2;0;0;0m▀\u001b[38;2;0;0;0;48;2;0;0;0m▀\u001b[38;2;0;0;0;48;2;0;0;0m▀\u001b[38;2;0;0;0;48;2;0;0;0m▀\u001b[38;2;0;0;0;48;2;0;0;0m▀\u001b[38;2;0;0;0;48;2;0;0;0m▀\u001b[38;2;0;0;0;48;2;0;0;0m▀\u001b[38;2;0;0;0;48;2;0;0;0m▀\u001b[38;2;0;0;0;48;2;0;0;0m▀\u001b[38;2;0;0;0;48;2;0;0;0m▀\u001b[38;2;0;0;0;48;2;0;0;0m▀\u001b[38;2;0;0;0;48;2;0;0;0m▀\u001b[38;2;0;0;0;48;2;0;0;0m▀\u001b[38;2;0;0;0;48;2;0;0;0m▀\u001b[38;2;0;0;0;48;2;0;0;0m▀\u001b[38;2;0;0;0;48;2;0;0;0m▀\u001b[38;2;0;0;0;48;2;0;0;0m▀\u001b[38;2;0;0;0;48;2;0;0;0m▀\u001b[38;2;0;0;0;48;2;0;0;0m▀\u001b[38;2;0;0;0;48;2;0;0;0m▀\u001b[38;2;0;0;0;48;2;0;0;0m▀\u001b[38;2;0;0;0;48;2;0;0;0m▀\u001b[0m\n"
      ]
     },
     "execution_count": 64,
     "metadata": {},
     "output_type": "execute_result"
    }
   ],
   "source": [
    "cnn_output = cnn_layer( images[:,:,:,1:3] )\n",
    "display( cnn_output |> size )\n",
    "convert2image( MNIST , cnn_output[:,:,1,1] )"
   ]
  },
  {
   "cell_type": "code",
   "execution_count": 65,
   "metadata": {},
   "outputs": [
    {
     "data": {
      "text/plain": [
       "(2, 2, 1, 10)"
      ]
     },
     "execution_count": 65,
     "metadata": {},
     "output_type": "execute_result"
    }
   ],
   "source": [
    "x = rand(Float32, 10, 10, 1, 10); \n",
    "cnn_layer = ConvTranspose( (5,5) , 1 => 1 , pad=6 )\n",
    "cnn_layer( x ) |> size"
   ]
  },
  {
   "cell_type": "code",
   "execution_count": 66,
   "metadata": {},
   "outputs": [
    {
     "data": {
      "text/plain": [
       "(20, 20, 1, 3)"
      ]
     },
     "metadata": {},
     "output_type": "display_data"
    },
    {
     "data": {
      "image/png": "[encoded data removed]",
      "text/plain": [
       "\u001b[0m\u001b[38;2;0;0;0m██\u001b[38;2;0;0;0m██\u001b[38;2;0;0;0m██\u001b[38;2;0;0;0m██\u001b[38;2;0;0;0m██\u001b[38;2;0;0;0m██\u001b[38;2;0;0;0m██\u001b[38;2;0;0;0m██\u001b[38;2;0;0;0m██\u001b[38;2;0;0;0m██\u001b[38;2;0;0;0m██\u001b[38;2;14;14;14m██\u001b[38;2;0;0;0m██\u001b[38;2;24;24;24m██\u001b[38;2;0;0;0m██\u001b[38;2;84;84;84m██\u001b[38;2;19;19;19m██\u001b[38;2;42;42;42m██\u001b[38;2;90;90;90m██\u001b[38;2;110;110;110m██\u001b[0m\n",
       "\u001b[0m\u001b[38;2;0;0;0m██\u001b[38;2;0;0;0m██\u001b[38;2;0;0;0m██\u001b[38;2;0;0;0m██\u001b[38;2;0;0;0m██\u001b[38;2;0;0;0m██\u001b[38;2;2;2;2m██\u001b[38;2;18;18;18m██\u001b[38;2;50;50;50m██\u001b[38;2;30;30;30m██\u001b[38;2;55;55;55m██\u001b[38;2;51;51;51m██\u001b[38;2;103;103;103m██\u001b[38;2;89;89;89m██\u001b[38;2;134;134;134m██\u001b[38;2;107;107;107m██\u001b[38;2;92;92;92m██\u001b[38;2;50;50;50m██\u001b[38;2;14;14;14m██\u001b[38;2;20;20;20m██\u001b[0m\n",
       "\u001b[0m\u001b[38;2;0;0;0m██\u001b[38;2;3;3;3m██\u001b[38;2;0;0;0m██\u001b[38;2;0;0;0m██\u001b[38;2;0;0;0m██\u001b[38;2;0;0;0m██\u001b[38;2;50;50;50m██\u001b[38;2;56;56;56m██\u001b[38;2;56;56;56m██\u001b[38;2;87;87;87m██\u001b[38;2;56;56;56m██\u001b[38;2;72;72;72m██\u001b[38;2;81;81;81m██\u001b[38;2;140;140;140m██\u001b[38;2;132;132;132m██\u001b[38;2;118;118;118m██\u001b[38;2;47;47;47m██\u001b[38;2;67;67;67m██\u001b[38;2;3;3;3m██\u001b[38;2;0;0;0m██\u001b[0m\n",
       "\u001b[0m\u001b[38;2;0;0;0m██\u001b[38;2;6;6;6m██\u001b[38;2;31;31;31m██\u001b[38;2;45;45;45m██\u001b[38;2;0;0;0m██\u001b[38;2;2;2;2m██\u001b[38;2;25;25;25m██\u001b[38;2;62;62;62m██\u001b[38;2;134;134;134m██\u001b[38;2;186;186;186m██\u001b[38;2;233;233;233m██\u001b[38;2;115;115;115m██\u001b[38;2;14;14;14m██\u001b[38;2;0;0;0m██\u001b[38;2;113;113;113m██\u001b[38;2;78;78;78m██\u001b[38;2;54;54;54m██\u001b[38;2;0;0;0m██\u001b[38;2;0;0;0m██\u001b[38;2;0;0;0m██\u001b[0m\n",
       "\u001b[0m\u001b[38;2;0;0;0m██\u001b[38;2;2;2;2m██\u001b[38;2;50;50;50m██\u001b[38;2;118;118;118m██\u001b[38;2;139;139;139m██\u001b[38;2;68;68;68m██\u001b[38;2;33;33;33m██\u001b[38;2;0;0;0m██\u001b[38;2;18;18;18m██\u001b[38;2;84;84;84m██\u001b[38;2;118;118;118m██\u001b[38;2;79;79;79m██\u001b[38;2;28;28;28m██\u001b[38;2;0;0;0m██\u001b[38;2;0;0;0m██\u001b[38;2;0;0;0m██\u001b[38;2;0;0;0m██\u001b[38;2;0;0;0m██\u001b[38;2;0;0;0m██\u001b[38;2;1;1;1m██\u001b[0m\n",
       "\u001b[0m\u001b[38;2;0;0;0m██\u001b[38;2;11;11;11m██\u001b[38;2;52;52;52m██\u001b[38;2;64;64;64m██\u001b[38;2;63;63;63m██\u001b[38;2;33;33;33m██\u001b[38;2;0;0;0m██\u001b[38;2;0;0;0m██\u001b[38;2;0;0;0m██\u001b[38;2;89;89;89m██\u001b[38;2;86;86;86m██\u001b[38;2;89;89;89m██\u001b[38;2;0;0;0m██\u001b[38;2;0;0;0m██\u001b[38;2;0;0;0m██\u001b[38;2;0;0;0m██\u001b[38;2;0;0;0m██\u001b[38;2;0;0;0m██\u001b[38;2;8;8;8m██\u001b[38;2;3;3;3m██\u001b[0m\n",
       "\u001b[0m\u001b[38;2;0;0;0m██\u001b[38;2;4;4;4m██\u001b[38;2;45;45;45m██\u001b[38;2;17;17;17m██\u001b[38;2;34;34;34m██\u001b[38;2;2;2;2m██\u001b[38;2;88;88;88m██\u001b[38;2;0;0;0m██\u001b[38;2;0;0;0m██\u001b[38;2;0;0;0m██\u001b[38;2;96;96;96m██\u001b[38;2;38;38;38m██\u001b[38;2;0;0;0m██\u001b[38;2;0;0;0m██\u001b[38;2;8;8;8m██\u001b[38;2;24;24;24m██\u001b[38;2;0;0;0m██\u001b[38;2;0;0;0m██\u001b[38;2;0;0;0m██\u001b[38;2;0;0;0m██\u001b[0m\n",
       "\u001b[0m\u001b[38;2;0;0;0m██\u001b[38;2;0;0;0m██\u001b[38;2;18;18;18m██\u001b[38;2;10;10;10m██\u001b[38;2;0;0;0m██\u001b[38;2;22;22;22m██\u001b[38;2;41;41;41m██\u001b[38;2;96;96;96m██\u001b[38;2;0;0;0m██\u001b[38;2;0;0;0m██\u001b[38;2;0;0;0m██\u001b[38;2;143;143;143m██\u001b[38;2;29;29;29m██\u001b[38;2;51;51;51m██\u001b[38;2;0;0;0m██\u001b[38;2;43;43;43m██\u001b[38;2;0;0;0m██\u001b[38;2;0;0;0m██\u001b[38;2;0;0;0m██\u001b[38;2;0;0;0m██\u001b[0m\n",
       "\u001b[0m\u001b[38;2;0;0;0m██\u001b[38;2;0;0;0m██\u001b[38;2;0;0;0m██\u001b[38;2;3;3;3m██\u001b[38;2;0;0;0m██\u001b[38;2;39;39;39m██\u001b[38;2;68;68;68m██\u001b[38;2;58;58;58m██\u001b[38;2;31;31;31m██\u001b[38;2;0;0;0m██\u001b[38;2;0;0;0m██\u001b[38;2;0;0;0m██\u001b[38;2;65;65;65m██\u001b[38;2;115;115;115m██\u001b[38;2;77;77;77m██\u001b[38;2;31;31;31m██\u001b[38;2;6;6;6m██\u001b[38;2;0;0;0m██\u001b[38;2;0;0;0m██\u001b[38;2;0;0;0m██\u001b[0m\n",
       "\u001b[0m\u001b[38;2;0;0;0m██\u001b[38;2;0;0;0m██\u001b[38;2;0;0;0m██\u001b[38;2;0;0;0m██\u001b[38;2;0;0;0m██\u001b[38;2;32;32;32m██\u001b[38;2;21;21;21m██\u001b[38;2;63;63;63m██\u001b[38;2;33;33;33m██\u001b[38;2;46;46;46m██\u001b[38;2;0;0;0m██\u001b[38;2;0;0;0m██\u001b[38;2;0;0;0m██\u001b[38;2;46;46;46m██\u001b[38;2;120;120;120m██\u001b[38;2;87;87;87m██\u001b[38;2;39;39;39m██\u001b[38;2;6;6;6m██\u001b[38;2;0;0;0m██\u001b[38;2;0;0;0m██\u001b[0m\n",
       "\u001b[0m\u001b[38;2;0;0;0m██\u001b[38;2;0;0;0m██\u001b[38;2;0;0;0m██\u001b[38;2;0;0;0m██\u001b[38;2;0;0;0m██\u001b[38;2;3;3;3m██\u001b[38;2;40;40;40m██\u001b[38;2;16;16;16m██\u001b[38;2;42;42;42m██\u001b[38;2;49;49;49m██\u001b[38;2;104;104;104m██\u001b[38;2;0;0;0m██\u001b[38;2;0;0;0m██\u001b[38;2;0;0;0m██\u001b[38;2;0;0;0m██\u001b[38;2;127;127;127m██\u001b[38;2;95;95;95m██\u001b[38;2;45;45;45m██\u001b[38;2;0;0;0m██\u001b[38;2;0;0;0m██\u001b[0m\n",
       "\u001b[0m\u001b[38;2;0;0;0m██\u001b[38;2;0;0;0m██\u001b[38;2;0;0;0m██\u001b[38;2;0;0;0m██\u001b[38;2;0;0;0m██\u001b[38;2;0;0;0m██\u001b[38;2;8;8;8m██\u001b[38;2;45;45;45m██\u001b[38;2;8;8;8m██\u001b[38;2;59;59;59m██\u001b[38;2;31;31;31m██\u001b[38;2;73;73;73m██\u001b[38;2;0;0;0m██\u001b[38;2;0;0;0m██\u001b[38;2;0;0;0m██\u001b[38;2;31;31;31m██\u001b[38;2;142;142;142m██\u001b[38;2;73;73;73m██\u001b[38;2;15;15;15m██\u001b[38;2;0;0;0m██\u001b[0m\n",
       "\u001b[0m\u001b[38;2;0;0;0m██\u001b[38;2;0;0;0m██\u001b[38;2;0;0;0m██\u001b[38;2;0;0;0m██\u001b[38;2;0;0;0m██\u001b[38;2;0;0;0m██\u001b[38;2;0;0;0m██\u001b[38;2;19;19;19m██\u001b[38;2;18;18;18m██\u001b[38;2;0;0;0m██\u001b[38;2;0;0;0m██\u001b[38;2;0;0;0m██\u001b[38;2;68;68;68m██\u001b[38;2;0;0;0m██\u001b[38;2;36;36;36m██\u001b[38;2;50;50;50m██\u001b[38;2;69;69;69m██\u001b[38;2;80;80;80m██\u001b[38;2;2;2;2m██\u001b[38;2;0;0;0m██\u001b[0m\n",
       "\u001b[0m\u001b[38;2;0;0;0m██\u001b[38;2;0;0;0m██\u001b[38;2;0;0;0m██\u001b[38;2;0;0;0m██\u001b[38;2;0;0;0m██\u001b[38;2;0;0;0m██\u001b[38;2;0;0;0m██\u001b[38;2;0;0;0m██\u001b[38;2;0;0;0m██\u001b[38;2;0;0;0m██\u001b[38;2;0;0;0m██\u001b[38;2;13;13;13m██\u001b[38;2;36;36;36m██\u001b[38;2;105;105;105m██\u001b[38;2;85;85;85m██\u001b[38;2;59;59;59m██\u001b[38;2;96;96;96m██\u001b[38;2;4;4;4m██\u001b[38;2;5;5;5m██\u001b[38;2;0;0;0m██\u001b[0m\n",
       "\u001b[0m\u001b[38;2;0;0;0m██\u001b[38;2;0;0;0m██\u001b[38;2;0;0;0m██\u001b[38;2;0;0;0m██\u001b[38;2;0;0;0m██\u001b[38;2;0;0;0m██\u001b[38;2;0;0;0m██\u001b[38;2;0;0;0m██\u001b[38;2;0;0;0m██\u001b[38;2;0;0;0m██\u001b[38;2;44;44;44m██\u001b[38;2;97;97;97m██\u001b[38;2;161;161;161m██\u001b[38;2;157;157;157m██\u001b[38;2;97;97;97m██\u001b[38;2;30;30;30m██\u001b[38;2;13;13;13m██\u001b[38;2;16;16;16m██\u001b[38;2;0;0;0m██\u001b[38;2;0;0;0m██\u001b[0m\n",
       "\u001b[0m\u001b[38;2;0;0;0m██\u001b[38;2;0;0;0m██\u001b[38;2;0;0;0m██\u001b[38;2;0;0;0m██\u001b[38;2;0;0;0m██\u001b[38;2;0;0;0m██\u001b[38;2;0;0;0m██\u001b[38;2;0;0;0m██\u001b[38;2;20;20;20m██\u001b[38;2;81;81;81m██\u001b[38;2;140;140;140m██\u001b[38;2;247;247;247m██\u001b[38;2;171;171;171m██\u001b[38;2;120;120;120m██\u001b[38;2;0;0;0m██\u001b[38;2;0;0;0m██\u001b[38;2;0;0;0m██\u001b[38;2;5;5;5m██\u001b[38;2;17;17;17m██\u001b[38;2;0;0;0m██\u001b[0m\n",
       "\u001b[0m\u001b[38;2;0;0;0m██\u001b[38;2;0;0;0m██\u001b[38;2;0;0;0m██\u001b[38;2;0;0;0m██\u001b[38;2;0;0;0m██\u001b[38;2;20;20;20m██\u001b[38;2;11;11;11m██\u001b[38;2;76;76;76m██\u001b[38;2;166;166;166m██\u001b[38;2;215;215;215m██\u001b[38;2;197;197;197m██\u001b[38;2;125;125;125m██\u001b[38;2;40;40;40m██\u001b[38;2;5;5;5m██\u001b[38;2;0;0;0m██\u001b[38;2;0;0;0m██\u001b[38;2;0;0;0m██\u001b[38;2;6;6;6m██\u001b[38;2;1;1;1m██\u001b[38;2;0;0;0m██\u001b[0m\n",
       "\u001b[0m\u001b[38;2;0;0;0m██\u001b[38;2;0;0;0m██\u001b[38;2;0;0;0m██\u001b[38;2;0;0;0m██\u001b[38;2;42;42;42m██\u001b[38;2;56;56;56m██\u001b[38;2;143;143;143m██\u001b[38;2;202;202;202m██\u001b[38;2;202;202;202m██\u001b[38;2;141;141;141m██\u001b[38;2;53;53;53m██\u001b[38;2;4;4;4m██\u001b[38;2;0;0;0m██\u001b[38;2;0;0;0m██\u001b[38;2;0;0;0m██\u001b[38;2;0;0;0m██\u001b[38;2;0;0;0m██\u001b[38;2;51;51;51m██\u001b[38;2;0;0;0m██\u001b[38;2;0;0;0m██\u001b[0m\n",
       "\u001b[0m\u001b[38;2;0;0;0m██\u001b[38;2;0;0;0m██\u001b[38;2;20;20;20m██\u001b[38;2;112;112;112m██\u001b[38;2;121;121;121m██\u001b[38;2;210;210;210m██\u001b[38;2;198;198;198m██\u001b[38;2;128;128;128m██\u001b[38;2;58;58;58m██\u001b[38;2;13;13;13m██\u001b[38;2;0;0;0m██\u001b[38;2;0;0;0m██\u001b[38;2;0;0;0m██\u001b[38;2;0;0;0m██\u001b[38;2;0;0;0m██\u001b[38;2;29;29;29m██\u001b[38;2;22;22;22m██\u001b[38;2;0;0;0m██\u001b[38;2;0;0;0m██\u001b[38;2;0;0;0m██\u001b[0m\n",
       "\u001b[0m\u001b[38;2;65;65;65m██\u001b[38;2;71;71;71m██\u001b[38;2;130;130;130m██\u001b[38;2;116;116;116m██\u001b[38;2;161;161;161m██\u001b[38;2;80;80;80m██\u001b[38;2;9;9;9m██\u001b[38;2;0;0;0m██\u001b[38;2;0;0;0m██\u001b[38;2;0;0;0m██\u001b[38;2;0;0;0m██\u001b[38;2;0;0;0m██\u001b[38;2;0;0;0m██\u001b[38;2;26;26;26m██\u001b[38;2;22;22;22m██\u001b[38;2;1;1;1m██\u001b[38;2;0;0;0m██\u001b[38;2;0;0;0m██\u001b[38;2;0;0;0m██\u001b[38;2;0;0;0m██\u001b[0m"
      ]
     },
     "execution_count": 66,
     "metadata": {},
     "output_type": "execute_result"
    }
   ],
   "source": [
    "cnn_output = cnn_layer( images[:,:,:,1:3] )\n",
    "display( cnn_output |> size )\n",
    "convert2image( MNIST , cnn_output[:,:,1,1] )"
   ]
  },
  {
   "cell_type": "code",
   "execution_count": 67,
   "metadata": {},
   "outputs": [
    {
     "data": {
      "text/plain": [
       "(21, 21, 1, 10)"
      ]
     },
     "execution_count": 67,
     "metadata": {},
     "output_type": "execute_result"
    }
   ],
   "source": [
    "x = rand(Float32, 10, 10, 1, 10); \n",
    "cnn_layer = ConvTranspose( (5,5) , 1 => 1 , pad=1 , stride=2 )\n",
    "cnn_layer( x ) |> size"
   ]
  },
  {
   "cell_type": "code",
   "execution_count": 68,
   "metadata": {},
   "outputs": [
    {
     "data": {
      "text/plain": [
       "(57, 57, 1, 3)"
      ]
     },
     "metadata": {},
     "output_type": "display_data"
    },
    {
     "data": {
      "image/png": "[encoded data removed]",
      "text/plain": [
       "\u001b[0m\u001b[38;2;0;0;0;48;2;0;0;0m▀\u001b[38;2;0;0;0;48;2;0;0;0m▀\u001b[38;2;0;0;0;48;2;0;0;0m▀\u001b[38;2;0;0;0;48;2;0;0;0m▀\u001b[38;2;0;0;0;48;2;0;0;0m▀\u001b[38;2;0;0;0;48;2;0;0;0m▀\u001b[38;2;0;0;0;48;2;0;0;0m▀\u001b[38;2;0;0;0;48;2;0;0;0m▀\u001b[38;2;0;0;0;48;2;0;0;0m▀\u001b[38;2;0;0;0;48;2;0;0;0m▀\u001b[38;2;0;0;0;48;2;0;0;0m▀\u001b[38;2;0;0;0;48;2;0;0;0m▀\u001b[38;2;0;0;0;48;2;0;0;0m▀\u001b[38;2;0;0;0;48;2;0;0;0m▀\u001b[38;2;0;0;0;48;2;0;0;0m▀\u001b[38;2;0;0;0;48;2;0;0;0m▀\u001b[38;2;0;0;0;48;2;0;0;0m▀\u001b[38;2;0;0;0;48;2;0;0;0m▀\u001b[38;2;0;0;0;48;2;0;0;0m▀\u001b[38;2;0;0;0;48;2;0;0;0m▀\u001b[38;2;0;0;0;48;2;0;0;0m▀\u001b[38;2;0;0;0;48;2;0;0;0m▀\u001b[38;2;0;0;0;48;2;0;0;0m▀\u001b[38;2;0;0;0;48;2;0;0;0m▀\u001b[38;2;0;0;0;48;2;0;0;0m▀\u001b[38;2;0;0;0;48;2;0;0;0m▀\u001b[38;2;0;0;0;48;2;0;0;0m▀\u001b[38;2;0;0;0;48;2;0;0;0m▀\u001b[38;2;0;0;0;48;2;0;0;0m▀\u001b[38;2;0;0;0;48;2;0;0;0m▀\u001b[38;2;0;0;0;48;2;0;0;0m▀\u001b[38;2;0;0;0;48;2;0;0;0m▀\u001b[38;2;0;0;0;48;2;0;0;0m▀\u001b[38;2;0;0;0;48;2;0;0;0m▀\u001b[38;2;0;0;0;48;2;0;0;0m▀\u001b[38;2;0;0;0;48;2;0;0;0m▀\u001b[38;2;0;0;0;48;2;0;0;0m▀\u001b[38;2;0;0;0;48;2;0;0;0m▀\u001b[38;2;0;0;0;48;2;0;0;0m▀\u001b[38;2;0;0;0;48;2;0;0;0m▀\u001b[38;2;0;0;0;48;2;0;0;0m▀\u001b[38;2;0;0;0;48;2;0;0;0m▀\u001b[38;2;0;0;0;48;2;0;0;0m▀\u001b[38;2;0;0;0;48;2;0;0;0m▀\u001b[38;2;0;0;0;48;2;0;0;0m▀\u001b[38;2;0;0;0;48;2;0;0;0m▀\u001b[38;2;0;0;0;48;2;0;0;0m▀\u001b[38;2;0;0;0;48;2;0;0;0m▀\u001b[38;2;0;0;0;48;2;0;0;0m▀\u001b[38;2;0;0;0;48;2;0;0;0m▀\u001b[38;2;0;0;0;48;2;0;0;0m▀\u001b[38;2;0;0;0;48;2;0;0;0m▀\u001b[38;2;0;0;0;48;2;0;0;0m▀\u001b[38;2;0;0;0;48;2;0;0;0m▀\u001b[38;2;0;0;0;48;2;0;0;0m▀\u001b[38;2;0;0;0;48;2;0;0;0m▀\u001b[38;2;0;0;0;48;2;0;0;0m▀\u001b[0m\n",
       "\u001b[0m\u001b[38;2;0;0;0;48;2;0;0;0m▀\u001b[38;2;0;0;0;48;2;0;0;0m▀\u001b[38;2;0;0;0;48;2;0;0;0m▀\u001b[38;2;0;0;0;48;2;0;0;0m▀\u001b[38;2;0;0;0;48;2;0;0;0m▀\u001b[38;2;0;0;0;48;2;0;0;0m▀\u001b[38;2;0;0;0;48;2;0;0;0m▀\u001b[38;2;0;0;0;48;2;0;0;0m▀\u001b[38;2;0;0;0;48;2;0;0;0m▀\u001b[38;2;0;0;0;48;2;0;0;0m▀\u001b[38;2;0;0;0;48;2;0;0;0m▀\u001b[38;2;0;0;0;48;2;0;0;0m▀\u001b[38;2;0;0;0;48;2;0;0;0m▀\u001b[38;2;0;0;0;48;2;0;0;0m▀\u001b[38;2;0;0;0;48;2;0;0;0m▀\u001b[38;2;0;0;0;48;2;0;0;0m▀\u001b[38;2;0;0;0;48;2;0;0;0m▀\u001b[38;2;0;0;0;48;2;0;0;0m▀\u001b[38;2;0;0;0;48;2;0;0;0m▀\u001b[38;2;0;0;0;48;2;0;0;0m▀\u001b[38;2;0;0;0;48;2;0;0;0m▀\u001b[38;2;0;0;0;48;2;0;0;0m▀\u001b[38;2;0;0;0;48;2;0;0;0m▀\u001b[38;2;0;0;0;48;2;0;0;0m▀\u001b[38;2;0;0;0;48;2;0;0;0m▀\u001b[38;2;0;0;0;48;2;0;0;0m▀\u001b[38;2;0;0;0;48;2;0;0;0m▀\u001b[38;2;0;0;0;48;2;0;0;0m▀\u001b[38;2;0;0;0;48;2;0;0;0m▀\u001b[38;2;0;0;0;48;2;0;0;0m▀\u001b[38;2;0;0;0;48;2;0;0;0m▀\u001b[38;2;0;0;0;48;2;0;0;0m▀\u001b[38;2;0;0;0;48;2;0;0;0m▀\u001b[38;2;0;0;0;48;2;0;0;0m▀\u001b[38;2;0;0;0;48;2;0;0;0m▀\u001b[38;2;0;0;0;48;2;0;0;0m▀\u001b[38;2;0;0;0;48;2;0;0;0m▀\u001b[38;2;0;0;0;48;2;0;0;0m▀\u001b[38;2;0;0;0;48;2;0;0;0m▀\u001b[38;2;0;0;0;48;2;0;0;0m▀\u001b[38;2;0;0;0;48;2;0;0;0m▀\u001b[38;2;0;0;0;48;2;0;0;0m▀\u001b[38;2;0;0;0;48;2;0;0;0m▀\u001b[38;2;0;0;0;48;2;0;0;0m▀\u001b[38;2;0;0;0;48;2;0;0;0m▀\u001b[38;2;0;0;0;48;2;0;0;0m▀\u001b[38;2;0;0;0;48;2;0;0;0m▀\u001b[38;2;0;0;0;48;2;0;0;0m▀\u001b[38;2;0;0;0;48;2;0;0;0m▀\u001b[38;2;0;0;0;48;2;0;0;0m▀\u001b[38;2;0;0;0;48;2;0;0;0m▀\u001b[38;2;0;0;0;48;2;0;0;0m▀\u001b[38;2;0;0;0;48;2;0;0;0m▀\u001b[38;2;0;0;0;48;2;0;0;0m▀\u001b[38;2;0;0;0;48;2;0;0;0m▀\u001b[38;2;0;0;0;48;2;0;0;0m▀\u001b[38;2;0;0;0;48;2;0;0;0m▀\u001b[0m\n",
       "\u001b[0m\u001b[38;2;0;0;0;48;2;0;0;0m▀\u001b[38;2;0;0;0;48;2;0;0;0m▀\u001b[38;2;0;0;0;48;2;0;0;0m▀\u001b[38;2;0;0;0;48;2;0;0;0m▀\u001b[38;2;0;0;0;48;2;0;0;0m▀\u001b[38;2;0;0;0;48;2;0;0;0m▀\u001b[38;2;0;0;0;48;2;0;0;0m▀\u001b[38;2;0;0;0;48;2;0;0;0m▀\u001b[38;2;0;0;0;48;2;0;0;0m▀\u001b[38;2;0;0;0;48;2;0;0;0m▀\u001b[38;2;0;0;0;48;2;0;0;0m▀\u001b[38;2;0;0;0;48;2;0;0;0m▀\u001b[38;2;0;0;0;48;2;0;0;0m▀\u001b[38;2;0;0;0;48;2;0;0;0m▀\u001b[38;2;0;0;0;48;2;0;0;0m▀\u001b[38;2;0;0;0;48;2;0;0;0m▀\u001b[38;2;0;0;0;48;2;0;0;0m▀\u001b[38;2;0;0;0;48;2;0;0;0m▀\u001b[38;2;0;0;0;48;2;0;0;0m▀\u001b[38;2;0;0;0;48;2;0;0;0m▀\u001b[38;2;0;0;0;48;2;0;0;0m▀\u001b[38;2;0;0;0;48;2;0;0;0m▀\u001b[38;2;0;0;0;48;2;0;0;0m▀\u001b[38;2;0;0;0;48;2;0;0;0m▀\u001b[38;2;0;0;0;48;2;0;0;0m▀\u001b[38;2;0;0;0;48;2;0;0;0m▀\u001b[38;2;0;0;0;48;2;0;0;0m▀\u001b[38;2;0;0;0;48;2;0;0;0m▀\u001b[38;2;0;0;0;48;2;0;0;0m▀\u001b[38;2;0;0;0;48;2;0;0;0m▀\u001b[38;2;0;0;0;48;2;0;0;0m▀\u001b[38;2;0;0;0;48;2;0;0;0m▀\u001b[38;2;0;0;0;48;2;0;0;0m▀\u001b[38;2;0;0;0;48;2;0;0;0m▀\u001b[38;2;0;0;0;48;2;0;0;0m▀\u001b[38;2;0;0;0;48;2;0;0;0m▀\u001b[38;2;0;0;0;48;2;0;0;0m▀\u001b[38;2;0;0;0;48;2;0;0;0m▀\u001b[38;2;0;0;0;48;2;0;0;0m▀\u001b[38;2;0;0;0;48;2;0;0;0m▀\u001b[38;2;0;0;0;48;2;0;0;0m▀\u001b[38;2;0;0;0;48;2;0;0;0m▀\u001b[38;2;0;0;0;48;2;0;0;0m▀\u001b[38;2;0;0;0;48;2;0;0;0m▀\u001b[38;2;0;0;0;48;2;0;0;0m▀\u001b[38;2;0;0;0;48;2;0;0;0m▀\u001b[38;2;0;0;0;48;2;0;0;0m▀\u001b[38;2;0;0;0;48;2;0;0;0m▀\u001b[38;2;0;0;0;48;2;0;0;0m▀\u001b[38;2;0;0;0;48;2;0;0;0m▀\u001b[38;2;0;0;0;48;2;0;0;0m▀\u001b[38;2;0;0;0;48;2;0;0;0m▀\u001b[38;2;0;0;0;48;2;0;0;0m▀\u001b[38;2;0;0;0;48;2;0;0;0m▀\u001b[38;2;0;0;0;48;2;0;0;0m▀\u001b[38;2;0;0;0;48;2;0;0;0m▀\u001b[38;2;0;0;0;48;2;0;0;0m▀\u001b[0m\n",
       "\u001b[0m\u001b[38;2;0;0;0;48;2;0;0;0m▀\u001b[38;2;0;0;0;48;2;0;0;0m▀\u001b[38;2;0;0;0;48;2;0;0;0m▀\u001b[38;2;0;0;0;48;2;0;0;0m▀\u001b[38;2;0;0;0;48;2;0;0;0m▀\u001b[38;2;0;0;0;48;2;0;0;0m▀\u001b[38;2;0;0;0;48;2;0;0;0m▀\u001b[38;2;0;0;0;48;2;0;0;0m▀\u001b[38;2;0;0;0;48;2;0;0;0m▀\u001b[38;2;0;0;0;48;2;0;0;0m▀\u001b[38;2;0;0;0;48;2;0;0;0m▀\u001b[38;2;0;0;0;48;2;0;0;0m▀\u001b[38;2;0;0;0;48;2;0;0;0m▀\u001b[38;2;0;0;0;48;2;0;0;0m▀\u001b[38;2;0;0;0;48;2;0;0;0m▀\u001b[38;2;0;0;0;48;2;0;0;0m▀\u001b[38;2;0;0;0;48;2;0;0;0m▀\u001b[38;2;0;0;0;48;2;0;0;0m▀\u001b[38;2;0;0;0;48;2;0;0;0m▀\u001b[38;2;0;0;0;48;2;0;0;0m▀\u001b[38;2;0;0;0;48;2;0;0;0m▀\u001b[38;2;0;0;0;48;2;0;0;0m▀\u001b[38;2;0;0;0;48;2;0;0;0m▀\u001b[38;2;0;0;0;48;2;0;0;0m▀\u001b[38;2;0;0;0;48;2;0;0;0m▀\u001b[38;2;0;0;0;48;2;0;0;0m▀\u001b[38;2;0;0;0;48;2;0;0;0m▀\u001b[38;2;0;0;0;48;2;0;0;0m▀\u001b[38;2;0;0;0;48;2;0;0;0m▀\u001b[38;2;0;0;0;48;2;0;0;0m▀\u001b[38;2;0;0;0;48;2;0;0;0m▀\u001b[38;2;0;0;0;48;2;0;0;0m▀\u001b[38;2;0;0;0;48;2;0;0;0m▀\u001b[38;2;0;0;0;48;2;0;0;0m▀\u001b[38;2;0;0;0;48;2;0;0;0m▀\u001b[38;2;0;0;0;48;2;0;0;0m▀\u001b[38;2;0;0;0;48;2;0;0;0m▀\u001b[38;2;0;0;0;48;2;0;0;0m▀\u001b[38;2;0;0;0;48;2;0;0;0m▀\u001b[38;2;0;0;0;48;2;0;0;0m▀\u001b[38;2;0;0;0;48;2;0;0;0m▀\u001b[38;2;0;0;0;48;2;0;0;0m▀\u001b[38;2;0;0;0;48;2;0;0;0m▀\u001b[38;2;0;0;0;48;2;0;0;0m▀\u001b[38;2;0;0;0;48;2;0;0;0m▀\u001b[38;2;0;0;0;48;2;0;0;0m▀\u001b[38;2;0;0;0;48;2;0;0;0m▀\u001b[38;2;0;0;0;48;2;0;0;0m▀\u001b[38;2;0;0;0;48;2;0;0;0m▀\u001b[38;2;0;0;0;48;2;0;0;0m▀\u001b[38;2;0;0;0;48;2;0;0;0m▀\u001b[38;2;0;0;0;48;2;0;0;0m▀\u001b[38;2;0;0;0;48;2;0;0;0m▀\u001b[38;2;0;0;0;48;2;0;0;0m▀\u001b[38;2;0;0;0;48;2;0;0;0m▀\u001b[38;2;0;0;0;48;2;0;0;0m▀\u001b[38;2;0;0;0;48;2;0;0;0m▀\u001b[0m\n",
       "\u001b[0m\u001b[38;2;0;0;0;48;2;0;0;0m▀\u001b[38;2;0;0;0;48;2;0;0;0m▀\u001b[38;2;0;0;0;48;2;0;0;0m▀\u001b[38;2;0;0;0;48;2;0;0;0m▀\u001b[38;2;0;0;0;48;2;0;0;0m▀\u001b[38;2;0;0;0;48;2;0;0;0m▀\u001b[38;2;0;0;0;48;2;0;0;0m▀\u001b[38;2;0;0;0;48;2;0;0;0m▀\u001b[38;2;0;0;0;48;2;0;0;0m▀\u001b[38;2;0;0;0;48;2;0;0;0m▀\u001b[38;2;0;0;0;48;2;0;0;0m▀\u001b[38;2;0;0;0;48;2;0;0;0m▀\u001b[38;2;0;0;0;48;2;0;0;0m▀\u001b[38;2;0;0;0;48;2;0;0;0m▀\u001b[38;2;0;0;0;48;2;0;0;0m▀\u001b[38;2;0;0;0;48;2;0;0;0m▀\u001b[38;2;0;0;0;48;2;0;0;0m▀\u001b[38;2;0;0;0;48;2;0;0;0m▀\u001b[38;2;0;0;0;48;2;0;0;0m▀\u001b[38;2;0;0;0;48;2;0;0;0m▀\u001b[38;2;0;0;0;48;2;0;0;0m▀\u001b[38;2;0;0;0;48;2;0;0;0m▀\u001b[38;2;0;0;0;48;2;0;0;0m▀\u001b[38;2;0;0;0;48;2;0;0;0m▀\u001b[38;2;0;0;0;48;2;0;0;0m▀\u001b[38;2;0;0;0;48;2;0;0;0m▀\u001b[38;2;0;0;0;48;2;2;2;2m▀\u001b[38;2;0;0;0;48;2;0;0;0m▀\u001b[38;2;0;0;0;48;2;4;4;4m▀\u001b[38;2;0;0;0;48;2;0;0;0m▀\u001b[38;2;0;0;0;48;2;4;4;4m▀\u001b[38;2;0;0;0;48;2;0;0;0m▀\u001b[38;2;0;0;0;48;2;12;12;12m▀\u001b[38;2;0;0;0;48;2;0;0;0m▀\u001b[38;2;0;0;0;48;2;32;32;32m▀\u001b[38;2;0;0;0;48;2;0;0;0m▀\u001b[38;2;0;0;0;48;2;37;37;37m▀\u001b[38;2;0;0;0;48;2;0;0;0m▀\u001b[38;2;0;0;0;48;2;33;33;33m▀\u001b[38;2;0;0;0;48;2;0;0;0m▀\u001b[38;2;0;0;0;48;2;16;16;16m▀\u001b[38;2;0;0;0;48;2;0;0;0m▀\u001b[38;2;0;0;0;48;2;47;47;47m▀\u001b[38;2;0;0;0;48;2;0;0;0m▀\u001b[38;2;0;0;0;48;2;63;63;63m▀\u001b[38;2;0;0;0;48;2;0;0;0m▀\u001b[38;2;0;0;0;48;2;53;53;53m▀\u001b[38;2;0;0;0;48;2;0;0;0m▀\u001b[38;2;0;0;0;48;2;22;22;22m▀\u001b[38;2;0;0;0;48;2;0;0;0m▀\u001b[38;2;0;0;0;48;2;0;0;0m▀\u001b[38;2;0;0;0;48;2;0;0;0m▀\u001b[38;2;0;0;0;48;2;0;0;0m▀\u001b[38;2;0;0;0;48;2;0;0;0m▀\u001b[38;2;0;0;0;48;2;0;0;0m▀\u001b[38;2;0;0;0;48;2;0;0;0m▀\u001b[38;2;0;0;0;48;2;0;0;0m▀\u001b[0m\n",
       "\u001b[0m\u001b[38;2;0;0;0;48;2;0;0;0m▀\u001b[38;2;0;0;0;48;2;0;0;0m▀\u001b[38;2;0;0;0;48;2;0;0;0m▀\u001b[38;2;0;0;0;48;2;0;0;0m▀\u001b[38;2;0;0;0;48;2;0;0;0m▀\u001b[38;2;0;0;0;48;2;0;0;0m▀\u001b[38;2;0;0;0;48;2;0;0;0m▀\u001b[38;2;0;0;0;48;2;0;0;0m▀\u001b[38;2;0;0;0;48;2;0;0;0m▀\u001b[38;2;0;0;0;48;2;0;0;0m▀\u001b[38;2;0;0;0;48;2;0;0;0m▀\u001b[38;2;0;0;0;48;2;0;0;0m▀\u001b[38;2;0;0;0;48;2;0;0;0m▀\u001b[38;2;0;0;0;48;2;0;0;0m▀\u001b[38;2;0;0;0;48;2;0;0;0m▀\u001b[38;2;0;0;0;48;2;0;0;0m▀\u001b[38;2;0;0;0;48;2;2;2;2m▀\u001b[38;2;0;0;0;48;2;0;0;0m▀\u001b[38;2;0;0;0;48;2;8;8;8m▀\u001b[38;2;0;0;0;48;2;0;0;0m▀\u001b[38;2;0;0;0;48;2;13;13;13m▀\u001b[38;2;0;0;0;48;2;0;0;0m▀\u001b[38;2;0;0;0;48;2;28;28;28m▀\u001b[38;2;0;0;0;48;2;0;0;0m▀\u001b[38;2;0;0;0;48;2;40;40;40m▀\u001b[38;2;0;0;0;48;2;0;0;0m▀\u001b[38;2;0;0;0;48;2;49;49;49m▀\u001b[38;2;0;0;0;48;2;0;0;0m▀\u001b[38;2;0;0;0;48;2;60;60;60m▀\u001b[38;2;0;0;0;48;2;0;0;0m▀\u001b[38;2;0;0;0;48;2;60;60;60m▀\u001b[38;2;0;0;0;48;2;0;0;0m▀\u001b[38;2;3;3;3;48;2;67;67;67m▀\u001b[38;2;0;0;0;48;2;0;0;0m▀\u001b[38;2;0;0;0;48;2;43;43;43m▀\u001b[38;2;0;0;0;48;2;0;0;0m▀\u001b[38;2;0;0;0;48;2;41;41;41m▀\u001b[38;2;0;0;0;48;2;0;0;0m▀\u001b[38;2;0;0;0;48;2;14;14;14m▀\u001b[38;2;0;0;0;48;2;0;0;0m▀\u001b[38;2;3;3;3;48;2;54;54;54m▀\u001b[38;2;0;0;0;48;2;0;0;0m▀\u001b[38;2;0;0;0;48;2;41;41;41m▀\u001b[38;2;0;0;0;48;2;0;0;0m▀\u001b[38;2;0;0;0;48;2;15;15;15m▀\u001b[38;2;0;0;0;48;2;0;0;0m▀\u001b[38;2;0;0;0;48;2;0;0;0m▀\u001b[38;2;0;0;0;48;2;0;0;0m▀\u001b[38;2;0;0;0;48;2;0;0;0m▀\u001b[38;2;0;0;0;48;2;0;0;0m▀\u001b[38;2;0;0;0;48;2;0;0;0m▀\u001b[38;2;0;0;0;48;2;0;0;0m▀\u001b[38;2;0;0;0;48;2;0;0;0m▀\u001b[38;2;0;0;0;48;2;0;0;0m▀\u001b[38;2;0;0;0;48;2;0;0;0m▀\u001b[38;2;0;0;0;48;2;0;0;0m▀\u001b[38;2;0;0;0;48;2;0;0;0m▀\u001b[0m\n",
       "\u001b[0m\u001b[38;2;0;0;0;48;2;0;0;0m▀\u001b[38;2;0;0;0;48;2;0;0;0m▀\u001b[38;2;0;0;0;48;2;0;0;0m▀\u001b[38;2;0;0;0;48;2;0;0;0m▀\u001b[38;2;0;0;0;48;2;0;0;0m▀\u001b[38;2;0;0;0;48;2;0;0;0m▀\u001b[38;2;0;0;0;48;2;0;0;0m▀\u001b[38;2;0;0;0;48;2;0;0;0m▀\u001b[38;2;0;0;0;48;2;0;0;0m▀\u001b[38;2;0;0;0;48;2;0;0;0m▀\u001b[38;2;0;0;0;48;2;0;0;0m▀\u001b[38;2;0;0;0;48;2;0;0;0m▀\u001b[38;2;0;0;0;48;2;0;0;0m▀\u001b[38;2;0;0;0;48;2;0;0;0m▀\u001b[38;2;0;0;0;48;2;3;3;3m▀\u001b[38;2;0;0;0;48;2;0;0;0m▀\u001b[38;2;2;2;2;48;2;28;28;28m▀\u001b[38;2;0;0;0;48;2;0;0;0m▀\u001b[38;2;0;0;0;48;2;56;56;56m▀\u001b[38;2;0;0;0;48;2;0;0;0m▀\u001b[38;2;0;0;0;48;2;61;61;61m▀\u001b[38;2;0;0;0;48;2;0;0;0m▀\u001b[38;2;0;0;0;48;2;52;52;52m▀\u001b[38;2;0;0;0;48;2;0;0;0m▀\u001b[38;2;0;0;0;48;2;40;40;40m▀\u001b[38;2;0;0;0;48;2;0;0;0m▀\u001b[38;2;0;0;0;48;2;46;46;46m▀\u001b[38;2;0;0;0;48;2;0;0;0m▀\u001b[38;2;0;0;0;48;2;27;27;27m▀\u001b[38;2;0;0;0;48;2;0;0;0m▀\u001b[38;2;0;0;0;48;2;27;27;27m▀\u001b[38;2;0;0;0;48;2;0;0;0m▀\u001b[38;2;0;0;0;48;2;55;55;55m▀\u001b[38;2;0;0;0;48;2;0;0;0m▀\u001b[38;2;0;0;0;48;2;60;60;60m▀\u001b[38;2;0;0;0;48;2;0;0;0m▀\u001b[38;2;0;0;0;48;2;57;57;57m▀\u001b[38;2;0;0;0;48;2;0;0;0m▀\u001b[38;2;0;0;0;48;2;0;0;0m▀\u001b[38;2;0;0;0;48;2;0;0;0m▀\u001b[38;2;0;0;0;48;2;41;41;41m▀\u001b[38;2;0;0;0;48;2;0;0;0m▀\u001b[38;2;0;0;0;48;2;47;47;47m▀\u001b[38;2;17;17;17;48;2;0;0;0m▀\u001b[38;2;0;0;0;48;2;41;41;41m▀\u001b[38;2;26;26;26;48;2;0;0;0m▀\u001b[38;2;0;0;0;48;2;6;6;6m▀\u001b[38;2;13;13;13;48;2;0;0;0m▀\u001b[38;2;0;0;0;48;2;0;0;0m▀\u001b[38;2;0;0;0;48;2;0;0;0m▀\u001b[38;2;0;0;0;48;2;0;0;0m▀\u001b[38;2;0;0;0;48;2;0;0;0m▀\u001b[38;2;0;0;0;48;2;0;0;0m▀\u001b[38;2;0;0;0;48;2;0;0;0m▀\u001b[38;2;0;0;0;48;2;0;0;0m▀\u001b[38;2;0;0;0;48;2;0;0;0m▀\u001b[38;2;0;0;0;48;2;0;0;0m▀\u001b[0m\n",
       "\u001b[0m\u001b[38;2;0;0;0;48;2;0;0;0m▀\u001b[38;2;0;0;0;48;2;0;0;0m▀\u001b[38;2;0;0;0;48;2;0;0;0m▀\u001b[38;2;0;0;0;48;2;0;0;0m▀\u001b[38;2;0;0;0;48;2;0;0;0m▀\u001b[38;2;0;0;0;48;2;0;0;0m▀\u001b[38;2;0;0;0;48;2;0;0;0m▀\u001b[38;2;0;0;0;48;2;0;0;0m▀\u001b[38;2;0;0;0;48;2;0;0;0m▀\u001b[38;2;0;0;0;48;2;0;0;0m▀\u001b[38;2;0;0;0;48;2;0;0;0m▀\u001b[38;2;0;0;0;48;2;0;0;0m▀\u001b[38;2;0;0;0;48;2;0;0;0m▀\u001b[38;2;0;0;0;48;2;4;4;4m▀\u001b[38;2;3;3;3;48;2;5;5;5m▀\u001b[38;2;0;0;0;48;2;5;5;5m▀\u001b[38;2;1;1;1;48;2;31;31;31m▀\u001b[38;2;0;0;0;48;2;24;24;24m▀\u001b[38;2;0;0;0;48;2;29;29;29m▀\u001b[38;2;0;0;0;48;2;0;0;0m▀\u001b[38;2;0;0;0;48;2;47;47;47m▀\u001b[38;2;0;0;0;48;2;0;0;0m▀\u001b[38;2;0;0;0;48;2;64;64;64m▀\u001b[38;2;0;0;0;48;2;0;0;0m▀\u001b[38;2;0;0;0;48;2;70;70;70m▀\u001b[38;2;0;0;0;48;2;0;0;0m▀\u001b[38;2;0;0;0;48;2;91;91;91m▀\u001b[38;2;9;9;9;48;2;0;0;0m▀\u001b[38;2;0;0;0;48;2;90;90;90m▀\u001b[38;2;11;11;11;48;2;0;0;0m▀\u001b[38;2;0;0;0;48;2;79;79;79m▀\u001b[38;2;11;11;11;48;2;0;0;0m▀\u001b[38;2;0;0;0;48;2;81;81;81m▀\u001b[38;2;11;11;11;48;2;0;0;0m▀\u001b[38;2;0;0;0;48;2;92;92;92m▀\u001b[38;2;29;29;29;48;2;0;0;0m▀\u001b[38;2;0;0;0;48;2;56;56;56m▀\u001b[38;2;31;31;31;48;2;0;0;0m▀\u001b[38;2;0;0;0;48;2;35;35;35m▀\u001b[38;2;37;37;37;48;2;0;0;0m▀\u001b[38;2;0;0;0;48;2;56;56;56m▀\u001b[38;2;51;51;51;48;2;0;0;0m▀\u001b[38;2;0;0;0;48;2;54;54;54m▀\u001b[38;2;50;50;50;48;2;0;0;0m▀\u001b[38;2;0;0;0;48;2;47;47;47m▀\u001b[38;2;36;36;36;48;2;0;0;0m▀\u001b[38;2;0;0;0;48;2;13;13;13m▀\u001b[38;2;12;12;12;48;2;0;0;0m▀\u001b[38;2;0;0;0;48;2;2;2;2m▀\u001b[38;2;1;1;1;48;2;0;0;0m▀\u001b[38;2;0;0;0;48;2;0;0;0m▀\u001b[38;2;0;0;0;48;2;0;0;0m▀\u001b[38;2;0;0;0;48;2;0;0;0m▀\u001b[38;2;0;0;0;48;2;0;0;0m▀\u001b[38;2;0;0;0;48;2;0;0;0m▀\u001b[38;2;0;0;0;48;2;0;0;0m▀\u001b[38;2;0;0;0;48;2;0;0;0m▀\u001b[0m\n",
       "\u001b[0m\u001b[38;2;0;0;0;48;2;0;0;0m▀\u001b[38;2;0;0;0;48;2;0;0;0m▀\u001b[38;2;0;0;0;48;2;0;0;0m▀\u001b[38;2;0;0;0;48;2;0;0;0m▀\u001b[38;2;0;0;0;48;2;0;0;0m▀\u001b[38;2;0;0;0;48;2;0;0;0m▀\u001b[38;2;0;0;0;48;2;0;0;0m▀\u001b[38;2;0;0;0;48;2;0;0;0m▀\u001b[38;2;0;0;0;48;2;0;0;0m▀\u001b[38;2;0;0;0;48;2;0;0;0m▀\u001b[38;2;0;0;0;48;2;0;0;0m▀\u001b[38;2;0;0;0;48;2;0;0;0m▀\u001b[38;2;0;0;0;48;2;0;0;0m▀\u001b[38;2;3;3;3;48;2;0;0;0m▀\u001b[38;2;0;0;0;48;2;14;14;14m▀\u001b[38;2;2;2;2;48;2;0;0;0m▀\u001b[38;2;0;0;0;48;2;78;78;78m▀\u001b[38;2;15;15;15;48;2;0;0;0m▀\u001b[38;2;0;0;0;48;2;64;64;64m▀\u001b[38;2;12;12;12;48;2;0;0;0m▀\u001b[38;2;0;0;0;48;2;66;66;66m▀\u001b[38;2;11;11;11;48;2;0;0;0m▀\u001b[38;2;0;0;0;48;2;68;68;68m▀\u001b[38;2;11;11;11;48;2;0;0;0m▀\u001b[38;2;0;0;0;48;2;94;94;94m▀\u001b[38;2;11;11;11;48;2;0;0;0m▀\u001b[38;2;0;0;0;48;2;90;90;90m▀\u001b[38;2;18;18;18;48;2;0;0;0m▀\u001b[38;2;0;0;0;48;2;64;64;64m▀\u001b[38;2;24;24;24;48;2;0;0;0m▀\u001b[38;2;0;0;0;48;2;41;41;41m▀\u001b[38;2;18;18;18;48;2;0;0;0m▀\u001b[38;2;0;0;0;48;2;50;50;50m▀\u001b[38;2;15;15;15;48;2;0;0;0m▀\u001b[38;2;0;0;0;48;2;50;50;50m▀\u001b[38;2;28;28;28;48;2;0;0;0m▀\u001b[38;2;0;0;0;48;2;3;3;3m▀\u001b[38;2;19;19;19;48;2;0;0;0m▀\u001b[38;2;0;0;0;48;2;24;24;24m▀\u001b[38;2;22;22;22;48;2;0;0;0m▀\u001b[38;2;0;0;0;48;2;23;23;23m▀\u001b[38;2;20;20;20;48;2;0;0;0m▀\u001b[38;2;0;0;0;48;2;17;17;17m▀\u001b[38;2;14;14;14;48;2;0;0;0m▀\u001b[38;2;0;0;0;48;2;12;12;12m▀\u001b[38;2;7;7;7;48;2;0;0;0m▀\u001b[38;2;0;0;0;48;2;1;1;1m▀\u001b[38;2;1;1;1;48;2;0;0;0m▀\u001b[38;2;0;0;0;48;2;0;0;0m▀\u001b[38;2;0;0;0;48;2;0;0;0m▀\u001b[38;2;0;0;0;48;2;0;0;0m▀\u001b[38;2;0;0;0;48;2;0;0;0m▀\u001b[38;2;0;0;0;48;2;0;0;0m▀\u001b[38;2;0;0;0;48;2;0;0;0m▀\u001b[38;2;0;0;0;48;2;0;0;0m▀\u001b[38;2;0;0;0;48;2;0;0;0m▀\u001b[38;2;0;0;0;48;2;0;0;0m▀\u001b[0m\n",
       "\u001b[0m\u001b[38;2;0;0;0;48;2;0;0;0m▀\u001b[38;2;0;0;0;48;2;0;0;0m▀\u001b[38;2;0;0;0;48;2;0;0;0m▀\u001b[38;2;0;0;0;48;2;0;0;0m▀\u001b[38;2;0;0;0;48;2;0;0;0m▀\u001b[38;2;0;0;0;48;2;0;0;0m▀\u001b[38;2;0;0;0;48;2;0;0;0m▀\u001b[38;2;0;0;0;48;2;0;0;0m▀\u001b[38;2;0;0;0;48;2;0;0;0m▀\u001b[38;2;0;0;0;48;2;0;0;0m▀\u001b[38;2;0;0;0;48;2;0;0;0m▀\u001b[38;2;0;0;0;48;2;0;0;0m▀\u001b[38;2;0;0;0;48;2;0;0;0m▀\u001b[38;2;2;2;2;48;2;0;0;0m▀\u001b[38;2;0;0;0;48;2;5;5;5m▀\u001b[38;2;15;15;15;48;2;0;0;0m▀\u001b[38;2;0;0;0;48;2;62;62;62m▀\u001b[38;2;33;33;33;48;2;0;0;0m▀\u001b[38;2;0;0;0;48;2;64;64;64m▀\u001b[38;2;41;41;41;48;2;0;0;0m▀\u001b[38;2;0;0;0;48;2;46;46;46m▀\u001b[38;2;23;23;23;48;2;0;0;0m▀\u001b[38;2;0;0;0;48;2;75;75;75m▀\u001b[38;2;16;16;16;48;2;0;0;0m▀\u001b[38;2;0;0;0;48;2;76;76;76m▀\u001b[38;2;17;17;17;48;2;0;0;0m▀\u001b[38;2;0;0;0;48;2;79;79;79m▀\u001b[38;2;40;40;40;48;2;0;0;0m▀\u001b[38;2;0;0;0;48;2;28;28;28m▀\u001b[38;2;46;46;46;48;2;0;0;0m▀\u001b[38;2;0;0;0;48;2;50;50;50m▀\u001b[38;2;50;50;50;48;2;0;0;0m▀\u001b[38;2;0;0;0;48;2;71;71;71m▀\u001b[38;2;42;42;42;48;2;0;0;0m▀\u001b[38;2;0;0;0;48;2;69;69;69m▀\u001b[38;2;29;29;29;48;2;0;0;0m▀\u001b[38;2;0;0;0;48;2;0;0;0m▀\u001b[38;2;0;0;0;48;2;0;0;0m▀\u001b[38;2;0;0;0;48;2;0;0;0m▀\u001b[38;2;0;0;0;48;2;0;0;0m▀\u001b[38;2;0;0;0;48;2;0;0;0m▀\u001b[38;2;0;0;0;48;2;0;0;0m▀\u001b[38;2;0;0;0;48;2;0;0;0m▀\u001b[38;2;0;0;0;48;2;0;0;0m▀\u001b[38;2;0;0;0;48;2;0;0;0m▀\u001b[38;2;0;0;0;48;2;0;0;0m▀\u001b[38;2;0;0;0;48;2;0;0;0m▀\u001b[38;2;0;0;0;48;2;0;0;0m▀\u001b[38;2;0;0;0;48;2;0;0;0m▀\u001b[38;2;0;0;0;48;2;0;0;0m▀\u001b[38;2;0;0;0;48;2;0;0;0m▀\u001b[38;2;0;0;0;48;2;0;0;0m▀\u001b[38;2;0;0;0;48;2;0;0;0m▀\u001b[38;2;0;0;0;48;2;0;0;0m▀\u001b[38;2;0;0;0;48;2;0;0;0m▀\u001b[38;2;0;0;0;48;2;0;0;0m▀\u001b[38;2;0;0;0;48;2;0;0;0m▀\u001b[0m\n",
       "\u001b[0m\u001b[38;2;0;0;0;48;2;0;0;0m▀\u001b[38;2;0;0;0;48;2;0;0;0m▀\u001b[38;2;0;0;0;48;2;0;0;0m▀\u001b[38;2;0;0;0;48;2;0;0;0m▀\u001b[38;2;0;0;0;48;2;0;0;0m▀\u001b[38;2;0;0;0;48;2;0;0;0m▀\u001b[38;2;0;0;0;48;2;0;0;0m▀\u001b[38;2;0;0;0;48;2;0;0;0m▀\u001b[38;2;0;0;0;48;2;0;0;0m▀\u001b[38;2;0;0;0;48;2;0;0;0m▀\u001b[38;2;0;0;0;48;2;0;0;0m▀\u001b[38;2;0;0;0;48;2;0;0;0m▀\u001b[38;2;0;0;0;48;2;0;0;0m▀\u001b[38;2;0;0;0;48;2;0;0;0m▀\u001b[38;2;0;0;0;48;2;0;0;0m▀\u001b[38;2;8;8;8;48;2;0;0;0m▀\u001b[38;2;0;0;0;48;2;20;20;20m▀\u001b[38;2;26;26;26;48;2;0;0;0m▀\u001b[38;2;0;0;0;48;2;43;43;43m▀\u001b[38;2;35;35;35;48;2;0;0;0m▀\u001b[38;2;0;0;0;48;2;29;29;29m▀\u001b[38;2;24;24;24;48;2;0;0;0m▀\u001b[38;2;0;0;0;48;2;87;87;87m▀\u001b[38;2;23;23;23;48;2;0;0;0m▀\u001b[38;2;0;0;0;48;2;96;96;96m▀\u001b[38;2;31;31;31;48;2;0;0;0m▀\u001b[38;2;0;0;0;48;2;66;66;66m▀\u001b[38;2;23;23;23;48;2;0;0;0m▀\u001b[38;2;0;0;0;48;2;22;22;22m▀\u001b[38;2;3;3;3;48;2;0;0;0m▀\u001b[38;2;0;0;0;48;2;1;1;1m▀\u001b[38;2;5;5;5;48;2;0;0;0m▀\u001b[38;2;0;0;0;48;2;11;11;11m▀\u001b[38;2;22;22;22;48;2;0;0;0m▀\u001b[38;2;0;0;0;48;2;40;40;40m▀\u001b[38;2;24;24;24;48;2;0;0;0m▀\u001b[38;2;0;0;0;48;2;5;5;5m▀\u001b[38;2;3;3;3;48;2;0;0;0m▀\u001b[38;2;0;0;0;48;2;0;0;0m▀\u001b[38;2;0;0;0;48;2;0;0;0m▀\u001b[38;2;0;0;0;48;2;0;0;0m▀\u001b[38;2;0;0;0;48;2;0;0;0m▀\u001b[38;2;0;0;0;48;2;0;0;0m▀\u001b[38;2;0;0;0;48;2;0;0;0m▀\u001b[38;2;0;0;0;48;2;0;0;0m▀\u001b[38;2;0;0;0;48;2;0;0;0m▀\u001b[38;2;0;0;0;48;2;0;0;0m▀\u001b[38;2;0;0;0;48;2;0;0;0m▀\u001b[38;2;0;0;0;48;2;0;0;0m▀\u001b[38;2;0;0;0;48;2;0;0;0m▀\u001b[38;2;0;0;0;48;2;0;0;0m▀\u001b[38;2;0;0;0;48;2;0;0;0m▀\u001b[38;2;0;0;0;48;2;0;0;0m▀\u001b[38;2;0;0;0;48;2;0;0;0m▀\u001b[38;2;0;0;0;48;2;0;0;0m▀\u001b[38;2;0;0;0;48;2;0;0;0m▀\u001b[38;2;0;0;0;48;2;0;0;0m▀\u001b[0m\n",
       "\u001b[0m\u001b[38;2;0;0;0;48;2;0;0;0m▀\u001b[38;2;0;0;0;48;2;0;0;0m▀\u001b[38;2;0;0;0;48;2;0;0;0m▀\u001b[38;2;0;0;0;48;2;0;0;0m▀\u001b[38;2;0;0;0;48;2;0;0;0m▀\u001b[38;2;0;0;0;48;2;0;0;0m▀\u001b[38;2;0;0;0;48;2;0;0;0m▀\u001b[38;2;0;0;0;48;2;0;0;0m▀\u001b[38;2;0;0;0;48;2;0;0;0m▀\u001b[38;2;0;0;0;48;2;0;0;0m▀\u001b[38;2;0;0;0;48;2;0;0;0m▀\u001b[38;2;0;0;0;48;2;0;0;0m▀\u001b[38;2;0;0;0;48;2;0;0;0m▀\u001b[38;2;0;0;0;48;2;0;0;0m▀\u001b[38;2;0;0;0;48;2;0;0;0m▀\u001b[38;2;0;0;0;48;2;0;0;0m▀\u001b[38;2;0;0;0;48;2;0;0;0m▀\u001b[38;2;1;1;1;48;2;0;0;0m▀\u001b[38;2;0;0;0;48;2;4;4;4m▀\u001b[38;2;2;2;2;48;2;0;0;0m▀\u001b[38;2;0;0;0;48;2;1;1;1m▀\u001b[38;2;0;0;0;48;2;0;0;0m▀\u001b[38;2;1;1;1;48;2;49;49;49m▀\u001b[38;2;7;7;7;48;2;0;0;0m▀\u001b[38;2;0;0;0;48;2;70;70;70m▀\u001b[38;2;4;4;4;48;2;0;0;0m▀\u001b[38;2;0;0;0;48;2;37;37;37m▀\u001b[38;2;0;0;0;48;2;0;0;0m▀\u001b[38;2;0;0;0;48;2;9;9;9m▀\u001b[38;2;0;0;0;48;2;0;0;0m▀\u001b[38;2;0;0;0;48;2;12;12;12m▀\u001b[38;2;0;0;0;48;2;0;0;0m▀\u001b[38;2;0;0;0;48;2;0;0;0m▀\u001b[38;2;0;0;0;48;2;0;0;0m▀\u001b[38;2;0;0;0;48;2;0;0;0m▀\u001b[38;2;0;0;0;48;2;0;0;0m▀\u001b[38;2;0;0;0;48;2;0;0;0m▀\u001b[38;2;0;0;0;48;2;0;0;0m▀\u001b[38;2;0;0;0;48;2;0;0;0m▀\u001b[38;2;0;0;0;48;2;0;0;0m▀\u001b[38;2;0;0;0;48;2;0;0;0m▀\u001b[38;2;0;0;0;48;2;0;0;0m▀\u001b[38;2;0;0;0;48;2;0;0;0m▀\u001b[38;2;0;0;0;48;2;0;0;0m▀\u001b[38;2;0;0;0;48;2;0;0;0m▀\u001b[38;2;0;0;0;48;2;0;0;0m▀\u001b[38;2;0;0;0;48;2;0;0;0m▀\u001b[38;2;0;0;0;48;2;0;0;0m▀\u001b[38;2;0;0;0;48;2;0;0;0m▀\u001b[38;2;0;0;0;48;2;0;0;0m▀\u001b[38;2;0;0;0;48;2;0;0;0m▀\u001b[38;2;0;0;0;48;2;0;0;0m▀\u001b[38;2;0;0;0;48;2;0;0;0m▀\u001b[38;2;0;0;0;48;2;0;0;0m▀\u001b[38;2;0;0;0;48;2;0;0;0m▀\u001b[38;2;0;0;0;48;2;0;0;0m▀\u001b[38;2;0;0;0;48;2;0;0;0m▀\u001b[0m\n",
       "\u001b[0m\u001b[38;2;0;0;0;48;2;0;0;0m▀\u001b[38;2;0;0;0;48;2;0;0;0m▀\u001b[38;2;0;0;0;48;2;0;0;0m▀\u001b[38;2;0;0;0;48;2;0;0;0m▀\u001b[38;2;0;0;0;48;2;0;0;0m▀\u001b[38;2;0;0;0;48;2;0;0;0m▀\u001b[38;2;0;0;0;48;2;0;0;0m▀\u001b[38;2;0;0;0;48;2;0;0;0m▀\u001b[38;2;0;0;0;48;2;0;0;0m▀\u001b[38;2;0;0;0;48;2;0;0;0m▀\u001b[38;2;0;0;0;48;2;0;0;0m▀\u001b[38;2;0;0;0;48;2;0;0;0m▀\u001b[38;2;0;0;0;48;2;0;0;0m▀\u001b[38;2;0;0;0;48;2;0;0;0m▀\u001b[38;2;0;0;0;48;2;0;0;0m▀\u001b[38;2;0;0;0;48;2;0;0;0m▀\u001b[38;2;0;0;0;48;2;0;0;0m▀\u001b[38;2;0;0;0;48;2;0;0;0m▀\u001b[38;2;0;0;0;48;2;0;0;0m▀\u001b[38;2;0;0;0;48;2;0;0;0m▀\u001b[38;2;0;0;0;48;2;0;0;0m▀\u001b[38;2;13;13;13;48;2;0;0;0m▀\u001b[38;2;0;0;0;48;2;36;36;36m▀\u001b[38;2;21;21;21;48;2;0;0;0m▀\u001b[38;2;0;0;0;48;2;81;81;81m▀\u001b[38;2;14;14;14;48;2;0;0;0m▀\u001b[38;2;0;0;0;48;2;53;53;53m▀\u001b[38;2;2;2;2;48;2;0;0;0m▀\u001b[38;2;0;0;0;48;2;12;12;12m▀\u001b[38;2;0;0;0;48;2;0;0;0m▀\u001b[38;2;0;0;0;48;2;35;35;35m▀\u001b[38;2;0;0;0;48;2;0;0;0m▀\u001b[38;2;0;0;0;48;2;36;36;36m▀\u001b[38;2;0;0;0;48;2;0;0;0m▀\u001b[38;2;0;0;0;48;2;19;19;19m▀\u001b[38;2;0;0;0;48;2;0;0;0m▀\u001b[38;2;0;0;0;48;2;0;0;0m▀\u001b[38;2;0;0;0;48;2;0;0;0m▀\u001b[38;2;0;0;0;48;2;0;0;0m▀\u001b[38;2;0;0;0;48;2;0;0;0m▀\u001b[38;2;0;0;0;48;2;0;0;0m▀\u001b[38;2;0;0;0;48;2;0;0;0m▀\u001b[38;2;0;0;0;48;2;0;0;0m▀\u001b[38;2;0;0;0;48;2;0;0;0m▀\u001b[38;2;0;0;0;48;2;0;0;0m▀\u001b[38;2;0;0;0;48;2;0;0;0m▀\u001b[38;2;0;0;0;48;2;0;0;0m▀\u001b[38;2;0;0;0;48;2;0;0;0m▀\u001b[38;2;0;0;0;48;2;0;0;0m▀\u001b[38;2;0;0;0;48;2;0;0;0m▀\u001b[38;2;0;0;0;48;2;0;0;0m▀\u001b[38;2;0;0;0;48;2;0;0;0m▀\u001b[38;2;0;0;0;48;2;0;0;0m▀\u001b[38;2;0;0;0;48;2;0;0;0m▀\u001b[38;2;0;0;0;48;2;0;0;0m▀\u001b[38;2;0;0;0;48;2;0;0;0m▀\u001b[38;2;0;0;0;48;2;0;0;0m▀\u001b[0m\n",
       "\u001b[0m\u001b[38;2;0;0;0;48;2;0;0;0m▀\u001b[38;2;0;0;0;48;2;0;0;0m▀\u001b[38;2;0;0;0;48;2;0;0;0m▀\u001b[38;2;0;0;0;48;2;0;0;0m▀\u001b[38;2;0;0;0;48;2;0;0;0m▀\u001b[38;2;0;0;0;48;2;0;0;0m▀\u001b[38;2;0;0;0;48;2;0;0;0m▀\u001b[38;2;0;0;0;48;2;0;0;0m▀\u001b[38;2;0;0;0;48;2;0;0;0m▀\u001b[38;2;0;0;0;48;2;0;0;0m▀\u001b[38;2;0;0;0;48;2;0;0;0m▀\u001b[38;2;0;0;0;48;2;0;0;0m▀\u001b[38;2;0;0;0;48;2;0;0;0m▀\u001b[38;2;0;0;0;48;2;0;0;0m▀\u001b[38;2;0;0;0;48;2;0;0;0m▀\u001b[38;2;0;0;0;48;2;0;0;0m▀\u001b[38;2;0;0;0;48;2;0;0;0m▀\u001b[38;2;0;0;0;48;2;0;0;0m▀\u001b[38;2;0;0;0;48;2;0;0;0m▀\u001b[38;2;0;0;0;48;2;0;0;0m▀\u001b[38;2;0;0;0;48;2;0;0;0m▀\u001b[38;2;1;1;1;48;2;0;0;0m▀\u001b[38;2;0;0;0;48;2;3;3;3m▀\u001b[38;2;17;17;17;48;2;0;0;0m▀\u001b[38;2;0;0;0;48;2;51;51;51m▀\u001b[38;2;21;21;21;48;2;0;0;0m▀\u001b[38;2;0;0;0;48;2;84;84;84m▀\u001b[38;2;2;2;2;48;2;0;0;0m▀\u001b[38;2;0;0;0;48;2;17;17;17m▀\u001b[38;2;0;0;0;48;2;0;0;0m▀\u001b[38;2;0;0;0;48;2;22;22;22m▀\u001b[38;2;0;0;0;48;2;0;0;0m▀\u001b[38;2;0;0;0;48;2;34;34;34m▀\u001b[38;2;0;0;0;48;2;0;0;0m▀\u001b[38;2;0;0;0;48;2;29;29;29m▀\u001b[38;2;0;0;0;48;2;0;0;0m▀\u001b[38;2;0;0;0;48;2;23;23;23m▀\u001b[38;2;0;0;0;48;2;0;0;0m▀\u001b[38;2;0;0;0;48;2;4;4;4m▀\u001b[38;2;0;0;0;48;2;0;0;0m▀\u001b[38;2;0;0;0;48;2;0;0;0m▀\u001b[38;2;0;0;0;48;2;0;0;0m▀\u001b[38;2;0;0;0;48;2;0;0;0m▀\u001b[38;2;0;0;0;48;2;0;0;0m▀\u001b[38;2;0;0;0;48;2;0;0;0m▀\u001b[38;2;0;0;0;48;2;0;0;0m▀\u001b[38;2;0;0;0;48;2;0;0;0m▀\u001b[38;2;0;0;0;48;2;0;0;0m▀\u001b[38;2;0;0;0;48;2;0;0;0m▀\u001b[38;2;0;0;0;48;2;0;0;0m▀\u001b[38;2;0;0;0;48;2;0;0;0m▀\u001b[38;2;0;0;0;48;2;0;0;0m▀\u001b[38;2;0;0;0;48;2;0;0;0m▀\u001b[38;2;0;0;0;48;2;0;0;0m▀\u001b[38;2;0;0;0;48;2;0;0;0m▀\u001b[38;2;0;0;0;48;2;0;0;0m▀\u001b[38;2;0;0;0;48;2;0;0;0m▀\u001b[0m\n",
       "\u001b[0m\u001b[38;2;0;0;0;48;2;0;0;0m▀\u001b[38;2;0;0;0;48;2;0;0;0m▀\u001b[38;2;0;0;0;48;2;0;0;0m▀\u001b[38;2;0;0;0;48;2;0;0;0m▀\u001b[38;2;0;0;0;48;2;0;0;0m▀\u001b[38;2;0;0;0;48;2;0;0;0m▀\u001b[38;2;0;0;0;48;2;0;0;0m▀\u001b[38;2;0;0;0;48;2;0;0;0m▀\u001b[38;2;0;0;0;48;2;0;0;0m▀\u001b[38;2;0;0;0;48;2;0;0;0m▀\u001b[38;2;0;0;0;48;2;0;0;0m▀\u001b[38;2;0;0;0;48;2;0;0;0m▀\u001b[38;2;0;0;0;48;2;0;0;0m▀\u001b[38;2;0;0;0;48;2;0;0;0m▀\u001b[38;2;0;0;0;48;2;0;0;0m▀\u001b[38;2;0;0;0;48;2;0;0;0m▀\u001b[38;2;0;0;0;48;2;0;0;0m▀\u001b[38;2;0;0;0;48;2;0;0;0m▀\u001b[38;2;0;0;0;48;2;0;0;0m▀\u001b[38;2;0;0;0;48;2;0;0;0m▀\u001b[38;2;0;0;0;48;2;0;0;0m▀\u001b[38;2;0;0;0;48;2;0;0;0m▀\u001b[38;2;0;0;0;48;2;0;0;0m▀\u001b[38;2;4;4;4;48;2;0;0;0m▀\u001b[38;2;0;0;0;48;2;9;9;9m▀\u001b[38;2;20;20;20;48;2;0;0;0m▀\u001b[38;2;0;0;0;48;2;68;68;68m▀\u001b[38;2;23;23;23;48;2;0;0;0m▀\u001b[38;2;0;0;0;48;2;65;65;65m▀\u001b[38;2;3;3;3;48;2;0;0;0m▀\u001b[38;2;0;0;0;48;2;31;31;31m▀\u001b[38;2;0;0;0;48;2;0;0;0m▀\u001b[38;2;0;0;0;48;2;42;42;42m▀\u001b[38;2;0;0;0;48;2;0;0;0m▀\u001b[38;2;0;0;0;48;2;17;17;17m▀\u001b[38;2;0;0;0;48;2;0;0;0m▀\u001b[38;2;0;0;0;48;2;30;30;30m▀\u001b[38;2;0;0;0;48;2;0;0;0m▀\u001b[38;2;0;0;0;48;2;23;23;23m▀\u001b[38;2;0;0;0;48;2;0;0;0m▀\u001b[38;2;0;0;0;48;2;5;5;5m▀\u001b[38;2;0;0;0;48;2;0;0;0m▀\u001b[38;2;0;0;0;48;2;0;0;0m▀\u001b[38;2;0;0;0;48;2;0;0;0m▀\u001b[38;2;0;0;0;48;2;0;0;0m▀\u001b[38;2;0;0;0;48;2;0;0;0m▀\u001b[38;2;0;0;0;48;2;0;0;0m▀\u001b[38;2;0;0;0;48;2;0;0;0m▀\u001b[38;2;0;0;0;48;2;0;0;0m▀\u001b[38;2;0;0;0;48;2;0;0;0m▀\u001b[38;2;0;0;0;48;2;0;0;0m▀\u001b[38;2;0;0;0;48;2;0;0;0m▀\u001b[38;2;0;0;0;48;2;0;0;0m▀\u001b[38;2;0;0;0;48;2;0;0;0m▀\u001b[38;2;0;0;0;48;2;0;0;0m▀\u001b[38;2;0;0;0;48;2;0;0;0m▀\u001b[38;2;0;0;0;48;2;0;0;0m▀\u001b[0m\n",
       "\u001b[0m\u001b[38;2;0;0;0;48;2;0;0;0m▀\u001b[38;2;0;0;0;48;2;0;0;0m▀\u001b[38;2;0;0;0;48;2;0;0;0m▀\u001b[38;2;0;0;0;48;2;0;0;0m▀\u001b[38;2;0;0;0;48;2;0;0;0m▀\u001b[38;2;0;0;0;48;2;0;0;0m▀\u001b[38;2;0;0;0;48;2;0;0;0m▀\u001b[38;2;0;0;0;48;2;0;0;0m▀\u001b[38;2;0;0;0;48;2;0;0;0m▀\u001b[38;2;0;0;0;48;2;0;0;0m▀\u001b[38;2;0;0;0;48;2;0;0;0m▀\u001b[38;2;0;0;0;48;2;0;0;0m▀\u001b[38;2;0;0;0;48;2;0;0;0m▀\u001b[38;2;0;0;0;48;2;0;0;0m▀\u001b[38;2;0;0;0;48;2;0;0;0m▀\u001b[38;2;0;0;0;48;2;0;0;0m▀\u001b[38;2;0;0;0;48;2;0;0;0m▀\u001b[38;2;0;0;0;48;2;0;0;0m▀\u001b[38;2;0;0;0;48;2;0;0;0m▀\u001b[38;2;0;0;0;48;2;0;0;0m▀\u001b[38;2;0;0;0;48;2;0;0;0m▀\u001b[38;2;0;0;0;48;2;0;0;0m▀\u001b[38;2;0;0;0;48;2;0;0;0m▀\u001b[38;2;0;0;0;48;2;0;0;0m▀\u001b[38;2;0;0;0;48;2;0;0;0m▀\u001b[38;2;8;8;8;48;2;0;0;0m▀\u001b[38;2;0;0;0;48;2;21;21;21m▀\u001b[38;2;31;31;31;48;2;0;0;0m▀\u001b[38;2;0;0;0;48;2;66;66;66m▀\u001b[38;2;36;36;36;48;2;0;0;0m▀\u001b[38;2;0;0;0;48;2;75;75;75m▀\u001b[38;2;22;22;22;48;2;0;0;0m▀\u001b[38;2;0;0;0;48;2;56;56;56m▀\u001b[38;2;0;0;0;48;2;0;0;0m▀\u001b[38;2;0;0;0;48;2;31;31;31m▀\u001b[38;2;0;0;0;48;2;0;0;0m▀\u001b[38;2;0;0;0;48;2;25;25;25m▀\u001b[38;2;0;0;0;48;2;0;0;0m▀\u001b[38;2;0;0;0;48;2;26;26;26m▀\u001b[38;2;0;0;0;48;2;0;0;0m▀\u001b[38;2;0;0;0;48;2;27;27;27m▀\u001b[38;2;0;0;0;48;2;0;0;0m▀\u001b[38;2;0;0;0;48;2;0;0;0m▀\u001b[38;2;0;0;0;48;2;0;0;0m▀\u001b[38;2;0;0;0;48;2;0;0;0m▀\u001b[38;2;0;0;0;48;2;0;0;0m▀\u001b[38;2;0;0;0;48;2;0;0;0m▀\u001b[38;2;0;0;0;48;2;0;0;0m▀\u001b[38;2;0;0;0;48;2;0;0;0m▀\u001b[38;2;0;0;0;48;2;0;0;0m▀\u001b[38;2;0;0;0;48;2;0;0;0m▀\u001b[38;2;0;0;0;48;2;0;0;0m▀\u001b[38;2;0;0;0;48;2;0;0;0m▀\u001b[38;2;0;0;0;48;2;0;0;0m▀\u001b[38;2;0;0;0;48;2;0;0;0m▀\u001b[38;2;0;0;0;48;2;0;0;0m▀\u001b[38;2;0;0;0;48;2;0;0;0m▀\u001b[0m\n",
       "\u001b[0m\u001b[38;2;0;0;0;48;2;0;0;0m▀\u001b[38;2;0;0;0;48;2;0;0;0m▀\u001b[38;2;0;0;0;48;2;0;0;0m▀\u001b[38;2;0;0;0;48;2;0;0;0m▀\u001b[38;2;0;0;0;48;2;0;0;0m▀\u001b[38;2;0;0;0;48;2;0;0;0m▀\u001b[38;2;0;0;0;48;2;0;0;0m▀\u001b[38;2;0;0;0;48;2;0;0;0m▀\u001b[38;2;0;0;0;48;2;0;0;0m▀\u001b[38;2;0;0;0;48;2;0;0;0m▀\u001b[38;2;0;0;0;48;2;0;0;0m▀\u001b[38;2;0;0;0;48;2;0;0;0m▀\u001b[38;2;0;0;0;48;2;0;0;0m▀\u001b[38;2;0;0;0;48;2;0;0;0m▀\u001b[38;2;0;0;0;48;2;0;0;0m▀\u001b[38;2;0;0;0;48;2;0;0;0m▀\u001b[38;2;0;0;0;48;2;0;0;0m▀\u001b[38;2;0;0;0;48;2;0;0;0m▀\u001b[38;2;0;0;0;48;2;0;0;0m▀\u001b[38;2;0;0;0;48;2;0;0;0m▀\u001b[38;2;0;0;0;48;2;0;0;0m▀\u001b[38;2;0;0;0;48;2;0;0;0m▀\u001b[38;2;0;0;0;48;2;0;0;0m▀\u001b[38;2;0;0;0;48;2;0;0;0m▀\u001b[38;2;0;0;0;48;2;0;0;0m▀\u001b[38;2;0;0;0;48;2;0;0;0m▀\u001b[38;2;0;0;0;48;2;0;0;0m▀\u001b[38;2;5;5;5;48;2;0;0;0m▀\u001b[38;2;0;0;0;48;2;11;11;11m▀\u001b[38;2;24;24;24;48;2;0;0;0m▀\u001b[38;2;0;0;0;48;2;50;50;50m▀\u001b[38;2;42;42;42;48;2;0;0;0m▀\u001b[38;2;0;0;0;48;2;72;72;72m▀\u001b[38;2;28;28;28;48;2;0;0;0m▀\u001b[38;2;0;0;0;48;2;85;85;85m▀\u001b[38;2;5;5;5;48;2;0;0;0m▀\u001b[38;2;0;0;0;48;2;67;67;67m▀\u001b[38;2;0;0;0;48;2;0;0;0m▀\u001b[38;2;0;0;0;48;2;29;29;29m▀\u001b[38;2;0;0;0;48;2;0;0;0m▀\u001b[38;2;0;0;0;48;2;7;7;7m▀\u001b[38;2;0;0;0;48;2;0;0;0m▀\u001b[38;2;0;0;0;48;2;11;11;11m▀\u001b[38;2;0;0;0;48;2;0;0;0m▀\u001b[38;2;0;0;0;48;2;0;0;0m▀\u001b[38;2;0;0;0;48;2;0;0;0m▀\u001b[38;2;0;0;0;48;2;0;0;0m▀\u001b[38;2;0;0;0;48;2;0;0;0m▀\u001b[38;2;0;0;0;48;2;0;0;0m▀\u001b[38;2;0;0;0;48;2;0;0;0m▀\u001b[38;2;0;0;0;48;2;0;0;0m▀\u001b[38;2;0;0;0;48;2;0;0;0m▀\u001b[38;2;0;0;0;48;2;0;0;0m▀\u001b[38;2;0;0;0;48;2;0;0;0m▀\u001b[38;2;0;0;0;48;2;0;0;0m▀\u001b[38;2;0;0;0;48;2;0;0;0m▀\u001b[38;2;0;0;0;48;2;0;0;0m▀\u001b[0m\n",
       "\u001b[0m\u001b[38;2;0;0;0;48;2;0;0;0m▀\u001b[38;2;0;0;0;48;2;0;0;0m▀\u001b[38;2;0;0;0;48;2;0;0;0m▀\u001b[38;2;0;0;0;48;2;0;0;0m▀\u001b[38;2;0;0;0;48;2;0;0;0m▀\u001b[38;2;0;0;0;48;2;0;0;0m▀\u001b[38;2;0;0;0;48;2;0;0;0m▀\u001b[38;2;0;0;0;48;2;0;0;0m▀\u001b[38;2;0;0;0;48;2;0;0;0m▀\u001b[38;2;0;0;0;48;2;0;0;0m▀\u001b[38;2;0;0;0;48;2;0;0;0m▀\u001b[38;2;0;0;0;48;2;0;0;0m▀\u001b[38;2;0;0;0;48;2;0;0;0m▀\u001b[38;2;0;0;0;48;2;0;0;0m▀\u001b[38;2;0;0;0;48;2;0;0;0m▀\u001b[38;2;0;0;0;48;2;0;0;0m▀\u001b[38;2;0;0;0;48;2;0;0;0m▀\u001b[38;2;0;0;0;48;2;0;0;0m▀\u001b[38;2;0;0;0;48;2;0;0;0m▀\u001b[38;2;0;0;0;48;2;0;0;0m▀\u001b[38;2;0;0;0;48;2;0;0;0m▀\u001b[38;2;0;0;0;48;2;0;0;0m▀\u001b[38;2;0;0;0;48;2;0;0;0m▀\u001b[38;2;0;0;0;48;2;0;0;0m▀\u001b[38;2;0;0;0;48;2;0;0;0m▀\u001b[38;2;0;0;0;48;2;0;0;0m▀\u001b[38;2;0;0;0;48;2;0;0;0m▀\u001b[38;2;0;0;0;48;2;0;0;0m▀\u001b[38;2;0;0;0;48;2;3;3;3m▀\u001b[38;2;2;2;2;48;2;0;0;0m▀\u001b[38;2;0;0;0;48;2;21;21;21m▀\u001b[38;2;12;12;12;48;2;0;0;0m▀\u001b[38;2;0;0;0;48;2;60;60;60m▀\u001b[38;2;7;7;7;48;2;0;0;0m▀\u001b[38;2;2;2;2;48;2;134;134;134m▀\u001b[38;2;16;16;16;48;2;0;0;0m▀\u001b[38;2;0;0;0;48;2;95;95;95m▀\u001b[38;2;5;5;5;48;2;0;0;0m▀\u001b[38;2;0;0;0;48;2;74;74;74m▀\u001b[38;2;0;0;0;48;2;0;0;0m▀\u001b[38;2;0;0;0;48;2;0;0;0m▀\u001b[38;2;0;0;0;48;2;0;0;0m▀\u001b[38;2;0;0;0;48;2;0;0;0m▀\u001b[38;2;0;0;0;48;2;0;0;0m▀\u001b[38;2;0;0;0;48;2;0;0;0m▀\u001b[38;2;0;0;0;48;2;0;0;0m▀\u001b[38;2;0;0;0;48;2;0;0;0m▀\u001b[38;2;0;0;0;48;2;0;0;0m▀\u001b[38;2;0;0;0;48;2;0;0;0m▀\u001b[38;2;0;0;0;48;2;0;0;0m▀\u001b[38;2;0;0;0;48;2;0;0;0m▀\u001b[38;2;0;0;0;48;2;0;0;0m▀\u001b[38;2;0;0;0;48;2;0;0;0m▀\u001b[38;2;0;0;0;48;2;0;0;0m▀\u001b[38;2;0;0;0;48;2;0;0;0m▀\u001b[38;2;0;0;0;48;2;0;0;0m▀\u001b[38;2;0;0;0;48;2;0;0;0m▀\u001b[0m\n",
       "\u001b[0m\u001b[38;2;0;0;0;48;2;0;0;0m▀\u001b[38;2;0;0;0;48;2;0;0;0m▀\u001b[38;2;0;0;0;48;2;0;0;0m▀\u001b[38;2;0;0;0;48;2;0;0;0m▀\u001b[38;2;0;0;0;48;2;0;0;0m▀\u001b[38;2;0;0;0;48;2;0;0;0m▀\u001b[38;2;0;0;0;48;2;0;0;0m▀\u001b[38;2;0;0;0;48;2;0;0;0m▀\u001b[38;2;0;0;0;48;2;0;0;0m▀\u001b[38;2;0;0;0;48;2;0;0;0m▀\u001b[38;2;0;0;0;48;2;0;0;0m▀\u001b[38;2;0;0;0;48;2;0;0;0m▀\u001b[38;2;0;0;0;48;2;0;0;0m▀\u001b[38;2;0;0;0;48;2;0;0;0m▀\u001b[38;2;0;0;0;48;2;0;0;0m▀\u001b[38;2;0;0;0;48;2;0;0;0m▀\u001b[38;2;0;0;0;48;2;0;0;0m▀\u001b[38;2;0;0;0;48;2;0;0;0m▀\u001b[38;2;0;0;0;48;2;0;0;0m▀\u001b[38;2;0;0;0;48;2;0;0;0m▀\u001b[38;2;0;0;0;48;2;0;0;0m▀\u001b[38;2;0;0;0;48;2;0;0;0m▀\u001b[38;2;0;0;0;48;2;0;0;0m▀\u001b[38;2;0;0;0;48;2;0;0;0m▀\u001b[38;2;0;0;0;48;2;3;3;3m▀\u001b[38;2;0;0;0;48;2;0;0;0m▀\u001b[38;2;0;0;0;48;2;17;17;17m▀\u001b[38;2;0;0;0;48;2;0;0;0m▀\u001b[38;2;2;2;2;48;2;46;46;46m▀\u001b[38;2;0;0;0;48;2;0;0;0m▀\u001b[38;2;0;0;0;48;2;57;57;57m▀\u001b[38;2;0;0;0;48;2;0;0;0m▀\u001b[38;2;0;0;0;48;2;45;45;45m▀\u001b[38;2;0;0;0;48;2;0;0;0m▀\u001b[38;2;0;0;0;48;2;101;101;101m▀\u001b[38;2;8;8;8;48;2;0;0;0m▀\u001b[38;2;0;0;0;48;2;94;94;94m▀\u001b[38;2;17;17;17;48;2;0;0;0m▀\u001b[38;2;0;0;0;48;2;84;84;84m▀\u001b[38;2;27;27;27;48;2;0;0;0m▀\u001b[38;2;0;0;0;48;2;9;9;9m▀\u001b[38;2;7;7;7;48;2;0;0;0m▀\u001b[38;2;0;0;0;48;2;1;1;1m▀\u001b[38;2;1;1;1;48;2;0;0;0m▀\u001b[38;2;0;0;0;48;2;0;0;0m▀\u001b[38;2;0;0;0;48;2;0;0;0m▀\u001b[38;2;0;0;0;48;2;0;0;0m▀\u001b[38;2;0;0;0;48;2;0;0;0m▀\u001b[38;2;0;0;0;48;2;0;0;0m▀\u001b[38;2;0;0;0;48;2;0;0;0m▀\u001b[38;2;0;0;0;48;2;0;0;0m▀\u001b[38;2;0;0;0;48;2;0;0;0m▀\u001b[38;2;0;0;0;48;2;0;0;0m▀\u001b[38;2;0;0;0;48;2;0;0;0m▀\u001b[38;2;0;0;0;48;2;0;0;0m▀\u001b[38;2;0;0;0;48;2;0;0;0m▀\u001b[38;2;0;0;0;48;2;0;0;0m▀\u001b[0m\n",
       "\u001b[0m\u001b[38;2;0;0;0;48;2;0;0;0m▀\u001b[38;2;0;0;0;48;2;0;0;0m▀\u001b[38;2;0;0;0;48;2;0;0;0m▀\u001b[38;2;0;0;0;48;2;0;0;0m▀\u001b[38;2;0;0;0;48;2;0;0;0m▀\u001b[38;2;0;0;0;48;2;0;0;0m▀\u001b[38;2;0;0;0;48;2;0;0;0m▀\u001b[38;2;0;0;0;48;2;0;0;0m▀\u001b[38;2;0;0;0;48;2;0;0;0m▀\u001b[38;2;0;0;0;48;2;0;0;0m▀\u001b[38;2;0;0;0;48;2;0;0;0m▀\u001b[38;2;0;0;0;48;2;0;0;0m▀\u001b[38;2;0;0;0;48;2;0;0;0m▀\u001b[38;2;0;0;0;48;2;0;0;0m▀\u001b[38;2;0;0;0;48;2;0;0;0m▀\u001b[38;2;0;0;0;48;2;0;0;0m▀\u001b[38;2;0;0;0;48;2;0;0;0m▀\u001b[38;2;0;0;0;48;2;0;0;0m▀\u001b[38;2;0;0;0;48;2;0;0;0m▀\u001b[38;2;0;0;0;48;2;0;0;0m▀\u001b[38;2;0;0;0;48;2;2;2;2m▀\u001b[38;2;0;0;0;48;2;0;0;0m▀\u001b[38;2;0;0;0;48;2;12;12;12m▀\u001b[38;2;0;0;0;48;2;0;0;0m▀\u001b[38;2;2;2;2;48;2;38;38;38m▀\u001b[38;2;0;0;0;48;2;0;0;0m▀\u001b[38;2;0;0;0;48;2;58;58;58m▀\u001b[38;2;0;0;0;48;2;0;0;0m▀\u001b[38;2;0;0;0;48;2;56;56;56m▀\u001b[38;2;0;0;0;48;2;0;0;0m▀\u001b[38;2;0;0;0;48;2;62;62;62m▀\u001b[38;2;0;0;0;48;2;0;0;0m▀\u001b[38;2;0;0;0;48;2;72;72;72m▀\u001b[38;2;0;0;0;48;2;0;0;0m▀\u001b[38;2;0;0;0;48;2;88;88;88m▀\u001b[38;2;10;10;10;48;2;0;0;0m▀\u001b[38;2;0;0;0;48;2;72;72;72m▀\u001b[38;2;16;16;16;48;2;0;0;0m▀\u001b[38;2;0;0;0;48;2;29;29;29m▀\u001b[38;2;16;16;16;48;2;0;0;0m▀\u001b[38;2;0;0;0;48;2;0;0;0m▀\u001b[38;2;0;0;0;48;2;0;0;0m▀\u001b[38;2;0;0;0;48;2;0;0;0m▀\u001b[38;2;0;0;0;48;2;0;0;0m▀\u001b[38;2;0;0;0;48;2;0;0;0m▀\u001b[38;2;0;0;0;48;2;0;0;0m▀\u001b[38;2;0;0;0;48;2;0;0;0m▀\u001b[38;2;0;0;0;48;2;0;0;0m▀\u001b[38;2;0;0;0;48;2;0;0;0m▀\u001b[38;2;0;0;0;48;2;0;0;0m▀\u001b[38;2;0;0;0;48;2;0;0;0m▀\u001b[38;2;0;0;0;48;2;0;0;0m▀\u001b[38;2;0;0;0;48;2;0;0;0m▀\u001b[38;2;0;0;0;48;2;0;0;0m▀\u001b[38;2;0;0;0;48;2;0;0;0m▀\u001b[38;2;0;0;0;48;2;0;0;0m▀\u001b[38;2;0;0;0;48;2;0;0;0m▀\u001b[0m\n",
       "\u001b[0m\u001b[38;2;0;0;0;48;2;0;0;0m▀\u001b[38;2;0;0;0;48;2;0;0;0m▀\u001b[38;2;0;0;0;48;2;0;0;0m▀\u001b[38;2;0;0;0;48;2;0;0;0m▀\u001b[38;2;0;0;0;48;2;0;0;0m▀\u001b[38;2;0;0;0;48;2;0;0;0m▀\u001b[38;2;0;0;0;48;2;0;0;0m▀\u001b[38;2;0;0;0;48;2;0;0;0m▀\u001b[38;2;0;0;0;48;2;0;0;0m▀\u001b[38;2;0;0;0;48;2;0;0;0m▀\u001b[38;2;0;0;0;48;2;0;0;0m▀\u001b[38;2;0;0;0;48;2;0;0;0m▀\u001b[38;2;0;0;0;48;2;0;0;0m▀\u001b[38;2;0;0;0;48;2;0;0;0m▀\u001b[38;2;0;0;0;48;2;0;0;0m▀\u001b[38;2;0;0;0;48;2;0;0;0m▀\u001b[38;2;0;0;0;48;2;2;2;2m▀\u001b[38;2;0;0;0;48;2;0;0;0m▀\u001b[38;2;0;0;0;48;2;9;9;9m▀\u001b[38;2;0;0;0;48;2;0;0;0m▀\u001b[38;2;1;1;1;48;2;28;28;28m▀\u001b[38;2;0;0;0;48;2;0;0;0m▀\u001b[38;2;1;1;1;48;2;58;58;58m▀\u001b[38;2;0;0;0;48;2;0;0;0m▀\u001b[38;2;0;0;0;48;2;61;61;61m▀\u001b[38;2;0;0;0;48;2;0;0;0m▀\u001b[38;2;0;0;0;48;2;68;68;68m▀\u001b[38;2;0;0;0;48;2;0;0;0m▀\u001b[38;2;0;0;0;48;2;85;85;85m▀\u001b[38;2;6;6;6;48;2;0;0;0m▀\u001b[38;2;0;0;0;48;2;89;89;89m▀\u001b[38;2;11;11;11;48;2;0;0;0m▀\u001b[38;2;0;0;0;48;2;72;72;72m▀\u001b[38;2;18;18;18;48;2;0;0;0m▀\u001b[38;2;0;0;0;48;2;42;42;42m▀\u001b[38;2;37;37;37;48;2;0;0;0m▀\u001b[38;2;0;0;0;48;2;31;31;31m▀\u001b[38;2;49;49;49;48;2;0;0;0m▀\u001b[38;2;0;0;0;48;2;36;36;36m▀\u001b[38;2;29;29;29;48;2;0;0;0m▀\u001b[38;2;0;0;0;48;2;5;5;5m▀\u001b[38;2;3;3;3;48;2;0;0;0m▀\u001b[38;2;0;0;0;48;2;0;0;0m▀\u001b[38;2;0;0;0;48;2;0;0;0m▀\u001b[38;2;0;0;0;48;2;0;0;0m▀\u001b[38;2;0;0;0;48;2;0;0;0m▀\u001b[38;2;0;0;0;48;2;0;0;0m▀\u001b[38;2;0;0;0;48;2;0;0;0m▀\u001b[38;2;0;0;0;48;2;0;0;0m▀\u001b[38;2;0;0;0;48;2;0;0;0m▀\u001b[38;2;0;0;0;48;2;0;0;0m▀\u001b[38;2;0;0;0;48;2;0;0;0m▀\u001b[38;2;0;0;0;48;2;0;0;0m▀\u001b[38;2;0;0;0;48;2;0;0;0m▀\u001b[38;2;0;0;0;48;2;0;0;0m▀\u001b[38;2;0;0;0;48;2;0;0;0m▀\u001b[38;2;0;0;0;48;2;0;0;0m▀\u001b[0m\n",
       "\u001b[0m\u001b[38;2;0;0;0;48;2;0;0;0m▀\u001b[38;2;0;0;0;48;2;0;0;0m▀\u001b[38;2;0;0;0;48;2;0;0;0m▀\u001b[38;2;0;0;0;48;2;0;0;0m▀\u001b[38;2;0;0;0;48;2;0;0;0m▀\u001b[38;2;0;0;0;48;2;0;0;0m▀\u001b[38;2;0;0;0;48;2;0;0;0m▀\u001b[38;2;0;0;0;48;2;0;0;0m▀\u001b[38;2;0;0;0;48;2;0;0;0m▀\u001b[38;2;0;0;0;48;2;0;0;0m▀\u001b[38;2;0;0;0;48;2;0;0;0m▀\u001b[38;2;0;0;0;48;2;0;0;0m▀\u001b[38;2;0;0;0;48;2;1;1;1m▀\u001b[38;2;0;0;0;48;2;0;0;0m▀\u001b[38;2;0;0;0;48;2;15;15;15m▀\u001b[38;2;0;0;0;48;2;0;0;0m▀\u001b[38;2;1;1;1;48;2;47;47;47m▀\u001b[38;2;0;0;0;48;2;0;0;0m▀\u001b[38;2;0;0;0;48;2;56;56;56m▀\u001b[38;2;0;0;0;48;2;0;0;0m▀\u001b[38;2;0;0;0;48;2;68;68;68m▀\u001b[38;2;0;0;0;48;2;0;0;0m▀\u001b[38;2;0;0;0;48;2;61;61;61m▀\u001b[38;2;0;0;0;48;2;0;0;0m▀\u001b[38;2;0;0;0;48;2;82;82;82m▀\u001b[38;2;4;4;4;48;2;0;0;0m▀\u001b[38;2;0;0;0;48;2;89;89;89m▀\u001b[38;2;10;10;10;48;2;0;0;0m▀\u001b[38;2;0;0;0;48;2;71;71;71m▀\u001b[38;2;18;18;18;48;2;0;0;0m▀\u001b[38;2;0;0;0;48;2;42;42;42m▀\u001b[38;2;37;37;37;48;2;0;0;0m▀\u001b[38;2;0;0;0;48;2;34;34;34m▀\u001b[38;2;52;52;52;48;2;0;0;0m▀\u001b[38;2;0;0;0;48;2;40;40;40m▀\u001b[38;2;40;40;40;48;2;0;0;0m▀\u001b[38;2;0;0;0;48;2;25;25;25m▀\u001b[38;2;15;15;15;48;2;0;0;0m▀\u001b[38;2;0;0;0;48;2;2;2;2m▀\u001b[38;2;1;1;1;48;2;0;0;0m▀\u001b[38;2;0;0;0;48;2;0;0;0m▀\u001b[38;2;0;0;0;48;2;0;0;0m▀\u001b[38;2;0;0;0;48;2;0;0;0m▀\u001b[38;2;0;0;0;48;2;0;0;0m▀\u001b[38;2;0;0;0;48;2;0;0;0m▀\u001b[38;2;0;0;0;48;2;0;0;0m▀\u001b[38;2;0;0;0;48;2;0;0;0m▀\u001b[38;2;0;0;0;48;2;0;0;0m▀\u001b[38;2;0;0;0;48;2;0;0;0m▀\u001b[38;2;0;0;0;48;2;0;0;0m▀\u001b[38;2;0;0;0;48;2;0;0;0m▀\u001b[38;2;0;0;0;48;2;0;0;0m▀\u001b[38;2;0;0;0;48;2;0;0;0m▀\u001b[38;2;0;0;0;48;2;0;0;0m▀\u001b[38;2;0;0;0;48;2;0;0;0m▀\u001b[38;2;0;0;0;48;2;0;0;0m▀\u001b[38;2;0;0;0;48;2;0;0;0m▀\u001b[0m\n",
       "\u001b[0m\u001b[38;2;0;0;0;48;2;0;0;0m▀\u001b[38;2;0;0;0;48;2;0;0;0m▀\u001b[38;2;0;0;0;48;2;0;0;0m▀\u001b[38;2;0;0;0;48;2;0;0;0m▀\u001b[38;2;0;0;0;48;2;0;0;0m▀\u001b[38;2;0;0;0;48;2;0;0;0m▀\u001b[38;2;0;0;0;48;2;0;0;0m▀\u001b[38;2;0;0;0;48;2;0;0;0m▀\u001b[38;2;0;0;0;48;2;4;4;4m▀\u001b[38;2;0;0;0;48;2;0;0;0m▀\u001b[38;2;0;0;0;48;2;22;22;22m▀\u001b[38;2;0;0;0;48;2;0;0;0m▀\u001b[38;2;1;1;1;48;2;48;48;48m▀\u001b[38;2;0;0;0;48;2;0;0;0m▀\u001b[38;2;5;5;5;48;2;65;65;65m▀\u001b[38;2;0;0;0;48;2;0;0;0m▀\u001b[38;2;0;0;0;48;2;44;44;44m▀\u001b[38;2;0;0;0;48;2;0;0;0m▀\u001b[38;2;0;0;0;48;2;47;47;47m▀\u001b[38;2;0;0;0;48;2;0;0;0m▀\u001b[38;2;0;0;0;48;2;78;78;78m▀\u001b[38;2;2;2;2;48;2;0;0;0m▀\u001b[38;2;0;0;0;48;2;92;92;92m▀\u001b[38;2;10;10;10;48;2;0;0;0m▀\u001b[38;2;0;0;0;48;2;84;84;84m▀\u001b[38;2;19;19;19;48;2;0;0;0m▀\u001b[38;2;0;0;0;48;2;52;52;52m▀\u001b[38;2;38;38;38;48;2;0;0;0m▀\u001b[38;2;0;0;0;48;2;35;35;35m▀\u001b[38;2;50;50;50;48;2;0;0;0m▀\u001b[38;2;0;0;0;48;2;40;40;40m▀\u001b[38;2;39;39;39;48;2;0;0;0m▀\u001b[38;2;0;0;0;48;2;24;24;24m▀\u001b[38;2;16;16;16;48;2;0;0;0m▀\u001b[38;2;0;0;0;48;2;3;3;3m▀\u001b[38;2;2;2;2;48;2;0;0;0m▀\u001b[38;2;0;0;0;48;2;0;0;0m▀\u001b[38;2;0;0;0;48;2;0;0;0m▀\u001b[38;2;0;0;0;48;2;0;0;0m▀\u001b[38;2;0;0;0;48;2;0;0;0m▀\u001b[38;2;0;0;0;48;2;0;0;0m▀\u001b[38;2;0;0;0;48;2;0;0;0m▀\u001b[38;2;0;0;0;48;2;0;0;0m▀\u001b[38;2;0;0;0;48;2;0;0;0m▀\u001b[38;2;0;0;0;48;2;0;0;0m▀\u001b[38;2;0;0;0;48;2;0;0;0m▀\u001b[38;2;0;0;0;48;2;0;0;0m▀\u001b[38;2;0;0;0;48;2;0;0;0m▀\u001b[38;2;0;0;0;48;2;0;0;0m▀\u001b[38;2;0;0;0;48;2;0;0;0m▀\u001b[38;2;0;0;0;48;2;0;0;0m▀\u001b[38;2;0;0;0;48;2;0;0;0m▀\u001b[38;2;0;0;0;48;2;0;0;0m▀\u001b[38;2;0;0;0;48;2;0;0;0m▀\u001b[38;2;0;0;0;48;2;0;0;0m▀\u001b[38;2;0;0;0;48;2;0;0;0m▀\u001b[38;2;0;0;0;48;2;0;0;0m▀\u001b[0m\n",
       "\u001b[0m\u001b[38;2;0;0;0;48;2;0;0;0m▀\u001b[38;2;0;0;0;48;2;0;0;0m▀\u001b[38;2;0;0;0;48;2;0;0;0m▀\u001b[38;2;0;0;0;48;2;0;0;0m▀\u001b[38;2;0;0;0;48;2;0;0;0m▀\u001b[38;2;0;0;0;48;2;0;0;0m▀\u001b[38;2;0;0;0;48;2;0;0;0m▀\u001b[38;2;0;0;0;48;2;0;0;0m▀\u001b[38;2;3;3;3;48;2;13;13;13m▀\u001b[38;2;0;0;0;48;2;0;0;0m▀\u001b[38;2;0;0;0;48;2;41;41;41m▀\u001b[38;2;0;0;0;48;2;0;0;0m▀\u001b[38;2;0;0;0;48;2;43;43;43m▀\u001b[38;2;0;0;0;48;2;0;0;0m▀\u001b[38;2;0;0;0;48;2;72;72;72m▀\u001b[38;2;0;0;0;48;2;0;0;0m▀\u001b[38;2;0;0;0;48;2;80;80;80m▀\u001b[38;2;4;4;4;48;2;0;0;0m▀\u001b[38;2;0;0;0;48;2;77;77;77m▀\u001b[38;2;10;10;10;48;2;0;0;0m▀\u001b[38;2;0;0;0;48;2;64;64;64m▀\u001b[38;2;12;12;12;48;2;0;0;0m▀\u001b[38;2;0;0;0;48;2;55;55;55m▀\u001b[38;2;27;27;27;48;2;0;0;0m▀\u001b[38;2;0;0;0;48;2;28;28;28m▀\u001b[38;2;45;45;45;48;2;0;0;0m▀\u001b[38;2;0;0;0;48;2;28;28;28m▀\u001b[38;2;37;37;37;48;2;0;0;0m▀\u001b[38;2;0;0;0;48;2;24;24;24m▀\u001b[38;2;16;16;16;48;2;0;0;0m▀\u001b[38;2;0;0;0;48;2;5;5;5m▀\u001b[38;2;3;3;3;48;2;0;0;0m▀\u001b[38;2;0;0;0;48;2;0;0;0m▀\u001b[38;2;0;0;0;48;2;0;0;0m▀\u001b[38;2;0;0;0;48;2;0;0;0m▀\u001b[38;2;0;0;0;48;2;0;0;0m▀\u001b[38;2;0;0;0;48;2;0;0;0m▀\u001b[38;2;0;0;0;48;2;0;0;0m▀\u001b[38;2;0;0;0;48;2;0;0;0m▀\u001b[38;2;0;0;0;48;2;0;0;0m▀\u001b[38;2;0;0;0;48;2;0;0;0m▀\u001b[38;2;0;0;0;48;2;0;0;0m▀\u001b[38;2;0;0;0;48;2;0;0;0m▀\u001b[38;2;0;0;0;48;2;0;0;0m▀\u001b[38;2;0;0;0;48;2;0;0;0m▀\u001b[38;2;0;0;0;48;2;0;0;0m▀\u001b[38;2;0;0;0;48;2;0;0;0m▀\u001b[38;2;0;0;0;48;2;0;0;0m▀\u001b[38;2;0;0;0;48;2;0;0;0m▀\u001b[38;2;0;0;0;48;2;0;0;0m▀\u001b[38;2;0;0;0;48;2;0;0;0m▀\u001b[38;2;0;0;0;48;2;0;0;0m▀\u001b[38;2;0;0;0;48;2;0;0;0m▀\u001b[38;2;0;0;0;48;2;0;0;0m▀\u001b[38;2;0;0;0;48;2;0;0;0m▀\u001b[38;2;0;0;0;48;2;0;0;0m▀\u001b[38;2;0;0;0;48;2;0;0;0m▀\u001b[0m\n",
       "\u001b[0m\u001b[38;2;0;0;0;48;2;0;0;0m▀\u001b[38;2;0;0;0;48;2;0;0;0m▀\u001b[38;2;0;0;0;48;2;0;0;0m▀\u001b[38;2;0;0;0;48;2;0;0;0m▀\u001b[38;2;0;0;0;48;2;0;0;0m▀\u001b[38;2;0;0;0;48;2;0;0;0m▀\u001b[38;2;0;0;0;48;2;0;0;0m▀\u001b[38;2;0;0;0;48;2;7;7;7m▀\u001b[38;2;5;5;5;48;2;23;23;23m▀\u001b[38;2;0;0;0;48;2;32;32;32m▀\u001b[38;2;0;0;0;48;2;31;31;31m▀\u001b[38;2;0;0;0;48;2;13;13;13m▀\u001b[38;2;0;0;0;48;2;22;22;22m▀\u001b[38;2;6;6;6;48;2;0;0;0m▀\u001b[38;2;0;0;0;48;2;30;30;30m▀\u001b[38;2;16;16;16;48;2;0;0;0m▀\u001b[38;2;0;0;0;48;2;28;28;28m▀\u001b[38;2;29;29;29;48;2;0;0;0m▀\u001b[38;2;0;0;0;48;2;33;33;33m▀\u001b[38;2;36;36;36;48;2;0;0;0m▀\u001b[38;2;0;0;0;48;2;50;50;50m▀\u001b[38;2;53;53;53;48;2;0;0;0m▀\u001b[38;2;0;0;0;48;2;41;41;41m▀\u001b[38;2;50;50;50;48;2;0;0;0m▀\u001b[38;2;0;0;0;48;2;37;37;37m▀\u001b[38;2;25;25;25;48;2;0;0;0m▀\u001b[38;2;0;0;0;48;2;7;7;7m▀\u001b[38;2;4;4;4;48;2;0;0;0m▀\u001b[38;2;0;0;0;48;2;0;0;0m▀\u001b[38;2;0;0;0;48;2;0;0;0m▀\u001b[38;2;0;0;0;48;2;0;0;0m▀\u001b[38;2;0;0;0;48;2;0;0;0m▀\u001b[38;2;0;0;0;48;2;0;0;0m▀\u001b[38;2;0;0;0;48;2;0;0;0m▀\u001b[38;2;0;0;0;48;2;0;0;0m▀\u001b[38;2;0;0;0;48;2;0;0;0m▀\u001b[38;2;0;0;0;48;2;0;0;0m▀\u001b[38;2;0;0;0;48;2;0;0;0m▀\u001b[38;2;0;0;0;48;2;0;0;0m▀\u001b[38;2;0;0;0;48;2;0;0;0m▀\u001b[38;2;0;0;0;48;2;0;0;0m▀\u001b[38;2;0;0;0;48;2;0;0;0m▀\u001b[38;2;0;0;0;48;2;0;0;0m▀\u001b[38;2;0;0;0;48;2;0;0;0m▀\u001b[38;2;0;0;0;48;2;0;0;0m▀\u001b[38;2;0;0;0;48;2;0;0;0m▀\u001b[38;2;0;0;0;48;2;0;0;0m▀\u001b[38;2;0;0;0;48;2;0;0;0m▀\u001b[38;2;0;0;0;48;2;0;0;0m▀\u001b[38;2;0;0;0;48;2;0;0;0m▀\u001b[38;2;0;0;0;48;2;0;0;0m▀\u001b[38;2;0;0;0;48;2;0;0;0m▀\u001b[38;2;0;0;0;48;2;0;0;0m▀\u001b[38;2;0;0;0;48;2;0;0;0m▀\u001b[38;2;0;0;0;48;2;0;0;0m▀\u001b[38;2;0;0;0;48;2;0;0;0m▀\u001b[38;2;0;0;0;48;2;0;0;0m▀\u001b[0m\n",
       "\u001b[0m\u001b[38;2;0;0;0;48;2;0;0;0m▀\u001b[38;2;0;0;0;48;2;0;0;0m▀\u001b[38;2;0;0;0;48;2;0;0;0m▀\u001b[38;2;0;0;0;48;2;0;0;0m▀\u001b[38;2;0;0;0;48;2;0;0;0m▀\u001b[38;2;0;0;0;48;2;0;0;0m▀\u001b[38;2;0;0;0;48;2;0;0;0m▀\u001b[38;2;14;14;14;48;2;0;0;0m▀\u001b[38;2;0;0;0;48;2;35;35;35m▀\u001b[38;2;47;47;47;48;2;0;0;0m▀\u001b[38;2;0;0;0;48;2;68;68;68m▀\u001b[38;2;66;66;66;48;2;0;0;0m▀\u001b[38;2;0;0;0;48;2;72;72;72m▀\u001b[38;2;69;69;69;48;2;0;0;0m▀\u001b[38;2;0;0;0;48;2;72;72;72m▀\u001b[38;2;64;64;64;48;2;0;0;0m▀\u001b[38;2;0;0;0;48;2;61;61;61m▀\u001b[38;2;50;50;50;48;2;0;0;0m▀\u001b[38;2;0;0;0;48;2;41;41;41m▀\u001b[38;2;38;38;38;48;2;0;0;0m▀\u001b[38;2;0;0;0;48;2;38;38;38m▀\u001b[38;2;24;24;24;48;2;0;0;0m▀\u001b[38;2;0;0;0;48;2;8;8;8m▀\u001b[38;2;5;5;5;48;2;0;0;0m▀\u001b[38;2;0;0;0;48;2;0;0;0m▀\u001b[38;2;0;0;0;48;2;0;0;0m▀\u001b[38;2;0;0;0;48;2;0;0;0m▀\u001b[38;2;0;0;0;48;2;0;0;0m▀\u001b[38;2;0;0;0;48;2;0;0;0m▀\u001b[38;2;0;0;0;48;2;0;0;0m▀\u001b[38;2;0;0;0;48;2;0;0;0m▀\u001b[38;2;0;0;0;48;2;0;0;0m▀\u001b[38;2;0;0;0;48;2;0;0;0m▀\u001b[38;2;0;0;0;48;2;0;0;0m▀\u001b[38;2;0;0;0;48;2;0;0;0m▀\u001b[38;2;0;0;0;48;2;0;0;0m▀\u001b[38;2;0;0;0;48;2;0;0;0m▀\u001b[38;2;0;0;0;48;2;0;0;0m▀\u001b[38;2;0;0;0;48;2;0;0;0m▀\u001b[38;2;0;0;0;48;2;0;0;0m▀\u001b[38;2;0;0;0;48;2;0;0;0m▀\u001b[38;2;0;0;0;48;2;0;0;0m▀\u001b[38;2;0;0;0;48;2;0;0;0m▀\u001b[38;2;0;0;0;48;2;0;0;0m▀\u001b[38;2;0;0;0;48;2;0;0;0m▀\u001b[38;2;0;0;0;48;2;0;0;0m▀\u001b[38;2;0;0;0;48;2;0;0;0m▀\u001b[38;2;0;0;0;48;2;0;0;0m▀\u001b[38;2;0;0;0;48;2;0;0;0m▀\u001b[38;2;0;0;0;48;2;0;0;0m▀\u001b[38;2;0;0;0;48;2;0;0;0m▀\u001b[38;2;0;0;0;48;2;0;0;0m▀\u001b[38;2;0;0;0;48;2;0;0;0m▀\u001b[38;2;0;0;0;48;2;0;0;0m▀\u001b[38;2;0;0;0;48;2;0;0;0m▀\u001b[38;2;0;0;0;48;2;0;0;0m▀\u001b[38;2;0;0;0;48;2;0;0;0m▀\u001b[0m\n",
       "\u001b[0m\u001b[38;2;0;0;0;48;2;0;0;0m▀\u001b[38;2;0;0;0;48;2;0;0;0m▀\u001b[38;2;0;0;0;48;2;0;0;0m▀\u001b[38;2;0;0;0;48;2;0;0;0m▀\u001b[38;2;0;0;0;48;2;0;0;0m▀\u001b[38;2;0;0;0;48;2;0;0;0m▀\u001b[38;2;0;0;0;48;2;0;0;0m▀\u001b[38;2;0;0;0;48;2;0;0;0m▀\u001b[38;2;0;0;0;48;2;0;0;0m▀\u001b[38;2;0;0;0;48;2;0;0;0m▀\u001b[38;2;0;0;0;48;2;0;0;0m▀\u001b[38;2;0;0;0;48;2;0;0;0m▀\u001b[38;2;0;0;0;48;2;0;0;0m▀\u001b[38;2;0;0;0;48;2;0;0;0m▀\u001b[38;2;0;0;0;48;2;0;0;0m▀\u001b[38;2;0;0;0;48;2;0;0;0m▀\u001b[38;2;0;0;0;48;2;0;0;0m▀\u001b[38;2;0;0;0;48;2;0;0;0m▀\u001b[38;2;0;0;0;48;2;0;0;0m▀\u001b[38;2;0;0;0;48;2;0;0;0m▀\u001b[38;2;0;0;0;48;2;0;0;0m▀\u001b[38;2;0;0;0;48;2;0;0;0m▀\u001b[38;2;0;0;0;48;2;0;0;0m▀\u001b[38;2;0;0;0;48;2;0;0;0m▀\u001b[38;2;0;0;0;48;2;0;0;0m▀\u001b[38;2;0;0;0;48;2;0;0;0m▀\u001b[38;2;0;0;0;48;2;0;0;0m▀\u001b[38;2;0;0;0;48;2;0;0;0m▀\u001b[38;2;0;0;0;48;2;0;0;0m▀\u001b[38;2;0;0;0;48;2;0;0;0m▀\u001b[38;2;0;0;0;48;2;0;0;0m▀\u001b[38;2;0;0;0;48;2;0;0;0m▀\u001b[38;2;0;0;0;48;2;0;0;0m▀\u001b[38;2;0;0;0;48;2;0;0;0m▀\u001b[38;2;0;0;0;48;2;0;0;0m▀\u001b[38;2;0;0;0;48;2;0;0;0m▀\u001b[38;2;0;0;0;48;2;0;0;0m▀\u001b[38;2;0;0;0;48;2;0;0;0m▀\u001b[38;2;0;0;0;48;2;0;0;0m▀\u001b[38;2;0;0;0;48;2;0;0;0m▀\u001b[38;2;0;0;0;48;2;0;0;0m▀\u001b[38;2;0;0;0;48;2;0;0;0m▀\u001b[38;2;0;0;0;48;2;0;0;0m▀\u001b[38;2;0;0;0;48;2;0;0;0m▀\u001b[38;2;0;0;0;48;2;0;0;0m▀\u001b[38;2;0;0;0;48;2;0;0;0m▀\u001b[38;2;0;0;0;48;2;0;0;0m▀\u001b[38;2;0;0;0;48;2;0;0;0m▀\u001b[38;2;0;0;0;48;2;0;0;0m▀\u001b[38;2;0;0;0;48;2;0;0;0m▀\u001b[38;2;0;0;0;48;2;0;0;0m▀\u001b[38;2;0;0;0;48;2;0;0;0m▀\u001b[38;2;0;0;0;48;2;0;0;0m▀\u001b[38;2;0;0;0;48;2;0;0;0m▀\u001b[38;2;0;0;0;48;2;0;0;0m▀\u001b[38;2;0;0;0;48;2;0;0;0m▀\u001b[38;2;0;0;0;48;2;0;0;0m▀\u001b[0m\n",
       "\u001b[0m\u001b[38;2;0;0;0;48;2;0;0;0m▀\u001b[38;2;0;0;0;48;2;0;0;0m▀\u001b[38;2;0;0;0;48;2;0;0;0m▀\u001b[38;2;0;0;0;48;2;0;0;0m▀\u001b[38;2;0;0;0;48;2;0;0;0m▀\u001b[38;2;0;0;0;48;2;0;0;0m▀\u001b[38;2;0;0;0;48;2;0;0;0m▀\u001b[38;2;0;0;0;48;2;0;0;0m▀\u001b[38;2;0;0;0;48;2;0;0;0m▀\u001b[38;2;0;0;0;48;2;0;0;0m▀\u001b[38;2;0;0;0;48;2;0;0;0m▀\u001b[38;2;0;0;0;48;2;0;0;0m▀\u001b[38;2;0;0;0;48;2;0;0;0m▀\u001b[38;2;0;0;0;48;2;0;0;0m▀\u001b[38;2;0;0;0;48;2;0;0;0m▀\u001b[38;2;0;0;0;48;2;0;0;0m▀\u001b[38;2;0;0;0;48;2;0;0;0m▀\u001b[38;2;0;0;0;48;2;0;0;0m▀\u001b[38;2;0;0;0;48;2;0;0;0m▀\u001b[38;2;0;0;0;48;2;0;0;0m▀\u001b[38;2;0;0;0;48;2;0;0;0m▀\u001b[38;2;0;0;0;48;2;0;0;0m▀\u001b[38;2;0;0;0;48;2;0;0;0m▀\u001b[38;2;0;0;0;48;2;0;0;0m▀\u001b[38;2;0;0;0;48;2;0;0;0m▀\u001b[38;2;0;0;0;48;2;0;0;0m▀\u001b[38;2;0;0;0;48;2;0;0;0m▀\u001b[38;2;0;0;0;48;2;0;0;0m▀\u001b[38;2;0;0;0;48;2;0;0;0m▀\u001b[38;2;0;0;0;48;2;0;0;0m▀\u001b[38;2;0;0;0;48;2;0;0;0m▀\u001b[38;2;0;0;0;48;2;0;0;0m▀\u001b[38;2;0;0;0;48;2;0;0;0m▀\u001b[38;2;0;0;0;48;2;0;0;0m▀\u001b[38;2;0;0;0;48;2;0;0;0m▀\u001b[38;2;0;0;0;48;2;0;0;0m▀\u001b[38;2;0;0;0;48;2;0;0;0m▀\u001b[38;2;0;0;0;48;2;0;0;0m▀\u001b[38;2;0;0;0;48;2;0;0;0m▀\u001b[38;2;0;0;0;48;2;0;0;0m▀\u001b[38;2;0;0;0;48;2;0;0;0m▀\u001b[38;2;0;0;0;48;2;0;0;0m▀\u001b[38;2;0;0;0;48;2;0;0;0m▀\u001b[38;2;0;0;0;48;2;0;0;0m▀\u001b[38;2;0;0;0;48;2;0;0;0m▀\u001b[38;2;0;0;0;48;2;0;0;0m▀\u001b[38;2;0;0;0;48;2;0;0;0m▀\u001b[38;2;0;0;0;48;2;0;0;0m▀\u001b[38;2;0;0;0;48;2;0;0;0m▀\u001b[38;2;0;0;0;48;2;0;0;0m▀\u001b[38;2;0;0;0;48;2;0;0;0m▀\u001b[38;2;0;0;0;48;2;0;0;0m▀\u001b[38;2;0;0;0;48;2;0;0;0m▀\u001b[38;2;0;0;0;48;2;0;0;0m▀\u001b[38;2;0;0;0;48;2;0;0;0m▀\u001b[38;2;0;0;0;48;2;0;0;0m▀\u001b[38;2;0;0;0;48;2;0;0;0m▀\u001b[0m\n",
       "\u001b[0m\u001b[38;2;0;0;0m▀\u001b[38;2;0;0;0m▀\u001b[38;2;0;0;0m▀\u001b[38;2;0;0;0m▀\u001b[38;2;0;0;0m▀\u001b[38;2;0;0;0m▀\u001b[38;2;0;0;0m▀\u001b[38;2;0;0;0m▀\u001b[38;2;0;0;0m▀\u001b[38;2;0;0;0m▀\u001b[38;2;0;0;0m▀\u001b[38;2;0;0;0m▀\u001b[38;2;0;0;0m▀\u001b[38;2;0;0;0m▀\u001b[38;2;0;0;0m▀\u001b[38;2;0;0;0m▀\u001b[38;2;0;0;0m▀\u001b[38;2;0;0;0m▀\u001b[38;2;0;0;0m▀\u001b[38;2;0;0;0m▀\u001b[38;2;0;0;0m▀\u001b[38;2;0;0;0m▀\u001b[38;2;0;0;0m▀\u001b[38;2;0;0;0m▀\u001b[38;2;0;0;0m▀\u001b[38;2;0;0;0m▀\u001b[38;2;0;0;0m▀\u001b[38;2;0;0;0m▀\u001b[38;2;0;0;0m▀\u001b[38;2;0;0;0m▀\u001b[38;2;0;0;0m▀\u001b[38;2;0;0;0m▀\u001b[38;2;0;0;0m▀\u001b[38;2;0;0;0m▀\u001b[38;2;0;0;0m▀\u001b[38;2;0;0;0m▀\u001b[38;2;0;0;0m▀\u001b[38;2;0;0;0m▀\u001b[38;2;0;0;0m▀\u001b[38;2;0;0;0m▀\u001b[38;2;0;0;0m▀\u001b[38;2;0;0;0m▀\u001b[38;2;0;0;0m▀\u001b[38;2;0;0;0m▀\u001b[38;2;0;0;0m▀\u001b[38;2;0;0;0m▀\u001b[38;2;0;0;0m▀\u001b[38;2;0;0;0m▀\u001b[38;2;0;0;0m▀\u001b[38;2;0;0;0m▀\u001b[38;2;0;0;0m▀\u001b[38;2;0;0;0m▀\u001b[38;2;0;0;0m▀\u001b[38;2;0;0;0m▀\u001b[38;2;0;0;0m▀\u001b[38;2;0;0;0m▀\u001b[38;2;0;0;0m▀\u001b[0m"
      ]
     },
     "execution_count": 68,
     "metadata": {},
     "output_type": "execute_result"
    }
   ],
   "source": [
    "cnn_output = cnn_layer( images[:,:,:,1:3] )\n",
    "display( cnn_output |> size )\n",
    "convert2image( MNIST , cnn_output[:,:,1,1] )"
   ]
  },
  {
   "cell_type": "code",
   "execution_count": 69,
   "metadata": {},
   "outputs": [
    {
     "data": {
      "text/plain": [
       "(20, 20, 1, 10)"
      ]
     },
     "execution_count": 69,
     "metadata": {},
     "output_type": "execute_result"
    }
   ],
   "source": [
    "x = rand(Float32, 10, 10, 1, 10); \n",
    "cnn_layer = ConvTranspose( (5,5) , 1 => 1 , pad=SamePad() , stride=2 )\n",
    "cnn_layer( x ) |> size"
   ]
  },
  {
   "cell_type": "code",
   "execution_count": 70,
   "metadata": {},
   "outputs": [
    {
     "data": {
      "text/plain": [
       "(56, 56, 1, 3)"
      ]
     },
     "metadata": {},
     "output_type": "display_data"
    },
    {
     "data": {
      "image/png": "[encoded data removed]",
      "text/plain": [
       "\u001b[0m\u001b[38;2;0;0;0;48;2;0;0;0m▀\u001b[38;2;0;0;0;48;2;0;0;0m▀\u001b[38;2;0;0;0;48;2;0;0;0m▀\u001b[38;2;0;0;0;48;2;0;0;0m▀\u001b[38;2;0;0;0;48;2;0;0;0m▀\u001b[38;2;0;0;0;48;2;0;0;0m▀\u001b[38;2;0;0;0;48;2;0;0;0m▀\u001b[38;2;0;0;0;48;2;0;0;0m▀\u001b[38;2;0;0;0;48;2;0;0;0m▀\u001b[38;2;0;0;0;48;2;0;0;0m▀\u001b[38;2;0;0;0;48;2;0;0;0m▀\u001b[38;2;0;0;0;48;2;0;0;0m▀\u001b[38;2;0;0;0;48;2;0;0;0m▀\u001b[38;2;0;0;0;48;2;0;0;0m▀\u001b[38;2;0;0;0;48;2;0;0;0m▀\u001b[38;2;0;0;0;48;2;0;0;0m▀\u001b[38;2;0;0;0;48;2;0;0;0m▀\u001b[38;2;0;0;0;48;2;0;0;0m▀\u001b[38;2;0;0;0;48;2;0;0;0m▀\u001b[38;2;0;0;0;48;2;0;0;0m▀\u001b[38;2;0;0;0;48;2;0;0;0m▀\u001b[38;2;0;0;0;48;2;0;0;0m▀\u001b[38;2;0;0;0;48;2;0;0;0m▀\u001b[38;2;0;0;0;48;2;0;0;0m▀\u001b[38;2;0;0;0;48;2;0;0;0m▀\u001b[38;2;0;0;0;48;2;0;0;0m▀\u001b[38;2;0;0;0;48;2;0;0;0m▀\u001b[38;2;0;0;0;48;2;0;0;0m▀\u001b[38;2;0;0;0;48;2;0;0;0m▀\u001b[38;2;0;0;0;48;2;0;0;0m▀\u001b[38;2;0;0;0;48;2;0;0;0m▀\u001b[38;2;0;0;0;48;2;0;0;0m▀\u001b[38;2;0;0;0;48;2;0;0;0m▀\u001b[38;2;0;0;0;48;2;0;0;0m▀\u001b[38;2;0;0;0;48;2;0;0;0m▀\u001b[38;2;0;0;0;48;2;0;0;0m▀\u001b[38;2;0;0;0;48;2;0;0;0m▀\u001b[38;2;0;0;0;48;2;0;0;0m▀\u001b[38;2;0;0;0;48;2;0;0;0m▀\u001b[38;2;0;0;0;48;2;0;0;0m▀\u001b[38;2;0;0;0;48;2;0;0;0m▀\u001b[38;2;0;0;0;48;2;0;0;0m▀\u001b[38;2;0;0;0;48;2;0;0;0m▀\u001b[38;2;0;0;0;48;2;0;0;0m▀\u001b[38;2;0;0;0;48;2;0;0;0m▀\u001b[38;2;0;0;0;48;2;0;0;0m▀\u001b[38;2;0;0;0;48;2;0;0;0m▀\u001b[38;2;0;0;0;48;2;0;0;0m▀\u001b[38;2;0;0;0;48;2;0;0;0m▀\u001b[38;2;0;0;0;48;2;0;0;0m▀\u001b[38;2;0;0;0;48;2;0;0;0m▀\u001b[38;2;0;0;0;48;2;0;0;0m▀\u001b[38;2;0;0;0;48;2;0;0;0m▀\u001b[38;2;0;0;0;48;2;0;0;0m▀\u001b[38;2;0;0;0;48;2;0;0;0m▀\u001b[38;2;0;0;0;48;2;0;0;0m▀\u001b[0m\n",
       "\u001b[0m\u001b[38;2;0;0;0;48;2;0;0;0m▀\u001b[38;2;0;0;0;48;2;0;0;0m▀\u001b[38;2;0;0;0;48;2;0;0;0m▀\u001b[38;2;0;0;0;48;2;0;0;0m▀\u001b[38;2;0;0;0;48;2;0;0;0m▀\u001b[38;2;0;0;0;48;2;0;0;0m▀\u001b[38;2;0;0;0;48;2;0;0;0m▀\u001b[38;2;0;0;0;48;2;0;0;0m▀\u001b[38;2;0;0;0;48;2;0;0;0m▀\u001b[38;2;0;0;0;48;2;0;0;0m▀\u001b[38;2;0;0;0;48;2;0;0;0m▀\u001b[38;2;0;0;0;48;2;0;0;0m▀\u001b[38;2;0;0;0;48;2;0;0;0m▀\u001b[38;2;0;0;0;48;2;0;0;0m▀\u001b[38;2;0;0;0;48;2;0;0;0m▀\u001b[38;2;0;0;0;48;2;0;0;0m▀\u001b[38;2;0;0;0;48;2;0;0;0m▀\u001b[38;2;0;0;0;48;2;0;0;0m▀\u001b[38;2;0;0;0;48;2;0;0;0m▀\u001b[38;2;0;0;0;48;2;0;0;0m▀\u001b[38;2;0;0;0;48;2;0;0;0m▀\u001b[38;2;0;0;0;48;2;0;0;0m▀\u001b[38;2;0;0;0;48;2;0;0;0m▀\u001b[38;2;0;0;0;48;2;0;0;0m▀\u001b[38;2;0;0;0;48;2;0;0;0m▀\u001b[38;2;0;0;0;48;2;0;0;0m▀\u001b[38;2;0;0;0;48;2;0;0;0m▀\u001b[38;2;0;0;0;48;2;0;0;0m▀\u001b[38;2;0;0;0;48;2;0;0;0m▀\u001b[38;2;0;0;0;48;2;0;0;0m▀\u001b[38;2;0;0;0;48;2;0;0;0m▀\u001b[38;2;0;0;0;48;2;0;0;0m▀\u001b[38;2;0;0;0;48;2;0;0;0m▀\u001b[38;2;0;0;0;48;2;0;0;0m▀\u001b[38;2;0;0;0;48;2;0;0;0m▀\u001b[38;2;0;0;0;48;2;0;0;0m▀\u001b[38;2;0;0;0;48;2;0;0;0m▀\u001b[38;2;0;0;0;48;2;0;0;0m▀\u001b[38;2;0;0;0;48;2;0;0;0m▀\u001b[38;2;0;0;0;48;2;0;0;0m▀\u001b[38;2;0;0;0;48;2;0;0;0m▀\u001b[38;2;0;0;0;48;2;0;0;0m▀\u001b[38;2;0;0;0;48;2;0;0;0m▀\u001b[38;2;0;0;0;48;2;0;0;0m▀\u001b[38;2;0;0;0;48;2;0;0;0m▀\u001b[38;2;0;0;0;48;2;0;0;0m▀\u001b[38;2;0;0;0;48;2;0;0;0m▀\u001b[38;2;0;0;0;48;2;0;0;0m▀\u001b[38;2;0;0;0;48;2;0;0;0m▀\u001b[38;2;0;0;0;48;2;0;0;0m▀\u001b[38;2;0;0;0;48;2;0;0;0m▀\u001b[38;2;0;0;0;48;2;0;0;0m▀\u001b[38;2;0;0;0;48;2;0;0;0m▀\u001b[38;2;0;0;0;48;2;0;0;0m▀\u001b[38;2;0;0;0;48;2;0;0;0m▀\u001b[38;2;0;0;0;48;2;0;0;0m▀\u001b[0m\n",
       "\u001b[0m\u001b[38;2;0;0;0;48;2;0;0;0m▀\u001b[38;2;0;0;0;48;2;0;0;0m▀\u001b[38;2;0;0;0;48;2;0;0;0m▀\u001b[38;2;0;0;0;48;2;0;0;0m▀\u001b[38;2;0;0;0;48;2;0;0;0m▀\u001b[38;2;0;0;0;48;2;0;0;0m▀\u001b[38;2;0;0;0;48;2;0;0;0m▀\u001b[38;2;0;0;0;48;2;0;0;0m▀\u001b[38;2;0;0;0;48;2;0;0;0m▀\u001b[38;2;0;0;0;48;2;0;0;0m▀\u001b[38;2;0;0;0;48;2;0;0;0m▀\u001b[38;2;0;0;0;48;2;0;0;0m▀\u001b[38;2;0;0;0;48;2;0;0;0m▀\u001b[38;2;0;0;0;48;2;0;0;0m▀\u001b[38;2;0;0;0;48;2;0;0;0m▀\u001b[38;2;0;0;0;48;2;0;0;0m▀\u001b[38;2;0;0;0;48;2;0;0;0m▀\u001b[38;2;0;0;0;48;2;0;0;0m▀\u001b[38;2;0;0;0;48;2;0;0;0m▀\u001b[38;2;0;0;0;48;2;0;0;0m▀\u001b[38;2;0;0;0;48;2;0;0;0m▀\u001b[38;2;0;0;0;48;2;0;0;0m▀\u001b[38;2;0;0;0;48;2;0;0;0m▀\u001b[38;2;0;0;0;48;2;0;0;0m▀\u001b[38;2;0;0;0;48;2;0;0;0m▀\u001b[38;2;0;0;0;48;2;0;0;0m▀\u001b[38;2;0;0;0;48;2;0;0;0m▀\u001b[38;2;0;0;0;48;2;0;0;0m▀\u001b[38;2;0;0;0;48;2;0;0;0m▀\u001b[38;2;0;0;0;48;2;0;0;0m▀\u001b[38;2;0;0;0;48;2;0;0;0m▀\u001b[38;2;0;0;0;48;2;0;0;0m▀\u001b[38;2;0;0;0;48;2;0;0;0m▀\u001b[38;2;0;0;0;48;2;0;0;0m▀\u001b[38;2;0;0;0;48;2;0;0;0m▀\u001b[38;2;0;0;0;48;2;0;0;0m▀\u001b[38;2;0;0;0;48;2;0;0;0m▀\u001b[38;2;0;0;0;48;2;0;0;0m▀\u001b[38;2;0;0;0;48;2;0;0;0m▀\u001b[38;2;0;0;0;48;2;0;0;0m▀\u001b[38;2;0;0;0;48;2;0;0;0m▀\u001b[38;2;0;0;0;48;2;0;0;0m▀\u001b[38;2;0;0;0;48;2;0;0;0m▀\u001b[38;2;0;0;0;48;2;0;0;0m▀\u001b[38;2;0;0;0;48;2;0;0;0m▀\u001b[38;2;0;0;0;48;2;0;0;0m▀\u001b[38;2;0;0;0;48;2;0;0;0m▀\u001b[38;2;0;0;0;48;2;0;0;0m▀\u001b[38;2;0;0;0;48;2;0;0;0m▀\u001b[38;2;0;0;0;48;2;0;0;0m▀\u001b[38;2;0;0;0;48;2;0;0;0m▀\u001b[38;2;0;0;0;48;2;0;0;0m▀\u001b[38;2;0;0;0;48;2;0;0;0m▀\u001b[38;2;0;0;0;48;2;0;0;0m▀\u001b[38;2;0;0;0;48;2;0;0;0m▀\u001b[38;2;0;0;0;48;2;0;0;0m▀\u001b[0m\n",
       "\u001b[0m\u001b[38;2;0;0;0;48;2;0;0;0m▀\u001b[38;2;0;0;0;48;2;0;0;0m▀\u001b[38;2;0;0;0;48;2;0;0;0m▀\u001b[38;2;0;0;0;48;2;0;0;0m▀\u001b[38;2;0;0;0;48;2;0;0;0m▀\u001b[38;2;0;0;0;48;2;0;0;0m▀\u001b[38;2;0;0;0;48;2;0;0;0m▀\u001b[38;2;0;0;0;48;2;0;0;0m▀\u001b[38;2;0;0;0;48;2;0;0;0m▀\u001b[38;2;0;0;0;48;2;0;0;0m▀\u001b[38;2;0;0;0;48;2;0;0;0m▀\u001b[38;2;0;0;0;48;2;0;0;0m▀\u001b[38;2;0;0;0;48;2;0;0;0m▀\u001b[38;2;0;0;0;48;2;0;0;0m▀\u001b[38;2;0;0;0;48;2;0;0;0m▀\u001b[38;2;0;0;0;48;2;0;0;0m▀\u001b[38;2;0;0;0;48;2;0;0;0m▀\u001b[38;2;0;0;0;48;2;0;0;0m▀\u001b[38;2;0;0;0;48;2;0;0;0m▀\u001b[38;2;0;0;0;48;2;0;0;0m▀\u001b[38;2;0;0;0;48;2;0;0;0m▀\u001b[38;2;0;0;0;48;2;0;0;0m▀\u001b[38;2;0;0;0;48;2;0;0;0m▀\u001b[38;2;0;0;0;48;2;0;0;0m▀\u001b[38;2;0;0;0;48;2;0;0;0m▀\u001b[38;2;0;0;0;48;2;0;0;0m▀\u001b[38;2;0;0;0;48;2;0;0;0m▀\u001b[38;2;0;0;0;48;2;0;0;0m▀\u001b[38;2;0;0;0;48;2;0;0;0m▀\u001b[38;2;0;0;0;48;2;0;0;0m▀\u001b[38;2;0;0;0;48;2;0;0;0m▀\u001b[38;2;0;0;0;48;2;0;0;0m▀\u001b[38;2;0;0;0;48;2;0;0;0m▀\u001b[38;2;0;0;0;48;2;0;0;0m▀\u001b[38;2;0;0;0;48;2;0;0;0m▀\u001b[38;2;0;0;0;48;2;0;0;0m▀\u001b[38;2;0;0;0;48;2;0;0;0m▀\u001b[38;2;0;0;0;48;2;0;0;0m▀\u001b[38;2;0;0;0;48;2;0;0;0m▀\u001b[38;2;0;0;0;48;2;0;0;0m▀\u001b[38;2;0;0;0;48;2;0;0;0m▀\u001b[38;2;0;0;0;48;2;0;0;0m▀\u001b[38;2;0;0;0;48;2;0;0;0m▀\u001b[38;2;0;0;0;48;2;0;0;0m▀\u001b[38;2;0;0;0;48;2;0;0;0m▀\u001b[38;2;0;0;0;48;2;0;0;0m▀\u001b[38;2;0;0;0;48;2;0;0;0m▀\u001b[38;2;0;0;0;48;2;0;0;0m▀\u001b[38;2;0;0;0;48;2;0;0;0m▀\u001b[38;2;0;0;0;48;2;0;0;0m▀\u001b[38;2;0;0;0;48;2;0;0;0m▀\u001b[38;2;0;0;0;48;2;0;0;0m▀\u001b[38;2;0;0;0;48;2;0;0;0m▀\u001b[38;2;0;0;0;48;2;0;0;0m▀\u001b[38;2;0;0;0;48;2;0;0;0m▀\u001b[38;2;0;0;0;48;2;0;0;0m▀\u001b[0m\n",
       "\u001b[0m\u001b[38;2;0;0;0;48;2;0;0;0m▀\u001b[38;2;0;0;0;48;2;0;0;0m▀\u001b[38;2;0;0;0;48;2;0;0;0m▀\u001b[38;2;0;0;0;48;2;0;0;0m▀\u001b[38;2;0;0;0;48;2;0;0;0m▀\u001b[38;2;0;0;0;48;2;0;0;0m▀\u001b[38;2;0;0;0;48;2;0;0;0m▀\u001b[38;2;0;0;0;48;2;0;0;0m▀\u001b[38;2;0;0;0;48;2;0;0;0m▀\u001b[38;2;0;0;0;48;2;0;0;0m▀\u001b[38;2;0;0;0;48;2;0;0;0m▀\u001b[38;2;0;0;0;48;2;0;0;0m▀\u001b[38;2;0;0;0;48;2;0;0;0m▀\u001b[38;2;0;0;0;48;2;0;0;0m▀\u001b[38;2;0;0;0;48;2;0;0;0m▀\u001b[38;2;0;0;0;48;2;0;0;0m▀\u001b[38;2;0;0;0;48;2;0;0;0m▀\u001b[38;2;0;0;0;48;2;0;0;0m▀\u001b[38;2;0;0;0;48;2;0;0;0m▀\u001b[38;2;0;0;0;48;2;0;0;0m▀\u001b[38;2;0;0;0;48;2;0;0;0m▀\u001b[38;2;0;0;0;48;2;0;0;0m▀\u001b[38;2;1;1;1;48;2;0;0;0m▀\u001b[38;2;0;0;0;48;2;0;0;0m▀\u001b[38;2;5;5;5;48;2;0;0;0m▀\u001b[38;2;0;0;0;48;2;1;1;1m▀\u001b[38;2;8;8;8;48;2;0;0;0m▀\u001b[38;2;3;3;3;48;2;5;5;5m▀\u001b[38;2;9;9;9;48;2;0;0;0m▀\u001b[38;2;3;3;3;48;2;5;5;5m▀\u001b[38;2;36;36;36;48;2;0;0;0m▀\u001b[38;2;0;0;0;48;2;5;5;5m▀\u001b[38;2;56;56;56;48;2;0;0;0m▀\u001b[38;2;20;20;20;48;2;33;33;33m▀\u001b[38;2;74;74;74;48;2;0;0;0m▀\u001b[38;2;17;17;17;48;2;36;36;36m▀\u001b[38;2;43;43;43;48;2;36;36;36m▀\u001b[38;2;49;49;49;48;2;45;45;45m▀\u001b[38;2;56;56;56;48;2;0;0;0m▀\u001b[38;2;0;0;0;48;2;8;8;8m▀\u001b[38;2;93;93;93;48;2;0;0;0m▀\u001b[38;2;16;16;16;48;2;44;44;44m▀\u001b[38;2;114;114;114;48;2;0;0;0m▀\u001b[38;2;43;43;43;48;2;66;66;66m▀\u001b[38;2;87;87;87;48;2;30;30;30m▀\u001b[38;2;57;57;57;48;2;63;63;63m▀\u001b[38;2;35;35;35;48;2;38;38;38m▀\u001b[38;2;38;38;38;48;2;32;32;32m▀\u001b[38;2;7;7;7;48;2;6;6;6m▀\u001b[38;2;0;0;0;48;2;0;0;0m▀\u001b[38;2;0;0;0;48;2;0;0;0m▀\u001b[38;2;0;0;0;48;2;0;0;0m▀\u001b[38;2;0;0;0;48;2;0;0;0m▀\u001b[38;2;0;0;0;48;2;0;0;0m▀\u001b[38;2;0;0;0;48;2;0;0;0m▀\u001b[38;2;0;0;0;48;2;0;0;0m▀\u001b[0m\n",
       "\u001b[0m\u001b[38;2;0;0;0;48;2;0;0;0m▀\u001b[38;2;0;0;0;48;2;0;0;0m▀\u001b[38;2;0;0;0;48;2;0;0;0m▀\u001b[38;2;0;0;0;48;2;0;0;0m▀\u001b[38;2;0;0;0;48;2;0;0;0m▀\u001b[38;2;0;0;0;48;2;0;0;0m▀\u001b[38;2;0;0;0;48;2;0;0;0m▀\u001b[38;2;0;0;0;48;2;0;0;0m▀\u001b[38;2;0;0;0;48;2;0;0;0m▀\u001b[38;2;0;0;0;48;2;0;0;0m▀\u001b[38;2;0;0;0;48;2;0;0;0m▀\u001b[38;2;0;0;0;48;2;0;0;0m▀\u001b[38;2;0;0;0;48;2;0;0;0m▀\u001b[38;2;0;0;0;48;2;0;0;0m▀\u001b[38;2;8;8;8;48;2;0;0;0m▀\u001b[38;2;0;0;0;48;2;0;0;0m▀\u001b[38;2;14;14;14;48;2;0;0;0m▀\u001b[38;2;4;4;4;48;2;8;8;8m▀\u001b[38;2;31;31;31;48;2;0;0;0m▀\u001b[38;2;0;0;0;48;2;10;10;10m▀\u001b[38;2;56;56;56;48;2;0;0;0m▀\u001b[38;2;8;8;8;48;2;25;25;25m▀\u001b[38;2;73;73;73;48;2;0;0;0m▀\u001b[38;2;23;23;23;48;2;41;41;41m▀\u001b[38;2;96;96;96;48;2;0;0;0m▀\u001b[38;2;17;17;17;48;2;46;46;46m▀\u001b[38;2;111;111;111;48;2;3;3;3m▀\u001b[38;2;39;39;39;48;2;64;64;64m▀\u001b[38;2;117;117;117;48;2;9;9;9m▀\u001b[38;2;39;39;39;48;2;64;64;64m▀\u001b[38;2;88;88;88;48;2;39;39;39m▀\u001b[38;2;41;41;41;48;2;75;75;75m▀\u001b[38;2;88;88;88;48;2;64;64;64m▀\u001b[38;2;19;19;19;48;2;51;51;51m▀\u001b[38;2;77;77;77;48;2;99;99;99m▀\u001b[38;2;22;22;22;48;2;52;52;52m▀\u001b[38;2;100;100;100;48;2;75;75;75m▀\u001b[38;2;9;9;9;48;2;20;20;20m▀\u001b[38;2;72;72;72;48;2;55;55;55m▀\u001b[38;2;16;16;16;48;2;57;57;57m▀\u001b[38;2;50;50;50;48;2;106;106;106m▀\u001b[38;2;15;15;15;48;2;54;54;54m▀\u001b[38;2;54;54;54;48;2;155;155;155m▀\u001b[38;2;0;0;0;48;2;29;29;29m▀\u001b[38;2;49;49;49;48;2;156;156;156m▀\u001b[38;2;2;2;2;48;2;5;5;5m▀\u001b[38;2;39;39;39;48;2;82;82;82m▀\u001b[38;2;0;0;0;48;2;0;0;0m▀\u001b[38;2;11;11;11;48;2;20;20;20m▀\u001b[38;2;0;0;0;48;2;0;0;0m▀\u001b[38;2;0;0;0;48;2;0;0;0m▀\u001b[38;2;0;0;0;48;2;0;0;0m▀\u001b[38;2;0;0;0;48;2;0;0;0m▀\u001b[38;2;0;0;0;48;2;0;0;0m▀\u001b[38;2;0;0;0;48;2;0;0;0m▀\u001b[38;2;0;0;0;48;2;0;0;0m▀\u001b[0m\n",
       "\u001b[0m\u001b[38;2;0;0;0;48;2;0;0;0m▀\u001b[38;2;0;0;0;48;2;0;0;0m▀\u001b[38;2;0;0;0;48;2;0;0;0m▀\u001b[38;2;0;0;0;48;2;0;0;0m▀\u001b[38;2;0;0;0;48;2;0;0;0m▀\u001b[38;2;0;0;0;48;2;0;0;0m▀\u001b[38;2;0;0;0;48;2;0;0;0m▀\u001b[38;2;0;0;0;48;2;0;0;0m▀\u001b[38;2;0;0;0;48;2;0;0;0m▀\u001b[38;2;0;0;0;48;2;0;0;0m▀\u001b[38;2;0;0;0;48;2;0;0;0m▀\u001b[38;2;0;0;0;48;2;0;0;0m▀\u001b[38;2;12;12;12;48;2;0;0;0m▀\u001b[38;2;0;0;0;48;2;0;0;0m▀\u001b[38;2;60;60;60;48;2;0;0;0m▀\u001b[38;2;0;0;0;48;2;17;17;17m▀\u001b[38;2;97;97;97;48;2;1;1;1m▀\u001b[38;2;32;32;32;48;2;59;59;59m▀\u001b[38;2;97;97;97;48;2;35;35;35m▀\u001b[38;2;37;37;37;48;2;67;67;67m▀\u001b[38;2;84;84;84;48;2;65;65;65m▀\u001b[38;2;26;26;26;48;2;60;60;60m▀\u001b[38;2;84;84;84;48;2;90;90;90m▀\u001b[38;2;13;13;13;48;2;48;48;48m▀\u001b[38;2;66;66;66;48;2;124;124;124m▀\u001b[38;2;7;7;7;48;2;53;53;53m▀\u001b[38;2;68;68;68;48;2;144;144;144m▀\u001b[38;2;0;0;0;48;2;33;33;33m▀\u001b[38;2;74;74;74;48;2;155;155;155m▀\u001b[38;2;0;0;0;48;2;33;33;33m▀\u001b[38;2;77;77;77;48;2;155;155;155m▀\u001b[38;2;0;0;0;48;2;33;33;33m▀\u001b[38;2;69;69;69;48;2;155;155;155m▀\u001b[38;2;0;0;0;48;2;33;33;33m▀\u001b[38;2;41;41;41;48;2;188;188;188m▀\u001b[38;2;0;0;0;48;2;29;29;29m▀\u001b[38;2;19;19;19;48;2;139;139;139m▀\u001b[38;2;0;0;0;48;2;0;0;0m▀\u001b[38;2;1;1;1;48;2;136;136;136m▀\u001b[38;2;0;0;0;48;2;8;8;8m▀\u001b[38;2;0;0;0;48;2;149;149;149m▀\u001b[38;2;0;0;0;48;2;0;0;0m▀\u001b[38;2;0;0;0;48;2;144;144;144m▀\u001b[38;2;0;0;0;48;2;0;0;0m▀\u001b[38;2;8;8;8;48;2;102;102;102m▀\u001b[38;2;0;0;0;48;2;0;0;0m▀\u001b[38;2;17;17;17;48;2;42;42;42m▀\u001b[38;2;0;0;0;48;2;0;0;0m▀\u001b[38;2;9;9;9;48;2;9;9;9m▀\u001b[38;2;0;0;0;48;2;0;0;0m▀\u001b[38;2;0;0;0;48;2;0;0;0m▀\u001b[38;2;0;0;0;48;2;0;0;0m▀\u001b[38;2;0;0;0;48;2;0;0;0m▀\u001b[38;2;0;0;0;48;2;0;0;0m▀\u001b[38;2;0;0;0;48;2;0;0;0m▀\u001b[38;2;0;0;0;48;2;0;0;0m▀\u001b[0m\n",
       "\u001b[0m\u001b[38;2;0;0;0;48;2;0;0;0m▀\u001b[38;2;0;0;0;48;2;0;0;0m▀\u001b[38;2;0;0;0;48;2;0;0;0m▀\u001b[38;2;0;0;0;48;2;0;0;0m▀\u001b[38;2;0;0;0;48;2;0;0;0m▀\u001b[38;2;0;0;0;48;2;0;0;0m▀\u001b[38;2;0;0;0;48;2;0;0;0m▀\u001b[38;2;0;0;0;48;2;0;0;0m▀\u001b[38;2;0;0;0;48;2;0;0;0m▀\u001b[38;2;0;0;0;48;2;0;0;0m▀\u001b[38;2;0;0;0;48;2;0;0;0m▀\u001b[38;2;0;0;0;48;2;0;0;0m▀\u001b[38;2;0;0;0;48;2;9;9;9m▀\u001b[38;2;0;0;0;48;2;5;5;5m▀\u001b[38;2;0;0;0;48;2;23;23;23m▀\u001b[38;2;0;0;0;48;2;20;20;20m▀\u001b[38;2;41;41;41;48;2;105;105;105m▀\u001b[38;2;0;0;0;48;2;28;28;28m▀\u001b[38;2;72;72;72;48;2;151;151;151m▀\u001b[38;2;0;0;0;48;2;33;33;33m▀\u001b[38;2;73;73;73;48;2;155;155;155m▀\u001b[38;2;0;0;0;48;2;33;33;33m▀\u001b[38;2;72;72;72;48;2;155;155;155m▀\u001b[38;2;0;0;0;48;2;33;33;33m▀\u001b[38;2;76;76;76;48;2;155;155;155m▀\u001b[38;2;0;0;0;48;2;33;33;33m▀\u001b[38;2;56;56;56;48;2;169;169;169m▀\u001b[38;2;0;0;0;48;2;33;33;33m▀\u001b[38;2;47;47;47;48;2;162;162;162m▀\u001b[38;2;0;0;0;48;2;19;19;19m▀\u001b[38;2;57;57;57;48;2;139;139;139m▀\u001b[38;2;0;0;0;48;2;15;15;15m▀\u001b[38;2;66;66;66;48;2;153;153;153m▀\u001b[38;2;0;0;0;48;2;32;32;32m▀\u001b[38;2;49;49;49;48;2;173;173;173m▀\u001b[38;2;0;0;0;48;2;12;12;12m▀\u001b[38;2;9;9;9;48;2;88;88;88m▀\u001b[38;2;0;0;0;48;2;0;0;0m▀\u001b[38;2;0;0;0;48;2;52;52;52m▀\u001b[38;2;0;0;0;48;2;0;0;0m▀\u001b[38;2;0;0;0;48;2;44;44;44m▀\u001b[38;2;0;0;0;48;2;0;0;0m▀\u001b[38;2;0;0;0;48;2;33;33;33m▀\u001b[38;2;0;0;0;48;2;0;0;0m▀\u001b[38;2;2;2;2;48;2;16;16;16m▀\u001b[38;2;0;0;0;48;2;0;0;0m▀\u001b[38;2;6;6;6;48;2;5;5;5m▀\u001b[38;2;0;0;0;48;2;0;0;0m▀\u001b[38;2;3;3;3;48;2;0;0;0m▀\u001b[38;2;0;0;0;48;2;0;0;0m▀\u001b[38;2;0;0;0;48;2;0;0;0m▀\u001b[38;2;0;0;0;48;2;0;0;0m▀\u001b[38;2;0;0;0;48;2;0;0;0m▀\u001b[38;2;0;0;0;48;2;0;0;0m▀\u001b[38;2;0;0;0;48;2;0;0;0m▀\u001b[38;2;0;0;0;48;2;0;0;0m▀\u001b[0m\n",
       "\u001b[0m\u001b[38;2;0;0;0;48;2;0;0;0m▀\u001b[38;2;0;0;0;48;2;0;0;0m▀\u001b[38;2;0;0;0;48;2;0;0;0m▀\u001b[38;2;0;0;0;48;2;0;0;0m▀\u001b[38;2;0;0;0;48;2;0;0;0m▀\u001b[38;2;0;0;0;48;2;0;0;0m▀\u001b[38;2;0;0;0;48;2;0;0;0m▀\u001b[38;2;0;0;0;48;2;0;0;0m▀\u001b[38;2;0;0;0;48;2;0;0;0m▀\u001b[38;2;0;0;0;48;2;0;0;0m▀\u001b[38;2;0;0;0;48;2;0;0;0m▀\u001b[38;2;0;0;0;48;2;0;0;0m▀\u001b[38;2;0;0;0;48;2;5;5;5m▀\u001b[38;2;0;0;0;48;2;2;2;2m▀\u001b[38;2;0;0;0;48;2;44;44;44m▀\u001b[38;2;0;0;0;48;2;20;20;20m▀\u001b[38;2;0;0;0;48;2;93;93;93m▀\u001b[38;2;0;0;0;48;2;0;0;0m▀\u001b[38;2;8;8;8;48;2;160;160;160m▀\u001b[38;2;0;0;0;48;2;8;8;8m▀\u001b[38;2;44;44;44;48;2;120;120;120m▀\u001b[38;2;0;0;0;48;2;0;0;0m▀\u001b[38;2;65;65;65;48;2;147;147;147m▀\u001b[38;2;0;0;0;48;2;33;33;33m▀\u001b[38;2;62;62;62;48;2;167;167;167m▀\u001b[38;2;0;0;0;48;2;33;33;33m▀\u001b[38;2;20;20;20;48;2;193;193;193m▀\u001b[38;2;0;0;0;48;2;14;14;14m▀\u001b[38;2;0;0;0;48;2;138;138;138m▀\u001b[38;2;0;0;0;48;2;0;0;0m▀\u001b[38;2;0;0;0;48;2;122;122;122m▀\u001b[38;2;0;0;0;48;2;0;0;0m▀\u001b[38;2;0;0;0;48;2;111;111;111m▀\u001b[38;2;0;0;0;48;2;0;0;0m▀\u001b[38;2;43;43;43;48;2;117;117;117m▀\u001b[38;2;0;0;0;48;2;0;0;0m▀\u001b[38;2;30;30;30;48;2;40;40;40m▀\u001b[38;2;0;0;0;48;2;0;0;0m▀\u001b[38;2;1;1;1;48;2;0;0;0m▀\u001b[38;2;0;0;0;48;2;0;0;0m▀\u001b[38;2;0;0;0;48;2;0;0;0m▀\u001b[38;2;0;0;0;48;2;0;0;0m▀\u001b[38;2;1;1;1;48;2;0;0;0m▀\u001b[38;2;0;0;0;48;2;0;0;0m▀\u001b[38;2;0;0;0;48;2;0;0;0m▀\u001b[38;2;0;0;0;48;2;0;0;0m▀\u001b[38;2;2;2;2;48;2;0;0;0m▀\u001b[38;2;0;0;0;48;2;0;0;0m▀\u001b[38;2;0;0;0;48;2;0;0;0m▀\u001b[38;2;0;0;0;48;2;0;0;0m▀\u001b[38;2;0;0;0;48;2;0;0;0m▀\u001b[38;2;0;0;0;48;2;0;0;0m▀\u001b[38;2;0;0;0;48;2;0;0;0m▀\u001b[38;2;0;0;0;48;2;0;0;0m▀\u001b[38;2;0;0;0;48;2;0;0;0m▀\u001b[38;2;0;0;0;48;2;0;0;0m▀\u001b[0m\n",
       "\u001b[0m\u001b[38;2;0;0;0;48;2;0;0;0m▀\u001b[38;2;0;0;0;48;2;0;0;0m▀\u001b[38;2;0;0;0;48;2;0;0;0m▀\u001b[38;2;0;0;0;48;2;0;0;0m▀\u001b[38;2;0;0;0;48;2;0;0;0m▀\u001b[38;2;0;0;0;48;2;0;0;0m▀\u001b[38;2;0;0;0;48;2;0;0;0m▀\u001b[38;2;0;0;0;48;2;0;0;0m▀\u001b[38;2;0;0;0;48;2;0;0;0m▀\u001b[38;2;0;0;0;48;2;0;0;0m▀\u001b[38;2;0;0;0;48;2;0;0;0m▀\u001b[38;2;0;0;0;48;2;0;0;0m▀\u001b[38;2;1;1;1;48;2;0;0;0m▀\u001b[38;2;0;0;0;48;2;0;0;0m▀\u001b[38;2;0;0;0;48;2;22;22;22m▀\u001b[38;2;0;0;0;48;2;8;8;8m▀\u001b[38;2;0;0;0;48;2;56;56;56m▀\u001b[38;2;0;0;0;48;2;0;0;0m▀\u001b[38;2;0;0;0;48;2;75;75;75m▀\u001b[38;2;0;0;0;48;2;0;0;0m▀\u001b[38;2;0;0;0;48;2;74;74;74m▀\u001b[38;2;0;0;0;48;2;3;3;3m▀\u001b[38;2;34;34;34;48;2;102;102;102m▀\u001b[38;2;0;0;0;48;2;8;8;8m▀\u001b[38;2;40;40;40;48;2;179;179;179m▀\u001b[38;2;0;0;0;48;2;27;27;27m▀\u001b[38;2;44;44;44;48;2;111;111;111m▀\u001b[38;2;0;0;0;48;2;0;0;0m▀\u001b[38;2;20;20;20;48;2;34;34;34m▀\u001b[38;2;0;0;0;48;2;0;0;0m▀\u001b[38;2;0;0;0;48;2;13;13;13m▀\u001b[38;2;0;0;0;48;2;5;5;5m▀\u001b[38;2;0;0;0;48;2;52;52;52m▀\u001b[38;2;0;0;0;48;2;6;6;6m▀\u001b[38;2;0;0;0;48;2;38;38;38m▀\u001b[38;2;0;0;0;48;2;0;0;0m▀\u001b[38;2;20;20;20;48;2;21;21;21m▀\u001b[38;2;0;0;0;48;2;0;0;0m▀\u001b[38;2;0;0;0;48;2;0;0;0m▀\u001b[38;2;0;0;0;48;2;0;0;0m▀\u001b[38;2;0;0;0;48;2;0;0;0m▀\u001b[38;2;0;0;0;48;2;0;0;0m▀\u001b[38;2;0;0;0;48;2;0;0;0m▀\u001b[38;2;0;0;0;48;2;0;0;0m▀\u001b[38;2;0;0;0;48;2;0;0;0m▀\u001b[38;2;0;0;0;48;2;0;0;0m▀\u001b[38;2;0;0;0;48;2;0;0;0m▀\u001b[38;2;0;0;0;48;2;0;0;0m▀\u001b[38;2;0;0;0;48;2;0;0;0m▀\u001b[38;2;0;0;0;48;2;0;0;0m▀\u001b[38;2;0;0;0;48;2;0;0;0m▀\u001b[38;2;0;0;0;48;2;0;0;0m▀\u001b[38;2;0;0;0;48;2;0;0;0m▀\u001b[38;2;0;0;0;48;2;0;0;0m▀\u001b[38;2;0;0;0;48;2;0;0;0m▀\u001b[38;2;0;0;0;48;2;0;0;0m▀\u001b[0m\n",
       "\u001b[0m\u001b[38;2;0;0;0;48;2;0;0;0m▀\u001b[38;2;0;0;0;48;2;0;0;0m▀\u001b[38;2;0;0;0;48;2;0;0;0m▀\u001b[38;2;0;0;0;48;2;0;0;0m▀\u001b[38;2;0;0;0;48;2;0;0;0m▀\u001b[38;2;0;0;0;48;2;0;0;0m▀\u001b[38;2;0;0;0;48;2;0;0;0m▀\u001b[38;2;0;0;0;48;2;0;0;0m▀\u001b[38;2;0;0;0;48;2;0;0;0m▀\u001b[38;2;0;0;0;48;2;0;0;0m▀\u001b[38;2;0;0;0;48;2;0;0;0m▀\u001b[38;2;0;0;0;48;2;0;0;0m▀\u001b[38;2;0;0;0;48;2;0;0;0m▀\u001b[38;2;0;0;0;48;2;0;0;0m▀\u001b[38;2;2;2;2;48;2;0;0;0m▀\u001b[38;2;0;0;0;48;2;0;0;0m▀\u001b[38;2;0;0;0;48;2;4;4;4m▀\u001b[38;2;0;0;0;48;2;1;1;1m▀\u001b[38;2;0;0;0;48;2;3;3;3m▀\u001b[38;2;0;0;0;48;2;0;0;0m▀\u001b[38;2;2;2;2;48;2;9;9;9m▀\u001b[38;2;0;0;0;48;2;17;17;17m▀\u001b[38;2;17;17;17;48;2;64;64;64m▀\u001b[38;2;0;0;0;48;2;28;28;28m▀\u001b[38;2;87;87;87;48;2;107;107;107m▀\u001b[38;2;0;0;0;48;2;16;16;16m▀\u001b[38;2;60;60;60;48;2;104;104;104m▀\u001b[38;2;0;0;0;48;2;27;27;27m▀\u001b[38;2;25;25;25;48;2;22;22;22m▀\u001b[38;2;0;0;0;48;2;1;1;1m▀\u001b[38;2;2;2;2;48;2;0;0;0m▀\u001b[38;2;0;0;0;48;2;0;0;0m▀\u001b[38;2;1;1;1;48;2;0;0;0m▀\u001b[38;2;0;0;0;48;2;0;0;0m▀\u001b[38;2;0;0;0;48;2;0;0;0m▀\u001b[38;2;0;0;0;48;2;0;0;0m▀\u001b[38;2;7;7;7;48;2;0;0;0m▀\u001b[38;2;0;0;0;48;2;0;0;0m▀\u001b[38;2;0;0;0;48;2;0;0;0m▀\u001b[38;2;0;0;0;48;2;0;0;0m▀\u001b[38;2;0;0;0;48;2;0;0;0m▀\u001b[38;2;0;0;0;48;2;0;0;0m▀\u001b[38;2;0;0;0;48;2;0;0;0m▀\u001b[38;2;0;0;0;48;2;0;0;0m▀\u001b[38;2;0;0;0;48;2;0;0;0m▀\u001b[38;2;0;0;0;48;2;0;0;0m▀\u001b[38;2;0;0;0;48;2;0;0;0m▀\u001b[38;2;0;0;0;48;2;0;0;0m▀\u001b[38;2;0;0;0;48;2;0;0;0m▀\u001b[38;2;0;0;0;48;2;0;0;0m▀\u001b[38;2;0;0;0;48;2;0;0;0m▀\u001b[38;2;0;0;0;48;2;0;0;0m▀\u001b[38;2;0;0;0;48;2;0;0;0m▀\u001b[38;2;0;0;0;48;2;0;0;0m▀\u001b[38;2;0;0;0;48;2;0;0;0m▀\u001b[38;2;0;0;0;48;2;0;0;0m▀\u001b[0m\n",
       "\u001b[0m\u001b[38;2;0;0;0;48;2;0;0;0m▀\u001b[38;2;0;0;0;48;2;0;0;0m▀\u001b[38;2;0;0;0;48;2;0;0;0m▀\u001b[38;2;0;0;0;48;2;0;0;0m▀\u001b[38;2;0;0;0;48;2;0;0;0m▀\u001b[38;2;0;0;0;48;2;0;0;0m▀\u001b[38;2;0;0;0;48;2;0;0;0m▀\u001b[38;2;0;0;0;48;2;0;0;0m▀\u001b[38;2;0;0;0;48;2;0;0;0m▀\u001b[38;2;0;0;0;48;2;0;0;0m▀\u001b[38;2;0;0;0;48;2;0;0;0m▀\u001b[38;2;0;0;0;48;2;0;0;0m▀\u001b[38;2;0;0;0;48;2;0;0;0m▀\u001b[38;2;0;0;0;48;2;0;0;0m▀\u001b[38;2;0;0;0;48;2;0;0;0m▀\u001b[38;2;0;0;0;48;2;0;0;0m▀\u001b[38;2;0;0;0;48;2;0;0;0m▀\u001b[38;2;0;0;0;48;2;0;0;0m▀\u001b[38;2;0;0;0;48;2;0;0;0m▀\u001b[38;2;0;0;0;48;2;0;0;0m▀\u001b[38;2;0;0;0;48;2;36;36;36m▀\u001b[38;2;0;0;0;48;2;15;15;15m▀\u001b[38;2;0;0;0;48;2;52;52;52m▀\u001b[38;2;0;0;0;48;2;0;0;0m▀\u001b[38;2;50;50;50;48;2;97;97;97m▀\u001b[38;2;0;0;0;48;2;11;11;11m▀\u001b[38;2;93;93;93;48;2;117;117;117m▀\u001b[38;2;3;3;3;48;2;20;20;20m▀\u001b[38;2;42;42;42;48;2;53;53;53m▀\u001b[38;2;20;20;20;48;2;17;17;17m▀\u001b[38;2;4;4;4;48;2;4;4;4m▀\u001b[38;2;0;0;0;48;2;0;0;0m▀\u001b[38;2;0;0;0;48;2;0;0;0m▀\u001b[38;2;0;0;0;48;2;0;0;0m▀\u001b[38;2;0;0;0;48;2;0;0;0m▀\u001b[38;2;0;0;0;48;2;0;0;0m▀\u001b[38;2;0;0;0;48;2;0;0;0m▀\u001b[38;2;0;0;0;48;2;0;0;0m▀\u001b[38;2;0;0;0;48;2;0;0;0m▀\u001b[38;2;0;0;0;48;2;0;0;0m▀\u001b[38;2;0;0;0;48;2;0;0;0m▀\u001b[38;2;0;0;0;48;2;0;0;0m▀\u001b[38;2;0;0;0;48;2;0;0;0m▀\u001b[38;2;0;0;0;48;2;0;0;0m▀\u001b[38;2;0;0;0;48;2;0;0;0m▀\u001b[38;2;0;0;0;48;2;0;0;0m▀\u001b[38;2;0;0;0;48;2;0;0;0m▀\u001b[38;2;0;0;0;48;2;0;0;0m▀\u001b[38;2;0;0;0;48;2;0;0;0m▀\u001b[38;2;0;0;0;48;2;0;0;0m▀\u001b[38;2;0;0;0;48;2;0;0;0m▀\u001b[38;2;0;0;0;48;2;0;0;0m▀\u001b[38;2;0;0;0;48;2;0;0;0m▀\u001b[38;2;0;0;0;48;2;0;0;0m▀\u001b[38;2;0;0;0;48;2;0;0;0m▀\u001b[38;2;0;0;0;48;2;0;0;0m▀\u001b[0m\n",
       "\u001b[0m\u001b[38;2;0;0;0;48;2;0;0;0m▀\u001b[38;2;0;0;0;48;2;0;0;0m▀\u001b[38;2;0;0;0;48;2;0;0;0m▀\u001b[38;2;0;0;0;48;2;0;0;0m▀\u001b[38;2;0;0;0;48;2;0;0;0m▀\u001b[38;2;0;0;0;48;2;0;0;0m▀\u001b[38;2;0;0;0;48;2;0;0;0m▀\u001b[38;2;0;0;0;48;2;0;0;0m▀\u001b[38;2;0;0;0;48;2;0;0;0m▀\u001b[38;2;0;0;0;48;2;0;0;0m▀\u001b[38;2;0;0;0;48;2;0;0;0m▀\u001b[38;2;0;0;0;48;2;0;0;0m▀\u001b[38;2;0;0;0;48;2;0;0;0m▀\u001b[38;2;0;0;0;48;2;0;0;0m▀\u001b[38;2;0;0;0;48;2;0;0;0m▀\u001b[38;2;0;0;0;48;2;0;0;0m▀\u001b[38;2;0;0;0;48;2;0;0;0m▀\u001b[38;2;0;0;0;48;2;0;0;0m▀\u001b[38;2;0;0;0;48;2;0;0;0m▀\u001b[38;2;0;0;0;48;2;0;0;0m▀\u001b[38;2;1;1;1;48;2;3;3;3m▀\u001b[38;2;0;0;0;48;2;1;1;1m▀\u001b[38;2;0;0;0;48;2;46;46;46m▀\u001b[38;2;0;0;0;48;2;18;18;18m▀\u001b[38;2;0;0;0;48;2;55;55;55m▀\u001b[38;2;0;0;0;48;2;0;0;0m▀\u001b[38;2;94;94;94;48;2;90;90;90m▀\u001b[38;2;0;0;0;48;2;11;11;11m▀\u001b[38;2;116;116;116;48;2;65;65;65m▀\u001b[38;2;31;31;31;48;2;42;42;42m▀\u001b[38;2;71;71;71;48;2;25;25;25m▀\u001b[38;2;33;33;33;48;2;41;41;41m▀\u001b[38;2;27;27;27;48;2;30;30;30m▀\u001b[38;2;32;32;32;48;2;27;27;27m▀\u001b[38;2;7;7;7;48;2;6;6;6m▀\u001b[38;2;0;0;0;48;2;0;0;0m▀\u001b[38;2;0;0;0;48;2;0;0;0m▀\u001b[38;2;0;0;0;48;2;0;0;0m▀\u001b[38;2;0;0;0;48;2;0;0;0m▀\u001b[38;2;0;0;0;48;2;0;0;0m▀\u001b[38;2;0;0;0;48;2;0;0;0m▀\u001b[38;2;0;0;0;48;2;0;0;0m▀\u001b[38;2;0;0;0;48;2;0;0;0m▀\u001b[38;2;0;0;0;48;2;0;0;0m▀\u001b[38;2;0;0;0;48;2;0;0;0m▀\u001b[38;2;0;0;0;48;2;0;0;0m▀\u001b[38;2;0;0;0;48;2;0;0;0m▀\u001b[38;2;0;0;0;48;2;0;0;0m▀\u001b[38;2;0;0;0;48;2;0;0;0m▀\u001b[38;2;0;0;0;48;2;0;0;0m▀\u001b[38;2;0;0;0;48;2;0;0;0m▀\u001b[38;2;0;0;0;48;2;0;0;0m▀\u001b[38;2;0;0;0;48;2;0;0;0m▀\u001b[38;2;0;0;0;48;2;0;0;0m▀\u001b[38;2;0;0;0;48;2;0;0;0m▀\u001b[38;2;0;0;0;48;2;0;0;0m▀\u001b[0m\n",
       "\u001b[0m\u001b[38;2;0;0;0;48;2;0;0;0m▀\u001b[38;2;0;0;0;48;2;0;0;0m▀\u001b[38;2;0;0;0;48;2;0;0;0m▀\u001b[38;2;0;0;0;48;2;0;0;0m▀\u001b[38;2;0;0;0;48;2;0;0;0m▀\u001b[38;2;0;0;0;48;2;0;0;0m▀\u001b[38;2;0;0;0;48;2;0;0;0m▀\u001b[38;2;0;0;0;48;2;0;0;0m▀\u001b[38;2;0;0;0;48;2;0;0;0m▀\u001b[38;2;0;0;0;48;2;0;0;0m▀\u001b[38;2;0;0;0;48;2;0;0;0m▀\u001b[38;2;0;0;0;48;2;0;0;0m▀\u001b[38;2;0;0;0;48;2;0;0;0m▀\u001b[38;2;0;0;0;48;2;0;0;0m▀\u001b[38;2;0;0;0;48;2;0;0;0m▀\u001b[38;2;0;0;0;48;2;0;0;0m▀\u001b[38;2;0;0;0;48;2;0;0;0m▀\u001b[38;2;0;0;0;48;2;0;0;0m▀\u001b[38;2;0;0;0;48;2;0;0;0m▀\u001b[38;2;0;0;0;48;2;0;0;0m▀\u001b[38;2;0;0;0;48;2;0;0;0m▀\u001b[38;2;0;0;0;48;2;0;0;0m▀\u001b[38;2;0;0;0;48;2;10;10;10m▀\u001b[38;2;0;0;0;48;2;4;4;4m▀\u001b[38;2;0;0;0;48;2;53;53;53m▀\u001b[38;2;0;0;0;48;2;18;18;18m▀\u001b[38;2;13;13;13;48;2;71;71;71m▀\u001b[38;2;0;0;0;48;2;0;0;0m▀\u001b[38;2;91;91;91;48;2;110;110;110m▀\u001b[38;2;0;0;0;48;2;27;27;27m▀\u001b[38;2;111;111;111;48;2;91;91;91m▀\u001b[38;2;12;12;12;48;2;40;40;40m▀\u001b[38;2;98;98;98;48;2;77;77;77m▀\u001b[38;2;38;38;38;48;2;40;40;40m▀\u001b[38;2;47;47;47;48;2;45;45;45m▀\u001b[38;2;32;32;32;48;2;30;30;30m▀\u001b[38;2;11;11;11;48;2;11;11;11m▀\u001b[38;2;7;7;7;48;2;6;6;6m▀\u001b[38;2;1;1;1;48;2;1;1;1m▀\u001b[38;2;0;0;0;48;2;0;0;0m▀\u001b[38;2;0;0;0;48;2;0;0;0m▀\u001b[38;2;0;0;0;48;2;0;0;0m▀\u001b[38;2;0;0;0;48;2;0;0;0m▀\u001b[38;2;0;0;0;48;2;0;0;0m▀\u001b[38;2;0;0;0;48;2;0;0;0m▀\u001b[38;2;0;0;0;48;2;0;0;0m▀\u001b[38;2;0;0;0;48;2;0;0;0m▀\u001b[38;2;0;0;0;48;2;0;0;0m▀\u001b[38;2;0;0;0;48;2;0;0;0m▀\u001b[38;2;0;0;0;48;2;0;0;0m▀\u001b[38;2;0;0;0;48;2;0;0;0m▀\u001b[38;2;0;0;0;48;2;0;0;0m▀\u001b[38;2;0;0;0;48;2;0;0;0m▀\u001b[38;2;0;0;0;48;2;0;0;0m▀\u001b[38;2;0;0;0;48;2;0;0;0m▀\u001b[38;2;0;0;0;48;2;0;0;0m▀\u001b[0m\n",
       "\u001b[0m\u001b[38;2;0;0;0;48;2;0;0;0m▀\u001b[38;2;0;0;0;48;2;0;0;0m▀\u001b[38;2;0;0;0;48;2;0;0;0m▀\u001b[38;2;0;0;0;48;2;0;0;0m▀\u001b[38;2;0;0;0;48;2;0;0;0m▀\u001b[38;2;0;0;0;48;2;0;0;0m▀\u001b[38;2;0;0;0;48;2;0;0;0m▀\u001b[38;2;0;0;0;48;2;0;0;0m▀\u001b[38;2;0;0;0;48;2;0;0;0m▀\u001b[38;2;0;0;0;48;2;0;0;0m▀\u001b[38;2;0;0;0;48;2;0;0;0m▀\u001b[38;2;0;0;0;48;2;0;0;0m▀\u001b[38;2;0;0;0;48;2;0;0;0m▀\u001b[38;2;0;0;0;48;2;0;0;0m▀\u001b[38;2;0;0;0;48;2;0;0;0m▀\u001b[38;2;0;0;0;48;2;0;0;0m▀\u001b[38;2;0;0;0;48;2;0;0;0m▀\u001b[38;2;0;0;0;48;2;0;0;0m▀\u001b[38;2;0;0;0;48;2;0;0;0m▀\u001b[38;2;0;0;0;48;2;0;0;0m▀\u001b[38;2;0;0;0;48;2;0;0;0m▀\u001b[38;2;0;0;0;48;2;0;0;0m▀\u001b[38;2;1;1;1;48;2;0;0;0m▀\u001b[38;2;0;0;0;48;2;0;0;0m▀\u001b[38;2;0;0;0;48;2;22;22;22m▀\u001b[38;2;0;0;0;48;2;9;9;9m▀\u001b[38;2;0;0;0;48;2;72;72;72m▀\u001b[38;2;0;0;0;48;2;7;7;7m▀\u001b[38;2;0;0;0;48;2;91;91;91m▀\u001b[38;2;0;0;0;48;2;0;0;0m▀\u001b[38;2;51;51;51;48;2;129;129;129m▀\u001b[38;2;0;0;0;48;2;16;16;16m▀\u001b[38;2;104;104;104;48;2;114;114;114m▀\u001b[38;2;0;0;0;48;2;19;19;19m▀\u001b[38;2;110;110;110;48;2;91;91;91m▀\u001b[38;2;32;32;32;48;2;40;40;40m▀\u001b[38;2;54;54;54;48;2;57;57;57m▀\u001b[38;2;36;36;36;48;2;32;32;32m▀\u001b[38;2;15;15;15;48;2;16;16;16m▀\u001b[38;2;8;8;8;48;2;7;7;7m▀\u001b[38;2;2;2;2;48;2;1;1;1m▀\u001b[38;2;0;0;0;48;2;0;0;0m▀\u001b[38;2;0;0;0;48;2;0;0;0m▀\u001b[38;2;0;0;0;48;2;0;0;0m▀\u001b[38;2;0;0;0;48;2;0;0;0m▀\u001b[38;2;0;0;0;48;2;0;0;0m▀\u001b[38;2;0;0;0;48;2;0;0;0m▀\u001b[38;2;0;0;0;48;2;0;0;0m▀\u001b[38;2;0;0;0;48;2;0;0;0m▀\u001b[38;2;0;0;0;48;2;0;0;0m▀\u001b[38;2;0;0;0;48;2;0;0;0m▀\u001b[38;2;0;0;0;48;2;0;0;0m▀\u001b[38;2;0;0;0;48;2;0;0;0m▀\u001b[38;2;0;0;0;48;2;0;0;0m▀\u001b[38;2;0;0;0;48;2;0;0;0m▀\u001b[38;2;0;0;0;48;2;0;0;0m▀\u001b[0m\n",
       "\u001b[0m\u001b[38;2;0;0;0;48;2;0;0;0m▀\u001b[38;2;0;0;0;48;2;0;0;0m▀\u001b[38;2;0;0;0;48;2;0;0;0m▀\u001b[38;2;0;0;0;48;2;0;0;0m▀\u001b[38;2;0;0;0;48;2;0;0;0m▀\u001b[38;2;0;0;0;48;2;0;0;0m▀\u001b[38;2;0;0;0;48;2;0;0;0m▀\u001b[38;2;0;0;0;48;2;0;0;0m▀\u001b[38;2;0;0;0;48;2;0;0;0m▀\u001b[38;2;0;0;0;48;2;0;0;0m▀\u001b[38;2;0;0;0;48;2;0;0;0m▀\u001b[38;2;0;0;0;48;2;0;0;0m▀\u001b[38;2;0;0;0;48;2;0;0;0m▀\u001b[38;2;0;0;0;48;2;0;0;0m▀\u001b[38;2;0;0;0;48;2;0;0;0m▀\u001b[38;2;0;0;0;48;2;0;0;0m▀\u001b[38;2;0;0;0;48;2;0;0;0m▀\u001b[38;2;0;0;0;48;2;0;0;0m▀\u001b[38;2;0;0;0;48;2;0;0;0m▀\u001b[38;2;0;0;0;48;2;0;0;0m▀\u001b[38;2;0;0;0;48;2;0;0;0m▀\u001b[38;2;0;0;0;48;2;0;0;0m▀\u001b[38;2;0;0;0;48;2;0;0;0m▀\u001b[38;2;0;0;0;48;2;0;0;0m▀\u001b[38;2;2;2;2;48;2;0;0;0m▀\u001b[38;2;0;0;0;48;2;0;0;0m▀\u001b[38;2;0;0;0;48;2;12;12;12m▀\u001b[38;2;0;0;0;48;2;5;5;5m▀\u001b[38;2;0;0;0;48;2;57;57;57m▀\u001b[38;2;0;0;0;48;2;9;9;9m▀\u001b[38;2;0;0;0;48;2;94;94;94m▀\u001b[38;2;0;0;0;48;2;0;0;0m▀\u001b[38;2;25;25;25;48;2;102;102;102m▀\u001b[38;2;0;0;0;48;2;0;0;0m▀\u001b[38;2;94;94;94;48;2;118;118;118m▀\u001b[38;2;0;0;0;48;2;22;22;22m▀\u001b[38;2;118;118;118;48;2;88;88;88m▀\u001b[38;2;14;14;14;48;2;33;33;33m▀\u001b[38;2;56;56;56;48;2;77;77;77m▀\u001b[38;2;50;50;50;48;2;41;41;41m▀\u001b[38;2;13;13;13;48;2;13;13;13m▀\u001b[38;2;0;0;0;48;2;0;0;0m▀\u001b[38;2;0;0;0;48;2;0;0;0m▀\u001b[38;2;0;0;0;48;2;0;0;0m▀\u001b[38;2;0;0;0;48;2;0;0;0m▀\u001b[38;2;0;0;0;48;2;0;0;0m▀\u001b[38;2;0;0;0;48;2;0;0;0m▀\u001b[38;2;0;0;0;48;2;0;0;0m▀\u001b[38;2;0;0;0;48;2;0;0;0m▀\u001b[38;2;0;0;0;48;2;0;0;0m▀\u001b[38;2;0;0;0;48;2;0;0;0m▀\u001b[38;2;0;0;0;48;2;0;0;0m▀\u001b[38;2;0;0;0;48;2;0;0;0m▀\u001b[38;2;0;0;0;48;2;0;0;0m▀\u001b[38;2;0;0;0;48;2;0;0;0m▀\u001b[38;2;0;0;0;48;2;0;0;0m▀\u001b[0m\n",
       "\u001b[0m\u001b[38;2;0;0;0;48;2;0;0;0m▀\u001b[38;2;0;0;0;48;2;0;0;0m▀\u001b[38;2;0;0;0;48;2;0;0;0m▀\u001b[38;2;0;0;0;48;2;0;0;0m▀\u001b[38;2;0;0;0;48;2;0;0;0m▀\u001b[38;2;0;0;0;48;2;0;0;0m▀\u001b[38;2;0;0;0;48;2;0;0;0m▀\u001b[38;2;0;0;0;48;2;0;0;0m▀\u001b[38;2;0;0;0;48;2;0;0;0m▀\u001b[38;2;0;0;0;48;2;0;0;0m▀\u001b[38;2;0;0;0;48;2;0;0;0m▀\u001b[38;2;0;0;0;48;2;0;0;0m▀\u001b[38;2;0;0;0;48;2;0;0;0m▀\u001b[38;2;0;0;0;48;2;0;0;0m▀\u001b[38;2;0;0;0;48;2;0;0;0m▀\u001b[38;2;0;0;0;48;2;0;0;0m▀\u001b[38;2;0;0;0;48;2;0;0;0m▀\u001b[38;2;0;0;0;48;2;0;0;0m▀\u001b[38;2;0;0;0;48;2;0;0;0m▀\u001b[38;2;0;0;0;48;2;0;0;0m▀\u001b[38;2;0;0;0;48;2;0;0;0m▀\u001b[38;2;0;0;0;48;2;0;0;0m▀\u001b[38;2;0;0;0;48;2;0;0;0m▀\u001b[38;2;0;0;0;48;2;0;0;0m▀\u001b[38;2;0;0;0;48;2;0;0;0m▀\u001b[38;2;0;0;0;48;2;0;0;0m▀\u001b[38;2;1;1;1;48;2;0;0;0m▀\u001b[38;2;0;0;0;48;2;0;0;0m▀\u001b[38;2;0;0;0;48;2;4;4;4m▀\u001b[38;2;0;0;0;48;2;2;2;2m▀\u001b[38;2;0;0;0;48;2;29;29;29m▀\u001b[38;2;0;0;0;48;2;6;6;6m▀\u001b[38;2;0;0;0;48;2;26;26;26m▀\u001b[38;2;0;0;0;48;2;7;7;7m▀\u001b[38;2;46;46;46;48;2;120;120;120m▀\u001b[38;2;0;0;0;48;2;33;33;33m▀\u001b[38;2;91;91;91;48;2;137;137;137m▀\u001b[38;2;0;0;0;48;2;26;26;26m▀\u001b[38;2;95;95;95;48;2;119;119;119m▀\u001b[38;2;20;20;20;48;2;20;20;20m▀\u001b[38;2;37;37;37;48;2;51;51;51m▀\u001b[38;2;19;19;19;48;2;16;16;16m▀\u001b[38;2;4;4;4;48;2;3;3;3m▀\u001b[38;2;0;0;0;48;2;0;0;0m▀\u001b[38;2;0;0;0;48;2;0;0;0m▀\u001b[38;2;0;0;0;48;2;0;0;0m▀\u001b[38;2;0;0;0;48;2;0;0;0m▀\u001b[38;2;0;0;0;48;2;0;0;0m▀\u001b[38;2;0;0;0;48;2;0;0;0m▀\u001b[38;2;0;0;0;48;2;0;0;0m▀\u001b[38;2;0;0;0;48;2;0;0;0m▀\u001b[38;2;0;0;0;48;2;0;0;0m▀\u001b[38;2;0;0;0;48;2;0;0;0m▀\u001b[38;2;0;0;0;48;2;0;0;0m▀\u001b[38;2;0;0;0;48;2;0;0;0m▀\u001b[38;2;0;0;0;48;2;0;0;0m▀\u001b[0m\n",
       "\u001b[0m\u001b[38;2;0;0;0;48;2;0;0;0m▀\u001b[38;2;0;0;0;48;2;0;0;0m▀\u001b[38;2;0;0;0;48;2;0;0;0m▀\u001b[38;2;0;0;0;48;2;0;0;0m▀\u001b[38;2;0;0;0;48;2;0;0;0m▀\u001b[38;2;0;0;0;48;2;0;0;0m▀\u001b[38;2;0;0;0;48;2;0;0;0m▀\u001b[38;2;0;0;0;48;2;0;0;0m▀\u001b[38;2;0;0;0;48;2;0;0;0m▀\u001b[38;2;0;0;0;48;2;0;0;0m▀\u001b[38;2;0;0;0;48;2;0;0;0m▀\u001b[38;2;0;0;0;48;2;0;0;0m▀\u001b[38;2;0;0;0;48;2;0;0;0m▀\u001b[38;2;0;0;0;48;2;0;0;0m▀\u001b[38;2;0;0;0;48;2;0;0;0m▀\u001b[38;2;0;0;0;48;2;0;0;0m▀\u001b[38;2;0;0;0;48;2;0;0;0m▀\u001b[38;2;0;0;0;48;2;0;0;0m▀\u001b[38;2;0;0;0;48;2;0;0;0m▀\u001b[38;2;0;0;0;48;2;0;0;0m▀\u001b[38;2;0;0;0;48;2;0;0;0m▀\u001b[38;2;0;0;0;48;2;0;0;0m▀\u001b[38;2;0;0;0;48;2;0;0;0m▀\u001b[38;2;0;0;0;48;2;0;0;0m▀\u001b[38;2;0;0;0;48;2;0;0;0m▀\u001b[38;2;0;0;0;48;2;0;0;0m▀\u001b[38;2;12;12;12;48;2;0;0;0m▀\u001b[38;2;0;0;0;48;2;0;0;0m▀\u001b[38;2;41;41;41;48;2;0;0;0m▀\u001b[38;2;0;0;0;48;2;13;13;13m▀\u001b[38;2;72;72;72;48;2;0;0;0m▀\u001b[38;2;0;0;0;48;2;34;34;34m▀\u001b[38;2;37;37;37;48;2;47;47;47m▀\u001b[38;2;0;0;0;48;2;75;75;75m▀\u001b[38;2;48;48;48;48;2;116;116;116m▀\u001b[38;2;0;0;0;48;2;34;34;34m▀\u001b[38;2;61;61;61;48;2;165;165;165m▀\u001b[38;2;0;0;0;48;2;33;33;33m▀\u001b[38;2;50;50;50;48;2;158;158;158m▀\u001b[38;2;0;0;0;48;2;1;1;1m▀\u001b[38;2;37;37;37;48;2;58;58;58m▀\u001b[38;2;0;0;0;48;2;0;0;0m▀\u001b[38;2;4;4;4;48;2;9;9;9m▀\u001b[38;2;0;0;0;48;2;0;0;0m▀\u001b[38;2;0;0;0;48;2;0;0;0m▀\u001b[38;2;0;0;0;48;2;0;0;0m▀\u001b[38;2;0;0;0;48;2;0;0;0m▀\u001b[38;2;0;0;0;48;2;0;0;0m▀\u001b[38;2;0;0;0;48;2;0;0;0m▀\u001b[38;2;0;0;0;48;2;0;0;0m▀\u001b[38;2;0;0;0;48;2;0;0;0m▀\u001b[38;2;0;0;0;48;2;0;0;0m▀\u001b[38;2;0;0;0;48;2;0;0;0m▀\u001b[38;2;0;0;0;48;2;0;0;0m▀\u001b[38;2;0;0;0;48;2;0;0;0m▀\u001b[38;2;0;0;0;48;2;0;0;0m▀\u001b[0m\n",
       "\u001b[0m\u001b[38;2;0;0;0;48;2;0;0;0m▀\u001b[38;2;0;0;0;48;2;0;0;0m▀\u001b[38;2;0;0;0;48;2;0;0;0m▀\u001b[38;2;0;0;0;48;2;0;0;0m▀\u001b[38;2;0;0;0;48;2;0;0;0m▀\u001b[38;2;0;0;0;48;2;0;0;0m▀\u001b[38;2;0;0;0;48;2;0;0;0m▀\u001b[38;2;0;0;0;48;2;0;0;0m▀\u001b[38;2;0;0;0;48;2;0;0;0m▀\u001b[38;2;0;0;0;48;2;0;0;0m▀\u001b[38;2;0;0;0;48;2;0;0;0m▀\u001b[38;2;0;0;0;48;2;0;0;0m▀\u001b[38;2;0;0;0;48;2;0;0;0m▀\u001b[38;2;0;0;0;48;2;0;0;0m▀\u001b[38;2;0;0;0;48;2;0;0;0m▀\u001b[38;2;0;0;0;48;2;0;0;0m▀\u001b[38;2;0;0;0;48;2;0;0;0m▀\u001b[38;2;0;0;0;48;2;0;0;0m▀\u001b[38;2;0;0;0;48;2;0;0;0m▀\u001b[38;2;0;0;0;48;2;0;0;0m▀\u001b[38;2;0;0;0;48;2;0;0;0m▀\u001b[38;2;0;0;0;48;2;0;0;0m▀\u001b[38;2;10;10;10;48;2;0;0;0m▀\u001b[38;2;0;0;0;48;2;0;0;0m▀\u001b[38;2;44;44;44;48;2;0;0;0m▀\u001b[38;2;0;0;0;48;2;11;11;11m▀\u001b[38;2;72;72;72;48;2;0;0;0m▀\u001b[38;2;15;15;15;48;2;44;44;44m▀\u001b[38;2;77;77;77;48;2;34;34;34m▀\u001b[38;2;28;28;28;48;2;63;63;63m▀\u001b[38;2;76;76;76;48;2;81;81;81m▀\u001b[38;2;19;19;19;48;2;55;55;55m▀\u001b[38;2;72;72;72;48;2;124;124;124m▀\u001b[38;2;0;0;0;48;2;50;50;50m▀\u001b[38;2;58;58;58;48;2;146;146;146m▀\u001b[38;2;0;0;0;48;2;33;33;33m▀\u001b[38;2;67;67;67;48;2;160;160;160m▀\u001b[38;2;0;0;0;48;2;27;27;27m▀\u001b[38;2;58;58;58;48;2;127;127;127m▀\u001b[38;2;0;0;0;48;2;0;0;0m▀\u001b[38;2;29;29;29;48;2;37;37;37m▀\u001b[38;2;0;0;0;48;2;0;0;0m▀\u001b[38;2;3;3;3;48;2;0;0;0m▀\u001b[38;2;0;0;0;48;2;0;0;0m▀\u001b[38;2;0;0;0;48;2;0;0;0m▀\u001b[38;2;0;0;0;48;2;0;0;0m▀\u001b[38;2;0;0;0;48;2;0;0;0m▀\u001b[38;2;0;0;0;48;2;0;0;0m▀\u001b[38;2;0;0;0;48;2;0;0;0m▀\u001b[38;2;0;0;0;48;2;0;0;0m▀\u001b[38;2;0;0;0;48;2;0;0;0m▀\u001b[38;2;0;0;0;48;2;0;0;0m▀\u001b[38;2;0;0;0;48;2;0;0;0m▀\u001b[38;2;0;0;0;48;2;0;0;0m▀\u001b[38;2;0;0;0;48;2;0;0;0m▀\u001b[38;2;0;0;0;48;2;0;0;0m▀\u001b[0m\n",
       "\u001b[0m\u001b[38;2;0;0;0;48;2;0;0;0m▀\u001b[38;2;0;0;0;48;2;0;0;0m▀\u001b[38;2;0;0;0;48;2;0;0;0m▀\u001b[38;2;0;0;0;48;2;0;0;0m▀\u001b[38;2;0;0;0;48;2;0;0;0m▀\u001b[38;2;0;0;0;48;2;0;0;0m▀\u001b[38;2;0;0;0;48;2;0;0;0m▀\u001b[38;2;0;0;0;48;2;0;0;0m▀\u001b[38;2;0;0;0;48;2;0;0;0m▀\u001b[38;2;0;0;0;48;2;0;0;0m▀\u001b[38;2;0;0;0;48;2;0;0;0m▀\u001b[38;2;0;0;0;48;2;0;0;0m▀\u001b[38;2;0;0;0;48;2;0;0;0m▀\u001b[38;2;0;0;0;48;2;0;0;0m▀\u001b[38;2;0;0;0;48;2;0;0;0m▀\u001b[38;2;0;0;0;48;2;0;0;0m▀\u001b[38;2;0;0;0;48;2;0;0;0m▀\u001b[38;2;0;0;0;48;2;0;0;0m▀\u001b[38;2;6;6;6;48;2;0;0;0m▀\u001b[38;2;0;0;0;48;2;0;0;0m▀\u001b[38;2;33;33;33;48;2;0;0;0m▀\u001b[38;2;0;0;0;48;2;7;7;7m▀\u001b[38;2;65;65;65;48;2;0;0;0m▀\u001b[38;2;6;6;6;48;2;35;35;35m▀\u001b[38;2;68;68;68;48;2;34;34;34m▀\u001b[38;2;28;28;28;48;2;64;64;64m▀\u001b[38;2;65;65;65;48;2;96;96;96m▀\u001b[38;2;4;4;4;48;2;55;55;55m▀\u001b[38;2;67;67;67;48;2;136;136;136m▀\u001b[38;2;0;0;0;48;2;39;39;39m▀\u001b[38;2;70;70;70;48;2;152;152;152m▀\u001b[38;2;0;0;0;48;2;33;33;33m▀\u001b[38;2;60;60;60;48;2;168;168;168m▀\u001b[38;2;0;0;0;48;2;33;33;33m▀\u001b[38;2;19;19;19;48;2;189;189;189m▀\u001b[38;2;0;0;0;48;2;19;19;19m▀\u001b[38;2;0;0;0;48;2;162;162;162m▀\u001b[38;2;0;0;0;48;2;0;0;0m▀\u001b[38;2;19;19;19;48;2;75;75;75m▀\u001b[38;2;0;0;0;48;2;0;0;0m▀\u001b[38;2;20;20;20;48;2;25;25;25m▀\u001b[38;2;0;0;0;48;2;0;0;0m▀\u001b[38;2;0;0;0;48;2;0;0;0m▀\u001b[38;2;0;0;0;48;2;0;0;0m▀\u001b[38;2;0;0;0;48;2;0;0;0m▀\u001b[38;2;0;0;0;48;2;0;0;0m▀\u001b[38;2;0;0;0;48;2;0;0;0m▀\u001b[38;2;0;0;0;48;2;0;0;0m▀\u001b[38;2;0;0;0;48;2;0;0;0m▀\u001b[38;2;0;0;0;48;2;0;0;0m▀\u001b[38;2;0;0;0;48;2;0;0;0m▀\u001b[38;2;0;0;0;48;2;0;0;0m▀\u001b[38;2;0;0;0;48;2;0;0;0m▀\u001b[38;2;0;0;0;48;2;0;0;0m▀\u001b[38;2;0;0;0;48;2;0;0;0m▀\u001b[38;2;0;0;0;48;2;0;0;0m▀\u001b[0m\n",
       "\u001b[0m\u001b[38;2;0;0;0;48;2;0;0;0m▀\u001b[38;2;0;0;0;48;2;0;0;0m▀\u001b[38;2;0;0;0;48;2;0;0;0m▀\u001b[38;2;0;0;0;48;2;0;0;0m▀\u001b[38;2;0;0;0;48;2;0;0;0m▀\u001b[38;2;0;0;0;48;2;0;0;0m▀\u001b[38;2;0;0;0;48;2;0;0;0m▀\u001b[38;2;0;0;0;48;2;0;0;0m▀\u001b[38;2;0;0;0;48;2;0;0;0m▀\u001b[38;2;0;0;0;48;2;0;0;0m▀\u001b[38;2;0;0;0;48;2;0;0;0m▀\u001b[38;2;0;0;0;48;2;0;0;0m▀\u001b[38;2;0;0;0;48;2;0;0;0m▀\u001b[38;2;0;0;0;48;2;0;0;0m▀\u001b[38;2;6;6;6;48;2;0;0;0m▀\u001b[38;2;0;0;0;48;2;0;0;0m▀\u001b[38;2;20;20;20;48;2;0;0;0m▀\u001b[38;2;0;0;0;48;2;6;6;6m▀\u001b[38;2;59;59;59;48;2;0;0;0m▀\u001b[38;2;0;0;0;48;2;21;21;21m▀\u001b[38;2;73;73;73;48;2;17;17;17m▀\u001b[38;2;27;27;27;48;2;62;62;62m▀\u001b[38;2;64;64;64;48;2;84;84;84m▀\u001b[38;2;13;13;13;48;2;63;63;63m▀\u001b[38;2;66;66;66;48;2;129;129;129m▀\u001b[38;2;0;0;0;48;2;41;41;41m▀\u001b[38;2;70;70;70;48;2;150;150;150m▀\u001b[38;2;0;0;0;48;2;33;33;33m▀\u001b[38;2;57;57;57;48;2;169;169;169m▀\u001b[38;2;0;0;0;48;2;33;33;33m▀\u001b[38;2;20;20;20;48;2;188;188;188m▀\u001b[38;2;0;0;0;48;2;18;18;18m▀\u001b[38;2;0;0;0;48;2;168;168;168m▀\u001b[38;2;0;0;0;48;2;0;0;0m▀\u001b[38;2;4;4;4;48;2;102;102;102m▀\u001b[38;2;0;0;0;48;2;0;0;0m▀\u001b[38;2;12;12;12;48;2;43;43;43m▀\u001b[38;2;0;0;0;48;2;0;0;0m▀\u001b[38;2;2;2;2;48;2;11;11;11m▀\u001b[38;2;0;0;0;48;2;0;0;0m▀\u001b[38;2;8;8;8;48;2;0;0;0m▀\u001b[38;2;0;0;0;48;2;0;0;0m▀\u001b[38;2;0;0;0;48;2;0;0;0m▀\u001b[38;2;0;0;0;48;2;0;0;0m▀\u001b[38;2;0;0;0;48;2;0;0;0m▀\u001b[38;2;0;0;0;48;2;0;0;0m▀\u001b[38;2;0;0;0;48;2;0;0;0m▀\u001b[38;2;0;0;0;48;2;0;0;0m▀\u001b[38;2;0;0;0;48;2;0;0;0m▀\u001b[38;2;0;0;0;48;2;0;0;0m▀\u001b[38;2;0;0;0;48;2;0;0;0m▀\u001b[38;2;0;0;0;48;2;0;0;0m▀\u001b[38;2;0;0;0;48;2;0;0;0m▀\u001b[38;2;0;0;0;48;2;0;0;0m▀\u001b[38;2;0;0;0;48;2;0;0;0m▀\u001b[38;2;0;0;0;48;2;0;0;0m▀\u001b[0m\n",
       "\u001b[0m\u001b[38;2;0;0;0;48;2;0;0;0m▀\u001b[38;2;0;0;0;48;2;0;0;0m▀\u001b[38;2;0;0;0;48;2;0;0;0m▀\u001b[38;2;0;0;0;48;2;0;0;0m▀\u001b[38;2;0;0;0;48;2;0;0;0m▀\u001b[38;2;0;0;0;48;2;0;0;0m▀\u001b[38;2;0;0;0;48;2;0;0;0m▀\u001b[38;2;0;0;0;48;2;0;0;0m▀\u001b[38;2;0;0;0;48;2;0;0;0m▀\u001b[38;2;0;0;0;48;2;0;0;0m▀\u001b[38;2;5;5;5;48;2;0;0;0m▀\u001b[38;2;0;0;0;48;2;0;0;0m▀\u001b[38;2;46;46;46;48;2;0;0;0m▀\u001b[38;2;0;0;0;48;2;6;6;6m▀\u001b[38;2;78;78;78;48;2;0;0;0m▀\u001b[38;2;22;22;22;48;2;47;47;47m▀\u001b[38;2;93;93;93;48;2;10;10;10m▀\u001b[38;2;28;28;28;48;2;59;59;59m▀\u001b[38;2;65;65;65;48;2;72;72;72m▀\u001b[38;2;26;26;26;48;2;73;73;73m▀\u001b[38;2;63;63;63;48;2;121;121;121m▀\u001b[38;2;0;0;0;48;2;43;43;43m▀\u001b[38;2;71;71;71;48;2;149;149;149m▀\u001b[38;2;0;0;0;48;2;33;33;33m▀\u001b[38;2;55;55;55;48;2;170;170;170m▀\u001b[38;2;0;0;0;48;2;33;33;33m▀\u001b[38;2;19;19;19;48;2;188;188;188m▀\u001b[38;2;0;0;0;48;2;17;17;17m▀\u001b[38;2;0;0;0;48;2;165;165;165m▀\u001b[38;2;0;0;0;48;2;0;0;0m▀\u001b[38;2;4;4;4;48;2;103;103;103m▀\u001b[38;2;0;0;0;48;2;0;0;0m▀\u001b[38;2;12;12;12;48;2;45;45;45m▀\u001b[38;2;0;0;0;48;2;0;0;0m▀\u001b[38;2;4;4;4;48;2;11;11;11m▀\u001b[38;2;0;0;0;48;2;0;0;0m▀\u001b[38;2;3;3;3;48;2;0;0;0m▀\u001b[38;2;0;0;0;48;2;0;0;0m▀\u001b[38;2;3;3;3;48;2;0;0;0m▀\u001b[38;2;0;0;0;48;2;0;0;0m▀\u001b[38;2;0;0;0;48;2;0;0;0m▀\u001b[38;2;0;0;0;48;2;0;0;0m▀\u001b[38;2;0;0;0;48;2;0;0;0m▀\u001b[38;2;0;0;0;48;2;0;0;0m▀\u001b[38;2;0;0;0;48;2;0;0;0m▀\u001b[38;2;0;0;0;48;2;0;0;0m▀\u001b[38;2;0;0;0;48;2;0;0;0m▀\u001b[38;2;0;0;0;48;2;0;0;0m▀\u001b[38;2;0;0;0;48;2;0;0;0m▀\u001b[38;2;0;0;0;48;2;0;0;0m▀\u001b[38;2;0;0;0;48;2;0;0;0m▀\u001b[38;2;0;0;0;48;2;0;0;0m▀\u001b[38;2;0;0;0;48;2;0;0;0m▀\u001b[38;2;0;0;0;48;2;0;0;0m▀\u001b[38;2;0;0;0;48;2;0;0;0m▀\u001b[38;2;0;0;0;48;2;0;0;0m▀\u001b[0m\n",
       "\u001b[0m\u001b[38;2;0;0;0;48;2;0;0;0m▀\u001b[38;2;0;0;0;48;2;0;0;0m▀\u001b[38;2;0;0;0;48;2;0;0;0m▀\u001b[38;2;0;0;0;48;2;0;0;0m▀\u001b[38;2;0;0;0;48;2;0;0;0m▀\u001b[38;2;0;0;0;48;2;0;0;0m▀\u001b[38;2;14;14;14;48;2;0;0;0m▀\u001b[38;2;0;0;0;48;2;0;0;0m▀\u001b[38;2;52;52;52;48;2;0;0;0m▀\u001b[38;2;0;0;0;48;2;15;15;15m▀\u001b[38;2;84;84;84;48;2;0;0;0m▀\u001b[38;2;22;22;22;48;2;47;47;47m▀\u001b[38;2;66;66;66;48;2;40;40;40m▀\u001b[38;2;34;34;34;48;2;73;73;73m▀\u001b[38;2;66;66;66;48;2;95;95;95m▀\u001b[38;2;5;5;5;48;2;49;49;49m▀\u001b[38;2;68;68;68;48;2;137;137;137m▀\u001b[38;2;0;0;0;48;2;41;41;41m▀\u001b[38;2;74;74;74;48;2;150;150;150m▀\u001b[38;2;0;0;0;48;2;33;33;33m▀\u001b[38;2;66;66;66;48;2;157;157;157m▀\u001b[38;2;0;0;0;48;2;33;33;33m▀\u001b[38;2;40;40;40;48;2;184;184;184m▀\u001b[38;2;0;0;0;48;2;30;30;30m▀\u001b[38;2;8;8;8;48;2;177;177;177m▀\u001b[38;2;0;0;0;48;2;0;0;0m▀\u001b[38;2;8;8;8;48;2;106;106;106m▀\u001b[38;2;0;0;0;48;2;0;0;0m▀\u001b[38;2;10;10;10;48;2;46;46;46m▀\u001b[38;2;0;0;0;48;2;0;0;0m▀\u001b[38;2;4;4;4;48;2;13;13;13m▀\u001b[38;2;0;0;0;48;2;0;0;0m▀\u001b[38;2;3;3;3;48;2;1;1;1m▀\u001b[38;2;0;0;0;48;2;0;0;0m▀\u001b[38;2;3;3;3;48;2;0;0;0m▀\u001b[38;2;0;0;0;48;2;0;0;0m▀\u001b[38;2;0;0;0;48;2;0;0;0m▀\u001b[38;2;0;0;0;48;2;0;0;0m▀\u001b[38;2;0;0;0;48;2;0;0;0m▀\u001b[38;2;0;0;0;48;2;0;0;0m▀\u001b[38;2;0;0;0;48;2;0;0;0m▀\u001b[38;2;0;0;0;48;2;0;0;0m▀\u001b[38;2;0;0;0;48;2;0;0;0m▀\u001b[38;2;0;0;0;48;2;0;0;0m▀\u001b[38;2;0;0;0;48;2;0;0;0m▀\u001b[38;2;0;0;0;48;2;0;0;0m▀\u001b[38;2;0;0;0;48;2;0;0;0m▀\u001b[38;2;0;0;0;48;2;0;0;0m▀\u001b[38;2;0;0;0;48;2;0;0;0m▀\u001b[38;2;0;0;0;48;2;0;0;0m▀\u001b[38;2;0;0;0;48;2;0;0;0m▀\u001b[38;2;0;0;0;48;2;0;0;0m▀\u001b[38;2;0;0;0;48;2;0;0;0m▀\u001b[38;2;0;0;0;48;2;0;0;0m▀\u001b[38;2;0;0;0;48;2;0;0;0m▀\u001b[38;2;0;0;0;48;2;0;0;0m▀\u001b[0m\n",
       "\u001b[0m\u001b[38;2;0;0;0;48;2;0;0;0m▀\u001b[38;2;0;0;0;48;2;0;0;0m▀\u001b[38;2;0;0;0;48;2;0;0;0m▀\u001b[38;2;0;0;0;48;2;0;0;0m▀\u001b[38;2;0;0;0;48;2;0;0;0m▀\u001b[38;2;0;0;0;48;2;0;0;0m▀\u001b[38;2;20;20;20;48;2;0;0;0m▀\u001b[38;2;0;0;0;48;2;7;7;7m▀\u001b[38;2;42;42;42;48;2;21;21;21m▀\u001b[38;2;0;0;0;48;2;42;42;42m▀\u001b[38;2;61;61;61;48;2;98;98;98m▀\u001b[38;2;7;7;7;48;2;50;50;50m▀\u001b[38;2;72;72;72;48;2;138;138;138m▀\u001b[38;2;0;0;0;48;2;40;40;40m▀\u001b[38;2;57;57;57;48;2;162;162;162m▀\u001b[38;2;0;0;0;48;2;33;33;33m▀\u001b[38;2;36;36;36;48;2;177;177;177m▀\u001b[38;2;0;0;0;48;2;22;22;22m▀\u001b[38;2;20;20;20;48;2;160;160;160m▀\u001b[38;2;0;0;0;48;2;3;3;3m▀\u001b[38;2;0;0;0;48;2;184;184;184m▀\u001b[38;2;0;0;0;48;2;0;0;0m▀\u001b[38;2;0;0;0;48;2;131;131;131m▀\u001b[38;2;0;0;0;48;2;0;0;0m▀\u001b[38;2;14;14;14;48;2;64;64;64m▀\u001b[38;2;0;0;0;48;2;0;0;0m▀\u001b[38;2;7;7;7;48;2;20;20;20m▀\u001b[38;2;0;0;0;48;2;0;0;0m▀\u001b[38;2;4;4;4;48;2;1;1;1m▀\u001b[38;2;0;0;0;48;2;0;0;0m▀\u001b[38;2;3;3;3;48;2;0;0;0m▀\u001b[38;2;0;0;0;48;2;0;0;0m▀\u001b[38;2;0;0;0;48;2;0;0;0m▀\u001b[38;2;0;0;0;48;2;0;0;0m▀\u001b[38;2;0;0;0;48;2;0;0;0m▀\u001b[38;2;0;0;0;48;2;0;0;0m▀\u001b[38;2;0;0;0;48;2;0;0;0m▀\u001b[38;2;0;0;0;48;2;0;0;0m▀\u001b[38;2;0;0;0;48;2;0;0;0m▀\u001b[38;2;0;0;0;48;2;0;0;0m▀\u001b[38;2;0;0;0;48;2;0;0;0m▀\u001b[38;2;0;0;0;48;2;0;0;0m▀\u001b[38;2;0;0;0;48;2;0;0;0m▀\u001b[38;2;0;0;0;48;2;0;0;0m▀\u001b[38;2;0;0;0;48;2;0;0;0m▀\u001b[38;2;0;0;0;48;2;0;0;0m▀\u001b[38;2;0;0;0;48;2;0;0;0m▀\u001b[38;2;0;0;0;48;2;0;0;0m▀\u001b[38;2;0;0;0;48;2;0;0;0m▀\u001b[38;2;0;0;0;48;2;0;0;0m▀\u001b[38;2;0;0;0;48;2;0;0;0m▀\u001b[38;2;0;0;0;48;2;0;0;0m▀\u001b[38;2;0;0;0;48;2;0;0;0m▀\u001b[38;2;0;0;0;48;2;0;0;0m▀\u001b[38;2;0;0;0;48;2;0;0;0m▀\u001b[38;2;0;0;0;48;2;0;0;0m▀\u001b[0m\n",
       "\u001b[0m\u001b[38;2;0;0;0;48;2;0;0;0m▀\u001b[38;2;0;0;0;48;2;0;0;0m▀\u001b[38;2;0;0;0;48;2;0;0;0m▀\u001b[38;2;0;0;0;48;2;0;0;0m▀\u001b[38;2;0;0;0;48;2;0;0;0m▀\u001b[38;2;0;0;0;48;2;0;0;0m▀\u001b[38;2;0;0;0;48;2;38;38;38m▀\u001b[38;2;0;0;0;48;2;14;14;14m▀\u001b[38;2;0;0;0;48;2;98;98;98m▀\u001b[38;2;0;0;0;48;2;0;0;0m▀\u001b[38;2;0;0;0;48;2;141;141;141m▀\u001b[38;2;0;0;0;48;2;0;0;0m▀\u001b[38;2;0;0;0;48;2;157;157;157m▀\u001b[38;2;0;0;0;48;2;0;0;0m▀\u001b[38;2;0;0;0;48;2;145;145;145m▀\u001b[38;2;0;0;0;48;2;0;0;0m▀\u001b[38;2;0;0;0;48;2;115;115;115m▀\u001b[38;2;0;0;0;48;2;0;0;0m▀\u001b[38;2;0;0;0;48;2;93;93;93m▀\u001b[38;2;0;0;0;48;2;0;0;0m▀\u001b[38;2;6;6;6;48;2;50;50;50m▀\u001b[38;2;0;0;0;48;2;0;0;0m▀\u001b[38;2;5;5;5;48;2;21;21;21m▀\u001b[38;2;0;0;0;48;2;0;0;0m▀\u001b[38;2;2;2;2;48;2;2;2;2m▀\u001b[38;2;0;0;0;48;2;0;0;0m▀\u001b[38;2;5;5;5;48;2;0;0;0m▀\u001b[38;2;0;0;0;48;2;0;0;0m▀\u001b[38;2;0;0;0;48;2;0;0;0m▀\u001b[38;2;0;0;0;48;2;0;0;0m▀\u001b[38;2;0;0;0;48;2;0;0;0m▀\u001b[38;2;0;0;0;48;2;0;0;0m▀\u001b[38;2;0;0;0;48;2;0;0;0m▀\u001b[38;2;0;0;0;48;2;0;0;0m▀\u001b[38;2;0;0;0;48;2;0;0;0m▀\u001b[38;2;0;0;0;48;2;0;0;0m▀\u001b[38;2;0;0;0;48;2;0;0;0m▀\u001b[38;2;0;0;0;48;2;0;0;0m▀\u001b[38;2;0;0;0;48;2;0;0;0m▀\u001b[38;2;0;0;0;48;2;0;0;0m▀\u001b[38;2;0;0;0;48;2;0;0;0m▀\u001b[38;2;0;0;0;48;2;0;0;0m▀\u001b[38;2;0;0;0;48;2;0;0;0m▀\u001b[38;2;0;0;0;48;2;0;0;0m▀\u001b[38;2;0;0;0;48;2;0;0;0m▀\u001b[38;2;0;0;0;48;2;0;0;0m▀\u001b[38;2;0;0;0;48;2;0;0;0m▀\u001b[38;2;0;0;0;48;2;0;0;0m▀\u001b[38;2;0;0;0;48;2;0;0;0m▀\u001b[38;2;0;0;0;48;2;0;0;0m▀\u001b[38;2;0;0;0;48;2;0;0;0m▀\u001b[38;2;0;0;0;48;2;0;0;0m▀\u001b[38;2;0;0;0;48;2;0;0;0m▀\u001b[38;2;0;0;0;48;2;0;0;0m▀\u001b[38;2;0;0;0;48;2;0;0;0m▀\u001b[38;2;0;0;0;48;2;0;0;0m▀\u001b[0m\n",
       "\u001b[0m\u001b[38;2;0;0;0;48;2;0;0;0m▀\u001b[38;2;0;0;0;48;2;0;0;0m▀\u001b[38;2;0;0;0;48;2;0;0;0m▀\u001b[38;2;0;0;0;48;2;0;0;0m▀\u001b[38;2;0;0;0;48;2;0;0;0m▀\u001b[38;2;0;0;0;48;2;0;0;0m▀\u001b[38;2;4;4;4;48;2;0;0;0m▀\u001b[38;2;0;0;0;48;2;0;0;0m▀\u001b[38;2;0;0;0;48;2;0;0;0m▀\u001b[38;2;0;0;0;48;2;0;0;0m▀\u001b[38;2;0;0;0;48;2;0;0;0m▀\u001b[38;2;0;0;0;48;2;0;0;0m▀\u001b[38;2;0;0;0;48;2;0;0;0m▀\u001b[38;2;0;0;0;48;2;0;0;0m▀\u001b[38;2;0;0;0;48;2;0;0;0m▀\u001b[38;2;0;0;0;48;2;0;0;0m▀\u001b[38;2;0;0;0;48;2;0;0;0m▀\u001b[38;2;0;0;0;48;2;0;0;0m▀\u001b[38;2;3;3;3;48;2;0;0;0m▀\u001b[38;2;0;0;0;48;2;0;0;0m▀\u001b[38;2;0;0;0;48;2;0;0;0m▀\u001b[38;2;0;0;0;48;2;0;0;0m▀\u001b[38;2;5;5;5;48;2;0;0;0m▀\u001b[38;2;0;0;0;48;2;0;0;0m▀\u001b[38;2;1;1;1;48;2;0;0;0m▀\u001b[38;2;0;0;0;48;2;0;0;0m▀\u001b[38;2;0;0;0;48;2;0;0;0m▀\u001b[38;2;0;0;0;48;2;0;0;0m▀\u001b[38;2;0;0;0;48;2;0;0;0m▀\u001b[38;2;0;0;0;48;2;0;0;0m▀\u001b[38;2;0;0;0;48;2;0;0;0m▀\u001b[38;2;0;0;0;48;2;0;0;0m▀\u001b[38;2;0;0;0;48;2;0;0;0m▀\u001b[38;2;0;0;0;48;2;0;0;0m▀\u001b[38;2;0;0;0;48;2;0;0;0m▀\u001b[38;2;0;0;0;48;2;0;0;0m▀\u001b[38;2;0;0;0;48;2;0;0;0m▀\u001b[38;2;0;0;0;48;2;0;0;0m▀\u001b[38;2;0;0;0;48;2;0;0;0m▀\u001b[38;2;0;0;0;48;2;0;0;0m▀\u001b[38;2;0;0;0;48;2;0;0;0m▀\u001b[38;2;0;0;0;48;2;0;0;0m▀\u001b[38;2;0;0;0;48;2;0;0;0m▀\u001b[38;2;0;0;0;48;2;0;0;0m▀\u001b[38;2;0;0;0;48;2;0;0;0m▀\u001b[38;2;0;0;0;48;2;0;0;0m▀\u001b[38;2;0;0;0;48;2;0;0;0m▀\u001b[38;2;0;0;0;48;2;0;0;0m▀\u001b[38;2;0;0;0;48;2;0;0;0m▀\u001b[38;2;0;0;0;48;2;0;0;0m▀\u001b[38;2;0;0;0;48;2;0;0;0m▀\u001b[38;2;0;0;0;48;2;0;0;0m▀\u001b[38;2;0;0;0;48;2;0;0;0m▀\u001b[38;2;0;0;0;48;2;0;0;0m▀\u001b[38;2;0;0;0;48;2;0;0;0m▀\u001b[38;2;0;0;0;48;2;0;0;0m▀\u001b[0m\n",
       "\u001b[0m\u001b[38;2;0;0;0;48;2;0;0;0m▀\u001b[38;2;0;0;0;48;2;0;0;0m▀\u001b[38;2;0;0;0;48;2;0;0;0m▀\u001b[38;2;0;0;0;48;2;0;0;0m▀\u001b[38;2;0;0;0;48;2;0;0;0m▀\u001b[38;2;0;0;0;48;2;0;0;0m▀\u001b[38;2;0;0;0;48;2;0;0;0m▀\u001b[38;2;0;0;0;48;2;0;0;0m▀\u001b[38;2;0;0;0;48;2;0;0;0m▀\u001b[38;2;0;0;0;48;2;0;0;0m▀\u001b[38;2;0;0;0;48;2;0;0;0m▀\u001b[38;2;0;0;0;48;2;0;0;0m▀\u001b[38;2;0;0;0;48;2;0;0;0m▀\u001b[38;2;0;0;0;48;2;0;0;0m▀\u001b[38;2;0;0;0;48;2;0;0;0m▀\u001b[38;2;0;0;0;48;2;0;0;0m▀\u001b[38;2;0;0;0;48;2;0;0;0m▀\u001b[38;2;0;0;0;48;2;0;0;0m▀\u001b[38;2;0;0;0;48;2;0;0;0m▀\u001b[38;2;0;0;0;48;2;0;0;0m▀\u001b[38;2;0;0;0;48;2;0;0;0m▀\u001b[38;2;0;0;0;48;2;0;0;0m▀\u001b[38;2;0;0;0;48;2;0;0;0m▀\u001b[38;2;0;0;0;48;2;0;0;0m▀\u001b[38;2;0;0;0;48;2;0;0;0m▀\u001b[38;2;0;0;0;48;2;0;0;0m▀\u001b[38;2;0;0;0;48;2;0;0;0m▀\u001b[38;2;0;0;0;48;2;0;0;0m▀\u001b[38;2;0;0;0;48;2;0;0;0m▀\u001b[38;2;0;0;0;48;2;0;0;0m▀\u001b[38;2;0;0;0;48;2;0;0;0m▀\u001b[38;2;0;0;0;48;2;0;0;0m▀\u001b[38;2;0;0;0;48;2;0;0;0m▀\u001b[38;2;0;0;0;48;2;0;0;0m▀\u001b[38;2;0;0;0;48;2;0;0;0m▀\u001b[38;2;0;0;0;48;2;0;0;0m▀\u001b[38;2;0;0;0;48;2;0;0;0m▀\u001b[38;2;0;0;0;48;2;0;0;0m▀\u001b[38;2;0;0;0;48;2;0;0;0m▀\u001b[38;2;0;0;0;48;2;0;0;0m▀\u001b[38;2;0;0;0;48;2;0;0;0m▀\u001b[38;2;0;0;0;48;2;0;0;0m▀\u001b[38;2;0;0;0;48;2;0;0;0m▀\u001b[38;2;0;0;0;48;2;0;0;0m▀\u001b[38;2;0;0;0;48;2;0;0;0m▀\u001b[38;2;0;0;0;48;2;0;0;0m▀\u001b[38;2;0;0;0;48;2;0;0;0m▀\u001b[38;2;0;0;0;48;2;0;0;0m▀\u001b[38;2;0;0;0;48;2;0;0;0m▀\u001b[38;2;0;0;0;48;2;0;0;0m▀\u001b[38;2;0;0;0;48;2;0;0;0m▀\u001b[38;2;0;0;0;48;2;0;0;0m▀\u001b[38;2;0;0;0;48;2;0;0;0m▀\u001b[38;2;0;0;0;48;2;0;0;0m▀\u001b[38;2;0;0;0;48;2;0;0;0m▀\u001b[38;2;0;0;0;48;2;0;0;0m▀\u001b[0m\n",
       "\u001b[0m\u001b[38;2;0;0;0;48;2;0;0;0m▀\u001b[38;2;0;0;0;48;2;0;0;0m▀\u001b[38;2;0;0;0;48;2;0;0;0m▀\u001b[38;2;0;0;0;48;2;0;0;0m▀\u001b[38;2;0;0;0;48;2;0;0;0m▀\u001b[38;2;0;0;0;48;2;0;0;0m▀\u001b[38;2;0;0;0;48;2;0;0;0m▀\u001b[38;2;0;0;0;48;2;0;0;0m▀\u001b[38;2;0;0;0;48;2;0;0;0m▀\u001b[38;2;0;0;0;48;2;0;0;0m▀\u001b[38;2;0;0;0;48;2;0;0;0m▀\u001b[38;2;0;0;0;48;2;0;0;0m▀\u001b[38;2;0;0;0;48;2;0;0;0m▀\u001b[38;2;0;0;0;48;2;0;0;0m▀\u001b[38;2;0;0;0;48;2;0;0;0m▀\u001b[38;2;0;0;0;48;2;0;0;0m▀\u001b[38;2;0;0;0;48;2;0;0;0m▀\u001b[38;2;0;0;0;48;2;0;0;0m▀\u001b[38;2;0;0;0;48;2;0;0;0m▀\u001b[38;2;0;0;0;48;2;0;0;0m▀\u001b[38;2;0;0;0;48;2;0;0;0m▀\u001b[38;2;0;0;0;48;2;0;0;0m▀\u001b[38;2;0;0;0;48;2;0;0;0m▀\u001b[38;2;0;0;0;48;2;0;0;0m▀\u001b[38;2;0;0;0;48;2;0;0;0m▀\u001b[38;2;0;0;0;48;2;0;0;0m▀\u001b[38;2;0;0;0;48;2;0;0;0m▀\u001b[38;2;0;0;0;48;2;0;0;0m▀\u001b[38;2;0;0;0;48;2;0;0;0m▀\u001b[38;2;0;0;0;48;2;0;0;0m▀\u001b[38;2;0;0;0;48;2;0;0;0m▀\u001b[38;2;0;0;0;48;2;0;0;0m▀\u001b[38;2;0;0;0;48;2;0;0;0m▀\u001b[38;2;0;0;0;48;2;0;0;0m▀\u001b[38;2;0;0;0;48;2;0;0;0m▀\u001b[38;2;0;0;0;48;2;0;0;0m▀\u001b[38;2;0;0;0;48;2;0;0;0m▀\u001b[38;2;0;0;0;48;2;0;0;0m▀\u001b[38;2;0;0;0;48;2;0;0;0m▀\u001b[38;2;0;0;0;48;2;0;0;0m▀\u001b[38;2;0;0;0;48;2;0;0;0m▀\u001b[38;2;0;0;0;48;2;0;0;0m▀\u001b[38;2;0;0;0;48;2;0;0;0m▀\u001b[38;2;0;0;0;48;2;0;0;0m▀\u001b[38;2;0;0;0;48;2;0;0;0m▀\u001b[38;2;0;0;0;48;2;0;0;0m▀\u001b[38;2;0;0;0;48;2;0;0;0m▀\u001b[38;2;0;0;0;48;2;0;0;0m▀\u001b[38;2;0;0;0;48;2;0;0;0m▀\u001b[38;2;0;0;0;48;2;0;0;0m▀\u001b[38;2;0;0;0;48;2;0;0;0m▀\u001b[38;2;0;0;0;48;2;0;0;0m▀\u001b[38;2;0;0;0;48;2;0;0;0m▀\u001b[38;2;0;0;0;48;2;0;0;0m▀\u001b[38;2;0;0;0;48;2;0;0;0m▀\u001b[38;2;0;0;0;48;2;0;0;0m▀\u001b[0m\n"
      ]
     },
     "execution_count": 70,
     "metadata": {},
     "output_type": "execute_result"
    }
   ],
   "source": [
    "cnn_output = cnn_layer( images[:,:,:,1:3] )\n",
    "display( cnn_output |> size )\n",
    "convert2image( MNIST , cnn_output[:,:,1,1] )"
   ]
  },
  {
   "cell_type": "code",
   "execution_count": 71,
   "metadata": {},
   "outputs": [
    {
     "data": {
      "text/plain": [
       "40×40×1×1 Array{Float32, 4}:\n",
       "[:, :, 1, 1] =\n",
       "  0.225162     0.121981    0.0144185   …   0.0948957   0.011217    -0.127383\n",
       "  0.0360982    0.118803    0.240103        0.092423    0.186789     0.0379708\n",
       " -0.0461366   -0.135016   -0.230367       -0.105036   -0.179215    -0.131752\n",
       " -0.420221    -0.180648    0.180384       -0.126584    0.13092      0.220035\n",
       "  0.151023     0.0818166   0.00967097      0.0406394   0.00480369  -0.054552\n",
       "  0.0242122    0.0796848   0.161044    …   0.0395804   0.0799929    0.0162611\n",
       " -0.0309453   -0.0905597  -0.154514       -0.0449822  -0.0767492   -0.0564234\n",
       " -0.468228    -0.171377    0.154856       -0.117629    0.0988427    0.335898\n",
       "  0.254154     0.137688    0.0162751       0.121998    0.0144205   -0.163763\n",
       "  0.0407462    0.1341      0.271019        0.118819    0.240136     0.0488153\n",
       " -0.0520772   -0.152401   -0.260029    …  -0.135035   -0.230399    -0.169381\n",
       " -0.422257    -0.18988     0.194148       -0.163843    0.169056     0.287091\n",
       "  0.127762     0.0692145   0.00818136      0.0540698   0.00639122  -0.0725803\n",
       "  ⋮                                    ⋱                           \n",
       "  0.0488906    0.0264863   0.00313077      0.136939    0.0161866   -0.183819\n",
       "  0.00783817   0.0257962   0.0521346       0.133371    0.269545     0.0547936\n",
       " -0.0100179   -0.0293167  -0.0500206   …  -0.151572   -0.258615    -0.190125\n",
       " -0.318666    -0.100495    0.080494       -0.219989    0.214096     0.45974\n",
       "  0.219318     0.118815    0.0140443       0.120198    0.0142077   -0.161347\n",
       "  0.0351612    0.115719    0.233871        0.117066    0.236592     0.0480949\n",
       " -0.044939    -0.131512   -0.224387       -0.133042   -0.226999    -0.166881\n",
       " -0.285496    -0.142601    0.153202    …  -0.196964    0.190533     0.418283\n",
       "  0.0455511    0.0246772   0.00291692      0.111886    0.0132253   -0.15019\n",
       "  0.00730279   0.0240342   0.0485736       0.108971    0.220232     0.0447691\n",
       " -0.00933358  -0.0273143  -0.046604       -0.123842   -0.211302    -0.155342\n",
       " -0.0477608   -0.0265099   0.029723       -0.120195    0.134764     0.14872"
      ]
     },
     "execution_count": 71,
     "metadata": {},
     "output_type": "execute_result"
    }
   ],
   "source": [
    "x = rand(Float32, 10, 10, 1, 1); \n",
    "cnn_layer = ConvTranspose( (5,5) , 1 => 1 , pad=SamePad() , stride=4 )\n",
    "cnn_layer( x ) "
   ]
  },
  {
   "cell_type": "code",
   "execution_count": 72,
   "metadata": {},
   "outputs": [
    {
     "data": {
      "text/plain": [
       "(112, 112, 1, 3)"
      ]
     },
     "metadata": {},
     "output_type": "display_data"
    },
    {
     "data": {
      "image/png": "[encoded data removed]",
      "text/plain": [
       "\u001b[0m\u001b[38;2;0;0;0;48;2;0;0;0m▀\u001b[38;2;0;0;0;48;2;0;0;0m▀\u001b[38;2;0;0;0;48;2;0;0;0m▀\u001b[38;2;0;0;0;48;2;0;0;0m▀\u001b[38;2;0;0;0;48;2;0;0;0m▀\u001b[38;2;0;0;0;48;2;0;0;0m▀\u001b[38;2;0;0;0;48;2;0;0;0m▀\u001b[38;2;0;0;0;48;2;0;0;0m▀\u001b[38;2;0;0;0;48;2;0;0;0m▀\u001b[38;2;0;0;0;48;2;0;0;0m▀\u001b[38;2;0;0;0;48;2;0;0;0m▀\u001b[38;2;0;0;0;48;2;0;0;0m▀\u001b[38;2;0;0;0;48;2;0;0;0m▀\u001b[38;2;0;0;0;48;2;0;0;0m▀\u001b[38;2;0;0;0;48;2;0;0;0m▀\u001b[38;2;0;0;0;48;2;0;0;0m▀\u001b[38;2;0;0;0;48;2;0;0;0m▀\u001b[38;2;0;0;0;48;2;0;0;0m▀\u001b[38;2;0;0;0;48;2;0;0;0m▀\u001b[38;2;0;0;0;48;2;0;0;0m▀\u001b[38;2;0;0;0;48;2;0;0;0m▀\u001b[38;2;0;0;0;48;2;0;0;0m▀\u001b[38;2;0;0;0;48;2;0;0;0m▀\u001b[38;2;0;0;0;48;2;0;0;0m▀\u001b[38;2;0;0;0;48;2;0;0;0m▀\u001b[38;2;0;0;0;48;2;0;0;0m▀\u001b[38;2;0;0;0;48;2;0;0;0m▀\u001b[38;2;0;0;0;48;2;0;0;0m▀\u001b[38;2;0;0;0;48;2;0;0;0m▀\u001b[38;2;0;0;0;48;2;0;0;0m▀\u001b[38;2;0;0;0;48;2;0;0;0m▀\u001b[38;2;0;0;0;48;2;0;0;0m▀\u001b[38;2;0;0;0;48;2;0;0;0m▀\u001b[38;2;0;0;0;48;2;0;0;0m▀\u001b[38;2;0;0;0;48;2;0;0;0m▀\u001b[38;2;0;0;0;48;2;0;0;0m▀\u001b[38;2;0;0;0;48;2;0;0;0m▀\u001b[38;2;0;0;0;48;2;0;0;0m▀\u001b[38;2;0;0;0;48;2;0;0;0m▀\u001b[38;2;0;0;0;48;2;0;0;0m▀\u001b[38;2;0;0;0;48;2;0;0;0m▀\u001b[38;2;0;0;0;48;2;0;0;0m▀\u001b[38;2;0;0;0;48;2;0;0;0m▀\u001b[38;2;0;0;0;48;2;0;0;0m▀\u001b[38;2;0;0;0;48;2;0;0;0m▀\u001b[38;2;0;0;0;48;2;0;0;0m▀\u001b[38;2;0;0;0;48;2;0;0;0m▀\u001b[38;2;0;0;0;48;2;0;0;0m▀\u001b[38;2;0;0;0;48;2;0;0;0m▀\u001b[38;2;0;0;0;48;2;0;0;0m▀\u001b[38;2;0;0;0;48;2;0;0;0m▀\u001b[38;2;0;0;0;48;2;0;0;0m▀\u001b[38;2;0;0;0;48;2;0;0;0m▀\u001b[38;2;0;0;0;48;2;0;0;0m▀\u001b[38;2;0;0;0;48;2;0;0;0m▀\u001b[38;2;0;0;0;48;2;0;0;0m▀\u001b[38;2;0;0;0;48;2;0;0;0m▀\u001b[0m\n",
       "\u001b[0m\u001b[38;2;0;0;0;48;2;0;0;0m▀\u001b[38;2;0;0;0;48;2;0;0;0m▀\u001b[38;2;0;0;0;48;2;0;0;0m▀\u001b[38;2;0;0;0;48;2;0;0;0m▀\u001b[38;2;0;0;0;48;2;0;0;0m▀\u001b[38;2;0;0;0;48;2;0;0;0m▀\u001b[38;2;0;0;0;48;2;0;0;0m▀\u001b[38;2;0;0;0;48;2;0;0;0m▀\u001b[38;2;0;0;0;48;2;0;0;0m▀\u001b[38;2;0;0;0;48;2;0;0;0m▀\u001b[38;2;0;0;0;48;2;0;0;0m▀\u001b[38;2;0;0;0;48;2;0;0;0m▀\u001b[38;2;0;0;0;48;2;0;0;0m▀\u001b[38;2;0;0;0;48;2;0;0;0m▀\u001b[38;2;0;0;0;48;2;0;0;0m▀\u001b[38;2;0;0;0;48;2;0;0;0m▀\u001b[38;2;0;0;0;48;2;0;0;0m▀\u001b[38;2;0;0;0;48;2;0;0;0m▀\u001b[38;2;0;0;0;48;2;0;0;0m▀\u001b[38;2;0;0;0;48;2;0;0;0m▀\u001b[38;2;0;0;0;48;2;0;0;0m▀\u001b[38;2;0;0;0;48;2;0;0;0m▀\u001b[38;2;0;0;0;48;2;0;0;0m▀\u001b[38;2;0;0;0;48;2;0;0;0m▀\u001b[38;2;0;0;0;48;2;0;0;0m▀\u001b[38;2;0;0;0;48;2;0;0;0m▀\u001b[38;2;0;0;0;48;2;0;0;0m▀\u001b[38;2;0;0;0;48;2;0;0;0m▀\u001b[38;2;0;0;0;48;2;0;0;0m▀\u001b[38;2;0;0;0;48;2;0;0;0m▀\u001b[38;2;0;0;0;48;2;0;0;0m▀\u001b[38;2;0;0;0;48;2;0;0;0m▀\u001b[38;2;0;0;0;48;2;0;0;0m▀\u001b[38;2;0;0;0;48;2;0;0;0m▀\u001b[38;2;0;0;0;48;2;0;0;0m▀\u001b[38;2;0;0;0;48;2;0;0;0m▀\u001b[38;2;0;0;0;48;2;0;0;0m▀\u001b[38;2;0;0;0;48;2;0;0;0m▀\u001b[38;2;0;0;0;48;2;0;0;0m▀\u001b[38;2;0;0;0;48;2;0;0;0m▀\u001b[38;2;0;0;0;48;2;0;0;0m▀\u001b[38;2;0;0;0;48;2;0;0;0m▀\u001b[38;2;0;0;0;48;2;0;0;0m▀\u001b[38;2;0;0;0;48;2;0;0;0m▀\u001b[38;2;0;0;0;48;2;0;0;0m▀\u001b[38;2;0;0;0;48;2;0;0;0m▀\u001b[38;2;0;0;0;48;2;0;0;0m▀\u001b[38;2;0;0;0;48;2;0;0;0m▀\u001b[38;2;0;0;0;48;2;0;0;0m▀\u001b[38;2;0;0;0;48;2;0;0;0m▀\u001b[38;2;0;0;0;48;2;0;0;0m▀\u001b[38;2;0;0;0;48;2;0;0;0m▀\u001b[38;2;0;0;0;48;2;0;0;0m▀\u001b[38;2;0;0;0;48;2;0;0;0m▀\u001b[38;2;0;0;0;48;2;0;0;0m▀\u001b[38;2;0;0;0;48;2;0;0;0m▀\u001b[38;2;0;0;0;48;2;0;0;0m▀\u001b[0m\n",
       "\u001b[0m\u001b[38;2;0;0;0;48;2;0;0;0m▀\u001b[38;2;0;0;0;48;2;0;0;0m▀\u001b[38;2;0;0;0;48;2;0;0;0m▀\u001b[38;2;0;0;0;48;2;0;0;0m▀\u001b[38;2;0;0;0;48;2;0;0;0m▀\u001b[38;2;0;0;0;48;2;0;0;0m▀\u001b[38;2;0;0;0;48;2;0;0;0m▀\u001b[38;2;0;0;0;48;2;0;0;0m▀\u001b[38;2;0;0;0;48;2;0;0;0m▀\u001b[38;2;0;0;0;48;2;0;0;0m▀\u001b[38;2;0;0;0;48;2;0;0;0m▀\u001b[38;2;0;0;0;48;2;0;0;0m▀\u001b[38;2;0;0;0;48;2;0;0;0m▀\u001b[38;2;0;0;0;48;2;0;0;0m▀\u001b[38;2;0;0;0;48;2;0;0;0m▀\u001b[38;2;0;0;0;48;2;0;0;0m▀\u001b[38;2;0;0;0;48;2;0;0;0m▀\u001b[38;2;0;0;0;48;2;0;0;0m▀\u001b[38;2;0;0;0;48;2;0;0;0m▀\u001b[38;2;0;0;0;48;2;0;0;0m▀\u001b[38;2;0;0;0;48;2;0;0;0m▀\u001b[38;2;0;0;0;48;2;0;0;0m▀\u001b[38;2;0;0;0;48;2;0;0;0m▀\u001b[38;2;0;0;0;48;2;0;0;0m▀\u001b[38;2;0;0;0;48;2;0;0;0m▀\u001b[38;2;0;0;0;48;2;0;0;0m▀\u001b[38;2;0;0;0;48;2;0;0;0m▀\u001b[38;2;0;0;0;48;2;0;0;0m▀\u001b[38;2;0;0;0;48;2;0;0;0m▀\u001b[38;2;0;0;0;48;2;0;0;0m▀\u001b[38;2;0;0;0;48;2;0;0;0m▀\u001b[38;2;0;0;0;48;2;0;0;0m▀\u001b[38;2;0;0;0;48;2;0;0;0m▀\u001b[38;2;0;0;0;48;2;0;0;0m▀\u001b[38;2;0;0;0;48;2;0;0;0m▀\u001b[38;2;0;0;0;48;2;0;0;0m▀\u001b[38;2;0;0;0;48;2;0;0;0m▀\u001b[38;2;0;0;0;48;2;0;0;0m▀\u001b[38;2;0;0;0;48;2;0;0;0m▀\u001b[38;2;0;0;0;48;2;0;0;0m▀\u001b[38;2;0;0;0;48;2;0;0;0m▀\u001b[38;2;0;0;0;48;2;0;0;0m▀\u001b[38;2;0;0;0;48;2;0;0;0m▀\u001b[38;2;0;0;0;48;2;0;0;0m▀\u001b[38;2;0;0;0;48;2;0;0;0m▀\u001b[38;2;0;0;0;48;2;0;0;0m▀\u001b[38;2;0;0;0;48;2;0;0;0m▀\u001b[38;2;0;0;0;48;2;0;0;0m▀\u001b[38;2;0;0;0;48;2;0;0;0m▀\u001b[38;2;0;0;0;48;2;0;0;0m▀\u001b[38;2;0;0;0;48;2;0;0;0m▀\u001b[38;2;0;0;0;48;2;0;0;0m▀\u001b[38;2;0;0;0;48;2;0;0;0m▀\u001b[38;2;0;0;0;48;2;0;0;0m▀\u001b[38;2;0;0;0;48;2;0;0;0m▀\u001b[38;2;0;0;0;48;2;0;0;0m▀\u001b[38;2;0;0;0;48;2;0;0;0m▀\u001b[0m\n",
       "\u001b[0m\u001b[38;2;0;0;0;48;2;0;0;0m▀\u001b[38;2;0;0;0;48;2;0;0;0m▀\u001b[38;2;0;0;0;48;2;0;0;0m▀\u001b[38;2;0;0;0;48;2;0;0;0m▀\u001b[38;2;0;0;0;48;2;0;0;0m▀\u001b[38;2;0;0;0;48;2;0;0;0m▀\u001b[38;2;0;0;0;48;2;0;0;0m▀\u001b[38;2;0;0;0;48;2;0;0;0m▀\u001b[38;2;0;0;0;48;2;0;0;0m▀\u001b[38;2;0;0;0;48;2;0;0;0m▀\u001b[38;2;0;0;0;48;2;0;0;0m▀\u001b[38;2;0;0;0;48;2;0;0;0m▀\u001b[38;2;0;0;0;48;2;0;0;0m▀\u001b[38;2;0;0;0;48;2;0;0;0m▀\u001b[38;2;0;0;0;48;2;0;0;0m▀\u001b[38;2;0;0;0;48;2;0;0;0m▀\u001b[38;2;0;0;0;48;2;0;0;0m▀\u001b[38;2;0;0;0;48;2;0;0;0m▀\u001b[38;2;0;0;0;48;2;0;0;0m▀\u001b[38;2;0;0;0;48;2;0;0;0m▀\u001b[38;2;0;0;0;48;2;0;0;0m▀\u001b[38;2;0;0;0;48;2;0;0;0m▀\u001b[38;2;0;0;0;48;2;0;0;0m▀\u001b[38;2;0;0;0;48;2;0;0;0m▀\u001b[38;2;0;0;0;48;2;0;0;0m▀\u001b[38;2;0;0;0;48;2;0;0;0m▀\u001b[38;2;0;0;0;48;2;0;0;0m▀\u001b[38;2;0;0;0;48;2;0;0;0m▀\u001b[38;2;0;0;0;48;2;0;0;0m▀\u001b[38;2;0;0;0;48;2;0;0;0m▀\u001b[38;2;0;0;0;48;2;0;0;0m▀\u001b[38;2;0;0;0;48;2;0;0;0m▀\u001b[38;2;0;0;0;48;2;0;0;0m▀\u001b[38;2;0;0;0;48;2;0;0;0m▀\u001b[38;2;0;0;0;48;2;0;0;0m▀\u001b[38;2;0;0;0;48;2;0;0;0m▀\u001b[38;2;0;0;0;48;2;0;0;0m▀\u001b[38;2;0;0;0;48;2;0;0;0m▀\u001b[38;2;0;0;0;48;2;0;0;0m▀\u001b[38;2;0;0;0;48;2;0;0;0m▀\u001b[38;2;0;0;0;48;2;0;0;0m▀\u001b[38;2;0;0;0;48;2;0;0;0m▀\u001b[38;2;0;0;0;48;2;0;0;0m▀\u001b[38;2;0;0;0;48;2;0;0;0m▀\u001b[38;2;0;0;0;48;2;0;0;0m▀\u001b[38;2;0;0;0;48;2;0;0;0m▀\u001b[38;2;0;0;0;48;2;0;0;0m▀\u001b[38;2;0;0;0;48;2;0;0;0m▀\u001b[38;2;0;0;0;48;2;0;0;0m▀\u001b[38;2;0;0;0;48;2;0;0;0m▀\u001b[38;2;0;0;0;48;2;0;0;0m▀\u001b[38;2;0;0;0;48;2;0;0;0m▀\u001b[38;2;0;0;0;48;2;0;0;0m▀\u001b[38;2;0;0;0;48;2;0;0;0m▀\u001b[38;2;0;0;0;48;2;0;0;0m▀\u001b[38;2;0;0;0;48;2;0;0;0m▀\u001b[38;2;0;0;0;48;2;0;0;0m▀\u001b[0m\n",
       "\u001b[0m\u001b[38;2;0;0;0;48;2;0;0;0m▀\u001b[38;2;0;0;0;48;2;0;0;0m▀\u001b[38;2;0;0;0;48;2;0;0;0m▀\u001b[38;2;0;0;0;48;2;0;0;0m▀\u001b[38;2;0;0;0;48;2;0;0;0m▀\u001b[38;2;0;0;0;48;2;0;0;0m▀\u001b[38;2;0;0;0;48;2;0;0;0m▀\u001b[38;2;0;0;0;48;2;0;0;0m▀\u001b[38;2;0;0;0;48;2;0;0;0m▀\u001b[38;2;0;0;0;48;2;0;0;0m▀\u001b[38;2;0;0;0;48;2;0;0;0m▀\u001b[38;2;0;0;0;48;2;0;0;0m▀\u001b[38;2;0;0;0;48;2;0;0;0m▀\u001b[38;2;0;0;0;48;2;0;0;0m▀\u001b[38;2;0;0;0;48;2;0;0;0m▀\u001b[38;2;0;0;0;48;2;0;0;0m▀\u001b[38;2;0;0;0;48;2;0;0;0m▀\u001b[38;2;0;0;0;48;2;0;0;0m▀\u001b[38;2;0;0;0;48;2;0;0;0m▀\u001b[38;2;0;0;0;48;2;0;0;0m▀\u001b[38;2;0;0;0;48;2;0;0;0m▀\u001b[38;2;0;0;0;48;2;0;0;0m▀\u001b[38;2;0;0;0;48;2;0;0;0m▀\u001b[38;2;0;0;0;48;2;0;0;0m▀\u001b[38;2;0;0;0;48;2;0;0;0m▀\u001b[38;2;0;0;0;48;2;0;0;0m▀\u001b[38;2;0;0;0;48;2;0;0;0m▀\u001b[38;2;0;0;0;48;2;0;0;0m▀\u001b[38;2;0;0;0;48;2;0;0;0m▀\u001b[38;2;0;0;0;48;2;0;0;0m▀\u001b[38;2;0;0;0;48;2;0;0;0m▀\u001b[38;2;0;0;0;48;2;0;0;0m▀\u001b[38;2;0;0;0;48;2;0;0;0m▀\u001b[38;2;0;0;0;48;2;0;0;0m▀\u001b[38;2;0;0;0;48;2;0;0;0m▀\u001b[38;2;0;0;0;48;2;0;0;0m▀\u001b[38;2;0;0;0;48;2;0;0;0m▀\u001b[38;2;0;0;0;48;2;0;0;0m▀\u001b[38;2;0;0;0;48;2;0;0;0m▀\u001b[38;2;0;0;0;48;2;0;0;0m▀\u001b[38;2;0;0;0;48;2;0;0;0m▀\u001b[38;2;0;0;0;48;2;0;0;0m▀\u001b[38;2;0;0;0;48;2;0;0;0m▀\u001b[38;2;0;0;0;48;2;0;0;0m▀\u001b[38;2;0;0;0;48;2;0;0;0m▀\u001b[38;2;0;0;0;48;2;0;0;0m▀\u001b[38;2;0;0;0;48;2;0;0;0m▀\u001b[38;2;0;0;0;48;2;0;0;0m▀\u001b[38;2;0;0;0;48;2;0;0;0m▀\u001b[38;2;0;0;0;48;2;0;0;0m▀\u001b[38;2;0;0;0;48;2;0;0;0m▀\u001b[38;2;0;0;0;48;2;0;0;0m▀\u001b[38;2;0;0;0;48;2;0;0;0m▀\u001b[38;2;0;0;0;48;2;0;0;0m▀\u001b[38;2;0;0;0;48;2;0;0;0m▀\u001b[38;2;0;0;0;48;2;0;0;0m▀\u001b[38;2;0;0;0;48;2;0;0;0m▀\u001b[0m\n",
       "\u001b[0m\u001b[38;2;0;0;0;48;2;0;0;0m▀\u001b[38;2;0;0;0;48;2;0;0;0m▀\u001b[38;2;0;0;0;48;2;0;0;0m▀\u001b[38;2;0;0;0;48;2;0;0;0m▀\u001b[38;2;0;0;0;48;2;0;0;0m▀\u001b[38;2;0;0;0;48;2;0;0;0m▀\u001b[38;2;0;0;0;48;2;0;0;0m▀\u001b[38;2;0;0;0;48;2;0;0;0m▀\u001b[38;2;0;0;0;48;2;0;0;0m▀\u001b[38;2;0;0;0;48;2;0;0;0m▀\u001b[38;2;0;0;0;48;2;0;0;0m▀\u001b[38;2;0;0;0;48;2;0;0;0m▀\u001b[38;2;0;0;0;48;2;0;0;0m▀\u001b[38;2;0;0;0;48;2;0;0;0m▀\u001b[38;2;0;0;0;48;2;0;0;0m▀\u001b[38;2;0;0;0;48;2;0;0;0m▀\u001b[38;2;0;0;0;48;2;0;0;0m▀\u001b[38;2;0;0;0;48;2;0;0;0m▀\u001b[38;2;0;0;0;48;2;0;0;0m▀\u001b[38;2;0;0;0;48;2;0;0;0m▀\u001b[38;2;0;0;0;48;2;0;0;0m▀\u001b[38;2;0;0;0;48;2;0;0;0m▀\u001b[38;2;0;0;0;48;2;0;0;0m▀\u001b[38;2;0;0;0;48;2;0;0;0m▀\u001b[38;2;0;0;0;48;2;0;0;0m▀\u001b[38;2;0;0;0;48;2;0;0;0m▀\u001b[38;2;0;0;0;48;2;0;0;0m▀\u001b[38;2;0;0;0;48;2;0;0;0m▀\u001b[38;2;0;0;0;48;2;0;0;0m▀\u001b[38;2;0;0;0;48;2;0;0;0m▀\u001b[38;2;0;0;0;48;2;0;0;0m▀\u001b[38;2;0;0;0;48;2;0;0;0m▀\u001b[38;2;0;0;0;48;2;2;2;2m▀\u001b[38;2;0;0;0;48;2;0;0;0m▀\u001b[38;2;0;0;0;48;2;0;0;0m▀\u001b[38;2;0;0;0;48;2;0;0;0m▀\u001b[38;2;0;0;0;48;2;1;1;1m▀\u001b[38;2;0;0;0;48;2;0;0;0m▀\u001b[38;2;0;0;0;48;2;0;0;0m▀\u001b[38;2;0;0;0;48;2;0;0;0m▀\u001b[38;2;0;0;0;48;2;4;4;4m▀\u001b[38;2;0;0;0;48;2;0;0;0m▀\u001b[38;2;0;0;0;48;2;4;4;4m▀\u001b[38;2;0;0;0;48;2;0;0;0m▀\u001b[38;2;0;0;0;48;2;1;1;1m▀\u001b[38;2;0;0;0;48;2;0;0;0m▀\u001b[38;2;0;0;0;48;2;0;0;0m▀\u001b[38;2;0;0;0;48;2;0;0;0m▀\u001b[38;2;0;0;0;48;2;0;0;0m▀\u001b[38;2;0;0;0;48;2;0;0;0m▀\u001b[38;2;0;0;0;48;2;0;0;0m▀\u001b[38;2;0;0;0;48;2;0;0;0m▀\u001b[38;2;0;0;0;48;2;0;0;0m▀\u001b[38;2;0;0;0;48;2;0;0;0m▀\u001b[38;2;0;0;0;48;2;0;0;0m▀\u001b[38;2;0;0;0;48;2;0;0;0m▀\u001b[38;2;0;0;0;48;2;0;0;0m▀\u001b[0m\n",
       "\u001b[0m\u001b[38;2;0;0;0;48;2;0;0;0m▀\u001b[38;2;0;0;0;48;2;0;0;0m▀\u001b[38;2;0;0;0;48;2;0;0;0m▀\u001b[38;2;0;0;0;48;2;0;0;0m▀\u001b[38;2;0;0;0;48;2;0;0;0m▀\u001b[38;2;0;0;0;48;2;0;0;0m▀\u001b[38;2;0;0;0;48;2;0;0;0m▀\u001b[38;2;0;0;0;48;2;0;0;0m▀\u001b[38;2;0;0;0;48;2;0;0;0m▀\u001b[38;2;0;0;0;48;2;0;0;0m▀\u001b[38;2;0;0;0;48;2;0;0;0m▀\u001b[38;2;0;0;0;48;2;0;0;0m▀\u001b[38;2;0;0;0;48;2;0;0;0m▀\u001b[38;2;0;0;0;48;2;0;0;0m▀\u001b[38;2;0;0;0;48;2;0;0;0m▀\u001b[38;2;0;0;0;48;2;0;0;0m▀\u001b[38;2;0;0;0;48;2;0;0;0m▀\u001b[38;2;0;0;0;48;2;0;0;0m▀\u001b[38;2;0;0;0;48;2;0;0;0m▀\u001b[38;2;0;0;0;48;2;0;0;0m▀\u001b[38;2;0;0;0;48;2;0;0;0m▀\u001b[38;2;0;0;0;48;2;0;0;0m▀\u001b[38;2;0;0;0;48;2;1;1;1m▀\u001b[38;2;0;0;0;48;2;0;0;0m▀\u001b[38;2;0;0;0;48;2;0;0;0m▀\u001b[38;2;0;0;0;48;2;0;0;0m▀\u001b[38;2;0;0;0;48;2;3;3;3m▀\u001b[38;2;0;0;0;48;2;0;0;0m▀\u001b[38;2;0;0;0;48;2;1;1;1m▀\u001b[38;2;0;0;0;48;2;0;0;0m▀\u001b[38;2;0;0;0;48;2;1;1;1m▀\u001b[38;2;0;0;0;48;2;0;0;0m▀\u001b[38;2;0;0;0;48;2;1;1;1m▀\u001b[38;2;0;0;0;48;2;0;0;0m▀\u001b[38;2;0;0;0;48;2;1;1;1m▀\u001b[38;2;0;0;0;48;2;0;0;0m▀\u001b[38;2;0;0;0;48;2;0;0;0m▀\u001b[38;2;0;0;0;48;2;0;0;0m▀\u001b[38;2;0;0;0;48;2;1;1;1m▀\u001b[38;2;0;0;0;48;2;0;0;0m▀\u001b[38;2;0;0;0;48;2;6;6;6m▀\u001b[38;2;0;0;0;48;2;0;0;0m▀\u001b[38;2;0;0;0;48;2;3;3;3m▀\u001b[38;2;0;0;0;48;2;0;0;0m▀\u001b[38;2;0;0;0;48;2;2;2;2m▀\u001b[38;2;0;0;0;48;2;0;0;0m▀\u001b[38;2;0;0;0;48;2;0;0;0m▀\u001b[38;2;0;0;0;48;2;0;0;0m▀\u001b[38;2;0;0;0;48;2;0;0;0m▀\u001b[38;2;0;0;0;48;2;0;0;0m▀\u001b[38;2;0;0;0;48;2;0;0;0m▀\u001b[38;2;0;0;0;48;2;0;0;0m▀\u001b[38;2;0;0;0;48;2;0;0;0m▀\u001b[38;2;0;0;0;48;2;0;0;0m▀\u001b[38;2;0;0;0;48;2;0;0;0m▀\u001b[38;2;0;0;0;48;2;0;0;0m▀\u001b[38;2;0;0;0;48;2;0;0;0m▀\u001b[0m\n",
       "\u001b[0m\u001b[38;2;0;0;0;48;2;0;0;0m▀\u001b[38;2;0;0;0;48;2;0;0;0m▀\u001b[38;2;0;0;0;48;2;0;0;0m▀\u001b[38;2;0;0;0;48;2;0;0;0m▀\u001b[38;2;0;0;0;48;2;0;0;0m▀\u001b[38;2;0;0;0;48;2;0;0;0m▀\u001b[38;2;0;0;0;48;2;0;0;0m▀\u001b[38;2;0;0;0;48;2;0;0;0m▀\u001b[38;2;0;0;0;48;2;0;0;0m▀\u001b[38;2;0;0;0;48;2;0;0;0m▀\u001b[38;2;0;0;0;48;2;0;0;0m▀\u001b[38;2;0;0;0;48;2;0;0;0m▀\u001b[38;2;0;0;0;48;2;0;0;0m▀\u001b[38;2;0;0;0;48;2;0;0;0m▀\u001b[38;2;0;0;0;48;2;2;2;2m▀\u001b[38;2;0;0;0;48;2;0;0;0m▀\u001b[38;2;0;0;0;48;2;9;9;9m▀\u001b[38;2;0;0;0;48;2;0;0;0m▀\u001b[38;2;0;0;0;48;2;2;2;2m▀\u001b[38;2;0;0;0;48;2;0;0;0m▀\u001b[38;2;0;0;0;48;2;1;1;1m▀\u001b[38;2;0;0;0;48;2;0;0;0m▀\u001b[38;2;0;0;0;48;2;1;1;1m▀\u001b[38;2;0;0;0;48;2;0;0;0m▀\u001b[38;2;0;0;0;48;2;1;1;1m▀\u001b[38;2;0;0;0;48;2;0;0;0m▀\u001b[38;2;0;0;0;48;2;1;1;1m▀\u001b[38;2;0;0;0;48;2;0;0;0m▀\u001b[38;2;0;0;0;48;2;1;1;1m▀\u001b[38;2;0;0;0;48;2;0;0;0m▀\u001b[38;2;0;0;0;48;2;2;2;2m▀\u001b[38;2;0;0;0;48;2;0;0;0m▀\u001b[38;2;0;0;0;48;2;2;2;2m▀\u001b[38;2;0;0;0;48;2;0;0;0m▀\u001b[38;2;0;0;0;48;2;1;1;1m▀\u001b[38;2;0;0;0;48;2;0;0;0m▀\u001b[38;2;0;0;0;48;2;0;0;0m▀\u001b[38;2;0;0;0;48;2;0;0;0m▀\u001b[38;2;1;1;1;48;2;1;1;1m▀\u001b[38;2;0;0;0;48;2;0;0;0m▀\u001b[38;2;4;4;4;48;2;2;2;2m▀\u001b[38;2;0;0;0;48;2;0;0;0m▀\u001b[38;2;6;6;6;48;2;0;0;0m▀\u001b[38;2;0;0;0;48;2;0;0;0m▀\u001b[38;2;6;6;6;48;2;0;0;0m▀\u001b[38;2;0;0;0;48;2;0;0;0m▀\u001b[38;2;3;3;3;48;2;0;0;0m▀\u001b[38;2;0;0;0;48;2;0;0;0m▀\u001b[38;2;1;1;1;48;2;0;0;0m▀\u001b[38;2;0;0;0;48;2;0;0;0m▀\u001b[38;2;0;0;0;48;2;0;0;0m▀\u001b[38;2;0;0;0;48;2;0;0;0m▀\u001b[38;2;0;0;0;48;2;0;0;0m▀\u001b[38;2;0;0;0;48;2;0;0;0m▀\u001b[38;2;0;0;0;48;2;0;0;0m▀\u001b[38;2;0;0;0;48;2;0;0;0m▀\u001b[38;2;0;0;0;48;2;0;0;0m▀\u001b[0m\n",
       "\u001b[0m\u001b[38;2;0;0;0;48;2;0;0;0m▀\u001b[38;2;0;0;0;48;2;0;0;0m▀\u001b[38;2;0;0;0;48;2;0;0;0m▀\u001b[38;2;0;0;0;48;2;0;0;0m▀\u001b[38;2;0;0;0;48;2;0;0;0m▀\u001b[38;2;0;0;0;48;2;0;0;0m▀\u001b[38;2;0;0;0;48;2;0;0;0m▀\u001b[38;2;0;0;0;48;2;0;0;0m▀\u001b[38;2;0;0;0;48;2;0;0;0m▀\u001b[38;2;0;0;0;48;2;0;0;0m▀\u001b[38;2;0;0;0;48;2;0;0;0m▀\u001b[38;2;0;0;0;48;2;0;0;0m▀\u001b[38;2;0;0;0;48;2;0;0;0m▀\u001b[38;2;0;0;0;48;2;0;0;0m▀\u001b[38;2;1;1;1;48;2;1;1;1m▀\u001b[38;2;0;0;0;48;2;0;0;0m▀\u001b[38;2;5;5;5;48;2;9;9;9m▀\u001b[38;2;0;0;0;48;2;0;0;0m▀\u001b[38;2;0;0;0;48;2;4;4;4m▀\u001b[38;2;0;0;0;48;2;0;0;0m▀\u001b[38;2;0;0;0;48;2;3;3;3m▀\u001b[38;2;0;0;0;48;2;0;0;0m▀\u001b[38;2;0;0;0;48;2;3;3;3m▀\u001b[38;2;0;0;0;48;2;0;0;0m▀\u001b[38;2;0;0;0;48;2;1;1;1m▀\u001b[38;2;0;0;0;48;2;0;0;0m▀\u001b[38;2;0;0;0;48;2;1;1;1m▀\u001b[38;2;0;0;0;48;2;0;0;0m▀\u001b[38;2;0;0;0;48;2;0;0;0m▀\u001b[38;2;0;0;0;48;2;0;0;0m▀\u001b[38;2;0;0;0;48;2;3;3;3m▀\u001b[38;2;0;0;0;48;2;0;0;0m▀\u001b[38;2;0;0;0;48;2;6;6;6m▀\u001b[38;2;0;0;0;48;2;0;0;0m▀\u001b[38;2;0;0;0;48;2;4;4;4m▀\u001b[38;2;0;0;0;48;2;0;0;0m▀\u001b[38;2;0;0;0;48;2;0;0;0m▀\u001b[38;2;0;0;0;48;2;0;0;0m▀\u001b[38;2;5;5;5;48;2;0;0;0m▀\u001b[38;2;0;0;0;48;2;0;0;0m▀\u001b[38;2;4;4;4;48;2;0;0;0m▀\u001b[38;2;0;0;0;48;2;0;0;0m▀\u001b[38;2;4;4;4;48;2;0;0;0m▀\u001b[38;2;0;0;0;48;2;0;0;0m▀\u001b[38;2;2;2;2;48;2;0;0;0m▀\u001b[38;2;0;0;0;48;2;0;0;0m▀\u001b[38;2;1;1;1;48;2;0;0;0m▀\u001b[38;2;0;0;0;48;2;0;0;0m▀\u001b[38;2;0;0;0;48;2;0;0;0m▀\u001b[38;2;0;0;0;48;2;0;0;0m▀\u001b[38;2;0;0;0;48;2;0;0;0m▀\u001b[38;2;0;0;0;48;2;0;0;0m▀\u001b[38;2;0;0;0;48;2;0;0;0m▀\u001b[38;2;0;0;0;48;2;0;0;0m▀\u001b[38;2;0;0;0;48;2;0;0;0m▀\u001b[38;2;0;0;0;48;2;0;0;0m▀\u001b[38;2;0;0;0;48;2;0;0;0m▀\u001b[0m\n",
       "\u001b[0m\u001b[38;2;0;0;0;48;2;0;0;0m▀\u001b[38;2;0;0;0;48;2;0;0;0m▀\u001b[38;2;0;0;0;48;2;0;0;0m▀\u001b[38;2;0;0;0;48;2;0;0;0m▀\u001b[38;2;0;0;0;48;2;0;0;0m▀\u001b[38;2;0;0;0;48;2;0;0;0m▀\u001b[38;2;0;0;0;48;2;0;0;0m▀\u001b[38;2;0;0;0;48;2;0;0;0m▀\u001b[38;2;0;0;0;48;2;0;0;0m▀\u001b[38;2;0;0;0;48;2;0;0;0m▀\u001b[38;2;0;0;0;48;2;0;0;0m▀\u001b[38;2;0;0;0;48;2;0;0;0m▀\u001b[38;2;0;0;0;48;2;0;0;0m▀\u001b[38;2;0;0;0;48;2;0;0;0m▀\u001b[38;2;1;1;1;48;2;0;0;0m▀\u001b[38;2;2;2;2;48;2;0;0;0m▀\u001b[38;2;7;7;7;48;2;4;4;4m▀\u001b[38;2;0;0;0;48;2;0;0;0m▀\u001b[38;2;4;4;4;48;2;5;5;5m▀\u001b[38;2;0;0;0;48;2;0;0;0m▀\u001b[38;2;0;0;0;48;2;1;1;1m▀\u001b[38;2;0;0;0;48;2;0;0;0m▀\u001b[38;2;2;2;2;48;2;8;8;8m▀\u001b[38;2;0;0;0;48;2;0;0;0m▀\u001b[38;2;0;0;0;48;2;2;2;2m▀\u001b[38;2;0;0;0;48;2;0;0;0m▀\u001b[38;2;0;0;0;48;2;0;0;0m▀\u001b[38;2;0;0;0;48;2;0;0;0m▀\u001b[38;2;0;0;0;48;2;0;0;0m▀\u001b[38;2;0;0;0;48;2;0;0;0m▀\u001b[38;2;9;9;9;48;2;0;0;0m▀\u001b[38;2;0;0;0;48;2;0;0;0m▀\u001b[38;2;11;11;11;48;2;2;2;2m▀\u001b[38;2;0;0;0;48;2;0;0;0m▀\u001b[38;2;8;8;8;48;2;6;6;6m▀\u001b[38;2;0;0;0;48;2;0;0;0m▀\u001b[38;2;0;0;0;48;2;0;0;0m▀\u001b[38;2;0;0;0;48;2;0;0;0m▀\u001b[38;2;0;0;0;48;2;0;0;0m▀\u001b[38;2;0;0;0;48;2;0;0;0m▀\u001b[38;2;0;0;0;48;2;0;0;0m▀\u001b[38;2;0;0;0;48;2;0;0;0m▀\u001b[38;2;0;0;0;48;2;0;0;0m▀\u001b[38;2;0;0;0;48;2;0;0;0m▀\u001b[38;2;0;0;0;48;2;0;0;0m▀\u001b[38;2;0;0;0;48;2;0;0;0m▀\u001b[38;2;0;0;0;48;2;0;0;0m▀\u001b[38;2;0;0;0;48;2;0;0;0m▀\u001b[38;2;0;0;0;48;2;0;0;0m▀\u001b[38;2;0;0;0;48;2;0;0;0m▀\u001b[38;2;0;0;0;48;2;0;0;0m▀\u001b[38;2;0;0;0;48;2;0;0;0m▀\u001b[38;2;0;0;0;48;2;0;0;0m▀\u001b[38;2;0;0;0;48;2;0;0;0m▀\u001b[38;2;0;0;0;48;2;0;0;0m▀\u001b[38;2;0;0;0;48;2;0;0;0m▀\u001b[38;2;0;0;0;48;2;0;0;0m▀\u001b[0m\n",
       "\u001b[0m\u001b[38;2;0;0;0;48;2;0;0;0m▀\u001b[38;2;0;0;0;48;2;0;0;0m▀\u001b[38;2;0;0;0;48;2;0;0;0m▀\u001b[38;2;0;0;0;48;2;0;0;0m▀\u001b[38;2;0;0;0;48;2;0;0;0m▀\u001b[38;2;0;0;0;48;2;0;0;0m▀\u001b[38;2;0;0;0;48;2;0;0;0m▀\u001b[38;2;0;0;0;48;2;0;0;0m▀\u001b[38;2;0;0;0;48;2;0;0;0m▀\u001b[38;2;0;0;0;48;2;0;0;0m▀\u001b[38;2;0;0;0;48;2;0;0;0m▀\u001b[38;2;0;0;0;48;2;0;0;0m▀\u001b[38;2;0;0;0;48;2;0;0;0m▀\u001b[38;2;0;0;0;48;2;0;0;0m▀\u001b[38;2;0;0;0;48;2;0;0;0m▀\u001b[38;2;1;1;1;48;2;0;0;0m▀\u001b[38;2;3;3;3;48;2;0;0;0m▀\u001b[38;2;1;1;1;48;2;0;0;0m▀\u001b[38;2;7;7;7;48;2;1;1;1m▀\u001b[38;2;0;0;0;48;2;0;0;0m▀\u001b[38;2;6;6;6;48;2;0;0;0m▀\u001b[38;2;0;0;0;48;2;0;0;0m▀\u001b[38;2;9;9;9;48;2;7;7;7m▀\u001b[38;2;0;0;0;48;2;0;0;0m▀\u001b[38;2;0;0;0;48;2;5;5;5m▀\u001b[38;2;0;0;0;48;2;0;0;0m▀\u001b[38;2;0;0;0;48;2;0;0;0m▀\u001b[38;2;0;0;0;48;2;0;0;0m▀\u001b[38;2;0;0;0;48;2;0;0;0m▀\u001b[38;2;0;0;0;48;2;0;0;0m▀\u001b[38;2;0;0;0;48;2;0;0;0m▀\u001b[38;2;1;1;1;48;2;0;0;0m▀\u001b[38;2;1;1;1;48;2;0;0;0m▀\u001b[38;2;2;2;2;48;2;0;0;0m▀\u001b[38;2;6;6;6;48;2;0;0;0m▀\u001b[38;2;0;0;0;48;2;0;0;0m▀\u001b[38;2;3;3;3;48;2;0;0;0m▀\u001b[38;2;0;0;0;48;2;0;0;0m▀\u001b[38;2;0;0;0;48;2;0;0;0m▀\u001b[38;2;0;0;0;48;2;0;0;0m▀\u001b[38;2;0;0;0;48;2;0;0;0m▀\u001b[38;2;0;0;0;48;2;0;0;0m▀\u001b[38;2;0;0;0;48;2;0;0;0m▀\u001b[38;2;0;0;0;48;2;0;0;0m▀\u001b[38;2;0;0;0;48;2;0;0;0m▀\u001b[38;2;0;0;0;48;2;0;0;0m▀\u001b[38;2;0;0;0;48;2;0;0;0m▀\u001b[38;2;0;0;0;48;2;0;0;0m▀\u001b[38;2;0;0;0;48;2;0;0;0m▀\u001b[38;2;0;0;0;48;2;0;0;0m▀\u001b[38;2;0;0;0;48;2;0;0;0m▀\u001b[38;2;0;0;0;48;2;0;0;0m▀\u001b[38;2;0;0;0;48;2;0;0;0m▀\u001b[38;2;0;0;0;48;2;0;0;0m▀\u001b[38;2;0;0;0;48;2;0;0;0m▀\u001b[38;2;0;0;0;48;2;0;0;0m▀\u001b[38;2;0;0;0;48;2;0;0;0m▀\u001b[0m\n",
       "\u001b[0m\u001b[38;2;0;0;0;48;2;0;0;0m▀\u001b[38;2;0;0;0;48;2;0;0;0m▀\u001b[38;2;0;0;0;48;2;0;0;0m▀\u001b[38;2;0;0;0;48;2;0;0;0m▀\u001b[38;2;0;0;0;48;2;0;0;0m▀\u001b[38;2;0;0;0;48;2;0;0;0m▀\u001b[38;2;0;0;0;48;2;0;0;0m▀\u001b[38;2;0;0;0;48;2;0;0;0m▀\u001b[38;2;0;0;0;48;2;0;0;0m▀\u001b[38;2;0;0;0;48;2;0;0;0m▀\u001b[38;2;0;0;0;48;2;0;0;0m▀\u001b[38;2;0;0;0;48;2;0;0;0m▀\u001b[38;2;0;0;0;48;2;0;0;0m▀\u001b[38;2;0;0;0;48;2;0;0;0m▀\u001b[38;2;0;0;0;48;2;0;0;0m▀\u001b[38;2;0;0;0;48;2;0;0;0m▀\u001b[38;2;0;0;0;48;2;0;0;0m▀\u001b[38;2;0;0;0;48;2;0;0;0m▀\u001b[38;2;0;0;0;48;2;0;0;0m▀\u001b[38;2;0;0;0;48;2;0;0;0m▀\u001b[38;2;0;0;0;48;2;0;0;0m▀\u001b[38;2;0;0;0;48;2;0;0;0m▀\u001b[38;2;4;4;4;48;2;6;6;6m▀\u001b[38;2;0;0;0;48;2;0;0;0m▀\u001b[38;2;0;0;0;48;2;7;7;7m▀\u001b[38;2;0;0;0;48;2;0;0;0m▀\u001b[38;2;0;0;0;48;2;0;0;0m▀\u001b[38;2;0;0;0;48;2;0;0;0m▀\u001b[38;2;0;0;0;48;2;0;0;0m▀\u001b[38;2;0;0;0;48;2;0;0;0m▀\u001b[38;2;0;0;0;48;2;0;0;0m▀\u001b[38;2;0;0;0;48;2;0;0;0m▀\u001b[38;2;0;0;0;48;2;0;0;0m▀\u001b[38;2;0;0;0;48;2;0;0;0m▀\u001b[38;2;0;0;0;48;2;0;0;0m▀\u001b[38;2;0;0;0;48;2;0;0;0m▀\u001b[38;2;0;0;0;48;2;0;0;0m▀\u001b[38;2;0;0;0;48;2;0;0;0m▀\u001b[38;2;0;0;0;48;2;0;0;0m▀\u001b[38;2;0;0;0;48;2;0;0;0m▀\u001b[38;2;0;0;0;48;2;0;0;0m▀\u001b[38;2;0;0;0;48;2;0;0;0m▀\u001b[38;2;0;0;0;48;2;0;0;0m▀\u001b[38;2;0;0;0;48;2;0;0;0m▀\u001b[38;2;0;0;0;48;2;0;0;0m▀\u001b[38;2;0;0;0;48;2;0;0;0m▀\u001b[38;2;0;0;0;48;2;0;0;0m▀\u001b[38;2;0;0;0;48;2;0;0;0m▀\u001b[38;2;0;0;0;48;2;0;0;0m▀\u001b[38;2;0;0;0;48;2;0;0;0m▀\u001b[38;2;0;0;0;48;2;0;0;0m▀\u001b[38;2;0;0;0;48;2;0;0;0m▀\u001b[38;2;0;0;0;48;2;0;0;0m▀\u001b[38;2;0;0;0;48;2;0;0;0m▀\u001b[38;2;0;0;0;48;2;0;0;0m▀\u001b[38;2;0;0;0;48;2;0;0;0m▀\u001b[38;2;0;0;0;48;2;0;0;0m▀\u001b[0m\n",
       "\u001b[0m\u001b[38;2;0;0;0;48;2;0;0;0m▀\u001b[38;2;0;0;0;48;2;0;0;0m▀\u001b[38;2;0;0;0;48;2;0;0;0m▀\u001b[38;2;0;0;0;48;2;0;0;0m▀\u001b[38;2;0;0;0;48;2;0;0;0m▀\u001b[38;2;0;0;0;48;2;0;0;0m▀\u001b[38;2;0;0;0;48;2;0;0;0m▀\u001b[38;2;0;0;0;48;2;0;0;0m▀\u001b[38;2;0;0;0;48;2;0;0;0m▀\u001b[38;2;0;0;0;48;2;0;0;0m▀\u001b[38;2;0;0;0;48;2;0;0;0m▀\u001b[38;2;0;0;0;48;2;0;0;0m▀\u001b[38;2;0;0;0;48;2;0;0;0m▀\u001b[38;2;0;0;0;48;2;0;0;0m▀\u001b[38;2;0;0;0;48;2;0;0;0m▀\u001b[38;2;0;0;0;48;2;0;0;0m▀\u001b[38;2;0;0;0;48;2;0;0;0m▀\u001b[38;2;0;0;0;48;2;0;0;0m▀\u001b[38;2;0;0;0;48;2;0;0;0m▀\u001b[38;2;0;0;0;48;2;0;0;0m▀\u001b[38;2;0;0;0;48;2;0;0;0m▀\u001b[38;2;2;2;2;48;2;0;0;0m▀\u001b[38;2;4;4;4;48;2;1;1;1m▀\u001b[38;2;0;0;0;48;2;0;0;0m▀\u001b[38;2;9;9;9;48;2;8;8;8m▀\u001b[38;2;0;0;0;48;2;0;0;0m▀\u001b[38;2;0;0;0;48;2;6;6;6m▀\u001b[38;2;0;0;0;48;2;0;0;0m▀\u001b[38;2;0;0;0;48;2;0;0;0m▀\u001b[38;2;0;0;0;48;2;0;0;0m▀\u001b[38;2;0;0;0;48;2;0;0;0m▀\u001b[38;2;0;0;0;48;2;0;0;0m▀\u001b[38;2;0;0;0;48;2;0;0;0m▀\u001b[38;2;0;0;0;48;2;0;0;0m▀\u001b[38;2;0;0;0;48;2;0;0;0m▀\u001b[38;2;0;0;0;48;2;0;0;0m▀\u001b[38;2;0;0;0;48;2;0;0;0m▀\u001b[38;2;0;0;0;48;2;0;0;0m▀\u001b[38;2;0;0;0;48;2;0;0;0m▀\u001b[38;2;0;0;0;48;2;0;0;0m▀\u001b[38;2;0;0;0;48;2;0;0;0m▀\u001b[38;2;0;0;0;48;2;0;0;0m▀\u001b[38;2;0;0;0;48;2;0;0;0m▀\u001b[38;2;0;0;0;48;2;0;0;0m▀\u001b[38;2;0;0;0;48;2;0;0;0m▀\u001b[38;2;0;0;0;48;2;0;0;0m▀\u001b[38;2;0;0;0;48;2;0;0;0m▀\u001b[38;2;0;0;0;48;2;0;0;0m▀\u001b[38;2;0;0;0;48;2;0;0;0m▀\u001b[38;2;0;0;0;48;2;0;0;0m▀\u001b[38;2;0;0;0;48;2;0;0;0m▀\u001b[38;2;0;0;0;48;2;0;0;0m▀\u001b[38;2;0;0;0;48;2;0;0;0m▀\u001b[38;2;0;0;0;48;2;0;0;0m▀\u001b[38;2;0;0;0;48;2;0;0;0m▀\u001b[38;2;0;0;0;48;2;0;0;0m▀\u001b[38;2;0;0;0;48;2;0;0;0m▀\u001b[0m\n",
       "\u001b[0m\u001b[38;2;0;0;0;48;2;0;0;0m▀\u001b[38;2;0;0;0;48;2;0;0;0m▀\u001b[38;2;0;0;0;48;2;0;0;0m▀\u001b[38;2;0;0;0;48;2;0;0;0m▀\u001b[38;2;0;0;0;48;2;0;0;0m▀\u001b[38;2;0;0;0;48;2;0;0;0m▀\u001b[38;2;0;0;0;48;2;0;0;0m▀\u001b[38;2;0;0;0;48;2;0;0;0m▀\u001b[38;2;0;0;0;48;2;0;0;0m▀\u001b[38;2;0;0;0;48;2;0;0;0m▀\u001b[38;2;0;0;0;48;2;0;0;0m▀\u001b[38;2;0;0;0;48;2;0;0;0m▀\u001b[38;2;0;0;0;48;2;0;0;0m▀\u001b[38;2;0;0;0;48;2;0;0;0m▀\u001b[38;2;0;0;0;48;2;0;0;0m▀\u001b[38;2;0;0;0;48;2;0;0;0m▀\u001b[38;2;0;0;0;48;2;0;0;0m▀\u001b[38;2;0;0;0;48;2;0;0;0m▀\u001b[38;2;0;0;0;48;2;0;0;0m▀\u001b[38;2;0;0;0;48;2;0;0;0m▀\u001b[38;2;0;0;0;48;2;0;0;0m▀\u001b[38;2;0;0;0;48;2;0;0;0m▀\u001b[38;2;0;0;0;48;2;0;0;0m▀\u001b[38;2;2;2;2;48;2;0;0;0m▀\u001b[38;2;6;6;6;48;2;2;2;2m▀\u001b[38;2;0;0;0;48;2;0;0;0m▀\u001b[38;2;7;7;7;48;2;10;10;10m▀\u001b[38;2;0;0;0;48;2;0;0;0m▀\u001b[38;2;0;0;0;48;2;2;2;2m▀\u001b[38;2;0;0;0;48;2;0;0;0m▀\u001b[38;2;0;0;0;48;2;0;0;0m▀\u001b[38;2;0;0;0;48;2;0;0;0m▀\u001b[38;2;0;0;0;48;2;0;0;0m▀\u001b[38;2;0;0;0;48;2;0;0;0m▀\u001b[38;2;0;0;0;48;2;0;0;0m▀\u001b[38;2;0;0;0;48;2;0;0;0m▀\u001b[38;2;0;0;0;48;2;0;0;0m▀\u001b[38;2;0;0;0;48;2;0;0;0m▀\u001b[38;2;0;0;0;48;2;0;0;0m▀\u001b[38;2;0;0;0;48;2;0;0;0m▀\u001b[38;2;0;0;0;48;2;0;0;0m▀\u001b[38;2;0;0;0;48;2;0;0;0m▀\u001b[38;2;0;0;0;48;2;0;0;0m▀\u001b[38;2;0;0;0;48;2;0;0;0m▀\u001b[38;2;0;0;0;48;2;0;0;0m▀\u001b[38;2;0;0;0;48;2;0;0;0m▀\u001b[38;2;0;0;0;48;2;0;0;0m▀\u001b[38;2;0;0;0;48;2;0;0;0m▀\u001b[38;2;0;0;0;48;2;0;0;0m▀\u001b[38;2;0;0;0;48;2;0;0;0m▀\u001b[38;2;0;0;0;48;2;0;0;0m▀\u001b[38;2;0;0;0;48;2;0;0;0m▀\u001b[38;2;0;0;0;48;2;0;0;0m▀\u001b[38;2;0;0;0;48;2;0;0;0m▀\u001b[38;2;0;0;0;48;2;0;0;0m▀\u001b[38;2;0;0;0;48;2;0;0;0m▀\u001b[38;2;0;0;0;48;2;0;0;0m▀\u001b[0m\n",
       "\u001b[0m\u001b[38;2;0;0;0;48;2;0;0;0m▀\u001b[38;2;0;0;0;48;2;0;0;0m▀\u001b[38;2;0;0;0;48;2;0;0;0m▀\u001b[38;2;0;0;0;48;2;0;0;0m▀\u001b[38;2;0;0;0;48;2;0;0;0m▀\u001b[38;2;0;0;0;48;2;0;0;0m▀\u001b[38;2;0;0;0;48;2;0;0;0m▀\u001b[38;2;0;0;0;48;2;0;0;0m▀\u001b[38;2;0;0;0;48;2;0;0;0m▀\u001b[38;2;0;0;0;48;2;0;0;0m▀\u001b[38;2;0;0;0;48;2;0;0;0m▀\u001b[38;2;0;0;0;48;2;0;0;0m▀\u001b[38;2;0;0;0;48;2;0;0;0m▀\u001b[38;2;0;0;0;48;2;0;0;0m▀\u001b[38;2;0;0;0;48;2;0;0;0m▀\u001b[38;2;0;0;0;48;2;0;0;0m▀\u001b[38;2;0;0;0;48;2;0;0;0m▀\u001b[38;2;0;0;0;48;2;0;0;0m▀\u001b[38;2;0;0;0;48;2;0;0;0m▀\u001b[38;2;0;0;0;48;2;0;0;0m▀\u001b[38;2;0;0;0;48;2;0;0;0m▀\u001b[38;2;0;0;0;48;2;0;0;0m▀\u001b[38;2;0;0;0;48;2;0;0;0m▀\u001b[38;2;1;1;1;48;2;0;0;0m▀\u001b[38;2;1;1;1;48;2;0;0;0m▀\u001b[38;2;2;2;2;48;2;0;0;0m▀\u001b[38;2;8;8;8;48;2;4;4;4m▀\u001b[38;2;0;0;0;48;2;0;0;0m▀\u001b[38;2;3;3;3;48;2;9;9;9m▀\u001b[38;2;0;0;0;48;2;0;0;0m▀\u001b[38;2;0;0;0;48;2;4;4;4m▀\u001b[38;2;0;0;0;48;2;0;0;0m▀\u001b[38;2;0;0;0;48;2;2;2;2m▀\u001b[38;2;0;0;0;48;2;0;0;0m▀\u001b[38;2;0;0;0;48;2;0;0;0m▀\u001b[38;2;0;0;0;48;2;0;0;0m▀\u001b[38;2;0;0;0;48;2;0;0;0m▀\u001b[38;2;0;0;0;48;2;0;0;0m▀\u001b[38;2;0;0;0;48;2;0;0;0m▀\u001b[38;2;0;0;0;48;2;0;0;0m▀\u001b[38;2;0;0;0;48;2;0;0;0m▀\u001b[38;2;0;0;0;48;2;0;0;0m▀\u001b[38;2;0;0;0;48;2;0;0;0m▀\u001b[38;2;0;0;0;48;2;0;0;0m▀\u001b[38;2;0;0;0;48;2;0;0;0m▀\u001b[38;2;0;0;0;48;2;0;0;0m▀\u001b[38;2;0;0;0;48;2;0;0;0m▀\u001b[38;2;0;0;0;48;2;0;0;0m▀\u001b[38;2;0;0;0;48;2;0;0;0m▀\u001b[38;2;0;0;0;48;2;0;0;0m▀\u001b[38;2;0;0;0;48;2;0;0;0m▀\u001b[38;2;0;0;0;48;2;0;0;0m▀\u001b[38;2;0;0;0;48;2;0;0;0m▀\u001b[38;2;0;0;0;48;2;0;0;0m▀\u001b[38;2;0;0;0;48;2;0;0;0m▀\u001b[38;2;0;0;0;48;2;0;0;0m▀\u001b[38;2;0;0;0;48;2;0;0;0m▀\u001b[0m\n",
       "\u001b[0m\u001b[38;2;0;0;0;48;2;0;0;0m▀\u001b[38;2;0;0;0;48;2;0;0;0m▀\u001b[38;2;0;0;0;48;2;0;0;0m▀\u001b[38;2;0;0;0;48;2;0;0;0m▀\u001b[38;2;0;0;0;48;2;0;0;0m▀\u001b[38;2;0;0;0;48;2;0;0;0m▀\u001b[38;2;0;0;0;48;2;0;0;0m▀\u001b[38;2;0;0;0;48;2;0;0;0m▀\u001b[38;2;0;0;0;48;2;0;0;0m▀\u001b[38;2;0;0;0;48;2;0;0;0m▀\u001b[38;2;0;0;0;48;2;0;0;0m▀\u001b[38;2;0;0;0;48;2;0;0;0m▀\u001b[38;2;0;0;0;48;2;0;0;0m▀\u001b[38;2;0;0;0;48;2;0;0;0m▀\u001b[38;2;0;0;0;48;2;0;0;0m▀\u001b[38;2;0;0;0;48;2;0;0;0m▀\u001b[38;2;0;0;0;48;2;0;0;0m▀\u001b[38;2;0;0;0;48;2;0;0;0m▀\u001b[38;2;0;0;0;48;2;0;0;0m▀\u001b[38;2;0;0;0;48;2;0;0;0m▀\u001b[38;2;0;0;0;48;2;0;0;0m▀\u001b[38;2;0;0;0;48;2;0;0;0m▀\u001b[38;2;0;0;0;48;2;0;0;0m▀\u001b[38;2;0;0;0;48;2;0;0;0m▀\u001b[38;2;0;0;0;48;2;0;0;0m▀\u001b[38;2;1;1;1;48;2;0;0;0m▀\u001b[38;2;3;3;3;48;2;0;0;0m▀\u001b[38;2;2;2;2;48;2;0;0;0m▀\u001b[38;2;9;9;9;48;2;2;2;2m▀\u001b[38;2;0;0;0;48;2;0;0;0m▀\u001b[38;2;8;8;8;48;2;7;7;7m▀\u001b[38;2;0;0;0;48;2;0;0;0m▀\u001b[38;2;0;0;0;48;2;6;6;6m▀\u001b[38;2;0;0;0;48;2;0;0;0m▀\u001b[38;2;0;0;0;48;2;3;3;3m▀\u001b[38;2;0;0;0;48;2;0;0;0m▀\u001b[38;2;0;0;0;48;2;0;0;0m▀\u001b[38;2;0;0;0;48;2;0;0;0m▀\u001b[38;2;0;0;0;48;2;0;0;0m▀\u001b[38;2;0;0;0;48;2;0;0;0m▀\u001b[38;2;0;0;0;48;2;0;0;0m▀\u001b[38;2;0;0;0;48;2;0;0;0m▀\u001b[38;2;0;0;0;48;2;0;0;0m▀\u001b[38;2;0;0;0;48;2;0;0;0m▀\u001b[38;2;0;0;0;48;2;0;0;0m▀\u001b[38;2;0;0;0;48;2;0;0;0m▀\u001b[38;2;0;0;0;48;2;0;0;0m▀\u001b[38;2;0;0;0;48;2;0;0;0m▀\u001b[38;2;0;0;0;48;2;0;0;0m▀\u001b[38;2;0;0;0;48;2;0;0;0m▀\u001b[38;2;0;0;0;48;2;0;0;0m▀\u001b[38;2;0;0;0;48;2;0;0;0m▀\u001b[38;2;0;0;0;48;2;0;0;0m▀\u001b[38;2;0;0;0;48;2;0;0;0m▀\u001b[38;2;0;0;0;48;2;0;0;0m▀\u001b[38;2;0;0;0;48;2;0;0;0m▀\u001b[38;2;0;0;0;48;2;0;0;0m▀\u001b[0m\n",
       "\u001b[0m\u001b[38;2;0;0;0;48;2;0;0;0m▀\u001b[38;2;0;0;0;48;2;0;0;0m▀\u001b[38;2;0;0;0;48;2;0;0;0m▀\u001b[38;2;0;0;0;48;2;0;0;0m▀\u001b[38;2;0;0;0;48;2;0;0;0m▀\u001b[38;2;0;0;0;48;2;0;0;0m▀\u001b[38;2;0;0;0;48;2;0;0;0m▀\u001b[38;2;0;0;0;48;2;0;0;0m▀\u001b[38;2;0;0;0;48;2;0;0;0m▀\u001b[38;2;0;0;0;48;2;0;0;0m▀\u001b[38;2;0;0;0;48;2;0;0;0m▀\u001b[38;2;0;0;0;48;2;0;0;0m▀\u001b[38;2;0;0;0;48;2;0;0;0m▀\u001b[38;2;0;0;0;48;2;0;0;0m▀\u001b[38;2;0;0;0;48;2;0;0;0m▀\u001b[38;2;0;0;0;48;2;0;0;0m▀\u001b[38;2;0;0;0;48;2;0;0;0m▀\u001b[38;2;0;0;0;48;2;0;0;0m▀\u001b[38;2;0;0;0;48;2;0;0;0m▀\u001b[38;2;0;0;0;48;2;0;0;0m▀\u001b[38;2;0;0;0;48;2;0;0;0m▀\u001b[38;2;0;0;0;48;2;0;0;0m▀\u001b[38;2;0;0;0;48;2;0;0;0m▀\u001b[38;2;0;0;0;48;2;0;0;0m▀\u001b[38;2;0;0;0;48;2;0;0;0m▀\u001b[38;2;0;0;0;48;2;0;0;0m▀\u001b[38;2;0;0;0;48;2;0;0;0m▀\u001b[38;2;1;1;1;48;2;0;0;0m▀\u001b[38;2;1;1;1;48;2;0;0;0m▀\u001b[38;2;2;2;2;48;2;0;0;0m▀\u001b[38;2;7;7;7;48;2;1;1;1m▀\u001b[38;2;0;0;0;48;2;0;0;0m▀\u001b[38;2;10;10;10;48;2;4;4;4m▀\u001b[38;2;0;0;0;48;2;0;0;0m▀\u001b[38;2;3;3;3;48;2;8;8;8m▀\u001b[38;2;0;0;0;48;2;0;0;0m▀\u001b[38;2;0;0;0;48;2;1;1;1m▀\u001b[38;2;0;0;0;48;2;0;0;0m▀\u001b[38;2;0;0;0;48;2;0;0;0m▀\u001b[38;2;0;0;0;48;2;0;0;0m▀\u001b[38;2;0;0;0;48;2;0;0;0m▀\u001b[38;2;0;0;0;48;2;0;0;0m▀\u001b[38;2;0;0;0;48;2;0;0;0m▀\u001b[38;2;0;0;0;48;2;0;0;0m▀\u001b[38;2;0;0;0;48;2;0;0;0m▀\u001b[38;2;0;0;0;48;2;0;0;0m▀\u001b[38;2;0;0;0;48;2;0;0;0m▀\u001b[38;2;0;0;0;48;2;0;0;0m▀\u001b[38;2;0;0;0;48;2;0;0;0m▀\u001b[38;2;0;0;0;48;2;0;0;0m▀\u001b[38;2;0;0;0;48;2;0;0;0m▀\u001b[38;2;0;0;0;48;2;0;0;0m▀\u001b[38;2;0;0;0;48;2;0;0;0m▀\u001b[38;2;0;0;0;48;2;0;0;0m▀\u001b[38;2;0;0;0;48;2;0;0;0m▀\u001b[38;2;0;0;0;48;2;0;0;0m▀\u001b[38;2;0;0;0;48;2;0;0;0m▀\u001b[0m\n",
       "\u001b[0m\u001b[38;2;0;0;0;48;2;0;0;0m▀\u001b[38;2;0;0;0;48;2;0;0;0m▀\u001b[38;2;0;0;0;48;2;0;0;0m▀\u001b[38;2;0;0;0;48;2;0;0;0m▀\u001b[38;2;0;0;0;48;2;0;0;0m▀\u001b[38;2;0;0;0;48;2;0;0;0m▀\u001b[38;2;0;0;0;48;2;0;0;0m▀\u001b[38;2;0;0;0;48;2;0;0;0m▀\u001b[38;2;0;0;0;48;2;0;0;0m▀\u001b[38;2;0;0;0;48;2;0;0;0m▀\u001b[38;2;0;0;0;48;2;0;0;0m▀\u001b[38;2;0;0;0;48;2;0;0;0m▀\u001b[38;2;0;0;0;48;2;0;0;0m▀\u001b[38;2;0;0;0;48;2;0;0;0m▀\u001b[38;2;0;0;0;48;2;0;0;0m▀\u001b[38;2;0;0;0;48;2;0;0;0m▀\u001b[38;2;0;0;0;48;2;0;0;0m▀\u001b[38;2;0;0;0;48;2;0;0;0m▀\u001b[38;2;0;0;0;48;2;0;0;0m▀\u001b[38;2;0;0;0;48;2;0;0;0m▀\u001b[38;2;0;0;0;48;2;0;0;0m▀\u001b[38;2;0;0;0;48;2;0;0;0m▀\u001b[38;2;0;0;0;48;2;0;0;0m▀\u001b[38;2;0;0;0;48;2;0;0;0m▀\u001b[38;2;0;0;0;48;2;0;0;0m▀\u001b[38;2;0;0;0;48;2;0;0;0m▀\u001b[38;2;0;0;0;48;2;0;0;0m▀\u001b[38;2;0;0;0;48;2;0;0;0m▀\u001b[38;2;0;0;0;48;2;0;0;0m▀\u001b[38;2;0;0;0;48;2;0;0;0m▀\u001b[38;2;1;1;1;48;2;0;0;0m▀\u001b[38;2;1;1;1;48;2;0;0;0m▀\u001b[38;2;3;3;3;48;2;0;0;0m▀\u001b[38;2;0;0;0;48;2;0;0;0m▀\u001b[38;2;8;8;8;48;2;9;9;9m▀\u001b[38;2;0;0;0;48;2;0;0;0m▀\u001b[38;2;0;0;0;48;2;1;1;1m▀\u001b[38;2;0;0;0;48;2;0;0;0m▀\u001b[38;2;0;0;0;48;2;1;1;1m▀\u001b[38;2;0;0;0;48;2;0;0;0m▀\u001b[38;2;0;0;0;48;2;0;0;0m▀\u001b[38;2;0;0;0;48;2;0;0;0m▀\u001b[38;2;0;0;0;48;2;0;0;0m▀\u001b[38;2;0;0;0;48;2;0;0;0m▀\u001b[38;2;0;0;0;48;2;0;0;0m▀\u001b[38;2;0;0;0;48;2;0;0;0m▀\u001b[38;2;0;0;0;48;2;0;0;0m▀\u001b[38;2;0;0;0;48;2;0;0;0m▀\u001b[38;2;0;0;0;48;2;0;0;0m▀\u001b[38;2;0;0;0;48;2;0;0;0m▀\u001b[38;2;0;0;0;48;2;0;0;0m▀\u001b[38;2;0;0;0;48;2;0;0;0m▀\u001b[38;2;0;0;0;48;2;0;0;0m▀\u001b[38;2;0;0;0;48;2;0;0;0m▀\u001b[38;2;0;0;0;48;2;0;0;0m▀\u001b[38;2;0;0;0;48;2;0;0;0m▀\u001b[38;2;0;0;0;48;2;0;0;0m▀\u001b[0m\n",
       "\u001b[0m\u001b[38;2;0;0;0;48;2;0;0;0m▀\u001b[38;2;0;0;0;48;2;0;0;0m▀\u001b[38;2;0;0;0;48;2;0;0;0m▀\u001b[38;2;0;0;0;48;2;0;0;0m▀\u001b[38;2;0;0;0;48;2;0;0;0m▀\u001b[38;2;0;0;0;48;2;0;0;0m▀\u001b[38;2;0;0;0;48;2;0;0;0m▀\u001b[38;2;0;0;0;48;2;0;0;0m▀\u001b[38;2;0;0;0;48;2;0;0;0m▀\u001b[38;2;0;0;0;48;2;0;0;0m▀\u001b[38;2;0;0;0;48;2;0;0;0m▀\u001b[38;2;0;0;0;48;2;0;0;0m▀\u001b[38;2;0;0;0;48;2;0;0;0m▀\u001b[38;2;0;0;0;48;2;0;0;0m▀\u001b[38;2;0;0;0;48;2;0;0;0m▀\u001b[38;2;0;0;0;48;2;0;0;0m▀\u001b[38;2;0;0;0;48;2;0;0;0m▀\u001b[38;2;0;0;0;48;2;0;0;0m▀\u001b[38;2;0;0;0;48;2;0;0;0m▀\u001b[38;2;0;0;0;48;2;0;0;0m▀\u001b[38;2;0;0;0;48;2;0;0;0m▀\u001b[38;2;0;0;0;48;2;0;0;0m▀\u001b[38;2;0;0;0;48;2;0;0;0m▀\u001b[38;2;0;0;0;48;2;0;0;0m▀\u001b[38;2;0;0;0;48;2;0;0;0m▀\u001b[38;2;0;0;0;48;2;0;0;0m▀\u001b[38;2;0;0;0;48;2;0;0;0m▀\u001b[38;2;0;0;0;48;2;0;0;0m▀\u001b[38;2;0;0;0;48;2;0;0;0m▀\u001b[38;2;0;0;0;48;2;0;0;0m▀\u001b[38;2;0;0;0;48;2;1;1;1m▀\u001b[38;2;0;0;0;48;2;0;0;0m▀\u001b[38;2;0;0;0;48;2;1;1;1m▀\u001b[38;2;0;0;0;48;2;0;0;0m▀\u001b[38;2;0;0;0;48;2;3;3;3m▀\u001b[38;2;0;0;0;48;2;0;0;0m▀\u001b[38;2;0;0;0;48;2;1;1;1m▀\u001b[38;2;0;0;0;48;2;0;0;0m▀\u001b[38;2;0;0;0;48;2;0;0;0m▀\u001b[38;2;0;0;0;48;2;0;0;0m▀\u001b[38;2;0;0;0;48;2;0;0;0m▀\u001b[38;2;0;0;0;48;2;0;0;0m▀\u001b[38;2;1;1;1;48;2;0;0;0m▀\u001b[38;2;0;0;0;48;2;0;0;0m▀\u001b[38;2;0;0;0;48;2;0;0;0m▀\u001b[38;2;0;0;0;48;2;0;0;0m▀\u001b[38;2;0;0;0;48;2;0;0;0m▀\u001b[38;2;0;0;0;48;2;0;0;0m▀\u001b[38;2;0;0;0;48;2;0;0;0m▀\u001b[38;2;0;0;0;48;2;0;0;0m▀\u001b[38;2;0;0;0;48;2;0;0;0m▀\u001b[38;2;0;0;0;48;2;0;0;0m▀\u001b[38;2;0;0;0;48;2;0;0;0m▀\u001b[38;2;0;0;0;48;2;0;0;0m▀\u001b[38;2;0;0;0;48;2;0;0;0m▀\u001b[38;2;0;0;0;48;2;0;0;0m▀\u001b[38;2;0;0;0;48;2;0;0;0m▀\u001b[0m\n",
       "\u001b[0m\u001b[38;2;0;0;0;48;2;0;0;0m▀\u001b[38;2;0;0;0;48;2;0;0;0m▀\u001b[38;2;0;0;0;48;2;0;0;0m▀\u001b[38;2;0;0;0;48;2;0;0;0m▀\u001b[38;2;0;0;0;48;2;0;0;0m▀\u001b[38;2;0;0;0;48;2;0;0;0m▀\u001b[38;2;0;0;0;48;2;0;0;0m▀\u001b[38;2;0;0;0;48;2;0;0;0m▀\u001b[38;2;0;0;0;48;2;0;0;0m▀\u001b[38;2;0;0;0;48;2;0;0;0m▀\u001b[38;2;0;0;0;48;2;0;0;0m▀\u001b[38;2;0;0;0;48;2;0;0;0m▀\u001b[38;2;0;0;0;48;2;0;0;0m▀\u001b[38;2;0;0;0;48;2;0;0;0m▀\u001b[38;2;0;0;0;48;2;0;0;0m▀\u001b[38;2;0;0;0;48;2;0;0;0m▀\u001b[38;2;0;0;0;48;2;0;0;0m▀\u001b[38;2;0;0;0;48;2;0;0;0m▀\u001b[38;2;0;0;0;48;2;0;0;0m▀\u001b[38;2;0;0;0;48;2;0;0;0m▀\u001b[38;2;0;0;0;48;2;0;0;0m▀\u001b[38;2;0;0;0;48;2;0;0;0m▀\u001b[38;2;0;0;0;48;2;0;0;0m▀\u001b[38;2;0;0;0;48;2;0;0;0m▀\u001b[38;2;0;0;0;48;2;0;0;0m▀\u001b[38;2;0;0;0;48;2;0;0;0m▀\u001b[38;2;0;0;0;48;2;3;3;3m▀\u001b[38;2;0;0;0;48;2;0;0;0m▀\u001b[38;2;0;0;0;48;2;3;3;3m▀\u001b[38;2;0;0;0;48;2;0;0;0m▀\u001b[38;2;0;0;0;48;2;2;2;2m▀\u001b[38;2;0;0;0;48;2;0;0;0m▀\u001b[38;2;0;0;0;48;2;1;1;1m▀\u001b[38;2;0;0;0;48;2;0;0;0m▀\u001b[38;2;0;0;0;48;2;1;1;1m▀\u001b[38;2;0;0;0;48;2;0;0;0m▀\u001b[38;2;0;0;0;48;2;2;2;2m▀\u001b[38;2;0;0;0;48;2;0;0;0m▀\u001b[38;2;0;0;0;48;2;1;1;1m▀\u001b[38;2;0;0;0;48;2;0;0;0m▀\u001b[38;2;0;0;0;48;2;0;0;0m▀\u001b[38;2;0;0;0;48;2;0;0;0m▀\u001b[38;2;0;0;0;48;2;0;0;0m▀\u001b[38;2;0;0;0;48;2;0;0;0m▀\u001b[38;2;0;0;0;48;2;0;0;0m▀\u001b[38;2;0;0;0;48;2;0;0;0m▀\u001b[38;2;0;0;0;48;2;0;0;0m▀\u001b[38;2;0;0;0;48;2;0;0;0m▀\u001b[38;2;0;0;0;48;2;0;0;0m▀\u001b[38;2;0;0;0;48;2;0;0;0m▀\u001b[38;2;0;0;0;48;2;0;0;0m▀\u001b[38;2;0;0;0;48;2;0;0;0m▀\u001b[38;2;0;0;0;48;2;0;0;0m▀\u001b[38;2;0;0;0;48;2;0;0;0m▀\u001b[38;2;0;0;0;48;2;0;0;0m▀\u001b[38;2;0;0;0;48;2;0;0;0m▀\u001b[38;2;0;0;0;48;2;0;0;0m▀\u001b[0m\n",
       "\u001b[0m\u001b[38;2;0;0;0;48;2;0;0;0m▀\u001b[38;2;0;0;0;48;2;0;0;0m▀\u001b[38;2;0;0;0;48;2;0;0;0m▀\u001b[38;2;0;0;0;48;2;0;0;0m▀\u001b[38;2;0;0;0;48;2;0;0;0m▀\u001b[38;2;0;0;0;48;2;0;0;0m▀\u001b[38;2;0;0;0;48;2;0;0;0m▀\u001b[38;2;0;0;0;48;2;0;0;0m▀\u001b[38;2;0;0;0;48;2;0;0;0m▀\u001b[38;2;0;0;0;48;2;0;0;0m▀\u001b[38;2;0;0;0;48;2;0;0;0m▀\u001b[38;2;0;0;0;48;2;0;0;0m▀\u001b[38;2;0;0;0;48;2;0;0;0m▀\u001b[38;2;0;0;0;48;2;0;0;0m▀\u001b[38;2;0;0;0;48;2;0;0;0m▀\u001b[38;2;0;0;0;48;2;0;0;0m▀\u001b[38;2;0;0;0;48;2;0;0;0m▀\u001b[38;2;0;0;0;48;2;0;0;0m▀\u001b[38;2;0;0;0;48;2;0;0;0m▀\u001b[38;2;0;0;0;48;2;0;0;0m▀\u001b[38;2;0;0;0;48;2;0;0;0m▀\u001b[38;2;0;0;0;48;2;0;0;0m▀\u001b[38;2;0;0;0;48;2;1;1;1m▀\u001b[38;2;0;0;0;48;2;0;0;0m▀\u001b[38;2;0;0;0;48;2;3;3;3m▀\u001b[38;2;0;0;0;48;2;0;0;0m▀\u001b[38;2;0;0;0;48;2;2;2;2m▀\u001b[38;2;0;0;0;48;2;0;0;0m▀\u001b[38;2;0;0;0;48;2;1;1;1m▀\u001b[38;2;0;0;0;48;2;0;0;0m▀\u001b[38;2;0;0;0;48;2;1;1;1m▀\u001b[38;2;0;0;0;48;2;0;0;0m▀\u001b[38;2;0;0;0;48;2;2;2;2m▀\u001b[38;2;0;0;0;48;2;0;0;0m▀\u001b[38;2;0;0;0;48;2;1;1;1m▀\u001b[38;2;0;0;0;48;2;0;0;0m▀\u001b[38;2;0;0;0;48;2;0;0;0m▀\u001b[38;2;0;0;0;48;2;0;0;0m▀\u001b[38;2;4;4;4;48;2;0;0;0m▀\u001b[38;2;0;0;0;48;2;0;0;0m▀\u001b[38;2;4;4;4;48;2;0;0;0m▀\u001b[38;2;0;0;0;48;2;0;0;0m▀\u001b[38;2;0;0;0;48;2;0;0;0m▀\u001b[38;2;0;0;0;48;2;0;0;0m▀\u001b[38;2;0;0;0;48;2;0;0;0m▀\u001b[38;2;0;0;0;48;2;0;0;0m▀\u001b[38;2;0;0;0;48;2;0;0;0m▀\u001b[38;2;0;0;0;48;2;0;0;0m▀\u001b[38;2;0;0;0;48;2;0;0;0m▀\u001b[38;2;0;0;0;48;2;0;0;0m▀\u001b[38;2;0;0;0;48;2;0;0;0m▀\u001b[38;2;0;0;0;48;2;0;0;0m▀\u001b[38;2;0;0;0;48;2;0;0;0m▀\u001b[38;2;0;0;0;48;2;0;0;0m▀\u001b[38;2;0;0;0;48;2;0;0;0m▀\u001b[38;2;0;0;0;48;2;0;0;0m▀\u001b[38;2;0;0;0;48;2;0;0;0m▀\u001b[0m\n",
       "\u001b[0m\u001b[38;2;0;0;0;48;2;0;0;0m▀\u001b[38;2;0;0;0;48;2;0;0;0m▀\u001b[38;2;0;0;0;48;2;0;0;0m▀\u001b[38;2;0;0;0;48;2;0;0;0m▀\u001b[38;2;0;0;0;48;2;0;0;0m▀\u001b[38;2;0;0;0;48;2;0;0;0m▀\u001b[38;2;0;0;0;48;2;0;0;0m▀\u001b[38;2;0;0;0;48;2;0;0;0m▀\u001b[38;2;0;0;0;48;2;0;0;0m▀\u001b[38;2;0;0;0;48;2;0;0;0m▀\u001b[38;2;0;0;0;48;2;0;0;0m▀\u001b[38;2;0;0;0;48;2;0;0;0m▀\u001b[38;2;0;0;0;48;2;0;0;0m▀\u001b[38;2;0;0;0;48;2;0;0;0m▀\u001b[38;2;0;0;0;48;2;0;0;0m▀\u001b[38;2;0;0;0;48;2;0;0;0m▀\u001b[38;2;0;0;0;48;2;0;0;0m▀\u001b[38;2;0;0;0;48;2;0;0;0m▀\u001b[38;2;0;0;0;48;2;0;0;0m▀\u001b[38;2;0;0;0;48;2;0;0;0m▀\u001b[38;2;0;0;0;48;2;4;4;4m▀\u001b[38;2;0;0;0;48;2;0;0;0m▀\u001b[38;2;0;0;0;48;2;2;2;2m▀\u001b[38;2;0;0;0;48;2;0;0;0m▀\u001b[38;2;0;0;0;48;2;1;1;1m▀\u001b[38;2;0;0;0;48;2;0;0;0m▀\u001b[38;2;0;0;0;48;2;1;1;1m▀\u001b[38;2;0;0;0;48;2;0;0;0m▀\u001b[38;2;0;0;0;48;2;2;2;2m▀\u001b[38;2;0;0;0;48;2;0;0;0m▀\u001b[38;2;0;0;0;48;2;1;1;1m▀\u001b[38;2;0;0;0;48;2;0;0;0m▀\u001b[38;2;0;0;0;48;2;0;0;0m▀\u001b[38;2;0;0;0;48;2;0;0;0m▀\u001b[38;2;5;5;5;48;2;0;0;0m▀\u001b[38;2;0;0;0;48;2;0;0;0m▀\u001b[38;2;7;7;7;48;2;0;0;0m▀\u001b[38;2;0;0;0;48;2;0;0;0m▀\u001b[38;2;2;2;2;48;2;0;0;0m▀\u001b[38;2;0;0;0;48;2;0;0;0m▀\u001b[38;2;0;0;0;48;2;0;0;0m▀\u001b[38;2;0;0;0;48;2;0;0;0m▀\u001b[38;2;0;0;0;48;2;0;0;0m▀\u001b[38;2;0;0;0;48;2;0;0;0m▀\u001b[38;2;0;0;0;48;2;0;0;0m▀\u001b[38;2;0;0;0;48;2;0;0;0m▀\u001b[38;2;0;0;0;48;2;0;0;0m▀\u001b[38;2;0;0;0;48;2;0;0;0m▀\u001b[38;2;0;0;0;48;2;0;0;0m▀\u001b[38;2;0;0;0;48;2;0;0;0m▀\u001b[38;2;0;0;0;48;2;0;0;0m▀\u001b[38;2;0;0;0;48;2;0;0;0m▀\u001b[38;2;0;0;0;48;2;0;0;0m▀\u001b[38;2;0;0;0;48;2;0;0;0m▀\u001b[38;2;0;0;0;48;2;0;0;0m▀\u001b[38;2;0;0;0;48;2;0;0;0m▀\u001b[38;2;0;0;0;48;2;0;0;0m▀\u001b[0m\n",
       "\u001b[0m\u001b[38;2;0;0;0;48;2;0;0;0m▀\u001b[38;2;0;0;0;48;2;0;0;0m▀\u001b[38;2;0;0;0;48;2;0;0;0m▀\u001b[38;2;0;0;0;48;2;0;0;0m▀\u001b[38;2;0;0;0;48;2;0;0;0m▀\u001b[38;2;0;0;0;48;2;0;0;0m▀\u001b[38;2;0;0;0;48;2;0;0;0m▀\u001b[38;2;0;0;0;48;2;0;0;0m▀\u001b[38;2;0;0;0;48;2;0;0;0m▀\u001b[38;2;0;0;0;48;2;0;0;0m▀\u001b[38;2;0;0;0;48;2;0;0;0m▀\u001b[38;2;0;0;0;48;2;0;0;0m▀\u001b[38;2;0;0;0;48;2;0;0;0m▀\u001b[38;2;0;0;0;48;2;0;0;0m▀\u001b[38;2;0;0;0;48;2;4;4;4m▀\u001b[38;2;0;0;0;48;2;0;0;0m▀\u001b[38;2;0;0;0;48;2;2;2;2m▀\u001b[38;2;0;0;0;48;2;0;0;0m▀\u001b[38;2;0;0;0;48;2;2;2;2m▀\u001b[38;2;0;0;0;48;2;0;0;0m▀\u001b[38;2;0;0;0;48;2;1;1;1m▀\u001b[38;2;0;0;0;48;2;0;0;0m▀\u001b[38;2;0;0;0;48;2;1;1;1m▀\u001b[38;2;0;0;0;48;2;0;0;0m▀\u001b[38;2;0;0;0;48;2;2;2;2m▀\u001b[38;2;0;0;0;48;2;0;0;0m▀\u001b[38;2;0;0;0;48;2;1;1;1m▀\u001b[38;2;0;0;0;48;2;0;0;0m▀\u001b[38;2;0;0;0;48;2;0;0;0m▀\u001b[38;2;0;0;0;48;2;0;0;0m▀\u001b[38;2;5;5;5;48;2;0;0;0m▀\u001b[38;2;0;0;0;48;2;0;0;0m▀\u001b[38;2;6;6;6;48;2;0;0;0m▀\u001b[38;2;0;0;0;48;2;0;0;0m▀\u001b[38;2;2;2;2;48;2;0;0;0m▀\u001b[38;2;0;0;0;48;2;0;0;0m▀\u001b[38;2;0;0;0;48;2;0;0;0m▀\u001b[38;2;0;0;0;48;2;0;0;0m▀\u001b[38;2;0;0;0;48;2;0;0;0m▀\u001b[38;2;0;0;0;48;2;0;0;0m▀\u001b[38;2;0;0;0;48;2;0;0;0m▀\u001b[38;2;0;0;0;48;2;0;0;0m▀\u001b[38;2;0;0;0;48;2;0;0;0m▀\u001b[38;2;0;0;0;48;2;0;0;0m▀\u001b[38;2;0;0;0;48;2;0;0;0m▀\u001b[38;2;0;0;0;48;2;0;0;0m▀\u001b[38;2;0;0;0;48;2;0;0;0m▀\u001b[38;2;0;0;0;48;2;0;0;0m▀\u001b[38;2;0;0;0;48;2;0;0;0m▀\u001b[38;2;0;0;0;48;2;0;0;0m▀\u001b[38;2;0;0;0;48;2;0;0;0m▀\u001b[38;2;0;0;0;48;2;0;0;0m▀\u001b[38;2;0;0;0;48;2;0;0;0m▀\u001b[38;2;0;0;0;48;2;0;0;0m▀\u001b[38;2;0;0;0;48;2;0;0;0m▀\u001b[38;2;0;0;0;48;2;0;0;0m▀\u001b[38;2;0;0;0;48;2;0;0;0m▀\u001b[0m\n",
       "\u001b[0m\u001b[38;2;0;0;0;48;2;0;0;0m▀\u001b[38;2;0;0;0;48;2;0;0;0m▀\u001b[38;2;0;0;0;48;2;0;0;0m▀\u001b[38;2;0;0;0;48;2;0;0;0m▀\u001b[38;2;0;0;0;48;2;0;0;0m▀\u001b[38;2;0;0;0;48;2;0;0;0m▀\u001b[38;2;0;0;0;48;2;0;0;0m▀\u001b[38;2;0;0;0;48;2;0;0;0m▀\u001b[38;2;0;0;0;48;2;2;2;2m▀\u001b[38;2;0;0;0;48;2;0;0;0m▀\u001b[38;2;0;0;0;48;2;4;4;4m▀\u001b[38;2;0;0;0;48;2;0;0;0m▀\u001b[38;2;0;0;0;48;2;2;2;2m▀\u001b[38;2;0;0;0;48;2;0;0;0m▀\u001b[38;2;0;0;0;48;2;2;2;2m▀\u001b[38;2;0;0;0;48;2;0;0;0m▀\u001b[38;2;0;0;0;48;2;1;1;1m▀\u001b[38;2;0;0;0;48;2;0;0;0m▀\u001b[38;2;0;0;0;48;2;2;2;2m▀\u001b[38;2;0;0;0;48;2;0;0;0m▀\u001b[38;2;0;0;0;48;2;3;3;3m▀\u001b[38;2;0;0;0;48;2;0;0;0m▀\u001b[38;2;0;0;0;48;2;3;3;3m▀\u001b[38;2;0;0;0;48;2;0;0;0m▀\u001b[38;2;0;0;0;48;2;0;0;0m▀\u001b[38;2;0;0;0;48;2;0;0;0m▀\u001b[38;2;0;0;0;48;2;0;0;0m▀\u001b[38;2;0;0;0;48;2;0;0;0m▀\u001b[38;2;6;6;6;48;2;0;0;0m▀\u001b[38;2;0;0;0;48;2;0;0;0m▀\u001b[38;2;2;2;2;48;2;0;0;0m▀\u001b[38;2;0;0;0;48;2;0;0;0m▀\u001b[38;2;0;0;0;48;2;0;0;0m▀\u001b[38;2;0;0;0;48;2;0;0;0m▀\u001b[38;2;0;0;0;48;2;0;0;0m▀\u001b[38;2;0;0;0;48;2;0;0;0m▀\u001b[38;2;0;0;0;48;2;0;0;0m▀\u001b[38;2;0;0;0;48;2;0;0;0m▀\u001b[38;2;0;0;0;48;2;0;0;0m▀\u001b[38;2;0;0;0;48;2;0;0;0m▀\u001b[38;2;0;0;0;48;2;0;0;0m▀\u001b[38;2;0;0;0;48;2;0;0;0m▀\u001b[38;2;0;0;0;48;2;0;0;0m▀\u001b[38;2;0;0;0;48;2;0;0;0m▀\u001b[38;2;0;0;0;48;2;0;0;0m▀\u001b[38;2;0;0;0;48;2;0;0;0m▀\u001b[38;2;0;0;0;48;2;0;0;0m▀\u001b[38;2;0;0;0;48;2;0;0;0m▀\u001b[38;2;0;0;0;48;2;0;0;0m▀\u001b[38;2;0;0;0;48;2;0;0;0m▀\u001b[38;2;0;0;0;48;2;0;0;0m▀\u001b[38;2;0;0;0;48;2;0;0;0m▀\u001b[38;2;0;0;0;48;2;0;0;0m▀\u001b[38;2;0;0;0;48;2;0;0;0m▀\u001b[38;2;0;0;0;48;2;0;0;0m▀\u001b[38;2;0;0;0;48;2;0;0;0m▀\u001b[38;2;0;0;0;48;2;0;0;0m▀\u001b[0m\n",
       "\u001b[0m\u001b[38;2;0;0;0;48;2;0;0;0m▀\u001b[38;2;0;0;0;48;2;0;0;0m▀\u001b[38;2;0;0;0;48;2;0;0;0m▀\u001b[38;2;0;0;0;48;2;0;0;0m▀\u001b[38;2;0;0;0;48;2;0;0;0m▀\u001b[38;2;0;0;0;48;2;0;0;0m▀\u001b[38;2;0;0;0;48;2;0;0;0m▀\u001b[38;2;0;0;0;48;2;0;0;0m▀\u001b[38;2;1;1;1;48;2;6;6;6m▀\u001b[38;2;0;0;0;48;2;0;0;0m▀\u001b[38;2;0;0;0;48;2;8;8;8m▀\u001b[38;2;0;0;0;48;2;0;0;0m▀\u001b[38;2;0;0;0;48;2;5;5;5m▀\u001b[38;2;0;0;0;48;2;0;0;0m▀\u001b[38;2;0;0;0;48;2;5;5;5m▀\u001b[38;2;0;0;0;48;2;0;0;0m▀\u001b[38;2;0;0;0;48;2;3;3;3m▀\u001b[38;2;0;0;0;48;2;0;0;0m▀\u001b[38;2;0;0;0;48;2;1;1;1m▀\u001b[38;2;0;0;0;48;2;0;0;0m▀\u001b[38;2;1;1;1;48;2;2;2;2m▀\u001b[38;2;0;0;0;48;2;0;0;0m▀\u001b[38;2;1;1;1;48;2;0;0;0m▀\u001b[38;2;0;0;0;48;2;0;0;0m▀\u001b[38;2;8;8;8;48;2;0;0;0m▀\u001b[38;2;0;0;0;48;2;0;0;0m▀\u001b[38;2;3;3;3;48;2;0;0;0m▀\u001b[38;2;0;0;0;48;2;0;0;0m▀\u001b[38;2;0;0;0;48;2;0;0;0m▀\u001b[38;2;0;0;0;48;2;0;0;0m▀\u001b[38;2;0;0;0;48;2;0;0;0m▀\u001b[38;2;0;0;0;48;2;0;0;0m▀\u001b[38;2;0;0;0;48;2;0;0;0m▀\u001b[38;2;0;0;0;48;2;0;0;0m▀\u001b[38;2;0;0;0;48;2;0;0;0m▀\u001b[38;2;0;0;0;48;2;0;0;0m▀\u001b[38;2;0;0;0;48;2;0;0;0m▀\u001b[38;2;0;0;0;48;2;0;0;0m▀\u001b[38;2;0;0;0;48;2;0;0;0m▀\u001b[38;2;0;0;0;48;2;0;0;0m▀\u001b[38;2;0;0;0;48;2;0;0;0m▀\u001b[38;2;0;0;0;48;2;0;0;0m▀\u001b[38;2;0;0;0;48;2;0;0;0m▀\u001b[38;2;0;0;0;48;2;0;0;0m▀\u001b[38;2;0;0;0;48;2;0;0;0m▀\u001b[38;2;0;0;0;48;2;0;0;0m▀\u001b[38;2;0;0;0;48;2;0;0;0m▀\u001b[38;2;0;0;0;48;2;0;0;0m▀\u001b[38;2;0;0;0;48;2;0;0;0m▀\u001b[38;2;0;0;0;48;2;0;0;0m▀\u001b[38;2;0;0;0;48;2;0;0;0m▀\u001b[38;2;0;0;0;48;2;0;0;0m▀\u001b[38;2;0;0;0;48;2;0;0;0m▀\u001b[38;2;0;0;0;48;2;0;0;0m▀\u001b[38;2;0;0;0;48;2;0;0;0m▀\u001b[38;2;0;0;0;48;2;0;0;0m▀\u001b[38;2;0;0;0;48;2;0;0;0m▀\u001b[0m\n",
       "\u001b[0m\u001b[38;2;0;0;0;48;2;0;0;0m▀\u001b[38;2;0;0;0;48;2;0;0;0m▀\u001b[38;2;0;0;0;48;2;0;0;0m▀\u001b[38;2;0;0;0;48;2;0;0;0m▀\u001b[38;2;0;0;0;48;2;0;0;0m▀\u001b[38;2;0;0;0;48;2;0;0;0m▀\u001b[38;2;0;0;0;48;2;0;0;0m▀\u001b[38;2;2;2;2;48;2;0;0;0m▀\u001b[38;2;4;4;4;48;2;0;0;0m▀\u001b[38;2;2;2;2;48;2;0;0;0m▀\u001b[38;2;11;11;11;48;2;0;0;0m▀\u001b[38;2;0;0;0;48;2;0;0;0m▀\u001b[38;2;14;14;14;48;2;0;0;0m▀\u001b[38;2;0;0;0;48;2;0;0;0m▀\u001b[38;2;14;14;14;48;2;0;0;0m▀\u001b[38;2;0;0;0;48;2;0;0;0m▀\u001b[38;2;12;12;12;48;2;0;0;0m▀\u001b[38;2;0;0;0;48;2;0;0;0m▀\u001b[38;2;9;9;9;48;2;0;0;0m▀\u001b[38;2;0;0;0;48;2;0;0;0m▀\u001b[38;2;7;7;7;48;2;0;0;0m▀\u001b[38;2;0;0;0;48;2;0;0;0m▀\u001b[38;2;3;3;3;48;2;0;0;0m▀\u001b[38;2;0;0;0;48;2;0;0;0m▀\u001b[38;2;0;0;0;48;2;0;0;0m▀\u001b[38;2;0;0;0;48;2;0;0;0m▀\u001b[38;2;0;0;0;48;2;0;0;0m▀\u001b[38;2;0;0;0;48;2;0;0;0m▀\u001b[38;2;0;0;0;48;2;0;0;0m▀\u001b[38;2;0;0;0;48;2;0;0;0m▀\u001b[38;2;0;0;0;48;2;0;0;0m▀\u001b[38;2;0;0;0;48;2;0;0;0m▀\u001b[38;2;0;0;0;48;2;0;0;0m▀\u001b[38;2;0;0;0;48;2;0;0;0m▀\u001b[38;2;0;0;0;48;2;0;0;0m▀\u001b[38;2;0;0;0;48;2;0;0;0m▀\u001b[38;2;0;0;0;48;2;0;0;0m▀\u001b[38;2;0;0;0;48;2;0;0;0m▀\u001b[38;2;0;0;0;48;2;0;0;0m▀\u001b[38;2;0;0;0;48;2;0;0;0m▀\u001b[38;2;0;0;0;48;2;0;0;0m▀\u001b[38;2;0;0;0;48;2;0;0;0m▀\u001b[38;2;0;0;0;48;2;0;0;0m▀\u001b[38;2;0;0;0;48;2;0;0;0m▀\u001b[38;2;0;0;0;48;2;0;0;0m▀\u001b[38;2;0;0;0;48;2;0;0;0m▀\u001b[38;2;0;0;0;48;2;0;0;0m▀\u001b[38;2;0;0;0;48;2;0;0;0m▀\u001b[38;2;0;0;0;48;2;0;0;0m▀\u001b[38;2;0;0;0;48;2;0;0;0m▀\u001b[38;2;0;0;0;48;2;0;0;0m▀\u001b[38;2;0;0;0;48;2;0;0;0m▀\u001b[38;2;0;0;0;48;2;0;0;0m▀\u001b[38;2;0;0;0;48;2;0;0;0m▀\u001b[38;2;0;0;0;48;2;0;0;0m▀\u001b[38;2;0;0;0;48;2;0;0;0m▀\u001b[38;2;0;0;0;48;2;0;0;0m▀\u001b[0m\n",
       "\u001b[0m\u001b[38;2;0;0;0;48;2;0;0;0m▀\u001b[38;2;0;0;0;48;2;0;0;0m▀\u001b[38;2;0;0;0;48;2;0;0;0m▀\u001b[38;2;0;0;0;48;2;0;0;0m▀\u001b[38;2;0;0;0;48;2;0;0;0m▀\u001b[38;2;0;0;0;48;2;0;0;0m▀\u001b[38;2;0;0;0;48;2;0;0;0m▀\u001b[38;2;0;0;0;48;2;0;0;0m▀\u001b[38;2;0;0;0;48;2;0;0;0m▀\u001b[38;2;0;0;0;48;2;0;0;0m▀\u001b[38;2;0;0;0;48;2;0;0;0m▀\u001b[38;2;0;0;0;48;2;0;0;0m▀\u001b[38;2;0;0;0;48;2;0;0;0m▀\u001b[38;2;0;0;0;48;2;0;0;0m▀\u001b[38;2;0;0;0;48;2;0;0;0m▀\u001b[38;2;0;0;0;48;2;0;0;0m▀\u001b[38;2;0;0;0;48;2;0;0;0m▀\u001b[38;2;0;0;0;48;2;0;0;0m▀\u001b[38;2;0;0;0;48;2;0;0;0m▀\u001b[38;2;0;0;0;48;2;0;0;0m▀\u001b[38;2;0;0;0;48;2;0;0;0m▀\u001b[38;2;0;0;0;48;2;0;0;0m▀\u001b[38;2;0;0;0;48;2;0;0;0m▀\u001b[38;2;0;0;0;48;2;0;0;0m▀\u001b[38;2;0;0;0;48;2;0;0;0m▀\u001b[38;2;0;0;0;48;2;0;0;0m▀\u001b[38;2;0;0;0;48;2;0;0;0m▀\u001b[38;2;0;0;0;48;2;0;0;0m▀\u001b[38;2;0;0;0;48;2;0;0;0m▀\u001b[38;2;0;0;0;48;2;0;0;0m▀\u001b[38;2;0;0;0;48;2;0;0;0m▀\u001b[38;2;0;0;0;48;2;0;0;0m▀\u001b[38;2;0;0;0;48;2;0;0;0m▀\u001b[38;2;0;0;0;48;2;0;0;0m▀\u001b[38;2;0;0;0;48;2;0;0;0m▀\u001b[38;2;0;0;0;48;2;0;0;0m▀\u001b[38;2;0;0;0;48;2;0;0;0m▀\u001b[38;2;0;0;0;48;2;0;0;0m▀\u001b[38;2;0;0;0;48;2;0;0;0m▀\u001b[38;2;0;0;0;48;2;0;0;0m▀\u001b[38;2;0;0;0;48;2;0;0;0m▀\u001b[38;2;0;0;0;48;2;0;0;0m▀\u001b[38;2;0;0;0;48;2;0;0;0m▀\u001b[38;2;0;0;0;48;2;0;0;0m▀\u001b[38;2;0;0;0;48;2;0;0;0m▀\u001b[38;2;0;0;0;48;2;0;0;0m▀\u001b[38;2;0;0;0;48;2;0;0;0m▀\u001b[38;2;0;0;0;48;2;0;0;0m▀\u001b[38;2;0;0;0;48;2;0;0;0m▀\u001b[38;2;0;0;0;48;2;0;0;0m▀\u001b[38;2;0;0;0;48;2;0;0;0m▀\u001b[38;2;0;0;0;48;2;0;0;0m▀\u001b[38;2;0;0;0;48;2;0;0;0m▀\u001b[38;2;0;0;0;48;2;0;0;0m▀\u001b[38;2;0;0;0;48;2;0;0;0m▀\u001b[38;2;0;0;0;48;2;0;0;0m▀\u001b[38;2;0;0;0;48;2;0;0;0m▀\u001b[0m\n",
       "\u001b[0m\u001b[38;2;0;0;0;48;2;0;0;0m▀\u001b[38;2;0;0;0;48;2;0;0;0m▀\u001b[38;2;0;0;0;48;2;0;0;0m▀\u001b[38;2;0;0;0;48;2;0;0;0m▀\u001b[38;2;0;0;0;48;2;0;0;0m▀\u001b[38;2;0;0;0;48;2;0;0;0m▀\u001b[38;2;0;0;0;48;2;0;0;0m▀\u001b[38;2;0;0;0;48;2;0;0;0m▀\u001b[38;2;0;0;0;48;2;0;0;0m▀\u001b[38;2;0;0;0;48;2;0;0;0m▀\u001b[38;2;0;0;0;48;2;0;0;0m▀\u001b[38;2;0;0;0;48;2;0;0;0m▀\u001b[38;2;0;0;0;48;2;0;0;0m▀\u001b[38;2;0;0;0;48;2;0;0;0m▀\u001b[38;2;0;0;0;48;2;0;0;0m▀\u001b[38;2;0;0;0;48;2;0;0;0m▀\u001b[38;2;0;0;0;48;2;0;0;0m▀\u001b[38;2;0;0;0;48;2;0;0;0m▀\u001b[38;2;0;0;0;48;2;0;0;0m▀\u001b[38;2;0;0;0;48;2;0;0;0m▀\u001b[38;2;0;0;0;48;2;0;0;0m▀\u001b[38;2;0;0;0;48;2;0;0;0m▀\u001b[38;2;0;0;0;48;2;0;0;0m▀\u001b[38;2;0;0;0;48;2;0;0;0m▀\u001b[38;2;0;0;0;48;2;0;0;0m▀\u001b[38;2;0;0;0;48;2;0;0;0m▀\u001b[38;2;0;0;0;48;2;0;0;0m▀\u001b[38;2;0;0;0;48;2;0;0;0m▀\u001b[38;2;0;0;0;48;2;0;0;0m▀\u001b[38;2;0;0;0;48;2;0;0;0m▀\u001b[38;2;0;0;0;48;2;0;0;0m▀\u001b[38;2;0;0;0;48;2;0;0;0m▀\u001b[38;2;0;0;0;48;2;0;0;0m▀\u001b[38;2;0;0;0;48;2;0;0;0m▀\u001b[38;2;0;0;0;48;2;0;0;0m▀\u001b[38;2;0;0;0;48;2;0;0;0m▀\u001b[38;2;0;0;0;48;2;0;0;0m▀\u001b[38;2;0;0;0;48;2;0;0;0m▀\u001b[38;2;0;0;0;48;2;0;0;0m▀\u001b[38;2;0;0;0;48;2;0;0;0m▀\u001b[38;2;0;0;0;48;2;0;0;0m▀\u001b[38;2;0;0;0;48;2;0;0;0m▀\u001b[38;2;0;0;0;48;2;0;0;0m▀\u001b[38;2;0;0;0;48;2;0;0;0m▀\u001b[38;2;0;0;0;48;2;0;0;0m▀\u001b[38;2;0;0;0;48;2;0;0;0m▀\u001b[38;2;0;0;0;48;2;0;0;0m▀\u001b[38;2;0;0;0;48;2;0;0;0m▀\u001b[38;2;0;0;0;48;2;0;0;0m▀\u001b[38;2;0;0;0;48;2;0;0;0m▀\u001b[38;2;0;0;0;48;2;0;0;0m▀\u001b[38;2;0;0;0;48;2;0;0;0m▀\u001b[38;2;0;0;0;48;2;0;0;0m▀\u001b[38;2;0;0;0;48;2;0;0;0m▀\u001b[38;2;0;0;0;48;2;0;0;0m▀\u001b[38;2;0;0;0;48;2;0;0;0m▀\u001b[38;2;0;0;0;48;2;0;0;0m▀\u001b[0m\n",
       "\u001b[0m\u001b[38;2;0;0;0m▀\u001b[38;2;0;0;0m▀\u001b[38;2;0;0;0m▀\u001b[38;2;0;0;0m▀\u001b[38;2;0;0;0m▀\u001b[38;2;0;0;0m▀\u001b[38;2;0;0;0m▀\u001b[38;2;0;0;0m▀\u001b[38;2;0;0;0m▀\u001b[38;2;0;0;0m▀\u001b[38;2;0;0;0m▀\u001b[38;2;0;0;0m▀\u001b[38;2;0;0;0m▀\u001b[38;2;0;0;0m▀\u001b[38;2;0;0;0m▀\u001b[38;2;0;0;0m▀\u001b[38;2;0;0;0m▀\u001b[38;2;0;0;0m▀\u001b[38;2;0;0;0m▀\u001b[38;2;0;0;0m▀\u001b[38;2;0;0;0m▀\u001b[38;2;0;0;0m▀\u001b[38;2;0;0;0m▀\u001b[38;2;0;0;0m▀\u001b[38;2;0;0;0m▀\u001b[38;2;0;0;0m▀\u001b[38;2;0;0;0m▀\u001b[38;2;0;0;0m▀\u001b[38;2;0;0;0m▀\u001b[38;2;0;0;0m▀\u001b[38;2;0;0;0m▀\u001b[38;2;0;0;0m▀\u001b[38;2;0;0;0m▀\u001b[38;2;0;0;0m▀\u001b[38;2;0;0;0m▀\u001b[38;2;0;0;0m▀\u001b[38;2;0;0;0m▀\u001b[38;2;0;0;0m▀\u001b[38;2;0;0;0m▀\u001b[38;2;0;0;0m▀\u001b[38;2;0;0;0m▀\u001b[38;2;0;0;0m▀\u001b[38;2;0;0;0m▀\u001b[38;2;0;0;0m▀\u001b[38;2;0;0;0m▀\u001b[38;2;0;0;0m▀\u001b[38;2;0;0;0m▀\u001b[38;2;0;0;0m▀\u001b[38;2;0;0;0m▀\u001b[38;2;0;0;0m▀\u001b[38;2;0;0;0m▀\u001b[38;2;0;0;0m▀\u001b[38;2;0;0;0m▀\u001b[38;2;0;0;0m▀\u001b[38;2;0;0;0m▀\u001b[38;2;0;0;0m▀\u001b[38;2;0;0;0m▀\u001b[0m"
      ]
     },
     "execution_count": 72,
     "metadata": {},
     "output_type": "execute_result"
    }
   ],
   "source": [
    "cnn_output = cnn_layer( images[:,:,:,1:3] )\n",
    "display( cnn_output |> size )\n",
    "convert2image( MNIST , cnn_output[:,:,1,1] )"
   ]
  },
  {
   "cell_type": "markdown",
   "metadata": {},
   "source": [
    "#### <span style=\"color:orange\"> Depthwise Convolutional Layers apply kernels to each channel separately so that the kernel does not span all channels </span>"
   ]
  },
  {
   "cell_type": "code",
   "execution_count": 73,
   "metadata": {},
   "outputs": [
    {
     "data": {
      "text/plain": [
       "(10, 10, 5, 10)"
      ]
     },
     "execution_count": 73,
     "metadata": {},
     "output_type": "execute_result"
    }
   ],
   "source": [
    "x = rand(Float32, 10, 10, 5, 10); \n",
    "cnn_layer = DepthwiseConv( (5,5) , 5 => 5 , pad=SamePad() )\n",
    "cnn_layer( x ) |> size"
   ]
  },
  {
   "cell_type": "code",
   "execution_count": null,
   "metadata": {},
   "outputs": [],
   "source": []
  },
  {
   "cell_type": "markdown",
   "metadata": {},
   "source": [
    "### <span style=\"color:orange\"> Common layers often used 'after' a CNN layer </span>\n",
    "\n",
    "- they reduce the size of the output, and do not have parameters to train\n",
    "- MaxPool, takes the maximum element in the region, and the corresponding 'MeanPool' exists\n",
    "- Adaptive Max Pool, this takes in a tuple for the size of the data desired for each channel and batch size and finds for you the MaxPool size for the target output size needed. (equivalently there is the AdaptiveMeanPool)\n",
    "\n",
    "- GlobalMaxPool produces a single value for each of the channels and each of the batch samples (also GlobalMeanPool is there)"
   ]
  },
  {
   "cell_type": "code",
   "execution_count": 74,
   "metadata": {},
   "outputs": [
    {
     "data": {
      "text/plain": [
       "(19, 19, 2, 10)"
      ]
     },
     "execution_count": 74,
     "metadata": {},
     "output_type": "execute_result"
    }
   ],
   "source": [
    "x = rand(Float32, 100, 100, 1, 10); \n",
    "m = Chain( Conv( (5,5) , 1 => 2 ) , MaxPool((5,5)) )\n",
    "m( x ) |> size"
   ]
  },
  {
   "cell_type": "code",
   "execution_count": 75,
   "metadata": {},
   "outputs": [
    {
     "data": {
      "text/plain": [
       "(4, 4, 2, 3)"
      ]
     },
     "metadata": {},
     "output_type": "display_data"
    },
    {
     "data": {
      "image/png": "[encoded data removed]",
      "text/plain": [
       "\u001b[0m\u001b[38;2;14;14;14m██\u001b[38;2;45;45;45m██\u001b[38;2;60;60;60m██\u001b[38;2;119;119;119m██\u001b[0m\n",
       "\u001b[0m\u001b[38;2;0;0;0m██\u001b[38;2;74;74;74m██\u001b[38;2;150;150;150m██\u001b[38;2;143;143;143m██\u001b[0m\n",
       "\u001b[0m\u001b[38;2;0;0;0m██\u001b[38;2;0;0;0m██\u001b[38;2;103;103;103m██\u001b[38;2;157;157;157m██\u001b[0m\n",
       "\u001b[0m\u001b[38;2;17;17;17m██\u001b[38;2;30;30;30m██\u001b[38;2;158;158;158m██\u001b[38;2;255;255;255m██\u001b[0m"
      ]
     },
     "execution_count": 75,
     "metadata": {},
     "output_type": "execute_result"
    }
   ],
   "source": [
    "cnn_output = m( images[:,:,:,1:3] )\n",
    "display( cnn_output |> size )\n",
    "convert2image( MNIST , cnn_output[:,:,1,1] )"
   ]
  },
  {
   "cell_type": "code",
   "execution_count": 76,
   "metadata": {},
   "outputs": [
    {
     "data": {
      "text/plain": [
       "(20, 20, 2, 10)"
      ]
     },
     "execution_count": 76,
     "metadata": {},
     "output_type": "execute_result"
    }
   ],
   "source": [
    "x = rand(Float32, 100, 100, 1, 10); \n",
    "m = Chain( Conv( (5,5) , 1 => 2 , pad=SamePad() ) , MaxPool((5,5)) )\n",
    "m( x ) |> size"
   ]
  },
  {
   "cell_type": "code",
   "execution_count": 77,
   "metadata": {},
   "outputs": [
    {
     "data": {
      "text/plain": [
       "(5, 5, 2, 3)"
      ]
     },
     "metadata": {},
     "output_type": "display_data"
    },
    {
     "data": {
      "image/png": "[encoded data removed]",
      "text/plain": [
       "\u001b[0m\u001b[38;2;0;0;0m██\u001b[38;2;1;1;1m██\u001b[38;2;13;13;13m██\u001b[38;2;75;75;75m██\u001b[38;2;94;94;94m██\u001b[0m\n",
       "\u001b[0m\u001b[38;2;0;0;0m██\u001b[38;2;109;109;109m██\u001b[38;2;166;166;166m██\u001b[38;2;164;164;164m██\u001b[38;2;108;108;108m██\u001b[0m\n",
       "\u001b[0m\u001b[38;2;0;0;0m██\u001b[38;2;114;114;114m██\u001b[38;2;151;151;151m██\u001b[38;2;178;178;178m██\u001b[38;2;40;40;40m██\u001b[0m\n",
       "\u001b[0m\u001b[38;2;0;0;0m██\u001b[38;2;2;2;2m██\u001b[38;2;132;132;132m██\u001b[38;2;157;157;157m██\u001b[38;2;77;77;77m██\u001b[0m\n",
       "\u001b[0m\u001b[38;2;9;9;9m██\u001b[38;2;82;82;82m██\u001b[38;2;94;94;94m██\u001b[38;2;91;91;91m██\u001b[38;2;65;65;65m██\u001b[0m"
      ]
     },
     "execution_count": 77,
     "metadata": {},
     "output_type": "execute_result"
    }
   ],
   "source": [
    "cnn_output = m( images[:,:,:,1:3] )\n",
    "display( cnn_output |> size )\n",
    "convert2image( MNIST , cnn_output[:,:,1,1] )"
   ]
  },
  {
   "cell_type": "code",
   "execution_count": 78,
   "metadata": {},
   "outputs": [
    {
     "data": {
      "text/plain": [
       "(20, 20, 2, 10)"
      ]
     },
     "execution_count": 78,
     "metadata": {},
     "output_type": "execute_result"
    }
   ],
   "source": [
    "x = rand(Float32, 100, 100, 1, 10); \n",
    "m = Chain( Conv( (5,5) , 1 => 2  ) , MaxPool( (5,5), pad=SamePad() ) )\n",
    "m( x ) |> size"
   ]
  },
  {
   "cell_type": "code",
   "execution_count": 79,
   "metadata": {},
   "outputs": [
    {
     "data": {
      "text/plain": [
       "(60, 60, 2, 10)"
      ]
     },
     "execution_count": 79,
     "metadata": {},
     "output_type": "execute_result"
    }
   ],
   "source": [
    "x = rand(Float32, 100, 100, 1, 10); \n",
    "m = Chain( Conv( (5,5) , 1 => 2  ) , AdaptiveMaxPool( (60,60) ) ) #we want a 40x40 output from MaxPool\n",
    "m( x ) |> size"
   ]
  },
  {
   "cell_type": "code",
   "execution_count": null,
   "metadata": {},
   "outputs": [],
   "source": []
  },
  {
   "cell_type": "code",
   "execution_count": 80,
   "metadata": {},
   "outputs": [
    {
     "data": {
      "text/plain": [
       "(1, 1, 3, 10)"
      ]
     },
     "execution_count": 80,
     "metadata": {},
     "output_type": "execute_result"
    }
   ],
   "source": [
    "x = rand(Float32, 100, 100, 1, 10); \n",
    "m = Chain( Conv( (5,5) , 1 => 3  ) , GlobalMaxPool() ) #we want a 40x40 output from MaxPool\n",
    "m( x ) |> size"
   ]
  },
  {
   "cell_type": "code",
   "execution_count": null,
   "metadata": {},
   "outputs": [],
   "source": []
  },
  {
   "cell_type": "markdown",
   "metadata": {},
   "source": [
    "### <span style=\"color:orange\"> Upsampling </span>\n",
    "\n",
    "- These do the opposite of pooling. Instead of a transposed convolution these layers 'upsample' by increasing the resolution from the perspective of further interpolating across the domain in the statistical sense. \n",
    "- There are different methods for doing so, such as the bilinear and nearest"
   ]
  },
  {
   "cell_type": "code",
   "execution_count": 81,
   "metadata": {},
   "outputs": [
    {
     "data": {
      "text/plain": [
       "(200, 200, 2, 10)"
      ]
     },
     "execution_count": 81,
     "metadata": {},
     "output_type": "execute_result"
    }
   ],
   "source": [
    "x = rand(Float32, 100, 100, 2, 10); \n",
    "m = Upsample( :nearest, size= (200,200) )\n",
    "m( x ) |> size"
   ]
  },
  {
   "cell_type": "code",
   "execution_count": 82,
   "metadata": {},
   "outputs": [
    {
     "data": {
      "text/plain": [
       "(280, 280, 2, 10)"
      ]
     },
     "execution_count": 82,
     "metadata": {},
     "output_type": "execute_result"
    }
   ],
   "source": [
    "x = rand(Float32, 28, 28, 2, 10); \n",
    "m = Upsample( :nearest, size= (28*10,28*10) )\n",
    "m( x ) |> size"
   ]
  },
  {
   "cell_type": "code",
   "execution_count": 83,
   "metadata": {},
   "outputs": [
    {
     "data": {
      "text/plain": [
       "(280, 280, 1, 3)"
      ]
     },
     "metadata": {},
     "output_type": "display_data"
    },
    {
     "data": {
      "image/png": "[encoded data removed]",
      "text/plain": [
       "\u001b[0m\u001b[38;2;0;0;0;48;2;0;0;0m▀\u001b[38;2;0;0;0;48;2;0;0;0m▀\u001b[38;2;0;0;0;48;2;0;0;0m▀\u001b[38;2;0;0;0;48;2;0;0;0m▀\u001b[38;2;0;0;0;48;2;0;0;0m▀\u001b[38;2;0;0;0;48;2;0;0;0m▀\u001b[38;2;0;0;0;48;2;0;0;0m▀\u001b[38;2;0;0;0;48;2;0;0;0m▀\u001b[38;2;0;0;0;48;2;0;0;0m▀\u001b[38;2;0;0;0;48;2;0;0;0m▀\u001b[38;2;0;0;0;48;2;0;0;0m▀\u001b[38;2;0;0;0;48;2;0;0;0m▀\u001b[38;2;0;0;0;48;2;0;0;0m▀\u001b[38;2;0;0;0;48;2;0;0;0m▀\u001b[38;2;0;0;0;48;2;0;0;0m▀\u001b[38;2;0;0;0;48;2;0;0;0m▀\u001b[38;2;0;0;0;48;2;0;0;0m▀\u001b[38;2;0;0;0;48;2;0;0;0m▀\u001b[38;2;0;0;0;48;2;0;0;0m▀\u001b[38;2;0;0;0;48;2;0;0;0m▀\u001b[38;2;0;0;0;48;2;0;0;0m▀\u001b[38;2;0;0;0;48;2;0;0;0m▀\u001b[38;2;0;0;0;48;2;0;0;0m▀\u001b[38;2;0;0;0;48;2;0;0;0m▀\u001b[38;2;0;0;0;48;2;0;0;0m▀\u001b[38;2;0;0;0;48;2;0;0;0m▀\u001b[38;2;0;0;0;48;2;0;0;0m▀\u001b[38;2;0;0;0;48;2;0;0;0m▀\u001b[38;2;0;0;0;48;2;0;0;0m▀\u001b[38;2;0;0;0;48;2;0;0;0m▀\u001b[38;2;0;0;0;48;2;0;0;0m▀\u001b[38;2;0;0;0;48;2;0;0;0m▀\u001b[38;2;0;0;0;48;2;0;0;0m▀\u001b[38;2;0;0;0;48;2;0;0;0m▀\u001b[38;2;0;0;0;48;2;0;0;0m▀\u001b[38;2;0;0;0;48;2;0;0;0m▀\u001b[0m\n",
       "\u001b[0m\u001b[38;2;0;0;0;48;2;0;0;0m▀\u001b[38;2;0;0;0;48;2;0;0;0m▀\u001b[38;2;0;0;0;48;2;0;0;0m▀\u001b[38;2;0;0;0;48;2;0;0;0m▀\u001b[38;2;0;0;0;48;2;0;0;0m▀\u001b[38;2;0;0;0;48;2;0;0;0m▀\u001b[38;2;0;0;0;48;2;0;0;0m▀\u001b[38;2;0;0;0;48;2;0;0;0m▀\u001b[38;2;0;0;0;48;2;0;0;0m▀\u001b[38;2;0;0;0;48;2;0;0;0m▀\u001b[38;2;0;0;0;48;2;0;0;0m▀\u001b[38;2;0;0;0;48;2;0;0;0m▀\u001b[38;2;0;0;0;48;2;0;0;0m▀\u001b[38;2;0;0;0;48;2;0;0;0m▀\u001b[38;2;0;0;0;48;2;0;0;0m▀\u001b[38;2;0;0;0;48;2;0;0;0m▀\u001b[38;2;0;0;0;48;2;0;0;0m▀\u001b[38;2;0;0;0;48;2;0;0;0m▀\u001b[38;2;0;0;0;48;2;0;0;0m▀\u001b[38;2;0;0;0;48;2;0;0;0m▀\u001b[38;2;0;0;0;48;2;0;0;0m▀\u001b[38;2;0;0;0;48;2;0;0;0m▀\u001b[38;2;0;0;0;48;2;0;0;0m▀\u001b[38;2;0;0;0;48;2;0;0;0m▀\u001b[38;2;0;0;0;48;2;0;0;0m▀\u001b[38;2;0;0;0;48;2;0;0;0m▀\u001b[38;2;0;0;0;48;2;0;0;0m▀\u001b[38;2;0;0;0;48;2;0;0;0m▀\u001b[38;2;0;0;0;48;2;0;0;0m▀\u001b[38;2;0;0;0;48;2;0;0;0m▀\u001b[38;2;0;0;0;48;2;0;0;0m▀\u001b[38;2;0;0;0;48;2;0;0;0m▀\u001b[38;2;0;0;0;48;2;0;0;0m▀\u001b[38;2;0;0;0;48;2;0;0;0m▀\u001b[38;2;0;0;0;48;2;0;0;0m▀\u001b[38;2;0;0;0;48;2;0;0;0m▀\u001b[0m\n",
       "\u001b[0m\u001b[38;2;0;0;0;48;2;0;0;0m▀\u001b[38;2;0;0;0;48;2;0;0;0m▀\u001b[38;2;0;0;0;48;2;0;0;0m▀\u001b[38;2;0;0;0;48;2;0;0;0m▀\u001b[38;2;0;0;0;48;2;0;0;0m▀\u001b[38;2;0;0;0;48;2;0;0;0m▀\u001b[38;2;0;0;0;48;2;0;0;0m▀\u001b[38;2;0;0;0;48;2;0;0;0m▀\u001b[38;2;0;0;0;48;2;0;0;0m▀\u001b[38;2;0;0;0;48;2;0;0;0m▀\u001b[38;2;0;0;0;48;2;0;0;0m▀\u001b[38;2;0;0;0;48;2;0;0;0m▀\u001b[38;2;0;0;0;48;2;0;0;0m▀\u001b[38;2;0;0;0;48;2;0;0;0m▀\u001b[38;2;0;0;0;48;2;0;0;0m▀\u001b[38;2;0;0;0;48;2;0;0;0m▀\u001b[38;2;0;0;0;48;2;0;0;0m▀\u001b[38;2;0;0;0;48;2;0;0;0m▀\u001b[38;2;0;0;0;48;2;0;0;0m▀\u001b[38;2;0;0;0;48;2;0;0;0m▀\u001b[38;2;0;0;0;48;2;0;0;0m▀\u001b[38;2;0;0;0;48;2;0;0;0m▀\u001b[38;2;0;0;0;48;2;0;0;0m▀\u001b[38;2;0;0;0;48;2;0;0;0m▀\u001b[38;2;0;0;0;48;2;0;0;0m▀\u001b[38;2;0;0;0;48;2;0;0;0m▀\u001b[38;2;0;0;0;48;2;0;0;0m▀\u001b[38;2;0;0;0;48;2;0;0;0m▀\u001b[38;2;0;0;0;48;2;0;0;0m▀\u001b[38;2;0;0;0;48;2;0;0;0m▀\u001b[38;2;0;0;0;48;2;0;0;0m▀\u001b[38;2;0;0;0;48;2;0;0;0m▀\u001b[38;2;0;0;0;48;2;0;0;0m▀\u001b[38;2;0;0;0;48;2;0;0;0m▀\u001b[38;2;0;0;0;48;2;0;0;0m▀\u001b[38;2;0;0;0;48;2;0;0;0m▀\u001b[0m\n",
       "\u001b[0m\u001b[38;2;0;0;0;48;2;0;0;0m▀\u001b[38;2;0;0;0;48;2;0;0;0m▀\u001b[38;2;0;0;0;48;2;0;0;0m▀\u001b[38;2;0;0;0;48;2;0;0;0m▀\u001b[38;2;0;0;0;48;2;0;0;0m▀\u001b[38;2;0;0;0;48;2;0;0;0m▀\u001b[38;2;0;0;0;48;2;0;0;0m▀\u001b[38;2;0;0;0;48;2;0;0;0m▀\u001b[38;2;0;0;0;48;2;0;0;0m▀\u001b[38;2;0;0;0;48;2;0;0;0m▀\u001b[38;2;0;0;0;48;2;2;2;2m▀\u001b[38;2;0;0;0;48;2;4;4;4m▀\u001b[38;2;0;0;0;48;2;5;5;5m▀\u001b[38;2;0;0;0;48;2;11;11;11m▀\u001b[38;2;0;0;0;48;2;17;17;17m▀\u001b[38;2;0;0;0;48;2;22;22;22m▀\u001b[38;2;2;2;2;48;2;30;30;30m▀\u001b[38;2;5;5;5;48;2;46;46;46m▀\u001b[38;2;5;5;5;48;2;47;47;47m▀\u001b[38;2;5;5;5;48;2;47;47;47m▀\u001b[38;2;20;20;20;48;2;92;92;92m▀\u001b[38;2;36;36;36;48;2;140;140;140m▀\u001b[38;2;40;40;40;48;2;150;150;150m▀\u001b[38;2;47;47;47;48;2;168;168;168m▀\u001b[38;2;19;19;19;48;2;81;81;81m▀\u001b[38;2;27;27;27;48;2;108;108;108m▀\u001b[38;2;54;54;54;48;2;192;192;192m▀\u001b[38;2;71;71;71;48;2;242;242;242m▀\u001b[38;2;69;69;69;48;2;231;231;231m▀\u001b[38;2;45;45;45;48;2;148;148;148m▀\u001b[38;2;18;18;18;48;2;58;58;58m▀\u001b[38;2;0;0;0;48;2;0;0;0m▀\u001b[38;2;0;0;0;48;2;0;0;0m▀\u001b[38;2;0;0;0;48;2;0;0;0m▀\u001b[38;2;0;0;0;48;2;0;0;0m▀\u001b[38;2;0;0;0;48;2;0;0;0m▀\u001b[0m\n",
       "\u001b[0m\u001b[38;2;0;0;0;48;2;0;0;0m▀\u001b[38;2;0;0;0;48;2;0;0;0m▀\u001b[38;2;0;0;0;48;2;0;0;0m▀\u001b[38;2;0;0;0;48;2;0;0;0m▀\u001b[38;2;0;0;0;48;2;0;0;0m▀\u001b[38;2;0;0;0;48;2;0;0;0m▀\u001b[38;2;0;0;0;48;2;0;0;0m▀\u001b[38;2;0;0;0;48;2;0;0;0m▀\u001b[38;2;0;0;0;48;2;1;1;1m▀\u001b[38;2;1;1;1;48;2;25;25;25m▀\u001b[38;2;17;17;17;48;2;107;107;107m▀\u001b[38;2;34;34;34;48;2;183;183;183m▀\u001b[38;2;44;44;44;48;2;194;194;194m▀\u001b[38;2;83;83;83;48;2;207;207;207m▀\u001b[38;2;124;124;124;48;2;220;220;220m▀\u001b[38;2;145;145;145;48;2;227;227;227m▀\u001b[38;2;172;172;172;48;2;236;236;236m▀\u001b[38;2;221;221;221;48;2;252;252;252m▀\u001b[38;2;224;224;224;48;2;253;253;253m▀\u001b[38;2;224;224;224;48;2;253;253;253m▀\u001b[38;2;230;230;230;48;2;253;253;253m▀\u001b[38;2;237;237;237;48;2;253;253;253m▀\u001b[38;2;235;235;235;48;2;236;236;236m▀\u001b[38;2;216;216;216;48;2;145;145;145m▀\u001b[38;2;169;169;169;48;2;114;114;114m▀\u001b[38;2;194;194;194;48;2;119;119;119m▀\u001b[38;2;237;237;237;48;2;124;124;124m▀\u001b[38;2;233;233;233;48;2;106;106;106m▀\u001b[38;2;198;198;198;48;2;84;84;84m▀\u001b[38;2;106;106;106;48;2;36;36;36m▀\u001b[38;2;35;35;35;48;2;9;9;9m▀\u001b[38;2;0;0;0;48;2;0;0;0m▀\u001b[38;2;0;0;0;48;2;0;0;0m▀\u001b[38;2;0;0;0;48;2;0;0;0m▀\u001b[38;2;0;0;0;48;2;0;0;0m▀\u001b[38;2;0;0;0;48;2;0;0;0m▀\u001b[0m\n",
       "\u001b[0m\u001b[38;2;0;0;0;48;2;0;0;0m▀\u001b[38;2;0;0;0;48;2;0;0;0m▀\u001b[38;2;0;0;0;48;2;0;0;0m▀\u001b[38;2;0;0;0;48;2;0;0;0m▀\u001b[38;2;0;0;0;48;2;0;0;0m▀\u001b[38;2;0;0;0;48;2;0;0;0m▀\u001b[38;2;0;0;0;48;2;0;0;0m▀\u001b[38;2;0;0;0;48;2;0;0;0m▀\u001b[38;2;1;1;1;48;2;0;0;0m▀\u001b[38;2;24;24;24;48;2;9;9;9m▀\u001b[38;2;131;131;131;48;2;96;96;96m▀\u001b[38;2;235;235;235;48;2;193;193;193m▀\u001b[38;2;252;252;252;48;2;223;223;223m▀\u001b[38;2;253;253;253;48;2;215;215;215m▀\u001b[38;2;253;253;253;48;2;241;241;241m▀\u001b[38;2;253;253;253;48;2;253;253;253m▀\u001b[38;2;253;253;253;48;2;249;249;249m▀\u001b[38;2;250;250;250;48;2;228;228;228m▀\u001b[38;2;229;229;229;48;2;157;157;157m▀\u001b[38;2;220;220;220;48;2;135;135;135m▀\u001b[38;2;234;234;234;48;2;160;160;160m▀\u001b[38;2;249;249;249;48;2;197;197;197m▀\u001b[38;2;221;221;221;48;2;189;189;189m▀\u001b[38;2;71;71;71;48;2;27;27;27m▀\u001b[38;2;43;43;43;48;2;0;0;0m▀\u001b[38;2;41;41;41;48;2;0;0;0m▀\u001b[38;2;37;37;37;48;2;0;0;0m▀\u001b[38;2;27;27;27;48;2;0;0;0m▀\u001b[38;2;20;20;20;48;2;0;0;0m▀\u001b[38;2;5;5;5;48;2;0;0;0m▀\u001b[38;2;0;0;0;48;2;0;0;0m▀\u001b[38;2;0;0;0;48;2;0;0;0m▀\u001b[38;2;0;0;0;48;2;0;0;0m▀\u001b[38;2;0;0;0;48;2;0;0;0m▀\u001b[38;2;0;0;0;48;2;0;0;0m▀\u001b[38;2;0;0;0;48;2;0;0;0m▀\u001b[0m\n",
       "\u001b[0m\u001b[38;2;0;0;0;48;2;0;0;0m▀\u001b[38;2;0;0;0;48;2;0;0;0m▀\u001b[38;2;0;0;0;48;2;0;0;0m▀\u001b[38;2;0;0;0;48;2;0;0;0m▀\u001b[38;2;0;0;0;48;2;0;0;0m▀\u001b[38;2;0;0;0;48;2;0;0;0m▀\u001b[38;2;0;0;0;48;2;0;0;0m▀\u001b[38;2;0;0;0;48;2;0;0;0m▀\u001b[38;2;0;0;0;48;2;0;0;0m▀\u001b[38;2;0;0;0;48;2;0;0;0m▀\u001b[38;2;37;37;37;48;2;5;5;5m▀\u001b[38;2;93;93;93;48;2;16;16;16m▀\u001b[38;2;134;134;134;48;2;29;29;29m▀\u001b[38;2;108;108;108;48;2;21;21;21m▀\u001b[38;2;201;201;201;48;2;123;123;123m▀\u001b[38;2;247;247;247;48;2;209;209;209m▀\u001b[38;2;236;236;236;48;2;212;212;212m▀\u001b[38;2;172;172;172;48;2;99;99;99m▀\u001b[38;2;37;37;37;48;2;15;15;15m▀\u001b[38;2;8;8;8;48;2;0;0;0m▀\u001b[38;2;25;25;25;48;2;3;3;3m▀\u001b[38;2;70;70;70;48;2;9;9;9m▀\u001b[38;2;117;117;117;48;2;16;16;16m▀\u001b[38;2;17;17;17;48;2;2;2;2m▀\u001b[38;2;0;0;0;48;2;0;0;0m▀\u001b[38;2;0;0;0;48;2;0;0;0m▀\u001b[38;2;0;0;0;48;2;0;0;0m▀\u001b[38;2;0;0;0;48;2;0;0;0m▀\u001b[38;2;0;0;0;48;2;0;0;0m▀\u001b[38;2;0;0;0;48;2;0;0;0m▀\u001b[38;2;0;0;0;48;2;0;0;0m▀\u001b[38;2;0;0;0;48;2;0;0;0m▀\u001b[38;2;0;0;0;48;2;0;0;0m▀\u001b[38;2;0;0;0;48;2;0;0;0m▀\u001b[38;2;0;0;0;48;2;0;0;0m▀\u001b[38;2;0;0;0;48;2;0;0;0m▀\u001b[0m\n",
       "\u001b[0m\u001b[38;2;0;0;0;48;2;0;0;0m▀\u001b[38;2;0;0;0;48;2;0;0;0m▀\u001b[38;2;0;0;0;48;2;0;0;0m▀\u001b[38;2;0;0;0;48;2;0;0;0m▀\u001b[38;2;0;0;0;48;2;0;0;0m▀\u001b[38;2;0;0;0;48;2;0;0;0m▀\u001b[38;2;0;0;0;48;2;0;0;0m▀\u001b[38;2;0;0;0;48;2;0;0;0m▀\u001b[38;2;0;0;0;48;2;0;0;0m▀\u001b[38;2;0;0;0;48;2;0;0;0m▀\u001b[38;2;0;0;0;48;2;0;0;0m▀\u001b[38;2;1;1;1;48;2;0;0;0m▀\u001b[38;2;3;3;3;48;2;0;0;0m▀\u001b[38;2;5;5;5;48;2;2;2;2m▀\u001b[38;2;103;103;103;48;2;54;54;54m▀\u001b[38;2;198;198;198;48;2;148;148;148m▀\u001b[38;2;227;227;227;48;2;222;222;222m▀\u001b[38;2;145;145;145;48;2;198;198;198m▀\u001b[38;2;21;21;21;48;2;58;58;58m▀\u001b[38;2;0;0;0;48;2;10;10;10m▀\u001b[38;2;0;0;0;48;2;0;0;0m▀\u001b[38;2;0;0;0;48;2;0;0;0m▀\u001b[38;2;0;0;0;48;2;0;0;0m▀\u001b[38;2;0;0;0;48;2;0;0;0m▀\u001b[38;2;0;0;0;48;2;0;0;0m▀\u001b[38;2;0;0;0;48;2;0;0;0m▀\u001b[38;2;0;0;0;48;2;0;0;0m▀\u001b[38;2;0;0;0;48;2;0;0;0m▀\u001b[38;2;0;0;0;48;2;0;0;0m▀\u001b[38;2;0;0;0;48;2;0;0;0m▀\u001b[38;2;0;0;0;48;2;0;0;0m▀\u001b[38;2;0;0;0;48;2;0;0;0m▀\u001b[38;2;0;0;0;48;2;0;0;0m▀\u001b[38;2;0;0;0;48;2;0;0;0m▀\u001b[38;2;0;0;0;48;2;0;0;0m▀\u001b[38;2;0;0;0;48;2;0;0;0m▀\u001b[0m\n",
       "\u001b[0m\u001b[38;2;0;0;0;48;2;0;0;0m▀\u001b[38;2;0;0;0;48;2;0;0;0m▀\u001b[38;2;0;0;0;48;2;0;0;0m▀\u001b[38;2;0;0;0;48;2;0;0;0m▀\u001b[38;2;0;0;0;48;2;0;0;0m▀\u001b[38;2;0;0;0;48;2;0;0;0m▀\u001b[38;2;0;0;0;48;2;0;0;0m▀\u001b[38;2;0;0;0;48;2;0;0;0m▀\u001b[38;2;0;0;0;48;2;0;0;0m▀\u001b[38;2;0;0;0;48;2;0;0;0m▀\u001b[38;2;0;0;0;48;2;0;0;0m▀\u001b[38;2;0;0;0;48;2;0;0;0m▀\u001b[38;2;0;0;0;48;2;0;0;0m▀\u001b[38;2;0;0;0;48;2;0;0;0m▀\u001b[38;2;6;6;6;48;2;0;0;0m▀\u001b[38;2;77;77;77;48;2;18;18;18m▀\u001b[38;2;175;175;175;48;2;88;88;88m▀\u001b[38;2;229;229;229;48;2;216;216;216m▀\u001b[38;2;128;128;128;48;2;220;220;220m▀\u001b[38;2;64;64;64;48;2;182;182;182m▀\u001b[38;2;38;38;38;48;2;145;145;145m▀\u001b[38;2;22;22;22;48;2;93;93;93m▀\u001b[38;2;1;1;1;48;2;17;17;17m▀\u001b[38;2;0;0;0;48;2;5;5;5m▀\u001b[38;2;0;0;0;48;2;1;1;1m▀\u001b[38;2;0;0;0;48;2;0;0;0m▀\u001b[38;2;0;0;0;48;2;0;0;0m▀\u001b[38;2;0;0;0;48;2;0;0;0m▀\u001b[38;2;0;0;0;48;2;0;0;0m▀\u001b[38;2;0;0;0;48;2;0;0;0m▀\u001b[38;2;0;0;0;48;2;0;0;0m▀\u001b[38;2;0;0;0;48;2;0;0;0m▀\u001b[38;2;0;0;0;48;2;0;0;0m▀\u001b[38;2;0;0;0;48;2;0;0;0m▀\u001b[38;2;0;0;0;48;2;0;0;0m▀\u001b[38;2;0;0;0;48;2;0;0;0m▀\u001b[0m\n",
       "\u001b[0m\u001b[38;2;0;0;0;48;2;0;0;0m▀\u001b[38;2;0;0;0;48;2;0;0;0m▀\u001b[38;2;0;0;0;48;2;0;0;0m▀\u001b[38;2;0;0;0;48;2;0;0;0m▀\u001b[38;2;0;0;0;48;2;0;0;0m▀\u001b[38;2;0;0;0;48;2;0;0;0m▀\u001b[38;2;0;0;0;48;2;0;0;0m▀\u001b[38;2;0;0;0;48;2;0;0;0m▀\u001b[38;2;0;0;0;48;2;0;0;0m▀\u001b[38;2;0;0;0;48;2;0;0;0m▀\u001b[38;2;0;0;0;48;2;0;0;0m▀\u001b[38;2;0;0;0;48;2;0;0;0m▀\u001b[38;2;0;0;0;48;2;0;0;0m▀\u001b[38;2;0;0;0;48;2;0;0;0m▀\u001b[38;2;0;0;0;48;2;0;0;0m▀\u001b[38;2;2;2;2;48;2;0;0;0m▀\u001b[38;2;31;31;31;48;2;6;6;6m▀\u001b[38;2;112;112;112;48;2;32;32;32m▀\u001b[38;2;216;216;216;48;2;93;93;93m▀\u001b[38;2;237;237;237;48;2;175;175;175m▀\u001b[38;2;237;237;237;48;2;229;229;229m▀\u001b[38;2;199;199;199;48;2;242;242;242m▀\u001b[38;2;102;102;102;48;2;204;204;204m▀\u001b[38;2;35;35;35;48;2;124;124;124m▀\u001b[38;2;8;8;8;48;2;46;46;46m▀\u001b[38;2;0;0;0;48;2;10;10;10m▀\u001b[38;2;0;0;0;48;2;0;0;0m▀\u001b[38;2;0;0;0;48;2;0;0;0m▀\u001b[38;2;0;0;0;48;2;0;0;0m▀\u001b[38;2;0;0;0;48;2;0;0;0m▀\u001b[38;2;0;0;0;48;2;0;0;0m▀\u001b[38;2;0;0;0;48;2;0;0;0m▀\u001b[38;2;0;0;0;48;2;0;0;0m▀\u001b[38;2;0;0;0;48;2;0;0;0m▀\u001b[38;2;0;0;0;48;2;0;0;0m▀\u001b[38;2;0;0;0;48;2;0;0;0m▀\u001b[0m\n",
       "\u001b[0m\u001b[38;2;0;0;0;48;2;0;0;0m▀\u001b[38;2;0;0;0;48;2;0;0;0m▀\u001b[38;2;0;0;0;48;2;0;0;0m▀\u001b[38;2;0;0;0;48;2;0;0;0m▀\u001b[38;2;0;0;0;48;2;0;0;0m▀\u001b[38;2;0;0;0;48;2;0;0;0m▀\u001b[38;2;0;0;0;48;2;0;0;0m▀\u001b[38;2;0;0;0;48;2;0;0;0m▀\u001b[38;2;0;0;0;48;2;0;0;0m▀\u001b[38;2;0;0;0;48;2;0;0;0m▀\u001b[38;2;0;0;0;48;2;0;0;0m▀\u001b[38;2;0;0;0;48;2;0;0;0m▀\u001b[38;2;0;0;0;48;2;0;0;0m▀\u001b[38;2;0;0;0;48;2;0;0;0m▀\u001b[38;2;0;0;0;48;2;0;0;0m▀\u001b[38;2;0;0;0;48;2;0;0;0m▀\u001b[38;2;0;0;0;48;2;0;0;0m▀\u001b[38;2;3;3;3;48;2;0;0;0m▀\u001b[38;2;22;22;22;48;2;0;0;0m▀\u001b[38;2;79;79;79;48;2;8;8;8m▀\u001b[38;2;137;137;137;48;2;39;39;39m▀\u001b[38;2;195;195;195;48;2;119;119;119m▀\u001b[38;2;244;244;244;48;2;246;246;246m▀\u001b[38;2;205;205;205;48;2;251;251;251m▀\u001b[38;2;134;134;134;48;2;218;218;218m▀\u001b[38;2;54;54;54;48;2;111;111;111m▀\u001b[38;2;0;0;0;48;2;13;13;13m▀\u001b[38;2;0;0;0;48;2;1;1;1m▀\u001b[38;2;0;0;0;48;2;0;0;0m▀\u001b[38;2;0;0;0;48;2;0;0;0m▀\u001b[38;2;0;0;0;48;2;0;0;0m▀\u001b[38;2;0;0;0;48;2;0;0;0m▀\u001b[38;2;0;0;0;48;2;0;0;0m▀\u001b[38;2;0;0;0;48;2;0;0;0m▀\u001b[38;2;0;0;0;48;2;0;0;0m▀\u001b[38;2;0;0;0;48;2;0;0;0m▀\u001b[0m\n",
       "\u001b[0m\u001b[38;2;0;0;0;48;2;0;0;0m▀\u001b[38;2;0;0;0;48;2;0;0;0m▀\u001b[38;2;0;0;0;48;2;0;0;0m▀\u001b[38;2;0;0;0;48;2;0;0;0m▀\u001b[38;2;0;0;0;48;2;0;0;0m▀\u001b[38;2;0;0;0;48;2;0;0;0m▀\u001b[38;2;0;0;0;48;2;0;0;0m▀\u001b[38;2;0;0;0;48;2;0;0;0m▀\u001b[38;2;0;0;0;48;2;0;0;0m▀\u001b[38;2;0;0;0;48;2;0;0;0m▀\u001b[38;2;0;0;0;48;2;0;0;0m▀\u001b[38;2;0;0;0;48;2;0;0;0m▀\u001b[38;2;0;0;0;48;2;0;0;0m▀\u001b[38;2;0;0;0;48;2;0;0;0m▀\u001b[38;2;0;0;0;48;2;0;0;0m▀\u001b[38;2;0;0;0;48;2;1;1;1m▀\u001b[38;2;0;0;0;48;2;2;2;2m▀\u001b[38;2;1;1;1;48;2;10;10;10m▀\u001b[38;2;5;5;5;48;2;43;43;43m▀\u001b[38;2;14;14;14;48;2;97;97;97m▀\u001b[38;2;21;21;21;48;2;140;140;140m▀\u001b[38;2;89;89;89;48;2;188;188;188m▀\u001b[38;2;243;243;243;48;2;250;250;250m▀\u001b[38;2;252;252;252;48;2;252;252;252m▀\u001b[38;2;245;245;245;48;2;223;223;223m▀\u001b[38;2;148;148;148;48;2;111;111;111m▀\u001b[38;2;39;39;39;48;2;7;7;7m▀\u001b[38;2;2;2;2;48;2;0;0;0m▀\u001b[38;2;0;0;0;48;2;0;0;0m▀\u001b[38;2;0;0;0;48;2;0;0;0m▀\u001b[38;2;0;0;0;48;2;0;0;0m▀\u001b[38;2;0;0;0;48;2;0;0;0m▀\u001b[38;2;0;0;0;48;2;0;0;0m▀\u001b[38;2;0;0;0;48;2;0;0;0m▀\u001b[38;2;0;0;0;48;2;0;0;0m▀\u001b[38;2;0;0;0;48;2;0;0;0m▀\u001b[0m\n",
       "\u001b[0m\u001b[38;2;0;0;0;48;2;0;0;0m▀\u001b[38;2;0;0;0;48;2;0;0;0m▀\u001b[38;2;0;0;0;48;2;0;0;0m▀\u001b[38;2;0;0;0;48;2;0;0;0m▀\u001b[38;2;0;0;0;48;2;0;0;0m▀\u001b[38;2;0;0;0;48;2;0;0;0m▀\u001b[38;2;0;0;0;48;2;0;0;0m▀\u001b[38;2;0;0;0;48;2;0;0;0m▀\u001b[38;2;0;0;0;48;2;0;0;0m▀\u001b[38;2;0;0;0;48;2;0;0;0m▀\u001b[38;2;0;0;0;48;2;0;0;0m▀\u001b[38;2;0;0;0;48;2;0;0;0m▀\u001b[38;2;0;0;0;48;2;2;2;2m▀\u001b[38;2;0;0;0;48;2;12;12;12m▀\u001b[38;2;0;0;0;48;2;44;44;44m▀\u001b[38;2;14;14;14;48;2;94;94;94m▀\u001b[38;2;50;50;50;48;2;150;150;150m▀\u001b[38;2;113;113;113;48;2;203;203;203m▀\u001b[38;2;170;170;170;48;2;236;236;236m▀\u001b[38;2;207;207;207;48;2;250;250;250m▀\u001b[38;2;226;226;226;48;2;253;253;253m▀\u001b[38;2;239;239;239;48;2;246;246;246m▀\u001b[38;2;252;252;252;48;2;220;220;220m▀\u001b[38;2;249;249;249;48;2;170;170;170m▀\u001b[38;2;206;206;206;48;2;112;112;112m▀\u001b[38;2;95;95;95;48;2;46;46;46m▀\u001b[38;2;0;0;0;48;2;0;0;0m▀\u001b[38;2;0;0;0;48;2;0;0;0m▀\u001b[38;2;0;0;0;48;2;0;0;0m▀\u001b[38;2;0;0;0;48;2;0;0;0m▀\u001b[38;2;0;0;0;48;2;0;0;0m▀\u001b[38;2;0;0;0;48;2;0;0;0m▀\u001b[38;2;0;0;0;48;2;0;0;0m▀\u001b[38;2;0;0;0;48;2;0;0;0m▀\u001b[38;2;0;0;0;48;2;0;0;0m▀\u001b[38;2;0;0;0;48;2;0;0;0m▀\u001b[0m\n",
       "\u001b[0m\u001b[38;2;0;0;0;48;2;0;0;0m▀\u001b[38;2;0;0;0;48;2;0;0;0m▀\u001b[38;2;0;0;0;48;2;0;0;0m▀\u001b[38;2;0;0;0;48;2;0;0;0m▀\u001b[38;2;0;0;0;48;2;0;0;0m▀\u001b[38;2;0;0;0;48;2;0;0;0m▀\u001b[38;2;0;0;0;48;2;0;0;0m▀\u001b[38;2;0;0;0;48;2;0;0;0m▀\u001b[38;2;0;0;0;48;2;3;3;3m▀\u001b[38;2;0;0;0;48;2;16;16;16m▀\u001b[38;2;3;3;3;48;2;34;34;34m▀\u001b[38;2;10;10;10;48;2;58;58;58m▀\u001b[38;2;26;26;26;48;2;102;102;102m▀\u001b[38;2;72;72;72;48;2;198;198;198m▀\u001b[38;2;132;132;132;48;2;238;238;238m▀\u001b[38;2;192;192;192;48;2;250;250;250m▀\u001b[38;2;236;236;236;48;2;250;250;250m▀\u001b[38;2;252;252;252;48;2;244;244;244m▀\u001b[38;2;253;253;253;48;2;231;231;231m▀\u001b[38;2;242;242;242;48;2;192;192;192m▀\u001b[38;2;221;221;221;48;2;126;126;126m▀\u001b[38;2;188;188;188;48;2;57;57;57m▀\u001b[38;2;136;136;136;48;2;9;9;9m▀\u001b[38;2;65;65;65;48;2;3;3;3m▀\u001b[38;2;16;16;16;48;2;1;1;1m▀\u001b[38;2;0;0;0;48;2;0;0;0m▀\u001b[38;2;0;0;0;48;2;0;0;0m▀\u001b[38;2;0;0;0;48;2;0;0;0m▀\u001b[38;2;0;0;0;48;2;0;0;0m▀\u001b[38;2;0;0;0;48;2;0;0;0m▀\u001b[38;2;0;0;0;48;2;0;0;0m▀\u001b[38;2;0;0;0;48;2;0;0;0m▀\u001b[38;2;0;0;0;48;2;0;0;0m▀\u001b[38;2;0;0;0;48;2;0;0;0m▀\u001b[38;2;0;0;0;48;2;0;0;0m▀\u001b[38;2;0;0;0;48;2;0;0;0m▀\u001b[0m\n",
       "\u001b[0m\u001b[38;2;0;0;0;48;2;0;0;0m▀\u001b[38;2;0;0;0;48;2;0;0;0m▀\u001b[38;2;0;0;0;48;2;0;0;0m▀\u001b[38;2;0;0;0;48;2;0;0;0m▀\u001b[38;2;0;0;0;48;2;0;0;0m▀\u001b[38;2;1;1;1;48;2;20;20;20m▀\u001b[38;2;3;3;3;48;2;63;63;63m▀\u001b[38;2;7;7;7;48;2;126;126;126m▀\u001b[38;2;24;24;24;48;2;164;164;164m▀\u001b[38;2;116;116;116;48;2;212;212;212m▀\u001b[38;2;174;174;174;48;2;237;237;237m▀\u001b[38;2;205;205;205;48;2;246;246;246m▀\u001b[38;2;231;231;231;48;2;253;253;253m▀\u001b[38;2;246;246;246;48;2;253;253;253m▀\u001b[38;2;251;251;251;48;2;248;248;248m▀\u001b[38;2;251;251;251;48;2;207;207;207m▀\u001b[38;2;234;234;234;48;2;138;138;138m▀\u001b[38;2;186;186;186;48;2;61;61;61m▀\u001b[38;2;109;109;109;48;2;27;27;27m▀\u001b[38;2;51;51;51;48;2;8;8;8m▀\u001b[38;2;21;21;21;48;2;1;1;1m▀\u001b[38;2;7;7;7;48;2;0;0;0m▀\u001b[38;2;1;1;1;48;2;0;0;0m▀\u001b[38;2;0;0;0;48;2;0;0;0m▀\u001b[38;2;0;0;0;48;2;0;0;0m▀\u001b[38;2;0;0;0;48;2;0;0;0m▀\u001b[38;2;0;0;0;48;2;0;0;0m▀\u001b[38;2;0;0;0;48;2;0;0;0m▀\u001b[38;2;0;0;0;48;2;0;0;0m▀\u001b[38;2;0;0;0;48;2;0;0;0m▀\u001b[38;2;0;0;0;48;2;0;0;0m▀\u001b[38;2;0;0;0;48;2;0;0;0m▀\u001b[38;2;0;0;0;48;2;0;0;0m▀\u001b[38;2;0;0;0;48;2;0;0;0m▀\u001b[38;2;0;0;0;48;2;0;0;0m▀\u001b[38;2;0;0;0;48;2;0;0;0m▀\u001b[0m\n",
       "\u001b[0m\u001b[38;2;0;0;0;48;2;0;0;0m▀\u001b[38;2;0;0;0;48;2;0;0;0m▀\u001b[38;2;0;0;0;48;2;0;0;0m▀\u001b[38;2;0;0;0;48;2;0;0;0m▀\u001b[38;2;0;0;0;48;2;0;0;0m▀\u001b[38;2;48;48;48;48;2;49;49;49m▀\u001b[38;2;128;128;128;48;2;121;121;121m▀\u001b[38;2;212;212;212;48;2;179;179;179m▀\u001b[38;2;237;237;237;48;2;182;182;182m▀\u001b[38;2;249;249;249;48;2;182;182;182m▀\u001b[38;2;243;243;243;48;2;167;167;167m▀\u001b[38;2;222;222;222;48;2;137;137;137m▀\u001b[38;2;195;195;195;48;2;98;98;98m▀\u001b[38;2;191;191;191;48;2;93;93;93m▀\u001b[38;2;148;148;148;48;2;35;35;35m▀\u001b[38;2;98;98;98;48;2;6;6;6m▀\u001b[38;2;49;49;49;48;2;0;0;0m▀\u001b[38;2;7;7;7;48;2;0;0;0m▀\u001b[38;2;1;1;1;48;2;0;0;0m▀\u001b[38;2;0;0;0;48;2;0;0;0m▀\u001b[38;2;0;0;0;48;2;0;0;0m▀\u001b[38;2;0;0;0;48;2;0;0;0m▀\u001b[38;2;0;0;0;48;2;0;0;0m▀\u001b[38;2;0;0;0;48;2;0;0;0m▀\u001b[38;2;0;0;0;48;2;0;0;0m▀\u001b[38;2;0;0;0;48;2;0;0;0m▀\u001b[38;2;0;0;0;48;2;0;0;0m▀\u001b[38;2;0;0;0;48;2;0;0;0m▀\u001b[38;2;0;0;0;48;2;0;0;0m▀\u001b[38;2;0;0;0;48;2;0;0;0m▀\u001b[38;2;0;0;0;48;2;0;0;0m▀\u001b[38;2;0;0;0;48;2;0;0;0m▀\u001b[38;2;0;0;0;48;2;0;0;0m▀\u001b[38;2;0;0;0;48;2;0;0;0m▀\u001b[38;2;0;0;0;48;2;0;0;0m▀\u001b[38;2;0;0;0;48;2;0;0;0m▀\u001b[0m\n",
       "\u001b[0m\u001b[38;2;0;0;0;48;2;0;0;0m▀\u001b[38;2;0;0;0;48;2;0;0;0m▀\u001b[38;2;0;0;0;48;2;0;0;0m▀\u001b[38;2;0;0;0;48;2;0;0;0m▀\u001b[38;2;0;0;0;48;2;0;0;0m▀\u001b[38;2;2;2;2;48;2;0;0;0m▀\u001b[38;2;5;5;5;48;2;0;0;0m▀\u001b[38;2;8;8;8;48;2;0;0;0m▀\u001b[38;2;8;8;8;48;2;0;0;0m▀\u001b[38;2;8;8;8;48;2;0;0;0m▀\u001b[38;2;7;7;7;48;2;0;0;0m▀\u001b[38;2;6;6;6;48;2;0;0;0m▀\u001b[38;2;4;4;4;48;2;0;0;0m▀\u001b[38;2;4;4;4;48;2;0;0;0m▀\u001b[38;2;2;2;2;48;2;0;0;0m▀\u001b[38;2;0;0;0;48;2;0;0;0m▀\u001b[38;2;0;0;0;48;2;0;0;0m▀\u001b[38;2;0;0;0;48;2;0;0;0m▀\u001b[38;2;0;0;0;48;2;0;0;0m▀\u001b[38;2;0;0;0;48;2;0;0;0m▀\u001b[38;2;0;0;0;48;2;0;0;0m▀\u001b[38;2;0;0;0;48;2;0;0;0m▀\u001b[38;2;0;0;0;48;2;0;0;0m▀\u001b[38;2;0;0;0;48;2;0;0;0m▀\u001b[38;2;0;0;0;48;2;0;0;0m▀\u001b[38;2;0;0;0;48;2;0;0;0m▀\u001b[38;2;0;0;0;48;2;0;0;0m▀\u001b[38;2;0;0;0;48;2;0;0;0m▀\u001b[38;2;0;0;0;48;2;0;0;0m▀\u001b[38;2;0;0;0;48;2;0;0;0m▀\u001b[38;2;0;0;0;48;2;0;0;0m▀\u001b[38;2;0;0;0;48;2;0;0;0m▀\u001b[38;2;0;0;0;48;2;0;0;0m▀\u001b[38;2;0;0;0;48;2;0;0;0m▀\u001b[38;2;0;0;0;48;2;0;0;0m▀\u001b[38;2;0;0;0;48;2;0;0;0m▀\u001b[0m\n",
       "\u001b[0m\u001b[38;2;0;0;0;48;2;0;0;0m▀\u001b[38;2;0;0;0;48;2;0;0;0m▀\u001b[38;2;0;0;0;48;2;0;0;0m▀\u001b[38;2;0;0;0;48;2;0;0;0m▀\u001b[38;2;0;0;0;48;2;0;0;0m▀\u001b[38;2;0;0;0;48;2;0;0;0m▀\u001b[38;2;0;0;0;48;2;0;0;0m▀\u001b[38;2;0;0;0;48;2;0;0;0m▀\u001b[38;2;0;0;0;48;2;0;0;0m▀\u001b[38;2;0;0;0;48;2;0;0;0m▀\u001b[38;2;0;0;0;48;2;0;0;0m▀\u001b[38;2;0;0;0;48;2;0;0;0m▀\u001b[38;2;0;0;0;48;2;0;0;0m▀\u001b[38;2;0;0;0;48;2;0;0;0m▀\u001b[38;2;0;0;0;48;2;0;0;0m▀\u001b[38;2;0;0;0;48;2;0;0;0m▀\u001b[38;2;0;0;0;48;2;0;0;0m▀\u001b[38;2;0;0;0;48;2;0;0;0m▀\u001b[38;2;0;0;0;48;2;0;0;0m▀\u001b[38;2;0;0;0;48;2;0;0;0m▀\u001b[38;2;0;0;0;48;2;0;0;0m▀\u001b[38;2;0;0;0;48;2;0;0;0m▀\u001b[38;2;0;0;0;48;2;0;0;0m▀\u001b[38;2;0;0;0;48;2;0;0;0m▀\u001b[38;2;0;0;0;48;2;0;0;0m▀\u001b[38;2;0;0;0;48;2;0;0;0m▀\u001b[38;2;0;0;0;48;2;0;0;0m▀\u001b[38;2;0;0;0;48;2;0;0;0m▀\u001b[38;2;0;0;0;48;2;0;0;0m▀\u001b[38;2;0;0;0;48;2;0;0;0m▀\u001b[38;2;0;0;0;48;2;0;0;0m▀\u001b[38;2;0;0;0;48;2;0;0;0m▀\u001b[38;2;0;0;0;48;2;0;0;0m▀\u001b[38;2;0;0;0;48;2;0;0;0m▀\u001b[38;2;0;0;0;48;2;0;0;0m▀\u001b[38;2;0;0;0;48;2;0;0;0m▀\u001b[0m\n"
      ]
     },
     "execution_count": 83,
     "metadata": {},
     "output_type": "execute_result"
    }
   ],
   "source": [
    "cnn_output = m( images[:,:,:,1:3] )\n",
    "display( cnn_output |> size )\n",
    "convert2image( MNIST , cnn_output[:,:,1,1] )"
   ]
  },
  {
   "cell_type": "code",
   "execution_count": 84,
   "metadata": {},
   "outputs": [
    {
     "data": {
      "text/plain": [
       "(1000, 1000, 2, 10)"
      ]
     },
     "execution_count": 84,
     "metadata": {},
     "output_type": "execute_result"
    }
   ],
   "source": [
    "x = rand(Float32, 100, 100, 2, 10); \n",
    "m = Upsample( :bilinear, scale=10 )\n",
    "m( x ) |> size"
   ]
  },
  {
   "cell_type": "code",
   "execution_count": 85,
   "metadata": {},
   "outputs": [
    {
     "data": {
      "text/plain": [
       "(280, 280, 1, 3)"
      ]
     },
     "metadata": {},
     "output_type": "display_data"
    },
    {
     "data": {
      "image/png": "[encoded data removed]",
      "text/plain": [
       "\u001b[0m\u001b[38;2;0;0;0;48;2;0;0;0m▀\u001b[38;2;0;0;0;48;2;0;0;0m▀\u001b[38;2;0;0;0;48;2;0;0;0m▀\u001b[38;2;0;0;0;48;2;0;0;0m▀\u001b[38;2;0;0;0;48;2;0;0;0m▀\u001b[38;2;0;0;0;48;2;0;0;0m▀\u001b[38;2;0;0;0;48;2;0;0;0m▀\u001b[38;2;0;0;0;48;2;0;0;0m▀\u001b[38;2;0;0;0;48;2;0;0;0m▀\u001b[38;2;0;0;0;48;2;0;0;0m▀\u001b[38;2;0;0;0;48;2;0;0;0m▀\u001b[38;2;0;0;0;48;2;0;0;0m▀\u001b[38;2;0;0;0;48;2;0;0;0m▀\u001b[38;2;0;0;0;48;2;0;0;0m▀\u001b[38;2;0;0;0;48;2;0;0;0m▀\u001b[38;2;0;0;0;48;2;0;0;0m▀\u001b[38;2;0;0;0;48;2;0;0;0m▀\u001b[38;2;0;0;0;48;2;0;0;0m▀\u001b[38;2;0;0;0;48;2;0;0;0m▀\u001b[38;2;0;0;0;48;2;0;0;0m▀\u001b[38;2;0;0;0;48;2;0;0;0m▀\u001b[38;2;0;0;0;48;2;0;0;0m▀\u001b[38;2;0;0;0;48;2;0;0;0m▀\u001b[38;2;0;0;0;48;2;0;0;0m▀\u001b[38;2;0;0;0;48;2;0;0;0m▀\u001b[38;2;0;0;0;48;2;0;0;0m▀\u001b[38;2;0;0;0;48;2;0;0;0m▀\u001b[38;2;0;0;0;48;2;0;0;0m▀\u001b[38;2;0;0;0;48;2;0;0;0m▀\u001b[38;2;0;0;0;48;2;0;0;0m▀\u001b[38;2;0;0;0;48;2;0;0;0m▀\u001b[38;2;0;0;0;48;2;0;0;0m▀\u001b[38;2;0;0;0;48;2;0;0;0m▀\u001b[38;2;0;0;0;48;2;0;0;0m▀\u001b[38;2;0;0;0;48;2;0;0;0m▀\u001b[38;2;0;0;0;48;2;0;0;0m▀\u001b[0m\n",
       "\u001b[0m\u001b[38;2;0;0;0;48;2;0;0;0m▀\u001b[38;2;0;0;0;48;2;0;0;0m▀\u001b[38;2;0;0;0;48;2;0;0;0m▀\u001b[38;2;0;0;0;48;2;0;0;0m▀\u001b[38;2;0;0;0;48;2;0;0;0m▀\u001b[38;2;0;0;0;48;2;0;0;0m▀\u001b[38;2;0;0;0;48;2;0;0;0m▀\u001b[38;2;0;0;0;48;2;0;0;0m▀\u001b[38;2;0;0;0;48;2;0;0;0m▀\u001b[38;2;0;0;0;48;2;0;0;0m▀\u001b[38;2;0;0;0;48;2;0;0;0m▀\u001b[38;2;0;0;0;48;2;0;0;0m▀\u001b[38;2;0;0;0;48;2;0;0;0m▀\u001b[38;2;0;0;0;48;2;0;0;0m▀\u001b[38;2;0;0;0;48;2;0;0;0m▀\u001b[38;2;0;0;0;48;2;0;0;0m▀\u001b[38;2;0;0;0;48;2;0;0;0m▀\u001b[38;2;0;0;0;48;2;0;0;0m▀\u001b[38;2;0;0;0;48;2;0;0;0m▀\u001b[38;2;0;0;0;48;2;0;0;0m▀\u001b[38;2;0;0;0;48;2;0;0;0m▀\u001b[38;2;0;0;0;48;2;0;0;0m▀\u001b[38;2;0;0;0;48;2;0;0;0m▀\u001b[38;2;0;0;0;48;2;0;0;0m▀\u001b[38;2;0;0;0;48;2;0;0;0m▀\u001b[38;2;0;0;0;48;2;0;0;0m▀\u001b[38;2;0;0;0;48;2;0;0;0m▀\u001b[38;2;0;0;0;48;2;0;0;0m▀\u001b[38;2;0;0;0;48;2;0;0;0m▀\u001b[38;2;0;0;0;48;2;0;0;0m▀\u001b[38;2;0;0;0;48;2;0;0;0m▀\u001b[38;2;0;0;0;48;2;0;0;0m▀\u001b[38;2;0;0;0;48;2;0;0;0m▀\u001b[38;2;0;0;0;48;2;0;0;0m▀\u001b[38;2;0;0;0;48;2;0;0;0m▀\u001b[38;2;0;0;0;48;2;0;0;0m▀\u001b[0m\n",
       "\u001b[0m\u001b[38;2;0;0;0;48;2;0;0;0m▀\u001b[38;2;0;0;0;48;2;0;0;0m▀\u001b[38;2;0;0;0;48;2;0;0;0m▀\u001b[38;2;0;0;0;48;2;0;0;0m▀\u001b[38;2;0;0;0;48;2;0;0;0m▀\u001b[38;2;0;0;0;48;2;0;0;0m▀\u001b[38;2;0;0;0;48;2;0;0;0m▀\u001b[38;2;0;0;0;48;2;0;0;0m▀\u001b[38;2;0;0;0;48;2;0;0;0m▀\u001b[38;2;0;0;0;48;2;0;0;0m▀\u001b[38;2;0;0;0;48;2;0;0;0m▀\u001b[38;2;0;0;0;48;2;0;0;0m▀\u001b[38;2;0;0;0;48;2;0;0;0m▀\u001b[38;2;0;0;0;48;2;0;0;0m▀\u001b[38;2;0;0;0;48;2;0;0;0m▀\u001b[38;2;0;0;0;48;2;0;0;0m▀\u001b[38;2;0;0;0;48;2;0;0;0m▀\u001b[38;2;0;0;0;48;2;1;1;1m▀\u001b[38;2;0;0;0;48;2;1;1;1m▀\u001b[38;2;0;0;0;48;2;1;1;1m▀\u001b[38;2;0;0;0;48;2;4;4;4m▀\u001b[38;2;0;0;0;48;2;7;7;7m▀\u001b[38;2;0;0;0;48;2;8;8;8m▀\u001b[38;2;0;0;0;48;2;9;9;9m▀\u001b[38;2;0;0;0;48;2;6;6;6m▀\u001b[38;2;0;0;0;48;2;5;5;5m▀\u001b[38;2;0;0;0;48;2;10;10;10m▀\u001b[38;2;0;0;0;48;2;14;14;14m▀\u001b[38;2;0;0;0;48;2;15;15;15m▀\u001b[38;2;0;0;0;48;2;12;12;12m▀\u001b[38;2;0;0;0;48;2;6;6;6m▀\u001b[38;2;0;0;0;48;2;1;1;1m▀\u001b[38;2;0;0;0;48;2;0;0;0m▀\u001b[38;2;0;0;0;48;2;0;0;0m▀\u001b[38;2;0;0;0;48;2;0;0;0m▀\u001b[38;2;0;0;0;48;2;0;0;0m▀\u001b[0m\n",
       "\u001b[0m\u001b[38;2;0;0;0;48;2;0;0;0m▀\u001b[38;2;0;0;0;48;2;0;0;0m▀\u001b[38;2;0;0;0;48;2;0;0;0m▀\u001b[38;2;0;0;0;48;2;0;0;0m▀\u001b[38;2;0;0;0;48;2;0;0;0m▀\u001b[38;2;0;0;0;48;2;0;0;0m▀\u001b[38;2;0;0;0;48;2;0;0;0m▀\u001b[38;2;0;0;0;48;2;0;0;0m▀\u001b[38;2;0;0;0;48;2;0;0;0m▀\u001b[38;2;0;0;0;48;2;1;1;1m▀\u001b[38;2;0;0;0;48;2;8;8;8m▀\u001b[38;2;0;0;0;48;2;13;13;13m▀\u001b[38;2;1;1;1;48;2;20;20;20m▀\u001b[38;2;1;1;1;48;2;37;37;37m▀\u001b[38;2;2;2;2;48;2;54;54;54m▀\u001b[38;2;3;3;3;48;2;65;65;65m▀\u001b[38;2;8;8;8;48;2;83;83;83m▀\u001b[38;2;13;13;13;48;2;106;106;106m▀\u001b[38;2;14;14;14;48;2;109;109;109m▀\u001b[38;2;15;15;15;48;2;110;110;110m▀\u001b[38;2;41;41;41;48;2;137;137;137m▀\u001b[38;2;74;74;74;48;2;171;171;171m▀\u001b[38;2;83;83;83;48;2;180;180;180m▀\u001b[38;2;93;93;93;48;2;183;183;183m▀\u001b[38;2;58;58;58;48;2;135;135;135m▀\u001b[38;2;47;47;47;48;2;124;124;124m▀\u001b[38;2;99;99;99;48;2;194;194;194m▀\u001b[38;2;138;138;138;48;2;233;233;233m▀\u001b[38;2;144;144;144;48;2;229;229;229m▀\u001b[38;2;114;114;114;48;2;171;171;171m▀\u001b[38;2;60;60;60;48;2;84;84;84m▀\u001b[38;2;11;11;11;48;2;15;15;15m▀\u001b[38;2;0;0;0;48;2;0;0;0m▀\u001b[38;2;0;0;0;48;2;0;0;0m▀\u001b[38;2;0;0;0;48;2;0;0;0m▀\u001b[38;2;0;0;0;48;2;0;0;0m▀\u001b[0m\n",
       "\u001b[0m\u001b[38;2;0;0;0;48;2;0;0;0m▀\u001b[38;2;0;0;0;48;2;0;0;0m▀\u001b[38;2;0;0;0;48;2;0;0;0m▀\u001b[38;2;0;0;0;48;2;0;0;0m▀\u001b[38;2;0;0;0;48;2;0;0;0m▀\u001b[38;2;0;0;0;48;2;0;0;0m▀\u001b[38;2;0;0;0;48;2;0;0;0m▀\u001b[38;2;0;0;0;48;2;0;0;0m▀\u001b[38;2;2;2;2;48;2;8;8;8m▀\u001b[38;2;14;14;14;48;2;46;46;46m▀\u001b[38;2;52;52;52;48;2;146;146;146m▀\u001b[38;2;76;76;76;48;2;206;206;206m▀\u001b[38;2;91;91;91;48;2;217;217;217m▀\u001b[38;2;122;122;122;48;2;226;226;226m▀\u001b[38;2;154;154;154;48;2;233;233;233m▀\u001b[38;2;172;172;172;48;2;237;237;237m▀\u001b[38;2;198;198;198;48;2;244;244;244m▀\u001b[38;2;232;232;232;48;2;251;251;251m▀\u001b[38;2;237;237;237;48;2;249;249;249m▀\u001b[38;2;237;237;237;48;2;247;247;247m▀\u001b[38;2;240;240;240;48;2;249;249;249m▀\u001b[38;2;244;244;244;48;2;252;252;252m▀\u001b[38;2;238;238;238;48;2;233;233;233m▀\u001b[38;2;206;206;206;48;2;147;147;147m▀\u001b[38;2;167;167;167;48;2;99;99;99m▀\u001b[38;2;167;167;167;48;2;95;95;95m▀\u001b[38;2;203;203;203;48;2;99;99;99m▀\u001b[38;2;202;202;202;48;2;86;86;86m▀\u001b[38;2;178;178;178;48;2;70;70;70m▀\u001b[38;2;120;120;120;48;2;41;41;41m▀\u001b[38;2;48;48;48;48;2;12;12;12m▀\u001b[38;2;8;8;8;48;2;2;2;2m▀\u001b[38;2;0;0;0;48;2;0;0;0m▀\u001b[38;2;0;0;0;48;2;0;0;0m▀\u001b[38;2;0;0;0;48;2;0;0;0m▀\u001b[38;2;0;0;0;48;2;0;0;0m▀\u001b[0m\n",
       "\u001b[0m\u001b[38;2;0;0;0;48;2;0;0;0m▀\u001b[38;2;0;0;0;48;2;0;0;0m▀\u001b[38;2;0;0;0;48;2;0;0;0m▀\u001b[38;2;0;0;0;48;2;0;0;0m▀\u001b[38;2;0;0;0;48;2;0;0;0m▀\u001b[38;2;0;0;0;48;2;0;0;0m▀\u001b[38;2;0;0;0;48;2;0;0;0m▀\u001b[38;2;0;0;0;48;2;0;0;0m▀\u001b[38;2;6;6;6;48;2;2;2;2m▀\u001b[38;2;41;41;41;48;2;21;21;21m▀\u001b[38;2;157;157;157;48;2;107;107;107m▀\u001b[38;2;233;233;233;48;2;177;177;177m▀\u001b[38;2;249;249;249;48;2;198;198;198m▀\u001b[38;2;249;249;249;48;2;196;196;196m▀\u001b[38;2;252;252;252;48;2;235;235;235m▀\u001b[38;2;253;253;253;48;2;252;252;252m▀\u001b[38;2;252;252;252;48;2;245;245;245m▀\u001b[38;2;244;244;244;48;2;209;209;209m▀\u001b[38;2;218;218;218;48;2;132;132;132m▀\u001b[38;2;205;205;205;48;2;103;103;103m▀\u001b[38;2;220;220;220;48;2;121;121;121m▀\u001b[38;2;241;241;241;48;2;161;161;161m▀\u001b[38;2;216;216;216;48;2;168;168;168m▀\u001b[38;2;91;91;91;48;2;57;57;57m▀\u001b[38;2;30;30;30;48;2;1;1;1m▀\u001b[38;2;28;28;28;48;2;1;1;1m▀\u001b[38;2;26;26;26;48;2;1;1;1m▀\u001b[38;2;20;20;20;48;2;1;1;1m▀\u001b[38;2;15;15;15;48;2;0;0;0m▀\u001b[38;2;8;8;8;48;2;0;0;0m▀\u001b[38;2;1;1;1;48;2;0;0;0m▀\u001b[38;2;0;0;0;48;2;0;0;0m▀\u001b[38;2;0;0;0;48;2;0;0;0m▀\u001b[38;2;0;0;0;48;2;0;0;0m▀\u001b[38;2;0;0;0;48;2;0;0;0m▀\u001b[38;2;0;0;0;48;2;0;0;0m▀\u001b[0m\n",
       "\u001b[0m\u001b[38;2;0;0;0;48;2;0;0;0m▀\u001b[38;2;0;0;0;48;2;0;0;0m▀\u001b[38;2;0;0;0;48;2;0;0;0m▀\u001b[38;2;0;0;0;48;2;0;0;0m▀\u001b[38;2;0;0;0;48;2;0;0;0m▀\u001b[38;2;0;0;0;48;2;0;0;0m▀\u001b[38;2;0;0;0;48;2;0;0;0m▀\u001b[38;2;0;0;0;48;2;0;0;0m▀\u001b[38;2;0;0;0;48;2;0;0;0m▀\u001b[38;2;6;6;6;48;2;1;1;1m▀\u001b[38;2;44;44;44;48;2;7;7;7m▀\u001b[38;2;89;89;89;48;2;19;19;19m▀\u001b[38;2;107;107;107;48;2;24;24;24m▀\u001b[38;2;107;107;107;48;2;36;36;36m▀\u001b[38;2;189;189;189;48;2;129;129;129m▀\u001b[38;2;239;239;239;48;2;212;212;212m▀\u001b[38;2;224;224;224;48;2;202;202;202m▀\u001b[38;2;150;150;150;48;2;106;106;106m▀\u001b[38;2;46;46;46;48;2;24;24;24m▀\u001b[38;2;11;11;11;48;2;1;1;1m▀\u001b[38;2;22;22;22;48;2;2;2;2m▀\u001b[38;2;57;57;57;48;2;9;9;9m▀\u001b[38;2;90;90;90;48;2;15;15;15m▀\u001b[38;2;32;32;32;48;2;5;5;5m▀\u001b[38;2;0;0;0;48;2;0;0;0m▀\u001b[38;2;0;0;0;48;2;0;0;0m▀\u001b[38;2;0;0;0;48;2;0;0;0m▀\u001b[38;2;0;0;0;48;2;0;0;0m▀\u001b[38;2;0;0;0;48;2;0;0;0m▀\u001b[38;2;0;0;0;48;2;0;0;0m▀\u001b[38;2;0;0;0;48;2;0;0;0m▀\u001b[38;2;0;0;0;48;2;0;0;0m▀\u001b[38;2;0;0;0;48;2;0;0;0m▀\u001b[38;2;0;0;0;48;2;0;0;0m▀\u001b[38;2;0;0;0;48;2;0;0;0m▀\u001b[38;2;0;0;0;48;2;0;0;0m▀\u001b[0m\n",
       "\u001b[0m\u001b[38;2;0;0;0;48;2;0;0;0m▀\u001b[38;2;0;0;0;48;2;0;0;0m▀\u001b[38;2;0;0;0;48;2;0;0;0m▀\u001b[38;2;0;0;0;48;2;0;0;0m▀\u001b[38;2;0;0;0;48;2;0;0;0m▀\u001b[38;2;0;0;0;48;2;0;0;0m▀\u001b[38;2;0;0;0;48;2;0;0;0m▀\u001b[38;2;0;0;0;48;2;0;0;0m▀\u001b[38;2;0;0;0;48;2;0;0;0m▀\u001b[38;2;0;0;0;48;2;0;0;0m▀\u001b[38;2;0;0;0;48;2;0;0;0m▀\u001b[38;2;2;2;2;48;2;0;0;0m▀\u001b[38;2;3;3;3;48;2;0;0;0m▀\u001b[38;2;19;19;19;48;2;9;9;9m▀\u001b[38;2;107;107;107;48;2;58;58;58m▀\u001b[38;2;198;198;198;48;2;150;150;150m▀\u001b[38;2;217;217;217;48;2;216;216;216m▀\u001b[38;2;142;142;142;48;2;188;188;188m▀\u001b[38;2;36;36;36;48;2;74;74;74m▀\u001b[38;2;2;2;2;48;2;16;16;16m▀\u001b[38;2;0;0;0;48;2;2;2;2m▀\u001b[38;2;0;0;0;48;2;1;1;1m▀\u001b[38;2;0;0;0;48;2;0;0;0m▀\u001b[38;2;0;0;0;48;2;0;0;0m▀\u001b[38;2;0;0;0;48;2;0;0;0m▀\u001b[38;2;0;0;0;48;2;0;0;0m▀\u001b[38;2;0;0;0;48;2;0;0;0m▀\u001b[38;2;0;0;0;48;2;0;0;0m▀\u001b[38;2;0;0;0;48;2;0;0;0m▀\u001b[38;2;0;0;0;48;2;0;0;0m▀\u001b[38;2;0;0;0;48;2;0;0;0m▀\u001b[38;2;0;0;0;48;2;0;0;0m▀\u001b[38;2;0;0;0;48;2;0;0;0m▀\u001b[38;2;0;0;0;48;2;0;0;0m▀\u001b[38;2;0;0;0;48;2;0;0;0m▀\u001b[38;2;0;0;0;48;2;0;0;0m▀\u001b[0m\n",
       "\u001b[0m\u001b[38;2;0;0;0;48;2;0;0;0m▀\u001b[38;2;0;0;0;48;2;0;0;0m▀\u001b[38;2;0;0;0;48;2;0;0;0m▀\u001b[38;2;0;0;0;48;2;0;0;0m▀\u001b[38;2;0;0;0;48;2;0;0;0m▀\u001b[38;2;0;0;0;48;2;0;0;0m▀\u001b[38;2;0;0;0;48;2;0;0;0m▀\u001b[38;2;0;0;0;48;2;0;0;0m▀\u001b[38;2;0;0;0;48;2;0;0;0m▀\u001b[38;2;0;0;0;48;2;0;0;0m▀\u001b[38;2;0;0;0;48;2;0;0;0m▀\u001b[38;2;0;0;0;48;2;0;0;0m▀\u001b[38;2;0;0;0;48;2;0;0;0m▀\u001b[38;2;1;1;1;48;2;0;0;0m▀\u001b[38;2;14;14;14;48;2;3;3;3m▀\u001b[38;2;81;81;81;48;2;25;25;25m▀\u001b[38;2;173;173;173;48;2;101;101;101m▀\u001b[38;2;214;214;214;48;2;198;198;198m▀\u001b[38;2;143;143;143;48;2;210;210;210m▀\u001b[38;2;81;81;81;48;2;182;182;182m▀\u001b[38;2;50;50;50;48;2;149;149;149m▀\u001b[38;2;30;30;30;48;2;102;102;102m▀\u001b[38;2;6;6;6;48;2;36;36;36m▀\u001b[38;2;0;0;0;48;2;10;10;10m▀\u001b[38;2;0;0;0;48;2;2;2;2m▀\u001b[38;2;0;0;0;48;2;0;0;0m▀\u001b[38;2;0;0;0;48;2;0;0;0m▀\u001b[38;2;0;0;0;48;2;0;0;0m▀\u001b[38;2;0;0;0;48;2;0;0;0m▀\u001b[38;2;0;0;0;48;2;0;0;0m▀\u001b[38;2;0;0;0;48;2;0;0;0m▀\u001b[38;2;0;0;0;48;2;0;0;0m▀\u001b[38;2;0;0;0;48;2;0;0;0m▀\u001b[38;2;0;0;0;48;2;0;0;0m▀\u001b[38;2;0;0;0;48;2;0;0;0m▀\u001b[38;2;0;0;0;48;2;0;0;0m▀\u001b[0m\n",
       "\u001b[0m\u001b[38;2;0;0;0;48;2;0;0;0m▀\u001b[38;2;0;0;0;48;2;0;0;0m▀\u001b[38;2;0;0;0;48;2;0;0;0m▀\u001b[38;2;0;0;0;48;2;0;0;0m▀\u001b[38;2;0;0;0;48;2;0;0;0m▀\u001b[38;2;0;0;0;48;2;0;0;0m▀\u001b[38;2;0;0;0;48;2;0;0;0m▀\u001b[38;2;0;0;0;48;2;0;0;0m▀\u001b[38;2;0;0;0;48;2;0;0;0m▀\u001b[38;2;0;0;0;48;2;0;0;0m▀\u001b[38;2;0;0;0;48;2;0;0;0m▀\u001b[38;2;0;0;0;48;2;0;0;0m▀\u001b[38;2;0;0;0;48;2;0;0;0m▀\u001b[38;2;0;0;0;48;2;0;0;0m▀\u001b[38;2;0;0;0;48;2;0;0;0m▀\u001b[38;2;5;5;5;48;2;0;0;0m▀\u001b[38;2;42;42;42;48;2;11;11;11m▀\u001b[38;2;120;120;120;48;2;43;43;43m▀\u001b[38;2;199;199;199;48;2;105;105;105m▀\u001b[38;2;226;226;226;48;2;174;174;174m▀\u001b[38;2;227;227;227;48;2;224;224;224m▀\u001b[38;2;194;194;194;48;2;235;235;235m▀\u001b[38;2;114;114;114;48;2;199;199;199m▀\u001b[38;2;51;51;51;48;2;131;131;131m▀\u001b[38;2;16;16;16;48;2;62;62;62m▀\u001b[38;2;2;2;2;48;2;16;16;16m▀\u001b[38;2;0;0;0;48;2;2;2;2m▀\u001b[38;2;0;0;0;48;2;0;0;0m▀\u001b[38;2;0;0;0;48;2;0;0;0m▀\u001b[38;2;0;0;0;48;2;0;0;0m▀\u001b[38;2;0;0;0;48;2;0;0;0m▀\u001b[38;2;0;0;0;48;2;0;0;0m▀\u001b[38;2;0;0;0;48;2;0;0;0m▀\u001b[38;2;0;0;0;48;2;0;0;0m▀\u001b[38;2;0;0;0;48;2;0;0;0m▀\u001b[38;2;0;0;0;48;2;0;0;0m▀\u001b[0m\n",
       "\u001b[0m\u001b[38;2;0;0;0;48;2;0;0;0m▀\u001b[38;2;0;0;0;48;2;0;0;0m▀\u001b[38;2;0;0;0;48;2;0;0;0m▀\u001b[38;2;0;0;0;48;2;0;0;0m▀\u001b[38;2;0;0;0;48;2;0;0;0m▀\u001b[38;2;0;0;0;48;2;0;0;0m▀\u001b[38;2;0;0;0;48;2;0;0;0m▀\u001b[38;2;0;0;0;48;2;0;0;0m▀\u001b[38;2;0;0;0;48;2;0;0;0m▀\u001b[38;2;0;0;0;48;2;0;0;0m▀\u001b[38;2;0;0;0;48;2;0;0;0m▀\u001b[38;2;0;0;0;48;2;0;0;0m▀\u001b[38;2;0;0;0;48;2;0;0;0m▀\u001b[38;2;0;0;0;48;2;0;0;0m▀\u001b[38;2;0;0;0;48;2;0;0;0m▀\u001b[38;2;0;0;0;48;2;0;0;0m▀\u001b[38;2;0;0;0;48;2;0;0;0m▀\u001b[38;2;6;6;6;48;2;0;0;0m▀\u001b[38;2;29;29;29;48;2;3;3;3m▀\u001b[38;2;83;83;83;48;2;15;15;15m▀\u001b[38;2;142;142;142;48;2;46;46;46m▀\u001b[38;2;196;196;196;48;2;119;119;119m▀\u001b[38;2;235;235;235;48;2;227;227;227m▀\u001b[38;2;206;206;206;48;2;247;247;247m▀\u001b[38;2;143;143;143;48;2;218;218;218m▀\u001b[38;2;68;68;68;48;2;137;137;137m▀\u001b[38;2;9;9;9;48;2;30;30;30m▀\u001b[38;2;0;0;0;48;2;4;4;4m▀\u001b[38;2;0;0;0;48;2;0;0;0m▀\u001b[38;2;0;0;0;48;2;0;0;0m▀\u001b[38;2;0;0;0;48;2;0;0;0m▀\u001b[38;2;0;0;0;48;2;0;0;0m▀\u001b[38;2;0;0;0;48;2;0;0;0m▀\u001b[38;2;0;0;0;48;2;0;0;0m▀\u001b[38;2;0;0;0;48;2;0;0;0m▀\u001b[38;2;0;0;0;48;2;0;0;0m▀\u001b[0m\n",
       "\u001b[0m\u001b[38;2;0;0;0;48;2;0;0;0m▀\u001b[38;2;0;0;0;48;2;0;0;0m▀\u001b[38;2;0;0;0;48;2;0;0;0m▀\u001b[38;2;0;0;0;48;2;0;0;0m▀\u001b[38;2;0;0;0;48;2;0;0;0m▀\u001b[38;2;0;0;0;48;2;0;0;0m▀\u001b[38;2;0;0;0;48;2;0;0;0m▀\u001b[38;2;0;0;0;48;2;0;0;0m▀\u001b[38;2;0;0;0;48;2;0;0;0m▀\u001b[38;2;0;0;0;48;2;0;0;0m▀\u001b[38;2;0;0;0;48;2;0;0;0m▀\u001b[38;2;0;0;0;48;2;0;0;0m▀\u001b[38;2;0;0;0;48;2;0;0;0m▀\u001b[38;2;0;0;0;48;2;0;0;0m▀\u001b[38;2;0;0;0;48;2;0;0;0m▀\u001b[38;2;0;0;0;48;2;1;1;1m▀\u001b[38;2;0;0;0;48;2;3;3;3m▀\u001b[38;2;1;1;1;48;2;12;12;12m▀\u001b[38;2;6;6;6;48;2;39;39;39m▀\u001b[38;2;14;14;14;48;2;78;78;78m▀\u001b[38;2;26;26;26;48;2;114;114;114m▀\u001b[38;2;90;90;90;48;2;163;163;163m▀\u001b[38;2;221;221;221;48;2;236;236;236m▀\u001b[38;2;251;251;251;48;2;251;251;251m▀\u001b[38;2;242;242;242;48;2;233;233;233m▀\u001b[38;2;173;173;173;48;2;152;152;152m▀\u001b[38;2;57;57;57;48;2;35;35;35m▀\u001b[38;2;10;10;10;48;2;4;4;4m▀\u001b[38;2;0;0;0;48;2;0;0;0m▀\u001b[38;2;0;0;0;48;2;0;0;0m▀\u001b[38;2;0;0;0;48;2;0;0;0m▀\u001b[38;2;0;0;0;48;2;0;0;0m▀\u001b[38;2;0;0;0;48;2;0;0;0m▀\u001b[38;2;0;0;0;48;2;0;0;0m▀\u001b[38;2;0;0;0;48;2;0;0;0m▀\u001b[38;2;0;0;0;48;2;0;0;0m▀\u001b[0m\n",
       "\u001b[0m\u001b[38;2;0;0;0;48;2;0;0;0m▀\u001b[38;2;0;0;0;48;2;0;0;0m▀\u001b[38;2;0;0;0;48;2;0;0;0m▀\u001b[38;2;0;0;0;48;2;0;0;0m▀\u001b[38;2;0;0;0;48;2;0;0;0m▀\u001b[38;2;0;0;0;48;2;0;0;0m▀\u001b[38;2;0;0;0;48;2;0;0;0m▀\u001b[38;2;0;0;0;48;2;0;0;0m▀\u001b[38;2;0;0;0;48;2;0;0;0m▀\u001b[38;2;0;0;0;48;2;0;0;0m▀\u001b[38;2;0;0;0;48;2;0;0;0m▀\u001b[38;2;0;0;0;48;2;0;0;0m▀\u001b[38;2;0;0;0;48;2;2;2;2m▀\u001b[38;2;0;0;0;48;2;11;11;11m▀\u001b[38;2;2;2;2;48;2;33;33;33m▀\u001b[38;2;13;13;13;48;2;73;73;73m▀\u001b[38;2;42;42;42;48;2;126;126;126m▀\u001b[38;2;87;87;87;48;2;183;183;183m▀\u001b[38;2;134;134;134;48;2;223;223;223m▀\u001b[38;2;176;176;176;48;2;243;243;243m▀\u001b[38;2;205;205;205;48;2;250;250;250m▀\u001b[38;2;227;227;227;48;2;247;247;247m▀\u001b[38;2;248;248;248;48;2;232;232;232m▀\u001b[38;2;248;248;248;48;2;202;202;202m▀\u001b[38;2;218;218;218;48;2;154;154;154m▀\u001b[38;2;130;130;130;48;2;83;83;83m▀\u001b[38;2;19;19;19;48;2;11;11;11m▀\u001b[38;2;0;0;0;48;2;0;0;0m▀\u001b[38;2;0;0;0;48;2;0;0;0m▀\u001b[38;2;0;0;0;48;2;0;0;0m▀\u001b[38;2;0;0;0;48;2;0;0;0m▀\u001b[38;2;0;0;0;48;2;0;0;0m▀\u001b[38;2;0;0;0;48;2;0;0;0m▀\u001b[38;2;0;0;0;48;2;0;0;0m▀\u001b[38;2;0;0;0;48;2;0;0;0m▀\u001b[38;2;0;0;0;48;2;0;0;0m▀\u001b[0m\n",
       "\u001b[0m\u001b[38;2;0;0;0;48;2;0;0;0m▀\u001b[38;2;0;0;0;48;2;0;0;0m▀\u001b[38;2;0;0;0;48;2;0;0;0m▀\u001b[38;2;0;0;0;48;2;0;0;0m▀\u001b[38;2;0;0;0;48;2;0;0;0m▀\u001b[38;2;0;0;0;48;2;0;0;0m▀\u001b[38;2;0;0;0;48;2;0;0;0m▀\u001b[38;2;0;0;0;48;2;0;0;0m▀\u001b[38;2;0;0;0;48;2;3;3;3m▀\u001b[38;2;0;0;0;48;2;12;12;12m▀\u001b[38;2;3;3;3;48;2;26;26;26m▀\u001b[38;2;8;8;8;48;2;47;47;47m▀\u001b[38;2;23;23;23;48;2;95;95;95m▀\u001b[38;2;59;59;59;48;2;168;168;168m▀\u001b[38;2;113;113;113;48;2;212;212;212m▀\u001b[38;2;173;173;173;48;2;236;236;236m▀\u001b[38;2;220;220;220;48;2;247;247;247m▀\u001b[38;2;242;242;242;48;2;247;247;247m▀\u001b[38;2;249;249;249;48;2;239;239;239m▀\u001b[38;2;246;246;246;48;2;211;211;211m▀\u001b[38;2;234;234;234;48;2;160;160;160m▀\u001b[38;2;211;211;211;48;2;99;99;99m▀\u001b[38;2;167;167;167;48;2;50;50;50m▀\u001b[38;2;104;104;104;48;2;24;24;24m▀\u001b[38;2;47;47;47;48;2;8;8;8m▀\u001b[38;2;13;13;13;48;2;0;0;0m▀\u001b[38;2;2;2;2;48;2;0;0;0m▀\u001b[38;2;0;0;0;48;2;0;0;0m▀\u001b[38;2;0;0;0;48;2;0;0;0m▀\u001b[38;2;0;0;0;48;2;0;0;0m▀\u001b[38;2;0;0;0;48;2;0;0;0m▀\u001b[38;2;0;0;0;48;2;0;0;0m▀\u001b[38;2;0;0;0;48;2;0;0;0m▀\u001b[38;2;0;0;0;48;2;0;0;0m▀\u001b[38;2;0;0;0;48;2;0;0;0m▀\u001b[38;2;0;0;0;48;2;0;0;0m▀\u001b[0m\n",
       "\u001b[0m\u001b[38;2;0;0;0;48;2;0;0;0m▀\u001b[38;2;0;0;0;48;2;0;0;0m▀\u001b[38;2;0;0;0;48;2;0;0;0m▀\u001b[38;2;0;0;0;48;2;0;0;0m▀\u001b[38;2;0;0;0;48;2;4;4;4m▀\u001b[38;2;1;1;1;48;2;20;20;20m▀\u001b[38;2;2;2;2;48;2;52;52;52m▀\u001b[38;2;8;8;8;48;2;84;84;84m▀\u001b[38;2;34;34;34;48;2;123;123;123m▀\u001b[38;2;94;94;94;48;2;188;188;188m▀\u001b[38;2;132;132;132;48;2;222;222;222m▀\u001b[38;2;161;161;161;48;2;239;239;239m▀\u001b[38;2;195;195;195;48;2;250;250;250m▀\u001b[38;2;232;232;232;48;2;251;251;251m▀\u001b[38;2;249;249;249;48;2;247;247;247m▀\u001b[38;2;251;251;251;48;2;222;222;222m▀\u001b[38;2;238;238;238;48;2;174;174;174m▀\u001b[38;2;204;204;204;48;2;112;112;112m▀\u001b[38;2;154;154;154;48;2;59;59;59m▀\u001b[38;2;104;104;104;48;2;23;23;23m▀\u001b[38;2;60;60;60;48;2;5;5;5m▀\u001b[38;2;26;26;26;48;2;1;1;1m▀\u001b[38;2;5;5;5;48;2;0;0;0m▀\u001b[38;2;0;0;0;48;2;0;0;0m▀\u001b[38;2;0;0;0;48;2;0;0;0m▀\u001b[38;2;0;0;0;48;2;0;0;0m▀\u001b[38;2;0;0;0;48;2;0;0;0m▀\u001b[38;2;0;0;0;48;2;0;0;0m▀\u001b[38;2;0;0;0;48;2;0;0;0m▀\u001b[38;2;0;0;0;48;2;0;0;0m▀\u001b[38;2;0;0;0;48;2;0;0;0m▀\u001b[38;2;0;0;0;48;2;0;0;0m▀\u001b[38;2;0;0;0;48;2;0;0;0m▀\u001b[38;2;0;0;0;48;2;0;0;0m▀\u001b[38;2;0;0;0;48;2;0;0;0m▀\u001b[38;2;0;0;0;48;2;0;0;0m▀\u001b[0m\n",
       "\u001b[0m\u001b[38;2;0;0;0;48;2;0;0;0m▀\u001b[38;2;0;0;0;48;2;0;0;0m▀\u001b[38;2;0;0;0;48;2;0;0;0m▀\u001b[38;2;0;0;0;48;2;0;0;0m▀\u001b[38;2;11;11;11;48;2;17;17;17m▀\u001b[38;2;61;61;61;48;2;89;89;89m▀\u001b[38;2;136;136;136;48;2;170;170;170m▀\u001b[38;2;194;194;194;48;2;215;215;215m▀\u001b[38;2;223;223;223;48;2;222;222;222m▀\u001b[38;2;243;243;243;48;2;223;223;223m▀\u001b[38;2;243;243;243;48;2;204;204;204m▀\u001b[38;2;234;234;234;48;2;169;169;169m▀\u001b[38;2;225;225;225;48;2;141;141;141m▀\u001b[38;2;220;220;220;48;2;125;125;125m▀\u001b[38;2;195;195;195;48;2;71;71;71m▀\u001b[38;2;144;144;144;48;2;33;33;33m▀\u001b[38;2;78;78;78;48;2;14;14;14m▀\u001b[38;2;24;24;24;48;2;3;3;3m▀\u001b[38;2;7;7;7;48;2;0;0;0m▀\u001b[38;2;2;2;2;48;2;0;0;0m▀\u001b[38;2;0;0;0;48;2;0;0;0m▀\u001b[38;2;0;0;0;48;2;0;0;0m▀\u001b[38;2;0;0;0;48;2;0;0;0m▀\u001b[38;2;0;0;0;48;2;0;0;0m▀\u001b[38;2;0;0;0;48;2;0;0;0m▀\u001b[38;2;0;0;0;48;2;0;0;0m▀\u001b[38;2;0;0;0;48;2;0;0;0m▀\u001b[38;2;0;0;0;48;2;0;0;0m▀\u001b[38;2;0;0;0;48;2;0;0;0m▀\u001b[38;2;0;0;0;48;2;0;0;0m▀\u001b[38;2;0;0;0;48;2;0;0;0m▀\u001b[38;2;0;0;0;48;2;0;0;0m▀\u001b[38;2;0;0;0;48;2;0;0;0m▀\u001b[38;2;0;0;0;48;2;0;0;0m▀\u001b[38;2;0;0;0;48;2;0;0;0m▀\u001b[38;2;0;0;0;48;2;0;0;0m▀\u001b[0m\n",
       "\u001b[0m\u001b[38;2;0;0;0;48;2;0;0;0m▀\u001b[38;2;0;0;0;48;2;0;0;0m▀\u001b[38;2;0;0;0;48;2;0;0;0m▀\u001b[38;2;0;0;0;48;2;0;0;0m▀\u001b[38;2;6;6;6;48;2;0;0;0m▀\u001b[38;2;34;34;34;48;2;1;1;1m▀\u001b[38;2;63;63;63;48;2;1;1;1m▀\u001b[38;2;78;78;78;48;2;2;2;2m▀\u001b[38;2;78;78;78;48;2;2;2;2m▀\u001b[38;2;77;77;77;48;2;2;2;2m▀\u001b[38;2;69;69;69;48;2;1;1;1m▀\u001b[38;2;54;54;54;48;2;1;1;1m▀\u001b[38;2;43;43;43;48;2;1;1;1m▀\u001b[38;2;36;36;36;48;2;1;1;1m▀\u001b[38;2;14;14;14;48;2;0;0;0m▀\u001b[38;2;2;2;2;48;2;0;0;0m▀\u001b[38;2;0;0;0;48;2;0;0;0m▀\u001b[38;2;0;0;0;48;2;0;0;0m▀\u001b[38;2;0;0;0;48;2;0;0;0m▀\u001b[38;2;0;0;0;48;2;0;0;0m▀\u001b[38;2;0;0;0;48;2;0;0;0m▀\u001b[38;2;0;0;0;48;2;0;0;0m▀\u001b[38;2;0;0;0;48;2;0;0;0m▀\u001b[38;2;0;0;0;48;2;0;0;0m▀\u001b[38;2;0;0;0;48;2;0;0;0m▀\u001b[38;2;0;0;0;48;2;0;0;0m▀\u001b[38;2;0;0;0;48;2;0;0;0m▀\u001b[38;2;0;0;0;48;2;0;0;0m▀\u001b[38;2;0;0;0;48;2;0;0;0m▀\u001b[38;2;0;0;0;48;2;0;0;0m▀\u001b[38;2;0;0;0;48;2;0;0;0m▀\u001b[38;2;0;0;0;48;2;0;0;0m▀\u001b[38;2;0;0;0;48;2;0;0;0m▀\u001b[38;2;0;0;0;48;2;0;0;0m▀\u001b[38;2;0;0;0;48;2;0;0;0m▀\u001b[38;2;0;0;0;48;2;0;0;0m▀\u001b[0m\n",
       "\u001b[0m\u001b[38;2;0;0;0;48;2;0;0;0m▀\u001b[38;2;0;0;0;48;2;0;0;0m▀\u001b[38;2;0;0;0;48;2;0;0;0m▀\u001b[38;2;0;0;0;48;2;0;0;0m▀\u001b[38;2;0;0;0;48;2;0;0;0m▀\u001b[38;2;0;0;0;48;2;0;0;0m▀\u001b[38;2;0;0;0;48;2;0;0;0m▀\u001b[38;2;0;0;0;48;2;0;0;0m▀\u001b[38;2;0;0;0;48;2;0;0;0m▀\u001b[38;2;0;0;0;48;2;0;0;0m▀\u001b[38;2;0;0;0;48;2;0;0;0m▀\u001b[38;2;0;0;0;48;2;0;0;0m▀\u001b[38;2;0;0;0;48;2;0;0;0m▀\u001b[38;2;0;0;0;48;2;0;0;0m▀\u001b[38;2;0;0;0;48;2;0;0;0m▀\u001b[38;2;0;0;0;48;2;0;0;0m▀\u001b[38;2;0;0;0;48;2;0;0;0m▀\u001b[38;2;0;0;0;48;2;0;0;0m▀\u001b[38;2;0;0;0;48;2;0;0;0m▀\u001b[38;2;0;0;0;48;2;0;0;0m▀\u001b[38;2;0;0;0;48;2;0;0;0m▀\u001b[38;2;0;0;0;48;2;0;0;0m▀\u001b[38;2;0;0;0;48;2;0;0;0m▀\u001b[38;2;0;0;0;48;2;0;0;0m▀\u001b[38;2;0;0;0;48;2;0;0;0m▀\u001b[38;2;0;0;0;48;2;0;0;0m▀\u001b[38;2;0;0;0;48;2;0;0;0m▀\u001b[38;2;0;0;0;48;2;0;0;0m▀\u001b[38;2;0;0;0;48;2;0;0;0m▀\u001b[38;2;0;0;0;48;2;0;0;0m▀\u001b[38;2;0;0;0;48;2;0;0;0m▀\u001b[38;2;0;0;0;48;2;0;0;0m▀\u001b[38;2;0;0;0;48;2;0;0;0m▀\u001b[38;2;0;0;0;48;2;0;0;0m▀\u001b[38;2;0;0;0;48;2;0;0;0m▀\u001b[38;2;0;0;0;48;2;0;0;0m▀\u001b[0m\n"
      ]
     },
     "execution_count": 85,
     "metadata": {},
     "output_type": "execute_result"
    }
   ],
   "source": [
    "cnn_output = m( images[:,:,:,1:3] )\n",
    "display( cnn_output |> size )\n",
    "convert2image( MNIST , cnn_output[:,:,1,1] )"
   ]
  },
  {
   "cell_type": "code",
   "execution_count": null,
   "metadata": {},
   "outputs": [],
   "source": []
  },
  {
   "cell_type": "markdown",
   "metadata": {},
   "source": [
    "### <span style=\"color:orange\"> Layer level functions </span>\n",
    "\n",
    "- We can have layers that are functions of layers\n",
    "- eg. 'Maxout' which takes in a set of layers where each gets fed the same input, and then produces the maximum from each output\n",
    "- 'activations' which returns the output from each layer\n",
    "- 'parallel' that is a layer which passes an input array into each layer in a set and then a function merges (reduces) these layer outputs"
   ]
  },
  {
   "cell_type": "code",
   "execution_count": 86,
   "metadata": {},
   "outputs": [
    {
     "data": {
      "text/plain": [
       "(97, 1, 1)"
      ]
     },
     "execution_count": 86,
     "metadata": {},
     "output_type": "execute_result"
    }
   ],
   "source": [
    "x = rand(Float32, 100, 1, 1); #100elements, 1 channel, 10 samples in the batch \n",
    "cnn_layer = Conv( (4,) , 1 => 1 ) #4 element filter\n",
    "cnn_layer( x ) |> size"
   ]
  },
  {
   "cell_type": "code",
   "execution_count": 87,
   "metadata": {},
   "outputs": [
    {
     "name": "stdout",
     "output_type": "stream",
     "text": [
      "3\n"
     ]
    },
    {
     "data": {
      "text/plain": [
       "10×10 Matrix{Float32}:\n",
       "  1.57902      1.12268     1.32316    …   1.40281    0.937804   1.13174\n",
       "  1.06404      0.343869    0.630283       0.994112   0.348745   0.316816\n",
       " -1.43725     -0.564195   -1.54432       -1.39386   -0.91392   -1.23583\n",
       " -0.593291     0.0407272   0.163798       0.492223  -0.467078   0.215277\n",
       "  0.0963458    0.853245    0.391715       0.310541   0.686815   0.124251\n",
       " -0.00338086   0.121216    0.154785   …  -0.492038  -0.538175  -0.359743\n",
       " -0.145868     0.268012    0.422012      -0.107648   0.550173   0.192928\n",
       "  0.412471    -0.0211564   0.0646598      0.144236   0.452195   0.438247\n",
       "  1.22414      0.874071    1.24761        0.656353   0.347599   0.694091\n",
       "  1.57434      1.90685     1.17483        2.07953    1.99081    2.14564"
      ]
     },
     "metadata": {},
     "output_type": "display_data"
    },
    {
     "data": {
      "text/plain": [
       "5×10 Matrix{Float32}:\n",
       "  1.26176    1.39809    1.75817     …   1.73519     1.44759    1.43906\n",
       "  3.32588    2.3028     2.63833         2.35446     2.44378    2.42576\n",
       " -0.385584  -0.472196   0.23632         0.130891    0.416523   0.884072\n",
       " -1.33338   -0.116387  -0.805691       -0.0723732  -0.279145  -0.377408\n",
       "  0.198618  -0.271328   0.00566382     -0.405659    0.584172  -0.347646"
      ]
     },
     "metadata": {},
     "output_type": "display_data"
    },
    {
     "data": {
      "text/plain": [
       "1×10 Matrix{Float32}:\n",
       " -3.42994  -2.93181  -2.73527  -2.50088  …  -2.70403  -1.73035  -1.92457"
      ]
     },
     "metadata": {},
     "output_type": "display_data"
    }
   ],
   "source": [
    "x = rand(Float32, 50, 10);\n",
    "m = Chain( Dense(50=>10), Dense(10=>5), Dense(5=>1) )\n",
    "res = Flux.activations(m,x)\n",
    "println(length(res))\n",
    "display(res[1])\n",
    "display(res[2])\n",
    "display(res[3])"
   ]
  },
  {
   "cell_type": "code",
   "execution_count": 88,
   "metadata": {},
   "outputs": [
    {
     "data": {
      "text/plain": [
       "5×4 Matrix{Float32}:\n",
       " 0.0228484  -0.773502  0.0384818  -0.61237\n",
       " 0.584146    0.6466    0.418182   -0.22653\n",
       " 0.661489    0.59077   1.05651     0.595617\n",
       " 1.09738     1.38736   1.46725     1.55892\n",
       " 1.86795     2.04326   2.05824     2.07257"
      ]
     },
     "execution_count": 88,
     "metadata": {},
     "output_type": "execute_result"
    }
   ],
   "source": [
    "x = rand(Float32, 10, 4);\n",
    "m = Maxout( Dense(10=>5), Dense(10=>5), Dense(10=>5) )\n",
    "m(x)"
   ]
  },
  {
   "cell_type": "code",
   "execution_count": 90,
   "metadata": {},
   "outputs": [
    {
     "data": {
      "text/plain": [
       "12×4 Matrix{Float32}:\n",
       " 0.582399   0.414099   -1.05966    0.360409\n",
       " 0.296264   0.287396    0.400108   0.225007\n",
       " 0.189094   0.241743    0.457309   0.911825\n",
       " 0.921714   0.832252    0.697981   0.117634\n",
       " 0.888191   0.266113    0.0938704  0.350638\n",
       " 0.361557   0.135435    0.951668   0.0528786\n",
       " 0.914052   0.78106     0.427143   0.024533\n",
       " 0.546786   0.432389    0.613162   0.711792\n",
       " 0.071511   0.990192    0.837324   0.657475\n",
       " 0.571935   0.437999    0.960611   0.303491\n",
       " 0.0920579  0.0693753   0.230501   0.428496\n",
       " 0.684835   0.200207    0.201642   0.28583"
      ]
     },
     "execution_count": 90,
     "metadata": {},
     "output_type": "execute_result"
    }
   ],
   "source": [
    "x = rand(Float32, 10, 4);\n",
    "m = Chain( Dense(10=>5) , Dense(5=>2) )\n",
    "#takes in the layer and the 'connection function'\n",
    "m_skip = SkipConnection( m , (mx,x) -> cat(mx,x,dims=1) ) #add a shortcut for the layer input to the output\n",
    "m_skip(x)"
   ]
  },
  {
   "cell_type": "code",
   "execution_count": 91,
   "metadata": {},
   "outputs": [
    {
     "data": {
      "text/plain": [
       "(10, 10, 8, 4)"
      ]
     },
     "execution_count": 91,
     "metadata": {},
     "output_type": "execute_result"
    }
   ],
   "source": [
    "x = rand(Float32, 10,10, 3, 4);\n",
    "m = Chain( Conv((3,3), 3=>5, pad=SamePad()) )\n",
    "#takes in the layer and the 'connection function'\n",
    "m_skip = SkipConnection( m , (mx,x) -> cat(mx,x,dims=3) ) #add a shortcut for the layer input to the output\n",
    "m_skip(x) |> size"
   ]
  },
  {
   "cell_type": "code",
   "execution_count": 92,
   "metadata": {},
   "outputs": [
    {
     "data": {
      "text/plain": [
       "(8, 8, 5, 4)"
      ]
     },
     "execution_count": 92,
     "metadata": {},
     "output_type": "execute_result"
    }
   ],
   "source": [
    "x = rand(Float32, 10,10, 3, 4);\n",
    "m_parallel = Parallel( + , Conv((3,3), 3=>5), Conv((3,3), 3=>5), Conv((3,3), 3=>5) )\n",
    "m_parallel( x ) |> size"
   ]
  },
  {
   "cell_type": "code",
   "execution_count": 93,
   "metadata": {},
   "outputs": [
    {
     "data": {
      "text/plain": [
       "(10, 10, 5, 4)"
      ]
     },
     "execution_count": 93,
     "metadata": {},
     "output_type": "execute_result"
    }
   ],
   "source": [
    "x = rand(Float32, 10,10, 3, 4);\n",
    "m_parallel = Parallel( + , Conv((3,3), 3=>5, pad=SamePad()), Conv((3,3), 3=>5, pad=SamePad()), Conv((3,3), 3=>5, pad=SamePad()) )\n",
    "m_parallel( x ) |> size"
   ]
  },
  {
   "cell_type": "code",
   "execution_count": null,
   "metadata": {},
   "outputs": [],
   "source": []
  },
  {
   "cell_type": "code",
   "execution_count": null,
   "metadata": {},
   "outputs": [],
   "source": []
  },
  {
   "cell_type": "markdown",
   "metadata": {},
   "source": [
    "### <span style=\"color:orange\"> Normalization and Regularization </span>\n",
    "\n",
    "- Although they can be done (as demonstrated earlier) in the approach commonly found in statistics, there are ways to do this in the ML fashion"
   ]
  },
  {
   "cell_type": "code",
   "execution_count": 95,
   "metadata": {},
   "outputs": [
    {
     "data": {
      "text/plain": [
       "(10, 10, 3, 4)"
      ]
     },
     "metadata": {},
     "output_type": "display_data"
    },
    {
     "data": {
      "text/plain": [
       "(8, 8, 1, 4)"
      ]
     },
     "execution_count": 95,
     "metadata": {},
     "output_type": "execute_result"
    }
   ],
   "source": [
    "#Batch Normalization\n",
    "x = rand(Float32, 10,10, 3, 4)\n",
    "m = BatchNorm( 3 )\n",
    "display( m( x ) |> size )\n",
    "m = Chain( Conv((3,3),3=>1) , BatchNorm(1) )\n",
    "m( x ) |> size"
   ]
  },
  {
   "cell_type": "code",
   "execution_count": 96,
   "metadata": {},
   "outputs": [
    {
     "data": {
      "text/plain": [
       "5×4 Matrix{Float32}:\n",
       " -0.469082  -0.0       -0.190759  -0.605852\n",
       "  0.0        0.0       -0.0        1.79495\n",
       " -0.202145  -0.968207  -0.0       -0.0385985\n",
       "  0.350672   0.726759   0.0        0.0\n",
       " -0.0       -0.819442  -0.0       -1.93707"
      ]
     },
     "execution_count": 96,
     "metadata": {},
     "output_type": "execute_result"
    }
   ],
   "source": [
    "#Dropout layer\n",
    "x = rand(Float32, 10, 4)\n",
    "m = Chain( Dense(10 => 5), Dropout(0.5) )\n",
    "Flux.trainmode!(m)\n",
    "m( x ) #notice the zeros"
   ]
  },
  {
   "cell_type": "code",
   "execution_count": 97,
   "metadata": {},
   "outputs": [
    {
     "data": {
      "text/plain": [
       "(7, 7, 3, 4)"
      ]
     },
     "execution_count": 97,
     "metadata": {},
     "output_type": "execute_result"
    }
   ],
   "source": [
    "x = rand(Float32, 10,10, 3, 4)\n",
    "m = Chain( Conv((4,4), 3=>3), Dropout(0.5, dims=3) ) #dropping out on the channels\n",
    "Flux.trainmode!(m)\n",
    "m( x ) |> size"
   ]
  },
  {
   "cell_type": "code",
   "execution_count": 98,
   "metadata": {},
   "outputs": [
    {
     "data": {
      "text/plain": [
       "(5, 4)"
      ]
     },
     "metadata": {},
     "output_type": "display_data"
    },
    {
     "data": {
      "text/plain": [
       "1×4 Matrix{Float32}:\n",
       " 1.19209f-7  5.96046f-8  1.19209f-7  0.0"
      ]
     },
     "metadata": {},
     "output_type": "display_data"
    }
   ],
   "source": [
    "#LayerNorm does normalization and is used in recurrence networks\n",
    "x = rand(Float32, 10, 4)\n",
    "m = Chain( Dense(10=>5) , LayerNorm(5) )\n",
    "display( size( m( x ) ) )\n",
    "display( sum( m(x) , dims=1 ) )"
   ]
  },
  {
   "cell_type": "code",
   "execution_count": 99,
   "metadata": {},
   "outputs": [
    {
     "data": {
      "text/plain": [
       "(8, 8, 5, 4)"
      ]
     },
     "execution_count": 99,
     "metadata": {},
     "output_type": "execute_result"
    }
   ],
   "source": [
    "#Instance Normalization layer to normalize channels in WHCN\n",
    "x = rand(Float32, 10,10, 3, 4)\n",
    "m = Chain( Conv((3,3),3=>5) , InstanceNorm(5) )\n",
    "m( x ) |> size"
   ]
  },
  {
   "cell_type": "code",
   "execution_count": 100,
   "metadata": {},
   "outputs": [
    {
     "data": {
      "text/plain": [
       "5×4 Matrix{Float32}:\n",
       " 0.163799  0.18323   0.125112   0.305095\n",
       " 0.116537  0.208833  0.0103249  0.0239557\n",
       " 0.146358  0.29817   0.090174   0.138891\n",
       " 0.316242  0.312719  0.261458   0.119955\n",
       " 0.230492  0.322878  0.300797   0.326853"
      ]
     },
     "execution_count": 100,
     "metadata": {},
     "output_type": "execute_result"
    }
   ],
   "source": [
    "#we can do normalization outside of a layer\n",
    "x = rand(Float32, 5, 4)\n",
    "Flux.normalize( x )"
   ]
  },
  {
   "cell_type": "code",
   "execution_count": 101,
   "metadata": {},
   "outputs": [
    {
     "data": {
      "text/plain": [
       "6×4 Matrix{Float32}:\n",
       " 0.0      0.0       0.0       0.0\n",
       " 1.98688  1.45245   1.59302   0.226449\n",
       " 1.71191  0.152612  0.088503  1.18784\n",
       " 0.0      0.0       0.0       0.0\n",
       " 1.36318  0.19476   1.65658   0.694452\n",
       " 0.0      0.0       0.0       0.0"
      ]
     },
     "execution_count": 101,
     "metadata": {},
     "output_type": "execute_result"
    }
   ],
   "source": [
    "#we can do dropout outside of a layer\n",
    "x = rand(Float32, 6, 4)\n",
    "Flux.dropout( x , 0.5 , dims=1 )"
   ]
  },
  {
   "cell_type": "code",
   "execution_count": null,
   "metadata": {},
   "outputs": [],
   "source": []
  },
  {
   "cell_type": "code",
   "execution_count": null,
   "metadata": {},
   "outputs": [],
   "source": []
  },
  {
   "cell_type": "markdown",
   "metadata": {},
   "source": [
    "### <span style=\"color:orange\"> Autosizing </span>\n",
    "\n",
    "- Sometimes if there are many layers in a Chain it becomes a challenge to track the dimension changes for the transformations on the data sizes if you change some aspect the sizes need to be re-entered. This is especially hazardous when working with CNN layers where padding and resolution changes can alter the dimensions (shape) of the data. \n",
    "- There is a macro <u>autosize</u> that can act on the layers to replace the character *_* with the necessary size. (calculates in run time)\n",
    "- There is the function *outputsize* that does this operation"
   ]
  },
  {
   "cell_type": "code",
   "execution_count": 102,
   "metadata": {},
   "outputs": [
    {
     "data": {
      "text/plain": [
       "(10, 10, 3, 4)"
      ]
     },
     "execution_count": 102,
     "metadata": {},
     "output_type": "execute_result"
    }
   ],
   "source": [
    "x = rand(Float32, 10,10, 3, 4);\n",
    "x_size = size(x)"
   ]
  },
  {
   "cell_type": "code",
   "execution_count": 103,
   "metadata": {},
   "outputs": [
    {
     "data": {
      "text/plain": [
       "Chain(\n",
       "  Conv((3, 3), 3 => 5, relu, stride=2),  \u001b[90m# 140 parameters\u001b[39m\n",
       "  Flux.flatten,\n",
       "  Dense(80 => 10),                      \u001b[90m# 810 parameters\u001b[39m\n",
       ") \u001b[90m                  # Total: 4 arrays, \u001b[39m950 parameters, 4.188 KiB."
      ]
     },
     "execution_count": 103,
     "metadata": {},
     "output_type": "execute_result"
    }
   ],
   "source": [
    "m = @autosize (10,10, 3, 4) Chain(Conv((3, 3), _ => 5, relu, stride=2), Flux.flatten, Dense(_ => 10))"
   ]
  },
  {
   "cell_type": "code",
   "execution_count": 106,
   "metadata": {},
   "outputs": [
    {
     "data": {
      "text/plain": [
       "(10, 4)"
      ]
     },
     "execution_count": 106,
     "metadata": {},
     "output_type": "execute_result"
    }
   ],
   "source": [
    "m(x) |> size"
   ]
  },
  {
   "cell_type": "code",
   "execution_count": 104,
   "metadata": {},
   "outputs": [
    {
     "data": {
      "text/plain": [
       "Dense(80 => 10)     \u001b[90m# 810 parameters\u001b[39m"
      ]
     },
     "execution_count": 104,
     "metadata": {},
     "output_type": "execute_result"
    }
   ],
   "source": [
    "m[3]"
   ]
  },
  {
   "cell_type": "code",
   "execution_count": 105,
   "metadata": {},
   "outputs": [
    {
     "data": {
      "text/plain": [
       "Chain(\n",
       "  Conv((3, 3), 3 => 5, relu, stride=2),  \u001b[90m# 140 parameters\u001b[39m\n",
       "  Flux.flatten,\n",
       "  Dense(80 => 10),                      \u001b[90m# 810 parameters\u001b[39m\n",
       ") \u001b[90m                  # Total: 4 arrays, \u001b[39m950 parameters, 4.188 KiB."
      ]
     },
     "execution_count": 105,
     "metadata": {},
     "output_type": "execute_result"
    }
   ],
   "source": [
    "m = @autosize (x_size[1],x_size[2],x_size[3],x_size[4]) Chain( Conv( ( 3 , 3 ) , _ => 5 , relu , stride=2 ), Flux.flatten , Dense( _ => 10 ) )"
   ]
  },
  {
   "cell_type": "code",
   "execution_count": 113,
   "metadata": {},
   "outputs": [
    {
     "data": {
      "text/plain": [
       "Chain(\n",
       "  Conv((3, 3), 3 => 3, relu, stride=2),  \u001b[90m# 84 parameters\u001b[39m\n",
       "  Conv((3, 3), 3 => 7, relu),           \u001b[90m# 196 parameters\u001b[39m\n",
       ") \u001b[90m                  # Total: 4 arrays, \u001b[39m280 parameters, 1.797 KiB."
      ]
     },
     "execution_count": 113,
     "metadata": {},
     "output_type": "execute_result"
    }
   ],
   "source": [
    "m = @autosize (10,10, 3, 4) Chain( Conv((3, 3), _ => _, relu, stride=2) , Conv((3, 3), _ => 7, relu, stride=1)  )"
   ]
  },
  {
   "cell_type": "code",
   "execution_count": 114,
   "metadata": {},
   "outputs": [
    {
     "data": {
      "text/plain": [
       "(2, 2, 7, 4)"
      ]
     },
     "execution_count": 114,
     "metadata": {},
     "output_type": "execute_result"
    }
   ],
   "source": [
    "m(x) |> size"
   ]
  },
  {
   "cell_type": "code",
   "execution_count": 115,
   "metadata": {},
   "outputs": [
    {
     "data": {
      "text/plain": [
       "Chain(\n",
       "  Conv((3, 3), 3 => 3, relu, stride=2),  \u001b[90m# 84 parameters\u001b[39m\n",
       "  Conv((3, 3), 3 => 7, relu),           \u001b[90m# 196 parameters\u001b[39m\n",
       "  Flux.flatten,\n",
       "  Dense(28 => 100),                     \u001b[90m# 2_900 parameters\u001b[39m\n",
       ") \u001b[90m                  # Total: 6 arrays, \u001b[39m3_180 parameters, 13.250 KiB."
      ]
     },
     "execution_count": 115,
     "metadata": {},
     "output_type": "execute_result"
    }
   ],
   "source": [
    "m = @autosize (10,10, 3, 4) Chain( Conv((3, 3), _ => _, relu, stride=2) , Conv((3, 3), _ => 7, relu, stride=1) , Flux.flatten, Dense(_ => 100))"
   ]
  },
  {
   "cell_type": "code",
   "execution_count": 116,
   "metadata": {},
   "outputs": [
    {
     "data": {
      "text/plain": [
       "(100, 4)"
      ]
     },
     "execution_count": 116,
     "metadata": {},
     "output_type": "execute_result"
    }
   ],
   "source": [
    "m(x) |> size"
   ]
  },
  {
   "cell_type": "code",
   "execution_count": 121,
   "metadata": {},
   "outputs": [
    {
     "data": {
      "text/plain": [
       "Chain(\n",
       "  Conv((3, 3), 3 => 3, relu),           \u001b[90m# 84 parameters\u001b[39m\n",
       "  Conv((3, 3), 3 => 3, relu),           \u001b[90m# 84 parameters\u001b[39m\n",
       "  Conv((3, 3), 3 => 2, relu),           \u001b[90m# 56 parameters\u001b[39m\n",
       "  Flux.flatten,\n",
       "  Dense(32 => 100),                     \u001b[90m# 3_300 parameters\u001b[39m\n",
       ") \u001b[90m                  # Total: 8 arrays, \u001b[39m3_524 parameters, 14.945 KiB."
      ]
     },
     "execution_count": 121,
     "metadata": {},
     "output_type": "execute_result"
    }
   ],
   "source": [
    "m = @autosize (10,10, 3, 4) Chain( Conv((3, 3), _ => _, relu, stride=1) , \n",
    "                                    Conv((3, 3), _ => _, relu, stride=1) ,\n",
    "                                    Conv((3, 3), _ => 2, relu, stride=1) ,\n",
    "                                    Flux.flatten, Dense(_ => 100))"
   ]
  },
  {
   "cell_type": "code",
   "execution_count": 122,
   "metadata": {},
   "outputs": [
    {
     "data": {
      "text/plain": [
       "(100, 4)"
      ]
     },
     "execution_count": 122,
     "metadata": {},
     "output_type": "execute_result"
    }
   ],
   "source": [
    "m(x) |> size"
   ]
  },
  {
   "cell_type": "code",
   "execution_count": null,
   "metadata": {},
   "outputs": [],
   "source": []
  },
  {
   "cell_type": "markdown",
   "metadata": {},
   "source": [
    "### <span style=\"color:orange\"> testmode! and trainmode! </span>\n",
    "\n",
    "- manually specify to the models if you are training or testing\n",
    "- so that layers like dropout are not randomly working on the forward steps"
   ]
  },
  {
   "cell_type": "code",
   "execution_count": 123,
   "metadata": {},
   "outputs": [
    {
     "data": {
      "text/plain": [
       "Chain(\n",
       "  Conv((3, 3), 3 => 3, relu),           \u001b[90m# 84 parameters\u001b[39m\n",
       "  Conv((3, 3), 3 => 3, relu),           \u001b[90m# 84 parameters\u001b[39m\n",
       "  Conv((3, 3), 3 => 2, relu),           \u001b[90m# 56 parameters\u001b[39m\n",
       "  Flux.flatten,\n",
       "  Dense(32 => 100),                     \u001b[90m# 3_300 parameters\u001b[39m\n",
       ") \u001b[90m                  # Total: 8 arrays, \u001b[39m3_524 parameters, 14.945 KiB."
      ]
     },
     "execution_count": 123,
     "metadata": {},
     "output_type": "execute_result"
    }
   ],
   "source": [
    "testmode!(m, true)"
   ]
  },
  {
   "cell_type": "code",
   "execution_count": 124,
   "metadata": {},
   "outputs": [
    {
     "data": {
      "text/plain": [
       "Chain(\n",
       "  Conv((3, 3), 3 => 3, relu),           \u001b[90m# 84 parameters\u001b[39m\n",
       "  Conv((3, 3), 3 => 3, relu),           \u001b[90m# 84 parameters\u001b[39m\n",
       "  Conv((3, 3), 3 => 2, relu),           \u001b[90m# 56 parameters\u001b[39m\n",
       "  Flux.flatten,\n",
       "  Dense(32 => 100),                     \u001b[90m# 3_300 parameters\u001b[39m\n",
       ") \u001b[90m                  # Total: 8 arrays, \u001b[39m3_524 parameters, 14.945 KiB."
      ]
     },
     "execution_count": 124,
     "metadata": {},
     "output_type": "execute_result"
    }
   ],
   "source": [
    "trainmode!(m, true)"
   ]
  },
  {
   "cell_type": "code",
   "execution_count": null,
   "metadata": {},
   "outputs": [],
   "source": []
  },
  {
   "cell_type": "code",
   "execution_count": null,
   "metadata": {},
   "outputs": [],
   "source": []
  },
  {
   "cell_type": "code",
   "execution_count": null,
   "metadata": {},
   "outputs": [],
   "source": []
  },
  {
   "cell_type": "markdown",
   "metadata": {},
   "source": [
    "### <span style=\"color:orange\"> Flat and Nested Structures for the parameters </span>\n",
    "\n",
    "- We can build a model with various layers and those model parameters are based in 'nested' structure. Some operations are much easier to 'interact' with the parameters given a vector representation of them\n",
    "- The vector representation of the params can be put back into the nested structure again"
   ]
  },
  {
   "cell_type": "code",
   "execution_count": 125,
   "metadata": {},
   "outputs": [
    {
     "data": {
      "text/plain": [
       "Chain(\n",
       "  Dense(3 => 2, relu),                  \u001b[90m# 8 parameters\u001b[39m\n",
       "  Dense(2 => 1, relu),                  \u001b[90m# 3 parameters\u001b[39m\n",
       "  Dense(1 => 1),                        \u001b[90m# 2 parameters\u001b[39m\n",
       ") \u001b[90m                  # Total: 6 arrays, \u001b[39m13 parameters, 436 bytes."
      ]
     },
     "execution_count": 125,
     "metadata": {},
     "output_type": "execute_result"
    }
   ],
   "source": [
    "m = Chain( Dense(3=>2, relu) , Dense(2=>1,relu) , Dense(1=>1) )"
   ]
  },
  {
   "cell_type": "code",
   "execution_count": 126,
   "metadata": {},
   "outputs": [
    {
     "data": {
      "text/plain": [
       "3"
      ]
     },
     "execution_count": 126,
     "metadata": {},
     "output_type": "execute_result"
    }
   ],
   "source": [
    "length( m )"
   ]
  },
  {
   "cell_type": "code",
   "execution_count": 127,
   "metadata": {},
   "outputs": [
    {
     "data": {
      "text/plain": [
       "3×2 Matrix{Float32}:\n",
       " 1.0  2.0\n",
       " 1.0  4.0\n",
       " 1.0  6.0"
      ]
     },
     "execution_count": 127,
     "metadata": {},
     "output_type": "execute_result"
    }
   ],
   "source": [
    "x = Float32.( [ 1 2; 1 4; 1 6 ] )"
   ]
  },
  {
   "cell_type": "code",
   "execution_count": 128,
   "metadata": {},
   "outputs": [
    {
     "data": {
      "text/plain": [
       "1×2 Matrix{Float32}:\n",
       " -0.102298  0.0"
      ]
     },
     "execution_count": 128,
     "metadata": {},
     "output_type": "execute_result"
    }
   ],
   "source": [
    "m( x )"
   ]
  },
  {
   "cell_type": "code",
   "execution_count": 129,
   "metadata": {},
   "outputs": [
    {
     "data": {
      "text/plain": [
       "(Float32[-0.88129956, 0.94049126, 0.29029503, -0.68676275, 0.7220712, 0.7025515, 0.0, 0.0, -1.2973325, 0.5749651, 0.0, -0.26935443, 0.0], Restructure(Chain, ..., 13))"
      ]
     },
     "execution_count": 129,
     "metadata": {},
     "output_type": "execute_result"
    }
   ],
   "source": [
    "flat, rebuild = Flux.destructure( m )"
   ]
  },
  {
   "cell_type": "code",
   "execution_count": 130,
   "metadata": {},
   "outputs": [
    {
     "data": {
      "text/plain": [
       "13"
      ]
     },
     "execution_count": 130,
     "metadata": {},
     "output_type": "execute_result"
    }
   ],
   "source": [
    "length( flat )"
   ]
  },
  {
   "cell_type": "code",
   "execution_count": 131,
   "metadata": {},
   "outputs": [
    {
     "data": {
      "text/plain": [
       "Chain(\n",
       "  Dense(3 => 2, relu),                  \u001b[90m# 8 parameters\u001b[39m\n",
       "  Dense(2 => 1, relu),                  \u001b[90m# 3 parameters\u001b[39m\n",
       "  Dense(1 => 1),                        \u001b[90m# 2 parameters\u001b[39m\n",
       ") \u001b[90m                  # Total: 6 arrays, \u001b[39m13 parameters, 436 bytes."
      ]
     },
     "execution_count": 131,
     "metadata": {},
     "output_type": "execute_result"
    }
   ],
   "source": [
    "m_rebuilt = rebuild( flat )"
   ]
  },
  {
   "cell_type": "code",
   "execution_count": 132,
   "metadata": {},
   "outputs": [
    {
     "data": {
      "text/plain": [
       "1×2 Matrix{Float32}:\n",
       " -0.102298  0.0"
      ]
     },
     "execution_count": 132,
     "metadata": {},
     "output_type": "execute_result"
    }
   ],
   "source": [
    "m_rebuilt( x )"
   ]
  },
  {
   "cell_type": "code",
   "execution_count": 133,
   "metadata": {},
   "outputs": [
    {
     "data": {
      "text/plain": [
       "3"
      ]
     },
     "execution_count": 133,
     "metadata": {},
     "output_type": "execute_result"
    }
   ],
   "source": [
    "length( m_rebuilt )"
   ]
  },
  {
   "cell_type": "code",
   "execution_count": 134,
   "metadata": {},
   "outputs": [
    {
     "data": {
      "text/plain": [
       "(13,)"
      ]
     },
     "execution_count": 134,
     "metadata": {},
     "output_type": "execute_result"
    }
   ],
   "source": [
    "flat_new = 10 .* rand(Float32, length( flat ) );\n",
    "flat_new |> size"
   ]
  },
  {
   "cell_type": "code",
   "execution_count": 135,
   "metadata": {},
   "outputs": [
    {
     "data": {
      "text/plain": [
       "Chain(\n",
       "  Dense(3 => 2, relu),                  \u001b[90m# 8 parameters\u001b[39m\n",
       "  Dense(2 => 1, relu),                  \u001b[90m# 3 parameters\u001b[39m\n",
       "  Dense(1 => 1),                        \u001b[90m# 2 parameters\u001b[39m\n",
       ") \u001b[90m                  # Total: 6 arrays, \u001b[39m13 parameters, 436 bytes."
      ]
     },
     "execution_count": 135,
     "metadata": {},
     "output_type": "execute_result"
    }
   ],
   "source": [
    "m_new = rebuild( flat_new )"
   ]
  },
  {
   "cell_type": "code",
   "execution_count": 136,
   "metadata": {},
   "outputs": [
    {
     "data": {
      "text/plain": [
       "1×2 Matrix{Float32}:\n",
       " 238.879  719.74"
      ]
     },
     "execution_count": 136,
     "metadata": {},
     "output_type": "execute_result"
    }
   ],
   "source": [
    "m_new( x )"
   ]
  },
  {
   "cell_type": "code",
   "execution_count": null,
   "metadata": {},
   "outputs": [],
   "source": []
  },
  {
   "cell_type": "code",
   "execution_count": null,
   "metadata": {},
   "outputs": [],
   "source": []
  },
  {
   "cell_type": "markdown",
   "metadata": {},
   "source": [
    "### <span style=\"color:orange\"> Get the nested parameter structures from a model </span>\n",
    "\n",
    "- these structures are the non-leaf (not data inputs) which the model depends on\n",
    "- This allows us to loop over the structures and see how we with to manually change them or do calculations on them\n",
    "- uses *functor*"
   ]
  },
  {
   "cell_type": "code",
   "execution_count": 137,
   "metadata": {},
   "outputs": [
    {
     "data": {
      "text/plain": [
       "Chain(\n",
       "  Dense(100 => 50),                     \u001b[90m# 5_050 parameters\u001b[39m\n",
       "  BatchNorm(50, relu),                  \u001b[90m# 100 parameters\u001b[39m\u001b[90m, plus 100\u001b[39m\n",
       "  Dense(50 => 20),                      \u001b[90m# 1_020 parameters\u001b[39m\n",
       "  Dropout(0.2),\n",
       "  Dense(20 => 10, relu),                \u001b[90m# 210 parameters\u001b[39m\n",
       "  Dense(10 => 1, relu),                 \u001b[90m# 11 parameters\u001b[39m\n",
       ") \u001b[90m        # Total: 10 trainable arrays, \u001b[39m6_391 parameters,\n",
       "\u001b[90m          # plus 2 non-trainable, 100 parameters, summarysize \u001b[39m26.113 KiB."
      ]
     },
     "execution_count": 137,
     "metadata": {},
     "output_type": "execute_result"
    }
   ],
   "source": [
    "model = Chain(Dense(100=>50), BatchNorm(50, relu), Dense(50=>20), Dropout(0.2), Dense(20=>10,relu), Dense(10=>1,relu) )"
   ]
  },
  {
   "cell_type": "code",
   "execution_count": 138,
   "metadata": {},
   "outputs": [
    {
     "data": {
      "text/plain": [
       "8-element Vector{Any}:\n",
       " Chain(Dense(100 => 50), BatchNorm(50, relu), Dense(50 => 20), Dropout(0.2), Dense(20 => 10, relu), Dense(10 => 1, relu))  \u001b[90m# 6_391 parameters\u001b[39m\u001b[90m, plus 100 non-trainable\u001b[39m\n",
       " (Dense(100 => 50), BatchNorm(50, relu), Dense(50 => 20), Dropout(0.2), Dense(20 => 10, relu), Dense(10 => 1, relu))\n",
       " Dense(100 => 50)    \u001b[90m# 5_050 parameters\u001b[39m\n",
       " BatchNorm(50, relu)  \u001b[90m# 100 parameters\u001b[39m\u001b[90m, plus 100 non-trainable\u001b[39m\n",
       " Dense(50 => 20)     \u001b[90m# 1_020 parameters\u001b[39m\n",
       " Dropout(0.2)\n",
       " Dense(20 => 10, relu)  \u001b[90m# 210 parameters\u001b[39m\n",
       " Dense(10 => 1, relu)  \u001b[90m# 11 parameters\u001b[39m"
      ]
     },
     "execution_count": 138,
     "metadata": {},
     "output_type": "execute_result"
    }
   ],
   "source": [
    "Flux.modules( model )"
   ]
  },
  {
   "cell_type": "code",
   "execution_count": 139,
   "metadata": {},
   "outputs": [
    {
     "data": {
      "text/plain": [
       "109.45222f0"
      ]
     },
     "execution_count": 139,
     "metadata": {},
     "output_type": "execute_result"
    }
   ],
   "source": [
    "sum( [ sum(abs2, l.weight) for l in Flux.modules(model) if l isa Dense ] )"
   ]
  },
  {
   "cell_type": "code",
   "execution_count": 140,
   "metadata": {},
   "outputs": [],
   "source": [
    "x = rand(100,1);"
   ]
  },
  {
   "cell_type": "code",
   "execution_count": 141,
   "metadata": {},
   "outputs": [
    {
     "name": "stderr",
     "output_type": "stream",
     "text": [
      "\u001b[33m\u001b[1m┌ \u001b[22m\u001b[39m\u001b[33m\u001b[1mWarning: \u001b[22m\u001b[39mLayer with Float32 parameters got Float64 input.\n",
      "\u001b[33m\u001b[1m│ \u001b[22m\u001b[39m  The input will be converted, but any earlier layers may be very slow.\n",
      "\u001b[33m\u001b[1m│ \u001b[22m\u001b[39m  layer = Dense(100 => 50)    \u001b[90m# 5_050 parameters\u001b[39m\n",
      "\u001b[33m\u001b[1m│ \u001b[22m\u001b[39m  summary(x) = \"100×1 Matrix{Float64}\"\n",
      "\u001b[33m\u001b[1m└ \u001b[22m\u001b[39m\u001b[90m@ Flux ~/.julia/packages/Flux/Nzh8J/src/layers/stateless.jl:50\u001b[39m\n"
     ]
    },
    {
     "data": {
      "text/plain": [
       "1×1 Matrix{Float32}:\n",
       " 0.49097037"
      ]
     },
     "execution_count": 141,
     "metadata": {},
     "output_type": "execute_result"
    }
   ],
   "source": [
    "model( x )"
   ]
  },
  {
   "cell_type": "code",
   "execution_count": null,
   "metadata": {},
   "outputs": [],
   "source": []
  },
  {
   "cell_type": "code",
   "execution_count": null,
   "metadata": {},
   "outputs": [],
   "source": []
  },
  {
   "cell_type": "code",
   "execution_count": 3,
   "metadata": {},
   "outputs": [],
   "source": [
    "using Flux"
   ]
  },
  {
   "cell_type": "markdown",
   "metadata": {},
   "source": [
    "## take a look at those operations in a bit more detail"
   ]
  },
  {
   "cell_type": "code",
   "execution_count": 4,
   "metadata": {},
   "outputs": [],
   "source": [
    "x = rand( 100,100, 3, 10 );"
   ]
  },
  {
   "cell_type": "code",
   "execution_count": 5,
   "metadata": {},
   "outputs": [
    {
     "name": "stderr",
     "output_type": "stream",
     "text": [
      "\u001b[33m\u001b[1m┌ \u001b[22m\u001b[39m\u001b[33m\u001b[1mWarning: \u001b[22m\u001b[39mLayer with Float32 parameters got Float64 input.\n",
      "\u001b[33m\u001b[1m│ \u001b[22m\u001b[39m  The input will be converted, but any earlier layers may be very slow.\n",
      "\u001b[33m\u001b[1m│ \u001b[22m\u001b[39m  layer = Conv((5, 5), 3 => 10, relu, pad=2)  \u001b[90m# 760 parameters\u001b[39m\n",
      "\u001b[33m\u001b[1m│ \u001b[22m\u001b[39m  summary(x) = \"100×100×3×10 Array{Float64, 4}\"\n",
      "\u001b[33m\u001b[1m└ \u001b[22m\u001b[39m\u001b[90m@ Flux ~/.julia/packages/Flux/Nzh8J/src/layers/stateless.jl:50\u001b[39m\n"
     ]
    },
    {
     "name": "stdout",
     "output_type": "stream",
     "text": [
      "1: (100, 100, 10, 10)\n",
      "2: (50, 50, 10, 10)\n",
      "3: (50, 50, 10, 10)\n",
      "4: (103, 103, 10, 10)\n",
      "5: (25, 25, 10, 10)\n",
      "6: (25, 25, 10, 10)\n",
      "7: (49, 49, 10, 10)\n",
      "8: (97, 97, 10, 10)\n",
      "9: (25, 25, 10, 10)\n",
      "10: (25, 25, 3, 10)\n",
      "11: (50, 50, 10, 10)\n",
      "12: (25, 25, 10, 10)\n",
      "13: (50, 50, 3, 10)\n",
      "14: (48, 48, 3, 10)\n",
      "15: (20, 20, 3, 10)\n",
      "16: (20, 20, 3, 10)\n"
     ]
    }
   ],
   "source": [
    "# go from wide and thin to narrow and deep\n",
    "m = Chain( Conv((5,5),3=>10,pad=2, relu) ) #increase depth but maintain size\n",
    "println(\"1: \", m(x) |> size )\n",
    "#maxpool selects the max value in a patch region\n",
    "m = Chain( Conv((5,5),3=>10,pad=2, relu) , #increase depth but maintain size\n",
    "            MaxPool( (2,2) ) ) #downsamples the spatial 'width' but maintains channel size\n",
    "println(\"2: \", m(x) |> size )\n",
    "m = Chain( Conv((5,5),3=>10,pad=2, relu) , #increase depth but maintain size\n",
    "            MaxPool( (2,2) , stride=2 ) ) #downsamples the spatial 'width' but maintains channel size\n",
    "println(\"3: \", m(x) |> size )\n",
    "m = Chain( Conv((5,5),3=>10,pad=2, relu) , #increase depth but maintain size\n",
    "            MaxPool( (2,2) , stride=1 ) ) #downsamples the spatial 'width' but maintains channel size\n",
    "println(\"4: \", m(x) |> size )\n",
    "m = Chain( Conv((5,5),3=>10,pad=2, relu) , #increase depth but maintain size\n",
    "            MaxPool( (2,2) , stride=4 ) ) #downsamples the spatial 'width' but maintains channel size\n",
    "println(\"5: \", m(x) |> size )\n",
    "m = Chain( Conv((5,5),3=>10,pad=2, relu) , #increase depth but maintain size\n",
    "            MaxPool( (2,2) , stride=4 ) ) #downsamples the spatial 'width' but maintains channel size\n",
    "println(\"6: \", m(x) |> size )\n",
    "m = Chain( Conv((5,5),3=>10,pad=2, relu) , #increase depth but maintain size\n",
    "            MaxPool( (4,4) , stride=2 ) ) #downsamples the spatial 'width' but maintains channel size\n",
    "println(\"7: \", m(x) |> size )\n",
    "m = Chain( Conv((5,5),3=>10,pad=2, relu) , #increase depth but maintain size\n",
    "            MaxPool( (4,4) , stride=1 ) ) #downsamples the spatial 'width' but maintains channel size\n",
    "println(\"8: \", m(x) |> size )\n",
    "m = Chain( Conv((5,5),3=>10,pad=2, relu) , #increase depth but maintain size\n",
    "            MaxPool( (4,4) , stride=4 ) ) #downsamples the spatial 'width' but maintains channel size\n",
    "println(\"9: \", m(x) |> size )\n",
    "m = Chain( MaxPool( (4,4) , stride=4 ) ) #downsamples the spatial 'width' but maintains channel size\n",
    "println(\"10: \", m(x) |> size )\n",
    "m = Chain( Conv((5,5),3=>10,pad=2, stride=2 , relu) ) # 'strided' convolutions an alternative to pooling layers\n",
    "println(\"11: \", m(x) |> size )\n",
    "m = Chain( Conv((5,5),3=>10,pad=2, stride=4 , relu) ) # 'strided' conv combines downsampling and conv\n",
    "println(\"12: \", m(x) |> size )\n",
    "m = Chain( MaxPool( (2,2) , stride=2 ) ) # just max pool\n",
    "println(\"13: \", m(x) |> size )\n",
    "m = Chain( MaxPool( (5,5) , stride=2 ) ) # just max pool\n",
    "println(\"14: \", m(x) |> size )\n",
    "m = Chain( MaxPool( (5,5) , stride=5 ) ) # just max pool\n",
    "println(\"15: \", m(x) |> size )\n",
    "m = Chain( MeanPool( (5,5) , stride=5 ) ) # just mean pool\n",
    "println(\"16: \", m(x) |> size )"
   ]
  },
  {
   "cell_type": "markdown",
   "metadata": {},
   "source": [
    "## <span style=\"color:orange\">Max Pooling and Adaptive Mean Pooling both do 'downsampling' but Adaptive Mean Pooling does average pooling and resizes (adapts) the input feature map to a specific output size so that you do not specify the pooling patch (window) size and the stride, but you define the output dimensions (W,H) and then the appropriate window size and stride is found under the hood for the target dimensions. Max pooling requires you to specify the window size and stride as params.  </span>\n",
    "\n",
    "## The mean pooling does a 'smoothing' of the feature maps and retains more information and possibly 'overfitting' and max pooling is designed to preserve the most significant features of the pooling window. "
   ]
  },
  {
   "cell_type": "code",
   "execution_count": 211,
   "metadata": {},
   "outputs": [],
   "source": [
    "x = rand( 100,100, 3, 10 );"
   ]
  },
  {
   "cell_type": "code",
   "execution_count": 225,
   "metadata": {},
   "outputs": [
    {
     "name": "stdout",
     "output_type": "stream",
     "text": [
      "1: (1, 1, 3, 10)\n",
      "2: (3, 10)\n",
      "3: (20, 10)\n",
      "4: (20, 20, 3, 10)\n",
      "5: (20, 20, 15, 10)\n",
      "6: (6000, 10)\n",
      "7: (1, 1, 10, 10)\n"
     ]
    }
   ],
   "source": [
    "m = Chain( AdaptiveMeanPool( (1,1) ) ) #target size is (1,1) but that is for the spatial and applied to each channel\n",
    "println(\"1: \", m(x) |> size )\n",
    "m = Chain( AdaptiveMeanPool( (1,1) ) , #target size is (1,1) but that is for the spatial and applied to each channel\n",
    "            Flux.flatten ) #a value 'dimension' for each channel\n",
    "println(\"2: \", m(x) |> size )\n",
    "m = Chain( Conv((5,5),3=>20,pad=2 , relu) , #increase channel depth\n",
    "            AdaptiveMeanPool( (1,1) ) , #target size is (1,1) but that is for the spatial and applied to each channel\n",
    "            Flux.flatten ) #a value 'dimension' for each channel\n",
    "println(\"3: \", m(x) |> size )\n",
    "m = Chain( AdaptiveMeanPool( (20,20) ) ) #target size is (20,20) but that is for the spatial and applied to each channel\n",
    "println(\"4: \", m(x) |> size )\n",
    "m = Chain( Conv((5,5),3=>15,pad=2, relu) , #the channel number is 'preserved' but the spatial dimensions downsampled\n",
    "            AdaptiveMeanPool( (20,20) ) ) #target size is (20,20) but that is for the spatial and applied to each channel\n",
    "println(\"5: \", m(x) |> size )\n",
    "m = Chain( Conv((5,5),3=>15,pad=2, relu) , #the channel number is 'preserved' but the spatial dimensions downsampled\n",
    "            AdaptiveMeanPool( (20,20) ) , \n",
    "            Flux.flatten ) #\n",
    "println(\"6: \", m(x) |> size )\n",
    "m = Chain( Conv((5,5),3=>10,pad=2, relu) , #the channel number is 'preserved' but the spatial dimensions downsampled\n",
    "            AdaptiveMeanPool( (1,1) ) ) #target size is (20,20) but that is for the spatial and applied to each channel\n",
    "println(\"7: \", m(x) |> size )"
   ]
  },
  {
   "cell_type": "code",
   "execution_count": 6,
   "metadata": {},
   "outputs": [
    {
     "data": {
      "text/plain": [
       "(100, 100, 3, 10)"
      ]
     },
     "execution_count": 6,
     "metadata": {},
     "output_type": "execute_result"
    }
   ],
   "source": [
    "size( x )"
   ]
  },
  {
   "cell_type": "code",
   "execution_count": 23,
   "metadata": {},
   "outputs": [
    {
     "data": {
      "text/plain": [
       "(800, 800, 10, 10)"
      ]
     },
     "execution_count": 23,
     "metadata": {},
     "output_type": "execute_result"
    }
   ],
   "source": [
    "cnn_layer = ConvTranspose( (5,5) , 3 => 10, stride=8 ,pad =SamePad() )\n",
    "cnn_layer( x ) |> size"
   ]
  },
  {
   "cell_type": "code",
   "execution_count": 27,
   "metadata": {},
   "outputs": [
    {
     "data": {
      "text/plain": [
       "(100, 100, 6, 10)"
      ]
     },
     "execution_count": 27,
     "metadata": {},
     "output_type": "execute_result"
    }
   ],
   "source": [
    "m = Chain( Conv((5,5),3=>3, pad=SamePad() , relu) )\n",
    "#takes in the layer and the 'connection function'\n",
    "m_skip = SkipConnection( m , (mx,x) -> cat(mx,x,dims=3) ) #add a shortcut for the layer input to the output\n",
    "size( m_skip(x) )"
   ]
  },
  {
   "cell_type": "code",
   "execution_count": 28,
   "metadata": {},
   "outputs": [
    {
     "data": {
      "text/plain": [
       "(200, 200, 3, 10)"
      ]
     },
     "execution_count": 28,
     "metadata": {},
     "output_type": "execute_result"
    }
   ],
   "source": [
    "m = Upsample( :nearest, size= (200,200) ) # non-learnable\n",
    "m( x ) |> size"
   ]
  },
  {
   "cell_type": "code",
   "execution_count": 31,
   "metadata": {},
   "outputs": [
    {
     "data": {
      "text/plain": [
       "(200, 200, 3, 10)"
      ]
     },
     "execution_count": 31,
     "metadata": {},
     "output_type": "execute_result"
    }
   ],
   "source": [
    "m = Upsample( :bilinear, size= (200,200) ) # non-learnable\n",
    "m( x ) |> size"
   ]
  },
  {
   "cell_type": "code",
   "execution_count": 43,
   "metadata": {},
   "outputs": [
    {
     "data": {
      "text/plain": [
       "PixelShuffle(3)"
      ]
     },
     "execution_count": 43,
     "metadata": {},
     "output_type": "execute_result"
    }
   ],
   "source": [
    "p = PixelShuffle(3)"
   ]
  },
  {
   "cell_type": "code",
   "execution_count": 46,
   "metadata": {},
   "outputs": [
    {
     "data": {
      "text/plain": [
       "(300, 300, 1, 10)"
      ]
     },
     "execution_count": 46,
     "metadata": {},
     "output_type": "execute_result"
    }
   ],
   "source": [
    "m = Chain( Conv((5,5),3=>9, pad=SamePad() , relu) )\n",
    "p( m(x) ) |> size"
   ]
  },
  {
   "cell_type": "code",
   "execution_count": null,
   "metadata": {},
   "outputs": [],
   "source": []
  },
  {
   "cell_type": "code",
   "execution_count": null,
   "metadata": {},
   "outputs": [],
   "source": []
  },
  {
   "cell_type": "code",
   "execution_count": null,
   "metadata": {},
   "outputs": [],
   "source": []
  },
  {
   "cell_type": "markdown",
   "metadata": {},
   "source": [
    "## <span style=\"color:orange\">Upsample from a vector (GAN step 1 scenario)</span>\n",
    "\n",
    "- go from z-vector of 100 to 4x4x1024"
   ]
  },
  {
   "cell_type": "code",
   "execution_count": 1,
   "metadata": {},
   "outputs": [],
   "source": [
    "# model = Chain( Dense( 100 , 4*4*1024 ) ) , x -> reshape( x , (4,4,1024) ) )"
   ]
  },
  {
   "cell_type": "code",
   "execution_count": 2,
   "metadata": {},
   "outputs": [],
   "source": [
    "# model = Chain( x -> reshape( x , 1 , 1 , 100 ) , ConvTranspose( (1,100) , 1 => 1024, stride=(4, 4) ) )"
   ]
  },
  {
   "cell_type": "code",
   "execution_count": 3,
   "metadata": {},
   "outputs": [],
   "source": [
    "# model = Chain( Dense( 100 , 256 ) , x->reshape(x, 4,4,16, :), DepthwiseConv((1, 1), 16 => 64), x->reshape(x, (4,4,1024) ) )"
   ]
  },
  {
   "cell_type": "code",
   "execution_count": 5,
   "metadata": {},
   "outputs": [],
   "source": [
    "# not efficient as AdaptiveMeanPool losses information\n",
    "# model = Chain( Dense( 100 , 16384 ), x -> reshape(x, 16, 16, 64), AdaptiveMeanPool((4, 4)), x -> reshape(x, (4,4,1024)) ) "
   ]
  },
  {
   "cell_type": "code",
   "execution_count": null,
   "metadata": {},
   "outputs": [],
   "source": [
    "# model = Chain( Dense(input_size, 4 * 4 * 512),  # Increase the output size\n",
    "    #x -> reshape(x, 4, 4, 512),      # Reshape to (4, 4, 512)\n",
    "    #ConvTranspose((4, 4), 512 => 256, stride=(2, 2), padding=(1, 1)),  # Increase spatial dimensions to (8, 8, 256)\n",
    "    #BatchNorm(256),\n",
    "    #relu,\n",
    "    #ConvTranspose((4, 4), 256 => 1024, stride=(2, 2), padding=(1, 1)),  # Increase spatial dimensions to (16, 16, 1024)\n",
    "    #BatchNorm(1024),\n",
    "    #relu,\n",
    "    #x -> crop(x, (4, 4, 1024))  # Crop the output to the desired shape (4, 4, 1024)\n",
    ")"
   ]
  },
  {
   "cell_type": "code",
   "execution_count": null,
   "metadata": {},
   "outputs": [],
   "source": []
  },
  {
   "cell_type": "code",
   "execution_count": 73,
   "metadata": {},
   "outputs": [
    {
     "ename": "LoadError",
     "evalue": "syntax: \"<\" is not a unary operator",
     "output_type": "error",
     "traceback": [
      "syntax: \"<\" is not a unary operator",
      "",
      "Stacktrace:",
      " [1] top-level scope",
      "   @ In[73]:1",
      " [2] eval",
      "   @ ./boot.jl:368 [inlined]",
      " [3] include_string(mapexpr::typeof(REPL.softscope), mod::Module, code::String, filename::String)",
      "   @ Base ./loading.jl:1428"
     ]
    }
   ],
   "source": [
    "<span style=\"color:orange\">  </span>"
   ]
  }
 ],
 "metadata": {
  "kernelspec": {
   "display_name": "Julia 1.8.2",
   "language": "julia",
   "name": "julia-1.8"
  },
  "language_info": {
   "file_extension": ".jl",
   "mimetype": "application/julia",
   "name": "julia",
   "version": "1.8.2"
  }
 },
 "nbformat": 4,
 "nbformat_minor": 4
}
