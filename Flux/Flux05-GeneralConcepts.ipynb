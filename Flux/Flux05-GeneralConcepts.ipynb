{
 "cells": [
  {
   "cell_type": "code",
   "execution_count": null,
   "metadata": {},
   "outputs": [],
   "source": []
  },
  {
   "cell_type": "code",
   "execution_count": 1,
   "metadata": {},
   "outputs": [],
   "source": [
    "using Flux"
   ]
  },
  {
   "cell_type": "code",
   "execution_count": 2,
   "metadata": {},
   "outputs": [],
   "source": [
    "using ImageShow, Images, ImageInTerminal\n",
    "using MLDatasets"
   ]
  },
  {
   "cell_type": "code",
   "execution_count": 3,
   "metadata": {},
   "outputs": [
    {
     "name": "stdout",
     "output_type": "stream",
     "text": [
      "train_x_raw size = (28, 28, 60000), train_y_raw size = (60000,)\n"
     ]
    },
    {
     "data": {
      "text/plain": [
       "5-element Vector{Int64}:\n",
       " 5\n",
       " 0\n",
       " 4\n",
       " 1\n",
       " 9"
      ]
     },
     "metadata": {},
     "output_type": "display_data"
    }
   ],
   "source": [
    "train_x_raw, train_y_raw = MNIST(split = :train)[:]\n",
    "test_x_raw,  test_y_raw  = MNIST(split = :test)[:];\n",
    "println( \"train_x_raw size = $(size(train_x_raw)), train_y_raw size = $(size(train_y_raw))\")\n",
    "display( train_y_raw[1:5] )"
   ]
  },
  {
   "cell_type": "code",
   "execution_count": 4,
   "metadata": {},
   "outputs": [
    {
     "data": {
      "image/png": "[encoded data removed]",
      "text/html": [
       "<img src=\"data:image/png;base64,iVBORw0KGgoAAAANSUhEUgAAAHAAAABwCAAAAADji6uXAAAABGdBTUEAALGPC/xhBQAAAAFzUkdCAK7OHOkAAAAgY0hSTQAAeiYAAICEAAD6AAAAgOgAAHUwAADqYAAAOpgAABdwnLpRPAAAAiVJREFUaAW9wT2IFgQABuAHemnI4aJFISgJwkDIIiqIsMLcajiKIEEIshosmgSHhhoUIW/IcIgCISHa+psKsp8hEKSSSAlyECon61Q+jMDT4RuO7w6/n5Pe54myKIuyKIuyKIuyKIuyKIuyKIuyKIuyKIuyKIuyKIsZ3YQ5y17FLdiE3TiI5/EvDuAto6IsyqIsJrgDN+MRPIpb8YzV/sAhzOMSTuI7q0VZlEVZjHE/vsac8ZbwBgb4CH/hH/xmtSiLsiiLMc7iPOasdhyLeAL/4ajpRFmURVmM8Tf24Cn8hEOGfsZ2DLAZr5telEVZlMUEn+IYLmELXsQCBoZ+xcumF2VRFmUxhYuGLhjahY+xZHZRFmVRFjN4Ew/gMTyJr8wuyqIsymIGA7yEH/E+vsEJHMZV04myKIuymNEZvIAj2ImdWIcPcc5kURZlURZr8Al+xwK2YT/uxD78abwoi7IoizX6Bc/haRzBK7gb240XZVEWZXEDFnEUHyDYisfxreuLsiiLslije/EsHkQMncL3xouyKIuymNEmvIZ5bLDsCs5hyXhRFmVRFlPagB3YjY1GncA+fG6yKIuyKIsJ1mMz3sU9Rh3H2/gMS6YTZVEWZXEdt+E93Ie7jPoBC/gSl80myqIsymKFh7EHD+F2oy7jHezHwNpEWZRFWawwj3nLTuMLXMFBLLoxURZlURYr7MVe/58oi7Ioi7Ioi7Ioi7Ioi7IouwZsVVgTmd3ynQAAAABJRU5ErkJg\">"
      ],
      "text/plain": [
       "\u001b[0m\u001b[38;2;0;0;0m██\u001b[38;2;0;0;0m██\u001b[38;2;0;0;0m██\u001b[38;2;0;0;0m██\u001b[38;2;0;0;0m██\u001b[38;2;0;0;0m██\u001b[38;2;0;0;0m██\u001b[38;2;0;0;0m██\u001b[38;2;0;0;0m██\u001b[38;2;0;0;0m██\u001b[38;2;0;0;0m██\u001b[38;2;0;0;0m██\u001b[38;2;0;0;0m██\u001b[38;2;0;0;0m██\u001b[38;2;0;0;0m██\u001b[38;2;0;0;0m██\u001b[38;2;0;0;0m██\u001b[38;2;0;0;0m██\u001b[38;2;0;0;0m██\u001b[38;2;0;0;0m██\u001b[38;2;0;0;0m██\u001b[38;2;0;0;0m██\u001b[38;2;0;0;0m██\u001b[38;2;0;0;0m██\u001b[38;2;0;0;0m██\u001b[38;2;0;0;0m██\u001b[38;2;0;0;0m██\u001b[38;2;0;0;0m██\u001b[0m\n",
       "\u001b[0m\u001b[38;2;0;0;0m██\u001b[38;2;0;0;0m██\u001b[38;2;0;0;0m██\u001b[38;2;0;0;0m██\u001b[38;2;0;0;0m██\u001b[38;2;0;0;0m██\u001b[38;2;0;0;0m██\u001b[38;2;0;0;0m██\u001b[38;2;0;0;0m██\u001b[38;2;0;0;0m██\u001b[38;2;0;0;0m██\u001b[38;2;0;0;0m██\u001b[38;2;0;0;0m██\u001b[38;2;0;0;0m██\u001b[38;2;0;0;0m██\u001b[38;2;0;0;0m██\u001b[38;2;0;0;0m██\u001b[38;2;0;0;0m██\u001b[38;2;0;0;0m██\u001b[38;2;0;0;0m██\u001b[38;2;0;0;0m██\u001b[38;2;0;0;0m██\u001b[38;2;0;0;0m██\u001b[38;2;0;0;0m██\u001b[38;2;0;0;0m██\u001b[38;2;0;0;0m██\u001b[38;2;0;0;0m██\u001b[38;2;0;0;0m██\u001b[0m\n",
       "\u001b[0m\u001b[38;2;0;0;0m██\u001b[38;2;0;0;0m██\u001b[38;2;0;0;0m██\u001b[38;2;0;0;0m██\u001b[38;2;0;0;0m██\u001b[38;2;0;0;0m██\u001b[38;2;0;0;0m██\u001b[38;2;0;0;0m██\u001b[38;2;0;0;0m██\u001b[38;2;0;0;0m██\u001b[38;2;0;0;0m██\u001b[38;2;0;0;0m██\u001b[38;2;0;0;0m██\u001b[38;2;0;0;0m██\u001b[38;2;0;0;0m██\u001b[38;2;0;0;0m██\u001b[38;2;0;0;0m██\u001b[38;2;0;0;0m██\u001b[38;2;0;0;0m██\u001b[38;2;0;0;0m██\u001b[38;2;0;0;0m██\u001b[38;2;0;0;0m██\u001b[38;2;0;0;0m██\u001b[38;2;0;0;0m██\u001b[38;2;0;0;0m██\u001b[38;2;0;0;0m██\u001b[38;2;0;0;0m██\u001b[38;2;0;0;0m██\u001b[0m\n",
       "\u001b[0m\u001b[38;2;0;0;0m██\u001b[38;2;0;0;0m██\u001b[38;2;0;0;0m██\u001b[38;2;0;0;0m██\u001b[38;2;0;0;0m██\u001b[38;2;0;0;0m██\u001b[38;2;0;0;0m██\u001b[38;2;0;0;0m██\u001b[38;2;0;0;0m██\u001b[38;2;0;0;0m██\u001b[38;2;0;0;0m██\u001b[38;2;0;0;0m██\u001b[38;2;0;0;0m██\u001b[38;2;0;0;0m██\u001b[38;2;0;0;0m██\u001b[38;2;0;0;0m██\u001b[38;2;0;0;0m██\u001b[38;2;0;0;0m██\u001b[38;2;0;0;0m██\u001b[38;2;0;0;0m██\u001b[38;2;0;0;0m██\u001b[38;2;0;0;0m██\u001b[38;2;0;0;0m██\u001b[38;2;0;0;0m██\u001b[38;2;0;0;0m██\u001b[38;2;0;0;0m██\u001b[38;2;0;0;0m██\u001b[38;2;0;0;0m██\u001b[0m\n",
       "\u001b[0m\u001b[38;2;0;0;0m██\u001b[38;2;0;0;0m██\u001b[38;2;0;0;0m██\u001b[38;2;0;0;0m██\u001b[38;2;0;0;0m██\u001b[38;2;0;0;0m██\u001b[38;2;0;0;0m██\u001b[38;2;0;0;0m██\u001b[38;2;0;0;0m██\u001b[38;2;0;0;0m██\u001b[38;2;0;0;0m██\u001b[38;2;0;0;0m██\u001b[38;2;0;0;0m██\u001b[38;2;0;0;0m██\u001b[38;2;0;0;0m██\u001b[38;2;0;0;0m██\u001b[38;2;0;0;0m██\u001b[38;2;0;0;0m██\u001b[38;2;0;0;0m██\u001b[38;2;0;0;0m██\u001b[38;2;0;0;0m██\u001b[38;2;0;0;0m██\u001b[38;2;0;0;0m██\u001b[38;2;0;0;0m██\u001b[38;2;0;0;0m██\u001b[38;2;0;0;0m██\u001b[38;2;0;0;0m██\u001b[38;2;0;0;0m██\u001b[0m\n",
       "\u001b[0m\u001b[38;2;0;0;0m██\u001b[38;2;0;0;0m██\u001b[38;2;0;0;0m██\u001b[38;2;0;0;0m██\u001b[38;2;0;0;0m██\u001b[38;2;0;0;0m██\u001b[38;2;0;0;0m██\u001b[38;2;0;0;0m██\u001b[38;2;0;0;0m██\u001b[38;2;0;0;0m██\u001b[38;2;0;0;0m██\u001b[38;2;0;0;0m██\u001b[38;2;3;3;3m██\u001b[38;2;18;18;18m██\u001b[38;2;18;18;18m██\u001b[38;2;18;18;18m██\u001b[38;2;126;126;126m██\u001b[38;2;136;136;136m██\u001b[38;2;175;175;175m██\u001b[38;2;26;26;26m██\u001b[38;2;166;166;166m██\u001b[38;2;255;255;255m██\u001b[38;2;247;247;247m██\u001b[38;2;127;127;127m██\u001b[38;2;0;0;0m██\u001b[38;2;0;0;0m██\u001b[38;2;0;0;0m██\u001b[38;2;0;0;0m██\u001b[0m\n",
       "\u001b[0m\u001b[38;2;0;0;0m██\u001b[38;2;0;0;0m██\u001b[38;2;0;0;0m██\u001b[38;2;0;0;0m██\u001b[38;2;0;0;0m██\u001b[38;2;0;0;0m██\u001b[38;2;0;0;0m██\u001b[38;2;0;0;0m██\u001b[38;2;30;30;30m██\u001b[38;2;36;36;36m██\u001b[38;2;94;94;94m██\u001b[38;2;154;154;154m██\u001b[38;2;170;170;170m██\u001b[38;2;253;253;253m██\u001b[38;2;253;253;253m██\u001b[38;2;253;253;253m██\u001b[38;2;253;253;253m██\u001b[38;2;253;253;253m██\u001b[38;2;225;225;225m██\u001b[38;2;172;172;172m██\u001b[38;2;253;253;253m██\u001b[38;2;242;242;242m██\u001b[38;2;195;195;195m██\u001b[38;2;64;64;64m██\u001b[38;2;0;0;0m██\u001b[38;2;0;0;0m██\u001b[38;2;0;0;0m██\u001b[38;2;0;0;0m██\u001b[0m\n",
       "\u001b[0m\u001b[38;2;0;0;0m██\u001b[38;2;0;0;0m██\u001b[38;2;0;0;0m██\u001b[38;2;0;0;0m██\u001b[38;2;0;0;0m██\u001b[38;2;0;0;0m██\u001b[38;2;0;0;0m██\u001b[38;2;49;49;49m██\u001b[38;2;238;238;238m██\u001b[38;2;253;253;253m██\u001b[38;2;253;253;253m██\u001b[38;2;253;253;253m██\u001b[38;2;253;253;253m██\u001b[38;2;253;253;253m██\u001b[38;2;253;253;253m██\u001b[38;2;253;253;253m██\u001b[38;2;253;253;253m██\u001b[38;2;251;251;251m██\u001b[38;2;93;93;93m██\u001b[38;2;82;82;82m██\u001b[38;2;82;82;82m██\u001b[38;2;56;56;56m██\u001b[38;2;39;39;39m██\u001b[38;2;0;0;0m██\u001b[38;2;0;0;0m██\u001b[38;2;0;0;0m██\u001b[38;2;0;0;0m██\u001b[38;2;0;0;0m██\u001b[0m\n",
       "\u001b[0m\u001b[38;2;0;0;0m██\u001b[38;2;0;0;0m██\u001b[38;2;0;0;0m██\u001b[38;2;0;0;0m██\u001b[38;2;0;0;0m██\u001b[38;2;0;0;0m██\u001b[38;2;0;0;0m██\u001b[38;2;18;18;18m██\u001b[38;2;219;219;219m██\u001b[38;2;253;253;253m██\u001b[38;2;253;253;253m██\u001b[38;2;253;253;253m██\u001b[38;2;253;253;253m██\u001b[38;2;253;253;253m██\u001b[38;2;198;198;198m██\u001b[38;2;182;182;182m██\u001b[38;2;247;247;247m██\u001b[38;2;241;241;241m██\u001b[38;2;0;0;0m██\u001b[38;2;0;0;0m██\u001b[38;2;0;0;0m██\u001b[38;2;0;0;0m██\u001b[38;2;0;0;0m██\u001b[38;2;0;0;0m██\u001b[38;2;0;0;0m██\u001b[38;2;0;0;0m██\u001b[38;2;0;0;0m██\u001b[38;2;0;0;0m██\u001b[0m\n",
       "\u001b[0m\u001b[38;2;0;0;0m██\u001b[38;2;0;0;0m██\u001b[38;2;0;0;0m██\u001b[38;2;0;0;0m██\u001b[38;2;0;0;0m██\u001b[38;2;0;0;0m██\u001b[38;2;0;0;0m██\u001b[38;2;0;0;0m██\u001b[38;2;80;80;80m██\u001b[38;2;156;156;156m██\u001b[38;2;107;107;107m██\u001b[38;2;253;253;253m██\u001b[38;2;253;253;253m██\u001b[38;2;205;205;205m██\u001b[38;2;11;11;11m██\u001b[38;2;0;0;0m██\u001b[38;2;43;43;43m██\u001b[38;2;154;154;154m██\u001b[38;2;0;0;0m██\u001b[38;2;0;0;0m██\u001b[38;2;0;0;0m██\u001b[38;2;0;0;0m██\u001b[38;2;0;0;0m██\u001b[38;2;0;0;0m██\u001b[38;2;0;0;0m██\u001b[38;2;0;0;0m██\u001b[38;2;0;0;0m██\u001b[38;2;0;0;0m██\u001b[0m\n",
       "\u001b[0m\u001b[38;2;0;0;0m██\u001b[38;2;0;0;0m██\u001b[38;2;0;0;0m██\u001b[38;2;0;0;0m██\u001b[38;2;0;0;0m██\u001b[38;2;0;0;0m██\u001b[38;2;0;0;0m██\u001b[38;2;0;0;0m██\u001b[38;2;0;0;0m██\u001b[38;2;14;14;14m██\u001b[38;2;1;1;1m██\u001b[38;2;154;154;154m██\u001b[38;2;253;253;253m██\u001b[38;2;90;90;90m██\u001b[38;2;0;0;0m██\u001b[38;2;0;0;0m██\u001b[38;2;0;0;0m██\u001b[38;2;0;0;0m██\u001b[38;2;0;0;0m██\u001b[38;2;0;0;0m██\u001b[38;2;0;0;0m██\u001b[38;2;0;0;0m██\u001b[38;2;0;0;0m██\u001b[38;2;0;0;0m██\u001b[38;2;0;0;0m██\u001b[38;2;0;0;0m██\u001b[38;2;0;0;0m██\u001b[38;2;0;0;0m██\u001b[0m\n",
       "\u001b[0m\u001b[38;2;0;0;0m██\u001b[38;2;0;0;0m██\u001b[38;2;0;0;0m██\u001b[38;2;0;0;0m██\u001b[38;2;0;0;0m██\u001b[38;2;0;0;0m██\u001b[38;2;0;0;0m██\u001b[38;2;0;0;0m██\u001b[38;2;0;0;0m██\u001b[38;2;0;0;0m██\u001b[38;2;0;0;0m██\u001b[38;2;139;139;139m██\u001b[38;2;253;253;253m██\u001b[38;2;190;190;190m██\u001b[38;2;2;2;2m██\u001b[38;2;0;0;0m██\u001b[38;2;0;0;0m██\u001b[38;2;0;0;0m██\u001b[38;2;0;0;0m██\u001b[38;2;0;0;0m██\u001b[38;2;0;0;0m██\u001b[38;2;0;0;0m██\u001b[38;2;0;0;0m██\u001b[38;2;0;0;0m██\u001b[38;2;0;0;0m██\u001b[38;2;0;0;0m██\u001b[38;2;0;0;0m██\u001b[38;2;0;0;0m██\u001b[0m\n",
       "\u001b[0m\u001b[38;2;0;0;0m██\u001b[38;2;0;0;0m██\u001b[38;2;0;0;0m██\u001b[38;2;0;0;0m██\u001b[38;2;0;0;0m██\u001b[38;2;0;0;0m██\u001b[38;2;0;0;0m██\u001b[38;2;0;0;0m██\u001b[38;2;0;0;0m██\u001b[38;2;0;0;0m██\u001b[38;2;0;0;0m██\u001b[38;2;11;11;11m██\u001b[38;2;190;190;190m██\u001b[38;2;253;253;253m██\u001b[38;2;70;70;70m██\u001b[38;2;0;0;0m██\u001b[38;2;0;0;0m██\u001b[38;2;0;0;0m██\u001b[38;2;0;0;0m██\u001b[38;2;0;0;0m██\u001b[38;2;0;0;0m██\u001b[38;2;0;0;0m██\u001b[38;2;0;0;0m██\u001b[38;2;0;0;0m██\u001b[38;2;0;0;0m██\u001b[38;2;0;0;0m██\u001b[38;2;0;0;0m██\u001b[38;2;0;0;0m██\u001b[0m\n",
       "\u001b[0m\u001b[38;2;0;0;0m██\u001b[38;2;0;0;0m██\u001b[38;2;0;0;0m██\u001b[38;2;0;0;0m██\u001b[38;2;0;0;0m██\u001b[38;2;0;0;0m██\u001b[38;2;0;0;0m██\u001b[38;2;0;0;0m██\u001b[38;2;0;0;0m██\u001b[38;2;0;0;0m██\u001b[38;2;0;0;0m██\u001b[38;2;0;0;0m██\u001b[38;2;35;35;35m██\u001b[38;2;241;241;241m██\u001b[38;2;225;225;225m██\u001b[38;2;160;160;160m██\u001b[38;2;108;108;108m██\u001b[38;2;1;1;1m██\u001b[38;2;0;0;0m██\u001b[38;2;0;0;0m██\u001b[38;2;0;0;0m██\u001b[38;2;0;0;0m██\u001b[38;2;0;0;0m██\u001b[38;2;0;0;0m██\u001b[38;2;0;0;0m██\u001b[38;2;0;0;0m██\u001b[38;2;0;0;0m██\u001b[38;2;0;0;0m██\u001b[0m\n",
       "\u001b[0m\u001b[38;2;0;0;0m██\u001b[38;2;0;0;0m██\u001b[38;2;0;0;0m██\u001b[38;2;0;0;0m██\u001b[38;2;0;0;0m██\u001b[38;2;0;0;0m██\u001b[38;2;0;0;0m██\u001b[38;2;0;0;0m██\u001b[38;2;0;0;0m██\u001b[38;2;0;0;0m██\u001b[38;2;0;0;0m██\u001b[38;2;0;0;0m██\u001b[38;2;0;0;0m██\u001b[38;2;81;81;81m██\u001b[38;2;240;240;240m██\u001b[38;2;253;253;253m██\u001b[38;2;253;253;253m██\u001b[38;2;119;119;119m██\u001b[38;2;25;25;25m██\u001b[38;2;0;0;0m██\u001b[38;2;0;0;0m██\u001b[38;2;0;0;0m██\u001b[38;2;0;0;0m██\u001b[38;2;0;0;0m██\u001b[38;2;0;0;0m██\u001b[38;2;0;0;0m██\u001b[38;2;0;0;0m██\u001b[38;2;0;0;0m██\u001b[0m\n",
       "\u001b[0m\u001b[38;2;0;0;0m██\u001b[38;2;0;0;0m██\u001b[38;2;0;0;0m██\u001b[38;2;0;0;0m██\u001b[38;2;0;0;0m██\u001b[38;2;0;0;0m██\u001b[38;2;0;0;0m██\u001b[38;2;0;0;0m██\u001b[38;2;0;0;0m██\u001b[38;2;0;0;0m██\u001b[38;2;0;0;0m██\u001b[38;2;0;0;0m██\u001b[38;2;0;0;0m██\u001b[38;2;0;0;0m██\u001b[38;2;45;45;45m██\u001b[38;2;186;186;186m██\u001b[38;2;253;253;253m██\u001b[38;2;253;253;253m██\u001b[38;2;150;150;150m██\u001b[38;2;27;27;27m██\u001b[38;2;0;0;0m██\u001b[38;2;0;0;0m██\u001b[38;2;0;0;0m██\u001b[38;2;0;0;0m██\u001b[38;2;0;0;0m██\u001b[38;2;0;0;0m██\u001b[38;2;0;0;0m██\u001b[38;2;0;0;0m██\u001b[0m\n",
       "\u001b[0m\u001b[38;2;0;0;0m██\u001b[38;2;0;0;0m██\u001b[38;2;0;0;0m██\u001b[38;2;0;0;0m██\u001b[38;2;0;0;0m██\u001b[38;2;0;0;0m██\u001b[38;2;0;0;0m██\u001b[38;2;0;0;0m██\u001b[38;2;0;0;0m██\u001b[38;2;0;0;0m██\u001b[38;2;0;0;0m██\u001b[38;2;0;0;0m██\u001b[38;2;0;0;0m██\u001b[38;2;0;0;0m██\u001b[38;2;0;0;0m██\u001b[38;2;16;16;16m██\u001b[38;2;93;93;93m██\u001b[38;2;252;252;252m██\u001b[38;2;253;253;253m██\u001b[38;2;187;187;187m██\u001b[38;2;0;0;0m██\u001b[38;2;0;0;0m██\u001b[38;2;0;0;0m██\u001b[38;2;0;0;0m██\u001b[38;2;0;0;0m██\u001b[38;2;0;0;0m██\u001b[38;2;0;0;0m██\u001b[38;2;0;0;0m██\u001b[0m\n",
       "\u001b[0m\u001b[38;2;0;0;0m██\u001b[38;2;0;0;0m██\u001b[38;2;0;0;0m██\u001b[38;2;0;0;0m██\u001b[38;2;0;0;0m██\u001b[38;2;0;0;0m██\u001b[38;2;0;0;0m██\u001b[38;2;0;0;0m██\u001b[38;2;0;0;0m██\u001b[38;2;0;0;0m██\u001b[38;2;0;0;0m██\u001b[38;2;0;0;0m██\u001b[38;2;0;0;0m██\u001b[38;2;0;0;0m██\u001b[38;2;0;0;0m██\u001b[38;2;0;0;0m██\u001b[38;2;0;0;0m██\u001b[38;2;249;249;249m██\u001b[38;2;253;253;253m██\u001b[38;2;249;249;249m██\u001b[38;2;64;64;64m██\u001b[38;2;0;0;0m██\u001b[38;2;0;0;0m██\u001b[38;2;0;0;0m██\u001b[38;2;0;0;0m██\u001b[38;2;0;0;0m██\u001b[38;2;0;0;0m██\u001b[38;2;0;0;0m██\u001b[0m\n",
       "\u001b[0m\u001b[38;2;0;0;0m██\u001b[38;2;0;0;0m██\u001b[38;2;0;0;0m██\u001b[38;2;0;0;0m██\u001b[38;2;0;0;0m██\u001b[38;2;0;0;0m██\u001b[38;2;0;0;0m██\u001b[38;2;0;0;0m██\u001b[38;2;0;0;0m██\u001b[38;2;0;0;0m██\u001b[38;2;0;0;0m██\u001b[38;2;0;0;0m██\u001b[38;2;0;0;0m██\u001b[38;2;0;0;0m██\u001b[38;2;46;46;46m██\u001b[38;2;130;130;130m██\u001b[38;2;183;183;183m██\u001b[38;2;253;253;253m██\u001b[38;2;253;253;253m██\u001b[38;2;207;207;207m██\u001b[38;2;2;2;2m██\u001b[38;2;0;0;0m██\u001b[38;2;0;0;0m██\u001b[38;2;0;0;0m██\u001b[38;2;0;0;0m██\u001b[38;2;0;0;0m██\u001b[38;2;0;0;0m██\u001b[38;2;0;0;0m██\u001b[0m\n",
       "\u001b[0m\u001b[38;2;0;0;0m██\u001b[38;2;0;0;0m██\u001b[38;2;0;0;0m██\u001b[38;2;0;0;0m██\u001b[38;2;0;0;0m██\u001b[38;2;0;0;0m██\u001b[38;2;0;0;0m██\u001b[38;2;0;0;0m██\u001b[38;2;0;0;0m██\u001b[38;2;0;0;0m██\u001b[38;2;0;0;0m██\u001b[38;2;0;0;0m██\u001b[38;2;39;39;39m██\u001b[38;2;148;148;148m██\u001b[38;2;229;229;229m██\u001b[38;2;253;253;253m██\u001b[38;2;253;253;253m██\u001b[38;2;253;253;253m██\u001b[38;2;250;250;250m██\u001b[38;2;182;182;182m██\u001b[38;2;0;0;0m██\u001b[38;2;0;0;0m██\u001b[38;2;0;0;0m██\u001b[38;2;0;0;0m██\u001b[38;2;0;0;0m██\u001b[38;2;0;0;0m██\u001b[38;2;0;0;0m██\u001b[38;2;0;0;0m██\u001b[0m\n",
       "\u001b[0m\u001b[38;2;0;0;0m██\u001b[38;2;0;0;0m██\u001b[38;2;0;0;0m██\u001b[38;2;0;0;0m██\u001b[38;2;0;0;0m██\u001b[38;2;0;0;0m██\u001b[38;2;0;0;0m██\u001b[38;2;0;0;0m██\u001b[38;2;0;0;0m██\u001b[38;2;0;0;0m██\u001b[38;2;24;24;24m██\u001b[38;2;114;114;114m██\u001b[38;2;221;221;221m██\u001b[38;2;253;253;253m██\u001b[38;2;253;253;253m██\u001b[38;2;253;253;253m██\u001b[38;2;253;253;253m██\u001b[38;2;201;201;201m██\u001b[38;2;78;78;78m██\u001b[38;2;0;0;0m██\u001b[38;2;0;0;0m██\u001b[38;2;0;0;0m██\u001b[38;2;0;0;0m██\u001b[38;2;0;0;0m██\u001b[38;2;0;0;0m██\u001b[38;2;0;0;0m██\u001b[38;2;0;0;0m██\u001b[38;2;0;0;0m██\u001b[0m\n",
       "\u001b[0m\u001b[38;2;0;0;0m██\u001b[38;2;0;0;0m██\u001b[38;2;0;0;0m██\u001b[38;2;0;0;0m██\u001b[38;2;0;0;0m██\u001b[38;2;0;0;0m██\u001b[38;2;0;0;0m██\u001b[38;2;0;0;0m██\u001b[38;2;23;23;23m██\u001b[38;2;66;66;66m██\u001b[38;2;213;213;213m██\u001b[38;2;253;253;253m██\u001b[38;2;253;253;253m██\u001b[38;2;253;253;253m██\u001b[38;2;253;253;253m██\u001b[38;2;198;198;198m██\u001b[38;2;81;81;81m██\u001b[38;2;2;2;2m██\u001b[38;2;0;0;0m██\u001b[38;2;0;0;0m██\u001b[38;2;0;0;0m██\u001b[38;2;0;0;0m██\u001b[38;2;0;0;0m██\u001b[38;2;0;0;0m██\u001b[38;2;0;0;0m██\u001b[38;2;0;0;0m██\u001b[38;2;0;0;0m██\u001b[38;2;0;0;0m██\u001b[0m\n",
       "\u001b[0m\u001b[38;2;0;0;0m██\u001b[38;2;0;0;0m██\u001b[38;2;0;0;0m██\u001b[38;2;0;0;0m██\u001b[38;2;0;0;0m██\u001b[38;2;0;0;0m██\u001b[38;2;18;18;18m██\u001b[38;2;171;171;171m██\u001b[38;2;219;219;219m██\u001b[38;2;253;253;253m██\u001b[38;2;253;253;253m██\u001b[38;2;253;253;253m██\u001b[38;2;253;253;253m██\u001b[38;2;195;195;195m██\u001b[38;2;80;80;80m██\u001b[38;2;9;9;9m██\u001b[38;2;0;0;0m██\u001b[38;2;0;0;0m██\u001b[38;2;0;0;0m██\u001b[38;2;0;0;0m██\u001b[38;2;0;0;0m██\u001b[38;2;0;0;0m██\u001b[38;2;0;0;0m██\u001b[38;2;0;0;0m██\u001b[38;2;0;0;0m██\u001b[38;2;0;0;0m██\u001b[38;2;0;0;0m██\u001b[38;2;0;0;0m██\u001b[0m\n",
       "\u001b[0m\u001b[38;2;0;0;0m██\u001b[38;2;0;0;0m██\u001b[38;2;0;0;0m██\u001b[38;2;0;0;0m██\u001b[38;2;55;55;55m██\u001b[38;2;172;172;172m██\u001b[38;2;226;226;226m██\u001b[38;2;253;253;253m██\u001b[38;2;253;253;253m██\u001b[38;2;253;253;253m██\u001b[38;2;253;253;253m██\u001b[38;2;244;244;244m██\u001b[38;2;133;133;133m██\u001b[38;2;11;11;11m██\u001b[38;2;0;0;0m██\u001b[38;2;0;0;0m██\u001b[38;2;0;0;0m██\u001b[38;2;0;0;0m██\u001b[38;2;0;0;0m██\u001b[38;2;0;0;0m██\u001b[38;2;0;0;0m██\u001b[38;2;0;0;0m██\u001b[38;2;0;0;0m██\u001b[38;2;0;0;0m██\u001b[38;2;0;0;0m██\u001b[38;2;0;0;0m██\u001b[38;2;0;0;0m██\u001b[38;2;0;0;0m██\u001b[0m\n",
       "\u001b[0m\u001b[38;2;0;0;0m██\u001b[38;2;0;0;0m██\u001b[38;2;0;0;0m██\u001b[38;2;0;0;0m██\u001b[38;2;136;136;136m██\u001b[38;2;253;253;253m██\u001b[38;2;253;253;253m██\u001b[38;2;253;253;253m██\u001b[38;2;212;212;212m██\u001b[38;2;135;135;135m██\u001b[38;2;132;132;132m██\u001b[38;2;16;16;16m██\u001b[38;2;0;0;0m██\u001b[38;2;0;0;0m██\u001b[38;2;0;0;0m██\u001b[38;2;0;0;0m██\u001b[38;2;0;0;0m██\u001b[38;2;0;0;0m██\u001b[38;2;0;0;0m██\u001b[38;2;0;0;0m██\u001b[38;2;0;0;0m██\u001b[38;2;0;0;0m██\u001b[38;2;0;0;0m██\u001b[38;2;0;0;0m██\u001b[38;2;0;0;0m██\u001b[38;2;0;0;0m██\u001b[38;2;0;0;0m██\u001b[38;2;0;0;0m██\u001b[0m\n",
       "\u001b[0m\u001b[38;2;0;0;0m██\u001b[38;2;0;0;0m██\u001b[38;2;0;0;0m██\u001b[38;2;0;0;0m██\u001b[38;2;0;0;0m██\u001b[38;2;0;0;0m██\u001b[38;2;0;0;0m██\u001b[38;2;0;0;0m██\u001b[38;2;0;0;0m██\u001b[38;2;0;0;0m██\u001b[38;2;0;0;0m██\u001b[38;2;0;0;0m██\u001b[38;2;0;0;0m██\u001b[38;2;0;0;0m██\u001b[38;2;0;0;0m██\u001b[38;2;0;0;0m██\u001b[38;2;0;0;0m██\u001b[38;2;0;0;0m██\u001b[38;2;0;0;0m██\u001b[38;2;0;0;0m██\u001b[38;2;0;0;0m██\u001b[38;2;0;0;0m██\u001b[38;2;0;0;0m██\u001b[38;2;0;0;0m██\u001b[38;2;0;0;0m██\u001b[38;2;0;0;0m██\u001b[38;2;0;0;0m██\u001b[38;2;0;0;0m██\u001b[0m\n",
       "\u001b[0m\u001b[38;2;0;0;0m██\u001b[38;2;0;0;0m██\u001b[38;2;0;0;0m██\u001b[38;2;0;0;0m██\u001b[38;2;0;0;0m██\u001b[38;2;0;0;0m██\u001b[38;2;0;0;0m██\u001b[38;2;0;0;0m██\u001b[38;2;0;0;0m██\u001b[38;2;0;0;0m██\u001b[38;2;0;0;0m██\u001b[38;2;0;0;0m██\u001b[38;2;0;0;0m██\u001b[38;2;0;0;0m██\u001b[38;2;0;0;0m██\u001b[38;2;0;0;0m██\u001b[38;2;0;0;0m██\u001b[38;2;0;0;0m██\u001b[38;2;0;0;0m██\u001b[38;2;0;0;0m██\u001b[38;2;0;0;0m██\u001b[38;2;0;0;0m██\u001b[38;2;0;0;0m██\u001b[38;2;0;0;0m██\u001b[38;2;0;0;0m██\u001b[38;2;0;0;0m██\u001b[38;2;0;0;0m██\u001b[38;2;0;0;0m██\u001b[0m\n",
       "\u001b[0m\u001b[38;2;0;0;0m██\u001b[38;2;0;0;0m██\u001b[38;2;0;0;0m██\u001b[38;2;0;0;0m██\u001b[38;2;0;0;0m██\u001b[38;2;0;0;0m██\u001b[38;2;0;0;0m██\u001b[38;2;0;0;0m██\u001b[38;2;0;0;0m██\u001b[38;2;0;0;0m██\u001b[38;2;0;0;0m██\u001b[38;2;0;0;0m██\u001b[38;2;0;0;0m██\u001b[38;2;0;0;0m██\u001b[38;2;0;0;0m██\u001b[38;2;0;0;0m██\u001b[38;2;0;0;0m██\u001b[38;2;0;0;0m██\u001b[38;2;0;0;0m██\u001b[38;2;0;0;0m██\u001b[38;2;0;0;0m██\u001b[38;2;0;0;0m██\u001b[38;2;0;0;0m██\u001b[38;2;0;0;0m██\u001b[38;2;0;0;0m██\u001b[38;2;0;0;0m██\u001b[38;2;0;0;0m██\u001b[38;2;0;0;0m██\u001b[0m"
      ]
     },
     "execution_count": 4,
     "metadata": {},
     "output_type": "execute_result"
    }
   ],
   "source": [
    "convert2image(MNIST, train_x_raw[ : , : , 1 ] )"
   ]
  },
  {
   "cell_type": "markdown",
   "metadata": {},
   "source": [
    "## <span style=\"color:orange\"> Create a 'Scale' layer which takes in inputs and scales the values linearly </span>\n",
    "\n",
    "- Does not perform any transformations"
   ]
  },
  {
   "cell_type": "code",
   "execution_count": 5,
   "metadata": {},
   "outputs": [
    {
     "data": {
      "text/plain": [
       "Chain(\n",
       "  Dense(1 => 3),                        \u001b[90m# 6 parameters\u001b[39m\n",
       ") "
      ]
     },
     "execution_count": 5,
     "metadata": {},
     "output_type": "execute_result"
    }
   ],
   "source": [
    "m1 = Chain( Dense(1=>3) )"
   ]
  },
  {
   "cell_type": "code",
   "execution_count": 6,
   "metadata": {},
   "outputs": [
    {
     "data": {
      "text/plain": [
       "(:weight, :bias, :σ)"
      ]
     },
     "execution_count": 6,
     "metadata": {},
     "output_type": "execute_result"
    }
   ],
   "source": [
    "fieldnames(typeof(m1.layers[1]))"
   ]
  },
  {
   "cell_type": "code",
   "execution_count": 7,
   "metadata": {},
   "outputs": [
    {
     "data": {
      "text/plain": [
       "3×1 Matrix{Float32}:\n",
       " -0.6416058\n",
       "  0.86858386\n",
       "  0.4456598"
      ]
     },
     "execution_count": 7,
     "metadata": {},
     "output_type": "execute_result"
    }
   ],
   "source": [
    "m1.layers[1].weight"
   ]
  },
  {
   "cell_type": "code",
   "execution_count": 8,
   "metadata": {},
   "outputs": [
    {
     "data": {
      "text/plain": [
       "3-element Vector{Float32}:\n",
       " -0.6416058\n",
       "  0.86858386\n",
       "  0.4456598"
      ]
     },
     "execution_count": 8,
     "metadata": {},
     "output_type": "execute_result"
    }
   ],
   "source": [
    "m1( [1] ) #values returned / mapped "
   ]
  },
  {
   "cell_type": "code",
   "execution_count": 9,
   "metadata": {},
   "outputs": [
    {
     "data": {
      "text/plain": [
       "Scale(3)            \u001b[90m# 6 parameters\u001b[39m"
      ]
     },
     "execution_count": 9,
     "metadata": {},
     "output_type": "execute_result"
    }
   ],
   "source": [
    "m1s = Flux.Scale( [0.1, 10, 100] ) #scaling layer"
   ]
  },
  {
   "cell_type": "code",
   "execution_count": 10,
   "metadata": {},
   "outputs": [
    {
     "data": {
      "text/plain": [
       "Chain(\n",
       "  Chain(\n",
       "    Dense(1 => 3),                      \u001b[90m# 6 parameters\u001b[39m\n",
       "  ),\n",
       "  Scale(3),                             \u001b[90m# 6 parameters\u001b[39m\n",
       ") \u001b[90m                  # Total: 4 arrays, \u001b[39m12 parameters, 360 bytes."
      ]
     },
     "execution_count": 10,
     "metadata": {},
     "output_type": "execute_result"
    }
   ],
   "source": [
    "m1scaled = Chain( m1 , m1s )"
   ]
  },
  {
   "cell_type": "code",
   "execution_count": 11,
   "metadata": {},
   "outputs": [
    {
     "data": {
      "text/plain": [
       "3-element Vector{Float64}:\n",
       " -0.06416057944297791\n",
       "  8.68583858013153\n",
       " 44.56597864627838"
      ]
     },
     "execution_count": 11,
     "metadata": {},
     "output_type": "execute_result"
    }
   ],
   "source": [
    "m1scaled( [1] )"
   ]
  },
  {
   "cell_type": "code",
   "execution_count": 12,
   "metadata": {},
   "outputs": [
    {
     "data": {
      "text/plain": [
       "Scale(3)            \u001b[90m# 6 parameters\u001b[39m"
      ]
     },
     "execution_count": 12,
     "metadata": {},
     "output_type": "execute_result"
    }
   ],
   "source": [
    "m1s2 = Flux.Scale( repeat( [0.01] , 3 ) ) #scaling layer"
   ]
  },
  {
   "cell_type": "code",
   "execution_count": 13,
   "metadata": {},
   "outputs": [
    {
     "data": {
      "text/plain": [
       "Chain(\n",
       "  Chain(\n",
       "    Dense(1 => 3),                      \u001b[90m# 6 parameters\u001b[39m\n",
       "  ),\n",
       "  Scale(3),                             \u001b[90m# 6 parameters\u001b[39m\n",
       ") \u001b[90m                  # Total: 4 arrays, \u001b[39m12 parameters, 360 bytes."
      ]
     },
     "execution_count": 13,
     "metadata": {},
     "output_type": "execute_result"
    }
   ],
   "source": [
    "m1scaled2 = Chain( m1 , m1s2 )"
   ]
  },
  {
   "cell_type": "code",
   "execution_count": 14,
   "metadata": {},
   "outputs": [
    {
     "data": {
      "text/plain": [
       "3-element Vector{Float64}:\n",
       " -0.00641605794429779\n",
       "  0.008685838580131531\n",
       "  0.004456597864627839"
      ]
     },
     "execution_count": 14,
     "metadata": {},
     "output_type": "execute_result"
    }
   ],
   "source": [
    "m1scaled2( [1] )"
   ]
  },
  {
   "cell_type": "code",
   "execution_count": 15,
   "metadata": {},
   "outputs": [
    {
     "data": {
      "text/plain": [
       "Scale(3)            \u001b[90m# 6 parameters\u001b[39m"
      ]
     },
     "execution_count": 15,
     "metadata": {},
     "output_type": "execute_result"
    }
   ],
   "source": [
    "m1s3 = Flux.Scale( [1,0,1] ) #scaling layer which operates as a removing a neuron (dimension) component"
   ]
  },
  {
   "cell_type": "code",
   "execution_count": 16,
   "metadata": {},
   "outputs": [
    {
     "data": {
      "text/plain": [
       "Chain(\n",
       "  Chain(\n",
       "    Dense(1 => 3),                      \u001b[90m# 6 parameters\u001b[39m\n",
       "  ),\n",
       "  Scale(3),                             \u001b[90m# 6 parameters\u001b[39m\n",
       ") \u001b[90m                  # Total: 4 arrays, \u001b[39m12 parameters, 360 bytes."
      ]
     },
     "execution_count": 16,
     "metadata": {},
     "output_type": "execute_result"
    }
   ],
   "source": [
    "m1scaled3 = Chain( m1 , m1s3 )"
   ]
  },
  {
   "cell_type": "code",
   "execution_count": 17,
   "metadata": {},
   "outputs": [
    {
     "data": {
      "text/plain": [
       "3-element Vector{Float32}:\n",
       " -0.6416058\n",
       "  0.0\n",
       "  0.4456598"
      ]
     },
     "execution_count": 17,
     "metadata": {},
     "output_type": "execute_result"
    }
   ],
   "source": [
    "m1scaled3( [1] )"
   ]
  },
  {
   "cell_type": "code",
   "execution_count": null,
   "metadata": {},
   "outputs": [],
   "source": []
  },
  {
   "cell_type": "code",
   "execution_count": null,
   "metadata": {},
   "outputs": [],
   "source": []
  },
  {
   "cell_type": "code",
   "execution_count": null,
   "metadata": {},
   "outputs": [],
   "source": []
  },
  {
   "cell_type": "markdown",
   "metadata": {},
   "source": [
    "## <span style=\"color:orange\"> Convolution Models </span>\n",
    "\n",
    "- Images (2D data) fed into CNN layers require the <u>W-H-C-N</u> order, which is Width-Height-ChannelNum-BatchSize. Eg if we have images width=28, height=28, 3 channels (R-G-B) and there are 100 of these images in the batch, the size of that data structure fed to the CNN layer is (28,28,3,100). If the images were monochromatic (gray scale) then the size would be (28,28,1,100). \n",
    "- Data can be 1D, for 1D convolutions, on time series or mono audio data, so that the format becomes W-C-N, eg. if we have 100 audio samples in one channel (mono) and each sample has 250 dimensions the size is, (250,1,1). If the data was stereo (2 channel) then the size would be (250,2,1)\n",
    "- If the data was 3D (like data from a magnetic scan), it could look like this (28,28,28,1,100) where the last 2 dimensions are the channel number and batch size. \n",
    "- The Convolutional (CNN) layer takes in a <u>filter size</u> to scan over the data.\n",
    "- The Convolutional (CNN) layer takes in the <u>channel size mapping</u>, which does a transformation from the input channel number to the output channel number. \n",
    "- Key parameter values are <u>stride</u>, <u>padding</u>, <u>dilation</u>\n",
    "- Padding specifies the number of pixels (elements) placed on the borders (boundaries of the data in each dimension). A single value (integer) for uniform padding around the data array, or if there 3 spatial dimensions a tuple of 3 integers is needed to specify the padding if not uniform. You can supply a 2x3 = 6 dimension tuple to padding to specify the padding for each boundary specifically. **note padding will change the size of the image after the application of the cnn filter**\n",
    "- <u>SamePad()</u> is a useful utility function so that it applies the necessary padding in order for the data dimensions to stay the same after the cnn filter application; that is a 28x28 image with SamePad() applied will still become 28x28 after exiting that layer and becoming input into the subsequent layer.\n",
    "\n",
    "\n",
    "#### convolution gifs from [ Vincent Dumoulin, Francesco Visin - A guide to convolution arithmetic for deep learning]"
   ]
  },
  {
   "cell_type": "markdown",
   "metadata": {},
   "source": [
    "### <span style=\"color:orange\"> No padding, no strides </span>\n",
    "\n",
    "![image info](./demoPics/no_padding_no_strides.gif)"
   ]
  },
  {
   "cell_type": "code",
   "execution_count": 18,
   "metadata": {},
   "outputs": [
    {
     "data": {
      "text/plain": [
       "(100, 100, 1, 10)"
      ]
     },
     "execution_count": 18,
     "metadata": {},
     "output_type": "execute_result"
    }
   ],
   "source": [
    "x = rand(Float32, 100, 100, 1, 10); #batch of monochrome images\n",
    "size( x )"
   ]
  },
  {
   "cell_type": "code",
   "execution_count": 19,
   "metadata": {},
   "outputs": [
    {
     "data": {
      "text/plain": [
       "Conv((5, 5), 1 => 1)  \u001b[90m# 26 parameters\u001b[39m"
      ]
     },
     "execution_count": 19,
     "metadata": {},
     "output_type": "execute_result"
    }
   ],
   "source": [
    "cnn_layer = Conv( (5,5) , 1 => 1 )"
   ]
  },
  {
   "cell_type": "code",
   "execution_count": 20,
   "metadata": {},
   "outputs": [
    {
     "data": {
      "text/plain": [
       "(96, 96, 1, 10)"
      ]
     },
     "execution_count": 20,
     "metadata": {},
     "output_type": "execute_result"
    }
   ],
   "source": [
    "cnn_output = cnn_layer(x)\n",
    "size( cnn_output )"
   ]
  },
  {
   "cell_type": "code",
   "execution_count": 21,
   "metadata": {},
   "outputs": [
    {
     "data": {
      "text/plain": [
       "false"
      ]
     },
     "execution_count": 21,
     "metadata": {},
     "output_type": "execute_result"
    }
   ],
   "source": [
    "size( x ) == size( cnn_output )"
   ]
  },
  {
   "cell_type": "code",
   "execution_count": 22,
   "metadata": {},
   "outputs": [
    {
     "data": {
      "image/png": "[encoded data removed]",
      "text/html": [
       "<img src=\"data:image/png;base64,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\">"
      ],
      "text/plain": [
       "\u001b[0m\u001b[38;2;28;28;28;48;2;52;52;52m▀\u001b[38;2;65;65;65;48;2;86;86;86m▀\u001b[38;2;49;49;49;48;2;89;89;89m▀\u001b[38;2;40;40;40;48;2;88;88;88m▀\u001b[38;2;66;66;66;48;2;104;104;104m▀\u001b[38;2;33;33;33;48;2;82;82;82m▀\u001b[38;2;46;46;46;48;2;100;100;100m▀\u001b[38;2;59;59;59;48;2;102;102;102m▀\u001b[38;2;35;35;35;48;2;95;95;95m▀\u001b[38;2;55;55;55;48;2;85;85;85m▀\u001b[38;2;44;44;44;48;2;119;119;119m▀\u001b[38;2;38;38;38;48;2;83;83;83m▀\u001b[38;2;27;27;27;48;2;68;68;68m▀\u001b[38;2;45;45;45;48;2;100;100;100m▀\u001b[38;2;36;36;36;48;2;103;103;103m▀\u001b[38;2;41;41;41;48;2;73;73;73m▀\u001b[38;2;31;31;31;48;2;75;75;75m▀\u001b[38;2;63;63;63;48;2;113;113;113m▀\u001b[38;2;39;39;39;48;2;101;101;101m▀\u001b[38;2;27;27;27;48;2;55;55;55m▀\u001b[38;2;30;30;30;48;2;82;82;82m▀\u001b[38;2;26;26;26;48;2;81;81;81m▀\u001b[38;2;15;15;15;48;2;85;85;85m▀\u001b[38;2;35;35;35;48;2;101;101;101m▀\u001b[38;2;42;42;42;48;2;98;98;98m▀\u001b[38;2;39;39;39;48;2;95;95;95m▀\u001b[38;2;41;41;41;48;2;93;93;93m▀\u001b[38;2;50;50;50;48;2;75;75;75m▀\u001b[38;2;40;40;40;48;2;79;79;79m▀\u001b[38;2;50;50;50;48;2;75;75;75m▀\u001b[38;2;49;49;49;48;2;99;99;99m▀\u001b[38;2;66;66;66;48;2;77;77;77m▀\u001b[38;2;52;52;52;48;2;63;63;63m▀\u001b[38;2;43;43;43;48;2;56;56;56m▀\u001b[38;2;46;46;46;48;2;99;99;99m▀\u001b[38;2;26;26;26;48;2;54;54;54m▀\u001b[38;2;60;60;60;48;2;106;106;106m▀\u001b[38;2;58;58;58;48;2;126;126;126m▀\u001b[38;2;53;53;53;48;2;83;83;83m▀\u001b[38;2;41;41;41;48;2;79;79;79m▀\u001b[38;2;43;43;43;48;2;92;92;92m▀\u001b[38;2;39;39;39;48;2;71;71;71m▀\u001b[38;2;53;53;53;48;2;91;91;91m▀\u001b[38;2;62;62;62;48;2;106;106;106m▀\u001b[38;2;32;32;32;48;2;72;72;72m▀\u001b[38;2;35;35;35;48;2;48;48;48m▀\u001b[38;2;50;50;50;48;2;87;87;87m▀\u001b[38;2;28;28;28;48;2;72;72;72m▀\u001b[38;2;2;2;2;48;2;25;25;25m▀\u001b[0m\n",
       "\u001b[0m\u001b[38;2;51;51;51;48;2;54;54;54m▀\u001b[38;2;79;79;79;48;2;99;99;99m▀\u001b[38;2;73;73;73;48;2;83;83;83m▀\u001b[38;2;99;99;99;48;2;71;71;71m▀\u001b[38;2;104;104;104;48;2;93;93;93m▀\u001b[38;2;113;113;113;48;2;98;98;98m▀\u001b[38;2;111;111;111;48;2;103;103;103m▀\u001b[38;2;84;84;84;48;2;67;67;67m▀\u001b[38;2;104;104;104;48;2;77;77;77m▀\u001b[38;2;72;72;72;48;2;86;86;86m▀\u001b[38;2;122;122;122;48;2;108;108;108m▀\u001b[38;2;123;123;123;48;2;103;103;103m▀\u001b[38;2;55;55;55;48;2;56;56;56m▀\u001b[38;2;68;68;68;48;2;75;75;75m▀\u001b[38;2;101;101;101;48;2;89;89;89m▀\u001b[38;2;79;79;79;48;2;103;103;103m▀\u001b[38;2;79;79;79;48;2;104;104;104m▀\u001b[38;2;109;109;109;48;2;99;99;99m▀\u001b[38;2;81;81;81;48;2;66;66;66m▀\u001b[38;2;77;77;77;48;2;70;70;70m▀\u001b[38;2;92;92;92;48;2;84;84;84m▀\u001b[38;2;89;89;89;48;2;115;115;115m▀\u001b[38;2;46;46;46;48;2;72;72;72m▀\u001b[38;2;85;85;85;48;2;69;69;69m▀\u001b[38;2;75;75;75;48;2;53;53;53m▀\u001b[38;2;112;112;112;48;2;82;82;82m▀\u001b[38;2;111;111;111;48;2;113;113;113m▀\u001b[38;2;58;58;58;48;2;43;43;43m▀\u001b[38;2;77;77;77;48;2;88;88;88m▀\u001b[38;2;97;97;97;48;2;105;105;105m▀\u001b[38;2;103;103;103;48;2;97;97;97m▀\u001b[38;2;108;108;108;48;2;88;88;88m▀\u001b[38;2;82;82;82;48;2;86;86;86m▀\u001b[38;2;62;62;62;48;2;50;50;50m▀\u001b[38;2;92;92;92;48;2;72;72;72m▀\u001b[38;2;71;71;71;48;2;112;112;112m▀\u001b[38;2;77;77;77;48;2;80;80;80m▀\u001b[38;2;139;139;139;48;2;100;100;100m▀\u001b[38;2;109;109;109;48;2;131;131;131m▀\u001b[38;2;80;80;80;48;2;93;93;93m▀\u001b[38;2;95;95;95;48;2;101;101;101m▀\u001b[38;2;86;86;86;48;2;118;118;118m▀\u001b[38;2;99;99;99;48;2;43;43;43m▀\u001b[38;2;150;150;150;48;2;112;112;112m▀\u001b[38;2;117;117;117;48;2;110;110;110m▀\u001b[38;2;73;73;73;48;2;64;64;64m▀\u001b[38;2;82;82;82;48;2;74;74;74m▀\u001b[38;2;103;103;103;48;2;89;89;89m▀\u001b[38;2;34;34;34;48;2;64;64;64m▀\u001b[0m\n",
       "\u001b[0m\u001b[38;2;52;52;52;48;2;30;30;30m▀\u001b[38;2;81;81;81;48;2;97;97;97m▀\u001b[38;2;113;113;113;48;2;93;93;93m▀\u001b[38;2;97;97;97;48;2;114;114;114m▀\u001b[38;2;101;101;101;48;2;67;67;67m▀\u001b[38;2;100;100;100;48;2;71;71;71m▀\u001b[38;2;112;112;112;48;2;107;107;107m▀\u001b[38;2;82;82;82;48;2;92;92;92m▀\u001b[38;2;100;100;100;48;2;73;73;73m▀\u001b[38;2;101;101;101;48;2;69;69;69m▀\u001b[38;2;101;101;101;48;2;80;80;80m▀\u001b[38;2;122;122;122;48;2;101;101;101m▀\u001b[38;2;79;79;79;48;2;72;72;72m▀\u001b[38;2;118;118;118;48;2;80;80;80m▀\u001b[38;2;91;91;91;48;2;105;105;105m▀\u001b[38;2;54;54;54;48;2;50;50;50m▀\u001b[38;2;100;100;100;48;2;80;80;80m▀\u001b[38;2;118;118;118;48;2;111;111;111m▀\u001b[38;2;75;75;75;48;2;101;101;101m▀\u001b[38;2;68;68;68;48;2;42;42;42m▀\u001b[38;2;111;111;111;48;2;113;113;113m▀\u001b[38;2;99;99;99;48;2;101;101;101m▀\u001b[38;2;113;113;113;48;2;113;113;113m▀\u001b[38;2;50;50;50;48;2;95;95;95m▀\u001b[38;2;70;70;70;48;2;60;60;60m▀\u001b[38;2;87;87;87;48;2;56;56;56m▀\u001b[38;2;109;109;109;48;2;70;70;70m▀\u001b[38;2;65;65;65;48;2;74;74;74m▀\u001b[38;2;76;76;76;48;2;78;78;78m▀\u001b[38;2;121;121;121;48;2;112;112;112m▀\u001b[38;2;100;100;100;48;2;79;79;79m▀\u001b[38;2;97;97;97;48;2;32;32;32m▀\u001b[38;2;127;127;127;48;2;108;108;108m▀\u001b[38;2;87;87;87;48;2;77;77;77m▀\u001b[38;2;69;69;69;48;2;62;62;62m▀\u001b[38;2;93;93;93;48;2;89;89;89m▀\u001b[38;2;83;83;83;48;2;110;110;110m▀\u001b[38;2;82;82;82;48;2;110;110;110m▀\u001b[38;2;84;84;84;48;2;109;109;109m▀\u001b[38;2;86;86;86;48;2;71;71;71m▀\u001b[38;2;82;82;82;48;2;99;99;99m▀\u001b[38;2;110;110;110;48;2;117;117;117m▀\u001b[38;2;71;71;71;48;2;61;61;61m▀\u001b[38;2;85;85;85;48;2;53;53;53m▀\u001b[38;2;143;143;143;48;2;90;90;90m▀\u001b[38;2;97;97;97;48;2;72;72;72m▀\u001b[38;2;79;79;79;48;2;104;104;104m▀\u001b[38;2;110;110;110;48;2;97;97;97m▀\u001b[38;2;33;33;33;48;2;35;35;35m▀\u001b[0m\n",
       "\u001b[0m\u001b[38;2;49;49;49;48;2;41;41;41m▀\u001b[38;2;104;104;104;48;2;81;81;81m▀\u001b[38;2;106;106;106;48;2;98;98;98m▀\u001b[38;2;91;91;91;48;2;68;68;68m▀\u001b[38;2;89;89;89;48;2;106;106;106m▀\u001b[38;2;62;62;62;48;2;107;107;107m▀\u001b[38;2;95;95;95;48;2;55;55;55m▀\u001b[38;2;118;118;118;48;2;91;91;91m▀\u001b[38;2;100;100;100;48;2;114;114;114m▀\u001b[38;2;101;101;101;48;2;91;91;91m▀\u001b[38;2;78;78;78;48;2;62;62;62m▀\u001b[38;2;92;92;92;48;2;58;58;58m▀\u001b[38;2;95;95;95;48;2;103;103;103m▀\u001b[38;2;83;83;83;48;2;89;89;89m▀\u001b[38;2;95;95;95;48;2;86;86;86m▀\u001b[38;2;70;70;70;48;2;70;70;70m▀\u001b[38;2;51;51;51;48;2;85;85;85m▀\u001b[38;2;82;82;82;48;2;82;82;82m▀\u001b[38;2;86;86;86;48;2;61;61;61m▀\u001b[38;2;91;91;91;48;2;86;86;86m▀\u001b[38;2;92;92;92;48;2;86;86;86m▀\u001b[38;2;127;127;127;48;2;107;107;107m▀\u001b[38;2;99;99;99;48;2;114;114;114m▀\u001b[38;2;71;71;71;48;2;71;71;71m▀\u001b[38;2;70;70;70;48;2;45;45;45m▀\u001b[38;2;89;89;89;48;2;88;88;88m▀\u001b[38;2;80;80;80;48;2;84;84;84m▀\u001b[38;2;95;95;95;48;2;65;65;65m▀\u001b[38;2;85;85;85;48;2;115;115;115m▀\u001b[38;2;81;81;81;48;2;76;76;76m▀\u001b[38;2;79;79;79;48;2;65;65;65m▀\u001b[38;2;47;47;47;48;2;53;53;53m▀\u001b[38;2;123;123;123;48;2;90;90;90m▀\u001b[38;2;99;99;99;48;2;82;82;82m▀\u001b[38;2;60;60;60;48;2;52;52;52m▀\u001b[38;2;95;95;95;48;2;60;60;60m▀\u001b[38;2;102;102;102;48;2;97;97;97m▀\u001b[38;2;70;70;70;48;2;91;91;91m▀\u001b[38;2;106;106;106;48;2;102;102;102m▀\u001b[38;2;64;64;64;48;2;82;82;82m▀\u001b[38;2;74;74;74;48;2;78;78;78m▀\u001b[38;2;126;126;126;48;2;123;123;123m▀\u001b[38;2;74;74;74;48;2;89;89;89m▀\u001b[38;2;55;55;55;48;2;47;47;47m▀\u001b[38;2;80;80;80;48;2;81;81;81m▀\u001b[38;2;80;80;80;48;2;82;82;82m▀\u001b[38;2;105;105;105;48;2;122;122;122m▀\u001b[38;2;121;121;121;48;2;82;82;82m▀\u001b[38;2;54;54;54;48;2;35;35;35m▀\u001b[0m\n",
       "\u001b[0m\u001b[38;2;29;29;29;48;2;39;39;39m▀\u001b[38;2;86;86;86;48;2;75;75;75m▀\u001b[38;2;116;116;116;48;2;98;98;98m▀\u001b[38;2;79;79;79;48;2;109;109;109m▀\u001b[38;2;92;92;92;48;2;90;90;90m▀\u001b[38;2;98;98;98;48;2;103;103;103m▀\u001b[38;2;62;62;62;48;2;70;70;70m▀\u001b[38;2;66;66;66;48;2;65;65;65m▀\u001b[38;2;114;114;114;48;2;73;73;73m▀\u001b[38;2;127;127;127;48;2;119;119;119m▀\u001b[38;2;80;80;80;48;2;109;109;109m▀\u001b[38;2;83;83;83;48;2;62;62;62m▀\u001b[38;2;119;119;119;48;2;80;80;80m▀\u001b[38;2;91;91;91;48;2;91;91;91m▀\u001b[38;2;70;70;70;48;2;97;97;97m▀\u001b[38;2;95;95;95;48;2;73;73;73m▀\u001b[38;2;89;89;89;48;2;97;97;97m▀\u001b[38;2;77;77;77;48;2;79;79;79m▀\u001b[38;2;70;70;70;48;2;74;74;74m▀\u001b[38;2;95;95;95;48;2;103;103;103m▀\u001b[38;2;105;105;105;48;2;77;77;77m▀\u001b[38;2;91;91;91;48;2;67;67;67m▀\u001b[38;2;115;115;115;48;2;121;121;121m▀\u001b[38;2;78;78;78;48;2;107;107;107m▀\u001b[38;2;79;79;79;48;2;77;77;77m▀\u001b[38;2;76;76;76;48;2;80;80;80m▀\u001b[38;2;117;117;117;48;2;99;99;99m▀\u001b[38;2;76;76;76;48;2;96;96;96m▀\u001b[38;2;88;88;88;48;2;90;90;90m▀\u001b[38;2;80;80;80;48;2;88;88;88m▀\u001b[38;2;66;66;66;48;2;80;80;80m▀\u001b[38;2;86;86;86;48;2;102;102;102m▀\u001b[38;2;123;123;123;48;2;85;85;85m▀\u001b[38;2;119;119;119;48;2;81;81;81m▀\u001b[38;2;102;102;102;48;2;98;98;98m▀\u001b[38;2;63;63;63;48;2;60;60;60m▀\u001b[38;2;89;89;89;48;2;47;47;47m▀\u001b[38;2;84;84;84;48;2;117;117;117m▀\u001b[38;2;51;51;51;48;2;78;78;78m▀\u001b[38;2;94;94;94;48;2;63;63;63m▀\u001b[38;2;86;86;86;48;2;108;108;108m▀\u001b[38;2;142;142;142;48;2;83;83;83m▀\u001b[38;2;122;122;122;48;2;92;92;92m▀\u001b[38;2;73;73;73;48;2;61;61;61m▀\u001b[38;2;91;91;91;48;2;101;101;101m▀\u001b[38;2;61;61;61;48;2;84;84;84m▀\u001b[38;2;126;126;126;48;2;90;90;90m▀\u001b[38;2;126;126;126;48;2;104;104;104m▀\u001b[38;2;50;50;50;48;2;47;47;47m▀\u001b[0m\n",
       "\u001b[0m\u001b[38;2;47;47;47;48;2;49;49;49m▀\u001b[38;2;80;80;80;48;2;81;81;81m▀\u001b[38;2;72;72;72;48;2;67;67;67m▀\u001b[38;2;92;92;92;48;2;60;60;60m▀\u001b[38;2;108;108;108;48;2;109;109;109m▀\u001b[38;2;68;68;68;48;2;86;86;86m▀\u001b[38;2;93;93;93;48;2;86;86;86m▀\u001b[38;2;78;78;78;48;2;78;78;78m▀\u001b[38;2;96;96;96;48;2;83;83;83m▀\u001b[38;2;100;100;100;48;2;117;117;117m▀\u001b[38;2;125;125;125;48;2;119;119;119m▀\u001b[38;2;88;88;88;48;2;97;97;97m▀\u001b[38;2;95;95;95;48;2;65;65;65m▀\u001b[38;2;68;68;68;48;2;53;53;53m▀\u001b[38;2;111;111;111;48;2;105;105;105m▀\u001b[38;2;105;105;105;48;2;119;119;119m▀\u001b[38;2;77;77;77;48;2;101;101;101m▀\u001b[38;2;83;83;83;48;2;81;81;81m▀\u001b[38;2;45;45;45;48;2;47;47;47m▀\u001b[38;2;99;99;99;48;2;75;75;75m▀\u001b[38;2;98;98;98;48;2;120;120;120m▀\u001b[38;2;82;82;82;48;2;70;70;70m▀\u001b[38;2;85;85;85;48;2;65;65;65m▀\u001b[38;2;97;97;97;48;2;93;93;93m▀\u001b[38;2;82;82;82;48;2;95;95;95m▀\u001b[38;2;90;90;90;48;2;125;125;125m▀\u001b[38;2;75;75;75;48;2;91;91;91m▀\u001b[38;2;99;99;99;48;2;94;94;94m▀\u001b[38;2;106;106;106;48;2;112;112;112m▀\u001b[38;2;71;71;71;48;2;73;73;73m▀\u001b[38;2;90;90;90;48;2;75;75;75m▀\u001b[38;2;112;112;112;48;2;121;121;121m▀\u001b[38;2;137;137;137;48;2;127;127;127m▀\u001b[38;2;91;91;91;48;2;101;101;101m▀\u001b[38;2;89;89;89;48;2;74;74;74m▀\u001b[38;2;83;83;83;48;2;76;76;76m▀\u001b[38;2;59;59;59;48;2;74;74;74m▀\u001b[38;2;113;113;113;48;2;78;78;78m▀\u001b[38;2;87;87;87;48;2;113;113;113m▀\u001b[38;2;55;55;55;48;2;72;72;72m▀\u001b[38;2;113;113;113;48;2;102;102;102m▀\u001b[38;2;88;88;88;48;2;95;95;95m▀\u001b[38;2;95;95;95;48;2;61;61;61m▀\u001b[38;2;80;80;80;48;2;89;89;89m▀\u001b[38;2;93;93;93;48;2;76;76;76m▀\u001b[38;2;118;118;118;48;2;68;68;68m▀\u001b[38;2;123;123;123;48;2;101;101;101m▀\u001b[38;2;128;128;128;48;2;97;97;97m▀\u001b[38;2;51;51;51;48;2;45;45;45m▀\u001b[0m\n",
       "\u001b[0m\u001b[38;2;59;59;59;48;2;42;42;42m▀\u001b[38;2;94;94;94;48;2;100;100;100m▀\u001b[38;2;83;83;83;48;2;89;89;89m▀\u001b[38;2;71;71;71;48;2;79;79;79m▀\u001b[38;2;80;80;80;48;2;64;64;64m▀\u001b[38;2;91;91;91;48;2;106;106;106m▀\u001b[38;2;89;89;89;48;2;140;140;140m▀\u001b[38;2;93;93;93;48;2;110;110;110m▀\u001b[38;2;102;102;102;48;2;101;101;101m▀\u001b[38;2;118;118;118;48;2;115;115;115m▀\u001b[38;2;110;110;110;48;2;100;100;100m▀\u001b[38;2;103;103;103;48;2;88;88;88m▀\u001b[38;2;94;94;94;48;2;61;61;61m▀\u001b[38;2;55;55;55;48;2;47;47;47m▀\u001b[38;2;93;93;93;48;2;70;70;70m▀\u001b[38;2;119;119;119;48;2;88;88;88m▀\u001b[38;2;93;93;93;48;2;118;118;118m▀\u001b[38;2;77;77;77;48;2;88;88;88m▀\u001b[38;2;61;61;61;48;2;67;67;67m▀\u001b[38;2;69;69;69;48;2;100;100;100m▀\u001b[38;2;106;106;106;48;2;88;88;88m▀\u001b[38;2;89;89;89;48;2;81;81;81m▀\u001b[38;2;78;78;78;48;2;59;59;59m▀\u001b[38;2;104;104;104;48;2;103;103;103m▀\u001b[38;2;86;86;86;48;2;88;88;88m▀\u001b[38;2;100;100;100;48;2;79;79;79m▀\u001b[38;2;96;96;96;48;2;89;89;89m▀\u001b[38;2;83;83;83;48;2;88;88;88m▀\u001b[38;2;101;101;101;48;2;119;119;119m▀\u001b[38;2;78;78;78;48;2;100;100;100m▀\u001b[38;2;89;89;89;48;2;94;94;94m▀\u001b[38;2;98;98;98;48;2;96;96;96m▀\u001b[38;2;123;123;123;48;2;127;127;127m▀\u001b[38;2;81;81;81;48;2;102;102;102m▀\u001b[38;2;91;91;91;48;2;47;47;47m▀\u001b[38;2;89;89;89;48;2;76;76;76m▀\u001b[38;2;85;85;85;48;2;70;70;70m▀\u001b[38;2;92;92;92;48;2;80;80;80m▀\u001b[38;2;96;96;96;48;2;101;101;101m▀\u001b[38;2;79;79;79;48;2;65;65;65m▀\u001b[38;2;67;67;67;48;2;63;63;63m▀\u001b[38;2;105;105;105;48;2;63;63;63m▀\u001b[38;2;83;83;83;48;2;97;97;97m▀\u001b[38;2;113;113;113;48;2;61;61;61m▀\u001b[38;2;100;100;100;48;2;77;77;77m▀\u001b[38;2;75;75;75;48;2;82;82;82m▀\u001b[38;2;64;64;64;48;2;62;62;62m▀\u001b[38;2;113;113;113;48;2;79;79;79m▀\u001b[38;2;49;49;49;48;2;34;34;34m▀\u001b[0m\n",
       "\u001b[0m\u001b[38;2;30;30;30;48;2;41;41;41m▀\u001b[38;2;91;91;91;48;2;91;91;91m▀\u001b[38;2;101;101;101;48;2;88;88;88m▀\u001b[38;2;88;88;88;48;2;106;106;106m▀\u001b[38;2;62;62;62;48;2;86;86;86m▀\u001b[38;2;90;90;90;48;2;73;73;73m▀\u001b[38;2;128;128;128;48;2;124;124;124m▀\u001b[38;2;105;105;105;48;2;101;101;101m▀\u001b[38;2;84;84;84;48;2;88;88;88m▀\u001b[38;2;109;109;109;48;2;83;83;83m▀\u001b[38;2;105;105;105;48;2;125;125;125m▀\u001b[38;2;90;90;90;48;2;92;92;92m▀\u001b[38;2;75;75;75;48;2;77;77;77m▀\u001b[38;2;70;70;70;48;2;68;68;68m▀\u001b[38;2;91;91;91;48;2;76;76;76m▀\u001b[38;2;91;91;91;48;2;56;56;56m▀\u001b[38;2;117;117;117;48;2;90;90;90m▀\u001b[38;2;91;91;91;48;2;87;87;87m▀\u001b[38;2;104;104;104;48;2;113;113;113m▀\u001b[38;2;100;100;100;48;2;138;138;138m▀\u001b[38;2;106;106;106;48;2;79;79;79m▀\u001b[38;2;75;75;75;48;2;79;79;79m▀\u001b[38;2;59;59;59;48;2;70;70;70m▀\u001b[38;2;91;91;91;48;2;76;76;76m▀\u001b[38;2;134;134;134;48;2;121;121;121m▀\u001b[38;2;102;102;102;48;2;122;122;122m▀\u001b[38;2;86;86;86;48;2;88;88;88m▀\u001b[38;2;85;85;85;48;2;61;61;61m▀\u001b[38;2;92;92;92;48;2;73;73;73m▀\u001b[38;2;72;72;72;48;2;97;97;97m▀\u001b[38;2;76;76;76;48;2;75;75;75m▀\u001b[38;2;107;107;107;48;2;105;105;105m▀\u001b[38;2;88;88;88;48;2;105;105;105m▀\u001b[38;2;113;113;113;48;2;121;121;121m▀\u001b[38;2;76;76;76;48;2;86;86;86m▀\u001b[38;2;99;99;99;48;2;84;84;84m▀\u001b[38;2;111;111;111;48;2;110;110;110m▀\u001b[38;2;69;69;69;48;2;64;64;64m▀\u001b[38;2;93;93;93;48;2;64;64;64m▀\u001b[38;2;119;119;119;48;2;95;95;95m▀\u001b[38;2;82;82;82;48;2;84;84;84m▀\u001b[38;2;63;63;63;48;2;79;79;79m▀\u001b[38;2;88;88;88;48;2;67;67;67m▀\u001b[38;2;88;88;88;48;2;89;89;89m▀\u001b[38;2;83;83;83;48;2;59;59;59m▀\u001b[38;2;108;108;108;48;2;92;92;92m▀\u001b[38;2;97;97;97;48;2;103;103;103m▀\u001b[38;2;89;89;89;48;2;85;85;85m▀\u001b[38;2;38;38;38;48;2;52;52;52m▀\u001b[0m\n",
       "\u001b[0m\u001b[38;2;63;63;63;48;2;29;29;29m▀\u001b[38;2;81;81;81;48;2;91;91;91m▀\u001b[38;2;106;106;106;48;2;116;116;116m▀\u001b[38;2;113;113;113;48;2;111;111;111m▀\u001b[38;2;94;94;94;48;2;95;95;95m▀\u001b[38;2;88;88;88;48;2;76;76;76m▀\u001b[38;2;114;114;114;48;2;121;121;121m▀\u001b[38;2;81;81;81;48;2;106;106;106m▀\u001b[38;2;66;66;66;48;2;62;62;62m▀\u001b[38;2;82;82;82;48;2;79;79;79m▀\u001b[38;2;84;84;84;48;2;98;98;98m▀\u001b[38;2;53;53;53;48;2;79;79;79m▀\u001b[38;2;70;70;70;48;2;85;85;85m▀\u001b[38;2;86;86;86;48;2;102;102;102m▀\u001b[38;2;92;92;92;48;2;86;86;86m▀\u001b[38;2;53;53;53;48;2;47;47;47m▀\u001b[38;2;98;98;98;48;2;83;83;83m▀\u001b[38;2;79;79;79;48;2;81;81;81m▀\u001b[38;2;96;96;96;48;2;83;83;83m▀\u001b[38;2;141;141;141;48;2;129;129;129m▀\u001b[38;2;90;90;90;48;2;91;91;91m▀\u001b[38;2;109;109;109;48;2;102;102;102m▀\u001b[38;2;78;78;78;48;2;87;87;87m▀\u001b[38;2;84;84;84;48;2;69;69;69m▀\u001b[38;2;100;100;100;48;2;97;97;97m▀\u001b[38;2;107;107;107;48;2;97;97;97m▀\u001b[38;2;88;88;88;48;2;102;102;102m▀\u001b[38;2;83;83;83;48;2;102;102;102m▀\u001b[38;2;76;76;76;48;2;90;90;90m▀\u001b[38;2;99;99;99;48;2;76;76;76m▀\u001b[38;2;99;99;99;48;2;79;79;79m▀\u001b[38;2;90;90;90;48;2;106;106;106m▀\u001b[38;2;105;105;105;48;2;121;121;121m▀\u001b[38;2;91;91;91;48;2;107;107;107m▀\u001b[38;2;46;46;46;48;2;63;63;63m▀\u001b[38;2;81;81;81;48;2;70;70;70m▀\u001b[38;2;117;117;117;48;2;122;122;122m▀\u001b[38;2;103;103;103;48;2;90;90;90m▀\u001b[38;2;90;90;90;48;2;118;118;118m▀\u001b[38;2;104;104;104;48;2;96;96;96m▀\u001b[38;2;104;104;104;48;2;109;109;109m▀\u001b[38;2;62;62;62;48;2;77;77;77m▀\u001b[38;2;74;74;74;48;2;83;83;83m▀\u001b[38;2;85;85;85;48;2;92;92;92m▀\u001b[38;2;115;115;115;48;2;115;115;115m▀\u001b[38;2;74;74;74;48;2;86;86;86m▀\u001b[38;2;129;129;129;48;2;67;67;67m▀\u001b[38;2;92;92;92;48;2;94;94;94m▀\u001b[38;2;34;34;34;48;2;39;39;39m▀\u001b[0m\n",
       "\u001b[0m\u001b[38;2;5;5;5;48;2;47;47;47m▀\u001b[38;2;77;77;77;48;2;93;93;93m▀\u001b[38;2;100;100;100;48;2;106;106;106m▀\u001b[38;2;86;86;86;48;2;70;70;70m▀\u001b[38;2;79;79;79;48;2;109;109;109m▀\u001b[38;2;66;66;66;48;2;108;108;108m▀\u001b[38;2;69;69;69;48;2;81;81;81m▀\u001b[38;2;104;104;104;48;2;93;93;93m▀\u001b[38;2;84;84;84;48;2;91;91;91m▀\u001b[38;2;76;76;76;48;2;51;51;51m▀\u001b[38;2;96;96;96;48;2;66;66;66m▀\u001b[38;2;94;94;94;48;2;79;79;79m▀\u001b[38;2;86;86;86;48;2;123;123;123m▀\u001b[38;2;90;90;90;48;2;79;79;79m▀\u001b[38;2;87;87;87;48;2;90;90;90m▀\u001b[38;2;50;50;50;48;2;45;45;45m▀\u001b[38;2;100;100;100;48;2;80;80;80m▀\u001b[38;2;84;84;84;48;2;94;94;94m▀\u001b[38;2;80;80;80;48;2;52;52;52m▀\u001b[38;2;109;109;109;48;2;96;96;96m▀\u001b[38;2;102;102;102;48;2;101;101;101m▀\u001b[38;2;112;112;112;48;2;97;97;97m▀\u001b[38;2;103;103;103;48;2;122;122;122m▀\u001b[38;2;81;81;81;48;2;63;63;63m▀\u001b[38;2;90;90;90;48;2;103;103;103m▀\u001b[38;2;116;116;116;48;2;94;94;94m▀\u001b[38;2;78;78;78;48;2;68;68;68m▀\u001b[38;2;105;105;105;48;2;80;80;80m▀\u001b[38;2;82;82;82;48;2;96;96;96m▀\u001b[38;2;83;83;83;48;2;69;69;69m▀\u001b[38;2;65;65;65;48;2;76;76;76m▀\u001b[38;2;83;83;83;48;2;76;76;76m▀\u001b[38;2;123;123;123;48;2;113;113;113m▀\u001b[38;2;101;101;101;48;2;132;132;132m▀\u001b[38;2;74;74;74;48;2;99;99;99m▀\u001b[38;2;59;59;59;48;2;72;72;72m▀\u001b[38;2;97;97;97;48;2;77;77;77m▀\u001b[38;2;97;97;97;48;2;73;73;73m▀\u001b[38;2;91;91;91;48;2;73;73;73m▀\u001b[38;2;111;111;111;48;2;83;83;83m▀\u001b[38;2;90;90;90;48;2;129;129;129m▀\u001b[38;2;91;91;91;48;2;87;87;87m▀\u001b[38;2;92;92;92;48;2;92;92;92m▀\u001b[38;2;98;98;98;48;2;83;83;83m▀\u001b[38;2;105;105;105;48;2;91;91;91m▀\u001b[38;2;107;107;107;48;2;112;112;112m▀\u001b[38;2;96;96;96;48;2;103;103;103m▀\u001b[38;2;93;93;93;48;2;110;110;110m▀\u001b[38;2;39;39;39;48;2;38;38;38m▀\u001b[0m\n",
       "\u001b[0m\u001b[38;2;31;31;31;48;2;4;4;4m▀\u001b[38;2;95;95;95;48;2;92;92;92m▀\u001b[38;2;64;64;64;48;2;86;86;86m▀\u001b[38;2;32;32;32;48;2;49;49;49m▀\u001b[38;2;71;71;71;48;2;76;76;76m▀\u001b[38;2;115;115;115;48;2;114;114;114m▀\u001b[38;2;83;83;83;48;2;128;128;128m▀\u001b[38;2;81;81;81;48;2;82;82;82m▀\u001b[38;2;95;95;95;48;2;109;109;109m▀\u001b[38;2;83;83;83;48;2;76;76;76m▀\u001b[38;2;71;71;71;48;2;87;87;87m▀\u001b[38;2;72;72;72;48;2;49;49;49m▀\u001b[38;2;122;122;122;48;2;68;68;68m▀\u001b[38;2;114;114;114;48;2;99;99;99m▀\u001b[38;2;66;66;66;48;2;82;82;82m▀\u001b[38;2;83;83;83;48;2;68;68;68m▀\u001b[38;2;95;95;95;48;2;87;87;87m▀\u001b[38;2;105;105;105;48;2;94;94;94m▀\u001b[38;2;77;77;77;48;2;66;66;66m▀\u001b[38;2;79;79;79;48;2;98;98;98m▀\u001b[38;2;95;95;95;48;2;120;120;120m▀\u001b[38;2;63;63;63;48;2;116;116;116m▀\u001b[38;2;108;108;108;48;2;82;82;82m▀\u001b[38;2;97;97;97;48;2;71;71;71m▀\u001b[38;2;120;120;120;48;2;114;114;114m▀\u001b[38;2;92;92;92;48;2;110;110;110m▀\u001b[38;2;83;83;83;48;2;53;53;53m▀\u001b[38;2;70;70;70;48;2;81;81;81m▀\u001b[38;2;112;112;112;48;2;81;81;81m▀\u001b[38;2;90;90;90;48;2;77;77;77m▀\u001b[38;2;90;90;90;48;2;96;96;96m▀\u001b[38;2;51;51;51;48;2;81;81;81m▀\u001b[38;2;63;63;63;48;2;73;73;73m▀\u001b[38;2;112;112;112;48;2;90;90;90m▀\u001b[38;2;104;104;104;48;2;104;104;104m▀\u001b[38;2;100;100;100;48;2;110;110;110m▀\u001b[38;2;114;114;114;48;2;90;90;90m▀\u001b[38;2;74;74;74;48;2;90;90;90m▀\u001b[38;2;71;71;71;48;2;82;82;82m▀\u001b[38;2;63;63;63;48;2;65;65;65m▀\u001b[38;2;115;115;115;48;2;101;101;101m▀\u001b[38;2;85;85;85;48;2;109;109;109m▀\u001b[38;2;75;75;75;48;2;69;69;69m▀\u001b[38;2;83;83;83;48;2;91;91;91m▀\u001b[38;2;102;102;102;48;2;78;78;78m▀\u001b[38;2;105;105;105;48;2;111;111;111m▀\u001b[38;2;115;115;115;48;2;106;106;106m▀\u001b[38;2;92;92;92;48;2;127;127;127m▀\u001b[38;2;61;61;61;48;2;39;39;39m▀\u001b[0m\n",
       "\u001b[0m\u001b[38;2;26;26;26;48;2;32;32;32m▀\u001b[38;2;73;73;73;48;2;80;80;80m▀\u001b[38;2;103;103;103;48;2;81;81;81m▀\u001b[38;2;45;45;45;48;2;82;82;82m▀\u001b[38;2;51;51;51;48;2;59;59;59m▀\u001b[38;2;52;52;52;48;2;63;63;63m▀\u001b[38;2;105;105;105;48;2;86;86;86m▀\u001b[38;2;93;93;93;48;2;113;113;113m▀\u001b[38;2;103;103;103;48;2;99;99;99m▀\u001b[38;2;112;112;112;48;2;113;113;113m▀\u001b[38;2;71;71;71;48;2;75;75;75m▀\u001b[38;2;89;89;89;48;2;80;80;80m▀\u001b[38;2;55;55;55;48;2;110;110;110m▀\u001b[38;2;110;110;110;48;2;90;90;90m▀\u001b[38;2;93;93;93;48;2;98;98;98m▀\u001b[38;2;65;65;65;48;2;79;79;79m▀\u001b[38;2;62;62;62;48;2;94;94;94m▀\u001b[38;2;104;104;104;48;2;77;77;77m▀\u001b[38;2;91;91;91;48;2;76;76;76m▀\u001b[38;2;91;91;91;48;2;100;100;100m▀\u001b[38;2;90;90;90;48;2;112;112;112m▀\u001b[38;2;98;98;98;48;2;99;99;99m▀\u001b[38;2;81;81;81;48;2;113;113;113m▀\u001b[38;2;57;57;57;48;2;91;91;91m▀\u001b[38;2;96;96;96;48;2;76;76;76m▀\u001b[38;2;123;123;123;48;2;110;110;110m▀\u001b[38;2;75;75;75;48;2;141;141;141m▀\u001b[38;2;61;61;61;48;2;58;58;58m▀\u001b[38;2;114;114;114;48;2;62;62;62m▀\u001b[38;2;88;88;88;48;2;92;92;92m▀\u001b[38;2;78;78;78;48;2;59;59;59m▀\u001b[38;2;88;88;88;48;2;74;74;74m▀\u001b[38;2;84;84;84;48;2;92;92;92m▀\u001b[38;2;100;100;100;48;2;100;100;100m▀\u001b[38;2;106;106;106;48;2;99;99;99m▀\u001b[38;2;108;108;108;48;2;125;125;125m▀\u001b[38;2;79;79;79;48;2;59;59;59m▀\u001b[38;2;98;98;98;48;2;74;74;74m▀\u001b[38;2;114;114;114;48;2;118;118;118m▀\u001b[38;2;87;87;87;48;2;85;85;85m▀\u001b[38;2;92;92;92;48;2;91;91;91m▀\u001b[38;2;108;108;108;48;2;93;93;93m▀\u001b[38;2;80;80;80;48;2;75;75;75m▀\u001b[38;2;80;80;80;48;2;93;93;93m▀\u001b[38;2;93;93;93;48;2;99;99;99m▀\u001b[38;2;77;77;77;48;2;70;70;70m▀\u001b[38;2;95;95;95;48;2;70;70;70m▀\u001b[38;2;103;103;103;48;2;99;99;99m▀\u001b[38;2;55;55;55;48;2;60;60;60m▀\u001b[0m\n",
       "\u001b[0m\u001b[38;2;37;37;37;48;2;43;43;43m▀\u001b[38;2;107;107;107;48;2;72;72;72m▀\u001b[38;2;96;96;96;48;2;110;110;110m▀\u001b[38;2;68;68;68;48;2;85;85;85m▀\u001b[38;2;96;96;96;48;2;72;72;72m▀\u001b[38;2;96;96;96;48;2;97;97;97m▀\u001b[38;2;53;53;53;48;2;74;74;74m▀\u001b[38;2;99;99;99;48;2;70;70;70m▀\u001b[38;2;90;90;90;48;2;125;125;125m▀\u001b[38;2;68;68;68;48;2;96;96;96m▀\u001b[38;2;81;81;81;48;2;70;70;70m▀\u001b[38;2;60;60;60;48;2;58;58;58m▀\u001b[38;2;116;116;116;48;2;77;77;77m▀\u001b[38;2;130;130;130;48;2;125;125;125m▀\u001b[38;2;112;112;112;48;2;117;117;117m▀\u001b[38;2;72;72;72;48;2;83;83;83m▀\u001b[38;2;87;87;87;48;2;73;73;73m▀\u001b[38;2;105;105;105;48;2;94;94;94m▀\u001b[38;2;69;69;69;48;2;96;96;96m▀\u001b[38;2;89;89;89;48;2;90;90;90m▀\u001b[38;2;124;124;124;48;2;85;85;85m▀\u001b[38;2;113;113;113;48;2;81;81;81m▀\u001b[38;2;74;74;74;48;2;62;62;62m▀\u001b[38;2;111;111;111;48;2;75;75;75m▀\u001b[38;2;91;91;91;48;2;80;80;80m▀\u001b[38;2;75;75;75;48;2;74;74;74m▀\u001b[38;2;126;126;126;48;2;107;107;107m▀\u001b[38;2;91;91;91;48;2;110;110;110m▀\u001b[38;2;50;50;50;48;2;80;80;80m▀\u001b[38;2;88;88;88;48;2;98;98;98m▀\u001b[38;2;114;114;114;48;2;97;97;97m▀\u001b[38;2;70;70;70;48;2;74;74;74m▀\u001b[38;2;98;98;98;48;2;88;88;88m▀\u001b[38;2;76;76;76;48;2;92;92;92m▀\u001b[38;2;70;70;70;48;2;75;75;75m▀\u001b[38;2;126;126;126;48;2;89;89;89m▀\u001b[38;2;94;94;94;48;2;89;89;89m▀\u001b[38;2;107;107;107;48;2;95;95;95m▀\u001b[38;2;117;117;117;48;2;121;121;121m▀\u001b[38;2;112;112;112;48;2;87;87;87m▀\u001b[38;2;86;86;86;48;2;101;101;101m▀\u001b[38;2;66;66;66;48;2;78;78;78m▀\u001b[38;2;65;65;65;48;2;64;64;64m▀\u001b[38;2;94;94;94;48;2;80;80;80m▀\u001b[38;2;140;140;140;48;2;130;130;130m▀\u001b[38;2;92;92;92;48;2;88;88;88m▀\u001b[38;2;81;81;81;48;2;105;105;105m▀\u001b[38;2;77;77;77;48;2;89;89;89m▀\u001b[38;2;42;42;42;48;2;45;45;45m▀\u001b[0m\n",
       "\u001b[0m\u001b[38;2;37;37;37;48;2;16;16;16m▀\u001b[38;2;108;108;108;48;2;84;84;84m▀\u001b[38;2;84;84;84;48;2;100;100;100m▀\u001b[38;2;108;108;108;48;2;86;86;86m▀\u001b[38;2;62;62;62;48;2;87;87;87m▀\u001b[38;2;92;92;92;48;2;89;89;89m▀\u001b[38;2;113;113;113;48;2;103;103;103m▀\u001b[38;2;89;89;89;48;2;102;102;102m▀\u001b[38;2;103;103;103;48;2;86;86;86m▀\u001b[38;2;104;104;104;48;2;96;96;96m▀\u001b[38;2;95;95;95;48;2;75;75;75m▀\u001b[38;2;85;85;85;48;2;98;98;98m▀\u001b[38;2;84;84;84;48;2;76;76;76m▀\u001b[38;2;74;74;74;48;2;43;43;43m▀\u001b[38;2;125;125;125;48;2;90;90;90m▀\u001b[38;2;85;85;85;48;2;100;100;100m▀\u001b[38;2;72;72;72;48;2;68;68;68m▀\u001b[38;2;83;83;83;48;2;106;106;106m▀\u001b[38;2;97;97;97;48;2;67;67;67m▀\u001b[38;2;100;100;100;48;2;77;77;77m▀\u001b[38;2;127;127;127;48;2;97;97;97m▀\u001b[38;2;92;92;92;48;2;88;88;88m▀\u001b[38;2;74;74;74;48;2;59;59;59m▀\u001b[38;2;116;116;116;48;2;97;97;97m▀\u001b[38;2;117;117;117;48;2;78;78;78m▀\u001b[38;2;107;107;107;48;2;77;77;77m▀\u001b[38;2;111;111;111;48;2;116;116;116m▀\u001b[38;2;88;88;88;48;2;108;108;108m▀\u001b[38;2;50;50;50;48;2;83;83;83m▀\u001b[38;2;76;76;76;48;2;87;87;87m▀\u001b[38;2;99;99;99;48;2;119;119;119m▀\u001b[38;2;74;74;74;48;2;72;72;72m▀\u001b[38;2;106;106;106;48;2;86;86;86m▀\u001b[38;2;90;90;90;48;2;107;107;107m▀\u001b[38;2;89;89;89;48;2;54;54;54m▀\u001b[38;2;93;93;93;48;2;104;104;104m▀\u001b[38;2;76;76;76;48;2;80;80;80m▀\u001b[38;2;94;94;94;48;2;85;85;85m▀\u001b[38;2;109;109;109;48;2;101;101;101m▀\u001b[38;2;84;84;84;48;2;86;86;86m▀\u001b[38;2;104;104;104;48;2;103;103;103m▀\u001b[38;2;82;82;82;48;2;94;94;94m▀\u001b[38;2;64;64;64;48;2;85;85;85m▀\u001b[38;2;73;73;73;48;2;103;103;103m▀\u001b[38;2;131;131;131;48;2;97;97;97m▀\u001b[38;2;107;107;107;48;2;88;88;88m▀\u001b[38;2;118;118;118;48;2;85;85;85m▀\u001b[38;2;92;92;92;48;2;74;74;74m▀\u001b[38;2;55;55;55;48;2;45;45;45m▀\u001b[0m\n",
       "\u001b[0m\u001b[38;2;37;37;37;48;2;61;61;61m▀\u001b[38;2;76;76;76;48;2;100;100;100m▀\u001b[38;2;110;110;110;48;2;134;134;134m▀\u001b[38;2;54;54;54;48;2;95;95;95m▀\u001b[38;2;70;70;70;48;2;44;44;44m▀\u001b[38;2;108;108;108;48;2;97;97;97m▀\u001b[38;2;114;114;114;48;2;100;100;100m▀\u001b[38;2;130;130;130;48;2;113;113;113m▀\u001b[38;2;85;85;85;48;2;88;88;88m▀\u001b[38;2;87;87;87;48;2;93;93;93m▀\u001b[38;2;73;73;73;48;2;94;94;94m▀\u001b[38;2;94;94;94;48;2;78;78;78m▀\u001b[38;2;103;103;103;48;2;93;93;93m▀\u001b[38;2;70;70;70;48;2;82;82;82m▀\u001b[38;2;87;87;87;48;2;101;101;101m▀\u001b[38;2;106;106;106;48;2;80;80;80m▀\u001b[38;2;81;81;81;48;2;55;55;55m▀\u001b[38;2;87;87;87;48;2;102;102;102m▀\u001b[38;2;76;76;76;48;2;85;85;85m▀\u001b[38;2;97;97;97;48;2;101;101;101m▀\u001b[38;2;94;94;94;48;2;110;110;110m▀\u001b[38;2;116;116;116;48;2;96;96;96m▀\u001b[38;2;76;76;76;48;2;105;105;105m▀\u001b[38;2;107;107;107;48;2;96;96;96m▀\u001b[38;2;84;84;84;48;2;93;93;93m▀\u001b[38;2;84;84;84;48;2;77;77;77m▀\u001b[38;2;122;122;122;48;2;111;111;111m▀\u001b[38;2;83;83;83;48;2;73;73;73m▀\u001b[38;2;94;94;94;48;2;83;83;83m▀\u001b[38;2;96;96;96;48;2;135;135;135m▀\u001b[38;2;126;126;126;48;2;128;128;128m▀\u001b[38;2;67;67;67;48;2;109;109;109m▀\u001b[38;2;78;78;78;48;2;69;69;69m▀\u001b[38;2;74;74;74;48;2;42;42;42m▀\u001b[38;2;87;87;87;48;2;55;55;55m▀\u001b[38;2;97;97;97;48;2;116;116;116m▀\u001b[38;2;84;84;84;48;2;94;94;94m▀\u001b[38;2;94;94;94;48;2;73;73;73m▀\u001b[38;2;86;86;86;48;2;104;104;104m▀\u001b[38;2;108;108;108;48;2;82;82;82m▀\u001b[38;2;83;83;83;48;2;85;85;85m▀\u001b[38;2;80;80;80;48;2;74;74;74m▀\u001b[38;2;91;91;91;48;2;113;113;113m▀\u001b[38;2;110;110;110;48;2;113;113;113m▀\u001b[38;2;103;103;103;48;2;74;74;74m▀\u001b[38;2;80;80;80;48;2;56;56;56m▀\u001b[38;2;95;95;95;48;2;74;74;74m▀\u001b[38;2;91;91;91;48;2;79;79;79m▀\u001b[38;2;38;38;38;48;2;47;47;47m▀\u001b[0m\n",
       "\u001b[0m\u001b[38;2;42;42;42;48;2;48;48;48m▀\u001b[38;2;93;93;93;48;2;103;103;103m▀\u001b[38;2;113;113;113;48;2;134;134;134m▀\u001b[38;2;85;85;85;48;2;110;110;110m▀\u001b[38;2;52;52;52;48;2;65;65;65m▀\u001b[38;2;62;62;62;48;2;52;52;52m▀\u001b[38;2;87;87;87;48;2;86;86;86m▀\u001b[38;2;101;101;101;48;2;110;110;110m▀\u001b[38;2;104;104;104;48;2;102;102;102m▀\u001b[38;2;90;90;90;48;2;91;91;91m▀\u001b[38;2;113;113;113;48;2;109;109;109m▀\u001b[38;2;71;71;71;48;2;94;94;94m▀\u001b[38;2;49;49;49;48;2;73;73;73m▀\u001b[38;2;62;62;62;48;2;78;78;78m▀\u001b[38;2;126;126;126;48;2;119;119;119m▀\u001b[38;2;76;76;76;48;2;98;98;98m▀\u001b[38;2;73;73;73;48;2;85;85;85m▀\u001b[38;2;80;80;80;48;2;102;102;102m▀\u001b[38;2;102;102;102;48;2;121;121;121m▀\u001b[38;2;71;71;71;48;2;103;103;103m▀\u001b[38;2;101;101;101;48;2;101;101;101m▀\u001b[38;2;83;83;83;48;2;79;79;79m▀\u001b[38;2;130;130;130;48;2;105;105;105m▀\u001b[38;2;104;104;104;48;2;121;121;121m▀\u001b[38;2;98;98;98;48;2;83;83;83m▀\u001b[38;2;102;102;102;48;2;106;106;106m▀\u001b[38;2;80;80;80;48;2;85;85;85m▀\u001b[38;2;70;70;70;48;2;71;71;71m▀\u001b[38;2;77;77;77;48;2;119;119;119m▀\u001b[38;2;129;129;129;48;2;130;130;130m▀\u001b[38;2;101;101;101;48;2;88;88;88m▀\u001b[38;2;89;89;89;48;2;82;82;82m▀\u001b[38;2;106;106;106;48;2;105;105;105m▀\u001b[38;2;61;61;61;48;2;94;94;94m▀\u001b[38;2;79;79;79;48;2;78;78;78m▀\u001b[38;2;113;113;113;48;2;93;93;93m▀\u001b[38;2;88;88;88;48;2;80;80;80m▀\u001b[38;2;99;99;99;48;2;78;78;78m▀\u001b[38;2;116;116;116;48;2;128;128;128m▀\u001b[38;2;95;95;95;48;2;88;88;88m▀\u001b[38;2;85;85;85;48;2;62;62;62m▀\u001b[38;2;55;55;55;48;2;70;70;70m▀\u001b[38;2;91;91;91;48;2;106;106;106m▀\u001b[38;2;96;96;96;48;2;112;112;112m▀\u001b[38;2;95;95;95;48;2;132;132;132m▀\u001b[38;2;54;54;54;48;2;94;94;94m▀\u001b[38;2;69;69;69;48;2;56;56;56m▀\u001b[38;2;63;63;63;48;2;55;55;55m▀\u001b[38;2;51;51;51;48;2;46;46;46m▀\u001b[0m\n",
       "\u001b[0m\u001b[38;2;38;38;38;48;2;44;44;44m▀\u001b[38;2;57;57;57;48;2;45;45;45m▀\u001b[38;2;128;128;128;48;2;96;96;96m▀\u001b[38;2;119;119;119;48;2;115;115;115m▀\u001b[38;2;57;57;57;48;2;82;82;82m▀\u001b[38;2;44;44;44;48;2;45;45;45m▀\u001b[38;2;58;58;58;48;2;45;45;45m▀\u001b[38;2;87;87;87;48;2;75;75;75m▀\u001b[38;2;121;121;121;48;2;80;80;80m▀\u001b[38;2;97;97;97;48;2;132;132;132m▀\u001b[38;2;97;97;97;48;2;94;94;94m▀\u001b[38;2;78;78;78;48;2;89;89;89m▀\u001b[38;2;56;56;56;48;2;101;101;101m▀\u001b[38;2;91;91;91;48;2;122;122;122m▀\u001b[38;2;91;91;91;48;2;103;103;103m▀\u001b[38;2;90;90;90;48;2;74;74;74m▀\u001b[38;2;92;92;92;48;2;85;85;85m▀\u001b[38;2;95;95;95;48;2;93;93;93m▀\u001b[38;2;74;74;74;48;2;90;90;90m▀\u001b[38;2;91;91;91;48;2;100;100;100m▀\u001b[38;2;89;89;89;48;2;103;103;103m▀\u001b[38;2;93;93;93;48;2;108;108;108m▀\u001b[38;2;89;89;89;48;2;93;93;93m▀\u001b[38;2;106;106;106;48;2;75;75;75m▀\u001b[38;2;86;86;86;48;2;74;74;74m▀\u001b[38;2;115;115;115;48;2;103;103;103m▀\u001b[38;2;101;101;101;48;2;105;105;105m▀\u001b[38;2;67;67;67;48;2;95;95;95m▀\u001b[38;2;115;115;115;48;2;125;125;125m▀\u001b[38;2;117;117;117;48;2;143;143;143m▀\u001b[38;2;88;88;88;48;2;80;80;80m▀\u001b[38;2;91;91;91;48;2;88;88;88m▀\u001b[38;2;64;64;64;48;2;91;91;91m▀\u001b[38;2;73;73;73;48;2;59;59;59m▀\u001b[38;2;96;96;96;48;2;78;78;78m▀\u001b[38;2;107;107;107;48;2;102;102;102m▀\u001b[38;2;90;90;90;48;2;87;87;87m▀\u001b[38;2;67;67;67;48;2;99;99;99m▀\u001b[38;2;93;93;93;48;2;84;84;84m▀\u001b[38;2;95;95;95;48;2;107;107;107m▀\u001b[38;2;82;82;82;48;2;83;83;83m▀\u001b[38;2;69;69;69;48;2;63;63;63m▀\u001b[38;2;101;101;101;48;2;96;96;96m▀\u001b[38;2;74;74;74;48;2;111;111;111m▀\u001b[38;2;85;85;85;48;2;72;72;72m▀\u001b[38;2;99;99;99;48;2;86;86;86m▀\u001b[38;2;90;90;90;48;2;87;87;87m▀\u001b[38;2;58;58;58;48;2;96;96;96m▀\u001b[38;2;31;31;31;48;2;43;43;43m▀\u001b[0m\n",
       "\u001b[0m\u001b[38;2;37;37;37;48;2;52;52;52m▀\u001b[38;2;64;64;64;48;2;81;81;81m▀\u001b[38;2;87;87;87;48;2;105;105;105m▀\u001b[38;2;104;104;104;48;2;93;93;93m▀\u001b[38;2;95;95;95;48;2;91;91;91m▀\u001b[38;2;70;70;70;48;2;83;83;83m▀\u001b[38;2;84;84;84;48;2;69;69;69m▀\u001b[38;2;86;86;86;48;2;78;78;78m▀\u001b[38;2;93;93;93;48;2;90;90;90m▀\u001b[38;2;88;88;88;48;2;92;92;92m▀\u001b[38;2;95;95;95;48;2;94;94;94m▀\u001b[38;2;71;71;71;48;2;80;80;80m▀\u001b[38;2;89;89;89;48;2;107;107;107m▀\u001b[38;2;98;98;98;48;2;112;112;112m▀\u001b[38;2;95;95;95;48;2;95;95;95m▀\u001b[38;2;73;73;73;48;2;87;87;87m▀\u001b[38;2;96;96;96;48;2;67;67;67m▀\u001b[38;2;94;94;94;48;2;58;58;58m▀\u001b[38;2;102;102;102;48;2;87;87;87m▀\u001b[38;2;98;98;98;48;2;113;113;113m▀\u001b[38;2;68;68;68;48;2;109;109;109m▀\u001b[38;2;66;66;66;48;2;63;63;63m▀\u001b[38;2;103;103;103;48;2;79;79;79m▀\u001b[38;2;96;96;96;48;2;107;107;107m▀\u001b[38;2;90;90;90;48;2;114;114;114m▀\u001b[38;2;107;107;107;48;2;61;61;61m▀\u001b[38;2;109;109;109;48;2;101;101;101m▀\u001b[38;2;59;59;59;48;2;106;106;106m▀\u001b[38;2;60;60;60;48;2;80;80;80m▀\u001b[38;2;99;99;99;48;2;122;122;122m▀\u001b[38;2;92;92;92;48;2;105;105;105m▀\u001b[38;2;53;53;53;48;2;65;65;65m▀\u001b[38;2;95;95;95;48;2;80;80;80m▀\u001b[38;2;95;95;95;48;2;98;98;98m▀\u001b[38;2;102;102;102;48;2;96;96;96m▀\u001b[38;2;79;79;79;48;2;87;87;87m▀\u001b[38;2;64;64;64;48;2;85;85;85m▀\u001b[38;2;56;56;56;48;2;100;100;100m▀\u001b[38;2;67;67;67;48;2;81;81;81m▀\u001b[38;2;79;79;79;48;2;50;50;50m▀\u001b[38;2;97;97;97;48;2;103;103;103m▀\u001b[38;2;77;77;77;48;2;109;109;109m▀\u001b[38;2;68;68;68;48;2;71;71;71m▀\u001b[38;2;98;98;98;48;2;118;118;118m▀\u001b[38;2;80;80;80;48;2;98;98;98m▀\u001b[38;2;82;82;82;48;2;58;58;58m▀\u001b[38;2;95;95;95;48;2;89;89;89m▀\u001b[38;2;76;76;76;48;2;86;86;86m▀\u001b[38;2;47;47;47;48;2;28;28;28m▀\u001b[0m\n",
       "\u001b[0m\u001b[38;2;45;45;45;48;2;42;42;42m▀\u001b[38;2;86;86;86;48;2;106;106;106m▀\u001b[38;2;83;83;83;48;2;91;91;91m▀\u001b[38;2;99;99;99;48;2;100;100;100m▀\u001b[38;2;100;100;100;48;2;123;123;123m▀\u001b[38;2;99;99;99;48;2;105;105;105m▀\u001b[38;2;89;89;89;48;2;64;64;64m▀\u001b[38;2;70;70;70;48;2;80;80;80m▀\u001b[38;2;90;90;90;48;2;110;110;110m▀\u001b[38;2;117;117;117;48;2;95;95;95m▀\u001b[38;2;98;98;98;48;2;102;102;102m▀\u001b[38;2;99;99;99;48;2;108;108;108m▀\u001b[38;2;89;89;89;48;2;83;83;83m▀\u001b[38;2;110;110;110;48;2;87;87;87m▀\u001b[38;2;101;101;101;48;2;95;95;95m▀\u001b[38;2;96;96;96;48;2;113;113;113m▀\u001b[38;2;83;83;83;48;2;93;93;93m▀\u001b[38;2;83;83;83;48;2;104;104;104m▀\u001b[38;2;92;92;92;48;2;105;105;105m▀\u001b[38;2;119;119;119;48;2;105;105;105m▀\u001b[38;2;114;114;114;48;2;116;116;116m▀\u001b[38;2;71;71;71;48;2;87;87;87m▀\u001b[38;2;54;54;54;48;2;64;64;64m▀\u001b[38;2;78;78;78;48;2;102;102;102m▀\u001b[38;2;118;118;118;48;2;93;93;93m▀\u001b[38;2;98;98;98;48;2;127;127;127m▀\u001b[38;2;74;74;74;48;2;57;57;57m▀\u001b[38;2;101;101;101;48;2;77;77;77m▀\u001b[38;2;61;61;61;48;2;83;83;83m▀\u001b[38;2;58;58;58;48;2;75;75;75m▀\u001b[38;2;82;82;82;48;2;111;111;111m▀\u001b[38;2;58;58;58;48;2;92;92;92m▀\u001b[38;2;79;79;79;48;2;93;93;93m▀\u001b[38;2;106;106;106;48;2;72;72;72m▀\u001b[38;2;86;86;86;48;2;61;61;61m▀\u001b[38;2;89;89;89;48;2;106;106;106m▀\u001b[38;2;71;71;71;48;2;109;109;109m▀\u001b[38;2;96;96;96;48;2;107;107;107m▀\u001b[38;2;71;71;71;48;2;118;118;118m▀\u001b[38;2;35;35;35;48;2;61;61;61m▀\u001b[38;2;80;80;80;48;2;63;63;63m▀\u001b[38;2;129;129;129;48;2;124;124;124m▀\u001b[38;2;69;69;69;48;2;81;81;81m▀\u001b[38;2;85;85;85;48;2;94;94;94m▀\u001b[38;2;79;79;79;48;2;97;97;97m▀\u001b[38;2;80;80;80;48;2;90;90;90m▀\u001b[38;2;60;60;60;48;2;56;56;56m▀\u001b[38;2;94;94;94;48;2;109;109;109m▀\u001b[38;2;35;35;35;48;2;70;70;70m▀\u001b[0m\n",
       "\u001b[0m\u001b[38;2;17;17;17;48;2;37;37;37m▀\u001b[38;2;92;92;92;48;2;82;82;82m▀\u001b[38;2;95;95;95;48;2;113;113;113m▀\u001b[38;2;76;76;76;48;2;100;100;100m▀\u001b[38;2;130;130;130;48;2;93;93;93m▀\u001b[38;2;134;134;134;48;2;122;122;122m▀\u001b[38;2;76;76;76;48;2;87;87;87m▀\u001b[38;2;58;58;58;48;2;93;93;93m▀\u001b[38;2;106;106;106;48;2;89;89;89m▀\u001b[38;2;112;112;112;48;2;99;99;99m▀\u001b[38;2;94;94;94;48;2;73;73;73m▀\u001b[38;2;112;112;112;48;2;85;85;85m▀\u001b[38;2;102;102;102;48;2;86;86;86m▀\u001b[38;2;94;94;94;48;2;65;65;65m▀\u001b[38;2;86;86;86;48;2;92;92;92m▀\u001b[38;2;105;105;105;48;2;103;103;103m▀\u001b[38;2;105;105;105;48;2;96;96;96m▀\u001b[38;2;104;104;104;48;2;116;116;116m▀\u001b[38;2;102;102;102;48;2;109;109;109m▀\u001b[38;2;86;86;86;48;2;80;80;80m▀\u001b[38;2;120;120;120;48;2;99;99;99m▀\u001b[38;2;105;105;105;48;2;97;97;97m▀\u001b[38;2;101;101;101;48;2;93;93;93m▀\u001b[38;2;91;91;91;48;2;57;57;57m▀\u001b[38;2;103;103;103;48;2;121;121;121m▀\u001b[38;2;75;75;75;48;2;127;127;127m▀\u001b[38;2;66;66;66;48;2;99;99;99m▀\u001b[38;2;57;57;57;48;2;97;97;97m▀\u001b[38;2;69;69;69;48;2;66;66;66m▀\u001b[38;2;103;103;103;48;2;67;67;67m▀\u001b[38;2;98;98;98;48;2;94;94;94m▀\u001b[38;2;109;109;109;48;2;68;68;68m▀\u001b[38;2;110;110;110;48;2;94;94;94m▀\u001b[38;2;104;104;104;48;2;80;80;80m▀\u001b[38;2;86;86;86;48;2;108;108;108m▀\u001b[38;2;99;99;99;48;2;100;100;100m▀\u001b[38;2;105;105;105;48;2;97;97;97m▀\u001b[38;2;65;65;65;48;2;72;72;72m▀\u001b[38;2;78;78;78;48;2;66;66;66m▀\u001b[38;2;64;64;64;48;2;63;63;63m▀\u001b[38;2;67;67;67;48;2;90;90;90m▀\u001b[38;2;125;125;125;48;2;130;130;130m▀\u001b[38;2;97;97;97;48;2;109;109;109m▀\u001b[38;2;63;63;63;48;2;77;77;77m▀\u001b[38;2;87;87;87;48;2;89;89;89m▀\u001b[38;2;77;77;77;48;2;84;84;84m▀\u001b[38;2;76;76;76;48;2;78;78;78m▀\u001b[38;2;86;86;86;48;2;102;102;102m▀\u001b[38;2;57;57;57;48;2;66;66;66m▀\u001b[0m\n",
       "\u001b[0m\u001b[38;2;50;50;50;48;2;54;54;54m▀\u001b[38;2;87;87;87;48;2;98;98;98m▀\u001b[38;2;103;103;103;48;2;107;107;107m▀\u001b[38;2;90;90;90;48;2;118;118;118m▀\u001b[38;2;74;74;74;48;2;62;62;62m▀\u001b[38;2;101;101;101;48;2;88;88;88m▀\u001b[38;2;97;97;97;48;2;96;96;96m▀\u001b[38;2;100;100;100;48;2;93;93;93m▀\u001b[38;2;75;75;75;48;2;62;62;62m▀\u001b[38;2;88;88;88;48;2;67;67;67m▀\u001b[38;2;93;93;93;48;2;125;125;125m▀\u001b[38;2;78;78;78;48;2;89;89;89m▀\u001b[38;2;104;104;104;48;2;87;87;87m▀\u001b[38;2;57;57;57;48;2;80;80;80m▀\u001b[38;2;88;88;88;48;2;90;90;90m▀\u001b[38;2;101;101;101;48;2;97;97;97m▀\u001b[38;2;96;96;96;48;2;80;80;80m▀\u001b[38;2;109;109;109;48;2;91;91;91m▀\u001b[38;2;98;98;98;48;2;103;103;103m▀\u001b[38;2;98;98;98;48;2;90;90;90m▀\u001b[38;2;92;92;92;48;2;115;115;115m▀\u001b[38;2;80;80;80;48;2;92;92;92m▀\u001b[38;2;93;93;93;48;2;72;72;72m▀\u001b[38;2;93;93;93;48;2;85;85;85m▀\u001b[38;2;80;80;80;48;2;95;95;95m▀\u001b[38;2;111;111;111;48;2;74;74;74m▀\u001b[38;2;91;91;91;48;2;114;114;114m▀\u001b[38;2;76;76;76;48;2;99;99;99m▀\u001b[38;2;67;67;67;48;2;71;71;71m▀\u001b[38;2;95;95;95;48;2;93;93;93m▀\u001b[38;2;98;98;98;48;2;100;100;100m▀\u001b[38;2;90;90;90;48;2;60;60;60m▀\u001b[38;2;73;73;73;48;2;90;90;90m▀\u001b[38;2;99;99;99;48;2;105;105;105m▀\u001b[38;2;124;124;124;48;2;123;123;123m▀\u001b[38;2;121;121;121;48;2;119;119;119m▀\u001b[38;2;70;70;70;48;2;54;54;54m▀\u001b[38;2;77;77;77;48;2;86;86;86m▀\u001b[38;2;84;84;84;48;2;103;103;103m▀\u001b[38;2;75;75;75;48;2;95;95;95m▀\u001b[38;2;85;85;85;48;2;84;84;84m▀\u001b[38;2;124;124;124;48;2;91;91;91m▀\u001b[38;2;88;88;88;48;2;98;98;98m▀\u001b[38;2;64;64;64;48;2;78;78;78m▀\u001b[38;2;74;74;74;48;2;81;81;81m▀\u001b[38;2;64;64;64;48;2;92;92;92m▀\u001b[38;2;86;86;86;48;2;98;98;98m▀\u001b[38;2;127;127;127;48;2;131;131;131m▀\u001b[38;2;44;44;44;48;2;52;52;52m▀\u001b[0m\n",
       "\u001b[0m\u001b[38;2;42;42;42;48;2;58;58;58m▀\u001b[38;2;95;95;95;48;2;100;100;100m▀\u001b[38;2;76;76;76;48;2;91;91;91m▀\u001b[38;2;101;101;101;48;2;99;99;99m▀\u001b[38;2;101;101;101;48;2;89;89;89m▀\u001b[38;2;82;82;82;48;2;67;67;67m▀\u001b[38;2;117;117;117;48;2;80;80;80m▀\u001b[38;2;101;101;101;48;2;107;107;107m▀\u001b[38;2;38;38;38;48;2;41;41;41m▀\u001b[38;2;82;82;82;48;2;64;64;64m▀\u001b[38;2;119;119;119;48;2;123;123;123m▀\u001b[38;2;103;103;103;48;2;97;97;97m▀\u001b[38;2;119;119;119;48;2;112;112;112m▀\u001b[38;2;87;87;87;48;2;103;103;103m▀\u001b[38;2;83;83;83;48;2;93;93;93m▀\u001b[38;2;62;62;62;48;2;110;110;110m▀\u001b[38;2;86;86;86;48;2;71;71;71m▀\u001b[38;2;122;122;122;48;2;117;117;117m▀\u001b[38;2;114;114;114;48;2;121;121;121m▀\u001b[38;2;107;107;107;48;2;125;125;125m▀\u001b[38;2;81;81;81;48;2;76;76;76m▀\u001b[38;2;86;86;86;48;2;77;77;77m▀\u001b[38;2;86;86;86;48;2;91;91;91m▀\u001b[38;2;73;73;73;48;2;97;97;97m▀\u001b[38;2;84;84;84;48;2;69;69;69m▀\u001b[38;2;63;63;63;48;2;54;54;54m▀\u001b[38;2;109;109;109;48;2;94;94;94m▀\u001b[38;2;96;96;96;48;2;117;117;117m▀\u001b[38;2;61;61;61;48;2;74;74;74m▀\u001b[38;2;119;119;119;48;2;92;92;92m▀\u001b[38;2;126;126;126;48;2;118;118;118m▀\u001b[38;2;66;66;66;48;2;79;79;79m▀\u001b[38;2;81;81;81;48;2;64;64;64m▀\u001b[38;2;81;81;81;48;2;73;73;73m▀\u001b[38;2;98;98;98;48;2;88;88;88m▀\u001b[38;2;95;95;95;48;2;105;105;105m▀\u001b[38;2;82;82;82;48;2;98;98;98m▀\u001b[38;2;72;72;72;48;2;85;85;85m▀\u001b[38;2;84;84;84;48;2;106;106;106m▀\u001b[38;2;90;90;90;48;2;116;116;116m▀\u001b[38;2;97;97;97;48;2;107;107;107m▀\u001b[38;2;95;95;95;48;2;76;76;76m▀\u001b[38;2;101;101;101;48;2;91;91;91m▀\u001b[38;2;71;71;71;48;2;70;70;70m▀\u001b[38;2;74;74;74;48;2;37;37;37m▀\u001b[38;2;93;93;93;48;2;83;83;83m▀\u001b[38;2;74;74;74;48;2;94;94;94m▀\u001b[38;2;121;121;121;48;2;120;120;120m▀\u001b[38;2;46;46;46;48;2;69;69;69m▀\u001b[0m\n",
       "\u001b[0m\u001b[38;2;40;40;40;48;2;35;35;35m▀\u001b[38;2;68;68;68;48;2;97;97;97m▀\u001b[38;2;76;76;76;48;2;72;72;72m▀\u001b[38;2;84;84;84;48;2;92;92;92m▀\u001b[38;2;84;84;84;48;2;71;71;71m▀\u001b[38;2;115;115;115;48;2;92;92;92m▀\u001b[38;2;102;102;102;48;2;113;113;113m▀\u001b[38;2;91;91;91;48;2;84;84;84m▀\u001b[38;2;87;87;87;48;2;83;83;83m▀\u001b[38;2;73;73;73;48;2;75;75;75m▀\u001b[38;2;130;130;130;48;2;107;107;107m▀\u001b[38;2;98;98;98;48;2;99;99;99m▀\u001b[38;2;95;95;95;48;2;61;61;61m▀\u001b[38;2;112;112;112;48;2;91;91;91m▀\u001b[38;2;108;108;108;48;2;110;110;110m▀\u001b[38;2;112;112;112;48;2;109;109;109m▀\u001b[38;2;53;53;53;48;2;79;79;79m▀\u001b[38;2;94;94;94;48;2;81;81;81m▀\u001b[38;2;130;130;130;48;2;122;122;122m▀\u001b[38;2;116;116;116;48;2;102;102;102m▀\u001b[38;2;89;89;89;48;2;88;88;88m▀\u001b[38;2;58;58;58;48;2;66;66;66m▀\u001b[38;2;98;98;98;48;2;88;88;88m▀\u001b[38;2;88;88;88;48;2;86;86;86m▀\u001b[38;2;102;102;102;48;2;89;89;89m▀\u001b[38;2;74;74;74;48;2;106;106;106m▀\u001b[38;2;71;71;71;48;2;78;78;78m▀\u001b[38;2;114;114;114;48;2;92;92;92m▀\u001b[38;2;67;67;67;48;2;76;76;76m▀\u001b[38;2;104;104;104;48;2;104;104;104m▀\u001b[38;2;85;85;85;48;2;116;116;116m▀\u001b[38;2;89;89;89;48;2;74;74;74m▀\u001b[38;2;79;79;79;48;2;73;73;73m▀\u001b[38;2;93;93;93;48;2;78;78;78m▀\u001b[38;2;75;75;75;48;2;67;67;67m▀\u001b[38;2;75;75;75;48;2;90;90;90m▀\u001b[38;2;107;107;107;48;2;118;118;118m▀\u001b[38;2;72;72;72;48;2;115;115;115m▀\u001b[38;2;86;86;86;48;2;74;74;74m▀\u001b[38;2;115;115;115;48;2;99;99;99m▀\u001b[38;2;97;97;97;48;2;96;96;96m▀\u001b[38;2;78;78;78;48;2;59;59;59m▀\u001b[38;2;79;79;79;48;2;57;57;57m▀\u001b[38;2;89;89;89;48;2;82;82;82m▀\u001b[38;2;68;68;68;48;2;92;92;92m▀\u001b[38;2;81;81;81;48;2;60;60;60m▀\u001b[38;2;97;97;97;48;2;76;76;76m▀\u001b[38;2;84;84;84;48;2;77;77;77m▀\u001b[38;2;48;48;48;48;2;33;33;33m▀\u001b[0m\n",
       "\u001b[0m\u001b[38;2;30;30;30;48;2;45;45;45m▀\u001b[38;2;77;77;77;48;2;102;102;102m▀\u001b[38;2;77;77;77;48;2;102;102;102m▀\u001b[38;2;71;71;71;48;2;62;62;62m▀\u001b[38;2;102;102;102;48;2;72;72;72m▀\u001b[38;2;90;90;90;48;2;124;124;124m▀\u001b[38;2;103;103;103;48;2;108;108;108m▀\u001b[38;2;95;95;95;48;2;121;121;121m▀\u001b[38;2;90;90;90;48;2;103;103;103m▀\u001b[38;2;58;58;58;48;2;58;58;58m▀\u001b[38;2;70;70;70;48;2;80;80;80m▀\u001b[38;2;104;104;104;48;2;114;114;114m▀\u001b[38;2;98;98;98;48;2;91;91;91m▀\u001b[38;2;78;78;78;48;2;96;96;96m▀\u001b[38;2;99;99;99;48;2;99;99;99m▀\u001b[38;2;83;83;83;48;2;71;71;71m▀\u001b[38;2;94;94;94;48;2;81;81;81m▀\u001b[38;2;89;89;89;48;2;83;83;83m▀\u001b[38;2;73;73;73;48;2;58;58;58m▀\u001b[38;2;81;81;81;48;2;121;121;121m▀\u001b[38;2;71;71;71;48;2;102;102;102m▀\u001b[38;2;64;64;64;48;2;65;65;65m▀\u001b[38;2;80;80;80;48;2;95;95;95m▀\u001b[38;2;68;68;68;48;2;84;84;84m▀\u001b[38;2;75;75;75;48;2;89;89;89m▀\u001b[38;2;81;81;81;48;2;83;83;83m▀\u001b[38;2;87;87;87;48;2;64;64;64m▀\u001b[38;2;92;92;92;48;2;86;86;86m▀\u001b[38;2;87;87;87;48;2;102;102;102m▀\u001b[38;2;87;87;87;48;2;89;89;89m▀\u001b[38;2;87;87;87;48;2;90;90;90m▀\u001b[38;2;91;91;91;48;2;97;97;97m▀\u001b[38;2;73;73;73;48;2;110;110;110m▀\u001b[38;2;98;98;98;48;2;73;73;73m▀\u001b[38;2;94;94;94;48;2;85;85;85m▀\u001b[38;2;111;111;111;48;2;111;111;111m▀\u001b[38;2;91;91;91;48;2;103;103;103m▀\u001b[38;2;110;110;110;48;2;85;85;85m▀\u001b[38;2;72;72;72;48;2;105;105;105m▀\u001b[38;2;81;81;81;48;2;85;85;85m▀\u001b[38;2;97;97;97;48;2;116;116;116m▀\u001b[38;2;70;70;70;48;2;94;94;94m▀\u001b[38;2;46;46;46;48;2;69;69;69m▀\u001b[38;2;93;93;93;48;2;58;58;58m▀\u001b[38;2;90;90;90;48;2;87;87;87m▀\u001b[38;2;98;98;98;48;2;99;99;99m▀\u001b[38;2;100;100;100;48;2;128;128;128m▀\u001b[38;2;105;105;105;48;2;100;100;100m▀\u001b[38;2;41;41;41;48;2;33;33;33m▀\u001b[0m\n",
       "\u001b[0m\u001b[38;2;15;15;15m▀\u001b[38;2;46;46;46m▀\u001b[38;2;77;77;77m▀\u001b[38;2;41;41;41m▀\u001b[38;2;38;38;38m▀\u001b[38;2;66;66;66m▀\u001b[38;2;46;46;46m▀\u001b[38;2;52;52;52m▀\u001b[38;2;53;53;53m▀\u001b[38;2;26;26;26m▀\u001b[38;2;41;41;41m▀\u001b[38;2;45;45;45m▀\u001b[38;2;38;38;38m▀\u001b[38;2;47;47;47m▀\u001b[38;2;39;39;39m▀\u001b[38;2;63;63;63m▀\u001b[38;2;55;55;55m▀\u001b[38;2;53;53;53m▀\u001b[38;2;39;39;39m▀\u001b[38;2;50;50;50m▀\u001b[38;2;61;61;61m▀\u001b[38;2;22;22;22m▀\u001b[38;2;26;26;26m▀\u001b[38;2;33;33;33m▀\u001b[38;2;37;37;37m▀\u001b[38;2;38;38;38m▀\u001b[38;2;33;33;33m▀\u001b[38;2;44;44;44m▀\u001b[38;2;42;42;42m▀\u001b[38;2;51;51;51m▀\u001b[38;2;44;44;44m▀\u001b[38;2;46;46;46m▀\u001b[38;2;56;56;56m▀\u001b[38;2;49;49;49m▀\u001b[38;2;51;51;51m▀\u001b[38;2;58;58;58m▀\u001b[38;2;55;55;55m▀\u001b[38;2;39;39;39m▀\u001b[38;2;43;43;43m▀\u001b[38;2;41;41;41m▀\u001b[38;2;65;65;65m▀\u001b[38;2;50;50;50m▀\u001b[38;2;47;47;47m▀\u001b[38;2;45;45;45m▀\u001b[38;2;45;45;45m▀\u001b[38;2;55;55;55m▀\u001b[38;2;79;79;79m▀\u001b[38;2;50;50;50m▀\u001b[38;2;25;25;25m▀\u001b[0m"
      ]
     },
     "execution_count": 22,
     "metadata": {},
     "output_type": "execute_result"
    }
   ],
   "source": [
    "convert2image(MNIST,cnn_output[:,:,1,1])"
   ]
  },
  {
   "cell_type": "code",
   "execution_count": null,
   "metadata": {},
   "outputs": [],
   "source": []
  },
  {
   "cell_type": "code",
   "execution_count": null,
   "metadata": {},
   "outputs": [],
   "source": []
  },
  {
   "cell_type": "code",
   "execution_count": null,
   "metadata": {},
   "outputs": [],
   "source": []
  },
  {
   "cell_type": "markdown",
   "metadata": {},
   "source": [
    "### <span style=\"color:orange\"> The data is in form WHN instead of WHCN so we must 'unsqueeze' the data to produce another dimension in the format</span>"
   ]
  },
  {
   "cell_type": "code",
   "execution_count": 23,
   "metadata": {},
   "outputs": [
    {
     "data": {
      "text/plain": [
       "(28, 28, 1, 60000)"
      ]
     },
     "execution_count": 23,
     "metadata": {},
     "output_type": "execute_result"
    }
   ],
   "source": [
    "size(Flux.unsqueeze(train_x_raw,dims=3))"
   ]
  },
  {
   "cell_type": "code",
   "execution_count": 24,
   "metadata": {},
   "outputs": [
    {
     "data": {
      "text/plain": [
       "(28, 28, 1, 60000)"
      ]
     },
     "execution_count": 24,
     "metadata": {},
     "output_type": "execute_result"
    }
   ],
   "source": [
    "images = Flux.unsqueeze(train_x_raw,dims=3);\n",
    "images |> size"
   ]
  },
  {
   "cell_type": "code",
   "execution_count": 25,
   "metadata": {},
   "outputs": [
    {
     "data": {
      "text/plain": [
       "(24, 24, 1, 60000)"
      ]
     },
     "execution_count": 25,
     "metadata": {},
     "output_type": "execute_result"
    }
   ],
   "source": [
    "cnn_output = cnn_layer(images) |> size"
   ]
  },
  {
   "cell_type": "code",
   "execution_count": 26,
   "metadata": {},
   "outputs": [
    {
     "data": {
      "text/plain": [
       "(28, 28, 1, 3)"
      ]
     },
     "execution_count": 26,
     "metadata": {},
     "output_type": "execute_result"
    }
   ],
   "source": [
    "images[:,:,:,1:3] |>size"
   ]
  },
  {
   "cell_type": "code",
   "execution_count": 27,
   "metadata": {},
   "outputs": [
    {
     "data": {
      "text/plain": [
       "(24, 24, 1, 3)"
      ]
     },
     "execution_count": 27,
     "metadata": {},
     "output_type": "execute_result"
    }
   ],
   "source": [
    "cnn_output = cnn_layer(images[:,:,:,1:3]) \n",
    "cnn_output |> size"
   ]
  },
  {
   "cell_type": "code",
   "execution_count": 28,
   "metadata": {},
   "outputs": [
    {
     "data": {
      "text/plain": [
       "(24, 24)"
      ]
     },
     "execution_count": 28,
     "metadata": {},
     "output_type": "execute_result"
    }
   ],
   "source": [
    "cnn_output[:,:,1,1] |>size"
   ]
  },
  {
   "cell_type": "code",
   "execution_count": 29,
   "metadata": {},
   "outputs": [
    {
     "data": {
      "image/png": "[encoded data removed]",
      "text/html": [
       "<img src=\"data:image/png;base64,iVBORw0KGgoAAAANSUhEUgAAAHgAAAB4CAAAAAAcD2kOAAAABGdBTUEAALGPC/xhBQAAAAFzUkdCAK7OHOkAAAAgY0hSTQAAeiYAAICEAAD6AAAAgOgAAHUwAADqYAAAOpgAABdwnLpRPAAAA3tJREFUaAXFwc9r1wUcx/Hnd73m/DF0WhhOMX8blkheMijIQ4V4qUv0B3jtEF29dO7aqVsdJQipwMqgyILAINFopfmjtQ3nj5ruq9N9t/W8fA5fNt3s8n48QpFQJBQJRUKR8ChaqAfNoKABNIFWoFtoF7qKOqhNoxdNo1AkFAlFQpGwgBYKmkX9NIIG0C20B61DK9EwCnodDaEZdBxdQ9M0QpFQJBQJRUK3FlqPNqJ7aC9ajnagAdRGT6JJNIzOoD1oGP2JfkCTzBeKhCKhSCgSuq1Br6GX0TjaiS6gNjqPRtAE6qAhNIbOsTShSCgSioQioVsH9aI2Gka/oT50BY2hEbQHzaFrzPcWmkZn0R80gkKRUCQUCUVCt0n0OZpAg2gzWoUm0UXUh9poO3oBXUL3UQttRxfQ42iAxjQKRUKRUCQUCQu4jibR02gL2o8+QhfRPdRGN9Eh9B36ksYxNInuojuohe6hUCQUCUVCkdCtRWME/Y3WoxXoXbQRvY/OoFH0InqKLud5mFAkFAlFQpHQbQ610FV0Ep1Co+httAWdoXEbfYiW0diIRniYUCQUCUVCkbCADrqGbqAZNIHeQFvRYfQFjTG6jLCoUCQUCUVCkfAgc2gG9aJR9AE6it5DPegz/pdQJBQJRUKRsLgOuoWOoaCD6BBagb5BN3gEoUgoEoqEImFxc2gajaHjqAftRu+gV9ERHkEoEoqEIqFIWKJZ1EHX0Y9oCr2JDqD76Ci6yaJCkVAkFAlFwhK10DK0Gq1Fg+gftB4dQV+jT1lUKBKKhCKhSHioFupFG9Cz6Bm0A61Fn6B+tBv1sjShSCgSioQiYQEtFLQa7Uc70T60HP2FvkdXafSgr5hvFWrTJRQJRUKRUCR060ObUA86iPailehfdApNoQl0Gt2ksR2NoCkabeYLRUKRUCQUSQv1ozVoL9qH1qGd6Ar6CY2hDhpFZ2gcQJvQOTSFetBmdJn5QpFQJBQJRfIEegVtQVvROvQz+hhNo6Db6Fsaz6Ft6CI6gR5Dg2gSXeYBQpFQJBQJRbIJbUXL0Wl0CU2ioCE0TmMb2oWG0UnUQv3oDhplUaFIKBKKhCL5HQ2hu2gZ6kNTqIM2oOfRXvQrOoF60HrURuNolqUJRUKRUCQUyR0ah9FLaBR10F3UQcvRL+gsGkQdNI5meVShSCgSioQi/wFDQLLl1gVXMAAAAABJRU5ErkJg\">"
      ],
      "text/plain": [
       "\u001b[0m\u001b[38;2;0;0;0m██\u001b[38;2;0;0;0m██\u001b[38;2;0;0;0m██\u001b[38;2;0;0;0m██\u001b[38;2;0;0;0m██\u001b[38;2;0;0;0m██\u001b[38;2;0;0;0m██\u001b[38;2;0;0;0m██\u001b[38;2;0;0;0m██\u001b[38;2;0;0;0m██\u001b[38;2;0;0;0m██\u001b[38;2;0;0;0m██\u001b[38;2;0;0;0m██\u001b[38;2;0;0;0m██\u001b[38;2;0;0;0m██\u001b[38;2;0;0;0m██\u001b[38;2;0;0;0m██\u001b[38;2;0;0;0m██\u001b[38;2;0;0;0m██\u001b[38;2;0;0;0m██\u001b[38;2;0;0;0m██\u001b[38;2;0;0;0m██\u001b[38;2;0;0;0m██\u001b[38;2;0;0;0m██\u001b[0m\n",
       "\u001b[0m\u001b[38;2;0;0;0m██\u001b[38;2;0;0;0m██\u001b[38;2;0;0;0m██\u001b[38;2;0;0;0m██\u001b[38;2;0;0;0m██\u001b[38;2;0;0;0m██\u001b[38;2;0;0;0m██\u001b[38;2;0;0;0m██\u001b[38;2;0;0;0m██\u001b[38;2;1;1;1m██\u001b[38;2;3;3;3m██\u001b[38;2;0;0;0m██\u001b[38;2;4;4;4m██\u001b[38;2;20;20;20m██\u001b[38;2;5;5;5m██\u001b[38;2;14;14;14m██\u001b[38;2;0;0;0m██\u001b[38;2;38;38;38m██\u001b[38;2;15;15;15m██\u001b[38;2;11;11;11m██\u001b[38;2;0;0;0m██\u001b[38;2;0;0;0m██\u001b[38;2;5;5;5m██\u001b[38;2;0;0;0m██\u001b[0m\n",
       "\u001b[0m\u001b[38;2;0;0;0m██\u001b[38;2;0;0;0m██\u001b[38;2;0;0;0m██\u001b[38;2;0;0;0m██\u001b[38;2;1;1;1m██\u001b[38;2;5;5;5m██\u001b[38;2;3;3;3m██\u001b[38;2;15;15;15m██\u001b[38;2;15;15;15m██\u001b[38;2;19;19;19m██\u001b[38;2;35;35;35m██\u001b[38;2;21;21;21m██\u001b[38;2;63;63;63m██\u001b[38;2;81;81;81m██\u001b[38;2;91;91;91m██\u001b[38;2;62;62;62m██\u001b[38;2;66;66;66m██\u001b[38;2;146;146;146m██\u001b[38;2;106;106;106m██\u001b[38;2;103;103;103m██\u001b[38;2;24;24;24m██\u001b[38;2;3;3;3m██\u001b[38;2;0;0;0m██\u001b[38;2;0;0;0m██\u001b[0m\n",
       "\u001b[0m\u001b[38;2;0;0;0m██\u001b[38;2;0;0;0m██\u001b[38;2;0;0;0m██\u001b[38;2;1;1;1m██\u001b[38;2;23;23;23m██\u001b[38;2;50;50;50m██\u001b[38;2;43;43;43m██\u001b[38;2;88;88;88m██\u001b[38;2;96;96;96m██\u001b[38;2;132;132;132m██\u001b[38;2;148;148;148m██\u001b[38;2;137;137;137m██\u001b[38;2;160;160;160m██\u001b[38;2;148;148;148m██\u001b[38;2;119;119;119m██\u001b[38;2;44;44;44m██\u001b[38;2;86;86;86m██\u001b[38;2;117;117;117m██\u001b[38;2;71;71;71m██\u001b[38;2;12;12;12m██\u001b[38;2;0;0;0m██\u001b[38;2;0;0;0m██\u001b[38;2;0;0;0m██\u001b[38;2;0;0;0m██\u001b[0m\n",
       "\u001b[0m\u001b[38;2;0;0;0m██\u001b[38;2;0;0;0m██\u001b[38;2;0;0;0m██\u001b[38;2;16;16;16m██\u001b[38;2;94;94;94m██\u001b[38;2;158;158;158m██\u001b[38;2;136;136;136m██\u001b[38;2;173;173;173m██\u001b[38;2;137;137;137m██\u001b[38;2;126;126;126m██\u001b[38;2;111;111;111m██\u001b[38;2;84;84;84m██\u001b[38;2;69;69;69m██\u001b[38;2;65;65;65m██\u001b[38;2;25;25;25m██\u001b[38;2;0;0;0m██\u001b[38;2;0;0;0m██\u001b[38;2;0;0;0m██\u001b[38;2;0;0;0m██\u001b[38;2;0;0;0m██\u001b[38;2;0;0;0m██\u001b[38;2;0;0;0m██\u001b[38;2;0;0;0m██\u001b[38;2;0;0;0m██\u001b[0m\n",
       "\u001b[0m\u001b[38;2;0;0;0m██\u001b[38;2;0;0;0m██\u001b[38;2;0;0;0m██\u001b[38;2;12;12;12m██\u001b[38;2;99;99;99m██\u001b[38;2;147;147;147m██\u001b[38;2;107;107;107m██\u001b[38;2;95;95;95m██\u001b[38;2;102;102;102m██\u001b[38;2;71;71;71m██\u001b[38;2;46;46;46m██\u001b[38;2;19;19;19m██\u001b[38;2;61;61;61m██\u001b[38;2;60;60;60m██\u001b[38;2;4;4;4m██\u001b[38;2;0;0;0m██\u001b[38;2;0;0;0m██\u001b[38;2;0;0;0m██\u001b[38;2;88;88;88m██\u001b[38;2;83;83;83m██\u001b[38;2;38;38;38m██\u001b[38;2;0;0;0m██\u001b[38;2;0;0;0m██\u001b[38;2;4;4;4m██\u001b[0m\n",
       "\u001b[0m\u001b[38;2;0;0;0m██\u001b[38;2;0;0;0m██\u001b[38;2;0;0;0m██\u001b[38;2;0;0;0m██\u001b[38;2;23;23;23m██\u001b[38;2;84;84;84m██\u001b[38;2;110;110;110m██\u001b[38;2;125;125;125m██\u001b[38;2;136;136;136m██\u001b[38;2;90;90;90m██\u001b[38;2;37;37;37m██\u001b[38;2;26;26;26m██\u001b[38;2;50;50;50m██\u001b[38;2;85;85;85m██\u001b[38;2;61;61;61m██\u001b[38;2;28;28;28m██\u001b[38;2;22;22;22m██\u001b[38;2;23;23;23m██\u001b[38;2;123;123;123m██\u001b[38;2;87;87;87m██\u001b[38;2;57;57;57m██\u001b[38;2;16;16;16m██\u001b[38;2;16;16;16m██\u001b[38;2;11;11;11m██\u001b[0m\n",
       "\u001b[0m\u001b[38;2;0;0;0m██\u001b[38;2;0;0;0m██\u001b[38;2;0;0;0m██\u001b[38;2;0;0;0m██\u001b[38;2;3;3;3m██\u001b[38;2;72;72;72m██\u001b[38;2;150;150;150m██\u001b[38;2;182;182;182m██\u001b[38;2;232;232;232m██\u001b[38;2;137;137;137m██\u001b[38;2;56;56;56m██\u001b[38;2;30;30;30m██\u001b[38;2;39;39;39m██\u001b[38;2;67;67;67m██\u001b[38;2;134;134;134m██\u001b[38;2;71;71;71m██\u001b[38;2;0;0;0m██\u001b[38;2;0;0;0m██\u001b[38;2;37;37;37m██\u001b[38;2;25;25;25m██\u001b[38;2;16;16;16m██\u001b[38;2;6;6;6m██\u001b[38;2;7;7;7m██\u001b[38;2;0;0;0m██\u001b[0m\n",
       "\u001b[0m\u001b[38;2;0;0;0m██\u001b[38;2;0;0;0m██\u001b[38;2;0;0;0m██\u001b[38;2;1;1;1m██\u001b[38;2;3;3;3m██\u001b[38;2;45;45;45m██\u001b[38;2;122;122;122m██\u001b[38;2;172;172;172m██\u001b[38;2;241;241;241m██\u001b[38;2;252;252;252m██\u001b[38;2;164;164;164m██\u001b[38;2;47;47;47m██\u001b[38;2;0;0;0m██\u001b[38;2;13;13;13m██\u001b[38;2;127;127;127m██\u001b[38;2;102;102;102m██\u001b[38;2;0;0;0m██\u001b[38;2;0;0;0m██\u001b[38;2;0;0;0m██\u001b[38;2;0;0;0m██\u001b[38;2;0;0;0m██\u001b[38;2;0;0;0m██\u001b[38;2;0;0;0m██\u001b[38;2;0;0;0m██\u001b[0m\n",
       "\u001b[0m\u001b[38;2;0;0;0m██\u001b[38;2;0;0;0m██\u001b[38;2;0;0;0m██\u001b[38;2;0;0;0m██\u001b[38;2;4;4;4m██\u001b[38;2;22;22;22m██\u001b[38;2;54;54;54m██\u001b[38;2;62;62;62m██\u001b[38;2;146;146;146m██\u001b[38;2;255;255;255m██\u001b[38;2;196;196;196m██\u001b[38;2;0;0;0m██\u001b[38;2;0;0;0m██\u001b[38;2;0;0;0m██\u001b[38;2;25;25;25m██\u001b[38;2;31;31;31m██\u001b[38;2;0;0;0m██\u001b[38;2;27;27;27m██\u001b[38;2;0;0;0m██\u001b[38;2;0;0;0m██\u001b[38;2;0;0;0m██\u001b[38;2;0;0;0m██\u001b[38;2;0;0;0m██\u001b[38;2;0;0;0m██\u001b[0m\n",
       "\u001b[0m\u001b[38;2;0;0;0m██\u001b[38;2;0;0;0m██\u001b[38;2;0;0;0m██\u001b[38;2;0;0;0m██\u001b[38;2;0;0;0m██\u001b[38;2;1;1;1m██\u001b[38;2;3;3;3m██\u001b[38;2;0;0;0m██\u001b[38;2;47;47;47m██\u001b[38;2;227;227;227m██\u001b[38;2;229;229;229m██\u001b[38;2;75;75;75m██\u001b[38;2;0;0;0m██\u001b[38;2;0;0;0m██\u001b[38;2;0;0;0m██\u001b[38;2;0;0;0m██\u001b[38;2;0;0;0m██\u001b[38;2;0;0;0m██\u001b[38;2;0;0;0m██\u001b[38;2;0;0;0m██\u001b[38;2;0;0;0m██\u001b[38;2;0;0;0m██\u001b[38;2;0;0;0m██\u001b[38;2;0;0;0m██\u001b[0m\n",
       "\u001b[0m\u001b[38;2;0;0;0m██\u001b[38;2;0;0;0m██\u001b[38;2;0;0;0m██\u001b[38;2;0;0;0m██\u001b[38;2;0;0;0m██\u001b[38;2;0;0;0m██\u001b[38;2;0;0;0m██\u001b[38;2;5;5;5m██\u001b[38;2;21;21;21m██\u001b[38;2;119;119;119m██\u001b[38;2;243;243;243m██\u001b[38;2;204;204;204m██\u001b[38;2;77;77;77m██\u001b[38;2;0;0;0m██\u001b[38;2;0;0;0m██\u001b[38;2;0;0;0m██\u001b[38;2;0;0;0m██\u001b[38;2;0;0;0m██\u001b[38;2;0;0;0m██\u001b[38;2;0;0;0m██\u001b[38;2;0;0;0m██\u001b[38;2;0;0;0m██\u001b[38;2;0;0;0m██\u001b[38;2;0;0;0m██\u001b[0m\n",
       "\u001b[0m\u001b[38;2;0;0;0m██\u001b[38;2;0;0;0m██\u001b[38;2;0;0;0m██\u001b[38;2;0;0;0m██\u001b[38;2;0;0;0m██\u001b[38;2;0;0;0m██\u001b[38;2;0;0;0m██\u001b[38;2;1;1;1m██\u001b[38;2;7;7;7m██\u001b[38;2;33;33;33m██\u001b[38;2;123;123;123m██\u001b[38;2;188;188;188m██\u001b[38;2;150;150;150m██\u001b[38;2;86;86;86m██\u001b[38;2;19;19;19m██\u001b[38;2;0;0;0m██\u001b[38;2;0;0;0m██\u001b[38;2;0;0;0m██\u001b[38;2;0;0;0m██\u001b[38;2;0;0;0m██\u001b[38;2;0;0;0m██\u001b[38;2;0;0;0m██\u001b[38;2;0;0;0m██\u001b[38;2;0;0;0m██\u001b[0m\n",
       "\u001b[0m\u001b[38;2;0;0;0m██\u001b[38;2;0;0;0m██\u001b[38;2;0;0;0m██\u001b[38;2;0;0;0m██\u001b[38;2;0;0;0m██\u001b[38;2;0;0;0m██\u001b[38;2;0;0;0m██\u001b[38;2;0;0;0m██\u001b[38;2;2;2;2m██\u001b[38;2;8;8;8m██\u001b[38;2;44;44;44m██\u001b[38;2;125;125;125m██\u001b[38;2;164;164;164m██\u001b[38;2;199;199;199m██\u001b[38;2;156;156;156m██\u001b[38;2;0;0;0m██\u001b[38;2;0;0;0m██\u001b[38;2;0;0;0m██\u001b[38;2;0;0;0m██\u001b[38;2;0;0;0m██\u001b[38;2;0;0;0m██\u001b[38;2;0;0;0m██\u001b[38;2;0;0;0m██\u001b[38;2;0;0;0m██\u001b[0m\n",
       "\u001b[0m\u001b[38;2;0;0;0m██\u001b[38;2;0;0;0m██\u001b[38;2;0;0;0m██\u001b[38;2;0;0;0m██\u001b[38;2;0;0;0m██\u001b[38;2;0;0;0m██\u001b[38;2;0;0;0m██\u001b[38;2;0;0;0m██\u001b[38;2;0;0;0m██\u001b[38;2;4;4;4m██\u001b[38;2;24;24;24m██\u001b[38;2;67;67;67m██\u001b[38;2;117;117;117m██\u001b[38;2;250;250;250m██\u001b[38;2;255;255;255m██\u001b[38;2;150;150;150m██\u001b[38;2;18;18;18m██\u001b[38;2;0;0;0m██\u001b[38;2;0;0;0m██\u001b[38;2;0;0;0m██\u001b[38;2;0;0;0m██\u001b[38;2;0;0;0m██\u001b[38;2;0;0;0m██\u001b[38;2;0;0;0m██\u001b[0m\n",
       "\u001b[0m\u001b[38;2;0;0;0m██\u001b[38;2;0;0;0m██\u001b[38;2;0;0;0m██\u001b[38;2;0;0;0m██\u001b[38;2;0;0;0m██\u001b[38;2;0;0;0m██\u001b[38;2;0;0;0m██\u001b[38;2;0;0;0m██\u001b[38;2;1;1;1m██\u001b[38;2;10;10;10m██\u001b[38;2;38;38;38m██\u001b[38;2;84;84;84m██\u001b[38;2;143;143;143m██\u001b[38;2;233;233;233m██\u001b[38;2;255;255;255m██\u001b[38;2;250;250;250m██\u001b[38;2;81;81;81m██\u001b[38;2;0;0;0m██\u001b[38;2;0;0;0m██\u001b[38;2;0;0;0m██\u001b[38;2;0;0;0m██\u001b[38;2;0;0;0m██\u001b[38;2;0;0;0m██\u001b[38;2;0;0;0m██\u001b[0m\n",
       "\u001b[0m\u001b[38;2;0;0;0m██\u001b[38;2;0;0;0m██\u001b[38;2;0;0;0m██\u001b[38;2;0;0;0m██\u001b[38;2;0;0;0m██\u001b[38;2;0;0;0m██\u001b[38;2;1;1;1m██\u001b[38;2;6;6;6m██\u001b[38;2;31;31;31m██\u001b[38;2;75;75;75m██\u001b[38;2;118;118;118m██\u001b[38;2;154;154;154m██\u001b[38;2;171;171;171m██\u001b[38;2;149;149;149m██\u001b[38;2;161;161;161m██\u001b[38;2;200;200;200m██\u001b[38;2;86;86;86m██\u001b[38;2;0;0;0m██\u001b[38;2;0;0;0m██\u001b[38;2;0;0;0m██\u001b[38;2;0;0;0m██\u001b[38;2;0;0;0m██\u001b[38;2;0;0;0m██\u001b[38;2;0;0;0m██\u001b[0m\n",
       "\u001b[0m\u001b[38;2;0;0;0m██\u001b[38;2;0;0;0m██\u001b[38;2;0;0;0m██\u001b[38;2;0;0;0m██\u001b[38;2;1;1;1m██\u001b[38;2;5;5;5m██\u001b[38;2;19;19;19m██\u001b[38;2;69;69;69m██\u001b[38;2;106;106;106m██\u001b[38;2;153;153;153m██\u001b[38;2;161;161;161m██\u001b[38;2;131;131;131m██\u001b[38;2;93;93;93m██\u001b[38;2;70;70;70m██\u001b[38;2;70;70;70m██\u001b[38;2;72;72;72m██\u001b[38;2;2;2;2m██\u001b[38;2;0;0;0m██\u001b[38;2;0;0;0m██\u001b[38;2;0;0;0m██\u001b[38;2;11;11;11m██\u001b[38;2;0;0;0m██\u001b[38;2;0;0;0m██\u001b[38;2;0;0;0m██\u001b[0m\n",
       "\u001b[0m\u001b[38;2;0;0;0m██\u001b[38;2;0;0;0m██\u001b[38;2;0;0;0m██\u001b[38;2;7;7;7m██\u001b[38;2;35;35;35m██\u001b[38;2;37;37;37m██\u001b[38;2;102;102;102m██\u001b[38;2;147;147;147m██\u001b[38;2;157;157;157m██\u001b[38;2;141;141;141m██\u001b[38;2;93;93;93m██\u001b[38;2;85;85;85m██\u001b[38;2;70;70;70m██\u001b[38;2;18;18;18m██\u001b[38;2;0;0;0m██\u001b[38;2;0;0;0m██\u001b[38;2;35;35;35m██\u001b[38;2;8;8;8m██\u001b[38;2;0;0;0m██\u001b[38;2;0;0;0m██\u001b[38;2;0;0;0m██\u001b[38;2;0;0;0m██\u001b[38;2;0;0;0m██\u001b[38;2;0;0;0m██\u001b[0m\n",
       "\u001b[0m\u001b[38;2;1;1;1m██\u001b[38;2;13;13;13m██\u001b[38;2;28;28;28m██\u001b[38;2;73;73;73m██\u001b[38;2;120;120;120m██\u001b[38;2;138;138;138m██\u001b[38;2;175;175;175m██\u001b[38;2;144;144;144m██\u001b[38;2;102;102;102m██\u001b[38;2;77;77;77m██\u001b[38;2;73;73;73m██\u001b[38;2;47;47;47m██\u001b[38;2;0;0;0m██\u001b[38;2;0;0;0m██\u001b[38;2;56;56;56m██\u001b[38;2;84;84;84m██\u001b[38;2;40;40;40m██\u001b[38;2;0;0;0m██\u001b[38;2;2;2;2m██\u001b[38;2;32;32;32m██\u001b[38;2;0;0;0m██\u001b[38;2;0;0;0m██\u001b[38;2;0;0;0m██\u001b[38;2;0;0;0m██\u001b[0m\n",
       "\u001b[0m\u001b[38;2;21;21;21m██\u001b[38;2;90;90;90m██\u001b[38;2;122;122;122m██\u001b[38;2;155;155;155m██\u001b[38;2;173;173;173m██\u001b[38;2;122;122;122m██\u001b[38;2;81;81;81m██\u001b[38;2;76;76;76m██\u001b[38;2;80;80;80m██\u001b[38;2;64;64;64m██\u001b[38;2;0;0;0m██\u001b[38;2;0;0;0m██\u001b[38;2;49;49;49m██\u001b[38;2;83;83;83m██\u001b[38;2;49;49;49m██\u001b[38;2;12;12;12m██\u001b[38;2;15;15;15m██\u001b[38;2;26;26;26m██\u001b[38;2;14;14;14m██\u001b[38;2;0;0;0m██\u001b[38;2;0;0;0m██\u001b[38;2;0;0;0m██\u001b[38;2;0;0;0m██\u001b[38;2;0;0;0m██\u001b[0m\n",
       "\u001b[0m\u001b[38;2;49;49;49m██\u001b[38;2;123;123;123m██\u001b[38;2;131;131;131m██\u001b[38;2;103;103;103m██\u001b[38;2;70;70;70m██\u001b[38;2;58;58;58m██\u001b[38;2;62;62;62m██\u001b[38;2;22;22;22m██\u001b[38;2;0;0;0m██\u001b[38;2;0;0;0m██\u001b[38;2;34;34;34m██\u001b[38;2;72;72;72m██\u001b[38;2;43;43;43m██\u001b[38;2;15;15;15m██\u001b[38;2;16;16;16m██\u001b[38;2;24;24;24m██\u001b[38;2;14;14;14m██\u001b[38;2;0;0;0m██\u001b[38;2;0;0;0m██\u001b[38;2;0;0;0m██\u001b[38;2;0;0;0m██\u001b[38;2;0;0;0m██\u001b[38;2;0;0;0m██\u001b[38;2;0;0;0m██\u001b[0m\n",
       "\u001b[0m\u001b[38;2;10;10;10m██\u001b[38;2;9;9;9m██\u001b[38;2;0;0;0m██\u001b[38;2;6;6;6m██\u001b[38;2;13;13;13m██\u001b[38;2;5;5;5m██\u001b[38;2;1;1;1m██\u001b[38;2;26;26;26m██\u001b[38;2;55;55;55m██\u001b[38;2;100;100;100m██\u001b[38;2;57;57;57m██\u001b[38;2;0;0;0m██\u001b[38;2;2;2;2m██\u001b[38;2;24;24;24m██\u001b[38;2;13;13;13m██\u001b[38;2;2;2;2m██\u001b[38;2;0;0;0m██\u001b[38;2;0;0;0m██\u001b[38;2;0;0;0m██\u001b[38;2;0;0;0m██\u001b[38;2;0;0;0m██\u001b[38;2;0;0;0m██\u001b[38;2;0;0;0m██\u001b[38;2;0;0;0m██\u001b[0m\n",
       "\u001b[0m\u001b[38;2;0;0;0m██\u001b[38;2;0;0;0m██\u001b[38;2;75;75;75m██\u001b[38;2;136;136;136m██\u001b[38;2;110;110;110m██\u001b[38;2;106;106;106m██\u001b[38;2;97;97;97m██\u001b[38;2;93;93;93m██\u001b[38;2;101;101;101m██\u001b[38;2;53;53;53m██\u001b[38;2;8;8;8m██\u001b[38;2;26;26;26m██\u001b[38;2;22;22;22m██\u001b[38;2;2;2;2m██\u001b[38;2;0;0;0m██\u001b[38;2;0;0;0m██\u001b[38;2;0;0;0m██\u001b[38;2;0;0;0m██\u001b[38;2;0;0;0m██\u001b[38;2;0;0;0m██\u001b[38;2;0;0;0m██\u001b[38;2;0;0;0m██\u001b[38;2;0;0;0m██\u001b[38;2;0;0;0m██\u001b[0m"
      ]
     },
     "execution_count": 29,
     "metadata": {},
     "output_type": "execute_result"
    }
   ],
   "source": [
    "convert2image(MNIST,cnn_output[:,:,1,1])"
   ]
  },
  {
   "cell_type": "code",
   "execution_count": null,
   "metadata": {},
   "outputs": [],
   "source": []
  },
  {
   "cell_type": "code",
   "execution_count": 30,
   "metadata": {},
   "outputs": [
    {
     "data": {
      "text/plain": [
       "Conv((5, 5), 1 => 1, pad=2)  \u001b[90m# 26 parameters\u001b[39m"
      ]
     },
     "execution_count": 30,
     "metadata": {},
     "output_type": "execute_result"
    }
   ],
   "source": [
    "cnn_layer2 = Conv( (5,5) , 1 => 1 , pad = 2 ) #apply some padding"
   ]
  },
  {
   "cell_type": "code",
   "execution_count": 31,
   "metadata": {},
   "outputs": [
    {
     "data": {
      "text/plain": [
       "(100, 100, 1, 10)"
      ]
     },
     "execution_count": 31,
     "metadata": {},
     "output_type": "execute_result"
    }
   ],
   "source": [
    "cnn_output2 = cnn_layer2( x )\n",
    "size( cnn_output2 )"
   ]
  },
  {
   "cell_type": "code",
   "execution_count": 32,
   "metadata": {},
   "outputs": [
    {
     "data": {
      "text/plain": [
       "true"
      ]
     },
     "execution_count": 32,
     "metadata": {},
     "output_type": "execute_result"
    }
   ],
   "source": [
    "size( x ) == size( cnn_output2 )"
   ]
  },
  {
   "cell_type": "code",
   "execution_count": 33,
   "metadata": {},
   "outputs": [
    {
     "data": {
      "text/plain": [
       "(28, 28, 1, 3)"
      ]
     },
     "execution_count": 33,
     "metadata": {},
     "output_type": "execute_result"
    }
   ],
   "source": [
    "cnn_output = cnn_layer2(images[:,:,:,1:3])\n",
    "cnn_output |> size"
   ]
  },
  {
   "cell_type": "code",
   "execution_count": 34,
   "metadata": {},
   "outputs": [
    {
     "data": {
      "image/png": "[encoded data removed]",
      "text/html": [
       "<img src=\"data:image/png;base64,iVBORw0KGgoAAAANSUhEUgAAAHAAAABwCAAAAADji6uXAAAABGdBTUEAALGPC/xhBQAAAAFzUkdCAK7OHOkAAAAgY0hSTQAAeiYAAICEAAD6AAAAgOgAAHUwAADqYAAAOpgAABdwnLpRPAAAAjZJREFUaAW9wUFulAUABtAHfk0qaIuYQJSFsHHpxoXewY1HcOElPIF3IB7CxAtoWKgbNSRuXKiJKG0Tywy0TaXt4OJvMpnMTDst5HsvyqIsyqIsyqIsyqIsyqIsyqIsXoF3DB4b3MEnGOMHbOPQIMqiLMrikm4bbOI3U9cxwX2LRVmURVms4E2sYYKRwbbBtln72DfrNZwYRFmURVkssIYjU89czjoOcWIqyqIsymKBE7yNf827gtvYstzr+BBH+NGsKIuyKIsFruF9/IVHZr3AlrMFuxiZF2VRFmWxwB6+N7WGI8u9hQnGBif4E/+ZF2VRFmWxgo/xwHKf4Wd8a3BguSiLsiiLFTwwaxNjgzfwE/asJsqiLMriEsamruAXg2s4xMRyURZlURYX9IHBQ4NnBjcM1nCEicWiLMqiLC7oIb7Ae/jG1Ajv4jHW8NxiURZlURaX8CU+N+8fg+cIjs2LsiiLsrikr3APd7GDX806tliURVmUxUv4A49whODY1DoOzYuyKIuyuKB1rGNkcGRwHWNThxaLsiiLsriAW9jBoXljrOMjfGe5KIuyKItzbOAmnmDHcnfxKe47W5RFWZTFEjdwE7/jqfMd4GscOFuURVmUxRIjjKxmEwfYcb4oi7Ioi1N3sIFt7FrNBl5gbHVRFmVRFqeeGOw62w0cYw9PXVyURVmUxal1/G3qKiZm3cM+Ri4vyqIsyuLUrlkTU1dxCwfY8XKiLMqiLFYwwZZXI8qiLMr+B5Y0bIL7UyNYAAAAAElFTkSuQmCC\">"
      ],
      "text/plain": [
       "\u001b[0m\u001b[38;2;0;0;0m██\u001b[38;2;0;0;0m██\u001b[38;2;0;0;0m██\u001b[38;2;0;0;0m██\u001b[38;2;0;0;0m██\u001b[38;2;0;0;0m██\u001b[38;2;0;0;0m██\u001b[38;2;0;0;0m██\u001b[38;2;0;0;0m██\u001b[38;2;0;0;0m██\u001b[38;2;0;0;0m██\u001b[38;2;0;0;0m██\u001b[38;2;0;0;0m██\u001b[38;2;0;0;0m██\u001b[38;2;0;0;0m██\u001b[38;2;0;0;0m██\u001b[38;2;0;0;0m██\u001b[38;2;0;0;0m██\u001b[38;2;0;0;0m██\u001b[38;2;0;0;0m██\u001b[38;2;0;0;0m██\u001b[38;2;0;0;0m██\u001b[38;2;0;0;0m██\u001b[38;2;0;0;0m██\u001b[38;2;0;0;0m██\u001b[38;2;0;0;0m██\u001b[38;2;0;0;0m██\u001b[38;2;0;0;0m██\u001b[0m\n",
       "\u001b[0m\u001b[38;2;0;0;0m██\u001b[38;2;0;0;0m██\u001b[38;2;0;0;0m██\u001b[38;2;0;0;0m██\u001b[38;2;0;0;0m██\u001b[38;2;0;0;0m██\u001b[38;2;0;0;0m██\u001b[38;2;0;0;0m██\u001b[38;2;0;0;0m██\u001b[38;2;0;0;0m██\u001b[38;2;0;0;0m██\u001b[38;2;0;0;0m██\u001b[38;2;0;0;0m██\u001b[38;2;0;0;0m██\u001b[38;2;0;0;0m██\u001b[38;2;0;0;0m██\u001b[38;2;0;0;0m██\u001b[38;2;0;0;0m██\u001b[38;2;0;0;0m██\u001b[38;2;0;0;0m██\u001b[38;2;0;0;0m██\u001b[38;2;0;0;0m██\u001b[38;2;0;0;0m██\u001b[38;2;0;0;0m██\u001b[38;2;0;0;0m██\u001b[38;2;0;0;0m██\u001b[38;2;0;0;0m██\u001b[38;2;0;0;0m██\u001b[0m\n",
       "\u001b[0m\u001b[38;2;0;0;0m██\u001b[38;2;0;0;0m██\u001b[38;2;0;0;0m██\u001b[38;2;0;0;0m██\u001b[38;2;0;0;0m██\u001b[38;2;0;0;0m██\u001b[38;2;0;0;0m██\u001b[38;2;0;0;0m██\u001b[38;2;0;0;0m██\u001b[38;2;0;0;0m██\u001b[38;2;0;0;0m██\u001b[38;2;0;0;0m██\u001b[38;2;0;0;0m██\u001b[38;2;0;0;0m██\u001b[38;2;0;0;0m██\u001b[38;2;0;0;0m██\u001b[38;2;0;0;0m██\u001b[38;2;0;0;0m██\u001b[38;2;0;0;0m██\u001b[38;2;0;0;0m██\u001b[38;2;0;0;0m██\u001b[38;2;0;0;0m██\u001b[38;2;0;0;0m██\u001b[38;2;0;0;0m██\u001b[38;2;0;0;0m██\u001b[38;2;0;0;0m██\u001b[38;2;0;0;0m██\u001b[38;2;0;0;0m██\u001b[0m\n",
       "\u001b[0m\u001b[38;2;0;0;0m██\u001b[38;2;0;0;0m██\u001b[38;2;0;0;0m██\u001b[38;2;0;0;0m██\u001b[38;2;0;0;0m██\u001b[38;2;0;0;0m██\u001b[38;2;0;0;0m██\u001b[38;2;0;0;0m██\u001b[38;2;0;0;0m██\u001b[38;2;0;0;0m██\u001b[38;2;0;0;0m██\u001b[38;2;0;0;0m██\u001b[38;2;0;0;0m██\u001b[38;2;0;0;0m██\u001b[38;2;0;0;0m██\u001b[38;2;0;0;0m██\u001b[38;2;0;0;0m██\u001b[38;2;25;25;25m██\u001b[38;2;25;25;25m██\u001b[38;2;0;0;0m██\u001b[38;2;0;0;0m██\u001b[38;2;27;27;27m██\u001b[38;2;102;102;102m██\u001b[38;2;87;87;87m██\u001b[38;2;31;31;31m██\u001b[38;2;8;8;8m██\u001b[38;2;0;0;0m██\u001b[38;2;0;0;0m██\u001b[0m\n",
       "\u001b[0m\u001b[38;2;0;0;0m██\u001b[38;2;0;0;0m██\u001b[38;2;0;0;0m██\u001b[38;2;0;0;0m██\u001b[38;2;0;0;0m██\u001b[38;2;0;0;0m██\u001b[38;2;0;0;0m██\u001b[38;2;0;0;0m██\u001b[38;2;0;0;0m██\u001b[38;2;0;0;0m██\u001b[38;2;0;0;0m██\u001b[38;2;0;0;0m██\u001b[38;2;0;0;0m██\u001b[38;2;0;0;0m██\u001b[38;2;23;23;23m██\u001b[38;2;23;23;23m██\u001b[38;2;38;38;38m██\u001b[38;2;0;0;0m██\u001b[38;2;0;0;0m██\u001b[38;2;0;0;0m██\u001b[38;2;11;11;11m██\u001b[38;2;25;25;25m██\u001b[38;2;0;0;0m██\u001b[38;2;0;0;0m██\u001b[38;2;0;0;0m██\u001b[38;2;0;0;0m██\u001b[38;2;0;0;0m██\u001b[38;2;0;0;0m██\u001b[0m\n",
       "\u001b[0m\u001b[38;2;0;0;0m██\u001b[38;2;0;0;0m██\u001b[38;2;0;0;0m██\u001b[38;2;0;0;0m██\u001b[38;2;0;0;0m██\u001b[38;2;0;0;0m██\u001b[38;2;0;0;0m██\u001b[38;2;0;0;0m██\u001b[38;2;0;0;0m██\u001b[38;2;13;13;13m██\u001b[38;2;18;18;18m██\u001b[38;2;16;16;16m██\u001b[38;2;0;0;0m██\u001b[38;2;0;0;0m██\u001b[38;2;0;0;0m██\u001b[38;2;0;0;0m██\u001b[38;2;0;0;0m██\u001b[38;2;0;0;0m██\u001b[38;2;0;0;0m██\u001b[38;2;0;0;0m██\u001b[38;2;0;0;0m██\u001b[38;2;0;0;0m██\u001b[38;2;0;0;0m██\u001b[38;2;0;0;0m██\u001b[38;2;0;0;0m██\u001b[38;2;3;3;3m██\u001b[38;2;0;0;0m██\u001b[38;2;0;0;0m██\u001b[0m\n",
       "\u001b[0m\u001b[38;2;0;0;0m██\u001b[38;2;0;0;0m██\u001b[38;2;0;0;0m██\u001b[38;2;0;0;0m██\u001b[38;2;0;0;0m██\u001b[38;2;5;5;5m██\u001b[38;2;0;0;0m██\u001b[38;2;0;0;0m██\u001b[38;2;0;0;0m██\u001b[38;2;0;0;0m██\u001b[38;2;0;0;0m██\u001b[38;2;0;0;0m██\u001b[38;2;0;0;0m██\u001b[38;2;0;0;0m██\u001b[38;2;0;0;0m██\u001b[38;2;0;0;0m██\u001b[38;2;0;0;0m██\u001b[38;2;0;0;0m██\u001b[38;2;0;0;0m██\u001b[38;2;0;0;0m██\u001b[38;2;0;0;0m██\u001b[38;2;0;0;0m██\u001b[38;2;0;0;0m██\u001b[38;2;8;8;8m██\u001b[38;2;0;0;0m██\u001b[38;2;0;0;0m██\u001b[38;2;0;0;0m██\u001b[38;2;0;0;0m██\u001b[0m\n",
       "\u001b[0m\u001b[38;2;0;0;0m██\u001b[38;2;0;0;0m██\u001b[38;2;0;0;0m██\u001b[38;2;0;0;0m██\u001b[38;2;0;0;0m██\u001b[38;2;2;2;2m██\u001b[38;2;19;19;19m██\u001b[38;2;0;0;0m██\u001b[38;2;0;0;0m██\u001b[38;2;0;0;0m██\u001b[38;2;0;0;0m██\u001b[38;2;0;0;0m██\u001b[38;2;1;1;1m██\u001b[38;2;24;24;24m██\u001b[38;2;0;0;0m██\u001b[38;2;0;0;0m██\u001b[38;2;0;0;0m██\u001b[38;2;0;0;0m██\u001b[38;2;0;0;0m██\u001b[38;2;0;0;0m██\u001b[38;2;0;0;0m██\u001b[38;2;9;9;9m██\u001b[38;2;60;60;60m██\u001b[38;2;55;55;55m██\u001b[38;2;0;0;0m██\u001b[38;2;0;0;0m██\u001b[38;2;0;0;0m██\u001b[38;2;0;0;0m██\u001b[0m\n",
       "\u001b[0m\u001b[38;2;0;0;0m██\u001b[38;2;0;0;0m██\u001b[38;2;0;0;0m██\u001b[38;2;0;0;0m██\u001b[38;2;0;0;0m██\u001b[38;2;12;12;12m██\u001b[38;2;57;57;57m██\u001b[38;2;28;28;28m██\u001b[38;2;0;0;0m██\u001b[38;2;0;0;0m██\u001b[38;2;0;0;0m██\u001b[38;2;0;0;0m██\u001b[38;2;0;0;0m██\u001b[38;2;0;0;0m██\u001b[38;2;0;0;0m██\u001b[38;2;0;0;0m██\u001b[38;2;0;0;0m██\u001b[38;2;0;0;0m██\u001b[38;2;0;0;0m██\u001b[38;2;0;0;0m██\u001b[38;2;0;0;0m██\u001b[38;2;13;13;13m██\u001b[38;2;42;42;42m██\u001b[38;2;26;26;26m██\u001b[38;2;0;0;0m██\u001b[38;2;0;0;0m██\u001b[38;2;0;0;0m██\u001b[38;2;0;0;0m██\u001b[0m\n",
       "\u001b[0m\u001b[38;2;0;0;0m██\u001b[38;2;0;0;0m██\u001b[38;2;0;0;0m██\u001b[38;2;0;0;0m██\u001b[38;2;0;0;0m██\u001b[38;2;0;0;0m██\u001b[38;2;0;0;0m██\u001b[38;2;0;0;0m██\u001b[38;2;0;0;0m██\u001b[38;2;5;5;5m██\u001b[38;2;0;0;0m██\u001b[38;2;0;0;0m██\u001b[38;2;0;0;0m██\u001b[38;2;0;0;0m██\u001b[38;2;0;0;0m██\u001b[38;2;0;0;0m██\u001b[38;2;0;0;0m██\u001b[38;2;17;17;17m██\u001b[38;2;15;15;15m██\u001b[38;2;0;0;0m██\u001b[38;2;0;0;0m██\u001b[38;2;10;10;10m██\u001b[38;2;10;10;10m██\u001b[38;2;3;3;3m██\u001b[38;2;0;0;0m██\u001b[38;2;0;0;0m██\u001b[38;2;0;0;0m██\u001b[38;2;0;0;0m██\u001b[0m\n",
       "\u001b[0m\u001b[38;2;0;0;0m██\u001b[38;2;0;0;0m██\u001b[38;2;0;0;0m██\u001b[38;2;0;0;0m██\u001b[38;2;0;0;0m██\u001b[38;2;0;0;0m██\u001b[38;2;0;0;0m██\u001b[38;2;0;0;0m██\u001b[38;2;0;0;0m██\u001b[38;2;61;61;61m██\u001b[38;2;0;0;0m██\u001b[38;2;0;0;0m██\u001b[38;2;0;0;0m██\u001b[38;2;0;0;0m██\u001b[38;2;0;0;0m██\u001b[38;2;0;0;0m██\u001b[38;2;0;0;0m██\u001b[38;2;113;113;113m██\u001b[38;2;64;64;64m██\u001b[38;2;0;0;0m██\u001b[38;2;0;0;0m██\u001b[38;2;0;0;0m██\u001b[38;2;0;0;0m██\u001b[38;2;0;0;0m██\u001b[38;2;0;0;0m██\u001b[38;2;0;0;0m██\u001b[38;2;0;0;0m██\u001b[38;2;0;0;0m██\u001b[0m\n",
       "\u001b[0m\u001b[38;2;0;0;0m██\u001b[38;2;0;0;0m██\u001b[38;2;0;0;0m██\u001b[38;2;0;0;0m██\u001b[38;2;0;0;0m██\u001b[38;2;0;0;0m██\u001b[38;2;0;0;0m██\u001b[38;2;0;0;0m██\u001b[38;2;0;0;0m██\u001b[38;2;0;0;0m██\u001b[38;2;0;0;0m██\u001b[38;2;0;0;0m██\u001b[38;2;0;0;0m██\u001b[38;2;15;15;15m██\u001b[38;2;0;0;0m██\u001b[38;2;0;0;0m██\u001b[38;2;12;12;12m██\u001b[38;2;63;63;63m██\u001b[38;2;51;51;51m██\u001b[38;2;0;0;0m██\u001b[38;2;0;0;0m██\u001b[38;2;0;0;0m██\u001b[38;2;0;0;0m██\u001b[38;2;0;0;0m██\u001b[38;2;0;0;0m██\u001b[38;2;0;0;0m██\u001b[38;2;0;0;0m██\u001b[38;2;0;0;0m██\u001b[0m\n",
       "\u001b[0m\u001b[38;2;0;0;0m██\u001b[38;2;0;0;0m██\u001b[38;2;0;0;0m██\u001b[38;2;0;0;0m██\u001b[38;2;0;0;0m██\u001b[38;2;0;0;0m██\u001b[38;2;0;0;0m██\u001b[38;2;0;0;0m██\u001b[38;2;0;0;0m██\u001b[38;2;0;0;0m██\u001b[38;2;0;0;0m██\u001b[38;2;0;0;0m██\u001b[38;2;0;0;0m██\u001b[38;2;0;0;0m██\u001b[38;2;0;0;0m██\u001b[38;2;0;0;0m██\u001b[38;2;13;13;13m██\u001b[38;2;15;15;15m██\u001b[38;2;15;15;15m██\u001b[38;2;10;10;10m██\u001b[38;2;2;2;2m██\u001b[38;2;0;0;0m██\u001b[38;2;0;0;0m██\u001b[38;2;0;0;0m██\u001b[38;2;0;0;0m██\u001b[38;2;0;0;0m██\u001b[38;2;0;0;0m██\u001b[38;2;0;0;0m██\u001b[0m\n",
       "\u001b[0m\u001b[38;2;0;0;0m██\u001b[38;2;0;0;0m██\u001b[38;2;0;0;0m██\u001b[38;2;0;0;0m██\u001b[38;2;0;0;0m██\u001b[38;2;0;0;0m██\u001b[38;2;0;0;0m██\u001b[38;2;0;0;0m██\u001b[38;2;0;0;0m██\u001b[38;2;0;0;0m██\u001b[38;2;0;0;0m██\u001b[38;2;0;0;0m██\u001b[38;2;46;46;46m██\u001b[38;2;46;46;46m██\u001b[38;2;0;0;0m██\u001b[38;2;0;0;0m██\u001b[38;2;0;0;0m██\u001b[38;2;0;0;0m██\u001b[38;2;16;16;16m██\u001b[38;2;10;10;10m██\u001b[38;2;7;7;7m██\u001b[38;2;2;2;2m██\u001b[38;2;0;0;0m██\u001b[38;2;0;0;0m██\u001b[38;2;0;0;0m██\u001b[38;2;0;0;0m██\u001b[38;2;0;0;0m██\u001b[38;2;0;0;0m██\u001b[0m\n",
       "\u001b[0m\u001b[38;2;0;0;0m██\u001b[38;2;0;0;0m██\u001b[38;2;0;0;0m██\u001b[38;2;0;0;0m██\u001b[38;2;0;0;0m██\u001b[38;2;0;0;0m██\u001b[38;2;0;0;0m██\u001b[38;2;0;0;0m██\u001b[38;2;0;0;0m██\u001b[38;2;0;0;0m██\u001b[38;2;0;0;0m██\u001b[38;2;0;0;0m██\u001b[38;2;0;0;0m██\u001b[38;2;121;121;121m██\u001b[38;2;77;77;77m██\u001b[38;2;0;0;0m██\u001b[38;2;0;0;0m██\u001b[38;2;0;0;0m██\u001b[38;2;0;0;0m██\u001b[38;2;26;26;26m██\u001b[38;2;1;1;1m██\u001b[38;2;6;6;6m██\u001b[38;2;0;0;0m██\u001b[38;2;0;0;0m██\u001b[38;2;0;0;0m██\u001b[38;2;0;0;0m██\u001b[38;2;0;0;0m██\u001b[38;2;0;0;0m██\u001b[0m\n",
       "\u001b[0m\u001b[38;2;0;0;0m██\u001b[38;2;0;0;0m██\u001b[38;2;0;0;0m██\u001b[38;2;0;0;0m██\u001b[38;2;0;0;0m██\u001b[38;2;0;0;0m██\u001b[38;2;0;0;0m██\u001b[38;2;0;0;0m██\u001b[38;2;0;0;0m██\u001b[38;2;0;0;0m██\u001b[38;2;0;0;0m██\u001b[38;2;0;0;0m██\u001b[38;2;0;0;0m██\u001b[38;2;0;0;0m██\u001b[38;2;100;100;100m██\u001b[38;2;0;0;0m██\u001b[38;2;0;0;0m██\u001b[38;2;0;0;0m██\u001b[38;2;0;0;0m██\u001b[38;2;0;0;0m██\u001b[38;2;0;0;0m██\u001b[38;2;0;0;0m██\u001b[38;2;4;4;4m██\u001b[38;2;0;0;0m██\u001b[38;2;0;0;0m██\u001b[38;2;0;0;0m██\u001b[38;2;0;0;0m██\u001b[38;2;0;0;0m██\u001b[0m\n",
       "\u001b[0m\u001b[38;2;0;0;0m██\u001b[38;2;0;0;0m██\u001b[38;2;0;0;0m██\u001b[38;2;0;0;0m██\u001b[38;2;0;0;0m██\u001b[38;2;0;0;0m██\u001b[38;2;0;0;0m██\u001b[38;2;0;0;0m██\u001b[38;2;0;0;0m██\u001b[38;2;0;0;0m██\u001b[38;2;0;0;0m██\u001b[38;2;0;0;0m██\u001b[38;2;0;0;0m██\u001b[38;2;0;0;0m██\u001b[38;2;0;0;0m██\u001b[38;2;33;33;33m██\u001b[38;2;65;65;65m██\u001b[38;2;43;43;43m██\u001b[38;2;0;0;0m██\u001b[38;2;0;0;0m██\u001b[38;2;0;0;0m██\u001b[38;2;0;0;0m██\u001b[38;2;0;0;0m██\u001b[38;2;0;0;0m██\u001b[38;2;0;0;0m██\u001b[38;2;0;0;0m██\u001b[38;2;0;0;0m██\u001b[38;2;0;0;0m██\u001b[0m\n",
       "\u001b[0m\u001b[38;2;0;0;0m██\u001b[38;2;0;0;0m██\u001b[38;2;0;0;0m██\u001b[38;2;0;0;0m██\u001b[38;2;0;0;0m██\u001b[38;2;0;0;0m██\u001b[38;2;0;0;0m██\u001b[38;2;0;0;0m██\u001b[38;2;0;0;0m██\u001b[38;2;0;0;0m██\u001b[38;2;0;0;0m██\u001b[38;2;0;0;0m██\u001b[38;2;0;0;0m██\u001b[38;2;0;0;0m██\u001b[38;2;0;0;0m██\u001b[38;2;0;0;0m██\u001b[38;2;5;5;5m██\u001b[38;2;0;0;0m██\u001b[38;2;4;4;4m██\u001b[38;2;0;0;0m██\u001b[38;2;0;0;0m██\u001b[38;2;0;0;0m██\u001b[38;2;8;8;8m██\u001b[38;2;0;0;0m██\u001b[38;2;0;0;0m██\u001b[38;2;0;0;0m██\u001b[38;2;0;0;0m██\u001b[38;2;0;0;0m██\u001b[0m\n",
       "\u001b[0m\u001b[38;2;0;0;0m██\u001b[38;2;0;0;0m██\u001b[38;2;0;0;0m██\u001b[38;2;0;0;0m██\u001b[38;2;0;0;0m██\u001b[38;2;0;0;0m██\u001b[38;2;0;0;0m██\u001b[38;2;0;0;0m██\u001b[38;2;0;0;0m██\u001b[38;2;0;0;0m██\u001b[38;2;0;0;0m██\u001b[38;2;0;0;0m██\u001b[38;2;8;8;8m██\u001b[38;2;16;16;16m██\u001b[38;2;0;0;0m██\u001b[38;2;0;0;0m██\u001b[38;2;0;0;0m██\u001b[38;2;0;0;0m██\u001b[38;2;15;15;15m██\u001b[38;2;0;0;0m██\u001b[38;2;0;0;0m██\u001b[38;2;0;0;0m██\u001b[38;2;0;0;0m██\u001b[38;2;0;0;0m██\u001b[38;2;0;0;0m██\u001b[38;2;0;0;0m██\u001b[38;2;0;0;0m██\u001b[38;2;0;0;0m██\u001b[0m\n",
       "\u001b[0m\u001b[38;2;0;0;0m██\u001b[38;2;0;0;0m██\u001b[38;2;0;0;0m██\u001b[38;2;0;0;0m██\u001b[38;2;0;0;0m██\u001b[38;2;0;0;0m██\u001b[38;2;0;0;0m██\u001b[38;2;0;0;0m██\u001b[38;2;0;0;0m██\u001b[38;2;0;0;0m██\u001b[38;2;0;0;0m██\u001b[38;2;22;22;22m██\u001b[38;2;0;0;0m██\u001b[38;2;0;0;0m██\u001b[38;2;0;0;0m██\u001b[38;2;0;0;0m██\u001b[38;2;0;0;0m██\u001b[38;2;0;0;0m██\u001b[38;2;0;0;0m██\u001b[38;2;8;8;8m██\u001b[38;2;63;63;63m██\u001b[38;2;0;0;0m██\u001b[38;2;0;0;0m██\u001b[38;2;0;0;0m██\u001b[38;2;0;0;0m██\u001b[38;2;0;0;0m██\u001b[38;2;0;0;0m██\u001b[38;2;0;0;0m██\u001b[0m\n",
       "\u001b[0m\u001b[38;2;0;0;0m██\u001b[38;2;0;0;0m██\u001b[38;2;0;0;0m██\u001b[38;2;0;0;0m██\u001b[38;2;0;0;0m██\u001b[38;2;0;0;0m██\u001b[38;2;0;0;0m██\u001b[38;2;0;0;0m██\u001b[38;2;14;14;14m██\u001b[38;2;32;32;32m██\u001b[38;2;15;15;15m██\u001b[38;2;0;0;0m██\u001b[38;2;0;0;0m██\u001b[38;2;0;0;0m██\u001b[38;2;0;0;0m██\u001b[38;2;0;0;0m██\u001b[38;2;0;0;0m██\u001b[38;2;0;0;0m██\u001b[38;2;32;32;32m██\u001b[38;2;112;112;112m██\u001b[38;2;10;10;10m██\u001b[38;2;0;0;0m██\u001b[38;2;0;0;0m██\u001b[38;2;0;0;0m██\u001b[38;2;0;0;0m██\u001b[38;2;0;0;0m██\u001b[38;2;0;0;0m██\u001b[38;2;0;0;0m██\u001b[0m\n",
       "\u001b[0m\u001b[38;2;0;0;0m██\u001b[38;2;0;0;0m██\u001b[38;2;0;0;0m██\u001b[38;2;0;0;0m██\u001b[38;2;0;0;0m██\u001b[38;2;0;0;0m██\u001b[38;2;16;16;16m██\u001b[38;2;34;34;34m██\u001b[38;2;0;0;0m██\u001b[38;2;0;0;0m██\u001b[38;2;0;0;0m██\u001b[38;2;0;0;0m██\u001b[38;2;0;0;0m██\u001b[38;2;0;0;0m██\u001b[38;2;0;0;0m██\u001b[38;2;0;0;0m██\u001b[38;2;0;0;0m██\u001b[38;2;0;0;0m██\u001b[38;2;22;22;22m██\u001b[38;2;32;32;32m██\u001b[38;2;0;0;0m██\u001b[38;2;0;0;0m██\u001b[38;2;0;0;0m██\u001b[38;2;0;0;0m██\u001b[38;2;0;0;0m██\u001b[38;2;0;0;0m██\u001b[38;2;0;0;0m██\u001b[38;2;0;0;0m██\u001b[0m\n",
       "\u001b[0m\u001b[38;2;0;0;0m██\u001b[38;2;0;0;0m██\u001b[38;2;0;0;0m██\u001b[38;2;0;0;0m██\u001b[38;2;0;0;0m██\u001b[38;2;0;0;0m██\u001b[38;2;0;0;0m██\u001b[38;2;0;0;0m██\u001b[38;2;0;0;0m██\u001b[38;2;0;0;0m██\u001b[38;2;0;0;0m██\u001b[38;2;0;0;0m██\u001b[38;2;0;0;0m██\u001b[38;2;0;0;0m██\u001b[38;2;0;0;0m██\u001b[38;2;0;0;0m██\u001b[38;2;0;0;0m██\u001b[38;2;15;15;15m██\u001b[38;2;12;12;12m██\u001b[38;2;0;0;0m██\u001b[38;2;0;0;0m██\u001b[38;2;0;0;0m██\u001b[38;2;0;0;0m██\u001b[38;2;0;0;0m██\u001b[38;2;0;0;0m██\u001b[38;2;0;0;0m██\u001b[38;2;0;0;0m██\u001b[38;2;0;0;0m██\u001b[0m\n",
       "\u001b[0m\u001b[38;2;0;0;0m██\u001b[38;2;0;0;0m██\u001b[38;2;27;27;27m██\u001b[38;2;41;41;41m██\u001b[38;2;18;18;18m██\u001b[38;2;0;0;0m██\u001b[38;2;0;0;0m██\u001b[38;2;0;0;0m██\u001b[38;2;0;0;0m██\u001b[38;2;0;0;0m██\u001b[38;2;0;0;0m██\u001b[38;2;0;0;0m██\u001b[38;2;0;0;0m██\u001b[38;2;0;0;0m██\u001b[38;2;0;0;0m██\u001b[38;2;14;14;14m██\u001b[38;2;13;13;13m██\u001b[38;2;0;0;0m██\u001b[38;2;0;0;0m██\u001b[38;2;0;0;0m██\u001b[38;2;0;0;0m██\u001b[38;2;0;0;0m██\u001b[38;2;0;0;0m██\u001b[38;2;0;0;0m██\u001b[38;2;0;0;0m██\u001b[38;2;0;0;0m██\u001b[38;2;0;0;0m██\u001b[38;2;0;0;0m██\u001b[0m\n",
       "\u001b[0m\u001b[38;2;0;0;0m██\u001b[38;2;0;0;0m██\u001b[38;2;10;10;10m██\u001b[38;2;27;27;27m██\u001b[38;2;0;0;0m██\u001b[38;2;0;0;0m██\u001b[38;2;0;0;0m██\u001b[38;2;0;0;0m██\u001b[38;2;0;0;0m██\u001b[38;2;0;0;0m██\u001b[38;2;0;0;0m██\u001b[38;2;0;0;0m██\u001b[38;2;16;16;16m██\u001b[38;2;12;12;12m██\u001b[38;2;0;0;0m██\u001b[38;2;0;0;0m██\u001b[38;2;0;0;0m██\u001b[38;2;0;0;0m██\u001b[38;2;0;0;0m██\u001b[38;2;0;0;0m██\u001b[38;2;0;0;0m██\u001b[38;2;0;0;0m██\u001b[38;2;0;0;0m██\u001b[38;2;0;0;0m██\u001b[38;2;0;0;0m██\u001b[38;2;0;0;0m██\u001b[38;2;0;0;0m██\u001b[38;2;0;0;0m██\u001b[0m\n",
       "\u001b[0m\u001b[38;2;0;0;0m██\u001b[38;2;0;0;0m██\u001b[38;2;18;18;18m██\u001b[38;2;0;0;0m██\u001b[38;2;0;0;0m██\u001b[38;2;0;0;0m██\u001b[38;2;2;2;2m██\u001b[38;2;0;0;0m██\u001b[38;2;0;0;0m██\u001b[38;2;0;0;0m██\u001b[38;2;0;0;0m██\u001b[38;2;33;33;33m██\u001b[38;2;22;22;22m██\u001b[38;2;0;0;0m██\u001b[38;2;0;0;0m██\u001b[38;2;0;0;0m██\u001b[38;2;0;0;0m██\u001b[38;2;0;0;0m██\u001b[38;2;0;0;0m██\u001b[38;2;0;0;0m██\u001b[38;2;0;0;0m██\u001b[38;2;0;0;0m██\u001b[38;2;0;0;0m██\u001b[38;2;0;0;0m██\u001b[38;2;0;0;0m██\u001b[38;2;0;0;0m██\u001b[38;2;0;0;0m██\u001b[38;2;0;0;0m██\u001b[0m\n",
       "\u001b[0m\u001b[38;2;0;0;0m██\u001b[38;2;0;0;0m██\u001b[38;2;0;0;0m██\u001b[38;2;0;0;0m██\u001b[38;2;0;0;0m██\u001b[38;2;0;0;0m██\u001b[38;2;0;0;0m██\u001b[38;2;0;0;0m██\u001b[38;2;0;0;0m██\u001b[38;2;2;2;2m██\u001b[38;2;24;24;24m██\u001b[38;2;23;23;23m██\u001b[38;2;0;0;0m██\u001b[38;2;0;0;0m██\u001b[38;2;0;0;0m██\u001b[38;2;0;0;0m██\u001b[38;2;0;0;0m██\u001b[38;2;0;0;0m██\u001b[38;2;0;0;0m██\u001b[38;2;0;0;0m██\u001b[38;2;0;0;0m██\u001b[38;2;0;0;0m██\u001b[38;2;0;0;0m██\u001b[38;2;0;0;0m██\u001b[38;2;0;0;0m██\u001b[38;2;0;0;0m██\u001b[38;2;0;0;0m██\u001b[38;2;0;0;0m██\u001b[0m\n",
       "\u001b[0m\u001b[38;2;0;0;0m██\u001b[38;2;0;0;0m██\u001b[38;2;0;0;0m██\u001b[38;2;0;0;0m██\u001b[38;2;0;0;0m██\u001b[38;2;0;0;0m██\u001b[38;2;0;0;0m██\u001b[38;2;0;0;0m██\u001b[38;2;0;0;0m██\u001b[38;2;0;0;0m██\u001b[38;2;0;0;0m██\u001b[38;2;0;0;0m██\u001b[38;2;0;0;0m██\u001b[38;2;0;0;0m██\u001b[38;2;0;0;0m██\u001b[38;2;0;0;0m██\u001b[38;2;0;0;0m██\u001b[38;2;0;0;0m██\u001b[38;2;0;0;0m██\u001b[38;2;0;0;0m██\u001b[38;2;0;0;0m██\u001b[38;2;0;0;0m██\u001b[38;2;0;0;0m██\u001b[38;2;0;0;0m██\u001b[38;2;0;0;0m██\u001b[38;2;0;0;0m██\u001b[38;2;0;0;0m██\u001b[38;2;0;0;0m██\u001b[0m"
      ]
     },
     "execution_count": 34,
     "metadata": {},
     "output_type": "execute_result"
    }
   ],
   "source": [
    "convert2image(MNIST,cnn_output[:,:,1,1])"
   ]
  },
  {
   "cell_type": "code",
   "execution_count": null,
   "metadata": {},
   "outputs": [],
   "source": []
  },
  {
   "cell_type": "code",
   "execution_count": null,
   "metadata": {},
   "outputs": [],
   "source": []
  },
  {
   "cell_type": "code",
   "execution_count": null,
   "metadata": {},
   "outputs": [],
   "source": []
  },
  {
   "cell_type": "markdown",
   "metadata": {},
   "source": [
    "#### <span style=\"color:orange\"> try SamePad() </span>"
   ]
  },
  {
   "cell_type": "code",
   "execution_count": 35,
   "metadata": {},
   "outputs": [
    {
     "data": {
      "text/plain": [
       "Conv((5, 5), 1 => 1, pad=2)  \u001b[90m# 26 parameters\u001b[39m"
      ]
     },
     "execution_count": 35,
     "metadata": {},
     "output_type": "execute_result"
    }
   ],
   "source": [
    "cnn_layer3 = Conv( (5,5) , 1 => 1 , pad = SamePad() ) #apply some padding using the SamePad() function helper"
   ]
  },
  {
   "cell_type": "code",
   "execution_count": 36,
   "metadata": {},
   "outputs": [
    {
     "data": {
      "text/plain": [
       "(100, 100, 1, 10)"
      ]
     },
     "execution_count": 36,
     "metadata": {},
     "output_type": "execute_result"
    }
   ],
   "source": [
    "cnn_output3 = cnn_layer3( x )\n",
    "size( cnn_output3 )"
   ]
  },
  {
   "cell_type": "code",
   "execution_count": 37,
   "metadata": {},
   "outputs": [
    {
     "data": {
      "text/plain": [
       "true"
      ]
     },
     "execution_count": 37,
     "metadata": {},
     "output_type": "execute_result"
    }
   ],
   "source": [
    "size( x ) == size( cnn_output3 )"
   ]
  },
  {
   "cell_type": "markdown",
   "metadata": {},
   "source": [
    "<span style=\"color:orange\"> What happens to the size on repeated applications of a filter </span>"
   ]
  },
  {
   "cell_type": "code",
   "execution_count": 43,
   "metadata": {},
   "outputs": [],
   "source": [
    "x = rand(Float32, 100, 100, 1, 10); #batch of monochrome images"
   ]
  },
  {
   "cell_type": "code",
   "execution_count": 44,
   "metadata": {},
   "outputs": [
    {
     "data": {
      "text/plain": [
       "Chain(\n",
       "  Conv((5, 5), 1 => 3),                 \u001b[90m# 78 parameters\u001b[39m\n",
       "  Conv((5, 5), 3 => 5),                 \u001b[90m# 380 parameters\u001b[39m\n",
       "  Conv((5, 5), 5 => 1),                 \u001b[90m# 126 parameters\u001b[39m\n",
       ") \u001b[90m                  # Total: 6 arrays, \u001b[39m584 parameters, 3.336 KiB."
      ]
     },
     "execution_count": 44,
     "metadata": {},
     "output_type": "execute_result"
    }
   ],
   "source": [
    "cnn_layer = Chain( Conv( (5,5) , 1=>3 ) , Conv( (5,5) , 3=>5 ) , Conv( (5,5) , 5=>1 ) ) "
   ]
  },
  {
   "cell_type": "code",
   "execution_count": 45,
   "metadata": {},
   "outputs": [
    {
     "data": {
      "text/plain": [
       "(88, 88, 1, 10)"
      ]
     },
     "execution_count": 45,
     "metadata": {},
     "output_type": "execute_result"
    }
   ],
   "source": [
    "cnn_output = cnn_layer( x )\n",
    "size( cnn_output )"
   ]
  },
  {
   "cell_type": "code",
   "execution_count": 46,
   "metadata": {},
   "outputs": [
    {
     "data": {
      "text/plain": [
       "(16, 16, 1, 3)"
      ]
     },
     "metadata": {},
     "output_type": "display_data"
    },
    {
     "data": {
      "image/png": "[encoded data removed]",
      "text/html": [
       "<img src=\"data:image/png;base64,iVBORw0KGgoAAAANSUhEUgAAAHAAAABwCAAAAADji6uXAAAABGdBTUEAALGPC/xhBQAAAAFzUkdCAK7OHOkAAAAgY0hSTQAAeiYAAICEAAD6AAAAgOgAAHUwAADqYAAAOpgAABdwnLpRPAAAAfJJREFUaAW9wc1rDgAAx/Hv+DGWKWmTw0IpIy+1m4OLo4uz/8wfoNxIcZQclchLrNTIhLYdlg15pqjv6Vk9y5h+n0/2oil0Eh1Gt9iR82geDVAoC2WhLJSFslCWAdpAu9Ar/ofnjBDKQlkoC2WhLJRljGEv0Ao7MoV2ow20D4WyUBbKQlkoC2X5hZb4j46hdbSBvqNQFspCWSgLZaEsjDKHVtB7RphA3xg2jmbRAhpHj1AoC2WhLJSFslAWNjmNrqDrDJtG19AiusWwH+gGw86hIyiUhbJQFspCWSgLm5xFc+gSuo0G6BWaRhfQM7a2igYolIWyUBbKQlkoC5u8RcvoMlpCX9ACeotOoBm0yAiLaAyFslAWykJZKAtlYZPHaAZdQRfRI7QP/USf0CJ/NIFCWSgLZaEslIWyMMoDNI6Oo/3oIFpHD9muryiUhbJQFspCWSjLJFpj2CpaRqfQEXQffeTfhLJQFspCWSgLZRlDB9BedAhNowX0Gv1gR0JZKAtloSyUhbKcQVNoD3qKbjLCLLqI7rJd4yiUhbJQFspCWSjLAfQTvUDv2No8mkBX0R22NoUOo1AWykJZKAtloSwv0Wf+0hN0FE2iNUYYoHkUykJZKAtloSyU5TM7cg+dQ3PoPfqA3jAslIWyUBbKQlko+w0IpUm7nsZGawAAAABJRU5ErkJg\">"
      ],
      "text/plain": [
       "\u001b[0m\u001b[38;2;6;6;6m██\u001b[38;2;27;27;27m██\u001b[38;2;63;63;63m██\u001b[38;2;82;82;82m██\u001b[38;2;0;0;0m██\u001b[38;2;0;0;0m██\u001b[38;2;0;0;0m██\u001b[38;2;0;0;0m██\u001b[38;2;0;0;0m██\u001b[38;2;0;0;0m██\u001b[38;2;0;0;0m██\u001b[38;2;0;0;0m██\u001b[38;2;0;0;0m██\u001b[38;2;46;46;46m██\u001b[38;2;6;6;6m██\u001b[38;2;0;0;0m██\u001b[0m\n",
       "\u001b[0m\u001b[38;2;0;0;0m██\u001b[38;2;22;22;22m██\u001b[38;2;65;65;65m██\u001b[38;2;40;40;40m██\u001b[38;2;0;0;0m██\u001b[38;2;0;0;0m██\u001b[38;2;0;0;0m██\u001b[38;2;0;0;0m██\u001b[38;2;0;0;0m██\u001b[38;2;0;0;0m██\u001b[38;2;0;0;0m██\u001b[38;2;0;0;0m██\u001b[38;2;0;0;0m██\u001b[38;2;0;0;0m██\u001b[38;2;0;0;0m██\u001b[38;2;0;0;0m██\u001b[0m\n",
       "\u001b[0m\u001b[38;2;1;1;1m██\u001b[38;2;22;22;22m██\u001b[38;2;20;20;20m██\u001b[38;2;0;0;0m██\u001b[38;2;0;0;0m██\u001b[38;2;0;0;0m██\u001b[38;2;0;0;0m██\u001b[38;2;0;0;0m██\u001b[38;2;0;0;0m██\u001b[38;2;0;0;0m██\u001b[38;2;0;0;0m██\u001b[38;2;0;0;0m██\u001b[38;2;21;21;21m██\u001b[38;2;24;24;24m██\u001b[38;2;19;19;19m██\u001b[38;2;27;27;27m██\u001b[0m\n",
       "\u001b[0m\u001b[38;2;0;0;0m██\u001b[38;2;0;0;0m██\u001b[38;2;0;0;0m██\u001b[38;2;0;0;0m██\u001b[38;2;0;0;0m██\u001b[38;2;0;0;0m██\u001b[38;2;0;0;0m██\u001b[38;2;0;0;0m██\u001b[38;2;0;0;0m██\u001b[38;2;0;0;0m██\u001b[38;2;0;0;0m██\u001b[38;2;0;0;0m██\u001b[38;2;52;52;52m██\u001b[38;2;40;40;40m██\u001b[38;2;35;35;35m██\u001b[38;2;26;26;26m██\u001b[0m\n",
       "\u001b[0m\u001b[38;2;0;0;0m██\u001b[38;2;0;0;0m██\u001b[38;2;0;0;0m██\u001b[38;2;50;50;50m██\u001b[38;2;30;30;30m██\u001b[38;2;0;0;0m██\u001b[38;2;0;0;0m██\u001b[38;2;0;0;0m██\u001b[38;2;10;10;10m██\u001b[38;2;0;0;0m██\u001b[38;2;0;0;0m██\u001b[38;2;7;7;7m██\u001b[38;2;92;92;92m██\u001b[38;2;58;58;58m██\u001b[38;2;65;65;65m██\u001b[38;2;10;10;10m██\u001b[0m\n",
       "\u001b[0m\u001b[38;2;0;0;0m██\u001b[38;2;0;0;0m██\u001b[38;2;41;41;41m██\u001b[38;2;124;124;124m██\u001b[38;2;20;20;20m██\u001b[38;2;0;0;0m██\u001b[38;2;22;22;22m██\u001b[38;2;111;111;111m██\u001b[38;2;82;82;82m██\u001b[38;2;0;0;0m██\u001b[38;2;0;0;0m██\u001b[38;2;0;0;0m██\u001b[38;2;0;0;0m██\u001b[38;2;0;0;0m██\u001b[38;2;45;45;45m██\u001b[38;2;33;33;33m██\u001b[0m\n",
       "\u001b[0m\u001b[38;2;0;0;0m██\u001b[38;2;0;0;0m██\u001b[38;2;85;85;85m██\u001b[38;2;174;174;174m██\u001b[38;2;81;81;81m██\u001b[38;2;0;0;0m██\u001b[38;2;16;16;16m██\u001b[38;2;69;69;69m██\u001b[38;2;91;91;91m██\u001b[38;2;47;47;47m██\u001b[38;2;0;0;0m██\u001b[38;2;0;0;0m██\u001b[38;2;0;0;0m██\u001b[38;2;0;0;0m██\u001b[38;2;29;29;29m██\u001b[38;2;23;23;23m██\u001b[0m\n",
       "\u001b[0m\u001b[38;2;0;0;0m██\u001b[38;2;0;0;0m██\u001b[38;2;52;52;52m██\u001b[38;2;153;153;153m██\u001b[38;2;147;147;147m██\u001b[38;2;59;59;59m██\u001b[38;2;45;45;45m██\u001b[38;2;35;35;35m██\u001b[38;2;36;36;36m██\u001b[38;2;69;69;69m██\u001b[38;2;29;29;29m██\u001b[38;2;0;0;0m██\u001b[38;2;0;0;0m██\u001b[38;2;0;0;0m██\u001b[38;2;0;0;0m██\u001b[38;2;1;1;1m██\u001b[0m\n",
       "\u001b[0m\u001b[38;2;0;0;0m██\u001b[38;2;0;0;0m██\u001b[38;2;0;0;0m██\u001b[38;2;81;81;81m██\u001b[38;2;155;155;155m██\u001b[38;2;116;116;116m██\u001b[38;2;61;61;61m██\u001b[38;2;53;53;53m██\u001b[38;2;49;49;49m██\u001b[38;2;44;44;44m██\u001b[38;2;0;0;0m██\u001b[38;2;0;0;0m██\u001b[38;2;0;0;0m██\u001b[38;2;0;0;0m██\u001b[38;2;0;0;0m██\u001b[38;2;11;11;11m██\u001b[0m\n",
       "\u001b[0m\u001b[38;2;0;0;0m██\u001b[38;2;0;0;0m██\u001b[38;2;0;0;0m██\u001b[38;2;16;16;16m██\u001b[38;2;88;88;88m██\u001b[38;2;120;120;120m██\u001b[38;2;70;70;70m██\u001b[38;2;75;75;75m██\u001b[38;2;63;63;63m██\u001b[38;2;0;0;0m██\u001b[38;2;0;0;0m██\u001b[38;2;0;0;0m██\u001b[38;2;0;0;0m██\u001b[38;2;0;0;0m██\u001b[38;2;0;0;0m██\u001b[38;2;0;0;0m██\u001b[0m\n",
       "\u001b[0m\u001b[38;2;13;13;13m██\u001b[38;2;0;0;0m██\u001b[38;2;0;0;0m██\u001b[38;2;0;0;0m██\u001b[38;2;67;67;67m██\u001b[38;2;127;127;127m██\u001b[38;2;93;93;93m██\u001b[38;2;26;26;26m██\u001b[38;2;0;0;0m██\u001b[38;2;0;0;0m██\u001b[38;2;0;0;0m██\u001b[38;2;0;0;0m██\u001b[38;2;0;0;0m██\u001b[38;2;0;0;0m██\u001b[38;2;0;0;0m██\u001b[38;2;0;0;0m██\u001b[0m\n",
       "\u001b[0m\u001b[38;2;14;14;14m██\u001b[38;2;12;12;12m██\u001b[38;2;18;18;18m██\u001b[38;2;35;35;35m██\u001b[38;2;89;89;89m██\u001b[38;2;93;93;93m██\u001b[38;2;52;52;52m██\u001b[38;2;19;19;19m██\u001b[38;2;0;0;0m██\u001b[38;2;0;0;0m██\u001b[38;2;0;0;0m██\u001b[38;2;0;0;0m██\u001b[38;2;0;0;0m██\u001b[38;2;0;0;0m██\u001b[38;2;0;0;0m██\u001b[38;2;0;0;0m██\u001b[0m\n",
       "\u001b[0m\u001b[38;2;56;56;56m██\u001b[38;2;77;77;77m██\u001b[38;2;82;82;82m██\u001b[38;2;33;33;33m██\u001b[38;2;0;0;0m██\u001b[38;2;0;0;0m██\u001b[38;2;0;0;0m██\u001b[38;2;40;40;40m██\u001b[38;2;76;76;76m██\u001b[38;2;0;0;0m██\u001b[38;2;0;0;0m██\u001b[38;2;0;0;0m██\u001b[38;2;0;0;0m██\u001b[38;2;0;0;0m██\u001b[38;2;0;0;0m██\u001b[38;2;7;7;7m██\u001b[0m\n",
       "\u001b[0m\u001b[38;2;68;68;68m██\u001b[38;2;73;73;73m██\u001b[38;2;32;32;32m██\u001b[38;2;0;0;0m██\u001b[38;2;0;0;0m██\u001b[38;2;0;0;0m██\u001b[38;2;0;0;0m██\u001b[38;2;0;0;0m██\u001b[38;2;50;50;50m██\u001b[38;2;79;79;79m██\u001b[38;2;0;0;0m██\u001b[38;2;0;0;0m██\u001b[38;2;0;0;0m██\u001b[38;2;0;0;0m██\u001b[38;2;21;21;21m██\u001b[38;2;40;40;40m██\u001b[0m\n",
       "\u001b[0m\u001b[38;2;24;24;24m██\u001b[38;2;0;0;0m██\u001b[38;2;0;0;0m██\u001b[38;2;0;0;0m██\u001b[38;2;0;0;0m██\u001b[38;2;0;0;0m██\u001b[38;2;0;0;0m██\u001b[38;2;0;0;0m██\u001b[38;2;0;0;0m██\u001b[38;2;75;75;75m██\u001b[38;2;13;13;13m██\u001b[38;2;0;0;0m██\u001b[38;2;0;0;0m██\u001b[38;2;0;0;0m██\u001b[38;2;15;15;15m██\u001b[38;2;0;0;0m██\u001b[0m\n",
       "\u001b[0m\u001b[38;2;0;0;0m██\u001b[38;2;0;0;0m██\u001b[38;2;0;0;0m██\u001b[38;2;0;0;0m██\u001b[38;2;0;0;0m██\u001b[38;2;0;0;0m██\u001b[38;2;0;0;0m██\u001b[38;2;0;0;0m██\u001b[38;2;0;0;0m██\u001b[38;2;0;0;0m██\u001b[38;2;45;45;45m██\u001b[38;2;95;95;95m██\u001b[38;2;65;65;65m██\u001b[38;2;37;37;37m██\u001b[38;2;0;0;0m██\u001b[38;2;0;0;0m██\u001b[0m"
      ]
     },
     "execution_count": 46,
     "metadata": {},
     "output_type": "execute_result"
    }
   ],
   "source": [
    "cnn_output = cnn_layer(images[:,:,:,1:3])\n",
    "display( cnn_output |> size )\n",
    "convert2image(MNIST,cnn_output[:,:,1,1])"
   ]
  },
  {
   "cell_type": "code",
   "execution_count": null,
   "metadata": {},
   "outputs": [],
   "source": []
  },
  {
   "cell_type": "code",
   "execution_count": 47,
   "metadata": {},
   "outputs": [
    {
     "data": {
      "text/plain": [
       "Chain(\n",
       "  Conv((5, 5), 1 => 3, pad=2),          \u001b[90m# 78 parameters\u001b[39m\n",
       "  Conv((5, 5), 3 => 5, pad=2),          \u001b[90m# 380 parameters\u001b[39m\n",
       "  Conv((5, 5), 5 => 1, pad=2),          \u001b[90m# 126 parameters\u001b[39m\n",
       ") \u001b[90m                  # Total: 6 arrays, \u001b[39m584 parameters, 3.336 KiB."
      ]
     },
     "execution_count": 47,
     "metadata": {},
     "output_type": "execute_result"
    }
   ],
   "source": [
    "cnn_layer_same_pad = Chain( Conv((5,5),1=>3,pad=SamePad()),Conv((5,5),3=>5,pad=SamePad()),Conv((5,5),5=>1,pad=SamePad()) ) "
   ]
  },
  {
   "cell_type": "code",
   "execution_count": 48,
   "metadata": {},
   "outputs": [
    {
     "data": {
      "text/plain": [
       "(100, 100, 1, 10)"
      ]
     },
     "execution_count": 48,
     "metadata": {},
     "output_type": "execute_result"
    }
   ],
   "source": [
    "cnn_layer_same_pad_res = cnn_layer_same_pad( x )\n",
    "size( cnn_layer_same_pad_res )"
   ]
  },
  {
   "cell_type": "code",
   "execution_count": 49,
   "metadata": {},
   "outputs": [
    {
     "data": {
      "text/plain": [
       "(28, 28, 1, 3)"
      ]
     },
     "metadata": {},
     "output_type": "display_data"
    },
    {
     "data": {
      "image/png": "[encoded data removed]",
      "text/html": [
       "<img src=\"data:image/png;base64,iVBORw0KGgoAAAANSUhEUgAAAHAAAABwCAAAAADji6uXAAAABGdBTUEAALGPC/xhBQAAAAFzUkdCAK7OHOkAAAAgY0hSTQAAeiYAAICEAAD6AAAAgOgAAHUwAADqYAAAOpgAABdwnLpRPAAAAsBJREFUaAW9wdtuVAUYBtA1M99Mi6Wc5BgDCAkaRYMJNz6VD+ONF/oavgFXJiaeIqeQgIgwQNM20jLtMLOdZDcpjQKVln+tKBbFolgUi2JRLIpFsXgHgsMYYwEvtDYRxaJYFIt90MERLGIZZ9BgAVOMMMYqolgUi2Ix00UPY//PxziNn7CJRxjjlleLYlEsisVMgz4OoINVu7OENRxAMMYQ5/EEz9HYFkSxKBbFYqbBFAsI+nhqp0WcwAms4TDm8AXu4Tyu4VNMMIcHWMcZ9NBFFItiUSxmOuigi1N4D1PM44bWBQwQfIQXWMcd3EYfi7iNP2zr4REG6COKRbEoFlsarGMOh3AUp3EMP2CKaD3EHJawgpu4jpMY2mmiNcIIUSyKRbGYabCBDTzCIk5iHlMMcdebDb1ZFItiUSxmOmi07uAB7uEE/sJz+yeKRbEoFjMNuphqjXAdj/E+juOp/RHFolgUi5d00Ni2hC4u4waG9i6KRbEoFlsadNDYaU3rQwztXRSLYlEsXtJoDbCptY5ruIwjWPF6c9jQ6mOKCTpoEMWiWBSLLY1tm3aa4Be78zl6uIkRxlqNVhSLYlEs9tk6lnAEa5hgbFsUi2JRLN7CBziIW2i0zuI+frftKBawjjEaRLEoFsXiLTQY4ApWMMR9/7aMA2jQQYMoFsWiWOzSeZzFKjbxCb7E13juv82jjwmmWlEsikWxeI3gEq5gigE+w3F8j2/xxKuNMNLqoEEUi2JRLAfRwRQN1rWuooc+ejiFq/gV32EZy5janUYrikWxKJZjGGCEefTwDBuYwzkET/EVVuxNFItiUSzP0MUAp9DFGZzDMdzHb/jR/ohiUSyKZR4XcAgLuIhLeICf8RCP0cXU3kWxKBbFsoo/MY/DuItv8Ld3I4pFsSiWNayhpzXxbkWxKBbFYstEjSgWxaLYPxP+oqvDRXd8AAAAAElFTkSuQmCC\">"
      ],
      "text/plain": [
       "\u001b[0m\u001b[38;2;0;0;0m██\u001b[38;2;0;0;0m██\u001b[38;2;0;0;0m██\u001b[38;2;0;0;0m██\u001b[38;2;0;0;0m██\u001b[38;2;0;0;0m██\u001b[38;2;0;0;0m██\u001b[38;2;0;0;0m██\u001b[38;2;0;0;0m██\u001b[38;2;0;0;0m██\u001b[38;2;0;0;0m██\u001b[38;2;0;0;0m██\u001b[38;2;0;0;0m██\u001b[38;2;0;0;0m██\u001b[38;2;0;0;0m██\u001b[38;2;0;0;0m██\u001b[38;2;0;0;0m██\u001b[38;2;0;0;0m██\u001b[38;2;0;0;0m██\u001b[38;2;0;0;0m██\u001b[38;2;0;0;0m██\u001b[38;2;0;0;0m██\u001b[38;2;0;0;0m██\u001b[38;2;0;0;0m██\u001b[38;2;0;0;0m██\u001b[38;2;0;0;0m██\u001b[38;2;0;0;0m██\u001b[38;2;0;0;0m██\u001b[0m\n",
       "\u001b[0m\u001b[38;2;0;0;0m██\u001b[38;2;0;0;0m██\u001b[38;2;0;0;0m██\u001b[38;2;0;0;0m██\u001b[38;2;0;0;0m██\u001b[38;2;0;0;0m██\u001b[38;2;0;0;0m██\u001b[38;2;0;0;0m██\u001b[38;2;0;0;0m██\u001b[38;2;0;0;0m██\u001b[38;2;0;0;0m██\u001b[38;2;0;0;0m██\u001b[38;2;0;0;0m██\u001b[38;2;0;0;0m██\u001b[38;2;0;0;0m██\u001b[38;2;0;0;0m██\u001b[38;2;0;0;0m██\u001b[38;2;0;0;0m██\u001b[38;2;0;0;0m██\u001b[38;2;0;0;0m██\u001b[38;2;0;0;0m██\u001b[38;2;0;0;0m██\u001b[38;2;0;0;0m██\u001b[38;2;0;0;0m██\u001b[38;2;0;0;0m██\u001b[38;2;0;0;0m██\u001b[38;2;0;0;0m██\u001b[38;2;0;0;0m██\u001b[0m\n",
       "\u001b[0m\u001b[38;2;0;0;0m██\u001b[38;2;0;0;0m██\u001b[38;2;0;0;0m██\u001b[38;2;0;0;0m██\u001b[38;2;0;0;0m██\u001b[38;2;0;0;0m██\u001b[38;2;0;0;0m██\u001b[38;2;0;0;0m██\u001b[38;2;0;0;0m██\u001b[38;2;0;0;0m██\u001b[38;2;0;0;0m██\u001b[38;2;0;0;0m██\u001b[38;2;0;0;0m██\u001b[38;2;0;0;0m██\u001b[38;2;0;0;0m██\u001b[38;2;0;0;0m██\u001b[38;2;0;0;0m██\u001b[38;2;0;0;0m██\u001b[38;2;0;0;0m██\u001b[38;2;0;0;0m██\u001b[38;2;0;0;0m██\u001b[38;2;4;4;4m██\u001b[38;2;19;19;19m██\u001b[38;2;14;14;14m██\u001b[38;2;25;25;25m██\u001b[38;2;21;21;21m██\u001b[38;2;21;21;21m██\u001b[38;2;15;15;15m██\u001b[0m\n",
       "\u001b[0m\u001b[38;2;0;0;0m██\u001b[38;2;0;0;0m██\u001b[38;2;0;0;0m██\u001b[38;2;0;0;0m██\u001b[38;2;0;0;0m██\u001b[38;2;0;0;0m██\u001b[38;2;0;0;0m██\u001b[38;2;0;0;0m██\u001b[38;2;0;0;0m██\u001b[38;2;0;0;0m██\u001b[38;2;0;0;0m██\u001b[38;2;0;0;0m██\u001b[38;2;0;0;0m██\u001b[38;2;0;0;0m██\u001b[38;2;0;0;0m██\u001b[38;2;0;0;0m██\u001b[38;2;0;0;0m██\u001b[38;2;1;1;1m██\u001b[38;2;17;17;17m██\u001b[38;2;30;30;30m██\u001b[38;2;13;13;13m██\u001b[38;2;38;38;38m██\u001b[38;2;37;37;37m██\u001b[38;2;48;48;48m██\u001b[38;2;46;46;46m██\u001b[38;2;38;38;38m██\u001b[38;2;33;33;33m██\u001b[38;2;18;18;18m██\u001b[0m\n",
       "\u001b[0m\u001b[38;2;0;0;0m██\u001b[38;2;2;2;2m██\u001b[38;2;5;5;5m██\u001b[38;2;0;0;0m██\u001b[38;2;0;0;0m██\u001b[38;2;0;0;0m██\u001b[38;2;0;0;0m██\u001b[38;2;0;0;0m██\u001b[38;2;0;0;0m██\u001b[38;2;0;0;0m██\u001b[38;2;0;0;0m██\u001b[38;2;0;0;0m██\u001b[38;2;0;0;0m██\u001b[38;2;0;0;0m██\u001b[38;2;0;0;0m██\u001b[38;2;39;39;39m██\u001b[38;2;63;63;63m██\u001b[38;2;15;15;15m██\u001b[38;2;11;11;11m██\u001b[38;2;6;6;6m██\u001b[38;2;1;1;1m██\u001b[38;2;0;0;0m██\u001b[38;2;0;0;0m██\u001b[38;2;0;0;0m██\u001b[38;2;0;0;0m██\u001b[38;2;0;0;0m██\u001b[38;2;0;0;0m██\u001b[38;2;0;0;0m██\u001b[0m\n",
       "\u001b[0m\u001b[38;2;0;0;0m██\u001b[38;2;1;1;1m██\u001b[38;2;10;10;10m██\u001b[38;2;14;14;14m██\u001b[38;2;15;15;15m██\u001b[38;2;0;0;0m██\u001b[38;2;0;0;0m██\u001b[38;2;0;0;0m██\u001b[38;2;0;0;0m██\u001b[38;2;0;0;0m██\u001b[38;2;0;0;0m██\u001b[38;2;0;0;0m██\u001b[38;2;0;0;0m██\u001b[38;2;0;0;0m██\u001b[38;2;0;0;0m██\u001b[38;2;20;20;20m██\u001b[38;2;28;28;28m██\u001b[38;2;24;24;24m██\u001b[38;2;28;28;28m██\u001b[38;2;23;23;23m██\u001b[38;2;0;0;0m██\u001b[38;2;31;31;31m██\u001b[38;2;10;10;10m██\u001b[38;2;1;1;1m██\u001b[38;2;0;0;0m██\u001b[38;2;0;0;0m██\u001b[38;2;0;0;0m██\u001b[38;2;4;4;4m██\u001b[0m\n",
       "\u001b[0m\u001b[38;2;0;0;0m██\u001b[38;2;0;0;0m██\u001b[38;2;8;8;8m██\u001b[38;2;25;25;25m██\u001b[38;2;29;29;29m██\u001b[38;2;20;20;20m██\u001b[38;2;0;0;0m██\u001b[38;2;0;0;0m██\u001b[38;2;0;0;0m██\u001b[38;2;0;0;0m██\u001b[38;2;13;13;13m██\u001b[38;2;34;34;34m██\u001b[38;2;55;55;55m██\u001b[38;2;44;44;44m██\u001b[38;2;59;59;59m██\u001b[38;2;66;66;66m██\u001b[38;2;114;114;114m██\u001b[38;2;83;83;83m██\u001b[38;2;114;114;114m██\u001b[38;2;54;54;54m██\u001b[38;2;65;65;65m██\u001b[38;2;62;62;62m██\u001b[38;2;38;38;38m██\u001b[38;2;11;11;11m██\u001b[38;2;1;1;1m██\u001b[38;2;26;26;26m██\u001b[38;2;29;29;29m██\u001b[38;2;31;31;31m██\u001b[0m\n",
       "\u001b[0m\u001b[38;2;0;0;0m██\u001b[38;2;1;1;1m██\u001b[38;2;9;9;9m██\u001b[38;2;27;27;27m██\u001b[38;2;52;52;52m██\u001b[38;2;62;62;62m██\u001b[38;2;60;60;60m██\u001b[38;2;68;68;68m██\u001b[38;2;28;28;28m██\u001b[38;2;28;28;28m██\u001b[38;2;61;61;61m██\u001b[38;2;67;67;67m██\u001b[38;2;71;71;71m██\u001b[38;2;93;93;93m██\u001b[38;2;89;89;89m██\u001b[38;2;79;79;79m██\u001b[38;2;79;79;79m██\u001b[38;2;42;42;42m██\u001b[38;2;88;88;88m██\u001b[38;2;67;67;67m██\u001b[38;2;30;30;30m██\u001b[38;2;0;0;0m██\u001b[38;2;0;0;0m██\u001b[38;2;0;0;0m██\u001b[38;2;3;3;3m██\u001b[38;2;2;2;2m██\u001b[38;2;8;8;8m██\u001b[38;2;13;13;13m██\u001b[0m\n",
       "\u001b[0m\u001b[38;2;0;0;0m██\u001b[38;2;1;1;1m██\u001b[38;2;8;8;8m██\u001b[38;2;17;17;17m██\u001b[38;2;59;59;59m██\u001b[38;2;76;76;76m██\u001b[38;2;93;93;93m██\u001b[38;2;117;117;117m██\u001b[38;2;86;86;86m██\u001b[38;2;32;32;32m██\u001b[38;2;59;59;59m██\u001b[38;2;71;71;71m██\u001b[38;2;71;71;71m██\u001b[38;2;68;68;68m██\u001b[38;2;75;75;75m██\u001b[38;2;56;56;56m██\u001b[38;2;40;40;40m██\u001b[38;2;1;1;1m██\u001b[38;2;1;1;1m██\u001b[38;2;23;23;23m██\u001b[38;2;0;0;0m██\u001b[38;2;0;0;0m██\u001b[38;2;0;0;0m██\u001b[38;2;0;0;0m██\u001b[38;2;0;0;0m██\u001b[38;2;0;0;0m██\u001b[38;2;0;0;0m██\u001b[38;2;0;0;0m██\u001b[0m\n",
       "\u001b[0m\u001b[38;2;0;0;0m██\u001b[38;2;0;0;0m██\u001b[38;2;1;1;1m██\u001b[38;2;1;1;1m██\u001b[38;2;35;35;35m██\u001b[38;2;72;72;72m██\u001b[38;2;115;115;115m██\u001b[38;2;125;125;125m██\u001b[38;2;84;84;84m██\u001b[38;2;9;9;9m██\u001b[38;2;0;0;0m██\u001b[38;2;0;0;0m██\u001b[38;2;0;0;0m██\u001b[38;2;0;0;0m██\u001b[38;2;0;0;0m██\u001b[38;2;0;0;0m██\u001b[38;2;0;0;0m██\u001b[38;2;0;0;0m██\u001b[38;2;0;0;0m██\u001b[38;2;0;0;0m██\u001b[38;2;0;0;0m██\u001b[38;2;0;0;0m██\u001b[38;2;0;0;0m██\u001b[38;2;0;0;0m██\u001b[38;2;0;0;0m██\u001b[38;2;0;0;0m██\u001b[38;2;0;0;0m██\u001b[38;2;0;0;0m██\u001b[0m\n",
       "\u001b[0m\u001b[38;2;0;0;0m██\u001b[38;2;1;1;1m██\u001b[38;2;0;0;0m██\u001b[38;2;0;0;0m██\u001b[38;2;0;0;0m██\u001b[38;2;8;8;8m██\u001b[38;2;41;41;41m██\u001b[38;2;62;62;62m██\u001b[38;2;36;36;36m██\u001b[38;2;0;0;0m██\u001b[38;2;0;0;0m██\u001b[38;2;0;0;0m██\u001b[38;2;0;0;0m██\u001b[38;2;0;0;0m██\u001b[38;2;0;0;0m██\u001b[38;2;0;0;0m██\u001b[38;2;0;0;0m██\u001b[38;2;0;0;0m██\u001b[38;2;0;0;0m██\u001b[38;2;0;0;0m██\u001b[38;2;0;0;0m██\u001b[38;2;0;0;0m██\u001b[38;2;0;0;0m██\u001b[38;2;0;0;0m██\u001b[38;2;0;0;0m██\u001b[38;2;0;0;0m██\u001b[38;2;0;0;0m██\u001b[38;2;0;0;0m██\u001b[0m\n",
       "\u001b[0m\u001b[38;2;0;0;0m██\u001b[38;2;0;0;0m██\u001b[38;2;2;2;2m██\u001b[38;2;0;0;0m██\u001b[38;2;0;0;0m██\u001b[38;2;0;0;0m██\u001b[38;2;0;0;0m██\u001b[38;2;19;19;19m██\u001b[38;2;38;38;38m██\u001b[38;2;20;20;20m██\u001b[38;2;0;0;0m██\u001b[38;2;0;0;0m██\u001b[38;2;0;0;0m██\u001b[38;2;0;0;0m██\u001b[38;2;0;0;0m██\u001b[38;2;0;0;0m██\u001b[38;2;0;0;0m██\u001b[38;2;0;0;0m██\u001b[38;2;0;0;0m██\u001b[38;2;0;0;0m██\u001b[38;2;0;0;0m██\u001b[38;2;0;0;0m██\u001b[38;2;0;0;0m██\u001b[38;2;0;0;0m██\u001b[38;2;0;0;0m██\u001b[38;2;0;0;0m██\u001b[38;2;0;0;0m██\u001b[38;2;0;0;0m██\u001b[0m\n",
       "\u001b[0m\u001b[38;2;0;0;0m██\u001b[38;2;0;0;0m██\u001b[38;2;2;2;2m██\u001b[38;2;1;1;1m██\u001b[38;2;0;0;0m██\u001b[38;2;0;0;0m██\u001b[38;2;0;0;0m██\u001b[38;2;0;0;0m██\u001b[38;2;21;21;21m██\u001b[38;2;63;63;63m██\u001b[38;2;23;23;23m██\u001b[38;2;0;0;0m██\u001b[38;2;0;0;0m██\u001b[38;2;0;0;0m██\u001b[38;2;0;0;0m██\u001b[38;2;0;0;0m██\u001b[38;2;0;0;0m██\u001b[38;2;0;0;0m██\u001b[38;2;0;0;0m██\u001b[38;2;0;0;0m██\u001b[38;2;0;0;0m██\u001b[38;2;0;0;0m██\u001b[38;2;0;0;0m██\u001b[38;2;0;0;0m██\u001b[38;2;0;0;0m██\u001b[38;2;0;0;0m██\u001b[38;2;0;0;0m██\u001b[38;2;0;0;0m██\u001b[0m\n",
       "\u001b[0m\u001b[38;2;0;0;0m██\u001b[38;2;0;0;0m██\u001b[38;2;1;1;1m██\u001b[38;2;2;2;2m██\u001b[38;2;0;0;0m██\u001b[38;2;0;0;0m██\u001b[38;2;0;0;0m██\u001b[38;2;0;0;0m██\u001b[38;2;10;10;10m██\u001b[38;2;63;63;63m██\u001b[38;2;55;55;55m██\u001b[38;2;0;0;0m██\u001b[38;2;0;0;0m██\u001b[38;2;0;0;0m██\u001b[38;2;0;0;0m██\u001b[38;2;0;0;0m██\u001b[38;2;0;0;0m██\u001b[38;2;0;0;0m██\u001b[38;2;0;0;0m██\u001b[38;2;0;0;0m██\u001b[38;2;0;0;0m██\u001b[38;2;0;0;0m██\u001b[38;2;0;0;0m██\u001b[38;2;0;0;0m██\u001b[38;2;0;0;0m██\u001b[38;2;0;0;0m██\u001b[38;2;0;0;0m██\u001b[38;2;0;0;0m██\u001b[0m\n",
       "\u001b[0m\u001b[38;2;0;0;0m██\u001b[38;2;0;0;0m██\u001b[38;2;1;1;1m██\u001b[38;2;1;1;1m██\u001b[38;2;0;0;0m██\u001b[38;2;6;6;6m██\u001b[38;2;0;0;0m██\u001b[38;2;0;0;0m██\u001b[38;2;0;0;0m██\u001b[38;2;3;3;3m██\u001b[38;2;46;46;46m██\u001b[38;2;16;16;16m██\u001b[38;2;0;0;0m██\u001b[38;2;0;0;0m██\u001b[38;2;0;0;0m██\u001b[38;2;0;0;0m██\u001b[38;2;0;0;0m██\u001b[38;2;0;0;0m██\u001b[38;2;0;0;0m██\u001b[38;2;0;0;0m██\u001b[38;2;7;7;7m██\u001b[38;2;0;0;0m██\u001b[38;2;0;0;0m██\u001b[38;2;5;5;5m██\u001b[38;2;3;3;3m██\u001b[38;2;0;0;0m██\u001b[38;2;1;1;1m██\u001b[38;2;0;0;0m██\u001b[0m\n",
       "\u001b[0m\u001b[38;2;0;0;0m██\u001b[38;2;0;0;0m██\u001b[38;2;0;0;0m██\u001b[38;2;0;0;0m██\u001b[38;2;0;0;0m██\u001b[38;2;0;0;0m██\u001b[38;2;0;0;0m██\u001b[38;2;0;0;0m██\u001b[38;2;0;0;0m██\u001b[38;2;0;0;0m██\u001b[38;2;0;0;0m██\u001b[38;2;0;0;0m██\u001b[38;2;0;0;0m██\u001b[38;2;0;0;0m██\u001b[38;2;0;0;0m██\u001b[38;2;0;0;0m██\u001b[38;2;0;0;0m██\u001b[38;2;0;0;0m██\u001b[38;2;0;0;0m██\u001b[38;2;0;0;0m██\u001b[38;2;52;52;52m██\u001b[38;2;55;55;55m██\u001b[38;2;16;16;16m██\u001b[38;2;8;8;8m██\u001b[38;2;0;0;0m██\u001b[38;2;0;0;0m██\u001b[38;2;0;0;0m██\u001b[38;2;0;0;0m██\u001b[0m\n",
       "\u001b[0m\u001b[38;2;0;0;0m██\u001b[38;2;0;0;0m██\u001b[38;2;0;0;0m██\u001b[38;2;0;0;0m██\u001b[38;2;0;0;0m██\u001b[38;2;0;0;0m██\u001b[38;2;0;0;0m██\u001b[38;2;0;0;0m██\u001b[38;2;0;0;0m██\u001b[38;2;0;0;0m██\u001b[38;2;0;0;0m██\u001b[38;2;0;0;0m██\u001b[38;2;0;0;0m██\u001b[38;2;0;0;0m██\u001b[38;2;0;0;0m██\u001b[38;2;0;0;0m██\u001b[38;2;0;0;0m██\u001b[38;2;0;0;0m██\u001b[38;2;0;0;0m██\u001b[38;2;0;0;0m██\u001b[38;2;42;42;42m██\u001b[38;2;23;23;23m██\u001b[38;2;32;32;32m██\u001b[38;2;21;21;21m██\u001b[38;2;5;5;5m██\u001b[38;2;0;0;0m██\u001b[38;2;0;0;0m██\u001b[38;2;0;0;0m██\u001b[0m\n",
       "\u001b[0m\u001b[38;2;0;0;0m██\u001b[38;2;0;0;0m██\u001b[38;2;0;0;0m██\u001b[38;2;0;0;0m██\u001b[38;2;0;0;0m██\u001b[38;2;0;0;0m██\u001b[38;2;0;0;0m██\u001b[38;2;0;0;0m██\u001b[38;2;0;0;0m██\u001b[38;2;0;0;0m██\u001b[38;2;0;0;0m██\u001b[38;2;0;0;0m██\u001b[38;2;0;0;0m██\u001b[38;2;27;27;27m██\u001b[38;2;39;39;39m██\u001b[38;2;1;1;1m██\u001b[38;2;0;0;0m██\u001b[38;2;0;0;0m██\u001b[38;2;29;29;29m██\u001b[38;2;0;0;0m██\u001b[38;2;0;0;0m██\u001b[38;2;0;0;0m██\u001b[38;2;0;0;0m██\u001b[38;2;17;17;17m██\u001b[38;2;16;16;16m██\u001b[38;2;6;6;6m██\u001b[38;2;1;1;1m██\u001b[38;2;0;0;0m██\u001b[0m\n",
       "\u001b[0m\u001b[38;2;0;0;0m██\u001b[38;2;0;0;0m██\u001b[38;2;0;0;0m██\u001b[38;2;0;0;0m██\u001b[38;2;0;0;0m██\u001b[38;2;0;0;0m██\u001b[38;2;0;0;0m██\u001b[38;2;0;0;0m██\u001b[38;2;0;0;0m██\u001b[38;2;0;0;0m██\u001b[38;2;0;0;0m██\u001b[38;2;0;0;0m██\u001b[38;2;0;0;0m██\u001b[38;2;26;26;26m██\u001b[38;2;45;45;45m██\u001b[38;2;48;48;48m██\u001b[38;2;32;32;32m██\u001b[38;2;9;9;9m██\u001b[38;2;0;0;0m██\u001b[38;2;0;0;0m██\u001b[38;2;0;0;0m██\u001b[38;2;0;0;0m██\u001b[38;2;0;0;0m██\u001b[38;2;0;0;0m██\u001b[38;2;9;9;9m██\u001b[38;2;5;5;5m██\u001b[38;2;2;2;2m██\u001b[38;2;0;0;0m██\u001b[0m\n",
       "\u001b[0m\u001b[38;2;0;0;0m██\u001b[38;2;0;0;0m██\u001b[38;2;0;0;0m██\u001b[38;2;0;0;0m██\u001b[38;2;0;0;0m██\u001b[38;2;0;0;0m██\u001b[38;2;0;0;0m██\u001b[38;2;0;0;0m██\u001b[38;2;0;0;0m██\u001b[38;2;0;0;0m██\u001b[38;2;31;31;31m██\u001b[38;2;60;60;60m██\u001b[38;2;45;45;45m██\u001b[38;2;39;39;39m██\u001b[38;2;86;86;86m██\u001b[38;2;142;142;142m██\u001b[38;2;32;32;32m██\u001b[38;2;0;0;0m██\u001b[38;2;0;0;0m██\u001b[38;2;0;0;0m██\u001b[38;2;0;0;0m██\u001b[38;2;0;0;0m██\u001b[38;2;0;0;0m██\u001b[38;2;8;8;8m██\u001b[38;2;14;14;14m██\u001b[38;2;6;6;6m██\u001b[38;2;0;0;0m██\u001b[38;2;0;0;0m██\u001b[0m\n",
       "\u001b[0m\u001b[38;2;0;0;0m██\u001b[38;2;0;0;0m██\u001b[38;2;0;0;0m██\u001b[38;2;0;0;0m██\u001b[38;2;0;0;0m██\u001b[38;2;0;0;0m██\u001b[38;2;0;0;0m██\u001b[38;2;4;4;4m██\u001b[38;2;41;41;41m██\u001b[38;2;88;88;88m██\u001b[38;2;86;86;86m██\u001b[38;2;92;92;92m██\u001b[38;2;136;136;136m██\u001b[38;2;156;156;156m██\u001b[38;2;81;81;81m██\u001b[38;2;41;41;41m██\u001b[38;2;11;11;11m██\u001b[38;2;0;0;0m██\u001b[38;2;0;0;0m██\u001b[38;2;0;0;0m██\u001b[38;2;0;0;0m██\u001b[38;2;0;0;0m██\u001b[38;2;0;0;0m██\u001b[38;2;0;0;0m██\u001b[38;2;0;0;0m██\u001b[38;2;0;0;0m██\u001b[38;2;1;1;1m██\u001b[38;2;0;0;0m██\u001b[0m\n",
       "\u001b[0m\u001b[38;2;12;12;12m██\u001b[38;2;13;13;13m██\u001b[38;2;11;11;11m██\u001b[38;2;10;10;10m██\u001b[38;2;0;0;0m██\u001b[38;2;0;0;0m██\u001b[38;2;51;51;51m██\u001b[38;2;54;54;54m██\u001b[38;2;59;59;59m██\u001b[38;2;91;91;91m██\u001b[38;2;111;111;111m██\u001b[38;2;162;162;162m██\u001b[38;2;117;117;117m██\u001b[38;2;36;36;36m██\u001b[38;2;19;19;19m██\u001b[38;2;2;2;2m██\u001b[38;2;0;0;0m██\u001b[38;2;0;0;0m██\u001b[38;2;0;0;0m██\u001b[38;2;0;0;0m██\u001b[38;2;0;0;0m██\u001b[38;2;0;0;0m██\u001b[38;2;0;0;0m██\u001b[38;2;0;0;0m██\u001b[38;2;0;0;0m██\u001b[38;2;0;0;0m██\u001b[38;2;0;0;0m██\u001b[38;2;0;0;0m██\u001b[0m\n",
       "\u001b[0m\u001b[38;2;30;30;30m██\u001b[38;2;36;36;36m██\u001b[38;2;28;28;28m██\u001b[38;2;36;36;36m██\u001b[38;2;39;39;39m██\u001b[38;2;27;27;27m██\u001b[38;2;44;44;44m██\u001b[38;2;51;51;51m██\u001b[38;2;84;84;84m██\u001b[38;2;95;95;95m██\u001b[38;2;91;91;91m██\u001b[38;2;16;16;16m██\u001b[38;2;0;0;0m██\u001b[38;2;0;0;0m██\u001b[38;2;0;0;0m██\u001b[38;2;0;0;0m██\u001b[38;2;0;0;0m██\u001b[38;2;0;0;0m██\u001b[38;2;0;0;0m██\u001b[38;2;0;0;0m██\u001b[38;2;0;0;0m██\u001b[38;2;0;0;0m██\u001b[38;2;0;0;0m██\u001b[38;2;0;0;0m██\u001b[38;2;0;0;0m██\u001b[38;2;0;0;0m██\u001b[38;2;0;0;0m██\u001b[38;2;0;0;0m██\u001b[0m\n",
       "\u001b[0m\u001b[38;2;18;18;18m██\u001b[38;2;20;20;20m██\u001b[38;2;26;26;26m██\u001b[38;2;59;59;59m██\u001b[38;2;61;61;61m██\u001b[38;2;64;64;64m██\u001b[38;2;94;94;94m██\u001b[38;2;112;112;112m██\u001b[38;2;83;83;83m██\u001b[38;2;51;51;51m██\u001b[38;2;0;0;0m██\u001b[38;2;0;0;0m██\u001b[38;2;0;0;0m██\u001b[38;2;0;0;0m██\u001b[38;2;0;0;0m██\u001b[38;2;0;0;0m██\u001b[38;2;0;0;0m██\u001b[38;2;0;0;0m██\u001b[38;2;0;0;0m██\u001b[38;2;0;0;0m██\u001b[38;2;0;0;0m██\u001b[38;2;0;0;0m██\u001b[38;2;0;0;0m██\u001b[38;2;0;0;0m██\u001b[38;2;0;0;0m██\u001b[38;2;0;0;0m██\u001b[38;2;0;0;0m██\u001b[38;2;0;0;0m██\u001b[0m\n",
       "\u001b[0m\u001b[38;2;26;26;26m██\u001b[38;2;59;59;59m██\u001b[38;2;73;73;73m██\u001b[38;2;84;84;84m██\u001b[38;2;118;118;118m██\u001b[38;2;155;155;155m██\u001b[38;2;128;128;128m██\u001b[38;2;81;81;81m██\u001b[38;2;56;56;56m██\u001b[38;2;29;29;29m██\u001b[38;2;2;2;2m██\u001b[38;2;0;0;0m██\u001b[38;2;0;0;0m██\u001b[38;2;0;0;0m██\u001b[38;2;0;0;0m██\u001b[38;2;0;0;0m██\u001b[38;2;0;0;0m██\u001b[38;2;0;0;0m██\u001b[38;2;0;0;0m██\u001b[38;2;0;0;0m██\u001b[38;2;0;0;0m██\u001b[38;2;0;0;0m██\u001b[38;2;0;0;0m██\u001b[38;2;0;0;0m██\u001b[38;2;0;0;0m██\u001b[38;2;0;0;0m██\u001b[38;2;0;0;0m██\u001b[38;2;0;0;0m██\u001b[0m\n",
       "\u001b[0m\u001b[38;2;11;11;11m██\u001b[38;2;31;31;31m██\u001b[38;2;39;39;39m██\u001b[38;2;54;54;54m██\u001b[38;2;52;52;52m██\u001b[38;2;13;13;13m██\u001b[38;2;0;0;0m██\u001b[38;2;0;0;0m██\u001b[38;2;0;0;0m██\u001b[38;2;0;0;0m██\u001b[38;2;0;0;0m██\u001b[38;2;0;0;0m██\u001b[38;2;0;0;0m██\u001b[38;2;0;0;0m██\u001b[38;2;0;0;0m██\u001b[38;2;0;0;0m██\u001b[38;2;0;0;0m██\u001b[38;2;0;0;0m██\u001b[38;2;0;0;0m██\u001b[38;2;0;0;0m██\u001b[38;2;0;0;0m██\u001b[38;2;0;0;0m██\u001b[38;2;0;0;0m██\u001b[38;2;0;0;0m██\u001b[38;2;0;0;0m██\u001b[38;2;0;0;0m██\u001b[38;2;0;0;0m██\u001b[38;2;0;0;0m██\u001b[0m\n",
       "\u001b[0m\u001b[38;2;0;0;0m██\u001b[38;2;0;0;0m██\u001b[38;2;3;3;3m██\u001b[38;2;3;3;3m██\u001b[38;2;0;0;0m██\u001b[38;2;0;0;0m██\u001b[38;2;0;0;0m██\u001b[38;2;0;0;0m██\u001b[38;2;0;0;0m██\u001b[38;2;0;0;0m██\u001b[38;2;0;0;0m██\u001b[38;2;0;0;0m██\u001b[38;2;0;0;0m██\u001b[38;2;0;0;0m██\u001b[38;2;0;0;0m██\u001b[38;2;0;0;0m██\u001b[38;2;0;0;0m██\u001b[38;2;0;0;0m██\u001b[38;2;0;0;0m██\u001b[38;2;0;0;0m██\u001b[38;2;0;0;0m██\u001b[38;2;0;0;0m██\u001b[38;2;0;0;0m██\u001b[38;2;0;0;0m██\u001b[38;2;0;0;0m██\u001b[38;2;0;0;0m██\u001b[38;2;0;0;0m██\u001b[38;2;0;0;0m██\u001b[0m\n",
       "\u001b[0m\u001b[38;2;0;0;0m██\u001b[38;2;0;0;0m██\u001b[38;2;0;0;0m██\u001b[38;2;0;0;0m██\u001b[38;2;0;0;0m██\u001b[38;2;0;0;0m██\u001b[38;2;0;0;0m██\u001b[38;2;0;0;0m██\u001b[38;2;0;0;0m██\u001b[38;2;0;0;0m██\u001b[38;2;0;0;0m██\u001b[38;2;0;0;0m██\u001b[38;2;0;0;0m██\u001b[38;2;0;0;0m██\u001b[38;2;0;0;0m██\u001b[38;2;0;0;0m██\u001b[38;2;0;0;0m██\u001b[38;2;0;0;0m██\u001b[38;2;0;0;0m██\u001b[38;2;0;0;0m██\u001b[38;2;0;0;0m██\u001b[38;2;0;0;0m██\u001b[38;2;0;0;0m██\u001b[38;2;0;0;0m██\u001b[38;2;0;0;0m██\u001b[38;2;0;0;0m██\u001b[38;2;0;0;0m██\u001b[38;2;0;0;0m██\u001b[0m"
      ]
     },
     "execution_count": 49,
     "metadata": {},
     "output_type": "execute_result"
    }
   ],
   "source": [
    "cnn_output = cnn_layer_same_pad(images[:,:,:,1:3])\n",
    "display( cnn_output |> size )\n",
    "convert2image(MNIST,cnn_output[:,:,1,1])"
   ]
  },
  {
   "cell_type": "code",
   "execution_count": 50,
   "metadata": {},
   "outputs": [
    {
     "data": {
      "text/plain": [
       "(100, 100, 8, 10)"
      ]
     },
     "execution_count": 50,
     "metadata": {},
     "output_type": "execute_result"
    }
   ],
   "source": [
    "cnn_layer_same_pad2 = Chain( Conv((5,5),1=>3,pad=SamePad()),Conv((5,5),3=>5,pad=SamePad()),Conv((5,5),5=>8,pad=SamePad()) ) \n",
    "cnn_layer_same_pad_res = cnn_layer_same_pad2( x )\n",
    "size( cnn_layer_same_pad_res )"
   ]
  },
  {
   "cell_type": "code",
   "execution_count": 51,
   "metadata": {},
   "outputs": [
    {
     "data": {
      "text/plain": [
       "(28, 28, 8, 3)"
      ]
     },
     "metadata": {},
     "output_type": "display_data"
    },
    {
     "data": {
      "image/png": "[encoded data removed]",
      "text/html": [
       "<img src=\"data:image/png;base64,iVBORw0KGgoAAAANSUhEUgAAAHAAAABwCAAAAADji6uXAAAABGdBTUEAALGPC/xhBQAAAAFzUkdCAK7OHOkAAAAgY0hSTQAAeiYAAICEAAD6AAAAgOgAAHUwAADqYAAAOpgAABdwnLpRPAAAA4xJREFUaAW9wUtvHFUaANBTXV/bbWwwmACBMAgEiOeCJWz5tfwElqxHGsQi4jURr/BK4hi3sd3VbVdfLF1LRadtJtJI3znh/9RggjmWqjF28SfmVoVkIVlIFh4xwtLjCWyjwUy1h1voMUOPggbnCMlCspAsXGowRouZdS0abGOCHrvYwBF6TLCLO5i5WkgWkoVk4W8anFl1C1s4R4NNdNjHFE9gjm30uGPVy1hgijOEZCFZSBb+ZqQaYxNbGOMu5ngOMyxwrJqqdjGz6g08h2McYomQLCQLycKlghk2sIubuI8fUVRLLDC17p51HTp0WKhCspAsJAuPWGADW/jVqoeu9ww+wh18qxrhJqb4GTOEZCFZSBaucIKHrreJD3EbD1W38BruGuzjAB1GqpAsJAvJwoUGBSMULNG53hxHuIGHqtso+N3gFJ9jghNVSBaShWThQlEtMUKLFq2qt24Pr+AbgyWWVrU4NgjJQrKQLDxiiX1M0WMbgalVh/gAr+An1Rzb+EPVoEcxCMlCspAsXGgwQotAhzNVh3exwDcG/8GbeBEPMMMBDg1anFkVkoVkIVm4UFBUY2ziEAU9/kCPJ/GnwSd4FTu4iXMcGvTWhWQhWUgWLjUoOEGDYvAAGzi17gds4VUscB9zVbEuJAvJQrJwqWCJ3ro5JuitewIL3MMOnscURwYtligIyUKykCxcKqoGBS3G6FRT1U1M8IPqVPUT3sQ72MdXmKlaLFUhWUgWkoVLxaDFGJ1Vm/gXXsLb+NSq7/Ax3sddzFQLg5AsJAvJwqURRujRozfYxfNocIx/42XrGrR4C+/hM+tCspAsJIsxRljg3GCEPezgKdzAKW7jGL9Zd467eA0zVwvJQrKQLAILFIOX8AxajHGGL3Dgn72AL7GF+64WkoVkIVnMsVRt40XsYB8FJzj0eFos8T2OXS0kC8lCsnBhght4Eif4Gp1/tomnMcMRRpjjBAeYWtWgICQLyUKyWKJD4AD3/G97OMI91QivYx9TVyuqkCwkC8nChQ2c4r7Hc2AwwQL/xQh7OLCqQVGFZCFZSBYTVYdt9OisGmOJXrWFZ/EAHVo8hWMcWFcMQrKQLCSLDhPcwBy/WBU4M2gwws+qDSxw5HoNiiokC8lCsnBhjl9RrDu3qsEJAudYuF6DgmIQkoVkIVlMsEBnsIMWBQ2mGOMMBWOcuV6DgmJdSBaShWR/AV0v+qBddTkYAAAAAElFTkSuQmCC\">"
      ],
      "text/plain": [
       "\u001b[0m\u001b[38;2;0;0;0m██\u001b[38;2;0;0;0m██\u001b[38;2;0;0;0m██\u001b[38;2;0;0;0m██\u001b[38;2;0;0;0m██\u001b[38;2;0;0;0m██\u001b[38;2;0;0;0m██\u001b[38;2;0;0;0m██\u001b[38;2;0;0;0m██\u001b[38;2;0;0;0m██\u001b[38;2;0;0;0m██\u001b[38;2;0;0;0m██\u001b[38;2;0;0;0m██\u001b[38;2;0;0;0m██\u001b[38;2;0;0;0m██\u001b[38;2;0;0;0m██\u001b[38;2;1;1;1m██\u001b[38;2;9;9;9m██\u001b[38;2;2;2;2m██\u001b[38;2;0;0;0m██\u001b[38;2;0;0;0m██\u001b[38;2;5;5;5m██\u001b[38;2;20;20;20m██\u001b[38;2;7;7;7m██\u001b[38;2;0;0;0m██\u001b[38;2;0;0;0m██\u001b[38;2;0;0;0m██\u001b[38;2;0;0;0m██\u001b[0m\n",
       "\u001b[0m\u001b[38;2;0;0;0m██\u001b[38;2;0;0;0m██\u001b[38;2;0;0;0m██\u001b[38;2;0;0;0m██\u001b[38;2;2;2;2m██\u001b[38;2;0;0;0m██\u001b[38;2;0;0;0m██\u001b[38;2;0;0;0m██\u001b[38;2;0;0;0m██\u001b[38;2;0;0;0m██\u001b[38;2;0;0;0m██\u001b[38;2;0;0;0m██\u001b[38;2;0;0;0m██\u001b[38;2;0;0;0m██\u001b[38;2;0;0;0m██\u001b[38;2;4;4;4m██\u001b[38;2;15;15;15m██\u001b[38;2;16;16;16m██\u001b[38;2;0;0;0m██\u001b[38;2;0;0;0m██\u001b[38;2;18;18;18m██\u001b[38;2;45;45;45m██\u001b[38;2;42;42;42m██\u001b[38;2;11;11;11m██\u001b[38;2;4;4;4m██\u001b[38;2;3;3;3m██\u001b[38;2;4;4;4m██\u001b[38;2;0;0;0m██\u001b[0m\n",
       "\u001b[0m\u001b[38;2;0;0;0m██\u001b[38;2;0;0;0m██\u001b[38;2;1;1;1m██\u001b[38;2;6;6;6m██\u001b[38;2;9;9;9m██\u001b[38;2;0;0;0m██\u001b[38;2;0;0;0m██\u001b[38;2;0;0;0m██\u001b[38;2;0;0;0m██\u001b[38;2;0;0;0m██\u001b[38;2;3;3;3m██\u001b[38;2;4;4;4m██\u001b[38;2;15;15;15m██\u001b[38;2;23;23;23m██\u001b[38;2;20;20;20m██\u001b[38;2;35;35;35m██\u001b[38;2;41;41;41m██\u001b[38;2;27;27;27m██\u001b[38;2;13;13;13m██\u001b[38;2;21;21;21m██\u001b[38;2;36;36;36m██\u001b[38;2;9;9;9m██\u001b[38;2;0;0;0m██\u001b[38;2;0;0;0m██\u001b[38;2;0;0;0m██\u001b[38;2;0;0;0m██\u001b[38;2;0;0;0m██\u001b[38;2;0;0;0m██\u001b[0m\n",
       "\u001b[0m\u001b[38;2;0;0;0m██\u001b[38;2;0;0;0m██\u001b[38;2;1;1;1m██\u001b[38;2;7;7;7m██\u001b[38;2;4;4;4m██\u001b[38;2;0;0;0m██\u001b[38;2;0;0;0m██\u001b[38;2;0;0;0m██\u001b[38;2;27;27;27m██\u001b[38;2;36;36;36m██\u001b[38;2;32;32;32m██\u001b[38;2;33;33;33m██\u001b[38;2;40;40;40m██\u001b[38;2;32;32;32m██\u001b[38;2;12;12;12m██\u001b[38;2;5;5;5m██\u001b[38;2;15;15;15m██\u001b[38;2;8;8;8m██\u001b[38;2;19;19;19m██\u001b[38;2;18;18;18m██\u001b[38;2;0;0;0m██\u001b[38;2;0;0;0m██\u001b[38;2;0;0;0m██\u001b[38;2;0;0;0m██\u001b[38;2;28;28;28m██\u001b[38;2;22;22;22m██\u001b[38;2;7;7;7m██\u001b[38;2;2;2;2m██\u001b[0m\n",
       "\u001b[0m\u001b[38;2;0;0;0m██\u001b[38;2;0;0;0m██\u001b[38;2;1;1;1m██\u001b[38;2;9;9;9m██\u001b[38;2;7;7;7m██\u001b[38;2;9;9;9m██\u001b[38;2;16;16;16m██\u001b[38;2;25;25;25m██\u001b[38;2;32;32;32m██\u001b[38;2;7;7;7m██\u001b[38;2;0;0;0m██\u001b[38;2;21;21;21m██\u001b[38;2;24;24;24m██\u001b[38;2;18;18;18m██\u001b[38;2;0;0;0m██\u001b[38;2;0;0;0m██\u001b[38;2;0;0;0m██\u001b[38;2;0;0;0m██\u001b[38;2;23;23;23m██\u001b[38;2;14;14;14m██\u001b[38;2;0;0;0m██\u001b[38;2;0;0;0m██\u001b[38;2;0;0;0m██\u001b[38;2;36;36;36m██\u001b[38;2;57;57;57m██\u001b[38;2;45;45;45m██\u001b[38;2;6;6;6m██\u001b[38;2;0;0;0m██\u001b[0m\n",
       "\u001b[0m\u001b[38;2;0;0;0m██\u001b[38;2;0;0;0m██\u001b[38;2;0;0;0m██\u001b[38;2;0;0;0m██\u001b[38;2;6;6;6m██\u001b[38;2;24;24;24m██\u001b[38;2;48;48;48m██\u001b[38;2;26;26;26m██\u001b[38;2;1;1;1m██\u001b[38;2;0;0;0m██\u001b[38;2;0;0;0m██\u001b[38;2;19;19;19m██\u001b[38;2;15;15;15m██\u001b[38;2;0;0;0m██\u001b[38;2;0;0;0m██\u001b[38;2;0;0;0m██\u001b[38;2;0;0;0m██\u001b[38;2;0;0;0m██\u001b[38;2;0;0;0m██\u001b[38;2;0;0;0m██\u001b[38;2;0;0;0m██\u001b[38;2;0;0;0m██\u001b[38;2;0;0;0m██\u001b[38;2;28;28;28m██\u001b[38;2;49;49;49m██\u001b[38;2;37;37;37m██\u001b[38;2;0;0;0m██\u001b[38;2;0;0;0m██\u001b[0m\n",
       "\u001b[0m\u001b[38;2;0;0;0m██\u001b[38;2;0;0;0m██\u001b[38;2;0;0;0m██\u001b[38;2;0;0;0m██\u001b[38;2;0;0;0m██\u001b[38;2;30;30;30m██\u001b[38;2;57;57;57m██\u001b[38;2;0;0;0m██\u001b[38;2;0;0;0m██\u001b[38;2;0;0;0m██\u001b[38;2;0;0;0m██\u001b[38;2;0;0;0m██\u001b[38;2;0;0;0m██\u001b[38;2;0;0;0m██\u001b[38;2;0;0;0m██\u001b[38;2;0;0;0m██\u001b[38;2;0;0;0m██\u001b[38;2;0;0;0m██\u001b[38;2;17;17;17m██\u001b[38;2;74;74;74m██\u001b[38;2;38;38;38m██\u001b[38;2;0;0;0m██\u001b[38;2;0;0;0m██\u001b[38;2;30;30;30m██\u001b[38;2;73;73;73m██\u001b[38;2;58;58;58m██\u001b[38;2;9;9;9m██\u001b[38;2;0;0;0m██\u001b[0m\n",
       "\u001b[0m\u001b[38;2;0;0;0m██\u001b[38;2;0;0;0m██\u001b[38;2;0;0;0m██\u001b[38;2;0;0;0m██\u001b[38;2;0;0;0m██\u001b[38;2;19;19;19m██\u001b[38;2;38;38;38m██\u001b[38;2;0;0;0m██\u001b[38;2;0;0;0m██\u001b[38;2;0;0;0m██\u001b[38;2;0;0;0m██\u001b[38;2;0;0;0m██\u001b[38;2;0;0;0m██\u001b[38;2;7;7;7m██\u001b[38;2;63;63;63m██\u001b[38;2;19;19;19m██\u001b[38;2;0;0;0m██\u001b[38;2;0;0;0m██\u001b[38;2;44;44;44m██\u001b[38;2;107;107;107m██\u001b[38;2;45;45;45m██\u001b[38;2;0;0;0m██\u001b[38;2;0;0;0m██\u001b[38;2;10;10;10m██\u001b[38;2;55;55;55m██\u001b[38;2;47;47;47m██\u001b[38;2;11;11;11m██\u001b[38;2;0;0;0m██\u001b[0m\n",
       "\u001b[0m\u001b[38;2;0;0;0m██\u001b[38;2;1;1;1m██\u001b[38;2;0;0;0m██\u001b[38;2;2;2;2m██\u001b[38;2;1;1;1m██\u001b[38;2;17;17;17m██\u001b[38;2;30;30;30m██\u001b[38;2;0;0;0m██\u001b[38;2;0;0;0m██\u001b[38;2;0;0;0m██\u001b[38;2;0;0;0m██\u001b[38;2;0;0;0m██\u001b[38;2;0;0;0m██\u001b[38;2;0;0;0m██\u001b[38;2;49;49;49m██\u001b[38;2;39;39;39m██\u001b[38;2;0;0;0m██\u001b[38;2;0;0;0m██\u001b[38;2;0;0;0m██\u001b[38;2;43;43;43m██\u001b[38;2;19;19;19m██\u001b[38;2;0;0;0m██\u001b[38;2;0;0;0m██\u001b[38;2;0;0;0m██\u001b[38;2;5;5;5m██\u001b[38;2;13;13;13m██\u001b[38;2;0;0;0m██\u001b[38;2;0;0;0m██\u001b[0m\n",
       "\u001b[0m\u001b[38;2;0;0;0m██\u001b[38;2;0;0;0m██\u001b[38;2;0;0;0m██\u001b[38;2;0;0;0m██\u001b[38;2;2;2;2m██\u001b[38;2;20;20;20m██\u001b[38;2;33;33;33m██\u001b[38;2;3;3;3m██\u001b[38;2;3;3;3m██\u001b[38;2;0;0;0m██\u001b[38;2;0;0;0m██\u001b[38;2;0;0;0m██\u001b[38;2;0;0;0m██\u001b[38;2;0;0;0m██\u001b[38;2;67;67;67m██\u001b[38;2;79;79;79m██\u001b[38;2;0;0;0m██\u001b[38;2;0;0;0m██\u001b[38;2;0;0;0m██\u001b[38;2;41;41;41m██\u001b[38;2;17;17;17m██\u001b[38;2;0;0;0m██\u001b[38;2;0;0;0m██\u001b[38;2;0;0;0m██\u001b[38;2;8;8;8m██\u001b[38;2;1;1;1m██\u001b[38;2;0;0;0m██\u001b[38;2;0;0;0m██\u001b[0m\n",
       "\u001b[0m\u001b[38;2;0;0;0m██\u001b[38;2;0;0;0m██\u001b[38;2;0;0;0m██\u001b[38;2;0;0;0m██\u001b[38;2;0;0;0m██\u001b[38;2;0;0;0m██\u001b[38;2;5;5;5m██\u001b[38;2;0;0;0m██\u001b[38;2;11;11;11m██\u001b[38;2;15;15;15m██\u001b[38;2;0;0;0m██\u001b[38;2;0;0;0m██\u001b[38;2;0;0;0m██\u001b[38;2;0;0;0m██\u001b[38;2;51;51;51m██\u001b[38;2;115;115;115m██\u001b[38;2;30;30;30m██\u001b[38;2;0;0;0m██\u001b[38;2;0;0;0m██\u001b[38;2;34;34;34m██\u001b[38;2;28;28;28m██\u001b[38;2;0;0;0m██\u001b[38;2;0;0;0m██\u001b[38;2;1;1;1m██\u001b[38;2;5;5;5m██\u001b[38;2;0;0;0m██\u001b[38;2;0;0;0m██\u001b[38;2;0;0;0m██\u001b[0m\n",
       "\u001b[0m\u001b[38;2;0;0;0m██\u001b[38;2;1;1;1m██\u001b[38;2;3;3;3m██\u001b[38;2;6;6;6m██\u001b[38;2;10;10;10m██\u001b[38;2;2;2;2m██\u001b[38;2;0;0;0m██\u001b[38;2;0;0;0m██\u001b[38;2;3;3;3m██\u001b[38;2;45;45;45m██\u001b[38;2;39;39;39m██\u001b[38;2;0;0;0m██\u001b[38;2;0;0;0m██\u001b[38;2;0;0;0m██\u001b[38;2;0;0;0m██\u001b[38;2;88;88;88m██\u001b[38;2;55;55;55m██\u001b[38;2;9;9;9m██\u001b[38;2;0;0;0m██\u001b[38;2;16;16;16m██\u001b[38;2;0;0;0m██\u001b[38;2;0;0;0m██\u001b[38;2;0;0;0m██\u001b[38;2;4;4;4m██\u001b[38;2;0;0;0m██\u001b[38;2;0;0;0m██\u001b[38;2;0;0;0m██\u001b[38;2;0;0;0m██\u001b[0m\n",
       "\u001b[0m\u001b[38;2;0;0;0m██\u001b[38;2;0;0;0m██\u001b[38;2;2;2;2m██\u001b[38;2;6;6;6m██\u001b[38;2;15;15;15m██\u001b[38;2;17;17;17m██\u001b[38;2;1;1;1m██\u001b[38;2;0;0;0m██\u001b[38;2;0;0;0m██\u001b[38;2;28;28;28m██\u001b[38;2;25;25;25m██\u001b[38;2;13;13;13m██\u001b[38;2;0;0;0m██\u001b[38;2;0;0;0m██\u001b[38;2;0;0;0m██\u001b[38;2;0;0;0m██\u001b[38;2;32;32;32m██\u001b[38;2;21;21;21m██\u001b[38;2;33;33;33m██\u001b[38;2;29;29;29m██\u001b[38;2;0;0;0m██\u001b[38;2;0;0;0m██\u001b[38;2;0;0;0m██\u001b[38;2;1;1;1m██\u001b[38;2;0;0;0m██\u001b[38;2;0;0;0m██\u001b[38;2;0;0;0m██\u001b[38;2;0;0;0m██\u001b[0m\n",
       "\u001b[0m\u001b[38;2;0;0;0m██\u001b[38;2;0;0;0m██\u001b[38;2;3;3;3m██\u001b[38;2;5;5;5m██\u001b[38;2;4;4;4m██\u001b[38;2;5;5;5m██\u001b[38;2;0;0;0m██\u001b[38;2;0;0;0m██\u001b[38;2;0;0;0m██\u001b[38;2;7;7;7m██\u001b[38;2;13;13;13m██\u001b[38;2;3;3;3m██\u001b[38;2;0;0;0m██\u001b[38;2;0;0;0m██\u001b[38;2;0;0;0m██\u001b[38;2;0;0;0m██\u001b[38;2;0;0;0m██\u001b[38;2;9;9;9m██\u001b[38;2;53;53;53m██\u001b[38;2;47;47;47m██\u001b[38;2;7;7;7m██\u001b[38;2;0;0;0m██\u001b[38;2;0;0;0m██\u001b[38;2;0;0;0m██\u001b[38;2;0;0;0m██\u001b[38;2;0;0;0m██\u001b[38;2;0;0;0m██\u001b[38;2;0;0;0m██\u001b[0m\n",
       "\u001b[0m\u001b[38;2;0;0;0m██\u001b[38;2;0;0;0m██\u001b[38;2;2;2;2m██\u001b[38;2;3;3;3m██\u001b[38;2;0;0;0m██\u001b[38;2;0;0;0m██\u001b[38;2;0;0;0m██\u001b[38;2;0;0;0m██\u001b[38;2;0;0;0m██\u001b[38;2;0;0;0m██\u001b[38;2;15;15;15m██\u001b[38;2;0;0;0m██\u001b[38;2;0;0;0m██\u001b[38;2;0;0;0m██\u001b[38;2;0;0;0m██\u001b[38;2;0;0;0m██\u001b[38;2;10;10;10m██\u001b[38;2;4;4;4m██\u001b[38;2;30;30;30m██\u001b[38;2;42;42;42m██\u001b[38;2;29;29;29m██\u001b[38;2;14;14;14m██\u001b[38;2;0;0;0m██\u001b[38;2;0;0;0m██\u001b[38;2;0;0;0m██\u001b[38;2;3;3;3m██\u001b[38;2;1;1;1m██\u001b[38;2;0;0;0m██\u001b[0m\n",
       "\u001b[0m\u001b[38;2;0;0;0m██\u001b[38;2;0;0;0m██\u001b[38;2;1;1;1m██\u001b[38;2;2;2;2m██\u001b[38;2;1;1;1m██\u001b[38;2;0;0;0m██\u001b[38;2;3;3;3m██\u001b[38;2;8;8;8m██\u001b[38;2;0;0;0m██\u001b[38;2;0;0;0m██\u001b[38;2;0;0;0m██\u001b[38;2;0;0;0m██\u001b[38;2;24;24;24m██\u001b[38;2;32;32;32m██\u001b[38;2;0;0;0m██\u001b[38;2;0;0;0m██\u001b[38;2;0;0;0m██\u001b[38;2;0;0;0m██\u001b[38;2;0;0;0m██\u001b[38;2;37;37;37m██\u001b[38;2;70;70;70m██\u001b[38;2;50;50;50m██\u001b[38;2;9;9;9m██\u001b[38;2;0;0;0m██\u001b[38;2;0;0;0m██\u001b[38;2;6;6;6m██\u001b[38;2;1;1;1m██\u001b[38;2;0;0;0m██\u001b[0m\n",
       "\u001b[0m\u001b[38;2;0;0;0m██\u001b[38;2;0;0;0m██\u001b[38;2;0;0;0m██\u001b[38;2;1;1;1m██\u001b[38;2;1;1;1m██\u001b[38;2;3;3;3m██\u001b[38;2;8;8;8m██\u001b[38;2;0;0;0m██\u001b[38;2;0;0;0m██\u001b[38;2;0;0;0m██\u001b[38;2;0;0;0m██\u001b[38;2;7;7;7m██\u001b[38;2;53;53;53m██\u001b[38;2;79;79;79m██\u001b[38;2;72;72;72m██\u001b[38;2;0;0;0m██\u001b[38;2;0;0;0m██\u001b[38;2;0;0;0m██\u001b[38;2;0;0;0m██\u001b[38;2;3;3;3m██\u001b[38;2;103;103;103m██\u001b[38;2;114;114;114m██\u001b[38;2;21;21;21m██\u001b[38;2;0;0;0m██\u001b[38;2;0;0;0m██\u001b[38;2;0;0;0m██\u001b[38;2;0;0;0m██\u001b[38;2;0;0;0m██\u001b[0m\n",
       "\u001b[0m\u001b[38;2;0;0;0m██\u001b[38;2;0;0;0m██\u001b[38;2;2;2;2m██\u001b[38;2;4;4;4m██\u001b[38;2;1;1;1m██\u001b[38;2;0;0;0m██\u001b[38;2;0;0;0m██\u001b[38;2;0;0;0m██\u001b[38;2;0;0;0m██\u001b[38;2;15;15;15m██\u001b[38;2;37;37;37m██\u001b[38;2;38;38;38m██\u001b[38;2;41;41;41m██\u001b[38;2;25;25;25m██\u001b[38;2;53;53;53m██\u001b[38;2;0;0;0m██\u001b[38;2;0;0;0m██\u001b[38;2;0;0;0m██\u001b[38;2;0;0;0m██\u001b[38;2;4;4;4m██\u001b[38;2;106;106;106m██\u001b[38;2;153;153;153m██\u001b[38;2;64;64;64m██\u001b[38;2;0;0;0m██\u001b[38;2;0;0;0m██\u001b[38;2;0;0;0m██\u001b[38;2;0;0;0m██\u001b[38;2;0;0;0m██\u001b[0m\n",
       "\u001b[0m\u001b[38;2;5;5;5m██\u001b[38;2;7;7;7m██\u001b[38;2;1;1;1m██\u001b[38;2;0;0;0m██\u001b[38;2;0;0;0m██\u001b[38;2;0;0;0m██\u001b[38;2;2;2;2m██\u001b[38;2;20;20;20m██\u001b[38;2;32;32;32m██\u001b[38;2;46;46;46m██\u001b[38;2;66;66;66m██\u001b[38;2;56;56;56m██\u001b[38;2;12;12;12m██\u001b[38;2;0;0;0m██\u001b[38;2;0;0;0m██\u001b[38;2;0;0;0m██\u001b[38;2;0;0;0m██\u001b[38;2;0;0;0m██\u001b[38;2;0;0;0m██\u001b[38;2;0;0;0m██\u001b[38;2;77;77;77m██\u001b[38;2;139;139;139m██\u001b[38;2;55;55;55m██\u001b[38;2;0;0;0m██\u001b[38;2;0;0;0m██\u001b[38;2;0;0;0m██\u001b[38;2;0;0;0m██\u001b[38;2;0;0;0m██\u001b[0m\n",
       "\u001b[0m\u001b[38;2;9;9;9m██\u001b[38;2;3;3;3m██\u001b[38;2;0;0;0m██\u001b[38;2;0;0;0m██\u001b[38;2;0;0;0m██\u001b[38;2;26;26;26m██\u001b[38;2;43;43;43m██\u001b[38;2;46;46;46m██\u001b[38;2;51;51;51m██\u001b[38;2;46;46;46m██\u001b[38;2;18;18;18m██\u001b[38;2;0;0;0m██\u001b[38;2;0;0;0m██\u001b[38;2;0;0;0m██\u001b[38;2;0;0;0m██\u001b[38;2;0;0;0m██\u001b[38;2;0;0;0m██\u001b[38;2;0;0;0m██\u001b[38;2;0;0;0m██\u001b[38;2;23;23;23m██\u001b[38;2;35;35;35m██\u001b[38;2;86;86;86m██\u001b[38;2;33;33;33m██\u001b[38;2;0;0;0m██\u001b[38;2;0;0;0m██\u001b[38;2;0;0;0m██\u001b[38;2;0;0;0m██\u001b[38;2;0;0;0m██\u001b[0m\n",
       "\u001b[0m\u001b[38;2;2;2;2m██\u001b[38;2;0;0;0m██\u001b[38;2;0;0;0m██\u001b[38;2;11;11;11m██\u001b[38;2;36;36;36m██\u001b[38;2;48;48;48m██\u001b[38;2;28;28;28m██\u001b[38;2;27;27;27m██\u001b[38;2;16;16;16m██\u001b[38;2;0;0;0m██\u001b[38;2;0;0;0m██\u001b[38;2;0;0;0m██\u001b[38;2;0;0;0m██\u001b[38;2;0;0;0m██\u001b[38;2;0;0;0m██\u001b[38;2;0;0;0m██\u001b[38;2;0;0;0m██\u001b[38;2;0;0;0m██\u001b[38;2;0;0;0m██\u001b[38;2;26;26;26m██\u001b[38;2;33;33;33m██\u001b[38;2;53;53;53m██\u001b[38;2;21;21;21m██\u001b[38;2;0;0;0m██\u001b[38;2;0;0;0m██\u001b[38;2;0;0;0m██\u001b[38;2;0;0;0m██\u001b[38;2;0;0;0m██\u001b[0m\n",
       "\u001b[0m\u001b[38;2;2;2;2m██\u001b[38;2;8;8;8m██\u001b[38;2;28;28;28m██\u001b[38;2;41;41;41m██\u001b[38;2;30;30;30m██\u001b[38;2;8;8;8m██\u001b[38;2;0;0;0m██\u001b[38;2;0;0;0m██\u001b[38;2;0;0;0m██\u001b[38;2;0;0;0m██\u001b[38;2;0;0;0m██\u001b[38;2;0;0;0m██\u001b[38;2;0;0;0m██\u001b[38;2;0;0;0m██\u001b[38;2;7;7;7m██\u001b[38;2;23;23;23m██\u001b[38;2;14;14;14m██\u001b[38;2;0;0;0m██\u001b[38;2;2;2;2m██\u001b[38;2;19;19;19m██\u001b[38;2;15;15;15m██\u001b[38;2;15;15;15m██\u001b[38;2;0;0;0m██\u001b[38;2;0;0;0m██\u001b[38;2;0;0;0m██\u001b[38;2;0;0;0m██\u001b[38;2;1;1;1m██\u001b[38;2;0;0;0m██\u001b[0m\n",
       "\u001b[0m\u001b[38;2;0;0;0m██\u001b[38;2;0;0;0m██\u001b[38;2;32;32;32m██\u001b[38;2;23;23;23m██\u001b[38;2;0;0;0m██\u001b[38;2;0;0;0m██\u001b[38;2;0;0;0m██\u001b[38;2;0;0;0m██\u001b[38;2;0;0;0m██\u001b[38;2;0;0;0m██\u001b[38;2;0;0;0m██\u001b[38;2;0;0;0m██\u001b[38;2;0;0;0m██\u001b[38;2;18;18;18m██\u001b[38;2;4;4;4m██\u001b[38;2;0;0;0m██\u001b[38;2;0;0;0m██\u001b[38;2;2;2;2m██\u001b[38;2;37;37;37m██\u001b[38;2;17;17;17m██\u001b[38;2;0;0;0m██\u001b[38;2;0;0;0m██\u001b[38;2;0;0;0m██\u001b[38;2;0;0;0m██\u001b[38;2;0;0;0m██\u001b[38;2;0;0;0m██\u001b[38;2;0;0;0m██\u001b[38;2;0;0;0m██\u001b[0m\n",
       "\u001b[0m\u001b[38;2;0;0;0m██\u001b[38;2;6;6;6m██\u001b[38;2;22;22;22m██\u001b[38;2;0;0;0m██\u001b[38;2;0;0;0m██\u001b[38;2;0;0;0m██\u001b[38;2;0;0;0m██\u001b[38;2;0;0;0m██\u001b[38;2;0;0;0m██\u001b[38;2;0;0;0m██\u001b[38;2;0;0;0m██\u001b[38;2;0;0;0m██\u001b[38;2;0;0;0m██\u001b[38;2;0;0;0m██\u001b[38;2;0;0;0m██\u001b[38;2;0;0;0m██\u001b[38;2;8;8;8m██\u001b[38;2;2;2;2m██\u001b[38;2;0;0;0m██\u001b[38;2;2;2;2m██\u001b[38;2;18;18;18m██\u001b[38;2;0;0;0m██\u001b[38;2;0;0;0m██\u001b[38;2;0;0;0m██\u001b[38;2;0;0;0m██\u001b[38;2;1;1;1m██\u001b[38;2;0;0;0m██\u001b[38;2;0;0;0m██\u001b[0m\n",
       "\u001b[0m\u001b[38;2;8;8;8m██\u001b[38;2;8;8;8m██\u001b[38;2;14;14;14m██\u001b[38;2;11;11;11m██\u001b[38;2;8;8;8m██\u001b[38;2;0;0;0m██\u001b[38;2;0;0;0m██\u001b[38;2;0;0;0m██\u001b[38;2;0;0;0m██\u001b[38;2;5;5;5m██\u001b[38;2;3;3;3m██\u001b[38;2;0;0;0m██\u001b[38;2;0;0;0m██\u001b[38;2;9;9;9m██\u001b[38;2;28;28;28m██\u001b[38;2;7;7;7m██\u001b[38;2;0;0;0m██\u001b[38;2;3;3;3m██\u001b[38;2;14;14;14m██\u001b[38;2;2;2;2m██\u001b[38;2;0;0;0m██\u001b[38;2;0;0;0m██\u001b[38;2;0;0;0m██\u001b[38;2;0;0;0m██\u001b[38;2;0;0;0m██\u001b[38;2;0;0;0m██\u001b[38;2;0;0;0m██\u001b[38;2;0;0;0m██\u001b[0m\n",
       "\u001b[0m\u001b[38;2;0;0;0m██\u001b[38;2;8;8;8m██\u001b[38;2;34;34;34m██\u001b[38;2;27;27;27m██\u001b[38;2;0;0;0m██\u001b[38;2;0;0;0m██\u001b[38;2;0;0;0m██\u001b[38;2;0;0;0m██\u001b[38;2;4;4;4m██\u001b[38;2;0;0;0m██\u001b[38;2;0;0;0m██\u001b[38;2;0;0;0m██\u001b[38;2;1;1;1m██\u001b[38;2;11;11;11m██\u001b[38;2;0;0;0m██\u001b[38;2;0;0;0m██\u001b[38;2;6;6;6m██\u001b[38;2;0;0;0m██\u001b[38;2;0;0;0m██\u001b[38;2;0;0;0m██\u001b[38;2;0;0;0m██\u001b[38;2;0;0;0m██\u001b[38;2;0;0;0m██\u001b[38;2;0;0;0m██\u001b[38;2;0;0;0m██\u001b[38;2;1;1;1m██\u001b[38;2;0;0;0m██\u001b[38;2;0;0;0m██\u001b[0m\n",
       "\u001b[0m\u001b[38;2;0;0;0m██\u001b[38;2;1;1;1m██\u001b[38;2;8;8;8m██\u001b[38;2;7;7;7m██\u001b[38;2;0;0;0m██\u001b[38;2;0;0;0m██\u001b[38;2;0;0;0m██\u001b[38;2;0;0;0m██\u001b[38;2;0;0;0m██\u001b[38;2;0;0;0m██\u001b[38;2;0;0;0m██\u001b[38;2;0;0;0m██\u001b[38;2;2;2;2m██\u001b[38;2;0;0;0m██\u001b[38;2;4;4;4m██\u001b[38;2;0;0;0m██\u001b[38;2;0;0;0m██\u001b[38;2;0;0;0m██\u001b[38;2;0;0;0m██\u001b[38;2;0;0;0m██\u001b[38;2;0;0;0m██\u001b[38;2;0;0;0m██\u001b[38;2;0;0;0m██\u001b[38;2;1;1;1m██\u001b[38;2;0;0;0m██\u001b[38;2;0;0;0m██\u001b[38;2;0;0;0m██\u001b[38;2;0;0;0m██\u001b[0m\n",
       "\u001b[0m\u001b[38;2;8;8;8m██\u001b[38;2;2;2;2m██\u001b[38;2;0;0;0m██\u001b[38;2;0;0;0m██\u001b[38;2;0;0;0m██\u001b[38;2;12;12;12m██\u001b[38;2;15;15;15m██\u001b[38;2;14;14;14m██\u001b[38;2;15;15;15m██\u001b[38;2;0;0;0m██\u001b[38;2;5;5;5m██\u001b[38;2;0;0;0m██\u001b[38;2;1;1;1m██\u001b[38;2;5;5;5m██\u001b[38;2;0;0;0m██\u001b[38;2;0;0;0m██\u001b[38;2;0;0;0m██\u001b[38;2;0;0;0m██\u001b[38;2;0;0;0m██\u001b[38;2;0;0;0m██\u001b[38;2;0;0;0m██\u001b[38;2;1;1;1m██\u001b[38;2;0;0;0m██\u001b[38;2;0;0;0m██\u001b[38;2;0;0;0m██\u001b[38;2;0;0;0m██\u001b[38;2;0;0;0m██\u001b[38;2;0;0;0m██\u001b[0m"
      ]
     },
     "execution_count": 51,
     "metadata": {},
     "output_type": "execute_result"
    }
   ],
   "source": [
    "cnn_output = cnn_layer_same_pad2(images[:,:,:,1:3])\n",
    "display( cnn_output |> size )\n",
    "convert2image(MNIST,cnn_output[:,:,1,1])"
   ]
  },
  {
   "cell_type": "markdown",
   "metadata": {},
   "source": [
    "### <span style=\"color:orange\"> Example like the gif above </span>"
   ]
  },
  {
   "cell_type": "code",
   "execution_count": 52,
   "metadata": {},
   "outputs": [
    {
     "data": {
      "text/plain": [
       "(2, 2, 1, 10)"
      ]
     },
     "execution_count": 52,
     "metadata": {},
     "output_type": "execute_result"
    }
   ],
   "source": [
    "x = rand(Float32, 4, 4, 1, 10); #batch of monochrome images\n",
    "cnn_layer = Conv( (3,3) , 1 => 1 )\n",
    "cnn_layer( x ) |> size"
   ]
  },
  {
   "cell_type": "markdown",
   "metadata": {},
   "source": [
    "### <span style=\"color:orange\"> Add arbitrary padding (zeros) </span>\n",
    "\n",
    "![image info](./demoPics/arbitrary_padding_no_strides.gif)"
   ]
  },
  {
   "cell_type": "code",
   "execution_count": 53,
   "metadata": {},
   "outputs": [
    {
     "name": "stdout",
     "output_type": "stream",
     "text": [
      "(12, 12, 1, 1)\n"
     ]
    },
    {
     "data": {
      "text/plain": [
       "12×12×1×1 Array{Float32, 4}:\n",
       "[:, :, 1, 1] =\n",
       " 0.0  0.0  0.0   0.0           0.0        …   0.0        0.0  0.0  0.0\n",
       " 0.0  0.0  0.0   0.0           0.0            0.0        0.0  0.0  0.0\n",
       " 0.0  0.0  0.0   0.0           0.0            0.0        0.0  0.0  0.0\n",
       " 0.0  0.0  0.0  -0.000238704  -0.0210491      0.134548   0.0  0.0  0.0\n",
       " 0.0  0.0  0.0  -0.0186228     0.101532       0.216405   0.0  0.0  0.0\n",
       " 0.0  0.0  0.0  -0.0465493     0.581491   …  -0.194547   0.0  0.0  0.0\n",
       " 0.0  0.0  0.0   0.367365      0.248575      -0.0605663  0.0  0.0  0.0\n",
       " 0.0  0.0  0.0   0.0688659     0.237026      -0.170099   0.0  0.0  0.0\n",
       " 0.0  0.0  0.0  -0.00111508   -0.0142508     -0.0835007  0.0  0.0  0.0\n",
       " 0.0  0.0  0.0   0.0           0.0            0.0        0.0  0.0  0.0\n",
       " 0.0  0.0  0.0   0.0           0.0        …   0.0        0.0  0.0  0.0\n",
       " 0.0  0.0  0.0   0.0           0.0            0.0        0.0  0.0  0.0"
      ]
     },
     "execution_count": 53,
     "metadata": {},
     "output_type": "execute_result"
    }
   ],
   "source": [
    "x = rand(Float32, 4, 4, 1, 1); #batch of monochrome images\n",
    "cnn_layer = Conv( (3,3) , 1 => 1 , pad = 5)\n",
    "println( cnn_layer( x ) |> size )\n",
    "cnn_layer( x )"
   ]
  },
  {
   "cell_type": "code",
   "execution_count": 54,
   "metadata": {},
   "outputs": [
    {
     "name": "stdout",
     "output_type": "stream",
     "text": [
      "(2, 12, 1, 1)\n"
     ]
    },
    {
     "data": {
      "text/plain": [
       "2×12×1×1 Array{Float32, 4}:\n",
       "[:, :, 1, 1] =\n",
       " 0.0  0.0  0.0  -0.269605  -0.671843  -0.509784  …   0.07307   0.0  0.0  0.0\n",
       " 0.0  0.0  0.0  -0.380359  -0.278926  -0.351847     -0.253986  0.0  0.0  0.0"
      ]
     },
     "execution_count": 54,
     "metadata": {},
     "output_type": "execute_result"
    }
   ],
   "source": [
    "x = rand(Float32, 4, 4, 1, 1); \n",
    "cnn_layer = Conv( (3,3) , 1 => 1 , pad = (0,5) ) #non-uniform padding\n",
    "println( cnn_layer( x ) |> size )\n",
    "cnn_layer( x )"
   ]
  },
  {
   "cell_type": "code",
   "execution_count": null,
   "metadata": {},
   "outputs": [],
   "source": []
  },
  {
   "cell_type": "markdown",
   "metadata": {},
   "source": [
    "### <span style=\"color:orange\"> On 1D data </span>"
   ]
  },
  {
   "cell_type": "code",
   "execution_count": 55,
   "metadata": {},
   "outputs": [
    {
     "data": {
      "text/plain": [
       "(97, 1, 1)"
      ]
     },
     "execution_count": 55,
     "metadata": {},
     "output_type": "execute_result"
    }
   ],
   "source": [
    "x = rand(Float32, 100, 1, 1); #100elements, 1 channel, 10 samples in the batch \n",
    "cnn_layer = Conv( (4,) , 1 => 1 ) #4 element filter\n",
    "cnn_layer( x ) |> size"
   ]
  },
  {
   "cell_type": "code",
   "execution_count": 56,
   "metadata": {},
   "outputs": [
    {
     "data": {
      "text/plain": [
       "(100, 1, 1)"
      ]
     },
     "execution_count": 56,
     "metadata": {},
     "output_type": "execute_result"
    }
   ],
   "source": [
    "x = rand(Float32, 100, 1, 1); #100elements, 1 channel, 10 samples in the batch \n",
    "cnn_layer = Conv( (4,) , 1 => 1 , pad = SamePad() ) #4 element filter\n",
    "cnn_layer( x ) |> size"
   ]
  },
  {
   "cell_type": "markdown",
   "metadata": {},
   "source": [
    "### <span style=\"color:orange\"> Now apply 'Strides' </span>\n",
    "![image info](./demoPics/no_padding_strides.gif)\n",
    "\n",
    "(no padding but with strides)"
   ]
  },
  {
   "cell_type": "code",
   "execution_count": 57,
   "metadata": {},
   "outputs": [
    {
     "data": {
      "text/plain": [
       "(20, 1, 1)"
      ]
     },
     "execution_count": 57,
     "metadata": {},
     "output_type": "execute_result"
    }
   ],
   "source": [
    "x = rand(Float32, 100, 1, 1); #100elements, 1 channel, 10 samples in the batch \n",
    "cnn_layer = Conv( (4,) , 1 => 1 , stride=5 ) #4 element filter\n",
    "cnn_layer( x ) |> size"
   ]
  },
  {
   "cell_type": "code",
   "execution_count": 58,
   "metadata": {},
   "outputs": [
    {
     "data": {
      "text/plain": [
       "(97, 1, 1)"
      ]
     },
     "execution_count": 58,
     "metadata": {},
     "output_type": "execute_result"
    }
   ],
   "source": [
    "x = rand(Float32, 100, 1, 1); #100elements, 1 channel, 10 samples in the batch \n",
    "cnn_layer = Conv( (4,) , 1 => 1 , stride=1 ) \n",
    "cnn_layer( x ) |> size"
   ]
  },
  {
   "cell_type": "code",
   "execution_count": 59,
   "metadata": {},
   "outputs": [
    {
     "data": {
      "text/plain": [
       "(10, 10, 3, 10)"
      ]
     },
     "execution_count": 59,
     "metadata": {},
     "output_type": "execute_result"
    }
   ],
   "source": [
    "x = rand(Float32, 50, 50, 2, 10); #batch of monochrome images\n",
    "cnn_layer = Conv( (3,3) , 2 => 3 , stride = 5 )\n",
    "cnn_layer( x ) |> size"
   ]
  },
  {
   "cell_type": "markdown",
   "metadata": {},
   "source": [
    "### <span style=\"color:orange\"> Padding and Strides </span>\n",
    "\n",
    "![image info](./demoPics/padding_strides.gif)"
   ]
  },
  {
   "cell_type": "code",
   "execution_count": 60,
   "metadata": {},
   "outputs": [
    {
     "data": {
      "text/plain": [
       "(41, 41, 3, 10)"
      ]
     },
     "execution_count": 60,
     "metadata": {},
     "output_type": "execute_result"
    }
   ],
   "source": [
    "x = rand(Float32, 200, 200, 3, 10); #batch of monochrome images\n",
    "cnn_layer = Conv( (4,4) , 3 => 3 , pad=4 , stride = 5 )\n",
    "cnn_layer( x ) |> size"
   ]
  },
  {
   "cell_type": "markdown",
   "metadata": {},
   "source": [
    "### <span style=\"color:orange\"> Dilation, adds element skipping between element of the filter </span>\n",
    "\n",
    "![image info](./demoPics/dilation.gif)"
   ]
  },
  {
   "cell_type": "code",
   "execution_count": 61,
   "metadata": {},
   "outputs": [
    {
     "data": {
      "text/plain": [
       "(197, 197, 3, 10)"
      ]
     },
     "execution_count": 61,
     "metadata": {},
     "output_type": "execute_result"
    }
   ],
   "source": [
    "x = rand(Float32, 200, 200, 3, 10); \n",
    "cnn_layer = Conv( (4,4) , 3 => 3 , dilation = 1 )\n",
    "cnn_layer( x ) |> size"
   ]
  },
  {
   "cell_type": "code",
   "execution_count": 62,
   "metadata": {},
   "outputs": [
    {
     "data": {
      "text/plain": [
       "(194, 194, 3, 10)"
      ]
     },
     "execution_count": 62,
     "metadata": {},
     "output_type": "execute_result"
    }
   ],
   "source": [
    "x = rand(Float32, 200, 200, 3, 10); \n",
    "cnn_layer = Conv( (4,4) , 3 => 3 , dilation = 2 )\n",
    "cnn_layer( x ) |> size"
   ]
  },
  {
   "cell_type": "code",
   "execution_count": 63,
   "metadata": {},
   "outputs": [
    {
     "data": {
      "text/plain": [
       "(200, 200, 3, 10)"
      ]
     },
     "execution_count": 63,
     "metadata": {},
     "output_type": "execute_result"
    }
   ],
   "source": [
    "x = rand(Float32, 200, 200, 3, 10); \n",
    "cnn_layer = Conv( (5,5) , 3 => 3 , pad = 2 , dilation=1 )\n",
    "cnn_layer( x ) |> size"
   ]
  },
  {
   "cell_type": "code",
   "execution_count": 64,
   "metadata": {},
   "outputs": [
    {
     "data": {
      "text/plain": [
       "(188, 188, 1, 10)"
      ]
     },
     "execution_count": 64,
     "metadata": {},
     "output_type": "execute_result"
    }
   ],
   "source": [
    "x = rand(Float32, 200, 200, 1, 10); \n",
    "cnn_layer = Conv( (5,5) , 1 => 1 , pad = 2 , dilation=4 )\n",
    "cnn_layer( x ) |> size"
   ]
  },
  {
   "cell_type": "code",
   "execution_count": 65,
   "metadata": {},
   "outputs": [
    {
     "data": {
      "text/plain": [
       "(16, 16, 1, 3)"
      ]
     },
     "metadata": {},
     "output_type": "display_data"
    },
    {
     "data": {
      "image/png": "[encoded data removed]",
      "text/html": [
       "<img src=\"data:image/png;base64,iVBORw0KGgoAAAANSUhEUgAAAHAAAABwCAAAAADji6uXAAAABGdBTUEAALGPC/xhBQAAAAFzUkdCAK7OHOkAAAAgY0hSTQAAeiYAAICEAAD6AAAAgOgAAHUwAADqYAAAOpgAABdwnLpRPAAAAjVJREFUaAW9wV1rFgQAhuHb9VjNpq4RtaWgQR7kCidEBJ5EgXjQx6H4M/wJ/gLBH1AQgdBJKQj2gWCDcNGQdCf6nk1Qp4s2jRgiTLiP3sGGlvFcV46j99Br6DS6wf8vlIWyUBbKQlkoy0W0htbQizyXSXSXTYSyUBbKQlkoC2VZRefQOJrhuexDU+gqw0JZKAtloSyUhbKwwQo6jI6hL1HQMvoC3UIzaAGNoevoc3QehbJQFspCWSgLZdmPXkKj6B10Ak2jn9BbaAJtR0fQFfQ9+hsNGBbKQlkoC2WhLJTlJFpEO9AAnUEvM2wZ3Ue70Dr6DZ1la6EslIWyUBbKQlleQaMMW0CzaBs6gN5F42gJfYv2sbVdKJSFslAWykJZKMsF9Agtozk2sYDG0dds4hD6BK2gNTSFQlkoC2WhLJSFsnzHsxpBl9jaHDqO1tE8eoBCWSgLZaEslIWysEHQGFph2DR6G91GK+gOegH9jA6gm+gGCmWhLJSFslAWysIGk2gvGkFj6CO0B32FdqOD6Ed0Hc2yiVAWykJZKAtloSxH0QR6A32GJtES+gH9ih6hRTRAf/FUoSyUhbJQFspCWT5EH6Mp9CeaR1fRNbSI7qEHPNVOtI5CWSgLZaEslIWyzKDX0S10Gd1ED9Ev6DH/0vtoGoWyUBbKQlkoC2X5A32D/kEjaIAGPKsd6BD6AK2ioFAWykJZKAtloSyn+G92ojdR0KfoVbSGfkejKJSFslAWykJZKHsCEdlVhzdmotYAAAAASUVORK5C\">"
      ],
      "text/plain": [
       "\u001b[0m\u001b[38;2;87;87;87m██\u001b[38;2;132;132;132m██\u001b[38;2;152;152;152m██\u001b[38;2;39;39;39m██\u001b[38;2;0;0;0m██\u001b[38;2;0;0;0m██\u001b[38;2;0;0;0m██\u001b[38;2;0;0;0m██\u001b[38;2;0;0;0m██\u001b[38;2;0;0;0m██\u001b[38;2;0;0;0m██\u001b[38;2;0;0;0m██\u001b[38;2;0;0;0m██\u001b[38;2;0;0;0m██\u001b[38;2;0;0;0m██\u001b[38;2;0;0;0m██\u001b[0m\n",
       "\u001b[0m\u001b[38;2;15;15;15m██\u001b[38;2;79;79;79m██\u001b[38;2;71;71;71m██\u001b[38;2;45;45;45m██\u001b[38;2;0;0;0m██\u001b[38;2;0;0;0m██\u001b[38;2;0;0;0m██\u001b[38;2;0;0;0m██\u001b[38;2;0;0;0m██\u001b[38;2;0;0;0m██\u001b[38;2;0;0;0m██\u001b[38;2;0;0;0m██\u001b[38;2;24;24;24m██\u001b[38;2;0;0;0m██\u001b[38;2;0;0;0m██\u001b[38;2;0;0;0m██\u001b[0m\n",
       "\u001b[0m\u001b[38;2;0;0;0m██\u001b[38;2;0;0;0m██\u001b[38;2;16;16;16m██\u001b[38;2;64;64;64m██\u001b[38;2;0;0;0m██\u001b[38;2;0;0;0m██\u001b[38;2;0;0;0m██\u001b[38;2;0;0;0m██\u001b[38;2;0;0;0m██\u001b[38;2;0;0;0m██\u001b[38;2;0;0;0m██\u001b[38;2;0;0;0m██\u001b[38;2;55;55;55m██\u001b[38;2;49;49;49m██\u001b[38;2;0;0;0m██\u001b[38;2;0;0;0m██\u001b[0m\n",
       "\u001b[0m\u001b[38;2;0;0;0m██\u001b[38;2;0;0;0m██\u001b[38;2;0;0;0m██\u001b[38;2;113;113;113m██\u001b[38;2;136;136;136m██\u001b[38;2;38;38;38m██\u001b[38;2;42;42;42m██\u001b[38;2;22;22;22m██\u001b[38;2;101;101;101m██\u001b[38;2;72;72;72m██\u001b[38;2;120;120;120m██\u001b[38;2;76;76;76m██\u001b[38;2;88;88;88m██\u001b[38;2;43;43;43m██\u001b[38;2;78;78;78m██\u001b[38;2;0;0;0m██\u001b[0m\n",
       "\u001b[0m\u001b[38;2;32;32;32m██\u001b[38;2;39;39;39m██\u001b[38;2;48;48;48m██\u001b[38;2;154;154;154m██\u001b[38;2;243;243;243m██\u001b[38;2;179;179;179m██\u001b[38;2;110;110;110m██\u001b[38;2;143;143;143m██\u001b[38;2;161;161;161m██\u001b[38;2;166;166;166m██\u001b[38;2;225;225;225m██\u001b[38;2;169;169;169m██\u001b[38;2;89;89;89m██\u001b[38;2;31;31;31m██\u001b[38;2;41;41;41m██\u001b[38;2;0;0;0m██\u001b[0m\n",
       "\u001b[0m\u001b[38;2;145;145;145m██\u001b[38;2;115;115;115m██\u001b[38;2;125;125;125m██\u001b[38;2;117;117;117m██\u001b[38;2;133;133;133m██\u001b[38;2;141;141;141m██\u001b[38;2;110;110;110m██\u001b[38;2;123;123;123m██\u001b[38;2;122;122;122m██\u001b[38;2;136;136;136m██\u001b[38;2;165;165;165m██\u001b[38;2;111;111;111m██\u001b[38;2;0;0;0m██\u001b[38;2;0;0;0m██\u001b[38;2;0;0;0m██\u001b[38;2;0;0;0m██\u001b[0m\n",
       "\u001b[0m\u001b[38;2;156;156;156m██\u001b[38;2;124;124;124m██\u001b[38;2;125;125;125m██\u001b[38;2;73;73;73m██\u001b[38;2;12;12;12m██\u001b[38;2;13;13;13m██\u001b[38;2;50;50;50m██\u001b[38;2;94;94;94m██\u001b[38;2;110;110;110m██\u001b[38;2;99;99;99m██\u001b[38;2;50;50;50m██\u001b[38;2;81;81;81m██\u001b[38;2;0;0;0m██\u001b[38;2;0;0;0m██\u001b[38;2;0;0;0m██\u001b[38;2;14;14;14m██\u001b[0m\n",
       "\u001b[0m\u001b[38;2;81;81;81m██\u001b[38;2;75;75;75m██\u001b[38;2;55;55;55m██\u001b[38;2;0;0;0m██\u001b[38;2;0;0;0m██\u001b[38;2;0;0;0m██\u001b[38;2;6;6;6m██\u001b[38;2;66;66;66m██\u001b[38;2;0;0;0m██\u001b[38;2;0;0;0m██\u001b[38;2;0;0;0m██\u001b[38;2;97;97;97m██\u001b[38;2;67;67;67m██\u001b[38;2;51;51;51m██\u001b[38;2;43;43;43m██\u001b[38;2;68;68;68m██\u001b[0m\n",
       "\u001b[0m\u001b[38;2;0;0;0m██\u001b[38;2;0;0;0m██\u001b[38;2;0;0;0m██\u001b[38;2;0;0;0m██\u001b[38;2;0;0;0m██\u001b[38;2;0;0;0m██\u001b[38;2;8;8;8m██\u001b[38;2;0;0;0m██\u001b[38;2;0;0;0m██\u001b[38;2;0;0;0m██\u001b[38;2;0;0;0m██\u001b[38;2;42;42;42m██\u001b[38;2;129;129;129m██\u001b[38;2;128;128;128m██\u001b[38;2;77;77;77m██\u001b[38;2;63;63;63m██\u001b[0m\n",
       "\u001b[0m\u001b[38;2;0;0;0m██\u001b[38;2;0;0;0m██\u001b[38;2;4;4;4m██\u001b[38;2;16;16;16m██\u001b[38;2;0;0;0m██\u001b[38;2;0;0;0m██\u001b[38;2;51;51;51m██\u001b[38;2;87;87;87m██\u001b[38;2;61;61;61m██\u001b[38;2;45;45;45m██\u001b[38;2;20;20;20m██\u001b[38;2;45;45;45m██\u001b[38;2;61;61;61m██\u001b[38;2;98;98;98m██\u001b[38;2;39;39;39m██\u001b[38;2;0;0;0m██\u001b[0m\n",
       "\u001b[0m\u001b[38;2;0;0;0m██\u001b[38;2;0;0;0m██\u001b[38;2;28;28;28m██\u001b[38;2;56;56;56m██\u001b[38;2;58;58;58m██\u001b[38;2;70;70;70m██\u001b[38;2;134;134;134m██\u001b[38;2;161;161;161m██\u001b[38;2;64;64;64m██\u001b[38;2;60;60;60m██\u001b[38;2;87;87;87m██\u001b[38;2;17;17;17m██\u001b[38;2;0;0;0m██\u001b[38;2;0;0;0m██\u001b[38;2;0;0;0m██\u001b[38;2;0;0;0m██\u001b[0m\n",
       "\u001b[0m\u001b[38;2;70;70;70m██\u001b[38;2;88;88;88m██\u001b[38;2;111;111;111m██\u001b[38;2;188;188;188m██\u001b[38;2;212;212;212m██\u001b[38;2;189;189;189m██\u001b[38;2;118;118;118m██\u001b[38;2;76;76;76m██\u001b[38;2;58;58;58m██\u001b[38;2;28;28;28m██\u001b[38;2;23;23;23m██\u001b[38;2;0;0;0m██\u001b[38;2;0;0;0m██\u001b[38;2;0;0;0m██\u001b[38;2;0;0;0m██\u001b[38;2;0;0;0m██\u001b[0m\n",
       "\u001b[0m\u001b[38;2;126;126;126m██\u001b[38;2;192;192;192m██\u001b[38;2;217;217;217m██\u001b[38;2;198;198;198m██\u001b[38;2;161;161;161m██\u001b[38;2;112;112;112m██\u001b[38;2;66;66;66m██\u001b[38;2;36;36;36m██\u001b[38;2;14;14;14m██\u001b[38;2;0;0;0m██\u001b[38;2;0;0;0m██\u001b[38;2;0;0;0m██\u001b[38;2;0;0;0m██\u001b[38;2;0;0;0m██\u001b[38;2;13;13;13m██\u001b[38;2;12;12;12m██\u001b[0m\n",
       "\u001b[0m\u001b[38;2;174;174;174m██\u001b[38;2;214;214;214m██\u001b[38;2;188;188;188m██\u001b[38;2;125;125;125m██\u001b[38;2;87;87;87m██\u001b[38;2;74;74;74m██\u001b[38;2;4;4;4m██\u001b[38;2;0;0;0m██\u001b[38;2;0;0;0m██\u001b[38;2;0;0;0m██\u001b[38;2;0;0;0m██\u001b[38;2;0;0;0m██\u001b[38;2;0;0;0m██\u001b[38;2;0;0;0m██\u001b[38;2;65;65;65m██\u001b[38;2;108;108;108m██\u001b[0m\n",
       "\u001b[0m\u001b[38;2;127;127;127m██\u001b[38;2;82;82;82m██\u001b[38;2;72;72;72m██\u001b[38;2;74;74;74m██\u001b[38;2;37;37;37m██\u001b[38;2;0;0;0m██\u001b[38;2;0;0;0m██\u001b[38;2;0;0;0m██\u001b[38;2;0;0;0m██\u001b[38;2;0;0;0m██\u001b[38;2;0;0;0m██\u001b[38;2;10;10;10m██\u001b[38;2;57;57;57m██\u001b[38;2;111;111;111m██\u001b[38;2;96;96;96m██\u001b[38;2;112;112;112m██\u001b[0m\n",
       "\u001b[0m\u001b[38;2;0;0;0m██\u001b[38;2;0;0;0m██\u001b[38;2;0;0;0m██\u001b[38;2;0;0;0m██\u001b[38;2;0;0;0m██\u001b[38;2;0;0;0m██\u001b[38;2;0;0;0m██\u001b[38;2;0;0;0m██\u001b[38;2;13;13;13m██\u001b[38;2;39;39;39m██\u001b[38;2;43;43;43m██\u001b[38;2;119;119;119m██\u001b[38;2;136;136;136m██\u001b[38;2;128;128;128m██\u001b[38;2;59;59;59m██\u001b[38;2;68;68;68m██\u001b[0m"
      ]
     },
     "execution_count": 65,
     "metadata": {},
     "output_type": "execute_result"
    }
   ],
   "source": [
    "cnn_output = cnn_layer( images[:,:,:,1:3] )\n",
    "display( cnn_output |> size )\n",
    "convert2image( MNIST , cnn_output[:,:,1,1] )"
   ]
  },
  {
   "cell_type": "code",
   "execution_count": 66,
   "metadata": {},
   "outputs": [
    {
     "data": {
      "text/plain": [
       "(200, 200, 1, 10)"
      ]
     },
     "execution_count": 66,
     "metadata": {},
     "output_type": "execute_result"
    }
   ],
   "source": [
    "x = rand(Float32, 200, 200, 1, 10); \n",
    "cnn_layer = Conv( (5,5) , 1 => 1 , pad = SamePad() , dilation=4 )\n",
    "cnn_layer( x ) |> size"
   ]
  },
  {
   "cell_type": "code",
   "execution_count": 67,
   "metadata": {},
   "outputs": [
    {
     "data": {
      "text/plain": [
       "(28, 28, 1, 3)"
      ]
     },
     "metadata": {},
     "output_type": "display_data"
    },
    {
     "data": {
      "image/png": "[encoded data removed]",
      "text/html": [
       "<img src=\"data:image/png;base64,iVBORw0KGgoAAAANSUhEUgAAAHAAAABwCAAAAADji6uXAAAABGdBTUEAALGPC/xhBQAAAAFzUkdCAK7OHOkAAAAgY0hSTQAAeiYAAICEAAD6AAAAgOgAAHUwAADqYAAAOpgAABdwnLpRPAAAArFJREFUaAW9wctq3AUYB9Azk18yNuTWJliLlGItSFF3UhQUFHGh+B4+gkt3bn0GH8DiSheudFWKtEgxC7VpGyWkScxF09wmybj4L4aQIk0y/c7JNIY0WhhBC13sYtXpjKGHaGxoRLEoFsWyiQ66GEcXXfyNOL1NjRZ6+qJYFIti2cWuxraj9p1N0EEbbYwhikWxKBbPQXARkxrBQ2wjikWxKBYDdAk9DGMau5hAD/9oRLEoFsVigLpY0fhT34zGCKJYFItiaeMQI9jTGMabeIA1vIRRzPl/K55uRWMPUSyKRbFMoKWxp9FCGz2NRYMTxaJYFEsPLY3z2MAelvAi1g3GJPYRxaJYFMsWhnGAUUxhFfNOr4Or+A0zeIw3MIsoFsWiWLroauwajJfxPm7gOhbxFzqIYlEsisVzMIev8QEmMYn7WEIUi2JRLJ6TLcxjDlewjkNEsSgWxWLAXsV9jXu4hy8xgfOIYlEsimUUh9gxGOOO+wqXsIIoFsWiWLYM1gV8hB/0LWMZU4hiUSyKxYBN4AY2sIo/9K0jikWxKBZncBGPHfUtPsVneIjv8bO+KBbFolic0gV8jAPcxBONMdzENcxiwVFRLIpFsTilVczibXyOH3ELm/hOo4UhBPsaUSyKRbE4g9u4jFfwDtZwR18P+5jBaxhCFItiUSxttDGKIexg27P7Bm/hdwx5uvfQRg9RLIpFsYyjjTZmMIJFLHt2X+B1rDnuHJYwjS1EsSgWxXIOk+igjXmsOpk93NUYwyfo4VdsYwG7GEIUi2JRLB208QTz6DqbD3EdHVzDLdzFA40oFsWiWB45mcvYwQ7+xTC6Gh2sYRQtHGIR6/qiWBSLYnFCB1jWN4w2pnAV72IVv+AOlhwVxaJYFIsTWnDUC7iCaczgEX7CMnYcF8WiWBT7DxbckbQQcwSsAAAAAElFTkSuQmCC\">"
      ],
      "text/plain": [
       "\u001b[0m\u001b[38;2;19;19;19m██\u001b[38;2;22;22;22m██\u001b[38;2;22;22;22m██\u001b[38;2;23;23;23m██\u001b[38;2;29;29;29m██\u001b[38;2;30;30;30m██\u001b[38;2;25;25;25m██\u001b[38;2;18;18;18m██\u001b[38;2;0;0;0m██\u001b[38;2;0;0;0m██\u001b[38;2;0;0;0m██\u001b[38;2;0;0;0m██\u001b[38;2;0;0;0m██\u001b[38;2;0;0;0m██\u001b[38;2;0;0;0m██\u001b[38;2;0;0;0m██\u001b[38;2;0;0;0m██\u001b[38;2;0;0;0m██\u001b[38;2;0;0;0m██\u001b[38;2;0;0;0m██\u001b[38;2;0;0;0m██\u001b[38;2;0;0;0m██\u001b[38;2;12;12;12m██\u001b[38;2;11;11;11m██\u001b[38;2;15;15;15m██\u001b[38;2;15;15;15m██\u001b[38;2;0;0;0m██\u001b[38;2;0;0;0m██\u001b[0m\n",
       "\u001b[0m\u001b[38;2;7;7;7m██\u001b[38;2;14;14;14m██\u001b[38;2;9;9;9m██\u001b[38;2;22;22;22m██\u001b[38;2;24;24;24m██\u001b[38;2;19;19;19m██\u001b[38;2;0;0;0m██\u001b[38;2;4;4;4m██\u001b[38;2;0;0;0m██\u001b[38;2;0;0;0m██\u001b[38;2;0;0;0m██\u001b[38;2;0;0;0m██\u001b[38;2;0;0;0m██\u001b[38;2;0;0;0m██\u001b[38;2;0;0;0m██\u001b[38;2;0;0;0m██\u001b[38;2;0;0;0m██\u001b[38;2;0;0;0m██\u001b[38;2;0;0;0m██\u001b[38;2;0;0;0m██\u001b[38;2;0;0;0m██\u001b[38;2;0;0;0m██\u001b[38;2;0;0;0m██\u001b[38;2;0;0;0m██\u001b[38;2;1;1;1m██\u001b[38;2;0;0;0m██\u001b[38;2;0;0;0m██\u001b[38;2;0;0;0m██\u001b[0m\n",
       "\u001b[0m\u001b[38;2;0;0;0m██\u001b[38;2;0;0;0m██\u001b[38;2;0;0;0m██\u001b[38;2;0;0;0m██\u001b[38;2;0;0;0m██\u001b[38;2;0;0;0m██\u001b[38;2;0;0;0m██\u001b[38;2;0;0;0m██\u001b[38;2;0;0;0m██\u001b[38;2;0;0;0m██\u001b[38;2;0;0;0m██\u001b[38;2;0;0;0m██\u001b[38;2;0;0;0m██\u001b[38;2;0;0;0m██\u001b[38;2;0;0;0m██\u001b[38;2;0;0;0m██\u001b[38;2;0;0;0m██\u001b[38;2;0;0;0m██\u001b[38;2;0;0;0m██\u001b[38;2;0;0;0m██\u001b[38;2;0;0;0m██\u001b[38;2;0;0;0m██\u001b[38;2;0;0;0m██\u001b[38;2;4;4;4m██\u001b[38;2;11;11;11m██\u001b[38;2;13;13;13m██\u001b[38;2;15;15;15m██\u001b[38;2;27;27;27m██\u001b[0m\n",
       "\u001b[0m\u001b[38;2;0;0;0m██\u001b[38;2;0;0;0m██\u001b[38;2;0;0;0m██\u001b[38;2;0;0;0m██\u001b[38;2;0;0;0m██\u001b[38;2;0;0;0m██\u001b[38;2;0;0;0m██\u001b[38;2;0;0;0m██\u001b[38;2;0;0;0m██\u001b[38;2;0;0;0m██\u001b[38;2;0;0;0m██\u001b[38;2;0;0;0m██\u001b[38;2;0;0;0m██\u001b[38;2;0;0;0m██\u001b[38;2;0;0;0m██\u001b[38;2;0;0;0m██\u001b[38;2;0;0;0m██\u001b[38;2;0;0;0m██\u001b[38;2;0;0;0m██\u001b[38;2;0;0;0m██\u001b[38;2;0;0;0m██\u001b[38;2;4;4;4m██\u001b[38;2;27;27;27m██\u001b[38;2;42;42;42m██\u001b[38;2;42;42;42m██\u001b[38;2;46;46;46m██\u001b[38;2;14;14;14m██\u001b[38;2;18;18;18m██\u001b[0m\n",
       "\u001b[0m\u001b[38;2;0;0;0m██\u001b[38;2;0;0;0m██\u001b[38;2;0;0;0m██\u001b[38;2;0;0;0m██\u001b[38;2;0;0;0m██\u001b[38;2;0;0;0m██\u001b[38;2;0;0;0m██\u001b[38;2;0;0;0m██\u001b[38;2;0;0;0m██\u001b[38;2;0;0;0m██\u001b[38;2;0;0;0m██\u001b[38;2;0;0;0m██\u001b[38;2;0;0;0m██\u001b[38;2;0;0;0m██\u001b[38;2;0;0;0m██\u001b[38;2;0;0;0m██\u001b[38;2;0;0;0m██\u001b[38;2;0;0;0m██\u001b[38;2;0;0;0m██\u001b[38;2;25;25;25m██\u001b[38;2;24;24;24m██\u001b[38;2;29;29;29m██\u001b[38;2;48;48;48m██\u001b[38;2;41;41;41m██\u001b[38;2;55;55;55m██\u001b[38;2;54;54;54m██\u001b[38;2;0;0;0m██\u001b[38;2;0;0;0m██\u001b[0m\n",
       "\u001b[0m\u001b[38;2;0;0;0m██\u001b[38;2;0;0;0m██\u001b[38;2;0;0;0m██\u001b[38;2;0;0;0m██\u001b[38;2;0;0;0m██\u001b[38;2;0;0;0m██\u001b[38;2;0;0;0m██\u001b[38;2;0;0;0m██\u001b[38;2;0;0;0m██\u001b[38;2;0;0;0m██\u001b[38;2;0;0;0m██\u001b[38;2;0;0;0m██\u001b[38;2;0;0;0m██\u001b[38;2;0;0;0m██\u001b[38;2;0;0;0m██\u001b[38;2;0;0;0m██\u001b[38;2;0;0;0m██\u001b[38;2;0;0;0m██\u001b[38;2;0;0;0m██\u001b[38;2;20;20;20m██\u001b[38;2;0;0;0m██\u001b[38;2;0;0;0m██\u001b[38;2;0;0;0m██\u001b[38;2;0;0;0m██\u001b[38;2;0;0;0m██\u001b[38;2;20;20;20m██\u001b[38;2;0;0;0m██\u001b[38;2;6;6;6m██\u001b[0m\n",
       "\u001b[0m\u001b[38;2;2;2;2m██\u001b[38;2;0;0;0m██\u001b[38;2;6;6;6m██\u001b[38;2;0;0;0m██\u001b[38;2;0;0;0m██\u001b[38;2;5;5;5m██\u001b[38;2;50;50;50m██\u001b[38;2;17;17;17m██\u001b[38;2;0;0;0m██\u001b[38;2;24;24;24m██\u001b[38;2;34;34;34m██\u001b[38;2;0;0;0m██\u001b[38;2;0;0;0m██\u001b[38;2;0;0;0m██\u001b[38;2;0;0;0m██\u001b[38;2;0;0;0m██\u001b[38;2;0;0;0m██\u001b[38;2;0;0;0m██\u001b[38;2;0;0;0m██\u001b[38;2;0;0;0m██\u001b[38;2;0;0;0m██\u001b[38;2;0;0;0m██\u001b[38;2;0;0;0m██\u001b[38;2;0;0;0m██\u001b[38;2;0;0;0m██\u001b[38;2;0;0;0m██\u001b[38;2;0;0;0m██\u001b[38;2;0;0;0m██\u001b[0m\n",
       "\u001b[0m\u001b[38;2;16;16;16m██\u001b[38;2;17;17;17m██\u001b[38;2;17;17;17m██\u001b[38;2;0;0;0m██\u001b[38;2;0;0;0m██\u001b[38;2;6;6;6m██\u001b[38;2;52;52;52m██\u001b[38;2;16;16;16m██\u001b[38;2;0;0;0m██\u001b[38;2;0;0;0m██\u001b[38;2;0;0;0m██\u001b[38;2;0;0;0m██\u001b[38;2;0;0;0m██\u001b[38;2;0;0;0m██\u001b[38;2;0;0;0m██\u001b[38;2;0;0;0m██\u001b[38;2;0;0;0m██\u001b[38;2;0;0;0m██\u001b[38;2;0;0;0m██\u001b[38;2;0;0;0m██\u001b[38;2;0;0;0m██\u001b[38;2;0;0;0m██\u001b[38;2;0;0;0m██\u001b[38;2;0;0;0m██\u001b[38;2;0;0;0m██\u001b[38;2;0;0;0m██\u001b[38;2;0;0;0m██\u001b[38;2;0;0;0m██\u001b[0m\n",
       "\u001b[0m\u001b[38;2;15;15;15m██\u001b[38;2;17;17;17m██\u001b[38;2;17;17;17m██\u001b[38;2;17;17;17m██\u001b[38;2;2;2;2m██\u001b[38;2;0;0;0m██\u001b[38;2;30;30;30m██\u001b[38;2;38;38;38m██\u001b[38;2;0;0;0m██\u001b[38;2;0;0;0m██\u001b[38;2;0;0;0m██\u001b[38;2;0;0;0m██\u001b[38;2;0;0;0m██\u001b[38;2;0;0;0m██\u001b[38;2;0;0;0m██\u001b[38;2;0;0;0m██\u001b[38;2;0;0;0m██\u001b[38;2;0;0;0m██\u001b[38;2;0;0;0m██\u001b[38;2;0;0;0m██\u001b[38;2;0;0;0m██\u001b[38;2;0;0;0m██\u001b[38;2;0;0;0m██\u001b[38;2;0;0;0m██\u001b[38;2;0;0;0m██\u001b[38;2;0;0;0m██\u001b[38;2;15;15;15m██\u001b[38;2;11;11;11m██\u001b[0m\n",
       "\u001b[0m\u001b[38;2;5;5;5m██\u001b[38;2;10;10;10m██\u001b[38;2;7;7;7m██\u001b[38;2;17;17;17m██\u001b[38;2;18;18;18m██\u001b[38;2;0;0;0m██\u001b[38;2;0;0;0m██\u001b[38;2;0;0;0m██\u001b[38;2;0;0;0m██\u001b[38;2;0;0;0m██\u001b[38;2;0;0;0m██\u001b[38;2;0;0;0m██\u001b[38;2;0;0;0m██\u001b[38;2;0;0;0m██\u001b[38;2;0;0;0m██\u001b[38;2;0;0;0m██\u001b[38;2;0;0;0m██\u001b[38;2;0;0;0m██\u001b[38;2;0;0;0m██\u001b[38;2;0;0;0m██\u001b[38;2;0;0;0m██\u001b[38;2;7;7;7m██\u001b[38;2;41;41;41m██\u001b[38;2;3;3;3m██\u001b[38;2;23;23;23m██\u001b[38;2;0;0;0m██\u001b[38;2;59;59;59m██\u001b[38;2;17;17;17m██\u001b[0m\n",
       "\u001b[0m\u001b[38;2;0;0;0m██\u001b[38;2;0;0;0m██\u001b[38;2;0;0;0m██\u001b[38;2;0;0;0m██\u001b[38;2;0;0;0m██\u001b[38;2;0;0;0m██\u001b[38;2;0;0;0m██\u001b[38;2;0;0;0m██\u001b[38;2;0;0;0m██\u001b[38;2;0;0;0m██\u001b[38;2;0;0;0m██\u001b[38;2;0;0;0m██\u001b[38;2;0;0;0m██\u001b[38;2;0;0;0m██\u001b[38;2;0;0;0m██\u001b[38;2;0;0;0m██\u001b[38;2;0;0;0m██\u001b[38;2;0;0;0m██\u001b[38;2;0;0;0m██\u001b[38;2;0;0;0m██\u001b[38;2;0;0;0m██\u001b[38;2;34;34;34m██\u001b[38;2;105;105;105m██\u001b[38;2;95;95;95m██\u001b[38;2;136;136;136m██\u001b[38;2;112;112;112m██\u001b[38;2;84;84;84m██\u001b[38;2;66;66;66m██\u001b[0m\n",
       "\u001b[0m\u001b[38;2;0;0;0m██\u001b[38;2;0;0;0m██\u001b[38;2;0;0;0m██\u001b[38;2;0;0;0m██\u001b[38;2;0;0;0m██\u001b[38;2;0;0;0m██\u001b[38;2;0;0;0m██\u001b[38;2;0;0;0m██\u001b[38;2;0;0;0m██\u001b[38;2;0;0;0m██\u001b[38;2;0;0;0m██\u001b[38;2;0;0;0m██\u001b[38;2;0;0;0m██\u001b[38;2;0;0;0m██\u001b[38;2;0;0;0m██\u001b[38;2;0;0;0m██\u001b[38;2;0;0;0m██\u001b[38;2;0;0;0m██\u001b[38;2;0;0;0m██\u001b[38;2;0;0;0m██\u001b[38;2;0;0;0m██\u001b[38;2;0;0;0m██\u001b[38;2;10;10;10m██\u001b[38;2;75;75;75m██\u001b[38;2;151;151;151m██\u001b[38;2;151;151;151m██\u001b[38;2;77;77;77m██\u001b[38;2;44;44;44m██\u001b[0m\n",
       "\u001b[0m\u001b[38;2;0;0;0m██\u001b[38;2;0;0;0m██\u001b[38;2;0;0;0m██\u001b[38;2;0;0;0m██\u001b[38;2;0;0;0m██\u001b[38;2;0;0;0m██\u001b[38;2;0;0;0m██\u001b[38;2;0;0;0m██\u001b[38;2;0;0;0m██\u001b[38;2;0;0;0m██\u001b[38;2;0;0;0m██\u001b[38;2;0;0;0m██\u001b[38;2;0;0;0m██\u001b[38;2;0;0;0m██\u001b[38;2;0;0;0m██\u001b[38;2;0;0;0m██\u001b[38;2;0;0;0m██\u001b[38;2;0;0;0m██\u001b[38;2;0;0;0m██\u001b[38;2;0;0;0m██\u001b[38;2;0;0;0m██\u001b[38;2;0;0;0m██\u001b[38;2;0;0;0m██\u001b[38;2;45;45;45m██\u001b[38;2;117;117;117m██\u001b[38;2;148;148;148m██\u001b[38;2;61;61;61m██\u001b[38;2;42;42;42m██\u001b[0m\n",
       "\u001b[0m\u001b[38;2;0;0;0m██\u001b[38;2;0;0;0m██\u001b[38;2;0;0;0m██\u001b[38;2;0;0;0m██\u001b[38;2;0;0;0m██\u001b[38;2;0;0;0m██\u001b[38;2;0;0;0m██\u001b[38;2;0;0;0m██\u001b[38;2;0;0;0m██\u001b[38;2;0;0;0m██\u001b[38;2;0;0;0m██\u001b[38;2;0;0;0m██\u001b[38;2;0;0;0m██\u001b[38;2;0;0;0m██\u001b[38;2;0;0;0m██\u001b[38;2;0;0;0m██\u001b[38;2;0;0;0m██\u001b[38;2;0;0;0m██\u001b[38;2;0;0;0m██\u001b[38;2;0;0;0m██\u001b[38;2;35;35;35m██\u001b[38;2;0;0;0m██\u001b[38;2;0;0;0m██\u001b[38;2;0;0;0m██\u001b[38;2;0;0;0m██\u001b[38;2;134;134;134m██\u001b[38;2;75;75;75m██\u001b[38;2;78;78;78m██\u001b[0m\n",
       "\u001b[0m\u001b[38;2;10;10;10m██\u001b[38;2;8;8;8m██\u001b[38;2;0;0;0m██\u001b[38;2;0;0;0m██\u001b[38;2;0;0;0m██\u001b[38;2;0;0;0m██\u001b[38;2;0;0;0m██\u001b[38;2;0;0;0m██\u001b[38;2;0;0;0m██\u001b[38;2;0;0;0m██\u001b[38;2;0;0;0m██\u001b[38;2;0;0;0m██\u001b[38;2;0;0;0m██\u001b[38;2;0;0;0m██\u001b[38;2;0;0;0m██\u001b[38;2;0;0;0m██\u001b[38;2;0;0;0m██\u001b[38;2;0;0;0m██\u001b[38;2;0;0;0m██\u001b[38;2;0;0;0m██\u001b[38;2;48;48;48m██\u001b[38;2;0;0;0m██\u001b[38;2;0;0;0m██\u001b[38;2;0;0;0m██\u001b[38;2;0;0;0m██\u001b[38;2;21;21;21m██\u001b[38;2;46;46;46m██\u001b[38;2;26;26;26m██\u001b[0m\n",
       "\u001b[0m\u001b[38;2;0;0;0m██\u001b[38;2;0;0;0m██\u001b[38;2;0;0;0m██\u001b[38;2;0;0;0m██\u001b[38;2;0;0;0m██\u001b[38;2;0;0;0m██\u001b[38;2;0;0;0m██\u001b[38;2;0;0;0m██\u001b[38;2;0;0;0m██\u001b[38;2;0;0;0m██\u001b[38;2;0;0;0m██\u001b[38;2;0;0;0m██\u001b[38;2;0;0;0m██\u001b[38;2;0;0;0m██\u001b[38;2;0;0;0m██\u001b[38;2;0;0;0m██\u001b[38;2;0;0;0m██\u001b[38;2;0;0;0m██\u001b[38;2;0;0;0m██\u001b[38;2;0;0;0m██\u001b[38;2;66;66;66m██\u001b[38;2;69;69;69m██\u001b[38;2;0;0;0m██\u001b[38;2;0;0;0m██\u001b[38;2;0;0;0m██\u001b[38;2;0;0;0m██\u001b[38;2;0;0;0m██\u001b[38;2;16;16;16m██\u001b[0m\n",
       "\u001b[0m\u001b[38;2;0;0;0m██\u001b[38;2;0;0;0m██\u001b[38;2;0;0;0m██\u001b[38;2;0;0;0m██\u001b[38;2;0;0;0m██\u001b[38;2;0;0;0m██\u001b[38;2;0;0;0m██\u001b[38;2;0;0;0m██\u001b[38;2;0;0;0m██\u001b[38;2;0;0;0m██\u001b[38;2;0;0;0m██\u001b[38;2;0;0;0m██\u001b[38;2;0;0;0m██\u001b[38;2;0;0;0m██\u001b[38;2;0;0;0m██\u001b[38;2;0;0;0m██\u001b[38;2;0;0;0m██\u001b[38;2;0;0;0m██\u001b[38;2;0;0;0m██\u001b[38;2;0;0;0m██\u001b[38;2;80;80;80m██\u001b[38;2;134;134;134m██\u001b[38;2;54;54;54m██\u001b[38;2;36;36;36m██\u001b[38;2;0;0;0m██\u001b[38;2;0;0;0m██\u001b[38;2;0;0;0m██\u001b[38;2;0;0;0m██\u001b[0m\n",
       "\u001b[0m\u001b[38;2;0;0;0m██\u001b[38;2;0;0;0m██\u001b[38;2;0;0;0m██\u001b[38;2;0;0;0m██\u001b[38;2;0;0;0m██\u001b[38;2;0;0;0m██\u001b[38;2;0;0;0m██\u001b[38;2;0;0;0m██\u001b[38;2;0;0;0m██\u001b[38;2;0;0;0m██\u001b[38;2;0;0;0m██\u001b[38;2;0;0;0m██\u001b[38;2;0;0;0m██\u001b[38;2;0;0;0m██\u001b[38;2;0;0;0m██\u001b[38;2;23;23;23m██\u001b[38;2;0;0;0m██\u001b[38;2;0;0;0m██\u001b[38;2;0;0;0m██\u001b[38;2;0;0;0m██\u001b[38;2;0;0;0m██\u001b[38;2;156;156;156m██\u001b[38;2;157;157;157m██\u001b[38;2;125;125;125m██\u001b[38;2;52;52;52m██\u001b[38;2;0;0;0m██\u001b[38;2;0;0;0m██\u001b[38;2;0;0;0m██\u001b[0m\n",
       "\u001b[0m\u001b[38;2;0;0;0m██\u001b[38;2;0;0;0m██\u001b[38;2;0;0;0m██\u001b[38;2;0;0;0m██\u001b[38;2;0;0;0m██\u001b[38;2;0;0;0m██\u001b[38;2;0;0;0m██\u001b[38;2;0;0;0m██\u001b[38;2;0;0;0m██\u001b[38;2;0;0;0m██\u001b[38;2;0;0;0m██\u001b[38;2;0;0;0m██\u001b[38;2;0;0;0m██\u001b[38;2;0;0;0m██\u001b[38;2;18;18;18m██\u001b[38;2;96;96;96m██\u001b[38;2;93;93;93m██\u001b[38;2;11;11;11m██\u001b[38;2;0;0;0m██\u001b[38;2;0;0;0m██\u001b[38;2;12;12;12m██\u001b[38;2;74;74;74m██\u001b[38;2;110;110;110m██\u001b[38;2;68;68;68m██\u001b[38;2;26;26;26m██\u001b[38;2;0;0;0m██\u001b[38;2;0;0;0m██\u001b[38;2;0;0;0m██\u001b[0m\n",
       "\u001b[0m\u001b[38;2;0;0;0m██\u001b[38;2;0;0;0m██\u001b[38;2;0;0;0m██\u001b[38;2;0;0;0m██\u001b[38;2;0;0;0m██\u001b[38;2;0;0;0m██\u001b[38;2;0;0;0m██\u001b[38;2;0;0;0m██\u001b[38;2;0;0;0m██\u001b[38;2;0;0;0m██\u001b[38;2;0;0;0m██\u001b[38;2;0;0;0m██\u001b[38;2;0;0;0m██\u001b[38;2;0;0;0m██\u001b[38;2;0;0;0m██\u001b[38;2;54;54;54m██\u001b[38;2;110;110;110m██\u001b[38;2;130;130;130m██\u001b[38;2;67;67;67m██\u001b[38;2;11;11;11m██\u001b[38;2;0;0;0m██\u001b[38;2;0;0;0m██\u001b[38;2;0;0;0m██\u001b[38;2;1;1;1m██\u001b[38;2;4;4;4m██\u001b[38;2;4;4;4m██\u001b[38;2;0;0;0m██\u001b[38;2;0;0;0m██\u001b[0m\n",
       "\u001b[0m\u001b[38;2;0;0;0m██\u001b[38;2;0;0;0m██\u001b[38;2;0;0;0m██\u001b[38;2;0;0;0m██\u001b[38;2;0;0;0m██\u001b[38;2;0;0;0m██\u001b[38;2;0;0;0m██\u001b[38;2;0;0;0m██\u001b[38;2;0;0;0m██\u001b[38;2;0;0;0m██\u001b[38;2;0;0;0m██\u001b[38;2;0;0;0m██\u001b[38;2;0;0;0m██\u001b[38;2;0;0;0m██\u001b[38;2;0;0;0m██\u001b[38;2;0;0;0m██\u001b[38;2;83;83;83m██\u001b[38;2;143;143;143m██\u001b[38;2;124;124;124m██\u001b[38;2;50;50;50m██\u001b[38;2;0;0;0m██\u001b[38;2;0;0;0m██\u001b[38;2;0;0;0m██\u001b[38;2;0;0;0m██\u001b[38;2;0;0;0m██\u001b[38;2;20;20;20m██\u001b[38;2;59;59;59m██\u001b[38;2;62;62;62m██\u001b[0m\n",
       "\u001b[0m\u001b[38;2;2;2;2m██\u001b[38;2;4;4;4m██\u001b[38;2;14;14;14m██\u001b[38;2;17;17;17m██\u001b[38;2;9;9;9m██\u001b[38;2;0;0;0m██\u001b[38;2;0;0;0m██\u001b[38;2;0;0;0m██\u001b[38;2;0;0;0m██\u001b[38;2;0;0;0m██\u001b[38;2;0;0;0m██\u001b[38;2;0;0;0m██\u001b[38;2;0;0;0m██\u001b[38;2;0;0;0m██\u001b[38;2;0;0;0m██\u001b[38;2;0;0;0m██\u001b[38;2;0;0;0m██\u001b[38;2;135;135;135m██\u001b[38;2;87;87;87m██\u001b[38;2;53;53;53m██\u001b[38;2;0;0;0m██\u001b[38;2;0;0;0m██\u001b[38;2;0;0;0m██\u001b[38;2;0;0;0m██\u001b[38;2;0;0;0m██\u001b[38;2;81;81;81m██\u001b[38;2;83;83;83m██\u001b[38;2;82;82;82m██\u001b[0m\n",
       "\u001b[0m\u001b[38;2;15;15;15m██\u001b[38;2;17;17;17m██\u001b[38;2;19;19;19m██\u001b[38;2;39;39;39m██\u001b[38;2;45;45;45m██\u001b[38;2;21;21;21m██\u001b[38;2;0;0;0m██\u001b[38;2;0;0;0m██\u001b[38;2;0;0;0m██\u001b[38;2;0;0;0m██\u001b[38;2;0;0;0m██\u001b[38;2;0;0;0m██\u001b[38;2;0;0;0m██\u001b[38;2;0;0;0m██\u001b[38;2;0;0;0m██\u001b[38;2;0;0;0m██\u001b[38;2;0;0;0m██\u001b[38;2;6;6;6m██\u001b[38;2;49;49;49m██\u001b[38;2;32;32;32m██\u001b[38;2;0;0;0m██\u001b[38;2;0;0;0m██\u001b[38;2;0;0;0m██\u001b[38;2;0;0;0m██\u001b[38;2;9;9;9m██\u001b[38;2;59;59;59m██\u001b[38;2;78;78;78m██\u001b[38;2;68;68;68m██\u001b[0m\n",
       "\u001b[0m\u001b[38;2;24;24;24m██\u001b[38;2;39;39;39m██\u001b[38;2;46;46;46m██\u001b[38;2;48;48;48m██\u001b[38;2;18;18;18m██\u001b[38;2;0;0;0m██\u001b[38;2;0;0;0m██\u001b[38;2;0;0;0m██\u001b[38;2;0;0;0m██\u001b[38;2;0;0;0m██\u001b[38;2;0;0;0m██\u001b[38;2;0;0;0m██\u001b[38;2;0;0;0m██\u001b[38;2;0;0;0m██\u001b[38;2;0;0;0m██\u001b[38;2;0;0;0m██\u001b[38;2;0;0;0m██\u001b[38;2;0;0;0m██\u001b[38;2;0;0;0m██\u001b[38;2;0;0;0m██\u001b[38;2;12;12;12m██\u001b[38;2;86;86;86m██\u001b[38;2;85;85;85m██\u001b[38;2;42;42;42m██\u001b[38;2;33;33;33m██\u001b[38;2;33;33;33m██\u001b[38;2;52;52;52m██\u001b[38;2;55;55;55m██\u001b[0m\n",
       "\u001b[0m\u001b[38;2;31;31;31m██\u001b[38;2;41;41;41m██\u001b[38;2;35;35;35m██\u001b[38;2;5;5;5m██\u001b[38;2;0;0;0m██\u001b[38;2;0;0;0m██\u001b[38;2;0;0;0m██\u001b[38;2;0;0;0m██\u001b[38;2;0;0;0m██\u001b[38;2;0;0;0m██\u001b[38;2;0;0;0m██\u001b[38;2;0;0;0m██\u001b[38;2;0;0;0m██\u001b[38;2;0;0;0m██\u001b[38;2;0;0;0m██\u001b[38;2;0;0;0m██\u001b[38;2;0;0;0m██\u001b[38;2;0;0;0m██\u001b[38;2;0;0;0m██\u001b[38;2;0;0;0m██\u001b[38;2;79;79;79m██\u001b[38;2;127;127;127m██\u001b[38;2;134;134;134m██\u001b[38;2;121;121;121m██\u001b[38;2;65;65;65m██\u001b[38;2;16;16;16m██\u001b[38;2;0;0;0m██\u001b[38;2;0;0;0m██\u001b[0m\n",
       "\u001b[0m\u001b[38;2;0;0;0m██\u001b[38;2;0;0;0m██\u001b[38;2;0;0;0m██\u001b[38;2;0;0;0m██\u001b[38;2;0;0;0m██\u001b[38;2;0;0;0m██\u001b[38;2;0;0;0m██\u001b[38;2;0;0;0m██\u001b[38;2;0;0;0m██\u001b[38;2;0;0;0m██\u001b[38;2;0;0;0m██\u001b[38;2;0;0;0m██\u001b[38;2;29;29;29m██\u001b[38;2;21;21;21m██\u001b[38;2;13;13;13m██\u001b[38;2;0;0;0m██\u001b[38;2;5;5;5m██\u001b[38;2;0;0;0m██\u001b[38;2;0;0;0m██\u001b[38;2;7;7;7m██\u001b[38;2;62;62;62m██\u001b[38;2;137;137;137m██\u001b[38;2;138;138;138m██\u001b[38;2;119;119;119m██\u001b[38;2;41;41;41m██\u001b[38;2;0;0;0m██\u001b[38;2;0;0;0m██\u001b[38;2;0;0;0m██\u001b[0m\n",
       "\u001b[0m\u001b[38;2;0;0;0m██\u001b[38;2;0;0;0m██\u001b[38;2;0;0;0m██\u001b[38;2;0;0;0m██\u001b[38;2;0;0;0m██\u001b[38;2;0;0;0m██\u001b[38;2;0;0;0m██\u001b[38;2;0;0;0m██\u001b[38;2;0;0;0m██\u001b[38;2;0;0;0m██\u001b[38;2;0;0;0m██\u001b[38;2;0;0;0m██\u001b[38;2;26;26;26m██\u001b[38;2;0;0;0m██\u001b[38;2;0;0;0m██\u001b[38;2;0;0;0m██\u001b[38;2;10;10;10m██\u001b[38;2;7;7;7m██\u001b[38;2;23;23;23m██\u001b[38;2;57;57;57m██\u001b[38;2;122;122;122m██\u001b[38;2;119;119;119m██\u001b[38;2;72;72;72m██\u001b[38;2;22;22;22m██\u001b[38;2;0;0;0m██\u001b[38;2;0;0;0m██\u001b[38;2;0;0;0m██\u001b[38;2;0;0;0m██\u001b[0m\n",
       "\u001b[0m\u001b[38;2;0;0;0m██\u001b[38;2;0;0;0m██\u001b[38;2;0;0;0m██\u001b[38;2;0;0;0m██\u001b[38;2;0;0;0m██\u001b[38;2;0;0;0m██\u001b[38;2;0;0;0m██\u001b[38;2;0;0;0m██\u001b[38;2;0;0;0m██\u001b[38;2;0;0;0m██\u001b[38;2;0;0;0m██\u001b[38;2;0;0;0m██\u001b[38;2;0;0;0m██\u001b[38;2;0;0;0m██\u001b[38;2;0;0;0m██\u001b[38;2;0;0;0m██\u001b[38;2;18;18;18m██\u001b[38;2;49;49;49m██\u001b[38;2;68;68;68m██\u001b[38;2;88;88;88m██\u001b[38;2;91;91;91m██\u001b[38;2;29;29;29m██\u001b[38;2;8;8;8m██\u001b[38;2;0;0;0m██\u001b[38;2;0;0;0m██\u001b[38;2;0;0;0m██\u001b[38;2;0;0;0m██\u001b[38;2;0;0;0m██\u001b[0m"
      ]
     },
     "execution_count": 67,
     "metadata": {},
     "output_type": "execute_result"
    }
   ],
   "source": [
    "cnn_output = cnn_layer( images[:,:,:,1:3] )\n",
    "display( cnn_output |> size )\n",
    "convert2image( MNIST , cnn_output[:,:,1,1] )"
   ]
  },
  {
   "cell_type": "markdown",
   "metadata": {},
   "source": [
    "## <span style=\"color:orange\"> Transposed convolutional  </span>\n",
    "\n",
    "- Transposed convolutional layers 'upsample' the data, so that the output feature map goes from 'low' resolution to 'high' resolution.\n",
    "- Previously the operations would 'downsample' that reduces resolution.\n",
    "- Increases the size of the output\n",
    "- Takes each kernel element and projects onto the surroundings to create a patch\n",
    "\n",
    "![image info](./demoPics/no_padding_no_strides_transposed.gif)\n",
    "\n",
    "(transposed convolution, no padding no strides)\n",
    "\n",
    "![image info](./demoPics/full_padding_no_strides_transposed.gif)\n",
    "\n",
    "(transposed convolution, full padding no strides)\n",
    "\n",
    "![image info](./demoPics/padding_strides_transposed.gif)\n",
    "\n",
    "(transposed convolution, padding no strides)"
   ]
  },
  {
   "cell_type": "code",
   "execution_count": 68,
   "metadata": {},
   "outputs": [
    {
     "data": {
      "text/plain": [
       "(14, 14, 1, 10)"
      ]
     },
     "execution_count": 68,
     "metadata": {},
     "output_type": "execute_result"
    }
   ],
   "source": [
    "x = rand(Float32, 10, 10, 1, 10); \n",
    "cnn_layer = ConvTranspose( (5,5) , 1 => 1  )\n",
    "cnn_layer( x ) |> size"
   ]
  },
  {
   "cell_type": "code",
   "execution_count": 69,
   "metadata": {},
   "outputs": [
    {
     "data": {
      "text/plain": [
       "(32, 32, 1, 3)"
      ]
     },
     "metadata": {},
     "output_type": "display_data"
    },
    {
     "data": {
      "image/png": "[encoded data removed]",
      "text/html": [
       "<img src=\"data:image/png;base64,iVBORw0KGgoAAAANSUhEUgAAAIAAAACACAAAAADmVT4XAAAABGdBTUEAALGPC/xhBQAAAAFzUkdCAK7OHOkAAAAgY0hSTQAAeiYAAICEAAD6AAAAgOgAAHUwAADqYAAAOpgAABdwnLpRPAAAAhdJREFUeAHFwT1P3AUAB+DH3q+UUJv6Eobqgi+Jk9Ghg04mjn4NP1e/hauuJk41uLDUKvEtQcp5WC+0f3S4wVyBu4MCv+eJsiiLsiiLsiiLsiiLsiiLsiiLsiiLsiiLsiiLsiiLa3QHE/OiLMqiLK7RxElRFmVRFmVRFmVRFmVRFmVRFtdgA29iggPzoizKoiwu2Vv4FVsYYxP3cIixk6IsyqIsFljH1GrewCamZp7iBvZxgL8wdVKURVmUxQID3sMujsz7Eg/Mexu3cITfrCbKoizKYoFnGOMefjLvgXn7+AafYt3qoizKoiyW2MOB061jat63GOEGji0XZVEWZbGC52a28AuemZk63YARRhgsFmVRFmVxDrt4HzuWG3AXY4tFWZRFWZzDgJ/xAXYsN8YajpwtyqIsyuKc/sGfeAc/Wu7IYlEWZVEWF7CHPafbwmOri7Ioi7K4ZI/NvIpDy0VZlEVZXJFDM3cwcbYoi7IoiytyC2uYWCzKoizK4pLcxoApNvAFtrFjsSiLsiiLl/QKNvC3mc/xHF/jieWiLMqiLC5ohBGOMMVnGPAQ+1YXZVEWZXEBH2IbA+7jJn7AExw7nyiLsiiLM9zGU/yLu1jD6xiwjY+whYfYxbGLibIoi7J4wbvYxPe4iY+xjtdwgD/wCX7HVxi8nCiLsiiLFzzCI//7ztWKsiiLsiiLsiiLsiiLsiiLsv8ABMJcho6gmNsAAAAASUVORK5C\">"
      ],
      "text/plain": [
       "\u001b[0m\u001b[38;2;0;0;0;48;2;0;0;0m▀\u001b[38;2;0;0;0;48;2;0;0;0m▀\u001b[38;2;0;0;0;48;2;0;0;0m▀\u001b[38;2;0;0;0;48;2;0;0;0m▀\u001b[38;2;0;0;0;48;2;0;0;0m▀\u001b[38;2;0;0;0;48;2;0;0;0m▀\u001b[38;2;0;0;0;48;2;0;0;0m▀\u001b[38;2;0;0;0;48;2;0;0;0m▀\u001b[38;2;0;0;0;48;2;0;0;0m▀\u001b[38;2;0;0;0;48;2;0;0;0m▀\u001b[38;2;0;0;0;48;2;0;0;0m▀\u001b[38;2;0;0;0;48;2;0;0;0m▀\u001b[38;2;0;0;0;48;2;0;0;0m▀\u001b[38;2;0;0;0;48;2;0;0;0m▀\u001b[38;2;0;0;0;48;2;0;0;0m▀\u001b[38;2;0;0;0;48;2;0;0;0m▀\u001b[38;2;0;0;0;48;2;0;0;0m▀\u001b[38;2;0;0;0;48;2;0;0;0m▀\u001b[38;2;0;0;0;48;2;0;0;0m▀\u001b[38;2;0;0;0;48;2;0;0;0m▀\u001b[38;2;0;0;0;48;2;0;0;0m▀\u001b[38;2;0;0;0;48;2;0;0;0m▀\u001b[38;2;0;0;0;48;2;0;0;0m▀\u001b[38;2;0;0;0;48;2;0;0;0m▀\u001b[38;2;0;0;0;48;2;0;0;0m▀\u001b[38;2;0;0;0;48;2;0;0;0m▀\u001b[38;2;0;0;0;48;2;0;0;0m▀\u001b[38;2;0;0;0;48;2;0;0;0m▀\u001b[38;2;0;0;0;48;2;0;0;0m▀\u001b[38;2;0;0;0;48;2;0;0;0m▀\u001b[38;2;0;0;0;48;2;0;0;0m▀\u001b[38;2;0;0;0;48;2;0;0;0m▀\u001b[0m\n",
       "\u001b[0m\u001b[38;2;0;0;0;48;2;0;0;0m▀\u001b[38;2;0;0;0;48;2;0;0;0m▀\u001b[38;2;0;0;0;48;2;0;0;0m▀\u001b[38;2;0;0;0;48;2;0;0;0m▀\u001b[38;2;0;0;0;48;2;0;0;0m▀\u001b[38;2;0;0;0;48;2;0;0;0m▀\u001b[38;2;0;0;0;48;2;0;0;0m▀\u001b[38;2;0;0;0;48;2;0;0;0m▀\u001b[38;2;0;0;0;48;2;0;0;0m▀\u001b[38;2;0;0;0;48;2;0;0;0m▀\u001b[38;2;0;0;0;48;2;0;0;0m▀\u001b[38;2;0;0;0;48;2;0;0;0m▀\u001b[38;2;0;0;0;48;2;0;0;0m▀\u001b[38;2;0;0;0;48;2;0;0;0m▀\u001b[38;2;0;0;0;48;2;0;0;0m▀\u001b[38;2;0;0;0;48;2;0;0;0m▀\u001b[38;2;0;0;0;48;2;0;0;0m▀\u001b[38;2;0;0;0;48;2;0;0;0m▀\u001b[38;2;0;0;0;48;2;0;0;0m▀\u001b[38;2;0;0;0;48;2;0;0;0m▀\u001b[38;2;0;0;0;48;2;0;0;0m▀\u001b[38;2;0;0;0;48;2;0;0;0m▀\u001b[38;2;0;0;0;48;2;0;0;0m▀\u001b[38;2;0;0;0;48;2;0;0;0m▀\u001b[38;2;0;0;0;48;2;0;0;0m▀\u001b[38;2;0;0;0;48;2;0;0;0m▀\u001b[38;2;0;0;0;48;2;0;0;0m▀\u001b[38;2;0;0;0;48;2;0;0;0m▀\u001b[38;2;0;0;0;48;2;0;0;0m▀\u001b[38;2;0;0;0;48;2;0;0;0m▀\u001b[38;2;0;0;0;48;2;0;0;0m▀\u001b[38;2;0;0;0;48;2;0;0;0m▀\u001b[0m\n",
       "\u001b[0m\u001b[38;2;0;0;0;48;2;0;0;0m▀\u001b[38;2;0;0;0;48;2;0;0;0m▀\u001b[38;2;0;0;0;48;2;0;0;0m▀\u001b[38;2;0;0;0;48;2;0;0;0m▀\u001b[38;2;0;0;0;48;2;0;0;0m▀\u001b[38;2;0;0;0;48;2;0;0;0m▀\u001b[38;2;0;0;0;48;2;0;0;0m▀\u001b[38;2;0;0;0;48;2;0;0;0m▀\u001b[38;2;0;0;0;48;2;0;0;0m▀\u001b[38;2;0;0;0;48;2;0;0;0m▀\u001b[38;2;0;0;0;48;2;0;0;0m▀\u001b[38;2;0;0;0;48;2;0;0;0m▀\u001b[38;2;0;0;0;48;2;0;0;0m▀\u001b[38;2;0;0;0;48;2;0;0;0m▀\u001b[38;2;0;0;0;48;2;0;0;0m▀\u001b[38;2;0;0;0;48;2;0;0;0m▀\u001b[38;2;0;0;0;48;2;0;0;0m▀\u001b[38;2;0;0;0;48;2;0;0;0m▀\u001b[38;2;0;0;0;48;2;0;0;0m▀\u001b[38;2;0;0;0;48;2;0;0;0m▀\u001b[38;2;0;0;0;48;2;0;0;0m▀\u001b[38;2;0;0;0;48;2;0;0;0m▀\u001b[38;2;0;0;0;48;2;0;0;0m▀\u001b[38;2;0;0;0;48;2;0;0;0m▀\u001b[38;2;0;0;0;48;2;0;0;0m▀\u001b[38;2;0;0;0;48;2;0;0;0m▀\u001b[38;2;0;0;0;48;2;0;0;0m▀\u001b[38;2;0;0;0;48;2;13;13;13m▀\u001b[38;2;0;0;0;48;2;0;0;0m▀\u001b[38;2;0;0;0;48;2;0;0;0m▀\u001b[38;2;0;0;0;48;2;0;0;0m▀\u001b[38;2;0;0;0;48;2;0;0;0m▀\u001b[0m\n",
       "\u001b[0m\u001b[38;2;0;0;0;48;2;0;0;0m▀\u001b[38;2;0;0;0;48;2;0;0;0m▀\u001b[38;2;0;0;0;48;2;0;0;0m▀\u001b[38;2;0;0;0;48;2;0;0;0m▀\u001b[38;2;0;0;0;48;2;0;0;0m▀\u001b[38;2;0;0;0;48;2;0;0;0m▀\u001b[38;2;0;0;0;48;2;0;0;0m▀\u001b[38;2;0;0;0;48;2;0;0;0m▀\u001b[38;2;0;0;0;48;2;0;0;0m▀\u001b[38;2;0;0;0;48;2;0;0;0m▀\u001b[38;2;0;0;0;48;2;0;0;0m▀\u001b[38;2;0;0;0;48;2;0;0;0m▀\u001b[38;2;0;0;0;48;2;0;0;0m▀\u001b[38;2;0;0;0;48;2;0;0;0m▀\u001b[38;2;0;0;0;48;2;0;0;0m▀\u001b[38;2;0;0;0;48;2;0;0;0m▀\u001b[38;2;0;0;0;48;2;0;0;0m▀\u001b[38;2;0;0;0;48;2;0;0;0m▀\u001b[38;2;0;0;0;48;2;0;0;0m▀\u001b[38;2;0;0;0;48;2;0;0;0m▀\u001b[38;2;0;0;0;48;2;0;0;0m▀\u001b[38;2;0;0;0;48;2;0;0;0m▀\u001b[38;2;0;0;0;48;2;0;0;0m▀\u001b[38;2;0;0;0;48;2;0;0;0m▀\u001b[38;2;0;0;0;48;2;0;0;0m▀\u001b[38;2;0;0;0;48;2;0;0;0m▀\u001b[38;2;0;0;0;48;2;0;0;0m▀\u001b[38;2;0;0;0;48;2;0;0;0m▀\u001b[38;2;0;0;0;48;2;0;0;0m▀\u001b[38;2;0;0;0;48;2;0;0;0m▀\u001b[38;2;0;0;0;48;2;0;0;0m▀\u001b[38;2;0;0;0;48;2;0;0;0m▀\u001b[0m\n",
       "\u001b[0m\u001b[38;2;0;0;0;48;2;0;0;0m▀\u001b[38;2;0;0;0;48;2;0;0;0m▀\u001b[38;2;0;0;0;48;2;0;0;0m▀\u001b[38;2;0;0;0;48;2;0;0;0m▀\u001b[38;2;0;0;0;48;2;0;0;0m▀\u001b[38;2;0;0;0;48;2;0;0;0m▀\u001b[38;2;0;0;0;48;2;0;0;0m▀\u001b[38;2;0;0;0;48;2;0;0;0m▀\u001b[38;2;0;0;0;48;2;0;0;0m▀\u001b[38;2;0;0;0;48;2;0;0;0m▀\u001b[38;2;0;0;0;48;2;0;0;0m▀\u001b[38;2;0;0;0;48;2;0;0;0m▀\u001b[38;2;0;0;0;48;2;0;0;0m▀\u001b[38;2;0;0;0;48;2;0;0;0m▀\u001b[38;2;0;0;0;48;2;0;0;0m▀\u001b[38;2;0;0;0;48;2;0;0;0m▀\u001b[38;2;0;0;0;48;2;0;0;0m▀\u001b[38;2;0;0;0;48;2;0;0;0m▀\u001b[38;2;0;0;0;48;2;0;0;0m▀\u001b[38;2;0;0;0;48;2;0;0;0m▀\u001b[38;2;0;0;0;48;2;0;0;0m▀\u001b[38;2;0;0;0;48;2;0;0;0m▀\u001b[38;2;0;0;0;48;2;0;0;0m▀\u001b[38;2;0;0;0;48;2;0;0;0m▀\u001b[38;2;0;0;0;48;2;0;0;0m▀\u001b[38;2;0;0;0;48;2;10;10;10m▀\u001b[38;2;0;0;0;48;2;29;29;29m▀\u001b[38;2;0;0;0;48;2;16;16;16m▀\u001b[38;2;0;0;0;48;2;0;0;0m▀\u001b[38;2;0;0;0;48;2;0;0;0m▀\u001b[38;2;0;0;0;48;2;0;0;0m▀\u001b[38;2;0;0;0;48;2;0;0;0m▀\u001b[0m\n",
       "\u001b[0m\u001b[38;2;0;0;0;48;2;0;0;0m▀\u001b[38;2;0;0;0;48;2;0;0;0m▀\u001b[38;2;0;0;0;48;2;0;0;0m▀\u001b[38;2;0;0;0;48;2;0;0;0m▀\u001b[38;2;0;0;0;48;2;0;0;0m▀\u001b[38;2;0;0;0;48;2;0;0;0m▀\u001b[38;2;0;0;0;48;2;0;0;0m▀\u001b[38;2;0;0;0;48;2;8;8;8m▀\u001b[38;2;0;0;0;48;2;0;0;0m▀\u001b[38;2;0;0;0;48;2;0;0;0m▀\u001b[38;2;0;0;0;48;2;0;0;0m▀\u001b[38;2;0;0;0;48;2;0;0;0m▀\u001b[38;2;0;0;0;48;2;0;0;0m▀\u001b[38;2;0;0;0;48;2;0;0;0m▀\u001b[38;2;0;0;0;48;2;0;0;0m▀\u001b[38;2;0;0;0;48;2;0;0;0m▀\u001b[38;2;0;0;0;48;2;0;0;0m▀\u001b[38;2;0;0;0;48;2;0;0;0m▀\u001b[38;2;0;0;0;48;2;18;18;18m▀\u001b[38;2;0;0;0;48;2;39;39;39m▀\u001b[38;2;26;26;26;48;2;31;31;31m▀\u001b[38;2;0;0;0;48;2;0;0;0m▀\u001b[38;2;32;32;32;48;2;22;22;22m▀\u001b[38;2;17;17;17;48;2;19;19;19m▀\u001b[38;2;38;38;38;48;2;20;20;20m▀\u001b[38;2;63;63;63;48;2;22;22;22m▀\u001b[38;2;51;51;51;48;2;8;8;8m▀\u001b[38;2;14;14;14;48;2;0;0;0m▀\u001b[38;2;0;0;0;48;2;0;0;0m▀\u001b[38;2;0;0;0;48;2;0;0;0m▀\u001b[38;2;0;0;0;48;2;0;0;0m▀\u001b[38;2;0;0;0;48;2;0;0;0m▀\u001b[0m\n",
       "\u001b[0m\u001b[38;2;0;0;0;48;2;0;0;0m▀\u001b[38;2;0;0;0;48;2;0;0;0m▀\u001b[38;2;0;0;0;48;2;0;0;0m▀\u001b[38;2;0;0;0;48;2;0;0;0m▀\u001b[38;2;0;0;0;48;2;0;0;0m▀\u001b[38;2;0;0;0;48;2;0;0;0m▀\u001b[38;2;0;0;0;48;2;0;0;0m▀\u001b[38;2;5;5;5;48;2;0;0;0m▀\u001b[38;2;35;35;35;48;2;20;20;20m▀\u001b[38;2;6;6;6;48;2;31;31;31m▀\u001b[38;2;0;0;0;48;2;0;0;0m▀\u001b[38;2;0;0;0;48;2;0;0;0m▀\u001b[38;2;0;0;0;48;2;0;0;0m▀\u001b[38;2;0;0;0;48;2;0;0;0m▀\u001b[38;2;99;99;99;48;2;0;0;0m▀\u001b[38;2;0;0;0;48;2;0;0;0m▀\u001b[38;2;0;0;0;48;2;0;0;0m▀\u001b[38;2;0;0;0;48;2;0;0;0m▀\u001b[38;2;18;18;18;48;2;0;0;0m▀\u001b[38;2;66;66;66;48;2;0;0;0m▀\u001b[38;2;73;73;73;48;2;57;57;57m▀\u001b[38;2;25;25;25;48;2;33;33;33m▀\u001b[38;2;0;0;0;48;2;0;0;0m▀\u001b[38;2;0;0;0;48;2;0;0;0m▀\u001b[38;2;0;0;0;48;2;0;0;0m▀\u001b[38;2;0;0;0;48;2;0;0;0m▀\u001b[38;2;0;0;0;48;2;0;0;0m▀\u001b[38;2;0;0;0;48;2;0;0;0m▀\u001b[38;2;0;0;0;48;2;0;0;0m▀\u001b[38;2;0;0;0;48;2;0;0;0m▀\u001b[38;2;0;0;0;48;2;0;0;0m▀\u001b[38;2;0;0;0;48;2;0;0;0m▀\u001b[0m\n",
       "\u001b[0m\u001b[38;2;0;0;0;48;2;0;0;0m▀\u001b[38;2;0;0;0;48;2;0;0;0m▀\u001b[38;2;0;0;0;48;2;0;0;0m▀\u001b[38;2;0;0;0;48;2;0;0;0m▀\u001b[38;2;0;0;0;48;2;0;0;0m▀\u001b[38;2;0;0;0;48;2;0;0;0m▀\u001b[38;2;0;0;0;48;2;0;0;0m▀\u001b[38;2;0;0;0;48;2;0;0;0m▀\u001b[38;2;0;0;0;48;2;0;0;0m▀\u001b[38;2;4;4;4;48;2;0;0;0m▀\u001b[38;2;0;0;0;48;2;0;0;0m▀\u001b[38;2;0;0;0;48;2;32;32;32m▀\u001b[38;2;0;0;0;48;2;5;5;5m▀\u001b[38;2;0;0;0;48;2;0;0;0m▀\u001b[38;2;0;0;0;48;2;0;0;0m▀\u001b[38;2;8;8;8;48;2;0;0;0m▀\u001b[38;2;0;0;0;48;2;0;0;0m▀\u001b[38;2;0;0;0;48;2;0;0;0m▀\u001b[38;2;0;0;0;48;2;0;0;0m▀\u001b[38;2;0;0;0;48;2;0;0;0m▀\u001b[38;2;0;0;0;48;2;0;0;0m▀\u001b[38;2;3;3;3;48;2;0;0;0m▀\u001b[38;2;2;2;2;48;2;3;3;3m▀\u001b[38;2;0;0;0;48;2;3;3;3m▀\u001b[38;2;0;0;0;48;2;0;0;0m▀\u001b[38;2;0;0;0;48;2;0;0;0m▀\u001b[38;2;0;0;0;48;2;0;0;0m▀\u001b[38;2;0;0;0;48;2;0;0;0m▀\u001b[38;2;0;0;0;48;2;0;0;0m▀\u001b[38;2;0;0;0;48;2;0;0;0m▀\u001b[38;2;0;0;0;48;2;0;0;0m▀\u001b[38;2;0;0;0;48;2;0;0;0m▀\u001b[0m\n",
       "\u001b[0m\u001b[38;2;0;0;0;48;2;0;0;0m▀\u001b[38;2;0;0;0;48;2;0;0;0m▀\u001b[38;2;0;0;0;48;2;0;0;0m▀\u001b[38;2;0;0;0;48;2;0;0;0m▀\u001b[38;2;0;0;0;48;2;0;0;0m▀\u001b[38;2;0;0;0;48;2;0;0;0m▀\u001b[38;2;0;0;0;48;2;0;0;0m▀\u001b[38;2;0;0;0;48;2;0;0;0m▀\u001b[38;2;0;0;0;48;2;0;0;0m▀\u001b[38;2;0;0;0;48;2;0;0;0m▀\u001b[38;2;0;0;0;48;2;0;0;0m▀\u001b[38;2;3;3;3;48;2;0;0;0m▀\u001b[38;2;39;39;39;48;2;9;9;9m▀\u001b[38;2;0;0;0;48;2;39;39;39m▀\u001b[38;2;0;0;0;48;2;0;0;0m▀\u001b[38;2;0;0;0;48;2;0;0;0m▀\u001b[38;2;0;0;0;48;2;0;0;0m▀\u001b[38;2;0;0;0;48;2;0;0;0m▀\u001b[38;2;0;0;0;48;2;0;0;0m▀\u001b[38;2;0;0;0;48;2;0;0;0m▀\u001b[38;2;0;0;0;48;2;0;0;0m▀\u001b[38;2;0;0;0;48;2;0;0;0m▀\u001b[38;2;0;0;0;48;2;0;0;0m▀\u001b[38;2;15;15;15;48;2;0;0;0m▀\u001b[38;2;0;0;0;48;2;6;6;6m▀\u001b[38;2;0;0;0;48;2;0;0;0m▀\u001b[38;2;0;0;0;48;2;0;0;0m▀\u001b[38;2;0;0;0;48;2;0;0;0m▀\u001b[38;2;0;0;0;48;2;0;0;0m▀\u001b[38;2;0;0;0;48;2;0;0;0m▀\u001b[38;2;0;0;0;48;2;0;0;0m▀\u001b[38;2;0;0;0;48;2;0;0;0m▀\u001b[0m\n",
       "\u001b[0m\u001b[38;2;0;0;0;48;2;0;0;0m▀\u001b[38;2;0;0;0;48;2;0;0;0m▀\u001b[38;2;0;0;0;48;2;0;0;0m▀\u001b[38;2;0;0;0;48;2;0;0;0m▀\u001b[38;2;0;0;0;48;2;0;0;0m▀\u001b[38;2;0;0;0;48;2;0;0;0m▀\u001b[38;2;0;0;0;48;2;0;0;0m▀\u001b[38;2;0;0;0;48;2;0;0;0m▀\u001b[38;2;0;0;0;48;2;0;0;0m▀\u001b[38;2;0;0;0;48;2;0;0;0m▀\u001b[38;2;0;0;0;48;2;0;0;0m▀\u001b[38;2;0;0;0;48;2;0;0;0m▀\u001b[38;2;0;0;0;48;2;0;0;0m▀\u001b[38;2;20;20;20;48;2;0;0;0m▀\u001b[38;2;33;33;33;48;2;0;0;0m▀\u001b[38;2;0;0;0;48;2;0;0;0m▀\u001b[38;2;0;0;0;48;2;0;0;0m▀\u001b[38;2;0;0;0;48;2;0;0;0m▀\u001b[38;2;0;0;0;48;2;0;0;0m▀\u001b[38;2;0;0;0;48;2;0;0;0m▀\u001b[38;2;0;0;0;48;2;32;32;32m▀\u001b[38;2;0;0;0;48;2;0;0;0m▀\u001b[38;2;0;0;0;48;2;0;0;0m▀\u001b[38;2;0;0;0;48;2;0;0;0m▀\u001b[38;2;0;0;0;48;2;0;0;0m▀\u001b[38;2;0;0;0;48;2;0;0;0m▀\u001b[38;2;0;0;0;48;2;0;0;0m▀\u001b[38;2;0;0;0;48;2;0;0;0m▀\u001b[38;2;0;0;0;48;2;0;0;0m▀\u001b[38;2;0;0;0;48;2;0;0;0m▀\u001b[38;2;0;0;0;48;2;0;0;0m▀\u001b[38;2;0;0;0;48;2;0;0;0m▀\u001b[0m\n",
       "\u001b[0m\u001b[38;2;0;0;0;48;2;0;0;0m▀\u001b[38;2;0;0;0;48;2;0;0;0m▀\u001b[38;2;0;0;0;48;2;0;0;0m▀\u001b[38;2;0;0;0;48;2;0;0;0m▀\u001b[38;2;0;0;0;48;2;0;0;0m▀\u001b[38;2;0;0;0;48;2;0;0;0m▀\u001b[38;2;0;0;0;48;2;0;0;0m▀\u001b[38;2;0;0;0;48;2;0;0;0m▀\u001b[38;2;0;0;0;48;2;0;0;0m▀\u001b[38;2;0;0;0;48;2;0;0;0m▀\u001b[38;2;0;0;0;48;2;0;0;0m▀\u001b[38;2;0;0;0;48;2;0;0;0m▀\u001b[38;2;0;0;0;48;2;0;0;0m▀\u001b[38;2;0;0;0;48;2;0;0;0m▀\u001b[38;2;0;0;0;48;2;0;0;0m▀\u001b[38;2;0;0;0;48;2;0;0;0m▀\u001b[38;2;0;0;0;48;2;0;0;0m▀\u001b[38;2;0;0;0;48;2;0;0;0m▀\u001b[38;2;0;0;0;48;2;0;0;0m▀\u001b[38;2;0;0;0;48;2;0;0;0m▀\u001b[38;2;0;0;0;48;2;0;0;0m▀\u001b[38;2;0;0;0;48;2;0;0;0m▀\u001b[38;2;12;12;12;48;2;0;0;0m▀\u001b[38;2;0;0;0;48;2;0;0;0m▀\u001b[38;2;0;0;0;48;2;13;13;13m▀\u001b[38;2;0;0;0;48;2;0;0;0m▀\u001b[38;2;0;0;0;48;2;0;0;0m▀\u001b[38;2;0;0;0;48;2;0;0;0m▀\u001b[38;2;0;0;0;48;2;0;0;0m▀\u001b[38;2;0;0;0;48;2;0;0;0m▀\u001b[38;2;0;0;0;48;2;0;0;0m▀\u001b[38;2;0;0;0;48;2;0;0;0m▀\u001b[0m\n",
       "\u001b[0m\u001b[38;2;0;0;0;48;2;0;0;0m▀\u001b[38;2;0;0;0;48;2;0;0;0m▀\u001b[38;2;0;0;0;48;2;0;0;0m▀\u001b[38;2;0;0;0;48;2;0;0;0m▀\u001b[38;2;0;0;0;48;2;0;0;0m▀\u001b[38;2;0;0;0;48;2;0;0;0m▀\u001b[38;2;0;0;0;48;2;0;0;0m▀\u001b[38;2;0;0;0;48;2;0;0;0m▀\u001b[38;2;0;0;0;48;2;0;0;0m▀\u001b[38;2;0;0;0;48;2;0;0;0m▀\u001b[38;2;0;0;0;48;2;0;0;0m▀\u001b[38;2;0;0;0;48;2;0;0;0m▀\u001b[38;2;0;0;0;48;2;0;0;0m▀\u001b[38;2;0;0;0;48;2;0;0;0m▀\u001b[38;2;0;0;0;48;2;0;0;0m▀\u001b[38;2;0;0;0;48;2;0;0;0m▀\u001b[38;2;0;0;0;48;2;0;0;0m▀\u001b[38;2;0;0;0;48;2;0;0;0m▀\u001b[38;2;0;0;0;48;2;11;11;11m▀\u001b[38;2;0;0;0;48;2;8;8;8m▀\u001b[38;2;0;0;0;48;2;0;0;0m▀\u001b[38;2;0;0;0;48;2;10;10;10m▀\u001b[38;2;7;7;7;48;2;84;84;84m▀\u001b[38;2;13;13;13;48;2;39;39;39m▀\u001b[38;2;0;0;0;48;2;0;0;0m▀\u001b[38;2;0;0;0;48;2;0;0;0m▀\u001b[38;2;0;0;0;48;2;0;0;0m▀\u001b[38;2;0;0;0;48;2;0;0;0m▀\u001b[38;2;0;0;0;48;2;0;0;0m▀\u001b[38;2;0;0;0;48;2;0;0;0m▀\u001b[38;2;0;0;0;48;2;0;0;0m▀\u001b[38;2;0;0;0;48;2;0;0;0m▀\u001b[0m\n",
       "\u001b[0m\u001b[38;2;0;0;0;48;2;0;0;0m▀\u001b[38;2;0;0;0;48;2;0;0;0m▀\u001b[38;2;0;0;0;48;2;0;0;0m▀\u001b[38;2;0;0;0;48;2;0;0;0m▀\u001b[38;2;0;0;0;48;2;0;0;0m▀\u001b[38;2;0;0;0;48;2;0;0;0m▀\u001b[38;2;0;0;0;48;2;0;0;0m▀\u001b[38;2;0;0;0;48;2;0;0;0m▀\u001b[38;2;0;0;0;48;2;0;0;0m▀\u001b[38;2;0;0;0;48;2;0;0;0m▀\u001b[38;2;0;0;0;48;2;0;0;0m▀\u001b[38;2;0;0;0;48;2;0;0;0m▀\u001b[38;2;0;0;0;48;2;0;0;0m▀\u001b[38;2;0;0;0;48;2;0;0;0m▀\u001b[38;2;0;0;0;48;2;3;3;3m▀\u001b[38;2;0;0;0;48;2;6;6;6m▀\u001b[38;2;1;1;1;48;2;0;0;0m▀\u001b[38;2;11;11;11;48;2;3;3;3m▀\u001b[38;2;0;0;0;48;2;63;63;63m▀\u001b[38;2;0;0;0;48;2;60;60;60m▀\u001b[38;2;66;66;66;48;2;18;18;18m▀\u001b[38;2;62;62;62;48;2;0;0;0m▀\u001b[38;2;17;17;17;48;2;0;0;0m▀\u001b[38;2;0;0;0;48;2;0;0;0m▀\u001b[38;2;0;0;0;48;2;0;0;0m▀\u001b[38;2;0;0;0;48;2;0;0;0m▀\u001b[38;2;0;0;0;48;2;0;0;0m▀\u001b[38;2;0;0;0;48;2;0;0;0m▀\u001b[38;2;0;0;0;48;2;0;0;0m▀\u001b[38;2;0;0;0;48;2;0;0;0m▀\u001b[38;2;0;0;0;48;2;0;0;0m▀\u001b[38;2;0;0;0;48;2;0;0;0m▀\u001b[0m\n",
       "\u001b[0m\u001b[38;2;0;0;0;48;2;0;0;0m▀\u001b[38;2;0;0;0;48;2;0;0;0m▀\u001b[38;2;0;0;0;48;2;0;0;0m▀\u001b[38;2;0;0;0;48;2;0;0;0m▀\u001b[38;2;0;0;0;48;2;0;0;0m▀\u001b[38;2;0;0;0;48;2;0;0;0m▀\u001b[38;2;0;0;0;48;2;11;11;11m▀\u001b[38;2;0;0;0;48;2;1;1;1m▀\u001b[38;2;0;0;0;48;2;0;0;0m▀\u001b[38;2;0;0;0;48;2;15;15;15m▀\u001b[38;2;0;0;0;48;2;21;21;21m▀\u001b[38;2;0;0;0;48;2;38;38;38m▀\u001b[38;2;0;0;0;48;2;35;35;35m▀\u001b[38;2;45;45;45;48;2;0;0;0m▀\u001b[38;2;0;0;0;48;2;47;47;47m▀\u001b[38;2;0;0;0;48;2;79;79;79m▀\u001b[38;2;52;52;52;48;2;31;31;31m▀\u001b[38;2;57;57;57;48;2;2;2;2m▀\u001b[38;2;19;19;19;48;2;0;0;0m▀\u001b[38;2;2;2;2;48;2;0;0;0m▀\u001b[38;2;0;0;0;48;2;0;0;0m▀\u001b[38;2;0;0;0;48;2;0;0;0m▀\u001b[38;2;0;0;0;48;2;0;0;0m▀\u001b[38;2;0;0;0;48;2;0;0;0m▀\u001b[38;2;0;0;0;48;2;0;0;0m▀\u001b[38;2;0;0;0;48;2;0;0;0m▀\u001b[38;2;0;0;0;48;2;0;0;0m▀\u001b[38;2;0;0;0;48;2;0;0;0m▀\u001b[38;2;0;0;0;48;2;0;0;0m▀\u001b[38;2;0;0;0;48;2;0;0;0m▀\u001b[38;2;0;0;0;48;2;0;0;0m▀\u001b[38;2;0;0;0;48;2;0;0;0m▀\u001b[0m\n",
       "\u001b[0m\u001b[38;2;0;0;0;48;2;0;0;0m▀\u001b[38;2;0;0;0;48;2;0;0;0m▀\u001b[38;2;0;0;0;48;2;0;0;0m▀\u001b[38;2;0;0;0;48;2;0;0;0m▀\u001b[38;2;34;34;34;48;2;0;0;0m▀\u001b[38;2;55;55;55;48;2;0;0;0m▀\u001b[38;2;8;8;8;48;2;0;0;0m▀\u001b[38;2;6;6;6;48;2;0;0;0m▀\u001b[38;2;54;54;54;48;2;0;0;0m▀\u001b[38;2;62;62;62;48;2;0;0;0m▀\u001b[38;2;78;78;78;48;2;0;0;0m▀\u001b[38;2;62;62;62;48;2;0;0;0m▀\u001b[38;2;39;39;39;48;2;0;0;0m▀\u001b[38;2;56;56;56;48;2;0;0;0m▀\u001b[38;2;32;32;32;48;2;0;0;0m▀\u001b[38;2;3;3;3;48;2;0;0;0m▀\u001b[38;2;0;0;0;48;2;0;0;0m▀\u001b[38;2;0;0;0;48;2;0;0;0m▀\u001b[38;2;0;0;0;48;2;0;0;0m▀\u001b[38;2;0;0;0;48;2;0;0;0m▀\u001b[38;2;0;0;0;48;2;0;0;0m▀\u001b[38;2;0;0;0;48;2;0;0;0m▀\u001b[38;2;0;0;0;48;2;0;0;0m▀\u001b[38;2;0;0;0;48;2;0;0;0m▀\u001b[38;2;0;0;0;48;2;0;0;0m▀\u001b[38;2;0;0;0;48;2;0;0;0m▀\u001b[38;2;0;0;0;48;2;0;0;0m▀\u001b[38;2;0;0;0;48;2;0;0;0m▀\u001b[38;2;0;0;0;48;2;0;0;0m▀\u001b[38;2;0;0;0;48;2;0;0;0m▀\u001b[38;2;0;0;0;48;2;0;0;0m▀\u001b[38;2;0;0;0;48;2;0;0;0m▀\u001b[0m\n",
       "\u001b[0m\u001b[38;2;0;0;0;48;2;0;0;0m▀\u001b[38;2;0;0;0;48;2;0;0;0m▀\u001b[38;2;0;0;0;48;2;0;0;0m▀\u001b[38;2;0;0;0;48;2;0;0;0m▀\u001b[38;2;0;0;0;48;2;0;0;0m▀\u001b[38;2;0;0;0;48;2;0;0;0m▀\u001b[38;2;0;0;0;48;2;0;0;0m▀\u001b[38;2;0;0;0;48;2;0;0;0m▀\u001b[38;2;0;0;0;48;2;0;0;0m▀\u001b[38;2;0;0;0;48;2;0;0;0m▀\u001b[38;2;0;0;0;48;2;0;0;0m▀\u001b[38;2;0;0;0;48;2;0;0;0m▀\u001b[38;2;0;0;0;48;2;0;0;0m▀\u001b[38;2;0;0;0;48;2;0;0;0m▀\u001b[38;2;0;0;0;48;2;0;0;0m▀\u001b[38;2;0;0;0;48;2;0;0;0m▀\u001b[38;2;0;0;0;48;2;0;0;0m▀\u001b[38;2;0;0;0;48;2;0;0;0m▀\u001b[38;2;0;0;0;48;2;0;0;0m▀\u001b[38;2;0;0;0;48;2;0;0;0m▀\u001b[38;2;0;0;0;48;2;0;0;0m▀\u001b[38;2;0;0;0;48;2;0;0;0m▀\u001b[38;2;0;0;0;48;2;0;0;0m▀\u001b[38;2;0;0;0;48;2;0;0;0m▀\u001b[38;2;0;0;0;48;2;0;0;0m▀\u001b[38;2;0;0;0;48;2;0;0;0m▀\u001b[38;2;0;0;0;48;2;0;0;0m▀\u001b[38;2;0;0;0;48;2;0;0;0m▀\u001b[38;2;0;0;0;48;2;0;0;0m▀\u001b[38;2;0;0;0;48;2;0;0;0m▀\u001b[38;2;0;0;0;48;2;0;0;0m▀\u001b[38;2;0;0;0;48;2;0;0;0m▀\u001b[0m\n"
      ]
     },
     "execution_count": 69,
     "metadata": {},
     "output_type": "execute_result"
    }
   ],
   "source": [
    "cnn_output = cnn_layer( images[:,:,:,1:3] )\n",
    "display( cnn_output |> size )\n",
    "convert2image( MNIST , cnn_output[:,:,1,1] )"
   ]
  },
  {
   "cell_type": "code",
   "execution_count": 70,
   "metadata": {},
   "outputs": [
    {
     "data": {
      "text/plain": [
       "(2, 2, 1, 10)"
      ]
     },
     "execution_count": 70,
     "metadata": {},
     "output_type": "execute_result"
    }
   ],
   "source": [
    "x = rand(Float32, 10, 10, 1, 10); \n",
    "cnn_layer = ConvTranspose( (5,5) , 1 => 1 , pad=6 )\n",
    "cnn_layer( x ) |> size"
   ]
  },
  {
   "cell_type": "code",
   "execution_count": 71,
   "metadata": {},
   "outputs": [
    {
     "data": {
      "text/plain": [
       "(20, 20, 1, 3)"
      ]
     },
     "metadata": {},
     "output_type": "display_data"
    },
    {
     "data": {
      "image/png": "[encoded data removed]",
      "text/html": [
       "<img src=\"data:image/png;base64,iVBORw0KGgoAAAANSUhEUgAAAGQAAABkCAAAAABVicqIAAAABGdBTUEAALGPC/xhBQAAAAFzUkdCAK7OHOkAAAAgY0hSTQAAeiYAAICEAAD6AAAAgOgAAHUwAADqYAAAOpgAABdwnLpRPAAAAcFJREFUaAW9wV9rzQEAxvHvfvui5mIrRZKR3LpQUnLhTbC8NHfulJL3QGqvQEopuZkL5M+sZWfneHZxVrKNY8fz+ci+RWKX/0AKpEAKpED2nCBGzNcCsUZIgRRIgRTInh3ma5k4RTwmpEAKpEAKZH4WiV1iRIyZkgIpkAIpkGO4SpwgzhAXidfESWIgtgkpkAIpkAI5hoHYJl4Q54jTxIj4QWwTUiAFUiAFcoDLxFv+6DaxSQzEGw4hBVIgBVIg+wZiID7wdx4ytUKcJzb4nRRIgRRIgewbE2PiO7P6THzmEFIgBVIgBXKACbFATJgHKZACKZACOcyEuZECKZACKZAjLRATjkkKpEAKpECONCEGYiBG/J1V4hOxSUiBFEiBFMiRJMbEiBl8JCZMSYEUSIEUyAEWiQVixAzOEpeI18QXpqRACqRACmTfQIyJXWZ1h7hBPCOWiB1ii5ACKZACKXAglohN/sldYpV4RGzwOymQAimQAsfEJrO6T1wg1oknxApxk3hPvGNKCqRACqRAZrFGXCGeE0+JZeIWsUW8Ir7xCymQAimQAvmza8Q9Yp14QJwirhNbxEviK4eQAimQAin4CQkuQNz9T70uAAAAAElFTkSuQmCC\">"
      ],
      "text/plain": [
       "\u001b[0m\u001b[38;2;0;0;0m██\u001b[38;2;0;0;0m██\u001b[38;2;3;3;3m██\u001b[38;2;0;0;0m██\u001b[38;2;0;0;0m██\u001b[38;2;0;0;0m██\u001b[38;2;0;0;0m██\u001b[38;2;0;0;0m██\u001b[38;2;0;0;0m██\u001b[38;2;0;0;0m██\u001b[38;2;0;0;0m██\u001b[38;2;0;0;0m██\u001b[38;2;0;0;0m██\u001b[38;2;0;0;0m██\u001b[38;2;0;0;0m██\u001b[38;2;0;0;0m██\u001b[38;2;0;0;0m██\u001b[38;2;0;0;0m██\u001b[38;2;0;0;0m██\u001b[38;2;0;0;0m██\u001b[0m\n",
       "\u001b[0m\u001b[38;2;0;0;0m██\u001b[38;2;5;5;5m██\u001b[38;2;1;1;1m██\u001b[38;2;0;0;0m██\u001b[38;2;0;0;0m██\u001b[38;2;0;0;0m██\u001b[38;2;0;0;0m██\u001b[38;2;0;0;0m██\u001b[38;2;0;0;0m██\u001b[38;2;0;0;0m██\u001b[38;2;0;0;0m██\u001b[38;2;0;0;0m██\u001b[38;2;0;0;0m██\u001b[38;2;0;0;0m██\u001b[38;2;0;0;0m██\u001b[38;2;0;0;0m██\u001b[38;2;0;0;0m██\u001b[38;2;0;0;0m██\u001b[38;2;1;1;1m██\u001b[38;2;87;87;87m██\u001b[0m\n",
       "\u001b[0m\u001b[38;2;0;0;0m██\u001b[38;2;0;0;0m██\u001b[38;2;0;0;0m██\u001b[38;2;0;0;0m██\u001b[38;2;0;0;0m██\u001b[38;2;0;0;0m██\u001b[38;2;0;0;0m██\u001b[38;2;0;0;0m██\u001b[38;2;0;0;0m██\u001b[38;2;0;0;0m██\u001b[38;2;0;0;0m██\u001b[38;2;0;0;0m██\u001b[38;2;0;0;0m██\u001b[38;2;0;0;0m██\u001b[38;2;0;0;0m██\u001b[38;2;0;0;0m██\u001b[38;2;0;0;0m██\u001b[38;2;15;15;15m██\u001b[38;2;22;22;22m██\u001b[38;2;0;0;0m██\u001b[0m\n",
       "\u001b[0m\u001b[38;2;0;0;0m██\u001b[38;2;0;0;0m██\u001b[38;2;0;0;0m██\u001b[38;2;0;0;0m██\u001b[38;2;0;0;0m██\u001b[38;2;0;0;0m██\u001b[38;2;0;0;0m██\u001b[38;2;0;0;0m██\u001b[38;2;0;0;0m██\u001b[38;2;0;0;0m██\u001b[38;2;0;0;0m██\u001b[38;2;0;0;0m██\u001b[38;2;0;0;0m██\u001b[38;2;0;0;0m██\u001b[38;2;0;0;0m██\u001b[38;2;3;3;3m██\u001b[38;2;0;0;0m██\u001b[38;2;11;11;11m██\u001b[38;2;13;13;13m██\u001b[38;2;0;0;0m██\u001b[0m\n",
       "\u001b[0m\u001b[38;2;0;0;0m██\u001b[38;2;0;0;0m██\u001b[38;2;0;0;0m██\u001b[38;2;0;0;0m██\u001b[38;2;0;0;0m██\u001b[38;2;0;0;0m██\u001b[38;2;0;0;0m██\u001b[38;2;0;0;0m██\u001b[38;2;0;0;0m██\u001b[38;2;0;0;0m██\u001b[38;2;0;0;0m██\u001b[38;2;0;0;0m██\u001b[38;2;36;36;36m██\u001b[38;2;41;41;41m██\u001b[38;2;60;60;60m██\u001b[38;2;89;89;89m██\u001b[38;2;51;51;51m██\u001b[38;2;57;57;57m██\u001b[38;2;59;59;59m██\u001b[38;2;51;51;51m██\u001b[0m\n",
       "\u001b[0m\u001b[38;2;0;0;0m██\u001b[38;2;0;0;0m██\u001b[38;2;0;0;0m██\u001b[38;2;0;0;0m██\u001b[38;2;0;0;0m██\u001b[38;2;0;0;0m██\u001b[38;2;0;0;0m██\u001b[38;2;0;0;0m██\u001b[38;2;0;0;0m██\u001b[38;2;0;0;0m██\u001b[38;2;0;0;0m██\u001b[38;2;0;0;0m██\u001b[38;2;38;38;38m██\u001b[38;2;33;33;33m██\u001b[38;2;0;0;0m██\u001b[38;2;23;23;23m██\u001b[38;2;34;34;34m██\u001b[38;2;30;30;30m██\u001b[38;2;24;24;24m██\u001b[38;2;16;16;16m██\u001b[0m\n",
       "\u001b[0m\u001b[38;2;0;0;0m██\u001b[38;2;0;0;0m██\u001b[38;2;0;0;0m██\u001b[38;2;0;0;0m██\u001b[38;2;32;32;32m██\u001b[38;2;0;0;0m██\u001b[38;2;0;0;0m██\u001b[38;2;0;0;0m██\u001b[38;2;0;0;0m██\u001b[38;2;0;0;0m██\u001b[38;2;0;0;0m██\u001b[38;2;0;0;0m██\u001b[38;2;97;97;97m██\u001b[38;2;85;85;85m██\u001b[38;2;35;35;35m██\u001b[38;2;0;0;0m██\u001b[38;2;0;0;0m██\u001b[38;2;0;0;0m██\u001b[38;2;0;0;0m██\u001b[38;2;0;0;0m██\u001b[0m\n",
       "\u001b[0m\u001b[38;2;0;0;0m██\u001b[38;2;0;0;0m██\u001b[38;2;2;2;2m██\u001b[38;2;4;4;4m██\u001b[38;2;12;12;12m██\u001b[38;2;0;0;0m██\u001b[38;2;0;0;0m██\u001b[38;2;0;0;0m██\u001b[38;2;0;0;0m██\u001b[38;2;0;0;0m██\u001b[38;2;0;0;0m██\u001b[38;2;0;0;0m██\u001b[38;2;0;0;0m██\u001b[38;2;0;0;0m██\u001b[38;2;16;16;16m██\u001b[38;2;25;25;25m██\u001b[38;2;0;0;0m██\u001b[38;2;0;0;0m██\u001b[38;2;0;0;0m██\u001b[38;2;0;0;0m██\u001b[0m\n",
       "\u001b[0m\u001b[38;2;0;0;0m██\u001b[38;2;0;0;0m██\u001b[38;2;0;0;0m██\u001b[38;2;0;0;0m██\u001b[38;2;1;1;1m██\u001b[38;2;0;0;0m██\u001b[38;2;0;0;0m██\u001b[38;2;0;0;0m██\u001b[38;2;0;0;0m██\u001b[38;2;0;0;0m██\u001b[38;2;0;0;0m██\u001b[38;2;0;0;0m██\u001b[38;2;0;0;0m██\u001b[38;2;0;0;0m██\u001b[38;2;0;0;0m██\u001b[38;2;0;0;0m██\u001b[38;2;0;0;0m██\u001b[38;2;0;0;0m██\u001b[38;2;0;0;0m██\u001b[38;2;0;0;0m██\u001b[0m\n",
       "\u001b[0m\u001b[38;2;0;0;0m██\u001b[38;2;0;0;0m██\u001b[38;2;0;0;0m██\u001b[38;2;0;0;0m██\u001b[38;2;0;0;0m██\u001b[38;2;1;1;1m██\u001b[38;2;0;0;0m██\u001b[38;2;0;0;0m██\u001b[38;2;0;0;0m██\u001b[38;2;0;0;0m██\u001b[38;2;0;0;0m██\u001b[38;2;0;0;0m██\u001b[38;2;0;0;0m██\u001b[38;2;0;0;0m██\u001b[38;2;0;0;0m██\u001b[38;2;0;0;0m██\u001b[38;2;0;0;0m██\u001b[38;2;0;0;0m██\u001b[38;2;0;0;0m██\u001b[38;2;0;0;0m██\u001b[0m\n",
       "\u001b[0m\u001b[38;2;0;0;0m██\u001b[38;2;0;0;0m██\u001b[38;2;0;0;0m██\u001b[38;2;0;0;0m██\u001b[38;2;0;0;0m██\u001b[38;2;0;0;0m██\u001b[38;2;0;0;0m██\u001b[38;2;0;0;0m██\u001b[38;2;0;0;0m██\u001b[38;2;0;0;0m██\u001b[38;2;0;0;0m██\u001b[38;2;0;0;0m██\u001b[38;2;0;0;0m██\u001b[38;2;0;0;0m██\u001b[38;2;0;0;0m██\u001b[38;2;0;0;0m██\u001b[38;2;0;0;0m██\u001b[38;2;0;0;0m██\u001b[38;2;0;0;0m██\u001b[38;2;0;0;0m██\u001b[0m\n",
       "\u001b[0m\u001b[38;2;0;0;0m██\u001b[38;2;0;0;0m██\u001b[38;2;0;0;0m██\u001b[38;2;0;0;0m██\u001b[38;2;0;0;0m██\u001b[38;2;0;0;0m██\u001b[38;2;1;1;1m██\u001b[38;2;0;0;0m██\u001b[38;2;0;0;0m██\u001b[38;2;0;0;0m██\u001b[38;2;0;0;0m██\u001b[38;2;0;0;0m██\u001b[38;2;0;0;0m██\u001b[38;2;0;0;0m██\u001b[38;2;0;0;0m██\u001b[38;2;0;0;0m██\u001b[38;2;0;0;0m██\u001b[38;2;0;0;0m██\u001b[38;2;0;0;0m██\u001b[38;2;0;0;0m██\u001b[0m\n",
       "\u001b[0m\u001b[38;2;0;0;0m██\u001b[38;2;0;0;0m██\u001b[38;2;0;0;0m██\u001b[38;2;0;0;0m██\u001b[38;2;0;0;0m██\u001b[38;2;0;0;0m██\u001b[38;2;0;0;0m██\u001b[38;2;2;2;2m██\u001b[38;2;4;4;4m██\u001b[38;2;0;0;0m██\u001b[38;2;0;0;0m██\u001b[38;2;0;0;0m██\u001b[38;2;0;0;0m██\u001b[38;2;0;0;0m██\u001b[38;2;0;0;0m██\u001b[38;2;0;0;0m██\u001b[38;2;0;0;0m██\u001b[38;2;30;30;30m██\u001b[38;2;12;12;12m██\u001b[38;2;0;0;0m██\u001b[0m\n",
       "\u001b[0m\u001b[38;2;0;0;0m██\u001b[38;2;0;0;0m██\u001b[38;2;0;0;0m██\u001b[38;2;0;0;0m██\u001b[38;2;0;0;0m██\u001b[38;2;0;0;0m██\u001b[38;2;4;4;4m██\u001b[38;2;2;2;2m██\u001b[38;2;0;0;0m██\u001b[38;2;0;0;0m██\u001b[38;2;0;0;0m██\u001b[38;2;0;0;0m██\u001b[38;2;0;0;0m██\u001b[38;2;0;0;0m██\u001b[38;2;0;0;0m██\u001b[38;2;0;0;0m██\u001b[38;2;0;0;0m██\u001b[38;2;11;11;11m██\u001b[38;2;10;10;10m██\u001b[38;2;0;0;0m██\u001b[0m\n",
       "\u001b[0m\u001b[38;2;0;0;0m██\u001b[38;2;0;0;0m██\u001b[38;2;0;0;0m██\u001b[38;2;0;0;0m██\u001b[38;2;3;3;3m██\u001b[38;2;4;4;4m██\u001b[38;2;0;0;0m██\u001b[38;2;0;0;0m██\u001b[38;2;0;0;0m██\u001b[38;2;0;0;0m██\u001b[38;2;0;0;0m██\u001b[38;2;0;0;0m██\u001b[38;2;0;0;0m██\u001b[38;2;0;0;0m██\u001b[38;2;0;0;0m██\u001b[38;2;22;22;22m██\u001b[38;2;53;53;53m██\u001b[38;2;15;15;15m██\u001b[38;2;0;0;0m██\u001b[38;2;0;0;0m██\u001b[0m\n",
       "\u001b[0m\u001b[38;2;0;0;0m██\u001b[38;2;0;0;0m██\u001b[38;2;2;2;2m██\u001b[38;2;0;0;0m██\u001b[38;2;0;0;0m██\u001b[38;2;0;0;0m██\u001b[38;2;0;0;0m██\u001b[38;2;0;0;0m██\u001b[38;2;0;0;0m██\u001b[38;2;0;0;0m██\u001b[38;2;0;0;0m██\u001b[38;2;0;0;0m██\u001b[38;2;0;0;0m██\u001b[38;2;0;0;0m██\u001b[38;2;63;63;63m██\u001b[38;2;115;115;115m██\u001b[38;2;52;52;52m██\u001b[38;2;25;25;25m██\u001b[38;2;10;10;10m██\u001b[38;2;0;0;0m██\u001b[0m\n",
       "\u001b[0m\u001b[38;2;2;2;2m██\u001b[38;2;12;12;12m██\u001b[38;2;0;0;0m██\u001b[38;2;0;0;0m██\u001b[38;2;0;0;0m██\u001b[38;2;0;0;0m██\u001b[38;2;0;0;0m██\u001b[38;2;0;0;0m██\u001b[38;2;0;0;0m██\u001b[38;2;0;0;0m██\u001b[38;2;0;0;0m██\u001b[38;2;0;0;0m██\u001b[38;2;0;0;0m██\u001b[38;2;84;84;84m██\u001b[38;2;114;114;114m██\u001b[38;2;25;25;25m██\u001b[38;2;0;0;0m██\u001b[38;2;0;0;0m██\u001b[38;2;0;0;0m██\u001b[38;2;0;0;0m██\u001b[0m\n",
       "\u001b[0m\u001b[38;2;0;0;0m██\u001b[38;2;0;0;0m██\u001b[38;2;0;0;0m██\u001b[38;2;0;0;0m██\u001b[38;2;0;0;0m██\u001b[38;2;0;0;0m██\u001b[38;2;0;0;0m██\u001b[38;2;0;0;0m██\u001b[38;2;0;0;0m██\u001b[38;2;0;0;0m██\u001b[38;2;0;0;0m██\u001b[38;2;88;88;88m██\u001b[38;2;115;115;115m██\u001b[38;2;58;58;58m██\u001b[38;2;0;0;0m██\u001b[38;2;16;16;16m██\u001b[38;2;54;54;54m██\u001b[38;2;30;30;30m██\u001b[38;2;0;0;0m██\u001b[38;2;0;0;0m██\u001b[0m\n",
       "\u001b[0m\u001b[38;2;0;0;0m██\u001b[38;2;0;0;0m██\u001b[38;2;0;0;0m██\u001b[38;2;0;0;0m██\u001b[38;2;0;0;0m██\u001b[38;2;0;0;0m██\u001b[38;2;0;0;0m██\u001b[38;2;0;0;0m██\u001b[38;2;0;0;0m██\u001b[38;2;86;86;86m██\u001b[38;2;120;120;120m██\u001b[38;2;58;58;58m██\u001b[38;2;6;6;6m██\u001b[38;2;21;21;21m██\u001b[38;2;57;57;57m██\u001b[38;2;47;47;47m██\u001b[38;2;13;13;13m██\u001b[38;2;0;0;0m██\u001b[38;2;0;0;0m██\u001b[38;2;0;0;0m██\u001b[0m\n",
       "\u001b[0m\u001b[38;2;0;0;0m██\u001b[38;2;0;0;0m██\u001b[38;2;0;0;0m██\u001b[38;2;0;0;0m██\u001b[38;2;0;0;0m██\u001b[38;2;0;0;0m██\u001b[38;2;0;0;0m██\u001b[38;2;45;45;45m██\u001b[38;2;130;130;130m██\u001b[38;2;73;73;73m██\u001b[38;2;16;16;16m██\u001b[38;2;23;23;23m██\u001b[38;2;55;55;55m██\u001b[38;2;45;45;45m██\u001b[38;2;14;14;14m██\u001b[38;2;0;0;0m██\u001b[38;2;0;0;0m██\u001b[38;2;0;0;0m██\u001b[38;2;0;0;0m██\u001b[38;2;0;0;0m██\u001b[0m"
      ]
     },
     "execution_count": 71,
     "metadata": {},
     "output_type": "execute_result"
    }
   ],
   "source": [
    "cnn_output = cnn_layer( images[:,:,:,1:3] )\n",
    "display( cnn_output |> size )\n",
    "convert2image( MNIST , cnn_output[:,:,1,1] )"
   ]
  },
  {
   "cell_type": "code",
   "execution_count": 72,
   "metadata": {},
   "outputs": [
    {
     "data": {
      "text/plain": [
       "(21, 21, 1, 10)"
      ]
     },
     "execution_count": 72,
     "metadata": {},
     "output_type": "execute_result"
    }
   ],
   "source": [
    "x = rand(Float32, 10, 10, 1, 10); \n",
    "cnn_layer = ConvTranspose( (5,5) , 1 => 1 , pad=1 , stride=2 )\n",
    "cnn_layer( x ) |> size"
   ]
  },
  {
   "cell_type": "code",
   "execution_count": 73,
   "metadata": {},
   "outputs": [
    {
     "data": {
      "text/plain": [
       "(57, 57, 1, 3)"
      ]
     },
     "metadata": {},
     "output_type": "display_data"
    },
    {
     "data": {
      "image/png": "[encoded data removed]",
      "text/html": [
       "<img src=\"data:image/png;base64,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\">"
      ],
      "text/plain": [
       "\u001b[0m\u001b[38;2;0;0;0;48;2;0;0;0m▀\u001b[38;2;0;0;0;48;2;0;0;0m▀\u001b[38;2;0;0;0;48;2;0;0;0m▀\u001b[38;2;0;0;0;48;2;0;0;0m▀\u001b[38;2;0;0;0;48;2;0;0;0m▀\u001b[38;2;0;0;0;48;2;0;0;0m▀\u001b[38;2;0;0;0;48;2;0;0;0m▀\u001b[38;2;0;0;0;48;2;0;0;0m▀\u001b[38;2;0;0;0;48;2;0;0;0m▀\u001b[38;2;0;0;0;48;2;0;0;0m▀\u001b[38;2;0;0;0;48;2;0;0;0m▀\u001b[38;2;0;0;0;48;2;0;0;0m▀\u001b[38;2;0;0;0;48;2;0;0;0m▀\u001b[38;2;0;0;0;48;2;0;0;0m▀\u001b[38;2;0;0;0;48;2;0;0;0m▀\u001b[38;2;0;0;0;48;2;0;0;0m▀\u001b[38;2;0;0;0;48;2;0;0;0m▀\u001b[38;2;0;0;0;48;2;0;0;0m▀\u001b[38;2;0;0;0;48;2;0;0;0m▀\u001b[38;2;0;0;0;48;2;0;0;0m▀\u001b[38;2;0;0;0;48;2;0;0;0m▀\u001b[38;2;0;0;0;48;2;0;0;0m▀\u001b[38;2;0;0;0;48;2;0;0;0m▀\u001b[38;2;0;0;0;48;2;0;0;0m▀\u001b[38;2;0;0;0;48;2;0;0;0m▀\u001b[38;2;0;0;0;48;2;0;0;0m▀\u001b[38;2;0;0;0;48;2;0;0;0m▀\u001b[38;2;0;0;0;48;2;0;0;0m▀\u001b[38;2;0;0;0;48;2;0;0;0m▀\u001b[38;2;0;0;0;48;2;0;0;0m▀\u001b[38;2;0;0;0;48;2;0;0;0m▀\u001b[38;2;0;0;0;48;2;0;0;0m▀\u001b[38;2;0;0;0;48;2;0;0;0m▀\u001b[38;2;0;0;0;48;2;0;0;0m▀\u001b[38;2;0;0;0;48;2;0;0;0m▀\u001b[38;2;0;0;0;48;2;0;0;0m▀\u001b[38;2;0;0;0;48;2;0;0;0m▀\u001b[38;2;0;0;0;48;2;0;0;0m▀\u001b[38;2;0;0;0;48;2;0;0;0m▀\u001b[38;2;0;0;0;48;2;0;0;0m▀\u001b[38;2;0;0;0;48;2;0;0;0m▀\u001b[38;2;0;0;0;48;2;0;0;0m▀\u001b[38;2;0;0;0;48;2;0;0;0m▀\u001b[38;2;0;0;0;48;2;0;0;0m▀\u001b[38;2;0;0;0;48;2;0;0;0m▀\u001b[38;2;0;0;0;48;2;0;0;0m▀\u001b[38;2;0;0;0;48;2;0;0;0m▀\u001b[38;2;0;0;0;48;2;0;0;0m▀\u001b[38;2;0;0;0;48;2;0;0;0m▀\u001b[38;2;0;0;0;48;2;0;0;0m▀\u001b[38;2;0;0;0;48;2;0;0;0m▀\u001b[38;2;0;0;0;48;2;0;0;0m▀\u001b[38;2;0;0;0;48;2;0;0;0m▀\u001b[38;2;0;0;0;48;2;0;0;0m▀\u001b[38;2;0;0;0;48;2;0;0;0m▀\u001b[38;2;0;0;0;48;2;0;0;0m▀\u001b[38;2;0;0;0;48;2;0;0;0m▀\u001b[0m\n",
       "\u001b[0m\u001b[38;2;0;0;0;48;2;0;0;0m▀\u001b[38;2;0;0;0;48;2;0;0;0m▀\u001b[38;2;0;0;0;48;2;0;0;0m▀\u001b[38;2;0;0;0;48;2;0;0;0m▀\u001b[38;2;0;0;0;48;2;0;0;0m▀\u001b[38;2;0;0;0;48;2;0;0;0m▀\u001b[38;2;0;0;0;48;2;0;0;0m▀\u001b[38;2;0;0;0;48;2;0;0;0m▀\u001b[38;2;0;0;0;48;2;0;0;0m▀\u001b[38;2;0;0;0;48;2;0;0;0m▀\u001b[38;2;0;0;0;48;2;0;0;0m▀\u001b[38;2;0;0;0;48;2;0;0;0m▀\u001b[38;2;0;0;0;48;2;0;0;0m▀\u001b[38;2;0;0;0;48;2;0;0;0m▀\u001b[38;2;0;0;0;48;2;0;0;0m▀\u001b[38;2;0;0;0;48;2;0;0;0m▀\u001b[38;2;0;0;0;48;2;0;0;0m▀\u001b[38;2;0;0;0;48;2;0;0;0m▀\u001b[38;2;0;0;0;48;2;0;0;0m▀\u001b[38;2;0;0;0;48;2;0;0;0m▀\u001b[38;2;0;0;0;48;2;0;0;0m▀\u001b[38;2;0;0;0;48;2;0;0;0m▀\u001b[38;2;0;0;0;48;2;0;0;0m▀\u001b[38;2;0;0;0;48;2;0;0;0m▀\u001b[38;2;0;0;0;48;2;0;0;0m▀\u001b[38;2;0;0;0;48;2;0;0;0m▀\u001b[38;2;0;0;0;48;2;0;0;0m▀\u001b[38;2;0;0;0;48;2;0;0;0m▀\u001b[38;2;0;0;0;48;2;0;0;0m▀\u001b[38;2;0;0;0;48;2;0;0;0m▀\u001b[38;2;0;0;0;48;2;0;0;0m▀\u001b[38;2;0;0;0;48;2;0;0;0m▀\u001b[38;2;0;0;0;48;2;0;0;0m▀\u001b[38;2;0;0;0;48;2;0;0;0m▀\u001b[38;2;0;0;0;48;2;0;0;0m▀\u001b[38;2;0;0;0;48;2;0;0;0m▀\u001b[38;2;0;0;0;48;2;0;0;0m▀\u001b[38;2;0;0;0;48;2;0;0;0m▀\u001b[38;2;0;0;0;48;2;0;0;0m▀\u001b[38;2;0;0;0;48;2;0;0;0m▀\u001b[38;2;0;0;0;48;2;0;0;0m▀\u001b[38;2;0;0;0;48;2;0;0;0m▀\u001b[38;2;0;0;0;48;2;0;0;0m▀\u001b[38;2;0;0;0;48;2;0;0;0m▀\u001b[38;2;0;0;0;48;2;0;0;0m▀\u001b[38;2;0;0;0;48;2;0;0;0m▀\u001b[38;2;0;0;0;48;2;0;0;0m▀\u001b[38;2;0;0;0;48;2;0;0;0m▀\u001b[38;2;0;0;0;48;2;0;0;0m▀\u001b[38;2;0;0;0;48;2;0;0;0m▀\u001b[38;2;0;0;0;48;2;0;0;0m▀\u001b[38;2;0;0;0;48;2;0;0;0m▀\u001b[38;2;0;0;0;48;2;0;0;0m▀\u001b[38;2;0;0;0;48;2;0;0;0m▀\u001b[38;2;0;0;0;48;2;0;0;0m▀\u001b[38;2;0;0;0;48;2;0;0;0m▀\u001b[38;2;0;0;0;48;2;0;0;0m▀\u001b[0m\n",
       "\u001b[0m\u001b[38;2;0;0;0;48;2;0;0;0m▀\u001b[38;2;0;0;0;48;2;0;0;0m▀\u001b[38;2;0;0;0;48;2;0;0;0m▀\u001b[38;2;0;0;0;48;2;0;0;0m▀\u001b[38;2;0;0;0;48;2;0;0;0m▀\u001b[38;2;0;0;0;48;2;0;0;0m▀\u001b[38;2;0;0;0;48;2;0;0;0m▀\u001b[38;2;0;0;0;48;2;0;0;0m▀\u001b[38;2;0;0;0;48;2;0;0;0m▀\u001b[38;2;0;0;0;48;2;0;0;0m▀\u001b[38;2;0;0;0;48;2;0;0;0m▀\u001b[38;2;0;0;0;48;2;0;0;0m▀\u001b[38;2;0;0;0;48;2;0;0;0m▀\u001b[38;2;0;0;0;48;2;0;0;0m▀\u001b[38;2;0;0;0;48;2;0;0;0m▀\u001b[38;2;0;0;0;48;2;0;0;0m▀\u001b[38;2;0;0;0;48;2;0;0;0m▀\u001b[38;2;0;0;0;48;2;0;0;0m▀\u001b[38;2;0;0;0;48;2;0;0;0m▀\u001b[38;2;0;0;0;48;2;0;0;0m▀\u001b[38;2;0;0;0;48;2;0;0;0m▀\u001b[38;2;0;0;0;48;2;0;0;0m▀\u001b[38;2;0;0;0;48;2;0;0;0m▀\u001b[38;2;0;0;0;48;2;0;0;0m▀\u001b[38;2;0;0;0;48;2;0;0;0m▀\u001b[38;2;0;0;0;48;2;0;0;0m▀\u001b[38;2;0;0;0;48;2;0;0;0m▀\u001b[38;2;0;0;0;48;2;0;0;0m▀\u001b[38;2;0;0;0;48;2;0;0;0m▀\u001b[38;2;0;0;0;48;2;0;0;0m▀\u001b[38;2;0;0;0;48;2;0;0;0m▀\u001b[38;2;0;0;0;48;2;0;0;0m▀\u001b[38;2;0;0;0;48;2;0;0;0m▀\u001b[38;2;0;0;0;48;2;0;0;0m▀\u001b[38;2;0;0;0;48;2;0;0;0m▀\u001b[38;2;0;0;0;48;2;0;0;0m▀\u001b[38;2;0;0;0;48;2;0;0;0m▀\u001b[38;2;0;0;0;48;2;0;0;0m▀\u001b[38;2;0;0;0;48;2;0;0;0m▀\u001b[38;2;0;0;0;48;2;0;0;0m▀\u001b[38;2;0;0;0;48;2;0;0;0m▀\u001b[38;2;0;0;0;48;2;0;0;0m▀\u001b[38;2;0;0;0;48;2;0;0;0m▀\u001b[38;2;0;0;0;48;2;0;0;0m▀\u001b[38;2;0;0;0;48;2;0;0;0m▀\u001b[38;2;0;0;0;48;2;0;0;0m▀\u001b[38;2;0;0;0;48;2;0;0;0m▀\u001b[38;2;0;0;0;48;2;0;0;0m▀\u001b[38;2;0;0;0;48;2;0;0;0m▀\u001b[38;2;0;0;0;48;2;0;0;0m▀\u001b[38;2;0;0;0;48;2;0;0;0m▀\u001b[38;2;0;0;0;48;2;0;0;0m▀\u001b[38;2;0;0;0;48;2;0;0;0m▀\u001b[38;2;0;0;0;48;2;0;0;0m▀\u001b[38;2;0;0;0;48;2;0;0;0m▀\u001b[38;2;0;0;0;48;2;0;0;0m▀\u001b[38;2;0;0;0;48;2;0;0;0m▀\u001b[0m\n",
       "\u001b[0m\u001b[38;2;0;0;0;48;2;0;0;0m▀\u001b[38;2;0;0;0;48;2;0;0;0m▀\u001b[38;2;0;0;0;48;2;0;0;0m▀\u001b[38;2;0;0;0;48;2;0;0;0m▀\u001b[38;2;0;0;0;48;2;0;0;0m▀\u001b[38;2;0;0;0;48;2;0;0;0m▀\u001b[38;2;0;0;0;48;2;0;0;0m▀\u001b[38;2;0;0;0;48;2;0;0;0m▀\u001b[38;2;0;0;0;48;2;0;0;0m▀\u001b[38;2;0;0;0;48;2;0;0;0m▀\u001b[38;2;0;0;0;48;2;0;0;0m▀\u001b[38;2;0;0;0;48;2;0;0;0m▀\u001b[38;2;0;0;0;48;2;0;0;0m▀\u001b[38;2;0;0;0;48;2;0;0;0m▀\u001b[38;2;0;0;0;48;2;0;0;0m▀\u001b[38;2;0;0;0;48;2;0;0;0m▀\u001b[38;2;0;0;0;48;2;0;0;0m▀\u001b[38;2;0;0;0;48;2;0;0;0m▀\u001b[38;2;0;0;0;48;2;0;0;0m▀\u001b[38;2;0;0;0;48;2;0;0;0m▀\u001b[38;2;0;0;0;48;2;0;0;0m▀\u001b[38;2;0;0;0;48;2;0;0;0m▀\u001b[38;2;0;0;0;48;2;0;0;0m▀\u001b[38;2;0;0;0;48;2;0;0;0m▀\u001b[38;2;0;0;0;48;2;0;0;0m▀\u001b[38;2;0;0;0;48;2;0;0;0m▀\u001b[38;2;0;0;0;48;2;0;0;0m▀\u001b[38;2;0;0;0;48;2;0;0;0m▀\u001b[38;2;0;0;0;48;2;0;0;0m▀\u001b[38;2;0;0;0;48;2;0;0;0m▀\u001b[38;2;0;0;0;48;2;0;0;0m▀\u001b[38;2;0;0;0;48;2;0;0;0m▀\u001b[38;2;0;0;0;48;2;0;0;0m▀\u001b[38;2;0;0;0;48;2;0;0;0m▀\u001b[38;2;0;0;0;48;2;0;0;0m▀\u001b[38;2;0;0;0;48;2;0;0;0m▀\u001b[38;2;0;0;0;48;2;0;0;0m▀\u001b[38;2;0;0;0;48;2;0;0;0m▀\u001b[38;2;0;0;0;48;2;0;0;0m▀\u001b[38;2;0;0;0;48;2;0;0;0m▀\u001b[38;2;0;0;0;48;2;0;0;0m▀\u001b[38;2;0;0;0;48;2;0;0;0m▀\u001b[38;2;0;0;0;48;2;0;0;0m▀\u001b[38;2;0;0;0;48;2;0;0;0m▀\u001b[38;2;0;0;0;48;2;0;0;0m▀\u001b[38;2;0;0;0;48;2;0;0;0m▀\u001b[38;2;0;0;0;48;2;0;0;0m▀\u001b[38;2;0;0;0;48;2;0;0;0m▀\u001b[38;2;0;0;0;48;2;0;0;0m▀\u001b[38;2;0;0;0;48;2;0;0;0m▀\u001b[38;2;0;0;0;48;2;0;0;0m▀\u001b[38;2;0;0;0;48;2;0;0;0m▀\u001b[38;2;0;0;0;48;2;0;0;0m▀\u001b[38;2;0;0;0;48;2;0;0;0m▀\u001b[38;2;0;0;0;48;2;0;0;0m▀\u001b[38;2;0;0;0;48;2;0;0;0m▀\u001b[38;2;0;0;0;48;2;0;0;0m▀\u001b[0m\n",
       "\u001b[0m\u001b[38;2;0;0;0;48;2;0;0;0m▀\u001b[38;2;0;0;0;48;2;0;0;0m▀\u001b[38;2;0;0;0;48;2;0;0;0m▀\u001b[38;2;0;0;0;48;2;0;0;0m▀\u001b[38;2;0;0;0;48;2;0;0;0m▀\u001b[38;2;0;0;0;48;2;0;0;0m▀\u001b[38;2;0;0;0;48;2;0;0;0m▀\u001b[38;2;0;0;0;48;2;0;0;0m▀\u001b[38;2;0;0;0;48;2;0;0;0m▀\u001b[38;2;0;0;0;48;2;0;0;0m▀\u001b[38;2;0;0;0;48;2;0;0;0m▀\u001b[38;2;0;0;0;48;2;0;0;0m▀\u001b[38;2;0;0;0;48;2;0;0;0m▀\u001b[38;2;0;0;0;48;2;0;0;0m▀\u001b[38;2;0;0;0;48;2;0;0;0m▀\u001b[38;2;0;0;0;48;2;0;0;0m▀\u001b[38;2;0;0;0;48;2;0;0;0m▀\u001b[38;2;0;0;0;48;2;0;0;0m▀\u001b[38;2;0;0;0;48;2;0;0;0m▀\u001b[38;2;0;0;0;48;2;0;0;0m▀\u001b[38;2;0;0;0;48;2;0;0;0m▀\u001b[38;2;0;0;0;48;2;0;0;0m▀\u001b[38;2;0;0;0;48;2;0;0;0m▀\u001b[38;2;0;0;0;48;2;1;1;1m▀\u001b[38;2;0;0;0;48;2;0;0;0m▀\u001b[38;2;0;0;0;48;2;3;3;3m▀\u001b[38;2;0;0;0;48;2;0;0;0m▀\u001b[38;2;0;0;0;48;2;0;0;0m▀\u001b[38;2;0;0;0;48;2;0;0;0m▀\u001b[38;2;0;0;0;48;2;0;0;0m▀\u001b[38;2;0;0;0;48;2;0;0;0m▀\u001b[38;2;0;0;0;48;2;15;15;15m▀\u001b[38;2;0;0;0;48;2;0;0;0m▀\u001b[38;2;0;0;0;48;2;3;3;3m▀\u001b[38;2;0;0;0;48;2;0;0;0m▀\u001b[38;2;0;0;0;48;2;0;0;0m▀\u001b[38;2;0;0;0;48;2;0;0;0m▀\u001b[38;2;0;0;0;48;2;0;0;0m▀\u001b[38;2;0;0;0;48;2;0;0;0m▀\u001b[38;2;0;0;0;48;2;0;0;0m▀\u001b[38;2;0;0;0;48;2;0;0;0m▀\u001b[38;2;0;0;0;48;2;16;16;16m▀\u001b[38;2;0;0;0;48;2;0;0;0m▀\u001b[38;2;0;0;0;48;2;0;0;0m▀\u001b[38;2;0;0;0;48;2;0;0;0m▀\u001b[38;2;0;0;0;48;2;0;0;0m▀\u001b[38;2;0;0;0;48;2;0;0;0m▀\u001b[38;2;0;0;0;48;2;0;0;0m▀\u001b[38;2;0;0;0;48;2;0;0;0m▀\u001b[38;2;0;0;0;48;2;0;0;0m▀\u001b[38;2;0;0;0;48;2;0;0;0m▀\u001b[38;2;0;0;0;48;2;0;0;0m▀\u001b[38;2;0;0;0;48;2;0;0;0m▀\u001b[38;2;0;0;0;48;2;0;0;0m▀\u001b[38;2;0;0;0;48;2;0;0;0m▀\u001b[38;2;0;0;0;48;2;0;0;0m▀\u001b[38;2;0;0;0;48;2;0;0;0m▀\u001b[0m\n",
       "\u001b[0m\u001b[38;2;0;0;0;48;2;0;0;0m▀\u001b[38;2;0;0;0;48;2;0;0;0m▀\u001b[38;2;0;0;0;48;2;0;0;0m▀\u001b[38;2;0;0;0;48;2;0;0;0m▀\u001b[38;2;0;0;0;48;2;0;0;0m▀\u001b[38;2;0;0;0;48;2;0;0;0m▀\u001b[38;2;0;0;0;48;2;0;0;0m▀\u001b[38;2;0;0;0;48;2;0;0;0m▀\u001b[38;2;0;0;0;48;2;0;0;0m▀\u001b[38;2;0;0;0;48;2;0;0;0m▀\u001b[38;2;0;0;0;48;2;0;0;0m▀\u001b[38;2;0;0;0;48;2;0;0;0m▀\u001b[38;2;0;0;0;48;2;0;0;0m▀\u001b[38;2;0;0;0;48;2;0;0;0m▀\u001b[38;2;0;0;0;48;2;0;0;0m▀\u001b[38;2;0;0;0;48;2;5;5;5m▀\u001b[38;2;0;0;0;48;2;0;0;0m▀\u001b[38;2;0;0;0;48;2;2;2;2m▀\u001b[38;2;0;0;0;48;2;0;0;0m▀\u001b[38;2;0;0;0;48;2;5;5;5m▀\u001b[38;2;0;0;0;48;2;0;0;0m▀\u001b[38;2;0;0;0;48;2;6;6;6m▀\u001b[38;2;0;0;0;48;2;0;0;0m▀\u001b[38;2;0;0;0;48;2;0;0;0m▀\u001b[38;2;0;0;0;48;2;0;0;0m▀\u001b[38;2;0;0;0;48;2;0;0;0m▀\u001b[38;2;0;0;0;48;2;0;0;0m▀\u001b[38;2;0;0;0;48;2;0;0;0m▀\u001b[38;2;2;2;2;48;2;0;0;0m▀\u001b[38;2;0;0;0;48;2;0;0;0m▀\u001b[38;2;2;2;2;48;2;0;0;0m▀\u001b[38;2;1;1;1;48;2;0;0;0m▀\u001b[38;2;0;0;0;48;2;0;0;0m▀\u001b[38;2;0;0;0;48;2;7;7;7m▀\u001b[38;2;12;12;12;48;2;0;0;0m▀\u001b[38;2;0;0;0;48;2;28;28;28m▀\u001b[38;2;8;8;8;48;2;0;0;0m▀\u001b[38;2;0;0;0;48;2;27;27;27m▀\u001b[38;2;48;48;48;48;2;0;0;0m▀\u001b[38;2;0;0;0;48;2;26;26;26m▀\u001b[38;2;0;0;0;48;2;0;0;0m▀\u001b[38;2;0;0;0;48;2;43;43;43m▀\u001b[38;2;2;2;2;48;2;0;0;0m▀\u001b[38;2;0;0;0;48;2;72;72;72m▀\u001b[38;2;30;30;30;48;2;0;0;0m▀\u001b[38;2;0;0;0;48;2;65;65;65m▀\u001b[38;2;51;51;51;48;2;0;0;0m▀\u001b[38;2;0;0;0;48;2;36;36;36m▀\u001b[38;2;39;39;39;48;2;23;23;23m▀\u001b[38;2;0;0;0;48;2;11;11;11m▀\u001b[38;2;0;0;0;48;2;0;0;0m▀\u001b[38;2;0;0;0;48;2;0;0;0m▀\u001b[38;2;0;0;0;48;2;0;0;0m▀\u001b[38;2;0;0;0;48;2;0;0;0m▀\u001b[38;2;0;0;0;48;2;0;0;0m▀\u001b[38;2;0;0;0;48;2;0;0;0m▀\u001b[38;2;0;0;0;48;2;0;0;0m▀\u001b[0m\n",
       "\u001b[0m\u001b[38;2;0;0;0;48;2;0;0;0m▀\u001b[38;2;0;0;0;48;2;0;0;0m▀\u001b[38;2;0;0;0;48;2;0;0;0m▀\u001b[38;2;0;0;0;48;2;0;0;0m▀\u001b[38;2;0;0;0;48;2;0;0;0m▀\u001b[38;2;0;0;0;48;2;0;0;0m▀\u001b[38;2;0;0;0;48;2;0;0;0m▀\u001b[38;2;0;0;0;48;2;0;0;0m▀\u001b[38;2;0;0;0;48;2;0;0;0m▀\u001b[38;2;0;0;0;48;2;0;0;0m▀\u001b[38;2;0;0;0;48;2;0;0;0m▀\u001b[38;2;0;0;0;48;2;0;0;0m▀\u001b[38;2;0;0;0;48;2;0;0;0m▀\u001b[38;2;0;0;0;48;2;8;8;8m▀\u001b[38;2;0;0;0;48;2;0;0;0m▀\u001b[38;2;2;2;2;48;2;36;36;36m▀\u001b[38;2;0;0;0;48;2;0;0;0m▀\u001b[38;2;0;0;0;48;2;12;12;12m▀\u001b[38;2;2;2;2;48;2;0;0;0m▀\u001b[38;2;0;0;0;48;2;0;0;0m▀\u001b[38;2;0;0;0;48;2;0;0;0m▀\u001b[38;2;0;0;0;48;2;2;2;2m▀\u001b[38;2;0;0;0;48;2;0;0;0m▀\u001b[38;2;0;0;0;48;2;32;32;32m▀\u001b[38;2;14;14;14;48;2;0;0;0m▀\u001b[38;2;0;0;0;48;2;55;55;55m▀\u001b[38;2;0;0;0;48;2;0;0;0m▀\u001b[38;2;0;0;0;48;2;79;79;79m▀\u001b[38;2;28;28;28;48;2;0;0;0m▀\u001b[38;2;0;0;0;48;2;96;96;96m▀\u001b[38;2;28;28;28;48;2;0;0;0m▀\u001b[38;2;0;0;0;48;2;111;111;111m▀\u001b[38;2;6;6;6;48;2;0;0;0m▀\u001b[38;2;0;0;0;48;2;85;85;85m▀\u001b[38;2;23;23;23;48;2;0;0;0m▀\u001b[38;2;0;0;0;48;2;72;72;72m▀\u001b[38;2;22;22;22;48;2;0;0;0m▀\u001b[38;2;0;0;0;48;2;51;51;51m▀\u001b[38;2;61;61;61;48;2;0;0;0m▀\u001b[38;2;0;0;0;48;2;131;131;131m▀\u001b[38;2;0;0;0;48;2;0;0;0m▀\u001b[38;2;0;0;0;48;2;100;100;100m▀\u001b[38;2;8;8;8;48;2;0;0;0m▀\u001b[38;2;0;0;0;48;2;103;103;103m▀\u001b[38;2;31;31;31;48;2;0;0;0m▀\u001b[38;2;0;0;0;48;2;76;76;76m▀\u001b[38;2;64;64;64;48;2;0;0;0m▀\u001b[38;2;0;0;0;48;2;45;45;45m▀\u001b[38;2;41;41;41;48;2;0;0;0m▀\u001b[38;2;0;0;0;48;2;28;28;28m▀\u001b[38;2;0;0;0;48;2;0;0;0m▀\u001b[38;2;0;0;0;48;2;0;0;0m▀\u001b[38;2;0;0;0;48;2;0;0;0m▀\u001b[38;2;0;0;0;48;2;0;0;0m▀\u001b[38;2;0;0;0;48;2;0;0;0m▀\u001b[38;2;0;0;0;48;2;0;0;0m▀\u001b[38;2;0;0;0;48;2;0;0;0m▀\u001b[0m\n",
       "\u001b[0m\u001b[38;2;0;0;0;48;2;0;0;0m▀\u001b[38;2;0;0;0;48;2;0;0;0m▀\u001b[38;2;0;0;0;48;2;0;0;0m▀\u001b[38;2;0;0;0;48;2;0;0;0m▀\u001b[38;2;0;0;0;48;2;0;0;0m▀\u001b[38;2;0;0;0;48;2;0;0;0m▀\u001b[38;2;0;0;0;48;2;0;0;0m▀\u001b[38;2;0;0;0;48;2;0;0;0m▀\u001b[38;2;0;0;0;48;2;0;0;0m▀\u001b[38;2;0;0;0;48;2;0;0;0m▀\u001b[38;2;0;0;0;48;2;0;0;0m▀\u001b[38;2;0;0;0;48;2;0;0;0m▀\u001b[38;2;0;0;0;48;2;0;0;0m▀\u001b[38;2;3;3;3;48;2;6;6;6m▀\u001b[38;2;0;0;0;48;2;0;0;0m▀\u001b[38;2;0;0;0;48;2;69;69;69m▀\u001b[38;2;0;0;0;48;2;0;0;0m▀\u001b[38;2;0;0;0;48;2;103;103;103m▀\u001b[38;2;22;22;22;48;2;0;0;0m▀\u001b[38;2;0;0;0;48;2;108;108;108m▀\u001b[38;2;16;16;16;48;2;0;0;0m▀\u001b[38;2;0;0;0;48;2;98;98;98m▀\u001b[38;2;14;14;14;48;2;0;0;0m▀\u001b[38;2;0;0;0;48;2;92;92;92m▀\u001b[38;2;21;21;21;48;2;0;0;0m▀\u001b[38;2;0;0;0;48;2;106;106;106m▀\u001b[38;2;7;7;7;48;2;0;0;0m▀\u001b[38;2;0;0;0;48;2;77;77;77m▀\u001b[38;2;21;21;21;48;2;0;0;0m▀\u001b[38;2;0;0;0;48;2;92;92;92m▀\u001b[38;2;21;21;21;48;2;0;0;0m▀\u001b[38;2;0;0;0;48;2;117;117;117m▀\u001b[38;2;21;21;21;48;2;0;0;0m▀\u001b[38;2;0;0;0;48;2;110;110;110m▀\u001b[38;2;22;22;22;48;2;0;0;0m▀\u001b[38;2;0;0;0;48;2;42;42;42m▀\u001b[38;2;57;57;57;48;2;0;0;0m▀\u001b[38;2;0;0;0;48;2;28;28;28m▀\u001b[38;2;17;17;17;48;2;0;0;0m▀\u001b[38;2;0;0;0;48;2;65;65;65m▀\u001b[38;2;0;0;0;48;2;0;0;0m▀\u001b[38;2;0;0;0;48;2;32;32;32m▀\u001b[38;2;9;9;9;48;2;0;0;0m▀\u001b[38;2;0;0;0;48;2;30;30;30m▀\u001b[38;2;12;12;12;48;2;0;0;0m▀\u001b[38;2;0;0;0;48;2;10;10;10m▀\u001b[38;2;33;33;33;48;2;0;0;0m▀\u001b[38;2;0;0;0;48;2;15;15;15m▀\u001b[38;2;11;11;11;48;2;0;0;0m▀\u001b[38;2;0;0;0;48;2;8;8;8m▀\u001b[38;2;0;0;0;48;2;0;0;0m▀\u001b[38;2;0;0;0;48;2;0;0;0m▀\u001b[38;2;0;0;0;48;2;0;0;0m▀\u001b[38;2;0;0;0;48;2;0;0;0m▀\u001b[38;2;0;0;0;48;2;0;0;0m▀\u001b[38;2;0;0;0;48;2;0;0;0m▀\u001b[38;2;0;0;0;48;2;0;0;0m▀\u001b[0m\n",
       "\u001b[0m\u001b[38;2;0;0;0;48;2;0;0;0m▀\u001b[38;2;0;0;0;48;2;0;0;0m▀\u001b[38;2;0;0;0;48;2;0;0;0m▀\u001b[38;2;0;0;0;48;2;0;0;0m▀\u001b[38;2;0;0;0;48;2;0;0;0m▀\u001b[38;2;0;0;0;48;2;0;0;0m▀\u001b[38;2;0;0;0;48;2;0;0;0m▀\u001b[38;2;0;0;0;48;2;0;0;0m▀\u001b[38;2;0;0;0;48;2;0;0;0m▀\u001b[38;2;0;0;0;48;2;0;0;0m▀\u001b[38;2;0;0;0;48;2;0;0;0m▀\u001b[38;2;0;0;0;48;2;0;0;0m▀\u001b[38;2;0;0;0;48;2;0;0;0m▀\u001b[38;2;0;0;0;48;2;8;8;8m▀\u001b[38;2;0;0;0;48;2;0;0;0m▀\u001b[38;2;0;0;0;48;2;53;53;53m▀\u001b[38;2;0;0;0;48;2;0;0;0m▀\u001b[38;2;0;0;0;48;2;79;79;79m▀\u001b[38;2;8;8;8;48;2;0;0;0m▀\u001b[38;2;0;0;0;48;2;112;112;112m▀\u001b[38;2;21;21;21;48;2;0;0;0m▀\u001b[38;2;0;0;0;48;2;136;136;136m▀\u001b[38;2;21;21;21;48;2;0;0;0m▀\u001b[38;2;0;0;0;48;2;127;127;127m▀\u001b[38;2;21;21;21;48;2;0;0;0m▀\u001b[38;2;0;0;0;48;2;89;89;89m▀\u001b[38;2;21;21;21;48;2;0;0;0m▀\u001b[38;2;0;0;0;48;2;59;59;59m▀\u001b[38;2;32;32;32;48;2;0;0;0m▀\u001b[38;2;0;0;0;48;2;75;75;75m▀\u001b[38;2;18;18;18;48;2;0;0;0m▀\u001b[38;2;0;0;0;48;2;113;113;113m▀\u001b[38;2;1;1;1;48;2;0;0;0m▀\u001b[38;2;0;0;0;48;2;143;143;143m▀\u001b[38;2;22;22;22;48;2;0;0;0m▀\u001b[38;2;0;0;0;48;2;67;67;67m▀\u001b[38;2;98;98;98;48;2;0;0;0m▀\u001b[38;2;0;0;0;48;2;33;33;33m▀\u001b[38;2;0;0;0;48;2;0;0;0m▀\u001b[38;2;0;0;0;48;2;2;2;2m▀\u001b[38;2;0;0;0;48;2;0;0;0m▀\u001b[38;2;0;0;0;48;2;0;0;0m▀\u001b[38;2;3;3;3;48;2;0;0;0m▀\u001b[38;2;0;0;0;48;2;1;1;1m▀\u001b[38;2;2;2;2;48;2;0;0;0m▀\u001b[38;2;0;0;0;48;2;0;0;0m▀\u001b[38;2;7;7;7;48;2;0;0;0m▀\u001b[38;2;0;0;0;48;2;5;5;5m▀\u001b[38;2;0;0;0;48;2;0;0;0m▀\u001b[38;2;0;0;0;48;2;0;0;0m▀\u001b[38;2;0;0;0;48;2;0;0;0m▀\u001b[38;2;0;0;0;48;2;0;0;0m▀\u001b[38;2;0;0;0;48;2;0;0;0m▀\u001b[38;2;0;0;0;48;2;0;0;0m▀\u001b[38;2;0;0;0;48;2;0;0;0m▀\u001b[38;2;0;0;0;48;2;0;0;0m▀\u001b[38;2;0;0;0;48;2;0;0;0m▀\u001b[0m\n",
       "\u001b[0m\u001b[38;2;0;0;0;48;2;0;0;0m▀\u001b[38;2;0;0;0;48;2;0;0;0m▀\u001b[38;2;0;0;0;48;2;0;0;0m▀\u001b[38;2;0;0;0;48;2;0;0;0m▀\u001b[38;2;0;0;0;48;2;0;0;0m▀\u001b[38;2;0;0;0;48;2;0;0;0m▀\u001b[38;2;0;0;0;48;2;0;0;0m▀\u001b[38;2;0;0;0;48;2;0;0;0m▀\u001b[38;2;0;0;0;48;2;0;0;0m▀\u001b[38;2;0;0;0;48;2;0;0;0m▀\u001b[38;2;0;0;0;48;2;0;0;0m▀\u001b[38;2;0;0;0;48;2;0;0;0m▀\u001b[38;2;0;0;0;48;2;0;0;0m▀\u001b[38;2;0;0;0;48;2;2;2;2m▀\u001b[38;2;0;0;0;48;2;0;0;0m▀\u001b[38;2;0;0;0;48;2;31;31;31m▀\u001b[38;2;0;0;0;48;2;0;0;0m▀\u001b[38;2;0;0;0;48;2;17;17;17m▀\u001b[38;2;0;0;0;48;2;0;0;0m▀\u001b[38;2;0;0;0;48;2;63;63;63m▀\u001b[38;2;20;20;20;48;2;0;0;0m▀\u001b[38;2;0;0;0;48;2;101;101;101m▀\u001b[38;2;0;0;0;48;2;0;0;0m▀\u001b[38;2;0;0;0;48;2;134;134;134m▀\u001b[38;2;21;21;21;48;2;0;0;0m▀\u001b[38;2;0;0;0;48;2;86;86;86m▀\u001b[38;2;31;31;31;48;2;0;0;0m▀\u001b[38;2;0;0;0;48;2;38;38;38m▀\u001b[38;2;64;64;64;48;2;0;0;0m▀\u001b[38;2;0;0;0;48;2;29;29;29m▀\u001b[38;2;1;1;1;48;2;0;0;0m▀\u001b[38;2;0;0;0;48;2;16;16;16m▀\u001b[38;2;0;0;0;48;2;0;0;0m▀\u001b[38;2;0;0;0;48;2;14;14;14m▀\u001b[38;2;0;0;0;48;2;0;0;0m▀\u001b[38;2;0;0;0;48;2;21;21;21m▀\u001b[38;2;89;89;89;48;2;10;10;10m▀\u001b[38;2;0;0;0;48;2;59;59;59m▀\u001b[38;2;0;0;0;48;2;0;0;0m▀\u001b[38;2;0;0;0;48;2;0;0;0m▀\u001b[38;2;0;0;0;48;2;0;0;0m▀\u001b[38;2;0;0;0;48;2;0;0;0m▀\u001b[38;2;0;0;0;48;2;0;0;0m▀\u001b[38;2;0;0;0;48;2;0;0;0m▀\u001b[38;2;0;0;0;48;2;0;0;0m▀\u001b[38;2;0;0;0;48;2;0;0;0m▀\u001b[38;2;0;0;0;48;2;0;0;0m▀\u001b[38;2;0;0;0;48;2;0;0;0m▀\u001b[38;2;0;0;0;48;2;0;0;0m▀\u001b[38;2;0;0;0;48;2;0;0;0m▀\u001b[38;2;0;0;0;48;2;0;0;0m▀\u001b[38;2;0;0;0;48;2;0;0;0m▀\u001b[38;2;0;0;0;48;2;0;0;0m▀\u001b[38;2;0;0;0;48;2;0;0;0m▀\u001b[38;2;0;0;0;48;2;0;0;0m▀\u001b[38;2;0;0;0;48;2;0;0;0m▀\u001b[38;2;0;0;0;48;2;0;0;0m▀\u001b[0m\n",
       "\u001b[0m\u001b[38;2;0;0;0;48;2;0;0;0m▀\u001b[38;2;0;0;0;48;2;0;0;0m▀\u001b[38;2;0;0;0;48;2;0;0;0m▀\u001b[38;2;0;0;0;48;2;0;0;0m▀\u001b[38;2;0;0;0;48;2;0;0;0m▀\u001b[38;2;0;0;0;48;2;0;0;0m▀\u001b[38;2;0;0;0;48;2;0;0;0m▀\u001b[38;2;0;0;0;48;2;0;0;0m▀\u001b[38;2;0;0;0;48;2;0;0;0m▀\u001b[38;2;0;0;0;48;2;0;0;0m▀\u001b[38;2;0;0;0;48;2;0;0;0m▀\u001b[38;2;0;0;0;48;2;0;0;0m▀\u001b[38;2;0;0;0;48;2;0;0;0m▀\u001b[38;2;0;0;0;48;2;0;0;0m▀\u001b[38;2;0;0;0;48;2;0;0;0m▀\u001b[38;2;0;0;0;48;2;11;11;11m▀\u001b[38;2;0;0;0;48;2;0;0;0m▀\u001b[38;2;0;0;0;48;2;2;2;2m▀\u001b[38;2;0;0;0;48;2;0;0;0m▀\u001b[38;2;0;0;0;48;2;0;0;0m▀\u001b[38;2;10;10;10;48;2;0;0;0m▀\u001b[38;2;0;0;0;48;2;63;63;63m▀\u001b[38;2;0;0;0;48;2;0;0;0m▀\u001b[38;2;0;0;0;48;2;69;69;69m▀\u001b[38;2;0;0;0;48;2;0;0;0m▀\u001b[38;2;0;0;0;48;2;73;73;73m▀\u001b[38;2;62;62;62;48;2;0;0;0m▀\u001b[38;2;0;0;0;48;2;0;0;0m▀\u001b[38;2;61;61;61;48;2;0;0;0m▀\u001b[38;2;0;0;0;48;2;1;1;1m▀\u001b[38;2;2;2;2;48;2;0;0;0m▀\u001b[38;2;0;0;0;48;2;7;7;7m▀\u001b[38;2;0;0;0;48;2;0;0;0m▀\u001b[38;2;0;0;0;48;2;10;10;10m▀\u001b[38;2;0;0;0;48;2;0;0;0m▀\u001b[38;2;0;0;0;48;2;0;0;0m▀\u001b[38;2;27;27;27;48;2;0;0;0m▀\u001b[38;2;0;0;0;48;2;19;19;19m▀\u001b[38;2;0;0;0;48;2;0;0;0m▀\u001b[38;2;0;0;0;48;2;0;0;0m▀\u001b[38;2;0;0;0;48;2;0;0;0m▀\u001b[38;2;0;0;0;48;2;0;0;0m▀\u001b[38;2;0;0;0;48;2;0;0;0m▀\u001b[38;2;0;0;0;48;2;0;0;0m▀\u001b[38;2;0;0;0;48;2;0;0;0m▀\u001b[38;2;0;0;0;48;2;0;0;0m▀\u001b[38;2;0;0;0;48;2;0;0;0m▀\u001b[38;2;0;0;0;48;2;0;0;0m▀\u001b[38;2;0;0;0;48;2;0;0;0m▀\u001b[38;2;0;0;0;48;2;0;0;0m▀\u001b[38;2;0;0;0;48;2;0;0;0m▀\u001b[38;2;0;0;0;48;2;0;0;0m▀\u001b[38;2;0;0;0;48;2;0;0;0m▀\u001b[38;2;0;0;0;48;2;0;0;0m▀\u001b[38;2;0;0;0;48;2;0;0;0m▀\u001b[38;2;0;0;0;48;2;0;0;0m▀\u001b[38;2;0;0;0;48;2;0;0;0m▀\u001b[0m\n",
       "\u001b[0m\u001b[38;2;0;0;0;48;2;0;0;0m▀\u001b[38;2;0;0;0;48;2;0;0;0m▀\u001b[38;2;0;0;0;48;2;0;0;0m▀\u001b[38;2;0;0;0;48;2;0;0;0m▀\u001b[38;2;0;0;0;48;2;0;0;0m▀\u001b[38;2;0;0;0;48;2;0;0;0m▀\u001b[38;2;0;0;0;48;2;0;0;0m▀\u001b[38;2;0;0;0;48;2;0;0;0m▀\u001b[38;2;0;0;0;48;2;0;0;0m▀\u001b[38;2;0;0;0;48;2;0;0;0m▀\u001b[38;2;0;0;0;48;2;0;0;0m▀\u001b[38;2;0;0;0;48;2;0;0;0m▀\u001b[38;2;0;0;0;48;2;0;0;0m▀\u001b[38;2;0;0;0;48;2;0;0;0m▀\u001b[38;2;0;0;0;48;2;0;0;0m▀\u001b[38;2;0;0;0;48;2;0;0;0m▀\u001b[38;2;0;0;0;48;2;0;0;0m▀\u001b[38;2;0;0;0;48;2;2;2;2m▀\u001b[38;2;0;0;0;48;2;0;0;0m▀\u001b[38;2;0;0;0;48;2;0;0;0m▀\u001b[38;2;2;2;2;48;2;0;0;0m▀\u001b[38;2;0;0;0;48;2;34;34;34m▀\u001b[38;2;0;0;0;48;2;0;0;0m▀\u001b[38;2;0;0;0;48;2;83;83;83m▀\u001b[38;2;0;0;0;48;2;0;0;0m▀\u001b[38;2;0;0;0;48;2;94;94;94m▀\u001b[38;2;66;66;66;48;2;0;0;0m▀\u001b[38;2;0;0;0;48;2;51;51;51m▀\u001b[38;2;73;73;73;48;2;0;0;0m▀\u001b[38;2;0;0;0;48;2;0;0;0m▀\u001b[38;2;1;1;1;48;2;0;0;0m▀\u001b[38;2;0;0;0;48;2;0;0;0m▀\u001b[38;2;0;0;0;48;2;0;0;0m▀\u001b[38;2;0;0;0;48;2;0;0;0m▀\u001b[38;2;0;0;0;48;2;0;0;0m▀\u001b[38;2;0;0;0;48;2;0;0;0m▀\u001b[38;2;0;0;0;48;2;0;0;0m▀\u001b[38;2;0;0;0;48;2;0;0;0m▀\u001b[38;2;0;0;0;48;2;0;0;0m▀\u001b[38;2;0;0;0;48;2;0;0;0m▀\u001b[38;2;0;0;0;48;2;0;0;0m▀\u001b[38;2;0;0;0;48;2;0;0;0m▀\u001b[38;2;0;0;0;48;2;0;0;0m▀\u001b[38;2;0;0;0;48;2;0;0;0m▀\u001b[38;2;0;0;0;48;2;0;0;0m▀\u001b[38;2;0;0;0;48;2;0;0;0m▀\u001b[38;2;0;0;0;48;2;0;0;0m▀\u001b[38;2;0;0;0;48;2;0;0;0m▀\u001b[38;2;0;0;0;48;2;0;0;0m▀\u001b[38;2;0;0;0;48;2;0;0;0m▀\u001b[38;2;0;0;0;48;2;0;0;0m▀\u001b[38;2;0;0;0;48;2;0;0;0m▀\u001b[38;2;0;0;0;48;2;0;0;0m▀\u001b[38;2;0;0;0;48;2;0;0;0m▀\u001b[38;2;0;0;0;48;2;0;0;0m▀\u001b[38;2;0;0;0;48;2;0;0;0m▀\u001b[38;2;0;0;0;48;2;0;0;0m▀\u001b[0m\n",
       "\u001b[0m\u001b[38;2;0;0;0;48;2;0;0;0m▀\u001b[38;2;0;0;0;48;2;0;0;0m▀\u001b[38;2;0;0;0;48;2;0;0;0m▀\u001b[38;2;0;0;0;48;2;0;0;0m▀\u001b[38;2;0;0;0;48;2;0;0;0m▀\u001b[38;2;0;0;0;48;2;0;0;0m▀\u001b[38;2;0;0;0;48;2;0;0;0m▀\u001b[38;2;0;0;0;48;2;0;0;0m▀\u001b[38;2;0;0;0;48;2;0;0;0m▀\u001b[38;2;0;0;0;48;2;0;0;0m▀\u001b[38;2;0;0;0;48;2;0;0;0m▀\u001b[38;2;0;0;0;48;2;0;0;0m▀\u001b[38;2;0;0;0;48;2;0;0;0m▀\u001b[38;2;0;0;0;48;2;0;0;0m▀\u001b[38;2;0;0;0;48;2;0;0;0m▀\u001b[38;2;0;0;0;48;2;0;0;0m▀\u001b[38;2;0;0;0;48;2;0;0;0m▀\u001b[38;2;0;0;0;48;2;0;0;0m▀\u001b[38;2;0;0;0;48;2;0;0;0m▀\u001b[38;2;0;0;0;48;2;0;0;0m▀\u001b[38;2;0;0;0;48;2;0;0;0m▀\u001b[38;2;0;0;0;48;2;20;20;20m▀\u001b[38;2;0;0;0;48;2;0;0;0m▀\u001b[38;2;0;0;0;48;2;20;20;20m▀\u001b[38;2;0;0;0;48;2;0;0;0m▀\u001b[38;2;0;0;0;48;2;89;89;89m▀\u001b[38;2;15;15;15;48;2;0;0;0m▀\u001b[38;2;0;0;0;48;2;96;96;96m▀\u001b[38;2;96;96;96;48;2;0;0;0m▀\u001b[38;2;0;0;0;48;2;39;39;39m▀\u001b[38;2;22;22;22;48;2;0;0;0m▀\u001b[38;2;0;0;0;48;2;0;0;0m▀\u001b[38;2;0;0;0;48;2;0;0;0m▀\u001b[38;2;0;0;0;48;2;0;0;0m▀\u001b[38;2;0;0;0;48;2;0;0;0m▀\u001b[38;2;0;0;0;48;2;0;0;0m▀\u001b[38;2;0;0;0;48;2;0;0;0m▀\u001b[38;2;0;0;0;48;2;0;0;0m▀\u001b[38;2;0;0;0;48;2;0;0;0m▀\u001b[38;2;0;0;0;48;2;0;0;0m▀\u001b[38;2;0;0;0;48;2;0;0;0m▀\u001b[38;2;0;0;0;48;2;0;0;0m▀\u001b[38;2;0;0;0;48;2;0;0;0m▀\u001b[38;2;0;0;0;48;2;0;0;0m▀\u001b[38;2;0;0;0;48;2;0;0;0m▀\u001b[38;2;0;0;0;48;2;0;0;0m▀\u001b[38;2;0;0;0;48;2;0;0;0m▀\u001b[38;2;0;0;0;48;2;0;0;0m▀\u001b[38;2;0;0;0;48;2;0;0;0m▀\u001b[38;2;0;0;0;48;2;0;0;0m▀\u001b[38;2;0;0;0;48;2;0;0;0m▀\u001b[38;2;0;0;0;48;2;0;0;0m▀\u001b[38;2;0;0;0;48;2;0;0;0m▀\u001b[38;2;0;0;0;48;2;0;0;0m▀\u001b[38;2;0;0;0;48;2;0;0;0m▀\u001b[38;2;0;0;0;48;2;0;0;0m▀\u001b[38;2;0;0;0;48;2;0;0;0m▀\u001b[0m\n",
       "\u001b[0m\u001b[38;2;0;0;0;48;2;0;0;0m▀\u001b[38;2;0;0;0;48;2;0;0;0m▀\u001b[38;2;0;0;0;48;2;0;0;0m▀\u001b[38;2;0;0;0;48;2;0;0;0m▀\u001b[38;2;0;0;0;48;2;0;0;0m▀\u001b[38;2;0;0;0;48;2;0;0;0m▀\u001b[38;2;0;0;0;48;2;0;0;0m▀\u001b[38;2;0;0;0;48;2;0;0;0m▀\u001b[38;2;0;0;0;48;2;0;0;0m▀\u001b[38;2;0;0;0;48;2;0;0;0m▀\u001b[38;2;0;0;0;48;2;0;0;0m▀\u001b[38;2;0;0;0;48;2;0;0;0m▀\u001b[38;2;0;0;0;48;2;0;0;0m▀\u001b[38;2;0;0;0;48;2;0;0;0m▀\u001b[38;2;0;0;0;48;2;0;0;0m▀\u001b[38;2;0;0;0;48;2;0;0;0m▀\u001b[38;2;0;0;0;48;2;0;0;0m▀\u001b[38;2;0;0;0;48;2;0;0;0m▀\u001b[38;2;0;0;0;48;2;0;0;0m▀\u001b[38;2;0;0;0;48;2;0;0;0m▀\u001b[38;2;0;0;0;48;2;0;0;0m▀\u001b[38;2;0;0;0;48;2;2;2;2m▀\u001b[38;2;0;0;0;48;2;0;0;0m▀\u001b[38;2;0;0;0;48;2;26;26;26m▀\u001b[38;2;0;0;0;48;2;0;0;0m▀\u001b[38;2;0;0;0;48;2;27;27;27m▀\u001b[38;2;0;0;0;48;2;0;0;0m▀\u001b[38;2;0;0;0;48;2;90;90;90m▀\u001b[38;2;60;60;60;48;2;0;0;0m▀\u001b[38;2;0;0;0;48;2;129;129;129m▀\u001b[38;2;50;50;50;48;2;0;0;0m▀\u001b[38;2;0;0;0;48;2;66;66;66m▀\u001b[38;2;28;28;28;48;2;0;0;0m▀\u001b[38;2;0;0;0;48;2;0;0;0m▀\u001b[38;2;33;33;33;48;2;0;0;0m▀\u001b[38;2;0;0;0;48;2;0;0;0m▀\u001b[38;2;0;0;0;48;2;0;0;0m▀\u001b[38;2;0;0;0;48;2;0;0;0m▀\u001b[38;2;0;0;0;48;2;0;0;0m▀\u001b[38;2;0;0;0;48;2;0;0;0m▀\u001b[38;2;0;0;0;48;2;0;0;0m▀\u001b[38;2;0;0;0;48;2;0;0;0m▀\u001b[38;2;0;0;0;48;2;0;0;0m▀\u001b[38;2;0;0;0;48;2;0;0;0m▀\u001b[38;2;0;0;0;48;2;0;0;0m▀\u001b[38;2;0;0;0;48;2;0;0;0m▀\u001b[38;2;0;0;0;48;2;0;0;0m▀\u001b[38;2;0;0;0;48;2;0;0;0m▀\u001b[38;2;0;0;0;48;2;0;0;0m▀\u001b[38;2;0;0;0;48;2;0;0;0m▀\u001b[38;2;0;0;0;48;2;0;0;0m▀\u001b[38;2;0;0;0;48;2;0;0;0m▀\u001b[38;2;0;0;0;48;2;0;0;0m▀\u001b[38;2;0;0;0;48;2;0;0;0m▀\u001b[38;2;0;0;0;48;2;0;0;0m▀\u001b[38;2;0;0;0;48;2;0;0;0m▀\u001b[38;2;0;0;0;48;2;0;0;0m▀\u001b[0m\n",
       "\u001b[0m\u001b[38;2;0;0;0;48;2;0;0;0m▀\u001b[38;2;0;0;0;48;2;0;0;0m▀\u001b[38;2;0;0;0;48;2;0;0;0m▀\u001b[38;2;0;0;0;48;2;0;0;0m▀\u001b[38;2;0;0;0;48;2;0;0;0m▀\u001b[38;2;0;0;0;48;2;0;0;0m▀\u001b[38;2;0;0;0;48;2;0;0;0m▀\u001b[38;2;0;0;0;48;2;0;0;0m▀\u001b[38;2;0;0;0;48;2;0;0;0m▀\u001b[38;2;0;0;0;48;2;0;0;0m▀\u001b[38;2;0;0;0;48;2;0;0;0m▀\u001b[38;2;0;0;0;48;2;0;0;0m▀\u001b[38;2;0;0;0;48;2;0;0;0m▀\u001b[38;2;0;0;0;48;2;0;0;0m▀\u001b[38;2;0;0;0;48;2;0;0;0m▀\u001b[38;2;0;0;0;48;2;0;0;0m▀\u001b[38;2;0;0;0;48;2;0;0;0m▀\u001b[38;2;0;0;0;48;2;0;0;0m▀\u001b[38;2;0;0;0;48;2;0;0;0m▀\u001b[38;2;0;0;0;48;2;0;0;0m▀\u001b[38;2;0;0;0;48;2;0;0;0m▀\u001b[38;2;0;0;0;48;2;0;0;0m▀\u001b[38;2;0;0;0;48;2;0;0;0m▀\u001b[38;2;0;0;0;48;2;5;5;5m▀\u001b[38;2;0;0;0;48;2;0;0;0m▀\u001b[38;2;0;0;0;48;2;29;29;29m▀\u001b[38;2;0;0;0;48;2;0;0;0m▀\u001b[38;2;0;0;0;48;2;20;20;20m▀\u001b[38;2;0;0;0;48;2;0;0;0m▀\u001b[38;2;0;0;0;48;2;121;121;121m▀\u001b[38;2;31;31;31;48;2;0;0;0m▀\u001b[38;2;0;0;0;48;2;146;146;146m▀\u001b[38;2;34;34;34;48;2;0;0;0m▀\u001b[38;2;0;0;0;48;2;93;93;93m▀\u001b[38;2;73;73;73;48;2;0;0;0m▀\u001b[38;2;0;0;0;48;2;38;38;38m▀\u001b[38;2;32;32;32;48;2;0;0;0m▀\u001b[38;2;0;0;0;48;2;0;0;0m▀\u001b[38;2;8;8;8;48;2;0;0;0m▀\u001b[38;2;0;0;0;48;2;0;0;0m▀\u001b[38;2;0;0;0;48;2;0;0;0m▀\u001b[38;2;0;0;0;48;2;0;0;0m▀\u001b[38;2;0;0;0;48;2;0;0;0m▀\u001b[38;2;0;0;0;48;2;0;0;0m▀\u001b[38;2;0;0;0;48;2;0;0;0m▀\u001b[38;2;0;0;0;48;2;0;0;0m▀\u001b[38;2;0;0;0;48;2;0;0;0m▀\u001b[38;2;0;0;0;48;2;0;0;0m▀\u001b[38;2;0;0;0;48;2;0;0;0m▀\u001b[38;2;0;0;0;48;2;0;0;0m▀\u001b[38;2;0;0;0;48;2;0;0;0m▀\u001b[38;2;0;0;0;48;2;0;0;0m▀\u001b[38;2;0;0;0;48;2;0;0;0m▀\u001b[38;2;0;0;0;48;2;0;0;0m▀\u001b[38;2;0;0;0;48;2;0;0;0m▀\u001b[38;2;0;0;0;48;2;0;0;0m▀\u001b[38;2;0;0;0;48;2;0;0;0m▀\u001b[0m\n",
       "\u001b[0m\u001b[38;2;0;0;0;48;2;0;0;0m▀\u001b[38;2;0;0;0;48;2;0;0;0m▀\u001b[38;2;0;0;0;48;2;0;0;0m▀\u001b[38;2;0;0;0;48;2;0;0;0m▀\u001b[38;2;0;0;0;48;2;0;0;0m▀\u001b[38;2;0;0;0;48;2;0;0;0m▀\u001b[38;2;0;0;0;48;2;0;0;0m▀\u001b[38;2;0;0;0;48;2;0;0;0m▀\u001b[38;2;0;0;0;48;2;0;0;0m▀\u001b[38;2;0;0;0;48;2;0;0;0m▀\u001b[38;2;0;0;0;48;2;0;0;0m▀\u001b[38;2;0;0;0;48;2;0;0;0m▀\u001b[38;2;0;0;0;48;2;0;0;0m▀\u001b[38;2;0;0;0;48;2;0;0;0m▀\u001b[38;2;0;0;0;48;2;0;0;0m▀\u001b[38;2;0;0;0;48;2;0;0;0m▀\u001b[38;2;0;0;0;48;2;0;0;0m▀\u001b[38;2;0;0;0;48;2;0;0;0m▀\u001b[38;2;0;0;0;48;2;0;0;0m▀\u001b[38;2;0;0;0;48;2;0;0;0m▀\u001b[38;2;0;0;0;48;2;0;0;0m▀\u001b[38;2;0;0;0;48;2;0;0;0m▀\u001b[38;2;0;0;0;48;2;0;0;0m▀\u001b[38;2;0;0;0;48;2;0;0;0m▀\u001b[38;2;0;0;0;48;2;0;0;0m▀\u001b[38;2;0;0;0;48;2;11;11;11m▀\u001b[38;2;0;0;0;48;2;0;0;0m▀\u001b[38;2;0;0;0;48;2;15;15;15m▀\u001b[38;2;0;0;0;48;2;0;0;0m▀\u001b[38;2;0;0;0;48;2;11;11;11m▀\u001b[38;2;0;0;0;48;2;0;0;0m▀\u001b[38;2;0;0;0;48;2;92;92;92m▀\u001b[38;2;1;1;1;48;2;0;0;0m▀\u001b[38;2;0;0;0;48;2;135;135;135m▀\u001b[38;2;48;48;48;48;2;0;0;0m▀\u001b[38;2;0;0;0;48;2;126;126;126m▀\u001b[38;2;64;64;64;48;2;0;0;0m▀\u001b[38;2;0;0;0;48;2;49;49;49m▀\u001b[38;2;45;45;45;48;2;0;0;0m▀\u001b[38;2;0;0;0;48;2;0;0;0m▀\u001b[38;2;8;8;8;48;2;0;0;0m▀\u001b[38;2;0;0;0;48;2;0;0;0m▀\u001b[38;2;0;0;0;48;2;0;0;0m▀\u001b[38;2;0;0;0;48;2;0;0;0m▀\u001b[38;2;0;0;0;48;2;0;0;0m▀\u001b[38;2;0;0;0;48;2;0;0;0m▀\u001b[38;2;0;0;0;48;2;0;0;0m▀\u001b[38;2;0;0;0;48;2;0;0;0m▀\u001b[38;2;0;0;0;48;2;0;0;0m▀\u001b[38;2;0;0;0;48;2;0;0;0m▀\u001b[38;2;0;0;0;48;2;0;0;0m▀\u001b[38;2;0;0;0;48;2;0;0;0m▀\u001b[38;2;0;0;0;48;2;0;0;0m▀\u001b[38;2;0;0;0;48;2;0;0;0m▀\u001b[38;2;0;0;0;48;2;0;0;0m▀\u001b[38;2;0;0;0;48;2;0;0;0m▀\u001b[38;2;0;0;0;48;2;0;0;0m▀\u001b[0m\n",
       "\u001b[0m\u001b[38;2;0;0;0;48;2;0;0;0m▀\u001b[38;2;0;0;0;48;2;0;0;0m▀\u001b[38;2;0;0;0;48;2;0;0;0m▀\u001b[38;2;0;0;0;48;2;0;0;0m▀\u001b[38;2;0;0;0;48;2;0;0;0m▀\u001b[38;2;0;0;0;48;2;0;0;0m▀\u001b[38;2;0;0;0;48;2;0;0;0m▀\u001b[38;2;0;0;0;48;2;0;0;0m▀\u001b[38;2;0;0;0;48;2;0;0;0m▀\u001b[38;2;0;0;0;48;2;0;0;0m▀\u001b[38;2;0;0;0;48;2;0;0;0m▀\u001b[38;2;0;0;0;48;2;0;0;0m▀\u001b[38;2;0;0;0;48;2;0;0;0m▀\u001b[38;2;0;0;0;48;2;0;0;0m▀\u001b[38;2;0;0;0;48;2;0;0;0m▀\u001b[38;2;0;0;0;48;2;0;0;0m▀\u001b[38;2;0;0;0;48;2;0;0;0m▀\u001b[38;2;0;0;0;48;2;0;0;0m▀\u001b[38;2;0;0;0;48;2;0;0;0m▀\u001b[38;2;0;0;0;48;2;0;0;0m▀\u001b[38;2;0;0;0;48;2;0;0;0m▀\u001b[38;2;0;0;0;48;2;0;0;0m▀\u001b[38;2;0;0;0;48;2;0;0;0m▀\u001b[38;2;0;0;0;48;2;0;0;0m▀\u001b[38;2;0;0;0;48;2;0;0;0m▀\u001b[38;2;0;0;0;48;2;0;0;0m▀\u001b[38;2;0;0;0;48;2;0;0;0m▀\u001b[38;2;0;0;0;48;2;6;6;6m▀\u001b[38;2;0;0;0;48;2;0;0;0m▀\u001b[38;2;0;0;0;48;2;15;15;15m▀\u001b[38;2;0;0;0;48;2;0;0;0m▀\u001b[38;2;0;0;0;48;2;3;3;3m▀\u001b[38;2;0;0;0;48;2;0;0;0m▀\u001b[38;2;0;0;0;48;2;82;82;82m▀\u001b[38;2;0;0;0;48;2;0;0;0m▀\u001b[38;2;0;0;0;48;2;104;104;104m▀\u001b[38;2;42;42;42;48;2;0;0;0m▀\u001b[38;2;0;0;0;48;2;88;88;88m▀\u001b[38;2;62;62;62;48;2;0;0;0m▀\u001b[38;2;0;0;0;48;2;40;40;40m▀\u001b[38;2;62;62;62;48;2;0;0;0m▀\u001b[38;2;0;0;0;48;2;0;0;0m▀\u001b[38;2;0;0;0;48;2;0;0;0m▀\u001b[38;2;0;0;0;48;2;0;0;0m▀\u001b[38;2;0;0;0;48;2;0;0;0m▀\u001b[38;2;0;0;0;48;2;0;0;0m▀\u001b[38;2;0;0;0;48;2;0;0;0m▀\u001b[38;2;0;0;0;48;2;0;0;0m▀\u001b[38;2;0;0;0;48;2;0;0;0m▀\u001b[38;2;0;0;0;48;2;0;0;0m▀\u001b[38;2;0;0;0;48;2;0;0;0m▀\u001b[38;2;0;0;0;48;2;0;0;0m▀\u001b[38;2;0;0;0;48;2;0;0;0m▀\u001b[38;2;0;0;0;48;2;0;0;0m▀\u001b[38;2;0;0;0;48;2;0;0;0m▀\u001b[38;2;0;0;0;48;2;0;0;0m▀\u001b[38;2;0;0;0;48;2;0;0;0m▀\u001b[0m\n",
       "\u001b[0m\u001b[38;2;0;0;0;48;2;0;0;0m▀\u001b[38;2;0;0;0;48;2;0;0;0m▀\u001b[38;2;0;0;0;48;2;0;0;0m▀\u001b[38;2;0;0;0;48;2;0;0;0m▀\u001b[38;2;0;0;0;48;2;0;0;0m▀\u001b[38;2;0;0;0;48;2;0;0;0m▀\u001b[38;2;0;0;0;48;2;0;0;0m▀\u001b[38;2;0;0;0;48;2;0;0;0m▀\u001b[38;2;0;0;0;48;2;0;0;0m▀\u001b[38;2;0;0;0;48;2;0;0;0m▀\u001b[38;2;0;0;0;48;2;0;0;0m▀\u001b[38;2;0;0;0;48;2;0;0;0m▀\u001b[38;2;0;0;0;48;2;0;0;0m▀\u001b[38;2;0;0;0;48;2;0;0;0m▀\u001b[38;2;0;0;0;48;2;0;0;0m▀\u001b[38;2;0;0;0;48;2;0;0;0m▀\u001b[38;2;0;0;0;48;2;0;0;0m▀\u001b[38;2;0;0;0;48;2;0;0;0m▀\u001b[38;2;0;0;0;48;2;0;0;0m▀\u001b[38;2;0;0;0;48;2;0;0;0m▀\u001b[38;2;0;0;0;48;2;0;0;0m▀\u001b[38;2;0;0;0;48;2;0;0;0m▀\u001b[38;2;0;0;0;48;2;0;0;0m▀\u001b[38;2;0;0;0;48;2;0;0;0m▀\u001b[38;2;0;0;0;48;2;0;0;0m▀\u001b[38;2;0;0;0;48;2;0;0;0m▀\u001b[38;2;0;0;0;48;2;0;0;0m▀\u001b[38;2;0;0;0;48;2;8;8;8m▀\u001b[38;2;0;0;0;48;2;0;0;0m▀\u001b[38;2;0;0;0;48;2;18;18;18m▀\u001b[38;2;0;0;0;48;2;0;0;0m▀\u001b[38;2;0;0;0;48;2;13;13;13m▀\u001b[38;2;0;0;0;48;2;0;0;0m▀\u001b[38;2;0;0;0;48;2;21;21;21m▀\u001b[38;2;0;0;0;48;2;0;0;0m▀\u001b[38;2;0;0;0;48;2;43;43;43m▀\u001b[38;2;20;20;20;48;2;0;0;0m▀\u001b[38;2;0;0;0;48;2;79;79;79m▀\u001b[38;2;35;35;35;48;2;0;0;0m▀\u001b[38;2;0;0;0;48;2;29;29;29m▀\u001b[38;2;96;96;96;48;2;0;0;0m▀\u001b[38;2;0;0;0;48;2;47;47;47m▀\u001b[38;2;20;20;20;48;2;19;19;19m▀\u001b[38;2;0;0;0;48;2;12;12;12m▀\u001b[38;2;0;0;0;48;2;0;0;0m▀\u001b[38;2;0;0;0;48;2;0;0;0m▀\u001b[38;2;0;0;0;48;2;0;0;0m▀\u001b[38;2;0;0;0;48;2;0;0;0m▀\u001b[38;2;0;0;0;48;2;0;0;0m▀\u001b[38;2;0;0;0;48;2;0;0;0m▀\u001b[38;2;0;0;0;48;2;0;0;0m▀\u001b[38;2;0;0;0;48;2;0;0;0m▀\u001b[38;2;0;0;0;48;2;0;0;0m▀\u001b[38;2;0;0;0;48;2;0;0;0m▀\u001b[38;2;0;0;0;48;2;0;0;0m▀\u001b[38;2;0;0;0;48;2;0;0;0m▀\u001b[38;2;0;0;0;48;2;0;0;0m▀\u001b[0m\n",
       "\u001b[0m\u001b[38;2;0;0;0;48;2;0;0;0m▀\u001b[38;2;0;0;0;48;2;0;0;0m▀\u001b[38;2;0;0;0;48;2;0;0;0m▀\u001b[38;2;0;0;0;48;2;0;0;0m▀\u001b[38;2;0;0;0;48;2;0;0;0m▀\u001b[38;2;0;0;0;48;2;0;0;0m▀\u001b[38;2;0;0;0;48;2;0;0;0m▀\u001b[38;2;0;0;0;48;2;0;0;0m▀\u001b[38;2;0;0;0;48;2;0;0;0m▀\u001b[38;2;0;0;0;48;2;0;0;0m▀\u001b[38;2;0;0;0;48;2;0;0;0m▀\u001b[38;2;0;0;0;48;2;0;0;0m▀\u001b[38;2;0;0;0;48;2;0;0;0m▀\u001b[38;2;0;0;0;48;2;0;0;0m▀\u001b[38;2;0;0;0;48;2;0;0;0m▀\u001b[38;2;0;0;0;48;2;0;0;0m▀\u001b[38;2;0;0;0;48;2;0;0;0m▀\u001b[38;2;0;0;0;48;2;0;0;0m▀\u001b[38;2;0;0;0;48;2;0;0;0m▀\u001b[38;2;0;0;0;48;2;0;0;0m▀\u001b[38;2;0;0;0;48;2;0;0;0m▀\u001b[38;2;0;0;0;48;2;0;0;0m▀\u001b[38;2;0;0;0;48;2;0;0;0m▀\u001b[38;2;0;0;0;48;2;7;7;7m▀\u001b[38;2;0;0;0;48;2;0;0;0m▀\u001b[38;2;0;0;0;48;2;20;20;20m▀\u001b[38;2;0;0;0;48;2;0;0;0m▀\u001b[38;2;3;3;3;48;2;14;14;14m▀\u001b[38;2;0;0;0;48;2;0;0;0m▀\u001b[38;2;0;0;0;48;2;4;4;4m▀\u001b[38;2;0;0;0;48;2;0;0;0m▀\u001b[38;2;0;0;0;48;2;22;22;22m▀\u001b[38;2;4;4;4;48;2;0;0;0m▀\u001b[38;2;0;0;0;48;2;87;87;87m▀\u001b[38;2;0;0;0;48;2;0;0;0m▀\u001b[38;2;0;0;0;48;2;53;53;53m▀\u001b[38;2;21;21;21;48;2;0;0;0m▀\u001b[38;2;0;0;0;48;2;81;81;81m▀\u001b[38;2;31;31;31;48;2;0;0;0m▀\u001b[38;2;0;0;0;48;2;9;9;9m▀\u001b[38;2;93;93;93;48;2;0;0;0m▀\u001b[38;2;0;0;0;48;2;17;17;17m▀\u001b[38;2;12;12;12;48;2;0;0;0m▀\u001b[38;2;0;0;0;48;2;8;8;8m▀\u001b[38;2;0;0;0;48;2;0;0;0m▀\u001b[38;2;0;0;0;48;2;0;0;0m▀\u001b[38;2;0;0;0;48;2;0;0;0m▀\u001b[38;2;0;0;0;48;2;0;0;0m▀\u001b[38;2;0;0;0;48;2;0;0;0m▀\u001b[38;2;0;0;0;48;2;0;0;0m▀\u001b[38;2;0;0;0;48;2;0;0;0m▀\u001b[38;2;0;0;0;48;2;0;0;0m▀\u001b[38;2;0;0;0;48;2;0;0;0m▀\u001b[38;2;0;0;0;48;2;0;0;0m▀\u001b[38;2;0;0;0;48;2;0;0;0m▀\u001b[38;2;0;0;0;48;2;0;0;0m▀\u001b[38;2;0;0;0;48;2;0;0;0m▀\u001b[0m\n",
       "\u001b[0m\u001b[38;2;0;0;0;48;2;0;0;0m▀\u001b[38;2;0;0;0;48;2;0;0;0m▀\u001b[38;2;0;0;0;48;2;0;0;0m▀\u001b[38;2;0;0;0;48;2;0;0;0m▀\u001b[38;2;0;0;0;48;2;0;0;0m▀\u001b[38;2;0;0;0;48;2;0;0;0m▀\u001b[38;2;0;0;0;48;2;0;0;0m▀\u001b[38;2;0;0;0;48;2;0;0;0m▀\u001b[38;2;0;0;0;48;2;0;0;0m▀\u001b[38;2;0;0;0;48;2;0;0;0m▀\u001b[38;2;0;0;0;48;2;0;0;0m▀\u001b[38;2;0;0;0;48;2;0;0;0m▀\u001b[38;2;0;0;0;48;2;0;0;0m▀\u001b[38;2;0;0;0;48;2;0;0;0m▀\u001b[38;2;0;0;0;48;2;0;0;0m▀\u001b[38;2;0;0;0;48;2;0;0;0m▀\u001b[38;2;0;0;0;48;2;0;0;0m▀\u001b[38;2;0;0;0;48;2;0;0;0m▀\u001b[38;2;0;0;0;48;2;0;0;0m▀\u001b[38;2;0;0;0;48;2;4;4;4m▀\u001b[38;2;0;0;0;48;2;0;0;0m▀\u001b[38;2;0;0;0;48;2;16;16;16m▀\u001b[38;2;0;0;0;48;2;0;0;0m▀\u001b[38;2;2;2;2;48;2;20;20;20m▀\u001b[38;2;0;0;0;48;2;0;0;0m▀\u001b[38;2;0;0;0;48;2;11;11;11m▀\u001b[38;2;0;0;0;48;2;0;0;0m▀\u001b[38;2;0;0;0;48;2;36;36;36m▀\u001b[38;2;0;0;0;48;2;0;0;0m▀\u001b[38;2;0;0;0;48;2;76;76;76m▀\u001b[38;2;3;3;3;48;2;0;0;0m▀\u001b[38;2;0;0;0;48;2;89;89;89m▀\u001b[38;2;14;14;14;48;2;0;0;0m▀\u001b[38;2;0;0;0;48;2;91;91;91m▀\u001b[38;2;9;9;9;48;2;0;0;0m▀\u001b[38;2;0;0;0;48;2;65;65;65m▀\u001b[38;2;22;22;22;48;2;0;0;0m▀\u001b[38;2;0;0;0;48;2;76;76;76m▀\u001b[38;2;43;43;43;48;2;0;0;0m▀\u001b[38;2;0;0;0;48;2;63;63;63m▀\u001b[38;2;91;91;91;48;2;23;23;23m▀\u001b[38;2;0;0;0;48;2;59;59;59m▀\u001b[38;2;0;0;0;48;2;0;0;0m▀\u001b[38;2;0;0;0;48;2;0;0;0m▀\u001b[38;2;0;0;0;48;2;0;0;0m▀\u001b[38;2;0;0;0;48;2;0;0;0m▀\u001b[38;2;0;0;0;48;2;0;0;0m▀\u001b[38;2;0;0;0;48;2;0;0;0m▀\u001b[38;2;0;0;0;48;2;0;0;0m▀\u001b[38;2;0;0;0;48;2;0;0;0m▀\u001b[38;2;0;0;0;48;2;0;0;0m▀\u001b[38;2;0;0;0;48;2;0;0;0m▀\u001b[38;2;0;0;0;48;2;0;0;0m▀\u001b[38;2;0;0;0;48;2;0;0;0m▀\u001b[38;2;0;0;0;48;2;0;0;0m▀\u001b[38;2;0;0;0;48;2;0;0;0m▀\u001b[38;2;0;0;0;48;2;0;0;0m▀\u001b[0m\n",
       "\u001b[0m\u001b[38;2;0;0;0;48;2;0;0;0m▀\u001b[38;2;0;0;0;48;2;0;0;0m▀\u001b[38;2;0;0;0;48;2;0;0;0m▀\u001b[38;2;0;0;0;48;2;0;0;0m▀\u001b[38;2;0;0;0;48;2;0;0;0m▀\u001b[38;2;0;0;0;48;2;0;0;0m▀\u001b[38;2;0;0;0;48;2;0;0;0m▀\u001b[38;2;0;0;0;48;2;0;0;0m▀\u001b[38;2;0;0;0;48;2;0;0;0m▀\u001b[38;2;0;0;0;48;2;0;0;0m▀\u001b[38;2;0;0;0;48;2;0;0;0m▀\u001b[38;2;0;0;0;48;2;0;0;0m▀\u001b[38;2;0;0;0;48;2;0;0;0m▀\u001b[38;2;0;0;0;48;2;0;0;0m▀\u001b[38;2;0;0;0;48;2;0;0;0m▀\u001b[38;2;0;0;0;48;2;4;4;4m▀\u001b[38;2;0;0;0;48;2;0;0;0m▀\u001b[38;2;0;0;0;48;2;8;8;8m▀\u001b[38;2;0;0;0;48;2;0;0;0m▀\u001b[38;2;1;1;1;48;2;24;24;24m▀\u001b[38;2;0;0;0;48;2;0;0;0m▀\u001b[38;2;0;0;0;48;2;16;16;16m▀\u001b[38;2;0;0;0;48;2;0;0;0m▀\u001b[38;2;0;0;0;48;2;24;24;24m▀\u001b[38;2;0;0;0;48;2;0;0;0m▀\u001b[38;2;0;0;0;48;2;71;71;71m▀\u001b[38;2;0;0;0;48;2;0;0;0m▀\u001b[38;2;0;0;0;48;2;88;88;88m▀\u001b[38;2;8;8;8;48;2;0;0;0m▀\u001b[38;2;0;0;0;48;2;81;81;81m▀\u001b[38;2;17;17;17;48;2;0;0;0m▀\u001b[38;2;0;0;0;48;2;72;72;72m▀\u001b[38;2;21;21;21;48;2;0;0;0m▀\u001b[38;2;0;0;0;48;2;85;85;85m▀\u001b[38;2;31;31;31;48;2;0;0;0m▀\u001b[38;2;0;0;0;48;2;95;95;95m▀\u001b[38;2;40;40;40;48;2;0;0;0m▀\u001b[38;2;0;0;0;48;2;52;52;52m▀\u001b[38;2;30;30;30;48;2;0;0;0m▀\u001b[38;2;0;0;0;48;2;0;0;0m▀\u001b[38;2;31;31;31;48;2;0;0;0m▀\u001b[38;2;0;0;0;48;2;22;22;22m▀\u001b[38;2;0;0;0;48;2;0;0;0m▀\u001b[38;2;0;0;0;48;2;0;0;0m▀\u001b[38;2;0;0;0;48;2;0;0;0m▀\u001b[38;2;0;0;0;48;2;0;0;0m▀\u001b[38;2;0;0;0;48;2;0;0;0m▀\u001b[38;2;0;0;0;48;2;0;0;0m▀\u001b[38;2;0;0;0;48;2;0;0;0m▀\u001b[38;2;0;0;0;48;2;0;0;0m▀\u001b[38;2;0;0;0;48;2;0;0;0m▀\u001b[38;2;0;0;0;48;2;0;0;0m▀\u001b[38;2;0;0;0;48;2;0;0;0m▀\u001b[38;2;0;0;0;48;2;0;0;0m▀\u001b[38;2;0;0;0;48;2;0;0;0m▀\u001b[38;2;0;0;0;48;2;0;0;0m▀\u001b[38;2;0;0;0;48;2;0;0;0m▀\u001b[0m\n",
       "\u001b[0m\u001b[38;2;0;0;0;48;2;0;0;0m▀\u001b[38;2;0;0;0;48;2;0;0;0m▀\u001b[38;2;0;0;0;48;2;0;0;0m▀\u001b[38;2;0;0;0;48;2;0;0;0m▀\u001b[38;2;0;0;0;48;2;0;0;0m▀\u001b[38;2;0;0;0;48;2;0;0;0m▀\u001b[38;2;0;0;0;48;2;0;0;0m▀\u001b[38;2;0;0;0;48;2;0;0;0m▀\u001b[38;2;0;0;0;48;2;0;0;0m▀\u001b[38;2;0;0;0;48;2;0;0;0m▀\u001b[38;2;0;0;0;48;2;0;0;0m▀\u001b[38;2;0;0;0;48;2;3;3;3m▀\u001b[38;2;0;0;0;48;2;0;0;0m▀\u001b[38;2;0;0;0;48;2;27;27;27m▀\u001b[38;2;0;0;0;48;2;0;0;0m▀\u001b[38;2;1;1;1;48;2;12;12;12m▀\u001b[38;2;0;0;0;48;2;0;0;0m▀\u001b[38;2;0;0;0;48;2;0;0;0m▀\u001b[38;2;0;0;0;48;2;0;0;0m▀\u001b[38;2;0;0;0;48;2;6;6;6m▀\u001b[38;2;0;0;0;48;2;0;0;0m▀\u001b[38;2;0;0;0;48;2;59;59;59m▀\u001b[38;2;0;0;0;48;2;0;0;0m▀\u001b[38;2;0;0;0;48;2;93;93;93m▀\u001b[38;2;4;4;4;48;2;0;0;0m▀\u001b[38;2;0;0;0;48;2;78;78;78m▀\u001b[38;2;16;16;16;48;2;0;0;0m▀\u001b[38;2;0;0;0;48;2;71;71;71m▀\u001b[38;2;21;21;21;48;2;0;0;0m▀\u001b[38;2;0;0;0;48;2;87;87;87m▀\u001b[38;2;32;32;32;48;2;0;0;0m▀\u001b[38;2;0;0;0;48;2;94;94;94m▀\u001b[38;2;38;38;38;48;2;0;0;0m▀\u001b[38;2;0;0;0;48;2;53;53;53m▀\u001b[38;2;28;28;28;48;2;0;0;0m▀\u001b[38;2;0;0;0;48;2;6;6;6m▀\u001b[38;2;20;20;20;48;2;0;0;0m▀\u001b[38;2;0;0;0;48;2;5;5;5m▀\u001b[38;2;13;13;13;48;2;0;0;0m▀\u001b[38;2;0;0;0;48;2;10;10;10m▀\u001b[38;2;0;0;0;48;2;0;0;0m▀\u001b[38;2;0;0;0;48;2;0;0;0m▀\u001b[38;2;0;0;0;48;2;0;0;0m▀\u001b[38;2;0;0;0;48;2;0;0;0m▀\u001b[38;2;0;0;0;48;2;0;0;0m▀\u001b[38;2;0;0;0;48;2;0;0;0m▀\u001b[38;2;0;0;0;48;2;0;0;0m▀\u001b[38;2;0;0;0;48;2;0;0;0m▀\u001b[38;2;0;0;0;48;2;0;0;0m▀\u001b[38;2;0;0;0;48;2;0;0;0m▀\u001b[38;2;0;0;0;48;2;0;0;0m▀\u001b[38;2;0;0;0;48;2;0;0;0m▀\u001b[38;2;0;0;0;48;2;0;0;0m▀\u001b[38;2;0;0;0;48;2;0;0;0m▀\u001b[38;2;0;0;0;48;2;0;0;0m▀\u001b[38;2;0;0;0;48;2;0;0;0m▀\u001b[38;2;0;0;0;48;2;0;0;0m▀\u001b[0m\n",
       "\u001b[0m\u001b[38;2;0;0;0;48;2;0;0;0m▀\u001b[38;2;0;0;0;48;2;0;0;0m▀\u001b[38;2;0;0;0;48;2;0;0;0m▀\u001b[38;2;0;0;0;48;2;0;0;0m▀\u001b[38;2;0;0;0;48;2;0;0;0m▀\u001b[38;2;0;0;0;48;2;0;0;0m▀\u001b[38;2;0;0;0;48;2;0;0;0m▀\u001b[38;2;0;0;0;48;2;9;9;9m▀\u001b[38;2;0;0;0;48;2;0;0;0m▀\u001b[38;2;0;0;0;48;2;22;22;22m▀\u001b[38;2;0;0;0;48;2;0;0;0m▀\u001b[38;2;1;1;1;48;2;6;6;6m▀\u001b[38;2;0;0;0;48;2;0;0;0m▀\u001b[38;2;5;5;5;48;2;0;0;0m▀\u001b[38;2;0;0;0;48;2;0;0;0m▀\u001b[38;2;0;0;0;48;2;34;34;34m▀\u001b[38;2;5;5;5;48;2;0;0;0m▀\u001b[38;2;0;0;0;48;2;74;74;74m▀\u001b[38;2;9;9;9;48;2;0;0;0m▀\u001b[38;2;0;0;0;48;2;105;105;105m▀\u001b[38;2;0;0;0;48;2;0;0;0m▀\u001b[38;2;0;0;0;48;2;83;83;83m▀\u001b[38;2;14;14;14;48;2;0;0;0m▀\u001b[38;2;0;0;0;48;2;73;73;73m▀\u001b[38;2;21;21;21;48;2;0;0;0m▀\u001b[38;2;0;0;0;48;2;70;70;70m▀\u001b[38;2;33;33;33;48;2;0;0;0m▀\u001b[38;2;0;0;0;48;2;82;82;82m▀\u001b[38;2;37;37;37;48;2;0;0;0m▀\u001b[38;2;0;0;0;48;2;52;52;52m▀\u001b[38;2;27;27;27;48;2;0;0;0m▀\u001b[38;2;0;0;0;48;2;9;9;9m▀\u001b[38;2;21;21;21;48;2;0;0;0m▀\u001b[38;2;0;0;0;48;2;5;5;5m▀\u001b[38;2;14;14;14;48;2;0;0;0m▀\u001b[38;2;0;0;0;48;2;9;9;9m▀\u001b[38;2;0;0;0;48;2;0;0;0m▀\u001b[38;2;0;0;0;48;2;0;0;0m▀\u001b[38;2;0;0;0;48;2;0;0;0m▀\u001b[38;2;0;0;0;48;2;0;0;0m▀\u001b[38;2;0;0;0;48;2;0;0;0m▀\u001b[38;2;0;0;0;48;2;0;0;0m▀\u001b[38;2;0;0;0;48;2;0;0;0m▀\u001b[38;2;0;0;0;48;2;0;0;0m▀\u001b[38;2;0;0;0;48;2;0;0;0m▀\u001b[38;2;0;0;0;48;2;0;0;0m▀\u001b[38;2;0;0;0;48;2;0;0;0m▀\u001b[38;2;0;0;0;48;2;0;0;0m▀\u001b[38;2;0;0;0;48;2;0;0;0m▀\u001b[38;2;0;0;0;48;2;0;0;0m▀\u001b[38;2;0;0;0;48;2;0;0;0m▀\u001b[38;2;0;0;0;48;2;0;0;0m▀\u001b[38;2;0;0;0;48;2;0;0;0m▀\u001b[38;2;0;0;0;48;2;0;0;0m▀\u001b[38;2;0;0;0;48;2;0;0;0m▀\u001b[38;2;0;0;0;48;2;0;0;0m▀\u001b[38;2;0;0;0;48;2;0;0;0m▀\u001b[0m\n",
       "\u001b[0m\u001b[38;2;0;0;0;48;2;0;0;0m▀\u001b[38;2;0;0;0;48;2;0;0;0m▀\u001b[38;2;0;0;0;48;2;0;0;0m▀\u001b[38;2;0;0;0;48;2;0;0;0m▀\u001b[38;2;0;0;0;48;2;0;0;0m▀\u001b[38;2;0;0;0;48;2;0;0;0m▀\u001b[38;2;0;0;0;48;2;0;0;0m▀\u001b[38;2;3;3;3;48;2;27;27;27m▀\u001b[38;2;0;0;0;48;2;0;0;0m▀\u001b[38;2;0;0;0;48;2;52;52;52m▀\u001b[38;2;0;0;0;48;2;0;0;0m▀\u001b[38;2;0;0;0;48;2;60;60;60m▀\u001b[38;2;5;5;5;48;2;0;0;0m▀\u001b[38;2;0;0;0;48;2;92;92;92m▀\u001b[38;2;0;0;0;48;2;0;0;0m▀\u001b[38;2;0;0;0;48;2;73;73;73m▀\u001b[38;2;14;14;14;48;2;0;0;0m▀\u001b[38;2;0;0;0;48;2;81;81;81m▀\u001b[38;2;16;16;16;48;2;0;0;0m▀\u001b[38;2;0;0;0;48;2;96;96;96m▀\u001b[38;2;21;21;21;48;2;0;0;0m▀\u001b[38;2;0;0;0;48;2;96;96;96m▀\u001b[38;2;23;23;23;48;2;0;0;0m▀\u001b[38;2;0;0;0;48;2;100;100;100m▀\u001b[38;2;42;42;42;48;2;0;0;0m▀\u001b[38;2;0;0;0;48;2;75;75;75m▀\u001b[38;2;43;43;43;48;2;0;0;0m▀\u001b[38;2;0;0;0;48;2;20;20;20m▀\u001b[38;2;21;21;21;48;2;0;0;0m▀\u001b[38;2;0;0;0;48;2;7;7;7m▀\u001b[38;2;12;12;12;48;2;0;0;0m▀\u001b[38;2;0;0;0;48;2;7;7;7m▀\u001b[38;2;2;2;2;48;2;0;0;0m▀\u001b[38;2;0;0;0;48;2;1;1;1m▀\u001b[38;2;0;0;0;48;2;0;0;0m▀\u001b[38;2;0;0;0;48;2;0;0;0m▀\u001b[38;2;0;0;0;48;2;0;0;0m▀\u001b[38;2;0;0;0;48;2;0;0;0m▀\u001b[38;2;0;0;0;48;2;0;0;0m▀\u001b[38;2;0;0;0;48;2;0;0;0m▀\u001b[38;2;0;0;0;48;2;0;0;0m▀\u001b[38;2;0;0;0;48;2;0;0;0m▀\u001b[38;2;0;0;0;48;2;0;0;0m▀\u001b[38;2;0;0;0;48;2;0;0;0m▀\u001b[38;2;0;0;0;48;2;0;0;0m▀\u001b[38;2;0;0;0;48;2;0;0;0m▀\u001b[38;2;0;0;0;48;2;0;0;0m▀\u001b[38;2;0;0;0;48;2;0;0;0m▀\u001b[38;2;0;0;0;48;2;0;0;0m▀\u001b[38;2;0;0;0;48;2;0;0;0m▀\u001b[38;2;0;0;0;48;2;0;0;0m▀\u001b[38;2;0;0;0;48;2;0;0;0m▀\u001b[38;2;0;0;0;48;2;0;0;0m▀\u001b[38;2;0;0;0;48;2;0;0;0m▀\u001b[38;2;0;0;0;48;2;0;0;0m▀\u001b[38;2;0;0;0;48;2;0;0;0m▀\u001b[38;2;0;0;0;48;2;0;0;0m▀\u001b[0m\n",
       "\u001b[0m\u001b[38;2;0;0;0;48;2;0;0;0m▀\u001b[38;2;0;0;0;48;2;0;0;0m▀\u001b[38;2;0;0;0;48;2;0;0;0m▀\u001b[38;2;0;0;0;48;2;0;0;0m▀\u001b[38;2;0;0;0;48;2;0;0;0m▀\u001b[38;2;0;0;0;48;2;0;0;0m▀\u001b[38;2;0;0;0;48;2;0;0;0m▀\u001b[38;2;0;0;0;48;2;16;16;16m▀\u001b[38;2;0;0;0;48;2;0;0;0m▀\u001b[38;2;0;0;0;48;2;66;66;66m▀\u001b[38;2;0;0;0;48;2;0;0;0m▀\u001b[38;2;0;0;0;48;2;110;110;110m▀\u001b[38;2;13;13;13;48;2;0;0;0m▀\u001b[38;2;0;0;0;48;2;136;136;136m▀\u001b[38;2;17;17;17;48;2;0;0;0m▀\u001b[38;2;0;0;0;48;2;133;133;133m▀\u001b[38;2;29;29;29;48;2;0;0;0m▀\u001b[38;2;0;0;0;48;2;119;119;119m▀\u001b[38;2;32;32;32;48;2;0;0;0m▀\u001b[38;2;0;0;0;48;2;89;89;89m▀\u001b[38;2;9;9;9;48;2;0;0;0m▀\u001b[38;2;0;0;0;48;2;65;65;65m▀\u001b[38;2;32;32;32;48;2;0;0;0m▀\u001b[38;2;0;0;0;48;2;16;16;16m▀\u001b[38;2;20;20;20;48;2;0;0;0m▀\u001b[38;2;0;0;0;48;2;0;0;0m▀\u001b[38;2;21;21;21;48;2;0;0;0m▀\u001b[38;2;0;0;0;48;2;13;13;13m▀\u001b[38;2;2;2;2;48;2;0;0;0m▀\u001b[38;2;0;0;0;48;2;1;1;1m▀\u001b[38;2;0;0;0;48;2;0;0;0m▀\u001b[38;2;0;0;0;48;2;0;0;0m▀\u001b[38;2;0;0;0;48;2;0;0;0m▀\u001b[38;2;0;0;0;48;2;0;0;0m▀\u001b[38;2;0;0;0;48;2;0;0;0m▀\u001b[38;2;0;0;0;48;2;0;0;0m▀\u001b[38;2;0;0;0;48;2;0;0;0m▀\u001b[38;2;0;0;0;48;2;0;0;0m▀\u001b[38;2;0;0;0;48;2;0;0;0m▀\u001b[38;2;0;0;0;48;2;0;0;0m▀\u001b[38;2;0;0;0;48;2;0;0;0m▀\u001b[38;2;0;0;0;48;2;0;0;0m▀\u001b[38;2;0;0;0;48;2;0;0;0m▀\u001b[38;2;0;0;0;48;2;0;0;0m▀\u001b[38;2;0;0;0;48;2;0;0;0m▀\u001b[38;2;0;0;0;48;2;0;0;0m▀\u001b[38;2;0;0;0;48;2;0;0;0m▀\u001b[38;2;0;0;0;48;2;0;0;0m▀\u001b[38;2;0;0;0;48;2;0;0;0m▀\u001b[38;2;0;0;0;48;2;0;0;0m▀\u001b[38;2;0;0;0;48;2;0;0;0m▀\u001b[38;2;0;0;0;48;2;0;0;0m▀\u001b[38;2;0;0;0;48;2;0;0;0m▀\u001b[38;2;0;0;0;48;2;0;0;0m▀\u001b[38;2;0;0;0;48;2;0;0;0m▀\u001b[38;2;0;0;0;48;2;0;0;0m▀\u001b[38;2;0;0;0;48;2;0;0;0m▀\u001b[0m\n",
       "\u001b[0m\u001b[38;2;0;0;0;48;2;0;0;0m▀\u001b[38;2;0;0;0;48;2;0;0;0m▀\u001b[38;2;0;0;0;48;2;0;0;0m▀\u001b[38;2;0;0;0;48;2;0;0;0m▀\u001b[38;2;0;0;0;48;2;0;0;0m▀\u001b[38;2;0;0;0;48;2;0;0;0m▀\u001b[38;2;0;0;0;48;2;0;0;0m▀\u001b[38;2;0;0;0;48;2;19;19;19m▀\u001b[38;2;0;0;0;48;2;0;0;0m▀\u001b[38;2;0;0;0;48;2;0;0;0m▀\u001b[38;2;0;0;0;48;2;0;0;0m▀\u001b[38;2;0;0;0;48;2;0;0;0m▀\u001b[38;2;0;0;0;48;2;0;0;0m▀\u001b[38;2;0;0;0;48;2;1;1;1m▀\u001b[38;2;0;0;0;48;2;0;0;0m▀\u001b[38;2;0;0;0;48;2;0;0;0m▀\u001b[38;2;1;1;1;48;2;0;0;0m▀\u001b[38;2;0;0;0;48;2;0;0;0m▀\u001b[38;2;10;10;10;48;2;0;0;0m▀\u001b[38;2;0;0;0;48;2;9;9;9m▀\u001b[38;2;0;0;0;48;2;0;0;0m▀\u001b[38;2;0;0;0;48;2;0;0;0m▀\u001b[38;2;20;20;20;48;2;0;0;0m▀\u001b[38;2;0;0;0;48;2;12;12;12m▀\u001b[38;2;3;3;3;48;2;0;0;0m▀\u001b[38;2;0;0;0;48;2;2;2;2m▀\u001b[38;2;0;0;0;48;2;0;0;0m▀\u001b[38;2;0;0;0;48;2;0;0;0m▀\u001b[38;2;0;0;0;48;2;0;0;0m▀\u001b[38;2;0;0;0;48;2;0;0;0m▀\u001b[38;2;0;0;0;48;2;0;0;0m▀\u001b[38;2;0;0;0;48;2;0;0;0m▀\u001b[38;2;0;0;0;48;2;0;0;0m▀\u001b[38;2;0;0;0;48;2;0;0;0m▀\u001b[38;2;0;0;0;48;2;0;0;0m▀\u001b[38;2;0;0;0;48;2;0;0;0m▀\u001b[38;2;0;0;0;48;2;0;0;0m▀\u001b[38;2;0;0;0;48;2;0;0;0m▀\u001b[38;2;0;0;0;48;2;0;0;0m▀\u001b[38;2;0;0;0;48;2;0;0;0m▀\u001b[38;2;0;0;0;48;2;0;0;0m▀\u001b[38;2;0;0;0;48;2;0;0;0m▀\u001b[38;2;0;0;0;48;2;0;0;0m▀\u001b[38;2;0;0;0;48;2;0;0;0m▀\u001b[38;2;0;0;0;48;2;0;0;0m▀\u001b[38;2;0;0;0;48;2;0;0;0m▀\u001b[38;2;0;0;0;48;2;0;0;0m▀\u001b[38;2;0;0;0;48;2;0;0;0m▀\u001b[38;2;0;0;0;48;2;0;0;0m▀\u001b[38;2;0;0;0;48;2;0;0;0m▀\u001b[38;2;0;0;0;48;2;0;0;0m▀\u001b[38;2;0;0;0;48;2;0;0;0m▀\u001b[38;2;0;0;0;48;2;0;0;0m▀\u001b[38;2;0;0;0;48;2;0;0;0m▀\u001b[38;2;0;0;0;48;2;0;0;0m▀\u001b[38;2;0;0;0;48;2;0;0;0m▀\u001b[38;2;0;0;0;48;2;0;0;0m▀\u001b[0m\n",
       "\u001b[0m\u001b[38;2;0;0;0;48;2;0;0;0m▀\u001b[38;2;0;0;0;48;2;0;0;0m▀\u001b[38;2;0;0;0;48;2;0;0;0m▀\u001b[38;2;0;0;0;48;2;0;0;0m▀\u001b[38;2;0;0;0;48;2;0;0;0m▀\u001b[38;2;0;0;0;48;2;0;0;0m▀\u001b[38;2;0;0;0;48;2;0;0;0m▀\u001b[38;2;0;0;0;48;2;0;0;0m▀\u001b[38;2;0;0;0;48;2;0;0;0m▀\u001b[38;2;0;0;0;48;2;0;0;0m▀\u001b[38;2;0;0;0;48;2;0;0;0m▀\u001b[38;2;0;0;0;48;2;0;0;0m▀\u001b[38;2;0;0;0;48;2;0;0;0m▀\u001b[38;2;0;0;0;48;2;0;0;0m▀\u001b[38;2;0;0;0;48;2;0;0;0m▀\u001b[38;2;0;0;0;48;2;0;0;0m▀\u001b[38;2;0;0;0;48;2;0;0;0m▀\u001b[38;2;0;0;0;48;2;0;0;0m▀\u001b[38;2;0;0;0;48;2;0;0;0m▀\u001b[38;2;0;0;0;48;2;0;0;0m▀\u001b[38;2;0;0;0;48;2;0;0;0m▀\u001b[38;2;0;0;0;48;2;0;0;0m▀\u001b[38;2;0;0;0;48;2;0;0;0m▀\u001b[38;2;0;0;0;48;2;0;0;0m▀\u001b[38;2;0;0;0;48;2;0;0;0m▀\u001b[38;2;0;0;0;48;2;0;0;0m▀\u001b[38;2;0;0;0;48;2;0;0;0m▀\u001b[38;2;0;0;0;48;2;0;0;0m▀\u001b[38;2;0;0;0;48;2;0;0;0m▀\u001b[38;2;0;0;0;48;2;0;0;0m▀\u001b[38;2;0;0;0;48;2;0;0;0m▀\u001b[38;2;0;0;0;48;2;0;0;0m▀\u001b[38;2;0;0;0;48;2;0;0;0m▀\u001b[38;2;0;0;0;48;2;0;0;0m▀\u001b[38;2;0;0;0;48;2;0;0;0m▀\u001b[38;2;0;0;0;48;2;0;0;0m▀\u001b[38;2;0;0;0;48;2;0;0;0m▀\u001b[38;2;0;0;0;48;2;0;0;0m▀\u001b[38;2;0;0;0;48;2;0;0;0m▀\u001b[38;2;0;0;0;48;2;0;0;0m▀\u001b[38;2;0;0;0;48;2;0;0;0m▀\u001b[38;2;0;0;0;48;2;0;0;0m▀\u001b[38;2;0;0;0;48;2;0;0;0m▀\u001b[38;2;0;0;0;48;2;0;0;0m▀\u001b[38;2;0;0;0;48;2;0;0;0m▀\u001b[38;2;0;0;0;48;2;0;0;0m▀\u001b[38;2;0;0;0;48;2;0;0;0m▀\u001b[38;2;0;0;0;48;2;0;0;0m▀\u001b[38;2;0;0;0;48;2;0;0;0m▀\u001b[38;2;0;0;0;48;2;0;0;0m▀\u001b[38;2;0;0;0;48;2;0;0;0m▀\u001b[38;2;0;0;0;48;2;0;0;0m▀\u001b[38;2;0;0;0;48;2;0;0;0m▀\u001b[38;2;0;0;0;48;2;0;0;0m▀\u001b[38;2;0;0;0;48;2;0;0;0m▀\u001b[38;2;0;0;0;48;2;0;0;0m▀\u001b[38;2;0;0;0;48;2;0;0;0m▀\u001b[0m\n",
       "\u001b[0m\u001b[38;2;0;0;0;48;2;0;0;0m▀\u001b[38;2;0;0;0;48;2;0;0;0m▀\u001b[38;2;0;0;0;48;2;0;0;0m▀\u001b[38;2;0;0;0;48;2;0;0;0m▀\u001b[38;2;0;0;0;48;2;0;0;0m▀\u001b[38;2;0;0;0;48;2;0;0;0m▀\u001b[38;2;0;0;0;48;2;0;0;0m▀\u001b[38;2;0;0;0;48;2;0;0;0m▀\u001b[38;2;0;0;0;48;2;0;0;0m▀\u001b[38;2;0;0;0;48;2;0;0;0m▀\u001b[38;2;0;0;0;48;2;0;0;0m▀\u001b[38;2;0;0;0;48;2;0;0;0m▀\u001b[38;2;0;0;0;48;2;0;0;0m▀\u001b[38;2;0;0;0;48;2;0;0;0m▀\u001b[38;2;0;0;0;48;2;0;0;0m▀\u001b[38;2;0;0;0;48;2;0;0;0m▀\u001b[38;2;0;0;0;48;2;0;0;0m▀\u001b[38;2;0;0;0;48;2;0;0;0m▀\u001b[38;2;0;0;0;48;2;0;0;0m▀\u001b[38;2;0;0;0;48;2;0;0;0m▀\u001b[38;2;0;0;0;48;2;0;0;0m▀\u001b[38;2;0;0;0;48;2;0;0;0m▀\u001b[38;2;0;0;0;48;2;0;0;0m▀\u001b[38;2;0;0;0;48;2;0;0;0m▀\u001b[38;2;0;0;0;48;2;0;0;0m▀\u001b[38;2;0;0;0;48;2;0;0;0m▀\u001b[38;2;0;0;0;48;2;0;0;0m▀\u001b[38;2;0;0;0;48;2;0;0;0m▀\u001b[38;2;0;0;0;48;2;0;0;0m▀\u001b[38;2;0;0;0;48;2;0;0;0m▀\u001b[38;2;0;0;0;48;2;0;0;0m▀\u001b[38;2;0;0;0;48;2;0;0;0m▀\u001b[38;2;0;0;0;48;2;0;0;0m▀\u001b[38;2;0;0;0;48;2;0;0;0m▀\u001b[38;2;0;0;0;48;2;0;0;0m▀\u001b[38;2;0;0;0;48;2;0;0;0m▀\u001b[38;2;0;0;0;48;2;0;0;0m▀\u001b[38;2;0;0;0;48;2;0;0;0m▀\u001b[38;2;0;0;0;48;2;0;0;0m▀\u001b[38;2;0;0;0;48;2;0;0;0m▀\u001b[38;2;0;0;0;48;2;0;0;0m▀\u001b[38;2;0;0;0;48;2;0;0;0m▀\u001b[38;2;0;0;0;48;2;0;0;0m▀\u001b[38;2;0;0;0;48;2;0;0;0m▀\u001b[38;2;0;0;0;48;2;0;0;0m▀\u001b[38;2;0;0;0;48;2;0;0;0m▀\u001b[38;2;0;0;0;48;2;0;0;0m▀\u001b[38;2;0;0;0;48;2;0;0;0m▀\u001b[38;2;0;0;0;48;2;0;0;0m▀\u001b[38;2;0;0;0;48;2;0;0;0m▀\u001b[38;2;0;0;0;48;2;0;0;0m▀\u001b[38;2;0;0;0;48;2;0;0;0m▀\u001b[38;2;0;0;0;48;2;0;0;0m▀\u001b[38;2;0;0;0;48;2;0;0;0m▀\u001b[38;2;0;0;0;48;2;0;0;0m▀\u001b[38;2;0;0;0;48;2;0;0;0m▀\u001b[38;2;0;0;0;48;2;0;0;0m▀\u001b[0m\n",
       "\u001b[0m\u001b[38;2;0;0;0m▀\u001b[38;2;0;0;0m▀\u001b[38;2;0;0;0m▀\u001b[38;2;0;0;0m▀\u001b[38;2;0;0;0m▀\u001b[38;2;0;0;0m▀\u001b[38;2;0;0;0m▀\u001b[38;2;0;0;0m▀\u001b[38;2;0;0;0m▀\u001b[38;2;0;0;0m▀\u001b[38;2;0;0;0m▀\u001b[38;2;0;0;0m▀\u001b[38;2;0;0;0m▀\u001b[38;2;0;0;0m▀\u001b[38;2;0;0;0m▀\u001b[38;2;0;0;0m▀\u001b[38;2;0;0;0m▀\u001b[38;2;0;0;0m▀\u001b[38;2;0;0;0m▀\u001b[38;2;0;0;0m▀\u001b[38;2;0;0;0m▀\u001b[38;2;0;0;0m▀\u001b[38;2;0;0;0m▀\u001b[38;2;0;0;0m▀\u001b[38;2;0;0;0m▀\u001b[38;2;0;0;0m▀\u001b[38;2;0;0;0m▀\u001b[38;2;0;0;0m▀\u001b[38;2;0;0;0m▀\u001b[38;2;0;0;0m▀\u001b[38;2;0;0;0m▀\u001b[38;2;0;0;0m▀\u001b[38;2;0;0;0m▀\u001b[38;2;0;0;0m▀\u001b[38;2;0;0;0m▀\u001b[38;2;0;0;0m▀\u001b[38;2;0;0;0m▀\u001b[38;2;0;0;0m▀\u001b[38;2;0;0;0m▀\u001b[38;2;0;0;0m▀\u001b[38;2;0;0;0m▀\u001b[38;2;0;0;0m▀\u001b[38;2;0;0;0m▀\u001b[38;2;0;0;0m▀\u001b[38;2;0;0;0m▀\u001b[38;2;0;0;0m▀\u001b[38;2;0;0;0m▀\u001b[38;2;0;0;0m▀\u001b[38;2;0;0;0m▀\u001b[38;2;0;0;0m▀\u001b[38;2;0;0;0m▀\u001b[38;2;0;0;0m▀\u001b[38;2;0;0;0m▀\u001b[38;2;0;0;0m▀\u001b[38;2;0;0;0m▀\u001b[38;2;0;0;0m▀\u001b[38;2;0;0;0m▀\u001b[0m"
      ]
     },
     "execution_count": 73,
     "metadata": {},
     "output_type": "execute_result"
    }
   ],
   "source": [
    "cnn_output = cnn_layer( images[:,:,:,1:3] )\n",
    "display( cnn_output |> size )\n",
    "convert2image( MNIST , cnn_output[:,:,1,1] )"
   ]
  },
  {
   "cell_type": "code",
   "execution_count": 74,
   "metadata": {},
   "outputs": [
    {
     "data": {
      "text/plain": [
       "(20, 20, 1, 10)"
      ]
     },
     "execution_count": 74,
     "metadata": {},
     "output_type": "execute_result"
    }
   ],
   "source": [
    "x = rand(Float32, 10, 10, 1, 10); \n",
    "cnn_layer = ConvTranspose( (5,5) , 1 => 1 , pad=SamePad() , stride=2 )\n",
    "cnn_layer( x ) |> size"
   ]
  },
  {
   "cell_type": "code",
   "execution_count": 75,
   "metadata": {},
   "outputs": [
    {
     "data": {
      "text/plain": [
       "(56, 56, 1, 3)"
      ]
     },
     "metadata": {},
     "output_type": "display_data"
    },
    {
     "data": {
      "image/png": "[encoded data removed]",
      "text/html": [
       "<img src=\"data:image/png;base64,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\">"
      ],
      "text/plain": [
       "\u001b[0m\u001b[38;2;0;0;0;48;2;0;0;0m▀\u001b[38;2;0;0;0;48;2;0;0;0m▀\u001b[38;2;0;0;0;48;2;0;0;0m▀\u001b[38;2;0;0;0;48;2;0;0;0m▀\u001b[38;2;0;0;0;48;2;0;0;0m▀\u001b[38;2;0;0;0;48;2;0;0;0m▀\u001b[38;2;0;0;0;48;2;0;0;0m▀\u001b[38;2;0;0;0;48;2;0;0;0m▀\u001b[38;2;0;0;0;48;2;0;0;0m▀\u001b[38;2;0;0;0;48;2;0;0;0m▀\u001b[38;2;0;0;0;48;2;0;0;0m▀\u001b[38;2;0;0;0;48;2;0;0;0m▀\u001b[38;2;0;0;0;48;2;0;0;0m▀\u001b[38;2;0;0;0;48;2;0;0;0m▀\u001b[38;2;0;0;0;48;2;0;0;0m▀\u001b[38;2;0;0;0;48;2;0;0;0m▀\u001b[38;2;0;0;0;48;2;0;0;0m▀\u001b[38;2;0;0;0;48;2;0;0;0m▀\u001b[38;2;0;0;0;48;2;0;0;0m▀\u001b[38;2;0;0;0;48;2;0;0;0m▀\u001b[38;2;0;0;0;48;2;0;0;0m▀\u001b[38;2;0;0;0;48;2;0;0;0m▀\u001b[38;2;0;0;0;48;2;0;0;0m▀\u001b[38;2;0;0;0;48;2;0;0;0m▀\u001b[38;2;0;0;0;48;2;0;0;0m▀\u001b[38;2;0;0;0;48;2;0;0;0m▀\u001b[38;2;0;0;0;48;2;0;0;0m▀\u001b[38;2;0;0;0;48;2;0;0;0m▀\u001b[38;2;0;0;0;48;2;0;0;0m▀\u001b[38;2;0;0;0;48;2;0;0;0m▀\u001b[38;2;0;0;0;48;2;0;0;0m▀\u001b[38;2;0;0;0;48;2;0;0;0m▀\u001b[38;2;0;0;0;48;2;0;0;0m▀\u001b[38;2;0;0;0;48;2;0;0;0m▀\u001b[38;2;0;0;0;48;2;0;0;0m▀\u001b[38;2;0;0;0;48;2;0;0;0m▀\u001b[38;2;0;0;0;48;2;0;0;0m▀\u001b[38;2;0;0;0;48;2;0;0;0m▀\u001b[38;2;0;0;0;48;2;0;0;0m▀\u001b[38;2;0;0;0;48;2;0;0;0m▀\u001b[38;2;0;0;0;48;2;0;0;0m▀\u001b[38;2;0;0;0;48;2;0;0;0m▀\u001b[38;2;0;0;0;48;2;0;0;0m▀\u001b[38;2;0;0;0;48;2;0;0;0m▀\u001b[38;2;0;0;0;48;2;0;0;0m▀\u001b[38;2;0;0;0;48;2;0;0;0m▀\u001b[38;2;0;0;0;48;2;0;0;0m▀\u001b[38;2;0;0;0;48;2;0;0;0m▀\u001b[38;2;0;0;0;48;2;0;0;0m▀\u001b[38;2;0;0;0;48;2;0;0;0m▀\u001b[38;2;0;0;0;48;2;0;0;0m▀\u001b[38;2;0;0;0;48;2;0;0;0m▀\u001b[38;2;0;0;0;48;2;0;0;0m▀\u001b[38;2;0;0;0;48;2;0;0;0m▀\u001b[38;2;0;0;0;48;2;0;0;0m▀\u001b[38;2;0;0;0;48;2;0;0;0m▀\u001b[0m\n",
       "\u001b[0m\u001b[38;2;0;0;0;48;2;0;0;0m▀\u001b[38;2;0;0;0;48;2;0;0;0m▀\u001b[38;2;0;0;0;48;2;0;0;0m▀\u001b[38;2;0;0;0;48;2;0;0;0m▀\u001b[38;2;0;0;0;48;2;0;0;0m▀\u001b[38;2;0;0;0;48;2;0;0;0m▀\u001b[38;2;0;0;0;48;2;0;0;0m▀\u001b[38;2;0;0;0;48;2;0;0;0m▀\u001b[38;2;0;0;0;48;2;0;0;0m▀\u001b[38;2;0;0;0;48;2;0;0;0m▀\u001b[38;2;0;0;0;48;2;0;0;0m▀\u001b[38;2;0;0;0;48;2;0;0;0m▀\u001b[38;2;0;0;0;48;2;0;0;0m▀\u001b[38;2;0;0;0;48;2;0;0;0m▀\u001b[38;2;0;0;0;48;2;0;0;0m▀\u001b[38;2;0;0;0;48;2;0;0;0m▀\u001b[38;2;0;0;0;48;2;0;0;0m▀\u001b[38;2;0;0;0;48;2;0;0;0m▀\u001b[38;2;0;0;0;48;2;0;0;0m▀\u001b[38;2;0;0;0;48;2;0;0;0m▀\u001b[38;2;0;0;0;48;2;0;0;0m▀\u001b[38;2;0;0;0;48;2;0;0;0m▀\u001b[38;2;0;0;0;48;2;0;0;0m▀\u001b[38;2;0;0;0;48;2;0;0;0m▀\u001b[38;2;0;0;0;48;2;0;0;0m▀\u001b[38;2;0;0;0;48;2;0;0;0m▀\u001b[38;2;0;0;0;48;2;0;0;0m▀\u001b[38;2;0;0;0;48;2;0;0;0m▀\u001b[38;2;0;0;0;48;2;0;0;0m▀\u001b[38;2;0;0;0;48;2;0;0;0m▀\u001b[38;2;0;0;0;48;2;0;0;0m▀\u001b[38;2;0;0;0;48;2;0;0;0m▀\u001b[38;2;0;0;0;48;2;0;0;0m▀\u001b[38;2;0;0;0;48;2;0;0;0m▀\u001b[38;2;0;0;0;48;2;0;0;0m▀\u001b[38;2;0;0;0;48;2;0;0;0m▀\u001b[38;2;0;0;0;48;2;0;0;0m▀\u001b[38;2;0;0;0;48;2;0;0;0m▀\u001b[38;2;0;0;0;48;2;0;0;0m▀\u001b[38;2;0;0;0;48;2;0;0;0m▀\u001b[38;2;0;0;0;48;2;0;0;0m▀\u001b[38;2;0;0;0;48;2;0;0;0m▀\u001b[38;2;0;0;0;48;2;0;0;0m▀\u001b[38;2;0;0;0;48;2;0;0;0m▀\u001b[38;2;0;0;0;48;2;0;0;0m▀\u001b[38;2;0;0;0;48;2;0;0;0m▀\u001b[38;2;0;0;0;48;2;0;0;0m▀\u001b[38;2;0;0;0;48;2;0;0;0m▀\u001b[38;2;0;0;0;48;2;0;0;0m▀\u001b[38;2;0;0;0;48;2;0;0;0m▀\u001b[38;2;0;0;0;48;2;0;0;0m▀\u001b[38;2;0;0;0;48;2;0;0;0m▀\u001b[38;2;0;0;0;48;2;0;0;0m▀\u001b[38;2;0;0;0;48;2;0;0;0m▀\u001b[38;2;0;0;0;48;2;0;0;0m▀\u001b[38;2;0;0;0;48;2;0;0;0m▀\u001b[0m\n",
       "\u001b[0m\u001b[38;2;0;0;0;48;2;0;0;0m▀\u001b[38;2;0;0;0;48;2;0;0;0m▀\u001b[38;2;0;0;0;48;2;0;0;0m▀\u001b[38;2;0;0;0;48;2;0;0;0m▀\u001b[38;2;0;0;0;48;2;0;0;0m▀\u001b[38;2;0;0;0;48;2;0;0;0m▀\u001b[38;2;0;0;0;48;2;0;0;0m▀\u001b[38;2;0;0;0;48;2;0;0;0m▀\u001b[38;2;0;0;0;48;2;0;0;0m▀\u001b[38;2;0;0;0;48;2;0;0;0m▀\u001b[38;2;0;0;0;48;2;0;0;0m▀\u001b[38;2;0;0;0;48;2;0;0;0m▀\u001b[38;2;0;0;0;48;2;0;0;0m▀\u001b[38;2;0;0;0;48;2;0;0;0m▀\u001b[38;2;0;0;0;48;2;0;0;0m▀\u001b[38;2;0;0;0;48;2;0;0;0m▀\u001b[38;2;0;0;0;48;2;0;0;0m▀\u001b[38;2;0;0;0;48;2;0;0;0m▀\u001b[38;2;0;0;0;48;2;0;0;0m▀\u001b[38;2;0;0;0;48;2;0;0;0m▀\u001b[38;2;0;0;0;48;2;0;0;0m▀\u001b[38;2;0;0;0;48;2;0;0;0m▀\u001b[38;2;0;0;0;48;2;0;0;0m▀\u001b[38;2;0;0;0;48;2;0;0;0m▀\u001b[38;2;0;0;0;48;2;0;0;0m▀\u001b[38;2;0;0;0;48;2;0;0;0m▀\u001b[38;2;0;0;0;48;2;0;0;0m▀\u001b[38;2;0;0;0;48;2;0;0;0m▀\u001b[38;2;0;0;0;48;2;0;0;0m▀\u001b[38;2;0;0;0;48;2;0;0;0m▀\u001b[38;2;0;0;0;48;2;0;0;0m▀\u001b[38;2;0;0;0;48;2;0;0;0m▀\u001b[38;2;0;0;0;48;2;0;0;0m▀\u001b[38;2;0;0;0;48;2;0;0;0m▀\u001b[38;2;0;0;0;48;2;0;0;0m▀\u001b[38;2;0;0;0;48;2;0;0;0m▀\u001b[38;2;0;0;0;48;2;0;0;0m▀\u001b[38;2;0;0;0;48;2;0;0;0m▀\u001b[38;2;0;0;0;48;2;0;0;0m▀\u001b[38;2;0;0;0;48;2;0;0;0m▀\u001b[38;2;0;0;0;48;2;0;0;0m▀\u001b[38;2;0;0;0;48;2;0;0;0m▀\u001b[38;2;0;0;0;48;2;0;0;0m▀\u001b[38;2;0;0;0;48;2;0;0;0m▀\u001b[38;2;0;0;0;48;2;0;0;0m▀\u001b[38;2;0;0;0;48;2;0;0;0m▀\u001b[38;2;0;0;0;48;2;0;0;0m▀\u001b[38;2;0;0;0;48;2;0;0;0m▀\u001b[38;2;0;0;0;48;2;0;0;0m▀\u001b[38;2;0;0;0;48;2;0;0;0m▀\u001b[38;2;0;0;0;48;2;0;0;0m▀\u001b[38;2;0;0;0;48;2;0;0;0m▀\u001b[38;2;0;0;0;48;2;0;0;0m▀\u001b[38;2;0;0;0;48;2;0;0;0m▀\u001b[38;2;0;0;0;48;2;0;0;0m▀\u001b[38;2;0;0;0;48;2;0;0;0m▀\u001b[0m\n",
       "\u001b[0m\u001b[38;2;0;0;0;48;2;0;0;0m▀\u001b[38;2;0;0;0;48;2;0;0;0m▀\u001b[38;2;0;0;0;48;2;0;0;0m▀\u001b[38;2;0;0;0;48;2;0;0;0m▀\u001b[38;2;0;0;0;48;2;0;0;0m▀\u001b[38;2;0;0;0;48;2;0;0;0m▀\u001b[38;2;0;0;0;48;2;0;0;0m▀\u001b[38;2;0;0;0;48;2;0;0;0m▀\u001b[38;2;0;0;0;48;2;0;0;0m▀\u001b[38;2;0;0;0;48;2;0;0;0m▀\u001b[38;2;0;0;0;48;2;0;0;0m▀\u001b[38;2;0;0;0;48;2;0;0;0m▀\u001b[38;2;0;0;0;48;2;0;0;0m▀\u001b[38;2;0;0;0;48;2;0;0;0m▀\u001b[38;2;0;0;0;48;2;0;0;0m▀\u001b[38;2;0;0;0;48;2;0;0;0m▀\u001b[38;2;0;0;0;48;2;0;0;0m▀\u001b[38;2;0;0;0;48;2;0;0;0m▀\u001b[38;2;0;0;0;48;2;0;0;0m▀\u001b[38;2;0;0;0;48;2;0;0;0m▀\u001b[38;2;0;0;0;48;2;0;0;0m▀\u001b[38;2;0;0;0;48;2;0;0;0m▀\u001b[38;2;0;0;0;48;2;0;0;0m▀\u001b[38;2;0;0;0;48;2;0;0;0m▀\u001b[38;2;0;0;0;48;2;0;0;0m▀\u001b[38;2;0;0;0;48;2;0;0;0m▀\u001b[38;2;0;0;0;48;2;0;0;0m▀\u001b[38;2;0;0;0;48;2;0;0;0m▀\u001b[38;2;0;0;0;48;2;0;0;0m▀\u001b[38;2;0;0;0;48;2;0;0;0m▀\u001b[38;2;0;0;0;48;2;0;0;0m▀\u001b[38;2;0;0;0;48;2;0;0;0m▀\u001b[38;2;0;0;0;48;2;0;0;0m▀\u001b[38;2;0;0;0;48;2;0;0;0m▀\u001b[38;2;0;0;0;48;2;0;0;0m▀\u001b[38;2;0;0;0;48;2;0;0;0m▀\u001b[38;2;0;0;0;48;2;0;0;0m▀\u001b[38;2;0;0;0;48;2;0;0;0m▀\u001b[38;2;0;0;0;48;2;0;0;0m▀\u001b[38;2;0;0;0;48;2;0;0;0m▀\u001b[38;2;0;0;0;48;2;0;0;0m▀\u001b[38;2;0;0;0;48;2;0;0;0m▀\u001b[38;2;0;0;0;48;2;0;0;0m▀\u001b[38;2;0;0;0;48;2;0;0;0m▀\u001b[38;2;0;0;0;48;2;0;0;0m▀\u001b[38;2;0;0;0;48;2;0;0;0m▀\u001b[38;2;0;0;0;48;2;0;0;0m▀\u001b[38;2;0;0;0;48;2;0;0;0m▀\u001b[38;2;0;0;0;48;2;0;0;0m▀\u001b[38;2;0;0;0;48;2;0;0;0m▀\u001b[38;2;0;0;0;48;2;0;0;0m▀\u001b[38;2;0;0;0;48;2;0;0;0m▀\u001b[38;2;0;0;0;48;2;0;0;0m▀\u001b[38;2;0;0;0;48;2;0;0;0m▀\u001b[38;2;0;0;0;48;2;0;0;0m▀\u001b[38;2;0;0;0;48;2;0;0;0m▀\u001b[0m\n",
       "\u001b[0m\u001b[38;2;0;0;0;48;2;0;0;0m▀\u001b[38;2;0;0;0;48;2;0;0;0m▀\u001b[38;2;0;0;0;48;2;0;0;0m▀\u001b[38;2;0;0;0;48;2;0;0;0m▀\u001b[38;2;0;0;0;48;2;0;0;0m▀\u001b[38;2;0;0;0;48;2;0;0;0m▀\u001b[38;2;0;0;0;48;2;0;0;0m▀\u001b[38;2;0;0;0;48;2;0;0;0m▀\u001b[38;2;0;0;0;48;2;0;0;0m▀\u001b[38;2;0;0;0;48;2;0;0;0m▀\u001b[38;2;0;0;0;48;2;0;0;0m▀\u001b[38;2;0;0;0;48;2;0;0;0m▀\u001b[38;2;0;0;0;48;2;0;0;0m▀\u001b[38;2;0;0;0;48;2;0;0;0m▀\u001b[38;2;0;0;0;48;2;0;0;0m▀\u001b[38;2;0;0;0;48;2;0;0;0m▀\u001b[38;2;0;0;0;48;2;0;0;0m▀\u001b[38;2;0;0;0;48;2;0;0;0m▀\u001b[38;2;0;0;0;48;2;0;0;0m▀\u001b[38;2;0;0;0;48;2;0;0;0m▀\u001b[38;2;0;0;0;48;2;0;0;0m▀\u001b[38;2;0;0;0;48;2;0;0;0m▀\u001b[38;2;0;0;0;48;2;0;0;0m▀\u001b[38;2;0;0;0;48;2;0;0;0m▀\u001b[38;2;0;0;0;48;2;0;0;0m▀\u001b[38;2;0;0;0;48;2;0;0;0m▀\u001b[38;2;0;0;0;48;2;0;0;0m▀\u001b[38;2;0;0;0;48;2;2;2;2m▀\u001b[38;2;0;0;0;48;2;0;0;0m▀\u001b[38;2;0;0;0;48;2;2;2;2m▀\u001b[38;2;0;0;0;48;2;0;0;0m▀\u001b[38;2;0;0;0;48;2;0;0;0m▀\u001b[38;2;0;0;0;48;2;0;0;0m▀\u001b[38;2;0;0;0;48;2;15;15;15m▀\u001b[38;2;0;0;0;48;2;0;0;0m▀\u001b[38;2;0;0;0;48;2;13;13;13m▀\u001b[38;2;1;1;1;48;2;0;0;0m▀\u001b[38;2;0;0;0;48;2;36;36;36m▀\u001b[38;2;0;0;0;48;2;0;0;0m▀\u001b[38;2;0;0;0;48;2;0;0;0m▀\u001b[38;2;0;0;0;48;2;0;0;0m▀\u001b[38;2;0;0;0;48;2;12;12;12m▀\u001b[38;2;0;0;0;48;2;0;0;0m▀\u001b[38;2;0;0;0;48;2;33;33;33m▀\u001b[38;2;0;0;0;48;2;0;0;0m▀\u001b[38;2;0;0;0;48;2;42;42;42m▀\u001b[38;2;0;0;0;48;2;0;0;0m▀\u001b[38;2;0;0;0;48;2;28;28;28m▀\u001b[38;2;0;0;0;48;2;0;0;0m▀\u001b[38;2;0;0;0;48;2;0;0;0m▀\u001b[38;2;0;0;0;48;2;0;0;0m▀\u001b[38;2;0;0;0;48;2;0;0;0m▀\u001b[38;2;0;0;0;48;2;0;0;0m▀\u001b[38;2;0;0;0;48;2;0;0;0m▀\u001b[38;2;0;0;0;48;2;0;0;0m▀\u001b[38;2;0;0;0;48;2;0;0;0m▀\u001b[0m\n",
       "\u001b[0m\u001b[38;2;0;0;0;48;2;0;0;0m▀\u001b[38;2;0;0;0;48;2;0;0;0m▀\u001b[38;2;0;0;0;48;2;0;0;0m▀\u001b[38;2;0;0;0;48;2;0;0;0m▀\u001b[38;2;0;0;0;48;2;0;0;0m▀\u001b[38;2;0;0;0;48;2;0;0;0m▀\u001b[38;2;0;0;0;48;2;0;0;0m▀\u001b[38;2;0;0;0;48;2;0;0;0m▀\u001b[38;2;0;0;0;48;2;0;0;0m▀\u001b[38;2;0;0;0;48;2;0;0;0m▀\u001b[38;2;0;0;0;48;2;0;0;0m▀\u001b[38;2;0;0;0;48;2;0;0;0m▀\u001b[38;2;0;0;0;48;2;0;0;0m▀\u001b[38;2;0;0;0;48;2;0;0;0m▀\u001b[38;2;0;0;0;48;2;0;0;0m▀\u001b[38;2;1;1;1;48;2;0;0;0m▀\u001b[38;2;0;0;0;48;2;0;0;0m▀\u001b[38;2;0;0;0;48;2;3;3;3m▀\u001b[38;2;0;0;0;48;2;0;0;0m▀\u001b[38;2;0;0;0;48;2;0;0;0m▀\u001b[38;2;0;0;0;48;2;0;0;0m▀\u001b[38;2;0;0;0;48;2;6;6;6m▀\u001b[38;2;0;0;0;48;2;0;0;0m▀\u001b[38;2;0;0;0;48;2;18;18;18m▀\u001b[38;2;0;0;0;48;2;0;0;0m▀\u001b[38;2;0;0;0;48;2;13;13;13m▀\u001b[38;2;0;0;0;48;2;0;0;0m▀\u001b[38;2;0;0;0;48;2;33;33;33m▀\u001b[38;2;0;0;0;48;2;0;0;0m▀\u001b[38;2;0;0;0;48;2;33;33;33m▀\u001b[38;2;0;0;0;48;2;0;0;0m▀\u001b[38;2;0;0;0;48;2;29;29;29m▀\u001b[38;2;0;0;0;48;2;0;0;0m▀\u001b[38;2;0;0;0;48;2;39;39;39m▀\u001b[38;2;0;0;0;48;2;0;0;0m▀\u001b[38;2;0;0;0;48;2;42;42;42m▀\u001b[38;2;0;0;0;48;2;0;0;0m▀\u001b[38;2;0;0;0;48;2;49;49;49m▀\u001b[38;2;1;1;1;48;2;0;0;0m▀\u001b[38;2;0;0;0;48;2;11;11;11m▀\u001b[38;2;0;0;0;48;2;0;0;0m▀\u001b[38;2;0;0;0;48;2;40;40;40m▀\u001b[38;2;0;0;0;48;2;0;0;0m▀\u001b[38;2;0;0;0;48;2;51;51;51m▀\u001b[38;2;44;44;44;48;2;0;0;0m▀\u001b[38;2;0;0;0;48;2;57;57;57m▀\u001b[38;2;51;51;51;48;2;10;10;10m▀\u001b[38;2;0;0;0;48;2;27;27;27m▀\u001b[38;2;31;31;31;48;2;25;25;25m▀\u001b[38;2;0;0;0;48;2;0;0;0m▀\u001b[38;2;0;0;0;48;2;0;0;0m▀\u001b[38;2;0;0;0;48;2;0;0;0m▀\u001b[38;2;0;0;0;48;2;0;0;0m▀\u001b[38;2;0;0;0;48;2;0;0;0m▀\u001b[38;2;0;0;0;48;2;0;0;0m▀\u001b[38;2;0;0;0;48;2;0;0;0m▀\u001b[0m\n",
       "\u001b[0m\u001b[38;2;0;0;0;48;2;0;0;0m▀\u001b[38;2;0;0;0;48;2;0;0;0m▀\u001b[38;2;0;0;0;48;2;0;0;0m▀\u001b[38;2;0;0;0;48;2;0;0;0m▀\u001b[38;2;0;0;0;48;2;0;0;0m▀\u001b[38;2;0;0;0;48;2;0;0;0m▀\u001b[38;2;0;0;0;48;2;0;0;0m▀\u001b[38;2;0;0;0;48;2;0;0;0m▀\u001b[38;2;0;0;0;48;2;0;0;0m▀\u001b[38;2;0;0;0;48;2;0;0;0m▀\u001b[38;2;0;0;0;48;2;0;0;0m▀\u001b[38;2;0;0;0;48;2;0;0;0m▀\u001b[38;2;0;0;0;48;2;0;0;0m▀\u001b[38;2;1;1;1;48;2;0;0;0m▀\u001b[38;2;0;0;0;48;2;0;0;0m▀\u001b[38;2;0;0;0;48;2;0;0;0m▀\u001b[38;2;0;0;0;48;2;0;0;0m▀\u001b[38;2;0;0;0;48;2;30;30;30m▀\u001b[38;2;0;0;0;48;2;0;0;0m▀\u001b[38;2;0;0;0;48;2;32;32;32m▀\u001b[38;2;0;0;0;48;2;0;0;0m▀\u001b[38;2;0;0;0;48;2;36;36;36m▀\u001b[38;2;0;0;0;48;2;0;0;0m▀\u001b[38;2;0;0;0;48;2;41;41;41m▀\u001b[38;2;0;0;0;48;2;0;0;0m▀\u001b[38;2;0;0;0;48;2;40;40;40m▀\u001b[38;2;0;0;0;48;2;0;0;0m▀\u001b[38;2;0;0;0;48;2;48;48;48m▀\u001b[38;2;19;19;19;48;2;0;0;0m▀\u001b[38;2;0;0;0;48;2;48;48;48m▀\u001b[38;2;44;44;44;48;2;0;0;0m▀\u001b[38;2;0;0;0;48;2;48;48;48m▀\u001b[38;2;59;59;59;48;2;0;0;0m▀\u001b[38;2;0;0;0;48;2;48;48;48m▀\u001b[38;2;78;78;78;48;2;0;0;0m▀\u001b[38;2;0;0;0;48;2;64;64;64m▀\u001b[38;2;30;30;30;48;2;0;0;0m▀\u001b[38;2;0;0;0;48;2;29;29;29m▀\u001b[38;2;53;53;53;48;2;0;0;0m▀\u001b[38;2;0;0;0;48;2;18;18;18m▀\u001b[38;2;96;96;96;48;2;0;0;0m▀\u001b[38;2;0;0;0;48;2;29;29;29m▀\u001b[38;2;109;109;109;48;2;0;0;0m▀\u001b[38;2;0;0;0;48;2;25;25;25m▀\u001b[38;2;76;76;76;48;2;0;0;0m▀\u001b[38;2;0;0;0;48;2;25;25;25m▀\u001b[38;2;27;27;27;48;2;35;35;35m▀\u001b[38;2;0;0;0;48;2;6;6;6m▀\u001b[38;2;1;1;1;48;2;17;17;17m▀\u001b[38;2;0;0;0;48;2;0;0;0m▀\u001b[38;2;0;0;0;48;2;0;0;0m▀\u001b[38;2;0;0;0;48;2;0;0;0m▀\u001b[38;2;0;0;0;48;2;0;0;0m▀\u001b[38;2;0;0;0;48;2;0;0;0m▀\u001b[38;2;0;0;0;48;2;0;0;0m▀\u001b[38;2;0;0;0;48;2;0;0;0m▀\u001b[0m\n",
       "\u001b[0m\u001b[38;2;0;0;0;48;2;0;0;0m▀\u001b[38;2;0;0;0;48;2;0;0;0m▀\u001b[38;2;0;0;0;48;2;0;0;0m▀\u001b[38;2;0;0;0;48;2;0;0;0m▀\u001b[38;2;0;0;0;48;2;0;0;0m▀\u001b[38;2;0;0;0;48;2;0;0;0m▀\u001b[38;2;0;0;0;48;2;0;0;0m▀\u001b[38;2;0;0;0;48;2;0;0;0m▀\u001b[38;2;0;0;0;48;2;0;0;0m▀\u001b[38;2;0;0;0;48;2;0;0;0m▀\u001b[38;2;0;0;0;48;2;0;0;0m▀\u001b[38;2;0;0;0;48;2;0;0;0m▀\u001b[38;2;0;0;0;48;2;0;0;0m▀\u001b[38;2;16;16;16;48;2;0;0;0m▀\u001b[38;2;0;0;0;48;2;0;0;0m▀\u001b[38;2;60;60;60;48;2;0;0;0m▀\u001b[38;2;0;0;0;48;2;0;0;0m▀\u001b[38;2;0;0;0;48;2;39;39;39m▀\u001b[38;2;37;37;37;48;2;0;0;0m▀\u001b[38;2;0;0;0;48;2;48;48;48m▀\u001b[38;2;56;56;56;48;2;0;0;0m▀\u001b[38;2;0;0;0;48;2;48;48;48m▀\u001b[38;2;58;58;58;48;2;0;0;0m▀\u001b[38;2;0;0;0;48;2;48;48;48m▀\u001b[38;2;70;70;70;48;2;0;0;0m▀\u001b[38;2;0;0;0;48;2;48;48;48m▀\u001b[38;2;85;85;85;48;2;0;0;0m▀\u001b[38;2;0;0;0;48;2;53;53;53m▀\u001b[38;2;68;68;68;48;2;0;0;0m▀\u001b[38;2;0;0;0;48;2;42;42;42m▀\u001b[38;2;62;62;62;48;2;0;0;0m▀\u001b[38;2;0;0;0;48;2;32;32;32m▀\u001b[38;2;74;74;74;48;2;0;0;0m▀\u001b[38;2;0;0;0;48;2;47;47;47m▀\u001b[38;2;102;102;102;48;2;0;0;0m▀\u001b[38;2;0;0;0;48;2;75;75;75m▀\u001b[38;2;64;64;64;48;2;0;0;0m▀\u001b[38;2;0;0;0;48;2;6;6;6m▀\u001b[38;2;65;65;65;48;2;0;0;0m▀\u001b[38;2;0;0;0;48;2;5;5;5m▀\u001b[38;2;77;77;77;48;2;0;0;0m▀\u001b[38;2;0;0;0;48;2;6;6;6m▀\u001b[38;2;54;54;54;48;2;1;1;1m▀\u001b[38;2;0;0;0;48;2;4;4;4m▀\u001b[38;2;14;14;14;48;2;8;8;8m▀\u001b[38;2;0;0;0;48;2;4;4;4m▀\u001b[38;2;0;0;0;48;2;11;11;11m▀\u001b[38;2;0;0;0;48;2;0;0;0m▀\u001b[38;2;0;0;0;48;2;0;0;0m▀\u001b[38;2;0;0;0;48;2;0;0;0m▀\u001b[38;2;0;0;0;48;2;0;0;0m▀\u001b[38;2;0;0;0;48;2;0;0;0m▀\u001b[38;2;0;0;0;48;2;0;0;0m▀\u001b[38;2;0;0;0;48;2;0;0;0m▀\u001b[38;2;0;0;0;48;2;0;0;0m▀\u001b[38;2;0;0;0;48;2;0;0;0m▀\u001b[0m\n",
       "\u001b[0m\u001b[38;2;0;0;0;48;2;0;0;0m▀\u001b[38;2;0;0;0;48;2;0;0;0m▀\u001b[38;2;0;0;0;48;2;0;0;0m▀\u001b[38;2;0;0;0;48;2;0;0;0m▀\u001b[38;2;0;0;0;48;2;0;0;0m▀\u001b[38;2;0;0;0;48;2;0;0;0m▀\u001b[38;2;0;0;0;48;2;0;0;0m▀\u001b[38;2;0;0;0;48;2;0;0;0m▀\u001b[38;2;0;0;0;48;2;0;0;0m▀\u001b[38;2;0;0;0;48;2;0;0;0m▀\u001b[38;2;0;0;0;48;2;0;0;0m▀\u001b[38;2;0;0;0;48;2;0;0;0m▀\u001b[38;2;11;11;11;48;2;0;0;0m▀\u001b[38;2;5;5;5;48;2;0;0;0m▀\u001b[38;2;42;42;42;48;2;0;0;0m▀\u001b[38;2;47;47;47;48;2;0;0;0m▀\u001b[38;2;48;48;48;48;2;0;0;0m▀\u001b[38;2;0;0;0;48;2;15;15;15m▀\u001b[38;2;89;89;89;48;2;0;0;0m▀\u001b[38;2;0;0;0;48;2;40;40;40m▀\u001b[38;2;57;57;57;48;2;0;0;0m▀\u001b[38;2;0;0;0;48;2;15;15;15m▀\u001b[38;2;83;83;83;48;2;0;0;0m▀\u001b[38;2;0;0;0;48;2;48;48;48m▀\u001b[38;2;72;72;72;48;2;0;0;0m▀\u001b[38;2;0;0;0;48;2;52;52;52m▀\u001b[38;2;98;98;98;48;2;0;0;0m▀\u001b[38;2;0;0;0;48;2;62;62;62m▀\u001b[38;2;84;84;84;48;2;0;0;0m▀\u001b[38;2;0;0;0;48;2;15;15;15m▀\u001b[38;2;83;83;83;48;2;0;0;0m▀\u001b[38;2;0;0;0;48;2;5;5;5m▀\u001b[38;2;63;63;63;48;2;0;0;0m▀\u001b[38;2;0;0;0;48;2;10;10;10m▀\u001b[38;2;86;86;86;48;2;5;5;5m▀\u001b[38;2;0;0;0;48;2;58;58;58m▀\u001b[38;2;46;46;46;48;2;43;43;43m▀\u001b[38;2;0;0;0;48;2;0;0;0m▀\u001b[38;2;14;14;14;48;2;0;0;0m▀\u001b[38;2;0;0;0;48;2;0;0;0m▀\u001b[38;2;10;10;10;48;2;0;0;0m▀\u001b[38;2;0;0;0;48;2;0;0;0m▀\u001b[38;2;3;3;3;48;2;0;0;0m▀\u001b[38;2;0;0;0;48;2;0;0;0m▀\u001b[38;2;0;0;0;48;2;0;0;0m▀\u001b[38;2;0;0;0;48;2;0;0;0m▀\u001b[38;2;0;0;0;48;2;0;0;0m▀\u001b[38;2;0;0;0;48;2;0;0;0m▀\u001b[38;2;0;0;0;48;2;0;0;0m▀\u001b[38;2;0;0;0;48;2;0;0;0m▀\u001b[38;2;0;0;0;48;2;0;0;0m▀\u001b[38;2;0;0;0;48;2;0;0;0m▀\u001b[38;2;0;0;0;48;2;0;0;0m▀\u001b[38;2;0;0;0;48;2;0;0;0m▀\u001b[38;2;0;0;0;48;2;0;0;0m▀\u001b[38;2;0;0;0;48;2;0;0;0m▀\u001b[0m\n",
       "\u001b[0m\u001b[38;2;0;0;0;48;2;0;0;0m▀\u001b[38;2;0;0;0;48;2;0;0;0m▀\u001b[38;2;0;0;0;48;2;0;0;0m▀\u001b[38;2;0;0;0;48;2;0;0;0m▀\u001b[38;2;0;0;0;48;2;0;0;0m▀\u001b[38;2;0;0;0;48;2;0;0;0m▀\u001b[38;2;0;0;0;48;2;0;0;0m▀\u001b[38;2;0;0;0;48;2;0;0;0m▀\u001b[38;2;0;0;0;48;2;0;0;0m▀\u001b[38;2;0;0;0;48;2;0;0;0m▀\u001b[38;2;0;0;0;48;2;0;0;0m▀\u001b[38;2;0;0;0;48;2;0;0;0m▀\u001b[38;2;4;4;4;48;2;0;0;0m▀\u001b[38;2;0;0;0;48;2;0;0;0m▀\u001b[38;2;52;52;52;48;2;0;0;0m▀\u001b[38;2;16;16;16;48;2;0;0;0m▀\u001b[38;2;69;69;69;48;2;0;0;0m▀\u001b[38;2;0;0;0;48;2;1;1;1m▀\u001b[38;2;67;67;67;48;2;0;0;0m▀\u001b[38;2;0;0;0;48;2;14;14;14m▀\u001b[38;2;57;57;57;48;2;0;0;0m▀\u001b[38;2;0;0;0;48;2;0;0;0m▀\u001b[38;2;38;38;38;48;2;0;0;0m▀\u001b[38;2;0;0;0;48;2;26;26;26m▀\u001b[38;2;104;104;104;48;2;0;0;0m▀\u001b[38;2;0;0;0;48;2;65;65;65m▀\u001b[38;2;79;79;79;48;2;0;0;0m▀\u001b[38;2;0;0;0;48;2;39;39;39m▀\u001b[38;2;77;77;77;48;2;40;40;40m▀\u001b[38;2;0;0;0;48;2;1;1;1m▀\u001b[38;2;50;50;50;48;2;0;0;0m▀\u001b[38;2;0;0;0;48;2;0;0;0m▀\u001b[38;2;49;49;49;48;2;0;0;0m▀\u001b[38;2;0;0;0;48;2;0;0;0m▀\u001b[38;2;0;0;0;48;2;0;0;0m▀\u001b[38;2;0;0;0;48;2;15;15;15m▀\u001b[38;2;11;11;11;48;2;42;42;42m▀\u001b[38;2;0;0;0;48;2;0;0;0m▀\u001b[38;2;0;0;0;48;2;0;0;0m▀\u001b[38;2;0;0;0;48;2;0;0;0m▀\u001b[38;2;0;0;0;48;2;0;0;0m▀\u001b[38;2;0;0;0;48;2;0;0;0m▀\u001b[38;2;0;0;0;48;2;0;0;0m▀\u001b[38;2;0;0;0;48;2;0;0;0m▀\u001b[38;2;0;0;0;48;2;0;0;0m▀\u001b[38;2;0;0;0;48;2;0;0;0m▀\u001b[38;2;0;0;0;48;2;0;0;0m▀\u001b[38;2;0;0;0;48;2;0;0;0m▀\u001b[38;2;0;0;0;48;2;0;0;0m▀\u001b[38;2;0;0;0;48;2;0;0;0m▀\u001b[38;2;0;0;0;48;2;0;0;0m▀\u001b[38;2;0;0;0;48;2;0;0;0m▀\u001b[38;2;0;0;0;48;2;0;0;0m▀\u001b[38;2;0;0;0;48;2;0;0;0m▀\u001b[38;2;0;0;0;48;2;0;0;0m▀\u001b[38;2;0;0;0;48;2;0;0;0m▀\u001b[0m\n",
       "\u001b[0m\u001b[38;2;0;0;0;48;2;0;0;0m▀\u001b[38;2;0;0;0;48;2;0;0;0m▀\u001b[38;2;0;0;0;48;2;0;0;0m▀\u001b[38;2;0;0;0;48;2;0;0;0m▀\u001b[38;2;0;0;0;48;2;0;0;0m▀\u001b[38;2;0;0;0;48;2;0;0;0m▀\u001b[38;2;0;0;0;48;2;0;0;0m▀\u001b[38;2;0;0;0;48;2;0;0;0m▀\u001b[38;2;0;0;0;48;2;0;0;0m▀\u001b[38;2;0;0;0;48;2;0;0;0m▀\u001b[38;2;0;0;0;48;2;0;0;0m▀\u001b[38;2;0;0;0;48;2;0;0;0m▀\u001b[38;2;0;0;0;48;2;0;0;0m▀\u001b[38;2;0;0;0;48;2;0;0;0m▀\u001b[38;2;19;19;19;48;2;0;0;0m▀\u001b[38;2;0;0;0;48;2;0;0;0m▀\u001b[38;2;45;45;45;48;2;0;0;0m▀\u001b[38;2;0;0;0;48;2;0;0;0m▀\u001b[38;2;29;29;29;48;2;0;0;0m▀\u001b[38;2;0;0;0;48;2;1;1;1m▀\u001b[38;2;25;25;25;48;2;0;0;0m▀\u001b[38;2;15;15;15;48;2;0;0;0m▀\u001b[38;2;32;32;32;48;2;0;0;0m▀\u001b[38;2;0;0;0;48;2;13;13;13m▀\u001b[38;2;51;51;51;48;2;0;0;0m▀\u001b[38;2;0;0;0;48;2;59;59;59m▀\u001b[38;2;51;51;51;48;2;3;3;3m▀\u001b[38;2;0;0;0;48;2;51;51;51m▀\u001b[38;2;0;0;0;48;2;0;0;0m▀\u001b[38;2;0;0;0;48;2;0;0;0m▀\u001b[38;2;8;8;8;48;2;0;0;0m▀\u001b[38;2;0;0;0;48;2;0;0;0m▀\u001b[38;2;41;41;41;48;2;0;0;0m▀\u001b[38;2;0;0;0;48;2;0;0;0m▀\u001b[38;2;10;10;10;48;2;0;0;0m▀\u001b[38;2;0;0;0;48;2;0;0;0m▀\u001b[38;2;0;0;0;48;2;0;0;0m▀\u001b[38;2;0;0;0;48;2;0;0;0m▀\u001b[38;2;0;0;0;48;2;0;0;0m▀\u001b[38;2;0;0;0;48;2;0;0;0m▀\u001b[38;2;0;0;0;48;2;0;0;0m▀\u001b[38;2;0;0;0;48;2;0;0;0m▀\u001b[38;2;0;0;0;48;2;0;0;0m▀\u001b[38;2;0;0;0;48;2;0;0;0m▀\u001b[38;2;0;0;0;48;2;0;0;0m▀\u001b[38;2;0;0;0;48;2;0;0;0m▀\u001b[38;2;0;0;0;48;2;0;0;0m▀\u001b[38;2;0;0;0;48;2;0;0;0m▀\u001b[38;2;0;0;0;48;2;0;0;0m▀\u001b[38;2;0;0;0;48;2;0;0;0m▀\u001b[38;2;0;0;0;48;2;0;0;0m▀\u001b[38;2;0;0;0;48;2;0;0;0m▀\u001b[38;2;0;0;0;48;2;0;0;0m▀\u001b[38;2;0;0;0;48;2;0;0;0m▀\u001b[38;2;0;0;0;48;2;0;0;0m▀\u001b[38;2;0;0;0;48;2;0;0;0m▀\u001b[0m\n",
       "\u001b[0m\u001b[38;2;0;0;0;48;2;0;0;0m▀\u001b[38;2;0;0;0;48;2;0;0;0m▀\u001b[38;2;0;0;0;48;2;0;0;0m▀\u001b[38;2;0;0;0;48;2;0;0;0m▀\u001b[38;2;0;0;0;48;2;0;0;0m▀\u001b[38;2;0;0;0;48;2;0;0;0m▀\u001b[38;2;0;0;0;48;2;0;0;0m▀\u001b[38;2;0;0;0;48;2;0;0;0m▀\u001b[38;2;0;0;0;48;2;0;0;0m▀\u001b[38;2;0;0;0;48;2;0;0;0m▀\u001b[38;2;0;0;0;48;2;0;0;0m▀\u001b[38;2;0;0;0;48;2;0;0;0m▀\u001b[38;2;0;0;0;48;2;0;0;0m▀\u001b[38;2;0;0;0;48;2;0;0;0m▀\u001b[38;2;0;0;0;48;2;0;0;0m▀\u001b[38;2;0;0;0;48;2;0;0;0m▀\u001b[38;2;3;3;3;48;2;0;0;0m▀\u001b[38;2;0;0;0;48;2;0;0;0m▀\u001b[38;2;2;2;2;48;2;0;0;0m▀\u001b[38;2;0;0;0;48;2;0;0;0m▀\u001b[38;2;29;29;29;48;2;0;0;0m▀\u001b[38;2;41;41;41;48;2;0;0;0m▀\u001b[38;2;31;31;31;48;2;0;0;0m▀\u001b[38;2;0;0;0;48;2;0;0;0m▀\u001b[38;2;30;30;30;48;2;0;0;0m▀\u001b[38;2;0;0;0;48;2;36;36;36m▀\u001b[38;2;35;35;35;48;2;0;0;0m▀\u001b[38;2;0;0;0;48;2;68;68;68m▀\u001b[38;2;21;21;21;48;2;10;10;10m▀\u001b[38;2;0;0;0;48;2;16;16;16m▀\u001b[38;2;0;0;0;48;2;0;0;0m▀\u001b[38;2;0;0;0;48;2;0;0;0m▀\u001b[38;2;0;0;0;48;2;0;0;0m▀\u001b[38;2;0;0;0;48;2;0;0;0m▀\u001b[38;2;0;0;0;48;2;0;0;0m▀\u001b[38;2;0;0;0;48;2;0;0;0m▀\u001b[38;2;0;0;0;48;2;0;0;0m▀\u001b[38;2;0;0;0;48;2;0;0;0m▀\u001b[38;2;0;0;0;48;2;0;0;0m▀\u001b[38;2;0;0;0;48;2;0;0;0m▀\u001b[38;2;0;0;0;48;2;0;0;0m▀\u001b[38;2;0;0;0;48;2;0;0;0m▀\u001b[38;2;0;0;0;48;2;0;0;0m▀\u001b[38;2;0;0;0;48;2;0;0;0m▀\u001b[38;2;0;0;0;48;2;0;0;0m▀\u001b[38;2;0;0;0;48;2;0;0;0m▀\u001b[38;2;0;0;0;48;2;0;0;0m▀\u001b[38;2;0;0;0;48;2;0;0;0m▀\u001b[38;2;0;0;0;48;2;0;0;0m▀\u001b[38;2;0;0;0;48;2;0;0;0m▀\u001b[38;2;0;0;0;48;2;0;0;0m▀\u001b[38;2;0;0;0;48;2;0;0;0m▀\u001b[38;2;0;0;0;48;2;0;0;0m▀\u001b[38;2;0;0;0;48;2;0;0;0m▀\u001b[38;2;0;0;0;48;2;0;0;0m▀\u001b[38;2;0;0;0;48;2;0;0;0m▀\u001b[0m\n",
       "\u001b[0m\u001b[38;2;0;0;0;48;2;0;0;0m▀\u001b[38;2;0;0;0;48;2;0;0;0m▀\u001b[38;2;0;0;0;48;2;0;0;0m▀\u001b[38;2;0;0;0;48;2;0;0;0m▀\u001b[38;2;0;0;0;48;2;0;0;0m▀\u001b[38;2;0;0;0;48;2;0;0;0m▀\u001b[38;2;0;0;0;48;2;0;0;0m▀\u001b[38;2;0;0;0;48;2;0;0;0m▀\u001b[38;2;0;0;0;48;2;0;0;0m▀\u001b[38;2;0;0;0;48;2;0;0;0m▀\u001b[38;2;0;0;0;48;2;0;0;0m▀\u001b[38;2;0;0;0;48;2;0;0;0m▀\u001b[38;2;0;0;0;48;2;0;0;0m▀\u001b[38;2;0;0;0;48;2;0;0;0m▀\u001b[38;2;0;0;0;48;2;0;0;0m▀\u001b[38;2;0;0;0;48;2;0;0;0m▀\u001b[38;2;0;0;0;48;2;0;0;0m▀\u001b[38;2;0;0;0;48;2;0;0;0m▀\u001b[38;2;0;0;0;48;2;0;0;0m▀\u001b[38;2;0;0;0;48;2;0;0;0m▀\u001b[38;2;33;33;33;48;2;0;0;0m▀\u001b[38;2;1;1;1;48;2;0;0;0m▀\u001b[38;2;63;63;63;48;2;0;0;0m▀\u001b[38;2;12;12;12;48;2;0;0;0m▀\u001b[38;2;1;1;1;48;2;0;0;0m▀\u001b[38;2;0;0;0;48;2;0;0;0m▀\u001b[38;2;14;14;14;48;2;0;0;0m▀\u001b[38;2;0;0;0;48;2;54;54;54m▀\u001b[38;2;18;18;18;48;2;0;0;0m▀\u001b[38;2;0;0;0;48;2;41;41;41m▀\u001b[38;2;0;0;0;48;2;0;0;0m▀\u001b[38;2;0;0;0;48;2;25;25;25m▀\u001b[38;2;0;0;0;48;2;0;0;0m▀\u001b[38;2;0;0;0;48;2;24;24;24m▀\u001b[38;2;0;0;0;48;2;0;0;0m▀\u001b[38;2;0;0;0;48;2;0;0;0m▀\u001b[38;2;0;0;0;48;2;0;0;0m▀\u001b[38;2;0;0;0;48;2;0;0;0m▀\u001b[38;2;0;0;0;48;2;0;0;0m▀\u001b[38;2;0;0;0;48;2;0;0;0m▀\u001b[38;2;0;0;0;48;2;0;0;0m▀\u001b[38;2;0;0;0;48;2;0;0;0m▀\u001b[38;2;0;0;0;48;2;0;0;0m▀\u001b[38;2;0;0;0;48;2;0;0;0m▀\u001b[38;2;0;0;0;48;2;0;0;0m▀\u001b[38;2;0;0;0;48;2;0;0;0m▀\u001b[38;2;0;0;0;48;2;0;0;0m▀\u001b[38;2;0;0;0;48;2;0;0;0m▀\u001b[38;2;0;0;0;48;2;0;0;0m▀\u001b[38;2;0;0;0;48;2;0;0;0m▀\u001b[38;2;0;0;0;48;2;0;0;0m▀\u001b[38;2;0;0;0;48;2;0;0;0m▀\u001b[38;2;0;0;0;48;2;0;0;0m▀\u001b[38;2;0;0;0;48;2;0;0;0m▀\u001b[38;2;0;0;0;48;2;0;0;0m▀\u001b[38;2;0;0;0;48;2;0;0;0m▀\u001b[0m\n",
       "\u001b[0m\u001b[38;2;0;0;0;48;2;0;0;0m▀\u001b[38;2;0;0;0;48;2;0;0;0m▀\u001b[38;2;0;0;0;48;2;0;0;0m▀\u001b[38;2;0;0;0;48;2;0;0;0m▀\u001b[38;2;0;0;0;48;2;0;0;0m▀\u001b[38;2;0;0;0;48;2;0;0;0m▀\u001b[38;2;0;0;0;48;2;0;0;0m▀\u001b[38;2;0;0;0;48;2;0;0;0m▀\u001b[38;2;0;0;0;48;2;0;0;0m▀\u001b[38;2;0;0;0;48;2;0;0;0m▀\u001b[38;2;0;0;0;48;2;0;0;0m▀\u001b[38;2;0;0;0;48;2;0;0;0m▀\u001b[38;2;0;0;0;48;2;0;0;0m▀\u001b[38;2;0;0;0;48;2;0;0;0m▀\u001b[38;2;0;0;0;48;2;0;0;0m▀\u001b[38;2;0;0;0;48;2;0;0;0m▀\u001b[38;2;0;0;0;48;2;0;0;0m▀\u001b[38;2;0;0;0;48;2;0;0;0m▀\u001b[38;2;0;0;0;48;2;0;0;0m▀\u001b[38;2;0;0;0;48;2;0;0;0m▀\u001b[38;2;3;3;3;48;2;0;0;0m▀\u001b[38;2;0;0;0;48;2;0;0;0m▀\u001b[38;2;45;45;45;48;2;0;0;0m▀\u001b[38;2;5;5;5;48;2;0;0;0m▀\u001b[38;2;57;57;57;48;2;0;0;0m▀\u001b[38;2;7;7;7;48;2;0;0;0m▀\u001b[38;2;0;0;0;48;2;0;0;0m▀\u001b[38;2;0;0;0;48;2;11;11;11m▀\u001b[38;2;6;6;6;48;2;0;0;0m▀\u001b[38;2;0;0;0;48;2;45;45;45m▀\u001b[38;2;7;7;7;48;2;0;0;0m▀\u001b[38;2;0;0;0;48;2;44;44;44m▀\u001b[38;2;24;24;24;48;2;0;0;0m▀\u001b[38;2;0;0;0;48;2;55;55;55m▀\u001b[38;2;12;12;12;48;2;0;0;0m▀\u001b[38;2;0;0;0;48;2;24;24;24m▀\u001b[38;2;0;0;0;48;2;0;0;0m▀\u001b[38;2;0;0;0;48;2;6;6;6m▀\u001b[38;2;0;0;0;48;2;0;0;0m▀\u001b[38;2;0;0;0;48;2;0;0;0m▀\u001b[38;2;0;0;0;48;2;0;0;0m▀\u001b[38;2;0;0;0;48;2;0;0;0m▀\u001b[38;2;0;0;0;48;2;0;0;0m▀\u001b[38;2;0;0;0;48;2;0;0;0m▀\u001b[38;2;0;0;0;48;2;0;0;0m▀\u001b[38;2;0;0;0;48;2;0;0;0m▀\u001b[38;2;0;0;0;48;2;0;0;0m▀\u001b[38;2;0;0;0;48;2;0;0;0m▀\u001b[38;2;0;0;0;48;2;0;0;0m▀\u001b[38;2;0;0;0;48;2;0;0;0m▀\u001b[38;2;0;0;0;48;2;0;0;0m▀\u001b[38;2;0;0;0;48;2;0;0;0m▀\u001b[38;2;0;0;0;48;2;0;0;0m▀\u001b[38;2;0;0;0;48;2;0;0;0m▀\u001b[38;2;0;0;0;48;2;0;0;0m▀\u001b[38;2;0;0;0;48;2;0;0;0m▀\u001b[0m\n",
       "\u001b[0m\u001b[38;2;0;0;0;48;2;0;0;0m▀\u001b[38;2;0;0;0;48;2;0;0;0m▀\u001b[38;2;0;0;0;48;2;0;0;0m▀\u001b[38;2;0;0;0;48;2;0;0;0m▀\u001b[38;2;0;0;0;48;2;0;0;0m▀\u001b[38;2;0;0;0;48;2;0;0;0m▀\u001b[38;2;0;0;0;48;2;0;0;0m▀\u001b[38;2;0;0;0;48;2;0;0;0m▀\u001b[38;2;0;0;0;48;2;0;0;0m▀\u001b[38;2;0;0;0;48;2;0;0;0m▀\u001b[38;2;0;0;0;48;2;0;0;0m▀\u001b[38;2;0;0;0;48;2;0;0;0m▀\u001b[38;2;0;0;0;48;2;0;0;0m▀\u001b[38;2;0;0;0;48;2;0;0;0m▀\u001b[38;2;0;0;0;48;2;0;0;0m▀\u001b[38;2;0;0;0;48;2;0;0;0m▀\u001b[38;2;0;0;0;48;2;0;0;0m▀\u001b[38;2;0;0;0;48;2;0;0;0m▀\u001b[38;2;0;0;0;48;2;0;0;0m▀\u001b[38;2;0;0;0;48;2;0;0;0m▀\u001b[38;2;0;0;0;48;2;0;0;0m▀\u001b[38;2;0;0;0;48;2;0;0;0m▀\u001b[38;2;8;8;8;48;2;0;0;0m▀\u001b[38;2;0;0;0;48;2;0;0;0m▀\u001b[38;2;59;59;59;48;2;0;0;0m▀\u001b[38;2;11;11;11;48;2;0;0;0m▀\u001b[38;2;55;55;55;48;2;0;0;0m▀\u001b[38;2;0;0;0;48;2;0;0;0m▀\u001b[38;2;4;4;4;48;2;0;0;0m▀\u001b[38;2;0;0;0;48;2;7;7;7m▀\u001b[38;2;38;38;38;48;2;0;0;0m▀\u001b[38;2;0;0;0;48;2;33;33;33m▀\u001b[38;2;15;15;15;48;2;0;0;0m▀\u001b[38;2;0;0;0;48;2;52;52;52m▀\u001b[38;2;30;30;30;48;2;0;0;0m▀\u001b[38;2;0;0;0;48;2;52;52;52m▀\u001b[38;2;18;18;18;48;2;0;0;0m▀\u001b[38;2;0;0;0;48;2;33;33;33m▀\u001b[38;2;0;0;0;48;2;0;0;0m▀\u001b[38;2;0;0;0;48;2;6;6;6m▀\u001b[38;2;0;0;0;48;2;0;0;0m▀\u001b[38;2;0;0;0;48;2;0;0;0m▀\u001b[38;2;0;0;0;48;2;0;0;0m▀\u001b[38;2;0;0;0;48;2;0;0;0m▀\u001b[38;2;0;0;0;48;2;0;0;0m▀\u001b[38;2;0;0;0;48;2;0;0;0m▀\u001b[38;2;0;0;0;48;2;0;0;0m▀\u001b[38;2;0;0;0;48;2;0;0;0m▀\u001b[38;2;0;0;0;48;2;0;0;0m▀\u001b[38;2;0;0;0;48;2;0;0;0m▀\u001b[38;2;0;0;0;48;2;0;0;0m▀\u001b[38;2;0;0;0;48;2;0;0;0m▀\u001b[38;2;0;0;0;48;2;0;0;0m▀\u001b[38;2;0;0;0;48;2;0;0;0m▀\u001b[38;2;0;0;0;48;2;0;0;0m▀\u001b[38;2;0;0;0;48;2;0;0;0m▀\u001b[0m\n",
       "\u001b[0m\u001b[38;2;0;0;0;48;2;0;0;0m▀\u001b[38;2;0;0;0;48;2;0;0;0m▀\u001b[38;2;0;0;0;48;2;0;0;0m▀\u001b[38;2;0;0;0;48;2;0;0;0m▀\u001b[38;2;0;0;0;48;2;0;0;0m▀\u001b[38;2;0;0;0;48;2;0;0;0m▀\u001b[38;2;0;0;0;48;2;0;0;0m▀\u001b[38;2;0;0;0;48;2;0;0;0m▀\u001b[38;2;0;0;0;48;2;0;0;0m▀\u001b[38;2;0;0;0;48;2;0;0;0m▀\u001b[38;2;0;0;0;48;2;0;0;0m▀\u001b[38;2;0;0;0;48;2;0;0;0m▀\u001b[38;2;0;0;0;48;2;0;0;0m▀\u001b[38;2;0;0;0;48;2;0;0;0m▀\u001b[38;2;0;0;0;48;2;0;0;0m▀\u001b[38;2;0;0;0;48;2;0;0;0m▀\u001b[38;2;0;0;0;48;2;0;0;0m▀\u001b[38;2;0;0;0;48;2;0;0;0m▀\u001b[38;2;0;0;0;48;2;0;0;0m▀\u001b[38;2;0;0;0;48;2;0;0;0m▀\u001b[38;2;0;0;0;48;2;0;0;0m▀\u001b[38;2;0;0;0;48;2;0;0;0m▀\u001b[38;2;0;0;0;48;2;0;0;0m▀\u001b[38;2;0;0;0;48;2;0;0;0m▀\u001b[38;2;19;19;19;48;2;0;0;0m▀\u001b[38;2;0;0;0;48;2;0;0;0m▀\u001b[38;2;64;64;64;48;2;0;0;0m▀\u001b[38;2;0;0;0;48;2;0;0;0m▀\u001b[38;2;63;63;63;48;2;0;0;0m▀\u001b[38;2;0;0;0;48;2;0;0;0m▀\u001b[38;2;33;33;33;48;2;0;0;0m▀\u001b[38;2;0;0;0;48;2;4;4;4m▀\u001b[38;2;21;21;21;48;2;0;0;0m▀\u001b[38;2;0;0;0;48;2;12;12;12m▀\u001b[38;2;19;19;19;48;2;0;0;0m▀\u001b[38;2;0;0;0;48;2;51;51;51m▀\u001b[38;2;23;23;23;48;2;0;0;0m▀\u001b[38;2;0;0;0;48;2;52;52;52m▀\u001b[38;2;33;33;33;48;2;0;0;0m▀\u001b[38;2;0;0;0;48;2;44;44;44m▀\u001b[38;2;0;0;0;48;2;0;0;0m▀\u001b[38;2;0;0;0;48;2;0;0;0m▀\u001b[38;2;0;0;0;48;2;0;0;0m▀\u001b[38;2;0;0;0;48;2;0;0;0m▀\u001b[38;2;0;0;0;48;2;0;0;0m▀\u001b[38;2;0;0;0;48;2;0;0;0m▀\u001b[38;2;0;0;0;48;2;0;0;0m▀\u001b[38;2;0;0;0;48;2;0;0;0m▀\u001b[38;2;0;0;0;48;2;0;0;0m▀\u001b[38;2;0;0;0;48;2;0;0;0m▀\u001b[38;2;0;0;0;48;2;0;0;0m▀\u001b[38;2;0;0;0;48;2;0;0;0m▀\u001b[38;2;0;0;0;48;2;0;0;0m▀\u001b[38;2;0;0;0;48;2;0;0;0m▀\u001b[38;2;0;0;0;48;2;0;0;0m▀\u001b[38;2;0;0;0;48;2;0;0;0m▀\u001b[0m\n",
       "\u001b[0m\u001b[38;2;0;0;0;48;2;0;0;0m▀\u001b[38;2;0;0;0;48;2;0;0;0m▀\u001b[38;2;0;0;0;48;2;0;0;0m▀\u001b[38;2;0;0;0;48;2;0;0;0m▀\u001b[38;2;0;0;0;48;2;0;0;0m▀\u001b[38;2;0;0;0;48;2;0;0;0m▀\u001b[38;2;0;0;0;48;2;0;0;0m▀\u001b[38;2;0;0;0;48;2;0;0;0m▀\u001b[38;2;0;0;0;48;2;0;0;0m▀\u001b[38;2;0;0;0;48;2;0;0;0m▀\u001b[38;2;0;0;0;48;2;0;0;0m▀\u001b[38;2;0;0;0;48;2;0;0;0m▀\u001b[38;2;0;0;0;48;2;0;0;0m▀\u001b[38;2;0;0;0;48;2;0;0;0m▀\u001b[38;2;0;0;0;48;2;0;0;0m▀\u001b[38;2;0;0;0;48;2;0;0;0m▀\u001b[38;2;0;0;0;48;2;0;0;0m▀\u001b[38;2;0;0;0;48;2;0;0;0m▀\u001b[38;2;0;0;0;48;2;0;0;0m▀\u001b[38;2;0;0;0;48;2;0;0;0m▀\u001b[38;2;0;0;0;48;2;0;0;0m▀\u001b[38;2;0;0;0;48;2;0;0;0m▀\u001b[38;2;0;0;0;48;2;0;0;0m▀\u001b[38;2;0;0;0;48;2;0;0;0m▀\u001b[38;2;0;0;0;48;2;0;0;0m▀\u001b[38;2;0;0;0;48;2;0;0;0m▀\u001b[38;2;11;11;11;48;2;0;0;0m▀\u001b[38;2;0;0;0;48;2;0;0;0m▀\u001b[38;2;48;48;48;48;2;0;0;0m▀\u001b[38;2;0;0;0;48;2;0;0;0m▀\u001b[38;2;69;69;69;48;2;0;0;0m▀\u001b[38;2;0;0;0;48;2;0;0;0m▀\u001b[38;2;11;11;11;48;2;0;0;0m▀\u001b[38;2;0;0;0;48;2;0;0;0m▀\u001b[38;2;22;22;22;48;2;0;0;0m▀\u001b[38;2;0;0;0;48;2;47;47;47m▀\u001b[38;2;2;2;2;48;2;0;0;0m▀\u001b[38;2;0;0;0;48;2;50;50;50m▀\u001b[38;2;36;36;36;48;2;0;0;0m▀\u001b[38;2;0;0;0;48;2;67;67;67m▀\u001b[38;2;30;30;30;48;2;11;11;11m▀\u001b[38;2;0;0;0;48;2;14;14;14m▀\u001b[38;2;0;0;0;48;2;0;0;0m▀\u001b[38;2;0;0;0;48;2;0;0;0m▀\u001b[38;2;0;0;0;48;2;0;0;0m▀\u001b[38;2;0;0;0;48;2;0;0;0m▀\u001b[38;2;0;0;0;48;2;0;0;0m▀\u001b[38;2;0;0;0;48;2;0;0;0m▀\u001b[38;2;0;0;0;48;2;0;0;0m▀\u001b[38;2;0;0;0;48;2;0;0;0m▀\u001b[38;2;0;0;0;48;2;0;0;0m▀\u001b[38;2;0;0;0;48;2;0;0;0m▀\u001b[38;2;0;0;0;48;2;0;0;0m▀\u001b[38;2;0;0;0;48;2;0;0;0m▀\u001b[38;2;0;0;0;48;2;0;0;0m▀\u001b[38;2;0;0;0;48;2;0;0;0m▀\u001b[0m\n",
       "\u001b[0m\u001b[38;2;0;0;0;48;2;0;0;0m▀\u001b[38;2;0;0;0;48;2;0;0;0m▀\u001b[38;2;0;0;0;48;2;0;0;0m▀\u001b[38;2;0;0;0;48;2;0;0;0m▀\u001b[38;2;0;0;0;48;2;0;0;0m▀\u001b[38;2;0;0;0;48;2;0;0;0m▀\u001b[38;2;0;0;0;48;2;0;0;0m▀\u001b[38;2;0;0;0;48;2;0;0;0m▀\u001b[38;2;0;0;0;48;2;0;0;0m▀\u001b[38;2;0;0;0;48;2;0;0;0m▀\u001b[38;2;0;0;0;48;2;0;0;0m▀\u001b[38;2;0;0;0;48;2;0;0;0m▀\u001b[38;2;0;0;0;48;2;0;0;0m▀\u001b[38;2;0;0;0;48;2;0;0;0m▀\u001b[38;2;0;0;0;48;2;0;0;0m▀\u001b[38;2;0;0;0;48;2;0;0;0m▀\u001b[38;2;0;0;0;48;2;0;0;0m▀\u001b[38;2;0;0;0;48;2;0;0;0m▀\u001b[38;2;0;0;0;48;2;0;0;0m▀\u001b[38;2;0;0;0;48;2;0;0;0m▀\u001b[38;2;0;0;0;48;2;0;0;0m▀\u001b[38;2;0;0;0;48;2;0;0;0m▀\u001b[38;2;0;0;0;48;2;0;0;0m▀\u001b[38;2;0;0;0;48;2;0;0;0m▀\u001b[38;2;0;0;0;48;2;0;0;0m▀\u001b[38;2;0;0;0;48;2;0;0;0m▀\u001b[38;2;0;0;0;48;2;0;0;0m▀\u001b[38;2;1;1;1;48;2;0;0;0m▀\u001b[38;2;0;0;0;48;2;0;0;0m▀\u001b[38;2;0;0;0;48;2;0;0;0m▀\u001b[38;2;6;6;6;48;2;0;0;0m▀\u001b[38;2;0;0;0;48;2;11;11;11m▀\u001b[38;2;27;27;27;48;2;0;0;0m▀\u001b[38;2;0;0;0;48;2;8;8;8m▀\u001b[38;2;19;19;19;48;2;0;0;0m▀\u001b[38;2;0;0;0;48;2;47;47;47m▀\u001b[38;2;55;55;55;48;2;0;0;0m▀\u001b[38;2;0;0;0;48;2;52;52;52m▀\u001b[38;2;36;36;36;48;2;0;0;0m▀\u001b[38;2;0;0;0;48;2;68;68;68m▀\u001b[38;2;18;18;18;48;2;25;25;25m▀\u001b[38;2;0;0;0;48;2;7;7;7m▀\u001b[38;2;20;20;20;48;2;17;17;17m▀\u001b[38;2;0;0;0;48;2;0;0;0m▀\u001b[38;2;0;0;0;48;2;0;0;0m▀\u001b[38;2;0;0;0;48;2;0;0;0m▀\u001b[38;2;0;0;0;48;2;0;0;0m▀\u001b[38;2;0;0;0;48;2;0;0;0m▀\u001b[38;2;0;0;0;48;2;0;0;0m▀\u001b[38;2;0;0;0;48;2;0;0;0m▀\u001b[38;2;0;0;0;48;2;0;0;0m▀\u001b[38;2;0;0;0;48;2;0;0;0m▀\u001b[38;2;0;0;0;48;2;0;0;0m▀\u001b[38;2;0;0;0;48;2;0;0;0m▀\u001b[38;2;0;0;0;48;2;0;0;0m▀\u001b[38;2;0;0;0;48;2;0;0;0m▀\u001b[0m\n",
       "\u001b[0m\u001b[38;2;0;0;0;48;2;0;0;0m▀\u001b[38;2;0;0;0;48;2;0;0;0m▀\u001b[38;2;0;0;0;48;2;0;0;0m▀\u001b[38;2;0;0;0;48;2;0;0;0m▀\u001b[38;2;0;0;0;48;2;0;0;0m▀\u001b[38;2;0;0;0;48;2;0;0;0m▀\u001b[38;2;0;0;0;48;2;0;0;0m▀\u001b[38;2;0;0;0;48;2;0;0;0m▀\u001b[38;2;0;0;0;48;2;0;0;0m▀\u001b[38;2;0;0;0;48;2;0;0;0m▀\u001b[38;2;0;0;0;48;2;0;0;0m▀\u001b[38;2;0;0;0;48;2;0;0;0m▀\u001b[38;2;0;0;0;48;2;0;0;0m▀\u001b[38;2;0;0;0;48;2;0;0;0m▀\u001b[38;2;0;0;0;48;2;0;0;0m▀\u001b[38;2;0;0;0;48;2;0;0;0m▀\u001b[38;2;0;0;0;48;2;0;0;0m▀\u001b[38;2;0;0;0;48;2;0;0;0m▀\u001b[38;2;0;0;0;48;2;0;0;0m▀\u001b[38;2;0;0;0;48;2;0;0;0m▀\u001b[38;2;0;0;0;48;2;0;0;0m▀\u001b[38;2;0;0;0;48;2;0;0;0m▀\u001b[38;2;0;0;0;48;2;0;0;0m▀\u001b[38;2;1;1;1;48;2;0;0;0m▀\u001b[38;2;0;0;0;48;2;0;0;0m▀\u001b[38;2;0;0;0;48;2;0;0;0m▀\u001b[38;2;0;0;0;48;2;0;0;0m▀\u001b[38;2;0;0;0;48;2;9;9;9m▀\u001b[38;2;0;0;0;48;2;0;0;0m▀\u001b[38;2;0;0;0;48;2;26;26;26m▀\u001b[38;2;0;0;0;48;2;0;0;0m▀\u001b[38;2;0;0;0;48;2;38;38;38m▀\u001b[38;2;41;41;41;48;2;0;0;0m▀\u001b[38;2;0;0;0;48;2;41;41;41m▀\u001b[38;2;81;81;81;48;2;0;0;0m▀\u001b[38;2;0;0;0;48;2;48;48;48m▀\u001b[38;2;76;76;76;48;2;0;0;0m▀\u001b[38;2;0;0;0;48;2;55;55;55m▀\u001b[38;2;60;60;60;48;2;0;0;0m▀\u001b[38;2;0;0;0;48;2;60;60;60m▀\u001b[38;2;9;9;9;48;2;29;29;29m▀\u001b[38;2;0;0;0;48;2;0;0;0m▀\u001b[38;2;0;0;0;48;2;1;1;1m▀\u001b[38;2;0;0;0;48;2;0;0;0m▀\u001b[38;2;0;0;0;48;2;0;0;0m▀\u001b[38;2;0;0;0;48;2;0;0;0m▀\u001b[38;2;0;0;0;48;2;0;0;0m▀\u001b[38;2;0;0;0;48;2;0;0;0m▀\u001b[38;2;0;0;0;48;2;0;0;0m▀\u001b[38;2;0;0;0;48;2;0;0;0m▀\u001b[38;2;0;0;0;48;2;0;0;0m▀\u001b[38;2;0;0;0;48;2;0;0;0m▀\u001b[38;2;0;0;0;48;2;0;0;0m▀\u001b[38;2;0;0;0;48;2;0;0;0m▀\u001b[38;2;0;0;0;48;2;0;0;0m▀\u001b[38;2;0;0;0;48;2;0;0;0m▀\u001b[0m\n",
       "\u001b[0m\u001b[38;2;0;0;0;48;2;0;0;0m▀\u001b[38;2;0;0;0;48;2;0;0;0m▀\u001b[38;2;0;0;0;48;2;0;0;0m▀\u001b[38;2;0;0;0;48;2;0;0;0m▀\u001b[38;2;0;0;0;48;2;0;0;0m▀\u001b[38;2;0;0;0;48;2;0;0;0m▀\u001b[38;2;0;0;0;48;2;0;0;0m▀\u001b[38;2;0;0;0;48;2;0;0;0m▀\u001b[38;2;0;0;0;48;2;0;0;0m▀\u001b[38;2;0;0;0;48;2;0;0;0m▀\u001b[38;2;0;0;0;48;2;0;0;0m▀\u001b[38;2;0;0;0;48;2;0;0;0m▀\u001b[38;2;0;0;0;48;2;0;0;0m▀\u001b[38;2;0;0;0;48;2;0;0;0m▀\u001b[38;2;0;0;0;48;2;0;0;0m▀\u001b[38;2;0;0;0;48;2;0;0;0m▀\u001b[38;2;0;0;0;48;2;0;0;0m▀\u001b[38;2;0;0;0;48;2;0;0;0m▀\u001b[38;2;0;0;0;48;2;0;0;0m▀\u001b[38;2;1;1;1;48;2;0;0;0m▀\u001b[38;2;0;0;0;48;2;0;0;0m▀\u001b[38;2;0;0;0;48;2;0;0;0m▀\u001b[38;2;0;0;0;48;2;0;0;0m▀\u001b[38;2;0;0;0;48;2;3;3;3m▀\u001b[38;2;0;0;0;48;2;0;0;0m▀\u001b[38;2;0;0;0;48;2;23;23;23m▀\u001b[38;2;0;0;0;48;2;0;0;0m▀\u001b[38;2;0;0;0;48;2;38;38;38m▀\u001b[38;2;20;20;20;48;2;0;0;0m▀\u001b[38;2;0;0;0;48;2;45;45;45m▀\u001b[38;2;58;58;58;48;2;0;0;0m▀\u001b[38;2;0;0;0;48;2;48;48;48m▀\u001b[38;2;83;83;83;48;2;0;0;0m▀\u001b[38;2;0;0;0;48;2;53;53;53m▀\u001b[38;2;96;96;96;48;2;0;0;0m▀\u001b[38;2;0;0;0;48;2;53;53;53m▀\u001b[38;2;79;79;79;48;2;0;0;0m▀\u001b[38;2;0;0;0;48;2;35;35;35m▀\u001b[38;2;40;40;40;48;2;21;21;21m▀\u001b[38;2;0;0;0;48;2;18;18;18m▀\u001b[38;2;25;25;25;48;2;50;50;50m▀\u001b[38;2;0;0;0;48;2;0;0;0m▀\u001b[38;2;0;0;0;48;2;0;0;0m▀\u001b[38;2;0;0;0;48;2;0;0;0m▀\u001b[38;2;0;0;0;48;2;0;0;0m▀\u001b[38;2;0;0;0;48;2;0;0;0m▀\u001b[38;2;0;0;0;48;2;0;0;0m▀\u001b[38;2;0;0;0;48;2;0;0;0m▀\u001b[38;2;0;0;0;48;2;0;0;0m▀\u001b[38;2;0;0;0;48;2;0;0;0m▀\u001b[38;2;0;0;0;48;2;0;0;0m▀\u001b[38;2;0;0;0;48;2;0;0;0m▀\u001b[38;2;0;0;0;48;2;0;0;0m▀\u001b[38;2;0;0;0;48;2;0;0;0m▀\u001b[38;2;0;0;0;48;2;0;0;0m▀\u001b[38;2;0;0;0;48;2;0;0;0m▀\u001b[0m\n",
       "\u001b[0m\u001b[38;2;0;0;0;48;2;0;0;0m▀\u001b[38;2;0;0;0;48;2;0;0;0m▀\u001b[38;2;0;0;0;48;2;0;0;0m▀\u001b[38;2;0;0;0;48;2;0;0;0m▀\u001b[38;2;0;0;0;48;2;0;0;0m▀\u001b[38;2;0;0;0;48;2;0;0;0m▀\u001b[38;2;0;0;0;48;2;0;0;0m▀\u001b[38;2;0;0;0;48;2;0;0;0m▀\u001b[38;2;0;0;0;48;2;0;0;0m▀\u001b[38;2;0;0;0;48;2;0;0;0m▀\u001b[38;2;0;0;0;48;2;0;0;0m▀\u001b[38;2;0;0;0;48;2;0;0;0m▀\u001b[38;2;0;0;0;48;2;0;0;0m▀\u001b[38;2;0;0;0;48;2;0;0;0m▀\u001b[38;2;0;0;0;48;2;0;0;0m▀\u001b[38;2;1;1;1;48;2;0;0;0m▀\u001b[38;2;0;0;0;48;2;0;0;0m▀\u001b[38;2;0;0;0;48;2;0;0;0m▀\u001b[38;2;0;0;0;48;2;0;0;0m▀\u001b[38;2;0;0;0;48;2;0;0;0m▀\u001b[38;2;0;0;0;48;2;0;0;0m▀\u001b[38;2;0;0;0;48;2;21;21;21m▀\u001b[38;2;0;0;0;48;2;0;0;0m▀\u001b[38;2;0;0;0;48;2;35;35;35m▀\u001b[38;2;13;13;13;48;2;0;0;0m▀\u001b[38;2;0;0;0;48;2;44;44;44m▀\u001b[38;2;70;70;70;48;2;0;0;0m▀\u001b[38;2;0;0;0;48;2;48;48;48m▀\u001b[38;2;86;86;86;48;2;0;0;0m▀\u001b[38;2;0;0;0;48;2;53;53;53m▀\u001b[38;2;88;88;88;48;2;0;0;0m▀\u001b[38;2;0;0;0;48;2;52;52;52m▀\u001b[38;2;90;90;90;48;2;0;0;0m▀\u001b[38;2;0;0;0;48;2;35;35;35m▀\u001b[38;2;101;101;101;48;2;0;0;0m▀\u001b[38;2;0;0;0;48;2;17;17;17m▀\u001b[38;2;88;88;88;48;2;39;39;39m▀\u001b[38;2;0;0;0;48;2;8;8;8m▀\u001b[38;2;6;6;6;48;2;21;21;21m▀\u001b[38;2;0;0;0;48;2;0;0;0m▀\u001b[38;2;0;0;0;48;2;0;0;0m▀\u001b[38;2;0;0;0;48;2;0;0;0m▀\u001b[38;2;0;0;0;48;2;0;0;0m▀\u001b[38;2;0;0;0;48;2;0;0;0m▀\u001b[38;2;0;0;0;48;2;0;0;0m▀\u001b[38;2;0;0;0;48;2;0;0;0m▀\u001b[38;2;0;0;0;48;2;0;0;0m▀\u001b[38;2;0;0;0;48;2;0;0;0m▀\u001b[38;2;0;0;0;48;2;0;0;0m▀\u001b[38;2;0;0;0;48;2;0;0;0m▀\u001b[38;2;0;0;0;48;2;0;0;0m▀\u001b[38;2;0;0;0;48;2;0;0;0m▀\u001b[38;2;0;0;0;48;2;0;0;0m▀\u001b[38;2;0;0;0;48;2;0;0;0m▀\u001b[38;2;0;0;0;48;2;0;0;0m▀\u001b[38;2;0;0;0;48;2;0;0;0m▀\u001b[0m\n",
       "\u001b[0m\u001b[38;2;0;0;0;48;2;0;0;0m▀\u001b[38;2;0;0;0;48;2;0;0;0m▀\u001b[38;2;0;0;0;48;2;0;0;0m▀\u001b[38;2;0;0;0;48;2;0;0;0m▀\u001b[38;2;0;0;0;48;2;0;0;0m▀\u001b[38;2;0;0;0;48;2;0;0;0m▀\u001b[38;2;0;0;0;48;2;0;0;0m▀\u001b[38;2;0;0;0;48;2;0;0;0m▀\u001b[38;2;0;0;0;48;2;0;0;0m▀\u001b[38;2;0;0;0;48;2;0;0;0m▀\u001b[38;2;0;0;0;48;2;0;0;0m▀\u001b[38;2;0;0;0;48;2;0;0;0m▀\u001b[38;2;0;0;0;48;2;0;0;0m▀\u001b[38;2;0;0;0;48;2;0;0;0m▀\u001b[38;2;0;0;0;48;2;0;0;0m▀\u001b[38;2;0;0;0;48;2;16;16;16m▀\u001b[38;2;0;0;0;48;2;0;0;0m▀\u001b[38;2;0;0;0;48;2;24;24;24m▀\u001b[38;2;0;0;0;48;2;0;0;0m▀\u001b[38;2;0;0;0;48;2;31;31;31m▀\u001b[38;2;0;0;0;48;2;0;0;0m▀\u001b[38;2;0;0;0;48;2;44;44;44m▀\u001b[38;2;64;64;64;48;2;0;0;0m▀\u001b[38;2;0;0;0;48;2;48;48;48m▀\u001b[38;2;91;91;91;48;2;0;0;0m▀\u001b[38;2;0;0;0;48;2;53;53;53m▀\u001b[38;2;89;89;89;48;2;0;0;0m▀\u001b[38;2;0;0;0;48;2;51;51;51m▀\u001b[38;2;89;89;89;48;2;0;0;0m▀\u001b[38;2;0;0;0;48;2;35;35;35m▀\u001b[38;2;103;103;103;48;2;0;0;0m▀\u001b[38;2;0;0;0;48;2;18;18;18m▀\u001b[38;2;91;91;91;48;2;36;36;36m▀\u001b[38;2;0;0;0;48;2;8;8;8m▀\u001b[38;2;26;26;26;48;2;22;22;22m▀\u001b[38;2;0;0;0;48;2;0;0;0m▀\u001b[38;2;0;0;0;48;2;1;1;1m▀\u001b[38;2;0;0;0;48;2;0;0;0m▀\u001b[38;2;0;0;0;48;2;0;0;0m▀\u001b[38;2;0;0;0;48;2;0;0;0m▀\u001b[38;2;0;0;0;48;2;0;0;0m▀\u001b[38;2;0;0;0;48;2;0;0;0m▀\u001b[38;2;0;0;0;48;2;0;0;0m▀\u001b[38;2;0;0;0;48;2;0;0;0m▀\u001b[38;2;0;0;0;48;2;0;0;0m▀\u001b[38;2;0;0;0;48;2;0;0;0m▀\u001b[38;2;0;0;0;48;2;0;0;0m▀\u001b[38;2;0;0;0;48;2;0;0;0m▀\u001b[38;2;0;0;0;48;2;0;0;0m▀\u001b[38;2;0;0;0;48;2;0;0;0m▀\u001b[38;2;0;0;0;48;2;0;0;0m▀\u001b[38;2;0;0;0;48;2;0;0;0m▀\u001b[38;2;0;0;0;48;2;0;0;0m▀\u001b[38;2;0;0;0;48;2;0;0;0m▀\u001b[38;2;0;0;0;48;2;0;0;0m▀\u001b[38;2;0;0;0;48;2;0;0;0m▀\u001b[0m\n",
       "\u001b[0m\u001b[38;2;0;0;0;48;2;0;0;0m▀\u001b[38;2;0;0;0;48;2;0;0;0m▀\u001b[38;2;0;0;0;48;2;0;0;0m▀\u001b[38;2;0;0;0;48;2;0;0;0m▀\u001b[38;2;0;0;0;48;2;0;0;0m▀\u001b[38;2;0;0;0;48;2;0;0;0m▀\u001b[38;2;0;0;0;48;2;0;0;0m▀\u001b[38;2;1;1;1;48;2;0;0;0m▀\u001b[38;2;0;0;0;48;2;0;0;0m▀\u001b[38;2;0;0;0;48;2;0;0;0m▀\u001b[38;2;0;0;0;48;2;0;0;0m▀\u001b[38;2;0;0;0;48;2;16;16;16m▀\u001b[38;2;0;0;0;48;2;0;0;0m▀\u001b[38;2;0;0;0;48;2;22;22;22m▀\u001b[38;2;0;0;0;48;2;0;0;0m▀\u001b[38;2;0;0;0;48;2;41;41;41m▀\u001b[38;2;10;10;10;48;2;0;0;0m▀\u001b[38;2;0;0;0;48;2;44;44;44m▀\u001b[38;2;59;59;59;48;2;0;0;0m▀\u001b[38;2;0;0;0;48;2;48;48;48m▀\u001b[38;2;89;89;89;48;2;0;0;0m▀\u001b[38;2;0;0;0;48;2;48;48;48m▀\u001b[38;2;88;88;88;48;2;0;0;0m▀\u001b[38;2;0;0;0;48;2;57;57;57m▀\u001b[38;2;90;90;90;48;2;0;0;0m▀\u001b[38;2;0;0;0;48;2;46;46;46m▀\u001b[38;2;96;96;96;48;2;0;0;0m▀\u001b[38;2;0;0;0;48;2;19;19;19m▀\u001b[38;2;89;89;89;48;2;33;33;33m▀\u001b[38;2;0;0;0;48;2;7;7;7m▀\u001b[38;2;26;26;26;48;2;20;20;20m▀\u001b[38;2;0;0;0;48;2;1;1;1m▀\u001b[38;2;0;0;0;48;2;2;2;2m▀\u001b[38;2;0;0;0;48;2;0;0;0m▀\u001b[38;2;0;0;0;48;2;0;0;0m▀\u001b[38;2;0;0;0;48;2;0;0;0m▀\u001b[38;2;0;0;0;48;2;0;0;0m▀\u001b[38;2;0;0;0;48;2;0;0;0m▀\u001b[38;2;0;0;0;48;2;0;0;0m▀\u001b[38;2;0;0;0;48;2;0;0;0m▀\u001b[38;2;0;0;0;48;2;0;0;0m▀\u001b[38;2;0;0;0;48;2;0;0;0m▀\u001b[38;2;0;0;0;48;2;0;0;0m▀\u001b[38;2;0;0;0;48;2;0;0;0m▀\u001b[38;2;0;0;0;48;2;0;0;0m▀\u001b[38;2;0;0;0;48;2;0;0;0m▀\u001b[38;2;0;0;0;48;2;0;0;0m▀\u001b[38;2;0;0;0;48;2;0;0;0m▀\u001b[38;2;0;0;0;48;2;0;0;0m▀\u001b[38;2;0;0;0;48;2;0;0;0m▀\u001b[38;2;0;0;0;48;2;0;0;0m▀\u001b[38;2;0;0;0;48;2;0;0;0m▀\u001b[38;2;0;0;0;48;2;0;0;0m▀\u001b[38;2;0;0;0;48;2;0;0;0m▀\u001b[38;2;0;0;0;48;2;0;0;0m▀\u001b[38;2;0;0;0;48;2;0;0;0m▀\u001b[0m\n",
       "\u001b[0m\u001b[38;2;0;0;0;48;2;0;0;0m▀\u001b[38;2;0;0;0;48;2;0;0;0m▀\u001b[38;2;0;0;0;48;2;0;0;0m▀\u001b[38;2;0;0;0;48;2;0;0;0m▀\u001b[38;2;0;0;0;48;2;0;0;0m▀\u001b[38;2;0;0;0;48;2;0;0;0m▀\u001b[38;2;0;0;0;48;2;0;0;0m▀\u001b[38;2;20;20;20;48;2;0;0;0m▀\u001b[38;2;0;0;0;48;2;0;0;0m▀\u001b[38;2;2;2;2;48;2;5;5;5m▀\u001b[38;2;0;0;0;48;2;0;0;0m▀\u001b[38;2;0;0;0;48;2;41;41;41m▀\u001b[38;2;34;34;34;48;2;0;0;0m▀\u001b[38;2;0;0;0;48;2;45;45;45m▀\u001b[38;2;81;81;81;48;2;0;0;0m▀\u001b[38;2;0;0;0;48;2;52;52;52m▀\u001b[38;2;86;86;86;48;2;0;0;0m▀\u001b[38;2;0;0;0;48;2;50;50;50m▀\u001b[38;2;78;78;78;48;2;0;0;0m▀\u001b[38;2;0;0;0;48;2;33;33;33m▀\u001b[38;2;102;102;102;48;2;0;0;0m▀\u001b[38;2;0;0;0;48;2;44;44;44m▀\u001b[38;2;93;93;93;48;2;0;0;0m▀\u001b[38;2;0;0;0;48;2;23;23;23m▀\u001b[38;2;99;99;99;48;2;35;35;35m▀\u001b[38;2;0;0;0;48;2;13;13;13m▀\u001b[38;2;42;42;42;48;2;34;34;34m▀\u001b[38;2;0;0;0;48;2;1;1;1m▀\u001b[38;2;0;0;0;48;2;3;3;3m▀\u001b[38;2;0;0;0;48;2;0;0;0m▀\u001b[38;2;0;0;0;48;2;0;0;0m▀\u001b[38;2;0;0;0;48;2;0;0;0m▀\u001b[38;2;0;0;0;48;2;0;0;0m▀\u001b[38;2;0;0;0;48;2;0;0;0m▀\u001b[38;2;0;0;0;48;2;0;0;0m▀\u001b[38;2;0;0;0;48;2;0;0;0m▀\u001b[38;2;0;0;0;48;2;0;0;0m▀\u001b[38;2;0;0;0;48;2;0;0;0m▀\u001b[38;2;0;0;0;48;2;0;0;0m▀\u001b[38;2;0;0;0;48;2;0;0;0m▀\u001b[38;2;0;0;0;48;2;0;0;0m▀\u001b[38;2;0;0;0;48;2;0;0;0m▀\u001b[38;2;0;0;0;48;2;0;0;0m▀\u001b[38;2;0;0;0;48;2;0;0;0m▀\u001b[38;2;0;0;0;48;2;0;0;0m▀\u001b[38;2;0;0;0;48;2;0;0;0m▀\u001b[38;2;0;0;0;48;2;0;0;0m▀\u001b[38;2;0;0;0;48;2;0;0;0m▀\u001b[38;2;0;0;0;48;2;0;0;0m▀\u001b[38;2;0;0;0;48;2;0;0;0m▀\u001b[38;2;0;0;0;48;2;0;0;0m▀\u001b[38;2;0;0;0;48;2;0;0;0m▀\u001b[38;2;0;0;0;48;2;0;0;0m▀\u001b[38;2;0;0;0;48;2;0;0;0m▀\u001b[38;2;0;0;0;48;2;0;0;0m▀\u001b[38;2;0;0;0;48;2;0;0;0m▀\u001b[0m\n",
       "\u001b[0m\u001b[38;2;0;0;0;48;2;0;0;0m▀\u001b[38;2;0;0;0;48;2;0;0;0m▀\u001b[38;2;0;0;0;48;2;0;0;0m▀\u001b[38;2;0;0;0;48;2;0;0;0m▀\u001b[38;2;0;0;0;48;2;0;0;0m▀\u001b[38;2;0;0;0;48;2;0;0;0m▀\u001b[38;2;9;9;9;48;2;0;0;0m▀\u001b[38;2;41;41;41;48;2;0;0;0m▀\u001b[38;2;31;31;31;48;2;0;0;0m▀\u001b[38;2;24;24;24;48;2;5;5;5m▀\u001b[38;2;83;83;83;48;2;0;0;0m▀\u001b[38;2;0;0;0;48;2;16;16;16m▀\u001b[38;2;113;113;113;48;2;0;0;0m▀\u001b[38;2;0;0;0;48;2;16;16;16m▀\u001b[38;2;109;109;109;48;2;0;0;0m▀\u001b[38;2;0;0;0;48;2;17;17;17m▀\u001b[38;2;110;110;110;48;2;0;0;0m▀\u001b[38;2;0;0;0;48;2;16;16;16m▀\u001b[38;2;102;102;102;48;2;0;0;0m▀\u001b[38;2;0;0;0;48;2;9;9;9m▀\u001b[38;2;79;79;79;48;2;7;7;7m▀\u001b[38;2;0;0;0;48;2;12;12;12m▀\u001b[38;2;59;59;59;48;2;33;33;33m▀\u001b[38;2;0;0;0;48;2;2;2;2m▀\u001b[38;2;0;0;0;48;2;4;4;4m▀\u001b[38;2;0;0;0;48;2;0;0;0m▀\u001b[38;2;0;0;0;48;2;0;0;0m▀\u001b[38;2;0;0;0;48;2;0;0;0m▀\u001b[38;2;0;0;0;48;2;0;0;0m▀\u001b[38;2;0;0;0;48;2;0;0;0m▀\u001b[38;2;0;0;0;48;2;0;0;0m▀\u001b[38;2;0;0;0;48;2;0;0;0m▀\u001b[38;2;0;0;0;48;2;0;0;0m▀\u001b[38;2;0;0;0;48;2;0;0;0m▀\u001b[38;2;0;0;0;48;2;0;0;0m▀\u001b[38;2;0;0;0;48;2;0;0;0m▀\u001b[38;2;0;0;0;48;2;0;0;0m▀\u001b[38;2;0;0;0;48;2;0;0;0m▀\u001b[38;2;0;0;0;48;2;0;0;0m▀\u001b[38;2;0;0;0;48;2;0;0;0m▀\u001b[38;2;0;0;0;48;2;0;0;0m▀\u001b[38;2;0;0;0;48;2;0;0;0m▀\u001b[38;2;0;0;0;48;2;0;0;0m▀\u001b[38;2;0;0;0;48;2;0;0;0m▀\u001b[38;2;0;0;0;48;2;0;0;0m▀\u001b[38;2;0;0;0;48;2;0;0;0m▀\u001b[38;2;0;0;0;48;2;0;0;0m▀\u001b[38;2;0;0;0;48;2;0;0;0m▀\u001b[38;2;0;0;0;48;2;0;0;0m▀\u001b[38;2;0;0;0;48;2;0;0;0m▀\u001b[38;2;0;0;0;48;2;0;0;0m▀\u001b[38;2;0;0;0;48;2;0;0;0m▀\u001b[38;2;0;0;0;48;2;0;0;0m▀\u001b[38;2;0;0;0;48;2;0;0;0m▀\u001b[38;2;0;0;0;48;2;0;0;0m▀\u001b[38;2;0;0;0;48;2;0;0;0m▀\u001b[0m\n",
       "\u001b[0m\u001b[38;2;0;0;0;48;2;0;0;0m▀\u001b[38;2;0;0;0;48;2;0;0;0m▀\u001b[38;2;0;0;0;48;2;0;0;0m▀\u001b[38;2;0;0;0;48;2;0;0;0m▀\u001b[38;2;0;0;0;48;2;0;0;0m▀\u001b[38;2;0;0;0;48;2;0;0;0m▀\u001b[38;2;32;32;32;48;2;0;0;0m▀\u001b[38;2;0;0;0;48;2;0;0;0m▀\u001b[38;2;74;74;74;48;2;0;0;0m▀\u001b[38;2;0;0;0;48;2;0;0;0m▀\u001b[38;2;66;66;66;48;2;0;0;0m▀\u001b[38;2;0;0;0;48;2;0;0;0m▀\u001b[38;2;48;48;48;48;2;0;0;0m▀\u001b[38;2;0;0;0;48;2;0;0;0m▀\u001b[38;2;39;39;39;48;2;0;0;0m▀\u001b[38;2;0;0;0;48;2;0;0;0m▀\u001b[38;2;16;16;16;48;2;0;0;0m▀\u001b[38;2;0;0;0;48;2;0;0;0m▀\u001b[38;2;13;13;13;48;2;0;0;0m▀\u001b[38;2;0;0;0;48;2;0;0;0m▀\u001b[38;2;0;0;0;48;2;0;0;0m▀\u001b[38;2;0;0;0;48;2;0;0;0m▀\u001b[38;2;0;0;0;48;2;0;0;0m▀\u001b[38;2;0;0;0;48;2;0;0;0m▀\u001b[38;2;0;0;0;48;2;0;0;0m▀\u001b[38;2;0;0;0;48;2;0;0;0m▀\u001b[38;2;0;0;0;48;2;0;0;0m▀\u001b[38;2;0;0;0;48;2;0;0;0m▀\u001b[38;2;0;0;0;48;2;0;0;0m▀\u001b[38;2;0;0;0;48;2;0;0;0m▀\u001b[38;2;0;0;0;48;2;0;0;0m▀\u001b[38;2;0;0;0;48;2;0;0;0m▀\u001b[38;2;0;0;0;48;2;0;0;0m▀\u001b[38;2;0;0;0;48;2;0;0;0m▀\u001b[38;2;0;0;0;48;2;0;0;0m▀\u001b[38;2;0;0;0;48;2;0;0;0m▀\u001b[38;2;0;0;0;48;2;0;0;0m▀\u001b[38;2;0;0;0;48;2;0;0;0m▀\u001b[38;2;0;0;0;48;2;0;0;0m▀\u001b[38;2;0;0;0;48;2;0;0;0m▀\u001b[38;2;0;0;0;48;2;0;0;0m▀\u001b[38;2;0;0;0;48;2;0;0;0m▀\u001b[38;2;0;0;0;48;2;0;0;0m▀\u001b[38;2;0;0;0;48;2;0;0;0m▀\u001b[38;2;0;0;0;48;2;0;0;0m▀\u001b[38;2;0;0;0;48;2;0;0;0m▀\u001b[38;2;0;0;0;48;2;0;0;0m▀\u001b[38;2;0;0;0;48;2;0;0;0m▀\u001b[38;2;0;0;0;48;2;0;0;0m▀\u001b[38;2;0;0;0;48;2;0;0;0m▀\u001b[38;2;0;0;0;48;2;0;0;0m▀\u001b[38;2;0;0;0;48;2;0;0;0m▀\u001b[38;2;0;0;0;48;2;0;0;0m▀\u001b[38;2;0;0;0;48;2;0;0;0m▀\u001b[38;2;0;0;0;48;2;0;0;0m▀\u001b[38;2;0;0;0;48;2;0;0;0m▀\u001b[0m\n",
       "\u001b[0m\u001b[38;2;0;0;0;48;2;0;0;0m▀\u001b[38;2;0;0;0;48;2;0;0;0m▀\u001b[38;2;0;0;0;48;2;0;0;0m▀\u001b[38;2;0;0;0;48;2;0;0;0m▀\u001b[38;2;0;0;0;48;2;0;0;0m▀\u001b[38;2;0;0;0;48;2;0;0;0m▀\u001b[38;2;0;0;0;48;2;0;0;0m▀\u001b[38;2;0;0;0;48;2;0;0;0m▀\u001b[38;2;0;0;0;48;2;0;0;0m▀\u001b[38;2;0;0;0;48;2;0;0;0m▀\u001b[38;2;0;0;0;48;2;0;0;0m▀\u001b[38;2;0;0;0;48;2;0;0;0m▀\u001b[38;2;0;0;0;48;2;0;0;0m▀\u001b[38;2;0;0;0;48;2;0;0;0m▀\u001b[38;2;0;0;0;48;2;0;0;0m▀\u001b[38;2;0;0;0;48;2;0;0;0m▀\u001b[38;2;0;0;0;48;2;0;0;0m▀\u001b[38;2;0;0;0;48;2;0;0;0m▀\u001b[38;2;0;0;0;48;2;0;0;0m▀\u001b[38;2;0;0;0;48;2;0;0;0m▀\u001b[38;2;0;0;0;48;2;0;0;0m▀\u001b[38;2;0;0;0;48;2;0;0;0m▀\u001b[38;2;0;0;0;48;2;0;0;0m▀\u001b[38;2;0;0;0;48;2;0;0;0m▀\u001b[38;2;0;0;0;48;2;0;0;0m▀\u001b[38;2;0;0;0;48;2;0;0;0m▀\u001b[38;2;0;0;0;48;2;0;0;0m▀\u001b[38;2;0;0;0;48;2;0;0;0m▀\u001b[38;2;0;0;0;48;2;0;0;0m▀\u001b[38;2;0;0;0;48;2;0;0;0m▀\u001b[38;2;0;0;0;48;2;0;0;0m▀\u001b[38;2;0;0;0;48;2;0;0;0m▀\u001b[38;2;0;0;0;48;2;0;0;0m▀\u001b[38;2;0;0;0;48;2;0;0;0m▀\u001b[38;2;0;0;0;48;2;0;0;0m▀\u001b[38;2;0;0;0;48;2;0;0;0m▀\u001b[38;2;0;0;0;48;2;0;0;0m▀\u001b[38;2;0;0;0;48;2;0;0;0m▀\u001b[38;2;0;0;0;48;2;0;0;0m▀\u001b[38;2;0;0;0;48;2;0;0;0m▀\u001b[38;2;0;0;0;48;2;0;0;0m▀\u001b[38;2;0;0;0;48;2;0;0;0m▀\u001b[38;2;0;0;0;48;2;0;0;0m▀\u001b[38;2;0;0;0;48;2;0;0;0m▀\u001b[38;2;0;0;0;48;2;0;0;0m▀\u001b[38;2;0;0;0;48;2;0;0;0m▀\u001b[38;2;0;0;0;48;2;0;0;0m▀\u001b[38;2;0;0;0;48;2;0;0;0m▀\u001b[38;2;0;0;0;48;2;0;0;0m▀\u001b[38;2;0;0;0;48;2;0;0;0m▀\u001b[38;2;0;0;0;48;2;0;0;0m▀\u001b[38;2;0;0;0;48;2;0;0;0m▀\u001b[38;2;0;0;0;48;2;0;0;0m▀\u001b[38;2;0;0;0;48;2;0;0;0m▀\u001b[38;2;0;0;0;48;2;0;0;0m▀\u001b[38;2;0;0;0;48;2;0;0;0m▀\u001b[0m\n",
       "\u001b[0m\u001b[38;2;0;0;0;48;2;0;0;0m▀\u001b[38;2;0;0;0;48;2;0;0;0m▀\u001b[38;2;0;0;0;48;2;0;0;0m▀\u001b[38;2;0;0;0;48;2;0;0;0m▀\u001b[38;2;0;0;0;48;2;0;0;0m▀\u001b[38;2;0;0;0;48;2;0;0;0m▀\u001b[38;2;0;0;0;48;2;0;0;0m▀\u001b[38;2;0;0;0;48;2;0;0;0m▀\u001b[38;2;0;0;0;48;2;0;0;0m▀\u001b[38;2;0;0;0;48;2;0;0;0m▀\u001b[38;2;0;0;0;48;2;0;0;0m▀\u001b[38;2;0;0;0;48;2;0;0;0m▀\u001b[38;2;0;0;0;48;2;0;0;0m▀\u001b[38;2;0;0;0;48;2;0;0;0m▀\u001b[38;2;0;0;0;48;2;0;0;0m▀\u001b[38;2;0;0;0;48;2;0;0;0m▀\u001b[38;2;0;0;0;48;2;0;0;0m▀\u001b[38;2;0;0;0;48;2;0;0;0m▀\u001b[38;2;0;0;0;48;2;0;0;0m▀\u001b[38;2;0;0;0;48;2;0;0;0m▀\u001b[38;2;0;0;0;48;2;0;0;0m▀\u001b[38;2;0;0;0;48;2;0;0;0m▀\u001b[38;2;0;0;0;48;2;0;0;0m▀\u001b[38;2;0;0;0;48;2;0;0;0m▀\u001b[38;2;0;0;0;48;2;0;0;0m▀\u001b[38;2;0;0;0;48;2;0;0;0m▀\u001b[38;2;0;0;0;48;2;0;0;0m▀\u001b[38;2;0;0;0;48;2;0;0;0m▀\u001b[38;2;0;0;0;48;2;0;0;0m▀\u001b[38;2;0;0;0;48;2;0;0;0m▀\u001b[38;2;0;0;0;48;2;0;0;0m▀\u001b[38;2;0;0;0;48;2;0;0;0m▀\u001b[38;2;0;0;0;48;2;0;0;0m▀\u001b[38;2;0;0;0;48;2;0;0;0m▀\u001b[38;2;0;0;0;48;2;0;0;0m▀\u001b[38;2;0;0;0;48;2;0;0;0m▀\u001b[38;2;0;0;0;48;2;0;0;0m▀\u001b[38;2;0;0;0;48;2;0;0;0m▀\u001b[38;2;0;0;0;48;2;0;0;0m▀\u001b[38;2;0;0;0;48;2;0;0;0m▀\u001b[38;2;0;0;0;48;2;0;0;0m▀\u001b[38;2;0;0;0;48;2;0;0;0m▀\u001b[38;2;0;0;0;48;2;0;0;0m▀\u001b[38;2;0;0;0;48;2;0;0;0m▀\u001b[38;2;0;0;0;48;2;0;0;0m▀\u001b[38;2;0;0;0;48;2;0;0;0m▀\u001b[38;2;0;0;0;48;2;0;0;0m▀\u001b[38;2;0;0;0;48;2;0;0;0m▀\u001b[38;2;0;0;0;48;2;0;0;0m▀\u001b[38;2;0;0;0;48;2;0;0;0m▀\u001b[38;2;0;0;0;48;2;0;0;0m▀\u001b[38;2;0;0;0;48;2;0;0;0m▀\u001b[38;2;0;0;0;48;2;0;0;0m▀\u001b[38;2;0;0;0;48;2;0;0;0m▀\u001b[38;2;0;0;0;48;2;0;0;0m▀\u001b[38;2;0;0;0;48;2;0;0;0m▀\u001b[0m\n"
      ]
     },
     "execution_count": 75,
     "metadata": {},
     "output_type": "execute_result"
    }
   ],
   "source": [
    "cnn_output = cnn_layer( images[:,:,:,1:3] )\n",
    "display( cnn_output |> size )\n",
    "convert2image( MNIST , cnn_output[:,:,1,1] )"
   ]
  },
  {
   "cell_type": "code",
   "execution_count": 76,
   "metadata": {},
   "outputs": [
    {
     "data": {
      "text/plain": [
       "40×40×1×1 Array{Float32, 4}:\n",
       "[:, :, 1, 1] =\n",
       " -0.296842   -0.0661195   -0.279876   …  -0.0407469   -0.172477   -0.182619\n",
       " -0.315039   -0.15262     -0.140161      -0.0940541   -0.0863759  -0.104741\n",
       "  0.0600206   0.0852771    0.192444       0.0525531    0.118596   -0.133707\n",
       " -0.155165   -0.0164133    0.166376      -0.0631082    0.0502599  -0.152207\n",
       " -0.124387   -0.0277064   -0.117278      -0.0410178   -0.173624   -0.183833\n",
       " -0.132012   -0.0639532   -0.0587323  …  -0.0946793   -0.0869501  -0.105438\n",
       "  0.0251507   0.0357341    0.0806409      0.0529024    0.119385   -0.134596\n",
       " -0.0651183  -0.0111077    0.0655452     -0.0363584    0.0773933  -0.134354\n",
       " -0.0607028  -0.0135211   -0.0572333     -0.0290149   -0.122817   -0.130039\n",
       " -0.0644239  -0.0312101   -0.0286622     -0.0669735   -0.0615061  -0.0745837\n",
       "  0.0122739   0.0174388    0.039354   …   0.0374217    0.0844494  -0.0952093\n",
       " -0.03387    -0.0949722   -0.0563448      0.00829351   0.0882951  -0.0714226\n",
       " -0.211273   -0.0470596   -0.199198      -0.00515683  -0.0218282  -0.0231118\n",
       "  ⋮                                   ⋱                           \n",
       " -0.176496   -0.0393133   -0.166409      -0.0515625   -0.218258   -0.231092\n",
       " -0.187315   -0.0907448   -0.0833368     -0.119019    -0.109303   -0.132543\n",
       "  0.035687    0.050704     0.114423   …   0.0665024    0.150076   -0.169197\n",
       " -0.0921113  -0.00348177   0.105116      -0.0409795    0.101951   -0.165612\n",
       " -0.0612252  -0.0136375   -0.0577258     -0.0343387   -0.145352   -0.153899\n",
       " -0.0649783  -0.0314787   -0.0289089     -0.0792622   -0.0727916  -0.0882688\n",
       "  0.0123795   0.0175888    0.0396926      0.0442881    0.0999446  -0.112679\n",
       " -0.0335036  -0.0676179   -0.0290418  …  -0.085793     0.0101899  -0.150911\n",
       " -0.155947   -0.0347361   -0.147034      -0.0493007   -0.208684   -0.220955\n",
       " -0.165507   -0.0801796   -0.073634      -0.113798    -0.104508   -0.126729\n",
       "  0.031532    0.0448006    0.101101       0.0635852    0.143492   -0.161775\n",
       " -0.0807641   0.0235929    0.119183       0.0334852    0.169156   -0.107893"
      ]
     },
     "execution_count": 76,
     "metadata": {},
     "output_type": "execute_result"
    }
   ],
   "source": [
    "x = rand(Float32, 10, 10, 1, 1); \n",
    "cnn_layer = ConvTranspose( (5,5) , 1 => 1 , pad=SamePad() , stride=4 )\n",
    "cnn_layer( x ) "
   ]
  },
  {
   "cell_type": "code",
   "execution_count": 77,
   "metadata": {},
   "outputs": [
    {
     "data": {
      "text/plain": [
       "(112, 112, 1, 3)"
      ]
     },
     "metadata": {},
     "output_type": "display_data"
    },
    {
     "data": {
      "image/png": "[encoded data removed]",
      "text/html": [
       "<img src=\"data:image/png;base64,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\">"
      ],
      "text/plain": [
       "\u001b[0m\u001b[38;2;0;0;0;48;2;0;0;0m▀\u001b[38;2;0;0;0;48;2;0;0;0m▀\u001b[38;2;0;0;0;48;2;0;0;0m▀\u001b[38;2;0;0;0;48;2;0;0;0m▀\u001b[38;2;0;0;0;48;2;0;0;0m▀\u001b[38;2;0;0;0;48;2;0;0;0m▀\u001b[38;2;0;0;0;48;2;0;0;0m▀\u001b[38;2;0;0;0;48;2;0;0;0m▀\u001b[38;2;0;0;0;48;2;0;0;0m▀\u001b[38;2;0;0;0;48;2;0;0;0m▀\u001b[38;2;0;0;0;48;2;0;0;0m▀\u001b[38;2;0;0;0;48;2;0;0;0m▀\u001b[38;2;0;0;0;48;2;0;0;0m▀\u001b[38;2;0;0;0;48;2;0;0;0m▀\u001b[38;2;0;0;0;48;2;0;0;0m▀\u001b[38;2;0;0;0;48;2;0;0;0m▀\u001b[38;2;0;0;0;48;2;0;0;0m▀\u001b[38;2;0;0;0;48;2;0;0;0m▀\u001b[38;2;0;0;0;48;2;0;0;0m▀\u001b[38;2;0;0;0;48;2;0;0;0m▀\u001b[38;2;0;0;0;48;2;0;0;0m▀\u001b[38;2;0;0;0;48;2;0;0;0m▀\u001b[38;2;0;0;0;48;2;0;0;0m▀\u001b[38;2;0;0;0;48;2;0;0;0m▀\u001b[38;2;0;0;0;48;2;0;0;0m▀\u001b[38;2;0;0;0;48;2;0;0;0m▀\u001b[38;2;0;0;0;48;2;0;0;0m▀\u001b[38;2;0;0;0;48;2;0;0;0m▀\u001b[38;2;0;0;0;48;2;0;0;0m▀\u001b[38;2;0;0;0;48;2;0;0;0m▀\u001b[38;2;0;0;0;48;2;0;0;0m▀\u001b[38;2;0;0;0;48;2;0;0;0m▀\u001b[38;2;0;0;0;48;2;0;0;0m▀\u001b[38;2;0;0;0;48;2;0;0;0m▀\u001b[38;2;0;0;0;48;2;0;0;0m▀\u001b[38;2;0;0;0;48;2;0;0;0m▀\u001b[38;2;0;0;0;48;2;0;0;0m▀\u001b[38;2;0;0;0;48;2;0;0;0m▀\u001b[38;2;0;0;0;48;2;0;0;0m▀\u001b[38;2;0;0;0;48;2;0;0;0m▀\u001b[38;2;0;0;0;48;2;0;0;0m▀\u001b[38;2;0;0;0;48;2;0;0;0m▀\u001b[38;2;0;0;0;48;2;0;0;0m▀\u001b[38;2;0;0;0;48;2;0;0;0m▀\u001b[38;2;0;0;0;48;2;0;0;0m▀\u001b[38;2;0;0;0;48;2;0;0;0m▀\u001b[38;2;0;0;0;48;2;0;0;0m▀\u001b[38;2;0;0;0;48;2;0;0;0m▀\u001b[38;2;0;0;0;48;2;0;0;0m▀\u001b[38;2;0;0;0;48;2;0;0;0m▀\u001b[38;2;0;0;0;48;2;0;0;0m▀\u001b[38;2;0;0;0;48;2;0;0;0m▀\u001b[38;2;0;0;0;48;2;0;0;0m▀\u001b[38;2;0;0;0;48;2;0;0;0m▀\u001b[38;2;0;0;0;48;2;0;0;0m▀\u001b[38;2;0;0;0;48;2;0;0;0m▀\u001b[38;2;0;0;0;48;2;0;0;0m▀\u001b[0m\n",
       "\u001b[0m\u001b[38;2;0;0;0;48;2;0;0;0m▀\u001b[38;2;0;0;0;48;2;0;0;0m▀\u001b[38;2;0;0;0;48;2;0;0;0m▀\u001b[38;2;0;0;0;48;2;0;0;0m▀\u001b[38;2;0;0;0;48;2;0;0;0m▀\u001b[38;2;0;0;0;48;2;0;0;0m▀\u001b[38;2;0;0;0;48;2;0;0;0m▀\u001b[38;2;0;0;0;48;2;0;0;0m▀\u001b[38;2;0;0;0;48;2;0;0;0m▀\u001b[38;2;0;0;0;48;2;0;0;0m▀\u001b[38;2;0;0;0;48;2;0;0;0m▀\u001b[38;2;0;0;0;48;2;0;0;0m▀\u001b[38;2;0;0;0;48;2;0;0;0m▀\u001b[38;2;0;0;0;48;2;0;0;0m▀\u001b[38;2;0;0;0;48;2;0;0;0m▀\u001b[38;2;0;0;0;48;2;0;0;0m▀\u001b[38;2;0;0;0;48;2;0;0;0m▀\u001b[38;2;0;0;0;48;2;0;0;0m▀\u001b[38;2;0;0;0;48;2;0;0;0m▀\u001b[38;2;0;0;0;48;2;0;0;0m▀\u001b[38;2;0;0;0;48;2;0;0;0m▀\u001b[38;2;0;0;0;48;2;0;0;0m▀\u001b[38;2;0;0;0;48;2;0;0;0m▀\u001b[38;2;0;0;0;48;2;0;0;0m▀\u001b[38;2;0;0;0;48;2;0;0;0m▀\u001b[38;2;0;0;0;48;2;0;0;0m▀\u001b[38;2;0;0;0;48;2;0;0;0m▀\u001b[38;2;0;0;0;48;2;0;0;0m▀\u001b[38;2;0;0;0;48;2;0;0;0m▀\u001b[38;2;0;0;0;48;2;0;0;0m▀\u001b[38;2;0;0;0;48;2;0;0;0m▀\u001b[38;2;0;0;0;48;2;0;0;0m▀\u001b[38;2;0;0;0;48;2;0;0;0m▀\u001b[38;2;0;0;0;48;2;0;0;0m▀\u001b[38;2;0;0;0;48;2;0;0;0m▀\u001b[38;2;0;0;0;48;2;0;0;0m▀\u001b[38;2;0;0;0;48;2;0;0;0m▀\u001b[38;2;0;0;0;48;2;0;0;0m▀\u001b[38;2;0;0;0;48;2;0;0;0m▀\u001b[38;2;0;0;0;48;2;0;0;0m▀\u001b[38;2;0;0;0;48;2;0;0;0m▀\u001b[38;2;0;0;0;48;2;0;0;0m▀\u001b[38;2;0;0;0;48;2;0;0;0m▀\u001b[38;2;0;0;0;48;2;0;0;0m▀\u001b[38;2;0;0;0;48;2;0;0;0m▀\u001b[38;2;0;0;0;48;2;0;0;0m▀\u001b[38;2;0;0;0;48;2;0;0;0m▀\u001b[38;2;0;0;0;48;2;0;0;0m▀\u001b[38;2;0;0;0;48;2;0;0;0m▀\u001b[38;2;0;0;0;48;2;0;0;0m▀\u001b[38;2;0;0;0;48;2;0;0;0m▀\u001b[38;2;0;0;0;48;2;0;0;0m▀\u001b[38;2;0;0;0;48;2;0;0;0m▀\u001b[38;2;0;0;0;48;2;0;0;0m▀\u001b[38;2;0;0;0;48;2;0;0;0m▀\u001b[38;2;0;0;0;48;2;0;0;0m▀\u001b[38;2;0;0;0;48;2;0;0;0m▀\u001b[0m\n",
       "\u001b[0m\u001b[38;2;0;0;0;48;2;0;0;0m▀\u001b[38;2;0;0;0;48;2;0;0;0m▀\u001b[38;2;0;0;0;48;2;0;0;0m▀\u001b[38;2;0;0;0;48;2;0;0;0m▀\u001b[38;2;0;0;0;48;2;0;0;0m▀\u001b[38;2;0;0;0;48;2;0;0;0m▀\u001b[38;2;0;0;0;48;2;0;0;0m▀\u001b[38;2;0;0;0;48;2;0;0;0m▀\u001b[38;2;0;0;0;48;2;0;0;0m▀\u001b[38;2;0;0;0;48;2;0;0;0m▀\u001b[38;2;0;0;0;48;2;0;0;0m▀\u001b[38;2;0;0;0;48;2;0;0;0m▀\u001b[38;2;0;0;0;48;2;0;0;0m▀\u001b[38;2;0;0;0;48;2;0;0;0m▀\u001b[38;2;0;0;0;48;2;0;0;0m▀\u001b[38;2;0;0;0;48;2;0;0;0m▀\u001b[38;2;0;0;0;48;2;0;0;0m▀\u001b[38;2;0;0;0;48;2;0;0;0m▀\u001b[38;2;0;0;0;48;2;0;0;0m▀\u001b[38;2;0;0;0;48;2;0;0;0m▀\u001b[38;2;0;0;0;48;2;0;0;0m▀\u001b[38;2;0;0;0;48;2;0;0;0m▀\u001b[38;2;0;0;0;48;2;0;0;0m▀\u001b[38;2;0;0;0;48;2;0;0;0m▀\u001b[38;2;0;0;0;48;2;0;0;0m▀\u001b[38;2;0;0;0;48;2;0;0;0m▀\u001b[38;2;0;0;0;48;2;0;0;0m▀\u001b[38;2;0;0;0;48;2;0;0;0m▀\u001b[38;2;0;0;0;48;2;0;0;0m▀\u001b[38;2;0;0;0;48;2;0;0;0m▀\u001b[38;2;0;0;0;48;2;0;0;0m▀\u001b[38;2;0;0;0;48;2;0;0;0m▀\u001b[38;2;0;0;0;48;2;0;0;0m▀\u001b[38;2;0;0;0;48;2;0;0;0m▀\u001b[38;2;0;0;0;48;2;0;0;0m▀\u001b[38;2;0;0;0;48;2;0;0;0m▀\u001b[38;2;0;0;0;48;2;0;0;0m▀\u001b[38;2;0;0;0;48;2;0;0;0m▀\u001b[38;2;0;0;0;48;2;0;0;0m▀\u001b[38;2;0;0;0;48;2;0;0;0m▀\u001b[38;2;0;0;0;48;2;0;0;0m▀\u001b[38;2;0;0;0;48;2;0;0;0m▀\u001b[38;2;0;0;0;48;2;0;0;0m▀\u001b[38;2;0;0;0;48;2;0;0;0m▀\u001b[38;2;0;0;0;48;2;0;0;0m▀\u001b[38;2;0;0;0;48;2;0;0;0m▀\u001b[38;2;0;0;0;48;2;0;0;0m▀\u001b[38;2;0;0;0;48;2;0;0;0m▀\u001b[38;2;0;0;0;48;2;0;0;0m▀\u001b[38;2;0;0;0;48;2;0;0;0m▀\u001b[38;2;0;0;0;48;2;0;0;0m▀\u001b[38;2;0;0;0;48;2;0;0;0m▀\u001b[38;2;0;0;0;48;2;0;0;0m▀\u001b[38;2;0;0;0;48;2;0;0;0m▀\u001b[38;2;0;0;0;48;2;0;0;0m▀\u001b[38;2;0;0;0;48;2;0;0;0m▀\u001b[38;2;0;0;0;48;2;0;0;0m▀\u001b[0m\n",
       "\u001b[0m\u001b[38;2;0;0;0;48;2;0;0;0m▀\u001b[38;2;0;0;0;48;2;0;0;0m▀\u001b[38;2;0;0;0;48;2;0;0;0m▀\u001b[38;2;0;0;0;48;2;0;0;0m▀\u001b[38;2;0;0;0;48;2;0;0;0m▀\u001b[38;2;0;0;0;48;2;0;0;0m▀\u001b[38;2;0;0;0;48;2;0;0;0m▀\u001b[38;2;0;0;0;48;2;0;0;0m▀\u001b[38;2;0;0;0;48;2;0;0;0m▀\u001b[38;2;0;0;0;48;2;0;0;0m▀\u001b[38;2;0;0;0;48;2;0;0;0m▀\u001b[38;2;0;0;0;48;2;0;0;0m▀\u001b[38;2;0;0;0;48;2;0;0;0m▀\u001b[38;2;0;0;0;48;2;0;0;0m▀\u001b[38;2;0;0;0;48;2;0;0;0m▀\u001b[38;2;0;0;0;48;2;0;0;0m▀\u001b[38;2;0;0;0;48;2;0;0;0m▀\u001b[38;2;0;0;0;48;2;0;0;0m▀\u001b[38;2;0;0;0;48;2;0;0;0m▀\u001b[38;2;0;0;0;48;2;0;0;0m▀\u001b[38;2;0;0;0;48;2;0;0;0m▀\u001b[38;2;0;0;0;48;2;0;0;0m▀\u001b[38;2;0;0;0;48;2;0;0;0m▀\u001b[38;2;0;0;0;48;2;0;0;0m▀\u001b[38;2;0;0;0;48;2;0;0;0m▀\u001b[38;2;0;0;0;48;2;0;0;0m▀\u001b[38;2;0;0;0;48;2;0;0;0m▀\u001b[38;2;0;0;0;48;2;0;0;0m▀\u001b[38;2;0;0;0;48;2;0;0;0m▀\u001b[38;2;0;0;0;48;2;0;0;0m▀\u001b[38;2;0;0;0;48;2;0;0;0m▀\u001b[38;2;0;0;0;48;2;0;0;0m▀\u001b[38;2;0;0;0;48;2;0;0;0m▀\u001b[38;2;0;0;0;48;2;0;0;0m▀\u001b[38;2;0;0;0;48;2;0;0;0m▀\u001b[38;2;0;0;0;48;2;0;0;0m▀\u001b[38;2;0;0;0;48;2;0;0;0m▀\u001b[38;2;0;0;0;48;2;0;0;0m▀\u001b[38;2;0;0;0;48;2;0;0;0m▀\u001b[38;2;0;0;0;48;2;0;0;0m▀\u001b[38;2;0;0;0;48;2;0;0;0m▀\u001b[38;2;0;0;0;48;2;0;0;0m▀\u001b[38;2;0;0;0;48;2;0;0;0m▀\u001b[38;2;0;0;0;48;2;0;0;0m▀\u001b[38;2;0;0;0;48;2;0;0;0m▀\u001b[38;2;0;0;0;48;2;0;0;0m▀\u001b[38;2;0;0;0;48;2;0;0;0m▀\u001b[38;2;0;0;0;48;2;0;0;0m▀\u001b[38;2;0;0;0;48;2;0;0;0m▀\u001b[38;2;0;0;0;48;2;0;0;0m▀\u001b[38;2;0;0;0;48;2;0;0;0m▀\u001b[38;2;0;0;0;48;2;0;0;0m▀\u001b[38;2;0;0;0;48;2;0;0;0m▀\u001b[38;2;0;0;0;48;2;0;0;0m▀\u001b[38;2;0;0;0;48;2;0;0;0m▀\u001b[38;2;0;0;0;48;2;0;0;0m▀\u001b[38;2;0;0;0;48;2;0;0;0m▀\u001b[0m\n",
       "\u001b[0m\u001b[38;2;0;0;0;48;2;0;0;0m▀\u001b[38;2;0;0;0;48;2;0;0;0m▀\u001b[38;2;0;0;0;48;2;0;0;0m▀\u001b[38;2;0;0;0;48;2;0;0;0m▀\u001b[38;2;0;0;0;48;2;0;0;0m▀\u001b[38;2;0;0;0;48;2;0;0;0m▀\u001b[38;2;0;0;0;48;2;0;0;0m▀\u001b[38;2;0;0;0;48;2;0;0;0m▀\u001b[38;2;0;0;0;48;2;0;0;0m▀\u001b[38;2;0;0;0;48;2;0;0;0m▀\u001b[38;2;0;0;0;48;2;0;0;0m▀\u001b[38;2;0;0;0;48;2;0;0;0m▀\u001b[38;2;0;0;0;48;2;0;0;0m▀\u001b[38;2;0;0;0;48;2;0;0;0m▀\u001b[38;2;0;0;0;48;2;0;0;0m▀\u001b[38;2;0;0;0;48;2;0;0;0m▀\u001b[38;2;0;0;0;48;2;0;0;0m▀\u001b[38;2;0;0;0;48;2;0;0;0m▀\u001b[38;2;0;0;0;48;2;0;0;0m▀\u001b[38;2;0;0;0;48;2;0;0;0m▀\u001b[38;2;0;0;0;48;2;0;0;0m▀\u001b[38;2;0;0;0;48;2;0;0;0m▀\u001b[38;2;0;0;0;48;2;0;0;0m▀\u001b[38;2;0;0;0;48;2;0;0;0m▀\u001b[38;2;0;0;0;48;2;0;0;0m▀\u001b[38;2;0;0;0;48;2;0;0;0m▀\u001b[38;2;0;0;0;48;2;0;0;0m▀\u001b[38;2;0;0;0;48;2;0;0;0m▀\u001b[38;2;0;0;0;48;2;0;0;0m▀\u001b[38;2;0;0;0;48;2;0;0;0m▀\u001b[38;2;0;0;0;48;2;0;0;0m▀\u001b[38;2;0;0;0;48;2;0;0;0m▀\u001b[38;2;0;0;0;48;2;0;0;0m▀\u001b[38;2;0;0;0;48;2;0;0;0m▀\u001b[38;2;0;0;0;48;2;0;0;0m▀\u001b[38;2;0;0;0;48;2;0;0;0m▀\u001b[38;2;0;0;0;48;2;0;0;0m▀\u001b[38;2;0;0;0;48;2;0;0;0m▀\u001b[38;2;0;0;0;48;2;0;0;0m▀\u001b[38;2;0;0;0;48;2;0;0;0m▀\u001b[38;2;0;0;0;48;2;0;0;0m▀\u001b[38;2;0;0;0;48;2;0;0;0m▀\u001b[38;2;0;0;0;48;2;0;0;0m▀\u001b[38;2;0;0;0;48;2;0;0;0m▀\u001b[38;2;0;0;0;48;2;0;0;0m▀\u001b[38;2;0;0;0;48;2;0;0;0m▀\u001b[38;2;0;0;0;48;2;0;0;0m▀\u001b[38;2;0;0;0;48;2;0;0;0m▀\u001b[38;2;0;0;0;48;2;0;0;0m▀\u001b[38;2;0;0;0;48;2;0;0;0m▀\u001b[38;2;0;0;0;48;2;0;0;0m▀\u001b[38;2;0;0;0;48;2;0;0;0m▀\u001b[38;2;0;0;0;48;2;0;0;0m▀\u001b[38;2;0;0;0;48;2;0;0;0m▀\u001b[38;2;0;0;0;48;2;0;0;0m▀\u001b[38;2;0;0;0;48;2;0;0;0m▀\u001b[38;2;0;0;0;48;2;0;0;0m▀\u001b[0m\n",
       "\u001b[0m\u001b[38;2;0;0;0;48;2;0;0;0m▀\u001b[38;2;0;0;0;48;2;0;0;0m▀\u001b[38;2;0;0;0;48;2;0;0;0m▀\u001b[38;2;0;0;0;48;2;0;0;0m▀\u001b[38;2;0;0;0;48;2;0;0;0m▀\u001b[38;2;0;0;0;48;2;0;0;0m▀\u001b[38;2;0;0;0;48;2;0;0;0m▀\u001b[38;2;0;0;0;48;2;0;0;0m▀\u001b[38;2;0;0;0;48;2;0;0;0m▀\u001b[38;2;0;0;0;48;2;0;0;0m▀\u001b[38;2;0;0;0;48;2;0;0;0m▀\u001b[38;2;0;0;0;48;2;0;0;0m▀\u001b[38;2;0;0;0;48;2;0;0;0m▀\u001b[38;2;0;0;0;48;2;0;0;0m▀\u001b[38;2;0;0;0;48;2;0;0;0m▀\u001b[38;2;0;0;0;48;2;0;0;0m▀\u001b[38;2;0;0;0;48;2;0;0;0m▀\u001b[38;2;0;0;0;48;2;0;0;0m▀\u001b[38;2;0;0;0;48;2;0;0;0m▀\u001b[38;2;0;0;0;48;2;0;0;0m▀\u001b[38;2;0;0;0;48;2;0;0;0m▀\u001b[38;2;0;0;0;48;2;0;0;0m▀\u001b[38;2;0;0;0;48;2;0;0;0m▀\u001b[38;2;0;0;0;48;2;0;0;0m▀\u001b[38;2;0;0;0;48;2;0;0;0m▀\u001b[38;2;0;0;0;48;2;0;0;0m▀\u001b[38;2;0;0;0;48;2;0;0;0m▀\u001b[38;2;0;0;0;48;2;0;0;0m▀\u001b[38;2;0;0;0;48;2;0;0;0m▀\u001b[38;2;0;0;0;48;2;0;0;0m▀\u001b[38;2;0;0;0;48;2;0;0;0m▀\u001b[38;2;0;0;0;48;2;0;0;0m▀\u001b[38;2;0;0;0;48;2;0;0;0m▀\u001b[38;2;0;0;0;48;2;0;0;0m▀\u001b[38;2;0;0;0;48;2;0;0;0m▀\u001b[38;2;0;0;0;48;2;0;0;0m▀\u001b[38;2;0;0;0;48;2;0;0;0m▀\u001b[38;2;0;0;0;48;2;0;0;0m▀\u001b[38;2;0;0;0;48;2;0;0;0m▀\u001b[38;2;0;0;0;48;2;0;0;0m▀\u001b[38;2;0;0;0;48;2;0;0;0m▀\u001b[38;2;0;0;0;48;2;0;0;0m▀\u001b[38;2;0;0;0;48;2;0;0;0m▀\u001b[38;2;0;0;0;48;2;0;0;0m▀\u001b[38;2;0;0;0;48;2;0;0;0m▀\u001b[38;2;0;0;0;48;2;0;0;0m▀\u001b[38;2;0;0;0;48;2;0;0;0m▀\u001b[38;2;0;0;0;48;2;0;0;0m▀\u001b[38;2;0;0;0;48;2;4;4;4m▀\u001b[38;2;0;0;0;48;2;0;0;0m▀\u001b[38;2;0;0;0;48;2;0;0;0m▀\u001b[38;2;0;0;0;48;2;0;0;0m▀\u001b[38;2;0;0;0;48;2;0;0;0m▀\u001b[38;2;0;0;0;48;2;0;0;0m▀\u001b[38;2;0;0;0;48;2;0;0;0m▀\u001b[38;2;0;0;0;48;2;0;0;0m▀\u001b[38;2;0;0;0;48;2;0;0;0m▀\u001b[0m\n",
       "\u001b[0m\u001b[38;2;0;0;0;48;2;0;0;0m▀\u001b[38;2;0;0;0;48;2;0;0;0m▀\u001b[38;2;0;0;0;48;2;0;0;0m▀\u001b[38;2;0;0;0;48;2;0;0;0m▀\u001b[38;2;0;0;0;48;2;0;0;0m▀\u001b[38;2;0;0;0;48;2;0;0;0m▀\u001b[38;2;0;0;0;48;2;0;0;0m▀\u001b[38;2;0;0;0;48;2;0;0;0m▀\u001b[38;2;0;0;0;48;2;0;0;0m▀\u001b[38;2;0;0;0;48;2;0;0;0m▀\u001b[38;2;0;0;0;48;2;0;0;0m▀\u001b[38;2;0;0;0;48;2;0;0;0m▀\u001b[38;2;0;0;0;48;2;0;0;0m▀\u001b[38;2;0;0;0;48;2;0;0;0m▀\u001b[38;2;0;0;0;48;2;0;0;0m▀\u001b[38;2;0;0;0;48;2;0;0;0m▀\u001b[38;2;0;0;0;48;2;0;0;0m▀\u001b[38;2;0;0;0;48;2;0;0;0m▀\u001b[38;2;0;0;0;48;2;0;0;0m▀\u001b[38;2;0;0;0;48;2;0;0;0m▀\u001b[38;2;0;0;0;48;2;0;0;0m▀\u001b[38;2;0;0;0;48;2;0;0;0m▀\u001b[38;2;0;0;0;48;2;0;0;0m▀\u001b[38;2;0;0;0;48;2;0;0;0m▀\u001b[38;2;0;0;0;48;2;0;0;0m▀\u001b[38;2;0;0;0;48;2;0;0;0m▀\u001b[38;2;0;0;0;48;2;0;0;0m▀\u001b[38;2;0;0;0;48;2;0;0;0m▀\u001b[38;2;0;0;0;48;2;0;0;0m▀\u001b[38;2;0;0;0;48;2;0;0;0m▀\u001b[38;2;0;0;0;48;2;0;0;0m▀\u001b[38;2;0;0;0;48;2;0;0;0m▀\u001b[38;2;0;0;0;48;2;0;0;0m▀\u001b[38;2;0;0;0;48;2;0;0;0m▀\u001b[38;2;0;0;0;48;2;0;0;0m▀\u001b[38;2;0;0;0;48;2;0;0;0m▀\u001b[38;2;0;0;0;48;2;0;0;0m▀\u001b[38;2;0;0;0;48;2;0;0;0m▀\u001b[38;2;0;0;0;48;2;0;0;0m▀\u001b[38;2;0;0;0;48;2;0;0;0m▀\u001b[38;2;0;0;0;48;2;0;0;0m▀\u001b[38;2;0;0;0;48;2;0;0;0m▀\u001b[38;2;0;0;0;48;2;0;0;0m▀\u001b[38;2;0;0;0;48;2;0;0;0m▀\u001b[38;2;0;0;0;48;2;0;0;0m▀\u001b[38;2;0;0;0;48;2;0;0;0m▀\u001b[38;2;0;0;0;48;2;0;0;0m▀\u001b[38;2;0;0;0;48;2;0;0;0m▀\u001b[38;2;0;0;0;48;2;2;2;2m▀\u001b[38;2;0;0;0;48;2;0;0;0m▀\u001b[38;2;0;0;0;48;2;0;0;0m▀\u001b[38;2;0;0;0;48;2;0;0;0m▀\u001b[38;2;0;0;0;48;2;0;0;0m▀\u001b[38;2;0;0;0;48;2;0;0;0m▀\u001b[38;2;0;0;0;48;2;0;0;0m▀\u001b[38;2;0;0;0;48;2;0;0;0m▀\u001b[38;2;0;0;0;48;2;0;0;0m▀\u001b[0m\n",
       "\u001b[0m\u001b[38;2;0;0;0;48;2;0;0;0m▀\u001b[38;2;0;0;0;48;2;0;0;0m▀\u001b[38;2;0;0;0;48;2;0;0;0m▀\u001b[38;2;0;0;0;48;2;0;0;0m▀\u001b[38;2;0;0;0;48;2;0;0;0m▀\u001b[38;2;0;0;0;48;2;0;0;0m▀\u001b[38;2;0;0;0;48;2;0;0;0m▀\u001b[38;2;0;0;0;48;2;0;0;0m▀\u001b[38;2;0;0;0;48;2;0;0;0m▀\u001b[38;2;0;0;0;48;2;0;0;0m▀\u001b[38;2;0;0;0;48;2;0;0;0m▀\u001b[38;2;0;0;0;48;2;0;0;0m▀\u001b[38;2;0;0;0;48;2;0;0;0m▀\u001b[38;2;0;0;0;48;2;0;0;0m▀\u001b[38;2;0;0;0;48;2;0;0;0m▀\u001b[38;2;0;0;0;48;2;0;0;0m▀\u001b[38;2;0;0;0;48;2;0;0;0m▀\u001b[38;2;0;0;0;48;2;0;0;0m▀\u001b[38;2;0;0;0;48;2;0;0;0m▀\u001b[38;2;0;0;0;48;2;0;0;0m▀\u001b[38;2;0;0;0;48;2;0;0;0m▀\u001b[38;2;0;0;0;48;2;0;0;0m▀\u001b[38;2;0;0;0;48;2;0;0;0m▀\u001b[38;2;0;0;0;48;2;0;0;0m▀\u001b[38;2;0;0;0;48;2;0;0;0m▀\u001b[38;2;0;0;0;48;2;0;0;0m▀\u001b[38;2;0;0;0;48;2;0;0;0m▀\u001b[38;2;0;0;0;48;2;0;0;0m▀\u001b[38;2;0;0;0;48;2;0;0;0m▀\u001b[38;2;0;0;0;48;2;0;0;0m▀\u001b[38;2;0;0;0;48;2;0;0;0m▀\u001b[38;2;0;0;0;48;2;0;0;0m▀\u001b[38;2;0;0;0;48;2;0;0;0m▀\u001b[38;2;0;0;0;48;2;0;0;0m▀\u001b[38;2;0;0;0;48;2;0;0;0m▀\u001b[38;2;0;0;0;48;2;0;0;0m▀\u001b[38;2;0;0;0;48;2;0;0;0m▀\u001b[38;2;0;0;0;48;2;0;0;0m▀\u001b[38;2;0;0;0;48;2;0;0;0m▀\u001b[38;2;0;0;0;48;2;0;0;0m▀\u001b[38;2;0;0;0;48;2;0;0;0m▀\u001b[38;2;0;0;0;48;2;0;0;0m▀\u001b[38;2;0;0;0;48;2;0;0;0m▀\u001b[38;2;0;0;0;48;2;0;0;0m▀\u001b[38;2;0;0;0;48;2;0;0;0m▀\u001b[38;2;0;0;0;48;2;0;0;0m▀\u001b[38;2;0;0;0;48;2;1;1;1m▀\u001b[38;2;0;0;0;48;2;0;0;0m▀\u001b[38;2;0;0;0;48;2;0;0;0m▀\u001b[38;2;0;0;0;48;2;0;0;0m▀\u001b[38;2;0;0;0;48;2;0;0;0m▀\u001b[38;2;0;0;0;48;2;0;0;0m▀\u001b[38;2;0;0;0;48;2;0;0;0m▀\u001b[38;2;0;0;0;48;2;0;0;0m▀\u001b[38;2;0;0;0;48;2;0;0;0m▀\u001b[38;2;0;0;0;48;2;0;0;0m▀\u001b[38;2;0;0;0;48;2;0;0;0m▀\u001b[0m\n",
       "\u001b[0m\u001b[38;2;0;0;0;48;2;0;0;0m▀\u001b[38;2;0;0;0;48;2;0;0;0m▀\u001b[38;2;0;0;0;48;2;0;0;0m▀\u001b[38;2;0;0;0;48;2;0;0;0m▀\u001b[38;2;0;0;0;48;2;0;0;0m▀\u001b[38;2;0;0;0;48;2;0;0;0m▀\u001b[38;2;0;0;0;48;2;0;0;0m▀\u001b[38;2;0;0;0;48;2;0;0;0m▀\u001b[38;2;0;0;0;48;2;0;0;0m▀\u001b[38;2;0;0;0;48;2;0;0;0m▀\u001b[38;2;0;0;0;48;2;0;0;0m▀\u001b[38;2;0;0;0;48;2;0;0;0m▀\u001b[38;2;0;0;0;48;2;0;0;0m▀\u001b[38;2;0;0;0;48;2;0;0;0m▀\u001b[38;2;0;0;0;48;2;0;0;0m▀\u001b[38;2;0;0;0;48;2;0;0;0m▀\u001b[38;2;0;0;0;48;2;0;0;0m▀\u001b[38;2;0;0;0;48;2;0;0;0m▀\u001b[38;2;0;0;0;48;2;0;0;0m▀\u001b[38;2;0;0;0;48;2;0;0;0m▀\u001b[38;2;0;0;0;48;2;0;0;0m▀\u001b[38;2;0;0;0;48;2;0;0;0m▀\u001b[38;2;0;0;0;48;2;0;0;0m▀\u001b[38;2;0;0;0;48;2;0;0;0m▀\u001b[38;2;0;0;0;48;2;0;0;0m▀\u001b[38;2;0;0;0;48;2;0;0;0m▀\u001b[38;2;0;0;0;48;2;0;0;0m▀\u001b[38;2;0;0;0;48;2;0;0;0m▀\u001b[38;2;0;0;0;48;2;0;0;0m▀\u001b[38;2;0;0;0;48;2;0;0;0m▀\u001b[38;2;0;0;0;48;2;0;0;0m▀\u001b[38;2;0;0;0;48;2;0;0;0m▀\u001b[38;2;0;0;0;48;2;0;0;0m▀\u001b[38;2;0;0;0;48;2;0;0;0m▀\u001b[38;2;0;0;0;48;2;0;0;0m▀\u001b[38;2;0;0;0;48;2;0;0;0m▀\u001b[38;2;0;0;0;48;2;7;7;7m▀\u001b[38;2;0;0;0;48;2;0;0;0m▀\u001b[38;2;0;0;0;48;2;0;0;0m▀\u001b[38;2;0;0;0;48;2;0;0;0m▀\u001b[38;2;0;0;0;48;2;0;0;0m▀\u001b[38;2;0;0;0;48;2;0;0;0m▀\u001b[38;2;0;0;0;48;2;0;0;0m▀\u001b[38;2;0;0;0;48;2;0;0;0m▀\u001b[38;2;0;0;0;48;2;0;0;0m▀\u001b[38;2;0;0;0;48;2;0;0;0m▀\u001b[38;2;0;0;0;48;2;0;0;0m▀\u001b[38;2;0;0;0;48;2;0;0;0m▀\u001b[38;2;0;0;0;48;2;0;0;0m▀\u001b[38;2;0;0;0;48;2;0;0;0m▀\u001b[38;2;0;0;0;48;2;0;0;0m▀\u001b[38;2;0;0;0;48;2;0;0;0m▀\u001b[38;2;0;0;0;48;2;0;0;0m▀\u001b[38;2;0;0;0;48;2;0;0;0m▀\u001b[38;2;0;0;0;48;2;0;0;0m▀\u001b[38;2;0;0;0;48;2;0;0;0m▀\u001b[38;2;0;0;0;48;2;0;0;0m▀\u001b[0m\n",
       "\u001b[0m\u001b[38;2;0;0;0;48;2;0;0;0m▀\u001b[38;2;0;0;0;48;2;0;0;0m▀\u001b[38;2;0;0;0;48;2;0;0;0m▀\u001b[38;2;0;0;0;48;2;0;0;0m▀\u001b[38;2;0;0;0;48;2;0;0;0m▀\u001b[38;2;0;0;0;48;2;0;0;0m▀\u001b[38;2;0;0;0;48;2;0;0;0m▀\u001b[38;2;0;0;0;48;2;0;0;0m▀\u001b[38;2;0;0;0;48;2;0;0;0m▀\u001b[38;2;0;0;0;48;2;0;0;0m▀\u001b[38;2;0;0;0;48;2;0;0;0m▀\u001b[38;2;0;0;0;48;2;0;0;0m▀\u001b[38;2;0;0;0;48;2;0;0;0m▀\u001b[38;2;0;0;0;48;2;0;0;0m▀\u001b[38;2;0;0;0;48;2;0;0;0m▀\u001b[38;2;0;0;0;48;2;0;0;0m▀\u001b[38;2;0;0;0;48;2;0;0;0m▀\u001b[38;2;0;0;0;48;2;0;0;0m▀\u001b[38;2;0;0;0;48;2;0;0;0m▀\u001b[38;2;0;0;0;48;2;0;0;0m▀\u001b[38;2;0;0;0;48;2;0;0;0m▀\u001b[38;2;0;0;0;48;2;0;0;0m▀\u001b[38;2;0;0;0;48;2;0;0;0m▀\u001b[38;2;0;0;0;48;2;0;0;0m▀\u001b[38;2;0;0;0;48;2;0;0;0m▀\u001b[38;2;0;0;0;48;2;0;0;0m▀\u001b[38;2;0;0;0;48;2;0;0;0m▀\u001b[38;2;0;0;0;48;2;0;0;0m▀\u001b[38;2;0;0;0;48;2;5;5;5m▀\u001b[38;2;0;0;0;48;2;0;0;0m▀\u001b[38;2;0;0;0;48;2;0;0;0m▀\u001b[38;2;0;0;0;48;2;0;0;0m▀\u001b[38;2;0;0;0;48;2;0;0;0m▀\u001b[38;2;0;0;0;48;2;0;0;0m▀\u001b[38;2;0;0;0;48;2;0;0;0m▀\u001b[38;2;0;0;0;48;2;0;0;0m▀\u001b[38;2;0;0;0;48;2;5;5;5m▀\u001b[38;2;0;0;0;48;2;0;0;0m▀\u001b[38;2;0;0;0;48;2;0;0;0m▀\u001b[38;2;0;0;0;48;2;0;0;0m▀\u001b[38;2;0;0;0;48;2;0;0;0m▀\u001b[38;2;0;0;0;48;2;0;0;0m▀\u001b[38;2;0;0;0;48;2;0;0;0m▀\u001b[38;2;0;0;0;48;2;0;0;0m▀\u001b[38;2;0;0;0;48;2;0;0;0m▀\u001b[38;2;0;0;0;48;2;0;0;0m▀\u001b[38;2;0;0;0;48;2;0;0;0m▀\u001b[38;2;0;0;0;48;2;0;0;0m▀\u001b[38;2;0;0;0;48;2;0;0;0m▀\u001b[38;2;0;0;0;48;2;0;0;0m▀\u001b[38;2;0;0;0;48;2;0;0;0m▀\u001b[38;2;0;0;0;48;2;0;0;0m▀\u001b[38;2;0;0;0;48;2;0;0;0m▀\u001b[38;2;0;0;0;48;2;0;0;0m▀\u001b[38;2;0;0;0;48;2;0;0;0m▀\u001b[38;2;0;0;0;48;2;0;0;0m▀\u001b[38;2;0;0;0;48;2;0;0;0m▀\u001b[0m\n",
       "\u001b[0m\u001b[38;2;0;0;0;48;2;0;0;0m▀\u001b[38;2;0;0;0;48;2;0;0;0m▀\u001b[38;2;0;0;0;48;2;0;0;0m▀\u001b[38;2;0;0;0;48;2;0;0;0m▀\u001b[38;2;0;0;0;48;2;0;0;0m▀\u001b[38;2;0;0;0;48;2;0;0;0m▀\u001b[38;2;0;0;0;48;2;0;0;0m▀\u001b[38;2;0;0;0;48;2;0;0;0m▀\u001b[38;2;0;0;0;48;2;0;0;0m▀\u001b[38;2;0;0;0;48;2;0;0;0m▀\u001b[38;2;0;0;0;48;2;0;0;0m▀\u001b[38;2;0;0;0;48;2;0;0;0m▀\u001b[38;2;0;0;0;48;2;0;0;0m▀\u001b[38;2;0;0;0;48;2;0;0;0m▀\u001b[38;2;0;0;0;48;2;0;0;0m▀\u001b[38;2;0;0;0;48;2;0;0;0m▀\u001b[38;2;0;0;0;48;2;0;0;0m▀\u001b[38;2;0;0;0;48;2;0;0;0m▀\u001b[38;2;0;0;0;48;2;0;0;0m▀\u001b[38;2;0;0;0;48;2;0;0;0m▀\u001b[38;2;0;0;0;48;2;0;0;0m▀\u001b[38;2;0;0;0;48;2;0;0;0m▀\u001b[38;2;0;0;0;48;2;0;0;0m▀\u001b[38;2;0;0;0;48;2;0;0;0m▀\u001b[38;2;0;0;0;48;2;0;0;0m▀\u001b[38;2;0;0;0;48;2;0;0;0m▀\u001b[38;2;0;0;0;48;2;0;0;0m▀\u001b[38;2;0;0;0;48;2;0;0;0m▀\u001b[38;2;0;0;0;48;2;1;1;1m▀\u001b[38;2;0;0;0;48;2;0;0;0m▀\u001b[38;2;0;0;0;48;2;0;0;0m▀\u001b[38;2;0;0;0;48;2;0;0;0m▀\u001b[38;2;0;0;0;48;2;0;0;0m▀\u001b[38;2;0;0;0;48;2;0;0;0m▀\u001b[38;2;0;0;0;48;2;0;0;0m▀\u001b[38;2;0;0;0;48;2;0;0;0m▀\u001b[38;2;0;0;0;48;2;0;0;0m▀\u001b[38;2;0;0;0;48;2;0;0;0m▀\u001b[38;2;0;0;0;48;2;0;0;0m▀\u001b[38;2;0;0;0;48;2;0;0;0m▀\u001b[38;2;0;0;0;48;2;0;0;0m▀\u001b[38;2;0;0;0;48;2;0;0;0m▀\u001b[38;2;0;0;0;48;2;0;0;0m▀\u001b[38;2;0;0;0;48;2;0;0;0m▀\u001b[38;2;0;0;0;48;2;0;0;0m▀\u001b[38;2;0;0;0;48;2;0;0;0m▀\u001b[38;2;0;0;0;48;2;0;0;0m▀\u001b[38;2;0;0;0;48;2;0;0;0m▀\u001b[38;2;0;0;0;48;2;0;0;0m▀\u001b[38;2;0;0;0;48;2;0;0;0m▀\u001b[38;2;0;0;0;48;2;0;0;0m▀\u001b[38;2;0;0;0;48;2;0;0;0m▀\u001b[38;2;0;0;0;48;2;0;0;0m▀\u001b[38;2;0;0;0;48;2;0;0;0m▀\u001b[38;2;0;0;0;48;2;0;0;0m▀\u001b[38;2;0;0;0;48;2;0;0;0m▀\u001b[38;2;0;0;0;48;2;0;0;0m▀\u001b[0m\n",
       "\u001b[0m\u001b[38;2;0;0;0;48;2;0;0;0m▀\u001b[38;2;0;0;0;48;2;0;0;0m▀\u001b[38;2;0;0;0;48;2;0;0;0m▀\u001b[38;2;0;0;0;48;2;0;0;0m▀\u001b[38;2;0;0;0;48;2;0;0;0m▀\u001b[38;2;0;0;0;48;2;0;0;0m▀\u001b[38;2;0;0;0;48;2;0;0;0m▀\u001b[38;2;0;0;0;48;2;0;0;0m▀\u001b[38;2;0;0;0;48;2;0;0;0m▀\u001b[38;2;0;0;0;48;2;0;0;0m▀\u001b[38;2;0;0;0;48;2;0;0;0m▀\u001b[38;2;0;0;0;48;2;0;0;0m▀\u001b[38;2;0;0;0;48;2;0;0;0m▀\u001b[38;2;0;0;0;48;2;0;0;0m▀\u001b[38;2;0;0;0;48;2;0;0;0m▀\u001b[38;2;0;0;0;48;2;0;0;0m▀\u001b[38;2;0;0;0;48;2;0;0;0m▀\u001b[38;2;0;0;0;48;2;0;0;0m▀\u001b[38;2;0;0;0;48;2;0;0;0m▀\u001b[38;2;0;0;0;48;2;0;0;0m▀\u001b[38;2;0;0;0;48;2;0;0;0m▀\u001b[38;2;0;0;0;48;2;0;0;0m▀\u001b[38;2;0;0;0;48;2;0;0;0m▀\u001b[38;2;0;0;0;48;2;0;0;0m▀\u001b[38;2;0;0;0;48;2;0;0;0m▀\u001b[38;2;0;0;0;48;2;0;0;0m▀\u001b[38;2;0;0;0;48;2;0;0;0m▀\u001b[38;2;0;0;0;48;2;0;0;0m▀\u001b[38;2;0;0;0;48;2;3;3;3m▀\u001b[38;2;0;0;0;48;2;0;0;0m▀\u001b[38;2;0;0;0;48;2;0;0;0m▀\u001b[38;2;0;0;0;48;2;0;0;0m▀\u001b[38;2;0;0;0;48;2;0;0;0m▀\u001b[38;2;0;0;0;48;2;0;0;0m▀\u001b[38;2;0;0;0;48;2;0;0;0m▀\u001b[38;2;0;0;0;48;2;0;0;0m▀\u001b[38;2;0;0;0;48;2;0;0;0m▀\u001b[38;2;0;0;0;48;2;0;0;0m▀\u001b[38;2;0;0;0;48;2;0;0;0m▀\u001b[38;2;0;0;0;48;2;0;0;0m▀\u001b[38;2;0;0;0;48;2;0;0;0m▀\u001b[38;2;0;0;0;48;2;0;0;0m▀\u001b[38;2;0;0;0;48;2;0;0;0m▀\u001b[38;2;0;0;0;48;2;0;0;0m▀\u001b[38;2;0;0;0;48;2;0;0;0m▀\u001b[38;2;0;0;0;48;2;0;0;0m▀\u001b[38;2;0;0;0;48;2;0;0;0m▀\u001b[38;2;0;0;0;48;2;0;0;0m▀\u001b[38;2;0;0;0;48;2;0;0;0m▀\u001b[38;2;0;0;0;48;2;0;0;0m▀\u001b[38;2;0;0;0;48;2;0;0;0m▀\u001b[38;2;0;0;0;48;2;0;0;0m▀\u001b[38;2;0;0;0;48;2;0;0;0m▀\u001b[38;2;0;0;0;48;2;0;0;0m▀\u001b[38;2;0;0;0;48;2;0;0;0m▀\u001b[38;2;0;0;0;48;2;0;0;0m▀\u001b[38;2;0;0;0;48;2;0;0;0m▀\u001b[0m\n",
       "\u001b[0m\u001b[38;2;0;0;0;48;2;0;0;0m▀\u001b[38;2;0;0;0;48;2;0;0;0m▀\u001b[38;2;0;0;0;48;2;0;0;0m▀\u001b[38;2;0;0;0;48;2;0;0;0m▀\u001b[38;2;0;0;0;48;2;0;0;0m▀\u001b[38;2;0;0;0;48;2;0;0;0m▀\u001b[38;2;0;0;0;48;2;0;0;0m▀\u001b[38;2;0;0;0;48;2;0;0;0m▀\u001b[38;2;0;0;0;48;2;0;0;0m▀\u001b[38;2;0;0;0;48;2;0;0;0m▀\u001b[38;2;0;0;0;48;2;0;0;0m▀\u001b[38;2;0;0;0;48;2;0;0;0m▀\u001b[38;2;0;0;0;48;2;0;0;0m▀\u001b[38;2;0;0;0;48;2;0;0;0m▀\u001b[38;2;0;0;0;48;2;0;0;0m▀\u001b[38;2;0;0;0;48;2;0;0;0m▀\u001b[38;2;0;0;0;48;2;0;0;0m▀\u001b[38;2;0;0;0;48;2;0;0;0m▀\u001b[38;2;0;0;0;48;2;0;0;0m▀\u001b[38;2;0;0;0;48;2;0;0;0m▀\u001b[38;2;0;0;0;48;2;0;0;0m▀\u001b[38;2;0;0;0;48;2;0;0;0m▀\u001b[38;2;0;0;0;48;2;0;0;0m▀\u001b[38;2;0;0;0;48;2;0;0;0m▀\u001b[38;2;0;0;0;48;2;0;0;0m▀\u001b[38;2;0;0;0;48;2;0;0;0m▀\u001b[38;2;0;0;0;48;2;0;0;0m▀\u001b[38;2;0;0;0;48;2;0;0;0m▀\u001b[38;2;0;0;0;48;2;0;0;0m▀\u001b[38;2;0;0;0;48;2;0;0;0m▀\u001b[38;2;0;0;0;48;2;0;0;0m▀\u001b[38;2;0;0;0;48;2;0;0;0m▀\u001b[38;2;0;0;0;48;2;0;0;0m▀\u001b[38;2;0;0;0;48;2;0;0;0m▀\u001b[38;2;0;0;0;48;2;0;0;0m▀\u001b[38;2;0;0;0;48;2;0;0;0m▀\u001b[38;2;0;0;0;48;2;0;0;0m▀\u001b[38;2;0;0;0;48;2;0;0;0m▀\u001b[38;2;0;0;0;48;2;0;0;0m▀\u001b[38;2;0;0;0;48;2;0;0;0m▀\u001b[38;2;0;0;0;48;2;0;0;0m▀\u001b[38;2;0;0;0;48;2;0;0;0m▀\u001b[38;2;0;0;0;48;2;0;0;0m▀\u001b[38;2;0;0;0;48;2;0;0;0m▀\u001b[38;2;0;0;0;48;2;0;0;0m▀\u001b[38;2;0;0;0;48;2;0;0;0m▀\u001b[38;2;0;0;0;48;2;0;0;0m▀\u001b[38;2;0;0;0;48;2;0;0;0m▀\u001b[38;2;0;0;0;48;2;0;0;0m▀\u001b[38;2;0;0;0;48;2;0;0;0m▀\u001b[38;2;0;0;0;48;2;0;0;0m▀\u001b[38;2;0;0;0;48;2;0;0;0m▀\u001b[38;2;0;0;0;48;2;0;0;0m▀\u001b[38;2;0;0;0;48;2;0;0;0m▀\u001b[38;2;0;0;0;48;2;0;0;0m▀\u001b[38;2;0;0;0;48;2;0;0;0m▀\u001b[38;2;0;0;0;48;2;0;0;0m▀\u001b[0m\n",
       "\u001b[0m\u001b[38;2;0;0;0;48;2;0;0;0m▀\u001b[38;2;0;0;0;48;2;0;0;0m▀\u001b[38;2;0;0;0;48;2;0;0;0m▀\u001b[38;2;0;0;0;48;2;0;0;0m▀\u001b[38;2;0;0;0;48;2;0;0;0m▀\u001b[38;2;0;0;0;48;2;0;0;0m▀\u001b[38;2;0;0;0;48;2;0;0;0m▀\u001b[38;2;0;0;0;48;2;0;0;0m▀\u001b[38;2;0;0;0;48;2;0;0;0m▀\u001b[38;2;0;0;0;48;2;0;0;0m▀\u001b[38;2;0;0;0;48;2;0;0;0m▀\u001b[38;2;0;0;0;48;2;0;0;0m▀\u001b[38;2;0;0;0;48;2;0;0;0m▀\u001b[38;2;0;0;0;48;2;0;0;0m▀\u001b[38;2;0;0;0;48;2;0;0;0m▀\u001b[38;2;0;0;0;48;2;0;0;0m▀\u001b[38;2;0;0;0;48;2;0;0;0m▀\u001b[38;2;0;0;0;48;2;0;0;0m▀\u001b[38;2;0;0;0;48;2;0;0;0m▀\u001b[38;2;0;0;0;48;2;0;0;0m▀\u001b[38;2;0;0;0;48;2;0;0;0m▀\u001b[38;2;0;0;0;48;2;0;0;0m▀\u001b[38;2;0;0;0;48;2;0;0;0m▀\u001b[38;2;0;0;0;48;2;0;0;0m▀\u001b[38;2;0;0;0;48;2;0;0;0m▀\u001b[38;2;0;0;0;48;2;0;0;0m▀\u001b[38;2;0;0;0;48;2;0;0;0m▀\u001b[38;2;0;0;0;48;2;0;0;0m▀\u001b[38;2;0;0;0;48;2;0;0;0m▀\u001b[38;2;0;0;0;48;2;0;0;0m▀\u001b[38;2;0;0;0;48;2;0;0;0m▀\u001b[38;2;0;0;0;48;2;0;0;0m▀\u001b[38;2;0;0;0;48;2;0;0;0m▀\u001b[38;2;0;0;0;48;2;0;0;0m▀\u001b[38;2;0;0;0;48;2;0;0;0m▀\u001b[38;2;0;0;0;48;2;0;0;0m▀\u001b[38;2;0;0;0;48;2;0;0;0m▀\u001b[38;2;0;0;0;48;2;0;0;0m▀\u001b[38;2;0;0;0;48;2;0;0;0m▀\u001b[38;2;0;0;0;48;2;0;0;0m▀\u001b[38;2;0;0;0;48;2;0;0;0m▀\u001b[38;2;0;0;0;48;2;0;0;0m▀\u001b[38;2;0;0;0;48;2;0;0;0m▀\u001b[38;2;0;0;0;48;2;0;0;0m▀\u001b[38;2;0;0;0;48;2;0;0;0m▀\u001b[38;2;0;0;0;48;2;0;0;0m▀\u001b[38;2;0;0;0;48;2;0;0;0m▀\u001b[38;2;0;0;0;48;2;0;0;0m▀\u001b[38;2;0;0;0;48;2;0;0;0m▀\u001b[38;2;0;0;0;48;2;0;0;0m▀\u001b[38;2;0;0;0;48;2;0;0;0m▀\u001b[38;2;0;0;0;48;2;0;0;0m▀\u001b[38;2;0;0;0;48;2;0;0;0m▀\u001b[38;2;0;0;0;48;2;0;0;0m▀\u001b[38;2;0;0;0;48;2;0;0;0m▀\u001b[38;2;0;0;0;48;2;0;0;0m▀\u001b[38;2;0;0;0;48;2;0;0;0m▀\u001b[0m\n",
       "\u001b[0m\u001b[38;2;0;0;0;48;2;0;0;0m▀\u001b[38;2;0;0;0;48;2;0;0;0m▀\u001b[38;2;0;0;0;48;2;0;0;0m▀\u001b[38;2;0;0;0;48;2;0;0;0m▀\u001b[38;2;0;0;0;48;2;0;0;0m▀\u001b[38;2;0;0;0;48;2;0;0;0m▀\u001b[38;2;0;0;0;48;2;0;0;0m▀\u001b[38;2;0;0;0;48;2;0;0;0m▀\u001b[38;2;0;0;0;48;2;0;0;0m▀\u001b[38;2;0;0;0;48;2;0;0;0m▀\u001b[38;2;0;0;0;48;2;0;0;0m▀\u001b[38;2;0;0;0;48;2;0;0;0m▀\u001b[38;2;0;0;0;48;2;0;0;0m▀\u001b[38;2;0;0;0;48;2;0;0;0m▀\u001b[38;2;0;0;0;48;2;0;0;0m▀\u001b[38;2;0;0;0;48;2;0;0;0m▀\u001b[38;2;0;0;0;48;2;0;0;0m▀\u001b[38;2;0;0;0;48;2;0;0;0m▀\u001b[38;2;0;0;0;48;2;0;0;0m▀\u001b[38;2;0;0;0;48;2;0;0;0m▀\u001b[38;2;0;0;0;48;2;0;0;0m▀\u001b[38;2;0;0;0;48;2;0;0;0m▀\u001b[38;2;0;0;0;48;2;0;0;0m▀\u001b[38;2;0;0;0;48;2;0;0;0m▀\u001b[38;2;0;0;0;48;2;0;0;0m▀\u001b[38;2;0;0;0;48;2;0;0;0m▀\u001b[38;2;0;0;0;48;2;0;0;0m▀\u001b[38;2;0;0;0;48;2;0;0;0m▀\u001b[38;2;0;0;0;48;2;0;0;0m▀\u001b[38;2;0;0;0;48;2;0;0;0m▀\u001b[38;2;0;0;0;48;2;0;0;0m▀\u001b[38;2;0;0;0;48;2;0;0;0m▀\u001b[38;2;0;0;0;48;2;0;0;0m▀\u001b[38;2;0;0;0;48;2;0;0;0m▀\u001b[38;2;0;0;0;48;2;0;0;0m▀\u001b[38;2;0;0;0;48;2;0;0;0m▀\u001b[38;2;0;0;0;48;2;0;0;0m▀\u001b[38;2;0;0;0;48;2;0;0;0m▀\u001b[38;2;0;0;0;48;2;0;0;0m▀\u001b[38;2;0;0;0;48;2;0;0;0m▀\u001b[38;2;0;0;0;48;2;0;0;0m▀\u001b[38;2;0;0;0;48;2;0;0;0m▀\u001b[38;2;0;0;0;48;2;0;0;0m▀\u001b[38;2;0;0;0;48;2;0;0;0m▀\u001b[38;2;0;0;0;48;2;0;0;0m▀\u001b[38;2;0;0;0;48;2;0;0;0m▀\u001b[38;2;0;0;0;48;2;0;0;0m▀\u001b[38;2;0;0;0;48;2;0;0;0m▀\u001b[38;2;0;0;0;48;2;0;0;0m▀\u001b[38;2;0;0;0;48;2;0;0;0m▀\u001b[38;2;0;0;0;48;2;0;0;0m▀\u001b[38;2;0;0;0;48;2;0;0;0m▀\u001b[38;2;0;0;0;48;2;0;0;0m▀\u001b[38;2;0;0;0;48;2;0;0;0m▀\u001b[38;2;0;0;0;48;2;0;0;0m▀\u001b[38;2;0;0;0;48;2;0;0;0m▀\u001b[38;2;0;0;0;48;2;0;0;0m▀\u001b[0m\n",
       "\u001b[0m\u001b[38;2;0;0;0;48;2;0;0;0m▀\u001b[38;2;0;0;0;48;2;0;0;0m▀\u001b[38;2;0;0;0;48;2;0;0;0m▀\u001b[38;2;0;0;0;48;2;0;0;0m▀\u001b[38;2;0;0;0;48;2;0;0;0m▀\u001b[38;2;0;0;0;48;2;0;0;0m▀\u001b[38;2;0;0;0;48;2;0;0;0m▀\u001b[38;2;0;0;0;48;2;0;0;0m▀\u001b[38;2;0;0;0;48;2;0;0;0m▀\u001b[38;2;0;0;0;48;2;0;0;0m▀\u001b[38;2;0;0;0;48;2;0;0;0m▀\u001b[38;2;0;0;0;48;2;0;0;0m▀\u001b[38;2;0;0;0;48;2;0;0;0m▀\u001b[38;2;0;0;0;48;2;0;0;0m▀\u001b[38;2;0;0;0;48;2;0;0;0m▀\u001b[38;2;0;0;0;48;2;0;0;0m▀\u001b[38;2;0;0;0;48;2;0;0;0m▀\u001b[38;2;0;0;0;48;2;0;0;0m▀\u001b[38;2;0;0;0;48;2;0;0;0m▀\u001b[38;2;0;0;0;48;2;0;0;0m▀\u001b[38;2;0;0;0;48;2;0;0;0m▀\u001b[38;2;0;0;0;48;2;0;0;0m▀\u001b[38;2;0;0;0;48;2;0;0;0m▀\u001b[38;2;0;0;0;48;2;0;0;0m▀\u001b[38;2;0;0;0;48;2;0;0;0m▀\u001b[38;2;0;0;0;48;2;0;0;0m▀\u001b[38;2;0;0;0;48;2;0;0;0m▀\u001b[38;2;0;0;0;48;2;0;0;0m▀\u001b[38;2;0;0;0;48;2;0;0;0m▀\u001b[38;2;0;0;0;48;2;0;0;0m▀\u001b[38;2;0;0;0;48;2;0;0;0m▀\u001b[38;2;0;0;0;48;2;0;0;0m▀\u001b[38;2;0;0;0;48;2;0;0;0m▀\u001b[38;2;0;0;0;48;2;0;0;0m▀\u001b[38;2;0;0;0;48;2;0;0;0m▀\u001b[38;2;0;0;0;48;2;0;0;0m▀\u001b[38;2;0;0;0;48;2;0;0;0m▀\u001b[38;2;0;0;0;48;2;0;0;0m▀\u001b[38;2;0;0;0;48;2;0;0;0m▀\u001b[38;2;0;0;0;48;2;0;0;0m▀\u001b[38;2;0;0;0;48;2;0;0;0m▀\u001b[38;2;0;0;0;48;2;0;0;0m▀\u001b[38;2;0;0;0;48;2;0;0;0m▀\u001b[38;2;0;0;0;48;2;0;0;0m▀\u001b[38;2;0;0;0;48;2;0;0;0m▀\u001b[38;2;0;0;0;48;2;0;0;0m▀\u001b[38;2;0;0;0;48;2;0;0;0m▀\u001b[38;2;0;0;0;48;2;0;0;0m▀\u001b[38;2;0;0;0;48;2;0;0;0m▀\u001b[38;2;0;0;0;48;2;0;0;0m▀\u001b[38;2;0;0;0;48;2;0;0;0m▀\u001b[38;2;0;0;0;48;2;0;0;0m▀\u001b[38;2;0;0;0;48;2;0;0;0m▀\u001b[38;2;0;0;0;48;2;0;0;0m▀\u001b[38;2;0;0;0;48;2;0;0;0m▀\u001b[38;2;0;0;0;48;2;0;0;0m▀\u001b[38;2;0;0;0;48;2;0;0;0m▀\u001b[0m\n",
       "\u001b[0m\u001b[38;2;0;0;0;48;2;0;0;0m▀\u001b[38;2;0;0;0;48;2;0;0;0m▀\u001b[38;2;0;0;0;48;2;0;0;0m▀\u001b[38;2;0;0;0;48;2;0;0;0m▀\u001b[38;2;0;0;0;48;2;0;0;0m▀\u001b[38;2;0;0;0;48;2;0;0;0m▀\u001b[38;2;0;0;0;48;2;0;0;0m▀\u001b[38;2;0;0;0;48;2;0;0;0m▀\u001b[38;2;0;0;0;48;2;0;0;0m▀\u001b[38;2;0;0;0;48;2;0;0;0m▀\u001b[38;2;0;0;0;48;2;0;0;0m▀\u001b[38;2;0;0;0;48;2;0;0;0m▀\u001b[38;2;0;0;0;48;2;0;0;0m▀\u001b[38;2;0;0;0;48;2;0;0;0m▀\u001b[38;2;0;0;0;48;2;0;0;0m▀\u001b[38;2;0;0;0;48;2;0;0;0m▀\u001b[38;2;0;0;0;48;2;0;0;0m▀\u001b[38;2;0;0;0;48;2;0;0;0m▀\u001b[38;2;0;0;0;48;2;0;0;0m▀\u001b[38;2;0;0;0;48;2;0;0;0m▀\u001b[38;2;0;0;0;48;2;0;0;0m▀\u001b[38;2;0;0;0;48;2;0;0;0m▀\u001b[38;2;0;0;0;48;2;0;0;0m▀\u001b[38;2;0;0;0;48;2;0;0;0m▀\u001b[38;2;0;0;0;48;2;0;0;0m▀\u001b[38;2;0;0;0;48;2;0;0;0m▀\u001b[38;2;0;0;0;48;2;0;0;0m▀\u001b[38;2;0;0;0;48;2;0;0;0m▀\u001b[38;2;0;0;0;48;2;0;0;0m▀\u001b[38;2;0;0;0;48;2;0;0;0m▀\u001b[38;2;0;0;0;48;2;0;0;0m▀\u001b[38;2;0;0;0;48;2;0;0;0m▀\u001b[38;2;0;0;0;48;2;0;0;0m▀\u001b[38;2;0;0;0;48;2;0;0;0m▀\u001b[38;2;0;0;0;48;2;0;0;0m▀\u001b[38;2;0;0;0;48;2;0;0;0m▀\u001b[38;2;0;0;0;48;2;0;0;0m▀\u001b[38;2;0;0;0;48;2;0;0;0m▀\u001b[38;2;0;0;0;48;2;0;0;0m▀\u001b[38;2;0;0;0;48;2;0;0;0m▀\u001b[38;2;0;0;0;48;2;3;3;3m▀\u001b[38;2;0;0;0;48;2;0;0;0m▀\u001b[38;2;0;0;0;48;2;0;0;0m▀\u001b[38;2;0;0;0;48;2;0;0;0m▀\u001b[38;2;0;0;0;48;2;0;0;0m▀\u001b[38;2;0;0;0;48;2;0;0;0m▀\u001b[38;2;0;0;0;48;2;0;0;0m▀\u001b[38;2;0;0;0;48;2;0;0;0m▀\u001b[38;2;0;0;0;48;2;0;0;0m▀\u001b[38;2;0;0;0;48;2;0;0;0m▀\u001b[38;2;0;0;0;48;2;0;0;0m▀\u001b[38;2;0;0;0;48;2;0;0;0m▀\u001b[38;2;0;0;0;48;2;0;0;0m▀\u001b[38;2;0;0;0;48;2;0;0;0m▀\u001b[38;2;0;0;0;48;2;0;0;0m▀\u001b[38;2;0;0;0;48;2;0;0;0m▀\u001b[38;2;0;0;0;48;2;0;0;0m▀\u001b[0m\n",
       "\u001b[0m\u001b[38;2;0;0;0;48;2;0;0;0m▀\u001b[38;2;0;0;0;48;2;0;0;0m▀\u001b[38;2;0;0;0;48;2;0;0;0m▀\u001b[38;2;0;0;0;48;2;0;0;0m▀\u001b[38;2;0;0;0;48;2;0;0;0m▀\u001b[38;2;0;0;0;48;2;0;0;0m▀\u001b[38;2;0;0;0;48;2;0;0;0m▀\u001b[38;2;0;0;0;48;2;0;0;0m▀\u001b[38;2;0;0;0;48;2;0;0;0m▀\u001b[38;2;0;0;0;48;2;0;0;0m▀\u001b[38;2;0;0;0;48;2;0;0;0m▀\u001b[38;2;0;0;0;48;2;0;0;0m▀\u001b[38;2;0;0;0;48;2;0;0;0m▀\u001b[38;2;0;0;0;48;2;0;0;0m▀\u001b[38;2;0;0;0;48;2;0;0;0m▀\u001b[38;2;0;0;0;48;2;0;0;0m▀\u001b[38;2;0;0;0;48;2;0;0;0m▀\u001b[38;2;0;0;0;48;2;0;0;0m▀\u001b[38;2;0;0;0;48;2;0;0;0m▀\u001b[38;2;0;0;0;48;2;0;0;0m▀\u001b[38;2;0;0;0;48;2;0;0;0m▀\u001b[38;2;0;0;0;48;2;0;0;0m▀\u001b[38;2;0;0;0;48;2;0;0;0m▀\u001b[38;2;0;0;0;48;2;0;0;0m▀\u001b[38;2;0;0;0;48;2;0;0;0m▀\u001b[38;2;0;0;0;48;2;0;0;0m▀\u001b[38;2;0;0;0;48;2;0;0;0m▀\u001b[38;2;0;0;0;48;2;0;0;0m▀\u001b[38;2;0;0;0;48;2;0;0;0m▀\u001b[38;2;0;0;0;48;2;0;0;0m▀\u001b[38;2;0;0;0;48;2;0;0;0m▀\u001b[38;2;0;0;0;48;2;0;0;0m▀\u001b[38;2;0;0;0;48;2;0;0;0m▀\u001b[38;2;0;0;0;48;2;0;0;0m▀\u001b[38;2;0;0;0;48;2;0;0;0m▀\u001b[38;2;0;0;0;48;2;0;0;0m▀\u001b[38;2;0;0;0;48;2;0;0;0m▀\u001b[38;2;0;0;0;48;2;0;0;0m▀\u001b[38;2;0;0;0;48;2;0;0;0m▀\u001b[38;2;0;0;0;48;2;0;0;0m▀\u001b[38;2;0;0;0;48;2;0;0;0m▀\u001b[38;2;0;0;0;48;2;0;0;0m▀\u001b[38;2;0;0;0;48;2;2;2;2m▀\u001b[38;2;0;0;0;48;2;0;0;0m▀\u001b[38;2;0;0;0;48;2;0;0;0m▀\u001b[38;2;0;0;0;48;2;0;0;0m▀\u001b[38;2;0;0;0;48;2;0;0;0m▀\u001b[38;2;0;0;0;48;2;0;0;0m▀\u001b[38;2;0;0;0;48;2;0;0;0m▀\u001b[38;2;0;0;0;48;2;0;0;0m▀\u001b[38;2;0;0;0;48;2;0;0;0m▀\u001b[38;2;0;0;0;48;2;0;0;0m▀\u001b[38;2;0;0;0;48;2;0;0;0m▀\u001b[38;2;0;0;0;48;2;0;0;0m▀\u001b[38;2;0;0;0;48;2;0;0;0m▀\u001b[38;2;0;0;0;48;2;0;0;0m▀\u001b[38;2;0;0;0;48;2;0;0;0m▀\u001b[0m\n",
       "\u001b[0m\u001b[38;2;0;0;0;48;2;0;0;0m▀\u001b[38;2;0;0;0;48;2;0;0;0m▀\u001b[38;2;0;0;0;48;2;0;0;0m▀\u001b[38;2;0;0;0;48;2;0;0;0m▀\u001b[38;2;0;0;0;48;2;0;0;0m▀\u001b[38;2;0;0;0;48;2;0;0;0m▀\u001b[38;2;0;0;0;48;2;0;0;0m▀\u001b[38;2;0;0;0;48;2;0;0;0m▀\u001b[38;2;0;0;0;48;2;0;0;0m▀\u001b[38;2;0;0;0;48;2;0;0;0m▀\u001b[38;2;0;0;0;48;2;0;0;0m▀\u001b[38;2;0;0;0;48;2;0;0;0m▀\u001b[38;2;0;0;0;48;2;0;0;0m▀\u001b[38;2;0;0;0;48;2;0;0;0m▀\u001b[38;2;0;0;0;48;2;0;0;0m▀\u001b[38;2;0;0;0;48;2;0;0;0m▀\u001b[38;2;0;0;0;48;2;0;0;0m▀\u001b[38;2;0;0;0;48;2;0;0;0m▀\u001b[38;2;0;0;0;48;2;0;0;0m▀\u001b[38;2;0;0;0;48;2;0;0;0m▀\u001b[38;2;0;0;0;48;2;0;0;0m▀\u001b[38;2;0;0;0;48;2;0;0;0m▀\u001b[38;2;0;0;0;48;2;0;0;0m▀\u001b[38;2;0;0;0;48;2;0;0;0m▀\u001b[38;2;0;0;0;48;2;0;0;0m▀\u001b[38;2;0;0;0;48;2;0;0;0m▀\u001b[38;2;0;0;0;48;2;0;0;0m▀\u001b[38;2;0;0;0;48;2;0;0;0m▀\u001b[38;2;0;0;0;48;2;0;0;0m▀\u001b[38;2;0;0;0;48;2;0;0;0m▀\u001b[38;2;0;0;0;48;2;0;0;0m▀\u001b[38;2;0;0;0;48;2;0;0;0m▀\u001b[38;2;0;0;0;48;2;0;0;0m▀\u001b[38;2;0;0;0;48;2;0;0;0m▀\u001b[38;2;0;0;0;48;2;0;0;0m▀\u001b[38;2;0;0;0;48;2;0;0;0m▀\u001b[38;2;0;0;0;48;2;0;0;0m▀\u001b[38;2;0;0;0;48;2;0;0;0m▀\u001b[38;2;0;0;0;48;2;0;0;0m▀\u001b[38;2;0;0;0;48;2;0;0;0m▀\u001b[38;2;0;0;0;48;2;5;5;5m▀\u001b[38;2;0;0;0;48;2;0;0;0m▀\u001b[38;2;0;0;0;48;2;0;0;0m▀\u001b[38;2;0;0;0;48;2;0;0;0m▀\u001b[38;2;0;0;0;48;2;0;0;0m▀\u001b[38;2;0;0;0;48;2;0;0;0m▀\u001b[38;2;0;0;0;48;2;0;0;0m▀\u001b[38;2;0;0;0;48;2;0;0;0m▀\u001b[38;2;0;0;0;48;2;0;0;0m▀\u001b[38;2;0;0;0;48;2;0;0;0m▀\u001b[38;2;0;0;0;48;2;0;0;0m▀\u001b[38;2;0;0;0;48;2;0;0;0m▀\u001b[38;2;0;0;0;48;2;0;0;0m▀\u001b[38;2;0;0;0;48;2;0;0;0m▀\u001b[38;2;0;0;0;48;2;0;0;0m▀\u001b[38;2;0;0;0;48;2;0;0;0m▀\u001b[38;2;0;0;0;48;2;0;0;0m▀\u001b[0m\n",
       "\u001b[0m\u001b[38;2;0;0;0;48;2;0;0;0m▀\u001b[38;2;0;0;0;48;2;0;0;0m▀\u001b[38;2;0;0;0;48;2;0;0;0m▀\u001b[38;2;0;0;0;48;2;0;0;0m▀\u001b[38;2;0;0;0;48;2;0;0;0m▀\u001b[38;2;0;0;0;48;2;0;0;0m▀\u001b[38;2;0;0;0;48;2;0;0;0m▀\u001b[38;2;0;0;0;48;2;0;0;0m▀\u001b[38;2;0;0;0;48;2;0;0;0m▀\u001b[38;2;0;0;0;48;2;0;0;0m▀\u001b[38;2;0;0;0;48;2;0;0;0m▀\u001b[38;2;0;0;0;48;2;0;0;0m▀\u001b[38;2;0;0;0;48;2;0;0;0m▀\u001b[38;2;0;0;0;48;2;0;0;0m▀\u001b[38;2;0;0;0;48;2;0;0;0m▀\u001b[38;2;0;0;0;48;2;0;0;0m▀\u001b[38;2;0;0;0;48;2;0;0;0m▀\u001b[38;2;0;0;0;48;2;0;0;0m▀\u001b[38;2;0;0;0;48;2;0;0;0m▀\u001b[38;2;0;0;0;48;2;0;0;0m▀\u001b[38;2;0;0;0;48;2;0;0;0m▀\u001b[38;2;0;0;0;48;2;0;0;0m▀\u001b[38;2;0;0;0;48;2;0;0;0m▀\u001b[38;2;0;0;0;48;2;0;0;0m▀\u001b[38;2;0;0;0;48;2;0;0;0m▀\u001b[38;2;0;0;0;48;2;0;0;0m▀\u001b[38;2;0;0;0;48;2;0;0;0m▀\u001b[38;2;0;0;0;48;2;0;0;0m▀\u001b[38;2;0;0;0;48;2;0;0;0m▀\u001b[38;2;0;0;0;48;2;0;0;0m▀\u001b[38;2;0;0;0;48;2;0;0;0m▀\u001b[38;2;0;0;0;48;2;0;0;0m▀\u001b[38;2;0;0;0;48;2;0;0;0m▀\u001b[38;2;0;0;0;48;2;0;0;0m▀\u001b[38;2;0;0;0;48;2;0;0;0m▀\u001b[38;2;0;0;0;48;2;0;0;0m▀\u001b[38;2;0;0;0;48;2;0;0;0m▀\u001b[38;2;0;0;0;48;2;0;0;0m▀\u001b[38;2;0;0;0;48;2;0;0;0m▀\u001b[38;2;0;0;0;48;2;0;0;0m▀\u001b[38;2;0;0;0;48;2;6;6;6m▀\u001b[38;2;0;0;0;48;2;0;0;0m▀\u001b[38;2;0;0;0;48;2;0;0;0m▀\u001b[38;2;0;0;0;48;2;0;0;0m▀\u001b[38;2;0;0;0;48;2;0;0;0m▀\u001b[38;2;0;0;0;48;2;0;0;0m▀\u001b[38;2;0;0;0;48;2;0;0;0m▀\u001b[38;2;0;0;0;48;2;0;0;0m▀\u001b[38;2;0;0;0;48;2;0;0;0m▀\u001b[38;2;0;0;0;48;2;0;0;0m▀\u001b[38;2;0;0;0;48;2;0;0;0m▀\u001b[38;2;0;0;0;48;2;0;0;0m▀\u001b[38;2;0;0;0;48;2;0;0;0m▀\u001b[38;2;0;0;0;48;2;0;0;0m▀\u001b[38;2;0;0;0;48;2;0;0;0m▀\u001b[38;2;0;0;0;48;2;0;0;0m▀\u001b[38;2;0;0;0;48;2;0;0;0m▀\u001b[0m\n",
       "\u001b[0m\u001b[38;2;0;0;0;48;2;0;0;0m▀\u001b[38;2;0;0;0;48;2;0;0;0m▀\u001b[38;2;0;0;0;48;2;0;0;0m▀\u001b[38;2;0;0;0;48;2;0;0;0m▀\u001b[38;2;0;0;0;48;2;0;0;0m▀\u001b[38;2;0;0;0;48;2;0;0;0m▀\u001b[38;2;0;0;0;48;2;0;0;0m▀\u001b[38;2;0;0;0;48;2;0;0;0m▀\u001b[38;2;0;0;0;48;2;0;0;0m▀\u001b[38;2;0;0;0;48;2;0;0;0m▀\u001b[38;2;0;0;0;48;2;0;0;0m▀\u001b[38;2;0;0;0;48;2;0;0;0m▀\u001b[38;2;0;0;0;48;2;0;0;0m▀\u001b[38;2;0;0;0;48;2;0;0;0m▀\u001b[38;2;0;0;0;48;2;0;0;0m▀\u001b[38;2;0;0;0;48;2;0;0;0m▀\u001b[38;2;0;0;0;48;2;0;0;0m▀\u001b[38;2;0;0;0;48;2;0;0;0m▀\u001b[38;2;0;0;0;48;2;0;0;0m▀\u001b[38;2;0;0;0;48;2;0;0;0m▀\u001b[38;2;0;0;0;48;2;0;0;0m▀\u001b[38;2;0;0;0;48;2;0;0;0m▀\u001b[38;2;0;0;0;48;2;0;0;0m▀\u001b[38;2;0;0;0;48;2;0;0;0m▀\u001b[38;2;0;0;0;48;2;0;0;0m▀\u001b[38;2;0;0;0;48;2;0;0;0m▀\u001b[38;2;0;0;0;48;2;0;0;0m▀\u001b[38;2;0;0;0;48;2;0;0;0m▀\u001b[38;2;0;0;0;48;2;0;0;0m▀\u001b[38;2;0;0;0;48;2;0;0;0m▀\u001b[38;2;0;0;0;48;2;0;0;0m▀\u001b[38;2;0;0;0;48;2;0;0;0m▀\u001b[38;2;0;0;0;48;2;0;0;0m▀\u001b[38;2;0;0;0;48;2;0;0;0m▀\u001b[38;2;0;0;0;48;2;0;0;0m▀\u001b[38;2;0;0;0;48;2;0;0;0m▀\u001b[38;2;0;0;0;48;2;0;0;0m▀\u001b[38;2;0;0;0;48;2;0;0;0m▀\u001b[38;2;0;0;0;48;2;3;3;3m▀\u001b[38;2;0;0;0;48;2;0;0;0m▀\u001b[38;2;0;0;0;48;2;0;0;0m▀\u001b[38;2;0;0;0;48;2;0;0;0m▀\u001b[38;2;0;0;0;48;2;0;0;0m▀\u001b[38;2;0;0;0;48;2;0;0;0m▀\u001b[38;2;0;0;0;48;2;0;0;0m▀\u001b[38;2;0;0;0;48;2;0;0;0m▀\u001b[38;2;0;0;0;48;2;0;0;0m▀\u001b[38;2;0;0;0;48;2;0;0;0m▀\u001b[38;2;0;0;0;48;2;0;0;0m▀\u001b[38;2;0;0;0;48;2;0;0;0m▀\u001b[38;2;0;0;0;48;2;0;0;0m▀\u001b[38;2;0;0;0;48;2;0;0;0m▀\u001b[38;2;0;0;0;48;2;0;0;0m▀\u001b[38;2;0;0;0;48;2;0;0;0m▀\u001b[38;2;0;0;0;48;2;0;0;0m▀\u001b[38;2;0;0;0;48;2;0;0;0m▀\u001b[38;2;0;0;0;48;2;0;0;0m▀\u001b[0m\n",
       "\u001b[0m\u001b[38;2;0;0;0;48;2;0;0;0m▀\u001b[38;2;0;0;0;48;2;0;0;0m▀\u001b[38;2;0;0;0;48;2;0;0;0m▀\u001b[38;2;0;0;0;48;2;0;0;0m▀\u001b[38;2;0;0;0;48;2;0;0;0m▀\u001b[38;2;0;0;0;48;2;0;0;0m▀\u001b[38;2;0;0;0;48;2;0;0;0m▀\u001b[38;2;0;0;0;48;2;0;0;0m▀\u001b[38;2;0;0;0;48;2;0;0;0m▀\u001b[38;2;0;0;0;48;2;0;0;0m▀\u001b[38;2;0;0;0;48;2;0;0;0m▀\u001b[38;2;0;0;0;48;2;0;0;0m▀\u001b[38;2;0;0;0;48;2;0;0;0m▀\u001b[38;2;0;0;0;48;2;0;0;0m▀\u001b[38;2;0;0;0;48;2;0;0;0m▀\u001b[38;2;0;0;0;48;2;0;0;0m▀\u001b[38;2;0;0;0;48;2;0;0;0m▀\u001b[38;2;0;0;0;48;2;0;0;0m▀\u001b[38;2;0;0;0;48;2;0;0;0m▀\u001b[38;2;0;0;0;48;2;0;0;0m▀\u001b[38;2;0;0;0;48;2;0;0;0m▀\u001b[38;2;0;0;0;48;2;0;0;0m▀\u001b[38;2;0;0;0;48;2;0;0;0m▀\u001b[38;2;0;0;0;48;2;0;0;0m▀\u001b[38;2;0;0;0;48;2;0;0;0m▀\u001b[38;2;0;0;0;48;2;0;0;0m▀\u001b[38;2;0;0;0;48;2;0;0;0m▀\u001b[38;2;0;0;0;48;2;0;0;0m▀\u001b[38;2;0;0;0;48;2;0;0;0m▀\u001b[38;2;0;0;0;48;2;0;0;0m▀\u001b[38;2;0;0;0;48;2;0;0;0m▀\u001b[38;2;0;0;0;48;2;0;0;0m▀\u001b[38;2;0;0;0;48;2;0;0;0m▀\u001b[38;2;0;0;0;48;2;0;0;0m▀\u001b[38;2;0;0;0;48;2;3;3;3m▀\u001b[38;2;0;0;0;48;2;0;0;0m▀\u001b[38;2;0;0;0;48;2;0;0;0m▀\u001b[38;2;0;0;0;48;2;0;0;0m▀\u001b[38;2;0;0;0;48;2;0;0;0m▀\u001b[38;2;0;0;0;48;2;0;0;0m▀\u001b[38;2;0;0;0;48;2;0;0;0m▀\u001b[38;2;0;0;0;48;2;0;0;0m▀\u001b[38;2;0;0;0;48;2;0;0;0m▀\u001b[38;2;0;0;0;48;2;0;0;0m▀\u001b[38;2;0;0;0;48;2;0;0;0m▀\u001b[38;2;0;0;0;48;2;0;0;0m▀\u001b[38;2;0;0;0;48;2;0;0;0m▀\u001b[38;2;0;0;0;48;2;0;0;0m▀\u001b[38;2;0;0;0;48;2;0;0;0m▀\u001b[38;2;0;0;0;48;2;0;0;0m▀\u001b[38;2;0;0;0;48;2;0;0;0m▀\u001b[38;2;0;0;0;48;2;0;0;0m▀\u001b[38;2;0;0;0;48;2;0;0;0m▀\u001b[38;2;0;0;0;48;2;0;0;0m▀\u001b[38;2;0;0;0;48;2;0;0;0m▀\u001b[38;2;0;0;0;48;2;0;0;0m▀\u001b[38;2;0;0;0;48;2;0;0;0m▀\u001b[0m\n",
       "\u001b[0m\u001b[38;2;0;0;0;48;2;0;0;0m▀\u001b[38;2;0;0;0;48;2;0;0;0m▀\u001b[38;2;0;0;0;48;2;0;0;0m▀\u001b[38;2;0;0;0;48;2;0;0;0m▀\u001b[38;2;0;0;0;48;2;0;0;0m▀\u001b[38;2;0;0;0;48;2;0;0;0m▀\u001b[38;2;0;0;0;48;2;0;0;0m▀\u001b[38;2;0;0;0;48;2;0;0;0m▀\u001b[38;2;0;0;0;48;2;0;0;0m▀\u001b[38;2;0;0;0;48;2;0;0;0m▀\u001b[38;2;0;0;0;48;2;0;0;0m▀\u001b[38;2;0;0;0;48;2;0;0;0m▀\u001b[38;2;0;0;0;48;2;0;0;0m▀\u001b[38;2;0;0;0;48;2;0;0;0m▀\u001b[38;2;0;0;0;48;2;0;0;0m▀\u001b[38;2;0;0;0;48;2;0;0;0m▀\u001b[38;2;0;0;0;48;2;0;0;0m▀\u001b[38;2;0;0;0;48;2;0;0;0m▀\u001b[38;2;0;0;0;48;2;0;0;0m▀\u001b[38;2;0;0;0;48;2;0;0;0m▀\u001b[38;2;0;0;0;48;2;0;0;0m▀\u001b[38;2;0;0;0;48;2;0;0;0m▀\u001b[38;2;0;0;0;48;2;0;0;0m▀\u001b[38;2;0;0;0;48;2;0;0;0m▀\u001b[38;2;0;0;0;48;2;0;0;0m▀\u001b[38;2;0;0;0;48;2;0;0;0m▀\u001b[38;2;0;0;0;48;2;0;0;0m▀\u001b[38;2;0;0;0;48;2;0;0;0m▀\u001b[38;2;0;0;0;48;2;0;0;0m▀\u001b[38;2;0;0;0;48;2;0;0;0m▀\u001b[38;2;0;0;0;48;2;2;2;2m▀\u001b[38;2;0;0;0;48;2;0;0;0m▀\u001b[38;2;0;0;0;48;2;0;0;0m▀\u001b[38;2;0;0;0;48;2;0;0;0m▀\u001b[38;2;0;0;0;48;2;0;0;0m▀\u001b[38;2;0;0;0;48;2;0;0;0m▀\u001b[38;2;0;0;0;48;2;0;0;0m▀\u001b[38;2;0;0;0;48;2;0;0;0m▀\u001b[38;2;0;0;0;48;2;0;0;0m▀\u001b[38;2;0;0;0;48;2;0;0;0m▀\u001b[38;2;0;0;0;48;2;0;0;0m▀\u001b[38;2;0;0;0;48;2;0;0;0m▀\u001b[38;2;0;0;0;48;2;0;0;0m▀\u001b[38;2;0;0;0;48;2;0;0;0m▀\u001b[38;2;0;0;0;48;2;0;0;0m▀\u001b[38;2;0;0;0;48;2;0;0;0m▀\u001b[38;2;0;0;0;48;2;0;0;0m▀\u001b[38;2;0;0;0;48;2;0;0;0m▀\u001b[38;2;0;0;0;48;2;0;0;0m▀\u001b[38;2;0;0;0;48;2;0;0;0m▀\u001b[38;2;0;0;0;48;2;0;0;0m▀\u001b[38;2;0;0;0;48;2;0;0;0m▀\u001b[38;2;0;0;0;48;2;0;0;0m▀\u001b[38;2;0;0;0;48;2;0;0;0m▀\u001b[38;2;0;0;0;48;2;0;0;0m▀\u001b[38;2;0;0;0;48;2;0;0;0m▀\u001b[38;2;0;0;0;48;2;0;0;0m▀\u001b[0m\n",
       "\u001b[0m\u001b[38;2;0;0;0;48;2;0;0;0m▀\u001b[38;2;0;0;0;48;2;0;0;0m▀\u001b[38;2;0;0;0;48;2;0;0;0m▀\u001b[38;2;0;0;0;48;2;0;0;0m▀\u001b[38;2;0;0;0;48;2;0;0;0m▀\u001b[38;2;0;0;0;48;2;0;0;0m▀\u001b[38;2;0;0;0;48;2;0;0;0m▀\u001b[38;2;0;0;0;48;2;0;0;0m▀\u001b[38;2;0;0;0;48;2;0;0;0m▀\u001b[38;2;0;0;0;48;2;0;0;0m▀\u001b[38;2;0;0;0;48;2;0;0;0m▀\u001b[38;2;0;0;0;48;2;0;0;0m▀\u001b[38;2;0;0;0;48;2;0;0;0m▀\u001b[38;2;0;0;0;48;2;0;0;0m▀\u001b[38;2;0;0;0;48;2;0;0;0m▀\u001b[38;2;0;0;0;48;2;0;0;0m▀\u001b[38;2;0;0;0;48;2;0;0;0m▀\u001b[38;2;0;0;0;48;2;0;0;0m▀\u001b[38;2;0;0;0;48;2;0;0;0m▀\u001b[38;2;0;0;0;48;2;0;0;0m▀\u001b[38;2;0;0;0;48;2;0;0;0m▀\u001b[38;2;0;0;0;48;2;0;0;0m▀\u001b[38;2;0;0;0;48;2;0;0;0m▀\u001b[38;2;0;0;0;48;2;0;0;0m▀\u001b[38;2;0;0;0;48;2;0;0;0m▀\u001b[38;2;0;0;0;48;2;0;0;0m▀\u001b[38;2;0;0;0;48;2;3;3;3m▀\u001b[38;2;0;0;0;48;2;0;0;0m▀\u001b[38;2;0;0;0;48;2;0;0;0m▀\u001b[38;2;0;0;0;48;2;0;0;0m▀\u001b[38;2;0;0;0;48;2;0;0;0m▀\u001b[38;2;0;0;0;48;2;0;0;0m▀\u001b[38;2;0;0;0;48;2;0;0;0m▀\u001b[38;2;0;0;0;48;2;0;0;0m▀\u001b[38;2;0;0;0;48;2;0;0;0m▀\u001b[38;2;0;0;0;48;2;0;0;0m▀\u001b[38;2;0;0;0;48;2;0;0;0m▀\u001b[38;2;0;0;0;48;2;0;0;0m▀\u001b[38;2;0;0;0;48;2;0;0;0m▀\u001b[38;2;0;0;0;48;2;0;0;0m▀\u001b[38;2;0;0;0;48;2;0;0;0m▀\u001b[38;2;0;0;0;48;2;0;0;0m▀\u001b[38;2;0;0;0;48;2;0;0;0m▀\u001b[38;2;0;0;0;48;2;0;0;0m▀\u001b[38;2;0;0;0;48;2;0;0;0m▀\u001b[38;2;0;0;0;48;2;0;0;0m▀\u001b[38;2;0;0;0;48;2;0;0;0m▀\u001b[38;2;0;0;0;48;2;0;0;0m▀\u001b[38;2;0;0;0;48;2;0;0;0m▀\u001b[38;2;0;0;0;48;2;0;0;0m▀\u001b[38;2;0;0;0;48;2;0;0;0m▀\u001b[38;2;0;0;0;48;2;0;0;0m▀\u001b[38;2;0;0;0;48;2;0;0;0m▀\u001b[38;2;0;0;0;48;2;0;0;0m▀\u001b[38;2;0;0;0;48;2;0;0;0m▀\u001b[38;2;0;0;0;48;2;0;0;0m▀\u001b[38;2;0;0;0;48;2;0;0;0m▀\u001b[0m\n",
       "\u001b[0m\u001b[38;2;0;0;0;48;2;0;0;0m▀\u001b[38;2;0;0;0;48;2;0;0;0m▀\u001b[38;2;0;0;0;48;2;0;0;0m▀\u001b[38;2;0;0;0;48;2;0;0;0m▀\u001b[38;2;0;0;0;48;2;0;0;0m▀\u001b[38;2;0;0;0;48;2;0;0;0m▀\u001b[38;2;0;0;0;48;2;0;0;0m▀\u001b[38;2;0;0;0;48;2;0;0;0m▀\u001b[38;2;0;0;0;48;2;0;0;0m▀\u001b[38;2;0;0;0;48;2;0;0;0m▀\u001b[38;2;0;0;0;48;2;0;0;0m▀\u001b[38;2;0;0;0;48;2;0;0;0m▀\u001b[38;2;0;0;0;48;2;0;0;0m▀\u001b[38;2;0;0;0;48;2;0;0;0m▀\u001b[38;2;0;0;0;48;2;0;0;0m▀\u001b[38;2;0;0;0;48;2;0;0;0m▀\u001b[38;2;0;0;0;48;2;0;0;0m▀\u001b[38;2;0;0;0;48;2;0;0;0m▀\u001b[38;2;0;0;0;48;2;0;0;0m▀\u001b[38;2;0;0;0;48;2;0;0;0m▀\u001b[38;2;0;0;0;48;2;0;0;0m▀\u001b[38;2;0;0;0;48;2;0;0;0m▀\u001b[38;2;0;0;0;48;2;2;2;2m▀\u001b[38;2;0;0;0;48;2;0;0;0m▀\u001b[38;2;0;0;0;48;2;1;1;1m▀\u001b[38;2;0;0;0;48;2;0;0;0m▀\u001b[38;2;0;0;0;48;2;0;0;0m▀\u001b[38;2;0;0;0;48;2;0;0;0m▀\u001b[38;2;0;0;0;48;2;0;0;0m▀\u001b[38;2;0;0;0;48;2;0;0;0m▀\u001b[38;2;0;0;0;48;2;0;0;0m▀\u001b[38;2;0;0;0;48;2;0;0;0m▀\u001b[38;2;0;0;0;48;2;0;0;0m▀\u001b[38;2;0;0;0;48;2;0;0;0m▀\u001b[38;2;0;0;0;48;2;0;0;0m▀\u001b[38;2;0;0;0;48;2;0;0;0m▀\u001b[38;2;0;0;0;48;2;0;0;0m▀\u001b[38;2;0;0;0;48;2;0;0;0m▀\u001b[38;2;0;0;0;48;2;0;0;0m▀\u001b[38;2;0;0;0;48;2;0;0;0m▀\u001b[38;2;0;0;0;48;2;0;0;0m▀\u001b[38;2;0;0;0;48;2;0;0;0m▀\u001b[38;2;0;0;0;48;2;0;0;0m▀\u001b[38;2;0;0;0;48;2;0;0;0m▀\u001b[38;2;0;0;0;48;2;0;0;0m▀\u001b[38;2;0;0;0;48;2;0;0;0m▀\u001b[38;2;0;0;0;48;2;0;0;0m▀\u001b[38;2;0;0;0;48;2;0;0;0m▀\u001b[38;2;0;0;0;48;2;0;0;0m▀\u001b[38;2;0;0;0;48;2;0;0;0m▀\u001b[38;2;0;0;0;48;2;0;0;0m▀\u001b[38;2;0;0;0;48;2;0;0;0m▀\u001b[38;2;0;0;0;48;2;0;0;0m▀\u001b[38;2;0;0;0;48;2;0;0;0m▀\u001b[38;2;0;0;0;48;2;0;0;0m▀\u001b[38;2;0;0;0;48;2;0;0;0m▀\u001b[38;2;0;0;0;48;2;0;0;0m▀\u001b[0m\n",
       "\u001b[0m\u001b[38;2;0;0;0;48;2;0;0;0m▀\u001b[38;2;0;0;0;48;2;0;0;0m▀\u001b[38;2;0;0;0;48;2;0;0;0m▀\u001b[38;2;0;0;0;48;2;0;0;0m▀\u001b[38;2;0;0;0;48;2;0;0;0m▀\u001b[38;2;0;0;0;48;2;0;0;0m▀\u001b[38;2;0;0;0;48;2;0;0;0m▀\u001b[38;2;0;0;0;48;2;0;0;0m▀\u001b[38;2;0;0;0;48;2;0;0;0m▀\u001b[38;2;0;0;0;48;2;0;0;0m▀\u001b[38;2;0;0;0;48;2;0;0;0m▀\u001b[38;2;0;0;0;48;2;0;0;0m▀\u001b[38;2;0;0;0;48;2;0;0;0m▀\u001b[38;2;0;0;0;48;2;0;0;0m▀\u001b[38;2;0;0;0;48;2;0;0;0m▀\u001b[38;2;0;0;0;48;2;0;0;0m▀\u001b[38;2;0;0;0;48;2;0;0;0m▀\u001b[38;2;0;0;0;48;2;0;0;0m▀\u001b[38;2;0;0;0;48;2;0;0;0m▀\u001b[38;2;0;0;0;48;2;0;0;0m▀\u001b[38;2;0;0;0;48;2;0;0;0m▀\u001b[38;2;0;0;0;48;2;0;0;0m▀\u001b[38;2;0;0;0;48;2;0;0;0m▀\u001b[38;2;0;0;0;48;2;0;0;0m▀\u001b[38;2;0;0;0;48;2;0;0;0m▀\u001b[38;2;0;0;0;48;2;0;0;0m▀\u001b[38;2;0;0;0;48;2;0;0;0m▀\u001b[38;2;0;0;0;48;2;0;0;0m▀\u001b[38;2;0;0;0;48;2;0;0;0m▀\u001b[38;2;0;0;0;48;2;0;0;0m▀\u001b[38;2;0;0;0;48;2;0;0;0m▀\u001b[38;2;0;0;0;48;2;0;0;0m▀\u001b[38;2;0;0;0;48;2;0;0;0m▀\u001b[38;2;0;0;0;48;2;0;0;0m▀\u001b[38;2;0;0;0;48;2;0;0;0m▀\u001b[38;2;0;0;0;48;2;0;0;0m▀\u001b[38;2;0;0;0;48;2;0;0;0m▀\u001b[38;2;0;0;0;48;2;0;0;0m▀\u001b[38;2;0;0;0;48;2;0;0;0m▀\u001b[38;2;0;0;0;48;2;0;0;0m▀\u001b[38;2;0;0;0;48;2;0;0;0m▀\u001b[38;2;0;0;0;48;2;0;0;0m▀\u001b[38;2;0;0;0;48;2;0;0;0m▀\u001b[38;2;0;0;0;48;2;0;0;0m▀\u001b[38;2;0;0;0;48;2;0;0;0m▀\u001b[38;2;0;0;0;48;2;0;0;0m▀\u001b[38;2;0;0;0;48;2;0;0;0m▀\u001b[38;2;0;0;0;48;2;0;0;0m▀\u001b[38;2;0;0;0;48;2;0;0;0m▀\u001b[38;2;0;0;0;48;2;0;0;0m▀\u001b[38;2;0;0;0;48;2;0;0;0m▀\u001b[38;2;0;0;0;48;2;0;0;0m▀\u001b[38;2;0;0;0;48;2;0;0;0m▀\u001b[38;2;0;0;0;48;2;0;0;0m▀\u001b[38;2;0;0;0;48;2;0;0;0m▀\u001b[38;2;0;0;0;48;2;0;0;0m▀\u001b[38;2;0;0;0;48;2;0;0;0m▀\u001b[0m\n",
       "\u001b[0m\u001b[38;2;0;0;0;48;2;0;0;0m▀\u001b[38;2;0;0;0;48;2;0;0;0m▀\u001b[38;2;0;0;0;48;2;0;0;0m▀\u001b[38;2;0;0;0;48;2;0;0;0m▀\u001b[38;2;0;0;0;48;2;0;0;0m▀\u001b[38;2;0;0;0;48;2;0;0;0m▀\u001b[38;2;0;0;0;48;2;0;0;0m▀\u001b[38;2;0;0;0;48;2;0;0;0m▀\u001b[38;2;0;0;0;48;2;0;0;0m▀\u001b[38;2;0;0;0;48;2;0;0;0m▀\u001b[38;2;0;0;0;48;2;0;0;0m▀\u001b[38;2;0;0;0;48;2;0;0;0m▀\u001b[38;2;0;0;0;48;2;0;0;0m▀\u001b[38;2;0;0;0;48;2;0;0;0m▀\u001b[38;2;0;0;0;48;2;0;0;0m▀\u001b[38;2;0;0;0;48;2;0;0;0m▀\u001b[38;2;0;0;0;48;2;0;0;0m▀\u001b[38;2;0;0;0;48;2;0;0;0m▀\u001b[38;2;0;0;0;48;2;0;0;0m▀\u001b[38;2;0;0;0;48;2;0;0;0m▀\u001b[38;2;0;0;0;48;2;0;0;0m▀\u001b[38;2;0;0;0;48;2;0;0;0m▀\u001b[38;2;0;0;0;48;2;0;0;0m▀\u001b[38;2;0;0;0;48;2;0;0;0m▀\u001b[38;2;0;0;0;48;2;0;0;0m▀\u001b[38;2;0;0;0;48;2;0;0;0m▀\u001b[38;2;0;0;0;48;2;0;0;0m▀\u001b[38;2;0;0;0;48;2;0;0;0m▀\u001b[38;2;0;0;0;48;2;0;0;0m▀\u001b[38;2;0;0;0;48;2;0;0;0m▀\u001b[38;2;0;0;0;48;2;0;0;0m▀\u001b[38;2;0;0;0;48;2;0;0;0m▀\u001b[38;2;0;0;0;48;2;0;0;0m▀\u001b[38;2;0;0;0;48;2;0;0;0m▀\u001b[38;2;0;0;0;48;2;0;0;0m▀\u001b[38;2;0;0;0;48;2;0;0;0m▀\u001b[38;2;0;0;0;48;2;0;0;0m▀\u001b[38;2;0;0;0;48;2;0;0;0m▀\u001b[38;2;0;0;0;48;2;0;0;0m▀\u001b[38;2;0;0;0;48;2;0;0;0m▀\u001b[38;2;0;0;0;48;2;0;0;0m▀\u001b[38;2;0;0;0;48;2;0;0;0m▀\u001b[38;2;0;0;0;48;2;0;0;0m▀\u001b[38;2;0;0;0;48;2;0;0;0m▀\u001b[38;2;0;0;0;48;2;0;0;0m▀\u001b[38;2;0;0;0;48;2;0;0;0m▀\u001b[38;2;0;0;0;48;2;0;0;0m▀\u001b[38;2;0;0;0;48;2;0;0;0m▀\u001b[38;2;0;0;0;48;2;0;0;0m▀\u001b[38;2;0;0;0;48;2;0;0;0m▀\u001b[38;2;0;0;0;48;2;0;0;0m▀\u001b[38;2;0;0;0;48;2;0;0;0m▀\u001b[38;2;0;0;0;48;2;0;0;0m▀\u001b[38;2;0;0;0;48;2;0;0;0m▀\u001b[38;2;0;0;0;48;2;0;0;0m▀\u001b[38;2;0;0;0;48;2;0;0;0m▀\u001b[38;2;0;0;0;48;2;0;0;0m▀\u001b[0m\n",
       "\u001b[0m\u001b[38;2;0;0;0;48;2;0;0;0m▀\u001b[38;2;0;0;0;48;2;0;0;0m▀\u001b[38;2;0;0;0;48;2;0;0;0m▀\u001b[38;2;0;0;0;48;2;0;0;0m▀\u001b[38;2;0;0;0;48;2;0;0;0m▀\u001b[38;2;0;0;0;48;2;0;0;0m▀\u001b[38;2;0;0;0;48;2;0;0;0m▀\u001b[38;2;0;0;0;48;2;0;0;0m▀\u001b[38;2;0;0;0;48;2;0;0;0m▀\u001b[38;2;0;0;0;48;2;0;0;0m▀\u001b[38;2;0;0;0;48;2;0;0;0m▀\u001b[38;2;0;0;0;48;2;0;0;0m▀\u001b[38;2;0;0;0;48;2;0;0;0m▀\u001b[38;2;0;0;0;48;2;0;0;0m▀\u001b[38;2;0;0;0;48;2;0;0;0m▀\u001b[38;2;0;0;0;48;2;0;0;0m▀\u001b[38;2;0;0;0;48;2;0;0;0m▀\u001b[38;2;0;0;0;48;2;0;0;0m▀\u001b[38;2;0;0;0;48;2;0;0;0m▀\u001b[38;2;0;0;0;48;2;0;0;0m▀\u001b[38;2;0;0;0;48;2;0;0;0m▀\u001b[38;2;0;0;0;48;2;0;0;0m▀\u001b[38;2;0;0;0;48;2;0;0;0m▀\u001b[38;2;0;0;0;48;2;0;0;0m▀\u001b[38;2;0;0;0;48;2;0;0;0m▀\u001b[38;2;0;0;0;48;2;0;0;0m▀\u001b[38;2;0;0;0;48;2;0;0;0m▀\u001b[38;2;0;0;0;48;2;0;0;0m▀\u001b[38;2;0;0;0;48;2;0;0;0m▀\u001b[38;2;0;0;0;48;2;0;0;0m▀\u001b[38;2;0;0;0;48;2;0;0;0m▀\u001b[38;2;0;0;0;48;2;0;0;0m▀\u001b[38;2;0;0;0;48;2;0;0;0m▀\u001b[38;2;0;0;0;48;2;0;0;0m▀\u001b[38;2;0;0;0;48;2;0;0;0m▀\u001b[38;2;0;0;0;48;2;0;0;0m▀\u001b[38;2;0;0;0;48;2;0;0;0m▀\u001b[38;2;0;0;0;48;2;0;0;0m▀\u001b[38;2;0;0;0;48;2;0;0;0m▀\u001b[38;2;0;0;0;48;2;0;0;0m▀\u001b[38;2;0;0;0;48;2;0;0;0m▀\u001b[38;2;0;0;0;48;2;0;0;0m▀\u001b[38;2;0;0;0;48;2;0;0;0m▀\u001b[38;2;0;0;0;48;2;0;0;0m▀\u001b[38;2;0;0;0;48;2;0;0;0m▀\u001b[38;2;0;0;0;48;2;0;0;0m▀\u001b[38;2;0;0;0;48;2;0;0;0m▀\u001b[38;2;0;0;0;48;2;0;0;0m▀\u001b[38;2;0;0;0;48;2;0;0;0m▀\u001b[38;2;0;0;0;48;2;0;0;0m▀\u001b[38;2;0;0;0;48;2;0;0;0m▀\u001b[38;2;0;0;0;48;2;0;0;0m▀\u001b[38;2;0;0;0;48;2;0;0;0m▀\u001b[38;2;0;0;0;48;2;0;0;0m▀\u001b[38;2;0;0;0;48;2;0;0;0m▀\u001b[38;2;0;0;0;48;2;0;0;0m▀\u001b[38;2;0;0;0;48;2;0;0;0m▀\u001b[0m\n",
       "\u001b[0m\u001b[38;2;0;0;0m▀\u001b[38;2;0;0;0m▀\u001b[38;2;0;0;0m▀\u001b[38;2;0;0;0m▀\u001b[38;2;0;0;0m▀\u001b[38;2;0;0;0m▀\u001b[38;2;0;0;0m▀\u001b[38;2;0;0;0m▀\u001b[38;2;0;0;0m▀\u001b[38;2;0;0;0m▀\u001b[38;2;0;0;0m▀\u001b[38;2;0;0;0m▀\u001b[38;2;0;0;0m▀\u001b[38;2;0;0;0m▀\u001b[38;2;0;0;0m▀\u001b[38;2;0;0;0m▀\u001b[38;2;0;0;0m▀\u001b[38;2;0;0;0m▀\u001b[38;2;0;0;0m▀\u001b[38;2;0;0;0m▀\u001b[38;2;0;0;0m▀\u001b[38;2;0;0;0m▀\u001b[38;2;0;0;0m▀\u001b[38;2;0;0;0m▀\u001b[38;2;0;0;0m▀\u001b[38;2;0;0;0m▀\u001b[38;2;0;0;0m▀\u001b[38;2;0;0;0m▀\u001b[38;2;0;0;0m▀\u001b[38;2;0;0;0m▀\u001b[38;2;0;0;0m▀\u001b[38;2;0;0;0m▀\u001b[38;2;0;0;0m▀\u001b[38;2;0;0;0m▀\u001b[38;2;0;0;0m▀\u001b[38;2;0;0;0m▀\u001b[38;2;0;0;0m▀\u001b[38;2;0;0;0m▀\u001b[38;2;0;0;0m▀\u001b[38;2;0;0;0m▀\u001b[38;2;0;0;0m▀\u001b[38;2;0;0;0m▀\u001b[38;2;0;0;0m▀\u001b[38;2;0;0;0m▀\u001b[38;2;0;0;0m▀\u001b[38;2;0;0;0m▀\u001b[38;2;0;0;0m▀\u001b[38;2;0;0;0m▀\u001b[38;2;0;0;0m▀\u001b[38;2;0;0;0m▀\u001b[38;2;0;0;0m▀\u001b[38;2;0;0;0m▀\u001b[38;2;0;0;0m▀\u001b[38;2;0;0;0m▀\u001b[38;2;0;0;0m▀\u001b[38;2;0;0;0m▀\u001b[38;2;0;0;0m▀\u001b[0m"
      ]
     },
     "execution_count": 77,
     "metadata": {},
     "output_type": "execute_result"
    }
   ],
   "source": [
    "cnn_output = cnn_layer( images[:,:,:,1:3] )\n",
    "display( cnn_output |> size )\n",
    "convert2image( MNIST , cnn_output[:,:,1,1] )"
   ]
  },
  {
   "cell_type": "markdown",
   "metadata": {},
   "source": [
    "#### <span style=\"color:orange\"> Depthwise Convolutional Layers apply kernels to each channel separately so that the kernel does not span all channels </span>"
   ]
  },
  {
   "cell_type": "code",
   "execution_count": 78,
   "metadata": {},
   "outputs": [
    {
     "data": {
      "text/plain": [
       "(10, 10, 5, 10)"
      ]
     },
     "execution_count": 78,
     "metadata": {},
     "output_type": "execute_result"
    }
   ],
   "source": [
    "x = rand(Float32, 10, 10, 5, 10); \n",
    "cnn_layer = DepthwiseConv( (5,5) , 5 => 5 , pad=SamePad() )\n",
    "cnn_layer( x ) |> size"
   ]
  },
  {
   "cell_type": "code",
   "execution_count": null,
   "metadata": {},
   "outputs": [],
   "source": []
  },
  {
   "cell_type": "markdown",
   "metadata": {},
   "source": [
    "### <span style=\"color:orange\"> Common layers often used 'after' a CNN layer </span>\n",
    "\n",
    "- they reduce the size of the output, and do not have parameters to train\n",
    "- MaxPool, takes the maximum element in the region, and the corresponding 'MeanPool' exists\n",
    "- Adaptive Max Pool, this takes in a tuple for the size of the data desired for each channel and batch size and finds for you the MaxPool size for the target output size needed. (equivalently there is the AdaptiveMeanPool)\n",
    "\n",
    "- GlobalMaxPool produces a single value for each of the channels and each of the batch samples (also GlobalMeanPool is there)"
   ]
  },
  {
   "cell_type": "code",
   "execution_count": 79,
   "metadata": {},
   "outputs": [
    {
     "data": {
      "text/plain": [
       "(19, 19, 2, 10)"
      ]
     },
     "execution_count": 79,
     "metadata": {},
     "output_type": "execute_result"
    }
   ],
   "source": [
    "x = rand(Float32, 100, 100, 1, 10); \n",
    "m = Chain( Conv( (5,5) , 1 => 2 ) , MaxPool((5,5)) )\n",
    "m( x ) |> size"
   ]
  },
  {
   "cell_type": "code",
   "execution_count": 80,
   "metadata": {},
   "outputs": [
    {
     "data": {
      "text/plain": [
       "(4, 4, 2, 3)"
      ]
     },
     "metadata": {},
     "output_type": "display_data"
    },
    {
     "data": {
      "image/png": "[encoded data removed]",
      "text/html": [
       "<img src=\"data:image/png;base64,iVBORw0KGgoAAAANSUhEUgAAAGQAAABkCAAAAABVicqIAAAABGdBTUEAALGPC/xhBQAAAAFzUkdCAK7OHOkAAAAgY0hSTQAAeiYAAICEAAD6AAAAgOgAAHUwAADqYAAAOpgAABdwnLpRPAAAAMZJREFUaAW9wbEJQgEAxcB8CFhZqKULOJJTiuMILuMEr7DJnTeGJ8Od4cMgAQlIQAISkIAEJCABCUhAAhKQgAQkIAEJSEACEpCABCTgleHFcGE4MUhAAhKQgAQkIAEJSEACEpCABCQgAQlIQAISkIAEJCABCfhleDAcDAeDBCQgAQlIQAISkIAEJCABCUhAAhKQgAQkIAEJSEACEpCAT/51ZngzSEACEpCABCQgAQlIQAISkIAEJCABCUhAAhKQgAQkIAEJ/ABfoQXhkcb/lgAAAABJRU5ErkJg\">"
      ],
      "text/plain": [
       "\u001b[0m\u001b[38;2;19;19;19m██\u001b[38;2;107;107;107m██\u001b[38;2;134;134;134m██\u001b[38;2;94;94;94m██\u001b[0m\n",
       "\u001b[0m\u001b[38;2;37;37;37m██\u001b[38;2;25;25;25m██\u001b[38;2;42;42;42m██\u001b[38;2;49;49;49m██\u001b[0m\n",
       "\u001b[0m\u001b[38;2;0;0;0m██\u001b[38;2;40;40;40m██\u001b[38;2;43;43;43m██\u001b[38;2;50;50;50m██\u001b[0m\n",
       "\u001b[0m\u001b[38;2;88;88;88m██\u001b[38;2;88;88;88m██\u001b[38;2;101;101;101m██\u001b[38;2;21;21;21m██\u001b[0m"
      ]
     },
     "execution_count": 80,
     "metadata": {},
     "output_type": "execute_result"
    }
   ],
   "source": [
    "cnn_output = m( images[:,:,:,1:3] )\n",
    "display( cnn_output |> size )\n",
    "convert2image( MNIST , cnn_output[:,:,1,1] )"
   ]
  },
  {
   "cell_type": "code",
   "execution_count": 81,
   "metadata": {},
   "outputs": [
    {
     "data": {
      "text/plain": [
       "(20, 20, 2, 10)"
      ]
     },
     "execution_count": 81,
     "metadata": {},
     "output_type": "execute_result"
    }
   ],
   "source": [
    "x = rand(Float32, 100, 100, 1, 10); \n",
    "m = Chain( Conv( (5,5) , 1 => 2 , pad=SamePad() ) , MaxPool((5,5)) )\n",
    "m( x ) |> size"
   ]
  },
  {
   "cell_type": "code",
   "execution_count": 82,
   "metadata": {},
   "outputs": [
    {
     "data": {
      "text/plain": [
       "(5, 5, 2, 3)"
      ]
     },
     "metadata": {},
     "output_type": "display_data"
    },
    {
     "data": {
      "image/png": "[encoded data removed]",
      "text/html": [
       "<img src=\"data:image/png;base64,iVBORw0KGgoAAAANSUhEUgAAAGQAAABkCAAAAABVicqIAAAABGdBTUEAALGPC/xhBQAAAAFzUkdCAK7OHOkAAAAgY0hSTQAAeiYAAICEAAD6AAAAgOgAAHUwAADqYAAAOpgAABdwnLpRPAAAANVJREFUaAW9waFNgwEABtETJyoICVM0DNA1mBtZ0yCRtRW4Ggb4foEg9578swtLAhKQgAQkIAEJSEACEpCABCQgAQlIQAISkIAceGd98Tc3lgQkIAEJSEACEpCABCQgAQlIQAISkIAEJCABOfBgnVlvrCdLAhKQgAQkIAEJSEACEpCABCQgAQlIQAISkIAcuLNOrE/WB0sCEpCABCQgAQlIQAISkIAEJCABCUhAAhKQgC+sH9Y365V1ZUlAAhKQgAQkIAEJSEACEpCABCQgAQlIQAIS+AWgXgqAyPaHcQAAAABJRU5ErkJg\">"
      ],
      "text/plain": [
       "\u001b[0m\u001b[38;2;0;0;0m██\u001b[38;2;0;0;0m██\u001b[38;2;0;0;0m██\u001b[38;2;0;0;0m██\u001b[38;2;53;53;53m██\u001b[0m\n",
       "\u001b[0m\u001b[38;2;0;0;0m██\u001b[38;2;41;41;41m██\u001b[38;2;0;0;0m██\u001b[38;2;0;0;0m██\u001b[38;2;10;10;10m██\u001b[0m\n",
       "\u001b[0m\u001b[38;2;0;0;0m██\u001b[38;2;25;25;25m██\u001b[38;2;39;39;39m██\u001b[38;2;56;56;56m██\u001b[38;2;51;51;51m██\u001b[0m\n",
       "\u001b[0m\u001b[38;2;0;0;0m██\u001b[38;2;0;0;0m██\u001b[38;2;33;33;33m██\u001b[38;2;0;0;0m██\u001b[38;2;78;78;78m██\u001b[0m\n",
       "\u001b[0m\u001b[38;2;12;12;12m██\u001b[38;2;0;0;0m██\u001b[38;2;0;0;0m██\u001b[38;2;14;14;14m██\u001b[38;2;30;30;30m██\u001b[0m"
      ]
     },
     "execution_count": 82,
     "metadata": {},
     "output_type": "execute_result"
    }
   ],
   "source": [
    "cnn_output = m( images[:,:,:,1:3] )\n",
    "display( cnn_output |> size )\n",
    "convert2image( MNIST , cnn_output[:,:,1,1] )"
   ]
  },
  {
   "cell_type": "code",
   "execution_count": 83,
   "metadata": {},
   "outputs": [
    {
     "data": {
      "text/plain": [
       "(20, 20, 2, 10)"
      ]
     },
     "execution_count": 83,
     "metadata": {},
     "output_type": "execute_result"
    }
   ],
   "source": [
    "x = rand(Float32, 100, 100, 1, 10); \n",
    "m = Chain( Conv( (5,5) , 1 => 2  ) , MaxPool( (5,5), pad=SamePad() ) )\n",
    "m( x ) |> size"
   ]
  },
  {
   "cell_type": "code",
   "execution_count": 87,
   "metadata": {},
   "outputs": [
    {
     "data": {
      "text/plain": [
       "(60, 60, 2, 10)"
      ]
     },
     "execution_count": 87,
     "metadata": {},
     "output_type": "execute_result"
    }
   ],
   "source": [
    "x = rand(Float32, 100, 100, 1, 10); \n",
    "m = Chain( Conv( (5,5) , 1 => 2  ) , AdaptiveMaxPool( (60,60) ) ) #we want a 40x40 output from MaxPool\n",
    "m( x ) |> size"
   ]
  },
  {
   "cell_type": "code",
   "execution_count": null,
   "metadata": {},
   "outputs": [],
   "source": []
  },
  {
   "cell_type": "code",
   "execution_count": 88,
   "metadata": {},
   "outputs": [
    {
     "data": {
      "text/plain": [
       "(1, 1, 3, 10)"
      ]
     },
     "execution_count": 88,
     "metadata": {},
     "output_type": "execute_result"
    }
   ],
   "source": [
    "x = rand(Float32, 100, 100, 1, 10); \n",
    "m = Chain( Conv( (5,5) , 1 => 3  ) , GlobalMaxPool() ) #we want a 40x40 output from MaxPool\n",
    "m( x ) |> size"
   ]
  },
  {
   "cell_type": "code",
   "execution_count": null,
   "metadata": {},
   "outputs": [],
   "source": []
  },
  {
   "cell_type": "markdown",
   "metadata": {},
   "source": [
    "### <span style=\"color:orange\"> Upsampling </span>\n",
    "\n",
    "- These do the opposite of pooling. Instead of a transposed convolution these layers 'upsample' by increasing the resolution from the perspective of further interpolating across the domain in the statistical sense. \n",
    "- There are different methods for doing so, such as the bilinear and nearest"
   ]
  },
  {
   "cell_type": "code",
   "execution_count": 89,
   "metadata": {},
   "outputs": [
    {
     "data": {
      "text/plain": [
       "(200, 200, 2, 10)"
      ]
     },
     "execution_count": 89,
     "metadata": {},
     "output_type": "execute_result"
    }
   ],
   "source": [
    "x = rand(Float32, 100, 100, 2, 10); \n",
    "m = Upsample( :nearest, size= (200,200) )\n",
    "m( x ) |> size"
   ]
  },
  {
   "cell_type": "code",
   "execution_count": 90,
   "metadata": {},
   "outputs": [
    {
     "data": {
      "text/plain": [
       "(280, 280, 2, 10)"
      ]
     },
     "execution_count": 90,
     "metadata": {},
     "output_type": "execute_result"
    }
   ],
   "source": [
    "x = rand(Float32, 28, 28, 2, 10); \n",
    "m = Upsample( :nearest, size= (28*10,28*10) )\n",
    "m( x ) |> size"
   ]
  },
  {
   "cell_type": "code",
   "execution_count": 91,
   "metadata": {},
   "outputs": [
    {
     "data": {
      "text/plain": [
       "(280, 280, 1, 3)"
      ]
     },
     "metadata": {},
     "output_type": "display_data"
    },
    {
     "data": {
      "image/png": "[encoded data removed]",
      "text/html": [
       "<img src=\"data:image/png;base64,iVBORw0KGgoAAAANSUhEUgAAARgAAAEYCAAAAACi5bZQAAAABGdBTUEAALGPC/xhBQAAAAFzUkdCAK7OHOkAAAAgY0hSTQAAeiYAAICEAAD6AAAAgOgAAHUwAADqYAAAOpgAABdwnLpRPAAAA7dJREFUeAHtwU3oHwIcx/F3eefAYXKxUkhpauUhoSQPsRuHf6SolfJ0GDmtdnDgsKVsB5ODqJWV3DydKI8HtVoeElIcFHbCWP8mtXH6nv6f1n/5/R/K5/WSiqQiqUgqkoqkIqlIKpKKpCKpSCqSiqQiqUgqkoqkIqlIKpKKpCKpSCqSiqQiqUgqkoqkIqlIKpKKpCKpSCqSiqQiqUgqkoqkIqlIKpKKpCKpSCqSiqQi2SDnMLZwJo8zzmNsY+xi7Gfcz/iL8SzjGVZHKpKKpCKpSCqSiqQiqUgqkgW7hHEu4ybGzYwLGPdwtn5iHGQsMU4wvmR8zNmSiqQiqUgqkoqkIqlIKpKKZCGuZbzP2MJinWY8xVhmvMb4hfE74zvOllQkFUlFUpFUJBVJRVKRVCQL8SPjV8YWztYRxnHG7Yy/GYdZe1KRVCQVSUVSkVQkFUlFUpEsxG+M3Yy7GJ8zDrLSF4wdjGXGdsaTrCepSCqSiqQiqUgqkoqkIqlIFuxNxgeME4yrGQ8xDjCWWelrxqOsJ6lIKpKKpCKpSCqSiqQiqUjWzJ+s9AcrPcx4nXGajSYVSUVSkVQkFUlFUpFUJBXJunqacR3jVsadjPfYaFKRVCQVSUVSkVQkFUlFUpGsq2XGI4zPGC8zPmQcZbzI+Ie1JxVJRVKRVCQVSUVSkVQkFckG+YHxIOMQYydjJ+N8xquMY6wVqUgqkoqkIqlIKpKKpCKpSDbcG4zvGQcYdzD2MS5l7GX8zGJJRVKRVCQVSUVSkVQkFUlFsol8xbiPcTfjEOMxxhWMHSyWVCQVSUVSkVQkFUlFUpFUJJvSccZhxisMGbcwbmN8xCJIRVKRVCQVSUVSkVQkFUlFsolcxbiXcT1DVvqG8QmLJRVJRVKRVCQVSUVSkVQkFckG2cZ4grHE2MqZnGIcY5xmsaQiqUgqkoqkIqlIKpKKpCJZB1sZDzB2MS5jdY4y9jLeZq1IRVKRVCQVSUVSkVQkFUlFsmAXMbYzXmBcyeocYTzHeItxmrUnFUlFUpFUJBVJRVKRVCQVyX9wIeMlxjWMy1mdTxkHGO8yTrIxpCKpSCqSiqQiqUgqkoqkIlmlGxm7GTcwLmZ1TjKeZ+xjLLN5SEVSkVQkFUlFUpFUJBVJRbJKS4wlzuRbxjuMU4z9jONsblKRVCQVSUVSkVQkFUlFUpGs0h7GHv4PpCKpSCqSiqQiqUgqkoqkIqlIKpKKpCKpSCqSiqQiqUgqkoqkIqlIKpKKpCKpSCqSiqSifwHoS1qzT4MctAAAAABJRU5ErkJg\">"
      ],
      "text/plain": [
       "\u001b[0m\u001b[38;2;0;0;0;48;2;0;0;0m▀\u001b[38;2;0;0;0;48;2;0;0;0m▀\u001b[38;2;0;0;0;48;2;0;0;0m▀\u001b[38;2;0;0;0;48;2;0;0;0m▀\u001b[38;2;0;0;0;48;2;0;0;0m▀\u001b[38;2;0;0;0;48;2;0;0;0m▀\u001b[38;2;0;0;0;48;2;0;0;0m▀\u001b[38;2;0;0;0;48;2;0;0;0m▀\u001b[38;2;0;0;0;48;2;0;0;0m▀\u001b[38;2;0;0;0;48;2;0;0;0m▀\u001b[38;2;0;0;0;48;2;0;0;0m▀\u001b[38;2;0;0;0;48;2;0;0;0m▀\u001b[38;2;0;0;0;48;2;0;0;0m▀\u001b[38;2;0;0;0;48;2;0;0;0m▀\u001b[38;2;0;0;0;48;2;0;0;0m▀\u001b[38;2;0;0;0;48;2;0;0;0m▀\u001b[38;2;0;0;0;48;2;0;0;0m▀\u001b[38;2;0;0;0;48;2;0;0;0m▀\u001b[38;2;0;0;0;48;2;0;0;0m▀\u001b[38;2;0;0;0;48;2;0;0;0m▀\u001b[38;2;0;0;0;48;2;0;0;0m▀\u001b[38;2;0;0;0;48;2;0;0;0m▀\u001b[38;2;0;0;0;48;2;0;0;0m▀\u001b[38;2;0;0;0;48;2;0;0;0m▀\u001b[38;2;0;0;0;48;2;0;0;0m▀\u001b[38;2;0;0;0;48;2;0;0;0m▀\u001b[38;2;0;0;0;48;2;0;0;0m▀\u001b[38;2;0;0;0;48;2;0;0;0m▀\u001b[38;2;0;0;0;48;2;0;0;0m▀\u001b[38;2;0;0;0;48;2;0;0;0m▀\u001b[38;2;0;0;0;48;2;0;0;0m▀\u001b[38;2;0;0;0;48;2;0;0;0m▀\u001b[38;2;0;0;0;48;2;0;0;0m▀\u001b[38;2;0;0;0;48;2;0;0;0m▀\u001b[38;2;0;0;0;48;2;0;0;0m▀\u001b[38;2;0;0;0;48;2;0;0;0m▀\u001b[0m\n",
       "\u001b[0m\u001b[38;2;0;0;0;48;2;0;0;0m▀\u001b[38;2;0;0;0;48;2;0;0;0m▀\u001b[38;2;0;0;0;48;2;0;0;0m▀\u001b[38;2;0;0;0;48;2;0;0;0m▀\u001b[38;2;0;0;0;48;2;0;0;0m▀\u001b[38;2;0;0;0;48;2;0;0;0m▀\u001b[38;2;0;0;0;48;2;0;0;0m▀\u001b[38;2;0;0;0;48;2;0;0;0m▀\u001b[38;2;0;0;0;48;2;0;0;0m▀\u001b[38;2;0;0;0;48;2;0;0;0m▀\u001b[38;2;0;0;0;48;2;0;0;0m▀\u001b[38;2;0;0;0;48;2;0;0;0m▀\u001b[38;2;0;0;0;48;2;0;0;0m▀\u001b[38;2;0;0;0;48;2;0;0;0m▀\u001b[38;2;0;0;0;48;2;0;0;0m▀\u001b[38;2;0;0;0;48;2;0;0;0m▀\u001b[38;2;0;0;0;48;2;0;0;0m▀\u001b[38;2;0;0;0;48;2;0;0;0m▀\u001b[38;2;0;0;0;48;2;0;0;0m▀\u001b[38;2;0;0;0;48;2;0;0;0m▀\u001b[38;2;0;0;0;48;2;0;0;0m▀\u001b[38;2;0;0;0;48;2;0;0;0m▀\u001b[38;2;0;0;0;48;2;0;0;0m▀\u001b[38;2;0;0;0;48;2;0;0;0m▀\u001b[38;2;0;0;0;48;2;0;0;0m▀\u001b[38;2;0;0;0;48;2;0;0;0m▀\u001b[38;2;0;0;0;48;2;0;0;0m▀\u001b[38;2;0;0;0;48;2;0;0;0m▀\u001b[38;2;0;0;0;48;2;0;0;0m▀\u001b[38;2;0;0;0;48;2;0;0;0m▀\u001b[38;2;0;0;0;48;2;0;0;0m▀\u001b[38;2;0;0;0;48;2;0;0;0m▀\u001b[38;2;0;0;0;48;2;0;0;0m▀\u001b[38;2;0;0;0;48;2;0;0;0m▀\u001b[38;2;0;0;0;48;2;0;0;0m▀\u001b[38;2;0;0;0;48;2;0;0;0m▀\u001b[0m\n",
       "\u001b[0m\u001b[38;2;0;0;0;48;2;0;0;0m▀\u001b[38;2;0;0;0;48;2;0;0;0m▀\u001b[38;2;0;0;0;48;2;0;0;0m▀\u001b[38;2;0;0;0;48;2;0;0;0m▀\u001b[38;2;0;0;0;48;2;0;0;0m▀\u001b[38;2;0;0;0;48;2;0;0;0m▀\u001b[38;2;0;0;0;48;2;0;0;0m▀\u001b[38;2;0;0;0;48;2;0;0;0m▀\u001b[38;2;0;0;0;48;2;0;0;0m▀\u001b[38;2;0;0;0;48;2;0;0;0m▀\u001b[38;2;0;0;0;48;2;0;0;0m▀\u001b[38;2;0;0;0;48;2;0;0;0m▀\u001b[38;2;0;0;0;48;2;0;0;0m▀\u001b[38;2;0;0;0;48;2;0;0;0m▀\u001b[38;2;0;0;0;48;2;0;0;0m▀\u001b[38;2;0;0;0;48;2;0;0;0m▀\u001b[38;2;0;0;0;48;2;0;0;0m▀\u001b[38;2;0;0;0;48;2;0;0;0m▀\u001b[38;2;0;0;0;48;2;0;0;0m▀\u001b[38;2;0;0;0;48;2;0;0;0m▀\u001b[38;2;0;0;0;48;2;0;0;0m▀\u001b[38;2;0;0;0;48;2;0;0;0m▀\u001b[38;2;0;0;0;48;2;0;0;0m▀\u001b[38;2;0;0;0;48;2;0;0;0m▀\u001b[38;2;0;0;0;48;2;0;0;0m▀\u001b[38;2;0;0;0;48;2;0;0;0m▀\u001b[38;2;0;0;0;48;2;0;0;0m▀\u001b[38;2;0;0;0;48;2;0;0;0m▀\u001b[38;2;0;0;0;48;2;0;0;0m▀\u001b[38;2;0;0;0;48;2;0;0;0m▀\u001b[38;2;0;0;0;48;2;0;0;0m▀\u001b[38;2;0;0;0;48;2;0;0;0m▀\u001b[38;2;0;0;0;48;2;0;0;0m▀\u001b[38;2;0;0;0;48;2;0;0;0m▀\u001b[38;2;0;0;0;48;2;0;0;0m▀\u001b[38;2;0;0;0;48;2;0;0;0m▀\u001b[0m\n",
       "\u001b[0m\u001b[38;2;0;0;0;48;2;0;0;0m▀\u001b[38;2;0;0;0;48;2;0;0;0m▀\u001b[38;2;0;0;0;48;2;0;0;0m▀\u001b[38;2;0;0;0;48;2;0;0;0m▀\u001b[38;2;0;0;0;48;2;0;0;0m▀\u001b[38;2;0;0;0;48;2;0;0;0m▀\u001b[38;2;0;0;0;48;2;0;0;0m▀\u001b[38;2;0;0;0;48;2;0;0;0m▀\u001b[38;2;0;0;0;48;2;0;0;0m▀\u001b[38;2;0;0;0;48;2;0;0;0m▀\u001b[38;2;0;0;0;48;2;2;2;2m▀\u001b[38;2;0;0;0;48;2;4;4;4m▀\u001b[38;2;0;0;0;48;2;5;5;5m▀\u001b[38;2;0;0;0;48;2;11;11;11m▀\u001b[38;2;0;0;0;48;2;17;17;17m▀\u001b[38;2;0;0;0;48;2;22;22;22m▀\u001b[38;2;2;2;2;48;2;30;30;30m▀\u001b[38;2;5;5;5;48;2;46;46;46m▀\u001b[38;2;5;5;5;48;2;47;47;47m▀\u001b[38;2;5;5;5;48;2;47;47;47m▀\u001b[38;2;20;20;20;48;2;92;92;92m▀\u001b[38;2;36;36;36;48;2;140;140;140m▀\u001b[38;2;40;40;40;48;2;150;150;150m▀\u001b[38;2;47;47;47;48;2;168;168;168m▀\u001b[38;2;19;19;19;48;2;81;81;81m▀\u001b[38;2;27;27;27;48;2;108;108;108m▀\u001b[38;2;54;54;54;48;2;192;192;192m▀\u001b[38;2;71;71;71;48;2;242;242;242m▀\u001b[38;2;69;69;69;48;2;231;231;231m▀\u001b[38;2;45;45;45;48;2;148;148;148m▀\u001b[38;2;18;18;18;48;2;58;58;58m▀\u001b[38;2;0;0;0;48;2;0;0;0m▀\u001b[38;2;0;0;0;48;2;0;0;0m▀\u001b[38;2;0;0;0;48;2;0;0;0m▀\u001b[38;2;0;0;0;48;2;0;0;0m▀\u001b[38;2;0;0;0;48;2;0;0;0m▀\u001b[0m\n",
       "\u001b[0m\u001b[38;2;0;0;0;48;2;0;0;0m▀\u001b[38;2;0;0;0;48;2;0;0;0m▀\u001b[38;2;0;0;0;48;2;0;0;0m▀\u001b[38;2;0;0;0;48;2;0;0;0m▀\u001b[38;2;0;0;0;48;2;0;0;0m▀\u001b[38;2;0;0;0;48;2;0;0;0m▀\u001b[38;2;0;0;0;48;2;0;0;0m▀\u001b[38;2;0;0;0;48;2;0;0;0m▀\u001b[38;2;0;0;0;48;2;1;1;1m▀\u001b[38;2;1;1;1;48;2;25;25;25m▀\u001b[38;2;17;17;17;48;2;107;107;107m▀\u001b[38;2;34;34;34;48;2;183;183;183m▀\u001b[38;2;44;44;44;48;2;194;194;194m▀\u001b[38;2;83;83;83;48;2;207;207;207m▀\u001b[38;2;124;124;124;48;2;220;220;220m▀\u001b[38;2;145;145;145;48;2;227;227;227m▀\u001b[38;2;172;172;172;48;2;236;236;236m▀\u001b[38;2;221;221;221;48;2;252;252;252m▀\u001b[38;2;224;224;224;48;2;253;253;253m▀\u001b[38;2;224;224;224;48;2;253;253;253m▀\u001b[38;2;230;230;230;48;2;253;253;253m▀\u001b[38;2;237;237;237;48;2;253;253;253m▀\u001b[38;2;235;235;235;48;2;236;236;236m▀\u001b[38;2;216;216;216;48;2;145;145;145m▀\u001b[38;2;169;169;169;48;2;114;114;114m▀\u001b[38;2;194;194;194;48;2;119;119;119m▀\u001b[38;2;237;237;237;48;2;124;124;124m▀\u001b[38;2;233;233;233;48;2;106;106;106m▀\u001b[38;2;198;198;198;48;2;84;84;84m▀\u001b[38;2;106;106;106;48;2;36;36;36m▀\u001b[38;2;35;35;35;48;2;9;9;9m▀\u001b[38;2;0;0;0;48;2;0;0;0m▀\u001b[38;2;0;0;0;48;2;0;0;0m▀\u001b[38;2;0;0;0;48;2;0;0;0m▀\u001b[38;2;0;0;0;48;2;0;0;0m▀\u001b[38;2;0;0;0;48;2;0;0;0m▀\u001b[0m\n",
       "\u001b[0m\u001b[38;2;0;0;0;48;2;0;0;0m▀\u001b[38;2;0;0;0;48;2;0;0;0m▀\u001b[38;2;0;0;0;48;2;0;0;0m▀\u001b[38;2;0;0;0;48;2;0;0;0m▀\u001b[38;2;0;0;0;48;2;0;0;0m▀\u001b[38;2;0;0;0;48;2;0;0;0m▀\u001b[38;2;0;0;0;48;2;0;0;0m▀\u001b[38;2;0;0;0;48;2;0;0;0m▀\u001b[38;2;1;1;1;48;2;0;0;0m▀\u001b[38;2;24;24;24;48;2;9;9;9m▀\u001b[38;2;131;131;131;48;2;96;96;96m▀\u001b[38;2;235;235;235;48;2;193;193;193m▀\u001b[38;2;252;252;252;48;2;223;223;223m▀\u001b[38;2;253;253;253;48;2;215;215;215m▀\u001b[38;2;253;253;253;48;2;241;241;241m▀\u001b[38;2;253;253;253;48;2;253;253;253m▀\u001b[38;2;253;253;253;48;2;249;249;249m▀\u001b[38;2;250;250;250;48;2;228;228;228m▀\u001b[38;2;229;229;229;48;2;157;157;157m▀\u001b[38;2;220;220;220;48;2;135;135;135m▀\u001b[38;2;234;234;234;48;2;160;160;160m▀\u001b[38;2;249;249;249;48;2;197;197;197m▀\u001b[38;2;221;221;221;48;2;189;189;189m▀\u001b[38;2;71;71;71;48;2;27;27;27m▀\u001b[38;2;43;43;43;48;2;0;0;0m▀\u001b[38;2;41;41;41;48;2;0;0;0m▀\u001b[38;2;37;37;37;48;2;0;0;0m▀\u001b[38;2;27;27;27;48;2;0;0;0m▀\u001b[38;2;20;20;20;48;2;0;0;0m▀\u001b[38;2;5;5;5;48;2;0;0;0m▀\u001b[38;2;0;0;0;48;2;0;0;0m▀\u001b[38;2;0;0;0;48;2;0;0;0m▀\u001b[38;2;0;0;0;48;2;0;0;0m▀\u001b[38;2;0;0;0;48;2;0;0;0m▀\u001b[38;2;0;0;0;48;2;0;0;0m▀\u001b[38;2;0;0;0;48;2;0;0;0m▀\u001b[0m\n",
       "\u001b[0m\u001b[38;2;0;0;0;48;2;0;0;0m▀\u001b[38;2;0;0;0;48;2;0;0;0m▀\u001b[38;2;0;0;0;48;2;0;0;0m▀\u001b[38;2;0;0;0;48;2;0;0;0m▀\u001b[38;2;0;0;0;48;2;0;0;0m▀\u001b[38;2;0;0;0;48;2;0;0;0m▀\u001b[38;2;0;0;0;48;2;0;0;0m▀\u001b[38;2;0;0;0;48;2;0;0;0m▀\u001b[38;2;0;0;0;48;2;0;0;0m▀\u001b[38;2;0;0;0;48;2;0;0;0m▀\u001b[38;2;37;37;37;48;2;5;5;5m▀\u001b[38;2;93;93;93;48;2;16;16;16m▀\u001b[38;2;134;134;134;48;2;29;29;29m▀\u001b[38;2;108;108;108;48;2;21;21;21m▀\u001b[38;2;201;201;201;48;2;123;123;123m▀\u001b[38;2;247;247;247;48;2;209;209;209m▀\u001b[38;2;236;236;236;48;2;212;212;212m▀\u001b[38;2;172;172;172;48;2;99;99;99m▀\u001b[38;2;37;37;37;48;2;15;15;15m▀\u001b[38;2;8;8;8;48;2;0;0;0m▀\u001b[38;2;25;25;25;48;2;3;3;3m▀\u001b[38;2;70;70;70;48;2;9;9;9m▀\u001b[38;2;117;117;117;48;2;16;16;16m▀\u001b[38;2;17;17;17;48;2;2;2;2m▀\u001b[38;2;0;0;0;48;2;0;0;0m▀\u001b[38;2;0;0;0;48;2;0;0;0m▀\u001b[38;2;0;0;0;48;2;0;0;0m▀\u001b[38;2;0;0;0;48;2;0;0;0m▀\u001b[38;2;0;0;0;48;2;0;0;0m▀\u001b[38;2;0;0;0;48;2;0;0;0m▀\u001b[38;2;0;0;0;48;2;0;0;0m▀\u001b[38;2;0;0;0;48;2;0;0;0m▀\u001b[38;2;0;0;0;48;2;0;0;0m▀\u001b[38;2;0;0;0;48;2;0;0;0m▀\u001b[38;2;0;0;0;48;2;0;0;0m▀\u001b[38;2;0;0;0;48;2;0;0;0m▀\u001b[0m\n",
       "\u001b[0m\u001b[38;2;0;0;0;48;2;0;0;0m▀\u001b[38;2;0;0;0;48;2;0;0;0m▀\u001b[38;2;0;0;0;48;2;0;0;0m▀\u001b[38;2;0;0;0;48;2;0;0;0m▀\u001b[38;2;0;0;0;48;2;0;0;0m▀\u001b[38;2;0;0;0;48;2;0;0;0m▀\u001b[38;2;0;0;0;48;2;0;0;0m▀\u001b[38;2;0;0;0;48;2;0;0;0m▀\u001b[38;2;0;0;0;48;2;0;0;0m▀\u001b[38;2;0;0;0;48;2;0;0;0m▀\u001b[38;2;0;0;0;48;2;0;0;0m▀\u001b[38;2;1;1;1;48;2;0;0;0m▀\u001b[38;2;3;3;3;48;2;0;0;0m▀\u001b[38;2;5;5;5;48;2;2;2;2m▀\u001b[38;2;103;103;103;48;2;54;54;54m▀\u001b[38;2;198;198;198;48;2;148;148;148m▀\u001b[38;2;227;227;227;48;2;222;222;222m▀\u001b[38;2;145;145;145;48;2;198;198;198m▀\u001b[38;2;21;21;21;48;2;58;58;58m▀\u001b[38;2;0;0;0;48;2;10;10;10m▀\u001b[38;2;0;0;0;48;2;0;0;0m▀\u001b[38;2;0;0;0;48;2;0;0;0m▀\u001b[38;2;0;0;0;48;2;0;0;0m▀\u001b[38;2;0;0;0;48;2;0;0;0m▀\u001b[38;2;0;0;0;48;2;0;0;0m▀\u001b[38;2;0;0;0;48;2;0;0;0m▀\u001b[38;2;0;0;0;48;2;0;0;0m▀\u001b[38;2;0;0;0;48;2;0;0;0m▀\u001b[38;2;0;0;0;48;2;0;0;0m▀\u001b[38;2;0;0;0;48;2;0;0;0m▀\u001b[38;2;0;0;0;48;2;0;0;0m▀\u001b[38;2;0;0;0;48;2;0;0;0m▀\u001b[38;2;0;0;0;48;2;0;0;0m▀\u001b[38;2;0;0;0;48;2;0;0;0m▀\u001b[38;2;0;0;0;48;2;0;0;0m▀\u001b[38;2;0;0;0;48;2;0;0;0m▀\u001b[0m\n",
       "\u001b[0m\u001b[38;2;0;0;0;48;2;0;0;0m▀\u001b[38;2;0;0;0;48;2;0;0;0m▀\u001b[38;2;0;0;0;48;2;0;0;0m▀\u001b[38;2;0;0;0;48;2;0;0;0m▀\u001b[38;2;0;0;0;48;2;0;0;0m▀\u001b[38;2;0;0;0;48;2;0;0;0m▀\u001b[38;2;0;0;0;48;2;0;0;0m▀\u001b[38;2;0;0;0;48;2;0;0;0m▀\u001b[38;2;0;0;0;48;2;0;0;0m▀\u001b[38;2;0;0;0;48;2;0;0;0m▀\u001b[38;2;0;0;0;48;2;0;0;0m▀\u001b[38;2;0;0;0;48;2;0;0;0m▀\u001b[38;2;0;0;0;48;2;0;0;0m▀\u001b[38;2;0;0;0;48;2;0;0;0m▀\u001b[38;2;6;6;6;48;2;0;0;0m▀\u001b[38;2;77;77;77;48;2;18;18;18m▀\u001b[38;2;175;175;175;48;2;88;88;88m▀\u001b[38;2;229;229;229;48;2;216;216;216m▀\u001b[38;2;128;128;128;48;2;220;220;220m▀\u001b[38;2;64;64;64;48;2;182;182;182m▀\u001b[38;2;38;38;38;48;2;145;145;145m▀\u001b[38;2;22;22;22;48;2;93;93;93m▀\u001b[38;2;1;1;1;48;2;17;17;17m▀\u001b[38;2;0;0;0;48;2;5;5;5m▀\u001b[38;2;0;0;0;48;2;1;1;1m▀\u001b[38;2;0;0;0;48;2;0;0;0m▀\u001b[38;2;0;0;0;48;2;0;0;0m▀\u001b[38;2;0;0;0;48;2;0;0;0m▀\u001b[38;2;0;0;0;48;2;0;0;0m▀\u001b[38;2;0;0;0;48;2;0;0;0m▀\u001b[38;2;0;0;0;48;2;0;0;0m▀\u001b[38;2;0;0;0;48;2;0;0;0m▀\u001b[38;2;0;0;0;48;2;0;0;0m▀\u001b[38;2;0;0;0;48;2;0;0;0m▀\u001b[38;2;0;0;0;48;2;0;0;0m▀\u001b[38;2;0;0;0;48;2;0;0;0m▀\u001b[0m\n",
       "\u001b[0m\u001b[38;2;0;0;0;48;2;0;0;0m▀\u001b[38;2;0;0;0;48;2;0;0;0m▀\u001b[38;2;0;0;0;48;2;0;0;0m▀\u001b[38;2;0;0;0;48;2;0;0;0m▀\u001b[38;2;0;0;0;48;2;0;0;0m▀\u001b[38;2;0;0;0;48;2;0;0;0m▀\u001b[38;2;0;0;0;48;2;0;0;0m▀\u001b[38;2;0;0;0;48;2;0;0;0m▀\u001b[38;2;0;0;0;48;2;0;0;0m▀\u001b[38;2;0;0;0;48;2;0;0;0m▀\u001b[38;2;0;0;0;48;2;0;0;0m▀\u001b[38;2;0;0;0;48;2;0;0;0m▀\u001b[38;2;0;0;0;48;2;0;0;0m▀\u001b[38;2;0;0;0;48;2;0;0;0m▀\u001b[38;2;0;0;0;48;2;0;0;0m▀\u001b[38;2;2;2;2;48;2;0;0;0m▀\u001b[38;2;31;31;31;48;2;6;6;6m▀\u001b[38;2;112;112;112;48;2;32;32;32m▀\u001b[38;2;216;216;216;48;2;93;93;93m▀\u001b[38;2;237;237;237;48;2;175;175;175m▀\u001b[38;2;237;237;237;48;2;229;229;229m▀\u001b[38;2;199;199;199;48;2;242;242;242m▀\u001b[38;2;102;102;102;48;2;204;204;204m▀\u001b[38;2;35;35;35;48;2;124;124;124m▀\u001b[38;2;8;8;8;48;2;46;46;46m▀\u001b[38;2;0;0;0;48;2;10;10;10m▀\u001b[38;2;0;0;0;48;2;0;0;0m▀\u001b[38;2;0;0;0;48;2;0;0;0m▀\u001b[38;2;0;0;0;48;2;0;0;0m▀\u001b[38;2;0;0;0;48;2;0;0;0m▀\u001b[38;2;0;0;0;48;2;0;0;0m▀\u001b[38;2;0;0;0;48;2;0;0;0m▀\u001b[38;2;0;0;0;48;2;0;0;0m▀\u001b[38;2;0;0;0;48;2;0;0;0m▀\u001b[38;2;0;0;0;48;2;0;0;0m▀\u001b[38;2;0;0;0;48;2;0;0;0m▀\u001b[0m\n",
       "\u001b[0m\u001b[38;2;0;0;0;48;2;0;0;0m▀\u001b[38;2;0;0;0;48;2;0;0;0m▀\u001b[38;2;0;0;0;48;2;0;0;0m▀\u001b[38;2;0;0;0;48;2;0;0;0m▀\u001b[38;2;0;0;0;48;2;0;0;0m▀\u001b[38;2;0;0;0;48;2;0;0;0m▀\u001b[38;2;0;0;0;48;2;0;0;0m▀\u001b[38;2;0;0;0;48;2;0;0;0m▀\u001b[38;2;0;0;0;48;2;0;0;0m▀\u001b[38;2;0;0;0;48;2;0;0;0m▀\u001b[38;2;0;0;0;48;2;0;0;0m▀\u001b[38;2;0;0;0;48;2;0;0;0m▀\u001b[38;2;0;0;0;48;2;0;0;0m▀\u001b[38;2;0;0;0;48;2;0;0;0m▀\u001b[38;2;0;0;0;48;2;0;0;0m▀\u001b[38;2;0;0;0;48;2;0;0;0m▀\u001b[38;2;0;0;0;48;2;0;0;0m▀\u001b[38;2;3;3;3;48;2;0;0;0m▀\u001b[38;2;22;22;22;48;2;0;0;0m▀\u001b[38;2;79;79;79;48;2;8;8;8m▀\u001b[38;2;137;137;137;48;2;39;39;39m▀\u001b[38;2;195;195;195;48;2;119;119;119m▀\u001b[38;2;244;244;244;48;2;246;246;246m▀\u001b[38;2;205;205;205;48;2;251;251;251m▀\u001b[38;2;134;134;134;48;2;218;218;218m▀\u001b[38;2;54;54;54;48;2;111;111;111m▀\u001b[38;2;0;0;0;48;2;13;13;13m▀\u001b[38;2;0;0;0;48;2;1;1;1m▀\u001b[38;2;0;0;0;48;2;0;0;0m▀\u001b[38;2;0;0;0;48;2;0;0;0m▀\u001b[38;2;0;0;0;48;2;0;0;0m▀\u001b[38;2;0;0;0;48;2;0;0;0m▀\u001b[38;2;0;0;0;48;2;0;0;0m▀\u001b[38;2;0;0;0;48;2;0;0;0m▀\u001b[38;2;0;0;0;48;2;0;0;0m▀\u001b[38;2;0;0;0;48;2;0;0;0m▀\u001b[0m\n",
       "\u001b[0m\u001b[38;2;0;0;0;48;2;0;0;0m▀\u001b[38;2;0;0;0;48;2;0;0;0m▀\u001b[38;2;0;0;0;48;2;0;0;0m▀\u001b[38;2;0;0;0;48;2;0;0;0m▀\u001b[38;2;0;0;0;48;2;0;0;0m▀\u001b[38;2;0;0;0;48;2;0;0;0m▀\u001b[38;2;0;0;0;48;2;0;0;0m▀\u001b[38;2;0;0;0;48;2;0;0;0m▀\u001b[38;2;0;0;0;48;2;0;0;0m▀\u001b[38;2;0;0;0;48;2;0;0;0m▀\u001b[38;2;0;0;0;48;2;0;0;0m▀\u001b[38;2;0;0;0;48;2;0;0;0m▀\u001b[38;2;0;0;0;48;2;0;0;0m▀\u001b[38;2;0;0;0;48;2;0;0;0m▀\u001b[38;2;0;0;0;48;2;0;0;0m▀\u001b[38;2;0;0;0;48;2;1;1;1m▀\u001b[38;2;0;0;0;48;2;2;2;2m▀\u001b[38;2;1;1;1;48;2;10;10;10m▀\u001b[38;2;5;5;5;48;2;43;43;43m▀\u001b[38;2;14;14;14;48;2;97;97;97m▀\u001b[38;2;21;21;21;48;2;140;140;140m▀\u001b[38;2;89;89;89;48;2;188;188;188m▀\u001b[38;2;243;243;243;48;2;250;250;250m▀\u001b[38;2;252;252;252;48;2;252;252;252m▀\u001b[38;2;245;245;245;48;2;223;223;223m▀\u001b[38;2;148;148;148;48;2;111;111;111m▀\u001b[38;2;39;39;39;48;2;7;7;7m▀\u001b[38;2;2;2;2;48;2;0;0;0m▀\u001b[38;2;0;0;0;48;2;0;0;0m▀\u001b[38;2;0;0;0;48;2;0;0;0m▀\u001b[38;2;0;0;0;48;2;0;0;0m▀\u001b[38;2;0;0;0;48;2;0;0;0m▀\u001b[38;2;0;0;0;48;2;0;0;0m▀\u001b[38;2;0;0;0;48;2;0;0;0m▀\u001b[38;2;0;0;0;48;2;0;0;0m▀\u001b[38;2;0;0;0;48;2;0;0;0m▀\u001b[0m\n",
       "\u001b[0m\u001b[38;2;0;0;0;48;2;0;0;0m▀\u001b[38;2;0;0;0;48;2;0;0;0m▀\u001b[38;2;0;0;0;48;2;0;0;0m▀\u001b[38;2;0;0;0;48;2;0;0;0m▀\u001b[38;2;0;0;0;48;2;0;0;0m▀\u001b[38;2;0;0;0;48;2;0;0;0m▀\u001b[38;2;0;0;0;48;2;0;0;0m▀\u001b[38;2;0;0;0;48;2;0;0;0m▀\u001b[38;2;0;0;0;48;2;0;0;0m▀\u001b[38;2;0;0;0;48;2;0;0;0m▀\u001b[38;2;0;0;0;48;2;0;0;0m▀\u001b[38;2;0;0;0;48;2;0;0;0m▀\u001b[38;2;0;0;0;48;2;2;2;2m▀\u001b[38;2;0;0;0;48;2;12;12;12m▀\u001b[38;2;0;0;0;48;2;44;44;44m▀\u001b[38;2;14;14;14;48;2;94;94;94m▀\u001b[38;2;50;50;50;48;2;150;150;150m▀\u001b[38;2;113;113;113;48;2;203;203;203m▀\u001b[38;2;170;170;170;48;2;236;236;236m▀\u001b[38;2;207;207;207;48;2;250;250;250m▀\u001b[38;2;226;226;226;48;2;253;253;253m▀\u001b[38;2;239;239;239;48;2;246;246;246m▀\u001b[38;2;252;252;252;48;2;220;220;220m▀\u001b[38;2;249;249;249;48;2;170;170;170m▀\u001b[38;2;206;206;206;48;2;112;112;112m▀\u001b[38;2;95;95;95;48;2;46;46;46m▀\u001b[38;2;0;0;0;48;2;0;0;0m▀\u001b[38;2;0;0;0;48;2;0;0;0m▀\u001b[38;2;0;0;0;48;2;0;0;0m▀\u001b[38;2;0;0;0;48;2;0;0;0m▀\u001b[38;2;0;0;0;48;2;0;0;0m▀\u001b[38;2;0;0;0;48;2;0;0;0m▀\u001b[38;2;0;0;0;48;2;0;0;0m▀\u001b[38;2;0;0;0;48;2;0;0;0m▀\u001b[38;2;0;0;0;48;2;0;0;0m▀\u001b[38;2;0;0;0;48;2;0;0;0m▀\u001b[0m\n",
       "\u001b[0m\u001b[38;2;0;0;0;48;2;0;0;0m▀\u001b[38;2;0;0;0;48;2;0;0;0m▀\u001b[38;2;0;0;0;48;2;0;0;0m▀\u001b[38;2;0;0;0;48;2;0;0;0m▀\u001b[38;2;0;0;0;48;2;0;0;0m▀\u001b[38;2;0;0;0;48;2;0;0;0m▀\u001b[38;2;0;0;0;48;2;0;0;0m▀\u001b[38;2;0;0;0;48;2;0;0;0m▀\u001b[38;2;0;0;0;48;2;3;3;3m▀\u001b[38;2;0;0;0;48;2;16;16;16m▀\u001b[38;2;3;3;3;48;2;34;34;34m▀\u001b[38;2;10;10;10;48;2;58;58;58m▀\u001b[38;2;26;26;26;48;2;102;102;102m▀\u001b[38;2;72;72;72;48;2;198;198;198m▀\u001b[38;2;132;132;132;48;2;238;238;238m▀\u001b[38;2;192;192;192;48;2;250;250;250m▀\u001b[38;2;236;236;236;48;2;250;250;250m▀\u001b[38;2;252;252;252;48;2;244;244;244m▀\u001b[38;2;253;253;253;48;2;231;231;231m▀\u001b[38;2;242;242;242;48;2;192;192;192m▀\u001b[38;2;221;221;221;48;2;126;126;126m▀\u001b[38;2;188;188;188;48;2;57;57;57m▀\u001b[38;2;136;136;136;48;2;9;9;9m▀\u001b[38;2;65;65;65;48;2;3;3;3m▀\u001b[38;2;16;16;16;48;2;1;1;1m▀\u001b[38;2;0;0;0;48;2;0;0;0m▀\u001b[38;2;0;0;0;48;2;0;0;0m▀\u001b[38;2;0;0;0;48;2;0;0;0m▀\u001b[38;2;0;0;0;48;2;0;0;0m▀\u001b[38;2;0;0;0;48;2;0;0;0m▀\u001b[38;2;0;0;0;48;2;0;0;0m▀\u001b[38;2;0;0;0;48;2;0;0;0m▀\u001b[38;2;0;0;0;48;2;0;0;0m▀\u001b[38;2;0;0;0;48;2;0;0;0m▀\u001b[38;2;0;0;0;48;2;0;0;0m▀\u001b[38;2;0;0;0;48;2;0;0;0m▀\u001b[0m\n",
       "\u001b[0m\u001b[38;2;0;0;0;48;2;0;0;0m▀\u001b[38;2;0;0;0;48;2;0;0;0m▀\u001b[38;2;0;0;0;48;2;0;0;0m▀\u001b[38;2;0;0;0;48;2;0;0;0m▀\u001b[38;2;0;0;0;48;2;0;0;0m▀\u001b[38;2;1;1;1;48;2;20;20;20m▀\u001b[38;2;3;3;3;48;2;63;63;63m▀\u001b[38;2;7;7;7;48;2;126;126;126m▀\u001b[38;2;24;24;24;48;2;164;164;164m▀\u001b[38;2;116;116;116;48;2;212;212;212m▀\u001b[38;2;174;174;174;48;2;237;237;237m▀\u001b[38;2;205;205;205;48;2;246;246;246m▀\u001b[38;2;231;231;231;48;2;253;253;253m▀\u001b[38;2;246;246;246;48;2;253;253;253m▀\u001b[38;2;251;251;251;48;2;248;248;248m▀\u001b[38;2;251;251;251;48;2;207;207;207m▀\u001b[38;2;234;234;234;48;2;138;138;138m▀\u001b[38;2;186;186;186;48;2;61;61;61m▀\u001b[38;2;109;109;109;48;2;27;27;27m▀\u001b[38;2;51;51;51;48;2;8;8;8m▀\u001b[38;2;21;21;21;48;2;1;1;1m▀\u001b[38;2;7;7;7;48;2;0;0;0m▀\u001b[38;2;1;1;1;48;2;0;0;0m▀\u001b[38;2;0;0;0;48;2;0;0;0m▀\u001b[38;2;0;0;0;48;2;0;0;0m▀\u001b[38;2;0;0;0;48;2;0;0;0m▀\u001b[38;2;0;0;0;48;2;0;0;0m▀\u001b[38;2;0;0;0;48;2;0;0;0m▀\u001b[38;2;0;0;0;48;2;0;0;0m▀\u001b[38;2;0;0;0;48;2;0;0;0m▀\u001b[38;2;0;0;0;48;2;0;0;0m▀\u001b[38;2;0;0;0;48;2;0;0;0m▀\u001b[38;2;0;0;0;48;2;0;0;0m▀\u001b[38;2;0;0;0;48;2;0;0;0m▀\u001b[38;2;0;0;0;48;2;0;0;0m▀\u001b[38;2;0;0;0;48;2;0;0;0m▀\u001b[0m\n",
       "\u001b[0m\u001b[38;2;0;0;0;48;2;0;0;0m▀\u001b[38;2;0;0;0;48;2;0;0;0m▀\u001b[38;2;0;0;0;48;2;0;0;0m▀\u001b[38;2;0;0;0;48;2;0;0;0m▀\u001b[38;2;0;0;0;48;2;0;0;0m▀\u001b[38;2;48;48;48;48;2;49;49;49m▀\u001b[38;2;128;128;128;48;2;121;121;121m▀\u001b[38;2;212;212;212;48;2;179;179;179m▀\u001b[38;2;237;237;237;48;2;182;182;182m▀\u001b[38;2;249;249;249;48;2;182;182;182m▀\u001b[38;2;243;243;243;48;2;167;167;167m▀\u001b[38;2;222;222;222;48;2;137;137;137m▀\u001b[38;2;195;195;195;48;2;98;98;98m▀\u001b[38;2;191;191;191;48;2;93;93;93m▀\u001b[38;2;148;148;148;48;2;35;35;35m▀\u001b[38;2;98;98;98;48;2;6;6;6m▀\u001b[38;2;49;49;49;48;2;0;0;0m▀\u001b[38;2;7;7;7;48;2;0;0;0m▀\u001b[38;2;1;1;1;48;2;0;0;0m▀\u001b[38;2;0;0;0;48;2;0;0;0m▀\u001b[38;2;0;0;0;48;2;0;0;0m▀\u001b[38;2;0;0;0;48;2;0;0;0m▀\u001b[38;2;0;0;0;48;2;0;0;0m▀\u001b[38;2;0;0;0;48;2;0;0;0m▀\u001b[38;2;0;0;0;48;2;0;0;0m▀\u001b[38;2;0;0;0;48;2;0;0;0m▀\u001b[38;2;0;0;0;48;2;0;0;0m▀\u001b[38;2;0;0;0;48;2;0;0;0m▀\u001b[38;2;0;0;0;48;2;0;0;0m▀\u001b[38;2;0;0;0;48;2;0;0;0m▀\u001b[38;2;0;0;0;48;2;0;0;0m▀\u001b[38;2;0;0;0;48;2;0;0;0m▀\u001b[38;2;0;0;0;48;2;0;0;0m▀\u001b[38;2;0;0;0;48;2;0;0;0m▀\u001b[38;2;0;0;0;48;2;0;0;0m▀\u001b[38;2;0;0;0;48;2;0;0;0m▀\u001b[0m\n",
       "\u001b[0m\u001b[38;2;0;0;0;48;2;0;0;0m▀\u001b[38;2;0;0;0;48;2;0;0;0m▀\u001b[38;2;0;0;0;48;2;0;0;0m▀\u001b[38;2;0;0;0;48;2;0;0;0m▀\u001b[38;2;0;0;0;48;2;0;0;0m▀\u001b[38;2;2;2;2;48;2;0;0;0m▀\u001b[38;2;5;5;5;48;2;0;0;0m▀\u001b[38;2;8;8;8;48;2;0;0;0m▀\u001b[38;2;8;8;8;48;2;0;0;0m▀\u001b[38;2;8;8;8;48;2;0;0;0m▀\u001b[38;2;7;7;7;48;2;0;0;0m▀\u001b[38;2;6;6;6;48;2;0;0;0m▀\u001b[38;2;4;4;4;48;2;0;0;0m▀\u001b[38;2;4;4;4;48;2;0;0;0m▀\u001b[38;2;2;2;2;48;2;0;0;0m▀\u001b[38;2;0;0;0;48;2;0;0;0m▀\u001b[38;2;0;0;0;48;2;0;0;0m▀\u001b[38;2;0;0;0;48;2;0;0;0m▀\u001b[38;2;0;0;0;48;2;0;0;0m▀\u001b[38;2;0;0;0;48;2;0;0;0m▀\u001b[38;2;0;0;0;48;2;0;0;0m▀\u001b[38;2;0;0;0;48;2;0;0;0m▀\u001b[38;2;0;0;0;48;2;0;0;0m▀\u001b[38;2;0;0;0;48;2;0;0;0m▀\u001b[38;2;0;0;0;48;2;0;0;0m▀\u001b[38;2;0;0;0;48;2;0;0;0m▀\u001b[38;2;0;0;0;48;2;0;0;0m▀\u001b[38;2;0;0;0;48;2;0;0;0m▀\u001b[38;2;0;0;0;48;2;0;0;0m▀\u001b[38;2;0;0;0;48;2;0;0;0m▀\u001b[38;2;0;0;0;48;2;0;0;0m▀\u001b[38;2;0;0;0;48;2;0;0;0m▀\u001b[38;2;0;0;0;48;2;0;0;0m▀\u001b[38;2;0;0;0;48;2;0;0;0m▀\u001b[38;2;0;0;0;48;2;0;0;0m▀\u001b[38;2;0;0;0;48;2;0;0;0m▀\u001b[0m\n",
       "\u001b[0m\u001b[38;2;0;0;0;48;2;0;0;0m▀\u001b[38;2;0;0;0;48;2;0;0;0m▀\u001b[38;2;0;0;0;48;2;0;0;0m▀\u001b[38;2;0;0;0;48;2;0;0;0m▀\u001b[38;2;0;0;0;48;2;0;0;0m▀\u001b[38;2;0;0;0;48;2;0;0;0m▀\u001b[38;2;0;0;0;48;2;0;0;0m▀\u001b[38;2;0;0;0;48;2;0;0;0m▀\u001b[38;2;0;0;0;48;2;0;0;0m▀\u001b[38;2;0;0;0;48;2;0;0;0m▀\u001b[38;2;0;0;0;48;2;0;0;0m▀\u001b[38;2;0;0;0;48;2;0;0;0m▀\u001b[38;2;0;0;0;48;2;0;0;0m▀\u001b[38;2;0;0;0;48;2;0;0;0m▀\u001b[38;2;0;0;0;48;2;0;0;0m▀\u001b[38;2;0;0;0;48;2;0;0;0m▀\u001b[38;2;0;0;0;48;2;0;0;0m▀\u001b[38;2;0;0;0;48;2;0;0;0m▀\u001b[38;2;0;0;0;48;2;0;0;0m▀\u001b[38;2;0;0;0;48;2;0;0;0m▀\u001b[38;2;0;0;0;48;2;0;0;0m▀\u001b[38;2;0;0;0;48;2;0;0;0m▀\u001b[38;2;0;0;0;48;2;0;0;0m▀\u001b[38;2;0;0;0;48;2;0;0;0m▀\u001b[38;2;0;0;0;48;2;0;0;0m▀\u001b[38;2;0;0;0;48;2;0;0;0m▀\u001b[38;2;0;0;0;48;2;0;0;0m▀\u001b[38;2;0;0;0;48;2;0;0;0m▀\u001b[38;2;0;0;0;48;2;0;0;0m▀\u001b[38;2;0;0;0;48;2;0;0;0m▀\u001b[38;2;0;0;0;48;2;0;0;0m▀\u001b[38;2;0;0;0;48;2;0;0;0m▀\u001b[38;2;0;0;0;48;2;0;0;0m▀\u001b[38;2;0;0;0;48;2;0;0;0m▀\u001b[38;2;0;0;0;48;2;0;0;0m▀\u001b[38;2;0;0;0;48;2;0;0;0m▀\u001b[0m\n"
      ]
     },
     "execution_count": 91,
     "metadata": {},
     "output_type": "execute_result"
    }
   ],
   "source": [
    "cnn_output = m( images[:,:,:,1:3] )\n",
    "display( cnn_output |> size )\n",
    "convert2image( MNIST , cnn_output[:,:,1,1] )"
   ]
  },
  {
   "cell_type": "code",
   "execution_count": 92,
   "metadata": {},
   "outputs": [
    {
     "data": {
      "text/plain": [
       "(1000, 1000, 2, 10)"
      ]
     },
     "execution_count": 92,
     "metadata": {},
     "output_type": "execute_result"
    }
   ],
   "source": [
    "x = rand(Float32, 100, 100, 2, 10); \n",
    "m = Upsample( :bilinear, scale=10 )\n",
    "m( x ) |> size"
   ]
  },
  {
   "cell_type": "code",
   "execution_count": 93,
   "metadata": {},
   "outputs": [
    {
     "data": {
      "text/plain": [
       "(280, 280, 1, 3)"
      ]
     },
     "metadata": {},
     "output_type": "display_data"
    },
    {
     "data": {
      "image/png": "[encoded data removed]",
      "text/html": [
       "<img src=\"data:image/png;base64,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\">"
      ],
      "text/plain": [
       "\u001b[0m\u001b[38;2;0;0;0;48;2;0;0;0m▀\u001b[38;2;0;0;0;48;2;0;0;0m▀\u001b[38;2;0;0;0;48;2;0;0;0m▀\u001b[38;2;0;0;0;48;2;0;0;0m▀\u001b[38;2;0;0;0;48;2;0;0;0m▀\u001b[38;2;0;0;0;48;2;0;0;0m▀\u001b[38;2;0;0;0;48;2;0;0;0m▀\u001b[38;2;0;0;0;48;2;0;0;0m▀\u001b[38;2;0;0;0;48;2;0;0;0m▀\u001b[38;2;0;0;0;48;2;0;0;0m▀\u001b[38;2;0;0;0;48;2;0;0;0m▀\u001b[38;2;0;0;0;48;2;0;0;0m▀\u001b[38;2;0;0;0;48;2;0;0;0m▀\u001b[38;2;0;0;0;48;2;0;0;0m▀\u001b[38;2;0;0;0;48;2;0;0;0m▀\u001b[38;2;0;0;0;48;2;0;0;0m▀\u001b[38;2;0;0;0;48;2;0;0;0m▀\u001b[38;2;0;0;0;48;2;0;0;0m▀\u001b[38;2;0;0;0;48;2;0;0;0m▀\u001b[38;2;0;0;0;48;2;0;0;0m▀\u001b[38;2;0;0;0;48;2;0;0;0m▀\u001b[38;2;0;0;0;48;2;0;0;0m▀\u001b[38;2;0;0;0;48;2;0;0;0m▀\u001b[38;2;0;0;0;48;2;0;0;0m▀\u001b[38;2;0;0;0;48;2;0;0;0m▀\u001b[38;2;0;0;0;48;2;0;0;0m▀\u001b[38;2;0;0;0;48;2;0;0;0m▀\u001b[38;2;0;0;0;48;2;0;0;0m▀\u001b[38;2;0;0;0;48;2;0;0;0m▀\u001b[38;2;0;0;0;48;2;0;0;0m▀\u001b[38;2;0;0;0;48;2;0;0;0m▀\u001b[38;2;0;0;0;48;2;0;0;0m▀\u001b[38;2;0;0;0;48;2;0;0;0m▀\u001b[38;2;0;0;0;48;2;0;0;0m▀\u001b[38;2;0;0;0;48;2;0;0;0m▀\u001b[38;2;0;0;0;48;2;0;0;0m▀\u001b[0m\n",
       "\u001b[0m\u001b[38;2;0;0;0;48;2;0;0;0m▀\u001b[38;2;0;0;0;48;2;0;0;0m▀\u001b[38;2;0;0;0;48;2;0;0;0m▀\u001b[38;2;0;0;0;48;2;0;0;0m▀\u001b[38;2;0;0;0;48;2;0;0;0m▀\u001b[38;2;0;0;0;48;2;0;0;0m▀\u001b[38;2;0;0;0;48;2;0;0;0m▀\u001b[38;2;0;0;0;48;2;0;0;0m▀\u001b[38;2;0;0;0;48;2;0;0;0m▀\u001b[38;2;0;0;0;48;2;0;0;0m▀\u001b[38;2;0;0;0;48;2;0;0;0m▀\u001b[38;2;0;0;0;48;2;0;0;0m▀\u001b[38;2;0;0;0;48;2;0;0;0m▀\u001b[38;2;0;0;0;48;2;0;0;0m▀\u001b[38;2;0;0;0;48;2;0;0;0m▀\u001b[38;2;0;0;0;48;2;0;0;0m▀\u001b[38;2;0;0;0;48;2;0;0;0m▀\u001b[38;2;0;0;0;48;2;0;0;0m▀\u001b[38;2;0;0;0;48;2;0;0;0m▀\u001b[38;2;0;0;0;48;2;0;0;0m▀\u001b[38;2;0;0;0;48;2;0;0;0m▀\u001b[38;2;0;0;0;48;2;0;0;0m▀\u001b[38;2;0;0;0;48;2;0;0;0m▀\u001b[38;2;0;0;0;48;2;0;0;0m▀\u001b[38;2;0;0;0;48;2;0;0;0m▀\u001b[38;2;0;0;0;48;2;0;0;0m▀\u001b[38;2;0;0;0;48;2;0;0;0m▀\u001b[38;2;0;0;0;48;2;0;0;0m▀\u001b[38;2;0;0;0;48;2;0;0;0m▀\u001b[38;2;0;0;0;48;2;0;0;0m▀\u001b[38;2;0;0;0;48;2;0;0;0m▀\u001b[38;2;0;0;0;48;2;0;0;0m▀\u001b[38;2;0;0;0;48;2;0;0;0m▀\u001b[38;2;0;0;0;48;2;0;0;0m▀\u001b[38;2;0;0;0;48;2;0;0;0m▀\u001b[38;2;0;0;0;48;2;0;0;0m▀\u001b[0m\n",
       "\u001b[0m\u001b[38;2;0;0;0;48;2;0;0;0m▀\u001b[38;2;0;0;0;48;2;0;0;0m▀\u001b[38;2;0;0;0;48;2;0;0;0m▀\u001b[38;2;0;0;0;48;2;0;0;0m▀\u001b[38;2;0;0;0;48;2;0;0;0m▀\u001b[38;2;0;0;0;48;2;0;0;0m▀\u001b[38;2;0;0;0;48;2;0;0;0m▀\u001b[38;2;0;0;0;48;2;0;0;0m▀\u001b[38;2;0;0;0;48;2;0;0;0m▀\u001b[38;2;0;0;0;48;2;0;0;0m▀\u001b[38;2;0;0;0;48;2;0;0;0m▀\u001b[38;2;0;0;0;48;2;0;0;0m▀\u001b[38;2;0;0;0;48;2;0;0;0m▀\u001b[38;2;0;0;0;48;2;0;0;0m▀\u001b[38;2;0;0;0;48;2;0;0;0m▀\u001b[38;2;0;0;0;48;2;0;0;0m▀\u001b[38;2;0;0;0;48;2;0;0;0m▀\u001b[38;2;0;0;0;48;2;1;1;1m▀\u001b[38;2;0;0;0;48;2;1;1;1m▀\u001b[38;2;0;0;0;48;2;1;1;1m▀\u001b[38;2;0;0;0;48;2;4;4;4m▀\u001b[38;2;0;0;0;48;2;7;7;7m▀\u001b[38;2;0;0;0;48;2;8;8;8m▀\u001b[38;2;0;0;0;48;2;9;9;9m▀\u001b[38;2;0;0;0;48;2;6;6;6m▀\u001b[38;2;0;0;0;48;2;5;5;5m▀\u001b[38;2;0;0;0;48;2;10;10;10m▀\u001b[38;2;0;0;0;48;2;14;14;14m▀\u001b[38;2;0;0;0;48;2;15;15;15m▀\u001b[38;2;0;0;0;48;2;12;12;12m▀\u001b[38;2;0;0;0;48;2;6;6;6m▀\u001b[38;2;0;0;0;48;2;1;1;1m▀\u001b[38;2;0;0;0;48;2;0;0;0m▀\u001b[38;2;0;0;0;48;2;0;0;0m▀\u001b[38;2;0;0;0;48;2;0;0;0m▀\u001b[38;2;0;0;0;48;2;0;0;0m▀\u001b[0m\n",
       "\u001b[0m\u001b[38;2;0;0;0;48;2;0;0;0m▀\u001b[38;2;0;0;0;48;2;0;0;0m▀\u001b[38;2;0;0;0;48;2;0;0;0m▀\u001b[38;2;0;0;0;48;2;0;0;0m▀\u001b[38;2;0;0;0;48;2;0;0;0m▀\u001b[38;2;0;0;0;48;2;0;0;0m▀\u001b[38;2;0;0;0;48;2;0;0;0m▀\u001b[38;2;0;0;0;48;2;0;0;0m▀\u001b[38;2;0;0;0;48;2;0;0;0m▀\u001b[38;2;0;0;0;48;2;1;1;1m▀\u001b[38;2;0;0;0;48;2;8;8;8m▀\u001b[38;2;0;0;0;48;2;13;13;13m▀\u001b[38;2;1;1;1;48;2;20;20;20m▀\u001b[38;2;1;1;1;48;2;37;37;37m▀\u001b[38;2;2;2;2;48;2;54;54;54m▀\u001b[38;2;3;3;3;48;2;65;65;65m▀\u001b[38;2;8;8;8;48;2;83;83;83m▀\u001b[38;2;13;13;13;48;2;106;106;106m▀\u001b[38;2;14;14;14;48;2;109;109;109m▀\u001b[38;2;15;15;15;48;2;110;110;110m▀\u001b[38;2;41;41;41;48;2;137;137;137m▀\u001b[38;2;74;74;74;48;2;171;171;171m▀\u001b[38;2;83;83;83;48;2;180;180;180m▀\u001b[38;2;93;93;93;48;2;183;183;183m▀\u001b[38;2;58;58;58;48;2;135;135;135m▀\u001b[38;2;47;47;47;48;2;124;124;124m▀\u001b[38;2;99;99;99;48;2;194;194;194m▀\u001b[38;2;138;138;138;48;2;233;233;233m▀\u001b[38;2;144;144;144;48;2;229;229;229m▀\u001b[38;2;114;114;114;48;2;171;171;171m▀\u001b[38;2;60;60;60;48;2;84;84;84m▀\u001b[38;2;11;11;11;48;2;15;15;15m▀\u001b[38;2;0;0;0;48;2;0;0;0m▀\u001b[38;2;0;0;0;48;2;0;0;0m▀\u001b[38;2;0;0;0;48;2;0;0;0m▀\u001b[38;2;0;0;0;48;2;0;0;0m▀\u001b[0m\n",
       "\u001b[0m\u001b[38;2;0;0;0;48;2;0;0;0m▀\u001b[38;2;0;0;0;48;2;0;0;0m▀\u001b[38;2;0;0;0;48;2;0;0;0m▀\u001b[38;2;0;0;0;48;2;0;0;0m▀\u001b[38;2;0;0;0;48;2;0;0;0m▀\u001b[38;2;0;0;0;48;2;0;0;0m▀\u001b[38;2;0;0;0;48;2;0;0;0m▀\u001b[38;2;0;0;0;48;2;0;0;0m▀\u001b[38;2;2;2;2;48;2;8;8;8m▀\u001b[38;2;14;14;14;48;2;46;46;46m▀\u001b[38;2;52;52;52;48;2;146;146;146m▀\u001b[38;2;76;76;76;48;2;206;206;206m▀\u001b[38;2;91;91;91;48;2;217;217;217m▀\u001b[38;2;122;122;122;48;2;226;226;226m▀\u001b[38;2;154;154;154;48;2;233;233;233m▀\u001b[38;2;172;172;172;48;2;237;237;237m▀\u001b[38;2;198;198;198;48;2;244;244;244m▀\u001b[38;2;232;232;232;48;2;251;251;251m▀\u001b[38;2;237;237;237;48;2;249;249;249m▀\u001b[38;2;237;237;237;48;2;247;247;247m▀\u001b[38;2;240;240;240;48;2;249;249;249m▀\u001b[38;2;244;244;244;48;2;252;252;252m▀\u001b[38;2;238;238;238;48;2;233;233;233m▀\u001b[38;2;206;206;206;48;2;147;147;147m▀\u001b[38;2;167;167;167;48;2;99;99;99m▀\u001b[38;2;167;167;167;48;2;95;95;95m▀\u001b[38;2;203;203;203;48;2;99;99;99m▀\u001b[38;2;202;202;202;48;2;86;86;86m▀\u001b[38;2;178;178;178;48;2;70;70;70m▀\u001b[38;2;120;120;120;48;2;41;41;41m▀\u001b[38;2;48;48;48;48;2;12;12;12m▀\u001b[38;2;8;8;8;48;2;2;2;2m▀\u001b[38;2;0;0;0;48;2;0;0;0m▀\u001b[38;2;0;0;0;48;2;0;0;0m▀\u001b[38;2;0;0;0;48;2;0;0;0m▀\u001b[38;2;0;0;0;48;2;0;0;0m▀\u001b[0m\n",
       "\u001b[0m\u001b[38;2;0;0;0;48;2;0;0;0m▀\u001b[38;2;0;0;0;48;2;0;0;0m▀\u001b[38;2;0;0;0;48;2;0;0;0m▀\u001b[38;2;0;0;0;48;2;0;0;0m▀\u001b[38;2;0;0;0;48;2;0;0;0m▀\u001b[38;2;0;0;0;48;2;0;0;0m▀\u001b[38;2;0;0;0;48;2;0;0;0m▀\u001b[38;2;0;0;0;48;2;0;0;0m▀\u001b[38;2;6;6;6;48;2;2;2;2m▀\u001b[38;2;41;41;41;48;2;21;21;21m▀\u001b[38;2;157;157;157;48;2;107;107;107m▀\u001b[38;2;233;233;233;48;2;177;177;177m▀\u001b[38;2;249;249;249;48;2;198;198;198m▀\u001b[38;2;249;249;249;48;2;196;196;196m▀\u001b[38;2;252;252;252;48;2;235;235;235m▀\u001b[38;2;253;253;253;48;2;252;252;252m▀\u001b[38;2;252;252;252;48;2;245;245;245m▀\u001b[38;2;244;244;244;48;2;209;209;209m▀\u001b[38;2;218;218;218;48;2;132;132;132m▀\u001b[38;2;205;205;205;48;2;103;103;103m▀\u001b[38;2;220;220;220;48;2;121;121;121m▀\u001b[38;2;241;241;241;48;2;161;161;161m▀\u001b[38;2;216;216;216;48;2;168;168;168m▀\u001b[38;2;91;91;91;48;2;57;57;57m▀\u001b[38;2;30;30;30;48;2;1;1;1m▀\u001b[38;2;28;28;28;48;2;1;1;1m▀\u001b[38;2;26;26;26;48;2;1;1;1m▀\u001b[38;2;20;20;20;48;2;1;1;1m▀\u001b[38;2;15;15;15;48;2;0;0;0m▀\u001b[38;2;8;8;8;48;2;0;0;0m▀\u001b[38;2;1;1;1;48;2;0;0;0m▀\u001b[38;2;0;0;0;48;2;0;0;0m▀\u001b[38;2;0;0;0;48;2;0;0;0m▀\u001b[38;2;0;0;0;48;2;0;0;0m▀\u001b[38;2;0;0;0;48;2;0;0;0m▀\u001b[38;2;0;0;0;48;2;0;0;0m▀\u001b[0m\n",
       "\u001b[0m\u001b[38;2;0;0;0;48;2;0;0;0m▀\u001b[38;2;0;0;0;48;2;0;0;0m▀\u001b[38;2;0;0;0;48;2;0;0;0m▀\u001b[38;2;0;0;0;48;2;0;0;0m▀\u001b[38;2;0;0;0;48;2;0;0;0m▀\u001b[38;2;0;0;0;48;2;0;0;0m▀\u001b[38;2;0;0;0;48;2;0;0;0m▀\u001b[38;2;0;0;0;48;2;0;0;0m▀\u001b[38;2;0;0;0;48;2;0;0;0m▀\u001b[38;2;6;6;6;48;2;1;1;1m▀\u001b[38;2;44;44;44;48;2;7;7;7m▀\u001b[38;2;89;89;89;48;2;19;19;19m▀\u001b[38;2;107;107;107;48;2;24;24;24m▀\u001b[38;2;107;107;107;48;2;36;36;36m▀\u001b[38;2;189;189;189;48;2;129;129;129m▀\u001b[38;2;239;239;239;48;2;212;212;212m▀\u001b[38;2;224;224;224;48;2;202;202;202m▀\u001b[38;2;150;150;150;48;2;106;106;106m▀\u001b[38;2;46;46;46;48;2;24;24;24m▀\u001b[38;2;11;11;11;48;2;1;1;1m▀\u001b[38;2;22;22;22;48;2;2;2;2m▀\u001b[38;2;57;57;57;48;2;9;9;9m▀\u001b[38;2;90;90;90;48;2;15;15;15m▀\u001b[38;2;32;32;32;48;2;5;5;5m▀\u001b[38;2;0;0;0;48;2;0;0;0m▀\u001b[38;2;0;0;0;48;2;0;0;0m▀\u001b[38;2;0;0;0;48;2;0;0;0m▀\u001b[38;2;0;0;0;48;2;0;0;0m▀\u001b[38;2;0;0;0;48;2;0;0;0m▀\u001b[38;2;0;0;0;48;2;0;0;0m▀\u001b[38;2;0;0;0;48;2;0;0;0m▀\u001b[38;2;0;0;0;48;2;0;0;0m▀\u001b[38;2;0;0;0;48;2;0;0;0m▀\u001b[38;2;0;0;0;48;2;0;0;0m▀\u001b[38;2;0;0;0;48;2;0;0;0m▀\u001b[38;2;0;0;0;48;2;0;0;0m▀\u001b[0m\n",
       "\u001b[0m\u001b[38;2;0;0;0;48;2;0;0;0m▀\u001b[38;2;0;0;0;48;2;0;0;0m▀\u001b[38;2;0;0;0;48;2;0;0;0m▀\u001b[38;2;0;0;0;48;2;0;0;0m▀\u001b[38;2;0;0;0;48;2;0;0;0m▀\u001b[38;2;0;0;0;48;2;0;0;0m▀\u001b[38;2;0;0;0;48;2;0;0;0m▀\u001b[38;2;0;0;0;48;2;0;0;0m▀\u001b[38;2;0;0;0;48;2;0;0;0m▀\u001b[38;2;0;0;0;48;2;0;0;0m▀\u001b[38;2;0;0;0;48;2;0;0;0m▀\u001b[38;2;2;2;2;48;2;0;0;0m▀\u001b[38;2;3;3;3;48;2;0;0;0m▀\u001b[38;2;19;19;19;48;2;9;9;9m▀\u001b[38;2;107;107;107;48;2;58;58;58m▀\u001b[38;2;198;198;198;48;2;150;150;150m▀\u001b[38;2;217;217;217;48;2;216;216;216m▀\u001b[38;2;142;142;142;48;2;188;188;188m▀\u001b[38;2;36;36;36;48;2;74;74;74m▀\u001b[38;2;2;2;2;48;2;16;16;16m▀\u001b[38;2;0;0;0;48;2;2;2;2m▀\u001b[38;2;0;0;0;48;2;1;1;1m▀\u001b[38;2;0;0;0;48;2;0;0;0m▀\u001b[38;2;0;0;0;48;2;0;0;0m▀\u001b[38;2;0;0;0;48;2;0;0;0m▀\u001b[38;2;0;0;0;48;2;0;0;0m▀\u001b[38;2;0;0;0;48;2;0;0;0m▀\u001b[38;2;0;0;0;48;2;0;0;0m▀\u001b[38;2;0;0;0;48;2;0;0;0m▀\u001b[38;2;0;0;0;48;2;0;0;0m▀\u001b[38;2;0;0;0;48;2;0;0;0m▀\u001b[38;2;0;0;0;48;2;0;0;0m▀\u001b[38;2;0;0;0;48;2;0;0;0m▀\u001b[38;2;0;0;0;48;2;0;0;0m▀\u001b[38;2;0;0;0;48;2;0;0;0m▀\u001b[38;2;0;0;0;48;2;0;0;0m▀\u001b[0m\n",
       "\u001b[0m\u001b[38;2;0;0;0;48;2;0;0;0m▀\u001b[38;2;0;0;0;48;2;0;0;0m▀\u001b[38;2;0;0;0;48;2;0;0;0m▀\u001b[38;2;0;0;0;48;2;0;0;0m▀\u001b[38;2;0;0;0;48;2;0;0;0m▀\u001b[38;2;0;0;0;48;2;0;0;0m▀\u001b[38;2;0;0;0;48;2;0;0;0m▀\u001b[38;2;0;0;0;48;2;0;0;0m▀\u001b[38;2;0;0;0;48;2;0;0;0m▀\u001b[38;2;0;0;0;48;2;0;0;0m▀\u001b[38;2;0;0;0;48;2;0;0;0m▀\u001b[38;2;0;0;0;48;2;0;0;0m▀\u001b[38;2;0;0;0;48;2;0;0;0m▀\u001b[38;2;1;1;1;48;2;0;0;0m▀\u001b[38;2;14;14;14;48;2;3;3;3m▀\u001b[38;2;81;81;81;48;2;25;25;25m▀\u001b[38;2;173;173;173;48;2;101;101;101m▀\u001b[38;2;214;214;214;48;2;198;198;198m▀\u001b[38;2;143;143;143;48;2;210;210;210m▀\u001b[38;2;81;81;81;48;2;182;182;182m▀\u001b[38;2;50;50;50;48;2;149;149;149m▀\u001b[38;2;30;30;30;48;2;102;102;102m▀\u001b[38;2;6;6;6;48;2;36;36;36m▀\u001b[38;2;0;0;0;48;2;10;10;10m▀\u001b[38;2;0;0;0;48;2;2;2;2m▀\u001b[38;2;0;0;0;48;2;0;0;0m▀\u001b[38;2;0;0;0;48;2;0;0;0m▀\u001b[38;2;0;0;0;48;2;0;0;0m▀\u001b[38;2;0;0;0;48;2;0;0;0m▀\u001b[38;2;0;0;0;48;2;0;0;0m▀\u001b[38;2;0;0;0;48;2;0;0;0m▀\u001b[38;2;0;0;0;48;2;0;0;0m▀\u001b[38;2;0;0;0;48;2;0;0;0m▀\u001b[38;2;0;0;0;48;2;0;0;0m▀\u001b[38;2;0;0;0;48;2;0;0;0m▀\u001b[38;2;0;0;0;48;2;0;0;0m▀\u001b[0m\n",
       "\u001b[0m\u001b[38;2;0;0;0;48;2;0;0;0m▀\u001b[38;2;0;0;0;48;2;0;0;0m▀\u001b[38;2;0;0;0;48;2;0;0;0m▀\u001b[38;2;0;0;0;48;2;0;0;0m▀\u001b[38;2;0;0;0;48;2;0;0;0m▀\u001b[38;2;0;0;0;48;2;0;0;0m▀\u001b[38;2;0;0;0;48;2;0;0;0m▀\u001b[38;2;0;0;0;48;2;0;0;0m▀\u001b[38;2;0;0;0;48;2;0;0;0m▀\u001b[38;2;0;0;0;48;2;0;0;0m▀\u001b[38;2;0;0;0;48;2;0;0;0m▀\u001b[38;2;0;0;0;48;2;0;0;0m▀\u001b[38;2;0;0;0;48;2;0;0;0m▀\u001b[38;2;0;0;0;48;2;0;0;0m▀\u001b[38;2;0;0;0;48;2;0;0;0m▀\u001b[38;2;5;5;5;48;2;0;0;0m▀\u001b[38;2;42;42;42;48;2;11;11;11m▀\u001b[38;2;120;120;120;48;2;43;43;43m▀\u001b[38;2;199;199;199;48;2;105;105;105m▀\u001b[38;2;226;226;226;48;2;174;174;174m▀\u001b[38;2;227;227;227;48;2;224;224;224m▀\u001b[38;2;194;194;194;48;2;235;235;235m▀\u001b[38;2;114;114;114;48;2;199;199;199m▀\u001b[38;2;51;51;51;48;2;131;131;131m▀\u001b[38;2;16;16;16;48;2;62;62;62m▀\u001b[38;2;2;2;2;48;2;16;16;16m▀\u001b[38;2;0;0;0;48;2;2;2;2m▀\u001b[38;2;0;0;0;48;2;0;0;0m▀\u001b[38;2;0;0;0;48;2;0;0;0m▀\u001b[38;2;0;0;0;48;2;0;0;0m▀\u001b[38;2;0;0;0;48;2;0;0;0m▀\u001b[38;2;0;0;0;48;2;0;0;0m▀\u001b[38;2;0;0;0;48;2;0;0;0m▀\u001b[38;2;0;0;0;48;2;0;0;0m▀\u001b[38;2;0;0;0;48;2;0;0;0m▀\u001b[38;2;0;0;0;48;2;0;0;0m▀\u001b[0m\n",
       "\u001b[0m\u001b[38;2;0;0;0;48;2;0;0;0m▀\u001b[38;2;0;0;0;48;2;0;0;0m▀\u001b[38;2;0;0;0;48;2;0;0;0m▀\u001b[38;2;0;0;0;48;2;0;0;0m▀\u001b[38;2;0;0;0;48;2;0;0;0m▀\u001b[38;2;0;0;0;48;2;0;0;0m▀\u001b[38;2;0;0;0;48;2;0;0;0m▀\u001b[38;2;0;0;0;48;2;0;0;0m▀\u001b[38;2;0;0;0;48;2;0;0;0m▀\u001b[38;2;0;0;0;48;2;0;0;0m▀\u001b[38;2;0;0;0;48;2;0;0;0m▀\u001b[38;2;0;0;0;48;2;0;0;0m▀\u001b[38;2;0;0;0;48;2;0;0;0m▀\u001b[38;2;0;0;0;48;2;0;0;0m▀\u001b[38;2;0;0;0;48;2;0;0;0m▀\u001b[38;2;0;0;0;48;2;0;0;0m▀\u001b[38;2;0;0;0;48;2;0;0;0m▀\u001b[38;2;6;6;6;48;2;0;0;0m▀\u001b[38;2;29;29;29;48;2;3;3;3m▀\u001b[38;2;83;83;83;48;2;15;15;15m▀\u001b[38;2;142;142;142;48;2;46;46;46m▀\u001b[38;2;196;196;196;48;2;119;119;119m▀\u001b[38;2;235;235;235;48;2;227;227;227m▀\u001b[38;2;206;206;206;48;2;247;247;247m▀\u001b[38;2;143;143;143;48;2;218;218;218m▀\u001b[38;2;68;68;68;48;2;137;137;137m▀\u001b[38;2;9;9;9;48;2;30;30;30m▀\u001b[38;2;0;0;0;48;2;4;4;4m▀\u001b[38;2;0;0;0;48;2;0;0;0m▀\u001b[38;2;0;0;0;48;2;0;0;0m▀\u001b[38;2;0;0;0;48;2;0;0;0m▀\u001b[38;2;0;0;0;48;2;0;0;0m▀\u001b[38;2;0;0;0;48;2;0;0;0m▀\u001b[38;2;0;0;0;48;2;0;0;0m▀\u001b[38;2;0;0;0;48;2;0;0;0m▀\u001b[38;2;0;0;0;48;2;0;0;0m▀\u001b[0m\n",
       "\u001b[0m\u001b[38;2;0;0;0;48;2;0;0;0m▀\u001b[38;2;0;0;0;48;2;0;0;0m▀\u001b[38;2;0;0;0;48;2;0;0;0m▀\u001b[38;2;0;0;0;48;2;0;0;0m▀\u001b[38;2;0;0;0;48;2;0;0;0m▀\u001b[38;2;0;0;0;48;2;0;0;0m▀\u001b[38;2;0;0;0;48;2;0;0;0m▀\u001b[38;2;0;0;0;48;2;0;0;0m▀\u001b[38;2;0;0;0;48;2;0;0;0m▀\u001b[38;2;0;0;0;48;2;0;0;0m▀\u001b[38;2;0;0;0;48;2;0;0;0m▀\u001b[38;2;0;0;0;48;2;0;0;0m▀\u001b[38;2;0;0;0;48;2;0;0;0m▀\u001b[38;2;0;0;0;48;2;0;0;0m▀\u001b[38;2;0;0;0;48;2;0;0;0m▀\u001b[38;2;0;0;0;48;2;1;1;1m▀\u001b[38;2;0;0;0;48;2;3;3;3m▀\u001b[38;2;1;1;1;48;2;12;12;12m▀\u001b[38;2;6;6;6;48;2;39;39;39m▀\u001b[38;2;14;14;14;48;2;78;78;78m▀\u001b[38;2;26;26;26;48;2;114;114;114m▀\u001b[38;2;90;90;90;48;2;163;163;163m▀\u001b[38;2;221;221;221;48;2;236;236;236m▀\u001b[38;2;251;251;251;48;2;251;251;251m▀\u001b[38;2;242;242;242;48;2;233;233;233m▀\u001b[38;2;173;173;173;48;2;152;152;152m▀\u001b[38;2;57;57;57;48;2;35;35;35m▀\u001b[38;2;10;10;10;48;2;4;4;4m▀\u001b[38;2;0;0;0;48;2;0;0;0m▀\u001b[38;2;0;0;0;48;2;0;0;0m▀\u001b[38;2;0;0;0;48;2;0;0;0m▀\u001b[38;2;0;0;0;48;2;0;0;0m▀\u001b[38;2;0;0;0;48;2;0;0;0m▀\u001b[38;2;0;0;0;48;2;0;0;0m▀\u001b[38;2;0;0;0;48;2;0;0;0m▀\u001b[38;2;0;0;0;48;2;0;0;0m▀\u001b[0m\n",
       "\u001b[0m\u001b[38;2;0;0;0;48;2;0;0;0m▀\u001b[38;2;0;0;0;48;2;0;0;0m▀\u001b[38;2;0;0;0;48;2;0;0;0m▀\u001b[38;2;0;0;0;48;2;0;0;0m▀\u001b[38;2;0;0;0;48;2;0;0;0m▀\u001b[38;2;0;0;0;48;2;0;0;0m▀\u001b[38;2;0;0;0;48;2;0;0;0m▀\u001b[38;2;0;0;0;48;2;0;0;0m▀\u001b[38;2;0;0;0;48;2;0;0;0m▀\u001b[38;2;0;0;0;48;2;0;0;0m▀\u001b[38;2;0;0;0;48;2;0;0;0m▀\u001b[38;2;0;0;0;48;2;0;0;0m▀\u001b[38;2;0;0;0;48;2;2;2;2m▀\u001b[38;2;0;0;0;48;2;11;11;11m▀\u001b[38;2;2;2;2;48;2;33;33;33m▀\u001b[38;2;13;13;13;48;2;73;73;73m▀\u001b[38;2;42;42;42;48;2;126;126;126m▀\u001b[38;2;87;87;87;48;2;183;183;183m▀\u001b[38;2;134;134;134;48;2;223;223;223m▀\u001b[38;2;176;176;176;48;2;243;243;243m▀\u001b[38;2;205;205;205;48;2;250;250;250m▀\u001b[38;2;227;227;227;48;2;247;247;247m▀\u001b[38;2;248;248;248;48;2;232;232;232m▀\u001b[38;2;248;248;248;48;2;202;202;202m▀\u001b[38;2;218;218;218;48;2;154;154;154m▀\u001b[38;2;130;130;130;48;2;83;83;83m▀\u001b[38;2;19;19;19;48;2;11;11;11m▀\u001b[38;2;0;0;0;48;2;0;0;0m▀\u001b[38;2;0;0;0;48;2;0;0;0m▀\u001b[38;2;0;0;0;48;2;0;0;0m▀\u001b[38;2;0;0;0;48;2;0;0;0m▀\u001b[38;2;0;0;0;48;2;0;0;0m▀\u001b[38;2;0;0;0;48;2;0;0;0m▀\u001b[38;2;0;0;0;48;2;0;0;0m▀\u001b[38;2;0;0;0;48;2;0;0;0m▀\u001b[38;2;0;0;0;48;2;0;0;0m▀\u001b[0m\n",
       "\u001b[0m\u001b[38;2;0;0;0;48;2;0;0;0m▀\u001b[38;2;0;0;0;48;2;0;0;0m▀\u001b[38;2;0;0;0;48;2;0;0;0m▀\u001b[38;2;0;0;0;48;2;0;0;0m▀\u001b[38;2;0;0;0;48;2;0;0;0m▀\u001b[38;2;0;0;0;48;2;0;0;0m▀\u001b[38;2;0;0;0;48;2;0;0;0m▀\u001b[38;2;0;0;0;48;2;0;0;0m▀\u001b[38;2;0;0;0;48;2;3;3;3m▀\u001b[38;2;0;0;0;48;2;12;12;12m▀\u001b[38;2;3;3;3;48;2;26;26;26m▀\u001b[38;2;8;8;8;48;2;47;47;47m▀\u001b[38;2;23;23;23;48;2;95;95;95m▀\u001b[38;2;59;59;59;48;2;168;168;168m▀\u001b[38;2;113;113;113;48;2;212;212;212m▀\u001b[38;2;173;173;173;48;2;236;236;236m▀\u001b[38;2;220;220;220;48;2;247;247;247m▀\u001b[38;2;242;242;242;48;2;247;247;247m▀\u001b[38;2;249;249;249;48;2;239;239;239m▀\u001b[38;2;246;246;246;48;2;211;211;211m▀\u001b[38;2;234;234;234;48;2;160;160;160m▀\u001b[38;2;211;211;211;48;2;99;99;99m▀\u001b[38;2;167;167;167;48;2;50;50;50m▀\u001b[38;2;104;104;104;48;2;24;24;24m▀\u001b[38;2;47;47;47;48;2;8;8;8m▀\u001b[38;2;13;13;13;48;2;0;0;0m▀\u001b[38;2;2;2;2;48;2;0;0;0m▀\u001b[38;2;0;0;0;48;2;0;0;0m▀\u001b[38;2;0;0;0;48;2;0;0;0m▀\u001b[38;2;0;0;0;48;2;0;0;0m▀\u001b[38;2;0;0;0;48;2;0;0;0m▀\u001b[38;2;0;0;0;48;2;0;0;0m▀\u001b[38;2;0;0;0;48;2;0;0;0m▀\u001b[38;2;0;0;0;48;2;0;0;0m▀\u001b[38;2;0;0;0;48;2;0;0;0m▀\u001b[38;2;0;0;0;48;2;0;0;0m▀\u001b[0m\n",
       "\u001b[0m\u001b[38;2;0;0;0;48;2;0;0;0m▀\u001b[38;2;0;0;0;48;2;0;0;0m▀\u001b[38;2;0;0;0;48;2;0;0;0m▀\u001b[38;2;0;0;0;48;2;0;0;0m▀\u001b[38;2;0;0;0;48;2;4;4;4m▀\u001b[38;2;1;1;1;48;2;20;20;20m▀\u001b[38;2;2;2;2;48;2;52;52;52m▀\u001b[38;2;8;8;8;48;2;84;84;84m▀\u001b[38;2;34;34;34;48;2;123;123;123m▀\u001b[38;2;94;94;94;48;2;188;188;188m▀\u001b[38;2;132;132;132;48;2;222;222;222m▀\u001b[38;2;161;161;161;48;2;239;239;239m▀\u001b[38;2;195;195;195;48;2;250;250;250m▀\u001b[38;2;232;232;232;48;2;251;251;251m▀\u001b[38;2;249;249;249;48;2;247;247;247m▀\u001b[38;2;251;251;251;48;2;222;222;222m▀\u001b[38;2;238;238;238;48;2;174;174;174m▀\u001b[38;2;204;204;204;48;2;112;112;112m▀\u001b[38;2;154;154;154;48;2;59;59;59m▀\u001b[38;2;104;104;104;48;2;23;23;23m▀\u001b[38;2;60;60;60;48;2;5;5;5m▀\u001b[38;2;26;26;26;48;2;1;1;1m▀\u001b[38;2;5;5;5;48;2;0;0;0m▀\u001b[38;2;0;0;0;48;2;0;0;0m▀\u001b[38;2;0;0;0;48;2;0;0;0m▀\u001b[38;2;0;0;0;48;2;0;0;0m▀\u001b[38;2;0;0;0;48;2;0;0;0m▀\u001b[38;2;0;0;0;48;2;0;0;0m▀\u001b[38;2;0;0;0;48;2;0;0;0m▀\u001b[38;2;0;0;0;48;2;0;0;0m▀\u001b[38;2;0;0;0;48;2;0;0;0m▀\u001b[38;2;0;0;0;48;2;0;0;0m▀\u001b[38;2;0;0;0;48;2;0;0;0m▀\u001b[38;2;0;0;0;48;2;0;0;0m▀\u001b[38;2;0;0;0;48;2;0;0;0m▀\u001b[38;2;0;0;0;48;2;0;0;0m▀\u001b[0m\n",
       "\u001b[0m\u001b[38;2;0;0;0;48;2;0;0;0m▀\u001b[38;2;0;0;0;48;2;0;0;0m▀\u001b[38;2;0;0;0;48;2;0;0;0m▀\u001b[38;2;0;0;0;48;2;0;0;0m▀\u001b[38;2;11;11;11;48;2;17;17;17m▀\u001b[38;2;61;61;61;48;2;89;89;89m▀\u001b[38;2;136;136;136;48;2;170;170;170m▀\u001b[38;2;194;194;194;48;2;215;215;215m▀\u001b[38;2;223;223;223;48;2;222;222;222m▀\u001b[38;2;243;243;243;48;2;223;223;223m▀\u001b[38;2;243;243;243;48;2;204;204;204m▀\u001b[38;2;234;234;234;48;2;169;169;169m▀\u001b[38;2;225;225;225;48;2;141;141;141m▀\u001b[38;2;220;220;220;48;2;125;125;125m▀\u001b[38;2;195;195;195;48;2;71;71;71m▀\u001b[38;2;144;144;144;48;2;33;33;33m▀\u001b[38;2;78;78;78;48;2;14;14;14m▀\u001b[38;2;24;24;24;48;2;3;3;3m▀\u001b[38;2;7;7;7;48;2;0;0;0m▀\u001b[38;2;2;2;2;48;2;0;0;0m▀\u001b[38;2;0;0;0;48;2;0;0;0m▀\u001b[38;2;0;0;0;48;2;0;0;0m▀\u001b[38;2;0;0;0;48;2;0;0;0m▀\u001b[38;2;0;0;0;48;2;0;0;0m▀\u001b[38;2;0;0;0;48;2;0;0;0m▀\u001b[38;2;0;0;0;48;2;0;0;0m▀\u001b[38;2;0;0;0;48;2;0;0;0m▀\u001b[38;2;0;0;0;48;2;0;0;0m▀\u001b[38;2;0;0;0;48;2;0;0;0m▀\u001b[38;2;0;0;0;48;2;0;0;0m▀\u001b[38;2;0;0;0;48;2;0;0;0m▀\u001b[38;2;0;0;0;48;2;0;0;0m▀\u001b[38;2;0;0;0;48;2;0;0;0m▀\u001b[38;2;0;0;0;48;2;0;0;0m▀\u001b[38;2;0;0;0;48;2;0;0;0m▀\u001b[38;2;0;0;0;48;2;0;0;0m▀\u001b[0m\n",
       "\u001b[0m\u001b[38;2;0;0;0;48;2;0;0;0m▀\u001b[38;2;0;0;0;48;2;0;0;0m▀\u001b[38;2;0;0;0;48;2;0;0;0m▀\u001b[38;2;0;0;0;48;2;0;0;0m▀\u001b[38;2;6;6;6;48;2;0;0;0m▀\u001b[38;2;34;34;34;48;2;1;1;1m▀\u001b[38;2;63;63;63;48;2;1;1;1m▀\u001b[38;2;78;78;78;48;2;2;2;2m▀\u001b[38;2;78;78;78;48;2;2;2;2m▀\u001b[38;2;77;77;77;48;2;2;2;2m▀\u001b[38;2;69;69;69;48;2;1;1;1m▀\u001b[38;2;54;54;54;48;2;1;1;1m▀\u001b[38;2;43;43;43;48;2;1;1;1m▀\u001b[38;2;36;36;36;48;2;1;1;1m▀\u001b[38;2;14;14;14;48;2;0;0;0m▀\u001b[38;2;2;2;2;48;2;0;0;0m▀\u001b[38;2;0;0;0;48;2;0;0;0m▀\u001b[38;2;0;0;0;48;2;0;0;0m▀\u001b[38;2;0;0;0;48;2;0;0;0m▀\u001b[38;2;0;0;0;48;2;0;0;0m▀\u001b[38;2;0;0;0;48;2;0;0;0m▀\u001b[38;2;0;0;0;48;2;0;0;0m▀\u001b[38;2;0;0;0;48;2;0;0;0m▀\u001b[38;2;0;0;0;48;2;0;0;0m▀\u001b[38;2;0;0;0;48;2;0;0;0m▀\u001b[38;2;0;0;0;48;2;0;0;0m▀\u001b[38;2;0;0;0;48;2;0;0;0m▀\u001b[38;2;0;0;0;48;2;0;0;0m▀\u001b[38;2;0;0;0;48;2;0;0;0m▀\u001b[38;2;0;0;0;48;2;0;0;0m▀\u001b[38;2;0;0;0;48;2;0;0;0m▀\u001b[38;2;0;0;0;48;2;0;0;0m▀\u001b[38;2;0;0;0;48;2;0;0;0m▀\u001b[38;2;0;0;0;48;2;0;0;0m▀\u001b[38;2;0;0;0;48;2;0;0;0m▀\u001b[38;2;0;0;0;48;2;0;0;0m▀\u001b[0m\n",
       "\u001b[0m\u001b[38;2;0;0;0;48;2;0;0;0m▀\u001b[38;2;0;0;0;48;2;0;0;0m▀\u001b[38;2;0;0;0;48;2;0;0;0m▀\u001b[38;2;0;0;0;48;2;0;0;0m▀\u001b[38;2;0;0;0;48;2;0;0;0m▀\u001b[38;2;0;0;0;48;2;0;0;0m▀\u001b[38;2;0;0;0;48;2;0;0;0m▀\u001b[38;2;0;0;0;48;2;0;0;0m▀\u001b[38;2;0;0;0;48;2;0;0;0m▀\u001b[38;2;0;0;0;48;2;0;0;0m▀\u001b[38;2;0;0;0;48;2;0;0;0m▀\u001b[38;2;0;0;0;48;2;0;0;0m▀\u001b[38;2;0;0;0;48;2;0;0;0m▀\u001b[38;2;0;0;0;48;2;0;0;0m▀\u001b[38;2;0;0;0;48;2;0;0;0m▀\u001b[38;2;0;0;0;48;2;0;0;0m▀\u001b[38;2;0;0;0;48;2;0;0;0m▀\u001b[38;2;0;0;0;48;2;0;0;0m▀\u001b[38;2;0;0;0;48;2;0;0;0m▀\u001b[38;2;0;0;0;48;2;0;0;0m▀\u001b[38;2;0;0;0;48;2;0;0;0m▀\u001b[38;2;0;0;0;48;2;0;0;0m▀\u001b[38;2;0;0;0;48;2;0;0;0m▀\u001b[38;2;0;0;0;48;2;0;0;0m▀\u001b[38;2;0;0;0;48;2;0;0;0m▀\u001b[38;2;0;0;0;48;2;0;0;0m▀\u001b[38;2;0;0;0;48;2;0;0;0m▀\u001b[38;2;0;0;0;48;2;0;0;0m▀\u001b[38;2;0;0;0;48;2;0;0;0m▀\u001b[38;2;0;0;0;48;2;0;0;0m▀\u001b[38;2;0;0;0;48;2;0;0;0m▀\u001b[38;2;0;0;0;48;2;0;0;0m▀\u001b[38;2;0;0;0;48;2;0;0;0m▀\u001b[38;2;0;0;0;48;2;0;0;0m▀\u001b[38;2;0;0;0;48;2;0;0;0m▀\u001b[38;2;0;0;0;48;2;0;0;0m▀\u001b[0m\n"
      ]
     },
     "execution_count": 93,
     "metadata": {},
     "output_type": "execute_result"
    }
   ],
   "source": [
    "cnn_output = m( images[:,:,:,1:3] )\n",
    "display( cnn_output |> size )\n",
    "convert2image( MNIST , cnn_output[:,:,1,1] )"
   ]
  },
  {
   "cell_type": "code",
   "execution_count": null,
   "metadata": {},
   "outputs": [],
   "source": []
  },
  {
   "cell_type": "markdown",
   "metadata": {},
   "source": [
    "### <span style=\"color:orange\"> Layer level functions </span>\n",
    "\n",
    "- We can have layers that are functions of layers\n",
    "- eg. 'Maxout' which takes in a set of layers where each gets fed the same input, and then produces the maximum from each output\n",
    "- 'activations' which returns the output from each layer\n",
    "- 'parallel' that is a layer which passes an input array into each layer in a set and then a function merges (reduces) these layer outputs"
   ]
  },
  {
   "cell_type": "code",
   "execution_count": 94,
   "metadata": {},
   "outputs": [
    {
     "data": {
      "text/plain": [
       "(97, 1, 1)"
      ]
     },
     "execution_count": 94,
     "metadata": {},
     "output_type": "execute_result"
    }
   ],
   "source": [
    "x = rand(Float32, 100, 1, 1); #100elements, 1 channel, 10 samples in the batch \n",
    "cnn_layer = Conv( (4,) , 1 => 1 ) #4 element filter\n",
    "cnn_layer( x ) |> size"
   ]
  },
  {
   "cell_type": "code",
   "execution_count": 95,
   "metadata": {},
   "outputs": [
    {
     "name": "stdout",
     "output_type": "stream",
     "text": [
      "3\n"
     ]
    },
    {
     "data": {
      "text/plain": [
       "10×10 Matrix{Float32}:\n",
       "  0.507491  -0.599197  -0.52332    …  -0.0268124  -0.266114  -0.0031254\n",
       "  0.709546  -0.207155  -0.238883      -0.216155   -0.508281   0.360063\n",
       "  0.5061     0.850747   1.09688        0.603909    1.21099    0.0695164\n",
       "  0.395858   0.749415   0.122385       0.242695    0.624038  -0.3531\n",
       " -1.45413   -1.01281   -0.309987      -0.293785   -0.323564  -0.471006\n",
       "  0.263626   0.402522   0.0433953  …   0.1836     -0.213956   0.203163\n",
       " -1.21694   -1.62798   -1.25621       -1.4964     -0.984224  -1.06459\n",
       " -0.727132  -0.344963  -0.908756      -0.914878   -0.694613  -1.00179\n",
       "  1.37901    0.542492   0.82959        0.900621    0.651226   0.692608\n",
       "  0.955576   1.10878    0.142633      -0.0429268   0.305467   1.04843"
      ]
     },
     "metadata": {},
     "output_type": "display_data"
    },
    {
     "data": {
      "text/plain": [
       "5×10 Matrix{Float32}:\n",
       " -0.813367   -0.0650715  -0.53835   …  -0.61501   -0.339517  -0.346071\n",
       " -2.94303    -2.15791    -1.14915      -1.36794   -1.03591   -1.75493\n",
       "  0.0170757  -0.994308   -0.224958     -0.139563  -0.358545   0.0513348\n",
       "  0.910456    1.36425     0.599922      0.410037   0.863098   0.608554\n",
       " -0.1239     -0.477797   -0.810717     -0.290119  -0.826598   0.146166"
      ]
     },
     "metadata": {},
     "output_type": "display_data"
    },
    {
     "data": {
      "text/plain": [
       "1×10 Matrix{Float32}:\n",
       " -1.92025  -0.587816  -0.0429267  -1.39101  …  -0.562576  0.0981378  -1.34948"
      ]
     },
     "metadata": {},
     "output_type": "display_data"
    }
   ],
   "source": [
    "x = rand(Float32, 50, 10);\n",
    "m = Chain( Dense(50=>10), Dense(10=>5), Dense(5=>1) )\n",
    "res = Flux.activations(m,x)\n",
    "println(length(res))\n",
    "display(res[1])\n",
    "display(res[2])\n",
    "display(res[3])"
   ]
  },
  {
   "cell_type": "code",
   "execution_count": 96,
   "metadata": {},
   "outputs": [
    {
     "data": {
      "text/plain": [
       "5×4 Matrix{Float32}:\n",
       " 1.01671     0.573605    0.550928   0.549643\n",
       " 0.59312     0.357065    0.31182    0.178093\n",
       " 0.0776901  -0.0324974  -0.0975008  0.225252\n",
       " 1.01794     1.88438     1.45583    1.70107\n",
       " 0.337675    0.862714    0.458482   0.758563"
      ]
     },
     "execution_count": 96,
     "metadata": {},
     "output_type": "execute_result"
    }
   ],
   "source": [
    "x = rand(Float32, 10, 4);\n",
    "m = Maxout( Dense(10=>5), Dense(10=>5), Dense(10=>5) )\n",
    "m(x)"
   ]
  },
  {
   "cell_type": "code",
   "execution_count": 97,
   "metadata": {},
   "outputs": [
    {
     "data": {
      "text/plain": [
       "12×4 Matrix{Float32}:\n",
       " -0.591135   -0.583841  -0.317799    -0.151371\n",
       "  0.248187    0.730372   0.822076     0.798146\n",
       "  0.892817    0.234789   0.27658      0.322997\n",
       "  0.961363    0.48132    0.360944     0.913719\n",
       "  0.136419    0.166037   0.704584     0.569214\n",
       "  0.418207    0.421346   0.00429469   0.0285623\n",
       "  0.0606746   0.959129   0.881489     0.779447\n",
       "  0.51553     0.245175   0.982849     0.650441\n",
       "  0.99927     0.909364   0.352284     0.703428\n",
       "  0.211154    0.898642   0.853088     0.597509\n",
       "  0.15501     0.128093   0.635011     0.737726\n",
       "  0.0240437   0.281071   0.582785     0.577809"
      ]
     },
     "execution_count": 97,
     "metadata": {},
     "output_type": "execute_result"
    }
   ],
   "source": [
    "x = rand(Float32, 10, 4);\n",
    "m = Chain( Dense(10=>5) , Dense(5=>2) )\n",
    "#takes in the layer and the 'connection function'\n",
    "m_skip = SkipConnection( m , (mx,x) -> cat(mx,x,dims=1) ) #add a shortcut for the layer input to the output\n",
    "m_skip(x)"
   ]
  },
  {
   "cell_type": "code",
   "execution_count": 98,
   "metadata": {},
   "outputs": [
    {
     "data": {
      "text/plain": [
       "(10, 10, 8, 4)"
      ]
     },
     "execution_count": 98,
     "metadata": {},
     "output_type": "execute_result"
    }
   ],
   "source": [
    "x = rand(Float32, 10,10, 3, 4);\n",
    "m = Chain( Conv((3,3), 3=>5, pad=SamePad()) )\n",
    "#takes in the layer and the 'connection function'\n",
    "m_skip = SkipConnection( m , (mx,x) -> cat(mx,x,dims=3) ) #add a shortcut for the layer input to the output\n",
    "m_skip(x) |> size"
   ]
  },
  {
   "cell_type": "code",
   "execution_count": 99,
   "metadata": {},
   "outputs": [
    {
     "data": {
      "text/plain": [
       "(8, 8, 5, 4)"
      ]
     },
     "execution_count": 99,
     "metadata": {},
     "output_type": "execute_result"
    }
   ],
   "source": [
    "x = rand(Float32, 10,10, 3, 4);\n",
    "m_parallel = Parallel( + , Conv((3,3), 3=>5), Conv((3,3), 3=>5), Conv((3,3), 3=>5) )\n",
    "m_parallel( x ) |> size"
   ]
  },
  {
   "cell_type": "code",
   "execution_count": null,
   "metadata": {},
   "outputs": [],
   "source": []
  },
  {
   "cell_type": "markdown",
   "metadata": {},
   "source": [
    "### <span style=\"color:orange\"> Normalization and Regularization </span>\n",
    "\n",
    "- Although they can be done (as demonstrated earlier) in the approach commonly found in statistics, there are ways to do this in the ML fashion"
   ]
  },
  {
   "cell_type": "code",
   "execution_count": 100,
   "metadata": {},
   "outputs": [
    {
     "data": {
      "text/plain": [
       "(10, 10, 3, 4)"
      ]
     },
     "metadata": {},
     "output_type": "display_data"
    },
    {
     "data": {
      "text/plain": [
       "(8, 8, 1, 4)"
      ]
     },
     "execution_count": 100,
     "metadata": {},
     "output_type": "execute_result"
    }
   ],
   "source": [
    "#Batch Normalization\n",
    "x = rand(Float32, 10,10, 3, 4);\n",
    "m = BatchNorm( 3 )\n",
    "display( m( x ) |> size )\n",
    "m = Chain( Conv((3,3),3=>1) , BatchNorm(1) )\n",
    "m( x ) |> size"
   ]
  },
  {
   "cell_type": "code",
   "execution_count": 101,
   "metadata": {},
   "outputs": [
    {
     "data": {
      "text/plain": [
       "5×4 Matrix{Float32}:\n",
       " -0.0      -1.23975  -1.21085   0.0\n",
       " -0.0       0.4463    0.0      -0.0\n",
       " -0.0       0.0      -0.0       0.21606\n",
       "  1.76107   0.0       2.15697   0.0\n",
       "  0.0       1.48362   0.0       0.507893"
      ]
     },
     "execution_count": 101,
     "metadata": {},
     "output_type": "execute_result"
    }
   ],
   "source": [
    "#Dropout layer\n",
    "x = rand(Float32, 10, 4)\n",
    "m = Chain( Dense(10 => 5), Dropout(0.5) )\n",
    "Flux.trainmode!(m)\n",
    "m( x ) #notice the zeros"
   ]
  },
  {
   "cell_type": "code",
   "execution_count": 102,
   "metadata": {},
   "outputs": [
    {
     "data": {
      "text/plain": [
       "(7, 7, 3, 4)"
      ]
     },
     "execution_count": 102,
     "metadata": {},
     "output_type": "execute_result"
    }
   ],
   "source": [
    "x = rand(Float32, 10,10, 3, 4)\n",
    "m = Chain( Conv((4,4), 3=>3), Dropout(0.5, dims=3) ) #dropping out on the channels\n",
    "Flux.trainmode!(m)\n",
    "m( x ) |> size"
   ]
  },
  {
   "cell_type": "code",
   "execution_count": 103,
   "metadata": {},
   "outputs": [
    {
     "data": {
      "text/plain": [
       "(5, 4)"
      ]
     },
     "metadata": {},
     "output_type": "display_data"
    },
    {
     "data": {
      "text/plain": [
       "1×4 Matrix{Float32}:\n",
       " -2.98023f-8  2.08616f-7  2.83122f-7  2.23517f-7"
      ]
     },
     "metadata": {},
     "output_type": "display_data"
    }
   ],
   "source": [
    "#LayerNorm does normalization and is used in recurrence networks\n",
    "x = rand(Float32, 10, 4)\n",
    "m = Chain( Dense(10=>5) , LayerNorm(5) )\n",
    "display( size( m( x ) ) )\n",
    "display( sum( m(x) , dims=1 ) )"
   ]
  },
  {
   "cell_type": "code",
   "execution_count": 105,
   "metadata": {},
   "outputs": [
    {
     "data": {
      "text/plain": [
       "(8, 8, 5, 4)"
      ]
     },
     "execution_count": 105,
     "metadata": {},
     "output_type": "execute_result"
    }
   ],
   "source": [
    "#Instance Normalization layer to normalize channels in WHCN\n",
    "x = rand(Float32, 10,10, 3, 4)\n",
    "m = Chain( Conv((3,3),3=>5) , InstanceNorm(5) )\n",
    "m( x ) |> size"
   ]
  },
  {
   "cell_type": "code",
   "execution_count": 106,
   "metadata": {},
   "outputs": [
    {
     "data": {
      "text/plain": [
       "5×4 Matrix{Float32}:\n",
       " 0.127727   0.215997   0.355907   0.0304474\n",
       " 0.202164   0.0224417  0.313512   0.297223\n",
       " 0.312862   0.298756   0.0880559  0.0945075\n",
       " 0.0581728  0.157349   0.228728   0.0809518\n",
       " 0.340925   0.076915   0.243468   0.33041"
      ]
     },
     "execution_count": 106,
     "metadata": {},
     "output_type": "execute_result"
    }
   ],
   "source": [
    "#we can do normalization outside of a layer\n",
    "x = rand(Float32, 5, 4)\n",
    "Flux.normalize( x )"
   ]
  },
  {
   "cell_type": "code",
   "execution_count": 107,
   "metadata": {},
   "outputs": [
    {
     "data": {
      "text/plain": [
       "6×4 Matrix{Float32}:\n",
       " 0.684572  1.27599   0.825006  0.0148381\n",
       " 0.0       0.0       0.0       0.0\n",
       " 0.0       0.0       0.0       0.0\n",
       " 0.0       0.0       0.0       0.0\n",
       " 0.680191  0.705377  1.99421   1.77638\n",
       " 0.0       0.0       0.0       0.0"
      ]
     },
     "execution_count": 107,
     "metadata": {},
     "output_type": "execute_result"
    }
   ],
   "source": [
    "#we can do dropout outside of a layer\n",
    "x = rand(Float32, 6, 4)\n",
    "Flux.dropout( x , 0.5 , dims=1 )"
   ]
  },
  {
   "cell_type": "code",
   "execution_count": null,
   "metadata": {},
   "outputs": [],
   "source": []
  },
  {
   "cell_type": "code",
   "execution_count": null,
   "metadata": {},
   "outputs": [],
   "source": []
  },
  {
   "cell_type": "markdown",
   "metadata": {},
   "source": [
    "### <span style=\"color:orange\"> Autosizing </span>\n",
    "\n",
    "- Sometimes if there are many layers in a Chain it becomes a challenge to track the dimension changes for the transformations on the data sizes if you change some aspect the sizes need to be re-entered. This is especially hazardous when working with CNN layers where padding and resolution changes can alter the dimensions (shape) of the data. \n",
    "- There is a macro <u>autosize</u> that can act on the layers to replace the character *_* with the necessary size. (calculates in run time)\n",
    "- There is the function *outputsize* that does this operation"
   ]
  },
  {
   "cell_type": "code",
   "execution_count": 108,
   "metadata": {},
   "outputs": [
    {
     "data": {
      "text/plain": [
       "(10, 10, 3, 4)"
      ]
     },
     "execution_count": 108,
     "metadata": {},
     "output_type": "execute_result"
    }
   ],
   "source": [
    "x = rand(Float32, 10,10, 3, 4);\n",
    "x_size = size(x)"
   ]
  },
  {
   "cell_type": "code",
   "execution_count": 109,
   "metadata": {},
   "outputs": [
    {
     "data": {
      "text/plain": [
       "Chain(\n",
       "  Conv((3, 3), 3 => 5, relu, stride=2),  \u001b[90m# 140 parameters\u001b[39m\n",
       "  Flux.flatten,\n",
       "  Dense(80 => 10),                      \u001b[90m# 810 parameters\u001b[39m\n",
       ") \u001b[90m                  # Total: 4 arrays, \u001b[39m950 parameters, 4.188 KiB."
      ]
     },
     "execution_count": 109,
     "metadata": {},
     "output_type": "execute_result"
    }
   ],
   "source": [
    "m = @autosize (10,10, 3, 4) Chain(Conv((3, 3), _ => 5, relu, stride=2), Flux.flatten, Dense(_ => 10))"
   ]
  },
  {
   "cell_type": "code",
   "execution_count": 110,
   "metadata": {},
   "outputs": [
    {
     "data": {
      "text/plain": [
       "Dense(80 => 10)     \u001b[90m# 810 parameters\u001b[39m"
      ]
     },
     "execution_count": 110,
     "metadata": {},
     "output_type": "execute_result"
    }
   ],
   "source": [
    "m[3]"
   ]
  },
  {
   "cell_type": "code",
   "execution_count": 111,
   "metadata": {},
   "outputs": [
    {
     "data": {
      "text/plain": [
       "Chain(\n",
       "  Conv((3, 3), 3 => 5, relu, stride=2),  \u001b[90m# 140 parameters\u001b[39m\n",
       "  Flux.flatten,\n",
       "  Dense(80 => 10),                      \u001b[90m# 810 parameters\u001b[39m\n",
       ") \u001b[90m                  # Total: 4 arrays, \u001b[39m950 parameters, 4.188 KiB."
      ]
     },
     "execution_count": 111,
     "metadata": {},
     "output_type": "execute_result"
    }
   ],
   "source": [
    "m = @autosize (x_size[1],x_size[2],x_size[3],x_size[4]) Chain( Conv( ( 3 , 3 ) , _ => 5 , relu , stride=2 ), Flux.flatten , Dense( _ => 10 ) )"
   ]
  },
  {
   "cell_type": "code",
   "execution_count": null,
   "metadata": {},
   "outputs": [],
   "source": []
  },
  {
   "cell_type": "code",
   "execution_count": null,
   "metadata": {},
   "outputs": [],
   "source": []
  },
  {
   "cell_type": "code",
   "execution_count": null,
   "metadata": {},
   "outputs": [],
   "source": []
  },
  {
   "cell_type": "code",
   "execution_count": null,
   "metadata": {},
   "outputs": [],
   "source": []
  },
  {
   "cell_type": "code",
   "execution_count": null,
   "metadata": {},
   "outputs": [],
   "source": []
  },
  {
   "cell_type": "code",
   "execution_count": null,
   "metadata": {},
   "outputs": [],
   "source": []
  },
  {
   "cell_type": "code",
   "execution_count": null,
   "metadata": {},
   "outputs": [],
   "source": []
  },
  {
   "cell_type": "markdown",
   "metadata": {},
   "source": [
    "### <span style=\"color:orange\"> testmode! and trainmode! </span>\n",
    "\n",
    "- manually specify to the models if you are training or testing\n",
    "- so that layers like dropout are not randomly working on the forward steps"
   ]
  },
  {
   "cell_type": "code",
   "execution_count": 74,
   "metadata": {},
   "outputs": [
    {
     "data": {
      "text/plain": [
       "Chain(\n",
       "  Conv((3, 3), 3 => 5),                 \u001b[90m# 140 parameters\u001b[39m\n",
       "  InstanceNorm(5, affine=false),\n",
       ") "
      ]
     },
     "execution_count": 74,
     "metadata": {},
     "output_type": "execute_result"
    }
   ],
   "source": [
    "testmode!(m, true)"
   ]
  },
  {
   "cell_type": "code",
   "execution_count": 75,
   "metadata": {},
   "outputs": [
    {
     "data": {
      "text/plain": [
       "Chain(\n",
       "  Conv((3, 3), 3 => 5),                 \u001b[90m# 140 parameters\u001b[39m\n",
       "  InstanceNorm(5, affine=false),\n",
       ") "
      ]
     },
     "execution_count": 75,
     "metadata": {},
     "output_type": "execute_result"
    }
   ],
   "source": [
    "trainmode!(m, true)"
   ]
  },
  {
   "cell_type": "code",
   "execution_count": null,
   "metadata": {},
   "outputs": [],
   "source": []
  },
  {
   "cell_type": "code",
   "execution_count": null,
   "metadata": {},
   "outputs": [],
   "source": []
  },
  {
   "cell_type": "code",
   "execution_count": null,
   "metadata": {},
   "outputs": [],
   "source": []
  },
  {
   "cell_type": "markdown",
   "metadata": {},
   "source": [
    "### <span style=\"color:orange\"> Flat and Nested Structures for the parameters </span>\n",
    "\n",
    "- We can build a model with various layers and those model parameters are based in 'nested' structure. Some operations are much easier to 'interact' with the parameters given a vector representation of them\n",
    "- The vector representation of the params can be put back into the nested structure again"
   ]
  },
  {
   "cell_type": "code",
   "execution_count": 143,
   "metadata": {},
   "outputs": [
    {
     "data": {
      "text/plain": [
       "Chain(\n",
       "  Dense(3 => 2, relu),                  \u001b[90m# 8 parameters\u001b[39m\n",
       "  Dense(2 => 1, relu),                  \u001b[90m# 3 parameters\u001b[39m\n",
       "  Dense(1 => 1),                        \u001b[90m# 2 parameters\u001b[39m\n",
       ") \u001b[90m                  # Total: 6 arrays, \u001b[39m13 parameters, 436 bytes."
      ]
     },
     "execution_count": 143,
     "metadata": {},
     "output_type": "execute_result"
    }
   ],
   "source": [
    "m = Chain(Dense(3=>2, relu), Dense(2=>1,relu), Dense(1=>1))"
   ]
  },
  {
   "cell_type": "code",
   "execution_count": 148,
   "metadata": {},
   "outputs": [
    {
     "data": {
      "text/plain": [
       "3"
      ]
     },
     "execution_count": 148,
     "metadata": {},
     "output_type": "execute_result"
    }
   ],
   "source": [
    "length( m )"
   ]
  },
  {
   "cell_type": "code",
   "execution_count": 144,
   "metadata": {},
   "outputs": [
    {
     "data": {
      "text/plain": [
       "3×2 Matrix{Float32}:\n",
       " 1.0  2.0\n",
       " 1.0  4.0\n",
       " 1.0  6.0"
      ]
     },
     "execution_count": 144,
     "metadata": {},
     "output_type": "execute_result"
    }
   ],
   "source": [
    "x = Float32.( [ 1 2; 1 4; 1 6 ] )"
   ]
  },
  {
   "cell_type": "code",
   "execution_count": 145,
   "metadata": {},
   "outputs": [
    {
     "data": {
      "text/plain": [
       "1×2 Matrix{Float32}:\n",
       " 0.0  0.0"
      ]
     },
     "execution_count": 145,
     "metadata": {},
     "output_type": "execute_result"
    }
   ],
   "source": [
    "m( x )"
   ]
  },
  {
   "cell_type": "code",
   "execution_count": 135,
   "metadata": {},
   "outputs": [
    {
     "data": {
      "text/plain": [
       "(Float32[-0.5875138, 0.31439856, 0.70950943, 0.069860905, -0.48040786, -0.77219266, 0.0, 0.0, 1.141324, -0.32196298, 0.0, -1.0532053, 0.0], Restructure(Chain, ..., 13))"
      ]
     },
     "execution_count": 135,
     "metadata": {},
     "output_type": "execute_result"
    }
   ],
   "source": [
    "flat, rebuild = Flux.destructure( m )"
   ]
  },
  {
   "cell_type": "code",
   "execution_count": 136,
   "metadata": {},
   "outputs": [
    {
     "data": {
      "text/plain": [
       "13"
      ]
     },
     "execution_count": 136,
     "metadata": {},
     "output_type": "execute_result"
    }
   ],
   "source": [
    "length( flat )"
   ]
  },
  {
   "cell_type": "code",
   "execution_count": 146,
   "metadata": {},
   "outputs": [
    {
     "data": {
      "text/plain": [
       "Chain(\n",
       "  Dense(3 => 2, relu),                  \u001b[90m# 8 parameters\u001b[39m\n",
       "  Dense(2 => 1, relu),                  \u001b[90m# 3 parameters\u001b[39m\n",
       "  Dense(1 => 1),                        \u001b[90m# 2 parameters\u001b[39m\n",
       ") \u001b[90m                  # Total: 6 arrays, \u001b[39m13 parameters, 436 bytes."
      ]
     },
     "execution_count": 146,
     "metadata": {},
     "output_type": "execute_result"
    }
   ],
   "source": [
    "m_rebuilt = rebuild( flat )"
   ]
  },
  {
   "cell_type": "code",
   "execution_count": 153,
   "metadata": {},
   "outputs": [
    {
     "data": {
      "text/plain": [
       "1×2 Matrix{Float32}:\n",
       " 0.0  0.0"
      ]
     },
     "execution_count": 153,
     "metadata": {},
     "output_type": "execute_result"
    }
   ],
   "source": [
    "m_rebuilt( x )"
   ]
  },
  {
   "cell_type": "code",
   "execution_count": 147,
   "metadata": {},
   "outputs": [
    {
     "data": {
      "text/plain": [
       "3"
      ]
     },
     "execution_count": 147,
     "metadata": {},
     "output_type": "execute_result"
    }
   ],
   "source": [
    "length( m_rebuilt )"
   ]
  },
  {
   "cell_type": "code",
   "execution_count": 151,
   "metadata": {},
   "outputs": [
    {
     "data": {
      "text/plain": [
       "(13,)"
      ]
     },
     "execution_count": 151,
     "metadata": {},
     "output_type": "execute_result"
    }
   ],
   "source": [
    "flat_new = 10 .* rand(Float32, length( flat ) );\n",
    "flat_new |> size"
   ]
  },
  {
   "cell_type": "code",
   "execution_count": 152,
   "metadata": {},
   "outputs": [
    {
     "data": {
      "text/plain": [
       "Chain(\n",
       "  Dense(3 => 2, relu),                  \u001b[90m# 8 parameters\u001b[39m\n",
       "  Dense(2 => 1, relu),                  \u001b[90m# 3 parameters\u001b[39m\n",
       "  Dense(1 => 1),                        \u001b[90m# 2 parameters\u001b[39m\n",
       ") \u001b[90m                  # Total: 6 arrays, \u001b[39m13 parameters, 436 bytes."
      ]
     },
     "execution_count": 152,
     "metadata": {},
     "output_type": "execute_result"
    }
   ],
   "source": [
    "m_new = rebuild( flat_new )"
   ]
  },
  {
   "cell_type": "code",
   "execution_count": 154,
   "metadata": {},
   "outputs": [
    {
     "data": {
      "text/plain": [
       "1×2 Matrix{Float32}:\n",
       " 734.13  1879.09"
      ]
     },
     "execution_count": 154,
     "metadata": {},
     "output_type": "execute_result"
    }
   ],
   "source": [
    "m_new( x )"
   ]
  },
  {
   "cell_type": "code",
   "execution_count": null,
   "metadata": {},
   "outputs": [],
   "source": []
  },
  {
   "cell_type": "code",
   "execution_count": null,
   "metadata": {},
   "outputs": [],
   "source": []
  },
  {
   "cell_type": "markdown",
   "metadata": {},
   "source": [
    "### <span style=\"color:orange\"> Get the nested parameter structures from a model </span>\n",
    "\n",
    "- these structures are the non-leaf (not data inputs) which the model depends on\n",
    "- This allows us to loop over the structures and see how we with to manually change them or do calculations on them\n",
    "- uses *functor*"
   ]
  },
  {
   "cell_type": "code",
   "execution_count": 2,
   "metadata": {},
   "outputs": [
    {
     "data": {
      "text/plain": [
       "Chain(\n",
       "  Dense(100 => 50),                     \u001b[90m# 5_050 parameters\u001b[39m\n",
       "  BatchNorm(50, relu),                  \u001b[90m# 100 parameters\u001b[39m\u001b[90m, plus 100\u001b[39m\n",
       "  Dense(50 => 20),                      \u001b[90m# 1_020 parameters\u001b[39m\n",
       "  Dropout(0.2),\n",
       "  Dense(20 => 10, relu),                \u001b[90m# 210 parameters\u001b[39m\n",
       "  Dense(10 => 1, relu),                 \u001b[90m# 11 parameters\u001b[39m\n",
       ") \u001b[90m        # Total: 10 trainable arrays, \u001b[39m6_391 parameters,\n",
       "\u001b[90m          # plus 2 non-trainable, 100 parameters, summarysize \u001b[39m26.113 KiB."
      ]
     },
     "execution_count": 2,
     "metadata": {},
     "output_type": "execute_result"
    }
   ],
   "source": [
    "model = Chain(Dense(100=>50), BatchNorm(50, relu), Dense(50=>20), Dropout(0.2), Dense(20=>10,relu), Dense(10=>1,relu) )"
   ]
  },
  {
   "cell_type": "code",
   "execution_count": 3,
   "metadata": {},
   "outputs": [
    {
     "data": {
      "text/plain": [
       "8-element Vector{Any}:\n",
       " Chain(Dense(100 => 50), BatchNorm(50, relu), Dense(50 => 20), Dropout(0.2), Dense(20 => 10, relu), Dense(10 => 1, relu))  \u001b[90m# 6_391 parameters\u001b[39m\u001b[90m, plus 100 non-trainable\u001b[39m\n",
       " (Dense(100 => 50), BatchNorm(50, relu), Dense(50 => 20), Dropout(0.2), Dense(20 => 10, relu), Dense(10 => 1, relu))\n",
       " Dense(100 => 50)    \u001b[90m# 5_050 parameters\u001b[39m\n",
       " BatchNorm(50, relu)  \u001b[90m# 100 parameters\u001b[39m\u001b[90m, plus 100 non-trainable\u001b[39m\n",
       " Dense(50 => 20)     \u001b[90m# 1_020 parameters\u001b[39m\n",
       " Dropout(0.2)\n",
       " Dense(20 => 10, relu)  \u001b[90m# 210 parameters\u001b[39m\n",
       " Dense(10 => 1, relu)  \u001b[90m# 11 parameters\u001b[39m"
      ]
     },
     "execution_count": 3,
     "metadata": {},
     "output_type": "execute_result"
    }
   ],
   "source": [
    "Flux.modules( model )"
   ]
  },
  {
   "cell_type": "code",
   "execution_count": 4,
   "metadata": {},
   "outputs": [
    {
     "data": {
      "text/plain": [
       "109.93654f0"
      ]
     },
     "execution_count": 4,
     "metadata": {},
     "output_type": "execute_result"
    }
   ],
   "source": [
    "sum( [ sum(abs2, l.weight) for l in Flux.modules(model) if l isa Dense ] )"
   ]
  },
  {
   "cell_type": "code",
   "execution_count": 5,
   "metadata": {},
   "outputs": [],
   "source": [
    "x = rand(100,1);"
   ]
  },
  {
   "cell_type": "code",
   "execution_count": 6,
   "metadata": {},
   "outputs": [
    {
     "data": {
      "text/plain": [
       "1×1 Matrix{Float64}:\n",
       " 0.0"
      ]
     },
     "execution_count": 6,
     "metadata": {},
     "output_type": "execute_result"
    }
   ],
   "source": [
    "model( x )"
   ]
  },
  {
   "cell_type": "code",
   "execution_count": null,
   "metadata": {},
   "outputs": [],
   "source": []
  },
  {
   "cell_type": "code",
   "execution_count": 73,
   "metadata": {},
   "outputs": [
    {
     "ename": "LoadError",
     "evalue": "syntax: \"<\" is not a unary operator",
     "output_type": "error",
     "traceback": [
      "syntax: \"<\" is not a unary operator",
      "",
      "Stacktrace:",
      " [1] top-level scope",
      "   @ In[73]:1",
      " [2] eval",
      "   @ ./boot.jl:368 [inlined]",
      " [3] include_string(mapexpr::typeof(REPL.softscope), mod::Module, code::String, filename::String)",
      "   @ Base ./loading.jl:1428"
     ]
    }
   ],
   "source": [
    "<span style=\"color:orange\">  </span>"
   ]
  }
 ],
 "metadata": {
  "kernelspec": {
   "display_name": "Julia 1.8.2",
   "language": "julia",
   "name": "julia-1.8"
  },
  "language_info": {
   "file_extension": ".jl",
   "mimetype": "application/julia",
   "name": "julia",
   "version": "1.8.2"
  }
 },
 "nbformat": 4,
 "nbformat_minor": 4
}
