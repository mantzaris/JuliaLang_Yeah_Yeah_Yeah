{
 "cells": [
  {
   "cell_type": "code",
   "execution_count": null,
   "metadata": {},
   "outputs": [],
   "source": []
  },
  {
   "cell_type": "markdown",
   "metadata": {},
   "source": [
    "## <span style=\"color:orange\">Recurrent Models with FluxML</span>\n",
    "\n",
    "#### <span style=\"color:orange\"> Flux does offer out of the box a set of recurrence functionalities in specific layers. Remember that recurrent models can come across as being more complicated than necessary. In general we are still dealing with the same type of funcational relationship, $\\hat{y} = f(X_i) = f_{rnn}(X_t)$ where previously y_hat was either a single dimension or multiple dimensions, here $y_{hat} = [y_t , h_t]$ where $h_t$ is an input into the new time point (memory carry on) so that we have $X_t = [ x_t , h_{t-1}]$. The dependency can be seen as $\\hat{y}_t = f(x_t,h_{t-1}), h_t = g(h_{t-1},x_t)$ </span>\n",
    "\n",
    "- This basic recurrence relationship says that at each point we take the $h_{t-1}$ from the previous time step 't-1', we also use the current inputs at time t, $x_t$ and then produce an output which is has 2 components, $y_t$ and $h_t$ (where $h_t$ feeds into $t+1$). If we focus on a single time point, we are still doing the functional mapping that we had before with the chain of Dense layers.\n",
    "\n",
    "- The below image [link source](https://www.google.com/url?sa=i&url=https%3A%2F%2Fmedium.com%2Fswlh%2Fintroduction-to-recurrent-neural-networks-rnns-347903dd8d81&psig=AOvVaw3xmMdMdDizNUUWXy021QUO&ust=1673451409556000&source=images&cd=vfe&ved=0CBAQjhxqFwoTCOCStLiqvfwCFQAAAAAdAAAAABA_) shows how this looks in a model diagram for **seq-to-seq** (**many to many**)\n",
    "\n",
    "![rnn](./rnn1.png)\n",
    "\n",
    "- also The below image [link source](https://www.ibm.com/topics/recurrent-neural-networks) shows how this looks\n",
    "\n",
    "![rnn](./rnn2.jpeg)\n",
    "\n",
    "----------------\n",
    "\n",
    "#### <span style=\"color:orange\"> $W_h$ is the weight matrix (tranformation) on the 'hidden inputs' $h_{t-1}$ that come from the previous unit's 'hidden' output, $W_x$ is the weight matrix (transformation) upon the inputs at the current time $x_t$. $W_y$ is the transformation weight matrix applied to the 'current' hidden value produced from the cell that after a non-linear transformation (activation function) produces the output $\\hat{y}_t$. Training involves learning the values of the weights/parameters for these matrices.</span>\n",
    "\n",
    "### <span style=\"color:orange\"> $h_t = tahn(b_h + W_h^t h_{t-1} + W_x^t x_t)$ </span>\n",
    "### <span style=\"color:orange\"> $\\hat{y}_t = softmax(b_y + W_{y}^{t} h_t)$ </span>"
   ]
  },
  {
   "cell_type": "code",
   "execution_count": null,
   "metadata": {},
   "outputs": [],
   "source": []
  },
  {
   "cell_type": "code",
   "execution_count": 12,
   "metadata": {},
   "outputs": [
    {
     "name": "stdout",
     "output_type": "stream",
     "text": [
      "\u001b[32m\u001b[1mStatus\u001b[22m\u001b[39m `~/.julia/environments/v1.8/Project.toml`\n",
      " \u001b[90m [587475ba] \u001b[39mFlux v0.13.11\n"
     ]
    }
   ],
   "source": [
    "import Pkg\n",
    "Pkg.status(\"Flux\")"
   ]
  },
  {
   "cell_type": "code",
   "execution_count": 13,
   "metadata": {},
   "outputs": [],
   "source": [
    "using Flux\n",
    "using Zygote\n",
    "using Plots"
   ]
  },
  {
   "cell_type": "code",
   "execution_count": null,
   "metadata": {},
   "outputs": [],
   "source": []
  },
  {
   "cell_type": "code",
   "execution_count": 14,
   "metadata": {},
   "outputs": [
    {
     "name": "stdout",
     "output_type": "stream",
     "text": [
      "Float32[-0.9805636, 0.9029308, -0.021556435, -0.3254551, 0.8538051]\n"
     ]
    }
   ],
   "source": [
    "#example of usage of the RNN unit\n",
    "h_dim = 5 #hidden dimension\n",
    "x_dim = 2 #input dimension at time t\n",
    "y_dim = 1 #the output dimension that 'we' see\n",
    "\n",
    "rnn_tmp = RNN( x_dim , h_dim ) #produces the cell\n",
    "x_t1 = Float32.( [1,2] ) #some arbitrary input data\n",
    "println( rnn_tmp( x_t1 ) ) #print the output h_t1 from the cell"
   ]
  },
  {
   "cell_type": "markdown",
   "metadata": {},
   "source": [
    "### <span style=\"color:orange\"> It is key to know that this cell is different from the Dense layers in that it maintains the state between executions since it is **stateful**. This means it holds the state via a closure inside the function reference</span>"
   ]
  },
  {
   "cell_type": "code",
   "execution_count": 15,
   "metadata": {},
   "outputs": [
    {
     "name": "stdout",
     "output_type": "stream",
     "text": [
      "Float32[-0.9032693, 0.8045727, -0.42605814, -0.8635573, 0.25629073]\n"
     ]
    },
    {
     "data": {
      "text/plain": [
       "4-element Vector{Vector{Float32}}:\n",
       " [-0.9606528, 0.8979496, -0.11266329, -0.7910778, 0.6891953]\n",
       " [-0.9167843, 0.8792115, -0.43906084, -0.8651189, 0.39828205]\n",
       " [-0.95545655, 0.8977845, -0.17973875, -0.80005825, 0.62877864]\n",
       " [-0.9265469, 0.8820714, -0.38817954, -0.8545371, 0.4493794]"
      ]
     },
     "metadata": {},
     "output_type": "display_data"
    }
   ],
   "source": [
    "x_t1 = Float32.( [1,2] ) #some arbitrary input data\n",
    "println( rnn_tmp( x_t1 ) ) #print the output h_t1 from the cell\n",
    "#print multiple times to see the changes\n",
    "display( [ rnn_tmp( x_t1 ) for _ in 1:4 ] )"
   ]
  },
  {
   "cell_type": "markdown",
   "metadata": {},
   "source": [
    "### <span style=\"color:orange\"> Since the RNN unit maintains and handles the state between subsequent uses we can abstractly use it in the ML pipeline as we used the Dense layer. From above notice that we produced hidden representation responses from inputs, but not the predictions $\\hat{y}$ since those are done separately. </span>\n",
    "\n",
    "### <span style=\"color:orange\"> The RNN function implements $h_t = tahn(b_h + W_h^t h_{t-1} + W_x^t x_t)$ but $\\hat{y}_t = softmax(b_y + W_{y}^{t} h_t)$ is not. The $W_{y}$ matrix is not provided by the RNN layer and must be supplied by the user. </span>"
   ]
  },
  {
   "cell_type": "code",
   "execution_count": 16,
   "metadata": {},
   "outputs": [
    {
     "data": {
      "text/plain": [
       "Chain(\n",
       "  Recur(\n",
       "    RNNCell(2 => 5, tanh),              \u001b[90m# 45 parameters\u001b[39m\n",
       "  ),\n",
       "  Dense(5 => 1),                        \u001b[90m# 6 parameters\u001b[39m\n",
       ") \u001b[90m        # Total: 6 trainable arrays, \u001b[39m51 parameters,\n",
       "\u001b[90m          # plus 1 non-trainable, 5 parameters, summarysize \u001b[39m580 bytes."
      ]
     },
     "execution_count": 16,
     "metadata": {},
     "output_type": "execute_result"
    }
   ],
   "source": [
    "#we feed the model with 'x_dim' data, it produces a hidden vector 'h_dim' and outputs a 'y_dim' vector at each time\n",
    "rnn_model1 = Chain( RNN( x_dim => h_dim ) , Dense( h_dim => y_dim ) ) "
   ]
  },
  {
   "cell_type": "code",
   "execution_count": 17,
   "metadata": {},
   "outputs": [
    {
     "data": {
      "text/plain": [
       "1-element Vector{Float32}:\n",
       " -1.3174596"
      ]
     },
     "execution_count": 17,
     "metadata": {},
     "output_type": "execute_result"
    }
   ],
   "source": [
    "#try out the model\n",
    "rnn_model1( x_t1 )"
   ]
  },
  {
   "cell_type": "code",
   "execution_count": 18,
   "metadata": {},
   "outputs": [
    {
     "data": {
      "text/plain": [
       "4-element Vector{Vector{Float32}}:\n",
       " [-2.598038]\n",
       " [-2.507431]\n",
       " [-2.5310478]\n",
       " [-2.5289788]"
      ]
     },
     "execution_count": 18,
     "metadata": {},
     "output_type": "execute_result"
    }
   ],
   "source": [
    "[ rnn_model1( x_t1 ) for _ in 1:4 ]"
   ]
  },
  {
   "cell_type": "code",
   "execution_count": 22,
   "metadata": {},
   "outputs": [
    {
     "data": {
      "text/plain": [
       "5-element Vector{Vector{Float32}}:\n",
       " [-1.9368374]\n",
       " [-0.85135067]\n",
       " [0.20908314]\n",
       " [-1.7417446]\n",
       " [-2.3559318]"
      ]
     },
     "execution_count": 22,
     "metadata": {},
     "output_type": "execute_result"
    }
   ],
   "source": [
    "#test the model with hypothetical data\n",
    "x_length = 5\n",
    "#generate some random data as inputs, to be treated as a sequence\n",
    "x_seq = [ rand( Float32 , x_dim ) for i = 1:x_length ] #sequence data\n",
    "[ rnn_model1( xt ) for xt in x_seq ] #predicted y_t data from the RNN\n",
    "#this is <sequence to sequence> <many to many>"
   ]
  },
  {
   "cell_type": "markdown",
   "metadata": {},
   "source": [
    "[link source](https://www.google.com/url?sa=i&url=https%3A%2F%2Fwww.codeproject.com%2FArticles%2F3993967%2FApplying-Long-Short-Term-Memory-for-Video-Classifi&psig=AOvVaw3aJjMa8pFFZ1i53Lk2C-gE&ust=1673466988547000&source=images&cd=vfe&ved=0CBAQjhxqFwoTCNjijr7kvfwCFQAAAAAdAAAAABA4)\n",
    "\n",
    "![rnn](./rnnTypes.jpg)\n",
    "\n",
    "Let's consider the <u>**sequence to one**</u> (seq-to-one) now"
   ]
  },
  {
   "cell_type": "code",
   "execution_count": 31,
   "metadata": {},
   "outputs": [
    {
     "name": "stdout",
     "output_type": "stream",
     "text": [
      "y=Float32[0.6826063] x=Vector{Float32}[[0.4168681, 0.7063472], [0.04967791, 0.73665863], [0.92430115, 0.35278362]]\n",
      "Float32[-1.3182502]\n"
     ]
    },
    {
     "data": {
      "text/plain": [
       "4.0034266f0"
      ]
     },
     "execution_count": 31,
     "metadata": {},
     "output_type": "execute_result"
    }
   ],
   "source": [
    "\n",
    "#loss function for 3-to-1, a sequence of 3 inputs for a single output\n",
    "#this can be used in the training scheme as before\n",
    "function loss_3_to_1( x , y ) #assume feature data has 3 samples\n",
    "    rnn_model1( x[1] ) # ignores the output but updates the hidden states\n",
    "    rnn_model1( x[2] ) # ignores the output but updates the hidden states again\n",
    "    y_hat = rnn_model1( x[3] )\n",
    "    println( y_hat )\n",
    "    Flux.mse( y_hat , y )\n",
    "end\n",
    "\n",
    "y = rand( Float32 , y_dim ) #target data\n",
    "x = [ rand(Float32, x_dim ) for i=1:3 ] #sequence of 3 x values\n",
    "println(\"y=\",y,\" x=\",x)\n",
    "loss_3_to_1( x , y )"
   ]
  },
  {
   "cell_type": "code",
   "execution_count": 36,
   "metadata": {},
   "outputs": [
    {
     "name": "stdout",
     "output_type": "stream",
     "text": [
      "Float32[-2.5044782]\n",
      "loss = 8.718225\n",
      "Float32[-1.3792447]\n",
      "loss = 3.523202\n",
      "Float32[-2.0760872]\n",
      "loss = 6.632331\n",
      "Float32[-2.1436944]\n",
      "loss = 9.492607\n",
      "Float32[-1.131919]\n",
      "loss = 2.2251892\n",
      "Float32[-0.62875444]\n",
      "loss = 1.1021379\n",
      "Float32[0.08114448]\n",
      "loss = 0.74856144\n",
      "Float32[-2.4292984]\n",
      "loss = 9.314036\n",
      "Float32[-1.6843594]\n",
      "loss = 3.248972\n",
      "Float32[-1.7381079]\n",
      "loss = 6.9522743\n"
     ]
    }
   ],
   "source": [
    "#produce a hypothetical sequence of data points in x_dim dimensions\n",
    "#with y_dim data and pass that to the loss\n",
    "x_data = [ [rand(Float32,x_dim) for i=1:3] for j=1:10 ]\n",
    "y_data = [ rand( Float32 , y_dim ) for j=1:10 ]\n",
    "data = zip( x_data , y_data ) #pack the data into pairs\n",
    "\n",
    "for (x_tmp,y_tmp) in data\n",
    "    println( \"loss = \" , loss_3_to_1( x_tmp , y_tmp ) )\n",
    "end"
   ]
  },
  {
   "cell_type": "markdown",
   "metadata": {},
   "source": [
    "<span style=\"color:orange\"> If you need to use the RNN and not have it dependent upon the previous state (eg. independent sentences), then you can use the **Flux.reset!(rnn_model)** command so the previous history variables are removed </span>"
   ]
  },
  {
   "cell_type": "code",
   "execution_count": null,
   "metadata": {},
   "outputs": [],
   "source": [
    "#add a reset so that each sentence is taken independently\n",
    "function loss_3_to_1_reset( x , y ) #assume feature data has 3 samples\n",
    "    Flux.reset!( rnn_model1 ) #reset the model from previous sentences\n",
    "    rnn_model1( x[1] ) # ignores the output but updates the hidden states\n",
    "    rnn_model1( x[2] ) # ignores the output but updates the hidden states again\n",
    "    y_hat = rnn_model1( x[3] )\n",
    "    Flux.mse( y_hat , y )\n",
    "end"
   ]
  },
  {
   "cell_type": "code",
   "execution_count": null,
   "metadata": {},
   "outputs": [],
   "source": []
  },
  {
   "cell_type": "code",
   "execution_count": null,
   "metadata": {},
   "outputs": [],
   "source": []
  },
  {
   "cell_type": "code",
   "execution_count": null,
   "metadata": {},
   "outputs": [],
   "source": []
  },
  {
   "cell_type": "code",
   "execution_count": null,
   "metadata": {},
   "outputs": [],
   "source": []
  },
  {
   "cell_type": "code",
   "execution_count": null,
   "metadata": {},
   "outputs": [],
   "source": []
  },
  {
   "cell_type": "code",
   "execution_count": 20,
   "metadata": {},
   "outputs": [],
   "source": [
    "### <span style=\"color:orange\">write a function and make a function for the gradient of the function</span>"
   ]
  }
 ],
 "metadata": {
  "kernelspec": {
   "display_name": "Julia 1.8.2",
   "language": "julia",
   "name": "julia-1.8"
  },
  "language_info": {
   "file_extension": ".jl",
   "mimetype": "application/julia",
   "name": "julia",
   "version": "1.8.2"
  }
 },
 "nbformat": 4,
 "nbformat_minor": 4
}
