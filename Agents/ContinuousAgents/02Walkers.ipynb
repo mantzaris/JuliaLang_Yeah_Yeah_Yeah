{
 "cells": [
  {
   "cell_type": "code",
   "execution_count": 49,
   "id": "42123690-2369-43aa-baa3-af50e8219341",
   "metadata": {},
   "outputs": [
    {
     "data": {
      "text/plain": [
       "v\"1.9.0\""
      ]
     },
     "metadata": {},
     "output_type": "display_data"
    }
   ],
   "source": [
    "using Agents\n",
    "using Random\n",
    "#using CairoMakie\n",
    "using WGLMakie\n",
    "using InteractiveDynamics\n",
    "using Distances\n",
    "using GeometryBasics\n",
    "VERSION"
   ]
  },
  {
   "cell_type": "code",
   "execution_count": 27,
   "id": "8f3d78c4-80aa-45c0-bbb6-4b7514910cdf",
   "metadata": {},
   "outputs": [
    {
     "name": "stdout",
     "output_type": "stream",
     "text": [
      "\u001b[32m\u001b[1mStatus\u001b[22m\u001b[39m `~/.julia/environments/v1.9/Project.toml`\n",
      "\u001b[32m⌃\u001b[39m \u001b[90m[46ada45e] \u001b[39mAgents v5.16.0\n",
      "\u001b[36m\u001b[1mInfo\u001b[22m\u001b[39m Packages marked with \u001b[32m⌃\u001b[39m have new versions available and may be upgradable.\n"
     ]
    }
   ],
   "source": [
    "import Pkg\n",
    "Pkg.status(\"Agents\")"
   ]
  },
  {
   "cell_type": "code",
   "execution_count": 28,
   "id": "01b53583-5c89-4d7f-a066-e7ad7d7f1372",
   "metadata": {},
   "outputs": [],
   "source": [
    "seed = 123\n",
    "rand_rng = Random.MersenneTwister(seed);"
   ]
  },
  {
   "cell_type": "code",
   "execution_count": 29,
   "id": "286005c3-dd06-4c5e-8c21-37efff58fd6c",
   "metadata": {},
   "outputs": [],
   "source": [
    "@agent RandomWalker ContinuousAgent{2} begin\n",
    "    in_danger_zone::Bool\n",
    "end"
   ]
  },
  {
   "cell_type": "code",
   "execution_count": 30,
   "id": "e7dd4db5-f7bc-4726-9293-d6a80c750d7b",
   "metadata": {},
   "outputs": [
    {
     "data": {
      "text/plain": [
       "walkerStep! (generic function with 1 method)"
      ]
     },
     "metadata": {},
     "output_type": "display_data"
    }
   ],
   "source": [
    "function walkerStep!(agent, model)\n",
    "    \n",
    "    randomwalk!(agent,model,1)\n",
    "    \n",
    "end"
   ]
  },
  {
   "cell_type": "code",
   "execution_count": 36,
   "id": "40f93a66-760e-4026-b8a0-3b81ec7e379a",
   "metadata": {},
   "outputs": [
    {
     "data": {
      "text/plain": [
       "sampleEdgePosition (generic function with 1 method)"
      ]
     },
     "metadata": {},
     "output_type": "display_data"
    }
   ],
   "source": [
    "function sampleEdgePosition(width, height, threshold)\n",
    "    edge = rand(1:4)  # Choose a random edge: 1 = top, 2 = right, 3 = bottom, 4 = left\n",
    "    x, y = 0.0, 0.0\n",
    "\n",
    "    if edge == 1\n",
    "        x = rand(0.0:width-1)\n",
    "        y = rand(0.0:threshold)\n",
    "    elseif edge == 2\n",
    "        x = rand(width - threshold:width-1)\n",
    "        y = rand(0.0:height-1)\n",
    "    elseif edge == 3\n",
    "        x = rand(0.0:width-1)\n",
    "        y = rand(height - threshold:height-1)\n",
    "    else\n",
    "        x = rand(0.0:threshold)\n",
    "        y = rand(0.0:height-1)\n",
    "    end\n",
    "\n",
    "    return (x, y)\n",
    "end"
   ]
  },
  {
   "cell_type": "code",
   "execution_count": 37,
   "id": "030e3b80-4517-422b-92fc-b80cb9199c5f",
   "metadata": {},
   "outputs": [
    {
     "data": {
      "text/plain": [
       "4-element Vector{Tuple{Real, Float64}}:\n",
       " (19, 5.0)\n",
       " (19.0, 1.0)\n",
       " (19, 4.0)\n",
       " (0.0, 1.0)"
      ]
     },
     "metadata": {},
     "output_type": "display_data"
    }
   ],
   "source": [
    "t = (20,20)\n",
    "[sampleEdgePosition(t..., 1) for _ in 1:4]"
   ]
  },
  {
   "cell_type": "code",
   "execution_count": 38,
   "id": "a6144248-04f6-46b3-afc6-d577225ebfb1",
   "metadata": {},
   "outputs": [
    {
     "data": {
      "text/plain": [
       "(20, 20)"
      ]
     },
     "metadata": {},
     "output_type": "display_data"
    }
   ],
   "source": [
    "extent = (20,20)"
   ]
  },
  {
   "cell_type": "code",
   "execution_count": 39,
   "id": "67416a1f-3aaa-4b20-91bb-0e2f62c66a2a",
   "metadata": {},
   "outputs": [
    {
     "data": {
      "text/plain": [
       "initializeWalkers (generic function with 1 method)"
      ]
     },
     "metadata": {},
     "output_type": "display_data"
    }
   ],
   "source": [
    "function initializeWalkers(extent;walker_num=4 )\n",
    "    \n",
    "    spacing = 1\n",
    "    space_2D = ContinuousSpace(extent, spacing=spacing, periodic = true)\n",
    "    \n",
    "    properties = Dict(:danger_radius => 3, :danger_center => (extent[1]/2,extent[2]/2) )\n",
    "\n",
    "    model = ABM( RandomWalker, space_2D, rng=rand_rng, scheduler=Schedulers.Randomly(); properties )\n",
    "    \n",
    "    edge_distance = 2\n",
    "    in_danger_zone_default = false\n",
    "    for _ in 1:walker_num\n",
    "           \n",
    "        id_tmp = nextid( model )\n",
    "        pos_tmp = sampleEdgePosition( extent..., edge_distance )\n",
    "        vel_tmp = ( 0, 0 )\n",
    "        agent = RandomWalker( id_tmp, pos_tmp, vel_tmp, in_danger_zone_default )\n",
    "        add_agent_pos!( agent, model )\n",
    "        \n",
    "    end\n",
    "    return model    \n",
    "end"
   ]
  },
  {
   "cell_type": "code",
   "execution_count": 40,
   "id": "eb212964-2771-496e-b372-1ff7c36adb01",
   "metadata": {},
   "outputs": [
    {
     "data": {
      "text/plain": [
       "StandardABM with 4 agents of type RandomWalker\n",
       " space: periodic continuous space with (20.0, 20.0) extent and spacing=1.0\n",
       " scheduler: Agents.Schedulers.Randomly\n",
       " properties: danger_center, danger_radius"
      ]
     },
     "metadata": {},
     "output_type": "display_data"
    }
   ],
   "source": [
    "model = initializeWalkers(extent)"
   ]
  },
  {
   "cell_type": "code",
   "execution_count": 41,
   "id": "2b5abd2e-cbab-414b-aa8f-8998e4e6c47d",
   "metadata": {},
   "outputs": [
    {
     "data": {
      "text/plain": [
       "modelStep! (generic function with 1 method)"
      ]
     },
     "metadata": {},
     "output_type": "display_data"
    }
   ],
   "source": [
    "function modelStep!(agent, model)\n",
    "    \n",
    "    dist_to_center_tmp = evaluate( Euclidean(), agent.pos, model.danger_center )\n",
    "    \n",
    "    if( dist_to_center_tmp < model.danger_radius )\n",
    "        agent.in_danger_zone = true\n",
    "    else\n",
    "        agent.in_danger_zone = false\n",
    "    end    \n",
    "end"
   ]
  },
  {
   "cell_type": "code",
   "execution_count": 42,
   "id": "62a3040e-1556-407a-8374-01759869c1c8",
   "metadata": {},
   "outputs": [
    {
     "data": {
      "text/plain": [
       "MakerType (generic function with 1 method)"
      ]
     },
     "metadata": {},
     "output_type": "display_data"
    }
   ],
   "source": [
    "function MakerType(agent)\n",
    "    return :circle\n",
    "end"
   ]
  },
  {
   "cell_type": "code",
   "execution_count": 43,
   "id": "18cbe624-6475-4291-b5a0-594962afa2b4",
   "metadata": {},
   "outputs": [
    {
     "data": {
      "text/plain": [
       "ColorType (generic function with 1 method)"
      ]
     },
     "metadata": {},
     "output_type": "display_data"
    }
   ],
   "source": [
    "function ColorType(agent)\n",
    "    if agent.in_danger_zone == true\n",
    "        return :red\n",
    "    else\n",
    "        return :blue\n",
    "    end    \n",
    "end"
   ]
  },
  {
   "cell_type": "code",
   "execution_count": 45,
   "id": "ff1d5c32-e21c-4b01-a428-61f1ed07c646",
   "metadata": {},
   "outputs": [
    {
     "data": {
      "image/png": "[encoded data removed]"
     },
     "metadata": {},
     "output_type": "display_data"
    }
   ],
   "source": [
    "plotkwargs = (; ac=ColorType, am=MakerType)\n",
    "fig, ax, abmobs = Agents.abmplot(model; plotkwargs..., figure = (; resolution=(800,400)) )\n",
    "fig"
   ]
  },
  {
   "cell_type": "code",
   "execution_count": 55,
   "id": "7828e6bf-7c90-4c63-80de-e3f258670156",
   "metadata": {},
   "outputs": [
    {
     "data": {
      "text/html": [
       "<div id=\"a1d77d1e-1b03-4713-996e-52bfd861f97a\" data-jscall-id=\"root\">\n",
       "  <div>\n",
       "    <script src=\"http://localhost:9384/assets/a098e280c3a309d2a62a3dcdc2386088abc7e39c-JSServe.bundled.js\" type=\"module\"></script>\n",
       "    <div></div>\n",
       "  </div>\n",
       "  <div data-jscall-id=\"1\">\n",
       "    <script type=\"module\">    JSServe.lock_loading(() => {\n",
       "        return JSServe.fetch_binary('http://localhost:9384/assets/83c83ef029a902af9b3701f24b9b17dda60b90a2-11440696612730405678.bin').then(msgs=> JSServe.init_session('a1d77d1e-1b03-4713-996e-52bfd861f97a', msgs, 'root'));\n",
       "    })\n",
       "</script>\n",
       "    <script type=\"module\">    import('http://localhost:9384/assets/28806e835ea555c3a3bdd9068c4353c5a1d5f227-Websocket.bundled.js').then(WS => {\n",
       "        WS.setup_connection({proxy_url: 'http://localhost:9384', session_id: 'a1d77d1e-1b03-4713-996e-52bfd861f97a', compression_enabled: false})\n",
       "    })\n",
       "</script>\n",
       "    <canvas data-jscall-id=\"2\" tabindex=\"0\"></canvas>\n",
       "  </div>\n",
       "</div>"
      ]
     },
     "metadata": {},
     "output_type": "display_data"
    }
   ],
   "source": [
    "plotkwargs = (; ac=ColorType, am=MakerType)\n",
    "fig, ax, abmobs = Agents.abmplot(model; agent_step! = walkerStep!, model_step! = modelStep!,\n",
    "                              plotkwargs..., figure = (; resolution=(800,400)) )\n",
    "\n",
    "center = GLMakie.Point2f0( extent[1]/2, extent[2]/2 )\n",
    "\n",
    "θ = LinRange(0, 2π, 100)  # Create 100 points from 0 to 2π\n",
    "x = extent[1]/2 .+ model.danger_radius * cos.(θ)  # x-coordinates of the circle\n",
    "y = extent[2]/2 .+ model.danger_radius * sin.(θ)  # y-coordinates of the circle\n",
    "\n",
    "lines!(ax, x, y, color=:red, linewidth=1.5)\n",
    "\n",
    "fig"
   ]
  },
  {
   "cell_type": "code",
   "execution_count": 16,
   "id": "5fef2c2a-91c9-4e32-b719-ef658c530c7f",
   "metadata": {},
   "outputs": [
    {
     "ename": "UndefVarError",
     "evalue": "UndefVarError: `update_abm_plot!` not defined",
     "output_type": "error",
     "traceback": [
      "UndefVarError: `update_abm_plot!` not defined\n",
      "\n",
      "Stacktrace:\n",
      " [1] top-level scope\n",
      "   @ ~/Documents/repos/JuliaLang_Yeah_Yeah_Yeah/Agents/ContinuousAgents/02Walkers.ipynb:4"
     ]
    }
   ],
   "source": [
    "#step!(model, walkerStep!, 1)\n",
    "\n",
    "# Update the plot\n",
    "update_abm_plot!(abmobs)\n",
    "\n",
    "# Re-draw the custom circle\n",
    "θ = LinRange(0, 2π, 100)  # Create 100 points from 0 to 2π\n",
    "x = extent[1]/2 .+ model.danger_radius * cos.(θ)  # x-coordinates of the circle\n",
    "y = extent[2]/2 .+ model.danger_radius * sin.(θ)  # y-coordinates of the circle\n",
    "lines!(ax, x, y, color=:red, linewidth=1.5)\n",
    "\n",
    "fig"
   ]
  },
  {
   "cell_type": "code",
   "execution_count": 53,
   "id": "f71f908f-36a5-40c8-bca0-6978eba4e769",
   "metadata": {},
   "outputs": [],
   "source": []
  },
  {
   "cell_type": "code",
   "execution_count": 18,
   "id": "24aee96f-c3c2-4d64-9ce4-05c84c390a1f",
   "metadata": {},
   "outputs": [],
   "source": []
  },
  {
   "cell_type": "code",
   "execution_count": 19,
   "id": "aed0b068-bb28-4e2b-b761-82d22c4f9054",
   "metadata": {},
   "outputs": [],
   "source": []
  },
  {
   "cell_type": "code",
   "execution_count": 20,
   "id": "701691ee-1edb-44ec-ac11-e8eeb13c20fd",
   "metadata": {},
   "outputs": [],
   "source": []
  },
  {
   "cell_type": "code",
   "execution_count": 21,
   "id": "5b9c9afc-a4fb-4da5-a549-0235fec963da",
   "metadata": {},
   "outputs": [],
   "source": []
  },
  {
   "cell_type": "code",
   "execution_count": 22,
   "id": "85e1a0d8-bb27-43b4-b68d-3f9b879deade",
   "metadata": {},
   "outputs": [],
   "source": []
  },
  {
   "cell_type": "code",
   "execution_count": 23,
   "id": "a1c925b5-8271-42d2-841c-670025a1bba3",
   "metadata": {},
   "outputs": [],
   "source": []
  }
 ],
 "metadata": {
  "kernelspec": {
   "display_name": "Julia 1.9.0",
   "language": "julia",
   "name": "julia-1.9"
  },
  "language_info": {
   "file_extension": ".jl",
   "mimetype": "application/julia",
   "name": "julia",
   "version": "1.9.0"
  }
 },
 "nbformat": 4,
 "nbformat_minor": 5
}
