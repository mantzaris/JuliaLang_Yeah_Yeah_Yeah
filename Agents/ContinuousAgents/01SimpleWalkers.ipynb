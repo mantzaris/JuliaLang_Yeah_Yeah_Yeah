{
 "cells": [
  {
   "cell_type": "code",
   "execution_count": 1,
   "metadata": {},
   "outputs": [],
   "source": [
    "using Agents\n",
    "using Random\n",
    "using CairoMakie\n",
    "using InteractiveDynamics"
   ]
  },
  {
   "cell_type": "code",
   "execution_count": 2,
   "metadata": {},
   "outputs": [
    {
     "data": {
      "text/plain": [
       "v\"1.8.2\""
      ]
     },
     "execution_count": 2,
     "metadata": {},
     "output_type": "execute_result"
    }
   ],
   "source": [
    "VERSION"
   ]
  },
  {
   "cell_type": "code",
   "execution_count": 3,
   "metadata": {},
   "outputs": [
    {
     "name": "stdout",
     "output_type": "stream",
     "text": [
      "\u001b[32m\u001b[1mStatus\u001b[22m\u001b[39m `~/.julia/environments/v1.8/Project.toml`\n",
      "\u001b[33m⌅\u001b[39m\u001b[90m [46ada45e] \u001b[39mAgents v5.14.0\n",
      "\u001b[36m\u001b[1mInfo\u001b[22m\u001b[39m Packages marked with \u001b[33m⌅\u001b[39m have new versions available but compatibility constraints restrict them from upgrading. To see why use `status --outdated`\n"
     ]
    }
   ],
   "source": [
    "import Pkg\n",
    "Pkg.status(\"Agents\")"
   ]
  },
  {
   "cell_type": "code",
   "execution_count": 4,
   "metadata": {},
   "outputs": [],
   "source": [
    "@agent RandomWalkerType1 ContinuousAgent{2} begin\n",
    "    change_direction_prob::Float64\n",
    "end"
   ]
  },
  {
   "cell_type": "code",
   "execution_count": 5,
   "metadata": {},
   "outputs": [
    {
     "data": {
      "text/plain": [
       "initializeWalker1Model (generic function with 1 method)"
      ]
     },
     "execution_count": 5,
     "metadata": {},
     "output_type": "execute_result"
    }
   ],
   "source": [
    "function initializeWalker1Model(;walker_num=1, speed=1, extent=(10,10))\n",
    "    \n",
    "    spacing = 1\n",
    "    space_2D = ContinuousSpace(extent, spacing=spacing, periodic = true)\n",
    "    \n",
    "    seed = 123\n",
    "    rand_rng = Random.MersenneTwister(seed)\n",
    "    \n",
    "    model = ABM(RandomWalkerType1, space_2D, rng=rand_rng, scheduler=Schedulers.Randomly())\n",
    "    \n",
    "    for _ in 1:walker_num\n",
    "        change_direction_prob = max(0.4,rand())\n",
    "        pos = (extent[1]/2,extent[2]/2)\n",
    "        vel = Tuple(rand(2))\n",
    "        agent = RandomWalkerType1(nextid(model), pos, vel, change_direction_prob)\n",
    "        add_agent_pos!(agent, model)\n",
    "    end\n",
    "    return model\n",
    "    \n",
    "end"
   ]
  },
  {
   "cell_type": "code",
   "execution_count": null,
   "metadata": {},
   "outputs": [],
   "source": []
  },
  {
   "cell_type": "code",
   "execution_count": 6,
   "metadata": {},
   "outputs": [
    {
     "data": {
      "text/plain": [
       "walkerType1Step! (generic function with 1 method)"
      ]
     },
     "execution_count": 6,
     "metadata": {},
     "output_type": "execute_result"
    }
   ],
   "source": [
    "function walkerType1Step!(walker, model)\n",
    "    \n",
    "    time_step = 1\n",
    "    \n",
    "    function rotate_vector(v, θ)\n",
    "        rotation_matrix = [cos(θ) -sin(θ); sin(θ) cos(θ)]\n",
    "        return Tuple(rotation_matrix * collect(v))\n",
    "    end\n",
    "    \n",
    "    if walker.change_direction_prob <= rand()\n",
    "        rand_angle_rotate = rand() * 2pi\n",
    "        walker.vel = rotate_vector(walker.vel, rand_angle_rotate)\n",
    "        # move_agent!(agent::A, model::ABM{<:ContinuousSpace,A}, dt::Real)\n",
    "        move_agent!(walker, model, time_step)\n",
    "    end\n",
    "    \n",
    "end"
   ]
  },
  {
   "cell_type": "code",
   "execution_count": 7,
   "metadata": {},
   "outputs": [
    {
     "data": {
      "text/plain": [
       "StandardABM with 1 agents of type RandomWalkerType1\n",
       " space: periodic continuous space with (10.0, 10.0) extent and spacing=1.0\n",
       " scheduler: Agents.Schedulers.Randomly"
      ]
     },
     "execution_count": 7,
     "metadata": {},
     "output_type": "execute_result"
    }
   ],
   "source": [
    "model_Walker1 = initializeWalker1Model()\n",
    "model_Walker1"
   ]
  },
  {
   "cell_type": "code",
   "execution_count": null,
   "metadata": {},
   "outputs": [],
   "source": []
  },
  {
   "cell_type": "code",
   "execution_count": 8,
   "metadata": {},
   "outputs": [
    {
     "data": {
      "image/png": "[encoded data removed]"
     },
     "execution_count": 8,
     "metadata": {},
     "output_type": "execute_result"
    }
   ],
   "source": [
    "figure, = abmplot(model_Walker1; am=:circle)\n",
    "figure"
   ]
  },
  {
   "cell_type": "code",
   "execution_count": 30,
   "metadata": {},
   "outputs": [],
   "source": [
    "abmvideo(\n",
    "    \"plots/walker1.mp4\", model_Walker1, walkerType1Step!;\n",
    "    am = :circle,\n",
    "    framerate = 2, frames = 50,\n",
    "    title = \"WalkerType1\"\n",
    ")"
   ]
  },
  {
   "cell_type": "code",
   "execution_count": null,
   "metadata": {},
   "outputs": [],
   "source": []
  },
  {
   "cell_type": "code",
   "execution_count": null,
   "metadata": {},
   "outputs": [],
   "source": []
  },
  {
   "cell_type": "code",
   "execution_count": 10,
   "metadata": {},
   "outputs": [],
   "source": [
    "@agent RandomWalkerType2 ContinuousAgent{2} begin\n",
    "end"
   ]
  },
  {
   "cell_type": "code",
   "execution_count": 11,
   "metadata": {},
   "outputs": [
    {
     "data": {
      "text/plain": [
       "initializeWalker2Model (generic function with 1 method)"
      ]
     },
     "execution_count": 11,
     "metadata": {},
     "output_type": "execute_result"
    }
   ],
   "source": [
    "function initializeWalker2Model(;walker_num=1, speed=1, extent=(10,10))\n",
    "    \n",
    "    spacing = 1\n",
    "    space_2D = ContinuousSpace(extent, spacing=spacing, periodic=true)\n",
    "\n",
    "    seed = 123\n",
    "    rand_rng = Random.MersenneTwister(seed)\n",
    "    \n",
    "    model = ABM(RandomWalkerType2, space_2D, rng=rand_rng, scheduler=Schedulers.Randomly())\n",
    "    \n",
    "    for _ in 1:walker_num\n",
    "        pos = (extent[1]/2 + 1,extent[2]/2 + 1)\n",
    "        vel = (max(0.4,rand()),max(0.4,rand()))\n",
    "        agent = RandomWalkerType2(nextid(model), pos, vel)\n",
    "        add_agent_pos!(agent, model)\n",
    "    end\n",
    "    return model\n",
    "    \n",
    "end"
   ]
  },
  {
   "cell_type": "code",
   "execution_count": 12,
   "metadata": {},
   "outputs": [
    {
     "data": {
      "text/plain": [
       "walkerType2Step! (generic function with 1 method)"
      ]
     },
     "execution_count": 12,
     "metadata": {},
     "output_type": "execute_result"
    }
   ],
   "source": [
    "function walkerType2Step!(walker, model)\n",
    "    \n",
    "    randomwalk!(walker,model,1)\n",
    "    \n",
    "end"
   ]
  },
  {
   "cell_type": "code",
   "execution_count": 13,
   "metadata": {},
   "outputs": [
    {
     "data": {
      "text/plain": [
       "StandardABM with 1 agents of type RandomWalkerType2\n",
       " space: periodic continuous space with (10.0, 10.0) extent and spacing=1.0\n",
       " scheduler: Agents.Schedulers.Randomly"
      ]
     },
     "execution_count": 13,
     "metadata": {},
     "output_type": "execute_result"
    }
   ],
   "source": [
    "model_Walker2 = initializeWalker2Model()\n",
    "model_Walker2"
   ]
  },
  {
   "cell_type": "code",
   "execution_count": 14,
   "metadata": {},
   "outputs": [
    {
     "data": {
      "image/png": "[encoded data removed]"
     },
     "execution_count": 14,
     "metadata": {},
     "output_type": "execute_result"
    }
   ],
   "source": [
    "figure, = abmplot(model_Walker2; am=:circle)\n",
    "figure"
   ]
  },
  {
   "cell_type": "code",
   "execution_count": 31,
   "metadata": {},
   "outputs": [],
   "source": [
    "abmvideo(\n",
    "    \"plots/walker2.mp4\", model_Walker2, walkerType2Step!;\n",
    "    am = :circle,\n",
    "    framerate = 2, frames = 50,\n",
    "    title = \"WalkerType2\"\n",
    ")"
   ]
  },
  {
   "cell_type": "code",
   "execution_count": null,
   "metadata": {},
   "outputs": [],
   "source": []
  },
  {
   "cell_type": "code",
   "execution_count": 16,
   "metadata": {},
   "outputs": [],
   "source": [
    "# multiple agent types"
   ]
  },
  {
   "cell_type": "code",
   "execution_count": 17,
   "metadata": {},
   "outputs": [
    {
     "data": {
      "text/plain": [
       "walkerType1and2Step! (generic function with 2 methods)"
      ]
     },
     "execution_count": 17,
     "metadata": {},
     "output_type": "execute_result"
    }
   ],
   "source": [
    "# use both types with multiple dispatch and the types\n",
    "function walkerType1and2Step!(walker::RandomWalkerType1, model)\n",
    "    \n",
    "    time_step = 1\n",
    "    \n",
    "    function rotate_vector(v, θ)\n",
    "        rotation_matrix = [cos(θ) -sin(θ); sin(θ) cos(θ)]\n",
    "        return Tuple(rotation_matrix * collect(v))\n",
    "    end\n",
    "    \n",
    "    if walker.change_direction_prob <= rand()\n",
    "        rand_angle_rotate = rand() * 2pi\n",
    "        walker.vel = rotate_vector(walker.vel, rand_angle_rotate)\n",
    "        # move_agent!(agent::A, model::ABM{<:ContinuousSpace,A}, dt::Real)\n",
    "        move_agent!(walker, model, time_step)\n",
    "    end\n",
    "    \n",
    "end\n",
    "\n",
    "function walkerType1and2Step!(walker::RandomWalkerType2, model)\n",
    "    \n",
    "    randomwalk!(walker,model,1)\n",
    "    \n",
    "end"
   ]
  },
  {
   "cell_type": "code",
   "execution_count": 33,
   "metadata": {},
   "outputs": [
    {
     "data": {
      "text/plain": [
       "initializeWalker1and2Model (generic function with 1 method)"
      ]
     },
     "execution_count": 33,
     "metadata": {},
     "output_type": "execute_result"
    }
   ],
   "source": [
    "function initializeWalker1and2Model(;walker_num=1, speed=1, extent=(10,10))\n",
    "    \n",
    "    spacing = 1\n",
    "    space_2D = ContinuousSpace(extent, spacing=spacing, periodic = true)\n",
    "    \n",
    "    seed = 123\n",
    "    rand_rng = Random.MersenneTwister(seed)\n",
    "    \n",
    "    agent_types = Union{RandomWalkerType1, RandomWalkerType2}\n",
    "\n",
    "    model = ABM(agent_types, space_2D, rng=rand_rng, scheduler=Schedulers.Randomly())\n",
    "    \n",
    "    for _ in 1:walker_num\n",
    "        #add type 1\n",
    "           \n",
    "        change_direction_prob = max(0.4,rand())\n",
    "        pos = (extent[1]/2,extent[2]/2)\n",
    "        vel = Tuple(rand(2))\n",
    "        agent = RandomWalkerType1(nextid(model), pos, vel, change_direction_prob)\n",
    "        add_agent_pos!(agent, model)\n",
    "\n",
    "        #add type 2\n",
    "        pos = (extent[1]/2 + 1,extent[2]/2 + 1)\n",
    "        vel = (max(0.4,rand()),max(0.4,rand()))\n",
    "        agent = RandomWalkerType2(nextid(model), pos, vel)\n",
    "        add_agent_pos!(agent, model)\n",
    "        \n",
    "    end\n",
    "    return model\n",
    "    \n",
    "end"
   ]
  },
  {
   "cell_type": "code",
   "execution_count": 34,
   "metadata": {},
   "outputs": [
    {
     "name": "stderr",
     "output_type": "stream",
     "text": [
      "\u001b[33m\u001b[1m┌ \u001b[22m\u001b[39m\u001b[33m\u001b[1mWarning: \u001b[22m\u001b[39mAgent type is not concrete. If your agent is parametrically typed, you're probably\n",
      "\u001b[33m\u001b[1m│ \u001b[22m\u001b[39mseeing this warning because you gave `Agent` instead of `Agent{Float64}`\n",
      "\u001b[33m\u001b[1m│ \u001b[22m\u001b[39m(for example) to this function. You can also create an instance of your agent\n",
      "\u001b[33m\u001b[1m│ \u001b[22m\u001b[39mand pass it to this function. If you want to use `Union` types for mixed agent\n",
      "\u001b[33m\u001b[1m│ \u001b[22m\u001b[39mmodels, you can silence this warning.\n",
      "\u001b[33m\u001b[1m└ \u001b[22m\u001b[39m\u001b[90m@ Agents ~/.julia/packages/Agents/PhazO/src/core/model_concrete.jl:139\u001b[39m\n"
     ]
    },
    {
     "data": {
      "text/plain": [
       "StandardABM with 2 agents of type Union{RandomWalkerType1, RandomWalkerType2}\n",
       " space: periodic continuous space with (10.0, 10.0) extent and spacing=1.0\n",
       " scheduler: Agents.Schedulers.Randomly"
      ]
     },
     "execution_count": 34,
     "metadata": {},
     "output_type": "execute_result"
    }
   ],
   "source": [
    "modelWalkers1and2 = initializeWalker1and2Model()"
   ]
  },
  {
   "cell_type": "code",
   "execution_count": 35,
   "metadata": {},
   "outputs": [
    {
     "data": {
      "text/plain": [
       "ColorType1and2 (generic function with 1 method)"
      ]
     },
     "execution_count": 35,
     "metadata": {},
     "output_type": "execute_result"
    }
   ],
   "source": [
    "function MakerType1and2(agent) \n",
    "    if agent isa RandomWalkerType1\n",
    "        return :circle\n",
    "    elseif agent isa RandomWalkerType2\n",
    "        return :utriangle\n",
    "    end    \n",
    "end\n",
    "\n",
    "function ColorType1and2(agent) \n",
    "    if agent isa RandomWalkerType1\n",
    "        return :blue\n",
    "    elseif agent isa RandomWalkerType2\n",
    "        return :orange\n",
    "    end    \n",
    "end"
   ]
  },
  {
   "cell_type": "code",
   "execution_count": 36,
   "metadata": {},
   "outputs": [
    {
     "data": {
      "image/png": "[encoded data removed]"
     },
     "execution_count": 36,
     "metadata": {},
     "output_type": "execute_result"
    }
   ],
   "source": [
    "plotkwargs = (; ac=ColorType1and2, am=MakerType1and2)\n",
    "figure, = abmplot(modelWalkers1and2; plotkwargs...)\n",
    "figure"
   ]
  },
  {
   "cell_type": "code",
   "execution_count": 37,
   "metadata": {},
   "outputs": [],
   "source": [
    "abmvideo(\n",
    "    \"plots/walker1and2.mp4\", modelWalkers1and2, walkerType1and2Step!;\n",
    "    framerate = 2, frames = 50,\n",
    "    title = \"WalkerType1and2\", plotkwargs...\n",
    ")"
   ]
  },
  {
   "cell_type": "code",
   "execution_count": null,
   "metadata": {},
   "outputs": [],
   "source": []
  },
  {
   "cell_type": "code",
   "execution_count": 68,
   "metadata": {},
   "outputs": [
    {
     "data": {
      "image/png": "[encoded data removed]"
     },
     "execution_count": 68,
     "metadata": {},
     "output_type": "execute_result"
    }
   ],
   "source": [
    "fontsize_theme =Theme(\n",
    "    Axis = (\n",
    "        backgroundcolor = :gray90,\n",
    "        leftspinevisible = false,\n",
    "        rightspinevisible = false,\n",
    "        bottomspinevisible = false,\n",
    "        topspinevisible = false,\n",
    "        xgridcolor = :gray90,\n",
    "        ygridcolor = :gray90,\n",
    "        xticksvisible = false,\n",
    "        yticksvisible = false,\n",
    "        xticklabelsvisible = false,\n",
    "        yticklabelsvisible = false\n",
    "                \n",
    "    ))\n",
    "set_theme!(fontsize_theme)\n",
    "\n",
    "plotkwargs = (; ac=ColorType1and2, am=MakerType1and2)\n",
    "figure, = abmplot(modelWalkers1and2; plotkwargs...)\n",
    "ax = Axis(figure[1,1], aspect = DataAspect(), title = \"Agents Type 1 and 2\")\n",
    "hidedecorations!(ax)\n",
    "\n",
    "figure"
   ]
  },
  {
   "cell_type": "code",
   "execution_count": null,
   "metadata": {},
   "outputs": [],
   "source": []
  },
  {
   "cell_type": "code",
   "execution_count": null,
   "metadata": {},
   "outputs": [],
   "source": []
  },
  {
   "cell_type": "code",
   "execution_count": null,
   "metadata": {},
   "outputs": [],
   "source": []
  },
  {
   "cell_type": "code",
   "execution_count": null,
   "metadata": {},
   "outputs": [],
   "source": []
  },
  {
   "cell_type": "code",
   "execution_count": 25,
   "metadata": {},
   "outputs": [
    {
     "data": {
      "text/plain": [
       "StandardABM with 2 agents of type Union{RandomWalkerType1, RandomWalkerType2}\n",
       " space: periodic continuous space with (10.0, 10.0) extent and spacing=1.0\n",
       " scheduler: Agents.Schedulers.Randomly"
      ]
     },
     "execution_count": 25,
     "metadata": {},
     "output_type": "execute_result"
    }
   ],
   "source": [
    "modelWalkers1and2"
   ]
  },
  {
   "cell_type": "code",
   "execution_count": 26,
   "metadata": {},
   "outputs": [
    {
     "data": {
      "text/plain": [
       "periodic continuous space with (10.0, 10.0) extent and spacing=1.0"
      ]
     },
     "execution_count": 26,
     "metadata": {},
     "output_type": "execute_result"
    }
   ],
   "source": [
    "t =getproperty(modelWalkers1and2, :space)"
   ]
  },
  {
   "cell_type": "code",
   "execution_count": 27,
   "metadata": {},
   "outputs": [
    {
     "data": {
      "text/plain": [
       "(10.0, 10.0)"
      ]
     },
     "execution_count": 27,
     "metadata": {},
     "output_type": "execute_result"
    }
   ],
   "source": [
    "t.extent"
   ]
  },
  {
   "cell_type": "code",
   "execution_count": 28,
   "metadata": {},
   "outputs": [
    {
     "data": {
      "text/plain": [
       "1.0"
      ]
     },
     "execution_count": 28,
     "metadata": {},
     "output_type": "execute_result"
    }
   ],
   "source": [
    "t.spacing"
   ]
  },
  {
   "cell_type": "code",
   "execution_count": 29,
   "metadata": {},
   "outputs": [
    {
     "data": {
      "text/plain": [
       "2-element Vector{Union{RandomWalkerType1, RandomWalkerType2}}:\n",
       " RandomWalkerType2(2, (9.814062725264058, 4.243998283654099), (-0.6347483799824445, -0.7727188972127332))\n",
       " RandomWalkerType1(1, (5.269884131084548, 7.090304768464578), (-0.16934912688026496, 0.6704245986089022), 0.9575615592036967)"
      ]
     },
     "execution_count": 29,
     "metadata": {},
     "output_type": "execute_result"
    }
   ],
   "source": [
    "collect( allagents(modelWalkers1and2) )"
   ]
  },
  {
   "cell_type": "code",
   "execution_count": null,
   "metadata": {},
   "outputs": [],
   "source": []
  }
 ],
 "metadata": {
  "kernelspec": {
   "display_name": "Julia 1.8.2",
   "language": "julia",
   "name": "julia-1.8"
  },
  "language_info": {
   "file_extension": ".jl",
   "mimetype": "application/julia",
   "name": "julia",
   "version": "1.8.2"
  }
 },
 "nbformat": 4,
 "nbformat_minor": 4
}
