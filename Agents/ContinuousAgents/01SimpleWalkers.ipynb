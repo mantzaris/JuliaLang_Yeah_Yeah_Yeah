{
 "cells": [
  {
   "cell_type": "code",
   "execution_count": 56,
   "metadata": {},
   "outputs": [],
   "source": [
    "using Agents\n",
    "using Random\n",
    "using CairoMakie"
   ]
  },
  {
   "cell_type": "code",
   "execution_count": 57,
   "metadata": {},
   "outputs": [
    {
     "data": {
      "text/plain": [
       "v\"1.9.3\""
      ]
     },
     "execution_count": 57,
     "metadata": {},
     "output_type": "execute_result"
    }
   ],
   "source": [
    "VERSION"
   ]
  },
  {
   "cell_type": "code",
   "execution_count": 58,
   "metadata": {},
   "outputs": [
    {
     "name": "stdout",
     "output_type": "stream",
     "text": [
      "\u001b[32m\u001b[1mStatus\u001b[22m\u001b[39m `~/.julia/environments/v1.9/Project.toml`\n",
      "  \u001b[90m[46ada45e] \u001b[39mAgents v5.17.1\n"
     ]
    }
   ],
   "source": [
    "import Pkg\n",
    "Pkg.status(\"Agents\")"
   ]
  },
  {
   "cell_type": "code",
   "execution_count": 59,
   "metadata": {},
   "outputs": [],
   "source": [
    "@agent RandomWalkerType1 ContinuousAgent{2} begin\n",
    "    change_direction_prob::Float64\n",
    "end"
   ]
  },
  {
   "cell_type": "code",
   "execution_count": 105,
   "metadata": {},
   "outputs": [
    {
     "data": {
      "text/plain": [
       "initializeWalker1 (generic function with 1 method)"
      ]
     },
     "execution_count": 105,
     "metadata": {},
     "output_type": "execute_result"
    }
   ],
   "source": [
    "function initializeWalker1Model(;walker_num=1, speed=1, extent=(10,10))\n",
    "    \n",
    "    spacing = 1\n",
    "    space_2D = ContinuousSpace(extent, spacing=spacing, periodic = true)\n",
    "    \n",
    "    seed = 123\n",
    "    rand_rng = Random.MersenneTwister(seed)\n",
    "    \n",
    "    model = ABM(RandomWalkerType1, space_2D, rng=rand_rng, scheduler=Schedulers.Randomly())\n",
    "    \n",
    "    for _ in 1:walker_num\n",
    "        change_direction_prob = max(0.4,rand())\n",
    "        pos = (extent[1]/2,extent[2]/2)\n",
    "        vel = Tuple(rand(2))\n",
    "        agent = RandomWalkerType1(nextid(model), pos, vel, change_direction_prob)\n",
    "        add_agent_pos!(agent, model)\n",
    "    end\n",
    "    return model\n",
    "    \n",
    "end"
   ]
  },
  {
   "cell_type": "code",
   "execution_count": null,
   "metadata": {},
   "outputs": [],
   "source": []
  },
  {
   "cell_type": "code",
   "execution_count": 106,
   "metadata": {},
   "outputs": [
    {
     "data": {
      "text/plain": [
       "walkerType1Step! (generic function with 1 method)"
      ]
     },
     "execution_count": 106,
     "metadata": {},
     "output_type": "execute_result"
    }
   ],
   "source": [
    "function walkerType1Step!(walker, model)\n",
    "    \n",
    "    time_step = 1\n",
    "    \n",
    "    function rotate_vector(v, θ)\n",
    "        rotation_matrix = [cos(θ) -sin(θ); sin(θ) cos(θ)]\n",
    "        return Tuple(rotation_matrix * collect(v))\n",
    "    end\n",
    "    \n",
    "    if walker.change_direction_prob <= rand()\n",
    "        rand_angle_rotate = rand() * 2pi\n",
    "        walker.vel = rotate_vector(walker.vel, rand_angle_rotate)\n",
    "        # move_agent!(agent::A, model::ABM{<:ContinuousSpace,A}, dt::Real)\n",
    "        move_agent!(walker, model, time_step)\n",
    "    end\n",
    "    \n",
    "end"
   ]
  },
  {
   "cell_type": "code",
   "execution_count": 107,
   "metadata": {},
   "outputs": [
    {
     "data": {
      "text/plain": [
       "StandardABM with 1 agents of type RandomWalkerType1\n",
       " space: periodic continuous space with (10.0, 10.0) extent and spacing=1.0\n",
       " scheduler: Agents.Schedulers.Randomly"
      ]
     },
     "execution_count": 107,
     "metadata": {},
     "output_type": "execute_result"
    }
   ],
   "source": [
    "model_Walker1 = initializeWalker1Model()\n",
    "model_Walker1"
   ]
  },
  {
   "cell_type": "code",
   "execution_count": null,
   "metadata": {},
   "outputs": [],
   "source": []
  },
  {
   "cell_type": "code",
   "execution_count": 108,
   "metadata": {},
   "outputs": [
    {
     "data": {
      "image/png": "[encoded data removed]"
     },
     "execution_count": 108,
     "metadata": {},
     "output_type": "execute_result"
    }
   ],
   "source": [
    "figure, = abmplot(model_Walker1; am=:circle)\n",
    "figure"
   ]
  },
  {
   "cell_type": "code",
   "execution_count": 110,
   "metadata": {},
   "outputs": [],
   "source": [
    "abmvideo(\n",
    "    \"plots/walker1.mp4\", model_Walker1, walkerType1Step!;\n",
    "    am = :circle,\n",
    "    framerate = 2, frames = 50,\n",
    "    title = \"WalkerType1\"\n",
    ")"
   ]
  },
  {
   "cell_type": "code",
   "execution_count": null,
   "metadata": {},
   "outputs": [],
   "source": []
  },
  {
   "cell_type": "code",
   "execution_count": null,
   "metadata": {},
   "outputs": [],
   "source": []
  },
  {
   "cell_type": "code",
   "execution_count": 111,
   "metadata": {},
   "outputs": [],
   "source": [
    "@agent RandomWalkerType2 ContinuousAgent{2} begin\n",
    "end"
   ]
  },
  {
   "cell_type": "code",
   "execution_count": 121,
   "metadata": {},
   "outputs": [
    {
     "data": {
      "text/plain": [
       "initializeWalker2Model (generic function with 1 method)"
      ]
     },
     "execution_count": 121,
     "metadata": {},
     "output_type": "execute_result"
    }
   ],
   "source": [
    "function initializeWalker2Model(;walker_num=1, speed=1, extent=(10,10))\n",
    "    \n",
    "    spacing = 1\n",
    "    space_2D = ContinuousSpace(extent, spacing=spacing, periodic=true)\n",
    "\n",
    "    seed = 123\n",
    "    rand_rng = Random.MersenneTwister(seed)\n",
    "    \n",
    "    model = ABM(RandomWalkerType2, space_2D, rng=rand_rng, scheduler=Schedulers.Randomly())\n",
    "    \n",
    "    for _ in 1:walker_num\n",
    "        pos = (extent[1]/2 + 1,extent[2]/2 + 1)\n",
    "        vel = (max(0.4,rand()),max(0.4,rand()))\n",
    "        agent = RandomWalkerType2(nextid(model), pos, vel)\n",
    "        add_agent_pos!(agent, model)\n",
    "    end\n",
    "    return model\n",
    "    \n",
    "end"
   ]
  },
  {
   "cell_type": "code",
   "execution_count": 122,
   "metadata": {},
   "outputs": [
    {
     "data": {
      "text/plain": [
       "walkerType2Step! (generic function with 1 method)"
      ]
     },
     "execution_count": 122,
     "metadata": {},
     "output_type": "execute_result"
    }
   ],
   "source": [
    "function walkerType2Step!(walker, model)\n",
    "    \n",
    "    randomwalk!(walker,model,1)\n",
    "    \n",
    "end"
   ]
  },
  {
   "cell_type": "code",
   "execution_count": 123,
   "metadata": {},
   "outputs": [
    {
     "data": {
      "text/plain": [
       "StandardABM with 1 agents of type RandomWalkerType2\n",
       " space: periodic continuous space with (10.0, 10.0) extent and spacing=1.0\n",
       " scheduler: Agents.Schedulers.Randomly"
      ]
     },
     "execution_count": 123,
     "metadata": {},
     "output_type": "execute_result"
    }
   ],
   "source": [
    "model_Walker2 = initializeWalker2Model()\n",
    "model_Walker2"
   ]
  },
  {
   "cell_type": "code",
   "execution_count": 124,
   "metadata": {},
   "outputs": [
    {
     "data": {
      "image/png": "[encoded data removed]"
     },
     "execution_count": 124,
     "metadata": {},
     "output_type": "execute_result"
    }
   ],
   "source": [
    "figure, = abmplot(model_Walker2; am=:circle)\n",
    "figure"
   ]
  },
  {
   "cell_type": "code",
   "execution_count": 125,
   "metadata": {},
   "outputs": [],
   "source": [
    "abmvideo(\n",
    "    \"plots/walker2.mp4\", model_Walker2, walkerType2Step!;\n",
    "    am = :circle,\n",
    "    framerate = 2, frames = 50,\n",
    "    title = \"WalkerType2\"\n",
    ")"
   ]
  },
  {
   "cell_type": "code",
   "execution_count": null,
   "metadata": {},
   "outputs": [],
   "source": []
  },
  {
   "cell_type": "code",
   "execution_count": 129,
   "metadata": {},
   "outputs": [],
   "source": [
    "# multiple agent types"
   ]
  },
  {
   "cell_type": "code",
   "execution_count": 150,
   "metadata": {},
   "outputs": [
    {
     "data": {
      "text/plain": [
       "walkerType1and2Step! (generic function with 2 methods)"
      ]
     },
     "execution_count": 150,
     "metadata": {},
     "output_type": "execute_result"
    }
   ],
   "source": [
    "# use both types with multiple dispatch and the types\n",
    "function walkerType1and2Step!(walker::RandomWalkerType1, model)\n",
    "    \n",
    "    time_step = 1\n",
    "    \n",
    "    function rotate_vector(v, θ)\n",
    "        rotation_matrix = [cos(θ) -sin(θ); sin(θ) cos(θ)]\n",
    "        return Tuple(rotation_matrix * collect(v))\n",
    "    end\n",
    "    \n",
    "    if walker.change_direction_prob <= rand()\n",
    "        rand_angle_rotate = rand() * 2pi\n",
    "        walker.vel = rotate_vector(walker.vel, rand_angle_rotate)\n",
    "        # move_agent!(agent::A, model::ABM{<:ContinuousSpace,A}, dt::Real)\n",
    "        move_agent!(walker, model, time_step)\n",
    "    end\n",
    "    \n",
    "end\n",
    "\n",
    "function walkerType1and2Step!(walker::RandomWalkerType2, model)\n",
    "    \n",
    "    randomwalk!(walker,model,1)\n",
    "    \n",
    "end"
   ]
  },
  {
   "cell_type": "code",
   "execution_count": 151,
   "metadata": {},
   "outputs": [
    {
     "data": {
      "text/plain": [
       "initializeWalker1and2Model (generic function with 1 method)"
      ]
     },
     "execution_count": 151,
     "metadata": {},
     "output_type": "execute_result"
    }
   ],
   "source": [
    "function initializeWalker1and2Model(;walker_num=1, speed=1, extent=(10,10))\n",
    "    \n",
    "    spacing = 1\n",
    "    space_2D = ContinuousSpace(extent, spacing=spacing, periodic = true)\n",
    "    \n",
    "    seed = 123\n",
    "    rand_rng = Random.MersenneTwister(seed)\n",
    "    \n",
    "    agent_types = Union{RandomWalkerType1, RandomWalkerType2}\n",
    "\n",
    "    model = ABM(agent_types, space_2D, rng=rand_rng, scheduler=Schedulers.Randomly())\n",
    "    \n",
    "    for _ in 1:walker_num\n",
    "        #add type 1\n",
    "           \n",
    "        change_direction_prob = max(0.4,rand())\n",
    "        pos = (extent[1]/2,extent[2]/2)\n",
    "        vel = Tuple(rand(2))\n",
    "        agent = RandomWalkerType1(nextid(model), pos, vel, change_direction_prob)\n",
    "        add_agent_pos!(agent, model)\n",
    "\n",
    "        #add type 2\n",
    "        pos = (extent[1]/2 + 1,extent[2]/2 + 1)\n",
    "        vel = (max(0.4,rand()),max(0.4,rand()))\n",
    "        agent = RandomWalkerType2(nextid(model), pos, vel)\n",
    "        add_agent_pos!(agent, model)\n",
    "        \n",
    "    end\n",
    "    return model\n",
    "    \n",
    "end"
   ]
  },
  {
   "cell_type": "code",
   "execution_count": 152,
   "metadata": {},
   "outputs": [
    {
     "name": "stderr",
     "output_type": "stream",
     "text": [
      "\u001b[33m\u001b[1m┌ \u001b[22m\u001b[39m\u001b[33m\u001b[1mWarning: \u001b[22m\u001b[39mAgent type is not concrete. If your agent is parametrically typed, you're probably\n",
      "\u001b[33m\u001b[1m│ \u001b[22m\u001b[39mseeing this warning because you gave `Agent` instead of `Agent{Float64}`\n",
      "\u001b[33m\u001b[1m│ \u001b[22m\u001b[39m(for example) to this function. You can also create an instance of your agent\n",
      "\u001b[33m\u001b[1m│ \u001b[22m\u001b[39mand pass it to this function. If you want to use `Union` types for mixed agent\n",
      "\u001b[33m\u001b[1m│ \u001b[22m\u001b[39mmodels, you can silence this warning.\n",
      "\u001b[33m\u001b[1m└ \u001b[22m\u001b[39m\u001b[90m@ Agents ~/.julia/packages/Agents/xtlGn/src/core/model_concrete.jl:139\u001b[39m\n"
     ]
    },
    {
     "data": {
      "text/plain": [
       "StandardABM with 2 agents of type Union{RandomWalkerType1, RandomWalkerType2}\n",
       " space: periodic continuous space with (10.0, 10.0) extent and spacing=1.0\n",
       " scheduler: Agents.Schedulers.Randomly"
      ]
     },
     "execution_count": 152,
     "metadata": {},
     "output_type": "execute_result"
    }
   ],
   "source": [
    "modelWalkers1and2 = initializeWalker1and2Model()"
   ]
  },
  {
   "cell_type": "code",
   "execution_count": 160,
   "metadata": {},
   "outputs": [
    {
     "data": {
      "text/plain": [
       "ColorType1and2 (generic function with 1 method)"
      ]
     },
     "execution_count": 160,
     "metadata": {},
     "output_type": "execute_result"
    }
   ],
   "source": [
    "function MakerType1and2(agent) \n",
    "    if agent isa RandomWalkerType1\n",
    "        return :circle\n",
    "    elseif agent isa RandomWalkerType2\n",
    "        return :utriangle\n",
    "    end    \n",
    "end\n",
    "\n",
    "function ColorType1and2(agent) \n",
    "    if agent isa RandomWalkerType1\n",
    "        return :blue\n",
    "    elseif agent isa RandomWalkerType2\n",
    "        return :orange\n",
    "    end    \n",
    "end"
   ]
  },
  {
   "cell_type": "code",
   "execution_count": 161,
   "metadata": {},
   "outputs": [
    {
     "data": {
      "image/png": "[encoded data removed]"
     },
     "execution_count": 161,
     "metadata": {},
     "output_type": "execute_result"
    }
   ],
   "source": [
    "plotkwargs = (; ac=ColorType1and2, am=MakerType1and2)\n",
    "figure, = abmplot(modelWalkers1and2; plotkwargs...)\n",
    "figure"
   ]
  },
  {
   "cell_type": "code",
   "execution_count": 163,
   "metadata": {},
   "outputs": [],
   "source": [
    "abmvideo(\n",
    "    \"plots/walker1and2.mp4\", modelWalkers1and2, walkerType1and2Step!;\n",
    "    framerate = 2, frames = 50,\n",
    "    title = \"WalkerType1and2\", plotkwargs...\n",
    ")"
   ]
  },
  {
   "cell_type": "code",
   "execution_count": null,
   "metadata": {},
   "outputs": [],
   "source": []
  },
  {
   "cell_type": "code",
   "execution_count": null,
   "metadata": {},
   "outputs": [],
   "source": []
  }
 ],
 "metadata": {
  "kernelspec": {
   "display_name": "Julia 1.9.3 1.9.3",
   "language": "julia",
   "name": "julia-1.9.3-1.9"
  },
  "language_info": {
   "file_extension": ".jl",
   "mimetype": "application/julia",
   "name": "julia",
   "version": "1.9.3"
  }
 },
 "nbformat": 4,
 "nbformat_minor": 4
}
