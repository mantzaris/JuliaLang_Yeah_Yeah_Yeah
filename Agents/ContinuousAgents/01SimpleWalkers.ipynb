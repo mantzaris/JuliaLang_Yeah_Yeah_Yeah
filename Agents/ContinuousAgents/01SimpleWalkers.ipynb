{
 "cells": [
  {
   "cell_type": "code",
   "execution_count": 1,
   "metadata": {},
   "outputs": [],
   "source": [
    "using Agents\n",
    "using Random\n",
    "using CairoMakie\n",
    "using InteractiveDynamics"
   ]
  },
  {
   "cell_type": "code",
   "execution_count": 2,
   "metadata": {},
   "outputs": [
    {
     "data": {
      "text/plain": [
       "v\"1.9.3\""
      ]
     },
     "metadata": {},
     "output_type": "display_data"
    }
   ],
   "source": [
    "VERSION"
   ]
  },
  {
   "cell_type": "code",
   "execution_count": 3,
   "metadata": {},
   "outputs": [
    {
     "name": "stdout",
     "output_type": "stream",
     "text": [
      "\u001b[32m\u001b[1mStatus\u001b[22m\u001b[39m `~/.julia/environments/v1.9/Project.toml`\n",
      "  \u001b[90m[46ada45e] \u001b[39mAgents v5.17.1\n"
     ]
    }
   ],
   "source": [
    "import Pkg\n",
    "Pkg.status(\"Agents\")"
   ]
  },
  {
   "cell_type": "code",
   "execution_count": 4,
   "metadata": {},
   "outputs": [],
   "source": [
    "@agent RandomWalkerType1 ContinuousAgent{2} begin\n",
    "    change_direction_prob::Float64\n",
    "end"
   ]
  },
  {
   "cell_type": "code",
   "execution_count": 5,
   "metadata": {},
   "outputs": [
    {
     "data": {
      "text/plain": [
       "initializeWalker1Model (generic function with 1 method)"
      ]
     },
     "metadata": {},
     "output_type": "display_data"
    }
   ],
   "source": [
    "function initializeWalker1Model(;walker_num=1, speed=1, extent=(10,10))\n",
    "    \n",
    "    spacing = 1\n",
    "    space_2D = ContinuousSpace(extent, spacing=spacing, periodic = true)\n",
    "    \n",
    "    seed = 123\n",
    "    rand_rng = Random.MersenneTwister(seed)\n",
    "    \n",
    "    model = ABM(RandomWalkerType1, space_2D, rng=rand_rng, scheduler=Schedulers.Randomly())\n",
    "    \n",
    "    for _ in 1:walker_num\n",
    "        change_direction_prob = max(0.4,rand())\n",
    "        pos = (extent[1]/2,extent[2]/2)\n",
    "        vel = Tuple(rand(2))\n",
    "        agent = RandomWalkerType1(nextid(model), pos, vel, change_direction_prob)\n",
    "        add_agent_pos!(agent, model)\n",
    "    end\n",
    "    return model\n",
    "    \n",
    "end"
   ]
  },
  {
   "cell_type": "code",
   "execution_count": 6,
   "metadata": {},
   "outputs": [],
   "source": []
  },
  {
   "cell_type": "code",
   "execution_count": 7,
   "metadata": {},
   "outputs": [
    {
     "data": {
      "text/plain": [
       "walkerType1Step! (generic function with 1 method)"
      ]
     },
     "metadata": {},
     "output_type": "display_data"
    }
   ],
   "source": [
    "function walkerType1Step!(walker, model)\n",
    "    \n",
    "    time_step = 1\n",
    "    \n",
    "    function rotate_vector(v, θ)\n",
    "        rotation_matrix = [cos(θ) -sin(θ); sin(θ) cos(θ)]\n",
    "        return Tuple(rotation_matrix * collect(v))\n",
    "    end\n",
    "    \n",
    "    if walker.change_direction_prob <= rand()\n",
    "        rand_angle_rotate = rand() * 2pi\n",
    "        walker.vel = rotate_vector(walker.vel, rand_angle_rotate)\n",
    "        # move_agent!(agent::A, model::ABM{<:ContinuousSpace,A}, dt::Real)\n",
    "        move_agent!(walker, model, time_step)\n",
    "    end\n",
    "    \n",
    "end"
   ]
  },
  {
   "cell_type": "code",
   "execution_count": 8,
   "metadata": {},
   "outputs": [
    {
     "data": {
      "text/plain": [
       "StandardABM with 1 agents of type RandomWalkerType1\n",
       " space: periodic continuous space with (10.0, 10.0) extent and spacing=1.0\n",
       " scheduler: Agents.Schedulers.Randomly"
      ]
     },
     "metadata": {},
     "output_type": "display_data"
    }
   ],
   "source": [
    "model_Walker1 = initializeWalker1Model()\n",
    "model_Walker1"
   ]
  },
  {
   "cell_type": "code",
   "execution_count": 9,
   "metadata": {},
   "outputs": [],
   "source": []
  },
  {
   "cell_type": "code",
   "execution_count": 57,
   "metadata": {},
   "outputs": [
    {
     "data": {
      "image/png": "[encoded data removed]"
     },
     "metadata": {},
     "output_type": "display_data"
    }
   ],
   "source": [
    "figure, = Agents.abmplot(model_Walker1; am=:circle)\n",
    "figure"
   ]
  },
  {
   "cell_type": "code",
   "execution_count": 58,
   "metadata": {},
   "outputs": [],
   "source": [
    "Agents.abmvideo(\n",
    "    \"plots/walker1.mp4\", model_Walker1, walkerType1Step!;\n",
    "    am = :circle,\n",
    "    framerate = 2, frames = 50,\n",
    "    title = \"WalkerType1\"\n",
    ")"
   ]
  },
  {
   "cell_type": "code",
   "execution_count": 12,
   "metadata": {},
   "outputs": [],
   "source": []
  },
  {
   "cell_type": "code",
   "execution_count": 13,
   "metadata": {},
   "outputs": [],
   "source": []
  },
  {
   "cell_type": "code",
   "execution_count": 14,
   "metadata": {},
   "outputs": [],
   "source": [
    "@agent RandomWalkerType2 ContinuousAgent{2} begin\n",
    "end"
   ]
  },
  {
   "cell_type": "code",
   "execution_count": 15,
   "metadata": {},
   "outputs": [
    {
     "data": {
      "text/plain": [
       "initializeWalker2Model (generic function with 1 method)"
      ]
     },
     "metadata": {},
     "output_type": "display_data"
    }
   ],
   "source": [
    "function initializeWalker2Model(;walker_num=1, speed=1, extent=(10,10))\n",
    "    \n",
    "    spacing = 1\n",
    "    space_2D = ContinuousSpace(extent, spacing=spacing, periodic=true)\n",
    "\n",
    "    seed = 123\n",
    "    rand_rng = Random.MersenneTwister(seed)\n",
    "    \n",
    "    model = ABM(RandomWalkerType2, space_2D, rng=rand_rng, scheduler=Schedulers.Randomly())\n",
    "    \n",
    "    for _ in 1:walker_num\n",
    "        pos = (extent[1]/2 + 1,extent[2]/2 + 1)\n",
    "        vel = (max(0.4,rand()),max(0.4,rand()))\n",
    "        agent = RandomWalkerType2(nextid(model), pos, vel)\n",
    "        add_agent_pos!(agent, model)\n",
    "    end\n",
    "    return model\n",
    "    \n",
    "end"
   ]
  },
  {
   "cell_type": "code",
   "execution_count": 16,
   "metadata": {},
   "outputs": [
    {
     "data": {
      "text/plain": [
       "walkerType2Step! (generic function with 1 method)"
      ]
     },
     "metadata": {},
     "output_type": "display_data"
    }
   ],
   "source": [
    "function walkerType2Step!(walker, model)\n",
    "    \n",
    "    randomwalk!(walker,model,1)\n",
    "    \n",
    "end"
   ]
  },
  {
   "cell_type": "code",
   "execution_count": 17,
   "metadata": {},
   "outputs": [
    {
     "data": {
      "text/plain": [
       "StandardABM with 1 agents of type RandomWalkerType2\n",
       " space: periodic continuous space with (10.0, 10.0) extent and spacing=1.0\n",
       " scheduler: Agents.Schedulers.Randomly"
      ]
     },
     "metadata": {},
     "output_type": "display_data"
    }
   ],
   "source": [
    "model_Walker2 = initializeWalker2Model()\n",
    "model_Walker2"
   ]
  },
  {
   "cell_type": "code",
   "execution_count": 59,
   "metadata": {},
   "outputs": [
    {
     "data": {
      "image/png": "[encoded data removed]"
     },
     "metadata": {},
     "output_type": "display_data"
    }
   ],
   "source": [
    "figure, = Agents.abmplot(model_Walker2; am=:circle)\n",
    "figure"
   ]
  },
  {
   "cell_type": "code",
   "execution_count": 60,
   "metadata": {},
   "outputs": [],
   "source": [
    "Agents.abmvideo(\n",
    "    \"plots/walker2.mp4\", model_Walker2, walkerType2Step!;\n",
    "    am = :circle,\n",
    "    framerate = 2, frames = 50,\n",
    "    title = \"WalkerType2\"\n",
    ")"
   ]
  },
  {
   "cell_type": "code",
   "execution_count": 20,
   "metadata": {},
   "outputs": [],
   "source": []
  },
  {
   "cell_type": "code",
   "execution_count": 21,
   "metadata": {},
   "outputs": [],
   "source": [
    "# multiple agent types"
   ]
  },
  {
   "cell_type": "code",
   "execution_count": 22,
   "metadata": {},
   "outputs": [
    {
     "data": {
      "text/plain": [
       "walkerType1and2Step! (generic function with 2 methods)"
      ]
     },
     "metadata": {},
     "output_type": "display_data"
    }
   ],
   "source": [
    "# use both types with multiple dispatch and the types\n",
    "function walkerType1and2Step!(walker::RandomWalkerType1, model)\n",
    "    \n",
    "    time_step = 1\n",
    "    \n",
    "    function rotate_vector(v, θ)\n",
    "        rotation_matrix = [cos(θ) -sin(θ); sin(θ) cos(θ)]\n",
    "        return Tuple(rotation_matrix * collect(v))\n",
    "    end\n",
    "    \n",
    "    if walker.change_direction_prob <= rand()\n",
    "        rand_angle_rotate = rand() * 2pi\n",
    "        walker.vel = rotate_vector(walker.vel, rand_angle_rotate)\n",
    "        # move_agent!(agent::A, model::ABM{<:ContinuousSpace,A}, dt::Real)\n",
    "        move_agent!(walker, model, time_step)\n",
    "    end\n",
    "    \n",
    "end\n",
    "\n",
    "function walkerType1and2Step!(walker::RandomWalkerType2, model)\n",
    "    \n",
    "    randomwalk!(walker,model,1)\n",
    "    \n",
    "end"
   ]
  },
  {
   "cell_type": "code",
   "execution_count": 23,
   "metadata": {},
   "outputs": [
    {
     "data": {
      "text/plain": [
       "initializeWalker1and2Model (generic function with 1 method)"
      ]
     },
     "metadata": {},
     "output_type": "display_data"
    }
   ],
   "source": [
    "function initializeWalker1and2Model(;walker_num=1, speed=1, extent=(10,10))\n",
    "    \n",
    "    spacing = 1\n",
    "    space_2D = ContinuousSpace(extent, spacing=spacing, periodic = true)\n",
    "    \n",
    "    seed = 123\n",
    "    rand_rng = Random.MersenneTwister(seed)\n",
    "    \n",
    "    agent_types = Union{RandomWalkerType1, RandomWalkerType2}\n",
    "\n",
    "    model = ABM(agent_types, space_2D, rng=rand_rng, scheduler=Schedulers.Randomly())\n",
    "    \n",
    "    for _ in 1:walker_num\n",
    "        #add type 1\n",
    "           \n",
    "        change_direction_prob = max(0.4,rand())\n",
    "        pos = (extent[1]/2,extent[2]/2)\n",
    "        vel = Tuple(rand(2))\n",
    "        agent = RandomWalkerType1(nextid(model), pos, vel, change_direction_prob)\n",
    "        add_agent_pos!(agent, model)\n",
    "\n",
    "        #add type 2\n",
    "        pos = (extent[1]/2 + 1,extent[2]/2 + 1)\n",
    "        vel = (max(0.4,rand()),max(0.4,rand()))\n",
    "        agent = RandomWalkerType2(nextid(model), pos, vel)\n",
    "        add_agent_pos!(agent, model)\n",
    "        \n",
    "    end\n",
    "    return model\n",
    "    \n",
    "end"
   ]
  },
  {
   "cell_type": "code",
   "execution_count": 24,
   "metadata": {},
   "outputs": [
    {
     "name": "stderr",
     "output_type": "stream",
     "text": [
      "┌ Warning: Agent type is not concrete. If your agent is parametrically typed, you're probably\n",
      "│ seeing this warning because you gave `Agent` instead of `Agent{Float64}`\n",
      "│ (for example) to this function. You can also create an instance of your agent\n",
      "│ and pass it to this function. If you want to use `Union` types for mixed agent\n",
      "│ models, you can silence this warning.\n",
      "└ @ Agents /home/resort/.julia/packages/Agents/xtlGn/src/core/model_concrete.jl:139\n"
     ]
    },
    {
     "data": {
      "text/plain": [
       "StandardABM with 2 agents of type Union{RandomWalkerType1, RandomWalkerType2}\n",
       " space: periodic continuous space with (10.0, 10.0) extent and spacing=1.0\n",
       " scheduler: Agents.Schedulers.Randomly"
      ]
     },
     "metadata": {},
     "output_type": "display_data"
    }
   ],
   "source": [
    "modelWalkers1and2 = initializeWalker1and2Model()"
   ]
  },
  {
   "cell_type": "code",
   "execution_count": 25,
   "metadata": {},
   "outputs": [
    {
     "data": {
      "text/plain": [
       "ColorType1and2 (generic function with 1 method)"
      ]
     },
     "metadata": {},
     "output_type": "display_data"
    }
   ],
   "source": [
    "function MakerType1and2(agent) \n",
    "    if agent isa RandomWalkerType1\n",
    "        return :circle\n",
    "    elseif agent isa RandomWalkerType2\n",
    "        return :utriangle\n",
    "    end    \n",
    "end\n",
    "\n",
    "function ColorType1and2(agent) \n",
    "    if agent isa RandomWalkerType1\n",
    "        return :blue\n",
    "    elseif agent isa RandomWalkerType2\n",
    "        return :orange\n",
    "    end    \n",
    "end"
   ]
  },
  {
   "cell_type": "code",
   "execution_count": 61,
   "metadata": {},
   "outputs": [
    {
     "data": {
      "image/png": "[encoded data removed]"
     },
     "metadata": {},
     "output_type": "display_data"
    }
   ],
   "source": [
    "plotkwargs = (; ac=ColorType1and2, am=MakerType1and2)\n",
    "figure, = Agents.abmplot(modelWalkers1and2; plotkwargs...)\n",
    "figure"
   ]
  },
  {
   "cell_type": "code",
   "execution_count": 62,
   "metadata": {},
   "outputs": [],
   "source": [
    "Agents.abmvideo(\n",
    "    \"plots/walker1and2.mp4\", modelWalkers1and2, walkerType1and2Step!;\n",
    "    framerate = 2, frames = 50,\n",
    "    title = \"WalkerType1and2\", plotkwargs...\n",
    ")"
   ]
  },
  {
   "cell_type": "code",
   "execution_count": 28,
   "metadata": {},
   "outputs": [],
   "source": []
  },
  {
   "cell_type": "code",
   "execution_count": 63,
   "metadata": {},
   "outputs": [
    {
     "data": {
      "image/png": "[encoded data removed]"
     },
     "metadata": {},
     "output_type": "display_data"
    }
   ],
   "source": [
    "fontsize_theme =Theme(\n",
    "    Axis = (\n",
    "        backgroundcolor = :gray90,\n",
    "        leftspinevisible = false,\n",
    "        rightspinevisible = false,\n",
    "        bottomspinevisible = false,\n",
    "        topspinevisible = false,\n",
    "        xgridcolor = :gray90,\n",
    "        ygridcolor = :gray90,\n",
    "        xticksvisible = false,\n",
    "        yticksvisible = false,\n",
    "        xticklabelsvisible = false,\n",
    "        yticklabelsvisible = false\n",
    "                \n",
    "    ))\n",
    "set_theme!(fontsize_theme)\n",
    "\n",
    "plotkwargs = (; ac=ColorType1and2, am=MakerType1and2 )\n",
    "figure, = Agents.abmplot(modelWalkers1and2; plotkwargs...)\n",
    "\n",
    "ax = Axis(figure[1,1], aspect = DataAspect(), title = \"Agents Type 1 and 2\")\n",
    "hidedecorations!(ax)\n",
    "save(\"plots/walker1b.png\", figure)\n",
    "\n",
    "figure"
   ]
  },
  {
   "cell_type": "code",
   "execution_count": 64,
   "metadata": {},
   "outputs": [
    {
     "data": {
      "image/png": "[encoded data removed]"
     },
     "metadata": {},
     "output_type": "display_data"
    }
   ],
   "source": [
    "plotkwargs = (; ac=ColorType1and2, am=MakerType1and2 )\n",
    "figure, = Agents.abmplot(modelWalkers1and2; plotkwargs...)\n",
    "\n",
    "ax = Axis(figure[1,1], title = \"Agents Type 1 and 2\")\n",
    "hidedecorations!(ax)\n",
    "figure"
   ]
  },
  {
   "cell_type": "code",
   "execution_count": 31,
   "metadata": {},
   "outputs": [
    {
     "name": "stderr",
     "output_type": "stream",
     "text": [
      "┌ Warning: Agent type is not concrete. If your agent is parametrically typed, you're probably\n",
      "│ seeing this warning because you gave `Agent` instead of `Agent{Float64}`\n",
      "│ (for example) to this function. You can also create an instance of your agent\n",
      "│ and pass it to this function. If you want to use `Union` types for mixed agent\n",
      "│ models, you can silence this warning.\n",
      "└ @ Agents /home/resort/.julia/packages/Agents/xtlGn/src/core/model_concrete.jl:139\n"
     ]
    },
    {
     "data": {
      "text/plain": [
       "StandardABM with 2 agents of type Union{RandomWalkerType1, RandomWalkerType2}\n",
       " space: periodic continuous space with (10.0, 10.0) extent and spacing=1.0\n",
       " scheduler: Agents.Schedulers.Randomly"
      ]
     },
     "metadata": {},
     "output_type": "display_data"
    }
   ],
   "source": [
    "modelWalkers1and2 = initializeWalker1and2Model()"
   ]
  },
  {
   "cell_type": "code",
   "execution_count": 32,
   "metadata": {},
   "outputs": [
    {
     "data": {
      "text/plain": [
       "1-element Vector{typeof(pos)}:\n",
       " pos (generic function with 1 method)"
      ]
     },
     "metadata": {},
     "output_type": "display_data"
    }
   ],
   "source": [
    "pos(agent) = agent.pos\n",
    "adata = [pos]"
   ]
  },
  {
   "cell_type": "code",
   "execution_count": 33,
   "metadata": {},
   "outputs": [
    {
     "data": {
      "text/plain": [
       "(\u001b[1m22×4 DataFrame\u001b[0m\n",
       "\u001b[1m Row \u001b[0m│\u001b[1m step  \u001b[0m\u001b[1m id    \u001b[0m\u001b[1m agent_type        \u001b[0m\u001b[1m pos                \u001b[0m\n",
       "     │\u001b[90m Int64 \u001b[0m\u001b[90m Int64 \u001b[0m\u001b[90m Symbol            \u001b[0m\u001b[90m Tuple…             \u001b[0m\n",
       "─────┼─────────────────────────────────────────────────────\n",
       "   1 │     0      1  RandomWalkerType1  (5.0, 5.0)\n",
       "   2 │     0      2  RandomWalkerType2  (6.0, 6.0)\n",
       "   3 │     1      1  RandomWalkerType1  (4.64183, 5.93701)\n",
       "   4 │     1      2  RandomWalkerType2  (6.87329, 6.4872)\n",
       "   5 │     2      1  RandomWalkerType1  (4.64183, 5.93701)\n",
       "   6 │     2      2  RandomWalkerType2  (6.36084, 5.62848)\n",
       "   7 │     3      1  RandomWalkerType1  (4.64183, 5.93701)\n",
       "   8 │     3      2  RandomWalkerType2  (6.09508, 6.59252)\n",
       "  ⋮  │   ⋮      ⋮            ⋮                  ⋮\n",
       "  16 │     7      2  RandomWalkerType2  (5.22766, 4.82189)\n",
       "  17 │     8      1  RandomWalkerType1  (4.64183, 5.93701)\n",
       "  18 │     8      2  RandomWalkerType2  (4.7581, 3.93899)\n",
       "  19 │     9      1  RandomWalkerType1  (4.64183, 5.93701)\n",
       "  20 │     9      2  RandomWalkerType2  (5.40893, 3.17976)\n",
       "  21 │    10      1  RandomWalkerType1  (4.64183, 5.93701)\n",
       "  22 │    10      2  RandomWalkerType2  (5.72924, 4.12708)\n",
       "\u001b[36m                                             7 rows omitted\u001b[0m, \u001b[1m0×0 DataFrame\u001b[0m)"
      ]
     },
     "metadata": {},
     "output_type": "display_data"
    }
   ],
   "source": [
    "agent_df, _ = run!(modelWalkers1and2, walkerType1and2Step!, 10; adata = adata)\n"
   ]
  },
  {
   "cell_type": "code",
   "execution_count": 34,
   "metadata": {},
   "outputs": [],
   "source": [
    "pos_x = [pos[1] for pos in agent_df.pos ]\n",
    "pos_y = [pos[2] for pos in agent_df.pos ];"
   ]
  },
  {
   "cell_type": "code",
   "execution_count": 35,
   "metadata": {},
   "outputs": [
    {
     "data": {
      "image/png": "[encoded data removed]"
     },
     "metadata": {},
     "output_type": "display_data"
    }
   ],
   "source": [
    "m_extent = getproperty(modelWalkers1and2, :space).extent\n",
    "scale = 30\n",
    "width = scale * m_extent[1]\n",
    "height = scale * m_extent[2]\n",
    "\n",
    "f = Figure(resolution = (width, height))\n",
    "ax = f[1, 1] = Axis(f, title = \"Random Walker Points\")\n",
    "scatter!(ax,pos_x, pos_y)\n",
    "\n",
    "f"
   ]
  },
  {
   "cell_type": "code",
   "execution_count": 72,
   "metadata": {},
   "outputs": [
    {
     "name": "stderr",
     "output_type": "stream",
     "text": [
      "\u001b[32m\u001b[1m   Resolving\u001b[22m\u001b[39m package versions...\n"
     ]
    },
    {
     "name": "stderr",
     "output_type": "stream",
     "text": [
      "\u001b[32m\u001b[1m    Updating\u001b[22m\u001b[39m `~/.julia/environments/v1.9/Project.toml`\n",
      "  \u001b[90m[e9467ef8] \u001b[39m\u001b[92m+ GLMakie v0.8.8\u001b[39m\n",
      "\u001b[32m\u001b[1m    Updating\u001b[22m\u001b[39m `~/.julia/environments/v1.9/Manifest.toml`\n",
      " "
     ]
    },
    {
     "name": "stderr",
     "output_type": "stream",
     "text": [
      " \u001b[90m[f7f18e0c] \u001b[39m\u001b[92m+ GLFW v3.4.1\u001b[39m\n",
      "  \u001b[90m[e9467ef8] \u001b[39m\u001b[92m+ GLMakie v0.8.8\u001b[39m\n",
      "  \u001b[90m[7269a6da] \u001b[39m\u001b[92m+ MeshIO v0.4.10\u001b[39m\n",
      "  \u001b[90m[66fc600b] \u001b[39m\u001b[92m+ ModernGL v1.1.7\u001b[39m\n"
     ]
    },
    {
     "name": "stderr",
     "output_type": "stream",
     "text": [
      "\u001b[32m\u001b[1mPrecompiling\u001b[22m\u001b[39m "
     ]
    },
    {
     "name": "stderr",
     "output_type": "stream",
     "text": [
      "project...\n"
     ]
    },
    {
     "name": "stderr",
     "output_type": "stream",
     "text": [
      "\u001b[32m  ✓ \u001b[39m\u001b[90mGLFW\u001b[39m\n"
     ]
    },
    {
     "name": "stderr",
     "output_type": "stream",
     "text": [
      "\u001b[32m  ✓ \u001b[39m\u001b[90mModernGL\u001b[39m\n"
     ]
    },
    {
     "name": "stderr",
     "output_type": "stream",
     "text": [
      "\u001b[32m  ✓ \u001b[39m\u001b[90mMeshIO\u001b[39m\n"
     ]
    },
    {
     "name": "stderr",
     "output_type": "stream",
     "text": [
      "\u001b[32m  ✓ \u001b[39mGLMakie\n",
      "  4 dependencies successfully precompiled in 94 seconds. 468 already precompiled.\n"
     ]
    }
   ],
   "source": [
    "import Pkg; Pkg.add(\"GLMakie\")"
   ]
  },
  {
   "cell_type": "code",
   "execution_count": 73,
   "metadata": {},
   "outputs": [],
   "source": [
    "using GLMakie"
   ]
  },
  {
   "cell_type": "code",
   "execution_count": 74,
   "metadata": {},
   "outputs": [],
   "source": [
    "plotkwargs = (; ac=ColorType1and2, am=MakerType1and2)\n",
    "figure, = Agents.abmplot(modelWalkers1and2; agent_step! = walkerType1and2Step!, plotkwargs...)\n",
    "figure"
   ]
  },
  {
   "cell_type": "code",
   "execution_count": 39,
   "metadata": {},
   "outputs": [],
   "source": []
  },
  {
   "cell_type": "code",
   "execution_count": 40,
   "metadata": {},
   "outputs": [],
   "source": []
  },
  {
   "cell_type": "code",
   "execution_count": 41,
   "metadata": {},
   "outputs": [],
   "source": []
  },
  {
   "cell_type": "code",
   "execution_count": 42,
   "metadata": {},
   "outputs": [],
   "source": []
  },
  {
   "cell_type": "code",
   "execution_count": 43,
   "metadata": {},
   "outputs": [],
   "source": []
  },
  {
   "cell_type": "code",
   "execution_count": 44,
   "metadata": {},
   "outputs": [],
   "source": []
  },
  {
   "cell_type": "code",
   "execution_count": 45,
   "metadata": {},
   "outputs": [],
   "source": []
  },
  {
   "cell_type": "code",
   "execution_count": 46,
   "metadata": {},
   "outputs": [],
   "source": []
  },
  {
   "cell_type": "code",
   "execution_count": 47,
   "metadata": {},
   "outputs": [],
   "source": []
  },
  {
   "cell_type": "code",
   "execution_count": 48,
   "metadata": {},
   "outputs": [
    {
     "data": {
      "text/plain": [
       "StandardABM with 2 agents of type Union{RandomWalkerType1, RandomWalkerType2}\n",
       " space: periodic continuous space with (10.0, 10.0) extent and spacing=1.0\n",
       " scheduler: Agents.Schedulers.Randomly"
      ]
     },
     "metadata": {},
     "output_type": "display_data"
    }
   ],
   "source": [
    "modelWalkers1and2"
   ]
  },
  {
   "cell_type": "code",
   "execution_count": 49,
   "metadata": {},
   "outputs": [
    {
     "data": {
      "text/plain": [
       "periodic continuous space with (10.0, 10.0) extent and spacing=1.0"
      ]
     },
     "metadata": {},
     "output_type": "display_data"
    }
   ],
   "source": [
    "t =getproperty(modelWalkers1and2, :space)"
   ]
  },
  {
   "cell_type": "code",
   "execution_count": 50,
   "metadata": {},
   "outputs": [
    {
     "data": {
      "text/plain": [
       "(10.0, 10.0)"
      ]
     },
     "metadata": {},
     "output_type": "display_data"
    }
   ],
   "source": [
    "t.extent"
   ]
  },
  {
   "cell_type": "code",
   "execution_count": 51,
   "metadata": {},
   "outputs": [
    {
     "data": {
      "text/plain": [
       "1.0"
      ]
     },
     "metadata": {},
     "output_type": "display_data"
    }
   ],
   "source": [
    "t.spacing"
   ]
  },
  {
   "cell_type": "code",
   "execution_count": 52,
   "metadata": {},
   "outputs": [
    {
     "data": {
      "text/plain": [
       "2-element Vector{Union{RandomWalkerType1, RandomWalkerType2}}:\n",
       " RandomWalkerType2(2, (5.7292353989171385, 4.127077440902132), (0.32030227444330656, 0.9473153925628175))\n",
       " RandomWalkerType1(1, (4.641828783393943, 5.937008417090389), (-0.3581712166060568, 0.9370084170903898), 0.958430411696502)"
      ]
     },
     "metadata": {},
     "output_type": "display_data"
    }
   ],
   "source": [
    "collect( allagents(modelWalkers1and2) )"
   ]
  },
  {
   "cell_type": "code",
   "execution_count": 53,
   "metadata": {},
   "outputs": [
    {
     "data": {
      "text/plain": [
       "StandardABM with 2 agents of type Union{RandomWalkerType1, RandomWalkerType2}\n",
       " space: periodic continuous space with (10.0, 10.0) extent and spacing=1.0\n",
       " scheduler: Agents.Schedulers.Randomly"
      ]
     },
     "metadata": {},
     "output_type": "display_data"
    }
   ],
   "source": [
    "modelWalkers1and2"
   ]
  },
  {
   "cell_type": "code",
   "execution_count": 54,
   "metadata": {},
   "outputs": [],
   "source": []
  },
  {
   "cell_type": "code",
   "execution_count": 55,
   "metadata": {},
   "outputs": [],
   "source": []
  },
  {
   "cell_type": "code",
   "execution_count": 56,
   "metadata": {},
   "outputs": [],
   "source": []
  }
 ],
 "metadata": {
  "kernelspec": {
   "display_name": "Julia 1.9.3",
   "language": "julia",
   "name": "julia-1.9"
  },
  "language_info": {
   "file_extension": ".jl",
   "mimetype": "application/julia",
   "name": "julia",
   "version": "1.9.3"
  }
 },
 "nbformat": 4,
 "nbformat_minor": 4
}
