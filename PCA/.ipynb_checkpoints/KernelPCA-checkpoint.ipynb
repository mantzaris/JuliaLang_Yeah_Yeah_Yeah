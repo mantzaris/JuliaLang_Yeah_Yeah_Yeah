{
 "cells": [
  {
   "cell_type": "code",
   "execution_count": 3,
   "metadata": {},
   "outputs": [],
   "source": [
    "using Random, Distributions\n",
    "using StatsBase, Statistics, LinearAlgebra, Plots"
   ]
  },
  {
   "cell_type": "markdown",
   "metadata": {},
   "source": [
    "#### generate some data that is not linearly separable, that is no linear function can separate them, this example starts off with a cluster in the center and the data surrounding it around an approximate radius"
   ]
  },
  {
   "cell_type": "code",
   "execution_count": 4,
   "metadata": {},
   "outputs": [
    {
     "data": {
      "text/plain": [
       "GenerateDataNotLinearlySeparable (generic function with 3 methods)"
      ]
     },
     "execution_count": 4,
     "metadata": {},
     "output_type": "execute_result"
    }
   ],
   "source": [
    "\n",
    "function GenerateDataNotLinearlySeparable(NN = 100, radius = 10)\n",
    "    points = []\n",
    "    for i in 1:NN\n",
    "        x_tmp = 0\n",
    "        y_tmp = 0\n",
    "        if(i < Int(round(NN/2))) #center cluster data\n",
    "            x_tmp, y_tmp = rand(Normal(0,1),2)\n",
    "            push!(points,[x_tmp,y_tmp,\"red\"])            \n",
    "        else #periphery circle perimenter < rr = rand() * 2pi; sqrt( (10sin(rr))^2 + (10cos(rr))^2 )) >\n",
    "            angle = rand() * 2pi\n",
    "            x_tmp = radius*cos(angle) + rand(Normal(0,0.1),1)[1]\n",
    "            y_tmp = radius*sin(angle) + rand(Normal(0,0.1),1)[1]\n",
    "            push!(points,[x_tmp,y_tmp,\"blue\"])            \n",
    "        end\n",
    "    end\n",
    "    return points\n",
    "end"
   ]
  },
  {
   "cell_type": "code",
   "execution_count": 5,
   "metadata": {},
   "outputs": [
    {
     "data": {
      "text/plain": [
       "100-element Vector{Any}:\n",
       " Any[-0.10758010066666499, 0.479861245372173, \"red\"]\n",
       " Any[2.7092633777135764, -1.16159916091392, \"red\"]\n",
       " Any[-0.7576641010107183, 1.3114388813362432, \"red\"]\n",
       " Any[0.6435611916387434, 0.6355011595361924, \"red\"]\n",
       " Any[-0.40605689926064154, 1.4876063986994286, \"red\"]\n",
       " Any[-0.5886425469489485, 0.7939946140953471, \"red\"]\n",
       " Any[0.19612575272654453, 0.4342719424101168, \"red\"]\n",
       " Any[-0.5914358006091563, -0.8642062223852683, \"red\"]\n",
       " Any[0.06613242891392586, -1.503931919621345, \"red\"]\n",
       " Any[-0.19846932954722613, 0.06494873529469905, \"red\"]\n",
       " Any[-0.34380624232601553, 1.4361431785536303, \"red\"]\n",
       " Any[-0.009646913128568918, 1.577592139577781, \"red\"]\n",
       " Any[-1.5668403185133146, 0.04065839708141837, \"red\"]\n",
       " ⋮\n",
       " Any[-5.706320232877919, 8.150035915703173, \"blue\"]\n",
       " Any[3.8304891072221396, -9.328226228389255, \"blue\"]\n",
       " Any[-0.0036963958547306733, -9.879266923323012, \"blue\"]\n",
       " Any[-10.092187503475644, -0.5862268944768086, \"blue\"]\n",
       " Any[9.652629740444427, -1.9655623517602312, \"blue\"]\n",
       " Any[4.771421709448965, 8.938086958818348, \"blue\"]\n",
       " Any[-2.4700986884603404, -9.639529208258681, \"blue\"]\n",
       " Any[-9.826936286487378, -1.7107817166071275, \"blue\"]\n",
       " Any[-9.187925960998186, 4.172190585420071, \"blue\"]\n",
       " Any[-0.5441732872887698, -10.089266013677266, \"blue\"]\n",
       " Any[-4.099283550814392, -9.180449984432787, \"blue\"]\n",
       " Any[-10.01921329353728, 0.7380205768558148, \"blue\"]"
      ]
     },
     "execution_count": 5,
     "metadata": {},
     "output_type": "execute_result"
    }
   ],
   "source": [
    "points = GenerateDataNotLinearlySeparable()"
   ]
  },
  {
   "cell_type": "code",
   "execution_count": 6,
   "metadata": {},
   "outputs": [
    {
     "data": {
      "text/plain": [
       "2-element Vector{Int64}:\n",
       " 1\n",
       " 1"
      ]
     },
     "execution_count": 6,
     "metadata": {},
     "output_type": "execute_result"
    }
   ],
   "source": [
    "point_new = [ 1 , 1 ]"
   ]
  },
  {
   "cell_type": "code",
   "execution_count": 7,
   "metadata": {},
   "outputs": [
    {
     "data": {
      "image/svg+xml": [
       "<?xml version=\"1.0\" encoding=\"utf-8\"?>\n",
       "<svg xmlns=\"http://www.w3.org/2000/svg\" xmlns:xlink=\"http://www.w3.org/1999/xlink\" width=\"600\" height=\"400\" viewBox=\"0 0 2400 1600\">\n",
       "<defs>\n",
       "  <clipPath id=\"clip230\">\n",
       "    <rect x=\"0\" y=\"0\" width=\"2400\" height=\"1600\"/>\n",
       "  </clipPath>\n",
       "</defs>\n",
       "<path clip-path=\"url(#clip230)\" d=\"M0 1600 L2400 1600 L2400 0 L0 0  Z\" fill=\"#ffffff\" fill-rule=\"evenodd\" fill-opacity=\"1\"/>\n",
       "<defs>\n",
       "  <clipPath id=\"clip231\">\n",
       "    <rect x=\"480\" y=\"0\" width=\"1681\" height=\"1600\"/>\n",
       "  </clipPath>\n",
       "</defs>\n",
       "<path clip-path=\"url(#clip230)\" d=\"M178.867 1486.45 L2352.76 1486.45 L2352.76 123.472 L178.867 123.472  Z\" fill=\"#ffffff\" fill-rule=\"evenodd\" fill-opacity=\"1\"/>\n",
       "<defs>\n",
       "  <clipPath id=\"clip232\">\n",
       "    <rect x=\"178\" y=\"123\" width=\"2175\" height=\"1364\"/>\n",
       "  </clipPath>\n",
       "</defs>\n",
       "<polyline clip-path=\"url(#clip232)\" style=\"stroke:#000000; stroke-linecap:round; stroke-linejoin:round; stroke-width:2; stroke-opacity:0.1; fill:none\" points=\"249.839,1486.45 249.839,123.472 \"/>\n",
       "<polyline clip-path=\"url(#clip232)\" style=\"stroke:#000000; stroke-linecap:round; stroke-linejoin:round; stroke-width:2; stroke-opacity:0.1; fill:none\" points=\"762.25,1486.45 762.25,123.472 \"/>\n",
       "<polyline clip-path=\"url(#clip232)\" style=\"stroke:#000000; stroke-linecap:round; stroke-linejoin:round; stroke-width:2; stroke-opacity:0.1; fill:none\" points=\"1274.66,1486.45 1274.66,123.472 \"/>\n",
       "<polyline clip-path=\"url(#clip232)\" style=\"stroke:#000000; stroke-linecap:round; stroke-linejoin:round; stroke-width:2; stroke-opacity:0.1; fill:none\" points=\"1787.07,1486.45 1787.07,123.472 \"/>\n",
       "<polyline clip-path=\"url(#clip232)\" style=\"stroke:#000000; stroke-linecap:round; stroke-linejoin:round; stroke-width:2; stroke-opacity:0.1; fill:none\" points=\"2299.48,1486.45 2299.48,123.472 \"/>\n",
       "<polyline clip-path=\"url(#clip230)\" style=\"stroke:#000000; stroke-linecap:round; stroke-linejoin:round; stroke-width:4; stroke-opacity:1; fill:none\" points=\"178.867,1486.45 2352.76,1486.45 \"/>\n",
       "<polyline clip-path=\"url(#clip230)\" style=\"stroke:#000000; stroke-linecap:round; stroke-linejoin:round; stroke-width:4; stroke-opacity:1; fill:none\" points=\"249.839,1486.45 249.839,1467.55 \"/>\n",
       "<polyline clip-path=\"url(#clip230)\" style=\"stroke:#000000; stroke-linecap:round; stroke-linejoin:round; stroke-width:4; stroke-opacity:1; fill:none\" points=\"762.25,1486.45 762.25,1467.55 \"/>\n",
       "<polyline clip-path=\"url(#clip230)\" style=\"stroke:#000000; stroke-linecap:round; stroke-linejoin:round; stroke-width:4; stroke-opacity:1; fill:none\" points=\"1274.66,1486.45 1274.66,1467.55 \"/>\n",
       "<polyline clip-path=\"url(#clip230)\" style=\"stroke:#000000; stroke-linecap:round; stroke-linejoin:round; stroke-width:4; stroke-opacity:1; fill:none\" points=\"1787.07,1486.45 1787.07,1467.55 \"/>\n",
       "<polyline clip-path=\"url(#clip230)\" style=\"stroke:#000000; stroke-linecap:round; stroke-linejoin:round; stroke-width:4; stroke-opacity:1; fill:none\" points=\"2299.48,1486.45 2299.48,1467.55 \"/>\n",
       "<path clip-path=\"url(#clip230)\" d=\"M203.902 1532.02 L233.578 1532.02 L233.578 1535.95 L203.902 1535.95 L203.902 1532.02 Z\" fill=\"#000000\" fill-rule=\"evenodd\" fill-opacity=\"1\" /><path clip-path=\"url(#clip230)\" d=\"M244.481 1544.91 L252.119 1544.91 L252.119 1518.55 L243.809 1520.21 L243.809 1515.95 L252.073 1514.29 L256.749 1514.29 L256.749 1544.91 L264.388 1544.91 L264.388 1548.85 L244.481 1548.85 L244.481 1544.91 Z\" fill=\"#000000\" fill-rule=\"evenodd\" fill-opacity=\"1\" /><path clip-path=\"url(#clip230)\" d=\"M283.832 1517.37 Q280.221 1517.37 278.392 1520.93 Q276.587 1524.47 276.587 1531.6 Q276.587 1538.71 278.392 1542.27 Q280.221 1545.82 283.832 1545.82 Q287.466 1545.82 289.272 1542.27 Q291.101 1538.71 291.101 1531.6 Q291.101 1524.47 289.272 1520.93 Q287.466 1517.37 283.832 1517.37 M283.832 1513.66 Q289.642 1513.66 292.698 1518.27 Q295.777 1522.85 295.777 1531.6 Q295.777 1540.33 292.698 1544.94 Q289.642 1549.52 283.832 1549.52 Q278.022 1549.52 274.943 1544.94 Q271.888 1540.33 271.888 1531.6 Q271.888 1522.85 274.943 1518.27 Q278.022 1513.66 283.832 1513.66 Z\" fill=\"#000000\" fill-rule=\"evenodd\" fill-opacity=\"1\" /><path clip-path=\"url(#clip230)\" d=\"M731.891 1532.02 L761.567 1532.02 L761.567 1535.95 L731.891 1535.95 L731.891 1532.02 Z\" fill=\"#000000\" fill-rule=\"evenodd\" fill-opacity=\"1\" /><path clip-path=\"url(#clip230)\" d=\"M771.706 1514.29 L790.062 1514.29 L790.062 1518.22 L775.988 1518.22 L775.988 1526.7 Q777.007 1526.35 778.025 1526.19 Q779.044 1526 780.062 1526 Q785.849 1526 789.229 1529.17 Q792.608 1532.34 792.608 1537.76 Q792.608 1543.34 789.136 1546.44 Q785.664 1549.52 779.344 1549.52 Q777.169 1549.52 774.9 1549.15 Q772.655 1548.78 770.247 1548.04 L770.247 1543.34 Q772.331 1544.47 774.553 1545.03 Q776.775 1545.58 779.252 1545.58 Q783.256 1545.58 785.594 1543.48 Q787.932 1541.37 787.932 1537.76 Q787.932 1534.15 785.594 1532.04 Q783.256 1529.94 779.252 1529.94 Q777.377 1529.94 775.502 1530.35 Q773.65 1530.77 771.706 1531.65 L771.706 1514.29 Z\" fill=\"#000000\" fill-rule=\"evenodd\" fill-opacity=\"1\" /><path clip-path=\"url(#clip230)\" d=\"M1274.66 1517.37 Q1271.05 1517.37 1269.22 1520.93 Q1267.41 1524.47 1267.41 1531.6 Q1267.41 1538.71 1269.22 1542.27 Q1271.05 1545.82 1274.66 1545.82 Q1278.29 1545.82 1280.1 1542.27 Q1281.93 1538.71 1281.93 1531.6 Q1281.93 1524.47 1280.1 1520.93 Q1278.29 1517.37 1274.66 1517.37 M1274.66 1513.66 Q1280.47 1513.66 1283.53 1518.27 Q1286.6 1522.85 1286.6 1531.6 Q1286.6 1540.33 1283.53 1544.94 Q1280.47 1549.52 1274.66 1549.52 Q1268.85 1549.52 1265.77 1544.94 Q1262.72 1540.33 1262.72 1531.6 Q1262.72 1522.85 1265.77 1518.27 Q1268.85 1513.66 1274.66 1513.66 Z\" fill=\"#000000\" fill-rule=\"evenodd\" fill-opacity=\"1\" /><path clip-path=\"url(#clip230)\" d=\"M1777.35 1514.29 L1795.7 1514.29 L1795.7 1518.22 L1781.63 1518.22 L1781.63 1526.7 Q1782.65 1526.35 1783.67 1526.19 Q1784.69 1526 1785.7 1526 Q1791.49 1526 1794.87 1529.17 Q1798.25 1532.34 1798.25 1537.76 Q1798.25 1543.34 1794.78 1546.44 Q1791.31 1549.52 1784.99 1549.52 Q1782.81 1549.52 1780.54 1549.15 Q1778.3 1548.78 1775.89 1548.04 L1775.89 1543.34 Q1777.97 1544.47 1780.2 1545.03 Q1782.42 1545.58 1784.89 1545.58 Q1788.9 1545.58 1791.24 1543.48 Q1793.57 1541.37 1793.57 1537.76 Q1793.57 1534.15 1791.24 1532.04 Q1788.9 1529.94 1784.89 1529.94 Q1783.02 1529.94 1781.14 1530.35 Q1779.29 1530.77 1777.35 1531.65 L1777.35 1514.29 Z\" fill=\"#000000\" fill-rule=\"evenodd\" fill-opacity=\"1\" /><path clip-path=\"url(#clip230)\" d=\"M2274.17 1544.91 L2281.81 1544.91 L2281.81 1518.55 L2273.5 1520.21 L2273.5 1515.95 L2281.76 1514.29 L2286.44 1514.29 L2286.44 1544.91 L2294.08 1544.91 L2294.08 1548.85 L2274.17 1548.85 L2274.17 1544.91 Z\" fill=\"#000000\" fill-rule=\"evenodd\" fill-opacity=\"1\" /><path clip-path=\"url(#clip230)\" d=\"M2313.52 1517.37 Q2309.91 1517.37 2308.08 1520.93 Q2306.27 1524.47 2306.27 1531.6 Q2306.27 1538.71 2308.08 1542.27 Q2309.91 1545.82 2313.52 1545.82 Q2317.15 1545.82 2318.96 1542.27 Q2320.79 1538.71 2320.79 1531.6 Q2320.79 1524.47 2318.96 1520.93 Q2317.15 1517.37 2313.52 1517.37 M2313.52 1513.66 Q2319.33 1513.66 2322.39 1518.27 Q2325.46 1522.85 2325.46 1531.6 Q2325.46 1540.33 2322.39 1544.94 Q2319.33 1549.52 2313.52 1549.52 Q2307.71 1549.52 2304.63 1544.94 Q2301.58 1540.33 2301.58 1531.6 Q2301.58 1522.85 2304.63 1518.27 Q2307.71 1513.66 2313.52 1513.66 Z\" fill=\"#000000\" fill-rule=\"evenodd\" fill-opacity=\"1\" /><polyline clip-path=\"url(#clip232)\" style=\"stroke:#000000; stroke-linecap:round; stroke-linejoin:round; stroke-width:2; stroke-opacity:0.1; fill:none\" points=\"178.867,1442.18 2352.76,1442.18 \"/>\n",
       "<polyline clip-path=\"url(#clip232)\" style=\"stroke:#000000; stroke-linecap:round; stroke-linejoin:round; stroke-width:2; stroke-opacity:0.1; fill:none\" points=\"178.867,1123.57 2352.76,1123.57 \"/>\n",
       "<polyline clip-path=\"url(#clip232)\" style=\"stroke:#000000; stroke-linecap:round; stroke-linejoin:round; stroke-width:2; stroke-opacity:0.1; fill:none\" points=\"178.867,804.95 2352.76,804.95 \"/>\n",
       "<polyline clip-path=\"url(#clip232)\" style=\"stroke:#000000; stroke-linecap:round; stroke-linejoin:round; stroke-width:2; stroke-opacity:0.1; fill:none\" points=\"178.867,486.332 2352.76,486.332 \"/>\n",
       "<polyline clip-path=\"url(#clip232)\" style=\"stroke:#000000; stroke-linecap:round; stroke-linejoin:round; stroke-width:2; stroke-opacity:0.1; fill:none\" points=\"178.867,167.715 2352.76,167.715 \"/>\n",
       "<polyline clip-path=\"url(#clip230)\" style=\"stroke:#000000; stroke-linecap:round; stroke-linejoin:round; stroke-width:4; stroke-opacity:1; fill:none\" points=\"178.867,1486.45 178.867,123.472 \"/>\n",
       "<polyline clip-path=\"url(#clip230)\" style=\"stroke:#000000; stroke-linecap:round; stroke-linejoin:round; stroke-width:4; stroke-opacity:1; fill:none\" points=\"178.867,1442.18 197.764,1442.18 \"/>\n",
       "<polyline clip-path=\"url(#clip230)\" style=\"stroke:#000000; stroke-linecap:round; stroke-linejoin:round; stroke-width:4; stroke-opacity:1; fill:none\" points=\"178.867,1123.57 197.764,1123.57 \"/>\n",
       "<polyline clip-path=\"url(#clip230)\" style=\"stroke:#000000; stroke-linecap:round; stroke-linejoin:round; stroke-width:4; stroke-opacity:1; fill:none\" points=\"178.867,804.95 197.764,804.95 \"/>\n",
       "<polyline clip-path=\"url(#clip230)\" style=\"stroke:#000000; stroke-linecap:round; stroke-linejoin:round; stroke-width:4; stroke-opacity:1; fill:none\" points=\"178.867,486.332 197.764,486.332 \"/>\n",
       "<polyline clip-path=\"url(#clip230)\" style=\"stroke:#000000; stroke-linecap:round; stroke-linejoin:round; stroke-width:4; stroke-opacity:1; fill:none\" points=\"178.867,167.715 197.764,167.715 \"/>\n",
       "<path clip-path=\"url(#clip230)\" d=\"M50.9921 1442.64 L80.6679 1442.64 L80.6679 1446.57 L50.9921 1446.57 L50.9921 1442.64 Z\" fill=\"#000000\" fill-rule=\"evenodd\" fill-opacity=\"1\" /><path clip-path=\"url(#clip230)\" d=\"M91.5706 1455.53 L99.2095 1455.53 L99.2095 1429.16 L90.8993 1430.83 L90.8993 1426.57 L99.1632 1424.9 L103.839 1424.9 L103.839 1455.53 L111.478 1455.53 L111.478 1459.46 L91.5706 1459.46 L91.5706 1455.53 Z\" fill=\"#000000\" fill-rule=\"evenodd\" fill-opacity=\"1\" /><path clip-path=\"url(#clip230)\" d=\"M130.922 1427.98 Q127.311 1427.98 125.482 1431.55 Q123.677 1435.09 123.677 1442.22 Q123.677 1449.33 125.482 1452.89 Q127.311 1456.43 130.922 1456.43 Q134.556 1456.43 136.362 1452.89 Q138.191 1449.33 138.191 1442.22 Q138.191 1435.09 136.362 1431.55 Q134.556 1427.98 130.922 1427.98 M130.922 1424.28 Q136.732 1424.28 139.788 1428.89 Q142.867 1433.47 142.867 1442.22 Q142.867 1450.95 139.788 1455.55 Q136.732 1460.14 130.922 1460.14 Q125.112 1460.14 122.033 1455.55 Q118.978 1450.95 118.978 1442.22 Q118.978 1433.47 122.033 1428.89 Q125.112 1424.28 130.922 1424.28 Z\" fill=\"#000000\" fill-rule=\"evenodd\" fill-opacity=\"1\" /><path clip-path=\"url(#clip230)\" d=\"M82.1494 1124.02 L111.825 1124.02 L111.825 1127.95 L82.1494 1127.95 L82.1494 1124.02 Z\" fill=\"#000000\" fill-rule=\"evenodd\" fill-opacity=\"1\" /><path clip-path=\"url(#clip230)\" d=\"M121.964 1106.29 L140.32 1106.29 L140.32 1110.22 L126.246 1110.22 L126.246 1118.69 Q127.265 1118.35 128.283 1118.19 Q129.302 1118 130.32 1118 Q136.107 1118 139.487 1121.17 Q142.867 1124.34 142.867 1129.76 Q142.867 1135.34 139.394 1138.44 Q135.922 1141.52 129.603 1141.52 Q127.427 1141.52 125.158 1141.15 Q122.913 1140.78 120.506 1140.04 L120.506 1135.34 Q122.589 1136.47 124.811 1137.03 Q127.033 1137.58 129.51 1137.58 Q133.515 1137.58 135.853 1135.48 Q138.191 1133.37 138.191 1129.76 Q138.191 1126.15 135.853 1124.04 Q133.515 1121.94 129.51 1121.94 Q127.635 1121.94 125.76 1122.35 Q123.908 1122.77 121.964 1123.65 L121.964 1106.29 Z\" fill=\"#000000\" fill-rule=\"evenodd\" fill-opacity=\"1\" /><path clip-path=\"url(#clip230)\" d=\"M130.922 790.748 Q127.311 790.748 125.482 794.313 Q123.677 797.855 123.677 804.984 Q123.677 812.091 125.482 815.656 Q127.311 819.197 130.922 819.197 Q134.556 819.197 136.362 815.656 Q138.191 812.091 138.191 804.984 Q138.191 797.855 136.362 794.313 Q134.556 790.748 130.922 790.748 M130.922 787.045 Q136.732 787.045 139.788 791.651 Q142.867 796.235 142.867 804.984 Q142.867 813.711 139.788 818.318 Q136.732 822.901 130.922 822.901 Q125.112 822.901 122.033 818.318 Q118.978 813.711 118.978 804.984 Q118.978 796.235 122.033 791.651 Q125.112 787.045 130.922 787.045 Z\" fill=\"#000000\" fill-rule=\"evenodd\" fill-opacity=\"1\" /><path clip-path=\"url(#clip230)\" d=\"M121.964 469.052 L140.32 469.052 L140.32 472.987 L126.246 472.987 L126.246 481.46 Q127.265 481.112 128.283 480.95 Q129.302 480.765 130.32 480.765 Q136.107 480.765 139.487 483.936 Q142.867 487.108 142.867 492.524 Q142.867 498.103 139.394 501.205 Q135.922 504.284 129.603 504.284 Q127.427 504.284 125.158 503.913 Q122.913 503.543 120.506 502.802 L120.506 498.103 Q122.589 499.237 124.811 499.793 Q127.033 500.348 129.51 500.348 Q133.515 500.348 135.853 498.242 Q138.191 496.135 138.191 492.524 Q138.191 488.913 135.853 486.807 Q133.515 484.7 129.51 484.7 Q127.635 484.7 125.76 485.117 Q123.908 485.534 121.964 486.413 L121.964 469.052 Z\" fill=\"#000000\" fill-rule=\"evenodd\" fill-opacity=\"1\" /><path clip-path=\"url(#clip230)\" d=\"M91.5706 181.06 L99.2095 181.06 L99.2095 154.694 L90.8993 156.361 L90.8993 152.101 L99.1632 150.435 L103.839 150.435 L103.839 181.06 L111.478 181.06 L111.478 184.995 L91.5706 184.995 L91.5706 181.06 Z\" fill=\"#000000\" fill-rule=\"evenodd\" fill-opacity=\"1\" /><path clip-path=\"url(#clip230)\" d=\"M130.922 153.513 Q127.311 153.513 125.482 157.078 Q123.677 160.62 123.677 167.749 Q123.677 174.856 125.482 178.421 Q127.311 181.962 130.922 181.962 Q134.556 181.962 136.362 178.421 Q138.191 174.856 138.191 167.749 Q138.191 160.62 136.362 157.078 Q134.556 153.513 130.922 153.513 M130.922 149.81 Q136.732 149.81 139.788 154.416 Q142.867 158.999 142.867 167.749 Q142.867 176.476 139.788 181.083 Q136.732 185.666 130.922 185.666 Q125.112 185.666 122.033 181.083 Q118.978 176.476 118.978 167.749 Q118.978 158.999 122.033 154.416 Q125.112 149.81 130.922 149.81 Z\" fill=\"#000000\" fill-rule=\"evenodd\" fill-opacity=\"1\" /><path clip-path=\"url(#clip230)\" d=\"M857.338 45.1919 L857.338 72.576 L849.885 72.576 L849.885 45.4349 Q849.885 38.994 847.373 35.7938 Q844.862 32.5936 839.838 32.5936 Q833.803 32.5936 830.319 36.4419 Q826.835 40.2903 826.835 46.9338 L826.835 72.576 L819.341 72.576 L819.341 27.2059 L826.835 27.2059 L826.835 34.2544 Q829.509 30.163 833.114 28.1376 Q836.76 26.1121 841.499 26.1121 Q849.318 26.1121 853.328 30.9732 Q857.338 35.7938 857.338 45.1919 Z\" fill=\"#000000\" fill-rule=\"evenodd\" fill-opacity=\"1\" /><path clip-path=\"url(#clip230)\" d=\"M889.786 32.4315 Q883.791 32.4315 880.307 37.1306 Q876.823 41.7891 876.823 49.9314 Q876.823 58.0738 880.266 62.7728 Q883.75 67.4314 889.786 67.4314 Q895.741 67.4314 899.225 62.7323 Q902.708 58.0333 902.708 49.9314 Q902.708 41.8701 899.225 37.1711 Q895.741 32.4315 889.786 32.4315 M889.786 26.1121 Q899.508 26.1121 905.058 32.4315 Q910.608 38.7509 910.608 49.9314 Q910.608 61.0714 905.058 67.4314 Q899.508 73.7508 889.786 73.7508 Q880.023 73.7508 874.474 67.4314 Q868.964 61.0714 868.964 49.9314 Q868.964 38.7509 874.474 32.4315 Q880.023 26.1121 889.786 26.1121 Z\" fill=\"#000000\" fill-rule=\"evenodd\" fill-opacity=\"1\" /><path clip-path=\"url(#clip230)\" d=\"M930.336 14.324 L930.336 27.2059 L945.689 27.2059 L945.689 32.9987 L930.336 32.9987 L930.336 57.6282 Q930.336 63.1779 931.834 64.7578 Q933.374 66.3376 938.032 66.3376 L945.689 66.3376 L945.689 72.576 L938.032 72.576 Q929.404 72.576 926.123 69.3758 Q922.841 66.1351 922.841 57.6282 L922.841 32.9987 L917.373 32.9987 L917.373 27.2059 L922.841 27.2059 L922.841 14.324 L930.336 14.324 Z\" fill=\"#000000\" fill-rule=\"evenodd\" fill-opacity=\"1\" /><path clip-path=\"url(#clip230)\" d=\"M981.863 9.54393 L989.317 9.54393 L989.317 72.576 L981.863 72.576 L981.863 9.54393 Z\" fill=\"#000000\" fill-rule=\"evenodd\" fill-opacity=\"1\" /><path clip-path=\"url(#clip230)\" d=\"M1004.91 27.2059 L1012.37 27.2059 L1012.37 72.576 L1004.91 72.576 L1004.91 27.2059 M1004.91 9.54393 L1012.37 9.54393 L1012.37 18.9825 L1004.91 18.9825 L1004.91 9.54393 Z\" fill=\"#000000\" fill-rule=\"evenodd\" fill-opacity=\"1\" /><path clip-path=\"url(#clip230)\" d=\"M1065.68 45.1919 L1065.68 72.576 L1058.22 72.576 L1058.22 45.4349 Q1058.22 38.994 1055.71 35.7938 Q1053.2 32.5936 1048.18 32.5936 Q1042.14 32.5936 1038.66 36.4419 Q1035.17 40.2903 1035.17 46.9338 L1035.17 72.576 L1027.68 72.576 L1027.68 27.2059 L1035.17 27.2059 L1035.17 34.2544 Q1037.85 30.163 1041.45 28.1376 Q1045.1 26.1121 1049.84 26.1121 Q1057.66 26.1121 1061.67 30.9732 Q1065.68 35.7938 1065.68 45.1919 Z\" fill=\"#000000\" fill-rule=\"evenodd\" fill-opacity=\"1\" /><path clip-path=\"url(#clip230)\" d=\"M1119.35 48.0275 L1119.35 51.6733 L1085.08 51.6733 Q1085.57 59.3701 1089.7 63.421 Q1093.87 67.4314 1101.28 67.4314 Q1105.58 67.4314 1109.59 66.3781 Q1113.64 65.3249 1117.61 63.2184 L1117.61 70.267 Q1113.6 71.9684 1109.39 72.8596 Q1105.17 73.7508 1100.84 73.7508 Q1089.98 73.7508 1083.62 67.4314 Q1077.3 61.1119 1077.3 50.3365 Q1077.3 39.1965 1083.3 32.6746 Q1089.33 26.1121 1099.54 26.1121 Q1108.7 26.1121 1114 32.0264 Q1119.35 37.9003 1119.35 48.0275 M1111.9 45.84 Q1111.82 39.7232 1108.45 36.0774 Q1105.13 32.4315 1099.62 32.4315 Q1093.38 32.4315 1089.62 35.9558 Q1085.89 39.4801 1085.32 45.8805 L1111.9 45.84 Z\" fill=\"#000000\" fill-rule=\"evenodd\" fill-opacity=\"1\" /><path clip-path=\"url(#clip230)\" d=\"M1152.2 49.7694 Q1143.17 49.7694 1139.69 51.8354 Q1136.2 53.9013 1136.2 58.8839 Q1136.2 62.8538 1138.8 65.2034 Q1141.43 67.5124 1145.92 67.5124 Q1152.12 67.5124 1155.85 63.1374 Q1159.62 58.7219 1159.62 51.4303 L1159.62 49.7694 L1152.2 49.7694 M1167.07 46.6907 L1167.07 72.576 L1159.62 72.576 L1159.62 65.6895 Q1157.06 69.8214 1153.26 71.8063 Q1149.45 73.7508 1143.94 73.7508 Q1136.97 73.7508 1132.84 69.8619 Q1128.75 65.9325 1128.75 59.3701 Q1128.75 51.7138 1133.85 47.825 Q1139 43.9361 1149.17 43.9361 L1159.62 43.9361 L1159.62 43.2069 Q1159.62 38.0623 1156.21 35.2672 Q1152.85 32.4315 1146.73 32.4315 Q1142.85 32.4315 1139.16 33.3632 Q1135.47 34.295 1132.07 36.1584 L1132.07 29.2718 Q1136.16 27.692 1140.01 26.9223 Q1143.86 26.1121 1147.5 26.1121 Q1157.35 26.1121 1162.21 31.2163 Q1167.07 36.3204 1167.07 46.6907 Z\" fill=\"#000000\" fill-rule=\"evenodd\" fill-opacity=\"1\" /><path clip-path=\"url(#clip230)\" d=\"M1208.71 34.1734 Q1207.46 33.4443 1205.96 33.1202 Q1204.5 32.7556 1202.72 32.7556 Q1196.4 32.7556 1193 36.8875 Q1189.63 40.9789 1189.63 48.6757 L1189.63 72.576 L1182.14 72.576 L1182.14 27.2059 L1189.63 27.2059 L1189.63 34.2544 Q1191.98 30.1225 1195.75 28.1376 Q1199.52 26.1121 1204.91 26.1121 Q1205.68 26.1121 1206.61 26.2337 Q1207.54 26.3147 1208.67 26.5172 L1208.71 34.1734 Z\" fill=\"#000000\" fill-rule=\"evenodd\" fill-opacity=\"1\" /><path clip-path=\"url(#clip230)\" d=\"M1216.53 9.54393 L1223.99 9.54393 L1223.99 72.576 L1216.53 72.576 L1216.53 9.54393 Z\" fill=\"#000000\" fill-rule=\"evenodd\" fill-opacity=\"1\" /><path clip-path=\"url(#clip230)\" d=\"M1258.46 76.7889 Q1255.3 84.8907 1252.3 87.3618 Q1249.3 89.8329 1244.28 89.8329 L1238.33 89.8329 L1238.33 83.5945 L1242.7 83.5945 Q1245.78 83.5945 1247.48 82.1361 Q1249.18 80.6778 1251.25 75.2496 L1252.59 71.8468 L1234.23 27.2059 L1242.13 27.2059 L1256.31 62.6918 L1270.49 27.2059 L1278.39 27.2059 L1258.46 76.7889 Z\" fill=\"#000000\" fill-rule=\"evenodd\" fill-opacity=\"1\" /><path clip-path=\"url(#clip230)\" d=\"M1343.97 28.5427 L1343.97 35.5912 Q1340.81 33.9709 1337.41 33.1607 Q1334.01 32.3505 1330.36 32.3505 Q1324.81 32.3505 1322.02 34.0519 Q1319.26 35.7533 1319.26 39.156 Q1319.26 41.7486 1321.25 43.2475 Q1323.23 44.7058 1329.23 46.0426 L1331.78 46.6097 Q1339.72 48.3111 1343.04 51.4303 Q1346.4 54.509 1346.4 60.0587 Q1346.4 66.3781 1341.38 70.0644 Q1336.4 73.7508 1327.65 73.7508 Q1324 73.7508 1320.03 73.0216 Q1316.1 72.3329 1311.73 70.9151 L1311.73 63.2184 Q1315.86 65.3654 1319.87 66.4591 Q1323.88 67.5124 1327.81 67.5124 Q1333.08 67.5124 1335.91 65.73 Q1338.75 63.9071 1338.75 60.6258 Q1338.75 57.5877 1336.68 55.9673 Q1334.66 54.3469 1327.73 52.8481 L1325.14 52.2405 Q1318.21 50.7821 1315.13 47.7845 Q1312.05 44.7463 1312.05 39.4801 Q1312.05 33.0797 1316.59 29.5959 Q1321.13 26.1121 1329.47 26.1121 Q1333.6 26.1121 1337.25 26.7198 Q1340.89 27.3274 1343.97 28.5427 Z\" fill=\"#000000\" fill-rule=\"evenodd\" fill-opacity=\"1\" /><path clip-path=\"url(#clip230)\" d=\"M1397.08 48.0275 L1397.08 51.6733 L1362.81 51.6733 Q1363.3 59.3701 1367.43 63.421 Q1371.6 67.4314 1379.01 67.4314 Q1383.31 67.4314 1387.32 66.3781 Q1391.37 65.3249 1395.34 63.2184 L1395.34 70.267 Q1391.33 71.9684 1387.12 72.8596 Q1382.9 73.7508 1378.57 73.7508 Q1367.71 73.7508 1361.35 67.4314 Q1355.03 61.1119 1355.03 50.3365 Q1355.03 39.1965 1361.03 32.6746 Q1367.06 26.1121 1377.27 26.1121 Q1386.43 26.1121 1391.73 32.0264 Q1397.08 37.9003 1397.08 48.0275 M1389.63 45.84 Q1389.55 39.7232 1386.18 36.0774 Q1382.86 32.4315 1377.35 32.4315 Q1371.11 32.4315 1367.35 35.9558 Q1363.62 39.4801 1363.05 45.8805 L1389.63 45.84 Z\" fill=\"#000000\" fill-rule=\"evenodd\" fill-opacity=\"1\" /><path clip-path=\"url(#clip230)\" d=\"M1416.53 65.7705 L1416.53 89.8329 L1409.03 89.8329 L1409.03 27.2059 L1416.53 27.2059 L1416.53 34.0924 Q1418.87 30.0415 1422.44 28.0971 Q1426.04 26.1121 1431.03 26.1121 Q1439.29 26.1121 1444.44 32.6746 Q1449.62 39.2371 1449.62 49.9314 Q1449.62 60.6258 1444.44 67.1883 Q1439.29 73.7508 1431.03 73.7508 Q1426.04 73.7508 1422.44 71.8063 Q1418.87 69.8214 1416.53 65.7705 M1441.88 49.9314 Q1441.88 41.7081 1438.48 37.0496 Q1435.12 32.3505 1429.2 32.3505 Q1423.29 32.3505 1419.89 37.0496 Q1416.53 41.7081 1416.53 49.9314 Q1416.53 58.1548 1419.89 62.8538 Q1423.29 67.5124 1429.2 67.5124 Q1435.12 67.5124 1438.48 62.8538 Q1441.88 58.1548 1441.88 49.9314 Z\" fill=\"#000000\" fill-rule=\"evenodd\" fill-opacity=\"1\" /><path clip-path=\"url(#clip230)\" d=\"M1482.6 49.7694 Q1473.56 49.7694 1470.08 51.8354 Q1466.59 53.9013 1466.59 58.8839 Q1466.59 62.8538 1469.19 65.2034 Q1471.82 67.5124 1476.32 67.5124 Q1482.51 67.5124 1486.24 63.1374 Q1490.01 58.7219 1490.01 51.4303 L1490.01 49.7694 L1482.6 49.7694 M1497.46 46.6907 L1497.46 72.576 L1490.01 72.576 L1490.01 65.6895 Q1487.46 69.8214 1483.65 71.8063 Q1479.84 73.7508 1474.33 73.7508 Q1467.36 73.7508 1463.23 69.8619 Q1459.14 65.9325 1459.14 59.3701 Q1459.14 51.7138 1464.24 47.825 Q1469.39 43.9361 1479.56 43.9361 L1490.01 43.9361 L1490.01 43.2069 Q1490.01 38.0623 1486.61 35.2672 Q1483.24 32.4315 1477.13 32.4315 Q1473.24 32.4315 1469.55 33.3632 Q1465.87 34.295 1462.46 36.1584 L1462.46 29.2718 Q1466.55 27.692 1470.4 26.9223 Q1474.25 26.1121 1477.9 26.1121 Q1487.74 26.1121 1492.6 31.2163 Q1497.46 36.3204 1497.46 46.6907 Z\" fill=\"#000000\" fill-rule=\"evenodd\" fill-opacity=\"1\" /><path clip-path=\"url(#clip230)\" d=\"M1539.11 34.1734 Q1537.85 33.4443 1536.35 33.1202 Q1534.89 32.7556 1533.11 32.7556 Q1526.79 32.7556 1523.39 36.8875 Q1520.03 40.9789 1520.03 48.6757 L1520.03 72.576 L1512.53 72.576 L1512.53 27.2059 L1520.03 27.2059 L1520.03 34.2544 Q1522.38 30.1225 1526.14 28.1376 Q1529.91 26.1121 1535.3 26.1121 Q1536.07 26.1121 1537 26.2337 Q1537.93 26.3147 1539.07 26.5172 L1539.11 34.1734 Z\" fill=\"#000000\" fill-rule=\"evenodd\" fill-opacity=\"1\" /><path clip-path=\"url(#clip230)\" d=\"M1567.54 49.7694 Q1558.51 49.7694 1555.03 51.8354 Q1551.54 53.9013 1551.54 58.8839 Q1551.54 62.8538 1554.13 65.2034 Q1556.77 67.5124 1561.26 67.5124 Q1567.46 67.5124 1571.19 63.1374 Q1574.96 58.7219 1574.96 51.4303 L1574.96 49.7694 L1567.54 49.7694 M1582.41 46.6907 L1582.41 72.576 L1574.96 72.576 L1574.96 65.6895 Q1572.4 69.8214 1568.6 71.8063 Q1564.79 73.7508 1559.28 73.7508 Q1552.31 73.7508 1548.18 69.8619 Q1544.09 65.9325 1544.09 59.3701 Q1544.09 51.7138 1549.19 47.825 Q1554.34 43.9361 1564.5 43.9361 L1574.96 43.9361 L1574.96 43.2069 Q1574.96 38.0623 1571.55 35.2672 Q1568.19 32.4315 1562.07 32.4315 Q1558.19 32.4315 1554.5 33.3632 Q1550.81 34.295 1547.41 36.1584 L1547.41 29.2718 Q1551.5 27.692 1555.35 26.9223 Q1559.2 26.1121 1562.84 26.1121 Q1572.69 26.1121 1577.55 31.2163 Q1582.41 36.3204 1582.41 46.6907 Z\" fill=\"#000000\" fill-rule=\"evenodd\" fill-opacity=\"1\" /><path clip-path=\"url(#clip230)\" d=\"M1630.33 49.9314 Q1630.33 41.7081 1626.93 37.0496 Q1623.57 32.3505 1617.65 32.3505 Q1611.74 32.3505 1608.34 37.0496 Q1604.97 41.7081 1604.97 49.9314 Q1604.97 58.1548 1608.34 62.8538 Q1611.74 67.5124 1617.65 67.5124 Q1623.57 67.5124 1626.93 62.8538 Q1630.33 58.1548 1630.33 49.9314 M1604.97 34.0924 Q1607.32 30.0415 1610.89 28.0971 Q1614.49 26.1121 1619.48 26.1121 Q1627.74 26.1121 1632.88 32.6746 Q1638.07 39.2371 1638.07 49.9314 Q1638.07 60.6258 1632.88 67.1883 Q1627.74 73.7508 1619.48 73.7508 Q1614.49 73.7508 1610.89 71.8063 Q1607.32 69.8214 1604.97 65.7705 L1604.97 72.576 L1597.48 72.576 L1597.48 9.54393 L1604.97 9.54393 L1604.97 34.0924 Z\" fill=\"#000000\" fill-rule=\"evenodd\" fill-opacity=\"1\" /><path clip-path=\"url(#clip230)\" d=\"M1650.42 9.54393 L1657.88 9.54393 L1657.88 72.576 L1650.42 72.576 L1650.42 9.54393 Z\" fill=\"#000000\" fill-rule=\"evenodd\" fill-opacity=\"1\" /><path clip-path=\"url(#clip230)\" d=\"M1712.28 48.0275 L1712.28 51.6733 L1678.01 51.6733 Q1678.5 59.3701 1682.63 63.421 Q1686.8 67.4314 1694.21 67.4314 Q1698.51 67.4314 1702.52 66.3781 Q1706.57 65.3249 1710.54 63.2184 L1710.54 70.267 Q1706.53 71.9684 1702.32 72.8596 Q1698.1 73.7508 1693.77 73.7508 Q1682.91 73.7508 1676.55 67.4314 Q1670.23 61.1119 1670.23 50.3365 Q1670.23 39.1965 1676.23 32.6746 Q1682.26 26.1121 1692.47 26.1121 Q1701.63 26.1121 1706.93 32.0264 Q1712.28 37.9003 1712.28 48.0275 M1704.83 45.84 Q1704.75 39.7232 1701.38 36.0774 Q1698.06 32.4315 1692.55 32.4315 Q1686.32 32.4315 1682.55 35.9558 Q1678.82 39.4801 1678.25 45.8805 L1704.83 45.84 Z\" fill=\"#000000\" fill-rule=\"evenodd\" fill-opacity=\"1\" /><circle clip-path=\"url(#clip232)\" cx=\"1263.63\" cy=\"774.371\" r=\"14.4\" fill=\"#ff0000\" fill-rule=\"evenodd\" fill-opacity=\"1\" stroke=\"#000000\" stroke-opacity=\"1\" stroke-width=\"3.2\"/>\n",
       "<circle clip-path=\"url(#clip232)\" cx=\"1552.31\" cy=\"878.971\" r=\"14.4\" fill=\"#ff0000\" fill-rule=\"evenodd\" fill-opacity=\"1\" stroke=\"#000000\" stroke-opacity=\"1\" stroke-width=\"3.2\"/>\n",
       "<circle clip-path=\"url(#clip232)\" cx=\"1197.01\" cy=\"721.38\" r=\"14.4\" fill=\"#ff0000\" fill-rule=\"evenodd\" fill-opacity=\"1\" stroke=\"#000000\" stroke-opacity=\"1\" stroke-width=\"3.2\"/>\n",
       "<circle clip-path=\"url(#clip232)\" cx=\"1340.61\" cy=\"764.453\" r=\"14.4\" fill=\"#ff0000\" fill-rule=\"evenodd\" fill-opacity=\"1\" stroke=\"#000000\" stroke-opacity=\"1\" stroke-width=\"3.2\"/>\n",
       "<circle clip-path=\"url(#clip232)\" cx=\"1233.05\" cy=\"710.154\" r=\"14.4\" fill=\"#ff0000\" fill-rule=\"evenodd\" fill-opacity=\"1\" stroke=\"#000000\" stroke-opacity=\"1\" stroke-width=\"3.2\"/>\n",
       "<circle clip-path=\"url(#clip232)\" cx=\"1214.33\" cy=\"754.354\" r=\"14.4\" fill=\"#ff0000\" fill-rule=\"evenodd\" fill-opacity=\"1\" stroke=\"#000000\" stroke-opacity=\"1\" stroke-width=\"3.2\"/>\n",
       "<circle clip-path=\"url(#clip232)\" cx=\"1294.76\" cy=\"777.276\" r=\"14.4\" fill=\"#ff0000\" fill-rule=\"evenodd\" fill-opacity=\"1\" stroke=\"#000000\" stroke-opacity=\"1\" stroke-width=\"3.2\"/>\n",
       "<circle clip-path=\"url(#clip232)\" cx=\"1214.05\" cy=\"860.02\" r=\"14.4\" fill=\"#ff0000\" fill-rule=\"evenodd\" fill-opacity=\"1\" stroke=\"#000000\" stroke-opacity=\"1\" stroke-width=\"3.2\"/>\n",
       "<circle clip-path=\"url(#clip232)\" cx=\"1281.44\" cy=\"900.786\" r=\"14.4\" fill=\"#ff0000\" fill-rule=\"evenodd\" fill-opacity=\"1\" stroke=\"#000000\" stroke-opacity=\"1\" stroke-width=\"3.2\"/>\n",
       "<circle clip-path=\"url(#clip232)\" cx=\"1254.32\" cy=\"800.811\" r=\"14.4\" fill=\"#ff0000\" fill-rule=\"evenodd\" fill-opacity=\"1\" stroke=\"#000000\" stroke-opacity=\"1\" stroke-width=\"3.2\"/>\n",
       "<circle clip-path=\"url(#clip232)\" cx=\"1239.43\" cy=\"713.434\" r=\"14.4\" fill=\"#ff0000\" fill-rule=\"evenodd\" fill-opacity=\"1\" stroke=\"#000000\" stroke-opacity=\"1\" stroke-width=\"3.2\"/>\n",
       "<circle clip-path=\"url(#clip232)\" cx=\"1273.67\" cy=\"704.42\" r=\"14.4\" fill=\"#ff0000\" fill-rule=\"evenodd\" fill-opacity=\"1\" stroke=\"#000000\" stroke-opacity=\"1\" stroke-width=\"3.2\"/>\n",
       "<circle clip-path=\"url(#clip232)\" cx=\"1114.09\" cy=\"802.359\" r=\"14.4\" fill=\"#ff0000\" fill-rule=\"evenodd\" fill-opacity=\"1\" stroke=\"#000000\" stroke-opacity=\"1\" stroke-width=\"3.2\"/>\n",
       "<circle clip-path=\"url(#clip232)\" cx=\"1222.78\" cy=\"756.034\" r=\"14.4\" fill=\"#ff0000\" fill-rule=\"evenodd\" fill-opacity=\"1\" stroke=\"#000000\" stroke-opacity=\"1\" stroke-width=\"3.2\"/>\n",
       "<circle clip-path=\"url(#clip232)\" cx=\"1448.91\" cy=\"854.125\" r=\"14.4\" fill=\"#ff0000\" fill-rule=\"evenodd\" fill-opacity=\"1\" stroke=\"#000000\" stroke-opacity=\"1\" stroke-width=\"3.2\"/>\n",
       "<circle clip-path=\"url(#clip232)\" cx=\"1218.59\" cy=\"774.097\" r=\"14.4\" fill=\"#ff0000\" fill-rule=\"evenodd\" fill-opacity=\"1\" stroke=\"#000000\" stroke-opacity=\"1\" stroke-width=\"3.2\"/>\n",
       "<circle clip-path=\"url(#clip232)\" cx=\"1167.9\" cy=\"754.389\" r=\"14.4\" fill=\"#ff0000\" fill-rule=\"evenodd\" fill-opacity=\"1\" stroke=\"#000000\" stroke-opacity=\"1\" stroke-width=\"3.2\"/>\n",
       "<circle clip-path=\"url(#clip232)\" cx=\"1358.16\" cy=\"791.259\" r=\"14.4\" fill=\"#ff0000\" fill-rule=\"evenodd\" fill-opacity=\"1\" stroke=\"#000000\" stroke-opacity=\"1\" stroke-width=\"3.2\"/>\n",
       "<circle clip-path=\"url(#clip232)\" cx=\"1386.11\" cy=\"737.825\" r=\"14.4\" fill=\"#ff0000\" fill-rule=\"evenodd\" fill-opacity=\"1\" stroke=\"#000000\" stroke-opacity=\"1\" stroke-width=\"3.2\"/>\n",
       "<circle clip-path=\"url(#clip232)\" cx=\"1290.47\" cy=\"894.083\" r=\"14.4\" fill=\"#ff0000\" fill-rule=\"evenodd\" fill-opacity=\"1\" stroke=\"#000000\" stroke-opacity=\"1\" stroke-width=\"3.2\"/>\n",
       "<circle clip-path=\"url(#clip232)\" cx=\"1134.84\" cy=\"766.219\" r=\"14.4\" fill=\"#ff0000\" fill-rule=\"evenodd\" fill-opacity=\"1\" stroke=\"#000000\" stroke-opacity=\"1\" stroke-width=\"3.2\"/>\n",
       "<circle clip-path=\"url(#clip232)\" cx=\"1301.94\" cy=\"762.373\" r=\"14.4\" fill=\"#ff0000\" fill-rule=\"evenodd\" fill-opacity=\"1\" stroke=\"#000000\" stroke-opacity=\"1\" stroke-width=\"3.2\"/>\n",
       "<circle clip-path=\"url(#clip232)\" cx=\"1380.82\" cy=\"843.27\" r=\"14.4\" fill=\"#ff0000\" fill-rule=\"evenodd\" fill-opacity=\"1\" stroke=\"#000000\" stroke-opacity=\"1\" stroke-width=\"3.2\"/>\n",
       "<circle clip-path=\"url(#clip232)\" cx=\"1311.9\" cy=\"732.761\" r=\"14.4\" fill=\"#ff0000\" fill-rule=\"evenodd\" fill-opacity=\"1\" stroke=\"#000000\" stroke-opacity=\"1\" stroke-width=\"3.2\"/>\n",
       "<circle clip-path=\"url(#clip232)\" cx=\"1330.94\" cy=\"789.83\" r=\"14.4\" fill=\"#ff0000\" fill-rule=\"evenodd\" fill-opacity=\"1\" stroke=\"#000000\" stroke-opacity=\"1\" stroke-width=\"3.2\"/>\n",
       "<circle clip-path=\"url(#clip232)\" cx=\"1276.27\" cy=\"765.302\" r=\"14.4\" fill=\"#ff0000\" fill-rule=\"evenodd\" fill-opacity=\"1\" stroke=\"#000000\" stroke-opacity=\"1\" stroke-width=\"3.2\"/>\n",
       "<circle clip-path=\"url(#clip232)\" cx=\"1226.4\" cy=\"819.903\" r=\"14.4\" fill=\"#ff0000\" fill-rule=\"evenodd\" fill-opacity=\"1\" stroke=\"#000000\" stroke-opacity=\"1\" stroke-width=\"3.2\"/>\n",
       "<circle clip-path=\"url(#clip232)\" cx=\"1339.28\" cy=\"858.911\" r=\"14.4\" fill=\"#ff0000\" fill-rule=\"evenodd\" fill-opacity=\"1\" stroke=\"#000000\" stroke-opacity=\"1\" stroke-width=\"3.2\"/>\n",
       "<circle clip-path=\"url(#clip232)\" cx=\"1290.45\" cy=\"857.587\" r=\"14.4\" fill=\"#ff0000\" fill-rule=\"evenodd\" fill-opacity=\"1\" stroke=\"#000000\" stroke-opacity=\"1\" stroke-width=\"3.2\"/>\n",
       "<circle clip-path=\"url(#clip232)\" cx=\"1408.31\" cy=\"657.104\" r=\"14.4\" fill=\"#ff0000\" fill-rule=\"evenodd\" fill-opacity=\"1\" stroke=\"#000000\" stroke-opacity=\"1\" stroke-width=\"3.2\"/>\n",
       "<circle clip-path=\"url(#clip232)\" cx=\"1253.54\" cy=\"874.46\" r=\"14.4\" fill=\"#ff0000\" fill-rule=\"evenodd\" fill-opacity=\"1\" stroke=\"#000000\" stroke-opacity=\"1\" stroke-width=\"3.2\"/>\n",
       "<circle clip-path=\"url(#clip232)\" cx=\"1124.22\" cy=\"639.816\" r=\"14.4\" fill=\"#ff0000\" fill-rule=\"evenodd\" fill-opacity=\"1\" stroke=\"#000000\" stroke-opacity=\"1\" stroke-width=\"3.2\"/>\n",
       "<circle clip-path=\"url(#clip232)\" cx=\"1369.25\" cy=\"831.662\" r=\"14.4\" fill=\"#ff0000\" fill-rule=\"evenodd\" fill-opacity=\"1\" stroke=\"#000000\" stroke-opacity=\"1\" stroke-width=\"3.2\"/>\n",
       "<circle clip-path=\"url(#clip232)\" cx=\"1192.88\" cy=\"760.339\" r=\"14.4\" fill=\"#ff0000\" fill-rule=\"evenodd\" fill-opacity=\"1\" stroke=\"#000000\" stroke-opacity=\"1\" stroke-width=\"3.2\"/>\n",
       "<circle clip-path=\"url(#clip232)\" cx=\"1249.05\" cy=\"684.916\" r=\"14.4\" fill=\"#ff0000\" fill-rule=\"evenodd\" fill-opacity=\"1\" stroke=\"#000000\" stroke-opacity=\"1\" stroke-width=\"3.2\"/>\n",
       "<circle clip-path=\"url(#clip232)\" cx=\"1361.37\" cy=\"817.671\" r=\"14.4\" fill=\"#ff0000\" fill-rule=\"evenodd\" fill-opacity=\"1\" stroke=\"#000000\" stroke-opacity=\"1\" stroke-width=\"3.2\"/>\n",
       "<circle clip-path=\"url(#clip232)\" cx=\"1253.72\" cy=\"741.328\" r=\"14.4\" fill=\"#ff0000\" fill-rule=\"evenodd\" fill-opacity=\"1\" stroke=\"#000000\" stroke-opacity=\"1\" stroke-width=\"3.2\"/>\n",
       "<circle clip-path=\"url(#clip232)\" cx=\"1297.3\" cy=\"762.804\" r=\"14.4\" fill=\"#ff0000\" fill-rule=\"evenodd\" fill-opacity=\"1\" stroke=\"#000000\" stroke-opacity=\"1\" stroke-width=\"3.2\"/>\n",
       "<circle clip-path=\"url(#clip232)\" cx=\"1181.45\" cy=\"914.434\" r=\"14.4\" fill=\"#ff0000\" fill-rule=\"evenodd\" fill-opacity=\"1\" stroke=\"#000000\" stroke-opacity=\"1\" stroke-width=\"3.2\"/>\n",
       "<circle clip-path=\"url(#clip232)\" cx=\"1122.81\" cy=\"767.052\" r=\"14.4\" fill=\"#ff0000\" fill-rule=\"evenodd\" fill-opacity=\"1\" stroke=\"#000000\" stroke-opacity=\"1\" stroke-width=\"3.2\"/>\n",
       "<circle clip-path=\"url(#clip232)\" cx=\"1356.48\" cy=\"811.503\" r=\"14.4\" fill=\"#ff0000\" fill-rule=\"evenodd\" fill-opacity=\"1\" stroke=\"#000000\" stroke-opacity=\"1\" stroke-width=\"3.2\"/>\n",
       "<circle clip-path=\"url(#clip232)\" cx=\"1352.74\" cy=\"914.053\" r=\"14.4\" fill=\"#ff0000\" fill-rule=\"evenodd\" fill-opacity=\"1\" stroke=\"#000000\" stroke-opacity=\"1\" stroke-width=\"3.2\"/>\n",
       "<circle clip-path=\"url(#clip232)\" cx=\"1331.07\" cy=\"733.102\" r=\"14.4\" fill=\"#ff0000\" fill-rule=\"evenodd\" fill-opacity=\"1\" stroke=\"#000000\" stroke-opacity=\"1\" stroke-width=\"3.2\"/>\n",
       "<circle clip-path=\"url(#clip232)\" cx=\"1266.79\" cy=\"859.625\" r=\"14.4\" fill=\"#ff0000\" fill-rule=\"evenodd\" fill-opacity=\"1\" stroke=\"#000000\" stroke-opacity=\"1\" stroke-width=\"3.2\"/>\n",
       "<circle clip-path=\"url(#clip232)\" cx=\"1287.83\" cy=\"751.072\" r=\"14.4\" fill=\"#ff0000\" fill-rule=\"evenodd\" fill-opacity=\"1\" stroke=\"#000000\" stroke-opacity=\"1\" stroke-width=\"3.2\"/>\n",
       "<circle clip-path=\"url(#clip232)\" cx=\"1189.16\" cy=\"825.048\" r=\"14.4\" fill=\"#ff0000\" fill-rule=\"evenodd\" fill-opacity=\"1\" stroke=\"#000000\" stroke-opacity=\"1\" stroke-width=\"3.2\"/>\n",
       "<circle clip-path=\"url(#clip232)\" cx=\"1161.6\" cy=\"837.49\" r=\"14.4\" fill=\"#ff0000\" fill-rule=\"evenodd\" fill-opacity=\"1\" stroke=\"#000000\" stroke-opacity=\"1\" stroke-width=\"3.2\"/>\n",
       "<circle clip-path=\"url(#clip232)\" cx=\"1533.34\" cy=\"787.496\" r=\"14.4\" fill=\"#ff0000\" fill-rule=\"evenodd\" fill-opacity=\"1\" stroke=\"#000000\" stroke-opacity=\"1\" stroke-width=\"3.2\"/>\n",
       "<circle clip-path=\"url(#clip232)\" cx=\"1331.14\" cy=\"903.349\" r=\"14.4\" fill=\"#ff0000\" fill-rule=\"evenodd\" fill-opacity=\"1\" stroke=\"#000000\" stroke-opacity=\"1\" stroke-width=\"3.2\"/>\n",
       "<circle clip-path=\"url(#clip232)\" cx=\"2184.15\" cy=\"1058.76\" r=\"14.4\" fill=\"#0000ff\" fill-rule=\"evenodd\" fill-opacity=\"1\" stroke=\"#000000\" stroke-opacity=\"1\" stroke-width=\"3.2\"/>\n",
       "<circle clip-path=\"url(#clip232)\" cx=\"336.302\" cy=\"1036.47\" r=\"14.4\" fill=\"#0000ff\" fill-rule=\"evenodd\" fill-opacity=\"1\" stroke=\"#000000\" stroke-opacity=\"1\" stroke-width=\"3.2\"/>\n",
       "<circle clip-path=\"url(#clip232)\" cx=\"1020.21\" cy=\"195.875\" r=\"14.4\" fill=\"#0000ff\" fill-rule=\"evenodd\" fill-opacity=\"1\" stroke=\"#000000\" stroke-opacity=\"1\" stroke-width=\"3.2\"/>\n",
       "<circle clip-path=\"url(#clip232)\" cx=\"479.918\" cy=\"1203.38\" r=\"14.4\" fill=\"#0000ff\" fill-rule=\"evenodd\" fill-opacity=\"1\" stroke=\"#000000\" stroke-opacity=\"1\" stroke-width=\"3.2\"/>\n",
       "<circle clip-path=\"url(#clip232)\" cx=\"2291.23\" cy=\"824.82\" r=\"14.4\" fill=\"#0000ff\" fill-rule=\"evenodd\" fill-opacity=\"1\" stroke=\"#000000\" stroke-opacity=\"1\" stroke-width=\"3.2\"/>\n",
       "<circle clip-path=\"url(#clip232)\" cx=\"1650.49\" cy=\"210.564\" r=\"14.4\" fill=\"#0000ff\" fill-rule=\"evenodd\" fill-opacity=\"1\" stroke=\"#000000\" stroke-opacity=\"1\" stroke-width=\"3.2\"/>\n",
       "<circle clip-path=\"url(#clip232)\" cx=\"504.049\" cy=\"386.533\" r=\"14.4\" fill=\"#0000ff\" fill-rule=\"evenodd\" fill-opacity=\"1\" stroke=\"#000000\" stroke-opacity=\"1\" stroke-width=\"3.2\"/>\n",
       "<circle clip-path=\"url(#clip232)\" cx=\"433.749\" cy=\"1163.11\" r=\"14.4\" fill=\"#0000ff\" fill-rule=\"evenodd\" fill-opacity=\"1\" stroke=\"#000000\" stroke-opacity=\"1\" stroke-width=\"3.2\"/>\n",
       "<circle clip-path=\"url(#clip232)\" cx=\"314.034\" cy=\"1035.36\" r=\"14.4\" fill=\"#0000ff\" fill-rule=\"evenodd\" fill-opacity=\"1\" stroke=\"#000000\" stroke-opacity=\"1\" stroke-width=\"3.2\"/>\n",
       "<circle clip-path=\"url(#clip232)\" cx=\"1552.41\" cy=\"1412.16\" r=\"14.4\" fill=\"#0000ff\" fill-rule=\"evenodd\" fill-opacity=\"1\" stroke=\"#000000\" stroke-opacity=\"1\" stroke-width=\"3.2\"/>\n",
       "<circle clip-path=\"url(#clip232)\" cx=\"1566.71\" cy=\"182.831\" r=\"14.4\" fill=\"#0000ff\" fill-rule=\"evenodd\" fill-opacity=\"1\" stroke=\"#000000\" stroke-opacity=\"1\" stroke-width=\"3.2\"/>\n",
       "<circle clip-path=\"url(#clip232)\" cx=\"1557.54\" cy=\"1423.71\" r=\"14.4\" fill=\"#0000ff\" fill-rule=\"evenodd\" fill-opacity=\"1\" stroke=\"#000000\" stroke-opacity=\"1\" stroke-width=\"3.2\"/>\n",
       "<circle clip-path=\"url(#clip232)\" cx=\"2150.03\" cy=\"471.384\" r=\"14.4\" fill=\"#0000ff\" fill-rule=\"evenodd\" fill-opacity=\"1\" stroke=\"#000000\" stroke-opacity=\"1\" stroke-width=\"3.2\"/>\n",
       "<circle clip-path=\"url(#clip232)\" cx=\"2088.62\" cy=\"1204.3\" r=\"14.4\" fill=\"#0000ff\" fill-rule=\"evenodd\" fill-opacity=\"1\" stroke=\"#000000\" stroke-opacity=\"1\" stroke-width=\"3.2\"/>\n",
       "<circle clip-path=\"url(#clip232)\" cx=\"540.494\" cy=\"362.426\" r=\"14.4\" fill=\"#0000ff\" fill-rule=\"evenodd\" fill-opacity=\"1\" stroke=\"#000000\" stroke-opacity=\"1\" stroke-width=\"3.2\"/>\n",
       "<circle clip-path=\"url(#clip232)\" cx=\"466.614\" cy=\"425.088\" r=\"14.4\" fill=\"#0000ff\" fill-rule=\"evenodd\" fill-opacity=\"1\" stroke=\"#000000\" stroke-opacity=\"1\" stroke-width=\"3.2\"/>\n",
       "<circle clip-path=\"url(#clip232)\" cx=\"491.515\" cy=\"374.12\" r=\"14.4\" fill=\"#0000ff\" fill-rule=\"evenodd\" fill-opacity=\"1\" stroke=\"#000000\" stroke-opacity=\"1\" stroke-width=\"3.2\"/>\n",
       "<circle clip-path=\"url(#clip232)\" cx=\"1241.15\" cy=\"168.405\" r=\"14.4\" fill=\"#0000ff\" fill-rule=\"evenodd\" fill-opacity=\"1\" stroke=\"#000000\" stroke-opacity=\"1\" stroke-width=\"3.2\"/>\n",
       "<circle clip-path=\"url(#clip232)\" cx=\"317.967\" cy=\"598.187\" r=\"14.4\" fill=\"#0000ff\" fill-rule=\"evenodd\" fill-opacity=\"1\" stroke=\"#000000\" stroke-opacity=\"1\" stroke-width=\"3.2\"/>\n",
       "<circle clip-path=\"url(#clip232)\" cx=\"1678.64\" cy=\"216.558\" r=\"14.4\" fill=\"#0000ff\" fill-rule=\"evenodd\" fill-opacity=\"1\" stroke=\"#000000\" stroke-opacity=\"1\" stroke-width=\"3.2\"/>\n",
       "<circle clip-path=\"url(#clip232)\" cx=\"310.513\" cy=\"1032.78\" r=\"14.4\" fill=\"#0000ff\" fill-rule=\"evenodd\" fill-opacity=\"1\" stroke=\"#000000\" stroke-opacity=\"1\" stroke-width=\"3.2\"/>\n",
       "<circle clip-path=\"url(#clip232)\" cx=\"782.959\" cy=\"239.618\" r=\"14.4\" fill=\"#0000ff\" fill-rule=\"evenodd\" fill-opacity=\"1\" stroke=\"#000000\" stroke-opacity=\"1\" stroke-width=\"3.2\"/>\n",
       "<circle clip-path=\"url(#clip232)\" cx=\"254.475\" cy=\"703.281\" r=\"14.4\" fill=\"#0000ff\" fill-rule=\"evenodd\" fill-opacity=\"1\" stroke=\"#000000\" stroke-opacity=\"1\" stroke-width=\"3.2\"/>\n",
       "<circle clip-path=\"url(#clip232)\" cx=\"2151.46\" cy=\"1131.78\" r=\"14.4\" fill=\"#0000ff\" fill-rule=\"evenodd\" fill-opacity=\"1\" stroke=\"#000000\" stroke-opacity=\"1\" stroke-width=\"3.2\"/>\n",
       "<circle clip-path=\"url(#clip232)\" cx=\"274.496\" cy=\"628.764\" r=\"14.4\" fill=\"#0000ff\" fill-rule=\"evenodd\" fill-opacity=\"1\" stroke=\"#000000\" stroke-opacity=\"1\" stroke-width=\"3.2\"/>\n",
       "<circle clip-path=\"url(#clip232)\" cx=\"903.825\" cy=\"200.98\" r=\"14.4\" fill=\"#0000ff\" fill-rule=\"evenodd\" fill-opacity=\"1\" stroke=\"#000000\" stroke-opacity=\"1\" stroke-width=\"3.2\"/>\n",
       "<circle clip-path=\"url(#clip232)\" cx=\"321.04\" cy=\"592.642\" r=\"14.4\" fill=\"#0000ff\" fill-rule=\"evenodd\" fill-opacity=\"1\" stroke=\"#000000\" stroke-opacity=\"1\" stroke-width=\"3.2\"/>\n",
       "<circle clip-path=\"url(#clip232)\" cx=\"1583.91\" cy=\"206.802\" r=\"14.4\" fill=\"#0000ff\" fill-rule=\"evenodd\" fill-opacity=\"1\" stroke=\"#000000\" stroke-opacity=\"1\" stroke-width=\"3.2\"/>\n",
       "<circle clip-path=\"url(#clip232)\" cx=\"1423.06\" cy=\"1430.86\" r=\"14.4\" fill=\"#0000ff\" fill-rule=\"evenodd\" fill-opacity=\"1\" stroke=\"#000000\" stroke-opacity=\"1\" stroke-width=\"3.2\"/>\n",
       "<circle clip-path=\"url(#clip232)\" cx=\"1952.22\" cy=\"1277.04\" r=\"14.4\" fill=\"#0000ff\" fill-rule=\"evenodd\" fill-opacity=\"1\" stroke=\"#000000\" stroke-opacity=\"1\" stroke-width=\"3.2\"/>\n",
       "<circle clip-path=\"url(#clip232)\" cx=\"1129.66\" cy=\"162.047\" r=\"14.4\" fill=\"#0000ff\" fill-rule=\"evenodd\" fill-opacity=\"1\" stroke=\"#000000\" stroke-opacity=\"1\" stroke-width=\"3.2\"/>\n",
       "<circle clip-path=\"url(#clip232)\" cx=\"2143.29\" cy=\"1131.84\" r=\"14.4\" fill=\"#0000ff\" fill-rule=\"evenodd\" fill-opacity=\"1\" stroke=\"#000000\" stroke-opacity=\"1\" stroke-width=\"3.2\"/>\n",
       "<circle clip-path=\"url(#clip232)\" cx=\"445.795\" cy=\"438.76\" r=\"14.4\" fill=\"#0000ff\" fill-rule=\"evenodd\" fill-opacity=\"1\" stroke=\"#000000\" stroke-opacity=\"1\" stroke-width=\"3.2\"/>\n",
       "<circle clip-path=\"url(#clip232)\" cx=\"243.058\" cy=\"876.28\" r=\"14.4\" fill=\"#0000ff\" fill-rule=\"evenodd\" fill-opacity=\"1\" stroke=\"#000000\" stroke-opacity=\"1\" stroke-width=\"3.2\"/>\n",
       "<circle clip-path=\"url(#clip232)\" cx=\"1908.72\" cy=\"1305.61\" r=\"14.4\" fill=\"#0000ff\" fill-rule=\"evenodd\" fill-opacity=\"1\" stroke=\"#000000\" stroke-opacity=\"1\" stroke-width=\"3.2\"/>\n",
       "<circle clip-path=\"url(#clip232)\" cx=\"288.696\" cy=\"934.308\" r=\"14.4\" fill=\"#0000ff\" fill-rule=\"evenodd\" fill-opacity=\"1\" stroke=\"#000000\" stroke-opacity=\"1\" stroke-width=\"3.2\"/>\n",
       "<circle clip-path=\"url(#clip232)\" cx=\"1789.24\" cy=\"1341.65\" r=\"14.4\" fill=\"#0000ff\" fill-rule=\"evenodd\" fill-opacity=\"1\" stroke=\"#000000\" stroke-opacity=\"1\" stroke-width=\"3.2\"/>\n",
       "<circle clip-path=\"url(#clip232)\" cx=\"1864.39\" cy=\"1315.74\" r=\"14.4\" fill=\"#0000ff\" fill-rule=\"evenodd\" fill-opacity=\"1\" stroke=\"#000000\" stroke-opacity=\"1\" stroke-width=\"3.2\"/>\n",
       "<circle clip-path=\"url(#clip232)\" cx=\"2247.01\" cy=\"644.389\" r=\"14.4\" fill=\"#0000ff\" fill-rule=\"evenodd\" fill-opacity=\"1\" stroke=\"#000000\" stroke-opacity=\"1\" stroke-width=\"3.2\"/>\n",
       "<circle clip-path=\"url(#clip232)\" cx=\"689.864\" cy=\"285.601\" r=\"14.4\" fill=\"#0000ff\" fill-rule=\"evenodd\" fill-opacity=\"1\" stroke=\"#000000\" stroke-opacity=\"1\" stroke-width=\"3.2\"/>\n",
       "<circle clip-path=\"url(#clip232)\" cx=\"1667.22\" cy=\"1399.38\" r=\"14.4\" fill=\"#0000ff\" fill-rule=\"evenodd\" fill-opacity=\"1\" stroke=\"#000000\" stroke-opacity=\"1\" stroke-width=\"3.2\"/>\n",
       "<circle clip-path=\"url(#clip232)\" cx=\"1274.28\" cy=\"1434.49\" r=\"14.4\" fill=\"#0000ff\" fill-rule=\"evenodd\" fill-opacity=\"1\" stroke=\"#000000\" stroke-opacity=\"1\" stroke-width=\"3.2\"/>\n",
       "<circle clip-path=\"url(#clip232)\" cx=\"240.392\" cy=\"842.306\" r=\"14.4\" fill=\"#0000ff\" fill-rule=\"evenodd\" fill-opacity=\"1\" stroke=\"#000000\" stroke-opacity=\"1\" stroke-width=\"3.2\"/>\n",
       "<circle clip-path=\"url(#clip232)\" cx=\"2263.88\" cy=\"930.202\" r=\"14.4\" fill=\"#0000ff\" fill-rule=\"evenodd\" fill-opacity=\"1\" stroke=\"#000000\" stroke-opacity=\"1\" stroke-width=\"3.2\"/>\n",
       "<circle clip-path=\"url(#clip232)\" cx=\"1763.65\" cy=\"235.384\" r=\"14.4\" fill=\"#0000ff\" fill-rule=\"evenodd\" fill-opacity=\"1\" stroke=\"#000000\" stroke-opacity=\"1\" stroke-width=\"3.2\"/>\n",
       "<circle clip-path=\"url(#clip232)\" cx=\"1021.52\" cy=\"1419.21\" r=\"14.4\" fill=\"#0000ff\" fill-rule=\"evenodd\" fill-opacity=\"1\" stroke=\"#000000\" stroke-opacity=\"1\" stroke-width=\"3.2\"/>\n",
       "<circle clip-path=\"url(#clip232)\" cx=\"267.575\" cy=\"913.967\" r=\"14.4\" fill=\"#0000ff\" fill-rule=\"evenodd\" fill-opacity=\"1\" stroke=\"#000000\" stroke-opacity=\"1\" stroke-width=\"3.2\"/>\n",
       "<circle clip-path=\"url(#clip232)\" cx=\"333.062\" cy=\"539.083\" r=\"14.4\" fill=\"#0000ff\" fill-rule=\"evenodd\" fill-opacity=\"1\" stroke=\"#000000\" stroke-opacity=\"1\" stroke-width=\"3.2\"/>\n",
       "<circle clip-path=\"url(#clip232)\" cx=\"1218.89\" cy=\"1447.87\" r=\"14.4\" fill=\"#0000ff\" fill-rule=\"evenodd\" fill-opacity=\"1\" stroke=\"#000000\" stroke-opacity=\"1\" stroke-width=\"3.2\"/>\n",
       "<circle clip-path=\"url(#clip232)\" cx=\"854.557\" cy=\"1389.96\" r=\"14.4\" fill=\"#0000ff\" fill-rule=\"evenodd\" fill-opacity=\"1\" stroke=\"#000000\" stroke-opacity=\"1\" stroke-width=\"3.2\"/>\n",
       "<circle clip-path=\"url(#clip232)\" cx=\"247.87\" cy=\"757.92\" r=\"14.4\" fill=\"#0000ff\" fill-rule=\"evenodd\" fill-opacity=\"1\" stroke=\"#000000\" stroke-opacity=\"1\" stroke-width=\"3.2\"/>\n",
       "<path clip-path=\"url(#clip232)\" d=\"M1377.14 669.226 L1360.22 717.898 L1308.67 718.978 L1349.78 750.154 L1334.81 799.474 L1377.14 770.026 L1419.48 799.474 L1404.5 750.154 L1445.61 718.978 L1394.06 717.898 L1377.14 669.226 Z\" fill=\"#800080\" fill-rule=\"evenodd\" fill-opacity=\"1\" stroke=\"#000000\" stroke-opacity=\"1\" stroke-width=\"3.2\"/>\n",
       "</svg>\n"
      ]
     },
     "execution_count": 7,
     "metadata": {},
     "output_type": "execute_result"
    }
   ],
   "source": [
    "scatter( map(x->x[1],points) , map(x->x[2],points) , markercolor= map(x->x[3],points) , title=\"not linearly separable\" , legend=false )\n",
    "scatter!( [point_new[1]] , [point_new[2]] , markershape=:star , markersize=18 , markercolor = \"purple\" )"
   ]
  },
  {
   "cell_type": "markdown",
   "metadata": {},
   "source": [
    "### we have more data than dimensions\n",
    "\n",
    "### now make the Kernel matrix with kernel $k(x_i,x_j) = e^{-||x_i-x_j||^2}$"
   ]
  },
  {
   "cell_type": "code",
   "execution_count": 8,
   "metadata": {},
   "outputs": [
    {
     "data": {
      "text/plain": [
       "kernel1 (generic function with 1 method)"
      ]
     },
     "execution_count": 8,
     "metadata": {},
     "output_type": "execute_result"
    }
   ],
   "source": [
    "function kernel1(xi,xj) \n",
    "    return exp( (-1/4) * sum(map(x->abs(x), xi[1:2] .- xj[1:2] ))^2 )\n",
    "end"
   ]
  },
  {
   "cell_type": "code",
   "execution_count": 9,
   "metadata": {},
   "outputs": [
    {
     "data": {
      "text/plain": [
       "0.006949271938051549"
      ]
     },
     "execution_count": 9,
     "metadata": {},
     "output_type": "execute_result"
    }
   ],
   "source": [
    "kernel1( points[1] , points[2] )"
   ]
  },
  {
   "cell_type": "code",
   "execution_count": 10,
   "metadata": {},
   "outputs": [
    {
     "data": {
      "text/plain": [
       "100×100 Matrix{Float64}:\n",
       " 1.0          0.00694927   0.577625     …  5.81192e-21  5.8994e-12\n",
       " 0.00694927   1.0          0.000147631     1.34866e-24  5.85175e-24\n",
       " 0.577625     0.000147631  1.0             1.66996e-21  3.14807e-11\n",
       " 0.814189     0.0239854    0.340054        9.70274e-24  2.61357e-13\n",
       " 0.652755     0.000246675  0.932733        4.04647e-23  2.19112e-12\n",
       " 0.853778     0.00100797   0.888866     …  1.80366e-20  1.69421e-10\n",
       " 0.969959     0.0146841    0.432531        9.81522e-22  9.68719e-13\n",
       " 0.433733     0.0392986    0.253829        6.61326e-16  6.17768e-14\n",
       " 0.312326     0.107717     0.0364839       5.95071e-16  3.16887e-17\n",
       " 0.938044     0.0139389    0.442584        1.72183e-19  1.10625e-12\n",
       " 0.70081      0.000341242  0.930054     …  3.74475e-23  2.07195e-12\n",
       " 0.69949      0.00058277   0.773263        1.16027e-24  1.6614e-13\n",
       " 0.406147     0.000551367  0.339068        1.00229e-15  8.13713e-10\n",
       " ⋮                                      ⋱               \n",
       " 7.65743e-20  7.59058e-35  8.21965e-16     1.15417e-39  1.18579e-15\n",
       " 3.04982e-21  4.30509e-10  6.65654e-26     8.23985e-8   7.92248e-63\n",
       " 1.3e-12      6.51407e-15  3.23024e-16  …  0.00319369   6.00952e-47\n",
       " 5.51087e-14  3.73166e-20  2.00506e-14     7.89298e-24  0.613818\n",
       " 6.68305e-17  3.04292e-7   4.56663e-21     1.86339e-48  4.38092e-55\n",
       " 4.86123e-20  8.72621e-17  1.61734e-19     8.18259e-80  4.08306e-58\n",
       " 1.21462e-17  5.60624e-21  3.88099e-18     0.336145     1.28294e-35\n",
       " 3.97229e-16  2.5659e-19   1.33684e-16  …  1.22973e-19  0.17485\n",
       " 1.93716e-18  5.80458e-33  1.43971e-14     1.19175e-37  0.0105827\n",
       " 7.06195e-14  7.76111e-17  2.26232e-15     0.00686266   1.76864e-45\n",
       " 5.81192e-21  1.34866e-24  1.66996e-21     1.0          5.8046e-28\n",
       " 5.8994e-12   5.85175e-24  3.14807e-11     5.8046e-28   1.0"
      ]
     },
     "execution_count": 10,
     "metadata": {},
     "output_type": "execute_result"
    }
   ],
   "source": [
    "kernal_mat = zeros(length(points),length(points))\n",
    "[ kernal_mat[i,j] = kernel1(points[i],points[j])  for i in 1:length(points) for j in 1:length(points) ];\n",
    "kernal_mat"
   ]
  },
  {
   "cell_type": "code",
   "execution_count": 11,
   "metadata": {},
   "outputs": [
    {
     "data": {
      "text/plain": [
       "100×100 Matrix{Float64}:\n",
       "  0.887797  -0.105254     0.465422   …  -0.112203  -0.112203  -0.112203\n",
       " -0.105254   0.887797    -0.112056      -0.112203  -0.112203  -0.112203\n",
       "  0.465422  -0.112056     0.887797      -0.112203  -0.112203  -0.112203\n",
       "  0.701986  -0.0882179    0.227851      -0.112203  -0.112203  -0.112203\n",
       "  0.540551  -0.111957     0.82053       -0.112203  -0.112203  -0.112203\n",
       "  0.741575  -0.111195     0.776663   …  -0.112203  -0.112203  -0.112203\n",
       "  0.857755  -0.0975191    0.320328      -0.112203  -0.112203  -0.112203\n",
       "  0.32153   -0.0729046    0.141626      -0.112203  -0.112203  -0.112203\n",
       "  0.200123  -0.00448629  -0.0757194     -0.112203  -0.112203  -0.112203\n",
       "  0.82584   -0.0982643    0.330381      -0.112203  -0.112203  -0.112203\n",
       "  0.588606  -0.111862     0.817851   …  -0.112203  -0.112203  -0.112203\n",
       "  0.587287  -0.11162      0.66106       -0.112203  -0.112203  -0.112203\n",
       "  0.293944  -0.111652     0.226865      -0.112203  -0.112203  -0.112203\n",
       "  ⋮                                  ⋱                        \n",
       " -0.112203  -0.112203    -0.112203      -0.112203  -0.112203  -0.112203\n",
       " -0.112203  -0.112203    -0.112203      -0.110834  -0.112203  -0.112203\n",
       " -0.112203  -0.112203    -0.112203   …   0.756457  -0.10901   -0.112203\n",
       " -0.112203  -0.112203    -0.112203      -0.112203  -0.112203   0.501615\n",
       " -0.112203  -0.112203    -0.112203      -0.112203  -0.112203  -0.112203\n",
       " -0.112203  -0.112203    -0.112203      -0.112203  -0.112203  -0.112203\n",
       " -0.112203  -0.112203    -0.112203       0.13171    0.223942  -0.112203\n",
       " -0.112203  -0.112203    -0.112203   …  -0.112203  -0.112203   0.0626471\n",
       " -0.112203  -0.112203    -0.112203      -0.112203  -0.112203  -0.101621\n",
       " -0.112203  -0.112203    -0.112203       0.887797  -0.105341  -0.112203\n",
       " -0.112203  -0.112203    -0.112203      -0.105341   0.887797  -0.112203\n",
       " -0.112203  -0.112203    -0.112203      -0.112203  -0.112203   0.887797"
      ]
     },
     "execution_count": 11,
     "metadata": {},
     "output_type": "execute_result"
    }
   ],
   "source": [
    "kernal_mat = kernal_mat .- mean( kernal_mat ) #centering"
   ]
  },
  {
   "cell_type": "code",
   "execution_count": 12,
   "metadata": {},
   "outputs": [
    {
     "data": {
      "text/plain": [
       "100×100 Matrix{Float64}:\n",
       " -0.00814654  -0.0862835     0.23631      …  -0.0435932    0.206446\n",
       " -0.130617     0.0339046    -0.0596675        0.0664485   -0.0138379\n",
       " -0.0465525   -0.192862      0.0314244       -0.176726     0.138304\n",
       " -0.0273758   -0.090576     -0.271944         0.00644035   0.176518\n",
       " -0.0500806   -0.101094     -0.0345677       -0.169779     0.14164\n",
       " -0.0224064    0.23677       0.100223     …  -0.14055      0.184597\n",
       " -0.0116883   -0.159735      0.00554042       0.00461632   0.200498\n",
       " -0.044242    -0.308863     -0.0874167        0.148732     0.107481\n",
       " -0.0628248    0.0447164     0.027473         0.223484     0.0693267\n",
       " -0.00808413  -0.0662763    -0.0313418        0.039831     0.192488\n",
       " -0.0467798   -0.0393183    -0.033488     …  -0.166624     0.148507\n",
       " -0.0547604    0.207394     -0.122651        -0.142952     0.139829\n",
       " -0.0832056    0.0511507     0.193219        -0.0402507    0.0824142\n",
       "  ⋮                                       ⋱               \n",
       " -0.148619     0.00101576   -0.000834844     -0.00964665  -0.0303758\n",
       " -0.130935     0.000769494  -0.000632263     -0.0111072   -0.0321753\n",
       " -0.127636     0.000490529  -0.000387984  …  -0.0109207   -0.0320866\n",
       " -0.112608     0.000488148  -0.000398071     -0.0135241   -0.0346035\n",
       " -0.153687     0.00102543   -0.000840025     -0.00907769  -0.0297429\n",
       " -0.13549      0.00107097   -0.000894239     -0.0113467   -0.0322144\n",
       " -0.149541     0.000940954  -0.000769535     -0.009355    -0.0301003\n",
       " -0.105614     0.000373993  -0.000301791  …  -0.0142358   -0.0353929\n",
       " -0.124998     0.00079998   -0.000663143     -0.0122785   -0.0332668\n",
       " -0.135817     0.000815824  -0.000673728     -0.010418    -0.0314325\n",
       " -0.15931      0.00120666   -0.000993886     -0.00881871  -0.0293707\n",
       " -0.119729     0.00055395   -0.000449027     -0.0126747   -0.033707"
      ]
     },
     "execution_count": 12,
     "metadata": {},
     "output_type": "execute_result"
    }
   ],
   "source": [
    "eigvecs_kernel = eigvecs( kernal_mat )"
   ]
  },
  {
   "cell_type": "code",
   "execution_count": 13,
   "metadata": {},
   "outputs": [
    {
     "data": {
      "text/plain": [
       "100-element Vector{Float64}:\n",
       " -4.893242367281615\n",
       " -0.39229688158323345\n",
       " -0.35700983457513186\n",
       " -0.3270540978459199\n",
       " -0.19052411747373893\n",
       " -0.16936904108630804\n",
       " -0.14880861797344652\n",
       " -0.13573806164731944\n",
       " -0.11217881944113403\n",
       " -0.10554458423427518\n",
       " -0.09699898124545345\n",
       " -0.07745677442055536\n",
       " -0.0729667768252902\n",
       "  ⋮\n",
       "  2.4816683249636764\n",
       "  2.7165058596624077\n",
       "  2.770974655049392\n",
       "  2.873613096584783\n",
       "  3.239208211924228\n",
       "  3.381017611251068\n",
       "  3.507294837798817\n",
       "  3.755711067026037\n",
       "  3.9254697611608522\n",
       "  5.880121260259408\n",
       "  8.826630082754974\n",
       " 18.534197539802612"
      ]
     },
     "execution_count": 13,
     "metadata": {},
     "output_type": "execute_result"
    }
   ],
   "source": [
    "eigvals_kernel = eigvals( kernal_mat )"
   ]
  },
  {
   "cell_type": "code",
   "execution_count": 14,
   "metadata": {},
   "outputs": [
    {
     "data": {
      "text/plain": [
       "2-element Vector{Int64}:\n",
       " 100\n",
       "  99"
      ]
     },
     "execution_count": 14,
     "metadata": {},
     "output_type": "execute_result"
    }
   ],
   "source": [
    "vals = sort(eigvals_kernel,rev=true)[1:2]\n",
    "inds = map( v -> findall( eigvals_kernel .== v )[1] , vals )"
   ]
  },
  {
   "cell_type": "code",
   "execution_count": 15,
   "metadata": {},
   "outputs": [
    {
     "data": {
      "text/plain": [
       "100×2 Matrix{Float64}:\n",
       " -0.112203   -0.112203\n",
       " -0.112203   -0.112203\n",
       " -0.112203   -0.112203\n",
       " -0.112203   -0.112203\n",
       " -0.112203   -0.112203\n",
       " -0.112203   -0.112203\n",
       " -0.112203   -0.112203\n",
       " -0.112203   -0.112203\n",
       " -0.112203   -0.112203\n",
       " -0.112203   -0.112203\n",
       " -0.112203   -0.112203\n",
       " -0.112203   -0.112203\n",
       " -0.112203   -0.112203\n",
       "  ⋮          \n",
       " -0.112203   -0.112203\n",
       " -0.112203   -0.112203\n",
       " -0.112203   -0.10901\n",
       "  0.501615   -0.112203\n",
       " -0.112203   -0.112203\n",
       " -0.112203   -0.112203\n",
       " -0.112203    0.223942\n",
       "  0.0626471  -0.112203\n",
       " -0.101621   -0.112203\n",
       " -0.112203   -0.105341\n",
       " -0.112203    0.887797\n",
       "  0.887797   -0.112203"
      ]
     },
     "execution_count": 15,
     "metadata": {},
     "output_type": "execute_result"
    }
   ],
   "source": [
    "phi_vecs = kernal_mat[ : , inds ]"
   ]
  },
  {
   "cell_type": "code",
   "execution_count": null,
   "metadata": {},
   "outputs": [],
   "source": []
  },
  {
   "cell_type": "code",
   "execution_count": 16,
   "metadata": {},
   "outputs": [
    {
     "data": {
      "text/plain": [
       "Point2HigherDim (generic function with 1 method)"
      ]
     },
     "execution_count": 16,
     "metadata": {},
     "output_type": "execute_result"
    }
   ],
   "source": [
    "function Point2HigherDim( point_new , points ) #find the point projection in the higher dimension\n",
    "    map( i -> kernel1( point_new , points[i] ) , 1:length(points) )\n",
    "end"
   ]
  },
  {
   "cell_type": "code",
   "execution_count": 17,
   "metadata": {},
   "outputs": [
    {
     "data": {
      "text/plain": [
       "100-element Vector{Float64}:\n",
       " 1.0\n",
       " 0.006949271938051549\n",
       " 0.5776250627675606\n",
       " 0.8141887672209881\n",
       " 0.6527546505226293\n",
       " 0.853777979593247\n",
       " 0.9699587088726231\n",
       " 0.43373315823414255\n",
       " 0.3123260185354364\n",
       " 0.938043599433971\n",
       " 0.7008097147109854\n",
       " 0.6994904419459282\n",
       " 0.40614684264815504\n",
       " ⋮\n",
       " 7.657433310164831e-20\n",
       " 3.049815429150574e-21\n",
       " 1.3000032307293186e-12\n",
       " 5.510874421642293e-14\n",
       " 6.683051360241331e-17\n",
       " 4.861234198918826e-20\n",
       " 1.2146224057125131e-17\n",
       " 3.9722852656694406e-16\n",
       " 1.9371614476802283e-18\n",
       " 7.061946133686627e-14\n",
       " 5.811918642775253e-21\n",
       " 5.899402760922633e-12"
      ]
     },
     "execution_count": 17,
     "metadata": {},
     "output_type": "execute_result"
    }
   ],
   "source": [
    "Point2HigherDim( points[1] , points ) #map first point"
   ]
  },
  {
   "cell_type": "code",
   "execution_count": 18,
   "metadata": {},
   "outputs": [
    {
     "name": "stdout",
     "output_type": "stream",
     "text": [
      "100\n",
      "100\n"
     ]
    }
   ],
   "source": [
    "#map all original points\n",
    "points_higherDim = map( i -> Point2HigherDim( points[i] , points ) , 1:length(points) );\n",
    "println( length( points_higherDim ) )\n",
    "println( length( points_higherDim[1] ) )"
   ]
  },
  {
   "cell_type": "code",
   "execution_count": 19,
   "metadata": {},
   "outputs": [
    {
     "data": {
      "text/plain": [
       "2-element Vector{Float64}:\n",
       " -3.1378438045017623\n",
       " -3.1378438129103263"
      ]
     },
     "execution_count": 19,
     "metadata": {},
     "output_type": "execute_result"
    }
   ],
   "source": [
    "phi_vecs' * points_higherDim[1] # 1 point projection"
   ]
  },
  {
   "cell_type": "code",
   "execution_count": 20,
   "metadata": {},
   "outputs": [
    {
     "name": "stdout",
     "output_type": "stream",
     "text": [
      "[-3.1378438045017623, -3.1378438129103263]\n"
     ]
    },
    {
     "data": {
      "text/plain": [
       "100"
      ]
     },
     "execution_count": 20,
     "metadata": {},
     "output_type": "execute_result"
    }
   ],
   "source": [
    "points_projection = map( i -> phi_vecs' * points_higherDim[i] , 1:length(points_higherDim) )\n",
    "println( points_projection[1] )\n",
    "length( points_projection )"
   ]
  },
  {
   "cell_type": "code",
   "execution_count": 21,
   "metadata": {},
   "outputs": [
    {
     "data": {
      "image/svg+xml": [
       "<?xml version=\"1.0\" encoding=\"utf-8\"?>\n",
       "<svg xmlns=\"http://www.w3.org/2000/svg\" xmlns:xlink=\"http://www.w3.org/1999/xlink\" width=\"600\" height=\"400\" viewBox=\"0 0 2400 1600\">\n",
       "<defs>\n",
       "  <clipPath id=\"clip270\">\n",
       "    <rect x=\"0\" y=\"0\" width=\"2400\" height=\"1600\"/>\n",
       "  </clipPath>\n",
       "</defs>\n",
       "<path clip-path=\"url(#clip270)\" d=\"M0 1600 L2400 1600 L2400 0 L0 0  Z\" fill=\"#ffffff\" fill-rule=\"evenodd\" fill-opacity=\"1\"/>\n",
       "<defs>\n",
       "  <clipPath id=\"clip271\">\n",
       "    <rect x=\"480\" y=\"0\" width=\"1681\" height=\"1600\"/>\n",
       "  </clipPath>\n",
       "</defs>\n",
       "<path clip-path=\"url(#clip270)\" d=\"M148.057 1486.45 L2352.76 1486.45 L2352.76 123.472 L148.057 123.472  Z\" fill=\"#ffffff\" fill-rule=\"evenodd\" fill-opacity=\"1\"/>\n",
       "<defs>\n",
       "  <clipPath id=\"clip272\">\n",
       "    <rect x=\"148\" y=\"123\" width=\"2206\" height=\"1364\"/>\n",
       "  </clipPath>\n",
       "</defs>\n",
       "<polyline clip-path=\"url(#clip272)\" style=\"stroke:#000000; stroke-linecap:round; stroke-linejoin:round; stroke-width:2; stroke-opacity:0.1; fill:none\" points=\"267.133,1486.45 267.133,123.472 \"/>\n",
       "<polyline clip-path=\"url(#clip272)\" style=\"stroke:#000000; stroke-linecap:round; stroke-linejoin:round; stroke-width:2; stroke-opacity:0.1; fill:none\" points=\"678.315,1486.45 678.315,123.472 \"/>\n",
       "<polyline clip-path=\"url(#clip272)\" style=\"stroke:#000000; stroke-linecap:round; stroke-linejoin:round; stroke-width:2; stroke-opacity:0.1; fill:none\" points=\"1089.5,1486.45 1089.5,123.472 \"/>\n",
       "<polyline clip-path=\"url(#clip272)\" style=\"stroke:#000000; stroke-linecap:round; stroke-linejoin:round; stroke-width:2; stroke-opacity:0.1; fill:none\" points=\"1500.68,1486.45 1500.68,123.472 \"/>\n",
       "<polyline clip-path=\"url(#clip272)\" style=\"stroke:#000000; stroke-linecap:round; stroke-linejoin:round; stroke-width:2; stroke-opacity:0.1; fill:none\" points=\"1911.86,1486.45 1911.86,123.472 \"/>\n",
       "<polyline clip-path=\"url(#clip272)\" style=\"stroke:#000000; stroke-linecap:round; stroke-linejoin:round; stroke-width:2; stroke-opacity:0.1; fill:none\" points=\"2323.05,1486.45 2323.05,123.472 \"/>\n",
       "<polyline clip-path=\"url(#clip270)\" style=\"stroke:#000000; stroke-linecap:round; stroke-linejoin:round; stroke-width:4; stroke-opacity:1; fill:none\" points=\"148.057,1486.45 2352.76,1486.45 \"/>\n",
       "<polyline clip-path=\"url(#clip270)\" style=\"stroke:#000000; stroke-linecap:round; stroke-linejoin:round; stroke-width:4; stroke-opacity:1; fill:none\" points=\"267.133,1486.45 267.133,1467.55 \"/>\n",
       "<polyline clip-path=\"url(#clip270)\" style=\"stroke:#000000; stroke-linecap:round; stroke-linejoin:round; stroke-width:4; stroke-opacity:1; fill:none\" points=\"678.315,1486.45 678.315,1467.55 \"/>\n",
       "<polyline clip-path=\"url(#clip270)\" style=\"stroke:#000000; stroke-linecap:round; stroke-linejoin:round; stroke-width:4; stroke-opacity:1; fill:none\" points=\"1089.5,1486.45 1089.5,1467.55 \"/>\n",
       "<polyline clip-path=\"url(#clip270)\" style=\"stroke:#000000; stroke-linecap:round; stroke-linejoin:round; stroke-width:4; stroke-opacity:1; fill:none\" points=\"1500.68,1486.45 1500.68,1467.55 \"/>\n",
       "<polyline clip-path=\"url(#clip270)\" style=\"stroke:#000000; stroke-linecap:round; stroke-linejoin:round; stroke-width:4; stroke-opacity:1; fill:none\" points=\"1911.86,1486.45 1911.86,1467.55 \"/>\n",
       "<polyline clip-path=\"url(#clip270)\" style=\"stroke:#000000; stroke-linecap:round; stroke-linejoin:round; stroke-width:4; stroke-opacity:1; fill:none\" points=\"2323.05,1486.45 2323.05,1467.55 \"/>\n",
       "<path clip-path=\"url(#clip270)\" d=\"M236.6 1532.02 L266.276 1532.02 L266.276 1535.95 L236.6 1535.95 L236.6 1532.02 Z\" fill=\"#000000\" fill-rule=\"evenodd\" fill-opacity=\"1\" /><path clip-path=\"url(#clip270)\" d=\"M290.535 1530.21 Q293.892 1530.93 295.767 1533.2 Q297.665 1535.47 297.665 1538.8 Q297.665 1543.92 294.146 1546.72 Q290.628 1549.52 284.147 1549.52 Q281.971 1549.52 279.656 1549.08 Q277.364 1548.66 274.91 1547.81 L274.91 1543.29 Q276.855 1544.43 279.17 1545.01 Q281.485 1545.58 284.008 1545.58 Q288.406 1545.58 290.697 1543.85 Q293.012 1542.11 293.012 1538.8 Q293.012 1535.75 290.859 1534.03 Q288.73 1532.3 284.91 1532.3 L280.883 1532.3 L280.883 1528.45 L285.096 1528.45 Q288.545 1528.45 290.373 1527.09 Q292.202 1525.7 292.202 1523.11 Q292.202 1520.45 290.304 1519.03 Q288.429 1517.6 284.91 1517.6 Q282.989 1517.6 280.79 1518.01 Q278.591 1518.43 275.952 1519.31 L275.952 1515.14 Q278.614 1514.4 280.929 1514.03 Q283.267 1513.66 285.327 1513.66 Q290.651 1513.66 293.753 1516.09 Q296.855 1518.5 296.855 1522.62 Q296.855 1525.49 295.211 1527.48 Q293.568 1529.45 290.535 1530.21 Z\" fill=\"#000000\" fill-rule=\"evenodd\" fill-opacity=\"1\" /><path clip-path=\"url(#clip270)\" d=\"M648.258 1532.02 L677.933 1532.02 L677.933 1535.95 L648.258 1535.95 L648.258 1532.02 Z\" fill=\"#000000\" fill-rule=\"evenodd\" fill-opacity=\"1\" /><path clip-path=\"url(#clip270)\" d=\"M692.054 1544.91 L708.373 1544.91 L708.373 1548.85 L686.429 1548.85 L686.429 1544.91 Q689.091 1542.16 693.674 1537.53 Q698.28 1532.88 699.461 1531.53 Q701.706 1529.01 702.586 1527.27 Q703.489 1525.51 703.489 1523.82 Q703.489 1521.07 701.544 1519.33 Q699.623 1517.6 696.521 1517.6 Q694.322 1517.6 691.868 1518.36 Q689.438 1519.13 686.66 1520.68 L686.66 1515.95 Q689.484 1514.82 691.938 1514.24 Q694.392 1513.66 696.429 1513.66 Q701.799 1513.66 704.993 1516.35 Q708.188 1519.03 708.188 1523.52 Q708.188 1525.65 707.378 1527.57 Q706.591 1529.47 704.484 1532.07 Q703.905 1532.74 700.804 1535.95 Q697.702 1539.15 692.054 1544.91 Z\" fill=\"#000000\" fill-rule=\"evenodd\" fill-opacity=\"1\" /><path clip-path=\"url(#clip270)\" d=\"M1059.25 1532.02 L1088.93 1532.02 L1088.93 1535.95 L1059.25 1535.95 L1059.25 1532.02 Z\" fill=\"#000000\" fill-rule=\"evenodd\" fill-opacity=\"1\" /><path clip-path=\"url(#clip270)\" d=\"M1099.83 1544.91 L1107.47 1544.91 L1107.47 1518.55 L1099.16 1520.21 L1099.16 1515.95 L1107.43 1514.29 L1112.1 1514.29 L1112.1 1544.91 L1119.74 1544.91 L1119.74 1548.85 L1099.83 1548.85 L1099.83 1544.91 Z\" fill=\"#000000\" fill-rule=\"evenodd\" fill-opacity=\"1\" /><path clip-path=\"url(#clip270)\" d=\"M1500.68 1517.37 Q1497.07 1517.37 1495.24 1520.93 Q1493.43 1524.47 1493.43 1531.6 Q1493.43 1538.71 1495.24 1542.27 Q1497.07 1545.82 1500.68 1545.82 Q1504.31 1545.82 1506.12 1542.27 Q1507.95 1538.71 1507.95 1531.6 Q1507.95 1524.47 1506.12 1520.93 Q1504.31 1517.37 1500.68 1517.37 M1500.68 1513.66 Q1506.49 1513.66 1509.55 1518.27 Q1512.62 1522.85 1512.62 1531.6 Q1512.62 1540.33 1509.55 1544.94 Q1506.49 1549.52 1500.68 1549.52 Q1494.87 1549.52 1491.79 1544.94 Q1488.74 1540.33 1488.74 1531.6 Q1488.74 1522.85 1491.79 1518.27 Q1494.87 1513.66 1500.68 1513.66 Z\" fill=\"#000000\" fill-rule=\"evenodd\" fill-opacity=\"1\" /><path clip-path=\"url(#clip270)\" d=\"M1902.24 1544.91 L1909.88 1544.91 L1909.88 1518.55 L1901.57 1520.21 L1901.57 1515.95 L1909.84 1514.29 L1914.51 1514.29 L1914.51 1544.91 L1922.15 1544.91 L1922.15 1548.85 L1902.24 1548.85 L1902.24 1544.91 Z\" fill=\"#000000\" fill-rule=\"evenodd\" fill-opacity=\"1\" /><path clip-path=\"url(#clip270)\" d=\"M2317.7 1544.91 L2334.02 1544.91 L2334.02 1548.85 L2312.07 1548.85 L2312.07 1544.91 Q2314.74 1542.16 2319.32 1537.53 Q2323.92 1532.88 2325.11 1531.53 Q2327.35 1529.01 2328.23 1527.27 Q2329.13 1525.51 2329.13 1523.82 Q2329.13 1521.07 2327.19 1519.33 Q2325.27 1517.6 2322.17 1517.6 Q2319.97 1517.6 2317.51 1518.36 Q2315.08 1519.13 2312.3 1520.68 L2312.3 1515.95 Q2315.13 1514.82 2317.58 1514.24 Q2320.04 1513.66 2322.07 1513.66 Q2327.44 1513.66 2330.64 1516.35 Q2333.83 1519.03 2333.83 1523.52 Q2333.83 1525.65 2333.02 1527.57 Q2332.24 1529.47 2330.13 1532.07 Q2329.55 1532.74 2326.45 1535.95 Q2323.35 1539.15 2317.7 1544.91 Z\" fill=\"#000000\" fill-rule=\"evenodd\" fill-opacity=\"1\" /><polyline clip-path=\"url(#clip272)\" style=\"stroke:#000000; stroke-linecap:round; stroke-linejoin:round; stroke-width:2; stroke-opacity:0.1; fill:none\" points=\"148.057,1404.64 2352.76,1404.64 \"/>\n",
       "<polyline clip-path=\"url(#clip272)\" style=\"stroke:#000000; stroke-linecap:round; stroke-linejoin:round; stroke-width:2; stroke-opacity:0.1; fill:none\" points=\"148.057,1091.01 2352.76,1091.01 \"/>\n",
       "<polyline clip-path=\"url(#clip272)\" style=\"stroke:#000000; stroke-linecap:round; stroke-linejoin:round; stroke-width:2; stroke-opacity:0.1; fill:none\" points=\"148.057,777.384 2352.76,777.384 \"/>\n",
       "<polyline clip-path=\"url(#clip272)\" style=\"stroke:#000000; stroke-linecap:round; stroke-linejoin:round; stroke-width:2; stroke-opacity:0.1; fill:none\" points=\"148.057,463.755 2352.76,463.755 \"/>\n",
       "<polyline clip-path=\"url(#clip272)\" style=\"stroke:#000000; stroke-linecap:round; stroke-linejoin:round; stroke-width:2; stroke-opacity:0.1; fill:none\" points=\"148.057,150.127 2352.76,150.127 \"/>\n",
       "<polyline clip-path=\"url(#clip270)\" style=\"stroke:#000000; stroke-linecap:round; stroke-linejoin:round; stroke-width:4; stroke-opacity:1; fill:none\" points=\"148.057,1486.45 148.057,123.472 \"/>\n",
       "<polyline clip-path=\"url(#clip270)\" style=\"stroke:#000000; stroke-linecap:round; stroke-linejoin:round; stroke-width:4; stroke-opacity:1; fill:none\" points=\"148.057,1404.64 166.954,1404.64 \"/>\n",
       "<polyline clip-path=\"url(#clip270)\" style=\"stroke:#000000; stroke-linecap:round; stroke-linejoin:round; stroke-width:4; stroke-opacity:1; fill:none\" points=\"148.057,1091.01 166.954,1091.01 \"/>\n",
       "<polyline clip-path=\"url(#clip270)\" style=\"stroke:#000000; stroke-linecap:round; stroke-linejoin:round; stroke-width:4; stroke-opacity:1; fill:none\" points=\"148.057,777.384 166.954,777.384 \"/>\n",
       "<polyline clip-path=\"url(#clip270)\" style=\"stroke:#000000; stroke-linecap:round; stroke-linejoin:round; stroke-width:4; stroke-opacity:1; fill:none\" points=\"148.057,463.755 166.954,463.755 \"/>\n",
       "<polyline clip-path=\"url(#clip270)\" style=\"stroke:#000000; stroke-linecap:round; stroke-linejoin:round; stroke-width:4; stroke-opacity:1; fill:none\" points=\"148.057,150.127 166.954,150.127 \"/>\n",
       "<path clip-path=\"url(#clip270)\" d=\"M50.9921 1405.09 L80.6679 1405.09 L80.6679 1409.03 L50.9921 1409.03 L50.9921 1405.09 Z\" fill=\"#000000\" fill-rule=\"evenodd\" fill-opacity=\"1\" /><path clip-path=\"url(#clip270)\" d=\"M104.927 1403.29 Q108.283 1404 110.158 1406.27 Q112.057 1408.54 112.057 1411.88 Q112.057 1416.99 108.538 1419.79 Q105.02 1422.59 98.5382 1422.59 Q96.3623 1422.59 94.0475 1422.15 Q91.7558 1421.74 89.3021 1420.88 L89.3021 1416.37 Q91.2465 1417.5 93.5613 1418.08 Q95.8761 1418.66 98.3993 1418.66 Q102.797 1418.66 105.089 1416.92 Q107.404 1415.19 107.404 1411.88 Q107.404 1408.82 105.251 1407.11 Q103.121 1405.37 99.3021 1405.37 L95.2743 1405.37 L95.2743 1401.53 L99.4872 1401.53 Q102.936 1401.53 104.765 1400.16 Q106.594 1398.77 106.594 1396.18 Q106.594 1393.52 104.696 1392.11 Q102.821 1390.67 99.3021 1390.67 Q97.3808 1390.67 95.1817 1391.09 Q92.9826 1391.5 90.3438 1392.38 L90.3438 1388.22 Q93.0058 1387.48 95.3206 1387.11 Q97.6585 1386.74 99.7187 1386.74 Q105.043 1386.74 108.145 1389.17 Q111.246 1391.57 111.246 1395.69 Q111.246 1398.56 109.603 1400.56 Q107.959 1402.52 104.927 1403.29 Z\" fill=\"#000000\" fill-rule=\"evenodd\" fill-opacity=\"1\" /><path clip-path=\"url(#clip270)\" d=\"M51.9412 1091.46 L81.617 1091.46 L81.617 1095.4 L51.9412 1095.4 L51.9412 1091.46 Z\" fill=\"#000000\" fill-rule=\"evenodd\" fill-opacity=\"1\" /><path clip-path=\"url(#clip270)\" d=\"M95.7373 1104.36 L112.057 1104.36 L112.057 1108.29 L90.1123 1108.29 L90.1123 1104.36 Q92.7743 1101.6 97.3576 1096.97 Q101.964 1092.32 103.145 1090.98 Q105.39 1088.45 106.27 1086.72 Q107.172 1084.96 107.172 1083.27 Q107.172 1080.52 105.228 1078.78 Q103.307 1077.04 100.205 1077.04 Q98.0058 1077.04 95.5521 1077.81 Q93.1215 1078.57 90.3438 1080.12 L90.3438 1075.4 Q93.1678 1074.27 95.6215 1073.69 Q98.0752 1073.11 100.112 1073.11 Q105.483 1073.11 108.677 1075.79 Q111.871 1078.48 111.871 1082.97 Q111.871 1085.1 111.061 1087.02 Q110.274 1088.92 108.168 1091.51 Q107.589 1092.18 104.487 1095.4 Q101.385 1098.59 95.7373 1104.36 Z\" fill=\"#000000\" fill-rule=\"evenodd\" fill-opacity=\"1\" /><path clip-path=\"url(#clip270)\" d=\"M51.5708 777.835 L81.2466 777.835 L81.2466 781.771 L51.5708 781.771 L51.5708 777.835 Z\" fill=\"#000000\" fill-rule=\"evenodd\" fill-opacity=\"1\" /><path clip-path=\"url(#clip270)\" d=\"M92.1493 790.729 L99.7882 790.729 L99.7882 764.363 L91.478 766.03 L91.478 761.771 L99.7419 760.104 L104.418 760.104 L104.418 790.729 L112.057 790.729 L112.057 794.664 L92.1493 794.664 L92.1493 790.729 Z\" fill=\"#000000\" fill-rule=\"evenodd\" fill-opacity=\"1\" /><path clip-path=\"url(#clip270)\" d=\"M100.112 449.554 Q96.5011 449.554 94.6724 453.119 Q92.8669 456.66 92.8669 463.79 Q92.8669 470.896 94.6724 474.461 Q96.5011 478.003 100.112 478.003 Q103.746 478.003 105.552 474.461 Q107.381 470.896 107.381 463.79 Q107.381 456.66 105.552 453.119 Q103.746 449.554 100.112 449.554 M100.112 445.85 Q105.922 445.85 108.978 450.457 Q112.057 455.04 112.057 463.79 Q112.057 472.517 108.978 477.123 Q105.922 481.707 100.112 481.707 Q94.3021 481.707 91.2234 477.123 Q88.1679 472.517 88.1679 463.79 Q88.1679 455.04 91.2234 450.457 Q94.3021 445.85 100.112 445.85 Z\" fill=\"#000000\" fill-rule=\"evenodd\" fill-opacity=\"1\" /><path clip-path=\"url(#clip270)\" d=\"M92.1493 163.471 L99.7882 163.471 L99.7882 137.106 L91.478 138.773 L91.478 134.513 L99.7419 132.847 L104.418 132.847 L104.418 163.471 L112.057 163.471 L112.057 167.407 L92.1493 167.407 L92.1493 163.471 Z\" fill=\"#000000\" fill-rule=\"evenodd\" fill-opacity=\"1\" /><path clip-path=\"url(#clip270)\" d=\"M1069.61 65.7705 L1069.61 89.8329 L1062.12 89.8329 L1062.12 27.2059 L1069.61 27.2059 L1069.61 34.0924 Q1071.96 30.0415 1075.53 28.0971 Q1079.13 26.1121 1084.12 26.1121 Q1092.38 26.1121 1097.53 32.6746 Q1102.71 39.2371 1102.71 49.9314 Q1102.71 60.6258 1097.53 67.1883 Q1092.38 73.7508 1084.12 73.7508 Q1079.13 73.7508 1075.53 71.8063 Q1071.96 69.8214 1069.61 65.7705 M1094.97 49.9314 Q1094.97 41.7081 1091.57 37.0496 Q1088.21 32.3505 1082.29 32.3505 Q1076.38 32.3505 1072.98 37.0496 Q1069.61 41.7081 1069.61 49.9314 Q1069.61 58.1548 1072.98 62.8538 Q1076.38 67.5124 1082.29 67.5124 Q1088.21 67.5124 1091.57 62.8538 Q1094.97 58.1548 1094.97 49.9314 Z\" fill=\"#000000\" fill-rule=\"evenodd\" fill-opacity=\"1\" /><path clip-path=\"url(#clip270)\" d=\"M1141.36 34.1734 Q1140.1 33.4443 1138.6 33.1202 Q1137.14 32.7556 1135.36 32.7556 Q1129.04 32.7556 1125.64 36.8875 Q1122.28 40.9789 1122.28 48.6757 L1122.28 72.576 L1114.78 72.576 L1114.78 27.2059 L1122.28 27.2059 L1122.28 34.2544 Q1124.63 30.1225 1128.39 28.1376 Q1132.16 26.1121 1137.55 26.1121 Q1138.32 26.1121 1139.25 26.2337 Q1140.18 26.3147 1141.32 26.5172 L1141.36 34.1734 Z\" fill=\"#000000\" fill-rule=\"evenodd\" fill-opacity=\"1\" /><path clip-path=\"url(#clip270)\" d=\"M1164.93 32.4315 Q1158.94 32.4315 1155.45 37.1306 Q1151.97 41.7891 1151.97 49.9314 Q1151.97 58.0738 1155.41 62.7728 Q1158.9 67.4314 1164.93 67.4314 Q1170.89 67.4314 1174.37 62.7323 Q1177.85 58.0333 1177.85 49.9314 Q1177.85 41.8701 1174.37 37.1711 Q1170.89 32.4315 1164.93 32.4315 M1164.93 26.1121 Q1174.65 26.1121 1180.2 32.4315 Q1185.75 38.7509 1185.75 49.9314 Q1185.75 61.0714 1180.2 67.4314 Q1174.65 73.7508 1164.93 73.7508 Q1155.17 73.7508 1149.62 67.4314 Q1144.11 61.0714 1144.11 49.9314 Q1144.11 38.7509 1149.62 32.4315 Q1155.17 26.1121 1164.93 26.1121 Z\" fill=\"#000000\" fill-rule=\"evenodd\" fill-opacity=\"1\" /><path clip-path=\"url(#clip270)\" d=\"M1198.11 27.2059 L1205.56 27.2059 L1205.56 73.3862 Q1205.56 82.0551 1202.24 85.944 Q1198.96 89.8329 1191.63 89.8329 L1188.79 89.8329 L1188.79 83.5134 L1190.78 83.5134 Q1195.03 83.5134 1196.57 81.5285 Q1198.11 79.5841 1198.11 73.3862 L1198.11 27.2059 M1198.11 9.54393 L1205.56 9.54393 L1205.56 18.9825 L1198.11 18.9825 L1198.11 9.54393 Z\" fill=\"#000000\" fill-rule=\"evenodd\" fill-opacity=\"1\" /><path clip-path=\"url(#clip270)\" d=\"M1259.97 48.0275 L1259.97 51.6733 L1225.7 51.6733 Q1226.18 59.3701 1230.31 63.421 Q1234.49 67.4314 1241.9 67.4314 Q1246.19 67.4314 1250.2 66.3781 Q1254.25 65.3249 1258.22 63.2184 L1258.22 70.267 Q1254.21 71.9684 1250 72.8596 Q1245.79 73.7508 1241.45 73.7508 Q1230.6 73.7508 1224.24 67.4314 Q1217.92 61.1119 1217.92 50.3365 Q1217.92 39.1965 1223.91 32.6746 Q1229.95 26.1121 1240.16 26.1121 Q1249.31 26.1121 1254.62 32.0264 Q1259.97 37.9003 1259.97 48.0275 M1252.51 45.84 Q1252.43 39.7232 1249.07 36.0774 Q1245.75 32.4315 1240.24 32.4315 Q1234 32.4315 1230.23 35.9558 Q1226.51 39.4801 1225.94 45.8805 L1252.51 45.84 Z\" fill=\"#000000\" fill-rule=\"evenodd\" fill-opacity=\"1\" /><path clip-path=\"url(#clip270)\" d=\"M1304.85 28.9478 L1304.85 35.9153 Q1301.69 34.1734 1298.49 33.3227 Q1295.33 32.4315 1292.09 32.4315 Q1284.84 32.4315 1280.83 37.0496 Q1276.82 41.6271 1276.82 49.9314 Q1276.82 58.2358 1280.83 62.8538 Q1284.84 67.4314 1292.09 67.4314 Q1295.33 67.4314 1298.49 66.5807 Q1301.69 65.6895 1304.85 63.9476 L1304.85 70.8341 Q1301.73 72.2924 1298.37 73.0216 Q1295.05 73.7508 1291.28 73.7508 Q1281.03 73.7508 1275 67.3098 Q1268.96 60.8689 1268.96 49.9314 Q1268.96 38.832 1275.04 32.472 Q1281.15 26.1121 1291.77 26.1121 Q1295.21 26.1121 1298.49 26.8413 Q1301.77 27.5299 1304.85 28.9478 Z\" fill=\"#000000\" fill-rule=\"evenodd\" fill-opacity=\"1\" /><path clip-path=\"url(#clip270)\" d=\"M1325.19 14.324 L1325.19 27.2059 L1340.54 27.2059 L1340.54 32.9987 L1325.19 32.9987 L1325.19 57.6282 Q1325.19 63.1779 1326.68 64.7578 Q1328.22 66.3376 1332.88 66.3376 L1340.54 66.3376 L1340.54 72.576 L1332.88 72.576 Q1324.25 72.576 1320.97 69.3758 Q1317.69 66.1351 1317.69 57.6282 L1317.69 32.9987 L1312.22 32.9987 L1312.22 27.2059 L1317.69 27.2059 L1317.69 14.324 L1325.19 14.324 Z\" fill=\"#000000\" fill-rule=\"evenodd\" fill-opacity=\"1\" /><path clip-path=\"url(#clip270)\" d=\"M1389.15 48.0275 L1389.15 51.6733 L1354.88 51.6733 Q1355.37 59.3701 1359.5 63.421 Q1363.67 67.4314 1371.08 67.4314 Q1375.38 67.4314 1379.39 66.3781 Q1383.44 65.3249 1387.41 63.2184 L1387.41 70.267 Q1383.4 71.9684 1379.18 72.8596 Q1374.97 73.7508 1370.64 73.7508 Q1359.78 73.7508 1353.42 67.4314 Q1347.1 61.1119 1347.1 50.3365 Q1347.1 39.1965 1353.1 32.6746 Q1359.13 26.1121 1369.34 26.1121 Q1378.5 26.1121 1383.8 32.0264 Q1389.15 37.9003 1389.15 48.0275 M1381.7 45.84 Q1381.62 39.7232 1378.25 36.0774 Q1374.93 32.4315 1369.42 32.4315 Q1363.18 32.4315 1359.42 35.9558 Q1355.69 39.4801 1355.12 45.8805 L1381.7 45.84 Z\" fill=\"#000000\" fill-rule=\"evenodd\" fill-opacity=\"1\" /><path clip-path=\"url(#clip270)\" d=\"M1431.24 34.0924 L1431.24 9.54393 L1438.69 9.54393 L1438.69 72.576 L1431.24 72.576 L1431.24 65.7705 Q1428.89 69.8214 1425.28 71.8063 Q1421.72 73.7508 1416.7 73.7508 Q1408.47 73.7508 1403.29 67.1883 Q1398.14 60.6258 1398.14 49.9314 Q1398.14 39.2371 1403.29 32.6746 Q1408.47 26.1121 1416.7 26.1121 Q1421.72 26.1121 1425.28 28.0971 Q1428.89 30.0415 1431.24 34.0924 M1405.84 49.9314 Q1405.84 58.1548 1409.2 62.8538 Q1412.6 67.5124 1418.52 67.5124 Q1424.43 67.5124 1427.84 62.8538 Q1431.24 58.1548 1431.24 49.9314 Q1431.24 41.7081 1427.84 37.0496 Q1424.43 32.3505 1418.52 32.3505 Q1412.6 32.3505 1409.2 37.0496 Q1405.84 41.7081 1405.84 49.9314 Z\" fill=\"#000000\" fill-rule=\"evenodd\" fill-opacity=\"1\" /><circle clip-path=\"url(#clip272)\" cx=\"210.454\" cy=\"1447.87\" r=\"14.4\" fill=\"#ff0000\" fill-rule=\"evenodd\" fill-opacity=\"1\" stroke=\"#000000\" stroke-opacity=\"1\" stroke-width=\"3.2\"/>\n",
       "<circle clip-path=\"url(#clip272)\" cx=\"1296.64\" cy=\"619.384\" r=\"14.4\" fill=\"#ff0000\" fill-rule=\"evenodd\" fill-opacity=\"1\" stroke=\"#000000\" stroke-opacity=\"1\" stroke-width=\"3.2\"/>\n",
       "<circle clip-path=\"url(#clip272)\" cx=\"584.684\" cy=\"1162.43\" r=\"14.4\" fill=\"#ff0000\" fill-rule=\"evenodd\" fill-opacity=\"1\" stroke=\"#000000\" stroke-opacity=\"1\" stroke-width=\"3.2\"/>\n",
       "<circle clip-path=\"url(#clip272)\" cx=\"362.88\" cy=\"1331.61\" r=\"14.4\" fill=\"#ff0000\" fill-rule=\"evenodd\" fill-opacity=\"1\" stroke=\"#000000\" stroke-opacity=\"1\" stroke-width=\"3.2\"/>\n",
       "<circle clip-path=\"url(#clip272)\" cx=\"579.356\" cy=\"1166.49\" r=\"14.4\" fill=\"#ff0000\" fill-rule=\"evenodd\" fill-opacity=\"1\" stroke=\"#000000\" stroke-opacity=\"1\" stroke-width=\"3.2\"/>\n",
       "<circle clip-path=\"url(#clip272)\" cx=\"345.259\" cy=\"1345.05\" r=\"14.4\" fill=\"#ff0000\" fill-rule=\"evenodd\" fill-opacity=\"1\" stroke=\"#000000\" stroke-opacity=\"1\" stroke-width=\"3.2\"/>\n",
       "<circle clip-path=\"url(#clip272)\" cx=\"232.471\" cy=\"1431.08\" r=\"14.4\" fill=\"#ff0000\" fill-rule=\"evenodd\" fill-opacity=\"1\" stroke=\"#000000\" stroke-opacity=\"1\" stroke-width=\"3.2\"/>\n",
       "<circle clip-path=\"url(#clip272)\" cx=\"611.954\" cy=\"1141.63\" r=\"14.4\" fill=\"#ff0000\" fill-rule=\"evenodd\" fill-opacity=\"1\" stroke=\"#000000\" stroke-opacity=\"1\" stroke-width=\"3.2\"/>\n",
       "<circle clip-path=\"url(#clip272)\" cx=\"785.252\" cy=\"1009.45\" r=\"14.4\" fill=\"#ff0000\" fill-rule=\"evenodd\" fill-opacity=\"1\" stroke=\"#000000\" stroke-opacity=\"1\" stroke-width=\"3.2\"/>\n",
       "<circle clip-path=\"url(#clip272)\" cx=\"241.383\" cy=\"1424.28\" r=\"14.4\" fill=\"#ff0000\" fill-rule=\"evenodd\" fill-opacity=\"1\" stroke=\"#000000\" stroke-opacity=\"1\" stroke-width=\"3.2\"/>\n",
       "<circle clip-path=\"url(#clip272)\" cx=\"545.549\" cy=\"1192.28\" r=\"14.4\" fill=\"#ff0000\" fill-rule=\"evenodd\" fill-opacity=\"1\" stroke=\"#000000\" stroke-opacity=\"1\" stroke-width=\"3.2\"/>\n",
       "<circle clip-path=\"url(#clip272)\" cx=\"594.347\" cy=\"1155.06\" r=\"14.4\" fill=\"#ff0000\" fill-rule=\"evenodd\" fill-opacity=\"1\" stroke=\"#000000\" stroke-opacity=\"1\" stroke-width=\"3.2\"/>\n",
       "<circle clip-path=\"url(#clip272)\" cx=\"841.466\" cy=\"966.57\" r=\"14.4\" fill=\"#ff0000\" fill-rule=\"evenodd\" fill-opacity=\"1\" stroke=\"#000000\" stroke-opacity=\"1\" stroke-width=\"3.2\"/>\n",
       "<circle clip-path=\"url(#clip272)\" cx=\"313.922\" cy=\"1368.95\" r=\"14.4\" fill=\"#ff0000\" fill-rule=\"evenodd\" fill-opacity=\"1\" stroke=\"#000000\" stroke-opacity=\"1\" stroke-width=\"3.2\"/>\n",
       "<circle clip-path=\"url(#clip272)\" cx=\"985.527\" cy=\"856.688\" r=\"14.4\" fill=\"#ff0000\" fill-rule=\"evenodd\" fill-opacity=\"1\" stroke=\"#000000\" stroke-opacity=\"1\" stroke-width=\"3.2\"/>\n",
       "<circle clip-path=\"url(#clip272)\" cx=\"292.412\" cy=\"1385.36\" r=\"14.4\" fill=\"#ff0000\" fill-rule=\"evenodd\" fill-opacity=\"1\" stroke=\"#000000\" stroke-opacity=\"1\" stroke-width=\"3.2\"/>\n",
       "<circle clip-path=\"url(#clip272)\" cx=\"527.63\" cy=\"1205.95\" r=\"14.4\" fill=\"#ff0000\" fill-rule=\"evenodd\" fill-opacity=\"1\" stroke=\"#000000\" stroke-opacity=\"1\" stroke-width=\"3.2\"/>\n",
       "<circle clip-path=\"url(#clip272)\" cx=\"441.155\" cy=\"1271.91\" r=\"14.4\" fill=\"#ff0000\" fill-rule=\"evenodd\" fill-opacity=\"1\" stroke=\"#000000\" stroke-opacity=\"1\" stroke-width=\"3.2\"/>\n",
       "<circle clip-path=\"url(#clip272)\" cx=\"679.722\" cy=\"1089.94\" r=\"14.4\" fill=\"#ff0000\" fill-rule=\"evenodd\" fill-opacity=\"1\" stroke=\"#000000\" stroke-opacity=\"1\" stroke-width=\"3.2\"/>\n",
       "<circle clip-path=\"url(#clip272)\" cx=\"738.466\" cy=\"1045.13\" r=\"14.4\" fill=\"#ff0000\" fill-rule=\"evenodd\" fill-opacity=\"1\" stroke=\"#000000\" stroke-opacity=\"1\" stroke-width=\"3.2\"/>\n",
       "<circle clip-path=\"url(#clip272)\" cx=\"666.356\" cy=\"1100.13\" r=\"14.4\" fill=\"#ff0000\" fill-rule=\"evenodd\" fill-opacity=\"1\" stroke=\"#000000\" stroke-opacity=\"1\" stroke-width=\"3.2\"/>\n",
       "<circle clip-path=\"url(#clip272)\" cx=\"266.635\" cy=\"1405.02\" r=\"14.4\" fill=\"#ff0000\" fill-rule=\"evenodd\" fill-opacity=\"1\" stroke=\"#000000\" stroke-opacity=\"1\" stroke-width=\"3.2\"/>\n",
       "<circle clip-path=\"url(#clip272)\" cx=\"674.048\" cy=\"1094.27\" r=\"14.4\" fill=\"#ff0000\" fill-rule=\"evenodd\" fill-opacity=\"1\" stroke=\"#000000\" stroke-opacity=\"1\" stroke-width=\"3.2\"/>\n",
       "<circle clip-path=\"url(#clip272)\" cx=\"441.36\" cy=\"1271.75\" r=\"14.4\" fill=\"#ff0000\" fill-rule=\"evenodd\" fill-opacity=\"1\" stroke=\"#000000\" stroke-opacity=\"1\" stroke-width=\"3.2\"/>\n",
       "<circle clip-path=\"url(#clip272)\" cx=\"329.722\" cy=\"1356.9\" r=\"14.4\" fill=\"#ff0000\" fill-rule=\"evenodd\" fill-opacity=\"1\" stroke=\"#000000\" stroke-opacity=\"1\" stroke-width=\"3.2\"/>\n",
       "<circle clip-path=\"url(#clip272)\" cx=\"220.952\" cy=\"1439.87\" r=\"14.4\" fill=\"#ff0000\" fill-rule=\"evenodd\" fill-opacity=\"1\" stroke=\"#000000\" stroke-opacity=\"1\" stroke-width=\"3.2\"/>\n",
       "<circle clip-path=\"url(#clip272)\" cx=\"369.122\" cy=\"1326.85\" r=\"14.4\" fill=\"#ff0000\" fill-rule=\"evenodd\" fill-opacity=\"1\" stroke=\"#000000\" stroke-opacity=\"1\" stroke-width=\"3.2\"/>\n",
       "<circle clip-path=\"url(#clip272)\" cx=\"569.576\" cy=\"1173.95\" r=\"14.4\" fill=\"#ff0000\" fill-rule=\"evenodd\" fill-opacity=\"1\" stroke=\"#000000\" stroke-opacity=\"1\" stroke-width=\"3.2\"/>\n",
       "<circle clip-path=\"url(#clip272)\" cx=\"480.327\" cy=\"1242.03\" r=\"14.4\" fill=\"#ff0000\" fill-rule=\"evenodd\" fill-opacity=\"1\" stroke=\"#000000\" stroke-opacity=\"1\" stroke-width=\"3.2\"/>\n",
       "<circle clip-path=\"url(#clip272)\" cx=\"1227.93\" cy=\"671.795\" r=\"14.4\" fill=\"#ff0000\" fill-rule=\"evenodd\" fill-opacity=\"1\" stroke=\"#000000\" stroke-opacity=\"1\" stroke-width=\"3.2\"/>\n",
       "<circle clip-path=\"url(#clip272)\" cx=\"624.566\" cy=\"1132.01\" r=\"14.4\" fill=\"#ff0000\" fill-rule=\"evenodd\" fill-opacity=\"1\" stroke=\"#000000\" stroke-opacity=\"1\" stroke-width=\"3.2\"/>\n",
       "<circle clip-path=\"url(#clip272)\" cx=\"1262.87\" cy=\"645.145\" r=\"14.4\" fill=\"#ff0000\" fill-rule=\"evenodd\" fill-opacity=\"1\" stroke=\"#000000\" stroke-opacity=\"1\" stroke-width=\"3.2\"/>\n",
       "<circle clip-path=\"url(#clip272)\" cx=\"586.31\" cy=\"1161.19\" r=\"14.4\" fill=\"#ff0000\" fill-rule=\"evenodd\" fill-opacity=\"1\" stroke=\"#000000\" stroke-opacity=\"1\" stroke-width=\"3.2\"/>\n",
       "<circle clip-path=\"url(#clip272)\" cx=\"401.031\" cy=\"1302.51\" r=\"14.4\" fill=\"#ff0000\" fill-rule=\"evenodd\" fill-opacity=\"1\" stroke=\"#000000\" stroke-opacity=\"1\" stroke-width=\"3.2\"/>\n",
       "<circle clip-path=\"url(#clip272)\" cx=\"754.213\" cy=\"1033.12\" r=\"14.4\" fill=\"#ff0000\" fill-rule=\"evenodd\" fill-opacity=\"1\" stroke=\"#000000\" stroke-opacity=\"1\" stroke-width=\"3.2\"/>\n",
       "<circle clip-path=\"url(#clip272)\" cx=\"510.113\" cy=\"1219.31\" r=\"14.4\" fill=\"#ff0000\" fill-rule=\"evenodd\" fill-opacity=\"1\" stroke=\"#000000\" stroke-opacity=\"1\" stroke-width=\"3.2\"/>\n",
       "<circle clip-path=\"url(#clip272)\" cx=\"329.363\" cy=\"1357.17\" r=\"14.4\" fill=\"#ff0000\" fill-rule=\"evenodd\" fill-opacity=\"1\" stroke=\"#000000\" stroke-opacity=\"1\" stroke-width=\"3.2\"/>\n",
       "<circle clip-path=\"url(#clip272)\" cx=\"255.447\" cy=\"1413.55\" r=\"14.4\" fill=\"#ff0000\" fill-rule=\"evenodd\" fill-opacity=\"1\" stroke=\"#000000\" stroke-opacity=\"1\" stroke-width=\"3.2\"/>\n",
       "<circle clip-path=\"url(#clip272)\" cx=\"1038.39\" cy=\"816.363\" r=\"14.4\" fill=\"#ff0000\" fill-rule=\"evenodd\" fill-opacity=\"1\" stroke=\"#000000\" stroke-opacity=\"1\" stroke-width=\"3.2\"/>\n",
       "<circle clip-path=\"url(#clip272)\" cx=\"726.242\" cy=\"1054.46\" r=\"14.4\" fill=\"#ff0000\" fill-rule=\"evenodd\" fill-opacity=\"1\" stroke=\"#000000\" stroke-opacity=\"1\" stroke-width=\"3.2\"/>\n",
       "<circle clip-path=\"url(#clip272)\" cx=\"473.347\" cy=\"1247.35\" r=\"14.4\" fill=\"#ff0000\" fill-rule=\"evenodd\" fill-opacity=\"1\" stroke=\"#000000\" stroke-opacity=\"1\" stroke-width=\"3.2\"/>\n",
       "<circle clip-path=\"url(#clip272)\" cx=\"935.486\" cy=\"894.856\" r=\"14.4\" fill=\"#ff0000\" fill-rule=\"evenodd\" fill-opacity=\"1\" stroke=\"#000000\" stroke-opacity=\"1\" stroke-width=\"3.2\"/>\n",
       "<circle clip-path=\"url(#clip272)\" cx=\"485.606\" cy=\"1238\" r=\"14.4\" fill=\"#ff0000\" fill-rule=\"evenodd\" fill-opacity=\"1\" stroke=\"#000000\" stroke-opacity=\"1\" stroke-width=\"3.2\"/>\n",
       "<circle clip-path=\"url(#clip272)\" cx=\"502.803\" cy=\"1224.88\" r=\"14.4\" fill=\"#ff0000\" fill-rule=\"evenodd\" fill-opacity=\"1\" stroke=\"#000000\" stroke-opacity=\"1\" stroke-width=\"3.2\"/>\n",
       "<circle clip-path=\"url(#clip272)\" cx=\"285.824\" cy=\"1390.38\" r=\"14.4\" fill=\"#ff0000\" fill-rule=\"evenodd\" fill-opacity=\"1\" stroke=\"#000000\" stroke-opacity=\"1\" stroke-width=\"3.2\"/>\n",
       "<circle clip-path=\"url(#clip272)\" cx=\"537.984\" cy=\"1198.05\" r=\"14.4\" fill=\"#ff0000\" fill-rule=\"evenodd\" fill-opacity=\"1\" stroke=\"#000000\" stroke-opacity=\"1\" stroke-width=\"3.2\"/>\n",
       "<circle clip-path=\"url(#clip272)\" cx=\"720.848\" cy=\"1058.57\" r=\"14.4\" fill=\"#ff0000\" fill-rule=\"evenodd\" fill-opacity=\"1\" stroke=\"#000000\" stroke-opacity=\"1\" stroke-width=\"3.2\"/>\n",
       "<circle clip-path=\"url(#clip272)\" cx=\"1197.94\" cy=\"694.67\" r=\"14.4\" fill=\"#ff0000\" fill-rule=\"evenodd\" fill-opacity=\"1\" stroke=\"#000000\" stroke-opacity=\"1\" stroke-width=\"3.2\"/>\n",
       "<circle clip-path=\"url(#clip272)\" cx=\"834.149\" cy=\"972.151\" r=\"14.4\" fill=\"#ff0000\" fill-rule=\"evenodd\" fill-opacity=\"1\" stroke=\"#000000\" stroke-opacity=\"1\" stroke-width=\"3.2\"/>\n",
       "<circle clip-path=\"url(#clip272)\" cx=\"1391.96\" cy=\"546.679\" r=\"14.4\" fill=\"#0000ff\" fill-rule=\"evenodd\" fill-opacity=\"1\" stroke=\"#000000\" stroke-opacity=\"1\" stroke-width=\"3.2\"/>\n",
       "<circle clip-path=\"url(#clip272)\" cx=\"1371.21\" cy=\"593.919\" r=\"14.4\" fill=\"#0000ff\" fill-rule=\"evenodd\" fill-opacity=\"1\" stroke=\"#000000\" stroke-opacity=\"1\" stroke-width=\"3.2\"/>\n",
       "<circle clip-path=\"url(#clip272)\" cx=\"1384.55\" cy=\"552.335\" r=\"14.4\" fill=\"#0000ff\" fill-rule=\"evenodd\" fill-opacity=\"1\" stroke=\"#000000\" stroke-opacity=\"1\" stroke-width=\"3.2\"/>\n",
       "<circle clip-path=\"url(#clip272)\" cx=\"1418.41\" cy=\"526.516\" r=\"14.4\" fill=\"#0000ff\" fill-rule=\"evenodd\" fill-opacity=\"1\" stroke=\"#000000\" stroke-opacity=\"1\" stroke-width=\"3.2\"/>\n",
       "<circle clip-path=\"url(#clip272)\" cx=\"1432.79\" cy=\"515.536\" r=\"14.4\" fill=\"#0000ff\" fill-rule=\"evenodd\" fill-opacity=\"1\" stroke=\"#000000\" stroke-opacity=\"1\" stroke-width=\"3.2\"/>\n",
       "<circle clip-path=\"url(#clip272)\" cx=\"1311.46\" cy=\"608.079\" r=\"14.4\" fill=\"#0000ff\" fill-rule=\"evenodd\" fill-opacity=\"1\" stroke=\"#000000\" stroke-opacity=\"1\" stroke-width=\"3.2\"/>\n",
       "<circle clip-path=\"url(#clip272)\" cx=\"1300.89\" cy=\"616.282\" r=\"14.4\" fill=\"#0000ff\" fill-rule=\"evenodd\" fill-opacity=\"1\" stroke=\"#000000\" stroke-opacity=\"1\" stroke-width=\"3.2\"/>\n",
       "<circle clip-path=\"url(#clip272)\" cx=\"1407.94\" cy=\"534.706\" r=\"14.4\" fill=\"#0000ff\" fill-rule=\"evenodd\" fill-opacity=\"1\" stroke=\"#000000\" stroke-opacity=\"1\" stroke-width=\"3.2\"/>\n",
       "<circle clip-path=\"url(#clip272)\" cx=\"1378.26\" cy=\"599.863\" r=\"14.4\" fill=\"#0000ff\" fill-rule=\"evenodd\" fill-opacity=\"1\" stroke=\"#000000\" stroke-opacity=\"1\" stroke-width=\"3.2\"/>\n",
       "<circle clip-path=\"url(#clip272)\" cx=\"1345.52\" cy=\"581.84\" r=\"14.4\" fill=\"#0000ff\" fill-rule=\"evenodd\" fill-opacity=\"1\" stroke=\"#000000\" stroke-opacity=\"1\" stroke-width=\"3.2\"/>\n",
       "<circle clip-path=\"url(#clip272)\" cx=\"1346.81\" cy=\"581.119\" r=\"14.4\" fill=\"#0000ff\" fill-rule=\"evenodd\" fill-opacity=\"1\" stroke=\"#000000\" stroke-opacity=\"1\" stroke-width=\"3.2\"/>\n",
       "<circle clip-path=\"url(#clip272)\" cx=\"1344.83\" cy=\"582.335\" r=\"14.4\" fill=\"#0000ff\" fill-rule=\"evenodd\" fill-opacity=\"1\" stroke=\"#000000\" stroke-opacity=\"1\" stroke-width=\"3.2\"/>\n",
       "<circle clip-path=\"url(#clip272)\" cx=\"1452.93\" cy=\"500.179\" r=\"14.4\" fill=\"#0000ff\" fill-rule=\"evenodd\" fill-opacity=\"1\" stroke=\"#000000\" stroke-opacity=\"1\" stroke-width=\"3.2\"/>\n",
       "<circle clip-path=\"url(#clip272)\" cx=\"1392.82\" cy=\"546.028\" r=\"14.4\" fill=\"#0000ff\" fill-rule=\"evenodd\" fill-opacity=\"1\" stroke=\"#000000\" stroke-opacity=\"1\" stroke-width=\"3.2\"/>\n",
       "<circle clip-path=\"url(#clip272)\" cx=\"1327.14\" cy=\"596.145\" r=\"14.4\" fill=\"#0000ff\" fill-rule=\"evenodd\" fill-opacity=\"1\" stroke=\"#000000\" stroke-opacity=\"1\" stroke-width=\"3.2\"/>\n",
       "<circle clip-path=\"url(#clip272)\" cx=\"1311.83\" cy=\"608.908\" r=\"14.4\" fill=\"#0000ff\" fill-rule=\"evenodd\" fill-opacity=\"1\" stroke=\"#000000\" stroke-opacity=\"1\" stroke-width=\"3.2\"/>\n",
       "<circle clip-path=\"url(#clip272)\" cx=\"1302.35\" cy=\"615.148\" r=\"14.4\" fill=\"#0000ff\" fill-rule=\"evenodd\" fill-opacity=\"1\" stroke=\"#000000\" stroke-opacity=\"1\" stroke-width=\"3.2\"/>\n",
       "<circle clip-path=\"url(#clip272)\" cx=\"1408.42\" cy=\"534.127\" r=\"14.4\" fill=\"#0000ff\" fill-rule=\"evenodd\" fill-opacity=\"1\" stroke=\"#000000\" stroke-opacity=\"1\" stroke-width=\"3.2\"/>\n",
       "<circle clip-path=\"url(#clip272)\" cx=\"1596.08\" cy=\"603.418\" r=\"14.4\" fill=\"#0000ff\" fill-rule=\"evenodd\" fill-opacity=\"1\" stroke=\"#000000\" stroke-opacity=\"1\" stroke-width=\"3.2\"/>\n",
       "<circle clip-path=\"url(#clip272)\" cx=\"1317.81\" cy=\"603.237\" r=\"14.4\" fill=\"#0000ff\" fill-rule=\"evenodd\" fill-opacity=\"1\" stroke=\"#000000\" stroke-opacity=\"1\" stroke-width=\"3.2\"/>\n",
       "<circle clip-path=\"url(#clip272)\" cx=\"1381.67\" cy=\"601.504\" r=\"14.4\" fill=\"#0000ff\" fill-rule=\"evenodd\" fill-opacity=\"1\" stroke=\"#000000\" stroke-opacity=\"1\" stroke-width=\"3.2\"/>\n",
       "<circle clip-path=\"url(#clip272)\" cx=\"1404.26\" cy=\"537.302\" r=\"14.4\" fill=\"#0000ff\" fill-rule=\"evenodd\" fill-opacity=\"1\" stroke=\"#000000\" stroke-opacity=\"1\" stroke-width=\"3.2\"/>\n",
       "<circle clip-path=\"url(#clip272)\" cx=\"2183.1\" cy=\"586.36\" r=\"14.4\" fill=\"#0000ff\" fill-rule=\"evenodd\" fill-opacity=\"1\" stroke=\"#000000\" stroke-opacity=\"1\" stroke-width=\"3.2\"/>\n",
       "<circle clip-path=\"url(#clip272)\" cx=\"1358.96\" cy=\"571.856\" r=\"14.4\" fill=\"#0000ff\" fill-rule=\"evenodd\" fill-opacity=\"1\" stroke=\"#000000\" stroke-opacity=\"1\" stroke-width=\"3.2\"/>\n",
       "<circle clip-path=\"url(#clip272)\" cx=\"1810.57\" cy=\"601.706\" r=\"14.4\" fill=\"#0000ff\" fill-rule=\"evenodd\" fill-opacity=\"1\" stroke=\"#000000\" stroke-opacity=\"1\" stroke-width=\"3.2\"/>\n",
       "<circle clip-path=\"url(#clip272)\" cx=\"1391.76\" cy=\"546.833\" r=\"14.4\" fill=\"#0000ff\" fill-rule=\"evenodd\" fill-opacity=\"1\" stroke=\"#000000\" stroke-opacity=\"1\" stroke-width=\"3.2\"/>\n",
       "<circle clip-path=\"url(#clip272)\" cx=\"1575.37\" cy=\"602.09\" r=\"14.4\" fill=\"#0000ff\" fill-rule=\"evenodd\" fill-opacity=\"1\" stroke=\"#000000\" stroke-opacity=\"1\" stroke-width=\"3.2\"/>\n",
       "<circle clip-path=\"url(#clip272)\" cx=\"1321.75\" cy=\"600.233\" r=\"14.4\" fill=\"#0000ff\" fill-rule=\"evenodd\" fill-opacity=\"1\" stroke=\"#000000\" stroke-opacity=\"1\" stroke-width=\"3.2\"/>\n",
       "<circle clip-path=\"url(#clip272)\" cx=\"1355.95\" cy=\"571.358\" r=\"14.4\" fill=\"#0000ff\" fill-rule=\"evenodd\" fill-opacity=\"1\" stroke=\"#000000\" stroke-opacity=\"1\" stroke-width=\"3.2\"/>\n",
       "<circle clip-path=\"url(#clip272)\" cx=\"1369.57\" cy=\"563.758\" r=\"14.4\" fill=\"#0000ff\" fill-rule=\"evenodd\" fill-opacity=\"1\" stroke=\"#000000\" stroke-opacity=\"1\" stroke-width=\"3.2\"/>\n",
       "<circle clip-path=\"url(#clip272)\" cx=\"1390.86\" cy=\"547.524\" r=\"14.4\" fill=\"#0000ff\" fill-rule=\"evenodd\" fill-opacity=\"1\" stroke=\"#000000\" stroke-opacity=\"1\" stroke-width=\"3.2\"/>\n",
       "<circle clip-path=\"url(#clip272)\" cx=\"1358.98\" cy=\"571.841\" r=\"14.4\" fill=\"#0000ff\" fill-rule=\"evenodd\" fill-opacity=\"1\" stroke=\"#000000\" stroke-opacity=\"1\" stroke-width=\"3.2\"/>\n",
       "<circle clip-path=\"url(#clip272)\" cx=\"1331.9\" cy=\"594.947\" r=\"14.4\" fill=\"#0000ff\" fill-rule=\"evenodd\" fill-opacity=\"1\" stroke=\"#000000\" stroke-opacity=\"1\" stroke-width=\"3.2\"/>\n",
       "<circle clip-path=\"url(#clip272)\" cx=\"2002.14\" cy=\"610.612\" r=\"14.4\" fill=\"#0000ff\" fill-rule=\"evenodd\" fill-opacity=\"1\" stroke=\"#000000\" stroke-opacity=\"1\" stroke-width=\"3.2\"/>\n",
       "<circle clip-path=\"url(#clip272)\" cx=\"1348.08\" cy=\"580.152\" r=\"14.4\" fill=\"#0000ff\" fill-rule=\"evenodd\" fill-opacity=\"1\" stroke=\"#000000\" stroke-opacity=\"1\" stroke-width=\"3.2\"/>\n",
       "<circle clip-path=\"url(#clip272)\" cx=\"1649.68\" cy=\"615.349\" r=\"14.4\" fill=\"#0000ff\" fill-rule=\"evenodd\" fill-opacity=\"1\" stroke=\"#000000\" stroke-opacity=\"1\" stroke-width=\"3.2\"/>\n",
       "<circle clip-path=\"url(#clip272)\" cx=\"1370.92\" cy=\"562.73\" r=\"14.4\" fill=\"#0000ff\" fill-rule=\"evenodd\" fill-opacity=\"1\" stroke=\"#000000\" stroke-opacity=\"1\" stroke-width=\"3.2\"/>\n",
       "<circle clip-path=\"url(#clip272)\" cx=\"1347.14\" cy=\"580.867\" r=\"14.4\" fill=\"#0000ff\" fill-rule=\"evenodd\" fill-opacity=\"1\" stroke=\"#000000\" stroke-opacity=\"1\" stroke-width=\"3.2\"/>\n",
       "<circle clip-path=\"url(#clip272)\" cx=\"1449.5\" cy=\"502.794\" r=\"14.4\" fill=\"#0000ff\" fill-rule=\"evenodd\" fill-opacity=\"1\" stroke=\"#000000\" stroke-opacity=\"1\" stroke-width=\"3.2\"/>\n",
       "<circle clip-path=\"url(#clip272)\" cx=\"1414.22\" cy=\"529.703\" r=\"14.4\" fill=\"#0000ff\" fill-rule=\"evenodd\" fill-opacity=\"1\" stroke=\"#000000\" stroke-opacity=\"1\" stroke-width=\"3.2\"/>\n",
       "<circle clip-path=\"url(#clip272)\" cx=\"1371.11\" cy=\"562.572\" r=\"14.4\" fill=\"#0000ff\" fill-rule=\"evenodd\" fill-opacity=\"1\" stroke=\"#000000\" stroke-opacity=\"1\" stroke-width=\"3.2\"/>\n",
       "<circle clip-path=\"url(#clip272)\" cx=\"1370.65\" cy=\"542.15\" r=\"14.4\" fill=\"#0000ff\" fill-rule=\"evenodd\" fill-opacity=\"1\" stroke=\"#000000\" stroke-opacity=\"1\" stroke-width=\"3.2\"/>\n",
       "<circle clip-path=\"url(#clip272)\" cx=\"2125.67\" cy=\"602.481\" r=\"14.4\" fill=\"#0000ff\" fill-rule=\"evenodd\" fill-opacity=\"1\" stroke=\"#000000\" stroke-opacity=\"1\" stroke-width=\"3.2\"/>\n",
       "<circle clip-path=\"url(#clip272)\" cx=\"1428.54\" cy=\"518.783\" r=\"14.4\" fill=\"#0000ff\" fill-rule=\"evenodd\" fill-opacity=\"1\" stroke=\"#000000\" stroke-opacity=\"1\" stroke-width=\"3.2\"/>\n",
       "<circle clip-path=\"url(#clip272)\" cx=\"1373.78\" cy=\"560.548\" r=\"14.4\" fill=\"#0000ff\" fill-rule=\"evenodd\" fill-opacity=\"1\" stroke=\"#000000\" stroke-opacity=\"1\" stroke-width=\"3.2\"/>\n",
       "<circle clip-path=\"url(#clip272)\" cx=\"1419.61\" cy=\"314.052\" r=\"14.4\" fill=\"#0000ff\" fill-rule=\"evenodd\" fill-opacity=\"1\" stroke=\"#000000\" stroke-opacity=\"1\" stroke-width=\"3.2\"/>\n",
       "<circle clip-path=\"url(#clip272)\" cx=\"1789.98\" cy=\"616.24\" r=\"14.4\" fill=\"#0000ff\" fill-rule=\"evenodd\" fill-opacity=\"1\" stroke=\"#000000\" stroke-opacity=\"1\" stroke-width=\"3.2\"/>\n",
       "<circle clip-path=\"url(#clip272)\" cx=\"1465.47\" cy=\"579.328\" r=\"14.4\" fill=\"#0000ff\" fill-rule=\"evenodd\" fill-opacity=\"1\" stroke=\"#000000\" stroke-opacity=\"1\" stroke-width=\"3.2\"/>\n",
       "<circle clip-path=\"url(#clip272)\" cx=\"1387.19\" cy=\"519.423\" r=\"14.4\" fill=\"#0000ff\" fill-rule=\"evenodd\" fill-opacity=\"1\" stroke=\"#000000\" stroke-opacity=\"1\" stroke-width=\"3.2\"/>\n",
       "<circle clip-path=\"url(#clip272)\" cx=\"1438.57\" cy=\"162.047\" r=\"14.4\" fill=\"#0000ff\" fill-rule=\"evenodd\" fill-opacity=\"1\" stroke=\"#000000\" stroke-opacity=\"1\" stroke-width=\"3.2\"/>\n",
       "<circle clip-path=\"url(#clip272)\" cx=\"2290.36\" cy=\"587.362\" r=\"14.4\" fill=\"#0000ff\" fill-rule=\"evenodd\" fill-opacity=\"1\" stroke=\"#000000\" stroke-opacity=\"1\" stroke-width=\"3.2\"/>\n",
       "</svg>\n"
      ]
     },
     "execution_count": 21,
     "metadata": {},
     "output_type": "execute_result"
    }
   ],
   "source": [
    "scatter( map(x->x[1],points_projection) , map(x->x[2],points_projection) , markercolor= map(x->x[3],points) , title=\"projected\" , legend=false )"
   ]
  },
  {
   "cell_type": "code",
   "execution_count": null,
   "metadata": {},
   "outputs": [],
   "source": []
  },
  {
   "cell_type": "code",
   "execution_count": 22,
   "metadata": {},
   "outputs": [
    {
     "data": {
      "text/plain": [
       "2-element Vector{Float64}:\n",
       " -2.1519983227579145\n",
       " -2.151998324983395"
      ]
     },
     "execution_count": 22,
     "metadata": {},
     "output_type": "execute_result"
    }
   ],
   "source": [
    "point_new_high_Dim = phi_vecs' * Point2HigherDim( point_new , points ) "
   ]
  },
  {
   "cell_type": "code",
   "execution_count": 23,
   "metadata": {},
   "outputs": [
    {
     "data": {
      "image/svg+xml": [
       "<?xml version=\"1.0\" encoding=\"utf-8\"?>\n",
       "<svg xmlns=\"http://www.w3.org/2000/svg\" xmlns:xlink=\"http://www.w3.org/1999/xlink\" width=\"600\" height=\"400\" viewBox=\"0 0 2400 1600\">\n",
       "<defs>\n",
       "  <clipPath id=\"clip310\">\n",
       "    <rect x=\"0\" y=\"0\" width=\"2400\" height=\"1600\"/>\n",
       "  </clipPath>\n",
       "</defs>\n",
       "<path clip-path=\"url(#clip310)\" d=\"M0 1600 L2400 1600 L2400 0 L0 0  Z\" fill=\"#ffffff\" fill-rule=\"evenodd\" fill-opacity=\"1\"/>\n",
       "<defs>\n",
       "  <clipPath id=\"clip311\">\n",
       "    <rect x=\"480\" y=\"0\" width=\"1681\" height=\"1600\"/>\n",
       "  </clipPath>\n",
       "</defs>\n",
       "<path clip-path=\"url(#clip310)\" d=\"M148.057 1486.45 L2352.76 1486.45 L2352.76 123.472 L148.057 123.472  Z\" fill=\"#ffffff\" fill-rule=\"evenodd\" fill-opacity=\"1\"/>\n",
       "<defs>\n",
       "  <clipPath id=\"clip312\">\n",
       "    <rect x=\"148\" y=\"123\" width=\"2206\" height=\"1364\"/>\n",
       "  </clipPath>\n",
       "</defs>\n",
       "<polyline clip-path=\"url(#clip312)\" style=\"stroke:#000000; stroke-linecap:round; stroke-linejoin:round; stroke-width:2; stroke-opacity:0.1; fill:none\" points=\"267.133,1486.45 267.133,123.472 \"/>\n",
       "<polyline clip-path=\"url(#clip312)\" style=\"stroke:#000000; stroke-linecap:round; stroke-linejoin:round; stroke-width:2; stroke-opacity:0.1; fill:none\" points=\"678.315,1486.45 678.315,123.472 \"/>\n",
       "<polyline clip-path=\"url(#clip312)\" style=\"stroke:#000000; stroke-linecap:round; stroke-linejoin:round; stroke-width:2; stroke-opacity:0.1; fill:none\" points=\"1089.5,1486.45 1089.5,123.472 \"/>\n",
       "<polyline clip-path=\"url(#clip312)\" style=\"stroke:#000000; stroke-linecap:round; stroke-linejoin:round; stroke-width:2; stroke-opacity:0.1; fill:none\" points=\"1500.68,1486.45 1500.68,123.472 \"/>\n",
       "<polyline clip-path=\"url(#clip312)\" style=\"stroke:#000000; stroke-linecap:round; stroke-linejoin:round; stroke-width:2; stroke-opacity:0.1; fill:none\" points=\"1911.86,1486.45 1911.86,123.472 \"/>\n",
       "<polyline clip-path=\"url(#clip312)\" style=\"stroke:#000000; stroke-linecap:round; stroke-linejoin:round; stroke-width:2; stroke-opacity:0.1; fill:none\" points=\"2323.05,1486.45 2323.05,123.472 \"/>\n",
       "<polyline clip-path=\"url(#clip310)\" style=\"stroke:#000000; stroke-linecap:round; stroke-linejoin:round; stroke-width:4; stroke-opacity:1; fill:none\" points=\"148.057,1486.45 2352.76,1486.45 \"/>\n",
       "<polyline clip-path=\"url(#clip310)\" style=\"stroke:#000000; stroke-linecap:round; stroke-linejoin:round; stroke-width:4; stroke-opacity:1; fill:none\" points=\"267.133,1486.45 267.133,1467.55 \"/>\n",
       "<polyline clip-path=\"url(#clip310)\" style=\"stroke:#000000; stroke-linecap:round; stroke-linejoin:round; stroke-width:4; stroke-opacity:1; fill:none\" points=\"678.315,1486.45 678.315,1467.55 \"/>\n",
       "<polyline clip-path=\"url(#clip310)\" style=\"stroke:#000000; stroke-linecap:round; stroke-linejoin:round; stroke-width:4; stroke-opacity:1; fill:none\" points=\"1089.5,1486.45 1089.5,1467.55 \"/>\n",
       "<polyline clip-path=\"url(#clip310)\" style=\"stroke:#000000; stroke-linecap:round; stroke-linejoin:round; stroke-width:4; stroke-opacity:1; fill:none\" points=\"1500.68,1486.45 1500.68,1467.55 \"/>\n",
       "<polyline clip-path=\"url(#clip310)\" style=\"stroke:#000000; stroke-linecap:round; stroke-linejoin:round; stroke-width:4; stroke-opacity:1; fill:none\" points=\"1911.86,1486.45 1911.86,1467.55 \"/>\n",
       "<polyline clip-path=\"url(#clip310)\" style=\"stroke:#000000; stroke-linecap:round; stroke-linejoin:round; stroke-width:4; stroke-opacity:1; fill:none\" points=\"2323.05,1486.45 2323.05,1467.55 \"/>\n",
       "<path clip-path=\"url(#clip310)\" d=\"M236.6 1532.02 L266.276 1532.02 L266.276 1535.95 L236.6 1535.95 L236.6 1532.02 Z\" fill=\"#000000\" fill-rule=\"evenodd\" fill-opacity=\"1\" /><path clip-path=\"url(#clip310)\" d=\"M290.535 1530.21 Q293.892 1530.93 295.767 1533.2 Q297.665 1535.47 297.665 1538.8 Q297.665 1543.92 294.146 1546.72 Q290.628 1549.52 284.147 1549.52 Q281.971 1549.52 279.656 1549.08 Q277.364 1548.66 274.91 1547.81 L274.91 1543.29 Q276.855 1544.43 279.17 1545.01 Q281.485 1545.58 284.008 1545.58 Q288.406 1545.58 290.697 1543.85 Q293.012 1542.11 293.012 1538.8 Q293.012 1535.75 290.859 1534.03 Q288.73 1532.3 284.91 1532.3 L280.883 1532.3 L280.883 1528.45 L285.096 1528.45 Q288.545 1528.45 290.373 1527.09 Q292.202 1525.7 292.202 1523.11 Q292.202 1520.45 290.304 1519.03 Q288.429 1517.6 284.91 1517.6 Q282.989 1517.6 280.79 1518.01 Q278.591 1518.43 275.952 1519.31 L275.952 1515.14 Q278.614 1514.4 280.929 1514.03 Q283.267 1513.66 285.327 1513.66 Q290.651 1513.66 293.753 1516.09 Q296.855 1518.5 296.855 1522.62 Q296.855 1525.49 295.211 1527.48 Q293.568 1529.45 290.535 1530.21 Z\" fill=\"#000000\" fill-rule=\"evenodd\" fill-opacity=\"1\" /><path clip-path=\"url(#clip310)\" d=\"M648.258 1532.02 L677.933 1532.02 L677.933 1535.95 L648.258 1535.95 L648.258 1532.02 Z\" fill=\"#000000\" fill-rule=\"evenodd\" fill-opacity=\"1\" /><path clip-path=\"url(#clip310)\" d=\"M692.054 1544.91 L708.373 1544.91 L708.373 1548.85 L686.429 1548.85 L686.429 1544.91 Q689.091 1542.16 693.674 1537.53 Q698.28 1532.88 699.461 1531.53 Q701.706 1529.01 702.586 1527.27 Q703.489 1525.51 703.489 1523.82 Q703.489 1521.07 701.544 1519.33 Q699.623 1517.6 696.521 1517.6 Q694.322 1517.6 691.868 1518.36 Q689.438 1519.13 686.66 1520.68 L686.66 1515.95 Q689.484 1514.82 691.938 1514.24 Q694.392 1513.66 696.429 1513.66 Q701.799 1513.66 704.993 1516.35 Q708.188 1519.03 708.188 1523.52 Q708.188 1525.65 707.378 1527.57 Q706.591 1529.47 704.484 1532.07 Q703.905 1532.74 700.804 1535.95 Q697.702 1539.15 692.054 1544.91 Z\" fill=\"#000000\" fill-rule=\"evenodd\" fill-opacity=\"1\" /><path clip-path=\"url(#clip310)\" d=\"M1059.25 1532.02 L1088.93 1532.02 L1088.93 1535.95 L1059.25 1535.95 L1059.25 1532.02 Z\" fill=\"#000000\" fill-rule=\"evenodd\" fill-opacity=\"1\" /><path clip-path=\"url(#clip310)\" d=\"M1099.83 1544.91 L1107.47 1544.91 L1107.47 1518.55 L1099.16 1520.21 L1099.16 1515.95 L1107.43 1514.29 L1112.1 1514.29 L1112.1 1544.91 L1119.74 1544.91 L1119.74 1548.85 L1099.83 1548.85 L1099.83 1544.91 Z\" fill=\"#000000\" fill-rule=\"evenodd\" fill-opacity=\"1\" /><path clip-path=\"url(#clip310)\" d=\"M1500.68 1517.37 Q1497.07 1517.37 1495.24 1520.93 Q1493.43 1524.47 1493.43 1531.6 Q1493.43 1538.71 1495.24 1542.27 Q1497.07 1545.82 1500.68 1545.82 Q1504.31 1545.82 1506.12 1542.27 Q1507.95 1538.71 1507.95 1531.6 Q1507.95 1524.47 1506.12 1520.93 Q1504.31 1517.37 1500.68 1517.37 M1500.68 1513.66 Q1506.49 1513.66 1509.55 1518.27 Q1512.62 1522.85 1512.62 1531.6 Q1512.62 1540.33 1509.55 1544.94 Q1506.49 1549.52 1500.68 1549.52 Q1494.87 1549.52 1491.79 1544.94 Q1488.74 1540.33 1488.74 1531.6 Q1488.74 1522.85 1491.79 1518.27 Q1494.87 1513.66 1500.68 1513.66 Z\" fill=\"#000000\" fill-rule=\"evenodd\" fill-opacity=\"1\" /><path clip-path=\"url(#clip310)\" d=\"M1902.24 1544.91 L1909.88 1544.91 L1909.88 1518.55 L1901.57 1520.21 L1901.57 1515.95 L1909.84 1514.29 L1914.51 1514.29 L1914.51 1544.91 L1922.15 1544.91 L1922.15 1548.85 L1902.24 1548.85 L1902.24 1544.91 Z\" fill=\"#000000\" fill-rule=\"evenodd\" fill-opacity=\"1\" /><path clip-path=\"url(#clip310)\" d=\"M2317.7 1544.91 L2334.02 1544.91 L2334.02 1548.85 L2312.07 1548.85 L2312.07 1544.91 Q2314.74 1542.16 2319.32 1537.53 Q2323.92 1532.88 2325.11 1531.53 Q2327.35 1529.01 2328.23 1527.27 Q2329.13 1525.51 2329.13 1523.82 Q2329.13 1521.07 2327.19 1519.33 Q2325.27 1517.6 2322.17 1517.6 Q2319.97 1517.6 2317.51 1518.36 Q2315.08 1519.13 2312.3 1520.68 L2312.3 1515.95 Q2315.13 1514.82 2317.58 1514.24 Q2320.04 1513.66 2322.07 1513.66 Q2327.44 1513.66 2330.64 1516.35 Q2333.83 1519.03 2333.83 1523.52 Q2333.83 1525.65 2333.02 1527.57 Q2332.24 1529.47 2330.13 1532.07 Q2329.55 1532.74 2326.45 1535.95 Q2323.35 1539.15 2317.7 1544.91 Z\" fill=\"#000000\" fill-rule=\"evenodd\" fill-opacity=\"1\" /><polyline clip-path=\"url(#clip312)\" style=\"stroke:#000000; stroke-linecap:round; stroke-linejoin:round; stroke-width:2; stroke-opacity:0.1; fill:none\" points=\"148.057,1404.64 2352.76,1404.64 \"/>\n",
       "<polyline clip-path=\"url(#clip312)\" style=\"stroke:#000000; stroke-linecap:round; stroke-linejoin:round; stroke-width:2; stroke-opacity:0.1; fill:none\" points=\"148.057,1091.01 2352.76,1091.01 \"/>\n",
       "<polyline clip-path=\"url(#clip312)\" style=\"stroke:#000000; stroke-linecap:round; stroke-linejoin:round; stroke-width:2; stroke-opacity:0.1; fill:none\" points=\"148.057,777.384 2352.76,777.384 \"/>\n",
       "<polyline clip-path=\"url(#clip312)\" style=\"stroke:#000000; stroke-linecap:round; stroke-linejoin:round; stroke-width:2; stroke-opacity:0.1; fill:none\" points=\"148.057,463.755 2352.76,463.755 \"/>\n",
       "<polyline clip-path=\"url(#clip312)\" style=\"stroke:#000000; stroke-linecap:round; stroke-linejoin:round; stroke-width:2; stroke-opacity:0.1; fill:none\" points=\"148.057,150.127 2352.76,150.127 \"/>\n",
       "<polyline clip-path=\"url(#clip310)\" style=\"stroke:#000000; stroke-linecap:round; stroke-linejoin:round; stroke-width:4; stroke-opacity:1; fill:none\" points=\"148.057,1486.45 148.057,123.472 \"/>\n",
       "<polyline clip-path=\"url(#clip310)\" style=\"stroke:#000000; stroke-linecap:round; stroke-linejoin:round; stroke-width:4; stroke-opacity:1; fill:none\" points=\"148.057,1404.64 166.954,1404.64 \"/>\n",
       "<polyline clip-path=\"url(#clip310)\" style=\"stroke:#000000; stroke-linecap:round; stroke-linejoin:round; stroke-width:4; stroke-opacity:1; fill:none\" points=\"148.057,1091.01 166.954,1091.01 \"/>\n",
       "<polyline clip-path=\"url(#clip310)\" style=\"stroke:#000000; stroke-linecap:round; stroke-linejoin:round; stroke-width:4; stroke-opacity:1; fill:none\" points=\"148.057,777.384 166.954,777.384 \"/>\n",
       "<polyline clip-path=\"url(#clip310)\" style=\"stroke:#000000; stroke-linecap:round; stroke-linejoin:round; stroke-width:4; stroke-opacity:1; fill:none\" points=\"148.057,463.755 166.954,463.755 \"/>\n",
       "<polyline clip-path=\"url(#clip310)\" style=\"stroke:#000000; stroke-linecap:round; stroke-linejoin:round; stroke-width:4; stroke-opacity:1; fill:none\" points=\"148.057,150.127 166.954,150.127 \"/>\n",
       "<path clip-path=\"url(#clip310)\" d=\"M50.9921 1405.09 L80.6679 1405.09 L80.6679 1409.03 L50.9921 1409.03 L50.9921 1405.09 Z\" fill=\"#000000\" fill-rule=\"evenodd\" fill-opacity=\"1\" /><path clip-path=\"url(#clip310)\" d=\"M104.927 1403.29 Q108.283 1404 110.158 1406.27 Q112.057 1408.54 112.057 1411.88 Q112.057 1416.99 108.538 1419.79 Q105.02 1422.59 98.5382 1422.59 Q96.3623 1422.59 94.0475 1422.15 Q91.7558 1421.74 89.3021 1420.88 L89.3021 1416.37 Q91.2465 1417.5 93.5613 1418.08 Q95.8761 1418.66 98.3993 1418.66 Q102.797 1418.66 105.089 1416.92 Q107.404 1415.19 107.404 1411.88 Q107.404 1408.82 105.251 1407.11 Q103.121 1405.37 99.3021 1405.37 L95.2743 1405.37 L95.2743 1401.53 L99.4872 1401.53 Q102.936 1401.53 104.765 1400.16 Q106.594 1398.77 106.594 1396.18 Q106.594 1393.52 104.696 1392.11 Q102.821 1390.67 99.3021 1390.67 Q97.3808 1390.67 95.1817 1391.09 Q92.9826 1391.5 90.3438 1392.38 L90.3438 1388.22 Q93.0058 1387.48 95.3206 1387.11 Q97.6585 1386.74 99.7187 1386.74 Q105.043 1386.74 108.145 1389.17 Q111.246 1391.57 111.246 1395.69 Q111.246 1398.56 109.603 1400.56 Q107.959 1402.52 104.927 1403.29 Z\" fill=\"#000000\" fill-rule=\"evenodd\" fill-opacity=\"1\" /><path clip-path=\"url(#clip310)\" d=\"M51.9412 1091.46 L81.617 1091.46 L81.617 1095.4 L51.9412 1095.4 L51.9412 1091.46 Z\" fill=\"#000000\" fill-rule=\"evenodd\" fill-opacity=\"1\" /><path clip-path=\"url(#clip310)\" d=\"M95.7373 1104.36 L112.057 1104.36 L112.057 1108.29 L90.1123 1108.29 L90.1123 1104.36 Q92.7743 1101.6 97.3576 1096.97 Q101.964 1092.32 103.145 1090.98 Q105.39 1088.45 106.27 1086.72 Q107.172 1084.96 107.172 1083.27 Q107.172 1080.52 105.228 1078.78 Q103.307 1077.04 100.205 1077.04 Q98.0058 1077.04 95.5521 1077.81 Q93.1215 1078.57 90.3438 1080.12 L90.3438 1075.4 Q93.1678 1074.27 95.6215 1073.69 Q98.0752 1073.11 100.112 1073.11 Q105.483 1073.11 108.677 1075.79 Q111.871 1078.48 111.871 1082.97 Q111.871 1085.1 111.061 1087.02 Q110.274 1088.92 108.168 1091.51 Q107.589 1092.18 104.487 1095.4 Q101.385 1098.59 95.7373 1104.36 Z\" fill=\"#000000\" fill-rule=\"evenodd\" fill-opacity=\"1\" /><path clip-path=\"url(#clip310)\" d=\"M51.5708 777.835 L81.2466 777.835 L81.2466 781.771 L51.5708 781.771 L51.5708 777.835 Z\" fill=\"#000000\" fill-rule=\"evenodd\" fill-opacity=\"1\" /><path clip-path=\"url(#clip310)\" d=\"M92.1493 790.729 L99.7882 790.729 L99.7882 764.363 L91.478 766.03 L91.478 761.771 L99.7419 760.104 L104.418 760.104 L104.418 790.729 L112.057 790.729 L112.057 794.664 L92.1493 794.664 L92.1493 790.729 Z\" fill=\"#000000\" fill-rule=\"evenodd\" fill-opacity=\"1\" /><path clip-path=\"url(#clip310)\" d=\"M100.112 449.554 Q96.5011 449.554 94.6724 453.119 Q92.8669 456.66 92.8669 463.79 Q92.8669 470.896 94.6724 474.461 Q96.5011 478.003 100.112 478.003 Q103.746 478.003 105.552 474.461 Q107.381 470.896 107.381 463.79 Q107.381 456.66 105.552 453.119 Q103.746 449.554 100.112 449.554 M100.112 445.85 Q105.922 445.85 108.978 450.457 Q112.057 455.04 112.057 463.79 Q112.057 472.517 108.978 477.123 Q105.922 481.707 100.112 481.707 Q94.3021 481.707 91.2234 477.123 Q88.1679 472.517 88.1679 463.79 Q88.1679 455.04 91.2234 450.457 Q94.3021 445.85 100.112 445.85 Z\" fill=\"#000000\" fill-rule=\"evenodd\" fill-opacity=\"1\" /><path clip-path=\"url(#clip310)\" d=\"M92.1493 163.471 L99.7882 163.471 L99.7882 137.106 L91.478 138.773 L91.478 134.513 L99.7419 132.847 L104.418 132.847 L104.418 163.471 L112.057 163.471 L112.057 167.407 L92.1493 167.407 L92.1493 163.471 Z\" fill=\"#000000\" fill-rule=\"evenodd\" fill-opacity=\"1\" /><path clip-path=\"url(#clip310)\" d=\"M1069.61 65.7705 L1069.61 89.8329 L1062.12 89.8329 L1062.12 27.2059 L1069.61 27.2059 L1069.61 34.0924 Q1071.96 30.0415 1075.53 28.0971 Q1079.13 26.1121 1084.12 26.1121 Q1092.38 26.1121 1097.53 32.6746 Q1102.71 39.2371 1102.71 49.9314 Q1102.71 60.6258 1097.53 67.1883 Q1092.38 73.7508 1084.12 73.7508 Q1079.13 73.7508 1075.53 71.8063 Q1071.96 69.8214 1069.61 65.7705 M1094.97 49.9314 Q1094.97 41.7081 1091.57 37.0496 Q1088.21 32.3505 1082.29 32.3505 Q1076.38 32.3505 1072.98 37.0496 Q1069.61 41.7081 1069.61 49.9314 Q1069.61 58.1548 1072.98 62.8538 Q1076.38 67.5124 1082.29 67.5124 Q1088.21 67.5124 1091.57 62.8538 Q1094.97 58.1548 1094.97 49.9314 Z\" fill=\"#000000\" fill-rule=\"evenodd\" fill-opacity=\"1\" /><path clip-path=\"url(#clip310)\" d=\"M1141.36 34.1734 Q1140.1 33.4443 1138.6 33.1202 Q1137.14 32.7556 1135.36 32.7556 Q1129.04 32.7556 1125.64 36.8875 Q1122.28 40.9789 1122.28 48.6757 L1122.28 72.576 L1114.78 72.576 L1114.78 27.2059 L1122.28 27.2059 L1122.28 34.2544 Q1124.63 30.1225 1128.39 28.1376 Q1132.16 26.1121 1137.55 26.1121 Q1138.32 26.1121 1139.25 26.2337 Q1140.18 26.3147 1141.32 26.5172 L1141.36 34.1734 Z\" fill=\"#000000\" fill-rule=\"evenodd\" fill-opacity=\"1\" /><path clip-path=\"url(#clip310)\" d=\"M1164.93 32.4315 Q1158.94 32.4315 1155.45 37.1306 Q1151.97 41.7891 1151.97 49.9314 Q1151.97 58.0738 1155.41 62.7728 Q1158.9 67.4314 1164.93 67.4314 Q1170.89 67.4314 1174.37 62.7323 Q1177.85 58.0333 1177.85 49.9314 Q1177.85 41.8701 1174.37 37.1711 Q1170.89 32.4315 1164.93 32.4315 M1164.93 26.1121 Q1174.65 26.1121 1180.2 32.4315 Q1185.75 38.7509 1185.75 49.9314 Q1185.75 61.0714 1180.2 67.4314 Q1174.65 73.7508 1164.93 73.7508 Q1155.17 73.7508 1149.62 67.4314 Q1144.11 61.0714 1144.11 49.9314 Q1144.11 38.7509 1149.62 32.4315 Q1155.17 26.1121 1164.93 26.1121 Z\" fill=\"#000000\" fill-rule=\"evenodd\" fill-opacity=\"1\" /><path clip-path=\"url(#clip310)\" d=\"M1198.11 27.2059 L1205.56 27.2059 L1205.56 73.3862 Q1205.56 82.0551 1202.24 85.944 Q1198.96 89.8329 1191.63 89.8329 L1188.79 89.8329 L1188.79 83.5134 L1190.78 83.5134 Q1195.03 83.5134 1196.57 81.5285 Q1198.11 79.5841 1198.11 73.3862 L1198.11 27.2059 M1198.11 9.54393 L1205.56 9.54393 L1205.56 18.9825 L1198.11 18.9825 L1198.11 9.54393 Z\" fill=\"#000000\" fill-rule=\"evenodd\" fill-opacity=\"1\" /><path clip-path=\"url(#clip310)\" d=\"M1259.97 48.0275 L1259.97 51.6733 L1225.7 51.6733 Q1226.18 59.3701 1230.31 63.421 Q1234.49 67.4314 1241.9 67.4314 Q1246.19 67.4314 1250.2 66.3781 Q1254.25 65.3249 1258.22 63.2184 L1258.22 70.267 Q1254.21 71.9684 1250 72.8596 Q1245.79 73.7508 1241.45 73.7508 Q1230.6 73.7508 1224.24 67.4314 Q1217.92 61.1119 1217.92 50.3365 Q1217.92 39.1965 1223.91 32.6746 Q1229.95 26.1121 1240.16 26.1121 Q1249.31 26.1121 1254.62 32.0264 Q1259.97 37.9003 1259.97 48.0275 M1252.51 45.84 Q1252.43 39.7232 1249.07 36.0774 Q1245.75 32.4315 1240.24 32.4315 Q1234 32.4315 1230.23 35.9558 Q1226.51 39.4801 1225.94 45.8805 L1252.51 45.84 Z\" fill=\"#000000\" fill-rule=\"evenodd\" fill-opacity=\"1\" /><path clip-path=\"url(#clip310)\" d=\"M1304.85 28.9478 L1304.85 35.9153 Q1301.69 34.1734 1298.49 33.3227 Q1295.33 32.4315 1292.09 32.4315 Q1284.84 32.4315 1280.83 37.0496 Q1276.82 41.6271 1276.82 49.9314 Q1276.82 58.2358 1280.83 62.8538 Q1284.84 67.4314 1292.09 67.4314 Q1295.33 67.4314 1298.49 66.5807 Q1301.69 65.6895 1304.85 63.9476 L1304.85 70.8341 Q1301.73 72.2924 1298.37 73.0216 Q1295.05 73.7508 1291.28 73.7508 Q1281.03 73.7508 1275 67.3098 Q1268.96 60.8689 1268.96 49.9314 Q1268.96 38.832 1275.04 32.472 Q1281.15 26.1121 1291.77 26.1121 Q1295.21 26.1121 1298.49 26.8413 Q1301.77 27.5299 1304.85 28.9478 Z\" fill=\"#000000\" fill-rule=\"evenodd\" fill-opacity=\"1\" /><path clip-path=\"url(#clip310)\" d=\"M1325.19 14.324 L1325.19 27.2059 L1340.54 27.2059 L1340.54 32.9987 L1325.19 32.9987 L1325.19 57.6282 Q1325.19 63.1779 1326.68 64.7578 Q1328.22 66.3376 1332.88 66.3376 L1340.54 66.3376 L1340.54 72.576 L1332.88 72.576 Q1324.25 72.576 1320.97 69.3758 Q1317.69 66.1351 1317.69 57.6282 L1317.69 32.9987 L1312.22 32.9987 L1312.22 27.2059 L1317.69 27.2059 L1317.69 14.324 L1325.19 14.324 Z\" fill=\"#000000\" fill-rule=\"evenodd\" fill-opacity=\"1\" /><path clip-path=\"url(#clip310)\" d=\"M1389.15 48.0275 L1389.15 51.6733 L1354.88 51.6733 Q1355.37 59.3701 1359.5 63.421 Q1363.67 67.4314 1371.08 67.4314 Q1375.38 67.4314 1379.39 66.3781 Q1383.44 65.3249 1387.41 63.2184 L1387.41 70.267 Q1383.4 71.9684 1379.18 72.8596 Q1374.97 73.7508 1370.64 73.7508 Q1359.78 73.7508 1353.42 67.4314 Q1347.1 61.1119 1347.1 50.3365 Q1347.1 39.1965 1353.1 32.6746 Q1359.13 26.1121 1369.34 26.1121 Q1378.5 26.1121 1383.8 32.0264 Q1389.15 37.9003 1389.15 48.0275 M1381.7 45.84 Q1381.62 39.7232 1378.25 36.0774 Q1374.93 32.4315 1369.42 32.4315 Q1363.18 32.4315 1359.42 35.9558 Q1355.69 39.4801 1355.12 45.8805 L1381.7 45.84 Z\" fill=\"#000000\" fill-rule=\"evenodd\" fill-opacity=\"1\" /><path clip-path=\"url(#clip310)\" d=\"M1431.24 34.0924 L1431.24 9.54393 L1438.69 9.54393 L1438.69 72.576 L1431.24 72.576 L1431.24 65.7705 Q1428.89 69.8214 1425.28 71.8063 Q1421.72 73.7508 1416.7 73.7508 Q1408.47 73.7508 1403.29 67.1883 Q1398.14 60.6258 1398.14 49.9314 Q1398.14 39.2371 1403.29 32.6746 Q1408.47 26.1121 1416.7 26.1121 Q1421.72 26.1121 1425.28 28.0971 Q1428.89 30.0415 1431.24 34.0924 M1405.84 49.9314 Q1405.84 58.1548 1409.2 62.8538 Q1412.6 67.5124 1418.52 67.5124 Q1424.43 67.5124 1427.84 62.8538 Q1431.24 58.1548 1431.24 49.9314 Q1431.24 41.7081 1427.84 37.0496 Q1424.43 32.3505 1418.52 32.3505 Q1412.6 32.3505 1409.2 37.0496 Q1405.84 41.7081 1405.84 49.9314 Z\" fill=\"#000000\" fill-rule=\"evenodd\" fill-opacity=\"1\" /><circle clip-path=\"url(#clip312)\" cx=\"210.454\" cy=\"1447.87\" r=\"14.4\" fill=\"#ff0000\" fill-rule=\"evenodd\" fill-opacity=\"1\" stroke=\"#000000\" stroke-opacity=\"1\" stroke-width=\"3.2\"/>\n",
       "<circle clip-path=\"url(#clip312)\" cx=\"1296.64\" cy=\"619.384\" r=\"14.4\" fill=\"#ff0000\" fill-rule=\"evenodd\" fill-opacity=\"1\" stroke=\"#000000\" stroke-opacity=\"1\" stroke-width=\"3.2\"/>\n",
       "<circle clip-path=\"url(#clip312)\" cx=\"584.684\" cy=\"1162.43\" r=\"14.4\" fill=\"#ff0000\" fill-rule=\"evenodd\" fill-opacity=\"1\" stroke=\"#000000\" stroke-opacity=\"1\" stroke-width=\"3.2\"/>\n",
       "<circle clip-path=\"url(#clip312)\" cx=\"362.88\" cy=\"1331.61\" r=\"14.4\" fill=\"#ff0000\" fill-rule=\"evenodd\" fill-opacity=\"1\" stroke=\"#000000\" stroke-opacity=\"1\" stroke-width=\"3.2\"/>\n",
       "<circle clip-path=\"url(#clip312)\" cx=\"579.356\" cy=\"1166.49\" r=\"14.4\" fill=\"#ff0000\" fill-rule=\"evenodd\" fill-opacity=\"1\" stroke=\"#000000\" stroke-opacity=\"1\" stroke-width=\"3.2\"/>\n",
       "<circle clip-path=\"url(#clip312)\" cx=\"345.259\" cy=\"1345.05\" r=\"14.4\" fill=\"#ff0000\" fill-rule=\"evenodd\" fill-opacity=\"1\" stroke=\"#000000\" stroke-opacity=\"1\" stroke-width=\"3.2\"/>\n",
       "<circle clip-path=\"url(#clip312)\" cx=\"232.471\" cy=\"1431.08\" r=\"14.4\" fill=\"#ff0000\" fill-rule=\"evenodd\" fill-opacity=\"1\" stroke=\"#000000\" stroke-opacity=\"1\" stroke-width=\"3.2\"/>\n",
       "<circle clip-path=\"url(#clip312)\" cx=\"611.954\" cy=\"1141.63\" r=\"14.4\" fill=\"#ff0000\" fill-rule=\"evenodd\" fill-opacity=\"1\" stroke=\"#000000\" stroke-opacity=\"1\" stroke-width=\"3.2\"/>\n",
       "<circle clip-path=\"url(#clip312)\" cx=\"785.252\" cy=\"1009.45\" r=\"14.4\" fill=\"#ff0000\" fill-rule=\"evenodd\" fill-opacity=\"1\" stroke=\"#000000\" stroke-opacity=\"1\" stroke-width=\"3.2\"/>\n",
       "<circle clip-path=\"url(#clip312)\" cx=\"241.383\" cy=\"1424.28\" r=\"14.4\" fill=\"#ff0000\" fill-rule=\"evenodd\" fill-opacity=\"1\" stroke=\"#000000\" stroke-opacity=\"1\" stroke-width=\"3.2\"/>\n",
       "<circle clip-path=\"url(#clip312)\" cx=\"545.549\" cy=\"1192.28\" r=\"14.4\" fill=\"#ff0000\" fill-rule=\"evenodd\" fill-opacity=\"1\" stroke=\"#000000\" stroke-opacity=\"1\" stroke-width=\"3.2\"/>\n",
       "<circle clip-path=\"url(#clip312)\" cx=\"594.347\" cy=\"1155.06\" r=\"14.4\" fill=\"#ff0000\" fill-rule=\"evenodd\" fill-opacity=\"1\" stroke=\"#000000\" stroke-opacity=\"1\" stroke-width=\"3.2\"/>\n",
       "<circle clip-path=\"url(#clip312)\" cx=\"841.466\" cy=\"966.57\" r=\"14.4\" fill=\"#ff0000\" fill-rule=\"evenodd\" fill-opacity=\"1\" stroke=\"#000000\" stroke-opacity=\"1\" stroke-width=\"3.2\"/>\n",
       "<circle clip-path=\"url(#clip312)\" cx=\"313.922\" cy=\"1368.95\" r=\"14.4\" fill=\"#ff0000\" fill-rule=\"evenodd\" fill-opacity=\"1\" stroke=\"#000000\" stroke-opacity=\"1\" stroke-width=\"3.2\"/>\n",
       "<circle clip-path=\"url(#clip312)\" cx=\"985.527\" cy=\"856.688\" r=\"14.4\" fill=\"#ff0000\" fill-rule=\"evenodd\" fill-opacity=\"1\" stroke=\"#000000\" stroke-opacity=\"1\" stroke-width=\"3.2\"/>\n",
       "<circle clip-path=\"url(#clip312)\" cx=\"292.412\" cy=\"1385.36\" r=\"14.4\" fill=\"#ff0000\" fill-rule=\"evenodd\" fill-opacity=\"1\" stroke=\"#000000\" stroke-opacity=\"1\" stroke-width=\"3.2\"/>\n",
       "<circle clip-path=\"url(#clip312)\" cx=\"527.63\" cy=\"1205.95\" r=\"14.4\" fill=\"#ff0000\" fill-rule=\"evenodd\" fill-opacity=\"1\" stroke=\"#000000\" stroke-opacity=\"1\" stroke-width=\"3.2\"/>\n",
       "<circle clip-path=\"url(#clip312)\" cx=\"441.155\" cy=\"1271.91\" r=\"14.4\" fill=\"#ff0000\" fill-rule=\"evenodd\" fill-opacity=\"1\" stroke=\"#000000\" stroke-opacity=\"1\" stroke-width=\"3.2\"/>\n",
       "<circle clip-path=\"url(#clip312)\" cx=\"679.722\" cy=\"1089.94\" r=\"14.4\" fill=\"#ff0000\" fill-rule=\"evenodd\" fill-opacity=\"1\" stroke=\"#000000\" stroke-opacity=\"1\" stroke-width=\"3.2\"/>\n",
       "<circle clip-path=\"url(#clip312)\" cx=\"738.466\" cy=\"1045.13\" r=\"14.4\" fill=\"#ff0000\" fill-rule=\"evenodd\" fill-opacity=\"1\" stroke=\"#000000\" stroke-opacity=\"1\" stroke-width=\"3.2\"/>\n",
       "<circle clip-path=\"url(#clip312)\" cx=\"666.356\" cy=\"1100.13\" r=\"14.4\" fill=\"#ff0000\" fill-rule=\"evenodd\" fill-opacity=\"1\" stroke=\"#000000\" stroke-opacity=\"1\" stroke-width=\"3.2\"/>\n",
       "<circle clip-path=\"url(#clip312)\" cx=\"266.635\" cy=\"1405.02\" r=\"14.4\" fill=\"#ff0000\" fill-rule=\"evenodd\" fill-opacity=\"1\" stroke=\"#000000\" stroke-opacity=\"1\" stroke-width=\"3.2\"/>\n",
       "<circle clip-path=\"url(#clip312)\" cx=\"674.048\" cy=\"1094.27\" r=\"14.4\" fill=\"#ff0000\" fill-rule=\"evenodd\" fill-opacity=\"1\" stroke=\"#000000\" stroke-opacity=\"1\" stroke-width=\"3.2\"/>\n",
       "<circle clip-path=\"url(#clip312)\" cx=\"441.36\" cy=\"1271.75\" r=\"14.4\" fill=\"#ff0000\" fill-rule=\"evenodd\" fill-opacity=\"1\" stroke=\"#000000\" stroke-opacity=\"1\" stroke-width=\"3.2\"/>\n",
       "<circle clip-path=\"url(#clip312)\" cx=\"329.722\" cy=\"1356.9\" r=\"14.4\" fill=\"#ff0000\" fill-rule=\"evenodd\" fill-opacity=\"1\" stroke=\"#000000\" stroke-opacity=\"1\" stroke-width=\"3.2\"/>\n",
       "<circle clip-path=\"url(#clip312)\" cx=\"220.952\" cy=\"1439.87\" r=\"14.4\" fill=\"#ff0000\" fill-rule=\"evenodd\" fill-opacity=\"1\" stroke=\"#000000\" stroke-opacity=\"1\" stroke-width=\"3.2\"/>\n",
       "<circle clip-path=\"url(#clip312)\" cx=\"369.122\" cy=\"1326.85\" r=\"14.4\" fill=\"#ff0000\" fill-rule=\"evenodd\" fill-opacity=\"1\" stroke=\"#000000\" stroke-opacity=\"1\" stroke-width=\"3.2\"/>\n",
       "<circle clip-path=\"url(#clip312)\" cx=\"569.576\" cy=\"1173.95\" r=\"14.4\" fill=\"#ff0000\" fill-rule=\"evenodd\" fill-opacity=\"1\" stroke=\"#000000\" stroke-opacity=\"1\" stroke-width=\"3.2\"/>\n",
       "<circle clip-path=\"url(#clip312)\" cx=\"480.327\" cy=\"1242.03\" r=\"14.4\" fill=\"#ff0000\" fill-rule=\"evenodd\" fill-opacity=\"1\" stroke=\"#000000\" stroke-opacity=\"1\" stroke-width=\"3.2\"/>\n",
       "<circle clip-path=\"url(#clip312)\" cx=\"1227.93\" cy=\"671.795\" r=\"14.4\" fill=\"#ff0000\" fill-rule=\"evenodd\" fill-opacity=\"1\" stroke=\"#000000\" stroke-opacity=\"1\" stroke-width=\"3.2\"/>\n",
       "<circle clip-path=\"url(#clip312)\" cx=\"624.566\" cy=\"1132.01\" r=\"14.4\" fill=\"#ff0000\" fill-rule=\"evenodd\" fill-opacity=\"1\" stroke=\"#000000\" stroke-opacity=\"1\" stroke-width=\"3.2\"/>\n",
       "<circle clip-path=\"url(#clip312)\" cx=\"1262.87\" cy=\"645.145\" r=\"14.4\" fill=\"#ff0000\" fill-rule=\"evenodd\" fill-opacity=\"1\" stroke=\"#000000\" stroke-opacity=\"1\" stroke-width=\"3.2\"/>\n",
       "<circle clip-path=\"url(#clip312)\" cx=\"586.31\" cy=\"1161.19\" r=\"14.4\" fill=\"#ff0000\" fill-rule=\"evenodd\" fill-opacity=\"1\" stroke=\"#000000\" stroke-opacity=\"1\" stroke-width=\"3.2\"/>\n",
       "<circle clip-path=\"url(#clip312)\" cx=\"401.031\" cy=\"1302.51\" r=\"14.4\" fill=\"#ff0000\" fill-rule=\"evenodd\" fill-opacity=\"1\" stroke=\"#000000\" stroke-opacity=\"1\" stroke-width=\"3.2\"/>\n",
       "<circle clip-path=\"url(#clip312)\" cx=\"754.213\" cy=\"1033.12\" r=\"14.4\" fill=\"#ff0000\" fill-rule=\"evenodd\" fill-opacity=\"1\" stroke=\"#000000\" stroke-opacity=\"1\" stroke-width=\"3.2\"/>\n",
       "<circle clip-path=\"url(#clip312)\" cx=\"510.113\" cy=\"1219.31\" r=\"14.4\" fill=\"#ff0000\" fill-rule=\"evenodd\" fill-opacity=\"1\" stroke=\"#000000\" stroke-opacity=\"1\" stroke-width=\"3.2\"/>\n",
       "<circle clip-path=\"url(#clip312)\" cx=\"329.363\" cy=\"1357.17\" r=\"14.4\" fill=\"#ff0000\" fill-rule=\"evenodd\" fill-opacity=\"1\" stroke=\"#000000\" stroke-opacity=\"1\" stroke-width=\"3.2\"/>\n",
       "<circle clip-path=\"url(#clip312)\" cx=\"255.447\" cy=\"1413.55\" r=\"14.4\" fill=\"#ff0000\" fill-rule=\"evenodd\" fill-opacity=\"1\" stroke=\"#000000\" stroke-opacity=\"1\" stroke-width=\"3.2\"/>\n",
       "<circle clip-path=\"url(#clip312)\" cx=\"1038.39\" cy=\"816.363\" r=\"14.4\" fill=\"#ff0000\" fill-rule=\"evenodd\" fill-opacity=\"1\" stroke=\"#000000\" stroke-opacity=\"1\" stroke-width=\"3.2\"/>\n",
       "<circle clip-path=\"url(#clip312)\" cx=\"726.242\" cy=\"1054.46\" r=\"14.4\" fill=\"#ff0000\" fill-rule=\"evenodd\" fill-opacity=\"1\" stroke=\"#000000\" stroke-opacity=\"1\" stroke-width=\"3.2\"/>\n",
       "<circle clip-path=\"url(#clip312)\" cx=\"473.347\" cy=\"1247.35\" r=\"14.4\" fill=\"#ff0000\" fill-rule=\"evenodd\" fill-opacity=\"1\" stroke=\"#000000\" stroke-opacity=\"1\" stroke-width=\"3.2\"/>\n",
       "<circle clip-path=\"url(#clip312)\" cx=\"935.486\" cy=\"894.856\" r=\"14.4\" fill=\"#ff0000\" fill-rule=\"evenodd\" fill-opacity=\"1\" stroke=\"#000000\" stroke-opacity=\"1\" stroke-width=\"3.2\"/>\n",
       "<circle clip-path=\"url(#clip312)\" cx=\"485.606\" cy=\"1238\" r=\"14.4\" fill=\"#ff0000\" fill-rule=\"evenodd\" fill-opacity=\"1\" stroke=\"#000000\" stroke-opacity=\"1\" stroke-width=\"3.2\"/>\n",
       "<circle clip-path=\"url(#clip312)\" cx=\"502.803\" cy=\"1224.88\" r=\"14.4\" fill=\"#ff0000\" fill-rule=\"evenodd\" fill-opacity=\"1\" stroke=\"#000000\" stroke-opacity=\"1\" stroke-width=\"3.2\"/>\n",
       "<circle clip-path=\"url(#clip312)\" cx=\"285.824\" cy=\"1390.38\" r=\"14.4\" fill=\"#ff0000\" fill-rule=\"evenodd\" fill-opacity=\"1\" stroke=\"#000000\" stroke-opacity=\"1\" stroke-width=\"3.2\"/>\n",
       "<circle clip-path=\"url(#clip312)\" cx=\"537.984\" cy=\"1198.05\" r=\"14.4\" fill=\"#ff0000\" fill-rule=\"evenodd\" fill-opacity=\"1\" stroke=\"#000000\" stroke-opacity=\"1\" stroke-width=\"3.2\"/>\n",
       "<circle clip-path=\"url(#clip312)\" cx=\"720.848\" cy=\"1058.57\" r=\"14.4\" fill=\"#ff0000\" fill-rule=\"evenodd\" fill-opacity=\"1\" stroke=\"#000000\" stroke-opacity=\"1\" stroke-width=\"3.2\"/>\n",
       "<circle clip-path=\"url(#clip312)\" cx=\"1197.94\" cy=\"694.67\" r=\"14.4\" fill=\"#ff0000\" fill-rule=\"evenodd\" fill-opacity=\"1\" stroke=\"#000000\" stroke-opacity=\"1\" stroke-width=\"3.2\"/>\n",
       "<circle clip-path=\"url(#clip312)\" cx=\"834.149\" cy=\"972.151\" r=\"14.4\" fill=\"#ff0000\" fill-rule=\"evenodd\" fill-opacity=\"1\" stroke=\"#000000\" stroke-opacity=\"1\" stroke-width=\"3.2\"/>\n",
       "<circle clip-path=\"url(#clip312)\" cx=\"1391.96\" cy=\"546.679\" r=\"14.4\" fill=\"#0000ff\" fill-rule=\"evenodd\" fill-opacity=\"1\" stroke=\"#000000\" stroke-opacity=\"1\" stroke-width=\"3.2\"/>\n",
       "<circle clip-path=\"url(#clip312)\" cx=\"1371.21\" cy=\"593.919\" r=\"14.4\" fill=\"#0000ff\" fill-rule=\"evenodd\" fill-opacity=\"1\" stroke=\"#000000\" stroke-opacity=\"1\" stroke-width=\"3.2\"/>\n",
       "<circle clip-path=\"url(#clip312)\" cx=\"1384.55\" cy=\"552.335\" r=\"14.4\" fill=\"#0000ff\" fill-rule=\"evenodd\" fill-opacity=\"1\" stroke=\"#000000\" stroke-opacity=\"1\" stroke-width=\"3.2\"/>\n",
       "<circle clip-path=\"url(#clip312)\" cx=\"1418.41\" cy=\"526.516\" r=\"14.4\" fill=\"#0000ff\" fill-rule=\"evenodd\" fill-opacity=\"1\" stroke=\"#000000\" stroke-opacity=\"1\" stroke-width=\"3.2\"/>\n",
       "<circle clip-path=\"url(#clip312)\" cx=\"1432.79\" cy=\"515.536\" r=\"14.4\" fill=\"#0000ff\" fill-rule=\"evenodd\" fill-opacity=\"1\" stroke=\"#000000\" stroke-opacity=\"1\" stroke-width=\"3.2\"/>\n",
       "<circle clip-path=\"url(#clip312)\" cx=\"1311.46\" cy=\"608.079\" r=\"14.4\" fill=\"#0000ff\" fill-rule=\"evenodd\" fill-opacity=\"1\" stroke=\"#000000\" stroke-opacity=\"1\" stroke-width=\"3.2\"/>\n",
       "<circle clip-path=\"url(#clip312)\" cx=\"1300.89\" cy=\"616.282\" r=\"14.4\" fill=\"#0000ff\" fill-rule=\"evenodd\" fill-opacity=\"1\" stroke=\"#000000\" stroke-opacity=\"1\" stroke-width=\"3.2\"/>\n",
       "<circle clip-path=\"url(#clip312)\" cx=\"1407.94\" cy=\"534.706\" r=\"14.4\" fill=\"#0000ff\" fill-rule=\"evenodd\" fill-opacity=\"1\" stroke=\"#000000\" stroke-opacity=\"1\" stroke-width=\"3.2\"/>\n",
       "<circle clip-path=\"url(#clip312)\" cx=\"1378.26\" cy=\"599.863\" r=\"14.4\" fill=\"#0000ff\" fill-rule=\"evenodd\" fill-opacity=\"1\" stroke=\"#000000\" stroke-opacity=\"1\" stroke-width=\"3.2\"/>\n",
       "<circle clip-path=\"url(#clip312)\" cx=\"1345.52\" cy=\"581.84\" r=\"14.4\" fill=\"#0000ff\" fill-rule=\"evenodd\" fill-opacity=\"1\" stroke=\"#000000\" stroke-opacity=\"1\" stroke-width=\"3.2\"/>\n",
       "<circle clip-path=\"url(#clip312)\" cx=\"1346.81\" cy=\"581.119\" r=\"14.4\" fill=\"#0000ff\" fill-rule=\"evenodd\" fill-opacity=\"1\" stroke=\"#000000\" stroke-opacity=\"1\" stroke-width=\"3.2\"/>\n",
       "<circle clip-path=\"url(#clip312)\" cx=\"1344.83\" cy=\"582.335\" r=\"14.4\" fill=\"#0000ff\" fill-rule=\"evenodd\" fill-opacity=\"1\" stroke=\"#000000\" stroke-opacity=\"1\" stroke-width=\"3.2\"/>\n",
       "<circle clip-path=\"url(#clip312)\" cx=\"1452.93\" cy=\"500.179\" r=\"14.4\" fill=\"#0000ff\" fill-rule=\"evenodd\" fill-opacity=\"1\" stroke=\"#000000\" stroke-opacity=\"1\" stroke-width=\"3.2\"/>\n",
       "<circle clip-path=\"url(#clip312)\" cx=\"1392.82\" cy=\"546.028\" r=\"14.4\" fill=\"#0000ff\" fill-rule=\"evenodd\" fill-opacity=\"1\" stroke=\"#000000\" stroke-opacity=\"1\" stroke-width=\"3.2\"/>\n",
       "<circle clip-path=\"url(#clip312)\" cx=\"1327.14\" cy=\"596.145\" r=\"14.4\" fill=\"#0000ff\" fill-rule=\"evenodd\" fill-opacity=\"1\" stroke=\"#000000\" stroke-opacity=\"1\" stroke-width=\"3.2\"/>\n",
       "<circle clip-path=\"url(#clip312)\" cx=\"1311.83\" cy=\"608.908\" r=\"14.4\" fill=\"#0000ff\" fill-rule=\"evenodd\" fill-opacity=\"1\" stroke=\"#000000\" stroke-opacity=\"1\" stroke-width=\"3.2\"/>\n",
       "<circle clip-path=\"url(#clip312)\" cx=\"1302.35\" cy=\"615.148\" r=\"14.4\" fill=\"#0000ff\" fill-rule=\"evenodd\" fill-opacity=\"1\" stroke=\"#000000\" stroke-opacity=\"1\" stroke-width=\"3.2\"/>\n",
       "<circle clip-path=\"url(#clip312)\" cx=\"1408.42\" cy=\"534.127\" r=\"14.4\" fill=\"#0000ff\" fill-rule=\"evenodd\" fill-opacity=\"1\" stroke=\"#000000\" stroke-opacity=\"1\" stroke-width=\"3.2\"/>\n",
       "<circle clip-path=\"url(#clip312)\" cx=\"1596.08\" cy=\"603.418\" r=\"14.4\" fill=\"#0000ff\" fill-rule=\"evenodd\" fill-opacity=\"1\" stroke=\"#000000\" stroke-opacity=\"1\" stroke-width=\"3.2\"/>\n",
       "<circle clip-path=\"url(#clip312)\" cx=\"1317.81\" cy=\"603.237\" r=\"14.4\" fill=\"#0000ff\" fill-rule=\"evenodd\" fill-opacity=\"1\" stroke=\"#000000\" stroke-opacity=\"1\" stroke-width=\"3.2\"/>\n",
       "<circle clip-path=\"url(#clip312)\" cx=\"1381.67\" cy=\"601.504\" r=\"14.4\" fill=\"#0000ff\" fill-rule=\"evenodd\" fill-opacity=\"1\" stroke=\"#000000\" stroke-opacity=\"1\" stroke-width=\"3.2\"/>\n",
       "<circle clip-path=\"url(#clip312)\" cx=\"1404.26\" cy=\"537.302\" r=\"14.4\" fill=\"#0000ff\" fill-rule=\"evenodd\" fill-opacity=\"1\" stroke=\"#000000\" stroke-opacity=\"1\" stroke-width=\"3.2\"/>\n",
       "<circle clip-path=\"url(#clip312)\" cx=\"2183.1\" cy=\"586.36\" r=\"14.4\" fill=\"#0000ff\" fill-rule=\"evenodd\" fill-opacity=\"1\" stroke=\"#000000\" stroke-opacity=\"1\" stroke-width=\"3.2\"/>\n",
       "<circle clip-path=\"url(#clip312)\" cx=\"1358.96\" cy=\"571.856\" r=\"14.4\" fill=\"#0000ff\" fill-rule=\"evenodd\" fill-opacity=\"1\" stroke=\"#000000\" stroke-opacity=\"1\" stroke-width=\"3.2\"/>\n",
       "<circle clip-path=\"url(#clip312)\" cx=\"1810.57\" cy=\"601.706\" r=\"14.4\" fill=\"#0000ff\" fill-rule=\"evenodd\" fill-opacity=\"1\" stroke=\"#000000\" stroke-opacity=\"1\" stroke-width=\"3.2\"/>\n",
       "<circle clip-path=\"url(#clip312)\" cx=\"1391.76\" cy=\"546.833\" r=\"14.4\" fill=\"#0000ff\" fill-rule=\"evenodd\" fill-opacity=\"1\" stroke=\"#000000\" stroke-opacity=\"1\" stroke-width=\"3.2\"/>\n",
       "<circle clip-path=\"url(#clip312)\" cx=\"1575.37\" cy=\"602.09\" r=\"14.4\" fill=\"#0000ff\" fill-rule=\"evenodd\" fill-opacity=\"1\" stroke=\"#000000\" stroke-opacity=\"1\" stroke-width=\"3.2\"/>\n",
       "<circle clip-path=\"url(#clip312)\" cx=\"1321.75\" cy=\"600.233\" r=\"14.4\" fill=\"#0000ff\" fill-rule=\"evenodd\" fill-opacity=\"1\" stroke=\"#000000\" stroke-opacity=\"1\" stroke-width=\"3.2\"/>\n",
       "<circle clip-path=\"url(#clip312)\" cx=\"1355.95\" cy=\"571.358\" r=\"14.4\" fill=\"#0000ff\" fill-rule=\"evenodd\" fill-opacity=\"1\" stroke=\"#000000\" stroke-opacity=\"1\" stroke-width=\"3.2\"/>\n",
       "<circle clip-path=\"url(#clip312)\" cx=\"1369.57\" cy=\"563.758\" r=\"14.4\" fill=\"#0000ff\" fill-rule=\"evenodd\" fill-opacity=\"1\" stroke=\"#000000\" stroke-opacity=\"1\" stroke-width=\"3.2\"/>\n",
       "<circle clip-path=\"url(#clip312)\" cx=\"1390.86\" cy=\"547.524\" r=\"14.4\" fill=\"#0000ff\" fill-rule=\"evenodd\" fill-opacity=\"1\" stroke=\"#000000\" stroke-opacity=\"1\" stroke-width=\"3.2\"/>\n",
       "<circle clip-path=\"url(#clip312)\" cx=\"1358.98\" cy=\"571.841\" r=\"14.4\" fill=\"#0000ff\" fill-rule=\"evenodd\" fill-opacity=\"1\" stroke=\"#000000\" stroke-opacity=\"1\" stroke-width=\"3.2\"/>\n",
       "<circle clip-path=\"url(#clip312)\" cx=\"1331.9\" cy=\"594.947\" r=\"14.4\" fill=\"#0000ff\" fill-rule=\"evenodd\" fill-opacity=\"1\" stroke=\"#000000\" stroke-opacity=\"1\" stroke-width=\"3.2\"/>\n",
       "<circle clip-path=\"url(#clip312)\" cx=\"2002.14\" cy=\"610.612\" r=\"14.4\" fill=\"#0000ff\" fill-rule=\"evenodd\" fill-opacity=\"1\" stroke=\"#000000\" stroke-opacity=\"1\" stroke-width=\"3.2\"/>\n",
       "<circle clip-path=\"url(#clip312)\" cx=\"1348.08\" cy=\"580.152\" r=\"14.4\" fill=\"#0000ff\" fill-rule=\"evenodd\" fill-opacity=\"1\" stroke=\"#000000\" stroke-opacity=\"1\" stroke-width=\"3.2\"/>\n",
       "<circle clip-path=\"url(#clip312)\" cx=\"1649.68\" cy=\"615.349\" r=\"14.4\" fill=\"#0000ff\" fill-rule=\"evenodd\" fill-opacity=\"1\" stroke=\"#000000\" stroke-opacity=\"1\" stroke-width=\"3.2\"/>\n",
       "<circle clip-path=\"url(#clip312)\" cx=\"1370.92\" cy=\"562.73\" r=\"14.4\" fill=\"#0000ff\" fill-rule=\"evenodd\" fill-opacity=\"1\" stroke=\"#000000\" stroke-opacity=\"1\" stroke-width=\"3.2\"/>\n",
       "<circle clip-path=\"url(#clip312)\" cx=\"1347.14\" cy=\"580.867\" r=\"14.4\" fill=\"#0000ff\" fill-rule=\"evenodd\" fill-opacity=\"1\" stroke=\"#000000\" stroke-opacity=\"1\" stroke-width=\"3.2\"/>\n",
       "<circle clip-path=\"url(#clip312)\" cx=\"1449.5\" cy=\"502.794\" r=\"14.4\" fill=\"#0000ff\" fill-rule=\"evenodd\" fill-opacity=\"1\" stroke=\"#000000\" stroke-opacity=\"1\" stroke-width=\"3.2\"/>\n",
       "<circle clip-path=\"url(#clip312)\" cx=\"1414.22\" cy=\"529.703\" r=\"14.4\" fill=\"#0000ff\" fill-rule=\"evenodd\" fill-opacity=\"1\" stroke=\"#000000\" stroke-opacity=\"1\" stroke-width=\"3.2\"/>\n",
       "<circle clip-path=\"url(#clip312)\" cx=\"1371.11\" cy=\"562.572\" r=\"14.4\" fill=\"#0000ff\" fill-rule=\"evenodd\" fill-opacity=\"1\" stroke=\"#000000\" stroke-opacity=\"1\" stroke-width=\"3.2\"/>\n",
       "<circle clip-path=\"url(#clip312)\" cx=\"1370.65\" cy=\"542.15\" r=\"14.4\" fill=\"#0000ff\" fill-rule=\"evenodd\" fill-opacity=\"1\" stroke=\"#000000\" stroke-opacity=\"1\" stroke-width=\"3.2\"/>\n",
       "<circle clip-path=\"url(#clip312)\" cx=\"2125.67\" cy=\"602.481\" r=\"14.4\" fill=\"#0000ff\" fill-rule=\"evenodd\" fill-opacity=\"1\" stroke=\"#000000\" stroke-opacity=\"1\" stroke-width=\"3.2\"/>\n",
       "<circle clip-path=\"url(#clip312)\" cx=\"1428.54\" cy=\"518.783\" r=\"14.4\" fill=\"#0000ff\" fill-rule=\"evenodd\" fill-opacity=\"1\" stroke=\"#000000\" stroke-opacity=\"1\" stroke-width=\"3.2\"/>\n",
       "<circle clip-path=\"url(#clip312)\" cx=\"1373.78\" cy=\"560.548\" r=\"14.4\" fill=\"#0000ff\" fill-rule=\"evenodd\" fill-opacity=\"1\" stroke=\"#000000\" stroke-opacity=\"1\" stroke-width=\"3.2\"/>\n",
       "<circle clip-path=\"url(#clip312)\" cx=\"1419.61\" cy=\"314.052\" r=\"14.4\" fill=\"#0000ff\" fill-rule=\"evenodd\" fill-opacity=\"1\" stroke=\"#000000\" stroke-opacity=\"1\" stroke-width=\"3.2\"/>\n",
       "<circle clip-path=\"url(#clip312)\" cx=\"1789.98\" cy=\"616.24\" r=\"14.4\" fill=\"#0000ff\" fill-rule=\"evenodd\" fill-opacity=\"1\" stroke=\"#000000\" stroke-opacity=\"1\" stroke-width=\"3.2\"/>\n",
       "<circle clip-path=\"url(#clip312)\" cx=\"1465.47\" cy=\"579.328\" r=\"14.4\" fill=\"#0000ff\" fill-rule=\"evenodd\" fill-opacity=\"1\" stroke=\"#000000\" stroke-opacity=\"1\" stroke-width=\"3.2\"/>\n",
       "<circle clip-path=\"url(#clip312)\" cx=\"1387.19\" cy=\"519.423\" r=\"14.4\" fill=\"#0000ff\" fill-rule=\"evenodd\" fill-opacity=\"1\" stroke=\"#000000\" stroke-opacity=\"1\" stroke-width=\"3.2\"/>\n",
       "<circle clip-path=\"url(#clip312)\" cx=\"1438.57\" cy=\"162.047\" r=\"14.4\" fill=\"#0000ff\" fill-rule=\"evenodd\" fill-opacity=\"1\" stroke=\"#000000\" stroke-opacity=\"1\" stroke-width=\"3.2\"/>\n",
       "<circle clip-path=\"url(#clip312)\" cx=\"2290.36\" cy=\"587.362\" r=\"14.4\" fill=\"#0000ff\" fill-rule=\"evenodd\" fill-opacity=\"1\" stroke=\"#000000\" stroke-opacity=\"1\" stroke-width=\"3.2\"/>\n",
       "<path clip-path=\"url(#clip312)\" d=\"M615.816 1066.68 L598.896 1115.36 L547.344 1116.44 L588.456 1147.61 L573.48 1196.93 L615.816 1167.48 L658.152 1196.93 L643.176 1147.61 L684.288 1116.44 L632.736 1115.36 L615.816 1066.68 Z\" fill=\"#800080\" fill-rule=\"evenodd\" fill-opacity=\"1\" stroke=\"#000000\" stroke-opacity=\"1\" stroke-width=\"3.2\"/>\n",
       "</svg>\n"
      ]
     },
     "execution_count": 23,
     "metadata": {},
     "output_type": "execute_result"
    }
   ],
   "source": [
    "scatter( map(x->x[1],points_projection) , map(x->x[2],points_projection) , markercolor= map(x->x[3],points) , title=\"projected\" , legend=false )\n",
    "scatter!( [point_new_high_Dim[1]] , [point_new_high_Dim[2]] , markershape=:star , markersize=18 , markercolor = \"purple\" )"
   ]
  },
  {
   "cell_type": "code",
   "execution_count": null,
   "metadata": {},
   "outputs": [],
   "source": []
  },
  {
   "cell_type": "code",
   "execution_count": null,
   "metadata": {},
   "outputs": [],
   "source": []
  },
  {
   "cell_type": "code",
   "execution_count": null,
   "metadata": {},
   "outputs": [],
   "source": []
  },
  {
   "cell_type": "code",
   "execution_count": null,
   "metadata": {},
   "outputs": [],
   "source": []
  },
  {
   "cell_type": "code",
   "execution_count": null,
   "metadata": {},
   "outputs": [],
   "source": []
  }
 ],
 "metadata": {
  "kernelspec": {
   "display_name": "Julia 1.8.2",
   "language": "julia",
   "name": "julia-1.8"
  },
  "language_info": {
   "file_extension": ".jl",
   "mimetype": "application/julia",
   "name": "julia",
   "version": "1.8.2"
  }
 },
 "nbformat": 4,
 "nbformat_minor": 4
}
