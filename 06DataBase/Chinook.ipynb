{
 "cells": [
  {
   "cell_type": "code",
   "execution_count": 5,
   "metadata": {},
   "outputs": [],
   "source": [
    "using HTTP, SQLite"
   ]
  },
  {
   "cell_type": "code",
   "execution_count": 19,
   "metadata": {},
   "outputs": [],
   "source": [
    "using DBInterface\n",
    "using Statistics"
   ]
  },
  {
   "cell_type": "code",
   "execution_count": 6,
   "metadata": {},
   "outputs": [
    {
     "name": "stderr",
     "output_type": "stream",
     "text": [
      "\u001b[36m\u001b[1m┌ \u001b[22m\u001b[39m\u001b[36m\u001b[1mInfo: \u001b[22m\u001b[39mDownloading\n",
      "\u001b[36m\u001b[1m│ \u001b[22m\u001b[39m  source = \"https://github.com/lerocha/chinook-database/raw/master/ChinookDatabase/DataSources/Chinook_Sqlite.sqlite\"\n",
      "\u001b[36m\u001b[1m│ \u001b[22m\u001b[39m  dest = \"Chinook_Sqlite.sqlite\"\n",
      "\u001b[36m\u001b[1m│ \u001b[22m\u001b[39m  progress = 1.0\n",
      "\u001b[36m\u001b[1m│ \u001b[22m\u001b[39m  time_taken = \"0.13 s\"\n",
      "\u001b[36m\u001b[1m│ \u001b[22m\u001b[39m  time_remaining = \"0.0 s\"\n",
      "\u001b[36m\u001b[1m│ \u001b[22m\u001b[39m  average_speed = \"7.888 MiB/s\"\n",
      "\u001b[36m\u001b[1m│ \u001b[22m\u001b[39m  downloaded = \"1.018 MiB\"\n",
      "\u001b[36m\u001b[1m│ \u001b[22m\u001b[39m  remaining = \"0 bytes\"\n",
      "\u001b[36m\u001b[1m└ \u001b[22m\u001b[39m  total = \"1.018 MiB\"\n"
     ]
    },
    {
     "data": {
      "text/plain": [
       "\"Chinook_Sqlite.sqlite\""
      ]
     },
     "execution_count": 6,
     "metadata": {},
     "output_type": "execute_result"
    }
   ],
   "source": [
    "url = \"https://github.com/lerocha/chinook-database/raw/master/ChinookDatabase/DataSources/Chinook_Sqlite.sqlite\"\n",
    "output_path = \"Chinook_Sqlite.sqlite\"\n",
    "\n",
    "HTTP.download(url, output_path)"
   ]
  },
  {
   "cell_type": "code",
   "execution_count": 8,
   "metadata": {},
   "outputs": [
    {
     "data": {
      "text/plain": [
       "SQLite.DB(\"Chinook_Sqlite.sqlite\")"
      ]
     },
     "execution_count": 8,
     "metadata": {},
     "output_type": "execute_result"
    }
   ],
   "source": [
    "db = SQLite.DB(output_path)"
   ]
  },
  {
   "cell_type": "code",
   "execution_count": 13,
   "metadata": {},
   "outputs": [
    {
     "name": "stdout",
     "output_type": "stream",
     "text": [
      "SQLite.Row{false}:\n",
      " :AlbumId   1\n",
      " :Title      \"For Those About To Rock We Salute You\"\n",
      " :ArtistId  1\n",
      "SQLite.Row{false}:\n",
      " :AlbumId   2\n",
      " :Title      \"Balls to the Wall\"\n",
      " :ArtistId  2\n",
      "SQLite.Row{false}:\n",
      " :AlbumId   3\n",
      " :Title      \"Restless and Wild\"\n",
      " :ArtistId  2\n",
      "SQLite.Row{false}:\n",
      " :AlbumId   4\n",
      " :Title      \"Let There Be Rock\"\n",
      " :ArtistId  1\n",
      "SQLite.Row{false}:\n",
      " :AlbumId   5\n",
      " :Title      \"Big Ones\"\n",
      " :ArtistId  3\n",
      "SQLite.Row{false}:\n",
      " :AlbumId   6\n",
      " :Title      \"Jagged Little Pill\"\n",
      " :ArtistId  4\n",
      "SQLite.Row{false}:\n",
      " :AlbumId   7\n",
      " :Title      \"Facelift\"\n",
      " :ArtistId  5\n",
      "SQLite.Row{false}:\n",
      " :AlbumId   8\n",
      " :Title      \"Warner 25 Anos\"\n",
      " :ArtistId  6\n",
      "SQLite.Row{false}:\n",
      " :AlbumId   9\n",
      " :Title      \"Plays Metallica By Four Cellos\"\n",
      " :ArtistId  7\n",
      "SQLite.Row{false}:\n",
      " :AlbumId   10\n",
      " :Title       \"Audioslave\"\n",
      " :ArtistId   8\n"
     ]
    }
   ],
   "source": [
    "result = DBInterface.execute(db, \"SELECT * FROM Album LIMIT 10;\")\n",
    "\n",
    "for row in result\n",
    "    println(row)\n",
    "end"
   ]
  },
  {
   "cell_type": "code",
   "execution_count": 14,
   "metadata": {},
   "outputs": [
    {
     "data": {
      "text/html": [
       "<div class=\"data-frame\"><p>10 rows × 3 columns</p><table class=\"data-frame\"><thead><tr><th></th><th>AlbumId</th><th>Title</th><th>ArtistId</th></tr><tr><th></th><th title=\"Int64\">Int64</th><th title=\"String\">String</th><th title=\"Int64\">Int64</th></tr></thead><tbody><tr><th>1</th><td>1</td><td>For Those About To Rock We Salute You</td><td>1</td></tr><tr><th>2</th><td>2</td><td>Balls to the Wall</td><td>2</td></tr><tr><th>3</th><td>3</td><td>Restless and Wild</td><td>2</td></tr><tr><th>4</th><td>4</td><td>Let There Be Rock</td><td>1</td></tr><tr><th>5</th><td>5</td><td>Big Ones</td><td>3</td></tr><tr><th>6</th><td>6</td><td>Jagged Little Pill</td><td>4</td></tr><tr><th>7</th><td>7</td><td>Facelift</td><td>5</td></tr><tr><th>8</th><td>8</td><td>Warner 25 Anos</td><td>6</td></tr><tr><th>9</th><td>9</td><td>Plays Metallica By Four Cellos</td><td>7</td></tr><tr><th>10</th><td>10</td><td>Audioslave</td><td>8</td></tr></tbody></table></div>"
      ],
      "text/latex": [
       "\\begin{tabular}{r|ccc}\n",
       "\t& AlbumId & Title & ArtistId\\\\\n",
       "\t\\hline\n",
       "\t& Int64 & String & Int64\\\\\n",
       "\t\\hline\n",
       "\t1 & 1 & For Those About To Rock We Salute You & 1 \\\\\n",
       "\t2 & 2 & Balls to the Wall & 2 \\\\\n",
       "\t3 & 3 & Restless and Wild & 2 \\\\\n",
       "\t4 & 4 & Let There Be Rock & 1 \\\\\n",
       "\t5 & 5 & Big Ones & 3 \\\\\n",
       "\t6 & 6 & Jagged Little Pill & 4 \\\\\n",
       "\t7 & 7 & Facelift & 5 \\\\\n",
       "\t8 & 8 & Warner 25 Anos & 6 \\\\\n",
       "\t9 & 9 & Plays Metallica By Four Cellos & 7 \\\\\n",
       "\t10 & 10 & Audioslave & 8 \\\\\n",
       "\\end{tabular}\n"
      ],
      "text/plain": [
       "\u001b[1m10×3 DataFrame\u001b[0m\n",
       "\u001b[1m Row \u001b[0m│\u001b[1m AlbumId \u001b[0m\u001b[1m Title                             \u001b[0m\u001b[1m ArtistId \u001b[0m\n",
       "\u001b[1m     \u001b[0m│\u001b[90m Int64   \u001b[0m\u001b[90m String                            \u001b[0m\u001b[90m Int64    \u001b[0m\n",
       "─────┼──────────────────────────────────────────────────────\n",
       "   1 │       1  For Those About To Rock We Salut…         1\n",
       "   2 │       2  Balls to the Wall                         2\n",
       "   3 │       3  Restless and Wild                         2\n",
       "   4 │       4  Let There Be Rock                         1\n",
       "   5 │       5  Big Ones                                  3\n",
       "   6 │       6  Jagged Little Pill                        4\n",
       "   7 │       7  Facelift                                  5\n",
       "   8 │       8  Warner 25 Anos                            6\n",
       "   9 │       9  Plays Metallica By Four Cellos            7\n",
       "  10 │      10  Audioslave                                8"
      ]
     },
     "execution_count": 14,
     "metadata": {},
     "output_type": "execute_result"
    }
   ],
   "source": [
    "using DataFrames\n",
    "\n",
    "result = DBInterface.execute(db, \"SELECT * FROM Album LIMIT 10;\")\n",
    "df = DataFrame(result)"
   ]
  },
  {
   "cell_type": "code",
   "execution_count": null,
   "metadata": {},
   "outputs": [],
   "source": []
  },
  {
   "cell_type": "code",
   "execution_count": 15,
   "metadata": {},
   "outputs": [
    {
     "data": {
      "text/plain": [
       "\"SELECT \\n    Album.AlbumId, \\n    Album.Title AS AlbumTitle, \\n    Artist.Name AS ArtistName, \\n    SUM(InvoiceLine.UnitPrice * InvoiceLine.Quantity) AS TotalSales\\nFROM \\n    Album\\nJOIN \\n    Artist ON Album.ArtistId = Artist.ArtistId\\nJOIN \\n    Track ON Album.AlbumId = Track.AlbumId\\nJOIN \\n    InvoiceLine ON Track.TrackId = InvoiceLine.TrackId\\nGROUP BY \\n    Album.AlbumId, Album.Title, Artist.Name\\nORDER BY \\n    TotalSales DESC\\nLIMIT 5;\\n\""
      ]
     },
     "execution_count": 15,
     "metadata": {},
     "output_type": "execute_result"
    }
   ],
   "source": [
    "query = \"\"\"\n",
    "SELECT \n",
    "    Album.AlbumId, \n",
    "    Album.Title AS AlbumTitle, \n",
    "    Artist.Name AS ArtistName, \n",
    "    SUM(InvoiceLine.UnitPrice * InvoiceLine.Quantity) AS TotalSales\n",
    "FROM \n",
    "    Album\n",
    "JOIN \n",
    "    Artist ON Album.ArtistId = Artist.ArtistId\n",
    "JOIN \n",
    "    Track ON Album.AlbumId = Track.AlbumId\n",
    "JOIN \n",
    "    InvoiceLine ON Track.TrackId = InvoiceLine.TrackId\n",
    "GROUP BY \n",
    "    Album.AlbumId, Album.Title, Artist.Name\n",
    "ORDER BY \n",
    "    TotalSales DESC\n",
    "LIMIT 5;\n",
    "\"\"\""
   ]
  },
  {
   "cell_type": "code",
   "execution_count": 16,
   "metadata": {},
   "outputs": [
    {
     "data": {
      "text/html": [
       "<div class=\"data-frame\"><p>5 rows × 4 columns (omitted printing of 1 columns)</p><table class=\"data-frame\"><thead><tr><th></th><th>AlbumId</th><th>AlbumTitle</th><th>ArtistName</th></tr><tr><th></th><th title=\"Int64\">Int64</th><th title=\"String\">String</th><th title=\"String\">String</th></tr></thead><tbody><tr><th>1</th><td>253</td><td>Battlestar Galactica (Classic), Season 1</td><td>Battlestar Galactica (Classic)</td></tr><tr><th>2</th><td>251</td><td>The Office, Season 3</td><td>The Office</td></tr><tr><th>3</th><td>23</td><td>Minha Historia</td><td>Chico Buarque</td></tr><tr><th>4</th><td>228</td><td>Heroes, Season 1</td><td>Heroes</td></tr><tr><th>5</th><td>231</td><td>Lost, Season 2</td><td>Lost</td></tr></tbody></table></div>"
      ],
      "text/latex": [
       "\\begin{tabular}{r|cccc}\n",
       "\t& AlbumId & AlbumTitle & ArtistName & \\\\\n",
       "\t\\hline\n",
       "\t& Int64 & String & String & \\\\\n",
       "\t\\hline\n",
       "\t1 & 253 & Battlestar Galactica (Classic), Season 1 & Battlestar Galactica (Classic) & $\\dots$ \\\\\n",
       "\t2 & 251 & The Office, Season 3 & The Office & $\\dots$ \\\\\n",
       "\t3 & 23 & Minha Historia & Chico Buarque & $\\dots$ \\\\\n",
       "\t4 & 228 & Heroes, Season 1 & Heroes & $\\dots$ \\\\\n",
       "\t5 & 231 & Lost, Season 2 & Lost & $\\dots$ \\\\\n",
       "\\end{tabular}\n"
      ],
      "text/plain": [
       "\u001b[1m5×4 DataFrame\u001b[0m\n",
       "\u001b[1m Row \u001b[0m│\u001b[1m AlbumId \u001b[0m\u001b[1m AlbumTitle                        \u001b[0m\u001b[1m ArtistName                 \u001b[0m ⋯\n",
       "\u001b[1m     \u001b[0m│\u001b[90m Int64   \u001b[0m\u001b[90m String                            \u001b[0m\u001b[90m String                     \u001b[0m ⋯\n",
       "─────┼──────────────────────────────────────────────────────────────────────────\n",
       "   1 │     253  Battlestar Galactica (Classic), …  Battlestar Galactica (Class ⋯\n",
       "   2 │     251  The Office, Season 3               The Office\n",
       "   3 │      23  Minha Historia                     Chico Buarque\n",
       "   4 │     228  Heroes, Season 1                   Heroes\n",
       "   5 │     231  Lost, Season 2                     Lost                        ⋯\n",
       "\u001b[36m                                                               2 columns omitted\u001b[0m"
      ]
     },
     "metadata": {},
     "output_type": "display_data"
    }
   ],
   "source": [
    "result = DBInterface.execute(db, query)\n",
    "df = DataFrame(result)\n",
    "display(df)\n"
   ]
  },
  {
   "cell_type": "code",
   "execution_count": null,
   "metadata": {},
   "outputs": [],
   "source": []
  },
  {
   "cell_type": "code",
   "execution_count": null,
   "metadata": {},
   "outputs": [],
   "source": []
  },
  {
   "cell_type": "code",
   "execution_count": 17,
   "metadata": {},
   "outputs": [
    {
     "data": {
      "text/plain": [
       "\"SELECT Genre.Name, SUM(InvoiceLine.Quantity) AS TotalQuantity\\nFROM Genre\\nJOIN Track ON Genre.GenreId = Track.GenreId\\nJOIN InvoiceLine ON Track.TrackId = InvoiceLine.TrackId\\nGROUP BY Genre.Name\\nORDER BY TotalQuantity DESC\\nLIMIT 1;\\n\""
      ]
     },
     "execution_count": 17,
     "metadata": {},
     "output_type": "execute_result"
    }
   ],
   "source": [
    "query = \"\"\"\n",
    "SELECT Genre.Name, SUM(InvoiceLine.Quantity) AS TotalQuantity\n",
    "FROM Genre\n",
    "JOIN Track ON Genre.GenreId = Track.GenreId\n",
    "JOIN InvoiceLine ON Track.TrackId = InvoiceLine.TrackId\n",
    "GROUP BY Genre.Name\n",
    "ORDER BY TotalQuantity DESC\n",
    "LIMIT 1;\n",
    "\"\"\""
   ]
  },
  {
   "cell_type": "code",
   "execution_count": 18,
   "metadata": {},
   "outputs": [
    {
     "name": "stdout",
     "output_type": "stream",
     "text": [
      "Top Selling Genre:\n"
     ]
    },
    {
     "data": {
      "text/html": [
       "<div class=\"data-frame\"><p>1 rows × 2 columns</p><table class=\"data-frame\"><thead><tr><th></th><th>Name</th><th>TotalQuantity</th></tr><tr><th></th><th title=\"String\">String</th><th title=\"Int64\">Int64</th></tr></thead><tbody><tr><th>1</th><td>Rock</td><td>835</td></tr></tbody></table></div>"
      ],
      "text/latex": [
       "\\begin{tabular}{r|cc}\n",
       "\t& Name & TotalQuantity\\\\\n",
       "\t\\hline\n",
       "\t& String & Int64\\\\\n",
       "\t\\hline\n",
       "\t1 & Rock & 835 \\\\\n",
       "\\end{tabular}\n"
      ],
      "text/plain": [
       "\u001b[1m1×2 DataFrame\u001b[0m\n",
       "\u001b[1m Row \u001b[0m│\u001b[1m Name   \u001b[0m\u001b[1m TotalQuantity \u001b[0m\n",
       "\u001b[1m     \u001b[0m│\u001b[90m String \u001b[0m\u001b[90m Int64         \u001b[0m\n",
       "─────┼───────────────────────\n",
       "   1 │ Rock              835"
      ]
     },
     "metadata": {},
     "output_type": "display_data"
    }
   ],
   "source": [
    "result = DBInterface.execute(db, query)\n",
    "df = DataFrame(result)\n",
    "\n",
    "println(\"Top Selling Genre:\")\n",
    "display(df)"
   ]
  },
  {
   "cell_type": "code",
   "execution_count": null,
   "metadata": {},
   "outputs": [],
   "source": []
  },
  {
   "cell_type": "code",
   "execution_count": 20,
   "metadata": {},
   "outputs": [
    {
     "data": {
      "text/plain": [
       "\"SELECT \\n    Customer.Country, \\n    COUNT(DISTINCT Customer.CustomerId) AS TotalCustomers, \\n    SUM(Invoice.Total) AS TotalSales\\nFROM \\n    Customer\\nJOIN \\n    Invoice ON Customer.CustomerId = Invoice.CustomerId\\nGROUP BY \\n    Customer.Country\\nORDER BY \\n    TotalSales DESC;\\n\""
      ]
     },
     "execution_count": 20,
     "metadata": {},
     "output_type": "execute_result"
    }
   ],
   "source": [
    "\n",
    "query = \"\"\"\n",
    "SELECT \n",
    "    Customer.Country, \n",
    "    COUNT(DISTINCT Customer.CustomerId) AS TotalCustomers, \n",
    "    SUM(Invoice.Total) AS TotalSales\n",
    "FROM \n",
    "    Customer\n",
    "JOIN \n",
    "    Invoice ON Customer.CustomerId = Invoice.CustomerId\n",
    "GROUP BY \n",
    "    Customer.Country\n",
    "ORDER BY \n",
    "    TotalSales DESC;\n",
    "\"\"\""
   ]
  },
  {
   "cell_type": "code",
   "execution_count": 21,
   "metadata": {},
   "outputs": [
    {
     "name": "stdout",
     "output_type": "stream",
     "text": [
      "Sales Data Grouped by Country:\n"
     ]
    },
    {
     "data": {
      "text/html": [
       "<div class=\"data-frame\"><p>24 rows × 3 columns</p><table class=\"data-frame\"><thead><tr><th></th><th>Country</th><th>TotalCustomers</th><th>TotalSales</th></tr><tr><th></th><th title=\"String\">String</th><th title=\"Int64\">Int64</th><th title=\"Float64\">Float64</th></tr></thead><tbody><tr><th>1</th><td>USA</td><td>13</td><td>523.06</td></tr><tr><th>2</th><td>Canada</td><td>8</td><td>303.96</td></tr><tr><th>3</th><td>France</td><td>5</td><td>195.1</td></tr><tr><th>4</th><td>Brazil</td><td>5</td><td>190.1</td></tr><tr><th>5</th><td>Germany</td><td>4</td><td>156.48</td></tr><tr><th>6</th><td>United Kingdom</td><td>3</td><td>112.86</td></tr><tr><th>7</th><td>Czech Republic</td><td>2</td><td>90.24</td></tr><tr><th>8</th><td>Portugal</td><td>2</td><td>77.24</td></tr><tr><th>9</th><td>India</td><td>2</td><td>75.26</td></tr><tr><th>10</th><td>Chile</td><td>1</td><td>46.62</td></tr><tr><th>11</th><td>Ireland</td><td>1</td><td>45.62</td></tr><tr><th>12</th><td>Hungary</td><td>1</td><td>45.62</td></tr><tr><th>13</th><td>Austria</td><td>1</td><td>42.62</td></tr><tr><th>14</th><td>Finland</td><td>1</td><td>41.62</td></tr><tr><th>15</th><td>Netherlands</td><td>1</td><td>40.62</td></tr><tr><th>16</th><td>Norway</td><td>1</td><td>39.62</td></tr><tr><th>17</th><td>Sweden</td><td>1</td><td>38.62</td></tr><tr><th>18</th><td>Spain</td><td>1</td><td>37.62</td></tr><tr><th>19</th><td>Poland</td><td>1</td><td>37.62</td></tr><tr><th>20</th><td>Italy</td><td>1</td><td>37.62</td></tr><tr><th>21</th><td>Denmark</td><td>1</td><td>37.62</td></tr><tr><th>22</th><td>Belgium</td><td>1</td><td>37.62</td></tr><tr><th>23</th><td>Australia</td><td>1</td><td>37.62</td></tr><tr><th>24</th><td>Argentina</td><td>1</td><td>37.62</td></tr></tbody></table></div>"
      ],
      "text/latex": [
       "\\begin{tabular}{r|ccc}\n",
       "\t& Country & TotalCustomers & TotalSales\\\\\n",
       "\t\\hline\n",
       "\t& String & Int64 & Float64\\\\\n",
       "\t\\hline\n",
       "\t1 & USA & 13 & 523.06 \\\\\n",
       "\t2 & Canada & 8 & 303.96 \\\\\n",
       "\t3 & France & 5 & 195.1 \\\\\n",
       "\t4 & Brazil & 5 & 190.1 \\\\\n",
       "\t5 & Germany & 4 & 156.48 \\\\\n",
       "\t6 & United Kingdom & 3 & 112.86 \\\\\n",
       "\t7 & Czech Republic & 2 & 90.24 \\\\\n",
       "\t8 & Portugal & 2 & 77.24 \\\\\n",
       "\t9 & India & 2 & 75.26 \\\\\n",
       "\t10 & Chile & 1 & 46.62 \\\\\n",
       "\t11 & Ireland & 1 & 45.62 \\\\\n",
       "\t12 & Hungary & 1 & 45.62 \\\\\n",
       "\t13 & Austria & 1 & 42.62 \\\\\n",
       "\t14 & Finland & 1 & 41.62 \\\\\n",
       "\t15 & Netherlands & 1 & 40.62 \\\\\n",
       "\t16 & Norway & 1 & 39.62 \\\\\n",
       "\t17 & Sweden & 1 & 38.62 \\\\\n",
       "\t18 & Spain & 1 & 37.62 \\\\\n",
       "\t19 & Poland & 1 & 37.62 \\\\\n",
       "\t20 & Italy & 1 & 37.62 \\\\\n",
       "\t21 & Denmark & 1 & 37.62 \\\\\n",
       "\t22 & Belgium & 1 & 37.62 \\\\\n",
       "\t23 & Australia & 1 & 37.62 \\\\\n",
       "\t24 & Argentina & 1 & 37.62 \\\\\n",
       "\\end{tabular}\n"
      ],
      "text/plain": [
       "\u001b[1m24×3 DataFrame\u001b[0m\n",
       "\u001b[1m Row \u001b[0m│\u001b[1m Country        \u001b[0m\u001b[1m TotalCustomers \u001b[0m\u001b[1m TotalSales \u001b[0m\n",
       "\u001b[1m     \u001b[0m│\u001b[90m String         \u001b[0m\u001b[90m Int64          \u001b[0m\u001b[90m Float64    \u001b[0m\n",
       "─────┼────────────────────────────────────────────\n",
       "   1 │ USA                         13      523.06\n",
       "   2 │ Canada                       8      303.96\n",
       "   3 │ France                       5      195.1\n",
       "   4 │ Brazil                       5      190.1\n",
       "   5 │ Germany                      4      156.48\n",
       "   6 │ United Kingdom               3      112.86\n",
       "   7 │ Czech Republic               2       90.24\n",
       "   8 │ Portugal                     2       77.24\n",
       "   9 │ India                        2       75.26\n",
       "  10 │ Chile                        1       46.62\n",
       "  11 │ Ireland                      1       45.62\n",
       "  ⋮  │       ⋮               ⋮             ⋮\n",
       "  15 │ Netherlands                  1       40.62\n",
       "  16 │ Norway                       1       39.62\n",
       "  17 │ Sweden                       1       38.62\n",
       "  18 │ Spain                        1       37.62\n",
       "  19 │ Poland                       1       37.62\n",
       "  20 │ Italy                        1       37.62\n",
       "  21 │ Denmark                      1       37.62\n",
       "  22 │ Belgium                      1       37.62\n",
       "  23 │ Australia                    1       37.62\n",
       "  24 │ Argentina                    1       37.62\n",
       "\u001b[36m                                    3 rows omitted\u001b[0m"
      ]
     },
     "metadata": {},
     "output_type": "display_data"
    }
   ],
   "source": [
    "result = DBInterface.execute(db, query)\n",
    "df = DataFrame(result)\n",
    "\n",
    "\n",
    "println(\"Sales Data Grouped by Country:\")\n",
    "display(df)"
   ]
  },
  {
   "cell_type": "code",
   "execution_count": null,
   "metadata": {},
   "outputs": [],
   "source": []
  },
  {
   "cell_type": "code",
   "execution_count": null,
   "metadata": {},
   "outputs": [],
   "source": []
  },
  {
   "cell_type": "code",
   "execution_count": null,
   "metadata": {},
   "outputs": [],
   "source": []
  }
 ],
 "metadata": {
  "kernelspec": {
   "display_name": "Julia 1.9.3 1.9.3",
   "language": "julia",
   "name": "julia-1.9.3-1.9"
  },
  "language_info": {
   "file_extension": ".jl",
   "mimetype": "application/julia",
   "name": "julia",
   "version": "1.9.3"
  }
 },
 "nbformat": 4,
 "nbformat_minor": 4
}
