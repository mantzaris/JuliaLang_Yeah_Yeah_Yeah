{
 "cells": [
  {
   "cell_type": "code",
   "execution_count": 1,
   "metadata": {},
   "outputs": [],
   "source": [
    "using HTTP, SQLite"
   ]
  },
  {
   "cell_type": "code",
   "execution_count": null,
   "metadata": {},
   "outputs": [],
   "source": []
  },
  {
   "cell_type": "code",
   "execution_count": 6,
   "metadata": {},
   "outputs": [],
   "source": [
    "using DBInterface\n",
    "using Statistics"
   ]
  },
  {
   "cell_type": "code",
   "execution_count": 7,
   "metadata": {},
   "outputs": [
    {
     "name": "stderr",
     "output_type": "stream",
     "text": [
      "\u001b[36m\u001b[1m┌ \u001b[22m\u001b[39m\u001b[36m\u001b[1mInfo: \u001b[22m\u001b[39mDownloading\n",
      "\u001b[36m\u001b[1m│ \u001b[22m\u001b[39m  source = \"https://github.com/lerocha/chinook-database/raw/master/ChinookDatabase/DataSources/Chinook_Sqlite.sqlite\"\n",
      "\u001b[36m\u001b[1m│ \u001b[22m\u001b[39m  dest = \"Chinook_Sqlite.sqlite\"\n",
      "\u001b[36m\u001b[1m│ \u001b[22m\u001b[39m  progress = 1.0\n",
      "\u001b[36m\u001b[1m│ \u001b[22m\u001b[39m  time_taken = \"0.14 s\"\n",
      "\u001b[36m\u001b[1m│ \u001b[22m\u001b[39m  time_remaining = \"0.0 s\"\n",
      "\u001b[36m\u001b[1m│ \u001b[22m\u001b[39m  average_speed = \"7.268 MiB/s\"\n",
      "\u001b[36m\u001b[1m│ \u001b[22m\u001b[39m  downloaded = \"1.018 MiB\"\n",
      "\u001b[36m\u001b[1m│ \u001b[22m\u001b[39m  remaining = \"0 bytes\"\n",
      "\u001b[36m\u001b[1m└ \u001b[22m\u001b[39m  total = \"1.018 MiB\"\n"
     ]
    },
    {
     "data": {
      "text/plain": [
       "\"Chinook_Sqlite.sqlite\""
      ]
     },
     "execution_count": 7,
     "metadata": {},
     "output_type": "execute_result"
    }
   ],
   "source": [
    "url = \"https://github.com/lerocha/chinook-database/raw/master/ChinookDatabase/DataSources/Chinook_Sqlite.sqlite\"\n",
    "output_path = \"Chinook_Sqlite.sqlite\"\n",
    "\n",
    "HTTP.download(url, output_path)"
   ]
  },
  {
   "cell_type": "code",
   "execution_count": 8,
   "metadata": {},
   "outputs": [
    {
     "data": {
      "text/plain": [
       "SQLite.DB(\"Chinook_Sqlite.sqlite\")"
      ]
     },
     "execution_count": 8,
     "metadata": {},
     "output_type": "execute_result"
    }
   ],
   "source": [
    "db = SQLite.DB(output_path)"
   ]
  },
  {
   "cell_type": "code",
   "execution_count": 9,
   "metadata": {},
   "outputs": [
    {
     "name": "stdout",
     "output_type": "stream",
     "text": [
      "SQLite.Row{false}:\n",
      " :AlbumId   1\n",
      " :Title      \"For Those About To Rock We Salute You\"\n",
      " :ArtistId  1\n",
      "SQLite.Row{false}:\n",
      " :AlbumId   2\n",
      " :Title      \"Balls to the Wall\"\n",
      " :ArtistId  2\n",
      "SQLite.Row{false}:\n",
      " :AlbumId   3\n",
      " :Title      \"Restless and Wild\"\n",
      " :ArtistId  2\n",
      "SQLite.Row{false}:\n",
      " :AlbumId   4\n",
      " :Title      \"Let There Be Rock\"\n",
      " :ArtistId  1\n",
      "SQLite.Row{false}:\n",
      " :AlbumId   5\n",
      " :Title      \"Big Ones\"\n",
      " :ArtistId  3\n",
      "SQLite.Row{false}:\n",
      " :AlbumId   6\n",
      " :Title      \"Jagged Little Pill\"\n",
      " :ArtistId  4\n",
      "SQLite.Row{false}:\n",
      " :AlbumId   7\n",
      " :Title      \"Facelift\"\n",
      " :ArtistId  5\n",
      "SQLite.Row{false}:\n",
      " :AlbumId   8\n",
      " :Title      \"Warner 25 Anos\"\n",
      " :ArtistId  6\n",
      "SQLite.Row{false}:\n",
      " :AlbumId   9\n",
      " :Title      \"Plays Metallica By Four Cellos\"\n",
      " :ArtistId  7\n",
      "SQLite.Row{false}:\n",
      " :AlbumId   10\n",
      " :Title       \"Audioslave\"\n",
      " :ArtistId   8\n"
     ]
    }
   ],
   "source": [
    "result = DBInterface.execute(db, \"SELECT * FROM Album LIMIT 10;\")\n",
    "\n",
    "for row in result\n",
    "    println(row)\n",
    "end"
   ]
  },
  {
   "cell_type": "code",
   "execution_count": 10,
   "metadata": {},
   "outputs": [
    {
     "data": {
      "text/html": [
       "<div><div style = \"float: left;\"><span>10×3 DataFrame</span></div><div style = \"clear: both;\"></div></div><div class = \"data-frame\" style = \"overflow-x: scroll;\"><table class = \"data-frame\" style = \"margin-bottom: 6px;\"><thead><tr class = \"header\"><th class = \"rowNumber\" style = \"font-weight: bold; text-align: right;\">Row</th><th style = \"text-align: left;\">AlbumId</th><th style = \"text-align: left;\">Title</th><th style = \"text-align: left;\">ArtistId</th></tr><tr class = \"subheader headerLastRow\"><th class = \"rowNumber\" style = \"font-weight: bold; text-align: right;\"></th><th title = \"Int64\" style = \"text-align: left;\">Int64</th><th title = \"String\" style = \"text-align: left;\">String</th><th title = \"Int64\" style = \"text-align: left;\">Int64</th></tr></thead><tbody><tr><td class = \"rowNumber\" style = \"font-weight: bold; text-align: right;\">1</td><td style = \"text-align: right;\">1</td><td style = \"text-align: left;\">For Those About To Rock We Salute You</td><td style = \"text-align: right;\">1</td></tr><tr><td class = \"rowNumber\" style = \"font-weight: bold; text-align: right;\">2</td><td style = \"text-align: right;\">2</td><td style = \"text-align: left;\">Balls to the Wall</td><td style = \"text-align: right;\">2</td></tr><tr><td class = \"rowNumber\" style = \"font-weight: bold; text-align: right;\">3</td><td style = \"text-align: right;\">3</td><td style = \"text-align: left;\">Restless and Wild</td><td style = \"text-align: right;\">2</td></tr><tr><td class = \"rowNumber\" style = \"font-weight: bold; text-align: right;\">4</td><td style = \"text-align: right;\">4</td><td style = \"text-align: left;\">Let There Be Rock</td><td style = \"text-align: right;\">1</td></tr><tr><td class = \"rowNumber\" style = \"font-weight: bold; text-align: right;\">5</td><td style = \"text-align: right;\">5</td><td style = \"text-align: left;\">Big Ones</td><td style = \"text-align: right;\">3</td></tr><tr><td class = \"rowNumber\" style = \"font-weight: bold; text-align: right;\">6</td><td style = \"text-align: right;\">6</td><td style = \"text-align: left;\">Jagged Little Pill</td><td style = \"text-align: right;\">4</td></tr><tr><td class = \"rowNumber\" style = \"font-weight: bold; text-align: right;\">7</td><td style = \"text-align: right;\">7</td><td style = \"text-align: left;\">Facelift</td><td style = \"text-align: right;\">5</td></tr><tr><td class = \"rowNumber\" style = \"font-weight: bold; text-align: right;\">8</td><td style = \"text-align: right;\">8</td><td style = \"text-align: left;\">Warner 25 Anos</td><td style = \"text-align: right;\">6</td></tr><tr><td class = \"rowNumber\" style = \"font-weight: bold; text-align: right;\">9</td><td style = \"text-align: right;\">9</td><td style = \"text-align: left;\">Plays Metallica By Four Cellos</td><td style = \"text-align: right;\">7</td></tr><tr><td class = \"rowNumber\" style = \"font-weight: bold; text-align: right;\">10</td><td style = \"text-align: right;\">10</td><td style = \"text-align: left;\">Audioslave</td><td style = \"text-align: right;\">8</td></tr></tbody></table></div>"
      ],
      "text/latex": [
       "\\begin{tabular}{r|ccc}\n",
       "\t& AlbumId & Title & ArtistId\\\\\n",
       "\t\\hline\n",
       "\t& Int64 & String & Int64\\\\\n",
       "\t\\hline\n",
       "\t1 & 1 & For Those About To Rock We Salute You & 1 \\\\\n",
       "\t2 & 2 & Balls to the Wall & 2 \\\\\n",
       "\t3 & 3 & Restless and Wild & 2 \\\\\n",
       "\t4 & 4 & Let There Be Rock & 1 \\\\\n",
       "\t5 & 5 & Big Ones & 3 \\\\\n",
       "\t6 & 6 & Jagged Little Pill & 4 \\\\\n",
       "\t7 & 7 & Facelift & 5 \\\\\n",
       "\t8 & 8 & Warner 25 Anos & 6 \\\\\n",
       "\t9 & 9 & Plays Metallica By Four Cellos & 7 \\\\\n",
       "\t10 & 10 & Audioslave & 8 \\\\\n",
       "\\end{tabular}\n"
      ],
      "text/plain": [
       "\u001b[1m10×3 DataFrame\u001b[0m\n",
       "\u001b[1m Row \u001b[0m│\u001b[1m AlbumId \u001b[0m\u001b[1m Title                             \u001b[0m\u001b[1m ArtistId \u001b[0m\n",
       "     │\u001b[90m Int64   \u001b[0m\u001b[90m String                            \u001b[0m\u001b[90m Int64    \u001b[0m\n",
       "─────┼──────────────────────────────────────────────────────\n",
       "   1 │       1  For Those About To Rock We Salut…         1\n",
       "   2 │       2  Balls to the Wall                         2\n",
       "   3 │       3  Restless and Wild                         2\n",
       "   4 │       4  Let There Be Rock                         1\n",
       "   5 │       5  Big Ones                                  3\n",
       "   6 │       6  Jagged Little Pill                        4\n",
       "   7 │       7  Facelift                                  5\n",
       "   8 │       8  Warner 25 Anos                            6\n",
       "   9 │       9  Plays Metallica By Four Cellos            7\n",
       "  10 │      10  Audioslave                                8"
      ]
     },
     "execution_count": 10,
     "metadata": {},
     "output_type": "execute_result"
    }
   ],
   "source": [
    "using DataFrames\n",
    "\n",
    "result = DBInterface.execute(db, \"SELECT * FROM Album LIMIT 10;\")\n",
    "df = DataFrame(result)"
   ]
  },
  {
   "cell_type": "code",
   "execution_count": 14,
   "metadata": {},
   "outputs": [
    {
     "name": "stdout",
     "output_type": "stream",
     "text": [
      "SQLite.Row{false}:\n",
      " :ArtistId  1\n",
      " :Name       \"AC/DC\"\n",
      "SQLite.Row{false}:\n",
      " :ArtistId  2\n",
      " :Name       \"Accept\"\n",
      "SQLite.Row{false}:\n",
      " :ArtistId  3\n",
      " :Name       \"Aerosmith\"\n",
      "SQLite.Row{false}:\n",
      " :ArtistId  4\n",
      " :Name       \"Alanis Morissette\"\n",
      "SQLite.Row{false}:\n",
      " :ArtistId  5\n",
      " :Name       \"Alice In Chains\"\n",
      "SQLite.Row{false}:\n",
      " :ArtistId  6\n",
      " :Name       \"Antônio Carlos Jobim\"\n",
      "SQLite.Row{false}:\n",
      " :ArtistId  7\n",
      " :Name       \"Apocalyptica\"\n",
      "SQLite.Row{false}:\n",
      " :ArtistId  8\n",
      " :Name       \"Audioslave\"\n",
      "SQLite.Row{false}:\n",
      " :ArtistId  9\n",
      " :Name       \"BackBeat\"\n",
      "SQLite.Row{false}:\n",
      " :ArtistId  10\n",
      " :Name        \"Billy Cobham\"\n"
     ]
    }
   ],
   "source": [
    "result = DBInterface.execute(db, \"SELECT * FROM artist LIMIT 10;\")\n",
    "\n",
    "for row in result\n",
    "    println(row)\n",
    "end"
   ]
  },
  {
   "cell_type": "code",
   "execution_count": 16,
   "metadata": {},
   "outputs": [
    {
     "data": {
      "text/plain": [
       "SQLite.Query{false}(SQLite.Stmt(SQLite.DB(\"Chinook_Sqlite.sqlite\"), Base.RefValue{Ptr{SQLite.C.sqlite3_stmt}}(Ptr{SQLite.C.sqlite3_stmt} @0x0000000007f08558), Dict{Int64, Any}()), Base.RefValue{Int32}(100), [:ArtistId, :Name], Type[Union{Missing, Int64}, Union{Missing, String}], Dict(:ArtistId => 1, :Name => 2), Base.RefValue{Int64}(0))"
      ]
     },
     "execution_count": 16,
     "metadata": {},
     "output_type": "execute_result"
    }
   ],
   "source": [
    "result = DBInterface.execute(db, \"SELECT * FROM artist;\")\n",
    "#size(result)\n"
   ]
  },
  {
   "cell_type": "code",
   "execution_count": 19,
   "metadata": {},
   "outputs": [
    {
     "data": {
      "text/plain": [
       "(275, 2)"
      ]
     },
     "execution_count": 19,
     "metadata": {},
     "output_type": "execute_result"
    }
   ],
   "source": [
    "df = DataFrame(result)\n",
    "size(df)"
   ]
  },
  {
   "cell_type": "code",
   "execution_count": 20,
   "metadata": {},
   "outputs": [
    {
     "data": {
      "text/html": [
       "<div><div style = \"float: left;\"><span>1×1 DataFrame</span></div><div style = \"clear: both;\"></div></div><div class = \"data-frame\" style = \"overflow-x: scroll;\"><table class = \"data-frame\" style = \"margin-bottom: 6px;\"><thead><tr class = \"header\"><th class = \"rowNumber\" style = \"font-weight: bold; text-align: right;\">Row</th><th style = \"text-align: left;\">count(*)</th></tr><tr class = \"subheader headerLastRow\"><th class = \"rowNumber\" style = \"font-weight: bold; text-align: right;\"></th><th title = \"Int64\" style = \"text-align: left;\">Int64</th></tr></thead><tbody><tr><td class = \"rowNumber\" style = \"font-weight: bold; text-align: right;\">1</td><td style = \"text-align: right;\">275</td></tr></tbody></table></div>"
      ],
      "text/latex": [
       "\\begin{tabular}{r|c}\n",
       "\t& count(*)\\\\\n",
       "\t\\hline\n",
       "\t& Int64\\\\\n",
       "\t\\hline\n",
       "\t1 & 275 \\\\\n",
       "\\end{tabular}\n"
      ],
      "text/plain": [
       "\u001b[1m1×1 DataFrame\u001b[0m\n",
       "\u001b[1m Row \u001b[0m│\u001b[1m count(*) \u001b[0m\n",
       "     │\u001b[90m Int64    \u001b[0m\n",
       "─────┼──────────\n",
       "   1 │      275"
      ]
     },
     "execution_count": 20,
     "metadata": {},
     "output_type": "execute_result"
    }
   ],
   "source": [
    "result = DBInterface.execute(db, \"SELECT count(*) FROM artist;\")\n",
    "DataFrame(result)"
   ]
  },
  {
   "cell_type": "code",
   "execution_count": 38,
   "metadata": {},
   "outputs": [
    {
     "name": "stdout",
     "output_type": "stream",
     "text": [
      "4"
     ]
    }
   ],
   "source": [
    "result = DBInterface.execute(db, \"SELECT name FROM artist;\")\n",
    "\n",
    "john_num = 0\n",
    "\n",
    "for row in result\n",
    "    name_tmp = row[:Name]\n",
    "    if( occursin(\"john\", lowercase(name_tmp)) )\n",
    "        john_num += 1\n",
    "    end\n",
    "    #println(row[:Name])\n",
    "    #println(Dict(row))\n",
    "end\n",
    "\n",
    "print(john_num)"
   ]
  },
  {
   "cell_type": "code",
   "execution_count": 40,
   "metadata": {},
   "outputs": [
    {
     "data": {
      "text/html": [
       "<div><div style = \"float: left;\"><span>25×2 DataFrame</span></div><div style = \"clear: both;\"></div></div><div class = \"data-frame\" style = \"overflow-x: scroll;\"><table class = \"data-frame\" style = \"margin-bottom: 6px;\"><thead><tr class = \"header\"><th class = \"rowNumber\" style = \"font-weight: bold; text-align: right;\">Row</th><th style = \"text-align: left;\">GenreId</th><th style = \"text-align: left;\">Name</th></tr><tr class = \"subheader headerLastRow\"><th class = \"rowNumber\" style = \"font-weight: bold; text-align: right;\"></th><th title = \"Int64\" style = \"text-align: left;\">Int64</th><th title = \"String\" style = \"text-align: left;\">String</th></tr></thead><tbody><tr><td class = \"rowNumber\" style = \"font-weight: bold; text-align: right;\">1</td><td style = \"text-align: right;\">1</td><td style = \"text-align: left;\">Rock</td></tr><tr><td class = \"rowNumber\" style = \"font-weight: bold; text-align: right;\">2</td><td style = \"text-align: right;\">2</td><td style = \"text-align: left;\">Jazz</td></tr><tr><td class = \"rowNumber\" style = \"font-weight: bold; text-align: right;\">3</td><td style = \"text-align: right;\">3</td><td style = \"text-align: left;\">Metal</td></tr><tr><td class = \"rowNumber\" style = \"font-weight: bold; text-align: right;\">4</td><td style = \"text-align: right;\">4</td><td style = \"text-align: left;\">Alternative &amp; Punk</td></tr><tr><td class = \"rowNumber\" style = \"font-weight: bold; text-align: right;\">5</td><td style = \"text-align: right;\">5</td><td style = \"text-align: left;\">Rock And Roll</td></tr><tr><td class = \"rowNumber\" style = \"font-weight: bold; text-align: right;\">6</td><td style = \"text-align: right;\">6</td><td style = \"text-align: left;\">Blues</td></tr><tr><td class = \"rowNumber\" style = \"font-weight: bold; text-align: right;\">7</td><td style = \"text-align: right;\">7</td><td style = \"text-align: left;\">Latin</td></tr><tr><td class = \"rowNumber\" style = \"font-weight: bold; text-align: right;\">8</td><td style = \"text-align: right;\">8</td><td style = \"text-align: left;\">Reggae</td></tr><tr><td class = \"rowNumber\" style = \"font-weight: bold; text-align: right;\">9</td><td style = \"text-align: right;\">9</td><td style = \"text-align: left;\">Pop</td></tr><tr><td class = \"rowNumber\" style = \"font-weight: bold; text-align: right;\">10</td><td style = \"text-align: right;\">10</td><td style = \"text-align: left;\">Soundtrack</td></tr><tr><td class = \"rowNumber\" style = \"font-weight: bold; text-align: right;\">11</td><td style = \"text-align: right;\">11</td><td style = \"text-align: left;\">Bossa Nova</td></tr><tr><td class = \"rowNumber\" style = \"font-weight: bold; text-align: right;\">12</td><td style = \"text-align: right;\">12</td><td style = \"text-align: left;\">Easy Listening</td></tr><tr><td class = \"rowNumber\" style = \"font-weight: bold; text-align: right;\">13</td><td style = \"text-align: right;\">13</td><td style = \"text-align: left;\">Heavy Metal</td></tr><tr><td class = \"rowNumber\" style = \"font-weight: bold; text-align: right;\">14</td><td style = \"text-align: right;\">14</td><td style = \"text-align: left;\">R&amp;B/Soul</td></tr><tr><td class = \"rowNumber\" style = \"font-weight: bold; text-align: right;\">15</td><td style = \"text-align: right;\">15</td><td style = \"text-align: left;\">Electronica/Dance</td></tr><tr><td class = \"rowNumber\" style = \"font-weight: bold; text-align: right;\">16</td><td style = \"text-align: right;\">16</td><td style = \"text-align: left;\">World</td></tr><tr><td class = \"rowNumber\" style = \"font-weight: bold; text-align: right;\">17</td><td style = \"text-align: right;\">17</td><td style = \"text-align: left;\">Hip Hop/Rap</td></tr><tr><td class = \"rowNumber\" style = \"font-weight: bold; text-align: right;\">18</td><td style = \"text-align: right;\">18</td><td style = \"text-align: left;\">Science Fiction</td></tr><tr><td class = \"rowNumber\" style = \"font-weight: bold; text-align: right;\">19</td><td style = \"text-align: right;\">19</td><td style = \"text-align: left;\">TV Shows</td></tr><tr><td class = \"rowNumber\" style = \"font-weight: bold; text-align: right;\">20</td><td style = \"text-align: right;\">20</td><td style = \"text-align: left;\">Sci Fi &amp; Fantasy</td></tr><tr><td class = \"rowNumber\" style = \"font-weight: bold; text-align: right;\">21</td><td style = \"text-align: right;\">21</td><td style = \"text-align: left;\">Drama</td></tr><tr><td class = \"rowNumber\" style = \"font-weight: bold; text-align: right;\">22</td><td style = \"text-align: right;\">22</td><td style = \"text-align: left;\">Comedy</td></tr><tr><td class = \"rowNumber\" style = \"font-weight: bold; text-align: right;\">23</td><td style = \"text-align: right;\">23</td><td style = \"text-align: left;\">Alternative</td></tr><tr><td class = \"rowNumber\" style = \"font-weight: bold; text-align: right;\">24</td><td style = \"text-align: right;\">24</td><td style = \"text-align: left;\">Classical</td></tr><tr><td class = \"rowNumber\" style = \"font-weight: bold; text-align: right;\">25</td><td style = \"text-align: right;\">25</td><td style = \"text-align: left;\">Opera</td></tr></tbody></table></div>"
      ],
      "text/latex": [
       "\\begin{tabular}{r|cc}\n",
       "\t& GenreId & Name\\\\\n",
       "\t\\hline\n",
       "\t& Int64 & String\\\\\n",
       "\t\\hline\n",
       "\t1 & 1 & Rock \\\\\n",
       "\t2 & 2 & Jazz \\\\\n",
       "\t3 & 3 & Metal \\\\\n",
       "\t4 & 4 & Alternative \\& Punk \\\\\n",
       "\t5 & 5 & Rock And Roll \\\\\n",
       "\t6 & 6 & Blues \\\\\n",
       "\t7 & 7 & Latin \\\\\n",
       "\t8 & 8 & Reggae \\\\\n",
       "\t9 & 9 & Pop \\\\\n",
       "\t10 & 10 & Soundtrack \\\\\n",
       "\t11 & 11 & Bossa Nova \\\\\n",
       "\t12 & 12 & Easy Listening \\\\\n",
       "\t13 & 13 & Heavy Metal \\\\\n",
       "\t14 & 14 & R\\&B/Soul \\\\\n",
       "\t15 & 15 & Electronica/Dance \\\\\n",
       "\t16 & 16 & World \\\\\n",
       "\t17 & 17 & Hip Hop/Rap \\\\\n",
       "\t18 & 18 & Science Fiction \\\\\n",
       "\t19 & 19 & TV Shows \\\\\n",
       "\t20 & 20 & Sci Fi \\& Fantasy \\\\\n",
       "\t21 & 21 & Drama \\\\\n",
       "\t22 & 22 & Comedy \\\\\n",
       "\t23 & 23 & Alternative \\\\\n",
       "\t24 & 24 & Classical \\\\\n",
       "\t25 & 25 & Opera \\\\\n",
       "\\end{tabular}\n"
      ],
      "text/plain": [
       "\u001b[1m25×2 DataFrame\u001b[0m\n",
       "\u001b[1m Row \u001b[0m│\u001b[1m GenreId \u001b[0m\u001b[1m Name               \u001b[0m\n",
       "     │\u001b[90m Int64   \u001b[0m\u001b[90m String             \u001b[0m\n",
       "─────┼─────────────────────────────\n",
       "   1 │       1  Rock\n",
       "   2 │       2  Jazz\n",
       "   3 │       3  Metal\n",
       "   4 │       4  Alternative & Punk\n",
       "   5 │       5  Rock And Roll\n",
       "   6 │       6  Blues\n",
       "   7 │       7  Latin\n",
       "   8 │       8  Reggae\n",
       "   9 │       9  Pop\n",
       "  10 │      10  Soundtrack\n",
       "  11 │      11  Bossa Nova\n",
       "  ⋮  │    ⋮             ⋮\n",
       "  16 │      16  World\n",
       "  17 │      17  Hip Hop/Rap\n",
       "  18 │      18  Science Fiction\n",
       "  19 │      19  TV Shows\n",
       "  20 │      20  Sci Fi & Fantasy\n",
       "  21 │      21  Drama\n",
       "  22 │      22  Comedy\n",
       "  23 │      23  Alternative\n",
       "  24 │      24  Classical\n",
       "  25 │      25  Opera\n",
       "\u001b[36m                     4 rows omitted\u001b[0m"
      ]
     },
     "execution_count": 40,
     "metadata": {},
     "output_type": "execute_result"
    }
   ],
   "source": [
    "result = DBInterface.execute(db, \"SELECT * FROM genre;\")\n",
    "\n",
    "result_df = DataFrame(result)"
   ]
  },
  {
   "cell_type": "code",
   "execution_count": 62,
   "metadata": {},
   "outputs": [
    {
     "data": {
      "text/html": [
       "<div><div style = \"float: left;\"><span>25×3 DataFrame</span></div><div style = \"clear: both;\"></div></div><div class = \"data-frame\" style = \"overflow-x: scroll;\"><table class = \"data-frame\" style = \"margin-bottom: 6px;\"><thead><tr class = \"header\"><th class = \"rowNumber\" style = \"font-weight: bold; text-align: right;\">Row</th><th style = \"text-align: left;\">GenreId</th><th style = \"text-align: left;\">count</th><th style = \"text-align: left;\">Name</th></tr><tr class = \"subheader headerLastRow\"><th class = \"rowNumber\" style = \"font-weight: bold; text-align: right;\"></th><th title = \"Int64\" style = \"text-align: left;\">Int64</th><th title = \"Int64\" style = \"text-align: left;\">Int64</th><th title = \"String\" style = \"text-align: left;\">String</th></tr></thead><tbody><tr><td class = \"rowNumber\" style = \"font-weight: bold; text-align: right;\">1</td><td style = \"text-align: right;\">1</td><td style = \"text-align: right;\">1297</td><td style = \"text-align: left;\">Rock</td></tr><tr><td class = \"rowNumber\" style = \"font-weight: bold; text-align: right;\">2</td><td style = \"text-align: right;\">7</td><td style = \"text-align: right;\">579</td><td style = \"text-align: left;\">Latin</td></tr><tr><td class = \"rowNumber\" style = \"font-weight: bold; text-align: right;\">3</td><td style = \"text-align: right;\">3</td><td style = \"text-align: right;\">374</td><td style = \"text-align: left;\">Metal</td></tr><tr><td class = \"rowNumber\" style = \"font-weight: bold; text-align: right;\">4</td><td style = \"text-align: right;\">4</td><td style = \"text-align: right;\">332</td><td style = \"text-align: left;\">Alternative &amp; Punk</td></tr><tr><td class = \"rowNumber\" style = \"font-weight: bold; text-align: right;\">5</td><td style = \"text-align: right;\">2</td><td style = \"text-align: right;\">130</td><td style = \"text-align: left;\">Jazz</td></tr><tr><td class = \"rowNumber\" style = \"font-weight: bold; text-align: right;\">6</td><td style = \"text-align: right;\">19</td><td style = \"text-align: right;\">93</td><td style = \"text-align: left;\">TV Shows</td></tr><tr><td class = \"rowNumber\" style = \"font-weight: bold; text-align: right;\">7</td><td style = \"text-align: right;\">6</td><td style = \"text-align: right;\">81</td><td style = \"text-align: left;\">Blues</td></tr><tr><td class = \"rowNumber\" style = \"font-weight: bold; text-align: right;\">8</td><td style = \"text-align: right;\">24</td><td style = \"text-align: right;\">74</td><td style = \"text-align: left;\">Classical</td></tr><tr><td class = \"rowNumber\" style = \"font-weight: bold; text-align: right;\">9</td><td style = \"text-align: right;\">21</td><td style = \"text-align: right;\">64</td><td style = \"text-align: left;\">Drama</td></tr><tr><td class = \"rowNumber\" style = \"font-weight: bold; text-align: right;\">10</td><td style = \"text-align: right;\">14</td><td style = \"text-align: right;\">61</td><td style = \"text-align: left;\">R&amp;B/Soul</td></tr><tr><td class = \"rowNumber\" style = \"font-weight: bold; text-align: right;\">11</td><td style = \"text-align: right;\">8</td><td style = \"text-align: right;\">58</td><td style = \"text-align: left;\">Reggae</td></tr><tr><td class = \"rowNumber\" style = \"font-weight: bold; text-align: right;\">12</td><td style = \"text-align: right;\">9</td><td style = \"text-align: right;\">48</td><td style = \"text-align: left;\">Pop</td></tr><tr><td class = \"rowNumber\" style = \"font-weight: bold; text-align: right;\">13</td><td style = \"text-align: right;\">10</td><td style = \"text-align: right;\">43</td><td style = \"text-align: left;\">Soundtrack</td></tr><tr><td class = \"rowNumber\" style = \"font-weight: bold; text-align: right;\">14</td><td style = \"text-align: right;\">23</td><td style = \"text-align: right;\">40</td><td style = \"text-align: left;\">Alternative</td></tr><tr><td class = \"rowNumber\" style = \"font-weight: bold; text-align: right;\">15</td><td style = \"text-align: right;\">17</td><td style = \"text-align: right;\">35</td><td style = \"text-align: left;\">Hip Hop/Rap</td></tr><tr><td class = \"rowNumber\" style = \"font-weight: bold; text-align: right;\">16</td><td style = \"text-align: right;\">15</td><td style = \"text-align: right;\">30</td><td style = \"text-align: left;\">Electronica/Dance</td></tr><tr><td class = \"rowNumber\" style = \"font-weight: bold; text-align: right;\">17</td><td style = \"text-align: right;\">13</td><td style = \"text-align: right;\">28</td><td style = \"text-align: left;\">Heavy Metal</td></tr><tr><td class = \"rowNumber\" style = \"font-weight: bold; text-align: right;\">18</td><td style = \"text-align: right;\">16</td><td style = \"text-align: right;\">28</td><td style = \"text-align: left;\">World</td></tr><tr><td class = \"rowNumber\" style = \"font-weight: bold; text-align: right;\">19</td><td style = \"text-align: right;\">20</td><td style = \"text-align: right;\">26</td><td style = \"text-align: left;\">Sci Fi &amp; Fantasy</td></tr><tr><td class = \"rowNumber\" style = \"font-weight: bold; text-align: right;\">20</td><td style = \"text-align: right;\">12</td><td style = \"text-align: right;\">24</td><td style = \"text-align: left;\">Easy Listening</td></tr><tr><td class = \"rowNumber\" style = \"font-weight: bold; text-align: right;\">21</td><td style = \"text-align: right;\">22</td><td style = \"text-align: right;\">17</td><td style = \"text-align: left;\">Comedy</td></tr><tr><td class = \"rowNumber\" style = \"font-weight: bold; text-align: right;\">22</td><td style = \"text-align: right;\">11</td><td style = \"text-align: right;\">15</td><td style = \"text-align: left;\">Bossa Nova</td></tr><tr><td class = \"rowNumber\" style = \"font-weight: bold; text-align: right;\">23</td><td style = \"text-align: right;\">18</td><td style = \"text-align: right;\">13</td><td style = \"text-align: left;\">Science Fiction</td></tr><tr><td class = \"rowNumber\" style = \"font-weight: bold; text-align: right;\">24</td><td style = \"text-align: right;\">5</td><td style = \"text-align: right;\">12</td><td style = \"text-align: left;\">Rock And Roll</td></tr><tr><td class = \"rowNumber\" style = \"font-weight: bold; text-align: right;\">25</td><td style = \"text-align: right;\">25</td><td style = \"text-align: right;\">1</td><td style = \"text-align: left;\">Opera</td></tr></tbody></table></div>"
      ],
      "text/latex": [
       "\\begin{tabular}{r|ccc}\n",
       "\t& GenreId & count & Name\\\\\n",
       "\t\\hline\n",
       "\t& Int64 & Int64 & String\\\\\n",
       "\t\\hline\n",
       "\t1 & 1 & 1297 & Rock \\\\\n",
       "\t2 & 7 & 579 & Latin \\\\\n",
       "\t3 & 3 & 374 & Metal \\\\\n",
       "\t4 & 4 & 332 & Alternative \\& Punk \\\\\n",
       "\t5 & 2 & 130 & Jazz \\\\\n",
       "\t6 & 19 & 93 & TV Shows \\\\\n",
       "\t7 & 6 & 81 & Blues \\\\\n",
       "\t8 & 24 & 74 & Classical \\\\\n",
       "\t9 & 21 & 64 & Drama \\\\\n",
       "\t10 & 14 & 61 & R\\&B/Soul \\\\\n",
       "\t11 & 8 & 58 & Reggae \\\\\n",
       "\t12 & 9 & 48 & Pop \\\\\n",
       "\t13 & 10 & 43 & Soundtrack \\\\\n",
       "\t14 & 23 & 40 & Alternative \\\\\n",
       "\t15 & 17 & 35 & Hip Hop/Rap \\\\\n",
       "\t16 & 15 & 30 & Electronica/Dance \\\\\n",
       "\t17 & 13 & 28 & Heavy Metal \\\\\n",
       "\t18 & 16 & 28 & World \\\\\n",
       "\t19 & 20 & 26 & Sci Fi \\& Fantasy \\\\\n",
       "\t20 & 12 & 24 & Easy Listening \\\\\n",
       "\t21 & 22 & 17 & Comedy \\\\\n",
       "\t22 & 11 & 15 & Bossa Nova \\\\\n",
       "\t23 & 18 & 13 & Science Fiction \\\\\n",
       "\t24 & 5 & 12 & Rock And Roll \\\\\n",
       "\t25 & 25 & 1 & Opera \\\\\n",
       "\\end{tabular}\n"
      ],
      "text/plain": [
       "\u001b[1m25×3 DataFrame\u001b[0m\n",
       "\u001b[1m Row \u001b[0m│\u001b[1m GenreId \u001b[0m\u001b[1m count \u001b[0m\u001b[1m Name               \u001b[0m\n",
       "     │\u001b[90m Int64   \u001b[0m\u001b[90m Int64 \u001b[0m\u001b[90m String             \u001b[0m\n",
       "─────┼────────────────────────────────────\n",
       "   1 │       1   1297  Rock\n",
       "   2 │       7    579  Latin\n",
       "   3 │       3    374  Metal\n",
       "   4 │       4    332  Alternative & Punk\n",
       "   5 │       2    130  Jazz\n",
       "   6 │      19     93  TV Shows\n",
       "   7 │       6     81  Blues\n",
       "   8 │      24     74  Classical\n",
       "   9 │      21     64  Drama\n",
       "  10 │      14     61  R&B/Soul\n",
       "  11 │       8     58  Reggae\n",
       "  ⋮  │    ⋮       ⋮            ⋮\n",
       "  16 │      15     30  Electronica/Dance\n",
       "  17 │      13     28  Heavy Metal\n",
       "  18 │      16     28  World\n",
       "  19 │      20     26  Sci Fi & Fantasy\n",
       "  20 │      12     24  Easy Listening\n",
       "  21 │      22     17  Comedy\n",
       "  22 │      11     15  Bossa Nova\n",
       "  23 │      18     13  Science Fiction\n",
       "  24 │       5     12  Rock And Roll\n",
       "  25 │      25      1  Opera\n",
       "\u001b[36m                            4 rows omitted\u001b[0m"
      ]
     },
     "execution_count": 62,
     "metadata": {},
     "output_type": "execute_result"
    }
   ],
   "source": [
    "result = DBInterface.execute(db, \n",
    "    \"SELECT track.GenreId, count(track.GenreId)  as count , genre.Name FROM track JOIN genre on track.GenreId=genre.GenreId GROUP BY track.GenreId ORDER BY count DESC;\")\n",
    "\n",
    "result_df = DataFrame(result)"
   ]
  },
  {
   "cell_type": "code",
   "execution_count": 64,
   "metadata": {},
   "outputs": [],
   "source": [
    "using Plots"
   ]
  },
  {
   "cell_type": "code",
   "execution_count": 83,
   "metadata": {},
   "outputs": [
    {
     "data": {
      "image/svg+xml": [
       "<?xml version=\"1.0\" encoding=\"utf-8\"?>\n",
       "<svg xmlns=\"http://www.w3.org/2000/svg\" xmlns:xlink=\"http://www.w3.org/1999/xlink\" width=\"600\" height=\"300\" viewBox=\"0 0 2400 1200\">\n",
       "<defs>\n",
       "  <clipPath id=\"clip940\">\n",
       "    <rect x=\"0\" y=\"0\" width=\"2400\" height=\"1200\"/>\n",
       "  </clipPath>\n",
       "</defs>\n",
       "<path clip-path=\"url(#clip940)\" d=\"M0 1200 L2400 1200 L2400 0 L0 0  Z\" fill=\"#ffffff\" fill-rule=\"evenodd\" fill-opacity=\"1\"/>\n",
       "<defs>\n",
       "  <clipPath id=\"clip941\">\n",
       "    <rect x=\"480\" y=\"0\" width=\"1681\" height=\"1200\"/>\n",
       "  </clipPath>\n",
       "</defs>\n",
       "<path clip-path=\"url(#clip940)\" d=\"M192.084 1047.7 L1149.16 1047.7 L1149.16 134.272 L192.084 134.272  Z\" fill=\"#ffffff\" fill-rule=\"evenodd\" fill-opacity=\"1\"/>\n",
       "<defs>\n",
       "  <clipPath id=\"clip942\">\n",
       "    <rect x=\"192\" y=\"134\" width=\"958\" height=\"914\"/>\n",
       "  </clipPath>\n",
       "</defs>\n",
       "<polyline clip-path=\"url(#clip942)\" style=\"stroke:#000000; stroke-linecap:round; stroke-linejoin:round; stroke-width:2; stroke-opacity:0.1; fill:none\" points=\"244.724,1047.7 244.724,134.272 \"/>\n",
       "<polyline clip-path=\"url(#clip942)\" style=\"stroke:#000000; stroke-linecap:round; stroke-linejoin:round; stroke-width:2; stroke-opacity:0.1; fill:none\" points=\"427.251,1047.7 427.251,134.272 \"/>\n",
       "<polyline clip-path=\"url(#clip942)\" style=\"stroke:#000000; stroke-linecap:round; stroke-linejoin:round; stroke-width:2; stroke-opacity:0.1; fill:none\" points=\"609.778,1047.7 609.778,134.272 \"/>\n",
       "<polyline clip-path=\"url(#clip942)\" style=\"stroke:#000000; stroke-linecap:round; stroke-linejoin:round; stroke-width:2; stroke-opacity:0.1; fill:none\" points=\"792.304,1047.7 792.304,134.272 \"/>\n",
       "<polyline clip-path=\"url(#clip942)\" style=\"stroke:#000000; stroke-linecap:round; stroke-linejoin:round; stroke-width:2; stroke-opacity:0.1; fill:none\" points=\"974.831,1047.7 974.831,134.272 \"/>\n",
       "<polyline clip-path=\"url(#clip940)\" style=\"stroke:#000000; stroke-linecap:round; stroke-linejoin:round; stroke-width:4; stroke-opacity:1; fill:none\" points=\"192.084,1047.7 1149.16,1047.7 \"/>\n",
       "<polyline clip-path=\"url(#clip940)\" style=\"stroke:#000000; stroke-linecap:round; stroke-linejoin:round; stroke-width:4; stroke-opacity:1; fill:none\" points=\"244.724,1047.7 244.724,1028.8 \"/>\n",
       "<polyline clip-path=\"url(#clip940)\" style=\"stroke:#000000; stroke-linecap:round; stroke-linejoin:round; stroke-width:4; stroke-opacity:1; fill:none\" points=\"427.251,1047.7 427.251,1028.8 \"/>\n",
       "<polyline clip-path=\"url(#clip940)\" style=\"stroke:#000000; stroke-linecap:round; stroke-linejoin:round; stroke-width:4; stroke-opacity:1; fill:none\" points=\"609.778,1047.7 609.778,1028.8 \"/>\n",
       "<polyline clip-path=\"url(#clip940)\" style=\"stroke:#000000; stroke-linecap:round; stroke-linejoin:round; stroke-width:4; stroke-opacity:1; fill:none\" points=\"792.304,1047.7 792.304,1028.8 \"/>\n",
       "<polyline clip-path=\"url(#clip940)\" style=\"stroke:#000000; stroke-linecap:round; stroke-linejoin:round; stroke-width:4; stroke-opacity:1; fill:none\" points=\"974.831,1047.7 974.831,1028.8 \"/>\n",
       "<path clip-path=\"url(#clip940)\" d=\"M244.724 1078.62 Q241.113 1078.62 239.284 1082.18 Q237.479 1085.72 237.479 1092.85 Q237.479 1099.96 239.284 1103.53 Q241.113 1107.07 244.724 1107.07 Q248.359 1107.07 250.164 1103.53 Q251.993 1099.96 251.993 1092.85 Q251.993 1085.72 250.164 1082.18 Q248.359 1078.62 244.724 1078.62 M244.724 1074.91 Q250.534 1074.91 253.59 1079.52 Q256.669 1084.1 256.669 1092.85 Q256.669 1101.58 253.59 1106.19 Q250.534 1110.77 244.724 1110.77 Q238.914 1110.77 235.835 1106.19 Q232.78 1101.58 232.78 1092.85 Q232.78 1084.1 235.835 1079.52 Q238.914 1074.91 244.724 1074.91 Z\" fill=\"#000000\" fill-rule=\"nonzero\" fill-opacity=\"1\" /><path clip-path=\"url(#clip940)\" d=\"M401.013 1091.47 Q404.369 1092.18 406.244 1094.45 Q408.142 1096.72 408.142 1100.05 Q408.142 1105.17 404.624 1107.97 Q401.105 1110.77 394.624 1110.77 Q392.448 1110.77 390.133 1110.33 Q387.841 1109.91 385.388 1109.06 L385.388 1104.54 Q387.332 1105.68 389.647 1106.26 Q391.962 1106.84 394.485 1106.84 Q398.883 1106.84 401.175 1105.1 Q403.489 1103.36 403.489 1100.05 Q403.489 1097 401.337 1095.29 Q399.207 1093.55 395.388 1093.55 L391.36 1093.55 L391.36 1089.71 L395.573 1089.71 Q399.022 1089.71 400.851 1088.34 Q402.679 1086.95 402.679 1084.36 Q402.679 1081.7 400.781 1080.29 Q398.906 1078.85 395.388 1078.85 Q393.466 1078.85 391.267 1079.27 Q389.068 1079.68 386.429 1080.56 L386.429 1076.4 Q389.091 1075.66 391.406 1075.29 Q393.744 1074.91 395.804 1074.91 Q401.128 1074.91 404.23 1077.35 Q407.332 1079.75 407.332 1083.87 Q407.332 1086.74 405.689 1088.73 Q404.045 1090.7 401.013 1091.47 Z\" fill=\"#000000\" fill-rule=\"nonzero\" fill-opacity=\"1\" /><path clip-path=\"url(#clip940)\" d=\"M427.008 1078.62 Q423.397 1078.62 421.568 1082.18 Q419.763 1085.72 419.763 1092.85 Q419.763 1099.96 421.568 1103.53 Q423.397 1107.07 427.008 1107.07 Q430.642 1107.07 432.448 1103.53 Q434.276 1099.96 434.276 1092.85 Q434.276 1085.72 432.448 1082.18 Q430.642 1078.62 427.008 1078.62 M427.008 1074.91 Q432.818 1074.91 435.874 1079.52 Q438.952 1084.1 438.952 1092.85 Q438.952 1101.58 435.874 1106.19 Q432.818 1110.77 427.008 1110.77 Q421.198 1110.77 418.119 1106.19 Q415.064 1101.58 415.064 1092.85 Q415.064 1084.1 418.119 1079.52 Q421.198 1074.91 427.008 1074.91 Z\" fill=\"#000000\" fill-rule=\"nonzero\" fill-opacity=\"1\" /><path clip-path=\"url(#clip940)\" d=\"M457.17 1078.62 Q453.559 1078.62 451.73 1082.18 Q449.924 1085.72 449.924 1092.85 Q449.924 1099.96 451.73 1103.53 Q453.559 1107.07 457.17 1107.07 Q460.804 1107.07 462.61 1103.53 Q464.438 1099.96 464.438 1092.85 Q464.438 1085.72 462.61 1082.18 Q460.804 1078.62 457.17 1078.62 M457.17 1074.91 Q462.98 1074.91 466.035 1079.52 Q469.114 1084.1 469.114 1092.85 Q469.114 1101.58 466.035 1106.19 Q462.98 1110.77 457.17 1110.77 Q451.36 1110.77 448.281 1106.19 Q445.225 1101.58 445.225 1092.85 Q445.225 1084.1 448.281 1079.52 Q451.36 1074.91 457.17 1074.91 Z\" fill=\"#000000\" fill-rule=\"nonzero\" fill-opacity=\"1\" /><path clip-path=\"url(#clip940)\" d=\"M580.102 1090.96 Q576.954 1090.96 575.102 1093.11 Q573.273 1095.26 573.273 1099.01 Q573.273 1102.74 575.102 1104.91 Q576.954 1107.07 580.102 1107.07 Q583.25 1107.07 585.079 1104.91 Q586.931 1102.74 586.931 1099.01 Q586.931 1095.26 585.079 1093.11 Q583.25 1090.96 580.102 1090.96 M589.384 1076.3 L589.384 1080.56 Q587.625 1079.73 585.819 1079.29 Q584.037 1078.85 582.278 1078.85 Q577.648 1078.85 575.194 1081.97 Q572.764 1085.1 572.417 1091.42 Q573.782 1089.41 575.843 1088.34 Q577.903 1087.25 580.38 1087.25 Q585.588 1087.25 588.597 1090.42 Q591.63 1093.57 591.63 1099.01 Q591.63 1104.34 588.481 1107.55 Q585.333 1110.77 580.102 1110.77 Q574.107 1110.77 570.935 1106.19 Q567.764 1101.58 567.764 1092.85 Q567.764 1084.66 571.653 1079.8 Q575.542 1074.91 582.093 1074.91 Q583.852 1074.91 585.634 1075.26 Q587.44 1075.61 589.384 1076.3 Z\" fill=\"#000000\" fill-rule=\"nonzero\" fill-opacity=\"1\" /><path clip-path=\"url(#clip940)\" d=\"M609.685 1078.62 Q606.074 1078.62 604.245 1082.18 Q602.44 1085.72 602.44 1092.85 Q602.44 1099.96 604.245 1103.53 Q606.074 1107.07 609.685 1107.07 Q613.319 1107.07 615.125 1103.53 Q616.953 1099.96 616.953 1092.85 Q616.953 1085.72 615.125 1082.18 Q613.319 1078.62 609.685 1078.62 M609.685 1074.91 Q615.495 1074.91 618.551 1079.52 Q621.629 1084.1 621.629 1092.85 Q621.629 1101.58 618.551 1106.19 Q615.495 1110.77 609.685 1110.77 Q603.875 1110.77 600.796 1106.19 Q597.741 1101.58 597.741 1092.85 Q597.741 1084.1 600.796 1079.52 Q603.875 1074.91 609.685 1074.91 Z\" fill=\"#000000\" fill-rule=\"nonzero\" fill-opacity=\"1\" /><path clip-path=\"url(#clip940)\" d=\"M639.847 1078.62 Q636.236 1078.62 634.407 1082.18 Q632.602 1085.72 632.602 1092.85 Q632.602 1099.96 634.407 1103.53 Q636.236 1107.07 639.847 1107.07 Q643.481 1107.07 645.287 1103.53 Q647.115 1099.96 647.115 1092.85 Q647.115 1085.72 645.287 1082.18 Q643.481 1078.62 639.847 1078.62 M639.847 1074.91 Q645.657 1074.91 648.713 1079.52 Q651.791 1084.1 651.791 1092.85 Q651.791 1101.58 648.713 1106.19 Q645.657 1110.77 639.847 1110.77 Q634.037 1110.77 630.958 1106.19 Q627.903 1101.58 627.903 1092.85 Q627.903 1084.1 630.958 1079.52 Q634.037 1074.91 639.847 1074.91 Z\" fill=\"#000000\" fill-rule=\"nonzero\" fill-opacity=\"1\" /><path clip-path=\"url(#clip940)\" d=\"M752.351 1109.38 L752.351 1105.12 Q754.11 1105.96 755.916 1106.4 Q757.721 1106.84 759.457 1106.84 Q764.087 1106.84 766.517 1103.73 Q768.971 1100.61 769.318 1094.27 Q767.976 1096.26 765.916 1097.32 Q763.855 1098.39 761.355 1098.39 Q756.17 1098.39 753.138 1095.26 Q750.129 1092.11 750.129 1086.67 Q750.129 1081.35 753.277 1078.13 Q756.425 1074.91 761.656 1074.91 Q767.652 1074.91 770.8 1079.52 Q773.971 1084.1 773.971 1092.85 Q773.971 1101.03 770.082 1105.91 Q766.216 1110.77 759.666 1110.77 Q757.906 1110.77 756.101 1110.42 Q754.295 1110.08 752.351 1109.38 M761.656 1094.73 Q764.804 1094.73 766.633 1092.58 Q768.485 1090.42 768.485 1086.67 Q768.485 1082.95 766.633 1080.79 Q764.804 1078.62 761.656 1078.62 Q758.508 1078.62 756.656 1080.79 Q754.828 1082.95 754.828 1086.67 Q754.828 1090.42 756.656 1092.58 Q758.508 1094.73 761.656 1094.73 Z\" fill=\"#000000\" fill-rule=\"nonzero\" fill-opacity=\"1\" /><path clip-path=\"url(#clip940)\" d=\"M792.374 1078.62 Q788.763 1078.62 786.934 1082.18 Q785.128 1085.72 785.128 1092.85 Q785.128 1099.96 786.934 1103.53 Q788.763 1107.07 792.374 1107.07 Q796.008 1107.07 797.814 1103.53 Q799.642 1099.96 799.642 1092.85 Q799.642 1085.72 797.814 1082.18 Q796.008 1078.62 792.374 1078.62 M792.374 1074.91 Q798.184 1074.91 801.239 1079.52 Q804.318 1084.1 804.318 1092.85 Q804.318 1101.58 801.239 1106.19 Q798.184 1110.77 792.374 1110.77 Q786.564 1110.77 783.485 1106.19 Q780.429 1101.58 780.429 1092.85 Q780.429 1084.1 783.485 1079.52 Q786.564 1074.91 792.374 1074.91 Z\" fill=\"#000000\" fill-rule=\"nonzero\" fill-opacity=\"1\" /><path clip-path=\"url(#clip940)\" d=\"M822.536 1078.62 Q818.925 1078.62 817.096 1082.18 Q815.29 1085.72 815.29 1092.85 Q815.29 1099.96 817.096 1103.53 Q818.925 1107.07 822.536 1107.07 Q826.17 1107.07 827.975 1103.53 Q829.804 1099.96 829.804 1092.85 Q829.804 1085.72 827.975 1082.18 Q826.17 1078.62 822.536 1078.62 M822.536 1074.91 Q828.346 1074.91 831.401 1079.52 Q834.48 1084.1 834.48 1092.85 Q834.48 1101.58 831.401 1106.19 Q828.346 1110.77 822.536 1110.77 Q816.725 1110.77 813.647 1106.19 Q810.591 1101.58 810.591 1092.85 Q810.591 1084.1 813.647 1079.52 Q816.725 1074.91 822.536 1074.91 Z\" fill=\"#000000\" fill-rule=\"nonzero\" fill-opacity=\"1\" /><path clip-path=\"url(#clip940)\" d=\"M919.357 1106.16 L926.996 1106.16 L926.996 1079.8 L918.685 1081.47 L918.685 1077.21 L926.949 1075.54 L931.625 1075.54 L931.625 1106.16 L939.264 1106.16 L939.264 1110.1 L919.357 1110.1 L919.357 1106.16 Z\" fill=\"#000000\" fill-rule=\"nonzero\" fill-opacity=\"1\" /><path clip-path=\"url(#clip940)\" d=\"M952.736 1106.16 L969.056 1106.16 L969.056 1110.1 L947.111 1110.1 L947.111 1106.16 Q949.773 1103.41 954.357 1098.78 Q958.963 1094.13 960.144 1092.79 Q962.389 1090.26 963.269 1088.53 Q964.171 1086.77 964.171 1085.08 Q964.171 1082.32 962.227 1080.59 Q960.306 1078.85 957.204 1078.85 Q955.005 1078.85 952.551 1079.61 Q950.12 1080.38 947.343 1081.93 L947.343 1077.21 Q950.167 1076.07 952.62 1075.49 Q955.074 1074.91 957.111 1074.91 Q962.481 1074.91 965.676 1077.6 Q968.87 1080.29 968.87 1084.78 Q968.87 1086.91 968.06 1088.83 Q967.273 1090.72 965.167 1093.32 Q964.588 1093.99 961.486 1097.21 Q958.384 1100.4 952.736 1106.16 Z\" fill=\"#000000\" fill-rule=\"nonzero\" fill-opacity=\"1\" /><path clip-path=\"url(#clip940)\" d=\"M988.87 1078.62 Q985.259 1078.62 983.43 1082.18 Q981.625 1085.72 981.625 1092.85 Q981.625 1099.96 983.43 1103.53 Q985.259 1107.07 988.87 1107.07 Q992.504 1107.07 994.31 1103.53 Q996.139 1099.96 996.139 1092.85 Q996.139 1085.72 994.31 1082.18 Q992.504 1078.62 988.87 1078.62 M988.87 1074.91 Q994.68 1074.91 997.736 1079.52 Q1000.81 1084.1 1000.81 1092.85 Q1000.81 1101.58 997.736 1106.19 Q994.68 1110.77 988.87 1110.77 Q983.06 1110.77 979.981 1106.19 Q976.926 1101.58 976.926 1092.85 Q976.926 1084.1 979.981 1079.52 Q983.06 1074.91 988.87 1074.91 Z\" fill=\"#000000\" fill-rule=\"nonzero\" fill-opacity=\"1\" /><path clip-path=\"url(#clip940)\" d=\"M1019.03 1078.62 Q1015.42 1078.62 1013.59 1082.18 Q1011.79 1085.72 1011.79 1092.85 Q1011.79 1099.96 1013.59 1103.53 Q1015.42 1107.07 1019.03 1107.07 Q1022.67 1107.07 1024.47 1103.53 Q1026.3 1099.96 1026.3 1092.85 Q1026.3 1085.72 1024.47 1082.18 Q1022.67 1078.62 1019.03 1078.62 M1019.03 1074.91 Q1024.84 1074.91 1027.9 1079.52 Q1030.98 1084.1 1030.98 1092.85 Q1030.98 1101.58 1027.9 1106.19 Q1024.84 1110.77 1019.03 1110.77 Q1013.22 1110.77 1010.14 1106.19 Q1007.09 1101.58 1007.09 1092.85 Q1007.09 1084.1 1010.14 1079.52 Q1013.22 1074.91 1019.03 1074.91 Z\" fill=\"#000000\" fill-rule=\"nonzero\" fill-opacity=\"1\" /><path clip-path=\"url(#clip940)\" d=\"M502.756 1174.33 Q502.756 1167.96 500.114 1164.46 Q497.504 1160.96 492.762 1160.96 Q488.051 1160.96 485.41 1164.46 Q482.8 1167.96 482.8 1174.33 Q482.8 1180.66 485.41 1184.16 Q488.051 1187.66 492.762 1187.66 Q497.504 1187.66 500.114 1184.16 Q502.756 1180.66 502.756 1174.33 M508.613 1188.14 Q508.613 1197.24 504.57 1201.67 Q500.528 1206.12 492.189 1206.12 Q489.102 1206.12 486.364 1205.65 Q483.627 1205.2 481.049 1204.24 L481.049 1198.55 Q483.627 1199.95 486.142 1200.62 Q488.656 1201.28 491.266 1201.28 Q497.027 1201.28 499.892 1198.26 Q502.756 1195.27 502.756 1189.19 L502.756 1186.29 Q500.942 1189.44 498.109 1191 Q495.276 1192.56 491.33 1192.56 Q484.773 1192.56 480.763 1187.57 Q476.752 1182.57 476.752 1174.33 Q476.752 1166.05 480.763 1161.05 Q484.773 1156.06 491.33 1156.06 Q495.276 1156.06 498.109 1157.62 Q500.942 1159.18 502.756 1162.33 L502.756 1156.92 L508.613 1156.92 L508.613 1188.14 Z\" fill=\"#000000\" fill-rule=\"nonzero\" fill-opacity=\"1\" /><path clip-path=\"url(#clip940)\" d=\"M551.167 1173.28 L551.167 1176.14 L524.24 1176.14 Q524.622 1182.19 527.869 1185.37 Q531.147 1188.52 536.972 1188.52 Q540.346 1188.52 543.497 1187.69 Q546.68 1186.87 549.799 1185.21 L549.799 1190.75 Q546.648 1192.09 543.338 1192.79 Q540.027 1193.49 536.622 1193.49 Q528.092 1193.49 523.095 1188.52 Q518.129 1183.56 518.129 1175.09 Q518.129 1166.34 522.84 1161.21 Q527.582 1156.06 535.603 1156.06 Q542.796 1156.06 546.966 1160.7 Q551.167 1165.32 551.167 1173.28 M545.311 1171.56 Q545.247 1166.75 542.605 1163.89 Q539.996 1161.02 535.667 1161.02 Q530.765 1161.02 527.805 1163.79 Q524.877 1166.56 524.431 1171.59 L545.311 1171.56 Z\" fill=\"#000000\" fill-rule=\"nonzero\" fill-opacity=\"1\" /><path clip-path=\"url(#clip940)\" d=\"M590.412 1171.05 L590.412 1192.56 L584.555 1192.56 L584.555 1171.24 Q584.555 1166.18 582.582 1163.66 Q580.609 1161.15 576.662 1161.15 Q571.92 1161.15 569.182 1164.17 Q566.445 1167.2 566.445 1172.42 L566.445 1192.56 L560.557 1192.56 L560.557 1156.92 L566.445 1156.92 L566.445 1162.45 Q568.546 1159.24 571.378 1157.65 Q574.243 1156.06 577.967 1156.06 Q584.11 1156.06 587.261 1159.88 Q590.412 1163.66 590.412 1171.05 Z\" fill=\"#000000\" fill-rule=\"nonzero\" fill-opacity=\"1\" /><path clip-path=\"url(#clip940)\" d=\"M622.75 1162.39 Q621.763 1161.82 620.585 1161.56 Q619.44 1161.28 618.039 1161.28 Q613.074 1161.28 610.4 1164.52 Q607.758 1167.74 607.758 1173.79 L607.758 1192.56 L601.87 1192.56 L601.87 1156.92 L607.758 1156.92 L607.758 1162.45 Q609.605 1159.21 612.565 1157.65 Q615.525 1156.06 619.758 1156.06 Q620.363 1156.06 621.095 1156.15 Q621.827 1156.22 622.718 1156.37 L622.75 1162.39 Z\" fill=\"#000000\" fill-rule=\"nonzero\" fill-opacity=\"1\" /><path clip-path=\"url(#clip940)\" d=\"M657.952 1173.28 L657.952 1176.14 L631.025 1176.14 Q631.407 1182.19 634.654 1185.37 Q637.932 1188.52 643.757 1188.52 Q647.13 1188.52 650.281 1187.69 Q653.464 1186.87 656.583 1185.21 L656.583 1190.75 Q653.432 1192.09 650.122 1192.79 Q646.812 1193.49 643.406 1193.49 Q634.876 1193.49 629.879 1188.52 Q624.914 1183.56 624.914 1175.09 Q624.914 1166.34 629.625 1161.21 Q634.367 1156.06 642.388 1156.06 Q649.581 1156.06 653.751 1160.7 Q657.952 1165.32 657.952 1173.28 M652.096 1171.56 Q652.032 1166.75 649.39 1163.89 Q646.78 1161.02 642.452 1161.02 Q637.55 1161.02 634.59 1163.79 Q631.662 1166.56 631.216 1171.59 L652.096 1171.56 Z\" fill=\"#000000\" fill-rule=\"nonzero\" fill-opacity=\"1\" /><path clip-path=\"url(#clip940)\" d=\"M713.938 1158.28 L713.938 1163.76 Q711.456 1162.39 708.941 1161.72 Q706.459 1161.02 703.912 1161.02 Q698.215 1161.02 695.064 1164.65 Q691.913 1168.25 691.913 1174.77 Q691.913 1181.3 695.064 1184.92 Q698.215 1188.52 703.912 1188.52 Q706.459 1188.52 708.941 1187.85 Q711.456 1187.15 713.938 1185.78 L713.938 1191.2 Q711.488 1192.34 708.846 1192.91 Q706.236 1193.49 703.276 1193.49 Q695.223 1193.49 690.481 1188.43 Q685.738 1183.37 685.738 1174.77 Q685.738 1166.05 690.513 1161.05 Q695.319 1156.06 703.658 1156.06 Q706.363 1156.06 708.941 1156.63 Q711.52 1157.17 713.938 1158.28 Z\" fill=\"#000000\" fill-rule=\"nonzero\" fill-opacity=\"1\" /><path clip-path=\"url(#clip940)\" d=\"M737.937 1161.02 Q733.227 1161.02 730.489 1164.71 Q727.752 1168.37 727.752 1174.77 Q727.752 1181.17 730.457 1184.86 Q733.195 1188.52 737.937 1188.52 Q742.616 1188.52 745.353 1184.83 Q748.09 1181.14 748.09 1174.77 Q748.09 1168.44 745.353 1164.75 Q742.616 1161.02 737.937 1161.02 M737.937 1156.06 Q745.576 1156.06 749.937 1161.02 Q754.297 1165.99 754.297 1174.77 Q754.297 1183.52 749.937 1188.52 Q745.576 1193.49 737.937 1193.49 Q730.267 1193.49 725.906 1188.52 Q721.577 1183.52 721.577 1174.77 Q721.577 1165.99 725.906 1161.02 Q730.267 1156.06 737.937 1156.06 Z\" fill=\"#000000\" fill-rule=\"nonzero\" fill-opacity=\"1\" /><path clip-path=\"url(#clip940)\" d=\"M763.4 1178.5 L763.4 1156.92 L769.256 1156.92 L769.256 1178.27 Q769.256 1183.33 771.23 1185.88 Q773.203 1188.39 777.15 1188.39 Q781.892 1188.39 784.63 1185.37 Q787.399 1182.35 787.399 1177.13 L787.399 1156.92 L793.255 1156.92 L793.255 1192.56 L787.399 1192.56 L787.399 1187.09 Q785.266 1190.34 782.433 1191.93 Q779.633 1193.49 775.909 1193.49 Q769.766 1193.49 766.583 1189.67 Q763.4 1185.85 763.4 1178.5 M778.137 1156.06 L778.137 1156.06 Z\" fill=\"#000000\" fill-rule=\"nonzero\" fill-opacity=\"1\" /><path clip-path=\"url(#clip940)\" d=\"M834.951 1171.05 L834.951 1192.56 L829.094 1192.56 L829.094 1171.24 Q829.094 1166.18 827.121 1163.66 Q825.147 1161.15 821.201 1161.15 Q816.458 1161.15 813.721 1164.17 Q810.984 1167.2 810.984 1172.42 L810.984 1192.56 L805.095 1192.56 L805.095 1156.92 L810.984 1156.92 L810.984 1162.45 Q813.084 1159.24 815.917 1157.65 Q818.782 1156.06 822.506 1156.06 Q828.649 1156.06 831.8 1159.88 Q834.951 1163.66 834.951 1171.05 Z\" fill=\"#000000\" fill-rule=\"nonzero\" fill-opacity=\"1\" /><path clip-path=\"url(#clip940)\" d=\"M852.424 1146.79 L852.424 1156.92 L864.487 1156.92 L864.487 1161.47 L852.424 1161.47 L852.424 1180.82 Q852.424 1185.18 853.602 1186.42 Q854.812 1187.66 858.472 1187.66 L864.487 1187.66 L864.487 1192.56 L858.472 1192.56 Q851.692 1192.56 849.114 1190.05 Q846.536 1187.5 846.536 1180.82 L846.536 1161.47 L842.239 1161.47 L842.239 1156.92 L846.536 1156.92 L846.536 1146.79 L852.424 1146.79 Z\" fill=\"#000000\" fill-rule=\"nonzero\" fill-opacity=\"1\" /><polyline clip-path=\"url(#clip942)\" style=\"stroke:#000000; stroke-linecap:round; stroke-linejoin:round; stroke-width:2; stroke-opacity:0.1; fill:none\" points=\"192.084,1021.85 1149.16,1021.85 \"/>\n",
       "<polyline clip-path=\"url(#clip942)\" style=\"stroke:#000000; stroke-linecap:round; stroke-linejoin:round; stroke-width:2; stroke-opacity:0.1; fill:none\" points=\"192.084,816.676 1149.16,816.676 \"/>\n",
       "<polyline clip-path=\"url(#clip942)\" style=\"stroke:#000000; stroke-linecap:round; stroke-linejoin:round; stroke-width:2; stroke-opacity:0.1; fill:none\" points=\"192.084,611.503 1149.16,611.503 \"/>\n",
       "<polyline clip-path=\"url(#clip942)\" style=\"stroke:#000000; stroke-linecap:round; stroke-linejoin:round; stroke-width:2; stroke-opacity:0.1; fill:none\" points=\"192.084,406.331 1149.16,406.331 \"/>\n",
       "<polyline clip-path=\"url(#clip942)\" style=\"stroke:#000000; stroke-linecap:round; stroke-linejoin:round; stroke-width:2; stroke-opacity:0.1; fill:none\" points=\"192.084,201.158 1149.16,201.158 \"/>\n",
       "<polyline clip-path=\"url(#clip940)\" style=\"stroke:#000000; stroke-linecap:round; stroke-linejoin:round; stroke-width:4; stroke-opacity:1; fill:none\" points=\"192.084,1047.7 192.084,134.272 \"/>\n",
       "<polyline clip-path=\"url(#clip940)\" style=\"stroke:#000000; stroke-linecap:round; stroke-linejoin:round; stroke-width:4; stroke-opacity:1; fill:none\" points=\"192.084,1021.85 210.981,1021.85 \"/>\n",
       "<polyline clip-path=\"url(#clip940)\" style=\"stroke:#000000; stroke-linecap:round; stroke-linejoin:round; stroke-width:4; stroke-opacity:1; fill:none\" points=\"192.084,816.676 210.981,816.676 \"/>\n",
       "<polyline clip-path=\"url(#clip940)\" style=\"stroke:#000000; stroke-linecap:round; stroke-linejoin:round; stroke-width:4; stroke-opacity:1; fill:none\" points=\"192.084,611.503 210.981,611.503 \"/>\n",
       "<polyline clip-path=\"url(#clip940)\" style=\"stroke:#000000; stroke-linecap:round; stroke-linejoin:round; stroke-width:4; stroke-opacity:1; fill:none\" points=\"192.084,406.331 210.981,406.331 \"/>\n",
       "<polyline clip-path=\"url(#clip940)\" style=\"stroke:#000000; stroke-linecap:round; stroke-linejoin:round; stroke-width:4; stroke-opacity:1; fill:none\" points=\"192.084,201.158 210.981,201.158 \"/>\n",
       "<path clip-path=\"url(#clip940)\" d=\"M144.139 1007.65 Q140.528 1007.65 138.699 1011.21 Q136.894 1014.75 136.894 1021.88 Q136.894 1028.99 138.699 1032.55 Q140.528 1036.1 144.139 1036.1 Q147.773 1036.1 149.579 1032.55 Q151.408 1028.99 151.408 1021.88 Q151.408 1014.75 149.579 1011.21 Q147.773 1007.65 144.139 1007.65 M144.139 1003.94 Q149.949 1003.94 153.005 1008.55 Q156.084 1013.13 156.084 1021.88 Q156.084 1030.61 153.005 1035.22 Q149.949 1039.8 144.139 1039.8 Q138.329 1039.8 135.25 1035.22 Q132.195 1030.61 132.195 1021.88 Q132.195 1013.13 135.25 1008.55 Q138.329 1003.94 144.139 1003.94 Z\" fill=\"#000000\" fill-rule=\"nonzero\" fill-opacity=\"1\" /><path clip-path=\"url(#clip940)\" d=\"M135.181 799.396 L153.537 799.396 L153.537 803.331 L139.463 803.331 L139.463 811.803 Q140.482 811.456 141.5 811.294 Q142.519 811.109 143.537 811.109 Q149.324 811.109 152.704 814.28 Q156.084 817.451 156.084 822.868 Q156.084 828.446 152.611 831.548 Q149.139 834.627 142.82 834.627 Q140.644 834.627 138.375 834.257 Q136.13 833.886 133.723 833.145 L133.723 828.446 Q135.806 829.581 138.028 830.136 Q140.25 830.692 142.727 830.692 Q146.732 830.692 149.07 828.585 Q151.408 826.479 151.408 822.868 Q151.408 819.257 149.07 817.15 Q146.732 815.044 142.727 815.044 Q140.852 815.044 138.977 815.46 Q137.125 815.877 135.181 816.757 L135.181 799.396 Z\" fill=\"#000000\" fill-rule=\"nonzero\" fill-opacity=\"1\" /><path clip-path=\"url(#clip940)\" d=\"M104.788 624.848 L112.426 624.848 L112.426 598.482 L104.116 600.149 L104.116 595.89 L112.38 594.223 L117.056 594.223 L117.056 624.848 L124.695 624.848 L124.695 628.783 L104.788 628.783 L104.788 624.848 Z\" fill=\"#000000\" fill-rule=\"nonzero\" fill-opacity=\"1\" /><path clip-path=\"url(#clip940)\" d=\"M144.139 597.302 Q140.528 597.302 138.699 600.867 Q136.894 604.408 136.894 611.538 Q136.894 618.644 138.699 622.209 Q140.528 625.751 144.139 625.751 Q147.773 625.751 149.579 622.209 Q151.408 618.644 151.408 611.538 Q151.408 604.408 149.579 600.867 Q147.773 597.302 144.139 597.302 M144.139 593.598 Q149.949 593.598 153.005 598.205 Q156.084 602.788 156.084 611.538 Q156.084 620.265 153.005 624.871 Q149.949 629.455 144.139 629.455 Q138.329 629.455 135.25 624.871 Q132.195 620.265 132.195 611.538 Q132.195 602.788 135.25 598.205 Q138.329 593.598 144.139 593.598 Z\" fill=\"#000000\" fill-rule=\"nonzero\" fill-opacity=\"1\" /><path clip-path=\"url(#clip940)\" d=\"M105.783 419.676 L113.422 419.676 L113.422 393.31 L105.112 394.977 L105.112 390.717 L113.375 389.051 L118.051 389.051 L118.051 419.676 L125.69 419.676 L125.69 423.611 L105.783 423.611 L105.783 419.676 Z\" fill=\"#000000\" fill-rule=\"nonzero\" fill-opacity=\"1\" /><path clip-path=\"url(#clip940)\" d=\"M135.181 389.051 L153.537 389.051 L153.537 392.986 L139.463 392.986 L139.463 401.458 Q140.482 401.111 141.5 400.949 Q142.519 400.764 143.537 400.764 Q149.324 400.764 152.704 403.935 Q156.084 407.106 156.084 412.523 Q156.084 418.102 152.611 421.203 Q149.139 424.282 142.82 424.282 Q140.644 424.282 138.375 423.912 Q136.13 423.541 133.723 422.801 L133.723 418.102 Q135.806 419.236 138.028 419.791 Q140.25 420.347 142.727 420.347 Q146.732 420.347 149.07 418.24 Q151.408 416.134 151.408 412.523 Q151.408 408.912 149.07 406.805 Q146.732 404.699 142.727 404.699 Q140.852 404.699 138.977 405.116 Q137.125 405.532 135.181 406.412 L135.181 389.051 Z\" fill=\"#000000\" fill-rule=\"nonzero\" fill-opacity=\"1\" /><path clip-path=\"url(#clip940)\" d=\"M108.005 214.503 L124.324 214.503 L124.324 218.438 L102.38 218.438 L102.38 214.503 Q105.042 211.749 109.625 207.119 Q114.232 202.466 115.412 201.124 Q117.658 198.6 118.537 196.864 Q119.44 195.105 119.44 193.415 Q119.44 190.661 117.496 188.925 Q115.575 187.189 112.473 187.189 Q110.274 187.189 107.82 187.952 Q105.389 188.716 102.612 190.267 L102.612 185.545 Q105.436 184.411 107.889 183.832 Q110.343 183.253 112.38 183.253 Q117.75 183.253 120.945 185.939 Q124.139 188.624 124.139 193.114 Q124.139 195.244 123.329 197.165 Q122.542 199.063 120.436 201.656 Q119.857 202.327 116.755 205.545 Q113.653 208.739 108.005 214.503 Z\" fill=\"#000000\" fill-rule=\"nonzero\" fill-opacity=\"1\" /><path clip-path=\"url(#clip940)\" d=\"M144.139 186.957 Q140.528 186.957 138.699 190.522 Q136.894 194.063 136.894 201.193 Q136.894 208.3 138.699 211.864 Q140.528 215.406 144.139 215.406 Q147.773 215.406 149.579 211.864 Q151.408 208.3 151.408 201.193 Q151.408 194.063 149.579 190.522 Q147.773 186.957 144.139 186.957 M144.139 183.253 Q149.949 183.253 153.005 187.86 Q156.084 192.443 156.084 201.193 Q156.084 209.92 153.005 214.526 Q149.949 219.11 144.139 219.11 Q138.329 219.11 135.25 214.526 Q132.195 209.92 132.195 201.193 Q132.195 192.443 135.25 187.86 Q138.329 183.253 144.139 183.253 Z\" fill=\"#000000\" fill-rule=\"nonzero\" fill-opacity=\"1\" /><path clip-path=\"url(#clip940)\" d=\"M17.8448 652.16 L23.3193 652.16 Q21.9507 654.643 21.2823 657.158 Q20.5821 659.64 20.5821 662.186 Q20.5821 667.884 24.2105 671.035 Q27.8072 674.186 34.332 674.186 Q40.8569 674.186 44.4853 671.035 Q48.0819 667.884 48.0819 662.186 Q48.0819 659.64 47.4135 657.158 Q46.7133 654.643 45.3447 652.16 L50.7555 652.16 Q51.9014 654.611 52.4743 657.253 Q53.0472 659.863 53.0472 662.823 Q53.0472 670.876 47.9864 675.618 Q42.9257 680.361 34.332 680.361 Q25.611 680.361 20.6139 675.586 Q15.6168 670.78 15.6168 662.441 Q15.6168 659.736 16.1897 657.158 Q16.7308 654.579 17.8448 652.16 Z\" fill=\"#000000\" fill-rule=\"nonzero\" fill-opacity=\"1\" /><path clip-path=\"url(#clip940)\" d=\"M20.5821 628.162 Q20.5821 632.872 24.2742 635.61 Q27.9345 638.347 34.332 638.347 Q40.7295 638.347 44.4217 635.641 Q48.0819 632.904 48.0819 628.162 Q48.0819 623.483 44.3898 620.746 Q40.6977 618.008 34.332 618.008 Q27.9981 618.008 24.306 620.746 Q20.5821 623.483 20.5821 628.162 M15.6168 628.162 Q15.6168 620.523 20.5821 616.162 Q25.5473 611.802 34.332 611.802 Q43.0849 611.802 48.0819 616.162 Q53.0472 620.523 53.0472 628.162 Q53.0472 635.832 48.0819 640.193 Q43.0849 644.522 34.332 644.522 Q25.5473 644.522 20.5821 640.193 Q15.6168 635.832 15.6168 628.162 Z\" fill=\"#000000\" fill-rule=\"nonzero\" fill-opacity=\"1\" /><path clip-path=\"url(#clip940)\" d=\"M38.0559 602.699 L16.4762 602.699 L16.4762 596.842 L37.8331 596.842 Q42.8939 596.842 45.4402 594.869 Q47.9546 592.896 47.9546 588.949 Q47.9546 584.207 44.9309 581.469 Q41.9072 578.7 36.6873 578.7 L16.4762 578.7 L16.4762 572.844 L52.1242 572.844 L52.1242 578.7 L46.6496 578.7 Q49.8962 580.833 51.4876 583.665 Q53.0472 586.466 53.0472 590.19 Q53.0472 596.333 49.2278 599.516 Q45.4083 602.699 38.0559 602.699 M15.6168 587.962 L15.6168 587.962 Z\" fill=\"#000000\" fill-rule=\"nonzero\" fill-opacity=\"1\" /><path clip-path=\"url(#clip940)\" d=\"M30.6081 531.148 L52.1242 531.148 L52.1242 537.005 L30.799 537.005 Q25.7383 537.005 23.2238 538.978 Q20.7094 540.952 20.7094 544.898 Q20.7094 549.641 23.7331 552.378 Q26.7568 555.115 31.9767 555.115 L52.1242 555.115 L52.1242 561.004 L16.4762 561.004 L16.4762 555.115 L22.0144 555.115 Q18.7997 553.015 17.2083 550.182 Q15.6168 547.317 15.6168 543.593 Q15.6168 537.45 19.4363 534.299 Q23.2238 531.148 30.6081 531.148 Z\" fill=\"#000000\" fill-rule=\"nonzero\" fill-opacity=\"1\" /><path clip-path=\"url(#clip940)\" d=\"M6.35473 513.674 L16.4762 513.674 L16.4762 501.611 L21.0277 501.611 L21.0277 513.674 L40.3794 513.674 Q44.7399 513.674 45.9813 512.497 Q47.2226 511.287 47.2226 507.627 L47.2226 501.611 L52.1242 501.611 L52.1242 507.627 Q52.1242 514.407 49.6097 516.985 Q47.0634 519.563 40.3794 519.563 L21.0277 519.563 L21.0277 523.86 L16.4762 523.86 L16.4762 519.563 L6.35473 519.563 L6.35473 513.674 Z\" fill=\"#000000\" fill-rule=\"nonzero\" fill-opacity=\"1\" /><path clip-path=\"url(#clip940)\" d=\"M434.548 52.1399 L434.548 73.656 L428.691 73.656 L428.691 52.3309 Q428.691 47.2701 426.718 44.7557 Q424.744 42.2412 420.798 42.2412 Q416.055 42.2412 413.318 45.2649 Q410.581 48.2887 410.581 53.5085 L410.581 73.656 L404.692 73.656 L404.692 24.1308 L410.581 24.1308 L410.581 43.5462 Q412.681 40.3315 415.514 38.7401 Q418.379 37.1487 422.103 37.1487 Q428.246 37.1487 431.397 40.9681 Q434.548 44.7557 434.548 52.1399 Z\" fill=\"#000000\" fill-rule=\"nonzero\" fill-opacity=\"1\" /><path clip-path=\"url(#clip940)\" d=\"M446.229 38.008 L452.085 38.008 L452.085 73.656 L446.229 73.656 L446.229 38.008 M446.229 24.1308 L452.085 24.1308 L452.085 31.5469 L446.229 31.5469 L446.229 24.1308 Z\" fill=\"#000000\" fill-rule=\"nonzero\" fill-opacity=\"1\" /><path clip-path=\"url(#clip940)\" d=\"M487.065 39.0584 L487.065 44.5965 Q484.582 43.3234 481.908 42.6868 Q479.235 42.0503 476.37 42.0503 Q472.01 42.0503 469.814 43.3871 Q467.649 44.7239 467.649 47.3975 Q467.649 49.4345 469.209 50.6121 Q470.768 51.758 475.479 52.8083 L477.484 53.2539 Q483.723 54.5907 486.333 57.0415 Q488.974 59.4605 488.974 63.821 Q488.974 68.7862 485.028 71.6826 Q481.113 74.579 474.238 74.579 Q471.373 74.579 468.254 74.0061 Q465.167 73.465 461.729 72.351 L461.729 66.3036 Q464.976 67.9905 468.127 68.8499 Q471.278 69.6774 474.365 69.6774 Q478.503 69.6774 480.731 68.277 Q482.959 66.8447 482.959 64.2666 Q482.959 61.8794 481.336 60.6063 Q479.744 59.3332 474.301 58.1555 L472.264 57.6781 Q466.822 56.5322 464.403 54.1769 Q461.984 51.7898 461.984 47.6521 Q461.984 42.6232 465.549 39.8859 Q469.113 37.1487 475.67 37.1487 Q478.917 37.1487 481.781 37.6261 Q484.646 38.1035 487.065 39.0584 Z\" fill=\"#000000\" fill-rule=\"nonzero\" fill-opacity=\"1\" /><path clip-path=\"url(#clip940)\" d=\"M504.093 27.8866 L504.093 38.008 L516.156 38.008 L516.156 42.5595 L504.093 42.5595 L504.093 61.9113 Q504.093 66.2718 505.271 67.5131 Q506.48 68.7544 510.14 68.7544 L516.156 68.7544 L516.156 73.656 L510.14 73.656 Q503.361 73.656 500.783 71.1415 Q498.205 68.5953 498.205 61.9113 L498.205 42.5595 L493.908 42.5595 L493.908 38.008 L498.205 38.008 L498.205 27.8866 L504.093 27.8866 Z\" fill=\"#000000\" fill-rule=\"nonzero\" fill-opacity=\"1\" /><path clip-path=\"url(#clip940)\" d=\"M537.672 42.1139 Q532.961 42.1139 530.224 45.806 Q527.487 49.4663 527.487 55.8638 Q527.487 62.2614 530.192 65.9535 Q532.93 69.6138 537.672 69.6138 Q542.351 69.6138 545.088 65.9217 Q547.825 62.2296 547.825 55.8638 Q547.825 49.53 545.088 45.8379 Q542.351 42.1139 537.672 42.1139 M537.672 37.1487 Q545.311 37.1487 549.671 42.1139 Q554.032 47.0792 554.032 55.8638 Q554.032 64.6167 549.671 69.6138 Q545.311 74.579 537.672 74.579 Q530.001 74.579 525.641 69.6138 Q521.312 64.6167 521.312 55.8638 Q521.312 47.0792 525.641 42.1139 Q530.001 37.1487 537.672 37.1487 Z\" fill=\"#000000\" fill-rule=\"nonzero\" fill-opacity=\"1\" /><path clip-path=\"url(#clip940)\" d=\"M587.197 55.4183 Q587.197 49.0525 584.555 45.5514 Q581.946 42.0503 577.203 42.0503 Q572.492 42.0503 569.851 45.5514 Q567.241 49.0525 567.241 55.4183 Q567.241 61.7521 569.851 65.2533 Q572.492 68.7544 577.203 68.7544 Q581.946 68.7544 584.555 65.2533 Q587.197 61.7521 587.197 55.4183 M593.054 69.2318 Q593.054 78.3348 589.011 82.759 Q584.969 87.215 576.63 87.215 Q573.543 87.215 570.806 86.7375 Q568.068 86.2919 565.49 85.3371 L565.49 79.6398 Q568.068 81.0402 570.583 81.7086 Q573.097 82.377 575.707 82.377 Q581.468 82.377 584.333 79.3533 Q587.197 76.3614 587.197 70.2822 L587.197 67.3858 Q585.383 70.5368 582.55 72.0964 Q579.718 73.656 575.771 73.656 Q569.214 73.656 565.204 68.6589 Q561.193 63.6618 561.193 55.4183 Q561.193 47.1428 565.204 42.1458 Q569.214 37.1487 575.771 37.1487 Q579.718 37.1487 582.55 38.7083 Q585.383 40.2679 587.197 43.4189 L587.197 38.008 L593.054 38.008 L593.054 69.2318 Z\" fill=\"#000000\" fill-rule=\"nonzero\" fill-opacity=\"1\" /><path clip-path=\"url(#clip940)\" d=\"M625.773 43.4826 Q624.787 42.9096 623.609 42.655 Q622.463 42.3686 621.063 42.3686 Q616.098 42.3686 613.424 45.6151 Q610.782 48.8297 610.782 54.8772 L610.782 73.656 L604.894 73.656 L604.894 38.008 L610.782 38.008 L610.782 43.5462 Q612.628 40.2997 615.588 38.7401 Q618.548 37.1487 622.782 37.1487 Q623.386 37.1487 624.118 37.2442 Q624.85 37.3078 625.742 37.467 L625.773 43.4826 Z\" fill=\"#000000\" fill-rule=\"nonzero\" fill-opacity=\"1\" /><path clip-path=\"url(#clip940)\" d=\"M648.117 55.7365 Q641.019 55.7365 638.282 57.3598 Q635.545 58.983 635.545 62.898 Q635.545 66.0172 637.582 67.8632 Q639.651 69.6774 643.184 69.6774 Q648.053 69.6774 650.982 66.24 Q653.942 62.7706 653.942 57.0415 L653.942 55.7365 L648.117 55.7365 M659.798 53.3176 L659.798 73.656 L653.942 73.656 L653.942 68.2451 Q651.936 71.4917 648.945 73.0513 Q645.953 74.579 641.624 74.579 Q636.15 74.579 632.903 71.5235 Q629.688 68.4361 629.688 63.2799 Q629.688 57.2643 633.699 54.2088 Q637.741 51.1532 645.73 51.1532 L653.942 51.1532 L653.942 50.5803 Q653.942 46.5381 651.268 44.3419 Q648.626 42.1139 643.82 42.1139 Q640.765 42.1139 637.868 42.846 Q634.972 43.578 632.298 45.0421 L632.298 39.6313 Q635.513 38.39 638.537 37.7852 Q641.56 37.1487 644.425 37.1487 Q652.159 37.1487 655.979 41.1591 Q659.798 45.1695 659.798 53.3176 Z\" fill=\"#000000\" fill-rule=\"nonzero\" fill-opacity=\"1\" /><path clip-path=\"url(#clip940)\" d=\"M699.616 44.8512 Q701.812 40.9044 704.867 39.0266 Q707.923 37.1487 712.061 37.1487 Q717.631 37.1487 720.654 41.0636 Q723.678 44.9467 723.678 52.1399 L723.678 73.656 L717.79 73.656 L717.79 52.3309 Q717.79 47.2065 715.975 44.7239 Q714.161 42.2412 710.437 42.2412 Q705.886 42.2412 703.244 45.2649 Q700.602 48.2887 700.602 53.5085 L700.602 73.656 L694.714 73.656 L694.714 52.3309 Q694.714 47.1747 692.9 44.7239 Q691.086 42.2412 687.298 42.2412 Q682.81 42.2412 680.168 45.2968 Q677.527 48.3205 677.527 53.5085 L677.527 73.656 L671.638 73.656 L671.638 38.008 L677.527 38.008 L677.527 43.5462 Q679.532 40.2679 682.333 38.7083 Q685.134 37.1487 688.985 37.1487 Q692.868 37.1487 695.573 39.122 Q698.311 41.0954 699.616 44.8512 Z\" fill=\"#000000\" fill-rule=\"nonzero\" fill-opacity=\"1\" /><path clip-path=\"url(#clip940)\" d=\"M761.872 27.8866 L761.872 38.008 L773.935 38.008 L773.935 42.5595 L761.872 42.5595 L761.872 61.9113 Q761.872 66.2718 763.05 67.5131 Q764.259 68.7544 767.92 68.7544 L773.935 68.7544 L773.935 73.656 L767.92 73.656 Q761.14 73.656 758.562 71.1415 Q755.984 68.5953 755.984 61.9113 L755.984 42.5595 L751.687 42.5595 L751.687 38.008 L755.984 38.008 L755.984 27.8866 L761.872 27.8866 Z\" fill=\"#000000\" fill-rule=\"nonzero\" fill-opacity=\"1\" /><path clip-path=\"url(#clip940)\" d=\"M802.294 43.4826 Q801.308 42.9096 800.13 42.655 Q798.984 42.3686 797.584 42.3686 Q792.619 42.3686 789.945 45.6151 Q787.303 48.8297 787.303 54.8772 L787.303 73.656 L781.415 73.656 L781.415 38.008 L787.303 38.008 L787.303 43.5462 Q789.149 40.2997 792.109 38.7401 Q795.069 37.1487 799.303 37.1487 Q799.907 37.1487 800.639 37.2442 Q801.371 37.3078 802.263 37.467 L802.294 43.4826 Z\" fill=\"#000000\" fill-rule=\"nonzero\" fill-opacity=\"1\" /><path clip-path=\"url(#clip940)\" d=\"M824.638 55.7365 Q817.54 55.7365 814.803 57.3598 Q812.066 58.983 812.066 62.898 Q812.066 66.0172 814.103 67.8632 Q816.172 69.6774 819.705 69.6774 Q824.574 69.6774 827.503 66.24 Q830.463 62.7706 830.463 57.0415 L830.463 55.7365 L824.638 55.7365 M836.319 53.3176 L836.319 73.656 L830.463 73.656 L830.463 68.2451 Q828.458 71.4917 825.466 73.0513 Q822.474 74.579 818.145 74.579 Q812.671 74.579 809.424 71.5235 Q806.209 68.4361 806.209 63.2799 Q806.209 57.2643 810.22 54.2088 Q814.262 51.1532 822.251 51.1532 L830.463 51.1532 L830.463 50.5803 Q830.463 46.5381 827.789 44.3419 Q825.147 42.1139 820.341 42.1139 Q817.286 42.1139 814.389 42.846 Q811.493 43.578 808.819 45.0421 L808.819 39.6313 Q812.034 38.39 815.058 37.7852 Q818.081 37.1487 820.946 37.1487 Q828.68 37.1487 832.5 41.1591 Q836.319 45.1695 836.319 53.3176 Z\" fill=\"#000000\" fill-rule=\"nonzero\" fill-opacity=\"1\" /><path clip-path=\"url(#clip940)\" d=\"M874.036 39.3767 L874.036 44.8512 Q871.553 43.4826 869.039 42.8142 Q866.556 42.1139 864.01 42.1139 Q858.313 42.1139 855.162 45.7424 Q852.011 49.339 852.011 55.8638 Q852.011 62.3887 855.162 66.0172 Q858.313 69.6138 864.01 69.6138 Q866.556 69.6138 869.039 68.9454 Q871.553 68.2451 874.036 66.8765 L874.036 72.2874 Q871.585 73.4332 868.943 74.0061 Q866.333 74.579 863.373 74.579 Q855.321 74.579 850.578 69.5183 Q845.836 64.4576 845.836 55.8638 Q845.836 47.1428 850.61 42.1458 Q855.416 37.1487 863.755 37.1487 Q866.461 37.1487 869.039 37.7216 Q871.617 38.2627 874.036 39.3767 Z\" fill=\"#000000\" fill-rule=\"nonzero\" fill-opacity=\"1\" /><path clip-path=\"url(#clip940)\" d=\"M883.998 24.1308 L889.887 24.1308 L889.887 53.3812 L907.36 38.008 L914.84 38.008 L895.934 54.6862 L915.636 73.656 L907.997 73.656 L889.887 56.2458 L889.887 73.656 L883.998 73.656 L883.998 24.1308 Z\" fill=\"#000000\" fill-rule=\"nonzero\" fill-opacity=\"1\" /><path clip-path=\"url(#clip940)\" d=\"M414.639 123.42 L414.639 144.936 L408.782 144.936 L408.782 123.611 Q408.782 118.55 406.809 116.036 Q404.836 113.521 400.889 113.521 Q396.146 113.521 393.409 116.545 Q390.672 119.569 390.672 124.789 L390.672 144.936 L384.784 144.936 L384.784 109.288 L390.672 109.288 L390.672 114.826 Q392.773 111.612 395.605 110.02 Q398.47 108.429 402.194 108.429 Q408.337 108.429 411.488 112.248 Q414.639 116.036 414.639 123.42 Z\" fill=\"#000000\" fill-rule=\"nonzero\" fill-opacity=\"1\" /><path clip-path=\"url(#clip940)\" d=\"M425.715 130.868 L425.715 109.288 L431.572 109.288 L431.572 130.645 Q431.572 135.706 433.545 138.252 Q435.518 140.766 439.465 140.766 Q444.208 140.766 446.945 137.743 Q449.714 134.719 449.714 129.499 L449.714 109.288 L455.57 109.288 L455.57 144.936 L449.714 144.936 L449.714 139.461 Q447.581 142.708 444.749 144.299 Q441.948 145.859 438.224 145.859 Q432.081 145.859 428.898 142.04 Q425.715 138.22 425.715 130.868 M440.452 108.429 L440.452 108.429 Z\" fill=\"#000000\" fill-rule=\"nonzero\" fill-opacity=\"1\" /><path clip-path=\"url(#clip940)\" d=\"M495.388 116.131 Q497.584 112.184 500.64 110.307 Q503.695 108.429 507.833 108.429 Q513.403 108.429 516.427 112.344 Q519.45 116.227 519.45 123.42 L519.45 144.936 L513.562 144.936 L513.562 123.611 Q513.562 118.486 511.748 116.004 Q509.933 113.521 506.21 113.521 Q501.658 113.521 499.016 116.545 Q496.375 119.569 496.375 124.789 L496.375 144.936 L490.486 144.936 L490.486 123.611 Q490.486 118.455 488.672 116.004 Q486.858 113.521 483.07 113.521 Q478.582 113.521 475.941 116.577 Q473.299 119.6 473.299 124.789 L473.299 144.936 L467.411 144.936 L467.411 109.288 L473.299 109.288 L473.299 114.826 Q475.304 111.548 478.105 109.988 Q480.906 108.429 484.757 108.429 Q488.64 108.429 491.346 110.402 Q494.083 112.375 495.388 116.131 Z\" fill=\"#000000\" fill-rule=\"nonzero\" fill-opacity=\"1\" /><path clip-path=\"url(#clip940)\" d=\"M556.721 127.144 Q556.721 120.683 554.048 117.022 Q551.406 113.33 546.759 113.33 Q542.112 113.33 539.439 117.022 Q536.797 120.683 536.797 127.144 Q536.797 133.605 539.439 137.297 Q542.112 140.957 546.759 140.957 Q551.406 140.957 554.048 137.297 Q556.721 133.605 556.721 127.144 M536.797 114.699 Q538.643 111.516 541.444 109.988 Q544.276 108.429 548.191 108.429 Q554.684 108.429 558.727 113.585 Q562.801 118.741 562.801 127.144 Q562.801 135.547 558.727 140.703 Q554.684 145.859 548.191 145.859 Q544.276 145.859 541.444 144.331 Q538.643 142.772 536.797 139.589 L536.797 144.936 L530.908 144.936 L530.908 95.4108 L536.797 95.4108 L536.797 114.699 Z\" fill=\"#000000\" fill-rule=\"nonzero\" fill-opacity=\"1\" /><path clip-path=\"url(#clip940)\" d=\"M603 125.648 L603 128.512 L576.073 128.512 Q576.455 134.56 579.702 137.743 Q582.98 140.894 588.805 140.894 Q592.178 140.894 595.329 140.066 Q598.512 139.239 601.631 137.584 L601.631 143.122 Q598.48 144.459 595.17 145.159 Q591.86 145.859 588.454 145.859 Q579.924 145.859 574.927 140.894 Q569.962 135.929 569.962 127.462 Q569.962 118.709 574.673 113.585 Q579.415 108.429 587.436 108.429 Q594.629 108.429 598.799 113.076 Q603 117.691 603 125.648 M597.144 123.929 Q597.08 119.123 594.438 116.258 Q591.828 113.394 587.5 113.394 Q582.598 113.394 579.638 116.163 Q576.71 118.932 576.264 123.961 L597.144 123.929 Z\" fill=\"#000000\" fill-rule=\"nonzero\" fill-opacity=\"1\" /><path clip-path=\"url(#clip940)\" d=\"M633.269 114.763 Q632.282 114.19 631.105 113.935 Q629.959 113.649 628.558 113.649 Q623.593 113.649 620.92 116.895 Q618.278 120.11 618.278 126.157 L618.278 144.936 L612.39 144.936 L612.39 109.288 L618.278 109.288 L618.278 114.826 Q620.124 111.58 623.084 110.02 Q626.044 108.429 630.277 108.429 Q630.882 108.429 631.614 108.524 Q632.346 108.588 633.237 108.747 L633.269 114.763 Z\" fill=\"#000000\" fill-rule=\"nonzero\" fill-opacity=\"1\" /><path clip-path=\"url(#clip940)\" d=\"M665.798 139.589 L665.798 158.495 L659.91 158.495 L659.91 109.288 L665.798 109.288 L665.798 114.699 Q667.644 111.516 670.445 109.988 Q673.278 108.429 677.192 108.429 Q683.685 108.429 687.728 113.585 Q691.802 118.741 691.802 127.144 Q691.802 135.547 687.728 140.703 Q683.685 145.859 677.192 145.859 Q673.278 145.859 670.445 144.331 Q667.644 142.772 665.798 139.589 M685.722 127.144 Q685.722 120.683 683.049 117.022 Q680.407 113.33 675.76 113.33 Q671.113 113.33 668.44 117.022 Q665.798 120.683 665.798 127.144 Q665.798 133.605 668.44 137.297 Q671.113 140.957 675.76 140.957 Q680.407 140.957 683.049 137.297 Q685.722 133.605 685.722 127.144 Z\" fill=\"#000000\" fill-rule=\"nonzero\" fill-opacity=\"1\" /><path clip-path=\"url(#clip940)\" d=\"M715.323 113.394 Q710.612 113.394 707.875 117.086 Q705.138 120.746 705.138 127.144 Q705.138 133.541 707.843 137.233 Q710.581 140.894 715.323 140.894 Q720.002 140.894 722.739 137.202 Q725.476 133.51 725.476 127.144 Q725.476 120.81 722.739 117.118 Q720.002 113.394 715.323 113.394 M715.323 108.429 Q722.962 108.429 727.322 113.394 Q731.683 118.359 731.683 127.144 Q731.683 135.897 727.322 140.894 Q722.962 145.859 715.323 145.859 Q707.652 145.859 703.292 140.894 Q698.963 135.897 698.963 127.144 Q698.963 118.359 703.292 113.394 Q707.652 108.429 715.323 108.429 Z\" fill=\"#000000\" fill-rule=\"nonzero\" fill-opacity=\"1\" /><path clip-path=\"url(#clip940)\" d=\"M747.056 139.589 L747.056 158.495 L741.168 158.495 L741.168 109.288 L747.056 109.288 L747.056 114.699 Q748.902 111.516 751.703 109.988 Q754.536 108.429 758.451 108.429 Q764.944 108.429 768.986 113.585 Q773.06 118.741 773.06 127.144 Q773.06 135.547 768.986 140.703 Q764.944 145.859 758.451 145.859 Q754.536 145.859 751.703 144.331 Q748.902 142.772 747.056 139.589 M766.981 127.144 Q766.981 120.683 764.307 117.022 Q761.665 113.33 757.018 113.33 Q752.371 113.33 749.698 117.022 Q747.056 120.683 747.056 127.144 Q747.056 133.605 749.698 137.297 Q752.371 140.957 757.018 140.957 Q761.665 140.957 764.307 137.297 Q766.981 133.605 766.981 127.144 Z\" fill=\"#000000\" fill-rule=\"nonzero\" fill-opacity=\"1\" /><path clip-path=\"url(#clip940)\" d=\"M782.163 130.868 L782.163 109.288 L788.019 109.288 L788.019 130.645 Q788.019 135.706 789.993 138.252 Q791.966 140.766 795.913 140.766 Q800.655 140.766 803.393 137.743 Q806.162 134.719 806.162 129.499 L806.162 109.288 L812.018 109.288 L812.018 144.936 L806.162 144.936 L806.162 139.461 Q804.029 142.708 801.196 144.299 Q798.395 145.859 794.672 145.859 Q788.529 145.859 785.346 142.04 Q782.163 138.22 782.163 130.868 M796.9 108.429 L796.9 108.429 Z\" fill=\"#000000\" fill-rule=\"nonzero\" fill-opacity=\"1\" /><path clip-path=\"url(#clip940)\" d=\"M824.081 95.4108 L829.938 95.4108 L829.938 144.936 L824.081 144.936 L824.081 95.4108 Z\" fill=\"#000000\" fill-rule=\"nonzero\" fill-opacity=\"1\" /><path clip-path=\"url(#clip940)\" d=\"M858.392 127.017 Q851.295 127.017 848.557 128.64 Q845.82 130.263 845.82 134.178 Q845.82 137.297 847.857 139.143 Q849.926 140.957 853.459 140.957 Q858.329 140.957 861.257 137.52 Q864.217 134.051 864.217 128.322 L864.217 127.017 L858.392 127.017 M870.073 124.598 L870.073 144.936 L864.217 144.936 L864.217 139.525 Q862.212 142.772 859.22 144.331 Q856.228 145.859 851.899 145.859 Q846.425 145.859 843.178 142.803 Q839.964 139.716 839.964 134.56 Q839.964 128.544 843.974 125.489 Q848.016 122.433 856.005 122.433 L864.217 122.433 L864.217 121.86 Q864.217 117.818 861.543 115.622 Q858.902 113.394 854.095 113.394 Q851.04 113.394 848.143 114.126 Q845.247 114.858 842.573 116.322 L842.573 110.911 Q845.788 109.67 848.812 109.065 Q851.836 108.429 854.7 108.429 Q862.434 108.429 866.254 112.439 Q870.073 116.449 870.073 124.598 Z\" fill=\"#000000\" fill-rule=\"nonzero\" fill-opacity=\"1\" /><path clip-path=\"url(#clip940)\" d=\"M902.793 114.763 Q901.806 114.19 900.629 113.935 Q899.483 113.649 898.082 113.649 Q893.117 113.649 890.444 116.895 Q887.802 120.11 887.802 126.157 L887.802 144.936 L881.914 144.936 L881.914 109.288 L887.802 109.288 L887.802 114.826 Q889.648 111.58 892.608 110.02 Q895.568 108.429 899.801 108.429 Q900.406 108.429 901.138 108.524 Q901.87 108.588 902.761 108.747 L902.793 114.763 Z\" fill=\"#000000\" fill-rule=\"nonzero\" fill-opacity=\"1\" /><path clip-path=\"url(#clip940)\" d=\"M908.936 109.288 L914.792 109.288 L914.792 144.936 L908.936 144.936 L908.936 109.288 M908.936 95.4108 L914.792 95.4108 L914.792 102.827 L908.936 102.827 L908.936 95.4108 Z\" fill=\"#000000\" fill-rule=\"nonzero\" fill-opacity=\"1\" /><path clip-path=\"url(#clip940)\" d=\"M932.839 99.1666 L932.839 109.288 L944.902 109.288 L944.902 113.84 L932.839 113.84 L932.839 133.191 Q932.839 137.552 934.017 138.793 Q935.226 140.034 938.887 140.034 L944.902 140.034 L944.902 144.936 L938.887 144.936 Q932.107 144.936 929.529 142.422 Q926.951 139.875 926.951 133.191 L926.951 113.84 L922.654 113.84 L922.654 109.288 L926.951 109.288 L926.951 99.1666 L932.839 99.1666 Z\" fill=\"#000000\" fill-rule=\"nonzero\" fill-opacity=\"1\" /><path clip-path=\"url(#clip940)\" d=\"M967.437 148.246 Q964.954 154.612 962.599 156.553 Q960.244 158.495 956.297 158.495 L951.618 158.495 L951.618 153.593 L955.056 153.593 Q957.474 153.593 958.811 152.448 Q960.148 151.302 961.771 147.037 L962.822 144.363 L948.403 109.288 L954.61 109.288 L965.75 137.17 L976.89 109.288 L983.096 109.288 L967.437 148.246 Z\" fill=\"#000000\" fill-rule=\"nonzero\" fill-opacity=\"1\" /><path clip-path=\"url(#clip942)\" d=\"M244.724 160.124 L244.724 1021.85 L366.409 1021.85 L366.409 160.124 L244.724 160.124 L244.724 160.124  Z\" fill=\"#009af9\" fill-rule=\"evenodd\" fill-opacity=\"1\"/>\n",
       "<polyline clip-path=\"url(#clip942)\" style=\"stroke:#000000; stroke-linecap:round; stroke-linejoin:round; stroke-width:4; stroke-opacity:1; fill:none\" points=\"244.724,160.124 244.724,1021.85 366.409,1021.85 366.409,160.124 244.724,160.124 \"/>\n",
       "<path clip-path=\"url(#clip942)\" d=\"M366.409 939.779 L366.409 1021.85 L488.093 1021.85 L488.093 939.779 L366.409 939.779 L366.409 939.779  Z\" fill=\"#009af9\" fill-rule=\"evenodd\" fill-opacity=\"1\"/>\n",
       "<polyline clip-path=\"url(#clip942)\" style=\"stroke:#000000; stroke-linecap:round; stroke-linejoin:round; stroke-width:4; stroke-opacity:1; fill:none\" points=\"366.409,939.779 366.409,1021.85 488.093,1021.85 488.093,939.779 366.409,939.779 \"/>\n",
       "<path clip-path=\"url(#clip942)\" d=\"M488.093 980.814 L488.093 1021.85 L609.778 1021.85 L609.778 980.814 L488.093 980.814 L488.093 980.814  Z\" fill=\"#009af9\" fill-rule=\"evenodd\" fill-opacity=\"1\"/>\n",
       "<polyline clip-path=\"url(#clip942)\" style=\"stroke:#000000; stroke-linecap:round; stroke-linejoin:round; stroke-width:4; stroke-opacity:1; fill:none\" points=\"488.093,980.814 488.093,1021.85 609.778,1021.85 609.778,980.814 488.093,980.814 \"/>\n",
       "<path clip-path=\"url(#clip942)\" d=\"M609.778 1021.85 L609.778 1021.85 L731.462 1021.85 L731.462 1021.85 L609.778 1021.85 L609.778 1021.85  Z\" fill=\"#009af9\" fill-rule=\"evenodd\" fill-opacity=\"1\"/>\n",
       "<polyline clip-path=\"url(#clip942)\" style=\"stroke:#000000; stroke-linecap:round; stroke-linejoin:round; stroke-width:4; stroke-opacity:1; fill:none\" points=\"609.778,1021.85 609.778,1021.85 731.462,1021.85 609.778,1021.85 \"/>\n",
       "<path clip-path=\"url(#clip942)\" d=\"M731.462 1021.85 L731.462 1021.85 L853.147 1021.85 L853.147 1021.85 L731.462 1021.85 L731.462 1021.85  Z\" fill=\"#009af9\" fill-rule=\"evenodd\" fill-opacity=\"1\"/>\n",
       "<polyline clip-path=\"url(#clip942)\" style=\"stroke:#000000; stroke-linecap:round; stroke-linejoin:round; stroke-width:4; stroke-opacity:1; fill:none\" points=\"731.462,1021.85 731.462,1021.85 853.147,1021.85 731.462,1021.85 \"/>\n",
       "<path clip-path=\"url(#clip942)\" d=\"M853.147 1021.85 L853.147 1021.85 L974.831 1021.85 L974.831 1021.85 L853.147 1021.85 L853.147 1021.85  Z\" fill=\"#009af9\" fill-rule=\"evenodd\" fill-opacity=\"1\"/>\n",
       "<polyline clip-path=\"url(#clip942)\" style=\"stroke:#000000; stroke-linecap:round; stroke-linejoin:round; stroke-width:4; stroke-opacity:1; fill:none\" points=\"853.147,1021.85 853.147,1021.85 974.831,1021.85 853.147,1021.85 \"/>\n",
       "<path clip-path=\"url(#clip942)\" d=\"M974.831 980.814 L974.831 1021.85 L1096.52 1021.85 L1096.52 980.814 L974.831 980.814 L974.831 980.814  Z\" fill=\"#009af9\" fill-rule=\"evenodd\" fill-opacity=\"1\"/>\n",
       "<polyline clip-path=\"url(#clip942)\" style=\"stroke:#000000; stroke-linecap:round; stroke-linejoin:round; stroke-width:4; stroke-opacity:1; fill:none\" points=\"974.831,980.814 974.831,1021.85 1096.52,1021.85 1096.52,980.814 974.831,980.814 \"/>\n",
       "<circle clip-path=\"url(#clip942)\" style=\"fill:#009af9; stroke:none; fill-opacity:0\" cx=\"305.566\" cy=\"160.124\" r=\"2\"/>\n",
       "<circle clip-path=\"url(#clip942)\" style=\"fill:#009af9; stroke:none; fill-opacity:0\" cx=\"427.251\" cy=\"939.779\" r=\"2\"/>\n",
       "<circle clip-path=\"url(#clip942)\" style=\"fill:#009af9; stroke:none; fill-opacity:0\" cx=\"548.935\" cy=\"980.814\" r=\"2\"/>\n",
       "<circle clip-path=\"url(#clip942)\" style=\"fill:#009af9; stroke:none; fill-opacity:0\" cx=\"670.62\" cy=\"1021.85\" r=\"2\"/>\n",
       "<circle clip-path=\"url(#clip942)\" style=\"fill:#009af9; stroke:none; fill-opacity:0\" cx=\"792.304\" cy=\"1021.85\" r=\"2\"/>\n",
       "<circle clip-path=\"url(#clip942)\" style=\"fill:#009af9; stroke:none; fill-opacity:0\" cx=\"913.989\" cy=\"1021.85\" r=\"2\"/>\n",
       "<circle clip-path=\"url(#clip942)\" style=\"fill:#009af9; stroke:none; fill-opacity:0\" cx=\"1035.67\" cy=\"980.814\" r=\"2\"/>\n",
       "<path clip-path=\"url(#clip940)\" d=\"M1395.68 1047.7 L2352.76 1047.7 L2352.76 134.272 L1395.68 134.272  Z\" fill=\"#ffffff\" fill-rule=\"evenodd\" fill-opacity=\"1\"/>\n",
       "<defs>\n",
       "  <clipPath id=\"clip943\">\n",
       "    <rect x=\"1395\" y=\"134\" width=\"958\" height=\"914\"/>\n",
       "  </clipPath>\n",
       "</defs>\n",
       "<polyline clip-path=\"url(#clip943)\" style=\"stroke:#000000; stroke-linecap:round; stroke-linejoin:round; stroke-width:2; stroke-opacity:0.1; fill:none\" points=\"1573.25,1047.7 1573.25,134.272 \"/>\n",
       "<polyline clip-path=\"url(#clip943)\" style=\"stroke:#000000; stroke-linecap:round; stroke-linejoin:round; stroke-width:2; stroke-opacity:0.1; fill:none\" points=\"1761.36,1047.7 1761.36,134.272 \"/>\n",
       "<polyline clip-path=\"url(#clip943)\" style=\"stroke:#000000; stroke-linecap:round; stroke-linejoin:round; stroke-width:2; stroke-opacity:0.1; fill:none\" points=\"1949.46,1047.7 1949.46,134.272 \"/>\n",
       "<polyline clip-path=\"url(#clip943)\" style=\"stroke:#000000; stroke-linecap:round; stroke-linejoin:round; stroke-width:2; stroke-opacity:0.1; fill:none\" points=\"2137.57,1047.7 2137.57,134.272 \"/>\n",
       "<polyline clip-path=\"url(#clip943)\" style=\"stroke:#000000; stroke-linecap:round; stroke-linejoin:round; stroke-width:2; stroke-opacity:0.1; fill:none\" points=\"2325.67,1047.7 2325.67,134.272 \"/>\n",
       "<polyline clip-path=\"url(#clip940)\" style=\"stroke:#000000; stroke-linecap:round; stroke-linejoin:round; stroke-width:4; stroke-opacity:1; fill:none\" points=\"1395.68,1047.7 2352.76,1047.7 \"/>\n",
       "<polyline clip-path=\"url(#clip940)\" style=\"stroke:#000000; stroke-linecap:round; stroke-linejoin:round; stroke-width:4; stroke-opacity:1; fill:none\" points=\"1573.25,1047.7 1573.25,1028.8 \"/>\n",
       "<polyline clip-path=\"url(#clip940)\" style=\"stroke:#000000; stroke-linecap:round; stroke-linejoin:round; stroke-width:4; stroke-opacity:1; fill:none\" points=\"1761.36,1047.7 1761.36,1028.8 \"/>\n",
       "<polyline clip-path=\"url(#clip940)\" style=\"stroke:#000000; stroke-linecap:round; stroke-linejoin:round; stroke-width:4; stroke-opacity:1; fill:none\" points=\"1949.46,1047.7 1949.46,1028.8 \"/>\n",
       "<polyline clip-path=\"url(#clip940)\" style=\"stroke:#000000; stroke-linecap:round; stroke-linejoin:round; stroke-width:4; stroke-opacity:1; fill:none\" points=\"2137.57,1047.7 2137.57,1028.8 \"/>\n",
       "<polyline clip-path=\"url(#clip940)\" style=\"stroke:#000000; stroke-linecap:round; stroke-linejoin:round; stroke-width:4; stroke-opacity:1; fill:none\" points=\"2325.67,1047.7 2325.67,1028.8 \"/>\n",
       "<path clip-path=\"url(#clip940)\" d=\"M1563.53 1075.54 L1581.89 1075.54 L1581.89 1079.48 L1567.81 1079.48 L1567.81 1087.95 Q1568.83 1087.6 1569.85 1087.44 Q1570.87 1087.25 1571.89 1087.25 Q1577.67 1087.25 1581.05 1090.42 Q1584.43 1093.6 1584.43 1099.01 Q1584.43 1104.59 1580.96 1107.69 Q1577.49 1110.77 1571.17 1110.77 Q1568.99 1110.77 1566.73 1110.4 Q1564.48 1110.03 1562.07 1109.29 L1562.07 1104.59 Q1564.16 1105.72 1566.38 1106.28 Q1568.6 1106.84 1571.08 1106.84 Q1575.08 1106.84 1577.42 1104.73 Q1579.76 1102.62 1579.76 1099.01 Q1579.76 1095.4 1577.42 1093.29 Q1575.08 1091.19 1571.08 1091.19 Q1569.2 1091.19 1567.33 1091.6 Q1565.48 1092.02 1563.53 1092.9 L1563.53 1075.54 Z\" fill=\"#000000\" fill-rule=\"nonzero\" fill-opacity=\"1\" /><path clip-path=\"url(#clip940)\" d=\"M1736.04 1106.16 L1743.68 1106.16 L1743.68 1079.8 L1735.37 1081.47 L1735.37 1077.21 L1743.64 1075.54 L1748.31 1075.54 L1748.31 1106.16 L1755.95 1106.16 L1755.95 1110.1 L1736.04 1110.1 L1736.04 1106.16 Z\" fill=\"#000000\" fill-rule=\"nonzero\" fill-opacity=\"1\" /><path clip-path=\"url(#clip940)\" d=\"M1775.4 1078.62 Q1771.79 1078.62 1769.96 1082.18 Q1768.15 1085.72 1768.15 1092.85 Q1768.15 1099.96 1769.96 1103.53 Q1771.79 1107.07 1775.4 1107.07 Q1779.03 1107.07 1780.84 1103.53 Q1782.67 1099.96 1782.67 1092.85 Q1782.67 1085.72 1780.84 1082.18 Q1779.03 1078.62 1775.4 1078.62 M1775.4 1074.91 Q1781.21 1074.91 1784.26 1079.52 Q1787.34 1084.1 1787.34 1092.85 Q1787.34 1101.58 1784.26 1106.19 Q1781.21 1110.77 1775.4 1110.77 Q1769.59 1110.77 1766.51 1106.19 Q1763.45 1101.58 1763.45 1092.85 Q1763.45 1084.1 1766.51 1079.52 Q1769.59 1074.91 1775.4 1074.91 Z\" fill=\"#000000\" fill-rule=\"nonzero\" fill-opacity=\"1\" /><path clip-path=\"url(#clip940)\" d=\"M1924.65 1106.16 L1932.29 1106.16 L1932.29 1079.8 L1923.98 1081.47 L1923.98 1077.21 L1932.24 1075.54 L1936.91 1075.54 L1936.91 1106.16 L1944.55 1106.16 L1944.55 1110.1 L1924.65 1110.1 L1924.65 1106.16 Z\" fill=\"#000000\" fill-rule=\"nonzero\" fill-opacity=\"1\" /><path clip-path=\"url(#clip940)\" d=\"M1954.04 1075.54 L1972.4 1075.54 L1972.4 1079.48 L1958.33 1079.48 L1958.33 1087.95 Q1959.35 1087.6 1960.36 1087.44 Q1961.38 1087.25 1962.4 1087.25 Q1968.19 1087.25 1971.57 1090.42 Q1974.95 1093.6 1974.95 1099.01 Q1974.95 1104.59 1971.47 1107.69 Q1968 1110.77 1961.68 1110.77 Q1959.51 1110.77 1957.24 1110.4 Q1954.99 1110.03 1952.59 1109.29 L1952.59 1104.59 Q1954.67 1105.72 1956.89 1106.28 Q1959.11 1106.84 1961.59 1106.84 Q1965.6 1106.84 1967.93 1104.73 Q1970.27 1102.62 1970.27 1099.01 Q1970.27 1095.4 1967.93 1093.29 Q1965.6 1091.19 1961.59 1091.19 Q1959.72 1091.19 1957.84 1091.6 Q1955.99 1092.02 1954.04 1092.9 L1954.04 1075.54 Z\" fill=\"#000000\" fill-rule=\"nonzero\" fill-opacity=\"1\" /><path clip-path=\"url(#clip940)\" d=\"M2116.34 1106.16 L2132.66 1106.16 L2132.66 1110.1 L2110.71 1110.1 L2110.71 1106.16 Q2113.38 1103.41 2117.96 1098.78 Q2122.57 1094.13 2123.75 1092.79 Q2125.99 1090.26 2126.87 1088.53 Q2127.77 1086.77 2127.77 1085.08 Q2127.77 1082.32 2125.83 1080.59 Q2123.91 1078.85 2120.81 1078.85 Q2118.61 1078.85 2116.15 1079.61 Q2113.72 1080.38 2110.94 1081.93 L2110.94 1077.21 Q2113.77 1076.07 2116.22 1075.49 Q2118.68 1074.91 2120.71 1074.91 Q2126.08 1074.91 2129.28 1077.6 Q2132.47 1080.29 2132.47 1084.78 Q2132.47 1086.91 2131.66 1088.83 Q2130.88 1090.72 2128.77 1093.32 Q2128.19 1093.99 2125.09 1097.21 Q2121.99 1100.4 2116.34 1106.16 Z\" fill=\"#000000\" fill-rule=\"nonzero\" fill-opacity=\"1\" /><path clip-path=\"url(#clip940)\" d=\"M2152.47 1078.62 Q2148.86 1078.62 2147.03 1082.18 Q2145.23 1085.72 2145.23 1092.85 Q2145.23 1099.96 2147.03 1103.53 Q2148.86 1107.07 2152.47 1107.07 Q2156.11 1107.07 2157.91 1103.53 Q2159.74 1099.96 2159.74 1092.85 Q2159.74 1085.72 2157.91 1082.18 Q2156.11 1078.62 2152.47 1078.62 M2152.47 1074.91 Q2158.28 1074.91 2161.34 1079.52 Q2164.42 1084.1 2164.42 1092.85 Q2164.42 1101.58 2161.34 1106.19 Q2158.28 1110.77 2152.47 1110.77 Q2146.66 1110.77 2143.58 1106.19 Q2140.53 1101.58 2140.53 1092.85 Q2140.53 1084.1 2143.58 1079.52 Q2146.66 1074.91 2152.47 1074.91 Z\" fill=\"#000000\" fill-rule=\"nonzero\" fill-opacity=\"1\" /><path clip-path=\"url(#clip940)\" d=\"M2304.94 1106.16 L2321.26 1106.16 L2321.26 1110.1 L2299.31 1110.1 L2299.31 1106.16 Q2301.98 1103.41 2306.56 1098.78 Q2311.17 1094.13 2312.35 1092.79 Q2314.59 1090.26 2315.47 1088.53 Q2316.38 1086.77 2316.38 1085.08 Q2316.38 1082.32 2314.43 1080.59 Q2312.51 1078.85 2309.41 1078.85 Q2307.21 1078.85 2304.75 1079.61 Q2302.32 1080.38 2299.55 1081.93 L2299.55 1077.21 Q2302.37 1076.07 2304.82 1075.49 Q2307.28 1074.91 2309.31 1074.91 Q2314.69 1074.91 2317.88 1077.6 Q2321.07 1080.29 2321.07 1084.78 Q2321.07 1086.91 2320.26 1088.83 Q2319.48 1090.72 2317.37 1093.32 Q2316.79 1093.99 2313.69 1097.21 Q2310.59 1100.4 2304.94 1106.16 Z\" fill=\"#000000\" fill-rule=\"nonzero\" fill-opacity=\"1\" /><path clip-path=\"url(#clip940)\" d=\"M2331.12 1075.54 L2349.48 1075.54 L2349.48 1079.48 L2335.4 1079.48 L2335.4 1087.95 Q2336.42 1087.6 2337.44 1087.44 Q2338.46 1087.25 2339.48 1087.25 Q2345.26 1087.25 2348.64 1090.42 Q2352.02 1093.6 2352.02 1099.01 Q2352.02 1104.59 2348.55 1107.69 Q2345.08 1110.77 2338.76 1110.77 Q2336.58 1110.77 2334.31 1110.4 Q2332.07 1110.03 2329.66 1109.29 L2329.66 1104.59 Q2331.75 1105.72 2333.97 1106.28 Q2336.19 1106.84 2338.67 1106.84 Q2342.67 1106.84 2345.01 1104.73 Q2347.35 1102.62 2347.35 1099.01 Q2347.35 1095.4 2345.01 1093.29 Q2342.67 1091.19 2338.67 1091.19 Q2336.79 1091.19 2334.92 1091.6 Q2333.06 1092.02 2331.12 1092.9 L2331.12 1075.54 Z\" fill=\"#000000\" fill-rule=\"nonzero\" fill-opacity=\"1\" /><polyline clip-path=\"url(#clip943)\" style=\"stroke:#000000; stroke-linecap:round; stroke-linejoin:round; stroke-width:2; stroke-opacity:0.1; fill:none\" points=\"1395.68,1022.51 2352.76,1022.51 \"/>\n",
       "<polyline clip-path=\"url(#clip943)\" style=\"stroke:#000000; stroke-linecap:round; stroke-linejoin:round; stroke-width:2; stroke-opacity:0.1; fill:none\" points=\"1395.68,889.531 2352.76,889.531 \"/>\n",
       "<polyline clip-path=\"url(#clip943)\" style=\"stroke:#000000; stroke-linecap:round; stroke-linejoin:round; stroke-width:2; stroke-opacity:0.1; fill:none\" points=\"1395.68,756.549 2352.76,756.549 \"/>\n",
       "<polyline clip-path=\"url(#clip943)\" style=\"stroke:#000000; stroke-linecap:round; stroke-linejoin:round; stroke-width:2; stroke-opacity:0.1; fill:none\" points=\"1395.68,623.567 2352.76,623.567 \"/>\n",
       "<polyline clip-path=\"url(#clip943)\" style=\"stroke:#000000; stroke-linecap:round; stroke-linejoin:round; stroke-width:2; stroke-opacity:0.1; fill:none\" points=\"1395.68,490.584 2352.76,490.584 \"/>\n",
       "<polyline clip-path=\"url(#clip943)\" style=\"stroke:#000000; stroke-linecap:round; stroke-linejoin:round; stroke-width:2; stroke-opacity:0.1; fill:none\" points=\"1395.68,357.602 2352.76,357.602 \"/>\n",
       "<polyline clip-path=\"url(#clip943)\" style=\"stroke:#000000; stroke-linecap:round; stroke-linejoin:round; stroke-width:2; stroke-opacity:0.1; fill:none\" points=\"1395.68,224.62 2352.76,224.62 \"/>\n",
       "<polyline clip-path=\"url(#clip940)\" style=\"stroke:#000000; stroke-linecap:round; stroke-linejoin:round; stroke-width:4; stroke-opacity:1; fill:none\" points=\"1395.68,1047.7 1395.68,134.272 \"/>\n",
       "<polyline clip-path=\"url(#clip940)\" style=\"stroke:#000000; stroke-linecap:round; stroke-linejoin:round; stroke-width:4; stroke-opacity:1; fill:none\" points=\"1395.68,1022.51 1414.58,1022.51 \"/>\n",
       "<polyline clip-path=\"url(#clip940)\" style=\"stroke:#000000; stroke-linecap:round; stroke-linejoin:round; stroke-width:4; stroke-opacity:1; fill:none\" points=\"1395.68,889.531 1414.58,889.531 \"/>\n",
       "<polyline clip-path=\"url(#clip940)\" style=\"stroke:#000000; stroke-linecap:round; stroke-linejoin:round; stroke-width:4; stroke-opacity:1; fill:none\" points=\"1395.68,756.549 1414.58,756.549 \"/>\n",
       "<polyline clip-path=\"url(#clip940)\" style=\"stroke:#000000; stroke-linecap:round; stroke-linejoin:round; stroke-width:4; stroke-opacity:1; fill:none\" points=\"1395.68,623.567 1414.58,623.567 \"/>\n",
       "<polyline clip-path=\"url(#clip940)\" style=\"stroke:#000000; stroke-linecap:round; stroke-linejoin:round; stroke-width:4; stroke-opacity:1; fill:none\" points=\"1395.68,490.584 1414.58,490.584 \"/>\n",
       "<polyline clip-path=\"url(#clip940)\" style=\"stroke:#000000; stroke-linecap:round; stroke-linejoin:round; stroke-width:4; stroke-opacity:1; fill:none\" points=\"1395.68,357.602 1414.58,357.602 \"/>\n",
       "<polyline clip-path=\"url(#clip940)\" style=\"stroke:#000000; stroke-linecap:round; stroke-linejoin:round; stroke-width:4; stroke-opacity:1; fill:none\" points=\"1395.68,224.62 1414.58,224.62 \"/>\n",
       "<path clip-path=\"url(#clip940)\" d=\"M1347.74 1008.31 Q1344.13 1008.31 1342.3 1011.88 Q1340.49 1015.42 1340.49 1022.55 Q1340.49 1029.65 1342.3 1033.22 Q1344.13 1036.76 1347.74 1036.76 Q1351.37 1036.76 1353.18 1033.22 Q1355.01 1029.65 1355.01 1022.55 Q1355.01 1015.42 1353.18 1011.88 Q1351.37 1008.31 1347.74 1008.31 M1347.74 1004.61 Q1353.55 1004.61 1356.6 1009.21 Q1359.68 1013.8 1359.68 1022.55 Q1359.68 1031.27 1356.6 1035.88 Q1353.55 1040.46 1347.74 1040.46 Q1341.93 1040.46 1338.85 1035.88 Q1335.79 1031.27 1335.79 1022.55 Q1335.79 1013.8 1338.85 1009.21 Q1341.93 1004.61 1347.74 1004.61 Z\" fill=\"#000000\" fill-rule=\"nonzero\" fill-opacity=\"1\" /><path clip-path=\"url(#clip940)\" d=\"M1281.44 902.876 L1297.76 902.876 L1297.76 906.811 L1275.82 906.811 L1275.82 902.876 Q1278.48 900.121 1283.06 895.492 Q1287.67 890.839 1288.85 889.496 Q1291.1 886.973 1291.98 885.237 Q1292.88 883.478 1292.88 881.788 Q1292.88 879.033 1290.93 877.297 Q1289.01 875.561 1285.91 875.561 Q1283.71 875.561 1281.26 876.325 Q1278.83 877.089 1276.05 878.64 L1276.05 873.918 Q1278.87 872.783 1281.33 872.205 Q1283.78 871.626 1285.82 871.626 Q1291.19 871.626 1294.38 874.311 Q1297.58 876.996 1297.58 881.487 Q1297.58 883.617 1296.77 885.538 Q1295.98 887.436 1293.87 890.029 Q1293.29 890.7 1290.19 893.917 Q1287.09 897.112 1281.44 902.876 Z\" fill=\"#000000\" fill-rule=\"nonzero\" fill-opacity=\"1\" /><path clip-path=\"url(#clip940)\" d=\"M1317.58 875.33 Q1313.97 875.33 1312.14 878.894 Q1310.33 882.436 1310.33 889.566 Q1310.33 896.672 1312.14 900.237 Q1313.97 903.778 1317.58 903.778 Q1321.21 903.778 1323.02 900.237 Q1324.85 896.672 1324.85 889.566 Q1324.85 882.436 1323.02 878.894 Q1321.21 875.33 1317.58 875.33 M1317.58 871.626 Q1323.39 871.626 1326.44 876.232 Q1329.52 880.816 1329.52 889.566 Q1329.52 898.292 1326.44 902.899 Q1323.39 907.482 1317.58 907.482 Q1311.77 907.482 1308.69 902.899 Q1305.63 898.292 1305.63 889.566 Q1305.63 880.816 1308.69 876.232 Q1311.77 871.626 1317.58 871.626 Z\" fill=\"#000000\" fill-rule=\"nonzero\" fill-opacity=\"1\" /><path clip-path=\"url(#clip940)\" d=\"M1347.74 875.33 Q1344.13 875.33 1342.3 878.894 Q1340.49 882.436 1340.49 889.566 Q1340.49 896.672 1342.3 900.237 Q1344.13 903.778 1347.74 903.778 Q1351.37 903.778 1353.18 900.237 Q1355.01 896.672 1355.01 889.566 Q1355.01 882.436 1353.18 878.894 Q1351.37 875.33 1347.74 875.33 M1347.74 871.626 Q1353.55 871.626 1356.6 876.232 Q1359.68 880.816 1359.68 889.566 Q1359.68 898.292 1356.6 902.899 Q1353.55 907.482 1347.74 907.482 Q1341.93 907.482 1338.85 902.899 Q1335.79 898.292 1335.79 889.566 Q1335.79 880.816 1338.85 876.232 Q1341.93 871.626 1347.74 871.626 Z\" fill=\"#000000\" fill-rule=\"nonzero\" fill-opacity=\"1\" /><path clip-path=\"url(#clip940)\" d=\"M1290.26 743.343 L1278.46 761.792 L1290.26 761.792 L1290.26 743.343 M1289.04 739.269 L1294.92 739.269 L1294.92 761.792 L1299.85 761.792 L1299.85 765.681 L1294.92 765.681 L1294.92 773.829 L1290.26 773.829 L1290.26 765.681 L1274.66 765.681 L1274.66 761.167 L1289.04 739.269 Z\" fill=\"#000000\" fill-rule=\"nonzero\" fill-opacity=\"1\" /><path clip-path=\"url(#clip940)\" d=\"M1317.58 742.347 Q1313.97 742.347 1312.14 745.912 Q1310.33 749.454 1310.33 756.583 Q1310.33 763.69 1312.14 767.255 Q1313.97 770.796 1317.58 770.796 Q1321.21 770.796 1323.02 767.255 Q1324.85 763.69 1324.85 756.583 Q1324.85 749.454 1323.02 745.912 Q1321.21 742.347 1317.58 742.347 M1317.58 738.644 Q1323.39 738.644 1326.44 743.25 Q1329.52 747.834 1329.52 756.583 Q1329.52 765.31 1326.44 769.917 Q1323.39 774.5 1317.58 774.5 Q1311.77 774.5 1308.69 769.917 Q1305.63 765.31 1305.63 756.583 Q1305.63 747.834 1308.69 743.25 Q1311.77 738.644 1317.58 738.644 Z\" fill=\"#000000\" fill-rule=\"nonzero\" fill-opacity=\"1\" /><path clip-path=\"url(#clip940)\" d=\"M1347.74 742.347 Q1344.13 742.347 1342.3 745.912 Q1340.49 749.454 1340.49 756.583 Q1340.49 763.69 1342.3 767.255 Q1344.13 770.796 1347.74 770.796 Q1351.37 770.796 1353.18 767.255 Q1355.01 763.69 1355.01 756.583 Q1355.01 749.454 1353.18 745.912 Q1351.37 742.347 1347.74 742.347 M1347.74 738.644 Q1353.55 738.644 1356.6 743.25 Q1359.68 747.834 1359.68 756.583 Q1359.68 765.31 1356.6 769.917 Q1353.55 774.5 1347.74 774.5 Q1341.93 774.5 1338.85 769.917 Q1335.79 765.31 1335.79 756.583 Q1335.79 747.834 1338.85 743.25 Q1341.93 738.644 1347.74 738.644 Z\" fill=\"#000000\" fill-rule=\"nonzero\" fill-opacity=\"1\" /><path clip-path=\"url(#clip940)\" d=\"M1287.99 621.703 Q1284.85 621.703 1282.99 623.856 Q1281.17 626.009 1281.17 629.759 Q1281.17 633.486 1282.99 635.661 Q1284.85 637.814 1287.99 637.814 Q1291.14 637.814 1292.97 635.661 Q1294.82 633.486 1294.82 629.759 Q1294.82 626.009 1292.97 623.856 Q1291.14 621.703 1287.99 621.703 M1297.28 607.05 L1297.28 611.31 Q1295.52 610.476 1293.71 610.037 Q1291.93 609.597 1290.17 609.597 Q1285.54 609.597 1283.09 612.722 Q1280.66 615.847 1280.31 622.166 Q1281.67 620.152 1283.73 619.087 Q1285.79 618 1288.27 618 Q1293.48 618 1296.49 621.171 Q1299.52 624.319 1299.52 629.759 Q1299.52 635.083 1296.37 638.3 Q1293.23 641.518 1287.99 641.518 Q1282 641.518 1278.83 636.935 Q1275.66 632.328 1275.66 623.601 Q1275.66 615.407 1279.54 610.546 Q1283.43 605.662 1289.98 605.662 Q1291.74 605.662 1293.53 606.009 Q1295.33 606.356 1297.28 607.05 Z\" fill=\"#000000\" fill-rule=\"nonzero\" fill-opacity=\"1\" /><path clip-path=\"url(#clip940)\" d=\"M1317.58 609.365 Q1313.97 609.365 1312.14 612.93 Q1310.33 616.472 1310.33 623.601 Q1310.33 630.708 1312.14 634.273 Q1313.97 637.814 1317.58 637.814 Q1321.21 637.814 1323.02 634.273 Q1324.85 630.708 1324.85 623.601 Q1324.85 616.472 1323.02 612.93 Q1321.21 609.365 1317.58 609.365 M1317.58 605.662 Q1323.39 605.662 1326.44 610.268 Q1329.52 614.851 1329.52 623.601 Q1329.52 632.328 1326.44 636.935 Q1323.39 641.518 1317.58 641.518 Q1311.77 641.518 1308.69 636.935 Q1305.63 632.328 1305.63 623.601 Q1305.63 614.851 1308.69 610.268 Q1311.77 605.662 1317.58 605.662 Z\" fill=\"#000000\" fill-rule=\"nonzero\" fill-opacity=\"1\" /><path clip-path=\"url(#clip940)\" d=\"M1347.74 609.365 Q1344.13 609.365 1342.3 612.93 Q1340.49 616.472 1340.49 623.601 Q1340.49 630.708 1342.3 634.273 Q1344.13 637.814 1347.74 637.814 Q1351.37 637.814 1353.18 634.273 Q1355.01 630.708 1355.01 623.601 Q1355.01 616.472 1353.18 612.93 Q1351.37 609.365 1347.74 609.365 M1347.74 605.662 Q1353.55 605.662 1356.6 610.268 Q1359.68 614.851 1359.68 623.601 Q1359.68 632.328 1356.6 636.935 Q1353.55 641.518 1347.74 641.518 Q1341.93 641.518 1338.85 636.935 Q1335.79 632.328 1335.79 623.601 Q1335.79 614.851 1338.85 610.268 Q1341.93 605.662 1347.74 605.662 Z\" fill=\"#000000\" fill-rule=\"nonzero\" fill-opacity=\"1\" /><path clip-path=\"url(#clip940)\" d=\"M1287.42 491.453 Q1284.08 491.453 1282.16 493.235 Q1280.26 495.017 1280.26 498.142 Q1280.26 501.267 1282.16 503.05 Q1284.08 504.832 1287.42 504.832 Q1290.75 504.832 1292.67 503.05 Q1294.59 501.244 1294.59 498.142 Q1294.59 495.017 1292.67 493.235 Q1290.77 491.453 1287.42 491.453 M1282.74 489.462 Q1279.73 488.721 1278.04 486.661 Q1276.37 484.601 1276.37 481.638 Q1276.37 477.494 1279.31 475.087 Q1282.28 472.679 1287.42 472.679 Q1292.58 472.679 1295.52 475.087 Q1298.46 477.494 1298.46 481.638 Q1298.46 484.601 1296.77 486.661 Q1295.1 488.721 1292.11 489.462 Q1295.49 490.249 1297.37 492.54 Q1299.27 494.832 1299.27 498.142 Q1299.27 503.165 1296.19 505.851 Q1293.13 508.536 1287.42 508.536 Q1281.7 508.536 1278.62 505.851 Q1275.56 503.165 1275.56 498.142 Q1275.56 494.832 1277.46 492.54 Q1279.36 490.249 1282.74 489.462 M1281.03 482.078 Q1281.03 484.763 1282.69 486.267 Q1284.38 487.772 1287.42 487.772 Q1290.42 487.772 1292.11 486.267 Q1293.83 484.763 1293.83 482.078 Q1293.83 479.392 1292.11 477.888 Q1290.42 476.383 1287.42 476.383 Q1284.38 476.383 1282.69 477.888 Q1281.03 479.392 1281.03 482.078 Z\" fill=\"#000000\" fill-rule=\"nonzero\" fill-opacity=\"1\" /><path clip-path=\"url(#clip940)\" d=\"M1317.58 476.383 Q1313.97 476.383 1312.14 479.948 Q1310.33 483.49 1310.33 490.619 Q1310.33 497.726 1312.14 501.29 Q1313.97 504.832 1317.58 504.832 Q1321.21 504.832 1323.02 501.29 Q1324.85 497.726 1324.85 490.619 Q1324.85 483.49 1323.02 479.948 Q1321.21 476.383 1317.58 476.383 M1317.58 472.679 Q1323.39 472.679 1326.44 477.286 Q1329.52 481.869 1329.52 490.619 Q1329.52 499.346 1326.44 503.952 Q1323.39 508.536 1317.58 508.536 Q1311.77 508.536 1308.69 503.952 Q1305.63 499.346 1305.63 490.619 Q1305.63 481.869 1308.69 477.286 Q1311.77 472.679 1317.58 472.679 Z\" fill=\"#000000\" fill-rule=\"nonzero\" fill-opacity=\"1\" /><path clip-path=\"url(#clip940)\" d=\"M1347.74 476.383 Q1344.13 476.383 1342.3 479.948 Q1340.49 483.49 1340.49 490.619 Q1340.49 497.726 1342.3 501.29 Q1344.13 504.832 1347.74 504.832 Q1351.37 504.832 1353.18 501.29 Q1355.01 497.726 1355.01 490.619 Q1355.01 483.49 1353.18 479.948 Q1351.37 476.383 1347.74 476.383 M1347.74 472.679 Q1353.55 472.679 1356.6 477.286 Q1359.68 481.869 1359.68 490.619 Q1359.68 499.346 1356.6 503.952 Q1353.55 508.536 1347.74 508.536 Q1341.93 508.536 1338.85 503.952 Q1335.79 499.346 1335.79 490.619 Q1335.79 481.869 1338.85 477.286 Q1341.93 472.679 1347.74 472.679 Z\" fill=\"#000000\" fill-rule=\"nonzero\" fill-opacity=\"1\" /><path clip-path=\"url(#clip940)\" d=\"M1248.06 370.947 L1255.7 370.947 L1255.7 344.582 L1247.39 346.248 L1247.39 341.989 L1255.66 340.322 L1260.33 340.322 L1260.33 370.947 L1267.97 370.947 L1267.97 374.882 L1248.06 374.882 L1248.06 370.947 Z\" fill=\"#000000\" fill-rule=\"nonzero\" fill-opacity=\"1\" /><path clip-path=\"url(#clip940)\" d=\"M1287.42 343.401 Q1283.8 343.401 1281.98 346.966 Q1280.17 350.507 1280.17 357.637 Q1280.17 364.743 1281.98 368.308 Q1283.8 371.85 1287.42 371.85 Q1291.05 371.85 1292.86 368.308 Q1294.68 364.743 1294.68 357.637 Q1294.68 350.507 1292.86 346.966 Q1291.05 343.401 1287.42 343.401 M1287.42 339.697 Q1293.23 339.697 1296.28 344.304 Q1299.36 348.887 1299.36 357.637 Q1299.36 366.364 1296.28 370.97 Q1293.23 375.554 1287.42 375.554 Q1281.61 375.554 1278.53 370.97 Q1275.47 366.364 1275.47 357.637 Q1275.47 348.887 1278.53 344.304 Q1281.61 339.697 1287.42 339.697 Z\" fill=\"#000000\" fill-rule=\"nonzero\" fill-opacity=\"1\" /><path clip-path=\"url(#clip940)\" d=\"M1317.58 343.401 Q1313.97 343.401 1312.14 346.966 Q1310.33 350.507 1310.33 357.637 Q1310.33 364.743 1312.14 368.308 Q1313.97 371.85 1317.58 371.85 Q1321.21 371.85 1323.02 368.308 Q1324.85 364.743 1324.85 357.637 Q1324.85 350.507 1323.02 346.966 Q1321.21 343.401 1317.58 343.401 M1317.58 339.697 Q1323.39 339.697 1326.44 344.304 Q1329.52 348.887 1329.52 357.637 Q1329.52 366.364 1326.44 370.97 Q1323.39 375.554 1317.58 375.554 Q1311.77 375.554 1308.69 370.97 Q1305.63 366.364 1305.63 357.637 Q1305.63 348.887 1308.69 344.304 Q1311.77 339.697 1317.58 339.697 Z\" fill=\"#000000\" fill-rule=\"nonzero\" fill-opacity=\"1\" /><path clip-path=\"url(#clip940)\" d=\"M1347.74 343.401 Q1344.13 343.401 1342.3 346.966 Q1340.49 350.507 1340.49 357.637 Q1340.49 364.743 1342.3 368.308 Q1344.13 371.85 1347.74 371.85 Q1351.37 371.85 1353.18 368.308 Q1355.01 364.743 1355.01 357.637 Q1355.01 350.507 1353.18 346.966 Q1351.37 343.401 1347.74 343.401 M1347.74 339.697 Q1353.55 339.697 1356.6 344.304 Q1359.68 348.887 1359.68 357.637 Q1359.68 366.364 1356.6 370.97 Q1353.55 375.554 1347.74 375.554 Q1341.93 375.554 1338.85 370.97 Q1335.79 366.364 1335.79 357.637 Q1335.79 348.887 1338.85 344.304 Q1341.93 339.697 1347.74 339.697 Z\" fill=\"#000000\" fill-rule=\"nonzero\" fill-opacity=\"1\" /><path clip-path=\"url(#clip940)\" d=\"M1248.06 237.965 L1255.7 237.965 L1255.7 211.599 L1247.39 213.266 L1247.39 209.007 L1255.66 207.34 L1260.33 207.34 L1260.33 237.965 L1267.97 237.965 L1267.97 241.9 L1248.06 241.9 L1248.06 237.965 Z\" fill=\"#000000\" fill-rule=\"nonzero\" fill-opacity=\"1\" /><path clip-path=\"url(#clip940)\" d=\"M1281.44 237.965 L1297.76 237.965 L1297.76 241.9 L1275.82 241.9 L1275.82 237.965 Q1278.48 235.21 1283.06 230.581 Q1287.67 225.928 1288.85 224.585 Q1291.1 222.062 1291.98 220.326 Q1292.88 218.567 1292.88 216.877 Q1292.88 214.123 1290.93 212.386 Q1289.01 210.65 1285.91 210.65 Q1283.71 210.65 1281.26 211.414 Q1278.83 212.178 1276.05 213.729 L1276.05 209.007 Q1278.87 207.873 1281.33 207.294 Q1283.78 206.715 1285.82 206.715 Q1291.19 206.715 1294.38 209.4 Q1297.58 212.086 1297.58 216.576 Q1297.58 218.706 1296.77 220.627 Q1295.98 222.525 1293.87 225.118 Q1293.29 225.789 1290.19 229.007 Q1287.09 232.201 1281.44 237.965 Z\" fill=\"#000000\" fill-rule=\"nonzero\" fill-opacity=\"1\" /><path clip-path=\"url(#clip940)\" d=\"M1317.58 210.419 Q1313.97 210.419 1312.14 213.984 Q1310.33 217.525 1310.33 224.655 Q1310.33 231.761 1312.14 235.326 Q1313.97 238.868 1317.58 238.868 Q1321.21 238.868 1323.02 235.326 Q1324.85 231.761 1324.85 224.655 Q1324.85 217.525 1323.02 213.984 Q1321.21 210.419 1317.58 210.419 M1317.58 206.715 Q1323.39 206.715 1326.44 211.322 Q1329.52 215.905 1329.52 224.655 Q1329.52 233.382 1326.44 237.988 Q1323.39 242.571 1317.58 242.571 Q1311.77 242.571 1308.69 237.988 Q1305.63 233.382 1305.63 224.655 Q1305.63 215.905 1308.69 211.322 Q1311.77 206.715 1317.58 206.715 Z\" fill=\"#000000\" fill-rule=\"nonzero\" fill-opacity=\"1\" /><path clip-path=\"url(#clip940)\" d=\"M1347.74 210.419 Q1344.13 210.419 1342.3 213.984 Q1340.49 217.525 1340.49 224.655 Q1340.49 231.761 1342.3 235.326 Q1344.13 238.868 1347.74 238.868 Q1351.37 238.868 1353.18 235.326 Q1355.01 231.761 1355.01 224.655 Q1355.01 217.525 1353.18 213.984 Q1351.37 210.419 1347.74 210.419 M1347.74 206.715 Q1353.55 206.715 1356.6 211.322 Q1359.68 215.905 1359.68 224.655 Q1359.68 233.382 1356.6 237.988 Q1353.55 242.571 1347.74 242.571 Q1341.93 242.571 1338.85 237.988 Q1335.79 233.382 1335.79 224.655 Q1335.79 215.905 1338.85 211.322 Q1341.93 206.715 1347.74 206.715 Z\" fill=\"#000000\" fill-rule=\"nonzero\" fill-opacity=\"1\" /><polyline clip-path=\"url(#clip943)\" style=\"stroke:#009af9; stroke-linecap:round; stroke-linejoin:round; stroke-width:4; stroke-opacity:1; fill:none\" points=\"1422.77,160.124 1460.39,637.53 1498.01,773.836 1535.63,801.763 1573.25,936.075 1610.87,960.676 1648.49,968.655 1686.12,973.31 1723.74,979.959 1761.36,981.953 1798.98,983.948 1836.6,990.597 1874.22,993.922 1911.84,995.917 1949.46,999.241 1987.08,1002.57 2024.7,1003.9 2062.32,1003.9 2099.94,1005.23 2137.57,1006.56 2175.19,1011.21 2212.81,1012.54 2250.43,1013.87 2288.05,1014.53 2325.67,1021.85 \"/>\n",
       "<path clip-path=\"url(#clip940)\" d=\"M2172.72 268.4 L2320.85 268.4 L2320.85 164.72 L2172.72 164.72  Z\" fill=\"#ffffff\" fill-rule=\"evenodd\" fill-opacity=\"1\"/>\n",
       "<polyline clip-path=\"url(#clip940)\" style=\"stroke:#000000; stroke-linecap:round; stroke-linejoin:round; stroke-width:4; stroke-opacity:1; fill:none\" points=\"2172.72,268.4 2320.85,268.4 2320.85,164.72 2172.72,164.72 2172.72,268.4 \"/>\n",
       "<polyline clip-path=\"url(#clip940)\" style=\"stroke:#009af9; stroke-linecap:round; stroke-linejoin:round; stroke-width:4; stroke-opacity:1; fill:none\" points=\"2183.35,216.56 2247.15,216.56 \"/>\n",
       "<path clip-path=\"url(#clip940)\" d=\"M2271.63 236.247 Q2269.83 240.877 2268.11 242.289 Q2266.4 243.701 2263.53 243.701 L2260.13 243.701 L2260.13 240.136 L2262.63 240.136 Q2264.39 240.136 2265.36 239.303 Q2266.33 238.469 2267.51 235.367 L2268.28 233.423 L2257.79 207.914 L2262.3 207.914 L2270.4 228.192 L2278.51 207.914 L2283.02 207.914 L2271.63 236.247 Z\" fill=\"#000000\" fill-rule=\"nonzero\" fill-opacity=\"1\" /><path clip-path=\"url(#clip940)\" d=\"M2290.31 229.905 L2297.95 229.905 L2297.95 203.539 L2289.64 205.206 L2289.64 200.946 L2297.9 199.28 L2302.58 199.28 L2302.58 229.905 L2310.22 229.905 L2310.22 233.84 L2290.31 233.84 L2290.31 229.905 Z\" fill=\"#000000\" fill-rule=\"nonzero\" fill-opacity=\"1\" /></svg>\n"
      ]
     },
     "execution_count": 83,
     "metadata": {},
     "output_type": "execute_result"
    }
   ],
   "source": [
    "h1 = histogram( result_df[:,\"count\"], title=\"histogram track \\n number popularity\" ,\n",
    "    titlefontsize=11, legend=false, xlabel=\"genre count\", ylabel=\"count\",\n",
    "    normalize=false, bins=6 )\n",
    "p1 = plot( result_df[:,\"count\"] )\n",
    "\n",
    "plot( h1, p1, size=(600,300) )"
   ]
  },
  {
   "cell_type": "code",
   "execution_count": 101,
   "metadata": {},
   "outputs": [
    {
     "data": {
      "text/plain": [
       "11-element Vector{SQLite.DBTable}:\n",
       " SQLite.DBTable(\"Album\", Tables.Schema:\n",
       " :AlbumId   Union{Missing, Int64}\n",
       " :Title     Union{Missing, String}\n",
       " :ArtistId  Union{Missing, Int64})\n",
       " SQLite.DBTable(\"Artist\", Tables.Schema:\n",
       " :ArtistId  Union{Missing, Int64}\n",
       " :Name      Union{Missing, String})\n",
       " SQLite.DBTable(\"Customer\", Tables.Schema:\n",
       " :CustomerId    Union{Missing, Int64}\n",
       " :FirstName     Union{Missing, String}\n",
       " :LastName      Union{Missing, String}\n",
       " :Company       Union{Missing, String}\n",
       " :Address       Union{Missing, String}\n",
       " :City          Union{Missing, String}\n",
       " :State         Union{Missing, String}\n",
       " :Country       Union{Missing, String}\n",
       " :PostalCode    Union{Missing, String}\n",
       " :Phone         Union{Missing, String}\n",
       " :Fax           Union{Missing, String}\n",
       " :Email         Union{Missing, String}\n",
       " :SupportRepId  Union{Missing, Int64})\n",
       " SQLite.DBTable(\"Employee\", Tables.Schema:\n",
       " :EmployeeId  Union{Missing, Int64}\n",
       " :LastName    Union{Missing, String}\n",
       " :FirstName   Union{Missing, String}\n",
       " :Title       Union{Missing, String}\n",
       " :ReportsTo   Union{Missing, Int64}\n",
       " :BirthDate   Missing\n",
       " :HireDate    Missing\n",
       " :Address     Union{Missing, String}\n",
       " :City        Union{Missing, String}\n",
       " :State       Union{Missing, String}\n",
       " :Country     Union{Missing, String}\n",
       " :PostalCode  Union{Missing, String}\n",
       " :Phone       Union{Missing, String}\n",
       " :Fax         Union{Missing, String}\n",
       " :Email       Union{Missing, String})\n",
       " SQLite.DBTable(\"Genre\", Tables.Schema:\n",
       " :GenreId  Union{Missing, Int64}\n",
       " :Name     Union{Missing, String})\n",
       " SQLite.DBTable(\"Invoice\", Tables.Schema:\n",
       " :InvoiceId          Union{Missing, Int64}\n",
       " :CustomerId         Union{Missing, Int64}\n",
       " :InvoiceDate        Missing\n",
       " :BillingAddress     Union{Missing, String}\n",
       " :BillingCity        Union{Missing, String}\n",
       " :BillingState       Union{Missing, String}\n",
       " :BillingCountry     Union{Missing, String}\n",
       " :BillingPostalCode  Union{Missing, String}\n",
       " :Total              Union{Missing, Float64})\n",
       " SQLite.DBTable(\"InvoiceLine\", Tables.Schema:\n",
       " :InvoiceLineId  Union{Missing, Int64}\n",
       " :InvoiceId      Union{Missing, Int64}\n",
       " :TrackId        Union{Missing, Int64}\n",
       " :UnitPrice      Union{Missing, Float64}\n",
       " :Quantity       Union{Missing, Int64})\n",
       " SQLite.DBTable(\"MediaType\", Tables.Schema:\n",
       " :MediaTypeId  Union{Missing, Int64}\n",
       " :Name         Union{Missing, String})\n",
       " SQLite.DBTable(\"Playlist\", Tables.Schema:\n",
       " :PlaylistId  Union{Missing, Int64}\n",
       " :Name        Union{Missing, String})\n",
       " SQLite.DBTable(\"PlaylistTrack\", Tables.Schema:\n",
       " :PlaylistId  Union{Missing, Int64}\n",
       " :TrackId     Union{Missing, Int64})\n",
       " SQLite.DBTable(\"Track\", Tables.Schema:\n",
       " :TrackId       Union{Missing, Int64}\n",
       " :Name          Union{Missing, String}\n",
       " :AlbumId       Union{Missing, Int64}\n",
       " :MediaTypeId   Union{Missing, Int64}\n",
       " :GenreId       Union{Missing, Int64}\n",
       " :Composer      Union{Missing, String}\n",
       " :Milliseconds  Union{Missing, Int64}\n",
       " :Bytes         Union{Missing, Int64}\n",
       " :UnitPrice     Union{Missing, Float64})"
      ]
     },
     "execution_count": 101,
     "metadata": {},
     "output_type": "execute_result"
    }
   ],
   "source": [
    "SQLite.tables(db)"
   ]
  },
  {
   "cell_type": "code",
   "execution_count": 109,
   "metadata": {},
   "outputs": [
    {
     "data": {
      "text/html": [
       "<div><div style = \"float: left;\"><span>24×2 DataFrame</span></div><div style = \"clear: both;\"></div></div><div class = \"data-frame\" style = \"overflow-x: scroll;\"><table class = \"data-frame\" style = \"margin-bottom: 6px;\"><thead><tr class = \"header\"><th class = \"rowNumber\" style = \"font-weight: bold; text-align: right;\">Row</th><th style = \"text-align: left;\">count(*)</th><th style = \"text-align: left;\">Country</th></tr><tr class = \"subheader headerLastRow\"><th class = \"rowNumber\" style = \"font-weight: bold; text-align: right;\"></th><th title = \"Int64\" style = \"text-align: left;\">Int64</th><th title = \"String\" style = \"text-align: left;\">String</th></tr></thead><tbody><tr><td class = \"rowNumber\" style = \"font-weight: bold; text-align: right;\">1</td><td style = \"text-align: right;\">38</td><td style = \"text-align: left;\">Argentina</td></tr><tr><td class = \"rowNumber\" style = \"font-weight: bold; text-align: right;\">2</td><td style = \"text-align: right;\">38</td><td style = \"text-align: left;\">Australia</td></tr><tr><td class = \"rowNumber\" style = \"font-weight: bold; text-align: right;\">3</td><td style = \"text-align: right;\">38</td><td style = \"text-align: left;\">Austria</td></tr><tr><td class = \"rowNumber\" style = \"font-weight: bold; text-align: right;\">4</td><td style = \"text-align: right;\">38</td><td style = \"text-align: left;\">Belgium</td></tr><tr><td class = \"rowNumber\" style = \"font-weight: bold; text-align: right;\">5</td><td style = \"text-align: right;\">190</td><td style = \"text-align: left;\">Brazil</td></tr><tr><td class = \"rowNumber\" style = \"font-weight: bold; text-align: right;\">6</td><td style = \"text-align: right;\">304</td><td style = \"text-align: left;\">Canada</td></tr><tr><td class = \"rowNumber\" style = \"font-weight: bold; text-align: right;\">7</td><td style = \"text-align: right;\">38</td><td style = \"text-align: left;\">Chile</td></tr><tr><td class = \"rowNumber\" style = \"font-weight: bold; text-align: right;\">8</td><td style = \"text-align: right;\">76</td><td style = \"text-align: left;\">Czech Republic</td></tr><tr><td class = \"rowNumber\" style = \"font-weight: bold; text-align: right;\">9</td><td style = \"text-align: right;\">38</td><td style = \"text-align: left;\">Denmark</td></tr><tr><td class = \"rowNumber\" style = \"font-weight: bold; text-align: right;\">10</td><td style = \"text-align: right;\">38</td><td style = \"text-align: left;\">Finland</td></tr><tr><td class = \"rowNumber\" style = \"font-weight: bold; text-align: right;\">11</td><td style = \"text-align: right;\">190</td><td style = \"text-align: left;\">France</td></tr><tr><td class = \"rowNumber\" style = \"font-weight: bold; text-align: right;\">12</td><td style = \"text-align: right;\">152</td><td style = \"text-align: left;\">Germany</td></tr><tr><td class = \"rowNumber\" style = \"font-weight: bold; text-align: right;\">13</td><td style = \"text-align: right;\">38</td><td style = \"text-align: left;\">Hungary</td></tr><tr><td class = \"rowNumber\" style = \"font-weight: bold; text-align: right;\">14</td><td style = \"text-align: right;\">74</td><td style = \"text-align: left;\">India</td></tr><tr><td class = \"rowNumber\" style = \"font-weight: bold; text-align: right;\">15</td><td style = \"text-align: right;\">38</td><td style = \"text-align: left;\">Ireland</td></tr><tr><td class = \"rowNumber\" style = \"font-weight: bold; text-align: right;\">16</td><td style = \"text-align: right;\">38</td><td style = \"text-align: left;\">Italy</td></tr><tr><td class = \"rowNumber\" style = \"font-weight: bold; text-align: right;\">17</td><td style = \"text-align: right;\">38</td><td style = \"text-align: left;\">Netherlands</td></tr><tr><td class = \"rowNumber\" style = \"font-weight: bold; text-align: right;\">18</td><td style = \"text-align: right;\">38</td><td style = \"text-align: left;\">Norway</td></tr><tr><td class = \"rowNumber\" style = \"font-weight: bold; text-align: right;\">19</td><td style = \"text-align: right;\">38</td><td style = \"text-align: left;\">Poland</td></tr><tr><td class = \"rowNumber\" style = \"font-weight: bold; text-align: right;\">20</td><td style = \"text-align: right;\">76</td><td style = \"text-align: left;\">Portugal</td></tr><tr><td class = \"rowNumber\" style = \"font-weight: bold; text-align: right;\">21</td><td style = \"text-align: right;\">38</td><td style = \"text-align: left;\">Spain</td></tr><tr><td class = \"rowNumber\" style = \"font-weight: bold; text-align: right;\">22</td><td style = \"text-align: right;\">38</td><td style = \"text-align: left;\">Sweden</td></tr><tr><td class = \"rowNumber\" style = \"font-weight: bold; text-align: right;\">23</td><td style = \"text-align: right;\">494</td><td style = \"text-align: left;\">USA</td></tr><tr><td class = \"rowNumber\" style = \"font-weight: bold; text-align: right;\">24</td><td style = \"text-align: right;\">114</td><td style = \"text-align: left;\">United Kingdom</td></tr></tbody></table></div>"
      ],
      "text/latex": [
       "\\begin{tabular}{r|cc}\n",
       "\t& count(*) & Country\\\\\n",
       "\t\\hline\n",
       "\t& Int64 & String\\\\\n",
       "\t\\hline\n",
       "\t1 & 38 & Argentina \\\\\n",
       "\t2 & 38 & Australia \\\\\n",
       "\t3 & 38 & Austria \\\\\n",
       "\t4 & 38 & Belgium \\\\\n",
       "\t5 & 190 & Brazil \\\\\n",
       "\t6 & 304 & Canada \\\\\n",
       "\t7 & 38 & Chile \\\\\n",
       "\t8 & 76 & Czech Republic \\\\\n",
       "\t9 & 38 & Denmark \\\\\n",
       "\t10 & 38 & Finland \\\\\n",
       "\t11 & 190 & France \\\\\n",
       "\t12 & 152 & Germany \\\\\n",
       "\t13 & 38 & Hungary \\\\\n",
       "\t14 & 74 & India \\\\\n",
       "\t15 & 38 & Ireland \\\\\n",
       "\t16 & 38 & Italy \\\\\n",
       "\t17 & 38 & Netherlands \\\\\n",
       "\t18 & 38 & Norway \\\\\n",
       "\t19 & 38 & Poland \\\\\n",
       "\t20 & 76 & Portugal \\\\\n",
       "\t21 & 38 & Spain \\\\\n",
       "\t22 & 38 & Sweden \\\\\n",
       "\t23 & 494 & USA \\\\\n",
       "\t24 & 114 & United Kingdom \\\\\n",
       "\\end{tabular}\n"
      ],
      "text/plain": [
       "\u001b[1m24×2 DataFrame\u001b[0m\n",
       "\u001b[1m Row \u001b[0m│\u001b[1m count(*) \u001b[0m\u001b[1m Country        \u001b[0m\n",
       "     │\u001b[90m Int64    \u001b[0m\u001b[90m String         \u001b[0m\n",
       "─────┼──────────────────────────\n",
       "   1 │       38  Argentina\n",
       "   2 │       38  Australia\n",
       "   3 │       38  Austria\n",
       "   4 │       38  Belgium\n",
       "   5 │      190  Brazil\n",
       "   6 │      304  Canada\n",
       "   7 │       38  Chile\n",
       "   8 │       76  Czech Republic\n",
       "   9 │       38  Denmark\n",
       "  10 │       38  Finland\n",
       "  11 │      190  France\n",
       "  ⋮  │    ⋮            ⋮\n",
       "  15 │       38  Ireland\n",
       "  16 │       38  Italy\n",
       "  17 │       38  Netherlands\n",
       "  18 │       38  Norway\n",
       "  19 │       38  Poland\n",
       "  20 │       76  Portugal\n",
       "  21 │       38  Spain\n",
       "  22 │       38  Sweden\n",
       "  23 │      494  USA\n",
       "  24 │      114  United Kingdom\n",
       "\u001b[36m                  3 rows omitted\u001b[0m"
      ]
     },
     "execution_count": 109,
     "metadata": {},
     "output_type": "execute_result"
    }
   ],
   "source": [
    "#Genre.Name, Genre.GenreId, Track.GenreId, InvoiceLine.trackId, invoInvoiceLineInvoiceLineInvoiceLineInvoiceLineInvoiceLineice.invoiceId, Customer.CustomerId, Customer.Country \n",
    "result = DBInterface.execute(db, \n",
    "    \"SELECT count(*)   , Customer.Country  \n",
    "    FROM Customer \n",
    "    JOIN invoice ON customer.customerId = invoice.customerId\n",
    "    JOIN InvoiceLine ON invoice.invoiceId = InvoiceLine.invoiceId\n",
    "    JOIN Track ON Track.TrackId = InvoiceLine.TrackId\n",
    "    JOIN Genre ON Genre.GenreId = Track.GenreId\n",
    "    GROUP BY Country;\n",
    "    \n",
    "    \")\n",
    "\n",
    "result_df = DataFrame(result)"
   ]
  },
  {
   "cell_type": "code",
   "execution_count": 120,
   "metadata": {},
   "outputs": [
    {
     "data": {
      "text/html": [
       "<div><div style = \"float: left;\"><span>237×3 DataFrame</span></div><div style = \"float: right;\"><span style = \"font-style: italic;\">212 rows omitted</span></div><div style = \"clear: both;\"></div></div><div class = \"data-frame\" style = \"overflow-x: scroll;\"><table class = \"data-frame\" style = \"margin-bottom: 6px;\"><thead><tr class = \"header\"><th class = \"rowNumber\" style = \"font-weight: bold; text-align: right;\">Row</th><th style = \"text-align: left;\">count</th><th style = \"text-align: left;\">Name</th><th style = \"text-align: left;\">Country</th></tr><tr class = \"subheader headerLastRow\"><th class = \"rowNumber\" style = \"font-weight: bold; text-align: right;\"></th><th title = \"Int64\" style = \"text-align: left;\">Int64</th><th title = \"String\" style = \"text-align: left;\">String</th><th title = \"String\" style = \"text-align: left;\">String</th></tr></thead><tbody><tr><td class = \"rowNumber\" style = \"font-weight: bold; text-align: right;\">1</td><td style = \"text-align: right;\">9</td><td style = \"text-align: left;\">Rock</td><td style = \"text-align: left;\">Argentina</td></tr><tr><td class = \"rowNumber\" style = \"font-weight: bold; text-align: right;\">2</td><td style = \"text-align: right;\">2</td><td style = \"text-align: left;\">Jazz</td><td style = \"text-align: left;\">Argentina</td></tr><tr><td class = \"rowNumber\" style = \"font-weight: bold; text-align: right;\">3</td><td style = \"text-align: right;\">7</td><td style = \"text-align: left;\">Metal</td><td style = \"text-align: left;\">Argentina</td></tr><tr><td class = \"rowNumber\" style = \"font-weight: bold; text-align: right;\">4</td><td style = \"text-align: right;\">9</td><td style = \"text-align: left;\">Alternative &amp; Punk</td><td style = \"text-align: left;\">Argentina</td></tr><tr><td class = \"rowNumber\" style = \"font-weight: bold; text-align: right;\">5</td><td style = \"text-align: right;\">8</td><td style = \"text-align: left;\">Latin</td><td style = \"text-align: left;\">Argentina</td></tr><tr><td class = \"rowNumber\" style = \"font-weight: bold; text-align: right;\">6</td><td style = \"text-align: right;\">1</td><td style = \"text-align: left;\">Soundtrack</td><td style = \"text-align: left;\">Argentina</td></tr><tr><td class = \"rowNumber\" style = \"font-weight: bold; text-align: right;\">7</td><td style = \"text-align: right;\">2</td><td style = \"text-align: left;\">Easy Listening</td><td style = \"text-align: left;\">Argentina</td></tr><tr><td class = \"rowNumber\" style = \"font-weight: bold; text-align: right;\">8</td><td style = \"text-align: right;\">22</td><td style = \"text-align: left;\">Rock</td><td style = \"text-align: left;\">Australia</td></tr><tr><td class = \"rowNumber\" style = \"font-weight: bold; text-align: right;\">9</td><td style = \"text-align: right;\">8</td><td style = \"text-align: left;\">Metal</td><td style = \"text-align: left;\">Australia</td></tr><tr><td class = \"rowNumber\" style = \"font-weight: bold; text-align: right;\">10</td><td style = \"text-align: right;\">1</td><td style = \"text-align: left;\">Blues</td><td style = \"text-align: left;\">Australia</td></tr><tr><td class = \"rowNumber\" style = \"font-weight: bold; text-align: right;\">11</td><td style = \"text-align: right;\">2</td><td style = \"text-align: left;\">Latin</td><td style = \"text-align: left;\">Australia</td></tr><tr><td class = \"rowNumber\" style = \"font-weight: bold; text-align: right;\">12</td><td style = \"text-align: right;\">2</td><td style = \"text-align: left;\">Reggae</td><td style = \"text-align: left;\">Australia</td></tr><tr><td class = \"rowNumber\" style = \"font-weight: bold; text-align: right;\">13</td><td style = \"text-align: right;\">3</td><td style = \"text-align: left;\">Heavy Metal</td><td style = \"text-align: left;\">Australia</td></tr><tr><td style = \"text-align: right;\">&vellip;</td><td style = \"text-align: right;\">&vellip;</td><td style = \"text-align: right;\">&vellip;</td><td style = \"text-align: right;\">&vellip;</td></tr><tr><td class = \"rowNumber\" style = \"font-weight: bold; text-align: right;\">226</td><td style = \"text-align: right;\">5</td><td style = \"text-align: left;\">Alternative</td><td style = \"text-align: left;\">USA</td></tr><tr><td class = \"rowNumber\" style = \"font-weight: bold; text-align: right;\">227</td><td style = \"text-align: right;\">8</td><td style = \"text-align: left;\">Classical</td><td style = \"text-align: left;\">USA</td></tr><tr><td class = \"rowNumber\" style = \"font-weight: bold; text-align: right;\">228</td><td style = \"text-align: right;\">37</td><td style = \"text-align: left;\">Rock</td><td style = \"text-align: left;\">United Kingdom</td></tr><tr><td class = \"rowNumber\" style = \"font-weight: bold; text-align: right;\">229</td><td style = \"text-align: right;\">4</td><td style = \"text-align: left;\">Jazz</td><td style = \"text-align: left;\">United Kingdom</td></tr><tr><td class = \"rowNumber\" style = \"font-weight: bold; text-align: right;\">230</td><td style = \"text-align: right;\">20</td><td style = \"text-align: left;\">Metal</td><td style = \"text-align: left;\">United Kingdom</td></tr><tr><td class = \"rowNumber\" style = \"font-weight: bold; text-align: right;\">231</td><td style = \"text-align: right;\">9</td><td style = \"text-align: left;\">Alternative &amp; Punk</td><td style = \"text-align: left;\">United Kingdom</td></tr><tr><td class = \"rowNumber\" style = \"font-weight: bold; text-align: right;\">232</td><td style = \"text-align: right;\">31</td><td style = \"text-align: left;\">Latin</td><td style = \"text-align: left;\">United Kingdom</td></tr><tr><td class = \"rowNumber\" style = \"font-weight: bold; text-align: right;\">233</td><td style = \"text-align: right;\">5</td><td style = \"text-align: left;\">Reggae</td><td style = \"text-align: left;\">United Kingdom</td></tr><tr><td class = \"rowNumber\" style = \"font-weight: bold; text-align: right;\">234</td><td style = \"text-align: right;\">2</td><td style = \"text-align: left;\">Pop</td><td style = \"text-align: left;\">United Kingdom</td></tr><tr><td class = \"rowNumber\" style = \"font-weight: bold; text-align: right;\">235</td><td style = \"text-align: right;\">2</td><td style = \"text-align: left;\">R&amp;B/Soul</td><td style = \"text-align: left;\">United Kingdom</td></tr><tr><td class = \"rowNumber\" style = \"font-weight: bold; text-align: right;\">236</td><td style = \"text-align: right;\">1</td><td style = \"text-align: left;\">World</td><td style = \"text-align: left;\">United Kingdom</td></tr><tr><td class = \"rowNumber\" style = \"font-weight: bold; text-align: right;\">237</td><td style = \"text-align: right;\">3</td><td style = \"text-align: left;\">Hip Hop/Rap</td><td style = \"text-align: left;\">United Kingdom</td></tr></tbody></table></div>"
      ],
      "text/latex": [
       "\\begin{tabular}{r|ccc}\n",
       "\t& count & Name & Country\\\\\n",
       "\t\\hline\n",
       "\t& Int64 & String & String\\\\\n",
       "\t\\hline\n",
       "\t1 & 9 & Rock & Argentina \\\\\n",
       "\t2 & 2 & Jazz & Argentina \\\\\n",
       "\t3 & 7 & Metal & Argentina \\\\\n",
       "\t4 & 9 & Alternative \\& Punk & Argentina \\\\\n",
       "\t5 & 8 & Latin & Argentina \\\\\n",
       "\t6 & 1 & Soundtrack & Argentina \\\\\n",
       "\t7 & 2 & Easy Listening & Argentina \\\\\n",
       "\t8 & 22 & Rock & Australia \\\\\n",
       "\t9 & 8 & Metal & Australia \\\\\n",
       "\t10 & 1 & Blues & Australia \\\\\n",
       "\t11 & 2 & Latin & Australia \\\\\n",
       "\t12 & 2 & Reggae & Australia \\\\\n",
       "\t13 & 3 & Heavy Metal & Australia \\\\\n",
       "\t14 & 15 & Rock & Austria \\\\\n",
       "\t15 & 2 & Jazz & Austria \\\\\n",
       "\t16 & 7 & Metal & Austria \\\\\n",
       "\t17 & 2 & Latin & Austria \\\\\n",
       "\t18 & 1 & Pop & Austria \\\\\n",
       "\t19 & 4 & R\\&B/Soul & Austria \\\\\n",
       "\t20 & 4 & TV Shows & Austria \\\\\n",
       "\t21 & 1 & Drama & Austria \\\\\n",
       "\t22 & 2 & Classical & Austria \\\\\n",
       "\t23 & 21 & Rock & Belgium \\\\\n",
       "\t24 & 1 & Metal & Belgium \\\\\n",
       "\t25 & 14 & Alternative \\& Punk & Belgium \\\\\n",
       "\t26 & 2 & R\\&B/Soul & Belgium \\\\\n",
       "\t27 & 81 & Rock & Brazil \\\\\n",
       "\t28 & 15 & Metal & Brazil \\\\\n",
       "\t29 & 7 & Alternative \\& Punk & Brazil \\\\\n",
       "\t30 & 6 & Blues & Brazil \\\\\n",
       "\t$\\dots$ & $\\dots$ & $\\dots$ & $\\dots$ \\\\\n",
       "\\end{tabular}\n"
      ],
      "text/plain": [
       "\u001b[1m237×3 DataFrame\u001b[0m\n",
       "\u001b[1m Row \u001b[0m│\u001b[1m count \u001b[0m\u001b[1m Name               \u001b[0m\u001b[1m Country        \u001b[0m\n",
       "     │\u001b[90m Int64 \u001b[0m\u001b[90m String             \u001b[0m\u001b[90m String         \u001b[0m\n",
       "─────┼───────────────────────────────────────────\n",
       "   1 │     9  Rock                Argentina\n",
       "   2 │     2  Jazz                Argentina\n",
       "   3 │     7  Metal               Argentina\n",
       "   4 │     9  Alternative & Punk  Argentina\n",
       "   5 │     8  Latin               Argentina\n",
       "   6 │     1  Soundtrack          Argentina\n",
       "   7 │     2  Easy Listening      Argentina\n",
       "   8 │    22  Rock                Australia\n",
       "   9 │     8  Metal               Australia\n",
       "  10 │     1  Blues               Australia\n",
       "  11 │     2  Latin               Australia\n",
       "  ⋮  │   ⋮            ⋮                 ⋮\n",
       " 228 │    37  Rock                United Kingdom\n",
       " 229 │     4  Jazz                United Kingdom\n",
       " 230 │    20  Metal               United Kingdom\n",
       " 231 │     9  Alternative & Punk  United Kingdom\n",
       " 232 │    31  Latin               United Kingdom\n",
       " 233 │     5  Reggae              United Kingdom\n",
       " 234 │     2  Pop                 United Kingdom\n",
       " 235 │     2  R&B/Soul            United Kingdom\n",
       " 236 │     1  World               United Kingdom\n",
       " 237 │     3  Hip Hop/Rap         United Kingdom\n",
       "\u001b[36m                                 216 rows omitted\u001b[0m"
      ]
     },
     "execution_count": 120,
     "metadata": {},
     "output_type": "execute_result"
    }
   ],
   "source": [
    "#Genre.Name, Genre.GenreId, Track.GenreId, InvoiceLine.trackId, invoInvoiceLineInvoiceLineInvoiceLineInvoiceLineInvoiceLineice.invoiceId, Customer.CustomerId, Customer.Country \n",
    "result = DBInterface.execute(db, \n",
    "    \"SELECT count(Genre.Name) as count, Genre.Name  , Customer.Country  \n",
    "    FROM Customer \n",
    "    JOIN invoice ON customer.customerId = invoice.customerId\n",
    "    JOIN InvoiceLine ON invoice.invoiceId = InvoiceLine.invoiceId\n",
    "    JOIN Track ON Track.TrackId = InvoiceLine.TrackId\n",
    "    JOIN Genre ON Genre.GenreId = Track.GenreId\n",
    "    GROUP BY Country, Genre.GenreId;\n",
    "    \n",
    "    \")\n",
    "\n",
    "result_df = DataFrame(result)"
   ]
  },
  {
   "cell_type": "code",
   "execution_count": null,
   "metadata": {},
   "outputs": [],
   "source": []
  },
  {
   "cell_type": "code",
   "execution_count": 127,
   "metadata": {},
   "outputs": [
    {
     "data": {
      "text/html": [
       "<div><div style = \"float: left;\"><span>24×3 DataFrame</span></div><div style = \"clear: both;\"></div></div><div class = \"data-frame\" style = \"overflow-x: scroll;\"><table class = \"data-frame\" style = \"margin-bottom: 6px;\"><thead><tr class = \"header\"><th class = \"rowNumber\" style = \"font-weight: bold; text-align: right;\">Row</th><th style = \"text-align: left;\">min(count)</th><th style = \"text-align: left;\">Name</th><th style = \"text-align: left;\">Country</th></tr><tr class = \"subheader headerLastRow\"><th class = \"rowNumber\" style = \"font-weight: bold; text-align: right;\"></th><th title = \"Int64\" style = \"text-align: left;\">Int64</th><th title = \"String\" style = \"text-align: left;\">String</th><th title = \"String\" style = \"text-align: left;\">String</th></tr></thead><tbody><tr><td class = \"rowNumber\" style = \"font-weight: bold; text-align: right;\">1</td><td style = \"text-align: right;\">1</td><td style = \"text-align: left;\">Soundtrack</td><td style = \"text-align: left;\">Argentina</td></tr><tr><td class = \"rowNumber\" style = \"font-weight: bold; text-align: right;\">2</td><td style = \"text-align: right;\">1</td><td style = \"text-align: left;\">Blues</td><td style = \"text-align: left;\">Australia</td></tr><tr><td class = \"rowNumber\" style = \"font-weight: bold; text-align: right;\">3</td><td style = \"text-align: right;\">1</td><td style = \"text-align: left;\">Pop</td><td style = \"text-align: left;\">Austria</td></tr><tr><td class = \"rowNumber\" style = \"font-weight: bold; text-align: right;\">4</td><td style = \"text-align: right;\">1</td><td style = \"text-align: left;\">Metal</td><td style = \"text-align: left;\">Belgium</td></tr><tr><td class = \"rowNumber\" style = \"font-weight: bold; text-align: right;\">5</td><td style = \"text-align: right;\">2</td><td style = \"text-align: left;\">World</td><td style = \"text-align: left;\">Brazil</td></tr><tr><td class = \"rowNumber\" style = \"font-weight: bold; text-align: right;\">6</td><td style = \"text-align: right;\">1</td><td style = \"text-align: left;\">TV Shows</td><td style = \"text-align: left;\">Canada</td></tr><tr><td class = \"rowNumber\" style = \"font-weight: bold; text-align: right;\">7</td><td style = \"text-align: right;\">1</td><td style = \"text-align: left;\">Soundtrack</td><td style = \"text-align: left;\">Chile</td></tr><tr><td class = \"rowNumber\" style = \"font-weight: bold; text-align: right;\">8</td><td style = \"text-align: right;\">1</td><td style = \"text-align: left;\">Blues</td><td style = \"text-align: left;\">Czech Republic</td></tr><tr><td class = \"rowNumber\" style = \"font-weight: bold; text-align: right;\">9</td><td style = \"text-align: right;\">3</td><td style = \"text-align: left;\">Pop</td><td style = \"text-align: left;\">Denmark</td></tr><tr><td class = \"rowNumber\" style = \"font-weight: bold; text-align: right;\">10</td><td style = \"text-align: right;\">1</td><td style = \"text-align: left;\">Reggae</td><td style = \"text-align: left;\">Finland</td></tr><tr><td class = \"rowNumber\" style = \"font-weight: bold; text-align: right;\">11</td><td style = \"text-align: right;\">1</td><td style = \"text-align: left;\">Rock And Roll</td><td style = \"text-align: left;\">France</td></tr><tr><td class = \"rowNumber\" style = \"font-weight: bold; text-align: right;\">12</td><td style = \"text-align: right;\">1</td><td style = \"text-align: left;\">Pop</td><td style = \"text-align: left;\">Germany</td></tr><tr><td class = \"rowNumber\" style = \"font-weight: bold; text-align: right;\">13</td><td style = \"text-align: right;\">1</td><td style = \"text-align: left;\">Electronica/Dance</td><td style = \"text-align: left;\">Hungary</td></tr><tr><td class = \"rowNumber\" style = \"font-weight: bold; text-align: right;\">14</td><td style = \"text-align: right;\">1</td><td style = \"text-align: left;\">TV Shows</td><td style = \"text-align: left;\">India</td></tr><tr><td class = \"rowNumber\" style = \"font-weight: bold; text-align: right;\">15</td><td style = \"text-align: right;\">1</td><td style = \"text-align: left;\">Blues</td><td style = \"text-align: left;\">Ireland</td></tr><tr><td class = \"rowNumber\" style = \"font-weight: bold; text-align: right;\">16</td><td style = \"text-align: right;\">1</td><td style = \"text-align: left;\">Metal</td><td style = \"text-align: left;\">Italy</td></tr><tr><td class = \"rowNumber\" style = \"font-weight: bold; text-align: right;\">17</td><td style = \"text-align: right;\">2</td><td style = \"text-align: left;\">Metal</td><td style = \"text-align: left;\">Netherlands</td></tr><tr><td class = \"rowNumber\" style = \"font-weight: bold; text-align: right;\">18</td><td style = \"text-align: right;\">1</td><td style = \"text-align: left;\">World</td><td style = \"text-align: left;\">Norway</td></tr><tr><td class = \"rowNumber\" style = \"font-weight: bold; text-align: right;\">19</td><td style = \"text-align: right;\">1</td><td style = \"text-align: left;\">Jazz</td><td style = \"text-align: left;\">Poland</td></tr><tr><td class = \"rowNumber\" style = \"font-weight: bold; text-align: right;\">20</td><td style = \"text-align: right;\">1</td><td style = \"text-align: left;\">Blues</td><td style = \"text-align: left;\">Portugal</td></tr><tr><td class = \"rowNumber\" style = \"font-weight: bold; text-align: right;\">21</td><td style = \"text-align: right;\">1</td><td style = \"text-align: left;\">Hip Hop/Rap</td><td style = \"text-align: left;\">Spain</td></tr><tr><td class = \"rowNumber\" style = \"font-weight: bold; text-align: right;\">22</td><td style = \"text-align: right;\">1</td><td style = \"text-align: left;\">Jazz</td><td style = \"text-align: left;\">Sweden</td></tr><tr><td class = \"rowNumber\" style = \"font-weight: bold; text-align: right;\">23</td><td style = \"text-align: right;\">1</td><td style = \"text-align: left;\">Science Fiction</td><td style = \"text-align: left;\">USA</td></tr><tr><td class = \"rowNumber\" style = \"font-weight: bold; text-align: right;\">24</td><td style = \"text-align: right;\">1</td><td style = \"text-align: left;\">World</td><td style = \"text-align: left;\">United Kingdom</td></tr></tbody></table></div>"
      ],
      "text/latex": [
       "\\begin{tabular}{r|ccc}\n",
       "\t& min(count) & Name & Country\\\\\n",
       "\t\\hline\n",
       "\t& Int64 & String & String\\\\\n",
       "\t\\hline\n",
       "\t1 & 1 & Soundtrack & Argentina \\\\\n",
       "\t2 & 1 & Blues & Australia \\\\\n",
       "\t3 & 1 & Pop & Austria \\\\\n",
       "\t4 & 1 & Metal & Belgium \\\\\n",
       "\t5 & 2 & World & Brazil \\\\\n",
       "\t6 & 1 & TV Shows & Canada \\\\\n",
       "\t7 & 1 & Soundtrack & Chile \\\\\n",
       "\t8 & 1 & Blues & Czech Republic \\\\\n",
       "\t9 & 3 & Pop & Denmark \\\\\n",
       "\t10 & 1 & Reggae & Finland \\\\\n",
       "\t11 & 1 & Rock And Roll & France \\\\\n",
       "\t12 & 1 & Pop & Germany \\\\\n",
       "\t13 & 1 & Electronica/Dance & Hungary \\\\\n",
       "\t14 & 1 & TV Shows & India \\\\\n",
       "\t15 & 1 & Blues & Ireland \\\\\n",
       "\t16 & 1 & Metal & Italy \\\\\n",
       "\t17 & 2 & Metal & Netherlands \\\\\n",
       "\t18 & 1 & World & Norway \\\\\n",
       "\t19 & 1 & Jazz & Poland \\\\\n",
       "\t20 & 1 & Blues & Portugal \\\\\n",
       "\t21 & 1 & Hip Hop/Rap & Spain \\\\\n",
       "\t22 & 1 & Jazz & Sweden \\\\\n",
       "\t23 & 1 & Science Fiction & USA \\\\\n",
       "\t24 & 1 & World & United Kingdom \\\\\n",
       "\\end{tabular}\n"
      ],
      "text/plain": [
       "\u001b[1m24×3 DataFrame\u001b[0m\n",
       "\u001b[1m Row \u001b[0m│\u001b[1m min(count) \u001b[0m\u001b[1m Name              \u001b[0m\u001b[1m Country        \u001b[0m\n",
       "     │\u001b[90m Int64      \u001b[0m\u001b[90m String            \u001b[0m\u001b[90m String         \u001b[0m\n",
       "─────┼───────────────────────────────────────────────\n",
       "   1 │          1  Soundtrack         Argentina\n",
       "   2 │          1  Blues              Australia\n",
       "   3 │          1  Pop                Austria\n",
       "   4 │          1  Metal              Belgium\n",
       "   5 │          2  World              Brazil\n",
       "   6 │          1  TV Shows           Canada\n",
       "   7 │          1  Soundtrack         Chile\n",
       "   8 │          1  Blues              Czech Republic\n",
       "   9 │          3  Pop                Denmark\n",
       "  10 │          1  Reggae             Finland\n",
       "  11 │          1  Rock And Roll      France\n",
       "  ⋮  │     ⋮               ⋮                ⋮\n",
       "  15 │          1  Blues              Ireland\n",
       "  16 │          1  Metal              Italy\n",
       "  17 │          2  Metal              Netherlands\n",
       "  18 │          1  World              Norway\n",
       "  19 │          1  Jazz               Poland\n",
       "  20 │          1  Blues              Portugal\n",
       "  21 │          1  Hip Hop/Rap        Spain\n",
       "  22 │          1  Jazz               Sweden\n",
       "  23 │          1  Science Fiction    USA\n",
       "  24 │          1  World              United Kingdom\n",
       "\u001b[36m                                       3 rows omitted\u001b[0m"
      ]
     },
     "execution_count": 127,
     "metadata": {},
     "output_type": "execute_result"
    }
   ],
   "source": [
    "result = DBInterface.execute(db, \n",
    "    \"SELECT  min(count) , Name , Country\n",
    "    \n",
    "    FROM  \n",
    "    (SELECT count(Genre.Name) as count, Genre.Name  , Customer.Country  \n",
    "    FROM Customer \n",
    "    JOIN invoice ON customer.customerId = invoice.customerId\n",
    "    JOIN InvoiceLine ON invoice.invoiceId = InvoiceLine.invoiceId\n",
    "    JOIN Track ON Track.TrackId = InvoiceLine.TrackId\n",
    "    JOIN Genre ON Genre.GenreId = Track.GenreId\n",
    "    GROUP BY Country, Genre.GenreId)\n",
    "    GROUP BY Country\n",
    "    ;\n",
    "    \n",
    "    \")\n",
    "\n",
    "result_df = DataFrame(result)"
   ]
  },
  {
   "cell_type": "code",
   "execution_count": null,
   "metadata": {},
   "outputs": [],
   "source": []
  },
  {
   "cell_type": "code",
   "execution_count": null,
   "metadata": {},
   "outputs": [],
   "source": []
  },
  {
   "cell_type": "code",
   "execution_count": null,
   "metadata": {},
   "outputs": [],
   "source": []
  },
  {
   "cell_type": "code",
   "execution_count": 15,
   "metadata": {},
   "outputs": [
    {
     "data": {
      "text/plain": [
       "\"SELECT \\n    Album.AlbumId, \\n    Album.Title AS AlbumTitle, \\n    Artist.Name AS ArtistName, \\n    SUM(InvoiceLine.UnitPrice * InvoiceLine.Quantity) AS TotalSales\\nFROM \\n    Album\\nJOIN \\n    Artist ON Album.ArtistId = Artist.ArtistId\\nJOIN \\n    Track ON Album.AlbumId = Track.AlbumId\\nJOIN \\n    InvoiceLine ON Track.TrackId = InvoiceLine.TrackId\\nGROUP BY \\n    Album.AlbumId, Album.Title, Artist.Name\\nORDER BY \\n    TotalSales DESC\\nLIMIT 5;\\n\""
      ]
     },
     "execution_count": 15,
     "metadata": {},
     "output_type": "execute_result"
    }
   ],
   "source": [
    "query = \"\"\"\n",
    "SELECT \n",
    "    Album.AlbumId, \n",
    "    Album.Title AS AlbumTitle, \n",
    "    Artist.Name AS ArtistName, \n",
    "    SUM(InvoiceLine.UnitPrice * InvoiceLine.Quantity) AS TotalSales\n",
    "FROM \n",
    "    Album\n",
    "JOIN \n",
    "    Artist ON Album.ArtistId = Artist.ArtistId\n",
    "JOIN \n",
    "    Track ON Album.AlbumId = Track.AlbumId\n",
    "JOIN \n",
    "    InvoiceLine ON Track.TrackId = InvoiceLine.TrackId\n",
    "GROUP BY \n",
    "    Album.AlbumId, Album.Title, Artist.Name\n",
    "ORDER BY \n",
    "    TotalSales DESC\n",
    "LIMIT 5;\n",
    "\"\"\""
   ]
  },
  {
   "cell_type": "code",
   "execution_count": 16,
   "metadata": {},
   "outputs": [
    {
     "data": {
      "text/html": [
       "<div class=\"data-frame\"><p>5 rows × 4 columns (omitted printing of 1 columns)</p><table class=\"data-frame\"><thead><tr><th></th><th>AlbumId</th><th>AlbumTitle</th><th>ArtistName</th></tr><tr><th></th><th title=\"Int64\">Int64</th><th title=\"String\">String</th><th title=\"String\">String</th></tr></thead><tbody><tr><th>1</th><td>253</td><td>Battlestar Galactica (Classic), Season 1</td><td>Battlestar Galactica (Classic)</td></tr><tr><th>2</th><td>251</td><td>The Office, Season 3</td><td>The Office</td></tr><tr><th>3</th><td>23</td><td>Minha Historia</td><td>Chico Buarque</td></tr><tr><th>4</th><td>228</td><td>Heroes, Season 1</td><td>Heroes</td></tr><tr><th>5</th><td>231</td><td>Lost, Season 2</td><td>Lost</td></tr></tbody></table></div>"
      ],
      "text/latex": [
       "\\begin{tabular}{r|cccc}\n",
       "\t& AlbumId & AlbumTitle & ArtistName & \\\\\n",
       "\t\\hline\n",
       "\t& Int64 & String & String & \\\\\n",
       "\t\\hline\n",
       "\t1 & 253 & Battlestar Galactica (Classic), Season 1 & Battlestar Galactica (Classic) & $\\dots$ \\\\\n",
       "\t2 & 251 & The Office, Season 3 & The Office & $\\dots$ \\\\\n",
       "\t3 & 23 & Minha Historia & Chico Buarque & $\\dots$ \\\\\n",
       "\t4 & 228 & Heroes, Season 1 & Heroes & $\\dots$ \\\\\n",
       "\t5 & 231 & Lost, Season 2 & Lost & $\\dots$ \\\\\n",
       "\\end{tabular}\n"
      ],
      "text/plain": [
       "\u001b[1m5×4 DataFrame\u001b[0m\n",
       "\u001b[1m Row \u001b[0m│\u001b[1m AlbumId \u001b[0m\u001b[1m AlbumTitle                        \u001b[0m\u001b[1m ArtistName                 \u001b[0m ⋯\n",
       "\u001b[1m     \u001b[0m│\u001b[90m Int64   \u001b[0m\u001b[90m String                            \u001b[0m\u001b[90m String                     \u001b[0m ⋯\n",
       "─────┼──────────────────────────────────────────────────────────────────────────\n",
       "   1 │     253  Battlestar Galactica (Classic), …  Battlestar Galactica (Class ⋯\n",
       "   2 │     251  The Office, Season 3               The Office\n",
       "   3 │      23  Minha Historia                     Chico Buarque\n",
       "   4 │     228  Heroes, Season 1                   Heroes\n",
       "   5 │     231  Lost, Season 2                     Lost                        ⋯\n",
       "\u001b[36m                                                               2 columns omitted\u001b[0m"
      ]
     },
     "metadata": {},
     "output_type": "display_data"
    }
   ],
   "source": [
    "result = DBInterface.execute(db, query)\n",
    "df = DataFrame(result)\n",
    "display(df)\n"
   ]
  },
  {
   "cell_type": "code",
   "execution_count": null,
   "metadata": {},
   "outputs": [],
   "source": []
  },
  {
   "cell_type": "code",
   "execution_count": null,
   "metadata": {},
   "outputs": [],
   "source": []
  },
  {
   "cell_type": "code",
   "execution_count": 17,
   "metadata": {},
   "outputs": [
    {
     "data": {
      "text/plain": [
       "\"SELECT Genre.Name, SUM(InvoiceLine.Quantity) AS TotalQuantity\\nFROM Genre\\nJOIN Track ON Genre.GenreId = Track.GenreId\\nJOIN InvoiceLine ON Track.TrackId = InvoiceLine.TrackId\\nGROUP BY Genre.Name\\nORDER BY TotalQuantity DESC\\nLIMIT 1;\\n\""
      ]
     },
     "execution_count": 17,
     "metadata": {},
     "output_type": "execute_result"
    }
   ],
   "source": [
    "query = \"\"\"\n",
    "SELECT Genre.Name, SUM(InvoiceLine.Quantity) AS TotalQuantity\n",
    "FROM Genre\n",
    "JOIN Track ON Genre.GenreId = Track.GenreId\n",
    "JOIN InvoiceLine ON Track.TrackId = InvoiceLine.TrackId\n",
    "GROUP BY Genre.Name\n",
    "ORDER BY TotalQuantity DESC\n",
    "LIMIT 1;\n",
    "\"\"\""
   ]
  },
  {
   "cell_type": "code",
   "execution_count": 18,
   "metadata": {},
   "outputs": [
    {
     "name": "stdout",
     "output_type": "stream",
     "text": [
      "Top Selling Genre:\n"
     ]
    },
    {
     "data": {
      "text/html": [
       "<div class=\"data-frame\"><p>1 rows × 2 columns</p><table class=\"data-frame\"><thead><tr><th></th><th>Name</th><th>TotalQuantity</th></tr><tr><th></th><th title=\"String\">String</th><th title=\"Int64\">Int64</th></tr></thead><tbody><tr><th>1</th><td>Rock</td><td>835</td></tr></tbody></table></div>"
      ],
      "text/latex": [
       "\\begin{tabular}{r|cc}\n",
       "\t& Name & TotalQuantity\\\\\n",
       "\t\\hline\n",
       "\t& String & Int64\\\\\n",
       "\t\\hline\n",
       "\t1 & Rock & 835 \\\\\n",
       "\\end{tabular}\n"
      ],
      "text/plain": [
       "\u001b[1m1×2 DataFrame\u001b[0m\n",
       "\u001b[1m Row \u001b[0m│\u001b[1m Name   \u001b[0m\u001b[1m TotalQuantity \u001b[0m\n",
       "\u001b[1m     \u001b[0m│\u001b[90m String \u001b[0m\u001b[90m Int64         \u001b[0m\n",
       "─────┼───────────────────────\n",
       "   1 │ Rock              835"
      ]
     },
     "metadata": {},
     "output_type": "display_data"
    }
   ],
   "source": [
    "result = DBInterface.execute(db, query)\n",
    "df = DataFrame(result)\n",
    "\n",
    "println(\"Top Selling Genre:\")\n",
    "display(df)"
   ]
  },
  {
   "cell_type": "code",
   "execution_count": null,
   "metadata": {},
   "outputs": [],
   "source": []
  },
  {
   "cell_type": "code",
   "execution_count": 20,
   "metadata": {},
   "outputs": [
    {
     "data": {
      "text/plain": [
       "\"SELECT \\n    Customer.Country, \\n    COUNT(DISTINCT Customer.CustomerId) AS TotalCustomers, \\n    SUM(Invoice.Total) AS TotalSales\\nFROM \\n    Customer\\nJOIN \\n    Invoice ON Customer.CustomerId = Invoice.CustomerId\\nGROUP BY \\n    Customer.Country\\nORDER BY \\n    TotalSales DESC;\\n\""
      ]
     },
     "execution_count": 20,
     "metadata": {},
     "output_type": "execute_result"
    }
   ],
   "source": [
    "\n",
    "query = \"\"\"\n",
    "SELECT \n",
    "    Customer.Country, \n",
    "    COUNT(DISTINCT Customer.CustomerId) AS TotalCustomers, \n",
    "    SUM(Invoice.Total) AS TotalSales\n",
    "FROM \n",
    "    Customer\n",
    "JOIN \n",
    "    Invoice ON Customer.CustomerId = Invoice.CustomerId\n",
    "GROUP BY \n",
    "    Customer.Country\n",
    "ORDER BY \n",
    "    TotalSales DESC;\n",
    "\"\"\""
   ]
  },
  {
   "cell_type": "code",
   "execution_count": 21,
   "metadata": {},
   "outputs": [
    {
     "name": "stdout",
     "output_type": "stream",
     "text": [
      "Sales Data Grouped by Country:\n"
     ]
    },
    {
     "data": {
      "text/html": [
       "<div class=\"data-frame\"><p>24 rows × 3 columns</p><table class=\"data-frame\"><thead><tr><th></th><th>Country</th><th>TotalCustomers</th><th>TotalSales</th></tr><tr><th></th><th title=\"String\">String</th><th title=\"Int64\">Int64</th><th title=\"Float64\">Float64</th></tr></thead><tbody><tr><th>1</th><td>USA</td><td>13</td><td>523.06</td></tr><tr><th>2</th><td>Canada</td><td>8</td><td>303.96</td></tr><tr><th>3</th><td>France</td><td>5</td><td>195.1</td></tr><tr><th>4</th><td>Brazil</td><td>5</td><td>190.1</td></tr><tr><th>5</th><td>Germany</td><td>4</td><td>156.48</td></tr><tr><th>6</th><td>United Kingdom</td><td>3</td><td>112.86</td></tr><tr><th>7</th><td>Czech Republic</td><td>2</td><td>90.24</td></tr><tr><th>8</th><td>Portugal</td><td>2</td><td>77.24</td></tr><tr><th>9</th><td>India</td><td>2</td><td>75.26</td></tr><tr><th>10</th><td>Chile</td><td>1</td><td>46.62</td></tr><tr><th>11</th><td>Ireland</td><td>1</td><td>45.62</td></tr><tr><th>12</th><td>Hungary</td><td>1</td><td>45.62</td></tr><tr><th>13</th><td>Austria</td><td>1</td><td>42.62</td></tr><tr><th>14</th><td>Finland</td><td>1</td><td>41.62</td></tr><tr><th>15</th><td>Netherlands</td><td>1</td><td>40.62</td></tr><tr><th>16</th><td>Norway</td><td>1</td><td>39.62</td></tr><tr><th>17</th><td>Sweden</td><td>1</td><td>38.62</td></tr><tr><th>18</th><td>Spain</td><td>1</td><td>37.62</td></tr><tr><th>19</th><td>Poland</td><td>1</td><td>37.62</td></tr><tr><th>20</th><td>Italy</td><td>1</td><td>37.62</td></tr><tr><th>21</th><td>Denmark</td><td>1</td><td>37.62</td></tr><tr><th>22</th><td>Belgium</td><td>1</td><td>37.62</td></tr><tr><th>23</th><td>Australia</td><td>1</td><td>37.62</td></tr><tr><th>24</th><td>Argentina</td><td>1</td><td>37.62</td></tr></tbody></table></div>"
      ],
      "text/latex": [
       "\\begin{tabular}{r|ccc}\n",
       "\t& Country & TotalCustomers & TotalSales\\\\\n",
       "\t\\hline\n",
       "\t& String & Int64 & Float64\\\\\n",
       "\t\\hline\n",
       "\t1 & USA & 13 & 523.06 \\\\\n",
       "\t2 & Canada & 8 & 303.96 \\\\\n",
       "\t3 & France & 5 & 195.1 \\\\\n",
       "\t4 & Brazil & 5 & 190.1 \\\\\n",
       "\t5 & Germany & 4 & 156.48 \\\\\n",
       "\t6 & United Kingdom & 3 & 112.86 \\\\\n",
       "\t7 & Czech Republic & 2 & 90.24 \\\\\n",
       "\t8 & Portugal & 2 & 77.24 \\\\\n",
       "\t9 & India & 2 & 75.26 \\\\\n",
       "\t10 & Chile & 1 & 46.62 \\\\\n",
       "\t11 & Ireland & 1 & 45.62 \\\\\n",
       "\t12 & Hungary & 1 & 45.62 \\\\\n",
       "\t13 & Austria & 1 & 42.62 \\\\\n",
       "\t14 & Finland & 1 & 41.62 \\\\\n",
       "\t15 & Netherlands & 1 & 40.62 \\\\\n",
       "\t16 & Norway & 1 & 39.62 \\\\\n",
       "\t17 & Sweden & 1 & 38.62 \\\\\n",
       "\t18 & Spain & 1 & 37.62 \\\\\n",
       "\t19 & Poland & 1 & 37.62 \\\\\n",
       "\t20 & Italy & 1 & 37.62 \\\\\n",
       "\t21 & Denmark & 1 & 37.62 \\\\\n",
       "\t22 & Belgium & 1 & 37.62 \\\\\n",
       "\t23 & Australia & 1 & 37.62 \\\\\n",
       "\t24 & Argentina & 1 & 37.62 \\\\\n",
       "\\end{tabular}\n"
      ],
      "text/plain": [
       "\u001b[1m24×3 DataFrame\u001b[0m\n",
       "\u001b[1m Row \u001b[0m│\u001b[1m Country        \u001b[0m\u001b[1m TotalCustomers \u001b[0m\u001b[1m TotalSales \u001b[0m\n",
       "\u001b[1m     \u001b[0m│\u001b[90m String         \u001b[0m\u001b[90m Int64          \u001b[0m\u001b[90m Float64    \u001b[0m\n",
       "─────┼────────────────────────────────────────────\n",
       "   1 │ USA                         13      523.06\n",
       "   2 │ Canada                       8      303.96\n",
       "   3 │ France                       5      195.1\n",
       "   4 │ Brazil                       5      190.1\n",
       "   5 │ Germany                      4      156.48\n",
       "   6 │ United Kingdom               3      112.86\n",
       "   7 │ Czech Republic               2       90.24\n",
       "   8 │ Portugal                     2       77.24\n",
       "   9 │ India                        2       75.26\n",
       "  10 │ Chile                        1       46.62\n",
       "  11 │ Ireland                      1       45.62\n",
       "  ⋮  │       ⋮               ⋮             ⋮\n",
       "  15 │ Netherlands                  1       40.62\n",
       "  16 │ Norway                       1       39.62\n",
       "  17 │ Sweden                       1       38.62\n",
       "  18 │ Spain                        1       37.62\n",
       "  19 │ Poland                       1       37.62\n",
       "  20 │ Italy                        1       37.62\n",
       "  21 │ Denmark                      1       37.62\n",
       "  22 │ Belgium                      1       37.62\n",
       "  23 │ Australia                    1       37.62\n",
       "  24 │ Argentina                    1       37.62\n",
       "\u001b[36m                                    3 rows omitted\u001b[0m"
      ]
     },
     "metadata": {},
     "output_type": "display_data"
    }
   ],
   "source": [
    "result = DBInterface.execute(db, query)\n",
    "df = DataFrame(result)\n",
    "\n",
    "\n",
    "println(\"Sales Data Grouped by Country:\")\n",
    "display(df)"
   ]
  },
  {
   "cell_type": "code",
   "execution_count": null,
   "metadata": {},
   "outputs": [],
   "source": []
  },
  {
   "cell_type": "code",
   "execution_count": null,
   "metadata": {},
   "outputs": [],
   "source": []
  },
  {
   "cell_type": "code",
   "execution_count": null,
   "metadata": {},
   "outputs": [],
   "source": []
  }
 ],
 "metadata": {
  "kernelspec": {
   "display_name": "Julia 1.8.2",
   "language": "julia",
   "name": "julia-1.8"
  },
  "language_info": {
   "file_extension": ".jl",
   "mimetype": "application/julia",
   "name": "julia",
   "version": "1.8.2"
  }
 },
 "nbformat": 4,
 "nbformat_minor": 4
}
