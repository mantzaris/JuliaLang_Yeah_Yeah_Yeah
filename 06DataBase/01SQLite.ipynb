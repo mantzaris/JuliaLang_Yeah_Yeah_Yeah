{
 "cells": [
  {
   "cell_type": "markdown",
   "id": "72c1e241-f4b4-4c1b-ae03-0a782950d1f9",
   "metadata": {},
   "source": [
    "## we will be looking at databases with SQLite\n",
    "\n",
    "https://juliadatabases.org/SQLite.jl/stable/"
   ]
  },
  {
   "cell_type": "code",
   "execution_count": 3,
   "id": "fb3abba0",
   "metadata": {},
   "outputs": [
    {
     "name": "stderr",
     "output_type": "stream",
     "text": [
      "\u001b[32m\u001b[1m   Resolving\u001b[22m\u001b[39m package versions...\n",
      "\u001b[32m\u001b[1m    Updating\u001b[22m\u001b[39m `~/.julia/environments/v1.11/Project.toml`\n",
      "  \u001b[90m[bd369af6] \u001b[39m\u001b[92m+ Tables v1.12.0\u001b[39m\n",
      "\u001b[32m\u001b[1m  No Changes\u001b[22m\u001b[39m to `~/.julia/environments/v1.11/Manifest.toml`\n",
      "\u001b[32m\u001b[1m   Resolving\u001b[22m\u001b[39m package versions...\n",
      "\u001b[32m\u001b[1m    Updating\u001b[22m\u001b[39m `~/.julia/environments/v1.11/Project.toml`\n",
      "  \u001b[90m[cd3eb016] \u001b[39m\u001b[92m+ HTTP v1.10.15\u001b[39m\n",
      "\u001b[32m\u001b[1m  No Changes\u001b[22m\u001b[39m to `~/.julia/environments/v1.11/Manifest.toml`\n",
      "\u001b[32m\u001b[1m   Resolving\u001b[22m\u001b[39m package versions...\n",
      "\u001b[32m\u001b[1m    Updating\u001b[22m\u001b[39m `~/.julia/environments/v1.11/Project.toml`\n",
      "  \u001b[90m[682c06a0] \u001b[39m\u001b[92m+ JSON v0.21.4\u001b[39m\n",
      "\u001b[32m\u001b[1m  No Changes\u001b[22m\u001b[39m to `~/.julia/environments/v1.11/Manifest.toml`\n",
      "\u001b[32m\u001b[1m   Resolving\u001b[22m\u001b[39m package versions...\n",
      "\u001b[32m\u001b[1m   Installed\u001b[22m\u001b[39m Gumbo_jll ─ v0.10.2+0\n",
      "\u001b[32m\u001b[1m   Installed\u001b[22m\u001b[39m Gumbo ───── v0.8.3\n",
      "\u001b[32m\u001b[1m    Updating\u001b[22m\u001b[39m `~/.julia/environments/v1.11/Project.toml`\n",
      "  \u001b[90m[708ec375] \u001b[39m\u001b[92m+ Gumbo v0.8.3\u001b[39m\n",
      "\u001b[32m\u001b[1m    Updating\u001b[22m\u001b[39m `~/.julia/environments/v1.11/Manifest.toml`\n",
      "  \u001b[90m[1520ce14] \u001b[39m\u001b[92m+ AbstractTrees v0.4.5\u001b[39m\n",
      "  \u001b[90m[708ec375] \u001b[39m\u001b[92m+ Gumbo v0.8.3\u001b[39m\n",
      "  \u001b[90m[528830af] \u001b[39m\u001b[92m+ Gumbo_jll v0.10.2+0\u001b[39m\n",
      "\u001b[92m\u001b[1mPrecompiling\u001b[22m\u001b[39m project...\n",
      "   1199.1 ms\u001b[32m  ✓ \u001b[39m\u001b[90mGumbo_jll\u001b[39m\n",
      "    824.6 ms\u001b[32m  ✓ \u001b[39mGumbo\n",
      "  2 dependencies successfully precompiled in 3 seconds. 481 already precompiled.\n",
      "\u001b[32m\u001b[1m   Resolving\u001b[22m\u001b[39m package versions...\n",
      "\u001b[32m\u001b[1m   Installed\u001b[22m\u001b[39m Cascadia ─ v1.0.2\n",
      "\u001b[32m\u001b[1m    Updating\u001b[22m\u001b[39m `~/.julia/environments/v1.11/Project.toml`\n",
      "  \u001b[90m[54eefc05] \u001b[39m\u001b[92m+ Cascadia v1.0.2\u001b[39m\n",
      "\u001b[32m\u001b[1m    Updating\u001b[22m\u001b[39m `~/.julia/environments/v1.11/Manifest.toml`\n",
      "  \u001b[90m[54eefc05] \u001b[39m\u001b[92m+ Cascadia v1.0.2\u001b[39m\n",
      "\u001b[92m\u001b[1mPrecompiling\u001b[22m\u001b[39m project...\n"
     ]
    },
    {
     "name": "stdout",
     "output_type": "stream",
     "text": [
      "\u001b[32m\u001b[1mStatus\u001b[22m\u001b[39m "
     ]
    },
    {
     "name": "stderr",
     "output_type": "stream",
     "text": [
      "    899.7 ms\u001b[32m  ✓ \u001b[39mCascadia\n",
      "  1 dependency successfully precompiled in 2 seconds. 483 already precompiled.\n"
     ]
    },
    {
     "name": "stdout",
     "output_type": "stream",
     "text": [
      "`~/.julia/environments/v1.11/Project.toml`\n",
      "  \u001b[90m[0aa819cd] \u001b[39mSQLite v1.6.1\n"
     ]
    }
   ],
   "source": [
    "import Pkg\n",
    "#Pkg.add(\"SQLite\")\n",
    "#Pkg.add(\"DataFrames\")\n",
    "Pkg.add(\"Tables\")\n",
    "#Pkg.add(\"CSV\")\n",
    "\n",
    "Pkg.add(\"HTTP\")\n",
    "Pkg.add(\"JSON\")\n",
    "Pkg.add(\"Gumbo\")\n",
    "Pkg.add(\"Cascadia\")\n",
    "\n",
    "Pkg.status(\"SQLite\")"
   ]
  },
  {
   "cell_type": "code",
   "execution_count": 4,
   "id": "4a89e850",
   "metadata": {},
   "outputs": [],
   "source": [
    "using SQLite\n",
    "using DataFrames\n",
    "using Tables\n",
    "using CSV\n",
    "\n",
    "using HTTP\n",
    "using JSON\n",
    "\n",
    "using Gumbo\n",
    "using Cascadia\n",
    "\n",
    "using Statistics"
   ]
  },
  {
   "cell_type": "code",
   "execution_count": 5,
   "id": "a8167c57",
   "metadata": {},
   "outputs": [
    {
     "name": "stdout",
     "output_type": "stream",
     "text": [
      "01SQLite.ipynb\n",
      "02SQLIte.ipynb\n",
      "Chinook.ipynb\n",
      "customer_data.sqlite\n",
      "newCustomers.csv\n"
     ]
    },
    {
     "data": {
      "text/plain": [
       "Process(`\u001b[4mls\u001b[24m`, ProcessExited(0))"
      ]
     },
     "metadata": {},
     "output_type": "display_data"
    }
   ],
   "source": [
    "# list files in the current directory as this notebook\n",
    "run(`ls`)"
   ]
  },
  {
   "cell_type": "code",
   "execution_count": 6,
   "id": "9d1579cf",
   "metadata": {},
   "outputs": [],
   "source": []
  },
  {
   "cell_type": "code",
   "execution_count": 7,
   "id": "d4a1f61f-cd15-4273-9fc3-dfb3cf211f79",
   "metadata": {},
   "outputs": [
    {
     "data": {
      "text/plain": [
       "SQLite.DB(\"my_database.db\")"
      ]
     },
     "metadata": {},
     "output_type": "display_data"
    }
   ],
   "source": [
    "#create a new database file\n",
    "db = SQLite.DB(\"my_database.db\")"
   ]
  },
  {
   "cell_type": "code",
   "execution_count": 8,
   "id": "9e8f1a24",
   "metadata": {},
   "outputs": [
    {
     "name": "stdout",
     "output_type": "stream",
     "text": [
      "01SQLite.ipynb\n",
      "02SQLIte.ipynb\n",
      "Chinook.ipynb\n",
      "customer_data.sqlite\n",
      "my_database.db\n",
      "newCustomers.csv\n"
     ]
    },
    {
     "data": {
      "text/plain": [
       "Process(`\u001b[4mls\u001b[24m`, ProcessExited(0))"
      ]
     },
     "metadata": {},
     "output_type": "display_data"
    }
   ],
   "source": [
    "run(`ls`)"
   ]
  },
  {
   "cell_type": "code",
   "execution_count": 10,
   "id": "6773f526-962b-4c73-987f-87114022233c",
   "metadata": {},
   "outputs": [
    {
     "data": {
      "text/plain": [
       "101"
      ]
     },
     "metadata": {},
     "output_type": "display_data"
    }
   ],
   "source": [
    "#create a simple table\n",
    "SQLite.execute(db, \"\"\"\n",
    "CREATE TABLE IF NOT EXISTS people (\n",
    "    id INTEGER PRIMARY KEY,\n",
    "    name TEXT NOT NULL,\n",
    "    age INTEGER\n",
    ")\n",
    "\"\"\")"
   ]
  },
  {
   "cell_type": "code",
   "execution_count": 11,
   "id": "06fa40c6-7589-4b12-80fd-1f6b7cac781a",
   "metadata": {},
   "outputs": [],
   "source": [
    "# 'Query' the table\n",
    "for row in DBInterface.execute(db, \"SELECT * FROM people\")\n",
    "    println(row)\n",
    "end"
   ]
  },
  {
   "cell_type": "code",
   "execution_count": 12,
   "id": "d33d71dc-8d00-430f-a06d-d832bac2af83",
   "metadata": {},
   "outputs": [
    {
     "data": {
      "text/plain": [
       "101"
      ]
     },
     "metadata": {},
     "output_type": "display_data"
    }
   ],
   "source": [
    "#insert data into the table, notice that the id key is not explicitly inserted\n",
    "SQLite.execute(db, \"INSERT INTO people (name, age) VALUES (?, ?)\", (\"Alan\", 30))\n",
    "SQLite.execute(db, \"INSERT INTO people (name, age) VALUES (?, ?)\", (\"Bob\", 25))"
   ]
  },
  {
   "cell_type": "code",
   "execution_count": 13,
   "id": "b65b99d6",
   "metadata": {},
   "outputs": [
    {
     "data": {
      "text/plain": [
       "SQLite.Query{false}(SQLite.Stmt(SQLite.DB(\"my_database.db\"), Base.RefValue{Ptr{SQLite.C.sqlite3_stmt}}(Ptr{SQLite.C.sqlite3_stmt} @0x000000002f39bf28), Dict{Int64, Any}(2 => 50, 1 => \"Cat\")), Base.RefValue{Int32}(101), Symbol[], Type[], Dict{Symbol, Int64}(), Base.RefValue{Int64}(0))"
      ]
     },
     "metadata": {},
     "output_type": "display_data"
    }
   ],
   "source": [
    "DBInterface.execute(db, \"INSERT INTO people (name, age) VALUES (?, ?)\", (\"Cat\", 50))\n"
   ]
  },
  {
   "cell_type": "code",
   "execution_count": 14,
   "id": "aaff27af-751c-4891-afc3-84db382b6a77",
   "metadata": {},
   "outputs": [
    {
     "name": "stdout",
     "output_type": "stream",
     "text": [
      "SQLite.Row{false}:\n",
      " :id     1\n",
      " :name    \"Alan\"\n",
      " :age   30\n",
      "SQLite.Row{false}:\n",
      " :id     2\n",
      " :name    \"Bob\"\n",
      " :age   25\n",
      "SQLite.Row{false}:\n",
      " :id     3\n",
      " :name    \"Cat\"\n",
      " :age   50\n"
     ]
    }
   ],
   "source": [
    "for row in DBInterface.execute(db, \"SELECT * FROM people\")\n",
    "    println(row)\n",
    "end"
   ]
  },
  {
   "cell_type": "code",
   "execution_count": null,
   "id": "fb97e792-57fb-4277-8f1f-6672b8930b4e",
   "metadata": {},
   "outputs": [],
   "source": []
  },
  {
   "cell_type": "code",
   "execution_count": 15,
   "id": "672dd1e8-1940-4879-832b-0b7561be9f78",
   "metadata": {},
   "outputs": [
    {
     "data": {
      "text/plain": [
       "101"
      ]
     },
     "metadata": {},
     "output_type": "display_data"
    }
   ],
   "source": [
    "#ypdate data in the table\n",
    "SQLite.execute(db, \"UPDATE people SET age = ? WHERE name = ?\", (35, \"Alan\"))"
   ]
  },
  {
   "cell_type": "code",
   "execution_count": 16,
   "id": "74c787ab-bc6c-458f-9c42-5a626892ebea",
   "metadata": {},
   "outputs": [
    {
     "name": "stdout",
     "output_type": "stream",
     "text": [
      "SQLite.Row{false}:\n",
      " :id     1\n",
      " :name    \"Alan\"\n",
      " :age   35\n",
      "SQLite.Row{false}:\n",
      " :id     2\n",
      " :name    \"Bob\"\n",
      " :age   25\n",
      "SQLite.Row{false}:\n",
      " :id     3\n",
      " :name    \"Cat\"\n",
      " :age   50\n"
     ]
    }
   ],
   "source": [
    "for row in DBInterface.execute(db, \"SELECT * FROM people\")\n",
    "    println(row)\n",
    "end"
   ]
  },
  {
   "cell_type": "code",
   "execution_count": 17,
   "id": "db57536f-8ccf-4612-abba-5ab0c0a2b57d",
   "metadata": {},
   "outputs": [
    {
     "data": {
      "text/plain": [
       "101"
      ]
     },
     "metadata": {},
     "output_type": "display_data"
    }
   ],
   "source": [
    "#delete a record from the table\n",
    "SQLite.execute(db, \"DELETE FROM people WHERE name = ?\", (\"Bob\",))"
   ]
  },
  {
   "cell_type": "code",
   "execution_count": 18,
   "id": "9086e538-aa66-4b94-9aaa-499aee6f2a85",
   "metadata": {},
   "outputs": [
    {
     "name": "stdout",
     "output_type": "stream",
     "text": [
      "SQLite.Row{false}:\n",
      " :id     1\n",
      " :name    \"Alan\"\n",
      " :age   35\n",
      "SQLite.Row{false}:\n",
      " :id     3\n",
      " :name    \"Cat\"\n",
      " :age   50\n"
     ]
    }
   ],
   "source": [
    "for row in DBInterface.execute(db, \"SELECT * FROM people\")\n",
    "    println(row)\n",
    "end"
   ]
  },
  {
   "cell_type": "code",
   "execution_count": 19,
   "id": "e46ab0df-6357-4c83-a389-11d82ccbc0eb",
   "metadata": {},
   "outputs": [
    {
     "data": {
      "text/plain": [
       "101"
      ]
     },
     "metadata": {},
     "output_type": "display_data"
    }
   ],
   "source": [
    "# Insert multiple rows in a single statement\n",
    "SQLite.execute(db, \"\"\"\n",
    "INSERT INTO people (name, age) VALUES \n",
    "    ('Charlie', 40),\n",
    "    ('David', 28),\n",
    "    ('Eve', 35)\n",
    "\"\"\")"
   ]
  },
  {
   "cell_type": "code",
   "execution_count": 21,
   "id": "b820b0f8-3764-41af-b84b-74305195bb87",
   "metadata": {},
   "outputs": [
    {
     "data": {
      "text/html": [
       "<div><div style = \"float: left;\"><span>5×3 DataFrame</span></div><div style = \"clear: both;\"></div></div><div class = \"data-frame\" style = \"overflow-x: scroll;\"><table class = \"data-frame\" style = \"margin-bottom: 6px;\"><thead><tr class = \"header\"><th class = \"rowNumber\" style = \"font-weight: bold; text-align: right;\">Row</th><th style = \"text-align: left;\">id</th><th style = \"text-align: left;\">name</th><th style = \"text-align: left;\">age</th></tr><tr class = \"subheader headerLastRow\"><th class = \"rowNumber\" style = \"font-weight: bold; text-align: right;\"></th><th title = \"Int64\" style = \"text-align: left;\">Int64</th><th title = \"String\" style = \"text-align: left;\">String</th><th title = \"Int64\" style = \"text-align: left;\">Int64</th></tr></thead><tbody><tr><td class = \"rowNumber\" style = \"font-weight: bold; text-align: right;\">1</td><td style = \"text-align: right;\">1</td><td style = \"text-align: left;\">Alan</td><td style = \"text-align: right;\">35</td></tr><tr><td class = \"rowNumber\" style = \"font-weight: bold; text-align: right;\">2</td><td style = \"text-align: right;\">3</td><td style = \"text-align: left;\">Cat</td><td style = \"text-align: right;\">50</td></tr><tr><td class = \"rowNumber\" style = \"font-weight: bold; text-align: right;\">3</td><td style = \"text-align: right;\">4</td><td style = \"text-align: left;\">Charlie</td><td style = \"text-align: right;\">40</td></tr><tr><td class = \"rowNumber\" style = \"font-weight: bold; text-align: right;\">4</td><td style = \"text-align: right;\">5</td><td style = \"text-align: left;\">David</td><td style = \"text-align: right;\">28</td></tr><tr><td class = \"rowNumber\" style = \"font-weight: bold; text-align: right;\">5</td><td style = \"text-align: right;\">6</td><td style = \"text-align: left;\">Eve</td><td style = \"text-align: right;\">35</td></tr></tbody></table></div>"
      ],
      "text/latex": [
       "\\begin{tabular}{r|ccc}\n",
       "\t& id & name & age\\\\\n",
       "\t\\hline\n",
       "\t& Int64 & String & Int64\\\\\n",
       "\t\\hline\n",
       "\t1 & 1 & Alan & 35 \\\\\n",
       "\t2 & 3 & Cat & 50 \\\\\n",
       "\t3 & 4 & Charlie & 40 \\\\\n",
       "\t4 & 5 & David & 28 \\\\\n",
       "\t5 & 6 & Eve & 35 \\\\\n",
       "\\end{tabular}\n"
      ],
      "text/plain": [
       "\u001b[1m5×3 DataFrame\u001b[0m\n",
       "\u001b[1m Row \u001b[0m│\u001b[1m id    \u001b[0m\u001b[1m name    \u001b[0m\u001b[1m age   \u001b[0m\n",
       "     │\u001b[90m Int64 \u001b[0m\u001b[90m String  \u001b[0m\u001b[90m Int64 \u001b[0m\n",
       "─────┼───────────────────────\n",
       "   1 │     1  Alan        35\n",
       "   2 │     3  Cat         50\n",
       "   3 │     4  Charlie     40\n",
       "   4 │     5  David       28\n",
       "   5 │     6  Eve         35"
      ]
     },
     "metadata": {},
     "output_type": "display_data"
    }
   ],
   "source": [
    "result_df = DataFrame( DBInterface.execute(db, \"SELECT * FROM people\") )\n",
    "result_df"
   ]
  },
  {
   "cell_type": "code",
   "execution_count": null,
   "id": "6c922996-519a-4a89-8b5d-8ebeccd21da9",
   "metadata": {},
   "outputs": [],
   "source": []
  },
  {
   "cell_type": "code",
   "execution_count": 22,
   "id": "fca64554-8338-423d-805b-73fbeafcb93a",
   "metadata": {},
   "outputs": [
    {
     "data": {
      "text/plain": [
       "101"
      ]
     },
     "metadata": {},
     "output_type": "display_data"
    }
   ],
   "source": [
    "#adding a new column 'state' with a default value\n",
    "SQLite.execute(db, \"\"\"\n",
    "ALTER TABLE people\n",
    "ADD COLUMN state TEXT DEFAULT 'Unknown'\n",
    "\"\"\")"
   ]
  },
  {
   "cell_type": "code",
   "execution_count": 23,
   "id": "abff0bc3-90bd-4b67-895f-3cc1b0ab8700",
   "metadata": {},
   "outputs": [
    {
     "data": {
      "text/html": [
       "<div><div style = \"float: left;\"><span>5×4 DataFrame</span></div><div style = \"clear: both;\"></div></div><div class = \"data-frame\" style = \"overflow-x: scroll;\"><table class = \"data-frame\" style = \"margin-bottom: 6px;\"><thead><tr class = \"header\"><th class = \"rowNumber\" style = \"font-weight: bold; text-align: right;\">Row</th><th style = \"text-align: left;\">id</th><th style = \"text-align: left;\">name</th><th style = \"text-align: left;\">age</th><th style = \"text-align: left;\">state</th></tr><tr class = \"subheader headerLastRow\"><th class = \"rowNumber\" style = \"font-weight: bold; text-align: right;\"></th><th title = \"Int64\" style = \"text-align: left;\">Int64</th><th title = \"String\" style = \"text-align: left;\">String</th><th title = \"Int64\" style = \"text-align: left;\">Int64</th><th title = \"String\" style = \"text-align: left;\">String</th></tr></thead><tbody><tr><td class = \"rowNumber\" style = \"font-weight: bold; text-align: right;\">1</td><td style = \"text-align: right;\">1</td><td style = \"text-align: left;\">Alan</td><td style = \"text-align: right;\">35</td><td style = \"text-align: left;\">Unknown</td></tr><tr><td class = \"rowNumber\" style = \"font-weight: bold; text-align: right;\">2</td><td style = \"text-align: right;\">3</td><td style = \"text-align: left;\">Cat</td><td style = \"text-align: right;\">50</td><td style = \"text-align: left;\">Unknown</td></tr><tr><td class = \"rowNumber\" style = \"font-weight: bold; text-align: right;\">3</td><td style = \"text-align: right;\">4</td><td style = \"text-align: left;\">Charlie</td><td style = \"text-align: right;\">40</td><td style = \"text-align: left;\">Unknown</td></tr><tr><td class = \"rowNumber\" style = \"font-weight: bold; text-align: right;\">4</td><td style = \"text-align: right;\">5</td><td style = \"text-align: left;\">David</td><td style = \"text-align: right;\">28</td><td style = \"text-align: left;\">Unknown</td></tr><tr><td class = \"rowNumber\" style = \"font-weight: bold; text-align: right;\">5</td><td style = \"text-align: right;\">6</td><td style = \"text-align: left;\">Eve</td><td style = \"text-align: right;\">35</td><td style = \"text-align: left;\">Unknown</td></tr></tbody></table></div>"
      ],
      "text/latex": [
       "\\begin{tabular}{r|cccc}\n",
       "\t& id & name & age & state\\\\\n",
       "\t\\hline\n",
       "\t& Int64 & String & Int64 & String\\\\\n",
       "\t\\hline\n",
       "\t1 & 1 & Alan & 35 & Unknown \\\\\n",
       "\t2 & 3 & Cat & 50 & Unknown \\\\\n",
       "\t3 & 4 & Charlie & 40 & Unknown \\\\\n",
       "\t4 & 5 & David & 28 & Unknown \\\\\n",
       "\t5 & 6 & Eve & 35 & Unknown \\\\\n",
       "\\end{tabular}\n"
      ],
      "text/plain": [
       "\u001b[1m5×4 DataFrame\u001b[0m\n",
       "\u001b[1m Row \u001b[0m│\u001b[1m id    \u001b[0m\u001b[1m name    \u001b[0m\u001b[1m age   \u001b[0m\u001b[1m state   \u001b[0m\n",
       "     │\u001b[90m Int64 \u001b[0m\u001b[90m String  \u001b[0m\u001b[90m Int64 \u001b[0m\u001b[90m String  \u001b[0m\n",
       "─────┼────────────────────────────────\n",
       "   1 │     1  Alan        35  Unknown\n",
       "   2 │     3  Cat         50  Unknown\n",
       "   3 │     4  Charlie     40  Unknown\n",
       "   4 │     5  David       28  Unknown\n",
       "   5 │     6  Eve         35  Unknown"
      ]
     },
     "metadata": {},
     "output_type": "display_data"
    }
   ],
   "source": [
    "result_df = DBInterface.execute(db, \"SELECT * FROM people\") |> DataFrame\n",
    "result_df"
   ]
  },
  {
   "cell_type": "code",
   "execution_count": 24,
   "id": "41e9e38d-f551-45ef-a008-0ca9afac953e",
   "metadata": {},
   "outputs": [
    {
     "data": {
      "text/plain": [
       "101"
      ]
     },
     "metadata": {},
     "output_type": "display_data"
    }
   ],
   "source": [
    "#update all those over 30 to be state FL\n",
    "SQLite.execute(db, \"UPDATE people SET state = 'FL' WHERE age > 30\")"
   ]
  },
  {
   "cell_type": "code",
   "execution_count": 26,
   "id": "2136757b-300f-4477-8d6c-301e1072abf6",
   "metadata": {},
   "outputs": [
    {
     "data": {
      "text/plain": [
       "36"
      ]
     },
     "metadata": {},
     "output_type": "display_data"
    }
   ],
   "source": [
    "[1,2,3] |> sum |> x-> x^2"
   ]
  },
  {
   "cell_type": "code",
   "execution_count": 25,
   "id": "8d2f255e-06f3-4f29-9d5c-bdf29e2bd164",
   "metadata": {},
   "outputs": [
    {
     "data": {
      "text/html": [
       "<div><div style = \"float: left;\"><span>5×4 DataFrame</span></div><div style = \"clear: both;\"></div></div><div class = \"data-frame\" style = \"overflow-x: scroll;\"><table class = \"data-frame\" style = \"margin-bottom: 6px;\"><thead><tr class = \"header\"><th class = \"rowNumber\" style = \"font-weight: bold; text-align: right;\">Row</th><th style = \"text-align: left;\">id</th><th style = \"text-align: left;\">name</th><th style = \"text-align: left;\">age</th><th style = \"text-align: left;\">state</th></tr><tr class = \"subheader headerLastRow\"><th class = \"rowNumber\" style = \"font-weight: bold; text-align: right;\"></th><th title = \"Int64\" style = \"text-align: left;\">Int64</th><th title = \"String\" style = \"text-align: left;\">String</th><th title = \"Int64\" style = \"text-align: left;\">Int64</th><th title = \"String\" style = \"text-align: left;\">String</th></tr></thead><tbody><tr><td class = \"rowNumber\" style = \"font-weight: bold; text-align: right;\">1</td><td style = \"text-align: right;\">1</td><td style = \"text-align: left;\">Alan</td><td style = \"text-align: right;\">35</td><td style = \"text-align: left;\">FL</td></tr><tr><td class = \"rowNumber\" style = \"font-weight: bold; text-align: right;\">2</td><td style = \"text-align: right;\">3</td><td style = \"text-align: left;\">Cat</td><td style = \"text-align: right;\">50</td><td style = \"text-align: left;\">FL</td></tr><tr><td class = \"rowNumber\" style = \"font-weight: bold; text-align: right;\">3</td><td style = \"text-align: right;\">4</td><td style = \"text-align: left;\">Charlie</td><td style = \"text-align: right;\">40</td><td style = \"text-align: left;\">FL</td></tr><tr><td class = \"rowNumber\" style = \"font-weight: bold; text-align: right;\">4</td><td style = \"text-align: right;\">5</td><td style = \"text-align: left;\">David</td><td style = \"text-align: right;\">28</td><td style = \"text-align: left;\">Unknown</td></tr><tr><td class = \"rowNumber\" style = \"font-weight: bold; text-align: right;\">5</td><td style = \"text-align: right;\">6</td><td style = \"text-align: left;\">Eve</td><td style = \"text-align: right;\">35</td><td style = \"text-align: left;\">FL</td></tr></tbody></table></div>"
      ],
      "text/latex": [
       "\\begin{tabular}{r|cccc}\n",
       "\t& id & name & age & state\\\\\n",
       "\t\\hline\n",
       "\t& Int64 & String & Int64 & String\\\\\n",
       "\t\\hline\n",
       "\t1 & 1 & Alan & 35 & FL \\\\\n",
       "\t2 & 3 & Cat & 50 & FL \\\\\n",
       "\t3 & 4 & Charlie & 40 & FL \\\\\n",
       "\t4 & 5 & David & 28 & Unknown \\\\\n",
       "\t5 & 6 & Eve & 35 & FL \\\\\n",
       "\\end{tabular}\n"
      ],
      "text/plain": [
       "\u001b[1m5×4 DataFrame\u001b[0m\n",
       "\u001b[1m Row \u001b[0m│\u001b[1m id    \u001b[0m\u001b[1m name    \u001b[0m\u001b[1m age   \u001b[0m\u001b[1m state   \u001b[0m\n",
       "     │\u001b[90m Int64 \u001b[0m\u001b[90m String  \u001b[0m\u001b[90m Int64 \u001b[0m\u001b[90m String  \u001b[0m\n",
       "─────┼────────────────────────────────\n",
       "   1 │     1  Alan        35  FL\n",
       "   2 │     3  Cat         50  FL\n",
       "   3 │     4  Charlie     40  FL\n",
       "   4 │     5  David       28  Unknown\n",
       "   5 │     6  Eve         35  FL"
      ]
     },
     "metadata": {},
     "output_type": "display_data"
    }
   ],
   "source": [
    "result_df = DBInterface.execute(db, \"SELECT * FROM people\") |> DataFrame\n",
    "result_df"
   ]
  },
  {
   "cell_type": "code",
   "execution_count": 27,
   "id": "43f19491-061d-4b6f-840d-5f83e743f2bc",
   "metadata": {},
   "outputs": [
    {
     "data": {
      "text/html": [
       "<div><div style = \"float: left;\"><span>1×1 DataFrame</span></div><div style = \"clear: both;\"></div></div><div class = \"data-frame\" style = \"overflow-x: scroll;\"><table class = \"data-frame\" style = \"margin-bottom: 6px;\"><thead><tr class = \"header\"><th class = \"rowNumber\" style = \"font-weight: bold; text-align: right;\">Row</th><th style = \"text-align: left;\">COUNT(*)</th></tr><tr class = \"subheader headerLastRow\"><th class = \"rowNumber\" style = \"font-weight: bold; text-align: right;\"></th><th title = \"Int64\" style = \"text-align: left;\">Int64</th></tr></thead><tbody><tr><td class = \"rowNumber\" style = \"font-weight: bold; text-align: right;\">1</td><td style = \"text-align: right;\">4</td></tr></tbody></table></div>"
      ],
      "text/latex": [
       "\\begin{tabular}{r|c}\n",
       "\t& COUNT(*)\\\\\n",
       "\t\\hline\n",
       "\t& Int64\\\\\n",
       "\t\\hline\n",
       "\t1 & 4 \\\\\n",
       "\\end{tabular}\n"
      ],
      "text/plain": [
       "\u001b[1m1×1 DataFrame\u001b[0m\n",
       "\u001b[1m Row \u001b[0m│\u001b[1m COUNT(*) \u001b[0m\n",
       "     │\u001b[90m Int64    \u001b[0m\n",
       "─────┼──────────\n",
       "   1 │        4"
      ]
     },
     "metadata": {},
     "output_type": "display_data"
    }
   ],
   "source": [
    "#number of people in FL\n",
    "people_in_fl = DBInterface.execute(db, \"SELECT COUNT(*) FROM people WHERE state = 'FL'\") |> DataFrame"
   ]
  },
  {
   "cell_type": "code",
   "execution_count": 28,
   "id": "a4323e66-6146-492b-a88e-e2c9501bd139",
   "metadata": {},
   "outputs": [
    {
     "data": {
      "text/html": [
       "<div><div style = \"float: left;\"><span>2×2 DataFrame</span></div><div style = \"clear: both;\"></div></div><div class = \"data-frame\" style = \"overflow-x: scroll;\"><table class = \"data-frame\" style = \"margin-bottom: 6px;\"><thead><tr class = \"header\"><th class = \"rowNumber\" style = \"font-weight: bold; text-align: right;\">Row</th><th style = \"text-align: left;\">state</th><th style = \"text-align: left;\">average_age</th></tr><tr class = \"subheader headerLastRow\"><th class = \"rowNumber\" style = \"font-weight: bold; text-align: right;\"></th><th title = \"String\" style = \"text-align: left;\">String</th><th title = \"Float64\" style = \"text-align: left;\">Float64</th></tr></thead><tbody><tr><td class = \"rowNumber\" style = \"font-weight: bold; text-align: right;\">1</td><td style = \"text-align: left;\">FL</td><td style = \"text-align: right;\">40.0</td></tr><tr><td class = \"rowNumber\" style = \"font-weight: bold; text-align: right;\">2</td><td style = \"text-align: left;\">Unknown</td><td style = \"text-align: right;\">28.0</td></tr></tbody></table></div>"
      ],
      "text/latex": [
       "\\begin{tabular}{r|cc}\n",
       "\t& state & average\\_age\\\\\n",
       "\t\\hline\n",
       "\t& String & Float64\\\\\n",
       "\t\\hline\n",
       "\t1 & FL & 40.0 \\\\\n",
       "\t2 & Unknown & 28.0 \\\\\n",
       "\\end{tabular}\n"
      ],
      "text/plain": [
       "\u001b[1m2×2 DataFrame\u001b[0m\n",
       "\u001b[1m Row \u001b[0m│\u001b[1m state   \u001b[0m\u001b[1m average_age \u001b[0m\n",
       "     │\u001b[90m String  \u001b[0m\u001b[90m Float64     \u001b[0m\n",
       "─────┼──────────────────────\n",
       "   1 │ FL              40.0\n",
       "   2 │ Unknown         28.0"
      ]
     },
     "metadata": {},
     "output_type": "display_data"
    }
   ],
   "source": [
    "average_age_by_state = DBInterface.execute(db, \"SELECT state, AVG(age) as average_age FROM people GROUP BY state\") |> DataFrame"
   ]
  },
  {
   "cell_type": "code",
   "execution_count": 29,
   "id": "270c5924-6463-437e-bc19-ba2424adf42c",
   "metadata": {},
   "outputs": [
    {
     "data": {
      "text/html": [
       "<div><div style = \"float: left;\"><span>5×4 DataFrame</span></div><div style = \"clear: both;\"></div></div><div class = \"data-frame\" style = \"overflow-x: scroll;\"><table class = \"data-frame\" style = \"margin-bottom: 6px;\"><thead><tr class = \"header\"><th class = \"rowNumber\" style = \"font-weight: bold; text-align: right;\">Row</th><th style = \"text-align: left;\">id</th><th style = \"text-align: left;\">name</th><th style = \"text-align: left;\">age</th><th style = \"text-align: left;\">state</th></tr><tr class = \"subheader headerLastRow\"><th class = \"rowNumber\" style = \"font-weight: bold; text-align: right;\"></th><th title = \"Int64\" style = \"text-align: left;\">Int64</th><th title = \"String\" style = \"text-align: left;\">String</th><th title = \"Int64\" style = \"text-align: left;\">Int64</th><th title = \"String\" style = \"text-align: left;\">String</th></tr></thead><tbody><tr><td class = \"rowNumber\" style = \"font-weight: bold; text-align: right;\">1</td><td style = \"text-align: right;\">1</td><td style = \"text-align: left;\">Alan</td><td style = \"text-align: right;\">35</td><td style = \"text-align: left;\">FL</td></tr><tr><td class = \"rowNumber\" style = \"font-weight: bold; text-align: right;\">2</td><td style = \"text-align: right;\">3</td><td style = \"text-align: left;\">Cat</td><td style = \"text-align: right;\">50</td><td style = \"text-align: left;\">FL</td></tr><tr><td class = \"rowNumber\" style = \"font-weight: bold; text-align: right;\">3</td><td style = \"text-align: right;\">4</td><td style = \"text-align: left;\">Charlie</td><td style = \"text-align: right;\">40</td><td style = \"text-align: left;\">FL</td></tr><tr><td class = \"rowNumber\" style = \"font-weight: bold; text-align: right;\">4</td><td style = \"text-align: right;\">5</td><td style = \"text-align: left;\">David</td><td style = \"text-align: right;\">28</td><td style = \"text-align: left;\">Unknown</td></tr><tr><td class = \"rowNumber\" style = \"font-weight: bold; text-align: right;\">5</td><td style = \"text-align: right;\">6</td><td style = \"text-align: left;\">Eve</td><td style = \"text-align: right;\">35</td><td style = \"text-align: left;\">FL</td></tr></tbody></table></div>"
      ],
      "text/latex": [
       "\\begin{tabular}{r|cccc}\n",
       "\t& id & name & age & state\\\\\n",
       "\t\\hline\n",
       "\t& Int64 & String & Int64 & String\\\\\n",
       "\t\\hline\n",
       "\t1 & 1 & Alan & 35 & FL \\\\\n",
       "\t2 & 3 & Cat & 50 & FL \\\\\n",
       "\t3 & 4 & Charlie & 40 & FL \\\\\n",
       "\t4 & 5 & David & 28 & Unknown \\\\\n",
       "\t5 & 6 & Eve & 35 & FL \\\\\n",
       "\\end{tabular}\n"
      ],
      "text/plain": [
       "\u001b[1m5×4 DataFrame\u001b[0m\n",
       "\u001b[1m Row \u001b[0m│\u001b[1m id    \u001b[0m\u001b[1m name    \u001b[0m\u001b[1m age   \u001b[0m\u001b[1m state   \u001b[0m\n",
       "     │\u001b[90m Int64 \u001b[0m\u001b[90m String  \u001b[0m\u001b[90m Int64 \u001b[0m\u001b[90m String  \u001b[0m\n",
       "─────┼────────────────────────────────\n",
       "   1 │     1  Alan        35  FL\n",
       "   2 │     3  Cat         50  FL\n",
       "   3 │     4  Charlie     40  FL\n",
       "   4 │     5  David       28  Unknown\n",
       "   5 │     6  Eve         35  FL"
      ]
     },
     "metadata": {},
     "output_type": "display_data"
    }
   ],
   "source": [
    "#Find this using DataFrames directly\n",
    "result_df = DBInterface.execute(db, \"SELECT * FROM people\") |> DataFrame"
   ]
  },
  {
   "cell_type": "code",
   "execution_count": 30,
   "id": "fbff867e-622e-4cd2-8824-770fa49037f2",
   "metadata": {},
   "outputs": [
    {
     "data": {
      "text/plain": [
       "4"
      ]
     },
     "metadata": {},
     "output_type": "display_data"
    }
   ],
   "source": [
    "fl_count = sum(result_df.state .== \"FL\") #number of FL people"
   ]
  },
  {
   "cell_type": "code",
   "execution_count": 31,
   "id": "d18a6a0d-baca-43e3-8be3-acfed5ac2d2f",
   "metadata": {},
   "outputs": [
    {
     "data": {
      "text/html": [
       "<div><div style = \"float: left;\"><span>2×2 DataFrame</span></div><div style = \"clear: both;\"></div></div><div class = \"data-frame\" style = \"overflow-x: scroll;\"><table class = \"data-frame\" style = \"margin-bottom: 6px;\"><thead><tr class = \"header\"><th class = \"rowNumber\" style = \"font-weight: bold; text-align: right;\">Row</th><th style = \"text-align: left;\">state</th><th style = \"text-align: left;\">average_age</th></tr><tr class = \"subheader headerLastRow\"><th class = \"rowNumber\" style = \"font-weight: bold; text-align: right;\"></th><th title = \"String\" style = \"text-align: left;\">String</th><th title = \"Float64\" style = \"text-align: left;\">Float64</th></tr></thead><tbody><tr><td class = \"rowNumber\" style = \"font-weight: bold; text-align: right;\">1</td><td style = \"text-align: left;\">FL</td><td style = \"text-align: right;\">40.0</td></tr><tr><td class = \"rowNumber\" style = \"font-weight: bold; text-align: right;\">2</td><td style = \"text-align: left;\">Unknown</td><td style = \"text-align: right;\">28.0</td></tr></tbody></table></div>"
      ],
      "text/latex": [
       "\\begin{tabular}{r|cc}\n",
       "\t& state & average\\_age\\\\\n",
       "\t\\hline\n",
       "\t& String & Float64\\\\\n",
       "\t\\hline\n",
       "\t1 & FL & 40.0 \\\\\n",
       "\t2 & Unknown & 28.0 \\\\\n",
       "\\end{tabular}\n"
      ],
      "text/plain": [
       "\u001b[1m2×2 DataFrame\u001b[0m\n",
       "\u001b[1m Row \u001b[0m│\u001b[1m state   \u001b[0m\u001b[1m average_age \u001b[0m\n",
       "     │\u001b[90m String  \u001b[0m\u001b[90m Float64     \u001b[0m\n",
       "─────┼──────────────────────\n",
       "   1 │ FL              40.0\n",
       "   2 │ Unknown         28.0"
      ]
     },
     "metadata": {},
     "output_type": "display_data"
    }
   ],
   "source": [
    "average_age_by_state_df = combine(groupby(result_df, :state), :age => mean => :average_age)"
   ]
  },
  {
   "cell_type": "code",
   "execution_count": 32,
   "id": "fd6b9ac1-5ff7-4cfa-96ce-6f419e29f1da",
   "metadata": {},
   "outputs": [
    {
     "data": {
      "text/html": [
       "<p><b>GroupedDataFrame with 2 groups based on key: state</b></p><div><div style = \"float: left;\"><span>First Group (4 rows): state = &quot;FL&quot;</span></div><div style = \"clear: both;\"></div></div><div class = \"data-frame\" style = \"overflow-x: scroll;\"><table class = \"data-frame\" style = \"margin-bottom: 6px;\"><thead><tr class = \"header\"><th class = \"rowNumber\" style = \"font-weight: bold; text-align: right;\">Row</th><th style = \"text-align: left;\">id</th><th style = \"text-align: left;\">name</th><th style = \"text-align: left;\">age</th><th style = \"text-align: left;\">state</th></tr><tr class = \"subheader headerLastRow\"><th class = \"rowNumber\" style = \"font-weight: bold; text-align: right;\"></th><th title = \"Int64\" style = \"text-align: left;\">Int64</th><th title = \"String\" style = \"text-align: left;\">String</th><th title = \"Int64\" style = \"text-align: left;\">Int64</th><th title = \"String\" style = \"text-align: left;\">String</th></tr></thead><tbody><tr><td class = \"rowNumber\" style = \"font-weight: bold; text-align: right;\">1</td><td style = \"text-align: right;\">1</td><td style = \"text-align: left;\">Alan</td><td style = \"text-align: right;\">35</td><td style = \"text-align: left;\">FL</td></tr><tr><td class = \"rowNumber\" style = \"font-weight: bold; text-align: right;\">2</td><td style = \"text-align: right;\">3</td><td style = \"text-align: left;\">Cat</td><td style = \"text-align: right;\">50</td><td style = \"text-align: left;\">FL</td></tr><tr><td class = \"rowNumber\" style = \"font-weight: bold; text-align: right;\">3</td><td style = \"text-align: right;\">4</td><td style = \"text-align: left;\">Charlie</td><td style = \"text-align: right;\">40</td><td style = \"text-align: left;\">FL</td></tr><tr><td class = \"rowNumber\" style = \"font-weight: bold; text-align: right;\">4</td><td style = \"text-align: right;\">6</td><td style = \"text-align: left;\">Eve</td><td style = \"text-align: right;\">35</td><td style = \"text-align: left;\">FL</td></tr></tbody></table></div><p>&vellip;</p><div><div style = \"float: left;\"><span>Last Group (1 row): state = &quot;Unknown&quot;</span></div><div style = \"clear: both;\"></div></div><div class = \"data-frame\" style = \"overflow-x: scroll;\"><table class = \"data-frame\" style = \"margin-bottom: 6px;\"><thead><tr class = \"header\"><th class = \"rowNumber\" style = \"font-weight: bold; text-align: right;\">Row</th><th style = \"text-align: left;\">id</th><th style = \"text-align: left;\">name</th><th style = \"text-align: left;\">age</th><th style = \"text-align: left;\">state</th></tr><tr class = \"subheader headerLastRow\"><th class = \"rowNumber\" style = \"font-weight: bold; text-align: right;\"></th><th title = \"Int64\" style = \"text-align: left;\">Int64</th><th title = \"String\" style = \"text-align: left;\">String</th><th title = \"Int64\" style = \"text-align: left;\">Int64</th><th title = \"String\" style = \"text-align: left;\">String</th></tr></thead><tbody><tr><td class = \"rowNumber\" style = \"font-weight: bold; text-align: right;\">1</td><td style = \"text-align: right;\">5</td><td style = \"text-align: left;\">David</td><td style = \"text-align: right;\">28</td><td style = \"text-align: left;\">Unknown</td></tr></tbody></table></div>"
      ],
      "text/latex": [
       "GroupedDataFrame with 2 groups based on key: state\n",
       "\n",
       "First Group (4 rows): state = \"FL\"\n",
       "\n",
       "\\begin{tabular}{r|cccc}\n",
       "\t& id & name & age & state\\\\\n",
       "\t\\hline\n",
       "\t& Int64 & String & Int64 & String\\\\\n",
       "\t\\hline\n",
       "\t1 & 1 & Alan & 35 & FL \\\\\n",
       "\t2 & 3 & Cat & 50 & FL \\\\\n",
       "\t3 & 4 & Charlie & 40 & FL \\\\\n",
       "\t4 & 6 & Eve & 35 & FL \\\\\n",
       "\\end{tabular}\n",
       "\n",
       "$\\dots$\n",
       "\n",
       "Last Group (1 row): state = \"Unknown\"\n",
       "\n",
       "\\begin{tabular}{r|cccc}\n",
       "\t& id & name & age & state\\\\\n",
       "\t\\hline\n",
       "\t& Int64 & String & Int64 & String\\\\\n",
       "\t\\hline\n",
       "\t1 & 5 & David & 28 & Unknown \\\\\n",
       "\\end{tabular}\n"
      ],
      "text/plain": [
       "GroupedDataFrame with 2 groups based on key: state\n",
       "First Group (4 rows): state = \"FL\"\n",
       "\u001b[1m Row \u001b[0m│\u001b[1m id    \u001b[0m\u001b[1m name    \u001b[0m\u001b[1m age   \u001b[0m\u001b[1m state  \u001b[0m\n",
       "     │\u001b[90m Int64 \u001b[0m\u001b[90m String  \u001b[0m\u001b[90m Int64 \u001b[0m\u001b[90m String \u001b[0m\n",
       "─────┼───────────────────────────────\n",
       "   1 │     1  Alan        35  FL\n",
       "   2 │     3  Cat         50  FL\n",
       "   3 │     4  Charlie     40  FL\n",
       "   4 │     6  Eve         35  FL\n",
       "⋮\n",
       "Last Group (1 row): state = \"Unknown\"\n",
       "\u001b[1m Row \u001b[0m│\u001b[1m id    \u001b[0m\u001b[1m name   \u001b[0m\u001b[1m age   \u001b[0m\u001b[1m state   \u001b[0m\n",
       "     │\u001b[90m Int64 \u001b[0m\u001b[90m String \u001b[0m\u001b[90m Int64 \u001b[0m\u001b[90m String  \u001b[0m\n",
       "─────┼───────────────────────────────\n",
       "   1 │     5  David      28  Unknown"
      ]
     },
     "metadata": {},
     "output_type": "display_data"
    }
   ],
   "source": [
    "groupby(result_df, :state)"
   ]
  },
  {
   "cell_type": "code",
   "execution_count": 34,
   "id": "d8f42aae-8328-426d-a231-e1b00af895cf",
   "metadata": {},
   "outputs": [
    {
     "name": "stdout",
     "output_type": "stream",
     "text": [
      "01SQLite.ipynb\n",
      "02SQLIte.ipynb\n",
      "Chinook.ipynb\n",
      "customer_data.sqlite\n",
      "my_database.db\n",
      "newCustomers.csv\n"
     ]
    },
    {
     "data": {
      "text/plain": [
       "Process(`\u001b[4mls\u001b[24m`, ProcessExited(0))"
      ]
     },
     "metadata": {},
     "output_type": "display_data"
    }
   ],
   "source": [
    "run(`ls`)"
   ]
  },
  {
   "cell_type": "markdown",
   "id": "426f5a14-3bab-4ce0-ad96-191eb8ed8895",
   "metadata": {},
   "source": [
    "# online store scenario"
   ]
  },
  {
   "cell_type": "code",
   "execution_count": 35,
   "id": "4d79e5a3-1ecd-4350-a344-b7839e2324f6",
   "metadata": {},
   "outputs": [
    {
     "data": {
      "text/plain": [
       "101"
      ]
     },
     "metadata": {},
     "output_type": "display_data"
    }
   ],
   "source": [
    "#create the 'customers' table\n",
    "SQLite.execute(db, \"\"\"\n",
    "CREATE TABLE IF NOT EXISTS customers (\n",
    "    customer_id INTEGER PRIMARY KEY,\n",
    "    name TEXT NOT NULL,\n",
    "    state TEXT NOT NULL\n",
    ")\n",
    "\"\"\")"
   ]
  },
  {
   "cell_type": "code",
   "execution_count": 37,
   "id": "ee53a047-7970-4d01-b46a-959c922242c6",
   "metadata": {},
   "outputs": [
    {
     "data": {
      "text/plain": [
       "101"
      ]
     },
     "metadata": {},
     "output_type": "display_data"
    }
   ],
   "source": [
    "#create the 'purchases' table\n",
    "SQLite.execute(db, \"\"\"\n",
    "CREATE TABLE IF NOT EXISTS purchases (\n",
    "    purchase_id INTEGER PRIMARY KEY,\n",
    "    customer_id INTEGER,\n",
    "    amount REAL,\n",
    "    FOREIGN KEY (customer_id) REFERENCES customers (customer_id)\n",
    ")\n",
    "\"\"\")"
   ]
  },
  {
   "cell_type": "code",
   "execution_count": 38,
   "id": "b2ef7c3b-0791-49ad-aaf3-5c6ff26ba79c",
   "metadata": {},
   "outputs": [
    {
     "data": {
      "text/plain": [
       "5-element Vector{Tuple{Int64, String, String}}:\n",
       " (1, \"Alice\", \"FL\")\n",
       " (2, \"Bob\", \"NY\")\n",
       " (3, \"Charlie\", \"FL\")\n",
       " (4, \"David\", \"CA\")\n",
       " (5, \"Eve\", \"TX\")"
      ]
     },
     "metadata": {},
     "output_type": "display_data"
    }
   ],
   "source": [
    "customers_data = [\n",
    "    (1, \"Alice\", \"FL\"),\n",
    "    (2, \"Bob\", \"NY\"),\n",
    "    (3, \"Charlie\", \"FL\"),\n",
    "    (4, \"David\", \"CA\"),\n",
    "    (5, \"Eve\", \"TX\")\n",
    "]"
   ]
  },
  {
   "cell_type": "code",
   "execution_count": 39,
   "id": "45b7bd00-d239-4a1f-a875-19ca6cc2d05d",
   "metadata": {},
   "outputs": [
    {
     "name": "stdout",
     "output_type": "stream",
     "text": [
      "(1, \"Alice\", \"FL\")\n",
      "(2, \"Bob\", \"NY\")\n",
      "(3, \"Charlie\", \"FL\")\n",
      "(4, \"David\", \"CA\")\n",
      "(5, \"Eve\", \"TX\")\n"
     ]
    }
   ],
   "source": [
    "for customer in customers_data\n",
    "    println(customer)\n",
    "    SQLite.execute(db, \"INSERT INTO customers (customer_id, name, state) VALUES (?, ?, ?)\", customer)\n",
    "end"
   ]
  },
  {
   "cell_type": "code",
   "execution_count": 40,
   "id": "544808ee-7c84-4618-84f7-a83dc9e0ad21",
   "metadata": {},
   "outputs": [
    {
     "data": {
      "text/html": [
       "<div><div style = \"float: left;\"><span>5×3 DataFrame</span></div><div style = \"clear: both;\"></div></div><div class = \"data-frame\" style = \"overflow-x: scroll;\"><table class = \"data-frame\" style = \"margin-bottom: 6px;\"><thead><tr class = \"header\"><th class = \"rowNumber\" style = \"font-weight: bold; text-align: right;\">Row</th><th style = \"text-align: left;\">customer_id</th><th style = \"text-align: left;\">name</th><th style = \"text-align: left;\">state</th></tr><tr class = \"subheader headerLastRow\"><th class = \"rowNumber\" style = \"font-weight: bold; text-align: right;\"></th><th title = \"Int64\" style = \"text-align: left;\">Int64</th><th title = \"String\" style = \"text-align: left;\">String</th><th title = \"String\" style = \"text-align: left;\">String</th></tr></thead><tbody><tr><td class = \"rowNumber\" style = \"font-weight: bold; text-align: right;\">1</td><td style = \"text-align: right;\">1</td><td style = \"text-align: left;\">Alice</td><td style = \"text-align: left;\">FL</td></tr><tr><td class = \"rowNumber\" style = \"font-weight: bold; text-align: right;\">2</td><td style = \"text-align: right;\">2</td><td style = \"text-align: left;\">Bob</td><td style = \"text-align: left;\">NY</td></tr><tr><td class = \"rowNumber\" style = \"font-weight: bold; text-align: right;\">3</td><td style = \"text-align: right;\">3</td><td style = \"text-align: left;\">Charlie</td><td style = \"text-align: left;\">FL</td></tr><tr><td class = \"rowNumber\" style = \"font-weight: bold; text-align: right;\">4</td><td style = \"text-align: right;\">4</td><td style = \"text-align: left;\">David</td><td style = \"text-align: left;\">CA</td></tr><tr><td class = \"rowNumber\" style = \"font-weight: bold; text-align: right;\">5</td><td style = \"text-align: right;\">5</td><td style = \"text-align: left;\">Eve</td><td style = \"text-align: left;\">TX</td></tr></tbody></table></div>"
      ],
      "text/latex": [
       "\\begin{tabular}{r|ccc}\n",
       "\t& customer\\_id & name & state\\\\\n",
       "\t\\hline\n",
       "\t& Int64 & String & String\\\\\n",
       "\t\\hline\n",
       "\t1 & 1 & Alice & FL \\\\\n",
       "\t2 & 2 & Bob & NY \\\\\n",
       "\t3 & 3 & Charlie & FL \\\\\n",
       "\t4 & 4 & David & CA \\\\\n",
       "\t5 & 5 & Eve & TX \\\\\n",
       "\\end{tabular}\n"
      ],
      "text/plain": [
       "\u001b[1m5×3 DataFrame\u001b[0m\n",
       "\u001b[1m Row \u001b[0m│\u001b[1m customer_id \u001b[0m\u001b[1m name    \u001b[0m\u001b[1m state  \u001b[0m\n",
       "     │\u001b[90m Int64       \u001b[0m\u001b[90m String  \u001b[0m\u001b[90m String \u001b[0m\n",
       "─────┼──────────────────────────────\n",
       "   1 │           1  Alice    FL\n",
       "   2 │           2  Bob      NY\n",
       "   3 │           3  Charlie  FL\n",
       "   4 │           4  David    CA\n",
       "   5 │           5  Eve      TX"
      ]
     },
     "metadata": {},
     "output_type": "display_data"
    }
   ],
   "source": [
    "DBInterface.execute(db, \"SELECT * FROM customers\") |> DataFrame"
   ]
  },
  {
   "cell_type": "code",
   "execution_count": 41,
   "id": "c9a38107-d055-4a2c-b089-9297544a67dd",
   "metadata": {},
   "outputs": [
    {
     "data": {
      "text/plain": [
       "7-element Vector{Tuple{Int64, Int64, Float64}}:\n",
       " (1, 2, 150.0)\n",
       " (2, 3, 200.0)\n",
       " (3, 3, 300.0)\n",
       " (4, 4, 50.0)\n",
       " (5, 4, 75.0)\n",
       " (6, 5, 100.0)\n",
       " (7, 5, 80.0)"
      ]
     },
     "metadata": {},
     "output_type": "display_data"
    }
   ],
   "source": [
    "# Insert data into 'purchases'\n",
    "purchases_data = [\n",
    "    (1, 2, 150.00),  # Bob has one purchase\n",
    "    (2, 3, 200.00),  # Charlie has two purchases\n",
    "    (3, 3, 300.00),\n",
    "    (4, 4, 50.00),   # David has two purchases\n",
    "    (5, 4, 75.00),\n",
    "    (6, 5, 100.00),  # Eve has two purchases\n",
    "    (7, 5, 80.00)\n",
    "]"
   ]
  },
  {
   "cell_type": "code",
   "execution_count": 42,
   "id": "08371ead-ce11-497d-8087-8ed6c73ee772",
   "metadata": {},
   "outputs": [],
   "source": [
    "for purchase in purchases_data\n",
    "    SQLite.execute(db, \"INSERT INTO purchases (purchase_id, customer_id, amount) VALUES (?, ?, ?)\", purchase)\n",
    "end"
   ]
  },
  {
   "cell_type": "code",
   "execution_count": 43,
   "id": "59e5f603-f5c0-432d-8455-5be0668967bf",
   "metadata": {},
   "outputs": [
    {
     "data": {
      "text/html": [
       "<div><div style = \"float: left;\"><span>7×3 DataFrame</span></div><div style = \"clear: both;\"></div></div><div class = \"data-frame\" style = \"overflow-x: scroll;\"><table class = \"data-frame\" style = \"margin-bottom: 6px;\"><thead><tr class = \"header\"><th class = \"rowNumber\" style = \"font-weight: bold; text-align: right;\">Row</th><th style = \"text-align: left;\">purchase_id</th><th style = \"text-align: left;\">customer_id</th><th style = \"text-align: left;\">amount</th></tr><tr class = \"subheader headerLastRow\"><th class = \"rowNumber\" style = \"font-weight: bold; text-align: right;\"></th><th title = \"Int64\" style = \"text-align: left;\">Int64</th><th title = \"Int64\" style = \"text-align: left;\">Int64</th><th title = \"Float64\" style = \"text-align: left;\">Float64</th></tr></thead><tbody><tr><td class = \"rowNumber\" style = \"font-weight: bold; text-align: right;\">1</td><td style = \"text-align: right;\">1</td><td style = \"text-align: right;\">2</td><td style = \"text-align: right;\">150.0</td></tr><tr><td class = \"rowNumber\" style = \"font-weight: bold; text-align: right;\">2</td><td style = \"text-align: right;\">2</td><td style = \"text-align: right;\">3</td><td style = \"text-align: right;\">200.0</td></tr><tr><td class = \"rowNumber\" style = \"font-weight: bold; text-align: right;\">3</td><td style = \"text-align: right;\">3</td><td style = \"text-align: right;\">3</td><td style = \"text-align: right;\">300.0</td></tr><tr><td class = \"rowNumber\" style = \"font-weight: bold; text-align: right;\">4</td><td style = \"text-align: right;\">4</td><td style = \"text-align: right;\">4</td><td style = \"text-align: right;\">50.0</td></tr><tr><td class = \"rowNumber\" style = \"font-weight: bold; text-align: right;\">5</td><td style = \"text-align: right;\">5</td><td style = \"text-align: right;\">4</td><td style = \"text-align: right;\">75.0</td></tr><tr><td class = \"rowNumber\" style = \"font-weight: bold; text-align: right;\">6</td><td style = \"text-align: right;\">6</td><td style = \"text-align: right;\">5</td><td style = \"text-align: right;\">100.0</td></tr><tr><td class = \"rowNumber\" style = \"font-weight: bold; text-align: right;\">7</td><td style = \"text-align: right;\">7</td><td style = \"text-align: right;\">5</td><td style = \"text-align: right;\">80.0</td></tr></tbody></table></div>"
      ],
      "text/latex": [
       "\\begin{tabular}{r|ccc}\n",
       "\t& purchase\\_id & customer\\_id & amount\\\\\n",
       "\t\\hline\n",
       "\t& Int64 & Int64 & Float64\\\\\n",
       "\t\\hline\n",
       "\t1 & 1 & 2 & 150.0 \\\\\n",
       "\t2 & 2 & 3 & 200.0 \\\\\n",
       "\t3 & 3 & 3 & 300.0 \\\\\n",
       "\t4 & 4 & 4 & 50.0 \\\\\n",
       "\t5 & 5 & 4 & 75.0 \\\\\n",
       "\t6 & 6 & 5 & 100.0 \\\\\n",
       "\t7 & 7 & 5 & 80.0 \\\\\n",
       "\\end{tabular}\n"
      ],
      "text/plain": [
       "\u001b[1m7×3 DataFrame\u001b[0m\n",
       "\u001b[1m Row \u001b[0m│\u001b[1m purchase_id \u001b[0m\u001b[1m customer_id \u001b[0m\u001b[1m amount  \u001b[0m\n",
       "     │\u001b[90m Int64       \u001b[0m\u001b[90m Int64       \u001b[0m\u001b[90m Float64 \u001b[0m\n",
       "─────┼───────────────────────────────────\n",
       "   1 │           1            2    150.0\n",
       "   2 │           2            3    200.0\n",
       "   3 │           3            3    300.0\n",
       "   4 │           4            4     50.0\n",
       "   5 │           5            4     75.0\n",
       "   6 │           6            5    100.0\n",
       "   7 │           7            5     80.0"
      ]
     },
     "metadata": {},
     "output_type": "display_data"
    }
   ],
   "source": [
    "DBInterface.execute(db, \"SELECT * FROM purchases\") |> DataFrame"
   ]
  },
  {
   "cell_type": "markdown",
   "id": "ee360cfc-60d4-41be-8374-a113be31d8bd",
   "metadata": {},
   "source": [
    "- Alice has no purchases.\n",
    "- Bob has a single purchase.\n",
    "- Charlie, David, and Eve have a couple of purchases each\n",
    "\n",
    "do LEFT JOIN"
   ]
  },
  {
   "cell_type": "code",
   "execution_count": 44,
   "id": "8ba833ab-1021-43ba-aeb5-95418e40ffc9",
   "metadata": {},
   "outputs": [
    {
     "data": {
      "text/html": [
       "<div><div style = \"float: left;\"><span>8×3 DataFrame</span></div><div style = \"clear: both;\"></div></div><div class = \"data-frame\" style = \"overflow-x: scroll;\"><table class = \"data-frame\" style = \"margin-bottom: 6px;\"><thead><tr class = \"header\"><th class = \"rowNumber\" style = \"font-weight: bold; text-align: right;\">Row</th><th style = \"text-align: left;\">name</th><th style = \"text-align: left;\">state</th><th style = \"text-align: left;\">amount</th></tr><tr class = \"subheader headerLastRow\"><th class = \"rowNumber\" style = \"font-weight: bold; text-align: right;\"></th><th title = \"String\" style = \"text-align: left;\">String</th><th title = \"String\" style = \"text-align: left;\">String</th><th title = \"Union{Missing, Float64}\" style = \"text-align: left;\">Float64?</th></tr></thead><tbody><tr><td class = \"rowNumber\" style = \"font-weight: bold; text-align: right;\">1</td><td style = \"text-align: left;\">Alice</td><td style = \"text-align: left;\">FL</td><td style = \"font-style: italic; text-align: right;\">missing</td></tr><tr><td class = \"rowNumber\" style = \"font-weight: bold; text-align: right;\">2</td><td style = \"text-align: left;\">Bob</td><td style = \"text-align: left;\">NY</td><td style = \"text-align: right;\">150.0</td></tr><tr><td class = \"rowNumber\" style = \"font-weight: bold; text-align: right;\">3</td><td style = \"text-align: left;\">Charlie</td><td style = \"text-align: left;\">FL</td><td style = \"text-align: right;\">200.0</td></tr><tr><td class = \"rowNumber\" style = \"font-weight: bold; text-align: right;\">4</td><td style = \"text-align: left;\">Charlie</td><td style = \"text-align: left;\">FL</td><td style = \"text-align: right;\">300.0</td></tr><tr><td class = \"rowNumber\" style = \"font-weight: bold; text-align: right;\">5</td><td style = \"text-align: left;\">David</td><td style = \"text-align: left;\">CA</td><td style = \"text-align: right;\">50.0</td></tr><tr><td class = \"rowNumber\" style = \"font-weight: bold; text-align: right;\">6</td><td style = \"text-align: left;\">David</td><td style = \"text-align: left;\">CA</td><td style = \"text-align: right;\">75.0</td></tr><tr><td class = \"rowNumber\" style = \"font-weight: bold; text-align: right;\">7</td><td style = \"text-align: left;\">Eve</td><td style = \"text-align: left;\">TX</td><td style = \"text-align: right;\">80.0</td></tr><tr><td class = \"rowNumber\" style = \"font-weight: bold; text-align: right;\">8</td><td style = \"text-align: left;\">Eve</td><td style = \"text-align: left;\">TX</td><td style = \"text-align: right;\">100.0</td></tr></tbody></table></div>"
      ],
      "text/latex": [
       "\\begin{tabular}{r|ccc}\n",
       "\t& name & state & amount\\\\\n",
       "\t\\hline\n",
       "\t& String & String & Float64?\\\\\n",
       "\t\\hline\n",
       "\t1 & Alice & FL & \\emph{missing} \\\\\n",
       "\t2 & Bob & NY & 150.0 \\\\\n",
       "\t3 & Charlie & FL & 200.0 \\\\\n",
       "\t4 & Charlie & FL & 300.0 \\\\\n",
       "\t5 & David & CA & 50.0 \\\\\n",
       "\t6 & David & CA & 75.0 \\\\\n",
       "\t7 & Eve & TX & 80.0 \\\\\n",
       "\t8 & Eve & TX & 100.0 \\\\\n",
       "\\end{tabular}\n"
      ],
      "text/plain": [
       "\u001b[1m8×3 DataFrame\u001b[0m\n",
       "\u001b[1m Row \u001b[0m│\u001b[1m name    \u001b[0m\u001b[1m state  \u001b[0m\u001b[1m amount    \u001b[0m\n",
       "     │\u001b[90m String  \u001b[0m\u001b[90m String \u001b[0m\u001b[90m Float64?  \u001b[0m\n",
       "─────┼────────────────────────────\n",
       "   1 │ Alice    FL     \u001b[90m missing   \u001b[0m\n",
       "   2 │ Bob      NY          150.0\n",
       "   3 │ Charlie  FL          200.0\n",
       "   4 │ Charlie  FL          300.0\n",
       "   5 │ David    CA           50.0\n",
       "   6 │ David    CA           75.0\n",
       "   7 │ Eve      TX           80.0\n",
       "   8 │ Eve      TX          100.0"
      ]
     },
     "metadata": {},
     "output_type": "display_data"
    }
   ],
   "source": [
    "joined_data = DBInterface.execute(db, \"\"\"\n",
    "SELECT customers.name, customers.state, purchases.amount\n",
    "FROM customers\n",
    "LEFT JOIN purchases ON customers.customer_id = purchases.customer_id\n",
    "\"\"\") |> DataFrame"
   ]
  },
  {
   "cell_type": "markdown",
   "id": "ea66ddf5-4201-41d2-adf5-a5076cf6777a",
   "metadata": {},
   "source": [
    "do an INNER JOIN"
   ]
  },
  {
   "cell_type": "code",
   "execution_count": 45,
   "id": "e2fce772-af8b-49fa-8844-9bc4b2e44965",
   "metadata": {},
   "outputs": [
    {
     "data": {
      "text/html": [
       "<div><div style = \"float: left;\"><span>7×3 DataFrame</span></div><div style = \"clear: both;\"></div></div><div class = \"data-frame\" style = \"overflow-x: scroll;\"><table class = \"data-frame\" style = \"margin-bottom: 6px;\"><thead><tr class = \"header\"><th class = \"rowNumber\" style = \"font-weight: bold; text-align: right;\">Row</th><th style = \"text-align: left;\">name</th><th style = \"text-align: left;\">state</th><th style = \"text-align: left;\">amount</th></tr><tr class = \"subheader headerLastRow\"><th class = \"rowNumber\" style = \"font-weight: bold; text-align: right;\"></th><th title = \"String\" style = \"text-align: left;\">String</th><th title = \"String\" style = \"text-align: left;\">String</th><th title = \"Float64\" style = \"text-align: left;\">Float64</th></tr></thead><tbody><tr><td class = \"rowNumber\" style = \"font-weight: bold; text-align: right;\">1</td><td style = \"text-align: left;\">Bob</td><td style = \"text-align: left;\">NY</td><td style = \"text-align: right;\">150.0</td></tr><tr><td class = \"rowNumber\" style = \"font-weight: bold; text-align: right;\">2</td><td style = \"text-align: left;\">Charlie</td><td style = \"text-align: left;\">FL</td><td style = \"text-align: right;\">200.0</td></tr><tr><td class = \"rowNumber\" style = \"font-weight: bold; text-align: right;\">3</td><td style = \"text-align: left;\">Charlie</td><td style = \"text-align: left;\">FL</td><td style = \"text-align: right;\">300.0</td></tr><tr><td class = \"rowNumber\" style = \"font-weight: bold; text-align: right;\">4</td><td style = \"text-align: left;\">David</td><td style = \"text-align: left;\">CA</td><td style = \"text-align: right;\">50.0</td></tr><tr><td class = \"rowNumber\" style = \"font-weight: bold; text-align: right;\">5</td><td style = \"text-align: left;\">David</td><td style = \"text-align: left;\">CA</td><td style = \"text-align: right;\">75.0</td></tr><tr><td class = \"rowNumber\" style = \"font-weight: bold; text-align: right;\">6</td><td style = \"text-align: left;\">Eve</td><td style = \"text-align: left;\">TX</td><td style = \"text-align: right;\">100.0</td></tr><tr><td class = \"rowNumber\" style = \"font-weight: bold; text-align: right;\">7</td><td style = \"text-align: left;\">Eve</td><td style = \"text-align: left;\">TX</td><td style = \"text-align: right;\">80.0</td></tr></tbody></table></div>"
      ],
      "text/latex": [
       "\\begin{tabular}{r|ccc}\n",
       "\t& name & state & amount\\\\\n",
       "\t\\hline\n",
       "\t& String & String & Float64\\\\\n",
       "\t\\hline\n",
       "\t1 & Bob & NY & 150.0 \\\\\n",
       "\t2 & Charlie & FL & 200.0 \\\\\n",
       "\t3 & Charlie & FL & 300.0 \\\\\n",
       "\t4 & David & CA & 50.0 \\\\\n",
       "\t5 & David & CA & 75.0 \\\\\n",
       "\t6 & Eve & TX & 100.0 \\\\\n",
       "\t7 & Eve & TX & 80.0 \\\\\n",
       "\\end{tabular}\n"
      ],
      "text/plain": [
       "\u001b[1m7×3 DataFrame\u001b[0m\n",
       "\u001b[1m Row \u001b[0m│\u001b[1m name    \u001b[0m\u001b[1m state  \u001b[0m\u001b[1m amount  \u001b[0m\n",
       "     │\u001b[90m String  \u001b[0m\u001b[90m String \u001b[0m\u001b[90m Float64 \u001b[0m\n",
       "─────┼──────────────────────────\n",
       "   1 │ Bob      NY        150.0\n",
       "   2 │ Charlie  FL        200.0\n",
       "   3 │ Charlie  FL        300.0\n",
       "   4 │ David    CA         50.0\n",
       "   5 │ David    CA         75.0\n",
       "   6 │ Eve      TX        100.0\n",
       "   7 │ Eve      TX         80.0"
      ]
     },
     "metadata": {},
     "output_type": "display_data"
    }
   ],
   "source": [
    "joined_data = DBInterface.execute(db, \"\"\"\n",
    "SELECT customers.name, customers.state, purchases.amount\n",
    "FROM customers\n",
    "JOIN purchases ON customers.customer_id = purchases.customer_id\n",
    "\"\"\") |> DataFrame"
   ]
  },
  {
   "cell_type": "code",
   "execution_count": 47,
   "id": "143ca036-8f2a-4cea-883e-61435f8dd64e",
   "metadata": {},
   "outputs": [
    {
     "data": {
      "text/plain": [
       "3-element Vector{SQLite.DBTable}:\n",
       " SQLite.DBTable(\"people\", Tables.Schema:\n",
       " :id     Union{Missing, Int64}\n",
       " :name   Union{Missing, String}\n",
       " :age    Union{Missing, Int64}\n",
       " :state  Union{Missing, String})\n",
       " SQLite.DBTable(\"customers\", Tables.Schema:\n",
       " :customer_id  Union{Missing, Int64}\n",
       " :name         Union{Missing, String}\n",
       " :state        Union{Missing, String})\n",
       " SQLite.DBTable(\"purchases\", Tables.Schema:\n",
       " :purchase_id  Union{Missing, Int64}\n",
       " :customer_id  Union{Missing, Int64}\n",
       " :amount       Union{Missing, Float64})"
      ]
     },
     "metadata": {},
     "output_type": "display_data"
    }
   ],
   "source": [
    "# list all the tables\n",
    "SQLite.tables(db)"
   ]
  },
  {
   "cell_type": "code",
   "execution_count": 48,
   "id": "49947e55-5889-46da-86d1-85141f113385",
   "metadata": {},
   "outputs": [
    {
     "name": "stdout",
     "output_type": "stream",
     "text": [
      "\u001b[1m4×3 DataFrame\u001b[0m\n",
      "\u001b[1m Row \u001b[0m│\u001b[1m customer_id \u001b[0m\u001b[1m name   \u001b[0m\u001b[1m state  \u001b[0m\n",
      "     │\u001b[90m Int64       \u001b[0m\u001b[90m String \u001b[0m\u001b[90m String \u001b[0m\n",
      "─────┼─────────────────────────────\n",
      "   1 │          41  Todd    FL\n",
      "   2 │          42  Simon   NY\n",
      "   3 │          43  Robert  FL\n",
      "   4 │          44  Tom     CA\n"
     ]
    }
   ],
   "source": [
    "customers_df = DataFrame(\n",
    "    customer_id = 41:44,\n",
    "    name = [\"Todd\", \"Simon\", \"Robert\", \"Tom\"],\n",
    "    state = [\"FL\", \"NY\", \"FL\", \"CA\"]\n",
    ")\n",
    "\n",
    "println(customers_df)"
   ]
  },
  {
   "cell_type": "code",
   "execution_count": 50,
   "id": "19967ed1-49c3-49f5-93db-335fa49aecff",
   "metadata": {},
   "outputs": [
    {
     "data": {
      "text/plain": [
       "\"newCustomers.csv\""
      ]
     },
     "metadata": {},
     "output_type": "display_data"
    }
   ],
   "source": [
    "#save the DataFrame to a CSV file\n",
    "CSV.write(\"newCustomers.csv\", customers_df)"
   ]
  },
  {
   "cell_type": "code",
   "execution_count": 54,
   "id": "88bf9aec-b01c-4754-ab11-05694c16ef8b",
   "metadata": {},
   "outputs": [
    {
     "data": {
      "text/html": [
       "<div><div style = \"float: left;\"><span>4×3 DataFrame</span></div><div style = \"clear: both;\"></div></div><div class = \"data-frame\" style = \"overflow-x: scroll;\"><table class = \"data-frame\" style = \"margin-bottom: 6px;\"><thead><tr class = \"header\"><th class = \"rowNumber\" style = \"font-weight: bold; text-align: right;\">Row</th><th style = \"text-align: left;\">customer_id</th><th style = \"text-align: left;\">name</th><th style = \"text-align: left;\">state</th></tr><tr class = \"subheader headerLastRow\"><th class = \"rowNumber\" style = \"font-weight: bold; text-align: right;\"></th><th title = \"Int64\" style = \"text-align: left;\">Int64</th><th title = \"String7\" style = \"text-align: left;\">String7</th><th title = \"String3\" style = \"text-align: left;\">String3</th></tr></thead><tbody><tr><td class = \"rowNumber\" style = \"font-weight: bold; text-align: right;\">1</td><td style = \"text-align: right;\">41</td><td style = \"text-align: left;\">Todd</td><td style = \"text-align: left;\">FL</td></tr><tr><td class = \"rowNumber\" style = \"font-weight: bold; text-align: right;\">2</td><td style = \"text-align: right;\">42</td><td style = \"text-align: left;\">Simon</td><td style = \"text-align: left;\">NY</td></tr><tr><td class = \"rowNumber\" style = \"font-weight: bold; text-align: right;\">3</td><td style = \"text-align: right;\">43</td><td style = \"text-align: left;\">Robert</td><td style = \"text-align: left;\">FL</td></tr><tr><td class = \"rowNumber\" style = \"font-weight: bold; text-align: right;\">4</td><td style = \"text-align: right;\">44</td><td style = \"text-align: left;\">Tom</td><td style = \"text-align: left;\">CA</td></tr></tbody></table></div>"
      ],
      "text/latex": [
       "\\begin{tabular}{r|ccc}\n",
       "\t& customer\\_id & name & state\\\\\n",
       "\t\\hline\n",
       "\t& Int64 & String7 & String3\\\\\n",
       "\t\\hline\n",
       "\t1 & 41 & Todd & FL \\\\\n",
       "\t2 & 42 & Simon & NY \\\\\n",
       "\t3 & 43 & Robert & FL \\\\\n",
       "\t4 & 44 & Tom & CA \\\\\n",
       "\\end{tabular}\n"
      ],
      "text/plain": [
       "\u001b[1m4×3 DataFrame\u001b[0m\n",
       "\u001b[1m Row \u001b[0m│\u001b[1m customer_id \u001b[0m\u001b[1m name    \u001b[0m\u001b[1m state   \u001b[0m\n",
       "     │\u001b[90m Int64       \u001b[0m\u001b[90m String7 \u001b[0m\u001b[90m String3 \u001b[0m\n",
       "─────┼───────────────────────────────\n",
       "   1 │          41  Todd     FL\n",
       "   2 │          42  Simon    NY\n",
       "   3 │          43  Robert   FL\n",
       "   4 │          44  Tom      CA"
      ]
     },
     "metadata": {},
     "output_type": "display_data"
    }
   ],
   "source": [
    "#read the CSV file as if it was new\n",
    "new_customers_df = CSV.read(\"./newCustomers.csv\", DataFrame)"
   ]
  },
  {
   "cell_type": "code",
   "execution_count": 55,
   "id": "5f19fb42",
   "metadata": {},
   "outputs": [],
   "source": []
  },
  {
   "cell_type": "code",
   "execution_count": 56,
   "id": "743da90a-c5ea-4413-affe-02caacdaf104",
   "metadata": {},
   "outputs": [],
   "source": [
    "# Insert the data from the DataFrame into the 'customers' table\n",
    "for row in eachrow(new_customers_df)\n",
    "    SQLite.execute(db, \"INSERT INTO customers (customer_id, name, state) VALUES (?, ?, ?)\", \n",
    "        (row.customer_id, row.name, row.state))\n",
    "end"
   ]
  },
  {
   "cell_type": "code",
   "execution_count": 57,
   "id": "87f28505-59cf-4395-bd46-baf241ded0da",
   "metadata": {},
   "outputs": [
    {
     "data": {
      "text/html": [
       "<div><div style = \"float: left;\"><span>9×3 DataFrame</span></div><div style = \"clear: both;\"></div></div><div class = \"data-frame\" style = \"overflow-x: scroll;\"><table class = \"data-frame\" style = \"margin-bottom: 6px;\"><thead><tr class = \"header\"><th class = \"rowNumber\" style = \"font-weight: bold; text-align: right;\">Row</th><th style = \"text-align: left;\">customer_id</th><th style = \"text-align: left;\">name</th><th style = \"text-align: left;\">state</th></tr><tr class = \"subheader headerLastRow\"><th class = \"rowNumber\" style = \"font-weight: bold; text-align: right;\"></th><th title = \"Int64\" style = \"text-align: left;\">Int64</th><th title = \"String\" style = \"text-align: left;\">String</th><th title = \"String\" style = \"text-align: left;\">String</th></tr></thead><tbody><tr><td class = \"rowNumber\" style = \"font-weight: bold; text-align: right;\">1</td><td style = \"text-align: right;\">1</td><td style = \"text-align: left;\">Alice</td><td style = \"text-align: left;\">FL</td></tr><tr><td class = \"rowNumber\" style = \"font-weight: bold; text-align: right;\">2</td><td style = \"text-align: right;\">2</td><td style = \"text-align: left;\">Bob</td><td style = \"text-align: left;\">NY</td></tr><tr><td class = \"rowNumber\" style = \"font-weight: bold; text-align: right;\">3</td><td style = \"text-align: right;\">3</td><td style = \"text-align: left;\">Charlie</td><td style = \"text-align: left;\">FL</td></tr><tr><td class = \"rowNumber\" style = \"font-weight: bold; text-align: right;\">4</td><td style = \"text-align: right;\">4</td><td style = \"text-align: left;\">David</td><td style = \"text-align: left;\">CA</td></tr><tr><td class = \"rowNumber\" style = \"font-weight: bold; text-align: right;\">5</td><td style = \"text-align: right;\">5</td><td style = \"text-align: left;\">Eve</td><td style = \"text-align: left;\">TX</td></tr><tr><td class = \"rowNumber\" style = \"font-weight: bold; text-align: right;\">6</td><td style = \"text-align: right;\">41</td><td style = \"text-align: left;\">Todd</td><td style = \"text-align: left;\">FL</td></tr><tr><td class = \"rowNumber\" style = \"font-weight: bold; text-align: right;\">7</td><td style = \"text-align: right;\">42</td><td style = \"text-align: left;\">Simon</td><td style = \"text-align: left;\">NY</td></tr><tr><td class = \"rowNumber\" style = \"font-weight: bold; text-align: right;\">8</td><td style = \"text-align: right;\">43</td><td style = \"text-align: left;\">Robert</td><td style = \"text-align: left;\">FL</td></tr><tr><td class = \"rowNumber\" style = \"font-weight: bold; text-align: right;\">9</td><td style = \"text-align: right;\">44</td><td style = \"text-align: left;\">Tom</td><td style = \"text-align: left;\">CA</td></tr></tbody></table></div>"
      ],
      "text/latex": [
       "\\begin{tabular}{r|ccc}\n",
       "\t& customer\\_id & name & state\\\\\n",
       "\t\\hline\n",
       "\t& Int64 & String & String\\\\\n",
       "\t\\hline\n",
       "\t1 & 1 & Alice & FL \\\\\n",
       "\t2 & 2 & Bob & NY \\\\\n",
       "\t3 & 3 & Charlie & FL \\\\\n",
       "\t4 & 4 & David & CA \\\\\n",
       "\t5 & 5 & Eve & TX \\\\\n",
       "\t6 & 41 & Todd & FL \\\\\n",
       "\t7 & 42 & Simon & NY \\\\\n",
       "\t8 & 43 & Robert & FL \\\\\n",
       "\t9 & 44 & Tom & CA \\\\\n",
       "\\end{tabular}\n"
      ],
      "text/plain": [
       "\u001b[1m9×3 DataFrame\u001b[0m\n",
       "\u001b[1m Row \u001b[0m│\u001b[1m customer_id \u001b[0m\u001b[1m name    \u001b[0m\u001b[1m state  \u001b[0m\n",
       "     │\u001b[90m Int64       \u001b[0m\u001b[90m String  \u001b[0m\u001b[90m String \u001b[0m\n",
       "─────┼──────────────────────────────\n",
       "   1 │           1  Alice    FL\n",
       "   2 │           2  Bob      NY\n",
       "   3 │           3  Charlie  FL\n",
       "   4 │           4  David    CA\n",
       "   5 │           5  Eve      TX\n",
       "   6 │          41  Todd     FL\n",
       "   7 │          42  Simon    NY\n",
       "   8 │          43  Robert   FL\n",
       "   9 │          44  Tom      CA"
      ]
     },
     "metadata": {},
     "output_type": "display_data"
    }
   ],
   "source": [
    "DBInterface.execute(db, \"SELECT * FROM customers\") |> DataFrame"
   ]
  },
  {
   "cell_type": "code",
   "execution_count": 58,
   "id": "a2831410",
   "metadata": {},
   "outputs": [
    {
     "data": {
      "text/html": [
       "<div><div style = \"float: left;\"><span>8×3 DataFrame</span></div><div style = \"clear: both;\"></div></div><div class = \"data-frame\" style = \"overflow-x: scroll;\"><table class = \"data-frame\" style = \"margin-bottom: 6px;\"><thead><tr class = \"header\"><th class = \"rowNumber\" style = \"font-weight: bold; text-align: right;\">Row</th><th style = \"text-align: left;\">customer_id</th><th style = \"text-align: left;\">name</th><th style = \"text-align: left;\">state</th></tr><tr class = \"subheader headerLastRow\"><th class = \"rowNumber\" style = \"font-weight: bold; text-align: right;\"></th><th title = \"Int64\" style = \"text-align: left;\">Int64</th><th title = \"String\" style = \"text-align: left;\">String</th><th title = \"String\" style = \"text-align: left;\">String</th></tr></thead><tbody><tr><td class = \"rowNumber\" style = \"font-weight: bold; text-align: right;\">1</td><td style = \"text-align: right;\">1</td><td style = \"text-align: left;\">Alice</td><td style = \"text-align: left;\">FL</td></tr><tr><td class = \"rowNumber\" style = \"font-weight: bold; text-align: right;\">2</td><td style = \"text-align: right;\">2</td><td style = \"text-align: left;\">Bob</td><td style = \"text-align: left;\">NY</td></tr><tr><td class = \"rowNumber\" style = \"font-weight: bold; text-align: right;\">3</td><td style = \"text-align: right;\">3</td><td style = \"text-align: left;\">Charlie</td><td style = \"text-align: left;\">FL</td></tr><tr><td class = \"rowNumber\" style = \"font-weight: bold; text-align: right;\">4</td><td style = \"text-align: right;\">4</td><td style = \"text-align: left;\">David</td><td style = \"text-align: left;\">CA</td></tr><tr><td class = \"rowNumber\" style = \"font-weight: bold; text-align: right;\">5</td><td style = \"text-align: right;\">5</td><td style = \"text-align: left;\">Eve</td><td style = \"text-align: left;\">TX</td></tr><tr><td class = \"rowNumber\" style = \"font-weight: bold; text-align: right;\">6</td><td style = \"text-align: right;\">41</td><td style = \"text-align: left;\">Todd</td><td style = \"text-align: left;\">FL</td></tr><tr><td class = \"rowNumber\" style = \"font-weight: bold; text-align: right;\">7</td><td style = \"text-align: right;\">42</td><td style = \"text-align: left;\">Simon</td><td style = \"text-align: left;\">NY</td></tr><tr><td class = \"rowNumber\" style = \"font-weight: bold; text-align: right;\">8</td><td style = \"text-align: right;\">44</td><td style = \"text-align: left;\">Tom</td><td style = \"text-align: left;\">CA</td></tr></tbody></table></div>"
      ],
      "text/latex": [
       "\\begin{tabular}{r|ccc}\n",
       "\t& customer\\_id & name & state\\\\\n",
       "\t\\hline\n",
       "\t& Int64 & String & String\\\\\n",
       "\t\\hline\n",
       "\t1 & 1 & Alice & FL \\\\\n",
       "\t2 & 2 & Bob & NY \\\\\n",
       "\t3 & 3 & Charlie & FL \\\\\n",
       "\t4 & 4 & David & CA \\\\\n",
       "\t5 & 5 & Eve & TX \\\\\n",
       "\t6 & 41 & Todd & FL \\\\\n",
       "\t7 & 42 & Simon & NY \\\\\n",
       "\t8 & 44 & Tom & CA \\\\\n",
       "\\end{tabular}\n"
      ],
      "text/plain": [
       "\u001b[1m8×3 DataFrame\u001b[0m\n",
       "\u001b[1m Row \u001b[0m│\u001b[1m customer_id \u001b[0m\u001b[1m name    \u001b[0m\u001b[1m state  \u001b[0m\n",
       "     │\u001b[90m Int64       \u001b[0m\u001b[90m String  \u001b[0m\u001b[90m String \u001b[0m\n",
       "─────┼──────────────────────────────\n",
       "   1 │           1  Alice    FL\n",
       "   2 │           2  Bob      NY\n",
       "   3 │           3  Charlie  FL\n",
       "   4 │           4  David    CA\n",
       "   5 │           5  Eve      TX\n",
       "   6 │          41  Todd     FL\n",
       "   7 │          42  Simon    NY\n",
       "   8 │          44  Tom      CA"
      ]
     },
     "metadata": {},
     "output_type": "display_data"
    }
   ],
   "source": [
    "DBInterface.execute(db, \"DELETE FROM customers WHERE name='Robert'\")\n",
    "\n",
    "DBInterface.execute(db, \"SELECT * FROM customers\") |> DataFrame"
   ]
  },
  {
   "cell_type": "code",
   "execution_count": 59,
   "id": "19255104",
   "metadata": {},
   "outputs": [
    {
     "data": {
      "text/html": [
       "<div><div style = \"float: left;\"><span>7×3 DataFrame</span></div><div style = \"clear: both;\"></div></div><div class = \"data-frame\" style = \"overflow-x: scroll;\"><table class = \"data-frame\" style = \"margin-bottom: 6px;\"><thead><tr class = \"header\"><th class = \"rowNumber\" style = \"font-weight: bold; text-align: right;\">Row</th><th style = \"text-align: left;\">purchase_id</th><th style = \"text-align: left;\">customer_id</th><th style = \"text-align: left;\">amount</th></tr><tr class = \"subheader headerLastRow\"><th class = \"rowNumber\" style = \"font-weight: bold; text-align: right;\"></th><th title = \"Int64\" style = \"text-align: left;\">Int64</th><th title = \"Int64\" style = \"text-align: left;\">Int64</th><th title = \"Float64\" style = \"text-align: left;\">Float64</th></tr></thead><tbody><tr><td class = \"rowNumber\" style = \"font-weight: bold; text-align: right;\">1</td><td style = \"text-align: right;\">1</td><td style = \"text-align: right;\">2</td><td style = \"text-align: right;\">150.0</td></tr><tr><td class = \"rowNumber\" style = \"font-weight: bold; text-align: right;\">2</td><td style = \"text-align: right;\">2</td><td style = \"text-align: right;\">3</td><td style = \"text-align: right;\">200.0</td></tr><tr><td class = \"rowNumber\" style = \"font-weight: bold; text-align: right;\">3</td><td style = \"text-align: right;\">3</td><td style = \"text-align: right;\">3</td><td style = \"text-align: right;\">300.0</td></tr><tr><td class = \"rowNumber\" style = \"font-weight: bold; text-align: right;\">4</td><td style = \"text-align: right;\">4</td><td style = \"text-align: right;\">4</td><td style = \"text-align: right;\">50.0</td></tr><tr><td class = \"rowNumber\" style = \"font-weight: bold; text-align: right;\">5</td><td style = \"text-align: right;\">5</td><td style = \"text-align: right;\">4</td><td style = \"text-align: right;\">75.0</td></tr><tr><td class = \"rowNumber\" style = \"font-weight: bold; text-align: right;\">6</td><td style = \"text-align: right;\">6</td><td style = \"text-align: right;\">5</td><td style = \"text-align: right;\">100.0</td></tr><tr><td class = \"rowNumber\" style = \"font-weight: bold; text-align: right;\">7</td><td style = \"text-align: right;\">7</td><td style = \"text-align: right;\">5</td><td style = \"text-align: right;\">80.0</td></tr></tbody></table></div>"
      ],
      "text/latex": [
       "\\begin{tabular}{r|ccc}\n",
       "\t& purchase\\_id & customer\\_id & amount\\\\\n",
       "\t\\hline\n",
       "\t& Int64 & Int64 & Float64\\\\\n",
       "\t\\hline\n",
       "\t1 & 1 & 2 & 150.0 \\\\\n",
       "\t2 & 2 & 3 & 200.0 \\\\\n",
       "\t3 & 3 & 3 & 300.0 \\\\\n",
       "\t4 & 4 & 4 & 50.0 \\\\\n",
       "\t5 & 5 & 4 & 75.0 \\\\\n",
       "\t6 & 6 & 5 & 100.0 \\\\\n",
       "\t7 & 7 & 5 & 80.0 \\\\\n",
       "\\end{tabular}\n"
      ],
      "text/plain": [
       "\u001b[1m7×3 DataFrame\u001b[0m\n",
       "\u001b[1m Row \u001b[0m│\u001b[1m purchase_id \u001b[0m\u001b[1m customer_id \u001b[0m\u001b[1m amount  \u001b[0m\n",
       "     │\u001b[90m Int64       \u001b[0m\u001b[90m Int64       \u001b[0m\u001b[90m Float64 \u001b[0m\n",
       "─────┼───────────────────────────────────\n",
       "   1 │           1            2    150.0\n",
       "   2 │           2            3    200.0\n",
       "   3 │           3            3    300.0\n",
       "   4 │           4            4     50.0\n",
       "   5 │           5            4     75.0\n",
       "   6 │           6            5    100.0\n",
       "   7 │           7            5     80.0"
      ]
     },
     "metadata": {},
     "output_type": "display_data"
    }
   ],
   "source": [
    "DBInterface.execute(db, \"SELECT * FROM purchases\") |> DataFrame"
   ]
  },
  {
   "cell_type": "code",
   "execution_count": 60,
   "id": "6c905bd3",
   "metadata": {},
   "outputs": [
    {
     "data": {
      "text/html": [
       "<div><div style = \"float: left;\"><span>4×3 DataFrame</span></div><div style = \"clear: both;\"></div></div><div class = \"data-frame\" style = \"overflow-x: scroll;\"><table class = \"data-frame\" style = \"margin-bottom: 6px;\"><thead><tr class = \"header\"><th class = \"rowNumber\" style = \"font-weight: bold; text-align: right;\">Row</th><th style = \"text-align: left;\">purchase_id</th><th style = \"text-align: left;\">customer_id</th><th style = \"text-align: left;\">amount</th></tr><tr class = \"subheader headerLastRow\"><th class = \"rowNumber\" style = \"font-weight: bold; text-align: right;\"></th><th title = \"Int64\" style = \"text-align: left;\">Int64</th><th title = \"Int64\" style = \"text-align: left;\">Int64</th><th title = \"Float64\" style = \"text-align: left;\">Float64</th></tr></thead><tbody><tr><td class = \"rowNumber\" style = \"font-weight: bold; text-align: right;\">1</td><td style = \"text-align: right;\">1</td><td style = \"text-align: right;\">2</td><td style = \"text-align: right;\">150.0</td></tr><tr><td class = \"rowNumber\" style = \"font-weight: bold; text-align: right;\">2</td><td style = \"text-align: right;\">2</td><td style = \"text-align: right;\">3</td><td style = \"text-align: right;\">200.0</td></tr><tr><td class = \"rowNumber\" style = \"font-weight: bold; text-align: right;\">3</td><td style = \"text-align: right;\">3</td><td style = \"text-align: right;\">3</td><td style = \"text-align: right;\">300.0</td></tr><tr><td class = \"rowNumber\" style = \"font-weight: bold; text-align: right;\">4</td><td style = \"text-align: right;\">6</td><td style = \"text-align: right;\">5</td><td style = \"text-align: right;\">100.0</td></tr></tbody></table></div>"
      ],
      "text/latex": [
       "\\begin{tabular}{r|ccc}\n",
       "\t& purchase\\_id & customer\\_id & amount\\\\\n",
       "\t\\hline\n",
       "\t& Int64 & Int64 & Float64\\\\\n",
       "\t\\hline\n",
       "\t1 & 1 & 2 & 150.0 \\\\\n",
       "\t2 & 2 & 3 & 200.0 \\\\\n",
       "\t3 & 3 & 3 & 300.0 \\\\\n",
       "\t4 & 6 & 5 & 100.0 \\\\\n",
       "\\end{tabular}\n"
      ],
      "text/plain": [
       "\u001b[1m4×3 DataFrame\u001b[0m\n",
       "\u001b[1m Row \u001b[0m│\u001b[1m purchase_id \u001b[0m\u001b[1m customer_id \u001b[0m\u001b[1m amount  \u001b[0m\n",
       "     │\u001b[90m Int64       \u001b[0m\u001b[90m Int64       \u001b[0m\u001b[90m Float64 \u001b[0m\n",
       "─────┼───────────────────────────────────\n",
       "   1 │           1            2    150.0\n",
       "   2 │           2            3    200.0\n",
       "   3 │           3            3    300.0\n",
       "   4 │           6            5    100.0"
      ]
     },
     "metadata": {},
     "output_type": "display_data"
    }
   ],
   "source": [
    "DBInterface.execute(db, \"DELETE FROM purchases WHERE amount < 100\") |> DataFrame\n",
    "\n",
    "DBInterface.execute(db, \"SELECT * FROM purchases\") |> DataFrame"
   ]
  },
  {
   "cell_type": "code",
   "execution_count": 61,
   "id": "6b81f5aa",
   "metadata": {},
   "outputs": [
    {
     "data": {
      "text/html": [
       "<div><div style = \"float: left;\"><span>5×3 DataFrame</span></div><div style = \"clear: both;\"></div></div><div class = \"data-frame\" style = \"overflow-x: scroll;\"><table class = \"data-frame\" style = \"margin-bottom: 6px;\"><thead><tr class = \"header\"><th class = \"rowNumber\" style = \"font-weight: bold; text-align: right;\">Row</th><th style = \"text-align: left;\">purchase_id</th><th style = \"text-align: left;\">customer_id</th><th style = \"text-align: left;\">amount</th></tr><tr class = \"subheader headerLastRow\"><th class = \"rowNumber\" style = \"font-weight: bold; text-align: right;\"></th><th title = \"Int64\" style = \"text-align: left;\">Int64</th><th title = \"Int64\" style = \"text-align: left;\">Int64</th><th title = \"Float64\" style = \"text-align: left;\">Float64</th></tr></thead><tbody><tr><td class = \"rowNumber\" style = \"font-weight: bold; text-align: right;\">1</td><td style = \"text-align: right;\">1</td><td style = \"text-align: right;\">2</td><td style = \"text-align: right;\">150.0</td></tr><tr><td class = \"rowNumber\" style = \"font-weight: bold; text-align: right;\">2</td><td style = \"text-align: right;\">2</td><td style = \"text-align: right;\">3</td><td style = \"text-align: right;\">200.0</td></tr><tr><td class = \"rowNumber\" style = \"font-weight: bold; text-align: right;\">3</td><td style = \"text-align: right;\">3</td><td style = \"text-align: right;\">3</td><td style = \"text-align: right;\">300.0</td></tr><tr><td class = \"rowNumber\" style = \"font-weight: bold; text-align: right;\">4</td><td style = \"text-align: right;\">6</td><td style = \"text-align: right;\">5</td><td style = \"text-align: right;\">100.0</td></tr><tr><td class = \"rowNumber\" style = \"font-weight: bold; text-align: right;\">5</td><td style = \"text-align: right;\">10</td><td style = \"text-align: right;\">1</td><td style = \"text-align: right;\">444.0</td></tr></tbody></table></div>"
      ],
      "text/latex": [
       "\\begin{tabular}{r|ccc}\n",
       "\t& purchase\\_id & customer\\_id & amount\\\\\n",
       "\t\\hline\n",
       "\t& Int64 & Int64 & Float64\\\\\n",
       "\t\\hline\n",
       "\t1 & 1 & 2 & 150.0 \\\\\n",
       "\t2 & 2 & 3 & 200.0 \\\\\n",
       "\t3 & 3 & 3 & 300.0 \\\\\n",
       "\t4 & 6 & 5 & 100.0 \\\\\n",
       "\t5 & 10 & 1 & 444.0 \\\\\n",
       "\\end{tabular}\n"
      ],
      "text/plain": [
       "\u001b[1m5×3 DataFrame\u001b[0m\n",
       "\u001b[1m Row \u001b[0m│\u001b[1m purchase_id \u001b[0m\u001b[1m customer_id \u001b[0m\u001b[1m amount  \u001b[0m\n",
       "     │\u001b[90m Int64       \u001b[0m\u001b[90m Int64       \u001b[0m\u001b[90m Float64 \u001b[0m\n",
       "─────┼───────────────────────────────────\n",
       "   1 │           1            2    150.0\n",
       "   2 │           2            3    200.0\n",
       "   3 │           3            3    300.0\n",
       "   4 │           6            5    100.0\n",
       "   5 │          10            1    444.0"
      ]
     },
     "metadata": {},
     "output_type": "display_data"
    }
   ],
   "source": [
    "DBInterface.execute(db, \"INSERT INTO purchases (purchase_id,customer_id,amount) VALUES (?, ?, ?)\", (10,1,444))\n",
    "\n",
    "DBInterface.execute(db, \"SELECT * FROM purchases\") |> DataFrame"
   ]
  },
  {
   "cell_type": "code",
   "execution_count": 67,
   "id": "23e4899e",
   "metadata": {},
   "outputs": [
    {
     "data": {
      "text/html": [
       "<div><div style = \"float: left;\"><span>6×3 DataFrame</span></div><div style = \"clear: both;\"></div></div><div class = \"data-frame\" style = \"overflow-x: scroll;\"><table class = \"data-frame\" style = \"margin-bottom: 6px;\"><thead><tr class = \"header\"><th class = \"rowNumber\" style = \"font-weight: bold; text-align: right;\">Row</th><th style = \"text-align: left;\">purchase_id</th><th style = \"text-align: left;\">customer_id</th><th style = \"text-align: left;\">amount</th></tr><tr class = \"subheader headerLastRow\"><th class = \"rowNumber\" style = \"font-weight: bold; text-align: right;\"></th><th title = \"Int64\" style = \"text-align: left;\">Int64</th><th title = \"Int64\" style = \"text-align: left;\">Int64</th><th title = \"Float64\" style = \"text-align: left;\">Float64</th></tr></thead><tbody><tr><td class = \"rowNumber\" style = \"font-weight: bold; text-align: right;\">1</td><td style = \"text-align: right;\">1</td><td style = \"text-align: right;\">2</td><td style = \"text-align: right;\">150.0</td></tr><tr><td class = \"rowNumber\" style = \"font-weight: bold; text-align: right;\">2</td><td style = \"text-align: right;\">2</td><td style = \"text-align: right;\">3</td><td style = \"text-align: right;\">200.0</td></tr><tr><td class = \"rowNumber\" style = \"font-weight: bold; text-align: right;\">3</td><td style = \"text-align: right;\">3</td><td style = \"text-align: right;\">3</td><td style = \"text-align: right;\">300.0</td></tr><tr><td class = \"rowNumber\" style = \"font-weight: bold; text-align: right;\">4</td><td style = \"text-align: right;\">6</td><td style = \"text-align: right;\">5</td><td style = \"text-align: right;\">100.0</td></tr><tr><td class = \"rowNumber\" style = \"font-weight: bold; text-align: right;\">5</td><td style = \"text-align: right;\">10</td><td style = \"text-align: right;\">1</td><td style = \"text-align: right;\">444.0</td></tr><tr><td class = \"rowNumber\" style = \"font-weight: bold; text-align: right;\">6</td><td style = \"text-align: right;\">11</td><td style = \"text-align: right;\">1</td><td style = \"text-align: right;\">555.0</td></tr></tbody></table></div>"
      ],
      "text/latex": [
       "\\begin{tabular}{r|ccc}\n",
       "\t& purchase\\_id & customer\\_id & amount\\\\\n",
       "\t\\hline\n",
       "\t& Int64 & Int64 & Float64\\\\\n",
       "\t\\hline\n",
       "\t1 & 1 & 2 & 150.0 \\\\\n",
       "\t2 & 2 & 3 & 200.0 \\\\\n",
       "\t3 & 3 & 3 & 300.0 \\\\\n",
       "\t4 & 6 & 5 & 100.0 \\\\\n",
       "\t5 & 10 & 1 & 444.0 \\\\\n",
       "\t6 & 11 & 1 & 555.0 \\\\\n",
       "\\end{tabular}\n"
      ],
      "text/plain": [
       "\u001b[1m6×3 DataFrame\u001b[0m\n",
       "\u001b[1m Row \u001b[0m│\u001b[1m purchase_id \u001b[0m\u001b[1m customer_id \u001b[0m\u001b[1m amount  \u001b[0m\n",
       "     │\u001b[90m Int64       \u001b[0m\u001b[90m Int64       \u001b[0m\u001b[90m Float64 \u001b[0m\n",
       "─────┼───────────────────────────────────\n",
       "   1 │           1            2    150.0\n",
       "   2 │           2            3    200.0\n",
       "   3 │           3            3    300.0\n",
       "   4 │           6            5    100.0\n",
       "   5 │          10            1    444.0\n",
       "   6 │          11            1    555.0"
      ]
     },
     "metadata": {},
     "output_type": "display_data"
    }
   ],
   "source": [
    "DBInterface.execute(db, \"SELECT * FROM purchases\") |> DataFrame"
   ]
  },
  {
   "cell_type": "code",
   "execution_count": 68,
   "id": "e1d40a41",
   "metadata": {},
   "outputs": [
    {
     "data": {
      "text/plain": [
       "3-element Vector{SQLite.Query{false}}:\n",
       " SQLite.Query{false}(SQLite.Stmt(SQLite.DB(\"my_database.db\"), Base.RefValue{Ptr{SQLite.C.sqlite3_stmt}}(Ptr{SQLite.C.sqlite3_stmt} @0x000000002f398238), Dict{Int64, Any}(2 => 1, 3 => 555, 1 => 112)), Base.RefValue{Int32}(101), Symbol[], Type[], Dict{Symbol, Int64}(), Base.RefValue{Int64}(0))\n",
       " SQLite.Query{false}(SQLite.Stmt(SQLite.DB(\"my_database.db\"), Base.RefValue{Ptr{SQLite.C.sqlite3_stmt}}(Ptr{SQLite.C.sqlite3_stmt} @0x000000002f3978d8), Dict{Int64, Any}(2 => 1, 3 => 666, 1 => 212)), Base.RefValue{Int32}(101), Symbol[], Type[], Dict{Symbol, Int64}(), Base.RefValue{Int64}(0))\n",
       " SQLite.Query{false}(SQLite.Stmt(SQLite.DB(\"my_database.db\"), Base.RefValue{Ptr{SQLite.C.sqlite3_stmt}}(Ptr{SQLite.C.sqlite3_stmt} @0x000000002f399048), Dict{Int64, Any}(2 => 1, 3 => 777, 1 => 213)), Base.RefValue{Int32}(101), Symbol[], Type[], Dict{Symbol, Int64}(), Base.RefValue{Int64}(0))"
      ]
     },
     "metadata": {},
     "output_type": "display_data"
    }
   ],
   "source": [
    "purchases = [(112,1,555), (212,1,666), (213,1,777)]\n",
    "\n",
    "[ DBInterface.execute(db, \"INSERT INTO purchases (purchase_id,customer_id,amount) VALUES (?, ?, ?)\", pp) for pp in purchases ]\n"
   ]
  },
  {
   "cell_type": "code",
   "execution_count": 69,
   "id": "82316f15",
   "metadata": {},
   "outputs": [
    {
     "data": {
      "text/plain": [
       "3-element Vector{SQLite.DBTable}:\n",
       " SQLite.DBTable(\"people\", Tables.Schema:\n",
       " :id     Union{Missing, Int64}\n",
       " :name   Union{Missing, String}\n",
       " :age    Union{Missing, Int64}\n",
       " :state  Union{Missing, String})\n",
       " SQLite.DBTable(\"customers\", Tables.Schema:\n",
       " :customer_id  Union{Missing, Int64}\n",
       " :name         Union{Missing, String}\n",
       " :state        Union{Missing, String})\n",
       " SQLite.DBTable(\"purchases\", Tables.Schema:\n",
       " :purchase_id  Union{Missing, Int64}\n",
       " :customer_id  Union{Missing, Int64}\n",
       " :amount       Union{Missing, Float64})"
      ]
     },
     "metadata": {},
     "output_type": "display_data"
    }
   ],
   "source": [
    "SQLite.tables(db)"
   ]
  },
  {
   "cell_type": "code",
   "execution_count": 70,
   "id": "34cc19d3",
   "metadata": {},
   "outputs": [
    {
     "data": {
      "text/plain": [
       "101"
      ]
     },
     "metadata": {},
     "output_type": "display_data"
    }
   ],
   "source": [
    "SQLite.drop!(db, \"people\")"
   ]
  },
  {
   "cell_type": "code",
   "execution_count": 71,
   "id": "7c56aa19",
   "metadata": {},
   "outputs": [
    {
     "data": {
      "text/plain": [
       "2-element Vector{SQLite.DBTable}:\n",
       " SQLite.DBTable(\"customers\", Tables.Schema:\n",
       " :customer_id  Union{Missing, Int64}\n",
       " :name         Union{Missing, String}\n",
       " :state        Union{Missing, String})\n",
       " SQLite.DBTable(\"purchases\", Tables.Schema:\n",
       " :purchase_id  Union{Missing, Int64}\n",
       " :customer_id  Union{Missing, Int64}\n",
       " :amount       Union{Missing, Float64})"
      ]
     },
     "metadata": {},
     "output_type": "display_data"
    }
   ],
   "source": [
    "SQLite.tables(db)"
   ]
  },
  {
   "cell_type": "code",
   "execution_count": 77,
   "id": "938a74f4-8f78-48a3-9d20-84e07bf42888",
   "metadata": {},
   "outputs": [
    {
     "name": "stdout",
     "output_type": "stream",
     "text": [
      "SQLite.DBTable(\"customers\", Tables.Schema:\n",
      " :customer_id  Union{Missing, Int64}\n",
      " :name         Union{Missing, String}\n",
      " :state        Union{Missing, String})\n",
      "SQLite.DBTable\n",
      "SQLite.DBTable(\"purchases\", Tables.Schema:\n",
      " :purchase_id  Union{Missing, Int64}\n",
      " :customer_id  Union{Missing, Int64}\n",
      " :amount       Union{Missing, Float64})\n",
      "SQLite.DBTable\n"
     ]
    }
   ],
   "source": [
    "for table in SQLite.tables(db)\n",
    "    println(table) \n",
    "\n",
    "    println( typeof(table))\n",
    "end"
   ]
  },
  {
   "cell_type": "code",
   "execution_count": 78,
   "id": "da9f831e",
   "metadata": {},
   "outputs": [
    {
     "data": {
      "text/plain": [
       "SQLite.DBTable(\"customers\", Tables.Schema:\n",
       " :customer_id  Union{Missing, Int64}\n",
       " :name         Union{Missing, String}\n",
       " :state        Union{Missing, String})"
      ]
     },
     "metadata": {},
     "output_type": "display_data"
    }
   ],
   "source": [
    "SQLite.tables(db)[1]"
   ]
  },
  {
   "cell_type": "code",
   "execution_count": 80,
   "id": "1543ac8a",
   "metadata": {},
   "outputs": [
    {
     "data": {
      "text/plain": [
       "(:name, :schema)"
      ]
     },
     "metadata": {},
     "output_type": "display_data"
    }
   ],
   "source": [
    "fieldnames( typeof( SQLite.tables(db)[1] ) )"
   ]
  },
  {
   "cell_type": "code",
   "execution_count": 81,
   "id": "33df759f",
   "metadata": {},
   "outputs": [
    {
     "data": {
      "text/plain": [
       "\"customers\""
      ]
     },
     "metadata": {},
     "output_type": "display_data"
    }
   ],
   "source": [
    "SQLite.tables(db)[1].name"
   ]
  },
  {
   "cell_type": "code",
   "execution_count": null,
   "id": "1914a214",
   "metadata": {},
   "outputs": [],
   "source": []
  },
  {
   "cell_type": "code",
   "execution_count": null,
   "id": "50713948",
   "metadata": {},
   "outputs": [],
   "source": []
  },
  {
   "cell_type": "code",
   "execution_count": null,
   "id": "59a1ae01",
   "metadata": {},
   "outputs": [],
   "source": []
  },
  {
   "cell_type": "code",
   "execution_count": 54,
   "id": "92aa3827-cef2-4a5b-8f2e-1027168caf6e",
   "metadata": {},
   "outputs": [
    {
     "data": {
      "text/plain": [
       "\"https://forecast.weather.gov/MapClick.php?CityName=Orlando&state=FL&site=MLB&textField1=28.5047&textField2=-81.3742&e=0\""
      ]
     },
     "execution_count": 54,
     "metadata": {},
     "output_type": "execute_result"
    }
   ],
   "source": [
    "urlstr = \"https://forecast.weather.gov/MapClick.php?CityName=Orlando&state=FL&site=MLB&textField1=28.5047&textField2=-81.3742&e=0\""
   ]
  },
  {
   "cell_type": "code",
   "execution_count": 55,
   "id": "ac7c0b31-f3e4-417f-8716-a34abed9020d",
   "metadata": {},
   "outputs": [
    {
     "data": {
      "text/plain": [
       "HTTP.Messages.Response:\n",
       "\"\"\"\n",
       "HTTP/1.1 200 OK\r\n",
       "Server: Apache\r\n",
       "X-NIDS-ServerID: www9.md\r\n",
       "X-UA-Compatible: IE=Edge\r\n",
       "Access-Control-Allow-Origin: *\r\n",
       "Content-Type: text/html; charset=UTF-8\r\n",
       "Vary: Accept-Encoding\r\n",
       "Content-Encoding: gzip\r\n",
       "Cache-Control: max-age=669\r\n",
       "Expires: Mon, 13 Nov 2023 22:02:56 GMT\r\n",
       "Date: Mon, 13 Nov 2023 21:51:47 GMT\r\n",
       "Content-Length: 11828\r\n",
       "Connection: keep-alive\r\n",
       "Strict-Transport-Security: max-age=31536000 ; includeSubDomains ; preload\r\n",
       "\r\n",
       "<!DOCTYPE html>\n",
       "<html class=\"no-js\">\n",
       "    <head>\n",
       "        <!-- Meta -->\n",
       "        <meta name=\"viewport\" content=\"width=device-width\">\n",
       "        <link rel=\"schema.DC\" href=\"http://purl.org/dc/elements/1.1/\" /><title>National Weather Service</title><meta name=\"DC.title\" content=\"National Weather Service\" /><meta name=\"DC.description\" content=\"NOAA National Weather Service National Weather Service\" /><meta name=\"DC.creator\" content=\"US Department of Commerce, NOAA, National Weather Service\" /><meta name=\"DC.date.created\" scheme=\"ISO8601\" content=\"\" /><meta name=\"DC.language\" scheme=\"DCTERMS.RFC1766\" content=\"EN-US\" /><meta name=\"DC.keywords\" content=\"weather, National Weather Service\" /><meta name=\"DC.publisher\" content=\"NOAA's National Weather Service\" /><meta name=\"DC.contributor\" content=\"National Weather Service\" /><meta name=\"DC.rights\" content=\"//www.weather.gov/disclaimer.php\" /><meta name=\"rating\" content=\"General\" /><meta name=\"robots\" content=\"index,follow\" />\n",
       "\n",
       "        <!-- Icons -->\n",
       "\n",
       "⋮\n",
       "71723-byte body\n",
       "\"\"\""
      ]
     },
     "execution_count": 55,
     "metadata": {},
     "output_type": "execute_result"
    }
   ],
   "source": [
    "response = HTTP.get(urlstr)"
   ]
  },
  {
   "cell_type": "code",
   "execution_count": 56,
   "id": "6f4cb514-1f56-427e-b3c8-be32b1548c60",
   "metadata": {},
   "outputs": [
    {
     "data": {
      "text/plain": [
       "\"HTTP/1.1 200 OK\\r\\nServer: Apache\\r\\nX-NIDS-ServerID: www9.md\\r\\nX-UA-Compatible: IE=Edge\\r\\nAccess-Control-Allow-Origin: *\\r\\nContent-Type: text/html; charset=UTF-8\\r\\nVary: Accept-Encoding\\r\\nContent-Encoding: gzip\\r\\nCache-Control: max-age=669\\r\\nExpires: Mon, 13 Nov 2023 22:02:56 GMT\" ⋯ 71617 bytes ⋯ \"\\\"https://www.weather.gov/about\\\">About Us</a></li>\\n                    <li><a href=\\\"https://www.weather.gov/careers\\\">Career Opportunities</a></li>\\n                </ul>\\n            </div>\\n        </div>\\n        \\n            </footer>\\n        </main>\\n    </body>\\n</html>\\n\""
      ]
     },
     "execution_count": 56,
     "metadata": {},
     "output_type": "execute_result"
    }
   ],
   "source": [
    "response = String( response )"
   ]
  },
  {
   "cell_type": "code",
   "execution_count": 57,
   "id": "351acc9e-5957-4f88-8fe4-e9b386701912",
   "metadata": {},
   "outputs": [
    {
     "data": {
      "text/plain": [
       "1-element Vector{HTMLNode}:\n",
       " HTMLElement{:p}:<p class=\"myforecast-current-lrg\">\n",
       "  72°F\n",
       "</p>\n",
       "\n"
      ]
     },
     "execution_count": 57,
     "metadata": {},
     "output_type": "execute_result"
    }
   ],
   "source": [
    "#parse the HTML data\n",
    "parsed_html = parsehtml(response)\n",
    "\n",
    "#Cascadia to select the element with the desired class\n",
    "selector = Selector(\".myforecast-current-lrg\")\n",
    "elements = eachmatch(selector, parsed_html.root)"
   ]
  },
  {
   "cell_type": "code",
   "execution_count": null,
   "id": "783de948-199f-44bb-86ea-2033eded636b",
   "metadata": {},
   "outputs": [],
   "source": []
  },
  {
   "cell_type": "code",
   "execution_count": 59,
   "id": "6ccbfeb9",
   "metadata": {},
   "outputs": [
    {
     "data": {
      "text/plain": [
       "\"72°F\""
      ]
     },
     "execution_count": 59,
     "metadata": {},
     "output_type": "execute_result"
    }
   ],
   "source": [
    "temperature_text = text(elements[1])"
   ]
  },
  {
   "cell_type": "code",
   "execution_count": null,
   "id": "24475f65",
   "metadata": {},
   "outputs": [],
   "source": []
  },
  {
   "cell_type": "code",
   "execution_count": null,
   "id": "9eb241d2",
   "metadata": {},
   "outputs": [],
   "source": []
  },
  {
   "cell_type": "code",
   "execution_count": null,
   "id": "93d29193",
   "metadata": {},
   "outputs": [],
   "source": []
  },
  {
   "cell_type": "code",
   "execution_count": null,
   "id": "51647ee0",
   "metadata": {},
   "outputs": [],
   "source": []
  },
  {
   "cell_type": "code",
   "execution_count": null,
   "id": "6ebe99ed",
   "metadata": {},
   "outputs": [],
   "source": []
  }
 ],
 "metadata": {
  "kernelspec": {
   "display_name": "Julia 1.11.1",
   "language": "julia",
   "name": "julia-1.11"
  },
  "language_info": {
   "file_extension": ".jl",
   "mimetype": "application/julia",
   "name": "julia",
   "version": "1.11.1"
  }
 },
 "nbformat": 4,
 "nbformat_minor": 5
}
