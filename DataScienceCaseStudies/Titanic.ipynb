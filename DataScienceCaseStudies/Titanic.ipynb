{
 "cells": [
  {
   "cell_type": "code",
   "execution_count": 173,
   "metadata": {},
   "outputs": [],
   "source": [
    "using CSV\n",
    "using DataFrames\n",
    "using GLM, Plots, Statistics\n",
    "using DecisionTree\n",
    "using XGBoost\n",
    "using RCall\n",
    "using SQLite"
   ]
  },
  {
   "cell_type": "code",
   "execution_count": null,
   "metadata": {},
   "outputs": [],
   "source": []
  },
  {
   "cell_type": "code",
   "execution_count": 3,
   "metadata": {},
   "outputs": [
    {
     "data": {
      "text/plain": [
       "891-element CSV.File:\n",
       " CSV.Row: (Survived = 0, Pclass = 3, Sex = String7(\"male\"), Age = 22.0, Fare = 7.25)\n",
       " CSV.Row: (Survived = 1, Pclass = 1, Sex = String7(\"female\"), Age = 38.0, Fare = 71.2833)\n",
       " CSV.Row: (Survived = 1, Pclass = 3, Sex = String7(\"female\"), Age = 26.0, Fare = 7.925)\n",
       " CSV.Row: (Survived = 1, Pclass = 1, Sex = String7(\"female\"), Age = 35.0, Fare = 53.1)\n",
       " CSV.Row: (Survived = 0, Pclass = 3, Sex = String7(\"male\"), Age = 35.0, Fare = 8.05)\n",
       " CSV.Row: (Survived = 0, Pclass = 3, Sex = String7(\"male\"), Age = missing, Fare = 8.4583)\n",
       " CSV.Row: (Survived = 0, Pclass = 1, Sex = String7(\"male\"), Age = 54.0, Fare = 51.8625)\n",
       " CSV.Row: (Survived = 0, Pclass = 3, Sex = String7(\"male\"), Age = 2.0, Fare = 21.075)\n",
       " CSV.Row: (Survived = 1, Pclass = 3, Sex = String7(\"female\"), Age = 27.0, Fare = 11.1333)\n",
       " CSV.Row: (Survived = 1, Pclass = 2, Sex = String7(\"female\"), Age = 14.0, Fare = 30.0708)\n",
       " CSV.Row: (Survived = 1, Pclass = 3, Sex = String7(\"female\"), Age = 4.0, Fare = 16.7)\n",
       " CSV.Row: (Survived = 1, Pclass = 1, Sex = String7(\"female\"), Age = 58.0, Fare = 26.55)\n",
       " CSV.Row: (Survived = 0, Pclass = 3, Sex = String7(\"male\"), Age = 20.0, Fare = 8.05)\n",
       " ⋮\n",
       " CSV.Row: (Survived = 1, Pclass = 1, Sex = String7(\"female\"), Age = 56.0, Fare = 83.1583)\n",
       " CSV.Row: (Survived = 1, Pclass = 2, Sex = String7(\"female\"), Age = 25.0, Fare = 26.0)\n",
       " CSV.Row: (Survived = 0, Pclass = 3, Sex = String7(\"male\"), Age = 33.0, Fare = 7.8958)\n",
       " CSV.Row: (Survived = 0, Pclass = 3, Sex = String7(\"female\"), Age = 22.0, Fare = 10.5167)\n",
       " CSV.Row: (Survived = 0, Pclass = 2, Sex = String7(\"male\"), Age = 28.0, Fare = 10.5)\n",
       " CSV.Row: (Survived = 0, Pclass = 3, Sex = String7(\"male\"), Age = 25.0, Fare = 7.05)\n",
       " CSV.Row: (Survived = 0, Pclass = 3, Sex = String7(\"female\"), Age = 39.0, Fare = 29.125)\n",
       " CSV.Row: (Survived = 0, Pclass = 2, Sex = String7(\"male\"), Age = 27.0, Fare = 13.0)\n",
       " CSV.Row: (Survived = 1, Pclass = 1, Sex = String7(\"female\"), Age = 19.0, Fare = 30.0)\n",
       " CSV.Row: (Survived = 0, Pclass = 3, Sex = String7(\"female\"), Age = missing, Fare = 23.45)\n",
       " CSV.Row: (Survived = 1, Pclass = 1, Sex = String7(\"male\"), Age = 26.0, Fare = 30.0)\n",
       " CSV.Row: (Survived = 0, Pclass = 3, Sex = String7(\"male\"), Age = 32.0, Fare = 7.75)"
      ]
     },
     "execution_count": 3,
     "metadata": {},
     "output_type": "execute_result"
    }
   ],
   "source": [
    "csv_titanic = CSV.File( \"titanic.csv\" )"
   ]
  },
  {
   "cell_type": "code",
   "execution_count": 4,
   "metadata": {},
   "outputs": [
    {
     "data": {
      "text/html": [
       "<div><div style = \"float: left;\"><span>891×5 DataFrame</span></div><div style = \"float: right;\"><span style = \"font-style: italic;\">866 rows omitted</span></div><div style = \"clear: both;\"></div></div><div class = \"data-frame\" style = \"overflow-x: scroll;\"><table class = \"data-frame\" style = \"margin-bottom: 6px;\"><thead><tr class = \"header\"><th class = \"rowNumber\" style = \"font-weight: bold; text-align: right;\">Row</th><th style = \"text-align: left;\">Survived</th><th style = \"text-align: left;\">Pclass</th><th style = \"text-align: left;\">Sex</th><th style = \"text-align: left;\">Age</th><th style = \"text-align: left;\">Fare</th></tr><tr class = \"subheader headerLastRow\"><th class = \"rowNumber\" style = \"font-weight: bold; text-align: right;\"></th><th title = \"Int64\" style = \"text-align: left;\">Int64</th><th title = \"Int64\" style = \"text-align: left;\">Int64</th><th title = \"String7\" style = \"text-align: left;\">String7</th><th title = \"Union{Missing, Float64}\" style = \"text-align: left;\">Float64?</th><th title = \"Float64\" style = \"text-align: left;\">Float64</th></tr></thead><tbody><tr><td class = \"rowNumber\" style = \"font-weight: bold; text-align: right;\">1</td><td style = \"text-align: right;\">0</td><td style = \"text-align: right;\">3</td><td style = \"text-align: left;\">male</td><td style = \"text-align: right;\">22.0</td><td style = \"text-align: right;\">7.25</td></tr><tr><td class = \"rowNumber\" style = \"font-weight: bold; text-align: right;\">2</td><td style = \"text-align: right;\">1</td><td style = \"text-align: right;\">1</td><td style = \"text-align: left;\">female</td><td style = \"text-align: right;\">38.0</td><td style = \"text-align: right;\">71.2833</td></tr><tr><td class = \"rowNumber\" style = \"font-weight: bold; text-align: right;\">3</td><td style = \"text-align: right;\">1</td><td style = \"text-align: right;\">3</td><td style = \"text-align: left;\">female</td><td style = \"text-align: right;\">26.0</td><td style = \"text-align: right;\">7.925</td></tr><tr><td class = \"rowNumber\" style = \"font-weight: bold; text-align: right;\">4</td><td style = \"text-align: right;\">1</td><td style = \"text-align: right;\">1</td><td style = \"text-align: left;\">female</td><td style = \"text-align: right;\">35.0</td><td style = \"text-align: right;\">53.1</td></tr><tr><td class = \"rowNumber\" style = \"font-weight: bold; text-align: right;\">5</td><td style = \"text-align: right;\">0</td><td style = \"text-align: right;\">3</td><td style = \"text-align: left;\">male</td><td style = \"text-align: right;\">35.0</td><td style = \"text-align: right;\">8.05</td></tr><tr><td class = \"rowNumber\" style = \"font-weight: bold; text-align: right;\">6</td><td style = \"text-align: right;\">0</td><td style = \"text-align: right;\">3</td><td style = \"text-align: left;\">male</td><td style = \"font-style: italic; text-align: right;\">missing</td><td style = \"text-align: right;\">8.4583</td></tr><tr><td class = \"rowNumber\" style = \"font-weight: bold; text-align: right;\">7</td><td style = \"text-align: right;\">0</td><td style = \"text-align: right;\">1</td><td style = \"text-align: left;\">male</td><td style = \"text-align: right;\">54.0</td><td style = \"text-align: right;\">51.8625</td></tr><tr><td class = \"rowNumber\" style = \"font-weight: bold; text-align: right;\">8</td><td style = \"text-align: right;\">0</td><td style = \"text-align: right;\">3</td><td style = \"text-align: left;\">male</td><td style = \"text-align: right;\">2.0</td><td style = \"text-align: right;\">21.075</td></tr><tr><td class = \"rowNumber\" style = \"font-weight: bold; text-align: right;\">9</td><td style = \"text-align: right;\">1</td><td style = \"text-align: right;\">3</td><td style = \"text-align: left;\">female</td><td style = \"text-align: right;\">27.0</td><td style = \"text-align: right;\">11.1333</td></tr><tr><td class = \"rowNumber\" style = \"font-weight: bold; text-align: right;\">10</td><td style = \"text-align: right;\">1</td><td style = \"text-align: right;\">2</td><td style = \"text-align: left;\">female</td><td style = \"text-align: right;\">14.0</td><td style = \"text-align: right;\">30.0708</td></tr><tr><td class = \"rowNumber\" style = \"font-weight: bold; text-align: right;\">11</td><td style = \"text-align: right;\">1</td><td style = \"text-align: right;\">3</td><td style = \"text-align: left;\">female</td><td style = \"text-align: right;\">4.0</td><td style = \"text-align: right;\">16.7</td></tr><tr><td class = \"rowNumber\" style = \"font-weight: bold; text-align: right;\">12</td><td style = \"text-align: right;\">1</td><td style = \"text-align: right;\">1</td><td style = \"text-align: left;\">female</td><td style = \"text-align: right;\">58.0</td><td style = \"text-align: right;\">26.55</td></tr><tr><td class = \"rowNumber\" style = \"font-weight: bold; text-align: right;\">13</td><td style = \"text-align: right;\">0</td><td style = \"text-align: right;\">3</td><td style = \"text-align: left;\">male</td><td style = \"text-align: right;\">20.0</td><td style = \"text-align: right;\">8.05</td></tr><tr><td style = \"text-align: right;\">&vellip;</td><td style = \"text-align: right;\">&vellip;</td><td style = \"text-align: right;\">&vellip;</td><td style = \"text-align: right;\">&vellip;</td><td style = \"text-align: right;\">&vellip;</td><td style = \"text-align: right;\">&vellip;</td></tr><tr><td class = \"rowNumber\" style = \"font-weight: bold; text-align: right;\">880</td><td style = \"text-align: right;\">1</td><td style = \"text-align: right;\">1</td><td style = \"text-align: left;\">female</td><td style = \"text-align: right;\">56.0</td><td style = \"text-align: right;\">83.1583</td></tr><tr><td class = \"rowNumber\" style = \"font-weight: bold; text-align: right;\">881</td><td style = \"text-align: right;\">1</td><td style = \"text-align: right;\">2</td><td style = \"text-align: left;\">female</td><td style = \"text-align: right;\">25.0</td><td style = \"text-align: right;\">26.0</td></tr><tr><td class = \"rowNumber\" style = \"font-weight: bold; text-align: right;\">882</td><td style = \"text-align: right;\">0</td><td style = \"text-align: right;\">3</td><td style = \"text-align: left;\">male</td><td style = \"text-align: right;\">33.0</td><td style = \"text-align: right;\">7.8958</td></tr><tr><td class = \"rowNumber\" style = \"font-weight: bold; text-align: right;\">883</td><td style = \"text-align: right;\">0</td><td style = \"text-align: right;\">3</td><td style = \"text-align: left;\">female</td><td style = \"text-align: right;\">22.0</td><td style = \"text-align: right;\">10.5167</td></tr><tr><td class = \"rowNumber\" style = \"font-weight: bold; text-align: right;\">884</td><td style = \"text-align: right;\">0</td><td style = \"text-align: right;\">2</td><td style = \"text-align: left;\">male</td><td style = \"font-style: italic; text-align: right;\">28.0</td><td style = \"text-align: right;\">10.5</td></tr><tr><td class = \"rowNumber\" style = \"font-weight: bold; text-align: right;\">885</td><td style = \"text-align: right;\">0</td><td style = \"text-align: right;\">3</td><td style = \"text-align: left;\">male</td><td style = \"text-align: right;\">25.0</td><td style = \"text-align: right;\">7.05</td></tr><tr><td class = \"rowNumber\" style = \"font-weight: bold; text-align: right;\">886</td><td style = \"text-align: right;\">0</td><td style = \"text-align: right;\">3</td><td style = \"text-align: left;\">female</td><td style = \"font-style: italic; text-align: right;\">39.0</td><td style = \"text-align: right;\">29.125</td></tr><tr><td class = \"rowNumber\" style = \"font-weight: bold; text-align: right;\">887</td><td style = \"text-align: right;\">0</td><td style = \"text-align: right;\">2</td><td style = \"text-align: left;\">male</td><td style = \"text-align: right;\">27.0</td><td style = \"text-align: right;\">13.0</td></tr><tr><td class = \"rowNumber\" style = \"font-weight: bold; text-align: right;\">888</td><td style = \"text-align: right;\">1</td><td style = \"text-align: right;\">1</td><td style = \"text-align: left;\">female</td><td style = \"text-align: right;\">19.0</td><td style = \"text-align: right;\">30.0</td></tr><tr><td class = \"rowNumber\" style = \"font-weight: bold; text-align: right;\">889</td><td style = \"text-align: right;\">0</td><td style = \"text-align: right;\">3</td><td style = \"text-align: left;\">female</td><td style = \"text-align: right;\">missing</td><td style = \"text-align: right;\">23.45</td></tr><tr><td class = \"rowNumber\" style = \"font-weight: bold; text-align: right;\">890</td><td style = \"text-align: right;\">1</td><td style = \"text-align: right;\">1</td><td style = \"text-align: left;\">male</td><td style = \"text-align: right;\">26.0</td><td style = \"text-align: right;\">30.0</td></tr><tr><td class = \"rowNumber\" style = \"font-weight: bold; text-align: right;\">891</td><td style = \"text-align: right;\">0</td><td style = \"text-align: right;\">3</td><td style = \"text-align: left;\">male</td><td style = \"text-align: right;\">32.0</td><td style = \"text-align: right;\">7.75</td></tr></tbody></table></div>"
      ],
      "text/latex": [
       "\\begin{tabular}{r|ccccc}\n",
       "\t& Survived & Pclass & Sex & Age & Fare\\\\\n",
       "\t\\hline\n",
       "\t& Int64 & Int64 & String7 & Float64? & Float64\\\\\n",
       "\t\\hline\n",
       "\t1 & 0 & 3 & male & 22.0 & 7.25 \\\\\n",
       "\t2 & 1 & 1 & female & 38.0 & 71.2833 \\\\\n",
       "\t3 & 1 & 3 & female & 26.0 & 7.925 \\\\\n",
       "\t4 & 1 & 1 & female & 35.0 & 53.1 \\\\\n",
       "\t5 & 0 & 3 & male & 35.0 & 8.05 \\\\\n",
       "\t6 & 0 & 3 & male & \\emph{missing} & 8.4583 \\\\\n",
       "\t7 & 0 & 1 & male & 54.0 & 51.8625 \\\\\n",
       "\t8 & 0 & 3 & male & 2.0 & 21.075 \\\\\n",
       "\t9 & 1 & 3 & female & 27.0 & 11.1333 \\\\\n",
       "\t10 & 1 & 2 & female & 14.0 & 30.0708 \\\\\n",
       "\t11 & 1 & 3 & female & 4.0 & 16.7 \\\\\n",
       "\t12 & 1 & 1 & female & 58.0 & 26.55 \\\\\n",
       "\t13 & 0 & 3 & male & 20.0 & 8.05 \\\\\n",
       "\t14 & 0 & 3 & male & 39.0 & 31.275 \\\\\n",
       "\t15 & 0 & 3 & female & 14.0 & 7.8542 \\\\\n",
       "\t16 & 1 & 2 & female & 55.0 & 16.0 \\\\\n",
       "\t17 & 0 & 3 & male & 2.0 & 29.125 \\\\\n",
       "\t18 & 1 & 2 & male & \\emph{missing} & 13.0 \\\\\n",
       "\t19 & 0 & 3 & female & 31.0 & 18.0 \\\\\n",
       "\t20 & 1 & 3 & female & \\emph{missing} & 7.225 \\\\\n",
       "\t21 & 0 & 2 & male & 35.0 & 26.0 \\\\\n",
       "\t22 & 1 & 2 & male & 34.0 & 13.0 \\\\\n",
       "\t23 & 1 & 3 & female & 15.0 & 8.0292 \\\\\n",
       "\t24 & 1 & 1 & male & 28.0 & 35.5 \\\\\n",
       "\t25 & 0 & 3 & female & 8.0 & 21.075 \\\\\n",
       "\t26 & 1 & 3 & female & 38.0 & 31.3875 \\\\\n",
       "\t27 & 0 & 3 & male & \\emph{missing} & 7.225 \\\\\n",
       "\t28 & 0 & 1 & male & 19.0 & 263.0 \\\\\n",
       "\t29 & 1 & 3 & female & \\emph{missing} & 7.8792 \\\\\n",
       "\t30 & 0 & 3 & male & \\emph{missing} & 7.8958 \\\\\n",
       "\t$\\dots$ & $\\dots$ & $\\dots$ & $\\dots$ & $\\dots$ & $\\dots$ \\\\\n",
       "\\end{tabular}\n"
      ],
      "text/plain": [
       "\u001b[1m891×5 DataFrame\u001b[0m\n",
       "\u001b[1m Row \u001b[0m│\u001b[1m Survived \u001b[0m\u001b[1m Pclass \u001b[0m\u001b[1m Sex     \u001b[0m\u001b[1m Age       \u001b[0m\u001b[1m Fare    \u001b[0m\n",
       "     │\u001b[90m Int64    \u001b[0m\u001b[90m Int64  \u001b[0m\u001b[90m String7 \u001b[0m\u001b[90m Float64?  \u001b[0m\u001b[90m Float64 \u001b[0m\n",
       "─────┼───────────────────────────────────────────────\n",
       "   1 │        0       3  male          22.0   7.25\n",
       "   2 │        1       1  female        38.0  71.2833\n",
       "   3 │        1       3  female        26.0   7.925\n",
       "   4 │        1       1  female        35.0  53.1\n",
       "   5 │        0       3  male          35.0   8.05\n",
       "   6 │        0       3  male    \u001b[90m missing   \u001b[0m  8.4583\n",
       "   7 │        0       1  male          54.0  51.8625\n",
       "   8 │        0       3  male           2.0  21.075\n",
       "   9 │        1       3  female        27.0  11.1333\n",
       "  10 │        1       2  female        14.0  30.0708\n",
       "  11 │        1       3  female         4.0  16.7\n",
       "  ⋮  │    ⋮        ⋮        ⋮         ⋮         ⋮\n",
       " 882 │        0       3  male          33.0   7.8958\n",
       " 883 │        0       3  female        22.0  10.5167\n",
       " 884 │        0       2  male          28.0  10.5\n",
       " 885 │        0       3  male          25.0   7.05\n",
       " 886 │        0       3  female        39.0  29.125\n",
       " 887 │        0       2  male          27.0  13.0\n",
       " 888 │        1       1  female        19.0  30.0\n",
       " 889 │        0       3  female  \u001b[90m missing   \u001b[0m 23.45\n",
       " 890 │        1       1  male          26.0  30.0\n",
       " 891 │        0       3  male          32.0   7.75\n",
       "\u001b[36m                                     870 rows omitted\u001b[0m"
      ]
     },
     "execution_count": 4,
     "metadata": {},
     "output_type": "execute_result"
    }
   ],
   "source": [
    "df_titanic = DataFrame( csv_titanic )"
   ]
  },
  {
   "cell_type": "code",
   "execution_count": 6,
   "metadata": {},
   "outputs": [
    {
     "data": {
      "text/plain": [
       "(891, 5)"
      ]
     },
     "execution_count": 6,
     "metadata": {},
     "output_type": "execute_result"
    }
   ],
   "source": [
    "size( df_titanic )"
   ]
  },
  {
   "cell_type": "code",
   "execution_count": 5,
   "metadata": {},
   "outputs": [
    {
     "data": {
      "text/plain": [
       "5-element Vector{String}:\n",
       " \"Survived\"\n",
       " \"Pclass\"\n",
       " \"Sex\"\n",
       " \"Age\"\n",
       " \"Fare\""
      ]
     },
     "execution_count": 5,
     "metadata": {},
     "output_type": "execute_result"
    }
   ],
   "source": [
    "names( df_titanic )"
   ]
  },
  {
   "cell_type": "code",
   "execution_count": 17,
   "metadata": {},
   "outputs": [
    {
     "data": {
      "text/html": [
       "<div><div style = \"float: left;\"><span>5×7 DataFrame</span></div><div style = \"clear: both;\"></div></div><div class = \"data-frame\" style = \"overflow-x: scroll;\"><table class = \"data-frame\" style = \"margin-bottom: 6px;\"><thead><tr class = \"header\"><th class = \"rowNumber\" style = \"font-weight: bold; text-align: right;\">Row</th><th style = \"text-align: left;\">variable</th><th style = \"text-align: left;\">mean</th><th style = \"text-align: left;\">min</th><th style = \"text-align: left;\">median</th><th style = \"text-align: left;\">max</th><th style = \"text-align: left;\">nmissing</th><th style = \"text-align: left;\">eltype</th></tr><tr class = \"subheader headerLastRow\"><th class = \"rowNumber\" style = \"font-weight: bold; text-align: right;\"></th><th title = \"Symbol\" style = \"text-align: left;\">Symbol</th><th title = \"Union{Nothing, Float64}\" style = \"text-align: left;\">Union…</th><th title = \"Any\" style = \"text-align: left;\">Any</th><th title = \"Union{Nothing, Float64}\" style = \"text-align: left;\">Union…</th><th title = \"Any\" style = \"text-align: left;\">Any</th><th title = \"Int64\" style = \"text-align: left;\">Int64</th><th title = \"Type\" style = \"text-align: left;\">Type</th></tr></thead><tbody><tr><td class = \"rowNumber\" style = \"font-weight: bold; text-align: right;\">1</td><td style = \"text-align: left;\">Survived</td><td style = \"text-align: left;\">0.383838</td><td style = \"text-align: left;\">0</td><td style = \"text-align: left;\">0.0</td><td style = \"text-align: left;\">1</td><td style = \"text-align: right;\">0</td><td style = \"text-align: left;\">Int64</td></tr><tr><td class = \"rowNumber\" style = \"font-weight: bold; text-align: right;\">2</td><td style = \"text-align: left;\">Pclass</td><td style = \"text-align: left;\">2.30864</td><td style = \"text-align: left;\">1</td><td style = \"text-align: left;\">3.0</td><td style = \"text-align: left;\">3</td><td style = \"text-align: right;\">0</td><td style = \"text-align: left;\">Int64</td></tr><tr><td class = \"rowNumber\" style = \"font-weight: bold; text-align: right;\">3</td><td style = \"text-align: left;\">Sex</td><td style = \"font-style: italic; text-align: left;\"></td><td style = \"text-align: left;\">female</td><td style = \"font-style: italic; text-align: left;\"></td><td style = \"text-align: left;\">male</td><td style = \"text-align: right;\">0</td><td style = \"text-align: left;\">String7</td></tr><tr><td class = \"rowNumber\" style = \"font-weight: bold; text-align: right;\">4</td><td style = \"text-align: left;\">Age</td><td style = \"text-align: left;\">29.6991</td><td style = \"text-align: left;\">0.42</td><td style = \"text-align: left;\">28.0</td><td style = \"text-align: left;\">80.0</td><td style = \"text-align: right;\">177</td><td style = \"text-align: left;\">Union{Missing, Float64}</td></tr><tr><td class = \"rowNumber\" style = \"font-weight: bold; text-align: right;\">5</td><td style = \"text-align: left;\">Fare</td><td style = \"text-align: left;\">32.2042</td><td style = \"text-align: left;\">0.0</td><td style = \"text-align: left;\">14.4542</td><td style = \"text-align: left;\">512.329</td><td style = \"text-align: right;\">0</td><td style = \"text-align: left;\">Float64</td></tr></tbody></table></div>"
      ],
      "text/latex": [
       "\\begin{tabular}{r|ccccccc}\n",
       "\t& variable & mean & min & median & max & nmissing & eltype\\\\\n",
       "\t\\hline\n",
       "\t& Symbol & Union… & Any & Union… & Any & Int64 & Type\\\\\n",
       "\t\\hline\n",
       "\t1 & Survived & 0.383838 & 0 & 0.0 & 1 & 0 & Int64 \\\\\n",
       "\t2 & Pclass & 2.30864 & 1 & 3.0 & 3 & 0 & Int64 \\\\\n",
       "\t3 & Sex &  & female &  & male & 0 & String7 \\\\\n",
       "\t4 & Age & 29.6991 & 0.42 & 28.0 & 80.0 & 177 & Union\\{Missing, Float64\\} \\\\\n",
       "\t5 & Fare & 32.2042 & 0.0 & 14.4542 & 512.329 & 0 & Float64 \\\\\n",
       "\\end{tabular}\n"
      ],
      "text/plain": [
       "\u001b[1m5×7 DataFrame\u001b[0m\n",
       "\u001b[1m Row \u001b[0m│\u001b[1m variable \u001b[0m\u001b[1m mean     \u001b[0m\u001b[1m min    \u001b[0m\u001b[1m median  \u001b[0m\u001b[1m max     \u001b[0m\u001b[1m nmissing \u001b[0m\u001b[1m eltype         \u001b[0m ⋯\n",
       "     │\u001b[90m Symbol   \u001b[0m\u001b[90m Union…   \u001b[0m\u001b[90m Any    \u001b[0m\u001b[90m Union…  \u001b[0m\u001b[90m Any     \u001b[0m\u001b[90m Int64    \u001b[0m\u001b[90m Type           \u001b[0m ⋯\n",
       "─────┼──────────────────────────────────────────────────────────────────────────\n",
       "   1 │ Survived  0.383838  0       0.0      1               0  Int64           ⋯\n",
       "   2 │ Pclass    2.30864   1       3.0      3               0  Int64\n",
       "   3 │ Sex      \u001b[90m          \u001b[0m female \u001b[90m         \u001b[0m male            0  String7\n",
       "   4 │ Age       29.6991   0.42    28.0     80.0          177  Union{Missing,\n",
       "   5 │ Fare      32.2042   0.0     14.4542  512.329         0  Float64         ⋯\n",
       "\u001b[36m                                                                1 column omitted\u001b[0m"
      ]
     },
     "execution_count": 17,
     "metadata": {},
     "output_type": "execute_result"
    }
   ],
   "source": [
    "describe(df_titanic)"
   ]
  },
  {
   "cell_type": "code",
   "execution_count": 7,
   "metadata": {},
   "outputs": [
    {
     "data": {
      "text/html": [
       "<div><div style = \"float: left;\"><span>4×5 DataFrame</span></div><div style = \"clear: both;\"></div></div><div class = \"data-frame\" style = \"overflow-x: scroll;\"><table class = \"data-frame\" style = \"margin-bottom: 6px;\"><thead><tr class = \"header\"><th class = \"rowNumber\" style = \"font-weight: bold; text-align: right;\">Row</th><th style = \"text-align: left;\">Survived</th><th style = \"text-align: left;\">Pclass</th><th style = \"text-align: left;\">Sex</th><th style = \"text-align: left;\">Age</th><th style = \"text-align: left;\">Fare</th></tr><tr class = \"subheader headerLastRow\"><th class = \"rowNumber\" style = \"font-weight: bold; text-align: right;\"></th><th title = \"Int64\" style = \"text-align: left;\">Int64</th><th title = \"Int64\" style = \"text-align: left;\">Int64</th><th title = \"String7\" style = \"text-align: left;\">String7</th><th title = \"Union{Missing, Float64}\" style = \"text-align: left;\">Float64?</th><th title = \"Float64\" style = \"text-align: left;\">Float64</th></tr></thead><tbody><tr><td class = \"rowNumber\" style = \"font-weight: bold; text-align: right;\">1</td><td style = \"text-align: right;\">0</td><td style = \"text-align: right;\">3</td><td style = \"text-align: left;\">male</td><td style = \"text-align: right;\">22.0</td><td style = \"text-align: right;\">7.25</td></tr><tr><td class = \"rowNumber\" style = \"font-weight: bold; text-align: right;\">2</td><td style = \"text-align: right;\">1</td><td style = \"text-align: right;\">1</td><td style = \"text-align: left;\">female</td><td style = \"text-align: right;\">38.0</td><td style = \"text-align: right;\">71.2833</td></tr><tr><td class = \"rowNumber\" style = \"font-weight: bold; text-align: right;\">3</td><td style = \"text-align: right;\">1</td><td style = \"text-align: right;\">3</td><td style = \"text-align: left;\">female</td><td style = \"text-align: right;\">26.0</td><td style = \"text-align: right;\">7.925</td></tr><tr><td class = \"rowNumber\" style = \"font-weight: bold; text-align: right;\">4</td><td style = \"text-align: right;\">1</td><td style = \"text-align: right;\">1</td><td style = \"text-align: left;\">female</td><td style = \"text-align: right;\">35.0</td><td style = \"text-align: right;\">53.1</td></tr></tbody></table></div>"
      ],
      "text/latex": [
       "\\begin{tabular}{r|ccccc}\n",
       "\t& Survived & Pclass & Sex & Age & Fare\\\\\n",
       "\t\\hline\n",
       "\t& Int64 & Int64 & String7 & Float64? & Float64\\\\\n",
       "\t\\hline\n",
       "\t1 & 0 & 3 & male & 22.0 & 7.25 \\\\\n",
       "\t2 & 1 & 1 & female & 38.0 & 71.2833 \\\\\n",
       "\t3 & 1 & 3 & female & 26.0 & 7.925 \\\\\n",
       "\t4 & 1 & 1 & female & 35.0 & 53.1 \\\\\n",
       "\\end{tabular}\n"
      ],
      "text/plain": [
       "\u001b[1m4×5 DataFrame\u001b[0m\n",
       "\u001b[1m Row \u001b[0m│\u001b[1m Survived \u001b[0m\u001b[1m Pclass \u001b[0m\u001b[1m Sex     \u001b[0m\u001b[1m Age      \u001b[0m\u001b[1m Fare    \u001b[0m\n",
       "     │\u001b[90m Int64    \u001b[0m\u001b[90m Int64  \u001b[0m\u001b[90m String7 \u001b[0m\u001b[90m Float64? \u001b[0m\u001b[90m Float64 \u001b[0m\n",
       "─────┼──────────────────────────────────────────────\n",
       "   1 │        0       3  male         22.0   7.25\n",
       "   2 │        1       1  female       38.0  71.2833\n",
       "   3 │        1       3  female       26.0   7.925\n",
       "   4 │        1       1  female       35.0  53.1"
      ]
     },
     "execution_count": 7,
     "metadata": {},
     "output_type": "execute_result"
    }
   ],
   "source": [
    "df_titanic[1:4,:]"
   ]
  },
  {
   "cell_type": "code",
   "execution_count": 8,
   "metadata": {},
   "outputs": [
    {
     "data": {
      "text/html": [
       "<div><div style = \"float: left;\"><span>5×5 DataFrame</span></div><div style = \"clear: both;\"></div></div><div class = \"data-frame\" style = \"overflow-x: scroll;\"><table class = \"data-frame\" style = \"margin-bottom: 6px;\"><thead><tr class = \"header\"><th class = \"rowNumber\" style = \"font-weight: bold; text-align: right;\">Row</th><th style = \"text-align: left;\">Survived</th><th style = \"text-align: left;\">Pclass</th><th style = \"text-align: left;\">Sex</th><th style = \"text-align: left;\">Age</th><th style = \"text-align: left;\">Fare</th></tr><tr class = \"subheader headerLastRow\"><th class = \"rowNumber\" style = \"font-weight: bold; text-align: right;\"></th><th title = \"Int64\" style = \"text-align: left;\">Int64</th><th title = \"Int64\" style = \"text-align: left;\">Int64</th><th title = \"String7\" style = \"text-align: left;\">String7</th><th title = \"Union{Missing, Float64}\" style = \"text-align: left;\">Float64?</th><th title = \"Float64\" style = \"text-align: left;\">Float64</th></tr></thead><tbody><tr><td class = \"rowNumber\" style = \"font-weight: bold; text-align: right;\">1</td><td style = \"text-align: right;\">0</td><td style = \"text-align: right;\">2</td><td style = \"text-align: left;\">male</td><td style = \"text-align: right;\">27.0</td><td style = \"text-align: right;\">13.0</td></tr><tr><td class = \"rowNumber\" style = \"font-weight: bold; text-align: right;\">2</td><td style = \"text-align: right;\">1</td><td style = \"text-align: right;\">1</td><td style = \"text-align: left;\">female</td><td style = \"text-align: right;\">19.0</td><td style = \"text-align: right;\">30.0</td></tr><tr><td class = \"rowNumber\" style = \"font-weight: bold; text-align: right;\">3</td><td style = \"text-align: right;\">0</td><td style = \"text-align: right;\">3</td><td style = \"text-align: left;\">female</td><td style = \"font-style: italic; text-align: right;\">missing</td><td style = \"text-align: right;\">23.45</td></tr><tr><td class = \"rowNumber\" style = \"font-weight: bold; text-align: right;\">4</td><td style = \"text-align: right;\">1</td><td style = \"text-align: right;\">1</td><td style = \"text-align: left;\">male</td><td style = \"text-align: right;\">26.0</td><td style = \"text-align: right;\">30.0</td></tr><tr><td class = \"rowNumber\" style = \"font-weight: bold; text-align: right;\">5</td><td style = \"text-align: right;\">0</td><td style = \"text-align: right;\">3</td><td style = \"text-align: left;\">male</td><td style = \"text-align: right;\">32.0</td><td style = \"text-align: right;\">7.75</td></tr></tbody></table></div>"
      ],
      "text/latex": [
       "\\begin{tabular}{r|ccccc}\n",
       "\t& Survived & Pclass & Sex & Age & Fare\\\\\n",
       "\t\\hline\n",
       "\t& Int64 & Int64 & String7 & Float64? & Float64\\\\\n",
       "\t\\hline\n",
       "\t1 & 0 & 2 & male & 27.0 & 13.0 \\\\\n",
       "\t2 & 1 & 1 & female & 19.0 & 30.0 \\\\\n",
       "\t3 & 0 & 3 & female & \\emph{missing} & 23.45 \\\\\n",
       "\t4 & 1 & 1 & male & 26.0 & 30.0 \\\\\n",
       "\t5 & 0 & 3 & male & 32.0 & 7.75 \\\\\n",
       "\\end{tabular}\n"
      ],
      "text/plain": [
       "\u001b[1m5×5 DataFrame\u001b[0m\n",
       "\u001b[1m Row \u001b[0m│\u001b[1m Survived \u001b[0m\u001b[1m Pclass \u001b[0m\u001b[1m Sex     \u001b[0m\u001b[1m Age       \u001b[0m\u001b[1m Fare    \u001b[0m\n",
       "     │\u001b[90m Int64    \u001b[0m\u001b[90m Int64  \u001b[0m\u001b[90m String7 \u001b[0m\u001b[90m Float64?  \u001b[0m\u001b[90m Float64 \u001b[0m\n",
       "─────┼───────────────────────────────────────────────\n",
       "   1 │        0       2  male          27.0    13.0\n",
       "   2 │        1       1  female        19.0    30.0\n",
       "   3 │        0       3  female  \u001b[90m missing   \u001b[0m   23.45\n",
       "   4 │        1       1  male          26.0    30.0\n",
       "   5 │        0       3  male          32.0     7.75"
      ]
     },
     "execution_count": 8,
     "metadata": {},
     "output_type": "execute_result"
    }
   ],
   "source": [
    "df_titanic[end-4:end,:]"
   ]
  },
  {
   "cell_type": "code",
   "execution_count": 10,
   "metadata": {},
   "outputs": [
    {
     "data": {
      "text/html": [
       "<div><div style = \"float: left;\"><span>5×3 DataFrame</span></div><div style = \"clear: both;\"></div></div><div class = \"data-frame\" style = \"overflow-x: scroll;\"><table class = \"data-frame\" style = \"margin-bottom: 6px;\"><thead><tr class = \"header\"><th class = \"rowNumber\" style = \"font-weight: bold; text-align: right;\">Row</th><th style = \"text-align: left;\">Survived</th><th style = \"text-align: left;\">Pclass</th><th style = \"text-align: left;\">Fare</th></tr><tr class = \"subheader headerLastRow\"><th class = \"rowNumber\" style = \"font-weight: bold; text-align: right;\"></th><th title = \"Int64\" style = \"text-align: left;\">Int64</th><th title = \"Int64\" style = \"text-align: left;\">Int64</th><th title = \"Float64\" style = \"text-align: left;\">Float64</th></tr></thead><tbody><tr><td class = \"rowNumber\" style = \"font-weight: bold; text-align: right;\">1</td><td style = \"text-align: right;\">0</td><td style = \"text-align: right;\">2</td><td style = \"text-align: right;\">13.0</td></tr><tr><td class = \"rowNumber\" style = \"font-weight: bold; text-align: right;\">2</td><td style = \"text-align: right;\">1</td><td style = \"text-align: right;\">1</td><td style = \"text-align: right;\">30.0</td></tr><tr><td class = \"rowNumber\" style = \"font-weight: bold; text-align: right;\">3</td><td style = \"text-align: right;\">0</td><td style = \"text-align: right;\">3</td><td style = \"text-align: right;\">23.45</td></tr><tr><td class = \"rowNumber\" style = \"font-weight: bold; text-align: right;\">4</td><td style = \"text-align: right;\">1</td><td style = \"text-align: right;\">1</td><td style = \"text-align: right;\">30.0</td></tr><tr><td class = \"rowNumber\" style = \"font-weight: bold; text-align: right;\">5</td><td style = \"text-align: right;\">0</td><td style = \"text-align: right;\">3</td><td style = \"text-align: right;\">7.75</td></tr></tbody></table></div>"
      ],
      "text/latex": [
       "\\begin{tabular}{r|ccc}\n",
       "\t& Survived & Pclass & Fare\\\\\n",
       "\t\\hline\n",
       "\t& Int64 & Int64 & Float64\\\\\n",
       "\t\\hline\n",
       "\t1 & 0 & 2 & 13.0 \\\\\n",
       "\t2 & 1 & 1 & 30.0 \\\\\n",
       "\t3 & 0 & 3 & 23.45 \\\\\n",
       "\t4 & 1 & 1 & 30.0 \\\\\n",
       "\t5 & 0 & 3 & 7.75 \\\\\n",
       "\\end{tabular}\n"
      ],
      "text/plain": [
       "\u001b[1m5×3 DataFrame\u001b[0m\n",
       "\u001b[1m Row \u001b[0m│\u001b[1m Survived \u001b[0m\u001b[1m Pclass \u001b[0m\u001b[1m Fare    \u001b[0m\n",
       "     │\u001b[90m Int64    \u001b[0m\u001b[90m Int64  \u001b[0m\u001b[90m Float64 \u001b[0m\n",
       "─────┼───────────────────────────\n",
       "   1 │        0       2    13.0\n",
       "   2 │        1       1    30.0\n",
       "   3 │        0       3    23.45\n",
       "   4 │        1       1    30.0\n",
       "   5 │        0       3     7.75"
      ]
     },
     "execution_count": 10,
     "metadata": {},
     "output_type": "execute_result"
    }
   ],
   "source": [
    "df_titanic[ end-4:end , [1,2,5] ]"
   ]
  },
  {
   "cell_type": "code",
   "execution_count": 11,
   "metadata": {},
   "outputs": [
    {
     "data": {
      "text/plain": [
       "5-element Vector{Float64}:\n",
       " 13.0\n",
       " 30.0\n",
       " 23.45\n",
       " 30.0\n",
       "  7.75"
      ]
     },
     "execution_count": 11,
     "metadata": {},
     "output_type": "execute_result"
    }
   ],
   "source": [
    "df_titanic[ end-4:end , :Fare ]"
   ]
  },
  {
   "cell_type": "code",
   "execution_count": 12,
   "metadata": {},
   "outputs": [
    {
     "data": {
      "text/html": [
       "<div><div style = \"float: left;\"><span>5×2 DataFrame</span></div><div style = \"clear: both;\"></div></div><div class = \"data-frame\" style = \"overflow-x: scroll;\"><table class = \"data-frame\" style = \"margin-bottom: 6px;\"><thead><tr class = \"header\"><th class = \"rowNumber\" style = \"font-weight: bold; text-align: right;\">Row</th><th style = \"text-align: left;\">Fare</th><th style = \"text-align: left;\">Pclass</th></tr><tr class = \"subheader headerLastRow\"><th class = \"rowNumber\" style = \"font-weight: bold; text-align: right;\"></th><th title = \"Float64\" style = \"text-align: left;\">Float64</th><th title = \"Int64\" style = \"text-align: left;\">Int64</th></tr></thead><tbody><tr><td class = \"rowNumber\" style = \"font-weight: bold; text-align: right;\">1</td><td style = \"text-align: right;\">13.0</td><td style = \"text-align: right;\">2</td></tr><tr><td class = \"rowNumber\" style = \"font-weight: bold; text-align: right;\">2</td><td style = \"text-align: right;\">30.0</td><td style = \"text-align: right;\">1</td></tr><tr><td class = \"rowNumber\" style = \"font-weight: bold; text-align: right;\">3</td><td style = \"text-align: right;\">23.45</td><td style = \"text-align: right;\">3</td></tr><tr><td class = \"rowNumber\" style = \"font-weight: bold; text-align: right;\">4</td><td style = \"text-align: right;\">30.0</td><td style = \"text-align: right;\">1</td></tr><tr><td class = \"rowNumber\" style = \"font-weight: bold; text-align: right;\">5</td><td style = \"text-align: right;\">7.75</td><td style = \"text-align: right;\">3</td></tr></tbody></table></div>"
      ],
      "text/latex": [
       "\\begin{tabular}{r|cc}\n",
       "\t& Fare & Pclass\\\\\n",
       "\t\\hline\n",
       "\t& Float64 & Int64\\\\\n",
       "\t\\hline\n",
       "\t1 & 13.0 & 2 \\\\\n",
       "\t2 & 30.0 & 1 \\\\\n",
       "\t3 & 23.45 & 3 \\\\\n",
       "\t4 & 30.0 & 1 \\\\\n",
       "\t5 & 7.75 & 3 \\\\\n",
       "\\end{tabular}\n"
      ],
      "text/plain": [
       "\u001b[1m5×2 DataFrame\u001b[0m\n",
       "\u001b[1m Row \u001b[0m│\u001b[1m Fare    \u001b[0m\u001b[1m Pclass \u001b[0m\n",
       "     │\u001b[90m Float64 \u001b[0m\u001b[90m Int64  \u001b[0m\n",
       "─────┼─────────────────\n",
       "   1 │   13.0        2\n",
       "   2 │   30.0        1\n",
       "   3 │   23.45       3\n",
       "   4 │   30.0        1\n",
       "   5 │    7.75       3"
      ]
     },
     "execution_count": 12,
     "metadata": {},
     "output_type": "execute_result"
    }
   ],
   "source": [
    "df_titanic[ end-4:end , [:Fare,:Pclass] ]"
   ]
  },
  {
   "cell_type": "code",
   "execution_count": 14,
   "metadata": {},
   "outputs": [
    {
     "data": {
      "text/html": [
       "<div><div style = \"float: left;\"><span>5×2 DataFrame</span></div><div style = \"clear: both;\"></div></div><div class = \"data-frame\" style = \"overflow-x: scroll;\"><table class = \"data-frame\" style = \"margin-bottom: 6px;\"><thead><tr class = \"header\"><th class = \"rowNumber\" style = \"font-weight: bold; text-align: right;\">Row</th><th style = \"text-align: left;\">Fare</th><th style = \"text-align: left;\">Pclass</th></tr><tr class = \"subheader headerLastRow\"><th class = \"rowNumber\" style = \"font-weight: bold; text-align: right;\"></th><th title = \"Float64\" style = \"text-align: left;\">Float64</th><th title = \"Int64\" style = \"text-align: left;\">Int64</th></tr></thead><tbody><tr><td class = \"rowNumber\" style = \"font-weight: bold; text-align: right;\">1</td><td style = \"text-align: right;\">13.0</td><td style = \"text-align: right;\">2</td></tr><tr><td class = \"rowNumber\" style = \"font-weight: bold; text-align: right;\">2</td><td style = \"text-align: right;\">30.0</td><td style = \"text-align: right;\">1</td></tr><tr><td class = \"rowNumber\" style = \"font-weight: bold; text-align: right;\">3</td><td style = \"text-align: right;\">23.45</td><td style = \"text-align: right;\">3</td></tr><tr><td class = \"rowNumber\" style = \"font-weight: bold; text-align: right;\">4</td><td style = \"text-align: right;\">30.0</td><td style = \"text-align: right;\">1</td></tr><tr><td class = \"rowNumber\" style = \"font-weight: bold; text-align: right;\">5</td><td style = \"text-align: right;\">7.75</td><td style = \"text-align: right;\">3</td></tr></tbody></table></div>"
      ],
      "text/latex": [
       "\\begin{tabular}{r|cc}\n",
       "\t& Fare & Pclass\\\\\n",
       "\t\\hline\n",
       "\t& Float64 & Int64\\\\\n",
       "\t\\hline\n",
       "\t1 & 13.0 & 2 \\\\\n",
       "\t2 & 30.0 & 1 \\\\\n",
       "\t3 & 23.45 & 3 \\\\\n",
       "\t4 & 30.0 & 1 \\\\\n",
       "\t5 & 7.75 & 3 \\\\\n",
       "\\end{tabular}\n"
      ],
      "text/plain": [
       "\u001b[1m5×2 DataFrame\u001b[0m\n",
       "\u001b[1m Row \u001b[0m│\u001b[1m Fare    \u001b[0m\u001b[1m Pclass \u001b[0m\n",
       "     │\u001b[90m Float64 \u001b[0m\u001b[90m Int64  \u001b[0m\n",
       "─────┼─────────────────\n",
       "   1 │   13.0        2\n",
       "   2 │   30.0        1\n",
       "   3 │   23.45       3\n",
       "   4 │   30.0        1\n",
       "   5 │    7.75       3"
      ]
     },
     "execution_count": 14,
     "metadata": {},
     "output_type": "execute_result"
    }
   ],
   "source": [
    "df_titanic[ end-4:end , [\"Fare\",\"Pclass\"] ]"
   ]
  },
  {
   "cell_type": "code",
   "execution_count": 15,
   "metadata": {},
   "outputs": [
    {
     "data": {
      "text/html": [
       "<div><div style = \"float: left;\"><span>5×2 DataFrame</span></div><div style = \"clear: both;\"></div></div><div class = \"data-frame\" style = \"overflow-x: scroll;\"><table class = \"data-frame\" style = \"margin-bottom: 6px;\"><thead><tr class = \"header\"><th class = \"rowNumber\" style = \"font-weight: bold; text-align: right;\">Row</th><th style = \"text-align: left;\">Fare</th><th style = \"text-align: left;\">Pclass</th></tr><tr class = \"subheader headerLastRow\"><th class = \"rowNumber\" style = \"font-weight: bold; text-align: right;\"></th><th title = \"Float64\" style = \"text-align: left;\">Float64</th><th title = \"Int64\" style = \"text-align: left;\">Int64</th></tr></thead><tbody><tr><td class = \"rowNumber\" style = \"font-weight: bold; text-align: right;\">1</td><td style = \"text-align: right;\">13.0</td><td style = \"text-align: right;\">2</td></tr><tr><td class = \"rowNumber\" style = \"font-weight: bold; text-align: right;\">2</td><td style = \"text-align: right;\">30.0</td><td style = \"text-align: right;\">1</td></tr><tr><td class = \"rowNumber\" style = \"font-weight: bold; text-align: right;\">3</td><td style = \"text-align: right;\">23.45</td><td style = \"text-align: right;\">3</td></tr><tr><td class = \"rowNumber\" style = \"font-weight: bold; text-align: right;\">4</td><td style = \"text-align: right;\">30.0</td><td style = \"text-align: right;\">1</td></tr><tr><td class = \"rowNumber\" style = \"font-weight: bold; text-align: right;\">5</td><td style = \"text-align: right;\">7.75</td><td style = \"text-align: right;\">3</td></tr></tbody></table></div>"
      ],
      "text/latex": [
       "\\begin{tabular}{r|cc}\n",
       "\t& Fare & Pclass\\\\\n",
       "\t\\hline\n",
       "\t& Float64 & Int64\\\\\n",
       "\t\\hline\n",
       "\t1 & 13.0 & 2 \\\\\n",
       "\t2 & 30.0 & 1 \\\\\n",
       "\t3 & 23.45 & 3 \\\\\n",
       "\t4 & 30.0 & 1 \\\\\n",
       "\t5 & 7.75 & 3 \\\\\n",
       "\\end{tabular}\n"
      ],
      "text/plain": [
       "\u001b[1m5×2 DataFrame\u001b[0m\n",
       "\u001b[1m Row \u001b[0m│\u001b[1m Fare    \u001b[0m\u001b[1m Pclass \u001b[0m\n",
       "     │\u001b[90m Float64 \u001b[0m\u001b[90m Int64  \u001b[0m\n",
       "─────┼─────────────────\n",
       "   1 │   13.0        2\n",
       "   2 │   30.0        1\n",
       "   3 │   23.45       3\n",
       "   4 │   30.0        1\n",
       "   5 │    7.75       3"
      ]
     },
     "execution_count": 15,
     "metadata": {},
     "output_type": "execute_result"
    }
   ],
   "source": [
    "df_titanic[ end-4:end , [Symbol(\"Fare\"),Symbol(\"Pclass\")] ]"
   ]
  },
  {
   "cell_type": "code",
   "execution_count": 18,
   "metadata": {},
   "outputs": [
    {
     "data": {
      "text/plain": [
       "891"
      ]
     },
     "execution_count": 18,
     "metadata": {},
     "output_type": "execute_result"
    }
   ],
   "source": [
    "nrow( df_titanic )"
   ]
  },
  {
   "cell_type": "code",
   "execution_count": 19,
   "metadata": {},
   "outputs": [
    {
     "data": {
      "text/plain": [
       "714"
      ]
     },
     "execution_count": 19,
     "metadata": {},
     "output_type": "execute_result"
    }
   ],
   "source": [
    "nrow( df_titanic[ completecases(df_titanic) , : ] )"
   ]
  },
  {
   "cell_type": "code",
   "execution_count": 23,
   "metadata": {},
   "outputs": [],
   "source": [
    "df_titanic = df_titanic[ completecases(df_titanic) , : ];"
   ]
  },
  {
   "cell_type": "code",
   "execution_count": 24,
   "metadata": {},
   "outputs": [
    {
     "data": {
      "text/plain": [
       "714"
      ]
     },
     "execution_count": 24,
     "metadata": {},
     "output_type": "execute_result"
    }
   ],
   "source": [
    "nrow( df_titanic )"
   ]
  },
  {
   "cell_type": "code",
   "execution_count": 25,
   "metadata": {},
   "outputs": [],
   "source": [
    "# also the use of 'dropmissing(df, :a)'"
   ]
  },
  {
   "cell_type": "code",
   "execution_count": null,
   "metadata": {},
   "outputs": [],
   "source": []
  },
  {
   "cell_type": "code",
   "execution_count": 26,
   "metadata": {},
   "outputs": [
    {
     "data": {
      "text/plain": [
       "StatsModels.TableRegressionModel{LinearModel{GLM.LmResp{Vector{Float64}}, GLM.DensePredChol{Float64, LinearAlgebra.CholeskyPivoted{Float64, Matrix{Float64}, Vector{Int64}}}}, Matrix{Float64}}\n",
       "\n",
       "Age ~ 1 + Fare\n",
       "\n",
       "Coefficients:\n",
       "─────────────────────────────────────────────────────────────────────────────\n",
       "                  Coef.  Std. Error      t  Pr(>|t|)    Lower 95%   Upper 95%\n",
       "─────────────────────────────────────────────────────────────────────────────\n",
       "(Intercept)  28.7842      0.647646   44.44    <1e-99  27.5127      30.0557\n",
       "Fare          0.0263708   0.0102399   2.58    0.0102   0.00626671   0.0464748\n",
       "─────────────────────────────────────────────────────────────────────────────"
      ]
     },
     "execution_count": 26,
     "metadata": {},
     "output_type": "execute_result"
    }
   ],
   "source": [
    "ols_titanic = lm( @formula( Age ~ Fare ) , df_titanic )"
   ]
  },
  {
   "cell_type": "code",
   "execution_count": 27,
   "metadata": {},
   "outputs": [
    {
     "data": {
      "text/plain": [
       "StatsModels.TableRegressionModel{LinearModel{GLM.LmResp{Vector{Float64}}, GLM.DensePredChol{Float64, LinearAlgebra.CholeskyPivoted{Float64, Matrix{Float64}, Vector{Int64}}}}, Matrix{Float64}}"
      ]
     },
     "execution_count": 27,
     "metadata": {},
     "output_type": "execute_result"
    }
   ],
   "source": [
    "typeof( ols_titanic )"
   ]
  },
  {
   "cell_type": "code",
   "execution_count": 28,
   "metadata": {},
   "outputs": [
    {
     "data": {
      "text/plain": [
       "(:model, :mf, :mm)"
      ]
     },
     "execution_count": 28,
     "metadata": {},
     "output_type": "execute_result"
    }
   ],
   "source": [
    "fieldnames( typeof( ols_titanic ) )"
   ]
  },
  {
   "cell_type": "code",
   "execution_count": 29,
   "metadata": {},
   "outputs": [
    {
     "data": {
      "text/plain": [
       "LinearModel{GLM.LmResp{Vector{Float64}}, GLM.DensePredChol{Float64, LinearAlgebra.CholeskyPivoted{Float64, Matrix{Float64}, Vector{Int64}}}}:\n",
       "\n",
       "Coefficients:\n",
       "────────────────────────────────────────────────────────────────────\n",
       "         Coef.  Std. Error      t  Pr(>|t|)    Lower 95%   Upper 95%\n",
       "────────────────────────────────────────────────────────────────────\n",
       "x1  28.7842      0.647646   44.44    <1e-99  27.5127      30.0557\n",
       "x2   0.0263708   0.0102399   2.58    0.0102   0.00626671   0.0464748\n",
       "────────────────────────────────────────────────────────────────────\n"
      ]
     },
     "execution_count": 29,
     "metadata": {},
     "output_type": "execute_result"
    }
   ],
   "source": [
    "ols_titanic.model"
   ]
  },
  {
   "cell_type": "code",
   "execution_count": 30,
   "metadata": {},
   "outputs": [
    {
     "data": {
      "text/plain": [
       "2-element Vector{Float64}:\n",
       " 0.6476455906910649\n",
       " 0.010239919595100752"
      ]
     },
     "execution_count": 30,
     "metadata": {},
     "output_type": "execute_result"
    }
   ],
   "source": [
    "stderror( ols_titanic )"
   ]
  },
  {
   "cell_type": "code",
   "execution_count": 31,
   "metadata": {},
   "outputs": [
    {
     "data": {
      "text/plain": [
       "714-element Vector{Float64}:\n",
       " 28.975384875894424\n",
       " 30.663991846538575\n",
       " 28.993185140837582\n",
       " 30.18448435388532\n",
       " 28.996481486197425\n",
       " 30.15185053482286\n",
       " 29.339960672693206\n",
       " 29.07779045938149\n",
       " 29.577186781397906\n",
       " 29.224588585098655\n",
       " 29.484340599454384\n",
       " 28.996481486197425\n",
       " 29.6089424540565\n",
       "  ⋮\n",
       " 28.99241511456152\n",
       " 30.977144655723787\n",
       " 29.469836679871072\n",
       " 28.99241511456152\n",
       " 29.06153024699045\n",
       " 29.061089855250376\n",
       " 28.970110723318673\n",
       " 29.55224531386718\n",
       " 29.127016762447262\n",
       " 29.575319731386088\n",
       " 29.575319731386088\n",
       " 28.988570257333798"
      ]
     },
     "execution_count": 31,
     "metadata": {},
     "output_type": "execute_result"
    }
   ],
   "source": [
    "predict( ols_titanic ) "
   ]
  },
  {
   "cell_type": "code",
   "execution_count": 34,
   "metadata": {},
   "outputs": [
    {
     "data": {
      "text/plain": [
       "0.009228809267447402"
      ]
     },
     "execution_count": 34,
     "metadata": {},
     "output_type": "execute_result"
    }
   ],
   "source": [
    "r2( ols_titanic )"
   ]
  },
  {
   "cell_type": "code",
   "execution_count": 35,
   "metadata": {},
   "outputs": [
    {
     "data": {
      "text/plain": [
       "3-element Vector{Union{Missing, Float64}}:\n",
       " 28.810567607902207\n",
       " 29.047904473811\n",
       " 31.421273132898907"
      ]
     },
     "execution_count": 35,
     "metadata": {},
     "output_type": "execute_result"
    }
   ],
   "source": [
    "predict( ols_titanic , DataFrame( Fare = [1,10,100] ) ) "
   ]
  },
  {
   "cell_type": "code",
   "execution_count": 42,
   "metadata": {},
   "outputs": [
    {
     "data": {
      "text/plain": [
       "4.995396358543424"
      ]
     },
     "execution_count": 42,
     "metadata": {},
     "output_type": "execute_result"
    }
   ],
   "source": [
    "diffs = df_titanic[!,\"Fare\"] .- predict( ols_titanic ) \n",
    "mean_diffs = mean(diffs)"
   ]
  },
  {
   "cell_type": "code",
   "execution_count": 49,
   "metadata": {},
   "outputs": [
    {
     "data": {
      "image/svg+xml": [
       "<?xml version=\"1.0\" encoding=\"utf-8\"?>\n",
       "<svg xmlns=\"http://www.w3.org/2000/svg\" xmlns:xlink=\"http://www.w3.org/1999/xlink\" width=\"400\" height=\"200\" viewBox=\"0 0 1600 800\">\n",
       "<defs>\n",
       "  <clipPath id=\"clip140\">\n",
       "    <rect x=\"0\" y=\"0\" width=\"1600\" height=\"800\"/>\n",
       "  </clipPath>\n",
       "</defs>\n",
       "<path clip-path=\"url(#clip140)\" d=\"M0 800 L1600 800 L1600 0 L0 0  Z\" fill=\"#ffffff\" fill-rule=\"evenodd\" fill-opacity=\"1\"/>\n",
       "<defs>\n",
       "  <clipPath id=\"clip141\">\n",
       "    <rect x=\"320\" y=\"0\" width=\"1121\" height=\"800\"/>\n",
       "  </clipPath>\n",
       "</defs>\n",
       "<path clip-path=\"url(#clip140)\" d=\"M162.857 703.088 L1552.76 703.088 L1552.76 108.352 L162.857 108.352  Z\" fill=\"#ffffff\" fill-rule=\"evenodd\" fill-opacity=\"1\"/>\n",
       "<defs>\n",
       "  <clipPath id=\"clip142\">\n",
       "    <rect x=\"162\" y=\"108\" width=\"1391\" height=\"596\"/>\n",
       "  </clipPath>\n",
       "</defs>\n",
       "<polyline clip-path=\"url(#clip142)\" style=\"stroke:#000000; stroke-linecap:round; stroke-linejoin:round; stroke-width:2; stroke-opacity:0.1; fill:none\" points=\"312.79,703.088 312.79,108.352 \"/>\n",
       "<polyline clip-path=\"url(#clip142)\" style=\"stroke:#000000; stroke-linecap:round; stroke-linejoin:round; stroke-width:2; stroke-opacity:0.1; fill:none\" points=\"557.741,703.088 557.741,108.352 \"/>\n",
       "<polyline clip-path=\"url(#clip142)\" style=\"stroke:#000000; stroke-linecap:round; stroke-linejoin:round; stroke-width:2; stroke-opacity:0.1; fill:none\" points=\"802.693,703.088 802.693,108.352 \"/>\n",
       "<polyline clip-path=\"url(#clip142)\" style=\"stroke:#000000; stroke-linecap:round; stroke-linejoin:round; stroke-width:2; stroke-opacity:0.1; fill:none\" points=\"1047.64,703.088 1047.64,108.352 \"/>\n",
       "<polyline clip-path=\"url(#clip142)\" style=\"stroke:#000000; stroke-linecap:round; stroke-linejoin:round; stroke-width:2; stroke-opacity:0.1; fill:none\" points=\"1292.6,703.088 1292.6,108.352 \"/>\n",
       "<polyline clip-path=\"url(#clip142)\" style=\"stroke:#000000; stroke-linecap:round; stroke-linejoin:round; stroke-width:2; stroke-opacity:0.1; fill:none\" points=\"1537.55,703.088 1537.55,108.352 \"/>\n",
       "<polyline clip-path=\"url(#clip140)\" style=\"stroke:#000000; stroke-linecap:round; stroke-linejoin:round; stroke-width:4; stroke-opacity:1; fill:none\" points=\"162.857,703.088 1552.76,703.088 \"/>\n",
       "<polyline clip-path=\"url(#clip140)\" style=\"stroke:#000000; stroke-linecap:round; stroke-linejoin:round; stroke-width:4; stroke-opacity:1; fill:none\" points=\"312.79,703.088 312.79,684.19 \"/>\n",
       "<polyline clip-path=\"url(#clip140)\" style=\"stroke:#000000; stroke-linecap:round; stroke-linejoin:round; stroke-width:4; stroke-opacity:1; fill:none\" points=\"557.741,703.088 557.741,684.19 \"/>\n",
       "<polyline clip-path=\"url(#clip140)\" style=\"stroke:#000000; stroke-linecap:round; stroke-linejoin:round; stroke-width:4; stroke-opacity:1; fill:none\" points=\"802.693,703.088 802.693,684.19 \"/>\n",
       "<polyline clip-path=\"url(#clip140)\" style=\"stroke:#000000; stroke-linecap:round; stroke-linejoin:round; stroke-width:4; stroke-opacity:1; fill:none\" points=\"1047.64,703.088 1047.64,684.19 \"/>\n",
       "<polyline clip-path=\"url(#clip140)\" style=\"stroke:#000000; stroke-linecap:round; stroke-linejoin:round; stroke-width:4; stroke-opacity:1; fill:none\" points=\"1292.6,703.088 1292.6,684.19 \"/>\n",
       "<polyline clip-path=\"url(#clip140)\" style=\"stroke:#000000; stroke-linecap:round; stroke-linejoin:round; stroke-width:4; stroke-opacity:1; fill:none\" points=\"1537.55,703.088 1537.55,684.19 \"/>\n",
       "<path clip-path=\"url(#clip140)\" d=\"M312.79 727.607 Q309.179 727.607 307.35 731.171 Q305.544 734.713 305.544 741.843 Q305.544 748.949 307.35 752.514 Q309.179 756.055 312.79 756.055 Q316.424 756.055 318.23 752.514 Q320.058 748.949 320.058 741.843 Q320.058 734.713 318.23 731.171 Q316.424 727.607 312.79 727.607 M312.79 723.903 Q318.6 723.903 321.655 728.509 Q324.734 733.093 324.734 741.843 Q324.734 750.569 321.655 755.176 Q318.6 759.759 312.79 759.759 Q306.98 759.759 303.901 755.176 Q300.845 750.569 300.845 741.843 Q300.845 733.093 303.901 728.509 Q306.98 723.903 312.79 723.903 Z\" fill=\"#000000\" fill-rule=\"nonzero\" fill-opacity=\"1\" /><path clip-path=\"url(#clip140)\" d=\"M517.348 755.153 L524.987 755.153 L524.987 728.787 L516.677 730.454 L516.677 726.195 L524.94 724.528 L529.616 724.528 L529.616 755.153 L537.255 755.153 L537.255 759.088 L517.348 759.088 L517.348 755.153 Z\" fill=\"#000000\" fill-rule=\"nonzero\" fill-opacity=\"1\" /><path clip-path=\"url(#clip140)\" d=\"M556.7 727.607 Q553.088 727.607 551.26 731.171 Q549.454 734.713 549.454 741.843 Q549.454 748.949 551.26 752.514 Q553.088 756.055 556.7 756.055 Q560.334 756.055 562.139 752.514 Q563.968 748.949 563.968 741.843 Q563.968 734.713 562.139 731.171 Q560.334 727.607 556.7 727.607 M556.7 723.903 Q562.51 723.903 565.565 728.509 Q568.644 733.093 568.644 741.843 Q568.644 750.569 565.565 755.176 Q562.51 759.759 556.7 759.759 Q550.889 759.759 547.811 755.176 Q544.755 750.569 544.755 741.843 Q544.755 733.093 547.811 728.509 Q550.889 723.903 556.7 723.903 Z\" fill=\"#000000\" fill-rule=\"nonzero\" fill-opacity=\"1\" /><path clip-path=\"url(#clip140)\" d=\"M586.861 727.607 Q583.25 727.607 581.422 731.171 Q579.616 734.713 579.616 741.843 Q579.616 748.949 581.422 752.514 Q583.25 756.055 586.861 756.055 Q590.496 756.055 592.301 752.514 Q594.13 748.949 594.13 741.843 Q594.13 734.713 592.301 731.171 Q590.496 727.607 586.861 727.607 M586.861 723.903 Q592.672 723.903 595.727 728.509 Q598.806 733.093 598.806 741.843 Q598.806 750.569 595.727 755.176 Q592.672 759.759 586.861 759.759 Q581.051 759.759 577.973 755.176 Q574.917 750.569 574.917 741.843 Q574.917 733.093 577.973 728.509 Q581.051 723.903 586.861 723.903 Z\" fill=\"#000000\" fill-rule=\"nonzero\" fill-opacity=\"1\" /><path clip-path=\"url(#clip140)\" d=\"M766.385 755.153 L782.704 755.153 L782.704 759.088 L760.76 759.088 L760.76 755.153 Q763.422 752.398 768.005 747.768 Q772.612 743.116 773.792 741.773 Q776.038 739.25 776.917 737.514 Q777.82 735.755 777.82 734.065 Q777.82 731.31 775.876 729.574 Q773.954 727.838 770.852 727.838 Q768.653 727.838 766.2 728.602 Q763.769 729.366 760.991 730.917 L760.991 726.195 Q763.815 725.06 766.269 724.482 Q768.723 723.903 770.76 723.903 Q776.13 723.903 779.325 726.588 Q782.519 729.273 782.519 733.764 Q782.519 735.894 781.709 737.815 Q780.922 739.713 778.815 742.306 Q778.237 742.977 775.135 746.194 Q772.033 749.389 766.385 755.153 Z\" fill=\"#000000\" fill-rule=\"nonzero\" fill-opacity=\"1\" /><path clip-path=\"url(#clip140)\" d=\"M802.519 727.607 Q798.908 727.607 797.079 731.171 Q795.274 734.713 795.274 741.843 Q795.274 748.949 797.079 752.514 Q798.908 756.055 802.519 756.055 Q806.153 756.055 807.959 752.514 Q809.787 748.949 809.787 741.843 Q809.787 734.713 807.959 731.171 Q806.153 727.607 802.519 727.607 M802.519 723.903 Q808.329 723.903 811.385 728.509 Q814.463 733.093 814.463 741.843 Q814.463 750.569 811.385 755.176 Q808.329 759.759 802.519 759.759 Q796.709 759.759 793.63 755.176 Q790.575 750.569 790.575 741.843 Q790.575 733.093 793.63 728.509 Q796.709 723.903 802.519 723.903 Z\" fill=\"#000000\" fill-rule=\"nonzero\" fill-opacity=\"1\" /><path clip-path=\"url(#clip140)\" d=\"M832.681 727.607 Q829.07 727.607 827.241 731.171 Q825.436 734.713 825.436 741.843 Q825.436 748.949 827.241 752.514 Q829.07 756.055 832.681 756.055 Q836.315 756.055 838.121 752.514 Q839.949 748.949 839.949 741.843 Q839.949 734.713 838.121 731.171 Q836.315 727.607 832.681 727.607 M832.681 723.903 Q838.491 723.903 841.547 728.509 Q844.625 733.093 844.625 741.843 Q844.625 750.569 841.547 755.176 Q838.491 759.759 832.681 759.759 Q826.871 759.759 823.792 755.176 Q820.736 750.569 820.736 741.843 Q820.736 733.093 823.792 728.509 Q826.871 723.903 832.681 723.903 Z\" fill=\"#000000\" fill-rule=\"nonzero\" fill-opacity=\"1\" /><path clip-path=\"url(#clip140)\" d=\"M1021.41 740.454 Q1024.76 741.171 1026.64 743.44 Q1028.54 745.708 1028.54 749.042 Q1028.54 754.157 1025.02 756.958 Q1021.5 759.759 1015.02 759.759 Q1012.84 759.759 1010.53 759.319 Q1008.23 758.903 1005.78 758.046 L1005.78 753.532 Q1007.73 754.667 1010.04 755.245 Q1012.35 755.824 1014.88 755.824 Q1019.28 755.824 1021.57 754.088 Q1023.88 752.352 1023.88 749.042 Q1023.88 745.986 1021.73 744.273 Q1019.6 742.537 1015.78 742.537 L1011.75 742.537 L1011.75 738.694 L1015.97 738.694 Q1019.42 738.694 1021.24 737.329 Q1023.07 735.94 1023.07 733.347 Q1023.07 730.685 1021.17 729.273 Q1019.3 727.838 1015.78 727.838 Q1013.86 727.838 1011.66 728.255 Q1009.46 728.671 1006.82 729.551 L1006.82 725.384 Q1009.48 724.644 1011.8 724.273 Q1014.14 723.903 1016.2 723.903 Q1021.52 723.903 1024.62 726.333 Q1027.73 728.741 1027.73 732.861 Q1027.73 735.732 1026.08 737.722 Q1024.44 739.69 1021.41 740.454 Z\" fill=\"#000000\" fill-rule=\"nonzero\" fill-opacity=\"1\" /><path clip-path=\"url(#clip140)\" d=\"M1047.4 727.607 Q1043.79 727.607 1041.96 731.171 Q1040.16 734.713 1040.16 741.843 Q1040.16 748.949 1041.96 752.514 Q1043.79 756.055 1047.4 756.055 Q1051.04 756.055 1052.84 752.514 Q1054.67 748.949 1054.67 741.843 Q1054.67 734.713 1052.84 731.171 Q1051.04 727.607 1047.4 727.607 M1047.4 723.903 Q1053.21 723.903 1056.27 728.509 Q1059.35 733.093 1059.35 741.843 Q1059.35 750.569 1056.27 755.176 Q1053.21 759.759 1047.4 759.759 Q1041.59 759.759 1038.51 755.176 Q1035.46 750.569 1035.46 741.843 Q1035.46 733.093 1038.51 728.509 Q1041.59 723.903 1047.4 723.903 Z\" fill=\"#000000\" fill-rule=\"nonzero\" fill-opacity=\"1\" /><path clip-path=\"url(#clip140)\" d=\"M1077.56 727.607 Q1073.95 727.607 1072.12 731.171 Q1070.32 734.713 1070.32 741.843 Q1070.32 748.949 1072.12 752.514 Q1073.95 756.055 1077.56 756.055 Q1081.2 756.055 1083 752.514 Q1084.83 748.949 1084.83 741.843 Q1084.83 734.713 1083 731.171 Q1081.2 727.607 1077.56 727.607 M1077.56 723.903 Q1083.37 723.903 1086.43 728.509 Q1089.51 733.093 1089.51 741.843 Q1089.51 750.569 1086.43 755.176 Q1083.37 759.759 1077.56 759.759 Q1071.75 759.759 1068.67 755.176 Q1065.62 750.569 1065.62 741.843 Q1065.62 733.093 1068.67 728.509 Q1071.75 723.903 1077.56 723.903 Z\" fill=\"#000000\" fill-rule=\"nonzero\" fill-opacity=\"1\" /><path clip-path=\"url(#clip140)\" d=\"M1265.69 728.602 L1253.88 747.051 L1265.69 747.051 L1265.69 728.602 M1264.46 724.528 L1270.34 724.528 L1270.34 747.051 L1275.27 747.051 L1275.27 750.94 L1270.34 750.94 L1270.34 759.088 L1265.69 759.088 L1265.69 750.94 L1250.08 750.94 L1250.08 746.426 L1264.46 724.528 Z\" fill=\"#000000\" fill-rule=\"nonzero\" fill-opacity=\"1\" /><path clip-path=\"url(#clip140)\" d=\"M1293 727.607 Q1289.39 727.607 1287.56 731.171 Q1285.76 734.713 1285.76 741.843 Q1285.76 748.949 1287.56 752.514 Q1289.39 756.055 1293 756.055 Q1296.63 756.055 1298.44 752.514 Q1300.27 748.949 1300.27 741.843 Q1300.27 734.713 1298.44 731.171 Q1296.63 727.607 1293 727.607 M1293 723.903 Q1298.81 723.903 1301.87 728.509 Q1304.94 733.093 1304.94 741.843 Q1304.94 750.569 1301.87 755.176 Q1298.81 759.759 1293 759.759 Q1287.19 759.759 1284.11 755.176 Q1281.06 750.569 1281.06 741.843 Q1281.06 733.093 1284.11 728.509 Q1287.19 723.903 1293 723.903 Z\" fill=\"#000000\" fill-rule=\"nonzero\" fill-opacity=\"1\" /><path clip-path=\"url(#clip140)\" d=\"M1323.16 727.607 Q1319.55 727.607 1317.72 731.171 Q1315.92 734.713 1315.92 741.843 Q1315.92 748.949 1317.72 752.514 Q1319.55 756.055 1323.16 756.055 Q1326.8 756.055 1328.6 752.514 Q1330.43 748.949 1330.43 741.843 Q1330.43 734.713 1328.6 731.171 Q1326.8 727.607 1323.16 727.607 M1323.16 723.903 Q1328.97 723.903 1332.03 728.509 Q1335.11 733.093 1335.11 741.843 Q1335.11 750.569 1332.03 755.176 Q1328.97 759.759 1323.16 759.759 Q1317.35 759.759 1314.27 755.176 Q1311.22 750.569 1311.22 741.843 Q1311.22 733.093 1314.27 728.509 Q1317.35 723.903 1323.16 723.903 Z\" fill=\"#000000\" fill-rule=\"nonzero\" fill-opacity=\"1\" /><path clip-path=\"url(#clip140)\" d=\"M1497.17 724.528 L1515.52 724.528 L1515.52 728.463 L1501.45 728.463 L1501.45 736.935 Q1502.47 736.588 1503.48 736.426 Q1504.5 736.241 1505.52 736.241 Q1511.31 736.241 1514.69 739.412 Q1518.07 742.583 1518.07 748 Q1518.07 753.579 1514.6 756.68 Q1511.12 759.759 1504.8 759.759 Q1502.63 759.759 1500.36 759.389 Q1498.11 759.018 1495.71 758.278 L1495.71 753.579 Q1497.79 754.713 1500.01 755.268 Q1502.23 755.824 1504.71 755.824 Q1508.72 755.824 1511.05 753.718 Q1513.39 751.611 1513.39 748 Q1513.39 744.389 1511.05 742.282 Q1508.72 740.176 1504.71 740.176 Q1502.84 740.176 1500.96 740.593 Q1499.11 741.009 1497.17 741.889 L1497.17 724.528 Z\" fill=\"#000000\" fill-rule=\"nonzero\" fill-opacity=\"1\" /><path clip-path=\"url(#clip140)\" d=\"M1537.28 727.607 Q1533.67 727.607 1531.84 731.171 Q1530.04 734.713 1530.04 741.843 Q1530.04 748.949 1531.84 752.514 Q1533.67 756.055 1537.28 756.055 Q1540.91 756.055 1542.72 752.514 Q1544.55 748.949 1544.55 741.843 Q1544.55 734.713 1542.72 731.171 Q1540.91 727.607 1537.28 727.607 M1537.28 723.903 Q1543.09 723.903 1546.15 728.509 Q1549.23 733.093 1549.23 741.843 Q1549.23 750.569 1546.15 755.176 Q1543.09 759.759 1537.28 759.759 Q1531.47 759.759 1528.39 755.176 Q1525.34 750.569 1525.34 741.843 Q1525.34 733.093 1528.39 728.509 Q1531.47 723.903 1537.28 723.903 Z\" fill=\"#000000\" fill-rule=\"nonzero\" fill-opacity=\"1\" /><path clip-path=\"url(#clip140)\" d=\"M1567.44 727.607 Q1563.83 727.607 1562 731.171 Q1560.2 734.713 1560.2 741.843 Q1560.2 748.949 1562 752.514 Q1563.83 756.055 1567.44 756.055 Q1571.08 756.055 1572.88 752.514 Q1574.71 748.949 1574.71 741.843 Q1574.71 734.713 1572.88 731.171 Q1571.08 727.607 1567.44 727.607 M1567.44 723.903 Q1573.25 723.903 1576.31 728.509 Q1579.39 733.093 1579.39 741.843 Q1579.39 750.569 1576.31 755.176 Q1573.25 759.759 1567.44 759.759 Q1561.63 759.759 1558.55 755.176 Q1555.5 750.569 1555.5 741.843 Q1555.5 733.093 1558.55 728.509 Q1561.63 723.903 1567.44 723.903 Z\" fill=\"#000000\" fill-rule=\"nonzero\" fill-opacity=\"1\" /><polyline clip-path=\"url(#clip142)\" style=\"stroke:#000000; stroke-linecap:round; stroke-linejoin:round; stroke-width:2; stroke-opacity:0.1; fill:none\" points=\"162.857,686.256 1552.76,686.256 \"/>\n",
       "<polyline clip-path=\"url(#clip142)\" style=\"stroke:#000000; stroke-linecap:round; stroke-linejoin:round; stroke-width:2; stroke-opacity:0.1; fill:none\" points=\"162.857,550.731 1552.76,550.731 \"/>\n",
       "<polyline clip-path=\"url(#clip142)\" style=\"stroke:#000000; stroke-linecap:round; stroke-linejoin:round; stroke-width:2; stroke-opacity:0.1; fill:none\" points=\"162.857,415.207 1552.76,415.207 \"/>\n",
       "<polyline clip-path=\"url(#clip142)\" style=\"stroke:#000000; stroke-linecap:round; stroke-linejoin:round; stroke-width:2; stroke-opacity:0.1; fill:none\" points=\"162.857,279.682 1552.76,279.682 \"/>\n",
       "<polyline clip-path=\"url(#clip142)\" style=\"stroke:#000000; stroke-linecap:round; stroke-linejoin:round; stroke-width:2; stroke-opacity:0.1; fill:none\" points=\"162.857,144.158 1552.76,144.158 \"/>\n",
       "<polyline clip-path=\"url(#clip140)\" style=\"stroke:#000000; stroke-linecap:round; stroke-linejoin:round; stroke-width:4; stroke-opacity:1; fill:none\" points=\"162.857,703.088 162.857,108.352 \"/>\n",
       "<polyline clip-path=\"url(#clip140)\" style=\"stroke:#000000; stroke-linecap:round; stroke-linejoin:round; stroke-width:4; stroke-opacity:1; fill:none\" points=\"162.857,686.256 181.755,686.256 \"/>\n",
       "<polyline clip-path=\"url(#clip140)\" style=\"stroke:#000000; stroke-linecap:round; stroke-linejoin:round; stroke-width:4; stroke-opacity:1; fill:none\" points=\"162.857,550.731 181.755,550.731 \"/>\n",
       "<polyline clip-path=\"url(#clip140)\" style=\"stroke:#000000; stroke-linecap:round; stroke-linejoin:round; stroke-width:4; stroke-opacity:1; fill:none\" points=\"162.857,415.207 181.755,415.207 \"/>\n",
       "<polyline clip-path=\"url(#clip140)\" style=\"stroke:#000000; stroke-linecap:round; stroke-linejoin:round; stroke-width:4; stroke-opacity:1; fill:none\" points=\"162.857,279.682 181.755,279.682 \"/>\n",
       "<polyline clip-path=\"url(#clip140)\" style=\"stroke:#000000; stroke-linecap:round; stroke-linejoin:round; stroke-width:4; stroke-opacity:1; fill:none\" points=\"162.857,144.158 181.755,144.158 \"/>\n",
       "<path clip-path=\"url(#clip140)\" d=\"M126.913 672.054 Q123.302 672.054 121.473 675.619 Q119.668 679.161 119.668 686.29 Q119.668 693.397 121.473 696.962 Q123.302 700.503 126.913 700.503 Q130.547 700.503 132.353 696.962 Q134.182 693.397 134.182 686.29 Q134.182 679.161 132.353 675.619 Q130.547 672.054 126.913 672.054 M126.913 668.351 Q132.723 668.351 135.779 672.957 Q138.857 677.54 138.857 686.29 Q138.857 695.017 135.779 699.624 Q132.723 704.207 126.913 704.207 Q121.103 704.207 118.024 699.624 Q114.969 695.017 114.969 686.29 Q114.969 677.54 118.024 672.957 Q121.103 668.351 126.913 668.351 Z\" fill=\"#000000\" fill-rule=\"nonzero\" fill-opacity=\"1\" /><path clip-path=\"url(#clip140)\" d=\"M86.7975 533.451 L105.154 533.451 L105.154 537.386 L91.0799 537.386 L91.0799 545.859 Q92.0984 545.511 93.1169 545.349 Q94.1354 545.164 95.1539 545.164 Q100.941 545.164 104.321 548.335 Q107.7 551.507 107.7 556.923 Q107.7 562.502 104.228 565.604 Q100.756 568.683 94.4364 568.683 Q92.2604 568.683 89.9919 568.312 Q87.7466 567.942 85.3392 567.201 L85.3392 562.502 Q87.4225 563.636 89.6447 564.192 Q91.8669 564.747 94.3438 564.747 Q98.3484 564.747 100.686 562.641 Q103.024 560.534 103.024 556.923 Q103.024 553.312 100.686 551.206 Q98.3484 549.099 94.3438 549.099 Q92.4688 549.099 90.5938 549.516 Q88.7419 549.933 86.7975 550.812 L86.7975 533.451 Z\" fill=\"#000000\" fill-rule=\"nonzero\" fill-opacity=\"1\" /><path clip-path=\"url(#clip140)\" d=\"M126.913 536.53 Q123.302 536.53 121.473 540.095 Q119.668 543.636 119.668 550.766 Q119.668 557.872 121.473 561.437 Q123.302 564.979 126.913 564.979 Q130.547 564.979 132.353 561.437 Q134.182 557.872 134.182 550.766 Q134.182 543.636 132.353 540.095 Q130.547 536.53 126.913 536.53 M126.913 532.826 Q132.723 532.826 135.779 537.433 Q138.857 542.016 138.857 550.766 Q138.857 559.493 135.779 564.099 Q132.723 568.683 126.913 568.683 Q121.103 568.683 118.024 564.099 Q114.969 559.493 114.969 550.766 Q114.969 542.016 118.024 537.433 Q121.103 532.826 126.913 532.826 Z\" fill=\"#000000\" fill-rule=\"nonzero\" fill-opacity=\"1\" /><path clip-path=\"url(#clip140)\" d=\"M57.3995 428.552 L65.0384 428.552 L65.0384 402.186 L56.7282 403.853 L56.7282 399.593 L64.9921 397.927 L69.668 397.927 L69.668 428.552 L77.3068 428.552 L77.3068 432.487 L57.3995 432.487 L57.3995 428.552 Z\" fill=\"#000000\" fill-rule=\"nonzero\" fill-opacity=\"1\" /><path clip-path=\"url(#clip140)\" d=\"M96.7512 401.005 Q93.1401 401.005 91.3114 404.57 Q89.5058 408.112 89.5058 415.241 Q89.5058 422.348 91.3114 425.913 Q93.1401 429.454 96.7512 429.454 Q100.385 429.454 102.191 425.913 Q104.02 422.348 104.02 415.241 Q104.02 408.112 102.191 404.57 Q100.385 401.005 96.7512 401.005 M96.7512 397.302 Q102.561 397.302 105.617 401.908 Q108.696 406.491 108.696 415.241 Q108.696 423.968 105.617 428.575 Q102.561 433.158 96.7512 433.158 Q90.941 433.158 87.8623 428.575 Q84.8068 423.968 84.8068 415.241 Q84.8068 406.491 87.8623 401.908 Q90.941 397.302 96.7512 397.302 Z\" fill=\"#000000\" fill-rule=\"nonzero\" fill-opacity=\"1\" /><path clip-path=\"url(#clip140)\" d=\"M126.913 401.005 Q123.302 401.005 121.473 404.57 Q119.668 408.112 119.668 415.241 Q119.668 422.348 121.473 425.913 Q123.302 429.454 126.913 429.454 Q130.547 429.454 132.353 425.913 Q134.182 422.348 134.182 415.241 Q134.182 408.112 132.353 404.57 Q130.547 401.005 126.913 401.005 M126.913 397.302 Q132.723 397.302 135.779 401.908 Q138.857 406.491 138.857 415.241 Q138.857 423.968 135.779 428.575 Q132.723 433.158 126.913 433.158 Q121.103 433.158 118.024 428.575 Q114.969 423.968 114.969 415.241 Q114.969 406.491 118.024 401.908 Q121.103 397.302 126.913 397.302 Z\" fill=\"#000000\" fill-rule=\"nonzero\" fill-opacity=\"1\" /><path clip-path=\"url(#clip140)\" d=\"M57.3995 293.027 L65.0384 293.027 L65.0384 266.661 L56.7282 268.328 L56.7282 264.069 L64.9921 262.402 L69.668 262.402 L69.668 293.027 L77.3068 293.027 L77.3068 296.962 L57.3995 296.962 L57.3995 293.027 Z\" fill=\"#000000\" fill-rule=\"nonzero\" fill-opacity=\"1\" /><path clip-path=\"url(#clip140)\" d=\"M86.7975 262.402 L105.154 262.402 L105.154 266.337 L91.0799 266.337 L91.0799 274.81 Q92.0984 274.462 93.1169 274.3 Q94.1354 274.115 95.1539 274.115 Q100.941 274.115 104.321 277.286 Q107.7 280.458 107.7 285.874 Q107.7 291.453 104.228 294.555 Q100.756 297.634 94.4364 297.634 Q92.2604 297.634 89.9919 297.263 Q87.7466 296.893 85.3392 296.152 L85.3392 291.453 Q87.4225 292.587 89.6447 293.143 Q91.8669 293.698 94.3438 293.698 Q98.3484 293.698 100.686 291.592 Q103.024 289.485 103.024 285.874 Q103.024 282.263 100.686 280.157 Q98.3484 278.05 94.3438 278.05 Q92.4688 278.05 90.5938 278.467 Q88.7419 278.884 86.7975 279.763 L86.7975 262.402 Z\" fill=\"#000000\" fill-rule=\"nonzero\" fill-opacity=\"1\" /><path clip-path=\"url(#clip140)\" d=\"M126.913 265.481 Q123.302 265.481 121.473 269.046 Q119.668 272.587 119.668 279.717 Q119.668 286.823 121.473 290.388 Q123.302 293.93 126.913 293.93 Q130.547 293.93 132.353 290.388 Q134.182 286.823 134.182 279.717 Q134.182 272.587 132.353 269.046 Q130.547 265.481 126.913 265.481 M126.913 261.777 Q132.723 261.777 135.779 266.384 Q138.857 270.967 138.857 279.717 Q138.857 288.444 135.779 293.05 Q132.723 297.634 126.913 297.634 Q121.103 297.634 118.024 293.05 Q114.969 288.444 114.969 279.717 Q114.969 270.967 118.024 266.384 Q121.103 261.777 126.913 261.777 Z\" fill=\"#000000\" fill-rule=\"nonzero\" fill-opacity=\"1\" /><path clip-path=\"url(#clip140)\" d=\"M60.6171 157.503 L76.9365 157.503 L76.9365 161.438 L54.9921 161.438 L54.9921 157.503 Q57.6541 154.748 62.2375 150.118 Q66.8439 145.466 68.0245 144.123 Q70.2698 141.6 71.1494 139.864 Q72.0522 138.104 72.0522 136.415 Q72.0522 133.66 70.1078 131.924 Q68.1865 130.188 65.0847 130.188 Q62.8856 130.188 60.4319 130.952 Q58.0014 131.716 55.2236 133.267 L55.2236 128.544 Q58.0477 127.41 60.5014 126.831 Q62.955 126.253 64.9921 126.253 Q70.3624 126.253 73.5568 128.938 Q76.7513 131.623 76.7513 136.114 Q76.7513 138.243 75.9411 140.165 Q75.1541 142.063 73.0476 144.655 Q72.4689 145.327 69.367 148.544 Q66.2652 151.739 60.6171 157.503 Z\" fill=\"#000000\" fill-rule=\"nonzero\" fill-opacity=\"1\" /><path clip-path=\"url(#clip140)\" d=\"M96.7512 129.956 Q93.1401 129.956 91.3114 133.521 Q89.5058 137.063 89.5058 144.192 Q89.5058 151.299 91.3114 154.864 Q93.1401 158.405 96.7512 158.405 Q100.385 158.405 102.191 154.864 Q104.02 151.299 104.02 144.192 Q104.02 137.063 102.191 133.521 Q100.385 129.956 96.7512 129.956 M96.7512 126.253 Q102.561 126.253 105.617 130.859 Q108.696 135.442 108.696 144.192 Q108.696 152.919 105.617 157.526 Q102.561 162.109 96.7512 162.109 Q90.941 162.109 87.8623 157.526 Q84.8068 152.919 84.8068 144.192 Q84.8068 135.442 87.8623 130.859 Q90.941 126.253 96.7512 126.253 Z\" fill=\"#000000\" fill-rule=\"nonzero\" fill-opacity=\"1\" /><path clip-path=\"url(#clip140)\" d=\"M126.913 129.956 Q123.302 129.956 121.473 133.521 Q119.668 137.063 119.668 144.192 Q119.668 151.299 121.473 154.864 Q123.302 158.405 126.913 158.405 Q130.547 158.405 132.353 154.864 Q134.182 151.299 134.182 144.192 Q134.182 137.063 132.353 133.521 Q130.547 129.956 126.913 129.956 M126.913 126.253 Q132.723 126.253 135.779 130.859 Q138.857 135.442 138.857 144.192 Q138.857 152.919 135.779 157.526 Q132.723 162.109 126.913 162.109 Q121.103 162.109 118.024 157.526 Q114.969 152.919 114.969 144.192 Q114.969 135.442 118.024 130.859 Q121.103 126.253 126.913 126.253 Z\" fill=\"#000000\" fill-rule=\"nonzero\" fill-opacity=\"1\" /><path clip-path=\"url(#clip140)\" d=\"M421.666 45.1919 L421.666 72.576 L414.212 72.576 L414.212 45.4349 Q414.212 38.994 411.701 35.7938 Q409.189 32.5936 404.166 32.5936 Q398.13 32.5936 394.647 36.4419 Q391.163 40.2903 391.163 46.9338 L391.163 72.576 L383.669 72.576 L383.669 9.54393 L391.163 9.54393 L391.163 34.2544 Q393.836 30.163 397.442 28.1376 Q401.087 26.1121 405.827 26.1121 Q413.645 26.1121 417.656 30.9732 Q421.666 35.7938 421.666 45.1919 Z\" fill=\"#000000\" fill-rule=\"nonzero\" fill-opacity=\"1\" /><path clip-path=\"url(#clip140)\" d=\"M436.533 27.2059 L443.987 27.2059 L443.987 72.576 L436.533 72.576 L436.533 27.2059 M436.533 9.54393 L443.987 9.54393 L443.987 18.9825 L436.533 18.9825 L436.533 9.54393 Z\" fill=\"#000000\" fill-rule=\"nonzero\" fill-opacity=\"1\" /><path clip-path=\"url(#clip140)\" d=\"M488.506 28.5427 L488.506 35.5912 Q485.346 33.9709 481.944 33.1607 Q478.541 32.3505 474.895 32.3505 Q469.345 32.3505 466.55 34.0519 Q463.795 35.7533 463.795 39.156 Q463.795 41.7486 465.78 43.2475 Q467.765 44.7058 473.761 46.0426 L476.313 46.6097 Q484.253 48.3111 487.574 51.4303 Q490.937 54.509 490.937 60.0587 Q490.937 66.3781 485.913 70.0644 Q480.931 73.7508 472.181 73.7508 Q468.535 73.7508 464.565 73.0216 Q460.636 72.3329 456.261 70.9151 L456.261 63.2184 Q460.393 65.3654 464.403 66.4591 Q468.413 67.5124 472.343 67.5124 Q477.609 67.5124 480.445 65.73 Q483.28 63.9071 483.28 60.6258 Q483.28 57.5877 481.214 55.9673 Q479.189 54.3469 472.262 52.8481 L469.669 52.2405 Q462.742 50.7821 459.664 47.7845 Q456.585 44.7463 456.585 39.4801 Q456.585 33.0797 461.122 29.5959 Q465.659 26.1121 474.004 26.1121 Q478.136 26.1121 481.781 26.7198 Q485.427 27.3274 488.506 28.5427 Z\" fill=\"#000000\" fill-rule=\"nonzero\" fill-opacity=\"1\" /><path clip-path=\"url(#clip140)\" d=\"M510.178 14.324 L510.178 27.2059 L525.531 27.2059 L525.531 32.9987 L510.178 32.9987 L510.178 57.6282 Q510.178 63.1779 511.677 64.7578 Q513.216 66.3376 517.875 66.3376 L525.531 66.3376 L525.531 72.576 L517.875 72.576 Q509.247 72.576 505.965 69.3758 Q502.684 66.1351 502.684 57.6282 L502.684 32.9987 L497.215 32.9987 L497.215 27.2059 L502.684 27.2059 L502.684 14.324 L510.178 14.324 Z\" fill=\"#000000\" fill-rule=\"nonzero\" fill-opacity=\"1\" /><path clip-path=\"url(#clip140)\" d=\"M552.915 32.4315 Q546.92 32.4315 543.436 37.1306 Q539.952 41.7891 539.952 49.9314 Q539.952 58.0738 543.396 62.7728 Q546.88 67.4314 552.915 67.4314 Q558.87 67.4314 562.354 62.7323 Q565.838 58.0333 565.838 49.9314 Q565.838 41.8701 562.354 37.1711 Q558.87 32.4315 552.915 32.4315 M552.915 26.1121 Q562.638 26.1121 568.187 32.4315 Q573.737 38.7509 573.737 49.9314 Q573.737 61.0714 568.187 67.4314 Q562.638 73.7508 552.915 73.7508 Q543.153 73.7508 537.603 67.4314 Q532.094 61.0714 532.094 49.9314 Q532.094 38.7509 537.603 32.4315 Q543.153 26.1121 552.915 26.1121 Z\" fill=\"#000000\" fill-rule=\"nonzero\" fill-opacity=\"1\" /><path clip-path=\"url(#clip140)\" d=\"M615.947 49.3643 Q615.947 41.2625 612.585 36.8065 Q609.263 32.3505 603.228 32.3505 Q597.232 32.3505 593.87 36.8065 Q590.548 41.2625 590.548 49.3643 Q590.548 57.4256 593.87 61.8816 Q597.232 66.3376 603.228 66.3376 Q609.263 66.3376 612.585 61.8816 Q615.947 57.4256 615.947 49.3643 M623.401 66.9452 Q623.401 78.5308 618.256 84.1616 Q613.112 89.8329 602.498 89.8329 Q598.569 89.8329 595.085 89.2252 Q591.601 88.6581 588.32 87.4428 L588.32 80.1917 Q591.601 81.9741 594.802 82.8248 Q598.002 83.6755 601.324 83.6755 Q608.656 83.6755 612.302 79.8271 Q615.947 76.0193 615.947 68.282 L615.947 64.5957 Q613.638 68.6061 610.033 70.5911 Q606.428 72.576 601.405 72.576 Q593.06 72.576 587.956 66.2161 Q582.852 59.8562 582.852 49.3643 Q582.852 38.832 587.956 32.472 Q593.06 26.1121 601.405 26.1121 Q606.428 26.1121 610.033 28.0971 Q613.638 30.082 615.947 34.0924 L615.947 27.2059 L623.401 27.2059 L623.401 66.9452 Z\" fill=\"#000000\" fill-rule=\"nonzero\" fill-opacity=\"1\" /><path clip-path=\"url(#clip140)\" d=\"M665.044 34.1734 Q663.789 33.4443 662.29 33.1202 Q660.831 32.7556 659.049 32.7556 Q652.73 32.7556 649.327 36.8875 Q645.965 40.9789 645.965 48.6757 L645.965 72.576 L638.47 72.576 L638.47 27.2059 L645.965 27.2059 L645.965 34.2544 Q648.314 30.1225 652.081 28.1376 Q655.849 26.1121 661.237 26.1121 Q662.006 26.1121 662.938 26.2337 Q663.87 26.3147 665.004 26.5172 L665.044 34.1734 Z\" fill=\"#000000\" fill-rule=\"nonzero\" fill-opacity=\"1\" /><path clip-path=\"url(#clip140)\" d=\"M693.482 49.7694 Q684.448 49.7694 680.964 51.8354 Q677.481 53.9013 677.481 58.8839 Q677.481 62.8538 680.073 65.2034 Q682.706 67.5124 687.203 67.5124 Q693.401 67.5124 697.128 63.1374 Q700.895 58.7219 700.895 51.4303 L700.895 49.7694 L693.482 49.7694 M708.349 46.6907 L708.349 72.576 L700.895 72.576 L700.895 65.6895 Q698.343 69.8214 694.535 71.8063 Q690.727 73.7508 685.218 73.7508 Q678.25 73.7508 674.118 69.8619 Q670.027 65.9325 670.027 59.3701 Q670.027 51.7138 675.131 47.825 Q680.276 43.9361 690.444 43.9361 L700.895 43.9361 L700.895 43.2069 Q700.895 38.0623 697.492 35.2672 Q694.13 32.4315 688.013 32.4315 Q684.124 32.4315 680.438 33.3632 Q676.751 34.295 673.349 36.1584 L673.349 29.2718 Q677.44 27.692 681.289 26.9223 Q685.137 26.1121 688.783 26.1121 Q698.626 26.1121 703.487 31.2163 Q708.349 36.3204 708.349 46.6907 Z\" fill=\"#000000\" fill-rule=\"nonzero\" fill-opacity=\"1\" /><path clip-path=\"url(#clip140)\" d=\"M759.025 35.9153 Q761.82 30.8922 765.709 28.5022 Q769.598 26.1121 774.864 26.1121 Q781.953 26.1121 785.802 31.0947 Q789.65 36.0368 789.65 45.1919 L789.65 72.576 L782.156 72.576 L782.156 45.4349 Q782.156 38.913 779.847 35.7533 Q777.538 32.5936 772.798 32.5936 Q767.006 32.5936 763.643 36.4419 Q760.281 40.2903 760.281 46.9338 L760.281 72.576 L752.787 72.576 L752.787 45.4349 Q752.787 38.8725 750.478 35.7533 Q748.169 32.5936 743.348 32.5936 Q737.637 32.5936 734.274 36.4824 Q730.912 40.3308 730.912 46.9338 L730.912 72.576 L723.418 72.576 L723.418 27.2059 L730.912 27.2059 L730.912 34.2544 Q733.464 30.082 737.029 28.0971 Q740.594 26.1121 745.495 26.1121 Q750.437 26.1121 753.881 28.6237 Q757.364 31.1352 759.025 35.9153 Z\" fill=\"#000000\" fill-rule=\"nonzero\" fill-opacity=\"1\" /><path clip-path=\"url(#clip140)\" d=\"M848.469 32.4315 Q842.474 32.4315 838.99 37.1306 Q835.506 41.7891 835.506 49.9314 Q835.506 58.0738 838.95 62.7728 Q842.433 67.4314 848.469 67.4314 Q854.424 67.4314 857.908 62.7323 Q861.392 58.0333 861.392 49.9314 Q861.392 41.8701 857.908 37.1711 Q854.424 32.4315 848.469 32.4315 M848.469 26.1121 Q858.191 26.1121 863.741 32.4315 Q869.291 38.7509 869.291 49.9314 Q869.291 61.0714 863.741 67.4314 Q858.191 73.7508 848.469 73.7508 Q838.707 73.7508 833.157 67.4314 Q827.648 61.0714 827.648 49.9314 Q827.648 38.7509 833.157 32.4315 Q838.707 26.1121 848.469 26.1121 Z\" fill=\"#000000\" fill-rule=\"nonzero\" fill-opacity=\"1\" /><path clip-path=\"url(#clip140)\" d=\"M904.615 9.54393 L904.615 15.7418 L897.485 15.7418 Q893.475 15.7418 891.895 17.3622 Q890.356 18.9825 890.356 23.1955 L890.356 27.2059 L902.63 27.2059 L902.63 32.9987 L890.356 32.9987 L890.356 72.576 L882.862 72.576 L882.862 32.9987 L875.732 32.9987 L875.732 27.2059 L882.862 27.2059 L882.862 24.0462 Q882.862 16.471 886.386 13.0277 Q889.91 9.54393 897.566 9.54393 L904.615 9.54393 Z\" fill=\"#000000\" fill-rule=\"nonzero\" fill-opacity=\"1\" /><path clip-path=\"url(#clip140)\" d=\"M944.597 14.324 L944.597 27.2059 L959.95 27.2059 L959.95 32.9987 L944.597 32.9987 L944.597 57.6282 Q944.597 63.1779 946.096 64.7578 Q947.635 66.3376 952.294 66.3376 L959.95 66.3376 L959.95 72.576 L952.294 72.576 Q943.666 72.576 940.384 69.3758 Q937.103 66.1351 937.103 57.6282 L937.103 32.9987 L931.634 32.9987 L931.634 27.2059 L937.103 27.2059 L937.103 14.324 L944.597 14.324 Z\" fill=\"#000000\" fill-rule=\"nonzero\" fill-opacity=\"1\" /><path clip-path=\"url(#clip140)\" d=\"M1007.47 45.1919 L1007.47 72.576 L1000.01 72.576 L1000.01 45.4349 Q1000.01 38.994 997.502 35.7938 Q994.991 32.5936 989.967 32.5936 Q983.932 32.5936 980.448 36.4419 Q976.964 40.2903 976.964 46.9338 L976.964 72.576 L969.47 72.576 L969.47 9.54393 L976.964 9.54393 L976.964 34.2544 Q979.638 30.163 983.243 28.1376 Q986.889 26.1121 991.628 26.1121 Q999.447 26.1121 1003.46 30.9732 Q1007.47 35.7938 1007.47 45.1919 Z\" fill=\"#000000\" fill-rule=\"nonzero\" fill-opacity=\"1\" /><path clip-path=\"url(#clip140)\" d=\"M1061.14 48.0275 L1061.14 51.6733 L1026.87 51.6733 Q1027.36 59.3701 1031.49 63.421 Q1035.66 67.4314 1043.07 67.4314 Q1047.37 67.4314 1051.38 66.3781 Q1055.43 65.3249 1059.4 63.2184 L1059.4 70.267 Q1055.39 71.9684 1051.18 72.8596 Q1046.96 73.7508 1042.63 73.7508 Q1031.77 73.7508 1025.41 67.4314 Q1019.09 61.1119 1019.09 50.3365 Q1019.09 39.1965 1025.09 32.6746 Q1031.12 26.1121 1041.33 26.1121 Q1050.49 26.1121 1055.79 32.0264 Q1061.14 37.9003 1061.14 48.0275 M1053.69 45.84 Q1053.61 39.7232 1050.24 36.0774 Q1046.92 32.4315 1041.41 32.4315 Q1035.18 32.4315 1031.41 35.9558 Q1027.68 39.4801 1027.11 45.8805 L1053.69 45.84 Z\" fill=\"#000000\" fill-rule=\"nonzero\" fill-opacity=\"1\" /><path clip-path=\"url(#clip140)\" d=\"M1138.55 48.0275 L1138.55 51.6733 L1104.28 51.6733 Q1104.77 59.3701 1108.9 63.421 Q1113.07 67.4314 1120.49 67.4314 Q1124.78 67.4314 1128.79 66.3781 Q1132.84 65.3249 1136.81 63.2184 L1136.81 70.267 Q1132.8 71.9684 1128.59 72.8596 Q1124.38 73.7508 1120.04 73.7508 Q1109.19 73.7508 1102.83 67.4314 Q1096.51 61.1119 1096.51 50.3365 Q1096.51 39.1965 1102.5 32.6746 Q1108.54 26.1121 1118.75 26.1121 Q1127.9 26.1121 1133.21 32.0264 Q1138.55 37.9003 1138.55 48.0275 M1131.1 45.84 Q1131.02 39.7232 1127.66 36.0774 Q1124.34 32.4315 1118.83 32.4315 Q1112.59 32.4315 1108.82 35.9558 Q1105.09 39.4801 1104.53 45.8805 L1131.1 45.84 Z\" fill=\"#000000\" fill-rule=\"nonzero\" fill-opacity=\"1\" /><path clip-path=\"url(#clip140)\" d=\"M1177.08 34.1734 Q1175.82 33.4443 1174.32 33.1202 Q1172.87 32.7556 1171.08 32.7556 Q1164.76 32.7556 1161.36 36.8875 Q1158 40.9789 1158 48.6757 L1158 72.576 L1150.5 72.576 L1150.5 27.2059 L1158 27.2059 L1158 34.2544 Q1160.35 30.1225 1164.12 28.1376 Q1167.88 26.1121 1173.27 26.1121 Q1174.04 26.1121 1174.97 26.2337 Q1175.9 26.3147 1177.04 26.5172 L1177.08 34.1734 Z\" fill=\"#000000\" fill-rule=\"nonzero\" fill-opacity=\"1\" /><path clip-path=\"url(#clip140)\" d=\"M1209.73 34.1734 Q1208.47 33.4443 1206.97 33.1202 Q1205.52 32.7556 1203.73 32.7556 Q1197.41 32.7556 1194.01 36.8875 Q1190.65 40.9789 1190.65 48.6757 L1190.65 72.576 L1183.16 72.576 L1183.16 27.2059 L1190.65 27.2059 L1190.65 34.2544 Q1193 30.1225 1196.77 28.1376 Q1200.53 26.1121 1205.92 26.1121 Q1206.69 26.1121 1207.62 26.2337 Q1208.55 26.3147 1209.69 26.5172 L1209.73 34.1734 Z\" fill=\"#000000\" fill-rule=\"nonzero\" fill-opacity=\"1\" /><path clip-path=\"url(#clip140)\" d=\"M1233.31 32.4315 Q1227.31 32.4315 1223.83 37.1306 Q1220.34 41.7891 1220.34 49.9314 Q1220.34 58.0738 1223.79 62.7728 Q1227.27 67.4314 1233.31 67.4314 Q1239.26 67.4314 1242.74 62.7323 Q1246.23 58.0333 1246.23 49.9314 Q1246.23 41.8701 1242.74 37.1711 Q1239.26 32.4315 1233.31 32.4315 M1233.31 26.1121 Q1243.03 26.1121 1248.58 32.4315 Q1254.13 38.7509 1254.13 49.9314 Q1254.13 61.0714 1248.58 67.4314 Q1243.03 73.7508 1233.31 73.7508 Q1223.54 73.7508 1217.99 67.4314 Q1212.48 61.0714 1212.48 49.9314 Q1212.48 38.7509 1217.99 32.4315 Q1223.54 26.1121 1233.31 26.1121 Z\" fill=\"#000000\" fill-rule=\"nonzero\" fill-opacity=\"1\" /><path clip-path=\"url(#clip140)\" d=\"M1292.77 34.1734 Q1291.52 33.4443 1290.02 33.1202 Q1288.56 32.7556 1286.78 32.7556 Q1280.46 32.7556 1277.05 36.8875 Q1273.69 40.9789 1273.69 48.6757 L1273.69 72.576 L1266.2 72.576 L1266.2 27.2059 L1273.69 27.2059 L1273.69 34.2544 Q1276.04 30.1225 1279.81 28.1376 Q1283.58 26.1121 1288.96 26.1121 Q1289.73 26.1121 1290.67 26.2337 Q1291.6 26.3147 1292.73 26.5172 L1292.77 34.1734 Z\" fill=\"#000000\" fill-rule=\"nonzero\" fill-opacity=\"1\" /><path clip-path=\"url(#clip140)\" d=\"M1329.51 28.5427 L1329.51 35.5912 Q1326.35 33.9709 1322.95 33.1607 Q1319.55 32.3505 1315.9 32.3505 Q1310.35 32.3505 1307.56 34.0519 Q1304.8 35.7533 1304.8 39.156 Q1304.8 41.7486 1306.79 43.2475 Q1308.77 44.7058 1314.77 46.0426 L1317.32 46.6097 Q1325.26 48.3111 1328.58 51.4303 Q1331.94 54.509 1331.94 60.0587 Q1331.94 66.3781 1326.92 70.0644 Q1321.94 73.7508 1313.19 73.7508 Q1309.54 73.7508 1305.57 73.0216 Q1301.64 72.3329 1297.27 70.9151 L1297.27 63.2184 Q1301.4 65.3654 1305.41 66.4591 Q1309.42 67.5124 1313.35 67.5124 Q1318.62 67.5124 1321.45 65.73 Q1324.29 63.9071 1324.29 60.6258 Q1324.29 57.5877 1322.22 55.9673 Q1320.2 54.3469 1313.27 52.8481 L1310.68 52.2405 Q1303.75 50.7821 1300.67 47.7845 Q1297.59 44.7463 1297.59 39.4801 Q1297.59 33.0797 1302.13 29.5959 Q1306.67 26.1121 1315.01 26.1121 Q1319.14 26.1121 1322.79 26.7198 Q1326.44 27.3274 1329.51 28.5427 Z\" fill=\"#000000\" fill-rule=\"nonzero\" fill-opacity=\"1\" /><path clip-path=\"url(#clip142)\" d=\"M239.304 667.282 L239.304 686.256 L251.552 686.256 L251.552 667.282 L239.304 667.282 L239.304 667.282  Z\" fill=\"#009af9\" fill-rule=\"evenodd\" fill-opacity=\"1\"/>\n",
       "<polyline clip-path=\"url(#clip142)\" style=\"stroke:#000000; stroke-linecap:round; stroke-linejoin:round; stroke-width:4; stroke-opacity:1; fill:none\" points=\"239.304,667.282 239.304,686.256 251.552,686.256 251.552,667.282 239.304,667.282 \"/>\n",
       "<path clip-path=\"url(#clip142)\" d=\"M251.552 125.184 L251.552 686.256 L263.799 686.256 L263.799 125.184 L251.552 125.184 L251.552 125.184  Z\" fill=\"#009af9\" fill-rule=\"evenodd\" fill-opacity=\"1\"/>\n",
       "<polyline clip-path=\"url(#clip142)\" style=\"stroke:#000000; stroke-linecap:round; stroke-linejoin:round; stroke-width:4; stroke-opacity:1; fill:none\" points=\"251.552,125.184 251.552,686.256 263.799,686.256 263.799,125.184 251.552,125.184 \"/>\n",
       "<path clip-path=\"url(#clip142)\" d=\"M263.799 358.286 L263.799 686.256 L276.047 686.256 L276.047 358.286 L263.799 358.286 L263.799 358.286  Z\" fill=\"#009af9\" fill-rule=\"evenodd\" fill-opacity=\"1\"/>\n",
       "<polyline clip-path=\"url(#clip142)\" style=\"stroke:#000000; stroke-linecap:round; stroke-linejoin:round; stroke-width:4; stroke-opacity:1; fill:none\" points=\"263.799,358.286 263.799,686.256 276.047,686.256 276.047,358.286 263.799,358.286 \"/>\n",
       "<path clip-path=\"url(#clip142)\" d=\"M276.047 539.889 L276.047 686.256 L288.295 686.256 L288.295 539.889 L276.047 539.889 L276.047 539.889  Z\" fill=\"#009af9\" fill-rule=\"evenodd\" fill-opacity=\"1\"/>\n",
       "<polyline clip-path=\"url(#clip142)\" style=\"stroke:#000000; stroke-linecap:round; stroke-linejoin:round; stroke-width:4; stroke-opacity:1; fill:none\" points=\"276.047,539.889 276.047,686.256 288.295,686.256 288.295,539.889 276.047,539.889 \"/>\n",
       "<path clip-path=\"url(#clip142)\" d=\"M288.295 594.099 L288.295 686.256 L300.542 686.256 L300.542 594.099 L288.295 594.099 L288.295 594.099  Z\" fill=\"#009af9\" fill-rule=\"evenodd\" fill-opacity=\"1\"/>\n",
       "<polyline clip-path=\"url(#clip142)\" style=\"stroke:#000000; stroke-linecap:round; stroke-linejoin:round; stroke-width:4; stroke-opacity:1; fill:none\" points=\"288.295,594.099 288.295,686.256 300.542,686.256 300.542,594.099 288.295,594.099 \"/>\n",
       "<path clip-path=\"url(#clip142)\" d=\"M300.542 466.706 L300.542 686.256 L312.79 686.256 L312.79 466.706 L300.542 466.706 L300.542 466.706  Z\" fill=\"#009af9\" fill-rule=\"evenodd\" fill-opacity=\"1\"/>\n",
       "<polyline clip-path=\"url(#clip142)\" style=\"stroke:#000000; stroke-linecap:round; stroke-linejoin:round; stroke-width:4; stroke-opacity:1; fill:none\" points=\"300.542,466.706 300.542,686.256 312.79,686.256 312.79,466.706 300.542,466.706 \"/>\n",
       "<path clip-path=\"url(#clip142)\" d=\"M312.79 583.257 L312.79 686.256 L325.037 686.256 L325.037 583.257 L312.79 583.257 L312.79 583.257  Z\" fill=\"#009af9\" fill-rule=\"evenodd\" fill-opacity=\"1\"/>\n",
       "<polyline clip-path=\"url(#clip142)\" style=\"stroke:#000000; stroke-linecap:round; stroke-linejoin:round; stroke-width:4; stroke-opacity:1; fill:none\" points=\"312.79,583.257 312.79,686.256 325.037,686.256 325.037,583.257 312.79,583.257 \"/>\n",
       "<path clip-path=\"url(#clip142)\" d=\"M325.037 632.046 L325.037 686.256 L337.285 686.256 L337.285 632.046 L325.037 632.046 L325.037 632.046  Z\" fill=\"#009af9\" fill-rule=\"evenodd\" fill-opacity=\"1\"/>\n",
       "<polyline clip-path=\"url(#clip142)\" style=\"stroke:#000000; stroke-linecap:round; stroke-linejoin:round; stroke-width:4; stroke-opacity:1; fill:none\" points=\"325.037,632.046 325.037,686.256 337.285,686.256 337.285,632.046 325.037,632.046 \"/>\n",
       "<path clip-path=\"url(#clip142)\" d=\"M337.285 675.414 L337.285 686.256 L349.532 686.256 L349.532 675.414 L337.285 675.414 L337.285 675.414  Z\" fill=\"#009af9\" fill-rule=\"evenodd\" fill-opacity=\"1\"/>\n",
       "<polyline clip-path=\"url(#clip142)\" style=\"stroke:#000000; stroke-linecap:round; stroke-linejoin:round; stroke-width:4; stroke-opacity:1; fill:none\" points=\"337.285,675.414 337.285,686.256 349.532,686.256 349.532,675.414 337.285,675.414 \"/>\n",
       "<path clip-path=\"url(#clip142)\" d=\"M349.532 659.151 L349.532 686.256 L361.78 686.256 L361.78 659.151 L349.532 659.151 L349.532 659.151  Z\" fill=\"#009af9\" fill-rule=\"evenodd\" fill-opacity=\"1\"/>\n",
       "<polyline clip-path=\"url(#clip142)\" style=\"stroke:#000000; stroke-linecap:round; stroke-linejoin:round; stroke-width:4; stroke-opacity:1; fill:none\" points=\"349.532,659.151 349.532,686.256 361.78,686.256 361.78,659.151 349.532,659.151 \"/>\n",
       "<path clip-path=\"url(#clip142)\" d=\"M361.78 640.177 L361.78 686.256 L374.028 686.256 L374.028 640.177 L361.78 640.177 L361.78 640.177  Z\" fill=\"#009af9\" fill-rule=\"evenodd\" fill-opacity=\"1\"/>\n",
       "<polyline clip-path=\"url(#clip142)\" style=\"stroke:#000000; stroke-linecap:round; stroke-linejoin:round; stroke-width:4; stroke-opacity:1; fill:none\" points=\"361.78,640.177 361.78,686.256 374.028,686.256 374.028,640.177 361.78,640.177 \"/>\n",
       "<path clip-path=\"url(#clip142)\" d=\"M374.028 648.309 L374.028 686.256 L386.275 686.256 L386.275 648.309 L374.028 648.309 L374.028 648.309  Z\" fill=\"#009af9\" fill-rule=\"evenodd\" fill-opacity=\"1\"/>\n",
       "<polyline clip-path=\"url(#clip142)\" style=\"stroke:#000000; stroke-linecap:round; stroke-linejoin:round; stroke-width:4; stroke-opacity:1; fill:none\" points=\"374.028,648.309 374.028,686.256 386.275,686.256 386.275,648.309 374.028,648.309 \"/>\n",
       "<path clip-path=\"url(#clip142)\" d=\"M386.275 669.993 L386.275 686.256 L398.523 686.256 L398.523 669.993 L386.275 669.993 L386.275 669.993  Z\" fill=\"#009af9\" fill-rule=\"evenodd\" fill-opacity=\"1\"/>\n",
       "<polyline clip-path=\"url(#clip142)\" style=\"stroke:#000000; stroke-linecap:round; stroke-linejoin:round; stroke-width:4; stroke-opacity:1; fill:none\" points=\"386.275,669.993 386.275,686.256 398.523,686.256 398.523,669.993 386.275,669.993 \"/>\n",
       "<path clip-path=\"url(#clip142)\" d=\"M398.523 675.414 L398.523 686.256 L410.77 686.256 L410.77 675.414 L398.523 675.414 L398.523 675.414  Z\" fill=\"#009af9\" fill-rule=\"evenodd\" fill-opacity=\"1\"/>\n",
       "<polyline clip-path=\"url(#clip142)\" style=\"stroke:#000000; stroke-linecap:round; stroke-linejoin:round; stroke-width:4; stroke-opacity:1; fill:none\" points=\"398.523,675.414 398.523,686.256 410.77,686.256 410.77,675.414 398.523,675.414 \"/>\n",
       "<path clip-path=\"url(#clip142)\" d=\"M410.77 661.861 L410.77 686.256 L423.018 686.256 L423.018 661.861 L410.77 661.861 L410.77 661.861  Z\" fill=\"#009af9\" fill-rule=\"evenodd\" fill-opacity=\"1\"/>\n",
       "<polyline clip-path=\"url(#clip142)\" style=\"stroke:#000000; stroke-linecap:round; stroke-linejoin:round; stroke-width:4; stroke-opacity:1; fill:none\" points=\"410.77,661.861 410.77,686.256 423.018,686.256 423.018,661.861 410.77,661.861 \"/>\n",
       "<path clip-path=\"url(#clip142)\" d=\"M423.018 629.335 L423.018 686.256 L435.265 686.256 L435.265 629.335 L423.018 629.335 L423.018 629.335  Z\" fill=\"#009af9\" fill-rule=\"evenodd\" fill-opacity=\"1\"/>\n",
       "<polyline clip-path=\"url(#clip142)\" style=\"stroke:#000000; stroke-linecap:round; stroke-linejoin:round; stroke-width:4; stroke-opacity:1; fill:none\" points=\"423.018,629.335 423.018,686.256 435.265,686.256 435.265,629.335 423.018,629.335 \"/>\n",
       "<path clip-path=\"url(#clip142)\" d=\"M435.265 667.282 L435.265 686.256 L447.513 686.256 L447.513 667.282 L435.265 667.282 L435.265 667.282  Z\" fill=\"#009af9\" fill-rule=\"evenodd\" fill-opacity=\"1\"/>\n",
       "<polyline clip-path=\"url(#clip142)\" style=\"stroke:#000000; stroke-linecap:round; stroke-linejoin:round; stroke-width:4; stroke-opacity:1; fill:none\" points=\"435.265,667.282 435.265,686.256 447.513,686.256 447.513,667.282 435.265,667.282 \"/>\n",
       "<path clip-path=\"url(#clip142)\" d=\"M447.513 659.151 L447.513 686.256 L459.761 686.256 L459.761 659.151 L447.513 659.151 L447.513 659.151  Z\" fill=\"#009af9\" fill-rule=\"evenodd\" fill-opacity=\"1\"/>\n",
       "<polyline clip-path=\"url(#clip142)\" style=\"stroke:#000000; stroke-linecap:round; stroke-linejoin:round; stroke-width:4; stroke-opacity:1; fill:none\" points=\"447.513,659.151 447.513,686.256 459.761,686.256 459.761,659.151 447.513,659.151 \"/>\n",
       "<path clip-path=\"url(#clip142)\" d=\"M459.761 680.835 L459.761 686.256 L472.008 686.256 L472.008 680.835 L459.761 680.835 L459.761 680.835  Z\" fill=\"#009af9\" fill-rule=\"evenodd\" fill-opacity=\"1\"/>\n",
       "<polyline clip-path=\"url(#clip142)\" style=\"stroke:#000000; stroke-linecap:round; stroke-linejoin:round; stroke-width:4; stroke-opacity:1; fill:none\" points=\"459.761,680.835 459.761,686.256 472.008,686.256 472.008,680.835 459.761,680.835 \"/>\n",
       "<path clip-path=\"url(#clip142)\" d=\"M472.008 686.256 L472.008 686.256 L484.256 686.256 L484.256 686.256 L472.008 686.256 L472.008 686.256  Z\" fill=\"#009af9\" fill-rule=\"evenodd\" fill-opacity=\"1\"/>\n",
       "<polyline clip-path=\"url(#clip142)\" style=\"stroke:#000000; stroke-linecap:round; stroke-linejoin:round; stroke-width:4; stroke-opacity:1; fill:none\" points=\"472.008,686.256 472.008,686.256 484.256,686.256 472.008,686.256 \"/>\n",
       "<path clip-path=\"url(#clip142)\" d=\"M484.256 680.835 L484.256 686.256 L496.503 686.256 L496.503 680.835 L484.256 680.835 L484.256 680.835  Z\" fill=\"#009af9\" fill-rule=\"evenodd\" fill-opacity=\"1\"/>\n",
       "<polyline clip-path=\"url(#clip142)\" style=\"stroke:#000000; stroke-linecap:round; stroke-linejoin:round; stroke-width:4; stroke-opacity:1; fill:none\" points=\"484.256,680.835 484.256,686.256 496.503,686.256 496.503,680.835 484.256,680.835 \"/>\n",
       "<path clip-path=\"url(#clip142)\" d=\"M496.503 672.703 L496.503 686.256 L508.751 686.256 L508.751 672.703 L496.503 672.703 L496.503 672.703  Z\" fill=\"#009af9\" fill-rule=\"evenodd\" fill-opacity=\"1\"/>\n",
       "<polyline clip-path=\"url(#clip142)\" style=\"stroke:#000000; stroke-linecap:round; stroke-linejoin:round; stroke-width:4; stroke-opacity:1; fill:none\" points=\"496.503,672.703 496.503,686.256 508.751,686.256 508.751,672.703 496.503,672.703 \"/>\n",
       "<path clip-path=\"url(#clip142)\" d=\"M508.751 678.124 L508.751 686.256 L520.998 686.256 L520.998 678.124 L508.751 678.124 L508.751 678.124  Z\" fill=\"#009af9\" fill-rule=\"evenodd\" fill-opacity=\"1\"/>\n",
       "<polyline clip-path=\"url(#clip142)\" style=\"stroke:#000000; stroke-linecap:round; stroke-linejoin:round; stroke-width:4; stroke-opacity:1; fill:none\" points=\"508.751,678.124 508.751,686.256 520.998,686.256 520.998,678.124 508.751,678.124 \"/>\n",
       "<path clip-path=\"url(#clip142)\" d=\"M520.998 675.414 L520.998 686.256 L533.246 686.256 L533.246 675.414 L520.998 675.414 L520.998 675.414  Z\" fill=\"#009af9\" fill-rule=\"evenodd\" fill-opacity=\"1\"/>\n",
       "<polyline clip-path=\"url(#clip142)\" style=\"stroke:#000000; stroke-linecap:round; stroke-linejoin:round; stroke-width:4; stroke-opacity:1; fill:none\" points=\"520.998,675.414 520.998,686.256 533.246,686.256 533.246,675.414 520.998,675.414 \"/>\n",
       "<path clip-path=\"url(#clip142)\" d=\"M533.246 686.256 L533.246 686.256 L545.494 686.256 L545.494 686.256 L533.246 686.256 L533.246 686.256  Z\" fill=\"#009af9\" fill-rule=\"evenodd\" fill-opacity=\"1\"/>\n",
       "<polyline clip-path=\"url(#clip142)\" style=\"stroke:#000000; stroke-linecap:round; stroke-linejoin:round; stroke-width:4; stroke-opacity:1; fill:none\" points=\"533.246,686.256 533.246,686.256 545.494,686.256 533.246,686.256 \"/>\n",
       "<path clip-path=\"url(#clip142)\" d=\"M545.494 686.256 L545.494 686.256 L557.741 686.256 L557.741 686.256 L545.494 686.256 L545.494 686.256  Z\" fill=\"#009af9\" fill-rule=\"evenodd\" fill-opacity=\"1\"/>\n",
       "<polyline clip-path=\"url(#clip142)\" style=\"stroke:#000000; stroke-linecap:round; stroke-linejoin:round; stroke-width:4; stroke-opacity:1; fill:none\" points=\"545.494,686.256 545.494,686.256 557.741,686.256 545.494,686.256 \"/>\n",
       "<path clip-path=\"url(#clip142)\" d=\"M557.741 669.993 L557.741 686.256 L569.989 686.256 L569.989 669.993 L557.741 669.993 L557.741 669.993  Z\" fill=\"#009af9\" fill-rule=\"evenodd\" fill-opacity=\"1\"/>\n",
       "<polyline clip-path=\"url(#clip142)\" style=\"stroke:#000000; stroke-linecap:round; stroke-linejoin:round; stroke-width:4; stroke-opacity:1; fill:none\" points=\"557.741,669.993 557.741,686.256 569.989,686.256 569.989,669.993 557.741,669.993 \"/>\n",
       "<path clip-path=\"url(#clip142)\" d=\"M569.989 686.256 L569.989 686.256 L582.236 686.256 L582.236 686.256 L569.989 686.256 L569.989 686.256  Z\" fill=\"#009af9\" fill-rule=\"evenodd\" fill-opacity=\"1\"/>\n",
       "<polyline clip-path=\"url(#clip142)\" style=\"stroke:#000000; stroke-linecap:round; stroke-linejoin:round; stroke-width:4; stroke-opacity:1; fill:none\" points=\"569.989,686.256 569.989,686.256 582.236,686.256 569.989,686.256 \"/>\n",
       "<path clip-path=\"url(#clip142)\" d=\"M582.236 683.545 L582.236 686.256 L594.484 686.256 L594.484 683.545 L582.236 683.545 L582.236 683.545  Z\" fill=\"#009af9\" fill-rule=\"evenodd\" fill-opacity=\"1\"/>\n",
       "<polyline clip-path=\"url(#clip142)\" style=\"stroke:#000000; stroke-linecap:round; stroke-linejoin:round; stroke-width:4; stroke-opacity:1; fill:none\" points=\"582.236,683.545 582.236,686.256 594.484,686.256 594.484,683.545 582.236,683.545 \"/>\n",
       "<path clip-path=\"url(#clip142)\" d=\"M594.484 675.414 L594.484 686.256 L606.731 686.256 L606.731 675.414 L594.484 675.414 L594.484 675.414  Z\" fill=\"#009af9\" fill-rule=\"evenodd\" fill-opacity=\"1\"/>\n",
       "<polyline clip-path=\"url(#clip142)\" style=\"stroke:#000000; stroke-linecap:round; stroke-linejoin:round; stroke-width:4; stroke-opacity:1; fill:none\" points=\"594.484,675.414 594.484,686.256 606.731,686.256 606.731,675.414 594.484,675.414 \"/>\n",
       "<path clip-path=\"url(#clip142)\" d=\"M606.731 678.124 L606.731 686.256 L618.979 686.256 L618.979 678.124 L606.731 678.124 L606.731 678.124  Z\" fill=\"#009af9\" fill-rule=\"evenodd\" fill-opacity=\"1\"/>\n",
       "<polyline clip-path=\"url(#clip142)\" style=\"stroke:#000000; stroke-linecap:round; stroke-linejoin:round; stroke-width:4; stroke-opacity:1; fill:none\" points=\"606.731,678.124 606.731,686.256 618.979,686.256 618.979,678.124 606.731,678.124 \"/>\n",
       "<path clip-path=\"url(#clip142)\" d=\"M618.979 686.256 L618.979 686.256 L631.227 686.256 L631.227 686.256 L618.979 686.256 L618.979 686.256  Z\" fill=\"#009af9\" fill-rule=\"evenodd\" fill-opacity=\"1\"/>\n",
       "<polyline clip-path=\"url(#clip142)\" style=\"stroke:#000000; stroke-linecap:round; stroke-linejoin:round; stroke-width:4; stroke-opacity:1; fill:none\" points=\"618.979,686.256 618.979,686.256 631.227,686.256 618.979,686.256 \"/>\n",
       "<path clip-path=\"url(#clip142)\" d=\"M631.227 680.835 L631.227 686.256 L643.474 686.256 L643.474 680.835 L631.227 680.835 L631.227 680.835  Z\" fill=\"#009af9\" fill-rule=\"evenodd\" fill-opacity=\"1\"/>\n",
       "<polyline clip-path=\"url(#clip142)\" style=\"stroke:#000000; stroke-linecap:round; stroke-linejoin:round; stroke-width:4; stroke-opacity:1; fill:none\" points=\"631.227,680.835 631.227,686.256 643.474,686.256 643.474,680.835 631.227,680.835 \"/>\n",
       "<path clip-path=\"url(#clip142)\" d=\"M643.474 686.256 L643.474 686.256 L655.722 686.256 L655.722 686.256 L643.474 686.256 L643.474 686.256  Z\" fill=\"#009af9\" fill-rule=\"evenodd\" fill-opacity=\"1\"/>\n",
       "<polyline clip-path=\"url(#clip142)\" style=\"stroke:#000000; stroke-linecap:round; stroke-linejoin:round; stroke-width:4; stroke-opacity:1; fill:none\" points=\"643.474,686.256 643.474,686.256 655.722,686.256 643.474,686.256 \"/>\n",
       "<path clip-path=\"url(#clip142)\" d=\"M655.722 686.256 L655.722 686.256 L667.969 686.256 L667.969 686.256 L655.722 686.256 L655.722 686.256  Z\" fill=\"#009af9\" fill-rule=\"evenodd\" fill-opacity=\"1\"/>\n",
       "<polyline clip-path=\"url(#clip142)\" style=\"stroke:#000000; stroke-linecap:round; stroke-linejoin:round; stroke-width:4; stroke-opacity:1; fill:none\" points=\"655.722,686.256 655.722,686.256 667.969,686.256 655.722,686.256 \"/>\n",
       "<path clip-path=\"url(#clip142)\" d=\"M667.969 686.256 L667.969 686.256 L680.217 686.256 L680.217 686.256 L667.969 686.256 L667.969 686.256  Z\" fill=\"#009af9\" fill-rule=\"evenodd\" fill-opacity=\"1\"/>\n",
       "<polyline clip-path=\"url(#clip142)\" style=\"stroke:#000000; stroke-linecap:round; stroke-linejoin:round; stroke-width:4; stroke-opacity:1; fill:none\" points=\"667.969,686.256 667.969,686.256 680.217,686.256 667.969,686.256 \"/>\n",
       "<path clip-path=\"url(#clip142)\" d=\"M680.217 686.256 L680.217 686.256 L692.464 686.256 L692.464 686.256 L680.217 686.256 L680.217 686.256  Z\" fill=\"#009af9\" fill-rule=\"evenodd\" fill-opacity=\"1\"/>\n",
       "<polyline clip-path=\"url(#clip142)\" style=\"stroke:#000000; stroke-linecap:round; stroke-linejoin:round; stroke-width:4; stroke-opacity:1; fill:none\" points=\"680.217,686.256 680.217,686.256 692.464,686.256 680.217,686.256 \"/>\n",
       "<path clip-path=\"url(#clip142)\" d=\"M692.464 686.256 L692.464 686.256 L704.712 686.256 L704.712 686.256 L692.464 686.256 L692.464 686.256  Z\" fill=\"#009af9\" fill-rule=\"evenodd\" fill-opacity=\"1\"/>\n",
       "<polyline clip-path=\"url(#clip142)\" style=\"stroke:#000000; stroke-linecap:round; stroke-linejoin:round; stroke-width:4; stroke-opacity:1; fill:none\" points=\"692.464,686.256 692.464,686.256 704.712,686.256 692.464,686.256 \"/>\n",
       "<path clip-path=\"url(#clip142)\" d=\"M704.712 686.256 L704.712 686.256 L716.96 686.256 L716.96 686.256 L704.712 686.256 L704.712 686.256  Z\" fill=\"#009af9\" fill-rule=\"evenodd\" fill-opacity=\"1\"/>\n",
       "<polyline clip-path=\"url(#clip142)\" style=\"stroke:#000000; stroke-linecap:round; stroke-linejoin:round; stroke-width:4; stroke-opacity:1; fill:none\" points=\"704.712,686.256 704.712,686.256 716.96,686.256 704.712,686.256 \"/>\n",
       "<path clip-path=\"url(#clip142)\" d=\"M716.96 686.256 L716.96 686.256 L729.207 686.256 L729.207 686.256 L716.96 686.256 L716.96 686.256  Z\" fill=\"#009af9\" fill-rule=\"evenodd\" fill-opacity=\"1\"/>\n",
       "<polyline clip-path=\"url(#clip142)\" style=\"stroke:#000000; stroke-linecap:round; stroke-linejoin:round; stroke-width:4; stroke-opacity:1; fill:none\" points=\"716.96,686.256 716.96,686.256 729.207,686.256 716.96,686.256 \"/>\n",
       "<path clip-path=\"url(#clip142)\" d=\"M729.207 686.256 L729.207 686.256 L741.455 686.256 L741.455 686.256 L729.207 686.256 L729.207 686.256  Z\" fill=\"#009af9\" fill-rule=\"evenodd\" fill-opacity=\"1\"/>\n",
       "<polyline clip-path=\"url(#clip142)\" style=\"stroke:#000000; stroke-linecap:round; stroke-linejoin:round; stroke-width:4; stroke-opacity:1; fill:none\" points=\"729.207,686.256 729.207,686.256 741.455,686.256 729.207,686.256 \"/>\n",
       "<path clip-path=\"url(#clip142)\" d=\"M741.455 675.414 L741.455 686.256 L753.702 686.256 L753.702 675.414 L741.455 675.414 L741.455 675.414  Z\" fill=\"#009af9\" fill-rule=\"evenodd\" fill-opacity=\"1\"/>\n",
       "<polyline clip-path=\"url(#clip142)\" style=\"stroke:#000000; stroke-linecap:round; stroke-linejoin:round; stroke-width:4; stroke-opacity:1; fill:none\" points=\"741.455,675.414 741.455,686.256 753.702,686.256 753.702,675.414 741.455,675.414 \"/>\n",
       "<path clip-path=\"url(#clip142)\" d=\"M753.702 686.256 L753.702 686.256 L765.95 686.256 L765.95 686.256 L753.702 686.256 L753.702 686.256  Z\" fill=\"#009af9\" fill-rule=\"evenodd\" fill-opacity=\"1\"/>\n",
       "<polyline clip-path=\"url(#clip142)\" style=\"stroke:#000000; stroke-linecap:round; stroke-linejoin:round; stroke-width:4; stroke-opacity:1; fill:none\" points=\"753.702,686.256 753.702,686.256 765.95,686.256 753.702,686.256 \"/>\n",
       "<path clip-path=\"url(#clip142)\" d=\"M765.95 686.256 L765.95 686.256 L778.197 686.256 L778.197 686.256 L765.95 686.256 L765.95 686.256  Z\" fill=\"#009af9\" fill-rule=\"evenodd\" fill-opacity=\"1\"/>\n",
       "<polyline clip-path=\"url(#clip142)\" style=\"stroke:#000000; stroke-linecap:round; stroke-linejoin:round; stroke-width:4; stroke-opacity:1; fill:none\" points=\"765.95,686.256 765.95,686.256 778.197,686.256 765.95,686.256 \"/>\n",
       "<path clip-path=\"url(#clip142)\" d=\"M778.197 678.124 L778.197 686.256 L790.445 686.256 L790.445 678.124 L778.197 678.124 L778.197 678.124  Z\" fill=\"#009af9\" fill-rule=\"evenodd\" fill-opacity=\"1\"/>\n",
       "<polyline clip-path=\"url(#clip142)\" style=\"stroke:#000000; stroke-linecap:round; stroke-linejoin:round; stroke-width:4; stroke-opacity:1; fill:none\" points=\"778.197,678.124 778.197,686.256 790.445,686.256 790.445,678.124 778.197,678.124 \"/>\n",
       "<path clip-path=\"url(#clip142)\" d=\"M790.445 686.256 L790.445 686.256 L802.693 686.256 L802.693 686.256 L790.445 686.256 L790.445 686.256  Z\" fill=\"#009af9\" fill-rule=\"evenodd\" fill-opacity=\"1\"/>\n",
       "<polyline clip-path=\"url(#clip142)\" style=\"stroke:#000000; stroke-linecap:round; stroke-linejoin:round; stroke-width:4; stroke-opacity:1; fill:none\" points=\"790.445,686.256 790.445,686.256 802.693,686.256 790.445,686.256 \"/>\n",
       "<path clip-path=\"url(#clip142)\" d=\"M802.693 686.256 L802.693 686.256 L814.94 686.256 L814.94 686.256 L802.693 686.256 L802.693 686.256  Z\" fill=\"#009af9\" fill-rule=\"evenodd\" fill-opacity=\"1\"/>\n",
       "<polyline clip-path=\"url(#clip142)\" style=\"stroke:#000000; stroke-linecap:round; stroke-linejoin:round; stroke-width:4; stroke-opacity:1; fill:none\" points=\"802.693,686.256 802.693,686.256 814.94,686.256 802.693,686.256 \"/>\n",
       "<path clip-path=\"url(#clip142)\" d=\"M814.94 686.256 L814.94 686.256 L827.188 686.256 L827.188 686.256 L814.94 686.256 L814.94 686.256  Z\" fill=\"#009af9\" fill-rule=\"evenodd\" fill-opacity=\"1\"/>\n",
       "<polyline clip-path=\"url(#clip142)\" style=\"stroke:#000000; stroke-linecap:round; stroke-linejoin:round; stroke-width:4; stroke-opacity:1; fill:none\" points=\"814.94,686.256 814.94,686.256 827.188,686.256 814.94,686.256 \"/>\n",
       "<path clip-path=\"url(#clip142)\" d=\"M827.188 680.835 L827.188 686.256 L839.435 686.256 L839.435 680.835 L827.188 680.835 L827.188 680.835  Z\" fill=\"#009af9\" fill-rule=\"evenodd\" fill-opacity=\"1\"/>\n",
       "<polyline clip-path=\"url(#clip142)\" style=\"stroke:#000000; stroke-linecap:round; stroke-linejoin:round; stroke-width:4; stroke-opacity:1; fill:none\" points=\"827.188,680.835 827.188,686.256 839.435,686.256 839.435,680.835 827.188,680.835 \"/>\n",
       "<path clip-path=\"url(#clip142)\" d=\"M839.435 686.256 L839.435 686.256 L851.683 686.256 L851.683 686.256 L839.435 686.256 L839.435 686.256  Z\" fill=\"#009af9\" fill-rule=\"evenodd\" fill-opacity=\"1\"/>\n",
       "<polyline clip-path=\"url(#clip142)\" style=\"stroke:#000000; stroke-linecap:round; stroke-linejoin:round; stroke-width:4; stroke-opacity:1; fill:none\" points=\"839.435,686.256 839.435,686.256 851.683,686.256 839.435,686.256 \"/>\n",
       "<path clip-path=\"url(#clip142)\" d=\"M851.683 686.256 L851.683 686.256 L863.93 686.256 L863.93 686.256 L851.683 686.256 L851.683 686.256  Z\" fill=\"#009af9\" fill-rule=\"evenodd\" fill-opacity=\"1\"/>\n",
       "<polyline clip-path=\"url(#clip142)\" style=\"stroke:#000000; stroke-linecap:round; stroke-linejoin:round; stroke-width:4; stroke-opacity:1; fill:none\" points=\"851.683,686.256 851.683,686.256 863.93,686.256 851.683,686.256 \"/>\n",
       "<path clip-path=\"url(#clip142)\" d=\"M863.93 669.993 L863.93 686.256 L876.178 686.256 L876.178 669.993 L863.93 669.993 L863.93 669.993  Z\" fill=\"#009af9\" fill-rule=\"evenodd\" fill-opacity=\"1\"/>\n",
       "<polyline clip-path=\"url(#clip142)\" style=\"stroke:#000000; stroke-linecap:round; stroke-linejoin:round; stroke-width:4; stroke-opacity:1; fill:none\" points=\"863.93,669.993 863.93,686.256 876.178,686.256 876.178,669.993 863.93,669.993 \"/>\n",
       "<path clip-path=\"url(#clip142)\" d=\"M876.178 686.256 L876.178 686.256 L888.426 686.256 L888.426 686.256 L876.178 686.256 L876.178 686.256  Z\" fill=\"#009af9\" fill-rule=\"evenodd\" fill-opacity=\"1\"/>\n",
       "<polyline clip-path=\"url(#clip142)\" style=\"stroke:#000000; stroke-linecap:round; stroke-linejoin:round; stroke-width:4; stroke-opacity:1; fill:none\" points=\"876.178,686.256 876.178,686.256 888.426,686.256 876.178,686.256 \"/>\n",
       "<path clip-path=\"url(#clip142)\" d=\"M888.426 686.256 L888.426 686.256 L900.673 686.256 L900.673 686.256 L888.426 686.256 L888.426 686.256  Z\" fill=\"#009af9\" fill-rule=\"evenodd\" fill-opacity=\"1\"/>\n",
       "<polyline clip-path=\"url(#clip142)\" style=\"stroke:#000000; stroke-linecap:round; stroke-linejoin:round; stroke-width:4; stroke-opacity:1; fill:none\" points=\"888.426,686.256 888.426,686.256 900.673,686.256 888.426,686.256 \"/>\n",
       "<path clip-path=\"url(#clip142)\" d=\"M900.673 686.256 L900.673 686.256 L912.921 686.256 L912.921 686.256 L900.673 686.256 L900.673 686.256  Z\" fill=\"#009af9\" fill-rule=\"evenodd\" fill-opacity=\"1\"/>\n",
       "<polyline clip-path=\"url(#clip142)\" style=\"stroke:#000000; stroke-linecap:round; stroke-linejoin:round; stroke-width:4; stroke-opacity:1; fill:none\" points=\"900.673,686.256 900.673,686.256 912.921,686.256 900.673,686.256 \"/>\n",
       "<path clip-path=\"url(#clip142)\" d=\"M912.921 686.256 L912.921 686.256 L925.168 686.256 L925.168 686.256 L912.921 686.256 L912.921 686.256  Z\" fill=\"#009af9\" fill-rule=\"evenodd\" fill-opacity=\"1\"/>\n",
       "<polyline clip-path=\"url(#clip142)\" style=\"stroke:#000000; stroke-linecap:round; stroke-linejoin:round; stroke-width:4; stroke-opacity:1; fill:none\" points=\"912.921,686.256 912.921,686.256 925.168,686.256 912.921,686.256 \"/>\n",
       "<path clip-path=\"url(#clip142)\" d=\"M925.168 686.256 L925.168 686.256 L937.416 686.256 L937.416 686.256 L925.168 686.256 L925.168 686.256  Z\" fill=\"#009af9\" fill-rule=\"evenodd\" fill-opacity=\"1\"/>\n",
       "<polyline clip-path=\"url(#clip142)\" style=\"stroke:#000000; stroke-linecap:round; stroke-linejoin:round; stroke-width:4; stroke-opacity:1; fill:none\" points=\"925.168,686.256 925.168,686.256 937.416,686.256 925.168,686.256 \"/>\n",
       "<path clip-path=\"url(#clip142)\" d=\"M937.416 686.256 L937.416 686.256 L949.663 686.256 L949.663 686.256 L937.416 686.256 L937.416 686.256  Z\" fill=\"#009af9\" fill-rule=\"evenodd\" fill-opacity=\"1\"/>\n",
       "<polyline clip-path=\"url(#clip142)\" style=\"stroke:#000000; stroke-linecap:round; stroke-linejoin:round; stroke-width:4; stroke-opacity:1; fill:none\" points=\"937.416,686.256 937.416,686.256 949.663,686.256 937.416,686.256 \"/>\n",
       "<path clip-path=\"url(#clip142)\" d=\"M949.663 686.256 L949.663 686.256 L961.911 686.256 L961.911 686.256 L949.663 686.256 L949.663 686.256  Z\" fill=\"#009af9\" fill-rule=\"evenodd\" fill-opacity=\"1\"/>\n",
       "<polyline clip-path=\"url(#clip142)\" style=\"stroke:#000000; stroke-linecap:round; stroke-linejoin:round; stroke-width:4; stroke-opacity:1; fill:none\" points=\"949.663,686.256 949.663,686.256 961.911,686.256 949.663,686.256 \"/>\n",
       "<path clip-path=\"url(#clip142)\" d=\"M961.911 686.256 L961.911 686.256 L974.159 686.256 L974.159 686.256 L961.911 686.256 L961.911 686.256  Z\" fill=\"#009af9\" fill-rule=\"evenodd\" fill-opacity=\"1\"/>\n",
       "<polyline clip-path=\"url(#clip142)\" style=\"stroke:#000000; stroke-linecap:round; stroke-linejoin:round; stroke-width:4; stroke-opacity:1; fill:none\" points=\"961.911,686.256 961.911,686.256 974.159,686.256 961.911,686.256 \"/>\n",
       "<path clip-path=\"url(#clip142)\" d=\"M974.159 686.256 L974.159 686.256 L986.406 686.256 L986.406 686.256 L974.159 686.256 L974.159 686.256  Z\" fill=\"#009af9\" fill-rule=\"evenodd\" fill-opacity=\"1\"/>\n",
       "<polyline clip-path=\"url(#clip142)\" style=\"stroke:#000000; stroke-linecap:round; stroke-linejoin:round; stroke-width:4; stroke-opacity:1; fill:none\" points=\"974.159,686.256 974.159,686.256 986.406,686.256 974.159,686.256 \"/>\n",
       "<path clip-path=\"url(#clip142)\" d=\"M986.406 686.256 L986.406 686.256 L998.654 686.256 L998.654 686.256 L986.406 686.256 L986.406 686.256  Z\" fill=\"#009af9\" fill-rule=\"evenodd\" fill-opacity=\"1\"/>\n",
       "<polyline clip-path=\"url(#clip142)\" style=\"stroke:#000000; stroke-linecap:round; stroke-linejoin:round; stroke-width:4; stroke-opacity:1; fill:none\" points=\"986.406,686.256 986.406,686.256 998.654,686.256 986.406,686.256 \"/>\n",
       "<path clip-path=\"url(#clip142)\" d=\"M998.654 686.256 L998.654 686.256 L1010.9 686.256 L1010.9 686.256 L998.654 686.256 L998.654 686.256  Z\" fill=\"#009af9\" fill-rule=\"evenodd\" fill-opacity=\"1\"/>\n",
       "<polyline clip-path=\"url(#clip142)\" style=\"stroke:#000000; stroke-linecap:round; stroke-linejoin:round; stroke-width:4; stroke-opacity:1; fill:none\" points=\"998.654,686.256 998.654,686.256 1010.9,686.256 998.654,686.256 \"/>\n",
       "<path clip-path=\"url(#clip142)\" d=\"M1010.9 686.256 L1010.9 686.256 L1023.15 686.256 L1023.15 686.256 L1010.9 686.256 L1010.9 686.256  Z\" fill=\"#009af9\" fill-rule=\"evenodd\" fill-opacity=\"1\"/>\n",
       "<polyline clip-path=\"url(#clip142)\" style=\"stroke:#000000; stroke-linecap:round; stroke-linejoin:round; stroke-width:4; stroke-opacity:1; fill:none\" points=\"1010.9,686.256 1010.9,686.256 1023.15,686.256 1010.9,686.256 \"/>\n",
       "<path clip-path=\"url(#clip142)\" d=\"M1023.15 686.256 L1023.15 686.256 L1035.4 686.256 L1035.4 686.256 L1023.15 686.256 L1023.15 686.256  Z\" fill=\"#009af9\" fill-rule=\"evenodd\" fill-opacity=\"1\"/>\n",
       "<polyline clip-path=\"url(#clip142)\" style=\"stroke:#000000; stroke-linecap:round; stroke-linejoin:round; stroke-width:4; stroke-opacity:1; fill:none\" points=\"1023.15,686.256 1023.15,686.256 1035.4,686.256 1023.15,686.256 \"/>\n",
       "<path clip-path=\"url(#clip142)\" d=\"M1035.4 686.256 L1035.4 686.256 L1047.64 686.256 L1047.64 686.256 L1035.4 686.256 L1035.4 686.256  Z\" fill=\"#009af9\" fill-rule=\"evenodd\" fill-opacity=\"1\"/>\n",
       "<polyline clip-path=\"url(#clip142)\" style=\"stroke:#000000; stroke-linecap:round; stroke-linejoin:round; stroke-width:4; stroke-opacity:1; fill:none\" points=\"1035.4,686.256 1035.4,686.256 1047.64,686.256 1035.4,686.256 \"/>\n",
       "<path clip-path=\"url(#clip142)\" d=\"M1047.64 686.256 L1047.64 686.256 L1059.89 686.256 L1059.89 686.256 L1047.64 686.256 L1047.64 686.256  Z\" fill=\"#009af9\" fill-rule=\"evenodd\" fill-opacity=\"1\"/>\n",
       "<polyline clip-path=\"url(#clip142)\" style=\"stroke:#000000; stroke-linecap:round; stroke-linejoin:round; stroke-width:4; stroke-opacity:1; fill:none\" points=\"1047.64,686.256 1047.64,686.256 1059.89,686.256 1047.64,686.256 \"/>\n",
       "<path clip-path=\"url(#clip142)\" d=\"M1059.89 686.256 L1059.89 686.256 L1072.14 686.256 L1072.14 686.256 L1059.89 686.256 L1059.89 686.256  Z\" fill=\"#009af9\" fill-rule=\"evenodd\" fill-opacity=\"1\"/>\n",
       "<polyline clip-path=\"url(#clip142)\" style=\"stroke:#000000; stroke-linecap:round; stroke-linejoin:round; stroke-width:4; stroke-opacity:1; fill:none\" points=\"1059.89,686.256 1059.89,686.256 1072.14,686.256 1059.89,686.256 \"/>\n",
       "<path clip-path=\"url(#clip142)\" d=\"M1072.14 686.256 L1072.14 686.256 L1084.39 686.256 L1084.39 686.256 L1072.14 686.256 L1072.14 686.256  Z\" fill=\"#009af9\" fill-rule=\"evenodd\" fill-opacity=\"1\"/>\n",
       "<polyline clip-path=\"url(#clip142)\" style=\"stroke:#000000; stroke-linecap:round; stroke-linejoin:round; stroke-width:4; stroke-opacity:1; fill:none\" points=\"1072.14,686.256 1072.14,686.256 1084.39,686.256 1072.14,686.256 \"/>\n",
       "<path clip-path=\"url(#clip142)\" d=\"M1084.39 686.256 L1084.39 686.256 L1096.63 686.256 L1096.63 686.256 L1084.39 686.256 L1084.39 686.256  Z\" fill=\"#009af9\" fill-rule=\"evenodd\" fill-opacity=\"1\"/>\n",
       "<polyline clip-path=\"url(#clip142)\" style=\"stroke:#000000; stroke-linecap:round; stroke-linejoin:round; stroke-width:4; stroke-opacity:1; fill:none\" points=\"1084.39,686.256 1084.39,686.256 1096.63,686.256 1084.39,686.256 \"/>\n",
       "<path clip-path=\"url(#clip142)\" d=\"M1096.63 686.256 L1096.63 686.256 L1108.88 686.256 L1108.88 686.256 L1096.63 686.256 L1096.63 686.256  Z\" fill=\"#009af9\" fill-rule=\"evenodd\" fill-opacity=\"1\"/>\n",
       "<polyline clip-path=\"url(#clip142)\" style=\"stroke:#000000; stroke-linecap:round; stroke-linejoin:round; stroke-width:4; stroke-opacity:1; fill:none\" points=\"1096.63,686.256 1096.63,686.256 1108.88,686.256 1096.63,686.256 \"/>\n",
       "<path clip-path=\"url(#clip142)\" d=\"M1108.88 686.256 L1108.88 686.256 L1121.13 686.256 L1121.13 686.256 L1108.88 686.256 L1108.88 686.256  Z\" fill=\"#009af9\" fill-rule=\"evenodd\" fill-opacity=\"1\"/>\n",
       "<polyline clip-path=\"url(#clip142)\" style=\"stroke:#000000; stroke-linecap:round; stroke-linejoin:round; stroke-width:4; stroke-opacity:1; fill:none\" points=\"1108.88,686.256 1108.88,686.256 1121.13,686.256 1108.88,686.256 \"/>\n",
       "<path clip-path=\"url(#clip142)\" d=\"M1121.13 686.256 L1121.13 686.256 L1133.38 686.256 L1133.38 686.256 L1121.13 686.256 L1121.13 686.256  Z\" fill=\"#009af9\" fill-rule=\"evenodd\" fill-opacity=\"1\"/>\n",
       "<polyline clip-path=\"url(#clip142)\" style=\"stroke:#000000; stroke-linecap:round; stroke-linejoin:round; stroke-width:4; stroke-opacity:1; fill:none\" points=\"1121.13,686.256 1121.13,686.256 1133.38,686.256 1121.13,686.256 \"/>\n",
       "<path clip-path=\"url(#clip142)\" d=\"M1133.38 686.256 L1133.38 686.256 L1145.62 686.256 L1145.62 686.256 L1133.38 686.256 L1133.38 686.256  Z\" fill=\"#009af9\" fill-rule=\"evenodd\" fill-opacity=\"1\"/>\n",
       "<polyline clip-path=\"url(#clip142)\" style=\"stroke:#000000; stroke-linecap:round; stroke-linejoin:round; stroke-width:4; stroke-opacity:1; fill:none\" points=\"1133.38,686.256 1133.38,686.256 1145.62,686.256 1133.38,686.256 \"/>\n",
       "<path clip-path=\"url(#clip142)\" d=\"M1145.62 686.256 L1145.62 686.256 L1157.87 686.256 L1157.87 686.256 L1145.62 686.256 L1145.62 686.256  Z\" fill=\"#009af9\" fill-rule=\"evenodd\" fill-opacity=\"1\"/>\n",
       "<polyline clip-path=\"url(#clip142)\" style=\"stroke:#000000; stroke-linecap:round; stroke-linejoin:round; stroke-width:4; stroke-opacity:1; fill:none\" points=\"1145.62,686.256 1145.62,686.256 1157.87,686.256 1145.62,686.256 \"/>\n",
       "<path clip-path=\"url(#clip142)\" d=\"M1157.87 686.256 L1157.87 686.256 L1170.12 686.256 L1170.12 686.256 L1157.87 686.256 L1157.87 686.256  Z\" fill=\"#009af9\" fill-rule=\"evenodd\" fill-opacity=\"1\"/>\n",
       "<polyline clip-path=\"url(#clip142)\" style=\"stroke:#000000; stroke-linecap:round; stroke-linejoin:round; stroke-width:4; stroke-opacity:1; fill:none\" points=\"1157.87,686.256 1157.87,686.256 1170.12,686.256 1157.87,686.256 \"/>\n",
       "<path clip-path=\"url(#clip142)\" d=\"M1170.12 686.256 L1170.12 686.256 L1182.37 686.256 L1182.37 686.256 L1170.12 686.256 L1170.12 686.256  Z\" fill=\"#009af9\" fill-rule=\"evenodd\" fill-opacity=\"1\"/>\n",
       "<polyline clip-path=\"url(#clip142)\" style=\"stroke:#000000; stroke-linecap:round; stroke-linejoin:round; stroke-width:4; stroke-opacity:1; fill:none\" points=\"1170.12,686.256 1170.12,686.256 1182.37,686.256 1170.12,686.256 \"/>\n",
       "<path clip-path=\"url(#clip142)\" d=\"M1182.37 686.256 L1182.37 686.256 L1194.61 686.256 L1194.61 686.256 L1182.37 686.256 L1182.37 686.256  Z\" fill=\"#009af9\" fill-rule=\"evenodd\" fill-opacity=\"1\"/>\n",
       "<polyline clip-path=\"url(#clip142)\" style=\"stroke:#000000; stroke-linecap:round; stroke-linejoin:round; stroke-width:4; stroke-opacity:1; fill:none\" points=\"1182.37,686.256 1182.37,686.256 1194.61,686.256 1182.37,686.256 \"/>\n",
       "<path clip-path=\"url(#clip142)\" d=\"M1194.61 686.256 L1194.61 686.256 L1206.86 686.256 L1206.86 686.256 L1194.61 686.256 L1194.61 686.256  Z\" fill=\"#009af9\" fill-rule=\"evenodd\" fill-opacity=\"1\"/>\n",
       "<polyline clip-path=\"url(#clip142)\" style=\"stroke:#000000; stroke-linecap:round; stroke-linejoin:round; stroke-width:4; stroke-opacity:1; fill:none\" points=\"1194.61,686.256 1194.61,686.256 1206.86,686.256 1194.61,686.256 \"/>\n",
       "<path clip-path=\"url(#clip142)\" d=\"M1206.86 686.256 L1206.86 686.256 L1219.11 686.256 L1219.11 686.256 L1206.86 686.256 L1206.86 686.256  Z\" fill=\"#009af9\" fill-rule=\"evenodd\" fill-opacity=\"1\"/>\n",
       "<polyline clip-path=\"url(#clip142)\" style=\"stroke:#000000; stroke-linecap:round; stroke-linejoin:round; stroke-width:4; stroke-opacity:1; fill:none\" points=\"1206.86,686.256 1206.86,686.256 1219.11,686.256 1206.86,686.256 \"/>\n",
       "<path clip-path=\"url(#clip142)\" d=\"M1219.11 686.256 L1219.11 686.256 L1231.36 686.256 L1231.36 686.256 L1219.11 686.256 L1219.11 686.256  Z\" fill=\"#009af9\" fill-rule=\"evenodd\" fill-opacity=\"1\"/>\n",
       "<polyline clip-path=\"url(#clip142)\" style=\"stroke:#000000; stroke-linecap:round; stroke-linejoin:round; stroke-width:4; stroke-opacity:1; fill:none\" points=\"1219.11,686.256 1219.11,686.256 1231.36,686.256 1219.11,686.256 \"/>\n",
       "<path clip-path=\"url(#clip142)\" d=\"M1231.36 686.256 L1231.36 686.256 L1243.61 686.256 L1243.61 686.256 L1231.36 686.256 L1231.36 686.256  Z\" fill=\"#009af9\" fill-rule=\"evenodd\" fill-opacity=\"1\"/>\n",
       "<polyline clip-path=\"url(#clip142)\" style=\"stroke:#000000; stroke-linecap:round; stroke-linejoin:round; stroke-width:4; stroke-opacity:1; fill:none\" points=\"1231.36,686.256 1231.36,686.256 1243.61,686.256 1231.36,686.256 \"/>\n",
       "<path clip-path=\"url(#clip142)\" d=\"M1243.61 686.256 L1243.61 686.256 L1255.85 686.256 L1255.85 686.256 L1243.61 686.256 L1243.61 686.256  Z\" fill=\"#009af9\" fill-rule=\"evenodd\" fill-opacity=\"1\"/>\n",
       "<polyline clip-path=\"url(#clip142)\" style=\"stroke:#000000; stroke-linecap:round; stroke-linejoin:round; stroke-width:4; stroke-opacity:1; fill:none\" points=\"1243.61,686.256 1243.61,686.256 1255.85,686.256 1243.61,686.256 \"/>\n",
       "<path clip-path=\"url(#clip142)\" d=\"M1255.85 686.256 L1255.85 686.256 L1268.1 686.256 L1268.1 686.256 L1255.85 686.256 L1255.85 686.256  Z\" fill=\"#009af9\" fill-rule=\"evenodd\" fill-opacity=\"1\"/>\n",
       "<polyline clip-path=\"url(#clip142)\" style=\"stroke:#000000; stroke-linecap:round; stroke-linejoin:round; stroke-width:4; stroke-opacity:1; fill:none\" points=\"1255.85,686.256 1255.85,686.256 1268.1,686.256 1255.85,686.256 \"/>\n",
       "<path clip-path=\"url(#clip142)\" d=\"M1268.1 686.256 L1268.1 686.256 L1280.35 686.256 L1280.35 686.256 L1268.1 686.256 L1268.1 686.256  Z\" fill=\"#009af9\" fill-rule=\"evenodd\" fill-opacity=\"1\"/>\n",
       "<polyline clip-path=\"url(#clip142)\" style=\"stroke:#000000; stroke-linecap:round; stroke-linejoin:round; stroke-width:4; stroke-opacity:1; fill:none\" points=\"1268.1,686.256 1268.1,686.256 1280.35,686.256 1268.1,686.256 \"/>\n",
       "<path clip-path=\"url(#clip142)\" d=\"M1280.35 686.256 L1280.35 686.256 L1292.6 686.256 L1292.6 686.256 L1280.35 686.256 L1280.35 686.256  Z\" fill=\"#009af9\" fill-rule=\"evenodd\" fill-opacity=\"1\"/>\n",
       "<polyline clip-path=\"url(#clip142)\" style=\"stroke:#000000; stroke-linecap:round; stroke-linejoin:round; stroke-width:4; stroke-opacity:1; fill:none\" points=\"1280.35,686.256 1280.35,686.256 1292.6,686.256 1280.35,686.256 \"/>\n",
       "<path clip-path=\"url(#clip142)\" d=\"M1292.6 686.256 L1292.6 686.256 L1304.84 686.256 L1304.84 686.256 L1292.6 686.256 L1292.6 686.256  Z\" fill=\"#009af9\" fill-rule=\"evenodd\" fill-opacity=\"1\"/>\n",
       "<polyline clip-path=\"url(#clip142)\" style=\"stroke:#000000; stroke-linecap:round; stroke-linejoin:round; stroke-width:4; stroke-opacity:1; fill:none\" points=\"1292.6,686.256 1292.6,686.256 1304.84,686.256 1292.6,686.256 \"/>\n",
       "<path clip-path=\"url(#clip142)\" d=\"M1304.84 686.256 L1304.84 686.256 L1317.09 686.256 L1317.09 686.256 L1304.84 686.256 L1304.84 686.256  Z\" fill=\"#009af9\" fill-rule=\"evenodd\" fill-opacity=\"1\"/>\n",
       "<polyline clip-path=\"url(#clip142)\" style=\"stroke:#000000; stroke-linecap:round; stroke-linejoin:round; stroke-width:4; stroke-opacity:1; fill:none\" points=\"1304.84,686.256 1304.84,686.256 1317.09,686.256 1304.84,686.256 \"/>\n",
       "<path clip-path=\"url(#clip142)\" d=\"M1317.09 686.256 L1317.09 686.256 L1329.34 686.256 L1329.34 686.256 L1317.09 686.256 L1317.09 686.256  Z\" fill=\"#009af9\" fill-rule=\"evenodd\" fill-opacity=\"1\"/>\n",
       "<polyline clip-path=\"url(#clip142)\" style=\"stroke:#000000; stroke-linecap:round; stroke-linejoin:round; stroke-width:4; stroke-opacity:1; fill:none\" points=\"1317.09,686.256 1317.09,686.256 1329.34,686.256 1317.09,686.256 \"/>\n",
       "<path clip-path=\"url(#clip142)\" d=\"M1329.34 686.256 L1329.34 686.256 L1341.59 686.256 L1341.59 686.256 L1329.34 686.256 L1329.34 686.256  Z\" fill=\"#009af9\" fill-rule=\"evenodd\" fill-opacity=\"1\"/>\n",
       "<polyline clip-path=\"url(#clip142)\" style=\"stroke:#000000; stroke-linecap:round; stroke-linejoin:round; stroke-width:4; stroke-opacity:1; fill:none\" points=\"1329.34,686.256 1329.34,686.256 1341.59,686.256 1329.34,686.256 \"/>\n",
       "<path clip-path=\"url(#clip142)\" d=\"M1341.59 686.256 L1341.59 686.256 L1353.83 686.256 L1353.83 686.256 L1341.59 686.256 L1341.59 686.256  Z\" fill=\"#009af9\" fill-rule=\"evenodd\" fill-opacity=\"1\"/>\n",
       "<polyline clip-path=\"url(#clip142)\" style=\"stroke:#000000; stroke-linecap:round; stroke-linejoin:round; stroke-width:4; stroke-opacity:1; fill:none\" points=\"1341.59,686.256 1341.59,686.256 1353.83,686.256 1341.59,686.256 \"/>\n",
       "<path clip-path=\"url(#clip142)\" d=\"M1353.83 686.256 L1353.83 686.256 L1366.08 686.256 L1366.08 686.256 L1353.83 686.256 L1353.83 686.256  Z\" fill=\"#009af9\" fill-rule=\"evenodd\" fill-opacity=\"1\"/>\n",
       "<polyline clip-path=\"url(#clip142)\" style=\"stroke:#000000; stroke-linecap:round; stroke-linejoin:round; stroke-width:4; stroke-opacity:1; fill:none\" points=\"1353.83,686.256 1353.83,686.256 1366.08,686.256 1353.83,686.256 \"/>\n",
       "<path clip-path=\"url(#clip142)\" d=\"M1366.08 686.256 L1366.08 686.256 L1378.33 686.256 L1378.33 686.256 L1366.08 686.256 L1366.08 686.256  Z\" fill=\"#009af9\" fill-rule=\"evenodd\" fill-opacity=\"1\"/>\n",
       "<polyline clip-path=\"url(#clip142)\" style=\"stroke:#000000; stroke-linecap:round; stroke-linejoin:round; stroke-width:4; stroke-opacity:1; fill:none\" points=\"1366.08,686.256 1366.08,686.256 1378.33,686.256 1366.08,686.256 \"/>\n",
       "<path clip-path=\"url(#clip142)\" d=\"M1378.33 686.256 L1378.33 686.256 L1390.58 686.256 L1390.58 686.256 L1378.33 686.256 L1378.33 686.256  Z\" fill=\"#009af9\" fill-rule=\"evenodd\" fill-opacity=\"1\"/>\n",
       "<polyline clip-path=\"url(#clip142)\" style=\"stroke:#000000; stroke-linecap:round; stroke-linejoin:round; stroke-width:4; stroke-opacity:1; fill:none\" points=\"1378.33,686.256 1378.33,686.256 1390.58,686.256 1378.33,686.256 \"/>\n",
       "<path clip-path=\"url(#clip142)\" d=\"M1390.58 686.256 L1390.58 686.256 L1402.82 686.256 L1402.82 686.256 L1390.58 686.256 L1390.58 686.256  Z\" fill=\"#009af9\" fill-rule=\"evenodd\" fill-opacity=\"1\"/>\n",
       "<polyline clip-path=\"url(#clip142)\" style=\"stroke:#000000; stroke-linecap:round; stroke-linejoin:round; stroke-width:4; stroke-opacity:1; fill:none\" points=\"1390.58,686.256 1390.58,686.256 1402.82,686.256 1390.58,686.256 \"/>\n",
       "<path clip-path=\"url(#clip142)\" d=\"M1402.82 686.256 L1402.82 686.256 L1415.07 686.256 L1415.07 686.256 L1402.82 686.256 L1402.82 686.256  Z\" fill=\"#009af9\" fill-rule=\"evenodd\" fill-opacity=\"1\"/>\n",
       "<polyline clip-path=\"url(#clip142)\" style=\"stroke:#000000; stroke-linecap:round; stroke-linejoin:round; stroke-width:4; stroke-opacity:1; fill:none\" points=\"1402.82,686.256 1402.82,686.256 1415.07,686.256 1402.82,686.256 \"/>\n",
       "<path clip-path=\"url(#clip142)\" d=\"M1415.07 686.256 L1415.07 686.256 L1427.32 686.256 L1427.32 686.256 L1415.07 686.256 L1415.07 686.256  Z\" fill=\"#009af9\" fill-rule=\"evenodd\" fill-opacity=\"1\"/>\n",
       "<polyline clip-path=\"url(#clip142)\" style=\"stroke:#000000; stroke-linecap:round; stroke-linejoin:round; stroke-width:4; stroke-opacity:1; fill:none\" points=\"1415.07,686.256 1415.07,686.256 1427.32,686.256 1415.07,686.256 \"/>\n",
       "<path clip-path=\"url(#clip142)\" d=\"M1427.32 686.256 L1427.32 686.256 L1439.57 686.256 L1439.57 686.256 L1427.32 686.256 L1427.32 686.256  Z\" fill=\"#009af9\" fill-rule=\"evenodd\" fill-opacity=\"1\"/>\n",
       "<polyline clip-path=\"url(#clip142)\" style=\"stroke:#000000; stroke-linecap:round; stroke-linejoin:round; stroke-width:4; stroke-opacity:1; fill:none\" points=\"1427.32,686.256 1427.32,686.256 1439.57,686.256 1427.32,686.256 \"/>\n",
       "<path clip-path=\"url(#clip142)\" d=\"M1439.57 686.256 L1439.57 686.256 L1451.81 686.256 L1451.81 686.256 L1439.57 686.256 L1439.57 686.256  Z\" fill=\"#009af9\" fill-rule=\"evenodd\" fill-opacity=\"1\"/>\n",
       "<polyline clip-path=\"url(#clip142)\" style=\"stroke:#000000; stroke-linecap:round; stroke-linejoin:round; stroke-width:4; stroke-opacity:1; fill:none\" points=\"1439.57,686.256 1439.57,686.256 1451.81,686.256 1439.57,686.256 \"/>\n",
       "<path clip-path=\"url(#clip142)\" d=\"M1451.81 686.256 L1451.81 686.256 L1464.06 686.256 L1464.06 686.256 L1451.81 686.256 L1451.81 686.256  Z\" fill=\"#009af9\" fill-rule=\"evenodd\" fill-opacity=\"1\"/>\n",
       "<polyline clip-path=\"url(#clip142)\" style=\"stroke:#000000; stroke-linecap:round; stroke-linejoin:round; stroke-width:4; stroke-opacity:1; fill:none\" points=\"1451.81,686.256 1451.81,686.256 1464.06,686.256 1451.81,686.256 \"/>\n",
       "<path clip-path=\"url(#clip142)\" d=\"M1464.06 678.124 L1464.06 686.256 L1476.31 686.256 L1476.31 678.124 L1464.06 678.124 L1464.06 678.124  Z\" fill=\"#009af9\" fill-rule=\"evenodd\" fill-opacity=\"1\"/>\n",
       "<polyline clip-path=\"url(#clip142)\" style=\"stroke:#000000; stroke-linecap:round; stroke-linejoin:round; stroke-width:4; stroke-opacity:1; fill:none\" points=\"1464.06,678.124 1464.06,686.256 1476.31,686.256 1476.31,678.124 1464.06,678.124 \"/>\n",
       "<circle clip-path=\"url(#clip142)\" style=\"fill:#009af9; stroke:none; fill-opacity:0\" cx=\"245.428\" cy=\"667.282\" r=\"2\"/>\n",
       "<circle clip-path=\"url(#clip142)\" style=\"fill:#009af9; stroke:none; fill-opacity:0\" cx=\"257.676\" cy=\"125.184\" r=\"2\"/>\n",
       "<circle clip-path=\"url(#clip142)\" style=\"fill:#009af9; stroke:none; fill-opacity:0\" cx=\"269.923\" cy=\"358.286\" r=\"2\"/>\n",
       "<circle clip-path=\"url(#clip142)\" style=\"fill:#009af9; stroke:none; fill-opacity:0\" cx=\"282.171\" cy=\"539.889\" r=\"2\"/>\n",
       "<circle clip-path=\"url(#clip142)\" style=\"fill:#009af9; stroke:none; fill-opacity:0\" cx=\"294.418\" cy=\"594.099\" r=\"2\"/>\n",
       "<circle clip-path=\"url(#clip142)\" style=\"fill:#009af9; stroke:none; fill-opacity:0\" cx=\"306.666\" cy=\"466.706\" r=\"2\"/>\n",
       "<circle clip-path=\"url(#clip142)\" style=\"fill:#009af9; stroke:none; fill-opacity:0\" cx=\"318.914\" cy=\"583.257\" r=\"2\"/>\n",
       "<circle clip-path=\"url(#clip142)\" style=\"fill:#009af9; stroke:none; fill-opacity:0\" cx=\"331.161\" cy=\"632.046\" r=\"2\"/>\n",
       "<circle clip-path=\"url(#clip142)\" style=\"fill:#009af9; stroke:none; fill-opacity:0\" cx=\"343.409\" cy=\"675.414\" r=\"2\"/>\n",
       "<circle clip-path=\"url(#clip142)\" style=\"fill:#009af9; stroke:none; fill-opacity:0\" cx=\"355.656\" cy=\"659.151\" r=\"2\"/>\n",
       "<circle clip-path=\"url(#clip142)\" style=\"fill:#009af9; stroke:none; fill-opacity:0\" cx=\"367.904\" cy=\"640.177\" r=\"2\"/>\n",
       "<circle clip-path=\"url(#clip142)\" style=\"fill:#009af9; stroke:none; fill-opacity:0\" cx=\"380.151\" cy=\"648.309\" r=\"2\"/>\n",
       "<circle clip-path=\"url(#clip142)\" style=\"fill:#009af9; stroke:none; fill-opacity:0\" cx=\"392.399\" cy=\"669.993\" r=\"2\"/>\n",
       "<circle clip-path=\"url(#clip142)\" style=\"fill:#009af9; stroke:none; fill-opacity:0\" cx=\"404.647\" cy=\"675.414\" r=\"2\"/>\n",
       "<circle clip-path=\"url(#clip142)\" style=\"fill:#009af9; stroke:none; fill-opacity:0\" cx=\"416.894\" cy=\"661.861\" r=\"2\"/>\n",
       "<circle clip-path=\"url(#clip142)\" style=\"fill:#009af9; stroke:none; fill-opacity:0\" cx=\"429.142\" cy=\"629.335\" r=\"2\"/>\n",
       "<circle clip-path=\"url(#clip142)\" style=\"fill:#009af9; stroke:none; fill-opacity:0\" cx=\"441.389\" cy=\"667.282\" r=\"2\"/>\n",
       "<circle clip-path=\"url(#clip142)\" style=\"fill:#009af9; stroke:none; fill-opacity:0\" cx=\"453.637\" cy=\"659.151\" r=\"2\"/>\n",
       "<circle clip-path=\"url(#clip142)\" style=\"fill:#009af9; stroke:none; fill-opacity:0\" cx=\"465.884\" cy=\"680.835\" r=\"2\"/>\n",
       "<circle clip-path=\"url(#clip142)\" style=\"fill:#009af9; stroke:none; fill-opacity:0\" cx=\"478.132\" cy=\"686.256\" r=\"2\"/>\n",
       "<circle clip-path=\"url(#clip142)\" style=\"fill:#009af9; stroke:none; fill-opacity:0\" cx=\"490.38\" cy=\"680.835\" r=\"2\"/>\n",
       "<circle clip-path=\"url(#clip142)\" style=\"fill:#009af9; stroke:none; fill-opacity:0\" cx=\"502.627\" cy=\"672.703\" r=\"2\"/>\n",
       "<circle clip-path=\"url(#clip142)\" style=\"fill:#009af9; stroke:none; fill-opacity:0\" cx=\"514.875\" cy=\"678.124\" r=\"2\"/>\n",
       "<circle clip-path=\"url(#clip142)\" style=\"fill:#009af9; stroke:none; fill-opacity:0\" cx=\"527.122\" cy=\"675.414\" r=\"2\"/>\n",
       "<circle clip-path=\"url(#clip142)\" style=\"fill:#009af9; stroke:none; fill-opacity:0\" cx=\"539.37\" cy=\"686.256\" r=\"2\"/>\n",
       "<circle clip-path=\"url(#clip142)\" style=\"fill:#009af9; stroke:none; fill-opacity:0\" cx=\"551.617\" cy=\"686.256\" r=\"2\"/>\n",
       "<circle clip-path=\"url(#clip142)\" style=\"fill:#009af9; stroke:none; fill-opacity:0\" cx=\"563.865\" cy=\"669.993\" r=\"2\"/>\n",
       "<circle clip-path=\"url(#clip142)\" style=\"fill:#009af9; stroke:none; fill-opacity:0\" cx=\"576.113\" cy=\"686.256\" r=\"2\"/>\n",
       "<circle clip-path=\"url(#clip142)\" style=\"fill:#009af9; stroke:none; fill-opacity:0\" cx=\"588.36\" cy=\"683.545\" r=\"2\"/>\n",
       "<circle clip-path=\"url(#clip142)\" style=\"fill:#009af9; stroke:none; fill-opacity:0\" cx=\"600.608\" cy=\"675.414\" r=\"2\"/>\n",
       "<circle clip-path=\"url(#clip142)\" style=\"fill:#009af9; stroke:none; fill-opacity:0\" cx=\"612.855\" cy=\"678.124\" r=\"2\"/>\n",
       "<circle clip-path=\"url(#clip142)\" style=\"fill:#009af9; stroke:none; fill-opacity:0\" cx=\"625.103\" cy=\"686.256\" r=\"2\"/>\n",
       "<circle clip-path=\"url(#clip142)\" style=\"fill:#009af9; stroke:none; fill-opacity:0\" cx=\"637.35\" cy=\"680.835\" r=\"2\"/>\n",
       "<circle clip-path=\"url(#clip142)\" style=\"fill:#009af9; stroke:none; fill-opacity:0\" cx=\"649.598\" cy=\"686.256\" r=\"2\"/>\n",
       "<circle clip-path=\"url(#clip142)\" style=\"fill:#009af9; stroke:none; fill-opacity:0\" cx=\"661.846\" cy=\"686.256\" r=\"2\"/>\n",
       "<circle clip-path=\"url(#clip142)\" style=\"fill:#009af9; stroke:none; fill-opacity:0\" cx=\"674.093\" cy=\"686.256\" r=\"2\"/>\n",
       "<circle clip-path=\"url(#clip142)\" style=\"fill:#009af9; stroke:none; fill-opacity:0\" cx=\"686.341\" cy=\"686.256\" r=\"2\"/>\n",
       "<circle clip-path=\"url(#clip142)\" style=\"fill:#009af9; stroke:none; fill-opacity:0\" cx=\"698.588\" cy=\"686.256\" r=\"2\"/>\n",
       "<circle clip-path=\"url(#clip142)\" style=\"fill:#009af9; stroke:none; fill-opacity:0\" cx=\"710.836\" cy=\"686.256\" r=\"2\"/>\n",
       "<circle clip-path=\"url(#clip142)\" style=\"fill:#009af9; stroke:none; fill-opacity:0\" cx=\"723.083\" cy=\"686.256\" r=\"2\"/>\n",
       "<circle clip-path=\"url(#clip142)\" style=\"fill:#009af9; stroke:none; fill-opacity:0\" cx=\"735.331\" cy=\"686.256\" r=\"2\"/>\n",
       "<circle clip-path=\"url(#clip142)\" style=\"fill:#009af9; stroke:none; fill-opacity:0\" cx=\"747.579\" cy=\"675.414\" r=\"2\"/>\n",
       "<circle clip-path=\"url(#clip142)\" style=\"fill:#009af9; stroke:none; fill-opacity:0\" cx=\"759.826\" cy=\"686.256\" r=\"2\"/>\n",
       "<circle clip-path=\"url(#clip142)\" style=\"fill:#009af9; stroke:none; fill-opacity:0\" cx=\"772.074\" cy=\"686.256\" r=\"2\"/>\n",
       "<circle clip-path=\"url(#clip142)\" style=\"fill:#009af9; stroke:none; fill-opacity:0\" cx=\"784.321\" cy=\"678.124\" r=\"2\"/>\n",
       "<circle clip-path=\"url(#clip142)\" style=\"fill:#009af9; stroke:none; fill-opacity:0\" cx=\"796.569\" cy=\"686.256\" r=\"2\"/>\n",
       "<circle clip-path=\"url(#clip142)\" style=\"fill:#009af9; stroke:none; fill-opacity:0\" cx=\"808.816\" cy=\"686.256\" r=\"2\"/>\n",
       "<circle clip-path=\"url(#clip142)\" style=\"fill:#009af9; stroke:none; fill-opacity:0\" cx=\"821.064\" cy=\"686.256\" r=\"2\"/>\n",
       "<circle clip-path=\"url(#clip142)\" style=\"fill:#009af9; stroke:none; fill-opacity:0\" cx=\"833.312\" cy=\"680.835\" r=\"2\"/>\n",
       "<circle clip-path=\"url(#clip142)\" style=\"fill:#009af9; stroke:none; fill-opacity:0\" cx=\"845.559\" cy=\"686.256\" r=\"2\"/>\n",
       "<circle clip-path=\"url(#clip142)\" style=\"fill:#009af9; stroke:none; fill-opacity:0\" cx=\"857.807\" cy=\"686.256\" r=\"2\"/>\n",
       "<circle clip-path=\"url(#clip142)\" style=\"fill:#009af9; stroke:none; fill-opacity:0\" cx=\"870.054\" cy=\"669.993\" r=\"2\"/>\n",
       "<circle clip-path=\"url(#clip142)\" style=\"fill:#009af9; stroke:none; fill-opacity:0\" cx=\"882.302\" cy=\"686.256\" r=\"2\"/>\n",
       "<circle clip-path=\"url(#clip142)\" style=\"fill:#009af9; stroke:none; fill-opacity:0\" cx=\"894.549\" cy=\"686.256\" r=\"2\"/>\n",
       "<circle clip-path=\"url(#clip142)\" style=\"fill:#009af9; stroke:none; fill-opacity:0\" cx=\"906.797\" cy=\"686.256\" r=\"2\"/>\n",
       "<circle clip-path=\"url(#clip142)\" style=\"fill:#009af9; stroke:none; fill-opacity:0\" cx=\"919.045\" cy=\"686.256\" r=\"2\"/>\n",
       "<circle clip-path=\"url(#clip142)\" style=\"fill:#009af9; stroke:none; fill-opacity:0\" cx=\"931.292\" cy=\"686.256\" r=\"2\"/>\n",
       "<circle clip-path=\"url(#clip142)\" style=\"fill:#009af9; stroke:none; fill-opacity:0\" cx=\"943.54\" cy=\"686.256\" r=\"2\"/>\n",
       "<circle clip-path=\"url(#clip142)\" style=\"fill:#009af9; stroke:none; fill-opacity:0\" cx=\"955.787\" cy=\"686.256\" r=\"2\"/>\n",
       "<circle clip-path=\"url(#clip142)\" style=\"fill:#009af9; stroke:none; fill-opacity:0\" cx=\"968.035\" cy=\"686.256\" r=\"2\"/>\n",
       "<circle clip-path=\"url(#clip142)\" style=\"fill:#009af9; stroke:none; fill-opacity:0\" cx=\"980.282\" cy=\"686.256\" r=\"2\"/>\n",
       "<circle clip-path=\"url(#clip142)\" style=\"fill:#009af9; stroke:none; fill-opacity:0\" cx=\"992.53\" cy=\"686.256\" r=\"2\"/>\n",
       "<circle clip-path=\"url(#clip142)\" style=\"fill:#009af9; stroke:none; fill-opacity:0\" cx=\"1004.78\" cy=\"686.256\" r=\"2\"/>\n",
       "<circle clip-path=\"url(#clip142)\" style=\"fill:#009af9; stroke:none; fill-opacity:0\" cx=\"1017.03\" cy=\"686.256\" r=\"2\"/>\n",
       "<circle clip-path=\"url(#clip142)\" style=\"fill:#009af9; stroke:none; fill-opacity:0\" cx=\"1029.27\" cy=\"686.256\" r=\"2\"/>\n",
       "<circle clip-path=\"url(#clip142)\" style=\"fill:#009af9; stroke:none; fill-opacity:0\" cx=\"1041.52\" cy=\"686.256\" r=\"2\"/>\n",
       "<circle clip-path=\"url(#clip142)\" style=\"fill:#009af9; stroke:none; fill-opacity:0\" cx=\"1053.77\" cy=\"686.256\" r=\"2\"/>\n",
       "<circle clip-path=\"url(#clip142)\" style=\"fill:#009af9; stroke:none; fill-opacity:0\" cx=\"1066.02\" cy=\"686.256\" r=\"2\"/>\n",
       "<circle clip-path=\"url(#clip142)\" style=\"fill:#009af9; stroke:none; fill-opacity:0\" cx=\"1078.26\" cy=\"686.256\" r=\"2\"/>\n",
       "<circle clip-path=\"url(#clip142)\" style=\"fill:#009af9; stroke:none; fill-opacity:0\" cx=\"1090.51\" cy=\"686.256\" r=\"2\"/>\n",
       "<circle clip-path=\"url(#clip142)\" style=\"fill:#009af9; stroke:none; fill-opacity:0\" cx=\"1102.76\" cy=\"686.256\" r=\"2\"/>\n",
       "<circle clip-path=\"url(#clip142)\" style=\"fill:#009af9; stroke:none; fill-opacity:0\" cx=\"1115.01\" cy=\"686.256\" r=\"2\"/>\n",
       "<circle clip-path=\"url(#clip142)\" style=\"fill:#009af9; stroke:none; fill-opacity:0\" cx=\"1127.25\" cy=\"686.256\" r=\"2\"/>\n",
       "<circle clip-path=\"url(#clip142)\" style=\"fill:#009af9; stroke:none; fill-opacity:0\" cx=\"1139.5\" cy=\"686.256\" r=\"2\"/>\n",
       "<circle clip-path=\"url(#clip142)\" style=\"fill:#009af9; stroke:none; fill-opacity:0\" cx=\"1151.75\" cy=\"686.256\" r=\"2\"/>\n",
       "<circle clip-path=\"url(#clip142)\" style=\"fill:#009af9; stroke:none; fill-opacity:0\" cx=\"1164\" cy=\"686.256\" r=\"2\"/>\n",
       "<circle clip-path=\"url(#clip142)\" style=\"fill:#009af9; stroke:none; fill-opacity:0\" cx=\"1176.24\" cy=\"686.256\" r=\"2\"/>\n",
       "<circle clip-path=\"url(#clip142)\" style=\"fill:#009af9; stroke:none; fill-opacity:0\" cx=\"1188.49\" cy=\"686.256\" r=\"2\"/>\n",
       "<circle clip-path=\"url(#clip142)\" style=\"fill:#009af9; stroke:none; fill-opacity:0\" cx=\"1200.74\" cy=\"686.256\" r=\"2\"/>\n",
       "<circle clip-path=\"url(#clip142)\" style=\"fill:#009af9; stroke:none; fill-opacity:0\" cx=\"1212.99\" cy=\"686.256\" r=\"2\"/>\n",
       "<circle clip-path=\"url(#clip142)\" style=\"fill:#009af9; stroke:none; fill-opacity:0\" cx=\"1225.23\" cy=\"686.256\" r=\"2\"/>\n",
       "<circle clip-path=\"url(#clip142)\" style=\"fill:#009af9; stroke:none; fill-opacity:0\" cx=\"1237.48\" cy=\"686.256\" r=\"2\"/>\n",
       "<circle clip-path=\"url(#clip142)\" style=\"fill:#009af9; stroke:none; fill-opacity:0\" cx=\"1249.73\" cy=\"686.256\" r=\"2\"/>\n",
       "<circle clip-path=\"url(#clip142)\" style=\"fill:#009af9; stroke:none; fill-opacity:0\" cx=\"1261.98\" cy=\"686.256\" r=\"2\"/>\n",
       "<circle clip-path=\"url(#clip142)\" style=\"fill:#009af9; stroke:none; fill-opacity:0\" cx=\"1274.22\" cy=\"686.256\" r=\"2\"/>\n",
       "<circle clip-path=\"url(#clip142)\" style=\"fill:#009af9; stroke:none; fill-opacity:0\" cx=\"1286.47\" cy=\"686.256\" r=\"2\"/>\n",
       "<circle clip-path=\"url(#clip142)\" style=\"fill:#009af9; stroke:none; fill-opacity:0\" cx=\"1298.72\" cy=\"686.256\" r=\"2\"/>\n",
       "<circle clip-path=\"url(#clip142)\" style=\"fill:#009af9; stroke:none; fill-opacity:0\" cx=\"1310.97\" cy=\"686.256\" r=\"2\"/>\n",
       "<circle clip-path=\"url(#clip142)\" style=\"fill:#009af9; stroke:none; fill-opacity:0\" cx=\"1323.21\" cy=\"686.256\" r=\"2\"/>\n",
       "<circle clip-path=\"url(#clip142)\" style=\"fill:#009af9; stroke:none; fill-opacity:0\" cx=\"1335.46\" cy=\"686.256\" r=\"2\"/>\n",
       "<circle clip-path=\"url(#clip142)\" style=\"fill:#009af9; stroke:none; fill-opacity:0\" cx=\"1347.71\" cy=\"686.256\" r=\"2\"/>\n",
       "<circle clip-path=\"url(#clip142)\" style=\"fill:#009af9; stroke:none; fill-opacity:0\" cx=\"1359.96\" cy=\"686.256\" r=\"2\"/>\n",
       "<circle clip-path=\"url(#clip142)\" style=\"fill:#009af9; stroke:none; fill-opacity:0\" cx=\"1372.2\" cy=\"686.256\" r=\"2\"/>\n",
       "<circle clip-path=\"url(#clip142)\" style=\"fill:#009af9; stroke:none; fill-opacity:0\" cx=\"1384.45\" cy=\"686.256\" r=\"2\"/>\n",
       "<circle clip-path=\"url(#clip142)\" style=\"fill:#009af9; stroke:none; fill-opacity:0\" cx=\"1396.7\" cy=\"686.256\" r=\"2\"/>\n",
       "<circle clip-path=\"url(#clip142)\" style=\"fill:#009af9; stroke:none; fill-opacity:0\" cx=\"1408.95\" cy=\"686.256\" r=\"2\"/>\n",
       "<circle clip-path=\"url(#clip142)\" style=\"fill:#009af9; stroke:none; fill-opacity:0\" cx=\"1421.19\" cy=\"686.256\" r=\"2\"/>\n",
       "<circle clip-path=\"url(#clip142)\" style=\"fill:#009af9; stroke:none; fill-opacity:0\" cx=\"1433.44\" cy=\"686.256\" r=\"2\"/>\n",
       "<circle clip-path=\"url(#clip142)\" style=\"fill:#009af9; stroke:none; fill-opacity:0\" cx=\"1445.69\" cy=\"686.256\" r=\"2\"/>\n",
       "<circle clip-path=\"url(#clip142)\" style=\"fill:#009af9; stroke:none; fill-opacity:0\" cx=\"1457.94\" cy=\"686.256\" r=\"2\"/>\n",
       "<circle clip-path=\"url(#clip142)\" style=\"fill:#009af9; stroke:none; fill-opacity:0\" cx=\"1470.19\" cy=\"678.124\" r=\"2\"/>\n",
       "</svg>\n"
      ]
     },
     "execution_count": 49,
     "metadata": {},
     "output_type": "execute_result"
    }
   ],
   "source": [
    "plot( diffs , seriestype=\"histogram\" , title=\"histogram of the errors\" , size=(400,200) , legend=false )"
   ]
  },
  {
   "cell_type": "code",
   "execution_count": null,
   "metadata": {},
   "outputs": [],
   "source": []
  },
  {
   "cell_type": "code",
   "execution_count": 43,
   "metadata": {},
   "outputs": [
    {
     "data": {
      "text/plain": [
       "StatsModels.TableRegressionModel{GeneralizedLinearModel{GLM.GlmResp{Vector{Float64}, Binomial{Float64}, ProbitLink}, GLM.DensePredChol{Float64, LinearAlgebra.CholeskyPivoted{Float64, Matrix{Float64}, Vector{Int64}}}}, Matrix{Float64}}\n",
       "\n",
       "Survived ~ 1 + Age + Fare\n",
       "\n",
       "Coefficients:\n",
       "───────────────────────────────────────────────────────────────────────────────\n",
       "                   Coef.  Std. Error      z  Pr(>|z|)    Lower 95%    Upper 95%\n",
       "───────────────────────────────────────────────────────────────────────────────\n",
       "(Intercept)  -0.246053    0.113674    -2.16    0.0304  -0.46885     -0.0232552\n",
       "Age          -0.0102863   0.0034205   -3.01    0.0026  -0.0169904   -0.00358223\n",
       "Fare          0.00933569  0.00142315   6.56    <1e-10   0.00654637   0.012125\n",
       "───────────────────────────────────────────────────────────────────────────────"
      ]
     },
     "execution_count": 43,
     "metadata": {},
     "output_type": "execute_result"
    }
   ],
   "source": [
    "lr_titanic = glm( @formula( Survived ~ Age + Fare ) , df_titanic , Binomial() , ProbitLink() )"
   ]
  },
  {
   "cell_type": "code",
   "execution_count": 44,
   "metadata": {},
   "outputs": [
    {
     "data": {
      "text/plain": [
       "3-element Vector{Union{Missing, Float64}}:\n",
       " 0.36708639460306935\n",
       " 0.3600138384275724\n",
       " 0.6476291162411383"
      ]
     },
     "execution_count": 44,
     "metadata": {},
     "output_type": "execute_result"
    }
   ],
   "source": [
    "predict( lr_titanic , DataFrame( Age = [10,20,30] , Fare = [1,10,100] ) ) "
   ]
  },
  {
   "cell_type": "code",
   "execution_count": null,
   "metadata": {},
   "outputs": [],
   "source": []
  },
  {
   "cell_type": "code",
   "execution_count": null,
   "metadata": {},
   "outputs": [],
   "source": []
  },
  {
   "cell_type": "code",
   "execution_count": 98,
   "metadata": {},
   "outputs": [
    {
     "data": {
      "text/plain": [
       "5-element Vector{String}:\n",
       " \"Survived\"\n",
       " \"Pclass\"\n",
       " \"Sex\"\n",
       " \"Age\"\n",
       " \"Fare\""
      ]
     },
     "execution_count": 98,
     "metadata": {},
     "output_type": "execute_result"
    }
   ],
   "source": [
    "names( df_titanic )"
   ]
  },
  {
   "cell_type": "code",
   "execution_count": 102,
   "metadata": {},
   "outputs": [
    {
     "data": {
      "text/plain": [
       "Decision Tree\n",
       "Leaves: 130\n",
       "Depth:  14"
      ]
     },
     "execution_count": 102,
     "metadata": {},
     "output_type": "execute_result"
    }
   ],
   "source": [
    "m_dt1 = build_tree( df_titanic[:,\"Survived\"] , Matrix( df_titanic[:,[\"Pclass\",\"Age\"]] ) )"
   ]
  },
  {
   "cell_type": "code",
   "execution_count": 114,
   "metadata": {},
   "outputs": [
    {
     "name": "stdout",
     "output_type": "stream",
     "text": [
      "Feature 1 < 2.5 ?\n",
      "├─ Feature 2 < 17.5 ?\n",
      "    ├─ Feature 2 < 15.5 ?\n",
      "        ├─ \n",
      "        └─ \n",
      "    └─ Feature 1 < 1.5 ?\n",
      "        ├─ \n",
      "        └─ \n",
      "└─ Feature 2 < 6.5 ?\n",
      "    ├─ Feature 2 < 0.875 ?\n",
      "        ├─ 1 : 3/3\n",
      "        └─ \n",
      "    └─ Feature 2 < 32.5 ?\n",
      "        ├─ \n",
      "        └─ \n"
     ]
    }
   ],
   "source": [
    "print_tree( m_dt1 , 3 ) #print up to depth"
   ]
  },
  {
   "cell_type": "code",
   "execution_count": 105,
   "metadata": {},
   "outputs": [
    {
     "data": {
      "text/plain": [
       "5-element Vector{Int64}:\n",
       " 0\n",
       " 1\n",
       " 0\n",
       " 1\n",
       " 0"
      ]
     },
     "execution_count": 105,
     "metadata": {},
     "output_type": "execute_result"
    }
   ],
   "source": [
    "apply_tree( m_dt1 , Matrix( df_titanic[1:5,[\"Pclass\",\"Age\"]] ) )"
   ]
  },
  {
   "cell_type": "code",
   "execution_count": 113,
   "metadata": {},
   "outputs": [
    {
     "data": {
      "text/plain": [
       "5×2 Matrix{Float64}:\n",
       " 0.75      0.25\n",
       " 0.333333  0.666667\n",
       " 0.714286  0.285714\n",
       " 0.0       1.0\n",
       " 0.833333  0.166667"
      ]
     },
     "execution_count": 113,
     "metadata": {},
     "output_type": "execute_result"
    }
   ],
   "source": [
    "apply_tree_proba( m_dt1 , Matrix( df_titanic[1:5,[\"Pclass\",\"Age\"]] ) , [0,1] )"
   ]
  },
  {
   "cell_type": "code",
   "execution_count": 120,
   "metadata": {},
   "outputs": [],
   "source": [
    "predictions_survived = apply_tree( m_dt1 , Matrix( df_titanic[:,[\"Pclass\",\"Age\"]] ) );"
   ]
  },
  {
   "cell_type": "code",
   "execution_count": 112,
   "metadata": {},
   "outputs": [
    {
     "data": {
      "text/plain": [
       "2×2 Matrix{Int64}:\n",
       " 375   49\n",
       " 105  185"
      ]
     },
     "metadata": {},
     "output_type": "display_data"
    },
    {
     "data": {
      "text/plain": [
       "Classes:  [0, 1]\n",
       "Matrix:   \n",
       "Accuracy: 0.7843137254901961\n",
       "Kappa:    0.5388061203946044"
      ]
     },
     "execution_count": 112,
     "metadata": {},
     "output_type": "execute_result"
    }
   ],
   "source": [
    "DecisionTree.confusion_matrix( df_titanic[:,\"Survived\"] , predictions_survived )"
   ]
  },
  {
   "cell_type": "code",
   "execution_count": 127,
   "metadata": {},
   "outputs": [
    {
     "data": {
      "text/plain": [
       "Decision Tree\n",
       "Leaves: 15\n",
       "Depth:  4"
      ]
     },
     "execution_count": 127,
     "metadata": {},
     "output_type": "execute_result"
    }
   ],
   "source": [
    "n_subfeatures=0; max_depth=4; min_samples_leaf=1; min_samples_split=2\n",
    "min_purity_increase=0.0; pruning_purity = 1.0; seed=3\n",
    "\n",
    "m_dt2 = build_tree( df_titanic[:,\"Survived\"] , Matrix( df_titanic[:,[\"Pclass\",\"Age\"]] ) ,\n",
    "                        n_subfeatures,\n",
    "                        max_depth,\n",
    "                        min_samples_leaf,\n",
    "                        min_samples_split,\n",
    "                        min_purity_increase;\n",
    "                        rng = seed)"
   ]
  },
  {
   "cell_type": "code",
   "execution_count": 128,
   "metadata": {},
   "outputs": [
    {
     "data": {
      "text/plain": [
       "2×2 Matrix{Int64}:\n",
       " 390   34\n",
       " 168  122"
      ]
     },
     "metadata": {},
     "output_type": "display_data"
    },
    {
     "data": {
      "text/plain": [
       "Classes:  [0, 1]\n",
       "Matrix:   \n",
       "Accuracy: 0.7170868347338936\n",
       "Kappa:    0.36732115597199566"
      ]
     },
     "execution_count": 128,
     "metadata": {},
     "output_type": "execute_result"
    }
   ],
   "source": [
    "predictions_survived_2 = apply_tree( m_dt2 , Matrix( df_titanic[:,[\"Pclass\",\"Age\"]] ) );\n",
    "DecisionTree.confusion_matrix( df_titanic[:,\"Survived\"] , predictions_survived_2 )"
   ]
  },
  {
   "cell_type": "code",
   "execution_count": null,
   "metadata": {},
   "outputs": [],
   "source": []
  },
  {
   "cell_type": "code",
   "execution_count": null,
   "metadata": {},
   "outputs": [],
   "source": []
  },
  {
   "cell_type": "code",
   "execution_count": 129,
   "metadata": {},
   "outputs": [
    {
     "data": {
      "text/plain": [
       "Ensemble of Decision Trees\n",
       "Trees:      30\n",
       "Avg Leaves: 12.8\n",
       "Avg Depth:  4.0"
      ]
     },
     "execution_count": 129,
     "metadata": {},
     "output_type": "execute_result"
    }
   ],
   "source": [
    "# using 2 random features, 30 trees, 0.5 portion of samples per tree, and a maximum tree depth of 4\n",
    "m_rf1 = build_forest( df_titanic[:,\"Survived\"] , Matrix( df_titanic[:,[\"Pclass\",\"Age\",\"Fare\"]] ) , 2 , 30, 0.5, 4)"
   ]
  },
  {
   "cell_type": "code",
   "execution_count": 134,
   "metadata": {},
   "outputs": [
    {
     "data": {
      "text/plain": [
       "3-element Vector{Int64}:\n",
       " 0\n",
       " 1\n",
       " 0"
      ]
     },
     "execution_count": 134,
     "metadata": {},
     "output_type": "execute_result"
    }
   ],
   "source": [
    "apply_forest( m_rf1 , Matrix( df_titanic[1:3,[\"Pclass\",\"Age\",\"Fare\"]] ) )"
   ]
  },
  {
   "cell_type": "code",
   "execution_count": 136,
   "metadata": {},
   "outputs": [
    {
     "data": {
      "text/plain": [
       "3×2 Matrix{Float64}:\n",
       " 0.966667  0.0333333\n",
       " 0.133333  0.866667\n",
       " 1.0       0.0"
      ]
     },
     "execution_count": 136,
     "metadata": {},
     "output_type": "execute_result"
    }
   ],
   "source": [
    "apply_forest_proba( m_rf1 , Matrix( df_titanic[1:3,[\"Pclass\",\"Age\",\"Fare\"]] ) , [0,1] )"
   ]
  },
  {
   "cell_type": "code",
   "execution_count": null,
   "metadata": {},
   "outputs": [],
   "source": []
  },
  {
   "cell_type": "code",
   "execution_count": null,
   "metadata": {},
   "outputs": [],
   "source": []
  },
  {
   "cell_type": "code",
   "execution_count": 143,
   "metadata": {},
   "outputs": [
    {
     "name": "stderr",
     "output_type": "stream",
     "text": [
      "\u001b[36m\u001b[1m[ \u001b[22m\u001b[39m\u001b[36m\u001b[1mInfo: \u001b[22m\u001b[39mXGBoost: starting training.\n",
      "\u001b[36m\u001b[1m[ \u001b[22m\u001b[39m\u001b[36m\u001b[1mInfo: \u001b[22m\u001b[39m[1]\ttrain-logloss:0.60995995752116883\n",
      "\u001b[36m\u001b[1m[ \u001b[22m\u001b[39m\u001b[36m\u001b[1mInfo: \u001b[22m\u001b[39m[2]\ttrain-logloss:0.56218531210215483\n",
      "\u001b[36m\u001b[1m[ \u001b[22m\u001b[39m\u001b[36m\u001b[1mInfo: \u001b[22m\u001b[39m[3]\ttrain-logloss:0.52682371771469172\n",
      "\u001b[36m\u001b[1m[ \u001b[22m\u001b[39m\u001b[36m\u001b[1mInfo: \u001b[22m\u001b[39m[4]\ttrain-logloss:0.50034170539355749\n",
      "\u001b[36m\u001b[1m[ \u001b[22m\u001b[39m\u001b[36m\u001b[1mInfo: \u001b[22m\u001b[39m[5]\ttrain-logloss:0.47146305974040714\n",
      "\u001b[36m\u001b[1m[ \u001b[22m\u001b[39m\u001b[36m\u001b[1mInfo: \u001b[22m\u001b[39mTraining rounds complete.\n"
     ]
    },
    {
     "data": {
      "text/plain": [
       "\u001b[35m╭──── \u001b[1m\u001b[36mXGBoost.Booster\u001b[22m\u001b[39m\u001b[35m\u001b[35m ─────────────────────────────────────────────────────────╮\u001b[39m\u001b[0m\u001b[39m\n",
       "\u001b[35m│\u001b[39m  \u001b[1m\u001b[33mFeatures:\u001b[22m\u001b[39m 3 (unknown names)                                                 \u001b[35m│\u001b[39m\n",
       "\u001b[35m│\u001b[39m  \u001b[38;2;155;179;224m                                             \u001b[39m                               \u001b[35m│\u001b[39m\n",
       "\u001b[35m│\u001b[39m  \u001b[38;2;155;179;224m \u001b[39m\u001b[0m\u001b[1m\u001b[32m       Parameter       \u001b[22m\u001b[39m\u001b[38;2;155;179;224m \u001b[39m\u001b[0m\u001b[1m\u001b[32m       Value       \u001b[22m\u001b[39m\u001b[38;2;155;179;224m \u001b[39m\u001b[0m                               \u001b[35m│\u001b[39m\n",
       "\u001b[35m│\u001b[39m  \u001b[38;2;155;179;224m ─────────────────────────────────────────── \u001b[39m                               \u001b[35m│\u001b[39m\n",
       "\u001b[35m│\u001b[39m  \u001b[38;2;155;179;224m \u001b[39m\u001b[0m\u001b[1m\u001b[33m       max_depth       \u001b[22m\u001b[39m\u001b[38;2;155;179;224m \u001b[39m\u001b[0m\u001b[22m         6         \u001b[22m\u001b[38;2;155;179;224m \u001b[39m\u001b[0m                               \u001b[35m│\u001b[39m\n",
       "\u001b[35m│\u001b[39m  \u001b[38;2;155;179;224m                                             \u001b[39m                               \u001b[35m│\u001b[39m\n",
       "\u001b[35m│\u001b[39m  \u001b[38;2;155;179;224m \u001b[39m\u001b[0m\u001b[1m\u001b[33m       objective       \u001b[22m\u001b[39m\u001b[38;2;155;179;224m \u001b[39m\u001b[0m\u001b[22m  binary:logistic  \u001b[22m\u001b[38;2;155;179;224m \u001b[39m\u001b[0m                               \u001b[35m│\u001b[39m\n",
       "\u001b[35m│\u001b[39m  \u001b[38;2;155;179;224m                                             \u001b[39m                               \u001b[35m│\u001b[39m\n",
       "\u001b[35m│\u001b[39m  \u001b[38;2;155;179;224m \u001b[39m\u001b[0m\u001b[1m\u001b[33m  validate_parameters  \u001b[22m\u001b[39m\u001b[38;2;155;179;224m \u001b[39m\u001b[0m\u001b[22m       true        \u001b[22m\u001b[38;2;155;179;224m \u001b[39m\u001b[0m                               \u001b[35m│\u001b[39m\n",
       "\u001b[35m│\u001b[39m  \u001b[38;2;155;179;224m                                             \u001b[39m                               \u001b[35m│\u001b[39m\n",
       "\u001b[35m╰──── \u001b[34mboosted rounds: 5\u001b[39m\u001b[35m\u001b[35m ───────────────────────────────────────────────────────╯\u001b[39m\u001b[0m\u001b[39m\u001b[0m\n"
      ]
     },
     "execution_count": 143,
     "metadata": {},
     "output_type": "execute_result"
    }
   ],
   "source": [
    "m_xgb1 = xgboost( ( Matrix( df_titanic[:,[\"Pclass\",\"Age\",\"Fare\"]] ) , df_titanic[:,\"Survived\"] ) , num_round=5 , max_depth=6 , objective=\"binary:logistic\" )"
   ]
  },
  {
   "cell_type": "code",
   "execution_count": 170,
   "metadata": {},
   "outputs": [
    {
     "data": {
      "text/plain": [
       "3-element Vector{Float32}:\n",
       " 0.28281942\n",
       " 0.7581966\n",
       " 0.23063365"
      ]
     },
     "execution_count": 170,
     "metadata": {},
     "output_type": "execute_result"
    }
   ],
   "source": [
    "XGBoost.predict( m_xgb1 , Matrix( df_titanic[1:3,[\"Pclass\",\"Age\",\"Fare\"]] ) )"
   ]
  },
  {
   "cell_type": "code",
   "execution_count": null,
   "metadata": {},
   "outputs": [],
   "source": []
  },
  {
   "cell_type": "code",
   "execution_count": null,
   "metadata": {},
   "outputs": [],
   "source": []
  },
  {
   "cell_type": "code",
   "execution_count": null,
   "metadata": {},
   "outputs": [],
   "source": []
  },
  {
   "cell_type": "code",
   "execution_count": null,
   "metadata": {},
   "outputs": [],
   "source": []
  },
  {
   "cell_type": "code",
   "execution_count": null,
   "metadata": {},
   "outputs": [],
   "source": []
  },
  {
   "cell_type": "code",
   "execution_count": 148,
   "metadata": {},
   "outputs": [
    {
     "data": {
      "text/plain": [
       "100-element Vector{Float64}:\n",
       " 0.3393542405072587\n",
       " 0.6105815758799128\n",
       " 0.5396018463713466\n",
       " 0.712486689919445\n",
       " 0.2945392150525843\n",
       " 0.6332747635012131\n",
       " 0.5823506993643279\n",
       " 0.16398862338241194\n",
       " 0.8189862117763343\n",
       " 0.21879940870768788\n",
       " 0.3253882436796812\n",
       " 0.1942602663790869\n",
       " 0.4868970104475696\n",
       " ⋮\n",
       " 0.7991567851544852\n",
       " 0.38884543753241696\n",
       " 0.5699651100965694\n",
       " 0.0827367243011552\n",
       " 0.04388085927892271\n",
       " 0.8904434393543801\n",
       " 0.3831209806890057\n",
       " 0.8949228310639515\n",
       " 0.4996849149964123\n",
       " 0.9431771603215411\n",
       " 0.31425519833231397\n",
       " 0.9456602449427234"
      ]
     },
     "execution_count": 148,
     "metadata": {},
     "output_type": "execute_result"
    }
   ],
   "source": [
    "x = rand(100)\n",
    "@rput x"
   ]
  },
  {
   "cell_type": "code",
   "execution_count": 149,
   "metadata": {},
   "outputs": [
    {
     "data": {
      "text/plain": [
       "RObject{RealSxp}\n",
       "[1] 0.4915686\n"
      ]
     },
     "execution_count": 149,
     "metadata": {},
     "output_type": "execute_result"
    }
   ],
   "source": [
    "rx = R\"mean(x)\""
   ]
  },
  {
   "cell_type": "code",
   "execution_count": 150,
   "metadata": {},
   "outputs": [
    {
     "data": {
      "text/plain": [
       "0.4915685845108458"
      ]
     },
     "execution_count": 150,
     "metadata": {},
     "output_type": "execute_result"
    }
   ],
   "source": [
    "rx2 = rcopy( R\"mean(x)\" )"
   ]
  },
  {
   "cell_type": "code",
   "execution_count": 151,
   "metadata": {},
   "outputs": [
    {
     "data": {
      "text/plain": [
       "RObject{RealSxp}\n",
       " [1]  0.382150368  1.394364346 -0.485128434  0.002583672  0.379924780\n",
       " [6] -0.035182029 -0.525762232 -0.672469960  0.959659058  0.419763774\n",
       "[11] -0.843930998  0.014809502  1.268102725 -1.567911257 -0.436386461\n",
       "[16] -0.232765653  0.630847612 -0.945526112  0.968142500 -1.372775248\n",
       "[21] -0.467176858 -1.209986652  0.430067922 -0.760248540  1.601458682\n",
       "[26]  1.021931407 -0.599160442  2.698102864  1.070116124  0.662706503\n",
       "[31]  0.669152257 -1.320109714 -0.728256295 -1.546078296 -0.867776262\n",
       "[36]  1.480606195 -0.040805298 -0.294647849  0.810513157  2.175209411\n",
       "[41] -1.169920611 -0.212512613  1.223312276  3.174105148 -1.314328955\n",
       "[46]  0.391342285  1.019042064  2.096636927 -1.180498450  0.628962782\n"
      ]
     },
     "execution_count": 151,
     "metadata": {},
     "output_type": "execute_result"
    }
   ],
   "source": [
    "R\"y = $(randn(50))\""
   ]
  },
  {
   "cell_type": "code",
   "execution_count": 152,
   "metadata": {},
   "outputs": [
    {
     "data": {
      "text/plain": [
       "0.17488538250259011"
      ]
     },
     "execution_count": 152,
     "metadata": {},
     "output_type": "execute_result"
    }
   ],
   "source": [
    "rcopy( R\"mean(y)\" )"
   ]
  },
  {
   "cell_type": "code",
   "execution_count": 153,
   "metadata": {},
   "outputs": [
    {
     "data": {
      "text/plain": [
       "RObject{VecSxp}\n",
       "\n",
       "\tOne Sample t-test\n",
       "\n",
       "data:  y\n",
       "t = -17.645, df = 49, p-value < 2.2e-16\n",
       "alternative hypothesis: true mean is not equal to 3\n",
       "95 percent confidence interval:\n",
       " -0.1468649  0.4966357\n",
       "sample estimates:\n",
       "mean of x \n",
       "0.1748854 \n",
       "\n"
      ]
     },
     "execution_count": 153,
     "metadata": {},
     "output_type": "execute_result"
    }
   ],
   "source": [
    "R\"t = t.test(y,mu=3)\""
   ]
  },
  {
   "cell_type": "code",
   "execution_count": null,
   "metadata": {},
   "outputs": [],
   "source": []
  },
  {
   "cell_type": "code",
   "execution_count": 163,
   "metadata": {},
   "outputs": [
    {
     "data": {
      "text/plain": [
       "RObject{StrSxp}\n",
       "[1] \"rpart.plot\" \"rpart\"      \"stats\"      \"graphics\"   \"grDevices\" \n",
       "[6] \"utils\"      \"datasets\"   \"methods\"    \"base\"      \n"
      ]
     },
     "execution_count": 163,
     "metadata": {},
     "output_type": "execute_result"
    }
   ],
   "source": [
    "R\"\"\"\n",
    "library(rpart)\n",
    "\"\"\""
   ]
  },
  {
   "cell_type": "code",
   "execution_count": 159,
   "metadata": {},
   "outputs": [
    {
     "data": {
      "text/plain": [
       "RObject{VecSxp}\n",
       "  Survived Pclass    Sex Age    Fare\n",
       "1        0      3   male  22  7.2500\n",
       "2        1      1 female  38 71.2833\n",
       "3        1      3 female  26  7.9250\n",
       "4        1      1 female  35 53.1000\n",
       "5        0      3   male  35  8.0500\n",
       "6        0      1   male  54 51.8625\n"
      ]
     },
     "execution_count": 159,
     "metadata": {},
     "output_type": "execute_result"
    }
   ],
   "source": [
    "R\"\"\"\n",
    "head( $(df_titanic) )\n",
    "\"\"\""
   ]
  },
  {
   "cell_type": "code",
   "execution_count": 166,
   "metadata": {},
   "outputs": [
    {
     "data": {
      "text/plain": [
       "RObject{RealSxp}\n",
       "        1 \n",
       "0.3894389 \n"
      ]
     },
     "execution_count": 166,
     "metadata": {},
     "output_type": "execute_result"
    }
   ],
   "source": [
    "res = R\"\"\"\n",
    "dt_R = rpart( Survived ~ Age + Fare , data = $(df_titanic) )\n",
    "predict( dt_R, data.frame(Age=c(20),Fare=c(35) ) )\n",
    "\"\"\""
   ]
  },
  {
   "cell_type": "code",
   "execution_count": 167,
   "metadata": {},
   "outputs": [
    {
     "data": {
      "text/plain": [
       "RObject{RealSxp}\n",
       "        1 \n",
       "0.3894389 \n"
      ]
     },
     "execution_count": 167,
     "metadata": {},
     "output_type": "execute_result"
    }
   ],
   "source": [
    "res"
   ]
  },
  {
   "cell_type": "code",
   "execution_count": 168,
   "metadata": {},
   "outputs": [
    {
     "data": {
      "text/plain": [
       "0.38943894389438943"
      ]
     },
     "execution_count": 168,
     "metadata": {},
     "output_type": "execute_result"
    }
   ],
   "source": [
    "rcopy( res )"
   ]
  },
  {
   "cell_type": "code",
   "execution_count": null,
   "metadata": {},
   "outputs": [],
   "source": []
  },
  {
   "cell_type": "code",
   "execution_count": null,
   "metadata": {},
   "outputs": [],
   "source": []
  },
  {
   "cell_type": "code",
   "execution_count": null,
   "metadata": {},
   "outputs": [],
   "source": []
  },
  {
   "cell_type": "code",
   "execution_count": 174,
   "metadata": {},
   "outputs": [
    {
     "data": {
      "text/plain": [
       "SQLite.DB(\"test1.sqlite\")"
      ]
     },
     "execution_count": 174,
     "metadata": {},
     "output_type": "execute_result"
    }
   ],
   "source": [
    "db = SQLite.DB(\"test1.sqlite\")"
   ]
  },
  {
   "cell_type": "code",
   "execution_count": 177,
   "metadata": {},
   "outputs": [
    {
     "data": {
      "text/plain": [
       "SQLite.Query{false}(SQLite.Stmt(SQLite.DB(\"test1.sqlite\"), Base.RefValue{Ptr{SQLite.C.sqlite3_stmt}}(Ptr{SQLite.C.sqlite3_stmt} @0x0000000017510f28), Dict{Int64, Any}()), Base.RefValue{Int32}(101), Symbol[], Type[], Dict{Symbol, Int64}(), Base.RefValue{Int64}(0))"
      ]
     },
     "execution_count": 177,
     "metadata": {},
     "output_type": "execute_result"
    }
   ],
   "source": [
    "DBInterface.execute( db , \"CREATE TABLE  table1(name  TEXT PRIMARY KEY, state TEXT NOT NULL, car TEXT )\")"
   ]
  },
  {
   "cell_type": "code",
   "execution_count": 178,
   "metadata": {},
   "outputs": [
    {
     "data": {
      "text/plain": [
       "1-element Vector{SQLite.DBTable}:\n",
       " SQLite.DBTable(\"table1\", Tables.Schema:\n",
       " :name   Union{Missing, String}\n",
       " :state  Union{Missing, String}\n",
       " :car    Union{Missing, String})"
      ]
     },
     "execution_count": 178,
     "metadata": {},
     "output_type": "execute_result"
    }
   ],
   "source": [
    "SQLite.tables( db )"
   ]
  },
  {
   "cell_type": "code",
   "execution_count": null,
   "metadata": {},
   "outputs": [],
   "source": [
    "DBInterface.execute( db , \"CREATE TABLE  table1(name  TEXT PRIMARY KEY, state TEXT NOT NULL, car TEXT )\")"
   ]
  },
  {
   "cell_type": "code",
   "execution_count": 184,
   "metadata": {},
   "outputs": [
    {
     "data": {
      "text/plain": [
       "SQLite.Query{false}(SQLite.Stmt(SQLite.DB(\"test1.sqlite\"), Base.RefValue{Ptr{SQLite.C.sqlite3_stmt}}(Ptr{SQLite.C.sqlite3_stmt} @0x000000001944f338), Dict{Int64, Any}()), Base.RefValue{Int32}(101), Symbol[], Type[], Dict{Symbol, Int64}(), Base.RefValue{Int64}(0))"
      ]
     },
     "execution_count": 184,
     "metadata": {},
     "output_type": "execute_result"
    }
   ],
   "source": [
    "\n",
    "DBInterface.execute( db , \"INSERT INTO table1 VALUES (\\\"Alex\\\",\\\"FL\\\",\\\"Dodge\\\")\" )"
   ]
  },
  {
   "cell_type": "code",
   "execution_count": 186,
   "metadata": {},
   "outputs": [
    {
     "data": {
      "text/plain": [
       "SQLite.Query{false}(SQLite.Stmt(SQLite.DB(\"test1.sqlite\"), Base.RefValue{Ptr{SQLite.C.sqlite3_stmt}}(Ptr{SQLite.C.sqlite3_stmt} @0x000000001944e9d8), Dict{Int64, Any}()), Base.RefValue{Int32}(101), Symbol[], Type[], Dict{Symbol, Int64}(), Base.RefValue{Int64}(0))"
      ]
     },
     "execution_count": 186,
     "metadata": {},
     "output_type": "execute_result"
    }
   ],
   "source": [
    "tmp = (\"Bob\",\"FL\",\"Buick\")\n",
    "DBInterface.execute( db , \"INSERT INTO table1 VALUES $(tmp)\" )"
   ]
  },
  {
   "cell_type": "code",
   "execution_count": 188,
   "metadata": {},
   "outputs": [
    {
     "data": {
      "text/html": [
       "<div><div style = \"float: left;\"><span>2×3 DataFrame</span></div><div style = \"clear: both;\"></div></div><div class = \"data-frame\" style = \"overflow-x: scroll;\"><table class = \"data-frame\" style = \"margin-bottom: 6px;\"><thead><tr class = \"header\"><th class = \"rowNumber\" style = \"font-weight: bold; text-align: right;\">Row</th><th style = \"text-align: left;\">name</th><th style = \"text-align: left;\">state</th><th style = \"text-align: left;\">car</th></tr><tr class = \"subheader headerLastRow\"><th class = \"rowNumber\" style = \"font-weight: bold; text-align: right;\"></th><th title = \"String\" style = \"text-align: left;\">String</th><th title = \"String\" style = \"text-align: left;\">String</th><th title = \"String\" style = \"text-align: left;\">String</th></tr></thead><tbody><tr><td class = \"rowNumber\" style = \"font-weight: bold; text-align: right;\">1</td><td style = \"text-align: left;\">Alex</td><td style = \"text-align: left;\">FL</td><td style = \"text-align: left;\">Dodge</td></tr><tr><td class = \"rowNumber\" style = \"font-weight: bold; text-align: right;\">2</td><td style = \"text-align: left;\">Bob</td><td style = \"text-align: left;\">FL</td><td style = \"text-align: left;\">Buick</td></tr></tbody></table></div>"
      ],
      "text/latex": [
       "\\begin{tabular}{r|ccc}\n",
       "\t& name & state & car\\\\\n",
       "\t\\hline\n",
       "\t& String & String & String\\\\\n",
       "\t\\hline\n",
       "\t1 & Alex & FL & Dodge \\\\\n",
       "\t2 & Bob & FL & Buick \\\\\n",
       "\\end{tabular}\n"
      ],
      "text/plain": [
       "\u001b[1m2×3 DataFrame\u001b[0m\n",
       "\u001b[1m Row \u001b[0m│\u001b[1m name   \u001b[0m\u001b[1m state  \u001b[0m\u001b[1m car    \u001b[0m\n",
       "     │\u001b[90m String \u001b[0m\u001b[90m String \u001b[0m\u001b[90m String \u001b[0m\n",
       "─────┼────────────────────────\n",
       "   1 │ Alex    FL      Dodge\n",
       "   2 │ Bob     FL      Buick"
      ]
     },
     "execution_count": 188,
     "metadata": {},
     "output_type": "execute_result"
    }
   ],
   "source": [
    "DBInterface.execute( db , \"SELECT * FROM table1\" ) |> DataFrame"
   ]
  },
  {
   "cell_type": "code",
   "execution_count": 190,
   "metadata": {},
   "outputs": [
    {
     "data": {
      "text/html": [
       "<div><div style = \"float: left;\"><span>3×3 DataFrame</span></div><div style = \"clear: both;\"></div></div><div class = \"data-frame\" style = \"overflow-x: scroll;\"><table class = \"data-frame\" style = \"margin-bottom: 6px;\"><thead><tr class = \"header\"><th class = \"rowNumber\" style = \"font-weight: bold; text-align: right;\">Row</th><th style = \"text-align: left;\">name</th><th style = \"text-align: left;\">state</th><th style = \"text-align: left;\">car</th></tr><tr class = \"subheader headerLastRow\"><th class = \"rowNumber\" style = \"font-weight: bold; text-align: right;\"></th><th title = \"String\" style = \"text-align: left;\">String</th><th title = \"String\" style = \"text-align: left;\">String</th><th title = \"String\" style = \"text-align: left;\">String</th></tr></thead><tbody><tr><td class = \"rowNumber\" style = \"font-weight: bold; text-align: right;\">1</td><td style = \"text-align: left;\">Cat</td><td style = \"text-align: left;\">FL</td><td style = \"text-align: left;\">Toyota</td></tr><tr><td class = \"rowNumber\" style = \"font-weight: bold; text-align: right;\">2</td><td style = \"text-align: left;\">Derek</td><td style = \"text-align: left;\">GA</td><td style = \"text-align: left;\"></td></tr><tr><td class = \"rowNumber\" style = \"font-weight: bold; text-align: right;\">3</td><td style = \"text-align: left;\">Eric</td><td style = \"text-align: left;\">FL</td><td style = \"text-align: left;\">Jeep</td></tr></tbody></table></div>"
      ],
      "text/latex": [
       "\\begin{tabular}{r|ccc}\n",
       "\t& name & state & car\\\\\n",
       "\t\\hline\n",
       "\t& String & String & String\\\\\n",
       "\t\\hline\n",
       "\t1 & Cat & FL & Toyota \\\\\n",
       "\t2 & Derek & GA &  \\\\\n",
       "\t3 & Eric & FL & Jeep \\\\\n",
       "\\end{tabular}\n"
      ],
      "text/plain": [
       "\u001b[1m3×3 DataFrame\u001b[0m\n",
       "\u001b[1m Row \u001b[0m│\u001b[1m name   \u001b[0m\u001b[1m state  \u001b[0m\u001b[1m car    \u001b[0m\n",
       "     │\u001b[90m String \u001b[0m\u001b[90m String \u001b[0m\u001b[90m String \u001b[0m\n",
       "─────┼────────────────────────\n",
       "   1 │ Cat     FL      Toyota\n",
       "   2 │ Derek   GA\n",
       "   3 │ Eric    FL      Jeep"
      ]
     },
     "execution_count": 190,
     "metadata": {},
     "output_type": "execute_result"
    }
   ],
   "source": [
    "df_tmp = DataFrame(name=[\"Cat\",\"Derek\",\"Eric\"],state=[\"FL\",\"GA\",\"FL\"],car=[\"Toyota\",\"\",\"Jeep\"])"
   ]
  },
  {
   "cell_type": "code",
   "execution_count": 191,
   "metadata": {},
   "outputs": [
    {
     "data": {
      "text/plain": [
       "\"table1\""
      ]
     },
     "execution_count": 191,
     "metadata": {},
     "output_type": "execute_result"
    }
   ],
   "source": [
    "df_tmp |> SQLite.load!( db , \"table1\" )"
   ]
  },
  {
   "cell_type": "code",
   "execution_count": 192,
   "metadata": {},
   "outputs": [
    {
     "data": {
      "text/html": [
       "<div><div style = \"float: left;\"><span>5×3 DataFrame</span></div><div style = \"clear: both;\"></div></div><div class = \"data-frame\" style = \"overflow-x: scroll;\"><table class = \"data-frame\" style = \"margin-bottom: 6px;\"><thead><tr class = \"header\"><th class = \"rowNumber\" style = \"font-weight: bold; text-align: right;\">Row</th><th style = \"text-align: left;\">name</th><th style = \"text-align: left;\">state</th><th style = \"text-align: left;\">car</th></tr><tr class = \"subheader headerLastRow\"><th class = \"rowNumber\" style = \"font-weight: bold; text-align: right;\"></th><th title = \"String\" style = \"text-align: left;\">String</th><th title = \"String\" style = \"text-align: left;\">String</th><th title = \"String\" style = \"text-align: left;\">String</th></tr></thead><tbody><tr><td class = \"rowNumber\" style = \"font-weight: bold; text-align: right;\">1</td><td style = \"text-align: left;\">Alex</td><td style = \"text-align: left;\">FL</td><td style = \"text-align: left;\">Dodge</td></tr><tr><td class = \"rowNumber\" style = \"font-weight: bold; text-align: right;\">2</td><td style = \"text-align: left;\">Bob</td><td style = \"text-align: left;\">FL</td><td style = \"text-align: left;\">Buick</td></tr><tr><td class = \"rowNumber\" style = \"font-weight: bold; text-align: right;\">3</td><td style = \"text-align: left;\">Cat</td><td style = \"text-align: left;\">FL</td><td style = \"text-align: left;\">Toyota</td></tr><tr><td class = \"rowNumber\" style = \"font-weight: bold; text-align: right;\">4</td><td style = \"text-align: left;\">Derek</td><td style = \"text-align: left;\">GA</td><td style = \"text-align: left;\"></td></tr><tr><td class = \"rowNumber\" style = \"font-weight: bold; text-align: right;\">5</td><td style = \"text-align: left;\">Eric</td><td style = \"text-align: left;\">FL</td><td style = \"text-align: left;\">Jeep</td></tr></tbody></table></div>"
      ],
      "text/latex": [
       "\\begin{tabular}{r|ccc}\n",
       "\t& name & state & car\\\\\n",
       "\t\\hline\n",
       "\t& String & String & String\\\\\n",
       "\t\\hline\n",
       "\t1 & Alex & FL & Dodge \\\\\n",
       "\t2 & Bob & FL & Buick \\\\\n",
       "\t3 & Cat & FL & Toyota \\\\\n",
       "\t4 & Derek & GA &  \\\\\n",
       "\t5 & Eric & FL & Jeep \\\\\n",
       "\\end{tabular}\n"
      ],
      "text/plain": [
       "\u001b[1m5×3 DataFrame\u001b[0m\n",
       "\u001b[1m Row \u001b[0m│\u001b[1m name   \u001b[0m\u001b[1m state  \u001b[0m\u001b[1m car    \u001b[0m\n",
       "     │\u001b[90m String \u001b[0m\u001b[90m String \u001b[0m\u001b[90m String \u001b[0m\n",
       "─────┼────────────────────────\n",
       "   1 │ Alex    FL      Dodge\n",
       "   2 │ Bob     FL      Buick\n",
       "   3 │ Cat     FL      Toyota\n",
       "   4 │ Derek   GA\n",
       "   5 │ Eric    FL      Jeep"
      ]
     },
     "execution_count": 192,
     "metadata": {},
     "output_type": "execute_result"
    }
   ],
   "source": [
    "DBInterface.execute( db , \"SELECT * FROM table1\" ) |> DataFrame"
   ]
  },
  {
   "cell_type": "code",
   "execution_count": null,
   "metadata": {},
   "outputs": [],
   "source": []
  },
  {
   "cell_type": "code",
   "execution_count": null,
   "metadata": {},
   "outputs": [],
   "source": []
  },
  {
   "cell_type": "code",
   "execution_count": null,
   "metadata": {},
   "outputs": [],
   "source": []
  }
 ],
 "metadata": {
  "kernelspec": {
   "display_name": "Julia 1.8.2",
   "language": "julia",
   "name": "julia-1.8"
  },
  "language_info": {
   "file_extension": ".jl",
   "mimetype": "application/julia",
   "name": "julia",
   "version": "1.8.2"
  }
 },
 "nbformat": 4,
 "nbformat_minor": 4
}
