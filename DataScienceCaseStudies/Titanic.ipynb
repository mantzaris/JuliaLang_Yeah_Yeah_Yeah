{
 "cells": [
  {
   "cell_type": "code",
   "execution_count": 2,
   "metadata": {},
   "outputs": [],
   "source": [
    "using CSV\n",
    "using DataFrames\n",
    "using GLM, Plots, Statistics\n",
    "using DecisionTree\n",
    "using XGBoost\n",
    "using RCall\n",
    "using SQLite"
   ]
  },
  {
   "cell_type": "code",
   "execution_count": null,
   "metadata": {},
   "outputs": [],
   "source": []
  },
  {
   "cell_type": "code",
   "execution_count": 4,
   "metadata": {},
   "outputs": [
    {
     "data": {
      "text/plain": [
       "891-element CSV.File:\n",
       " CSV.Row: (Survived = 0, Pclass = 3, Sex = String7(\"male\"), Age = 22.0, Fare = 7.25)\n",
       " CSV.Row: (Survived = 1, Pclass = 1, Sex = String7(\"female\"), Age = 38.0, Fare = 71.2833)\n",
       " CSV.Row: (Survived = 1, Pclass = 3, Sex = String7(\"female\"), Age = 26.0, Fare = 7.925)\n",
       " CSV.Row: (Survived = 1, Pclass = 1, Sex = String7(\"female\"), Age = 35.0, Fare = 53.1)\n",
       " CSV.Row: (Survived = 0, Pclass = 3, Sex = String7(\"male\"), Age = 35.0, Fare = 8.05)\n",
       " CSV.Row: (Survived = 0, Pclass = 3, Sex = String7(\"male\"), Age = missing, Fare = 8.4583)\n",
       " CSV.Row: (Survived = 0, Pclass = 1, Sex = String7(\"male\"), Age = 54.0, Fare = 51.8625)\n",
       " CSV.Row: (Survived = 0, Pclass = 3, Sex = String7(\"male\"), Age = 2.0, Fare = 21.075)\n",
       " CSV.Row: (Survived = 1, Pclass = 3, Sex = String7(\"female\"), Age = 27.0, Fare = 11.1333)\n",
       " CSV.Row: (Survived = 1, Pclass = 2, Sex = String7(\"female\"), Age = 14.0, Fare = 30.0708)\n",
       " CSV.Row: (Survived = 1, Pclass = 3, Sex = String7(\"female\"), Age = 4.0, Fare = 16.7)\n",
       " CSV.Row: (Survived = 1, Pclass = 1, Sex = String7(\"female\"), Age = 58.0, Fare = 26.55)\n",
       " CSV.Row: (Survived = 0, Pclass = 3, Sex = String7(\"male\"), Age = 20.0, Fare = 8.05)\n",
       " ⋮\n",
       " CSV.Row: (Survived = 1, Pclass = 1, Sex = String7(\"female\"), Age = 56.0, Fare = 83.1583)\n",
       " CSV.Row: (Survived = 1, Pclass = 2, Sex = String7(\"female\"), Age = 25.0, Fare = 26.0)\n",
       " CSV.Row: (Survived = 0, Pclass = 3, Sex = String7(\"male\"), Age = 33.0, Fare = 7.8958)\n",
       " CSV.Row: (Survived = 0, Pclass = 3, Sex = String7(\"female\"), Age = 22.0, Fare = 10.5167)\n",
       " CSV.Row: (Survived = 0, Pclass = 2, Sex = String7(\"male\"), Age = 28.0, Fare = 10.5)\n",
       " CSV.Row: (Survived = 0, Pclass = 3, Sex = String7(\"male\"), Age = 25.0, Fare = 7.05)\n",
       " CSV.Row: (Survived = 0, Pclass = 3, Sex = String7(\"female\"), Age = 39.0, Fare = 29.125)\n",
       " CSV.Row: (Survived = 0, Pclass = 2, Sex = String7(\"male\"), Age = 27.0, Fare = 13.0)\n",
       " CSV.Row: (Survived = 1, Pclass = 1, Sex = String7(\"female\"), Age = 19.0, Fare = 30.0)\n",
       " CSV.Row: (Survived = 0, Pclass = 3, Sex = String7(\"female\"), Age = missing, Fare = 23.45)\n",
       " CSV.Row: (Survived = 1, Pclass = 1, Sex = String7(\"male\"), Age = 26.0, Fare = 30.0)\n",
       " CSV.Row: (Survived = 0, Pclass = 3, Sex = String7(\"male\"), Age = 32.0, Fare = 7.75)"
      ]
     },
     "execution_count": 4,
     "metadata": {},
     "output_type": "execute_result"
    }
   ],
   "source": [
    "#load in the CSV file which is a set of rows\n",
    "csv_titanic = CSV.File( \"titanic.csv\" )"
   ]
  },
  {
   "cell_type": "code",
   "execution_count": 5,
   "metadata": {},
   "outputs": [
    {
     "data": {
      "text/plain": [
       "CSV.File"
      ]
     },
     "execution_count": 5,
     "metadata": {},
     "output_type": "execute_result"
    }
   ],
   "source": [
    "typeof(csv_titanic)"
   ]
  },
  {
   "cell_type": "code",
   "execution_count": 6,
   "metadata": {},
   "outputs": [
    {
     "data": {
      "text/plain": [
       "(891,)"
      ]
     },
     "execution_count": 6,
     "metadata": {},
     "output_type": "execute_result"
    }
   ],
   "source": [
    "size( csv_titanic )"
   ]
  },
  {
   "cell_type": "code",
   "execution_count": 7,
   "metadata": {},
   "outputs": [
    {
     "data": {
      "text/plain": [
       "CSV.Row: (Survived = 0, Pclass = 3, Sex = String7(\"male\"), Age = 22.0, Fare = 7.25)"
      ]
     },
     "execution_count": 7,
     "metadata": {},
     "output_type": "execute_result"
    }
   ],
   "source": [
    "csv_titanic[1]"
   ]
  },
  {
   "cell_type": "code",
   "execution_count": 8,
   "metadata": {},
   "outputs": [
    {
     "data": {
      "text/html": [
       "<div><div style = \"float: left;\"><span>891×5 DataFrame</span></div><div style = \"float: right;\"><span style = \"font-style: italic;\">866 rows omitted</span></div><div style = \"clear: both;\"></div></div><div class = \"data-frame\" style = \"overflow-x: scroll;\"><table class = \"data-frame\" style = \"margin-bottom: 6px;\"><thead><tr class = \"header\"><th class = \"rowNumber\" style = \"font-weight: bold; text-align: right;\">Row</th><th style = \"text-align: left;\">Survived</th><th style = \"text-align: left;\">Pclass</th><th style = \"text-align: left;\">Sex</th><th style = \"text-align: left;\">Age</th><th style = \"text-align: left;\">Fare</th></tr><tr class = \"subheader headerLastRow\"><th class = \"rowNumber\" style = \"font-weight: bold; text-align: right;\"></th><th title = \"Int64\" style = \"text-align: left;\">Int64</th><th title = \"Int64\" style = \"text-align: left;\">Int64</th><th title = \"String7\" style = \"text-align: left;\">String7</th><th title = \"Union{Missing, Float64}\" style = \"text-align: left;\">Float64?</th><th title = \"Float64\" style = \"text-align: left;\">Float64</th></tr></thead><tbody><tr><td class = \"rowNumber\" style = \"font-weight: bold; text-align: right;\">1</td><td style = \"text-align: right;\">0</td><td style = \"text-align: right;\">3</td><td style = \"text-align: left;\">male</td><td style = \"text-align: right;\">22.0</td><td style = \"text-align: right;\">7.25</td></tr><tr><td class = \"rowNumber\" style = \"font-weight: bold; text-align: right;\">2</td><td style = \"text-align: right;\">1</td><td style = \"text-align: right;\">1</td><td style = \"text-align: left;\">female</td><td style = \"text-align: right;\">38.0</td><td style = \"text-align: right;\">71.2833</td></tr><tr><td class = \"rowNumber\" style = \"font-weight: bold; text-align: right;\">3</td><td style = \"text-align: right;\">1</td><td style = \"text-align: right;\">3</td><td style = \"text-align: left;\">female</td><td style = \"text-align: right;\">26.0</td><td style = \"text-align: right;\">7.925</td></tr><tr><td class = \"rowNumber\" style = \"font-weight: bold; text-align: right;\">4</td><td style = \"text-align: right;\">1</td><td style = \"text-align: right;\">1</td><td style = \"text-align: left;\">female</td><td style = \"text-align: right;\">35.0</td><td style = \"text-align: right;\">53.1</td></tr><tr><td class = \"rowNumber\" style = \"font-weight: bold; text-align: right;\">5</td><td style = \"text-align: right;\">0</td><td style = \"text-align: right;\">3</td><td style = \"text-align: left;\">male</td><td style = \"text-align: right;\">35.0</td><td style = \"text-align: right;\">8.05</td></tr><tr><td class = \"rowNumber\" style = \"font-weight: bold; text-align: right;\">6</td><td style = \"text-align: right;\">0</td><td style = \"text-align: right;\">3</td><td style = \"text-align: left;\">male</td><td style = \"font-style: italic; text-align: right;\">missing</td><td style = \"text-align: right;\">8.4583</td></tr><tr><td class = \"rowNumber\" style = \"font-weight: bold; text-align: right;\">7</td><td style = \"text-align: right;\">0</td><td style = \"text-align: right;\">1</td><td style = \"text-align: left;\">male</td><td style = \"text-align: right;\">54.0</td><td style = \"text-align: right;\">51.8625</td></tr><tr><td class = \"rowNumber\" style = \"font-weight: bold; text-align: right;\">8</td><td style = \"text-align: right;\">0</td><td style = \"text-align: right;\">3</td><td style = \"text-align: left;\">male</td><td style = \"text-align: right;\">2.0</td><td style = \"text-align: right;\">21.075</td></tr><tr><td class = \"rowNumber\" style = \"font-weight: bold; text-align: right;\">9</td><td style = \"text-align: right;\">1</td><td style = \"text-align: right;\">3</td><td style = \"text-align: left;\">female</td><td style = \"text-align: right;\">27.0</td><td style = \"text-align: right;\">11.1333</td></tr><tr><td class = \"rowNumber\" style = \"font-weight: bold; text-align: right;\">10</td><td style = \"text-align: right;\">1</td><td style = \"text-align: right;\">2</td><td style = \"text-align: left;\">female</td><td style = \"text-align: right;\">14.0</td><td style = \"text-align: right;\">30.0708</td></tr><tr><td class = \"rowNumber\" style = \"font-weight: bold; text-align: right;\">11</td><td style = \"text-align: right;\">1</td><td style = \"text-align: right;\">3</td><td style = \"text-align: left;\">female</td><td style = \"text-align: right;\">4.0</td><td style = \"text-align: right;\">16.7</td></tr><tr><td class = \"rowNumber\" style = \"font-weight: bold; text-align: right;\">12</td><td style = \"text-align: right;\">1</td><td style = \"text-align: right;\">1</td><td style = \"text-align: left;\">female</td><td style = \"text-align: right;\">58.0</td><td style = \"text-align: right;\">26.55</td></tr><tr><td class = \"rowNumber\" style = \"font-weight: bold; text-align: right;\">13</td><td style = \"text-align: right;\">0</td><td style = \"text-align: right;\">3</td><td style = \"text-align: left;\">male</td><td style = \"text-align: right;\">20.0</td><td style = \"text-align: right;\">8.05</td></tr><tr><td style = \"text-align: right;\">&vellip;</td><td style = \"text-align: right;\">&vellip;</td><td style = \"text-align: right;\">&vellip;</td><td style = \"text-align: right;\">&vellip;</td><td style = \"text-align: right;\">&vellip;</td><td style = \"text-align: right;\">&vellip;</td></tr><tr><td class = \"rowNumber\" style = \"font-weight: bold; text-align: right;\">880</td><td style = \"text-align: right;\">1</td><td style = \"text-align: right;\">1</td><td style = \"text-align: left;\">female</td><td style = \"text-align: right;\">56.0</td><td style = \"text-align: right;\">83.1583</td></tr><tr><td class = \"rowNumber\" style = \"font-weight: bold; text-align: right;\">881</td><td style = \"text-align: right;\">1</td><td style = \"text-align: right;\">2</td><td style = \"text-align: left;\">female</td><td style = \"text-align: right;\">25.0</td><td style = \"text-align: right;\">26.0</td></tr><tr><td class = \"rowNumber\" style = \"font-weight: bold; text-align: right;\">882</td><td style = \"text-align: right;\">0</td><td style = \"text-align: right;\">3</td><td style = \"text-align: left;\">male</td><td style = \"text-align: right;\">33.0</td><td style = \"text-align: right;\">7.8958</td></tr><tr><td class = \"rowNumber\" style = \"font-weight: bold; text-align: right;\">883</td><td style = \"text-align: right;\">0</td><td style = \"text-align: right;\">3</td><td style = \"text-align: left;\">female</td><td style = \"text-align: right;\">22.0</td><td style = \"text-align: right;\">10.5167</td></tr><tr><td class = \"rowNumber\" style = \"font-weight: bold; text-align: right;\">884</td><td style = \"text-align: right;\">0</td><td style = \"text-align: right;\">2</td><td style = \"text-align: left;\">male</td><td style = \"font-style: italic; text-align: right;\">28.0</td><td style = \"text-align: right;\">10.5</td></tr><tr><td class = \"rowNumber\" style = \"font-weight: bold; text-align: right;\">885</td><td style = \"text-align: right;\">0</td><td style = \"text-align: right;\">3</td><td style = \"text-align: left;\">male</td><td style = \"text-align: right;\">25.0</td><td style = \"text-align: right;\">7.05</td></tr><tr><td class = \"rowNumber\" style = \"font-weight: bold; text-align: right;\">886</td><td style = \"text-align: right;\">0</td><td style = \"text-align: right;\">3</td><td style = \"text-align: left;\">female</td><td style = \"font-style: italic; text-align: right;\">39.0</td><td style = \"text-align: right;\">29.125</td></tr><tr><td class = \"rowNumber\" style = \"font-weight: bold; text-align: right;\">887</td><td style = \"text-align: right;\">0</td><td style = \"text-align: right;\">2</td><td style = \"text-align: left;\">male</td><td style = \"text-align: right;\">27.0</td><td style = \"text-align: right;\">13.0</td></tr><tr><td class = \"rowNumber\" style = \"font-weight: bold; text-align: right;\">888</td><td style = \"text-align: right;\">1</td><td style = \"text-align: right;\">1</td><td style = \"text-align: left;\">female</td><td style = \"text-align: right;\">19.0</td><td style = \"text-align: right;\">30.0</td></tr><tr><td class = \"rowNumber\" style = \"font-weight: bold; text-align: right;\">889</td><td style = \"text-align: right;\">0</td><td style = \"text-align: right;\">3</td><td style = \"text-align: left;\">female</td><td style = \"text-align: right;\">missing</td><td style = \"text-align: right;\">23.45</td></tr><tr><td class = \"rowNumber\" style = \"font-weight: bold; text-align: right;\">890</td><td style = \"text-align: right;\">1</td><td style = \"text-align: right;\">1</td><td style = \"text-align: left;\">male</td><td style = \"text-align: right;\">26.0</td><td style = \"text-align: right;\">30.0</td></tr><tr><td class = \"rowNumber\" style = \"font-weight: bold; text-align: right;\">891</td><td style = \"text-align: right;\">0</td><td style = \"text-align: right;\">3</td><td style = \"text-align: left;\">male</td><td style = \"text-align: right;\">32.0</td><td style = \"text-align: right;\">7.75</td></tr></tbody></table></div>"
      ],
      "text/latex": [
       "\\begin{tabular}{r|ccccc}\n",
       "\t& Survived & Pclass & Sex & Age & Fare\\\\\n",
       "\t\\hline\n",
       "\t& Int64 & Int64 & String7 & Float64? & Float64\\\\\n",
       "\t\\hline\n",
       "\t1 & 0 & 3 & male & 22.0 & 7.25 \\\\\n",
       "\t2 & 1 & 1 & female & 38.0 & 71.2833 \\\\\n",
       "\t3 & 1 & 3 & female & 26.0 & 7.925 \\\\\n",
       "\t4 & 1 & 1 & female & 35.0 & 53.1 \\\\\n",
       "\t5 & 0 & 3 & male & 35.0 & 8.05 \\\\\n",
       "\t6 & 0 & 3 & male & \\emph{missing} & 8.4583 \\\\\n",
       "\t7 & 0 & 1 & male & 54.0 & 51.8625 \\\\\n",
       "\t8 & 0 & 3 & male & 2.0 & 21.075 \\\\\n",
       "\t9 & 1 & 3 & female & 27.0 & 11.1333 \\\\\n",
       "\t10 & 1 & 2 & female & 14.0 & 30.0708 \\\\\n",
       "\t11 & 1 & 3 & female & 4.0 & 16.7 \\\\\n",
       "\t12 & 1 & 1 & female & 58.0 & 26.55 \\\\\n",
       "\t13 & 0 & 3 & male & 20.0 & 8.05 \\\\\n",
       "\t14 & 0 & 3 & male & 39.0 & 31.275 \\\\\n",
       "\t15 & 0 & 3 & female & 14.0 & 7.8542 \\\\\n",
       "\t16 & 1 & 2 & female & 55.0 & 16.0 \\\\\n",
       "\t17 & 0 & 3 & male & 2.0 & 29.125 \\\\\n",
       "\t18 & 1 & 2 & male & \\emph{missing} & 13.0 \\\\\n",
       "\t19 & 0 & 3 & female & 31.0 & 18.0 \\\\\n",
       "\t20 & 1 & 3 & female & \\emph{missing} & 7.225 \\\\\n",
       "\t21 & 0 & 2 & male & 35.0 & 26.0 \\\\\n",
       "\t22 & 1 & 2 & male & 34.0 & 13.0 \\\\\n",
       "\t23 & 1 & 3 & female & 15.0 & 8.0292 \\\\\n",
       "\t24 & 1 & 1 & male & 28.0 & 35.5 \\\\\n",
       "\t25 & 0 & 3 & female & 8.0 & 21.075 \\\\\n",
       "\t26 & 1 & 3 & female & 38.0 & 31.3875 \\\\\n",
       "\t27 & 0 & 3 & male & \\emph{missing} & 7.225 \\\\\n",
       "\t28 & 0 & 1 & male & 19.0 & 263.0 \\\\\n",
       "\t29 & 1 & 3 & female & \\emph{missing} & 7.8792 \\\\\n",
       "\t30 & 0 & 3 & male & \\emph{missing} & 7.8958 \\\\\n",
       "\t$\\dots$ & $\\dots$ & $\\dots$ & $\\dots$ & $\\dots$ & $\\dots$ \\\\\n",
       "\\end{tabular}\n"
      ],
      "text/plain": [
       "\u001b[1m891×5 DataFrame\u001b[0m\n",
       "\u001b[1m Row \u001b[0m│\u001b[1m Survived \u001b[0m\u001b[1m Pclass \u001b[0m\u001b[1m Sex     \u001b[0m\u001b[1m Age       \u001b[0m\u001b[1m Fare    \u001b[0m\n",
       "     │\u001b[90m Int64    \u001b[0m\u001b[90m Int64  \u001b[0m\u001b[90m String7 \u001b[0m\u001b[90m Float64?  \u001b[0m\u001b[90m Float64 \u001b[0m\n",
       "─────┼───────────────────────────────────────────────\n",
       "   1 │        0       3  male          22.0   7.25\n",
       "   2 │        1       1  female        38.0  71.2833\n",
       "   3 │        1       3  female        26.0   7.925\n",
       "   4 │        1       1  female        35.0  53.1\n",
       "   5 │        0       3  male          35.0   8.05\n",
       "   6 │        0       3  male    \u001b[90m missing   \u001b[0m  8.4583\n",
       "   7 │        0       1  male          54.0  51.8625\n",
       "   8 │        0       3  male           2.0  21.075\n",
       "   9 │        1       3  female        27.0  11.1333\n",
       "  10 │        1       2  female        14.0  30.0708\n",
       "  11 │        1       3  female         4.0  16.7\n",
       "  ⋮  │    ⋮        ⋮        ⋮         ⋮         ⋮\n",
       " 882 │        0       3  male          33.0   7.8958\n",
       " 883 │        0       3  female        22.0  10.5167\n",
       " 884 │        0       2  male          28.0  10.5\n",
       " 885 │        0       3  male          25.0   7.05\n",
       " 886 │        0       3  female        39.0  29.125\n",
       " 887 │        0       2  male          27.0  13.0\n",
       " 888 │        1       1  female        19.0  30.0\n",
       " 889 │        0       3  female  \u001b[90m missing   \u001b[0m 23.45\n",
       " 890 │        1       1  male          26.0  30.0\n",
       " 891 │        0       3  male          32.0   7.75\n",
       "\u001b[36m                                     870 rows omitted\u001b[0m"
      ]
     },
     "execution_count": 8,
     "metadata": {},
     "output_type": "execute_result"
    }
   ],
   "source": [
    "df_titanic = DataFrame( csv_titanic )"
   ]
  },
  {
   "cell_type": "code",
   "execution_count": 9,
   "metadata": {},
   "outputs": [
    {
     "data": {
      "text/plain": [
       "(891, 5)"
      ]
     },
     "execution_count": 9,
     "metadata": {},
     "output_type": "execute_result"
    }
   ],
   "source": [
    "size( df_titanic )"
   ]
  },
  {
   "cell_type": "code",
   "execution_count": 10,
   "metadata": {},
   "outputs": [
    {
     "data": {
      "text/plain": [
       "5-element Vector{String}:\n",
       " \"Survived\"\n",
       " \"Pclass\"\n",
       " \"Sex\"\n",
       " \"Age\"\n",
       " \"Fare\""
      ]
     },
     "execution_count": 10,
     "metadata": {},
     "output_type": "execute_result"
    }
   ],
   "source": [
    "names( df_titanic )"
   ]
  },
  {
   "cell_type": "code",
   "execution_count": 11,
   "metadata": {},
   "outputs": [
    {
     "data": {
      "text/html": [
       "<div><div style = \"float: left;\"><span>5×7 DataFrame</span></div><div style = \"clear: both;\"></div></div><div class = \"data-frame\" style = \"overflow-x: scroll;\"><table class = \"data-frame\" style = \"margin-bottom: 6px;\"><thead><tr class = \"header\"><th class = \"rowNumber\" style = \"font-weight: bold; text-align: right;\">Row</th><th style = \"text-align: left;\">variable</th><th style = \"text-align: left;\">mean</th><th style = \"text-align: left;\">min</th><th style = \"text-align: left;\">median</th><th style = \"text-align: left;\">max</th><th style = \"text-align: left;\">nmissing</th><th style = \"text-align: left;\">eltype</th></tr><tr class = \"subheader headerLastRow\"><th class = \"rowNumber\" style = \"font-weight: bold; text-align: right;\"></th><th title = \"Symbol\" style = \"text-align: left;\">Symbol</th><th title = \"Union{Nothing, Float64}\" style = \"text-align: left;\">Union…</th><th title = \"Any\" style = \"text-align: left;\">Any</th><th title = \"Union{Nothing, Float64}\" style = \"text-align: left;\">Union…</th><th title = \"Any\" style = \"text-align: left;\">Any</th><th title = \"Int64\" style = \"text-align: left;\">Int64</th><th title = \"Type\" style = \"text-align: left;\">Type</th></tr></thead><tbody><tr><td class = \"rowNumber\" style = \"font-weight: bold; text-align: right;\">1</td><td style = \"text-align: left;\">Survived</td><td style = \"text-align: left;\">0.383838</td><td style = \"text-align: left;\">0</td><td style = \"text-align: left;\">0.0</td><td style = \"text-align: left;\">1</td><td style = \"text-align: right;\">0</td><td style = \"text-align: left;\">Int64</td></tr><tr><td class = \"rowNumber\" style = \"font-weight: bold; text-align: right;\">2</td><td style = \"text-align: left;\">Pclass</td><td style = \"text-align: left;\">2.30864</td><td style = \"text-align: left;\">1</td><td style = \"text-align: left;\">3.0</td><td style = \"text-align: left;\">3</td><td style = \"text-align: right;\">0</td><td style = \"text-align: left;\">Int64</td></tr><tr><td class = \"rowNumber\" style = \"font-weight: bold; text-align: right;\">3</td><td style = \"text-align: left;\">Sex</td><td style = \"font-style: italic; text-align: left;\"></td><td style = \"text-align: left;\">female</td><td style = \"font-style: italic; text-align: left;\"></td><td style = \"text-align: left;\">male</td><td style = \"text-align: right;\">0</td><td style = \"text-align: left;\">String7</td></tr><tr><td class = \"rowNumber\" style = \"font-weight: bold; text-align: right;\">4</td><td style = \"text-align: left;\">Age</td><td style = \"text-align: left;\">29.6991</td><td style = \"text-align: left;\">0.42</td><td style = \"text-align: left;\">28.0</td><td style = \"text-align: left;\">80.0</td><td style = \"text-align: right;\">177</td><td style = \"text-align: left;\">Union{Missing, Float64}</td></tr><tr><td class = \"rowNumber\" style = \"font-weight: bold; text-align: right;\">5</td><td style = \"text-align: left;\">Fare</td><td style = \"text-align: left;\">32.2042</td><td style = \"text-align: left;\">0.0</td><td style = \"text-align: left;\">14.4542</td><td style = \"text-align: left;\">512.329</td><td style = \"text-align: right;\">0</td><td style = \"text-align: left;\">Float64</td></tr></tbody></table></div>"
      ],
      "text/latex": [
       "\\begin{tabular}{r|ccccccc}\n",
       "\t& variable & mean & min & median & max & nmissing & eltype\\\\\n",
       "\t\\hline\n",
       "\t& Symbol & Union… & Any & Union… & Any & Int64 & Type\\\\\n",
       "\t\\hline\n",
       "\t1 & Survived & 0.383838 & 0 & 0.0 & 1 & 0 & Int64 \\\\\n",
       "\t2 & Pclass & 2.30864 & 1 & 3.0 & 3 & 0 & Int64 \\\\\n",
       "\t3 & Sex &  & female &  & male & 0 & String7 \\\\\n",
       "\t4 & Age & 29.6991 & 0.42 & 28.0 & 80.0 & 177 & Union\\{Missing, Float64\\} \\\\\n",
       "\t5 & Fare & 32.2042 & 0.0 & 14.4542 & 512.329 & 0 & Float64 \\\\\n",
       "\\end{tabular}\n"
      ],
      "text/plain": [
       "\u001b[1m5×7 DataFrame\u001b[0m\n",
       "\u001b[1m Row \u001b[0m│\u001b[1m variable \u001b[0m\u001b[1m mean     \u001b[0m\u001b[1m min    \u001b[0m\u001b[1m median  \u001b[0m\u001b[1m max     \u001b[0m\u001b[1m nmissing \u001b[0m\u001b[1m eltype         \u001b[0m ⋯\n",
       "     │\u001b[90m Symbol   \u001b[0m\u001b[90m Union…   \u001b[0m\u001b[90m Any    \u001b[0m\u001b[90m Union…  \u001b[0m\u001b[90m Any     \u001b[0m\u001b[90m Int64    \u001b[0m\u001b[90m Type           \u001b[0m ⋯\n",
       "─────┼──────────────────────────────────────────────────────────────────────────\n",
       "   1 │ Survived  0.383838  0       0.0      1               0  Int64           ⋯\n",
       "   2 │ Pclass    2.30864   1       3.0      3               0  Int64\n",
       "   3 │ Sex      \u001b[90m          \u001b[0m female \u001b[90m         \u001b[0m male            0  String7\n",
       "   4 │ Age       29.6991   0.42    28.0     80.0          177  Union{Missing,\n",
       "   5 │ Fare      32.2042   0.0     14.4542  512.329         0  Float64         ⋯\n",
       "\u001b[36m                                                                1 column omitted\u001b[0m"
      ]
     },
     "execution_count": 11,
     "metadata": {},
     "output_type": "execute_result"
    }
   ],
   "source": [
    "describe(df_titanic)"
   ]
  },
  {
   "cell_type": "code",
   "execution_count": 12,
   "metadata": {},
   "outputs": [
    {
     "data": {
      "text/html": [
       "<div><div style = \"float: left;\"><span>4×5 DataFrame</span></div><div style = \"clear: both;\"></div></div><div class = \"data-frame\" style = \"overflow-x: scroll;\"><table class = \"data-frame\" style = \"margin-bottom: 6px;\"><thead><tr class = \"header\"><th class = \"rowNumber\" style = \"font-weight: bold; text-align: right;\">Row</th><th style = \"text-align: left;\">Survived</th><th style = \"text-align: left;\">Pclass</th><th style = \"text-align: left;\">Sex</th><th style = \"text-align: left;\">Age</th><th style = \"text-align: left;\">Fare</th></tr><tr class = \"subheader headerLastRow\"><th class = \"rowNumber\" style = \"font-weight: bold; text-align: right;\"></th><th title = \"Int64\" style = \"text-align: left;\">Int64</th><th title = \"Int64\" style = \"text-align: left;\">Int64</th><th title = \"String7\" style = \"text-align: left;\">String7</th><th title = \"Union{Missing, Float64}\" style = \"text-align: left;\">Float64?</th><th title = \"Float64\" style = \"text-align: left;\">Float64</th></tr></thead><tbody><tr><td class = \"rowNumber\" style = \"font-weight: bold; text-align: right;\">1</td><td style = \"text-align: right;\">0</td><td style = \"text-align: right;\">3</td><td style = \"text-align: left;\">male</td><td style = \"text-align: right;\">22.0</td><td style = \"text-align: right;\">7.25</td></tr><tr><td class = \"rowNumber\" style = \"font-weight: bold; text-align: right;\">2</td><td style = \"text-align: right;\">1</td><td style = \"text-align: right;\">1</td><td style = \"text-align: left;\">female</td><td style = \"text-align: right;\">38.0</td><td style = \"text-align: right;\">71.2833</td></tr><tr><td class = \"rowNumber\" style = \"font-weight: bold; text-align: right;\">3</td><td style = \"text-align: right;\">1</td><td style = \"text-align: right;\">3</td><td style = \"text-align: left;\">female</td><td style = \"text-align: right;\">26.0</td><td style = \"text-align: right;\">7.925</td></tr><tr><td class = \"rowNumber\" style = \"font-weight: bold; text-align: right;\">4</td><td style = \"text-align: right;\">1</td><td style = \"text-align: right;\">1</td><td style = \"text-align: left;\">female</td><td style = \"text-align: right;\">35.0</td><td style = \"text-align: right;\">53.1</td></tr></tbody></table></div>"
      ],
      "text/latex": [
       "\\begin{tabular}{r|ccccc}\n",
       "\t& Survived & Pclass & Sex & Age & Fare\\\\\n",
       "\t\\hline\n",
       "\t& Int64 & Int64 & String7 & Float64? & Float64\\\\\n",
       "\t\\hline\n",
       "\t1 & 0 & 3 & male & 22.0 & 7.25 \\\\\n",
       "\t2 & 1 & 1 & female & 38.0 & 71.2833 \\\\\n",
       "\t3 & 1 & 3 & female & 26.0 & 7.925 \\\\\n",
       "\t4 & 1 & 1 & female & 35.0 & 53.1 \\\\\n",
       "\\end{tabular}\n"
      ],
      "text/plain": [
       "\u001b[1m4×5 DataFrame\u001b[0m\n",
       "\u001b[1m Row \u001b[0m│\u001b[1m Survived \u001b[0m\u001b[1m Pclass \u001b[0m\u001b[1m Sex     \u001b[0m\u001b[1m Age      \u001b[0m\u001b[1m Fare    \u001b[0m\n",
       "     │\u001b[90m Int64    \u001b[0m\u001b[90m Int64  \u001b[0m\u001b[90m String7 \u001b[0m\u001b[90m Float64? \u001b[0m\u001b[90m Float64 \u001b[0m\n",
       "─────┼──────────────────────────────────────────────\n",
       "   1 │        0       3  male         22.0   7.25\n",
       "   2 │        1       1  female       38.0  71.2833\n",
       "   3 │        1       3  female       26.0   7.925\n",
       "   4 │        1       1  female       35.0  53.1"
      ]
     },
     "execution_count": 12,
     "metadata": {},
     "output_type": "execute_result"
    }
   ],
   "source": [
    "df_titanic[1:4,:]"
   ]
  },
  {
   "cell_type": "code",
   "execution_count": 13,
   "metadata": {},
   "outputs": [
    {
     "data": {
      "text/html": [
       "<div><div style = \"float: left;\"><span>5×5 DataFrame</span></div><div style = \"clear: both;\"></div></div><div class = \"data-frame\" style = \"overflow-x: scroll;\"><table class = \"data-frame\" style = \"margin-bottom: 6px;\"><thead><tr class = \"header\"><th class = \"rowNumber\" style = \"font-weight: bold; text-align: right;\">Row</th><th style = \"text-align: left;\">Survived</th><th style = \"text-align: left;\">Pclass</th><th style = \"text-align: left;\">Sex</th><th style = \"text-align: left;\">Age</th><th style = \"text-align: left;\">Fare</th></tr><tr class = \"subheader headerLastRow\"><th class = \"rowNumber\" style = \"font-weight: bold; text-align: right;\"></th><th title = \"Int64\" style = \"text-align: left;\">Int64</th><th title = \"Int64\" style = \"text-align: left;\">Int64</th><th title = \"String7\" style = \"text-align: left;\">String7</th><th title = \"Union{Missing, Float64}\" style = \"text-align: left;\">Float64?</th><th title = \"Float64\" style = \"text-align: left;\">Float64</th></tr></thead><tbody><tr><td class = \"rowNumber\" style = \"font-weight: bold; text-align: right;\">1</td><td style = \"text-align: right;\">0</td><td style = \"text-align: right;\">2</td><td style = \"text-align: left;\">male</td><td style = \"text-align: right;\">27.0</td><td style = \"text-align: right;\">13.0</td></tr><tr><td class = \"rowNumber\" style = \"font-weight: bold; text-align: right;\">2</td><td style = \"text-align: right;\">1</td><td style = \"text-align: right;\">1</td><td style = \"text-align: left;\">female</td><td style = \"text-align: right;\">19.0</td><td style = \"text-align: right;\">30.0</td></tr><tr><td class = \"rowNumber\" style = \"font-weight: bold; text-align: right;\">3</td><td style = \"text-align: right;\">0</td><td style = \"text-align: right;\">3</td><td style = \"text-align: left;\">female</td><td style = \"font-style: italic; text-align: right;\">missing</td><td style = \"text-align: right;\">23.45</td></tr><tr><td class = \"rowNumber\" style = \"font-weight: bold; text-align: right;\">4</td><td style = \"text-align: right;\">1</td><td style = \"text-align: right;\">1</td><td style = \"text-align: left;\">male</td><td style = \"text-align: right;\">26.0</td><td style = \"text-align: right;\">30.0</td></tr><tr><td class = \"rowNumber\" style = \"font-weight: bold; text-align: right;\">5</td><td style = \"text-align: right;\">0</td><td style = \"text-align: right;\">3</td><td style = \"text-align: left;\">male</td><td style = \"text-align: right;\">32.0</td><td style = \"text-align: right;\">7.75</td></tr></tbody></table></div>"
      ],
      "text/latex": [
       "\\begin{tabular}{r|ccccc}\n",
       "\t& Survived & Pclass & Sex & Age & Fare\\\\\n",
       "\t\\hline\n",
       "\t& Int64 & Int64 & String7 & Float64? & Float64\\\\\n",
       "\t\\hline\n",
       "\t1 & 0 & 2 & male & 27.0 & 13.0 \\\\\n",
       "\t2 & 1 & 1 & female & 19.0 & 30.0 \\\\\n",
       "\t3 & 0 & 3 & female & \\emph{missing} & 23.45 \\\\\n",
       "\t4 & 1 & 1 & male & 26.0 & 30.0 \\\\\n",
       "\t5 & 0 & 3 & male & 32.0 & 7.75 \\\\\n",
       "\\end{tabular}\n"
      ],
      "text/plain": [
       "\u001b[1m5×5 DataFrame\u001b[0m\n",
       "\u001b[1m Row \u001b[0m│\u001b[1m Survived \u001b[0m\u001b[1m Pclass \u001b[0m\u001b[1m Sex     \u001b[0m\u001b[1m Age       \u001b[0m\u001b[1m Fare    \u001b[0m\n",
       "     │\u001b[90m Int64    \u001b[0m\u001b[90m Int64  \u001b[0m\u001b[90m String7 \u001b[0m\u001b[90m Float64?  \u001b[0m\u001b[90m Float64 \u001b[0m\n",
       "─────┼───────────────────────────────────────────────\n",
       "   1 │        0       2  male          27.0    13.0\n",
       "   2 │        1       1  female        19.0    30.0\n",
       "   3 │        0       3  female  \u001b[90m missing   \u001b[0m   23.45\n",
       "   4 │        1       1  male          26.0    30.0\n",
       "   5 │        0       3  male          32.0     7.75"
      ]
     },
     "execution_count": 13,
     "metadata": {},
     "output_type": "execute_result"
    }
   ],
   "source": [
    "df_titanic[end-4:end,:]"
   ]
  },
  {
   "cell_type": "code",
   "execution_count": 15,
   "metadata": {},
   "outputs": [
    {
     "data": {
      "text/html": [
       "<div><div style = \"float: left;\"><span>5×3 DataFrame</span></div><div style = \"clear: both;\"></div></div><div class = \"data-frame\" style = \"overflow-x: scroll;\"><table class = \"data-frame\" style = \"margin-bottom: 6px;\"><thead><tr class = \"header\"><th class = \"rowNumber\" style = \"font-weight: bold; text-align: right;\">Row</th><th style = \"text-align: left;\">Survived</th><th style = \"text-align: left;\">Pclass</th><th style = \"text-align: left;\">Fare</th></tr><tr class = \"subheader headerLastRow\"><th class = \"rowNumber\" style = \"font-weight: bold; text-align: right;\"></th><th title = \"Int64\" style = \"text-align: left;\">Int64</th><th title = \"Int64\" style = \"text-align: left;\">Int64</th><th title = \"Float64\" style = \"text-align: left;\">Float64</th></tr></thead><tbody><tr><td class = \"rowNumber\" style = \"font-weight: bold; text-align: right;\">1</td><td style = \"text-align: right;\">0</td><td style = \"text-align: right;\">2</td><td style = \"text-align: right;\">13.0</td></tr><tr><td class = \"rowNumber\" style = \"font-weight: bold; text-align: right;\">2</td><td style = \"text-align: right;\">1</td><td style = \"text-align: right;\">1</td><td style = \"text-align: right;\">30.0</td></tr><tr><td class = \"rowNumber\" style = \"font-weight: bold; text-align: right;\">3</td><td style = \"text-align: right;\">0</td><td style = \"text-align: right;\">3</td><td style = \"text-align: right;\">23.45</td></tr><tr><td class = \"rowNumber\" style = \"font-weight: bold; text-align: right;\">4</td><td style = \"text-align: right;\">1</td><td style = \"text-align: right;\">1</td><td style = \"text-align: right;\">30.0</td></tr><tr><td class = \"rowNumber\" style = \"font-weight: bold; text-align: right;\">5</td><td style = \"text-align: right;\">0</td><td style = \"text-align: right;\">3</td><td style = \"text-align: right;\">7.75</td></tr></tbody></table></div>"
      ],
      "text/latex": [
       "\\begin{tabular}{r|ccc}\n",
       "\t& Survived & Pclass & Fare\\\\\n",
       "\t\\hline\n",
       "\t& Int64 & Int64 & Float64\\\\\n",
       "\t\\hline\n",
       "\t1 & 0 & 2 & 13.0 \\\\\n",
       "\t2 & 1 & 1 & 30.0 \\\\\n",
       "\t3 & 0 & 3 & 23.45 \\\\\n",
       "\t4 & 1 & 1 & 30.0 \\\\\n",
       "\t5 & 0 & 3 & 7.75 \\\\\n",
       "\\end{tabular}\n"
      ],
      "text/plain": [
       "\u001b[1m5×3 DataFrame\u001b[0m\n",
       "\u001b[1m Row \u001b[0m│\u001b[1m Survived \u001b[0m\u001b[1m Pclass \u001b[0m\u001b[1m Fare    \u001b[0m\n",
       "     │\u001b[90m Int64    \u001b[0m\u001b[90m Int64  \u001b[0m\u001b[90m Float64 \u001b[0m\n",
       "─────┼───────────────────────────\n",
       "   1 │        0       2    13.0\n",
       "   2 │        1       1    30.0\n",
       "   3 │        0       3    23.45\n",
       "   4 │        1       1    30.0\n",
       "   5 │        0       3     7.75"
      ]
     },
     "execution_count": 15,
     "metadata": {},
     "output_type": "execute_result"
    }
   ],
   "source": [
    "df_titanic[ end-4:end , [1,2,5] ]"
   ]
  },
  {
   "cell_type": "code",
   "execution_count": 17,
   "metadata": {},
   "outputs": [
    {
     "data": {
      "text/plain": [
       "5-element Vector{Float64}:\n",
       " 13.0\n",
       " 30.0\n",
       " 23.45\n",
       " 30.0\n",
       "  7.75"
      ]
     },
     "execution_count": 17,
     "metadata": {},
     "output_type": "execute_result"
    }
   ],
   "source": [
    "df_titanic[ end-4:end , :Fare ]"
   ]
  },
  {
   "cell_type": "code",
   "execution_count": 18,
   "metadata": {},
   "outputs": [
    {
     "data": {
      "text/html": [
       "<div><div style = \"float: left;\"><span>5×2 DataFrame</span></div><div style = \"clear: both;\"></div></div><div class = \"data-frame\" style = \"overflow-x: scroll;\"><table class = \"data-frame\" style = \"margin-bottom: 6px;\"><thead><tr class = \"header\"><th class = \"rowNumber\" style = \"font-weight: bold; text-align: right;\">Row</th><th style = \"text-align: left;\">Fare</th><th style = \"text-align: left;\">Pclass</th></tr><tr class = \"subheader headerLastRow\"><th class = \"rowNumber\" style = \"font-weight: bold; text-align: right;\"></th><th title = \"Float64\" style = \"text-align: left;\">Float64</th><th title = \"Int64\" style = \"text-align: left;\">Int64</th></tr></thead><tbody><tr><td class = \"rowNumber\" style = \"font-weight: bold; text-align: right;\">1</td><td style = \"text-align: right;\">13.0</td><td style = \"text-align: right;\">2</td></tr><tr><td class = \"rowNumber\" style = \"font-weight: bold; text-align: right;\">2</td><td style = \"text-align: right;\">30.0</td><td style = \"text-align: right;\">1</td></tr><tr><td class = \"rowNumber\" style = \"font-weight: bold; text-align: right;\">3</td><td style = \"text-align: right;\">23.45</td><td style = \"text-align: right;\">3</td></tr><tr><td class = \"rowNumber\" style = \"font-weight: bold; text-align: right;\">4</td><td style = \"text-align: right;\">30.0</td><td style = \"text-align: right;\">1</td></tr><tr><td class = \"rowNumber\" style = \"font-weight: bold; text-align: right;\">5</td><td style = \"text-align: right;\">7.75</td><td style = \"text-align: right;\">3</td></tr></tbody></table></div>"
      ],
      "text/latex": [
       "\\begin{tabular}{r|cc}\n",
       "\t& Fare & Pclass\\\\\n",
       "\t\\hline\n",
       "\t& Float64 & Int64\\\\\n",
       "\t\\hline\n",
       "\t1 & 13.0 & 2 \\\\\n",
       "\t2 & 30.0 & 1 \\\\\n",
       "\t3 & 23.45 & 3 \\\\\n",
       "\t4 & 30.0 & 1 \\\\\n",
       "\t5 & 7.75 & 3 \\\\\n",
       "\\end{tabular}\n"
      ],
      "text/plain": [
       "\u001b[1m5×2 DataFrame\u001b[0m\n",
       "\u001b[1m Row \u001b[0m│\u001b[1m Fare    \u001b[0m\u001b[1m Pclass \u001b[0m\n",
       "     │\u001b[90m Float64 \u001b[0m\u001b[90m Int64  \u001b[0m\n",
       "─────┼─────────────────\n",
       "   1 │   13.0        2\n",
       "   2 │   30.0        1\n",
       "   3 │   23.45       3\n",
       "   4 │   30.0        1\n",
       "   5 │    7.75       3"
      ]
     },
     "execution_count": 18,
     "metadata": {},
     "output_type": "execute_result"
    }
   ],
   "source": [
    "df_titanic[ end-4:end , [:Fare,:Pclass] ]"
   ]
  },
  {
   "cell_type": "code",
   "execution_count": 19,
   "metadata": {},
   "outputs": [
    {
     "data": {
      "text/html": [
       "<div><div style = \"float: left;\"><span>5×2 DataFrame</span></div><div style = \"clear: both;\"></div></div><div class = \"data-frame\" style = \"overflow-x: scroll;\"><table class = \"data-frame\" style = \"margin-bottom: 6px;\"><thead><tr class = \"header\"><th class = \"rowNumber\" style = \"font-weight: bold; text-align: right;\">Row</th><th style = \"text-align: left;\">Fare</th><th style = \"text-align: left;\">Pclass</th></tr><tr class = \"subheader headerLastRow\"><th class = \"rowNumber\" style = \"font-weight: bold; text-align: right;\"></th><th title = \"Float64\" style = \"text-align: left;\">Float64</th><th title = \"Int64\" style = \"text-align: left;\">Int64</th></tr></thead><tbody><tr><td class = \"rowNumber\" style = \"font-weight: bold; text-align: right;\">1</td><td style = \"text-align: right;\">13.0</td><td style = \"text-align: right;\">2</td></tr><tr><td class = \"rowNumber\" style = \"font-weight: bold; text-align: right;\">2</td><td style = \"text-align: right;\">30.0</td><td style = \"text-align: right;\">1</td></tr><tr><td class = \"rowNumber\" style = \"font-weight: bold; text-align: right;\">3</td><td style = \"text-align: right;\">23.45</td><td style = \"text-align: right;\">3</td></tr><tr><td class = \"rowNumber\" style = \"font-weight: bold; text-align: right;\">4</td><td style = \"text-align: right;\">30.0</td><td style = \"text-align: right;\">1</td></tr><tr><td class = \"rowNumber\" style = \"font-weight: bold; text-align: right;\">5</td><td style = \"text-align: right;\">7.75</td><td style = \"text-align: right;\">3</td></tr></tbody></table></div>"
      ],
      "text/latex": [
       "\\begin{tabular}{r|cc}\n",
       "\t& Fare & Pclass\\\\\n",
       "\t\\hline\n",
       "\t& Float64 & Int64\\\\\n",
       "\t\\hline\n",
       "\t1 & 13.0 & 2 \\\\\n",
       "\t2 & 30.0 & 1 \\\\\n",
       "\t3 & 23.45 & 3 \\\\\n",
       "\t4 & 30.0 & 1 \\\\\n",
       "\t5 & 7.75 & 3 \\\\\n",
       "\\end{tabular}\n"
      ],
      "text/plain": [
       "\u001b[1m5×2 DataFrame\u001b[0m\n",
       "\u001b[1m Row \u001b[0m│\u001b[1m Fare    \u001b[0m\u001b[1m Pclass \u001b[0m\n",
       "     │\u001b[90m Float64 \u001b[0m\u001b[90m Int64  \u001b[0m\n",
       "─────┼─────────────────\n",
       "   1 │   13.0        2\n",
       "   2 │   30.0        1\n",
       "   3 │   23.45       3\n",
       "   4 │   30.0        1\n",
       "   5 │    7.75       3"
      ]
     },
     "execution_count": 19,
     "metadata": {},
     "output_type": "execute_result"
    }
   ],
   "source": [
    "df_titanic[ end-4:end , [\"Fare\",\"Pclass\"] ]"
   ]
  },
  {
   "cell_type": "code",
   "execution_count": 20,
   "metadata": {},
   "outputs": [
    {
     "data": {
      "text/html": [
       "<div><div style = \"float: left;\"><span>5×2 DataFrame</span></div><div style = \"clear: both;\"></div></div><div class = \"data-frame\" style = \"overflow-x: scroll;\"><table class = \"data-frame\" style = \"margin-bottom: 6px;\"><thead><tr class = \"header\"><th class = \"rowNumber\" style = \"font-weight: bold; text-align: right;\">Row</th><th style = \"text-align: left;\">Fare</th><th style = \"text-align: left;\">Pclass</th></tr><tr class = \"subheader headerLastRow\"><th class = \"rowNumber\" style = \"font-weight: bold; text-align: right;\"></th><th title = \"Float64\" style = \"text-align: left;\">Float64</th><th title = \"Int64\" style = \"text-align: left;\">Int64</th></tr></thead><tbody><tr><td class = \"rowNumber\" style = \"font-weight: bold; text-align: right;\">1</td><td style = \"text-align: right;\">13.0</td><td style = \"text-align: right;\">2</td></tr><tr><td class = \"rowNumber\" style = \"font-weight: bold; text-align: right;\">2</td><td style = \"text-align: right;\">30.0</td><td style = \"text-align: right;\">1</td></tr><tr><td class = \"rowNumber\" style = \"font-weight: bold; text-align: right;\">3</td><td style = \"text-align: right;\">23.45</td><td style = \"text-align: right;\">3</td></tr><tr><td class = \"rowNumber\" style = \"font-weight: bold; text-align: right;\">4</td><td style = \"text-align: right;\">30.0</td><td style = \"text-align: right;\">1</td></tr><tr><td class = \"rowNumber\" style = \"font-weight: bold; text-align: right;\">5</td><td style = \"text-align: right;\">7.75</td><td style = \"text-align: right;\">3</td></tr></tbody></table></div>"
      ],
      "text/latex": [
       "\\begin{tabular}{r|cc}\n",
       "\t& Fare & Pclass\\\\\n",
       "\t\\hline\n",
       "\t& Float64 & Int64\\\\\n",
       "\t\\hline\n",
       "\t1 & 13.0 & 2 \\\\\n",
       "\t2 & 30.0 & 1 \\\\\n",
       "\t3 & 23.45 & 3 \\\\\n",
       "\t4 & 30.0 & 1 \\\\\n",
       "\t5 & 7.75 & 3 \\\\\n",
       "\\end{tabular}\n"
      ],
      "text/plain": [
       "\u001b[1m5×2 DataFrame\u001b[0m\n",
       "\u001b[1m Row \u001b[0m│\u001b[1m Fare    \u001b[0m\u001b[1m Pclass \u001b[0m\n",
       "     │\u001b[90m Float64 \u001b[0m\u001b[90m Int64  \u001b[0m\n",
       "─────┼─────────────────\n",
       "   1 │   13.0        2\n",
       "   2 │   30.0        1\n",
       "   3 │   23.45       3\n",
       "   4 │   30.0        1\n",
       "   5 │    7.75       3"
      ]
     },
     "execution_count": 20,
     "metadata": {},
     "output_type": "execute_result"
    }
   ],
   "source": [
    "df_titanic[ end-4:end , [Symbol(\"Fare\"),Symbol(\"Pclass\")] ]"
   ]
  },
  {
   "cell_type": "code",
   "execution_count": 21,
   "metadata": {},
   "outputs": [
    {
     "data": {
      "text/plain": [
       "891"
      ]
     },
     "execution_count": 21,
     "metadata": {},
     "output_type": "execute_result"
    }
   ],
   "source": [
    "nrow( df_titanic )"
   ]
  },
  {
   "cell_type": "code",
   "execution_count": 22,
   "metadata": {},
   "outputs": [
    {
     "data": {
      "text/plain": [
       "714"
      ]
     },
     "execution_count": 22,
     "metadata": {},
     "output_type": "execute_result"
    }
   ],
   "source": [
    "nrow( df_titanic[ completecases(df_titanic) , : ] )"
   ]
  },
  {
   "cell_type": "code",
   "execution_count": 23,
   "metadata": {},
   "outputs": [],
   "source": [
    "df_titanic = df_titanic[ completecases(df_titanic) , : ];"
   ]
  },
  {
   "cell_type": "code",
   "execution_count": 24,
   "metadata": {},
   "outputs": [
    {
     "data": {
      "text/plain": [
       "714"
      ]
     },
     "execution_count": 24,
     "metadata": {},
     "output_type": "execute_result"
    }
   ],
   "source": [
    "nrow( df_titanic )"
   ]
  },
  {
   "cell_type": "code",
   "execution_count": 18,
   "metadata": {},
   "outputs": [],
   "source": [
    "# also the use of 'dropmissing(df, :a)'"
   ]
  },
  {
   "cell_type": "code",
   "execution_count": null,
   "metadata": {},
   "outputs": [],
   "source": []
  },
  {
   "cell_type": "code",
   "execution_count": 25,
   "metadata": {},
   "outputs": [
    {
     "data": {
      "text/plain": [
       "StatsModels.TableRegressionModel{LinearModel{GLM.LmResp{Vector{Float64}}, GLM.DensePredChol{Float64, LinearAlgebra.CholeskyPivoted{Float64, Matrix{Float64}, Vector{Int64}}}}, Matrix{Float64}}\n",
       "\n",
       "Age ~ 1 + Fare\n",
       "\n",
       "Coefficients:\n",
       "─────────────────────────────────────────────────────────────────────────────\n",
       "                  Coef.  Std. Error      t  Pr(>|t|)    Lower 95%   Upper 95%\n",
       "─────────────────────────────────────────────────────────────────────────────\n",
       "(Intercept)  28.7842      0.647646   44.44    <1e-99  27.5127      30.0557\n",
       "Fare          0.0263708   0.0102399   2.58    0.0102   0.00626671   0.0464748\n",
       "─────────────────────────────────────────────────────────────────────────────"
      ]
     },
     "execution_count": 25,
     "metadata": {},
     "output_type": "execute_result"
    }
   ],
   "source": [
    "ols_titanic = lm( @formula( Age ~ Fare ) , df_titanic )"
   ]
  },
  {
   "cell_type": "code",
   "execution_count": 26,
   "metadata": {},
   "outputs": [
    {
     "data": {
      "text/plain": [
       "StatsModels.TableRegressionModel{LinearModel{GLM.LmResp{Vector{Float64}}, GLM.DensePredChol{Float64, LinearAlgebra.CholeskyPivoted{Float64, Matrix{Float64}, Vector{Int64}}}}, Matrix{Float64}}"
      ]
     },
     "execution_count": 26,
     "metadata": {},
     "output_type": "execute_result"
    }
   ],
   "source": [
    "typeof( ols_titanic )"
   ]
  },
  {
   "cell_type": "code",
   "execution_count": 27,
   "metadata": {},
   "outputs": [
    {
     "data": {
      "text/plain": [
       "(:model, :mf, :mm)"
      ]
     },
     "execution_count": 27,
     "metadata": {},
     "output_type": "execute_result"
    }
   ],
   "source": [
    "fieldnames( typeof( ols_titanic ) )"
   ]
  },
  {
   "cell_type": "code",
   "execution_count": 28,
   "metadata": {},
   "outputs": [
    {
     "data": {
      "text/plain": [
       "LinearModel{GLM.LmResp{Vector{Float64}}, GLM.DensePredChol{Float64, LinearAlgebra.CholeskyPivoted{Float64, Matrix{Float64}, Vector{Int64}}}}:\n",
       "\n",
       "Coefficients:\n",
       "────────────────────────────────────────────────────────────────────\n",
       "         Coef.  Std. Error      t  Pr(>|t|)    Lower 95%   Upper 95%\n",
       "────────────────────────────────────────────────────────────────────\n",
       "x1  28.7842      0.647646   44.44    <1e-99  27.5127      30.0557\n",
       "x2   0.0263708   0.0102399   2.58    0.0102   0.00626671   0.0464748\n",
       "────────────────────────────────────────────────────────────────────\n"
      ]
     },
     "execution_count": 28,
     "metadata": {},
     "output_type": "execute_result"
    }
   ],
   "source": [
    "ols_titanic.model"
   ]
  },
  {
   "cell_type": "code",
   "execution_count": 29,
   "metadata": {},
   "outputs": [
    {
     "data": {
      "text/plain": [
       "2-element Vector{Float64}:\n",
       " 0.6476455906910649\n",
       " 0.010239919595100752"
      ]
     },
     "execution_count": 29,
     "metadata": {},
     "output_type": "execute_result"
    }
   ],
   "source": [
    "stderror( ols_titanic )"
   ]
  },
  {
   "cell_type": "code",
   "execution_count": 30,
   "metadata": {},
   "outputs": [
    {
     "data": {
      "text/plain": [
       "714-element Vector{Float64}:\n",
       " 28.975384875894424\n",
       " 30.663991846538575\n",
       " 28.993185140837582\n",
       " 30.18448435388532\n",
       " 28.996481486197425\n",
       " 30.15185053482286\n",
       " 29.339960672693206\n",
       " 29.07779045938149\n",
       " 29.577186781397906\n",
       " 29.224588585098655\n",
       " 29.484340599454384\n",
       " 28.996481486197425\n",
       " 29.6089424540565\n",
       "  ⋮\n",
       " 28.99241511456152\n",
       " 30.977144655723787\n",
       " 29.469836679871072\n",
       " 28.99241511456152\n",
       " 29.06153024699045\n",
       " 29.061089855250376\n",
       " 28.970110723318673\n",
       " 29.55224531386718\n",
       " 29.127016762447262\n",
       " 29.575319731386088\n",
       " 29.575319731386088\n",
       " 28.988570257333798"
      ]
     },
     "execution_count": 30,
     "metadata": {},
     "output_type": "execute_result"
    }
   ],
   "source": [
    "GLM.predict( ols_titanic ) "
   ]
  },
  {
   "cell_type": "code",
   "execution_count": 31,
   "metadata": {},
   "outputs": [
    {
     "data": {
      "text/plain": [
       "0.009228809267447402"
      ]
     },
     "execution_count": 31,
     "metadata": {},
     "output_type": "execute_result"
    }
   ],
   "source": [
    "r2( ols_titanic )"
   ]
  },
  {
   "cell_type": "code",
   "execution_count": 32,
   "metadata": {},
   "outputs": [
    {
     "data": {
      "text/plain": [
       "3-element Vector{Union{Missing, Float64}}:\n",
       " 28.810567607902207\n",
       " 29.047904473811\n",
       " 31.421273132898907"
      ]
     },
     "execution_count": 32,
     "metadata": {},
     "output_type": "execute_result"
    }
   ],
   "source": [
    "GLM.predict( ols_titanic , DataFrame( Fare = [1,10,100] ) )"
   ]
  },
  {
   "cell_type": "code",
   "execution_count": 33,
   "metadata": {},
   "outputs": [
    {
     "data": {
      "text/plain": [
       "6.264518937828894e-15"
      ]
     },
     "execution_count": 33,
     "metadata": {},
     "output_type": "execute_result"
    }
   ],
   "source": [
    "diffs = df_titanic[:,\"Age\"] .- GLM.predict( ols_titanic ) \n",
    "mean_diffs = mean(diffs)"
   ]
  },
  {
   "cell_type": "code",
   "execution_count": 34,
   "metadata": {},
   "outputs": [
    {
     "data": {
      "image/svg+xml": [
       "<?xml version=\"1.0\" encoding=\"utf-8\"?>\n",
       "<svg xmlns=\"http://www.w3.org/2000/svg\" xmlns:xlink=\"http://www.w3.org/1999/xlink\" width=\"400\" height=\"200\" viewBox=\"0 0 1600 800\">\n",
       "<defs>\n",
       "  <clipPath id=\"clip650\">\n",
       "    <rect x=\"0\" y=\"0\" width=\"1600\" height=\"800\"/>\n",
       "  </clipPath>\n",
       "</defs>\n",
       "<path clip-path=\"url(#clip650)\" d=\"M0 800 L1600 800 L1600 0 L0 0  Z\" fill=\"#ffffff\" fill-rule=\"evenodd\" fill-opacity=\"1\"/>\n",
       "<defs>\n",
       "  <clipPath id=\"clip651\">\n",
       "    <rect x=\"320\" y=\"0\" width=\"1121\" height=\"800\"/>\n",
       "  </clipPath>\n",
       "</defs>\n",
       "<path clip-path=\"url(#clip650)\" d=\"M161.121 703.088 L1552.76 703.088 L1552.76 108.352 L161.121 108.352  Z\" fill=\"#ffffff\" fill-rule=\"evenodd\" fill-opacity=\"1\"/>\n",
       "<defs>\n",
       "  <clipPath id=\"clip652\">\n",
       "    <rect x=\"161\" y=\"108\" width=\"1393\" height=\"596\"/>\n",
       "  </clipPath>\n",
       "</defs>\n",
       "<polyline clip-path=\"url(#clip652)\" style=\"stroke:#000000; stroke-linecap:round; stroke-linejoin:round; stroke-width:2; stroke-opacity:0.1; fill:none\" points=\"375.28,703.088 375.28,108.352 \"/>\n",
       "<polyline clip-path=\"url(#clip652)\" style=\"stroke:#000000; stroke-linecap:round; stroke-linejoin:round; stroke-width:2; stroke-opacity:0.1; fill:none\" points=\"719.322,703.088 719.322,108.352 \"/>\n",
       "<polyline clip-path=\"url(#clip652)\" style=\"stroke:#000000; stroke-linecap:round; stroke-linejoin:round; stroke-width:2; stroke-opacity:0.1; fill:none\" points=\"1063.36,703.088 1063.36,108.352 \"/>\n",
       "<polyline clip-path=\"url(#clip652)\" style=\"stroke:#000000; stroke-linecap:round; stroke-linejoin:round; stroke-width:2; stroke-opacity:0.1; fill:none\" points=\"1407.41,703.088 1407.41,108.352 \"/>\n",
       "<polyline clip-path=\"url(#clip650)\" style=\"stroke:#000000; stroke-linecap:round; stroke-linejoin:round; stroke-width:4; stroke-opacity:1; fill:none\" points=\"161.121,703.088 1552.76,703.088 \"/>\n",
       "<polyline clip-path=\"url(#clip650)\" style=\"stroke:#000000; stroke-linecap:round; stroke-linejoin:round; stroke-width:4; stroke-opacity:1; fill:none\" points=\"375.28,703.088 375.28,684.19 \"/>\n",
       "<polyline clip-path=\"url(#clip650)\" style=\"stroke:#000000; stroke-linecap:round; stroke-linejoin:round; stroke-width:4; stroke-opacity:1; fill:none\" points=\"719.322,703.088 719.322,684.19 \"/>\n",
       "<polyline clip-path=\"url(#clip650)\" style=\"stroke:#000000; stroke-linecap:round; stroke-linejoin:round; stroke-width:4; stroke-opacity:1; fill:none\" points=\"1063.36,703.088 1063.36,684.19 \"/>\n",
       "<polyline clip-path=\"url(#clip650)\" style=\"stroke:#000000; stroke-linecap:round; stroke-linejoin:round; stroke-width:4; stroke-opacity:1; fill:none\" points=\"1407.41,703.088 1407.41,684.19 \"/>\n",
       "<path clip-path=\"url(#clip650)\" d=\"M329.841 742.259 L359.517 742.259 L359.517 746.194 L329.841 746.194 L329.841 742.259 Z\" fill=\"#000000\" fill-rule=\"nonzero\" fill-opacity=\"1\" /><path clip-path=\"url(#clip650)\" d=\"M373.637 755.153 L389.956 755.153 L389.956 759.088 L368.012 759.088 L368.012 755.153 Q370.674 752.398 375.257 747.768 Q379.864 743.116 381.044 741.773 Q383.29 739.25 384.169 737.514 Q385.072 735.755 385.072 734.065 Q385.072 731.31 383.128 729.574 Q381.206 727.838 378.104 727.838 Q375.905 727.838 373.452 728.602 Q371.021 729.366 368.243 730.917 L368.243 726.195 Q371.067 725.06 373.521 724.482 Q375.975 723.903 378.012 723.903 Q383.382 723.903 386.577 726.588 Q389.771 729.273 389.771 733.764 Q389.771 735.894 388.961 737.815 Q388.174 739.713 386.067 742.306 Q385.489 742.977 382.387 746.194 Q379.285 749.389 373.637 755.153 Z\" fill=\"#000000\" fill-rule=\"nonzero\" fill-opacity=\"1\" /><path clip-path=\"url(#clip650)\" d=\"M399.817 724.528 L418.174 724.528 L418.174 728.463 L404.1 728.463 L404.1 736.935 Q405.118 736.588 406.137 736.426 Q407.155 736.241 408.174 736.241 Q413.961 736.241 417.34 739.412 Q420.72 742.583 420.72 748 Q420.72 753.579 417.248 756.68 Q413.776 759.759 407.456 759.759 Q405.28 759.759 403.012 759.389 Q400.766 759.018 398.359 758.278 L398.359 753.579 Q400.442 754.713 402.664 755.268 Q404.887 755.824 407.364 755.824 Q411.368 755.824 413.706 753.718 Q416.044 751.611 416.044 748 Q416.044 744.389 413.706 742.282 Q411.368 740.176 407.364 740.176 Q405.489 740.176 403.614 740.593 Q401.762 741.009 399.817 741.889 L399.817 724.528 Z\" fill=\"#000000\" fill-rule=\"nonzero\" fill-opacity=\"1\" /><path clip-path=\"url(#clip650)\" d=\"M719.322 727.607 Q715.711 727.607 713.882 731.171 Q712.077 734.713 712.077 741.843 Q712.077 748.949 713.882 752.514 Q715.711 756.055 719.322 756.055 Q722.956 756.055 724.762 752.514 Q726.59 748.949 726.59 741.843 Q726.59 734.713 724.762 731.171 Q722.956 727.607 719.322 727.607 M719.322 723.903 Q725.132 723.903 728.188 728.509 Q731.266 733.093 731.266 741.843 Q731.266 750.569 728.188 755.176 Q725.132 759.759 719.322 759.759 Q713.512 759.759 710.433 755.176 Q707.378 750.569 707.378 741.843 Q707.378 733.093 710.433 728.509 Q713.512 723.903 719.322 723.903 Z\" fill=\"#000000\" fill-rule=\"nonzero\" fill-opacity=\"1\" /><path clip-path=\"url(#clip650)\" d=\"M1042.63 755.153 L1058.95 755.153 L1058.95 759.088 L1037.01 759.088 L1037.01 755.153 Q1039.67 752.398 1044.25 747.768 Q1048.86 743.116 1050.04 741.773 Q1052.29 739.25 1053.17 737.514 Q1054.07 735.755 1054.07 734.065 Q1054.07 731.31 1052.13 729.574 Q1050.2 727.838 1047.1 727.838 Q1044.9 727.838 1042.45 728.602 Q1040.02 729.366 1037.24 730.917 L1037.24 726.195 Q1040.07 725.06 1042.52 724.482 Q1044.97 723.903 1047.01 723.903 Q1052.38 723.903 1055.57 726.588 Q1058.77 729.273 1058.77 733.764 Q1058.77 735.894 1057.96 737.815 Q1057.17 739.713 1055.07 742.306 Q1054.49 742.977 1051.38 746.194 Q1048.28 749.389 1042.63 755.153 Z\" fill=\"#000000\" fill-rule=\"nonzero\" fill-opacity=\"1\" /><path clip-path=\"url(#clip650)\" d=\"M1068.81 724.528 L1087.17 724.528 L1087.17 728.463 L1073.1 728.463 L1073.1 736.935 Q1074.12 736.588 1075.13 736.426 Q1076.15 736.241 1077.17 736.241 Q1082.96 736.241 1086.34 739.412 Q1089.72 742.583 1089.72 748 Q1089.72 753.579 1086.25 756.68 Q1082.77 759.759 1076.45 759.759 Q1074.28 759.759 1072.01 759.389 Q1069.76 759.018 1067.36 758.278 L1067.36 753.579 Q1069.44 754.713 1071.66 755.268 Q1073.88 755.824 1076.36 755.824 Q1080.37 755.824 1082.7 753.718 Q1085.04 751.611 1085.04 748 Q1085.04 744.389 1082.7 742.282 Q1080.37 740.176 1076.36 740.176 Q1074.49 740.176 1072.61 740.593 Q1070.76 741.009 1068.81 741.889 L1068.81 724.528 Z\" fill=\"#000000\" fill-rule=\"nonzero\" fill-opacity=\"1\" /><path clip-path=\"url(#clip650)\" d=\"M1382.1 724.528 L1400.46 724.528 L1400.46 728.463 L1386.39 728.463 L1386.39 736.935 Q1387.41 736.588 1388.42 736.426 Q1389.44 736.241 1390.46 736.241 Q1396.25 736.241 1399.63 739.412 Q1403.01 742.583 1403.01 748 Q1403.01 753.579 1399.53 756.68 Q1396.06 759.759 1389.74 759.759 Q1387.57 759.759 1385.3 759.389 Q1383.05 759.018 1380.65 758.278 L1380.65 753.579 Q1382.73 754.713 1384.95 755.268 Q1387.17 755.824 1389.65 755.824 Q1393.66 755.824 1395.99 753.718 Q1398.33 751.611 1398.33 748 Q1398.33 744.389 1395.99 742.282 Q1393.66 740.176 1389.65 740.176 Q1387.78 740.176 1385.9 740.593 Q1384.05 741.009 1382.1 741.889 L1382.1 724.528 Z\" fill=\"#000000\" fill-rule=\"nonzero\" fill-opacity=\"1\" /><path clip-path=\"url(#clip650)\" d=\"M1422.22 727.607 Q1418.61 727.607 1416.78 731.171 Q1414.97 734.713 1414.97 741.843 Q1414.97 748.949 1416.78 752.514 Q1418.61 756.055 1422.22 756.055 Q1425.85 756.055 1427.66 752.514 Q1429.49 748.949 1429.49 741.843 Q1429.49 734.713 1427.66 731.171 Q1425.85 727.607 1422.22 727.607 M1422.22 723.903 Q1428.03 723.903 1431.09 728.509 Q1434.16 733.093 1434.16 741.843 Q1434.16 750.569 1431.09 755.176 Q1428.03 759.759 1422.22 759.759 Q1416.41 759.759 1413.33 755.176 Q1410.28 750.569 1410.28 741.843 Q1410.28 733.093 1413.33 728.509 Q1416.41 723.903 1422.22 723.903 Z\" fill=\"#000000\" fill-rule=\"nonzero\" fill-opacity=\"1\" /><polyline clip-path=\"url(#clip652)\" style=\"stroke:#000000; stroke-linecap:round; stroke-linejoin:round; stroke-width:2; stroke-opacity:0.1; fill:none\" points=\"161.121,686.256 1552.76,686.256 \"/>\n",
       "<polyline clip-path=\"url(#clip652)\" style=\"stroke:#000000; stroke-linecap:round; stroke-linejoin:round; stroke-width:2; stroke-opacity:0.1; fill:none\" points=\"161.121,570.332 1552.76,570.332 \"/>\n",
       "<polyline clip-path=\"url(#clip652)\" style=\"stroke:#000000; stroke-linecap:round; stroke-linejoin:round; stroke-width:2; stroke-opacity:0.1; fill:none\" points=\"161.121,454.408 1552.76,454.408 \"/>\n",
       "<polyline clip-path=\"url(#clip652)\" style=\"stroke:#000000; stroke-linecap:round; stroke-linejoin:round; stroke-width:2; stroke-opacity:0.1; fill:none\" points=\"161.121,338.484 1552.76,338.484 \"/>\n",
       "<polyline clip-path=\"url(#clip652)\" style=\"stroke:#000000; stroke-linecap:round; stroke-linejoin:round; stroke-width:2; stroke-opacity:0.1; fill:none\" points=\"161.121,222.56 1552.76,222.56 \"/>\n",
       "<polyline clip-path=\"url(#clip650)\" style=\"stroke:#000000; stroke-linecap:round; stroke-linejoin:round; stroke-width:4; stroke-opacity:1; fill:none\" points=\"161.121,703.088 161.121,108.352 \"/>\n",
       "<polyline clip-path=\"url(#clip650)\" style=\"stroke:#000000; stroke-linecap:round; stroke-linejoin:round; stroke-width:4; stroke-opacity:1; fill:none\" points=\"161.121,686.256 180.019,686.256 \"/>\n",
       "<polyline clip-path=\"url(#clip650)\" style=\"stroke:#000000; stroke-linecap:round; stroke-linejoin:round; stroke-width:4; stroke-opacity:1; fill:none\" points=\"161.121,570.332 180.019,570.332 \"/>\n",
       "<polyline clip-path=\"url(#clip650)\" style=\"stroke:#000000; stroke-linecap:round; stroke-linejoin:round; stroke-width:4; stroke-opacity:1; fill:none\" points=\"161.121,454.408 180.019,454.408 \"/>\n",
       "<polyline clip-path=\"url(#clip650)\" style=\"stroke:#000000; stroke-linecap:round; stroke-linejoin:round; stroke-width:4; stroke-opacity:1; fill:none\" points=\"161.121,338.484 180.019,338.484 \"/>\n",
       "<polyline clip-path=\"url(#clip650)\" style=\"stroke:#000000; stroke-linecap:round; stroke-linejoin:round; stroke-width:4; stroke-opacity:1; fill:none\" points=\"161.121,222.56 180.019,222.56 \"/>\n",
       "<path clip-path=\"url(#clip650)\" d=\"M125.177 672.054 Q121.566 672.054 119.737 675.619 Q117.932 679.161 117.932 686.29 Q117.932 693.397 119.737 696.962 Q121.566 700.503 125.177 700.503 Q128.811 700.503 130.617 696.962 Q132.445 693.397 132.445 686.29 Q132.445 679.161 130.617 675.619 Q128.811 672.054 125.177 672.054 M125.177 668.351 Q130.987 668.351 134.043 672.957 Q137.121 677.54 137.121 686.29 Q137.121 695.017 134.043 699.624 Q130.987 704.207 125.177 704.207 Q119.367 704.207 116.288 699.624 Q113.233 695.017 113.233 686.29 Q113.233 677.54 116.288 672.957 Q119.367 668.351 125.177 668.351 Z\" fill=\"#000000\" fill-rule=\"nonzero\" fill-opacity=\"1\" /><path clip-path=\"url(#clip650)\" d=\"M90.0382 583.677 L106.358 583.677 L106.358 587.612 L84.4133 587.612 L84.4133 583.677 Q87.0753 580.922 91.6586 576.292 Q96.2651 571.64 97.4456 570.297 Q99.691 567.774 100.571 566.038 Q101.473 564.279 101.473 562.589 Q101.473 559.834 99.5289 558.098 Q97.6076 556.362 94.5058 556.362 Q92.3067 556.362 89.8531 557.126 Q87.4225 557.89 84.6447 559.441 L84.6447 554.719 Q87.4688 553.584 89.9225 553.006 Q92.3762 552.427 94.4132 552.427 Q99.7836 552.427 102.978 555.112 Q106.172 557.797 106.172 562.288 Q106.172 564.418 105.362 566.339 Q104.575 568.237 102.469 570.83 Q101.89 571.501 98.7882 574.718 Q95.6864 577.913 90.0382 583.677 Z\" fill=\"#000000\" fill-rule=\"nonzero\" fill-opacity=\"1\" /><path clip-path=\"url(#clip650)\" d=\"M116.219 553.052 L134.575 553.052 L134.575 556.987 L120.501 556.987 L120.501 565.459 Q121.52 565.112 122.538 564.95 Q123.557 564.765 124.575 564.765 Q130.362 564.765 133.742 567.936 Q137.121 571.107 137.121 576.524 Q137.121 582.103 133.649 585.204 Q130.177 588.283 123.857 588.283 Q121.682 588.283 119.413 587.913 Q117.168 587.542 114.76 586.802 L114.76 582.103 Q116.844 583.237 119.066 583.792 Q121.288 584.348 123.765 584.348 Q127.77 584.348 130.107 582.242 Q132.445 580.135 132.445 576.524 Q132.445 572.913 130.107 570.806 Q127.77 568.7 123.765 568.7 Q121.89 568.7 120.015 569.117 Q118.163 569.533 116.219 570.413 L116.219 553.052 Z\" fill=\"#000000\" fill-rule=\"nonzero\" fill-opacity=\"1\" /><path clip-path=\"url(#clip650)\" d=\"M85.0614 437.128 L103.418 437.128 L103.418 441.063 L89.3438 441.063 L89.3438 449.535 Q90.3623 449.188 91.3808 449.026 Q92.3993 448.841 93.4178 448.841 Q99.2049 448.841 102.584 452.012 Q105.964 455.183 105.964 460.6 Q105.964 466.179 102.492 469.281 Q99.0197 472.359 92.7003 472.359 Q90.5243 472.359 88.2558 471.989 Q86.0105 471.619 83.6031 470.878 L83.6031 466.179 Q85.6864 467.313 87.9086 467.869 Q90.1308 468.424 92.6077 468.424 Q96.6123 468.424 98.9502 466.318 Q101.288 464.211 101.288 460.6 Q101.288 456.989 98.9502 454.883 Q96.6123 452.776 92.6077 452.776 Q90.7327 452.776 88.8577 453.193 Q87.0058 453.609 85.0614 454.489 L85.0614 437.128 Z\" fill=\"#000000\" fill-rule=\"nonzero\" fill-opacity=\"1\" /><path clip-path=\"url(#clip650)\" d=\"M125.177 440.207 Q121.566 440.207 119.737 443.772 Q117.932 447.313 117.932 454.443 Q117.932 461.549 119.737 465.114 Q121.566 468.656 125.177 468.656 Q128.811 468.656 130.617 465.114 Q132.445 461.549 132.445 454.443 Q132.445 447.313 130.617 443.772 Q128.811 440.207 125.177 440.207 M125.177 436.503 Q130.987 436.503 134.043 441.109 Q137.121 445.693 137.121 454.443 Q137.121 463.17 134.043 467.776 Q130.987 472.359 125.177 472.359 Q119.367 472.359 116.288 467.776 Q113.233 463.17 113.233 454.443 Q113.233 445.693 116.288 441.109 Q119.367 436.503 125.177 436.503 Z\" fill=\"#000000\" fill-rule=\"nonzero\" fill-opacity=\"1\" /><path clip-path=\"url(#clip650)\" d=\"M84.8299 321.204 L107.052 321.204 L107.052 323.195 L94.5058 355.764 L89.6216 355.764 L101.427 325.139 L84.8299 325.139 L84.8299 321.204 Z\" fill=\"#000000\" fill-rule=\"nonzero\" fill-opacity=\"1\" /><path clip-path=\"url(#clip650)\" d=\"M116.219 321.204 L134.575 321.204 L134.575 325.139 L120.501 325.139 L120.501 333.612 Q121.52 333.264 122.538 333.102 Q123.557 332.917 124.575 332.917 Q130.362 332.917 133.742 336.088 Q137.121 339.26 137.121 344.676 Q137.121 350.255 133.649 353.357 Q130.177 356.435 123.857 356.435 Q121.682 356.435 119.413 356.065 Q117.168 355.695 114.76 354.954 L114.76 350.255 Q116.844 351.389 119.066 351.945 Q121.288 352.5 123.765 352.5 Q127.77 352.5 130.107 350.394 Q132.445 348.287 132.445 344.676 Q132.445 341.065 130.107 338.959 Q127.77 336.852 123.765 336.852 Q121.89 336.852 120.015 337.269 Q118.163 337.686 116.219 338.565 L116.219 321.204 Z\" fill=\"#000000\" fill-rule=\"nonzero\" fill-opacity=\"1\" /><path clip-path=\"url(#clip650)\" d=\"M55.6634 235.905 L63.3023 235.905 L63.3023 209.54 L54.9921 211.206 L54.9921 206.947 L63.256 205.28 L67.9319 205.28 L67.9319 235.905 L75.5707 235.905 L75.5707 239.84 L55.6634 239.84 L55.6634 235.905 Z\" fill=\"#000000\" fill-rule=\"nonzero\" fill-opacity=\"1\" /><path clip-path=\"url(#clip650)\" d=\"M95.0151 208.359 Q91.404 208.359 89.5753 211.924 Q87.7697 215.465 87.7697 222.595 Q87.7697 229.701 89.5753 233.266 Q91.404 236.808 95.0151 236.808 Q98.6493 236.808 100.455 233.266 Q102.284 229.701 102.284 222.595 Q102.284 215.465 100.455 211.924 Q98.6493 208.359 95.0151 208.359 M95.0151 204.655 Q100.825 204.655 103.881 209.262 Q106.959 213.845 106.959 222.595 Q106.959 231.322 103.881 235.928 Q100.825 240.512 95.0151 240.512 Q89.2049 240.512 86.1262 235.928 Q83.0707 231.322 83.0707 222.595 Q83.0707 213.845 86.1262 209.262 Q89.2049 204.655 95.0151 204.655 Z\" fill=\"#000000\" fill-rule=\"nonzero\" fill-opacity=\"1\" /><path clip-path=\"url(#clip650)\" d=\"M125.177 208.359 Q121.566 208.359 119.737 211.924 Q117.932 215.465 117.932 222.595 Q117.932 229.701 119.737 233.266 Q121.566 236.808 125.177 236.808 Q128.811 236.808 130.617 233.266 Q132.445 229.701 132.445 222.595 Q132.445 215.465 130.617 211.924 Q128.811 208.359 125.177 208.359 M125.177 204.655 Q130.987 204.655 134.043 209.262 Q137.121 213.845 137.121 222.595 Q137.121 231.322 134.043 235.928 Q130.987 240.512 125.177 240.512 Q119.367 240.512 116.288 235.928 Q113.233 231.322 113.233 222.595 Q113.233 213.845 116.288 209.262 Q119.367 204.655 125.177 204.655 Z\" fill=\"#000000\" fill-rule=\"nonzero\" fill-opacity=\"1\" /><path clip-path=\"url(#clip650)\" d=\"M420.798 45.1919 L420.798 72.576 L413.344 72.576 L413.344 45.4349 Q413.344 38.994 410.833 35.7938 Q408.321 32.5936 403.298 32.5936 Q397.262 32.5936 393.778 36.4419 Q390.295 40.2903 390.295 46.9338 L390.295 72.576 L382.801 72.576 L382.801 9.54393 L390.295 9.54393 L390.295 34.2544 Q392.968 30.163 396.574 28.1376 Q400.219 26.1121 404.959 26.1121 Q412.777 26.1121 416.788 30.9732 Q420.798 35.7938 420.798 45.1919 Z\" fill=\"#000000\" fill-rule=\"nonzero\" fill-opacity=\"1\" /><path clip-path=\"url(#clip650)\" d=\"M435.665 27.2059 L443.118 27.2059 L443.118 72.576 L435.665 72.576 L435.665 27.2059 M435.665 9.54393 L443.118 9.54393 L443.118 18.9825 L435.665 18.9825 L435.665 9.54393 Z\" fill=\"#000000\" fill-rule=\"nonzero\" fill-opacity=\"1\" /><path clip-path=\"url(#clip650)\" d=\"M487.638 28.5427 L487.638 35.5912 Q484.478 33.9709 481.075 33.1607 Q477.673 32.3505 474.027 32.3505 Q468.477 32.3505 465.682 34.0519 Q462.927 35.7533 462.927 39.156 Q462.927 41.7486 464.912 43.2475 Q466.897 44.7058 472.893 46.0426 L475.445 46.6097 Q483.384 48.3111 486.706 51.4303 Q490.068 54.509 490.068 60.0587 Q490.068 66.3781 485.045 70.0644 Q480.063 73.7508 471.313 73.7508 Q467.667 73.7508 463.697 73.0216 Q459.768 72.3329 455.393 70.9151 L455.393 63.2184 Q459.525 65.3654 463.535 66.4591 Q467.545 67.5124 471.475 67.5124 Q476.741 67.5124 479.577 65.73 Q482.412 63.9071 482.412 60.6258 Q482.412 57.5877 480.346 55.9673 Q478.321 54.3469 471.394 52.8481 L468.801 52.2405 Q461.874 50.7821 458.795 47.7845 Q455.717 44.7463 455.717 39.4801 Q455.717 33.0797 460.254 29.5959 Q464.791 26.1121 473.136 26.1121 Q477.268 26.1121 480.913 26.7198 Q484.559 27.3274 487.638 28.5427 Z\" fill=\"#000000\" fill-rule=\"nonzero\" fill-opacity=\"1\" /><path clip-path=\"url(#clip650)\" d=\"M509.31 14.324 L509.31 27.2059 L524.663 27.2059 L524.663 32.9987 L509.31 32.9987 L509.31 57.6282 Q509.31 63.1779 510.809 64.7578 Q512.348 66.3376 517.007 66.3376 L524.663 66.3376 L524.663 72.576 L517.007 72.576 Q508.379 72.576 505.097 69.3758 Q501.816 66.1351 501.816 57.6282 L501.816 32.9987 L496.347 32.9987 L496.347 27.2059 L501.816 27.2059 L501.816 14.324 L509.31 14.324 Z\" fill=\"#000000\" fill-rule=\"nonzero\" fill-opacity=\"1\" /><path clip-path=\"url(#clip650)\" d=\"M552.047 32.4315 Q546.052 32.4315 542.568 37.1306 Q539.084 41.7891 539.084 49.9314 Q539.084 58.0738 542.528 62.7728 Q546.011 67.4314 552.047 67.4314 Q558.002 67.4314 561.486 62.7323 Q564.97 58.0333 564.97 49.9314 Q564.97 41.8701 561.486 37.1711 Q558.002 32.4315 552.047 32.4315 M552.047 26.1121 Q561.769 26.1121 567.319 32.4315 Q572.869 38.7509 572.869 49.9314 Q572.869 61.0714 567.319 67.4314 Q561.769 73.7508 552.047 73.7508 Q542.285 73.7508 536.735 67.4314 Q531.226 61.0714 531.226 49.9314 Q531.226 38.7509 536.735 32.4315 Q542.285 26.1121 552.047 26.1121 Z\" fill=\"#000000\" fill-rule=\"nonzero\" fill-opacity=\"1\" /><path clip-path=\"url(#clip650)\" d=\"M615.079 49.3643 Q615.079 41.2625 611.717 36.8065 Q608.395 32.3505 602.36 32.3505 Q596.364 32.3505 593.002 36.8065 Q589.68 41.2625 589.68 49.3643 Q589.68 57.4256 593.002 61.8816 Q596.364 66.3376 602.36 66.3376 Q608.395 66.3376 611.717 61.8816 Q615.079 57.4256 615.079 49.3643 M622.533 66.9452 Q622.533 78.5308 617.388 84.1616 Q612.244 89.8329 601.63 89.8329 Q597.701 89.8329 594.217 89.2252 Q590.733 88.6581 587.452 87.4428 L587.452 80.1917 Q590.733 81.9741 593.934 82.8248 Q597.134 83.6755 600.456 83.6755 Q607.788 83.6755 611.434 79.8271 Q615.079 76.0193 615.079 68.282 L615.079 64.5957 Q612.77 68.6061 609.165 70.5911 Q605.56 72.576 600.537 72.576 Q592.192 72.576 587.088 66.2161 Q581.983 59.8562 581.983 49.3643 Q581.983 38.832 587.088 32.472 Q592.192 26.1121 600.537 26.1121 Q605.56 26.1121 609.165 28.0971 Q612.77 30.082 615.079 34.0924 L615.079 27.2059 L622.533 27.2059 L622.533 66.9452 Z\" fill=\"#000000\" fill-rule=\"nonzero\" fill-opacity=\"1\" /><path clip-path=\"url(#clip650)\" d=\"M664.176 34.1734 Q662.921 33.4443 661.422 33.1202 Q659.963 32.7556 658.181 32.7556 Q651.862 32.7556 648.459 36.8875 Q645.097 40.9789 645.097 48.6757 L645.097 72.576 L637.602 72.576 L637.602 27.2059 L645.097 27.2059 L645.097 34.2544 Q647.446 30.1225 651.213 28.1376 Q654.981 26.1121 660.368 26.1121 Q661.138 26.1121 662.07 26.2337 Q663.002 26.3147 664.136 26.5172 L664.176 34.1734 Z\" fill=\"#000000\" fill-rule=\"nonzero\" fill-opacity=\"1\" /><path clip-path=\"url(#clip650)\" d=\"M692.614 49.7694 Q683.58 49.7694 680.096 51.8354 Q676.613 53.9013 676.613 58.8839 Q676.613 62.8538 679.205 65.2034 Q681.838 67.5124 686.335 67.5124 Q692.533 67.5124 696.259 63.1374 Q700.027 58.7219 700.027 51.4303 L700.027 49.7694 L692.614 49.7694 M707.48 46.6907 L707.48 72.576 L700.027 72.576 L700.027 65.6895 Q697.475 69.8214 693.667 71.8063 Q689.859 73.7508 684.35 73.7508 Q677.382 73.7508 673.25 69.8619 Q669.159 65.9325 669.159 59.3701 Q669.159 51.7138 674.263 47.825 Q679.408 43.9361 689.576 43.9361 L700.027 43.9361 L700.027 43.2069 Q700.027 38.0623 696.624 35.2672 Q693.262 32.4315 687.145 32.4315 Q683.256 32.4315 679.57 33.3632 Q675.883 34.295 672.481 36.1584 L672.481 29.2718 Q676.572 27.692 680.42 26.9223 Q684.269 26.1121 687.915 26.1121 Q697.758 26.1121 702.619 31.2163 Q707.48 36.3204 707.48 46.6907 Z\" fill=\"#000000\" fill-rule=\"nonzero\" fill-opacity=\"1\" /><path clip-path=\"url(#clip650)\" d=\"M758.157 35.9153 Q760.952 30.8922 764.841 28.5022 Q768.73 26.1121 773.996 26.1121 Q781.085 26.1121 784.934 31.0947 Q788.782 36.0368 788.782 45.1919 L788.782 72.576 L781.288 72.576 L781.288 45.4349 Q781.288 38.913 778.979 35.7533 Q776.67 32.5936 771.93 32.5936 Q766.138 32.5936 762.775 36.4419 Q759.413 40.2903 759.413 46.9338 L759.413 72.576 L751.919 72.576 L751.919 45.4349 Q751.919 38.8725 749.61 35.7533 Q747.301 32.5936 742.48 32.5936 Q736.769 32.5936 733.406 36.4824 Q730.044 40.3308 730.044 46.9338 L730.044 72.576 L722.55 72.576 L722.55 27.2059 L730.044 27.2059 L730.044 34.2544 Q732.596 30.082 736.161 28.0971 Q739.726 26.1121 744.627 26.1121 Q749.569 26.1121 753.013 28.6237 Q756.496 31.1352 758.157 35.9153 Z\" fill=\"#000000\" fill-rule=\"nonzero\" fill-opacity=\"1\" /><path clip-path=\"url(#clip650)\" d=\"M847.601 32.4315 Q841.606 32.4315 838.122 37.1306 Q834.638 41.7891 834.638 49.9314 Q834.638 58.0738 838.082 62.7728 Q841.565 67.4314 847.601 67.4314 Q853.556 67.4314 857.04 62.7323 Q860.524 58.0333 860.524 49.9314 Q860.524 41.8701 857.04 37.1711 Q853.556 32.4315 847.601 32.4315 M847.601 26.1121 Q857.323 26.1121 862.873 32.4315 Q868.423 38.7509 868.423 49.9314 Q868.423 61.0714 862.873 67.4314 Q857.323 73.7508 847.601 73.7508 Q837.839 73.7508 832.289 67.4314 Q826.78 61.0714 826.78 49.9314 Q826.78 38.7509 832.289 32.4315 Q837.839 26.1121 847.601 26.1121 Z\" fill=\"#000000\" fill-rule=\"nonzero\" fill-opacity=\"1\" /><path clip-path=\"url(#clip650)\" d=\"M903.747 9.54393 L903.747 15.7418 L896.617 15.7418 Q892.607 15.7418 891.027 17.3622 Q889.488 18.9825 889.488 23.1955 L889.488 27.2059 L901.762 27.2059 L901.762 32.9987 L889.488 32.9987 L889.488 72.576 L881.993 72.576 L881.993 32.9987 L874.864 32.9987 L874.864 27.2059 L881.993 27.2059 L881.993 24.0462 Q881.993 16.471 885.518 13.0277 Q889.042 9.54393 896.698 9.54393 L903.747 9.54393 Z\" fill=\"#000000\" fill-rule=\"nonzero\" fill-opacity=\"1\" /><path clip-path=\"url(#clip650)\" d=\"M943.729 14.324 L943.729 27.2059 L959.082 27.2059 L959.082 32.9987 L943.729 32.9987 L943.729 57.6282 Q943.729 63.1779 945.228 64.7578 Q946.767 66.3376 951.426 66.3376 L959.082 66.3376 L959.082 72.576 L951.426 72.576 Q942.798 72.576 939.516 69.3758 Q936.235 66.1351 936.235 57.6282 L936.235 32.9987 L930.766 32.9987 L930.766 27.2059 L936.235 27.2059 L936.235 14.324 L943.729 14.324 Z\" fill=\"#000000\" fill-rule=\"nonzero\" fill-opacity=\"1\" /><path clip-path=\"url(#clip650)\" d=\"M1006.6 45.1919 L1006.6 72.576 L999.146 72.576 L999.146 45.4349 Q999.146 38.994 996.634 35.7938 Q994.122 32.5936 989.099 32.5936 Q983.064 32.5936 979.58 36.4419 Q976.096 40.2903 976.096 46.9338 L976.096 72.576 L968.602 72.576 L968.602 9.54393 L976.096 9.54393 L976.096 34.2544 Q978.77 30.163 982.375 28.1376 Q986.021 26.1121 990.76 26.1121 Q998.578 26.1121 1002.59 30.9732 Q1006.6 35.7938 1006.6 45.1919 Z\" fill=\"#000000\" fill-rule=\"nonzero\" fill-opacity=\"1\" /><path clip-path=\"url(#clip650)\" d=\"M1060.27 48.0275 L1060.27 51.6733 L1026 51.6733 Q1026.49 59.3701 1030.62 63.421 Q1034.79 67.4314 1042.21 67.4314 Q1046.5 67.4314 1050.51 66.3781 Q1054.56 65.3249 1058.53 63.2184 L1058.53 70.267 Q1054.52 71.9684 1050.31 72.8596 Q1046.1 73.7508 1041.76 73.7508 Q1030.9 73.7508 1024.54 67.4314 Q1018.23 61.1119 1018.23 50.3365 Q1018.23 39.1965 1024.22 32.6746 Q1030.26 26.1121 1040.46 26.1121 Q1049.62 26.1121 1054.93 32.0264 Q1060.27 37.9003 1060.27 48.0275 M1052.82 45.84 Q1052.74 39.7232 1049.38 36.0774 Q1046.06 32.4315 1040.55 32.4315 Q1034.31 32.4315 1030.54 35.9558 Q1026.81 39.4801 1026.25 45.8805 L1052.82 45.84 Z\" fill=\"#000000\" fill-rule=\"nonzero\" fill-opacity=\"1\" /><path clip-path=\"url(#clip650)\" d=\"M1137.69 48.0275 L1137.69 51.6733 L1103.42 51.6733 Q1103.9 59.3701 1108.03 63.421 Q1112.21 67.4314 1119.62 67.4314 Q1123.91 67.4314 1127.92 66.3781 Q1131.97 65.3249 1135.94 63.2184 L1135.94 70.267 Q1131.93 71.9684 1127.72 72.8596 Q1123.51 73.7508 1119.17 73.7508 Q1108.32 73.7508 1101.96 67.4314 Q1095.64 61.1119 1095.64 50.3365 Q1095.64 39.1965 1101.63 32.6746 Q1107.67 26.1121 1117.88 26.1121 Q1127.03 26.1121 1132.34 32.0264 Q1137.69 37.9003 1137.69 48.0275 M1130.23 45.84 Q1130.15 39.7232 1126.79 36.0774 Q1123.47 32.4315 1117.96 32.4315 Q1111.72 32.4315 1107.95 35.9558 Q1104.23 39.4801 1103.66 45.8805 L1130.23 45.84 Z\" fill=\"#000000\" fill-rule=\"nonzero\" fill-opacity=\"1\" /><path clip-path=\"url(#clip650)\" d=\"M1176.21 34.1734 Q1174.95 33.4443 1173.46 33.1202 Q1172 32.7556 1170.22 32.7556 Q1163.9 32.7556 1160.49 36.8875 Q1157.13 40.9789 1157.13 48.6757 L1157.13 72.576 L1149.64 72.576 L1149.64 27.2059 L1157.13 27.2059 L1157.13 34.2544 Q1159.48 30.1225 1163.25 28.1376 Q1167.02 26.1121 1172.4 26.1121 Q1173.17 26.1121 1174.1 26.2337 Q1175.04 26.3147 1176.17 26.5172 L1176.21 34.1734 Z\" fill=\"#000000\" fill-rule=\"nonzero\" fill-opacity=\"1\" /><path clip-path=\"url(#clip650)\" d=\"M1208.86 34.1734 Q1207.61 33.4443 1206.11 33.1202 Q1204.65 32.7556 1202.87 32.7556 Q1196.55 32.7556 1193.14 36.8875 Q1189.78 40.9789 1189.78 48.6757 L1189.78 72.576 L1182.29 72.576 L1182.29 27.2059 L1189.78 27.2059 L1189.78 34.2544 Q1192.13 30.1225 1195.9 28.1376 Q1199.67 26.1121 1205.05 26.1121 Q1205.82 26.1121 1206.75 26.2337 Q1207.69 26.3147 1208.82 26.5172 L1208.86 34.1734 Z\" fill=\"#000000\" fill-rule=\"nonzero\" fill-opacity=\"1\" /><path clip-path=\"url(#clip650)\" d=\"M1232.44 32.4315 Q1226.44 32.4315 1222.96 37.1306 Q1219.47 41.7891 1219.47 49.9314 Q1219.47 58.0738 1222.92 62.7728 Q1226.4 67.4314 1232.44 67.4314 Q1238.39 67.4314 1241.88 62.7323 Q1245.36 58.0333 1245.36 49.9314 Q1245.36 41.8701 1241.88 37.1711 Q1238.39 32.4315 1232.44 32.4315 M1232.44 26.1121 Q1242.16 26.1121 1247.71 32.4315 Q1253.26 38.7509 1253.26 49.9314 Q1253.26 61.0714 1247.71 67.4314 Q1242.16 73.7508 1232.44 73.7508 Q1222.67 73.7508 1217.12 67.4314 Q1211.62 61.0714 1211.62 49.9314 Q1211.62 38.7509 1217.12 32.4315 Q1222.67 26.1121 1232.44 26.1121 Z\" fill=\"#000000\" fill-rule=\"nonzero\" fill-opacity=\"1\" /><path clip-path=\"url(#clip650)\" d=\"M1291.9 34.1734 Q1290.65 33.4443 1289.15 33.1202 Q1287.69 32.7556 1285.91 32.7556 Q1279.59 32.7556 1276.19 36.8875 Q1272.82 40.9789 1272.82 48.6757 L1272.82 72.576 L1265.33 72.576 L1265.33 27.2059 L1272.82 27.2059 L1272.82 34.2544 Q1275.17 30.1225 1278.94 28.1376 Q1282.71 26.1121 1288.1 26.1121 Q1288.87 26.1121 1289.8 26.2337 Q1290.73 26.3147 1291.86 26.5172 L1291.9 34.1734 Z\" fill=\"#000000\" fill-rule=\"nonzero\" fill-opacity=\"1\" /><path clip-path=\"url(#clip650)\" d=\"M1328.65 28.5427 L1328.65 35.5912 Q1325.49 33.9709 1322.08 33.1607 Q1318.68 32.3505 1315.04 32.3505 Q1309.49 32.3505 1306.69 34.0519 Q1303.94 35.7533 1303.94 39.156 Q1303.94 41.7486 1305.92 43.2475 Q1307.91 44.7058 1313.9 46.0426 L1316.45 46.6097 Q1324.39 48.3111 1327.71 51.4303 Q1331.08 54.509 1331.08 60.0587 Q1331.08 66.3781 1326.05 70.0644 Q1321.07 73.7508 1312.32 73.7508 Q1308.68 73.7508 1304.71 73.0216 Q1300.78 72.3329 1296.4 70.9151 L1296.4 63.2184 Q1300.53 65.3654 1304.54 66.4591 Q1308.55 67.5124 1312.48 67.5124 Q1317.75 67.5124 1320.58 65.73 Q1323.42 63.9071 1323.42 60.6258 Q1323.42 57.5877 1321.35 55.9673 Q1319.33 54.3469 1312.4 52.8481 L1309.81 52.2405 Q1302.88 50.7821 1299.8 47.7845 Q1296.73 44.7463 1296.73 39.4801 Q1296.73 33.0797 1301.26 29.5959 Q1305.8 26.1121 1314.14 26.1121 Q1318.28 26.1121 1321.92 26.7198 Q1325.57 27.3274 1328.65 28.5427 Z\" fill=\"#000000\" fill-rule=\"nonzero\" fill-opacity=\"1\" /><path clip-path=\"url(#clip652)\" d=\"M237.664 676.982 L237.664 686.256 L306.472 686.256 L306.472 676.982 L237.664 676.982 L237.664 676.982  Z\" fill=\"#009af9\" fill-rule=\"evenodd\" fill-opacity=\"1\"/>\n",
       "<polyline clip-path=\"url(#clip652)\" style=\"stroke:#000000; stroke-linecap:round; stroke-linejoin:round; stroke-width:4; stroke-opacity:1; fill:none\" points=\"237.664,676.982 237.664,686.256 306.472,686.256 306.472,676.982 237.664,676.982 \"/>\n",
       "<path clip-path=\"url(#clip652)\" d=\"M306.472 510.051 L306.472 686.256 L375.28 686.256 L375.28 510.051 L306.472 510.051 L306.472 510.051  Z\" fill=\"#009af9\" fill-rule=\"evenodd\" fill-opacity=\"1\"/>\n",
       "<polyline clip-path=\"url(#clip652)\" style=\"stroke:#000000; stroke-linecap:round; stroke-linejoin:round; stroke-width:4; stroke-opacity:1; fill:none\" points=\"306.472,510.051 306.472,686.256 375.28,686.256 375.28,510.051 306.472,510.051 \"/>\n",
       "<path clip-path=\"url(#clip652)\" d=\"M375.28 579.606 L375.28 686.256 L444.089 686.256 L444.089 579.606 L375.28 579.606 L375.28 579.606  Z\" fill=\"#009af9\" fill-rule=\"evenodd\" fill-opacity=\"1\"/>\n",
       "<polyline clip-path=\"url(#clip652)\" style=\"stroke:#000000; stroke-linecap:round; stroke-linejoin:round; stroke-width:4; stroke-opacity:1; fill:none\" points=\"375.28,579.606 375.28,686.256 444.089,686.256 444.089,579.606 375.28,579.606 \"/>\n",
       "<path clip-path=\"url(#clip652)\" d=\"M444.089 602.791 L444.089 686.256 L512.897 686.256 L512.897 602.791 L444.089 602.791 L444.089 602.791  Z\" fill=\"#009af9\" fill-rule=\"evenodd\" fill-opacity=\"1\"/>\n",
       "<polyline clip-path=\"url(#clip652)\" style=\"stroke:#000000; stroke-linecap:round; stroke-linejoin:round; stroke-width:4; stroke-opacity:1; fill:none\" points=\"444.089,602.791 444.089,686.256 512.897,686.256 512.897,602.791 444.089,602.791 \"/>\n",
       "<path clip-path=\"url(#clip652)\" d=\"M512.897 329.21 L512.897 686.256 L581.705 686.256 L581.705 329.21 L512.897 329.21 L512.897 329.21  Z\" fill=\"#009af9\" fill-rule=\"evenodd\" fill-opacity=\"1\"/>\n",
       "<polyline clip-path=\"url(#clip652)\" style=\"stroke:#000000; stroke-linecap:round; stroke-linejoin:round; stroke-width:4; stroke-opacity:1; fill:none\" points=\"512.897,329.21 512.897,686.256 581.705,686.256 581.705,329.21 512.897,329.21 \"/>\n",
       "<path clip-path=\"url(#clip652)\" d=\"M581.705 125.184 L581.705 686.256 L650.514 686.256 L650.514 125.184 L581.705 125.184 L581.705 125.184  Z\" fill=\"#009af9\" fill-rule=\"evenodd\" fill-opacity=\"1\"/>\n",
       "<polyline clip-path=\"url(#clip652)\" style=\"stroke:#000000; stroke-linecap:round; stroke-linejoin:round; stroke-width:4; stroke-opacity:1; fill:none\" points=\"581.705,125.184 581.705,686.256 650.514,686.256 650.514,125.184 581.705,125.184 \"/>\n",
       "<path clip-path=\"url(#clip652)\" d=\"M650.514 185.465 L650.514 686.256 L719.322 686.256 L719.322 185.465 L650.514 185.465 L650.514 185.465  Z\" fill=\"#009af9\" fill-rule=\"evenodd\" fill-opacity=\"1\"/>\n",
       "<polyline clip-path=\"url(#clip652)\" style=\"stroke:#000000; stroke-linecap:round; stroke-linejoin:round; stroke-width:4; stroke-opacity:1; fill:none\" points=\"650.514,185.465 650.514,686.256 719.322,686.256 719.322,185.465 650.514,185.465 \"/>\n",
       "<path clip-path=\"url(#clip652)\" d=\"M719.322 222.56 L719.322 686.256 L788.13 686.256 L788.13 222.56 L719.322 222.56 L719.322 222.56  Z\" fill=\"#009af9\" fill-rule=\"evenodd\" fill-opacity=\"1\"/>\n",
       "<polyline clip-path=\"url(#clip652)\" style=\"stroke:#000000; stroke-linecap:round; stroke-linejoin:round; stroke-width:4; stroke-opacity:1; fill:none\" points=\"719.322,222.56 719.322,686.256 788.13,686.256 788.13,222.56 719.322,222.56 \"/>\n",
       "<path clip-path=\"url(#clip652)\" d=\"M788.13 380.217 L788.13 686.256 L856.939 686.256 L856.939 380.217 L788.13 380.217 L788.13 380.217  Z\" fill=\"#009af9\" fill-rule=\"evenodd\" fill-opacity=\"1\"/>\n",
       "<polyline clip-path=\"url(#clip652)\" style=\"stroke:#000000; stroke-linecap:round; stroke-linejoin:round; stroke-width:4; stroke-opacity:1; fill:none\" points=\"788.13,380.217 788.13,686.256 856.939,686.256 856.939,380.217 788.13,380.217 \"/>\n",
       "<path clip-path=\"url(#clip652)\" d=\"M856.939 472.956 L856.939 686.256 L925.747 686.256 L925.747 472.956 L856.939 472.956 L856.939 472.956  Z\" fill=\"#009af9\" fill-rule=\"evenodd\" fill-opacity=\"1\"/>\n",
       "<polyline clip-path=\"url(#clip652)\" style=\"stroke:#000000; stroke-linecap:round; stroke-linejoin:round; stroke-width:4; stroke-opacity:1; fill:none\" points=\"856.939,472.956 856.939,686.256 925.747,686.256 925.747,472.956 856.939,472.956 \"/>\n",
       "<path clip-path=\"url(#clip652)\" d=\"M925.747 482.23 L925.747 686.256 L994.555 686.256 L994.555 482.23 L925.747 482.23 L925.747 482.23  Z\" fill=\"#009af9\" fill-rule=\"evenodd\" fill-opacity=\"1\"/>\n",
       "<polyline clip-path=\"url(#clip652)\" style=\"stroke:#000000; stroke-linecap:round; stroke-linejoin:round; stroke-width:4; stroke-opacity:1; fill:none\" points=\"925.747,482.23 925.747,686.256 994.555,686.256 994.555,482.23 925.747,482.23 \"/>\n",
       "<path clip-path=\"url(#clip652)\" d=\"M994.555 551.784 L994.555 686.256 L1063.36 686.256 L1063.36 551.784 L994.555 551.784 L994.555 551.784  Z\" fill=\"#009af9\" fill-rule=\"evenodd\" fill-opacity=\"1\"/>\n",
       "<polyline clip-path=\"url(#clip652)\" style=\"stroke:#000000; stroke-linecap:round; stroke-linejoin:round; stroke-width:4; stroke-opacity:1; fill:none\" points=\"994.555,551.784 994.555,686.256 1063.36,686.256 1063.36,551.784 994.555,551.784 \"/>\n",
       "<path clip-path=\"url(#clip652)\" d=\"M1063.36 602.791 L1063.36 686.256 L1132.17 686.256 L1132.17 602.791 L1063.36 602.791 L1063.36 602.791  Z\" fill=\"#009af9\" fill-rule=\"evenodd\" fill-opacity=\"1\"/>\n",
       "<polyline clip-path=\"url(#clip652)\" style=\"stroke:#000000; stroke-linecap:round; stroke-linejoin:round; stroke-width:4; stroke-opacity:1; fill:none\" points=\"1063.36,602.791 1063.36,686.256 1132.17,686.256 1132.17,602.791 1063.36,602.791 \"/>\n",
       "<path clip-path=\"url(#clip652)\" d=\"M1132.17 621.338 L1132.17 686.256 L1200.98 686.256 L1200.98 621.338 L1132.17 621.338 L1132.17 621.338  Z\" fill=\"#009af9\" fill-rule=\"evenodd\" fill-opacity=\"1\"/>\n",
       "<polyline clip-path=\"url(#clip652)\" style=\"stroke:#000000; stroke-linecap:round; stroke-linejoin:round; stroke-width:4; stroke-opacity:1; fill:none\" points=\"1132.17,621.338 1132.17,686.256 1200.98,686.256 1200.98,621.338 1132.17,621.338 \"/>\n",
       "<path clip-path=\"url(#clip652)\" d=\"M1200.98 667.708 L1200.98 686.256 L1269.79 686.256 L1269.79 667.708 L1200.98 667.708 L1200.98 667.708  Z\" fill=\"#009af9\" fill-rule=\"evenodd\" fill-opacity=\"1\"/>\n",
       "<polyline clip-path=\"url(#clip652)\" style=\"stroke:#000000; stroke-linecap:round; stroke-linejoin:round; stroke-width:4; stroke-opacity:1; fill:none\" points=\"1200.98,667.708 1200.98,686.256 1269.79,686.256 1269.79,667.708 1200.98,667.708 \"/>\n",
       "<path clip-path=\"url(#clip652)\" d=\"M1269.79 667.708 L1269.79 686.256 L1338.6 686.256 L1338.6 667.708 L1269.79 667.708 L1269.79 667.708  Z\" fill=\"#009af9\" fill-rule=\"evenodd\" fill-opacity=\"1\"/>\n",
       "<polyline clip-path=\"url(#clip652)\" style=\"stroke:#000000; stroke-linecap:round; stroke-linejoin:round; stroke-width:4; stroke-opacity:1; fill:none\" points=\"1269.79,667.708 1269.79,686.256 1338.6,686.256 1338.6,667.708 1269.79,667.708 \"/>\n",
       "<path clip-path=\"url(#clip652)\" d=\"M1338.6 681.619 L1338.6 686.256 L1407.41 686.256 L1407.41 681.619 L1338.6 681.619 L1338.6 681.619  Z\" fill=\"#009af9\" fill-rule=\"evenodd\" fill-opacity=\"1\"/>\n",
       "<polyline clip-path=\"url(#clip652)\" style=\"stroke:#000000; stroke-linecap:round; stroke-linejoin:round; stroke-width:4; stroke-opacity:1; fill:none\" points=\"1338.6,681.619 1338.6,686.256 1407.41,686.256 1407.41,681.619 1338.6,681.619 \"/>\n",
       "<path clip-path=\"url(#clip652)\" d=\"M1407.41 681.619 L1407.41 686.256 L1476.21 686.256 L1476.21 681.619 L1407.41 681.619 L1407.41 681.619  Z\" fill=\"#009af9\" fill-rule=\"evenodd\" fill-opacity=\"1\"/>\n",
       "<polyline clip-path=\"url(#clip652)\" style=\"stroke:#000000; stroke-linecap:round; stroke-linejoin:round; stroke-width:4; stroke-opacity:1; fill:none\" points=\"1407.41,681.619 1407.41,686.256 1476.21,686.256 1476.21,681.619 1407.41,681.619 \"/>\n",
       "<circle clip-path=\"url(#clip652)\" style=\"fill:#009af9; stroke:none; fill-opacity:0\" cx=\"272.068\" cy=\"676.982\" r=\"2\"/>\n",
       "<circle clip-path=\"url(#clip652)\" style=\"fill:#009af9; stroke:none; fill-opacity:0\" cx=\"340.876\" cy=\"510.051\" r=\"2\"/>\n",
       "<circle clip-path=\"url(#clip652)\" style=\"fill:#009af9; stroke:none; fill-opacity:0\" cx=\"409.685\" cy=\"579.606\" r=\"2\"/>\n",
       "<circle clip-path=\"url(#clip652)\" style=\"fill:#009af9; stroke:none; fill-opacity:0\" cx=\"478.493\" cy=\"602.791\" r=\"2\"/>\n",
       "<circle clip-path=\"url(#clip652)\" style=\"fill:#009af9; stroke:none; fill-opacity:0\" cx=\"547.301\" cy=\"329.21\" r=\"2\"/>\n",
       "<circle clip-path=\"url(#clip652)\" style=\"fill:#009af9; stroke:none; fill-opacity:0\" cx=\"616.109\" cy=\"125.184\" r=\"2\"/>\n",
       "<circle clip-path=\"url(#clip652)\" style=\"fill:#009af9; stroke:none; fill-opacity:0\" cx=\"684.918\" cy=\"185.465\" r=\"2\"/>\n",
       "<circle clip-path=\"url(#clip652)\" style=\"fill:#009af9; stroke:none; fill-opacity:0\" cx=\"753.726\" cy=\"222.56\" r=\"2\"/>\n",
       "<circle clip-path=\"url(#clip652)\" style=\"fill:#009af9; stroke:none; fill-opacity:0\" cx=\"822.534\" cy=\"380.217\" r=\"2\"/>\n",
       "<circle clip-path=\"url(#clip652)\" style=\"fill:#009af9; stroke:none; fill-opacity:0\" cx=\"891.343\" cy=\"472.956\" r=\"2\"/>\n",
       "<circle clip-path=\"url(#clip652)\" style=\"fill:#009af9; stroke:none; fill-opacity:0\" cx=\"960.151\" cy=\"482.23\" r=\"2\"/>\n",
       "<circle clip-path=\"url(#clip652)\" style=\"fill:#009af9; stroke:none; fill-opacity:0\" cx=\"1028.96\" cy=\"551.784\" r=\"2\"/>\n",
       "<circle clip-path=\"url(#clip652)\" style=\"fill:#009af9; stroke:none; fill-opacity:0\" cx=\"1097.77\" cy=\"602.791\" r=\"2\"/>\n",
       "<circle clip-path=\"url(#clip652)\" style=\"fill:#009af9; stroke:none; fill-opacity:0\" cx=\"1166.58\" cy=\"621.338\" r=\"2\"/>\n",
       "<circle clip-path=\"url(#clip652)\" style=\"fill:#009af9; stroke:none; fill-opacity:0\" cx=\"1235.38\" cy=\"667.708\" r=\"2\"/>\n",
       "<circle clip-path=\"url(#clip652)\" style=\"fill:#009af9; stroke:none; fill-opacity:0\" cx=\"1304.19\" cy=\"667.708\" r=\"2\"/>\n",
       "<circle clip-path=\"url(#clip652)\" style=\"fill:#009af9; stroke:none; fill-opacity:0\" cx=\"1373\" cy=\"681.619\" r=\"2\"/>\n",
       "<circle clip-path=\"url(#clip652)\" style=\"fill:#009af9; stroke:none; fill-opacity:0\" cx=\"1441.81\" cy=\"681.619\" r=\"2\"/>\n",
       "</svg>\n"
      ]
     },
     "execution_count": 34,
     "metadata": {},
     "output_type": "execute_result"
    }
   ],
   "source": [
    "plot( diffs , seriestype=\"histogram\" , title=\"histogram of the errors\" , size=(400,200) , legend=false )"
   ]
  },
  {
   "cell_type": "code",
   "execution_count": null,
   "metadata": {},
   "outputs": [],
   "source": []
  },
  {
   "cell_type": "code",
   "execution_count": 35,
   "metadata": {},
   "outputs": [
    {
     "data": {
      "text/plain": [
       "StatsModels.TableRegressionModel{GeneralizedLinearModel{GLM.GlmResp{Vector{Float64}, Binomial{Float64}, ProbitLink}, GLM.DensePredChol{Float64, LinearAlgebra.CholeskyPivoted{Float64, Matrix{Float64}, Vector{Int64}}}}, Matrix{Float64}}\n",
       "\n",
       "Survived ~ 1 + Age + Fare\n",
       "\n",
       "Coefficients:\n",
       "───────────────────────────────────────────────────────────────────────────────\n",
       "                   Coef.  Std. Error      z  Pr(>|z|)    Lower 95%    Upper 95%\n",
       "───────────────────────────────────────────────────────────────────────────────\n",
       "(Intercept)  -0.246053    0.113674    -2.16    0.0304  -0.46885     -0.0232552\n",
       "Age          -0.0102863   0.0034205   -3.01    0.0026  -0.0169904   -0.00358223\n",
       "Fare          0.00933569  0.00142315   6.56    <1e-10   0.00654637   0.012125\n",
       "───────────────────────────────────────────────────────────────────────────────"
      ]
     },
     "execution_count": 35,
     "metadata": {},
     "output_type": "execute_result"
    }
   ],
   "source": [
    "lr_titanic = glm( @formula( Survived ~ Age + Fare ) , df_titanic , Binomial() , ProbitLink() )"
   ]
  },
  {
   "cell_type": "code",
   "execution_count": 36,
   "metadata": {},
   "outputs": [
    {
     "data": {
      "text/plain": [
       "3-element Vector{Union{Missing, Float64}}:\n",
       " 0.36708639460306935\n",
       " 0.3600138384275724\n",
       " 0.6476291162411383"
      ]
     },
     "execution_count": 36,
     "metadata": {},
     "output_type": "execute_result"
    }
   ],
   "source": [
    "GLM.predict( lr_titanic , DataFrame( Age = [10,20,30] , Fare = [1,10,100] ) ) "
   ]
  },
  {
   "cell_type": "code",
   "execution_count": null,
   "metadata": {},
   "outputs": [],
   "source": []
  },
  {
   "cell_type": "code",
   "execution_count": null,
   "metadata": {},
   "outputs": [],
   "source": []
  },
  {
   "cell_type": "code",
   "execution_count": 37,
   "metadata": {},
   "outputs": [
    {
     "data": {
      "text/plain": [
       "5-element Vector{String}:\n",
       " \"Survived\"\n",
       " \"Pclass\"\n",
       " \"Sex\"\n",
       " \"Age\"\n",
       " \"Fare\""
      ]
     },
     "execution_count": 37,
     "metadata": {},
     "output_type": "execute_result"
    }
   ],
   "source": [
    "names( df_titanic )"
   ]
  },
  {
   "cell_type": "code",
   "execution_count": 38,
   "metadata": {},
   "outputs": [
    {
     "data": {
      "text/plain": [
       "Decision Tree\n",
       "Leaves: 130\n",
       "Depth:  14"
      ]
     },
     "execution_count": 38,
     "metadata": {},
     "output_type": "execute_result"
    }
   ],
   "source": [
    "m_dt1 = build_tree( df_titanic[:,\"Survived\"] , Matrix( df_titanic[:,[\"Pclass\",\"Age\"]] ) )"
   ]
  },
  {
   "cell_type": "code",
   "execution_count": 40,
   "metadata": {},
   "outputs": [
    {
     "name": "stdout",
     "output_type": "stream",
     "text": [
      "Feature 1 < 2.5 ?\n",
      "├─ Feature 2 < 17.5 ?\n",
      "    ├─ Feature 2 < 15.5 ?\n",
      "        ├─ Feature 1 < 1.5 ?\n",
      "            ├─ Feature 2 < 3.0 ?\n",
      "                ├─ \n",
      "                └─ 1 : 4/4\n",
      "            └─ 1 : 19/19\n",
      "        └─ Feature 1 < 1.5 ?\n",
      "            ├─ 1 : 6/6\n",
      "            └─ Feature 2 < 16.5 ?\n",
      "                ├─ 0 : 2/2\n",
      "                └─ 1 : 2/2\n",
      "    └─ Feature 1 < 1.5 ?\n",
      "        ├─ Feature 2 < 44.5 ?\n",
      "            ├─ Feature 2 < 36.5 ?\n",
      "                ├─ \n",
      "                └─ \n",
      "            └─ Feature 2 < 60.5 ?\n",
      "                ├─ \n",
      "                └─ \n",
      "        └─ Feature 2 < 50.5 ?\n",
      "            ├─ Feature 2 < 39.5 ?\n",
      "                ├─ \n",
      "                └─ \n",
      "            └─ Feature 2 < 53.0 ?\n",
      "                ├─ 0 : 3/3\n",
      "                └─ \n",
      "└─ Feature 2 < 6.5 ?\n",
      "    ├─ Feature 2 < 0.875 ?\n",
      "        ├─ 1 : 3/3\n",
      "        └─ Feature 2 < 2.5 ?\n",
      "            ├─ Feature 2 < 1.5 ?\n",
      "                ├─ 1 : 3/5\n",
      "                └─ 0 : 6/7\n",
      "            └─ Feature 2 < 4.5 ?\n",
      "                ├─ \n",
      "                └─ \n",
      "    └─ Feature 2 < 32.5 ?\n",
      "        ├─ Feature 2 < 30.75 ?\n",
      "            ├─ Feature 2 < 8.5 ?\n",
      "                ├─ 0 : 4/4\n",
      "                └─ \n",
      "            └─ Feature 2 < 31.5 ?\n",
      "                ├─ 0 : 4/7\n",
      "                └─ 0 : 7/12\n",
      "        └─ Feature 2 < 39.5 ?\n",
      "            ├─ Feature 2 < 34.75 ?\n",
      "                ├─ \n",
      "                └─ \n",
      "            └─ Feature 2 < 43.5 ?\n",
      "                ├─ 0 : 18/18\n",
      "                └─ \n"
     ]
    }
   ],
   "source": [
    "print_tree( m_dt1 , 5 ) #print up to depth"
   ]
  },
  {
   "cell_type": "code",
   "execution_count": 41,
   "metadata": {},
   "outputs": [
    {
     "data": {
      "text/plain": [
       "5-element Vector{Int64}:\n",
       " 0\n",
       " 1\n",
       " 0\n",
       " 1\n",
       " 0"
      ]
     },
     "execution_count": 41,
     "metadata": {},
     "output_type": "execute_result"
    }
   ],
   "source": [
    "apply_tree( m_dt1 , Matrix( df_titanic[1:5,[\"Pclass\",\"Age\"]] ) )"
   ]
  },
  {
   "cell_type": "code",
   "execution_count": 43,
   "metadata": {},
   "outputs": [
    {
     "data": {
      "text/plain": [
       "5×2 Matrix{Float64}:\n",
       " 0.75      0.25\n",
       " 0.333333  0.666667\n",
       " 0.714286  0.285714\n",
       " 0.0       1.0\n",
       " 0.833333  0.166667"
      ]
     },
     "execution_count": 43,
     "metadata": {},
     "output_type": "execute_result"
    }
   ],
   "source": [
    "apply_tree_proba( m_dt1 , Matrix( df_titanic[1:5,[\"Pclass\",\"Age\"]] ) , [0,1] )"
   ]
  },
  {
   "cell_type": "code",
   "execution_count": 44,
   "metadata": {},
   "outputs": [],
   "source": [
    "predictions_survived = apply_tree( m_dt1 , Matrix( df_titanic[:,[\"Pclass\",\"Age\"]] ) );"
   ]
  },
  {
   "cell_type": "code",
   "execution_count": 45,
   "metadata": {},
   "outputs": [
    {
     "data": {
      "text/plain": [
       "2×2 Matrix{Int64}:\n",
       " 375   49\n",
       " 105  185"
      ]
     },
     "metadata": {},
     "output_type": "display_data"
    },
    {
     "data": {
      "text/plain": [
       "Classes:  [0, 1]\n",
       "Matrix:   \n",
       "Accuracy: 0.7843137254901961\n",
       "Kappa:    0.5388061203946044"
      ]
     },
     "execution_count": 45,
     "metadata": {},
     "output_type": "execute_result"
    }
   ],
   "source": [
    "DecisionTree.confusion_matrix( df_titanic[:,\"Survived\"] , predictions_survived )"
   ]
  },
  {
   "cell_type": "code",
   "execution_count": 56,
   "metadata": {},
   "outputs": [
    {
     "data": {
      "text/plain": [
       "Decision Tree\n",
       "Leaves: 130\n",
       "Depth:  14"
      ]
     },
     "execution_count": 56,
     "metadata": {},
     "output_type": "execute_result"
    }
   ],
   "source": [
    "n_subfeatures=0; max_depth=14; min_samples_leaf=1; min_samples_split=2\n",
    "min_purity_increase=0.0; pruning_purity = 1.0; seed=3\n",
    "\n",
    "m_dt2 = build_tree( df_titanic[:,\"Survived\"] , Matrix( df_titanic[:,[\"Pclass\",\"Age\"]] ) ,\n",
    "                        n_subfeatures,\n",
    "                        max_depth,\n",
    "                        min_samples_leaf,\n",
    "                        min_samples_split,\n",
    "                        min_purity_increase;\n",
    "                        rng = seed)"
   ]
  },
  {
   "cell_type": "code",
   "execution_count": 57,
   "metadata": {},
   "outputs": [
    {
     "data": {
      "text/plain": [
       "2×2 Matrix{Int64}:\n",
       " 375   49\n",
       " 105  185"
      ]
     },
     "metadata": {},
     "output_type": "display_data"
    },
    {
     "data": {
      "text/plain": [
       "Classes:  [0, 1]\n",
       "Matrix:   \n",
       "Accuracy: 0.7843137254901961\n",
       "Kappa:    0.5388061203946044"
      ]
     },
     "execution_count": 57,
     "metadata": {},
     "output_type": "execute_result"
    }
   ],
   "source": [
    "predictions_survived_2 = apply_tree( m_dt2 , Matrix( df_titanic[:,[\"Pclass\",\"Age\"]] ) );\n",
    "DecisionTree.confusion_matrix( df_titanic[:,\"Survived\"] , predictions_survived_2 )"
   ]
  },
  {
   "cell_type": "code",
   "execution_count": null,
   "metadata": {},
   "outputs": [],
   "source": []
  },
  {
   "cell_type": "code",
   "execution_count": null,
   "metadata": {},
   "outputs": [],
   "source": []
  },
  {
   "cell_type": "code",
   "execution_count": 58,
   "metadata": {},
   "outputs": [
    {
     "data": {
      "text/plain": [
       "Ensemble of Decision Trees\n",
       "Trees:      30\n",
       "Avg Leaves: 12.733333333333333\n",
       "Avg Depth:  4.0"
      ]
     },
     "execution_count": 58,
     "metadata": {},
     "output_type": "execute_result"
    }
   ],
   "source": [
    "# using 2 random features, 30 trees, 0.5 portion of samples per tree, and a maximum tree depth of 4\n",
    "m_rf1 = build_forest( df_titanic[:,\"Survived\"] , Matrix( df_titanic[:,[\"Pclass\",\"Age\",\"Fare\"]] ) , 2 , 30, 0.5, 4)"
   ]
  },
  {
   "cell_type": "code",
   "execution_count": 60,
   "metadata": {},
   "outputs": [
    {
     "data": {
      "text/plain": [
       "3-element Vector{Int64}:\n",
       " 0\n",
       " 1\n",
       " 0"
      ]
     },
     "execution_count": 60,
     "metadata": {},
     "output_type": "execute_result"
    }
   ],
   "source": [
    "apply_forest( m_rf1 , Matrix( df_titanic[1:3,[\"Pclass\",\"Age\",\"Fare\"]] ) )"
   ]
  },
  {
   "cell_type": "code",
   "execution_count": 61,
   "metadata": {},
   "outputs": [
    {
     "data": {
      "text/plain": [
       "3×2 Matrix{Float64}:\n",
       " 1.0       0.0\n",
       " 0.133333  0.866667\n",
       " 1.0       0.0"
      ]
     },
     "execution_count": 61,
     "metadata": {},
     "output_type": "execute_result"
    }
   ],
   "source": [
    "apply_forest_proba( m_rf1 , Matrix( df_titanic[1:3,[\"Pclass\",\"Age\",\"Fare\"]] ) , [0,1] )"
   ]
  },
  {
   "cell_type": "code",
   "execution_count": null,
   "metadata": {},
   "outputs": [],
   "source": []
  },
  {
   "cell_type": "code",
   "execution_count": null,
   "metadata": {},
   "outputs": [],
   "source": []
  },
  {
   "cell_type": "code",
   "execution_count": 62,
   "metadata": {},
   "outputs": [
    {
     "name": "stderr",
     "output_type": "stream",
     "text": [
      "\u001b[36m\u001b[1m[ \u001b[22m\u001b[39m\u001b[36m\u001b[1mInfo: \u001b[22m\u001b[39mXGBoost: starting training.\n",
      "\u001b[36m\u001b[1m[ \u001b[22m\u001b[39m\u001b[36m\u001b[1mInfo: \u001b[22m\u001b[39m[1]\ttrain-logloss:0.60995995752116883\n",
      "\u001b[36m\u001b[1m[ \u001b[22m\u001b[39m\u001b[36m\u001b[1mInfo: \u001b[22m\u001b[39m[2]\ttrain-logloss:0.56218531210215483\n",
      "\u001b[36m\u001b[1m[ \u001b[22m\u001b[39m\u001b[36m\u001b[1mInfo: \u001b[22m\u001b[39m[3]\ttrain-logloss:0.52682371771469172\n",
      "\u001b[36m\u001b[1m[ \u001b[22m\u001b[39m\u001b[36m\u001b[1mInfo: \u001b[22m\u001b[39m[4]\ttrain-logloss:0.50034170539355749\n",
      "\u001b[36m\u001b[1m[ \u001b[22m\u001b[39m\u001b[36m\u001b[1mInfo: \u001b[22m\u001b[39m[5]\ttrain-logloss:0.47146305974040714\n",
      "\u001b[36m\u001b[1m[ \u001b[22m\u001b[39m\u001b[36m\u001b[1mInfo: \u001b[22m\u001b[39mTraining rounds complete.\n"
     ]
    },
    {
     "data": {
      "text/plain": [
       "\u001b[35m╭──── \u001b[1m\u001b[36mXGBoost.Booster\u001b[22m\u001b[39m\u001b[35m\u001b[35m ─────────────────────────────────────────────────────────╮\u001b[39m\u001b[0m\u001b[39m\n",
       "\u001b[35m│\u001b[39m  \u001b[1m\u001b[33mFeatures:\u001b[22m\u001b[39m 3 (unknown names)                                                 \u001b[35m│\u001b[39m\n",
       "\u001b[35m│\u001b[39m  \u001b[38;2;155;179;224m                                             \u001b[39m                               \u001b[35m│\u001b[39m\n",
       "\u001b[35m│\u001b[39m  \u001b[38;2;155;179;224m \u001b[39m\u001b[0m\u001b[1m\u001b[32m       Parameter       \u001b[22m\u001b[39m\u001b[38;2;155;179;224m \u001b[39m\u001b[0m\u001b[1m\u001b[32m       Value       \u001b[22m\u001b[39m\u001b[38;2;155;179;224m \u001b[39m\u001b[0m                               \u001b[35m│\u001b[39m\n",
       "\u001b[35m│\u001b[39m  \u001b[38;2;155;179;224m ─────────────────────────────────────────── \u001b[39m                               \u001b[35m│\u001b[39m\n",
       "\u001b[35m│\u001b[39m  \u001b[38;2;155;179;224m \u001b[39m\u001b[0m\u001b[1m\u001b[33m       max_depth       \u001b[22m\u001b[39m\u001b[38;2;155;179;224m \u001b[39m\u001b[0m\u001b[22m         6         \u001b[22m\u001b[38;2;155;179;224m \u001b[39m\u001b[0m                               \u001b[35m│\u001b[39m\n",
       "\u001b[35m│\u001b[39m  \u001b[38;2;155;179;224m                                             \u001b[39m                               \u001b[35m│\u001b[39m\n",
       "\u001b[35m│\u001b[39m  \u001b[38;2;155;179;224m \u001b[39m\u001b[0m\u001b[1m\u001b[33m       objective       \u001b[22m\u001b[39m\u001b[38;2;155;179;224m \u001b[39m\u001b[0m\u001b[22m  binary:logistic  \u001b[22m\u001b[38;2;155;179;224m \u001b[39m\u001b[0m                               \u001b[35m│\u001b[39m\n",
       "\u001b[35m│\u001b[39m  \u001b[38;2;155;179;224m                                             \u001b[39m                               \u001b[35m│\u001b[39m\n",
       "\u001b[35m│\u001b[39m  \u001b[38;2;155;179;224m \u001b[39m\u001b[0m\u001b[1m\u001b[33m  validate_parameters  \u001b[22m\u001b[39m\u001b[38;2;155;179;224m \u001b[39m\u001b[0m\u001b[22m       true        \u001b[22m\u001b[38;2;155;179;224m \u001b[39m\u001b[0m                               \u001b[35m│\u001b[39m\n",
       "\u001b[35m│\u001b[39m  \u001b[38;2;155;179;224m                                             \u001b[39m                               \u001b[35m│\u001b[39m\n",
       "\u001b[35m╰──── \u001b[34mboosted rounds: 5\u001b[39m\u001b[35m\u001b[35m ───────────────────────────────────────────────────────╯\u001b[39m\u001b[0m\u001b[39m\u001b[0m\n"
      ]
     },
     "execution_count": 62,
     "metadata": {},
     "output_type": "execute_result"
    }
   ],
   "source": [
    "m_xgb1 = xgboost( ( Matrix( df_titanic[:,[\"Pclass\",\"Age\",\"Fare\"]] ) , df_titanic[:,\"Survived\"] ) , num_round=5 , \n",
    "                                        max_depth=6 , objective=\"binary:logistic\" )"
   ]
  },
  {
   "cell_type": "code",
   "execution_count": 64,
   "metadata": {},
   "outputs": [
    {
     "data": {
      "text/plain": [
       "6-element Vector{Float32}:\n",
       " 0.28281942\n",
       " 0.7581966\n",
       " 0.23063365\n",
       " 0.7766299\n",
       " 0.18721043\n",
       " 0.49019495"
      ]
     },
     "execution_count": 64,
     "metadata": {},
     "output_type": "execute_result"
    }
   ],
   "source": [
    "XGBoost.predict( m_xgb1 , Matrix( df_titanic[1:6,[\"Pclass\",\"Age\",\"Fare\"]] ) )"
   ]
  },
  {
   "cell_type": "code",
   "execution_count": null,
   "metadata": {},
   "outputs": [],
   "source": []
  },
  {
   "cell_type": "code",
   "execution_count": null,
   "metadata": {},
   "outputs": [],
   "source": []
  },
  {
   "cell_type": "code",
   "execution_count": null,
   "metadata": {},
   "outputs": [],
   "source": []
  },
  {
   "cell_type": "code",
   "execution_count": null,
   "metadata": {},
   "outputs": [],
   "source": []
  },
  {
   "cell_type": "code",
   "execution_count": 67,
   "metadata": {},
   "outputs": [],
   "source": [
    "x1 = rand( 100 );"
   ]
  },
  {
   "cell_type": "code",
   "execution_count": 68,
   "metadata": {},
   "outputs": [
    {
     "data": {
      "text/plain": [
       "100-element Vector{Float64}:\n",
       " 0.5417843084889216\n",
       " 0.8452406460289107\n",
       " 0.4758521088546005\n",
       " 0.46445662098958795\n",
       " 0.3581808890494076\n",
       " 0.6600952811042214\n",
       " 0.1650979086848835\n",
       " 0.22123100587765554\n",
       " 0.9765729549686363\n",
       " 0.9421142897775713\n",
       " 0.5059079842194466\n",
       " 0.8801079543707673\n",
       " 0.41342663457351114\n",
       " ⋮\n",
       " 0.9717113523488158\n",
       " 0.8593455330699691\n",
       " 0.5817533344733947\n",
       " 0.23044845629776922\n",
       " 0.9468121138864077\n",
       " 0.30054414514924654\n",
       " 0.3281996679436625\n",
       " 0.41089760613921567\n",
       " 0.6781912295914956\n",
       " 0.15581916089343006\n",
       " 0.26329610252537405\n",
       " 0.773423907921645"
      ]
     },
     "execution_count": 68,
     "metadata": {},
     "output_type": "execute_result"
    }
   ],
   "source": [
    "@rput x1"
   ]
  },
  {
   "cell_type": "code",
   "execution_count": 70,
   "metadata": {},
   "outputs": [
    {
     "data": {
      "text/plain": [
       "RObject{RealSxp}\n",
       "[1] 0.5323095\n"
      ]
     },
     "execution_count": 70,
     "metadata": {},
     "output_type": "execute_result"
    }
   ],
   "source": [
    "rx1 = R\"mean(x1)\""
   ]
  },
  {
   "cell_type": "code",
   "execution_count": 71,
   "metadata": {},
   "outputs": [
    {
     "data": {
      "text/plain": [
       "0.5323094727069777"
      ]
     },
     "execution_count": 71,
     "metadata": {},
     "output_type": "execute_result"
    }
   ],
   "source": [
    "rx2 = rcopy( R\"mean(x1)\" )"
   ]
  },
  {
   "cell_type": "code",
   "execution_count": 72,
   "metadata": {},
   "outputs": [
    {
     "data": {
      "text/plain": [
       "RObject{RealSxp}\n",
       " [1]  0.54277845  0.10419058  0.04372188  0.27820637 -0.86212680 -0.97084352\n",
       " [7]  0.84739490 -0.38562256  0.52518764 -1.55965647  2.13287766 -1.17759639\n",
       "[13]  1.21776620 -0.37574172 -0.63095130  0.29335815  1.52366314  0.78072316\n",
       "[19] -0.32348862 -0.26770363  0.49126025 -0.06137564  0.70845190  1.45721719\n",
       "[25] -1.56135738 -0.98891795  0.29538952  0.67111585 -0.23743335 -0.18062878\n",
       "[31] -1.48578674 -1.72862498 -0.55463517 -0.01045455  0.13537797 -0.85003062\n",
       "[37]  0.28910690  0.26714686  0.27307400  1.28862486  0.86200461 -1.50545318\n",
       "[43] -0.32887905 -0.39662924 -0.04407551 -0.61048620  0.93995657 -0.13315824\n",
       "[49]  0.06428556 -0.25776473\n"
      ]
     },
     "execution_count": 72,
     "metadata": {},
     "output_type": "execute_result"
    }
   ],
   "source": [
    "R\"y = $(randn(50))\""
   ]
  },
  {
   "cell_type": "code",
   "execution_count": 73,
   "metadata": {},
   "outputs": [
    {
     "data": {
      "text/plain": [
       "-0.02913084361097751"
      ]
     },
     "execution_count": 73,
     "metadata": {},
     "output_type": "execute_result"
    }
   ],
   "source": [
    "rcopy( R\"mean(y)\" )"
   ]
  },
  {
   "cell_type": "code",
   "execution_count": 74,
   "metadata": {},
   "outputs": [
    {
     "ename": "LoadError",
     "evalue": "UndefVarError: y not defined",
     "output_type": "error",
     "traceback": [
      "UndefVarError: y not defined",
      ""
     ]
    }
   ],
   "source": [
    "y"
   ]
  },
  {
   "cell_type": "code",
   "execution_count": 75,
   "metadata": {},
   "outputs": [
    {
     "data": {
      "text/plain": [
       "RObject{VecSxp}\n",
       "\n",
       "\tOne Sample t-test\n",
       "\n",
       "data:  y\n",
       "t = -24.843, df = 49, p-value < 2.2e-16\n",
       "alternative hypothesis: true mean is not equal to 3\n",
       "95 percent confidence interval:\n",
       " -0.2741570  0.2158953\n",
       "sample estimates:\n",
       "  mean of x \n",
       "-0.02913084 \n",
       "\n"
      ]
     },
     "execution_count": 75,
     "metadata": {},
     "output_type": "execute_result"
    }
   ],
   "source": [
    "R\"t = t.test(y,mu=3)\""
   ]
  },
  {
   "cell_type": "code",
   "execution_count": 77,
   "metadata": {},
   "outputs": [
    {
     "data": {
      "text/plain": [
       "OrderedCollections.OrderedDict{Symbol, Any} with 10 entries:\n",
       "  :statistic   => -24.8433\n",
       "  :parameter   => 49.0\n",
       "  :p_value     => 2.00528e-29\n",
       "  :conf_int    => [-0.274157, 0.215895]\n",
       "  :estimate    => -0.0291308\n",
       "  :null_value  => 3.0\n",
       "  :stderr      => 0.121929\n",
       "  :alternative => \"two.sided\"\n",
       "  :method      => \"One Sample t-test\"\n",
       "  :data_name   => \"y\""
      ]
     },
     "execution_count": 77,
     "metadata": {},
     "output_type": "execute_result"
    }
   ],
   "source": [
    "t_testR = rcopy( R\"t = t.test(y,mu=3)\" )"
   ]
  },
  {
   "cell_type": "code",
   "execution_count": 79,
   "metadata": {},
   "outputs": [
    {
     "data": {
      "text/plain": [
       "(:slots, :keys, :vals, :ndel, :maxprobe, :dirty)"
      ]
     },
     "execution_count": 79,
     "metadata": {},
     "output_type": "execute_result"
    }
   ],
   "source": [
    "fieldnames( typeof( t_testR ) )"
   ]
  },
  {
   "cell_type": "code",
   "execution_count": 80,
   "metadata": {},
   "outputs": [
    {
     "data": {
      "text/plain": [
       "10-element Vector{Symbol}:\n",
       " :statistic\n",
       " :parameter\n",
       " :p_value\n",
       " :conf_int\n",
       " :estimate\n",
       " :null_value\n",
       " :stderr\n",
       " :alternative\n",
       " :method\n",
       " :data_name"
      ]
     },
     "execution_count": 80,
     "metadata": {},
     "output_type": "execute_result"
    }
   ],
   "source": [
    "t_testR.keys"
   ]
  },
  {
   "cell_type": "code",
   "execution_count": 86,
   "metadata": {},
   "outputs": [
    {
     "data": {
      "text/plain": [
       "2.0052767677137792e-29"
      ]
     },
     "execution_count": 86,
     "metadata": {},
     "output_type": "execute_result"
    }
   ],
   "source": [
    "t_testR[:p_value]"
   ]
  },
  {
   "cell_type": "code",
   "execution_count": 87,
   "metadata": {},
   "outputs": [
    {
     "data": {
      "text/plain": [
       "2.0052767677137792e-29"
      ]
     },
     "execution_count": 87,
     "metadata": {},
     "output_type": "execute_result"
    }
   ],
   "source": [
    "t_testR[Symbol(\"p_value\")]"
   ]
  },
  {
   "cell_type": "code",
   "execution_count": 90,
   "metadata": {},
   "outputs": [
    {
     "data": {
      "text/plain": [
       "OrderedCollections.OrderedDict{Symbol, Any} with 10 entries:\n",
       "  :statistic   => 1.26931\n",
       "  :parameter   => 99.0\n",
       "  :p_value     => 0.207305\n",
       "  :conf_int    => [2.92429, 3.34456]\n",
       "  :estimate    => 3.13443\n",
       "  :null_value  => 3.0\n",
       "  :stderr      => 0.105905\n",
       "  :alternative => \"two.sided\"\n",
       "  :method      => \"One Sample t-test\"\n",
       "  :data_name   => \"`#JL`\\$`(randn(100) .+ 3)`\""
      ]
     },
     "execution_count": 90,
     "metadata": {},
     "output_type": "execute_result"
    }
   ],
   "source": [
    "t_testR2 = rcopy( R\"t2 = t.test( $(randn(100) .+ 3) , mu=3 )\" )"
   ]
  },
  {
   "cell_type": "code",
   "execution_count": 91,
   "metadata": {},
   "outputs": [
    {
     "data": {
      "text/plain": [
       "0.20730514674199954"
      ]
     },
     "execution_count": 91,
     "metadata": {},
     "output_type": "execute_result"
    }
   ],
   "source": [
    "t_testR2[:p_value]"
   ]
  },
  {
   "cell_type": "code",
   "execution_count": null,
   "metadata": {},
   "outputs": [],
   "source": []
  },
  {
   "cell_type": "code",
   "execution_count": null,
   "metadata": {},
   "outputs": [],
   "source": []
  },
  {
   "cell_type": "code",
   "execution_count": 92,
   "metadata": {},
   "outputs": [
    {
     "data": {
      "text/plain": [
       "RObject{StrSxp}\n",
       "[1] \"rpart\"     \"stats\"     \"graphics\"  \"grDevices\" \"utils\"     \"datasets\" \n",
       "[7] \"methods\"   \"base\"     \n"
      ]
     },
     "execution_count": 92,
     "metadata": {},
     "output_type": "execute_result"
    }
   ],
   "source": [
    "R\"\"\"\n",
    "library(rpart)\n",
    "\"\"\""
   ]
  },
  {
   "cell_type": "code",
   "execution_count": 93,
   "metadata": {},
   "outputs": [
    {
     "data": {
      "text/plain": [
       "RObject{VecSxp}\n",
       "  Survived Pclass    Sex Age    Fare\n",
       "1        0      3   male  22  7.2500\n",
       "2        1      1 female  38 71.2833\n",
       "3        1      3 female  26  7.9250\n",
       "4        1      1 female  35 53.1000\n",
       "5        0      3   male  35  8.0500\n",
       "6        0      1   male  54 51.8625\n"
      ]
     },
     "execution_count": 93,
     "metadata": {},
     "output_type": "execute_result"
    }
   ],
   "source": [
    "R\"\"\"\n",
    "head( $(df_titanic) )\n",
    "\"\"\""
   ]
  },
  {
   "cell_type": "code",
   "execution_count": 94,
   "metadata": {},
   "outputs": [
    {
     "data": {
      "text/plain": [
       "RObject{RealSxp}\n",
       "        1 \n",
       "0.3894389 \n"
      ]
     },
     "execution_count": 94,
     "metadata": {},
     "output_type": "execute_result"
    }
   ],
   "source": [
    "res = R\"\"\"\n",
    "dt_R = rpart( Survived ~ Age + Fare , data = $(df_titanic) )\n",
    "predict( dt_R, data.frame(Age=c(20),Fare=c(35) ) )\n",
    "\"\"\""
   ]
  },
  {
   "cell_type": "code",
   "execution_count": 62,
   "metadata": {},
   "outputs": [
    {
     "data": {
      "text/plain": [
       "RObject{RealSxp}\n",
       "        1 \n",
       "0.3894389 \n"
      ]
     },
     "execution_count": 62,
     "metadata": {},
     "output_type": "execute_result"
    }
   ],
   "source": [
    "res"
   ]
  },
  {
   "cell_type": "code",
   "execution_count": 95,
   "metadata": {},
   "outputs": [
    {
     "data": {
      "text/plain": [
       "0.38943894389438943"
      ]
     },
     "execution_count": 95,
     "metadata": {},
     "output_type": "execute_result"
    }
   ],
   "source": [
    "rcopy( res )"
   ]
  },
  {
   "cell_type": "code",
   "execution_count": null,
   "metadata": {},
   "outputs": [],
   "source": []
  },
  {
   "cell_type": "code",
   "execution_count": null,
   "metadata": {},
   "outputs": [],
   "source": []
  },
  {
   "cell_type": "code",
   "execution_count": null,
   "metadata": {},
   "outputs": [],
   "source": []
  },
  {
   "cell_type": "code",
   "execution_count": 96,
   "metadata": {},
   "outputs": [
    {
     "data": {
      "text/plain": [
       "SQLite.DB(\"test1.sqlite\")"
      ]
     },
     "execution_count": 96,
     "metadata": {},
     "output_type": "execute_result"
    }
   ],
   "source": [
    "db = SQLite.DB(\"test1.sqlite\")"
   ]
  },
  {
   "cell_type": "code",
   "execution_count": 97,
   "metadata": {},
   "outputs": [
    {
     "data": {
      "text/plain": [
       "SQLite.Query{false}(SQLite.Stmt(SQLite.DB(\"test1.sqlite\"), Base.RefValue{Ptr{SQLite.C.sqlite3_stmt}}(Ptr{SQLite.C.sqlite3_stmt} @0x000000000fd6f238), Dict{Int64, Any}()), Base.RefValue{Int32}(101), Symbol[], Type[], Dict{Symbol, Int64}(), Base.RefValue{Int64}(0))"
      ]
     },
     "execution_count": 97,
     "metadata": {},
     "output_type": "execute_result"
    }
   ],
   "source": [
    "DBInterface.execute( db , \"CREATE TABLE  table1(name  TEXT PRIMARY KEY, state TEXT NOT NULL, car TEXT )\")"
   ]
  },
  {
   "cell_type": "code",
   "execution_count": 98,
   "metadata": {},
   "outputs": [
    {
     "data": {
      "text/plain": [
       "1-element Vector{SQLite.DBTable}:\n",
       " SQLite.DBTable(\"table1\", Tables.Schema:\n",
       " :name   Union{Missing, String}\n",
       " :state  Union{Missing, String}\n",
       " :car    Union{Missing, String})"
      ]
     },
     "execution_count": 98,
     "metadata": {},
     "output_type": "execute_result"
    }
   ],
   "source": [
    "SQLite.tables( db )"
   ]
  },
  {
   "cell_type": "code",
   "execution_count": 99,
   "metadata": {},
   "outputs": [
    {
     "data": {
      "text/plain": [
       "SQLite.Query{false}(SQLite.Stmt(SQLite.DB(\"test1.sqlite\"), Base.RefValue{Ptr{SQLite.C.sqlite3_stmt}}(Ptr{SQLite.C.sqlite3_stmt} @0x0000000015059958), Dict{Int64, Any}()), Base.RefValue{Int32}(101), Symbol[], Type[], Dict{Symbol, Int64}(), Base.RefValue{Int64}(0))"
      ]
     },
     "execution_count": 99,
     "metadata": {},
     "output_type": "execute_result"
    }
   ],
   "source": [
    "\n",
    "DBInterface.execute( db , \"INSERT INTO table1 VALUES (\\\"Alex\\\",\\\"FL\\\",\\\"Dodge\\\")\" )"
   ]
  },
  {
   "cell_type": "code",
   "execution_count": 100,
   "metadata": {},
   "outputs": [
    {
     "data": {
      "text/plain": [
       "SQLite.Query{false}(SQLite.Stmt(SQLite.DB(\"test1.sqlite\"), Base.RefValue{Ptr{SQLite.C.sqlite3_stmt}}(Ptr{SQLite.C.sqlite3_stmt} @0x0000000015058ff8), Dict{Int64, Any}()), Base.RefValue{Int32}(101), Symbol[], Type[], Dict{Symbol, Int64}(), Base.RefValue{Int64}(0))"
      ]
     },
     "execution_count": 100,
     "metadata": {},
     "output_type": "execute_result"
    }
   ],
   "source": [
    "tmp = (\"Bob\",\"FL\",\"Buick\")\n",
    "DBInterface.execute( db , \"INSERT INTO table1 VALUES $(tmp)\" )"
   ]
  },
  {
   "cell_type": "code",
   "execution_count": 101,
   "metadata": {},
   "outputs": [
    {
     "data": {
      "text/html": [
       "<div><div style = \"float: left;\"><span>2×3 DataFrame</span></div><div style = \"clear: both;\"></div></div><div class = \"data-frame\" style = \"overflow-x: scroll;\"><table class = \"data-frame\" style = \"margin-bottom: 6px;\"><thead><tr class = \"header\"><th class = \"rowNumber\" style = \"font-weight: bold; text-align: right;\">Row</th><th style = \"text-align: left;\">name</th><th style = \"text-align: left;\">state</th><th style = \"text-align: left;\">car</th></tr><tr class = \"subheader headerLastRow\"><th class = \"rowNumber\" style = \"font-weight: bold; text-align: right;\"></th><th title = \"String\" style = \"text-align: left;\">String</th><th title = \"String\" style = \"text-align: left;\">String</th><th title = \"String\" style = \"text-align: left;\">String</th></tr></thead><tbody><tr><td class = \"rowNumber\" style = \"font-weight: bold; text-align: right;\">1</td><td style = \"text-align: left;\">Alex</td><td style = \"text-align: left;\">FL</td><td style = \"text-align: left;\">Dodge</td></tr><tr><td class = \"rowNumber\" style = \"font-weight: bold; text-align: right;\">2</td><td style = \"text-align: left;\">Bob</td><td style = \"text-align: left;\">FL</td><td style = \"text-align: left;\">Buick</td></tr></tbody></table></div>"
      ],
      "text/latex": [
       "\\begin{tabular}{r|ccc}\n",
       "\t& name & state & car\\\\\n",
       "\t\\hline\n",
       "\t& String & String & String\\\\\n",
       "\t\\hline\n",
       "\t1 & Alex & FL & Dodge \\\\\n",
       "\t2 & Bob & FL & Buick \\\\\n",
       "\\end{tabular}\n"
      ],
      "text/plain": [
       "\u001b[1m2×3 DataFrame\u001b[0m\n",
       "\u001b[1m Row \u001b[0m│\u001b[1m name   \u001b[0m\u001b[1m state  \u001b[0m\u001b[1m car    \u001b[0m\n",
       "     │\u001b[90m String \u001b[0m\u001b[90m String \u001b[0m\u001b[90m String \u001b[0m\n",
       "─────┼────────────────────────\n",
       "   1 │ Alex    FL      Dodge\n",
       "   2 │ Bob     FL      Buick"
      ]
     },
     "execution_count": 101,
     "metadata": {},
     "output_type": "execute_result"
    }
   ],
   "source": [
    "DBInterface.execute( db , \"SELECT * FROM table1\" ) |> DataFrame"
   ]
  },
  {
   "cell_type": "code",
   "execution_count": 102,
   "metadata": {},
   "outputs": [
    {
     "data": {
      "text/html": [
       "<div><div style = \"float: left;\"><span>3×3 DataFrame</span></div><div style = \"clear: both;\"></div></div><div class = \"data-frame\" style = \"overflow-x: scroll;\"><table class = \"data-frame\" style = \"margin-bottom: 6px;\"><thead><tr class = \"header\"><th class = \"rowNumber\" style = \"font-weight: bold; text-align: right;\">Row</th><th style = \"text-align: left;\">name</th><th style = \"text-align: left;\">state</th><th style = \"text-align: left;\">car</th></tr><tr class = \"subheader headerLastRow\"><th class = \"rowNumber\" style = \"font-weight: bold; text-align: right;\"></th><th title = \"String\" style = \"text-align: left;\">String</th><th title = \"String\" style = \"text-align: left;\">String</th><th title = \"String\" style = \"text-align: left;\">String</th></tr></thead><tbody><tr><td class = \"rowNumber\" style = \"font-weight: bold; text-align: right;\">1</td><td style = \"text-align: left;\">Cat</td><td style = \"text-align: left;\">FL</td><td style = \"text-align: left;\">Toyota</td></tr><tr><td class = \"rowNumber\" style = \"font-weight: bold; text-align: right;\">2</td><td style = \"text-align: left;\">Derek</td><td style = \"text-align: left;\">GA</td><td style = \"text-align: left;\"></td></tr><tr><td class = \"rowNumber\" style = \"font-weight: bold; text-align: right;\">3</td><td style = \"text-align: left;\">Eric</td><td style = \"text-align: left;\">FL</td><td style = \"text-align: left;\">Jeep</td></tr></tbody></table></div>"
      ],
      "text/latex": [
       "\\begin{tabular}{r|ccc}\n",
       "\t& name & state & car\\\\\n",
       "\t\\hline\n",
       "\t& String & String & String\\\\\n",
       "\t\\hline\n",
       "\t1 & Cat & FL & Toyota \\\\\n",
       "\t2 & Derek & GA &  \\\\\n",
       "\t3 & Eric & FL & Jeep \\\\\n",
       "\\end{tabular}\n"
      ],
      "text/plain": [
       "\u001b[1m3×3 DataFrame\u001b[0m\n",
       "\u001b[1m Row \u001b[0m│\u001b[1m name   \u001b[0m\u001b[1m state  \u001b[0m\u001b[1m car    \u001b[0m\n",
       "     │\u001b[90m String \u001b[0m\u001b[90m String \u001b[0m\u001b[90m String \u001b[0m\n",
       "─────┼────────────────────────\n",
       "   1 │ Cat     FL      Toyota\n",
       "   2 │ Derek   GA\n",
       "   3 │ Eric    FL      Jeep"
      ]
     },
     "execution_count": 102,
     "metadata": {},
     "output_type": "execute_result"
    }
   ],
   "source": [
    "df_tmp = DataFrame(name=[\"Cat\",\"Derek\",\"Eric\"],state=[\"FL\",\"GA\",\"FL\"],car=[\"Toyota\",\"\",\"Jeep\"])"
   ]
  },
  {
   "cell_type": "code",
   "execution_count": 103,
   "metadata": {},
   "outputs": [
    {
     "data": {
      "text/plain": [
       "\"table1\""
      ]
     },
     "execution_count": 103,
     "metadata": {},
     "output_type": "execute_result"
    }
   ],
   "source": [
    "df_tmp |> SQLite.load!( db , \"table1\" )"
   ]
  },
  {
   "cell_type": "code",
   "execution_count": 104,
   "metadata": {},
   "outputs": [
    {
     "data": {
      "text/html": [
       "<div><div style = \"float: left;\"><span>5×3 DataFrame</span></div><div style = \"clear: both;\"></div></div><div class = \"data-frame\" style = \"overflow-x: scroll;\"><table class = \"data-frame\" style = \"margin-bottom: 6px;\"><thead><tr class = \"header\"><th class = \"rowNumber\" style = \"font-weight: bold; text-align: right;\">Row</th><th style = \"text-align: left;\">name</th><th style = \"text-align: left;\">state</th><th style = \"text-align: left;\">car</th></tr><tr class = \"subheader headerLastRow\"><th class = \"rowNumber\" style = \"font-weight: bold; text-align: right;\"></th><th title = \"String\" style = \"text-align: left;\">String</th><th title = \"String\" style = \"text-align: left;\">String</th><th title = \"String\" style = \"text-align: left;\">String</th></tr></thead><tbody><tr><td class = \"rowNumber\" style = \"font-weight: bold; text-align: right;\">1</td><td style = \"text-align: left;\">Alex</td><td style = \"text-align: left;\">FL</td><td style = \"text-align: left;\">Dodge</td></tr><tr><td class = \"rowNumber\" style = \"font-weight: bold; text-align: right;\">2</td><td style = \"text-align: left;\">Bob</td><td style = \"text-align: left;\">FL</td><td style = \"text-align: left;\">Buick</td></tr><tr><td class = \"rowNumber\" style = \"font-weight: bold; text-align: right;\">3</td><td style = \"text-align: left;\">Cat</td><td style = \"text-align: left;\">FL</td><td style = \"text-align: left;\">Toyota</td></tr><tr><td class = \"rowNumber\" style = \"font-weight: bold; text-align: right;\">4</td><td style = \"text-align: left;\">Derek</td><td style = \"text-align: left;\">GA</td><td style = \"text-align: left;\"></td></tr><tr><td class = \"rowNumber\" style = \"font-weight: bold; text-align: right;\">5</td><td style = \"text-align: left;\">Eric</td><td style = \"text-align: left;\">FL</td><td style = \"text-align: left;\">Jeep</td></tr></tbody></table></div>"
      ],
      "text/latex": [
       "\\begin{tabular}{r|ccc}\n",
       "\t& name & state & car\\\\\n",
       "\t\\hline\n",
       "\t& String & String & String\\\\\n",
       "\t\\hline\n",
       "\t1 & Alex & FL & Dodge \\\\\n",
       "\t2 & Bob & FL & Buick \\\\\n",
       "\t3 & Cat & FL & Toyota \\\\\n",
       "\t4 & Derek & GA &  \\\\\n",
       "\t5 & Eric & FL & Jeep \\\\\n",
       "\\end{tabular}\n"
      ],
      "text/plain": [
       "\u001b[1m5×3 DataFrame\u001b[0m\n",
       "\u001b[1m Row \u001b[0m│\u001b[1m name   \u001b[0m\u001b[1m state  \u001b[0m\u001b[1m car    \u001b[0m\n",
       "     │\u001b[90m String \u001b[0m\u001b[90m String \u001b[0m\u001b[90m String \u001b[0m\n",
       "─────┼────────────────────────\n",
       "   1 │ Alex    FL      Dodge\n",
       "   2 │ Bob     FL      Buick\n",
       "   3 │ Cat     FL      Toyota\n",
       "   4 │ Derek   GA\n",
       "   5 │ Eric    FL      Jeep"
      ]
     },
     "execution_count": 104,
     "metadata": {},
     "output_type": "execute_result"
    }
   ],
   "source": [
    "DBInterface.execute( db , \"SELECT * FROM table1\" ) |> DataFrame"
   ]
  },
  {
   "cell_type": "code",
   "execution_count": 106,
   "metadata": {},
   "outputs": [
    {
     "data": {
      "text/plain": [
       "SQLite.Query{false}(SQLite.Stmt(SQLite.DB(\"test1.sqlite\"), Base.RefValue{Ptr{SQLite.C.sqlite3_stmt}}(Ptr{SQLite.C.sqlite3_stmt} @0x0000000015057888), Dict{Int64, Any}()), Base.RefValue{Int32}(101), Symbol[], Type[], Dict{Symbol, Int64}(), Base.RefValue{Int64}(0))"
      ]
     },
     "execution_count": 106,
     "metadata": {},
     "output_type": "execute_result"
    }
   ],
   "source": [
    "DBInterface.execute( db , \"DELETE FROM table1 WHERE name=\\\"Bob\\\"\" )"
   ]
  },
  {
   "cell_type": "code",
   "execution_count": 107,
   "metadata": {},
   "outputs": [
    {
     "data": {
      "text/html": [
       "<div><div style = \"float: left;\"><span>4×3 DataFrame</span></div><div style = \"clear: both;\"></div></div><div class = \"data-frame\" style = \"overflow-x: scroll;\"><table class = \"data-frame\" style = \"margin-bottom: 6px;\"><thead><tr class = \"header\"><th class = \"rowNumber\" style = \"font-weight: bold; text-align: right;\">Row</th><th style = \"text-align: left;\">name</th><th style = \"text-align: left;\">state</th><th style = \"text-align: left;\">car</th></tr><tr class = \"subheader headerLastRow\"><th class = \"rowNumber\" style = \"font-weight: bold; text-align: right;\"></th><th title = \"String\" style = \"text-align: left;\">String</th><th title = \"String\" style = \"text-align: left;\">String</th><th title = \"String\" style = \"text-align: left;\">String</th></tr></thead><tbody><tr><td class = \"rowNumber\" style = \"font-weight: bold; text-align: right;\">1</td><td style = \"text-align: left;\">Alex</td><td style = \"text-align: left;\">FL</td><td style = \"text-align: left;\">Dodge</td></tr><tr><td class = \"rowNumber\" style = \"font-weight: bold; text-align: right;\">2</td><td style = \"text-align: left;\">Cat</td><td style = \"text-align: left;\">FL</td><td style = \"text-align: left;\">Toyota</td></tr><tr><td class = \"rowNumber\" style = \"font-weight: bold; text-align: right;\">3</td><td style = \"text-align: left;\">Derek</td><td style = \"text-align: left;\">GA</td><td style = \"text-align: left;\"></td></tr><tr><td class = \"rowNumber\" style = \"font-weight: bold; text-align: right;\">4</td><td style = \"text-align: left;\">Eric</td><td style = \"text-align: left;\">FL</td><td style = \"text-align: left;\">Jeep</td></tr></tbody></table></div>"
      ],
      "text/latex": [
       "\\begin{tabular}{r|ccc}\n",
       "\t& name & state & car\\\\\n",
       "\t\\hline\n",
       "\t& String & String & String\\\\\n",
       "\t\\hline\n",
       "\t1 & Alex & FL & Dodge \\\\\n",
       "\t2 & Cat & FL & Toyota \\\\\n",
       "\t3 & Derek & GA &  \\\\\n",
       "\t4 & Eric & FL & Jeep \\\\\n",
       "\\end{tabular}\n"
      ],
      "text/plain": [
       "\u001b[1m4×3 DataFrame\u001b[0m\n",
       "\u001b[1m Row \u001b[0m│\u001b[1m name   \u001b[0m\u001b[1m state  \u001b[0m\u001b[1m car    \u001b[0m\n",
       "     │\u001b[90m String \u001b[0m\u001b[90m String \u001b[0m\u001b[90m String \u001b[0m\n",
       "─────┼────────────────────────\n",
       "   1 │ Alex    FL      Dodge\n",
       "   2 │ Cat     FL      Toyota\n",
       "   3 │ Derek   GA\n",
       "   4 │ Eric    FL      Jeep"
      ]
     },
     "execution_count": 107,
     "metadata": {},
     "output_type": "execute_result"
    }
   ],
   "source": [
    "DBInterface.execute( db , \"SELECT * FROM table1\" ) |> DataFrame"
   ]
  },
  {
   "cell_type": "code",
   "execution_count": null,
   "metadata": {},
   "outputs": [],
   "source": []
  },
  {
   "cell_type": "code",
   "execution_count": 108,
   "metadata": {},
   "outputs": [
    {
     "data": {
      "text/plain": [
       "1:10"
      ]
     },
     "execution_count": 108,
     "metadata": {},
     "output_type": "execute_result"
    }
   ],
   "source": [
    "x1 = 1:10"
   ]
  },
  {
   "cell_type": "code",
   "execution_count": 109,
   "metadata": {},
   "outputs": [
    {
     "data": {
      "text/plain": [
       "10-element Vector{Int64}:\n",
       " 23\n",
       " 24\n",
       " 25\n",
       " 26\n",
       " 27\n",
       " 28\n",
       " 29\n",
       " 30\n",
       " 31\n",
       " 32"
      ]
     },
     "execution_count": 109,
     "metadata": {},
     "output_type": "execute_result"
    }
   ],
   "source": [
    "map( x -> x+22 , x1 )"
   ]
  },
  {
   "cell_type": "code",
   "execution_count": 110,
   "metadata": {},
   "outputs": [
    {
     "data": {
      "text/plain": [
       "f1 (generic function with 1 method)"
      ]
     },
     "execution_count": 110,
     "metadata": {},
     "output_type": "execute_result"
    }
   ],
   "source": [
    "f1(x) = x+22"
   ]
  },
  {
   "cell_type": "code",
   "execution_count": 111,
   "metadata": {},
   "outputs": [
    {
     "data": {
      "text/plain": [
       "10-element Vector{Int64}:\n",
       " 23\n",
       " 24\n",
       " 25\n",
       " 26\n",
       " 27\n",
       " 28\n",
       " 29\n",
       " 30\n",
       " 31\n",
       " 32"
      ]
     },
     "execution_count": 111,
     "metadata": {},
     "output_type": "execute_result"
    }
   ],
   "source": [
    "map( x -> f1(x) , x1 )"
   ]
  },
  {
   "cell_type": "code",
   "execution_count": 113,
   "metadata": {},
   "outputs": [
    {
     "data": {
      "text/plain": [
       "10-element Vector{Int64}:\n",
       " 23\n",
       " 24\n",
       " 25\n",
       " 26\n",
       " 27\n",
       " 28\n",
       " 29\n",
       " 30\n",
       " 31\n",
       " 32"
      ]
     },
     "execution_count": 113,
     "metadata": {},
     "output_type": "execute_result"
    }
   ],
   "source": [
    "map( f1 , x1 )"
   ]
  },
  {
   "cell_type": "code",
   "execution_count": 117,
   "metadata": {},
   "outputs": [
    {
     "data": {
      "text/plain": [
       "3-element Vector{Int64}:\n",
       " 12\n",
       " 14\n",
       " 16"
      ]
     },
     "execution_count": 117,
     "metadata": {},
     "output_type": "execute_result"
    }
   ],
   "source": [
    "map( (x,y)->x+y , 1:3 , 11:13 )"
   ]
  },
  {
   "cell_type": "code",
   "execution_count": 118,
   "metadata": {},
   "outputs": [
    {
     "data": {
      "text/plain": [
       "f2 (generic function with 1 method)"
      ]
     },
     "execution_count": 118,
     "metadata": {},
     "output_type": "execute_result"
    }
   ],
   "source": [
    "f2(x,y) = x+y"
   ]
  },
  {
   "cell_type": "code",
   "execution_count": 119,
   "metadata": {},
   "outputs": [
    {
     "data": {
      "text/plain": [
       "3-element Vector{Int64}:\n",
       " 12\n",
       " 14\n",
       " 16"
      ]
     },
     "execution_count": 119,
     "metadata": {},
     "output_type": "execute_result"
    }
   ],
   "source": [
    "map( f2 , 1:3 , 11:13 )"
   ]
  },
  {
   "cell_type": "code",
   "execution_count": 121,
   "metadata": {},
   "outputs": [
    {
     "data": {
      "text/plain": [
       "3-element Vector{Int64}:\n",
       " 12\n",
       " 14\n",
       " 16"
      ]
     },
     "execution_count": 121,
     "metadata": {},
     "output_type": "execute_result"
    }
   ],
   "source": [
    "f2.( 1:3 , 11:13 )"
   ]
  },
  {
   "cell_type": "code",
   "execution_count": 122,
   "metadata": {},
   "outputs": [
    {
     "data": {
      "text/plain": [
       "3-element Vector{Int64}:\n",
       " 113\n",
       " 116\n",
       " 119"
      ]
     },
     "execution_count": 122,
     "metadata": {},
     "output_type": "execute_result"
    }
   ],
   "source": [
    "map( (x,y,z)->x+y+z , 1:3 , 11:13 , 101:103)"
   ]
  },
  {
   "cell_type": "code",
   "execution_count": null,
   "metadata": {},
   "outputs": [],
   "source": []
  },
  {
   "cell_type": "code",
   "execution_count": 133,
   "metadata": {},
   "outputs": [
    {
     "data": {
      "text/plain": [
       "4×1 Matrix{String}:\n",
       " \"Alex is cool\"\n",
       " \"Cat is cool\"\n",
       " \"Derek is cool\"\n",
       " \"Eric is cool\""
      ]
     },
     "execution_count": 133,
     "metadata": {},
     "output_type": "execute_result"
    }
   ],
   "source": [
    "mat_names = DBInterface.execute( db , \"SELECT name FROM table1\" ) |> DataFrame |>\n",
    "                                             Matrix |> res -> map( name -> name * \" is cool\" ,res )"
   ]
  },
  {
   "cell_type": "code",
   "execution_count": 128,
   "metadata": {},
   "outputs": [
    {
     "data": {
      "text/plain": [
       "4×1 Matrix{String}:\n",
       " \"Alex is cool\"\n",
       " \"Cat is cool\"\n",
       " \"Derek is cool\"\n",
       " \"Eric is cool\""
      ]
     },
     "execution_count": 128,
     "metadata": {},
     "output_type": "execute_result"
    }
   ],
   "source": [
    "map( name -> name * \" is cool\" , mat_names )"
   ]
  },
  {
   "cell_type": "code",
   "execution_count": null,
   "metadata": {},
   "outputs": [],
   "source": []
  },
  {
   "cell_type": "code",
   "execution_count": 134,
   "metadata": {},
   "outputs": [
    {
     "data": {
      "text/plain": [
       "55"
      ]
     },
     "execution_count": 134,
     "metadata": {},
     "output_type": "execute_result"
    }
   ],
   "source": [
    "reduce( + , 1:10 )"
   ]
  },
  {
   "cell_type": "code",
   "execution_count": 135,
   "metadata": {},
   "outputs": [
    {
     "data": {
      "text/plain": [
       "155"
      ]
     },
     "execution_count": 135,
     "metadata": {},
     "output_type": "execute_result"
    }
   ],
   "source": [
    "reduce( + , 1:10 , init = 100)"
   ]
  },
  {
   "cell_type": "code",
   "execution_count": 136,
   "metadata": {},
   "outputs": [
    {
     "data": {
      "text/plain": [
       "f3 (generic function with 1 method)"
      ]
     },
     "execution_count": 136,
     "metadata": {},
     "output_type": "execute_result"
    }
   ],
   "source": [
    "f3(x1,x2) = x1+x2"
   ]
  },
  {
   "cell_type": "code",
   "execution_count": 137,
   "metadata": {},
   "outputs": [
    {
     "data": {
      "text/plain": [
       "155"
      ]
     },
     "execution_count": 137,
     "metadata": {},
     "output_type": "execute_result"
    }
   ],
   "source": [
    "reduce( f3 , 1:10 , init = 100)"
   ]
  },
  {
   "cell_type": "code",
   "execution_count": 138,
   "metadata": {},
   "outputs": [
    {
     "data": {
      "text/plain": [
       "155"
      ]
     },
     "execution_count": 138,
     "metadata": {},
     "output_type": "execute_result"
    }
   ],
   "source": [
    "reduce( (x1,x2)->x1+x2 , 1:10 , init = 100)"
   ]
  },
  {
   "cell_type": "code",
   "execution_count": null,
   "metadata": {},
   "outputs": [],
   "source": []
  },
  {
   "cell_type": "code",
   "execution_count": 142,
   "metadata": {},
   "outputs": [
    {
     "data": {
      "text/plain": [
       "6-element Vector{Int64}:\n",
       "  3\n",
       "  6\n",
       "  9\n",
       " 12\n",
       " 15\n",
       " 18"
      ]
     },
     "execution_count": 142,
     "metadata": {},
     "output_type": "execute_result"
    }
   ],
   "source": [
    "filter( x-> x%3 == 0 , 1:20 )"
   ]
  },
  {
   "cell_type": "code",
   "execution_count": 143,
   "metadata": {},
   "outputs": [
    {
     "data": {
      "text/plain": [
       "8-element Vector{Int64}:\n",
       "  3\n",
       "  6\n",
       "  7\n",
       "  9\n",
       " 12\n",
       " 14\n",
       " 15\n",
       " 18"
      ]
     },
     "execution_count": 143,
     "metadata": {},
     "output_type": "execute_result"
    }
   ],
   "source": [
    "filter( x-> x%3 == 0 || x%7 == 0 , 1:20 )"
   ]
  },
  {
   "cell_type": "code",
   "execution_count": 147,
   "metadata": {},
   "outputs": [
    {
     "data": {
      "text/html": [
       "<div><div style = \"float: left;\"><span>19×5 DataFrame</span></div><div style = \"clear: both;\"></div></div><div class = \"data-frame\" style = \"overflow-x: scroll;\"><table class = \"data-frame\" style = \"margin-bottom: 6px;\"><thead><tr class = \"header\"><th class = \"rowNumber\" style = \"font-weight: bold; text-align: right;\">Row</th><th style = \"text-align: left;\">Survived</th><th style = \"text-align: left;\">Pclass</th><th style = \"text-align: left;\">Sex</th><th style = \"text-align: left;\">Age</th><th style = \"text-align: left;\">Fare</th></tr><tr class = \"subheader headerLastRow\"><th class = \"rowNumber\" style = \"font-weight: bold; text-align: right;\"></th><th title = \"Int64\" style = \"text-align: left;\">Int64</th><th title = \"Int64\" style = \"text-align: left;\">Int64</th><th title = \"String7\" style = \"text-align: left;\">String7</th><th title = \"Union{Missing, Float64}\" style = \"text-align: left;\">Float64?</th><th title = \"Float64\" style = \"text-align: left;\">Float64</th></tr></thead><tbody><tr><td class = \"rowNumber\" style = \"font-weight: bold; text-align: right;\">1</td><td style = \"text-align: right;\">1</td><td style = \"text-align: right;\">2</td><td style = \"text-align: left;\">female</td><td style = \"text-align: right;\">55.0</td><td style = \"text-align: right;\">16.0</td></tr><tr><td class = \"rowNumber\" style = \"font-weight: bold; text-align: right;\">2</td><td style = \"text-align: right;\">1</td><td style = \"text-align: right;\">2</td><td style = \"text-align: left;\">female</td><td style = \"text-align: right;\">40.0</td><td style = \"text-align: right;\">15.75</td></tr><tr><td class = \"rowNumber\" style = \"font-weight: bold; text-align: right;\">3</td><td style = \"text-align: right;\">1</td><td style = \"text-align: right;\">2</td><td style = \"text-align: left;\">female</td><td style = \"text-align: right;\">50.0</td><td style = \"text-align: right;\">26.0</td></tr><tr><td class = \"rowNumber\" style = \"font-weight: bold; text-align: right;\">4</td><td style = \"text-align: right;\">1</td><td style = \"text-align: right;\">2</td><td style = \"text-align: left;\">female</td><td style = \"text-align: right;\">41.0</td><td style = \"text-align: right;\">19.5</td></tr><tr><td class = \"rowNumber\" style = \"font-weight: bold; text-align: right;\">5</td><td style = \"text-align: right;\">1</td><td style = \"text-align: right;\">2</td><td style = \"text-align: left;\">male</td><td style = \"text-align: right;\">42.0</td><td style = \"text-align: right;\">13.0</td></tr><tr><td class = \"rowNumber\" style = \"font-weight: bold; text-align: right;\">6</td><td style = \"text-align: right;\">1</td><td style = \"text-align: right;\">3</td><td style = \"text-align: left;\">male</td><td style = \"text-align: right;\">45.0</td><td style = \"text-align: right;\">8.05</td></tr><tr><td class = \"rowNumber\" style = \"font-weight: bold; text-align: right;\">7</td><td style = \"text-align: right;\">1</td><td style = \"text-align: right;\">2</td><td style = \"text-align: left;\">female</td><td style = \"text-align: right;\">40.0</td><td style = \"text-align: right;\">13.0</td></tr><tr><td class = \"rowNumber\" style = \"font-weight: bold; text-align: right;\">8</td><td style = \"text-align: right;\">1</td><td style = \"text-align: right;\">3</td><td style = \"text-align: left;\">male</td><td style = \"text-align: right;\">44.0</td><td style = \"text-align: right;\">7.925</td></tr><tr><td class = \"rowNumber\" style = \"font-weight: bold; text-align: right;\">9</td><td style = \"text-align: right;\">1</td><td style = \"text-align: right;\">2</td><td style = \"text-align: left;\">female</td><td style = \"text-align: right;\">42.0</td><td style = \"text-align: right;\">26.0</td></tr><tr><td class = \"rowNumber\" style = \"font-weight: bold; text-align: right;\">10</td><td style = \"text-align: right;\">1</td><td style = \"text-align: right;\">2</td><td style = \"text-align: left;\">female</td><td style = \"text-align: right;\">45.0</td><td style = \"text-align: right;\">26.25</td></tr><tr><td class = \"rowNumber\" style = \"font-weight: bold; text-align: right;\">11</td><td style = \"text-align: right;\">1</td><td style = \"text-align: right;\">2</td><td style = \"text-align: left;\">female</td><td style = \"text-align: right;\">50.0</td><td style = \"text-align: right;\">10.5</td></tr><tr><td class = \"rowNumber\" style = \"font-weight: bold; text-align: right;\">12</td><td style = \"text-align: right;\">1</td><td style = \"text-align: right;\">3</td><td style = \"text-align: left;\">female</td><td style = \"text-align: right;\">63.0</td><td style = \"text-align: right;\">9.5875</td></tr><tr><td class = \"rowNumber\" style = \"font-weight: bold; text-align: right;\">13</td><td style = \"text-align: right;\">1</td><td style = \"text-align: right;\">2</td><td style = \"text-align: left;\">female</td><td style = \"text-align: right;\">50.0</td><td style = \"text-align: right;\">10.5</td></tr><tr><td class = \"rowNumber\" style = \"font-weight: bold; text-align: right;\">14</td><td style = \"text-align: right;\">1</td><td style = \"text-align: right;\">2</td><td style = \"text-align: left;\">male</td><td style = \"text-align: right;\">62.0</td><td style = \"text-align: right;\">10.5</td></tr><tr><td class = \"rowNumber\" style = \"font-weight: bold; text-align: right;\">15</td><td style = \"text-align: right;\">1</td><td style = \"text-align: right;\">2</td><td style = \"text-align: left;\">female</td><td style = \"text-align: right;\">40.0</td><td style = \"text-align: right;\">39.0</td></tr><tr><td class = \"rowNumber\" style = \"font-weight: bold; text-align: right;\">16</td><td style = \"text-align: right;\">1</td><td style = \"text-align: right;\">2</td><td style = \"text-align: left;\">female</td><td style = \"text-align: right;\">45.0</td><td style = \"text-align: right;\">13.5</td></tr><tr><td class = \"rowNumber\" style = \"font-weight: bold; text-align: right;\">17</td><td style = \"text-align: right;\">1</td><td style = \"text-align: right;\">2</td><td style = \"text-align: left;\">female</td><td style = \"text-align: right;\">48.0</td><td style = \"text-align: right;\">65.0</td></tr><tr><td class = \"rowNumber\" style = \"font-weight: bold; text-align: right;\">18</td><td style = \"text-align: right;\">1</td><td style = \"text-align: right;\">2</td><td style = \"text-align: left;\">female</td><td style = \"text-align: right;\">54.0</td><td style = \"text-align: right;\">23.0</td></tr><tr><td class = \"rowNumber\" style = \"font-weight: bold; text-align: right;\">19</td><td style = \"text-align: right;\">1</td><td style = \"text-align: right;\">2</td><td style = \"text-align: left;\">female</td><td style = \"text-align: right;\">42.0</td><td style = \"text-align: right;\">13.0</td></tr></tbody></table></div>"
      ],
      "text/latex": [
       "\\begin{tabular}{r|ccccc}\n",
       "\t& Survived & Pclass & Sex & Age & Fare\\\\\n",
       "\t\\hline\n",
       "\t& Int64 & Int64 & String7 & Float64? & Float64\\\\\n",
       "\t\\hline\n",
       "\t1 & 1 & 2 & female & 55.0 & 16.0 \\\\\n",
       "\t2 & 1 & 2 & female & 40.0 & 15.75 \\\\\n",
       "\t3 & 1 & 2 & female & 50.0 & 26.0 \\\\\n",
       "\t4 & 1 & 2 & female & 41.0 & 19.5 \\\\\n",
       "\t5 & 1 & 2 & male & 42.0 & 13.0 \\\\\n",
       "\t6 & 1 & 3 & male & 45.0 & 8.05 \\\\\n",
       "\t7 & 1 & 2 & female & 40.0 & 13.0 \\\\\n",
       "\t8 & 1 & 3 & male & 44.0 & 7.925 \\\\\n",
       "\t9 & 1 & 2 & female & 42.0 & 26.0 \\\\\n",
       "\t10 & 1 & 2 & female & 45.0 & 26.25 \\\\\n",
       "\t11 & 1 & 2 & female & 50.0 & 10.5 \\\\\n",
       "\t12 & 1 & 3 & female & 63.0 & 9.5875 \\\\\n",
       "\t13 & 1 & 2 & female & 50.0 & 10.5 \\\\\n",
       "\t14 & 1 & 2 & male & 62.0 & 10.5 \\\\\n",
       "\t15 & 1 & 2 & female & 40.0 & 39.0 \\\\\n",
       "\t16 & 1 & 2 & female & 45.0 & 13.5 \\\\\n",
       "\t17 & 1 & 2 & female & 48.0 & 65.0 \\\\\n",
       "\t18 & 1 & 2 & female & 54.0 & 23.0 \\\\\n",
       "\t19 & 1 & 2 & female & 42.0 & 13.0 \\\\\n",
       "\\end{tabular}\n"
      ],
      "text/plain": [
       "\u001b[1m19×5 DataFrame\u001b[0m\n",
       "\u001b[1m Row \u001b[0m│\u001b[1m Survived \u001b[0m\u001b[1m Pclass \u001b[0m\u001b[1m Sex     \u001b[0m\u001b[1m Age      \u001b[0m\u001b[1m Fare    \u001b[0m\n",
       "     │\u001b[90m Int64    \u001b[0m\u001b[90m Int64  \u001b[0m\u001b[90m String7 \u001b[0m\u001b[90m Float64? \u001b[0m\u001b[90m Float64 \u001b[0m\n",
       "─────┼──────────────────────────────────────────────\n",
       "   1 │        1       2  female       55.0  16.0\n",
       "   2 │        1       2  female       40.0  15.75\n",
       "   3 │        1       2  female       50.0  26.0\n",
       "   4 │        1       2  female       41.0  19.5\n",
       "   5 │        1       2  male         42.0  13.0\n",
       "   6 │        1       3  male         45.0   8.05\n",
       "   7 │        1       2  female       40.0  13.0\n",
       "   8 │        1       3  male         44.0   7.925\n",
       "   9 │        1       2  female       42.0  26.0\n",
       "  10 │        1       2  female       45.0  26.25\n",
       "  11 │        1       2  female       50.0  10.5\n",
       "  12 │        1       3  female       63.0   9.5875\n",
       "  13 │        1       2  female       50.0  10.5\n",
       "  14 │        1       2  male         62.0  10.5\n",
       "  15 │        1       2  female       40.0  39.0\n",
       "  16 │        1       2  female       45.0  13.5\n",
       "  17 │        1       2  female       48.0  65.0\n",
       "  18 │        1       2  female       54.0  23.0\n",
       "  19 │        1       2  female       42.0  13.0"
      ]
     },
     "execution_count": 147,
     "metadata": {},
     "output_type": "execute_result"
    }
   ],
   "source": [
    "filter( row-> row[\"Survived\"]==1 , filter( row-> row[\"Age\"] >= 40 , df_titanic ) ) |> res-> filter(x->x[\"Pclass\"]>1,res)"
   ]
  },
  {
   "cell_type": "code",
   "execution_count": 148,
   "metadata": {},
   "outputs": [
    {
     "data": {
      "text/html": [
       "<div><div style = \"float: left;\"><span>19×5 DataFrame</span></div><div style = \"clear: both;\"></div></div><div class = \"data-frame\" style = \"overflow-x: scroll;\"><table class = \"data-frame\" style = \"margin-bottom: 6px;\"><thead><tr class = \"header\"><th class = \"rowNumber\" style = \"font-weight: bold; text-align: right;\">Row</th><th style = \"text-align: left;\">Survived</th><th style = \"text-align: left;\">Pclass</th><th style = \"text-align: left;\">Sex</th><th style = \"text-align: left;\">Age</th><th style = \"text-align: left;\">Fare</th></tr><tr class = \"subheader headerLastRow\"><th class = \"rowNumber\" style = \"font-weight: bold; text-align: right;\"></th><th title = \"Int64\" style = \"text-align: left;\">Int64</th><th title = \"Int64\" style = \"text-align: left;\">Int64</th><th title = \"String7\" style = \"text-align: left;\">String7</th><th title = \"Union{Missing, Float64}\" style = \"text-align: left;\">Float64?</th><th title = \"Float64\" style = \"text-align: left;\">Float64</th></tr></thead><tbody><tr><td class = \"rowNumber\" style = \"font-weight: bold; text-align: right;\">1</td><td style = \"text-align: right;\">1</td><td style = \"text-align: right;\">2</td><td style = \"text-align: left;\">female</td><td style = \"text-align: right;\">55.0</td><td style = \"text-align: right;\">16.0</td></tr><tr><td class = \"rowNumber\" style = \"font-weight: bold; text-align: right;\">2</td><td style = \"text-align: right;\">1</td><td style = \"text-align: right;\">2</td><td style = \"text-align: left;\">female</td><td style = \"text-align: right;\">40.0</td><td style = \"text-align: right;\">15.75</td></tr><tr><td class = \"rowNumber\" style = \"font-weight: bold; text-align: right;\">3</td><td style = \"text-align: right;\">1</td><td style = \"text-align: right;\">2</td><td style = \"text-align: left;\">female</td><td style = \"text-align: right;\">50.0</td><td style = \"text-align: right;\">26.0</td></tr><tr><td class = \"rowNumber\" style = \"font-weight: bold; text-align: right;\">4</td><td style = \"text-align: right;\">1</td><td style = \"text-align: right;\">2</td><td style = \"text-align: left;\">female</td><td style = \"text-align: right;\">41.0</td><td style = \"text-align: right;\">19.5</td></tr><tr><td class = \"rowNumber\" style = \"font-weight: bold; text-align: right;\">5</td><td style = \"text-align: right;\">1</td><td style = \"text-align: right;\">2</td><td style = \"text-align: left;\">male</td><td style = \"text-align: right;\">42.0</td><td style = \"text-align: right;\">13.0</td></tr><tr><td class = \"rowNumber\" style = \"font-weight: bold; text-align: right;\">6</td><td style = \"text-align: right;\">1</td><td style = \"text-align: right;\">3</td><td style = \"text-align: left;\">male</td><td style = \"text-align: right;\">45.0</td><td style = \"text-align: right;\">8.05</td></tr><tr><td class = \"rowNumber\" style = \"font-weight: bold; text-align: right;\">7</td><td style = \"text-align: right;\">1</td><td style = \"text-align: right;\">2</td><td style = \"text-align: left;\">female</td><td style = \"text-align: right;\">40.0</td><td style = \"text-align: right;\">13.0</td></tr><tr><td class = \"rowNumber\" style = \"font-weight: bold; text-align: right;\">8</td><td style = \"text-align: right;\">1</td><td style = \"text-align: right;\">3</td><td style = \"text-align: left;\">male</td><td style = \"text-align: right;\">44.0</td><td style = \"text-align: right;\">7.925</td></tr><tr><td class = \"rowNumber\" style = \"font-weight: bold; text-align: right;\">9</td><td style = \"text-align: right;\">1</td><td style = \"text-align: right;\">2</td><td style = \"text-align: left;\">female</td><td style = \"text-align: right;\">42.0</td><td style = \"text-align: right;\">26.0</td></tr><tr><td class = \"rowNumber\" style = \"font-weight: bold; text-align: right;\">10</td><td style = \"text-align: right;\">1</td><td style = \"text-align: right;\">2</td><td style = \"text-align: left;\">female</td><td style = \"text-align: right;\">45.0</td><td style = \"text-align: right;\">26.25</td></tr><tr><td class = \"rowNumber\" style = \"font-weight: bold; text-align: right;\">11</td><td style = \"text-align: right;\">1</td><td style = \"text-align: right;\">2</td><td style = \"text-align: left;\">female</td><td style = \"text-align: right;\">50.0</td><td style = \"text-align: right;\">10.5</td></tr><tr><td class = \"rowNumber\" style = \"font-weight: bold; text-align: right;\">12</td><td style = \"text-align: right;\">1</td><td style = \"text-align: right;\">3</td><td style = \"text-align: left;\">female</td><td style = \"text-align: right;\">63.0</td><td style = \"text-align: right;\">9.5875</td></tr><tr><td class = \"rowNumber\" style = \"font-weight: bold; text-align: right;\">13</td><td style = \"text-align: right;\">1</td><td style = \"text-align: right;\">2</td><td style = \"text-align: left;\">female</td><td style = \"text-align: right;\">50.0</td><td style = \"text-align: right;\">10.5</td></tr><tr><td class = \"rowNumber\" style = \"font-weight: bold; text-align: right;\">14</td><td style = \"text-align: right;\">1</td><td style = \"text-align: right;\">2</td><td style = \"text-align: left;\">male</td><td style = \"text-align: right;\">62.0</td><td style = \"text-align: right;\">10.5</td></tr><tr><td class = \"rowNumber\" style = \"font-weight: bold; text-align: right;\">15</td><td style = \"text-align: right;\">1</td><td style = \"text-align: right;\">2</td><td style = \"text-align: left;\">female</td><td style = \"text-align: right;\">40.0</td><td style = \"text-align: right;\">39.0</td></tr><tr><td class = \"rowNumber\" style = \"font-weight: bold; text-align: right;\">16</td><td style = \"text-align: right;\">1</td><td style = \"text-align: right;\">2</td><td style = \"text-align: left;\">female</td><td style = \"text-align: right;\">45.0</td><td style = \"text-align: right;\">13.5</td></tr><tr><td class = \"rowNumber\" style = \"font-weight: bold; text-align: right;\">17</td><td style = \"text-align: right;\">1</td><td style = \"text-align: right;\">2</td><td style = \"text-align: left;\">female</td><td style = \"text-align: right;\">48.0</td><td style = \"text-align: right;\">65.0</td></tr><tr><td class = \"rowNumber\" style = \"font-weight: bold; text-align: right;\">18</td><td style = \"text-align: right;\">1</td><td style = \"text-align: right;\">2</td><td style = \"text-align: left;\">female</td><td style = \"text-align: right;\">54.0</td><td style = \"text-align: right;\">23.0</td></tr><tr><td class = \"rowNumber\" style = \"font-weight: bold; text-align: right;\">19</td><td style = \"text-align: right;\">1</td><td style = \"text-align: right;\">2</td><td style = \"text-align: left;\">female</td><td style = \"text-align: right;\">42.0</td><td style = \"text-align: right;\">13.0</td></tr></tbody></table></div>"
      ],
      "text/latex": [
       "\\begin{tabular}{r|ccccc}\n",
       "\t& Survived & Pclass & Sex & Age & Fare\\\\\n",
       "\t\\hline\n",
       "\t& Int64 & Int64 & String7 & Float64? & Float64\\\\\n",
       "\t\\hline\n",
       "\t1 & 1 & 2 & female & 55.0 & 16.0 \\\\\n",
       "\t2 & 1 & 2 & female & 40.0 & 15.75 \\\\\n",
       "\t3 & 1 & 2 & female & 50.0 & 26.0 \\\\\n",
       "\t4 & 1 & 2 & female & 41.0 & 19.5 \\\\\n",
       "\t5 & 1 & 2 & male & 42.0 & 13.0 \\\\\n",
       "\t6 & 1 & 3 & male & 45.0 & 8.05 \\\\\n",
       "\t7 & 1 & 2 & female & 40.0 & 13.0 \\\\\n",
       "\t8 & 1 & 3 & male & 44.0 & 7.925 \\\\\n",
       "\t9 & 1 & 2 & female & 42.0 & 26.0 \\\\\n",
       "\t10 & 1 & 2 & female & 45.0 & 26.25 \\\\\n",
       "\t11 & 1 & 2 & female & 50.0 & 10.5 \\\\\n",
       "\t12 & 1 & 3 & female & 63.0 & 9.5875 \\\\\n",
       "\t13 & 1 & 2 & female & 50.0 & 10.5 \\\\\n",
       "\t14 & 1 & 2 & male & 62.0 & 10.5 \\\\\n",
       "\t15 & 1 & 2 & female & 40.0 & 39.0 \\\\\n",
       "\t16 & 1 & 2 & female & 45.0 & 13.5 \\\\\n",
       "\t17 & 1 & 2 & female & 48.0 & 65.0 \\\\\n",
       "\t18 & 1 & 2 & female & 54.0 & 23.0 \\\\\n",
       "\t19 & 1 & 2 & female & 42.0 & 13.0 \\\\\n",
       "\\end{tabular}\n"
      ],
      "text/plain": [
       "\u001b[1m19×5 DataFrame\u001b[0m\n",
       "\u001b[1m Row \u001b[0m│\u001b[1m Survived \u001b[0m\u001b[1m Pclass \u001b[0m\u001b[1m Sex     \u001b[0m\u001b[1m Age      \u001b[0m\u001b[1m Fare    \u001b[0m\n",
       "     │\u001b[90m Int64    \u001b[0m\u001b[90m Int64  \u001b[0m\u001b[90m String7 \u001b[0m\u001b[90m Float64? \u001b[0m\u001b[90m Float64 \u001b[0m\n",
       "─────┼──────────────────────────────────────────────\n",
       "   1 │        1       2  female       55.0  16.0\n",
       "   2 │        1       2  female       40.0  15.75\n",
       "   3 │        1       2  female       50.0  26.0\n",
       "   4 │        1       2  female       41.0  19.5\n",
       "   5 │        1       2  male         42.0  13.0\n",
       "   6 │        1       3  male         45.0   8.05\n",
       "   7 │        1       2  female       40.0  13.0\n",
       "   8 │        1       3  male         44.0   7.925\n",
       "   9 │        1       2  female       42.0  26.0\n",
       "  10 │        1       2  female       45.0  26.25\n",
       "  11 │        1       2  female       50.0  10.5\n",
       "  12 │        1       3  female       63.0   9.5875\n",
       "  13 │        1       2  female       50.0  10.5\n",
       "  14 │        1       2  male         62.0  10.5\n",
       "  15 │        1       2  female       40.0  39.0\n",
       "  16 │        1       2  female       45.0  13.5\n",
       "  17 │        1       2  female       48.0  65.0\n",
       "  18 │        1       2  female       54.0  23.0\n",
       "  19 │        1       2  female       42.0  13.0"
      ]
     },
     "execution_count": 148,
     "metadata": {},
     "output_type": "execute_result"
    }
   ],
   "source": [
    "filter(row-> row[\"Age\"] >= 40,df_titanic) |> res-> filter(row-> row[\"Survived\"]==1,res) |> res-> filter(x->x[\"Pclass\"]>1,res)"
   ]
  },
  {
   "cell_type": "code",
   "execution_count": 151,
   "metadata": {},
   "outputs": [
    {
     "data": {
      "text/plain": [
       "366.0625"
      ]
     },
     "execution_count": 151,
     "metadata": {},
     "output_type": "execute_result"
    }
   ],
   "source": [
    "filter(row-> row[\"Age\"] >= 40,df_titanic) |> res-> filter(row-> row[\"Survived\"]==1,res) |> res-> filter(x->x[\"Pclass\"]>1,res)[:,:Fare] |> sum    "
   ]
  },
  {
   "cell_type": "code",
   "execution_count": null,
   "metadata": {},
   "outputs": [],
   "source": []
  },
  {
   "cell_type": "code",
   "execution_count": null,
   "metadata": {},
   "outputs": [],
   "source": []
  },
  {
   "cell_type": "code",
   "execution_count": null,
   "metadata": {},
   "outputs": [],
   "source": []
  }
 ],
 "metadata": {
  "kernelspec": {
   "display_name": "Julia 1.8.2",
   "language": "julia",
   "name": "julia-1.8"
  },
  "language_info": {
   "file_extension": ".jl",
   "mimetype": "application/julia",
   "name": "julia",
   "version": "1.8.2"
  }
 },
 "nbformat": 4,
 "nbformat_minor": 4
}
