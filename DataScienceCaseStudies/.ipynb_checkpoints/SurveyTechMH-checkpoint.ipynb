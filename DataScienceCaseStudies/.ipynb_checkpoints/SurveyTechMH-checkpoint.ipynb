{
 "cells": [
  {
   "cell_type": "code",
   "execution_count": null,
   "id": "f76cbed6-399f-47f0-b256-19a906855d91",
   "metadata": {},
   "outputs": [],
   "source": []
  },
  {
   "cell_type": "code",
   "execution_count": 117,
   "id": "18ee5d11-780e-47f2-afe0-2d37ee666e7d",
   "metadata": {},
   "outputs": [],
   "source": [
    "using CSV, DataFrames\n",
    "using Statistics\n",
    "using RCall"
   ]
  },
  {
   "cell_type": "code",
   "execution_count": 6,
   "id": "c52ca037-bb7f-4ee7-bdeb-2bb2e23de9c1",
   "metadata": {},
   "outputs": [],
   "source": [
    "#https://www.kaggle.com/datasets/osmi/mental-health-in-tech-survey\n",
    "df_2014 = DataFrame( CSV.File( \"survey2014.csv\" ) );"
   ]
  },
  {
   "cell_type": "code",
   "execution_count": 7,
   "id": "f827f188-a333-44e5-a358-10987c099ff6",
   "metadata": {},
   "outputs": [],
   "source": [
    "#https://www.kaggle.com/datasets/osmi/mental-health-in-tech-2016\n",
    "df_2016 = DataFrame( CSV.File( \"mental-health-in-tech-2016.csv\" ) );"
   ]
  },
  {
   "cell_type": "code",
   "execution_count": null,
   "id": "ab19f3af-e9f8-4377-b32d-58b90094e7b5",
   "metadata": {},
   "outputs": [],
   "source": []
  },
  {
   "cell_type": "code",
   "execution_count": 8,
   "id": "96e2354a-f8a0-4534-8fcf-0f472afc29f5",
   "metadata": {},
   "outputs": [
    {
     "data": {
      "text/html": [
       "<div><div style = \"float: left;\"><span>27×7 DataFrame</span></div><div style = \"float: right;\"><span style = \"font-style: italic;\">2 rows omitted</span></div><div style = \"clear: both;\"></div></div><div class = \"data-frame\" style = \"overflow-x: scroll;\"><table class = \"data-frame\" style = \"margin-bottom: 6px;\"><thead><tr class = \"header\"><th class = \"rowNumber\" style = \"font-weight: bold; text-align: right;\">Row</th><th style = \"text-align: left;\">variable</th><th style = \"text-align: left;\">mean</th><th style = \"text-align: left;\">min</th><th style = \"text-align: left;\">median</th><th style = \"text-align: left;\">max</th><th style = \"text-align: left;\">nmissing</th><th style = \"text-align: left;\">eltype</th></tr><tr class = \"subheader headerLastRow\"><th class = \"rowNumber\" style = \"font-weight: bold; text-align: right;\"></th><th title = \"Symbol\" style = \"text-align: left;\">Symbol</th><th title = \"Union{Nothing, Float64}\" style = \"text-align: left;\">Union…</th><th title = \"Any\" style = \"text-align: left;\">Any</th><th title = \"Union{Nothing, Float64}\" style = \"text-align: left;\">Union…</th><th title = \"Any\" style = \"text-align: left;\">Any</th><th title = \"Int64\" style = \"text-align: left;\">Int64</th><th title = \"DataType\" style = \"text-align: left;\">DataType</th></tr></thead><tbody><tr><td class = \"rowNumber\" style = \"font-weight: bold; text-align: right;\">1</td><td style = \"text-align: left;\">Timestamp</td><td style = \"font-style: italic; text-align: left;\"></td><td style = \"text-align: left;\">2014-08-27 11:29:31</td><td style = \"font-style: italic; text-align: left;\"></td><td style = \"text-align: left;\">2016-02-01 23:04:31</td><td style = \"text-align: right;\">0</td><td style = \"text-align: left;\">String31</td></tr><tr><td class = \"rowNumber\" style = \"font-weight: bold; text-align: right;\">2</td><td style = \"text-align: left;\">Age</td><td style = \"text-align: left;\">7.94281e7</td><td style = \"text-align: left;\">-1726</td><td style = \"text-align: left;\">31.0</td><td style = \"text-align: left;\">99999999999</td><td style = \"text-align: right;\">0</td><td style = \"text-align: left;\">Int64</td></tr><tr><td class = \"rowNumber\" style = \"font-weight: bold; text-align: right;\">3</td><td style = \"text-align: left;\">Gender</td><td style = \"font-style: italic; text-align: left;\"></td><td style = \"text-align: left;\">A little about you</td><td style = \"font-style: italic; text-align: left;\"></td><td style = \"text-align: left;\">woman</td><td style = \"text-align: right;\">0</td><td style = \"text-align: left;\">String</td></tr><tr><td class = \"rowNumber\" style = \"font-weight: bold; text-align: right;\">4</td><td style = \"text-align: left;\">Country</td><td style = \"font-style: italic; text-align: left;\"></td><td style = \"text-align: left;\">Australia</td><td style = \"font-style: italic; text-align: left;\"></td><td style = \"text-align: left;\">Zimbabwe</td><td style = \"text-align: right;\">0</td><td style = \"text-align: left;\">String31</td></tr><tr><td class = \"rowNumber\" style = \"font-weight: bold; text-align: right;\">5</td><td style = \"text-align: left;\">state</td><td style = \"font-style: italic; text-align: left;\"></td><td style = \"text-align: left;\">AL</td><td style = \"font-style: italic; text-align: left;\"></td><td style = \"text-align: left;\">WY</td><td style = \"text-align: right;\">0</td><td style = \"text-align: left;\">String3</td></tr><tr><td class = \"rowNumber\" style = \"font-weight: bold; text-align: right;\">6</td><td style = \"text-align: left;\">self_employed</td><td style = \"font-style: italic; text-align: left;\"></td><td style = \"text-align: left;\">NA</td><td style = \"font-style: italic; text-align: left;\"></td><td style = \"text-align: left;\">Yes</td><td style = \"text-align: right;\">0</td><td style = \"text-align: left;\">String3</td></tr><tr><td class = \"rowNumber\" style = \"font-weight: bold; text-align: right;\">7</td><td style = \"text-align: left;\">family_history</td><td style = \"font-style: italic; text-align: left;\"></td><td style = \"text-align: left;\">No</td><td style = \"font-style: italic; text-align: left;\"></td><td style = \"text-align: left;\">Yes</td><td style = \"text-align: right;\">0</td><td style = \"text-align: left;\">String3</td></tr><tr><td class = \"rowNumber\" style = \"font-weight: bold; text-align: right;\">8</td><td style = \"text-align: left;\">treatment</td><td style = \"font-style: italic; text-align: left;\"></td><td style = \"text-align: left;\">No</td><td style = \"font-style: italic; text-align: left;\"></td><td style = \"text-align: left;\">Yes</td><td style = \"text-align: right;\">0</td><td style = \"text-align: left;\">String3</td></tr><tr><td class = \"rowNumber\" style = \"font-weight: bold; text-align: right;\">9</td><td style = \"text-align: left;\">work_interfere</td><td style = \"font-style: italic; text-align: left;\"></td><td style = \"text-align: left;\">NA</td><td style = \"font-style: italic; text-align: left;\"></td><td style = \"text-align: left;\">Sometimes</td><td style = \"text-align: right;\">0</td><td style = \"text-align: left;\">String15</td></tr><tr><td class = \"rowNumber\" style = \"font-weight: bold; text-align: right;\">10</td><td style = \"text-align: left;\">no_employees</td><td style = \"font-style: italic; text-align: left;\"></td><td style = \"text-align: left;\">1-5</td><td style = \"font-style: italic; text-align: left;\"></td><td style = \"text-align: left;\">More than 1000</td><td style = \"text-align: right;\">0</td><td style = \"text-align: left;\">String15</td></tr><tr><td class = \"rowNumber\" style = \"font-weight: bold; text-align: right;\">11</td><td style = \"text-align: left;\">remote_work</td><td style = \"font-style: italic; text-align: left;\"></td><td style = \"text-align: left;\">No</td><td style = \"font-style: italic; text-align: left;\"></td><td style = \"text-align: left;\">Yes</td><td style = \"text-align: right;\">0</td><td style = \"text-align: left;\">String3</td></tr><tr><td class = \"rowNumber\" style = \"font-weight: bold; text-align: right;\">12</td><td style = \"text-align: left;\">tech_company</td><td style = \"font-style: italic; text-align: left;\"></td><td style = \"text-align: left;\">No</td><td style = \"font-style: italic; text-align: left;\"></td><td style = \"text-align: left;\">Yes</td><td style = \"text-align: right;\">0</td><td style = \"text-align: left;\">String3</td></tr><tr><td class = \"rowNumber\" style = \"font-weight: bold; text-align: right;\">13</td><td style = \"text-align: left;\">benefits</td><td style = \"font-style: italic; text-align: left;\"></td><td style = \"text-align: left;\">Don&apos;t know</td><td style = \"font-style: italic; text-align: left;\"></td><td style = \"text-align: left;\">Yes</td><td style = \"text-align: right;\">0</td><td style = \"text-align: left;\">String15</td></tr><tr><td style = \"text-align: right;\">&vellip;</td><td style = \"text-align: right;\">&vellip;</td><td style = \"text-align: right;\">&vellip;</td><td style = \"text-align: right;\">&vellip;</td><td style = \"text-align: right;\">&vellip;</td><td style = \"text-align: right;\">&vellip;</td><td style = \"text-align: right;\">&vellip;</td><td style = \"text-align: right;\">&vellip;</td></tr><tr><td class = \"rowNumber\" style = \"font-weight: bold; text-align: right;\">16</td><td style = \"text-align: left;\">seek_help</td><td style = \"font-style: italic; text-align: left;\"></td><td style = \"text-align: left;\">Don&apos;t know</td><td style = \"font-style: italic; text-align: left;\"></td><td style = \"text-align: left;\">Yes</td><td style = \"text-align: right;\">0</td><td style = \"text-align: left;\">String15</td></tr><tr><td class = \"rowNumber\" style = \"font-weight: bold; text-align: right;\">17</td><td style = \"text-align: left;\">anonymity</td><td style = \"font-style: italic; text-align: left;\"></td><td style = \"text-align: left;\">Don&apos;t know</td><td style = \"font-style: italic; text-align: left;\"></td><td style = \"text-align: left;\">Yes</td><td style = \"text-align: right;\">0</td><td style = \"text-align: left;\">String15</td></tr><tr><td class = \"rowNumber\" style = \"font-weight: bold; text-align: right;\">18</td><td style = \"text-align: left;\">leave</td><td style = \"font-style: italic; text-align: left;\"></td><td style = \"text-align: left;\">Don&apos;t know</td><td style = \"font-style: italic; text-align: left;\"></td><td style = \"text-align: left;\">Very easy</td><td style = \"text-align: right;\">0</td><td style = \"text-align: left;\">String31</td></tr><tr><td class = \"rowNumber\" style = \"font-weight: bold; text-align: right;\">19</td><td style = \"text-align: left;\">mental_health_consequence</td><td style = \"font-style: italic; text-align: left;\"></td><td style = \"text-align: left;\">Maybe</td><td style = \"font-style: italic; text-align: left;\"></td><td style = \"text-align: left;\">Yes</td><td style = \"text-align: right;\">0</td><td style = \"text-align: left;\">String7</td></tr><tr><td class = \"rowNumber\" style = \"font-weight: bold; text-align: right;\">20</td><td style = \"text-align: left;\">phys_health_consequence</td><td style = \"font-style: italic; text-align: left;\"></td><td style = \"text-align: left;\">Maybe</td><td style = \"font-style: italic; text-align: left;\"></td><td style = \"text-align: left;\">Yes</td><td style = \"text-align: right;\">0</td><td style = \"text-align: left;\">String7</td></tr><tr><td class = \"rowNumber\" style = \"font-weight: bold; text-align: right;\">21</td><td style = \"text-align: left;\">coworkers</td><td style = \"font-style: italic; text-align: left;\"></td><td style = \"text-align: left;\">No</td><td style = \"font-style: italic; text-align: left;\"></td><td style = \"text-align: left;\">Yes</td><td style = \"text-align: right;\">0</td><td style = \"text-align: left;\">String15</td></tr><tr><td class = \"rowNumber\" style = \"font-weight: bold; text-align: right;\">22</td><td style = \"text-align: left;\">supervisor</td><td style = \"font-style: italic; text-align: left;\"></td><td style = \"text-align: left;\">No</td><td style = \"font-style: italic; text-align: left;\"></td><td style = \"text-align: left;\">Yes</td><td style = \"text-align: right;\">0</td><td style = \"text-align: left;\">String15</td></tr><tr><td class = \"rowNumber\" style = \"font-weight: bold; text-align: right;\">23</td><td style = \"text-align: left;\">mental_health_interview</td><td style = \"font-style: italic; text-align: left;\"></td><td style = \"text-align: left;\">Maybe</td><td style = \"font-style: italic; text-align: left;\"></td><td style = \"text-align: left;\">Yes</td><td style = \"text-align: right;\">0</td><td style = \"text-align: left;\">String7</td></tr><tr><td class = \"rowNumber\" style = \"font-weight: bold; text-align: right;\">24</td><td style = \"text-align: left;\">phys_health_interview</td><td style = \"font-style: italic; text-align: left;\"></td><td style = \"text-align: left;\">Maybe</td><td style = \"font-style: italic; text-align: left;\"></td><td style = \"text-align: left;\">Yes</td><td style = \"text-align: right;\">0</td><td style = \"text-align: left;\">String7</td></tr><tr><td class = \"rowNumber\" style = \"font-weight: bold; text-align: right;\">25</td><td style = \"text-align: left;\">mental_vs_physical</td><td style = \"font-style: italic; text-align: left;\"></td><td style = \"text-align: left;\">Don&apos;t know</td><td style = \"font-style: italic; text-align: left;\"></td><td style = \"text-align: left;\">Yes</td><td style = \"text-align: right;\">0</td><td style = \"text-align: left;\">String15</td></tr><tr><td class = \"rowNumber\" style = \"font-weight: bold; text-align: right;\">26</td><td style = \"text-align: left;\">obs_consequence</td><td style = \"font-style: italic; text-align: left;\"></td><td style = \"text-align: left;\">No</td><td style = \"font-style: italic; text-align: left;\"></td><td style = \"text-align: left;\">Yes</td><td style = \"text-align: right;\">0</td><td style = \"text-align: left;\">String3</td></tr><tr><td class = \"rowNumber\" style = \"font-weight: bold; text-align: right;\">27</td><td style = \"text-align: left;\">comments</td><td style = \"font-style: italic; text-align: left;\"></td><td style = \"text-align: left;\"> </td><td style = \"font-style: italic; text-align: left;\"></td><td style = \"text-align: left;\">you rock for doing this!</td><td style = \"text-align: right;\">0</td><td style = \"text-align: left;\">String</td></tr></tbody></table></div>"
      ],
      "text/latex": [
       "\\begin{tabular}{r|cccccc}\n",
       "\t& variable & mean & min & median & max & \\\\\n",
       "\t\\hline\n",
       "\t& Symbol & Union… & Any & Union… & Any & \\\\\n",
       "\t\\hline\n",
       "\t1 & Timestamp &  & 2014-08-27 11:29:31 &  & 2016-02-01 23:04:31 & $\\dots$ \\\\\n",
       "\t2 & Age & 7.94281e7 & -1726 & 31.0 & 99999999999 & $\\dots$ \\\\\n",
       "\t3 & Gender &  & A little about you &  & woman & $\\dots$ \\\\\n",
       "\t4 & Country &  & Australia &  & Zimbabwe & $\\dots$ \\\\\n",
       "\t5 & state &  & AL &  & WY & $\\dots$ \\\\\n",
       "\t6 & self\\_employed &  & NA &  & Yes & $\\dots$ \\\\\n",
       "\t7 & family\\_history &  & No &  & Yes & $\\dots$ \\\\\n",
       "\t8 & treatment &  & No &  & Yes & $\\dots$ \\\\\n",
       "\t9 & work\\_interfere &  & NA &  & Sometimes & $\\dots$ \\\\\n",
       "\t10 & no\\_employees &  & 1-5 &  & More than 1000 & $\\dots$ \\\\\n",
       "\t11 & remote\\_work &  & No &  & Yes & $\\dots$ \\\\\n",
       "\t12 & tech\\_company &  & No &  & Yes & $\\dots$ \\\\\n",
       "\t13 & benefits &  & Don't know &  & Yes & $\\dots$ \\\\\n",
       "\t14 & care\\_options &  & No &  & Yes & $\\dots$ \\\\\n",
       "\t15 & wellness\\_program &  & Don't know &  & Yes & $\\dots$ \\\\\n",
       "\t16 & seek\\_help &  & Don't know &  & Yes & $\\dots$ \\\\\n",
       "\t17 & anonymity &  & Don't know &  & Yes & $\\dots$ \\\\\n",
       "\t18 & leave &  & Don't know &  & Very easy & $\\dots$ \\\\\n",
       "\t19 & mental\\_health\\_consequence &  & Maybe &  & Yes & $\\dots$ \\\\\n",
       "\t20 & phys\\_health\\_consequence &  & Maybe &  & Yes & $\\dots$ \\\\\n",
       "\t21 & coworkers &  & No &  & Yes & $\\dots$ \\\\\n",
       "\t22 & supervisor &  & No &  & Yes & $\\dots$ \\\\\n",
       "\t23 & mental\\_health\\_interview &  & Maybe &  & Yes & $\\dots$ \\\\\n",
       "\t24 & phys\\_health\\_interview &  & Maybe &  & Yes & $\\dots$ \\\\\n",
       "\t25 & mental\\_vs\\_physical &  & Don't know &  & Yes & $\\dots$ \\\\\n",
       "\t26 & obs\\_consequence &  & No &  & Yes & $\\dots$ \\\\\n",
       "\t27 & comments &  &   &  & you rock for doing this! & $\\dots$ \\\\\n",
       "\\end{tabular}\n"
      ],
      "text/plain": [
       "\u001b[1m27×7 DataFrame\u001b[0m\n",
       "\u001b[1m Row \u001b[0m│\u001b[1m variable                  \u001b[0m\u001b[1m mean      \u001b[0m\u001b[1m min                 \u001b[0m\u001b[1m median \u001b[0m\u001b[1m max \u001b[0m ⋯\n",
       "     │\u001b[90m Symbol                    \u001b[0m\u001b[90m Union…    \u001b[0m\u001b[90m Any                 \u001b[0m\u001b[90m Union… \u001b[0m\u001b[90m Any \u001b[0m ⋯\n",
       "─────┼──────────────────────────────────────────────────────────────────────────\n",
       "   1 │ Timestamp                 \u001b[90m           \u001b[0m 2014-08-27 11:29:31 \u001b[90m        \u001b[0m 2016 ⋯\n",
       "   2 │ Age                        7.94281e7  -1726                31.0    9999\n",
       "   3 │ Gender                    \u001b[90m           \u001b[0m A little about you  \u001b[90m        \u001b[0m woma\n",
       "   4 │ Country                   \u001b[90m           \u001b[0m Australia           \u001b[90m        \u001b[0m Zimb\n",
       "   5 │ state                     \u001b[90m           \u001b[0m AL                  \u001b[90m        \u001b[0m WY   ⋯\n",
       "   6 │ self_employed             \u001b[90m           \u001b[0m NA                  \u001b[90m        \u001b[0m Yes\n",
       "   7 │ family_history            \u001b[90m           \u001b[0m No                  \u001b[90m        \u001b[0m Yes\n",
       "   8 │ treatment                 \u001b[90m           \u001b[0m No                  \u001b[90m        \u001b[0m Yes\n",
       "   9 │ work_interfere            \u001b[90m           \u001b[0m NA                  \u001b[90m        \u001b[0m Some ⋯\n",
       "  10 │ no_employees              \u001b[90m           \u001b[0m 1-5                 \u001b[90m        \u001b[0m More\n",
       "  11 │ remote_work               \u001b[90m           \u001b[0m No                  \u001b[90m        \u001b[0m Yes\n",
       "  ⋮  │             ⋮                  ⋮               ⋮             ⋮          ⋱\n",
       "  18 │ leave                     \u001b[90m           \u001b[0m Don't know          \u001b[90m        \u001b[0m Very\n",
       "  19 │ mental_health_consequence \u001b[90m           \u001b[0m Maybe               \u001b[90m        \u001b[0m Yes  ⋯\n",
       "  20 │ phys_health_consequence   \u001b[90m           \u001b[0m Maybe               \u001b[90m        \u001b[0m Yes\n",
       "  21 │ coworkers                 \u001b[90m           \u001b[0m No                  \u001b[90m        \u001b[0m Yes\n",
       "  22 │ supervisor                \u001b[90m           \u001b[0m No                  \u001b[90m        \u001b[0m Yes\n",
       "  23 │ mental_health_interview   \u001b[90m           \u001b[0m Maybe               \u001b[90m        \u001b[0m Yes  ⋯\n",
       "  24 │ phys_health_interview     \u001b[90m           \u001b[0m Maybe               \u001b[90m        \u001b[0m Yes\n",
       "  25 │ mental_vs_physical        \u001b[90m           \u001b[0m Don't know          \u001b[90m        \u001b[0m Yes\n",
       "  26 │ obs_consequence           \u001b[90m           \u001b[0m No                  \u001b[90m        \u001b[0m Yes\n",
       "  27 │ comments                  \u001b[90m           \u001b[0m                     \u001b[90m        \u001b[0m you  ⋯\n",
       "\u001b[36m                                                    3 columns and 6 rows omitted\u001b[0m"
      ]
     },
     "execution_count": 8,
     "metadata": {},
     "output_type": "execute_result"
    }
   ],
   "source": [
    "describe( df_2014 )"
   ]
  },
  {
   "cell_type": "code",
   "execution_count": 9,
   "id": "b9283bb9-8981-4217-8b92-97042b24744e",
   "metadata": {},
   "outputs": [
    {
     "data": {
      "text/html": [
       "<div><div style = \"float: left;\"><span>63×7 DataFrame</span></div><div style = \"float: right;\"><span style = \"font-style: italic;\">38 rows omitted</span></div><div style = \"clear: both;\"></div></div><div class = \"data-frame\" style = \"overflow-x: scroll;\"><table class = \"data-frame\" style = \"margin-bottom: 6px;\"><thead><tr class = \"header\"><th class = \"rowNumber\" style = \"font-weight: bold; text-align: right;\">Row</th><th style = \"text-align: left;\">variable</th><th style = \"text-align: left;\">mean</th><th style = \"text-align: left;\">min</th><th style = \"text-align: left;\">median</th><th style = \"text-align: left;\">max</th><th style = \"text-align: left;\">nmissing</th><th style = \"text-align: left;\">eltype</th></tr><tr class = \"subheader headerLastRow\"><th class = \"rowNumber\" style = \"font-weight: bold; text-align: right;\"></th><th title = \"Symbol\" style = \"text-align: left;\">Symbol</th><th title = \"Union{Nothing, Float64}\" style = \"text-align: left;\">Union…</th><th title = \"Any\" style = \"text-align: left;\">Any</th><th title = \"Union{Nothing, Float64}\" style = \"text-align: left;\">Union…</th><th title = \"Any\" style = \"text-align: left;\">Any</th><th title = \"Int64\" style = \"text-align: left;\">Int64</th><th title = \"Type\" style = \"text-align: left;\">Type</th></tr></thead><tbody><tr><td class = \"rowNumber\" style = \"font-weight: bold; text-align: right;\">1</td><td style = \"text-align: left;\">Are you self-employed?</td><td style = \"text-align: left;\">0.200279</td><td style = \"text-align: left;\">0</td><td style = \"text-align: left;\">0.0</td><td style = \"text-align: left;\">1</td><td style = \"text-align: right;\">0</td><td style = \"text-align: left;\">Int64</td></tr><tr><td class = \"rowNumber\" style = \"font-weight: bold; text-align: right;\">2</td><td style = \"text-align: left;\">How many employees does your company or organization have?</td><td style = \"font-style: italic; text-align: left;\"></td><td style = \"text-align: left;\">1-5</td><td style = \"font-style: italic; text-align: left;\"></td><td style = \"text-align: left;\">More than 1000</td><td style = \"text-align: right;\">287</td><td style = \"text-align: left;\">Union{Missing, String15}</td></tr><tr><td class = \"rowNumber\" style = \"font-weight: bold; text-align: right;\">3</td><td style = \"text-align: left;\">Is your employer primarily a tech company/organization?</td><td style = \"text-align: left;\">0.770506</td><td style = \"text-align: left;\">0</td><td style = \"text-align: left;\">1.0</td><td style = \"text-align: left;\">1</td><td style = \"text-align: right;\">287</td><td style = \"text-align: left;\">Union{Missing, Int64}</td></tr><tr><td class = \"rowNumber\" style = \"font-weight: bold; text-align: right;\">4</td><td style = \"text-align: left;\">Is your primary role within your company related to tech/IT?</td><td style = \"text-align: left;\">0.942966</td><td style = \"text-align: left;\">0</td><td style = \"text-align: left;\">1.0</td><td style = \"text-align: left;\">1</td><td style = \"text-align: right;\">1170</td><td style = \"text-align: left;\">Union{Missing, Int64}</td></tr><tr><td class = \"rowNumber\" style = \"font-weight: bold; text-align: right;\">5</td><td style = \"text-align: left;\">Does your employer provide mental health benefits as part of healthcare coverage?</td><td style = \"font-style: italic; text-align: left;\"></td><td style = \"text-align: left;\">I don&apos;t know</td><td style = \"font-style: italic; text-align: left;\"></td><td style = \"text-align: left;\">Yes</td><td style = \"text-align: right;\">287</td><td style = \"text-align: left;\">Union{Missing, String31}</td></tr><tr><td class = \"rowNumber\" style = \"font-weight: bold; text-align: right;\">6</td><td style = \"text-align: left;\">Do you know the options for mental health care available under your employer-provided coverage?</td><td style = \"font-style: italic; text-align: left;\"></td><td style = \"text-align: left;\">I am not sure</td><td style = \"font-style: italic; text-align: left;\"></td><td style = \"text-align: left;\">Yes</td><td style = \"text-align: right;\">287</td><td style = \"text-align: left;\">Union{Missing, String15}</td></tr><tr><td class = \"rowNumber\" style = \"font-weight: bold; text-align: right;\">7</td><td style = \"text-align: left;\">Has your employer ever formally discussed mental health (for example, as part of a wellness campaign or other official communication)?</td><td style = \"font-style: italic; text-align: left;\"></td><td style = \"text-align: left;\">I don&apos;t know</td><td style = \"font-style: italic; text-align: left;\"></td><td style = \"text-align: left;\">Yes</td><td style = \"text-align: right;\">287</td><td style = \"text-align: left;\">Union{Missing, String15}</td></tr><tr><td class = \"rowNumber\" style = \"font-weight: bold; text-align: right;\">8</td><td style = \"text-align: left;\">Does your employer offer resources to learn more about mental health concerns and options for seeking help?</td><td style = \"font-style: italic; text-align: left;\"></td><td style = \"text-align: left;\">I don&apos;t know</td><td style = \"font-style: italic; text-align: left;\"></td><td style = \"text-align: left;\">Yes</td><td style = \"text-align: right;\">287</td><td style = \"text-align: left;\">Union{Missing, String15}</td></tr><tr><td class = \"rowNumber\" style = \"font-weight: bold; text-align: right;\">9</td><td style = \"text-align: left;\">Is your anonymity protected if you choose to take advantage of mental health or substance abuse treatment resources provided by your employer?</td><td style = \"font-style: italic; text-align: left;\"></td><td style = \"text-align: left;\">I don&apos;t know</td><td style = \"font-style: italic; text-align: left;\"></td><td style = \"text-align: left;\">Yes</td><td style = \"text-align: right;\">287</td><td style = \"text-align: left;\">Union{Missing, String15}</td></tr><tr><td class = \"rowNumber\" style = \"font-weight: bold; text-align: right;\">10</td><td style = \"text-align: left;\">If a mental health issue prompted you to request a medical leave from work, asking for that leave would be:</td><td style = \"font-style: italic; text-align: left;\"></td><td style = \"text-align: left;\">I don&apos;t know</td><td style = \"font-style: italic; text-align: left;\"></td><td style = \"text-align: left;\">Very easy</td><td style = \"text-align: right;\">287</td><td style = \"text-align: left;\">Union{Missing, String31}</td></tr><tr><td class = \"rowNumber\" style = \"font-weight: bold; text-align: right;\">11</td><td style = \"text-align: left;\">Do you think that discussing a mental health disorder with your employer would have negative consequences?</td><td style = \"font-style: italic; text-align: left;\"></td><td style = \"text-align: left;\">Maybe</td><td style = \"font-style: italic; text-align: left;\"></td><td style = \"text-align: left;\">Yes</td><td style = \"text-align: right;\">287</td><td style = \"text-align: left;\">Union{Missing, String7}</td></tr><tr><td class = \"rowNumber\" style = \"font-weight: bold; text-align: right;\">12</td><td style = \"text-align: left;\">Do you think that discussing a physical health issue with your employer would have negative consequences?</td><td style = \"font-style: italic; text-align: left;\"></td><td style = \"text-align: left;\">Maybe</td><td style = \"font-style: italic; text-align: left;\"></td><td style = \"text-align: left;\">Yes</td><td style = \"text-align: right;\">287</td><td style = \"text-align: left;\">Union{Missing, String7}</td></tr><tr><td class = \"rowNumber\" style = \"font-weight: bold; text-align: right;\">13</td><td style = \"text-align: left;\">Would you feel comfortable discussing a mental health disorder with your coworkers?</td><td style = \"font-style: italic; text-align: left;\"></td><td style = \"text-align: left;\">Maybe</td><td style = \"font-style: italic; text-align: left;\"></td><td style = \"text-align: left;\">Yes</td><td style = \"text-align: right;\">287</td><td style = \"text-align: left;\">Union{Missing, String7}</td></tr><tr><td style = \"text-align: right;\">&vellip;</td><td style = \"text-align: right;\">&vellip;</td><td style = \"text-align: right;\">&vellip;</td><td style = \"text-align: right;\">&vellip;</td><td style = \"text-align: right;\">&vellip;</td><td style = \"text-align: right;\">&vellip;</td><td style = \"text-align: right;\">&vellip;</td><td style = \"text-align: right;\">&vellip;</td></tr><tr><td class = \"rowNumber\" style = \"font-weight: bold; text-align: right;\">52</td><td style = \"text-align: left;\">If so, what condition(s) were you diagnosed with?</td><td style = \"font-style: italic; text-align: left;\"></td><td style = \"text-align: left;\">ADD (w/o Hyperactivity)</td><td style = \"font-style: italic; text-align: left;\"></td><td style = \"text-align: left;\">autism spectrum disorder</td><td style = \"text-align: right;\">722</td><td style = \"text-align: left;\">Union{Missing, String}</td></tr><tr><td class = \"rowNumber\" style = \"font-weight: bold; text-align: right;\">53</td><td style = \"text-align: left;\">Have you ever sought treatment for a mental health issue from a mental health professional?</td><td style = \"font-style: italic; text-align: left;\">0.585485</td><td style = \"text-align: left;\">0</td><td style = \"font-style: italic; text-align: left;\">1.0</td><td style = \"text-align: left;\">1</td><td style = \"text-align: right;\">0</td><td style = \"text-align: left;\">Int64</td></tr><tr><td class = \"rowNumber\" style = \"font-weight: bold; text-align: right;\">54</td><td style = \"text-align: left;\">If you have a mental health issue, do you feel that it interferes with your work when being treated effectively?</td><td style = \"font-style: italic; text-align: left;\"></td><td style = \"text-align: left;\">Never</td><td style = \"font-style: italic; text-align: left;\"></td><td style = \"text-align: left;\">Sometimes</td><td style = \"text-align: right;\">0</td><td style = \"text-align: left;\">String31</td></tr><tr><td class = \"rowNumber\" style = \"font-weight: bold; text-align: right;\">55</td><td style = \"text-align: left;\">If you have a mental health issue, do you feel that it interferes with your work when NOT being treated effectively?</td><td style = \"text-align: left;\"></td><td style = \"text-align: left;\">Never</td><td style = \"text-align: left;\"></td><td style = \"text-align: left;\">Sometimes</td><td style = \"text-align: right;\">0</td><td style = \"text-align: left;\">String31</td></tr><tr><td class = \"rowNumber\" style = \"font-weight: bold; text-align: right;\">56</td><td style = \"text-align: left;\">What is your age?</td><td style = \"font-style: italic; text-align: left;\">34.2861</td><td style = \"text-align: left;\">3</td><td style = \"font-style: italic; text-align: left;\">33.0</td><td style = \"text-align: left;\">323</td><td style = \"text-align: right;\">0</td><td style = \"text-align: left;\">Int64</td></tr><tr><td class = \"rowNumber\" style = \"font-weight: bold; text-align: right;\">57</td><td style = \"text-align: left;\">What is your gender?</td><td style = \"font-style: italic; text-align: left;\"></td><td style = \"text-align: left;\"> Female</td><td style = \"font-style: italic; text-align: left;\"></td><td style = \"text-align: left;\">woman</td><td style = \"text-align: right;\">1</td><td style = \"text-align: left;\">Union{Missing, String}</td></tr><tr><td class = \"rowNumber\" style = \"font-weight: bold; text-align: right;\">58</td><td style = \"text-align: left;\">What country do you live in?</td><td style = \"font-style: italic; text-align: left;\"></td><td style = \"text-align: left;\">Afghanistan</td><td style = \"font-style: italic; text-align: left;\"></td><td style = \"text-align: left;\">Vietnam</td><td style = \"text-align: right;\">0</td><td style = \"text-align: left;\">String31</td></tr><tr><td class = \"rowNumber\" style = \"font-weight: bold; text-align: right;\">59</td><td style = \"text-align: left;\">What US state or territory do you live in?</td><td style = \"font-style: italic; text-align: left;\"></td><td style = \"text-align: left;\">Alabama</td><td style = \"font-style: italic; text-align: left;\"></td><td style = \"text-align: left;\">Wisconsin</td><td style = \"text-align: right;\">593</td><td style = \"text-align: left;\">Union{Missing, String31}</td></tr><tr><td class = \"rowNumber\" style = \"font-weight: bold; text-align: right;\">60</td><td style = \"text-align: left;\">What country do you work in?</td><td style = \"font-style: italic; text-align: left;\"></td><td style = \"text-align: left;\">Afghanistan</td><td style = \"font-style: italic; text-align: left;\"></td><td style = \"text-align: left;\">Vietnam</td><td style = \"text-align: right;\">0</td><td style = \"text-align: left;\">String31</td></tr><tr><td class = \"rowNumber\" style = \"font-weight: bold; text-align: right;\">61</td><td style = \"text-align: left;\">What US state or territory do you work in?</td><td style = \"font-style: italic; text-align: left;\"></td><td style = \"text-align: left;\">Alabama</td><td style = \"font-style: italic; text-align: left;\"></td><td style = \"text-align: left;\">Wisconsin</td><td style = \"text-align: right;\">582</td><td style = \"text-align: left;\">Union{Missing, String31}</td></tr><tr><td class = \"rowNumber\" style = \"font-weight: bold; text-align: right;\">62</td><td style = \"text-align: left;\">Which of the following best describes your work position?</td><td style = \"font-style: italic; text-align: left;\"></td><td style = \"text-align: left;\">Back-end Developer</td><td style = \"font-style: italic; text-align: left;\"></td><td style = \"text-align: left;\">Support|Sales|Designer</td><td style = \"text-align: right;\">0</td><td style = \"text-align: left;\">String</td></tr><tr><td class = \"rowNumber\" style = \"font-weight: bold; text-align: right;\">63</td><td style = \"text-align: left;\">Do you work remotely?</td><td style = \"text-align: left;\"></td><td style = \"text-align: left;\">Always</td><td style = \"text-align: left;\"></td><td style = \"text-align: left;\">Sometimes</td><td style = \"text-align: right;\">0</td><td style = \"text-align: left;\">String15</td></tr></tbody></table></div>"
      ],
      "text/latex": [
       "\\begin{tabular}{r|cc}\n",
       "\t& variable & \\\\\n",
       "\t\\hline\n",
       "\t& Symbol & \\\\\n",
       "\t\\hline\n",
       "\t1 & Are you self-employed? & $\\dots$ \\\\\n",
       "\t2 & How many employees does your company or organization have? & $\\dots$ \\\\\n",
       "\t3 & Is your employer primarily a tech company/organization? & $\\dots$ \\\\\n",
       "\t4 & Is your primary role within your company related to tech/IT? & $\\dots$ \\\\\n",
       "\t5 & Does your employer provide mental health benefits as part of healthcare coverage? & $\\dots$ \\\\\n",
       "\t6 & Do you know the options for mental health care available under your employer-provided coverage? & $\\dots$ \\\\\n",
       "\t7 & Has your employer ever formally discussed mental health (for example, as part of a wellness campaign or other official communication)? & $\\dots$ \\\\\n",
       "\t8 & Does your employer offer resources to learn more about mental health concerns and options for seeking help? & $\\dots$ \\\\\n",
       "\t9 & Is your anonymity protected if you choose to take advantage of mental health or substance abuse treatment resources provided by your employer? & $\\dots$ \\\\\n",
       "\t10 & If a mental health issue prompted you to request a medical leave from work, asking for that leave would be: & $\\dots$ \\\\\n",
       "\t11 & Do you think that discussing a mental health disorder with your employer would have negative consequences? & $\\dots$ \\\\\n",
       "\t12 & Do you think that discussing a physical health issue with your employer would have negative consequences? & $\\dots$ \\\\\n",
       "\t13 & Would you feel comfortable discussing a mental health disorder with your coworkers? & $\\dots$ \\\\\n",
       "\t14 & Would you feel comfortable discussing a mental health disorder with your direct supervisor(s)? & $\\dots$ \\\\\n",
       "\t15 & Do you feel that your employer takes mental health as seriously as physical health? & $\\dots$ \\\\\n",
       "\t16 & Have you heard of or observed negative consequences for co-workers who have been open about mental health issues in your workplace? & $\\dots$ \\\\\n",
       "\t17 & Do you have medical coverage (private insurance or state-provided) which includes treatment of  mental health issues? & $\\dots$ \\\\\n",
       "\t18 & Do you know local or online resources to seek help for a mental health disorder? & $\\dots$ \\\\\n",
       "\t19 & If you have been diagnosed or treated for a mental health disorder, do you ever reveal this to clients or business contacts? & $\\dots$ \\\\\n",
       "\t20 & If you have revealed a mental health issue to a client or business contact, do you believe this has impacted you negatively? & $\\dots$ \\\\\n",
       "\t21 & If you have been diagnosed or treated for a mental health disorder, do you ever reveal this to coworkers or employees? & $\\dots$ \\\\\n",
       "\t22 & If you have revealed a mental health issue to a coworker or employee, do you believe this has impacted you negatively? & $\\dots$ \\\\\n",
       "\t23 & Do you believe your productivity is ever affected by a mental health issue? & $\\dots$ \\\\\n",
       "\t24 & If yes, what percentage of your work time (time performing primary or secondary job functions) is affected by a mental health issue? & $\\dots$ \\\\\n",
       "\t25 & Do you have previous employers? & $\\dots$ \\\\\n",
       "\t26 & Have your previous employers provided mental health benefits? & $\\dots$ \\\\\n",
       "\t27 & Were you aware of the options for mental health care provided by your previous employers? & $\\dots$ \\\\\n",
       "\t28 & Did your previous employers ever formally discuss mental health (as part of a wellness campaign or other official communication)? & $\\dots$ \\\\\n",
       "\t29 & Did your previous employers provide resources to learn more about mental health issues and how to seek help? & $\\dots$ \\\\\n",
       "\t30 & Was your anonymity protected if you chose to take advantage of mental health or substance abuse treatment resources with previous employers? & $\\dots$ \\\\\n",
       "\t$\\dots$ & $\\dots$ &  \\\\\n",
       "\\end{tabular}\n"
      ],
      "text/plain": [
       "\u001b[1m63×7 DataFrame\u001b[0m\n",
       "\u001b[1m Row \u001b[0m│\u001b[1m variable                          \u001b[0m\u001b[1m mean     \u001b[0m\u001b[1m min                     \u001b[0m\u001b[1m m\u001b[0m ⋯\n",
       "     │\u001b[90m Symbol                            \u001b[0m\u001b[90m Union…   \u001b[0m\u001b[90m Any                     \u001b[0m\u001b[90m U\u001b[0m ⋯\n",
       "─────┼──────────────────────────────────────────────────────────────────────────\n",
       "   1 │ Are you self-employed?             0.200279  0                        0 ⋯\n",
       "   2 │ How many employees does your com… \u001b[90m          \u001b[0m 1-5                     \u001b[90m  \u001b[0m\n",
       "   3 │ Is your employer primarily a tec…  0.770506  0                        1\n",
       "   4 │ Is your primary role within your…  0.942966  0                        1\n",
       "   5 │ Does your employer provide menta… \u001b[90m          \u001b[0m I don't know            \u001b[90m  \u001b[0m ⋯\n",
       "   6 │ Do you know the options for ment… \u001b[90m          \u001b[0m I am not sure           \u001b[90m  \u001b[0m\n",
       "   7 │ Has your employer ever formally … \u001b[90m          \u001b[0m I don't know            \u001b[90m  \u001b[0m\n",
       "   8 │ Does your employer offer resourc… \u001b[90m          \u001b[0m I don't know            \u001b[90m  \u001b[0m\n",
       "   9 │ Is your anonymity protected if y… \u001b[90m          \u001b[0m I don't know            \u001b[90m  \u001b[0m ⋯\n",
       "  10 │ If a mental health issue prompte… \u001b[90m          \u001b[0m I don't know            \u001b[90m  \u001b[0m\n",
       "  11 │ Do you think that discussing a m… \u001b[90m          \u001b[0m Maybe                   \u001b[90m  \u001b[0m\n",
       "  ⋮  │                 ⋮                     ⋮                 ⋮               ⋱\n",
       "  54 │ If you have a mental health issu… \u001b[90m          \u001b[0m Never                   \u001b[90m  \u001b[0m\n",
       "  55 │ If you have a mental health issu… \u001b[90m          \u001b[0m Never                   \u001b[90m  \u001b[0m ⋯\n",
       "  56 │ What is your age?                  34.2861   3                        3\n",
       "  57 │ What is your gender?              \u001b[90m          \u001b[0m  Female                 \u001b[90m  \u001b[0m\n",
       "  58 │ What country do you live in?      \u001b[90m          \u001b[0m Afghanistan             \u001b[90m  \u001b[0m\n",
       "  59 │ What US state or territory do yo… \u001b[90m          \u001b[0m Alabama                 \u001b[90m  \u001b[0m ⋯\n",
       "  60 │ What country do you work in?      \u001b[90m          \u001b[0m Afghanistan             \u001b[90m  \u001b[0m\n",
       "  61 │ What US state or territory do yo… \u001b[90m          \u001b[0m Alabama                 \u001b[90m  \u001b[0m\n",
       "  62 │ Which of the following best desc… \u001b[90m          \u001b[0m Back-end Developer      \u001b[90m  \u001b[0m\n",
       "  63 │ Do you work remotely?             \u001b[90m          \u001b[0m Always                  \u001b[90m  \u001b[0m ⋯\n",
       "\u001b[36m                                                   4 columns and 42 rows omitted\u001b[0m"
      ]
     },
     "execution_count": 9,
     "metadata": {},
     "output_type": "execute_result"
    }
   ],
   "source": [
    "describe( df_2016 )"
   ]
  },
  {
   "cell_type": "code",
   "execution_count": 10,
   "id": "8e0178aa-7776-4e2a-afcd-892fb2b24dc4",
   "metadata": {},
   "outputs": [
    {
     "data": {
      "text/plain": [
       "(1259, 27)"
      ]
     },
     "execution_count": 10,
     "metadata": {},
     "output_type": "execute_result"
    }
   ],
   "source": [
    "size( df_2014 )"
   ]
  },
  {
   "cell_type": "code",
   "execution_count": 11,
   "id": "301383c4-1061-4e17-b69e-bfec25fcea20",
   "metadata": {},
   "outputs": [
    {
     "data": {
      "text/plain": [
       "(1433, 63)"
      ]
     },
     "execution_count": 11,
     "metadata": {},
     "output_type": "execute_result"
    }
   ],
   "source": [
    "size( df_2016 )"
   ]
  },
  {
   "cell_type": "code",
   "execution_count": null,
   "id": "41df612d-45cd-4d9e-9679-c6ea6cb19d16",
   "metadata": {},
   "outputs": [],
   "source": [
    "completecases(df_2014"
   ]
  },
  {
   "cell_type": "code",
   "execution_count": 12,
   "id": "927555fb-a486-4bd8-9f7f-6547c24a36d4",
   "metadata": {},
   "outputs": [],
   "source": [
    "df_2014 = df_2014[ completecases(df_2014) , : ];"
   ]
  },
  {
   "cell_type": "code",
   "execution_count": 16,
   "id": "11ee3ae6-6b2a-419c-af24-a1bee5ff333f",
   "metadata": {},
   "outputs": [
    {
     "data": {
      "text/plain": [
       "(1259, 27)"
      ]
     },
     "execution_count": 16,
     "metadata": {},
     "output_type": "execute_result"
    }
   ],
   "source": [
    "size( df_2014 )"
   ]
  },
  {
   "cell_type": "code",
   "execution_count": 14,
   "id": "2db7b877-fa8a-4f26-8bc1-cf32b783d9ad",
   "metadata": {},
   "outputs": [],
   "source": [
    "df_2016 = df_2016[ completecases(df_2016) , : ];"
   ]
  },
  {
   "cell_type": "code",
   "execution_count": 15,
   "id": "5a2071ff-c1c3-4b31-9ac0-ff9e3e35d2fb",
   "metadata": {},
   "outputs": [
    {
     "data": {
      "text/plain": [
       "(0, 63)"
      ]
     },
     "execution_count": 15,
     "metadata": {},
     "output_type": "execute_result"
    }
   ],
   "source": [
    "size( df_2016 )"
   ]
  },
  {
   "cell_type": "code",
   "execution_count": null,
   "id": "4754b2df-d1bf-4397-8e60-edfe68caa3da",
   "metadata": {},
   "outputs": [],
   "source": []
  },
  {
   "cell_type": "code",
   "execution_count": 17,
   "id": "fe71b4e8-ca06-45eb-8fa9-92564575654a",
   "metadata": {},
   "outputs": [
    {
     "data": {
      "text/plain": [
       "27-element Vector{String}:\n",
       " \"Timestamp\"\n",
       " \"Age\"\n",
       " \"Gender\"\n",
       " \"Country\"\n",
       " \"state\"\n",
       " \"self_employed\"\n",
       " \"family_history\"\n",
       " \"treatment\"\n",
       " \"work_interfere\"\n",
       " \"no_employees\"\n",
       " \"remote_work\"\n",
       " \"tech_company\"\n",
       " \"benefits\"\n",
       " ⋮\n",
       " \"seek_help\"\n",
       " \"anonymity\"\n",
       " \"leave\"\n",
       " \"mental_health_consequence\"\n",
       " \"phys_health_consequence\"\n",
       " \"coworkers\"\n",
       " \"supervisor\"\n",
       " \"mental_health_interview\"\n",
       " \"phys_health_interview\"\n",
       " \"mental_vs_physical\"\n",
       " \"obs_consequence\"\n",
       " \"comments\""
      ]
     },
     "execution_count": 17,
     "metadata": {},
     "output_type": "execute_result"
    }
   ],
   "source": [
    "names( df_2014 )"
   ]
  },
  {
   "cell_type": "code",
   "execution_count": 18,
   "id": "bb60f8fb-535a-4dbf-acc5-50638a151ca9",
   "metadata": {},
   "outputs": [],
   "source": [
    "using Plots"
   ]
  },
  {
   "cell_type": "code",
   "execution_count": 26,
   "id": "8d36c458-0d6b-4aed-bf99-f7667c09308f",
   "metadata": {},
   "outputs": [
    {
     "data": {
      "image/svg+xml": [
       "<?xml version=\"1.0\" encoding=\"utf-8\"?>\n",
       "<svg xmlns=\"http://www.w3.org/2000/svg\" xmlns:xlink=\"http://www.w3.org/1999/xlink\" width=\"600\" height=\"400\" viewBox=\"0 0 2400 1600\">\n",
       "<defs>\n",
       "  <clipPath id=\"clip960\">\n",
       "    <rect x=\"0\" y=\"0\" width=\"2400\" height=\"1600\"/>\n",
       "  </clipPath>\n",
       "</defs>\n",
       "<path clip-path=\"url(#clip960)\" d=\"M0 1600 L2400 1600 L2400 0 L0 0  Z\" fill=\"#ffffff\" fill-rule=\"evenodd\" fill-opacity=\"1\"/>\n",
       "<defs>\n",
       "  <clipPath id=\"clip961\">\n",
       "    <rect x=\"480\" y=\"0\" width=\"1681\" height=\"1600\"/>\n",
       "  </clipPath>\n",
       "</defs>\n",
       "<path clip-path=\"url(#clip960)\" d=\"M169.121 1486.45 L2352.76 1486.45 L2352.76 123.472 L169.121 123.472  Z\" fill=\"#ffffff\" fill-rule=\"evenodd\" fill-opacity=\"1\"/>\n",
       "<defs>\n",
       "  <clipPath id=\"clip962\">\n",
       "    <rect x=\"169\" y=\"123\" width=\"2185\" height=\"1364\"/>\n",
       "  </clipPath>\n",
       "</defs>\n",
       "<polyline clip-path=\"url(#clip962)\" style=\"stroke:#000000; stroke-linecap:round; stroke-linejoin:round; stroke-width:2; stroke-opacity:0.1; fill:none\" points=\"178.172,1486.45 178.172,123.472 \"/>\n",
       "<polyline clip-path=\"url(#clip962)\" style=\"stroke:#000000; stroke-linecap:round; stroke-linejoin:round; stroke-width:2; stroke-opacity:0.1; fill:none\" points=\"733.437,1486.45 733.437,123.472 \"/>\n",
       "<polyline clip-path=\"url(#clip962)\" style=\"stroke:#000000; stroke-linecap:round; stroke-linejoin:round; stroke-width:2; stroke-opacity:0.1; fill:none\" points=\"1288.7,1486.45 1288.7,123.472 \"/>\n",
       "<polyline clip-path=\"url(#clip962)\" style=\"stroke:#000000; stroke-linecap:round; stroke-linejoin:round; stroke-width:2; stroke-opacity:0.1; fill:none\" points=\"1843.97,1486.45 1843.97,123.472 \"/>\n",
       "<polyline clip-path=\"url(#clip960)\" style=\"stroke:#000000; stroke-linecap:round; stroke-linejoin:round; stroke-width:4; stroke-opacity:1; fill:none\" points=\"169.121,1486.45 2352.76,1486.45 \"/>\n",
       "<polyline clip-path=\"url(#clip960)\" style=\"stroke:#000000; stroke-linecap:round; stroke-linejoin:round; stroke-width:4; stroke-opacity:1; fill:none\" points=\"178.172,1486.45 178.172,1467.55 \"/>\n",
       "<polyline clip-path=\"url(#clip960)\" style=\"stroke:#000000; stroke-linecap:round; stroke-linejoin:round; stroke-width:4; stroke-opacity:1; fill:none\" points=\"733.437,1486.45 733.437,1467.55 \"/>\n",
       "<polyline clip-path=\"url(#clip960)\" style=\"stroke:#000000; stroke-linecap:round; stroke-linejoin:round; stroke-width:4; stroke-opacity:1; fill:none\" points=\"1288.7,1486.45 1288.7,1467.55 \"/>\n",
       "<polyline clip-path=\"url(#clip960)\" style=\"stroke:#000000; stroke-linecap:round; stroke-linejoin:round; stroke-width:4; stroke-opacity:1; fill:none\" points=\"1843.97,1486.45 1843.97,1467.55 \"/>\n",
       "<path clip-path=\"url(#clip960)\" d=\"M178.172 1517.37 Q174.561 1517.37 172.732 1520.93 Q170.927 1524.47 170.927 1531.6 Q170.927 1538.71 172.732 1542.27 Q174.561 1545.82 178.172 1545.82 Q181.806 1545.82 183.612 1542.27 Q185.441 1538.71 185.441 1531.6 Q185.441 1524.47 183.612 1520.93 Q181.806 1517.37 178.172 1517.37 M178.172 1513.66 Q183.982 1513.66 187.038 1518.27 Q190.117 1522.85 190.117 1531.6 Q190.117 1540.33 187.038 1544.94 Q183.982 1549.52 178.172 1549.52 Q172.362 1549.52 169.283 1544.94 Q166.228 1540.33 166.228 1531.6 Q166.228 1522.85 169.283 1518.27 Q172.362 1513.66 178.172 1513.66 Z\" fill=\"#000000\" fill-rule=\"nonzero\" fill-opacity=\"1\" /><path clip-path=\"url(#clip960)\" d=\"M712.21 1544.91 L728.53 1544.91 L728.53 1548.85 L706.585 1548.85 L706.585 1544.91 Q709.247 1542.16 713.831 1537.53 Q718.437 1532.88 719.618 1531.53 Q721.863 1529.01 722.743 1527.27 Q723.645 1525.51 723.645 1523.82 Q723.645 1521.07 721.701 1519.33 Q719.78 1517.6 716.678 1517.6 Q714.479 1517.6 712.025 1518.36 Q709.595 1519.13 706.817 1520.68 L706.817 1515.95 Q709.641 1514.82 712.095 1514.24 Q714.548 1513.66 716.585 1513.66 Q721.956 1513.66 725.15 1516.35 Q728.344 1519.03 728.344 1523.52 Q728.344 1525.65 727.534 1527.57 Q726.747 1529.47 724.641 1532.07 Q724.062 1532.74 720.96 1535.95 Q717.858 1539.15 712.21 1544.91 Z\" fill=\"#000000\" fill-rule=\"nonzero\" fill-opacity=\"1\" /><path clip-path=\"url(#clip960)\" d=\"M748.344 1517.37 Q744.733 1517.37 742.905 1520.93 Q741.099 1524.47 741.099 1531.6 Q741.099 1538.71 742.905 1542.27 Q744.733 1545.82 748.344 1545.82 Q751.979 1545.82 753.784 1542.27 Q755.613 1538.71 755.613 1531.6 Q755.613 1524.47 753.784 1520.93 Q751.979 1517.37 748.344 1517.37 M748.344 1513.66 Q754.154 1513.66 757.21 1518.27 Q760.289 1522.85 760.289 1531.6 Q760.289 1540.33 757.21 1544.94 Q754.154 1549.52 748.344 1549.52 Q742.534 1549.52 739.455 1544.94 Q736.4 1540.33 736.4 1531.6 Q736.4 1522.85 739.455 1518.27 Q742.534 1513.66 748.344 1513.66 Z\" fill=\"#000000\" fill-rule=\"nonzero\" fill-opacity=\"1\" /><path clip-path=\"url(#clip960)\" d=\"M1276.87 1518.36 L1265.07 1536.81 L1276.87 1536.81 L1276.87 1518.36 M1275.65 1514.29 L1281.53 1514.29 L1281.53 1536.81 L1286.46 1536.81 L1286.46 1540.7 L1281.53 1540.7 L1281.53 1548.85 L1276.87 1548.85 L1276.87 1540.7 L1261.27 1540.7 L1261.27 1536.19 L1275.65 1514.29 Z\" fill=\"#000000\" fill-rule=\"nonzero\" fill-opacity=\"1\" /><path clip-path=\"url(#clip960)\" d=\"M1304.19 1517.37 Q1300.58 1517.37 1298.75 1520.93 Q1296.94 1524.47 1296.94 1531.6 Q1296.94 1538.71 1298.75 1542.27 Q1300.58 1545.82 1304.19 1545.82 Q1307.82 1545.82 1309.63 1542.27 Q1311.46 1538.71 1311.46 1531.6 Q1311.46 1524.47 1309.63 1520.93 Q1307.82 1517.37 1304.19 1517.37 M1304.19 1513.66 Q1310 1513.66 1313.05 1518.27 Q1316.13 1522.85 1316.13 1531.6 Q1316.13 1540.33 1313.05 1544.94 Q1310 1549.52 1304.19 1549.52 Q1298.38 1549.52 1295.3 1544.94 Q1292.24 1540.33 1292.24 1531.6 Q1292.24 1522.85 1295.3 1518.27 Q1298.38 1513.66 1304.19 1513.66 Z\" fill=\"#000000\" fill-rule=\"nonzero\" fill-opacity=\"1\" /><path clip-path=\"url(#clip960)\" d=\"M1829.37 1529.7 Q1826.22 1529.7 1824.37 1531.86 Q1822.54 1534.01 1822.54 1537.76 Q1822.54 1541.49 1824.37 1543.66 Q1826.22 1545.82 1829.37 1545.82 Q1832.52 1545.82 1834.35 1543.66 Q1836.2 1541.49 1836.2 1537.76 Q1836.2 1534.01 1834.35 1531.86 Q1832.52 1529.7 1829.37 1529.7 M1838.65 1515.05 L1838.65 1519.31 Q1836.89 1518.48 1835.09 1518.04 Q1833.31 1517.6 1831.55 1517.6 Q1826.92 1517.6 1824.46 1520.72 Q1822.03 1523.85 1821.69 1530.17 Q1823.05 1528.15 1825.11 1527.09 Q1827.17 1526 1829.65 1526 Q1834.86 1526 1837.87 1529.17 Q1840.9 1532.32 1840.9 1537.76 Q1840.9 1543.08 1837.75 1546.3 Q1834.6 1549.52 1829.37 1549.52 Q1823.38 1549.52 1820.21 1544.94 Q1817.03 1540.33 1817.03 1531.6 Q1817.03 1523.41 1820.92 1518.55 Q1824.81 1513.66 1831.36 1513.66 Q1833.12 1513.66 1834.9 1514.01 Q1836.71 1514.36 1838.65 1515.05 Z\" fill=\"#000000\" fill-rule=\"nonzero\" fill-opacity=\"1\" /><path clip-path=\"url(#clip960)\" d=\"M1858.96 1517.37 Q1855.34 1517.37 1853.52 1520.93 Q1851.71 1524.47 1851.71 1531.6 Q1851.71 1538.71 1853.52 1542.27 Q1855.34 1545.82 1858.96 1545.82 Q1862.59 1545.82 1864.39 1542.27 Q1866.22 1538.71 1866.22 1531.6 Q1866.22 1524.47 1864.39 1520.93 Q1862.59 1517.37 1858.96 1517.37 M1858.96 1513.66 Q1864.77 1513.66 1867.82 1518.27 Q1870.9 1522.85 1870.9 1531.6 Q1870.9 1540.33 1867.82 1544.94 Q1864.77 1549.52 1858.96 1549.52 Q1853.14 1549.52 1850.07 1544.94 Q1847.01 1540.33 1847.01 1531.6 Q1847.01 1522.85 1850.07 1518.27 Q1853.14 1513.66 1858.96 1513.66 Z\" fill=\"#000000\" fill-rule=\"nonzero\" fill-opacity=\"1\" /><polyline clip-path=\"url(#clip962)\" style=\"stroke:#000000; stroke-linecap:round; stroke-linejoin:round; stroke-width:2; stroke-opacity:0.1; fill:none\" points=\"169.121,1447.87 2352.76,1447.87 \"/>\n",
       "<polyline clip-path=\"url(#clip962)\" style=\"stroke:#000000; stroke-linecap:round; stroke-linejoin:round; stroke-width:2; stroke-opacity:0.1; fill:none\" points=\"169.121,1027.67 2352.76,1027.67 \"/>\n",
       "<polyline clip-path=\"url(#clip962)\" style=\"stroke:#000000; stroke-linecap:round; stroke-linejoin:round; stroke-width:2; stroke-opacity:0.1; fill:none\" points=\"169.121,607.464 2352.76,607.464 \"/>\n",
       "<polyline clip-path=\"url(#clip962)\" style=\"stroke:#000000; stroke-linecap:round; stroke-linejoin:round; stroke-width:2; stroke-opacity:0.1; fill:none\" points=\"169.121,187.259 2352.76,187.259 \"/>\n",
       "<polyline clip-path=\"url(#clip960)\" style=\"stroke:#000000; stroke-linecap:round; stroke-linejoin:round; stroke-width:4; stroke-opacity:1; fill:none\" points=\"169.121,1486.45 169.121,123.472 \"/>\n",
       "<polyline clip-path=\"url(#clip960)\" style=\"stroke:#000000; stroke-linecap:round; stroke-linejoin:round; stroke-width:4; stroke-opacity:1; fill:none\" points=\"169.121,1447.87 188.019,1447.87 \"/>\n",
       "<polyline clip-path=\"url(#clip960)\" style=\"stroke:#000000; stroke-linecap:round; stroke-linejoin:round; stroke-width:4; stroke-opacity:1; fill:none\" points=\"169.121,1027.67 188.019,1027.67 \"/>\n",
       "<polyline clip-path=\"url(#clip960)\" style=\"stroke:#000000; stroke-linecap:round; stroke-linejoin:round; stroke-width:4; stroke-opacity:1; fill:none\" points=\"169.121,607.464 188.019,607.464 \"/>\n",
       "<polyline clip-path=\"url(#clip960)\" style=\"stroke:#000000; stroke-linecap:round; stroke-linejoin:round; stroke-width:4; stroke-opacity:1; fill:none\" points=\"169.121,187.259 188.019,187.259 \"/>\n",
       "<path clip-path=\"url(#clip960)\" d=\"M121.177 1433.67 Q117.566 1433.67 115.737 1437.24 Q113.932 1440.78 113.932 1447.91 Q113.932 1455.01 115.737 1458.58 Q117.566 1462.12 121.177 1462.12 Q124.811 1462.12 126.617 1458.58 Q128.445 1455.01 128.445 1447.91 Q128.445 1440.78 126.617 1437.24 Q124.811 1433.67 121.177 1433.67 M121.177 1429.97 Q126.987 1429.97 130.043 1434.57 Q133.121 1439.16 133.121 1447.91 Q133.121 1456.63 130.043 1461.24 Q126.987 1465.82 121.177 1465.82 Q115.367 1465.82 112.288 1461.24 Q109.233 1456.63 109.233 1447.91 Q109.233 1439.16 112.288 1434.57 Q115.367 1429.97 121.177 1429.97 Z\" fill=\"#000000\" fill-rule=\"nonzero\" fill-opacity=\"1\" /><path clip-path=\"url(#clip960)\" d=\"M81.0614 1010.39 L99.4178 1010.39 L99.4178 1014.32 L85.3438 1014.32 L85.3438 1022.8 Q86.3623 1022.45 87.3808 1022.29 Q88.3993 1022.1 89.4178 1022.1 Q95.2049 1022.1 98.5845 1025.27 Q101.964 1028.44 101.964 1033.86 Q101.964 1039.44 98.4919 1042.54 Q95.0197 1045.62 88.7003 1045.62 Q86.5243 1045.62 84.2558 1045.25 Q82.0105 1044.88 79.6031 1044.14 L79.6031 1039.44 Q81.6864 1040.57 83.9086 1041.13 Q86.1308 1041.68 88.6077 1041.68 Q92.6123 1041.68 94.9502 1039.58 Q97.2882 1037.47 97.2882 1033.86 Q97.2882 1030.25 94.9502 1028.14 Q92.6123 1026.04 88.6077 1026.04 Q86.7327 1026.04 84.8577 1026.45 Q83.0058 1026.87 81.0614 1027.75 L81.0614 1010.39 Z\" fill=\"#000000\" fill-rule=\"nonzero\" fill-opacity=\"1\" /><path clip-path=\"url(#clip960)\" d=\"M121.177 1013.47 Q117.566 1013.47 115.737 1017.03 Q113.932 1020.57 113.932 1027.7 Q113.932 1034.81 115.737 1038.37 Q117.566 1041.92 121.177 1041.92 Q124.811 1041.92 126.617 1038.37 Q128.445 1034.81 128.445 1027.7 Q128.445 1020.57 126.617 1017.03 Q124.811 1013.47 121.177 1013.47 M121.177 1009.76 Q126.987 1009.76 130.043 1014.37 Q133.121 1018.95 133.121 1027.7 Q133.121 1036.43 130.043 1041.04 Q126.987 1045.62 121.177 1045.62 Q115.367 1045.62 112.288 1041.04 Q109.233 1036.43 109.233 1027.7 Q109.233 1018.95 112.288 1014.37 Q115.367 1009.76 121.177 1009.76 Z\" fill=\"#000000\" fill-rule=\"nonzero\" fill-opacity=\"1\" /><path clip-path=\"url(#clip960)\" d=\"M51.6634 620.809 L59.3023 620.809 L59.3023 594.443 L50.9921 596.11 L50.9921 591.85 L59.256 590.184 L63.9319 590.184 L63.9319 620.809 L71.5707 620.809 L71.5707 624.744 L51.6634 624.744 L51.6634 620.809 Z\" fill=\"#000000\" fill-rule=\"nonzero\" fill-opacity=\"1\" /><path clip-path=\"url(#clip960)\" d=\"M91.0151 593.263 Q87.404 593.263 85.5753 596.827 Q83.7697 600.369 83.7697 607.499 Q83.7697 614.605 85.5753 618.17 Q87.404 621.711 91.0151 621.711 Q94.6493 621.711 96.4548 618.17 Q98.2835 614.605 98.2835 607.499 Q98.2835 600.369 96.4548 596.827 Q94.6493 593.263 91.0151 593.263 M91.0151 589.559 Q96.8252 589.559 99.8808 594.165 Q102.959 598.749 102.959 607.499 Q102.959 616.225 99.8808 620.832 Q96.8252 625.415 91.0151 625.415 Q85.2049 625.415 82.1262 620.832 Q79.0707 616.225 79.0707 607.499 Q79.0707 598.749 82.1262 594.165 Q85.2049 589.559 91.0151 589.559 Z\" fill=\"#000000\" fill-rule=\"nonzero\" fill-opacity=\"1\" /><path clip-path=\"url(#clip960)\" d=\"M121.177 593.263 Q117.566 593.263 115.737 596.827 Q113.932 600.369 113.932 607.499 Q113.932 614.605 115.737 618.17 Q117.566 621.711 121.177 621.711 Q124.811 621.711 126.617 618.17 Q128.445 614.605 128.445 607.499 Q128.445 600.369 126.617 596.827 Q124.811 593.263 121.177 593.263 M121.177 589.559 Q126.987 589.559 130.043 594.165 Q133.121 598.749 133.121 607.499 Q133.121 616.225 130.043 620.832 Q126.987 625.415 121.177 625.415 Q115.367 625.415 112.288 620.832 Q109.233 616.225 109.233 607.499 Q109.233 598.749 112.288 594.165 Q115.367 589.559 121.177 589.559 Z\" fill=\"#000000\" fill-rule=\"nonzero\" fill-opacity=\"1\" /><path clip-path=\"url(#clip960)\" d=\"M51.6634 200.604 L59.3023 200.604 L59.3023 174.238 L50.9921 175.905 L50.9921 171.646 L59.256 169.979 L63.9319 169.979 L63.9319 200.604 L71.5707 200.604 L71.5707 204.539 L51.6634 204.539 L51.6634 200.604 Z\" fill=\"#000000\" fill-rule=\"nonzero\" fill-opacity=\"1\" /><path clip-path=\"url(#clip960)\" d=\"M81.0614 169.979 L99.4178 169.979 L99.4178 173.914 L85.3438 173.914 L85.3438 182.387 Q86.3623 182.039 87.3808 181.877 Q88.3993 181.692 89.4178 181.692 Q95.2049 181.692 98.5845 184.863 Q101.964 188.035 101.964 193.451 Q101.964 199.03 98.4919 202.132 Q95.0197 205.21 88.7003 205.21 Q86.5243 205.21 84.2558 204.84 Q82.0105 204.47 79.6031 203.729 L79.6031 199.03 Q81.6864 200.164 83.9086 200.72 Q86.1308 201.275 88.6077 201.275 Q92.6123 201.275 94.9502 199.169 Q97.2882 197.062 97.2882 193.451 Q97.2882 189.84 94.9502 187.734 Q92.6123 185.627 88.6077 185.627 Q86.7327 185.627 84.8577 186.044 Q83.0058 186.461 81.0614 187.34 L81.0614 169.979 Z\" fill=\"#000000\" fill-rule=\"nonzero\" fill-opacity=\"1\" /><path clip-path=\"url(#clip960)\" d=\"M121.177 173.058 Q117.566 173.058 115.737 176.623 Q113.932 180.164 113.932 187.294 Q113.932 194.4 115.737 197.965 Q117.566 201.507 121.177 201.507 Q124.811 201.507 126.617 197.965 Q128.445 194.4 128.445 187.294 Q128.445 180.164 126.617 176.623 Q124.811 173.058 121.177 173.058 M121.177 169.354 Q126.987 169.354 130.043 173.961 Q133.121 178.544 133.121 187.294 Q133.121 196.021 130.043 200.627 Q126.987 205.21 121.177 205.21 Q115.367 205.21 112.288 200.627 Q109.233 196.021 109.233 187.294 Q109.233 178.544 112.288 173.961 Q115.367 169.354 121.177 169.354 Z\" fill=\"#000000\" fill-rule=\"nonzero\" fill-opacity=\"1\" /><path clip-path=\"url(#clip960)\" d=\"M1190.03 49.7694 Q1180.99 49.7694 1177.51 51.8354 Q1174.03 53.9013 1174.03 58.8839 Q1174.03 62.8538 1176.62 65.2034 Q1179.25 67.5124 1183.75 67.5124 Q1189.95 67.5124 1193.67 63.1374 Q1197.44 58.7219 1197.44 51.4303 L1197.44 49.7694 L1190.03 49.7694 M1204.89 46.6907 L1204.89 72.576 L1197.44 72.576 L1197.44 65.6895 Q1194.89 69.8214 1191.08 71.8063 Q1187.27 73.7508 1181.76 73.7508 Q1174.8 73.7508 1170.66 69.8619 Q1166.57 65.9325 1166.57 59.3701 Q1166.57 51.7138 1171.68 47.825 Q1176.82 43.9361 1186.99 43.9361 L1197.44 43.9361 L1197.44 43.2069 Q1197.44 38.0623 1194.04 35.2672 Q1190.68 32.4315 1184.56 32.4315 Q1180.67 32.4315 1176.98 33.3632 Q1173.3 34.295 1169.89 36.1584 L1169.89 29.2718 Q1173.99 27.692 1177.83 26.9223 Q1181.68 26.1121 1185.33 26.1121 Q1195.17 26.1121 1200.03 31.2163 Q1204.89 36.3204 1204.89 46.6907 Z\" fill=\"#000000\" fill-rule=\"nonzero\" fill-opacity=\"1\" /><path clip-path=\"url(#clip960)\" d=\"M1250.1 49.3643 Q1250.1 41.2625 1246.74 36.8065 Q1243.42 32.3505 1237.38 32.3505 Q1231.39 32.3505 1228.03 36.8065 Q1224.7 41.2625 1224.7 49.3643 Q1224.7 57.4256 1228.03 61.8816 Q1231.39 66.3376 1237.38 66.3376 Q1243.42 66.3376 1246.74 61.8816 Q1250.1 57.4256 1250.1 49.3643 M1257.56 66.9452 Q1257.56 78.5308 1252.41 84.1616 Q1247.27 89.8329 1236.65 89.8329 Q1232.72 89.8329 1229.24 89.2252 Q1225.76 88.6581 1222.48 87.4428 L1222.48 80.1917 Q1225.76 81.9741 1228.96 82.8248 Q1232.16 83.6755 1235.48 83.6755 Q1242.81 83.6755 1246.46 79.8271 Q1250.1 76.0193 1250.1 68.282 L1250.1 64.5957 Q1247.79 68.6061 1244.19 70.5911 Q1240.58 72.576 1235.56 72.576 Q1227.21 72.576 1222.11 66.2161 Q1217.01 59.8562 1217.01 49.3643 Q1217.01 38.832 1222.11 32.472 Q1227.21 26.1121 1235.56 26.1121 Q1240.58 26.1121 1244.19 28.0971 Q1247.79 30.082 1250.1 34.0924 L1250.1 27.2059 L1257.56 27.2059 L1257.56 66.9452 Z\" fill=\"#000000\" fill-rule=\"nonzero\" fill-opacity=\"1\" /><path clip-path=\"url(#clip960)\" d=\"M1311.72 48.0275 L1311.72 51.6733 L1277.45 51.6733 Q1277.93 59.3701 1282.06 63.421 Q1286.24 67.4314 1293.65 67.4314 Q1297.94 67.4314 1301.95 66.3781 Q1306 65.3249 1309.97 63.2184 L1309.97 70.267 Q1305.96 71.9684 1301.75 72.8596 Q1297.54 73.7508 1293.2 73.7508 Q1282.35 73.7508 1275.99 67.4314 Q1269.67 61.1119 1269.67 50.3365 Q1269.67 39.1965 1275.66 32.6746 Q1281.7 26.1121 1291.91 26.1121 Q1301.06 26.1121 1306.37 32.0264 Q1311.72 37.9003 1311.72 48.0275 M1304.26 45.84 Q1304.18 39.7232 1300.82 36.0774 Q1297.5 32.4315 1291.99 32.4315 Q1285.75 32.4315 1281.98 35.9558 Q1278.26 39.4801 1277.69 45.8805 L1304.26 45.84 Z\" fill=\"#000000\" fill-rule=\"nonzero\" fill-opacity=\"1\" /><path clip-path=\"url(#clip960)\" d=\"M1352.87 28.5427 L1352.87 35.5912 Q1349.71 33.9709 1346.31 33.1607 Q1342.91 32.3505 1339.26 32.3505 Q1333.71 32.3505 1330.92 34.0519 Q1328.16 35.7533 1328.16 39.156 Q1328.16 41.7486 1330.15 43.2475 Q1332.13 44.7058 1338.13 46.0426 L1340.68 46.6097 Q1348.62 48.3111 1351.94 51.4303 Q1355.3 54.509 1355.3 60.0587 Q1355.3 66.3781 1350.28 70.0644 Q1345.3 73.7508 1336.55 73.7508 Q1332.9 73.7508 1328.93 73.0216 Q1325 72.3329 1320.63 70.9151 L1320.63 63.2184 Q1324.76 65.3654 1328.77 66.4591 Q1332.78 67.5124 1336.71 67.5124 Q1341.98 67.5124 1344.81 65.73 Q1347.65 63.9071 1347.65 60.6258 Q1347.65 57.5877 1345.58 55.9673 Q1343.56 54.3469 1336.63 52.8481 L1334.04 52.2405 Q1327.11 50.7821 1324.03 47.7845 Q1320.95 44.7463 1320.95 39.4801 Q1320.95 33.0797 1325.49 29.5959 Q1330.03 26.1121 1338.37 26.1121 Q1342.5 26.1121 1346.15 26.7198 Q1349.8 27.3274 1352.87 28.5427 Z\" fill=\"#000000\" fill-rule=\"nonzero\" fill-opacity=\"1\" /><path clip-path=\"url(#clip962)\" d=\"M289.225 1439.47 L289.225 1447.87 L344.752 1447.87 L344.752 1439.47 L289.225 1439.47 L289.225 1439.47  Z\" fill=\"#009af9\" fill-rule=\"evenodd\" fill-opacity=\"1\"/>\n",
       "<polyline clip-path=\"url(#clip962)\" style=\"stroke:#000000; stroke-linecap:round; stroke-linejoin:round; stroke-width:4; stroke-opacity:1; fill:none\" points=\"289.225,1439.47 289.225,1447.87 344.752,1447.87 344.752,1439.47 289.225,1439.47 \"/>\n",
       "<path clip-path=\"url(#clip962)\" d=\"M344.752 1447.87 L344.752 1447.87 L400.278 1447.87 L400.278 1447.87 L344.752 1447.87 L344.752 1447.87  Z\" fill=\"#009af9\" fill-rule=\"evenodd\" fill-opacity=\"1\"/>\n",
       "<polyline clip-path=\"url(#clip962)\" style=\"stroke:#000000; stroke-linecap:round; stroke-linejoin:round; stroke-width:4; stroke-opacity:1; fill:none\" points=\"344.752,1447.87 344.752,1447.87 400.278,1447.87 344.752,1447.87 \"/>\n",
       "<path clip-path=\"url(#clip962)\" d=\"M400.278 1439.47 L400.278 1447.87 L455.805 1447.87 L455.805 1439.47 L400.278 1439.47 L400.278 1439.47  Z\" fill=\"#009af9\" fill-rule=\"evenodd\" fill-opacity=\"1\"/>\n",
       "<polyline clip-path=\"url(#clip962)\" style=\"stroke:#000000; stroke-linecap:round; stroke-linejoin:round; stroke-width:4; stroke-opacity:1; fill:none\" points=\"400.278,1439.47 400.278,1447.87 455.805,1447.87 455.805,1439.47 400.278,1439.47 \"/>\n",
       "<path clip-path=\"url(#clip962)\" d=\"M455.805 1439.47 L455.805 1447.87 L511.331 1447.87 L511.331 1439.47 L455.805 1439.47 L455.805 1439.47  Z\" fill=\"#009af9\" fill-rule=\"evenodd\" fill-opacity=\"1\"/>\n",
       "<polyline clip-path=\"url(#clip962)\" style=\"stroke:#000000; stroke-linecap:round; stroke-linejoin:round; stroke-width:4; stroke-opacity:1; fill:none\" points=\"455.805,1439.47 455.805,1447.87 511.331,1447.87 511.331,1439.47 455.805,1439.47 \"/>\n",
       "<path clip-path=\"url(#clip962)\" d=\"M511.331 1447.87 L511.331 1447.87 L566.858 1447.87 L566.858 1447.87 L511.331 1447.87 L511.331 1447.87  Z\" fill=\"#009af9\" fill-rule=\"evenodd\" fill-opacity=\"1\"/>\n",
       "<polyline clip-path=\"url(#clip962)\" style=\"stroke:#000000; stroke-linecap:round; stroke-linejoin:round; stroke-width:4; stroke-opacity:1; fill:none\" points=\"511.331,1447.87 511.331,1447.87 566.858,1447.87 511.331,1447.87 \"/>\n",
       "<path clip-path=\"url(#clip962)\" d=\"M566.858 1447.87 L566.858 1447.87 L622.384 1447.87 L622.384 1447.87 L566.858 1447.87 L566.858 1447.87  Z\" fill=\"#009af9\" fill-rule=\"evenodd\" fill-opacity=\"1\"/>\n",
       "<polyline clip-path=\"url(#clip962)\" style=\"stroke:#000000; stroke-linecap:round; stroke-linejoin:round; stroke-width:4; stroke-opacity:1; fill:none\" points=\"566.858,1447.87 566.858,1447.87 622.384,1447.87 566.858,1447.87 \"/>\n",
       "<path clip-path=\"url(#clip962)\" d=\"M622.384 1447.87 L622.384 1447.87 L677.911 1447.87 L677.911 1447.87 L622.384 1447.87 L622.384 1447.87  Z\" fill=\"#009af9\" fill-rule=\"evenodd\" fill-opacity=\"1\"/>\n",
       "<polyline clip-path=\"url(#clip962)\" style=\"stroke:#000000; stroke-linecap:round; stroke-linejoin:round; stroke-width:4; stroke-opacity:1; fill:none\" points=\"622.384,1447.87 622.384,1447.87 677.911,1447.87 622.384,1447.87 \"/>\n",
       "<path clip-path=\"url(#clip962)\" d=\"M677.911 1313.41 L677.911 1447.87 L733.437 1447.87 L733.437 1313.41 L677.911 1313.41 L677.911 1313.41  Z\" fill=\"#009af9\" fill-rule=\"evenodd\" fill-opacity=\"1\"/>\n",
       "<polyline clip-path=\"url(#clip962)\" style=\"stroke:#000000; stroke-linecap:round; stroke-linejoin:round; stroke-width:4; stroke-opacity:1; fill:none\" points=\"677.911,1313.41 677.911,1447.87 733.437,1447.87 733.437,1313.41 677.911,1313.41 \"/>\n",
       "<path clip-path=\"url(#clip962)\" d=\"M733.437 1262.98 L733.437 1447.87 L788.963 1447.87 L788.963 1262.98 L733.437 1262.98 L733.437 1262.98  Z\" fill=\"#009af9\" fill-rule=\"evenodd\" fill-opacity=\"1\"/>\n",
       "<polyline clip-path=\"url(#clip962)\" style=\"stroke:#000000; stroke-linecap:round; stroke-linejoin:round; stroke-width:4; stroke-opacity:1; fill:none\" points=\"733.437,1262.98 733.437,1447.87 788.963,1447.87 788.963,1262.98 733.437,1262.98 \"/>\n",
       "<path clip-path=\"url(#clip962)\" d=\"M788.963 842.778 L788.963 1447.87 L844.49 1447.87 L844.49 842.778 L788.963 842.778 L788.963 842.778  Z\" fill=\"#009af9\" fill-rule=\"evenodd\" fill-opacity=\"1\"/>\n",
       "<polyline clip-path=\"url(#clip962)\" style=\"stroke:#000000; stroke-linecap:round; stroke-linejoin:round; stroke-width:4; stroke-opacity:1; fill:none\" points=\"788.963,842.778 788.963,1447.87 844.49,1447.87 844.49,842.778 788.963,842.778 \"/>\n",
       "<path clip-path=\"url(#clip962)\" d=\"M844.49 548.635 L844.49 1447.87 L900.016 1447.87 L900.016 548.635 L844.49 548.635 L844.49 548.635  Z\" fill=\"#009af9\" fill-rule=\"evenodd\" fill-opacity=\"1\"/>\n",
       "<polyline clip-path=\"url(#clip962)\" style=\"stroke:#000000; stroke-linecap:round; stroke-linejoin:round; stroke-width:4; stroke-opacity:1; fill:none\" points=\"844.49,548.635 844.49,1447.87 900.016,1447.87 900.016,548.635 844.49,548.635 \"/>\n",
       "<path clip-path=\"url(#clip962)\" d=\"M900.016 220.876 L900.016 1447.87 L955.543 1447.87 L955.543 220.876 L900.016 220.876 L900.016 220.876  Z\" fill=\"#009af9\" fill-rule=\"evenodd\" fill-opacity=\"1\"/>\n",
       "<polyline clip-path=\"url(#clip962)\" style=\"stroke:#000000; stroke-linecap:round; stroke-linejoin:round; stroke-width:4; stroke-opacity:1; fill:none\" points=\"900.016,220.876 900.016,1447.87 955.543,1447.87 955.543,220.876 900.016,220.876 \"/>\n",
       "<path clip-path=\"url(#clip962)\" d=\"M955.543 162.047 L955.543 1447.87 L1011.07 1447.87 L1011.07 162.047 L955.543 162.047 L955.543 162.047  Z\" fill=\"#009af9\" fill-rule=\"evenodd\" fill-opacity=\"1\"/>\n",
       "<polyline clip-path=\"url(#clip962)\" style=\"stroke:#000000; stroke-linecap:round; stroke-linejoin:round; stroke-width:4; stroke-opacity:1; fill:none\" points=\"955.543,162.047 955.543,1447.87 1011.07,1447.87 1011.07,162.047 955.543,162.047 \"/>\n",
       "<path clip-path=\"url(#clip962)\" d=\"M1011.07 355.341 L1011.07 1447.87 L1066.6 1447.87 L1066.6 355.341 L1011.07 355.341 L1011.07 355.341  Z\" fill=\"#009af9\" fill-rule=\"evenodd\" fill-opacity=\"1\"/>\n",
       "<polyline clip-path=\"url(#clip962)\" style=\"stroke:#000000; stroke-linecap:round; stroke-linejoin:round; stroke-width:4; stroke-opacity:1; fill:none\" points=\"1011.07,355.341 1011.07,1447.87 1066.6,1447.87 1066.6,355.341 1011.07,355.341 \"/>\n",
       "<path clip-path=\"url(#clip962)\" d=\"M1066.6 170.451 L1066.6 1447.87 L1122.12 1447.87 L1122.12 170.451 L1066.6 170.451 L1066.6 170.451  Z\" fill=\"#009af9\" fill-rule=\"evenodd\" fill-opacity=\"1\"/>\n",
       "<polyline clip-path=\"url(#clip962)\" style=\"stroke:#000000; stroke-linecap:round; stroke-linejoin:round; stroke-width:4; stroke-opacity:1; fill:none\" points=\"1066.6,170.451 1066.6,1447.87 1122.12,1447.87 1122.12,170.451 1066.6,170.451 \"/>\n",
       "<path clip-path=\"url(#clip962)\" d=\"M1122.12 439.382 L1122.12 1447.87 L1177.65 1447.87 L1177.65 439.382 L1122.12 439.382 L1122.12 439.382  Z\" fill=\"#009af9\" fill-rule=\"evenodd\" fill-opacity=\"1\"/>\n",
       "<polyline clip-path=\"url(#clip962)\" style=\"stroke:#000000; stroke-linecap:round; stroke-linejoin:round; stroke-width:4; stroke-opacity:1; fill:none\" points=\"1122.12,439.382 1122.12,1447.87 1177.65,1447.87 1177.65,439.382 1122.12,439.382 \"/>\n",
       "<path clip-path=\"url(#clip962)\" d=\"M1177.65 775.546 L1177.65 1447.87 L1233.18 1447.87 L1233.18 775.546 L1177.65 775.546 L1177.65 775.546  Z\" fill=\"#009af9\" fill-rule=\"evenodd\" fill-opacity=\"1\"/>\n",
       "<polyline clip-path=\"url(#clip962)\" style=\"stroke:#000000; stroke-linecap:round; stroke-linejoin:round; stroke-width:4; stroke-opacity:1; fill:none\" points=\"1177.65,775.546 1177.65,1447.87 1233.18,1447.87 1233.18,775.546 1177.65,775.546 \"/>\n",
       "<path clip-path=\"url(#clip962)\" d=\"M1233.18 842.778 L1233.18 1447.87 L1288.7 1447.87 L1288.7 842.778 L1233.18 842.778 L1233.18 842.778  Z\" fill=\"#009af9\" fill-rule=\"evenodd\" fill-opacity=\"1\"/>\n",
       "<polyline clip-path=\"url(#clip962)\" style=\"stroke:#000000; stroke-linecap:round; stroke-linejoin:round; stroke-width:4; stroke-opacity:1; fill:none\" points=\"1233.18,842.778 1233.18,1447.87 1288.7,1447.87 1288.7,842.778 1233.18,842.778 \"/>\n",
       "<path clip-path=\"url(#clip962)\" d=\"M1288.7 994.052 L1288.7 1447.87 L1344.23 1447.87 L1344.23 994.052 L1288.7 994.052 L1288.7 994.052  Z\" fill=\"#009af9\" fill-rule=\"evenodd\" fill-opacity=\"1\"/>\n",
       "<polyline clip-path=\"url(#clip962)\" style=\"stroke:#000000; stroke-linecap:round; stroke-linejoin:round; stroke-width:4; stroke-opacity:1; fill:none\" points=\"1288.7,994.052 1288.7,1447.87 1344.23,1447.87 1344.23,994.052 1288.7,994.052 \"/>\n",
       "<path clip-path=\"url(#clip962)\" d=\"M1344.23 1044.48 L1344.23 1447.87 L1399.75 1447.87 L1399.75 1044.48 L1344.23 1044.48 L1344.23 1044.48  Z\" fill=\"#009af9\" fill-rule=\"evenodd\" fill-opacity=\"1\"/>\n",
       "<polyline clip-path=\"url(#clip962)\" style=\"stroke:#000000; stroke-linecap:round; stroke-linejoin:round; stroke-width:4; stroke-opacity:1; fill:none\" points=\"1344.23,1044.48 1344.23,1447.87 1399.75,1447.87 1399.75,1044.48 1344.23,1044.48 \"/>\n",
       "<path clip-path=\"url(#clip962)\" d=\"M1399.75 1254.58 L1399.75 1447.87 L1455.28 1447.87 L1455.28 1254.58 L1399.75 1254.58 L1399.75 1254.58  Z\" fill=\"#009af9\" fill-rule=\"evenodd\" fill-opacity=\"1\"/>\n",
       "<polyline clip-path=\"url(#clip962)\" style=\"stroke:#000000; stroke-linecap:round; stroke-linejoin:round; stroke-width:4; stroke-opacity:1; fill:none\" points=\"1399.75,1254.58 1399.75,1447.87 1455.28,1447.87 1455.28,1254.58 1399.75,1254.58 \"/>\n",
       "<path clip-path=\"url(#clip962)\" d=\"M1455.28 1330.22 L1455.28 1447.87 L1510.81 1447.87 L1510.81 1330.22 L1455.28 1330.22 L1455.28 1330.22  Z\" fill=\"#009af9\" fill-rule=\"evenodd\" fill-opacity=\"1\"/>\n",
       "<polyline clip-path=\"url(#clip962)\" style=\"stroke:#000000; stroke-linecap:round; stroke-linejoin:round; stroke-width:4; stroke-opacity:1; fill:none\" points=\"1455.28,1330.22 1455.28,1447.87 1510.81,1447.87 1510.81,1330.22 1455.28,1330.22 \"/>\n",
       "<path clip-path=\"url(#clip962)\" d=\"M1510.81 1363.83 L1510.81 1447.87 L1566.33 1447.87 L1566.33 1363.83 L1510.81 1363.83 L1510.81 1363.83  Z\" fill=\"#009af9\" fill-rule=\"evenodd\" fill-opacity=\"1\"/>\n",
       "<polyline clip-path=\"url(#clip962)\" style=\"stroke:#000000; stroke-linecap:round; stroke-linejoin:round; stroke-width:4; stroke-opacity:1; fill:none\" points=\"1510.81,1363.83 1510.81,1447.87 1566.33,1447.87 1566.33,1363.83 1510.81,1363.83 \"/>\n",
       "<path clip-path=\"url(#clip962)\" d=\"M1566.33 1355.43 L1566.33 1447.87 L1621.86 1447.87 L1621.86 1355.43 L1566.33 1355.43 L1566.33 1355.43  Z\" fill=\"#009af9\" fill-rule=\"evenodd\" fill-opacity=\"1\"/>\n",
       "<polyline clip-path=\"url(#clip962)\" style=\"stroke:#000000; stroke-linecap:round; stroke-linejoin:round; stroke-width:4; stroke-opacity:1; fill:none\" points=\"1566.33,1355.43 1566.33,1447.87 1621.86,1447.87 1621.86,1355.43 1566.33,1355.43 \"/>\n",
       "<path clip-path=\"url(#clip962)\" d=\"M1621.86 1439.47 L1621.86 1447.87 L1677.39 1447.87 L1677.39 1439.47 L1621.86 1439.47 L1621.86 1439.47  Z\" fill=\"#009af9\" fill-rule=\"evenodd\" fill-opacity=\"1\"/>\n",
       "<polyline clip-path=\"url(#clip962)\" style=\"stroke:#000000; stroke-linecap:round; stroke-linejoin:round; stroke-width:4; stroke-opacity:1; fill:none\" points=\"1621.86,1439.47 1621.86,1447.87 1677.39,1447.87 1677.39,1439.47 1621.86,1439.47 \"/>\n",
       "<path clip-path=\"url(#clip962)\" d=\"M1677.39 1397.45 L1677.39 1447.87 L1732.91 1447.87 L1732.91 1397.45 L1677.39 1397.45 L1677.39 1397.45  Z\" fill=\"#009af9\" fill-rule=\"evenodd\" fill-opacity=\"1\"/>\n",
       "<polyline clip-path=\"url(#clip962)\" style=\"stroke:#000000; stroke-linecap:round; stroke-linejoin:round; stroke-width:4; stroke-opacity:1; fill:none\" points=\"1677.39,1397.45 1677.39,1447.87 1732.91,1447.87 1732.91,1397.45 1677.39,1397.45 \"/>\n",
       "<path clip-path=\"url(#clip962)\" d=\"M1732.91 1389.04 L1732.91 1447.87 L1788.44 1447.87 L1788.44 1389.04 L1732.91 1389.04 L1732.91 1389.04  Z\" fill=\"#009af9\" fill-rule=\"evenodd\" fill-opacity=\"1\"/>\n",
       "<polyline clip-path=\"url(#clip962)\" style=\"stroke:#000000; stroke-linecap:round; stroke-linejoin:round; stroke-width:4; stroke-opacity:1; fill:none\" points=\"1732.91,1389.04 1732.91,1447.87 1788.44,1447.87 1788.44,1389.04 1732.91,1389.04 \"/>\n",
       "<path clip-path=\"url(#clip962)\" d=\"M1788.44 1439.47 L1788.44 1447.87 L1843.97 1447.87 L1843.97 1439.47 L1788.44 1439.47 L1788.44 1439.47  Z\" fill=\"#009af9\" fill-rule=\"evenodd\" fill-opacity=\"1\"/>\n",
       "<polyline clip-path=\"url(#clip962)\" style=\"stroke:#000000; stroke-linecap:round; stroke-linejoin:round; stroke-width:4; stroke-opacity:1; fill:none\" points=\"1788.44,1439.47 1788.44,1447.87 1843.97,1447.87 1843.97,1439.47 1788.44,1439.47 \"/>\n",
       "<path clip-path=\"url(#clip962)\" d=\"M1843.97 1422.66 L1843.97 1447.87 L1899.49 1447.87 L1899.49 1422.66 L1843.97 1422.66 L1843.97 1422.66  Z\" fill=\"#009af9\" fill-rule=\"evenodd\" fill-opacity=\"1\"/>\n",
       "<polyline clip-path=\"url(#clip962)\" style=\"stroke:#000000; stroke-linecap:round; stroke-linejoin:round; stroke-width:4; stroke-opacity:1; fill:none\" points=\"1843.97,1422.66 1843.97,1447.87 1899.49,1447.87 1899.49,1422.66 1843.97,1422.66 \"/>\n",
       "<path clip-path=\"url(#clip962)\" d=\"M1899.49 1439.47 L1899.49 1447.87 L1955.02 1447.87 L1955.02 1439.47 L1899.49 1439.47 L1899.49 1439.47  Z\" fill=\"#009af9\" fill-rule=\"evenodd\" fill-opacity=\"1\"/>\n",
       "<polyline clip-path=\"url(#clip962)\" style=\"stroke:#000000; stroke-linecap:round; stroke-linejoin:round; stroke-width:4; stroke-opacity:1; fill:none\" points=\"1899.49,1439.47 1899.49,1447.87 1955.02,1447.87 1955.02,1439.47 1899.49,1439.47 \"/>\n",
       "<path clip-path=\"url(#clip962)\" d=\"M1955.02 1439.47 L1955.02 1447.87 L2010.55 1447.87 L2010.55 1439.47 L1955.02 1439.47 L1955.02 1439.47  Z\" fill=\"#009af9\" fill-rule=\"evenodd\" fill-opacity=\"1\"/>\n",
       "<polyline clip-path=\"url(#clip962)\" style=\"stroke:#000000; stroke-linecap:round; stroke-linejoin:round; stroke-width:4; stroke-opacity:1; fill:none\" points=\"1955.02,1439.47 1955.02,1447.87 2010.55,1447.87 2010.55,1439.47 1955.02,1439.47 \"/>\n",
       "<path clip-path=\"url(#clip962)\" d=\"M2010.55 1447.87 L2010.55 1447.87 L2066.07 1447.87 L2066.07 1447.87 L2010.55 1447.87 L2010.55 1447.87  Z\" fill=\"#009af9\" fill-rule=\"evenodd\" fill-opacity=\"1\"/>\n",
       "<polyline clip-path=\"url(#clip962)\" style=\"stroke:#000000; stroke-linecap:round; stroke-linejoin:round; stroke-width:4; stroke-opacity:1; fill:none\" points=\"2010.55,1447.87 2010.55,1447.87 2066.07,1447.87 2010.55,1447.87 \"/>\n",
       "<path clip-path=\"url(#clip962)\" d=\"M2066.07 1447.87 L2066.07 1447.87 L2121.6 1447.87 L2121.6 1447.87 L2066.07 1447.87 L2066.07 1447.87  Z\" fill=\"#009af9\" fill-rule=\"evenodd\" fill-opacity=\"1\"/>\n",
       "<polyline clip-path=\"url(#clip962)\" style=\"stroke:#000000; stroke-linecap:round; stroke-linejoin:round; stroke-width:4; stroke-opacity:1; fill:none\" points=\"2066.07,1447.87 2066.07,1447.87 2121.6,1447.87 2066.07,1447.87 \"/>\n",
       "<path clip-path=\"url(#clip962)\" d=\"M2121.6 1447.87 L2121.6 1447.87 L2177.13 1447.87 L2177.13 1447.87 L2121.6 1447.87 L2121.6 1447.87  Z\" fill=\"#009af9\" fill-rule=\"evenodd\" fill-opacity=\"1\"/>\n",
       "<polyline clip-path=\"url(#clip962)\" style=\"stroke:#000000; stroke-linecap:round; stroke-linejoin:round; stroke-width:4; stroke-opacity:1; fill:none\" points=\"2121.6,1447.87 2121.6,1447.87 2177.13,1447.87 2121.6,1447.87 \"/>\n",
       "<path clip-path=\"url(#clip962)\" d=\"M2177.13 1439.47 L2177.13 1447.87 L2232.65 1447.87 L2232.65 1439.47 L2177.13 1439.47 L2177.13 1439.47  Z\" fill=\"#009af9\" fill-rule=\"evenodd\" fill-opacity=\"1\"/>\n",
       "<polyline clip-path=\"url(#clip962)\" style=\"stroke:#000000; stroke-linecap:round; stroke-linejoin:round; stroke-width:4; stroke-opacity:1; fill:none\" points=\"2177.13,1439.47 2177.13,1447.87 2232.65,1447.87 2232.65,1439.47 2177.13,1439.47 \"/>\n",
       "<circle clip-path=\"url(#clip962)\" style=\"fill:#009af9; stroke:none; fill-opacity:0\" cx=\"316.988\" cy=\"1439.47\" r=\"2\"/>\n",
       "<circle clip-path=\"url(#clip962)\" style=\"fill:#009af9; stroke:none; fill-opacity:0\" cx=\"372.515\" cy=\"1447.87\" r=\"2\"/>\n",
       "<circle clip-path=\"url(#clip962)\" style=\"fill:#009af9; stroke:none; fill-opacity:0\" cx=\"428.041\" cy=\"1439.47\" r=\"2\"/>\n",
       "<circle clip-path=\"url(#clip962)\" style=\"fill:#009af9; stroke:none; fill-opacity:0\" cx=\"483.568\" cy=\"1439.47\" r=\"2\"/>\n",
       "<circle clip-path=\"url(#clip962)\" style=\"fill:#009af9; stroke:none; fill-opacity:0\" cx=\"539.094\" cy=\"1447.87\" r=\"2\"/>\n",
       "<circle clip-path=\"url(#clip962)\" style=\"fill:#009af9; stroke:none; fill-opacity:0\" cx=\"594.621\" cy=\"1447.87\" r=\"2\"/>\n",
       "<circle clip-path=\"url(#clip962)\" style=\"fill:#009af9; stroke:none; fill-opacity:0\" cx=\"650.147\" cy=\"1447.87\" r=\"2\"/>\n",
       "<circle clip-path=\"url(#clip962)\" style=\"fill:#009af9; stroke:none; fill-opacity:0\" cx=\"705.674\" cy=\"1313.41\" r=\"2\"/>\n",
       "<circle clip-path=\"url(#clip962)\" style=\"fill:#009af9; stroke:none; fill-opacity:0\" cx=\"761.2\" cy=\"1262.98\" r=\"2\"/>\n",
       "<circle clip-path=\"url(#clip962)\" style=\"fill:#009af9; stroke:none; fill-opacity:0\" cx=\"816.727\" cy=\"842.778\" r=\"2\"/>\n",
       "<circle clip-path=\"url(#clip962)\" style=\"fill:#009af9; stroke:none; fill-opacity:0\" cx=\"872.253\" cy=\"548.635\" r=\"2\"/>\n",
       "<circle clip-path=\"url(#clip962)\" style=\"fill:#009af9; stroke:none; fill-opacity:0\" cx=\"927.78\" cy=\"220.876\" r=\"2\"/>\n",
       "<circle clip-path=\"url(#clip962)\" style=\"fill:#009af9; stroke:none; fill-opacity:0\" cx=\"983.306\" cy=\"162.047\" r=\"2\"/>\n",
       "<circle clip-path=\"url(#clip962)\" style=\"fill:#009af9; stroke:none; fill-opacity:0\" cx=\"1038.83\" cy=\"355.341\" r=\"2\"/>\n",
       "<circle clip-path=\"url(#clip962)\" style=\"fill:#009af9; stroke:none; fill-opacity:0\" cx=\"1094.36\" cy=\"170.451\" r=\"2\"/>\n",
       "<circle clip-path=\"url(#clip962)\" style=\"fill:#009af9; stroke:none; fill-opacity:0\" cx=\"1149.89\" cy=\"439.382\" r=\"2\"/>\n",
       "<circle clip-path=\"url(#clip962)\" style=\"fill:#009af9; stroke:none; fill-opacity:0\" cx=\"1205.41\" cy=\"775.546\" r=\"2\"/>\n",
       "<circle clip-path=\"url(#clip962)\" style=\"fill:#009af9; stroke:none; fill-opacity:0\" cx=\"1260.94\" cy=\"842.778\" r=\"2\"/>\n",
       "<circle clip-path=\"url(#clip962)\" style=\"fill:#009af9; stroke:none; fill-opacity:0\" cx=\"1316.47\" cy=\"994.052\" r=\"2\"/>\n",
       "<circle clip-path=\"url(#clip962)\" style=\"fill:#009af9; stroke:none; fill-opacity:0\" cx=\"1371.99\" cy=\"1044.48\" r=\"2\"/>\n",
       "<circle clip-path=\"url(#clip962)\" style=\"fill:#009af9; stroke:none; fill-opacity:0\" cx=\"1427.52\" cy=\"1254.58\" r=\"2\"/>\n",
       "<circle clip-path=\"url(#clip962)\" style=\"fill:#009af9; stroke:none; fill-opacity:0\" cx=\"1483.04\" cy=\"1330.22\" r=\"2\"/>\n",
       "<circle clip-path=\"url(#clip962)\" style=\"fill:#009af9; stroke:none; fill-opacity:0\" cx=\"1538.57\" cy=\"1363.83\" r=\"2\"/>\n",
       "<circle clip-path=\"url(#clip962)\" style=\"fill:#009af9; stroke:none; fill-opacity:0\" cx=\"1594.1\" cy=\"1355.43\" r=\"2\"/>\n",
       "<circle clip-path=\"url(#clip962)\" style=\"fill:#009af9; stroke:none; fill-opacity:0\" cx=\"1649.62\" cy=\"1439.47\" r=\"2\"/>\n",
       "<circle clip-path=\"url(#clip962)\" style=\"fill:#009af9; stroke:none; fill-opacity:0\" cx=\"1705.15\" cy=\"1397.45\" r=\"2\"/>\n",
       "<circle clip-path=\"url(#clip962)\" style=\"fill:#009af9; stroke:none; fill-opacity:0\" cx=\"1760.68\" cy=\"1389.04\" r=\"2\"/>\n",
       "<circle clip-path=\"url(#clip962)\" style=\"fill:#009af9; stroke:none; fill-opacity:0\" cx=\"1816.2\" cy=\"1439.47\" r=\"2\"/>\n",
       "<circle clip-path=\"url(#clip962)\" style=\"fill:#009af9; stroke:none; fill-opacity:0\" cx=\"1871.73\" cy=\"1422.66\" r=\"2\"/>\n",
       "<circle clip-path=\"url(#clip962)\" style=\"fill:#009af9; stroke:none; fill-opacity:0\" cx=\"1927.26\" cy=\"1439.47\" r=\"2\"/>\n",
       "<circle clip-path=\"url(#clip962)\" style=\"fill:#009af9; stroke:none; fill-opacity:0\" cx=\"1982.78\" cy=\"1439.47\" r=\"2\"/>\n",
       "<circle clip-path=\"url(#clip962)\" style=\"fill:#009af9; stroke:none; fill-opacity:0\" cx=\"2038.31\" cy=\"1447.87\" r=\"2\"/>\n",
       "<circle clip-path=\"url(#clip962)\" style=\"fill:#009af9; stroke:none; fill-opacity:0\" cx=\"2093.84\" cy=\"1447.87\" r=\"2\"/>\n",
       "<circle clip-path=\"url(#clip962)\" style=\"fill:#009af9; stroke:none; fill-opacity:0\" cx=\"2149.36\" cy=\"1447.87\" r=\"2\"/>\n",
       "<circle clip-path=\"url(#clip962)\" style=\"fill:#009af9; stroke:none; fill-opacity:0\" cx=\"2204.89\" cy=\"1439.47\" r=\"2\"/>\n",
       "</svg>\n"
      ]
     },
     "execution_count": 26,
     "metadata": {},
     "output_type": "execute_result"
    }
   ],
   "source": [
    "plot( filter(x->x<100 && x>0,df_2014[!,\"Age\"]) , seriestype=\"histogram\" , legend = false )\n",
    "title!( \"ages\" )"
   ]
  },
  {
   "cell_type": "code",
   "execution_count": 27,
   "id": "85668dea-1b72-4d3e-9f8e-699837f9e7b5",
   "metadata": {},
   "outputs": [
    {
     "data": {
      "text/html": [
       "<div><div style = \"float: left;\"><span>DataFrameRow (27 columns)</span></div><div style = \"clear: both;\"></div></div><div class = \"data-frame\" style = \"overflow-x: scroll;\"><table class = \"data-frame\" style = \"margin-bottom: 6px;\"><thead><tr class = \"header\"><th class = \"rowLabel\" style = \"font-weight: bold; text-align: right;\">Row</th><th style = \"text-align: left;\">Timestamp</th><th style = \"text-align: left;\">Age</th><th style = \"text-align: left;\">Gender</th><th style = \"text-align: left;\">Country</th><th style = \"text-align: left;\">state</th><th style = \"text-align: left;\">self_employed</th><th style = \"text-align: left;\">family_history</th><th style = \"text-align: left;\">treatment</th><th style = \"text-align: left;\">work_interfere</th><th style = \"text-align: left;\">no_employees</th><th style = \"text-align: left;\">remote_work</th><th style = \"text-align: left;\">tech_company</th><th style = \"text-align: left;\">benefits</th><th style = \"text-align: left;\">care_options</th><th style = \"text-align: left;\">wellness_program</th><th style = \"text-align: left;\">seek_help</th><th style = \"text-align: left;\">anonymity</th><th style = \"text-align: left;\">leave</th><th style = \"text-align: left;\">mental_health_consequence</th><th style = \"text-align: left;\">phys_health_consequence</th><th style = \"text-align: left;\">coworkers</th><th style = \"text-align: left;\">supervisor</th><th style = \"text-align: left;\">mental_health_interview</th><th style = \"text-align: left;\">phys_health_interview</th><th style = \"text-align: left;\">mental_vs_physical</th><th style = \"text-align: left;\">obs_consequence</th><th style = \"text-align: left;\">comments</th></tr><tr class = \"subheader headerLastRow\"><th class = \"rowLabel\" style = \"font-weight: bold; text-align: right;\"></th><th title = \"String31\" style = \"text-align: left;\">String31</th><th title = \"Int64\" style = \"text-align: left;\">Int64</th><th title = \"String\" style = \"text-align: left;\">String</th><th title = \"String31\" style = \"text-align: left;\">String31</th><th title = \"String3\" style = \"text-align: left;\">String3</th><th title = \"String3\" style = \"text-align: left;\">String3</th><th title = \"String3\" style = \"text-align: left;\">String3</th><th title = \"String3\" style = \"text-align: left;\">String3</th><th title = \"String15\" style = \"text-align: left;\">String15</th><th title = \"String15\" style = \"text-align: left;\">String15</th><th title = \"String3\" style = \"text-align: left;\">String3</th><th title = \"String3\" style = \"text-align: left;\">String3</th><th title = \"String15\" style = \"text-align: left;\">String15</th><th title = \"String15\" style = \"text-align: left;\">String15</th><th title = \"String15\" style = \"text-align: left;\">String15</th><th title = \"String15\" style = \"text-align: left;\">String15</th><th title = \"String15\" style = \"text-align: left;\">String15</th><th title = \"String31\" style = \"text-align: left;\">String31</th><th title = \"String7\" style = \"text-align: left;\">String7</th><th title = \"String7\" style = \"text-align: left;\">String7</th><th title = \"String15\" style = \"text-align: left;\">String15</th><th title = \"String15\" style = \"text-align: left;\">String15</th><th title = \"String7\" style = \"text-align: left;\">String7</th><th title = \"String7\" style = \"text-align: left;\">String7</th><th title = \"String15\" style = \"text-align: left;\">String15</th><th title = \"String3\" style = \"text-align: left;\">String3</th><th title = \"String\" style = \"text-align: left;\">String</th></tr></thead><tbody><tr><td class = \"rowLabel\" style = \"font-weight: bold; text-align: right;\">1</td><td style = \"text-align: left;\">2014-08-27 11:29:31</td><td style = \"text-align: right;\">37</td><td style = \"text-align: left;\">Female</td><td style = \"text-align: left;\">United States</td><td style = \"text-align: left;\">IL</td><td style = \"text-align: left;\">NA</td><td style = \"text-align: left;\">No</td><td style = \"text-align: left;\">Yes</td><td style = \"text-align: left;\">Often</td><td style = \"text-align: left;\">6-25</td><td style = \"text-align: left;\">No</td><td style = \"text-align: left;\">Yes</td><td style = \"text-align: left;\">Yes</td><td style = \"text-align: left;\">Not sure</td><td style = \"text-align: left;\">No</td><td style = \"text-align: left;\">Yes</td><td style = \"text-align: left;\">Yes</td><td style = \"text-align: left;\">Somewhat easy</td><td style = \"text-align: left;\">No</td><td style = \"text-align: left;\">No</td><td style = \"text-align: left;\">Some of them</td><td style = \"text-align: left;\">Yes</td><td style = \"text-align: left;\">No</td><td style = \"text-align: left;\">Maybe</td><td style = \"text-align: left;\">Yes</td><td style = \"text-align: left;\">No</td><td style = \"text-align: left;\">NA</td></tr></tbody></table></div>"
      ],
      "text/latex": [
       "\\begin{tabular}{r|cccccccc}\n",
       "\t& Timestamp & Age & Gender & Country & state & self\\_employed & family\\_history & \\\\\n",
       "\t\\hline\n",
       "\t& String31 & Int64 & String & String31 & String3 & String3 & String3 & \\\\\n",
       "\t\\hline\n",
       "\t1 & 2014-08-27 11:29:31 & 37 & Female & United States & IL & NA & No & $\\dots$ \\\\\n",
       "\\end{tabular}\n"
      ],
      "text/plain": [
       "\u001b[1mDataFrameRow\u001b[0m\n",
       "\u001b[1m Row \u001b[0m│\u001b[1m Timestamp           \u001b[0m\u001b[1m Age   \u001b[0m\u001b[1m Gender \u001b[0m\u001b[1m Country       \u001b[0m\u001b[1m state   \u001b[0m\u001b[1m self_employ\u001b[0m ⋯\n",
       "     │\u001b[90m String31            \u001b[0m\u001b[90m Int64 \u001b[0m\u001b[90m String \u001b[0m\u001b[90m String31      \u001b[0m\u001b[90m String3 \u001b[0m\u001b[90m String3    \u001b[0m ⋯\n",
       "─────┼──────────────────────────────────────────────────────────────────────────\n",
       "   1 │ 2014-08-27 11:29:31     37  Female  United States  IL       NA          ⋯\n",
       "\u001b[36m                                                              22 columns omitted\u001b[0m"
      ]
     },
     "execution_count": 27,
     "metadata": {},
     "output_type": "execute_result"
    }
   ],
   "source": [
    "df_2014[1,:]"
   ]
  },
  {
   "cell_type": "code",
   "execution_count": 79,
   "id": "88577697-829b-488b-99b8-bfdb831460c2",
   "metadata": {},
   "outputs": [
    {
     "data": {
      "text/plain": [
       "20-element PooledArrays.PooledVector{String15, UInt32, Vector{UInt32}}:\n",
       " \"6-25\"\n",
       " \"More than 1000\"\n",
       " \"6-25\"\n",
       " \"26-100\"\n",
       " \"100-500\"\n",
       " \"6-25\"\n",
       " \"1-5\"\n",
       " \"1-5\"\n",
       " \"100-500\"\n",
       " \"26-100\"\n",
       " \"6-25\"\n",
       " \"100-500\"\n",
       " \"26-100\"\n",
       " \"500-1000\"\n",
       " \"6-25\"\n",
       " \"26-100\"\n",
       " \"26-100\"\n",
       " \"6-25\"\n",
       " \"1-5\"\n",
       " \"6-25\""
      ]
     },
     "execution_count": 79,
     "metadata": {},
     "output_type": "execute_result"
    }
   ],
   "source": [
    "df_2014[1:20,\"no_employees\"]"
   ]
  },
  {
   "cell_type": "code",
   "execution_count": 77,
   "id": "352cba5e-f8b1-45ab-9c0c-081e7a0cdf3a",
   "metadata": {},
   "outputs": [
    {
     "data": {
      "text/plain": [
       "GetNumericalChars (generic function with 1 method)"
      ]
     },
     "execution_count": 77,
     "metadata": {},
     "output_type": "execute_result"
    }
   ],
   "source": [
    "function GetNumericalChars(str)\n",
    "    return map( x-> Int64(UInt32(x)) , collect(str) ) |> res -> filter( x-> x>47 && x<58 , res ) |> res -> map(x->Char(x),res) |> res-> reduce(*,res)\n",
    "end    "
   ]
  },
  {
   "cell_type": "code",
   "execution_count": 97,
   "id": "ff4963e3-0999-4617-9ac1-eb4a5d617c26",
   "metadata": {},
   "outputs": [
    {
     "data": {
      "text/plain": [
       "GetMeanEmpNum (generic function with 1 method)"
      ]
     },
     "execution_count": 97,
     "metadata": {},
     "output_type": "execute_result"
    }
   ],
   "source": [
    "function GetMeanEmpNum(str_array)\n",
    "    mean_arr = []\n",
    "    for str_tmp in str_array\n",
    "        mean_tmp = split( str_tmp , \"-\" ) |> res -> map( GetNumericalChars , res ) |> res -> map( x-> parse(Int,x) ,res) |> mean\n",
    "        push!(mean_arr,mean_tmp)\n",
    "    end\n",
    "    return mean_arr\n",
    "end"
   ]
  },
  {
   "cell_type": "code",
   "execution_count": null,
   "id": "880ff1ae-f1de-4e57-a044-4e2b93789bde",
   "metadata": {},
   "outputs": [],
   "source": []
  },
  {
   "cell_type": "code",
   "execution_count": 108,
   "id": "a768cac0-0a7a-4d64-8502-1cfb88cf5555",
   "metadata": {},
   "outputs": [
    {
     "data": {
      "text/plain": [
       "1259-element Vector{Any}:\n",
       "   15.5\n",
       " 1000.0\n",
       "   15.5\n",
       "   63.0\n",
       "  300.0\n",
       "   15.5\n",
       "    3.0\n",
       "    3.0\n",
       "  300.0\n",
       "   63.0\n",
       "   15.5\n",
       "  300.0\n",
       "   63.0\n",
       "    ⋮\n",
       "   15.5\n",
       "   63.0\n",
       "   63.0\n",
       "   63.0\n",
       "  300.0\n",
       "  300.0\n",
       " 1000.0\n",
       "   63.0\n",
       "   63.0\n",
       " 1000.0\n",
       "  300.0\n",
       "   63.0"
      ]
     },
     "execution_count": 108,
     "metadata": {},
     "output_type": "execute_result"
    }
   ],
   "source": [
    "emp_num = GetMeanEmpNum( df_2014[:,\"no_employees\"]  )"
   ]
  },
  {
   "cell_type": "code",
   "execution_count": 113,
   "id": "3f1da8ee-9249-4443-b2fe-664a68c8d2dc",
   "metadata": {},
   "outputs": [
    {
     "data": {
      "image/svg+xml": [
       "<?xml version=\"1.0\" encoding=\"utf-8\"?>\n",
       "<svg xmlns=\"http://www.w3.org/2000/svg\" xmlns:xlink=\"http://www.w3.org/1999/xlink\" width=\"600\" height=\"400\" viewBox=\"0 0 2400 1600\">\n",
       "<defs>\n",
       "  <clipPath id=\"clip160\">\n",
       "    <rect x=\"0\" y=\"0\" width=\"2400\" height=\"1600\"/>\n",
       "  </clipPath>\n",
       "</defs>\n",
       "<path clip-path=\"url(#clip160)\" d=\"M0 1600 L2400 1600 L2400 0 L0 0  Z\" fill=\"#ffffff\" fill-rule=\"evenodd\" fill-opacity=\"1\"/>\n",
       "<defs>\n",
       "  <clipPath id=\"clip161\">\n",
       "    <rect x=\"480\" y=\"0\" width=\"1681\" height=\"1600\"/>\n",
       "  </clipPath>\n",
       "</defs>\n",
       "<path clip-path=\"url(#clip160)\" d=\"M172.015 1486.45 L2352.76 1486.45 L2352.76 123.472 L172.015 123.472  Z\" fill=\"#ffffff\" fill-rule=\"evenodd\" fill-opacity=\"1\"/>\n",
       "<defs>\n",
       "  <clipPath id=\"clip162\">\n",
       "    <rect x=\"172\" y=\"123\" width=\"2182\" height=\"1364\"/>\n",
       "  </clipPath>\n",
       "</defs>\n",
       "<polyline clip-path=\"url(#clip162)\" style=\"stroke:#000000; stroke-linecap:round; stroke-linejoin:round; stroke-width:2; stroke-opacity:0.1; fill:none\" points=\"291.959,1486.45 291.959,123.472 \"/>\n",
       "<polyline clip-path=\"url(#clip162)\" style=\"stroke:#000000; stroke-linecap:round; stroke-linejoin:round; stroke-width:2; stroke-opacity:0.1; fill:none\" points=\"754.067,1486.45 754.067,123.472 \"/>\n",
       "<polyline clip-path=\"url(#clip162)\" style=\"stroke:#000000; stroke-linecap:round; stroke-linejoin:round; stroke-width:2; stroke-opacity:0.1; fill:none\" points=\"1216.17,1486.45 1216.17,123.472 \"/>\n",
       "<polyline clip-path=\"url(#clip162)\" style=\"stroke:#000000; stroke-linecap:round; stroke-linejoin:round; stroke-width:2; stroke-opacity:0.1; fill:none\" points=\"1678.28,1486.45 1678.28,123.472 \"/>\n",
       "<polyline clip-path=\"url(#clip162)\" style=\"stroke:#000000; stroke-linecap:round; stroke-linejoin:round; stroke-width:2; stroke-opacity:0.1; fill:none\" points=\"2140.39,1486.45 2140.39,123.472 \"/>\n",
       "<polyline clip-path=\"url(#clip160)\" style=\"stroke:#000000; stroke-linecap:round; stroke-linejoin:round; stroke-width:4; stroke-opacity:1; fill:none\" points=\"172.015,1486.45 2352.76,1486.45 \"/>\n",
       "<polyline clip-path=\"url(#clip160)\" style=\"stroke:#000000; stroke-linecap:round; stroke-linejoin:round; stroke-width:4; stroke-opacity:1; fill:none\" points=\"291.959,1486.45 291.959,1467.55 \"/>\n",
       "<polyline clip-path=\"url(#clip160)\" style=\"stroke:#000000; stroke-linecap:round; stroke-linejoin:round; stroke-width:4; stroke-opacity:1; fill:none\" points=\"754.067,1486.45 754.067,1467.55 \"/>\n",
       "<polyline clip-path=\"url(#clip160)\" style=\"stroke:#000000; stroke-linecap:round; stroke-linejoin:round; stroke-width:4; stroke-opacity:1; fill:none\" points=\"1216.17,1486.45 1216.17,1467.55 \"/>\n",
       "<polyline clip-path=\"url(#clip160)\" style=\"stroke:#000000; stroke-linecap:round; stroke-linejoin:round; stroke-width:4; stroke-opacity:1; fill:none\" points=\"1678.28,1486.45 1678.28,1467.55 \"/>\n",
       "<polyline clip-path=\"url(#clip160)\" style=\"stroke:#000000; stroke-linecap:round; stroke-linejoin:round; stroke-width:4; stroke-opacity:1; fill:none\" points=\"2140.39,1486.45 2140.39,1467.55 \"/>\n",
       "<path clip-path=\"url(#clip160)\" d=\"M291.959 1517.37 Q288.348 1517.37 286.52 1520.93 Q284.714 1524.47 284.714 1531.6 Q284.714 1538.71 286.52 1542.27 Q288.348 1545.82 291.959 1545.82 Q295.594 1545.82 297.399 1542.27 Q299.228 1538.71 299.228 1531.6 Q299.228 1524.47 297.399 1520.93 Q295.594 1517.37 291.959 1517.37 M291.959 1513.66 Q297.77 1513.66 300.825 1518.27 Q303.904 1522.85 303.904 1531.6 Q303.904 1540.33 300.825 1544.94 Q297.77 1549.52 291.959 1549.52 Q286.149 1549.52 283.071 1544.94 Q280.015 1540.33 280.015 1531.6 Q280.015 1522.85 283.071 1518.27 Q286.149 1513.66 291.959 1513.66 Z\" fill=\"#000000\" fill-rule=\"nonzero\" fill-opacity=\"1\" /><path clip-path=\"url(#clip160)\" d=\"M717.759 1544.91 L734.079 1544.91 L734.079 1548.85 L712.134 1548.85 L712.134 1544.91 Q714.796 1542.16 719.38 1537.53 Q723.986 1532.88 725.167 1531.53 Q727.412 1529.01 728.292 1527.27 Q729.194 1525.51 729.194 1523.82 Q729.194 1521.07 727.25 1519.33 Q725.329 1517.6 722.227 1517.6 Q720.028 1517.6 717.574 1518.36 Q715.144 1519.13 712.366 1520.68 L712.366 1515.95 Q715.19 1514.82 717.644 1514.24 Q720.097 1513.66 722.134 1513.66 Q727.505 1513.66 730.699 1516.35 Q733.894 1519.03 733.894 1523.52 Q733.894 1525.65 733.083 1527.57 Q732.296 1529.47 730.19 1532.07 Q729.611 1532.74 726.509 1535.95 Q723.407 1539.15 717.759 1544.91 Z\" fill=\"#000000\" fill-rule=\"nonzero\" fill-opacity=\"1\" /><path clip-path=\"url(#clip160)\" d=\"M743.94 1514.29 L762.296 1514.29 L762.296 1518.22 L748.222 1518.22 L748.222 1526.7 Q749.241 1526.35 750.259 1526.19 Q751.278 1526 752.296 1526 Q758.083 1526 761.463 1529.17 Q764.842 1532.34 764.842 1537.76 Q764.842 1543.34 761.37 1546.44 Q757.898 1549.52 751.579 1549.52 Q749.403 1549.52 747.134 1549.15 Q744.889 1548.78 742.481 1548.04 L742.481 1543.34 Q744.565 1544.47 746.787 1545.03 Q749.009 1545.58 751.486 1545.58 Q755.491 1545.58 757.829 1543.48 Q760.167 1541.37 760.167 1537.76 Q760.167 1534.15 757.829 1532.04 Q755.491 1529.94 751.486 1529.94 Q749.611 1529.94 747.736 1530.35 Q745.884 1530.77 743.94 1531.65 L743.94 1514.29 Z\" fill=\"#000000\" fill-rule=\"nonzero\" fill-opacity=\"1\" /><path clip-path=\"url(#clip160)\" d=\"M784.055 1517.37 Q780.444 1517.37 778.616 1520.93 Q776.81 1524.47 776.81 1531.6 Q776.81 1538.71 778.616 1542.27 Q780.444 1545.82 784.055 1545.82 Q787.69 1545.82 789.495 1542.27 Q791.324 1538.71 791.324 1531.6 Q791.324 1524.47 789.495 1520.93 Q787.69 1517.37 784.055 1517.37 M784.055 1513.66 Q789.865 1513.66 792.921 1518.27 Q796 1522.85 796 1531.6 Q796 1540.33 792.921 1544.94 Q789.865 1549.52 784.055 1549.52 Q778.245 1549.52 775.166 1544.94 Q772.111 1540.33 772.111 1531.6 Q772.111 1522.85 775.166 1518.27 Q778.245 1513.66 784.055 1513.66 Z\" fill=\"#000000\" fill-rule=\"nonzero\" fill-opacity=\"1\" /><path clip-path=\"url(#clip160)\" d=\"M1175.79 1514.29 L1194.15 1514.29 L1194.15 1518.22 L1180.08 1518.22 L1180.08 1526.7 Q1181.09 1526.35 1182.11 1526.19 Q1183.13 1526 1184.15 1526 Q1189.94 1526 1193.32 1529.17 Q1196.7 1532.34 1196.7 1537.76 Q1196.7 1543.34 1193.22 1546.44 Q1189.75 1549.52 1183.43 1549.52 Q1181.26 1549.52 1178.99 1549.15 Q1176.74 1548.78 1174.33 1548.04 L1174.33 1543.34 Q1176.42 1544.47 1178.64 1545.03 Q1180.86 1545.58 1183.34 1545.58 Q1187.34 1545.58 1189.68 1543.48 Q1192.02 1541.37 1192.02 1537.76 Q1192.02 1534.15 1189.68 1532.04 Q1187.34 1529.94 1183.34 1529.94 Q1181.46 1529.94 1179.59 1530.35 Q1177.74 1530.77 1175.79 1531.65 L1175.79 1514.29 Z\" fill=\"#000000\" fill-rule=\"nonzero\" fill-opacity=\"1\" /><path clip-path=\"url(#clip160)\" d=\"M1215.91 1517.37 Q1212.3 1517.37 1210.47 1520.93 Q1208.66 1524.47 1208.66 1531.6 Q1208.66 1538.71 1210.47 1542.27 Q1212.3 1545.82 1215.91 1545.82 Q1219.54 1545.82 1221.35 1542.27 Q1223.18 1538.71 1223.18 1531.6 Q1223.18 1524.47 1221.35 1520.93 Q1219.54 1517.37 1215.91 1517.37 M1215.91 1513.66 Q1221.72 1513.66 1224.77 1518.27 Q1227.85 1522.85 1227.85 1531.6 Q1227.85 1540.33 1224.77 1544.94 Q1221.72 1549.52 1215.91 1549.52 Q1210.1 1549.52 1207.02 1544.94 Q1203.96 1540.33 1203.96 1531.6 Q1203.96 1522.85 1207.02 1518.27 Q1210.1 1513.66 1215.91 1513.66 Z\" fill=\"#000000\" fill-rule=\"nonzero\" fill-opacity=\"1\" /><path clip-path=\"url(#clip160)\" d=\"M1246.07 1517.37 Q1242.46 1517.37 1240.63 1520.93 Q1238.82 1524.47 1238.82 1531.6 Q1238.82 1538.71 1240.63 1542.27 Q1242.46 1545.82 1246.07 1545.82 Q1249.7 1545.82 1251.51 1542.27 Q1253.34 1538.71 1253.34 1531.6 Q1253.34 1524.47 1251.51 1520.93 Q1249.7 1517.37 1246.07 1517.37 M1246.07 1513.66 Q1251.88 1513.66 1254.94 1518.27 Q1258.01 1522.85 1258.01 1531.6 Q1258.01 1540.33 1254.94 1544.94 Q1251.88 1549.52 1246.07 1549.52 Q1240.26 1549.52 1237.18 1544.94 Q1234.13 1540.33 1234.13 1531.6 Q1234.13 1522.85 1237.18 1518.27 Q1240.26 1513.66 1246.07 1513.66 Z\" fill=\"#000000\" fill-rule=\"nonzero\" fill-opacity=\"1\" /><path clip-path=\"url(#clip160)\" d=\"M1636.56 1514.29 L1658.78 1514.29 L1658.78 1516.28 L1646.23 1548.85 L1641.35 1548.85 L1653.15 1518.22 L1636.56 1518.22 L1636.56 1514.29 Z\" fill=\"#000000\" fill-rule=\"nonzero\" fill-opacity=\"1\" /><path clip-path=\"url(#clip160)\" d=\"M1667.95 1514.29 L1686.3 1514.29 L1686.3 1518.22 L1672.23 1518.22 L1672.23 1526.7 Q1673.25 1526.35 1674.27 1526.19 Q1675.28 1526 1676.3 1526 Q1682.09 1526 1685.47 1529.17 Q1688.85 1532.34 1688.85 1537.76 Q1688.85 1543.34 1685.38 1546.44 Q1681.9 1549.52 1675.59 1549.52 Q1673.41 1549.52 1671.14 1549.15 Q1668.9 1548.78 1666.49 1548.04 L1666.49 1543.34 Q1668.57 1544.47 1670.79 1545.03 Q1673.02 1545.58 1675.49 1545.58 Q1679.5 1545.58 1681.84 1543.48 Q1684.17 1541.37 1684.17 1537.76 Q1684.17 1534.15 1681.84 1532.04 Q1679.5 1529.94 1675.49 1529.94 Q1673.62 1529.94 1671.74 1530.35 Q1669.89 1530.77 1667.95 1531.65 L1667.95 1514.29 Z\" fill=\"#000000\" fill-rule=\"nonzero\" fill-opacity=\"1\" /><path clip-path=\"url(#clip160)\" d=\"M1708.06 1517.37 Q1704.45 1517.37 1702.62 1520.93 Q1700.82 1524.47 1700.82 1531.6 Q1700.82 1538.71 1702.62 1542.27 Q1704.45 1545.82 1708.06 1545.82 Q1711.7 1545.82 1713.5 1542.27 Q1715.33 1538.71 1715.33 1531.6 Q1715.33 1524.47 1713.5 1520.93 Q1711.7 1517.37 1708.06 1517.37 M1708.06 1513.66 Q1713.87 1513.66 1716.93 1518.27 Q1720.01 1522.85 1720.01 1531.6 Q1720.01 1540.33 1716.93 1544.94 Q1713.87 1549.52 1708.06 1549.52 Q1702.25 1549.52 1699.17 1544.94 Q1696.12 1540.33 1696.12 1531.6 Q1696.12 1522.85 1699.17 1518.27 Q1702.25 1513.66 1708.06 1513.66 Z\" fill=\"#000000\" fill-rule=\"nonzero\" fill-opacity=\"1\" /><path clip-path=\"url(#clip160)\" d=\"M2084.92 1544.91 L2092.55 1544.91 L2092.55 1518.55 L2084.24 1520.21 L2084.24 1515.95 L2092.51 1514.29 L2097.18 1514.29 L2097.18 1544.91 L2104.82 1544.91 L2104.82 1548.85 L2084.92 1548.85 L2084.92 1544.91 Z\" fill=\"#000000\" fill-rule=\"nonzero\" fill-opacity=\"1\" /><path clip-path=\"url(#clip160)\" d=\"M2124.27 1517.37 Q2120.66 1517.37 2118.83 1520.93 Q2117.02 1524.47 2117.02 1531.6 Q2117.02 1538.71 2118.83 1542.27 Q2120.66 1545.82 2124.27 1545.82 Q2127.9 1545.82 2129.71 1542.27 Q2131.54 1538.71 2131.54 1531.6 Q2131.54 1524.47 2129.71 1520.93 Q2127.9 1517.37 2124.27 1517.37 M2124.27 1513.66 Q2130.08 1513.66 2133.13 1518.27 Q2136.21 1522.85 2136.21 1531.6 Q2136.21 1540.33 2133.13 1544.94 Q2130.08 1549.52 2124.27 1549.52 Q2118.46 1549.52 2115.38 1544.94 Q2112.32 1540.33 2112.32 1531.6 Q2112.32 1522.85 2115.38 1518.27 Q2118.46 1513.66 2124.27 1513.66 Z\" fill=\"#000000\" fill-rule=\"nonzero\" fill-opacity=\"1\" /><path clip-path=\"url(#clip160)\" d=\"M2154.43 1517.37 Q2150.82 1517.37 2148.99 1520.93 Q2147.18 1524.47 2147.18 1531.6 Q2147.18 1538.71 2148.99 1542.27 Q2150.82 1545.82 2154.43 1545.82 Q2158.06 1545.82 2159.87 1542.27 Q2161.7 1538.71 2161.7 1531.6 Q2161.7 1524.47 2159.87 1520.93 Q2158.06 1517.37 2154.43 1517.37 M2154.43 1513.66 Q2160.24 1513.66 2163.29 1518.27 Q2166.37 1522.85 2166.37 1531.6 Q2166.37 1540.33 2163.29 1544.94 Q2160.24 1549.52 2154.43 1549.52 Q2148.62 1549.52 2145.54 1544.94 Q2142.48 1540.33 2142.48 1531.6 Q2142.48 1522.85 2145.54 1518.27 Q2148.62 1513.66 2154.43 1513.66 Z\" fill=\"#000000\" fill-rule=\"nonzero\" fill-opacity=\"1\" /><path clip-path=\"url(#clip160)\" d=\"M2184.59 1517.37 Q2180.98 1517.37 2179.15 1520.93 Q2177.35 1524.47 2177.35 1531.6 Q2177.35 1538.71 2179.15 1542.27 Q2180.98 1545.82 2184.59 1545.82 Q2188.23 1545.82 2190.03 1542.27 Q2191.86 1538.71 2191.86 1531.6 Q2191.86 1524.47 2190.03 1520.93 Q2188.23 1517.37 2184.59 1517.37 M2184.59 1513.66 Q2190.4 1513.66 2193.46 1518.27 Q2196.54 1522.85 2196.54 1531.6 Q2196.54 1540.33 2193.46 1544.94 Q2190.4 1549.52 2184.59 1549.52 Q2178.78 1549.52 2175.7 1544.94 Q2172.65 1540.33 2172.65 1531.6 Q2172.65 1522.85 2175.7 1518.27 Q2178.78 1513.66 2184.59 1513.66 Z\" fill=\"#000000\" fill-rule=\"nonzero\" fill-opacity=\"1\" /><polyline clip-path=\"url(#clip162)\" style=\"stroke:#000000; stroke-linecap:round; stroke-linejoin:round; stroke-width:2; stroke-opacity:0.1; fill:none\" points=\"172.015,1447.87 2352.76,1447.87 \"/>\n",
       "<polyline clip-path=\"url(#clip162)\" style=\"stroke:#000000; stroke-linecap:round; stroke-linejoin:round; stroke-width:2; stroke-opacity:0.1; fill:none\" points=\"172.015,1163.4 2352.76,1163.4 \"/>\n",
       "<polyline clip-path=\"url(#clip162)\" style=\"stroke:#000000; stroke-linecap:round; stroke-linejoin:round; stroke-width:2; stroke-opacity:0.1; fill:none\" points=\"172.015,878.923 2352.76,878.923 \"/>\n",
       "<polyline clip-path=\"url(#clip162)\" style=\"stroke:#000000; stroke-linecap:round; stroke-linejoin:round; stroke-width:2; stroke-opacity:0.1; fill:none\" points=\"172.015,594.449 2352.76,594.449 \"/>\n",
       "<polyline clip-path=\"url(#clip162)\" style=\"stroke:#000000; stroke-linecap:round; stroke-linejoin:round; stroke-width:2; stroke-opacity:0.1; fill:none\" points=\"172.015,309.974 2352.76,309.974 \"/>\n",
       "<polyline clip-path=\"url(#clip160)\" style=\"stroke:#000000; stroke-linecap:round; stroke-linejoin:round; stroke-width:4; stroke-opacity:1; fill:none\" points=\"172.015,1486.45 172.015,123.472 \"/>\n",
       "<polyline clip-path=\"url(#clip160)\" style=\"stroke:#000000; stroke-linecap:round; stroke-linejoin:round; stroke-width:4; stroke-opacity:1; fill:none\" points=\"172.015,1447.87 190.912,1447.87 \"/>\n",
       "<polyline clip-path=\"url(#clip160)\" style=\"stroke:#000000; stroke-linecap:round; stroke-linejoin:round; stroke-width:4; stroke-opacity:1; fill:none\" points=\"172.015,1163.4 190.912,1163.4 \"/>\n",
       "<polyline clip-path=\"url(#clip160)\" style=\"stroke:#000000; stroke-linecap:round; stroke-linejoin:round; stroke-width:4; stroke-opacity:1; fill:none\" points=\"172.015,878.923 190.912,878.923 \"/>\n",
       "<polyline clip-path=\"url(#clip160)\" style=\"stroke:#000000; stroke-linecap:round; stroke-linejoin:round; stroke-width:4; stroke-opacity:1; fill:none\" points=\"172.015,594.449 190.912,594.449 \"/>\n",
       "<polyline clip-path=\"url(#clip160)\" style=\"stroke:#000000; stroke-linecap:round; stroke-linejoin:round; stroke-width:4; stroke-opacity:1; fill:none\" points=\"172.015,309.974 190.912,309.974 \"/>\n",
       "<path clip-path=\"url(#clip160)\" d=\"M124.07 1433.67 Q120.459 1433.67 118.631 1437.24 Q116.825 1440.78 116.825 1447.91 Q116.825 1455.01 118.631 1458.58 Q120.459 1462.12 124.07 1462.12 Q127.705 1462.12 129.51 1458.58 Q131.339 1455.01 131.339 1447.91 Q131.339 1440.78 129.51 1437.24 Q127.705 1433.67 124.07 1433.67 M124.07 1429.97 Q129.881 1429.97 132.936 1434.57 Q136.015 1439.16 136.015 1447.91 Q136.015 1456.63 132.936 1461.24 Q129.881 1465.82 124.07 1465.82 Q118.26 1465.82 115.182 1461.24 Q112.126 1456.63 112.126 1447.91 Q112.126 1439.16 115.182 1434.57 Q118.26 1429.97 124.07 1429.97 Z\" fill=\"#000000\" fill-rule=\"nonzero\" fill-opacity=\"1\" /><path clip-path=\"url(#clip160)\" d=\"M54.5569 1176.74 L62.1958 1176.74 L62.1958 1150.38 L53.8856 1152.04 L53.8856 1147.78 L62.1495 1146.12 L66.8254 1146.12 L66.8254 1176.74 L74.4642 1176.74 L74.4642 1180.68 L54.5569 1180.68 L54.5569 1176.74 Z\" fill=\"#000000\" fill-rule=\"nonzero\" fill-opacity=\"1\" /><path clip-path=\"url(#clip160)\" d=\"M93.9086 1149.2 Q90.2975 1149.2 88.4688 1152.76 Q86.6632 1156.3 86.6632 1163.43 Q86.6632 1170.54 88.4688 1174.1 Q90.2975 1177.65 93.9086 1177.65 Q97.5428 1177.65 99.3483 1174.1 Q101.177 1170.54 101.177 1163.43 Q101.177 1156.3 99.3483 1152.76 Q97.5428 1149.2 93.9086 1149.2 M93.9086 1145.49 Q99.7187 1145.49 102.774 1150.1 Q105.853 1154.68 105.853 1163.43 Q105.853 1172.16 102.774 1176.77 Q99.7187 1181.35 93.9086 1181.35 Q88.0984 1181.35 85.0197 1176.77 Q81.9642 1172.16 81.9642 1163.43 Q81.9642 1154.68 85.0197 1150.1 Q88.0984 1145.49 93.9086 1145.49 Z\" fill=\"#000000\" fill-rule=\"nonzero\" fill-opacity=\"1\" /><path clip-path=\"url(#clip160)\" d=\"M124.07 1149.2 Q120.459 1149.2 118.631 1152.76 Q116.825 1156.3 116.825 1163.43 Q116.825 1170.54 118.631 1174.1 Q120.459 1177.65 124.07 1177.65 Q127.705 1177.65 129.51 1174.1 Q131.339 1170.54 131.339 1163.43 Q131.339 1156.3 129.51 1152.76 Q127.705 1149.2 124.07 1149.2 M124.07 1145.49 Q129.881 1145.49 132.936 1150.1 Q136.015 1154.68 136.015 1163.43 Q136.015 1172.16 132.936 1176.77 Q129.881 1181.35 124.07 1181.35 Q118.26 1181.35 115.182 1176.77 Q112.126 1172.16 112.126 1163.43 Q112.126 1154.68 115.182 1150.1 Q118.26 1145.49 124.07 1145.49 Z\" fill=\"#000000\" fill-rule=\"nonzero\" fill-opacity=\"1\" /><path clip-path=\"url(#clip160)\" d=\"M57.7745 892.268 L74.0939 892.268 L74.0939 896.203 L52.1495 896.203 L52.1495 892.268 Q54.8115 889.514 59.3949 884.884 Q64.0013 880.231 65.1819 878.889 Q67.4272 876.366 68.3068 874.629 Q69.2096 872.87 69.2096 871.18 Q69.2096 868.426 67.2652 866.69 Q65.3439 864.954 62.2421 864.954 Q60.043 864.954 57.5893 865.718 Q55.1588 866.481 52.381 868.032 L52.381 863.31 Q55.2051 862.176 57.6588 861.597 Q60.1124 861.018 62.1495 861.018 Q67.5198 861.018 70.7142 863.704 Q73.9087 866.389 73.9087 870.88 Q73.9087 873.009 73.0985 874.93 Q72.3115 876.829 70.205 879.421 Q69.6263 880.092 66.5245 883.31 Q63.4226 886.504 57.7745 892.268 Z\" fill=\"#000000\" fill-rule=\"nonzero\" fill-opacity=\"1\" /><path clip-path=\"url(#clip160)\" d=\"M93.9086 864.722 Q90.2975 864.722 88.4688 868.287 Q86.6632 871.829 86.6632 878.958 Q86.6632 886.065 88.4688 889.629 Q90.2975 893.171 93.9086 893.171 Q97.5428 893.171 99.3483 889.629 Q101.177 886.065 101.177 878.958 Q101.177 871.829 99.3483 868.287 Q97.5428 864.722 93.9086 864.722 M93.9086 861.018 Q99.7187 861.018 102.774 865.625 Q105.853 870.208 105.853 878.958 Q105.853 887.685 102.774 892.291 Q99.7187 896.875 93.9086 896.875 Q88.0984 896.875 85.0197 892.291 Q81.9642 887.685 81.9642 878.958 Q81.9642 870.208 85.0197 865.625 Q88.0984 861.018 93.9086 861.018 Z\" fill=\"#000000\" fill-rule=\"nonzero\" fill-opacity=\"1\" /><path clip-path=\"url(#clip160)\" d=\"M124.07 864.722 Q120.459 864.722 118.631 868.287 Q116.825 871.829 116.825 878.958 Q116.825 886.065 118.631 889.629 Q120.459 893.171 124.07 893.171 Q127.705 893.171 129.51 889.629 Q131.339 886.065 131.339 878.958 Q131.339 871.829 129.51 868.287 Q127.705 864.722 124.07 864.722 M124.07 861.018 Q129.881 861.018 132.936 865.625 Q136.015 870.208 136.015 878.958 Q136.015 887.685 132.936 892.291 Q129.881 896.875 124.07 896.875 Q118.26 896.875 115.182 892.291 Q112.126 887.685 112.126 878.958 Q112.126 870.208 115.182 865.625 Q118.26 861.018 124.07 861.018 Z\" fill=\"#000000\" fill-rule=\"nonzero\" fill-opacity=\"1\" /><path clip-path=\"url(#clip160)\" d=\"M67.9133 593.094 Q71.2698 593.812 73.1448 596.081 Q75.0429 598.349 75.0429 601.682 Q75.0429 606.798 71.5244 609.599 Q68.0059 612.4 61.5245 612.4 Q59.3486 612.4 57.0338 611.96 Q54.7421 611.543 52.2884 610.687 L52.2884 606.173 Q54.2328 607.307 56.5477 607.886 Q58.8625 608.465 61.3856 608.465 Q65.7837 608.465 68.0754 606.729 Q70.3902 604.993 70.3902 601.682 Q70.3902 598.627 68.2374 596.914 Q66.1078 595.178 62.2884 595.178 L58.2606 595.178 L58.2606 591.335 L62.4735 591.335 Q65.9226 591.335 67.7513 589.969 Q69.58 588.581 69.58 585.988 Q69.58 583.326 67.6819 581.914 Q65.8069 580.479 62.2884 580.479 Q60.3671 580.479 58.168 580.895 Q55.969 581.312 53.3301 582.192 L53.3301 578.025 Q55.9921 577.284 58.3069 576.914 Q60.6449 576.544 62.705 576.544 Q68.0291 576.544 71.1309 578.974 Q74.2327 581.382 74.2327 585.502 Q74.2327 588.372 72.5892 590.363 Q70.9457 592.331 67.9133 593.094 Z\" fill=\"#000000\" fill-rule=\"nonzero\" fill-opacity=\"1\" /><path clip-path=\"url(#clip160)\" d=\"M93.9086 580.247 Q90.2975 580.247 88.4688 583.812 Q86.6632 587.354 86.6632 594.483 Q86.6632 601.59 88.4688 605.155 Q90.2975 608.696 93.9086 608.696 Q97.5428 608.696 99.3483 605.155 Q101.177 601.59 101.177 594.483 Q101.177 587.354 99.3483 583.812 Q97.5428 580.247 93.9086 580.247 M93.9086 576.544 Q99.7187 576.544 102.774 581.15 Q105.853 585.733 105.853 594.483 Q105.853 603.21 102.774 607.817 Q99.7187 612.4 93.9086 612.4 Q88.0984 612.4 85.0197 607.817 Q81.9642 603.21 81.9642 594.483 Q81.9642 585.733 85.0197 581.15 Q88.0984 576.544 93.9086 576.544 Z\" fill=\"#000000\" fill-rule=\"nonzero\" fill-opacity=\"1\" /><path clip-path=\"url(#clip160)\" d=\"M124.07 580.247 Q120.459 580.247 118.631 583.812 Q116.825 587.354 116.825 594.483 Q116.825 601.59 118.631 605.155 Q120.459 608.696 124.07 608.696 Q127.705 608.696 129.51 605.155 Q131.339 601.59 131.339 594.483 Q131.339 587.354 129.51 583.812 Q127.705 580.247 124.07 580.247 M124.07 576.544 Q129.881 576.544 132.936 581.15 Q136.015 585.733 136.015 594.483 Q136.015 603.21 132.936 607.817 Q129.881 612.4 124.07 612.4 Q118.26 612.4 115.182 607.817 Q112.126 603.21 112.126 594.483 Q112.126 585.733 115.182 581.15 Q118.26 576.544 124.07 576.544 Z\" fill=\"#000000\" fill-rule=\"nonzero\" fill-opacity=\"1\" /><path clip-path=\"url(#clip160)\" d=\"M66.5939 296.768 L54.7884 315.217 L66.5939 315.217 L66.5939 296.768 M65.367 292.694 L71.2466 292.694 L71.2466 315.217 L76.1772 315.217 L76.1772 319.106 L71.2466 319.106 L71.2466 327.254 L66.5939 327.254 L66.5939 319.106 L50.9921 319.106 L50.9921 314.592 L65.367 292.694 Z\" fill=\"#000000\" fill-rule=\"nonzero\" fill-opacity=\"1\" /><path clip-path=\"url(#clip160)\" d=\"M93.9086 295.773 Q90.2975 295.773 88.4688 299.337 Q86.6632 302.879 86.6632 310.009 Q86.6632 317.115 88.4688 320.68 Q90.2975 324.221 93.9086 324.221 Q97.5428 324.221 99.3483 320.68 Q101.177 317.115 101.177 310.009 Q101.177 302.879 99.3483 299.337 Q97.5428 295.773 93.9086 295.773 M93.9086 292.069 Q99.7187 292.069 102.774 296.675 Q105.853 301.259 105.853 310.009 Q105.853 318.735 102.774 323.342 Q99.7187 327.925 93.9086 327.925 Q88.0984 327.925 85.0197 323.342 Q81.9642 318.735 81.9642 310.009 Q81.9642 301.259 85.0197 296.675 Q88.0984 292.069 93.9086 292.069 Z\" fill=\"#000000\" fill-rule=\"nonzero\" fill-opacity=\"1\" /><path clip-path=\"url(#clip160)\" d=\"M124.07 295.773 Q120.459 295.773 118.631 299.337 Q116.825 302.879 116.825 310.009 Q116.825 317.115 118.631 320.68 Q120.459 324.221 124.07 324.221 Q127.705 324.221 129.51 320.68 Q131.339 317.115 131.339 310.009 Q131.339 302.879 129.51 299.337 Q127.705 295.773 124.07 295.773 M124.07 292.069 Q129.881 292.069 132.936 296.675 Q136.015 301.259 136.015 310.009 Q136.015 318.735 132.936 323.342 Q129.881 327.925 124.07 327.925 Q118.26 327.925 115.182 323.342 Q112.126 318.735 112.126 310.009 Q112.126 301.259 115.182 296.675 Q118.26 292.069 124.07 292.069 Z\" fill=\"#000000\" fill-rule=\"nonzero\" fill-opacity=\"1\" /><path clip-path=\"url(#clip160)\" d=\"M999.32 48.0275 L999.32 51.6733 L965.049 51.6733 Q965.535 59.3701 969.667 63.421 Q973.839 67.4314 981.253 67.4314 Q985.547 67.4314 989.557 66.3781 Q993.608 65.3249 997.578 63.2184 L997.578 70.267 Q993.567 71.9684 989.354 72.8596 Q985.141 73.7508 980.807 73.7508 Q969.951 73.7508 963.591 67.4314 Q957.271 61.1119 957.271 50.3365 Q957.271 39.1965 963.267 32.6746 Q969.302 26.1121 979.511 26.1121 Q988.666 26.1121 993.972 32.0264 Q999.32 37.9003 999.32 48.0275 M991.866 45.84 Q991.785 39.7232 988.423 36.0774 Q985.101 32.4315 979.592 32.4315 Q973.353 32.4315 969.586 35.9558 Q965.859 39.4801 965.292 45.8805 L991.866 45.84 Z\" fill=\"#000000\" fill-rule=\"nonzero\" fill-opacity=\"1\" /><path clip-path=\"url(#clip160)\" d=\"M1046.88 35.9153 Q1049.67 30.8922 1053.56 28.5022 Q1057.45 26.1121 1062.72 26.1121 Q1069.81 26.1121 1073.65 31.0947 Q1077.5 36.0368 1077.5 45.1919 L1077.5 72.576 L1070.01 72.576 L1070.01 45.4349 Q1070.01 38.913 1067.7 35.7533 Q1065.39 32.5936 1060.65 32.5936 Q1054.86 32.5936 1051.5 36.4419 Q1048.13 40.2903 1048.13 46.9338 L1048.13 72.576 L1040.64 72.576 L1040.64 45.4349 Q1040.64 38.8725 1038.33 35.7533 Q1036.02 32.5936 1031.2 32.5936 Q1025.49 32.5936 1022.13 36.4824 Q1018.76 40.3308 1018.76 46.9338 L1018.76 72.576 L1011.27 72.576 L1011.27 27.2059 L1018.76 27.2059 L1018.76 34.2544 Q1021.32 30.082 1024.88 28.0971 Q1028.45 26.1121 1033.35 26.1121 Q1038.29 26.1121 1041.73 28.6237 Q1045.22 31.1352 1046.88 35.9153 Z\" fill=\"#000000\" fill-rule=\"nonzero\" fill-opacity=\"1\" /><path clip-path=\"url(#clip160)\" d=\"M1099.58 65.7705 L1099.58 89.8329 L1092.09 89.8329 L1092.09 27.2059 L1099.58 27.2059 L1099.58 34.0924 Q1101.93 30.0415 1105.49 28.0971 Q1109.1 26.1121 1114.08 26.1121 Q1122.35 26.1121 1127.49 32.6746 Q1132.68 39.2371 1132.68 49.9314 Q1132.68 60.6258 1127.49 67.1883 Q1122.35 73.7508 1114.08 73.7508 Q1109.1 73.7508 1105.49 71.8063 Q1101.93 69.8214 1099.58 65.7705 M1124.94 49.9314 Q1124.94 41.7081 1121.54 37.0496 Q1118.17 32.3505 1112.26 32.3505 Q1106.34 32.3505 1102.94 37.0496 Q1099.58 41.7081 1099.58 49.9314 Q1099.58 58.1548 1102.94 62.8538 Q1106.34 67.5124 1112.26 67.5124 Q1118.17 67.5124 1121.54 62.8538 Q1124.94 58.1548 1124.94 49.9314 Z\" fill=\"#000000\" fill-rule=\"nonzero\" fill-opacity=\"1\" /><path clip-path=\"url(#clip160)\" d=\"M1145.03 9.54393 L1152.48 9.54393 L1152.48 72.576 L1145.03 72.576 L1145.03 9.54393 Z\" fill=\"#000000\" fill-rule=\"nonzero\" fill-opacity=\"1\" /><path clip-path=\"url(#clip160)\" d=\"M1185.66 32.4315 Q1179.67 32.4315 1176.18 37.1306 Q1172.7 41.7891 1172.7 49.9314 Q1172.7 58.0738 1176.14 62.7728 Q1179.63 67.4314 1185.66 67.4314 Q1191.62 67.4314 1195.1 62.7323 Q1198.58 58.0333 1198.58 49.9314 Q1198.58 41.8701 1195.1 37.1711 Q1191.62 32.4315 1185.66 32.4315 M1185.66 26.1121 Q1195.38 26.1121 1200.93 32.4315 Q1206.48 38.7509 1206.48 49.9314 Q1206.48 61.0714 1200.93 67.4314 Q1195.38 73.7508 1185.66 73.7508 Q1175.9 73.7508 1170.35 67.4314 Q1164.84 61.0714 1164.84 49.9314 Q1164.84 38.7509 1170.35 32.4315 Q1175.9 26.1121 1185.66 26.1121 Z\" fill=\"#000000\" fill-rule=\"nonzero\" fill-opacity=\"1\" /><path clip-path=\"url(#clip160)\" d=\"M1237.72 76.7889 Q1234.56 84.8907 1231.56 87.3618 Q1228.56 89.8329 1223.54 89.8329 L1217.58 89.8329 L1217.58 83.5945 L1221.96 83.5945 Q1225.04 83.5945 1226.74 82.1361 Q1228.44 80.6778 1230.5 75.2496 L1231.84 71.8468 L1213.49 27.2059 L1221.39 27.2059 L1235.57 62.6918 L1249.75 27.2059 L1257.65 27.2059 L1237.72 76.7889 Z\" fill=\"#000000\" fill-rule=\"nonzero\" fill-opacity=\"1\" /><path clip-path=\"url(#clip160)\" d=\"M1306.74 48.0275 L1306.74 51.6733 L1272.47 51.6733 Q1272.96 59.3701 1277.09 63.421 Q1281.26 67.4314 1288.68 67.4314 Q1292.97 67.4314 1296.98 66.3781 Q1301.03 65.3249 1305 63.2184 L1305 70.267 Q1300.99 71.9684 1296.78 72.8596 Q1292.56 73.7508 1288.23 73.7508 Q1277.37 73.7508 1271.01 67.4314 Q1264.69 61.1119 1264.69 50.3365 Q1264.69 39.1965 1270.69 32.6746 Q1276.73 26.1121 1286.93 26.1121 Q1296.09 26.1121 1301.4 32.0264 Q1306.74 37.9003 1306.74 48.0275 M1299.29 45.84 Q1299.21 39.7232 1295.85 36.0774 Q1292.52 32.4315 1287.01 32.4315 Q1280.78 32.4315 1277.01 35.9558 Q1273.28 39.4801 1272.72 45.8805 L1299.29 45.84 Z\" fill=\"#000000\" fill-rule=\"nonzero\" fill-opacity=\"1\" /><path clip-path=\"url(#clip160)\" d=\"M1357.78 48.0275 L1357.78 51.6733 L1323.51 51.6733 Q1324 59.3701 1328.13 63.421 Q1332.3 67.4314 1339.72 67.4314 Q1344.01 67.4314 1348.02 66.3781 Q1352.07 65.3249 1356.04 63.2184 L1356.04 70.267 Q1352.03 71.9684 1347.82 72.8596 Q1343.61 73.7508 1339.27 73.7508 Q1328.42 73.7508 1322.06 67.4314 Q1315.74 61.1119 1315.74 50.3365 Q1315.74 39.1965 1321.73 32.6746 Q1327.77 26.1121 1337.98 26.1121 Q1347.13 26.1121 1352.44 32.0264 Q1357.78 37.9003 1357.78 48.0275 M1350.33 45.84 Q1350.25 39.7232 1346.89 36.0774 Q1343.57 32.4315 1338.06 32.4315 Q1331.82 32.4315 1328.05 35.9558 Q1324.32 39.4801 1323.76 45.8805 L1350.33 45.84 Z\" fill=\"#000000\" fill-rule=\"nonzero\" fill-opacity=\"1\" /><path clip-path=\"url(#clip160)\" d=\"M1434.1 45.1919 L1434.1 72.576 L1426.65 72.576 L1426.65 45.4349 Q1426.65 38.994 1424.14 35.7938 Q1421.63 32.5936 1416.6 32.5936 Q1410.57 32.5936 1407.08 36.4419 Q1403.6 40.2903 1403.6 46.9338 L1403.6 72.576 L1396.11 72.576 L1396.11 27.2059 L1403.6 27.2059 L1403.6 34.2544 Q1406.27 30.163 1409.88 28.1376 Q1413.52 26.1121 1418.26 26.1121 Q1426.08 26.1121 1430.09 30.9732 Q1434.1 35.7938 1434.1 45.1919 Z\" fill=\"#000000\" fill-rule=\"nonzero\" fill-opacity=\"1\" /><path clip-path=\"url(#clip160)\" d=\"M1448.2 54.671 L1448.2 27.2059 L1455.65 27.2059 L1455.65 54.3874 Q1455.65 60.8284 1458.17 64.0691 Q1460.68 67.2693 1465.7 67.2693 Q1471.74 67.2693 1475.22 63.421 Q1478.74 59.5726 1478.74 52.9291 L1478.74 27.2059 L1486.2 27.2059 L1486.2 72.576 L1478.74 72.576 L1478.74 65.6084 Q1476.03 69.7404 1472.42 71.7658 Q1468.86 73.7508 1464.12 73.7508 Q1456.3 73.7508 1452.25 68.8897 Q1448.2 64.0286 1448.2 54.671 M1466.96 26.1121 L1466.96 26.1121 Z\" fill=\"#000000\" fill-rule=\"nonzero\" fill-opacity=\"1\" /><path clip-path=\"url(#clip160)\" d=\"M1536.87 35.9153 Q1539.67 30.8922 1543.56 28.5022 Q1547.45 26.1121 1552.71 26.1121 Q1559.8 26.1121 1563.65 31.0947 Q1567.5 36.0368 1567.5 45.1919 L1567.5 72.576 L1560.01 72.576 L1560.01 45.4349 Q1560.01 38.913 1557.7 35.7533 Q1555.39 32.5936 1550.65 32.5936 Q1544.85 32.5936 1541.49 36.4419 Q1538.13 40.2903 1538.13 46.9338 L1538.13 72.576 L1530.64 72.576 L1530.64 45.4349 Q1530.64 38.8725 1528.33 35.7533 Q1526.02 32.5936 1521.2 32.5936 Q1515.49 32.5936 1512.12 36.4824 Q1508.76 40.3308 1508.76 46.9338 L1508.76 72.576 L1501.27 72.576 L1501.27 27.2059 L1508.76 27.2059 L1508.76 34.2544 Q1511.31 30.082 1514.88 28.0971 Q1518.44 26.1121 1523.34 26.1121 Q1528.29 26.1121 1531.73 28.6237 Q1535.21 31.1352 1536.87 35.9153 Z\" fill=\"#000000\" fill-rule=\"nonzero\" fill-opacity=\"1\" /><path clip-path=\"url(#clip162)\" d=\"M291.959 162.047 L291.959 1447.87 L384.381 1447.87 L384.381 162.047 L291.959 162.047 L291.959 162.047  Z\" fill=\"#009af9\" fill-rule=\"evenodd\" fill-opacity=\"1\"/>\n",
       "<polyline clip-path=\"url(#clip162)\" style=\"stroke:#000000; stroke-linecap:round; stroke-linejoin:round; stroke-width:4; stroke-opacity:1; fill:none\" points=\"291.959,162.047 291.959,1447.87 384.381,1447.87 384.381,162.047 291.959,162.047 \"/>\n",
       "<path clip-path=\"url(#clip162)\" d=\"M384.381 625.741 L384.381 1447.87 L476.802 1447.87 L476.802 625.741 L384.381 625.741 L384.381 625.741  Z\" fill=\"#009af9\" fill-rule=\"evenodd\" fill-opacity=\"1\"/>\n",
       "<polyline clip-path=\"url(#clip162)\" style=\"stroke:#000000; stroke-linecap:round; stroke-linejoin:round; stroke-width:4; stroke-opacity:1; fill:none\" points=\"384.381,625.741 384.381,1447.87 476.802,1447.87 476.802,625.741 384.381,625.741 \"/>\n",
       "<path clip-path=\"url(#clip162)\" d=\"M476.802 1447.87 L476.802 1447.87 L569.224 1447.87 L569.224 1447.87 L476.802 1447.87 L476.802 1447.87  Z\" fill=\"#009af9\" fill-rule=\"evenodd\" fill-opacity=\"1\"/>\n",
       "<polyline clip-path=\"url(#clip162)\" style=\"stroke:#000000; stroke-linecap:round; stroke-linejoin:round; stroke-width:4; stroke-opacity:1; fill:none\" points=\"476.802,1447.87 476.802,1447.87 569.224,1447.87 476.802,1447.87 \"/>\n",
       "<path clip-path=\"url(#clip162)\" d=\"M569.224 1447.87 L569.224 1447.87 L661.646 1447.87 L661.646 1447.87 L569.224 1447.87 L569.224 1447.87  Z\" fill=\"#009af9\" fill-rule=\"evenodd\" fill-opacity=\"1\"/>\n",
       "<polyline clip-path=\"url(#clip162)\" style=\"stroke:#000000; stroke-linecap:round; stroke-linejoin:round; stroke-width:4; stroke-opacity:1; fill:none\" points=\"569.224,1447.87 569.224,1447.87 661.646,1447.87 569.224,1447.87 \"/>\n",
       "<path clip-path=\"url(#clip162)\" d=\"M661.646 1447.87 L661.646 1447.87 L754.067 1447.87 L754.067 1447.87 L661.646 1447.87 L661.646 1447.87  Z\" fill=\"#009af9\" fill-rule=\"evenodd\" fill-opacity=\"1\"/>\n",
       "<polyline clip-path=\"url(#clip162)\" style=\"stroke:#000000; stroke-linecap:round; stroke-linejoin:round; stroke-width:4; stroke-opacity:1; fill:none\" points=\"661.646,1447.87 661.646,1447.87 754.067,1447.87 661.646,1447.87 \"/>\n",
       "<path clip-path=\"url(#clip162)\" d=\"M754.067 1447.87 L754.067 1447.87 L846.489 1447.87 L846.489 1447.87 L754.067 1447.87 L754.067 1447.87  Z\" fill=\"#009af9\" fill-rule=\"evenodd\" fill-opacity=\"1\"/>\n",
       "<polyline clip-path=\"url(#clip162)\" style=\"stroke:#000000; stroke-linecap:round; stroke-linejoin:round; stroke-width:4; stroke-opacity:1; fill:none\" points=\"754.067,1447.87 754.067,1447.87 846.489,1447.87 754.067,1447.87 \"/>\n",
       "<path clip-path=\"url(#clip162)\" d=\"M846.489 947.197 L846.489 1447.87 L938.91 1447.87 L938.91 947.197 L846.489 947.197 L846.489 947.197  Z\" fill=\"#009af9\" fill-rule=\"evenodd\" fill-opacity=\"1\"/>\n",
       "<polyline clip-path=\"url(#clip162)\" style=\"stroke:#000000; stroke-linecap:round; stroke-linejoin:round; stroke-width:4; stroke-opacity:1; fill:none\" points=\"846.489,947.197 846.489,1447.87 938.91,1447.87 938.91,947.197 846.489,947.197 \"/>\n",
       "<path clip-path=\"url(#clip162)\" d=\"M938.91 1447.87 L938.91 1447.87 L1031.33 1447.87 L1031.33 1447.87 L938.91 1447.87 L938.91 1447.87  Z\" fill=\"#009af9\" fill-rule=\"evenodd\" fill-opacity=\"1\"/>\n",
       "<polyline clip-path=\"url(#clip162)\" style=\"stroke:#000000; stroke-linecap:round; stroke-linejoin:round; stroke-width:4; stroke-opacity:1; fill:none\" points=\"938.91,1447.87 938.91,1447.87 1031.33,1447.87 938.91,1447.87 \"/>\n",
       "<path clip-path=\"url(#clip162)\" d=\"M1031.33 1447.87 L1031.33 1447.87 L1123.75 1447.87 L1123.75 1447.87 L1031.33 1447.87 L1031.33 1447.87  Z\" fill=\"#009af9\" fill-rule=\"evenodd\" fill-opacity=\"1\"/>\n",
       "<polyline clip-path=\"url(#clip162)\" style=\"stroke:#000000; stroke-linecap:round; stroke-linejoin:round; stroke-width:4; stroke-opacity:1; fill:none\" points=\"1031.33,1447.87 1031.33,1447.87 1123.75,1447.87 1031.33,1447.87 \"/>\n",
       "<path clip-path=\"url(#clip162)\" d=\"M1123.75 1447.87 L1123.75 1447.87 L1216.17 1447.87 L1216.17 1447.87 L1123.75 1447.87 L1123.75 1447.87  Z\" fill=\"#009af9\" fill-rule=\"evenodd\" fill-opacity=\"1\"/>\n",
       "<polyline clip-path=\"url(#clip162)\" style=\"stroke:#000000; stroke-linecap:round; stroke-linejoin:round; stroke-width:4; stroke-opacity:1; fill:none\" points=\"1123.75,1447.87 1123.75,1447.87 1216.17,1447.87 1123.75,1447.87 \"/>\n",
       "<path clip-path=\"url(#clip162)\" d=\"M1216.17 1447.87 L1216.17 1447.87 L1308.6 1447.87 L1308.6 1447.87 L1216.17 1447.87 L1216.17 1447.87  Z\" fill=\"#009af9\" fill-rule=\"evenodd\" fill-opacity=\"1\"/>\n",
       "<polyline clip-path=\"url(#clip162)\" style=\"stroke:#000000; stroke-linecap:round; stroke-linejoin:round; stroke-width:4; stroke-opacity:1; fill:none\" points=\"1216.17,1447.87 1216.17,1447.87 1308.6,1447.87 1216.17,1447.87 \"/>\n",
       "<path clip-path=\"url(#clip162)\" d=\"M1308.6 1447.87 L1308.6 1447.87 L1401.02 1447.87 L1401.02 1447.87 L1308.6 1447.87 L1308.6 1447.87  Z\" fill=\"#009af9\" fill-rule=\"evenodd\" fill-opacity=\"1\"/>\n",
       "<polyline clip-path=\"url(#clip162)\" style=\"stroke:#000000; stroke-linecap:round; stroke-linejoin:round; stroke-width:4; stroke-opacity:1; fill:none\" points=\"1308.6,1447.87 1308.6,1447.87 1401.02,1447.87 1308.6,1447.87 \"/>\n",
       "<path clip-path=\"url(#clip162)\" d=\"M1401.02 1447.87 L1401.02 1447.87 L1493.44 1447.87 L1493.44 1447.87 L1401.02 1447.87 L1401.02 1447.87  Z\" fill=\"#009af9\" fill-rule=\"evenodd\" fill-opacity=\"1\"/>\n",
       "<polyline clip-path=\"url(#clip162)\" style=\"stroke:#000000; stroke-linecap:round; stroke-linejoin:round; stroke-width:4; stroke-opacity:1; fill:none\" points=\"1401.02,1447.87 1401.02,1447.87 1493.44,1447.87 1401.02,1447.87 \"/>\n",
       "<path clip-path=\"url(#clip162)\" d=\"M1493.44 1447.87 L1493.44 1447.87 L1585.86 1447.87 L1585.86 1447.87 L1493.44 1447.87 L1493.44 1447.87  Z\" fill=\"#009af9\" fill-rule=\"evenodd\" fill-opacity=\"1\"/>\n",
       "<polyline clip-path=\"url(#clip162)\" style=\"stroke:#000000; stroke-linecap:round; stroke-linejoin:round; stroke-width:4; stroke-opacity:1; fill:none\" points=\"1493.44,1447.87 1493.44,1447.87 1585.86,1447.87 1493.44,1447.87 \"/>\n",
       "<path clip-path=\"url(#clip162)\" d=\"M1585.86 1447.87 L1585.86 1447.87 L1678.28 1447.87 L1678.28 1447.87 L1585.86 1447.87 L1585.86 1447.87  Z\" fill=\"#009af9\" fill-rule=\"evenodd\" fill-opacity=\"1\"/>\n",
       "<polyline clip-path=\"url(#clip162)\" style=\"stroke:#000000; stroke-linecap:round; stroke-linejoin:round; stroke-width:4; stroke-opacity:1; fill:none\" points=\"1585.86,1447.87 1585.86,1447.87 1678.28,1447.87 1585.86,1447.87 \"/>\n",
       "<path clip-path=\"url(#clip162)\" d=\"M1678.28 1277.19 L1678.28 1447.87 L1770.7 1447.87 L1770.7 1277.19 L1678.28 1277.19 L1678.28 1277.19  Z\" fill=\"#009af9\" fill-rule=\"evenodd\" fill-opacity=\"1\"/>\n",
       "<polyline clip-path=\"url(#clip162)\" style=\"stroke:#000000; stroke-linecap:round; stroke-linejoin:round; stroke-width:4; stroke-opacity:1; fill:none\" points=\"1678.28,1277.19 1678.28,1447.87 1770.7,1447.87 1770.7,1277.19 1678.28,1277.19 \"/>\n",
       "<path clip-path=\"url(#clip162)\" d=\"M1770.7 1447.87 L1770.7 1447.87 L1863.13 1447.87 L1863.13 1447.87 L1770.7 1447.87 L1770.7 1447.87  Z\" fill=\"#009af9\" fill-rule=\"evenodd\" fill-opacity=\"1\"/>\n",
       "<polyline clip-path=\"url(#clip162)\" style=\"stroke:#000000; stroke-linecap:round; stroke-linejoin:round; stroke-width:4; stroke-opacity:1; fill:none\" points=\"1770.7,1447.87 1770.7,1447.87 1863.13,1447.87 1770.7,1447.87 \"/>\n",
       "<path clip-path=\"url(#clip162)\" d=\"M1863.13 1447.87 L1863.13 1447.87 L1955.55 1447.87 L1955.55 1447.87 L1863.13 1447.87 L1863.13 1447.87  Z\" fill=\"#009af9\" fill-rule=\"evenodd\" fill-opacity=\"1\"/>\n",
       "<polyline clip-path=\"url(#clip162)\" style=\"stroke:#000000; stroke-linecap:round; stroke-linejoin:round; stroke-width:4; stroke-opacity:1; fill:none\" points=\"1863.13,1447.87 1863.13,1447.87 1955.55,1447.87 1863.13,1447.87 \"/>\n",
       "<path clip-path=\"url(#clip162)\" d=\"M1955.55 1447.87 L1955.55 1447.87 L2047.97 1447.87 L2047.97 1447.87 L1955.55 1447.87 L1955.55 1447.87  Z\" fill=\"#009af9\" fill-rule=\"evenodd\" fill-opacity=\"1\"/>\n",
       "<polyline clip-path=\"url(#clip162)\" style=\"stroke:#000000; stroke-linecap:round; stroke-linejoin:round; stroke-width:4; stroke-opacity:1; fill:none\" points=\"1955.55,1447.87 1955.55,1447.87 2047.97,1447.87 1955.55,1447.87 \"/>\n",
       "<path clip-path=\"url(#clip162)\" d=\"M2047.97 1447.87 L2047.97 1447.87 L2140.39 1447.87 L2140.39 1447.87 L2047.97 1447.87 L2047.97 1447.87  Z\" fill=\"#009af9\" fill-rule=\"evenodd\" fill-opacity=\"1\"/>\n",
       "<polyline clip-path=\"url(#clip162)\" style=\"stroke:#000000; stroke-linecap:round; stroke-linejoin:round; stroke-width:4; stroke-opacity:1; fill:none\" points=\"2047.97,1447.87 2047.97,1447.87 2140.39,1447.87 2047.97,1447.87 \"/>\n",
       "<path clip-path=\"url(#clip162)\" d=\"M2140.39 645.654 L2140.39 1447.87 L2232.81 1447.87 L2232.81 645.654 L2140.39 645.654 L2140.39 645.654  Z\" fill=\"#009af9\" fill-rule=\"evenodd\" fill-opacity=\"1\"/>\n",
       "<polyline clip-path=\"url(#clip162)\" style=\"stroke:#000000; stroke-linecap:round; stroke-linejoin:round; stroke-width:4; stroke-opacity:1; fill:none\" points=\"2140.39,645.654 2140.39,1447.87 2232.81,1447.87 2232.81,645.654 2140.39,645.654 \"/>\n",
       "<circle clip-path=\"url(#clip162)\" style=\"fill:#009af9; stroke:none; fill-opacity:0\" cx=\"338.17\" cy=\"162.047\" r=\"2\"/>\n",
       "<circle clip-path=\"url(#clip162)\" style=\"fill:#009af9; stroke:none; fill-opacity:0\" cx=\"430.592\" cy=\"625.741\" r=\"2\"/>\n",
       "<circle clip-path=\"url(#clip162)\" style=\"fill:#009af9; stroke:none; fill-opacity:0\" cx=\"523.013\" cy=\"1447.87\" r=\"2\"/>\n",
       "<circle clip-path=\"url(#clip162)\" style=\"fill:#009af9; stroke:none; fill-opacity:0\" cx=\"615.435\" cy=\"1447.87\" r=\"2\"/>\n",
       "<circle clip-path=\"url(#clip162)\" style=\"fill:#009af9; stroke:none; fill-opacity:0\" cx=\"707.856\" cy=\"1447.87\" r=\"2\"/>\n",
       "<circle clip-path=\"url(#clip162)\" style=\"fill:#009af9; stroke:none; fill-opacity:0\" cx=\"800.278\" cy=\"1447.87\" r=\"2\"/>\n",
       "<circle clip-path=\"url(#clip162)\" style=\"fill:#009af9; stroke:none; fill-opacity:0\" cx=\"892.699\" cy=\"947.197\" r=\"2\"/>\n",
       "<circle clip-path=\"url(#clip162)\" style=\"fill:#009af9; stroke:none; fill-opacity:0\" cx=\"985.121\" cy=\"1447.87\" r=\"2\"/>\n",
       "<circle clip-path=\"url(#clip162)\" style=\"fill:#009af9; stroke:none; fill-opacity:0\" cx=\"1077.54\" cy=\"1447.87\" r=\"2\"/>\n",
       "<circle clip-path=\"url(#clip162)\" style=\"fill:#009af9; stroke:none; fill-opacity:0\" cx=\"1169.96\" cy=\"1447.87\" r=\"2\"/>\n",
       "<circle clip-path=\"url(#clip162)\" style=\"fill:#009af9; stroke:none; fill-opacity:0\" cx=\"1262.39\" cy=\"1447.87\" r=\"2\"/>\n",
       "<circle clip-path=\"url(#clip162)\" style=\"fill:#009af9; stroke:none; fill-opacity:0\" cx=\"1354.81\" cy=\"1447.87\" r=\"2\"/>\n",
       "<circle clip-path=\"url(#clip162)\" style=\"fill:#009af9; stroke:none; fill-opacity:0\" cx=\"1447.23\" cy=\"1447.87\" r=\"2\"/>\n",
       "<circle clip-path=\"url(#clip162)\" style=\"fill:#009af9; stroke:none; fill-opacity:0\" cx=\"1539.65\" cy=\"1447.87\" r=\"2\"/>\n",
       "<circle clip-path=\"url(#clip162)\" style=\"fill:#009af9; stroke:none; fill-opacity:0\" cx=\"1632.07\" cy=\"1447.87\" r=\"2\"/>\n",
       "<circle clip-path=\"url(#clip162)\" style=\"fill:#009af9; stroke:none; fill-opacity:0\" cx=\"1724.49\" cy=\"1277.19\" r=\"2\"/>\n",
       "<circle clip-path=\"url(#clip162)\" style=\"fill:#009af9; stroke:none; fill-opacity:0\" cx=\"1816.91\" cy=\"1447.87\" r=\"2\"/>\n",
       "<circle clip-path=\"url(#clip162)\" style=\"fill:#009af9; stroke:none; fill-opacity:0\" cx=\"1909.34\" cy=\"1447.87\" r=\"2\"/>\n",
       "<circle clip-path=\"url(#clip162)\" style=\"fill:#009af9; stroke:none; fill-opacity:0\" cx=\"2001.76\" cy=\"1447.87\" r=\"2\"/>\n",
       "<circle clip-path=\"url(#clip162)\" style=\"fill:#009af9; stroke:none; fill-opacity:0\" cx=\"2094.18\" cy=\"1447.87\" r=\"2\"/>\n",
       "<circle clip-path=\"url(#clip162)\" style=\"fill:#009af9; stroke:none; fill-opacity:0\" cx=\"2186.6\" cy=\"645.654\" r=\"2\"/>\n",
       "<path clip-path=\"url(#clip160)\" d=\"M2009.56 272.585 L2280.06 272.585 L2280.06 168.905 L2009.56 168.905  Z\" fill=\"#ffffff\" fill-rule=\"evenodd\" fill-opacity=\"1\"/>\n",
       "<polyline clip-path=\"url(#clip160)\" style=\"stroke:#000000; stroke-linecap:round; stroke-linejoin:round; stroke-width:4; stroke-opacity:1; fill:none\" points=\"2009.56,272.585 2280.06,272.585 2280.06,168.905 2009.56,168.905 2009.56,272.585 \"/>\n",
       "<path clip-path=\"url(#clip160)\" d=\"M2033.79 241.481 L2179.17 241.481 L2179.17 200.009 L2033.79 200.009 L2033.79 241.481  Z\" fill=\"#009af9\" fill-rule=\"evenodd\" fill-opacity=\"1\"/>\n",
       "<polyline clip-path=\"url(#clip160)\" style=\"stroke:#000000; stroke-linecap:round; stroke-linejoin:round; stroke-width:4; stroke-opacity:1; fill:none\" points=\"2033.79,241.481 2179.17,241.481 2179.17,200.009 2033.79,200.009 2033.79,241.481 \"/>\n",
       "<path clip-path=\"url(#clip160)\" d=\"M2217.25 240.432 Q2215.44 245.062 2213.73 246.474 Q2212.01 247.886 2209.14 247.886 L2205.74 247.886 L2205.74 244.321 L2208.24 244.321 Q2210 244.321 2210.97 243.488 Q2211.95 242.654 2213.13 239.552 L2213.89 237.608 L2203.4 212.099 L2207.92 212.099 L2216.02 232.377 L2224.12 212.099 L2228.64 212.099 L2217.25 240.432 Z\" fill=\"#000000\" fill-rule=\"nonzero\" fill-opacity=\"1\" /><path clip-path=\"url(#clip160)\" d=\"M2235.93 234.089 L2243.57 234.089 L2243.57 207.724 L2235.26 209.391 L2235.26 205.131 L2243.52 203.465 L2248.2 203.465 L2248.2 234.089 L2255.83 234.089 L2255.83 238.025 L2235.93 238.025 L2235.93 234.089 Z\" fill=\"#000000\" fill-rule=\"nonzero\" fill-opacity=\"1\" /></svg>\n"
      ]
     },
     "execution_count": 113,
     "metadata": {},
     "output_type": "execute_result"
    }
   ],
   "source": [
    "plot( emp_num , seriestype=\"histogram\" , bins=20, title=\"employee num\" )"
   ]
  },
  {
   "cell_type": "code",
   "execution_count": null,
   "id": "06db3b91-9343-45db-a2e9-069c5f88172c",
   "metadata": {},
   "outputs": [],
   "source": []
  },
  {
   "cell_type": "code",
   "execution_count": null,
   "id": "3fcfb4bf-2523-4b73-851b-86ec8c60d056",
   "metadata": {},
   "outputs": [],
   "source": []
  },
  {
   "cell_type": "code",
   "execution_count": 114,
   "id": "a6b96c2f-0fd9-41c6-8744-2e8e2623a6ba",
   "metadata": {},
   "outputs": [
    {
     "data": {
      "text/html": [
       "<div><div style = \"float: left;\"><span>DataFrameRow (27 columns)</span></div><div style = \"clear: both;\"></div></div><div class = \"data-frame\" style = \"overflow-x: scroll;\"><table class = \"data-frame\" style = \"margin-bottom: 6px;\"><thead><tr class = \"header\"><th class = \"rowLabel\" style = \"font-weight: bold; text-align: right;\">Row</th><th style = \"text-align: left;\">Timestamp</th><th style = \"text-align: left;\">Age</th><th style = \"text-align: left;\">Gender</th><th style = \"text-align: left;\">Country</th><th style = \"text-align: left;\">state</th><th style = \"text-align: left;\">self_employed</th><th style = \"text-align: left;\">family_history</th><th style = \"text-align: left;\">treatment</th><th style = \"text-align: left;\">work_interfere</th><th style = \"text-align: left;\">no_employees</th><th style = \"text-align: left;\">remote_work</th><th style = \"text-align: left;\">tech_company</th><th style = \"text-align: left;\">benefits</th><th style = \"text-align: left;\">care_options</th><th style = \"text-align: left;\">wellness_program</th><th style = \"text-align: left;\">seek_help</th><th style = \"text-align: left;\">anonymity</th><th style = \"text-align: left;\">leave</th><th style = \"text-align: left;\">mental_health_consequence</th><th style = \"text-align: left;\">phys_health_consequence</th><th style = \"text-align: left;\">coworkers</th><th style = \"text-align: left;\">supervisor</th><th style = \"text-align: left;\">mental_health_interview</th><th style = \"text-align: left;\">phys_health_interview</th><th style = \"text-align: left;\">mental_vs_physical</th><th style = \"text-align: left;\">obs_consequence</th><th style = \"text-align: left;\">comments</th></tr><tr class = \"subheader headerLastRow\"><th class = \"rowLabel\" style = \"font-weight: bold; text-align: right;\"></th><th title = \"String31\" style = \"text-align: left;\">String31</th><th title = \"Int64\" style = \"text-align: left;\">Int64</th><th title = \"String\" style = \"text-align: left;\">String</th><th title = \"String31\" style = \"text-align: left;\">String31</th><th title = \"String3\" style = \"text-align: left;\">String3</th><th title = \"String3\" style = \"text-align: left;\">String3</th><th title = \"String3\" style = \"text-align: left;\">String3</th><th title = \"String3\" style = \"text-align: left;\">String3</th><th title = \"String15\" style = \"text-align: left;\">String15</th><th title = \"String15\" style = \"text-align: left;\">String15</th><th title = \"String3\" style = \"text-align: left;\">String3</th><th title = \"String3\" style = \"text-align: left;\">String3</th><th title = \"String15\" style = \"text-align: left;\">String15</th><th title = \"String15\" style = \"text-align: left;\">String15</th><th title = \"String15\" style = \"text-align: left;\">String15</th><th title = \"String15\" style = \"text-align: left;\">String15</th><th title = \"String15\" style = \"text-align: left;\">String15</th><th title = \"String31\" style = \"text-align: left;\">String31</th><th title = \"String7\" style = \"text-align: left;\">String7</th><th title = \"String7\" style = \"text-align: left;\">String7</th><th title = \"String15\" style = \"text-align: left;\">String15</th><th title = \"String15\" style = \"text-align: left;\">String15</th><th title = \"String7\" style = \"text-align: left;\">String7</th><th title = \"String7\" style = \"text-align: left;\">String7</th><th title = \"String15\" style = \"text-align: left;\">String15</th><th title = \"String3\" style = \"text-align: left;\">String3</th><th title = \"String\" style = \"text-align: left;\">String</th></tr></thead><tbody><tr><td class = \"rowLabel\" style = \"font-weight: bold; text-align: right;\">1</td><td style = \"text-align: left;\">2014-08-27 11:29:31</td><td style = \"text-align: right;\">37</td><td style = \"text-align: left;\">Female</td><td style = \"text-align: left;\">United States</td><td style = \"text-align: left;\">IL</td><td style = \"text-align: left;\">NA</td><td style = \"text-align: left;\">No</td><td style = \"text-align: left;\">Yes</td><td style = \"text-align: left;\">Often</td><td style = \"text-align: left;\">6-25</td><td style = \"text-align: left;\">No</td><td style = \"text-align: left;\">Yes</td><td style = \"text-align: left;\">Yes</td><td style = \"text-align: left;\">Not sure</td><td style = \"text-align: left;\">No</td><td style = \"text-align: left;\">Yes</td><td style = \"text-align: left;\">Yes</td><td style = \"text-align: left;\">Somewhat easy</td><td style = \"text-align: left;\">No</td><td style = \"text-align: left;\">No</td><td style = \"text-align: left;\">Some of them</td><td style = \"text-align: left;\">Yes</td><td style = \"text-align: left;\">No</td><td style = \"text-align: left;\">Maybe</td><td style = \"text-align: left;\">Yes</td><td style = \"text-align: left;\">No</td><td style = \"text-align: left;\">NA</td></tr></tbody></table></div>"
      ],
      "text/latex": [
       "\\begin{tabular}{r|cccccccc}\n",
       "\t& Timestamp & Age & Gender & Country & state & self\\_employed & family\\_history & \\\\\n",
       "\t\\hline\n",
       "\t& String31 & Int64 & String & String31 & String3 & String3 & String3 & \\\\\n",
       "\t\\hline\n",
       "\t1 & 2014-08-27 11:29:31 & 37 & Female & United States & IL & NA & No & $\\dots$ \\\\\n",
       "\\end{tabular}\n"
      ],
      "text/plain": [
       "\u001b[1mDataFrameRow\u001b[0m\n",
       "\u001b[1m Row \u001b[0m│\u001b[1m Timestamp           \u001b[0m\u001b[1m Age   \u001b[0m\u001b[1m Gender \u001b[0m\u001b[1m Country       \u001b[0m\u001b[1m state   \u001b[0m\u001b[1m self_employ\u001b[0m ⋯\n",
       "     │\u001b[90m String31            \u001b[0m\u001b[90m Int64 \u001b[0m\u001b[90m String \u001b[0m\u001b[90m String31      \u001b[0m\u001b[90m String3 \u001b[0m\u001b[90m String3    \u001b[0m ⋯\n",
       "─────┼──────────────────────────────────────────────────────────────────────────\n",
       "   1 │ 2014-08-27 11:29:31     37  Female  United States  IL       NA          ⋯\n",
       "\u001b[36m                                                              22 columns omitted\u001b[0m"
      ]
     },
     "execution_count": 114,
     "metadata": {},
     "output_type": "execute_result"
    }
   ],
   "source": [
    "df_2014[1,:]"
   ]
  },
  {
   "cell_type": "code",
   "execution_count": 116,
   "id": "e769b1c4-6810-4898-9b52-88b2e835cb75",
   "metadata": {},
   "outputs": [
    {
     "data": {
      "text/plain": [
       "3-element PooledArrays.PooledVector{String3, UInt32, Vector{UInt32}}:\n",
       " \"NA\"\n",
       " \"NA\"\n",
       " \"NA\""
      ]
     },
     "execution_count": 116,
     "metadata": {},
     "output_type": "execute_result"
    }
   ],
   "source": [
    "df_2014[1:3,:self_employed]"
   ]
  },
  {
   "cell_type": "code",
   "execution_count": 118,
   "id": "e5390bf2-1c44-4507-868b-0786ad8b1469",
   "metadata": {},
   "outputs": [
    {
     "data": {
      "text/plain": [
       "3-element PooledArrays.PooledVector{String31, UInt32, Vector{UInt32}}:\n",
       " \"Somewhat easy\"\n",
       " \"Don't know\"\n",
       " \"Somewhat difficult\""
      ]
     },
     "execution_count": 118,
     "metadata": {},
     "output_type": "execute_result"
    }
   ],
   "source": [
    "df_2014[1:3,:leave]"
   ]
  },
  {
   "cell_type": "code",
   "execution_count": 119,
   "id": "558025e3-e6b5-49df-b11f-c7bf82db6b45",
   "metadata": {},
   "outputs": [
    {
     "data": {
      "text/plain": [
       "3-element Vector{String3}:\n",
       " \"NA\"\n",
       " \"Yes\"\n",
       " \"No\""
      ]
     },
     "execution_count": 119,
     "metadata": {},
     "output_type": "execute_result"
    }
   ],
   "source": [
    "unique( df_2014[:,:self_employed] )"
   ]
  },
  {
   "cell_type": "code",
   "execution_count": 121,
   "id": "4a960fa5-3c69-4d6b-b66c-6bad08a9a55d",
   "metadata": {},
   "outputs": [
    {
     "data": {
      "text/plain": [
       "5-element Vector{String31}:\n",
       " \"Somewhat easy\"\n",
       " \"Don't know\"\n",
       " \"Somewhat difficult\"\n",
       " \"Very difficult\"\n",
       " \"Very easy\""
      ]
     },
     "execution_count": 121,
     "metadata": {},
     "output_type": "execute_result"
    }
   ],
   "source": [
    "unique( df_2014[:,:leave] )"
   ]
  },
  {
   "cell_type": "code",
   "execution_count": 125,
   "id": "163518b1-f499-4d9a-b0e0-14bc268980a6",
   "metadata": {},
   "outputs": [
    {
     "data": {
      "text/plain": [
       "RObject{IntSxp}\n",
       "     \n",
       "      Don't know Somewhat difficult Somewhat easy Very difficult Very easy\n",
       "  NA           9                  4             3              1         1\n",
       "  No         527                100           228             72       168\n",
       "  Yes         27                 22            35             25        37\n"
      ]
     },
     "execution_count": 125,
     "metadata": {},
     "output_type": "execute_result"
    }
   ],
   "source": [
    "table1 = R\"\"\"\n",
    "t1 = table( $(df_2014[:,:self_employed]), $(df_2014[:,:leave]) )\n",
    "\"\"\""
   ]
  },
  {
   "cell_type": "code",
   "execution_count": 124,
   "id": "d69f9154-9ec7-4357-894f-2b6f7b9760ab",
   "metadata": {},
   "outputs": [
    {
     "data": {
      "text/plain": [
       "3×5 Matrix{Int64}:\n",
       "   9    4    3   1    1\n",
       " 527  100  228  72  168\n",
       "  27   22   35  25   37"
      ]
     },
     "execution_count": 124,
     "metadata": {},
     "output_type": "execute_result"
    }
   ],
   "source": [
    "table1 = rcopy(table1)"
   ]
  },
  {
   "cell_type": "code",
   "execution_count": 126,
   "id": "4c5469c2-eb07-4c99-84cb-d6fa98d4ae69",
   "metadata": {},
   "outputs": [
    {
     "name": "stderr",
     "output_type": "stream",
     "text": [
      "\u001b[33m\u001b[1m┌ \u001b[22m\u001b[39m\u001b[33m\u001b[1mWarning: \u001b[22m\u001b[39mRCall.jl: Warning in chisq.test(t1) : Chi-squared approximation may be incorrect\n",
      "\u001b[33m\u001b[1m└ \u001b[22m\u001b[39m\u001b[90m@ RCall ~/.julia/packages/RCall/Wyd74/src/io.jl:172\u001b[39m\n"
     ]
    },
    {
     "data": {
      "text/plain": [
       "RObject{VecSxp}\n",
       "\n",
       "\tPearson's Chi-squared test\n",
       "\n",
       "data:  t1\n",
       "X-squared = 61.155, df = 8, p-value = 2.765e-10\n",
       "\n"
      ]
     },
     "execution_count": 126,
     "metadata": {},
     "output_type": "execute_result"
    }
   ],
   "source": [
    "R\"\"\"\n",
    "chisq.test( t1 )\n",
    "\"\"\""
   ]
  },
  {
   "cell_type": "code",
   "execution_count": null,
   "id": "6545fc12-916a-4ab6-88a6-336089db8de0",
   "metadata": {},
   "outputs": [],
   "source": []
  },
  {
   "cell_type": "code",
   "execution_count": 127,
   "id": "bd99052c-66bd-451f-9d66-cc8dfa505cbe",
   "metadata": {},
   "outputs": [
    {
     "data": {
      "text/html": [
       "<div><div style = \"float: left;\"><span>DataFrameRow (27 columns)</span></div><div style = \"clear: both;\"></div></div><div class = \"data-frame\" style = \"overflow-x: scroll;\"><table class = \"data-frame\" style = \"margin-bottom: 6px;\"><thead><tr class = \"header\"><th class = \"rowLabel\" style = \"font-weight: bold; text-align: right;\">Row</th><th style = \"text-align: left;\">Timestamp</th><th style = \"text-align: left;\">Age</th><th style = \"text-align: left;\">Gender</th><th style = \"text-align: left;\">Country</th><th style = \"text-align: left;\">state</th><th style = \"text-align: left;\">self_employed</th><th style = \"text-align: left;\">family_history</th><th style = \"text-align: left;\">treatment</th><th style = \"text-align: left;\">work_interfere</th><th style = \"text-align: left;\">no_employees</th><th style = \"text-align: left;\">remote_work</th><th style = \"text-align: left;\">tech_company</th><th style = \"text-align: left;\">benefits</th><th style = \"text-align: left;\">care_options</th><th style = \"text-align: left;\">wellness_program</th><th style = \"text-align: left;\">seek_help</th><th style = \"text-align: left;\">anonymity</th><th style = \"text-align: left;\">leave</th><th style = \"text-align: left;\">mental_health_consequence</th><th style = \"text-align: left;\">phys_health_consequence</th><th style = \"text-align: left;\">coworkers</th><th style = \"text-align: left;\">supervisor</th><th style = \"text-align: left;\">mental_health_interview</th><th style = \"text-align: left;\">phys_health_interview</th><th style = \"text-align: left;\">mental_vs_physical</th><th style = \"text-align: left;\">obs_consequence</th><th style = \"text-align: left;\">comments</th></tr><tr class = \"subheader headerLastRow\"><th class = \"rowLabel\" style = \"font-weight: bold; text-align: right;\"></th><th title = \"String31\" style = \"text-align: left;\">String31</th><th title = \"Int64\" style = \"text-align: left;\">Int64</th><th title = \"String\" style = \"text-align: left;\">String</th><th title = \"String31\" style = \"text-align: left;\">String31</th><th title = \"String3\" style = \"text-align: left;\">String3</th><th title = \"String3\" style = \"text-align: left;\">String3</th><th title = \"String3\" style = \"text-align: left;\">String3</th><th title = \"String3\" style = \"text-align: left;\">String3</th><th title = \"String15\" style = \"text-align: left;\">String15</th><th title = \"String15\" style = \"text-align: left;\">String15</th><th title = \"String3\" style = \"text-align: left;\">String3</th><th title = \"String3\" style = \"text-align: left;\">String3</th><th title = \"String15\" style = \"text-align: left;\">String15</th><th title = \"String15\" style = \"text-align: left;\">String15</th><th title = \"String15\" style = \"text-align: left;\">String15</th><th title = \"String15\" style = \"text-align: left;\">String15</th><th title = \"String15\" style = \"text-align: left;\">String15</th><th title = \"String31\" style = \"text-align: left;\">String31</th><th title = \"String7\" style = \"text-align: left;\">String7</th><th title = \"String7\" style = \"text-align: left;\">String7</th><th title = \"String15\" style = \"text-align: left;\">String15</th><th title = \"String15\" style = \"text-align: left;\">String15</th><th title = \"String7\" style = \"text-align: left;\">String7</th><th title = \"String7\" style = \"text-align: left;\">String7</th><th title = \"String15\" style = \"text-align: left;\">String15</th><th title = \"String3\" style = \"text-align: left;\">String3</th><th title = \"String\" style = \"text-align: left;\">String</th></tr></thead><tbody><tr><td class = \"rowLabel\" style = \"font-weight: bold; text-align: right;\">1</td><td style = \"text-align: left;\">2014-08-27 11:29:31</td><td style = \"text-align: right;\">37</td><td style = \"text-align: left;\">Female</td><td style = \"text-align: left;\">United States</td><td style = \"text-align: left;\">IL</td><td style = \"text-align: left;\">NA</td><td style = \"text-align: left;\">No</td><td style = \"text-align: left;\">Yes</td><td style = \"text-align: left;\">Often</td><td style = \"text-align: left;\">6-25</td><td style = \"text-align: left;\">No</td><td style = \"text-align: left;\">Yes</td><td style = \"text-align: left;\">Yes</td><td style = \"text-align: left;\">Not sure</td><td style = \"text-align: left;\">No</td><td style = \"text-align: left;\">Yes</td><td style = \"text-align: left;\">Yes</td><td style = \"text-align: left;\">Somewhat easy</td><td style = \"text-align: left;\">No</td><td style = \"text-align: left;\">No</td><td style = \"text-align: left;\">Some of them</td><td style = \"text-align: left;\">Yes</td><td style = \"text-align: left;\">No</td><td style = \"text-align: left;\">Maybe</td><td style = \"text-align: left;\">Yes</td><td style = \"text-align: left;\">No</td><td style = \"text-align: left;\">NA</td></tr></tbody></table></div>"
      ],
      "text/latex": [
       "\\begin{tabular}{r|cccccccc}\n",
       "\t& Timestamp & Age & Gender & Country & state & self\\_employed & family\\_history & \\\\\n",
       "\t\\hline\n",
       "\t& String31 & Int64 & String & String31 & String3 & String3 & String3 & \\\\\n",
       "\t\\hline\n",
       "\t1 & 2014-08-27 11:29:31 & 37 & Female & United States & IL & NA & No & $\\dots$ \\\\\n",
       "\\end{tabular}\n"
      ],
      "text/plain": [
       "\u001b[1mDataFrameRow\u001b[0m\n",
       "\u001b[1m Row \u001b[0m│\u001b[1m Timestamp           \u001b[0m\u001b[1m Age   \u001b[0m\u001b[1m Gender \u001b[0m\u001b[1m Country       \u001b[0m\u001b[1m state   \u001b[0m\u001b[1m self_employ\u001b[0m ⋯\n",
       "     │\u001b[90m String31            \u001b[0m\u001b[90m Int64 \u001b[0m\u001b[90m String \u001b[0m\u001b[90m String31      \u001b[0m\u001b[90m String3 \u001b[0m\u001b[90m String3    \u001b[0m ⋯\n",
       "─────┼──────────────────────────────────────────────────────────────────────────\n",
       "   1 │ 2014-08-27 11:29:31     37  Female  United States  IL       NA          ⋯\n",
       "\u001b[36m                                                              22 columns omitted\u001b[0m"
      ]
     },
     "execution_count": 127,
     "metadata": {},
     "output_type": "execute_result"
    }
   ],
   "source": [
    "df_2014[1,:]"
   ]
  },
  {
   "cell_type": "code",
   "execution_count": 134,
   "id": "c272eaa2-0dad-40d8-82fa-d479aa21f317",
   "metadata": {},
   "outputs": [],
   "source": [
    "yes_mhc = filter( x-> x[:mental_health_consequence]==\"Yes\", df_2014 );\n",
    "no_mhc = filter( x-> x[:mental_health_consequence]==\"No\", df_2014 );\n",
    "maybe_mhc = filter( x-> x[:mental_health_consequence]==\"Maybe\", df_2014 );"
   ]
  },
  {
   "cell_type": "code",
   "execution_count": 147,
   "id": "b7069555-e27d-43ce-9600-95b02d89d248",
   "metadata": {},
   "outputs": [],
   "source": [
    "yes_emp_num = Float64.(GetMeanEmpNum( yes_mhc[:,\"no_employees\"] ))\n",
    "no_emp_num = Float64.(GetMeanEmpNum( no_mhc[:,\"no_employees\"] ))\n",
    "maybe_emp_num = Float64.(GetMeanEmpNum( maybe_mhc[:,\"no_employees\"] ));"
   ]
  },
  {
   "cell_type": "code",
   "execution_count": null,
   "id": "14b27446-1cf8-4ca5-a5cf-f1201c3a05fd",
   "metadata": {},
   "outputs": [],
   "source": []
  },
  {
   "cell_type": "code",
   "execution_count": 148,
   "id": "a740c933-0c2e-4b74-88ef-21c1e513cf42",
   "metadata": {},
   "outputs": [
    {
     "data": {
      "text/plain": [
       "RObject{VecSxp}\n",
       "\n",
       "\tWelch Two Sample t-test\n",
       "\n",
       "data:  `#JL`$yes_emp_num and `#JL`$no_emp_num\n",
       "t = 3.3955, df = 555.25, p-value = 0.0007341\n",
       "alternative hypothesis: true difference in means is not equal to 0\n",
       "95 percent confidence interval:\n",
       "  43.10338 161.41643\n",
       "sample estimates:\n",
       "mean of x mean of y \n",
       " 368.4058  266.1459 \n",
       "\n"
      ]
     },
     "execution_count": 148,
     "metadata": {},
     "output_type": "execute_result"
    }
   ],
   "source": [
    "R\"\"\"\n",
    "t.test( $(yes_emp_num) , $(no_emp_num) )\n",
    "\"\"\""
   ]
  },
  {
   "cell_type": "code",
   "execution_count": 152,
   "id": "b1deccde-117b-4f70-83d6-07f9ad44b743",
   "metadata": {},
   "outputs": [
    {
     "data": {
      "image/svg+xml": [
       "<?xml version=\"1.0\" encoding=\"utf-8\"?>\n",
       "<svg xmlns=\"http://www.w3.org/2000/svg\" xmlns:xlink=\"http://www.w3.org/1999/xlink\" width=\"600\" height=\"400\" viewBox=\"0 0 2400 1600\">\n",
       "<defs>\n",
       "  <clipPath id=\"clip280\">\n",
       "    <rect x=\"0\" y=\"0\" width=\"2400\" height=\"1600\"/>\n",
       "  </clipPath>\n",
       "</defs>\n",
       "<path clip-path=\"url(#clip280)\" d=\"M0 1600 L2400 1600 L2400 0 L0 0  Z\" fill=\"#ffffff\" fill-rule=\"evenodd\" fill-opacity=\"1\"/>\n",
       "<defs>\n",
       "  <clipPath id=\"clip281\">\n",
       "    <rect x=\"480\" y=\"0\" width=\"1681\" height=\"1600\"/>\n",
       "  </clipPath>\n",
       "</defs>\n",
       "<path clip-path=\"url(#clip280)\" d=\"M170.857 1486.45 L2352.76 1486.45 L2352.76 47.2441 L170.857 47.2441  Z\" fill=\"#ffffff\" fill-rule=\"evenodd\" fill-opacity=\"1\"/>\n",
       "<defs>\n",
       "  <clipPath id=\"clip282\">\n",
       "    <rect x=\"170\" y=\"47\" width=\"2183\" height=\"1440\"/>\n",
       "  </clipPath>\n",
       "</defs>\n",
       "<polyline clip-path=\"url(#clip282)\" style=\"stroke:#000000; stroke-linecap:round; stroke-linejoin:round; stroke-width:2; stroke-opacity:0.1; fill:none\" points=\"290.866,1486.45 290.866,47.2441 \"/>\n",
       "<polyline clip-path=\"url(#clip282)\" style=\"stroke:#000000; stroke-linecap:round; stroke-linejoin:round; stroke-width:2; stroke-opacity:0.1; fill:none\" points=\"938.16,1486.45 938.16,47.2441 \"/>\n",
       "<polyline clip-path=\"url(#clip282)\" style=\"stroke:#000000; stroke-linecap:round; stroke-linejoin:round; stroke-width:2; stroke-opacity:0.1; fill:none\" points=\"1585.45,1486.45 1585.45,47.2441 \"/>\n",
       "<polyline clip-path=\"url(#clip282)\" style=\"stroke:#000000; stroke-linecap:round; stroke-linejoin:round; stroke-width:2; stroke-opacity:0.1; fill:none\" points=\"2232.75,1486.45 2232.75,47.2441 \"/>\n",
       "<polyline clip-path=\"url(#clip280)\" style=\"stroke:#000000; stroke-linecap:round; stroke-linejoin:round; stroke-width:4; stroke-opacity:1; fill:none\" points=\"170.857,1486.45 2352.76,1486.45 \"/>\n",
       "<polyline clip-path=\"url(#clip280)\" style=\"stroke:#000000; stroke-linecap:round; stroke-linejoin:round; stroke-width:4; stroke-opacity:1; fill:none\" points=\"290.866,1486.45 290.866,1467.55 \"/>\n",
       "<polyline clip-path=\"url(#clip280)\" style=\"stroke:#000000; stroke-linecap:round; stroke-linejoin:round; stroke-width:4; stroke-opacity:1; fill:none\" points=\"938.16,1486.45 938.16,1467.55 \"/>\n",
       "<polyline clip-path=\"url(#clip280)\" style=\"stroke:#000000; stroke-linecap:round; stroke-linejoin:round; stroke-width:4; stroke-opacity:1; fill:none\" points=\"1585.45,1486.45 1585.45,1467.55 \"/>\n",
       "<polyline clip-path=\"url(#clip280)\" style=\"stroke:#000000; stroke-linecap:round; stroke-linejoin:round; stroke-width:4; stroke-opacity:1; fill:none\" points=\"2232.75,1486.45 2232.75,1467.55 \"/>\n",
       "<path clip-path=\"url(#clip280)\" d=\"M290.866 1517.37 Q287.255 1517.37 285.426 1520.93 Q283.62 1524.47 283.62 1531.6 Q283.62 1538.71 285.426 1542.27 Q287.255 1545.82 290.866 1545.82 Q294.5 1545.82 296.306 1542.27 Q298.134 1538.71 298.134 1531.6 Q298.134 1524.47 296.306 1520.93 Q294.5 1517.37 290.866 1517.37 M290.866 1513.66 Q296.676 1513.66 299.731 1518.27 Q302.81 1522.85 302.81 1531.6 Q302.81 1540.33 299.731 1544.94 Q296.676 1549.52 290.866 1549.52 Q285.056 1549.52 281.977 1544.94 Q278.921 1540.33 278.921 1531.6 Q278.921 1522.85 281.977 1518.27 Q285.056 1513.66 290.866 1513.66 Z\" fill=\"#000000\" fill-rule=\"nonzero\" fill-opacity=\"1\" /><path clip-path=\"url(#clip280)\" d=\"M897.778 1514.29 L916.134 1514.29 L916.134 1518.22 L902.06 1518.22 L902.06 1526.7 Q903.079 1526.35 904.097 1526.19 Q905.116 1526 906.134 1526 Q911.921 1526 915.301 1529.17 Q918.681 1532.34 918.681 1537.76 Q918.681 1543.34 915.208 1546.44 Q911.736 1549.52 905.417 1549.52 Q903.241 1549.52 900.972 1549.15 Q898.727 1548.78 896.32 1548.04 L896.32 1543.34 Q898.403 1544.47 900.625 1545.03 Q902.847 1545.58 905.324 1545.58 Q909.329 1545.58 911.667 1543.48 Q914.005 1541.37 914.005 1537.76 Q914.005 1534.15 911.667 1532.04 Q909.329 1529.94 905.324 1529.94 Q903.449 1529.94 901.574 1530.35 Q899.722 1530.77 897.778 1531.65 L897.778 1514.29 Z\" fill=\"#000000\" fill-rule=\"nonzero\" fill-opacity=\"1\" /><path clip-path=\"url(#clip280)\" d=\"M937.893 1517.37 Q934.282 1517.37 932.454 1520.93 Q930.648 1524.47 930.648 1531.6 Q930.648 1538.71 932.454 1542.27 Q934.282 1545.82 937.893 1545.82 Q941.528 1545.82 943.333 1542.27 Q945.162 1538.71 945.162 1531.6 Q945.162 1524.47 943.333 1520.93 Q941.528 1517.37 937.893 1517.37 M937.893 1513.66 Q943.704 1513.66 946.759 1518.27 Q949.838 1522.85 949.838 1531.6 Q949.838 1540.33 946.759 1544.94 Q943.704 1549.52 937.893 1549.52 Q932.083 1549.52 929.005 1544.94 Q925.949 1540.33 925.949 1531.6 Q925.949 1522.85 929.005 1518.27 Q932.083 1513.66 937.893 1513.66 Z\" fill=\"#000000\" fill-rule=\"nonzero\" fill-opacity=\"1\" /><path clip-path=\"url(#clip280)\" d=\"M968.055 1517.37 Q964.444 1517.37 962.616 1520.93 Q960.81 1524.47 960.81 1531.6 Q960.81 1538.71 962.616 1542.27 Q964.444 1545.82 968.055 1545.82 Q971.69 1545.82 973.495 1542.27 Q975.324 1538.71 975.324 1531.6 Q975.324 1524.47 973.495 1520.93 Q971.69 1517.37 968.055 1517.37 M968.055 1513.66 Q973.866 1513.66 976.921 1518.27 Q980 1522.85 980 1531.6 Q980 1540.33 976.921 1544.94 Q973.866 1549.52 968.055 1549.52 Q962.245 1549.52 959.167 1544.94 Q956.111 1540.33 956.111 1531.6 Q956.111 1522.85 959.167 1518.27 Q962.245 1513.66 968.055 1513.66 Z\" fill=\"#000000\" fill-rule=\"nonzero\" fill-opacity=\"1\" /><path clip-path=\"url(#clip280)\" d=\"M1529.98 1544.91 L1537.62 1544.91 L1537.62 1518.55 L1529.31 1520.21 L1529.31 1515.95 L1537.57 1514.29 L1542.25 1514.29 L1542.25 1544.91 L1549.89 1544.91 L1549.89 1548.85 L1529.98 1548.85 L1529.98 1544.91 Z\" fill=\"#000000\" fill-rule=\"nonzero\" fill-opacity=\"1\" /><path clip-path=\"url(#clip280)\" d=\"M1569.33 1517.37 Q1565.72 1517.37 1563.89 1520.93 Q1562.09 1524.47 1562.09 1531.6 Q1562.09 1538.71 1563.89 1542.27 Q1565.72 1545.82 1569.33 1545.82 Q1572.97 1545.82 1574.77 1542.27 Q1576.6 1538.71 1576.6 1531.6 Q1576.6 1524.47 1574.77 1520.93 Q1572.97 1517.37 1569.33 1517.37 M1569.33 1513.66 Q1575.14 1513.66 1578.2 1518.27 Q1581.28 1522.85 1581.28 1531.6 Q1581.28 1540.33 1578.2 1544.94 Q1575.14 1549.52 1569.33 1549.52 Q1563.52 1549.52 1560.44 1544.94 Q1557.39 1540.33 1557.39 1531.6 Q1557.39 1522.85 1560.44 1518.27 Q1563.52 1513.66 1569.33 1513.66 Z\" fill=\"#000000\" fill-rule=\"nonzero\" fill-opacity=\"1\" /><path clip-path=\"url(#clip280)\" d=\"M1599.49 1517.37 Q1595.88 1517.37 1594.05 1520.93 Q1592.25 1524.47 1592.25 1531.6 Q1592.25 1538.71 1594.05 1542.27 Q1595.88 1545.82 1599.49 1545.82 Q1603.13 1545.82 1604.93 1542.27 Q1606.76 1538.71 1606.76 1531.6 Q1606.76 1524.47 1604.93 1520.93 Q1603.13 1517.37 1599.49 1517.37 M1599.49 1513.66 Q1605.3 1513.66 1608.36 1518.27 Q1611.44 1522.85 1611.44 1531.6 Q1611.44 1540.33 1608.36 1544.94 Q1605.3 1549.52 1599.49 1549.52 Q1593.68 1549.52 1590.6 1544.94 Q1587.55 1540.33 1587.55 1531.6 Q1587.55 1522.85 1590.6 1518.27 Q1593.68 1513.66 1599.49 1513.66 Z\" fill=\"#000000\" fill-rule=\"nonzero\" fill-opacity=\"1\" /><path clip-path=\"url(#clip280)\" d=\"M1629.65 1517.37 Q1626.04 1517.37 1624.22 1520.93 Q1622.41 1524.47 1622.41 1531.6 Q1622.41 1538.71 1624.22 1542.27 Q1626.04 1545.82 1629.65 1545.82 Q1633.29 1545.82 1635.09 1542.27 Q1636.92 1538.71 1636.92 1531.6 Q1636.92 1524.47 1635.09 1520.93 Q1633.29 1517.37 1629.65 1517.37 M1629.65 1513.66 Q1635.46 1513.66 1638.52 1518.27 Q1641.6 1522.85 1641.6 1531.6 Q1641.6 1540.33 1638.52 1544.94 Q1635.46 1549.52 1629.65 1549.52 Q1623.84 1549.52 1620.77 1544.94 Q1617.71 1540.33 1617.71 1531.6 Q1617.71 1522.85 1620.77 1518.27 Q1623.84 1513.66 1629.65 1513.66 Z\" fill=\"#000000\" fill-rule=\"nonzero\" fill-opacity=\"1\" /><path clip-path=\"url(#clip280)\" d=\"M2177.27 1544.91 L2184.91 1544.91 L2184.91 1518.55 L2176.6 1520.21 L2176.6 1515.95 L2184.87 1514.29 L2189.54 1514.29 L2189.54 1544.91 L2197.18 1544.91 L2197.18 1548.85 L2177.27 1548.85 L2177.27 1544.91 Z\" fill=\"#000000\" fill-rule=\"nonzero\" fill-opacity=\"1\" /><path clip-path=\"url(#clip280)\" d=\"M2206.67 1514.29 L2225.03 1514.29 L2225.03 1518.22 L2210.95 1518.22 L2210.95 1526.7 Q2211.97 1526.35 2212.99 1526.19 Q2214.01 1526 2215.03 1526 Q2220.81 1526 2224.19 1529.17 Q2227.57 1532.34 2227.57 1537.76 Q2227.57 1543.34 2224.1 1546.44 Q2220.63 1549.52 2214.31 1549.52 Q2212.13 1549.52 2209.87 1549.15 Q2207.62 1548.78 2205.21 1548.04 L2205.21 1543.34 Q2207.3 1544.47 2209.52 1545.03 Q2211.74 1545.58 2214.22 1545.58 Q2218.22 1545.58 2220.56 1543.48 Q2222.9 1541.37 2222.9 1537.76 Q2222.9 1534.15 2220.56 1532.04 Q2218.22 1529.94 2214.22 1529.94 Q2212.34 1529.94 2210.47 1530.35 Q2208.62 1530.77 2206.67 1531.65 L2206.67 1514.29 Z\" fill=\"#000000\" fill-rule=\"nonzero\" fill-opacity=\"1\" /><path clip-path=\"url(#clip280)\" d=\"M2246.79 1517.37 Q2243.18 1517.37 2241.35 1520.93 Q2239.54 1524.47 2239.54 1531.6 Q2239.54 1538.71 2241.35 1542.27 Q2243.18 1545.82 2246.79 1545.82 Q2250.42 1545.82 2252.23 1542.27 Q2254.06 1538.71 2254.06 1531.6 Q2254.06 1524.47 2252.23 1520.93 Q2250.42 1517.37 2246.79 1517.37 M2246.79 1513.66 Q2252.6 1513.66 2255.65 1518.27 Q2258.73 1522.85 2258.73 1531.6 Q2258.73 1540.33 2255.65 1544.94 Q2252.6 1549.52 2246.79 1549.52 Q2240.98 1549.52 2237.9 1544.94 Q2234.84 1540.33 2234.84 1531.6 Q2234.84 1522.85 2237.9 1518.27 Q2240.98 1513.66 2246.79 1513.66 Z\" fill=\"#000000\" fill-rule=\"nonzero\" fill-opacity=\"1\" /><path clip-path=\"url(#clip280)\" d=\"M2276.95 1517.37 Q2273.34 1517.37 2271.51 1520.93 Q2269.7 1524.47 2269.7 1531.6 Q2269.7 1538.71 2271.51 1542.27 Q2273.34 1545.82 2276.95 1545.82 Q2280.58 1545.82 2282.39 1542.27 Q2284.22 1538.71 2284.22 1531.6 Q2284.22 1524.47 2282.39 1520.93 Q2280.58 1517.37 2276.95 1517.37 M2276.95 1513.66 Q2282.76 1513.66 2285.81 1518.27 Q2288.89 1522.85 2288.89 1531.6 Q2288.89 1540.33 2285.81 1544.94 Q2282.76 1549.52 2276.95 1549.52 Q2271.14 1549.52 2268.06 1544.94 Q2265 1540.33 2265 1531.6 Q2265 1522.85 2268.06 1518.27 Q2271.14 1513.66 2276.95 1513.66 Z\" fill=\"#000000\" fill-rule=\"nonzero\" fill-opacity=\"1\" /><polyline clip-path=\"url(#clip282)\" style=\"stroke:#000000; stroke-linecap:round; stroke-linejoin:round; stroke-width:2; stroke-opacity:0.1; fill:none\" points=\"170.857,1445.72 2352.76,1445.72 \"/>\n",
       "<polyline clip-path=\"url(#clip282)\" style=\"stroke:#000000; stroke-linecap:round; stroke-linejoin:round; stroke-width:2; stroke-opacity:0.1; fill:none\" points=\"170.857,1018.75 2352.76,1018.75 \"/>\n",
       "<polyline clip-path=\"url(#clip282)\" style=\"stroke:#000000; stroke-linecap:round; stroke-linejoin:round; stroke-width:2; stroke-opacity:0.1; fill:none\" points=\"170.857,591.792 2352.76,591.792 \"/>\n",
       "<polyline clip-path=\"url(#clip282)\" style=\"stroke:#000000; stroke-linecap:round; stroke-linejoin:round; stroke-width:2; stroke-opacity:0.1; fill:none\" points=\"170.857,164.829 2352.76,164.829 \"/>\n",
       "<polyline clip-path=\"url(#clip280)\" style=\"stroke:#000000; stroke-linecap:round; stroke-linejoin:round; stroke-width:4; stroke-opacity:1; fill:none\" points=\"170.857,1486.45 170.857,47.2441 \"/>\n",
       "<polyline clip-path=\"url(#clip280)\" style=\"stroke:#000000; stroke-linecap:round; stroke-linejoin:round; stroke-width:4; stroke-opacity:1; fill:none\" points=\"170.857,1445.72 189.755,1445.72 \"/>\n",
       "<polyline clip-path=\"url(#clip280)\" style=\"stroke:#000000; stroke-linecap:round; stroke-linejoin:round; stroke-width:4; stroke-opacity:1; fill:none\" points=\"170.857,1018.75 189.755,1018.75 \"/>\n",
       "<polyline clip-path=\"url(#clip280)\" style=\"stroke:#000000; stroke-linecap:round; stroke-linejoin:round; stroke-width:4; stroke-opacity:1; fill:none\" points=\"170.857,591.792 189.755,591.792 \"/>\n",
       "<polyline clip-path=\"url(#clip280)\" style=\"stroke:#000000; stroke-linecap:round; stroke-linejoin:round; stroke-width:4; stroke-opacity:1; fill:none\" points=\"170.857,164.829 189.755,164.829 \"/>\n",
       "<path clip-path=\"url(#clip280)\" d=\"M122.913 1431.51 Q119.302 1431.51 117.473 1435.08 Q115.668 1438.62 115.668 1445.75 Q115.668 1452.86 117.473 1456.42 Q119.302 1459.96 122.913 1459.96 Q126.547 1459.96 128.353 1456.42 Q130.182 1452.86 130.182 1445.75 Q130.182 1438.62 128.353 1435.08 Q126.547 1431.51 122.913 1431.51 M122.913 1427.81 Q128.723 1427.81 131.779 1432.42 Q134.857 1437 134.857 1445.75 Q134.857 1454.48 131.779 1459.08 Q128.723 1463.67 122.913 1463.67 Q117.103 1463.67 114.024 1459.08 Q110.969 1454.48 110.969 1445.75 Q110.969 1437 114.024 1432.42 Q117.103 1427.81 122.913 1427.81 Z\" fill=\"#000000\" fill-rule=\"nonzero\" fill-opacity=\"1\" /><path clip-path=\"url(#clip280)\" d=\"M53.3995 1032.1 L61.0384 1032.1 L61.0384 1005.73 L52.7282 1007.4 L52.7282 1003.14 L60.9921 1001.47 L65.668 1001.47 L65.668 1032.1 L73.3068 1032.1 L73.3068 1036.03 L53.3995 1036.03 L53.3995 1032.1 Z\" fill=\"#000000\" fill-rule=\"nonzero\" fill-opacity=\"1\" /><path clip-path=\"url(#clip280)\" d=\"M92.7512 1004.55 Q89.1401 1004.55 87.3114 1008.12 Q85.5058 1011.66 85.5058 1018.79 Q85.5058 1025.89 87.3114 1029.46 Q89.1401 1033 92.7512 1033 Q96.3854 1033 98.1909 1029.46 Q100.02 1025.89 100.02 1018.79 Q100.02 1011.66 98.1909 1008.12 Q96.3854 1004.55 92.7512 1004.55 M92.7512 1000.85 Q98.5613 1000.85 101.617 1005.46 Q104.696 1010.04 104.696 1018.79 Q104.696 1027.52 101.617 1032.12 Q98.5613 1036.7 92.7512 1036.7 Q86.941 1036.7 83.8623 1032.12 Q80.8068 1027.52 80.8068 1018.79 Q80.8068 1010.04 83.8623 1005.46 Q86.941 1000.85 92.7512 1000.85 Z\" fill=\"#000000\" fill-rule=\"nonzero\" fill-opacity=\"1\" /><path clip-path=\"url(#clip280)\" d=\"M122.913 1004.55 Q119.302 1004.55 117.473 1008.12 Q115.668 1011.66 115.668 1018.79 Q115.668 1025.89 117.473 1029.46 Q119.302 1033 122.913 1033 Q126.547 1033 128.353 1029.46 Q130.182 1025.89 130.182 1018.79 Q130.182 1011.66 128.353 1008.12 Q126.547 1004.55 122.913 1004.55 M122.913 1000.85 Q128.723 1000.85 131.779 1005.46 Q134.857 1010.04 134.857 1018.79 Q134.857 1027.52 131.779 1032.12 Q128.723 1036.7 122.913 1036.7 Q117.103 1036.7 114.024 1032.12 Q110.969 1027.52 110.969 1018.79 Q110.969 1010.04 114.024 1005.46 Q117.103 1000.85 122.913 1000.85 Z\" fill=\"#000000\" fill-rule=\"nonzero\" fill-opacity=\"1\" /><path clip-path=\"url(#clip280)\" d=\"M56.6171 605.136 L72.9365 605.136 L72.9365 609.072 L50.9921 609.072 L50.9921 605.136 Q53.6541 602.382 58.2375 597.752 Q62.8439 593.099 64.0245 591.757 Q66.2698 589.234 67.1494 587.498 Q68.0522 585.738 68.0522 584.049 Q68.0522 581.294 66.1078 579.558 Q64.1865 577.822 61.0847 577.822 Q58.8856 577.822 56.4319 578.586 Q54.0014 579.349 51.2236 580.9 L51.2236 576.178 Q54.0477 575.044 56.5014 574.465 Q58.955 573.887 60.9921 573.887 Q66.3624 573.887 69.5568 576.572 Q72.7513 579.257 72.7513 583.748 Q72.7513 585.877 71.9411 587.798 Q71.1541 589.697 69.0476 592.289 Q68.4689 592.961 65.367 596.178 Q62.2652 599.373 56.6171 605.136 Z\" fill=\"#000000\" fill-rule=\"nonzero\" fill-opacity=\"1\" /><path clip-path=\"url(#clip280)\" d=\"M92.7512 577.59 Q89.1401 577.59 87.3114 581.155 Q85.5058 584.697 85.5058 591.826 Q85.5058 598.933 87.3114 602.497 Q89.1401 606.039 92.7512 606.039 Q96.3854 606.039 98.1909 602.497 Q100.02 598.933 100.02 591.826 Q100.02 584.697 98.1909 581.155 Q96.3854 577.59 92.7512 577.59 M92.7512 573.887 Q98.5613 573.887 101.617 578.493 Q104.696 583.076 104.696 591.826 Q104.696 600.553 101.617 605.16 Q98.5613 609.743 92.7512 609.743 Q86.941 609.743 83.8623 605.16 Q80.8068 600.553 80.8068 591.826 Q80.8068 583.076 83.8623 578.493 Q86.941 573.887 92.7512 573.887 Z\" fill=\"#000000\" fill-rule=\"nonzero\" fill-opacity=\"1\" /><path clip-path=\"url(#clip280)\" d=\"M122.913 577.59 Q119.302 577.59 117.473 581.155 Q115.668 584.697 115.668 591.826 Q115.668 598.933 117.473 602.497 Q119.302 606.039 122.913 606.039 Q126.547 606.039 128.353 602.497 Q130.182 598.933 130.182 591.826 Q130.182 584.697 128.353 581.155 Q126.547 577.59 122.913 577.59 M122.913 573.887 Q128.723 573.887 131.779 578.493 Q134.857 583.076 134.857 591.826 Q134.857 600.553 131.779 605.16 Q128.723 609.743 122.913 609.743 Q117.103 609.743 114.024 605.16 Q110.969 600.553 110.969 591.826 Q110.969 583.076 114.024 578.493 Q117.103 573.887 122.913 573.887 Z\" fill=\"#000000\" fill-rule=\"nonzero\" fill-opacity=\"1\" /><path clip-path=\"url(#clip280)\" d=\"M66.7559 163.475 Q70.1124 164.193 71.9874 166.461 Q73.8855 168.73 73.8855 172.063 Q73.8855 177.179 70.367 179.98 Q66.8485 182.781 60.3671 182.781 Q58.1912 182.781 55.8764 182.341 Q53.5847 181.924 51.131 181.068 L51.131 176.554 Q53.0754 177.688 55.3903 178.267 Q57.7051 178.846 60.2282 178.846 Q64.6263 178.846 66.918 177.109 Q69.2328 175.373 69.2328 172.063 Q69.2328 169.008 67.08 167.295 Q64.9504 165.559 61.131 165.559 L57.1032 165.559 L57.1032 161.716 L61.3161 161.716 Q64.7652 161.716 66.5939 160.35 Q68.4226 158.961 68.4226 156.369 Q68.4226 153.707 66.5245 152.295 Q64.6495 150.86 61.131 150.86 Q59.2097 150.86 57.0106 151.276 Q54.8115 151.693 52.1727 152.573 L52.1727 148.406 Q54.8347 147.665 57.1495 147.295 Q59.4875 146.924 61.5476 146.924 Q66.8717 146.924 69.9735 149.355 Q73.0753 151.762 73.0753 155.883 Q73.0753 158.753 71.4318 160.744 Q69.7883 162.711 66.7559 163.475 Z\" fill=\"#000000\" fill-rule=\"nonzero\" fill-opacity=\"1\" /><path clip-path=\"url(#clip280)\" d=\"M92.7512 150.628 Q89.1401 150.628 87.3114 154.193 Q85.5058 157.735 85.5058 164.864 Q85.5058 171.971 87.3114 175.535 Q89.1401 179.077 92.7512 179.077 Q96.3854 179.077 98.1909 175.535 Q100.02 171.971 100.02 164.864 Q100.02 157.735 98.1909 154.193 Q96.3854 150.628 92.7512 150.628 M92.7512 146.924 Q98.5613 146.924 101.617 151.531 Q104.696 156.114 104.696 164.864 Q104.696 173.591 101.617 178.197 Q98.5613 182.781 92.7512 182.781 Q86.941 182.781 83.8623 178.197 Q80.8068 173.591 80.8068 164.864 Q80.8068 156.114 83.8623 151.531 Q86.941 146.924 92.7512 146.924 Z\" fill=\"#000000\" fill-rule=\"nonzero\" fill-opacity=\"1\" /><path clip-path=\"url(#clip280)\" d=\"M122.913 150.628 Q119.302 150.628 117.473 154.193 Q115.668 157.735 115.668 164.864 Q115.668 171.971 117.473 175.535 Q119.302 179.077 122.913 179.077 Q126.547 179.077 128.353 175.535 Q130.182 171.971 130.182 164.864 Q130.182 157.735 128.353 154.193 Q126.547 150.628 122.913 150.628 M122.913 146.924 Q128.723 146.924 131.779 151.531 Q134.857 156.114 134.857 164.864 Q134.857 173.591 131.779 178.197 Q128.723 182.781 122.913 182.781 Q117.103 182.781 114.024 178.197 Q110.969 173.591 110.969 164.864 Q110.969 156.114 114.024 151.531 Q117.103 146.924 122.913 146.924 Z\" fill=\"#000000\" fill-rule=\"nonzero\" fill-opacity=\"1\" /><path clip-path=\"url(#clip282)\" d=\"M290.866 600.331 L290.866 1445.72 L938.16 1445.72 L938.16 600.331 L290.866 600.331 L290.866 600.331  Z\" fill=\"#009af9\" fill-rule=\"evenodd\" fill-opacity=\"1\"/>\n",
       "<polyline clip-path=\"url(#clip282)\" style=\"stroke:#000000; stroke-linecap:round; stroke-linejoin:round; stroke-width:4; stroke-opacity:1; fill:none\" points=\"290.866,600.331 290.866,1445.72 938.16,1445.72 938.16,600.331 290.866,600.331 \"/>\n",
       "<path clip-path=\"url(#clip282)\" d=\"M938.16 1390.21 L938.16 1445.72 L1585.45 1445.72 L1585.45 1390.21 L938.16 1390.21 L938.16 1390.21  Z\" fill=\"#009af9\" fill-rule=\"evenodd\" fill-opacity=\"1\"/>\n",
       "<polyline clip-path=\"url(#clip282)\" style=\"stroke:#000000; stroke-linecap:round; stroke-linejoin:round; stroke-width:4; stroke-opacity:1; fill:none\" points=\"938.16,1390.21 938.16,1445.72 1585.45,1445.72 1585.45,1390.21 938.16,1390.21 \"/>\n",
       "<path clip-path=\"url(#clip282)\" d=\"M1585.45 1099.88 L1585.45 1445.72 L2232.75 1445.72 L2232.75 1099.88 L1585.45 1099.88 L1585.45 1099.88  Z\" fill=\"#009af9\" fill-rule=\"evenodd\" fill-opacity=\"1\"/>\n",
       "<polyline clip-path=\"url(#clip282)\" style=\"stroke:#000000; stroke-linecap:round; stroke-linejoin:round; stroke-width:4; stroke-opacity:1; fill:none\" points=\"1585.45,1099.88 1585.45,1445.72 2232.75,1445.72 2232.75,1099.88 1585.45,1099.88 \"/>\n",
       "<circle clip-path=\"url(#clip282)\" style=\"fill:#009af9; stroke:none; fill-opacity:0\" cx=\"614.513\" cy=\"600.331\" r=\"2\"/>\n",
       "<circle clip-path=\"url(#clip282)\" style=\"fill:#009af9; stroke:none; fill-opacity:0\" cx=\"1261.81\" cy=\"1390.21\" r=\"2\"/>\n",
       "<circle clip-path=\"url(#clip282)\" style=\"fill:#009af9; stroke:none; fill-opacity:0\" cx=\"1909.1\" cy=\"1099.88\" r=\"2\"/>\n",
       "<path clip-path=\"url(#clip282)\" d=\"M290.866 87.9763 L290.866 1445.72 L420.325 1445.72 L420.325 87.9763 L290.866 87.9763 L290.866 87.9763  Z\" fill=\"#e26f46\" fill-rule=\"evenodd\" fill-opacity=\"0.5\"/>\n",
       "<polyline clip-path=\"url(#clip282)\" style=\"stroke:#000000; stroke-linecap:round; stroke-linejoin:round; stroke-width:4; stroke-opacity:1; fill:none\" points=\"290.866,87.9763 290.866,1445.72 420.325,1445.72 420.325,87.9763 290.866,87.9763 \"/>\n",
       "<path clip-path=\"url(#clip282)\" d=\"M420.325 1445.72 L420.325 1445.72 L549.783 1445.72 L549.783 1445.72 L420.325 1445.72 L420.325 1445.72  Z\" fill=\"#e26f46\" fill-rule=\"evenodd\" fill-opacity=\"0.5\"/>\n",
       "<polyline clip-path=\"url(#clip282)\" style=\"stroke:#000000; stroke-linecap:round; stroke-linejoin:round; stroke-width:4; stroke-opacity:1; fill:none\" points=\"420.325,1445.72 420.325,1445.72 549.783,1445.72 420.325,1445.72 \"/>\n",
       "<path clip-path=\"url(#clip282)\" d=\"M549.783 1445.72 L549.783 1445.72 L679.242 1445.72 L679.242 1445.72 L549.783 1445.72 L549.783 1445.72  Z\" fill=\"#e26f46\" fill-rule=\"evenodd\" fill-opacity=\"0.5\"/>\n",
       "<polyline clip-path=\"url(#clip282)\" style=\"stroke:#000000; stroke-linecap:round; stroke-linejoin:round; stroke-width:4; stroke-opacity:1; fill:none\" points=\"549.783,1445.72 549.783,1445.72 679.242,1445.72 549.783,1445.72 \"/>\n",
       "<path clip-path=\"url(#clip282)\" d=\"M679.242 1159.65 L679.242 1445.72 L808.701 1445.72 L808.701 1159.65 L679.242 1159.65 L679.242 1159.65  Z\" fill=\"#e26f46\" fill-rule=\"evenodd\" fill-opacity=\"0.5\"/>\n",
       "<polyline clip-path=\"url(#clip282)\" style=\"stroke:#000000; stroke-linecap:round; stroke-linejoin:round; stroke-width:4; stroke-opacity:1; fill:none\" points=\"679.242,1159.65 679.242,1445.72 808.701,1445.72 808.701,1159.65 679.242,1159.65 \"/>\n",
       "<path clip-path=\"url(#clip282)\" d=\"M808.701 1445.72 L808.701 1445.72 L938.16 1445.72 L938.16 1445.72 L808.701 1445.72 L808.701 1445.72  Z\" fill=\"#e26f46\" fill-rule=\"evenodd\" fill-opacity=\"0.5\"/>\n",
       "<polyline clip-path=\"url(#clip282)\" style=\"stroke:#000000; stroke-linecap:round; stroke-linejoin:round; stroke-width:4; stroke-opacity:1; fill:none\" points=\"808.701,1445.72 808.701,1445.72 938.16,1445.72 808.701,1445.72 \"/>\n",
       "<path clip-path=\"url(#clip282)\" d=\"M938.16 1445.72 L938.16 1445.72 L1067.62 1445.72 L1067.62 1445.72 L938.16 1445.72 L938.16 1445.72  Z\" fill=\"#e26f46\" fill-rule=\"evenodd\" fill-opacity=\"0.5\"/>\n",
       "<polyline clip-path=\"url(#clip282)\" style=\"stroke:#000000; stroke-linecap:round; stroke-linejoin:round; stroke-width:4; stroke-opacity:1; fill:none\" points=\"938.16,1445.72 938.16,1445.72 1067.62,1445.72 938.16,1445.72 \"/>\n",
       "<path clip-path=\"url(#clip282)\" d=\"M1067.62 1445.72 L1067.62 1445.72 L1197.08 1445.72 L1197.08 1445.72 L1067.62 1445.72 L1067.62 1445.72  Z\" fill=\"#e26f46\" fill-rule=\"evenodd\" fill-opacity=\"0.5\"/>\n",
       "<polyline clip-path=\"url(#clip282)\" style=\"stroke:#000000; stroke-linecap:round; stroke-linejoin:round; stroke-width:4; stroke-opacity:1; fill:none\" points=\"1067.62,1445.72 1067.62,1445.72 1197.08,1445.72 1067.62,1445.72 \"/>\n",
       "<path clip-path=\"url(#clip282)\" d=\"M1197.08 1373.13 L1197.08 1445.72 L1326.54 1445.72 L1326.54 1373.13 L1197.08 1373.13 L1197.08 1373.13  Z\" fill=\"#e26f46\" fill-rule=\"evenodd\" fill-opacity=\"0.5\"/>\n",
       "<polyline clip-path=\"url(#clip282)\" style=\"stroke:#000000; stroke-linecap:round; stroke-linejoin:round; stroke-width:4; stroke-opacity:1; fill:none\" points=\"1197.08,1373.13 1197.08,1445.72 1326.54,1445.72 1326.54,1373.13 1197.08,1373.13 \"/>\n",
       "<path clip-path=\"url(#clip282)\" d=\"M1326.54 1445.72 L1326.54 1445.72 L1455.99 1445.72 L1455.99 1445.72 L1326.54 1445.72 L1326.54 1445.72  Z\" fill=\"#e26f46\" fill-rule=\"evenodd\" fill-opacity=\"0.5\"/>\n",
       "<polyline clip-path=\"url(#clip282)\" style=\"stroke:#000000; stroke-linecap:round; stroke-linejoin:round; stroke-width:4; stroke-opacity:1; fill:none\" points=\"1326.54,1445.72 1326.54,1445.72 1455.99,1445.72 1326.54,1445.72 \"/>\n",
       "<path clip-path=\"url(#clip282)\" d=\"M1455.99 1445.72 L1455.99 1445.72 L1585.45 1445.72 L1585.45 1445.72 L1455.99 1445.72 L1455.99 1445.72  Z\" fill=\"#e26f46\" fill-rule=\"evenodd\" fill-opacity=\"0.5\"/>\n",
       "<polyline clip-path=\"url(#clip282)\" style=\"stroke:#000000; stroke-linecap:round; stroke-linejoin:round; stroke-width:4; stroke-opacity:1; fill:none\" points=\"1455.99,1445.72 1455.99,1445.72 1585.45,1445.72 1455.99,1445.72 \"/>\n",
       "<path clip-path=\"url(#clip282)\" d=\"M1585.45 1069.99 L1585.45 1445.72 L1714.91 1445.72 L1714.91 1069.99 L1585.45 1069.99 L1585.45 1069.99  Z\" fill=\"#e26f46\" fill-rule=\"evenodd\" fill-opacity=\"0.5\"/>\n",
       "<polyline clip-path=\"url(#clip282)\" style=\"stroke:#000000; stroke-linecap:round; stroke-linejoin:round; stroke-width:4; stroke-opacity:1; fill:none\" points=\"1585.45,1069.99 1585.45,1445.72 1714.91,1445.72 1714.91,1069.99 1585.45,1069.99 \"/>\n",
       "<circle clip-path=\"url(#clip282)\" style=\"fill:#e26f46; stroke:none; fill-opacity:0\" cx=\"355.595\" cy=\"87.9763\" r=\"2\"/>\n",
       "<circle clip-path=\"url(#clip282)\" style=\"fill:#e26f46; stroke:none; fill-opacity:0\" cx=\"485.054\" cy=\"1445.72\" r=\"2\"/>\n",
       "<circle clip-path=\"url(#clip282)\" style=\"fill:#e26f46; stroke:none; fill-opacity:0\" cx=\"614.513\" cy=\"1445.72\" r=\"2\"/>\n",
       "<circle clip-path=\"url(#clip282)\" style=\"fill:#e26f46; stroke:none; fill-opacity:0\" cx=\"743.971\" cy=\"1159.65\" r=\"2\"/>\n",
       "<circle clip-path=\"url(#clip282)\" style=\"fill:#e26f46; stroke:none; fill-opacity:0\" cx=\"873.43\" cy=\"1445.72\" r=\"2\"/>\n",
       "<circle clip-path=\"url(#clip282)\" style=\"fill:#e26f46; stroke:none; fill-opacity:0\" cx=\"1002.89\" cy=\"1445.72\" r=\"2\"/>\n",
       "<circle clip-path=\"url(#clip282)\" style=\"fill:#e26f46; stroke:none; fill-opacity:0\" cx=\"1132.35\" cy=\"1445.72\" r=\"2\"/>\n",
       "<circle clip-path=\"url(#clip282)\" style=\"fill:#e26f46; stroke:none; fill-opacity:0\" cx=\"1261.81\" cy=\"1373.13\" r=\"2\"/>\n",
       "<circle clip-path=\"url(#clip282)\" style=\"fill:#e26f46; stroke:none; fill-opacity:0\" cx=\"1391.27\" cy=\"1445.72\" r=\"2\"/>\n",
       "<circle clip-path=\"url(#clip282)\" style=\"fill:#e26f46; stroke:none; fill-opacity:0\" cx=\"1520.72\" cy=\"1445.72\" r=\"2\"/>\n",
       "<circle clip-path=\"url(#clip282)\" style=\"fill:#e26f46; stroke:none; fill-opacity:0\" cx=\"1650.18\" cy=\"1069.99\" r=\"2\"/>\n",
       "<path clip-path=\"url(#clip282)\" d=\"M290.866 318.536 L290.866 1445.72 L549.783 1445.72 L549.783 318.536 L290.866 318.536 L290.866 318.536  Z\" fill=\"#3da44d\" fill-rule=\"evenodd\" fill-opacity=\"0.5\"/>\n",
       "<polyline clip-path=\"url(#clip282)\" style=\"stroke:#000000; stroke-linecap:round; stroke-linejoin:round; stroke-width:4; stroke-opacity:1; fill:none\" points=\"290.866,318.536 290.866,1445.72 549.783,1445.72 549.783,318.536 290.866,318.536 \"/>\n",
       "<path clip-path=\"url(#clip282)\" d=\"M549.783 1146.84 L549.783 1445.72 L808.701 1445.72 L808.701 1146.84 L549.783 1146.84 L549.783 1146.84  Z\" fill=\"#3da44d\" fill-rule=\"evenodd\" fill-opacity=\"0.5\"/>\n",
       "<polyline clip-path=\"url(#clip282)\" style=\"stroke:#000000; stroke-linecap:round; stroke-linejoin:round; stroke-width:4; stroke-opacity:1; fill:none\" points=\"549.783,1146.84 549.783,1445.72 808.701,1445.72 808.701,1146.84 549.783,1146.84 \"/>\n",
       "<path clip-path=\"url(#clip282)\" d=\"M808.701 1445.72 L808.701 1445.72 L1067.62 1445.72 L1067.62 1445.72 L808.701 1445.72 L808.701 1445.72  Z\" fill=\"#3da44d\" fill-rule=\"evenodd\" fill-opacity=\"0.5\"/>\n",
       "<polyline clip-path=\"url(#clip282)\" style=\"stroke:#000000; stroke-linecap:round; stroke-linejoin:round; stroke-width:4; stroke-opacity:1; fill:none\" points=\"808.701,1445.72 808.701,1445.72 1067.62,1445.72 808.701,1445.72 \"/>\n",
       "<path clip-path=\"url(#clip282)\" d=\"M1067.62 1317.63 L1067.62 1445.72 L1326.54 1445.72 L1326.54 1317.63 L1067.62 1317.63 L1067.62 1317.63  Z\" fill=\"#3da44d\" fill-rule=\"evenodd\" fill-opacity=\"0.5\"/>\n",
       "<polyline clip-path=\"url(#clip282)\" style=\"stroke:#000000; stroke-linecap:round; stroke-linejoin:round; stroke-width:4; stroke-opacity:1; fill:none\" points=\"1067.62,1317.63 1067.62,1445.72 1326.54,1445.72 1326.54,1317.63 1067.62,1317.63 \"/>\n",
       "<path clip-path=\"url(#clip282)\" d=\"M1326.54 1445.72 L1326.54 1445.72 L1585.45 1445.72 L1585.45 1445.72 L1326.54 1445.72 L1326.54 1445.72  Z\" fill=\"#3da44d\" fill-rule=\"evenodd\" fill-opacity=\"0.5\"/>\n",
       "<polyline clip-path=\"url(#clip282)\" style=\"stroke:#000000; stroke-linecap:round; stroke-linejoin:round; stroke-width:4; stroke-opacity:1; fill:none\" points=\"1326.54,1445.72 1326.54,1445.72 1585.45,1445.72 1326.54,1445.72 \"/>\n",
       "<path clip-path=\"url(#clip282)\" d=\"M1585.45 963.249 L1585.45 1445.72 L1844.37 1445.72 L1844.37 963.249 L1585.45 963.249 L1585.45 963.249  Z\" fill=\"#3da44d\" fill-rule=\"evenodd\" fill-opacity=\"0.5\"/>\n",
       "<polyline clip-path=\"url(#clip282)\" style=\"stroke:#000000; stroke-linecap:round; stroke-linejoin:round; stroke-width:4; stroke-opacity:1; fill:none\" points=\"1585.45,963.249 1585.45,1445.72 1844.37,1445.72 1844.37,963.249 1585.45,963.249 \"/>\n",
       "<circle clip-path=\"url(#clip282)\" style=\"fill:#3da44d; stroke:none; fill-opacity:0\" cx=\"420.325\" cy=\"318.536\" r=\"2\"/>\n",
       "<circle clip-path=\"url(#clip282)\" style=\"fill:#3da44d; stroke:none; fill-opacity:0\" cx=\"679.242\" cy=\"1146.84\" r=\"2\"/>\n",
       "<circle clip-path=\"url(#clip282)\" style=\"fill:#3da44d; stroke:none; fill-opacity:0\" cx=\"938.16\" cy=\"1445.72\" r=\"2\"/>\n",
       "<circle clip-path=\"url(#clip282)\" style=\"fill:#3da44d; stroke:none; fill-opacity:0\" cx=\"1197.08\" cy=\"1317.63\" r=\"2\"/>\n",
       "<circle clip-path=\"url(#clip282)\" style=\"fill:#3da44d; stroke:none; fill-opacity:0\" cx=\"1455.99\" cy=\"1445.72\" r=\"2\"/>\n",
       "<circle clip-path=\"url(#clip282)\" style=\"fill:#3da44d; stroke:none; fill-opacity:0\" cx=\"1714.91\" cy=\"963.249\" r=\"2\"/>\n",
       "<path clip-path=\"url(#clip280)\" d=\"M1906.12 302.578 L2280.03 302.578 L2280.03 95.2176 L1906.12 95.2176  Z\" fill=\"#ffffff\" fill-rule=\"evenodd\" fill-opacity=\"1\"/>\n",
       "<polyline clip-path=\"url(#clip280)\" style=\"stroke:#000000; stroke-linecap:round; stroke-linejoin:round; stroke-width:4; stroke-opacity:1; fill:none\" points=\"1906.12,302.578 2280.03,302.578 2280.03,95.2176 1906.12,95.2176 1906.12,302.578 \"/>\n",
       "<path clip-path=\"url(#clip280)\" d=\"M1930.36 167.794 L2075.82 167.794 L2075.82 126.322 L1930.36 126.322 L1930.36 167.794  Z\" fill=\"#009af9\" fill-rule=\"evenodd\" fill-opacity=\"1\"/>\n",
       "<polyline clip-path=\"url(#clip280)\" style=\"stroke:#000000; stroke-linecap:round; stroke-linejoin:round; stroke-width:4; stroke-opacity:1; fill:none\" points=\"1930.36,167.794 2075.82,167.794 2075.82,126.322 1930.36,126.322 1930.36,167.794 \"/>\n",
       "<path clip-path=\"url(#clip280)\" d=\"M2113.91 166.745 Q2112.1 171.375 2110.39 172.787 Q2108.68 174.199 2105.81 174.199 L2102.4 174.199 L2102.4 170.634 L2104.9 170.634 Q2106.66 170.634 2107.64 169.8 Q2108.61 168.967 2109.79 165.865 L2110.55 163.921 L2100.07 138.412 L2104.58 138.412 L2112.68 158.689 L2120.78 138.412 L2125.3 138.412 L2113.91 166.745 Z\" fill=\"#000000\" fill-rule=\"nonzero\" fill-opacity=\"1\" /><path clip-path=\"url(#clip280)\" d=\"M2153.35 150.31 L2153.35 152.393 L2133.77 152.393 Q2134.05 156.791 2136.41 159.106 Q2138.79 161.398 2143.03 161.398 Q2145.48 161.398 2147.77 160.796 Q2150.09 160.194 2152.36 158.99 L2152.36 163.018 Q2150.07 163.99 2147.66 164.5 Q2145.25 165.009 2142.77 165.009 Q2136.57 165.009 2132.94 161.398 Q2129.32 157.787 2129.32 151.629 Q2129.32 145.264 2132.75 141.537 Q2136.2 137.787 2142.03 137.787 Q2147.26 137.787 2150.3 141.166 Q2153.35 144.523 2153.35 150.31 M2149.09 149.06 Q2149.05 145.565 2147.13 143.481 Q2145.23 141.398 2142.08 141.398 Q2138.51 141.398 2136.36 143.412 Q2134.23 145.426 2133.91 149.083 L2149.09 149.06 Z\" fill=\"#000000\" fill-rule=\"nonzero\" fill-opacity=\"1\" /><path clip-path=\"url(#clip280)\" d=\"M2176.87 139.176 L2176.87 143.203 Q2175.07 142.277 2173.12 141.815 Q2171.18 141.352 2169.09 141.352 Q2165.92 141.352 2164.32 142.324 Q2162.75 143.296 2162.75 145.24 Q2162.75 146.722 2163.88 147.578 Q2165.02 148.412 2168.45 149.176 L2169.9 149.5 Q2174.44 150.472 2176.34 152.254 Q2178.26 154.014 2178.26 157.185 Q2178.26 160.796 2175.39 162.902 Q2172.54 165.009 2167.54 165.009 Q2165.46 165.009 2163.19 164.592 Q2160.95 164.199 2158.45 163.388 L2158.45 158.99 Q2160.81 160.217 2163.1 160.842 Q2165.39 161.444 2167.63 161.444 Q2170.64 161.444 2172.26 160.426 Q2173.88 159.384 2173.88 157.509 Q2173.88 155.773 2172.7 154.847 Q2171.55 153.921 2167.59 153.064 L2166.11 152.717 Q2162.15 151.884 2160.39 150.171 Q2158.63 148.435 2158.63 145.426 Q2158.63 141.768 2161.22 139.778 Q2163.82 137.787 2168.58 137.787 Q2170.95 137.787 2173.03 138.134 Q2175.11 138.481 2176.87 139.176 Z\" fill=\"#000000\" fill-rule=\"nonzero\" fill-opacity=\"1\" /><path clip-path=\"url(#clip280)\" d=\"M1930.36 219.634 L2075.82 219.634 L2075.82 178.162 L1930.36 178.162 L1930.36 219.634  Z\" fill=\"#e26f46\" fill-rule=\"evenodd\" fill-opacity=\"0.5\"/>\n",
       "<polyline clip-path=\"url(#clip280)\" style=\"stroke:#000000; stroke-linecap:round; stroke-linejoin:round; stroke-width:4; stroke-opacity:1; fill:none\" points=\"1930.36,219.634 2075.82,219.634 2075.82,178.162 1930.36,178.162 1930.36,219.634 \"/>\n",
       "<path clip-path=\"url(#clip280)\" d=\"M2121.78 200.529 L2121.78 216.178 L2117.52 216.178 L2117.52 200.668 Q2117.52 196.988 2116.08 195.159 Q2114.65 193.33 2111.78 193.33 Q2108.33 193.33 2106.34 195.53 Q2104.35 197.729 2104.35 201.525 L2104.35 216.178 L2100.07 216.178 L2100.07 190.252 L2104.35 190.252 L2104.35 194.28 Q2105.88 191.942 2107.94 190.784 Q2110.02 189.627 2112.73 189.627 Q2117.2 189.627 2119.49 192.405 Q2121.78 195.159 2121.78 200.529 Z\" fill=\"#000000\" fill-rule=\"nonzero\" fill-opacity=\"1\" /><path clip-path=\"url(#clip280)\" d=\"M2140.32 193.238 Q2136.89 193.238 2134.9 195.923 Q2132.91 198.585 2132.91 203.238 Q2132.91 207.891 2134.88 210.576 Q2136.87 213.238 2140.32 213.238 Q2143.72 213.238 2145.71 210.553 Q2147.7 207.867 2147.7 203.238 Q2147.7 198.631 2145.71 195.946 Q2143.72 193.238 2140.32 193.238 M2140.32 189.627 Q2145.88 189.627 2149.05 193.238 Q2152.22 196.849 2152.22 203.238 Q2152.22 209.604 2149.05 213.238 Q2145.88 216.849 2140.32 216.849 Q2134.74 216.849 2131.57 213.238 Q2128.42 209.604 2128.42 203.238 Q2128.42 196.849 2131.57 193.238 Q2134.74 189.627 2140.32 189.627 Z\" fill=\"#000000\" fill-rule=\"nonzero\" fill-opacity=\"1\" /><path clip-path=\"url(#clip280)\" d=\"M1930.36 271.474 L2075.82 271.474 L2075.82 230.002 L1930.36 230.002 L1930.36 271.474  Z\" fill=\"#3da44d\" fill-rule=\"evenodd\" fill-opacity=\"0.5\"/>\n",
       "<polyline clip-path=\"url(#clip280)\" style=\"stroke:#000000; stroke-linecap:round; stroke-linejoin:round; stroke-width:4; stroke-opacity:1; fill:none\" points=\"1930.36,271.474 2075.82,271.474 2075.82,230.002 1930.36,230.002 1930.36,271.474 \"/>\n",
       "<path clip-path=\"url(#clip280)\" d=\"M2120.41 247.069 Q2122.01 244.198 2124.23 242.833 Q2126.45 241.467 2129.46 241.467 Q2133.51 241.467 2135.71 244.314 Q2137.91 247.138 2137.91 252.369 L2137.91 268.018 L2133.63 268.018 L2133.63 252.508 Q2133.63 248.782 2132.31 246.976 Q2130.99 245.17 2128.28 245.17 Q2124.97 245.17 2123.05 247.37 Q2121.13 249.569 2121.13 253.365 L2121.13 268.018 L2116.85 268.018 L2116.85 252.508 Q2116.85 248.758 2115.53 246.976 Q2114.21 245.17 2111.45 245.17 Q2108.19 245.17 2106.27 247.393 Q2104.35 249.592 2104.35 253.365 L2104.35 268.018 L2100.07 268.018 L2100.07 242.092 L2104.35 242.092 L2104.35 246.12 Q2105.81 243.735 2107.84 242.601 Q2109.88 241.467 2112.68 241.467 Q2115.51 241.467 2117.47 242.902 Q2119.46 244.337 2120.41 247.069 Z\" fill=\"#000000\" fill-rule=\"nonzero\" fill-opacity=\"1\" /><path clip-path=\"url(#clip280)\" d=\"M2158.19 254.985 Q2153.03 254.985 2151.04 256.166 Q2149.05 257.346 2149.05 260.194 Q2149.05 262.462 2150.53 263.805 Q2152.03 265.124 2154.6 265.124 Q2158.14 265.124 2160.27 262.624 Q2162.43 260.101 2162.43 255.934 L2162.43 254.985 L2158.19 254.985 M2166.69 253.226 L2166.69 268.018 L2162.43 268.018 L2162.43 264.082 Q2160.97 266.443 2158.79 267.578 Q2156.62 268.689 2153.47 268.689 Q2149.49 268.689 2147.13 266.467 Q2144.79 264.221 2144.79 260.471 Q2144.79 256.096 2147.7 253.874 Q2150.64 251.652 2156.45 251.652 L2162.43 251.652 L2162.43 251.235 Q2162.43 248.295 2160.48 246.698 Q2158.56 245.078 2155.07 245.078 Q2152.84 245.078 2150.74 245.61 Q2148.63 246.143 2146.69 247.207 L2146.69 243.272 Q2149.02 242.37 2151.22 241.93 Q2153.42 241.467 2155.51 241.467 Q2161.13 241.467 2163.91 244.383 Q2166.69 247.3 2166.69 253.226 Z\" fill=\"#000000\" fill-rule=\"nonzero\" fill-opacity=\"1\" /><path clip-path=\"url(#clip280)\" d=\"M2186.25 270.425 Q2184.44 275.055 2182.73 276.467 Q2181.01 277.879 2178.14 277.879 L2174.74 277.879 L2174.74 274.314 L2177.24 274.314 Q2179 274.314 2179.97 273.48 Q2180.95 272.647 2182.13 269.545 L2182.89 267.601 L2172.4 242.092 L2176.92 242.092 L2185.02 262.369 L2193.12 242.092 L2197.63 242.092 L2186.25 270.425 Z\" fill=\"#000000\" fill-rule=\"nonzero\" fill-opacity=\"1\" /><path clip-path=\"url(#clip280)\" d=\"M2222.13 255.078 Q2222.13 250.379 2220.18 247.717 Q2218.26 245.032 2214.88 245.032 Q2211.5 245.032 2209.56 247.717 Q2207.63 250.379 2207.63 255.078 Q2207.63 259.777 2209.56 262.462 Q2211.5 265.124 2214.88 265.124 Q2218.26 265.124 2220.18 262.462 Q2222.13 259.777 2222.13 255.078 M2207.63 246.027 Q2208.98 243.712 2211.01 242.601 Q2213.07 241.467 2215.92 241.467 Q2220.64 241.467 2223.58 245.217 Q2226.55 248.967 2226.55 255.078 Q2226.55 261.189 2223.58 264.939 Q2220.64 268.689 2215.92 268.689 Q2213.07 268.689 2211.01 267.578 Q2208.98 266.443 2207.63 264.129 L2207.63 268.018 L2203.35 268.018 L2203.35 231.999 L2207.63 231.999 L2207.63 246.027 Z\" fill=\"#000000\" fill-rule=\"nonzero\" fill-opacity=\"1\" /><path clip-path=\"url(#clip280)\" d=\"M2255.78 253.99 L2255.78 256.073 L2236.2 256.073 Q2236.48 260.471 2238.84 262.786 Q2241.22 265.078 2245.46 265.078 Q2247.91 265.078 2250.2 264.476 Q2252.52 263.874 2254.79 262.67 L2254.79 266.698 Q2252.5 267.67 2250.09 268.18 Q2247.68 268.689 2245.2 268.689 Q2239 268.689 2235.37 265.078 Q2231.75 261.467 2231.75 255.309 Q2231.75 248.944 2235.18 245.217 Q2238.63 241.467 2244.46 241.467 Q2249.69 241.467 2252.73 244.846 Q2255.78 248.203 2255.78 253.99 M2251.52 252.74 Q2251.48 249.245 2249.56 247.161 Q2247.66 245.078 2244.51 245.078 Q2240.94 245.078 2238.79 247.092 Q2236.66 249.106 2236.34 252.763 L2251.52 252.74 Z\" fill=\"#000000\" fill-rule=\"nonzero\" fill-opacity=\"1\" /></svg>\n"
      ]
     },
     "execution_count": 152,
     "metadata": {},
     "output_type": "execute_result"
    }
   ],
   "source": [
    "#add an alpha for transparency\n",
    "plot( yes_emp_num , linetype=\"histogram\" , label=\"yes\")\n",
    "plot!( no_emp_num , linetype=\"histogram\" , fillalpha = 0.5, label=\"no\" )\n",
    "plot!( maybe_emp_num , linetype=\"histogram\" , fillalpha = 0.5, label=\"maybe\" )"
   ]
  },
  {
   "cell_type": "code",
   "execution_count": null,
   "id": "a1510bbb-8654-4014-9221-86f2dadbc94a",
   "metadata": {},
   "outputs": [],
   "source": []
  },
  {
   "cell_type": "code",
   "execution_count": null,
   "id": "6b88e183-9711-44ef-ab61-81ca02304c4c",
   "metadata": {},
   "outputs": [],
   "source": []
  },
  {
   "cell_type": "code",
   "execution_count": 153,
   "id": "60fd2cd2-0d07-417d-af77-ed58e8182082",
   "metadata": {},
   "outputs": [
    {
     "data": {
      "text/html": [
       "<div><div style = \"float: left;\"><span>DataFrameRow (27 columns)</span></div><div style = \"clear: both;\"></div></div><div class = \"data-frame\" style = \"overflow-x: scroll;\"><table class = \"data-frame\" style = \"margin-bottom: 6px;\"><thead><tr class = \"header\"><th class = \"rowLabel\" style = \"font-weight: bold; text-align: right;\">Row</th><th style = \"text-align: left;\">Timestamp</th><th style = \"text-align: left;\">Age</th><th style = \"text-align: left;\">Gender</th><th style = \"text-align: left;\">Country</th><th style = \"text-align: left;\">state</th><th style = \"text-align: left;\">self_employed</th><th style = \"text-align: left;\">family_history</th><th style = \"text-align: left;\">treatment</th><th style = \"text-align: left;\">work_interfere</th><th style = \"text-align: left;\">no_employees</th><th style = \"text-align: left;\">remote_work</th><th style = \"text-align: left;\">tech_company</th><th style = \"text-align: left;\">benefits</th><th style = \"text-align: left;\">care_options</th><th style = \"text-align: left;\">wellness_program</th><th style = \"text-align: left;\">seek_help</th><th style = \"text-align: left;\">anonymity</th><th style = \"text-align: left;\">leave</th><th style = \"text-align: left;\">mental_health_consequence</th><th style = \"text-align: left;\">phys_health_consequence</th><th style = \"text-align: left;\">coworkers</th><th style = \"text-align: left;\">supervisor</th><th style = \"text-align: left;\">mental_health_interview</th><th style = \"text-align: left;\">phys_health_interview</th><th style = \"text-align: left;\">mental_vs_physical</th><th style = \"text-align: left;\">obs_consequence</th><th style = \"text-align: left;\">comments</th></tr><tr class = \"subheader headerLastRow\"><th class = \"rowLabel\" style = \"font-weight: bold; text-align: right;\"></th><th title = \"String31\" style = \"text-align: left;\">String31</th><th title = \"Int64\" style = \"text-align: left;\">Int64</th><th title = \"String\" style = \"text-align: left;\">String</th><th title = \"String31\" style = \"text-align: left;\">String31</th><th title = \"String3\" style = \"text-align: left;\">String3</th><th title = \"String3\" style = \"text-align: left;\">String3</th><th title = \"String3\" style = \"text-align: left;\">String3</th><th title = \"String3\" style = \"text-align: left;\">String3</th><th title = \"String15\" style = \"text-align: left;\">String15</th><th title = \"String15\" style = \"text-align: left;\">String15</th><th title = \"String3\" style = \"text-align: left;\">String3</th><th title = \"String3\" style = \"text-align: left;\">String3</th><th title = \"String15\" style = \"text-align: left;\">String15</th><th title = \"String15\" style = \"text-align: left;\">String15</th><th title = \"String15\" style = \"text-align: left;\">String15</th><th title = \"String15\" style = \"text-align: left;\">String15</th><th title = \"String15\" style = \"text-align: left;\">String15</th><th title = \"String31\" style = \"text-align: left;\">String31</th><th title = \"String7\" style = \"text-align: left;\">String7</th><th title = \"String7\" style = \"text-align: left;\">String7</th><th title = \"String15\" style = \"text-align: left;\">String15</th><th title = \"String15\" style = \"text-align: left;\">String15</th><th title = \"String7\" style = \"text-align: left;\">String7</th><th title = \"String7\" style = \"text-align: left;\">String7</th><th title = \"String15\" style = \"text-align: left;\">String15</th><th title = \"String3\" style = \"text-align: left;\">String3</th><th title = \"String\" style = \"text-align: left;\">String</th></tr></thead><tbody><tr><td class = \"rowLabel\" style = \"font-weight: bold; text-align: right;\">1</td><td style = \"text-align: left;\">2014-08-27 11:29:31</td><td style = \"text-align: right;\">37</td><td style = \"text-align: left;\">Female</td><td style = \"text-align: left;\">United States</td><td style = \"text-align: left;\">IL</td><td style = \"text-align: left;\">NA</td><td style = \"text-align: left;\">No</td><td style = \"text-align: left;\">Yes</td><td style = \"text-align: left;\">Often</td><td style = \"text-align: left;\">6-25</td><td style = \"text-align: left;\">No</td><td style = \"text-align: left;\">Yes</td><td style = \"text-align: left;\">Yes</td><td style = \"text-align: left;\">Not sure</td><td style = \"text-align: left;\">No</td><td style = \"text-align: left;\">Yes</td><td style = \"text-align: left;\">Yes</td><td style = \"text-align: left;\">Somewhat easy</td><td style = \"text-align: left;\">No</td><td style = \"text-align: left;\">No</td><td style = \"text-align: left;\">Some of them</td><td style = \"text-align: left;\">Yes</td><td style = \"text-align: left;\">No</td><td style = \"text-align: left;\">Maybe</td><td style = \"text-align: left;\">Yes</td><td style = \"text-align: left;\">No</td><td style = \"text-align: left;\">NA</td></tr></tbody></table></div>"
      ],
      "text/latex": [
       "\\begin{tabular}{r|cccccccc}\n",
       "\t& Timestamp & Age & Gender & Country & state & self\\_employed & family\\_history & \\\\\n",
       "\t\\hline\n",
       "\t& String31 & Int64 & String & String31 & String3 & String3 & String3 & \\\\\n",
       "\t\\hline\n",
       "\t1 & 2014-08-27 11:29:31 & 37 & Female & United States & IL & NA & No & $\\dots$ \\\\\n",
       "\\end{tabular}\n"
      ],
      "text/plain": [
       "\u001b[1mDataFrameRow\u001b[0m\n",
       "\u001b[1m Row \u001b[0m│\u001b[1m Timestamp           \u001b[0m\u001b[1m Age   \u001b[0m\u001b[1m Gender \u001b[0m\u001b[1m Country       \u001b[0m\u001b[1m state   \u001b[0m\u001b[1m self_employ\u001b[0m ⋯\n",
       "     │\u001b[90m String31            \u001b[0m\u001b[90m Int64 \u001b[0m\u001b[90m String \u001b[0m\u001b[90m String31      \u001b[0m\u001b[90m String3 \u001b[0m\u001b[90m String3    \u001b[0m ⋯\n",
       "─────┼──────────────────────────────────────────────────────────────────────────\n",
       "   1 │ 2014-08-27 11:29:31     37  Female  United States  IL       NA          ⋯\n",
       "\u001b[36m                                                              22 columns omitted\u001b[0m"
      ]
     },
     "execution_count": 153,
     "metadata": {},
     "output_type": "execute_result"
    }
   ],
   "source": [
    "df_2014[1,:]"
   ]
  },
  {
   "cell_type": "code",
   "execution_count": 155,
   "id": "0d1375e3-edba-43b9-a2ee-676486ed59a3",
   "metadata": {},
   "outputs": [
    {
     "data": {
      "text/plain": [
       "3-element Vector{String15}:\n",
       " \"Yes\"\n",
       " \"Don't know\"\n",
       " \"No\""
      ]
     },
     "execution_count": 155,
     "metadata": {},
     "output_type": "execute_result"
    }
   ],
   "source": [
    "unique( df_2014[:,:mental_vs_physical] )"
   ]
  },
  {
   "cell_type": "code",
   "execution_count": 157,
   "id": "f046ddb1-7a5b-443d-acbc-1078e815c5a6",
   "metadata": {},
   "outputs": [
    {
     "data": {
      "text/plain": [
       "2-element Vector{String3}:\n",
       " \"No\"\n",
       " \"Yes\""
      ]
     },
     "execution_count": 157,
     "metadata": {},
     "output_type": "execute_result"
    }
   ],
   "source": [
    "unique( df_2014[:,:remote_work] )"
   ]
  },
  {
   "cell_type": "code",
   "execution_count": 159,
   "id": "c7f26720-828d-4f61-b183-59de0907b39e",
   "metadata": {},
   "outputs": [],
   "source": [
    "mvp = unique( df_2014[:,:mental_vs_physical] )\n",
    "rw = unique( df_2014[:,:remote_work] );"
   ]
  },
  {
   "cell_type": "code",
   "execution_count": 166,
   "id": "48e04236-55a0-42f0-833f-ec5bb13566f9",
   "metadata": {},
   "outputs": [],
   "source": [
    "counts = zeros( length(mvp) , length(rw) )\n",
    "for m_ind in 1:length(mvp)\n",
    "    for r_ind in 1:length(rw)\n",
    "        counts[m_ind,r_ind] = size( filter( x-> x[:mental_vs_physical]==mvp[m_ind] && x[:remote_work]==rw[r_ind], df_2014 ) )[1]\n",
    "    end\n",
    "end"
   ]
  },
  {
   "cell_type": "code",
   "execution_count": 168,
   "id": "1522ae41-3970-4e6b-8895-b629ce3e422f",
   "metadata": {},
   "outputs": [
    {
     "data": {
      "text/plain": [
       "3×2 Matrix{Float64}:\n",
       " 0.177125  0.0953137\n",
       " 0.32089   0.136616\n",
       " 0.203336  0.0667196"
      ]
     },
     "execution_count": 168,
     "metadata": {},
     "output_type": "execute_result"
    }
   ],
   "source": [
    "counts ./ size( df_2014 )[1]"
   ]
  },
  {
   "cell_type": "code",
   "execution_count": 169,
   "id": "49ec8a95-597e-45cd-b326-225bb0b92b51",
   "metadata": {},
   "outputs": [
    {
     "data": {
      "text/plain": [
       "1.0"
      ]
     },
     "execution_count": 169,
     "metadata": {},
     "output_type": "execute_result"
    }
   ],
   "source": [
    "sum( counts ./ size( df_2014 )[1] )"
   ]
  },
  {
   "cell_type": "code",
   "execution_count": null,
   "id": "9eafeb3d-a437-415d-829f-b88ff85fbc64",
   "metadata": {},
   "outputs": [],
   "source": []
  }
 ],
 "metadata": {
  "kernelspec": {
   "display_name": "Julia 1.8.2",
   "language": "julia",
   "name": "julia-1.8"
  },
  "language_info": {
   "file_extension": ".jl",
   "mimetype": "application/julia",
   "name": "julia",
   "version": "1.8.2"
  }
 },
 "nbformat": 4,
 "nbformat_minor": 5
}
