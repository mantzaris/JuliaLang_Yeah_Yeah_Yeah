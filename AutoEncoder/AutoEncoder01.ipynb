{
 "cells": [
  {
   "cell_type": "code",
   "execution_count": 1,
   "metadata": {},
   "outputs": [
    {
     "name": "stderr",
     "output_type": "stream",
     "text": [
      "Gtk-Message: 17:55:57.898: Failed to load module \"canberra-gtk-module\"\n",
      "Gtk-Message: 17:55:57.899: Failed to load module \"canberra-gtk-module\"\n"
     ]
    }
   ],
   "source": [
    "using Images, TestImages, ImageIO, ImageMagick, ImageView, Colors\n",
    "using StatsBase, Statistics, LinearAlgebra, Plots, Random\n",
    "using Flux"
   ]
  },
  {
   "cell_type": "code",
   "execution_count": null,
   "metadata": {},
   "outputs": [],
   "source": []
  },
  {
   "cell_type": "code",
   "execution_count": 2,
   "metadata": {},
   "outputs": [
    {
     "data": {
      "text/plain": [
       "10"
      ]
     },
     "execution_count": 2,
     "metadata": {},
     "output_type": "execute_result"
    }
   ],
   "source": [
    "NN = 10"
   ]
  },
  {
   "cell_type": "code",
   "execution_count": 3,
   "metadata": {},
   "outputs": [
    {
     "data": {
      "text/plain": [
       "noisySquare (generic function with 1 method)"
      ]
     },
     "execution_count": 3,
     "metadata": {},
     "output_type": "execute_result"
    }
   ],
   "source": [
    "#make a 'noisy' square\n",
    "function noisySquare()\n",
    "    newPic = ones(NN,NN)\n",
    "    for rr = 1:NN\n",
    "        for cc = 1:NN\n",
    "            if( (rr >= 3 && rr <= 7) && (cc >= 3 && cc <= 7) )\n",
    "                if( rand() >= 0.1 ) newPic[rr,cc] = 0 end\n",
    "            end\n",
    "        end\n",
    "    end\n",
    "    return newPic\n",
    "end"
   ]
  },
  {
   "cell_type": "code",
   "execution_count": 4,
   "metadata": {},
   "outputs": [
    {
     "data": {
      "text/plain": [
       "noisyCross (generic function with 1 method)"
      ]
     },
     "execution_count": 4,
     "metadata": {},
     "output_type": "execute_result"
    }
   ],
   "source": [
    "#function 'noisy cross'\n",
    "function noisyCross()\n",
    "    newPic = ones(NN,NN)\n",
    "    for rr = 1:NN\n",
    "        for cc = 1:NN\n",
    "            if( rr == 5 || cc == 5 )\n",
    "                if( rand() >= 0.1 ) newPic[rr,cc] = 0 end\n",
    "            end\n",
    "        end\n",
    "    end\n",
    "    return newPic\n",
    "end"
   ]
  },
  {
   "cell_type": "code",
   "execution_count": 5,
   "metadata": {},
   "outputs": [
    {
     "data": {
      "image/png": "[encoded data removed]",
      "text/plain": [
       "10×10 Array{Gray{Float64},2} with eltype Gray{Float64}:\n",
       " Gray{Float64}(1.0)  Gray{Float64}(1.0)  …  Gray{Float64}(1.0)\n",
       " Gray{Float64}(1.0)  Gray{Float64}(1.0)     Gray{Float64}(1.0)\n",
       " Gray{Float64}(1.0)  Gray{Float64}(1.0)     Gray{Float64}(1.0)\n",
       " Gray{Float64}(1.0)  Gray{Float64}(1.0)     Gray{Float64}(1.0)\n",
       " Gray{Float64}(1.0)  Gray{Float64}(1.0)     Gray{Float64}(1.0)\n",
       " Gray{Float64}(1.0)  Gray{Float64}(1.0)  …  Gray{Float64}(1.0)\n",
       " Gray{Float64}(1.0)  Gray{Float64}(1.0)     Gray{Float64}(1.0)\n",
       " Gray{Float64}(1.0)  Gray{Float64}(1.0)     Gray{Float64}(1.0)\n",
       " Gray{Float64}(1.0)  Gray{Float64}(1.0)     Gray{Float64}(1.0)\n",
       " Gray{Float64}(1.0)  Gray{Float64}(1.0)     Gray{Float64}(1.0)"
      ]
     },
     "execution_count": 5,
     "metadata": {},
     "output_type": "execute_result"
    }
   ],
   "source": [
    "Gray.(noisySquare())"
   ]
  },
  {
   "cell_type": "code",
   "execution_count": 6,
   "metadata": {},
   "outputs": [
    {
     "data": {
      "image/png": "[encoded data removed]",
      "text/plain": [
       "10×10 Array{Gray{Float64},2} with eltype Gray{Float64}:\n",
       " Gray{Float64}(1.0)  Gray{Float64}(1.0)  …  Gray{Float64}(1.0)\n",
       " Gray{Float64}(1.0)  Gray{Float64}(1.0)     Gray{Float64}(1.0)\n",
       " Gray{Float64}(1.0)  Gray{Float64}(1.0)     Gray{Float64}(1.0)\n",
       " Gray{Float64}(1.0)  Gray{Float64}(1.0)     Gray{Float64}(1.0)\n",
       " Gray{Float64}(0.0)  Gray{Float64}(0.0)     Gray{Float64}(1.0)\n",
       " Gray{Float64}(1.0)  Gray{Float64}(1.0)  …  Gray{Float64}(1.0)\n",
       " Gray{Float64}(1.0)  Gray{Float64}(1.0)     Gray{Float64}(1.0)\n",
       " Gray{Float64}(1.0)  Gray{Float64}(1.0)     Gray{Float64}(1.0)\n",
       " Gray{Float64}(1.0)  Gray{Float64}(1.0)     Gray{Float64}(1.0)\n",
       " Gray{Float64}(1.0)  Gray{Float64}(1.0)     Gray{Float64}(1.0)"
      ]
     },
     "execution_count": 6,
     "metadata": {},
     "output_type": "execute_result"
    }
   ],
   "source": [
    "Gray.(noisyCross())"
   ]
  },
  {
   "cell_type": "code",
   "execution_count": 7,
   "metadata": {},
   "outputs": [
    {
     "data": {
      "text/plain": [
       "100"
      ]
     },
     "execution_count": 7,
     "metadata": {},
     "output_type": "execute_result"
    }
   ],
   "source": [
    "img_Num = 100"
   ]
  },
  {
   "cell_type": "code",
   "execution_count": 8,
   "metadata": {},
   "outputs": [
    {
     "data": {
      "text/plain": [
       "(10, 10)"
      ]
     },
     "execution_count": 8,
     "metadata": {},
     "output_type": "execute_result"
    }
   ],
   "source": [
    "size( noisyCross() )"
   ]
  },
  {
   "cell_type": "code",
   "execution_count": 26,
   "metadata": {},
   "outputs": [
    {
     "data": {
      "text/plain": [
       "(10, 10, 1, 200)"
      ]
     },
     "metadata": {},
     "output_type": "display_data"
    }
   ],
   "source": [
    "sq_cr_data_WHCN = Array{Float64, 4}(undef,10,10,1,200);\n",
    "display( size(sq_cr_data_WHCN) )\n",
    "[ sq_cr_data_WHCN[:,:,:,ii] = noisySquare() for ii in 1:img_Num ]\n",
    "[ sq_cr_data_WHCN[:,:,:,ii] = noisyCross() for ii in img_Num+1:img_Num*2 ];"
   ]
  },
  {
   "cell_type": "code",
   "execution_count": 29,
   "metadata": {},
   "outputs": [
    {
     "data": {
      "image/png": "[encoded data removed]",
      "text/plain": [
       "10×10 Array{Gray{Float64},2} with eltype Gray{Float64}:\n",
       " Gray{Float64}(1.0)  Gray{Float64}(1.0)  …  Gray{Float64}(1.0)\n",
       " Gray{Float64}(1.0)  Gray{Float64}(1.0)     Gray{Float64}(1.0)\n",
       " Gray{Float64}(1.0)  Gray{Float64}(1.0)     Gray{Float64}(1.0)\n",
       " Gray{Float64}(1.0)  Gray{Float64}(1.0)     Gray{Float64}(1.0)\n",
       " Gray{Float64}(1.0)  Gray{Float64}(1.0)     Gray{Float64}(1.0)\n",
       " Gray{Float64}(1.0)  Gray{Float64}(1.0)  …  Gray{Float64}(1.0)\n",
       " Gray{Float64}(1.0)  Gray{Float64}(1.0)     Gray{Float64}(1.0)\n",
       " Gray{Float64}(1.0)  Gray{Float64}(1.0)     Gray{Float64}(1.0)\n",
       " Gray{Float64}(1.0)  Gray{Float64}(1.0)     Gray{Float64}(1.0)\n",
       " Gray{Float64}(1.0)  Gray{Float64}(1.0)     Gray{Float64}(1.0)"
      ]
     },
     "execution_count": 29,
     "metadata": {},
     "output_type": "execute_result"
    }
   ],
   "source": [
    "Gray.( sq_cr_data_WHCN[:,:,1,1] )"
   ]
  },
  {
   "cell_type": "code",
   "execution_count": 30,
   "metadata": {},
   "outputs": [
    {
     "data": {
      "image/png": "[encoded data removed]",
      "text/plain": [
       "10×10 Array{Gray{Float64},2} with eltype Gray{Float64}:\n",
       " Gray{Float64}(1.0)  Gray{Float64}(1.0)  …  Gray{Float64}(1.0)\n",
       " Gray{Float64}(1.0)  Gray{Float64}(1.0)     Gray{Float64}(1.0)\n",
       " Gray{Float64}(1.0)  Gray{Float64}(1.0)     Gray{Float64}(1.0)\n",
       " Gray{Float64}(1.0)  Gray{Float64}(1.0)     Gray{Float64}(1.0)\n",
       " Gray{Float64}(0.0)  Gray{Float64}(0.0)     Gray{Float64}(0.0)\n",
       " Gray{Float64}(1.0)  Gray{Float64}(1.0)  …  Gray{Float64}(1.0)\n",
       " Gray{Float64}(1.0)  Gray{Float64}(1.0)     Gray{Float64}(1.0)\n",
       " Gray{Float64}(1.0)  Gray{Float64}(1.0)     Gray{Float64}(1.0)\n",
       " Gray{Float64}(1.0)  Gray{Float64}(1.0)     Gray{Float64}(1.0)\n",
       " Gray{Float64}(1.0)  Gray{Float64}(1.0)     Gray{Float64}(1.0)"
      ]
     },
     "execution_count": 30,
     "metadata": {},
     "output_type": "execute_result"
    }
   ],
   "source": [
    "Gray.( sq_cr_data_WHCN[:,:,1,101] )"
   ]
  },
  {
   "cell_type": "code",
   "execution_count": null,
   "metadata": {},
   "outputs": [],
   "source": []
  },
  {
   "cell_type": "code",
   "execution_count": 41,
   "metadata": {},
   "outputs": [
    {
     "data": {
      "text/plain": [
       "Chain(\n",
       "  Conv((3, 3), 1 => 2),                 \u001b[90m# 20 parameters\u001b[39m\n",
       "  Conv((3, 3), 2 => 4, relu),           \u001b[90m# 76 parameters\u001b[39m\n",
       "  AdaptiveMeanPool((1, 1)),\n",
       "  Flux.flatten,\n",
       ") \u001b[90m                  # Total: 4 arrays, \u001b[39m96 parameters, 1.109 KiB."
      ]
     },
     "execution_count": 41,
     "metadata": {},
     "output_type": "execute_result"
    }
   ],
   "source": [
    "enc1 = Chain( Conv((3,3),1=>2) , Conv((3,3),2=>4,relu) , AdaptiveMeanPool((1,1)) , Flux.flatten )"
   ]
  },
  {
   "cell_type": "code",
   "execution_count": 52,
   "metadata": {},
   "outputs": [
    {
     "data": {
      "text/plain": [
       "Chain(\n",
       "  Dense(4 => 25),                       \u001b[90m# 125 parameters\u001b[39m\n",
       "  var\"#13#14\"(),\n",
       "  ConvTranspose((2, 2), 1 => 1, stride=2),  \u001b[90m# 5 parameters\u001b[39m\n",
       ") \u001b[90m                  # Total: 4 arrays, \u001b[39m130 parameters, 1008 bytes."
      ]
     },
     "execution_count": 52,
     "metadata": {},
     "output_type": "execute_result"
    }
   ],
   "source": [
    "dec1 = Chain(Dense(4=>25),x->reshape(x,5,5,1,:),ConvTranspose((2,2),1=>1,stride=2,pad=SamePad()) )"
   ]
  },
  {
   "cell_type": "code",
   "execution_count": 58,
   "metadata": {},
   "outputs": [
    {
     "name": "stdout",
     "output_type": "stream",
     "text": [
      "(4, 2)---(10, 10, 1, 2)\n"
     ]
    },
    {
     "data": {
      "image/png": "[encoded data removed]",
      "text/plain": [
       "10×10 Array{Gray{Float32},2} with eltype Gray{Float32}:\n",
       " Gray{Float32}(-0.0694388)  …  Gray{Float32}(0.16532)\n",
       " Gray{Float32}(0.104832)       Gray{Float32}(0.0793965)\n",
       " Gray{Float32}(0.0961463)      Gray{Float32}(-0.192258)\n",
       " Gray{Float32}(-0.145153)      Gray{Float32}(-0.0923341)\n",
       " Gray{Float32}(-0.0411438)     Gray{Float32}(0.00151868)\n",
       " Gray{Float32}(0.0621151)   …  Gray{Float32}(0.000729363)\n",
       " Gray{Float32}(-0.0220676)     Gray{Float32}(-0.156235)\n",
       " Gray{Float32}(0.0333156)      Gray{Float32}(-0.0750336)\n",
       " Gray{Float32}(0.11817)        Gray{Float32}(-0.0634994)\n",
       " Gray{Float32}(-0.178402)      Gray{Float32}(-0.0304962)"
      ]
     },
     "execution_count": 58,
     "metadata": {},
     "output_type": "execute_result"
    }
   ],
   "source": [
    "res1 = enc1( sq_cr_data_WHCN[:,:,:,1:2] )\n",
    "res2 = dec1( res1 )\n",
    "println( size(res1) ,\"---\", size(res2) )\n",
    "Gray.( res2[:,:,1,1] )"
   ]
  },
  {
   "cell_type": "code",
   "execution_count": 59,
   "metadata": {},
   "outputs": [
    {
     "data": {
      "text/plain": [
       "Chain(\n",
       "  Chain(\n",
       "    Conv((3, 3), 1 => 2),               \u001b[90m# 20 parameters\u001b[39m\n",
       "    Conv((3, 3), 2 => 4, relu),         \u001b[90m# 76 parameters\u001b[39m\n",
       "    AdaptiveMeanPool((1, 1)),\n",
       "    Flux.flatten,\n",
       "  ),\n",
       "  Chain(\n",
       "    Dense(4 => 25),                     \u001b[90m# 125 parameters\u001b[39m\n",
       "    var\"#13#14\"(),\n",
       "    ConvTranspose((2, 2), 1 => 1, stride=2),  \u001b[90m# 5 parameters\u001b[39m\n",
       "  ),\n",
       ") \u001b[90m                  # Total: 8 arrays, \u001b[39m226 parameters, 2.672 KiB."
      ]
     },
     "execution_count": 59,
     "metadata": {},
     "output_type": "execute_result"
    }
   ],
   "source": [
    "enc1_dec1 = Chain( enc1 , dec1 )"
   ]
  },
  {
   "cell_type": "code",
   "execution_count": 61,
   "metadata": {},
   "outputs": [
    {
     "data": {
      "image/png": "[encoded data removed]",
      "text/plain": [
       "10×10 Array{Gray{Float32},2} with eltype Gray{Float32}:\n",
       " Gray{Float32}(-0.0694388)  …  Gray{Float32}(0.16532)\n",
       " Gray{Float32}(0.104832)       Gray{Float32}(0.0793965)\n",
       " Gray{Float32}(0.0961463)      Gray{Float32}(-0.192258)\n",
       " Gray{Float32}(-0.145153)      Gray{Float32}(-0.0923341)\n",
       " Gray{Float32}(-0.0411438)     Gray{Float32}(0.00151868)\n",
       " Gray{Float32}(0.0621151)   …  Gray{Float32}(0.000729363)\n",
       " Gray{Float32}(-0.0220676)     Gray{Float32}(-0.156235)\n",
       " Gray{Float32}(0.0333156)      Gray{Float32}(-0.0750336)\n",
       " Gray{Float32}(0.11817)        Gray{Float32}(-0.0634994)\n",
       " Gray{Float32}(-0.178402)      Gray{Float32}(-0.0304962)"
      ]
     },
     "execution_count": 61,
     "metadata": {},
     "output_type": "execute_result"
    }
   ],
   "source": [
    "Gray.( enc1_dec1(sq_cr_data_WHCN[:,:,:,1:2])[:,:,1,1] )"
   ]
  },
  {
   "cell_type": "code",
   "execution_count": 66,
   "metadata": {},
   "outputs": [
    {
     "name": "stdout",
     "output_type": "stream",
     "text": [
      "(200,)"
     ]
    }
   ],
   "source": [
    "Y = vcat( repeat([\"S\"],img_Num) , repeat([\"C\"],img_Num) );\n",
    "print(size(Y))"
   ]
  },
  {
   "cell_type": "code",
   "execution_count": 79,
   "metadata": {},
   "outputs": [
    {
     "data": {
      "text/plain": [
       "20-element DataLoader(::Tuple{Array{Float64, 4}, Array{Float64, 4}}, shuffle=true, batchsize=10)\n",
       "  with first element:\n",
       "  (10×10×1×10 Array{Float64, 4}, 10×10×1×10 Array{Float64, 4},)"
      ]
     },
     "execution_count": 79,
     "metadata": {},
     "output_type": "execute_result"
    }
   ],
   "source": [
    "data = Flux.DataLoader( (sq_cr_data_WHCN,sq_cr_data_WHCN) , batchsize=10 , shuffle=true ) "
   ]
  },
  {
   "cell_type": "code",
   "execution_count": 80,
   "metadata": {},
   "outputs": [
    {
     "data": {
      "text/plain": [
       "2"
      ]
     },
     "execution_count": 80,
     "metadata": {},
     "output_type": "execute_result"
    }
   ],
   "source": [
    "length( enc1_dec1 )"
   ]
  },
  {
   "cell_type": "code",
   "execution_count": 81,
   "metadata": {},
   "outputs": [
    {
     "data": {
      "text/plain": [
       "ConvTranspose((2, 2), 1 => 1, stride=2)  \u001b[90m# 5 parameters\u001b[39m"
      ]
     },
     "execution_count": 81,
     "metadata": {},
     "output_type": "execute_result"
    }
   ],
   "source": [
    "enc1_dec1[2][3]"
   ]
  },
  {
   "cell_type": "code",
   "execution_count": 82,
   "metadata": {},
   "outputs": [
    {
     "data": {
      "text/plain": [
       "2×2×1×1 Array{Float32, 4}:\n",
       "[:, :, 1, 1] =\n",
       " 0.387861  -0.784573\n",
       " 0.807605   0.519685"
      ]
     },
     "execution_count": 82,
     "metadata": {},
     "output_type": "execute_result"
    }
   ],
   "source": [
    "enc1_dec1[2][3].weight"
   ]
  },
  {
   "cell_type": "code",
   "execution_count": 83,
   "metadata": {},
   "outputs": [],
   "source": [
    "opt = Flux.setup( Flux.Adam(0.001) , enc1_dec1 );"
   ]
  },
  {
   "cell_type": "code",
   "execution_count": 88,
   "metadata": {},
   "outputs": [
    {
     "data": {
      "image/svg+xml": [
       "<?xml version=\"1.0\" encoding=\"utf-8\"?>\n",
       "<svg xmlns=\"http://www.w3.org/2000/svg\" xmlns:xlink=\"http://www.w3.org/1999/xlink\" width=\"600\" height=\"150\" viewBox=\"0 0 2400 600\">\n",
       "<defs>\n",
       "  <clipPath id=\"clip310\">\n",
       "    <rect x=\"0\" y=\"0\" width=\"2400\" height=\"600\"/>\n",
       "  </clipPath>\n",
       "</defs>\n",
       "<path clip-path=\"url(#clip310)\" d=\"M0 600 L2400 600 L2400 0 L0 0  Z\" fill=\"#ffffff\" fill-rule=\"evenodd\" fill-opacity=\"1\"/>\n",
       "<defs>\n",
       "  <clipPath id=\"clip311\">\n",
       "    <rect x=\"480\" y=\"0\" width=\"1681\" height=\"600\"/>\n",
       "  </clipPath>\n",
       "</defs>\n",
       "<path clip-path=\"url(#clip310)\" d=\"M186.274 518.048 L2352.76 518.048 L2352.76 47.2441 L186.274 47.2441  Z\" fill=\"#ffffff\" fill-rule=\"evenodd\" fill-opacity=\"1\"/>\n",
       "<defs>\n",
       "  <clipPath id=\"clip312\">\n",
       "    <rect x=\"186\" y=\"47\" width=\"2167\" height=\"472\"/>\n",
       "  </clipPath>\n",
       "</defs>\n",
       "<polyline clip-path=\"url(#clip312)\" style=\"stroke:#000000; stroke-linecap:round; stroke-linejoin:round; stroke-width:2; stroke-opacity:0.1; fill:none\" points=\"246.567,518.048 246.567,47.2441 \"/>\n",
       "<polyline clip-path=\"url(#clip312)\" style=\"stroke:#000000; stroke-linecap:round; stroke-linejoin:round; stroke-width:2; stroke-opacity:0.1; fill:none\" points=\"757.785,518.048 757.785,47.2441 \"/>\n",
       "<polyline clip-path=\"url(#clip312)\" style=\"stroke:#000000; stroke-linecap:round; stroke-linejoin:round; stroke-width:2; stroke-opacity:0.1; fill:none\" points=\"1269,518.048 1269,47.2441 \"/>\n",
       "<polyline clip-path=\"url(#clip312)\" style=\"stroke:#000000; stroke-linecap:round; stroke-linejoin:round; stroke-width:2; stroke-opacity:0.1; fill:none\" points=\"1780.22,518.048 1780.22,47.2441 \"/>\n",
       "<polyline clip-path=\"url(#clip312)\" style=\"stroke:#000000; stroke-linecap:round; stroke-linejoin:round; stroke-width:2; stroke-opacity:0.1; fill:none\" points=\"2291.44,518.048 2291.44,47.2441 \"/>\n",
       "<polyline clip-path=\"url(#clip310)\" style=\"stroke:#000000; stroke-linecap:round; stroke-linejoin:round; stroke-width:4; stroke-opacity:1; fill:none\" points=\"186.274,518.048 2352.76,518.048 \"/>\n",
       "<polyline clip-path=\"url(#clip310)\" style=\"stroke:#000000; stroke-linecap:round; stroke-linejoin:round; stroke-width:4; stroke-opacity:1; fill:none\" points=\"246.567,518.048 246.567,499.15 \"/>\n",
       "<polyline clip-path=\"url(#clip310)\" style=\"stroke:#000000; stroke-linecap:round; stroke-linejoin:round; stroke-width:4; stroke-opacity:1; fill:none\" points=\"757.785,518.048 757.785,499.15 \"/>\n",
       "<polyline clip-path=\"url(#clip310)\" style=\"stroke:#000000; stroke-linecap:round; stroke-linejoin:round; stroke-width:4; stroke-opacity:1; fill:none\" points=\"1269,518.048 1269,499.15 \"/>\n",
       "<polyline clip-path=\"url(#clip310)\" style=\"stroke:#000000; stroke-linecap:round; stroke-linejoin:round; stroke-width:4; stroke-opacity:1; fill:none\" points=\"1780.22,518.048 1780.22,499.15 \"/>\n",
       "<polyline clip-path=\"url(#clip310)\" style=\"stroke:#000000; stroke-linecap:round; stroke-linejoin:round; stroke-width:4; stroke-opacity:1; fill:none\" points=\"2291.44,518.048 2291.44,499.15 \"/>\n",
       "<path clip-path=\"url(#clip310)\" d=\"M246.567 548.967 Q242.956 548.967 241.127 552.531 Q239.322 556.073 239.322 563.203 Q239.322 570.309 241.127 573.874 Q242.956 577.415 246.567 577.415 Q250.201 577.415 252.007 573.874 Q253.836 570.309 253.836 563.203 Q253.836 556.073 252.007 552.531 Q250.201 548.967 246.567 548.967 M246.567 545.263 Q252.377 545.263 255.433 549.869 Q258.511 554.453 258.511 563.203 Q258.511 571.929 255.433 576.536 Q252.377 581.119 246.567 581.119 Q240.757 581.119 237.678 576.536 Q234.623 571.929 234.623 563.203 Q234.623 554.453 237.678 549.869 Q240.757 545.263 246.567 545.263 Z\" fill=\"#000000\" fill-rule=\"nonzero\" fill-opacity=\"1\" /><path clip-path=\"url(#clip310)\" d=\"M717.404 545.888 L735.76 545.888 L735.76 549.823 L721.686 549.823 L721.686 558.295 Q722.705 557.948 723.723 557.786 Q724.742 557.601 725.76 557.601 Q731.547 557.601 734.927 560.772 Q738.306 563.943 738.306 569.36 Q738.306 574.939 734.834 578.04 Q731.362 581.119 725.043 581.119 Q722.867 581.119 720.598 580.749 Q718.353 580.378 715.945 579.638 L715.945 574.939 Q718.029 576.073 720.251 576.628 Q722.473 577.184 724.95 577.184 Q728.955 577.184 731.292 575.078 Q733.63 572.971 733.63 569.36 Q733.63 565.749 731.292 563.642 Q728.955 561.536 724.95 561.536 Q723.075 561.536 721.2 561.953 Q719.348 562.369 717.404 563.249 L717.404 545.888 Z\" fill=\"#000000\" fill-rule=\"nonzero\" fill-opacity=\"1\" /><path clip-path=\"url(#clip310)\" d=\"M757.519 548.967 Q753.908 548.967 752.079 552.531 Q750.274 556.073 750.274 563.203 Q750.274 570.309 752.079 573.874 Q753.908 577.415 757.519 577.415 Q761.153 577.415 762.959 573.874 Q764.788 570.309 764.788 563.203 Q764.788 556.073 762.959 552.531 Q761.153 548.967 757.519 548.967 M757.519 545.263 Q763.329 545.263 766.385 549.869 Q769.464 554.453 769.464 563.203 Q769.464 571.929 766.385 576.536 Q763.329 581.119 757.519 581.119 Q751.709 581.119 748.63 576.536 Q745.575 571.929 745.575 563.203 Q745.575 554.453 748.63 549.869 Q751.709 545.263 757.519 545.263 Z\" fill=\"#000000\" fill-rule=\"nonzero\" fill-opacity=\"1\" /><path clip-path=\"url(#clip310)\" d=\"M787.681 548.967 Q784.07 548.967 782.241 552.531 Q780.436 556.073 780.436 563.203 Q780.436 570.309 782.241 573.874 Q784.07 577.415 787.681 577.415 Q791.315 577.415 793.121 573.874 Q794.95 570.309 794.95 563.203 Q794.95 556.073 793.121 552.531 Q791.315 548.967 787.681 548.967 M787.681 545.263 Q793.491 545.263 796.547 549.869 Q799.625 554.453 799.625 563.203 Q799.625 571.929 796.547 576.536 Q793.491 581.119 787.681 581.119 Q781.871 581.119 778.792 576.536 Q775.737 571.929 775.737 563.203 Q775.737 554.453 778.792 549.869 Q781.871 545.263 787.681 545.263 Z\" fill=\"#000000\" fill-rule=\"nonzero\" fill-opacity=\"1\" /><path clip-path=\"url(#clip310)\" d=\"M1213.53 576.513 L1221.17 576.513 L1221.17 550.147 L1212.86 551.814 L1212.86 547.555 L1221.12 545.888 L1225.8 545.888 L1225.8 576.513 L1233.44 576.513 L1233.44 580.448 L1213.53 580.448 L1213.53 576.513 Z\" fill=\"#000000\" fill-rule=\"nonzero\" fill-opacity=\"1\" /><path clip-path=\"url(#clip310)\" d=\"M1252.88 548.967 Q1249.27 548.967 1247.44 552.531 Q1245.64 556.073 1245.64 563.203 Q1245.64 570.309 1247.44 573.874 Q1249.27 577.415 1252.88 577.415 Q1256.52 577.415 1258.32 573.874 Q1260.15 570.309 1260.15 563.203 Q1260.15 556.073 1258.32 552.531 Q1256.52 548.967 1252.88 548.967 M1252.88 545.263 Q1258.69 545.263 1261.75 549.869 Q1264.83 554.453 1264.83 563.203 Q1264.83 571.929 1261.75 576.536 Q1258.69 581.119 1252.88 581.119 Q1247.07 581.119 1243.99 576.536 Q1240.94 571.929 1240.94 563.203 Q1240.94 554.453 1243.99 549.869 Q1247.07 545.263 1252.88 545.263 Z\" fill=\"#000000\" fill-rule=\"nonzero\" fill-opacity=\"1\" /><path clip-path=\"url(#clip310)\" d=\"M1283.04 548.967 Q1279.43 548.967 1277.6 552.531 Q1275.8 556.073 1275.8 563.203 Q1275.8 570.309 1277.6 573.874 Q1279.43 577.415 1283.04 577.415 Q1286.68 577.415 1288.48 573.874 Q1290.31 570.309 1290.31 563.203 Q1290.31 556.073 1288.48 552.531 Q1286.68 548.967 1283.04 548.967 M1283.04 545.263 Q1288.85 545.263 1291.91 549.869 Q1294.99 554.453 1294.99 563.203 Q1294.99 571.929 1291.91 576.536 Q1288.85 581.119 1283.04 581.119 Q1277.23 581.119 1274.15 576.536 Q1271.1 571.929 1271.1 563.203 Q1271.1 554.453 1274.15 549.869 Q1277.23 545.263 1283.04 545.263 Z\" fill=\"#000000\" fill-rule=\"nonzero\" fill-opacity=\"1\" /><path clip-path=\"url(#clip310)\" d=\"M1313.2 548.967 Q1309.59 548.967 1307.77 552.531 Q1305.96 556.073 1305.96 563.203 Q1305.96 570.309 1307.77 573.874 Q1309.59 577.415 1313.2 577.415 Q1316.84 577.415 1318.64 573.874 Q1320.47 570.309 1320.47 563.203 Q1320.47 556.073 1318.64 552.531 Q1316.84 548.967 1313.2 548.967 M1313.2 545.263 Q1319.02 545.263 1322.07 549.869 Q1325.15 554.453 1325.15 563.203 Q1325.15 571.929 1322.07 576.536 Q1319.02 581.119 1313.2 581.119 Q1307.39 581.119 1304.32 576.536 Q1301.26 571.929 1301.26 563.203 Q1301.26 554.453 1304.32 549.869 Q1307.39 545.263 1313.2 545.263 Z\" fill=\"#000000\" fill-rule=\"nonzero\" fill-opacity=\"1\" /><path clip-path=\"url(#clip310)\" d=\"M1724.75 576.513 L1732.39 576.513 L1732.39 550.147 L1724.08 551.814 L1724.08 547.555 L1732.34 545.888 L1737.02 545.888 L1737.02 576.513 L1744.66 576.513 L1744.66 580.448 L1724.75 580.448 L1724.75 576.513 Z\" fill=\"#000000\" fill-rule=\"nonzero\" fill-opacity=\"1\" /><path clip-path=\"url(#clip310)\" d=\"M1754.15 545.888 L1772.5 545.888 L1772.5 549.823 L1758.43 549.823 L1758.43 558.295 Q1759.45 557.948 1760.47 557.786 Q1761.48 557.601 1762.5 557.601 Q1768.29 557.601 1771.67 560.772 Q1775.05 563.943 1775.05 569.36 Q1775.05 574.939 1771.58 578.04 Q1768.1 581.119 1761.78 581.119 Q1759.61 581.119 1757.34 580.749 Q1755.09 580.378 1752.69 579.638 L1752.69 574.939 Q1754.77 576.073 1756.99 576.628 Q1759.22 577.184 1761.69 577.184 Q1765.7 577.184 1768.03 575.078 Q1770.37 572.971 1770.37 569.36 Q1770.37 565.749 1768.03 563.642 Q1765.7 561.536 1761.69 561.536 Q1759.82 561.536 1757.94 561.953 Q1756.09 562.369 1754.15 563.249 L1754.15 545.888 Z\" fill=\"#000000\" fill-rule=\"nonzero\" fill-opacity=\"1\" /><path clip-path=\"url(#clip310)\" d=\"M1794.26 548.967 Q1790.65 548.967 1788.82 552.531 Q1787.02 556.073 1787.02 563.203 Q1787.02 570.309 1788.82 573.874 Q1790.65 577.415 1794.26 577.415 Q1797.9 577.415 1799.7 573.874 Q1801.53 570.309 1801.53 563.203 Q1801.53 556.073 1799.7 552.531 Q1797.9 548.967 1794.26 548.967 M1794.26 545.263 Q1800.07 545.263 1803.13 549.869 Q1806.21 554.453 1806.21 563.203 Q1806.21 571.929 1803.13 576.536 Q1800.07 581.119 1794.26 581.119 Q1788.45 581.119 1785.37 576.536 Q1782.32 571.929 1782.32 563.203 Q1782.32 554.453 1785.37 549.869 Q1788.45 545.263 1794.26 545.263 Z\" fill=\"#000000\" fill-rule=\"nonzero\" fill-opacity=\"1\" /><path clip-path=\"url(#clip310)\" d=\"M1824.42 548.967 Q1820.81 548.967 1818.98 552.531 Q1817.18 556.073 1817.18 563.203 Q1817.18 570.309 1818.98 573.874 Q1820.81 577.415 1824.42 577.415 Q1828.06 577.415 1829.86 573.874 Q1831.69 570.309 1831.69 563.203 Q1831.69 556.073 1829.86 552.531 Q1828.06 548.967 1824.42 548.967 M1824.42 545.263 Q1830.23 545.263 1833.29 549.869 Q1836.37 554.453 1836.37 563.203 Q1836.37 571.929 1833.29 576.536 Q1830.23 581.119 1824.42 581.119 Q1818.61 581.119 1815.53 576.536 Q1812.48 571.929 1812.48 563.203 Q1812.48 554.453 1815.53 549.869 Q1818.61 545.263 1824.42 545.263 Z\" fill=\"#000000\" fill-rule=\"nonzero\" fill-opacity=\"1\" /><path clip-path=\"url(#clip310)\" d=\"M2240.05 576.513 L2256.37 576.513 L2256.37 580.448 L2234.43 580.448 L2234.43 576.513 Q2237.09 573.758 2241.67 569.128 Q2246.28 564.476 2247.46 563.133 Q2249.7 560.61 2250.58 558.874 Q2251.49 557.115 2251.49 555.425 Q2251.49 552.67 2249.54 550.934 Q2247.62 549.198 2244.52 549.198 Q2242.32 549.198 2239.87 549.962 Q2237.44 550.726 2234.66 552.277 L2234.66 547.555 Q2237.48 546.42 2239.94 545.842 Q2242.39 545.263 2244.43 545.263 Q2249.8 545.263 2252.99 547.948 Q2256.19 550.633 2256.19 555.124 Q2256.19 557.254 2255.38 559.175 Q2254.59 561.073 2252.48 563.666 Q2251.9 564.337 2248.8 567.554 Q2245.7 570.749 2240.05 576.513 Z\" fill=\"#000000\" fill-rule=\"nonzero\" fill-opacity=\"1\" /><path clip-path=\"url(#clip310)\" d=\"M2276.19 548.967 Q2272.57 548.967 2270.75 552.531 Q2268.94 556.073 2268.94 563.203 Q2268.94 570.309 2270.75 573.874 Q2272.57 577.415 2276.19 577.415 Q2279.82 577.415 2281.63 573.874 Q2283.45 570.309 2283.45 563.203 Q2283.45 556.073 2281.63 552.531 Q2279.82 548.967 2276.19 548.967 M2276.19 545.263 Q2282 545.263 2285.05 549.869 Q2288.13 554.453 2288.13 563.203 Q2288.13 571.929 2285.05 576.536 Q2282 581.119 2276.19 581.119 Q2270.38 581.119 2267.3 576.536 Q2264.24 571.929 2264.24 563.203 Q2264.24 554.453 2267.3 549.869 Q2270.38 545.263 2276.19 545.263 Z\" fill=\"#000000\" fill-rule=\"nonzero\" fill-opacity=\"1\" /><path clip-path=\"url(#clip310)\" d=\"M2306.35 548.967 Q2302.74 548.967 2300.91 552.531 Q2299.1 556.073 2299.1 563.203 Q2299.1 570.309 2300.91 573.874 Q2302.74 577.415 2306.35 577.415 Q2309.98 577.415 2311.79 573.874 Q2313.62 570.309 2313.62 563.203 Q2313.62 556.073 2311.79 552.531 Q2309.98 548.967 2306.35 548.967 M2306.35 545.263 Q2312.16 545.263 2315.21 549.869 Q2318.29 554.453 2318.29 563.203 Q2318.29 571.929 2315.21 576.536 Q2312.16 581.119 2306.35 581.119 Q2300.54 581.119 2297.46 576.536 Q2294.4 571.929 2294.4 563.203 Q2294.4 554.453 2297.46 549.869 Q2300.54 545.263 2306.35 545.263 Z\" fill=\"#000000\" fill-rule=\"nonzero\" fill-opacity=\"1\" /><path clip-path=\"url(#clip310)\" d=\"M2336.51 548.967 Q2332.9 548.967 2331.07 552.531 Q2329.26 556.073 2329.26 563.203 Q2329.26 570.309 2331.07 573.874 Q2332.9 577.415 2336.51 577.415 Q2340.14 577.415 2341.95 573.874 Q2343.78 570.309 2343.78 563.203 Q2343.78 556.073 2341.95 552.531 Q2340.14 548.967 2336.51 548.967 M2336.51 545.263 Q2342.32 545.263 2345.38 549.869 Q2348.45 554.453 2348.45 563.203 Q2348.45 571.929 2345.38 576.536 Q2342.32 581.119 2336.51 581.119 Q2330.7 581.119 2327.62 576.536 Q2324.57 571.929 2324.57 563.203 Q2324.57 554.453 2327.62 549.869 Q2330.7 545.263 2336.51 545.263 Z\" fill=\"#000000\" fill-rule=\"nonzero\" fill-opacity=\"1\" /><polyline clip-path=\"url(#clip312)\" style=\"stroke:#000000; stroke-linecap:round; stroke-linejoin:round; stroke-width:2; stroke-opacity:0.1; fill:none\" points=\"186.274,400.931 2352.76,400.931 \"/>\n",
       "<polyline clip-path=\"url(#clip312)\" style=\"stroke:#000000; stroke-linecap:round; stroke-linejoin:round; stroke-width:2; stroke-opacity:0.1; fill:none\" points=\"186.274,283.116 2352.76,283.116 \"/>\n",
       "<polyline clip-path=\"url(#clip312)\" style=\"stroke:#000000; stroke-linecap:round; stroke-linejoin:round; stroke-width:2; stroke-opacity:0.1; fill:none\" points=\"186.274,165.302 2352.76,165.302 \"/>\n",
       "<polyline clip-path=\"url(#clip312)\" style=\"stroke:#000000; stroke-linecap:round; stroke-linejoin:round; stroke-width:2; stroke-opacity:0.1; fill:none\" points=\"186.274,47.4876 2352.76,47.4876 \"/>\n",
       "<polyline clip-path=\"url(#clip310)\" style=\"stroke:#000000; stroke-linecap:round; stroke-linejoin:round; stroke-width:4; stroke-opacity:1; fill:none\" points=\"186.274,518.048 186.274,47.2441 \"/>\n",
       "<polyline clip-path=\"url(#clip310)\" style=\"stroke:#000000; stroke-linecap:round; stroke-linejoin:round; stroke-width:4; stroke-opacity:1; fill:none\" points=\"186.274,400.931 205.172,400.931 \"/>\n",
       "<polyline clip-path=\"url(#clip310)\" style=\"stroke:#000000; stroke-linecap:round; stroke-linejoin:round; stroke-width:4; stroke-opacity:1; fill:none\" points=\"186.274,283.116 205.172,283.116 \"/>\n",
       "<polyline clip-path=\"url(#clip310)\" style=\"stroke:#000000; stroke-linecap:round; stroke-linejoin:round; stroke-width:4; stroke-opacity:1; fill:none\" points=\"186.274,165.302 205.172,165.302 \"/>\n",
       "<polyline clip-path=\"url(#clip310)\" style=\"stroke:#000000; stroke-linecap:round; stroke-linejoin:round; stroke-width:4; stroke-opacity:1; fill:none\" points=\"186.274,47.4876 205.172,47.4876 \"/>\n",
       "<path clip-path=\"url(#clip310)\" d=\"M62.9365 386.729 Q59.3254 386.729 57.4967 390.294 Q55.6912 393.836 55.6912 400.965 Q55.6912 408.072 57.4967 411.637 Q59.3254 415.178 62.9365 415.178 Q66.5707 415.178 68.3763 411.637 Q70.205 408.072 70.205 400.965 Q70.205 393.836 68.3763 390.294 Q66.5707 386.729 62.9365 386.729 M62.9365 383.026 Q68.7467 383.026 71.8022 387.632 Q74.8809 392.215 74.8809 400.965 Q74.8809 409.692 71.8022 414.299 Q68.7467 418.882 62.9365 418.882 Q57.1264 418.882 54.0477 414.299 Q50.9921 409.692 50.9921 400.965 Q50.9921 392.215 54.0477 387.632 Q57.1264 383.026 62.9365 383.026 Z\" fill=\"#000000\" fill-rule=\"nonzero\" fill-opacity=\"1\" /><path clip-path=\"url(#clip310)\" d=\"M83.0984 412.331 L87.9827 412.331 L87.9827 418.211 L83.0984 418.211 L83.0984 412.331 Z\" fill=\"#000000\" fill-rule=\"nonzero\" fill-opacity=\"1\" /><path clip-path=\"url(#clip310)\" d=\"M98.978 414.276 L106.617 414.276 L106.617 387.91 L98.3067 389.577 L98.3067 385.317 L106.571 383.651 L111.246 383.651 L111.246 414.276 L118.885 414.276 L118.885 418.211 L98.978 418.211 L98.978 414.276 Z\" fill=\"#000000\" fill-rule=\"nonzero\" fill-opacity=\"1\" /><path clip-path=\"url(#clip310)\" d=\"M138.33 386.729 Q134.719 386.729 132.89 390.294 Q131.084 393.836 131.084 400.965 Q131.084 408.072 132.89 411.637 Q134.719 415.178 138.33 415.178 Q141.964 415.178 143.769 411.637 Q145.598 408.072 145.598 400.965 Q145.598 393.836 143.769 390.294 Q141.964 386.729 138.33 386.729 M138.33 383.026 Q144.14 383.026 147.195 387.632 Q150.274 392.215 150.274 400.965 Q150.274 409.692 147.195 414.299 Q144.14 418.882 138.33 418.882 Q132.519 418.882 129.441 414.299 Q126.385 409.692 126.385 400.965 Q126.385 392.215 129.441 387.632 Q132.519 383.026 138.33 383.026 Z\" fill=\"#000000\" fill-rule=\"nonzero\" fill-opacity=\"1\" /><path clip-path=\"url(#clip310)\" d=\"M63.9319 268.915 Q60.3208 268.915 58.4921 272.48 Q56.6865 276.021 56.6865 283.151 Q56.6865 290.257 58.4921 293.822 Q60.3208 297.364 63.9319 297.364 Q67.5661 297.364 69.3717 293.822 Q71.2004 290.257 71.2004 283.151 Q71.2004 276.021 69.3717 272.48 Q67.5661 268.915 63.9319 268.915 M63.9319 265.211 Q69.742 265.211 72.7976 269.818 Q75.8763 274.401 75.8763 283.151 Q75.8763 291.878 72.7976 296.484 Q69.742 301.068 63.9319 301.068 Q58.1217 301.068 55.043 296.484 Q51.9875 291.878 51.9875 283.151 Q51.9875 274.401 55.043 269.818 Q58.1217 265.211 63.9319 265.211 Z\" fill=\"#000000\" fill-rule=\"nonzero\" fill-opacity=\"1\" /><path clip-path=\"url(#clip310)\" d=\"M84.0938 294.517 L88.978 294.517 L88.978 300.396 L84.0938 300.396 L84.0938 294.517 Z\" fill=\"#000000\" fill-rule=\"nonzero\" fill-opacity=\"1\" /><path clip-path=\"url(#clip310)\" d=\"M99.9733 296.461 L107.612 296.461 L107.612 270.096 L99.3021 271.762 L99.3021 267.503 L107.566 265.836 L112.242 265.836 L112.242 296.461 L119.881 296.461 L119.881 300.396 L99.9733 300.396 L99.9733 296.461 Z\" fill=\"#000000\" fill-rule=\"nonzero\" fill-opacity=\"1\" /><path clip-path=\"url(#clip310)\" d=\"M129.371 265.836 L147.728 265.836 L147.728 269.771 L133.654 269.771 L133.654 278.244 Q134.672 277.896 135.691 277.734 Q136.709 277.549 137.728 277.549 Q143.515 277.549 146.894 280.721 Q150.274 283.892 150.274 289.308 Q150.274 294.887 146.802 297.989 Q143.33 301.068 137.01 301.068 Q134.834 301.068 132.566 300.697 Q130.32 300.327 127.913 299.586 L127.913 294.887 Q129.996 296.021 132.219 296.577 Q134.441 297.132 136.918 297.132 Q140.922 297.132 143.26 295.026 Q145.598 292.92 145.598 289.308 Q145.598 285.697 143.26 283.591 Q140.922 281.484 136.918 281.484 Q135.043 281.484 133.168 281.901 Q131.316 282.318 129.371 283.197 L129.371 265.836 Z\" fill=\"#000000\" fill-rule=\"nonzero\" fill-opacity=\"1\" /><path clip-path=\"url(#clip310)\" d=\"M62.9365 151.101 Q59.3254 151.101 57.4967 154.665 Q55.6912 158.207 55.6912 165.337 Q55.6912 172.443 57.4967 176.008 Q59.3254 179.55 62.9365 179.55 Q66.5707 179.55 68.3763 176.008 Q70.205 172.443 70.205 165.337 Q70.205 158.207 68.3763 154.665 Q66.5707 151.101 62.9365 151.101 M62.9365 147.397 Q68.7467 147.397 71.8022 152.003 Q74.8809 156.587 74.8809 165.337 Q74.8809 174.064 71.8022 178.67 Q68.7467 183.253 62.9365 183.253 Q57.1264 183.253 54.0477 178.67 Q50.9921 174.064 50.9921 165.337 Q50.9921 156.587 54.0477 152.003 Q57.1264 147.397 62.9365 147.397 Z\" fill=\"#000000\" fill-rule=\"nonzero\" fill-opacity=\"1\" /><path clip-path=\"url(#clip310)\" d=\"M83.0984 176.702 L87.9827 176.702 L87.9827 182.582 L83.0984 182.582 L83.0984 176.702 Z\" fill=\"#000000\" fill-rule=\"nonzero\" fill-opacity=\"1\" /><path clip-path=\"url(#clip310)\" d=\"M102.196 178.647 L118.515 178.647 L118.515 182.582 L96.5706 182.582 L96.5706 178.647 Q99.2326 175.892 103.816 171.263 Q108.422 166.61 109.603 165.267 Q111.848 162.744 112.728 161.008 Q113.631 159.249 113.631 157.559 Q113.631 154.804 111.686 153.068 Q109.765 151.332 106.663 151.332 Q104.464 151.332 102.01 152.096 Q99.5798 152.86 96.8021 154.411 L96.8021 149.689 Q99.6261 148.554 102.08 147.976 Q104.534 147.397 106.571 147.397 Q111.941 147.397 115.135 150.082 Q118.33 152.767 118.33 157.258 Q118.33 159.388 117.52 161.309 Q116.733 163.207 114.626 165.8 Q114.047 166.471 110.946 169.689 Q107.844 172.883 102.196 178.647 Z\" fill=\"#000000\" fill-rule=\"nonzero\" fill-opacity=\"1\" /><path clip-path=\"url(#clip310)\" d=\"M138.33 151.101 Q134.719 151.101 132.89 154.665 Q131.084 158.207 131.084 165.337 Q131.084 172.443 132.89 176.008 Q134.719 179.55 138.33 179.55 Q141.964 179.55 143.769 176.008 Q145.598 172.443 145.598 165.337 Q145.598 158.207 143.769 154.665 Q141.964 151.101 138.33 151.101 M138.33 147.397 Q144.14 147.397 147.195 152.003 Q150.274 156.587 150.274 165.337 Q150.274 174.064 147.195 178.67 Q144.14 183.253 138.33 183.253 Q132.519 183.253 129.441 178.67 Q126.385 174.064 126.385 165.337 Q126.385 156.587 129.441 152.003 Q132.519 147.397 138.33 147.397 Z\" fill=\"#000000\" fill-rule=\"nonzero\" fill-opacity=\"1\" /><path clip-path=\"url(#clip310)\" d=\"M63.9319 33.2863 Q60.3208 33.2863 58.4921 36.8511 Q56.6865 40.3928 56.6865 47.5223 Q56.6865 54.6288 58.4921 58.1936 Q60.3208 61.7352 63.9319 61.7352 Q67.5661 61.7352 69.3717 58.1936 Q71.2004 54.6288 71.2004 47.5223 Q71.2004 40.3928 69.3717 36.8511 Q67.5661 33.2863 63.9319 33.2863 M63.9319 29.5826 Q69.742 29.5826 72.7976 34.1891 Q75.8763 38.7724 75.8763 47.5223 Q75.8763 56.2492 72.7976 60.8556 Q69.742 65.4389 63.9319 65.4389 Q58.1217 65.4389 55.043 60.8556 Q51.9875 56.2492 51.9875 47.5223 Q51.9875 38.7724 55.043 34.1891 Q58.1217 29.5826 63.9319 29.5826 Z\" fill=\"#000000\" fill-rule=\"nonzero\" fill-opacity=\"1\" /><path clip-path=\"url(#clip310)\" d=\"M84.0938 58.888 L88.978 58.888 L88.978 64.7676 L84.0938 64.7676 L84.0938 58.888 Z\" fill=\"#000000\" fill-rule=\"nonzero\" fill-opacity=\"1\" /><path clip-path=\"url(#clip310)\" d=\"M103.191 60.8325 L119.51 60.8325 L119.51 64.7676 L97.566 64.7676 L97.566 60.8325 Q100.228 58.0778 104.811 53.4482 Q109.418 48.7955 110.598 47.4529 Q112.844 44.9298 113.723 43.1937 Q114.626 41.4344 114.626 39.7446 Q114.626 36.99 112.682 35.2539 Q110.76 33.5178 107.658 33.5178 Q105.459 33.5178 103.006 34.2817 Q100.575 35.0456 97.7974 36.5965 L97.7974 31.8743 Q100.621 30.74 103.075 30.1613 Q105.529 29.5826 107.566 29.5826 Q112.936 29.5826 116.131 32.2678 Q119.325 34.953 119.325 39.4437 Q119.325 41.5733 118.515 43.4946 Q117.728 45.3927 115.621 47.9853 Q115.043 48.6566 111.941 51.8742 Q108.839 55.0686 103.191 60.8325 Z\" fill=\"#000000\" fill-rule=\"nonzero\" fill-opacity=\"1\" /><path clip-path=\"url(#clip310)\" d=\"M129.371 30.2076 L147.728 30.2076 L147.728 34.1428 L133.654 34.1428 L133.654 42.615 Q134.672 42.2677 135.691 42.1057 Q136.709 41.9205 137.728 41.9205 Q143.515 41.9205 146.894 45.0918 Q150.274 48.2631 150.274 53.6797 Q150.274 59.2584 146.802 62.3602 Q143.33 65.4389 137.01 65.4389 Q134.834 65.4389 132.566 65.0685 Q130.32 64.6982 127.913 63.9574 L127.913 59.2584 Q129.996 60.3926 132.219 60.9482 Q134.441 61.5038 136.918 61.5038 Q140.922 61.5038 143.26 59.3973 Q145.598 57.2908 145.598 53.6797 Q145.598 50.0686 143.26 47.9622 Q140.922 45.8557 136.918 45.8557 Q135.043 45.8557 133.168 46.2724 Q131.316 46.689 129.371 47.5686 L129.371 30.2076 Z\" fill=\"#000000\" fill-rule=\"nonzero\" fill-opacity=\"1\" /><polyline clip-path=\"url(#clip312)\" style=\"stroke:#009af9; stroke-linecap:round; stroke-linejoin:round; stroke-width:4; stroke-opacity:1; fill:none\" points=\"247.59,66.4298 248.612,71.2731 249.634,60.5687 250.657,70.2443 251.679,80.5916 252.702,82.5853 253.724,73.1446 254.747,81.6118 255.769,85.0495 256.791,76.5686 257.814,74.8087 258.836,80.8086 259.859,91.983 260.881,89.9304 261.904,86.0561 262.926,88.4941 263.949,80.2196 264.971,92.174 265.993,85.6309 267.016,101.452 268.038,98.9616 269.061,85.5447 270.083,97.3419 271.106,93.601 272.128,96.1196 273.15,89.4093 274.173,100.067 275.195,102.919 276.218,102.388 277.24,106.692 278.263,98.4098 279.285,100.702 280.307,101.964 281.33,106.798 282.352,99.2028 283.375,105.777 284.397,107.451 285.42,108.734 286.442,106.792 287.465,98.2018 288.487,104.468 289.509,115.675 290.532,108.735 291.554,113.664 292.577,120.359 293.599,120.44 294.622,112.067 295.644,115.33 296.666,114.395 297.689,115.179 298.711,120.64 299.734,125.122 300.756,113.962 301.779,114.279 302.801,130.792 303.824,121.576 304.846,124.576 305.868,124.55 306.891,123.883 307.913,125.911 308.936,133.591 309.958,127.393 310.981,124.561 312.003,136.525 313.025,123.904 314.048,137.836 315.07,129.025 316.093,134.502 317.115,133.339 318.138,145.002 319.16,130.832 320.183,141.419 321.205,140.528 322.227,130.279 323.25,141.843 324.272,134.883 325.295,138.123 326.317,142.912 327.34,135.591 328.362,135.468 329.384,138.136 330.407,148.953 331.429,141.034 332.452,143.995 333.474,148.742 334.497,154.333 335.519,142.673 336.542,154.266 337.564,154.513 338.586,145.798 339.609,156.992 340.631,154.727 341.654,151.645 342.676,154.278 343.699,154.127 344.721,148.856 345.743,155.615 346.766,151.847 347.788,156.93 348.811,152.742 349.833,158.834 350.856,154.112 351.878,165.803 352.901,150.48 353.923,156.1 354.945,163.583 355.968,165.092 356.99,156.516 358.013,166.359 359.035,161.208 360.058,167.828 361.08,168.192 362.102,162.159 363.125,172.16 364.147,169.47 365.17,163.65 366.192,171.447 367.215,172.474 368.237,177.801 369.259,178.525 370.282,172.238 371.304,176.446 372.327,178.135 373.349,169.326 374.372,180.72 375.394,179.241 376.417,173.456 377.439,180.588 378.461,173.075 379.484,182.561 380.506,172.258 381.529,174.149 382.551,179.714 383.574,195.107 384.596,179.211 385.618,175.848 386.641,183.823 387.663,179.618 388.686,183.98 389.708,181.634 390.731,182.342 391.753,188.658 392.776,185.467 393.798,191.853 394.82,187.68 395.843,189.274 396.865,193.361 397.888,195.927 398.91,191.081 399.933,198.078 400.955,197.554 401.977,194.76 403,189.08 404.022,192.256 405.045,185.947 406.067,189.142 407.09,194.213 408.112,198.431 409.135,188.052 410.157,192.116 411.179,189.255 412.202,207.41 413.224,197.903 414.247,198.609 415.269,204.598 416.292,200.846 417.314,198.408 418.336,207.819 419.359,203.35 420.381,209.373 421.404,201.704 422.426,206.029 423.449,196.56 424.471,204.492 425.494,207.483 426.516,207.471 427.538,208.468 428.561,208.826 429.583,200.643 430.606,207.562 431.628,196.806 432.651,210.842 433.673,213.555 434.695,206.704 435.718,211.864 436.74,209.806 437.763,218.199 438.785,222.17 439.808,208.437 440.83,215.844 441.852,213.115 442.875,215.301 443.897,217.935 444.92,218.327 445.942,219.039 446.965,220.844 447.987,218.614 449.01,211.733 450.032,229.955 451.054,213.065 452.077,225.227 453.099,219.047 454.122,234.475 455.144,221.163 456.167,221.629 457.189,224.974 458.211,219.231 459.234,227.89 460.256,218.946 461.279,224.585 462.301,222.77 463.324,227.46 464.346,227.75 465.369,224.928 466.391,230.939 467.413,226.34 468.436,230.185 469.458,231.655 470.481,229.964 471.503,219.157 472.526,229.34 473.548,229.065 474.57,234.089 475.593,236.062 476.615,233.728 477.638,230.571 478.66,234.021 479.683,235.843 480.705,231.546 481.728,234.024 482.75,237.312 483.772,241.93 484.795,233.279 485.817,247.968 486.84,234.504 487.862,234.093 488.885,238.561 489.907,241.623 490.929,234.664 491.952,237.342 492.974,241.26 493.997,237.396 495.019,245.776 496.042,243.883 497.064,238.402 498.087,243.659 499.109,238.795 500.131,248.348 501.154,249.977 502.176,246.387 503.199,253.471 504.221,244.386 505.244,240.483 506.266,248.012 507.288,244.29 508.311,247.653 509.333,247.407 510.356,245.13 511.378,252.073 512.401,245.514 513.423,242.941 514.445,254.458 515.468,254.145 516.49,252.813 517.513,252.866 518.535,254.569 519.558,257.054 520.58,245.769 521.603,248.604 522.625,242.77 523.647,245.741 524.67,267.719 525.692,258.93 526.715,250.399 527.737,259.005 528.76,251.086 529.782,260.888 530.804,271.802 531.827,261.917 532.849,248.464 533.872,260.64 534.894,255.828 535.917,257.879 536.939,253.943 537.962,261.812 538.984,261.814 540.006,258.98 541.029,270.735 542.051,257.635 543.074,254.425 544.096,269.105 545.119,275.517 546.141,257.712 547.163,265.94 548.186,260.475 549.208,274.336 550.231,265.839 551.253,265.474 552.276,263.73 553.298,266.53 554.321,270.553 555.343,258.839 556.365,275.332 557.388,262.663 558.41,266.505 559.433,270.402 560.455,269.302 561.478,271.651 562.5,267.925 563.522,276.084 564.545,254.731 565.567,282.963 566.59,266.064 567.612,270.623 568.635,277.156 569.657,276.339 570.68,276.516 571.702,278.227 572.724,276.751 573.747,277.132 574.769,274.721 575.792,280.95 576.814,282.11 577.837,261.888 578.859,281.132 579.881,280.009 580.904,285.549 581.926,280.14 582.949,276.386 583.971,276.384 584.994,281.935 586.016,270.528 587.038,271.134 588.061,280.183 589.083,281.202 590.106,284.934 591.128,282.468 592.151,290.58 593.173,280.515 594.196,281.739 595.218,283.769 596.24,277.166 597.263,282.306 598.285,287.055 599.308,286.218 600.33,277.72 601.353,287.071 602.375,274.551 603.397,287.686 604.42,283.59 605.442,284.426 606.465,292.99 607.487,293.705 608.51,285.794 609.532,288.875 610.555,295.074 611.577,291.911 612.599,294.61 613.622,297.971 614.644,287.222 615.667,287.74 616.689,293.663 617.712,296.445 618.734,286.529 619.756,299.668 620.779,284.494 621.801,296.773 622.824,299.314 623.846,297.374 624.869,285.938 625.891,287.123 626.914,298.732 627.936,315.019 628.958,299.349 629.981,282.107 631.003,302.143 632.026,301.689 633.048,297.016 634.071,288.105 635.093,291.693 636.115,308.428 637.138,290.116 638.16,291.452 639.183,306.993 640.205,291.483 641.228,302.063 642.25,299.98 643.273,301.348 644.295,306.518 645.317,294.168 646.34,293.594 647.362,302.255 648.385,306.213 649.407,300.991 650.43,316.904 651.452,300.714 652.474,307.94 653.497,304.812 654.519,306.842 655.542,303.911 656.564,303.91 657.587,305.515 658.609,298.763 659.631,299.333 660.654,312.162 661.676,301.034 662.699,311.295 663.721,299.9 664.744,303.257 665.766,309.98 666.789,304.63 667.811,311.634 668.833,303.029 669.856,314.918 670.878,321.761 671.901,322.752 672.923,309.588 673.946,314.533 674.968,316.975 675.99,313.592 677.013,306.088 678.035,318.156 679.058,306.537 680.08,332.044 681.103,317.272 682.125,318.129 683.148,300.956 684.17,315.468 685.192,322.879 686.215,314.146 687.237,313.54 688.26,321.34 689.282,315.803 690.305,314.117 691.327,309.448 692.349,319.96 693.372,327.588 694.394,324.204 695.417,311.728 696.439,305.127 697.462,314.059 698.484,326.449 699.507,315.901 700.529,323.723 701.551,314.038 702.574,313.358 703.596,318.246 704.619,325.486 705.641,318.167 706.664,315.989 707.686,333.347 708.708,313.124 709.731,320.5 710.753,329.174 711.776,323.035 712.798,324.288 713.821,336.077 714.843,328.27 715.866,328.395 716.888,329.79 717.91,336.208 718.933,311.116 719.955,342.978 720.978,324.102 722,326.866 723.023,313.499 724.045,323.62 725.067,338.103 726.09,328.728 727.112,336.404 728.135,332.249 729.157,331.723 730.18,326.469 731.202,317.024 732.224,332.888 733.247,327.928 734.269,325.261 735.292,350.028 736.314,333.484 737.337,324.066 738.359,333.272 739.382,326.161 740.404,333.367 741.426,332.494 742.449,338.663 743.471,336.114 744.494,330.536 745.516,328.149 746.539,328.538 747.561,343.15 748.583,341.074 749.606,339.561 750.628,345.207 751.651,331.38 752.673,336.266 753.696,335.388 754.718,336.276 755.741,341.58 756.763,336.906 757.785,342.849 758.808,348.23 759.83,346.499 760.853,341.279 761.875,325.525 762.898,334.594 763.92,341.539 764.942,335.303 765.965,348.194 766.987,351.54 768.01,343.19 769.032,334.111 770.055,336.353 771.077,331.26 772.1,350.813 773.122,354.22 774.144,335.068 775.167,355.559 776.189,346.414 777.212,338.243 778.234,342.434 779.257,339.124 780.279,344.964 781.301,351.587 782.324,355.64 783.346,342.765 784.369,346.88 785.391,339.331 786.414,345.89 787.436,354.651 788.459,358.969 789.481,346.171 790.503,335.911 791.526,355.781 792.548,350.772 793.571,350.173 794.593,348.061 795.616,354.572 796.638,354.098 797.66,331.606 798.683,358.136 799.705,340.856 800.728,343.606 801.75,355.928 802.773,346.111 803.795,357.477 804.817,360.538 805.84,355.704 806.862,361.485 807.885,352.342 808.907,366.493 809.93,348.649 810.952,345.064 811.975,360.268 812.997,350.577 814.019,347.239 815.042,364.8 816.064,354.421 817.087,357.378 818.109,354.33 819.132,359.867 820.154,360.118 821.176,355.606 822.199,357.471 823.221,364.889 824.244,360.759 825.266,357.8 826.289,360.558 827.311,369.568 828.334,358.645 829.356,357.237 830.378,361.568 831.401,347.737 832.423,356.741 833.446,357.744 834.468,363.752 835.491,374 836.513,347.7 837.535,360.98 838.558,362.247 839.58,366.454 840.603,360.238 841.625,366.961 842.648,367.465 843.67,362.948 844.693,361.5 845.715,367.787 846.737,357.075 847.76,356.15 848.782,373.895 849.805,364.405 850.827,373.123 851.85,357.776 852.872,361.412 853.894,359.96 854.917,370.443 855.939,364.901 856.962,362.862 857.984,382.306 859.007,368.269 860.029,371.723 861.052,384.266 862.074,371.708 863.096,363.863 864.119,365.733 865.141,385.256 866.164,370.984 867.186,367.709 868.209,358.799 869.231,376.974 870.253,368.925 871.276,376.708 872.298,384.968 873.321,365.499 874.343,357.132 875.366,377.744 876.388,376.851 877.411,366.419 878.433,370.665 879.455,356.727 880.478,363.124 881.5,382.542 882.523,370.712 883.545,364.996 884.568,376.412 885.59,382.212 886.612,356.785 887.635,365.622 888.657,384.878 889.68,375.527 890.702,383.18 891.725,392.215 892.747,369.763 893.769,382.526 894.792,372.984 895.814,370.478 896.837,372.635 897.859,362.269 898.882,387.454 899.904,381.12 900.927,383.787 901.949,389.502 902.971,378.42 903.994,377.835 905.016,371.47 906.039,375.954 907.061,392.316 908.084,374.042 909.106,394.111 910.128,374.214 911.151,378.405 912.173,386.052 913.196,382.25 914.218,381.833 915.241,367.563 916.263,369.587 917.286,375.789 918.308,374.608 919.33,385.007 920.353,389.768 921.375,393.863 922.398,383.234 923.42,380.532 924.443,377.262 925.465,383.822 926.487,367.045 927.51,387.602 928.532,389.472 929.555,388.533 930.577,380.811 931.6,392.668 932.622,399.836 933.645,385.605 934.667,388.524 935.689,374.419 936.712,383.853 937.734,387.448 938.757,391.715 939.779,385.146 940.802,378.951 941.824,394.893 942.846,379.35 943.869,384.867 944.891,381.902 945.914,395.445 946.936,387.866 947.959,396.827 948.981,400.242 950.004,402.365 951.026,402.934 952.048,390.412 953.071,399.155 954.093,379.665 955.116,390.405 956.138,394.009 957.161,383.493 958.183,386.647 959.205,389.582 960.228,381.786 961.25,377.342 962.273,376.688 963.295,390.995 964.318,394.386 965.34,386.372 966.362,388.798 967.385,387.573 968.407,384.561 969.43,398.04 970.452,387.962 971.475,406.25 972.497,413.212 973.52,371.918 974.542,396.331 975.564,407.071 976.587,390.987 977.609,368.118 978.632,396.995 979.654,400.842 980.677,393.29 981.699,389.661 982.721,399.23 983.744,391.066 984.766,391.163 985.789,392.415 986.811,394.319 987.834,397.299 988.856,387.987 989.879,392.144 990.901,399.956 991.923,413.015 992.946,389.432 993.968,400.735 994.991,393.402 996.013,391.771 997.036,391.575 998.058,393.236 999.08,404.49 1000.1,403.767 1001.13,395.575 1002.15,388.202 1003.17,414.021 1004.19,410.541 1005.22,402.697 1006.24,382.729 1007.26,399.703 1008.28,396.747 1009.3,407.282 1010.33,403.363 1011.35,401.491 1012.37,388.596 1013.39,412.749 1014.42,396.776 1015.44,394.861 1016.46,396.394 1017.48,408.053 1018.51,397.874 1019.53,412.6 1020.55,375.93 1021.57,411.527 1022.6,394.549 1023.62,397.073 1024.64,411.398 1025.66,396.111 1026.69,412.731 1027.71,405.035 1028.73,394.626 1029.75,413.323 1030.78,409.245 1031.8,406.265 1032.82,400.954 1033.84,395.84 1034.87,411.923 1035.89,389.747 1036.91,392.97 1037.93,406.996 1038.96,391.126 1039.98,398.346 1041,401.542 1042.02,395.337 1043.05,414.602 1044.07,402.513 1045.09,408.626 1046.11,400.48 1047.13,417.621 1048.16,401.986 1049.18,401.314 1050.2,397.013 1051.22,394.29 1052.25,416.14 1053.27,420.44 1054.29,402.913 1055.31,399.4 1056.34,406.665 1057.36,385.893 1058.38,402.695 1059.4,411.853 1060.43,396.852 1061.45,410.138 1062.47,397.991 1063.49,419.145 1064.52,417.208 1065.54,406.598 1066.56,424.835 1067.58,416.47 1068.61,405.852 1069.63,408.432 1070.65,398.39 1071.67,402.33 1072.7,405.294 1073.72,394.216 1074.74,405.475 1075.76,408.578 1076.79,419.749 1077.81,408.897 1078.83,418.332 1079.85,396.031 1080.88,414.872 1081.9,397.709 1082.92,392.444 1083.94,402.488 1084.97,430.087 1085.99,406.834 1087.01,449.346 1088.03,413.942 1089.05,405.009 1090.08,424.988 1091.1,409.963 1092.12,422.757 1093.14,405.023 1094.17,390.251 1095.19,395.704 1096.21,402.976 1097.23,400.333 1098.26,394.165 1099.28,420.575 1100.3,431.417 1101.32,403.615 1102.35,404.864 1103.37,421.4 1104.39,405.468 1105.41,396.928 1106.44,414.282 1107.46,406.574 1108.48,412.092 1109.5,417.629 1110.53,402.243 1111.55,418.627 1112.57,416.387 1113.59,398.884 1114.62,413.843 1115.64,413.104 1116.66,402.871 1117.68,420.665 1118.71,412.563 1119.73,416.994 1120.75,401.621 1121.77,411.179 1122.8,431.924 1123.82,417.519 1124.84,404.89 1125.86,415.988 1126.89,409.867 1127.91,401.747 1128.93,409.202 1129.95,429.973 1130.97,405.062 1132,406.683 1133.02,408.174 1134.04,400.698 1135.06,442.127 1136.09,401.145 1137.11,431.372 1138.13,425.741 1139.15,403.206 1140.18,441.041 1141.2,407.192 1142.22,409.982 1143.24,412.138 1144.27,414.921 1145.29,417.16 1146.31,412.573 1147.33,423.243 1148.36,399.449 1149.38,424.569 1150.4,414.738 1151.42,419.894 1152.45,423.13 1153.47,422.461 1154.49,407.11 1155.51,419.424 1156.54,411.629 1157.56,424.494 1158.58,421.794 1159.6,424.564 1160.63,410.503 1161.65,422.545 1162.67,412.919 1163.69,423.901 1164.72,398.206 1165.74,422.093 1166.76,403.298 1167.78,399.93 1168.8,417.533 1169.83,411.397 1170.85,413.927 1171.87,414.572 1172.89,416.418 1173.92,427.649 1174.94,422.649 1175.96,417.016 1176.98,417.612 1178.01,402.378 1179.03,414.478 1180.05,420.636 1181.07,414.241 1182.1,412.775 1183.12,430.835 1184.14,419.885 1185.16,451.115 1186.19,423.188 1187.21,416.501 1188.23,420.814 1189.25,435.251 1190.28,431.048 1191.3,423.558 1192.32,415.259 1193.34,410.636 1194.37,412.292 1195.39,412.568 1196.41,415.541 1197.43,424.527 1198.46,404.305 1199.48,423.571 1200.5,419.029 1201.52,416.9 1202.55,423.564 1203.57,430.445 1204.59,415.812 1205.61,424.639 1206.64,413.866 1207.66,427.555 1208.68,406.759 1209.7,408.402 1210.72,431.813 1211.75,423.669 1212.77,434.034 1213.79,432.534 1214.81,408.368 1215.84,403.741 1216.86,436.317 1217.88,412.546 1218.9,411.847 1219.93,436.506 1220.95,416.733 1221.97,440.083 1222.99,412.862 1224.02,431.629 1225.04,433.308 1226.06,415.444 1227.08,417.914 1228.11,422.823 1229.13,425.859 1230.15,425.953 1231.17,440.665 1232.2,425.055 1233.22,428.843 1234.24,420.876 1235.26,419.01 1236.29,437.233 1237.31,431.048 1238.33,414.28 1239.35,405.411 1240.38,423.356 1241.4,416.593 1242.42,408.228 1243.44,428.368 1244.47,415.295 1245.49,434.43 1246.51,420.913 1247.53,423.383 1248.56,424.083 1249.58,415.652 1250.6,428.806 1251.62,438.511 1252.64,425.174 1253.67,424.1 1254.69,413.984 1255.71,423.202 1256.73,419.838 1257.76,426.224 1258.78,437.614 1259.8,419.259 1260.82,423.679 1261.85,428.059 1262.87,436.586 1263.89,418.469 1264.91,420.649 1265.94,437.321 1266.96,418.147 1267.98,433.495 1269,410.207 1270.03,447.969 1271.05,412.484 1272.07,422.186 1273.09,435.568 1274.12,436.153 1275.14,431.913 1276.16,421.208 1277.18,406.535 1278.21,437.221 1279.23,412.879 1280.25,429.112 1281.27,419.093 1282.3,425.094 1283.32,431.805 1284.34,431.596 1285.36,415.684 1286.39,419.25 1287.41,426.098 1288.43,441.799 1289.45,425.35 1290.47,423.891 1291.5,431.189 1292.52,436.908 1293.54,431.752 1294.56,420.616 1295.59,431.401 1296.61,437.176 1297.63,438.858 1298.65,432.71 1299.68,422.587 1300.7,435.726 1301.72,421.888 1302.74,415.431 1303.77,438.034 1304.79,437.289 1305.81,422.029 1306.83,408.785 1307.86,422.037 1308.88,420.522 1309.9,429.953 1310.92,447.527 1311.95,436.795 1312.97,434.576 1313.99,437.574 1315.01,419.838 1316.04,428.544 1317.06,412.07 1318.08,428.849 1319.1,410.62 1320.13,425.387 1321.15,436.605 1322.17,434.252 1323.19,425.463 1324.22,429.823 1325.24,441.681 1326.26,422.476 1327.28,429.302 1328.31,438.656 1329.33,423.737 1330.35,424.043 1331.37,428.678 1332.39,444.668 1333.42,433.116 1334.44,419.171 1335.46,424.187 1336.48,425.025 1337.51,455.702 1338.53,454.972 1339.55,432.543 1340.57,418.123 1341.6,430.852 1342.62,445.994 1343.64,429.226 1344.66,417.066 1345.69,415.663 1346.71,430.03 1347.73,415.442 1348.75,448.541 1349.78,431.896 1350.8,413.763 1351.82,428.102 1352.84,429.491 1353.87,423.829 1354.89,430.695 1355.91,427.388 1356.93,411.319 1357.96,424.012 1358.98,431.948 1360,438.309 1361.02,443.261 1362.05,436.6 1363.07,441.208 1364.09,451.153 1365.11,420.292 1366.14,425.754 1367.16,429.467 1368.18,428.72 1369.2,449.822 1370.22,422.924 1371.25,445.386 1372.27,432.528 1373.29,428.528 1374.31,424.793 1375.34,439.54 1376.36,420.565 1377.38,424.479 1378.4,428.099 1379.43,430.77 1380.45,444.541 1381.47,432.392 1382.49,430.055 1383.52,420.596 1384.54,432.971 1385.56,442.317 1386.58,444.763 1387.61,440.355 1388.63,431.587 1389.65,436.1 1390.67,439.387 1391.7,441.934 1392.72,445.637 1393.74,430.616 1394.76,422.162 1395.79,451.577 1396.81,438.338 1397.83,433.788 1398.85,419.852 1399.88,437.709 1400.9,421.102 1401.92,425.451 1402.94,444.777 1403.97,432.419 1404.99,437.425 1406.01,441.328 1407.03,424.552 1408.06,437.322 1409.08,433.822 1410.1,433.615 1411.12,433.646 1412.14,441.966 1413.17,410.708 1414.19,440.414 1415.21,429.512 1416.23,433.476 1417.26,443.462 1418.28,424.421 1419.3,445.644 1420.32,426.547 1421.35,436.446 1422.37,432.573 1423.39,443.376 1424.41,433.703 1425.44,443.377 1426.46,423.561 1427.48,446.519 1428.5,431.425 1429.53,442.621 1430.55,439.665 1431.57,440.278 1432.59,444.669 1433.62,428.963 1434.64,421.802 1435.66,451.255 1436.68,436.402 1437.71,456.03 1438.73,439.635 1439.75,430.498 1440.77,457.079 1441.8,441.343 1442.82,442.052 1443.84,424.58 1444.86,438.235 1445.89,425.516 1446.91,434.396 1447.93,431.996 1448.95,442.548 1449.98,448.641 1451,426.358 1452.02,428.341 1453.04,432.774 1454.06,425.813 1455.09,446.453 1456.11,464.495 1457.13,410.346 1458.15,432.712 1459.18,427.592 1460.2,451.465 1461.22,435.82 1462.24,429.943 1463.27,436.611 1464.29,448.161 1465.31,435.911 1466.33,425.661 1467.36,443.823 1468.38,438.274 1469.4,435.31 1470.42,447.298 1471.45,429.657 1472.47,443.349 1473.49,451.723 1474.51,426.246 1475.54,430.654 1476.56,444.665 1477.58,444.788 1478.6,430.71 1479.63,449.371 1480.65,447.178 1481.67,434.674 1482.69,438.841 1483.72,450.779 1484.74,436.033 1485.76,440.675 1486.78,453.99 1487.81,428.956 1488.83,467.049 1489.85,450.495 1490.87,414.035 1491.89,455.453 1492.92,413.636 1493.94,422.35 1494.96,441.769 1495.98,425.85 1497.01,451.803 1498.03,430.939 1499.05,459.092 1500.07,436 1501.1,435.792 1502.12,455.015 1503.14,434.913 1504.16,449.475 1505.19,440.772 1506.21,438.58 1507.23,436.142 1508.25,417.17 1509.28,441.862 1510.3,437.81 1511.32,458.438 1512.34,431.468 1513.37,432.307 1514.39,448.771 1515.41,449.641 1516.43,428.992 1517.46,443.288 1518.48,435.46 1519.5,442.588 1520.52,438.912 1521.55,435.673 1522.57,431.539 1523.59,453.628 1524.61,448.791 1525.64,450.02 1526.66,432.557 1527.68,447.107 1528.7,448.708 1529.73,439.511 1530.75,438.545 1531.77,433.376 1532.79,435.472 1533.81,445.254 1534.84,444.067 1535.86,428.01 1536.88,474.724 1537.9,438.674 1538.93,417.705 1539.95,431.941 1540.97,428.066 1541.99,446.366 1543.02,430.375 1544.04,465.814 1545.06,469.08 1546.08,423.98 1547.11,434.083 1548.13,441.712 1549.15,439.263 1550.17,439.168 1551.2,460.386 1552.22,448.507 1553.24,445.616 1554.26,443.685 1555.29,436.279 1556.31,433.602 1557.33,441.772 1558.35,435.019 1559.38,424.286 1560.4,455.896 1561.42,446.677 1562.44,439.666 1563.47,445.495 1564.49,450.494 1565.51,458.037 1566.53,464.712 1567.56,424.337 1568.58,441.398 1569.6,442.455 1570.62,443.463 1571.64,438.233 1572.67,451.795 1573.69,434.268 1574.71,461.005 1575.73,433.077 1576.76,434.213 1577.78,454.277 1578.8,426.592 1579.82,449.233 1580.85,443.98 1581.87,472.084 1582.89,456.863 1583.91,426.988 1584.94,465.023 1585.96,448.278 1586.98,457.091 1588,431.406 1589.03,448.568 1590.05,441.533 1591.07,427.52 1592.09,445.082 1593.12,436.12 1594.14,445.113 1595.16,438.523 1596.18,436.486 1597.21,436.262 1598.23,440.899 1599.25,420.455 1600.27,441.155 1601.3,447.565 1602.32,444.267 1603.34,445.74 1604.36,450.524 1605.39,427.651 1606.41,448.055 1607.43,445.988 1608.45,450.833 1609.48,447.713 1610.5,452.901 1611.52,445.46 1612.54,445.664 1613.56,455.968 1614.59,456.076 1615.61,455.465 1616.63,443.472 1617.65,461.516 1618.68,449.433 1619.7,444.798 1620.72,448.01 1621.74,450.756 1622.77,455.237 1623.79,450.718 1624.81,446.084 1625.83,431.986 1626.86,429.006 1627.88,442.251 1628.9,439.892 1629.92,438.036 1630.95,444.253 1631.97,462.452 1632.99,437.278 1634.01,443.728 1635.04,450.108 1636.06,464.364 1637.08,433.138 1638.1,436.474 1639.13,433.427 1640.15,458.352 1641.17,466.799 1642.19,465.865 1643.22,449.684 1644.24,444.328 1645.26,451.234 1646.28,459.883 1647.31,445.929 1648.33,432.571 1649.35,448.496 1650.37,454.97 1651.4,449.133 1652.42,451.642 1653.44,444.115 1654.46,439.769 1655.48,445.365 1656.51,424.881 1657.53,437.193 1658.55,446.539 1659.57,437.425 1660.6,448.263 1661.62,462.855 1662.64,452.474 1663.66,469.782 1664.69,437.976 1665.71,436.536 1666.73,441.924 1667.75,439.025 1668.78,432.843 1669.8,450.356 1670.82,445.985 1671.84,441.24 1672.87,442.279 1673.89,458.094 1674.91,449.655 1675.93,460.46 1676.96,454.54 1677.98,449.142 1679,465.527 1680.02,431.867 1681.05,441.021 1682.07,441.117 1683.09,434.666 1684.11,459.539 1685.14,459.817 1686.16,443.648 1687.18,445.446 1688.2,463.145 1689.23,438.067 1690.25,432.577 1691.27,443.308 1692.29,443.116 1693.31,441.757 1694.34,476.961 1695.36,429.042 1696.38,460.853 1697.4,468.145 1698.43,454.109 1699.45,451.756 1700.47,447.608 1701.49,439.231 1702.52,444.646 1703.54,435.74 1704.56,432.098 1705.58,443.441 1706.61,439.65 1707.63,438.058 1708.65,443.391 1709.67,486.138 1710.7,438.265 1711.72,456.956 1712.74,452.859 1713.76,471.291 1714.79,445.53 1715.81,450.264 1716.83,457.959 1717.85,450.997 1718.88,463.262 1719.9,438.728 1720.92,482.202 1721.94,461.134 1722.97,419.424 1723.99,473.141 1725.01,451.501 1726.03,432.23 1727.06,452.991 1728.08,459.325 1729.1,453.74 1730.12,435.242 1731.15,460.01 1732.17,451.601 1733.19,429.727 1734.21,445.128 1735.23,475.905 1736.26,441.669 1737.28,441.648 1738.3,443.53 1739.32,454.913 1740.35,470.836 1741.37,437.942 1742.39,460.804 1743.41,434.276 1744.44,436.069 1745.46,474.112 1746.48,443.286 1747.5,456.33 1748.53,461.948 1749.55,441.257 1750.57,452.229 1751.59,437.079 1752.62,456.654 1753.64,430.253 1754.66,463.791 1755.68,447.348 1756.71,452.687 1757.73,464.386 1758.75,444.583 1759.77,457.015 1760.8,446.244 1761.82,456.415 1762.84,446.54 1763.86,447.291 1764.89,439.457 1765.91,480.653 1766.93,434.789 1767.95,461.33 1768.98,437.652 1770,440.673 1771.02,439.752 1772.04,453.007 1773.07,457.452 1774.09,450.772 1775.11,451.235 1776.13,460.258 1777.15,455.332 1778.18,451.961 1779.2,473.823 1780.22,451.716 1781.24,458.104 1782.27,465.391 1783.29,467.799 1784.31,462.059 1785.33,441.913 1786.36,449.898 1787.38,444.417 1788.4,460.447 1789.42,461.565 1790.45,454.758 1791.47,441.261 1792.49,453.709 1793.51,456.945 1794.54,446.453 1795.56,457.657 1796.58,443.593 1797.6,448.222 1798.63,432.252 1799.65,455.411 1800.67,449.517 1801.69,451.824 1802.72,444.519 1803.74,444.936 1804.76,433.542 1805.78,457.442 1806.81,464.689 1807.83,456.345 1808.85,450.638 1809.87,476.802 1810.9,449.749 1811.92,455.071 1812.94,445.748 1813.96,454.231 1814.98,429.708 1816.01,454.368 1817.03,443.185 1818.05,460.021 1819.07,451.381 1820.1,474.53 1821.12,466.119 1822.14,439.497 1823.16,426.865 1824.19,441.672 1825.21,466.353 1826.23,446.358 1827.25,447.72 1828.28,458.611 1829.3,465.882 1830.32,452.649 1831.34,485.172 1832.37,469.797 1833.39,454.091 1834.41,452.07 1835.43,450.799 1836.46,454.277 1837.48,456.074 1838.5,462.343 1839.52,451.245 1840.55,446.846 1841.57,449.269 1842.59,448.609 1843.61,474.541 1844.64,458.393 1845.66,469.766 1846.68,445.303 1847.7,455.112 1848.73,475.21 1849.75,453.372 1850.77,458.327 1851.79,458.75 1852.82,442.067 1853.84,463.441 1854.86,454.698 1855.88,444.06 1856.9,449.292 1857.93,459.903 1858.95,435.956 1859.97,439.835 1860.99,457.854 1862.02,447.747 1863.04,451.408 1864.06,444.769 1865.08,434.984 1866.11,444.461 1867.13,478.52 1868.15,455.6 1869.17,466.086 1870.2,450.96 1871.22,451.028 1872.24,441.105 1873.26,449.102 1874.29,465.402 1875.31,456.473 1876.33,451.995 1877.35,453.789 1878.38,477.646 1879.4,457.604 1880.42,446.223 1881.44,487.72 1882.47,438.395 1883.49,460.848 1884.51,446.227 1885.53,440.248 1886.56,453.452 1887.58,462.336 1888.6,459.298 1889.62,455.327 1890.65,443.904 1891.67,469.825 1892.69,462.424 1893.71,470.449 1894.73,432.337 1895.76,460.699 1896.78,465.785 1897.8,466.539 1898.82,440.971 1899.85,435.279 1900.87,471.514 1901.89,458.659 1902.91,460.875 1903.94,442.336 1904.96,453.011 1905.98,458.53 1907,456.607 1908.03,455.282 1909.05,481.213 1910.07,469.426 1911.09,439.808 1912.12,454.469 1913.14,445.776 1914.16,460.704 1915.18,449.384 1916.21,444.919 1917.23,453.25 1918.25,441.116 1919.27,480.364 1920.3,459.384 1921.32,455.407 1922.34,468.453 1923.36,458.738 1924.39,444.799 1925.41,474.899 1926.43,454.457 1927.45,454.601 1928.48,449.723 1929.5,453.413 1930.52,442.353 1931.54,459.638 1932.57,469.855 1933.59,455.77 1934.61,466.24 1935.63,452.467 1936.65,463.93 1937.68,445.469 1938.7,453.264 1939.72,453.048 1940.74,464.579 1941.77,461.592 1942.79,454.474 1943.81,464.122 1944.83,473.291 1945.86,463.831 1946.88,468.725 1947.9,459.48 1948.92,439.883 1949.95,456.476 1950.97,434.184 1951.99,458.139 1953.01,459.771 1954.04,455.47 1955.06,450.159 1956.08,488.925 1957.1,458.961 1958.13,462.29 1959.15,460.541 1960.17,443.319 1961.19,455.158 1962.22,439.689 1963.24,458.305 1964.26,461.172 1965.28,459.385 1966.31,459.869 1967.33,459.557 1968.35,451.07 1969.37,444.805 1970.4,451.515 1971.42,472.602 1972.44,458.823 1973.46,462.125 1974.49,445.663 1975.51,462.341 1976.53,468.655 1977.55,453.547 1978.57,458.889 1979.6,452.4 1980.62,453.311 1981.64,456.547 1982.66,452.786 1983.69,462.524 1984.71,471.775 1985.73,475.979 1986.75,445.385 1987.78,462.645 1988.8,448.297 1989.82,454.806 1990.84,471.037 1991.87,455.007 1992.89,462.94 1993.91,459.233 1994.93,458.016 1995.96,462.396 1996.98,440.789 1998,463.06 1999.02,463.023 2000.05,462.539 2001.07,467.994 2002.09,442.356 2003.11,469.529 2004.14,435.793 2005.16,465.624 2006.18,457.54 2007.2,463.067 2008.23,453.968 2009.25,461.145 2010.27,455.394 2011.29,475.817 2012.32,460.229 2013.34,453.293 2014.36,458.804 2015.38,470.68 2016.4,452.234 2017.43,455.679 2018.45,472.96 2019.47,448.917 2020.49,453.611 2021.52,465.124 2022.54,459.54 2023.56,455.304 2024.58,441.193 2025.61,463.596 2026.63,452.678 2027.65,468.408 2028.67,447.481 2029.7,472.281 2030.72,478.717 2031.74,440.894 2032.76,456.125 2033.79,442.377 2034.81,466.84 2035.83,457.945 2036.85,461.088 2037.88,467.614 2038.9,489.471 2039.92,457.327 2040.94,451.544 2041.97,461.174 2042.99,448.915 2044.01,446.211 2045.03,464.873 2046.06,455.659 2047.08,455.103 2048.1,452.73 2049.12,459.744 2050.15,495.401 2051.17,458.705 2052.19,454.377 2053.21,451.647 2054.24,469.374 2055.26,459.268 2056.28,469.44 2057.3,463.224 2058.32,432.337 2059.35,464.283 2060.37,470.595 2061.39,483.158 2062.41,458.088 2063.44,460.208 2064.46,461.628 2065.48,438.508 2066.5,439.194 2067.53,472.731 2068.55,472.11 2069.57,463.892 2070.59,462.637 2071.62,455.147 2072.64,467.339 2073.66,465.557 2074.68,435.488 2075.71,453.689 2076.73,467.776 2077.75,462.205 2078.77,468.74 2079.8,468.96 2080.82,457.851 2081.84,439.703 2082.86,443.131 2083.89,477.615 2084.91,469.484 2085.93,449.508 2086.95,449.661 2087.98,453.644 2089,477.452 2090.02,465.656 2091.04,465.835 2092.07,468.597 2093.09,460.157 2094.11,450.441 2095.13,445.396 2096.15,439.445 2097.18,468.099 2098.2,480.092 2099.22,442.058 2100.24,465.942 2101.27,454.564 2102.29,472.51 2103.31,464.354 2104.33,453.875 2105.36,455.793 2106.38,470.488 2107.4,453.775 2108.42,446.837 2109.45,446.695 2110.47,474.164 2111.49,465.967 2112.51,461.002 2113.54,471.545 2114.56,459.751 2115.58,467.563 2116.6,467.309 2117.63,459.685 2118.65,461.918 2119.67,477.549 2120.69,467.232 2121.72,460.508 2122.74,441.248 2123.76,468.39 2124.78,449.212 2125.81,449.5 2126.83,452.15 2127.85,471.07 2128.87,455.842 2129.9,442.007 2130.92,450.284 2131.94,448.136 2132.96,467.43 2133.99,455.578 2135.01,464.631 2136.03,471.005 2137.05,461.591 2138.07,483.957 2139.1,464.837 2140.12,463.554 2141.14,455.375 2142.16,463.383 2143.19,473.363 2144.21,450.853 2145.23,483.886 2146.25,449.908 2147.28,457.826 2148.3,461.288 2149.32,474.354 2150.34,464.548 2151.37,459.441 2152.39,431.819 2153.41,463.731 2154.43,460.009 2155.46,465.762 2156.48,449.959 2157.5,475.955 2158.52,457.192 2159.55,447.46 2160.57,477.3 2161.59,459.961 2162.61,465.913 2163.64,460.894 2164.66,472.244 2165.68,473.131 2166.7,472.722 2167.73,456.729 2168.75,441.207 2169.77,462.753 2170.79,478.101 2171.82,454.698 2172.84,453.749 2173.86,454.742 2174.88,447.754 2175.91,454.875 2176.93,462.283 2177.95,462.502 2178.97,465.061 2179.99,462.417 2181.02,477.989 2182.04,466.443 2183.06,464.722 2184.08,456.778 2185.11,462.043 2186.13,464.258 2187.15,452.078 2188.17,463.153 2189.2,470.843 2190.22,450.138 2191.24,458.64 2192.26,462.711 2193.29,467.113 2194.31,455.231 2195.33,448.758 2196.35,460.252 2197.38,485.258 2198.4,470.836 2199.42,434.951 2200.44,460.884 2201.47,455.53 2202.49,450.957 2203.51,474.008 2204.53,477.721 2205.56,467.984 2206.58,452.034 2207.6,467.628 2208.62,479.125 2209.65,463.473 2210.67,452.711 2211.69,455.071 2212.71,444.332 2213.74,480.637 2214.76,467.354 2215.78,476.518 2216.8,469.2 2217.82,472.045 2218.85,447.918 2219.87,468.206 2220.89,458.034 2221.91,464.256 2222.94,467.862 2223.96,463.528 2224.98,460.9 2226,452.73 2227.03,468.843 2228.05,463.656 2229.07,446.461 2230.09,469.324 2231.12,463.15 2232.14,448.971 2233.16,484.162 2234.18,467.312 2235.21,462.975 2236.23,442.192 2237.25,504.723 2238.27,456.033 2239.3,458.634 2240.32,472.148 2241.34,466.644 2242.36,451.971 2243.39,453.008 2244.41,452.873 2245.43,473.625 2246.45,469.173 2247.48,453.216 2248.5,465.752 2249.52,442.188 2250.54,463.259 2251.57,489.694 2252.59,449.576 2253.61,478.582 2254.63,478.299 2255.66,457.987 2256.68,456.307 2257.7,446.974 2258.72,449.74 2259.74,490.886 2260.77,470.685 2261.79,442.892 2262.81,448.129 2263.83,464.621 2264.86,466.55 2265.88,454.73 2266.9,494.474 2267.92,468.482 2268.95,450.349 2269.97,455.585 2270.99,442.993 2272.01,470.218 2273.04,471.227 2274.06,443.934 2275.08,464.704 2276.1,462.349 2277.13,442.54 2278.15,476.779 2279.17,491.385 2280.19,455.716 2281.22,463.994 2282.24,445.165 2283.26,448.394 2284.28,452.689 2285.31,482.076 2286.33,470.639 2287.35,468.716 2288.37,457.944 2289.4,475.688 2290.42,474.099 2291.44,442.83 \"/>\n",
       "</svg>\n"
      ]
     },
     "metadata": {},
     "output_type": "display_data"
    }
   ],
   "source": [
    "losses = []\n",
    "\n",
    "for epoch in 1:100\n",
    "    \n",
    "    for ( x , y ) in data   \n",
    "        \n",
    "        loss_tmp, grads = Flux.withgradient( enc1_dec1 ) do model\n",
    "                \n",
    "            y_hat = model( x )\n",
    "            loss = Flux.mse( y_hat , y )\n",
    "            return loss\n",
    "            \n",
    "        end     \n",
    "        Flux.update!( opt , enc1_dec1 , grads[1] )\n",
    "        push!(losses,loss_tmp) #don't put this in the above block where the gradient is computed\n",
    "    end\n",
    "#     break\n",
    "end\n",
    "p1 = plot( losses ,  legend=false , size=(600,150) )\n",
    "display(p1)"
   ]
  },
  {
   "cell_type": "code",
   "execution_count": 89,
   "metadata": {},
   "outputs": [
    {
     "data": {
      "image/png": "[encoded data removed]",
      "text/plain": [
       "10×10 Array{Gray{Float32},2} with eltype Gray{Float32}:\n",
       " Gray{Float32}(1.03966)   Gray{Float32}(1.02961)   …  Gray{Float32}(1.02505)\n",
       " Gray{Float32}(0.959437)  Gray{Float32}(0.984061)     Gray{Float32}(0.980021)\n",
       " Gray{Float32}(1.02258)   Gray{Float32}(1.01294)      Gray{Float32}(1.03391)\n",
       " Gray{Float32}(0.94571)   Gray{Float32}(0.969302)     Gray{Float32}(0.987864)\n",
       " Gray{Float32}(1.10189)   Gray{Float32}(1.0903)       Gray{Float32}(1.08552)\n",
       " Gray{Float32}(1.00942)   Gray{Float32}(1.0378)    …  Gray{Float32}(1.03357)\n",
       " Gray{Float32}(1.03613)   Gray{Float32}(1.02617)      Gray{Float32}(1.03095)\n",
       " Gray{Float32}(0.956601)  Gray{Float32}(0.981012)     Gray{Float32}(0.985243)\n",
       " Gray{Float32}(1.03139)   Gray{Float32}(1.02154)      Gray{Float32}(1.02493)\n",
       " Gray{Float32}(0.95279)   Gray{Float32}(0.976914)     Gray{Float32}(0.979913)"
      ]
     },
     "execution_count": 89,
     "metadata": {},
     "output_type": "execute_result"
    }
   ],
   "source": [
    "Gray.( enc1_dec1(sq_cr_data_WHCN[:,:,:,1:2])[:,:,1,1] )"
   ]
  },
  {
   "cell_type": "code",
   "execution_count": 92,
   "metadata": {},
   "outputs": [
    {
     "data": {
      "image/png": "[encoded data removed]",
      "text/plain": [
       "10×10 Array{Gray{Float32},2} with eltype Gray{Float32}:\n",
       " Gray{Float32}(1.03215)   Gray{Float32}(1.02228)   …  Gray{Float32}(1.01945)\n",
       " Gray{Float32}(0.953402)  Gray{Float32}(0.977572)     Gray{Float32}(0.975061)\n",
       " Gray{Float32}(1.03082)   Gray{Float32}(1.02098)      Gray{Float32}(1.02264)\n",
       " Gray{Float32}(0.952329)  Gray{Float32}(0.976419)     Gray{Float32}(0.97789)\n",
       " Gray{Float32}(0.467963)  Gray{Float32}(0.472002)     Gray{Float32}(0.479317)\n",
       " Gray{Float32}(0.500201)  Gray{Float32}(0.490306)  …  Gray{Float32}(0.496783)\n",
       " Gray{Float32}(1.03247)   Gray{Float32}(1.02259)      Gray{Float32}(1.02236)\n",
       " Gray{Float32}(0.953657)  Gray{Float32}(0.977847)     Gray{Float32}(0.977642)\n",
       " Gray{Float32}(1.02992)   Gray{Float32}(1.02011)      Gray{Float32}(1.02336)\n",
       " Gray{Float32}(0.951612)  Gray{Float32}(0.975647)     Gray{Float32}(0.978528)"
      ]
     },
     "execution_count": 92,
     "metadata": {},
     "output_type": "execute_result"
    }
   ],
   "source": [
    "Gray.( enc1_dec1(sq_cr_data_WHCN[:,:,:,101:102])[:,:,1,1] )"
   ]
  },
  {
   "cell_type": "code",
   "execution_count": 99,
   "metadata": {},
   "outputs": [
    {
     "data": {
      "text/plain": [
       "4-element Vector{Float32}:\n",
       " 1.6583097\n",
       " 0.7186812\n",
       " 1.4821869\n",
       " 0.9387794"
      ]
     },
     "execution_count": 99,
     "metadata": {},
     "output_type": "execute_result"
    }
   ],
   "source": [
    "enc_output_sqr = enc1(sq_cr_data_WHCN[:,:,:,1:2])[:,1]\n",
    "enc_output_sqr"
   ]
  },
  {
   "cell_type": "code",
   "execution_count": 100,
   "metadata": {},
   "outputs": [
    {
     "data": {
      "text/plain": [
       "4-element Vector{Float32}:\n",
       " 0.8359307\n",
       " 1.2839905\n",
       " 0.5616518\n",
       " 2.522485"
      ]
     },
     "execution_count": 100,
     "metadata": {},
     "output_type": "execute_result"
    }
   ],
   "source": [
    "enc_output_cr = enc1(sq_cr_data_WHCN[:,:,:,101:102])[:,1]\n",
    "enc_output_cr"
   ]
  },
  {
   "cell_type": "code",
   "execution_count": 105,
   "metadata": {},
   "outputs": [
    {
     "data": {
      "image/png": "[encoded data removed]",
      "text/plain": [
       "10×10 Array{Gray{Float32},2} with eltype Gray{Float32}:\n",
       " Gray{Float32}(1.03215)   Gray{Float32}(1.02228)   …  Gray{Float32}(1.01945)\n",
       " Gray{Float32}(0.953402)  Gray{Float32}(0.977572)     Gray{Float32}(0.975061)\n",
       " Gray{Float32}(1.03082)   Gray{Float32}(1.02098)      Gray{Float32}(1.02264)\n",
       " Gray{Float32}(0.952329)  Gray{Float32}(0.976419)     Gray{Float32}(0.97789)\n",
       " Gray{Float32}(0.467963)  Gray{Float32}(0.472002)     Gray{Float32}(0.479317)\n",
       " Gray{Float32}(0.500201)  Gray{Float32}(0.490306)  …  Gray{Float32}(0.496783)\n",
       " Gray{Float32}(1.03247)   Gray{Float32}(1.02259)      Gray{Float32}(1.02236)\n",
       " Gray{Float32}(0.953657)  Gray{Float32}(0.977847)     Gray{Float32}(0.977642)\n",
       " Gray{Float32}(1.02992)   Gray{Float32}(1.02011)      Gray{Float32}(1.02336)\n",
       " Gray{Float32}(0.951612)  Gray{Float32}(0.975647)     Gray{Float32}(0.978528)"
      ]
     },
     "execution_count": 105,
     "metadata": {},
     "output_type": "execute_result"
    }
   ],
   "source": [
    "Gray.( dec1(enc_output_cr) )[:, :, 1, 1]"
   ]
  },
  {
   "cell_type": "code",
   "execution_count": 106,
   "metadata": {},
   "outputs": [
    {
     "data": {
      "image/png": "[encoded data removed]",
      "text/plain": [
       "10×10 Array{Gray{Float32},2} with eltype Gray{Float32}:\n",
       " Gray{Float32}(1.37268)   Gray{Float32}(1.35442)   …  Gray{Float32}(1.34115)\n",
       " Gray{Float32}(1.22694)   Gray{Float32}(1.27167)      Gray{Float32}(1.25993)\n",
       " Gray{Float32}(1.29019)   Gray{Float32}(1.27396)      Gray{Float32}(1.33956)\n",
       " Gray{Float32}(1.16068)   Gray{Float32}(1.20043)      Gray{Float32}(1.25851)\n",
       " Gray{Float32}(0.749934)  Gray{Float32}(0.747023)     Gray{Float32}(0.740274)\n",
       " Gray{Float32}(0.726703)  Gray{Float32}(0.733833)  …  Gray{Float32}(0.727857)\n",
       " Gray{Float32}(1.36323)   Gray{Float32}(1.3452)       Gray{Float32}(1.37092)\n",
       " Gray{Float32}(1.21935)   Gray{Float32}(1.26351)      Gray{Float32}(1.28628)\n",
       " Gray{Float32}(1.34267)   Gray{Float32}(1.32515)      Gray{Float32}(1.35724)\n",
       " Gray{Float32}(1.20284)   Gray{Float32}(1.24576)      Gray{Float32}(1.27417)"
      ]
     },
     "execution_count": 106,
     "metadata": {},
     "output_type": "execute_result"
    }
   ],
   "source": [
    "composite_sqr_cr = enc_output_sqr .+ enc_output_cr\n",
    "Gray.( dec1(composite_sqr_cr) )[:, :, 1, 1]"
   ]
  },
  {
   "cell_type": "code",
   "execution_count": null,
   "metadata": {},
   "outputs": [],
   "source": []
  },
  {
   "cell_type": "code",
   "execution_count": null,
   "metadata": {},
   "outputs": [],
   "source": []
  }
 ],
 "metadata": {
  "kernelspec": {
   "display_name": "Julia 1.8.2",
   "language": "julia",
   "name": "julia-1.8"
  },
  "language_info": {
   "file_extension": ".jl",
   "mimetype": "application/julia",
   "name": "julia",
   "version": "1.8.2"
  }
 },
 "nbformat": 4,
 "nbformat_minor": 4
}
