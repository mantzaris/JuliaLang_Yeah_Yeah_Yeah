{
 "cells": [
  {
   "cell_type": "markdown",
   "metadata": {},
   "source": [
    "### <span style=\"color:orange\">Let's make a word cloud</span>"
   ]
  },
  {
   "cell_type": "code",
   "execution_count": 4,
   "metadata": {},
   "outputs": [],
   "source": [
    "#import Pkg\n",
    "#Pkg.add(\"WordCloud\")\n",
    "#Pkg.add(\"Languages\")"
   ]
  },
  {
   "cell_type": "code",
   "execution_count": 1,
   "metadata": {},
   "outputs": [],
   "source": [
    "using WordCloud, Languages"
   ]
  },
  {
   "cell_type": "code",
   "execution_count": 2,
   "metadata": {},
   "outputs": [
    {
     "data": {
      "text/plain": [
       "18-element Vector{SubString{String}}:\n",
       " \"Hello,\"\n",
       " \"my\"\n",
       " \"name\"\n",
       " \"is\"\n",
       " \"Alex,\"\n",
       " \"what\"\n",
       " \"is\"\n",
       " \"your\"\n",
       " \"name?\"\n",
       " \"How\"\n",
       " \"are\"\n",
       " \"you\"\n",
       " \"today?\"\n",
       " \"It\"\n",
       " \"is\"\n",
       " \"quite\"\n",
       " \"hot\"\n",
       " \"outside.\""
      ]
     },
     "execution_count": 2,
     "metadata": {},
     "output_type": "execute_result"
    }
   ],
   "source": [
    "text1 = \"Hello, my name is Alex, what is your name? How are you today? It is quite hot outside.\"\n",
    "text1_words = split(text1,\" \")"
   ]
  },
  {
   "cell_type": "code",
   "execution_count": 3,
   "metadata": {},
   "outputs": [
    {
     "data": {
      "text/plain": [
       "16-element Vector{SubString{String}}:\n",
       " \"Hello,\"\n",
       " \"my\"\n",
       " \"name\"\n",
       " \"is\"\n",
       " \"Alex,\"\n",
       " \"what\"\n",
       " \"your\"\n",
       " \"name?\"\n",
       " \"How\"\n",
       " \"are\"\n",
       " \"you\"\n",
       " \"today?\"\n",
       " \"It\"\n",
       " \"quite\"\n",
       " \"hot\"\n",
       " \"outside.\""
      ]
     },
     "execution_count": 3,
     "metadata": {},
     "output_type": "execute_result"
    }
   ],
   "source": [
    "text1_words_unique = unique(text1_words)"
   ]
  },
  {
   "cell_type": "code",
   "execution_count": 4,
   "metadata": {},
   "outputs": [
    {
     "data": {
      "text/plain": [
       "1-element Vector{Int64}:\n",
       " 1"
      ]
     },
     "execution_count": 4,
     "metadata": {},
     "output_type": "execute_result"
    }
   ],
   "source": [
    "findall(text1_words_unique[1] .== text1_words)"
   ]
  },
  {
   "cell_type": "code",
   "execution_count": 5,
   "metadata": {},
   "outputs": [
    {
     "data": {
      "text/plain": [
       "3-element Vector{Int64}:\n",
       "  4\n",
       "  7\n",
       " 15"
      ]
     },
     "execution_count": 5,
     "metadata": {},
     "output_type": "execute_result"
    }
   ],
   "source": [
    "findall(text1_words_unique[4] .== text1_words)"
   ]
  },
  {
   "cell_type": "code",
   "execution_count": 6,
   "metadata": {},
   "outputs": [
    {
     "data": {
      "text/plain": [
       "3"
      ]
     },
     "execution_count": 6,
     "metadata": {},
     "output_type": "execute_result"
    }
   ],
   "source": [
    "length( findall(text1_words_unique[4] .== text1_words) )"
   ]
  },
  {
   "cell_type": "code",
   "execution_count": 7,
   "metadata": {},
   "outputs": [
    {
     "data": {
      "text/plain": [
       "16-element Vector{Int64}:\n",
       " 1\n",
       " 1\n",
       " 1\n",
       " 3\n",
       " 1\n",
       " 1\n",
       " 1\n",
       " 1\n",
       " 1\n",
       " 1\n",
       " 1\n",
       " 1\n",
       " 1\n",
       " 1\n",
       " 1\n",
       " 1"
      ]
     },
     "execution_count": 7,
     "metadata": {},
     "output_type": "execute_result"
    }
   ],
   "source": [
    "counts = map(ind -> length(findall(text1_words_unique[ind] .== text1_words)), 1:length(text1_words_unique))"
   ]
  },
  {
   "cell_type": "code",
   "execution_count": 8,
   "metadata": {},
   "outputs": [
    {
     "data": {
      "text/plain": [
       "16-element Vector{Float64}:\n",
       " 0.05555555555555555\n",
       " 0.05555555555555555\n",
       " 0.05555555555555555\n",
       " 0.16666666666666666\n",
       " 0.05555555555555555\n",
       " 0.05555555555555555\n",
       " 0.05555555555555555\n",
       " 0.05555555555555555\n",
       " 0.05555555555555555\n",
       " 0.05555555555555555\n",
       " 0.05555555555555555\n",
       " 0.05555555555555555\n",
       " 0.05555555555555555\n",
       " 0.05555555555555555\n",
       " 0.05555555555555555\n",
       " 0.05555555555555555"
      ]
     },
     "execution_count": 8,
     "metadata": {},
     "output_type": "execute_result"
    }
   ],
   "source": [
    "counts_norm = counts ./ sum(counts)"
   ]
  },
  {
   "cell_type": "code",
   "execution_count": 9,
   "metadata": {},
   "outputs": [],
   "source": [
    "word_weights = counts_norm;"
   ]
  },
  {
   "cell_type": "code",
   "execution_count": 10,
   "metadata": {},
   "outputs": [
    {
     "name": "stdout",
     "output_type": "stream",
     "text": [
      "alice.svg\n",
      "animations\n",
      "Audio\n",
      "AutoEncoder\n",
      "cloud1.svg\n",
      "countryRoadNoStopWords.svg\n",
      "countryRoad.svg\n",
      "DataBase\n",
      "DataScienceCaseStudies\n",
      "eagle.png\n",
      "figs\n",
      "fileMapStuff\n",
      "Flux\n",
      "GANs\n",
      "input.txt\n",
      "Julia_Use_Other_Languages\n",
      "lettermask.svg\n",
      "Mongo\n",
      "PCA\n",
      "Plotting\n",
      "plottingJL5.ipynb\n",
      "plottingJL9-naivebayes.ipynb\n",
      "plottingJLb11-JLflux.ipynb\n",
      "plottingJLbFluxConv.ipynb\n",
      "plottingJLbFlux.ipynb\n",
      "plottingJLbFluxText.ipynb\n",
      "README.md\n",
      "Regression\n",
      "runs\n",
      "silhouette-bald-eagle.png\n",
      "tl_2017_12_cousub\n",
      "TransferLearning\n",
      "united_states_florida_administrative_boundaries_polygon\n"
     ]
    },
    {
     "data": {
      "text/plain": [
       "Process(`\u001b[4mls\u001b[24m`, ProcessExited(0))"
      ]
     },
     "execution_count": 10,
     "metadata": {},
     "output_type": "execute_result"
    }
   ],
   "source": [
    "run(`ls`)"
   ]
  },
  {
   "cell_type": "code",
   "execution_count": 11,
   "metadata": {},
   "outputs": [
    {
     "name": "stdout",
     "output_type": "stream",
     "text": [
      "color scheme: :Set1_6, random size: 5, shuffled\n",
      "angles = [0, 90]\n",
      "shape(squircle, 131, 113, rt=1.533, color=0.0, padding=9)\n",
      "fonts = \"sans-serif Normal\"\n",
      "mask size: 131×149, content area: 95² (24²/word)\n",
      "set fontsize ∈ [8.0, 131]\n",
      "set density = 0.5\n",
      "⋯scale=26.565073404754596, density=0.4949086682165394\t↓\n",
      "fontsize ∈ [11.867274118740122, 35.60182235622037]\n",
      "▸1. scale = 26.701366767165272\n"
     ]
    },
    {
     "name": "stderr",
     "output_type": "stream",
     "text": [
      "\u001b[36m\u001b[1m[ \u001b[22m\u001b[39m\u001b[36m\u001b[1mInfo: \u001b[22m\u001b[39mnepoch: 1000, patient: 10\n",
      "\u001b[36m\u001b[1m[ \u001b[22m\u001b[39m\u001b[36m\u001b[1mInfo: \u001b[22m\u001b[39m@epoch 40(+21) η -> 0.177 (current 9 collisions, best 2 collisions)\n"
     ]
    },
    {
     "name": "stdout",
     "output_type": "stream",
     "text": [
      "46 epochs\n"
     ]
    },
    {
     "data": {
      "image/svg+xml": [],
      "text/plain": []
     },
     "execution_count": 11,
     "metadata": {},
     "output_type": "execute_result"
    }
   ],
   "source": [
    "wc = wordcloud(text1_words_unique, word_weights)\n",
    "generate!(wc)\n",
    "paint(wc, \"cloud1.svg\")"
   ]
  },
  {
   "cell_type": "code",
   "execution_count": 12,
   "metadata": {},
   "outputs": [
    {
     "data": {
      "text/plain": [
       "\"Almost heaven, West Virginia\\nBlue Ridge Mountains, Shenandoah River\\nLife is old there, older than the trees\\nYounger than the mountains, growin' like a breeze\\nCountry roads, take me home\\nTo the place I belong\\nWest Virginia, mountain mama\\nTake me home, country roads\\nAll my\" ⋯ 444 bytes ⋯ \", take me home\\nTo the place I belong\\nWest Virginia, mountain mama\\nTake me home, country roads\\nCountry roads, take me home\\nTo the place I belong\\nWest Virginia, mountain mama\\nTake me home, country roads\\nTake me home, (down) country roads\\nTake me home, (down) country roads\""
      ]
     },
     "execution_count": 12,
     "metadata": {},
     "output_type": "execute_result"
    }
   ],
   "source": [
    "#country road lyrics\n",
    "text2 = \"Almost heaven, West Virginia\n",
    "Blue Ridge Mountains, Shenandoah River\n",
    "Life is old there, older than the trees\n",
    "Younger than the mountains, growin' like a breeze\n",
    "Country roads, take me home\n",
    "To the place I belong\n",
    "West Virginia, mountain mama\n",
    "Take me home, country roads\n",
    "All my memories gather 'round her\n",
    "Miner's lady, stranger to blue water\n",
    "Dark and dusty, painted on the sky\n",
    "Misty taste of moonshine, teardrop in my eye\n",
    "Country roads, take me home\n",
    "To the place I belong\n",
    "West Virginia, mountain mama\n",
    "Take me home, country roads\n",
    "I hear her voice in the mornin' hour, she calls me\n",
    "The radio reminds me of my home far away\n",
    "Drivin' down the road, I get a feelin'\n",
    "That I should've been home yesterday, yesterday\n",
    "Country roads, take me home\n",
    "To the place I belong\n",
    "West Virginia, mountain mama\n",
    "Take me home, country roads\n",
    "Country roads, take me home\n",
    "To the place I belong\n",
    "West Virginia, mountain mama\n",
    "Take me home, country roads\n",
    "Take me home, (down) country roads\n",
    "Take me home, (down) country roads\""
   ]
  },
  {
   "cell_type": "code",
   "execution_count": 13,
   "metadata": {},
   "outputs": [
    {
     "name": "stdout",
     "output_type": "stream",
     "text": [
      "color scheme: :tableau_orange_light, random size: 7, shuffled\n",
      "angles = [0, 45, 90, -45]\n",
      "shape(ellipse, 457, 293, color=(0.027, 0.055, 0.029), padding=32)\n",
      "fonts = \"華康儷宋 Std Light\"\n",
      "mask size: 357×521, content area: 323² (36²/word)\n",
      "set fontsize ∈ [8.0, 357]\n",
      "set density = 0.5\n",
      "⋯scale=40.39705280091606, density=0.6068066792413087\t↑\n",
      "⋯scale=36.669881614582025, density=0.5309146615857453\t↑\n",
      "⋯scale=35.038152720848764, density=0.4992774049002806\t↓\n",
      "fontsize ∈ [8.0, 69.80723937292112]\n",
      "59 words(74%) are limited to the minimum font size.\n"
     ]
    },
    {
     "name": "stderr",
     "output_type": "stream",
     "text": [
      "\u001b[33m\u001b[1m┌ \u001b[22m\u001b[39m\u001b[33m\u001b[1mWarning: \u001b[22m\u001b[39mIt seems too crowded. Word size may be seriously distorted. You need to reduce the number of words or set a larger mask.\n",
      "\u001b[33m\u001b[1m└ \u001b[22m\u001b[39m\u001b[90m@ WordCloud ~/.julia/packages/WordCloud/nhgNl/src/wc-method.jl:60\u001b[39m\n"
     ]
    },
    {
     "name": "stdout",
     "output_type": "stream",
     "text": [
      "▸1. scale = 35.07626848774237\n"
     ]
    },
    {
     "name": "stderr",
     "output_type": "stream",
     "text": [
      "\u001b[36m\u001b[1m[ \u001b[22m\u001b[39m\u001b[36m\u001b[1mInfo: \u001b[22m\u001b[39mnepoch: 1000, patient: 10\n"
     ]
    },
    {
     "name": "stdout",
     "output_type": "stream",
     "text": [
      "10 epochs\n"
     ]
    },
    {
     "name": "stderr",
     "output_type": "stream",
     "text": [
      "\u001b[36m\u001b[1m[ \u001b[22m\u001b[39m\u001b[36m\u001b[1mInfo: \u001b[22m\u001b[39m@epoch 5(+2), 19(1) collisions, reposition [64] to [(542, 527)]\n"
     ]
    },
    {
     "data": {
      "image/svg+xml": [],
      "text/plain": []
     },
     "execution_count": 13,
     "metadata": {},
     "output_type": "execute_result"
    }
   ],
   "source": [
    "text2_words = split(text2,\" \")\n",
    "text2_words_unique = unique(text2_words)\n",
    "counts = map(ind -> length(findall(text2_words_unique[ind] .== text2_words)),1:length(text2_words_unique))\n",
    "counts_norm = counts ./ sum(counts)\n",
    "word_weights = counts_norm;\n",
    "wc = wordcloud(text2_words_unique, word_weights)\n",
    "generate!(wc)\n",
    "paint(wc, \"countryRoad.svg\")"
   ]
  },
  {
   "cell_type": "code",
   "execution_count": null,
   "metadata": {},
   "outputs": [],
   "source": []
  },
  {
   "cell_type": "code",
   "execution_count": null,
   "metadata": {},
   "outputs": [],
   "source": []
  },
  {
   "cell_type": "code",
   "execution_count": 14,
   "metadata": {},
   "outputs": [
    {
     "data": {
      "text/plain": [
       "\"Almost heaven, West Virginia\\nBlue Ridge Mountains, Shenandoah River\\nLife is old there, older than the trees\\nYounger than the mountains, growin' like a breeze\\nCountry roads, take me home\\nTo the place I belong\\nWest Virginia, mountain mama\\nTake me home, country roads\\nAll my\" ⋯ 444 bytes ⋯ \", take me home\\nTo the place I belong\\nWest Virginia, mountain mama\\nTake me home, country roads\\nCountry roads, take me home\\nTo the place I belong\\nWest Virginia, mountain mama\\nTake me home, country roads\\nTake me home, (down) country roads\\nTake me home, (down) country roads\""
      ]
     },
     "execution_count": 14,
     "metadata": {},
     "output_type": "execute_result"
    }
   ],
   "source": [
    "song = deepcopy(text2)"
   ]
  },
  {
   "cell_type": "code",
   "execution_count": 15,
   "metadata": {},
   "outputs": [
    {
     "data": {
      "text/plain": [
       "\"Almost heaven, West Virginia\\nBlue Ridge Mountains, Shenandoah River\\nLife is old there, older than the trees\\nYounger than the mountains, growin' like a breeze\\nCountry roads, take me home\\nTo the place I belong\\nWest Virginia, mountain mama\\nTake me home, country roads\\nAll my\" ⋯ 444 bytes ⋯ \", take me home\\nTo the place I belong\\nWest Virginia, mountain mama\\nTake me home, country roads\\nCountry roads, take me home\\nTo the place I belong\\nWest Virginia, mountain mama\\nTake me home, country roads\\nTake me home, (down) country roads\\nTake me home, (down) country roads\""
      ]
     },
     "execution_count": 15,
     "metadata": {},
     "output_type": "execute_result"
    }
   ],
   "source": [
    "song_tmp = deepcopy(song)"
   ]
  },
  {
   "cell_type": "code",
   "execution_count": 16,
   "metadata": {},
   "outputs": [
    {
     "name": "stdout",
     "output_type": "stream",
     "text": [
      "[\"a\", \"about\", \"above\", \"across\", \"after\", \"again\", \"against\", \"all\", \"almost\", \"alone\", \"along\", \"already\", \"also\", \"although\", \"always\", \"am\", \"among\", \"an\", \"and\", \"another\", \"any\", \"anybody\", \"anyone\", \"anything\", \"anywhere\", \"are\", \"area\", \"areas\", \"aren't\", \"around\", \"as\", \"ask\", \"asked\", \"asking\", \"asks\", \"at\", \"away\", \"b\", \"back\", \"backed\", \"backing\", \"backs\", \"be\", \"became\", \"because\", \"become\", \"becomes\", \"been\", \"before\", \"began\", \"behind\", \"being\", \"beings\", \"below\", \"best\", \"better\", \"between\", \"big\", \"both\", \"but\", \"by\", \"c\", \"came\", \"can\", \"cannot\", \"can't\", \"case\", \"cases\", \"certain\", \"certainly\", \"clear\", \"clearly\", \"come\", \"could\", \"couldn't\", \"d\", \"did\", \"didn't\", \"differ\", \"different\", \"differently\", \"do\", \"does\", \"doesn't\", \"doing\", \"done\", \"don't\", \"down\", \"downed\", \"downing\", \"downs\", \"during\", \"e\", \"each\", \"early\", \"either\", \"end\", \"ended\", \"ending\", \"ends\", \"enough\", \"even\", \"evenly\", \"ever\", \"every\", \"everybody\", \"everyone\", \"everything\", \"everywhere\", \"f\", \"face\", \"faces\", \"fact\", \"facts\", \"far\", \"felt\", \"few\", \"find\", \"finds\", \"first\", \"for\", \"four\", \"from\", \"full\", \"fully\", \"further\", \"furthered\", \"furthering\", \"furthers\", \"g\", \"gave\", \"general\", \"generally\", \"get\", \"gets\", \"give\", \"given\", \"gives\", \"go\", \"going\", \"good\", \"goods\", \"got\", \"great\", \"greater\", \"greatest\", \"group\", \"grouped\", \"grouping\", \"groups\", \"h\", \"had\", \"hadn't\", \"has\", \"hasn't\", \"have\", \"haven't\", \"having\", \"he\", \"he'd\", \"he'll\", \"her\", \"here\", \"here's\", \"hers\", \"herself\", \"he's\", \"high\", \"higher\", \"highest\", \"him\", \"himself\", \"his\", \"how\", \"however\", \"how's\", \"i\", \"i'd\", \"if\", \"i'll\", \"i'm\", \"important\", \"in\", \"interest\", \"interested\", \"interesting\", \"interests\", \"into\", \"is\", \"isn't\", \"it\", \"its\", \"it's\", \"itself\", \"i've\", \"j\", \"just\", \"k\", \"keep\", \"keeps\", \"kind\", \"knew\", \"know\", \"known\", \"knows\", \"l\", \"large\", \"largely\", \"last\", \"later\", \"latest\", \"least\", \"less\", \"let\", \"lets\", \"let's\", \"like\", \"likely\", \"long\", \"longer\", \"longest\", \"m\", \"made\", \"make\", \"making\", \"man\", \"many\", \"may\", \"me\", \"member\", \"members\", \"men\", \"might\", \"more\", \"most\", \"mostly\", \"mr\", \"mrs\", \"much\", \"must\", \"mustn't\", \"my\", \"myself\", \"n\", \"necessary\", \"need\", \"needed\", \"needing\", \"needs\", \"never\", \"new\", \"newer\", \"newest\", \"next\", \"no\", \"nobody\", \"non\", \"noone\", \"nor\", \"not\", \"nothing\", \"now\", \"nowhere\", \"number\", \"numbers\", \"o\", \"of\", \"off\", \"often\", \"old\", \"older\", \"oldest\", \"on\", \"once\", \"one\", \"only\", \"open\", \"opened\", \"opening\", \"opens\", \"or\", \"order\", \"ordered\", \"ordering\", \"orders\", \"other\", \"others\", \"ought\", \"our\", \"ours\", \"ourselves\", \"out\", \"over\", \"own\", \"p\", \"part\", \"parted\", \"parting\", \"parts\", \"per\", \"perhaps\", \"place\", \"places\", \"point\", \"pointed\", \"pointing\", \"points\", \"possible\", \"present\", \"presented\", \"presenting\", \"presents\", \"problem\", \"problems\", \"put\", \"puts\", \"q\", \"quite\", \"r\", \"rather\", \"really\", \"right\", \"room\", \"rooms\", \"s\", \"said\", \"same\", \"saw\", \"say\", \"says\", \"second\", \"seconds\", \"see\", \"seem\", \"seemed\", \"seeming\", \"seems\", \"sees\", \"several\", \"shall\", \"shan't\", \"she\", \"she'd\", \"she'll\", \"she's\", \"should\", \"shouldn't\", \"show\", \"showed\", \"showing\", \"shows\", \"side\", \"sides\", \"since\", \"small\", \"smaller\", \"smallest\", \"so\", \"some\", \"somebody\", \"someone\", \"something\", \"somewhere\", \"state\", \"states\", \"still\", \"such\", \"sure\", \"t\", \"take\", \"taken\", \"than\", \"that\", \"that's\", \"the\", \"their\", \"theirs\", \"them\", \"themselves\", \"then\", \"there\", \"therefore\", \"there's\", \"these\", \"they\", \"they'd\", \"they'll\", \"they're\", \"they've\", \"thing\", \"things\", \"think\", \"thinks\", \"this\", \"those\", \"though\", \"thought\", \"thoughts\", \"three\", \"through\", \"thus\", \"to\", \"today\", \"together\", \"too\", \"took\", \"toward\", \"turn\", \"turned\", \"turning\", \"turns\", \"two\", \"u\", \"under\", \"until\", \"up\", \"upon\", \"us\", \"use\", \"used\", \"uses\", \"v\", \"very\", \"w\", \"want\", \"wanted\", \"wanting\", \"wants\", \"was\", \"wasn't\", \"way\", \"ways\", \"we\", \"we'd\", \"well\", \"we'll\", \"wells\", \"went\", \"were\", \"we're\", \"weren't\", \"we've\", \"what\", \"what's\", \"when\", \"when's\", \"where\", \"where's\", \"whether\", \"which\", \"while\", \"who\", \"whole\", \"whom\", \"who's\", \"whose\", \"why\", \"why's\", \"will\", \"with\", \"within\", \"without\", \"won't\", \"work\", \"worked\", \"working\", \"works\", \"would\", \"wouldn't\", \"x\", \"y\", \"year\", \"years\", \"yes\", \"yet\", \"you\", \"you'd\", \"you'll\", \"young\", \"younger\", \"youngest\", \"your\", \"you're\", \"yours\", \"yourself\", \"yourselves\", \"you've\", \"z\"]"
     ]
    }
   ],
   "source": [
    "print(stopwords(Languages.English()))"
   ]
  },
  {
   "cell_type": "code",
   "execution_count": 17,
   "metadata": {},
   "outputs": [
    {
     "data": {
      "text/plain": [
       "199"
      ]
     },
     "execution_count": 17,
     "metadata": {},
     "output_type": "execute_result"
    }
   ],
   "source": [
    "song_splitted = split(song_tmp, (' ','_',',','.','\\n'));\n",
    "song_splitted;\n",
    "length(song_splitted)"
   ]
  },
  {
   "cell_type": "code",
   "execution_count": 18,
   "metadata": {},
   "outputs": [
    {
     "name": "stdout",
     "output_type": "stream",
     "text": [
      "ind 13 remove=is, ind 14 remove=old, ind 15 remove=there, ind 17 remove=older, ind 18 remove=than, ind 19 remove=the, ind 22 remove=than, ind 23 remove=the, ind 27 remove=like, ind 28 remove=a, ind 33 remove=take, ind 34 remove=me, ind 37 remove=the, ind 38 remove=place, ind 47 remove=me, ind 53 remove=my, ind 57 remove=her, ind 62 remove=to, ind 66 remove=and, ind 70 remove=on, ind 71 remove=the, ind 75 remove=of, ind 79 remove=in, ind 80 remove=my, ind 85 remove=take, ind 86 remove=me, ind 89 remove=the, ind 90 remove=place, ind 99 remove=me, ind 106 remove=her, ind 108 remove=in, ind 109 remove=the, ind 113 remove=she, ind 115 remove=me, ind 119 remove=me, ind 120 remove=of, ind 121 remove=my, ind 123 remove=far, ind 124 remove=away, ind 126 remove=down, ind 127 remove=the, ind 131 remove=get, ind 132 remove=a, ind 137 remove=been, ind 145 remove=take, ind 146 remove=me, ind 149 remove=the, ind 150 remove=place, ind 159 remove=me, ind 167 remove=take, ind 168 remove=me, ind 171 remove=the, ind 172 remove=place, ind 181 remove=me, ind 187 remove=me, ind 194 remove=me, "
     ]
    }
   ],
   "source": [
    "stop_words = stopwords(Languages.English())\n",
    "inds_total = []\n",
    "words_to_include = []\n",
    "\n",
    "for ii in 1:length(song_splitted)\n",
    "    #'in' is a keyword for membership of the left element in respect to the variable on the right\n",
    "    ind_remove = song_splitted[ii] in stop_words\n",
    "    if( ind_remove == true )\n",
    "        print(\"ind $(ii) remove=$(song_splitted[ii]), \")\n",
    "        append!(inds_total,ii)\n",
    "    else\n",
    "        append!(words_to_include,[song_splitted[ii]])\n",
    "    end\n",
    "    \n",
    "    #ind_remove = findall( song_splitted .== \"Ridge\" )\n",
    "    #deleteat!(song_splitted,ind_remove)\n",
    "    \n",
    "end\n",
    "#song_splitted"
   ]
  },
  {
   "cell_type": "code",
   "execution_count": 19,
   "metadata": {},
   "outputs": [
    {
     "data": {
      "text/plain": [
       "56-element Vector{Any}:\n",
       "  13\n",
       "  14\n",
       "  15\n",
       "  17\n",
       "  18\n",
       "  19\n",
       "  22\n",
       "  23\n",
       "  27\n",
       "  28\n",
       "  33\n",
       "  34\n",
       "  37\n",
       "   ⋮\n",
       " 145\n",
       " 146\n",
       " 149\n",
       " 150\n",
       " 159\n",
       " 167\n",
       " 168\n",
       " 171\n",
       " 172\n",
       " 181\n",
       " 187\n",
       " 194"
      ]
     },
     "execution_count": 19,
     "metadata": {},
     "output_type": "execute_result"
    }
   ],
   "source": [
    "inds_total"
   ]
  },
  {
   "cell_type": "code",
   "execution_count": 20,
   "metadata": {},
   "outputs": [
    {
     "data": {
      "text/plain": [
       "143-element Vector{Any}:\n",
       " \"Almost\"\n",
       " \"heaven\"\n",
       " \"\"\n",
       " \"West\"\n",
       " \"Virginia\"\n",
       " \"Blue\"\n",
       " \"Ridge\"\n",
       " \"Mountains\"\n",
       " \"\"\n",
       " \"Shenandoah\"\n",
       " \"River\"\n",
       " \"Life\"\n",
       " \"\"\n",
       " ⋮\n",
       " \"Take\"\n",
       " \"home\"\n",
       " \"\"\n",
       " \"(down)\"\n",
       " \"country\"\n",
       " \"roads\"\n",
       " \"Take\"\n",
       " \"home\"\n",
       " \"\"\n",
       " \"(down)\"\n",
       " \"country\"\n",
       " \"roads\""
      ]
     },
     "execution_count": 20,
     "metadata": {},
     "output_type": "execute_result"
    }
   ],
   "source": [
    "words_to_include"
   ]
  },
  {
   "cell_type": "code",
   "execution_count": 21,
   "metadata": {},
   "outputs": [
    {
     "name": "stdout",
     "output_type": "stream",
     "text": [
      "color scheme: :Archambault, random size: 4, shuffled\n",
      "angles = [30, -30]\n",
      "backgroundcolor = :maskcolor\n",
      "shape(ellipse, 522, 425, color=(0.931, 0.983, 0.907), padding=41)\n",
      "fonts = \"Courier Bold\"\n",
      "mask size: 507×604, content area: 416² (54²/word)\n",
      "set fontsize ∈ [8.0, 507]\n",
      "set density = 0.5\n",
      "The word \"country\"(115.26907266973085) is too big. Set maxfontsize = 96.36458680120812.\n",
      "⋯scale=60.597484145348496, density=0.3792684671793955\t↓\n",
      "⋯scale=69.5770846905522, density=0.45006438919692365\t↓\n",
      "The word \"mountain\"(95.4518950866368) is too big. Set maxfontsize = 84.58533715385141.\n",
      "⋯scale=75.26925347610823, density=0.4598891074941871\t↓\n",
      "⋯scale=95.03454294794508, density=0.5764872115900556\t↑\n",
      "⋯scale=82.60407547142137, density=0.5031157216955822\t↑\n",
      "fontsize ∈ [8.0, 84.58533715385141]\n",
      "33 words(56%) are limited to the minimum font size.\n"
     ]
    },
    {
     "name": "stderr",
     "output_type": "stream",
     "text": [
      "\u001b[33m\u001b[1m┌ \u001b[22m\u001b[39m\u001b[33m\u001b[1mWarning: \u001b[22m\u001b[39mSome words are limited to the maximum font size. Please set a `maxfontsize` in `wordcloud` or set a `maxweight` in `processtext`.\n",
      "\u001b[33m\u001b[1m└ \u001b[22m\u001b[39m\u001b[90m@ WordCloud ~/.julia/packages/WordCloud/nhgNl/src/wc-method.jl:65\u001b[39m\n"
     ]
    },
    {
     "name": "stdout",
     "output_type": "stream",
     "text": [
      "▸1. scale = 82.03453514954903\n"
     ]
    },
    {
     "name": "stderr",
     "output_type": "stream",
     "text": [
      "\u001b[36m\u001b[1m[ \u001b[22m\u001b[39m\u001b[36m\u001b[1mInfo: \u001b[22m\u001b[39mnepoch: 1000, patient: 10\n",
      "\u001b[36m\u001b[1m[ \u001b[22m\u001b[39m\u001b[36m\u001b[1mInfo: \u001b[22m\u001b[39m@epoch 73(+21) η -> 0.177 (current 26 collisions, best 16 collisions)\n",
      "\u001b[36m\u001b[1m[ \u001b[22m\u001b[39m\u001b[36m\u001b[1mInfo: \u001b[22m\u001b[39m@epoch 96(+21) η -> 0.125 (current 24 collisions, best 14 collisions)\n",
      "\u001b[36m\u001b[1m[ \u001b[22m\u001b[39m\u001b[36m\u001b[1mInfo: \u001b[22m\u001b[39m@epoch 154(+21) η -> 0.088 (current 22 collisions, best 10 collisions)\n",
      "\u001b[36m\u001b[1m[ \u001b[22m\u001b[39m\u001b[36m\u001b[1mInfo: \u001b[22m\u001b[39m@epoch 185(+4), 8(2) collisions, reposition [4] to [(426, 358)]\n",
      "\u001b[36m\u001b[1m[ \u001b[22m\u001b[39m\u001b[36m\u001b[1mInfo: \u001b[22m\u001b[39m@epoch 207(+21) η -> 0.063 (current 18 collisions, best 2 collisions)\n",
      "\u001b[36m\u001b[1m[ \u001b[22m\u001b[39m\u001b[36m\u001b[1mInfo: \u001b[22m\u001b[39m@epoch 235(+21) η <- 0.088 (collisions 10 ≥ 2)\n",
      "\u001b[36m\u001b[1m[ \u001b[22m\u001b[39m\u001b[36m\u001b[1mInfo: \u001b[22m\u001b[39m@epoch 251(+65), 18(2) collisions, reposition [4] to [(346, 534)]\n",
      "\u001b[36m\u001b[1m[ \u001b[22m\u001b[39m\u001b[36m\u001b[1mInfo: \u001b[22m\u001b[39m@epoch 251, random move [33, 4]\n",
      "\u001b[36m\u001b[1m[ \u001b[22m\u001b[39m\u001b[36m\u001b[1mInfo: \u001b[22m\u001b[39m@epoch 271(+21) η -> 0.063 (current 41 collisions, best 9 collisions)\n",
      "\u001b[36m\u001b[1m[ \u001b[22m\u001b[39m\u001b[36m\u001b[1mInfo: \u001b[22m\u001b[39m@epoch 298(+21) η <- 0.088 (collisions 24 ≥ 9)\n",
      "\u001b[36m\u001b[1m[ \u001b[22m\u001b[39m\u001b[36m\u001b[1mInfo: \u001b[22m\u001b[39m@epoch 345(+21) η <- 0.125 (collisions 19 ≥ 10)\n",
      "\u001b[36m\u001b[1m[ \u001b[22m\u001b[39m\u001b[36m\u001b[1mInfo: \u001b[22m\u001b[39m@epoch 395(+21) η -> 0.088 (current 17 collisions, best 12 collisions)\n",
      "\u001b[36m\u001b[1m[ \u001b[22m\u001b[39m\u001b[36m\u001b[1mInfo: \u001b[22m\u001b[39m@epoch 427(+21) η <- 0.125 (collisions 13 ≥ 12)\n",
      "\u001b[36m\u001b[1m[ \u001b[22m\u001b[39m\u001b[36m\u001b[1mInfo: \u001b[22m\u001b[39m@epoch 432(+58), 13(1) collisions, reposition [4] to [(362, 422)]\n",
      "\u001b[36m\u001b[1m[ \u001b[22m\u001b[39m\u001b[36m\u001b[1mInfo: \u001b[22m\u001b[39m@epoch 432, random move [4]\n",
      "\u001b[36m\u001b[1m[ \u001b[22m\u001b[39m\u001b[36m\u001b[1mInfo: \u001b[22m\u001b[39m@epoch 452(+21) η -> 0.088 (current 23 collisions, best 13 collisions)\n",
      "\u001b[36m\u001b[1m[ \u001b[22m\u001b[39m\u001b[36m\u001b[1mInfo: \u001b[22m\u001b[39m@epoch 485(+21) η -> 0.063 (current 33 collisions, best 6 collisions)\n",
      "\u001b[36m\u001b[1m[ \u001b[22m\u001b[39m\u001b[36m\u001b[1mInfo: \u001b[22m\u001b[39m@epoch 508(+21) η <- 0.088 (collisions 25 ≥ 6)\n",
      "\u001b[36m\u001b[1m[ \u001b[22m\u001b[39m\u001b[36m\u001b[1mInfo: \u001b[22m\u001b[39m@epoch 564(+21) η <- 0.125 (collisions 18 ≥ 13)\n",
      "\u001b[36m\u001b[1m[ \u001b[22m\u001b[39m\u001b[36m\u001b[1mInfo: \u001b[22m\u001b[39m@epoch 621(+21) η <- 0.177 (collisions 36 ≥ 14)\n",
      "\u001b[36m\u001b[1m[ \u001b[22m\u001b[39m\u001b[36m\u001b[1mInfo: \u001b[22m\u001b[39m@epoch 678(+21) η <- 0.25 (collisions 28 ≥ 16)\n",
      "\u001b[36m\u001b[1m[ \u001b[22m\u001b[39m\u001b[36m\u001b[1mInfo: \u001b[22m\u001b[39m@epoch 730(+21) η -> 0.177 (current 24 collisions, best 22 collisions)\n",
      "\u001b[36m\u001b[1m[ \u001b[22m\u001b[39m\u001b[36m\u001b[1mInfo: \u001b[22m\u001b[39m@epoch 763(+21) η -> 0.125 (current 17 collisions, best 7 collisions)\n",
      "\u001b[36m\u001b[1m[ \u001b[22m\u001b[39m\u001b[36m\u001b[1mInfo: \u001b[22m\u001b[39m@epoch 785(+21) η <- 0.177 (collisions 12 ≥ 7)\n",
      "\u001b[36m\u001b[1m[ \u001b[22m\u001b[39m\u001b[36m\u001b[1mInfo: \u001b[22m\u001b[39mtraining early break after 787(+601) epochs (current 15 collisions, best 2 collisions)\n"
     ]
    },
    {
     "name": "stdout",
     "output_type": "stream",
     "text": [
      "▸2. try scale = 79.57349909506256. The density is reduced to 0.48587551421928105\n",
      "fontsize ∈ [8.0, 84.58533715385141]\n",
      "33 words(56%) are limited to the minimum font size.\n"
     ]
    },
    {
     "name": "stderr",
     "output_type": "stream",
     "text": [
      "\u001b[33m\u001b[1m┌ \u001b[22m\u001b[39m\u001b[33m\u001b[1mWarning: \u001b[22m\u001b[39mSome words are limited to the maximum font size. Please set a `maxfontsize` in `wordcloud` or set a `maxweight` in `processtext`.\n",
      "\u001b[33m\u001b[1m└ \u001b[22m\u001b[39m\u001b[90m@ WordCloud ~/.julia/packages/WordCloud/nhgNl/src/wc-method.jl:65\u001b[39m\n",
      "\u001b[36m\u001b[1m[ \u001b[22m\u001b[39m\u001b[36m\u001b[1mInfo: \u001b[22m\u001b[39mnepoch: 1000, patient: 10\n",
      "\u001b[36m\u001b[1m[ \u001b[22m\u001b[39m\u001b[36m\u001b[1mInfo: \u001b[22m\u001b[39m@epoch 23(+21) η -> 0.177 (current 23 collisions, best 12 collisions)\n",
      "\u001b[36m\u001b[1m[ \u001b[22m\u001b[39m\u001b[36m\u001b[1mInfo: \u001b[22m\u001b[39m@epoch 51(+21) η -> 0.125 (current 13 collisions, best 12 collisions)\n",
      "\u001b[36m\u001b[1m[ \u001b[22m\u001b[39m\u001b[36m\u001b[1mInfo: \u001b[22m\u001b[39m@epoch 83(+21) η -> 0.088 (current 17 collisions, best 10 collisions)\n",
      "\u001b[36m\u001b[1m[ \u001b[22m\u001b[39m\u001b[36m\u001b[1mInfo: \u001b[22m\u001b[39m@epoch 131(+21) η -> 0.063 (current 13 collisions, best 9 collisions)\n",
      "\u001b[36m\u001b[1m[ \u001b[22m\u001b[39m\u001b[36m\u001b[1mInfo: \u001b[22m\u001b[39m@epoch 158(+21) η <- 0.088 (collisions 9 ≥ 9)\n",
      "\u001b[36m\u001b[1m[ \u001b[22m\u001b[39m\u001b[36m\u001b[1mInfo: \u001b[22m\u001b[39m@epoch 187(+21) η -> 0.063 (current 12 collisions, best 9 collisions)\n",
      "\u001b[36m\u001b[1m[ \u001b[22m\u001b[39m\u001b[36m\u001b[1mInfo: \u001b[22m\u001b[39m@epoch 209(+21) η -> 0.044 (current 14 collisions, best 8 collisions)\n",
      "\u001b[36m\u001b[1m[ \u001b[22m\u001b[39m\u001b[36m\u001b[1mInfo: \u001b[22m\u001b[39m@epoch 249(+21) η -> 0.031 (current 16 collisions, best 7 collisions)\n",
      "\u001b[36m\u001b[1m[ \u001b[22m\u001b[39m\u001b[36m\u001b[1mInfo: \u001b[22m\u001b[39m@epoch 277(+21) η <- 0.044 (collisions 12 ≥ 7)\n",
      "\u001b[36m\u001b[1m[ \u001b[22m\u001b[39m\u001b[36m\u001b[1mInfo: \u001b[22m\u001b[39m@epoch 321(+21) η <- 0.063 (collisions 14 ≥ 8)\n",
      "\u001b[36m\u001b[1m[ \u001b[22m\u001b[39m\u001b[36m\u001b[1mInfo: \u001b[22m\u001b[39m@epoch 373(+21) η <- 0.088 (collisions 13 ≥ 9)\n",
      "\u001b[36m\u001b[1m[ \u001b[22m\u001b[39m\u001b[36m\u001b[1mInfo: \u001b[22m\u001b[39mtraining early break after 400(+172) epochs (current 19 collisions, best 7 collisions)\n"
     ]
    },
    {
     "name": "stdout",
     "output_type": "stream",
     "text": [
      "▸3. try scale = 77.18629412221068. The density is reduced to 0.4721123233768557\n",
      "fontsize ∈ [8.0, 84.58533715385141]\n",
      "33 words(56%) are limited to the minimum font size.\n"
     ]
    },
    {
     "name": "stderr",
     "output_type": "stream",
     "text": [
      "\u001b[33m\u001b[1m┌ \u001b[22m\u001b[39m\u001b[33m\u001b[1mWarning: \u001b[22m\u001b[39mSome words are limited to the maximum font size. Please set a `maxfontsize` in `wordcloud` or set a `maxweight` in `processtext`.\n",
      "\u001b[33m\u001b[1m└ \u001b[22m\u001b[39m\u001b[90m@ WordCloud ~/.julia/packages/WordCloud/nhgNl/src/wc-method.jl:65\u001b[39m\n",
      "\u001b[36m\u001b[1m[ \u001b[22m\u001b[39m\u001b[36m\u001b[1mInfo: \u001b[22m\u001b[39mnepoch: 1000, patient: 10\n",
      "\u001b[36m\u001b[1m[ \u001b[22m\u001b[39m\u001b[36m\u001b[1mInfo: \u001b[22m\u001b[39m@epoch 22(+21) η -> 0.177 (current 14 collisions, best 8 collisions)\n",
      "\u001b[36m\u001b[1m[ \u001b[22m\u001b[39m\u001b[36m\u001b[1mInfo: \u001b[22m\u001b[39m@epoch 29(+28), 11(2) collisions, reposition [27] to [(378, 548)]\n"
     ]
    },
    {
     "name": "stdout",
     "output_type": "stream",
     "text": [
      "1221 epochs\n"
     ]
    },
    {
     "name": "stderr",
     "output_type": "stream",
     "text": [
      "\u001b[36m\u001b[1m[ \u001b[22m\u001b[39m\u001b[36m\u001b[1mInfo: \u001b[22m\u001b[39m@epoch 32(+2), 3(1) collisions, reposition [14] to [(402, 681)]\n"
     ]
    },
    {
     "data": {
      "image/svg+xml": [],
      "text/plain": []
     },
     "execution_count": 21,
     "metadata": {},
     "output_type": "execute_result"
    }
   ],
   "source": [
    "#word cloud, with no stop words this time.\n",
    "text2_words_unique = unique(words_to_include)\n",
    "counts = map(ind -> length(findall(text2_words_unique[ind] .== text2_words)),1:length(text2_words_unique))\n",
    "counts_norm = counts ./ sum(counts)\n",
    "word_weights = counts_norm;\n",
    "wc = wordcloud(convert(Array{String,1},text2_words_unique), word_weights)\n",
    "generate!(wc)\n",
    "paint(wc, \"countryRoadNoStopWords.svg\")"
   ]
  },
  {
   "cell_type": "code",
   "execution_count": 22,
   "metadata": {},
   "outputs": [
    {
     "name": "stdout",
     "output_type": "stream",
     "text": [
      "Total words: 166. Unique words: 74. After filtration: 52.\n",
      "The top 52 words are kept. \n",
      "fonts = \"SimSun Regular\"\n",
      "mask size: 215×234, content area: 141² (20²/word)\n",
      "set fontsize ∈ [6.92403839477423, 215]\n",
      "set density = 0.5\n",
      "⋯scale=21.89573193394267, density=0.729628459687124\t↑\n",
      "⋯scale=18.125649880180863, density=0.5895036101083033\t↑\n",
      "⋯scale=15.23690656299497, density=0.5027707581227437\t↑\n",
      "fontsize ∈ [6.92403839477423, 23.094590857610967]\n",
      "41 words(79%) are limited to the minimum font size.\n"
     ]
    },
    {
     "name": "stderr",
     "output_type": "stream",
     "text": [
      "\u001b[33m\u001b[1m┌ \u001b[22m\u001b[39m\u001b[33m\u001b[1mWarning: \u001b[22m\u001b[39mIt seems too crowded. Word size may be seriously distorted. You need to reduce the number of words or set a larger mask. Recommended mask scaling: ratio=2.046.\n",
      "\u001b[33m\u001b[1m└ \u001b[22m\u001b[39m\u001b[90m@ WordCloud ~/.julia/packages/WordCloud/nhgNl/src/wc-method.jl:60\u001b[39m\n"
     ]
    },
    {
     "name": "stdout",
     "output_type": "stream",
     "text": [
      "▸1. scale = 15.135537947274644\n"
     ]
    },
    {
     "name": "stderr",
     "output_type": "stream",
     "text": [
      "\u001b[36m\u001b[1m[ \u001b[22m\u001b[39m\u001b[36m\u001b[1mInfo: \u001b[22m\u001b[39mnepoch: 1000, patient: 10\n",
      "\u001b[36m\u001b[1m[ \u001b[22m\u001b[39m\u001b[36m\u001b[1mInfo: \u001b[22m\u001b[39m@epoch 76(+21) η -> 0.177 (current 34 collisions, best 28 collisions)\n",
      "\u001b[36m\u001b[1m[ \u001b[22m\u001b[39m\u001b[36m\u001b[1mInfo: \u001b[22m\u001b[39m@epoch 110(+21) η -> 0.125 (current 34 collisions, best 16 collisions)\n",
      "\u001b[36m\u001b[1m[ \u001b[22m\u001b[39m\u001b[36m\u001b[1mInfo: \u001b[22m\u001b[39m@epoch 145(+4), 8(2) collisions, reposition [49] to [(24, 184)]\n",
      "\u001b[36m\u001b[1m[ \u001b[22m\u001b[39m\u001b[36m\u001b[1mInfo: \u001b[22m\u001b[39m@epoch 153(+7), 15(2) collisions, reposition [49] to [(144, 144)]\n",
      "\u001b[36m\u001b[1m[ \u001b[22m\u001b[39m\u001b[36m\u001b[1mInfo: \u001b[22m\u001b[39m@epoch 153, random move [49, 20]\n",
      "\u001b[36m\u001b[1m[ \u001b[22m\u001b[39m\u001b[36m\u001b[1mInfo: \u001b[22m\u001b[39m@epoch 161(+7), 12(2) collisions, reposition [44] to [(136, 124)]\n",
      "\u001b[36m\u001b[1m[ \u001b[22m\u001b[39m\u001b[36m\u001b[1mInfo: \u001b[22m\u001b[39m@epoch 162(+21) η -> 0.088 (current 10 collisions, best 2 collisions)\n",
      "\u001b[36m\u001b[1m[ \u001b[22m\u001b[39m\u001b[36m\u001b[1mInfo: \u001b[22m\u001b[39m@epoch 188(+21) η <- 0.125 (collisions 13 ≥ 2)\n",
      "\u001b[36m\u001b[1m[ \u001b[22m\u001b[39m\u001b[36m\u001b[1mInfo: \u001b[22m\u001b[39m@epoch 204(+42), 14(2) collisions, reposition [52] to [(92, 96)]\n"
     ]
    },
    {
     "name": "stdout",
     "output_type": "stream",
     "text": [
      "272 epochs\n",
      "results are saved to eagle.png\n"
     ]
    },
    {
     "name": "stderr",
     "output_type": "stream",
     "text": [
      "\u001b[36m\u001b[1m[ \u001b[22m\u001b[39m\u001b[36m\u001b[1mInfo: \u001b[22m\u001b[39m@epoch 211(+4), 13(1) collisions, reposition [20] to [(56, 174)]\n",
      "\u001b[36m\u001b[1m[ \u001b[22m\u001b[39m\u001b[36m\u001b[1mInfo: \u001b[22m\u001b[39m@epoch 228(+6), 14(2) collisions, reposition [38] to [(40, 137)]\n",
      "\u001b[36m\u001b[1m[ \u001b[22m\u001b[39m\u001b[36m\u001b[1mInfo: \u001b[22m\u001b[39m@epoch 228(+21) η -> 0.088 (current 14 collisions, best 7 collisions)\n",
      "\u001b[36m\u001b[1m[ \u001b[22m\u001b[39m\u001b[36m\u001b[1mInfo: \u001b[22m\u001b[39m@epoch 260(+8), 6(2) collisions, reposition [39] to [(114, 104)]\n",
      "\u001b[36m\u001b[1m[ \u001b[22m\u001b[39m\u001b[36m\u001b[1mInfo: \u001b[22m\u001b[39m@epoch 266(+2), 1(1) collisions, reposition nothing\n",
      "\u001b[36m\u001b[1m[ \u001b[22m\u001b[39m\u001b[36m\u001b[1mInfo: \u001b[22m\u001b[39m@epoch 267(+3), 2(2) collisions, reposition [52] to [(92, 96)]\n"
     ]
    },
    {
     "name": "stdout",
     "output_type": "stream",
     "text": [
      "▸1. scale = 15.135537947274644\n",
      "273 epochs\n"
     ]
    },
    {
     "name": "stderr",
     "output_type": "stream",
     "text": [
      "\u001b[36m\u001b[1m[ \u001b[22m\u001b[39m\u001b[36m\u001b[1mInfo: \u001b[22m\u001b[39mnepoch: 1000, patient: 10\n",
      "\u001b[33m\u001b[1m┌ \u001b[22m\u001b[39m\u001b[33m\u001b[1mWarning: \u001b[22m\u001b[39membed bitmap into SVG. You can set `background=false` to remove background.\n",
      "\u001b[33m\u001b[1m└ \u001b[22m\u001b[39m\u001b[90m@ WordCloud ~/.julia/packages/WordCloud/nhgNl/src/wc-helper.jl:94\u001b[39m\n"
     ]
    },
    {
     "data": {
      "image/svg+xml": [],
      "text/plain": []
     },
     "execution_count": 22,
     "metadata": {},
     "output_type": "execute_result"
    }
   ],
   "source": [
    "wc = wordcloud(\n",
    "    processtext(song_tmp, stopwords= union(WordCloud.stopwords_en , [\"dusty\",\"almost\"]) ), #include some more last moment stop words with the union operator\n",
    "    mask = loadmask(\"./silhouette-bald-eagle.png\", color=\"#ff5522\"),\n",
    "    colors = :seaborn_dark,\n",
    "    angles = (0, 90),\n",
    "    density = 0.5) |> generate!\n",
    "println(\"results are saved to eagle.png\")\n",
    "paint(wc, \"eagle.png\", background=outline(wc.mask, color=\"purple\", linewidth=2))\n",
    "generate!(wc)\n",
    "paint(wc, \"alice.svg\")"
   ]
  },
  {
   "cell_type": "code",
   "execution_count": null,
   "metadata": {},
   "outputs": [],
   "source": []
  },
  {
   "cell_type": "code",
   "execution_count": 23,
   "metadata": {},
   "outputs": [],
   "source": [
    "#import Pkg; Pkg.add(\"HTTP\")"
   ]
  },
  {
   "cell_type": "code",
   "execution_count": 24,
   "metadata": {},
   "outputs": [
    {
     "name": "stdout",
     "output_type": "stream",
     "text": [
      "Total words: 17064. Unique words: 3112. After filtration: 2997.\n",
      "The top 500 words are kept. \n",
      "color scheme: :tableau_jewel_bright, random size: 3\n",
      "shape(box, 1270, 782, cornerradius=343, color=(0.991, 0.967, 0.978), padding=94, centerlargestword=true)\n",
      "MethodError(Luxor.var\"#box##kw\"(), ((action = :fill, centerlargestword = true), Luxor.box, Luxor.Point(0.0, 0.0), 1270, 782, 343), 0xffffffffffffffff)\n"
     ]
    }
   ],
   "source": [
    "using HTTP\n",
    "\n",
    "url = \"https://en.wikipedia.org/wiki/University_of_Central_Florida\"\n",
    "try\n",
    "    content = HTTP.request(\"GET\", url).body |> String\n",
    "    wc = wordcloud(content|>html2text|>processtext,style=:gathering,angles=-45:45, centerlargestword=true)|>generate!\n",
    "    \n",
    "    println(\"results are ucf's wiki.png\")\n",
    "    paint(wc, \"fromweb.png\")\n",
    "    wc\n",
    "    generate!(wc)\n",
    "    paint(wc, \"web.svg\")\n",
    "catch e\n",
    "    println(e)\n",
    "end"
   ]
  },
  {
   "cell_type": "code",
   "execution_count": null,
   "metadata": {},
   "outputs": [],
   "source": []
  },
  {
   "cell_type": "code",
   "execution_count": 25,
   "metadata": {},
   "outputs": [
    {
     "name": "stdout",
     "output_type": "stream",
     "text": [
      "fonts = \"Segoe UI Bold\"\n",
      "mask size: 777×2625, content area: 681² (22²/word)\n",
      "set fontsize ∈ [7.619161699294746, 777]\n",
      "set density = 0.55\n",
      "⋯scale=25.26990057360733, density=0.6348013513833592\t↑\n",
      "⋯scale=23.521551058046118, density=0.4998309694173074\t↓\n",
      "⋯scale=24.18618183784488, density=0.5699194466993818\t↑\n",
      "fontsize ∈ [9.341661603849394, 9.341661603849394]\n",
      "▸1. scale = 23.999163194526275\n"
     ]
    },
    {
     "name": "stderr",
     "output_type": "stream",
     "text": [
      "\u001b[36m\u001b[1m[ \u001b[22m\u001b[39m\u001b[36m\u001b[1mInfo: \u001b[22m\u001b[39mnepoch: 1000, patient: 10\n",
      "\u001b[36m\u001b[1m[ \u001b[22m\u001b[39m\u001b[36m\u001b[1mInfo: \u001b[22m\u001b[39m@epoch 60(+21) η -> 0.177 (current 649 collisions, best 608 collisions)\n",
      "\u001b[36m\u001b[1m[ \u001b[22m\u001b[39m\u001b[36m\u001b[1mInfo: \u001b[22m\u001b[39m[974] are out of bounds\n",
      "\u001b[36m\u001b[1m[ \u001b[22m\u001b[39m\u001b[36m\u001b[1mInfo: \u001b[22m\u001b[39m@epoch 123(+12), 114(50) collisions, reposition [974] to [(2052, 2966)]\n",
      "\u001b[36m\u001b[1m[ \u001b[22m\u001b[39m\u001b[36m\u001b[1mInfo: \u001b[22m\u001b[39m@epoch 146(+10), 106(26) collisions, reposition [938] to [(1810, 791)]\n",
      "\u001b[36m\u001b[1m[ \u001b[22m\u001b[39m\u001b[36m\u001b[1mInfo: \u001b[22m\u001b[39m@epoch 182(+10), 29(27) collisions, reposition [918, 885, 651] to [(2310, 1227), (2206, 784), (1801, 1201)]\n",
      "\u001b[36m\u001b[1m[ \u001b[22m\u001b[39m\u001b[36m\u001b[1mInfo: \u001b[22m\u001b[39m@epoch 193(+10), 91(43) collisions, reposition [991, 866, 813] to [(2146, 1241), (1990, 2973), (1697, 3164)]\n",
      "\u001b[36m\u001b[1m[ \u001b[22m\u001b[39m\u001b[36m\u001b[1mInfo: \u001b[22m\u001b[39m@epoch 193(+21) η -> 0.125 (current 91 collisions, best 23 collisions)\n",
      "\u001b[36m\u001b[1m[ \u001b[22m\u001b[39m\u001b[36m\u001b[1mInfo: \u001b[22m\u001b[39m@epoch 208(+3), 6(1) collisions, reposition nothing\n",
      "\u001b[36m\u001b[1m[ \u001b[22m\u001b[39m\u001b[36m\u001b[1mInfo: \u001b[22m\u001b[39m@epoch 209(+4), 5(3) collisions, reposition nothing\n",
      "\u001b[36m\u001b[1m[ \u001b[22m\u001b[39m\u001b[36m\u001b[1mInfo: \u001b[22m\u001b[39m@epoch 209, random move [672, 501, 361]\n",
      "\u001b[36m\u001b[1m[ \u001b[22m\u001b[39m\u001b[36m\u001b[1mInfo: \u001b[22m\u001b[39m@epoch 212(+2), 5(1) collisions, reposition nothing\n",
      "\u001b[36m\u001b[1m[ \u001b[22m\u001b[39m\u001b[36m\u001b[1mInfo: \u001b[22m\u001b[39m@epoch 212, random move [922]\n",
      "\u001b[36m\u001b[1m[ \u001b[22m\u001b[39m\u001b[36m\u001b[1mInfo: \u001b[22m\u001b[39m@epoch 213(+3), 4(1) collisions, reposition [671] to [(2325, 2158)] (forced)\n",
      "\u001b[36m\u001b[1m[ \u001b[22m\u001b[39m\u001b[36m\u001b[1mInfo: \u001b[22m\u001b[39m@epoch 217(+3), 14(1) collisions, reposition [737] to [(2375, 2166)]\n",
      "\u001b[36m\u001b[1m[ \u001b[22m\u001b[39m\u001b[36m\u001b[1mInfo: \u001b[22m\u001b[39m@epoch 223(+5), 15(2) collisions, reposition [797] to [(1957, 2896)]\n"
     ]
    },
    {
     "name": "stdout",
     "output_type": "stream",
     "text": [
      "232 epochs\n",
      "results are saved to lettermask.svg\n"
     ]
    },
    {
     "data": {
      "image/svg+xml": [],
      "text/plain": []
     },
     "execution_count": 25,
     "metadata": {},
     "output_type": "execute_result"
    }
   ],
   "source": [
    "mask = rendertext(\"U.C.F.\", 1000, border=10, color=0.9, backgroundcolor=0.98, type=:svg, font=\"Verdana\")\n",
    "words = repeat([\"Go\",\"Knights\",\"!\",\"cool times\",\"great weather\"], 200)\n",
    "weights = repeat([1], length(words))\n",
    "wc = wordcloud(\n",
    "        words, weights, \n",
    "        mask = mask,\n",
    "        angles = [0,30,45,90,180,270,340,0,0],\n",
    "        colors = (\"#4465B0\", \"#EFA90A\", \"#5D1115\", \"#159311\", \"#002010\"),\n",
    "        density=0.55,\n",
    "        ) |> generate!\n",
    "println(\"results are saved to lettermask.svg\")\n",
    "paint(wc, \"lettermask.svg\" , background=false)\n",
    "\n"
   ]
  },
  {
   "cell_type": "code",
   "execution_count": null,
   "metadata": {},
   "outputs": [],
   "source": [
    "\n"
   ]
  },
  {
   "cell_type": "code",
   "execution_count": null,
   "metadata": {},
   "outputs": [],
   "source": []
  },
  {
   "cell_type": "code",
   "execution_count": null,
   "metadata": {},
   "outputs": [],
   "source": []
  },
  {
   "cell_type": "code",
   "execution_count": null,
   "metadata": {},
   "outputs": [],
   "source": []
  },
  {
   "cell_type": "code",
   "execution_count": null,
   "metadata": {},
   "outputs": [],
   "source": []
  },
  {
   "cell_type": "code",
   "execution_count": null,
   "metadata": {},
   "outputs": [],
   "source": []
  },
  {
   "cell_type": "code",
   "execution_count": null,
   "metadata": {},
   "outputs": [],
   "source": []
  },
  {
   "cell_type": "code",
   "execution_count": null,
   "metadata": {},
   "outputs": [],
   "source": []
  },
  {
   "cell_type": "code",
   "execution_count": null,
   "metadata": {},
   "outputs": [],
   "source": []
  },
  {
   "cell_type": "code",
   "execution_count": null,
   "metadata": {},
   "outputs": [],
   "source": []
  },
  {
   "cell_type": "code",
   "execution_count": null,
   "metadata": {},
   "outputs": [],
   "source": []
  },
  {
   "cell_type": "code",
   "execution_count": null,
   "metadata": {},
   "outputs": [],
   "source": []
  },
  {
   "cell_type": "code",
   "execution_count": null,
   "metadata": {},
   "outputs": [],
   "source": []
  }
 ],
 "metadata": {
  "kernelspec": {
   "display_name": "Julia 1.8.2",
   "language": "julia",
   "name": "julia-1.8"
  },
  "language_info": {
   "file_extension": ".jl",
   "mimetype": "application/julia",
   "name": "julia",
   "version": "1.8.2"
  }
 },
 "nbformat": 4,
 "nbformat_minor": 4
}
