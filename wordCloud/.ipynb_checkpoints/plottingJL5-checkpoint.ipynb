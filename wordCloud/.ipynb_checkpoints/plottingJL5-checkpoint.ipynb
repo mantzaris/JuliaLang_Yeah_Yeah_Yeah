{
 "cells": [
  {
   "cell_type": "markdown",
   "metadata": {},
   "source": [
    "### <span style=\"color:orange\">Let's make a word cloud</span>"
   ]
  },
  {
   "cell_type": "code",
   "execution_count": 4,
   "metadata": {},
   "outputs": [],
   "source": [
    "#import Pkg\n",
    "#Pkg.add(\"WordCloud\")\n",
    "#Pkg.add(\"Languages\")"
   ]
  },
  {
   "cell_type": "code",
   "execution_count": 5,
   "metadata": {},
   "outputs": [],
   "source": [
    "using WordCloud, Languages"
   ]
  },
  {
   "cell_type": "code",
   "execution_count": 6,
   "metadata": {},
   "outputs": [
    {
     "data": {
      "text/plain": [
       "18-element Vector{SubString{String}}:\n",
       " \"Hello,\"\n",
       " \"my\"\n",
       " \"name\"\n",
       " \"is\"\n",
       " \"Alex,\"\n",
       " \"what\"\n",
       " \"is\"\n",
       " \"your\"\n",
       " \"name?\"\n",
       " \"How\"\n",
       " \"are\"\n",
       " \"you\"\n",
       " \"today?\"\n",
       " \"It\"\n",
       " \"is\"\n",
       " \"quite\"\n",
       " \"hot\"\n",
       " \"outside.\""
      ]
     },
     "execution_count": 6,
     "metadata": {},
     "output_type": "execute_result"
    }
   ],
   "source": [
    "text1 = \"Hello, my name is Alex, what is your name? How are you today? It is quite hot outside.\"\n",
    "text1_words = split(text1,\" \")"
   ]
  },
  {
   "cell_type": "code",
   "execution_count": 7,
   "metadata": {},
   "outputs": [
    {
     "data": {
      "text/plain": [
       "16-element Vector{SubString{String}}:\n",
       " \"Hello,\"\n",
       " \"my\"\n",
       " \"name\"\n",
       " \"is\"\n",
       " \"Alex,\"\n",
       " \"what\"\n",
       " \"your\"\n",
       " \"name?\"\n",
       " \"How\"\n",
       " \"are\"\n",
       " \"you\"\n",
       " \"today?\"\n",
       " \"It\"\n",
       " \"quite\"\n",
       " \"hot\"\n",
       " \"outside.\""
      ]
     },
     "execution_count": 7,
     "metadata": {},
     "output_type": "execute_result"
    }
   ],
   "source": [
    "text1_words_unique = unique(text1_words)"
   ]
  },
  {
   "cell_type": "code",
   "execution_count": 8,
   "metadata": {},
   "outputs": [
    {
     "data": {
      "text/plain": [
       "1-element Vector{Int64}:\n",
       " 1"
      ]
     },
     "execution_count": 8,
     "metadata": {},
     "output_type": "execute_result"
    }
   ],
   "source": [
    "findall(text1_words_unique[1] .== text1_words)"
   ]
  },
  {
   "cell_type": "code",
   "execution_count": 9,
   "metadata": {},
   "outputs": [
    {
     "data": {
      "text/plain": [
       "3-element Vector{Int64}:\n",
       "  4\n",
       "  7\n",
       " 15"
      ]
     },
     "execution_count": 9,
     "metadata": {},
     "output_type": "execute_result"
    }
   ],
   "source": [
    "findall(text1_words_unique[4] .== text1_words)"
   ]
  },
  {
   "cell_type": "code",
   "execution_count": 10,
   "metadata": {},
   "outputs": [
    {
     "data": {
      "text/plain": [
       "3"
      ]
     },
     "execution_count": 10,
     "metadata": {},
     "output_type": "execute_result"
    }
   ],
   "source": [
    "length( findall(text1_words_unique[4] .== text1_words) )"
   ]
  },
  {
   "cell_type": "code",
   "execution_count": 11,
   "metadata": {},
   "outputs": [
    {
     "data": {
      "text/plain": [
       "16-element Vector{Int64}:\n",
       " 1\n",
       " 1\n",
       " 1\n",
       " 3\n",
       " 1\n",
       " 1\n",
       " 1\n",
       " 1\n",
       " 1\n",
       " 1\n",
       " 1\n",
       " 1\n",
       " 1\n",
       " 1\n",
       " 1\n",
       " 1"
      ]
     },
     "execution_count": 11,
     "metadata": {},
     "output_type": "execute_result"
    }
   ],
   "source": [
    "counts = map(ind -> length(findall(text1_words_unique[ind] .== text1_words)), 1:length(text1_words_unique))"
   ]
  },
  {
   "cell_type": "code",
   "execution_count": 12,
   "metadata": {},
   "outputs": [
    {
     "data": {
      "text/plain": [
       "16-element Vector{Float64}:\n",
       " 0.05555555555555555\n",
       " 0.05555555555555555\n",
       " 0.05555555555555555\n",
       " 0.16666666666666666\n",
       " 0.05555555555555555\n",
       " 0.05555555555555555\n",
       " 0.05555555555555555\n",
       " 0.05555555555555555\n",
       " 0.05555555555555555\n",
       " 0.05555555555555555\n",
       " 0.05555555555555555\n",
       " 0.05555555555555555\n",
       " 0.05555555555555555\n",
       " 0.05555555555555555\n",
       " 0.05555555555555555\n",
       " 0.05555555555555555"
      ]
     },
     "execution_count": 12,
     "metadata": {},
     "output_type": "execute_result"
    }
   ],
   "source": [
    "counts_norm = counts ./ sum(counts)"
   ]
  },
  {
   "cell_type": "code",
   "execution_count": 13,
   "metadata": {},
   "outputs": [],
   "source": [
    "word_weights = counts_norm;"
   ]
  },
  {
   "cell_type": "code",
   "execution_count": 14,
   "metadata": {},
   "outputs": [
    {
     "name": "stdout",
     "output_type": "stream",
     "text": [
      "alice.svg\n",
      "animalSounds\n",
      "animations\n",
      "cloud1.svg\n",
      "countryRoadNoStopWords.svg\n",
      "countryRoad.svg\n",
      "crowdSounds\n",
      "crowdSoundsTest\n",
      "db2.db\n",
      "demoDB.db\n",
      "eagle.png\n",
      "figs\n",
      "fileMapStuff\n",
      "fileWAVs\n",
      "Flux\n",
      "GANs\n",
      "input.txt\n",
      "lettermask.svg\n",
      "mechanicalSounds\n",
      "mechanicalSoundsTest\n",
      "PCA\n",
      "Plotting\n",
      "plottingJL3.ipynb\n",
      "plottingJL5.ipynb\n",
      "plottingJL6-RandJL.ipynb\n",
      "plottingJL7-JLandR.ipynb\n",
      "plottingJL8audioML.ipynb\n",
      "plottingJL9-naivebayes.ipynb\n",
      "plottingJLb10-JLandPy.ipynb\n",
      "plottingJLb11-JLflux.ipynb\n",
      "plottingJLbFluxAudio.ipynb\n",
      "plottingJLbFluxConv.ipynb\n",
      "plottingJLbFlux.ipynb\n",
      "plottingJLbFluxText.ipynb\n",
      "pngBell.png\n",
      "png.png\n",
      "README.md\n",
      "runs\n",
      "semiworks.png\n",
      "silhouette-bald-eagle.png\n",
      "tl_2017_12_cousub\n",
      "united_states_florida_administrative_boundaries_polygon\n",
      "Untitled1.ipynb\n",
      "Untitled.ipynb\n"
     ]
    },
    {
     "data": {
      "text/plain": [
       "Process(`\u001b[4mls\u001b[24m`, ProcessExited(0))"
      ]
     },
     "execution_count": 14,
     "metadata": {},
     "output_type": "execute_result"
    }
   ],
   "source": [
    "run(`ls`)"
   ]
  },
  {
   "cell_type": "code",
   "execution_count": 15,
   "metadata": {},
   "outputs": [
    {
     "name": "stdout",
     "output_type": "stream",
     "text": [
      "color scheme: :Set3_3, random size: 1, shuffled\n",
      "angles = (0, 90)\n",
      "backgroundcolor = :maskcolor\n",
      "shape(squircle, 110, 97, rt=0.764, color=(0.121, 0.16, 0.148), padding=9, outline=3, linecolor=RGB{Float64}(1.0,1.0,0.702))\n",
      "fonts = \"FangSong\"\n",
      "mask size: 121×134, content area: 94² (24²/word)\n",
      "set fontsize ∈ [8.0, 121]\n",
      "set density = 0.5\n",
      "⋯scale=26.377665742062923, density=0.42103750280709634\t↓\n",
      "⋯scale=28.74491125298067, density=0.5512542106445093\t↑\n",
      "⋯scale=27.837181339393982, density=0.49110599595778126\t↓\n",
      "fontsize ∈ [12.432560660028273, 37.297681980084825]\n",
      "▸1. scale = 27.973261485063613\n"
     ]
    },
    {
     "name": "stderr",
     "output_type": "stream",
     "text": [
      "┌ Info: nepoch: 1000, patient: 10\n",
      "└ @ Stuffing.Trainer /home/resort/.julia/packages/Stuffing/oYQwL/src/fit.jl:482\n"
     ]
    },
    {
     "name": "stdout",
     "output_type": "stream",
     "text": [
      "10 epochs\n"
     ]
    },
    {
     "data": {
      "image/svg+xml": [],
      "text/plain": []
     },
     "execution_count": 15,
     "metadata": {},
     "output_type": "execute_result"
    }
   ],
   "source": [
    "wc = wordcloud(text1_words_unique, word_weights)\n",
    "generate!(wc)\n",
    "paint(wc, \"cloud1.svg\")"
   ]
  },
  {
   "cell_type": "code",
   "execution_count": 16,
   "metadata": {},
   "outputs": [
    {
     "data": {
      "text/plain": [
       "\"Almost heaven, West Virginia\\nBlue Ridge Mountains, Shenandoah River\\nLife is old there, older than the trees\\nYounger than the mountains, growin' like a breeze\\nCountry roads, take me home\\nTo the place I belong\\nWest Virginia, mountain mama\\nTake me home, country roads\\nAll my\" ⋯ 444 bytes ⋯ \", take me home\\nTo the place I belong\\nWest Virginia, mountain mama\\nTake me home, country roads\\nCountry roads, take me home\\nTo the place I belong\\nWest Virginia, mountain mama\\nTake me home, country roads\\nTake me home, (down) country roads\\nTake me home, (down) country roads\""
      ]
     },
     "execution_count": 16,
     "metadata": {},
     "output_type": "execute_result"
    }
   ],
   "source": [
    "#country road lyrics\n",
    "text2 = \"Almost heaven, West Virginia\n",
    "Blue Ridge Mountains, Shenandoah River\n",
    "Life is old there, older than the trees\n",
    "Younger than the mountains, growin' like a breeze\n",
    "Country roads, take me home\n",
    "To the place I belong\n",
    "West Virginia, mountain mama\n",
    "Take me home, country roads\n",
    "All my memories gather 'round her\n",
    "Miner's lady, stranger to blue water\n",
    "Dark and dusty, painted on the sky\n",
    "Misty taste of moonshine, teardrop in my eye\n",
    "Country roads, take me home\n",
    "To the place I belong\n",
    "West Virginia, mountain mama\n",
    "Take me home, country roads\n",
    "I hear her voice in the mornin' hour, she calls me\n",
    "The radio reminds me of my home far away\n",
    "Drivin' down the road, I get a feelin'\n",
    "That I should've been home yesterday, yesterday\n",
    "Country roads, take me home\n",
    "To the place I belong\n",
    "West Virginia, mountain mama\n",
    "Take me home, country roads\n",
    "Country roads, take me home\n",
    "To the place I belong\n",
    "West Virginia, mountain mama\n",
    "Take me home, country roads\n",
    "Take me home, (down) country roads\n",
    "Take me home, (down) country roads\""
   ]
  },
  {
   "cell_type": "code",
   "execution_count": 17,
   "metadata": {},
   "outputs": [
    {
     "name": "stdout",
     "output_type": "stream",
     "text": [
      "color scheme: :cmyk, random size: 14, shuffled\n",
      "angles = [0, 45, -45]\n",
      "shape(star, 393, 393, npoints=12, starratio=0.88, orientation=0.2617993877991494, color=1.0, padding=32)\n",
      "fonts = \"KaiTi Regular\"\n",
      "mask size: 457×457, content area: 324² (36²/word)\n",
      "set fontsize ∈ [8.0, 457]\n",
      "set density = 0.5\n",
      "⋯scale=40.45193907589598, density=0.5088550230599559\t↑\n",
      "fontsize ∈ [8.0, 79.8021131485071]\n",
      "59 words(74%) are limited to the minimum font size.\n"
     ]
    },
    {
     "name": "stderr",
     "output_type": "stream",
     "text": [
      "┌ Warning: It seems too crowded. Word size may be seriously distorted. You need to reduce the number of words or set a larger mask.\n",
      "└ @ WordCloud /home/resort/.julia/packages/WordCloud/nhgNl/src/wc-method.jl:60\n"
     ]
    },
    {
     "name": "stdout",
     "output_type": "stream",
     "text": [
      "▸1. scale = 40.09842491740264\n"
     ]
    },
    {
     "name": "stderr",
     "output_type": "stream",
     "text": [
      "┌ Info: nepoch: 1000, patient: 10\n",
      "└ @ Stuffing.Trainer /home/resort/.julia/packages/Stuffing/oYQwL/src/fit.jl:482\n"
     ]
    },
    {
     "name": "stdout",
     "output_type": "stream",
     "text": [
      "21 epochs\n"
     ]
    },
    {
     "name": "stderr",
     "output_type": "stream",
     "text": [
      "┌ Info: @epoch 16(+3), 10(1) collisions, reposition [41] to [(264, 72)]\n",
      "└ @ Stuffing.Trainer /home/resort/.julia/packages/Stuffing/oYQwL/src/fit.jl:494\n"
     ]
    },
    {
     "data": {
      "image/svg+xml": [],
      "text/plain": []
     },
     "execution_count": 17,
     "metadata": {},
     "output_type": "execute_result"
    }
   ],
   "source": [
    "text2_words = split(text2,\" \")\n",
    "text2_words_unique = unique(text2_words)\n",
    "counts = map(ind -> length(findall(text2_words_unique[ind] .== text2_words)),1:length(text2_words_unique))\n",
    "counts_norm = counts ./ sum(counts)\n",
    "word_weights = counts_norm;\n",
    "wc = wordcloud(text2_words_unique, word_weights)\n",
    "generate!(wc)\n",
    "paint(wc, \"countryRoad.svg\")"
   ]
  },
  {
   "cell_type": "code",
   "execution_count": null,
   "metadata": {},
   "outputs": [],
   "source": []
  },
  {
   "cell_type": "code",
   "execution_count": null,
   "metadata": {},
   "outputs": [],
   "source": []
  },
  {
   "cell_type": "code",
   "execution_count": 18,
   "metadata": {},
   "outputs": [
    {
     "data": {
      "text/plain": [
       "\"Almost heaven, West Virginia\\nBlue Ridge Mountains, Shenandoah River\\nLife is old there, older than the trees\\nYounger than the mountains, growin' like a breeze\\nCountry roads, take me home\\nTo the place I belong\\nWest Virginia, mountain mama\\nTake me home, country roads\\nAll my\" ⋯ 444 bytes ⋯ \", take me home\\nTo the place I belong\\nWest Virginia, mountain mama\\nTake me home, country roads\\nCountry roads, take me home\\nTo the place I belong\\nWest Virginia, mountain mama\\nTake me home, country roads\\nTake me home, (down) country roads\\nTake me home, (down) country roads\""
      ]
     },
     "execution_count": 18,
     "metadata": {},
     "output_type": "execute_result"
    }
   ],
   "source": [
    "song = deepcopy(text2)"
   ]
  },
  {
   "cell_type": "code",
   "execution_count": 19,
   "metadata": {},
   "outputs": [
    {
     "data": {
      "text/plain": [
       "\"Almost heaven, West Virginia\\nBlue Ridge Mountains, Shenandoah River\\nLife is old there, older than the trees\\nYounger than the mountains, growin' like a breeze\\nCountry roads, take me home\\nTo the place I belong\\nWest Virginia, mountain mama\\nTake me home, country roads\\nAll my\" ⋯ 444 bytes ⋯ \", take me home\\nTo the place I belong\\nWest Virginia, mountain mama\\nTake me home, country roads\\nCountry roads, take me home\\nTo the place I belong\\nWest Virginia, mountain mama\\nTake me home, country roads\\nTake me home, (down) country roads\\nTake me home, (down) country roads\""
      ]
     },
     "execution_count": 19,
     "metadata": {},
     "output_type": "execute_result"
    }
   ],
   "source": [
    "song_tmp = deepcopy(song)"
   ]
  },
  {
   "cell_type": "code",
   "execution_count": 20,
   "metadata": {},
   "outputs": [
    {
     "name": "stdout",
     "output_type": "stream",
     "text": [
      "[\"a\", \"about\", \"above\", \"across\", \"after\", \"again\", \"against\", \"all\", \"almost\", \"alone\", \"along\", \"already\", \"also\", \"although\", \"always\", \"am\", \"among\", \"an\", \"and\", \"another\", \"any\", \"anybody\", \"anyone\", \"anything\", \"anywhere\", \"are\", \"area\", \"areas\", \"aren't\", \"around\", \"as\", \"ask\", \"asked\", \"asking\", \"asks\", \"at\", \"away\", \"b\", \"back\", \"backed\", \"backing\", \"backs\", \"be\", \"became\", \"because\", \"become\", \"becomes\", \"been\", \"before\", \"began\", \"behind\", \"being\", \"beings\", \"below\", \"best\", \"better\", \"between\", \"big\", \"both\", \"but\", \"by\", \"c\", \"came\", \"can\", \"cannot\", \"can't\", \"case\", \"cases\", \"certain\", \"certainly\", \"clear\", \"clearly\", \"come\", \"could\", \"couldn't\", \"d\", \"did\", \"didn't\", \"differ\", \"different\", \"differently\", \"do\", \"does\", \"doesn't\", \"doing\", \"done\", \"don't\", \"down\", \"downed\", \"downing\", \"downs\", \"during\", \"e\", \"each\", \"early\", \"either\", \"end\", \"ended\", \"ending\", \"ends\", \"enough\", \"even\", \"evenly\", \"ever\", \"every\", \"everybody\", \"everyone\", \"everything\", \"everywhere\", \"f\", \"face\", \"faces\", \"fact\", \"facts\", \"far\", \"felt\", \"few\", \"find\", \"finds\", \"first\", \"for\", \"four\", \"from\", \"full\", \"fully\", \"further\", \"furthered\", \"furthering\", \"furthers\", \"g\", \"gave\", \"general\", \"generally\", \"get\", \"gets\", \"give\", \"given\", \"gives\", \"go\", \"going\", \"good\", \"goods\", \"got\", \"great\", \"greater\", \"greatest\", \"group\", \"grouped\", \"grouping\", \"groups\", \"h\", \"had\", \"hadn't\", \"has\", \"hasn't\", \"have\", \"haven't\", \"having\", \"he\", \"he'd\", \"he'll\", \"her\", \"here\", \"here's\", \"hers\", \"herself\", \"he's\", \"high\", \"higher\", \"highest\", \"him\", \"himself\", \"his\", \"how\", \"however\", \"how's\", \"i\", \"i'd\", \"if\", \"i'll\", \"i'm\", \"important\", \"in\", \"interest\", \"interested\", \"interesting\", \"interests\", \"into\", \"is\", \"isn't\", \"it\", \"its\", \"it's\", \"itself\", \"i've\", \"j\", \"just\", \"k\", \"keep\", \"keeps\", \"kind\", \"knew\", \"know\", \"known\", \"knows\", \"l\", \"large\", \"largely\", \"last\", \"later\", \"latest\", \"least\", \"less\", \"let\", \"lets\", \"let's\", \"like\", \"likely\", \"long\", \"longer\", \"longest\", \"m\", \"made\", \"make\", \"making\", \"man\", \"many\", \"may\", \"me\", \"member\", \"members\", \"men\", \"might\", \"more\", \"most\", \"mostly\", \"mr\", \"mrs\", \"much\", \"must\", \"mustn't\", \"my\", \"myself\", \"n\", \"necessary\", \"need\", \"needed\", \"needing\", \"needs\", \"never\", \"new\", \"newer\", \"newest\", \"next\", \"no\", \"nobody\", \"non\", \"noone\", \"nor\", \"not\", \"nothing\", \"now\", \"nowhere\", \"number\", \"numbers\", \"o\", \"of\", \"off\", \"often\", \"old\", \"older\", \"oldest\", \"on\", \"once\", \"one\", \"only\", \"open\", \"opened\", \"opening\", \"opens\", \"or\", \"order\", \"ordered\", \"ordering\", \"orders\", \"other\", \"others\", \"ought\", \"our\", \"ours\", \"ourselves\", \"out\", \"over\", \"own\", \"p\", \"part\", \"parted\", \"parting\", \"parts\", \"per\", \"perhaps\", \"place\", \"places\", \"point\", \"pointed\", \"pointing\", \"points\", \"possible\", \"present\", \"presented\", \"presenting\", \"presents\", \"problem\", \"problems\", \"put\", \"puts\", \"q\", \"quite\", \"r\", \"rather\", \"really\", \"right\", \"room\", \"rooms\", \"s\", \"said\", \"same\", \"saw\", \"say\", \"says\", \"second\", \"seconds\", \"see\", \"seem\", \"seemed\", \"seeming\", \"seems\", \"sees\", \"several\", \"shall\", \"shan't\", \"she\", \"she'd\", \"she'll\", \"she's\", \"should\", \"shouldn't\", \"show\", \"showed\", \"showing\", \"shows\", \"side\", \"sides\", \"since\", \"small\", \"smaller\", \"smallest\", \"so\", \"some\", \"somebody\", \"someone\", \"something\", \"somewhere\", \"state\", \"states\", \"still\", \"such\", \"sure\", \"t\", \"take\", \"taken\", \"than\", \"that\", \"that's\", \"the\", \"their\", \"theirs\", \"them\", \"themselves\", \"then\", \"there\", \"therefore\", \"there's\", \"these\", \"they\", \"they'd\", \"they'll\", \"they're\", \"they've\", \"thing\", \"things\", \"think\", \"thinks\", \"this\", \"those\", \"though\", \"thought\", \"thoughts\", \"three\", \"through\", \"thus\", \"to\", \"today\", \"together\", \"too\", \"took\", \"toward\", \"turn\", \"turned\", \"turning\", \"turns\", \"two\", \"u\", \"under\", \"until\", \"up\", \"upon\", \"us\", \"use\", \"used\", \"uses\", \"v\", \"very\", \"w\", \"want\", \"wanted\", \"wanting\", \"wants\", \"was\", \"wasn't\", \"way\", \"ways\", \"we\", \"we'd\", \"well\", \"we'll\", \"wells\", \"went\", \"were\", \"we're\", \"weren't\", \"we've\", \"what\", \"what's\", \"when\", \"when's\", \"where\", \"where's\", \"whether\", \"which\", \"while\", \"who\", \"whole\", \"whom\", \"who's\", \"whose\", \"why\", \"why's\", \"will\", \"with\", \"within\", \"without\", \"won't\", \"work\", \"worked\", \"working\", \"works\", \"would\", \"wouldn't\", \"x\", \"y\", \"year\", \"years\", \"yes\", \"yet\", \"you\", \"you'd\", \"you'll\", \"young\", \"younger\", \"youngest\", \"your\", \"you're\", \"yours\", \"yourself\", \"yourselves\", \"you've\", \"z\"]"
     ]
    }
   ],
   "source": [
    "print(stopwords(Languages.English()))"
   ]
  },
  {
   "cell_type": "code",
   "execution_count": 21,
   "metadata": {},
   "outputs": [
    {
     "data": {
      "text/plain": [
       "199"
      ]
     },
     "execution_count": 21,
     "metadata": {},
     "output_type": "execute_result"
    }
   ],
   "source": [
    "song_splitted = split(song_tmp, (' ','_',',','.','\\n'));\n",
    "song_splitted;\n",
    "length(song_splitted)"
   ]
  },
  {
   "cell_type": "code",
   "execution_count": 22,
   "metadata": {},
   "outputs": [
    {
     "name": "stdout",
     "output_type": "stream",
     "text": [
      "ind 13 remove=is, ind 14 remove=old, ind 15 remove=there, ind 17 remove=older, ind 18 remove=than, ind 19 remove=the, ind 22 remove=than, ind 23 remove=the, ind 27 remove=like, ind 28 remove=a, ind 33 remove=take, ind 34 remove=me, ind 37 remove=the, ind 38 remove=place, ind 47 remove=me, ind 53 remove=my, ind 57 remove=her, ind 62 remove=to, ind 66 remove=and, ind 70 remove=on, ind 71 remove=the, ind 75 remove=of, ind 79 remove=in, ind 80 remove=my, ind 85 remove=take, ind 86 remove=me, ind 89 remove=the, ind 90 remove=place, ind 99 remove=me, ind 106 remove=her, ind 108 remove=in, ind 109 remove=the, ind 113 remove=she, ind 115 remove=me, ind 119 remove=me, ind 120 remove=of, ind 121 remove=my, ind 123 remove=far, ind 124 remove=away, ind 126 remove=down, ind 127 remove=the, ind 131 remove=get, ind 132 remove=a, ind 137 remove=been, ind 145 remove=take, ind 146 remove=me, ind 149 remove=the, ind 150 remove=place, ind 159 remove=me, ind 167 remove=take, ind 168 remove=me, ind 171 remove=the, ind 172 remove=place, ind 181 remove=me, ind 187 remove=me, ind 194 remove=me, "
     ]
    }
   ],
   "source": [
    "stop_words = stopwords(Languages.English())\n",
    "inds_total = []\n",
    "words_to_include = []\n",
    "\n",
    "for ii in 1:length(song_splitted)\n",
    "    #'in' is a keyword for membership of the left element in respect to the variable on the right\n",
    "    ind_remove = song_splitted[ii] in stop_words\n",
    "    if( ind_remove == true )\n",
    "        print(\"ind $(ii) remove=$(song_splitted[ii]), \")\n",
    "        append!(inds_total,ii)\n",
    "    else\n",
    "        append!(words_to_include,[song_splitted[ii]])\n",
    "    end\n",
    "    \n",
    "    #ind_remove = findall( song_splitted .== \"Ridge\" )\n",
    "    #deleteat!(song_splitted,ind_remove)\n",
    "    \n",
    "end\n",
    "#song_splitted"
   ]
  },
  {
   "cell_type": "code",
   "execution_count": 23,
   "metadata": {},
   "outputs": [
    {
     "data": {
      "text/plain": [
       "56-element Vector{Any}:\n",
       "  13\n",
       "  14\n",
       "  15\n",
       "  17\n",
       "  18\n",
       "  19\n",
       "  22\n",
       "  23\n",
       "  27\n",
       "  28\n",
       "  33\n",
       "  34\n",
       "  37\n",
       "   ⋮\n",
       " 145\n",
       " 146\n",
       " 149\n",
       " 150\n",
       " 159\n",
       " 167\n",
       " 168\n",
       " 171\n",
       " 172\n",
       " 181\n",
       " 187\n",
       " 194"
      ]
     },
     "execution_count": 23,
     "metadata": {},
     "output_type": "execute_result"
    }
   ],
   "source": [
    "inds_total"
   ]
  },
  {
   "cell_type": "code",
   "execution_count": 24,
   "metadata": {},
   "outputs": [
    {
     "data": {
      "text/plain": [
       "143-element Vector{Any}:\n",
       " \"Almost\"\n",
       " \"heaven\"\n",
       " \"\"\n",
       " \"West\"\n",
       " \"Virginia\"\n",
       " \"Blue\"\n",
       " \"Ridge\"\n",
       " \"Mountains\"\n",
       " \"\"\n",
       " \"Shenandoah\"\n",
       " \"River\"\n",
       " \"Life\"\n",
       " \"\"\n",
       " ⋮\n",
       " \"Take\"\n",
       " \"home\"\n",
       " \"\"\n",
       " \"(down)\"\n",
       " \"country\"\n",
       " \"roads\"\n",
       " \"Take\"\n",
       " \"home\"\n",
       " \"\"\n",
       " \"(down)\"\n",
       " \"country\"\n",
       " \"roads\""
      ]
     },
     "execution_count": 24,
     "metadata": {},
     "output_type": "execute_result"
    }
   ],
   "source": [
    "words_to_include"
   ]
  },
  {
   "cell_type": "code",
   "execution_count": 25,
   "metadata": {},
   "outputs": [
    {
     "name": "stdout",
     "output_type": "stream",
     "text": [
      "color scheme: :Nizami, random size: 3, shuffled\n",
      "angles = 0\n",
      "backgroundcolor = :maskcolor\n",
      "shape(ellipse, 583, 381, color=(0.966, 0.965, 0.967), padding=41)\n",
      "fonts = \"Arial Unicode MS\"\n",
      "mask size: 463×665, content area: 417² (54²/word)\n",
      "set fontsize ∈ [8.0, 463]\n",
      "set density = 0.5\n",
      "The word \"country\"(115.3408769151851) is too big. Set maxfontsize = 101.07070957275089.\n",
      "⋯scale=60.63523196898156, density=0.39099367858151296\t↓\n",
      "The word \"mountain\"(86.9545123925865) is too big. Set maxfontsize = 82.07219205674342.\n",
      "⋯scale=68.56858345482219, density=0.4022584809003268\t↓\n",
      "⋯scale=116.59954731571999, density=0.7513655301174965\t↑\n",
      "⋯scale=84.80389324739971, density=0.5042687150290716\t↑\n",
      "fontsize ∈ [8.0, 82.07219205674342]\n",
      "33 words(56%) are limited to the minimum font size.\n"
     ]
    },
    {
     "name": "stderr",
     "output_type": "stream",
     "text": [
      "┌ Warning: Some words are limited to the maximum font size. Please set a `maxfontsize` in `wordcloud` or set a `maxweight` in `processtext`.\n",
      "└ @ WordCloud /home/resort/.julia/packages/WordCloud/nhgNl/src/wc-method.jl:65\n"
     ]
    },
    {
     "name": "stdout",
     "output_type": "stream",
     "text": [
      "▸1. scale = 84.14910820108142\n",
      "17 epochs\n"
     ]
    },
    {
     "name": "stderr",
     "output_type": "stream",
     "text": [
      "┌ Info: nepoch: 1000, patient: 10\n",
      "└ @ Stuffing.Trainer /home/resort/.julia/packages/Stuffing/oYQwL/src/fit.jl:482\n",
      "┌ Info: @epoch 11(+3), 5(2) collisions, reposition [37] to [(588, 378)]\n",
      "└ @ Stuffing.Trainer /home/resort/.julia/packages/Stuffing/oYQwL/src/fit.jl:494\n"
     ]
    },
    {
     "data": {
      "image/svg+xml": [],
      "text/plain": []
     },
     "execution_count": 25,
     "metadata": {},
     "output_type": "execute_result"
    }
   ],
   "source": [
    "#word cloud, with no stop words this time.\n",
    "text2_words_unique = unique(words_to_include)\n",
    "counts = map(ind -> length(findall(text2_words_unique[ind] .== text2_words)),1:length(text2_words_unique))\n",
    "counts_norm = counts ./ sum(counts)\n",
    "word_weights = counts_norm;\n",
    "wc = wordcloud(convert(Array{String,1},text2_words_unique), word_weights)\n",
    "generate!(wc)\n",
    "paint(wc, \"countryRoadNoStopWords.svg\")"
   ]
  },
  {
   "cell_type": "code",
   "execution_count": 26,
   "metadata": {},
   "outputs": [
    {
     "name": "stdout",
     "output_type": "stream",
     "text": [
      "Total words: 166. Unique words: 74. After filtration: 52.\n",
      "The top 52 words are kept. \n"
     ]
    },
    {
     "ename": "LoadError",
     "evalue": "MethodError: no method matching size(::IndirectArrays.IndirectArray{ColorTypes.RGB{FixedPointNumbers.N0f8}, 2, UInt8, Matrix{UInt8}, OffsetArrays.OffsetVector{ColorTypes.RGB{FixedPointNumbers.N0f8}, Vector{ColorTypes.RGB{FixedPointNumbers.N0f8}}}})\nThe applicable method may be too new: running in world age 32552, while current world is 32557.\n\u001b[0mClosest candidates are:\n\u001b[0m  size(::IndirectArrays.IndirectArray) at ~/.julia/packages/IndirectArrays/BUQO3/src/IndirectArrays.jl:52 (method too new to be called from this world context.)\n\u001b[0m  size(::AbstractArray{T, N}, \u001b[91m::Any\u001b[39m) where {T, N} at abstractarray.jl:42\n\u001b[0m  size(\u001b[91m::Union{LinearAlgebra.QR, LinearAlgebra.QRCompactWY, LinearAlgebra.QRPivoted}\u001b[39m) at ~/julia/julia-1.8.2/share/julia/stdlib/v1.8/LinearAlgebra/src/qr.jl:581\n\u001b[0m  ...",
     "output_type": "error",
     "traceback": [
      "MethodError: no method matching size(::IndirectArrays.IndirectArray{ColorTypes.RGB{FixedPointNumbers.N0f8}, 2, UInt8, Matrix{UInt8}, OffsetArrays.OffsetVector{ColorTypes.RGB{FixedPointNumbers.N0f8}, Vector{ColorTypes.RGB{FixedPointNumbers.N0f8}}}})\nThe applicable method may be too new: running in world age 32552, while current world is 32557.\n\u001b[0mClosest candidates are:\n\u001b[0m  size(::IndirectArrays.IndirectArray) at ~/.julia/packages/IndirectArrays/BUQO3/src/IndirectArrays.jl:52 (method too new to be called from this world context.)\n\u001b[0m  size(::AbstractArray{T, N}, \u001b[91m::Any\u001b[39m) where {T, N} at abstractarray.jl:42\n\u001b[0m  size(\u001b[91m::Union{LinearAlgebra.QR, LinearAlgebra.QRCompactWY, LinearAlgebra.QRPivoted}\u001b[39m) at ~/julia/julia-1.8.2/share/julia/stdlib/v1.8/LinearAlgebra/src/qr.jl:581\n\u001b[0m  ...",
      "",
      "Stacktrace:",
      " [1] axes",
      "   @ ./abstractarray.jl:95 [inlined]",
      " [2] combine_axes(A::IndirectArrays.IndirectArray{ColorTypes.RGB{FixedPointNumbers.N0f8}, 2, UInt8, Matrix{UInt8}, OffsetArrays.OffsetVector{ColorTypes.RGB{FixedPointNumbers.N0f8}, Vector{ColorTypes.RGB{FixedPointNumbers.N0f8}}}})",
      "   @ Base.Broadcast ./broadcast.jl:500",
      " [3] instantiate",
      "   @ ./broadcast.jl:281 [inlined]",
      " [4] materialize",
      "   @ ./broadcast.jl:860 [inlined]",
      " [5] loadmask(::IndirectArrays.IndirectArray{ColorTypes.RGB{FixedPointNumbers.N0f8}, 2, UInt8, Matrix{UInt8}, OffsetArrays.OffsetVector{ColorTypes.RGB{FixedPointNumbers.N0f8}, Vector{ColorTypes.RGB{FixedPointNumbers.N0f8}}}}; kargs::Base.Pairs{Symbol, String, Tuple{Symbol}, NamedTuple{(:color,), Tuple{String}}})",
      "   @ WordCloud ~/.julia/packages/WordCloud/nhgNl/src/wc-helper.jl:62",
      " [6] loadmask(::String; kargs::Base.Pairs{Symbol, String, Tuple{Symbol}, NamedTuple{(:color,), Tuple{String}}})",
      "   @ WordCloud ~/.julia/packages/WordCloud/nhgNl/src/wc-helper.jl:78",
      " [7] top-level scope",
      "   @ In[26]:1",
      " [8] eval",
      "   @ ./boot.jl:368 [inlined]",
      " [9] include_string(mapexpr::typeof(REPL.softscope), mod::Module, code::String, filename::String)",
      "   @ Base ./loading.jl:1428"
     ]
    }
   ],
   "source": [
    "wc = wordcloud(\n",
    "    processtext(song_tmp, stopwords= union(WordCloud.stopwords_en , [\"dusty\",\"almost\"]) ), #include some more last moment stop words with the union operator\n",
    "    mask = loadmask(\"./silhouette-bald-eagle.png\", color=\"#ff5522\"),\n",
    "    colors = :seaborn_dark,\n",
    "    angles = (0, 90),\n",
    "    density = 0.5) |> generate!\n",
    "println(\"results are saved to eagle.png\")\n",
    "paint(wc, \"eagle.png\", background=outline(wc.mask, color=\"purple\", linewidth=2))\n",
    "generate!(wc)\n",
    "paint(wc, \"alice.svg\")"
   ]
  },
  {
   "cell_type": "code",
   "execution_count": null,
   "metadata": {},
   "outputs": [],
   "source": []
  },
  {
   "cell_type": "code",
   "execution_count": 28,
   "metadata": {},
   "outputs": [],
   "source": [
    "#import Pkg; Pkg.add(\"HTTP\")"
   ]
  },
  {
   "cell_type": "code",
   "execution_count": 29,
   "metadata": {},
   "outputs": [
    {
     "name": "stdout",
     "output_type": "stream",
     "text": [
      "Total words: 17099. Unique words: 3112. After filtration: 2997.\n",
      "The top 500 words are kept. \n",
      "color scheme: :tableau_red_green_gold, random size: 7, shuffled\n",
      "backgroundcolor = :maskcolor\n",
      "shape(squircle, 1503, 1153, rt=1.953, color=(0.985, 0.991, 0.984), padding=94, centerlargestword=true)\n",
      "MethodError(Luxor.var\"#squircle##kw\"(), ((action = :fill, rt = 1.953, centerlargestword = true), Luxor.squircle, Luxor.Point(0.0, 0.0), 751.5, 576.5), 0xffffffffffffffff)\n"
     ]
    }
   ],
   "source": [
    "using HTTP\n",
    "\n",
    "url = \"https://en.wikipedia.org/wiki/University_of_Central_Florida\"\n",
    "try\n",
    "    content = HTTP.request(\"GET\", url).body |> String\n",
    "    wc = wordcloud(content|>html2text|>processtext,style=:gathering,angles=-45:45, centerlargestword=true)|>generate!\n",
    "    \n",
    "    println(\"results are ucf's wiki.png\")\n",
    "    paint(wc, \"fromweb.png\")\n",
    "    wc\n",
    "    generate!(wc)\n",
    "    paint(wc, \"web.svg\")\n",
    "catch e\n",
    "    println(e)\n",
    "end"
   ]
  },
  {
   "cell_type": "code",
   "execution_count": null,
   "metadata": {},
   "outputs": [],
   "source": []
  },
  {
   "cell_type": "code",
   "execution_count": 30,
   "metadata": {},
   "outputs": [
    {
     "name": "stdout",
     "output_type": "stream",
     "text": [
      "fonts = \"Impact Medium\"\n",
      "mask size: 777×2625, content area: 681² (22²/word)\n",
      "set fontsize ∈ [7.619161699294746, 777]\n",
      "set density = 0.55\n",
      "⋯scale=25.26990057360733, density=0.45777788304806283\t↓\n",
      "⋯scale=27.69857806438115, density=0.5422845613710211\t↓\n",
      "fontsize ∈ [10.863870708466152, 10.863870708466152]\n",
      "▸1. scale = 27.909789190959046\n"
     ]
    },
    {
     "name": "stderr",
     "output_type": "stream",
     "text": [
      "┌ Info: nepoch: 1000, patient: 10\n",
      "└ @ Stuffing.Trainer /home/resort/.julia/packages/Stuffing/oYQwL/src/fit.jl:482\n",
      "┌ Info: @epoch 58(+21) η -> 0.177 (current 1312 collisions, best 1226 collisions)\n",
      "└ @ Stuffing.Trainer /home/resort/.julia/packages/Stuffing/oYQwL/src/fit.jl:534\n",
      "┌ Info: training early break after 58(+21) epochs (current 1312 collisions, best 1226 collisions)\n",
      "└ @ Stuffing.Trainer /home/resort/.julia/packages/Stuffing/oYQwL/src/fit.jl:543\n"
     ]
    },
    {
     "name": "stdout",
     "output_type": "stream",
     "text": [
      "▸2. try scale = 27.072495515230273. The density is reduced to 0.5422845613710211\n",
      "fontsize ∈ [10.537954587212166, 10.537954587212166]\n"
     ]
    },
    {
     "name": "stderr",
     "output_type": "stream",
     "text": [
      "┌ Info: nepoch: 1000, patient: 10\n",
      "└ @ Stuffing.Trainer /home/resort/.julia/packages/Stuffing/oYQwL/src/fit.jl:482\n",
      "┌ Info: @epoch 43(+21) η -> 0.177 (current 1211 collisions, best 1087 collisions)\n",
      "└ @ Stuffing.Trainer /home/resort/.julia/packages/Stuffing/oYQwL/src/fit.jl:534\n",
      "┌ Info: training early break after 43(+21) epochs (current 1211 collisions, best 1087 collisions)\n",
      "└ @ Stuffing.Trainer /home/resort/.julia/packages/Stuffing/oYQwL/src/fit.jl:543\n"
     ]
    },
    {
     "name": "stdout",
     "output_type": "stream",
     "text": [
      "▸3. try scale = 26.260320649773362. The density is reduced to 0.5286673714990752\n",
      "fontsize ∈ [10.2218159495958, 10.2218159495958]\n"
     ]
    },
    {
     "name": "stderr",
     "output_type": "stream",
     "text": [
      "┌ Info: nepoch: 1000, patient: 10\n",
      "└ @ Stuffing.Trainer /home/resort/.julia/packages/Stuffing/oYQwL/src/fit.jl:482\n",
      "┌ Info: @epoch 34(+21) η -> 0.177 (current 847 collisions, best 799 collisions)\n",
      "└ @ Stuffing.Trainer /home/resort/.julia/packages/Stuffing/oYQwL/src/fit.jl:534\n",
      "┌ Info: @epoch 82(+21) η -> 0.125 (current 357 collisions, best 332 collisions)\n",
      "└ @ Stuffing.Trainer /home/resort/.julia/packages/Stuffing/oYQwL/src/fit.jl:534\n",
      "┌ Info: @epoch 148(+10), 122(33) collisions, reposition [985, 949] to [(1891, 2867), (2056, 3064)]\n",
      "└ @ Stuffing.Trainer /home/resort/.julia/packages/Stuffing/oYQwL/src/fit.jl:494\n",
      "┌ Info: @epoch 165(+10), 73(32) collisions, reposition [844, 787] to [(2042, 1215), (2030, 2998)]\n",
      "└ @ Stuffing.Trainer /home/resort/.julia/packages/Stuffing/oYQwL/src/fit.jl:494\n",
      "┌ Info: @epoch 170(+3), 52(2) collisions, reposition [592] to [(1990, 831)]\n",
      "└ @ Stuffing.Trainer /home/resort/.julia/packages/Stuffing/oYQwL/src/fit.jl:494\n",
      "┌ Info: @epoch 177(+6), 53(3) collisions, reposition [42] to [(2399, 942)]\n",
      "└ @ Stuffing.Trainer /home/resort/.julia/packages/Stuffing/oYQwL/src/fit.jl:494\n",
      "┌ Info: @epoch 192(+10), 74(26) collisions, reposition [992] to [(2343, 1214)]\n",
      "└ @ Stuffing.Trainer /home/resort/.julia/packages/Stuffing/oYQwL/src/fit.jl:494\n",
      "┌ Info: @epoch 213(+5), 9(3) collisions, reposition [597] to [(2150, 1862)]\n",
      "└ @ Stuffing.Trainer /home/resort/.julia/packages/Stuffing/oYQwL/src/fit.jl:494\n",
      "┌ Info: @epoch 219(+3), 5(2) collisions, reposition nothing\n",
      "└ @ Stuffing.Trainer /home/resort/.julia/packages/Stuffing/oYQwL/src/fit.jl:494\n",
      "┌ Info: @epoch 220(+4), 10(2) collisions, reposition [189] to [(2007, 2874)]\n",
      "└ @ Stuffing.Trainer /home/resort/.julia/packages/Stuffing/oYQwL/src/fit.jl:494\n",
      "┌ Info: @epoch 225(+4), 13(3) collisions, reposition nothing\n",
      "└ @ Stuffing.Trainer /home/resort/.julia/packages/Stuffing/oYQwL/src/fit.jl:494\n",
      "┌ Info: @epoch 228(+7), 27(2) collisions, reposition [153] to [(1678, 2020)]\n",
      "└ @ Stuffing.Trainer /home/resort/.julia/packages/Stuffing/oYQwL/src/fit.jl:494\n",
      "┌ Info: @epoch 237(+21) η -> 0.088 (current 35 collisions, best 4 collisions)\n",
      "└ @ Stuffing.Trainer /home/resort/.julia/packages/Stuffing/oYQwL/src/fit.jl:534\n",
      "┌ Info: @epoch 240(+9), 45(4) collisions, reposition [885] to [(2023, 1776)]\n",
      "└ @ Stuffing.Trainer /home/resort/.julia/packages/Stuffing/oYQwL/src/fit.jl:494\n",
      "┌ Info: @epoch 252(+10), 64(28) collisions, reposition [823] to [(1727, 2318)]\n",
      "└ @ Stuffing.Trainer /home/resort/.julia/packages/Stuffing/oYQwL/src/fit.jl:494\n",
      "┌ Info: @epoch 263(+21) η <- 0.125 (collisions 18 ≥ 4)\n",
      "└ @ Stuffing.Trainer /home/resort/.julia/packages/Stuffing/oYQwL/src/fit.jl:538\n",
      "┌ Info: @epoch 266(+8), 60(6) collisions, reposition [938] to [(1910, 2876)]\n",
      "└ @ Stuffing.Trainer /home/resort/.julia/packages/Stuffing/oYQwL/src/fit.jl:494\n",
      "┌ Info: @epoch 277(+10), 75(23) collisions, reposition [853] to [(1692, 3078)]\n",
      "└ @ Stuffing.Trainer /home/resort/.julia/packages/Stuffing/oYQwL/src/fit.jl:494\n",
      "┌ Info: @epoch 288(+21) η -> 0.088 (current 79 collisions, best 59 collisions)\n",
      "└ @ Stuffing.Trainer /home/resort/.julia/packages/Stuffing/oYQwL/src/fit.jl:534\n",
      "┌ Info: @epoch 296(+10), 73(14) collisions, reposition [882] to [(1743, 3190)]\n",
      "└ @ Stuffing.Trainer /home/resort/.julia/packages/Stuffing/oYQwL/src/fit.jl:494\n",
      "┌ Info: @epoch 308(+10), 41(12) collisions, reposition [802] to [(2275, 1922)]\n",
      "└ @ Stuffing.Trainer /home/resort/.julia/packages/Stuffing/oYQwL/src/fit.jl:494\n",
      "┌ Info: @epoch 317(+5), 11(3) collisions, reposition [757] to [(2383, 1102)]\n",
      "└ @ Stuffing.Trainer /home/resort/.julia/packages/Stuffing/oYQwL/src/fit.jl:494\n",
      "┌ Info: @epoch 324(+5), 10(3) collisions, reposition [589] to [(2072, 776)]\n",
      "└ @ Stuffing.Trainer /home/resort/.julia/packages/Stuffing/oYQwL/src/fit.jl:494\n",
      "┌ Info: @epoch 333(+5), 11(4) collisions, reposition [979] to [(2370, 2167)]\n",
      "└ @ Stuffing.Trainer /home/resort/.julia/packages/Stuffing/oYQwL/src/fit.jl:494\n"
     ]
    },
    {
     "name": "stdout",
     "output_type": "stream",
     "text": [
      "443 epochs\n",
      "results are saved to lettermask.svg\n"
     ]
    },
    {
     "data": {
      "image/svg+xml": [],
      "text/plain": []
     },
     "execution_count": 30,
     "metadata": {},
     "output_type": "execute_result"
    }
   ],
   "source": [
    "mask = rendertext(\"U.C.F.\", 1000, border=10, color=0.9, backgroundcolor=0.98, type=:svg, font=\"Verdana\")\n",
    "words = repeat([\"Go\",\"Knights\",\"!\",\"cool times\",\"great weather\"], 200)\n",
    "weights = repeat([1], length(words))\n",
    "wc = wordcloud(\n",
    "        words, weights, \n",
    "        mask = mask,\n",
    "        angles = [0,30,45,90,180,270,340,0,0],\n",
    "        colors = (\"#4465B0\", \"#EFA90A\", \"#5D1115\", \"#159311\", \"#002010\"),\n",
    "        density=0.55,\n",
    "        ) |> generate!\n",
    "println(\"results are saved to lettermask.svg\")\n",
    "paint(wc, \"lettermask.svg\" , background=false)\n",
    "\n"
   ]
  },
  {
   "cell_type": "code",
   "execution_count": null,
   "metadata": {},
   "outputs": [],
   "source": [
    "\n"
   ]
  },
  {
   "cell_type": "code",
   "execution_count": null,
   "metadata": {},
   "outputs": [],
   "source": []
  },
  {
   "cell_type": "code",
   "execution_count": null,
   "metadata": {},
   "outputs": [],
   "source": []
  },
  {
   "cell_type": "code",
   "execution_count": null,
   "metadata": {},
   "outputs": [],
   "source": []
  },
  {
   "cell_type": "code",
   "execution_count": null,
   "metadata": {},
   "outputs": [],
   "source": []
  },
  {
   "cell_type": "code",
   "execution_count": null,
   "metadata": {},
   "outputs": [],
   "source": []
  },
  {
   "cell_type": "code",
   "execution_count": null,
   "metadata": {},
   "outputs": [],
   "source": []
  },
  {
   "cell_type": "code",
   "execution_count": null,
   "metadata": {},
   "outputs": [],
   "source": []
  },
  {
   "cell_type": "code",
   "execution_count": null,
   "metadata": {},
   "outputs": [],
   "source": []
  },
  {
   "cell_type": "code",
   "execution_count": null,
   "metadata": {},
   "outputs": [],
   "source": []
  },
  {
   "cell_type": "code",
   "execution_count": null,
   "metadata": {},
   "outputs": [],
   "source": []
  },
  {
   "cell_type": "code",
   "execution_count": null,
   "metadata": {},
   "outputs": [],
   "source": []
  },
  {
   "cell_type": "code",
   "execution_count": null,
   "metadata": {},
   "outputs": [],
   "source": []
  }
 ],
 "metadata": {
  "kernelspec": {
   "display_name": "Julia 1.8.2",
   "language": "julia",
   "name": "julia-1.8"
  },
  "language_info": {
   "file_extension": ".jl",
   "mimetype": "application/julia",
   "name": "julia",
   "version": "1.8.2"
  }
 },
 "nbformat": 4,
 "nbformat_minor": 4
}
