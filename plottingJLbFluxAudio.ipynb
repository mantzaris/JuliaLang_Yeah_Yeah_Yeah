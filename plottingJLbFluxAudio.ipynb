{
 "cells": [
  {
   "cell_type": "code",
   "execution_count": 6,
   "metadata": {},
   "outputs": [
    {
     "name": "stderr",
     "output_type": "stream",
     "text": [
      "┌ Info: Precompiling DSP [717857b8-e6f2-59f4-9121-6e50c889abd2]\n",
      "└ @ Base loading.jl:1278\n",
      "┌ Info: Precompiling WAV [8149f6b0-98f6-5db9-b78f-408fbbb8ef88]\n",
      "└ @ Base loading.jl:1278\n",
      "┌ Info: Precompiling Plots [91a5bcdd-55d7-5caf-9e0b-520d859cae80]\n",
      "└ @ Base loading.jl:1278\n",
      "┌ Info: Precompiling ChemometricsTools [a9718f02-dbee-5ae5-ad0e-dfbd07fa387b]\n",
      "└ @ Base loading.jl:1278\n",
      "WARNING: Method definition (::Type{ChemometricsTools.COW})(Any, Any) in module ChemometricsTools at /home/resort/.julia/packages/ChemometricsTools/v8zgo/src/Analysis.jl:312 overwritten at /home/resort/.julia/packages/ChemometricsTools/v8zgo/src/Analysis.jl:329.\n",
      "  ** incremental compilation may be fatally broken for this module **\n",
      "\n",
      "┌ Info: Precompiling Shapefile [8e980c4a-a4fe-5da2-b3a7-4b4b0353a2f4]\n",
      "└ @ Base loading.jl:1278\n",
      "┌ Info: Precompiling Images [916415d5-f1e6-5110-898d-aaa5f9f070e0]\n",
      "└ @ Base loading.jl:1278\n",
      "┌ Info: Precompiling ImageMagick [6218d12a-5da1-5696-b52f-db25d2ecc6d1]\n",
      "└ @ Base loading.jl:1278\n"
     ]
    }
   ],
   "source": [
    "using DSP, WAV\n",
    "using Plots\n",
    "using AbstractFFTs\n",
    "using ChemometricsTools\n",
    "using Shapefile\n",
    "using Images, ImageMagick\n",
    "using StatsBase\n",
    "using Distances\n",
    "using Statistics\n",
    "using FFTW\n",
    "using AbstractFFTs\n",
    "using Distributions\n",
    "using Random"
   ]
  },
  {
   "cell_type": "code",
   "execution_count": 1,
   "metadata": {},
   "outputs": [
    {
     "name": "stdout",
     "output_type": "stream",
     "text": [
      "[\"00008047.wav\", \"00008098.wav\", \"07017020.wav\", \"07017033.wav\", \"07064037.wav\", \"07064052.wav\", \"07064058.wav\", \"07064059.wav\", \"07074149.wav\"]\n"
     ]
    }
   ],
   "source": [
    "relativePath_crowds = \"./crowdSounds/\"\n",
    "fileWAVs_crowds = readdir(relativePath_crowds) |> files -> filter(file -> file[end-3:end] == \".wav\" , files)\n",
    "println(fileWAVs_crowds)"
   ]
  },
  {
   "cell_type": "code",
   "execution_count": 3,
   "metadata": {},
   "outputs": [
    {
     "name": "stdout",
     "output_type": "stream",
     "text": [
      "[\"07031051.wav\", \"07039089.wav\"]\n"
     ]
    }
   ],
   "source": [
    "relativePath_crowds_test = \"./crowdSoundsTest/\"\n",
    "fileWAVs_crowds_test = readdir(relativePath_crowds_test) |> files -> filter(file -> file[end-3:end] == \".wav\" , files)\n",
    "println(fileWAVs_crowds_test)"
   ]
  },
  {
   "cell_type": "code",
   "execution_count": 2,
   "metadata": {},
   "outputs": [
    {
     "name": "stdout",
     "output_type": "stream",
     "text": [
      "[\"07007054.wav\", \"07011027.wav\", \"07011090.wav\", \"07066043.wav\", \"07070158.wav\", \"07070171.wav\", \"07071147.wav\", \"07075015.wav\"]\n"
     ]
    }
   ],
   "source": [
    "relativePath_mechanical = \"./mechanicalSounds/\"\n",
    "fileWAVs_mechanical = readdir(relativePath_mechanical) |> files -> filter(file -> file[end-3:end] == \".wav\" , files)\n",
    "println(fileWAVs_mechanical)"
   ]
  },
  {
   "cell_type": "code",
   "execution_count": 4,
   "metadata": {},
   "outputs": [
    {
     "name": "stdout",
     "output_type": "stream",
     "text": [
      "[\"07027015.wav\", \"07039136.wav\"]\n"
     ]
    }
   ],
   "source": [
    "relativePath_mechanical_test = \"./mechanicalSoundsTest/\"\n",
    "fileWAVs_mechanical_test = readdir(relativePath_mechanical_test) |> files -> filter(file -> file[end-3:end] == \".wav\" , files)\n",
    "println(fileWAVs_mechanical_test)"
   ]
  },
  {
   "cell_type": "code",
   "execution_count": null,
   "metadata": {},
   "outputs": [],
   "source": []
  },
  {
   "cell_type": "code",
   "execution_count": 8,
   "metadata": {},
   "outputs": [],
   "source": [
    "crowd_signals = []\n",
    "Fs_crowd = []\n",
    "for filename in fileWAVs_crowds\n",
    "    ss, Fs = wavread(relativePath_crowds*filename)\n",
    "    push!(Fs_crowd,Fs)\n",
    "    #these signals come in 'stereo' so I just choose one channel\n",
    "    push!(crowd_signals,ss[:,1])\n",
    "end"
   ]
  },
  {
   "cell_type": "code",
   "execution_count": 9,
   "metadata": {},
   "outputs": [],
   "source": [
    "crowd_signals_test = []\n",
    "Fs_crowd_test = []\n",
    "for filename in fileWAVs_crowds_test\n",
    "    ss, Fs = wavread(relativePath_crowds_test*filename)\n",
    "    push!(Fs_crowd_test,Fs)\n",
    "    #these signals come in 'stereo' so I just choose one channel\n",
    "    push!(crowd_signals_test,ss[:,1])\n",
    "end"
   ]
  },
  {
   "cell_type": "code",
   "execution_count": 11,
   "metadata": {},
   "outputs": [],
   "source": [
    "mechanical_signals = []\n",
    "Fs_mechanical = []\n",
    "for filename in fileWAVs_mechanical\n",
    "    ss, Fs = wavread(relativePath_mechanical*filename)\n",
    "    push!(Fs_mechanical,Fs)\n",
    "    #these signals come in 'stereo' so I just choose one channel\n",
    "    push!(mechanical_signals,ss[:,1])\n",
    "end"
   ]
  },
  {
   "cell_type": "code",
   "execution_count": 12,
   "metadata": {},
   "outputs": [],
   "source": [
    "mechanical_signals_test = []\n",
    "Fs_mechanical_test = []\n",
    "for filename in fileWAVs_mechanical_test\n",
    "    ss, Fs = wavread(relativePath_mechanical_test*filename)\n",
    "    push!(Fs_mechanical_test,Fs)\n",
    "    #these signals come in 'stereo' so I just choose one channel\n",
    "    push!(mechanical_signals_test,ss[:,1])\n",
    "end"
   ]
  },
  {
   "cell_type": "code",
   "execution_count": 13,
   "metadata": {},
   "outputs": [
    {
     "name": "stdout",
     "output_type": "stream",
     "text": [
      "Any[44100.0f0, 44100.0f0]"
     ]
    }
   ],
   "source": [
    "print(Fs_mechanical_test)"
   ]
  },
  {
   "cell_type": "code",
   "execution_count": 14,
   "metadata": {},
   "outputs": [
    {
     "name": "stdout",
     "output_type": "stream",
     "text": [
      "Any[44100.0f0, 44100.0f0]"
     ]
    }
   ],
   "source": [
    "print(Fs_crowd_test)"
   ]
  },
  {
   "cell_type": "code",
   "execution_count": null,
   "metadata": {},
   "outputs": [],
   "source": []
  },
  {
   "cell_type": "code",
   "execution_count": 17,
   "metadata": {},
   "outputs": [
    {
     "data": {
      "image/png": "[encoded data removed]"
     },
     "metadata": {},
     "output_type": "display_data"
    }
   ],
   "source": [
    "ss_ind = 1\n",
    "prdgrm = DSP.Periodograms.periodogram(crowd_signals[ss_ind], fs=Int(Fs_crowd[ss_ind]), window=DSP.Windows.hamming)\n",
    "p = plot(prdgrm.freq,prdgrm.power,legend=false,linewidth=3,xrotation=45,\n",
    "        xlabel=\"frequencies\",xguidefontsize=12,xtickfontsize=12,ylabel=\"power\",title=\"crowd:\"*fileWAVs_crowds[ss_ind])\n",
    "display(\"image/png\", p)"
   ]
  },
  {
   "cell_type": "code",
   "execution_count": 18,
   "metadata": {},
   "outputs": [
    {
     "data": {
      "image/png": "[encoded data removed]"
     },
     "metadata": {},
     "output_type": "display_data"
    }
   ],
   "source": [
    "ss_ind = 1\n",
    "prdgrm = DSP.Periodograms.periodogram(mechanical_signals[ss_ind], fs=Int(Fs_mechanical[ss_ind]), window=DSP.Windows.hamming)\n",
    "p = plot(prdgrm.freq,prdgrm.power,legend=false,linewidth=3,xrotation=45,\n",
    "        xlabel=\"frequencies\",xguidefontsize=12,xtickfontsize=12,ylabel=\"power\",title=\"mechanical:\"*fileWAVs_mechanical[ss_ind])\n",
    "display(\"image/png\", p)"
   ]
  },
  {
   "cell_type": "code",
   "execution_count": null,
   "metadata": {},
   "outputs": [],
   "source": []
  },
  {
   "cell_type": "code",
   "execution_count": null,
   "metadata": {},
   "outputs": [],
   "source": []
  },
  {
   "cell_type": "code",
   "execution_count": null,
   "metadata": {},
   "outputs": [],
   "source": []
  },
  {
   "cell_type": "code",
   "execution_count": null,
   "metadata": {},
   "outputs": [],
   "source": []
  },
  {
   "cell_type": "code",
   "execution_count": null,
   "metadata": {},
   "outputs": [],
   "source": []
  }
 ],
 "metadata": {
  "kernelspec": {
   "display_name": "Julia 1.5.2",
   "language": "julia",
   "name": "julia-1.5"
  },
  "language_info": {
   "file_extension": ".jl",
   "mimetype": "application/julia",
   "name": "julia",
   "version": "1.5.2"
  }
 },
 "nbformat": 4,
 "nbformat_minor": 4
}
