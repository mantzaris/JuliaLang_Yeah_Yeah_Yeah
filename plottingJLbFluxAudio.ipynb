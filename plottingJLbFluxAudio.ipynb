{
 "cells": [
  {
   "cell_type": "code",
   "execution_count": 6,
   "metadata": {},
   "outputs": [
    {
     "name": "stderr",
     "output_type": "stream",
     "text": [
      "┌ Info: Precompiling DSP [717857b8-e6f2-59f4-9121-6e50c889abd2]\n",
      "└ @ Base loading.jl:1278\n",
      "┌ Info: Precompiling WAV [8149f6b0-98f6-5db9-b78f-408fbbb8ef88]\n",
      "└ @ Base loading.jl:1278\n",
      "┌ Info: Precompiling Plots [91a5bcdd-55d7-5caf-9e0b-520d859cae80]\n",
      "└ @ Base loading.jl:1278\n",
      "┌ Info: Precompiling ChemometricsTools [a9718f02-dbee-5ae5-ad0e-dfbd07fa387b]\n",
      "└ @ Base loading.jl:1278\n",
      "WARNING: Method definition (::Type{ChemometricsTools.COW})(Any, Any) in module ChemometricsTools at /home/resort/.julia/packages/ChemometricsTools/v8zgo/src/Analysis.jl:312 overwritten at /home/resort/.julia/packages/ChemometricsTools/v8zgo/src/Analysis.jl:329.\n",
      "  ** incremental compilation may be fatally broken for this module **\n",
      "\n",
      "┌ Info: Precompiling Shapefile [8e980c4a-a4fe-5da2-b3a7-4b4b0353a2f4]\n",
      "└ @ Base loading.jl:1278\n",
      "┌ Info: Precompiling Images [916415d5-f1e6-5110-898d-aaa5f9f070e0]\n",
      "└ @ Base loading.jl:1278\n",
      "┌ Info: Precompiling ImageMagick [6218d12a-5da1-5696-b52f-db25d2ecc6d1]\n",
      "└ @ Base loading.jl:1278\n"
     ]
    }
   ],
   "source": [
    "using DSP, WAV\n",
    "using Plots\n",
    "using AbstractFFTs\n",
    "using ChemometricsTools\n",
    "using Shapefile\n",
    "using Images, ImageMagick\n",
    "using StatsBase\n",
    "using Distances\n",
    "using Statistics\n",
    "using FFTW\n",
    "using AbstractFFTs\n",
    "using Distributions\n",
    "using Random"
   ]
  },
  {
   "cell_type": "code",
   "execution_count": 39,
   "metadata": {},
   "outputs": [
    {
     "name": "stdout",
     "output_type": "stream",
     "text": [
      "[\"07017020.wav\", \"07017033.wav\", \"07064037.wav\", \"07064052.wav\", \"07064058.wav\", \"07064059.wav\", \"07074149.wav\"]\n"
     ]
    }
   ],
   "source": [
    "relativePath_crowds = \"./crowdSounds/\"\n",
    "fileWAVs_crowds = readdir(relativePath_crowds) |> files -> filter(file -> file[end-3:end] == \".wav\" , files)\n",
    "println(fileWAVs_crowds)"
   ]
  },
  {
   "cell_type": "code",
   "execution_count": 40,
   "metadata": {},
   "outputs": [
    {
     "name": "stdout",
     "output_type": "stream",
     "text": [
      "[\"07031051.wav\", \"07039089.wav\"]\n"
     ]
    }
   ],
   "source": [
    "relativePath_crowds_test = \"./crowdSoundsTest/\"\n",
    "fileWAVs_crowds_test = readdir(relativePath_crowds_test) |> files -> filter(file -> file[end-3:end] == \".wav\" , files)\n",
    "println(fileWAVs_crowds_test)"
   ]
  },
  {
   "cell_type": "code",
   "execution_count": 41,
   "metadata": {},
   "outputs": [
    {
     "name": "stdout",
     "output_type": "stream",
     "text": [
      "[\"07007054.wav\", \"07011027.wav\", \"07011090.wav\", \"07066043.wav\", \"07070158.wav\", \"07070171.wav\", \"07071147.wav\", \"07075015.wav\"]\n"
     ]
    }
   ],
   "source": [
    "relativePath_mechanical = \"./mechanicalSounds/\"\n",
    "fileWAVs_mechanical = readdir(relativePath_mechanical) |> files -> filter(file -> file[end-3:end] == \".wav\" , files)\n",
    "println(fileWAVs_mechanical)"
   ]
  },
  {
   "cell_type": "code",
   "execution_count": 42,
   "metadata": {},
   "outputs": [
    {
     "name": "stdout",
     "output_type": "stream",
     "text": [
      "[\"07027015.wav\", \"07039136.wav\"]\n"
     ]
    }
   ],
   "source": [
    "relativePath_mechanical_test = \"./mechanicalSoundsTest/\"\n",
    "fileWAVs_mechanical_test = readdir(relativePath_mechanical_test) |> files -> filter(file -> file[end-3:end] == \".wav\" , files)\n",
    "println(fileWAVs_mechanical_test)"
   ]
  },
  {
   "cell_type": "code",
   "execution_count": null,
   "metadata": {},
   "outputs": [],
   "source": []
  },
  {
   "cell_type": "code",
   "execution_count": 43,
   "metadata": {},
   "outputs": [],
   "source": [
    "crowd_signals = []\n",
    "Fs_crowd = []\n",
    "for filename in fileWAVs_crowds\n",
    "    ss, Fs = wavread(relativePath_crowds*filename)\n",
    "    push!(Fs_crowd,Fs)\n",
    "    #these signals come in 'stereo' so I just choose one channel\n",
    "    push!(crowd_signals,ss[:,1])\n",
    "end"
   ]
  },
  {
   "cell_type": "code",
   "execution_count": 44,
   "metadata": {},
   "outputs": [],
   "source": [
    "crowd_signals_test = []\n",
    "Fs_crowd_test = []\n",
    "for filename in fileWAVs_crowds_test\n",
    "    ss, Fs = wavread(relativePath_crowds_test*filename)\n",
    "    push!(Fs_crowd_test,Fs)\n",
    "    #these signals come in 'stereo' so I just choose one channel\n",
    "    push!(crowd_signals_test,ss[:,1])\n",
    "end"
   ]
  },
  {
   "cell_type": "code",
   "execution_count": 45,
   "metadata": {},
   "outputs": [],
   "source": [
    "mechanical_signals = []\n",
    "Fs_mechanical = []\n",
    "for filename in fileWAVs_mechanical\n",
    "    ss, Fs = wavread(relativePath_mechanical*filename)\n",
    "    push!(Fs_mechanical,Fs)\n",
    "    #these signals come in 'stereo' so I just choose one channel\n",
    "    push!(mechanical_signals,ss[:,1])\n",
    "end"
   ]
  },
  {
   "cell_type": "code",
   "execution_count": 46,
   "metadata": {},
   "outputs": [],
   "source": [
    "mechanical_signals_test = []\n",
    "Fs_mechanical_test = []\n",
    "for filename in fileWAVs_mechanical_test\n",
    "    ss, Fs = wavread(relativePath_mechanical_test*filename)\n",
    "    push!(Fs_mechanical_test,Fs)\n",
    "    #these signals come in 'stereo' so I just choose one channel\n",
    "    push!(mechanical_signals_test,ss[:,1])\n",
    "end"
   ]
  },
  {
   "cell_type": "code",
   "execution_count": 47,
   "metadata": {},
   "outputs": [
    {
     "name": "stdout",
     "output_type": "stream",
     "text": [
      "Any[44100.0f0, 44100.0f0, 44100.0f0, 44100.0f0, 44100.0f0, 44100.0f0, 44100.0f0, 44100.0f0]"
     ]
    }
   ],
   "source": [
    "print(Fs_mechanical)"
   ]
  },
  {
   "cell_type": "code",
   "execution_count": 48,
   "metadata": {},
   "outputs": [
    {
     "name": "stdout",
     "output_type": "stream",
     "text": [
      "Any[44100.0f0, 44100.0f0, 44100.0f0, 44100.0f0, 44100.0f0, 44100.0f0, 44100.0f0]"
     ]
    }
   ],
   "source": [
    "print(Fs_crowd)"
   ]
  },
  {
   "cell_type": "code",
   "execution_count": 49,
   "metadata": {},
   "outputs": [
    {
     "name": "stdout",
     "output_type": "stream",
     "text": [
      "Any[44100.0f0, 44100.0f0]"
     ]
    }
   ],
   "source": [
    "print(Fs_mechanical_test)"
   ]
  },
  {
   "cell_type": "code",
   "execution_count": 50,
   "metadata": {},
   "outputs": [
    {
     "name": "stdout",
     "output_type": "stream",
     "text": [
      "Any[44100.0f0, 44100.0f0]"
     ]
    }
   ],
   "source": [
    "print(Fs_crowd_test)"
   ]
  },
  {
   "cell_type": "code",
   "execution_count": null,
   "metadata": {},
   "outputs": [],
   "source": []
  },
  {
   "cell_type": "code",
   "execution_count": 63,
   "metadata": {},
   "outputs": [
    {
     "data": {
      "image/png": "[encoded data removed]"
     },
     "metadata": {},
     "output_type": "display_data"
    }
   ],
   "source": [
    "ss_ind = 1\n",
    "prdgrm1 = DSP.Periodograms.periodogram(crowd_signals[ss_ind], fs=Int(Fs_crowd[ss_ind]), window=DSP.Windows.hamming)\n",
    "p = plot(prdgrm1.freq,prdgrm1.power,legend=false,linewidth=3,xrotation=45,\n",
    "        xlabel=\"frequencies\",xguidefontsize=12,xtickfontsize=12,ylabel=\"power\",title=\"crowd:\"*fileWAVs_crowds[ss_ind])\n",
    "display(\"image/png\", p)"
   ]
  },
  {
   "cell_type": "code",
   "execution_count": 64,
   "metadata": {},
   "outputs": [
    {
     "data": {
      "text/plain": [
       "439041"
      ]
     },
     "execution_count": 64,
     "metadata": {},
     "output_type": "execute_result"
    }
   ],
   "source": [
    "length(prdgrm.power)"
   ]
  },
  {
   "cell_type": "code",
   "execution_count": 65,
   "metadata": {},
   "outputs": [
    {
     "data": {
      "text/plain": [
       "439041"
      ]
     },
     "execution_count": 65,
     "metadata": {},
     "output_type": "execute_result"
    }
   ],
   "source": [
    "length(prdgrm.freq)"
   ]
  },
  {
   "cell_type": "code",
   "execution_count": 66,
   "metadata": {},
   "outputs": [
    {
     "data": {
      "text/plain": [
       "22050.0"
      ]
     },
     "execution_count": 66,
     "metadata": {},
     "output_type": "execute_result"
    }
   ],
   "source": [
    "maximum(prdgrm.freq)"
   ]
  },
  {
   "cell_type": "code",
   "execution_count": 75,
   "metadata": {},
   "outputs": [
    {
     "data": {
      "text/plain": [
       "100-element Array{Float64,1}:\n",
       " 0.0\n",
       " 0.08861400462962964\n",
       " 0.17722800925925927\n",
       " 0.2658420138888889\n",
       " 0.35445601851851855\n",
       " 0.4430700231481482\n",
       " 0.5316840277777778\n",
       " 0.6202980324074074\n",
       " 0.7089120370370371\n",
       " 0.7975260416666667\n",
       " 0.8861400462962964\n",
       " 0.974754050925926\n",
       " 1.0633680555555556\n",
       " ⋮\n",
       " 7.798032407407408\n",
       " 7.886646412037037\n",
       " 7.975260416666667\n",
       " 8.063874421296298\n",
       " 8.152488425925927\n",
       " 8.241102430555555\n",
       " 8.329716435185185\n",
       " 8.418330439814815\n",
       " 8.506944444444445\n",
       " 8.595558449074074\n",
       " 8.684172453703704\n",
       " 8.772786458333334"
      ]
     },
     "execution_count": 75,
     "metadata": {},
     "output_type": "execute_result"
    }
   ],
   "source": [
    "prdgrm1.freq[1:100]"
   ]
  },
  {
   "cell_type": "code",
   "execution_count": 67,
   "metadata": {},
   "outputs": [
    {
     "data": {
      "text/plain": [
       "10000-element Array{Float64,1}:\n",
       "   0.0\n",
       "   0.05022321428571429\n",
       "   0.10044642857142858\n",
       "   0.15066964285714285\n",
       "   0.20089285714285715\n",
       "   0.25111607142857145\n",
       "   0.3013392857142857\n",
       "   0.3515625\n",
       "   0.4017857142857143\n",
       "   0.4520089285714286\n",
       "   0.5022321428571429\n",
       "   0.5524553571428572\n",
       "   0.6026785714285714\n",
       "   ⋮\n",
       " 501.6294642857143\n",
       " 501.6796875\n",
       " 501.7299107142857\n",
       " 501.78013392857144\n",
       " 501.83035714285717\n",
       " 501.8805803571429\n",
       " 501.9308035714286\n",
       " 501.9810267857143\n",
       " 502.03125\n",
       " 502.0814732142857\n",
       " 502.13169642857144\n",
       " 502.18191964285717"
      ]
     },
     "execution_count": 67,
     "metadata": {},
     "output_type": "execute_result"
    }
   ],
   "source": [
    "prdgrm.freq[1:10^4]"
   ]
  },
  {
   "cell_type": "code",
   "execution_count": 68,
   "metadata": {},
   "outputs": [
    {
     "data": {
      "image/png": "[encoded data removed]"
     },
     "metadata": {},
     "output_type": "display_data"
    }
   ],
   "source": [
    "ss_ind = 1\n",
    "prdgrm2 = DSP.Periodograms.periodogram(mechanical_signals[ss_ind], fs=Int(Fs_mechanical[ss_ind]), window=DSP.Windows.hamming)\n",
    "p = plot(prdgrm2.freq,prdgrm2.power,legend=false,linewidth=3,xrotation=45,\n",
    "        xlabel=\"frequencies\",xguidefontsize=12,xtickfontsize=12,ylabel=\"power\",title=\"mechanical:\"*fileWAVs_mechanical[ss_ind])\n",
    "display(\"image/png\", p)"
   ]
  },
  {
   "cell_type": "code",
   "execution_count": 69,
   "metadata": {},
   "outputs": [
    {
     "data": {
      "text/plain": [
       "439041"
      ]
     },
     "execution_count": 69,
     "metadata": {},
     "output_type": "execute_result"
    }
   ],
   "source": [
    "length(prdgrm.power)"
   ]
  },
  {
   "cell_type": "code",
   "execution_count": 70,
   "metadata": {},
   "outputs": [
    {
     "data": {
      "text/plain": [
       "22050.0"
      ]
     },
     "execution_count": 70,
     "metadata": {},
     "output_type": "execute_result"
    }
   ],
   "source": [
    "maximum(prdgrm.freq)"
   ]
  },
  {
   "cell_type": "code",
   "execution_count": 73,
   "metadata": {},
   "outputs": [
    {
     "data": {
      "text/plain": [
       "100-element Array{Float64,1}:\n",
       " 0.0\n",
       " 0.05022321428571429\n",
       " 0.10044642857142858\n",
       " 0.15066964285714285\n",
       " 0.20089285714285715\n",
       " 0.25111607142857145\n",
       " 0.3013392857142857\n",
       " 0.3515625\n",
       " 0.4017857142857143\n",
       " 0.4520089285714286\n",
       " 0.5022321428571429\n",
       " 0.5524553571428572\n",
       " 0.6026785714285714\n",
       " ⋮\n",
       " 4.419642857142858\n",
       " 4.469866071428571\n",
       " 4.520089285714286\n",
       " 4.5703125\n",
       " 4.620535714285714\n",
       " 4.670758928571429\n",
       " 4.720982142857143\n",
       " 4.771205357142858\n",
       " 4.821428571428571\n",
       " 4.871651785714286\n",
       " 4.921875\n",
       " 4.972098214285714"
      ]
     },
     "execution_count": 73,
     "metadata": {},
     "output_type": "execute_result"
    }
   ],
   "source": [
    "prdgrm2.freq[1:100]"
   ]
  },
  {
   "cell_type": "code",
   "execution_count": 74,
   "metadata": {},
   "outputs": [
    {
     "data": {
      "text/plain": [
       "10000-element Array{Float64,1}:\n",
       "   0.0\n",
       "   0.05022321428571429\n",
       "   0.10044642857142858\n",
       "   0.15066964285714285\n",
       "   0.20089285714285715\n",
       "   0.25111607142857145\n",
       "   0.3013392857142857\n",
       "   0.3515625\n",
       "   0.4017857142857143\n",
       "   0.4520089285714286\n",
       "   0.5022321428571429\n",
       "   0.5524553571428572\n",
       "   0.6026785714285714\n",
       "   ⋮\n",
       " 501.6294642857143\n",
       " 501.6796875\n",
       " 501.7299107142857\n",
       " 501.78013392857144\n",
       " 501.83035714285717\n",
       " 501.8805803571429\n",
       " 501.9308035714286\n",
       " 501.9810267857143\n",
       " 502.03125\n",
       " 502.0814732142857\n",
       " 502.13169642857144\n",
       " 502.18191964285717"
      ]
     },
     "execution_count": 74,
     "metadata": {},
     "output_type": "execute_result"
    }
   ],
   "source": [
    "prdgrm2.freq[1:10^4]"
   ]
  },
  {
   "cell_type": "code",
   "execution_count": null,
   "metadata": {},
   "outputs": [],
   "source": []
  },
  {
   "cell_type": "code",
   "execution_count": null,
   "metadata": {},
   "outputs": [],
   "source": []
  },
  {
   "cell_type": "markdown",
   "metadata": {},
   "source": [
    "## Cross entropy\n",
    "\n",
    "We have 2 probability distributions $p$ and $q$ for the same *domain*. Here $p$ is the true distribution, and $q$ an approximation. In terms of information theory it measures the average (expected) number of bits to code one in terms of the other. In the discrete case it is\n",
    "\n",
    "$H(p,q) = - \\sum_{x \\in domain} p(x) log(q(x))$\n",
    "\n",
    "often we do not know $p(x)$ beforehand. This is related to the KL divergence measure (distance)\n",
    "\n",
    "$D_{KL}(P||Q) = \\sum_{x\\in domain} P(x) log( \\frac{P(x)}{Q(x)} )$\n",
    "\n"
   ]
  },
  {
   "cell_type": "code",
   "execution_count": 76,
   "metadata": {},
   "outputs": [],
   "source": [
    "using Flux\n",
    "using Flux:onehotbatch\n",
    "using Flux:crossentropy,onecold,throttle\n",
    "using Random\n",
    "using Statistics:mean"
   ]
  },
  {
   "cell_type": "code",
   "execution_count": null,
   "metadata": {},
   "outputs": [],
   "source": []
  },
  {
   "cell_type": "code",
   "execution_count": 79,
   "metadata": {},
   "outputs": [
    {
     "data": {
      "text/plain": [
       "Get_Powers_freq10K (generic function with 1 method)"
      ]
     },
     "execution_count": 79,
     "metadata": {},
     "output_type": "execute_result"
    }
   ],
   "source": [
    "Fs = Fs_mechanical_test[1]\n",
    "max_freq = 10^4\n",
    "function Get_Powers_freq10K(signal)\n",
    "    prdgrm_tmp = DSP.Periodograms.periodogram(signal, fs=Int(Fs), window=DSP.Windows.hamming)\n",
    "    return prdgrm_tmp.power[1:max_freq]\n",
    "end"
   ]
  },
  {
   "cell_type": "code",
   "execution_count": 80,
   "metadata": {},
   "outputs": [
    {
     "data": {
      "text/plain": [
       "10000-element Array{Float64,1}:\n",
       " 3.448483900418463e-8\n",
       " 1.2680126220753289e-8\n",
       " 2.673400004458723e-12\n",
       " 1.4488235860618455e-12\n",
       " 4.4337905299333347e-13\n",
       " 1.2261249299700209e-12\n",
       " 8.14472808173038e-15\n",
       " 4.914031060117449e-12\n",
       " 4.570308652881908e-12\n",
       " 2.562904734874422e-12\n",
       " 8.216008332218507e-13\n",
       " 6.065246746437203e-13\n",
       " 2.7295090404808693e-12\n",
       " ⋮\n",
       " 6.764429771370022e-7\n",
       " 3.6341906518750435e-7\n",
       " 1.621208557431288e-6\n",
       " 1.4168597746279736e-6\n",
       " 4.602295846498379e-7\n",
       " 2.568282886276193e-7\n",
       " 7.770494953959398e-7\n",
       " 5.407834656899704e-7\n",
       " 1.1615506923778553e-7\n",
       " 1.9595001241153534e-8\n",
       " 5.923283980230246e-8\n",
       " 2.832348206438559e-7"
      ]
     },
     "execution_count": 80,
     "metadata": {},
     "output_type": "execute_result"
    }
   ],
   "source": [
    "Get_Powers_freq10K(mechanical_signals[1])"
   ]
  },
  {
   "cell_type": "code",
   "execution_count": null,
   "metadata": {},
   "outputs": [],
   "source": [
    "#make into a set of columns of arrays of floats (rows:dim of data by columns: number of samples)\n",
    "X = "
   ]
  },
  {
   "cell_type": "code",
   "execution_count": null,
   "metadata": {},
   "outputs": [],
   "source": [
    "#use onehotbatch by providing it the labels (target value correct) and the range of targets it can take\n",
    "y = "
   ]
  },
  {
   "cell_type": "code",
   "execution_count": null,
   "metadata": {},
   "outputs": [],
   "source": [
    "#create your model eg: model = Chain(  Dense(28*28,40, relu), Dense(40, 10), softmax)\n",
    "model = "
   ]
  },
  {
   "cell_type": "code",
   "execution_count": null,
   "metadata": {},
   "outputs": [],
   "source": [
    "#define the loss function; eg: loss(X, y) = crossentropy(prediction value, target value) \n",
    "loss(X,y) =\n",
    "#set the optimization function\n",
    "opt = ADAM()"
   ]
  },
  {
   "cell_type": "code",
   "execution_count": null,
   "metadata": {},
   "outputs": [],
   "source": [
    "#just a print out macro for the loss function we made\n",
    "progress = () -> @show(loss(X, y))\n",
    "using Flux:@epochs\n",
    "@epochs 50 Flux.train!(loss, params(model),[(X,y)], opt, cb = throttle(progress, 10))"
   ]
  },
  {
   "cell_type": "code",
   "execution_count": null,
   "metadata": {},
   "outputs": [],
   "source": [
    "#test the model on a test signal\n"
   ]
  },
  {
   "cell_type": "code",
   "execution_count": null,
   "metadata": {},
   "outputs": [],
   "source": [
    "#use the test on a signal with function 'onecold' onecold( predicted_Y - 1)\n"
   ]
  },
  {
   "cell_type": "code",
   "execution_count": null,
   "metadata": {},
   "outputs": [],
   "source": [
    "#make the accuracy function: accuracy(X, y) = mean(onecold(model(test data)) .== onecold(target data))\n"
   ]
  },
  {
   "cell_type": "code",
   "execution_count": 81,
   "metadata": {},
   "outputs": [
    {
     "ename": "LoadError",
     "evalue": "\u001b[91mUndefVarError: accuracy not defined\u001b[39m",
     "output_type": "error",
     "traceback": [
      "\u001b[91mUndefVarError: accuracy not defined\u001b[39m",
      "",
      "Stacktrace:",
      " [1] top-level scope at In[81]:2",
      " [2] include_string(::Function, ::Module, ::String, ::String) at ./loading.jl:1091"
     ]
    }
   ],
   "source": [
    "#run the accuracy\n",
    "accuracy(X, y)"
   ]
  },
  {
   "cell_type": "code",
   "execution_count": null,
   "metadata": {},
   "outputs": [],
   "source": []
  },
  {
   "cell_type": "code",
   "execution_count": null,
   "metadata": {},
   "outputs": [],
   "source": []
  },
  {
   "cell_type": "code",
   "execution_count": null,
   "metadata": {},
   "outputs": [],
   "source": []
  }
 ],
 "metadata": {
  "kernelspec": {
   "display_name": "Julia 1.5.2",
   "language": "julia",
   "name": "julia-1.5"
  },
  "language_info": {
   "file_extension": ".jl",
   "mimetype": "application/julia",
   "name": "julia",
   "version": "1.5.2"
  }
 },
 "nbformat": 4,
 "nbformat_minor": 4
}
