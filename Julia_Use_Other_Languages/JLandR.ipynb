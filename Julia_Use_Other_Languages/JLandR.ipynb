{
 "cells": [
  {
   "cell_type": "code",
   "execution_count": null,
   "metadata": {},
   "outputs": [],
   "source": []
  },
  {
   "cell_type": "code",
   "execution_count": 2,
   "metadata": {},
   "outputs": [],
   "source": [
    "using Plots"
   ]
  },
  {
   "cell_type": "code",
   "execution_count": 3,
   "metadata": {},
   "outputs": [],
   "source": [
    "#import Pkg\n",
    "#Pkg.add(\"RCall\")\n",
    "using RCall"
   ]
  },
  {
   "cell_type": "code",
   "execution_count": null,
   "metadata": {},
   "outputs": [],
   "source": []
  },
  {
   "cell_type": "code",
   "execution_count": 4,
   "metadata": {},
   "outputs": [
    {
     "data": {
      "text/plain": [
       "RObject{RealSxp}\n",
       "[1] 127\n"
      ]
     },
     "execution_count": 4,
     "metadata": {},
     "output_type": "execute_result"
    }
   ],
   "source": [
    "#call R to perform some computation\n",
    "R\"sum(c(1,2,3,4,5,6,7,8,-9,100))\""
   ]
  },
  {
   "cell_type": "code",
   "execution_count": 6,
   "metadata": {},
   "outputs": [
    {
     "data": {
      "text/plain": [
       "RObject{RealSxp}\n",
       " [1]  0.3734395  1.1175959  0.3818067  1.2621841  0.3883138 -1.3105999\n",
       " [7] -1.1116290 -0.7026082 -1.0583132 -1.4338364\n"
      ]
     },
     "execution_count": 6,
     "metadata": {},
     "output_type": "execute_result"
    }
   ],
   "source": [
    "R\"rnorm(10)\""
   ]
  },
  {
   "cell_type": "code",
   "execution_count": 7,
   "metadata": {},
   "outputs": [
    {
     "data": {
      "text/plain": [
       "RObject{RealSxp}\n",
       "[1] -0.06897292\n"
      ]
     },
     "execution_count": 7,
     "metadata": {},
     "output_type": "execute_result"
    }
   ],
   "source": [
    "R\"mean(rnorm(100))\""
   ]
  },
  {
   "cell_type": "code",
   "execution_count": 8,
   "metadata": {},
   "outputs": [
    {
     "data": {
      "text/plain": [
       "RObject{VecSxp}\n",
       "\n",
       "\tWelch Two Sample t-test\n",
       "\n",
       "data:  rnorm(10, 0, 2) and rnorm(10, 1, 2)\n",
       "t = 0.61145, df = 17.991, p-value = 0.5486\n",
       "alternative hypothesis: true difference in means is not equal to 0\n",
       "95 percent confidence interval:\n",
       " -1.341050  2.442037\n",
       "sample estimates:\n",
       "  mean of x   mean of y \n",
       " 0.53249760 -0.01799573 \n",
       "\n"
      ]
     },
     "execution_count": 8,
     "metadata": {},
     "output_type": "execute_result"
    }
   ],
   "source": [
    "#use R to perform a t-test\n",
    "R\"t.test(rnorm(10,0,2),rnorm(10,1,2))\""
   ]
  },
  {
   "cell_type": "code",
   "execution_count": 9,
   "metadata": {},
   "outputs": [
    {
     "data": {
      "text/plain": [
       "RObject{VecSxp}\n",
       "\n",
       "\tWelch Two Sample t-test\n",
       "\n",
       "data:  `#JL`$r1 and `#JL`$r2\n",
       "t = -1.0901, df = 13.211, p-value = 0.2951\n",
       "alternative hypothesis: true difference in means is not equal to 0\n",
       "95 percent confidence interval:\n",
       " -2.6811127  0.8808352\n",
       "sample estimates:\n",
       "mean of x mean of y \n",
       "0.1508488 1.0509875 \n",
       "\n"
      ]
     },
     "execution_count": 9,
     "metadata": {},
     "output_type": "execute_result"
    }
   ],
   "source": [
    "#use R to perform a t-test using data from Julia\n",
    "using Random, Distributions\n",
    "d1 = Normal(0,2)\n",
    "d2 = Normal(1,2)\n",
    "r1 = rand(d1,10)\n",
    "r2 = rand(d2,10)\n",
    "R\"t.test($r1,$r2)\""
   ]
  },
  {
   "cell_type": "code",
   "execution_count": 10,
   "metadata": {},
   "outputs": [
    {
     "data": {
      "text/plain": [
       "RObject{RealSxp}\n",
       "[1] 0.2\n"
      ]
     },
     "execution_count": 10,
     "metadata": {},
     "output_type": "execute_result"
    }
   ],
   "source": [
    "#pass a function\n",
    "f1(x,y) = x/(y+5)\n",
    "R\"$f1(2,5)\""
   ]
  },
  {
   "cell_type": "code",
   "execution_count": 29,
   "metadata": {},
   "outputs": [
    {
     "name": "stdout",
     "output_type": "stream",
     "text": [
      "OrderedCollections.OrderedDict{Symbol, Any}(:statistic => -9.370442843268794, :parameter => 16.81255996015915, :p_value => 4.385708308211815e-8, :conf_int => [-13.00208400190803, -8.219782721570542], :estimate => [-9.557188278755484, 1.053745082983802], :null_value => 0.0, :stderr => 1.1323833397438192, :alternative => \"two.sided\", :method => \"Welch Two Sample t-test\", :data_name => \"r1b and `#JL`\\$r2\")\n",
      "4.385708308211815e-8\n",
      "4.385708308211815e-8\n"
     ]
    }
   ],
   "source": [
    "#use multiline statements in R, and then extract a variable from R's environment to copy it into Julia\n",
    "R\"\"\"\n",
    "r1b = $r1 - 10\n",
    "xx = t.test(r1b,$r2)\n",
    "\"\"\"\n",
    "xx = rcopy(R\"xx\")\n",
    "println(xx)\n",
    "println(xx[:p_value])\n",
    "println(xx[Symbol(\"p_value\")])"
   ]
  },
  {
   "cell_type": "code",
   "execution_count": 30,
   "metadata": {},
   "outputs": [
    {
     "name": "stdout",
     "output_type": "stream",
     "text": [
      "Dict(\"c\" => 3, \"b\" => 2, \"a\" => 1)\n",
      "RObject{VecSxp}\n",
      "$c\n",
      "[1] 3\n",
      "\n",
      "$b\n",
      "[1] 2\n",
      "\n",
      "$a\n",
      "[1] 1\n",
      "\n",
      "\n"
     ]
    },
    {
     "data": {
      "text/plain": [
       "RObject{StrSxp}\n",
       "[1] \"list\"\n"
      ]
     },
     "execution_count": 30,
     "metadata": {},
     "output_type": "execute_result"
    }
   ],
   "source": [
    "#'robject' function converts, changes, a julia 'object' to an RObject for R to use\n",
    "dd1 = Dict(\"a\"=>1,\"b\"=>2,\"c\"=>3)\n",
    "println(dd1)\n",
    "dd1r = robject(dd1)\n",
    "println(dd1r)\n",
    "R\"typeof($dd1r)\""
   ]
  },
  {
   "cell_type": "code",
   "execution_count": 11,
   "metadata": {},
   "outputs": [],
   "source": [
    "#import R functions direct into Julia\n",
    "@rimport base as Rbase"
   ]
  },
  {
   "cell_type": "code",
   "execution_count": 13,
   "metadata": {},
   "outputs": [
    {
     "data": {
      "text/plain": [
       "RObject{IntSxp}\n",
       "[1]   1   2   3 100\n"
      ]
     },
     "execution_count": 13,
     "metadata": {},
     "output_type": "execute_result"
    }
   ],
   "source": [
    "Rbase.c(1,2,3,100)"
   ]
  },
  {
   "cell_type": "code",
   "execution_count": 15,
   "metadata": {},
   "outputs": [
    {
     "data": {
      "text/plain": [
       "RObject{IntSxp}\n",
       "[1] 816\n"
      ]
     },
     "execution_count": 15,
     "metadata": {},
     "output_type": "execute_result"
    }
   ],
   "source": [
    "Rbase.sum(Rbase.c(1,2,3,810))"
   ]
  },
  {
   "cell_type": "code",
   "execution_count": 16,
   "metadata": {},
   "outputs": [
    {
     "data": {
      "text/plain": [
       "RObject{StrSxp}\n",
       "[1] \"PlantGrowth\"\n"
      ]
     },
     "execution_count": 16,
     "metadata": {},
     "output_type": "execute_result"
    }
   ],
   "source": [
    "R\"data(\\\"PlantGrowth\\\")\""
   ]
  },
  {
   "cell_type": "code",
   "execution_count": 17,
   "metadata": {},
   "outputs": [
    {
     "data": {
      "text/html": [
       "<div><div style = \"float: left;\"><span>6×2 DataFrame</span></div><div style = \"clear: both;\"></div></div><div class = \"data-frame\" style = \"overflow-x: scroll;\"><table class = \"data-frame\" style = \"margin-bottom: 6px;\"><thead><tr class = \"header\"><th class = \"rowNumber\" style = \"font-weight: bold; text-align: right;\">Row</th><th style = \"text-align: left;\">weight</th><th style = \"text-align: left;\">group</th></tr><tr class = \"subheader headerLastRow\"><th class = \"rowNumber\" style = \"font-weight: bold; text-align: right;\"></th><th title = \"Float64\" style = \"text-align: left;\">Float64</th><th title = \"CategoricalArrays.CategoricalValue{String, UInt32}\" style = \"text-align: left;\">Cat…</th></tr></thead><tbody><tr><td class = \"rowNumber\" style = \"font-weight: bold; text-align: right;\">1</td><td style = \"text-align: right;\">4.17</td><td style = \"text-align: left;\">ctrl</td></tr><tr><td class = \"rowNumber\" style = \"font-weight: bold; text-align: right;\">2</td><td style = \"text-align: right;\">5.58</td><td style = \"text-align: left;\">ctrl</td></tr><tr><td class = \"rowNumber\" style = \"font-weight: bold; text-align: right;\">3</td><td style = \"text-align: right;\">5.18</td><td style = \"text-align: left;\">ctrl</td></tr><tr><td class = \"rowNumber\" style = \"font-weight: bold; text-align: right;\">4</td><td style = \"text-align: right;\">6.11</td><td style = \"text-align: left;\">ctrl</td></tr><tr><td class = \"rowNumber\" style = \"font-weight: bold; text-align: right;\">5</td><td style = \"text-align: right;\">4.5</td><td style = \"text-align: left;\">ctrl</td></tr><tr><td class = \"rowNumber\" style = \"font-weight: bold; text-align: right;\">6</td><td style = \"text-align: right;\">4.61</td><td style = \"text-align: left;\">ctrl</td></tr></tbody></table></div>"
      ],
      "text/latex": [
       "\\begin{tabular}{r|cc}\n",
       "\t& weight & group\\\\\n",
       "\t\\hline\n",
       "\t& Float64 & Cat…\\\\\n",
       "\t\\hline\n",
       "\t1 & 4.17 & ctrl \\\\\n",
       "\t2 & 5.58 & ctrl \\\\\n",
       "\t3 & 5.18 & ctrl \\\\\n",
       "\t4 & 6.11 & ctrl \\\\\n",
       "\t5 & 4.5 & ctrl \\\\\n",
       "\t6 & 4.61 & ctrl \\\\\n",
       "\\end{tabular}\n"
      ],
      "text/plain": [
       "\u001b[1m6×2 DataFrame\u001b[0m\n",
       "\u001b[1m Row \u001b[0m│\u001b[1m weight  \u001b[0m\u001b[1m group \u001b[0m\n",
       "     │\u001b[90m Float64 \u001b[0m\u001b[90m Cat…  \u001b[0m\n",
       "─────┼────────────────\n",
       "   1 │    4.17  ctrl\n",
       "   2 │    5.58  ctrl\n",
       "   3 │    5.18  ctrl\n",
       "   4 │    6.11  ctrl\n",
       "   5 │    4.5   ctrl\n",
       "   6 │    4.61  ctrl"
      ]
     },
     "execution_count": 17,
     "metadata": {},
     "output_type": "execute_result"
    }
   ],
   "source": [
    "rcopy(R\"head(PlantGrowth)\")"
   ]
  },
  {
   "cell_type": "code",
   "execution_count": 18,
   "metadata": {},
   "outputs": [
    {
     "data": {
      "text/html": [
       "<div><div style = \"float: left;\"><span>30×2 DataFrame</span></div><div style = \"float: right;\"><span style = \"font-style: italic;\">5 rows omitted</span></div><div style = \"clear: both;\"></div></div><div class = \"data-frame\" style = \"overflow-x: scroll;\"><table class = \"data-frame\" style = \"margin-bottom: 6px;\"><thead><tr class = \"header\"><th class = \"rowNumber\" style = \"font-weight: bold; text-align: right;\">Row</th><th style = \"text-align: left;\">weight</th><th style = \"text-align: left;\">group</th></tr><tr class = \"subheader headerLastRow\"><th class = \"rowNumber\" style = \"font-weight: bold; text-align: right;\"></th><th title = \"Float64\" style = \"text-align: left;\">Float64</th><th title = \"CategoricalArrays.CategoricalValue{String, UInt32}\" style = \"text-align: left;\">Cat…</th></tr></thead><tbody><tr><td class = \"rowNumber\" style = \"font-weight: bold; text-align: right;\">1</td><td style = \"text-align: right;\">4.17</td><td style = \"text-align: left;\">ctrl</td></tr><tr><td class = \"rowNumber\" style = \"font-weight: bold; text-align: right;\">2</td><td style = \"text-align: right;\">5.58</td><td style = \"text-align: left;\">ctrl</td></tr><tr><td class = \"rowNumber\" style = \"font-weight: bold; text-align: right;\">3</td><td style = \"text-align: right;\">5.18</td><td style = \"text-align: left;\">ctrl</td></tr><tr><td class = \"rowNumber\" style = \"font-weight: bold; text-align: right;\">4</td><td style = \"text-align: right;\">6.11</td><td style = \"text-align: left;\">ctrl</td></tr><tr><td class = \"rowNumber\" style = \"font-weight: bold; text-align: right;\">5</td><td style = \"text-align: right;\">4.5</td><td style = \"text-align: left;\">ctrl</td></tr><tr><td class = \"rowNumber\" style = \"font-weight: bold; text-align: right;\">6</td><td style = \"text-align: right;\">4.61</td><td style = \"text-align: left;\">ctrl</td></tr><tr><td class = \"rowNumber\" style = \"font-weight: bold; text-align: right;\">7</td><td style = \"text-align: right;\">5.17</td><td style = \"text-align: left;\">ctrl</td></tr><tr><td class = \"rowNumber\" style = \"font-weight: bold; text-align: right;\">8</td><td style = \"text-align: right;\">4.53</td><td style = \"text-align: left;\">ctrl</td></tr><tr><td class = \"rowNumber\" style = \"font-weight: bold; text-align: right;\">9</td><td style = \"text-align: right;\">5.33</td><td style = \"text-align: left;\">ctrl</td></tr><tr><td class = \"rowNumber\" style = \"font-weight: bold; text-align: right;\">10</td><td style = \"text-align: right;\">5.14</td><td style = \"text-align: left;\">ctrl</td></tr><tr><td class = \"rowNumber\" style = \"font-weight: bold; text-align: right;\">11</td><td style = \"text-align: right;\">4.81</td><td style = \"text-align: left;\">trt1</td></tr><tr><td class = \"rowNumber\" style = \"font-weight: bold; text-align: right;\">12</td><td style = \"text-align: right;\">4.17</td><td style = \"text-align: left;\">trt1</td></tr><tr><td class = \"rowNumber\" style = \"font-weight: bold; text-align: right;\">13</td><td style = \"text-align: right;\">4.41</td><td style = \"text-align: left;\">trt1</td></tr><tr><td style = \"text-align: right;\">&vellip;</td><td style = \"text-align: right;\">&vellip;</td><td style = \"text-align: right;\">&vellip;</td></tr><tr><td class = \"rowNumber\" style = \"font-weight: bold; text-align: right;\">19</td><td style = \"text-align: right;\">4.32</td><td style = \"text-align: left;\">trt1</td></tr><tr><td class = \"rowNumber\" style = \"font-weight: bold; text-align: right;\">20</td><td style = \"text-align: right;\">4.69</td><td style = \"text-align: left;\">trt1</td></tr><tr><td class = \"rowNumber\" style = \"font-weight: bold; text-align: right;\">21</td><td style = \"text-align: right;\">6.31</td><td style = \"text-align: left;\">trt2</td></tr><tr><td class = \"rowNumber\" style = \"font-weight: bold; text-align: right;\">22</td><td style = \"text-align: right;\">5.12</td><td style = \"text-align: left;\">trt2</td></tr><tr><td class = \"rowNumber\" style = \"font-weight: bold; text-align: right;\">23</td><td style = \"text-align: right;\">5.54</td><td style = \"text-align: left;\">trt2</td></tr><tr><td class = \"rowNumber\" style = \"font-weight: bold; text-align: right;\">24</td><td style = \"text-align: right;\">5.5</td><td style = \"text-align: left;\">trt2</td></tr><tr><td class = \"rowNumber\" style = \"font-weight: bold; text-align: right;\">25</td><td style = \"text-align: right;\">5.37</td><td style = \"text-align: left;\">trt2</td></tr><tr><td class = \"rowNumber\" style = \"font-weight: bold; text-align: right;\">26</td><td style = \"text-align: right;\">5.29</td><td style = \"text-align: left;\">trt2</td></tr><tr><td class = \"rowNumber\" style = \"font-weight: bold; text-align: right;\">27</td><td style = \"text-align: right;\">4.92</td><td style = \"text-align: left;\">trt2</td></tr><tr><td class = \"rowNumber\" style = \"font-weight: bold; text-align: right;\">28</td><td style = \"text-align: right;\">6.15</td><td style = \"text-align: left;\">trt2</td></tr><tr><td class = \"rowNumber\" style = \"font-weight: bold; text-align: right;\">29</td><td style = \"text-align: right;\">5.8</td><td style = \"text-align: left;\">trt2</td></tr><tr><td class = \"rowNumber\" style = \"font-weight: bold; text-align: right;\">30</td><td style = \"text-align: right;\">5.26</td><td style = \"text-align: left;\">trt2</td></tr></tbody></table></div>"
      ],
      "text/latex": [
       "\\begin{tabular}{r|cc}\n",
       "\t& weight & group\\\\\n",
       "\t\\hline\n",
       "\t& Float64 & Cat…\\\\\n",
       "\t\\hline\n",
       "\t1 & 4.17 & ctrl \\\\\n",
       "\t2 & 5.58 & ctrl \\\\\n",
       "\t3 & 5.18 & ctrl \\\\\n",
       "\t4 & 6.11 & ctrl \\\\\n",
       "\t5 & 4.5 & ctrl \\\\\n",
       "\t6 & 4.61 & ctrl \\\\\n",
       "\t7 & 5.17 & ctrl \\\\\n",
       "\t8 & 4.53 & ctrl \\\\\n",
       "\t9 & 5.33 & ctrl \\\\\n",
       "\t10 & 5.14 & ctrl \\\\\n",
       "\t11 & 4.81 & trt1 \\\\\n",
       "\t12 & 4.17 & trt1 \\\\\n",
       "\t13 & 4.41 & trt1 \\\\\n",
       "\t14 & 3.59 & trt1 \\\\\n",
       "\t15 & 5.87 & trt1 \\\\\n",
       "\t16 & 3.83 & trt1 \\\\\n",
       "\t17 & 6.03 & trt1 \\\\\n",
       "\t18 & 4.89 & trt1 \\\\\n",
       "\t19 & 4.32 & trt1 \\\\\n",
       "\t20 & 4.69 & trt1 \\\\\n",
       "\t21 & 6.31 & trt2 \\\\\n",
       "\t22 & 5.12 & trt2 \\\\\n",
       "\t23 & 5.54 & trt2 \\\\\n",
       "\t24 & 5.5 & trt2 \\\\\n",
       "\t25 & 5.37 & trt2 \\\\\n",
       "\t26 & 5.29 & trt2 \\\\\n",
       "\t27 & 4.92 & trt2 \\\\\n",
       "\t28 & 6.15 & trt2 \\\\\n",
       "\t29 & 5.8 & trt2 \\\\\n",
       "\t30 & 5.26 & trt2 \\\\\n",
       "\\end{tabular}\n"
      ],
      "text/plain": [
       "\u001b[1m30×2 DataFrame\u001b[0m\n",
       "\u001b[1m Row \u001b[0m│\u001b[1m weight  \u001b[0m\u001b[1m group \u001b[0m\n",
       "     │\u001b[90m Float64 \u001b[0m\u001b[90m Cat…  \u001b[0m\n",
       "─────┼────────────────\n",
       "   1 │    4.17  ctrl\n",
       "   2 │    5.58  ctrl\n",
       "   3 │    5.18  ctrl\n",
       "   4 │    6.11  ctrl\n",
       "   5 │    4.5   ctrl\n",
       "   6 │    4.61  ctrl\n",
       "   7 │    5.17  ctrl\n",
       "   8 │    4.53  ctrl\n",
       "   9 │    5.33  ctrl\n",
       "  10 │    5.14  ctrl\n",
       "  11 │    4.81  trt1\n",
       "  ⋮  │    ⋮       ⋮\n",
       "  21 │    6.31  trt2\n",
       "  22 │    5.12  trt2\n",
       "  23 │    5.54  trt2\n",
       "  24 │    5.5   trt2\n",
       "  25 │    5.37  trt2\n",
       "  26 │    5.29  trt2\n",
       "  27 │    4.92  trt2\n",
       "  28 │    6.15  trt2\n",
       "  29 │    5.8   trt2\n",
       "  30 │    5.26  trt2\n",
       "\u001b[36m        9 rows omitted\u001b[0m"
      ]
     },
     "execution_count": 18,
     "metadata": {},
     "output_type": "execute_result"
    }
   ],
   "source": [
    "pg = rcopy(R\"PlantGrowth\")"
   ]
  },
  {
   "cell_type": "code",
   "execution_count": 17,
   "metadata": {},
   "outputs": [
    {
     "data": {
      "text/html": [
       "<div><div style = \"float: left;\"><span>30×2 DataFrame</span></div><div style = \"float: right;\"><span style = \"font-style: italic;\">5 rows omitted</span></div><div style = \"clear: both;\"></div></div><div class = \"data-frame\" style = \"overflow-x: scroll;\"><table class = \"data-frame\" style = \"margin-bottom: 6px;\"><thead><tr class = \"header\"><th class = \"rowNumber\" style = \"font-weight: bold; text-align: right;\">Row</th><th style = \"text-align: left;\">weight</th><th style = \"text-align: left;\">group</th></tr><tr class = \"subheader headerLastRow\"><th class = \"rowNumber\" style = \"font-weight: bold; text-align: right;\"></th><th title = \"Float64\" style = \"text-align: left;\">Float64</th><th title = \"CategoricalArrays.CategoricalValue{String, UInt32}\" style = \"text-align: left;\">Cat…</th></tr></thead><tbody><tr><td class = \"rowNumber\" style = \"font-weight: bold; text-align: right;\">1</td><td style = \"text-align: right;\">4.17</td><td style = \"text-align: left;\">ctrl</td></tr><tr><td class = \"rowNumber\" style = \"font-weight: bold; text-align: right;\">2</td><td style = \"text-align: right;\">5.58</td><td style = \"text-align: left;\">ctrl</td></tr><tr><td class = \"rowNumber\" style = \"font-weight: bold; text-align: right;\">3</td><td style = \"text-align: right;\">5.18</td><td style = \"text-align: left;\">ctrl</td></tr><tr><td class = \"rowNumber\" style = \"font-weight: bold; text-align: right;\">4</td><td style = \"text-align: right;\">6.11</td><td style = \"text-align: left;\">ctrl</td></tr><tr><td class = \"rowNumber\" style = \"font-weight: bold; text-align: right;\">5</td><td style = \"text-align: right;\">4.5</td><td style = \"text-align: left;\">ctrl</td></tr><tr><td class = \"rowNumber\" style = \"font-weight: bold; text-align: right;\">6</td><td style = \"text-align: right;\">4.61</td><td style = \"text-align: left;\">ctrl</td></tr><tr><td class = \"rowNumber\" style = \"font-weight: bold; text-align: right;\">7</td><td style = \"text-align: right;\">5.17</td><td style = \"text-align: left;\">ctrl</td></tr><tr><td class = \"rowNumber\" style = \"font-weight: bold; text-align: right;\">8</td><td style = \"text-align: right;\">4.53</td><td style = \"text-align: left;\">ctrl</td></tr><tr><td class = \"rowNumber\" style = \"font-weight: bold; text-align: right;\">9</td><td style = \"text-align: right;\">5.33</td><td style = \"text-align: left;\">ctrl</td></tr><tr><td class = \"rowNumber\" style = \"font-weight: bold; text-align: right;\">10</td><td style = \"text-align: right;\">5.14</td><td style = \"text-align: left;\">ctrl</td></tr><tr><td class = \"rowNumber\" style = \"font-weight: bold; text-align: right;\">11</td><td style = \"text-align: right;\">4.81</td><td style = \"text-align: left;\">trt1</td></tr><tr><td class = \"rowNumber\" style = \"font-weight: bold; text-align: right;\">12</td><td style = \"text-align: right;\">4.17</td><td style = \"text-align: left;\">trt1</td></tr><tr><td class = \"rowNumber\" style = \"font-weight: bold; text-align: right;\">13</td><td style = \"text-align: right;\">4.41</td><td style = \"text-align: left;\">trt1</td></tr><tr><td style = \"text-align: right;\">&vellip;</td><td style = \"text-align: right;\">&vellip;</td><td style = \"text-align: right;\">&vellip;</td></tr><tr><td class = \"rowNumber\" style = \"font-weight: bold; text-align: right;\">19</td><td style = \"text-align: right;\">4.32</td><td style = \"text-align: left;\">trt1</td></tr><tr><td class = \"rowNumber\" style = \"font-weight: bold; text-align: right;\">20</td><td style = \"text-align: right;\">4.69</td><td style = \"text-align: left;\">trt1</td></tr><tr><td class = \"rowNumber\" style = \"font-weight: bold; text-align: right;\">21</td><td style = \"text-align: right;\">6.31</td><td style = \"text-align: left;\">trt2</td></tr><tr><td class = \"rowNumber\" style = \"font-weight: bold; text-align: right;\">22</td><td style = \"text-align: right;\">5.12</td><td style = \"text-align: left;\">trt2</td></tr><tr><td class = \"rowNumber\" style = \"font-weight: bold; text-align: right;\">23</td><td style = \"text-align: right;\">5.54</td><td style = \"text-align: left;\">trt2</td></tr><tr><td class = \"rowNumber\" style = \"font-weight: bold; text-align: right;\">24</td><td style = \"text-align: right;\">5.5</td><td style = \"text-align: left;\">trt2</td></tr><tr><td class = \"rowNumber\" style = \"font-weight: bold; text-align: right;\">25</td><td style = \"text-align: right;\">5.37</td><td style = \"text-align: left;\">trt2</td></tr><tr><td class = \"rowNumber\" style = \"font-weight: bold; text-align: right;\">26</td><td style = \"text-align: right;\">5.29</td><td style = \"text-align: left;\">trt2</td></tr><tr><td class = \"rowNumber\" style = \"font-weight: bold; text-align: right;\">27</td><td style = \"text-align: right;\">4.92</td><td style = \"text-align: left;\">trt2</td></tr><tr><td class = \"rowNumber\" style = \"font-weight: bold; text-align: right;\">28</td><td style = \"text-align: right;\">6.15</td><td style = \"text-align: left;\">trt2</td></tr><tr><td class = \"rowNumber\" style = \"font-weight: bold; text-align: right;\">29</td><td style = \"text-align: right;\">5.8</td><td style = \"text-align: left;\">trt2</td></tr><tr><td class = \"rowNumber\" style = \"font-weight: bold; text-align: right;\">30</td><td style = \"text-align: right;\">5.26</td><td style = \"text-align: left;\">trt2</td></tr></tbody></table></div>"
      ],
      "text/latex": [
       "\\begin{tabular}{r|cc}\n",
       "\t& weight & group\\\\\n",
       "\t\\hline\n",
       "\t& Float64 & Cat…\\\\\n",
       "\t\\hline\n",
       "\t1 & 4.17 & ctrl \\\\\n",
       "\t2 & 5.58 & ctrl \\\\\n",
       "\t3 & 5.18 & ctrl \\\\\n",
       "\t4 & 6.11 & ctrl \\\\\n",
       "\t5 & 4.5 & ctrl \\\\\n",
       "\t6 & 4.61 & ctrl \\\\\n",
       "\t7 & 5.17 & ctrl \\\\\n",
       "\t8 & 4.53 & ctrl \\\\\n",
       "\t9 & 5.33 & ctrl \\\\\n",
       "\t10 & 5.14 & ctrl \\\\\n",
       "\t11 & 4.81 & trt1 \\\\\n",
       "\t12 & 4.17 & trt1 \\\\\n",
       "\t13 & 4.41 & trt1 \\\\\n",
       "\t14 & 3.59 & trt1 \\\\\n",
       "\t15 & 5.87 & trt1 \\\\\n",
       "\t16 & 3.83 & trt1 \\\\\n",
       "\t17 & 6.03 & trt1 \\\\\n",
       "\t18 & 4.89 & trt1 \\\\\n",
       "\t19 & 4.32 & trt1 \\\\\n",
       "\t20 & 4.69 & trt1 \\\\\n",
       "\t21 & 6.31 & trt2 \\\\\n",
       "\t22 & 5.12 & trt2 \\\\\n",
       "\t23 & 5.54 & trt2 \\\\\n",
       "\t24 & 5.5 & trt2 \\\\\n",
       "\t25 & 5.37 & trt2 \\\\\n",
       "\t26 & 5.29 & trt2 \\\\\n",
       "\t27 & 4.92 & trt2 \\\\\n",
       "\t28 & 6.15 & trt2 \\\\\n",
       "\t29 & 5.8 & trt2 \\\\\n",
       "\t30 & 5.26 & trt2 \\\\\n",
       "\\end{tabular}\n"
      ],
      "text/plain": [
       "\u001b[1m30×2 DataFrame\u001b[0m\n",
       "\u001b[1m Row \u001b[0m│\u001b[1m weight  \u001b[0m\u001b[1m group \u001b[0m\n",
       "     │\u001b[90m Float64 \u001b[0m\u001b[90m Cat…  \u001b[0m\n",
       "─────┼────────────────\n",
       "   1 │    4.17  ctrl\n",
       "   2 │    5.58  ctrl\n",
       "   3 │    5.18  ctrl\n",
       "   4 │    6.11  ctrl\n",
       "   5 │    4.5   ctrl\n",
       "   6 │    4.61  ctrl\n",
       "   7 │    5.17  ctrl\n",
       "   8 │    4.53  ctrl\n",
       "   9 │    5.33  ctrl\n",
       "  10 │    5.14  ctrl\n",
       "  11 │    4.81  trt1\n",
       "  ⋮  │    ⋮       ⋮\n",
       "  21 │    6.31  trt2\n",
       "  22 │    5.12  trt2\n",
       "  23 │    5.54  trt2\n",
       "  24 │    5.5   trt2\n",
       "  25 │    5.37  trt2\n",
       "  26 │    5.29  trt2\n",
       "  27 │    4.92  trt2\n",
       "  28 │    6.15  trt2\n",
       "  29 │    5.8   trt2\n",
       "  30 │    5.26  trt2\n",
       "\u001b[36m        9 rows omitted\u001b[0m"
      ]
     },
     "execution_count": 17,
     "metadata": {},
     "output_type": "execute_result"
    }
   ],
   "source": [
    "pg"
   ]
  },
  {
   "cell_type": "code",
   "execution_count": 42,
   "metadata": {},
   "outputs": [
    {
     "data": {
      "image/svg+xml": [
       "<?xml version=\"1.0\" encoding=\"utf-8\"?>\n",
       "<svg xmlns=\"http://www.w3.org/2000/svg\" xmlns:xlink=\"http://www.w3.org/1999/xlink\" width=\"600\" height=\"400\" viewBox=\"0 0 2400 1600\">\n",
       "<defs>\n",
       "  <clipPath id=\"clip690\">\n",
       "    <rect x=\"0\" y=\"0\" width=\"2400\" height=\"1600\"/>\n",
       "  </clipPath>\n",
       "</defs>\n",
       "<path clip-path=\"url(#clip690)\" d=\"M0 1600 L2400 1600 L2400 0 L0 0  Z\" fill=\"#ffffff\" fill-rule=\"evenodd\" fill-opacity=\"1\"/>\n",
       "<defs>\n",
       "  <clipPath id=\"clip691\">\n",
       "    <rect x=\"480\" y=\"0\" width=\"1681\" height=\"1600\"/>\n",
       "  </clipPath>\n",
       "</defs>\n",
       "<path clip-path=\"url(#clip690)\" d=\"M112.177 1486.45 L2352.76 1486.45 L2352.76 47.2441 L112.177 47.2441  Z\" fill=\"#ffffff\" fill-rule=\"evenodd\" fill-opacity=\"1\"/>\n",
       "<defs>\n",
       "  <clipPath id=\"clip692\">\n",
       "    <rect x=\"112\" y=\"47\" width=\"2242\" height=\"1440\"/>\n",
       "  </clipPath>\n",
       "</defs>\n",
       "<polyline clip-path=\"url(#clip692)\" style=\"stroke:#000000; stroke-linecap:round; stroke-linejoin:round; stroke-width:2; stroke-opacity:0.1; fill:none\" points=\"235.413,1486.45 235.413,47.2441 \"/>\n",
       "<polyline clip-path=\"url(#clip692)\" style=\"stroke:#000000; stroke-linecap:round; stroke-linejoin:round; stroke-width:2; stroke-opacity:0.1; fill:none\" points=\"567.764,1486.45 567.764,47.2441 \"/>\n",
       "<polyline clip-path=\"url(#clip692)\" style=\"stroke:#000000; stroke-linecap:round; stroke-linejoin:round; stroke-width:2; stroke-opacity:0.1; fill:none\" points=\"900.115,1486.45 900.115,47.2441 \"/>\n",
       "<polyline clip-path=\"url(#clip692)\" style=\"stroke:#000000; stroke-linecap:round; stroke-linejoin:round; stroke-width:2; stroke-opacity:0.1; fill:none\" points=\"1232.47,1486.45 1232.47,47.2441 \"/>\n",
       "<polyline clip-path=\"url(#clip692)\" style=\"stroke:#000000; stroke-linecap:round; stroke-linejoin:round; stroke-width:2; stroke-opacity:0.1; fill:none\" points=\"1564.82,1486.45 1564.82,47.2441 \"/>\n",
       "<polyline clip-path=\"url(#clip692)\" style=\"stroke:#000000; stroke-linecap:round; stroke-linejoin:round; stroke-width:2; stroke-opacity:0.1; fill:none\" points=\"1897.17,1486.45 1897.17,47.2441 \"/>\n",
       "<polyline clip-path=\"url(#clip692)\" style=\"stroke:#000000; stroke-linecap:round; stroke-linejoin:round; stroke-width:2; stroke-opacity:0.1; fill:none\" points=\"2229.52,1486.45 2229.52,47.2441 \"/>\n",
       "<polyline clip-path=\"url(#clip690)\" style=\"stroke:#000000; stroke-linecap:round; stroke-linejoin:round; stroke-width:4; stroke-opacity:1; fill:none\" points=\"112.177,1486.45 2352.76,1486.45 \"/>\n",
       "<polyline clip-path=\"url(#clip690)\" style=\"stroke:#000000; stroke-linecap:round; stroke-linejoin:round; stroke-width:4; stroke-opacity:1; fill:none\" points=\"235.413,1486.45 235.413,1467.55 \"/>\n",
       "<polyline clip-path=\"url(#clip690)\" style=\"stroke:#000000; stroke-linecap:round; stroke-linejoin:round; stroke-width:4; stroke-opacity:1; fill:none\" points=\"567.764,1486.45 567.764,1467.55 \"/>\n",
       "<polyline clip-path=\"url(#clip690)\" style=\"stroke:#000000; stroke-linecap:round; stroke-linejoin:round; stroke-width:4; stroke-opacity:1; fill:none\" points=\"900.115,1486.45 900.115,1467.55 \"/>\n",
       "<polyline clip-path=\"url(#clip690)\" style=\"stroke:#000000; stroke-linecap:round; stroke-linejoin:round; stroke-width:4; stroke-opacity:1; fill:none\" points=\"1232.47,1486.45 1232.47,1467.55 \"/>\n",
       "<polyline clip-path=\"url(#clip690)\" style=\"stroke:#000000; stroke-linecap:round; stroke-linejoin:round; stroke-width:4; stroke-opacity:1; fill:none\" points=\"1564.82,1486.45 1564.82,1467.55 \"/>\n",
       "<polyline clip-path=\"url(#clip690)\" style=\"stroke:#000000; stroke-linecap:round; stroke-linejoin:round; stroke-width:4; stroke-opacity:1; fill:none\" points=\"1897.17,1486.45 1897.17,1467.55 \"/>\n",
       "<polyline clip-path=\"url(#clip690)\" style=\"stroke:#000000; stroke-linecap:round; stroke-linejoin:round; stroke-width:4; stroke-opacity:1; fill:none\" points=\"2229.52,1486.45 2229.52,1467.55 \"/>\n",
       "<path clip-path=\"url(#clip690)\" d=\"M217.219 1530.21 Q220.575 1530.93 222.45 1533.2 Q224.348 1535.47 224.348 1538.8 Q224.348 1543.92 220.83 1546.72 Q217.311 1549.52 210.83 1549.52 Q208.654 1549.52 206.339 1549.08 Q204.047 1548.66 201.594 1547.81 L201.594 1543.29 Q203.538 1544.43 205.853 1545.01 Q208.168 1545.58 210.691 1545.58 Q215.089 1545.58 217.381 1543.85 Q219.695 1542.11 219.695 1538.8 Q219.695 1535.75 217.543 1534.03 Q215.413 1532.3 211.594 1532.3 L207.566 1532.3 L207.566 1528.45 L211.779 1528.45 Q215.228 1528.45 217.057 1527.09 Q218.885 1525.7 218.885 1523.11 Q218.885 1520.45 216.987 1519.03 Q215.112 1517.6 211.594 1517.6 Q209.672 1517.6 207.473 1518.01 Q205.274 1518.43 202.635 1519.31 L202.635 1515.14 Q205.297 1514.4 207.612 1514.03 Q209.95 1513.66 212.01 1513.66 Q217.334 1513.66 220.436 1516.09 Q223.538 1518.5 223.538 1522.62 Q223.538 1525.49 221.895 1527.48 Q220.251 1529.45 217.219 1530.21 Z\" fill=\"#000000\" fill-rule=\"nonzero\" fill-opacity=\"1\" /><path clip-path=\"url(#clip690)\" d=\"M233.214 1542.97 L238.098 1542.97 L238.098 1548.85 L233.214 1548.85 L233.214 1542.97 Z\" fill=\"#000000\" fill-rule=\"nonzero\" fill-opacity=\"1\" /><path clip-path=\"url(#clip690)\" d=\"M248.33 1514.29 L266.686 1514.29 L266.686 1518.22 L252.612 1518.22 L252.612 1526.7 Q253.63 1526.35 254.649 1526.19 Q255.668 1526 256.686 1526 Q262.473 1526 265.853 1529.17 Q269.232 1532.34 269.232 1537.76 Q269.232 1543.34 265.76 1546.44 Q262.288 1549.52 255.968 1549.52 Q253.793 1549.52 251.524 1549.15 Q249.279 1548.78 246.871 1548.04 L246.871 1543.34 Q248.955 1544.47 251.177 1545.03 Q253.399 1545.58 255.876 1545.58 Q259.88 1545.58 262.218 1543.48 Q264.556 1541.37 264.556 1537.76 Q264.556 1534.15 262.218 1532.04 Q259.88 1529.94 255.876 1529.94 Q254.001 1529.94 252.126 1530.35 Q250.274 1530.77 248.33 1531.65 L248.33 1514.29 Z\" fill=\"#000000\" fill-rule=\"nonzero\" fill-opacity=\"1\" /><path clip-path=\"url(#clip690)\" d=\"M548.401 1518.36 L536.595 1536.81 L548.401 1536.81 L548.401 1518.36 M547.174 1514.29 L553.054 1514.29 L553.054 1536.81 L557.984 1536.81 L557.984 1540.7 L553.054 1540.7 L553.054 1548.85 L548.401 1548.85 L548.401 1540.7 L532.799 1540.7 L532.799 1536.19 L547.174 1514.29 Z\" fill=\"#000000\" fill-rule=\"nonzero\" fill-opacity=\"1\" /><path clip-path=\"url(#clip690)\" d=\"M565.716 1542.97 L570.6 1542.97 L570.6 1548.85 L565.716 1548.85 L565.716 1542.97 Z\" fill=\"#000000\" fill-rule=\"nonzero\" fill-opacity=\"1\" /><path clip-path=\"url(#clip690)\" d=\"M590.785 1517.37 Q587.174 1517.37 585.345 1520.93 Q583.54 1524.47 583.54 1531.6 Q583.54 1538.71 585.345 1542.27 Q587.174 1545.82 590.785 1545.82 Q594.419 1545.82 596.225 1542.27 Q598.053 1538.71 598.053 1531.6 Q598.053 1524.47 596.225 1520.93 Q594.419 1517.37 590.785 1517.37 M590.785 1513.66 Q596.595 1513.66 599.651 1518.27 Q602.729 1522.85 602.729 1531.6 Q602.729 1540.33 599.651 1544.94 Q596.595 1549.52 590.785 1549.52 Q584.975 1549.52 581.896 1544.94 Q578.841 1540.33 578.841 1531.6 Q578.841 1522.85 581.896 1518.27 Q584.975 1513.66 590.785 1513.66 Z\" fill=\"#000000\" fill-rule=\"nonzero\" fill-opacity=\"1\" /><path clip-path=\"url(#clip690)\" d=\"M881.25 1518.36 L869.444 1536.81 L881.25 1536.81 L881.25 1518.36 M880.023 1514.29 L885.902 1514.29 L885.902 1536.81 L890.833 1536.81 L890.833 1540.7 L885.902 1540.7 L885.902 1548.85 L881.25 1548.85 L881.25 1540.7 L865.648 1540.7 L865.648 1536.19 L880.023 1514.29 Z\" fill=\"#000000\" fill-rule=\"nonzero\" fill-opacity=\"1\" /><path clip-path=\"url(#clip690)\" d=\"M898.564 1542.97 L903.449 1542.97 L903.449 1548.85 L898.564 1548.85 L898.564 1542.97 Z\" fill=\"#000000\" fill-rule=\"nonzero\" fill-opacity=\"1\" /><path clip-path=\"url(#clip690)\" d=\"M913.68 1514.29 L932.036 1514.29 L932.036 1518.22 L917.962 1518.22 L917.962 1526.7 Q918.981 1526.35 920 1526.19 Q921.018 1526 922.037 1526 Q927.824 1526 931.203 1529.17 Q934.583 1532.34 934.583 1537.76 Q934.583 1543.34 931.111 1546.44 Q927.638 1549.52 921.319 1549.52 Q919.143 1549.52 916.875 1549.15 Q914.629 1548.78 912.222 1548.04 L912.222 1543.34 Q914.305 1544.47 916.527 1545.03 Q918.75 1545.58 921.226 1545.58 Q925.231 1545.58 927.569 1543.48 Q929.907 1541.37 929.907 1537.76 Q929.907 1534.15 927.569 1532.04 Q925.231 1529.94 921.226 1529.94 Q919.351 1529.94 917.476 1530.35 Q915.625 1530.77 913.68 1531.65 L913.68 1514.29 Z\" fill=\"#000000\" fill-rule=\"nonzero\" fill-opacity=\"1\" /><path clip-path=\"url(#clip690)\" d=\"M1199.63 1514.29 L1217.99 1514.29 L1217.99 1518.22 L1203.91 1518.22 L1203.91 1526.7 Q1204.93 1526.35 1205.95 1526.19 Q1206.97 1526 1207.99 1526 Q1213.77 1526 1217.15 1529.17 Q1220.53 1532.34 1220.53 1537.76 Q1220.53 1543.34 1217.06 1546.44 Q1213.59 1549.52 1207.27 1549.52 Q1205.09 1549.52 1202.83 1549.15 Q1200.58 1548.78 1198.17 1548.04 L1198.17 1543.34 Q1200.26 1544.47 1202.48 1545.03 Q1204.7 1545.58 1207.18 1545.58 Q1211.18 1545.58 1213.52 1543.48 Q1215.86 1541.37 1215.86 1537.76 Q1215.86 1534.15 1213.52 1532.04 Q1211.18 1529.94 1207.18 1529.94 Q1205.3 1529.94 1203.43 1530.35 Q1201.58 1530.77 1199.63 1531.65 L1199.63 1514.29 Z\" fill=\"#000000\" fill-rule=\"nonzero\" fill-opacity=\"1\" /><path clip-path=\"url(#clip690)\" d=\"M1229.75 1542.97 L1234.63 1542.97 L1234.63 1548.85 L1229.75 1548.85 L1229.75 1542.97 Z\" fill=\"#000000\" fill-rule=\"nonzero\" fill-opacity=\"1\" /><path clip-path=\"url(#clip690)\" d=\"M1254.82 1517.37 Q1251.2 1517.37 1249.38 1520.93 Q1247.57 1524.47 1247.57 1531.6 Q1247.57 1538.71 1249.38 1542.27 Q1251.2 1545.82 1254.82 1545.82 Q1258.45 1545.82 1260.26 1542.27 Q1262.08 1538.71 1262.08 1531.6 Q1262.08 1524.47 1260.26 1520.93 Q1258.45 1517.37 1254.82 1517.37 M1254.82 1513.66 Q1260.63 1513.66 1263.68 1518.27 Q1266.76 1522.85 1266.76 1531.6 Q1266.76 1540.33 1263.68 1544.94 Q1260.63 1549.52 1254.82 1549.52 Q1249.01 1549.52 1245.93 1544.94 Q1242.87 1540.33 1242.87 1531.6 Q1242.87 1522.85 1245.93 1518.27 Q1249.01 1513.66 1254.82 1513.66 Z\" fill=\"#000000\" fill-rule=\"nonzero\" fill-opacity=\"1\" /><path clip-path=\"url(#clip690)\" d=\"M1532.48 1514.29 L1550.84 1514.29 L1550.84 1518.22 L1536.76 1518.22 L1536.76 1526.7 Q1537.78 1526.35 1538.8 1526.19 Q1539.82 1526 1540.84 1526 Q1546.62 1526 1550 1529.17 Q1553.38 1532.34 1553.38 1537.76 Q1553.38 1543.34 1549.91 1546.44 Q1546.44 1549.52 1540.12 1549.52 Q1537.94 1549.52 1535.67 1549.15 Q1533.43 1548.78 1531.02 1548.04 L1531.02 1543.34 Q1533.1 1544.47 1535.33 1545.03 Q1537.55 1545.58 1540.03 1545.58 Q1544.03 1545.58 1546.37 1543.48 Q1548.71 1541.37 1548.71 1537.76 Q1548.71 1534.15 1546.37 1532.04 Q1544.03 1529.94 1540.03 1529.94 Q1538.15 1529.94 1536.28 1530.35 Q1534.42 1530.77 1532.48 1531.65 L1532.48 1514.29 Z\" fill=\"#000000\" fill-rule=\"nonzero\" fill-opacity=\"1\" /><path clip-path=\"url(#clip690)\" d=\"M1562.6 1542.97 L1567.48 1542.97 L1567.48 1548.85 L1562.6 1548.85 L1562.6 1542.97 Z\" fill=\"#000000\" fill-rule=\"nonzero\" fill-opacity=\"1\" /><path clip-path=\"url(#clip690)\" d=\"M1577.71 1514.29 L1596.07 1514.29 L1596.07 1518.22 L1581.99 1518.22 L1581.99 1526.7 Q1583.01 1526.35 1584.03 1526.19 Q1585.05 1526 1586.07 1526 Q1591.85 1526 1595.23 1529.17 Q1598.61 1532.34 1598.61 1537.76 Q1598.61 1543.34 1595.14 1546.44 Q1591.67 1549.52 1585.35 1549.52 Q1583.17 1549.52 1580.91 1549.15 Q1578.66 1548.78 1576.25 1548.04 L1576.25 1543.34 Q1578.34 1544.47 1580.56 1545.03 Q1582.78 1545.58 1585.26 1545.58 Q1589.26 1545.58 1591.6 1543.48 Q1593.94 1541.37 1593.94 1537.76 Q1593.94 1534.15 1591.6 1532.04 Q1589.26 1529.94 1585.26 1529.94 Q1583.38 1529.94 1581.51 1530.35 Q1579.66 1530.77 1577.71 1531.65 L1577.71 1514.29 Z\" fill=\"#000000\" fill-rule=\"nonzero\" fill-opacity=\"1\" /><path clip-path=\"url(#clip690)\" d=\"M1875.04 1529.7 Q1871.89 1529.7 1870.04 1531.86 Q1868.21 1534.01 1868.21 1537.76 Q1868.21 1541.49 1870.04 1543.66 Q1871.89 1545.82 1875.04 1545.82 Q1878.19 1545.82 1880.02 1543.66 Q1881.87 1541.49 1881.87 1537.76 Q1881.87 1534.01 1880.02 1531.86 Q1878.19 1529.7 1875.04 1529.7 M1884.32 1515.05 L1884.32 1519.31 Q1882.56 1518.48 1880.76 1518.04 Q1878.97 1517.6 1877.22 1517.6 Q1872.59 1517.6 1870.13 1520.72 Q1867.7 1523.85 1867.35 1530.17 Q1868.72 1528.15 1870.78 1527.09 Q1872.84 1526 1875.32 1526 Q1880.53 1526 1883.53 1529.17 Q1886.57 1532.32 1886.57 1537.76 Q1886.57 1543.08 1883.42 1546.3 Q1880.27 1549.52 1875.04 1549.52 Q1869.04 1549.52 1865.87 1544.94 Q1862.7 1540.33 1862.7 1531.6 Q1862.7 1523.41 1866.59 1518.55 Q1870.48 1513.66 1877.03 1513.66 Q1878.79 1513.66 1880.57 1514.01 Q1882.38 1514.36 1884.32 1515.05 Z\" fill=\"#000000\" fill-rule=\"nonzero\" fill-opacity=\"1\" /><path clip-path=\"url(#clip690)\" d=\"M1894.62 1542.97 L1899.51 1542.97 L1899.51 1548.85 L1894.62 1548.85 L1894.62 1542.97 Z\" fill=\"#000000\" fill-rule=\"nonzero\" fill-opacity=\"1\" /><path clip-path=\"url(#clip690)\" d=\"M1919.69 1517.37 Q1916.08 1517.37 1914.25 1520.93 Q1912.45 1524.47 1912.45 1531.6 Q1912.45 1538.71 1914.25 1542.27 Q1916.08 1545.82 1919.69 1545.82 Q1923.33 1545.82 1925.13 1542.27 Q1926.96 1538.71 1926.96 1531.6 Q1926.96 1524.47 1925.13 1520.93 Q1923.33 1517.37 1919.69 1517.37 M1919.69 1513.66 Q1925.5 1513.66 1928.56 1518.27 Q1931.64 1522.85 1931.64 1531.6 Q1931.64 1540.33 1928.56 1544.94 Q1925.5 1549.52 1919.69 1549.52 Q1913.88 1549.52 1910.8 1544.94 Q1907.75 1540.33 1907.75 1531.6 Q1907.75 1522.85 1910.8 1518.27 Q1913.88 1513.66 1919.69 1513.66 Z\" fill=\"#000000\" fill-rule=\"nonzero\" fill-opacity=\"1\" /><path clip-path=\"url(#clip690)\" d=\"M2207.89 1529.7 Q2204.74 1529.7 2202.89 1531.86 Q2201.06 1534.01 2201.06 1537.76 Q2201.06 1541.49 2202.89 1543.66 Q2204.74 1545.82 2207.89 1545.82 Q2211.04 1545.82 2212.87 1543.66 Q2214.72 1541.49 2214.72 1537.76 Q2214.72 1534.01 2212.87 1531.86 Q2211.04 1529.7 2207.89 1529.7 M2217.17 1515.05 L2217.17 1519.31 Q2215.41 1518.48 2213.61 1518.04 Q2211.82 1517.6 2210.06 1517.6 Q2205.43 1517.6 2202.98 1520.72 Q2200.55 1523.85 2200.2 1530.17 Q2201.57 1528.15 2203.63 1527.09 Q2205.69 1526 2208.17 1526 Q2213.37 1526 2216.38 1529.17 Q2219.42 1532.32 2219.42 1537.76 Q2219.42 1543.08 2216.27 1546.3 Q2213.12 1549.52 2207.89 1549.52 Q2201.89 1549.52 2198.72 1544.94 Q2195.55 1540.33 2195.55 1531.6 Q2195.55 1523.41 2199.44 1518.55 Q2203.33 1513.66 2209.88 1513.66 Q2211.64 1513.66 2213.42 1514.01 Q2215.23 1514.36 2217.17 1515.05 Z\" fill=\"#000000\" fill-rule=\"nonzero\" fill-opacity=\"1\" /><path clip-path=\"url(#clip690)\" d=\"M2227.47 1542.97 L2232.36 1542.97 L2232.36 1548.85 L2227.47 1548.85 L2227.47 1542.97 Z\" fill=\"#000000\" fill-rule=\"nonzero\" fill-opacity=\"1\" /><path clip-path=\"url(#clip690)\" d=\"M2242.59 1514.29 L2260.94 1514.29 L2260.94 1518.22 L2246.87 1518.22 L2246.87 1526.7 Q2247.89 1526.35 2248.91 1526.19 Q2249.93 1526 2250.94 1526 Q2256.73 1526 2260.11 1529.17 Q2263.49 1532.34 2263.49 1537.76 Q2263.49 1543.34 2260.02 1546.44 Q2256.55 1549.52 2250.23 1549.52 Q2248.05 1549.52 2245.78 1549.15 Q2243.54 1548.78 2241.13 1548.04 L2241.13 1543.34 Q2243.21 1544.47 2245.43 1545.03 Q2247.66 1545.58 2250.13 1545.58 Q2254.14 1545.58 2256.48 1543.48 Q2258.81 1541.37 2258.81 1537.76 Q2258.81 1534.15 2256.48 1532.04 Q2254.14 1529.94 2250.13 1529.94 Q2248.26 1529.94 2246.38 1530.35 Q2244.53 1530.77 2242.59 1531.65 L2242.59 1514.29 Z\" fill=\"#000000\" fill-rule=\"nonzero\" fill-opacity=\"1\" /><polyline clip-path=\"url(#clip692)\" style=\"stroke:#000000; stroke-linecap:round; stroke-linejoin:round; stroke-width:2; stroke-opacity:0.1; fill:none\" points=\"112.177,1445.72 2352.76,1445.72 \"/>\n",
       "<polyline clip-path=\"url(#clip692)\" style=\"stroke:#000000; stroke-linecap:round; stroke-linejoin:round; stroke-width:2; stroke-opacity:0.1; fill:none\" points=\"112.177,1106.28 2352.76,1106.28 \"/>\n",
       "<polyline clip-path=\"url(#clip692)\" style=\"stroke:#000000; stroke-linecap:round; stroke-linejoin:round; stroke-width:2; stroke-opacity:0.1; fill:none\" points=\"112.177,766.846 2352.76,766.846 \"/>\n",
       "<polyline clip-path=\"url(#clip692)\" style=\"stroke:#000000; stroke-linecap:round; stroke-linejoin:round; stroke-width:2; stroke-opacity:0.1; fill:none\" points=\"112.177,427.411 2352.76,427.411 \"/>\n",
       "<polyline clip-path=\"url(#clip692)\" style=\"stroke:#000000; stroke-linecap:round; stroke-linejoin:round; stroke-width:2; stroke-opacity:0.1; fill:none\" points=\"112.177,87.9763 2352.76,87.9763 \"/>\n",
       "<polyline clip-path=\"url(#clip690)\" style=\"stroke:#000000; stroke-linecap:round; stroke-linejoin:round; stroke-width:4; stroke-opacity:1; fill:none\" points=\"112.177,1486.45 112.177,47.2441 \"/>\n",
       "<polyline clip-path=\"url(#clip690)\" style=\"stroke:#000000; stroke-linecap:round; stroke-linejoin:round; stroke-width:4; stroke-opacity:1; fill:none\" points=\"112.177,1445.72 131.075,1445.72 \"/>\n",
       "<polyline clip-path=\"url(#clip690)\" style=\"stroke:#000000; stroke-linecap:round; stroke-linejoin:round; stroke-width:4; stroke-opacity:1; fill:none\" points=\"112.177,1106.28 131.075,1106.28 \"/>\n",
       "<polyline clip-path=\"url(#clip690)\" style=\"stroke:#000000; stroke-linecap:round; stroke-linejoin:round; stroke-width:4; stroke-opacity:1; fill:none\" points=\"112.177,766.846 131.075,766.846 \"/>\n",
       "<polyline clip-path=\"url(#clip690)\" style=\"stroke:#000000; stroke-linecap:round; stroke-linejoin:round; stroke-width:4; stroke-opacity:1; fill:none\" points=\"112.177,427.411 131.075,427.411 \"/>\n",
       "<polyline clip-path=\"url(#clip690)\" style=\"stroke:#000000; stroke-linecap:round; stroke-linejoin:round; stroke-width:4; stroke-opacity:1; fill:none\" points=\"112.177,87.9763 131.075,87.9763 \"/>\n",
       "<path clip-path=\"url(#clip690)\" d=\"M64.2328 1431.51 Q60.6217 1431.51 58.793 1435.08 Q56.9875 1438.62 56.9875 1445.75 Q56.9875 1452.86 58.793 1456.42 Q60.6217 1459.96 64.2328 1459.96 Q67.867 1459.96 69.6726 1456.42 Q71.5013 1452.86 71.5013 1445.75 Q71.5013 1438.62 69.6726 1435.08 Q67.867 1431.51 64.2328 1431.51 M64.2328 1427.81 Q70.0429 1427.81 73.0985 1432.42 Q76.1772 1437 76.1772 1445.75 Q76.1772 1454.48 73.0985 1459.08 Q70.0429 1463.67 64.2328 1463.67 Q58.4226 1463.67 55.344 1459.08 Q52.2884 1454.48 52.2884 1445.75 Q52.2884 1437 55.344 1432.42 Q58.4226 1427.81 64.2328 1427.81 Z\" fill=\"#000000\" fill-rule=\"nonzero\" fill-opacity=\"1\" /><path clip-path=\"url(#clip690)\" d=\"M59.8578 1119.63 L76.1772 1119.63 L76.1772 1123.56 L54.2328 1123.56 L54.2328 1119.63 Q56.8949 1116.87 61.4782 1112.24 Q66.0846 1107.59 67.2652 1106.25 Q69.5105 1103.72 70.3902 1101.99 Q71.2929 1100.23 71.2929 1098.54 Q71.2929 1095.78 69.3485 1094.05 Q67.4272 1092.31 64.3254 1092.31 Q62.1263 1092.31 59.6726 1093.07 Q57.2421 1093.84 54.4643 1095.39 L54.4643 1090.67 Q57.2884 1089.53 59.7421 1088.95 Q62.1958 1088.38 64.2328 1088.38 Q69.6031 1088.38 72.7976 1091.06 Q75.992 1093.75 75.992 1098.24 Q75.992 1100.37 75.1818 1102.29 Q74.3948 1104.19 72.2883 1106.78 Q71.7096 1107.45 68.6078 1110.67 Q65.5059 1113.86 59.8578 1119.63 Z\" fill=\"#000000\" fill-rule=\"nonzero\" fill-opacity=\"1\" /><path clip-path=\"url(#clip690)\" d=\"M66.5939 753.64 L54.7884 772.089 L66.5939 772.089 L66.5939 753.64 M65.367 749.566 L71.2466 749.566 L71.2466 772.089 L76.1772 772.089 L76.1772 775.978 L71.2466 775.978 L71.2466 784.126 L66.5939 784.126 L66.5939 775.978 L50.9921 775.978 L50.9921 771.464 L65.367 749.566 Z\" fill=\"#000000\" fill-rule=\"nonzero\" fill-opacity=\"1\" /><path clip-path=\"url(#clip690)\" d=\"M64.6495 425.548 Q61.5013 425.548 59.6495 427.7 Q57.8208 429.853 57.8208 433.603 Q57.8208 437.33 59.6495 439.506 Q61.5013 441.659 64.6495 441.659 Q67.7976 441.659 69.6263 439.506 Q71.4781 437.33 71.4781 433.603 Q71.4781 429.853 69.6263 427.7 Q67.7976 425.548 64.6495 425.548 M73.9318 410.895 L73.9318 415.154 Q72.1726 414.321 70.367 413.881 Q68.5846 413.441 66.8254 413.441 Q62.1958 413.441 59.7421 416.566 Q57.3115 419.691 56.9643 426.011 Q58.33 423.997 60.3902 422.932 Q62.4504 421.844 64.9272 421.844 Q70.1355 421.844 73.1448 425.015 Q76.1772 428.163 76.1772 433.603 Q76.1772 438.927 73.029 442.145 Q69.8809 445.362 64.6495 445.362 Q58.6541 445.362 55.4828 440.779 Q52.3116 436.173 52.3116 427.446 Q52.3116 419.251 56.2004 414.39 Q60.0893 409.506 66.6402 409.506 Q68.3994 409.506 70.1818 409.853 Q71.9874 410.201 73.9318 410.895 Z\" fill=\"#000000\" fill-rule=\"nonzero\" fill-opacity=\"1\" /><path clip-path=\"url(#clip690)\" d=\"M64.3254 88.8443 Q60.9921 88.8443 59.0708 90.6267 Q57.1726 92.4091 57.1726 95.5341 Q57.1726 98.6591 59.0708 100.441 Q60.9921 102.224 64.3254 102.224 Q67.6587 102.224 69.58 100.441 Q71.5013 98.6359 71.5013 95.5341 Q71.5013 92.4091 69.58 90.6267 Q67.6819 88.8443 64.3254 88.8443 M59.6495 86.8536 Q56.6402 86.1129 54.9504 84.0527 Q53.2838 81.9925 53.2838 79.0296 Q53.2838 74.8861 56.2236 72.4787 Q59.1865 70.0713 64.3254 70.0713 Q69.4874 70.0713 72.4272 72.4787 Q75.367 74.8861 75.367 79.0296 Q75.367 81.9925 73.6772 84.0527 Q72.0105 86.1129 69.0244 86.8536 Q72.404 87.6406 74.279 89.9323 Q76.1772 92.2239 76.1772 95.5341 Q76.1772 100.557 73.0985 103.242 Q70.0429 105.928 64.3254 105.928 Q58.6078 105.928 55.5291 103.242 Q52.4736 100.557 52.4736 95.5341 Q52.4736 92.2239 54.3717 89.9323 Q56.2699 87.6406 59.6495 86.8536 M57.9365 79.4694 Q57.9365 82.1545 59.6032 83.6592 Q61.293 85.1638 64.3254 85.1638 Q67.3346 85.1638 69.0244 83.6592 Q70.7374 82.1545 70.7374 79.4694 Q70.7374 76.7842 69.0244 75.2796 Q67.3346 73.775 64.3254 73.775 Q61.293 73.775 59.6032 75.2796 Q57.9365 76.7842 57.9365 79.4694 Z\" fill=\"#000000\" fill-rule=\"nonzero\" fill-opacity=\"1\" /><path clip-path=\"url(#clip692)\" d=\"M235.413 1106.28 L235.413 1445.72 L567.764 1445.72 L567.764 1106.28 L235.413 1106.28 L235.413 1106.28  Z\" fill=\"#009af9\" fill-rule=\"evenodd\" fill-opacity=\"1\"/>\n",
       "<polyline clip-path=\"url(#clip692)\" style=\"stroke:#000000; stroke-linecap:round; stroke-linejoin:round; stroke-width:4; stroke-opacity:1; fill:none\" points=\"235.413,1106.28 235.413,1445.72 567.764,1445.72 567.764,1106.28 235.413,1106.28 \"/>\n",
       "<path clip-path=\"url(#clip692)\" d=\"M567.764 766.846 L567.764 1445.72 L900.115 1445.72 L900.115 766.846 L567.764 766.846 L567.764 766.846  Z\" fill=\"#009af9\" fill-rule=\"evenodd\" fill-opacity=\"1\"/>\n",
       "<polyline clip-path=\"url(#clip692)\" style=\"stroke:#000000; stroke-linecap:round; stroke-linejoin:round; stroke-width:4; stroke-opacity:1; fill:none\" points=\"567.764,766.846 567.764,1445.72 900.115,1445.72 900.115,766.846 567.764,766.846 \"/>\n",
       "<path clip-path=\"url(#clip692)\" d=\"M900.115 257.694 L900.115 1445.72 L1232.47 1445.72 L1232.47 257.694 L900.115 257.694 L900.115 257.694  Z\" fill=\"#009af9\" fill-rule=\"evenodd\" fill-opacity=\"1\"/>\n",
       "<polyline clip-path=\"url(#clip692)\" style=\"stroke:#000000; stroke-linecap:round; stroke-linejoin:round; stroke-width:4; stroke-opacity:1; fill:none\" points=\"900.115,257.694 900.115,1445.72 1232.47,1445.72 1232.47,257.694 900.115,257.694 \"/>\n",
       "<path clip-path=\"url(#clip692)\" d=\"M1232.47 87.9763 L1232.47 1445.72 L1564.82 1445.72 L1564.82 87.9763 L1232.47 87.9763 L1232.47 87.9763  Z\" fill=\"#009af9\" fill-rule=\"evenodd\" fill-opacity=\"1\"/>\n",
       "<polyline clip-path=\"url(#clip692)\" style=\"stroke:#000000; stroke-linecap:round; stroke-linejoin:round; stroke-width:4; stroke-opacity:1; fill:none\" points=\"1232.47,87.9763 1232.47,1445.72 1564.82,1445.72 1564.82,87.9763 1232.47,87.9763 \"/>\n",
       "<path clip-path=\"url(#clip692)\" d=\"M1564.82 597.129 L1564.82 1445.72 L1897.17 1445.72 L1897.17 597.129 L1564.82 597.129 L1564.82 597.129  Z\" fill=\"#009af9\" fill-rule=\"evenodd\" fill-opacity=\"1\"/>\n",
       "<polyline clip-path=\"url(#clip692)\" style=\"stroke:#000000; stroke-linecap:round; stroke-linejoin:round; stroke-width:4; stroke-opacity:1; fill:none\" points=\"1564.82,597.129 1564.82,1445.72 1897.17,1445.72 1897.17,597.129 1564.82,597.129 \"/>\n",
       "<path clip-path=\"url(#clip692)\" d=\"M1897.17 766.846 L1897.17 1445.72 L2229.52 1445.72 L2229.52 766.846 L1897.17 766.846 L1897.17 766.846  Z\" fill=\"#009af9\" fill-rule=\"evenodd\" fill-opacity=\"1\"/>\n",
       "<polyline clip-path=\"url(#clip692)\" style=\"stroke:#000000; stroke-linecap:round; stroke-linejoin:round; stroke-width:4; stroke-opacity:1; fill:none\" points=\"1897.17,766.846 1897.17,1445.72 2229.52,1445.72 2229.52,766.846 1897.17,766.846 \"/>\n",
       "<circle clip-path=\"url(#clip692)\" style=\"fill:#009af9; stroke:none; fill-opacity:0\" cx=\"401.589\" cy=\"1106.28\" r=\"2\"/>\n",
       "<circle clip-path=\"url(#clip692)\" style=\"fill:#009af9; stroke:none; fill-opacity:0\" cx=\"733.94\" cy=\"766.846\" r=\"2\"/>\n",
       "<circle clip-path=\"url(#clip692)\" style=\"fill:#009af9; stroke:none; fill-opacity:0\" cx=\"1066.29\" cy=\"257.694\" r=\"2\"/>\n",
       "<circle clip-path=\"url(#clip692)\" style=\"fill:#009af9; stroke:none; fill-opacity:0\" cx=\"1398.64\" cy=\"87.9763\" r=\"2\"/>\n",
       "<circle clip-path=\"url(#clip692)\" style=\"fill:#009af9; stroke:none; fill-opacity:0\" cx=\"1730.99\" cy=\"597.129\" r=\"2\"/>\n",
       "<circle clip-path=\"url(#clip692)\" style=\"fill:#009af9; stroke:none; fill-opacity:0\" cx=\"2063.34\" cy=\"766.846\" r=\"2\"/>\n",
       "<path clip-path=\"url(#clip690)\" d=\"M2001.58 198.898 L2278.07 198.898 L2278.07 95.2176 L2001.58 95.2176  Z\" fill=\"#ffffff\" fill-rule=\"evenodd\" fill-opacity=\"1\"/>\n",
       "<polyline clip-path=\"url(#clip690)\" style=\"stroke:#000000; stroke-linecap:round; stroke-linejoin:round; stroke-width:4; stroke-opacity:1; fill:none\" points=\"2001.58,198.898 2278.07,198.898 2278.07,95.2176 2001.58,95.2176 2001.58,198.898 \"/>\n",
       "<path clip-path=\"url(#clip690)\" d=\"M2026.48 167.794 L2175.85 167.794 L2175.85 126.322 L2026.48 126.322 L2026.48 167.794  Z\" fill=\"#009af9\" fill-rule=\"evenodd\" fill-opacity=\"1\"/>\n",
       "<polyline clip-path=\"url(#clip690)\" style=\"stroke:#000000; stroke-linecap:round; stroke-linejoin:round; stroke-width:4; stroke-opacity:1; fill:none\" points=\"2026.48,167.794 2175.85,167.794 2175.85,126.322 2026.48,126.322 2026.48,167.794 \"/>\n",
       "<path clip-path=\"url(#clip690)\" d=\"M2214.59 166.745 Q2212.78 171.375 2211.07 172.787 Q2209.36 174.199 2206.49 174.199 L2203.08 174.199 L2203.08 170.634 L2205.58 170.634 Q2207.34 170.634 2208.31 169.8 Q2209.29 168.967 2210.47 165.865 L2211.23 163.921 L2200.74 138.412 L2205.26 138.412 L2213.36 158.689 L2221.46 138.412 L2225.98 138.412 L2214.59 166.745 Z\" fill=\"#000000\" fill-rule=\"nonzero\" fill-opacity=\"1\" /><path clip-path=\"url(#clip690)\" d=\"M2233.27 160.402 L2240.91 160.402 L2240.91 134.037 L2232.6 135.703 L2232.6 131.444 L2240.86 129.778 L2245.54 129.778 L2245.54 160.402 L2253.17 160.402 L2253.17 164.338 L2233.27 164.338 L2233.27 160.402 Z\" fill=\"#000000\" fill-rule=\"nonzero\" fill-opacity=\"1\" /></svg>\n"
      ]
     },
     "execution_count": 42,
     "metadata": {},
     "output_type": "execute_result"
    }
   ],
   "source": [
    "plot( pg[:,:weight] , seriestype=:histogram)"
   ]
  },
  {
   "cell_type": "code",
   "execution_count": null,
   "metadata": {},
   "outputs": [],
   "source": []
  },
  {
   "cell_type": "code",
   "execution_count": null,
   "metadata": {},
   "outputs": [],
   "source": []
  },
  {
   "cell_type": "code",
   "execution_count": null,
   "metadata": {},
   "outputs": [],
   "source": []
  }
 ],
 "metadata": {
  "kernelspec": {
   "display_name": "Julia 1.8.2",
   "language": "julia",
   "name": "julia-1.8"
  },
  "language_info": {
   "file_extension": ".jl",
   "mimetype": "application/julia",
   "name": "julia",
   "version": "1.8.2"
  }
 },
 "nbformat": 4,
 "nbformat_minor": 4
}
