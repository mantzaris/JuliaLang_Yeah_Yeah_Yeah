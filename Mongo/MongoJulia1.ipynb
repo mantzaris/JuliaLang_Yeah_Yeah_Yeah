{
 "cells": [
  {
   "cell_type": "code",
   "execution_count": 1,
   "metadata": {},
   "outputs": [],
   "source": [
    "using Mongoc"
   ]
  },
  {
   "cell_type": "code",
   "execution_count": 2,
   "metadata": {},
   "outputs": [],
   "source": [
    "using UUIDs"
   ]
  },
  {
   "cell_type": "code",
   "execution_count": null,
   "metadata": {},
   "outputs": [],
   "source": []
  },
  {
   "cell_type": "code",
   "execution_count": 3,
   "metadata": {},
   "outputs": [],
   "source": [
    "# a MongoDB instance should be running on the default host and port: localhost:27017"
   ]
  },
  {
   "cell_type": "markdown",
   "metadata": {},
   "source": [
    "###  wget -qO - https://www.mongodb.org/static/pgp/server-6.0.asc | sudo apt-key add - \n",
    "### sudo apt-get install gnupg \n",
    "### wget -qO - https://www.mongodb.org/static/pgp/server-6.0.asc | sudo apt-key add - \n",
    "### lsb_release -dc\n",
    "### echo \"deb [ arch=amd64,arm64 ] https://repo.mongodb.org/apt/ubuntu focal/mongodb-org/6.0 multiverse\" | sudo tee /etc/apt/sources.list.d/mongodb-org-6.0.list \n",
    "### sudo apt-get update\n",
    "### sudo apt-get install -y mongodb-org\n",
    "### \n",
    "### sudo systemctl start mongod\n",
    "### sudo systemctl status mongod\n",
    "### (to start from boot) sudo systemctl enable mongod \n",
    "### sudo systemctl stop mongodb "
   ]
  },
  {
   "cell_type": "code",
   "execution_count": 6,
   "metadata": {},
   "outputs": [],
   "source": []
  },
  {
   "cell_type": "code",
   "execution_count": 7,
   "metadata": {},
   "outputs": [
    {
     "data": {
      "text/plain": [
       "Client(URI(\"mongodb://localhost:27017\"))"
      ]
     },
     "metadata": {},
     "output_type": "display_data"
    }
   ],
   "source": [
    "client = Mongoc.Client(\"localhost\", 27017)"
   ]
  },
  {
   "cell_type": "code",
   "execution_count": 8,
   "metadata": {},
   "outputs": [
    {
     "data": {
      "text/plain": [
       "Client(URI(\"mongodb://localhost:27017\"))"
      ]
     },
     "metadata": {},
     "output_type": "display_data"
    }
   ],
   "source": [
    "client = Mongoc.Client() #uses the default which is localhost at port 27017"
   ]
  },
  {
   "cell_type": "code",
   "execution_count": 10,
   "metadata": {},
   "outputs": [
    {
     "data": {
      "text/plain": [
       "Mongoc.BSON with 1 entry:\n",
       "  \"ok\" => 1.0"
      ]
     },
     "metadata": {},
     "output_type": "display_data"
    }
   ],
   "source": [
    "#check connection\n",
    "Mongoc.ping(client)"
   ]
  },
  {
   "cell_type": "code",
   "execution_count": 11,
   "metadata": {},
   "outputs": [
    {
     "data": {
      "text/plain": [
       "Database(Client(URI(\"mongodb://localhost:27017\")), \"testDB1\")"
      ]
     },
     "metadata": {},
     "output_type": "display_data"
    }
   ],
   "source": [
    "testDB1 = client[\"testDB1\"] #mongo can hold 'multiple databases'"
   ]
  },
  {
   "cell_type": "code",
   "execution_count": 12,
   "metadata": {},
   "outputs": [
    {
     "data": {
      "text/plain": [
       "Collection(Database(Client(URI(\"mongodb://localhost:27017\")), \"testDB1\"), \"collection1\")"
      ]
     },
     "metadata": {},
     "output_type": "display_data"
    }
   ],
   "source": [
    "collection_1_DB1 = testDB1[\"collection1\"] #get a 'collection' from mongo, which is kinda like a 'table' in sql holding documents/records"
   ]
  },
  {
   "cell_type": "code",
   "execution_count": 13,
   "metadata": {},
   "outputs": [
    {
     "data": {
      "text/plain": [
       "BSON(\"{ }\")"
      ]
     },
     "metadata": {},
     "output_type": "display_data"
    }
   ],
   "source": [
    "document1 = Mongoc.BSON() #set up an empty document"
   ]
  },
  {
   "cell_type": "code",
   "execution_count": 14,
   "metadata": {},
   "outputs": [
    {
     "data": {
      "text/plain": [
       "Mongoc.BSON with 4 entries:\n",
       "  \"to\"       => \"Alex\"\n",
       "  \"from\"     => \"Bob\"\n",
       "  \"contents\" => Any[\"book\", \"pen\", \"picture\"]\n",
       "  \"weight\"   => 1.65"
      ]
     },
     "metadata": {},
     "output_type": "display_data"
    }
   ],
   "source": [
    "document1[\"to\"] = \"Alex\"\n",
    "document1[\"from\"] = \"Bob\"\n",
    "document1[\"contents\"] = [\"book\",\"pen\",\"picture\"]\n",
    "document1[\"weight\"] = 1.65\n",
    "document1"
   ]
  },
  {
   "cell_type": "code",
   "execution_count": 15,
   "metadata": {},
   "outputs": [
    {
     "data": {
      "text/plain": [
       "Mongoc.InsertOneResult{Mongoc.BSONObjectId}(BSON(\"{ \"insertedCount\" : 1, \"insertedId\" : { \"$oid\" : \"67ed80e3a803a3aa440f3844\" } }\"), BSONObjectId(\"67ed80e3a803a3aa440f3844\"))"
      ]
     },
     "metadata": {},
     "output_type": "display_data"
    }
   ],
   "source": [
    "result = push!( collection_1_DB1 , document1 ) #push this document to the collection"
   ]
  },
  {
   "cell_type": "code",
   "execution_count": 17,
   "metadata": {},
   "outputs": [
    {
     "name": "stdout",
     "output_type": "stream",
     "text": [
      "BSON(\"{ \"_id\" : { \"$oid\" : \"67ed80e3a803a3aa440f3844\" }, \"to\" : \"Alex\", \"from\" : \"Bob\", \"contents\" : [ \"book\", \"pen\", \"picture\" ], \"weight\" : 1.6499999999999999112 }\")\n"
     ]
    }
   ],
   "source": [
    "#current contents of the collection in the database\n",
    "#notice the new field name \"_id\" which is an object { \"$oid\" : \"643420633b80d36c2e4718e4\" } that uniquely identifies the document in the collection\n",
    "for document in collection_1_DB1\n",
    "    println(document)\n",
    "end"
   ]
  },
  {
   "cell_type": "code",
   "execution_count": 18,
   "metadata": {},
   "outputs": [
    {
     "data": {
      "text/plain": [
       "Mongoc.BSON with 5 entries:\n",
       "  \"to\"       => \"Alex\"\n",
       "  \"from\"     => \"Bob\"\n",
       "  \"contents\" => Any[\"unkown\"]\n",
       "  \"weight\"   => 0.5\n",
       "  \"_id\"      => UUID(\"b4f02f94-d619-4bd7-9d51-fb10b82f1797\")"
      ]
     },
     "metadata": {},
     "output_type": "display_data"
    }
   ],
   "source": [
    "document2 = Mongoc.BSON() #set up an empty document\n",
    "document2[\"to\"] = \"Alex\"\n",
    "document2[\"from\"] = \"Bob\"\n",
    "document2[\"contents\"] = [\"unkown\"]\n",
    "document2[\"weight\"] = 0.5\n",
    "document2[\"_id\"] = uuid4() #we can set the id field ourselves\n",
    "document2"
   ]
  },
  {
   "cell_type": "code",
   "execution_count": 19,
   "metadata": {},
   "outputs": [
    {
     "data": {
      "text/plain": [
       "Mongoc.InsertOneResult{Nothing}(BSON(\"{ \"insertedCount\" : 1, \"insertedId\" : { \"$binary\" : { \"base64\" : \"tPAvlNYZS9edUfsQuC8Xlw==\", \"subType\" : \"04\" } } }\"), nothing)"
      ]
     },
     "metadata": {},
     "output_type": "display_data"
    }
   ],
   "source": [
    "result = push!( collection_1_DB1 , document2 ) #push this document to the collection"
   ]
  },
  {
   "cell_type": "code",
   "execution_count": 20,
   "metadata": {},
   "outputs": [
    {
     "name": "stdout",
     "output_type": "stream",
     "text": [
      "BSON(\"{ \"_id\" : { \"$oid\" : \"67ed80e3a803a3aa440f3844\" }, \"to\" : \"Alex\", \"from\" : \"Bob\", \"contents\" : [ \"book\", \"pen\", \"picture\" ], \"weight\" : 1.6499999999999999112 }\")\n",
      "BSON(\"{ \"_id\" : { \"$binary\" : { \"base64\" : \"tPAvlNYZS9edUfsQuC8Xlw==\", \"subType\" : \"04\" } }, \"to\" : \"Alex\", \"from\" : \"Bob\", \"contents\" : [ \"unkown\" ], \"weight\" : 0.5 }\")\n"
     ]
    }
   ],
   "source": [
    "for document in collection_1_DB1\n",
    "    println(document)\n",
    "end"
   ]
  },
  {
   "cell_type": "code",
   "execution_count": 21,
   "metadata": {},
   "outputs": [
    {
     "data": {
      "text/plain": [
       "Mongoc.BSON with 5 entries:\n",
       "  \"to\"       => \"Alex\"\n",
       "  \"from\"     => \"Bob\"\n",
       "  \"contents\" => Any[\"unkown\"]\n",
       "  \"weight\"   => 0.5\n",
       "  \"_id\"      => \"123\""
      ]
     },
     "metadata": {},
     "output_type": "display_data"
    }
   ],
   "source": [
    "document3 = Mongoc.BSON() #set up an empty document\n",
    "document3[\"to\"] = \"Alex\"\n",
    "document3[\"from\"] = \"Bob\"\n",
    "document3[\"contents\"] = [\"unkown\"]\n",
    "document3[\"weight\"] = 0.5\n",
    "document3[\"_id\"] = \"123\" #we can set the id field ourselves manually although not a good idea\n",
    "document3"
   ]
  },
  {
   "cell_type": "code",
   "execution_count": 22,
   "metadata": {},
   "outputs": [
    {
     "data": {
      "text/plain": [
       "Mongoc.InsertOneResult{Nothing}(BSON(\"{ \"insertedCount\" : 1, \"insertedId\" : \"123\" }\"), nothing)"
      ]
     },
     "metadata": {},
     "output_type": "display_data"
    }
   ],
   "source": [
    "result = push!( collection_1_DB1 , document3 ) #push this document to the collection"
   ]
  },
  {
   "cell_type": "code",
   "execution_count": 23,
   "metadata": {},
   "outputs": [
    {
     "name": "stdout",
     "output_type": "stream",
     "text": [
      "BSON(\"{ \"_id\" : { \"$oid\" : \"67ed80e3a803a3aa440f3844\" }, \"to\" : \"Alex\", \"from\" : \"Bob\", \"contents\" : [ \"book\", \"pen\", \"picture\" ], \"weight\" : 1.6499999999999999112 }\")\n",
      "BSON(\"{ \"_id\" : { \"$binary\" : { \"base64\" : \"tPAvlNYZS9edUfsQuC8Xlw==\", \"subType\" : \"04\" } }, \"to\" : \"Alex\", \"from\" : \"Bob\", \"contents\" : [ \"unkown\" ], \"weight\" : 0.5 }\")\n",
      "BSON(\"{ \"_id\" : \"123\", \"to\" : \"Alex\", \"from\" : \"Bob\", \"contents\" : [ \"unkown\" ], \"weight\" : 0.5 }\")\n"
     ]
    }
   ],
   "source": [
    "for document in collection_1_DB1\n",
    "    println(document)\n",
    "end"
   ]
  },
  {
   "cell_type": "code",
   "execution_count": 25,
   "metadata": {},
   "outputs": [
    {
     "data": {
      "text/plain": [
       "3"
      ]
     },
     "metadata": {},
     "output_type": "display_data"
    }
   ],
   "source": [
    "length(collection_1_DB1)"
   ]
  },
  {
   "cell_type": "code",
   "execution_count": 37,
   "metadata": {},
   "outputs": [
    {
     "data": {
      "text/plain": [
       "Mongoc.BSON with 5 entries:\n",
       "  \"_id\"      => UUID(\"b4f02f94-d619-4bd7-9d51-fb10b82f1797\")\n",
       "  \"to\"       => \"Alex\"\n",
       "  \"from\"     => \"Bob\"\n",
       "  \"contents\" => Any[\"unkown\"]\n",
       "  \"weight\"   => 0.5"
      ]
     },
     "metadata": {},
     "output_type": "display_data"
    }
   ],
   "source": [
    "tmp = []\n",
    "for (index,obj) in enumerate(collection_1_DB1)\n",
    "    if index == 2\n",
    "        tmp = obj\n",
    "    end \n",
    "end \n",
    "tmp"
   ]
  },
  {
   "cell_type": "code",
   "execution_count": 38,
   "metadata": {},
   "outputs": [
    {
     "data": {
      "text/plain": [
       "Dict{String, String} with 4 entries:\n",
       "  \"extra\"    => \"rapid\"\n",
       "  \"contents\" => \"pot\"\n",
       "  \"to\"       => \"Derek\"\n",
       "  \"from\"     => \"Eric\""
      ]
     },
     "metadata": {},
     "output_type": "display_data"
    }
   ],
   "source": [
    "dict_tmp = Dict(\"to\" => \"Derek\", \"from\" => \"Eric\", \"contents\" => \"pot\", \"extra\" => \"rapid\")"
   ]
  },
  {
   "cell_type": "code",
   "execution_count": 39,
   "metadata": {},
   "outputs": [
    {
     "data": {
      "text/plain": [
       "Mongoc.BSON with 4 entries:\n",
       "  \"extra\"    => \"rapid\"\n",
       "  \"contents\" => \"pot\"\n",
       "  \"to\"       => \"Derek\"\n",
       "  \"from\"     => \"Eric\""
      ]
     },
     "metadata": {},
     "output_type": "display_data"
    }
   ],
   "source": [
    "document_tmp = Mongoc.BSON(dict_tmp)"
   ]
  },
  {
   "cell_type": "code",
   "execution_count": 40,
   "metadata": {},
   "outputs": [
    {
     "data": {
      "text/plain": [
       "Mongoc.InsertOneResult{Mongoc.BSONObjectId}(BSON(\"{ \"insertedCount\" : 1, \"insertedId\" : { \"$oid\" : \"67ed828da803a3aa440f3845\" } }\"), BSONObjectId(\"67ed828da803a3aa440f3845\"))"
      ]
     },
     "metadata": {},
     "output_type": "display_data"
    }
   ],
   "source": [
    "result = push!( collection_1_DB1 , document_tmp ) #push this document to the collection"
   ]
  },
  {
   "cell_type": "code",
   "execution_count": 42,
   "metadata": {},
   "outputs": [
    {
     "name": "stdout",
     "output_type": "stream",
     "text": [
      "BSON(\"{ \"_id\" : { \"$oid\" : \"67ed80e3a803a3aa440f3844\" }, \"to\" : \"Alex\", \"from\" : \"Bob\", \"contents\" : [ \"book\", \"pen\", \"picture\" ], \"weight\" : 1.6499999999999999112 }\")\n",
      "BSON(\"{ \"_id\" : { \"$binary\" : { \"base64\" : \"tPAvlNYZS9edUfsQuC8Xlw==\", \"subType\" : \"04\" } }, \"to\" : \"Alex\", \"from\" : \"Bob\", \"contents\" : [ \"unkown\" ], \"weight\" : 0.5 }\")\n",
      "BSON(\"{ \"_id\" : \"123\", \"to\" : \"Alex\", \"from\" : \"Bob\", \"contents\" : [ \"unkown\" ], \"weight\" : 0.5 }\")\n",
      "BSON(\"{ \"_id\" : { \"$oid\" : \"67ed828da803a3aa440f3845\" }, \"extra\" : \"rapid\", \"contents\" : \"pot\", \"to\" : \"Derek\", \"from\" : \"Eric\" }\")\n"
     ]
    }
   ],
   "source": [
    "for document in collection_1_DB1\n",
    "    println(document)\n",
    "end"
   ]
  },
  {
   "cell_type": "code",
   "execution_count": null,
   "metadata": {},
   "outputs": [
    {
     "name": "stdout",
     "output_type": "stream",
     "text": [
      "a index == 1\n",
      "beee index == 2\n",
      "ceee index == 3\n",
      "dee index == 4\n"
     ]
    }
   ],
   "source": [
    "ii = 1\n",
    "for temp in [\"a\",\"beee\", \"ceee\", \"dee\"]\n",
    "\n",
    "    println(temp, \" index == $ii\")\n",
    "    ii += 1\n",
    "end"
   ]
  },
  {
   "cell_type": "code",
   "execution_count": 56,
   "metadata": {},
   "outputs": [
    {
     "name": "stdout",
     "output_type": "stream",
     "text": [
      "a index == 1\n",
      "beee index == 2\n",
      "ceee index == 3\n",
      "dee index == 4\n"
     ]
    }
   ],
   "source": [
    "for (ii,temp) in enumerate([\"a\",\"beee\", \"ceee\", \"dee\"])\n",
    "\n",
    "    println(temp, \" index == $ii\")\n",
    "end"
   ]
  },
  {
   "cell_type": "code",
   "execution_count": 57,
   "metadata": {},
   "outputs": [
    {
     "name": "stdout",
     "output_type": "stream",
     "text": [
      "a index == 1\n",
      "beee index == 2\n",
      "ceee index == 3\n",
      "dee index == 4\n"
     ]
    }
   ],
   "source": [
    "for (ii,temp) in [(1,\"a\"),(2,\"beee\"), (3,\"ceee\"), (4,\"dee\")]\n",
    "\n",
    "    println(temp, \" index == $ii\")\n",
    "end"
   ]
  },
  {
   "cell_type": "code",
   "execution_count": 47,
   "metadata": {},
   "outputs": [
    {
     "data": {
      "text/plain": [
       "Dict{Any, Any} with 4 entries:\n",
       "  4 => Dict{String, Any}(\"_id\"=>BSONObjectId(\"67ed828da803a3aa440f3845\"), \"extr…\n",
       "  2 => Dict{String, Any}(\"weight\"=>0.5, \"_id\"=>UUID(\"b4f02f94-d619-4bd7-9d51-fb…\n",
       "  3 => Dict{String, Any}(\"weight\"=>0.5, \"_id\"=>\"123\", \"contents\"=>Any[\"unkown\"]…\n",
       "  1 => Dict{String, Any}(\"weight\"=>1.65, \"_id\"=>BSONObjectId(\"67ed80e3a803a3aa4…"
      ]
     },
     "metadata": {},
     "output_type": "display_data"
    }
   ],
   "source": [
    "dictionary_tmp = Dict()\n",
    "\n",
    "for (index,document) in enumerate(collection_1_DB1)\n",
    "    dictionary_tmp[index] = Mongoc.as_dict(document)\n",
    "    \n",
    "end\n",
    "\n",
    "dictionary_tmp"
   ]
  },
  {
   "cell_type": "code",
   "execution_count": 48,
   "metadata": {},
   "outputs": [
    {
     "name": "stdout",
     "output_type": "stream",
     "text": [
      "to:Alex from:Bob has no key extra\n",
      "to:Alex from:Bob has no key extra\n",
      "to:Alex from:Bob has no key extra\n",
      "rapid\n"
     ]
    }
   ],
   "source": [
    "for document in collection_1_DB1\n",
    "    try\n",
    "        println( document[\"extra\"] )\n",
    "    catch \n",
    "        println(\"to:$(document[\"to\"]) from:$(document[\"from\"]) has no key extra\")\n",
    "    end\n",
    "end"
   ]
  },
  {
   "cell_type": "code",
   "execution_count": null,
   "metadata": {},
   "outputs": [],
   "source": []
  },
  {
   "cell_type": "code",
   "execution_count": 31,
   "metadata": {},
   "outputs": [
    {
     "data": {
      "text/plain": [
       "Mongoc.BSON with 5 entries:\n",
       "  \"_id\"      => BSONObjectId(\"64349bbc8630a33bad5c5974\")\n",
       "  \"extra\"    => \"rapid\"\n",
       "  \"contents\" => \"pot\"\n",
       "  \"to\"       => \"Derek\"\n",
       "  \"from\"     => \"Eric\""
      ]
     },
     "execution_count": 31,
     "metadata": {},
     "output_type": "execute_result"
    }
   ],
   "source": [
    "document_found = Mongoc.find_one( collection_1_DB1 , Mongoc.BSON(\"\"\"{\"extra\": \"rapid\"}\"\"\") )"
   ]
  },
  {
   "cell_type": "code",
   "execution_count": 33,
   "metadata": {},
   "outputs": [
    {
     "data": {
      "text/plain": [
       "3-element Vector{Mongoc.BSON}:\n",
       " BSON(\"{ \"_id\" : { \"$oid\" : \"64349b128630a33bad5c5973\" }, \"to\" : \"Alex\", \"from\" : \"Bob\", \"contents\" : [ \"book\", \"pen\", \"picture\" ], \"weight\" : 1.6499999999999999112 }\")\n",
       " BSON(\"{ \"_id\" : { \"$binary\" : { \"base64\" : \"Fxfq/U59MJnoRFvyK/lgqw==\", \"subType\" : \"04\" } }, \"to\" : \"Alex\", \"from\" : \"Bob\", \"contents\" : [ \"unkown\" ], \"weight\" : 0.5 }\")\n",
       " BSON(\"{ \"_id\" : \"123\", \"to\" : \"Alex\", \"from\" : \"Bob\", \"contents\" : [ \"unkown\" ], \"weight\" : 0.5 }\")"
      ]
     },
     "execution_count": 33,
     "metadata": {},
     "output_type": "execute_result"
    }
   ],
   "source": [
    "documents_found = Mongoc.find( collection_1_DB1 , Mongoc.BSON(\"\"\"{\"from\": \"Bob\"}\"\"\") )\n",
    "collect( documents_found )"
   ]
  },
  {
   "cell_type": "code",
   "execution_count": 34,
   "metadata": {},
   "outputs": [
    {
     "data": {
      "text/plain": [
       "1-element Vector{Mongoc.BSON}:\n",
       " BSON(\"{ \"_id\" : { \"$oid\" : \"64349b128630a33bad5c5973\" }, \"to\" : \"Alex\", \"from\" : \"Bob\", \"contents\" : [ \"book\", \"pen\", \"picture\" ], \"weight\" : 1.6499999999999999112 }\")"
      ]
     },
     "execution_count": 34,
     "metadata": {},
     "output_type": "execute_result"
    }
   ],
   "source": [
    "documents_found = Mongoc.find( collection_1_DB1 , Mongoc.BSON(\"\"\"{\"from\": \"Bob\", \"weight\":{\"\\$gt\":1} }\"\"\") )\n",
    "collect( documents_found )"
   ]
  },
  {
   "cell_type": "code",
   "execution_count": 35,
   "metadata": {},
   "outputs": [
    {
     "data": {
      "text/plain": [
       "2-element Vector{Mongoc.BSON}:\n",
       " BSON(\"{ \"_id\" : { \"$binary\" : { \"base64\" : \"Fxfq/U59MJnoRFvyK/lgqw==\", \"subType\" : \"04\" } }, \"to\" : \"Alex\", \"from\" : \"Bob\", \"contents\" : [ \"unkown\" ], \"weight\" : 0.5 }\")\n",
       " BSON(\"{ \"_id\" : \"123\", \"to\" : \"Alex\", \"from\" : \"Bob\", \"contents\" : [ \"unkown\" ], \"weight\" : 0.5 }\")"
      ]
     },
     "execution_count": 35,
     "metadata": {},
     "output_type": "execute_result"
    }
   ],
   "source": [
    "documents_found = Mongoc.find( collection_1_DB1 , Mongoc.BSON(\"\"\"{\"from\": \"Bob\", \"weight\":{\"\\$lt\":1} }\"\"\") )\n",
    "collect( documents_found )"
   ]
  },
  {
   "cell_type": "code",
   "execution_count": 36,
   "metadata": {},
   "outputs": [
    {
     "data": {
      "text/plain": [
       "3-element Vector{Mongoc.BSON}:\n",
       " BSON(\"{ \"_id\" : { \"$oid\" : \"64349b128630a33bad5c5973\" }, \"to\" : \"Alex\", \"weight\" : 1.6499999999999999112 }\")\n",
       " BSON(\"{ \"_id\" : { \"$binary\" : { \"base64\" : \"Fxfq/U59MJnoRFvyK/lgqw==\", \"subType\" : \"04\" } }, \"to\" : \"Alex\", \"weight\" : 0.5 }\")\n",
       " BSON(\"{ \"_id\" : \"123\", \"to\" : \"Alex\", \"weight\" : 0.5 }\")"
      ]
     },
     "execution_count": 36,
     "metadata": {},
     "output_type": "execute_result"
    }
   ],
   "source": [
    "bson_options = Mongoc.BSON(\"\"\"{ \"projection\" : { \"to\" : true, \"weight\" : true }, \"sort\" : { \"weight\" : -1 } }\"\"\")\n",
    "documents_found = Mongoc.find( collection_1_DB1 , Mongoc.BSON(\"\"\"{\"from\": \"Bob\"}\"\"\") , options=bson_options )\n",
    "collect( documents_found )"
   ]
  },
  {
   "cell_type": "code",
   "execution_count": null,
   "metadata": {},
   "outputs": [],
   "source": []
  },
  {
   "cell_type": "code",
   "execution_count": 60,
   "metadata": {},
   "outputs": [
    {
     "data": {
      "text/plain": [
       "Mongoc.BSON with 2 entries:\n",
       "  \"0\" => Dict{String, Any}(\"\\$match\"=>Dict{String, Any}(\"weight\"=>Dict{String, …\n",
       "  \"1\" => Dict{String, Any}(\"\\$group\"=>Dict{String, Any}(\"_id\"=>\"\\$to\", \"total\"=…"
      ]
     },
     "metadata": {},
     "output_type": "display_data"
    }
   ],
   "source": [
    "bson_pipeline = Mongoc.BSON(\"\"\"\n",
    "    [\n",
    "        { \"\\$match\" : { \"weight\" : {\"\\$gt\":0} } },\n",
    "        { \"\\$group\" : { \"_id\" : \"\\$to\", \"total\" : { \"\\$sum\" : \"\\$weight\" } } }\n",
    "    ]\n",
    "\"\"\")"
   ]
  },
  {
   "cell_type": "code",
   "execution_count": 61,
   "metadata": {},
   "outputs": [
    {
     "name": "stdout",
     "output_type": "stream",
     "text": [
      "BSON(\"{ \"_id\" : \"Alex\", \"total\" : 2.6499999999999999112 }\")\n"
     ]
    }
   ],
   "source": [
    "for doc in Mongoc.aggregate(collection_1_DB1, bson_pipeline)\n",
    "  println(doc)\n",
    "end"
   ]
  },
  {
   "cell_type": "code",
   "execution_count": 58,
   "metadata": {},
   "outputs": [
    {
     "data": {
      "text/plain": [
       "Mongoc.BSON with 2 entries:\n",
       "  \"0\" => Dict{String, Any}(\"\\$match\"=>Dict{String, Any}(\"extra\"=>Dict{String, A…\n",
       "  \"1\" => Dict{String, Any}(\"\\$group\"=>Dict{String, Any}(\"_id\"=>nothing, \"count\"…"
      ]
     },
     "metadata": {},
     "output_type": "display_data"
    }
   ],
   "source": [
    "bson_pipeline = Mongoc.BSON(\"\"\"\n",
    "    [\n",
    "        { \"\\$match\" : { \"extra\": { \"\\$exists\": false } } },\n",
    "        { \"\\$group\" : { \"_id\" : null , \"count\" : { \"\\$sum\" : 1 } } }\n",
    "    ]\n",
    "\"\"\")"
   ]
  },
  {
   "cell_type": "code",
   "execution_count": 59,
   "metadata": {},
   "outputs": [
    {
     "name": "stdout",
     "output_type": "stream",
     "text": [
      "BSON(\"{ \"_id\" : null, \"count\" : 3 }\")\n"
     ]
    }
   ],
   "source": [
    "for doc in Mongoc.aggregate(collection_1_DB1, bson_pipeline)\n",
    "  println(doc)\n",
    "end"
   ]
  },
  {
   "cell_type": "code",
   "execution_count": 43,
   "metadata": {},
   "outputs": [],
   "source": [
    "#find and modify"
   ]
  },
  {
   "cell_type": "code",
   "execution_count": 62,
   "metadata": {},
   "outputs": [
    {
     "data": {
      "text/plain": [
       "Mongoc.BSON with 1 entry:\n",
       "  \"extra\" => \"rapid\""
      ]
     },
     "metadata": {},
     "output_type": "display_data"
    }
   ],
   "source": [
    "query = Mongoc.BSON(\"extra\" => \"rapid\")"
   ]
  },
  {
   "cell_type": "code",
   "execution_count": 63,
   "metadata": {},
   "outputs": [
    {
     "data": {
      "text/plain": [
       "Mongoc.BSON with 3 entries:\n",
       "  \"lastErrorObject\" => Dict{String, Any}(\"updatedExisting\"=>true, \"n\"=>1)\n",
       "  \"value\"           => Dict{String, Any}(\"_id\"=>BSONObjectId(\"67ed828da803a3aa4…\n",
       "  \"ok\"              => 1.0"
      ]
     },
     "metadata": {},
     "output_type": "display_data"
    }
   ],
   "source": [
    "res = Mongoc.find_and_modify(\n",
    "    collection_1_DB1,\n",
    "    query,\n",
    "    update = Mongoc.BSON(\"\"\"{ \"\\$set\" : { \"rapid\" : \"1 day delivery\", \"include air\" : true } }\"\"\"),\n",
    "    flags = Mongoc.FIND_AND_MODIFY_FLAG_RETURN_NEW # will return the new version of the document\n",
    ")"
   ]
  },
  {
   "cell_type": "code",
   "execution_count": 46,
   "metadata": {},
   "outputs": [
    {
     "data": {
      "text/plain": [
       "Mongoc.BSON with 3 entries:\n",
       "  \"lastErrorObject\" => Dict{String, Any}(\"updatedExisting\"=>true, \"n\"=>1)\n",
       "  \"value\"           => Dict{String, Any}(\"_id\"=>BSONObjectId(\"64349bbc8630a33ba…\n",
       "  \"ok\"              => 1.0"
      ]
     },
     "execution_count": 46,
     "metadata": {},
     "output_type": "execute_result"
    }
   ],
   "source": [
    "res"
   ]
  },
  {
   "cell_type": "code",
   "execution_count": 48,
   "metadata": {},
   "outputs": [
    {
     "name": "stdout",
     "output_type": "stream",
     "text": [
      "BSON(\"{ \"_id\" : { \"$oid\" : \"64349b128630a33bad5c5973\" }, \"to\" : \"Alex\", \"from\" : \"Bob\", \"contents\" : [ \"book\", \"pen\", \"picture\" ], \"weight\" : 1.6499999999999999112 }\")\n",
      "BSON(\"{ \"_id\" : { \"$binary\" : { \"base64\" : \"Fxfq/U59MJnoRFvyK/lgqw==\", \"subType\" : \"04\" } }, \"to\" : \"Alex\", \"from\" : \"Bob\", \"contents\" : [ \"unkown\" ], \"weight\" : 0.5 }\")\n",
      "BSON(\"{ \"_id\" : \"123\", \"to\" : \"Alex\", \"from\" : \"Bob\", \"contents\" : [ \"unkown\" ], \"weight\" : 0.5 }\")\n",
      "BSON(\"{ \"_id\" : { \"$oid\" : \"64349bbc8630a33bad5c5974\" }, \"extra\" : \"rapid\", \"contents\" : \"pot\", \"to\" : \"Derek\", \"from\" : \"Eric\", \"include air\" : true, \"rapid\" : \"1 day delivery\" }\")\n"
     ]
    }
   ],
   "source": [
    "for doc in collection_1_DB1\n",
    "  println(doc)\n",
    "end"
   ]
  },
  {
   "cell_type": "code",
   "execution_count": null,
   "metadata": {},
   "outputs": [],
   "source": []
  },
  {
   "cell_type": "code",
   "execution_count": null,
   "metadata": {},
   "outputs": [],
   "source": []
  },
  {
   "cell_type": "code",
   "execution_count": null,
   "metadata": {},
   "outputs": [],
   "source": []
  },
  {
   "cell_type": "code",
   "execution_count": null,
   "metadata": {},
   "outputs": [],
   "source": []
  },
  {
   "cell_type": "code",
   "execution_count": null,
   "metadata": {},
   "outputs": [],
   "source": []
  },
  {
   "cell_type": "markdown",
   "metadata": {},
   "source": [
    "### read data from file "
   ]
  },
  {
   "cell_type": "code",
   "execution_count": 64,
   "metadata": {},
   "outputs": [
    {
     "data": {
      "text/plain": [
       "1-element Vector{Mongoc.BSON}:\n",
       " BSON(\"{ \"0\" : { \"to\" : \"Alex\", \"from\" : \"Zach\", \"weight\" : 2.1000000000000000888 }, \"1\" : { \"to\" : \"Zach\", \"from\" : \"Bob\", \"weight\" : 1.2099999999999999645, \"extra\" : \"rapid\" }, \"2\" : { \"to\" : \"Eric\", \"from\" : \"Cat\", \"weight\" : 0.5, \"type\" : \"letter\" }, \"3\" : { \"to\" : \"Alex\", \"from\" : \"unknown\", \"weight\" : 12.300000000000000711 } }\")"
      ]
     },
     "metadata": {},
     "output_type": "display_data"
    }
   ],
   "source": [
    "readJSON1 = Mongoc.read_bson_from_json(\"testJSON1.json\")"
   ]
  },
  {
   "cell_type": "code",
   "execution_count": 65,
   "metadata": {},
   "outputs": [
    {
     "data": {
      "text/plain": [
       "Mongoc.BSON with 4 entries:\n",
       "  \"0\" => Dict{String, Any}(\"weight\"=>2.1, \"to\"=>\"Alex\", \"from\"=>\"Zach\")\n",
       "  \"1\" => Dict{String, Any}(\"weight\"=>1.21, \"extra\"=>\"rapid\", \"to\"=>\"Zach\", \"fro…\n",
       "  \"2\" => Dict{String, Any}(\"weight\"=>0.5, \"to\"=>\"Eric\", \"from\"=>\"Cat\", \"type\"=>…\n",
       "  \"3\" => Dict{String, Any}(\"weight\"=>12.3, \"to\"=>\"Alex\", \"from\"=>\"unknown\")"
      ]
     },
     "metadata": {},
     "output_type": "display_data"
    }
   ],
   "source": [
    "readJSON1[1]"
   ]
  },
  {
   "cell_type": "code",
   "execution_count": 66,
   "metadata": {},
   "outputs": [
    {
     "data": {
      "text/plain": [
       "Dict{String, Any} with 3 entries:\n",
       "  \"weight\" => 12.3\n",
       "  \"to\"     => \"Alex\"\n",
       "  \"from\"   => \"unknown\""
      ]
     },
     "metadata": {},
     "output_type": "display_data"
    }
   ],
   "source": [
    "readJSON1[1][\"3\"]"
   ]
  },
  {
   "cell_type": "code",
   "execution_count": 67,
   "metadata": {},
   "outputs": [
    {
     "data": {
      "text/plain": [
       "2-element Vector{Mongoc.BSON}:\n",
       " BSON(\"{ \"to\" : \"Alex\", \"from\" : \"Zach\", \"weight\" : 2.1000000000000000888, \"to\" : \"Zach\", \"from\" : \"Bob\", \"weight\" : 1.2099999999999999645, \"extra\" : \"rapid\", \"to\" : \"Eric\", \"from\" : \"Cat\", \"weight\" : 0.5, \"type\" : \"letter\" }\")\n",
       " BSON(\"{ \"to\" : \"Alex\", \"from\" : \"unknown\", \"weight\" : 12.300000000000000711 }\")"
      ]
     },
     "metadata": {},
     "output_type": "display_data"
    }
   ],
   "source": [
    "#this json file has strange formatting in that there are multiple objects in the file\n",
    "readJSON2 = Mongoc.read_bson_from_json(\"testJSON2.json\")"
   ]
  },
  {
   "cell_type": "code",
   "execution_count": 53,
   "metadata": {},
   "outputs": [
    {
     "data": {
      "text/plain": [
       "Mongoc.BSON with 4 entries:\n",
       "  \"to\"     => \"Zach\"\n",
       "  \"from\"   => \"Bob\"\n",
       "  \"weight\" => 1.21\n",
       "  \"extra\"  => \"rapid\""
      ]
     },
     "execution_count": 53,
     "metadata": {},
     "output_type": "execute_result"
    }
   ],
   "source": [
    "readJSON2[2]"
   ]
  },
  {
   "cell_type": "code",
   "execution_count": 54,
   "metadata": {},
   "outputs": [
    {
     "data": {
      "text/plain": [
       "Dict{String, Any} with 4 entries:\n",
       "  \"weight\" => 1.21\n",
       "  \"extra\"  => \"rapid\"\n",
       "  \"to\"     => \"Zach\"\n",
       "  \"from\"   => \"Bob\""
      ]
     },
     "execution_count": 54,
     "metadata": {},
     "output_type": "execute_result"
    }
   ],
   "source": [
    " Mongoc.as_dict( readJSON2[2] )"
   ]
  },
  {
   "cell_type": "code",
   "execution_count": null,
   "metadata": {},
   "outputs": [],
   "source": []
  },
  {
   "cell_type": "code",
   "execution_count": null,
   "metadata": {},
   "outputs": [],
   "source": []
  },
  {
   "cell_type": "code",
   "execution_count": null,
   "metadata": {},
   "outputs": [],
   "source": []
  },
  {
   "cell_type": "code",
   "execution_count": null,
   "metadata": {},
   "outputs": [],
   "source": []
  },
  {
   "cell_type": "code",
   "execution_count": null,
   "metadata": {},
   "outputs": [],
   "source": []
  },
  {
   "cell_type": "code",
   "execution_count": null,
   "metadata": {},
   "outputs": [],
   "source": []
  }
 ],
 "metadata": {
  "kernelspec": {
   "display_name": "Julia 1.11.1",
   "language": "julia",
   "name": "julia-1.11"
  },
  "language_info": {
   "file_extension": ".jl",
   "mimetype": "application/julia",
   "name": "julia",
   "version": "1.11.1"
  }
 },
 "nbformat": 4,
 "nbformat_minor": 4
}
