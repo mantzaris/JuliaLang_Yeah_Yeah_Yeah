{
 "cells": [
  {
   "cell_type": "code",
   "execution_count": 2,
   "metadata": {},
   "outputs": [],
   "source": [
    "using Mongoc"
   ]
  },
  {
   "cell_type": "code",
   "execution_count": 19,
   "metadata": {},
   "outputs": [],
   "source": [
    "using UUIDs"
   ]
  },
  {
   "cell_type": "code",
   "execution_count": 3,
   "metadata": {},
   "outputs": [],
   "source": [
    "# a MongoDB instance should be running on the default host and port: localhost:27017"
   ]
  },
  {
   "cell_type": "markdown",
   "metadata": {},
   "source": [
    "###  wget -qO - https://www.mongodb.org/static/pgp/server-6.0.asc | sudo apt-key add - \n",
    "### sudo apt-get install gnupg \n",
    "### wget -qO - https://www.mongodb.org/static/pgp/server-6.0.asc | sudo apt-key add - \n",
    "### lsb_release -dc\n",
    "### echo \"deb [ arch=amd64,arm64 ] https://repo.mongodb.org/apt/ubuntu focal/mongodb-org/6.0 multiverse\" | sudo tee /etc/apt/sources.list.d/mongodb-org-6.0.list \n",
    "### sudo apt-get update\n",
    "### sudo apt-get install -y mongodb-org\n",
    "### \n",
    "### sudo systemctl start mongod\n",
    "### sudo systemctl status mongod\n",
    "### (to start from boot) sudo systemctl enable mongod \n",
    "### sudo systemctl stop mongodb "
   ]
  },
  {
   "cell_type": "code",
   "execution_count": null,
   "metadata": {},
   "outputs": [],
   "source": []
  },
  {
   "cell_type": "code",
   "execution_count": 6,
   "metadata": {},
   "outputs": [
    {
     "data": {
      "text/plain": [
       "Client(URI(\"mongodb://localhost:27017\"))"
      ]
     },
     "execution_count": 6,
     "metadata": {},
     "output_type": "execute_result"
    }
   ],
   "source": [
    "client = Mongoc.Client(\"localhost\", 27017)"
   ]
  },
  {
   "cell_type": "code",
   "execution_count": 7,
   "metadata": {},
   "outputs": [
    {
     "data": {
      "text/plain": [
       "Client(URI(\"mongodb://localhost:27017\"))"
      ]
     },
     "execution_count": 7,
     "metadata": {},
     "output_type": "execute_result"
    }
   ],
   "source": [
    "client = Mongoc.Client() #uses the default which is localhost at port 27017"
   ]
  },
  {
   "cell_type": "code",
   "execution_count": 8,
   "metadata": {},
   "outputs": [
    {
     "data": {
      "text/plain": [
       "Mongoc.BSON with 1 entry:\n",
       "  \"ok\" => 1.0"
      ]
     },
     "execution_count": 8,
     "metadata": {},
     "output_type": "execute_result"
    }
   ],
   "source": [
    "#check connection\n",
    "Mongoc.ping(client)"
   ]
  },
  {
   "cell_type": "code",
   "execution_count": 10,
   "metadata": {},
   "outputs": [
    {
     "data": {
      "text/plain": [
       "Database(Client(URI(\"mongodb://localhost:27017\")), \"testDB1\")"
      ]
     },
     "execution_count": 10,
     "metadata": {},
     "output_type": "execute_result"
    }
   ],
   "source": [
    "testDB1 = client[\"testDB1\"] #mongo can hold 'multiple databases'"
   ]
  },
  {
   "cell_type": "code",
   "execution_count": 12,
   "metadata": {},
   "outputs": [
    {
     "data": {
      "text/plain": [
       "Collection(Database(Client(URI(\"mongodb://localhost:27017\")), \"testDB1\"), \"collection1\")"
      ]
     },
     "execution_count": 12,
     "metadata": {},
     "output_type": "execute_result"
    }
   ],
   "source": [
    "collection_1_DB1 = testDB1[\"collection1\"] #get a 'collection' from mongo, which is kinda like a 'table' in sql holding documents/records"
   ]
  },
  {
   "cell_type": "code",
   "execution_count": 27,
   "metadata": {},
   "outputs": [
    {
     "data": {
      "text/plain": [
       "BSON(\"{ }\")"
      ]
     },
     "execution_count": 27,
     "metadata": {},
     "output_type": "execute_result"
    }
   ],
   "source": [
    "document1 = Mongoc.BSON() #set up an empty document"
   ]
  },
  {
   "cell_type": "code",
   "execution_count": 28,
   "metadata": {},
   "outputs": [
    {
     "data": {
      "text/plain": [
       "Mongoc.BSON with 4 entries:\n",
       "  \"to\"       => \"Alex\"\n",
       "  \"from\"     => \"Bob\"\n",
       "  \"contents\" => Any[\"book\", \"pen\", \"picture\"]\n",
       "  \"weight\"   => 1.65"
      ]
     },
     "execution_count": 28,
     "metadata": {},
     "output_type": "execute_result"
    }
   ],
   "source": [
    "document1[\"to\"] = \"Alex\"\n",
    "document1[\"from\"] = \"Bob\"\n",
    "document1[\"contents\"] = [\"book\",\"pen\",\"picture\"]\n",
    "document1[\"weight\"] = 1.65\n",
    "document1"
   ]
  },
  {
   "cell_type": "code",
   "execution_count": 29,
   "metadata": {},
   "outputs": [
    {
     "data": {
      "text/plain": [
       "Mongoc.InsertOneResult{Mongoc.BSONObjectId}(BSON(\"{ \"insertedCount\" : 1 }\"), BSONObjectId(\"643420633b80d36c2e4718e4\"))"
      ]
     },
     "execution_count": 29,
     "metadata": {},
     "output_type": "execute_result"
    }
   ],
   "source": [
    "result = push!( collection_1_DB1 , document1 ) #push this document to the collection"
   ]
  },
  {
   "cell_type": "code",
   "execution_count": 30,
   "metadata": {},
   "outputs": [
    {
     "name": "stdout",
     "output_type": "stream",
     "text": [
      "BSON(\"{ \"_id\" : { \"$oid\" : \"643420633b80d36c2e4718e4\" }, \"to\" : \"Alex\", \"from\" : \"Bob\", \"contents\" : [ \"book\", \"pen\", \"picture\" ], \"weight\" : 1.6499999999999999112 }\")\n"
     ]
    }
   ],
   "source": [
    "#current contents of the collection in the database\n",
    "#notice the new field name \"_id\" which is an object { \"$oid\" : \"643420633b80d36c2e4718e4\" } that uniquely identifies the document in the collection\n",
    "for document in collection_1_DB1\n",
    "    println(document)\n",
    "end"
   ]
  },
  {
   "cell_type": "code",
   "execution_count": 34,
   "metadata": {},
   "outputs": [
    {
     "data": {
      "text/plain": [
       "Mongoc.BSON with 5 entries:\n",
       "  \"to\"       => \"Alex\"\n",
       "  \"from\"     => \"Bob\"\n",
       "  \"contents\" => Any[\"unkown\"]\n",
       "  \"weight\"   => 0.5\n",
       "  \"_id\"      => UUID(\"a4259671-5e87-4f55-b698-0f3d2a2c7f3b\")"
      ]
     },
     "execution_count": 34,
     "metadata": {},
     "output_type": "execute_result"
    }
   ],
   "source": [
    "document2 = Mongoc.BSON() #set up an empty document\n",
    "document2[\"to\"] = \"Alex\"\n",
    "document2[\"from\"] = \"Bob\"\n",
    "document2[\"contents\"] = [\"unkown\"]\n",
    "document2[\"weight\"] = 0.5\n",
    "document2[\"_id\"] = uuid4() #we can set the id field ourselves\n",
    "document2"
   ]
  },
  {
   "cell_type": "code",
   "execution_count": 35,
   "metadata": {},
   "outputs": [
    {
     "data": {
      "text/plain": [
       "Mongoc.InsertOneResult{Nothing}(BSON(\"{ \"insertedCount\" : 1 }\"), nothing)"
      ]
     },
     "execution_count": 35,
     "metadata": {},
     "output_type": "execute_result"
    }
   ],
   "source": [
    "result = push!( collection_1_DB1 , document2 ) #push this document to the collection"
   ]
  },
  {
   "cell_type": "code",
   "execution_count": 36,
   "metadata": {},
   "outputs": [
    {
     "name": "stdout",
     "output_type": "stream",
     "text": [
      "BSON(\"{ \"_id\" : { \"$oid\" : \"643420633b80d36c2e4718e4\" }, \"to\" : \"Alex\", \"from\" : \"Bob\", \"contents\" : [ \"book\", \"pen\", \"picture\" ], \"weight\" : 1.6499999999999999112 }\")\n",
      "BSON(\"{ \"_id\" : { \"$oid\" : \"6434226f3b80d36c2e4718e5\" }, \"to\" : \"Alex\", \"from\" : \"Bob\", \"contents\" : [ \"unkown\" ], \"weight\" : 0.5, \"id\" : { \"$binary\" : { \"base64\" : \"oEb401jSSIJ1QNOANf7Thg==\", \"subType\" : \"04\" } } }\")\n",
      "BSON(\"{ \"_id\" : { \"$binary\" : { \"base64\" : \"O38sKj0PmLZVT4decZYlpA==\", \"subType\" : \"04\" } }, \"to\" : \"Alex\", \"from\" : \"Bob\", \"contents\" : [ \"unkown\" ], \"weight\" : 0.5 }\")\n"
     ]
    }
   ],
   "source": [
    "for document in collection_1_DB1\n",
    "    println(document)\n",
    "end"
   ]
  },
  {
   "cell_type": "code",
   "execution_count": 37,
   "metadata": {},
   "outputs": [
    {
     "data": {
      "text/plain": [
       "Mongoc.BSON with 5 entries:\n",
       "  \"to\"       => \"Alex\"\n",
       "  \"from\"     => \"Bob\"\n",
       "  \"contents\" => Any[\"unkown\"]\n",
       "  \"weight\"   => 0.5\n",
       "  \"_id\"      => \"123\""
      ]
     },
     "execution_count": 37,
     "metadata": {},
     "output_type": "execute_result"
    }
   ],
   "source": [
    "document3 = Mongoc.BSON() #set up an empty document\n",
    "document3[\"to\"] = \"Alex\"\n",
    "document3[\"from\"] = \"Bob\"\n",
    "document3[\"contents\"] = [\"unkown\"]\n",
    "document3[\"weight\"] = 0.5\n",
    "document3[\"_id\"] = \"123\" #we can set the id field ourselves manually although not a good idea\n",
    "document3"
   ]
  },
  {
   "cell_type": "code",
   "execution_count": 39,
   "metadata": {},
   "outputs": [
    {
     "data": {
      "text/plain": [
       "Mongoc.InsertOneResult{Nothing}(BSON(\"{ \"insertedCount\" : 1 }\"), nothing)"
      ]
     },
     "execution_count": 39,
     "metadata": {},
     "output_type": "execute_result"
    }
   ],
   "source": [
    "result = push!( collection_1_DB1 , document3 ) #push this document to the collection"
   ]
  },
  {
   "cell_type": "code",
   "execution_count": 40,
   "metadata": {},
   "outputs": [
    {
     "name": "stdout",
     "output_type": "stream",
     "text": [
      "BSON(\"{ \"_id\" : { \"$oid\" : \"643420633b80d36c2e4718e4\" }, \"to\" : \"Alex\", \"from\" : \"Bob\", \"contents\" : [ \"book\", \"pen\", \"picture\" ], \"weight\" : 1.6499999999999999112 }\")\n",
      "BSON(\"{ \"_id\" : { \"$oid\" : \"6434226f3b80d36c2e4718e5\" }, \"to\" : \"Alex\", \"from\" : \"Bob\", \"contents\" : [ \"unkown\" ], \"weight\" : 0.5, \"id\" : { \"$binary\" : { \"base64\" : \"oEb401jSSIJ1QNOANf7Thg==\", \"subType\" : \"04\" } } }\")\n",
      "BSON(\"{ \"_id\" : { \"$binary\" : { \"base64\" : \"O38sKj0PmLZVT4decZYlpA==\", \"subType\" : \"04\" } }, \"to\" : \"Alex\", \"from\" : \"Bob\", \"contents\" : [ \"unkown\" ], \"weight\" : 0.5 }\")\n",
      "BSON(\"{ \"_id\" : \"123\", \"to\" : \"Alex\", \"from\" : \"Bob\", \"contents\" : [ \"unkown\" ], \"weight\" : 0.5 }\")\n"
     ]
    }
   ],
   "source": [
    "for document in collection_1_DB1\n",
    "    println(document)\n",
    "end"
   ]
  },
  {
   "cell_type": "code",
   "execution_count": 41,
   "metadata": {},
   "outputs": [
    {
     "data": {
      "text/plain": [
       "Dict{String, String} with 4 entries:\n",
       "  \"extra\"    => \"rapid\"\n",
       "  \"contents\" => \"pot\"\n",
       "  \"to\"       => \"Derek\"\n",
       "  \"from\"     => \"Eric\""
      ]
     },
     "execution_count": 41,
     "metadata": {},
     "output_type": "execute_result"
    }
   ],
   "source": [
    "dict_tmp = Dict(\"to\" => \"Derek\", \"from\" => \"Eric\", \"contents\" => \"pot\", \"extra\" => \"rapid\")"
   ]
  },
  {
   "cell_type": "code",
   "execution_count": 42,
   "metadata": {},
   "outputs": [
    {
     "data": {
      "text/plain": [
       "Mongoc.BSON with 4 entries:\n",
       "  \"extra\"    => \"rapid\"\n",
       "  \"contents\" => \"pot\"\n",
       "  \"to\"       => \"Derek\"\n",
       "  \"from\"     => \"Eric\""
      ]
     },
     "execution_count": 42,
     "metadata": {},
     "output_type": "execute_result"
    }
   ],
   "source": [
    "document_tmp = Mongoc.BSON(dict_tmp)"
   ]
  },
  {
   "cell_type": "code",
   "execution_count": 43,
   "metadata": {},
   "outputs": [
    {
     "data": {
      "text/plain": [
       "Mongoc.InsertOneResult{Mongoc.BSONObjectId}(BSON(\"{ \"insertedCount\" : 1 }\"), BSONObjectId(\"643425a83b80d36c2e4718e6\"))"
      ]
     },
     "execution_count": 43,
     "metadata": {},
     "output_type": "execute_result"
    }
   ],
   "source": [
    "result = push!( collection_1_DB1 , document_tmp ) #push this document to the collection"
   ]
  },
  {
   "cell_type": "code",
   "execution_count": 44,
   "metadata": {},
   "outputs": [
    {
     "name": "stdout",
     "output_type": "stream",
     "text": [
      "BSON(\"{ \"_id\" : { \"$oid\" : \"643420633b80d36c2e4718e4\" }, \"to\" : \"Alex\", \"from\" : \"Bob\", \"contents\" : [ \"book\", \"pen\", \"picture\" ], \"weight\" : 1.6499999999999999112 }\")\n",
      "BSON(\"{ \"_id\" : { \"$oid\" : \"6434226f3b80d36c2e4718e5\" }, \"to\" : \"Alex\", \"from\" : \"Bob\", \"contents\" : [ \"unkown\" ], \"weight\" : 0.5, \"id\" : { \"$binary\" : { \"base64\" : \"oEb401jSSIJ1QNOANf7Thg==\", \"subType\" : \"04\" } } }\")\n",
      "BSON(\"{ \"_id\" : { \"$binary\" : { \"base64\" : \"O38sKj0PmLZVT4decZYlpA==\", \"subType\" : \"04\" } }, \"to\" : \"Alex\", \"from\" : \"Bob\", \"contents\" : [ \"unkown\" ], \"weight\" : 0.5 }\")\n",
      "BSON(\"{ \"_id\" : \"123\", \"to\" : \"Alex\", \"from\" : \"Bob\", \"contents\" : [ \"unkown\" ], \"weight\" : 0.5 }\")\n",
      "BSON(\"{ \"_id\" : { \"$oid\" : \"643425a83b80d36c2e4718e6\" }, \"extra\" : \"rapid\", \"contents\" : \"pot\", \"to\" : \"Derek\", \"from\" : \"Eric\" }\")\n"
     ]
    }
   ],
   "source": [
    "for document in collection_1_DB1\n",
    "    println(document)\n",
    "end"
   ]
  },
  {
   "cell_type": "code",
   "execution_count": null,
   "metadata": {},
   "outputs": [],
   "source": []
  },
  {
   "cell_type": "code",
   "execution_count": null,
   "metadata": {},
   "outputs": [],
   "source": [
    "for document in collection_1_DB1\n",
    "    dictionary_tmp = Mongoc.as_dict(document)\n",
    "    \n",
    "end"
   ]
  },
  {
   "cell_type": "code",
   "execution_count": 49,
   "metadata": {},
   "outputs": [
    {
     "name": "stdout",
     "output_type": "stream",
     "text": [
      "to:Alex from:Bob has no key extra\n",
      "to:Alex from:Bob has no key extra\n",
      "to:Alex from:Bob has no key extra\n",
      "to:Alex from:Bob has no key extra\n",
      "rapid\n"
     ]
    }
   ],
   "source": [
    "for document in collection_1_DB1\n",
    "    try\n",
    "        println( document[\"extra\"] )\n",
    "    catch \n",
    "        println(\"to:$(document[\"to\"]) from:$(document[\"from\"]) has no key extra\")\n",
    "    end\n",
    "end"
   ]
  },
  {
   "cell_type": "code",
   "execution_count": null,
   "metadata": {},
   "outputs": [],
   "source": []
  },
  {
   "cell_type": "code",
   "execution_count": 59,
   "metadata": {},
   "outputs": [
    {
     "data": {
      "text/plain": [
       "Mongoc.BSON with 5 entries:\n",
       "  \"_id\"      => BSONObjectId(\"643425a83b80d36c2e4718e6\")\n",
       "  \"extra\"    => \"rapid\"\n",
       "  \"contents\" => \"pot\"\n",
       "  \"to\"       => \"Derek\"\n",
       "  \"from\"     => \"Eric\""
      ]
     },
     "execution_count": 59,
     "metadata": {},
     "output_type": "execute_result"
    }
   ],
   "source": [
    "document_found = Mongoc.find_one( collection_1_DB1 , Mongoc.BSON(\"\"\"{\"extra\": \"rapid\"}\"\"\") )"
   ]
  },
  {
   "cell_type": "code",
   "execution_count": 61,
   "metadata": {},
   "outputs": [
    {
     "data": {
      "text/plain": [
       "4-element Vector{Mongoc.BSON}:\n",
       " BSON(\"{ \"_id\" : { \"$oid\" : \"643420633b80d36c2e4718e4\" }, \"to\" : \"Alex\", \"from\" : \"Bob\", \"contents\" : [ \"book\", \"pen\", \"picture\" ], \"weight\" : 1.6499999999999999112 }\")\n",
       " BSON(\"{ \"_id\" : { \"$oid\" : \"6434226f3b80d36c2e4718e5\" }, \"to\" : \"Alex\", \"from\" : \"Bob\", \"contents\" : [ \"unkown\" ], \"weight\" : 0.5, \"id\" : { \"$binary\" : { \"base64\" : \"oEb401jSSIJ1QNOANf7Thg==\", \"subType\" : \"04\" } } }\")\n",
       " BSON(\"{ \"_id\" : { \"$binary\" : { \"base64\" : \"O38sKj0PmLZVT4decZYlpA==\", \"subType\" : \"04\" } }, \"to\" : \"Alex\", \"from\" : \"Bob\", \"contents\" : [ \"unkown\" ], \"weight\" : 0.5 }\")\n",
       " BSON(\"{ \"_id\" : \"123\", \"to\" : \"Alex\", \"from\" : \"Bob\", \"contents\" : [ \"unkown\" ], \"weight\" : 0.5 }\")"
      ]
     },
     "execution_count": 61,
     "metadata": {},
     "output_type": "execute_result"
    }
   ],
   "source": [
    "documents_found = Mongoc.find( collection_1_DB1 , Mongoc.BSON(\"\"\"{\"from\": \"Bob\"}\"\"\") )\n",
    "collect( documents_found )"
   ]
  },
  {
   "cell_type": "code",
   "execution_count": 75,
   "metadata": {},
   "outputs": [
    {
     "data": {
      "text/plain": [
       "1-element Vector{Mongoc.BSON}:\n",
       " BSON(\"{ \"_id\" : { \"$oid\" : \"643420633b80d36c2e4718e4\" }, \"to\" : \"Alex\", \"from\" : \"Bob\", \"contents\" : [ \"book\", \"pen\", \"picture\" ], \"weight\" : 1.6499999999999999112 }\")"
      ]
     },
     "execution_count": 75,
     "metadata": {},
     "output_type": "execute_result"
    }
   ],
   "source": [
    "documents_found = Mongoc.find( collection_1_DB1 , Mongoc.BSON(\"\"\"{\"from\": \"Bob\", \"weight\":{\"\\$gt\":1} }\"\"\") )\n",
    "collect( documents_found )"
   ]
  },
  {
   "cell_type": "code",
   "execution_count": 76,
   "metadata": {},
   "outputs": [
    {
     "data": {
      "text/plain": [
       "3-element Vector{Mongoc.BSON}:\n",
       " BSON(\"{ \"_id\" : { \"$oid\" : \"6434226f3b80d36c2e4718e5\" }, \"to\" : \"Alex\", \"from\" : \"Bob\", \"contents\" : [ \"unkown\" ], \"weight\" : 0.5, \"id\" : { \"$binary\" : { \"base64\" : \"oEb401jSSIJ1QNOANf7Thg==\", \"subType\" : \"04\" } } }\")\n",
       " BSON(\"{ \"_id\" : { \"$binary\" : { \"base64\" : \"O38sKj0PmLZVT4decZYlpA==\", \"subType\" : \"04\" } }, \"to\" : \"Alex\", \"from\" : \"Bob\", \"contents\" : [ \"unkown\" ], \"weight\" : 0.5 }\")\n",
       " BSON(\"{ \"_id\" : \"123\", \"to\" : \"Alex\", \"from\" : \"Bob\", \"contents\" : [ \"unkown\" ], \"weight\" : 0.5 }\")"
      ]
     },
     "execution_count": 76,
     "metadata": {},
     "output_type": "execute_result"
    }
   ],
   "source": [
    "documents_found = Mongoc.find( collection_1_DB1 , Mongoc.BSON(\"\"\"{\"from\": \"Bob\", \"weight\":{\"\\$lt\":1} }\"\"\") )\n",
    "collect( documents_found )"
   ]
  },
  {
   "cell_type": "code",
   "execution_count": 66,
   "metadata": {},
   "outputs": [
    {
     "data": {
      "text/plain": [
       "4-element Vector{Mongoc.BSON}:\n",
       " BSON(\"{ \"_id\" : { \"$oid\" : \"643420633b80d36c2e4718e4\" }, \"to\" : \"Alex\", \"weight\" : 1.6499999999999999112 }\")\n",
       " BSON(\"{ \"_id\" : { \"$oid\" : \"6434226f3b80d36c2e4718e5\" }, \"to\" : \"Alex\", \"weight\" : 0.5 }\")\n",
       " BSON(\"{ \"_id\" : { \"$binary\" : { \"base64\" : \"O38sKj0PmLZVT4decZYlpA==\", \"subType\" : \"04\" } }, \"to\" : \"Alex\", \"weight\" : 0.5 }\")\n",
       " BSON(\"{ \"_id\" : \"123\", \"to\" : \"Alex\", \"weight\" : 0.5 }\")"
      ]
     },
     "execution_count": 66,
     "metadata": {},
     "output_type": "execute_result"
    }
   ],
   "source": [
    "bson_options = Mongoc.BSON(\"\"\"{ \"projection\" : { \"to\" : true, \"weight\" : true }, \"sort\" : { \"weight\" : -1 } }\"\"\")\n",
    "documents_found = Mongoc.find( collection_1_DB1 , Mongoc.BSON(\"\"\"{\"from\": \"Bob\"}\"\"\") , options=bson_options )\n",
    "collect( documents_found )"
   ]
  },
  {
   "cell_type": "code",
   "execution_count": null,
   "metadata": {},
   "outputs": [],
   "source": []
  },
  {
   "cell_type": "code",
   "execution_count": 81,
   "metadata": {},
   "outputs": [
    {
     "data": {
      "text/plain": [
       "Mongoc.BSON with 2 entries:\n",
       "  \"0\" => Dict{String, Any}(\"\\$match\"=>Dict{String, Any}(\"weight\"=>Dict{String, …\n",
       "  \"1\" => Dict{String, Any}(\"\\$group\"=>Dict{String, Any}(\"_id\"=>\"\\$to\", \"total\"=…"
      ]
     },
     "execution_count": 81,
     "metadata": {},
     "output_type": "execute_result"
    }
   ],
   "source": [
    "bson_pipeline = Mongoc.BSON(\"\"\"\n",
    "    [\n",
    "        { \"\\$match\" : { \"weight\" : {\"\\$gt\":0} } },\n",
    "        { \"\\$group\" : { \"_id\" : \"\\$to\", \"total\" : { \"\\$sum\" : \"\\$weight\" } } }\n",
    "    ]\n",
    "\"\"\")"
   ]
  },
  {
   "cell_type": "code",
   "execution_count": 82,
   "metadata": {},
   "outputs": [
    {
     "name": "stdout",
     "output_type": "stream",
     "text": [
      "BSON(\"{ \"_id\" : \"Alex\", \"total\" : 3.1499999999999999112 }\")\n"
     ]
    }
   ],
   "source": [
    "for doc in Mongoc.aggregate(collection_1_DB1, bson_pipeline)\n",
    "  println(doc)\n",
    "end"
   ]
  },
  {
   "cell_type": "code",
   "execution_count": 95,
   "metadata": {},
   "outputs": [
    {
     "data": {
      "text/plain": [
       "Mongoc.BSON with 2 entries:\n",
       "  \"0\" => Dict{String, Any}(\"\\$match\"=>Dict{String, Any}(\"extra\"=>Dict{String, A…\n",
       "  \"1\" => Dict{String, Any}(\"\\$group\"=>Dict{String, Any}(\"_id\"=>nothing, \"count\"…"
      ]
     },
     "execution_count": 95,
     "metadata": {},
     "output_type": "execute_result"
    }
   ],
   "source": [
    "bson_pipeline = Mongoc.BSON(\"\"\"\n",
    "    [\n",
    "        { \"\\$match\" : { \"extra\": { \"\\$exists\": true } } },\n",
    "        { \"\\$group\" : { \"_id\" : null , \"count\" : { \"\\$sum\" : 1 } } }\n",
    "    ]\n",
    "\"\"\")"
   ]
  },
  {
   "cell_type": "code",
   "execution_count": 96,
   "metadata": {},
   "outputs": [
    {
     "name": "stdout",
     "output_type": "stream",
     "text": [
      "BSON(\"{ \"_id\" : null, \"count\" : 1 }\")\n"
     ]
    }
   ],
   "source": [
    "for doc in Mongoc.aggregate(collection_1_DB1, bson_pipeline)\n",
    "  println(doc)\n",
    "end"
   ]
  },
  {
   "cell_type": "code",
   "execution_count": 97,
   "metadata": {},
   "outputs": [],
   "source": [
    "#find and modify"
   ]
  },
  {
   "cell_type": "code",
   "execution_count": 99,
   "metadata": {},
   "outputs": [
    {
     "data": {
      "text/plain": [
       "Mongoc.BSON with 1 entry:\n",
       "  \"extra\" => \"rapid\""
      ]
     },
     "execution_count": 99,
     "metadata": {},
     "output_type": "execute_result"
    }
   ],
   "source": [
    "query = Mongoc.BSON(\"extra\" => \"rapid\")"
   ]
  },
  {
   "cell_type": "code",
   "execution_count": 101,
   "metadata": {},
   "outputs": [
    {
     "data": {
      "text/plain": [
       "Mongoc.BSON with 3 entries:\n",
       "  \"lastErrorObject\" => Dict{String, Any}(\"updatedExisting\"=>true, \"n\"=>1)\n",
       "  \"value\"           => Dict{String, Any}(\"_id\"=>BSONObjectId(\"643425a83b80d36c2…\n",
       "  \"ok\"              => 1.0"
      ]
     },
     "execution_count": 101,
     "metadata": {},
     "output_type": "execute_result"
    }
   ],
   "source": [
    "res = Mongoc.find_and_modify(\n",
    "    collection_1_DB1,\n",
    "    query,\n",
    "    update = Mongoc.BSON(\"\"\"{ \"\\$set\" : { \"rapid\" : \"1 day delivery\", \"include air\" : true } }\"\"\"),\n",
    "    flags = Mongoc.FIND_AND_MODIFY_FLAG_RETURN_NEW # will return the new version of the document\n",
    ")"
   ]
  },
  {
   "cell_type": "code",
   "execution_count": 102,
   "metadata": {},
   "outputs": [
    {
     "data": {
      "text/plain": [
       "Mongoc.BSON with 3 entries:\n",
       "  \"lastErrorObject\" => Dict{String, Any}(\"updatedExisting\"=>true, \"n\"=>1)\n",
       "  \"value\"           => Dict{String, Any}(\"_id\"=>BSONObjectId(\"643425a83b80d36c2…\n",
       "  \"ok\"              => 1.0"
      ]
     },
     "execution_count": 102,
     "metadata": {},
     "output_type": "execute_result"
    }
   ],
   "source": [
    "res"
   ]
  },
  {
   "cell_type": "code",
   "execution_count": null,
   "metadata": {},
   "outputs": [],
   "source": []
  },
  {
   "cell_type": "code",
   "execution_count": null,
   "metadata": {},
   "outputs": [],
   "source": []
  },
  {
   "cell_type": "code",
   "execution_count": null,
   "metadata": {},
   "outputs": [],
   "source": []
  },
  {
   "cell_type": "code",
   "execution_count": null,
   "metadata": {},
   "outputs": [],
   "source": []
  },
  {
   "cell_type": "code",
   "execution_count": null,
   "metadata": {},
   "outputs": [],
   "source": []
  },
  {
   "cell_type": "code",
   "execution_count": null,
   "metadata": {},
   "outputs": [],
   "source": []
  },
  {
   "cell_type": "markdown",
   "metadata": {},
   "source": [
    "### read data from file "
   ]
  },
  {
   "cell_type": "code",
   "execution_count": 50,
   "metadata": {},
   "outputs": [
    {
     "data": {
      "text/plain": [
       "1-element Vector{Mongoc.BSON}:\n",
       " BSON(\"{ \"0\" : { \"to\" : \"Alex\", \"from\" : \"Zach\", \"weight\" : 2.1000000000000000888 }, \"1\" : { \"to\" : \"Zach\", \"from\" : \"Bob\", \"weight\" : 1.2099999999999999645, \"extra\" : \"rapid\" }, \"2\" : { \"to\" : \"Eric\", \"from\" : \"Cat\", \"weight\" : 0.5, \"type\" : \"letter\" }, \"3\" : { \"to\" : \"Alex\", \"from\" : \"unknown\", \"weight\" : 12.300000000000000711 } }\")"
      ]
     },
     "execution_count": 50,
     "metadata": {},
     "output_type": "execute_result"
    }
   ],
   "source": [
    "readJSON1 = Mongoc.read_bson_from_json(\"testJSON1.json\")"
   ]
  },
  {
   "cell_type": "code",
   "execution_count": 51,
   "metadata": {},
   "outputs": [
    {
     "data": {
      "text/plain": [
       "Mongoc.BSON with 4 entries:\n",
       "  \"0\" => Dict{String, Any}(\"weight\"=>2.1, \"to\"=>\"Alex\", \"from\"=>\"Zach\")\n",
       "  \"1\" => Dict{String, Any}(\"weight\"=>1.21, \"extra\"=>\"rapid\", \"to\"=>\"Zach\", \"fro…\n",
       "  \"2\" => Dict{String, Any}(\"weight\"=>0.5, \"to\"=>\"Eric\", \"from\"=>\"Cat\", \"type\"=>…\n",
       "  \"3\" => Dict{String, Any}(\"weight\"=>12.3, \"to\"=>\"Alex\", \"from\"=>\"unknown\")"
      ]
     },
     "execution_count": 51,
     "metadata": {},
     "output_type": "execute_result"
    }
   ],
   "source": [
    "readJSON1[1]"
   ]
  },
  {
   "cell_type": "code",
   "execution_count": 52,
   "metadata": {},
   "outputs": [
    {
     "data": {
      "text/plain": [
       "Dict{String, Any} with 3 entries:\n",
       "  \"weight\" => 12.3\n",
       "  \"to\"     => \"Alex\"\n",
       "  \"from\"   => \"unknown\""
      ]
     },
     "execution_count": 52,
     "metadata": {},
     "output_type": "execute_result"
    }
   ],
   "source": [
    "readJSON1[1][\"3\"]"
   ]
  },
  {
   "cell_type": "code",
   "execution_count": 56,
   "metadata": {},
   "outputs": [
    {
     "data": {
      "text/plain": [
       "4-element Vector{Mongoc.BSON}:\n",
       " BSON(\"{ \"to\" : \"Alex\", \"from\" : \"Zach\", \"weight\" : 2.1000000000000000888 }\")\n",
       " BSON(\"{ \"to\" : \"Zach\", \"from\" : \"Bob\", \"weight\" : 1.2099999999999999645, \"extra\" : \"rapid\" }\")\n",
       " BSON(\"{ \"to\" : \"Eric\", \"from\" : \"Cat\", \"weight\" : 0.5, \"type\" : \"letter\" }\")\n",
       " BSON(\"{ \"to\" : \"Alex\", \"from\" : \"unknown\", \"weight\" : 12.300000000000000711 }\")"
      ]
     },
     "execution_count": 56,
     "metadata": {},
     "output_type": "execute_result"
    }
   ],
   "source": [
    "#this json file has strange formatting in that there are multiple objects in the file\n",
    "readJSON2 = Mongoc.read_bson_from_json(\"testJSON2.json\")"
   ]
  },
  {
   "cell_type": "code",
   "execution_count": 57,
   "metadata": {},
   "outputs": [
    {
     "data": {
      "text/plain": [
       "Mongoc.BSON with 4 entries:\n",
       "  \"to\"     => \"Zach\"\n",
       "  \"from\"   => \"Bob\"\n",
       "  \"weight\" => 1.21\n",
       "  \"extra\"  => \"rapid\""
      ]
     },
     "execution_count": 57,
     "metadata": {},
     "output_type": "execute_result"
    }
   ],
   "source": [
    "readJSON2[2]"
   ]
  },
  {
   "cell_type": "code",
   "execution_count": 58,
   "metadata": {},
   "outputs": [
    {
     "data": {
      "text/plain": [
       "Dict{String, Any} with 4 entries:\n",
       "  \"weight\" => 1.21\n",
       "  \"extra\"  => \"rapid\"\n",
       "  \"to\"     => \"Zach\"\n",
       "  \"from\"   => \"Bob\""
      ]
     },
     "execution_count": 58,
     "metadata": {},
     "output_type": "execute_result"
    }
   ],
   "source": [
    " Mongoc.as_dict( readJSON2[2] )"
   ]
  },
  {
   "cell_type": "code",
   "execution_count": null,
   "metadata": {},
   "outputs": [],
   "source": []
  },
  {
   "cell_type": "code",
   "execution_count": null,
   "metadata": {},
   "outputs": [],
   "source": []
  },
  {
   "cell_type": "code",
   "execution_count": null,
   "metadata": {},
   "outputs": [],
   "source": []
  },
  {
   "cell_type": "code",
   "execution_count": null,
   "metadata": {},
   "outputs": [],
   "source": []
  },
  {
   "cell_type": "code",
   "execution_count": null,
   "metadata": {},
   "outputs": [],
   "source": []
  },
  {
   "cell_type": "code",
   "execution_count": null,
   "metadata": {},
   "outputs": [],
   "source": []
  }
 ],
 "metadata": {
  "kernelspec": {
   "display_name": "Julia 1.8.2",
   "language": "julia",
   "name": "julia-1.8"
  },
  "language_info": {
   "file_extension": ".jl",
   "mimetype": "application/julia",
   "name": "julia",
   "version": "1.8.2"
  }
 },
 "nbformat": 4,
 "nbformat_minor": 4
}
