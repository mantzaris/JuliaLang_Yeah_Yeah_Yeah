{
 "cells": [
  {
   "cell_type": "markdown",
   "id": "d27beb72-e1d8-4e71-b59c-cf825d33ac39",
   "metadata": {
    "tags": []
   },
   "source": [
    "\n",
    "\n",
    "fft_signal = fft(signal)\n",
    "\n",
    "freq_resolution = fs / length(signal)\n",
    "\n",
    "start_freq = 3000\n",
    "end_freq = 6000\n",
    "start_index = round(Int, start_freq / freq_resolution) + 1\n",
    "end_index = round(Int, end_freq / freq_resolution) + 1\n",
    "\n",
    "fft_signal[start_index:end_index] .= 0\n",
    "\n",
    "fft_signal[end-start_index+2:end-end_index+1] .= 0  # For the complex conjugate part\n",
    "\n",
    "# inverse FFT\n",
    "filtered_signal = real(ifft(fft_signal))\n"
   ]
  },
  {
   "cell_type": "markdown",
   "id": "7c87702d-8c95-43b1-a643-ec9726c29abb",
   "metadata": {},
   "source": [
    "# Butterworth bandstop filter\n",
    "order = 4  # You can adjust the filter order based on your requirements\n",
    "filter_coeffs = Butterworth(order, Bandstop(start_freq_normalized, end_freq_normalized))\n",
    "\n",
    "# Apply the filter \n",
    "filtered_signal = filt(filter_coeffs, signal)\n"
   ]
  },
  {
   "cell_type": "markdown",
   "id": "6f57cabc-1251-42cc-a481-e1e03c17bc60",
   "metadata": {},
   "source": [
    "# Butterworth bandpass filter\n",
    "order = 4  # You can adjust the filter order based on your requirements\n",
    "filter_coeffs = Butterworth(order, Bandpass(start_freq_normalized, end_freq_normalized))\n",
    "\n",
    "# Apply the filter \n",
    "filtered_signal = filt(filter_coeffs, signal)"
   ]
  },
  {
   "cell_type": "code",
   "execution_count": null,
   "id": "4ea92b8c-3e06-4fdb-97dd-4cc2e2ce8b5a",
   "metadata": {},
   "outputs": [],
   "source": []
  },
  {
   "cell_type": "code",
   "execution_count": null,
   "id": "2fcd5b34-e8f6-4017-9a76-d9139a56862a",
   "metadata": {},
   "outputs": [],
   "source": []
  },
  {
   "cell_type": "code",
   "execution_count": null,
   "id": "7c95d1bc-054f-439a-8e8f-9656569abcb2",
   "metadata": {},
   "outputs": [],
   "source": []
  },
  {
   "cell_type": "code",
   "execution_count": null,
   "id": "484966bc-b025-4c5d-9214-db33e0d2266e",
   "metadata": {},
   "outputs": [],
   "source": []
  },
  {
   "cell_type": "code",
   "execution_count": null,
   "id": "68953528-cd4d-4962-8dc1-79db68846747",
   "metadata": {},
   "outputs": [],
   "source": []
  },
  {
   "cell_type": "code",
   "execution_count": null,
   "id": "f37fa642-8c96-4800-b23d-543d18e1dac2",
   "metadata": {},
   "outputs": [],
   "source": [
    "start_freq = 3_000\n",
    "end_freq = 6_000\n",
    "\n",
    "# Calculate the frequency resolution\n",
    "nfft = 1024  # You can adjust the FFT length based on your requirements\n",
    "freq_resolution = fs / nfft\n",
    "\n",
    "# Find the indices corresponding to the frequencies you want to keep\n",
    "start_index = round(Int, start_freq / freq_resolution) + 1\n",
    "end_index = round(Int, end_freq / freq_resolution) + 1\n",
    "\n",
    "# Perform the STFT\n",
    "window_length = 512  # You can adjust the window length based on your requirements\n",
    "hop_length = div(window_length, 2)  # 50% overlap\n",
    "stft_signal = stft(signal, window_length, nfft=nfft, noverlap=window_length - hop_length)\n",
    "\n",
    "# Keep only the desired frequency range\n",
    "stft_signal[1:start_index - 1, :] .= 0\n",
    "stft_signal[end_index + 1:end, :] .= 0\n",
    "\n",
    "# Perform the inverse STFT\n",
    "filtered_signal = istft(stft_signal, window_length, noverlap=window_length - hop_length)\n"
   ]
  }
 ],
 "metadata": {
  "kernelspec": {
   "display_name": "Julia 1.8.2",
   "language": "julia",
   "name": "julia-1.8"
  },
  "language_info": {
   "file_extension": ".jl",
   "mimetype": "application/julia",
   "name": "julia",
   "version": "1.8.2"
  }
 },
 "nbformat": 4,
 "nbformat_minor": 5
}
