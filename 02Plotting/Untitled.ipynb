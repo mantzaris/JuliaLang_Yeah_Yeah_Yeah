{
 "cells": [
  {
   "cell_type": "code",
   "execution_count": 2,
   "id": "a4e76d89-1543-4231-a4d0-84aee15a2b12",
   "metadata": {},
   "outputs": [
    {
     "data": {
      "text/plain": [
       "\"https://www.accuweather.com/en/us/fl/florida-weather\""
      ]
     },
     "execution_count": 2,
     "metadata": {},
     "output_type": "execute_result"
    }
   ],
   "source": [
    "url = \"https://www.accuweather.com/en/us/fl/florida-weather\""
   ]
  },
  {
   "cell_type": "code",
   "execution_count": 10,
   "id": "c399ed8e-ccaa-400e-a38d-ced5f2749b82",
   "metadata": {},
   "outputs": [],
   "source": [
    "using HTTP\n",
    "using Cascadia\n",
    "using Gumbo"
   ]
  },
  {
   "cell_type": "code",
   "execution_count": 11,
   "id": "be322707-e96b-469e-a20b-f4ebe330b6cc",
   "metadata": {},
   "outputs": [],
   "source": [
    "res = HTTP.get(url);"
   ]
  },
  {
   "cell_type": "code",
   "execution_count": 13,
   "id": "4455e1f3-9f32-4853-a665-e355266f3dfe",
   "metadata": {},
   "outputs": [],
   "source": [
    "h = parsehtml(String(res.body));"
   ]
  },
  {
   "cell_type": "code",
   "execution_count": 18,
   "id": "54e85005-5d0e-4823-b6b3-38a11fddd1a1",
   "metadata": {},
   "outputs": [
    {
     "ename": "LoadError",
     "evalue": "MethodError: no method matching eachmatch(::Selector)\n\u001b[0mClosest candidates are:\n\u001b[0m  eachmatch(::Selector, \u001b[91m::HTMLNode\u001b[39m) at ~/.julia/packages/Cascadia/SRxGn/src/selector.jl:96\n\u001b[0m  eachmatch(\u001b[91m::Regex\u001b[39m, \u001b[91m::AbstractString\u001b[39m; overlap) at regex.jl:757",
     "output_type": "error",
     "traceback": [
      "MethodError: no method matching eachmatch(::Selector)\n\u001b[0mClosest candidates are:\n\u001b[0m  eachmatch(::Selector, \u001b[91m::HTMLNode\u001b[39m) at ~/.julia/packages/Cascadia/SRxGn/src/selector.jl:96\n\u001b[0m  eachmatch(\u001b[91m::Regex\u001b[39m, \u001b[91m::AbstractString\u001b[39m; overlap) at regex.jl:757",
      "",
      "Stacktrace:",
      " [1] top-level scope",
      "   @ In[18]:1"
     ]
    }
   ],
   "source": [
    "qs = eachmatch(Selector(\".nearby-locations\"))"
   ]
  },
  {
   "cell_type": "code",
   "execution_count": 17,
   "id": "f41ff3be-5268-4ce6-87b4-c5224f7b4583",
   "metadata": {},
   "outputs": [
    {
     "data": {
      "text/plain": [
       "HTMLNode[]"
      ]
     },
     "execution_count": 17,
     "metadata": {},
     "output_type": "execute_result"
    }
   ],
   "source": [
    "qs"
   ]
  },
  {
   "cell_type": "code",
   "execution_count": null,
   "id": "11bb847f-02d4-4578-88ef-68522d260c8a",
   "metadata": {},
   "outputs": [],
   "source": []
  }
 ],
 "metadata": {
  "kernelspec": {
   "display_name": "Julia 1.8.2",
   "language": "julia",
   "name": "julia-1.8"
  },
  "language_info": {
   "file_extension": ".jl",
   "mimetype": "application/julia",
   "name": "julia",
   "version": "1.8.2"
  }
 },
 "nbformat": 4,
 "nbformat_minor": 5
}
