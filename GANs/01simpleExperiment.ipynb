{
 "cells": [
  {
   "cell_type": "code",
   "execution_count": 9,
   "metadata": {},
   "outputs": [],
   "source": [
    "#using Images, ImageIO, ImageMagick, ImageView, Colors # TestImages,\n",
    "#using StatsBase, Statistics, LinearAlgebra,  Random\n",
    "using Plots\n",
    "using Flux"
   ]
  },
  {
   "cell_type": "code",
   "execution_count": 3,
   "metadata": {},
   "outputs": [
    {
     "data": {
      "text/plain": [
       "v\"1.9.3\""
      ]
     },
     "execution_count": 3,
     "metadata": {},
     "output_type": "execute_result"
    }
   ],
   "source": [
    "VERSION"
   ]
  },
  {
   "cell_type": "code",
   "execution_count": 7,
   "metadata": {},
   "outputs": [
    {
     "name": "stdout",
     "output_type": "stream",
     "text": [
      "\u001b[32m\u001b[1mNo Matches\u001b[22m\u001b[39m in `~/.julia/environments/v1.9/Project.toml`\n"
     ]
    }
   ],
   "source": [
    "import Pkg\n",
    "Pkg.status(\"Flux\")"
   ]
  },
  {
   "cell_type": "code",
   "execution_count": null,
   "metadata": {},
   "outputs": [],
   "source": []
  },
  {
   "cell_type": "code",
   "execution_count": 63,
   "metadata": {},
   "outputs": [
    {
     "data": {
      "text/plain": [
       "10"
      ]
     },
     "execution_count": 63,
     "metadata": {},
     "output_type": "execute_result"
    }
   ],
   "source": [
    "NN = 10"
   ]
  },
  {
   "cell_type": "code",
   "execution_count": 64,
   "metadata": {},
   "outputs": [
    {
     "data": {
      "text/plain": [
       "noisySquare (generic function with 1 method)"
      ]
     },
     "execution_count": 64,
     "metadata": {},
     "output_type": "execute_result"
    }
   ],
   "source": [
    "#make a 'noisy' square\n",
    "function noisySquare()\n",
    "    newPic = ones(NN,NN)\n",
    "    for rr = 1:NN\n",
    "        for cc = 1:NN\n",
    "            if( (rr >= 3 && rr <= 7) && (cc >= 3 && cc <= 7) )\n",
    "                if( rand() >= 0.1 ) newPic[rr,cc] = 0 end\n",
    "            end\n",
    "        end\n",
    "    end\n",
    "    return newPic\n",
    "end"
   ]
  },
  {
   "cell_type": "code",
   "execution_count": 65,
   "metadata": {},
   "outputs": [
    {
     "data": {
      "text/plain": [
       "noisyCross (generic function with 1 method)"
      ]
     },
     "execution_count": 65,
     "metadata": {},
     "output_type": "execute_result"
    }
   ],
   "source": [
    "#function 'noisy cross'\n",
    "function noisyCross()\n",
    "    newPic = ones(NN,NN)\n",
    "    for rr = 1:NN\n",
    "        for cc = 1:NN\n",
    "            if( rr == 5 || cc == 5 )\n",
    "                if( rand() >= 0.1 ) newPic[rr,cc] = 0 end\n",
    "            end\n",
    "        end\n",
    "    end\n",
    "    return newPic\n",
    "end"
   ]
  },
  {
   "cell_type": "code",
   "execution_count": 66,
   "metadata": {},
   "outputs": [
    {
     "data": {
      "image/png": "[encoded data removed]",
      "text/plain": [
       "10×10 Array{Gray{Float64},2} with eltype Gray{Float64}:\n",
       " Gray{Float64}(1.0)  Gray{Float64}(1.0)  …  Gray{Float64}(1.0)\n",
       " Gray{Float64}(1.0)  Gray{Float64}(1.0)     Gray{Float64}(1.0)\n",
       " Gray{Float64}(1.0)  Gray{Float64}(1.0)     Gray{Float64}(1.0)\n",
       " Gray{Float64}(1.0)  Gray{Float64}(1.0)     Gray{Float64}(1.0)\n",
       " Gray{Float64}(1.0)  Gray{Float64}(1.0)     Gray{Float64}(1.0)\n",
       " Gray{Float64}(1.0)  Gray{Float64}(1.0)  …  Gray{Float64}(1.0)\n",
       " Gray{Float64}(1.0)  Gray{Float64}(1.0)     Gray{Float64}(1.0)\n",
       " Gray{Float64}(1.0)  Gray{Float64}(1.0)     Gray{Float64}(1.0)\n",
       " Gray{Float64}(1.0)  Gray{Float64}(1.0)     Gray{Float64}(1.0)\n",
       " Gray{Float64}(1.0)  Gray{Float64}(1.0)     Gray{Float64}(1.0)"
      ]
     },
     "execution_count": 66,
     "metadata": {},
     "output_type": "execute_result"
    }
   ],
   "source": [
    "Gray.(noisySquare())"
   ]
  },
  {
   "cell_type": "code",
   "execution_count": 67,
   "metadata": {},
   "outputs": [
    {
     "data": {
      "image/png": "[encoded data removed]",
      "text/plain": [
       "10×10 Array{Gray{Float64},2} with eltype Gray{Float64}:\n",
       " Gray{Float64}(1.0)  Gray{Float64}(1.0)  …  Gray{Float64}(1.0)\n",
       " Gray{Float64}(1.0)  Gray{Float64}(1.0)     Gray{Float64}(1.0)\n",
       " Gray{Float64}(1.0)  Gray{Float64}(1.0)     Gray{Float64}(1.0)\n",
       " Gray{Float64}(1.0)  Gray{Float64}(1.0)     Gray{Float64}(1.0)\n",
       " Gray{Float64}(0.0)  Gray{Float64}(0.0)     Gray{Float64}(0.0)\n",
       " Gray{Float64}(1.0)  Gray{Float64}(1.0)  …  Gray{Float64}(1.0)\n",
       " Gray{Float64}(1.0)  Gray{Float64}(1.0)     Gray{Float64}(1.0)\n",
       " Gray{Float64}(1.0)  Gray{Float64}(1.0)     Gray{Float64}(1.0)\n",
       " Gray{Float64}(1.0)  Gray{Float64}(1.0)     Gray{Float64}(1.0)\n",
       " Gray{Float64}(1.0)  Gray{Float64}(1.0)     Gray{Float64}(1.0)"
      ]
     },
     "execution_count": 67,
     "metadata": {},
     "output_type": "execute_result"
    }
   ],
   "source": [
    "Gray.(noisyCross())"
   ]
  },
  {
   "cell_type": "code",
   "execution_count": 68,
   "metadata": {},
   "outputs": [
    {
     "data": {
      "text/plain": [
       "100"
      ]
     },
     "execution_count": 68,
     "metadata": {},
     "output_type": "execute_result"
    }
   ],
   "source": [
    "img_Num = 100"
   ]
  },
  {
   "cell_type": "code",
   "execution_count": 69,
   "metadata": {},
   "outputs": [],
   "source": [
    "squares = [vec(noisySquare()) for i in 1:img_Num];\n",
    "crosses = [vec(noisyCross()) for i in 1:img_Num];"
   ]
  },
  {
   "cell_type": "code",
   "execution_count": 70,
   "metadata": {},
   "outputs": [
    {
     "data": {
      "image/svg+xml": [
       "<?xml version=\"1.0\" encoding=\"UTF-8\"?>\n",
       "<!DOCTYPE svg PUBLIC \"-//W3C//DTD SVG 1.1//EN\"\n",
       " \"http://www.w3.org/Graphics/SVG/1.1/DTD/svg11.dtd\">\n",
       "<svg xmlns=\"http://www.w3.org/2000/svg\" version=\"1.1\"\n",
       "     width=\"180mm\" height=\"25mm\"\n",
       "     viewBox=\"0 0 100 1\" preserveAspectRatio=\"none\"\n",
       "     shape-rendering=\"crispEdges\" stroke=\"none\">\n",
       "<rect width=\"1\" height=\".96\" x=\"0\" y=\"0\" fill=\"#FFFFFF\" />\n",
       "<rect width=\"1\" height=\".96\" x=\"1\" y=\"0\" fill=\"#FFFFFF\" />\n",
       "<rect width=\"1\" height=\".96\" x=\"2\" y=\"0\" fill=\"#FFFFFF\" />\n",
       "<rect width=\"1\" height=\".96\" x=\"3\" y=\"0\" fill=\"#FFFFFF\" />\n",
       "<rect width=\"1\" height=\".96\" x=\"4\" y=\"0\" fill=\"#FFFFFF\" />\n",
       "<rect width=\"1\" height=\".96\" x=\"5\" y=\"0\" fill=\"#FFFFFF\" />\n",
       "<rect width=\"1\" height=\".96\" x=\"6\" y=\"0\" fill=\"#FFFFFF\" />\n",
       "<rect width=\"1\" height=\".96\" x=\"7\" y=\"0\" fill=\"#FFFFFF\" />\n",
       "<rect width=\"1\" height=\".96\" x=\"8\" y=\"0\" fill=\"#FFFFFF\" />\n",
       "<rect width=\"1\" height=\".96\" x=\"9\" y=\"0\" fill=\"#FFFFFF\" />\n",
       "<rect width=\"1\" height=\".96\" x=\"10\" y=\"0\" fill=\"#FFFFFF\" />\n",
       "<rect width=\"1\" height=\".96\" x=\"11\" y=\"0\" fill=\"#FFFFFF\" />\n",
       "<rect width=\"1\" height=\".96\" x=\"12\" y=\"0\" fill=\"#FFFFFF\" />\n",
       "<rect width=\"1\" height=\".96\" x=\"13\" y=\"0\" fill=\"#FFFFFF\" />\n",
       "<rect width=\"1\" height=\".96\" x=\"14\" y=\"0\" fill=\"#FFFFFF\" />\n",
       "<rect width=\"1\" height=\".96\" x=\"15\" y=\"0\" fill=\"#FFFFFF\" />\n",
       "<rect width=\"1\" height=\".96\" x=\"16\" y=\"0\" fill=\"#FFFFFF\" />\n",
       "<rect width=\"1\" height=\".96\" x=\"17\" y=\"0\" fill=\"#FFFFFF\" />\n",
       "<rect width=\"1\" height=\".96\" x=\"18\" y=\"0\" fill=\"#FFFFFF\" />\n",
       "<rect width=\"1\" height=\".96\" x=\"19\" y=\"0\" fill=\"#FFFFFF\" />\n",
       "<rect width=\"1\" height=\".96\" x=\"20\" y=\"0\" fill=\"#FFFFFF\" />\n",
       "<rect width=\"1\" height=\".96\" x=\"21\" y=\"0\" fill=\"#FFFFFF\" />\n",
       "<rect width=\"1\" height=\".96\" x=\"22\" y=\"0\" fill=\"#000000\" />\n",
       "<rect width=\"1\" height=\".96\" x=\"23\" y=\"0\" fill=\"#000000\" />\n",
       "<rect width=\"1\" height=\".96\" x=\"24\" y=\"0\" fill=\"#000000\" />\n",
       "<rect width=\"1\" height=\".96\" x=\"25\" y=\"0\" fill=\"#000000\" />\n",
       "<rect width=\"1\" height=\".96\" x=\"26\" y=\"0\" fill=\"#000000\" />\n",
       "<rect width=\"1\" height=\".96\" x=\"27\" y=\"0\" fill=\"#FFFFFF\" />\n",
       "<rect width=\"1\" height=\".96\" x=\"28\" y=\"0\" fill=\"#FFFFFF\" />\n",
       "<rect width=\"1\" height=\".96\" x=\"29\" y=\"0\" fill=\"#FFFFFF\" />\n",
       "<rect width=\"1\" height=\".96\" x=\"30\" y=\"0\" fill=\"#FFFFFF\" />\n",
       "<rect width=\"1\" height=\".96\" x=\"31\" y=\"0\" fill=\"#FFFFFF\" />\n",
       "<rect width=\"1\" height=\".96\" x=\"32\" y=\"0\" fill=\"#000000\" />\n",
       "<rect width=\"1\" height=\".96\" x=\"33\" y=\"0\" fill=\"#000000\" />\n",
       "<rect width=\"1\" height=\".96\" x=\"34\" y=\"0\" fill=\"#000000\" />\n",
       "<rect width=\"1\" height=\".96\" x=\"35\" y=\"0\" fill=\"#000000\" />\n",
       "<rect width=\"1\" height=\".96\" x=\"36\" y=\"0\" fill=\"#000000\" />\n",
       "<rect width=\"1\" height=\".96\" x=\"37\" y=\"0\" fill=\"#FFFFFF\" />\n",
       "<rect width=\"1\" height=\".96\" x=\"38\" y=\"0\" fill=\"#FFFFFF\" />\n",
       "<rect width=\"1\" height=\".96\" x=\"39\" y=\"0\" fill=\"#FFFFFF\" />\n",
       "<rect width=\"1\" height=\".96\" x=\"40\" y=\"0\" fill=\"#FFFFFF\" />\n",
       "<rect width=\"1\" height=\".96\" x=\"41\" y=\"0\" fill=\"#FFFFFF\" />\n",
       "<rect width=\"1\" height=\".96\" x=\"42\" y=\"0\" fill=\"#000000\" />\n",
       "<rect width=\"1\" height=\".96\" x=\"43\" y=\"0\" fill=\"#000000\" />\n",
       "<rect width=\"1\" height=\".96\" x=\"44\" y=\"0\" fill=\"#000000\" />\n",
       "<rect width=\"1\" height=\".96\" x=\"45\" y=\"0\" fill=\"#000000\" />\n",
       "<rect width=\"1\" height=\".96\" x=\"46\" y=\"0\" fill=\"#000000\" />\n",
       "<rect width=\"1\" height=\".96\" x=\"47\" y=\"0\" fill=\"#FFFFFF\" />\n",
       "<rect width=\"1\" height=\".96\" x=\"48\" y=\"0\" fill=\"#FFFFFF\" />\n",
       "<rect width=\"1\" height=\".96\" x=\"49\" y=\"0\" fill=\"#FFFFFF\" />\n",
       "<rect width=\"1\" height=\".96\" x=\"50\" y=\"0\" fill=\"#FFFFFF\" />\n",
       "<rect width=\"1\" height=\".96\" x=\"51\" y=\"0\" fill=\"#FFFFFF\" />\n",
       "<rect width=\"1\" height=\".96\" x=\"52\" y=\"0\" fill=\"#000000\" />\n",
       "<rect width=\"1\" height=\".96\" x=\"53\" y=\"0\" fill=\"#000000\" />\n",
       "<rect width=\"1\" height=\".96\" x=\"54\" y=\"0\" fill=\"#000000\" />\n",
       "<rect width=\"1\" height=\".96\" x=\"55\" y=\"0\" fill=\"#000000\" />\n",
       "<rect width=\"1\" height=\".96\" x=\"56\" y=\"0\" fill=\"#FFFFFF\" />\n",
       "<rect width=\"1\" height=\".96\" x=\"57\" y=\"0\" fill=\"#FFFFFF\" />\n",
       "<rect width=\"1\" height=\".96\" x=\"58\" y=\"0\" fill=\"#FFFFFF\" />\n",
       "<rect width=\"1\" height=\".96\" x=\"59\" y=\"0\" fill=\"#FFFFFF\" />\n",
       "<rect width=\"1\" height=\".96\" x=\"60\" y=\"0\" fill=\"#FFFFFF\" />\n",
       "<rect width=\"1\" height=\".96\" x=\"61\" y=\"0\" fill=\"#FFFFFF\" />\n",
       "<rect width=\"1\" height=\".96\" x=\"62\" y=\"0\" fill=\"#000000\" />\n",
       "<rect width=\"1\" height=\".96\" x=\"63\" y=\"0\" fill=\"#000000\" />\n",
       "<rect width=\"1\" height=\".96\" x=\"64\" y=\"0\" fill=\"#000000\" />\n",
       "<rect width=\"1\" height=\".96\" x=\"65\" y=\"0\" fill=\"#000000\" />\n",
       "<rect width=\"1\" height=\".96\" x=\"66\" y=\"0\" fill=\"#000000\" />\n",
       "<rect width=\"1\" height=\".96\" x=\"67\" y=\"0\" fill=\"#FFFFFF\" />\n",
       "<rect width=\"1\" height=\".96\" x=\"68\" y=\"0\" fill=\"#FFFFFF\" />\n",
       "<rect width=\"1\" height=\".96\" x=\"69\" y=\"0\" fill=\"#FFFFFF\" />\n",
       "<rect width=\"1\" height=\".96\" x=\"70\" y=\"0\" fill=\"#FFFFFF\" />\n",
       "<rect width=\"1\" height=\".96\" x=\"71\" y=\"0\" fill=\"#FFFFFF\" />\n",
       "<rect width=\"1\" height=\".96\" x=\"72\" y=\"0\" fill=\"#FFFFFF\" />\n",
       "<rect width=\"1\" height=\".96\" x=\"73\" y=\"0\" fill=\"#FFFFFF\" />\n",
       "<rect width=\"1\" height=\".96\" x=\"74\" y=\"0\" fill=\"#FFFFFF\" />\n",
       "<rect width=\"1\" height=\".96\" x=\"75\" y=\"0\" fill=\"#FFFFFF\" />\n",
       "<rect width=\"1\" height=\".96\" x=\"76\" y=\"0\" fill=\"#FFFFFF\" />\n",
       "<rect width=\"1\" height=\".96\" x=\"77\" y=\"0\" fill=\"#FFFFFF\" />\n",
       "<rect width=\"1\" height=\".96\" x=\"78\" y=\"0\" fill=\"#FFFFFF\" />\n",
       "<rect width=\"1\" height=\".96\" x=\"79\" y=\"0\" fill=\"#FFFFFF\" />\n",
       "<rect width=\"1\" height=\".96\" x=\"80\" y=\"0\" fill=\"#FFFFFF\" />\n",
       "<rect width=\"1\" height=\".96\" x=\"81\" y=\"0\" fill=\"#FFFFFF\" />\n",
       "<rect width=\"1\" height=\".96\" x=\"82\" y=\"0\" fill=\"#FFFFFF\" />\n",
       "<rect width=\"1\" height=\".96\" x=\"83\" y=\"0\" fill=\"#FFFFFF\" />\n",
       "<rect width=\"1\" height=\".96\" x=\"84\" y=\"0\" fill=\"#FFFFFF\" />\n",
       "<rect width=\"1\" height=\".96\" x=\"85\" y=\"0\" fill=\"#FFFFFF\" />\n",
       "<rect width=\"1\" height=\".96\" x=\"86\" y=\"0\" fill=\"#FFFFFF\" />\n",
       "<rect width=\"1\" height=\".96\" x=\"87\" y=\"0\" fill=\"#FFFFFF\" />\n",
       "<rect width=\"1\" height=\".96\" x=\"88\" y=\"0\" fill=\"#FFFFFF\" />\n",
       "<rect width=\"1\" height=\".96\" x=\"89\" y=\"0\" fill=\"#FFFFFF\" />\n",
       "<rect width=\"1\" height=\".96\" x=\"90\" y=\"0\" fill=\"#FFFFFF\" />\n",
       "<rect width=\"1\" height=\".96\" x=\"91\" y=\"0\" fill=\"#FFFFFF\" />\n",
       "<rect width=\"1\" height=\".96\" x=\"92\" y=\"0\" fill=\"#FFFFFF\" />\n",
       "<rect width=\"1\" height=\".96\" x=\"93\" y=\"0\" fill=\"#FFFFFF\" />\n",
       "<rect width=\"1\" height=\".96\" x=\"94\" y=\"0\" fill=\"#FFFFFF\" />\n",
       "<rect width=\"1\" height=\".96\" x=\"95\" y=\"0\" fill=\"#FFFFFF\" />\n",
       "<rect width=\"1\" height=\".96\" x=\"96\" y=\"0\" fill=\"#FFFFFF\" />\n",
       "<rect width=\"1\" height=\".96\" x=\"97\" y=\"0\" fill=\"#FFFFFF\" />\n",
       "<rect width=\"1\" height=\".96\" x=\"98\" y=\"0\" fill=\"#FFFFFF\" />\n",
       "<rect width=\"1\" height=\".96\" x=\"99\" y=\"0\" fill=\"#FFFFFF\" />\n",
       "</svg>"
      ],
      "text/plain": [
       "100-element Array{Gray{Float64},1} with eltype Gray{Float64}:\n",
       " Gray{Float64}(1.0)\n",
       " Gray{Float64}(1.0)\n",
       " Gray{Float64}(1.0)\n",
       " Gray{Float64}(1.0)\n",
       " Gray{Float64}(1.0)\n",
       " Gray{Float64}(1.0)\n",
       " Gray{Float64}(1.0)\n",
       " Gray{Float64}(1.0)\n",
       " Gray{Float64}(1.0)\n",
       " Gray{Float64}(1.0)\n",
       " Gray{Float64}(1.0)\n",
       " Gray{Float64}(1.0)\n",
       " Gray{Float64}(1.0)\n",
       " ⋮\n",
       " Gray{Float64}(1.0)\n",
       " Gray{Float64}(1.0)\n",
       " Gray{Float64}(1.0)\n",
       " Gray{Float64}(1.0)\n",
       " Gray{Float64}(1.0)\n",
       " Gray{Float64}(1.0)\n",
       " Gray{Float64}(1.0)\n",
       " Gray{Float64}(1.0)\n",
       " Gray{Float64}(1.0)\n",
       " Gray{Float64}(1.0)\n",
       " Gray{Float64}(1.0)\n",
       " Gray{Float64}(1.0)"
      ]
     },
     "execution_count": 70,
     "metadata": {},
     "output_type": "execute_result"
    }
   ],
   "source": [
    "Gray.(squares[1])"
   ]
  },
  {
   "cell_type": "code",
   "execution_count": 71,
   "metadata": {},
   "outputs": [
    {
     "data": {
      "image/png": "[encoded data removed]",
      "text/plain": [
       "10×10 Array{Gray{Float64},2} with eltype Gray{Float64}:\n",
       " Gray{Float64}(1.0)  Gray{Float64}(1.0)  …  Gray{Float64}(1.0)\n",
       " Gray{Float64}(1.0)  Gray{Float64}(1.0)     Gray{Float64}(1.0)\n",
       " Gray{Float64}(1.0)  Gray{Float64}(1.0)     Gray{Float64}(1.0)\n",
       " Gray{Float64}(1.0)  Gray{Float64}(1.0)     Gray{Float64}(1.0)\n",
       " Gray{Float64}(1.0)  Gray{Float64}(1.0)     Gray{Float64}(1.0)\n",
       " Gray{Float64}(1.0)  Gray{Float64}(1.0)  …  Gray{Float64}(1.0)\n",
       " Gray{Float64}(1.0)  Gray{Float64}(1.0)     Gray{Float64}(1.0)\n",
       " Gray{Float64}(1.0)  Gray{Float64}(1.0)     Gray{Float64}(1.0)\n",
       " Gray{Float64}(1.0)  Gray{Float64}(1.0)     Gray{Float64}(1.0)\n",
       " Gray{Float64}(1.0)  Gray{Float64}(1.0)     Gray{Float64}(1.0)"
      ]
     },
     "execution_count": 71,
     "metadata": {},
     "output_type": "execute_result"
    }
   ],
   "source": [
    "reshape( Gray.(squares[1]) , NN , NN )"
   ]
  },
  {
   "cell_type": "code",
   "execution_count": 72,
   "metadata": {},
   "outputs": [
    {
     "data": {
      "text/plain": [
       "(100,)"
      ]
     },
     "execution_count": 72,
     "metadata": {},
     "output_type": "execute_result"
    }
   ],
   "source": [
    "size( squares )"
   ]
  },
  {
   "cell_type": "code",
   "execution_count": 73,
   "metadata": {},
   "outputs": [
    {
     "data": {
      "text/plain": [
       "(200,)"
      ]
     },
     "execution_count": 73,
     "metadata": {},
     "output_type": "execute_result"
    }
   ],
   "source": [
    "real_data = vcat( squares , crosses )\n",
    "size( real_data )"
   ]
  },
  {
   "cell_type": "code",
   "execution_count": 74,
   "metadata": {},
   "outputs": [
    {
     "data": {
      "text/plain": [
       "(100, 200)"
      ]
     },
     "metadata": {},
     "output_type": "display_data"
    },
    {
     "data": {
      "text/plain": [
       "(10, 10, 200)"
      ]
     },
     "metadata": {},
     "output_type": "display_data"
    },
    {
     "data": {
      "text/plain": [
       "(10, 10, 1, 200)"
      ]
     },
     "execution_count": 74,
     "metadata": {},
     "output_type": "execute_result"
    }
   ],
   "source": [
    "#data must be in WxHxCxN but for generator it is 1 d entry so that is WxHxCxN\n",
    "tmp = Flux.stack( real_data , dims=2 )\n",
    "display( size( tmp ) )\n",
    "tmp = reshape( tmp , (10,10,200) )\n",
    "display( size( tmp ) )\n",
    "real_data_WHCN = Flux.unsqueeze( tmp , dims = 3 )\n",
    "size( real_data_WHCN )"
   ]
  },
  {
   "cell_type": "code",
   "execution_count": 75,
   "metadata": {},
   "outputs": [
    {
     "data": {
      "image/png": "[encoded data removed]",
      "text/plain": [
       "10×10 Array{Gray{Float64},2} with eltype Gray{Float64}:\n",
       " Gray{Float64}(1.0)  Gray{Float64}(1.0)  …  Gray{Float64}(1.0)\n",
       " Gray{Float64}(1.0)  Gray{Float64}(1.0)     Gray{Float64}(1.0)\n",
       " Gray{Float64}(1.0)  Gray{Float64}(1.0)     Gray{Float64}(1.0)\n",
       " Gray{Float64}(1.0)  Gray{Float64}(1.0)     Gray{Float64}(1.0)\n",
       " Gray{Float64}(1.0)  Gray{Float64}(1.0)     Gray{Float64}(1.0)\n",
       " Gray{Float64}(1.0)  Gray{Float64}(1.0)  …  Gray{Float64}(1.0)\n",
       " Gray{Float64}(1.0)  Gray{Float64}(1.0)     Gray{Float64}(1.0)\n",
       " Gray{Float64}(1.0)  Gray{Float64}(1.0)     Gray{Float64}(1.0)\n",
       " Gray{Float64}(1.0)  Gray{Float64}(1.0)     Gray{Float64}(1.0)\n",
       " Gray{Float64}(1.0)  Gray{Float64}(1.0)     Gray{Float64}(1.0)"
      ]
     },
     "execution_count": 75,
     "metadata": {},
     "output_type": "execute_result"
    }
   ],
   "source": [
    "Gray.( real_data_WHCN[ : , : , 1 , 1 ] )"
   ]
  },
  {
   "cell_type": "markdown",
   "metadata": {},
   "source": [
    "## making the noise vectors to feed into the Generator\n",
    "### an input which is also a ..latent.. space"
   ]
  },
  {
   "cell_type": "code",
   "execution_count": 76,
   "metadata": {},
   "outputs": [
    {
     "data": {
      "text/plain": [
       "MakeZvectors (generic function with 1 method)"
      ]
     },
     "execution_count": 76,
     "metadata": {},
     "output_type": "execute_result"
    }
   ],
   "source": [
    "latent_dim = 10\n",
    "function MakeZvectors( batch_num )\n",
    "    return rand( latent_dim , batch_num )\n",
    "end"
   ]
  },
  {
   "cell_type": "markdown",
   "metadata": {},
   "source": [
    "## make the generator, produces an image from the latent space, and relies on the transposed convolution to ..upsampling.."
   ]
  },
  {
   "cell_type": "code",
   "execution_count": 77,
   "metadata": {},
   "outputs": [
    {
     "data": {
      "text/plain": [
       "Chain(\n",
       "  Dense(10 => 100),                     \u001b[90m# 1_100 parameters\u001b[39m\n",
       "  BatchNorm(100, relu),                 \u001b[90m# 200 parameters\u001b[39m\u001b[90m, plus 200\u001b[39m\n",
       "  var\"#19#20\"(),\n",
       "  ConvTranspose((4, 4), 4 => 2, pad=1),  \u001b[90m# 130 parameters\u001b[39m\n",
       "  BatchNorm(2, relu),                   \u001b[90m# 4 parameters\u001b[39m\u001b[90m, plus 4\u001b[39m\n",
       "  ConvTranspose((5, 5), 2 => 1, pad=1),  \u001b[90m# 51 parameters\u001b[39m\n",
       "  ConvTranspose((5, 5), 1 => 1, pad=1),  \u001b[90m# 26 parameters\u001b[39m\n",
       "  NNlib.σ,\n",
       ") \u001b[90m        # Total: 12 trainable arrays, \u001b[39m1_511 parameters,\n",
       "\u001b[90m          # plus 4 non-trainable, 204 parameters, summarysize \u001b[39m8.332 KiB."
      ]
     },
     "execution_count": 77,
     "metadata": {},
     "output_type": "execute_result"
    }
   ],
   "source": [
    "\n",
    "m_gen = Chain( \n",
    "      Dense( latent_dim => 100 ) , \n",
    "      BatchNorm( 100 , relu ) ,\n",
    "      x->reshape( x , 5 , 5 , 4 , : ) , #make into WHCN\n",
    "      ConvTranspose( (4,4) , 4 => 2 ; stride = 1, pad = 1 ) ,\n",
    "      BatchNorm( 2 , relu ) ,\n",
    "      ConvTranspose( (5,5) , 2 => 1 ; stride = 1, pad = 1 ) , \n",
    "      ConvTranspose( (5,5) , 1 => 1 ; stride = 1, pad = 1 ) , \n",
    "      sigmoid\n",
    "    )"
   ]
  },
  {
   "cell_type": "code",
   "execution_count": 78,
   "metadata": {},
   "outputs": [
    {
     "data": {
      "text/plain": [
       "10×10×1 Array{Float32, 3}:\n",
       "[:, :, 1] =\n",
       " 0.504203  0.504383  0.498478  0.509403  …  0.484922  0.499921  0.493821\n",
       " 0.501256  0.506884  0.500921  0.507197     0.502391  0.511594  0.501432\n",
       " 0.491089  0.504799  0.489755  0.531424     0.491767  0.504842  0.497027\n",
       " 0.506196  0.519565  0.486859  0.472105     0.45456   0.480733  0.483366\n",
       " 0.479924  0.517068  0.488762  0.522988     0.508901  0.498934  0.510963\n",
       " 0.498289  0.507592  0.456769  0.47406   …  0.454692  0.470179  0.483433\n",
       " 0.476232  0.51141   0.495285  0.504019     0.470075  0.469103  0.484657\n",
       " 0.484997  0.501457  0.471314  0.503366     0.491671  0.491043  0.494707\n",
       " 0.48858   0.511135  0.494988  0.496478     0.48788   0.477104  0.481649\n",
       " 0.495107  0.500109  0.486558  0.498074     0.4964    0.483811  0.490325"
      ]
     },
     "execution_count": 78,
     "metadata": {},
     "output_type": "execute_result"
    }
   ],
   "source": [
    "genImg1 = m_gen( MakeZvectors( 4 ) )\n",
    "genImg1[:,:,:,1]"
   ]
  },
  {
   "cell_type": "code",
   "execution_count": 79,
   "metadata": {},
   "outputs": [
    {
     "data": {
      "image/png": "[encoded data removed]",
      "text/plain": [
       "10×10 Array{Gray{Float32},2} with eltype Gray{Float32}:\n",
       " Gray{Float32}(0.504203)  Gray{Float32}(0.504383)  …  Gray{Float32}(0.493821)\n",
       " Gray{Float32}(0.501256)  Gray{Float32}(0.506884)     Gray{Float32}(0.501432)\n",
       " Gray{Float32}(0.491089)  Gray{Float32}(0.504799)     Gray{Float32}(0.497027)\n",
       " Gray{Float32}(0.506196)  Gray{Float32}(0.519565)     Gray{Float32}(0.483366)\n",
       " Gray{Float32}(0.479924)  Gray{Float32}(0.517068)     Gray{Float32}(0.510963)\n",
       " Gray{Float32}(0.498289)  Gray{Float32}(0.507592)  …  Gray{Float32}(0.483433)\n",
       " Gray{Float32}(0.476232)  Gray{Float32}(0.51141)      Gray{Float32}(0.484657)\n",
       " Gray{Float32}(0.484997)  Gray{Float32}(0.501457)     Gray{Float32}(0.494707)\n",
       " Gray{Float32}(0.48858)   Gray{Float32}(0.511135)     Gray{Float32}(0.481649)\n",
       " Gray{Float32}(0.495107)  Gray{Float32}(0.500109)     Gray{Float32}(0.490325)"
      ]
     },
     "execution_count": 79,
     "metadata": {},
     "output_type": "execute_result"
    }
   ],
   "source": [
    "Gray.(genImg1[:,:,1,1])"
   ]
  },
  {
   "cell_type": "markdown",
   "metadata": {},
   "source": [
    "## build the discriminator, downsample, binary output"
   ]
  },
  {
   "cell_type": "code",
   "execution_count": 80,
   "metadata": {},
   "outputs": [
    {
     "data": {
      "text/plain": [
       "Chain(\n",
       "  Conv((4, 4), 1 => 1, pad=1),          \u001b[90m# 17 parameters\u001b[39m\n",
       "  NNlib.relu,\n",
       "  Conv((4, 4), 1 => 1, pad=1),          \u001b[90m# 17 parameters\u001b[39m\n",
       "  NNlib.relu,\n",
       "  Flux.flatten,\n",
       "  Dense(64 => 10, relu),                \u001b[90m# 650 parameters\u001b[39m\n",
       "  Dense(10 => 1),                       \u001b[90m# 11 parameters\u001b[39m\n",
       "  NNlib.σ,\n",
       ") \u001b[90m                  # Total: 8 arrays, \u001b[39m695 parameters, 3.668 KiB."
      ]
     },
     "execution_count": 80,
     "metadata": {},
     "output_type": "execute_result"
    }
   ],
   "source": [
    "m_dis = Chain(\n",
    "      Conv( (4,4) , 1 => 1 , stride = 1 , pad = 1 ) ,\n",
    "      relu ,\n",
    "      Conv( (4,4) , 1 => 1 , stride = 1 , pad = 1 ) ,\n",
    "      relu ,\n",
    "      Flux.flatten ,\n",
    "      Dense( 64 => 10 , relu ) ,\n",
    "      Dense( 10 => 1 ) ,\n",
    "      sigmoid\n",
    "    )"
   ]
  },
  {
   "cell_type": "code",
   "execution_count": 81,
   "metadata": {},
   "outputs": [
    {
     "data": {
      "text/plain": [
       "1×2 Matrix{Float32}:\n",
       " 0.5  0.5"
      ]
     },
     "execution_count": 81,
     "metadata": {},
     "output_type": "execute_result"
    }
   ],
   "source": [
    "m_dis( genImg1[ : , : , : , 1:2 ] )"
   ]
  },
  {
   "cell_type": "code",
   "execution_count": 82,
   "metadata": {},
   "outputs": [
    {
     "data": {
      "text/plain": [
       "1×2 Matrix{Float32}:\n",
       " 0.523774  0.529432"
      ]
     },
     "execution_count": 82,
     "metadata": {},
     "output_type": "execute_result"
    }
   ],
   "source": [
    "m_dis( real_data_WHCN[ : , : , : , 1:2 ] )"
   ]
  },
  {
   "cell_type": "code",
   "execution_count": null,
   "metadata": {},
   "outputs": [],
   "source": []
  },
  {
   "cell_type": "code",
   "execution_count": 83,
   "metadata": {},
   "outputs": [
    {
     "data": {
      "text/plain": [
       "1×4 Matrix{Float32}:\n",
       " 0.5  0.5  0.5  0.5"
      ]
     },
     "execution_count": 83,
     "metadata": {},
     "output_type": "execute_result"
    }
   ],
   "source": [
    "genImg2 = m_gen( MakeZvectors( 4 ) )\n",
    "m_dis( genImg2 )"
   ]
  },
  {
   "cell_type": "markdown",
   "metadata": {},
   "source": [
    "## feeds in the discriminator's output from a fake synthetic example"
   ]
  },
  {
   "cell_type": "code",
   "execution_count": 84,
   "metadata": {},
   "outputs": [
    {
     "data": {
      "text/plain": [
       "generator_loss (generic function with 1 method)"
      ]
     },
     "execution_count": 84,
     "metadata": {},
     "output_type": "execute_result"
    }
   ],
   "source": [
    "function generator_loss( fake_output ) \n",
    "    Flux.binarycrossentropy( fake_output , 1 )\n",
    "end"
   ]
  },
  {
   "cell_type": "code",
   "execution_count": 85,
   "metadata": {},
   "outputs": [],
   "source": [
    "## add the loss from the real and fake inputs"
   ]
  },
  {
   "cell_type": "code",
   "execution_count": 86,
   "metadata": {},
   "outputs": [
    {
     "data": {
      "text/plain": [
       "discriminator_loss (generic function with 1 method)"
      ]
     },
     "execution_count": 86,
     "metadata": {},
     "output_type": "execute_result"
    }
   ],
   "source": [
    "function discriminator_loss( real_output , fake_output )\n",
    "    real_loss = Flux.binarycrossentropy( real_output , 1 )\n",
    "    fake_loss = Flux.binarycrossentropy( fake_output , 0 )\n",
    "    return real_loss + fake_loss\n",
    "end"
   ]
  },
  {
   "cell_type": "code",
   "execution_count": 87,
   "metadata": {},
   "outputs": [],
   "source": [
    "## optmize the generator based upon the gradient of the loss of how well the discriminator does"
   ]
  },
  {
   "cell_type": "code",
   "execution_count": 101,
   "metadata": {},
   "outputs": [
    {
     "data": {
      "text/plain": [
       "train_generator (generic function with 1 method)"
      ]
     },
     "execution_count": 101,
     "metadata": {},
     "output_type": "execute_result"
    }
   ],
   "source": [
    "function train_generator( gen , dscr , opt_gen , batch_num )\n",
    "    noise = MakeZvectors( batch_num )\n",
    "    # Taking gradient\n",
    "    loss, grads = Flux.withgradient( gen ) do gen\n",
    "        generator_loss( dscr( gen( noise ) ) )\n",
    "    end\n",
    "    Flux.update!( opt_gen , gen , grads[1] )\n",
    "    return loss\n",
    "end"
   ]
  },
  {
   "cell_type": "code",
   "execution_count": 102,
   "metadata": {},
   "outputs": [],
   "source": [
    "## feed the inputs of real and fake independently"
   ]
  },
  {
   "cell_type": "code",
   "execution_count": 103,
   "metadata": {},
   "outputs": [
    {
     "data": {
      "text/plain": [
       "train_discriminator (generic function with 1 method)"
      ]
     },
     "execution_count": 103,
     "metadata": {},
     "output_type": "execute_result"
    }
   ],
   "source": [
    "function train_discriminator( gen , dscr , x , opt_dscr , batch_num )\n",
    "    noise = MakeZvectors( batch_num )\n",
    "    fake_input = gen( noise )\n",
    "    # Taking gradient\n",
    "    loss, grads = Flux.withgradient(dscr) do dscr\n",
    "        discriminator_loss( dscr( x ) , dscr( fake_input ) )\n",
    "    end\n",
    "    Flux.update!( opt_dscr , dscr , grads[1] )\n",
    "    return loss\n",
    "end"
   ]
  },
  {
   "cell_type": "code",
   "execution_count": 104,
   "metadata": {},
   "outputs": [],
   "source": [
    "opt_dis = Flux.setup( Adam( 0.0001 ) , m_dis )\n",
    "opt_gen = Flux.setup( Adam( 0.0001 ) , m_gen );"
   ]
  },
  {
   "cell_type": "code",
   "execution_count": null,
   "metadata": {},
   "outputs": [],
   "source": []
  },
  {
   "cell_type": "code",
   "execution_count": 105,
   "metadata": {},
   "outputs": [
    {
     "data": {
      "text/plain": [
       "1.6258866f0"
      ]
     },
     "execution_count": 105,
     "metadata": {},
     "output_type": "execute_result"
    }
   ],
   "source": [
    "train_discriminator( m_gen , m_dis , real_data_WHCN[:,:,:,1:2] , opt_dis , 2 )"
   ]
  },
  {
   "cell_type": "code",
   "execution_count": 106,
   "metadata": {},
   "outputs": [
    {
     "ename": "LoadError",
     "evalue": "UndefVarError: params not defined",
     "output_type": "error",
     "traceback": [
      "UndefVarError: params not defined",
      "",
      "Stacktrace:",
      " [1] train_generator(gen::Chain{Tuple{Dense{typeof(identity), Matrix{Float32}, Vector{Float32}}, BatchNorm{typeof(relu), Vector{Float32}, Float32, Vector{Float32}}, var\"#19#20\", ConvTranspose{2, 4, typeof(identity), Array{Float32, 4}, Vector{Float32}}, BatchNorm{typeof(relu), Vector{Float32}, Float32, Vector{Float32}}, ConvTranspose{2, 4, typeof(identity), Array{Float32, 4}, Vector{Float32}}, ConvTranspose{2, 4, typeof(identity), Array{Float32, 4}, Vector{Float32}}, typeof(σ)}}, dscr::Chain{Tuple{Conv{2, 4, typeof(identity), Array{Float32, 4}, Vector{Float32}}, typeof(relu), Conv{2, 4, typeof(identity), Array{Float32, 4}, Vector{Float32}}, typeof(relu), typeof(Flux.flatten), Dense{typeof(relu), Matrix{Float32}, Vector{Float32}}, Dense{typeof(identity), Matrix{Float32}, Vector{Float32}}, typeof(σ)}}, opt_gen::NamedTuple{(:layers,), Tuple{Tuple{NamedTuple{(:weight, :bias, :σ), Tuple{Optimisers.Leaf{Optimisers.Adam{Float64}, Tuple{Matrix{Float32}, Matrix{Float32}, Tuple{Float64, Float64}}}, Optimisers.Leaf{Optimisers.Adam{Float64}, Tuple{Vector{Float32}, Vector{Float32}, Tuple{Float64, Float64}}}, Tuple{}}}, NamedTuple{(:λ, :β, :γ, :μ, :σ², :ϵ, :momentum, :affine, :track_stats, :active, :chs), Tuple{Tuple{}, Optimisers.Leaf{Optimisers.Adam{Float64}, Tuple{Vector{Float32}, Vector{Float32}, Tuple{Float64, Float64}}}, Optimisers.Leaf{Optimisers.Adam{Float64}, Tuple{Vector{Float32}, Vector{Float32}, Tuple{Float64, Float64}}}, Tuple{}, Tuple{}, Tuple{}, Tuple{}, Tuple{}, Tuple{}, Tuple{}, Tuple{}}}, Tuple{}, NamedTuple{(:σ, :weight, :bias, :stride, :pad, :dilation, :groups), Tuple{Tuple{}, Optimisers.Leaf{Optimisers.Adam{Float64}, Tuple{Array{Float32, 4}, Array{Float32, 4}, Tuple{Float64, Float64}}}, Optimisers.Leaf{Optimisers.Adam{Float64}, Tuple{Vector{Float32}, Vector{Float32}, Tuple{Float64, Float64}}}, Tuple{Tuple{}, Tuple{}}, NTuple{4, Tuple{}}, Tuple{Tuple{}, Tuple{}}, Tuple{}}}, NamedTuple{(:λ, :β, :γ, :μ, :σ², :ϵ, :momentum, :affine, :track_stats, :active, :chs), Tuple{Tuple{}, Optimisers.Leaf{Optimisers.Adam{Float64}, Tuple{Vector{Float32}, Vector{Float32}, Tuple{Float64, Float64}}}, Optimisers.Leaf{Optimisers.Adam{Float64}, Tuple{Vector{Float32}, Vector{Float32}, Tuple{Float64, Float64}}}, Tuple{}, Tuple{}, Tuple{}, Tuple{}, Tuple{}, Tuple{}, Tuple{}, Tuple{}}}, NamedTuple{(:σ, :weight, :bias, :stride, :pad, :dilation, :groups), Tuple{Tuple{}, Optimisers.Leaf{Optimisers.Adam{Float64}, Tuple{Array{Float32, 4}, Array{Float32, 4}, Tuple{Float64, Float64}}}, Optimisers.Leaf{Optimisers.Adam{Float64}, Tuple{Vector{Float32}, Vector{Float32}, Tuple{Float64, Float64}}}, Tuple{Tuple{}, Tuple{}}, NTuple{4, Tuple{}}, Tuple{Tuple{}, Tuple{}}, Tuple{}}}, NamedTuple{(:σ, :weight, :bias, :stride, :pad, :dilation, :groups), Tuple{Tuple{}, Optimisers.Leaf{Optimisers.Adam{Float64}, Tuple{Array{Float32, 4}, Array{Float32, 4}, Tuple{Float64, Float64}}}, Optimisers.Leaf{Optimisers.Adam{Float64}, Tuple{Vector{Float32}, Vector{Float32}, Tuple{Float64, Float64}}}, Tuple{Tuple{}, Tuple{}}, NTuple{4, Tuple{}}, Tuple{Tuple{}, Tuple{}}, Tuple{}}}, Tuple{}}}}, batch_num::Int64)",
      "   @ Main ./In[101]:4",
      " [2] top-level scope",
      "   @ In[106]:1"
     ]
    }
   ],
   "source": [
    "train_generator( m_gen , m_dis , opt_gen , 2 )"
   ]
  },
  {
   "cell_type": "code",
   "execution_count": 107,
   "metadata": {},
   "outputs": [
    {
     "data": {
      "text/plain": [
       "Any[]"
      ]
     },
     "execution_count": 107,
     "metadata": {},
     "output_type": "execute_result"
    }
   ],
   "source": [
    "loss_dis_array = []\n",
    "loss_gen_array = []"
   ]
  },
  {
   "cell_type": "code",
   "execution_count": 108,
   "metadata": {},
   "outputs": [
    {
     "ename": "LoadError",
     "evalue": "UndefVarError: params not defined",
     "output_type": "error",
     "traceback": [
      "UndefVarError: params not defined",
      "",
      "Stacktrace:",
      " [1] train_generator(gen::Chain{Tuple{Dense{typeof(identity), Matrix{Float32}, Vector{Float32}}, BatchNorm{typeof(relu), Vector{Float32}, Float32, Vector{Float32}}, var\"#19#20\", ConvTranspose{2, 4, typeof(identity), Array{Float32, 4}, Vector{Float32}}, BatchNorm{typeof(relu), Vector{Float32}, Float32, Vector{Float32}}, ConvTranspose{2, 4, typeof(identity), Array{Float32, 4}, Vector{Float32}}, ConvTranspose{2, 4, typeof(identity), Array{Float32, 4}, Vector{Float32}}, typeof(σ)}}, dscr::Chain{Tuple{Conv{2, 4, typeof(identity), Array{Float32, 4}, Vector{Float32}}, typeof(relu), Conv{2, 4, typeof(identity), Array{Float32, 4}, Vector{Float32}}, typeof(relu), typeof(Flux.flatten), Dense{typeof(relu), Matrix{Float32}, Vector{Float32}}, Dense{typeof(identity), Matrix{Float32}, Vector{Float32}}, typeof(σ)}}, opt_gen::NamedTuple{(:layers,), Tuple{Tuple{NamedTuple{(:weight, :bias, :σ), Tuple{Optimisers.Leaf{Optimisers.Adam{Float64}, Tuple{Matrix{Float32}, Matrix{Float32}, Tuple{Float64, Float64}}}, Optimisers.Leaf{Optimisers.Adam{Float64}, Tuple{Vector{Float32}, Vector{Float32}, Tuple{Float64, Float64}}}, Tuple{}}}, NamedTuple{(:λ, :β, :γ, :μ, :σ², :ϵ, :momentum, :affine, :track_stats, :active, :chs), Tuple{Tuple{}, Optimisers.Leaf{Optimisers.Adam{Float64}, Tuple{Vector{Float32}, Vector{Float32}, Tuple{Float64, Float64}}}, Optimisers.Leaf{Optimisers.Adam{Float64}, Tuple{Vector{Float32}, Vector{Float32}, Tuple{Float64, Float64}}}, Tuple{}, Tuple{}, Tuple{}, Tuple{}, Tuple{}, Tuple{}, Tuple{}, Tuple{}}}, Tuple{}, NamedTuple{(:σ, :weight, :bias, :stride, :pad, :dilation, :groups), Tuple{Tuple{}, Optimisers.Leaf{Optimisers.Adam{Float64}, Tuple{Array{Float32, 4}, Array{Float32, 4}, Tuple{Float64, Float64}}}, Optimisers.Leaf{Optimisers.Adam{Float64}, Tuple{Vector{Float32}, Vector{Float32}, Tuple{Float64, Float64}}}, Tuple{Tuple{}, Tuple{}}, NTuple{4, Tuple{}}, Tuple{Tuple{}, Tuple{}}, Tuple{}}}, NamedTuple{(:λ, :β, :γ, :μ, :σ², :ϵ, :momentum, :affine, :track_stats, :active, :chs), Tuple{Tuple{}, Optimisers.Leaf{Optimisers.Adam{Float64}, Tuple{Vector{Float32}, Vector{Float32}, Tuple{Float64, Float64}}}, Optimisers.Leaf{Optimisers.Adam{Float64}, Tuple{Vector{Float32}, Vector{Float32}, Tuple{Float64, Float64}}}, Tuple{}, Tuple{}, Tuple{}, Tuple{}, Tuple{}, Tuple{}, Tuple{}, Tuple{}}}, NamedTuple{(:σ, :weight, :bias, :stride, :pad, :dilation, :groups), Tuple{Tuple{}, Optimisers.Leaf{Optimisers.Adam{Float64}, Tuple{Array{Float32, 4}, Array{Float32, 4}, Tuple{Float64, Float64}}}, Optimisers.Leaf{Optimisers.Adam{Float64}, Tuple{Vector{Float32}, Vector{Float32}, Tuple{Float64, Float64}}}, Tuple{Tuple{}, Tuple{}}, NTuple{4, Tuple{}}, Tuple{Tuple{}, Tuple{}}, Tuple{}}}, NamedTuple{(:σ, :weight, :bias, :stride, :pad, :dilation, :groups), Tuple{Tuple{}, Optimisers.Leaf{Optimisers.Adam{Float64}, Tuple{Array{Float32, 4}, Array{Float32, 4}, Tuple{Float64, Float64}}}, Optimisers.Leaf{Optimisers.Adam{Float64}, Tuple{Vector{Float32}, Vector{Float32}, Tuple{Float64, Float64}}}, Tuple{Tuple{}, Tuple{}}, NTuple{4, Tuple{}}, Tuple{Tuple{}, Tuple{}}, Tuple{}}}, Tuple{}}}}, batch_num::Int64)",
      "   @ Main ./In[101]:4",
      " [2] top-level scope",
      "   @ ./In[108]:10"
     ]
    }
   ],
   "source": [
    "batch_num = 5\n",
    "\n",
    "for epoch in 1:10000\n",
    "    \n",
    "    tmp_inds = Random.randperm(size(real_data_WHCN)[4])[1:batch_num]\n",
    "    x_real_tmp = real_data_WHCN[:,:,:,tmp_inds]\n",
    "        \n",
    "    loss_dis = train_discriminator( m_gen , m_dis , x_real_tmp , opt_dis , batch_num ) \n",
    "    push!( loss_dis_array , loss_dis )\n",
    "    loss_gen = train_generator( m_gen , m_dis , opt_gen , batch_num )\n",
    "    push!( loss_gen_array , loss_gen )\n",
    "    \n",
    "end"
   ]
  },
  {
   "cell_type": "code",
   "execution_count": 109,
   "metadata": {},
   "outputs": [
    {
     "data": {
      "image/svg+xml": [
       "<?xml version=\"1.0\" encoding=\"utf-8\"?>\n",
       "<svg xmlns=\"http://www.w3.org/2000/svg\" xmlns:xlink=\"http://www.w3.org/1999/xlink\" width=\"600\" height=\"400\" viewBox=\"0 0 2400 1600\">\n",
       "<defs>\n",
       "  <clipPath id=\"clip920\">\n",
       "    <rect x=\"0\" y=\"0\" width=\"2400\" height=\"1600\"/>\n",
       "  </clipPath>\n",
       "</defs>\n",
       "<path clip-path=\"url(#clip920)\" d=\"M0 1600 L2400 1600 L2400 0 L0 0  Z\" fill=\"#ffffff\" fill-rule=\"evenodd\" fill-opacity=\"1\"/>\n",
       "<defs>\n",
       "  <clipPath id=\"clip921\">\n",
       "    <rect x=\"480\" y=\"0\" width=\"1681\" height=\"1600\"/>\n",
       "  </clipPath>\n",
       "</defs>\n",
       "<path clip-path=\"url(#clip920)\" d=\"M156.251 1486.45 L1137.74 1486.45 L1137.74 123.472 L156.251 123.472  Z\" fill=\"#ffffff\" fill-rule=\"evenodd\" fill-opacity=\"1\"/>\n",
       "<defs>\n",
       "  <clipPath id=\"clip922\">\n",
       "    <rect x=\"156\" y=\"123\" width=\"982\" height=\"1364\"/>\n",
       "  </clipPath>\n",
       "</defs>\n",
       "<polyline clip-path=\"url(#clip922)\" style=\"stroke:#000000; stroke-linecap:round; stroke-linejoin:round; stroke-width:2; stroke-opacity:0.1; fill:none\" points=\"184.029,1486.45 184.029,123.472 \"/>\n",
       "<polyline clip-path=\"url(#clip922)\" style=\"stroke:#000000; stroke-linecap:round; stroke-linejoin:round; stroke-width:2; stroke-opacity:0.1; fill:none\" points=\"415.513,1486.45 415.513,123.472 \"/>\n",
       "<polyline clip-path=\"url(#clip922)\" style=\"stroke:#000000; stroke-linecap:round; stroke-linejoin:round; stroke-width:2; stroke-opacity:0.1; fill:none\" points=\"646.998,1486.45 646.998,123.472 \"/>\n",
       "<polyline clip-path=\"url(#clip922)\" style=\"stroke:#000000; stroke-linecap:round; stroke-linejoin:round; stroke-width:2; stroke-opacity:0.1; fill:none\" points=\"878.482,1486.45 878.482,123.472 \"/>\n",
       "<polyline clip-path=\"url(#clip922)\" style=\"stroke:#000000; stroke-linecap:round; stroke-linejoin:round; stroke-width:2; stroke-opacity:0.1; fill:none\" points=\"1109.97,1486.45 1109.97,123.472 \"/>\n",
       "<polyline clip-path=\"url(#clip920)\" style=\"stroke:#000000; stroke-linecap:round; stroke-linejoin:round; stroke-width:4; stroke-opacity:1; fill:none\" points=\"156.251,1486.45 1137.74,1486.45 \"/>\n",
       "<polyline clip-path=\"url(#clip920)\" style=\"stroke:#000000; stroke-linecap:round; stroke-linejoin:round; stroke-width:4; stroke-opacity:1; fill:none\" points=\"184.029,1486.45 184.029,1467.55 \"/>\n",
       "<polyline clip-path=\"url(#clip920)\" style=\"stroke:#000000; stroke-linecap:round; stroke-linejoin:round; stroke-width:4; stroke-opacity:1; fill:none\" points=\"415.513,1486.45 415.513,1467.55 \"/>\n",
       "<polyline clip-path=\"url(#clip920)\" style=\"stroke:#000000; stroke-linecap:round; stroke-linejoin:round; stroke-width:4; stroke-opacity:1; fill:none\" points=\"646.998,1486.45 646.998,1467.55 \"/>\n",
       "<polyline clip-path=\"url(#clip920)\" style=\"stroke:#000000; stroke-linecap:round; stroke-linejoin:round; stroke-width:4; stroke-opacity:1; fill:none\" points=\"878.482,1486.45 878.482,1467.55 \"/>\n",
       "<polyline clip-path=\"url(#clip920)\" style=\"stroke:#000000; stroke-linecap:round; stroke-linejoin:round; stroke-width:4; stroke-opacity:1; fill:none\" points=\"1109.97,1486.45 1109.97,1467.55 \"/>\n",
       "<path clip-path=\"url(#clip920)\" d=\"M136.101 1544.91 L143.74 1544.91 L143.74 1518.55 L135.43 1520.21 L135.43 1515.95 L143.694 1514.29 L148.37 1514.29 L148.37 1544.91 L156.008 1544.91 L156.008 1548.85 L136.101 1548.85 L136.101 1544.91 Z\" fill=\"#000000\" fill-rule=\"nonzero\" fill-opacity=\"1\" /><path clip-path=\"url(#clip920)\" d=\"M165.453 1542.97 L170.337 1542.97 L170.337 1548.85 L165.453 1548.85 L165.453 1542.97 Z\" fill=\"#000000\" fill-rule=\"nonzero\" fill-opacity=\"1\" /><path clip-path=\"url(#clip920)\" d=\"M190.522 1517.37 Q186.911 1517.37 185.082 1520.93 Q183.277 1524.47 183.277 1531.6 Q183.277 1538.71 185.082 1542.27 Q186.911 1545.82 190.522 1545.82 Q194.156 1545.82 195.962 1542.27 Q197.791 1538.71 197.791 1531.6 Q197.791 1524.47 195.962 1520.93 Q194.156 1517.37 190.522 1517.37 M190.522 1513.66 Q196.332 1513.66 199.388 1518.27 Q202.467 1522.85 202.467 1531.6 Q202.467 1540.33 199.388 1544.94 Q196.332 1549.52 190.522 1549.52 Q184.712 1549.52 181.633 1544.94 Q178.578 1540.33 178.578 1531.6 Q178.578 1522.85 181.633 1518.27 Q184.712 1513.66 190.522 1513.66 Z\" fill=\"#000000\" fill-rule=\"nonzero\" fill-opacity=\"1\" /><path clip-path=\"url(#clip920)\" d=\"M220.684 1517.37 Q217.073 1517.37 215.244 1520.93 Q213.439 1524.47 213.439 1531.6 Q213.439 1538.71 215.244 1542.27 Q217.073 1545.82 220.684 1545.82 Q224.318 1545.82 226.124 1542.27 Q227.953 1538.71 227.953 1531.6 Q227.953 1524.47 226.124 1520.93 Q224.318 1517.37 220.684 1517.37 M220.684 1513.66 Q226.494 1513.66 229.55 1518.27 Q232.628 1522.85 232.628 1531.6 Q232.628 1540.33 229.55 1544.94 Q226.494 1549.52 220.684 1549.52 Q214.874 1549.52 211.795 1544.94 Q208.74 1540.33 208.74 1531.6 Q208.74 1522.85 211.795 1518.27 Q214.874 1513.66 220.684 1513.66 Z\" fill=\"#000000\" fill-rule=\"nonzero\" fill-opacity=\"1\" /><path clip-path=\"url(#clip920)\" d=\"M368.083 1544.91 L375.722 1544.91 L375.722 1518.55 L367.412 1520.21 L367.412 1515.95 L375.676 1514.29 L380.352 1514.29 L380.352 1544.91 L387.99 1544.91 L387.99 1548.85 L368.083 1548.85 L368.083 1544.91 Z\" fill=\"#000000\" fill-rule=\"nonzero\" fill-opacity=\"1\" /><path clip-path=\"url(#clip920)\" d=\"M397.435 1542.97 L402.319 1542.97 L402.319 1548.85 L397.435 1548.85 L397.435 1542.97 Z\" fill=\"#000000\" fill-rule=\"nonzero\" fill-opacity=\"1\" /><path clip-path=\"url(#clip920)\" d=\"M416.532 1544.91 L432.851 1544.91 L432.851 1548.85 L410.907 1548.85 L410.907 1544.91 Q413.569 1542.16 418.152 1537.53 Q422.759 1532.88 423.939 1531.53 Q426.185 1529.01 427.064 1527.27 Q427.967 1525.51 427.967 1523.82 Q427.967 1521.07 426.023 1519.33 Q424.101 1517.6 421 1517.6 Q418.8 1517.6 416.347 1518.36 Q413.916 1519.13 411.138 1520.68 L411.138 1515.95 Q413.963 1514.82 416.416 1514.24 Q418.87 1513.66 420.907 1513.66 Q426.277 1513.66 429.472 1516.35 Q432.666 1519.03 432.666 1523.52 Q432.666 1525.65 431.856 1527.57 Q431.069 1529.47 428.962 1532.07 Q428.384 1532.74 425.282 1535.95 Q422.18 1539.15 416.532 1544.91 Z\" fill=\"#000000\" fill-rule=\"nonzero\" fill-opacity=\"1\" /><path clip-path=\"url(#clip920)\" d=\"M442.712 1514.29 L461.069 1514.29 L461.069 1518.22 L446.995 1518.22 L446.995 1526.7 Q448.013 1526.35 449.032 1526.19 Q450.05 1526 451.069 1526 Q456.856 1526 460.235 1529.17 Q463.615 1532.34 463.615 1537.76 Q463.615 1543.34 460.143 1546.44 Q456.671 1549.52 450.351 1549.52 Q448.175 1549.52 445.907 1549.15 Q443.661 1548.78 441.254 1548.04 L441.254 1543.34 Q443.337 1544.47 445.56 1545.03 Q447.782 1545.58 450.259 1545.58 Q454.263 1545.58 456.601 1543.48 Q458.939 1541.37 458.939 1537.76 Q458.939 1534.15 456.601 1532.04 Q454.263 1529.94 450.259 1529.94 Q448.384 1529.94 446.509 1530.35 Q444.657 1530.77 442.712 1531.65 L442.712 1514.29 Z\" fill=\"#000000\" fill-rule=\"nonzero\" fill-opacity=\"1\" /><path clip-path=\"url(#clip920)\" d=\"M599.07 1544.91 L606.709 1544.91 L606.709 1518.55 L598.398 1520.21 L598.398 1515.95 L606.662 1514.29 L611.338 1514.29 L611.338 1544.91 L618.977 1544.91 L618.977 1548.85 L599.07 1548.85 L599.07 1544.91 Z\" fill=\"#000000\" fill-rule=\"nonzero\" fill-opacity=\"1\" /><path clip-path=\"url(#clip920)\" d=\"M628.421 1542.97 L633.306 1542.97 L633.306 1548.85 L628.421 1548.85 L628.421 1542.97 Z\" fill=\"#000000\" fill-rule=\"nonzero\" fill-opacity=\"1\" /><path clip-path=\"url(#clip920)\" d=\"M643.537 1514.29 L661.893 1514.29 L661.893 1518.22 L647.819 1518.22 L647.819 1526.7 Q648.838 1526.35 649.856 1526.19 Q650.875 1526 651.894 1526 Q657.681 1526 661.06 1529.17 Q664.44 1532.34 664.44 1537.76 Q664.44 1543.34 660.968 1546.44 Q657.495 1549.52 651.176 1549.52 Q649 1549.52 646.732 1549.15 Q644.486 1548.78 642.079 1548.04 L642.079 1543.34 Q644.162 1544.47 646.384 1545.03 Q648.607 1545.58 651.083 1545.58 Q655.088 1545.58 657.426 1543.48 Q659.764 1541.37 659.764 1537.76 Q659.764 1534.15 657.426 1532.04 Q655.088 1529.94 651.083 1529.94 Q649.208 1529.94 647.333 1530.35 Q645.482 1530.77 643.537 1531.65 L643.537 1514.29 Z\" fill=\"#000000\" fill-rule=\"nonzero\" fill-opacity=\"1\" /><path clip-path=\"url(#clip920)\" d=\"M683.653 1517.37 Q680.042 1517.37 678.213 1520.93 Q676.407 1524.47 676.407 1531.6 Q676.407 1538.71 678.213 1542.27 Q680.042 1545.82 683.653 1545.82 Q687.287 1545.82 689.092 1542.27 Q690.921 1538.71 690.921 1531.6 Q690.921 1524.47 689.092 1520.93 Q687.287 1517.37 683.653 1517.37 M683.653 1513.66 Q689.463 1513.66 692.518 1518.27 Q695.597 1522.85 695.597 1531.6 Q695.597 1540.33 692.518 1544.94 Q689.463 1549.52 683.653 1549.52 Q677.842 1549.52 674.764 1544.94 Q671.708 1540.33 671.708 1531.6 Q671.708 1522.85 674.764 1518.27 Q677.842 1513.66 683.653 1513.66 Z\" fill=\"#000000\" fill-rule=\"nonzero\" fill-opacity=\"1\" /><path clip-path=\"url(#clip920)\" d=\"M831.052 1544.91 L838.691 1544.91 L838.691 1518.55 L830.38 1520.21 L830.38 1515.95 L838.644 1514.29 L843.32 1514.29 L843.32 1544.91 L850.959 1544.91 L850.959 1548.85 L831.052 1548.85 L831.052 1544.91 Z\" fill=\"#000000\" fill-rule=\"nonzero\" fill-opacity=\"1\" /><path clip-path=\"url(#clip920)\" d=\"M860.403 1542.97 L865.288 1542.97 L865.288 1548.85 L860.403 1548.85 L860.403 1542.97 Z\" fill=\"#000000\" fill-rule=\"nonzero\" fill-opacity=\"1\" /><path clip-path=\"url(#clip920)\" d=\"M874.292 1514.29 L896.514 1514.29 L896.514 1516.28 L883.968 1548.85 L879.084 1548.85 L890.889 1518.22 L874.292 1518.22 L874.292 1514.29 Z\" fill=\"#000000\" fill-rule=\"nonzero\" fill-opacity=\"1\" /><path clip-path=\"url(#clip920)\" d=\"M905.681 1514.29 L924.037 1514.29 L924.037 1518.22 L909.963 1518.22 L909.963 1526.7 Q910.982 1526.35 912 1526.19 Q913.019 1526 914.037 1526 Q919.824 1526 923.204 1529.17 Q926.584 1532.34 926.584 1537.76 Q926.584 1543.34 923.111 1546.44 Q919.639 1549.52 913.32 1549.52 Q911.144 1549.52 908.875 1549.15 Q906.63 1548.78 904.223 1548.04 L904.223 1543.34 Q906.306 1544.47 908.528 1545.03 Q910.75 1545.58 913.227 1545.58 Q917.232 1545.58 919.57 1543.48 Q921.908 1541.37 921.908 1537.76 Q921.908 1534.15 919.57 1532.04 Q917.232 1529.94 913.227 1529.94 Q911.352 1529.94 909.477 1530.35 Q907.625 1530.77 905.681 1531.65 L905.681 1514.29 Z\" fill=\"#000000\" fill-rule=\"nonzero\" fill-opacity=\"1\" /><path clip-path=\"url(#clip920)\" d=\"M1066.12 1544.91 L1082.44 1544.91 L1082.44 1548.85 L1060.5 1548.85 L1060.5 1544.91 Q1063.16 1542.16 1067.74 1537.53 Q1072.35 1532.88 1073.53 1531.53 Q1075.78 1529.01 1076.66 1527.27 Q1077.56 1525.51 1077.56 1523.82 Q1077.56 1521.07 1075.61 1519.33 Q1073.69 1517.6 1070.59 1517.6 Q1068.39 1517.6 1065.94 1518.36 Q1063.51 1519.13 1060.73 1520.68 L1060.73 1515.95 Q1063.55 1514.82 1066.01 1514.24 Q1068.46 1513.66 1070.5 1513.66 Q1075.87 1513.66 1079.06 1516.35 Q1082.26 1519.03 1082.26 1523.52 Q1082.26 1525.65 1081.45 1527.57 Q1080.66 1529.47 1078.55 1532.07 Q1077.98 1532.74 1074.87 1535.95 Q1071.77 1539.15 1066.12 1544.91 Z\" fill=\"#000000\" fill-rule=\"nonzero\" fill-opacity=\"1\" /><path clip-path=\"url(#clip920)\" d=\"M1092.26 1542.97 L1097.14 1542.97 L1097.14 1548.85 L1092.26 1548.85 L1092.26 1542.97 Z\" fill=\"#000000\" fill-rule=\"nonzero\" fill-opacity=\"1\" /><path clip-path=\"url(#clip920)\" d=\"M1117.33 1517.37 Q1113.72 1517.37 1111.89 1520.93 Q1110.08 1524.47 1110.08 1531.6 Q1110.08 1538.71 1111.89 1542.27 Q1113.72 1545.82 1117.33 1545.82 Q1120.96 1545.82 1122.77 1542.27 Q1124.6 1538.71 1124.6 1531.6 Q1124.6 1524.47 1122.77 1520.93 Q1120.96 1517.37 1117.33 1517.37 M1117.33 1513.66 Q1123.14 1513.66 1126.19 1518.27 Q1129.27 1522.85 1129.27 1531.6 Q1129.27 1540.33 1126.19 1544.94 Q1123.14 1549.52 1117.33 1549.52 Q1111.52 1549.52 1108.44 1544.94 Q1105.38 1540.33 1105.38 1531.6 Q1105.38 1522.85 1108.44 1518.27 Q1111.52 1513.66 1117.33 1513.66 Z\" fill=\"#000000\" fill-rule=\"nonzero\" fill-opacity=\"1\" /><path clip-path=\"url(#clip920)\" d=\"M1147.49 1517.37 Q1143.88 1517.37 1142.05 1520.93 Q1140.24 1524.47 1140.24 1531.6 Q1140.24 1538.71 1142.05 1542.27 Q1143.88 1545.82 1147.49 1545.82 Q1151.12 1545.82 1152.93 1542.27 Q1154.76 1538.71 1154.76 1531.6 Q1154.76 1524.47 1152.93 1520.93 Q1151.12 1517.37 1147.49 1517.37 M1147.49 1513.66 Q1153.3 1513.66 1156.35 1518.27 Q1159.43 1522.85 1159.43 1531.6 Q1159.43 1540.33 1156.35 1544.94 Q1153.3 1549.52 1147.49 1549.52 Q1141.68 1549.52 1138.6 1544.94 Q1135.54 1540.33 1135.54 1531.6 Q1135.54 1522.85 1138.6 1518.27 Q1141.68 1513.66 1147.49 1513.66 Z\" fill=\"#000000\" fill-rule=\"nonzero\" fill-opacity=\"1\" /><polyline clip-path=\"url(#clip922)\" style=\"stroke:#000000; stroke-linecap:round; stroke-linejoin:round; stroke-width:2; stroke-opacity:0.1; fill:none\" points=\"156.251,1304.89 1137.74,1304.89 \"/>\n",
       "<polyline clip-path=\"url(#clip922)\" style=\"stroke:#000000; stroke-linecap:round; stroke-linejoin:round; stroke-width:2; stroke-opacity:0.1; fill:none\" points=\"156.251,1047.72 1137.74,1047.72 \"/>\n",
       "<polyline clip-path=\"url(#clip922)\" style=\"stroke:#000000; stroke-linecap:round; stroke-linejoin:round; stroke-width:2; stroke-opacity:0.1; fill:none\" points=\"156.251,790.558 1137.74,790.558 \"/>\n",
       "<polyline clip-path=\"url(#clip922)\" style=\"stroke:#000000; stroke-linecap:round; stroke-linejoin:round; stroke-width:2; stroke-opacity:0.1; fill:none\" points=\"156.251,533.393 1137.74,533.393 \"/>\n",
       "<polyline clip-path=\"url(#clip922)\" style=\"stroke:#000000; stroke-linecap:round; stroke-linejoin:round; stroke-width:2; stroke-opacity:0.1; fill:none\" points=\"156.251,276.227 1137.74,276.227 \"/>\n",
       "<polyline clip-path=\"url(#clip920)\" style=\"stroke:#000000; stroke-linecap:round; stroke-linejoin:round; stroke-width:4; stroke-opacity:1; fill:none\" points=\"156.251,1486.45 156.251,123.472 \"/>\n",
       "<polyline clip-path=\"url(#clip920)\" style=\"stroke:#000000; stroke-linecap:round; stroke-linejoin:round; stroke-width:4; stroke-opacity:1; fill:none\" points=\"156.251,1304.89 175.149,1304.89 \"/>\n",
       "<polyline clip-path=\"url(#clip920)\" style=\"stroke:#000000; stroke-linecap:round; stroke-linejoin:round; stroke-width:4; stroke-opacity:1; fill:none\" points=\"156.251,1047.72 175.149,1047.72 \"/>\n",
       "<polyline clip-path=\"url(#clip920)\" style=\"stroke:#000000; stroke-linecap:round; stroke-linejoin:round; stroke-width:4; stroke-opacity:1; fill:none\" points=\"156.251,790.558 175.149,790.558 \"/>\n",
       "<polyline clip-path=\"url(#clip920)\" style=\"stroke:#000000; stroke-linecap:round; stroke-linejoin:round; stroke-width:4; stroke-opacity:1; fill:none\" points=\"156.251,533.393 175.149,533.393 \"/>\n",
       "<polyline clip-path=\"url(#clip920)\" style=\"stroke:#000000; stroke-linecap:round; stroke-linejoin:round; stroke-width:4; stroke-opacity:1; fill:none\" points=\"156.251,276.227 175.149,276.227 \"/>\n",
       "<path clip-path=\"url(#clip920)\" d=\"M53.9782 1318.23 L61.6171 1318.23 L61.6171 1291.87 L53.3069 1293.53 L53.3069 1289.28 L61.5708 1287.61 L66.2467 1287.61 L66.2467 1318.23 L73.8855 1318.23 L73.8855 1322.17 L53.9782 1322.17 L53.9782 1318.23 Z\" fill=\"#000000\" fill-rule=\"nonzero\" fill-opacity=\"1\" /><path clip-path=\"url(#clip920)\" d=\"M83.3299 1316.29 L88.2141 1316.29 L88.2141 1322.17 L83.3299 1322.17 L83.3299 1316.29 Z\" fill=\"#000000\" fill-rule=\"nonzero\" fill-opacity=\"1\" /><path clip-path=\"url(#clip920)\" d=\"M108.399 1305.76 Q105.066 1305.76 103.145 1307.54 Q101.246 1309.32 101.246 1312.45 Q101.246 1315.57 103.145 1317.35 Q105.066 1319.14 108.399 1319.14 Q111.733 1319.14 113.654 1317.35 Q115.575 1315.55 115.575 1312.45 Q115.575 1309.32 113.654 1307.54 Q111.756 1305.76 108.399 1305.76 M103.723 1303.77 Q100.714 1303.03 99.0243 1300.96 Q97.3576 1298.9 97.3576 1295.94 Q97.3576 1291.8 100.297 1289.39 Q103.26 1286.98 108.399 1286.98 Q113.561 1286.98 116.501 1289.39 Q119.441 1291.8 119.441 1295.94 Q119.441 1298.9 117.751 1300.96 Q116.084 1303.03 113.098 1303.77 Q116.478 1304.55 118.353 1306.84 Q120.251 1309.14 120.251 1312.45 Q120.251 1317.47 117.172 1320.15 Q114.117 1322.84 108.399 1322.84 Q102.682 1322.84 99.603 1320.15 Q96.5474 1317.47 96.5474 1312.45 Q96.5474 1309.14 98.4456 1306.84 Q100.344 1304.55 103.723 1303.77 M102.01 1296.38 Q102.01 1299.07 103.677 1300.57 Q105.367 1302.08 108.399 1302.08 Q111.408 1302.08 113.098 1300.57 Q114.811 1299.07 114.811 1296.38 Q114.811 1293.7 113.098 1292.19 Q111.408 1290.69 108.399 1290.69 Q105.367 1290.69 103.677 1292.19 Q102.01 1293.7 102.01 1296.38 Z\" fill=\"#000000\" fill-rule=\"nonzero\" fill-opacity=\"1\" /><path clip-path=\"url(#clip920)\" d=\"M57.1032 1061.07 L73.4226 1061.07 L73.4226 1065 L51.4782 1065 L51.4782 1061.07 Q54.1403 1058.31 58.7236 1053.68 Q63.33 1049.03 64.5106 1047.69 Q66.7559 1045.17 67.6356 1043.43 Q68.5383 1041.67 68.5383 1039.98 Q68.5383 1037.23 66.5939 1035.49 Q64.6726 1033.75 61.5708 1033.75 Q59.3717 1033.75 56.918 1034.52 Q54.4875 1035.28 51.7097 1036.83 L51.7097 1032.11 Q54.5338 1030.98 56.9875 1030.4 Q59.4412 1029.82 61.4782 1029.82 Q66.8485 1029.82 70.0429 1032.5 Q73.2374 1035.19 73.2374 1039.68 Q73.2374 1041.81 72.4272 1043.73 Q71.6402 1045.63 69.5337 1048.22 Q68.955 1048.89 65.8532 1052.11 Q62.7513 1055.3 57.1032 1061.07 Z\" fill=\"#000000\" fill-rule=\"nonzero\" fill-opacity=\"1\" /><path clip-path=\"url(#clip920)\" d=\"M83.2373 1059.12 L88.1216 1059.12 L88.1216 1065 L83.2373 1065 L83.2373 1059.12 Z\" fill=\"#000000\" fill-rule=\"nonzero\" fill-opacity=\"1\" /><path clip-path=\"url(#clip920)\" d=\"M108.307 1033.52 Q104.696 1033.52 102.867 1037.09 Q101.061 1040.63 101.061 1047.76 Q101.061 1054.86 102.867 1058.43 Q104.696 1061.97 108.307 1061.97 Q111.941 1061.97 113.746 1058.43 Q115.575 1054.86 115.575 1047.76 Q115.575 1040.63 113.746 1037.09 Q111.941 1033.52 108.307 1033.52 M108.307 1029.82 Q114.117 1029.82 117.172 1034.42 Q120.251 1039.01 120.251 1047.76 Q120.251 1056.48 117.172 1061.09 Q114.117 1065.67 108.307 1065.67 Q102.496 1065.67 99.4178 1061.09 Q96.3623 1056.48 96.3623 1047.76 Q96.3623 1039.01 99.4178 1034.42 Q102.496 1029.82 108.307 1029.82 Z\" fill=\"#000000\" fill-rule=\"nonzero\" fill-opacity=\"1\" /><path clip-path=\"url(#clip920)\" d=\"M58.7004 803.903 L75.0198 803.903 L75.0198 807.838 L53.0754 807.838 L53.0754 803.903 Q55.7375 801.148 60.3208 796.519 Q64.9272 791.866 66.1078 790.523 Q68.3531 788 69.2328 786.264 Q70.1355 784.505 70.1355 782.815 Q70.1355 780.06 68.1911 778.324 Q66.2698 776.588 63.168 776.588 Q60.9689 776.588 58.5152 777.352 Q56.0847 778.116 53.3069 779.667 L53.3069 774.945 Q56.131 773.81 58.5847 773.232 Q61.0384 772.653 63.0754 772.653 Q68.4457 772.653 71.6402 775.338 Q74.8346 778.023 74.8346 782.514 Q74.8346 784.644 74.0244 786.565 Q73.2374 788.463 71.1309 791.056 Q70.5522 791.727 67.4504 794.945 Q64.3485 798.139 58.7004 803.903 Z\" fill=\"#000000\" fill-rule=\"nonzero\" fill-opacity=\"1\" /><path clip-path=\"url(#clip920)\" d=\"M84.8345 801.958 L89.7188 801.958 L89.7188 807.838 L84.8345 807.838 L84.8345 801.958 Z\" fill=\"#000000\" fill-rule=\"nonzero\" fill-opacity=\"1\" /><path clip-path=\"url(#clip920)\" d=\"M103.932 803.903 L120.251 803.903 L120.251 807.838 L98.3067 807.838 L98.3067 803.903 Q100.969 801.148 105.552 796.519 Q110.158 791.866 111.339 790.523 Q113.584 788 114.464 786.264 Q115.367 784.505 115.367 782.815 Q115.367 780.06 113.422 778.324 Q111.501 776.588 108.399 776.588 Q106.2 776.588 103.746 777.352 Q101.316 778.116 98.5382 779.667 L98.5382 774.945 Q101.362 773.81 103.816 773.232 Q106.27 772.653 108.307 772.653 Q113.677 772.653 116.871 775.338 Q120.066 778.023 120.066 782.514 Q120.066 784.644 119.256 786.565 Q118.469 788.463 116.362 791.056 Q115.783 791.727 112.682 794.945 Q109.58 798.139 103.932 803.903 Z\" fill=\"#000000\" fill-rule=\"nonzero\" fill-opacity=\"1\" /><path clip-path=\"url(#clip920)\" d=\"M56.6171 546.738 L72.9365 546.738 L72.9365 550.673 L50.9921 550.673 L50.9921 546.738 Q53.6541 543.983 58.2375 539.353 Q62.8439 534.701 64.0245 533.358 Q66.2698 530.835 67.1494 529.099 Q68.0522 527.34 68.0522 525.65 Q68.0522 522.895 66.1078 521.159 Q64.1865 519.423 61.0847 519.423 Q58.8856 519.423 56.4319 520.187 Q54.0014 520.951 51.2236 522.502 L51.2236 517.779 Q54.0477 516.645 56.5014 516.066 Q58.955 515.488 60.9921 515.488 Q66.3624 515.488 69.5568 518.173 Q72.7513 520.858 72.7513 525.349 Q72.7513 527.478 71.9411 529.4 Q71.1541 531.298 69.0476 533.89 Q68.4689 534.562 65.367 537.779 Q62.2652 540.974 56.6171 546.738 Z\" fill=\"#000000\" fill-rule=\"nonzero\" fill-opacity=\"1\" /><path clip-path=\"url(#clip920)\" d=\"M82.7512 544.793 L87.6354 544.793 L87.6354 550.673 L82.7512 550.673 L82.7512 544.793 Z\" fill=\"#000000\" fill-rule=\"nonzero\" fill-opacity=\"1\" /><path clip-path=\"url(#clip920)\" d=\"M110.668 520.187 L98.8622 538.636 L110.668 538.636 L110.668 520.187 M109.441 516.113 L115.32 516.113 L115.32 538.636 L120.251 538.636 L120.251 542.525 L115.32 542.525 L115.32 550.673 L110.668 550.673 L110.668 542.525 L95.066 542.525 L95.066 538.011 L109.441 516.113 Z\" fill=\"#000000\" fill-rule=\"nonzero\" fill-opacity=\"1\" /><path clip-path=\"url(#clip920)\" d=\"M56.9412 289.572 L73.2605 289.572 L73.2605 293.507 L51.3162 293.507 L51.3162 289.572 Q53.9782 286.818 58.5615 282.188 Q63.168 277.535 64.3485 276.193 Q66.5939 273.67 67.4735 271.934 Q68.3763 270.174 68.3763 268.484 Q68.3763 265.73 66.4319 263.994 Q64.5106 262.258 61.4087 262.258 Q59.2097 262.258 56.756 263.022 Q54.3254 263.785 51.5477 265.336 L51.5477 260.614 Q54.3717 259.48 56.8254 258.901 Q59.2791 258.322 61.3161 258.322 Q66.6865 258.322 69.8809 261.008 Q73.0753 263.693 73.0753 268.184 Q73.0753 270.313 72.2652 272.234 Q71.4781 274.133 69.3717 276.725 Q68.793 277.396 65.6911 280.614 Q62.5893 283.808 56.9412 289.572 Z\" fill=\"#000000\" fill-rule=\"nonzero\" fill-opacity=\"1\" /><path clip-path=\"url(#clip920)\" d=\"M83.0753 287.628 L87.9595 287.628 L87.9595 293.507 L83.0753 293.507 L83.0753 287.628 Z\" fill=\"#000000\" fill-rule=\"nonzero\" fill-opacity=\"1\" /><path clip-path=\"url(#clip920)\" d=\"M108.723 274.364 Q105.575 274.364 103.723 276.517 Q101.895 278.67 101.895 282.42 Q101.895 286.146 103.723 288.322 Q105.575 290.475 108.723 290.475 Q111.871 290.475 113.7 288.322 Q115.552 286.146 115.552 282.42 Q115.552 278.67 113.7 276.517 Q111.871 274.364 108.723 274.364 M118.006 259.711 L118.006 263.971 Q116.246 263.137 114.441 262.697 Q112.658 262.258 110.899 262.258 Q106.27 262.258 103.816 265.383 Q101.385 268.508 101.038 274.827 Q102.404 272.813 104.464 271.748 Q106.524 270.66 109.001 270.66 Q114.209 270.66 117.219 273.832 Q120.251 276.98 120.251 282.42 Q120.251 287.744 117.103 290.961 Q113.955 294.179 108.723 294.179 Q102.728 294.179 99.5567 289.595 Q96.3854 284.989 96.3854 276.262 Q96.3854 268.068 100.274 263.207 Q104.163 258.322 110.714 258.322 Q112.473 258.322 114.256 258.67 Q116.061 259.017 118.006 259.711 Z\" fill=\"#000000\" fill-rule=\"nonzero\" fill-opacity=\"1\" /><path clip-path=\"url(#clip920)\" d=\"M317.902 34.0924 L317.902 9.54393 L325.356 9.54393 L325.356 72.576 L317.902 72.576 L317.902 65.7705 Q315.553 69.8214 311.947 71.8063 Q308.383 73.7508 303.36 73.7508 Q295.136 73.7508 289.951 67.1883 Q284.806 60.6258 284.806 49.9314 Q284.806 39.2371 289.951 32.6746 Q295.136 26.1121 303.36 26.1121 Q308.383 26.1121 311.947 28.0971 Q315.553 30.0415 317.902 34.0924 M292.503 49.9314 Q292.503 58.1548 295.865 62.8538 Q299.268 67.5124 305.182 67.5124 Q311.097 67.5124 314.499 62.8538 Q317.902 58.1548 317.902 49.9314 Q317.902 41.7081 314.499 37.0496 Q311.097 32.3505 305.182 32.3505 Q299.268 32.3505 295.865 37.0496 Q292.503 41.7081 292.503 49.9314 Z\" fill=\"#000000\" fill-rule=\"nonzero\" fill-opacity=\"1\" /><path clip-path=\"url(#clip920)\" d=\"M340.709 27.2059 L348.163 27.2059 L348.163 72.576 L340.709 72.576 L340.709 27.2059 M340.709 9.54393 L348.163 9.54393 L348.163 18.9825 L340.709 18.9825 L340.709 9.54393 Z\" fill=\"#000000\" fill-rule=\"nonzero\" fill-opacity=\"1\" /><path clip-path=\"url(#clip920)\" d=\"M392.682 28.5427 L392.682 35.5912 Q389.522 33.9709 386.119 33.1607 Q382.717 32.3505 379.071 32.3505 Q373.521 32.3505 370.726 34.0519 Q367.971 35.7533 367.971 39.156 Q367.971 41.7486 369.956 43.2475 Q371.941 44.7058 377.937 46.0426 L380.489 46.6097 Q388.428 48.3111 391.75 51.4303 Q395.112 54.509 395.112 60.0587 Q395.112 66.3781 390.089 70.0644 Q385.107 73.7508 376.357 73.7508 Q372.711 73.7508 368.741 73.0216 Q364.812 72.3329 360.437 70.9151 L360.437 63.2184 Q364.569 65.3654 368.579 66.4591 Q372.589 67.5124 376.519 67.5124 Q381.785 67.5124 384.621 65.73 Q387.456 63.9071 387.456 60.6258 Q387.456 57.5877 385.39 55.9673 Q383.365 54.3469 376.438 52.8481 L373.845 52.2405 Q366.918 50.7821 363.84 47.7845 Q360.761 44.7463 360.761 39.4801 Q360.761 33.0797 365.298 29.5959 Q369.835 26.1121 378.18 26.1121 Q382.312 26.1121 385.957 26.7198 Q389.603 27.3274 392.682 28.5427 Z\" fill=\"#000000\" fill-rule=\"nonzero\" fill-opacity=\"1\" /><path clip-path=\"url(#clip920)\" d=\"M439.632 28.9478 L439.632 35.9153 Q436.472 34.1734 433.272 33.3227 Q430.112 32.4315 426.872 32.4315 Q419.62 32.4315 415.61 37.0496 Q411.6 41.6271 411.6 49.9314 Q411.6 58.2358 415.61 62.8538 Q419.62 67.4314 426.872 67.4314 Q430.112 67.4314 433.272 66.5807 Q436.472 65.6895 439.632 63.9476 L439.632 70.8341 Q436.513 72.2924 433.15 73.0216 Q429.829 73.7508 426.061 73.7508 Q415.813 73.7508 409.777 67.3098 Q403.741 60.8689 403.741 49.9314 Q403.741 38.832 409.817 32.472 Q415.934 26.1121 426.548 26.1121 Q429.991 26.1121 433.272 26.8413 Q436.553 27.5299 439.632 28.9478 Z\" fill=\"#000000\" fill-rule=\"nonzero\" fill-opacity=\"1\" /><path clip-path=\"url(#clip920)\" d=\"M478.885 34.1734 Q477.629 33.4443 476.131 33.1202 Q474.672 32.7556 472.89 32.7556 Q466.57 32.7556 463.168 36.8875 Q459.805 40.9789 459.805 48.6757 L459.805 72.576 L452.311 72.576 L452.311 27.2059 L459.805 27.2059 L459.805 34.2544 Q462.155 30.1225 465.922 28.1376 Q469.69 26.1121 475.077 26.1121 Q475.847 26.1121 476.779 26.2337 Q477.71 26.3147 478.845 26.5172 L478.885 34.1734 Z\" fill=\"#000000\" fill-rule=\"nonzero\" fill-opacity=\"1\" /><path clip-path=\"url(#clip920)\" d=\"M486.703 27.2059 L494.157 27.2059 L494.157 72.576 L486.703 72.576 L486.703 27.2059 M486.703 9.54393 L494.157 9.54393 L494.157 18.9825 L486.703 18.9825 L486.703 9.54393 Z\" fill=\"#000000\" fill-rule=\"nonzero\" fill-opacity=\"1\" /><path clip-path=\"url(#clip920)\" d=\"M545.077 35.9153 Q547.872 30.8922 551.761 28.5022 Q555.65 26.1121 560.916 26.1121 Q568.005 26.1121 571.853 31.0947 Q575.702 36.0368 575.702 45.1919 L575.702 72.576 L568.208 72.576 L568.208 45.4349 Q568.208 38.913 565.899 35.7533 Q563.59 32.5936 558.85 32.5936 Q553.057 32.5936 549.695 36.4419 Q546.333 40.2903 546.333 46.9338 L546.333 72.576 L538.839 72.576 L538.839 45.4349 Q538.839 38.8725 536.53 35.7533 Q534.221 32.5936 529.4 32.5936 Q523.688 32.5936 520.326 36.4824 Q516.964 40.3308 516.964 46.9338 L516.964 72.576 L509.47 72.576 L509.47 27.2059 L516.964 27.2059 L516.964 34.2544 Q519.516 30.082 523.081 28.0971 Q526.645 26.1121 531.547 26.1121 Q536.489 26.1121 539.932 28.6237 Q543.416 31.1352 545.077 35.9153 Z\" fill=\"#000000\" fill-rule=\"nonzero\" fill-opacity=\"1\" /><path clip-path=\"url(#clip920)\" d=\"M590.569 27.2059 L598.022 27.2059 L598.022 72.576 L590.569 72.576 L590.569 27.2059 M590.569 9.54393 L598.022 9.54393 L598.022 18.9825 L590.569 18.9825 L590.569 9.54393 Z\" fill=\"#000000\" fill-rule=\"nonzero\" fill-opacity=\"1\" /><path clip-path=\"url(#clip920)\" d=\"M651.332 45.1919 L651.332 72.576 L643.879 72.576 L643.879 45.4349 Q643.879 38.994 641.367 35.7938 Q638.855 32.5936 633.832 32.5936 Q627.796 32.5936 624.313 36.4419 Q620.829 40.2903 620.829 46.9338 L620.829 72.576 L613.335 72.576 L613.335 27.2059 L620.829 27.2059 L620.829 34.2544 Q623.502 30.163 627.108 28.1376 Q630.754 26.1121 635.493 26.1121 Q643.311 26.1121 647.322 30.9732 Q651.332 35.7938 651.332 45.1919 Z\" fill=\"#000000\" fill-rule=\"nonzero\" fill-opacity=\"1\" /><path clip-path=\"url(#clip920)\" d=\"M686.818 49.7694 Q677.785 49.7694 674.301 51.8354 Q670.817 53.9013 670.817 58.8839 Q670.817 62.8538 673.41 65.2034 Q676.043 67.5124 680.539 67.5124 Q686.737 67.5124 690.464 63.1374 Q694.231 58.7219 694.231 51.4303 L694.231 49.7694 L686.818 49.7694 M701.685 46.6907 L701.685 72.576 L694.231 72.576 L694.231 65.6895 Q691.679 69.8214 687.871 71.8063 Q684.063 73.7508 678.554 73.7508 Q671.587 73.7508 667.455 69.8619 Q663.363 65.9325 663.363 59.3701 Q663.363 51.7138 668.468 47.825 Q673.612 43.9361 683.78 43.9361 L694.231 43.9361 L694.231 43.2069 Q694.231 38.0623 690.828 35.2672 Q687.466 32.4315 681.349 32.4315 Q677.461 32.4315 673.774 33.3632 Q670.088 34.295 666.685 36.1584 L666.685 29.2718 Q670.777 27.692 674.625 26.9223 Q678.473 26.1121 682.119 26.1121 Q691.963 26.1121 696.824 31.2163 Q701.685 36.3204 701.685 46.6907 Z\" fill=\"#000000\" fill-rule=\"nonzero\" fill-opacity=\"1\" /><path clip-path=\"url(#clip920)\" d=\"M724.41 14.324 L724.41 27.2059 L739.763 27.2059 L739.763 32.9987 L724.41 32.9987 L724.41 57.6282 Q724.41 63.1779 725.909 64.7578 Q727.449 66.3376 732.107 66.3376 L739.763 66.3376 L739.763 72.576 L732.107 72.576 Q723.479 72.576 720.198 69.3758 Q716.916 66.1351 716.916 57.6282 L716.916 32.9987 L711.448 32.9987 L711.448 27.2059 L716.916 27.2059 L716.916 14.324 L724.41 14.324 Z\" fill=\"#000000\" fill-rule=\"nonzero\" fill-opacity=\"1\" /><path clip-path=\"url(#clip920)\" d=\"M767.148 32.4315 Q761.152 32.4315 757.668 37.1306 Q754.185 41.7891 754.185 49.9314 Q754.185 58.0738 757.628 62.7728 Q761.112 67.4314 767.148 67.4314 Q773.102 67.4314 776.586 62.7323 Q780.07 58.0333 780.07 49.9314 Q780.07 41.8701 776.586 37.1711 Q773.102 32.4315 767.148 32.4315 M767.148 26.1121 Q776.87 26.1121 782.419 32.4315 Q787.969 38.7509 787.969 49.9314 Q787.969 61.0714 782.419 67.4314 Q776.87 73.7508 767.148 73.7508 Q757.385 73.7508 751.835 67.4314 Q746.326 61.0714 746.326 49.9314 Q746.326 38.7509 751.835 32.4315 Q757.385 26.1121 767.148 26.1121 Z\" fill=\"#000000\" fill-rule=\"nonzero\" fill-opacity=\"1\" /><path clip-path=\"url(#clip920)\" d=\"M826.615 34.1734 Q825.359 33.4443 823.86 33.1202 Q822.402 32.7556 820.619 32.7556 Q814.3 32.7556 810.897 36.8875 Q807.535 40.9789 807.535 48.6757 L807.535 72.576 L800.041 72.576 L800.041 27.2059 L807.535 27.2059 L807.535 34.2544 Q809.885 30.1225 813.652 28.1376 Q817.419 26.1121 822.807 26.1121 Q823.577 26.1121 824.508 26.2337 Q825.44 26.3147 826.574 26.5172 L826.615 34.1734 Z\" fill=\"#000000\" fill-rule=\"nonzero\" fill-opacity=\"1\" /><path clip-path=\"url(#clip920)\" d=\"M860.804 9.54393 L868.258 9.54393 L868.258 72.576 L860.804 72.576 L860.804 9.54393 Z\" fill=\"#000000\" fill-rule=\"nonzero\" fill-opacity=\"1\" /><path clip-path=\"url(#clip920)\" d=\"M901.435 32.4315 Q895.44 32.4315 891.956 37.1306 Q888.472 41.7891 888.472 49.9314 Q888.472 58.0738 891.915 62.7728 Q895.399 67.4314 901.435 67.4314 Q907.39 67.4314 910.874 62.7323 Q914.357 58.0333 914.357 49.9314 Q914.357 41.8701 910.874 37.1711 Q907.39 32.4315 901.435 32.4315 M901.435 26.1121 Q911.157 26.1121 916.707 32.4315 Q922.257 38.7509 922.257 49.9314 Q922.257 61.0714 916.707 67.4314 Q911.157 73.7508 901.435 73.7508 Q891.672 73.7508 886.123 67.4314 Q880.613 61.0714 880.613 49.9314 Q880.613 38.7509 886.123 32.4315 Q891.672 26.1121 901.435 26.1121 Z\" fill=\"#000000\" fill-rule=\"nonzero\" fill-opacity=\"1\" /><path clip-path=\"url(#clip920)\" d=\"M963.535 28.5427 L963.535 35.5912 Q960.376 33.9709 956.973 33.1607 Q953.57 32.3505 949.924 32.3505 Q944.375 32.3505 941.579 34.0519 Q938.825 35.7533 938.825 39.156 Q938.825 41.7486 940.81 43.2475 Q942.795 44.7058 948.79 46.0426 L951.342 46.6097 Q959.282 48.3111 962.604 51.4303 Q965.966 54.509 965.966 60.0587 Q965.966 66.3781 960.943 70.0644 Q955.96 73.7508 947.21 73.7508 Q943.564 73.7508 939.595 73.0216 Q935.665 72.3329 931.29 70.9151 L931.29 63.2184 Q935.422 65.3654 939.432 66.4591 Q943.443 67.5124 947.372 67.5124 Q952.638 67.5124 955.474 65.73 Q958.31 63.9071 958.31 60.6258 Q958.31 57.5877 956.244 55.9673 Q954.218 54.3469 947.291 52.8481 L944.699 52.2405 Q937.772 50.7821 934.693 47.7845 Q931.614 44.7463 931.614 39.4801 Q931.614 33.0797 936.151 29.5959 Q940.688 26.1121 949.033 26.1121 Q953.165 26.1121 956.811 26.7198 Q960.457 27.3274 963.535 28.5427 Z\" fill=\"#000000\" fill-rule=\"nonzero\" fill-opacity=\"1\" /><path clip-path=\"url(#clip920)\" d=\"M1006.76 28.5427 L1006.76 35.5912 Q1003.6 33.9709 1000.2 33.1607 Q996.793 32.3505 993.147 32.3505 Q987.598 32.3505 984.803 34.0519 Q982.048 35.7533 982.048 39.156 Q982.048 41.7486 984.033 43.2475 Q986.018 44.7058 992.013 46.0426 L994.565 46.6097 Q1002.51 48.3111 1005.83 51.4303 Q1009.19 54.509 1009.19 60.0587 Q1009.19 66.3781 1004.17 70.0644 Q999.183 73.7508 990.433 73.7508 Q986.788 73.7508 982.818 73.0216 Q978.888 72.3329 974.513 70.9151 L974.513 63.2184 Q978.645 65.3654 982.656 66.4591 Q986.666 67.5124 990.595 67.5124 Q995.862 67.5124 998.697 65.73 Q1001.53 63.9071 1001.53 60.6258 Q1001.53 57.5877 999.467 55.9673 Q997.441 54.3469 990.514 52.8481 L987.922 52.2405 Q980.995 50.7821 977.916 47.7845 Q974.837 44.7463 974.837 39.4801 Q974.837 33.0797 979.374 29.5959 Q983.911 26.1121 992.256 26.1121 Q996.388 26.1121 1000.03 26.7198 Q1003.68 27.3274 1006.76 28.5427 Z\" fill=\"#000000\" fill-rule=\"nonzero\" fill-opacity=\"1\" /><path clip-path=\"url(#clip920)\" d=\"M954.448 272.585 L1105.03 272.585 L1105.03 168.905 L954.448 168.905  Z\" fill=\"#ffffff\" fill-rule=\"evenodd\" fill-opacity=\"1\"/>\n",
       "<polyline clip-path=\"url(#clip920)\" style=\"stroke:#000000; stroke-linecap:round; stroke-linejoin:round; stroke-width:4; stroke-opacity:1; fill:none\" points=\"954.448,272.585 1105.03,272.585 1105.03,168.905 954.448,168.905 954.448,272.585 \"/>\n",
       "<polyline clip-path=\"url(#clip920)\" style=\"stroke:#009af9; stroke-linecap:round; stroke-linejoin:round; stroke-width:4; stroke-opacity:1; fill:none\" points=\"965.354,220.745 1030.79,220.745 \"/>\n",
       "<path clip-path=\"url(#clip920)\" d=\"M1055.53 240.432 Q1053.73 245.062 1052.02 246.474 Q1050.3 247.886 1047.43 247.886 L1044.03 247.886 L1044.03 244.321 L1046.53 244.321 Q1048.29 244.321 1049.26 243.488 Q1050.23 242.654 1051.41 239.552 L1052.18 237.608 L1041.69 212.099 L1046.21 212.099 L1054.31 232.377 L1062.41 212.099 L1066.92 212.099 L1055.53 240.432 Z\" fill=\"#000000\" fill-rule=\"nonzero\" fill-opacity=\"1\" /><path clip-path=\"url(#clip920)\" d=\"M1074.22 234.089 L1081.85 234.089 L1081.85 207.724 L1073.54 209.391 L1073.54 205.131 L1081.81 203.465 L1086.48 203.465 L1086.48 234.089 L1094.12 234.089 L1094.12 238.025 L1074.22 238.025 L1074.22 234.089 Z\" fill=\"#000000\" fill-rule=\"nonzero\" fill-opacity=\"1\" /><path clip-path=\"url(#clip920)\" d=\"M1371.26 1486.45 L2352.76 1486.45 L2352.76 123.472 L1371.26 123.472  Z\" fill=\"#ffffff\" fill-rule=\"evenodd\" fill-opacity=\"1\"/>\n",
       "<defs>\n",
       "  <clipPath id=\"clip923\">\n",
       "    <rect x=\"1371\" y=\"123\" width=\"982\" height=\"1364\"/>\n",
       "  </clipPath>\n",
       "</defs>\n",
       "<polyline clip-path=\"url(#clip923)\" style=\"stroke:#000000; stroke-linecap:round; stroke-linejoin:round; stroke-width:2; stroke-opacity:0.1; fill:none\" points=\"1399.04,1486.45 1399.04,123.472 \"/>\n",
       "<polyline clip-path=\"url(#clip923)\" style=\"stroke:#000000; stroke-linecap:round; stroke-linejoin:round; stroke-width:2; stroke-opacity:0.1; fill:none\" points=\"1630.52,1486.45 1630.52,123.472 \"/>\n",
       "<polyline clip-path=\"url(#clip923)\" style=\"stroke:#000000; stroke-linecap:round; stroke-linejoin:round; stroke-width:2; stroke-opacity:0.1; fill:none\" points=\"1862.01,1486.45 1862.01,123.472 \"/>\n",
       "<polyline clip-path=\"url(#clip923)\" style=\"stroke:#000000; stroke-linecap:round; stroke-linejoin:round; stroke-width:2; stroke-opacity:0.1; fill:none\" points=\"2093.49,1486.45 2093.49,123.472 \"/>\n",
       "<polyline clip-path=\"url(#clip923)\" style=\"stroke:#000000; stroke-linecap:round; stroke-linejoin:round; stroke-width:2; stroke-opacity:0.1; fill:none\" points=\"2324.98,1486.45 2324.98,123.472 \"/>\n",
       "<polyline clip-path=\"url(#clip920)\" style=\"stroke:#000000; stroke-linecap:round; stroke-linejoin:round; stroke-width:4; stroke-opacity:1; fill:none\" points=\"1371.26,1486.45 2352.76,1486.45 \"/>\n",
       "<polyline clip-path=\"url(#clip920)\" style=\"stroke:#000000; stroke-linecap:round; stroke-linejoin:round; stroke-width:4; stroke-opacity:1; fill:none\" points=\"1399.04,1486.45 1399.04,1467.55 \"/>\n",
       "<polyline clip-path=\"url(#clip920)\" style=\"stroke:#000000; stroke-linecap:round; stroke-linejoin:round; stroke-width:4; stroke-opacity:1; fill:none\" points=\"1630.52,1486.45 1630.52,1467.55 \"/>\n",
       "<polyline clip-path=\"url(#clip920)\" style=\"stroke:#000000; stroke-linecap:round; stroke-linejoin:round; stroke-width:4; stroke-opacity:1; fill:none\" points=\"1862.01,1486.45 1862.01,1467.55 \"/>\n",
       "<polyline clip-path=\"url(#clip920)\" style=\"stroke:#000000; stroke-linecap:round; stroke-linejoin:round; stroke-width:4; stroke-opacity:1; fill:none\" points=\"2093.49,1486.45 2093.49,1467.55 \"/>\n",
       "<polyline clip-path=\"url(#clip920)\" style=\"stroke:#000000; stroke-linecap:round; stroke-linejoin:round; stroke-width:4; stroke-opacity:1; fill:none\" points=\"2324.98,1486.45 2324.98,1467.55 \"/>\n",
       "<path clip-path=\"url(#clip920)\" d=\"M1361.34 1517.37 Q1357.73 1517.37 1355.9 1520.93 Q1354.1 1524.47 1354.1 1531.6 Q1354.1 1538.71 1355.9 1542.27 Q1357.73 1545.82 1361.34 1545.82 Q1364.98 1545.82 1366.78 1542.27 Q1368.61 1538.71 1368.61 1531.6 Q1368.61 1524.47 1366.78 1520.93 Q1364.98 1517.37 1361.34 1517.37 M1361.34 1513.66 Q1367.15 1513.66 1370.21 1518.27 Q1373.29 1522.85 1373.29 1531.6 Q1373.29 1540.33 1370.21 1544.94 Q1367.15 1549.52 1361.34 1549.52 Q1355.53 1549.52 1352.46 1544.94 Q1349.4 1540.33 1349.4 1531.6 Q1349.4 1522.85 1352.46 1518.27 Q1355.53 1513.66 1361.34 1513.66 Z\" fill=\"#000000\" fill-rule=\"nonzero\" fill-opacity=\"1\" /><path clip-path=\"url(#clip920)\" d=\"M1381.51 1542.97 L1386.39 1542.97 L1386.39 1548.85 L1381.51 1548.85 L1381.51 1542.97 Z\" fill=\"#000000\" fill-rule=\"nonzero\" fill-opacity=\"1\" /><path clip-path=\"url(#clip920)\" d=\"M1406.58 1517.37 Q1402.96 1517.37 1401.14 1520.93 Q1399.33 1524.47 1399.33 1531.6 Q1399.33 1538.71 1401.14 1542.27 Q1402.96 1545.82 1406.58 1545.82 Q1410.21 1545.82 1412.02 1542.27 Q1413.84 1538.71 1413.84 1531.6 Q1413.84 1524.47 1412.02 1520.93 Q1410.21 1517.37 1406.58 1517.37 M1406.58 1513.66 Q1412.39 1513.66 1415.44 1518.27 Q1418.52 1522.85 1418.52 1531.6 Q1418.52 1540.33 1415.44 1544.94 Q1412.39 1549.52 1406.58 1549.52 Q1400.77 1549.52 1397.69 1544.94 Q1394.63 1540.33 1394.63 1531.6 Q1394.63 1522.85 1397.69 1518.27 Q1400.77 1513.66 1406.58 1513.66 Z\" fill=\"#000000\" fill-rule=\"nonzero\" fill-opacity=\"1\" /><path clip-path=\"url(#clip920)\" d=\"M1436.74 1517.37 Q1433.13 1517.37 1431.3 1520.93 Q1429.49 1524.47 1429.49 1531.6 Q1429.49 1538.71 1431.3 1542.27 Q1433.13 1545.82 1436.74 1545.82 Q1440.37 1545.82 1442.18 1542.27 Q1444.01 1538.71 1444.01 1531.6 Q1444.01 1524.47 1442.18 1520.93 Q1440.37 1517.37 1436.74 1517.37 M1436.74 1513.66 Q1442.55 1513.66 1445.6 1518.27 Q1448.68 1522.85 1448.68 1531.6 Q1448.68 1540.33 1445.6 1544.94 Q1442.55 1549.52 1436.74 1549.52 Q1430.93 1549.52 1427.85 1544.94 Q1424.79 1540.33 1424.79 1531.6 Q1424.79 1522.85 1427.85 1518.27 Q1430.93 1513.66 1436.74 1513.66 Z\" fill=\"#000000\" fill-rule=\"nonzero\" fill-opacity=\"1\" /><path clip-path=\"url(#clip920)\" d=\"M1593.33 1517.37 Q1589.71 1517.37 1587.89 1520.93 Q1586.08 1524.47 1586.08 1531.6 Q1586.08 1538.71 1587.89 1542.27 Q1589.71 1545.82 1593.33 1545.82 Q1596.96 1545.82 1598.77 1542.27 Q1600.59 1538.71 1600.59 1531.6 Q1600.59 1524.47 1598.77 1520.93 Q1596.96 1517.37 1593.33 1517.37 M1593.33 1513.66 Q1599.14 1513.66 1602.19 1518.27 Q1605.27 1522.85 1605.27 1531.6 Q1605.27 1540.33 1602.19 1544.94 Q1599.14 1549.52 1593.33 1549.52 Q1587.52 1549.52 1584.44 1544.94 Q1581.38 1540.33 1581.38 1531.6 Q1581.38 1522.85 1584.44 1518.27 Q1587.52 1513.66 1593.33 1513.66 Z\" fill=\"#000000\" fill-rule=\"nonzero\" fill-opacity=\"1\" /><path clip-path=\"url(#clip920)\" d=\"M1613.49 1542.97 L1618.37 1542.97 L1618.37 1548.85 L1613.49 1548.85 L1613.49 1542.97 Z\" fill=\"#000000\" fill-rule=\"nonzero\" fill-opacity=\"1\" /><path clip-path=\"url(#clip920)\" d=\"M1632.59 1544.91 L1648.9 1544.91 L1648.9 1548.85 L1626.96 1548.85 L1626.96 1544.91 Q1629.62 1542.16 1634.21 1537.53 Q1638.81 1532.88 1639.99 1531.53 Q1642.24 1529.01 1643.12 1527.27 Q1644.02 1525.51 1644.02 1523.82 Q1644.02 1521.07 1642.08 1519.33 Q1640.15 1517.6 1637.05 1517.6 Q1634.85 1517.6 1632.4 1518.36 Q1629.97 1519.13 1627.19 1520.68 L1627.19 1515.95 Q1630.02 1514.82 1632.47 1514.24 Q1634.92 1513.66 1636.96 1513.66 Q1642.33 1513.66 1645.52 1516.35 Q1648.72 1519.03 1648.72 1523.52 Q1648.72 1525.65 1647.91 1527.57 Q1647.12 1529.47 1645.02 1532.07 Q1644.44 1532.74 1641.34 1535.95 Q1638.23 1539.15 1632.59 1544.91 Z\" fill=\"#000000\" fill-rule=\"nonzero\" fill-opacity=\"1\" /><path clip-path=\"url(#clip920)\" d=\"M1658.77 1514.29 L1677.12 1514.29 L1677.12 1518.22 L1663.05 1518.22 L1663.05 1526.7 Q1664.07 1526.35 1665.08 1526.19 Q1666.1 1526 1667.12 1526 Q1672.91 1526 1676.29 1529.17 Q1679.67 1532.34 1679.67 1537.76 Q1679.67 1543.34 1676.2 1546.44 Q1672.72 1549.52 1666.4 1549.52 Q1664.23 1549.52 1661.96 1549.15 Q1659.71 1548.78 1657.31 1548.04 L1657.31 1543.34 Q1659.39 1544.47 1661.61 1545.03 Q1663.83 1545.58 1666.31 1545.58 Q1670.32 1545.58 1672.65 1543.48 Q1674.99 1541.37 1674.99 1537.76 Q1674.99 1534.15 1672.65 1532.04 Q1670.32 1529.94 1666.31 1529.94 Q1664.44 1529.94 1662.56 1530.35 Q1660.71 1530.77 1658.77 1531.65 L1658.77 1514.29 Z\" fill=\"#000000\" fill-rule=\"nonzero\" fill-opacity=\"1\" /><path clip-path=\"url(#clip920)\" d=\"M1824.31 1517.37 Q1820.7 1517.37 1818.87 1520.93 Q1817.07 1524.47 1817.07 1531.6 Q1817.07 1538.71 1818.87 1542.27 Q1820.7 1545.82 1824.31 1545.82 Q1827.95 1545.82 1829.75 1542.27 Q1831.58 1538.71 1831.58 1531.6 Q1831.58 1524.47 1829.75 1520.93 Q1827.95 1517.37 1824.31 1517.37 M1824.31 1513.66 Q1830.12 1513.66 1833.18 1518.27 Q1836.26 1522.85 1836.26 1531.6 Q1836.26 1540.33 1833.18 1544.94 Q1830.12 1549.52 1824.31 1549.52 Q1818.5 1549.52 1815.42 1544.94 Q1812.37 1540.33 1812.37 1531.6 Q1812.37 1522.85 1815.42 1518.27 Q1818.5 1513.66 1824.31 1513.66 Z\" fill=\"#000000\" fill-rule=\"nonzero\" fill-opacity=\"1\" /><path clip-path=\"url(#clip920)\" d=\"M1844.47 1542.97 L1849.36 1542.97 L1849.36 1548.85 L1844.47 1548.85 L1844.47 1542.97 Z\" fill=\"#000000\" fill-rule=\"nonzero\" fill-opacity=\"1\" /><path clip-path=\"url(#clip920)\" d=\"M1859.59 1514.29 L1877.95 1514.29 L1877.95 1518.22 L1863.87 1518.22 L1863.87 1526.7 Q1864.89 1526.35 1865.91 1526.19 Q1866.93 1526 1867.95 1526 Q1873.73 1526 1877.11 1529.17 Q1880.49 1532.34 1880.49 1537.76 Q1880.49 1543.34 1877.02 1546.44 Q1873.55 1549.52 1867.23 1549.52 Q1865.05 1549.52 1862.78 1549.15 Q1860.54 1548.78 1858.13 1548.04 L1858.13 1543.34 Q1860.22 1544.47 1862.44 1545.03 Q1864.66 1545.58 1867.14 1545.58 Q1871.14 1545.58 1873.48 1543.48 Q1875.82 1541.37 1875.82 1537.76 Q1875.82 1534.15 1873.48 1532.04 Q1871.14 1529.94 1867.14 1529.94 Q1865.26 1529.94 1863.39 1530.35 Q1861.53 1530.77 1859.59 1531.65 L1859.59 1514.29 Z\" fill=\"#000000\" fill-rule=\"nonzero\" fill-opacity=\"1\" /><path clip-path=\"url(#clip920)\" d=\"M1899.71 1517.37 Q1896.09 1517.37 1894.27 1520.93 Q1892.46 1524.47 1892.46 1531.6 Q1892.46 1538.71 1894.27 1542.27 Q1896.09 1545.82 1899.71 1545.82 Q1903.34 1545.82 1905.15 1542.27 Q1906.97 1538.71 1906.97 1531.6 Q1906.97 1524.47 1905.15 1520.93 Q1903.34 1517.37 1899.71 1517.37 M1899.71 1513.66 Q1905.52 1513.66 1908.57 1518.27 Q1911.65 1522.85 1911.65 1531.6 Q1911.65 1540.33 1908.57 1544.94 Q1905.52 1549.52 1899.71 1549.52 Q1893.9 1549.52 1890.82 1544.94 Q1887.76 1540.33 1887.76 1531.6 Q1887.76 1522.85 1890.82 1518.27 Q1893.9 1513.66 1899.71 1513.66 Z\" fill=\"#000000\" fill-rule=\"nonzero\" fill-opacity=\"1\" /><path clip-path=\"url(#clip920)\" d=\"M2056.29 1517.37 Q2052.68 1517.37 2050.85 1520.93 Q2049.05 1524.47 2049.05 1531.6 Q2049.05 1538.71 2050.85 1542.27 Q2052.68 1545.82 2056.29 1545.82 Q2059.93 1545.82 2061.73 1542.27 Q2063.56 1538.71 2063.56 1531.6 Q2063.56 1524.47 2061.73 1520.93 Q2059.93 1517.37 2056.29 1517.37 M2056.29 1513.66 Q2062.1 1513.66 2065.16 1518.27 Q2068.24 1522.85 2068.24 1531.6 Q2068.24 1540.33 2065.16 1544.94 Q2062.1 1549.52 2056.29 1549.52 Q2050.48 1549.52 2047.41 1544.94 Q2044.35 1540.33 2044.35 1531.6 Q2044.35 1522.85 2047.41 1518.27 Q2050.48 1513.66 2056.29 1513.66 Z\" fill=\"#000000\" fill-rule=\"nonzero\" fill-opacity=\"1\" /><path clip-path=\"url(#clip920)\" d=\"M2076.46 1542.97 L2081.34 1542.97 L2081.34 1548.85 L2076.46 1548.85 L2076.46 1542.97 Z\" fill=\"#000000\" fill-rule=\"nonzero\" fill-opacity=\"1\" /><path clip-path=\"url(#clip920)\" d=\"M2090.35 1514.29 L2112.57 1514.29 L2112.57 1516.28 L2100.02 1548.85 L2095.14 1548.85 L2106.94 1518.22 L2090.35 1518.22 L2090.35 1514.29 Z\" fill=\"#000000\" fill-rule=\"nonzero\" fill-opacity=\"1\" /><path clip-path=\"url(#clip920)\" d=\"M2121.73 1514.29 L2140.09 1514.29 L2140.09 1518.22 L2126.02 1518.22 L2126.02 1526.7 Q2127.03 1526.35 2128.05 1526.19 Q2129.07 1526 2130.09 1526 Q2135.88 1526 2139.26 1529.17 Q2142.64 1532.34 2142.64 1537.76 Q2142.64 1543.34 2139.16 1546.44 Q2135.69 1549.52 2129.37 1549.52 Q2127.2 1549.52 2124.93 1549.15 Q2122.68 1548.78 2120.28 1548.04 L2120.28 1543.34 Q2122.36 1544.47 2124.58 1545.03 Q2126.8 1545.58 2129.28 1545.58 Q2133.28 1545.58 2135.62 1543.48 Q2137.96 1541.37 2137.96 1537.76 Q2137.96 1534.15 2135.62 1532.04 Q2133.28 1529.94 2129.28 1529.94 Q2127.41 1529.94 2125.53 1530.35 Q2123.68 1530.77 2121.73 1531.65 L2121.73 1514.29 Z\" fill=\"#000000\" fill-rule=\"nonzero\" fill-opacity=\"1\" /><path clip-path=\"url(#clip920)\" d=\"M2277.05 1544.91 L2284.69 1544.91 L2284.69 1518.55 L2276.38 1520.21 L2276.38 1515.95 L2284.64 1514.29 L2289.32 1514.29 L2289.32 1544.91 L2296.96 1544.91 L2296.96 1548.85 L2277.05 1548.85 L2277.05 1544.91 Z\" fill=\"#000000\" fill-rule=\"nonzero\" fill-opacity=\"1\" /><path clip-path=\"url(#clip920)\" d=\"M2306.4 1542.97 L2311.29 1542.97 L2311.29 1548.85 L2306.4 1548.85 L2306.4 1542.97 Z\" fill=\"#000000\" fill-rule=\"nonzero\" fill-opacity=\"1\" /><path clip-path=\"url(#clip920)\" d=\"M2331.47 1517.37 Q2327.86 1517.37 2326.03 1520.93 Q2324.23 1524.47 2324.23 1531.6 Q2324.23 1538.71 2326.03 1542.27 Q2327.86 1545.82 2331.47 1545.82 Q2335.11 1545.82 2336.91 1542.27 Q2338.74 1538.71 2338.74 1531.6 Q2338.74 1524.47 2336.91 1520.93 Q2335.11 1517.37 2331.47 1517.37 M2331.47 1513.66 Q2337.28 1513.66 2340.34 1518.27 Q2343.42 1522.85 2343.42 1531.6 Q2343.42 1540.33 2340.34 1544.94 Q2337.28 1549.52 2331.47 1549.52 Q2325.66 1549.52 2322.58 1544.94 Q2319.53 1540.33 2319.53 1531.6 Q2319.53 1522.85 2322.58 1518.27 Q2325.66 1513.66 2331.47 1513.66 Z\" fill=\"#000000\" fill-rule=\"nonzero\" fill-opacity=\"1\" /><path clip-path=\"url(#clip920)\" d=\"M2361.63 1517.37 Q2358.02 1517.37 2356.19 1520.93 Q2354.39 1524.47 2354.39 1531.6 Q2354.39 1538.71 2356.19 1542.27 Q2358.02 1545.82 2361.63 1545.82 Q2365.27 1545.82 2367.07 1542.27 Q2368.9 1538.71 2368.9 1531.6 Q2368.9 1524.47 2367.07 1520.93 Q2365.27 1517.37 2361.63 1517.37 M2361.63 1513.66 Q2367.44 1513.66 2370.5 1518.27 Q2373.58 1522.85 2373.58 1531.6 Q2373.58 1540.33 2370.5 1544.94 Q2367.44 1549.52 2361.63 1549.52 Q2355.82 1549.52 2352.74 1544.94 Q2349.69 1540.33 2349.69 1531.6 Q2349.69 1522.85 2352.74 1518.27 Q2355.82 1513.66 2361.63 1513.66 Z\" fill=\"#000000\" fill-rule=\"nonzero\" fill-opacity=\"1\" /><polyline clip-path=\"url(#clip923)\" style=\"stroke:#000000; stroke-linecap:round; stroke-linejoin:round; stroke-width:2; stroke-opacity:0.1; fill:none\" points=\"1371.26,1447.87 2352.76,1447.87 \"/>\n",
       "<polyline clip-path=\"url(#clip923)\" style=\"stroke:#000000; stroke-linecap:round; stroke-linejoin:round; stroke-width:2; stroke-opacity:0.1; fill:none\" points=\"1371.26,1126.42 2352.76,1126.42 \"/>\n",
       "<polyline clip-path=\"url(#clip923)\" style=\"stroke:#000000; stroke-linecap:round; stroke-linejoin:round; stroke-width:2; stroke-opacity:0.1; fill:none\" points=\"1371.26,804.96 2352.76,804.96 \"/>\n",
       "<polyline clip-path=\"url(#clip923)\" style=\"stroke:#000000; stroke-linecap:round; stroke-linejoin:round; stroke-width:2; stroke-opacity:0.1; fill:none\" points=\"1371.26,483.503 2352.76,483.503 \"/>\n",
       "<polyline clip-path=\"url(#clip923)\" style=\"stroke:#000000; stroke-linecap:round; stroke-linejoin:round; stroke-width:2; stroke-opacity:0.1; fill:none\" points=\"1371.26,162.047 2352.76,162.047 \"/>\n",
       "<polyline clip-path=\"url(#clip920)\" style=\"stroke:#000000; stroke-linecap:round; stroke-linejoin:round; stroke-width:4; stroke-opacity:1; fill:none\" points=\"1371.26,1486.45 1371.26,123.472 \"/>\n",
       "<polyline clip-path=\"url(#clip920)\" style=\"stroke:#000000; stroke-linecap:round; stroke-linejoin:round; stroke-width:4; stroke-opacity:1; fill:none\" points=\"1371.26,1447.87 1390.16,1447.87 \"/>\n",
       "<polyline clip-path=\"url(#clip920)\" style=\"stroke:#000000; stroke-linecap:round; stroke-linejoin:round; stroke-width:4; stroke-opacity:1; fill:none\" points=\"1371.26,1126.42 1390.16,1126.42 \"/>\n",
       "<polyline clip-path=\"url(#clip920)\" style=\"stroke:#000000; stroke-linecap:round; stroke-linejoin:round; stroke-width:4; stroke-opacity:1; fill:none\" points=\"1371.26,804.96 1390.16,804.96 \"/>\n",
       "<polyline clip-path=\"url(#clip920)\" style=\"stroke:#000000; stroke-linecap:round; stroke-linejoin:round; stroke-width:4; stroke-opacity:1; fill:none\" points=\"1371.26,483.503 1390.16,483.503 \"/>\n",
       "<polyline clip-path=\"url(#clip920)\" style=\"stroke:#000000; stroke-linecap:round; stroke-linejoin:round; stroke-width:4; stroke-opacity:1; fill:none\" points=\"1371.26,162.047 1390.16,162.047 \"/>\n",
       "<path clip-path=\"url(#clip920)\" d=\"M1247.93 1433.67 Q1244.31 1433.67 1242.49 1437.24 Q1240.68 1440.78 1240.68 1447.91 Q1240.68 1455.01 1242.49 1458.58 Q1244.31 1462.12 1247.93 1462.12 Q1251.56 1462.12 1253.36 1458.58 Q1255.19 1455.01 1255.19 1447.91 Q1255.19 1440.78 1253.36 1437.24 Q1251.56 1433.67 1247.93 1433.67 M1247.93 1429.97 Q1253.74 1429.97 1256.79 1434.57 Q1259.87 1439.16 1259.87 1447.91 Q1259.87 1456.63 1256.79 1461.24 Q1253.74 1465.82 1247.93 1465.82 Q1242.11 1465.82 1239.04 1461.24 Q1235.98 1456.63 1235.98 1447.91 Q1235.98 1439.16 1239.04 1434.57 Q1242.11 1429.97 1247.93 1429.97 Z\" fill=\"#000000\" fill-rule=\"nonzero\" fill-opacity=\"1\" /><path clip-path=\"url(#clip920)\" d=\"M1268.09 1459.27 L1272.97 1459.27 L1272.97 1465.15 L1268.09 1465.15 L1268.09 1459.27 Z\" fill=\"#000000\" fill-rule=\"nonzero\" fill-opacity=\"1\" /><path clip-path=\"url(#clip920)\" d=\"M1293.16 1433.67 Q1289.55 1433.67 1287.72 1437.24 Q1285.91 1440.78 1285.91 1447.91 Q1285.91 1455.01 1287.72 1458.58 Q1289.55 1462.12 1293.16 1462.12 Q1296.79 1462.12 1298.6 1458.58 Q1300.42 1455.01 1300.42 1447.91 Q1300.42 1440.78 1298.6 1437.24 Q1296.79 1433.67 1293.16 1433.67 M1293.16 1429.97 Q1298.97 1429.97 1302.02 1434.57 Q1305.1 1439.16 1305.1 1447.91 Q1305.1 1456.63 1302.02 1461.24 Q1298.97 1465.82 1293.16 1465.82 Q1287.35 1465.82 1284.27 1461.24 Q1281.21 1456.63 1281.21 1447.91 Q1281.21 1439.16 1284.27 1434.57 Q1287.35 1429.97 1293.16 1429.97 Z\" fill=\"#000000\" fill-rule=\"nonzero\" fill-opacity=\"1\" /><path clip-path=\"url(#clip920)\" d=\"M1323.32 1433.67 Q1319.71 1433.67 1317.88 1437.24 Q1316.07 1440.78 1316.07 1447.91 Q1316.07 1455.01 1317.88 1458.58 Q1319.71 1462.12 1323.32 1462.12 Q1326.95 1462.12 1328.76 1458.58 Q1330.59 1455.01 1330.59 1447.91 Q1330.59 1440.78 1328.76 1437.24 Q1326.95 1433.67 1323.32 1433.67 M1323.32 1429.97 Q1329.13 1429.97 1332.18 1434.57 Q1335.26 1439.16 1335.26 1447.91 Q1335.26 1456.63 1332.18 1461.24 Q1329.13 1465.82 1323.32 1465.82 Q1317.51 1465.82 1314.43 1461.24 Q1311.37 1456.63 1311.37 1447.91 Q1311.37 1439.16 1314.43 1434.57 Q1317.51 1429.97 1323.32 1429.97 Z\" fill=\"#000000\" fill-rule=\"nonzero\" fill-opacity=\"1\" /><path clip-path=\"url(#clip920)\" d=\"M1248.92 1112.22 Q1245.31 1112.22 1243.48 1115.78 Q1241.68 1119.32 1241.68 1126.45 Q1241.68 1133.56 1243.48 1137.12 Q1245.31 1140.66 1248.92 1140.66 Q1252.55 1140.66 1254.36 1137.12 Q1256.19 1133.56 1256.19 1126.45 Q1256.19 1119.32 1254.36 1115.78 Q1252.55 1112.22 1248.92 1112.22 M1248.92 1108.51 Q1254.73 1108.51 1257.79 1113.12 Q1260.86 1117.7 1260.86 1126.45 Q1260.86 1135.18 1257.79 1139.78 Q1254.73 1144.37 1248.92 1144.37 Q1243.11 1144.37 1240.03 1139.78 Q1236.98 1135.18 1236.98 1126.45 Q1236.98 1117.7 1240.03 1113.12 Q1243.11 1108.51 1248.92 1108.51 Z\" fill=\"#000000\" fill-rule=\"nonzero\" fill-opacity=\"1\" /><path clip-path=\"url(#clip920)\" d=\"M1269.08 1137.82 L1273.97 1137.82 L1273.97 1143.7 L1269.08 1143.7 L1269.08 1137.82 Z\" fill=\"#000000\" fill-rule=\"nonzero\" fill-opacity=\"1\" /><path clip-path=\"url(#clip920)\" d=\"M1288.18 1139.76 L1304.5 1139.76 L1304.5 1143.7 L1282.55 1143.7 L1282.55 1139.76 Q1285.22 1137.01 1289.8 1132.38 Q1294.41 1127.72 1295.59 1126.38 Q1297.83 1123.86 1298.71 1122.12 Q1299.61 1120.36 1299.61 1118.67 Q1299.61 1115.92 1297.67 1114.18 Q1295.75 1112.45 1292.65 1112.45 Q1290.45 1112.45 1287.99 1113.21 Q1285.56 1113.97 1282.79 1115.53 L1282.79 1110.8 Q1285.61 1109.67 1288.06 1109.09 Q1290.52 1108.51 1292.55 1108.51 Q1297.92 1108.51 1301.12 1111.2 Q1304.31 1113.88 1304.31 1118.37 Q1304.31 1120.5 1303.5 1122.42 Q1302.72 1124.32 1300.61 1126.91 Q1300.03 1127.59 1296.93 1130.8 Q1293.83 1134 1288.18 1139.76 Z\" fill=\"#000000\" fill-rule=\"nonzero\" fill-opacity=\"1\" /><path clip-path=\"url(#clip920)\" d=\"M1314.36 1109.14 L1332.72 1109.14 L1332.72 1113.07 L1318.64 1113.07 L1318.64 1121.54 Q1319.66 1121.2 1320.68 1121.03 Q1321.7 1120.85 1322.72 1120.85 Q1328.5 1120.85 1331.88 1124.02 Q1335.26 1127.19 1335.26 1132.61 Q1335.26 1138.19 1331.79 1141.29 Q1328.32 1144.37 1322 1144.37 Q1319.82 1144.37 1317.55 1144 Q1315.31 1143.63 1312.9 1142.89 L1312.9 1138.19 Q1314.98 1139.32 1317.21 1139.88 Q1319.43 1140.43 1321.91 1140.43 Q1325.91 1140.43 1328.25 1138.33 Q1330.59 1136.22 1330.59 1132.61 Q1330.59 1129 1328.25 1126.89 Q1325.91 1124.78 1321.91 1124.78 Q1320.03 1124.78 1318.16 1125.2 Q1316.3 1125.62 1314.36 1126.5 L1314.36 1109.14 Z\" fill=\"#000000\" fill-rule=\"nonzero\" fill-opacity=\"1\" /><path clip-path=\"url(#clip920)\" d=\"M1247.93 790.759 Q1244.31 790.759 1242.49 794.323 Q1240.68 797.865 1240.68 804.995 Q1240.68 812.101 1242.49 815.666 Q1244.31 819.208 1247.93 819.208 Q1251.56 819.208 1253.36 815.666 Q1255.19 812.101 1255.19 804.995 Q1255.19 797.865 1253.36 794.323 Q1251.56 790.759 1247.93 790.759 M1247.93 787.055 Q1253.74 787.055 1256.79 791.661 Q1259.87 796.245 1259.87 804.995 Q1259.87 813.722 1256.79 818.328 Q1253.74 822.911 1247.93 822.911 Q1242.11 822.911 1239.04 818.328 Q1235.98 813.722 1235.98 804.995 Q1235.98 796.245 1239.04 791.661 Q1242.11 787.055 1247.93 787.055 Z\" fill=\"#000000\" fill-rule=\"nonzero\" fill-opacity=\"1\" /><path clip-path=\"url(#clip920)\" d=\"M1268.09 816.36 L1272.97 816.36 L1272.97 822.24 L1268.09 822.24 L1268.09 816.36 Z\" fill=\"#000000\" fill-rule=\"nonzero\" fill-opacity=\"1\" /><path clip-path=\"url(#clip920)\" d=\"M1283.2 787.68 L1301.56 787.68 L1301.56 791.615 L1287.48 791.615 L1287.48 800.087 Q1288.5 799.74 1289.52 799.578 Q1290.54 799.393 1291.56 799.393 Q1297.35 799.393 1300.73 802.564 Q1304.11 805.735 1304.11 811.152 Q1304.11 816.731 1300.63 819.833 Q1297.16 822.911 1290.84 822.911 Q1288.67 822.911 1286.4 822.541 Q1284.15 822.171 1281.74 821.43 L1281.74 816.731 Q1283.83 817.865 1286.05 818.421 Q1288.27 818.976 1290.75 818.976 Q1294.75 818.976 1297.09 816.87 Q1299.43 814.763 1299.43 811.152 Q1299.43 807.541 1297.09 805.435 Q1294.75 803.328 1290.75 803.328 Q1288.87 803.328 1287 803.745 Q1285.15 804.161 1283.2 805.041 L1283.2 787.68 Z\" fill=\"#000000\" fill-rule=\"nonzero\" fill-opacity=\"1\" /><path clip-path=\"url(#clip920)\" d=\"M1323.32 790.759 Q1319.71 790.759 1317.88 794.323 Q1316.07 797.865 1316.07 804.995 Q1316.07 812.101 1317.88 815.666 Q1319.71 819.208 1323.32 819.208 Q1326.95 819.208 1328.76 815.666 Q1330.59 812.101 1330.59 804.995 Q1330.59 797.865 1328.76 794.323 Q1326.95 790.759 1323.32 790.759 M1323.32 787.055 Q1329.13 787.055 1332.18 791.661 Q1335.26 796.245 1335.26 804.995 Q1335.26 813.722 1332.18 818.328 Q1329.13 822.911 1323.32 822.911 Q1317.51 822.911 1314.43 818.328 Q1311.37 813.722 1311.37 804.995 Q1311.37 796.245 1314.43 791.661 Q1317.51 787.055 1323.32 787.055 Z\" fill=\"#000000\" fill-rule=\"nonzero\" fill-opacity=\"1\" /><path clip-path=\"url(#clip920)\" d=\"M1248.92 469.302 Q1245.31 469.302 1243.48 472.867 Q1241.68 476.409 1241.68 483.538 Q1241.68 490.645 1243.48 494.209 Q1245.31 497.751 1248.92 497.751 Q1252.55 497.751 1254.36 494.209 Q1256.19 490.645 1256.19 483.538 Q1256.19 476.409 1254.36 472.867 Q1252.55 469.302 1248.92 469.302 M1248.92 465.598 Q1254.73 465.598 1257.79 470.205 Q1260.86 474.788 1260.86 483.538 Q1260.86 492.265 1257.79 496.871 Q1254.73 501.455 1248.92 501.455 Q1243.11 501.455 1240.03 496.871 Q1236.98 492.265 1236.98 483.538 Q1236.98 474.788 1240.03 470.205 Q1243.11 465.598 1248.92 465.598 Z\" fill=\"#000000\" fill-rule=\"nonzero\" fill-opacity=\"1\" /><path clip-path=\"url(#clip920)\" d=\"M1269.08 494.904 L1273.97 494.904 L1273.97 500.783 L1269.08 500.783 L1269.08 494.904 Z\" fill=\"#000000\" fill-rule=\"nonzero\" fill-opacity=\"1\" /><path clip-path=\"url(#clip920)\" d=\"M1282.97 466.223 L1305.19 466.223 L1305.19 468.214 L1292.65 500.783 L1287.76 500.783 L1299.57 470.159 L1282.97 470.159 L1282.97 466.223 Z\" fill=\"#000000\" fill-rule=\"nonzero\" fill-opacity=\"1\" /><path clip-path=\"url(#clip920)\" d=\"M1314.36 466.223 L1332.72 466.223 L1332.72 470.159 L1318.64 470.159 L1318.64 478.631 Q1319.66 478.284 1320.68 478.122 Q1321.7 477.936 1322.72 477.936 Q1328.5 477.936 1331.88 481.108 Q1335.26 484.279 1335.26 489.696 Q1335.26 495.274 1331.79 498.376 Q1328.32 501.455 1322 501.455 Q1319.82 501.455 1317.55 501.084 Q1315.31 500.714 1312.9 499.973 L1312.9 495.274 Q1314.98 496.408 1317.21 496.964 Q1319.43 497.52 1321.91 497.52 Q1325.91 497.52 1328.25 495.413 Q1330.59 493.307 1330.59 489.696 Q1330.59 486.084 1328.25 483.978 Q1325.91 481.872 1321.91 481.872 Q1320.03 481.872 1318.16 482.288 Q1316.3 482.705 1314.36 483.584 L1314.36 466.223 Z\" fill=\"#000000\" fill-rule=\"nonzero\" fill-opacity=\"1\" /><path clip-path=\"url(#clip920)\" d=\"M1238.74 175.392 L1246.37 175.392 L1246.37 149.026 L1238.06 150.693 L1238.06 146.434 L1246.33 144.767 L1251 144.767 L1251 175.392 L1258.64 175.392 L1258.64 179.327 L1238.74 179.327 L1238.74 175.392 Z\" fill=\"#000000\" fill-rule=\"nonzero\" fill-opacity=\"1\" /><path clip-path=\"url(#clip920)\" d=\"M1268.09 173.447 L1272.97 173.447 L1272.97 179.327 L1268.09 179.327 L1268.09 173.447 Z\" fill=\"#000000\" fill-rule=\"nonzero\" fill-opacity=\"1\" /><path clip-path=\"url(#clip920)\" d=\"M1293.16 147.846 Q1289.55 147.846 1287.72 151.41 Q1285.91 154.952 1285.91 162.082 Q1285.91 169.188 1287.72 172.753 Q1289.55 176.295 1293.16 176.295 Q1296.79 176.295 1298.6 172.753 Q1300.42 169.188 1300.42 162.082 Q1300.42 154.952 1298.6 151.41 Q1296.79 147.846 1293.16 147.846 M1293.16 144.142 Q1298.97 144.142 1302.02 148.748 Q1305.1 153.332 1305.1 162.082 Q1305.1 170.808 1302.02 175.415 Q1298.97 179.998 1293.16 179.998 Q1287.35 179.998 1284.27 175.415 Q1281.21 170.808 1281.21 162.082 Q1281.21 153.332 1284.27 148.748 Q1287.35 144.142 1293.16 144.142 Z\" fill=\"#000000\" fill-rule=\"nonzero\" fill-opacity=\"1\" /><path clip-path=\"url(#clip920)\" d=\"M1323.32 147.846 Q1319.71 147.846 1317.88 151.41 Q1316.07 154.952 1316.07 162.082 Q1316.07 169.188 1317.88 172.753 Q1319.71 176.295 1323.32 176.295 Q1326.95 176.295 1328.76 172.753 Q1330.59 169.188 1330.59 162.082 Q1330.59 154.952 1328.76 151.41 Q1326.95 147.846 1323.32 147.846 M1323.32 144.142 Q1329.13 144.142 1332.18 148.748 Q1335.26 153.332 1335.26 162.082 Q1335.26 170.808 1332.18 175.415 Q1329.13 179.998 1323.32 179.998 Q1317.51 179.998 1314.43 175.415 Q1311.37 170.808 1311.37 162.082 Q1311.37 153.332 1314.43 148.748 Q1317.51 144.142 1323.32 144.142 Z\" fill=\"#000000\" fill-rule=\"nonzero\" fill-opacity=\"1\" /><path clip-path=\"url(#clip920)\" d=\"M1601.27 49.3643 Q1601.27 41.2625 1597.91 36.8065 Q1594.59 32.3505 1588.55 32.3505 Q1582.56 32.3505 1579.2 36.8065 Q1575.87 41.2625 1575.87 49.3643 Q1575.87 57.4256 1579.2 61.8816 Q1582.56 66.3376 1588.55 66.3376 Q1594.59 66.3376 1597.91 61.8816 Q1601.27 57.4256 1601.27 49.3643 M1608.73 66.9452 Q1608.73 78.5308 1603.58 84.1616 Q1598.44 89.8329 1587.82 89.8329 Q1583.89 89.8329 1580.41 89.2252 Q1576.93 88.6581 1573.65 87.4428 L1573.65 80.1917 Q1576.93 81.9741 1580.13 82.8248 Q1583.33 83.6755 1586.65 83.6755 Q1593.98 83.6755 1597.63 79.8271 Q1601.27 76.0193 1601.27 68.282 L1601.27 64.5957 Q1598.96 68.6061 1595.36 70.5911 Q1591.75 72.576 1586.73 72.576 Q1578.39 72.576 1573.28 66.2161 Q1568.18 59.8562 1568.18 49.3643 Q1568.18 38.832 1573.28 32.472 Q1578.39 26.1121 1586.73 26.1121 Q1591.75 26.1121 1595.36 28.0971 Q1598.96 30.082 1601.27 34.0924 L1601.27 27.2059 L1608.73 27.2059 L1608.73 66.9452 Z\" fill=\"#000000\" fill-rule=\"nonzero\" fill-opacity=\"1\" /><path clip-path=\"url(#clip920)\" d=\"M1662.89 48.0275 L1662.89 51.6733 L1628.62 51.6733 Q1629.1 59.3701 1633.23 63.421 Q1637.41 67.4314 1644.82 67.4314 Q1649.11 67.4314 1653.12 66.3781 Q1657.18 65.3249 1661.15 63.2184 L1661.15 70.267 Q1657.13 71.9684 1652.92 72.8596 Q1648.71 73.7508 1644.37 73.7508 Q1633.52 73.7508 1627.16 67.4314 Q1620.84 61.1119 1620.84 50.3365 Q1620.84 39.1965 1626.83 32.6746 Q1632.87 26.1121 1643.08 26.1121 Q1652.23 26.1121 1657.54 32.0264 Q1662.89 37.9003 1662.89 48.0275 M1655.43 45.84 Q1655.35 39.7232 1651.99 36.0774 Q1648.67 32.4315 1643.16 32.4315 Q1636.92 32.4315 1633.15 35.9558 Q1629.43 39.4801 1628.86 45.8805 L1655.43 45.84 Z\" fill=\"#000000\" fill-rule=\"nonzero\" fill-opacity=\"1\" /><path clip-path=\"url(#clip920)\" d=\"M1712.83 45.1919 L1712.83 72.576 L1705.38 72.576 L1705.38 45.4349 Q1705.38 38.994 1702.87 35.7938 Q1700.36 32.5936 1695.33 32.5936 Q1689.3 32.5936 1685.82 36.4419 Q1682.33 40.2903 1682.33 46.9338 L1682.33 72.576 L1674.84 72.576 L1674.84 27.2059 L1682.33 27.2059 L1682.33 34.2544 Q1685 30.163 1688.61 28.1376 Q1692.26 26.1121 1697 26.1121 Q1704.81 26.1121 1708.82 30.9732 Q1712.83 35.7938 1712.83 45.1919 Z\" fill=\"#000000\" fill-rule=\"nonzero\" fill-opacity=\"1\" /><path clip-path=\"url(#clip920)\" d=\"M1766.51 48.0275 L1766.51 51.6733 L1732.24 51.6733 Q1732.72 59.3701 1736.86 63.421 Q1741.03 67.4314 1748.44 67.4314 Q1752.74 67.4314 1756.75 66.3781 Q1760.8 65.3249 1764.77 63.2184 L1764.77 70.267 Q1760.76 71.9684 1756.54 72.8596 Q1752.33 73.7508 1748 73.7508 Q1737.14 73.7508 1730.78 67.4314 Q1724.46 61.1119 1724.46 50.3365 Q1724.46 39.1965 1730.46 32.6746 Q1736.49 26.1121 1746.7 26.1121 Q1755.86 26.1121 1761.16 32.0264 Q1766.51 37.9003 1766.51 48.0275 M1759.06 45.84 Q1758.97 39.7232 1755.61 36.0774 Q1752.29 32.4315 1746.78 32.4315 Q1740.54 32.4315 1736.78 35.9558 Q1733.05 39.4801 1732.48 45.8805 L1759.06 45.84 Z\" fill=\"#000000\" fill-rule=\"nonzero\" fill-opacity=\"1\" /><path clip-path=\"url(#clip920)\" d=\"M1805.03 34.1734 Q1803.78 33.4443 1802.28 33.1202 Q1800.82 32.7556 1799.04 32.7556 Q1792.72 32.7556 1789.32 36.8875 Q1785.95 40.9789 1785.95 48.6757 L1785.95 72.576 L1778.46 72.576 L1778.46 27.2059 L1785.95 27.2059 L1785.95 34.2544 Q1788.3 30.1225 1792.07 28.1376 Q1795.84 26.1121 1801.23 26.1121 Q1802 26.1121 1802.93 26.2337 Q1803.86 26.3147 1804.99 26.5172 L1805.03 34.1734 Z\" fill=\"#000000\" fill-rule=\"nonzero\" fill-opacity=\"1\" /><path clip-path=\"url(#clip920)\" d=\"M1833.47 49.7694 Q1824.44 49.7694 1820.95 51.8354 Q1817.47 53.9013 1817.47 58.8839 Q1817.47 62.8538 1820.06 65.2034 Q1822.7 67.5124 1827.19 67.5124 Q1833.39 67.5124 1837.12 63.1374 Q1840.88 58.7219 1840.88 51.4303 L1840.88 49.7694 L1833.47 49.7694 M1848.34 46.6907 L1848.34 72.576 L1840.88 72.576 L1840.88 65.6895 Q1838.33 69.8214 1834.52 71.8063 Q1830.72 73.7508 1825.21 73.7508 Q1818.24 73.7508 1814.11 69.8619 Q1810.02 65.9325 1810.02 59.3701 Q1810.02 51.7138 1815.12 47.825 Q1820.26 43.9361 1830.43 43.9361 L1840.88 43.9361 L1840.88 43.2069 Q1840.88 38.0623 1837.48 35.2672 Q1834.12 32.4315 1828 32.4315 Q1824.11 32.4315 1820.43 33.3632 Q1816.74 34.295 1813.34 36.1584 L1813.34 29.2718 Q1817.43 27.692 1821.28 26.9223 Q1825.13 26.1121 1828.77 26.1121 Q1838.62 26.1121 1843.48 31.2163 Q1848.34 36.3204 1848.34 46.6907 Z\" fill=\"#000000\" fill-rule=\"nonzero\" fill-opacity=\"1\" /><path clip-path=\"url(#clip920)\" d=\"M1871.06 14.324 L1871.06 27.2059 L1886.42 27.2059 L1886.42 32.9987 L1871.06 32.9987 L1871.06 57.6282 Q1871.06 63.1779 1872.56 64.7578 Q1874.1 66.3376 1878.76 66.3376 L1886.42 66.3376 L1886.42 72.576 L1878.76 72.576 Q1870.13 72.576 1866.85 69.3758 Q1863.57 66.1351 1863.57 57.6282 L1863.57 32.9987 L1858.1 32.9987 L1858.1 27.2059 L1863.57 27.2059 L1863.57 14.324 L1871.06 14.324 Z\" fill=\"#000000\" fill-rule=\"nonzero\" fill-opacity=\"1\" /><path clip-path=\"url(#clip920)\" d=\"M1913.8 32.4315 Q1907.8 32.4315 1904.32 37.1306 Q1900.84 41.7891 1900.84 49.9314 Q1900.84 58.0738 1904.28 62.7728 Q1907.76 67.4314 1913.8 67.4314 Q1919.75 67.4314 1923.24 62.7323 Q1926.72 58.0333 1926.72 49.9314 Q1926.72 41.8701 1923.24 37.1711 Q1919.75 32.4315 1913.8 32.4315 M1913.8 26.1121 Q1923.52 26.1121 1929.07 32.4315 Q1934.62 38.7509 1934.62 49.9314 Q1934.62 61.0714 1929.07 67.4314 Q1923.52 73.7508 1913.8 73.7508 Q1904.04 73.7508 1898.49 67.4314 Q1892.98 61.0714 1892.98 49.9314 Q1892.98 38.7509 1898.49 32.4315 Q1904.04 26.1121 1913.8 26.1121 Z\" fill=\"#000000\" fill-rule=\"nonzero\" fill-opacity=\"1\" /><path clip-path=\"url(#clip920)\" d=\"M1973.27 34.1734 Q1972.01 33.4443 1970.51 33.1202 Q1969.05 32.7556 1967.27 32.7556 Q1960.95 32.7556 1957.55 36.8875 Q1954.19 40.9789 1954.19 48.6757 L1954.19 72.576 L1946.69 72.576 L1946.69 27.2059 L1954.19 27.2059 L1954.19 34.2544 Q1956.54 30.1225 1960.3 28.1376 Q1964.07 26.1121 1969.46 26.1121 Q1970.23 26.1121 1971.16 26.2337 Q1972.09 26.3147 1973.23 26.5172 L1973.27 34.1734 Z\" fill=\"#000000\" fill-rule=\"nonzero\" fill-opacity=\"1\" /><path clip-path=\"url(#clip920)\" d=\"M2007.46 9.54393 L2014.91 9.54393 L2014.91 72.576 L2007.46 72.576 L2007.46 9.54393 Z\" fill=\"#000000\" fill-rule=\"nonzero\" fill-opacity=\"1\" /><path clip-path=\"url(#clip920)\" d=\"M2048.09 32.4315 Q2042.09 32.4315 2038.61 37.1306 Q2035.12 41.7891 2035.12 49.9314 Q2035.12 58.0738 2038.57 62.7728 Q2042.05 67.4314 2048.09 67.4314 Q2054.04 67.4314 2057.53 62.7323 Q2061.01 58.0333 2061.01 49.9314 Q2061.01 41.8701 2057.53 37.1711 Q2054.04 32.4315 2048.09 32.4315 M2048.09 26.1121 Q2057.81 26.1121 2063.36 32.4315 Q2068.91 38.7509 2068.91 49.9314 Q2068.91 61.0714 2063.36 67.4314 Q2057.81 73.7508 2048.09 73.7508 Q2038.32 73.7508 2032.78 67.4314 Q2027.27 61.0714 2027.27 49.9314 Q2027.27 38.7509 2032.78 32.4315 Q2038.32 26.1121 2048.09 26.1121 Z\" fill=\"#000000\" fill-rule=\"nonzero\" fill-opacity=\"1\" /><path clip-path=\"url(#clip920)\" d=\"M2110.19 28.5427 L2110.19 35.5912 Q2107.03 33.9709 2103.63 33.1607 Q2100.22 32.3505 2096.58 32.3505 Q2091.03 32.3505 2088.23 34.0519 Q2085.48 35.7533 2085.48 39.156 Q2085.48 41.7486 2087.46 43.2475 Q2089.45 44.7058 2095.44 46.0426 L2097.99 46.6097 Q2105.93 48.3111 2109.26 51.4303 Q2112.62 54.509 2112.62 60.0587 Q2112.62 66.3781 2107.6 70.0644 Q2102.61 73.7508 2093.86 73.7508 Q2090.22 73.7508 2086.25 73.0216 Q2082.32 72.3329 2077.94 70.9151 L2077.94 63.2184 Q2082.07 65.3654 2086.08 66.4591 Q2090.1 67.5124 2094.02 67.5124 Q2099.29 67.5124 2102.13 65.73 Q2104.96 63.9071 2104.96 60.6258 Q2104.96 57.5877 2102.9 55.9673 Q2100.87 54.3469 2093.94 52.8481 L2091.35 52.2405 Q2084.42 50.7821 2081.35 47.7845 Q2078.27 44.7463 2078.27 39.4801 Q2078.27 33.0797 2082.8 29.5959 Q2087.34 26.1121 2095.69 26.1121 Q2099.82 26.1121 2103.46 26.7198 Q2107.11 27.3274 2110.19 28.5427 Z\" fill=\"#000000\" fill-rule=\"nonzero\" fill-opacity=\"1\" /><path clip-path=\"url(#clip920)\" d=\"M2153.41 28.5427 L2153.41 35.5912 Q2150.25 33.9709 2146.85 33.1607 Q2143.45 32.3505 2139.8 32.3505 Q2134.25 32.3505 2131.46 34.0519 Q2128.7 35.7533 2128.7 39.156 Q2128.7 41.7486 2130.69 43.2475 Q2132.67 44.7058 2138.67 46.0426 L2141.22 46.6097 Q2149.16 48.3111 2152.48 51.4303 Q2155.84 54.509 2155.84 60.0587 Q2155.84 66.3781 2150.82 70.0644 Q2145.84 73.7508 2137.09 73.7508 Q2133.44 73.7508 2129.47 73.0216 Q2125.54 72.3329 2121.17 70.9151 L2121.17 63.2184 Q2125.3 65.3654 2129.31 66.4591 Q2133.32 67.5124 2137.25 67.5124 Q2142.51 67.5124 2145.35 65.73 Q2148.19 63.9071 2148.19 60.6258 Q2148.19 57.5877 2146.12 55.9673 Q2144.09 54.3469 2137.17 52.8481 L2134.57 52.2405 Q2127.65 50.7821 2124.57 47.7845 Q2121.49 44.7463 2121.49 39.4801 Q2121.49 33.0797 2126.03 29.5959 Q2130.56 26.1121 2138.91 26.1121 Q2143.04 26.1121 2146.69 26.7198 Q2150.33 27.3274 2153.41 28.5427 Z\" fill=\"#000000\" fill-rule=\"nonzero\" fill-opacity=\"1\" /><path clip-path=\"url(#clip920)\" d=\"M2169.46 272.585 L2320.04 272.585 L2320.04 168.905 L2169.46 168.905  Z\" fill=\"#ffffff\" fill-rule=\"evenodd\" fill-opacity=\"1\"/>\n",
       "<polyline clip-path=\"url(#clip920)\" style=\"stroke:#000000; stroke-linecap:round; stroke-linejoin:round; stroke-width:4; stroke-opacity:1; fill:none\" points=\"2169.46,272.585 2320.04,272.585 2320.04,168.905 2169.46,168.905 2169.46,272.585 \"/>\n",
       "<polyline clip-path=\"url(#clip920)\" style=\"stroke:#009af9; stroke-linecap:round; stroke-linejoin:round; stroke-width:4; stroke-opacity:1; fill:none\" points=\"2180.37,220.745 2245.8,220.745 \"/>\n",
       "<path clip-path=\"url(#clip920)\" d=\"M2270.55 240.432 Q2268.74 245.062 2267.03 246.474 Q2265.31 247.886 2262.44 247.886 L2259.04 247.886 L2259.04 244.321 L2261.54 244.321 Q2263.3 244.321 2264.27 243.488 Q2265.25 242.654 2266.43 239.552 L2267.19 237.608 L2256.7 212.099 L2261.22 212.099 L2269.32 232.377 L2277.42 212.099 L2281.94 212.099 L2270.55 240.432 Z\" fill=\"#000000\" fill-rule=\"nonzero\" fill-opacity=\"1\" /><path clip-path=\"url(#clip920)\" d=\"M2289.23 234.089 L2296.87 234.089 L2296.87 207.724 L2288.56 209.391 L2288.56 205.131 L2296.82 203.465 L2301.5 203.465 L2301.5 234.089 L2309.13 234.089 L2309.13 238.025 L2289.23 238.025 L2289.23 234.089 Z\" fill=\"#000000\" fill-rule=\"nonzero\" fill-opacity=\"1\" /></svg>\n"
      ]
     },
     "execution_count": 109,
     "metadata": {},
     "output_type": "execute_result"
    }
   ],
   "source": [
    "p_dis = plot( loss_dis_array , title=\"discriminator loss\" )\n",
    "p_gen = plot( loss_gen_array , title=\"generator loss\" )\n",
    "plot( p_dis , p_gen )"
   ]
  },
  {
   "cell_type": "code",
   "execution_count": 110,
   "metadata": {},
   "outputs": [
    {
     "data": {
      "text/plain": [
       "1×2 Matrix{Float32}:\n",
       " 0.32686  0.288653"
      ]
     },
     "execution_count": 110,
     "metadata": {},
     "output_type": "execute_result"
    }
   ],
   "source": [
    "m_dis( real_data_WHCN[ : , : , : , 1:2 ] )"
   ]
  },
  {
   "cell_type": "code",
   "execution_count": 98,
   "metadata": {},
   "outputs": [
    {
     "data": {
      "text/plain": [
       "1×2 Matrix{Float32}:\n",
       " 0.320854  0.44356"
      ]
     },
     "execution_count": 98,
     "metadata": {},
     "output_type": "execute_result"
    }
   ],
   "source": [
    "m_dis( m_gen( MakeZvectors( 2 ) ) )"
   ]
  },
  {
   "cell_type": "code",
   "execution_count": 99,
   "metadata": {},
   "outputs": [
    {
     "data": {
      "image/png": "[encoded data removed]",
      "text/plain": [
       "10×10 Array{Gray{Float32},2} with eltype Gray{Float32}:\n",
       " Gray{Float32}(0.995376)  Gray{Float32}(0.96667)   …  Gray{Float32}(0.447796)\n",
       " Gray{Float32}(0.999795)  Gray{Float32}(0.99468)      Gray{Float32}(0.519647)\n",
       " Gray{Float32}(0.999923)  Gray{Float32}(0.858235)     Gray{Float32}(0.550855)\n",
       " Gray{Float32}(0.999992)  Gray{Float32}(0.996545)     Gray{Float32}(0.459335)\n",
       " Gray{Float32}(0.999977)  Gray{Float32}(0.932094)     Gray{Float32}(0.524547)\n",
       " Gray{Float32}(0.999964)  Gray{Float32}(0.998271)  …  Gray{Float32}(0.443659)\n",
       " Gray{Float32}(0.998723)  Gray{Float32}(0.882056)     Gray{Float32}(0.405928)\n",
       " Gray{Float32}(0.994941)  Gray{Float32}(0.998218)     Gray{Float32}(0.564325)\n",
       " Gray{Float32}(0.973702)  Gray{Float32}(0.956247)     Gray{Float32}(0.706576)\n",
       " Gray{Float32}(0.901191)  Gray{Float32}(0.908658)     Gray{Float32}(0.632481)"
      ]
     },
     "execution_count": 99,
     "metadata": {},
     "output_type": "execute_result"
    }
   ],
   "source": [
    "Gray.( m_gen( MakeZvectors( 1 ) )[:,:,1,1] )"
   ]
  },
  {
   "cell_type": "code",
   "execution_count": 100,
   "metadata": {},
   "outputs": [
    {
     "data": {
      "image/png": "[encoded data removed]",
      "text/plain": [
       "10×10 Array{Gray{Float32},2} with eltype Gray{Float32}:\n",
       " Gray{Float32}(0.989252)  Gray{Float32}(0.974453)  …  Gray{Float32}(0.352588)\n",
       " Gray{Float32}(0.999445)  Gray{Float32}(0.995968)     Gray{Float32}(0.673611)\n",
       " Gray{Float32}(0.999487)  Gray{Float32}(0.896687)     Gray{Float32}(0.569589)\n",
       " Gray{Float32}(0.999971)  Gray{Float32}(0.996611)     Gray{Float32}(0.440671)\n",
       " Gray{Float32}(0.999977)  Gray{Float32}(0.992015)     Gray{Float32}(0.241138)\n",
       " Gray{Float32}(0.999917)  Gray{Float32}(0.996619)  …  Gray{Float32}(0.614857)\n",
       " Gray{Float32}(0.998896)  Gray{Float32}(0.959303)     Gray{Float32}(0.508992)\n",
       " Gray{Float32}(0.996001)  Gray{Float32}(0.994811)     Gray{Float32}(0.658378)\n",
       " Gray{Float32}(0.985274)  Gray{Float32}(0.993452)     Gray{Float32}(0.480387)\n",
       " Gray{Float32}(0.920895)  Gray{Float32}(0.968901)     Gray{Float32}(0.693805)"
      ]
     },
     "execution_count": 100,
     "metadata": {},
     "output_type": "execute_result"
    }
   ],
   "source": [
    "Gray.( m_gen( MakeZvectors( 1 ) )[:,:,1,1] )"
   ]
  },
  {
   "cell_type": "code",
   "execution_count": null,
   "metadata": {},
   "outputs": [],
   "source": []
  },
  {
   "cell_type": "code",
   "execution_count": null,
   "metadata": {},
   "outputs": [],
   "source": []
  },
  {
   "cell_type": "code",
   "execution_count": null,
   "metadata": {},
   "outputs": [],
   "source": []
  }
 ],
 "metadata": {
  "kernelspec": {
   "display_name": "Julia 1.9.3 1.9.3",
   "language": "julia",
   "name": "julia-1.9.3-1.9"
  },
  "language_info": {
   "file_extension": ".jl",
   "mimetype": "application/julia",
   "name": "julia",
   "version": "1.9.3"
  }
 },
 "nbformat": 4,
 "nbformat_minor": 5
}
