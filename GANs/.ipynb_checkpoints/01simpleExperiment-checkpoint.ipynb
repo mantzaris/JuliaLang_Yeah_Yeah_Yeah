{
 "cells": [
  {
   "cell_type": "code",
   "execution_count": 23,
   "id": "5c1e67b7-3234-4f9c-bd08-bd3fd095dacf",
   "metadata": {},
   "outputs": [],
   "source": [
    "using Images, TestImages, ImageIO, ImageMagick, ImageView, Colors\n",
    "using StatsBase, Statistics, LinearAlgebra, Plots\n",
    "using Flux"
   ]
  },
  {
   "cell_type": "code",
   "execution_count": null,
   "id": "aa4fb058-29c2-40c8-b749-2048edb35990",
   "metadata": {},
   "outputs": [],
   "source": []
  },
  {
   "cell_type": "code",
   "execution_count": null,
   "id": "832a5cae-e2db-4ffd-a986-e3594b58241d",
   "metadata": {},
   "outputs": [],
   "source": []
  },
  {
   "cell_type": "code",
   "execution_count": null,
   "id": "b6ff7288-ad0a-44e9-ac68-41714bf88f4d",
   "metadata": {},
   "outputs": [],
   "source": []
  },
  {
   "cell_type": "code",
   "execution_count": 3,
   "id": "e857732e-910c-44b2-9b66-27d11331fe0c",
   "metadata": {},
   "outputs": [
    {
     "data": {
      "text/plain": [
       "10"
      ]
     },
     "execution_count": 3,
     "metadata": {},
     "output_type": "execute_result"
    }
   ],
   "source": [
    "NN = 10"
   ]
  },
  {
   "cell_type": "code",
   "execution_count": 9,
   "id": "2d5c1e3a-9ddf-46eb-b1bb-625134eb4321",
   "metadata": {},
   "outputs": [
    {
     "data": {
      "text/plain": [
       "noisySquare (generic function with 1 method)"
      ]
     },
     "execution_count": 9,
     "metadata": {},
     "output_type": "execute_result"
    }
   ],
   "source": [
    "#make a 'noisy' square\n",
    "function noisySquare()\n",
    "    newPic = ones(NN,NN)\n",
    "    for rr = 1:NN\n",
    "        for cc = 1:NN\n",
    "            if( (rr >= 3 && rr <= 7) && (cc >= 3 && cc <= 7) )\n",
    "                if( rand() >= 0.1 ) newPic[rr,cc] = 0 end\n",
    "            end\n",
    "        end\n",
    "    end\n",
    "    return newPic\n",
    "end"
   ]
  },
  {
   "cell_type": "code",
   "execution_count": 10,
   "id": "5bea4f56-f596-46b7-8239-a10c6947ab50",
   "metadata": {},
   "outputs": [
    {
     "data": {
      "text/plain": [
       "noisyCross (generic function with 1 method)"
      ]
     },
     "execution_count": 10,
     "metadata": {},
     "output_type": "execute_result"
    }
   ],
   "source": [
    "#function 'noisy cross'\n",
    "function noisyCross()\n",
    "    newPic = ones(NN,NN)\n",
    "    for rr = 1:NN\n",
    "        for cc = 1:NN\n",
    "            if( rr == 5 || cc == 5 )\n",
    "                if( rand() >= 0.1 ) newPic[rr,cc] = 0 end\n",
    "            end\n",
    "        end\n",
    "    end\n",
    "    return newPic\n",
    "end"
   ]
  },
  {
   "cell_type": "code",
   "execution_count": 11,
   "id": "cedc8186-6338-4355-a758-7b4dad822f45",
   "metadata": {},
   "outputs": [
    {
     "data": {
      "image/png": "[encoded data removed]",
      "text/html": [
       "<img src=\"data:image/png;base64,iVBORw0KGgoAAAANSUhEUgAAAGQAAABkCAAAAABVicqIAAAABGdBTUEAALGPC/xhBQAAAAFzUkdCAK7OHOkAAAAgY0hSTQAAeiYAAICEAAD6AAAAgOgAAHUwAADqYAAAOpgAABdwnLpRPAAAAMFJREFUaAW9wTEKxDAQwEAZ9P8v71WuYkIIOc04/J8EJCABCUhAAhKQgAQkIAEJSEACEpCABCQgAXlocWe4IwEJSEACEpCABCQgATlYbMMXJCABCUhAAhKQgAQkIAfDtviCBCQgAQlIQAISkIAE5KHhavGMBCQgAQlIQAISkIAE5GCxDdviPQlIQAISkIAEJCABCcjBcDW8JwEJSEACEpCABCQgAQlIQAISkIAEJCABCUhAAhKQgAQkIAEJSEACEvgBoCsJj9Y/1jIAAAAASUVORK5C\">"
      ],
      "text/plain": [
       "10×10 Array{Gray{Float64},2} with eltype Gray{Float64}:\n",
       " Gray{Float64}(1.0)  Gray{Float64}(1.0)  …  Gray{Float64}(1.0)\n",
       " Gray{Float64}(1.0)  Gray{Float64}(1.0)     Gray{Float64}(1.0)\n",
       " Gray{Float64}(1.0)  Gray{Float64}(1.0)     Gray{Float64}(1.0)\n",
       " Gray{Float64}(1.0)  Gray{Float64}(1.0)     Gray{Float64}(1.0)\n",
       " Gray{Float64}(1.0)  Gray{Float64}(1.0)     Gray{Float64}(1.0)\n",
       " Gray{Float64}(1.0)  Gray{Float64}(1.0)  …  Gray{Float64}(1.0)\n",
       " Gray{Float64}(1.0)  Gray{Float64}(1.0)     Gray{Float64}(1.0)\n",
       " Gray{Float64}(1.0)  Gray{Float64}(1.0)     Gray{Float64}(1.0)\n",
       " Gray{Float64}(1.0)  Gray{Float64}(1.0)     Gray{Float64}(1.0)\n",
       " Gray{Float64}(1.0)  Gray{Float64}(1.0)     Gray{Float64}(1.0)"
      ]
     },
     "execution_count": 11,
     "metadata": {},
     "output_type": "execute_result"
    }
   ],
   "source": [
    "Gray.(noisySquare())"
   ]
  },
  {
   "cell_type": "code",
   "execution_count": 13,
   "id": "e551d2f5-9927-441d-adbc-783012617c1b",
   "metadata": {},
   "outputs": [
    {
     "data": {
      "image/png": "[encoded data removed]",
      "text/html": [
       "<img src=\"data:image/png;base64,iVBORw0KGgoAAAANSUhEUgAAAGQAAABkCAAAAABVicqIAAAABGdBTUEAALGPC/xhBQAAAAFzUkdCAK7OHOkAAAAgY0hSTQAAeiYAAICEAAD6AAAAgOgAAHUwAADqYAAAOpgAABdwnLpRPAAAALVJREFUaAW9wbEJwEAQwDAfeP+VL9VXgZBvLLn8MxzLLQlIQAISkIAEJCABCUhAAhKQgAQkIAEJSEACEpCABCQgAQlIQAISkIAEJCABCUhAAhKQgAQk4HAsx/BluCUBCUhAAhKQgAQkIAGXt+VtOJZbEpCABCQgAQlIQAISkIAEJCABCUhAAhKQgAQkIAEJSEACEpCABCQgAQlIQAISkIAEJCABCUhAAhKQgAQkIAEJSEACEngAbpkHkOWDeWkAAAAASUVORK5C\">"
      ],
      "text/plain": [
       "10×10 Array{Gray{Float64},2} with eltype Gray{Float64}:\n",
       " Gray{Float64}(1.0)  Gray{Float64}(1.0)  …  Gray{Float64}(1.0)\n",
       " Gray{Float64}(1.0)  Gray{Float64}(1.0)     Gray{Float64}(1.0)\n",
       " Gray{Float64}(1.0)  Gray{Float64}(1.0)     Gray{Float64}(1.0)\n",
       " Gray{Float64}(1.0)  Gray{Float64}(1.0)     Gray{Float64}(1.0)\n",
       " Gray{Float64}(0.0)  Gray{Float64}(1.0)     Gray{Float64}(0.0)\n",
       " Gray{Float64}(1.0)  Gray{Float64}(1.0)  …  Gray{Float64}(1.0)\n",
       " Gray{Float64}(1.0)  Gray{Float64}(1.0)     Gray{Float64}(1.0)\n",
       " Gray{Float64}(1.0)  Gray{Float64}(1.0)     Gray{Float64}(1.0)\n",
       " Gray{Float64}(1.0)  Gray{Float64}(1.0)     Gray{Float64}(1.0)\n",
       " Gray{Float64}(1.0)  Gray{Float64}(1.0)     Gray{Float64}(1.0)"
      ]
     },
     "execution_count": 13,
     "metadata": {},
     "output_type": "execute_result"
    }
   ],
   "source": [
    "Gray.(noisyCross())"
   ]
  },
  {
   "cell_type": "code",
   "execution_count": 14,
   "id": "c9794fdc-3f8b-40a3-982c-34f84e5f3ac6",
   "metadata": {},
   "outputs": [
    {
     "data": {
      "text/plain": [
       "100"
      ]
     },
     "execution_count": 14,
     "metadata": {},
     "output_type": "execute_result"
    }
   ],
   "source": [
    "img_Num = 100"
   ]
  },
  {
   "cell_type": "code",
   "execution_count": 15,
   "id": "1a518b60-14c6-4f07-80c1-0f10c61203ae",
   "metadata": {},
   "outputs": [],
   "source": [
    "squares = [vec(noisySquare()) for i in 1:img_Num];\n",
    "crosses = [vec(noisyCross()) for i in 1:img_Num];"
   ]
  },
  {
   "cell_type": "code",
   "execution_count": 16,
   "id": "c4e0fd8f-2c21-4e68-b207-0c75a12c7e81",
   "metadata": {},
   "outputs": [
    {
     "data": {
      "image/svg+xml": [
       "<?xml version=\"1.0\" encoding=\"UTF-8\"?>\n",
       "<!DOCTYPE svg PUBLIC \"-//W3C//DTD SVG 1.1//EN\"\n",
       " \"http://www.w3.org/Graphics/SVG/1.1/DTD/svg11.dtd\">\n",
       "<svg xmlns=\"http://www.w3.org/2000/svg\" version=\"1.1\"\n",
       "     width=\"180mm\" height=\"25mm\"\n",
       "     viewBox=\"0 0 100 1\" preserveAspectRatio=\"none\"\n",
       "     shape-rendering=\"crispEdges\" stroke=\"none\">\n",
       "<rect width=\"1\" height=\".96\" x=\"0\" y=\"0\" fill=\"#FFFFFF\" />\n",
       "<rect width=\"1\" height=\".96\" x=\"1\" y=\"0\" fill=\"#FFFFFF\" />\n",
       "<rect width=\"1\" height=\".96\" x=\"2\" y=\"0\" fill=\"#FFFFFF\" />\n",
       "<rect width=\"1\" height=\".96\" x=\"3\" y=\"0\" fill=\"#FFFFFF\" />\n",
       "<rect width=\"1\" height=\".96\" x=\"4\" y=\"0\" fill=\"#FFFFFF\" />\n",
       "<rect width=\"1\" height=\".96\" x=\"5\" y=\"0\" fill=\"#FFFFFF\" />\n",
       "<rect width=\"1\" height=\".96\" x=\"6\" y=\"0\" fill=\"#FFFFFF\" />\n",
       "<rect width=\"1\" height=\".96\" x=\"7\" y=\"0\" fill=\"#FFFFFF\" />\n",
       "<rect width=\"1\" height=\".96\" x=\"8\" y=\"0\" fill=\"#FFFFFF\" />\n",
       "<rect width=\"1\" height=\".96\" x=\"9\" y=\"0\" fill=\"#FFFFFF\" />\n",
       "<rect width=\"1\" height=\".96\" x=\"10\" y=\"0\" fill=\"#FFFFFF\" />\n",
       "<rect width=\"1\" height=\".96\" x=\"11\" y=\"0\" fill=\"#FFFFFF\" />\n",
       "<rect width=\"1\" height=\".96\" x=\"12\" y=\"0\" fill=\"#FFFFFF\" />\n",
       "<rect width=\"1\" height=\".96\" x=\"13\" y=\"0\" fill=\"#FFFFFF\" />\n",
       "<rect width=\"1\" height=\".96\" x=\"14\" y=\"0\" fill=\"#FFFFFF\" />\n",
       "<rect width=\"1\" height=\".96\" x=\"15\" y=\"0\" fill=\"#FFFFFF\" />\n",
       "<rect width=\"1\" height=\".96\" x=\"16\" y=\"0\" fill=\"#FFFFFF\" />\n",
       "<rect width=\"1\" height=\".96\" x=\"17\" y=\"0\" fill=\"#FFFFFF\" />\n",
       "<rect width=\"1\" height=\".96\" x=\"18\" y=\"0\" fill=\"#FFFFFF\" />\n",
       "<rect width=\"1\" height=\".96\" x=\"19\" y=\"0\" fill=\"#FFFFFF\" />\n",
       "<rect width=\"1\" height=\".96\" x=\"20\" y=\"0\" fill=\"#FFFFFF\" />\n",
       "<rect width=\"1\" height=\".96\" x=\"21\" y=\"0\" fill=\"#FFFFFF\" />\n",
       "<rect width=\"1\" height=\".96\" x=\"22\" y=\"0\" fill=\"#000000\" />\n",
       "<rect width=\"1\" height=\".96\" x=\"23\" y=\"0\" fill=\"#000000\" />\n",
       "<rect width=\"1\" height=\".96\" x=\"24\" y=\"0\" fill=\"#000000\" />\n",
       "<rect width=\"1\" height=\".96\" x=\"25\" y=\"0\" fill=\"#000000\" />\n",
       "<rect width=\"1\" height=\".96\" x=\"26\" y=\"0\" fill=\"#000000\" />\n",
       "<rect width=\"1\" height=\".96\" x=\"27\" y=\"0\" fill=\"#FFFFFF\" />\n",
       "<rect width=\"1\" height=\".96\" x=\"28\" y=\"0\" fill=\"#FFFFFF\" />\n",
       "<rect width=\"1\" height=\".96\" x=\"29\" y=\"0\" fill=\"#FFFFFF\" />\n",
       "<rect width=\"1\" height=\".96\" x=\"30\" y=\"0\" fill=\"#FFFFFF\" />\n",
       "<rect width=\"1\" height=\".96\" x=\"31\" y=\"0\" fill=\"#FFFFFF\" />\n",
       "<rect width=\"1\" height=\".96\" x=\"32\" y=\"0\" fill=\"#000000\" />\n",
       "<rect width=\"1\" height=\".96\" x=\"33\" y=\"0\" fill=\"#000000\" />\n",
       "<rect width=\"1\" height=\".96\" x=\"34\" y=\"0\" fill=\"#000000\" />\n",
       "<rect width=\"1\" height=\".96\" x=\"35\" y=\"0\" fill=\"#000000\" />\n",
       "<rect width=\"1\" height=\".96\" x=\"36\" y=\"0\" fill=\"#FFFFFF\" />\n",
       "<rect width=\"1\" height=\".96\" x=\"37\" y=\"0\" fill=\"#FFFFFF\" />\n",
       "<rect width=\"1\" height=\".96\" x=\"38\" y=\"0\" fill=\"#FFFFFF\" />\n",
       "<rect width=\"1\" height=\".96\" x=\"39\" y=\"0\" fill=\"#FFFFFF\" />\n",
       "<rect width=\"1\" height=\".96\" x=\"40\" y=\"0\" fill=\"#FFFFFF\" />\n",
       "<rect width=\"1\" height=\".96\" x=\"41\" y=\"0\" fill=\"#FFFFFF\" />\n",
       "<rect width=\"1\" height=\".96\" x=\"42\" y=\"0\" fill=\"#000000\" />\n",
       "<rect width=\"1\" height=\".96\" x=\"43\" y=\"0\" fill=\"#000000\" />\n",
       "<rect width=\"1\" height=\".96\" x=\"44\" y=\"0\" fill=\"#000000\" />\n",
       "<rect width=\"1\" height=\".96\" x=\"45\" y=\"0\" fill=\"#000000\" />\n",
       "<rect width=\"1\" height=\".96\" x=\"46\" y=\"0\" fill=\"#FFFFFF\" />\n",
       "<rect width=\"1\" height=\".96\" x=\"47\" y=\"0\" fill=\"#FFFFFF\" />\n",
       "<rect width=\"1\" height=\".96\" x=\"48\" y=\"0\" fill=\"#FFFFFF\" />\n",
       "<rect width=\"1\" height=\".96\" x=\"49\" y=\"0\" fill=\"#FFFFFF\" />\n",
       "<rect width=\"1\" height=\".96\" x=\"50\" y=\"0\" fill=\"#FFFFFF\" />\n",
       "<rect width=\"1\" height=\".96\" x=\"51\" y=\"0\" fill=\"#FFFFFF\" />\n",
       "<rect width=\"1\" height=\".96\" x=\"52\" y=\"0\" fill=\"#000000\" />\n",
       "<rect width=\"1\" height=\".96\" x=\"53\" y=\"0\" fill=\"#000000\" />\n",
       "<rect width=\"1\" height=\".96\" x=\"54\" y=\"0\" fill=\"#000000\" />\n",
       "<rect width=\"1\" height=\".96\" x=\"55\" y=\"0\" fill=\"#000000\" />\n",
       "<rect width=\"1\" height=\".96\" x=\"56\" y=\"0\" fill=\"#000000\" />\n",
       "<rect width=\"1\" height=\".96\" x=\"57\" y=\"0\" fill=\"#FFFFFF\" />\n",
       "<rect width=\"1\" height=\".96\" x=\"58\" y=\"0\" fill=\"#FFFFFF\" />\n",
       "<rect width=\"1\" height=\".96\" x=\"59\" y=\"0\" fill=\"#FFFFFF\" />\n",
       "<rect width=\"1\" height=\".96\" x=\"60\" y=\"0\" fill=\"#FFFFFF\" />\n",
       "<rect width=\"1\" height=\".96\" x=\"61\" y=\"0\" fill=\"#FFFFFF\" />\n",
       "<rect width=\"1\" height=\".96\" x=\"62\" y=\"0\" fill=\"#000000\" />\n",
       "<rect width=\"1\" height=\".96\" x=\"63\" y=\"0\" fill=\"#000000\" />\n",
       "<rect width=\"1\" height=\".96\" x=\"64\" y=\"0\" fill=\"#000000\" />\n",
       "<rect width=\"1\" height=\".96\" x=\"65\" y=\"0\" fill=\"#000000\" />\n",
       "<rect width=\"1\" height=\".96\" x=\"66\" y=\"0\" fill=\"#000000\" />\n",
       "<rect width=\"1\" height=\".96\" x=\"67\" y=\"0\" fill=\"#FFFFFF\" />\n",
       "<rect width=\"1\" height=\".96\" x=\"68\" y=\"0\" fill=\"#FFFFFF\" />\n",
       "<rect width=\"1\" height=\".96\" x=\"69\" y=\"0\" fill=\"#FFFFFF\" />\n",
       "<rect width=\"1\" height=\".96\" x=\"70\" y=\"0\" fill=\"#FFFFFF\" />\n",
       "<rect width=\"1\" height=\".96\" x=\"71\" y=\"0\" fill=\"#FFFFFF\" />\n",
       "<rect width=\"1\" height=\".96\" x=\"72\" y=\"0\" fill=\"#FFFFFF\" />\n",
       "<rect width=\"1\" height=\".96\" x=\"73\" y=\"0\" fill=\"#FFFFFF\" />\n",
       "<rect width=\"1\" height=\".96\" x=\"74\" y=\"0\" fill=\"#FFFFFF\" />\n",
       "<rect width=\"1\" height=\".96\" x=\"75\" y=\"0\" fill=\"#FFFFFF\" />\n",
       "<rect width=\"1\" height=\".96\" x=\"76\" y=\"0\" fill=\"#FFFFFF\" />\n",
       "<rect width=\"1\" height=\".96\" x=\"77\" y=\"0\" fill=\"#FFFFFF\" />\n",
       "<rect width=\"1\" height=\".96\" x=\"78\" y=\"0\" fill=\"#FFFFFF\" />\n",
       "<rect width=\"1\" height=\".96\" x=\"79\" y=\"0\" fill=\"#FFFFFF\" />\n",
       "<rect width=\"1\" height=\".96\" x=\"80\" y=\"0\" fill=\"#FFFFFF\" />\n",
       "<rect width=\"1\" height=\".96\" x=\"81\" y=\"0\" fill=\"#FFFFFF\" />\n",
       "<rect width=\"1\" height=\".96\" x=\"82\" y=\"0\" fill=\"#FFFFFF\" />\n",
       "<rect width=\"1\" height=\".96\" x=\"83\" y=\"0\" fill=\"#FFFFFF\" />\n",
       "<rect width=\"1\" height=\".96\" x=\"84\" y=\"0\" fill=\"#FFFFFF\" />\n",
       "<rect width=\"1\" height=\".96\" x=\"85\" y=\"0\" fill=\"#FFFFFF\" />\n",
       "<rect width=\"1\" height=\".96\" x=\"86\" y=\"0\" fill=\"#FFFFFF\" />\n",
       "<rect width=\"1\" height=\".96\" x=\"87\" y=\"0\" fill=\"#FFFFFF\" />\n",
       "<rect width=\"1\" height=\".96\" x=\"88\" y=\"0\" fill=\"#FFFFFF\" />\n",
       "<rect width=\"1\" height=\".96\" x=\"89\" y=\"0\" fill=\"#FFFFFF\" />\n",
       "<rect width=\"1\" height=\".96\" x=\"90\" y=\"0\" fill=\"#FFFFFF\" />\n",
       "<rect width=\"1\" height=\".96\" x=\"91\" y=\"0\" fill=\"#FFFFFF\" />\n",
       "<rect width=\"1\" height=\".96\" x=\"92\" y=\"0\" fill=\"#FFFFFF\" />\n",
       "<rect width=\"1\" height=\".96\" x=\"93\" y=\"0\" fill=\"#FFFFFF\" />\n",
       "<rect width=\"1\" height=\".96\" x=\"94\" y=\"0\" fill=\"#FFFFFF\" />\n",
       "<rect width=\"1\" height=\".96\" x=\"95\" y=\"0\" fill=\"#FFFFFF\" />\n",
       "<rect width=\"1\" height=\".96\" x=\"96\" y=\"0\" fill=\"#FFFFFF\" />\n",
       "<rect width=\"1\" height=\".96\" x=\"97\" y=\"0\" fill=\"#FFFFFF\" />\n",
       "<rect width=\"1\" height=\".96\" x=\"98\" y=\"0\" fill=\"#FFFFFF\" />\n",
       "<rect width=\"1\" height=\".96\" x=\"99\" y=\"0\" fill=\"#FFFFFF\" />\n",
       "</svg>"
      ],
      "text/plain": [
       "100-element Array{Gray{Float64},1} with eltype Gray{Float64}:\n",
       " Gray{Float64}(1.0)\n",
       " Gray{Float64}(1.0)\n",
       " Gray{Float64}(1.0)\n",
       " Gray{Float64}(1.0)\n",
       " Gray{Float64}(1.0)\n",
       " Gray{Float64}(1.0)\n",
       " Gray{Float64}(1.0)\n",
       " Gray{Float64}(1.0)\n",
       " Gray{Float64}(1.0)\n",
       " Gray{Float64}(1.0)\n",
       " Gray{Float64}(1.0)\n",
       " Gray{Float64}(1.0)\n",
       " Gray{Float64}(1.0)\n",
       " ⋮\n",
       " Gray{Float64}(1.0)\n",
       " Gray{Float64}(1.0)\n",
       " Gray{Float64}(1.0)\n",
       " Gray{Float64}(1.0)\n",
       " Gray{Float64}(1.0)\n",
       " Gray{Float64}(1.0)\n",
       " Gray{Float64}(1.0)\n",
       " Gray{Float64}(1.0)\n",
       " Gray{Float64}(1.0)\n",
       " Gray{Float64}(1.0)\n",
       " Gray{Float64}(1.0)\n",
       " Gray{Float64}(1.0)"
      ]
     },
     "execution_count": 16,
     "metadata": {},
     "output_type": "execute_result"
    }
   ],
   "source": [
    "Gray.(squares[1])"
   ]
  },
  {
   "cell_type": "code",
   "execution_count": 17,
   "id": "257eeff5-332a-4de3-bdea-0c912c75b659",
   "metadata": {},
   "outputs": [
    {
     "data": {
      "image/png": "[encoded data removed]",
      "text/html": [
       "<img src=\"data:image/png;base64,iVBORw0KGgoAAAANSUhEUgAAAGQAAABkCAAAAABVicqIAAAABGdBTUEAALGPC/xhBQAAAAFzUkdCAK7OHOkAAAAgY0hSTQAAeiYAAICEAAD6AAAAgOgAAHUwAADqYAAAOpgAABdwnLpRPAAAALFJREFUaAW9wcEJACEQwMAI6b/lvQJOBB9mxuE9CUhAAhKQgAQkIAEJSEACEpCABCQgAQlIQAKysbg1nEhAAhKQgAQkIAEJSEACEpCABCQgAQlIQAISkIAEJCABCUhAAhKQgAQkIAEJSEACEpCABCQgATka/ha3JCABCUhAAhKQgAQkIBvDyXBLAhKQgAQkIAEJSEACEpCABCQgAQlIQAISkIAEJCABCUhAAhKQgAQk8AHbdwaOrRXzZQAAAABJRU5ErkJg\">"
      ],
      "text/plain": [
       "10×10 Array{Gray{Float64},2} with eltype Gray{Float64}:\n",
       " Gray{Float64}(1.0)  Gray{Float64}(1.0)  …  Gray{Float64}(1.0)\n",
       " Gray{Float64}(1.0)  Gray{Float64}(1.0)     Gray{Float64}(1.0)\n",
       " Gray{Float64}(1.0)  Gray{Float64}(1.0)     Gray{Float64}(1.0)\n",
       " Gray{Float64}(1.0)  Gray{Float64}(1.0)     Gray{Float64}(1.0)\n",
       " Gray{Float64}(1.0)  Gray{Float64}(1.0)     Gray{Float64}(1.0)\n",
       " Gray{Float64}(1.0)  Gray{Float64}(1.0)  …  Gray{Float64}(1.0)\n",
       " Gray{Float64}(1.0)  Gray{Float64}(1.0)     Gray{Float64}(1.0)\n",
       " Gray{Float64}(1.0)  Gray{Float64}(1.0)     Gray{Float64}(1.0)\n",
       " Gray{Float64}(1.0)  Gray{Float64}(1.0)     Gray{Float64}(1.0)\n",
       " Gray{Float64}(1.0)  Gray{Float64}(1.0)     Gray{Float64}(1.0)"
      ]
     },
     "execution_count": 17,
     "metadata": {},
     "output_type": "execute_result"
    }
   ],
   "source": [
    "reshape( Gray.(squares[1]) , NN , NN )"
   ]
  },
  {
   "cell_type": "code",
   "execution_count": 18,
   "id": "a790a8b3-48a6-4f37-a260-26a88f20bc2e",
   "metadata": {},
   "outputs": [
    {
     "data": {
      "text/plain": [
       "(100,)"
      ]
     },
     "execution_count": 18,
     "metadata": {},
     "output_type": "execute_result"
    }
   ],
   "source": [
    "size( squares )"
   ]
  },
  {
   "cell_type": "code",
   "execution_count": 22,
   "id": "e462ab3e-37c8-4da0-a8dd-6507f443614a",
   "metadata": {},
   "outputs": [
    {
     "data": {
      "text/plain": [
       "(200,)"
      ]
     },
     "execution_count": 22,
     "metadata": {},
     "output_type": "execute_result"
    }
   ],
   "source": [
    "real_data = vcat( squares , crosses )\n",
    "size( real_data )"
   ]
  },
  {
   "cell_type": "code",
   "execution_count": 46,
   "id": "cd43f98c-e2fe-4086-97b7-656e5e5ac772",
   "metadata": {},
   "outputs": [
    {
     "data": {
      "text/plain": [
       "(100, 200)"
      ]
     },
     "metadata": {},
     "output_type": "display_data"
    },
    {
     "data": {
      "text/plain": [
       "(100, 1, 200)"
      ]
     },
     "execution_count": 46,
     "metadata": {},
     "output_type": "execute_result"
    }
   ],
   "source": [
    "#data must be in WxHxCxN but for generator it is 1 d entry so that is HxCxN\n",
    "tmp = Flux.stack( real_data , dims=2 )\n",
    "display( size( tmp ) )\n",
    "real_data_HCN = Flux.unsqueeze( tmp , dims = 2 )\n",
    "size( real_data_HCN )"
   ]
  },
  {
   "cell_type": "code",
   "execution_count": null,
   "id": "e1e83b45-33cb-4b51-baef-ae81964b36f8",
   "metadata": {},
   "outputs": [],
   "source": []
  },
  {
   "cell_type": "code",
   "execution_count": 163,
   "id": "0da550ff-50e2-4eb7-824b-bf1a128b5b74",
   "metadata": {},
   "outputs": [
    {
     "data": {
      "text/plain": [
       "MakeZvectors (generic function with 1 method)"
      ]
     },
     "execution_count": 163,
     "metadata": {},
     "output_type": "execute_result"
    }
   ],
   "source": [
    "latent_dim = 10\n",
    "function MakeZvectors( batch_num )\n",
    "    return rand( latent_dim , batch_num )\n",
    "end"
   ]
  },
  {
   "cell_type": "code",
   "execution_count": 145,
   "id": "9e88a414-a0c3-4b2d-9a85-25040eb4d854",
   "metadata": {},
   "outputs": [
    {
     "data": {
      "text/plain": [
       "Chain(\n",
       "  Dense(10 => 100),                     \u001b[90m# 1_100 parameters\u001b[39m\n",
       "  BatchNorm(100, relu),                 \u001b[90m# 200 parameters\u001b[39m\u001b[90m, plus 200\u001b[39m\n",
       "  var\"#93#94\"(),\n",
       "  ConvTranspose((4, 4), 4 => 2, pad=1),  \u001b[90m# 130 parameters\u001b[39m\n",
       "  BatchNorm(2, relu),                   \u001b[90m# 4 parameters\u001b[39m\u001b[90m, plus 4\u001b[39m\n",
       "  ConvTranspose((5, 5), 2 => 1, pad=1),  \u001b[90m# 51 parameters\u001b[39m\n",
       "  ConvTranspose((5, 5), 1 => 1, pad=1),  \u001b[90m# 26 parameters\u001b[39m\n",
       "  NNlib.σ,\n",
       ") \u001b[90m        # Total: 12 trainable arrays, \u001b[39m1_511 parameters,\n",
       "\u001b[90m          # plus 4 non-trainable, 204 parameters, summarysize \u001b[39m8.332 KiB."
      ]
     },
     "execution_count": 145,
     "metadata": {},
     "output_type": "execute_result"
    }
   ],
   "source": [
    "\n",
    "m_gen = Chain( \n",
    "      Dense( latent_dim => 100 ) , \n",
    "      BatchNorm(100,relu),\n",
    "      x->reshape( x , 5 , 5 , 4 , : ) , #make into WHCN\n",
    "      ConvTranspose( (4,4) , 4 => 2 ; stride = 1, pad = 1 ) ,\n",
    "      BatchNorm( 2 , relu ) ,\n",
    "      ConvTranspose( (5,5) , 2 => 1 ; stride = 1, pad = 1 ) , \n",
    "      ConvTranspose( (5,5) , 1 => 1 ; stride = 1, pad = 1 ) , \n",
    "      sigmoid\n",
    "    )"
   ]
  },
  {
   "cell_type": "code",
   "execution_count": 172,
   "id": "68907aaa-a438-4762-a693-6360b74d7140",
   "metadata": {},
   "outputs": [
    {
     "data": {
      "text/plain": [
       "10×10×1 Array{Float64, 3}:\n",
       "[:, :, 1] =\n",
       " 0.493144  0.508905  0.493317  0.476708  …  0.512633  0.504794  0.496547\n",
       " 0.504662  0.492216  0.505276  0.52541      0.478426  0.500158  0.499733\n",
       " 0.498955  0.495857  0.504482  0.498669     0.522445  0.502241  0.499822\n",
       " 0.501606  0.506502  0.515751  0.501729     0.495303  0.514056  0.503193\n",
       " 0.507208  0.514434  0.477122  0.521796     0.485266  0.507382  0.522328\n",
       " 0.496314  0.506437  0.539887  0.483845  …  0.49131   0.481076  0.506164\n",
       " 0.50133   0.487627  0.492163  0.529499     0.515026  0.478933  0.480938\n",
       " 0.498819  0.507307  0.485117  0.4927       0.514768  0.480432  0.472229\n",
       " 0.500274  0.494775  0.506424  0.497468     0.499567  0.504829  0.479597\n",
       " 0.496419  0.491963  0.476964  0.477826     0.496769  0.505999  0.492738"
      ]
     },
     "execution_count": 172,
     "metadata": {},
     "output_type": "execute_result"
    }
   ],
   "source": [
    "genImg1 = m_gen( MakeZvectors( 1 ) )\n",
    "genImg1[:,:,:,1]"
   ]
  },
  {
   "cell_type": "code",
   "execution_count": 173,
   "id": "9fe34420-ac5c-4591-b2dd-436b02b3108d",
   "metadata": {},
   "outputs": [
    {
     "data": {
      "image/png": "[encoded data removed]",
      "text/html": [
       "<img src=\"data:image/png;base64,iVBORw0KGgoAAAANSUhEUgAAAGQAAABkCAAAAABVicqIAAAABGdBTUEAALGPC/xhBQAAAAFzUkdCAK7OHOkAAAAgY0hSTQAAeiYAAICEAAD6AAAAgOgAAHUwAADqYAAAOpgAABdwnLpRPAAAAURJREFUaAW9wctKw1AARdGddqc+quBA/Fz/WEEUa2xz6+iMAg7PWr4SEhfiQhyJH2Il7ohBDEIKpEAKpEAKpEAKpEAK3BMXYk/cEh/EAzGIE3FgSwqkQAqkQAqkQAqkQAoc/GchHolP4o44Eme2pEAKpEAKpEAKpEAKpMCJ2BF74kpIPBNvxCBmYiWkQAqkQAqkQAqkQAqkwInYEd/EkVjYeiHeiUHMhBRIgRRIgRRIgRRIgRQ42HoiPoiZuCe+iIn4ZUsKpEAKpEAKpEAKpEAKnIgzsRIPxIn4Jm6IiTgRv4QUSIEUSIEUSIEUSIEUeCVm4kyciJn4Is7ELTERKyEFUiAFUiAFUiAFUiAFTsRKzMQgFuJArMSFOBALIQVSIAVSIAVSIAVSIAVeiSuxsLUjBjHxHwkpkAIpkAIpkAIpkAIp+AMNzzHy2z2YxgAAAABJRU5ErkJg\">"
      ],
      "text/plain": [
       "10×10 Array{Gray{Float64},2} with eltype Gray{Float64}:\n",
       " Gray{Float64}(0.493144)  Gray{Float64}(0.508905)  …  Gray{Float64}(0.496547)\n",
       " Gray{Float64}(0.504662)  Gray{Float64}(0.492216)     Gray{Float64}(0.499733)\n",
       " Gray{Float64}(0.498955)  Gray{Float64}(0.495857)     Gray{Float64}(0.499822)\n",
       " Gray{Float64}(0.501606)  Gray{Float64}(0.506502)     Gray{Float64}(0.503193)\n",
       " Gray{Float64}(0.507208)  Gray{Float64}(0.514434)     Gray{Float64}(0.522328)\n",
       " Gray{Float64}(0.496314)  Gray{Float64}(0.506437)  …  Gray{Float64}(0.506164)\n",
       " Gray{Float64}(0.50133)   Gray{Float64}(0.487627)     Gray{Float64}(0.480938)\n",
       " Gray{Float64}(0.498819)  Gray{Float64}(0.507307)     Gray{Float64}(0.472229)\n",
       " Gray{Float64}(0.500274)  Gray{Float64}(0.494775)     Gray{Float64}(0.479597)\n",
       " Gray{Float64}(0.496419)  Gray{Float64}(0.491963)     Gray{Float64}(0.492738)"
      ]
     },
     "execution_count": 173,
     "metadata": {},
     "output_type": "execute_result"
    }
   ],
   "source": [
    "Gray.(genImg1[:,:,1,1])"
   ]
  },
  {
   "cell_type": "code",
   "execution_count": 174,
   "id": "899351c6-b00e-47a5-b0d0-69d1accedaad",
   "metadata": {},
   "outputs": [
    {
     "data": {
      "text/plain": [
       "Chain(\n",
       "  Conv((4, 4), 1 => 1, pad=1),          \u001b[90m# 17 parameters\u001b[39m\n",
       "  NNlib.relu,\n",
       "  Conv((4, 4), 1 => 1, pad=1),          \u001b[90m# 17 parameters\u001b[39m\n",
       "  NNlib.relu,\n",
       "  Flux.flatten,\n",
       "  Dense(64 => 10, relu),                \u001b[90m# 650 parameters\u001b[39m\n",
       "  Dense(10 => 1),                       \u001b[90m# 11 parameters\u001b[39m\n",
       "  NNlib.σ,\n",
       ") \u001b[90m                  # Total: 8 arrays, \u001b[39m695 parameters, 3.668 KiB."
      ]
     },
     "execution_count": 174,
     "metadata": {},
     "output_type": "execute_result"
    }
   ],
   "source": [
    "m_dis = Chain(\n",
    "      Conv( (4,4) , 1 => 1 , stride = 1 , pad = 1 ) ,\n",
    "      relu ,\n",
    "      Conv( (4,4) , 1 => 1 , stride = 1 , pad = 1 ) ,\n",
    "      relu ,\n",
    "      Flux.flatten ,\n",
    "      Dense( 64 => 10 , relu ) ,\n",
    "      Dense( 10 => 1 ) ,\n",
    "      sigmoid\n",
    "    )"
   ]
  },
  {
   "cell_type": "code",
   "execution_count": 167,
   "id": "30111867-de06-44cb-85f2-0bcd78ffe506",
   "metadata": {},
   "outputs": [
    {
     "data": {
      "text/plain": [
       "1×2 Matrix{Float64}:\n",
       " 0.502735  0.501062"
      ]
     },
     "execution_count": 167,
     "metadata": {},
     "output_type": "execute_result"
    }
   ],
   "source": [
    "m_dis( genImg1[:,:,:,1:2] )"
   ]
  },
  {
   "cell_type": "code",
   "execution_count": 175,
   "id": "4141653c-1e1c-45e1-994c-b73cdcf5f479",
   "metadata": {},
   "outputs": [
    {
     "data": {
      "text/plain": [
       "generator_loss (generic function with 1 method)"
      ]
     },
     "execution_count": 175,
     "metadata": {},
     "output_type": "execute_result"
    }
   ],
   "source": [
    "function generator_loss( fake_output ) \n",
    "    logitbinarycrossentropy( fake_output , 1 )\n",
    "end"
   ]
  },
  {
   "cell_type": "code",
   "execution_count": 176,
   "id": "e95023da-2f28-4f08-8f38-0bc4d1a31303",
   "metadata": {},
   "outputs": [
    {
     "data": {
      "text/plain": [
       "discriminator_loss (generic function with 1 method)"
      ]
     },
     "execution_count": 176,
     "metadata": {},
     "output_type": "execute_result"
    }
   ],
   "source": [
    "function discriminator_loss( real_output , fake_output )\n",
    "    real_loss = logitbinarycrossentropy( real_output , 1 )\n",
    "    fake_loss = logitbinarycrossentropy( fake_output , 0 )\n",
    "    return real_loss + fake_loss\n",
    "end"
   ]
  },
  {
   "cell_type": "code",
   "execution_count": 177,
   "id": "2780ff26-0f3d-472d-9132-4e7adc3f2696",
   "metadata": {},
   "outputs": [
    {
     "data": {
      "text/plain": [
       "train_generator (generic function with 1 method)"
      ]
     },
     "execution_count": 177,
     "metadata": {},
     "output_type": "execute_result"
    }
   ],
   "source": [
    "function train_generator( gen , dscr , opt_gen , batch_num )\n",
    "    noise = MakeZvectors( batch_num )\n",
    "    # Taking gradient\n",
    "    loss, grads = Flux.withgradient( gen ) do gen\n",
    "        generator_loss( dscr( gen( noise ) ) )\n",
    "    end\n",
    "    update!( opt_gen , gen , grads[1] )\n",
    "    return loss\n",
    "end"
   ]
  },
  {
   "cell_type": "code",
   "execution_count": 183,
   "id": "731c649d-3b3b-4ea4-bc0f-e44714f2c48c",
   "metadata": {},
   "outputs": [
    {
     "data": {
      "text/plain": [
       "train_discriminator! (generic function with 1 method)"
      ]
     },
     "execution_count": 183,
     "metadata": {},
     "output_type": "execute_result"
    }
   ],
   "source": [
    "function train_discriminator!( gen , dscr , x , opt_dscr , batch_num )\n",
    "    noise = MakeZvectors( batch_num )\n",
    "    fake_input = gen( noise )\n",
    "    # Taking gradient\n",
    "    loss, grads = Flux.withgradient(dscr) do dscr\n",
    "        discriminator_loss( dscr( x ) , dscr( fake_input ) )\n",
    "    end\n",
    "    update!( opt_dscr , dscr , grads[1] )\n",
    "    return loss\n",
    "end"
   ]
  },
  {
   "cell_type": "code",
   "execution_count": 186,
   "id": "7c39fec7-fd13-49ce-8c53-d06245facbc7",
   "metadata": {},
   "outputs": [],
   "source": [
    "opt_dis = Flux.setup( Adam( 0.001 ) , m_dis )\n",
    "opt_gen = Flux.setup( Adam( 0.001 ) , m_gen );"
   ]
  },
  {
   "cell_type": "code",
   "execution_count": null,
   "id": "63d79aac-f569-4bff-a54d-c0c4c423c596",
   "metadata": {},
   "outputs": [],
   "source": []
  },
  {
   "cell_type": "code",
   "execution_count": null,
   "id": "a659754a-64c7-4307-9b87-14e80fec88a5",
   "metadata": {},
   "outputs": [],
   "source": [
    "for epoch in 1:100\n",
    "    for x in data\n",
    "        \n",
    "        loss_dscr = train_discriminator( m_gen , m_dis , x , opt_dis )\n",
    "        loss_gen = train_generator( m_gen, m_dis , x , opt_gen )\n",
    "         \n",
    "    end\n",
    "    \n",
    "end"
   ]
  },
  {
   "cell_type": "code",
   "execution_count": null,
   "id": "063b7297-2f2f-416a-8cfd-83bbc14d267d",
   "metadata": {},
   "outputs": [],
   "source": []
  },
  {
   "cell_type": "code",
   "execution_count": null,
   "id": "7ca89b2e-ddb2-471f-abe5-3f886bb8c28d",
   "metadata": {},
   "outputs": [],
   "source": []
  },
  {
   "cell_type": "code",
   "execution_count": null,
   "id": "a44045ef-c4f6-44ee-954e-34203eea1085",
   "metadata": {},
   "outputs": [],
   "source": []
  },
  {
   "cell_type": "code",
   "execution_count": null,
   "id": "89879ebf-4273-473e-9ada-5ea132cb8ab7",
   "metadata": {},
   "outputs": [],
   "source": []
  },
  {
   "cell_type": "code",
   "execution_count": null,
   "id": "fb09637d-e862-467b-8e5b-9eb38fe53054",
   "metadata": {},
   "outputs": [],
   "source": []
  }
 ],
 "metadata": {
  "kernelspec": {
   "display_name": "Julia 1.8.2",
   "language": "julia",
   "name": "julia-1.8"
  },
  "language_info": {
   "file_extension": ".jl",
   "mimetype": "application/julia",
   "name": "julia",
   "version": "1.8.2"
  }
 },
 "nbformat": 4,
 "nbformat_minor": 5
}
