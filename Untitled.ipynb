{
 "cells": [
  {
   "cell_type": "code",
   "execution_count": 126,
   "id": "1f437d56-b46c-41ea-a685-77cfd87b23d4",
   "metadata": {},
   "outputs": [],
   "source": [
    "using Flux\n",
    "using Flux: logitcrossentropy, normalise, onecold, onehotbatch\n",
    "using Statistics: mean\n",
    "using Parameters: @with_kw"
   ]
  },
  {
   "cell_type": "code",
   "execution_count": null,
   "id": "7ca6c663-d399-42e4-aa63-9eff39bec3f4",
   "metadata": {},
   "outputs": [],
   "source": []
  },
  {
   "cell_type": "code",
   "execution_count": 127,
   "id": "b63b52d7-7f74-405f-9a4c-f09a91356013",
   "metadata": {},
   "outputs": [
    {
     "data": {
      "text/plain": [
       "Argsi"
      ]
     },
     "execution_count": 127,
     "metadata": {},
     "output_type": "execute_result"
    }
   ],
   "source": [
    "@with_kw mutable struct Argsi\n",
    "    lr::Float64 = 0.5\n",
    "    repeat::Int = 110\n",
    "end"
   ]
  },
  {
   "cell_type": "code",
   "execution_count": null,
   "id": "b2111fd0-d1a4-47de-9587-310b33dc6243",
   "metadata": {},
   "outputs": [],
   "source": []
  },
  {
   "cell_type": "code",
   "execution_count": 128,
   "id": "d8e9716a-6707-496e-a685-09ada367712a",
   "metadata": {},
   "outputs": [
    {
     "data": {
      "text/plain": [
       "get_processed_data (generic function with 1 method)"
      ]
     },
     "execution_count": 128,
     "metadata": {},
     "output_type": "execute_result"
    }
   ],
   "source": [
    "function get_processed_data(args)\n",
    "    labels = Flux.Data.Iris.labels()\n",
    "    features = Flux.Data.Iris.features()\n",
    "\n",
    "    # Subract mean, divide by std dev for normed mean of 0 and std dev of 1.\n",
    "    normed_features = normalise(features, dims=2)\n",
    "\n",
    "    klasses = sort(unique(labels))\n",
    "    onehot_labels = onehotbatch(labels, klasses)\n",
    "\n",
    "    # Split into training and test sets, 2/3 for training, 1/3 for test.\n",
    "    train_indices = [1:3:150 ; 2:3:150]\n",
    "\n",
    "    X_train = normed_features[:, train_indices]\n",
    "    y_train = onehot_labels[:, train_indices]\n",
    "\n",
    "    X_test = normed_features[:, 3:3:150]\n",
    "    y_test = onehot_labels[:, 3:3:150]\n",
    "\n",
    "    #repeat the data `args.repeat` times\n",
    "    train_data = Iterators.repeated((X_train, y_train), args.repeat)\n",
    "    test_data = (X_test,y_test)\n",
    "\n",
    "    return train_data, test_data\n",
    "end"
   ]
  },
  {
   "cell_type": "code",
   "execution_count": null,
   "id": "40bdbb3f-b948-457d-9b2f-b2a4dde93c6e",
   "metadata": {},
   "outputs": [],
   "source": []
  },
  {
   "cell_type": "code",
   "execution_count": 129,
   "id": "58d12308-1c7d-4d2f-abcb-d54df3b9d677",
   "metadata": {},
   "outputs": [
    {
     "data": {
      "text/plain": [
       "accuracy (generic function with 2 methods)"
      ]
     },
     "execution_count": 129,
     "metadata": {},
     "output_type": "execute_result"
    }
   ],
   "source": [
    "# Accuracy Function\n",
    "accuracy(x, y, model) = mean(onecold(model(x)) .== onecold(y))"
   ]
  },
  {
   "cell_type": "code",
   "execution_count": null,
   "id": "72b76952-ea15-42b0-8c5d-e74010289440",
   "metadata": {},
   "outputs": [],
   "source": []
  },
  {
   "cell_type": "code",
   "execution_count": 130,
   "id": "07abe4a5-1689-4f38-8e41-f84174b64eb6",
   "metadata": {},
   "outputs": [
    {
     "data": {
      "text/plain": [
       "confusion_matrix (generic function with 1 method)"
      ]
     },
     "execution_count": 130,
     "metadata": {},
     "output_type": "execute_result"
    }
   ],
   "source": [
    "# Function to build confusion matrix\n",
    "function confusion_matrix(X, y, model)\n",
    "    ŷ = onehotbatch(onecold(model(X)), 1:3)\n",
    "    y * transpose(ŷ)\n",
    "end"
   ]
  },
  {
   "cell_type": "code",
   "execution_count": null,
   "id": "973ff5ca-446d-4c0c-b824-c16a1140a06e",
   "metadata": {},
   "outputs": [],
   "source": []
  },
  {
   "cell_type": "code",
   "execution_count": 132,
   "id": "6fb34aca-de89-4eaa-ad13-735b724731b9",
   "metadata": {},
   "outputs": [
    {
     "data": {
      "text/plain": [
       "train (generic function with 1 method)"
      ]
     },
     "execution_count": 132,
     "metadata": {},
     "output_type": "execute_result"
    }
   ],
   "source": [
    "function train(; kws...)\n",
    "    # Initialize hyperparameter arguments\n",
    "    args = Argsi(; kws...)\t\n",
    "\n",
    "    #Loading processed data\n",
    "    train_data, test_data = get_processed_data(args)\n",
    "\n",
    "    # Declare model taking 4 features as inputs and outputting 3 probabiltiies, \n",
    "    # one for each species of iris.\n",
    "    model = Chain(Dense(4, 3))\n",
    "\t\n",
    "    # Defining loss function to be used in training\n",
    "    # For numerical stability, we use here logitcrossentropy\n",
    "    loss(x, y) = logitcrossentropy(model(x), y)\n",
    "\t\n",
    "    # Training\n",
    "    # Gradient descent optimiser with learning rate `args.lr`\n",
    "    optimiser = Descent(args.lr)\n",
    "\n",
    "    println(\"Starting training.\")\n",
    "    Flux.train!(loss, params(model), train_data, optimiser)\n",
    "\t\n",
    "    return model, test_data\n",
    "end"
   ]
  },
  {
   "cell_type": "code",
   "execution_count": 135,
   "id": "7e46daef-41e8-48c0-90ec-f5ade0889a6b",
   "metadata": {},
   "outputs": [
    {
     "data": {
      "text/plain": [
       "train (generic function with 1 method)"
      ]
     },
     "execution_count": 135,
     "metadata": {},
     "output_type": "execute_result"
    }
   ],
   "source": [
    "function train(; kws...)\n",
    "    # Initialize hyperparameter arguments\n",
    "    args = Argsi(; kws...)\t\n",
    "\n",
    "    #Loading processed data\n",
    "    train_data, test_data = get_processed_data(args)\n",
    "\n",
    "    # Declare model taking 4 features as inputs and outputting 3 probabiltiies, \n",
    "    # one for each species of iris.\n",
    "    model = Chain(Dense(4, 3))\n",
    "\t\n",
    "    # Defining loss function to be used in training\n",
    "    # For numerical stability, we use here logitcrossentropy\n",
    "    loss(x, y) = logitcrossentropy(model(x), y)\n",
    "\t\n",
    "    # Training\n",
    "    # Gradient descent optimiser with learning rate `args.lr`\n",
    "    optimiser = Descent(args.lr)\n",
    "\n",
    "    println(\"Starting training.\")\n",
    "    Flux.train!(loss, params(model), train_data, optimiser)\n",
    "\t\n",
    "    return model, test_data\n",
    "end"
   ]
  },
  {
   "cell_type": "code",
   "execution_count": null,
   "id": "a28ed42b-e021-4412-add5-f60865d2ec31",
   "metadata": {},
   "outputs": [],
   "source": []
  },
  {
   "cell_type": "code",
   "execution_count": 138,
   "id": "a55d198d-be9f-4c05-9464-ae01c3e101b6",
   "metadata": {},
   "outputs": [
    {
     "data": {
      "text/plain": [
       "test (generic function with 1 method)"
      ]
     },
     "execution_count": 138,
     "metadata": {},
     "output_type": "execute_result"
    }
   ],
   "source": [
    "function test(model, test)\n",
    "    # Testing model performance on test data \n",
    "    X_test, y_test = test\n",
    "    accuracy_score = accuracy(X_test, y_test, model)\n",
    "\n",
    "    println(\"\\nAccuracy: $accuracy_score\")\n",
    "\n",
    "    # Sanity check.\n",
    "    @assert accuracy_score > 0.8\n",
    "\n",
    "    # To avoid confusion, here is the definition of a Confusion Matrix: https://en.wikipedia.org/wiki/Confusion_matrix\n",
    "    println(\"\\nConfusion Matrix:\\n\")\n",
    "    display(confusion_matrix(X_test, y_test, model))\n",
    "end"
   ]
  },
  {
   "cell_type": "code",
   "execution_count": null,
   "id": "a67f2191-630b-4794-9c33-866a78bddce3",
   "metadata": {},
   "outputs": [],
   "source": []
  },
  {
   "cell_type": "code",
   "execution_count": 139,
   "id": "8c91dbed-1b65-46f4-8bcf-43c44d38d0cd",
   "metadata": {},
   "outputs": [
    {
     "name": "stderr",
     "output_type": "stream",
     "text": [
      "┌ Warning: Flux's datasets are deprecated, please use the package MLDatasets.jl\n",
      "└ @ Flux.Data /home/tasty/.julia/packages/Flux/qAdFM/src/data/Data.jl:16\n",
      "┌ Warning: Flux's datasets are deprecated, please use the package MLDatasets.jl\n",
      "└ @ Flux.Data /home/tasty/.julia/packages/Flux/qAdFM/src/data/Data.jl:16\n"
     ]
    },
    {
     "name": "stdout",
     "output_type": "stream",
     "text": [
      "Starting training.\n"
     ]
    },
    {
     "data": {
      "text/plain": [
       "(Chain(Dense(4, 3)), ([-1.3853358662527382 -0.5371710501796337 … 0.5533265704857853 0.06866096130115495; 0.3378405113631892 1.9576237850223208 … -1.2819427622959434 -0.12495470968227756; -1.398130158183515 -1.170668635702466 … 0.7058889247661867 0.7627543053864487; -1.3129594653921024 -1.0500169823362742 … 0.9220516405824364 0.7905803990545225], Bool[1 1 … 0 0; 0 0 … 0 0; 0 0 … 1 1]))"
      ]
     },
     "execution_count": 139,
     "metadata": {},
     "output_type": "execute_result"
    }
   ],
   "source": [
    "model, test_data = train()\n"
   ]
  },
  {
   "cell_type": "code",
   "execution_count": 140,
   "id": "aad82a46-a0ed-4a71-8c95-82fb6ea02da1",
   "metadata": {},
   "outputs": [
    {
     "data": {
      "text/plain": [
       "3×3 Matrix{Int64}:\n",
       " 16   0   0\n",
       "  0  15   2\n",
       "  0   2  15"
      ]
     },
     "metadata": {},
     "output_type": "display_data"
    },
    {
     "name": "stdout",
     "output_type": "stream",
     "text": [
      "\n",
      "Accuracy: 0.92\n",
      "\n",
      "Confusion Matrix:\n",
      "\n"
     ]
    }
   ],
   "source": [
    "test(model, test_data)"
   ]
  },
  {
   "cell_type": "code",
   "execution_count": null,
   "id": "f99f617d-73f6-443d-80ee-fab643aaf305",
   "metadata": {},
   "outputs": [],
   "source": []
  },
  {
   "cell_type": "code",
   "execution_count": null,
   "id": "fb60afd4-e87a-4fd4-81a4-13b7ba761e25",
   "metadata": {},
   "outputs": [],
   "source": []
  },
  {
   "cell_type": "code",
   "execution_count": null,
   "id": "5661f3ed-68b0-4bc2-a26d-57257664c897",
   "metadata": {},
   "outputs": [],
   "source": []
  },
  {
   "cell_type": "code",
   "execution_count": null,
   "id": "9524a92e-ad5a-4331-913d-6c5ab8af3efd",
   "metadata": {},
   "outputs": [],
   "source": []
  },
  {
   "cell_type": "code",
   "execution_count": 6,
   "id": "a75a50bf-8de1-485f-ad23-f0e0c832928d",
   "metadata": {},
   "outputs": [],
   "source": [
    "using Flux"
   ]
  },
  {
   "cell_type": "markdown",
   "id": "f8f4f3fe-7122-428b-bb7d-9e2d914a09e6",
   "metadata": {},
   "source": [
    "the Automatic Differentiation can handle the code which includes loop and recursion, and the layers used in Flux"
   ]
  },
  {
   "cell_type": "code",
   "execution_count": 10,
   "id": "5b20c4df-53cf-4ea8-88ca-85f1ea0fa9fe",
   "metadata": {},
   "outputs": [],
   "source": [
    "using Flux: gradient"
   ]
  },
  {
   "cell_type": "markdown",
   "id": "c9479ad4-7cb2-4988-8c32-fb61c542debb",
   "metadata": {},
   "source": [
    "### arrays are sometimes referred to as a Tensor"
   ]
  },
  {
   "cell_type": "code",
   "execution_count": 13,
   "id": "208cd810-c6a0-4c71-9f88-aef32a92fc33",
   "metadata": {},
   "outputs": [
    {
     "data": {
      "text/plain": [
       "f1 (generic function with 1 method)"
      ]
     },
     "execution_count": 13,
     "metadata": {},
     "output_type": "execute_result"
    }
   ],
   "source": [
    "f1(x) = 3x^2 + 2x + 1"
   ]
  },
  {
   "cell_type": "code",
   "execution_count": 14,
   "id": "7b4a46f6-4fa4-48b9-a2de-80c3b3f13712",
   "metadata": {},
   "outputs": [
    {
     "data": {
      "text/plain": [
       "df1 (generic function with 1 method)"
      ]
     },
     "execution_count": 14,
     "metadata": {},
     "output_type": "execute_result"
    }
   ],
   "source": [
    "df1(x) = gradient(f, x)[1]"
   ]
  },
  {
   "cell_type": "code",
   "execution_count": 15,
   "id": "fd946a65-5e64-4e90-8084-ae957f3e0fca",
   "metadata": {},
   "outputs": [
    {
     "data": {
      "text/plain": [
       "321"
      ]
     },
     "execution_count": 15,
     "metadata": {},
     "output_type": "execute_result"
    }
   ],
   "source": [
    "f1(10)"
   ]
  },
  {
   "cell_type": "code",
   "execution_count": 16,
   "id": "10cfdec5-caf0-4107-a79e-9598112571e8",
   "metadata": {},
   "outputs": [
    {
     "data": {
      "text/plain": [
       "62.0"
      ]
     },
     "execution_count": 16,
     "metadata": {},
     "output_type": "execute_result"
    }
   ],
   "source": [
    "df1(10)"
   ]
  },
  {
   "cell_type": "code",
   "execution_count": 17,
   "id": "434480f4-11c0-41fb-a8ea-d318e496e35a",
   "metadata": {},
   "outputs": [
    {
     "data": {
      "text/plain": [
       "f2 (generic function with 1 method)"
      ]
     },
     "execution_count": 17,
     "metadata": {},
     "output_type": "execute_result"
    }
   ],
   "source": [
    "function f2(x,y)\n",
    "    res = 0\n",
    "    for ii in 1:y\n",
    "        res += ii^2\n",
    "    end\n",
    "    res *= x\n",
    "    return res\n",
    "end"
   ]
  },
  {
   "cell_type": "code",
   "execution_count": 21,
   "id": "c5382453-1452-48f1-91e8-794443d980b0",
   "metadata": {},
   "outputs": [
    {
     "data": {
      "text/plain": [
       "165"
      ]
     },
     "execution_count": 21,
     "metadata": {},
     "output_type": "execute_result"
    }
   ],
   "source": [
    "x1=3\n",
    "x2=5\n",
    "f2(x1,x2)"
   ]
  },
  {
   "cell_type": "code",
   "execution_count": 22,
   "id": "501acb42-8c78-490c-920b-0f0d830fa90b",
   "metadata": {},
   "outputs": [
    {
     "data": {
      "text/plain": [
       "(55.0, nothing)"
      ]
     },
     "execution_count": 22,
     "metadata": {},
     "output_type": "execute_result"
    }
   ],
   "source": [
    "gradient(f2, x1,x2)"
   ]
  },
  {
   "cell_type": "code",
   "execution_count": 23,
   "id": "f42fef45-1c06-4fa1-ae2b-4ba14bf6b7cc",
   "metadata": {},
   "outputs": [
    {
     "data": {
      "text/plain": [
       "loss1 (generic function with 1 method)"
      ]
     },
     "execution_count": 23,
     "metadata": {},
     "output_type": "execute_result"
    }
   ],
   "source": [
    "loss1(W,b,x) = sum(W*x .+ b)"
   ]
  },
  {
   "cell_type": "code",
   "execution_count": 24,
   "id": "f089a3c8-aa3c-42b5-beaf-9445dfad76ab",
   "metadata": {},
   "outputs": [
    {
     "data": {
      "text/plain": [
       "5-element Vector{Float64}:\n",
       " 0.9774059057710329\n",
       " 0.7094588188167574\n",
       " 0.622250523132138\n",
       " 0.2936659107998123\n",
       " 0.2484711691895647"
      ]
     },
     "execution_count": 24,
     "metadata": {},
     "output_type": "execute_result"
    }
   ],
   "source": [
    "W = randn(3, 5)\n",
    "b = zeros(3)\n",
    "x = rand(5)"
   ]
  },
  {
   "cell_type": "code",
   "execution_count": 25,
   "id": "4b38f609-db34-4036-8ab0-8427509d7a54",
   "metadata": {},
   "outputs": [
    {
     "data": {
      "text/plain": [
       "-1.3315582722853936"
      ]
     },
     "execution_count": 25,
     "metadata": {},
     "output_type": "execute_result"
    }
   ],
   "source": [
    "loss1(W,b,x)"
   ]
  },
  {
   "cell_type": "code",
   "execution_count": 27,
   "id": "9a3253fc-39d0-43c7-846e-54f761ec182f",
   "metadata": {},
   "outputs": [
    {
     "data": {
      "text/plain": [
       "([0.9774059057710329 0.7094588188167574 … 0.2936659107998123 0.2484711691895647; 0.9774059057710329 0.7094588188167574 … 0.2936659107998123 0.2484711691895647; 0.9774059057710329 0.7094588188167574 … 0.2936659107998123 0.2484711691895647], 3-element Fill{Float64}: entries equal to 1.0, [0.8684742749474937, -1.5717385451146657, -1.2322308080089814, -0.8250019927842218, -0.22656616291267573])"
      ]
     },
     "execution_count": 27,
     "metadata": {},
     "output_type": "execute_result"
    }
   ],
   "source": [
    "g = gradient(loss1, W, b, x)\n",
    "g"
   ]
  },
  {
   "cell_type": "code",
   "execution_count": 29,
   "id": "86d7139c-b683-41af-8598-ab5c81f46f3d",
   "metadata": {},
   "outputs": [
    {
     "data": {
      "text/plain": [
       "3"
      ]
     },
     "execution_count": 29,
     "metadata": {},
     "output_type": "execute_result"
    }
   ],
   "source": [
    "length(g)"
   ]
  },
  {
   "cell_type": "code",
   "execution_count": 30,
   "id": "9ec1c273-b7c3-4e84-a8ec-528eb0c4b219",
   "metadata": {},
   "outputs": [
    {
     "data": {
      "text/plain": [
       "Tuple{Matrix{Float64}, FillArrays.Fill{Float64, 1, Tuple{Base.OneTo{Int64}}}, Vector{Float64}}"
      ]
     },
     "execution_count": 30,
     "metadata": {},
     "output_type": "execute_result"
    }
   ],
   "source": [
    "typeof(g)"
   ]
  },
  {
   "cell_type": "code",
   "execution_count": 33,
   "id": "64880009-ce58-43e0-b497-ff85dc8847bf",
   "metadata": {},
   "outputs": [
    {
     "data": {
      "text/plain": [
       "(1, 2, 3)"
      ]
     },
     "execution_count": 33,
     "metadata": {},
     "output_type": "execute_result"
    }
   ],
   "source": [
    "fieldnames(typeof(g))"
   ]
  },
  {
   "cell_type": "code",
   "execution_count": 34,
   "id": "ab5a729a-dc7f-4102-9193-8636ea015856",
   "metadata": {},
   "outputs": [
    {
     "data": {
      "text/plain": [
       "3×5 Matrix{Float64}:\n",
       " 0.977406  0.709459  0.622251  0.293666  0.248471\n",
       " 0.977406  0.709459  0.622251  0.293666  0.248471\n",
       " 0.977406  0.709459  0.622251  0.293666  0.248471"
      ]
     },
     "execution_count": 34,
     "metadata": {},
     "output_type": "execute_result"
    }
   ],
   "source": [
    "g[1] #gradients for weights"
   ]
  },
  {
   "cell_type": "code",
   "execution_count": 35,
   "id": "e5e73ed5-a2a0-4722-9149-135d6af43afe",
   "metadata": {},
   "outputs": [
    {
     "data": {
      "text/plain": [
       "3-element Fill{Float64}: entries equal to 1.0"
      ]
     },
     "execution_count": 35,
     "metadata": {},
     "output_type": "execute_result"
    }
   ],
   "source": [
    "g[2] #gradients for biases"
   ]
  },
  {
   "cell_type": "code",
   "execution_count": 37,
   "id": "62097580-224d-4233-b8f9-b2f3ef84b474",
   "metadata": {},
   "outputs": [
    {
     "data": {
      "text/plain": [
       "5-element Vector{Float64}:\n",
       "  0.8684742749474937\n",
       " -1.5717385451146657\n",
       " -1.2322308080089814\n",
       " -0.8250019927842218\n",
       " -0.22656616291267573"
      ]
     },
     "execution_count": 37,
     "metadata": {},
     "output_type": "execute_result"
    }
   ],
   "source": [
    "g[3] #gradients for inputs point"
   ]
  },
  {
   "cell_type": "code",
   "execution_count": null,
   "id": "d97b15fc-6132-4692-aa0d-cdecb662eba9",
   "metadata": {},
   "outputs": [],
   "source": []
  },
  {
   "cell_type": "code",
   "execution_count": 39,
   "id": "90f93341-98f0-461a-9c37-2f9943fae2a9",
   "metadata": {},
   "outputs": [],
   "source": [
    "using Flux: params #allows us to mark which parameters we want the gradient/derivatives from"
   ]
  },
  {
   "cell_type": "code",
   "execution_count": 41,
   "id": "92499961-9601-4a53-95b6-9f19779cef37",
   "metadata": {},
   "outputs": [
    {
     "data": {
      "text/plain": [
       "loss2 (generic function with 1 method)"
      ]
     },
     "execution_count": 41,
     "metadata": {},
     "output_type": "execute_result"
    }
   ],
   "source": [
    "loss2(x) = sum(W*x .+ b)"
   ]
  },
  {
   "cell_type": "code",
   "execution_count": 42,
   "id": "748f8de1-d7ab-49f2-8ccd-d9068fc65242",
   "metadata": {},
   "outputs": [
    {
     "data": {
      "text/plain": [
       "Grads(...)"
      ]
     },
     "execution_count": 42,
     "metadata": {},
     "output_type": "execute_result"
    }
   ],
   "source": [
    "grads = gradient(()-> loss2(x), params([W, b]))"
   ]
  },
  {
   "cell_type": "code",
   "execution_count": 43,
   "id": "50f0d33d-9b92-4fdf-a364-018bf81423e5",
   "metadata": {},
   "outputs": [
    {
     "data": {
      "text/plain": [
       "3×5 Matrix{Float64}:\n",
       " 0.977406  0.709459  0.622251  0.293666  0.248471\n",
       " 0.977406  0.709459  0.622251  0.293666  0.248471\n",
       " 0.977406  0.709459  0.622251  0.293666  0.248471"
      ]
     },
     "execution_count": 43,
     "metadata": {},
     "output_type": "execute_result"
    }
   ],
   "source": [
    "grads[W]"
   ]
  },
  {
   "cell_type": "code",
   "execution_count": 44,
   "id": "eed1f274-27b1-4338-899f-55cad5a77937",
   "metadata": {},
   "outputs": [
    {
     "data": {
      "text/plain": [
       "3-element Fill{Float64}: entries equal to 1.0"
      ]
     },
     "execution_count": 44,
     "metadata": {},
     "output_type": "execute_result"
    }
   ],
   "source": [
    "grads[b]"
   ]
  },
  {
   "cell_type": "code",
   "execution_count": null,
   "id": "64dfd520-fb7b-4e11-bd99-fbff7af306f5",
   "metadata": {},
   "outputs": [],
   "source": []
  },
  {
   "cell_type": "markdown",
   "id": "1df9c443-2a0f-4ed0-b209-f712108651c0",
   "metadata": {},
   "source": [
    "## the parameters can be encapsulated witin a **layer**"
   ]
  },
  {
   "cell_type": "code",
   "execution_count": 45,
   "id": "a4dddc5a-e45e-440c-add9-f9c94701fc17",
   "metadata": {},
   "outputs": [
    {
     "data": {
      "text/plain": [
       "Dense(10, 5)        \u001b[90m# 55 parameters\u001b[39m"
      ]
     },
     "execution_count": 45,
     "metadata": {},
     "output_type": "execute_result"
    }
   ],
   "source": [
    "m1 = Dense(10, 5)"
   ]
  },
  {
   "cell_type": "code",
   "execution_count": 48,
   "id": "2ee8e975-1c42-456d-ae0c-8c1725c8bfcd",
   "metadata": {},
   "outputs": [
    {
     "data": {
      "text/plain": [
       "Params([Float32[-0.046764992 -0.033929065 … -0.5716071 0.00023553264; -0.1527678 0.13047679 … -0.02468373 -0.05219295; … ; 0.5920982 -0.1488393 … 0.2842873 -0.31791162; 0.43086055 -0.42500162 … 0.10442073 -0.23774353], Float32[0.0, 0.0, 0.0, 0.0, 0.0]])"
      ]
     },
     "execution_count": 48,
     "metadata": {},
     "output_type": "execute_result"
    }
   ],
   "source": [
    "params(m1)"
   ]
  },
  {
   "cell_type": "code",
   "execution_count": 46,
   "id": "9ed1cf75-e824-49d8-a26c-2c201c3bc5e8",
   "metadata": {},
   "outputs": [
    {
     "data": {
      "text/plain": [
       "10-element Vector{Float32}:\n",
       " 0.18792295\n",
       " 0.72846055\n",
       " 0.83474386\n",
       " 0.030739307\n",
       " 0.83614194\n",
       " 0.71387243\n",
       " 0.41941798\n",
       " 0.9359559\n",
       " 0.5954498\n",
       " 0.5224068"
      ]
     },
     "execution_count": 46,
     "metadata": {},
     "output_type": "execute_result"
    }
   ],
   "source": [
    "x = rand(Float32, 10)"
   ]
  },
  {
   "cell_type": "code",
   "execution_count": 49,
   "id": "5552dd67-1d53-4346-ac5c-d09bc3bc6b07",
   "metadata": {},
   "outputs": [
    {
     "data": {
      "text/plain": [
       "Chain(\n",
       "  Dense(10, 5, relu),                   \u001b[90m# 55 parameters\u001b[39m\n",
       "  Dense(5, 2),                          \u001b[90m# 12 parameters\u001b[39m\n",
       "  NNlib.softmax,\n",
       ")\u001b[90m                   # Total: 4 arrays, \u001b[39m67 parameters, 524 bytes."
      ]
     },
     "execution_count": 49,
     "metadata": {},
     "output_type": "execute_result"
    }
   ],
   "source": [
    "m2 = Chain(Dense(10, 5, relu), Dense(5, 2), softmax) #feed one layer into the next"
   ]
  },
  {
   "cell_type": "code",
   "execution_count": 51,
   "id": "8fabb339-3c40-468d-ae0b-ecb84bf7740b",
   "metadata": {},
   "outputs": [
    {
     "data": {
      "text/plain": [
       "loss3 (generic function with 1 method)"
      ]
     },
     "execution_count": 51,
     "metadata": {},
     "output_type": "execute_result"
    }
   ],
   "source": [
    "loss3(x) = sum(Flux.crossentropy(m2(x), [0.5, 0.5]))"
   ]
  },
  {
   "cell_type": "code",
   "execution_count": 52,
   "id": "14ee1a1e-09df-4ca3-9196-d68fdb5534d8",
   "metadata": {},
   "outputs": [
    {
     "data": {
      "text/plain": [
       "Grads(...)"
      ]
     },
     "execution_count": 52,
     "metadata": {},
     "output_type": "execute_result"
    }
   ],
   "source": [
    "grads = gradient(params(m2)) do\n",
    "    loss3(x)\n",
    "end"
   ]
  },
  {
   "cell_type": "code",
   "execution_count": 57,
   "id": "d6aad286-ec6f-4e7c-bb39-8ef231cdbe23",
   "metadata": {},
   "outputs": [
    {
     "name": "stdout",
     "output_type": "stream",
     "text": [
      "Float32[0.0 0.0 0.0 0.0 0.0 0.0 0.0 0.0 0.0 0.0; -0.0 -0.0 -0.0 -0.0 -0.0 -0.0 -0.0 -0.0 -0.0 -0.0; 0.012470344 0.048339777 0.05539261 0.002039824 0.055485386 0.047371726 0.02783208 0.06210892 0.039513342 0.034666296; 0.043801475 0.1697911 0.19456384 0.007164782 0.19488971 0.16639088 0.097758815 0.21815455 0.13878869 0.12176367; -0.0012719779 -0.0049306685 -0.005650059 -0.00020806251 -0.005659522 -0.004831927 -0.0028388784 -0.006335124 -0.0040303697 -0.00353597]\n",
      "Float32[0.0, -0.0, 0.06635881, 0.23308209, -0.006768614]\n",
      "Float32[-0.0 -0.0 -0.19536598 -0.105733246 -0.015014239; 0.0 0.0 0.19536601 0.10573326 0.0150142405]\n",
      "Float32[-0.20658481, 0.20658484]\n"
     ]
    }
   ],
   "source": [
    "for p in params(m2)\n",
    "    println(grads[p])\n",
    "end"
   ]
  },
  {
   "cell_type": "code",
   "execution_count": 58,
   "id": "5306cb17-d2b1-4332-a65f-7409c579a85a",
   "metadata": {},
   "outputs": [],
   "source": [
    "using Flux.Optimise: update!, Descent"
   ]
  },
  {
   "cell_type": "code",
   "execution_count": 59,
   "id": "593b8e80-a404-4f50-b274-751a21d9e76c",
   "metadata": {},
   "outputs": [],
   "source": [
    "eta = 0.1\n",
    "for p in params(m2)\n",
    "  update!(p, -eta * grads[p])\n",
    "end"
   ]
  },
  {
   "cell_type": "code",
   "execution_count": 61,
   "id": "bc0b9bcb-6216-4e9d-bbb4-7f1d718051c4",
   "metadata": {},
   "outputs": [
    {
     "data": {
      "text/plain": [
       "Descent(0.01)"
      ]
     },
     "execution_count": 61,
     "metadata": {},
     "output_type": "execute_result"
    }
   ],
   "source": [
    "opt = Descent(0.01) #gradient descent function from the Flux library"
   ]
  },
  {
   "cell_type": "code",
   "execution_count": 63,
   "id": "913a7a3f-d0ca-48f3-b961-3982e113347e",
   "metadata": {},
   "outputs": [
    {
     "data": {
      "text/plain": [
       "(:eta,)"
      ]
     },
     "execution_count": 63,
     "metadata": {},
     "output_type": "execute_result"
    }
   ],
   "source": [
    "fieldnames(typeof(opt))"
   ]
  },
  {
   "cell_type": "code",
   "execution_count": 66,
   "id": "4423e3b1-d0fc-4cd7-8a4a-4ecb29e0c175",
   "metadata": {},
   "outputs": [
    {
     "data": {
      "text/plain": [
       "2×100 Matrix{Float64}:\n",
       " 0.5  0.5  0.5  0.5  0.5  0.5  0.5  0.5  …  0.5  0.5  0.5  0.5  0.5  0.5  0.5\n",
       " 0.5  0.5  0.5  0.5  0.5  0.5  0.5  0.5     0.5  0.5  0.5  0.5  0.5  0.5  0.5"
      ]
     },
     "execution_count": 66,
     "metadata": {},
     "output_type": "execute_result"
    }
   ],
   "source": [
    "data = rand(10, 100)\n",
    "labels = fill(0.5, 2, 100)"
   ]
  },
  {
   "cell_type": "code",
   "execution_count": 68,
   "id": "1503b847-1fba-459f-a922-09a5ace2cdbe",
   "metadata": {},
   "outputs": [
    {
     "data": {
      "text/plain": [
       "loss4 (generic function with 1 method)"
      ]
     },
     "execution_count": 68,
     "metadata": {},
     "output_type": "execute_result"
    }
   ],
   "source": [
    "loss4(x, y) = sum(Flux.crossentropy(m2(x), y))"
   ]
  },
  {
   "cell_type": "code",
   "execution_count": 70,
   "id": "94e3646f-8c3c-48d7-85a3-9aa1867ffab8",
   "metadata": {},
   "outputs": [],
   "source": [
    "Flux.train!(loss4, params(m2), [(data,labels)], opt)"
   ]
  },
  {
   "cell_type": "code",
   "execution_count": null,
   "id": "0b031936-be46-4c19-80d0-16207e2a98e4",
   "metadata": {},
   "outputs": [],
   "source": []
  },
  {
   "cell_type": "code",
   "execution_count": null,
   "id": "874fed8c-f3ac-43ba-9a66-e2bf7a5cf418",
   "metadata": {},
   "outputs": [],
   "source": []
  },
  {
   "cell_type": "code",
   "execution_count": null,
   "id": "db3d1303-cd98-4b18-8d37-9bc13a2722bd",
   "metadata": {},
   "outputs": [],
   "source": []
  },
  {
   "cell_type": "code",
   "execution_count": 97,
   "id": "5bc8c7f1-abd1-40be-aa16-a2908ad21e5d",
   "metadata": {},
   "outputs": [],
   "source": [
    "using Random\n",
    "using Statistics:mean"
   ]
  },
  {
   "cell_type": "code",
   "execution_count": 89,
   "id": "322c7e57-9424-4b37-92ab-c73ea9f62657",
   "metadata": {},
   "outputs": [
    {
     "name": "stderr",
     "output_type": "stream",
     "text": [
      "┌ Warning: Flux's datasets are deprecated, please use the package MLDatasets.jl\n",
      "└ @ Flux.Data /home/tasty/.julia/packages/Flux/qAdFM/src/data/Data.jl:16\n",
      "┌ Warning: Flux's datasets are deprecated, please use the package MLDatasets.jl\n",
      "└ @ Flux.Data /home/tasty/.julia/packages/Flux/qAdFM/src/data/Data.jl:16\n"
     ]
    }
   ],
   "source": [
    "using Flux\n",
    "using Flux:onehotbatch\n",
    "using Flux:crossentropy,onecold,throttle\n",
    "images = Flux.Data.MNIST.images();\n",
    "labels = Flux.Data.MNIST.labels();"
   ]
  },
  {
   "cell_type": "code",
   "execution_count": 77,
   "id": "682b76e7-4b76-4d78-a7aa-bc0f5086ccf0",
   "metadata": {},
   "outputs": [
    {
     "data": {
      "image/svg+xml": [
       "<?xml version=\"1.0\" encoding=\"UTF-8\"?>\n",
       "<!DOCTYPE svg PUBLIC \"-//W3C//DTD SVG 1.1//EN\"\n",
       " \"http://www.w3.org/Graphics/SVG/1.1/DTD/svg11.dtd\">\n",
       "<svg xmlns=\"http://www.w3.org/2000/svg\" version=\"1.1\"\n",
       "     width=\"150mm\" height=\"150mm\"\n",
       "     viewBox=\"0 0 28 28\" preserveAspectRatio=\"none\"\n",
       "     shape-rendering=\"crispEdges\" stroke=\"none\">\n",
       "<rect width=\".81\" height=\".81\" x=\"0\" y=\"0\" fill=\"#000000\" />\n",
       "<rect width=\".81\" height=\".81\" x=\"1\" y=\"0\" fill=\"#000000\" />\n",
       "<rect width=\".81\" height=\".81\" x=\"2\" y=\"0\" fill=\"#000000\" />\n",
       "<rect width=\".81\" height=\".81\" x=\"3\" y=\"0\" fill=\"#000000\" />\n",
       "<rect width=\".81\" height=\".81\" x=\"4\" y=\"0\" fill=\"#000000\" />\n",
       "<rect width=\".81\" height=\".81\" x=\"5\" y=\"0\" fill=\"#000000\" />\n",
       "<rect width=\".81\" height=\".81\" x=\"6\" y=\"0\" fill=\"#000000\" />\n",
       "<rect width=\".81\" height=\".81\" x=\"7\" y=\"0\" fill=\"#000000\" />\n",
       "<rect width=\".81\" height=\".81\" x=\"8\" y=\"0\" fill=\"#000000\" />\n",
       "<rect width=\".81\" height=\".81\" x=\"9\" y=\"0\" fill=\"#000000\" />\n",
       "<rect width=\".81\" height=\".81\" x=\"10\" y=\"0\" fill=\"#000000\" />\n",
       "<rect width=\".81\" height=\".81\" x=\"11\" y=\"0\" fill=\"#000000\" />\n",
       "<rect width=\".81\" height=\".81\" x=\"12\" y=\"0\" fill=\"#000000\" />\n",
       "<rect width=\".81\" height=\".81\" x=\"13\" y=\"0\" fill=\"#000000\" />\n",
       "<rect width=\".81\" height=\".81\" x=\"14\" y=\"0\" fill=\"#000000\" />\n",
       "<rect width=\".81\" height=\".81\" x=\"15\" y=\"0\" fill=\"#000000\" />\n",
       "<rect width=\".81\" height=\".81\" x=\"16\" y=\"0\" fill=\"#000000\" />\n",
       "<rect width=\".81\" height=\".81\" x=\"17\" y=\"0\" fill=\"#000000\" />\n",
       "<rect width=\".81\" height=\".81\" x=\"18\" y=\"0\" fill=\"#000000\" />\n",
       "<rect width=\".81\" height=\".81\" x=\"19\" y=\"0\" fill=\"#000000\" />\n",
       "<rect width=\".81\" height=\".81\" x=\"20\" y=\"0\" fill=\"#000000\" />\n",
       "<rect width=\".81\" height=\".81\" x=\"21\" y=\"0\" fill=\"#000000\" />\n",
       "<rect width=\".81\" height=\".81\" x=\"22\" y=\"0\" fill=\"#000000\" />\n",
       "<rect width=\".81\" height=\".81\" x=\"23\" y=\"0\" fill=\"#000000\" />\n",
       "<rect width=\".81\" height=\".81\" x=\"24\" y=\"0\" fill=\"#000000\" />\n",
       "<rect width=\".81\" height=\".81\" x=\"25\" y=\"0\" fill=\"#000000\" />\n",
       "<rect width=\".81\" height=\".81\" x=\"26\" y=\"0\" fill=\"#000000\" />\n",
       "<rect width=\".81\" height=\".81\" x=\"27\" y=\"0\" fill=\"#000000\" />\n",
       "<rect width=\".81\" height=\".81\" x=\"0\" y=\"1\" fill=\"#000000\" />\n",
       "<rect width=\".81\" height=\".81\" x=\"1\" y=\"1\" fill=\"#000000\" />\n",
       "<rect width=\".81\" height=\".81\" x=\"2\" y=\"1\" fill=\"#000000\" />\n",
       "<rect width=\".81\" height=\".81\" x=\"3\" y=\"1\" fill=\"#000000\" />\n",
       "<rect width=\".81\" height=\".81\" x=\"4\" y=\"1\" fill=\"#000000\" />\n",
       "<rect width=\".81\" height=\".81\" x=\"5\" y=\"1\" fill=\"#000000\" />\n",
       "<rect width=\".81\" height=\".81\" x=\"6\" y=\"1\" fill=\"#000000\" />\n",
       "<rect width=\".81\" height=\".81\" x=\"7\" y=\"1\" fill=\"#000000\" />\n",
       "<rect width=\".81\" height=\".81\" x=\"8\" y=\"1\" fill=\"#000000\" />\n",
       "<rect width=\".81\" height=\".81\" x=\"9\" y=\"1\" fill=\"#000000\" />\n",
       "<rect width=\".81\" height=\".81\" x=\"10\" y=\"1\" fill=\"#000000\" />\n",
       "<rect width=\".81\" height=\".81\" x=\"11\" y=\"1\" fill=\"#000000\" />\n",
       "<rect width=\".81\" height=\".81\" x=\"12\" y=\"1\" fill=\"#000000\" />\n",
       "<rect width=\".81\" height=\".81\" x=\"13\" y=\"1\" fill=\"#000000\" />\n",
       "<rect width=\".81\" height=\".81\" x=\"14\" y=\"1\" fill=\"#000000\" />\n",
       "<rect width=\".81\" height=\".81\" x=\"15\" y=\"1\" fill=\"#000000\" />\n",
       "<rect width=\".81\" height=\".81\" x=\"16\" y=\"1\" fill=\"#000000\" />\n",
       "<rect width=\".81\" height=\".81\" x=\"17\" y=\"1\" fill=\"#000000\" />\n",
       "<rect width=\".81\" height=\".81\" x=\"18\" y=\"1\" fill=\"#000000\" />\n",
       "<rect width=\".81\" height=\".81\" x=\"19\" y=\"1\" fill=\"#000000\" />\n",
       "<rect width=\".81\" height=\".81\" x=\"20\" y=\"1\" fill=\"#000000\" />\n",
       "<rect width=\".81\" height=\".81\" x=\"21\" y=\"1\" fill=\"#000000\" />\n",
       "<rect width=\".81\" height=\".81\" x=\"22\" y=\"1\" fill=\"#000000\" />\n",
       "<rect width=\".81\" height=\".81\" x=\"23\" y=\"1\" fill=\"#000000\" />\n",
       "<rect width=\".81\" height=\".81\" x=\"24\" y=\"1\" fill=\"#000000\" />\n",
       "<rect width=\".81\" height=\".81\" x=\"25\" y=\"1\" fill=\"#000000\" />\n",
       "<rect width=\".81\" height=\".81\" x=\"26\" y=\"1\" fill=\"#000000\" />\n",
       "<rect width=\".81\" height=\".81\" x=\"27\" y=\"1\" fill=\"#000000\" />\n",
       "<rect width=\".81\" height=\".81\" x=\"0\" y=\"2\" fill=\"#000000\" />\n",
       "<rect width=\".81\" height=\".81\" x=\"1\" y=\"2\" fill=\"#000000\" />\n",
       "<rect width=\".81\" height=\".81\" x=\"2\" y=\"2\" fill=\"#000000\" />\n",
       "<rect width=\".81\" height=\".81\" x=\"3\" y=\"2\" fill=\"#000000\" />\n",
       "<rect width=\".81\" height=\".81\" x=\"4\" y=\"2\" fill=\"#000000\" />\n",
       "<rect width=\".81\" height=\".81\" x=\"5\" y=\"2\" fill=\"#000000\" />\n",
       "<rect width=\".81\" height=\".81\" x=\"6\" y=\"2\" fill=\"#000000\" />\n",
       "<rect width=\".81\" height=\".81\" x=\"7\" y=\"2\" fill=\"#000000\" />\n",
       "<rect width=\".81\" height=\".81\" x=\"8\" y=\"2\" fill=\"#000000\" />\n",
       "<rect width=\".81\" height=\".81\" x=\"9\" y=\"2\" fill=\"#000000\" />\n",
       "<rect width=\".81\" height=\".81\" x=\"10\" y=\"2\" fill=\"#000000\" />\n",
       "<rect width=\".81\" height=\".81\" x=\"11\" y=\"2\" fill=\"#000000\" />\n",
       "<rect width=\".81\" height=\".81\" x=\"12\" y=\"2\" fill=\"#000000\" />\n",
       "<rect width=\".81\" height=\".81\" x=\"13\" y=\"2\" fill=\"#000000\" />\n",
       "<rect width=\".81\" height=\".81\" x=\"14\" y=\"2\" fill=\"#000000\" />\n",
       "<rect width=\".81\" height=\".81\" x=\"15\" y=\"2\" fill=\"#000000\" />\n",
       "<rect width=\".81\" height=\".81\" x=\"16\" y=\"2\" fill=\"#000000\" />\n",
       "<rect width=\".81\" height=\".81\" x=\"17\" y=\"2\" fill=\"#000000\" />\n",
       "<rect width=\".81\" height=\".81\" x=\"18\" y=\"2\" fill=\"#000000\" />\n",
       "<rect width=\".81\" height=\".81\" x=\"19\" y=\"2\" fill=\"#000000\" />\n",
       "<rect width=\".81\" height=\".81\" x=\"20\" y=\"2\" fill=\"#000000\" />\n",
       "<rect width=\".81\" height=\".81\" x=\"21\" y=\"2\" fill=\"#000000\" />\n",
       "<rect width=\".81\" height=\".81\" x=\"22\" y=\"2\" fill=\"#000000\" />\n",
       "<rect width=\".81\" height=\".81\" x=\"23\" y=\"2\" fill=\"#000000\" />\n",
       "<rect width=\".81\" height=\".81\" x=\"24\" y=\"2\" fill=\"#000000\" />\n",
       "<rect width=\".81\" height=\".81\" x=\"25\" y=\"2\" fill=\"#000000\" />\n",
       "<rect width=\".81\" height=\".81\" x=\"26\" y=\"2\" fill=\"#000000\" />\n",
       "<rect width=\".81\" height=\".81\" x=\"27\" y=\"2\" fill=\"#000000\" />\n",
       "<rect width=\".81\" height=\".81\" x=\"0\" y=\"3\" fill=\"#000000\" />\n",
       "<rect width=\".81\" height=\".81\" x=\"1\" y=\"3\" fill=\"#000000\" />\n",
       "<rect width=\".81\" height=\".81\" x=\"2\" y=\"3\" fill=\"#000000\" />\n",
       "<rect width=\".81\" height=\".81\" x=\"3\" y=\"3\" fill=\"#000000\" />\n",
       "<rect width=\".81\" height=\".81\" x=\"4\" y=\"3\" fill=\"#000000\" />\n",
       "<rect width=\".81\" height=\".81\" x=\"5\" y=\"3\" fill=\"#000000\" />\n",
       "<rect width=\".81\" height=\".81\" x=\"6\" y=\"3\" fill=\"#000000\" />\n",
       "<rect width=\".81\" height=\".81\" x=\"7\" y=\"3\" fill=\"#000000\" />\n",
       "<rect width=\".81\" height=\".81\" x=\"8\" y=\"3\" fill=\"#000000\" />\n",
       "<rect width=\".81\" height=\".81\" x=\"9\" y=\"3\" fill=\"#000000\" />\n",
       "<rect width=\".81\" height=\".81\" x=\"10\" y=\"3\" fill=\"#000000\" />\n",
       "<rect width=\".81\" height=\".81\" x=\"11\" y=\"3\" fill=\"#000000\" />\n",
       "<rect width=\".81\" height=\".81\" x=\"12\" y=\"3\" fill=\"#000000\" />\n",
       "<rect width=\".81\" height=\".81\" x=\"13\" y=\"3\" fill=\"#000000\" />\n",
       "<rect width=\".81\" height=\".81\" x=\"14\" y=\"3\" fill=\"#474747\" />\n",
       "<rect width=\".81\" height=\".81\" x=\"15\" y=\"3\" fill=\"#BFBFBF\" />\n",
       "<rect width=\".81\" height=\".81\" x=\"16\" y=\"3\" fill=\"#7A7A7A\" />\n",
       "<rect width=\".81\" height=\".81\" x=\"17\" y=\"3\" fill=\"#464646\" />\n",
       "<rect width=\".81\" height=\".81\" x=\"18\" y=\"3\" fill=\"#000000\" />\n",
       "<rect width=\".81\" height=\".81\" x=\"19\" y=\"3\" fill=\"#000000\" />\n",
       "<rect width=\".81\" height=\".81\" x=\"20\" y=\"3\" fill=\"#000000\" />\n",
       "<rect width=\".81\" height=\".81\" x=\"21\" y=\"3\" fill=\"#000000\" />\n",
       "<rect width=\".81\" height=\".81\" x=\"22\" y=\"3\" fill=\"#000000\" />\n",
       "<rect width=\".81\" height=\".81\" x=\"23\" y=\"3\" fill=\"#000000\" />\n",
       "<rect width=\".81\" height=\".81\" x=\"24\" y=\"3\" fill=\"#000000\" />\n",
       "<rect width=\".81\" height=\".81\" x=\"25\" y=\"3\" fill=\"#000000\" />\n",
       "<rect width=\".81\" height=\".81\" x=\"26\" y=\"3\" fill=\"#000000\" />\n",
       "<rect width=\".81\" height=\".81\" x=\"27\" y=\"3\" fill=\"#000000\" />\n",
       "<rect width=\".81\" height=\".81\" x=\"0\" y=\"4\" fill=\"#000000\" />\n",
       "<rect width=\".81\" height=\".81\" x=\"1\" y=\"4\" fill=\"#000000\" />\n",
       "<rect width=\".81\" height=\".81\" x=\"2\" y=\"4\" fill=\"#000000\" />\n",
       "<rect width=\".81\" height=\".81\" x=\"3\" y=\"4\" fill=\"#000000\" />\n",
       "<rect width=\".81\" height=\".81\" x=\"4\" y=\"4\" fill=\"#000000\" />\n",
       "<rect width=\".81\" height=\".81\" x=\"5\" y=\"4\" fill=\"#000000\" />\n",
       "<rect width=\".81\" height=\".81\" x=\"6\" y=\"4\" fill=\"#000000\" />\n",
       "<rect width=\".81\" height=\".81\" x=\"7\" y=\"4\" fill=\"#000000\" />\n",
       "<rect width=\".81\" height=\".81\" x=\"8\" y=\"4\" fill=\"#000000\" />\n",
       "<rect width=\".81\" height=\".81\" x=\"9\" y=\"4\" fill=\"#000000\" />\n",
       "<rect width=\".81\" height=\".81\" x=\"10\" y=\"4\" fill=\"#000000\" />\n",
       "<rect width=\".81\" height=\".81\" x=\"11\" y=\"4\" fill=\"#000000\" />\n",
       "<rect width=\".81\" height=\".81\" x=\"12\" y=\"4\" fill=\"#000000\" />\n",
       "<rect width=\".81\" height=\".81\" x=\"13\" y=\"4\" fill=\"#000000\" />\n",
       "<rect width=\".81\" height=\".81\" x=\"14\" y=\"4\" fill=\"#939393\" />\n",
       "<rect width=\".81\" height=\".81\" x=\"15\" y=\"4\" fill=\"#FDFDFD\" />\n",
       "<rect width=\".81\" height=\".81\" x=\"16\" y=\"4\" fill=\"#FEFEFE\" />\n",
       "<rect width=\".81\" height=\".81\" x=\"17\" y=\"4\" fill=\"#BFBFBF\" />\n",
       "<rect width=\".81\" height=\".81\" x=\"18\" y=\"4\" fill=\"#0B0B0B\" />\n",
       "<rect width=\".81\" height=\".81\" x=\"19\" y=\"4\" fill=\"#000000\" />\n",
       "<rect width=\".81\" height=\".81\" x=\"20\" y=\"4\" fill=\"#000000\" />\n",
       "<rect width=\".81\" height=\".81\" x=\"21\" y=\"4\" fill=\"#000000\" />\n",
       "<rect width=\".81\" height=\".81\" x=\"22\" y=\"4\" fill=\"#000000\" />\n",
       "<rect width=\".81\" height=\".81\" x=\"23\" y=\"4\" fill=\"#000000\" />\n",
       "<rect width=\".81\" height=\".81\" x=\"24\" y=\"4\" fill=\"#000000\" />\n",
       "<rect width=\".81\" height=\".81\" x=\"25\" y=\"4\" fill=\"#000000\" />\n",
       "<rect width=\".81\" height=\".81\" x=\"26\" y=\"4\" fill=\"#000000\" />\n",
       "<rect width=\".81\" height=\".81\" x=\"27\" y=\"4\" fill=\"#000000\" />\n",
       "<rect width=\".81\" height=\".81\" x=\"0\" y=\"5\" fill=\"#000000\" />\n",
       "<rect width=\".81\" height=\".81\" x=\"1\" y=\"5\" fill=\"#000000\" />\n",
       "<rect width=\".81\" height=\".81\" x=\"2\" y=\"5\" fill=\"#000000\" />\n",
       "<rect width=\".81\" height=\".81\" x=\"3\" y=\"5\" fill=\"#000000\" />\n",
       "<rect width=\".81\" height=\".81\" x=\"4\" y=\"5\" fill=\"#000000\" />\n",
       "<rect width=\".81\" height=\".81\" x=\"5\" y=\"5\" fill=\"#000000\" />\n",
       "<rect width=\".81\" height=\".81\" x=\"6\" y=\"5\" fill=\"#000000\" />\n",
       "<rect width=\".81\" height=\".81\" x=\"7\" y=\"5\" fill=\"#000000\" />\n",
       "<rect width=\".81\" height=\".81\" x=\"8\" y=\"5\" fill=\"#000000\" />\n",
       "<rect width=\".81\" height=\".81\" x=\"9\" y=\"5\" fill=\"#000000\" />\n",
       "<rect width=\".81\" height=\".81\" x=\"10\" y=\"5\" fill=\"#000000\" />\n",
       "<rect width=\".81\" height=\".81\" x=\"11\" y=\"5\" fill=\"#000000\" />\n",
       "<rect width=\".81\" height=\".81\" x=\"12\" y=\"5\" fill=\"#000000\" />\n",
       "<rect width=\".81\" height=\".81\" x=\"13\" y=\"5\" fill=\"#4A4A4A\" />\n",
       "<rect width=\".81\" height=\".81\" x=\"14\" y=\"5\" fill=\"#F2F2F2\" />\n",
       "<rect width=\".81\" height=\".81\" x=\"15\" y=\"5\" fill=\"#FDFDFD\" />\n",
       "<rect width=\".81\" height=\".81\" x=\"16\" y=\"5\" fill=\"#FEFEFE\" />\n",
       "<rect width=\".81\" height=\".81\" x=\"17\" y=\"5\" fill=\"#FDFDFD\" />\n",
       "<rect width=\".81\" height=\".81\" x=\"18\" y=\"5\" fill=\"#1A1A1A\" />\n",
       "<rect width=\".81\" height=\".81\" x=\"19\" y=\"5\" fill=\"#000000\" />\n",
       "<rect width=\".81\" height=\".81\" x=\"20\" y=\"5\" fill=\"#000000\" />\n",
       "<rect width=\".81\" height=\".81\" x=\"21\" y=\"5\" fill=\"#000000\" />\n",
       "<rect width=\".81\" height=\".81\" x=\"22\" y=\"5\" fill=\"#000000\" />\n",
       "<rect width=\".81\" height=\".81\" x=\"23\" y=\"5\" fill=\"#000000\" />\n",
       "<rect width=\".81\" height=\".81\" x=\"24\" y=\"5\" fill=\"#000000\" />\n",
       "<rect width=\".81\" height=\".81\" x=\"25\" y=\"5\" fill=\"#000000\" />\n",
       "<rect width=\".81\" height=\".81\" x=\"26\" y=\"5\" fill=\"#000000\" />\n",
       "<rect width=\".81\" height=\".81\" x=\"27\" y=\"5\" fill=\"#000000\" />\n",
       "<rect width=\".81\" height=\".81\" x=\"0\" y=\"6\" fill=\"#000000\" />\n",
       "<rect width=\".81\" height=\".81\" x=\"1\" y=\"6\" fill=\"#000000\" />\n",
       "<rect width=\".81\" height=\".81\" x=\"2\" y=\"6\" fill=\"#000000\" />\n",
       "<rect width=\".81\" height=\".81\" x=\"3\" y=\"6\" fill=\"#000000\" />\n",
       "<rect width=\".81\" height=\".81\" x=\"4\" y=\"6\" fill=\"#000000\" />\n",
       "<rect width=\".81\" height=\".81\" x=\"5\" y=\"6\" fill=\"#000000\" />\n",
       "<rect width=\".81\" height=\".81\" x=\"6\" y=\"6\" fill=\"#000000\" />\n",
       "<rect width=\".81\" height=\".81\" x=\"7\" y=\"6\" fill=\"#000000\" />\n",
       "<rect width=\".81\" height=\".81\" x=\"8\" y=\"6\" fill=\"#000000\" />\n",
       "<rect width=\".81\" height=\".81\" x=\"9\" y=\"6\" fill=\"#000000\" />\n",
       "<rect width=\".81\" height=\".81\" x=\"10\" y=\"6\" fill=\"#000000\" />\n",
       "<rect width=\".81\" height=\".81\" x=\"11\" y=\"6\" fill=\"#000000\" />\n",
       "<rect width=\".81\" height=\".81\" x=\"12\" y=\"6\" fill=\"#232323\" />\n",
       "<rect width=\".81\" height=\".81\" x=\"13\" y=\"6\" fill=\"#EFEFEF\" />\n",
       "<rect width=\".81\" height=\".81\" x=\"14\" y=\"6\" fill=\"#FDFDFD\" />\n",
       "<rect width=\".81\" height=\".81\" x=\"15\" y=\"6\" fill=\"#FDFDFD\" />\n",
       "<rect width=\".81\" height=\".81\" x=\"16\" y=\"6\" fill=\"#FEFEFE\" />\n",
       "<rect width=\".81\" height=\".81\" x=\"17\" y=\"6\" fill=\"#A2A2A2\" />\n",
       "<rect width=\".81\" height=\".81\" x=\"18\" y=\"6\" fill=\"#040404\" />\n",
       "<rect width=\".81\" height=\".81\" x=\"19\" y=\"6\" fill=\"#000000\" />\n",
       "<rect width=\".81\" height=\".81\" x=\"20\" y=\"6\" fill=\"#000000\" />\n",
       "<rect width=\".81\" height=\".81\" x=\"21\" y=\"6\" fill=\"#000000\" />\n",
       "<rect width=\".81\" height=\".81\" x=\"22\" y=\"6\" fill=\"#000000\" />\n",
       "<rect width=\".81\" height=\".81\" x=\"23\" y=\"6\" fill=\"#000000\" />\n",
       "<rect width=\".81\" height=\".81\" x=\"24\" y=\"6\" fill=\"#000000\" />\n",
       "<rect width=\".81\" height=\".81\" x=\"25\" y=\"6\" fill=\"#000000\" />\n",
       "<rect width=\".81\" height=\".81\" x=\"26\" y=\"6\" fill=\"#000000\" />\n",
       "<rect width=\".81\" height=\".81\" x=\"27\" y=\"6\" fill=\"#000000\" />\n",
       "<rect width=\".81\" height=\".81\" x=\"0\" y=\"7\" fill=\"#000000\" />\n",
       "<rect width=\".81\" height=\".81\" x=\"1\" y=\"7\" fill=\"#000000\" />\n",
       "<rect width=\".81\" height=\".81\" x=\"2\" y=\"7\" fill=\"#000000\" />\n",
       "<rect width=\".81\" height=\".81\" x=\"3\" y=\"7\" fill=\"#000000\" />\n",
       "<rect width=\".81\" height=\".81\" x=\"4\" y=\"7\" fill=\"#000000\" />\n",
       "<rect width=\".81\" height=\".81\" x=\"5\" y=\"7\" fill=\"#000000\" />\n",
       "<rect width=\".81\" height=\".81\" x=\"6\" y=\"7\" fill=\"#000000\" />\n",
       "<rect width=\".81\" height=\".81\" x=\"7\" y=\"7\" fill=\"#000000\" />\n",
       "<rect width=\".81\" height=\".81\" x=\"8\" y=\"7\" fill=\"#000000\" />\n",
       "<rect width=\".81\" height=\".81\" x=\"9\" y=\"7\" fill=\"#000000\" />\n",
       "<rect width=\".81\" height=\".81\" x=\"10\" y=\"7\" fill=\"#000000\" />\n",
       "<rect width=\".81\" height=\".81\" x=\"11\" y=\"7\" fill=\"#000000\" />\n",
       "<rect width=\".81\" height=\".81\" x=\"12\" y=\"7\" fill=\"#929292\" />\n",
       "<rect width=\".81\" height=\".81\" x=\"13\" y=\"7\" fill=\"#FDFDFD\" />\n",
       "<rect width=\".81\" height=\".81\" x=\"14\" y=\"7\" fill=\"#FDFDFD\" />\n",
       "<rect width=\".81\" height=\".81\" x=\"15\" y=\"7\" fill=\"#FDFDFD\" />\n",
       "<rect width=\".81\" height=\".81\" x=\"16\" y=\"7\" fill=\"#BBBBBB\" />\n",
       "<rect width=\".81\" height=\".81\" x=\"17\" y=\"7\" fill=\"#252525\" />\n",
       "<rect width=\".81\" height=\".81\" x=\"18\" y=\"7\" fill=\"#000000\" />\n",
       "<rect width=\".81\" height=\".81\" x=\"19\" y=\"7\" fill=\"#000000\" />\n",
       "<rect width=\".81\" height=\".81\" x=\"20\" y=\"7\" fill=\"#000000\" />\n",
       "<rect width=\".81\" height=\".81\" x=\"21\" y=\"7\" fill=\"#000000\" />\n",
       "<rect width=\".81\" height=\".81\" x=\"22\" y=\"7\" fill=\"#000000\" />\n",
       "<rect width=\".81\" height=\".81\" x=\"23\" y=\"7\" fill=\"#000000\" />\n",
       "<rect width=\".81\" height=\".81\" x=\"24\" y=\"7\" fill=\"#000000\" />\n",
       "<rect width=\".81\" height=\".81\" x=\"25\" y=\"7\" fill=\"#000000\" />\n",
       "<rect width=\".81\" height=\".81\" x=\"26\" y=\"7\" fill=\"#000000\" />\n",
       "<rect width=\".81\" height=\".81\" x=\"27\" y=\"7\" fill=\"#000000\" />\n",
       "<rect width=\".81\" height=\".81\" x=\"0\" y=\"8\" fill=\"#000000\" />\n",
       "<rect width=\".81\" height=\".81\" x=\"1\" y=\"8\" fill=\"#000000\" />\n",
       "<rect width=\".81\" height=\".81\" x=\"2\" y=\"8\" fill=\"#000000\" />\n",
       "<rect width=\".81\" height=\".81\" x=\"3\" y=\"8\" fill=\"#000000\" />\n",
       "<rect width=\".81\" height=\".81\" x=\"4\" y=\"8\" fill=\"#000000\" />\n",
       "<rect width=\".81\" height=\".81\" x=\"5\" y=\"8\" fill=\"#000000\" />\n",
       "<rect width=\".81\" height=\".81\" x=\"6\" y=\"8\" fill=\"#000000\" />\n",
       "<rect width=\".81\" height=\".81\" x=\"7\" y=\"8\" fill=\"#000000\" />\n",
       "<rect width=\".81\" height=\".81\" x=\"8\" y=\"8\" fill=\"#000000\" />\n",
       "<rect width=\".81\" height=\".81\" x=\"9\" y=\"8\" fill=\"#000000\" />\n",
       "<rect width=\".81\" height=\".81\" x=\"10\" y=\"8\" fill=\"#000000\" />\n",
       "<rect width=\".81\" height=\".81\" x=\"11\" y=\"8\" fill=\"#8B8B8B\" />\n",
       "<rect width=\".81\" height=\".81\" x=\"12\" y=\"8\" fill=\"#E9E9E9\" />\n",
       "<rect width=\".81\" height=\".81\" x=\"13\" y=\"8\" fill=\"#FDFDFD\" />\n",
       "<rect width=\".81\" height=\".81\" x=\"14\" y=\"8\" fill=\"#FDFDFD\" />\n",
       "<rect width=\".81\" height=\".81\" x=\"15\" y=\"8\" fill=\"#FDFDFD\" />\n",
       "<rect width=\".81\" height=\".81\" x=\"16\" y=\"8\" fill=\"#000000\" />\n",
       "<rect width=\".81\" height=\".81\" x=\"17\" y=\"8\" fill=\"#000000\" />\n",
       "<rect width=\".81\" height=\".81\" x=\"18\" y=\"8\" fill=\"#000000\" />\n",
       "<rect width=\".81\" height=\".81\" x=\"19\" y=\"8\" fill=\"#000000\" />\n",
       "<rect width=\".81\" height=\".81\" x=\"20\" y=\"8\" fill=\"#000000\" />\n",
       "<rect width=\".81\" height=\".81\" x=\"21\" y=\"8\" fill=\"#000000\" />\n",
       "<rect width=\".81\" height=\".81\" x=\"22\" y=\"8\" fill=\"#000000\" />\n",
       "<rect width=\".81\" height=\".81\" x=\"23\" y=\"8\" fill=\"#000000\" />\n",
       "<rect width=\".81\" height=\".81\" x=\"24\" y=\"8\" fill=\"#000000\" />\n",
       "<rect width=\".81\" height=\".81\" x=\"25\" y=\"8\" fill=\"#000000\" />\n",
       "<rect width=\".81\" height=\".81\" x=\"26\" y=\"8\" fill=\"#000000\" />\n",
       "<rect width=\".81\" height=\".81\" x=\"27\" y=\"8\" fill=\"#000000\" />\n",
       "<rect width=\".81\" height=\".81\" x=\"0\" y=\"9\" fill=\"#000000\" />\n",
       "<rect width=\".81\" height=\".81\" x=\"1\" y=\"9\" fill=\"#000000\" />\n",
       "<rect width=\".81\" height=\".81\" x=\"2\" y=\"9\" fill=\"#000000\" />\n",
       "<rect width=\".81\" height=\".81\" x=\"3\" y=\"9\" fill=\"#000000\" />\n",
       "<rect width=\".81\" height=\".81\" x=\"4\" y=\"9\" fill=\"#000000\" />\n",
       "<rect width=\".81\" height=\".81\" x=\"5\" y=\"9\" fill=\"#000000\" />\n",
       "<rect width=\".81\" height=\".81\" x=\"6\" y=\"9\" fill=\"#000000\" />\n",
       "<rect width=\".81\" height=\".81\" x=\"7\" y=\"9\" fill=\"#000000\" />\n",
       "<rect width=\".81\" height=\".81\" x=\"8\" y=\"9\" fill=\"#000000\" />\n",
       "<rect width=\".81\" height=\".81\" x=\"9\" y=\"9\" fill=\"#000000\" />\n",
       "<rect width=\".81\" height=\".81\" x=\"10\" y=\"9\" fill=\"#000000\" />\n",
       "<rect width=\".81\" height=\".81\" x=\"11\" y=\"9\" fill=\"#BBBBBB\" />\n",
       "<rect width=\".81\" height=\".81\" x=\"12\" y=\"9\" fill=\"#FDFDFD\" />\n",
       "<rect width=\".81\" height=\".81\" x=\"13\" y=\"9\" fill=\"#FDFDFD\" />\n",
       "<rect width=\".81\" height=\".81\" x=\"14\" y=\"9\" fill=\"#FBFBFB\" />\n",
       "<rect width=\".81\" height=\".81\" x=\"15\" y=\"9\" fill=\"#8E8E8E\" />\n",
       "<rect width=\".81\" height=\".81\" x=\"16\" y=\"9\" fill=\"#000000\" />\n",
       "<rect width=\".81\" height=\".81\" x=\"17\" y=\"9\" fill=\"#000000\" />\n",
       "<rect width=\".81\" height=\".81\" x=\"18\" y=\"9\" fill=\"#000000\" />\n",
       "<rect width=\".81\" height=\".81\" x=\"19\" y=\"9\" fill=\"#000000\" />\n",
       "<rect width=\".81\" height=\".81\" x=\"20\" y=\"9\" fill=\"#000000\" />\n",
       "<rect width=\".81\" height=\".81\" x=\"21\" y=\"9\" fill=\"#000000\" />\n",
       "<rect width=\".81\" height=\".81\" x=\"22\" y=\"9\" fill=\"#000000\" />\n",
       "<rect width=\".81\" height=\".81\" x=\"23\" y=\"9\" fill=\"#000000\" />\n",
       "<rect width=\".81\" height=\".81\" x=\"24\" y=\"9\" fill=\"#000000\" />\n",
       "<rect width=\".81\" height=\".81\" x=\"25\" y=\"9\" fill=\"#000000\" />\n",
       "<rect width=\".81\" height=\".81\" x=\"26\" y=\"9\" fill=\"#000000\" />\n",
       "<rect width=\".81\" height=\".81\" x=\"27\" y=\"9\" fill=\"#000000\" />\n",
       "<rect width=\".81\" height=\".81\" x=\"0\" y=\"10\" fill=\"#000000\" />\n",
       "<rect width=\".81\" height=\".81\" x=\"1\" y=\"10\" fill=\"#000000\" />\n",
       "<rect width=\".81\" height=\".81\" x=\"2\" y=\"10\" fill=\"#000000\" />\n",
       "<rect width=\".81\" height=\".81\" x=\"3\" y=\"10\" fill=\"#000000\" />\n",
       "<rect width=\".81\" height=\".81\" x=\"4\" y=\"10\" fill=\"#000000\" />\n",
       "<rect width=\".81\" height=\".81\" x=\"5\" y=\"10\" fill=\"#000000\" />\n",
       "<rect width=\".81\" height=\".81\" x=\"6\" y=\"10\" fill=\"#000000\" />\n",
       "<rect width=\".81\" height=\".81\" x=\"7\" y=\"10\" fill=\"#000000\" />\n",
       "<rect width=\".81\" height=\".81\" x=\"8\" y=\"10\" fill=\"#000000\" />\n",
       "<rect width=\".81\" height=\".81\" x=\"9\" y=\"10\" fill=\"#000000\" />\n",
       "<rect width=\".81\" height=\".81\" x=\"10\" y=\"10\" fill=\"#2B2B2B\" />\n",
       "<rect width=\".81\" height=\".81\" x=\"11\" y=\"10\" fill=\"#E5E5E5\" />\n",
       "<rect width=\".81\" height=\".81\" x=\"12\" y=\"10\" fill=\"#FDFDFD\" />\n",
       "<rect width=\".81\" height=\".81\" x=\"13\" y=\"10\" fill=\"#FDFDFD\" />\n",
       "<rect width=\".81\" height=\".81\" x=\"14\" y=\"10\" fill=\"#9B9B9B\" />\n",
       "<rect width=\".81\" height=\".81\" x=\"15\" y=\"10\" fill=\"#000000\" />\n",
       "<rect width=\".81\" height=\".81\" x=\"16\" y=\"10\" fill=\"#000000\" />\n",
       "<rect width=\".81\" height=\".81\" x=\"17\" y=\"10\" fill=\"#000000\" />\n",
       "<rect width=\".81\" height=\".81\" x=\"18\" y=\"10\" fill=\"#000000\" />\n",
       "<rect width=\".81\" height=\".81\" x=\"19\" y=\"10\" fill=\"#000000\" />\n",
       "<rect width=\".81\" height=\".81\" x=\"20\" y=\"10\" fill=\"#000000\" />\n",
       "<rect width=\".81\" height=\".81\" x=\"21\" y=\"10\" fill=\"#000000\" />\n",
       "<rect width=\".81\" height=\".81\" x=\"22\" y=\"10\" fill=\"#000000\" />\n",
       "<rect width=\".81\" height=\".81\" x=\"23\" y=\"10\" fill=\"#000000\" />\n",
       "<rect width=\".81\" height=\".81\" x=\"24\" y=\"10\" fill=\"#000000\" />\n",
       "<rect width=\".81\" height=\".81\" x=\"25\" y=\"10\" fill=\"#000000\" />\n",
       "<rect width=\".81\" height=\".81\" x=\"26\" y=\"10\" fill=\"#000000\" />\n",
       "<rect width=\".81\" height=\".81\" x=\"27\" y=\"10\" fill=\"#000000\" />\n",
       "<rect width=\".81\" height=\".81\" x=\"0\" y=\"11\" fill=\"#000000\" />\n",
       "<rect width=\".81\" height=\".81\" x=\"1\" y=\"11\" fill=\"#000000\" />\n",
       "<rect width=\".81\" height=\".81\" x=\"2\" y=\"11\" fill=\"#000000\" />\n",
       "<rect width=\".81\" height=\".81\" x=\"3\" y=\"11\" fill=\"#000000\" />\n",
       "<rect width=\".81\" height=\".81\" x=\"4\" y=\"11\" fill=\"#000000\" />\n",
       "<rect width=\".81\" height=\".81\" x=\"5\" y=\"11\" fill=\"#000000\" />\n",
       "<rect width=\".81\" height=\".81\" x=\"6\" y=\"11\" fill=\"#000000\" />\n",
       "<rect width=\".81\" height=\".81\" x=\"7\" y=\"11\" fill=\"#000000\" />\n",
       "<rect width=\".81\" height=\".81\" x=\"8\" y=\"11\" fill=\"#000000\" />\n",
       "<rect width=\".81\" height=\".81\" x=\"9\" y=\"11\" fill=\"#000000\" />\n",
       "<rect width=\".81\" height=\".81\" x=\"10\" y=\"11\" fill=\"#919191\" />\n",
       "<rect width=\".81\" height=\".81\" x=\"11\" y=\"11\" fill=\"#FDFDFD\" />\n",
       "<rect width=\".81\" height=\".81\" x=\"12\" y=\"11\" fill=\"#FDFDFD\" />\n",
       "<rect width=\".81\" height=\".81\" x=\"13\" y=\"11\" fill=\"#FDFDFD\" />\n",
       "<rect width=\".81\" height=\".81\" x=\"14\" y=\"11\" fill=\"#6B6B6B\" />\n",
       "<rect width=\".81\" height=\".81\" x=\"15\" y=\"11\" fill=\"#000000\" />\n",
       "<rect width=\".81\" height=\".81\" x=\"16\" y=\"11\" fill=\"#000000\" />\n",
       "<rect width=\".81\" height=\".81\" x=\"17\" y=\"11\" fill=\"#000000\" />\n",
       "<rect width=\".81\" height=\".81\" x=\"18\" y=\"11\" fill=\"#000000\" />\n",
       "<rect width=\".81\" height=\".81\" x=\"19\" y=\"11\" fill=\"#000000\" />\n",
       "<rect width=\".81\" height=\".81\" x=\"20\" y=\"11\" fill=\"#000000\" />\n",
       "<rect width=\".81\" height=\".81\" x=\"21\" y=\"11\" fill=\"#000000\" />\n",
       "<rect width=\".81\" height=\".81\" x=\"22\" y=\"11\" fill=\"#000000\" />\n",
       "<rect width=\".81\" height=\".81\" x=\"23\" y=\"11\" fill=\"#000000\" />\n",
       "<rect width=\".81\" height=\".81\" x=\"24\" y=\"11\" fill=\"#000000\" />\n",
       "<rect width=\".81\" height=\".81\" x=\"25\" y=\"11\" fill=\"#000000\" />\n",
       "<rect width=\".81\" height=\".81\" x=\"26\" y=\"11\" fill=\"#000000\" />\n",
       "<rect width=\".81\" height=\".81\" x=\"27\" y=\"11\" fill=\"#000000\" />\n",
       "<rect width=\".81\" height=\".81\" x=\"0\" y=\"12\" fill=\"#000000\" />\n",
       "<rect width=\".81\" height=\".81\" x=\"1\" y=\"12\" fill=\"#000000\" />\n",
       "<rect width=\".81\" height=\".81\" x=\"2\" y=\"12\" fill=\"#000000\" />\n",
       "<rect width=\".81\" height=\".81\" x=\"3\" y=\"12\" fill=\"#000000\" />\n",
       "<rect width=\".81\" height=\".81\" x=\"4\" y=\"12\" fill=\"#000000\" />\n",
       "<rect width=\".81\" height=\".81\" x=\"5\" y=\"12\" fill=\"#000000\" />\n",
       "<rect width=\".81\" height=\".81\" x=\"6\" y=\"12\" fill=\"#000000\" />\n",
       "<rect width=\".81\" height=\".81\" x=\"7\" y=\"12\" fill=\"#000000\" />\n",
       "<rect width=\".81\" height=\".81\" x=\"8\" y=\"12\" fill=\"#000000\" />\n",
       "<rect width=\".81\" height=\".81\" x=\"9\" y=\"12\" fill=\"#000000\" />\n",
       "<rect width=\".81\" height=\".81\" x=\"10\" y=\"12\" fill=\"#C9C9C9\" />\n",
       "<rect width=\".81\" height=\".81\" x=\"11\" y=\"12\" fill=\"#FDFDFD\" />\n",
       "<rect width=\".81\" height=\".81\" x=\"12\" y=\"12\" fill=\"#FDFDFD\" />\n",
       "<rect width=\".81\" height=\".81\" x=\"13\" y=\"12\" fill=\"#FDFDFD\" />\n",
       "<rect width=\".81\" height=\".81\" x=\"14\" y=\"12\" fill=\"#6B6B6B\" />\n",
       "<rect width=\".81\" height=\".81\" x=\"15\" y=\"12\" fill=\"#000000\" />\n",
       "<rect width=\".81\" height=\".81\" x=\"16\" y=\"12\" fill=\"#000000\" />\n",
       "<rect width=\".81\" height=\".81\" x=\"17\" y=\"12\" fill=\"#000000\" />\n",
       "<rect width=\".81\" height=\".81\" x=\"18\" y=\"12\" fill=\"#000000\" />\n",
       "<rect width=\".81\" height=\".81\" x=\"19\" y=\"12\" fill=\"#000000\" />\n",
       "<rect width=\".81\" height=\".81\" x=\"20\" y=\"12\" fill=\"#000000\" />\n",
       "<rect width=\".81\" height=\".81\" x=\"21\" y=\"12\" fill=\"#000000\" />\n",
       "<rect width=\".81\" height=\".81\" x=\"22\" y=\"12\" fill=\"#000000\" />\n",
       "<rect width=\".81\" height=\".81\" x=\"23\" y=\"12\" fill=\"#000000\" />\n",
       "<rect width=\".81\" height=\".81\" x=\"24\" y=\"12\" fill=\"#000000\" />\n",
       "<rect width=\".81\" height=\".81\" x=\"25\" y=\"12\" fill=\"#000000\" />\n",
       "<rect width=\".81\" height=\".81\" x=\"26\" y=\"12\" fill=\"#000000\" />\n",
       "<rect width=\".81\" height=\".81\" x=\"27\" y=\"12\" fill=\"#000000\" />\n",
       "<rect width=\".81\" height=\".81\" x=\"0\" y=\"13\" fill=\"#000000\" />\n",
       "<rect width=\".81\" height=\".81\" x=\"1\" y=\"13\" fill=\"#000000\" />\n",
       "<rect width=\".81\" height=\".81\" x=\"2\" y=\"13\" fill=\"#000000\" />\n",
       "<rect width=\".81\" height=\".81\" x=\"3\" y=\"13\" fill=\"#000000\" />\n",
       "<rect width=\".81\" height=\".81\" x=\"4\" y=\"13\" fill=\"#000000\" />\n",
       "<rect width=\".81\" height=\".81\" x=\"5\" y=\"13\" fill=\"#000000\" />\n",
       "<rect width=\".81\" height=\".81\" x=\"6\" y=\"13\" fill=\"#000000\" />\n",
       "<rect width=\".81\" height=\".81\" x=\"7\" y=\"13\" fill=\"#000000\" />\n",
       "<rect width=\".81\" height=\".81\" x=\"8\" y=\"13\" fill=\"#000000\" />\n",
       "<rect width=\".81\" height=\".81\" x=\"9\" y=\"13\" fill=\"#272727\" />\n",
       "<rect width=\".81\" height=\".81\" x=\"10\" y=\"13\" fill=\"#E3E3E3\" />\n",
       "<rect width=\".81\" height=\".81\" x=\"11\" y=\"13\" fill=\"#FEFEFE\" />\n",
       "<rect width=\".81\" height=\".81\" x=\"12\" y=\"13\" fill=\"#FEFEFE\" />\n",
       "<rect width=\".81\" height=\".81\" x=\"13\" y=\"13\" fill=\"#FEFEFE\" />\n",
       "<rect width=\".81\" height=\".81\" x=\"14\" y=\"13\" fill=\"#B0B0B0\" />\n",
       "<rect width=\".81\" height=\".81\" x=\"15\" y=\"13\" fill=\"#797979\" />\n",
       "<rect width=\".81\" height=\".81\" x=\"16\" y=\"13\" fill=\"#7A7A7A\" />\n",
       "<rect width=\".81\" height=\".81\" x=\"17\" y=\"13\" fill=\"#060606\" />\n",
       "<rect width=\".81\" height=\".81\" x=\"18\" y=\"13\" fill=\"#000000\" />\n",
       "<rect width=\".81\" height=\".81\" x=\"19\" y=\"13\" fill=\"#000000\" />\n",
       "<rect width=\".81\" height=\".81\" x=\"20\" y=\"13\" fill=\"#000000\" />\n",
       "<rect width=\".81\" height=\".81\" x=\"21\" y=\"13\" fill=\"#000000\" />\n",
       "<rect width=\".81\" height=\".81\" x=\"22\" y=\"13\" fill=\"#000000\" />\n",
       "<rect width=\".81\" height=\".81\" x=\"23\" y=\"13\" fill=\"#000000\" />\n",
       "<rect width=\".81\" height=\".81\" x=\"24\" y=\"13\" fill=\"#000000\" />\n",
       "<rect width=\".81\" height=\".81\" x=\"25\" y=\"13\" fill=\"#000000\" />\n",
       "<rect width=\".81\" height=\".81\" x=\"26\" y=\"13\" fill=\"#000000\" />\n",
       "<rect width=\".81\" height=\".81\" x=\"27\" y=\"13\" fill=\"#000000\" />\n",
       "<rect width=\".81\" height=\".81\" x=\"0\" y=\"14\" fill=\"#000000\" />\n",
       "<rect width=\".81\" height=\".81\" x=\"1\" y=\"14\" fill=\"#000000\" />\n",
       "<rect width=\".81\" height=\".81\" x=\"2\" y=\"14\" fill=\"#000000\" />\n",
       "<rect width=\".81\" height=\".81\" x=\"3\" y=\"14\" fill=\"#000000\" />\n",
       "<rect width=\".81\" height=\".81\" x=\"4\" y=\"14\" fill=\"#000000\" />\n",
       "<rect width=\".81\" height=\".81\" x=\"5\" y=\"14\" fill=\"#000000\" />\n",
       "<rect width=\".81\" height=\".81\" x=\"6\" y=\"14\" fill=\"#000000\" />\n",
       "<rect width=\".81\" height=\".81\" x=\"7\" y=\"14\" fill=\"#000000\" />\n",
       "<rect width=\".81\" height=\".81\" x=\"8\" y=\"14\" fill=\"#000000\" />\n",
       "<rect width=\".81\" height=\".81\" x=\"9\" y=\"14\" fill=\"#515151\" />\n",
       "<rect width=\".81\" height=\".81\" x=\"10\" y=\"14\" fill=\"#FDFDFD\" />\n",
       "<rect width=\".81\" height=\".81\" x=\"11\" y=\"14\" fill=\"#FDFDFD\" />\n",
       "<rect width=\".81\" height=\".81\" x=\"12\" y=\"14\" fill=\"#FDFDFD\" />\n",
       "<rect width=\".81\" height=\".81\" x=\"13\" y=\"14\" fill=\"#FDFDFD\" />\n",
       "<rect width=\".81\" height=\".81\" x=\"14\" y=\"14\" fill=\"#FDFDFD\" />\n",
       "<rect width=\".81\" height=\".81\" x=\"15\" y=\"14\" fill=\"#FDFDFD\" />\n",
       "<rect width=\".81\" height=\".81\" x=\"16\" y=\"14\" fill=\"#FEFEFE\" />\n",
       "<rect width=\".81\" height=\".81\" x=\"17\" y=\"14\" fill=\"#F2F2F2\" />\n",
       "<rect width=\".81\" height=\".81\" x=\"18\" y=\"14\" fill=\"#BFBFBF\" />\n",
       "<rect width=\".81\" height=\".81\" x=\"19\" y=\"14\" fill=\"#111111\" />\n",
       "<rect width=\".81\" height=\".81\" x=\"20\" y=\"14\" fill=\"#000000\" />\n",
       "<rect width=\".81\" height=\".81\" x=\"21\" y=\"14\" fill=\"#000000\" />\n",
       "<rect width=\".81\" height=\".81\" x=\"22\" y=\"14\" fill=\"#000000\" />\n",
       "<rect width=\".81\" height=\".81\" x=\"23\" y=\"14\" fill=\"#000000\" />\n",
       "<rect width=\".81\" height=\".81\" x=\"24\" y=\"14\" fill=\"#000000\" />\n",
       "<rect width=\".81\" height=\".81\" x=\"25\" y=\"14\" fill=\"#000000\" />\n",
       "<rect width=\".81\" height=\".81\" x=\"26\" y=\"14\" fill=\"#000000\" />\n",
       "<rect width=\".81\" height=\".81\" x=\"27\" y=\"14\" fill=\"#000000\" />\n",
       "<rect width=\".81\" height=\".81\" x=\"0\" y=\"15\" fill=\"#000000\" />\n",
       "<rect width=\".81\" height=\".81\" x=\"1\" y=\"15\" fill=\"#000000\" />\n",
       "<rect width=\".81\" height=\".81\" x=\"2\" y=\"15\" fill=\"#000000\" />\n",
       "<rect width=\".81\" height=\".81\" x=\"3\" y=\"15\" fill=\"#000000\" />\n",
       "<rect width=\".81\" height=\".81\" x=\"4\" y=\"15\" fill=\"#000000\" />\n",
       "<rect width=\".81\" height=\".81\" x=\"5\" y=\"15\" fill=\"#000000\" />\n",
       "<rect width=\".81\" height=\".81\" x=\"6\" y=\"15\" fill=\"#000000\" />\n",
       "<rect width=\".81\" height=\".81\" x=\"7\" y=\"15\" fill=\"#000000\" />\n",
       "<rect width=\".81\" height=\".81\" x=\"8\" y=\"15\" fill=\"#000000\" />\n",
       "<rect width=\".81\" height=\".81\" x=\"9\" y=\"15\" fill=\"#515151\" />\n",
       "<rect width=\".81\" height=\".81\" x=\"10\" y=\"15\" fill=\"#FDFDFD\" />\n",
       "<rect width=\".81\" height=\".81\" x=\"11\" y=\"15\" fill=\"#FDFDFD\" />\n",
       "<rect width=\".81\" height=\".81\" x=\"12\" y=\"15\" fill=\"#FDFDFD\" />\n",
       "<rect width=\".81\" height=\".81\" x=\"13\" y=\"15\" fill=\"#FDFDFD\" />\n",
       "<rect width=\".81\" height=\".81\" x=\"14\" y=\"15\" fill=\"#FDFDFD\" />\n",
       "<rect width=\".81\" height=\".81\" x=\"15\" y=\"15\" fill=\"#FDFDFD\" />\n",
       "<rect width=\".81\" height=\".81\" x=\"16\" y=\"15\" fill=\"#FEFEFE\" />\n",
       "<rect width=\".81\" height=\".81\" x=\"17\" y=\"15\" fill=\"#FDFDFD\" />\n",
       "<rect width=\".81\" height=\".81\" x=\"18\" y=\"15\" fill=\"#FDFDFD\" />\n",
       "<rect width=\".81\" height=\".81\" x=\"19\" y=\"15\" fill=\"#777777\" />\n",
       "<rect width=\".81\" height=\".81\" x=\"20\" y=\"15\" fill=\"#141414\" />\n",
       "<rect width=\".81\" height=\".81\" x=\"21\" y=\"15\" fill=\"#000000\" />\n",
       "<rect width=\".81\" height=\".81\" x=\"22\" y=\"15\" fill=\"#000000\" />\n",
       "<rect width=\".81\" height=\".81\" x=\"23\" y=\"15\" fill=\"#000000\" />\n",
       "<rect width=\".81\" height=\".81\" x=\"24\" y=\"15\" fill=\"#000000\" />\n",
       "<rect width=\".81\" height=\".81\" x=\"25\" y=\"15\" fill=\"#000000\" />\n",
       "<rect width=\".81\" height=\".81\" x=\"26\" y=\"15\" fill=\"#000000\" />\n",
       "<rect width=\".81\" height=\".81\" x=\"27\" y=\"15\" fill=\"#000000\" />\n",
       "<rect width=\".81\" height=\".81\" x=\"0\" y=\"16\" fill=\"#000000\" />\n",
       "<rect width=\".81\" height=\".81\" x=\"1\" y=\"16\" fill=\"#000000\" />\n",
       "<rect width=\".81\" height=\".81\" x=\"2\" y=\"16\" fill=\"#000000\" />\n",
       "<rect width=\".81\" height=\".81\" x=\"3\" y=\"16\" fill=\"#000000\" />\n",
       "<rect width=\".81\" height=\".81\" x=\"4\" y=\"16\" fill=\"#000000\" />\n",
       "<rect width=\".81\" height=\".81\" x=\"5\" y=\"16\" fill=\"#000000\" />\n",
       "<rect width=\".81\" height=\".81\" x=\"6\" y=\"16\" fill=\"#000000\" />\n",
       "<rect width=\".81\" height=\".81\" x=\"7\" y=\"16\" fill=\"#000000\" />\n",
       "<rect width=\".81\" height=\".81\" x=\"8\" y=\"16\" fill=\"#000000\" />\n",
       "<rect width=\".81\" height=\".81\" x=\"9\" y=\"16\" fill=\"#373737\" />\n",
       "<rect width=\".81\" height=\".81\" x=\"10\" y=\"16\" fill=\"#EDEDED\" />\n",
       "<rect width=\".81\" height=\".81\" x=\"11\" y=\"16\" fill=\"#FDFDFD\" />\n",
       "<rect width=\".81\" height=\".81\" x=\"12\" y=\"16\" fill=\"#FDFDFD\" />\n",
       "<rect width=\".81\" height=\".81\" x=\"13\" y=\"16\" fill=\"#FDFDFD\" />\n",
       "<rect width=\".81\" height=\".81\" x=\"14\" y=\"16\" fill=\"#CECECE\" />\n",
       "<rect width=\".81\" height=\".81\" x=\"15\" y=\"16\" fill=\"#ADADAD\" />\n",
       "<rect width=\".81\" height=\".81\" x=\"16\" y=\"16\" fill=\"#FEFEFE\" />\n",
       "<rect width=\".81\" height=\".81\" x=\"17\" y=\"16\" fill=\"#FDFDFD\" />\n",
       "<rect width=\".81\" height=\".81\" x=\"18\" y=\"16\" fill=\"#FDFDFD\" />\n",
       "<rect width=\".81\" height=\".81\" x=\"19\" y=\"16\" fill=\"#FDFDFD\" />\n",
       "<rect width=\".81\" height=\".81\" x=\"20\" y=\"16\" fill=\"#BBBBBB\" />\n",
       "<rect width=\".81\" height=\".81\" x=\"21\" y=\"16\" fill=\"#151515\" />\n",
       "<rect width=\".81\" height=\".81\" x=\"22\" y=\"16\" fill=\"#000000\" />\n",
       "<rect width=\".81\" height=\".81\" x=\"23\" y=\"16\" fill=\"#000000\" />\n",
       "<rect width=\".81\" height=\".81\" x=\"24\" y=\"16\" fill=\"#000000\" />\n",
       "<rect width=\".81\" height=\".81\" x=\"25\" y=\"16\" fill=\"#000000\" />\n",
       "<rect width=\".81\" height=\".81\" x=\"26\" y=\"16\" fill=\"#000000\" />\n",
       "<rect width=\".81\" height=\".81\" x=\"27\" y=\"16\" fill=\"#000000\" />\n",
       "<rect width=\".81\" height=\".81\" x=\"0\" y=\"17\" fill=\"#000000\" />\n",
       "<rect width=\".81\" height=\".81\" x=\"1\" y=\"17\" fill=\"#000000\" />\n",
       "<rect width=\".81\" height=\".81\" x=\"2\" y=\"17\" fill=\"#000000\" />\n",
       "<rect width=\".81\" height=\".81\" x=\"3\" y=\"17\" fill=\"#000000\" />\n",
       "<rect width=\".81\" height=\".81\" x=\"4\" y=\"17\" fill=\"#000000\" />\n",
       "<rect width=\".81\" height=\".81\" x=\"5\" y=\"17\" fill=\"#000000\" />\n",
       "<rect width=\".81\" height=\".81\" x=\"6\" y=\"17\" fill=\"#000000\" />\n",
       "<rect width=\".81\" height=\".81\" x=\"7\" y=\"17\" fill=\"#000000\" />\n",
       "<rect width=\".81\" height=\".81\" x=\"8\" y=\"17\" fill=\"#000000\" />\n",
       "<rect width=\".81\" height=\".81\" x=\"9\" y=\"17\" fill=\"#000000\" />\n",
       "<rect width=\".81\" height=\".81\" x=\"10\" y=\"17\" fill=\"#C9C9C9\" />\n",
       "<rect width=\".81\" height=\".81\" x=\"11\" y=\"17\" fill=\"#FDFDFD\" />\n",
       "<rect width=\".81\" height=\".81\" x=\"12\" y=\"17\" fill=\"#FDFDFD\" />\n",
       "<rect width=\".81\" height=\".81\" x=\"13\" y=\"17\" fill=\"#FDFDFD\" />\n",
       "<rect width=\".81\" height=\".81\" x=\"14\" y=\"17\" fill=\"#919191\" />\n",
       "<rect width=\".81\" height=\".81\" x=\"15\" y=\"17\" fill=\"#202020\" />\n",
       "<rect width=\".81\" height=\".81\" x=\"16\" y=\"17\" fill=\"#353535\" />\n",
       "<rect width=\".81\" height=\".81\" x=\"17\" y=\"17\" fill=\"#D0D0D0\" />\n",
       "<rect width=\".81\" height=\".81\" x=\"18\" y=\"17\" fill=\"#FDFDFD\" />\n",
       "<rect width=\".81\" height=\".81\" x=\"19\" y=\"17\" fill=\"#FDFDFD\" />\n",
       "<rect width=\".81\" height=\".81\" x=\"20\" y=\"17\" fill=\"#FDFDFD\" />\n",
       "<rect width=\".81\" height=\".81\" x=\"21\" y=\"17\" fill=\"#666666\" />\n",
       "<rect width=\".81\" height=\".81\" x=\"22\" y=\"17\" fill=\"#000000\" />\n",
       "<rect width=\".81\" height=\".81\" x=\"23\" y=\"17\" fill=\"#000000\" />\n",
       "<rect width=\".81\" height=\".81\" x=\"24\" y=\"17\" fill=\"#000000\" />\n",
       "<rect width=\".81\" height=\".81\" x=\"25\" y=\"17\" fill=\"#000000\" />\n",
       "<rect width=\".81\" height=\".81\" x=\"26\" y=\"17\" fill=\"#000000\" />\n",
       "<rect width=\".81\" height=\".81\" x=\"27\" y=\"17\" fill=\"#000000\" />\n",
       "<rect width=\".81\" height=\".81\" x=\"0\" y=\"18\" fill=\"#000000\" />\n",
       "<rect width=\".81\" height=\".81\" x=\"1\" y=\"18\" fill=\"#000000\" />\n",
       "<rect width=\".81\" height=\".81\" x=\"2\" y=\"18\" fill=\"#000000\" />\n",
       "<rect width=\".81\" height=\".81\" x=\"3\" y=\"18\" fill=\"#000000\" />\n",
       "<rect width=\".81\" height=\".81\" x=\"4\" y=\"18\" fill=\"#000000\" />\n",
       "<rect width=\".81\" height=\".81\" x=\"5\" y=\"18\" fill=\"#000000\" />\n",
       "<rect width=\".81\" height=\".81\" x=\"6\" y=\"18\" fill=\"#000000\" />\n",
       "<rect width=\".81\" height=\".81\" x=\"7\" y=\"18\" fill=\"#000000\" />\n",
       "<rect width=\".81\" height=\".81\" x=\"8\" y=\"18\" fill=\"#000000\" />\n",
       "<rect width=\".81\" height=\".81\" x=\"9\" y=\"18\" fill=\"#3C3C3C\" />\n",
       "<rect width=\".81\" height=\".81\" x=\"10\" y=\"18\" fill=\"#F0F0F0\" />\n",
       "<rect width=\".81\" height=\".81\" x=\"11\" y=\"18\" fill=\"#FDFDFD\" />\n",
       "<rect width=\".81\" height=\".81\" x=\"12\" y=\"18\" fill=\"#FDFDFD\" />\n",
       "<rect width=\".81\" height=\".81\" x=\"13\" y=\"18\" fill=\"#FDFDFD\" />\n",
       "<rect width=\".81\" height=\".81\" x=\"14\" y=\"18\" fill=\"#FDFDFD\" />\n",
       "<rect width=\".81\" height=\".81\" x=\"15\" y=\"18\" fill=\"#DADADA\" />\n",
       "<rect width=\".81\" height=\".81\" x=\"16\" y=\"18\" fill=\"#363636\" />\n",
       "<rect width=\".81\" height=\".81\" x=\"17\" y=\"18\" fill=\"#D1D1D1\" />\n",
       "<rect width=\".81\" height=\".81\" x=\"18\" y=\"18\" fill=\"#FDFDFD\" />\n",
       "<rect width=\".81\" height=\".81\" x=\"19\" y=\"18\" fill=\"#FDFDFD\" />\n",
       "<rect width=\".81\" height=\".81\" x=\"20\" y=\"18\" fill=\"#FDFDFD\" />\n",
       "<rect width=\".81\" height=\".81\" x=\"21\" y=\"18\" fill=\"#C7C7C7\" />\n",
       "<rect width=\".81\" height=\".81\" x=\"22\" y=\"18\" fill=\"#000000\" />\n",
       "<rect width=\".81\" height=\".81\" x=\"23\" y=\"18\" fill=\"#000000\" />\n",
       "<rect width=\".81\" height=\".81\" x=\"24\" y=\"18\" fill=\"#000000\" />\n",
       "<rect width=\".81\" height=\".81\" x=\"25\" y=\"18\" fill=\"#000000\" />\n",
       "<rect width=\".81\" height=\".81\" x=\"26\" y=\"18\" fill=\"#000000\" />\n",
       "<rect width=\".81\" height=\".81\" x=\"27\" y=\"18\" fill=\"#000000\" />\n",
       "<rect width=\".81\" height=\".81\" x=\"0\" y=\"19\" fill=\"#000000\" />\n",
       "<rect width=\".81\" height=\".81\" x=\"1\" y=\"19\" fill=\"#000000\" />\n",
       "<rect width=\".81\" height=\".81\" x=\"2\" y=\"19\" fill=\"#000000\" />\n",
       "<rect width=\".81\" height=\".81\" x=\"3\" y=\"19\" fill=\"#000000\" />\n",
       "<rect width=\".81\" height=\".81\" x=\"4\" y=\"19\" fill=\"#000000\" />\n",
       "<rect width=\".81\" height=\".81\" x=\"5\" y=\"19\" fill=\"#000000\" />\n",
       "<rect width=\".81\" height=\".81\" x=\"6\" y=\"19\" fill=\"#000000\" />\n",
       "<rect width=\".81\" height=\".81\" x=\"7\" y=\"19\" fill=\"#000000\" />\n",
       "<rect width=\".81\" height=\".81\" x=\"8\" y=\"19\" fill=\"#000000\" />\n",
       "<rect width=\".81\" height=\".81\" x=\"9\" y=\"19\" fill=\"#1A1A1A\" />\n",
       "<rect width=\".81\" height=\".81\" x=\"10\" y=\"19\" fill=\"#C4C4C4\" />\n",
       "<rect width=\".81\" height=\".81\" x=\"11\" y=\"19\" fill=\"#FDFDFD\" />\n",
       "<rect width=\".81\" height=\".81\" x=\"12\" y=\"19\" fill=\"#FDFDFD\" />\n",
       "<rect width=\".81\" height=\".81\" x=\"13\" y=\"19\" fill=\"#FDFDFD\" />\n",
       "<rect width=\".81\" height=\".81\" x=\"14\" y=\"19\" fill=\"#FDFDFD\" />\n",
       "<rect width=\".81\" height=\".81\" x=\"15\" y=\"19\" fill=\"#FDFDFD\" />\n",
       "<rect width=\".81\" height=\".81\" x=\"16\" y=\"19\" fill=\"#FFFFFF\" />\n",
       "<rect width=\".81\" height=\".81\" x=\"17\" y=\"19\" fill=\"#FDFDFD\" />\n",
       "<rect width=\".81\" height=\".81\" x=\"18\" y=\"19\" fill=\"#FDFDFD\" />\n",
       "<rect width=\".81\" height=\".81\" x=\"19\" y=\"19\" fill=\"#FDFDFD\" />\n",
       "<rect width=\".81\" height=\".81\" x=\"20\" y=\"19\" fill=\"#F3F3F3\" />\n",
       "<rect width=\".81\" height=\".81\" x=\"21\" y=\"19\" fill=\"#626262\" />\n",
       "<rect width=\".81\" height=\".81\" x=\"22\" y=\"19\" fill=\"#000000\" />\n",
       "<rect width=\".81\" height=\".81\" x=\"23\" y=\"19\" fill=\"#000000\" />\n",
       "<rect width=\".81\" height=\".81\" x=\"24\" y=\"19\" fill=\"#000000\" />\n",
       "<rect width=\".81\" height=\".81\" x=\"25\" y=\"19\" fill=\"#000000\" />\n",
       "<rect width=\".81\" height=\".81\" x=\"26\" y=\"19\" fill=\"#000000\" />\n",
       "<rect width=\".81\" height=\".81\" x=\"27\" y=\"19\" fill=\"#000000\" />\n",
       "<rect width=\".81\" height=\".81\" x=\"0\" y=\"20\" fill=\"#000000\" />\n",
       "<rect width=\".81\" height=\".81\" x=\"1\" y=\"20\" fill=\"#000000\" />\n",
       "<rect width=\".81\" height=\".81\" x=\"2\" y=\"20\" fill=\"#000000\" />\n",
       "<rect width=\".81\" height=\".81\" x=\"3\" y=\"20\" fill=\"#000000\" />\n",
       "<rect width=\".81\" height=\".81\" x=\"4\" y=\"20\" fill=\"#000000\" />\n",
       "<rect width=\".81\" height=\".81\" x=\"5\" y=\"20\" fill=\"#000000\" />\n",
       "<rect width=\".81\" height=\".81\" x=\"6\" y=\"20\" fill=\"#000000\" />\n",
       "<rect width=\".81\" height=\".81\" x=\"7\" y=\"20\" fill=\"#000000\" />\n",
       "<rect width=\".81\" height=\".81\" x=\"8\" y=\"20\" fill=\"#000000\" />\n",
       "<rect width=\".81\" height=\".81\" x=\"9\" y=\"20\" fill=\"#000000\" />\n",
       "<rect width=\".81\" height=\".81\" x=\"10\" y=\"20\" fill=\"#191919\" />\n",
       "<rect width=\".81\" height=\".81\" x=\"11\" y=\"20\" fill=\"#C5C5C5\" />\n",
       "<rect width=\".81\" height=\".81\" x=\"12\" y=\"20\" fill=\"#FDFDFD\" />\n",
       "<rect width=\".81\" height=\".81\" x=\"13\" y=\"20\" fill=\"#FDFDFD\" />\n",
       "<rect width=\".81\" height=\".81\" x=\"14\" y=\"20\" fill=\"#FDFDFD\" />\n",
       "<rect width=\".81\" height=\".81\" x=\"15\" y=\"20\" fill=\"#FDFDFD\" />\n",
       "<rect width=\".81\" height=\".81\" x=\"16\" y=\"20\" fill=\"#FFFFFF\" />\n",
       "<rect width=\".81\" height=\".81\" x=\"17\" y=\"20\" fill=\"#FDFDFD\" />\n",
       "<rect width=\".81\" height=\".81\" x=\"18\" y=\"20\" fill=\"#FDFDFD\" />\n",
       "<rect width=\".81\" height=\".81\" x=\"19\" y=\"20\" fill=\"#FDFDFD\" />\n",
       "<rect width=\".81\" height=\".81\" x=\"20\" y=\"20\" fill=\"#ACACAC\" />\n",
       "<rect width=\".81\" height=\".81\" x=\"21\" y=\"20\" fill=\"#000000\" />\n",
       "<rect width=\".81\" height=\".81\" x=\"22\" y=\"20\" fill=\"#000000\" />\n",
       "<rect width=\".81\" height=\".81\" x=\"23\" y=\"20\" fill=\"#000000\" />\n",
       "<rect width=\".81\" height=\".81\" x=\"24\" y=\"20\" fill=\"#000000\" />\n",
       "<rect width=\".81\" height=\".81\" x=\"25\" y=\"20\" fill=\"#000000\" />\n",
       "<rect width=\".81\" height=\".81\" x=\"26\" y=\"20\" fill=\"#000000\" />\n",
       "<rect width=\".81\" height=\".81\" x=\"27\" y=\"20\" fill=\"#000000\" />\n",
       "<rect width=\".81\" height=\".81\" x=\"0\" y=\"21\" fill=\"#000000\" />\n",
       "<rect width=\".81\" height=\".81\" x=\"1\" y=\"21\" fill=\"#000000\" />\n",
       "<rect width=\".81\" height=\".81\" x=\"2\" y=\"21\" fill=\"#000000\" />\n",
       "<rect width=\".81\" height=\".81\" x=\"3\" y=\"21\" fill=\"#000000\" />\n",
       "<rect width=\".81\" height=\".81\" x=\"4\" y=\"21\" fill=\"#000000\" />\n",
       "<rect width=\".81\" height=\".81\" x=\"5\" y=\"21\" fill=\"#000000\" />\n",
       "<rect width=\".81\" height=\".81\" x=\"6\" y=\"21\" fill=\"#000000\" />\n",
       "<rect width=\".81\" height=\".81\" x=\"7\" y=\"21\" fill=\"#000000\" />\n",
       "<rect width=\".81\" height=\".81\" x=\"8\" y=\"21\" fill=\"#000000\" />\n",
       "<rect width=\".81\" height=\".81\" x=\"9\" y=\"21\" fill=\"#000000\" />\n",
       "<rect width=\".81\" height=\".81\" x=\"10\" y=\"21\" fill=\"#000000\" />\n",
       "<rect width=\".81\" height=\".81\" x=\"11\" y=\"21\" fill=\"#171717\" />\n",
       "<rect width=\".81\" height=\".81\" x=\"12\" y=\"21\" fill=\"#808080\" />\n",
       "<rect width=\".81\" height=\".81\" x=\"13\" y=\"21\" fill=\"#F1F1F1\" />\n",
       "<rect width=\".81\" height=\".81\" x=\"14\" y=\"21\" fill=\"#FDFDFD\" />\n",
       "<rect width=\".81\" height=\".81\" x=\"15\" y=\"21\" fill=\"#FDFDFD\" />\n",
       "<rect width=\".81\" height=\".81\" x=\"16\" y=\"21\" fill=\"#FFFFFF\" />\n",
       "<rect width=\".81\" height=\".81\" x=\"17\" y=\"21\" fill=\"#FDFDFD\" />\n",
       "<rect width=\".81\" height=\".81\" x=\"18\" y=\"21\" fill=\"#FDFDFD\" />\n",
       "<rect width=\".81\" height=\".81\" x=\"19\" y=\"21\" fill=\"#C7C7C7\" />\n",
       "<rect width=\".81\" height=\".81\" x=\"20\" y=\"21\" fill=\"#161616\" />\n",
       "<rect width=\".81\" height=\".81\" x=\"21\" y=\"21\" fill=\"#000000\" />\n",
       "<rect width=\".81\" height=\".81\" x=\"22\" y=\"21\" fill=\"#000000\" />\n",
       "<rect width=\".81\" height=\".81\" x=\"23\" y=\"21\" fill=\"#000000\" />\n",
       "<rect width=\".81\" height=\".81\" x=\"24\" y=\"21\" fill=\"#000000\" />\n",
       "<rect width=\".81\" height=\".81\" x=\"25\" y=\"21\" fill=\"#000000\" />\n",
       "<rect width=\".81\" height=\".81\" x=\"26\" y=\"21\" fill=\"#000000\" />\n",
       "<rect width=\".81\" height=\".81\" x=\"27\" y=\"21\" fill=\"#000000\" />\n",
       "<rect width=\".81\" height=\".81\" x=\"0\" y=\"22\" fill=\"#000000\" />\n",
       "<rect width=\".81\" height=\".81\" x=\"1\" y=\"22\" fill=\"#000000\" />\n",
       "<rect width=\".81\" height=\".81\" x=\"2\" y=\"22\" fill=\"#000000\" />\n",
       "<rect width=\".81\" height=\".81\" x=\"3\" y=\"22\" fill=\"#000000\" />\n",
       "<rect width=\".81\" height=\".81\" x=\"4\" y=\"22\" fill=\"#000000\" />\n",
       "<rect width=\".81\" height=\".81\" x=\"5\" y=\"22\" fill=\"#000000\" />\n",
       "<rect width=\".81\" height=\".81\" x=\"6\" y=\"22\" fill=\"#000000\" />\n",
       "<rect width=\".81\" height=\".81\" x=\"7\" y=\"22\" fill=\"#000000\" />\n",
       "<rect width=\".81\" height=\".81\" x=\"8\" y=\"22\" fill=\"#000000\" />\n",
       "<rect width=\".81\" height=\".81\" x=\"9\" y=\"22\" fill=\"#000000\" />\n",
       "<rect width=\".81\" height=\".81\" x=\"10\" y=\"22\" fill=\"#000000\" />\n",
       "<rect width=\".81\" height=\".81\" x=\"11\" y=\"22\" fill=\"#000000\" />\n",
       "<rect width=\".81\" height=\".81\" x=\"12\" y=\"22\" fill=\"#000000\" />\n",
       "<rect width=\".81\" height=\".81\" x=\"13\" y=\"22\" fill=\"#0D0D0D\" />\n",
       "<rect width=\".81\" height=\".81\" x=\"14\" y=\"22\" fill=\"#787878\" />\n",
       "<rect width=\".81\" height=\".81\" x=\"15\" y=\"22\" fill=\"#BEBEBE\" />\n",
       "<rect width=\".81\" height=\".81\" x=\"16\" y=\"22\" fill=\"#B7B7B7\" />\n",
       "<rect width=\".81\" height=\".81\" x=\"17\" y=\"22\" fill=\"#C4C4C4\" />\n",
       "<rect width=\".81\" height=\".81\" x=\"18\" y=\"22\" fill=\"#787878\" />\n",
       "<rect width=\".81\" height=\".81\" x=\"19\" y=\"22\" fill=\"#131313\" />\n",
       "<rect width=\".81\" height=\".81\" x=\"20\" y=\"22\" fill=\"#000000\" />\n",
       "<rect width=\".81\" height=\".81\" x=\"21\" y=\"22\" fill=\"#000000\" />\n",
       "<rect width=\".81\" height=\".81\" x=\"22\" y=\"22\" fill=\"#000000\" />\n",
       "<rect width=\".81\" height=\".81\" x=\"23\" y=\"22\" fill=\"#000000\" />\n",
       "<rect width=\".81\" height=\".81\" x=\"24\" y=\"22\" fill=\"#000000\" />\n",
       "<rect width=\".81\" height=\".81\" x=\"25\" y=\"22\" fill=\"#000000\" />\n",
       "<rect width=\".81\" height=\".81\" x=\"26\" y=\"22\" fill=\"#000000\" />\n",
       "<rect width=\".81\" height=\".81\" x=\"27\" y=\"22\" fill=\"#000000\" />\n",
       "<rect width=\".81\" height=\".81\" x=\"0\" y=\"23\" fill=\"#000000\" />\n",
       "<rect width=\".81\" height=\".81\" x=\"1\" y=\"23\" fill=\"#000000\" />\n",
       "<rect width=\".81\" height=\".81\" x=\"2\" y=\"23\" fill=\"#000000\" />\n",
       "<rect width=\".81\" height=\".81\" x=\"3\" y=\"23\" fill=\"#000000\" />\n",
       "<rect width=\".81\" height=\".81\" x=\"4\" y=\"23\" fill=\"#000000\" />\n",
       "<rect width=\".81\" height=\".81\" x=\"5\" y=\"23\" fill=\"#000000\" />\n",
       "<rect width=\".81\" height=\".81\" x=\"6\" y=\"23\" fill=\"#000000\" />\n",
       "<rect width=\".81\" height=\".81\" x=\"7\" y=\"23\" fill=\"#000000\" />\n",
       "<rect width=\".81\" height=\".81\" x=\"8\" y=\"23\" fill=\"#000000\" />\n",
       "<rect width=\".81\" height=\".81\" x=\"9\" y=\"23\" fill=\"#000000\" />\n",
       "<rect width=\".81\" height=\".81\" x=\"10\" y=\"23\" fill=\"#000000\" />\n",
       "<rect width=\".81\" height=\".81\" x=\"11\" y=\"23\" fill=\"#000000\" />\n",
       "<rect width=\".81\" height=\".81\" x=\"12\" y=\"23\" fill=\"#000000\" />\n",
       "<rect width=\".81\" height=\".81\" x=\"13\" y=\"23\" fill=\"#000000\" />\n",
       "<rect width=\".81\" height=\".81\" x=\"14\" y=\"23\" fill=\"#000000\" />\n",
       "<rect width=\".81\" height=\".81\" x=\"15\" y=\"23\" fill=\"#000000\" />\n",
       "<rect width=\".81\" height=\".81\" x=\"16\" y=\"23\" fill=\"#000000\" />\n",
       "<rect width=\".81\" height=\".81\" x=\"17\" y=\"23\" fill=\"#000000\" />\n",
       "<rect width=\".81\" height=\".81\" x=\"18\" y=\"23\" fill=\"#000000\" />\n",
       "<rect width=\".81\" height=\".81\" x=\"19\" y=\"23\" fill=\"#000000\" />\n",
       "<rect width=\".81\" height=\".81\" x=\"20\" y=\"23\" fill=\"#000000\" />\n",
       "<rect width=\".81\" height=\".81\" x=\"21\" y=\"23\" fill=\"#000000\" />\n",
       "<rect width=\".81\" height=\".81\" x=\"22\" y=\"23\" fill=\"#000000\" />\n",
       "<rect width=\".81\" height=\".81\" x=\"23\" y=\"23\" fill=\"#000000\" />\n",
       "<rect width=\".81\" height=\".81\" x=\"24\" y=\"23\" fill=\"#000000\" />\n",
       "<rect width=\".81\" height=\".81\" x=\"25\" y=\"23\" fill=\"#000000\" />\n",
       "<rect width=\".81\" height=\".81\" x=\"26\" y=\"23\" fill=\"#000000\" />\n",
       "<rect width=\".81\" height=\".81\" x=\"27\" y=\"23\" fill=\"#000000\" />\n",
       "<rect width=\".81\" height=\".81\" x=\"0\" y=\"24\" fill=\"#000000\" />\n",
       "<rect width=\".81\" height=\".81\" x=\"1\" y=\"24\" fill=\"#000000\" />\n",
       "<rect width=\".81\" height=\".81\" x=\"2\" y=\"24\" fill=\"#000000\" />\n",
       "<rect width=\".81\" height=\".81\" x=\"3\" y=\"24\" fill=\"#000000\" />\n",
       "<rect width=\".81\" height=\".81\" x=\"4\" y=\"24\" fill=\"#000000\" />\n",
       "<rect width=\".81\" height=\".81\" x=\"5\" y=\"24\" fill=\"#000000\" />\n",
       "<rect width=\".81\" height=\".81\" x=\"6\" y=\"24\" fill=\"#000000\" />\n",
       "<rect width=\".81\" height=\".81\" x=\"7\" y=\"24\" fill=\"#000000\" />\n",
       "<rect width=\".81\" height=\".81\" x=\"8\" y=\"24\" fill=\"#000000\" />\n",
       "<rect width=\".81\" height=\".81\" x=\"9\" y=\"24\" fill=\"#000000\" />\n",
       "<rect width=\".81\" height=\".81\" x=\"10\" y=\"24\" fill=\"#000000\" />\n",
       "<rect width=\".81\" height=\".81\" x=\"11\" y=\"24\" fill=\"#000000\" />\n",
       "<rect width=\".81\" height=\".81\" x=\"12\" y=\"24\" fill=\"#000000\" />\n",
       "<rect width=\".81\" height=\".81\" x=\"13\" y=\"24\" fill=\"#000000\" />\n",
       "<rect width=\".81\" height=\".81\" x=\"14\" y=\"24\" fill=\"#000000\" />\n",
       "<rect width=\".81\" height=\".81\" x=\"15\" y=\"24\" fill=\"#000000\" />\n",
       "<rect width=\".81\" height=\".81\" x=\"16\" y=\"24\" fill=\"#000000\" />\n",
       "<rect width=\".81\" height=\".81\" x=\"17\" y=\"24\" fill=\"#000000\" />\n",
       "<rect width=\".81\" height=\".81\" x=\"18\" y=\"24\" fill=\"#000000\" />\n",
       "<rect width=\".81\" height=\".81\" x=\"19\" y=\"24\" fill=\"#000000\" />\n",
       "<rect width=\".81\" height=\".81\" x=\"20\" y=\"24\" fill=\"#000000\" />\n",
       "<rect width=\".81\" height=\".81\" x=\"21\" y=\"24\" fill=\"#000000\" />\n",
       "<rect width=\".81\" height=\".81\" x=\"22\" y=\"24\" fill=\"#000000\" />\n",
       "<rect width=\".81\" height=\".81\" x=\"23\" y=\"24\" fill=\"#000000\" />\n",
       "<rect width=\".81\" height=\".81\" x=\"24\" y=\"24\" fill=\"#000000\" />\n",
       "<rect width=\".81\" height=\".81\" x=\"25\" y=\"24\" fill=\"#000000\" />\n",
       "<rect width=\".81\" height=\".81\" x=\"26\" y=\"24\" fill=\"#000000\" />\n",
       "<rect width=\".81\" height=\".81\" x=\"27\" y=\"24\" fill=\"#000000\" />\n",
       "<rect width=\".81\" height=\".81\" x=\"0\" y=\"25\" fill=\"#000000\" />\n",
       "<rect width=\".81\" height=\".81\" x=\"1\" y=\"25\" fill=\"#000000\" />\n",
       "<rect width=\".81\" height=\".81\" x=\"2\" y=\"25\" fill=\"#000000\" />\n",
       "<rect width=\".81\" height=\".81\" x=\"3\" y=\"25\" fill=\"#000000\" />\n",
       "<rect width=\".81\" height=\".81\" x=\"4\" y=\"25\" fill=\"#000000\" />\n",
       "<rect width=\".81\" height=\".81\" x=\"5\" y=\"25\" fill=\"#000000\" />\n",
       "<rect width=\".81\" height=\".81\" x=\"6\" y=\"25\" fill=\"#000000\" />\n",
       "<rect width=\".81\" height=\".81\" x=\"7\" y=\"25\" fill=\"#000000\" />\n",
       "<rect width=\".81\" height=\".81\" x=\"8\" y=\"25\" fill=\"#000000\" />\n",
       "<rect width=\".81\" height=\".81\" x=\"9\" y=\"25\" fill=\"#000000\" />\n",
       "<rect width=\".81\" height=\".81\" x=\"10\" y=\"25\" fill=\"#000000\" />\n",
       "<rect width=\".81\" height=\".81\" x=\"11\" y=\"25\" fill=\"#000000\" />\n",
       "<rect width=\".81\" height=\".81\" x=\"12\" y=\"25\" fill=\"#000000\" />\n",
       "<rect width=\".81\" height=\".81\" x=\"13\" y=\"25\" fill=\"#000000\" />\n",
       "<rect width=\".81\" height=\".81\" x=\"14\" y=\"25\" fill=\"#000000\" />\n",
       "<rect width=\".81\" height=\".81\" x=\"15\" y=\"25\" fill=\"#000000\" />\n",
       "<rect width=\".81\" height=\".81\" x=\"16\" y=\"25\" fill=\"#000000\" />\n",
       "<rect width=\".81\" height=\".81\" x=\"17\" y=\"25\" fill=\"#000000\" />\n",
       "<rect width=\".81\" height=\".81\" x=\"18\" y=\"25\" fill=\"#000000\" />\n",
       "<rect width=\".81\" height=\".81\" x=\"19\" y=\"25\" fill=\"#000000\" />\n",
       "<rect width=\".81\" height=\".81\" x=\"20\" y=\"25\" fill=\"#000000\" />\n",
       "<rect width=\".81\" height=\".81\" x=\"21\" y=\"25\" fill=\"#000000\" />\n",
       "<rect width=\".81\" height=\".81\" x=\"22\" y=\"25\" fill=\"#000000\" />\n",
       "<rect width=\".81\" height=\".81\" x=\"23\" y=\"25\" fill=\"#000000\" />\n",
       "<rect width=\".81\" height=\".81\" x=\"24\" y=\"25\" fill=\"#000000\" />\n",
       "<rect width=\".81\" height=\".81\" x=\"25\" y=\"25\" fill=\"#000000\" />\n",
       "<rect width=\".81\" height=\".81\" x=\"26\" y=\"25\" fill=\"#000000\" />\n",
       "<rect width=\".81\" height=\".81\" x=\"27\" y=\"25\" fill=\"#000000\" />\n",
       "<rect width=\".81\" height=\".81\" x=\"0\" y=\"26\" fill=\"#000000\" />\n",
       "<rect width=\".81\" height=\".81\" x=\"1\" y=\"26\" fill=\"#000000\" />\n",
       "<rect width=\".81\" height=\".81\" x=\"2\" y=\"26\" fill=\"#000000\" />\n",
       "<rect width=\".81\" height=\".81\" x=\"3\" y=\"26\" fill=\"#000000\" />\n",
       "<rect width=\".81\" height=\".81\" x=\"4\" y=\"26\" fill=\"#000000\" />\n",
       "<rect width=\".81\" height=\".81\" x=\"5\" y=\"26\" fill=\"#000000\" />\n",
       "<rect width=\".81\" height=\".81\" x=\"6\" y=\"26\" fill=\"#000000\" />\n",
       "<rect width=\".81\" height=\".81\" x=\"7\" y=\"26\" fill=\"#000000\" />\n",
       "<rect width=\".81\" height=\".81\" x=\"8\" y=\"26\" fill=\"#000000\" />\n",
       "<rect width=\".81\" height=\".81\" x=\"9\" y=\"26\" fill=\"#000000\" />\n",
       "<rect width=\".81\" height=\".81\" x=\"10\" y=\"26\" fill=\"#000000\" />\n",
       "<rect width=\".81\" height=\".81\" x=\"11\" y=\"26\" fill=\"#000000\" />\n",
       "<rect width=\".81\" height=\".81\" x=\"12\" y=\"26\" fill=\"#000000\" />\n",
       "<rect width=\".81\" height=\".81\" x=\"13\" y=\"26\" fill=\"#000000\" />\n",
       "<rect width=\".81\" height=\".81\" x=\"14\" y=\"26\" fill=\"#000000\" />\n",
       "<rect width=\".81\" height=\".81\" x=\"15\" y=\"26\" fill=\"#000000\" />\n",
       "<rect width=\".81\" height=\".81\" x=\"16\" y=\"26\" fill=\"#000000\" />\n",
       "<rect width=\".81\" height=\".81\" x=\"17\" y=\"26\" fill=\"#000000\" />\n",
       "<rect width=\".81\" height=\".81\" x=\"18\" y=\"26\" fill=\"#000000\" />\n",
       "<rect width=\".81\" height=\".81\" x=\"19\" y=\"26\" fill=\"#000000\" />\n",
       "<rect width=\".81\" height=\".81\" x=\"20\" y=\"26\" fill=\"#000000\" />\n",
       "<rect width=\".81\" height=\".81\" x=\"21\" y=\"26\" fill=\"#000000\" />\n",
       "<rect width=\".81\" height=\".81\" x=\"22\" y=\"26\" fill=\"#000000\" />\n",
       "<rect width=\".81\" height=\".81\" x=\"23\" y=\"26\" fill=\"#000000\" />\n",
       "<rect width=\".81\" height=\".81\" x=\"24\" y=\"26\" fill=\"#000000\" />\n",
       "<rect width=\".81\" height=\".81\" x=\"25\" y=\"26\" fill=\"#000000\" />\n",
       "<rect width=\".81\" height=\".81\" x=\"26\" y=\"26\" fill=\"#000000\" />\n",
       "<rect width=\".81\" height=\".81\" x=\"27\" y=\"26\" fill=\"#000000\" />\n",
       "<rect width=\".81\" height=\".81\" x=\"0\" y=\"27\" fill=\"#000000\" />\n",
       "<rect width=\".81\" height=\".81\" x=\"1\" y=\"27\" fill=\"#000000\" />\n",
       "<rect width=\".81\" height=\".81\" x=\"2\" y=\"27\" fill=\"#000000\" />\n",
       "<rect width=\".81\" height=\".81\" x=\"3\" y=\"27\" fill=\"#000000\" />\n",
       "<rect width=\".81\" height=\".81\" x=\"4\" y=\"27\" fill=\"#000000\" />\n",
       "<rect width=\".81\" height=\".81\" x=\"5\" y=\"27\" fill=\"#000000\" />\n",
       "<rect width=\".81\" height=\".81\" x=\"6\" y=\"27\" fill=\"#000000\" />\n",
       "<rect width=\".81\" height=\".81\" x=\"7\" y=\"27\" fill=\"#000000\" />\n",
       "<rect width=\".81\" height=\".81\" x=\"8\" y=\"27\" fill=\"#000000\" />\n",
       "<rect width=\".81\" height=\".81\" x=\"9\" y=\"27\" fill=\"#000000\" />\n",
       "<rect width=\".81\" height=\".81\" x=\"10\" y=\"27\" fill=\"#000000\" />\n",
       "<rect width=\".81\" height=\".81\" x=\"11\" y=\"27\" fill=\"#000000\" />\n",
       "<rect width=\".81\" height=\".81\" x=\"12\" y=\"27\" fill=\"#000000\" />\n",
       "<rect width=\".81\" height=\".81\" x=\"13\" y=\"27\" fill=\"#000000\" />\n",
       "<rect width=\".81\" height=\".81\" x=\"14\" y=\"27\" fill=\"#000000\" />\n",
       "<rect width=\".81\" height=\".81\" x=\"15\" y=\"27\" fill=\"#000000\" />\n",
       "<rect width=\".81\" height=\".81\" x=\"16\" y=\"27\" fill=\"#000000\" />\n",
       "<rect width=\".81\" height=\".81\" x=\"17\" y=\"27\" fill=\"#000000\" />\n",
       "<rect width=\".81\" height=\".81\" x=\"18\" y=\"27\" fill=\"#000000\" />\n",
       "<rect width=\".81\" height=\".81\" x=\"19\" y=\"27\" fill=\"#000000\" />\n",
       "<rect width=\".81\" height=\".81\" x=\"20\" y=\"27\" fill=\"#000000\" />\n",
       "<rect width=\".81\" height=\".81\" x=\"21\" y=\"27\" fill=\"#000000\" />\n",
       "<rect width=\".81\" height=\".81\" x=\"22\" y=\"27\" fill=\"#000000\" />\n",
       "<rect width=\".81\" height=\".81\" x=\"23\" y=\"27\" fill=\"#000000\" />\n",
       "<rect width=\".81\" height=\".81\" x=\"24\" y=\"27\" fill=\"#000000\" />\n",
       "<rect width=\".81\" height=\".81\" x=\"25\" y=\"27\" fill=\"#000000\" />\n",
       "<rect width=\".81\" height=\".81\" x=\"26\" y=\"27\" fill=\"#000000\" />\n",
       "<rect width=\".81\" height=\".81\" x=\"27\" y=\"27\" fill=\"#000000\" />\n",
       "</svg>"
      ],
      "text/plain": [
       "28×28 Array{Gray{N0f8},2} with eltype ColorTypes.Gray{FixedPointNumbers.N0f8}:\n",
       " Gray{N0f8}(0.0)  Gray{N0f8}(0.0)  …  Gray{N0f8}(0.0)  Gray{N0f8}(0.0)\n",
       " Gray{N0f8}(0.0)  Gray{N0f8}(0.0)     Gray{N0f8}(0.0)  Gray{N0f8}(0.0)\n",
       " Gray{N0f8}(0.0)  Gray{N0f8}(0.0)     Gray{N0f8}(0.0)  Gray{N0f8}(0.0)\n",
       " Gray{N0f8}(0.0)  Gray{N0f8}(0.0)     Gray{N0f8}(0.0)  Gray{N0f8}(0.0)\n",
       " Gray{N0f8}(0.0)  Gray{N0f8}(0.0)     Gray{N0f8}(0.0)  Gray{N0f8}(0.0)\n",
       " Gray{N0f8}(0.0)  Gray{N0f8}(0.0)  …  Gray{N0f8}(0.0)  Gray{N0f8}(0.0)\n",
       " Gray{N0f8}(0.0)  Gray{N0f8}(0.0)     Gray{N0f8}(0.0)  Gray{N0f8}(0.0)\n",
       " Gray{N0f8}(0.0)  Gray{N0f8}(0.0)     Gray{N0f8}(0.0)  Gray{N0f8}(0.0)\n",
       " Gray{N0f8}(0.0)  Gray{N0f8}(0.0)     Gray{N0f8}(0.0)  Gray{N0f8}(0.0)\n",
       " Gray{N0f8}(0.0)  Gray{N0f8}(0.0)     Gray{N0f8}(0.0)  Gray{N0f8}(0.0)\n",
       " Gray{N0f8}(0.0)  Gray{N0f8}(0.0)  …  Gray{N0f8}(0.0)  Gray{N0f8}(0.0)\n",
       " Gray{N0f8}(0.0)  Gray{N0f8}(0.0)     Gray{N0f8}(0.0)  Gray{N0f8}(0.0)\n",
       " Gray{N0f8}(0.0)  Gray{N0f8}(0.0)     Gray{N0f8}(0.0)  Gray{N0f8}(0.0)\n",
       " ⋮                                 ⋱                   \n",
       " Gray{N0f8}(0.0)  Gray{N0f8}(0.0)     Gray{N0f8}(0.0)  Gray{N0f8}(0.0)\n",
       " Gray{N0f8}(0.0)  Gray{N0f8}(0.0)     Gray{N0f8}(0.0)  Gray{N0f8}(0.0)\n",
       " Gray{N0f8}(0.0)  Gray{N0f8}(0.0)     Gray{N0f8}(0.0)  Gray{N0f8}(0.0)\n",
       " Gray{N0f8}(0.0)  Gray{N0f8}(0.0)     Gray{N0f8}(0.0)  Gray{N0f8}(0.0)\n",
       " Gray{N0f8}(0.0)  Gray{N0f8}(0.0)  …  Gray{N0f8}(0.0)  Gray{N0f8}(0.0)\n",
       " Gray{N0f8}(0.0)  Gray{N0f8}(0.0)     Gray{N0f8}(0.0)  Gray{N0f8}(0.0)\n",
       " Gray{N0f8}(0.0)  Gray{N0f8}(0.0)     Gray{N0f8}(0.0)  Gray{N0f8}(0.0)\n",
       " Gray{N0f8}(0.0)  Gray{N0f8}(0.0)     Gray{N0f8}(0.0)  Gray{N0f8}(0.0)\n",
       " Gray{N0f8}(0.0)  Gray{N0f8}(0.0)     Gray{N0f8}(0.0)  Gray{N0f8}(0.0)\n",
       " Gray{N0f8}(0.0)  Gray{N0f8}(0.0)  …  Gray{N0f8}(0.0)  Gray{N0f8}(0.0)\n",
       " Gray{N0f8}(0.0)  Gray{N0f8}(0.0)     Gray{N0f8}(0.0)  Gray{N0f8}(0.0)\n",
       " Gray{N0f8}(0.0)  Gray{N0f8}(0.0)     Gray{N0f8}(0.0)  Gray{N0f8}(0.0)"
      ]
     },
     "execution_count": 77,
     "metadata": {},
     "output_type": "execute_result"
    }
   ],
   "source": [
    "x=rand(1:100)\n",
    "(images[x])"
   ]
  },
  {
   "cell_type": "code",
   "execution_count": 78,
   "id": "5748bcff-f132-47c5-81fe-178e2d90a12b",
   "metadata": {},
   "outputs": [
    {
     "data": {
      "image/svg+xml": [
       "<?xml version=\"1.0\" encoding=\"UTF-8\"?>\n",
       "<!DOCTYPE svg PUBLIC \"-//W3C//DTD SVG 1.1//EN\"\n",
       " \"http://www.w3.org/Graphics/SVG/1.1/DTD/svg11.dtd\">\n",
       "<svg xmlns=\"http://www.w3.org/2000/svg\" version=\"1.1\"\n",
       "     width=\"150mm\" height=\"150mm\"\n",
       "     viewBox=\"0 0 28 28\" preserveAspectRatio=\"none\"\n",
       "     shape-rendering=\"crispEdges\" stroke=\"none\">\n",
       "<rect width=\".81\" height=\".81\" x=\"0\" y=\"0\" fill=\"#000000\" />\n",
       "<rect width=\".81\" height=\".81\" x=\"1\" y=\"0\" fill=\"#000000\" />\n",
       "<rect width=\".81\" height=\".81\" x=\"2\" y=\"0\" fill=\"#000000\" />\n",
       "<rect width=\".81\" height=\".81\" x=\"3\" y=\"0\" fill=\"#000000\" />\n",
       "<rect width=\".81\" height=\".81\" x=\"4\" y=\"0\" fill=\"#000000\" />\n",
       "<rect width=\".81\" height=\".81\" x=\"5\" y=\"0\" fill=\"#000000\" />\n",
       "<rect width=\".81\" height=\".81\" x=\"6\" y=\"0\" fill=\"#000000\" />\n",
       "<rect width=\".81\" height=\".81\" x=\"7\" y=\"0\" fill=\"#000000\" />\n",
       "<rect width=\".81\" height=\".81\" x=\"8\" y=\"0\" fill=\"#000000\" />\n",
       "<rect width=\".81\" height=\".81\" x=\"9\" y=\"0\" fill=\"#000000\" />\n",
       "<rect width=\".81\" height=\".81\" x=\"10\" y=\"0\" fill=\"#000000\" />\n",
       "<rect width=\".81\" height=\".81\" x=\"11\" y=\"0\" fill=\"#000000\" />\n",
       "<rect width=\".81\" height=\".81\" x=\"12\" y=\"0\" fill=\"#000000\" />\n",
       "<rect width=\".81\" height=\".81\" x=\"13\" y=\"0\" fill=\"#000000\" />\n",
       "<rect width=\".81\" height=\".81\" x=\"14\" y=\"0\" fill=\"#000000\" />\n",
       "<rect width=\".81\" height=\".81\" x=\"15\" y=\"0\" fill=\"#000000\" />\n",
       "<rect width=\".81\" height=\".81\" x=\"16\" y=\"0\" fill=\"#000000\" />\n",
       "<rect width=\".81\" height=\".81\" x=\"17\" y=\"0\" fill=\"#000000\" />\n",
       "<rect width=\".81\" height=\".81\" x=\"18\" y=\"0\" fill=\"#000000\" />\n",
       "<rect width=\".81\" height=\".81\" x=\"19\" y=\"0\" fill=\"#000000\" />\n",
       "<rect width=\".81\" height=\".81\" x=\"20\" y=\"0\" fill=\"#000000\" />\n",
       "<rect width=\".81\" height=\".81\" x=\"21\" y=\"0\" fill=\"#000000\" />\n",
       "<rect width=\".81\" height=\".81\" x=\"22\" y=\"0\" fill=\"#000000\" />\n",
       "<rect width=\".81\" height=\".81\" x=\"23\" y=\"0\" fill=\"#000000\" />\n",
       "<rect width=\".81\" height=\".81\" x=\"24\" y=\"0\" fill=\"#000000\" />\n",
       "<rect width=\".81\" height=\".81\" x=\"25\" y=\"0\" fill=\"#000000\" />\n",
       "<rect width=\".81\" height=\".81\" x=\"26\" y=\"0\" fill=\"#000000\" />\n",
       "<rect width=\".81\" height=\".81\" x=\"27\" y=\"0\" fill=\"#000000\" />\n",
       "<rect width=\".81\" height=\".81\" x=\"0\" y=\"1\" fill=\"#000000\" />\n",
       "<rect width=\".81\" height=\".81\" x=\"1\" y=\"1\" fill=\"#000000\" />\n",
       "<rect width=\".81\" height=\".81\" x=\"2\" y=\"1\" fill=\"#000000\" />\n",
       "<rect width=\".81\" height=\".81\" x=\"3\" y=\"1\" fill=\"#000000\" />\n",
       "<rect width=\".81\" height=\".81\" x=\"4\" y=\"1\" fill=\"#000000\" />\n",
       "<rect width=\".81\" height=\".81\" x=\"5\" y=\"1\" fill=\"#000000\" />\n",
       "<rect width=\".81\" height=\".81\" x=\"6\" y=\"1\" fill=\"#000000\" />\n",
       "<rect width=\".81\" height=\".81\" x=\"7\" y=\"1\" fill=\"#000000\" />\n",
       "<rect width=\".81\" height=\".81\" x=\"8\" y=\"1\" fill=\"#000000\" />\n",
       "<rect width=\".81\" height=\".81\" x=\"9\" y=\"1\" fill=\"#000000\" />\n",
       "<rect width=\".81\" height=\".81\" x=\"10\" y=\"1\" fill=\"#000000\" />\n",
       "<rect width=\".81\" height=\".81\" x=\"11\" y=\"1\" fill=\"#000000\" />\n",
       "<rect width=\".81\" height=\".81\" x=\"12\" y=\"1\" fill=\"#000000\" />\n",
       "<rect width=\".81\" height=\".81\" x=\"13\" y=\"1\" fill=\"#000000\" />\n",
       "<rect width=\".81\" height=\".81\" x=\"14\" y=\"1\" fill=\"#000000\" />\n",
       "<rect width=\".81\" height=\".81\" x=\"15\" y=\"1\" fill=\"#000000\" />\n",
       "<rect width=\".81\" height=\".81\" x=\"16\" y=\"1\" fill=\"#000000\" />\n",
       "<rect width=\".81\" height=\".81\" x=\"17\" y=\"1\" fill=\"#000000\" />\n",
       "<rect width=\".81\" height=\".81\" x=\"18\" y=\"1\" fill=\"#000000\" />\n",
       "<rect width=\".81\" height=\".81\" x=\"19\" y=\"1\" fill=\"#000000\" />\n",
       "<rect width=\".81\" height=\".81\" x=\"20\" y=\"1\" fill=\"#000000\" />\n",
       "<rect width=\".81\" height=\".81\" x=\"21\" y=\"1\" fill=\"#000000\" />\n",
       "<rect width=\".81\" height=\".81\" x=\"22\" y=\"1\" fill=\"#000000\" />\n",
       "<rect width=\".81\" height=\".81\" x=\"23\" y=\"1\" fill=\"#000000\" />\n",
       "<rect width=\".81\" height=\".81\" x=\"24\" y=\"1\" fill=\"#000000\" />\n",
       "<rect width=\".81\" height=\".81\" x=\"25\" y=\"1\" fill=\"#000000\" />\n",
       "<rect width=\".81\" height=\".81\" x=\"26\" y=\"1\" fill=\"#000000\" />\n",
       "<rect width=\".81\" height=\".81\" x=\"27\" y=\"1\" fill=\"#000000\" />\n",
       "<rect width=\".81\" height=\".81\" x=\"0\" y=\"2\" fill=\"#000000\" />\n",
       "<rect width=\".81\" height=\".81\" x=\"1\" y=\"2\" fill=\"#000000\" />\n",
       "<rect width=\".81\" height=\".81\" x=\"2\" y=\"2\" fill=\"#000000\" />\n",
       "<rect width=\".81\" height=\".81\" x=\"3\" y=\"2\" fill=\"#000000\" />\n",
       "<rect width=\".81\" height=\".81\" x=\"4\" y=\"2\" fill=\"#000000\" />\n",
       "<rect width=\".81\" height=\".81\" x=\"5\" y=\"2\" fill=\"#000000\" />\n",
       "<rect width=\".81\" height=\".81\" x=\"6\" y=\"2\" fill=\"#000000\" />\n",
       "<rect width=\".81\" height=\".81\" x=\"7\" y=\"2\" fill=\"#000000\" />\n",
       "<rect width=\".81\" height=\".81\" x=\"8\" y=\"2\" fill=\"#000000\" />\n",
       "<rect width=\".81\" height=\".81\" x=\"9\" y=\"2\" fill=\"#000000\" />\n",
       "<rect width=\".81\" height=\".81\" x=\"10\" y=\"2\" fill=\"#000000\" />\n",
       "<rect width=\".81\" height=\".81\" x=\"11\" y=\"2\" fill=\"#000000\" />\n",
       "<rect width=\".81\" height=\".81\" x=\"12\" y=\"2\" fill=\"#000000\" />\n",
       "<rect width=\".81\" height=\".81\" x=\"13\" y=\"2\" fill=\"#000000\" />\n",
       "<rect width=\".81\" height=\".81\" x=\"14\" y=\"2\" fill=\"#000000\" />\n",
       "<rect width=\".81\" height=\".81\" x=\"15\" y=\"2\" fill=\"#000000\" />\n",
       "<rect width=\".81\" height=\".81\" x=\"16\" y=\"2\" fill=\"#000000\" />\n",
       "<rect width=\".81\" height=\".81\" x=\"17\" y=\"2\" fill=\"#000000\" />\n",
       "<rect width=\".81\" height=\".81\" x=\"18\" y=\"2\" fill=\"#000000\" />\n",
       "<rect width=\".81\" height=\".81\" x=\"19\" y=\"2\" fill=\"#000000\" />\n",
       "<rect width=\".81\" height=\".81\" x=\"20\" y=\"2\" fill=\"#000000\" />\n",
       "<rect width=\".81\" height=\".81\" x=\"21\" y=\"2\" fill=\"#000000\" />\n",
       "<rect width=\".81\" height=\".81\" x=\"22\" y=\"2\" fill=\"#000000\" />\n",
       "<rect width=\".81\" height=\".81\" x=\"23\" y=\"2\" fill=\"#000000\" />\n",
       "<rect width=\".81\" height=\".81\" x=\"24\" y=\"2\" fill=\"#000000\" />\n",
       "<rect width=\".81\" height=\".81\" x=\"25\" y=\"2\" fill=\"#000000\" />\n",
       "<rect width=\".81\" height=\".81\" x=\"26\" y=\"2\" fill=\"#000000\" />\n",
       "<rect width=\".81\" height=\".81\" x=\"27\" y=\"2\" fill=\"#000000\" />\n",
       "<rect width=\".81\" height=\".81\" x=\"0\" y=\"3\" fill=\"#000000\" />\n",
       "<rect width=\".81\" height=\".81\" x=\"1\" y=\"3\" fill=\"#000000\" />\n",
       "<rect width=\".81\" height=\".81\" x=\"2\" y=\"3\" fill=\"#000000\" />\n",
       "<rect width=\".81\" height=\".81\" x=\"3\" y=\"3\" fill=\"#000000\" />\n",
       "<rect width=\".81\" height=\".81\" x=\"4\" y=\"3\" fill=\"#000000\" />\n",
       "<rect width=\".81\" height=\".81\" x=\"5\" y=\"3\" fill=\"#000000\" />\n",
       "<rect width=\".81\" height=\".81\" x=\"6\" y=\"3\" fill=\"#000000\" />\n",
       "<rect width=\".81\" height=\".81\" x=\"7\" y=\"3\" fill=\"#000000\" />\n",
       "<rect width=\".81\" height=\".81\" x=\"8\" y=\"3\" fill=\"#000000\" />\n",
       "<rect width=\".81\" height=\".81\" x=\"9\" y=\"3\" fill=\"#000000\" />\n",
       "<rect width=\".81\" height=\".81\" x=\"10\" y=\"3\" fill=\"#000000\" />\n",
       "<rect width=\".81\" height=\".81\" x=\"11\" y=\"3\" fill=\"#000000\" />\n",
       "<rect width=\".81\" height=\".81\" x=\"12\" y=\"3\" fill=\"#000000\" />\n",
       "<rect width=\".81\" height=\".81\" x=\"13\" y=\"3\" fill=\"#000000\" />\n",
       "<rect width=\".81\" height=\".81\" x=\"14\" y=\"3\" fill=\"#000000\" />\n",
       "<rect width=\".81\" height=\".81\" x=\"15\" y=\"3\" fill=\"#000000\" />\n",
       "<rect width=\".81\" height=\".81\" x=\"16\" y=\"3\" fill=\"#000000\" />\n",
       "<rect width=\".81\" height=\".81\" x=\"17\" y=\"3\" fill=\"#000000\" />\n",
       "<rect width=\".81\" height=\".81\" x=\"18\" y=\"3\" fill=\"#000000\" />\n",
       "<rect width=\".81\" height=\".81\" x=\"19\" y=\"3\" fill=\"#000000\" />\n",
       "<rect width=\".81\" height=\".81\" x=\"20\" y=\"3\" fill=\"#000000\" />\n",
       "<rect width=\".81\" height=\".81\" x=\"21\" y=\"3\" fill=\"#000000\" />\n",
       "<rect width=\".81\" height=\".81\" x=\"22\" y=\"3\" fill=\"#000000\" />\n",
       "<rect width=\".81\" height=\".81\" x=\"23\" y=\"3\" fill=\"#000000\" />\n",
       "<rect width=\".81\" height=\".81\" x=\"24\" y=\"3\" fill=\"#000000\" />\n",
       "<rect width=\".81\" height=\".81\" x=\"25\" y=\"3\" fill=\"#000000\" />\n",
       "<rect width=\".81\" height=\".81\" x=\"26\" y=\"3\" fill=\"#000000\" />\n",
       "<rect width=\".81\" height=\".81\" x=\"27\" y=\"3\" fill=\"#000000\" />\n",
       "<rect width=\".81\" height=\".81\" x=\"0\" y=\"4\" fill=\"#000000\" />\n",
       "<rect width=\".81\" height=\".81\" x=\"1\" y=\"4\" fill=\"#000000\" />\n",
       "<rect width=\".81\" height=\".81\" x=\"2\" y=\"4\" fill=\"#000000\" />\n",
       "<rect width=\".81\" height=\".81\" x=\"3\" y=\"4\" fill=\"#000000\" />\n",
       "<rect width=\".81\" height=\".81\" x=\"4\" y=\"4\" fill=\"#000000\" />\n",
       "<rect width=\".81\" height=\".81\" x=\"5\" y=\"4\" fill=\"#000000\" />\n",
       "<rect width=\".81\" height=\".81\" x=\"6\" y=\"4\" fill=\"#000000\" />\n",
       "<rect width=\".81\" height=\".81\" x=\"7\" y=\"4\" fill=\"#000000\" />\n",
       "<rect width=\".81\" height=\".81\" x=\"8\" y=\"4\" fill=\"#000000\" />\n",
       "<rect width=\".81\" height=\".81\" x=\"9\" y=\"4\" fill=\"#000000\" />\n",
       "<rect width=\".81\" height=\".81\" x=\"10\" y=\"4\" fill=\"#000000\" />\n",
       "<rect width=\".81\" height=\".81\" x=\"11\" y=\"4\" fill=\"#000000\" />\n",
       "<rect width=\".81\" height=\".81\" x=\"12\" y=\"4\" fill=\"#000000\" />\n",
       "<rect width=\".81\" height=\".81\" x=\"13\" y=\"4\" fill=\"#000000\" />\n",
       "<rect width=\".81\" height=\".81\" x=\"14\" y=\"4\" fill=\"#000000\" />\n",
       "<rect width=\".81\" height=\".81\" x=\"15\" y=\"4\" fill=\"#000000\" />\n",
       "<rect width=\".81\" height=\".81\" x=\"16\" y=\"4\" fill=\"#000000\" />\n",
       "<rect width=\".81\" height=\".81\" x=\"17\" y=\"4\" fill=\"#000000\" />\n",
       "<rect width=\".81\" height=\".81\" x=\"18\" y=\"4\" fill=\"#202020\" />\n",
       "<rect width=\".81\" height=\".81\" x=\"19\" y=\"4\" fill=\"#3B3B3B\" />\n",
       "<rect width=\".81\" height=\".81\" x=\"20\" y=\"4\" fill=\"#D9D9D9\" />\n",
       "<rect width=\".81\" height=\".81\" x=\"21\" y=\"4\" fill=\"#FEFEFE\" />\n",
       "<rect width=\".81\" height=\".81\" x=\"22\" y=\"4\" fill=\"#A8A8A8\" />\n",
       "<rect width=\".81\" height=\".81\" x=\"23\" y=\"4\" fill=\"#CCCCCC\" />\n",
       "<rect width=\".81\" height=\".81\" x=\"24\" y=\"4\" fill=\"#606060\" />\n",
       "<rect width=\".81\" height=\".81\" x=\"25\" y=\"4\" fill=\"#000000\" />\n",
       "<rect width=\".81\" height=\".81\" x=\"26\" y=\"4\" fill=\"#000000\" />\n",
       "<rect width=\".81\" height=\".81\" x=\"27\" y=\"4\" fill=\"#000000\" />\n",
       "<rect width=\".81\" height=\".81\" x=\"0\" y=\"5\" fill=\"#000000\" />\n",
       "<rect width=\".81\" height=\".81\" x=\"1\" y=\"5\" fill=\"#000000\" />\n",
       "<rect width=\".81\" height=\".81\" x=\"2\" y=\"5\" fill=\"#000000\" />\n",
       "<rect width=\".81\" height=\".81\" x=\"3\" y=\"5\" fill=\"#000000\" />\n",
       "<rect width=\".81\" height=\".81\" x=\"4\" y=\"5\" fill=\"#000000\" />\n",
       "<rect width=\".81\" height=\".81\" x=\"5\" y=\"5\" fill=\"#000000\" />\n",
       "<rect width=\".81\" height=\".81\" x=\"6\" y=\"5\" fill=\"#000000\" />\n",
       "<rect width=\".81\" height=\".81\" x=\"7\" y=\"5\" fill=\"#000000\" />\n",
       "<rect width=\".81\" height=\".81\" x=\"8\" y=\"5\" fill=\"#000000\" />\n",
       "<rect width=\".81\" height=\".81\" x=\"9\" y=\"5\" fill=\"#000000\" />\n",
       "<rect width=\".81\" height=\".81\" x=\"10\" y=\"5\" fill=\"#000000\" />\n",
       "<rect width=\".81\" height=\".81\" x=\"11\" y=\"5\" fill=\"#000000\" />\n",
       "<rect width=\".81\" height=\".81\" x=\"12\" y=\"5\" fill=\"#000000\" />\n",
       "<rect width=\".81\" height=\".81\" x=\"13\" y=\"5\" fill=\"#000000\" />\n",
       "<rect width=\".81\" height=\".81\" x=\"14\" y=\"5\" fill=\"#000000\" />\n",
       "<rect width=\".81\" height=\".81\" x=\"15\" y=\"5\" fill=\"#141414\" />\n",
       "<rect width=\".81\" height=\".81\" x=\"16\" y=\"5\" fill=\"#676767\" />\n",
       "<rect width=\".81\" height=\".81\" x=\"17\" y=\"5\" fill=\"#B9B9B9\" />\n",
       "<rect width=\".81\" height=\".81\" x=\"18\" y=\"5\" fill=\"#EBEBEB\" />\n",
       "<rect width=\".81\" height=\".81\" x=\"19\" y=\"5\" fill=\"#FDFDFD\" />\n",
       "<rect width=\".81\" height=\".81\" x=\"20\" y=\"5\" fill=\"#FEFEFE\" />\n",
       "<rect width=\".81\" height=\".81\" x=\"21\" y=\"5\" fill=\"#FDFDFD\" />\n",
       "<rect width=\".81\" height=\".81\" x=\"22\" y=\"5\" fill=\"#EBEBEB\" />\n",
       "<rect width=\".81\" height=\".81\" x=\"23\" y=\"5\" fill=\"#E6E6E6\" />\n",
       "<rect width=\".81\" height=\".81\" x=\"24\" y=\"5\" fill=\"#808080\" />\n",
       "<rect width=\".81\" height=\".81\" x=\"25\" y=\"5\" fill=\"#000000\" />\n",
       "<rect width=\".81\" height=\".81\" x=\"26\" y=\"5\" fill=\"#000000\" />\n",
       "<rect width=\".81\" height=\".81\" x=\"27\" y=\"5\" fill=\"#000000\" />\n",
       "<rect width=\".81\" height=\".81\" x=\"0\" y=\"6\" fill=\"#000000\" />\n",
       "<rect width=\".81\" height=\".81\" x=\"1\" y=\"6\" fill=\"#000000\" />\n",
       "<rect width=\".81\" height=\".81\" x=\"2\" y=\"6\" fill=\"#000000\" />\n",
       "<rect width=\".81\" height=\".81\" x=\"3\" y=\"6\" fill=\"#000000\" />\n",
       "<rect width=\".81\" height=\".81\" x=\"4\" y=\"6\" fill=\"#000000\" />\n",
       "<rect width=\".81\" height=\".81\" x=\"5\" y=\"6\" fill=\"#000000\" />\n",
       "<rect width=\".81\" height=\".81\" x=\"6\" y=\"6\" fill=\"#000000\" />\n",
       "<rect width=\".81\" height=\".81\" x=\"7\" y=\"6\" fill=\"#000000\" />\n",
       "<rect width=\".81\" height=\".81\" x=\"8\" y=\"6\" fill=\"#000000\" />\n",
       "<rect width=\".81\" height=\".81\" x=\"9\" y=\"6\" fill=\"#000000\" />\n",
       "<rect width=\".81\" height=\".81\" x=\"10\" y=\"6\" fill=\"#000000\" />\n",
       "<rect width=\".81\" height=\".81\" x=\"11\" y=\"6\" fill=\"#000000\" />\n",
       "<rect width=\".81\" height=\".81\" x=\"12\" y=\"6\" fill=\"#000000\" />\n",
       "<rect width=\".81\" height=\".81\" x=\"13\" y=\"6\" fill=\"#0D0D0D\" />\n",
       "<rect width=\".81\" height=\".81\" x=\"14\" y=\"6\" fill=\"#747474\" />\n",
       "<rect width=\".81\" height=\".81\" x=\"15\" y=\"6\" fill=\"#FEFEFE\" />\n",
       "<rect width=\".81\" height=\".81\" x=\"16\" y=\"6\" fill=\"#FDFDFD\" />\n",
       "<rect width=\".81\" height=\".81\" x=\"17\" y=\"6\" fill=\"#FDFDFD\" />\n",
       "<rect width=\".81\" height=\".81\" x=\"18\" y=\"6\" fill=\"#FDFDFD\" />\n",
       "<rect width=\".81\" height=\".81\" x=\"19\" y=\"6\" fill=\"#FDFDFD\" />\n",
       "<rect width=\".81\" height=\".81\" x=\"20\" y=\"6\" fill=\"#AFAFAF\" />\n",
       "<rect width=\".81\" height=\".81\" x=\"21\" y=\"6\" fill=\"#A7A7A7\" />\n",
       "<rect width=\".81\" height=\".81\" x=\"22\" y=\"6\" fill=\"#363636\" />\n",
       "<rect width=\".81\" height=\".81\" x=\"23\" y=\"6\" fill=\"#000000\" />\n",
       "<rect width=\".81\" height=\".81\" x=\"24\" y=\"6\" fill=\"#000000\" />\n",
       "<rect width=\".81\" height=\".81\" x=\"25\" y=\"6\" fill=\"#000000\" />\n",
       "<rect width=\".81\" height=\".81\" x=\"26\" y=\"6\" fill=\"#000000\" />\n",
       "<rect width=\".81\" height=\".81\" x=\"27\" y=\"6\" fill=\"#000000\" />\n",
       "<rect width=\".81\" height=\".81\" x=\"0\" y=\"7\" fill=\"#000000\" />\n",
       "<rect width=\".81\" height=\".81\" x=\"1\" y=\"7\" fill=\"#000000\" />\n",
       "<rect width=\".81\" height=\".81\" x=\"2\" y=\"7\" fill=\"#000000\" />\n",
       "<rect width=\".81\" height=\".81\" x=\"3\" y=\"7\" fill=\"#000000\" />\n",
       "<rect width=\".81\" height=\".81\" x=\"4\" y=\"7\" fill=\"#000000\" />\n",
       "<rect width=\".81\" height=\".81\" x=\"5\" y=\"7\" fill=\"#000000\" />\n",
       "<rect width=\".81\" height=\".81\" x=\"6\" y=\"7\" fill=\"#000000\" />\n",
       "<rect width=\".81\" height=\".81\" x=\"7\" y=\"7\" fill=\"#000000\" />\n",
       "<rect width=\".81\" height=\".81\" x=\"8\" y=\"7\" fill=\"#000000\" />\n",
       "<rect width=\".81\" height=\".81\" x=\"9\" y=\"7\" fill=\"#000000\" />\n",
       "<rect width=\".81\" height=\".81\" x=\"10\" y=\"7\" fill=\"#000000\" />\n",
       "<rect width=\".81\" height=\".81\" x=\"11\" y=\"7\" fill=\"#000000\" />\n",
       "<rect width=\".81\" height=\".81\" x=\"12\" y=\"7\" fill=\"#0D0D0D\" />\n",
       "<rect width=\".81\" height=\".81\" x=\"13\" y=\"7\" fill=\"#B9B9B9\" />\n",
       "<rect width=\".81\" height=\".81\" x=\"14\" y=\"7\" fill=\"#FDFDFD\" />\n",
       "<rect width=\".81\" height=\".81\" x=\"15\" y=\"7\" fill=\"#FEFEFE\" />\n",
       "<rect width=\".81\" height=\".81\" x=\"16\" y=\"7\" fill=\"#FAFAFA\" />\n",
       "<rect width=\".81\" height=\".81\" x=\"17\" y=\"7\" fill=\"#D5D5D5\" />\n",
       "<rect width=\".81\" height=\".81\" x=\"18\" y=\"7\" fill=\"#929292\" />\n",
       "<rect width=\".81\" height=\".81\" x=\"19\" y=\"7\" fill=\"#131313\" />\n",
       "<rect width=\".81\" height=\".81\" x=\"20\" y=\"7\" fill=\"#000000\" />\n",
       "<rect width=\".81\" height=\".81\" x=\"21\" y=\"7\" fill=\"#000000\" />\n",
       "<rect width=\".81\" height=\".81\" x=\"22\" y=\"7\" fill=\"#000000\" />\n",
       "<rect width=\".81\" height=\".81\" x=\"23\" y=\"7\" fill=\"#000000\" />\n",
       "<rect width=\".81\" height=\".81\" x=\"24\" y=\"7\" fill=\"#000000\" />\n",
       "<rect width=\".81\" height=\".81\" x=\"25\" y=\"7\" fill=\"#000000\" />\n",
       "<rect width=\".81\" height=\".81\" x=\"26\" y=\"7\" fill=\"#000000\" />\n",
       "<rect width=\".81\" height=\".81\" x=\"27\" y=\"7\" fill=\"#000000\" />\n",
       "<rect width=\".81\" height=\".81\" x=\"0\" y=\"8\" fill=\"#000000\" />\n",
       "<rect width=\".81\" height=\".81\" x=\"1\" y=\"8\" fill=\"#000000\" />\n",
       "<rect width=\".81\" height=\".81\" x=\"2\" y=\"8\" fill=\"#000000\" />\n",
       "<rect width=\".81\" height=\".81\" x=\"3\" y=\"8\" fill=\"#000000\" />\n",
       "<rect width=\".81\" height=\".81\" x=\"4\" y=\"8\" fill=\"#000000\" />\n",
       "<rect width=\".81\" height=\".81\" x=\"5\" y=\"8\" fill=\"#000000\" />\n",
       "<rect width=\".81\" height=\".81\" x=\"6\" y=\"8\" fill=\"#000000\" />\n",
       "<rect width=\".81\" height=\".81\" x=\"7\" y=\"8\" fill=\"#000000\" />\n",
       "<rect width=\".81\" height=\".81\" x=\"8\" y=\"8\" fill=\"#000000\" />\n",
       "<rect width=\".81\" height=\".81\" x=\"9\" y=\"8\" fill=\"#000000\" />\n",
       "<rect width=\".81\" height=\".81\" x=\"10\" y=\"8\" fill=\"#000000\" />\n",
       "<rect width=\".81\" height=\".81\" x=\"11\" y=\"8\" fill=\"#2E2E2E\" />\n",
       "<rect width=\".81\" height=\".81\" x=\"12\" y=\"8\" fill=\"#B7B7B7\" />\n",
       "<rect width=\".81\" height=\".81\" x=\"13\" y=\"8\" fill=\"#FDFDFD\" />\n",
       "<rect width=\".81\" height=\".81\" x=\"14\" y=\"8\" fill=\"#FDFDFD\" />\n",
       "<rect width=\".81\" height=\".81\" x=\"15\" y=\"8\" fill=\"#C1C1C1\" />\n",
       "<rect width=\".81\" height=\".81\" x=\"16\" y=\"8\" fill=\"#444444\" />\n",
       "<rect width=\".81\" height=\".81\" x=\"17\" y=\"8\" fill=\"#000000\" />\n",
       "<rect width=\".81\" height=\".81\" x=\"18\" y=\"8\" fill=\"#000000\" />\n",
       "<rect width=\".81\" height=\".81\" x=\"19\" y=\"8\" fill=\"#000000\" />\n",
       "<rect width=\".81\" height=\".81\" x=\"20\" y=\"8\" fill=\"#000000\" />\n",
       "<rect width=\".81\" height=\".81\" x=\"21\" y=\"8\" fill=\"#000000\" />\n",
       "<rect width=\".81\" height=\".81\" x=\"22\" y=\"8\" fill=\"#000000\" />\n",
       "<rect width=\".81\" height=\".81\" x=\"23\" y=\"8\" fill=\"#000000\" />\n",
       "<rect width=\".81\" height=\".81\" x=\"24\" y=\"8\" fill=\"#000000\" />\n",
       "<rect width=\".81\" height=\".81\" x=\"25\" y=\"8\" fill=\"#000000\" />\n",
       "<rect width=\".81\" height=\".81\" x=\"26\" y=\"8\" fill=\"#000000\" />\n",
       "<rect width=\".81\" height=\".81\" x=\"27\" y=\"8\" fill=\"#000000\" />\n",
       "<rect width=\".81\" height=\".81\" x=\"0\" y=\"9\" fill=\"#000000\" />\n",
       "<rect width=\".81\" height=\".81\" x=\"1\" y=\"9\" fill=\"#000000\" />\n",
       "<rect width=\".81\" height=\".81\" x=\"2\" y=\"9\" fill=\"#000000\" />\n",
       "<rect width=\".81\" height=\".81\" x=\"3\" y=\"9\" fill=\"#000000\" />\n",
       "<rect width=\".81\" height=\".81\" x=\"4\" y=\"9\" fill=\"#000000\" />\n",
       "<rect width=\".81\" height=\".81\" x=\"5\" y=\"9\" fill=\"#000000\" />\n",
       "<rect width=\".81\" height=\".81\" x=\"6\" y=\"9\" fill=\"#000000\" />\n",
       "<rect width=\".81\" height=\".81\" x=\"7\" y=\"9\" fill=\"#000000\" />\n",
       "<rect width=\".81\" height=\".81\" x=\"8\" y=\"9\" fill=\"#000000\" />\n",
       "<rect width=\".81\" height=\".81\" x=\"9\" y=\"9\" fill=\"#000000\" />\n",
       "<rect width=\".81\" height=\".81\" x=\"10\" y=\"9\" fill=\"#525252\" />\n",
       "<rect width=\".81\" height=\".81\" x=\"11\" y=\"9\" fill=\"#EFEFEF\" />\n",
       "<rect width=\".81\" height=\".81\" x=\"12\" y=\"9\" fill=\"#FEFEFE\" />\n",
       "<rect width=\".81\" height=\".81\" x=\"13\" y=\"9\" fill=\"#F4F4F4\" />\n",
       "<rect width=\".81\" height=\".81\" x=\"14\" y=\"9\" fill=\"#C3C3C3\" />\n",
       "<rect width=\".81\" height=\".81\" x=\"15\" y=\"9\" fill=\"#000000\" />\n",
       "<rect width=\".81\" height=\".81\" x=\"16\" y=\"9\" fill=\"#000000\" />\n",
       "<rect width=\".81\" height=\".81\" x=\"17\" y=\"9\" fill=\"#000000\" />\n",
       "<rect width=\".81\" height=\".81\" x=\"18\" y=\"9\" fill=\"#000000\" />\n",
       "<rect width=\".81\" height=\".81\" x=\"19\" y=\"9\" fill=\"#000000\" />\n",
       "<rect width=\".81\" height=\".81\" x=\"20\" y=\"9\" fill=\"#000000\" />\n",
       "<rect width=\".81\" height=\".81\" x=\"21\" y=\"9\" fill=\"#000000\" />\n",
       "<rect width=\".81\" height=\".81\" x=\"22\" y=\"9\" fill=\"#000000\" />\n",
       "<rect width=\".81\" height=\".81\" x=\"23\" y=\"9\" fill=\"#000000\" />\n",
       "<rect width=\".81\" height=\".81\" x=\"24\" y=\"9\" fill=\"#000000\" />\n",
       "<rect width=\".81\" height=\".81\" x=\"25\" y=\"9\" fill=\"#000000\" />\n",
       "<rect width=\".81\" height=\".81\" x=\"26\" y=\"9\" fill=\"#000000\" />\n",
       "<rect width=\".81\" height=\".81\" x=\"27\" y=\"9\" fill=\"#000000\" />\n",
       "<rect width=\".81\" height=\".81\" x=\"0\" y=\"10\" fill=\"#000000\" />\n",
       "<rect width=\".81\" height=\".81\" x=\"1\" y=\"10\" fill=\"#000000\" />\n",
       "<rect width=\".81\" height=\".81\" x=\"2\" y=\"10\" fill=\"#000000\" />\n",
       "<rect width=\".81\" height=\".81\" x=\"3\" y=\"10\" fill=\"#000000\" />\n",
       "<rect width=\".81\" height=\".81\" x=\"4\" y=\"10\" fill=\"#000000\" />\n",
       "<rect width=\".81\" height=\".81\" x=\"5\" y=\"10\" fill=\"#000000\" />\n",
       "<rect width=\".81\" height=\".81\" x=\"6\" y=\"10\" fill=\"#000000\" />\n",
       "<rect width=\".81\" height=\".81\" x=\"7\" y=\"10\" fill=\"#000000\" />\n",
       "<rect width=\".81\" height=\".81\" x=\"8\" y=\"10\" fill=\"#0B0B0B\" />\n",
       "<rect width=\".81\" height=\".81\" x=\"9\" y=\"10\" fill=\"#5F5F5F\" />\n",
       "<rect width=\".81\" height=\".81\" x=\"10\" y=\"10\" fill=\"#FEFEFE\" />\n",
       "<rect width=\".81\" height=\".81\" x=\"11\" y=\"10\" fill=\"#FDFDFD\" />\n",
       "<rect width=\".81\" height=\".81\" x=\"12\" y=\"10\" fill=\"#FDFDFD\" />\n",
       "<rect width=\".81\" height=\".81\" x=\"13\" y=\"10\" fill=\"#9C9C9C\" />\n",
       "<rect width=\".81\" height=\".81\" x=\"14\" y=\"10\" fill=\"#2A2A2A\" />\n",
       "<rect width=\".81\" height=\".81\" x=\"15\" y=\"10\" fill=\"#080808\" />\n",
       "<rect width=\".81\" height=\".81\" x=\"16\" y=\"10\" fill=\"#000000\" />\n",
       "<rect width=\".81\" height=\".81\" x=\"17\" y=\"10\" fill=\"#000000\" />\n",
       "<rect width=\".81\" height=\".81\" x=\"18\" y=\"10\" fill=\"#000000\" />\n",
       "<rect width=\".81\" height=\".81\" x=\"19\" y=\"10\" fill=\"#000000\" />\n",
       "<rect width=\".81\" height=\".81\" x=\"20\" y=\"10\" fill=\"#000000\" />\n",
       "<rect width=\".81\" height=\".81\" x=\"21\" y=\"10\" fill=\"#000000\" />\n",
       "<rect width=\".81\" height=\".81\" x=\"22\" y=\"10\" fill=\"#000000\" />\n",
       "<rect width=\".81\" height=\".81\" x=\"23\" y=\"10\" fill=\"#000000\" />\n",
       "<rect width=\".81\" height=\".81\" x=\"24\" y=\"10\" fill=\"#000000\" />\n",
       "<rect width=\".81\" height=\".81\" x=\"25\" y=\"10\" fill=\"#000000\" />\n",
       "<rect width=\".81\" height=\".81\" x=\"26\" y=\"10\" fill=\"#000000\" />\n",
       "<rect width=\".81\" height=\".81\" x=\"27\" y=\"10\" fill=\"#000000\" />\n",
       "<rect width=\".81\" height=\".81\" x=\"0\" y=\"11\" fill=\"#000000\" />\n",
       "<rect width=\".81\" height=\".81\" x=\"1\" y=\"11\" fill=\"#000000\" />\n",
       "<rect width=\".81\" height=\".81\" x=\"2\" y=\"11\" fill=\"#000000\" />\n",
       "<rect width=\".81\" height=\".81\" x=\"3\" y=\"11\" fill=\"#000000\" />\n",
       "<rect width=\".81\" height=\".81\" x=\"4\" y=\"11\" fill=\"#000000\" />\n",
       "<rect width=\".81\" height=\".81\" x=\"5\" y=\"11\" fill=\"#000000\" />\n",
       "<rect width=\".81\" height=\".81\" x=\"6\" y=\"11\" fill=\"#000000\" />\n",
       "<rect width=\".81\" height=\".81\" x=\"7\" y=\"11\" fill=\"#191919\" />\n",
       "<rect width=\".81\" height=\".81\" x=\"8\" y=\"11\" fill=\"#ACACAC\" />\n",
       "<rect width=\".81\" height=\".81\" x=\"9\" y=\"11\" fill=\"#FDFDFD\" />\n",
       "<rect width=\".81\" height=\".81\" x=\"10\" y=\"11\" fill=\"#FEFEFE\" />\n",
       "<rect width=\".81\" height=\".81\" x=\"11\" y=\"11\" fill=\"#FDFDFD\" />\n",
       "<rect width=\".81\" height=\".81\" x=\"12\" y=\"11\" fill=\"#FDFDFD\" />\n",
       "<rect width=\".81\" height=\".81\" x=\"13\" y=\"11\" fill=\"#FDFDFD\" />\n",
       "<rect width=\".81\" height=\".81\" x=\"14\" y=\"11\" fill=\"#FDFDFD\" />\n",
       "<rect width=\".81\" height=\".81\" x=\"15\" y=\"11\" fill=\"#CECECE\" />\n",
       "<rect width=\".81\" height=\".81\" x=\"16\" y=\"11\" fill=\"#AFAFAF\" />\n",
       "<rect width=\".81\" height=\".81\" x=\"17\" y=\"11\" fill=\"#363636\" />\n",
       "<rect width=\".81\" height=\".81\" x=\"18\" y=\"11\" fill=\"#000000\" />\n",
       "<rect width=\".81\" height=\".81\" x=\"19\" y=\"11\" fill=\"#000000\" />\n",
       "<rect width=\".81\" height=\".81\" x=\"20\" y=\"11\" fill=\"#000000\" />\n",
       "<rect width=\".81\" height=\".81\" x=\"21\" y=\"11\" fill=\"#000000\" />\n",
       "<rect width=\".81\" height=\".81\" x=\"22\" y=\"11\" fill=\"#000000\" />\n",
       "<rect width=\".81\" height=\".81\" x=\"23\" y=\"11\" fill=\"#000000\" />\n",
       "<rect width=\".81\" height=\".81\" x=\"24\" y=\"11\" fill=\"#000000\" />\n",
       "<rect width=\".81\" height=\".81\" x=\"25\" y=\"11\" fill=\"#000000\" />\n",
       "<rect width=\".81\" height=\".81\" x=\"26\" y=\"11\" fill=\"#000000\" />\n",
       "<rect width=\".81\" height=\".81\" x=\"27\" y=\"11\" fill=\"#000000\" />\n",
       "<rect width=\".81\" height=\".81\" x=\"0\" y=\"12\" fill=\"#000000\" />\n",
       "<rect width=\".81\" height=\".81\" x=\"1\" y=\"12\" fill=\"#000000\" />\n",
       "<rect width=\".81\" height=\".81\" x=\"2\" y=\"12\" fill=\"#000000\" />\n",
       "<rect width=\".81\" height=\".81\" x=\"3\" y=\"12\" fill=\"#000000\" />\n",
       "<rect width=\".81\" height=\".81\" x=\"4\" y=\"12\" fill=\"#000000\" />\n",
       "<rect width=\".81\" height=\".81\" x=\"5\" y=\"12\" fill=\"#000000\" />\n",
       "<rect width=\".81\" height=\".81\" x=\"6\" y=\"12\" fill=\"#000000\" />\n",
       "<rect width=\".81\" height=\".81\" x=\"7\" y=\"12\" fill=\"#121212\" />\n",
       "<rect width=\".81\" height=\".81\" x=\"8\" y=\"12\" fill=\"#EEEEEE\" />\n",
       "<rect width=\".81\" height=\".81\" x=\"9\" y=\"12\" fill=\"#FDFDFD\" />\n",
       "<rect width=\".81\" height=\".81\" x=\"10\" y=\"12\" fill=\"#FEFEFE\" />\n",
       "<rect width=\".81\" height=\".81\" x=\"11\" y=\"12\" fill=\"#FDFDFD\" />\n",
       "<rect width=\".81\" height=\".81\" x=\"12\" y=\"12\" fill=\"#FDFDFD\" />\n",
       "<rect width=\".81\" height=\".81\" x=\"13\" y=\"12\" fill=\"#FDFDFD\" />\n",
       "<rect width=\".81\" height=\".81\" x=\"14\" y=\"12\" fill=\"#FDFDFD\" />\n",
       "<rect width=\".81\" height=\".81\" x=\"15\" y=\"12\" fill=\"#FEFEFE\" />\n",
       "<rect width=\".81\" height=\".81\" x=\"16\" y=\"12\" fill=\"#FDFDFD\" />\n",
       "<rect width=\".81\" height=\".81\" x=\"17\" y=\"12\" fill=\"#F0F0F0\" />\n",
       "<rect width=\".81\" height=\".81\" x=\"18\" y=\"12\" fill=\"#919191\" />\n",
       "<rect width=\".81\" height=\".81\" x=\"19\" y=\"12\" fill=\"#000000\" />\n",
       "<rect width=\".81\" height=\".81\" x=\"20\" y=\"12\" fill=\"#000000\" />\n",
       "<rect width=\".81\" height=\".81\" x=\"21\" y=\"12\" fill=\"#000000\" />\n",
       "<rect width=\".81\" height=\".81\" x=\"22\" y=\"12\" fill=\"#000000\" />\n",
       "<rect width=\".81\" height=\".81\" x=\"23\" y=\"12\" fill=\"#000000\" />\n",
       "<rect width=\".81\" height=\".81\" x=\"24\" y=\"12\" fill=\"#000000\" />\n",
       "<rect width=\".81\" height=\".81\" x=\"25\" y=\"12\" fill=\"#000000\" />\n",
       "<rect width=\".81\" height=\".81\" x=\"26\" y=\"12\" fill=\"#000000\" />\n",
       "<rect width=\".81\" height=\".81\" x=\"27\" y=\"12\" fill=\"#000000\" />\n",
       "<rect width=\".81\" height=\".81\" x=\"0\" y=\"13\" fill=\"#000000\" />\n",
       "<rect width=\".81\" height=\".81\" x=\"1\" y=\"13\" fill=\"#000000\" />\n",
       "<rect width=\".81\" height=\".81\" x=\"2\" y=\"13\" fill=\"#000000\" />\n",
       "<rect width=\".81\" height=\".81\" x=\"3\" y=\"13\" fill=\"#000000\" />\n",
       "<rect width=\".81\" height=\".81\" x=\"4\" y=\"13\" fill=\"#000000\" />\n",
       "<rect width=\".81\" height=\".81\" x=\"5\" y=\"13\" fill=\"#000000\" />\n",
       "<rect width=\".81\" height=\".81\" x=\"6\" y=\"13\" fill=\"#000000\" />\n",
       "<rect width=\".81\" height=\".81\" x=\"7\" y=\"13\" fill=\"#121212\" />\n",
       "<rect width=\".81\" height=\".81\" x=\"8\" y=\"13\" fill=\"#6F6F6F\" />\n",
       "<rect width=\".81\" height=\".81\" x=\"9\" y=\"13\" fill=\"#9B9B9B\" />\n",
       "<rect width=\".81\" height=\".81\" x=\"10\" y=\"13\" fill=\"#9B9B9B\" />\n",
       "<rect width=\".81\" height=\".81\" x=\"11\" y=\"13\" fill=\"#939393\" />\n",
       "<rect width=\".81\" height=\".81\" x=\"12\" y=\"13\" fill=\"#585858\" />\n",
       "<rect width=\".81\" height=\".81\" x=\"13\" y=\"13\" fill=\"#676767\" />\n",
       "<rect width=\".81\" height=\".81\" x=\"14\" y=\"13\" fill=\"#3A3A3A\" />\n",
       "<rect width=\".81\" height=\".81\" x=\"15\" y=\"13\" fill=\"#8C8C8C\" />\n",
       "<rect width=\".81\" height=\".81\" x=\"16\" y=\"13\" fill=\"#FDFDFD\" />\n",
       "<rect width=\".81\" height=\".81\" x=\"17\" y=\"13\" fill=\"#FDFDFD\" />\n",
       "<rect width=\".81\" height=\".81\" x=\"18\" y=\"13\" fill=\"#DDDDDD\" />\n",
       "<rect width=\".81\" height=\".81\" x=\"19\" y=\"13\" fill=\"#2D2D2D\" />\n",
       "<rect width=\".81\" height=\".81\" x=\"20\" y=\"13\" fill=\"#000000\" />\n",
       "<rect width=\".81\" height=\".81\" x=\"21\" y=\"13\" fill=\"#000000\" />\n",
       "<rect width=\".81\" height=\".81\" x=\"22\" y=\"13\" fill=\"#000000\" />\n",
       "<rect width=\".81\" height=\".81\" x=\"23\" y=\"13\" fill=\"#000000\" />\n",
       "<rect width=\".81\" height=\".81\" x=\"24\" y=\"13\" fill=\"#000000\" />\n",
       "<rect width=\".81\" height=\".81\" x=\"25\" y=\"13\" fill=\"#000000\" />\n",
       "<rect width=\".81\" height=\".81\" x=\"26\" y=\"13\" fill=\"#000000\" />\n",
       "<rect width=\".81\" height=\".81\" x=\"27\" y=\"13\" fill=\"#000000\" />\n",
       "<rect width=\".81\" height=\".81\" x=\"0\" y=\"14\" fill=\"#000000\" />\n",
       "<rect width=\".81\" height=\".81\" x=\"1\" y=\"14\" fill=\"#000000\" />\n",
       "<rect width=\".81\" height=\".81\" x=\"2\" y=\"14\" fill=\"#000000\" />\n",
       "<rect width=\".81\" height=\".81\" x=\"3\" y=\"14\" fill=\"#000000\" />\n",
       "<rect width=\".81\" height=\".81\" x=\"4\" y=\"14\" fill=\"#000000\" />\n",
       "<rect width=\".81\" height=\".81\" x=\"5\" y=\"14\" fill=\"#000000\" />\n",
       "<rect width=\".81\" height=\".81\" x=\"6\" y=\"14\" fill=\"#000000\" />\n",
       "<rect width=\".81\" height=\".81\" x=\"7\" y=\"14\" fill=\"#000000\" />\n",
       "<rect width=\".81\" height=\".81\" x=\"8\" y=\"14\" fill=\"#000000\" />\n",
       "<rect width=\".81\" height=\".81\" x=\"9\" y=\"14\" fill=\"#000000\" />\n",
       "<rect width=\".81\" height=\".81\" x=\"10\" y=\"14\" fill=\"#000000\" />\n",
       "<rect width=\".81\" height=\".81\" x=\"11\" y=\"14\" fill=\"#000000\" />\n",
       "<rect width=\".81\" height=\".81\" x=\"12\" y=\"14\" fill=\"#000000\" />\n",
       "<rect width=\".81\" height=\".81\" x=\"13\" y=\"14\" fill=\"#000000\" />\n",
       "<rect width=\".81\" height=\".81\" x=\"14\" y=\"14\" fill=\"#000000\" />\n",
       "<rect width=\".81\" height=\".81\" x=\"15\" y=\"14\" fill=\"#000000\" />\n",
       "<rect width=\".81\" height=\".81\" x=\"16\" y=\"14\" fill=\"#606060\" />\n",
       "<rect width=\".81\" height=\".81\" x=\"17\" y=\"14\" fill=\"#FEFEFE\" />\n",
       "<rect width=\".81\" height=\".81\" x=\"18\" y=\"14\" fill=\"#FEFEFE\" />\n",
       "<rect width=\".81\" height=\".81\" x=\"19\" y=\"14\" fill=\"#8C8C8C\" />\n",
       "<rect width=\".81\" height=\".81\" x=\"20\" y=\"14\" fill=\"#000000\" />\n",
       "<rect width=\".81\" height=\".81\" x=\"21\" y=\"14\" fill=\"#000000\" />\n",
       "<rect width=\".81\" height=\".81\" x=\"22\" y=\"14\" fill=\"#000000\" />\n",
       "<rect width=\".81\" height=\".81\" x=\"23\" y=\"14\" fill=\"#000000\" />\n",
       "<rect width=\".81\" height=\".81\" x=\"24\" y=\"14\" fill=\"#000000\" />\n",
       "<rect width=\".81\" height=\".81\" x=\"25\" y=\"14\" fill=\"#000000\" />\n",
       "<rect width=\".81\" height=\".81\" x=\"26\" y=\"14\" fill=\"#000000\" />\n",
       "<rect width=\".81\" height=\".81\" x=\"27\" y=\"14\" fill=\"#000000\" />\n",
       "<rect width=\".81\" height=\".81\" x=\"0\" y=\"15\" fill=\"#000000\" />\n",
       "<rect width=\".81\" height=\".81\" x=\"1\" y=\"15\" fill=\"#000000\" />\n",
       "<rect width=\".81\" height=\".81\" x=\"2\" y=\"15\" fill=\"#000000\" />\n",
       "<rect width=\".81\" height=\".81\" x=\"3\" y=\"15\" fill=\"#000000\" />\n",
       "<rect width=\".81\" height=\".81\" x=\"4\" y=\"15\" fill=\"#000000\" />\n",
       "<rect width=\".81\" height=\".81\" x=\"5\" y=\"15\" fill=\"#000000\" />\n",
       "<rect width=\".81\" height=\".81\" x=\"6\" y=\"15\" fill=\"#000000\" />\n",
       "<rect width=\".81\" height=\".81\" x=\"7\" y=\"15\" fill=\"#000000\" />\n",
       "<rect width=\".81\" height=\".81\" x=\"8\" y=\"15\" fill=\"#000000\" />\n",
       "<rect width=\".81\" height=\".81\" x=\"9\" y=\"15\" fill=\"#000000\" />\n",
       "<rect width=\".81\" height=\".81\" x=\"10\" y=\"15\" fill=\"#000000\" />\n",
       "<rect width=\".81\" height=\".81\" x=\"11\" y=\"15\" fill=\"#000000\" />\n",
       "<rect width=\".81\" height=\".81\" x=\"12\" y=\"15\" fill=\"#000000\" />\n",
       "<rect width=\".81\" height=\".81\" x=\"13\" y=\"15\" fill=\"#000000\" />\n",
       "<rect width=\".81\" height=\".81\" x=\"14\" y=\"15\" fill=\"#000000\" />\n",
       "<rect width=\".81\" height=\".81\" x=\"15\" y=\"15\" fill=\"#000000\" />\n",
       "<rect width=\".81\" height=\".81\" x=\"16\" y=\"15\" fill=\"#050505\" />\n",
       "<rect width=\".81\" height=\".81\" x=\"17\" y=\"15\" fill=\"#C1C1C1\" />\n",
       "<rect width=\".81\" height=\".81\" x=\"18\" y=\"15\" fill=\"#FDFDFD\" />\n",
       "<rect width=\".81\" height=\".81\" x=\"19\" y=\"15\" fill=\"#F5F5F5\" />\n",
       "<rect width=\".81\" height=\".81\" x=\"20\" y=\"15\" fill=\"#000000\" />\n",
       "<rect width=\".81\" height=\".81\" x=\"21\" y=\"15\" fill=\"#000000\" />\n",
       "<rect width=\".81\" height=\".81\" x=\"22\" y=\"15\" fill=\"#000000\" />\n",
       "<rect width=\".81\" height=\".81\" x=\"23\" y=\"15\" fill=\"#000000\" />\n",
       "<rect width=\".81\" height=\".81\" x=\"24\" y=\"15\" fill=\"#000000\" />\n",
       "<rect width=\".81\" height=\".81\" x=\"25\" y=\"15\" fill=\"#000000\" />\n",
       "<rect width=\".81\" height=\".81\" x=\"26\" y=\"15\" fill=\"#000000\" />\n",
       "<rect width=\".81\" height=\".81\" x=\"27\" y=\"15\" fill=\"#000000\" />\n",
       "<rect width=\".81\" height=\".81\" x=\"0\" y=\"16\" fill=\"#000000\" />\n",
       "<rect width=\".81\" height=\".81\" x=\"1\" y=\"16\" fill=\"#000000\" />\n",
       "<rect width=\".81\" height=\".81\" x=\"2\" y=\"16\" fill=\"#000000\" />\n",
       "<rect width=\".81\" height=\".81\" x=\"3\" y=\"16\" fill=\"#000000\" />\n",
       "<rect width=\".81\" height=\".81\" x=\"4\" y=\"16\" fill=\"#000000\" />\n",
       "<rect width=\".81\" height=\".81\" x=\"5\" y=\"16\" fill=\"#000000\" />\n",
       "<rect width=\".81\" height=\".81\" x=\"6\" y=\"16\" fill=\"#000000\" />\n",
       "<rect width=\".81\" height=\".81\" x=\"7\" y=\"16\" fill=\"#000000\" />\n",
       "<rect width=\".81\" height=\".81\" x=\"8\" y=\"16\" fill=\"#000000\" />\n",
       "<rect width=\".81\" height=\".81\" x=\"9\" y=\"16\" fill=\"#000000\" />\n",
       "<rect width=\".81\" height=\".81\" x=\"10\" y=\"16\" fill=\"#000000\" />\n",
       "<rect width=\".81\" height=\".81\" x=\"11\" y=\"16\" fill=\"#000000\" />\n",
       "<rect width=\".81\" height=\".81\" x=\"12\" y=\"16\" fill=\"#000000\" />\n",
       "<rect width=\".81\" height=\".81\" x=\"13\" y=\"16\" fill=\"#000000\" />\n",
       "<rect width=\".81\" height=\".81\" x=\"14\" y=\"16\" fill=\"#000000\" />\n",
       "<rect width=\".81\" height=\".81\" x=\"15\" y=\"16\" fill=\"#000000\" />\n",
       "<rect width=\".81\" height=\".81\" x=\"16\" y=\"16\" fill=\"#3A3A3A\" />\n",
       "<rect width=\".81\" height=\".81\" x=\"17\" y=\"16\" fill=\"#FDFDFD\" />\n",
       "<rect width=\".81\" height=\".81\" x=\"18\" y=\"16\" fill=\"#FDFDFD\" />\n",
       "<rect width=\".81\" height=\".81\" x=\"19\" y=\"16\" fill=\"#B9B9B9\" />\n",
       "<rect width=\".81\" height=\".81\" x=\"20\" y=\"16\" fill=\"#000000\" />\n",
       "<rect width=\".81\" height=\".81\" x=\"21\" y=\"16\" fill=\"#000000\" />\n",
       "<rect width=\".81\" height=\".81\" x=\"22\" y=\"16\" fill=\"#000000\" />\n",
       "<rect width=\".81\" height=\".81\" x=\"23\" y=\"16\" fill=\"#000000\" />\n",
       "<rect width=\".81\" height=\".81\" x=\"24\" y=\"16\" fill=\"#000000\" />\n",
       "<rect width=\".81\" height=\".81\" x=\"25\" y=\"16\" fill=\"#000000\" />\n",
       "<rect width=\".81\" height=\".81\" x=\"26\" y=\"16\" fill=\"#000000\" />\n",
       "<rect width=\".81\" height=\".81\" x=\"27\" y=\"16\" fill=\"#000000\" />\n",
       "<rect width=\".81\" height=\".81\" x=\"0\" y=\"17\" fill=\"#000000\" />\n",
       "<rect width=\".81\" height=\".81\" x=\"1\" y=\"17\" fill=\"#000000\" />\n",
       "<rect width=\".81\" height=\".81\" x=\"2\" y=\"17\" fill=\"#000000\" />\n",
       "<rect width=\".81\" height=\".81\" x=\"3\" y=\"17\" fill=\"#000000\" />\n",
       "<rect width=\".81\" height=\".81\" x=\"4\" y=\"17\" fill=\"#000000\" />\n",
       "<rect width=\".81\" height=\".81\" x=\"5\" y=\"17\" fill=\"#000000\" />\n",
       "<rect width=\".81\" height=\".81\" x=\"6\" y=\"17\" fill=\"#000000\" />\n",
       "<rect width=\".81\" height=\".81\" x=\"7\" y=\"17\" fill=\"#000000\" />\n",
       "<rect width=\".81\" height=\".81\" x=\"8\" y=\"17\" fill=\"#000000\" />\n",
       "<rect width=\".81\" height=\".81\" x=\"9\" y=\"17\" fill=\"#000000\" />\n",
       "<rect width=\".81\" height=\".81\" x=\"10\" y=\"17\" fill=\"#000000\" />\n",
       "<rect width=\".81\" height=\".81\" x=\"11\" y=\"17\" fill=\"#000000\" />\n",
       "<rect width=\".81\" height=\".81\" x=\"12\" y=\"17\" fill=\"#000000\" />\n",
       "<rect width=\".81\" height=\".81\" x=\"13\" y=\"17\" fill=\"#000000\" />\n",
       "<rect width=\".81\" height=\".81\" x=\"14\" y=\"17\" fill=\"#000000\" />\n",
       "<rect width=\".81\" height=\".81\" x=\"15\" y=\"17\" fill=\"#000000\" />\n",
       "<rect width=\".81\" height=\".81\" x=\"16\" y=\"17\" fill=\"#A2A2A2\" />\n",
       "<rect width=\".81\" height=\".81\" x=\"17\" y=\"17\" fill=\"#FDFDFD\" />\n",
       "<rect width=\".81\" height=\".81\" x=\"18\" y=\"17\" fill=\"#FDFDFD\" />\n",
       "<rect width=\".81\" height=\".81\" x=\"19\" y=\"17\" fill=\"#A2A2A2\" />\n",
       "<rect width=\".81\" height=\".81\" x=\"20\" y=\"17\" fill=\"#000000\" />\n",
       "<rect width=\".81\" height=\".81\" x=\"21\" y=\"17\" fill=\"#000000\" />\n",
       "<rect width=\".81\" height=\".81\" x=\"22\" y=\"17\" fill=\"#000000\" />\n",
       "<rect width=\".81\" height=\".81\" x=\"23\" y=\"17\" fill=\"#000000\" />\n",
       "<rect width=\".81\" height=\".81\" x=\"24\" y=\"17\" fill=\"#000000\" />\n",
       "<rect width=\".81\" height=\".81\" x=\"25\" y=\"17\" fill=\"#000000\" />\n",
       "<rect width=\".81\" height=\".81\" x=\"26\" y=\"17\" fill=\"#000000\" />\n",
       "<rect width=\".81\" height=\".81\" x=\"27\" y=\"17\" fill=\"#000000\" />\n",
       "<rect width=\".81\" height=\".81\" x=\"0\" y=\"18\" fill=\"#000000\" />\n",
       "<rect width=\".81\" height=\".81\" x=\"1\" y=\"18\" fill=\"#000000\" />\n",
       "<rect width=\".81\" height=\".81\" x=\"2\" y=\"18\" fill=\"#000000\" />\n",
       "<rect width=\".81\" height=\".81\" x=\"3\" y=\"18\" fill=\"#000000\" />\n",
       "<rect width=\".81\" height=\".81\" x=\"4\" y=\"18\" fill=\"#000000\" />\n",
       "<rect width=\".81\" height=\".81\" x=\"5\" y=\"18\" fill=\"#000000\" />\n",
       "<rect width=\".81\" height=\".81\" x=\"6\" y=\"18\" fill=\"#000000\" />\n",
       "<rect width=\".81\" height=\".81\" x=\"7\" y=\"18\" fill=\"#444444\" />\n",
       "<rect width=\".81\" height=\".81\" x=\"8\" y=\"18\" fill=\"#2D2D2D\" />\n",
       "<rect width=\".81\" height=\".81\" x=\"9\" y=\"18\" fill=\"#000000\" />\n",
       "<rect width=\".81\" height=\".81\" x=\"10\" y=\"18\" fill=\"#000000\" />\n",
       "<rect width=\".81\" height=\".81\" x=\"11\" y=\"18\" fill=\"#000000\" />\n",
       "<rect width=\".81\" height=\".81\" x=\"12\" y=\"18\" fill=\"#000000\" />\n",
       "<rect width=\".81\" height=\".81\" x=\"13\" y=\"18\" fill=\"#000000\" />\n",
       "<rect width=\".81\" height=\".81\" x=\"14\" y=\"18\" fill=\"#000000\" />\n",
       "<rect width=\".81\" height=\".81\" x=\"15\" y=\"18\" fill=\"#797979\" />\n",
       "<rect width=\".81\" height=\".81\" x=\"16\" y=\"18\" fill=\"#F4F4F4\" />\n",
       "<rect width=\".81\" height=\".81\" x=\"17\" y=\"18\" fill=\"#FDFDFD\" />\n",
       "<rect width=\".81\" height=\".81\" x=\"18\" y=\"18\" fill=\"#EDEDED\" />\n",
       "<rect width=\".81\" height=\".81\" x=\"19\" y=\"18\" fill=\"#3A3A3A\" />\n",
       "<rect width=\".81\" height=\".81\" x=\"20\" y=\"18\" fill=\"#000000\" />\n",
       "<rect width=\".81\" height=\".81\" x=\"21\" y=\"18\" fill=\"#000000\" />\n",
       "<rect width=\".81\" height=\".81\" x=\"22\" y=\"18\" fill=\"#000000\" />\n",
       "<rect width=\".81\" height=\".81\" x=\"23\" y=\"18\" fill=\"#000000\" />\n",
       "<rect width=\".81\" height=\".81\" x=\"24\" y=\"18\" fill=\"#000000\" />\n",
       "<rect width=\".81\" height=\".81\" x=\"25\" y=\"18\" fill=\"#000000\" />\n",
       "<rect width=\".81\" height=\".81\" x=\"26\" y=\"18\" fill=\"#000000\" />\n",
       "<rect width=\".81\" height=\".81\" x=\"27\" y=\"18\" fill=\"#000000\" />\n",
       "<rect width=\".81\" height=\".81\" x=\"0\" y=\"19\" fill=\"#000000\" />\n",
       "<rect width=\".81\" height=\".81\" x=\"1\" y=\"19\" fill=\"#000000\" />\n",
       "<rect width=\".81\" height=\".81\" x=\"2\" y=\"19\" fill=\"#000000\" />\n",
       "<rect width=\".81\" height=\".81\" x=\"3\" y=\"19\" fill=\"#000000\" />\n",
       "<rect width=\".81\" height=\".81\" x=\"4\" y=\"19\" fill=\"#000000\" />\n",
       "<rect width=\".81\" height=\".81\" x=\"5\" y=\"19\" fill=\"#171717\" />\n",
       "<rect width=\".81\" height=\".81\" x=\"6\" y=\"19\" fill=\"#E6E6E6\" />\n",
       "<rect width=\".81\" height=\".81\" x=\"7\" y=\"19\" fill=\"#FEFEFE\" />\n",
       "<rect width=\".81\" height=\".81\" x=\"8\" y=\"19\" fill=\"#2A2A2A\" />\n",
       "<rect width=\".81\" height=\".81\" x=\"9\" y=\"19\" fill=\"#000000\" />\n",
       "<rect width=\".81\" height=\".81\" x=\"10\" y=\"19\" fill=\"#000000\" />\n",
       "<rect width=\".81\" height=\".81\" x=\"11\" y=\"19\" fill=\"#000000\" />\n",
       "<rect width=\".81\" height=\".81\" x=\"12\" y=\"19\" fill=\"#000000\" />\n",
       "<rect width=\".81\" height=\".81\" x=\"13\" y=\"19\" fill=\"#000000\" />\n",
       "<rect width=\".81\" height=\".81\" x=\"14\" y=\"19\" fill=\"#535353\" />\n",
       "<rect width=\".81\" height=\".81\" x=\"15\" y=\"19\" fill=\"#FFFFFF\" />\n",
       "<rect width=\".81\" height=\".81\" x=\"16\" y=\"19\" fill=\"#FEFEFE\" />\n",
       "<rect width=\".81\" height=\".81\" x=\"17\" y=\"19\" fill=\"#FEFEFE\" />\n",
       "<rect width=\".81\" height=\".81\" x=\"18\" y=\"19\" fill=\"#757575\" />\n",
       "<rect width=\".81\" height=\".81\" x=\"19\" y=\"19\" fill=\"#000000\" />\n",
       "<rect width=\".81\" height=\".81\" x=\"20\" y=\"19\" fill=\"#000000\" />\n",
       "<rect width=\".81\" height=\".81\" x=\"21\" y=\"19\" fill=\"#000000\" />\n",
       "<rect width=\".81\" height=\".81\" x=\"22\" y=\"19\" fill=\"#000000\" />\n",
       "<rect width=\".81\" height=\".81\" x=\"23\" y=\"19\" fill=\"#000000\" />\n",
       "<rect width=\".81\" height=\".81\" x=\"24\" y=\"19\" fill=\"#000000\" />\n",
       "<rect width=\".81\" height=\".81\" x=\"25\" y=\"19\" fill=\"#000000\" />\n",
       "<rect width=\".81\" height=\".81\" x=\"26\" y=\"19\" fill=\"#000000\" />\n",
       "<rect width=\".81\" height=\".81\" x=\"27\" y=\"19\" fill=\"#000000\" />\n",
       "<rect width=\".81\" height=\".81\" x=\"0\" y=\"20\" fill=\"#000000\" />\n",
       "<rect width=\".81\" height=\".81\" x=\"1\" y=\"20\" fill=\"#000000\" />\n",
       "<rect width=\".81\" height=\".81\" x=\"2\" y=\"20\" fill=\"#000000\" />\n",
       "<rect width=\".81\" height=\".81\" x=\"3\" y=\"20\" fill=\"#000000\" />\n",
       "<rect width=\".81\" height=\".81\" x=\"4\" y=\"20\" fill=\"#000000\" />\n",
       "<rect width=\".81\" height=\".81\" x=\"5\" y=\"20\" fill=\"#606060\" />\n",
       "<rect width=\".81\" height=\".81\" x=\"6\" y=\"20\" fill=\"#F7F7F7\" />\n",
       "<rect width=\".81\" height=\".81\" x=\"7\" y=\"20\" fill=\"#DEDEDE\" />\n",
       "<rect width=\".81\" height=\".81\" x=\"8\" y=\"20\" fill=\"#1B1B1B\" />\n",
       "<rect width=\".81\" height=\".81\" x=\"9\" y=\"20\" fill=\"#000000\" />\n",
       "<rect width=\".81\" height=\".81\" x=\"10\" y=\"20\" fill=\"#000000\" />\n",
       "<rect width=\".81\" height=\".81\" x=\"11\" y=\"20\" fill=\"#0A0A0A\" />\n",
       "<rect width=\".81\" height=\".81\" x=\"12\" y=\"20\" fill=\"#585858\" />\n",
       "<rect width=\".81\" height=\".81\" x=\"13\" y=\"20\" fill=\"#CFCFCF\" />\n",
       "<rect width=\".81\" height=\".81\" x=\"14\" y=\"20\" fill=\"#F4F4F4\" />\n",
       "<rect width=\".81\" height=\".81\" x=\"15\" y=\"20\" fill=\"#FEFEFE\" />\n",
       "<rect width=\".81\" height=\".81\" x=\"16\" y=\"20\" fill=\"#FBFBFB\" />\n",
       "<rect width=\".81\" height=\".81\" x=\"17\" y=\"20\" fill=\"#878787\" />\n",
       "<rect width=\".81\" height=\".81\" x=\"18\" y=\"20\" fill=\"#121212\" />\n",
       "<rect width=\".81\" height=\".81\" x=\"19\" y=\"20\" fill=\"#000000\" />\n",
       "<rect width=\".81\" height=\".81\" x=\"20\" y=\"20\" fill=\"#050505\" />\n",
       "<rect width=\".81\" height=\".81\" x=\"21\" y=\"20\" fill=\"#030303\" />\n",
       "<rect width=\".81\" height=\".81\" x=\"22\" y=\"20\" fill=\"#000000\" />\n",
       "<rect width=\".81\" height=\".81\" x=\"23\" y=\"20\" fill=\"#000000\" />\n",
       "<rect width=\".81\" height=\".81\" x=\"24\" y=\"20\" fill=\"#000000\" />\n",
       "<rect width=\".81\" height=\".81\" x=\"25\" y=\"20\" fill=\"#000000\" />\n",
       "<rect width=\".81\" height=\".81\" x=\"26\" y=\"20\" fill=\"#000000\" />\n",
       "<rect width=\".81\" height=\".81\" x=\"27\" y=\"20\" fill=\"#000000\" />\n",
       "<rect width=\".81\" height=\".81\" x=\"0\" y=\"21\" fill=\"#000000\" />\n",
       "<rect width=\".81\" height=\".81\" x=\"1\" y=\"21\" fill=\"#000000\" />\n",
       "<rect width=\".81\" height=\".81\" x=\"2\" y=\"21\" fill=\"#000000\" />\n",
       "<rect width=\".81\" height=\".81\" x=\"3\" y=\"21\" fill=\"#000000\" />\n",
       "<rect width=\".81\" height=\".81\" x=\"4\" y=\"21\" fill=\"#000000\" />\n",
       "<rect width=\".81\" height=\".81\" x=\"5\" y=\"21\" fill=\"#6D6D6D\" />\n",
       "<rect width=\".81\" height=\".81\" x=\"6\" y=\"21\" fill=\"#F1F1F1\" />\n",
       "<rect width=\".81\" height=\".81\" x=\"7\" y=\"21\" fill=\"#FDFDFD\" />\n",
       "<rect width=\".81\" height=\".81\" x=\"8\" y=\"21\" fill=\"#B5B5B5\" />\n",
       "<rect width=\".81\" height=\".81\" x=\"9\" y=\"21\" fill=\"#AFAFAF\" />\n",
       "<rect width=\".81\" height=\".81\" x=\"10\" y=\"21\" fill=\"#B0B0B0\" />\n",
       "<rect width=\".81\" height=\".81\" x=\"11\" y=\"21\" fill=\"#D3D3D3\" />\n",
       "<rect width=\".81\" height=\".81\" x=\"12\" y=\"21\" fill=\"#FDFDFD\" />\n",
       "<rect width=\".81\" height=\".81\" x=\"13\" y=\"21\" fill=\"#FDFDFD\" />\n",
       "<rect width=\".81\" height=\".81\" x=\"14\" y=\"21\" fill=\"#FDFDFD\" />\n",
       "<rect width=\".81\" height=\".81\" x=\"15\" y=\"21\" fill=\"#FEFEFE\" />\n",
       "<rect width=\".81\" height=\".81\" x=\"16\" y=\"21\" fill=\"#808080\" />\n",
       "<rect width=\".81\" height=\".81\" x=\"17\" y=\"21\" fill=\"#000000\" />\n",
       "<rect width=\".81\" height=\".81\" x=\"18\" y=\"21\" fill=\"#000000\" />\n",
       "<rect width=\".81\" height=\".81\" x=\"19\" y=\"21\" fill=\"#000000\" />\n",
       "<rect width=\".81\" height=\".81\" x=\"20\" y=\"21\" fill=\"#292929\" />\n",
       "<rect width=\".81\" height=\".81\" x=\"21\" y=\"21\" fill=\"#1B1B1B\" />\n",
       "<rect width=\".81\" height=\".81\" x=\"22\" y=\"21\" fill=\"#000000\" />\n",
       "<rect width=\".81\" height=\".81\" x=\"23\" y=\"21\" fill=\"#000000\" />\n",
       "<rect width=\".81\" height=\".81\" x=\"24\" y=\"21\" fill=\"#000000\" />\n",
       "<rect width=\".81\" height=\".81\" x=\"25\" y=\"21\" fill=\"#000000\" />\n",
       "<rect width=\".81\" height=\".81\" x=\"26\" y=\"21\" fill=\"#000000\" />\n",
       "<rect width=\".81\" height=\".81\" x=\"27\" y=\"21\" fill=\"#000000\" />\n",
       "<rect width=\".81\" height=\".81\" x=\"0\" y=\"22\" fill=\"#000000\" />\n",
       "<rect width=\".81\" height=\".81\" x=\"1\" y=\"22\" fill=\"#000000\" />\n",
       "<rect width=\".81\" height=\".81\" x=\"2\" y=\"22\" fill=\"#000000\" />\n",
       "<rect width=\".81\" height=\".81\" x=\"3\" y=\"22\" fill=\"#000000\" />\n",
       "<rect width=\".81\" height=\".81\" x=\"4\" y=\"22\" fill=\"#000000\" />\n",
       "<rect width=\".81\" height=\".81\" x=\"5\" y=\"22\" fill=\"#171717\" />\n",
       "<rect width=\".81\" height=\".81\" x=\"6\" y=\"22\" fill=\"#E5E5E5\" />\n",
       "<rect width=\".81\" height=\".81\" x=\"7\" y=\"22\" fill=\"#FDFDFD\" />\n",
       "<rect width=\".81\" height=\".81\" x=\"8\" y=\"22\" fill=\"#FDFDFD\" />\n",
       "<rect width=\".81\" height=\".81\" x=\"9\" y=\"22\" fill=\"#FDFDFD\" />\n",
       "<rect width=\".81\" height=\".81\" x=\"10\" y=\"22\" fill=\"#FEFEFE\" />\n",
       "<rect width=\".81\" height=\".81\" x=\"11\" y=\"22\" fill=\"#FDFDFD\" />\n",
       "<rect width=\".81\" height=\".81\" x=\"12\" y=\"22\" fill=\"#FDFDFD\" />\n",
       "<rect width=\".81\" height=\".81\" x=\"13\" y=\"22\" fill=\"#F7F7F7\" />\n",
       "<rect width=\".81\" height=\".81\" x=\"14\" y=\"22\" fill=\"#D5D5D5\" />\n",
       "<rect width=\".81\" height=\".81\" x=\"15\" y=\"22\" fill=\"#5F5F5F\" />\n",
       "<rect width=\".81\" height=\".81\" x=\"16\" y=\"22\" fill=\"#0A0A0A\" />\n",
       "<rect width=\".81\" height=\".81\" x=\"17\" y=\"22\" fill=\"#000000\" />\n",
       "<rect width=\".81\" height=\".81\" x=\"18\" y=\"22\" fill=\"#000000\" />\n",
       "<rect width=\".81\" height=\".81\" x=\"19\" y=\"22\" fill=\"#000000\" />\n",
       "<rect width=\".81\" height=\".81\" x=\"20\" y=\"22\" fill=\"#000000\" />\n",
       "<rect width=\".81\" height=\".81\" x=\"21\" y=\"22\" fill=\"#000000\" />\n",
       "<rect width=\".81\" height=\".81\" x=\"22\" y=\"22\" fill=\"#000000\" />\n",
       "<rect width=\".81\" height=\".81\" x=\"23\" y=\"22\" fill=\"#000000\" />\n",
       "<rect width=\".81\" height=\".81\" x=\"24\" y=\"22\" fill=\"#000000\" />\n",
       "<rect width=\".81\" height=\".81\" x=\"25\" y=\"22\" fill=\"#000000\" />\n",
       "<rect width=\".81\" height=\".81\" x=\"26\" y=\"22\" fill=\"#000000\" />\n",
       "<rect width=\".81\" height=\".81\" x=\"27\" y=\"22\" fill=\"#000000\" />\n",
       "<rect width=\".81\" height=\".81\" x=\"0\" y=\"23\" fill=\"#000000\" />\n",
       "<rect width=\".81\" height=\".81\" x=\"1\" y=\"23\" fill=\"#000000\" />\n",
       "<rect width=\".81\" height=\".81\" x=\"2\" y=\"23\" fill=\"#000000\" />\n",
       "<rect width=\".81\" height=\".81\" x=\"3\" y=\"23\" fill=\"#000000\" />\n",
       "<rect width=\".81\" height=\".81\" x=\"4\" y=\"23\" fill=\"#000000\" />\n",
       "<rect width=\".81\" height=\".81\" x=\"5\" y=\"23\" fill=\"#000000\" />\n",
       "<rect width=\".81\" height=\".81\" x=\"6\" y=\"23\" fill=\"#393939\" />\n",
       "<rect width=\".81\" height=\".81\" x=\"7\" y=\"23\" fill=\"#9B9B9B\" />\n",
       "<rect width=\".81\" height=\".81\" x=\"8\" y=\"23\" fill=\"#D0D0D0\" />\n",
       "<rect width=\".81\" height=\".81\" x=\"9\" y=\"23\" fill=\"#FDFDFD\" />\n",
       "<rect width=\".81\" height=\".81\" x=\"10\" y=\"23\" fill=\"#FEFEFE\" />\n",
       "<rect width=\".81\" height=\".81\" x=\"11\" y=\"23\" fill=\"#F5F5F5\" />\n",
       "<rect width=\".81\" height=\".81\" x=\"12\" y=\"23\" fill=\"#9B9B9B\" />\n",
       "<rect width=\".81\" height=\".81\" x=\"13\" y=\"23\" fill=\"#383838\" />\n",
       "<rect width=\".81\" height=\".81\" x=\"14\" y=\"23\" fill=\"#000000\" />\n",
       "<rect width=\".81\" height=\".81\" x=\"15\" y=\"23\" fill=\"#000000\" />\n",
       "<rect width=\".81\" height=\".81\" x=\"16\" y=\"23\" fill=\"#000000\" />\n",
       "<rect width=\".81\" height=\".81\" x=\"17\" y=\"23\" fill=\"#000000\" />\n",
       "<rect width=\".81\" height=\".81\" x=\"18\" y=\"23\" fill=\"#000000\" />\n",
       "<rect width=\".81\" height=\".81\" x=\"19\" y=\"23\" fill=\"#000000\" />\n",
       "<rect width=\".81\" height=\".81\" x=\"20\" y=\"23\" fill=\"#000000\" />\n",
       "<rect width=\".81\" height=\".81\" x=\"21\" y=\"23\" fill=\"#000000\" />\n",
       "<rect width=\".81\" height=\".81\" x=\"22\" y=\"23\" fill=\"#000000\" />\n",
       "<rect width=\".81\" height=\".81\" x=\"23\" y=\"23\" fill=\"#000000\" />\n",
       "<rect width=\".81\" height=\".81\" x=\"24\" y=\"23\" fill=\"#000000\" />\n",
       "<rect width=\".81\" height=\".81\" x=\"25\" y=\"23\" fill=\"#000000\" />\n",
       "<rect width=\".81\" height=\".81\" x=\"26\" y=\"23\" fill=\"#000000\" />\n",
       "<rect width=\".81\" height=\".81\" x=\"27\" y=\"23\" fill=\"#000000\" />\n",
       "<rect width=\".81\" height=\".81\" x=\"0\" y=\"24\" fill=\"#000000\" />\n",
       "<rect width=\".81\" height=\".81\" x=\"1\" y=\"24\" fill=\"#000000\" />\n",
       "<rect width=\".81\" height=\".81\" x=\"2\" y=\"24\" fill=\"#000000\" />\n",
       "<rect width=\".81\" height=\".81\" x=\"3\" y=\"24\" fill=\"#000000\" />\n",
       "<rect width=\".81\" height=\".81\" x=\"4\" y=\"24\" fill=\"#000000\" />\n",
       "<rect width=\".81\" height=\".81\" x=\"5\" y=\"24\" fill=\"#000000\" />\n",
       "<rect width=\".81\" height=\".81\" x=\"6\" y=\"24\" fill=\"#000000\" />\n",
       "<rect width=\".81\" height=\".81\" x=\"7\" y=\"24\" fill=\"#000000\" />\n",
       "<rect width=\".81\" height=\".81\" x=\"8\" y=\"24\" fill=\"#000000\" />\n",
       "<rect width=\".81\" height=\".81\" x=\"9\" y=\"24\" fill=\"#000000\" />\n",
       "<rect width=\".81\" height=\".81\" x=\"10\" y=\"24\" fill=\"#000000\" />\n",
       "<rect width=\".81\" height=\".81\" x=\"11\" y=\"24\" fill=\"#000000\" />\n",
       "<rect width=\".81\" height=\".81\" x=\"12\" y=\"24\" fill=\"#000000\" />\n",
       "<rect width=\".81\" height=\".81\" x=\"13\" y=\"24\" fill=\"#000000\" />\n",
       "<rect width=\".81\" height=\".81\" x=\"14\" y=\"24\" fill=\"#000000\" />\n",
       "<rect width=\".81\" height=\".81\" x=\"15\" y=\"24\" fill=\"#000000\" />\n",
       "<rect width=\".81\" height=\".81\" x=\"16\" y=\"24\" fill=\"#000000\" />\n",
       "<rect width=\".81\" height=\".81\" x=\"17\" y=\"24\" fill=\"#000000\" />\n",
       "<rect width=\".81\" height=\".81\" x=\"18\" y=\"24\" fill=\"#000000\" />\n",
       "<rect width=\".81\" height=\".81\" x=\"19\" y=\"24\" fill=\"#000000\" />\n",
       "<rect width=\".81\" height=\".81\" x=\"20\" y=\"24\" fill=\"#000000\" />\n",
       "<rect width=\".81\" height=\".81\" x=\"21\" y=\"24\" fill=\"#000000\" />\n",
       "<rect width=\".81\" height=\".81\" x=\"22\" y=\"24\" fill=\"#000000\" />\n",
       "<rect width=\".81\" height=\".81\" x=\"23\" y=\"24\" fill=\"#000000\" />\n",
       "<rect width=\".81\" height=\".81\" x=\"24\" y=\"24\" fill=\"#000000\" />\n",
       "<rect width=\".81\" height=\".81\" x=\"25\" y=\"24\" fill=\"#000000\" />\n",
       "<rect width=\".81\" height=\".81\" x=\"26\" y=\"24\" fill=\"#000000\" />\n",
       "<rect width=\".81\" height=\".81\" x=\"27\" y=\"24\" fill=\"#000000\" />\n",
       "<rect width=\".81\" height=\".81\" x=\"0\" y=\"25\" fill=\"#000000\" />\n",
       "<rect width=\".81\" height=\".81\" x=\"1\" y=\"25\" fill=\"#000000\" />\n",
       "<rect width=\".81\" height=\".81\" x=\"2\" y=\"25\" fill=\"#000000\" />\n",
       "<rect width=\".81\" height=\".81\" x=\"3\" y=\"25\" fill=\"#000000\" />\n",
       "<rect width=\".81\" height=\".81\" x=\"4\" y=\"25\" fill=\"#000000\" />\n",
       "<rect width=\".81\" height=\".81\" x=\"5\" y=\"25\" fill=\"#000000\" />\n",
       "<rect width=\".81\" height=\".81\" x=\"6\" y=\"25\" fill=\"#000000\" />\n",
       "<rect width=\".81\" height=\".81\" x=\"7\" y=\"25\" fill=\"#000000\" />\n",
       "<rect width=\".81\" height=\".81\" x=\"8\" y=\"25\" fill=\"#000000\" />\n",
       "<rect width=\".81\" height=\".81\" x=\"9\" y=\"25\" fill=\"#000000\" />\n",
       "<rect width=\".81\" height=\".81\" x=\"10\" y=\"25\" fill=\"#000000\" />\n",
       "<rect width=\".81\" height=\".81\" x=\"11\" y=\"25\" fill=\"#000000\" />\n",
       "<rect width=\".81\" height=\".81\" x=\"12\" y=\"25\" fill=\"#000000\" />\n",
       "<rect width=\".81\" height=\".81\" x=\"13\" y=\"25\" fill=\"#000000\" />\n",
       "<rect width=\".81\" height=\".81\" x=\"14\" y=\"25\" fill=\"#000000\" />\n",
       "<rect width=\".81\" height=\".81\" x=\"15\" y=\"25\" fill=\"#000000\" />\n",
       "<rect width=\".81\" height=\".81\" x=\"16\" y=\"25\" fill=\"#000000\" />\n",
       "<rect width=\".81\" height=\".81\" x=\"17\" y=\"25\" fill=\"#000000\" />\n",
       "<rect width=\".81\" height=\".81\" x=\"18\" y=\"25\" fill=\"#000000\" />\n",
       "<rect width=\".81\" height=\".81\" x=\"19\" y=\"25\" fill=\"#000000\" />\n",
       "<rect width=\".81\" height=\".81\" x=\"20\" y=\"25\" fill=\"#000000\" />\n",
       "<rect width=\".81\" height=\".81\" x=\"21\" y=\"25\" fill=\"#000000\" />\n",
       "<rect width=\".81\" height=\".81\" x=\"22\" y=\"25\" fill=\"#000000\" />\n",
       "<rect width=\".81\" height=\".81\" x=\"23\" y=\"25\" fill=\"#000000\" />\n",
       "<rect width=\".81\" height=\".81\" x=\"24\" y=\"25\" fill=\"#000000\" />\n",
       "<rect width=\".81\" height=\".81\" x=\"25\" y=\"25\" fill=\"#000000\" />\n",
       "<rect width=\".81\" height=\".81\" x=\"26\" y=\"25\" fill=\"#000000\" />\n",
       "<rect width=\".81\" height=\".81\" x=\"27\" y=\"25\" fill=\"#000000\" />\n",
       "<rect width=\".81\" height=\".81\" x=\"0\" y=\"26\" fill=\"#000000\" />\n",
       "<rect width=\".81\" height=\".81\" x=\"1\" y=\"26\" fill=\"#000000\" />\n",
       "<rect width=\".81\" height=\".81\" x=\"2\" y=\"26\" fill=\"#000000\" />\n",
       "<rect width=\".81\" height=\".81\" x=\"3\" y=\"26\" fill=\"#000000\" />\n",
       "<rect width=\".81\" height=\".81\" x=\"4\" y=\"26\" fill=\"#000000\" />\n",
       "<rect width=\".81\" height=\".81\" x=\"5\" y=\"26\" fill=\"#000000\" />\n",
       "<rect width=\".81\" height=\".81\" x=\"6\" y=\"26\" fill=\"#000000\" />\n",
       "<rect width=\".81\" height=\".81\" x=\"7\" y=\"26\" fill=\"#000000\" />\n",
       "<rect width=\".81\" height=\".81\" x=\"8\" y=\"26\" fill=\"#000000\" />\n",
       "<rect width=\".81\" height=\".81\" x=\"9\" y=\"26\" fill=\"#000000\" />\n",
       "<rect width=\".81\" height=\".81\" x=\"10\" y=\"26\" fill=\"#000000\" />\n",
       "<rect width=\".81\" height=\".81\" x=\"11\" y=\"26\" fill=\"#000000\" />\n",
       "<rect width=\".81\" height=\".81\" x=\"12\" y=\"26\" fill=\"#000000\" />\n",
       "<rect width=\".81\" height=\".81\" x=\"13\" y=\"26\" fill=\"#000000\" />\n",
       "<rect width=\".81\" height=\".81\" x=\"14\" y=\"26\" fill=\"#000000\" />\n",
       "<rect width=\".81\" height=\".81\" x=\"15\" y=\"26\" fill=\"#000000\" />\n",
       "<rect width=\".81\" height=\".81\" x=\"16\" y=\"26\" fill=\"#000000\" />\n",
       "<rect width=\".81\" height=\".81\" x=\"17\" y=\"26\" fill=\"#000000\" />\n",
       "<rect width=\".81\" height=\".81\" x=\"18\" y=\"26\" fill=\"#000000\" />\n",
       "<rect width=\".81\" height=\".81\" x=\"19\" y=\"26\" fill=\"#000000\" />\n",
       "<rect width=\".81\" height=\".81\" x=\"20\" y=\"26\" fill=\"#000000\" />\n",
       "<rect width=\".81\" height=\".81\" x=\"21\" y=\"26\" fill=\"#000000\" />\n",
       "<rect width=\".81\" height=\".81\" x=\"22\" y=\"26\" fill=\"#000000\" />\n",
       "<rect width=\".81\" height=\".81\" x=\"23\" y=\"26\" fill=\"#000000\" />\n",
       "<rect width=\".81\" height=\".81\" x=\"24\" y=\"26\" fill=\"#000000\" />\n",
       "<rect width=\".81\" height=\".81\" x=\"25\" y=\"26\" fill=\"#000000\" />\n",
       "<rect width=\".81\" height=\".81\" x=\"26\" y=\"26\" fill=\"#000000\" />\n",
       "<rect width=\".81\" height=\".81\" x=\"27\" y=\"26\" fill=\"#000000\" />\n",
       "<rect width=\".81\" height=\".81\" x=\"0\" y=\"27\" fill=\"#000000\" />\n",
       "<rect width=\".81\" height=\".81\" x=\"1\" y=\"27\" fill=\"#000000\" />\n",
       "<rect width=\".81\" height=\".81\" x=\"2\" y=\"27\" fill=\"#000000\" />\n",
       "<rect width=\".81\" height=\".81\" x=\"3\" y=\"27\" fill=\"#000000\" />\n",
       "<rect width=\".81\" height=\".81\" x=\"4\" y=\"27\" fill=\"#000000\" />\n",
       "<rect width=\".81\" height=\".81\" x=\"5\" y=\"27\" fill=\"#000000\" />\n",
       "<rect width=\".81\" height=\".81\" x=\"6\" y=\"27\" fill=\"#000000\" />\n",
       "<rect width=\".81\" height=\".81\" x=\"7\" y=\"27\" fill=\"#000000\" />\n",
       "<rect width=\".81\" height=\".81\" x=\"8\" y=\"27\" fill=\"#000000\" />\n",
       "<rect width=\".81\" height=\".81\" x=\"9\" y=\"27\" fill=\"#000000\" />\n",
       "<rect width=\".81\" height=\".81\" x=\"10\" y=\"27\" fill=\"#000000\" />\n",
       "<rect width=\".81\" height=\".81\" x=\"11\" y=\"27\" fill=\"#000000\" />\n",
       "<rect width=\".81\" height=\".81\" x=\"12\" y=\"27\" fill=\"#000000\" />\n",
       "<rect width=\".81\" height=\".81\" x=\"13\" y=\"27\" fill=\"#000000\" />\n",
       "<rect width=\".81\" height=\".81\" x=\"14\" y=\"27\" fill=\"#000000\" />\n",
       "<rect width=\".81\" height=\".81\" x=\"15\" y=\"27\" fill=\"#000000\" />\n",
       "<rect width=\".81\" height=\".81\" x=\"16\" y=\"27\" fill=\"#000000\" />\n",
       "<rect width=\".81\" height=\".81\" x=\"17\" y=\"27\" fill=\"#000000\" />\n",
       "<rect width=\".81\" height=\".81\" x=\"18\" y=\"27\" fill=\"#000000\" />\n",
       "<rect width=\".81\" height=\".81\" x=\"19\" y=\"27\" fill=\"#000000\" />\n",
       "<rect width=\".81\" height=\".81\" x=\"20\" y=\"27\" fill=\"#000000\" />\n",
       "<rect width=\".81\" height=\".81\" x=\"21\" y=\"27\" fill=\"#000000\" />\n",
       "<rect width=\".81\" height=\".81\" x=\"22\" y=\"27\" fill=\"#000000\" />\n",
       "<rect width=\".81\" height=\".81\" x=\"23\" y=\"27\" fill=\"#000000\" />\n",
       "<rect width=\".81\" height=\".81\" x=\"24\" y=\"27\" fill=\"#000000\" />\n",
       "<rect width=\".81\" height=\".81\" x=\"25\" y=\"27\" fill=\"#000000\" />\n",
       "<rect width=\".81\" height=\".81\" x=\"26\" y=\"27\" fill=\"#000000\" />\n",
       "<rect width=\".81\" height=\".81\" x=\"27\" y=\"27\" fill=\"#000000\" />\n",
       "</svg>"
      ],
      "text/plain": [
       "28×28 Array{Gray{N0f8},2} with eltype ColorTypes.Gray{FixedPointNumbers.N0f8}:\n",
       " Gray{N0f8}(0.0)  Gray{N0f8}(0.0)  …  Gray{N0f8}(0.0)  Gray{N0f8}(0.0)\n",
       " Gray{N0f8}(0.0)  Gray{N0f8}(0.0)     Gray{N0f8}(0.0)  Gray{N0f8}(0.0)\n",
       " Gray{N0f8}(0.0)  Gray{N0f8}(0.0)     Gray{N0f8}(0.0)  Gray{N0f8}(0.0)\n",
       " Gray{N0f8}(0.0)  Gray{N0f8}(0.0)     Gray{N0f8}(0.0)  Gray{N0f8}(0.0)\n",
       " Gray{N0f8}(0.0)  Gray{N0f8}(0.0)     Gray{N0f8}(0.0)  Gray{N0f8}(0.0)\n",
       " Gray{N0f8}(0.0)  Gray{N0f8}(0.0)  …  Gray{N0f8}(0.0)  Gray{N0f8}(0.0)\n",
       " Gray{N0f8}(0.0)  Gray{N0f8}(0.0)     Gray{N0f8}(0.0)  Gray{N0f8}(0.0)\n",
       " Gray{N0f8}(0.0)  Gray{N0f8}(0.0)     Gray{N0f8}(0.0)  Gray{N0f8}(0.0)\n",
       " Gray{N0f8}(0.0)  Gray{N0f8}(0.0)     Gray{N0f8}(0.0)  Gray{N0f8}(0.0)\n",
       " Gray{N0f8}(0.0)  Gray{N0f8}(0.0)     Gray{N0f8}(0.0)  Gray{N0f8}(0.0)\n",
       " Gray{N0f8}(0.0)  Gray{N0f8}(0.0)  …  Gray{N0f8}(0.0)  Gray{N0f8}(0.0)\n",
       " Gray{N0f8}(0.0)  Gray{N0f8}(0.0)     Gray{N0f8}(0.0)  Gray{N0f8}(0.0)\n",
       " Gray{N0f8}(0.0)  Gray{N0f8}(0.0)     Gray{N0f8}(0.0)  Gray{N0f8}(0.0)\n",
       " ⋮                                 ⋱                   \n",
       " Gray{N0f8}(0.0)  Gray{N0f8}(0.0)     Gray{N0f8}(0.0)  Gray{N0f8}(0.0)\n",
       " Gray{N0f8}(0.0)  Gray{N0f8}(0.0)     Gray{N0f8}(0.0)  Gray{N0f8}(0.0)\n",
       " Gray{N0f8}(0.0)  Gray{N0f8}(0.0)     Gray{N0f8}(0.0)  Gray{N0f8}(0.0)\n",
       " Gray{N0f8}(0.0)  Gray{N0f8}(0.0)     Gray{N0f8}(0.0)  Gray{N0f8}(0.0)\n",
       " Gray{N0f8}(0.0)  Gray{N0f8}(0.0)  …  Gray{N0f8}(0.0)  Gray{N0f8}(0.0)\n",
       " Gray{N0f8}(0.0)  Gray{N0f8}(0.0)     Gray{N0f8}(0.0)  Gray{N0f8}(0.0)\n",
       " Gray{N0f8}(0.0)  Gray{N0f8}(0.0)     Gray{N0f8}(0.0)  Gray{N0f8}(0.0)\n",
       " Gray{N0f8}(0.0)  Gray{N0f8}(0.0)     Gray{N0f8}(0.0)  Gray{N0f8}(0.0)\n",
       " Gray{N0f8}(0.0)  Gray{N0f8}(0.0)     Gray{N0f8}(0.0)  Gray{N0f8}(0.0)\n",
       " Gray{N0f8}(0.0)  Gray{N0f8}(0.0)  …  Gray{N0f8}(0.0)  Gray{N0f8}(0.0)\n",
       " Gray{N0f8}(0.0)  Gray{N0f8}(0.0)     Gray{N0f8}(0.0)  Gray{N0f8}(0.0)\n",
       " Gray{N0f8}(0.0)  Gray{N0f8}(0.0)     Gray{N0f8}(0.0)  Gray{N0f8}(0.0)"
      ]
     },
     "execution_count": 78,
     "metadata": {},
     "output_type": "execute_result"
    }
   ],
   "source": [
    "foo=images[800]"
   ]
  },
  {
   "cell_type": "code",
   "execution_count": 79,
   "id": "5e59875e-3154-4e11-a705-9dfb65fbdb41",
   "metadata": {},
   "outputs": [
    {
     "data": {
      "image/svg+xml": [
       "<?xml version=\"1.0\" encoding=\"UTF-8\"?>\n",
       "<!DOCTYPE svg PUBLIC \"-//W3C//DTD SVG 1.1//EN\"\n",
       " \"http://www.w3.org/Graphics/SVG/1.1/DTD/svg11.dtd\">\n",
       "<svg xmlns=\"http://www.w3.org/2000/svg\" version=\"1.1\"\n",
       "     width=\"180mm\" height=\"25mm\"\n",
       "     viewBox=\"0 0 784 1\" preserveAspectRatio=\"none\"\n",
       "     shape-rendering=\"crispEdges\" stroke=\"none\">\n",
       "<rect width=\"1\" height=\".96\" x=\"0\" y=\"0\" fill=\"#000000\" />\n",
       "<rect width=\"1\" height=\".96\" x=\"1\" y=\"0\" fill=\"#000000\" />\n",
       "<rect width=\"1\" height=\".96\" x=\"2\" y=\"0\" fill=\"#000000\" />\n",
       "<rect width=\"1\" height=\".96\" x=\"3\" y=\"0\" fill=\"#000000\" />\n",
       "<rect width=\"1\" height=\".96\" x=\"4\" y=\"0\" fill=\"#000000\" />\n",
       "<rect width=\"1\" height=\".96\" x=\"5\" y=\"0\" fill=\"#000000\" />\n",
       "<rect width=\"1\" height=\".96\" x=\"6\" y=\"0\" fill=\"#000000\" />\n",
       "<rect width=\"1\" height=\".96\" x=\"7\" y=\"0\" fill=\"#000000\" />\n",
       "<rect width=\"1\" height=\".96\" x=\"8\" y=\"0\" fill=\"#000000\" />\n",
       "<rect width=\"1\" height=\".96\" x=\"9\" y=\"0\" fill=\"#000000\" />\n",
       "<rect width=\"1\" height=\".96\" x=\"10\" y=\"0\" fill=\"#000000\" />\n",
       "<rect width=\"1\" height=\".96\" x=\"11\" y=\"0\" fill=\"#000000\" />\n",
       "<rect width=\"1\" height=\".96\" x=\"12\" y=\"0\" fill=\"#000000\" />\n",
       "<rect width=\"1\" height=\".96\" x=\"13\" y=\"0\" fill=\"#000000\" />\n",
       "<rect width=\"1\" height=\".96\" x=\"14\" y=\"0\" fill=\"#000000\" />\n",
       "<rect width=\"1\" height=\".96\" x=\"15\" y=\"0\" fill=\"#000000\" />\n",
       "<rect width=\"1\" height=\".96\" x=\"16\" y=\"0\" fill=\"#000000\" />\n",
       "<rect width=\"1\" height=\".96\" x=\"17\" y=\"0\" fill=\"#000000\" />\n",
       "<rect width=\"1\" height=\".96\" x=\"18\" y=\"0\" fill=\"#000000\" />\n",
       "<rect width=\"1\" height=\".96\" x=\"19\" y=\"0\" fill=\"#000000\" />\n",
       "<rect width=\"1\" height=\".96\" x=\"20\" y=\"0\" fill=\"#000000\" />\n",
       "<rect width=\"1\" height=\".96\" x=\"21\" y=\"0\" fill=\"#000000\" />\n",
       "<rect width=\"1\" height=\".96\" x=\"22\" y=\"0\" fill=\"#000000\" />\n",
       "<rect width=\"1\" height=\".96\" x=\"23\" y=\"0\" fill=\"#000000\" />\n",
       "<rect width=\"1\" height=\".96\" x=\"24\" y=\"0\" fill=\"#000000\" />\n",
       "<rect width=\"1\" height=\".96\" x=\"25\" y=\"0\" fill=\"#000000\" />\n",
       "<rect width=\"1\" height=\".96\" x=\"26\" y=\"0\" fill=\"#000000\" />\n",
       "<rect width=\"1\" height=\".96\" x=\"27\" y=\"0\" fill=\"#000000\" />\n",
       "<rect width=\"1\" height=\".96\" x=\"28\" y=\"0\" fill=\"#000000\" />\n",
       "<rect width=\"1\" height=\".96\" x=\"29\" y=\"0\" fill=\"#000000\" />\n",
       "<rect width=\"1\" height=\".96\" x=\"30\" y=\"0\" fill=\"#000000\" />\n",
       "<rect width=\"1\" height=\".96\" x=\"31\" y=\"0\" fill=\"#000000\" />\n",
       "<rect width=\"1\" height=\".96\" x=\"32\" y=\"0\" fill=\"#000000\" />\n",
       "<rect width=\"1\" height=\".96\" x=\"33\" y=\"0\" fill=\"#000000\" />\n",
       "<rect width=\"1\" height=\".96\" x=\"34\" y=\"0\" fill=\"#000000\" />\n",
       "<rect width=\"1\" height=\".96\" x=\"35\" y=\"0\" fill=\"#000000\" />\n",
       "<rect width=\"1\" height=\".96\" x=\"36\" y=\"0\" fill=\"#000000\" />\n",
       "<rect width=\"1\" height=\".96\" x=\"37\" y=\"0\" fill=\"#000000\" />\n",
       "<rect width=\"1\" height=\".96\" x=\"38\" y=\"0\" fill=\"#000000\" />\n",
       "<rect width=\"1\" height=\".96\" x=\"39\" y=\"0\" fill=\"#000000\" />\n",
       "<rect width=\"1\" height=\".96\" x=\"40\" y=\"0\" fill=\"#000000\" />\n",
       "<rect width=\"1\" height=\".96\" x=\"41\" y=\"0\" fill=\"#000000\" />\n",
       "<rect width=\"1\" height=\".96\" x=\"42\" y=\"0\" fill=\"#000000\" />\n",
       "<rect width=\"1\" height=\".96\" x=\"43\" y=\"0\" fill=\"#000000\" />\n",
       "<rect width=\"1\" height=\".96\" x=\"44\" y=\"0\" fill=\"#000000\" />\n",
       "<rect width=\"1\" height=\".96\" x=\"45\" y=\"0\" fill=\"#000000\" />\n",
       "<rect width=\"1\" height=\".96\" x=\"46\" y=\"0\" fill=\"#000000\" />\n",
       "<rect width=\"1\" height=\".96\" x=\"47\" y=\"0\" fill=\"#000000\" />\n",
       "<rect width=\"1\" height=\".96\" x=\"48\" y=\"0\" fill=\"#000000\" />\n",
       "<rect width=\"1\" height=\".96\" x=\"49\" y=\"0\" fill=\"#000000\" />\n",
       "<rect width=\"1\" height=\".96\" x=\"50\" y=\"0\" fill=\"#000000\" />\n",
       "<rect width=\"1\" height=\".96\" x=\"51\" y=\"0\" fill=\"#000000\" />\n",
       "<rect width=\"1\" height=\".96\" x=\"52\" y=\"0\" fill=\"#000000\" />\n",
       "<rect width=\"1\" height=\".96\" x=\"53\" y=\"0\" fill=\"#000000\" />\n",
       "<rect width=\"1\" height=\".96\" x=\"54\" y=\"0\" fill=\"#000000\" />\n",
       "<rect width=\"1\" height=\".96\" x=\"55\" y=\"0\" fill=\"#000000\" />\n",
       "<rect width=\"1\" height=\".96\" x=\"56\" y=\"0\" fill=\"#000000\" />\n",
       "<rect width=\"1\" height=\".96\" x=\"57\" y=\"0\" fill=\"#000000\" />\n",
       "<rect width=\"1\" height=\".96\" x=\"58\" y=\"0\" fill=\"#000000\" />\n",
       "<rect width=\"1\" height=\".96\" x=\"59\" y=\"0\" fill=\"#000000\" />\n",
       "<rect width=\"1\" height=\".96\" x=\"60\" y=\"0\" fill=\"#000000\" />\n",
       "<rect width=\"1\" height=\".96\" x=\"61\" y=\"0\" fill=\"#000000\" />\n",
       "<rect width=\"1\" height=\".96\" x=\"62\" y=\"0\" fill=\"#000000\" />\n",
       "<rect width=\"1\" height=\".96\" x=\"63\" y=\"0\" fill=\"#000000\" />\n",
       "<rect width=\"1\" height=\".96\" x=\"64\" y=\"0\" fill=\"#000000\" />\n",
       "<rect width=\"1\" height=\".96\" x=\"65\" y=\"0\" fill=\"#000000\" />\n",
       "<rect width=\"1\" height=\".96\" x=\"66\" y=\"0\" fill=\"#000000\" />\n",
       "<rect width=\"1\" height=\".96\" x=\"67\" y=\"0\" fill=\"#000000\" />\n",
       "<rect width=\"1\" height=\".96\" x=\"68\" y=\"0\" fill=\"#000000\" />\n",
       "<rect width=\"1\" height=\".96\" x=\"69\" y=\"0\" fill=\"#000000\" />\n",
       "<rect width=\"1\" height=\".96\" x=\"70\" y=\"0\" fill=\"#000000\" />\n",
       "<rect width=\"1\" height=\".96\" x=\"71\" y=\"0\" fill=\"#000000\" />\n",
       "<rect width=\"1\" height=\".96\" x=\"72\" y=\"0\" fill=\"#000000\" />\n",
       "<rect width=\"1\" height=\".96\" x=\"73\" y=\"0\" fill=\"#000000\" />\n",
       "<rect width=\"1\" height=\".96\" x=\"74\" y=\"0\" fill=\"#000000\" />\n",
       "<rect width=\"1\" height=\".96\" x=\"75\" y=\"0\" fill=\"#000000\" />\n",
       "<rect width=\"1\" height=\".96\" x=\"76\" y=\"0\" fill=\"#000000\" />\n",
       "<rect width=\"1\" height=\".96\" x=\"77\" y=\"0\" fill=\"#000000\" />\n",
       "<rect width=\"1\" height=\".96\" x=\"78\" y=\"0\" fill=\"#000000\" />\n",
       "<rect width=\"1\" height=\".96\" x=\"79\" y=\"0\" fill=\"#000000\" />\n",
       "<rect width=\"1\" height=\".96\" x=\"80\" y=\"0\" fill=\"#000000\" />\n",
       "<rect width=\"1\" height=\".96\" x=\"81\" y=\"0\" fill=\"#000000\" />\n",
       "<rect width=\"1\" height=\".96\" x=\"82\" y=\"0\" fill=\"#000000\" />\n",
       "<rect width=\"1\" height=\".96\" x=\"83\" y=\"0\" fill=\"#000000\" />\n",
       "<rect width=\"1\" height=\".96\" x=\"84\" y=\"0\" fill=\"#000000\" />\n",
       "<rect width=\"1\" height=\".96\" x=\"85\" y=\"0\" fill=\"#000000\" />\n",
       "<rect width=\"1\" height=\".96\" x=\"86\" y=\"0\" fill=\"#000000\" />\n",
       "<rect width=\"1\" height=\".96\" x=\"87\" y=\"0\" fill=\"#000000\" />\n",
       "<rect width=\"1\" height=\".96\" x=\"88\" y=\"0\" fill=\"#000000\" />\n",
       "<rect width=\"1\" height=\".96\" x=\"89\" y=\"0\" fill=\"#000000\" />\n",
       "<rect width=\"1\" height=\".96\" x=\"90\" y=\"0\" fill=\"#000000\" />\n",
       "<rect width=\"1\" height=\".96\" x=\"91\" y=\"0\" fill=\"#000000\" />\n",
       "<rect width=\"1\" height=\".96\" x=\"92\" y=\"0\" fill=\"#000000\" />\n",
       "<rect width=\"1\" height=\".96\" x=\"93\" y=\"0\" fill=\"#000000\" />\n",
       "<rect width=\"1\" height=\".96\" x=\"94\" y=\"0\" fill=\"#000000\" />\n",
       "<rect width=\"1\" height=\".96\" x=\"95\" y=\"0\" fill=\"#000000\" />\n",
       "<rect width=\"1\" height=\".96\" x=\"96\" y=\"0\" fill=\"#000000\" />\n",
       "<rect width=\"1\" height=\".96\" x=\"97\" y=\"0\" fill=\"#000000\" />\n",
       "<rect width=\"1\" height=\".96\" x=\"98\" y=\"0\" fill=\"#000000\" />\n",
       "<rect width=\"1\" height=\".96\" x=\"99\" y=\"0\" fill=\"#000000\" />\n",
       "<rect width=\"1\" height=\".96\" x=\"100\" y=\"0\" fill=\"#000000\" />\n",
       "<rect width=\"1\" height=\".96\" x=\"101\" y=\"0\" fill=\"#000000\" />\n",
       "<rect width=\"1\" height=\".96\" x=\"102\" y=\"0\" fill=\"#000000\" />\n",
       "<rect width=\"1\" height=\".96\" x=\"103\" y=\"0\" fill=\"#000000\" />\n",
       "<rect width=\"1\" height=\".96\" x=\"104\" y=\"0\" fill=\"#000000\" />\n",
       "<rect width=\"1\" height=\".96\" x=\"105\" y=\"0\" fill=\"#000000\" />\n",
       "<rect width=\"1\" height=\".96\" x=\"106\" y=\"0\" fill=\"#000000\" />\n",
       "<rect width=\"1\" height=\".96\" x=\"107\" y=\"0\" fill=\"#000000\" />\n",
       "<rect width=\"1\" height=\".96\" x=\"108\" y=\"0\" fill=\"#000000\" />\n",
       "<rect width=\"1\" height=\".96\" x=\"109\" y=\"0\" fill=\"#000000\" />\n",
       "<rect width=\"1\" height=\".96\" x=\"110\" y=\"0\" fill=\"#000000\" />\n",
       "<rect width=\"1\" height=\".96\" x=\"111\" y=\"0\" fill=\"#000000\" />\n",
       "<rect width=\"1\" height=\".96\" x=\"112\" y=\"0\" fill=\"#000000\" />\n",
       "<rect width=\"1\" height=\".96\" x=\"113\" y=\"0\" fill=\"#000000\" />\n",
       "<rect width=\"1\" height=\".96\" x=\"114\" y=\"0\" fill=\"#000000\" />\n",
       "<rect width=\"1\" height=\".96\" x=\"115\" y=\"0\" fill=\"#000000\" />\n",
       "<rect width=\"1\" height=\".96\" x=\"116\" y=\"0\" fill=\"#000000\" />\n",
       "<rect width=\"1\" height=\".96\" x=\"117\" y=\"0\" fill=\"#000000\" />\n",
       "<rect width=\"1\" height=\".96\" x=\"118\" y=\"0\" fill=\"#000000\" />\n",
       "<rect width=\"1\" height=\".96\" x=\"119\" y=\"0\" fill=\"#000000\" />\n",
       "<rect width=\"1\" height=\".96\" x=\"120\" y=\"0\" fill=\"#000000\" />\n",
       "<rect width=\"1\" height=\".96\" x=\"121\" y=\"0\" fill=\"#000000\" />\n",
       "<rect width=\"1\" height=\".96\" x=\"122\" y=\"0\" fill=\"#000000\" />\n",
       "<rect width=\"1\" height=\".96\" x=\"123\" y=\"0\" fill=\"#000000\" />\n",
       "<rect width=\"1\" height=\".96\" x=\"124\" y=\"0\" fill=\"#000000\" />\n",
       "<rect width=\"1\" height=\".96\" x=\"125\" y=\"0\" fill=\"#000000\" />\n",
       "<rect width=\"1\" height=\".96\" x=\"126\" y=\"0\" fill=\"#000000\" />\n",
       "<rect width=\"1\" height=\".96\" x=\"127\" y=\"0\" fill=\"#000000\" />\n",
       "<rect width=\"1\" height=\".96\" x=\"128\" y=\"0\" fill=\"#000000\" />\n",
       "<rect width=\"1\" height=\".96\" x=\"129\" y=\"0\" fill=\"#000000\" />\n",
       "<rect width=\"1\" height=\".96\" x=\"130\" y=\"0\" fill=\"#000000\" />\n",
       "<rect width=\"1\" height=\".96\" x=\"131\" y=\"0\" fill=\"#000000\" />\n",
       "<rect width=\"1\" height=\".96\" x=\"132\" y=\"0\" fill=\"#000000\" />\n",
       "<rect width=\"1\" height=\".96\" x=\"133\" y=\"0\" fill=\"#000000\" />\n",
       "<rect width=\"1\" height=\".96\" x=\"134\" y=\"0\" fill=\"#000000\" />\n",
       "<rect width=\"1\" height=\".96\" x=\"135\" y=\"0\" fill=\"#000000\" />\n",
       "<rect width=\"1\" height=\".96\" x=\"136\" y=\"0\" fill=\"#000000\" />\n",
       "<rect width=\"1\" height=\".96\" x=\"137\" y=\"0\" fill=\"#000000\" />\n",
       "<rect width=\"1\" height=\".96\" x=\"138\" y=\"0\" fill=\"#000000\" />\n",
       "<rect width=\"1\" height=\".96\" x=\"139\" y=\"0\" fill=\"#000000\" />\n",
       "<rect width=\"1\" height=\".96\" x=\"140\" y=\"0\" fill=\"#000000\" />\n",
       "<rect width=\"1\" height=\".96\" x=\"141\" y=\"0\" fill=\"#000000\" />\n",
       "<rect width=\"1\" height=\".96\" x=\"142\" y=\"0\" fill=\"#000000\" />\n",
       "<rect width=\"1\" height=\".96\" x=\"143\" y=\"0\" fill=\"#000000\" />\n",
       "<rect width=\"1\" height=\".96\" x=\"144\" y=\"0\" fill=\"#000000\" />\n",
       "<rect width=\"1\" height=\".96\" x=\"145\" y=\"0\" fill=\"#000000\" />\n",
       "<rect width=\"1\" height=\".96\" x=\"146\" y=\"0\" fill=\"#000000\" />\n",
       "<rect width=\"1\" height=\".96\" x=\"147\" y=\"0\" fill=\"#000000\" />\n",
       "<rect width=\"1\" height=\".96\" x=\"148\" y=\"0\" fill=\"#000000\" />\n",
       "<rect width=\"1\" height=\".96\" x=\"149\" y=\"0\" fill=\"#000000\" />\n",
       "<rect width=\"1\" height=\".96\" x=\"150\" y=\"0\" fill=\"#000000\" />\n",
       "<rect width=\"1\" height=\".96\" x=\"151\" y=\"0\" fill=\"#000000\" />\n",
       "<rect width=\"1\" height=\".96\" x=\"152\" y=\"0\" fill=\"#000000\" />\n",
       "<rect width=\"1\" height=\".96\" x=\"153\" y=\"0\" fill=\"#000000\" />\n",
       "<rect width=\"1\" height=\".96\" x=\"154\" y=\"0\" fill=\"#000000\" />\n",
       "<rect width=\"1\" height=\".96\" x=\"155\" y=\"0\" fill=\"#000000\" />\n",
       "<rect width=\"1\" height=\".96\" x=\"156\" y=\"0\" fill=\"#000000\" />\n",
       "<rect width=\"1\" height=\".96\" x=\"157\" y=\"0\" fill=\"#000000\" />\n",
       "<rect width=\"1\" height=\".96\" x=\"158\" y=\"0\" fill=\"#000000\" />\n",
       "<rect width=\"1\" height=\".96\" x=\"159\" y=\"0\" fill=\"#171717\" />\n",
       "<rect width=\"1\" height=\".96\" x=\"160\" y=\"0\" fill=\"#606060\" />\n",
       "<rect width=\"1\" height=\".96\" x=\"161\" y=\"0\" fill=\"#6D6D6D\" />\n",
       "<rect width=\"1\" height=\".96\" x=\"162\" y=\"0\" fill=\"#171717\" />\n",
       "<rect width=\"1\" height=\".96\" x=\"163\" y=\"0\" fill=\"#000000\" />\n",
       "<rect width=\"1\" height=\".96\" x=\"164\" y=\"0\" fill=\"#000000\" />\n",
       "<rect width=\"1\" height=\".96\" x=\"165\" y=\"0\" fill=\"#000000\" />\n",
       "<rect width=\"1\" height=\".96\" x=\"166\" y=\"0\" fill=\"#000000\" />\n",
       "<rect width=\"1\" height=\".96\" x=\"167\" y=\"0\" fill=\"#000000\" />\n",
       "<rect width=\"1\" height=\".96\" x=\"168\" y=\"0\" fill=\"#000000\" />\n",
       "<rect width=\"1\" height=\".96\" x=\"169\" y=\"0\" fill=\"#000000\" />\n",
       "<rect width=\"1\" height=\".96\" x=\"170\" y=\"0\" fill=\"#000000\" />\n",
       "<rect width=\"1\" height=\".96\" x=\"171\" y=\"0\" fill=\"#000000\" />\n",
       "<rect width=\"1\" height=\".96\" x=\"172\" y=\"0\" fill=\"#000000\" />\n",
       "<rect width=\"1\" height=\".96\" x=\"173\" y=\"0\" fill=\"#000000\" />\n",
       "<rect width=\"1\" height=\".96\" x=\"174\" y=\"0\" fill=\"#000000\" />\n",
       "<rect width=\"1\" height=\".96\" x=\"175\" y=\"0\" fill=\"#000000\" />\n",
       "<rect width=\"1\" height=\".96\" x=\"176\" y=\"0\" fill=\"#000000\" />\n",
       "<rect width=\"1\" height=\".96\" x=\"177\" y=\"0\" fill=\"#000000\" />\n",
       "<rect width=\"1\" height=\".96\" x=\"178\" y=\"0\" fill=\"#000000\" />\n",
       "<rect width=\"1\" height=\".96\" x=\"179\" y=\"0\" fill=\"#000000\" />\n",
       "<rect width=\"1\" height=\".96\" x=\"180\" y=\"0\" fill=\"#000000\" />\n",
       "<rect width=\"1\" height=\".96\" x=\"181\" y=\"0\" fill=\"#000000\" />\n",
       "<rect width=\"1\" height=\".96\" x=\"182\" y=\"0\" fill=\"#000000\" />\n",
       "<rect width=\"1\" height=\".96\" x=\"183\" y=\"0\" fill=\"#000000\" />\n",
       "<rect width=\"1\" height=\".96\" x=\"184\" y=\"0\" fill=\"#000000\" />\n",
       "<rect width=\"1\" height=\".96\" x=\"185\" y=\"0\" fill=\"#000000\" />\n",
       "<rect width=\"1\" height=\".96\" x=\"186\" y=\"0\" fill=\"#000000\" />\n",
       "<rect width=\"1\" height=\".96\" x=\"187\" y=\"0\" fill=\"#E6E6E6\" />\n",
       "<rect width=\"1\" height=\".96\" x=\"188\" y=\"0\" fill=\"#F7F7F7\" />\n",
       "<rect width=\"1\" height=\".96\" x=\"189\" y=\"0\" fill=\"#F1F1F1\" />\n",
       "<rect width=\"1\" height=\".96\" x=\"190\" y=\"0\" fill=\"#E5E5E5\" />\n",
       "<rect width=\"1\" height=\".96\" x=\"191\" y=\"0\" fill=\"#393939\" />\n",
       "<rect width=\"1\" height=\".96\" x=\"192\" y=\"0\" fill=\"#000000\" />\n",
       "<rect width=\"1\" height=\".96\" x=\"193\" y=\"0\" fill=\"#000000\" />\n",
       "<rect width=\"1\" height=\".96\" x=\"194\" y=\"0\" fill=\"#000000\" />\n",
       "<rect width=\"1\" height=\".96\" x=\"195\" y=\"0\" fill=\"#000000\" />\n",
       "<rect width=\"1\" height=\".96\" x=\"196\" y=\"0\" fill=\"#000000\" />\n",
       "<rect width=\"1\" height=\".96\" x=\"197\" y=\"0\" fill=\"#000000\" />\n",
       "<rect width=\"1\" height=\".96\" x=\"198\" y=\"0\" fill=\"#000000\" />\n",
       "<rect width=\"1\" height=\".96\" x=\"199\" y=\"0\" fill=\"#000000\" />\n",
       "<rect width=\"1\" height=\".96\" x=\"200\" y=\"0\" fill=\"#000000\" />\n",
       "<rect width=\"1\" height=\".96\" x=\"201\" y=\"0\" fill=\"#000000\" />\n",
       "<rect width=\"1\" height=\".96\" x=\"202\" y=\"0\" fill=\"#000000\" />\n",
       "<rect width=\"1\" height=\".96\" x=\"203\" y=\"0\" fill=\"#000000\" />\n",
       "<rect width=\"1\" height=\".96\" x=\"204\" y=\"0\" fill=\"#000000\" />\n",
       "<rect width=\"1\" height=\".96\" x=\"205\" y=\"0\" fill=\"#000000\" />\n",
       "<rect width=\"1\" height=\".96\" x=\"206\" y=\"0\" fill=\"#000000\" />\n",
       "<rect width=\"1\" height=\".96\" x=\"207\" y=\"0\" fill=\"#191919\" />\n",
       "<rect width=\"1\" height=\".96\" x=\"208\" y=\"0\" fill=\"#121212\" />\n",
       "<rect width=\"1\" height=\".96\" x=\"209\" y=\"0\" fill=\"#121212\" />\n",
       "<rect width=\"1\" height=\".96\" x=\"210\" y=\"0\" fill=\"#000000\" />\n",
       "<rect width=\"1\" height=\".96\" x=\"211\" y=\"0\" fill=\"#000000\" />\n",
       "<rect width=\"1\" height=\".96\" x=\"212\" y=\"0\" fill=\"#000000\" />\n",
       "<rect width=\"1\" height=\".96\" x=\"213\" y=\"0\" fill=\"#000000\" />\n",
       "<rect width=\"1\" height=\".96\" x=\"214\" y=\"0\" fill=\"#444444\" />\n",
       "<rect width=\"1\" height=\".96\" x=\"215\" y=\"0\" fill=\"#FEFEFE\" />\n",
       "<rect width=\"1\" height=\".96\" x=\"216\" y=\"0\" fill=\"#DEDEDE\" />\n",
       "<rect width=\"1\" height=\".96\" x=\"217\" y=\"0\" fill=\"#FDFDFD\" />\n",
       "<rect width=\"1\" height=\".96\" x=\"218\" y=\"0\" fill=\"#FDFDFD\" />\n",
       "<rect width=\"1\" height=\".96\" x=\"219\" y=\"0\" fill=\"#9B9B9B\" />\n",
       "<rect width=\"1\" height=\".96\" x=\"220\" y=\"0\" fill=\"#000000\" />\n",
       "<rect width=\"1\" height=\".96\" x=\"221\" y=\"0\" fill=\"#000000\" />\n",
       "<rect width=\"1\" height=\".96\" x=\"222\" y=\"0\" fill=\"#000000\" />\n",
       "<rect width=\"1\" height=\".96\" x=\"223\" y=\"0\" fill=\"#000000\" />\n",
       "<rect width=\"1\" height=\".96\" x=\"224\" y=\"0\" fill=\"#000000\" />\n",
       "<rect width=\"1\" height=\".96\" x=\"225\" y=\"0\" fill=\"#000000\" />\n",
       "<rect width=\"1\" height=\".96\" x=\"226\" y=\"0\" fill=\"#000000\" />\n",
       "<rect width=\"1\" height=\".96\" x=\"227\" y=\"0\" fill=\"#000000\" />\n",
       "<rect width=\"1\" height=\".96\" x=\"228\" y=\"0\" fill=\"#000000\" />\n",
       "<rect width=\"1\" height=\".96\" x=\"229\" y=\"0\" fill=\"#000000\" />\n",
       "<rect width=\"1\" height=\".96\" x=\"230\" y=\"0\" fill=\"#000000\" />\n",
       "<rect width=\"1\" height=\".96\" x=\"231\" y=\"0\" fill=\"#000000\" />\n",
       "<rect width=\"1\" height=\".96\" x=\"232\" y=\"0\" fill=\"#000000\" />\n",
       "<rect width=\"1\" height=\".96\" x=\"233\" y=\"0\" fill=\"#000000\" />\n",
       "<rect width=\"1\" height=\".96\" x=\"234\" y=\"0\" fill=\"#0B0B0B\" />\n",
       "<rect width=\"1\" height=\".96\" x=\"235\" y=\"0\" fill=\"#ACACAC\" />\n",
       "<rect width=\"1\" height=\".96\" x=\"236\" y=\"0\" fill=\"#EEEEEE\" />\n",
       "<rect width=\"1\" height=\".96\" x=\"237\" y=\"0\" fill=\"#6F6F6F\" />\n",
       "<rect width=\"1\" height=\".96\" x=\"238\" y=\"0\" fill=\"#000000\" />\n",
       "<rect width=\"1\" height=\".96\" x=\"239\" y=\"0\" fill=\"#000000\" />\n",
       "<rect width=\"1\" height=\".96\" x=\"240\" y=\"0\" fill=\"#000000\" />\n",
       "<rect width=\"1\" height=\".96\" x=\"241\" y=\"0\" fill=\"#000000\" />\n",
       "<rect width=\"1\" height=\".96\" x=\"242\" y=\"0\" fill=\"#2D2D2D\" />\n",
       "<rect width=\"1\" height=\".96\" x=\"243\" y=\"0\" fill=\"#2A2A2A\" />\n",
       "<rect width=\"1\" height=\".96\" x=\"244\" y=\"0\" fill=\"#1B1B1B\" />\n",
       "<rect width=\"1\" height=\".96\" x=\"245\" y=\"0\" fill=\"#B5B5B5\" />\n",
       "<rect width=\"1\" height=\".96\" x=\"246\" y=\"0\" fill=\"#FDFDFD\" />\n",
       "<rect width=\"1\" height=\".96\" x=\"247\" y=\"0\" fill=\"#D0D0D0\" />\n",
       "<rect width=\"1\" height=\".96\" x=\"248\" y=\"0\" fill=\"#000000\" />\n",
       "<rect width=\"1\" height=\".96\" x=\"249\" y=\"0\" fill=\"#000000\" />\n",
       "<rect width=\"1\" height=\".96\" x=\"250\" y=\"0\" fill=\"#000000\" />\n",
       "<rect width=\"1\" height=\".96\" x=\"251\" y=\"0\" fill=\"#000000\" />\n",
       "<rect width=\"1\" height=\".96\" x=\"252\" y=\"0\" fill=\"#000000\" />\n",
       "<rect width=\"1\" height=\".96\" x=\"253\" y=\"0\" fill=\"#000000\" />\n",
       "<rect width=\"1\" height=\".96\" x=\"254\" y=\"0\" fill=\"#000000\" />\n",
       "<rect width=\"1\" height=\".96\" x=\"255\" y=\"0\" fill=\"#000000\" />\n",
       "<rect width=\"1\" height=\".96\" x=\"256\" y=\"0\" fill=\"#000000\" />\n",
       "<rect width=\"1\" height=\".96\" x=\"257\" y=\"0\" fill=\"#000000\" />\n",
       "<rect width=\"1\" height=\".96\" x=\"258\" y=\"0\" fill=\"#000000\" />\n",
       "<rect width=\"1\" height=\".96\" x=\"259\" y=\"0\" fill=\"#000000\" />\n",
       "<rect width=\"1\" height=\".96\" x=\"260\" y=\"0\" fill=\"#000000\" />\n",
       "<rect width=\"1\" height=\".96\" x=\"261\" y=\"0\" fill=\"#000000\" />\n",
       "<rect width=\"1\" height=\".96\" x=\"262\" y=\"0\" fill=\"#5F5F5F\" />\n",
       "<rect width=\"1\" height=\".96\" x=\"263\" y=\"0\" fill=\"#FDFDFD\" />\n",
       "<rect width=\"1\" height=\".96\" x=\"264\" y=\"0\" fill=\"#FDFDFD\" />\n",
       "<rect width=\"1\" height=\".96\" x=\"265\" y=\"0\" fill=\"#9B9B9B\" />\n",
       "<rect width=\"1\" height=\".96\" x=\"266\" y=\"0\" fill=\"#000000\" />\n",
       "<rect width=\"1\" height=\".96\" x=\"267\" y=\"0\" fill=\"#000000\" />\n",
       "<rect width=\"1\" height=\".96\" x=\"268\" y=\"0\" fill=\"#000000\" />\n",
       "<rect width=\"1\" height=\".96\" x=\"269\" y=\"0\" fill=\"#000000\" />\n",
       "<rect width=\"1\" height=\".96\" x=\"270\" y=\"0\" fill=\"#000000\" />\n",
       "<rect width=\"1\" height=\".96\" x=\"271\" y=\"0\" fill=\"#000000\" />\n",
       "<rect width=\"1\" height=\".96\" x=\"272\" y=\"0\" fill=\"#000000\" />\n",
       "<rect width=\"1\" height=\".96\" x=\"273\" y=\"0\" fill=\"#AFAFAF\" />\n",
       "<rect width=\"1\" height=\".96\" x=\"274\" y=\"0\" fill=\"#FDFDFD\" />\n",
       "<rect width=\"1\" height=\".96\" x=\"275\" y=\"0\" fill=\"#FDFDFD\" />\n",
       "<rect width=\"1\" height=\".96\" x=\"276\" y=\"0\" fill=\"#000000\" />\n",
       "<rect width=\"1\" height=\".96\" x=\"277\" y=\"0\" fill=\"#000000\" />\n",
       "<rect width=\"1\" height=\".96\" x=\"278\" y=\"0\" fill=\"#000000\" />\n",
       "<rect width=\"1\" height=\".96\" x=\"279\" y=\"0\" fill=\"#000000\" />\n",
       "<rect width=\"1\" height=\".96\" x=\"280\" y=\"0\" fill=\"#000000\" />\n",
       "<rect width=\"1\" height=\".96\" x=\"281\" y=\"0\" fill=\"#000000\" />\n",
       "<rect width=\"1\" height=\".96\" x=\"282\" y=\"0\" fill=\"#000000\" />\n",
       "<rect width=\"1\" height=\".96\" x=\"283\" y=\"0\" fill=\"#000000\" />\n",
       "<rect width=\"1\" height=\".96\" x=\"284\" y=\"0\" fill=\"#000000\" />\n",
       "<rect width=\"1\" height=\".96\" x=\"285\" y=\"0\" fill=\"#000000\" />\n",
       "<rect width=\"1\" height=\".96\" x=\"286\" y=\"0\" fill=\"#000000\" />\n",
       "<rect width=\"1\" height=\".96\" x=\"287\" y=\"0\" fill=\"#000000\" />\n",
       "<rect width=\"1\" height=\".96\" x=\"288\" y=\"0\" fill=\"#000000\" />\n",
       "<rect width=\"1\" height=\".96\" x=\"289\" y=\"0\" fill=\"#525252\" />\n",
       "<rect width=\"1\" height=\".96\" x=\"290\" y=\"0\" fill=\"#FEFEFE\" />\n",
       "<rect width=\"1\" height=\".96\" x=\"291\" y=\"0\" fill=\"#FEFEFE\" />\n",
       "<rect width=\"1\" height=\".96\" x=\"292\" y=\"0\" fill=\"#FEFEFE\" />\n",
       "<rect width=\"1\" height=\".96\" x=\"293\" y=\"0\" fill=\"#9B9B9B\" />\n",
       "<rect width=\"1\" height=\".96\" x=\"294\" y=\"0\" fill=\"#000000\" />\n",
       "<rect width=\"1\" height=\".96\" x=\"295\" y=\"0\" fill=\"#000000\" />\n",
       "<rect width=\"1\" height=\".96\" x=\"296\" y=\"0\" fill=\"#000000\" />\n",
       "<rect width=\"1\" height=\".96\" x=\"297\" y=\"0\" fill=\"#000000\" />\n",
       "<rect width=\"1\" height=\".96\" x=\"298\" y=\"0\" fill=\"#000000\" />\n",
       "<rect width=\"1\" height=\".96\" x=\"299\" y=\"0\" fill=\"#000000\" />\n",
       "<rect width=\"1\" height=\".96\" x=\"300\" y=\"0\" fill=\"#000000\" />\n",
       "<rect width=\"1\" height=\".96\" x=\"301\" y=\"0\" fill=\"#B0B0B0\" />\n",
       "<rect width=\"1\" height=\".96\" x=\"302\" y=\"0\" fill=\"#FEFEFE\" />\n",
       "<rect width=\"1\" height=\".96\" x=\"303\" y=\"0\" fill=\"#FEFEFE\" />\n",
       "<rect width=\"1\" height=\".96\" x=\"304\" y=\"0\" fill=\"#000000\" />\n",
       "<rect width=\"1\" height=\".96\" x=\"305\" y=\"0\" fill=\"#000000\" />\n",
       "<rect width=\"1\" height=\".96\" x=\"306\" y=\"0\" fill=\"#000000\" />\n",
       "<rect width=\"1\" height=\".96\" x=\"307\" y=\"0\" fill=\"#000000\" />\n",
       "<rect width=\"1\" height=\".96\" x=\"308\" y=\"0\" fill=\"#000000\" />\n",
       "<rect width=\"1\" height=\".96\" x=\"309\" y=\"0\" fill=\"#000000\" />\n",
       "<rect width=\"1\" height=\".96\" x=\"310\" y=\"0\" fill=\"#000000\" />\n",
       "<rect width=\"1\" height=\".96\" x=\"311\" y=\"0\" fill=\"#000000\" />\n",
       "<rect width=\"1\" height=\".96\" x=\"312\" y=\"0\" fill=\"#000000\" />\n",
       "<rect width=\"1\" height=\".96\" x=\"313\" y=\"0\" fill=\"#000000\" />\n",
       "<rect width=\"1\" height=\".96\" x=\"314\" y=\"0\" fill=\"#000000\" />\n",
       "<rect width=\"1\" height=\".96\" x=\"315\" y=\"0\" fill=\"#000000\" />\n",
       "<rect width=\"1\" height=\".96\" x=\"316\" y=\"0\" fill=\"#2E2E2E\" />\n",
       "<rect width=\"1\" height=\".96\" x=\"317\" y=\"0\" fill=\"#EFEFEF\" />\n",
       "<rect width=\"1\" height=\".96\" x=\"318\" y=\"0\" fill=\"#FDFDFD\" />\n",
       "<rect width=\"1\" height=\".96\" x=\"319\" y=\"0\" fill=\"#FDFDFD\" />\n",
       "<rect width=\"1\" height=\".96\" x=\"320\" y=\"0\" fill=\"#FDFDFD\" />\n",
       "<rect width=\"1\" height=\".96\" x=\"321\" y=\"0\" fill=\"#939393\" />\n",
       "<rect width=\"1\" height=\".96\" x=\"322\" y=\"0\" fill=\"#000000\" />\n",
       "<rect width=\"1\" height=\".96\" x=\"323\" y=\"0\" fill=\"#000000\" />\n",
       "<rect width=\"1\" height=\".96\" x=\"324\" y=\"0\" fill=\"#000000\" />\n",
       "<rect width=\"1\" height=\".96\" x=\"325\" y=\"0\" fill=\"#000000\" />\n",
       "<rect width=\"1\" height=\".96\" x=\"326\" y=\"0\" fill=\"#000000\" />\n",
       "<rect width=\"1\" height=\".96\" x=\"327\" y=\"0\" fill=\"#000000\" />\n",
       "<rect width=\"1\" height=\".96\" x=\"328\" y=\"0\" fill=\"#0A0A0A\" />\n",
       "<rect width=\"1\" height=\".96\" x=\"329\" y=\"0\" fill=\"#D3D3D3\" />\n",
       "<rect width=\"1\" height=\".96\" x=\"330\" y=\"0\" fill=\"#FDFDFD\" />\n",
       "<rect width=\"1\" height=\".96\" x=\"331\" y=\"0\" fill=\"#F5F5F5\" />\n",
       "<rect width=\"1\" height=\".96\" x=\"332\" y=\"0\" fill=\"#000000\" />\n",
       "<rect width=\"1\" height=\".96\" x=\"333\" y=\"0\" fill=\"#000000\" />\n",
       "<rect width=\"1\" height=\".96\" x=\"334\" y=\"0\" fill=\"#000000\" />\n",
       "<rect width=\"1\" height=\".96\" x=\"335\" y=\"0\" fill=\"#000000\" />\n",
       "<rect width=\"1\" height=\".96\" x=\"336\" y=\"0\" fill=\"#000000\" />\n",
       "<rect width=\"1\" height=\".96\" x=\"337\" y=\"0\" fill=\"#000000\" />\n",
       "<rect width=\"1\" height=\".96\" x=\"338\" y=\"0\" fill=\"#000000\" />\n",
       "<rect width=\"1\" height=\".96\" x=\"339\" y=\"0\" fill=\"#000000\" />\n",
       "<rect width=\"1\" height=\".96\" x=\"340\" y=\"0\" fill=\"#000000\" />\n",
       "<rect width=\"1\" height=\".96\" x=\"341\" y=\"0\" fill=\"#000000\" />\n",
       "<rect width=\"1\" height=\".96\" x=\"342\" y=\"0\" fill=\"#000000\" />\n",
       "<rect width=\"1\" height=\".96\" x=\"343\" y=\"0\" fill=\"#0D0D0D\" />\n",
       "<rect width=\"1\" height=\".96\" x=\"344\" y=\"0\" fill=\"#B7B7B7\" />\n",
       "<rect width=\"1\" height=\".96\" x=\"345\" y=\"0\" fill=\"#FEFEFE\" />\n",
       "<rect width=\"1\" height=\".96\" x=\"346\" y=\"0\" fill=\"#FDFDFD\" />\n",
       "<rect width=\"1\" height=\".96\" x=\"347\" y=\"0\" fill=\"#FDFDFD\" />\n",
       "<rect width=\"1\" height=\".96\" x=\"348\" y=\"0\" fill=\"#FDFDFD\" />\n",
       "<rect width=\"1\" height=\".96\" x=\"349\" y=\"0\" fill=\"#585858\" />\n",
       "<rect width=\"1\" height=\".96\" x=\"350\" y=\"0\" fill=\"#000000\" />\n",
       "<rect width=\"1\" height=\".96\" x=\"351\" y=\"0\" fill=\"#000000\" />\n",
       "<rect width=\"1\" height=\".96\" x=\"352\" y=\"0\" fill=\"#000000\" />\n",
       "<rect width=\"1\" height=\".96\" x=\"353\" y=\"0\" fill=\"#000000\" />\n",
       "<rect width=\"1\" height=\".96\" x=\"354\" y=\"0\" fill=\"#000000\" />\n",
       "<rect width=\"1\" height=\".96\" x=\"355\" y=\"0\" fill=\"#000000\" />\n",
       "<rect width=\"1\" height=\".96\" x=\"356\" y=\"0\" fill=\"#585858\" />\n",
       "<rect width=\"1\" height=\".96\" x=\"357\" y=\"0\" fill=\"#FDFDFD\" />\n",
       "<rect width=\"1\" height=\".96\" x=\"358\" y=\"0\" fill=\"#FDFDFD\" />\n",
       "<rect width=\"1\" height=\".96\" x=\"359\" y=\"0\" fill=\"#9B9B9B\" />\n",
       "<rect width=\"1\" height=\".96\" x=\"360\" y=\"0\" fill=\"#000000\" />\n",
       "<rect width=\"1\" height=\".96\" x=\"361\" y=\"0\" fill=\"#000000\" />\n",
       "<rect width=\"1\" height=\".96\" x=\"362\" y=\"0\" fill=\"#000000\" />\n",
       "<rect width=\"1\" height=\".96\" x=\"363\" y=\"0\" fill=\"#000000\" />\n",
       "<rect width=\"1\" height=\".96\" x=\"364\" y=\"0\" fill=\"#000000\" />\n",
       "<rect width=\"1\" height=\".96\" x=\"365\" y=\"0\" fill=\"#000000\" />\n",
       "<rect width=\"1\" height=\".96\" x=\"366\" y=\"0\" fill=\"#000000\" />\n",
       "<rect width=\"1\" height=\".96\" x=\"367\" y=\"0\" fill=\"#000000\" />\n",
       "<rect width=\"1\" height=\".96\" x=\"368\" y=\"0\" fill=\"#000000\" />\n",
       "<rect width=\"1\" height=\".96\" x=\"369\" y=\"0\" fill=\"#000000\" />\n",
       "<rect width=\"1\" height=\".96\" x=\"370\" y=\"0\" fill=\"#0D0D0D\" />\n",
       "<rect width=\"1\" height=\".96\" x=\"371\" y=\"0\" fill=\"#B9B9B9\" />\n",
       "<rect width=\"1\" height=\".96\" x=\"372\" y=\"0\" fill=\"#FDFDFD\" />\n",
       "<rect width=\"1\" height=\".96\" x=\"373\" y=\"0\" fill=\"#F4F4F4\" />\n",
       "<rect width=\"1\" height=\".96\" x=\"374\" y=\"0\" fill=\"#9C9C9C\" />\n",
       "<rect width=\"1\" height=\".96\" x=\"375\" y=\"0\" fill=\"#FDFDFD\" />\n",
       "<rect width=\"1\" height=\".96\" x=\"376\" y=\"0\" fill=\"#FDFDFD\" />\n",
       "<rect width=\"1\" height=\".96\" x=\"377\" y=\"0\" fill=\"#676767\" />\n",
       "<rect width=\"1\" height=\".96\" x=\"378\" y=\"0\" fill=\"#000000\" />\n",
       "<rect width=\"1\" height=\".96\" x=\"379\" y=\"0\" fill=\"#000000\" />\n",
       "<rect width=\"1\" height=\".96\" x=\"380\" y=\"0\" fill=\"#000000\" />\n",
       "<rect width=\"1\" height=\".96\" x=\"381\" y=\"0\" fill=\"#000000\" />\n",
       "<rect width=\"1\" height=\".96\" x=\"382\" y=\"0\" fill=\"#000000\" />\n",
       "<rect width=\"1\" height=\".96\" x=\"383\" y=\"0\" fill=\"#000000\" />\n",
       "<rect width=\"1\" height=\".96\" x=\"384\" y=\"0\" fill=\"#CFCFCF\" />\n",
       "<rect width=\"1\" height=\".96\" x=\"385\" y=\"0\" fill=\"#FDFDFD\" />\n",
       "<rect width=\"1\" height=\".96\" x=\"386\" y=\"0\" fill=\"#F7F7F7\" />\n",
       "<rect width=\"1\" height=\".96\" x=\"387\" y=\"0\" fill=\"#383838\" />\n",
       "<rect width=\"1\" height=\".96\" x=\"388\" y=\"0\" fill=\"#000000\" />\n",
       "<rect width=\"1\" height=\".96\" x=\"389\" y=\"0\" fill=\"#000000\" />\n",
       "<rect width=\"1\" height=\".96\" x=\"390\" y=\"0\" fill=\"#000000\" />\n",
       "<rect width=\"1\" height=\".96\" x=\"391\" y=\"0\" fill=\"#000000\" />\n",
       "<rect width=\"1\" height=\".96\" x=\"392\" y=\"0\" fill=\"#000000\" />\n",
       "<rect width=\"1\" height=\".96\" x=\"393\" y=\"0\" fill=\"#000000\" />\n",
       "<rect width=\"1\" height=\".96\" x=\"394\" y=\"0\" fill=\"#000000\" />\n",
       "<rect width=\"1\" height=\".96\" x=\"395\" y=\"0\" fill=\"#000000\" />\n",
       "<rect width=\"1\" height=\".96\" x=\"396\" y=\"0\" fill=\"#000000\" />\n",
       "<rect width=\"1\" height=\".96\" x=\"397\" y=\"0\" fill=\"#000000\" />\n",
       "<rect width=\"1\" height=\".96\" x=\"398\" y=\"0\" fill=\"#747474\" />\n",
       "<rect width=\"1\" height=\".96\" x=\"399\" y=\"0\" fill=\"#FDFDFD\" />\n",
       "<rect width=\"1\" height=\".96\" x=\"400\" y=\"0\" fill=\"#FDFDFD\" />\n",
       "<rect width=\"1\" height=\".96\" x=\"401\" y=\"0\" fill=\"#C3C3C3\" />\n",
       "<rect width=\"1\" height=\".96\" x=\"402\" y=\"0\" fill=\"#2A2A2A\" />\n",
       "<rect width=\"1\" height=\".96\" x=\"403\" y=\"0\" fill=\"#FDFDFD\" />\n",
       "<rect width=\"1\" height=\".96\" x=\"404\" y=\"0\" fill=\"#FDFDFD\" />\n",
       "<rect width=\"1\" height=\".96\" x=\"405\" y=\"0\" fill=\"#3A3A3A\" />\n",
       "<rect width=\"1\" height=\".96\" x=\"406\" y=\"0\" fill=\"#000000\" />\n",
       "<rect width=\"1\" height=\".96\" x=\"407\" y=\"0\" fill=\"#000000\" />\n",
       "<rect width=\"1\" height=\".96\" x=\"408\" y=\"0\" fill=\"#000000\" />\n",
       "<rect width=\"1\" height=\".96\" x=\"409\" y=\"0\" fill=\"#000000\" />\n",
       "<rect width=\"1\" height=\".96\" x=\"410\" y=\"0\" fill=\"#000000\" />\n",
       "<rect width=\"1\" height=\".96\" x=\"411\" y=\"0\" fill=\"#535353\" />\n",
       "<rect width=\"1\" height=\".96\" x=\"412\" y=\"0\" fill=\"#F4F4F4\" />\n",
       "<rect width=\"1\" height=\".96\" x=\"413\" y=\"0\" fill=\"#FDFDFD\" />\n",
       "<rect width=\"1\" height=\".96\" x=\"414\" y=\"0\" fill=\"#D5D5D5\" />\n",
       "<rect width=\"1\" height=\".96\" x=\"415\" y=\"0\" fill=\"#000000\" />\n",
       "<rect width=\"1\" height=\".96\" x=\"416\" y=\"0\" fill=\"#000000\" />\n",
       "<rect width=\"1\" height=\".96\" x=\"417\" y=\"0\" fill=\"#000000\" />\n",
       "<rect width=\"1\" height=\".96\" x=\"418\" y=\"0\" fill=\"#000000\" />\n",
       "<rect width=\"1\" height=\".96\" x=\"419\" y=\"0\" fill=\"#000000\" />\n",
       "<rect width=\"1\" height=\".96\" x=\"420\" y=\"0\" fill=\"#000000\" />\n",
       "<rect width=\"1\" height=\".96\" x=\"421\" y=\"0\" fill=\"#000000\" />\n",
       "<rect width=\"1\" height=\".96\" x=\"422\" y=\"0\" fill=\"#000000\" />\n",
       "<rect width=\"1\" height=\".96\" x=\"423\" y=\"0\" fill=\"#000000\" />\n",
       "<rect width=\"1\" height=\".96\" x=\"424\" y=\"0\" fill=\"#000000\" />\n",
       "<rect width=\"1\" height=\".96\" x=\"425\" y=\"0\" fill=\"#141414\" />\n",
       "<rect width=\"1\" height=\".96\" x=\"426\" y=\"0\" fill=\"#FEFEFE\" />\n",
       "<rect width=\"1\" height=\".96\" x=\"427\" y=\"0\" fill=\"#FEFEFE\" />\n",
       "<rect width=\"1\" height=\".96\" x=\"428\" y=\"0\" fill=\"#C1C1C1\" />\n",
       "<rect width=\"1\" height=\".96\" x=\"429\" y=\"0\" fill=\"#000000\" />\n",
       "<rect width=\"1\" height=\".96\" x=\"430\" y=\"0\" fill=\"#080808\" />\n",
       "<rect width=\"1\" height=\".96\" x=\"431\" y=\"0\" fill=\"#CECECE\" />\n",
       "<rect width=\"1\" height=\".96\" x=\"432\" y=\"0\" fill=\"#FEFEFE\" />\n",
       "<rect width=\"1\" height=\".96\" x=\"433\" y=\"0\" fill=\"#8C8C8C\" />\n",
       "<rect width=\"1\" height=\".96\" x=\"434\" y=\"0\" fill=\"#000000\" />\n",
       "<rect width=\"1\" height=\".96\" x=\"435\" y=\"0\" fill=\"#000000\" />\n",
       "<rect width=\"1\" height=\".96\" x=\"436\" y=\"0\" fill=\"#000000\" />\n",
       "<rect width=\"1\" height=\".96\" x=\"437\" y=\"0\" fill=\"#000000\" />\n",
       "<rect width=\"1\" height=\".96\" x=\"438\" y=\"0\" fill=\"#797979\" />\n",
       "<rect width=\"1\" height=\".96\" x=\"439\" y=\"0\" fill=\"#FFFFFF\" />\n",
       "<rect width=\"1\" height=\".96\" x=\"440\" y=\"0\" fill=\"#FEFEFE\" />\n",
       "<rect width=\"1\" height=\".96\" x=\"441\" y=\"0\" fill=\"#FEFEFE\" />\n",
       "<rect width=\"1\" height=\".96\" x=\"442\" y=\"0\" fill=\"#5F5F5F\" />\n",
       "<rect width=\"1\" height=\".96\" x=\"443\" y=\"0\" fill=\"#000000\" />\n",
       "<rect width=\"1\" height=\".96\" x=\"444\" y=\"0\" fill=\"#000000\" />\n",
       "<rect width=\"1\" height=\".96\" x=\"445\" y=\"0\" fill=\"#000000\" />\n",
       "<rect width=\"1\" height=\".96\" x=\"446\" y=\"0\" fill=\"#000000\" />\n",
       "<rect width=\"1\" height=\".96\" x=\"447\" y=\"0\" fill=\"#000000\" />\n",
       "<rect width=\"1\" height=\".96\" x=\"448\" y=\"0\" fill=\"#000000\" />\n",
       "<rect width=\"1\" height=\".96\" x=\"449\" y=\"0\" fill=\"#000000\" />\n",
       "<rect width=\"1\" height=\".96\" x=\"450\" y=\"0\" fill=\"#000000\" />\n",
       "<rect width=\"1\" height=\".96\" x=\"451\" y=\"0\" fill=\"#000000\" />\n",
       "<rect width=\"1\" height=\".96\" x=\"452\" y=\"0\" fill=\"#000000\" />\n",
       "<rect width=\"1\" height=\".96\" x=\"453\" y=\"0\" fill=\"#676767\" />\n",
       "<rect width=\"1\" height=\".96\" x=\"454\" y=\"0\" fill=\"#FDFDFD\" />\n",
       "<rect width=\"1\" height=\".96\" x=\"455\" y=\"0\" fill=\"#FAFAFA\" />\n",
       "<rect width=\"1\" height=\".96\" x=\"456\" y=\"0\" fill=\"#444444\" />\n",
       "<rect width=\"1\" height=\".96\" x=\"457\" y=\"0\" fill=\"#000000\" />\n",
       "<rect width=\"1\" height=\".96\" x=\"458\" y=\"0\" fill=\"#000000\" />\n",
       "<rect width=\"1\" height=\".96\" x=\"459\" y=\"0\" fill=\"#AFAFAF\" />\n",
       "<rect width=\"1\" height=\".96\" x=\"460\" y=\"0\" fill=\"#FDFDFD\" />\n",
       "<rect width=\"1\" height=\".96\" x=\"461\" y=\"0\" fill=\"#FDFDFD\" />\n",
       "<rect width=\"1\" height=\".96\" x=\"462\" y=\"0\" fill=\"#606060\" />\n",
       "<rect width=\"1\" height=\".96\" x=\"463\" y=\"0\" fill=\"#050505\" />\n",
       "<rect width=\"1\" height=\".96\" x=\"464\" y=\"0\" fill=\"#3A3A3A\" />\n",
       "<rect width=\"1\" height=\".96\" x=\"465\" y=\"0\" fill=\"#A2A2A2\" />\n",
       "<rect width=\"1\" height=\".96\" x=\"466\" y=\"0\" fill=\"#F4F4F4\" />\n",
       "<rect width=\"1\" height=\".96\" x=\"467\" y=\"0\" fill=\"#FEFEFE\" />\n",
       "<rect width=\"1\" height=\".96\" x=\"468\" y=\"0\" fill=\"#FBFBFB\" />\n",
       "<rect width=\"1\" height=\".96\" x=\"469\" y=\"0\" fill=\"#808080\" />\n",
       "<rect width=\"1\" height=\".96\" x=\"470\" y=\"0\" fill=\"#0A0A0A\" />\n",
       "<rect width=\"1\" height=\".96\" x=\"471\" y=\"0\" fill=\"#000000\" />\n",
       "<rect width=\"1\" height=\".96\" x=\"472\" y=\"0\" fill=\"#000000\" />\n",
       "<rect width=\"1\" height=\".96\" x=\"473\" y=\"0\" fill=\"#000000\" />\n",
       "<rect width=\"1\" height=\".96\" x=\"474\" y=\"0\" fill=\"#000000\" />\n",
       "<rect width=\"1\" height=\".96\" x=\"475\" y=\"0\" fill=\"#000000\" />\n",
       "<rect width=\"1\" height=\".96\" x=\"476\" y=\"0\" fill=\"#000000\" />\n",
       "<rect width=\"1\" height=\".96\" x=\"477\" y=\"0\" fill=\"#000000\" />\n",
       "<rect width=\"1\" height=\".96\" x=\"478\" y=\"0\" fill=\"#000000\" />\n",
       "<rect width=\"1\" height=\".96\" x=\"479\" y=\"0\" fill=\"#000000\" />\n",
       "<rect width=\"1\" height=\".96\" x=\"480\" y=\"0\" fill=\"#000000\" />\n",
       "<rect width=\"1\" height=\".96\" x=\"481\" y=\"0\" fill=\"#B9B9B9\" />\n",
       "<rect width=\"1\" height=\".96\" x=\"482\" y=\"0\" fill=\"#FDFDFD\" />\n",
       "<rect width=\"1\" height=\".96\" x=\"483\" y=\"0\" fill=\"#D5D5D5\" />\n",
       "<rect width=\"1\" height=\".96\" x=\"484\" y=\"0\" fill=\"#000000\" />\n",
       "<rect width=\"1\" height=\".96\" x=\"485\" y=\"0\" fill=\"#000000\" />\n",
       "<rect width=\"1\" height=\".96\" x=\"486\" y=\"0\" fill=\"#000000\" />\n",
       "<rect width=\"1\" height=\".96\" x=\"487\" y=\"0\" fill=\"#363636\" />\n",
       "<rect width=\"1\" height=\".96\" x=\"488\" y=\"0\" fill=\"#F0F0F0\" />\n",
       "<rect width=\"1\" height=\".96\" x=\"489\" y=\"0\" fill=\"#FDFDFD\" />\n",
       "<rect width=\"1\" height=\".96\" x=\"490\" y=\"0\" fill=\"#FEFEFE\" />\n",
       "<rect width=\"1\" height=\".96\" x=\"491\" y=\"0\" fill=\"#C1C1C1\" />\n",
       "<rect width=\"1\" height=\".96\" x=\"492\" y=\"0\" fill=\"#FDFDFD\" />\n",
       "<rect width=\"1\" height=\".96\" x=\"493\" y=\"0\" fill=\"#FDFDFD\" />\n",
       "<rect width=\"1\" height=\".96\" x=\"494\" y=\"0\" fill=\"#FDFDFD\" />\n",
       "<rect width=\"1\" height=\".96\" x=\"495\" y=\"0\" fill=\"#FEFEFE\" />\n",
       "<rect width=\"1\" height=\".96\" x=\"496\" y=\"0\" fill=\"#878787\" />\n",
       "<rect width=\"1\" height=\".96\" x=\"497\" y=\"0\" fill=\"#000000\" />\n",
       "<rect width=\"1\" height=\".96\" x=\"498\" y=\"0\" fill=\"#000000\" />\n",
       "<rect width=\"1\" height=\".96\" x=\"499\" y=\"0\" fill=\"#000000\" />\n",
       "<rect width=\"1\" height=\".96\" x=\"500\" y=\"0\" fill=\"#000000\" />\n",
       "<rect width=\"1\" height=\".96\" x=\"501\" y=\"0\" fill=\"#000000\" />\n",
       "<rect width=\"1\" height=\".96\" x=\"502\" y=\"0\" fill=\"#000000\" />\n",
       "<rect width=\"1\" height=\".96\" x=\"503\" y=\"0\" fill=\"#000000\" />\n",
       "<rect width=\"1\" height=\".96\" x=\"504\" y=\"0\" fill=\"#000000\" />\n",
       "<rect width=\"1\" height=\".96\" x=\"505\" y=\"0\" fill=\"#000000\" />\n",
       "<rect width=\"1\" height=\".96\" x=\"506\" y=\"0\" fill=\"#000000\" />\n",
       "<rect width=\"1\" height=\".96\" x=\"507\" y=\"0\" fill=\"#000000\" />\n",
       "<rect width=\"1\" height=\".96\" x=\"508\" y=\"0\" fill=\"#202020\" />\n",
       "<rect width=\"1\" height=\".96\" x=\"509\" y=\"0\" fill=\"#EBEBEB\" />\n",
       "<rect width=\"1\" height=\".96\" x=\"510\" y=\"0\" fill=\"#FDFDFD\" />\n",
       "<rect width=\"1\" height=\".96\" x=\"511\" y=\"0\" fill=\"#929292\" />\n",
       "<rect width=\"1\" height=\".96\" x=\"512\" y=\"0\" fill=\"#000000\" />\n",
       "<rect width=\"1\" height=\".96\" x=\"513\" y=\"0\" fill=\"#000000\" />\n",
       "<rect width=\"1\" height=\".96\" x=\"514\" y=\"0\" fill=\"#000000\" />\n",
       "<rect width=\"1\" height=\".96\" x=\"515\" y=\"0\" fill=\"#000000\" />\n",
       "<rect width=\"1\" height=\".96\" x=\"516\" y=\"0\" fill=\"#919191\" />\n",
       "<rect width=\"1\" height=\".96\" x=\"517\" y=\"0\" fill=\"#DDDDDD\" />\n",
       "<rect width=\"1\" height=\".96\" x=\"518\" y=\"0\" fill=\"#FEFEFE\" />\n",
       "<rect width=\"1\" height=\".96\" x=\"519\" y=\"0\" fill=\"#FDFDFD\" />\n",
       "<rect width=\"1\" height=\".96\" x=\"520\" y=\"0\" fill=\"#FDFDFD\" />\n",
       "<rect width=\"1\" height=\".96\" x=\"521\" y=\"0\" fill=\"#FDFDFD\" />\n",
       "<rect width=\"1\" height=\".96\" x=\"522\" y=\"0\" fill=\"#EDEDED\" />\n",
       "<rect width=\"1\" height=\".96\" x=\"523\" y=\"0\" fill=\"#757575\" />\n",
       "<rect width=\"1\" height=\".96\" x=\"524\" y=\"0\" fill=\"#121212\" />\n",
       "<rect width=\"1\" height=\".96\" x=\"525\" y=\"0\" fill=\"#000000\" />\n",
       "<rect width=\"1\" height=\".96\" x=\"526\" y=\"0\" fill=\"#000000\" />\n",
       "<rect width=\"1\" height=\".96\" x=\"527\" y=\"0\" fill=\"#000000\" />\n",
       "<rect width=\"1\" height=\".96\" x=\"528\" y=\"0\" fill=\"#000000\" />\n",
       "<rect width=\"1\" height=\".96\" x=\"529\" y=\"0\" fill=\"#000000\" />\n",
       "<rect width=\"1\" height=\".96\" x=\"530\" y=\"0\" fill=\"#000000\" />\n",
       "<rect width=\"1\" height=\".96\" x=\"531\" y=\"0\" fill=\"#000000\" />\n",
       "<rect width=\"1\" height=\".96\" x=\"532\" y=\"0\" fill=\"#000000\" />\n",
       "<rect width=\"1\" height=\".96\" x=\"533\" y=\"0\" fill=\"#000000\" />\n",
       "<rect width=\"1\" height=\".96\" x=\"534\" y=\"0\" fill=\"#000000\" />\n",
       "<rect width=\"1\" height=\".96\" x=\"535\" y=\"0\" fill=\"#000000\" />\n",
       "<rect width=\"1\" height=\".96\" x=\"536\" y=\"0\" fill=\"#3B3B3B\" />\n",
       "<rect width=\"1\" height=\".96\" x=\"537\" y=\"0\" fill=\"#FDFDFD\" />\n",
       "<rect width=\"1\" height=\".96\" x=\"538\" y=\"0\" fill=\"#FDFDFD\" />\n",
       "<rect width=\"1\" height=\".96\" x=\"539\" y=\"0\" fill=\"#131313\" />\n",
       "<rect width=\"1\" height=\".96\" x=\"540\" y=\"0\" fill=\"#000000\" />\n",
       "<rect width=\"1\" height=\".96\" x=\"541\" y=\"0\" fill=\"#000000\" />\n",
       "<rect width=\"1\" height=\".96\" x=\"542\" y=\"0\" fill=\"#000000\" />\n",
       "<rect width=\"1\" height=\".96\" x=\"543\" y=\"0\" fill=\"#000000\" />\n",
       "<rect width=\"1\" height=\".96\" x=\"544\" y=\"0\" fill=\"#000000\" />\n",
       "<rect width=\"1\" height=\".96\" x=\"545\" y=\"0\" fill=\"#2D2D2D\" />\n",
       "<rect width=\"1\" height=\".96\" x=\"546\" y=\"0\" fill=\"#8C8C8C\" />\n",
       "<rect width=\"1\" height=\".96\" x=\"547\" y=\"0\" fill=\"#F5F5F5\" />\n",
       "<rect width=\"1\" height=\".96\" x=\"548\" y=\"0\" fill=\"#B9B9B9\" />\n",
       "<rect width=\"1\" height=\".96\" x=\"549\" y=\"0\" fill=\"#A2A2A2\" />\n",
       "<rect width=\"1\" height=\".96\" x=\"550\" y=\"0\" fill=\"#3A3A3A\" />\n",
       "<rect width=\"1\" height=\".96\" x=\"551\" y=\"0\" fill=\"#000000\" />\n",
       "<rect width=\"1\" height=\".96\" x=\"552\" y=\"0\" fill=\"#000000\" />\n",
       "<rect width=\"1\" height=\".96\" x=\"553\" y=\"0\" fill=\"#000000\" />\n",
       "<rect width=\"1\" height=\".96\" x=\"554\" y=\"0\" fill=\"#000000\" />\n",
       "<rect width=\"1\" height=\".96\" x=\"555\" y=\"0\" fill=\"#000000\" />\n",
       "<rect width=\"1\" height=\".96\" x=\"556\" y=\"0\" fill=\"#000000\" />\n",
       "<rect width=\"1\" height=\".96\" x=\"557\" y=\"0\" fill=\"#000000\" />\n",
       "<rect width=\"1\" height=\".96\" x=\"558\" y=\"0\" fill=\"#000000\" />\n",
       "<rect width=\"1\" height=\".96\" x=\"559\" y=\"0\" fill=\"#000000\" />\n",
       "<rect width=\"1\" height=\".96\" x=\"560\" y=\"0\" fill=\"#000000\" />\n",
       "<rect width=\"1\" height=\".96\" x=\"561\" y=\"0\" fill=\"#000000\" />\n",
       "<rect width=\"1\" height=\".96\" x=\"562\" y=\"0\" fill=\"#000000\" />\n",
       "<rect width=\"1\" height=\".96\" x=\"563\" y=\"0\" fill=\"#000000\" />\n",
       "<rect width=\"1\" height=\".96\" x=\"564\" y=\"0\" fill=\"#D9D9D9\" />\n",
       "<rect width=\"1\" height=\".96\" x=\"565\" y=\"0\" fill=\"#FEFEFE\" />\n",
       "<rect width=\"1\" height=\".96\" x=\"566\" y=\"0\" fill=\"#AFAFAF\" />\n",
       "<rect width=\"1\" height=\".96\" x=\"567\" y=\"0\" fill=\"#000000\" />\n",
       "<rect width=\"1\" height=\".96\" x=\"568\" y=\"0\" fill=\"#000000\" />\n",
       "<rect width=\"1\" height=\".96\" x=\"569\" y=\"0\" fill=\"#000000\" />\n",
       "<rect width=\"1\" height=\".96\" x=\"570\" y=\"0\" fill=\"#000000\" />\n",
       "<rect width=\"1\" height=\".96\" x=\"571\" y=\"0\" fill=\"#000000\" />\n",
       "<rect width=\"1\" height=\".96\" x=\"572\" y=\"0\" fill=\"#000000\" />\n",
       "<rect width=\"1\" height=\".96\" x=\"573\" y=\"0\" fill=\"#000000\" />\n",
       "<rect width=\"1\" height=\".96\" x=\"574\" y=\"0\" fill=\"#000000\" />\n",
       "<rect width=\"1\" height=\".96\" x=\"575\" y=\"0\" fill=\"#000000\" />\n",
       "<rect width=\"1\" height=\".96\" x=\"576\" y=\"0\" fill=\"#000000\" />\n",
       "<rect width=\"1\" height=\".96\" x=\"577\" y=\"0\" fill=\"#000000\" />\n",
       "<rect width=\"1\" height=\".96\" x=\"578\" y=\"0\" fill=\"#000000\" />\n",
       "<rect width=\"1\" height=\".96\" x=\"579\" y=\"0\" fill=\"#000000\" />\n",
       "<rect width=\"1\" height=\".96\" x=\"580\" y=\"0\" fill=\"#050505\" />\n",
       "<rect width=\"1\" height=\".96\" x=\"581\" y=\"0\" fill=\"#292929\" />\n",
       "<rect width=\"1\" height=\".96\" x=\"582\" y=\"0\" fill=\"#000000\" />\n",
       "<rect width=\"1\" height=\".96\" x=\"583\" y=\"0\" fill=\"#000000\" />\n",
       "<rect width=\"1\" height=\".96\" x=\"584\" y=\"0\" fill=\"#000000\" />\n",
       "<rect width=\"1\" height=\".96\" x=\"585\" y=\"0\" fill=\"#000000\" />\n",
       "<rect width=\"1\" height=\".96\" x=\"586\" y=\"0\" fill=\"#000000\" />\n",
       "<rect width=\"1\" height=\".96\" x=\"587\" y=\"0\" fill=\"#000000\" />\n",
       "<rect width=\"1\" height=\".96\" x=\"588\" y=\"0\" fill=\"#000000\" />\n",
       "<rect width=\"1\" height=\".96\" x=\"589\" y=\"0\" fill=\"#000000\" />\n",
       "<rect width=\"1\" height=\".96\" x=\"590\" y=\"0\" fill=\"#000000\" />\n",
       "<rect width=\"1\" height=\".96\" x=\"591\" y=\"0\" fill=\"#000000\" />\n",
       "<rect width=\"1\" height=\".96\" x=\"592\" y=\"0\" fill=\"#FEFEFE\" />\n",
       "<rect width=\"1\" height=\".96\" x=\"593\" y=\"0\" fill=\"#FDFDFD\" />\n",
       "<rect width=\"1\" height=\".96\" x=\"594\" y=\"0\" fill=\"#A7A7A7\" />\n",
       "<rect width=\"1\" height=\".96\" x=\"595\" y=\"0\" fill=\"#000000\" />\n",
       "<rect width=\"1\" height=\".96\" x=\"596\" y=\"0\" fill=\"#000000\" />\n",
       "<rect width=\"1\" height=\".96\" x=\"597\" y=\"0\" fill=\"#000000\" />\n",
       "<rect width=\"1\" height=\".96\" x=\"598\" y=\"0\" fill=\"#000000\" />\n",
       "<rect width=\"1\" height=\".96\" x=\"599\" y=\"0\" fill=\"#000000\" />\n",
       "<rect width=\"1\" height=\".96\" x=\"600\" y=\"0\" fill=\"#000000\" />\n",
       "<rect width=\"1\" height=\".96\" x=\"601\" y=\"0\" fill=\"#000000\" />\n",
       "<rect width=\"1\" height=\".96\" x=\"602\" y=\"0\" fill=\"#000000\" />\n",
       "<rect width=\"1\" height=\".96\" x=\"603\" y=\"0\" fill=\"#000000\" />\n",
       "<rect width=\"1\" height=\".96\" x=\"604\" y=\"0\" fill=\"#000000\" />\n",
       "<rect width=\"1\" height=\".96\" x=\"605\" y=\"0\" fill=\"#000000\" />\n",
       "<rect width=\"1\" height=\".96\" x=\"606\" y=\"0\" fill=\"#000000\" />\n",
       "<rect width=\"1\" height=\".96\" x=\"607\" y=\"0\" fill=\"#000000\" />\n",
       "<rect width=\"1\" height=\".96\" x=\"608\" y=\"0\" fill=\"#030303\" />\n",
       "<rect width=\"1\" height=\".96\" x=\"609\" y=\"0\" fill=\"#1B1B1B\" />\n",
       "<rect width=\"1\" height=\".96\" x=\"610\" y=\"0\" fill=\"#000000\" />\n",
       "<rect width=\"1\" height=\".96\" x=\"611\" y=\"0\" fill=\"#000000\" />\n",
       "<rect width=\"1\" height=\".96\" x=\"612\" y=\"0\" fill=\"#000000\" />\n",
       "<rect width=\"1\" height=\".96\" x=\"613\" y=\"0\" fill=\"#000000\" />\n",
       "<rect width=\"1\" height=\".96\" x=\"614\" y=\"0\" fill=\"#000000\" />\n",
       "<rect width=\"1\" height=\".96\" x=\"615\" y=\"0\" fill=\"#000000\" />\n",
       "<rect width=\"1\" height=\".96\" x=\"616\" y=\"0\" fill=\"#000000\" />\n",
       "<rect width=\"1\" height=\".96\" x=\"617\" y=\"0\" fill=\"#000000\" />\n",
       "<rect width=\"1\" height=\".96\" x=\"618\" y=\"0\" fill=\"#000000\" />\n",
       "<rect width=\"1\" height=\".96\" x=\"619\" y=\"0\" fill=\"#000000\" />\n",
       "<rect width=\"1\" height=\".96\" x=\"620\" y=\"0\" fill=\"#A8A8A8\" />\n",
       "<rect width=\"1\" height=\".96\" x=\"621\" y=\"0\" fill=\"#EBEBEB\" />\n",
       "<rect width=\"1\" height=\".96\" x=\"622\" y=\"0\" fill=\"#363636\" />\n",
       "<rect width=\"1\" height=\".96\" x=\"623\" y=\"0\" fill=\"#000000\" />\n",
       "<rect width=\"1\" height=\".96\" x=\"624\" y=\"0\" fill=\"#000000\" />\n",
       "<rect width=\"1\" height=\".96\" x=\"625\" y=\"0\" fill=\"#000000\" />\n",
       "<rect width=\"1\" height=\".96\" x=\"626\" y=\"0\" fill=\"#000000\" />\n",
       "<rect width=\"1\" height=\".96\" x=\"627\" y=\"0\" fill=\"#000000\" />\n",
       "<rect width=\"1\" height=\".96\" x=\"628\" y=\"0\" fill=\"#000000\" />\n",
       "<rect width=\"1\" height=\".96\" x=\"629\" y=\"0\" fill=\"#000000\" />\n",
       "<rect width=\"1\" height=\".96\" x=\"630\" y=\"0\" fill=\"#000000\" />\n",
       "<rect width=\"1\" height=\".96\" x=\"631\" y=\"0\" fill=\"#000000\" />\n",
       "<rect width=\"1\" height=\".96\" x=\"632\" y=\"0\" fill=\"#000000\" />\n",
       "<rect width=\"1\" height=\".96\" x=\"633\" y=\"0\" fill=\"#000000\" />\n",
       "<rect width=\"1\" height=\".96\" x=\"634\" y=\"0\" fill=\"#000000\" />\n",
       "<rect width=\"1\" height=\".96\" x=\"635\" y=\"0\" fill=\"#000000\" />\n",
       "<rect width=\"1\" height=\".96\" x=\"636\" y=\"0\" fill=\"#000000\" />\n",
       "<rect width=\"1\" height=\".96\" x=\"637\" y=\"0\" fill=\"#000000\" />\n",
       "<rect width=\"1\" height=\".96\" x=\"638\" y=\"0\" fill=\"#000000\" />\n",
       "<rect width=\"1\" height=\".96\" x=\"639\" y=\"0\" fill=\"#000000\" />\n",
       "<rect width=\"1\" height=\".96\" x=\"640\" y=\"0\" fill=\"#000000\" />\n",
       "<rect width=\"1\" height=\".96\" x=\"641\" y=\"0\" fill=\"#000000\" />\n",
       "<rect width=\"1\" height=\".96\" x=\"642\" y=\"0\" fill=\"#000000\" />\n",
       "<rect width=\"1\" height=\".96\" x=\"643\" y=\"0\" fill=\"#000000\" />\n",
       "<rect width=\"1\" height=\".96\" x=\"644\" y=\"0\" fill=\"#000000\" />\n",
       "<rect width=\"1\" height=\".96\" x=\"645\" y=\"0\" fill=\"#000000\" />\n",
       "<rect width=\"1\" height=\".96\" x=\"646\" y=\"0\" fill=\"#000000\" />\n",
       "<rect width=\"1\" height=\".96\" x=\"647\" y=\"0\" fill=\"#000000\" />\n",
       "<rect width=\"1\" height=\".96\" x=\"648\" y=\"0\" fill=\"#CCCCCC\" />\n",
       "<rect width=\"1\" height=\".96\" x=\"649\" y=\"0\" fill=\"#E6E6E6\" />\n",
       "<rect width=\"1\" height=\".96\" x=\"650\" y=\"0\" fill=\"#000000\" />\n",
       "<rect width=\"1\" height=\".96\" x=\"651\" y=\"0\" fill=\"#000000\" />\n",
       "<rect width=\"1\" height=\".96\" x=\"652\" y=\"0\" fill=\"#000000\" />\n",
       "<rect width=\"1\" height=\".96\" x=\"653\" y=\"0\" fill=\"#000000\" />\n",
       "<rect width=\"1\" height=\".96\" x=\"654\" y=\"0\" fill=\"#000000\" />\n",
       "<rect width=\"1\" height=\".96\" x=\"655\" y=\"0\" fill=\"#000000\" />\n",
       "<rect width=\"1\" height=\".96\" x=\"656\" y=\"0\" fill=\"#000000\" />\n",
       "<rect width=\"1\" height=\".96\" x=\"657\" y=\"0\" fill=\"#000000\" />\n",
       "<rect width=\"1\" height=\".96\" x=\"658\" y=\"0\" fill=\"#000000\" />\n",
       "<rect width=\"1\" height=\".96\" x=\"659\" y=\"0\" fill=\"#000000\" />\n",
       "<rect width=\"1\" height=\".96\" x=\"660\" y=\"0\" fill=\"#000000\" />\n",
       "<rect width=\"1\" height=\".96\" x=\"661\" y=\"0\" fill=\"#000000\" />\n",
       "<rect width=\"1\" height=\".96\" x=\"662\" y=\"0\" fill=\"#000000\" />\n",
       "<rect width=\"1\" height=\".96\" x=\"663\" y=\"0\" fill=\"#000000\" />\n",
       "<rect width=\"1\" height=\".96\" x=\"664\" y=\"0\" fill=\"#000000\" />\n",
       "<rect width=\"1\" height=\".96\" x=\"665\" y=\"0\" fill=\"#000000\" />\n",
       "<rect width=\"1\" height=\".96\" x=\"666\" y=\"0\" fill=\"#000000\" />\n",
       "<rect width=\"1\" height=\".96\" x=\"667\" y=\"0\" fill=\"#000000\" />\n",
       "<rect width=\"1\" height=\".96\" x=\"668\" y=\"0\" fill=\"#000000\" />\n",
       "<rect width=\"1\" height=\".96\" x=\"669\" y=\"0\" fill=\"#000000\" />\n",
       "<rect width=\"1\" height=\".96\" x=\"670\" y=\"0\" fill=\"#000000\" />\n",
       "<rect width=\"1\" height=\".96\" x=\"671\" y=\"0\" fill=\"#000000\" />\n",
       "<rect width=\"1\" height=\".96\" x=\"672\" y=\"0\" fill=\"#000000\" />\n",
       "<rect width=\"1\" height=\".96\" x=\"673\" y=\"0\" fill=\"#000000\" />\n",
       "<rect width=\"1\" height=\".96\" x=\"674\" y=\"0\" fill=\"#000000\" />\n",
       "<rect width=\"1\" height=\".96\" x=\"675\" y=\"0\" fill=\"#000000\" />\n",
       "<rect width=\"1\" height=\".96\" x=\"676\" y=\"0\" fill=\"#606060\" />\n",
       "<rect width=\"1\" height=\".96\" x=\"677\" y=\"0\" fill=\"#808080\" />\n",
       "<rect width=\"1\" height=\".96\" x=\"678\" y=\"0\" fill=\"#000000\" />\n",
       "<rect width=\"1\" height=\".96\" x=\"679\" y=\"0\" fill=\"#000000\" />\n",
       "<rect width=\"1\" height=\".96\" x=\"680\" y=\"0\" fill=\"#000000\" />\n",
       "<rect width=\"1\" height=\".96\" x=\"681\" y=\"0\" fill=\"#000000\" />\n",
       "<rect width=\"1\" height=\".96\" x=\"682\" y=\"0\" fill=\"#000000\" />\n",
       "<rect width=\"1\" height=\".96\" x=\"683\" y=\"0\" fill=\"#000000\" />\n",
       "<rect width=\"1\" height=\".96\" x=\"684\" y=\"0\" fill=\"#000000\" />\n",
       "<rect width=\"1\" height=\".96\" x=\"685\" y=\"0\" fill=\"#000000\" />\n",
       "<rect width=\"1\" height=\".96\" x=\"686\" y=\"0\" fill=\"#000000\" />\n",
       "<rect width=\"1\" height=\".96\" x=\"687\" y=\"0\" fill=\"#000000\" />\n",
       "<rect width=\"1\" height=\".96\" x=\"688\" y=\"0\" fill=\"#000000\" />\n",
       "<rect width=\"1\" height=\".96\" x=\"689\" y=\"0\" fill=\"#000000\" />\n",
       "<rect width=\"1\" height=\".96\" x=\"690\" y=\"0\" fill=\"#000000\" />\n",
       "<rect width=\"1\" height=\".96\" x=\"691\" y=\"0\" fill=\"#000000\" />\n",
       "<rect width=\"1\" height=\".96\" x=\"692\" y=\"0\" fill=\"#000000\" />\n",
       "<rect width=\"1\" height=\".96\" x=\"693\" y=\"0\" fill=\"#000000\" />\n",
       "<rect width=\"1\" height=\".96\" x=\"694\" y=\"0\" fill=\"#000000\" />\n",
       "<rect width=\"1\" height=\".96\" x=\"695\" y=\"0\" fill=\"#000000\" />\n",
       "<rect width=\"1\" height=\".96\" x=\"696\" y=\"0\" fill=\"#000000\" />\n",
       "<rect width=\"1\" height=\".96\" x=\"697\" y=\"0\" fill=\"#000000\" />\n",
       "<rect width=\"1\" height=\".96\" x=\"698\" y=\"0\" fill=\"#000000\" />\n",
       "<rect width=\"1\" height=\".96\" x=\"699\" y=\"0\" fill=\"#000000\" />\n",
       "<rect width=\"1\" height=\".96\" x=\"700\" y=\"0\" fill=\"#000000\" />\n",
       "<rect width=\"1\" height=\".96\" x=\"701\" y=\"0\" fill=\"#000000\" />\n",
       "<rect width=\"1\" height=\".96\" x=\"702\" y=\"0\" fill=\"#000000\" />\n",
       "<rect width=\"1\" height=\".96\" x=\"703\" y=\"0\" fill=\"#000000\" />\n",
       "<rect width=\"1\" height=\".96\" x=\"704\" y=\"0\" fill=\"#000000\" />\n",
       "<rect width=\"1\" height=\".96\" x=\"705\" y=\"0\" fill=\"#000000\" />\n",
       "<rect width=\"1\" height=\".96\" x=\"706\" y=\"0\" fill=\"#000000\" />\n",
       "<rect width=\"1\" height=\".96\" x=\"707\" y=\"0\" fill=\"#000000\" />\n",
       "<rect width=\"1\" height=\".96\" x=\"708\" y=\"0\" fill=\"#000000\" />\n",
       "<rect width=\"1\" height=\".96\" x=\"709\" y=\"0\" fill=\"#000000\" />\n",
       "<rect width=\"1\" height=\".96\" x=\"710\" y=\"0\" fill=\"#000000\" />\n",
       "<rect width=\"1\" height=\".96\" x=\"711\" y=\"0\" fill=\"#000000\" />\n",
       "<rect width=\"1\" height=\".96\" x=\"712\" y=\"0\" fill=\"#000000\" />\n",
       "<rect width=\"1\" height=\".96\" x=\"713\" y=\"0\" fill=\"#000000\" />\n",
       "<rect width=\"1\" height=\".96\" x=\"714\" y=\"0\" fill=\"#000000\" />\n",
       "<rect width=\"1\" height=\".96\" x=\"715\" y=\"0\" fill=\"#000000\" />\n",
       "<rect width=\"1\" height=\".96\" x=\"716\" y=\"0\" fill=\"#000000\" />\n",
       "<rect width=\"1\" height=\".96\" x=\"717\" y=\"0\" fill=\"#000000\" />\n",
       "<rect width=\"1\" height=\".96\" x=\"718\" y=\"0\" fill=\"#000000\" />\n",
       "<rect width=\"1\" height=\".96\" x=\"719\" y=\"0\" fill=\"#000000\" />\n",
       "<rect width=\"1\" height=\".96\" x=\"720\" y=\"0\" fill=\"#000000\" />\n",
       "<rect width=\"1\" height=\".96\" x=\"721\" y=\"0\" fill=\"#000000\" />\n",
       "<rect width=\"1\" height=\".96\" x=\"722\" y=\"0\" fill=\"#000000\" />\n",
       "<rect width=\"1\" height=\".96\" x=\"723\" y=\"0\" fill=\"#000000\" />\n",
       "<rect width=\"1\" height=\".96\" x=\"724\" y=\"0\" fill=\"#000000\" />\n",
       "<rect width=\"1\" height=\".96\" x=\"725\" y=\"0\" fill=\"#000000\" />\n",
       "<rect width=\"1\" height=\".96\" x=\"726\" y=\"0\" fill=\"#000000\" />\n",
       "<rect width=\"1\" height=\".96\" x=\"727\" y=\"0\" fill=\"#000000\" />\n",
       "<rect width=\"1\" height=\".96\" x=\"728\" y=\"0\" fill=\"#000000\" />\n",
       "<rect width=\"1\" height=\".96\" x=\"729\" y=\"0\" fill=\"#000000\" />\n",
       "<rect width=\"1\" height=\".96\" x=\"730\" y=\"0\" fill=\"#000000\" />\n",
       "<rect width=\"1\" height=\".96\" x=\"731\" y=\"0\" fill=\"#000000\" />\n",
       "<rect width=\"1\" height=\".96\" x=\"732\" y=\"0\" fill=\"#000000\" />\n",
       "<rect width=\"1\" height=\".96\" x=\"733\" y=\"0\" fill=\"#000000\" />\n",
       "<rect width=\"1\" height=\".96\" x=\"734\" y=\"0\" fill=\"#000000\" />\n",
       "<rect width=\"1\" height=\".96\" x=\"735\" y=\"0\" fill=\"#000000\" />\n",
       "<rect width=\"1\" height=\".96\" x=\"736\" y=\"0\" fill=\"#000000\" />\n",
       "<rect width=\"1\" height=\".96\" x=\"737\" y=\"0\" fill=\"#000000\" />\n",
       "<rect width=\"1\" height=\".96\" x=\"738\" y=\"0\" fill=\"#000000\" />\n",
       "<rect width=\"1\" height=\".96\" x=\"739\" y=\"0\" fill=\"#000000\" />\n",
       "<rect width=\"1\" height=\".96\" x=\"740\" y=\"0\" fill=\"#000000\" />\n",
       "<rect width=\"1\" height=\".96\" x=\"741\" y=\"0\" fill=\"#000000\" />\n",
       "<rect width=\"1\" height=\".96\" x=\"742\" y=\"0\" fill=\"#000000\" />\n",
       "<rect width=\"1\" height=\".96\" x=\"743\" y=\"0\" fill=\"#000000\" />\n",
       "<rect width=\"1\" height=\".96\" x=\"744\" y=\"0\" fill=\"#000000\" />\n",
       "<rect width=\"1\" height=\".96\" x=\"745\" y=\"0\" fill=\"#000000\" />\n",
       "<rect width=\"1\" height=\".96\" x=\"746\" y=\"0\" fill=\"#000000\" />\n",
       "<rect width=\"1\" height=\".96\" x=\"747\" y=\"0\" fill=\"#000000\" />\n",
       "<rect width=\"1\" height=\".96\" x=\"748\" y=\"0\" fill=\"#000000\" />\n",
       "<rect width=\"1\" height=\".96\" x=\"749\" y=\"0\" fill=\"#000000\" />\n",
       "<rect width=\"1\" height=\".96\" x=\"750\" y=\"0\" fill=\"#000000\" />\n",
       "<rect width=\"1\" height=\".96\" x=\"751\" y=\"0\" fill=\"#000000\" />\n",
       "<rect width=\"1\" height=\".96\" x=\"752\" y=\"0\" fill=\"#000000\" />\n",
       "<rect width=\"1\" height=\".96\" x=\"753\" y=\"0\" fill=\"#000000\" />\n",
       "<rect width=\"1\" height=\".96\" x=\"754\" y=\"0\" fill=\"#000000\" />\n",
       "<rect width=\"1\" height=\".96\" x=\"755\" y=\"0\" fill=\"#000000\" />\n",
       "<rect width=\"1\" height=\".96\" x=\"756\" y=\"0\" fill=\"#000000\" />\n",
       "<rect width=\"1\" height=\".96\" x=\"757\" y=\"0\" fill=\"#000000\" />\n",
       "<rect width=\"1\" height=\".96\" x=\"758\" y=\"0\" fill=\"#000000\" />\n",
       "<rect width=\"1\" height=\".96\" x=\"759\" y=\"0\" fill=\"#000000\" />\n",
       "<rect width=\"1\" height=\".96\" x=\"760\" y=\"0\" fill=\"#000000\" />\n",
       "<rect width=\"1\" height=\".96\" x=\"761\" y=\"0\" fill=\"#000000\" />\n",
       "<rect width=\"1\" height=\".96\" x=\"762\" y=\"0\" fill=\"#000000\" />\n",
       "<rect width=\"1\" height=\".96\" x=\"763\" y=\"0\" fill=\"#000000\" />\n",
       "<rect width=\"1\" height=\".96\" x=\"764\" y=\"0\" fill=\"#000000\" />\n",
       "<rect width=\"1\" height=\".96\" x=\"765\" y=\"0\" fill=\"#000000\" />\n",
       "<rect width=\"1\" height=\".96\" x=\"766\" y=\"0\" fill=\"#000000\" />\n",
       "<rect width=\"1\" height=\".96\" x=\"767\" y=\"0\" fill=\"#000000\" />\n",
       "<rect width=\"1\" height=\".96\" x=\"768\" y=\"0\" fill=\"#000000\" />\n",
       "<rect width=\"1\" height=\".96\" x=\"769\" y=\"0\" fill=\"#000000\" />\n",
       "<rect width=\"1\" height=\".96\" x=\"770\" y=\"0\" fill=\"#000000\" />\n",
       "<rect width=\"1\" height=\".96\" x=\"771\" y=\"0\" fill=\"#000000\" />\n",
       "<rect width=\"1\" height=\".96\" x=\"772\" y=\"0\" fill=\"#000000\" />\n",
       "<rect width=\"1\" height=\".96\" x=\"773\" y=\"0\" fill=\"#000000\" />\n",
       "<rect width=\"1\" height=\".96\" x=\"774\" y=\"0\" fill=\"#000000\" />\n",
       "<rect width=\"1\" height=\".96\" x=\"775\" y=\"0\" fill=\"#000000\" />\n",
       "<rect width=\"1\" height=\".96\" x=\"776\" y=\"0\" fill=\"#000000\" />\n",
       "<rect width=\"1\" height=\".96\" x=\"777\" y=\"0\" fill=\"#000000\" />\n",
       "<rect width=\"1\" height=\".96\" x=\"778\" y=\"0\" fill=\"#000000\" />\n",
       "<rect width=\"1\" height=\".96\" x=\"779\" y=\"0\" fill=\"#000000\" />\n",
       "<rect width=\"1\" height=\".96\" x=\"780\" y=\"0\" fill=\"#000000\" />\n",
       "<rect width=\"1\" height=\".96\" x=\"781\" y=\"0\" fill=\"#000000\" />\n",
       "<rect width=\"1\" height=\".96\" x=\"782\" y=\"0\" fill=\"#000000\" />\n",
       "<rect width=\"1\" height=\".96\" x=\"783\" y=\"0\" fill=\"#000000\" />\n",
       "</svg>"
      ],
      "text/plain": [
       "784-element Array{Gray{N0f8},1} with eltype ColorTypes.Gray{FixedPointNumbers.N0f8}:\n",
       " Gray{N0f8}(0.0)\n",
       " Gray{N0f8}(0.0)\n",
       " Gray{N0f8}(0.0)\n",
       " Gray{N0f8}(0.0)\n",
       " Gray{N0f8}(0.0)\n",
       " Gray{N0f8}(0.0)\n",
       " Gray{N0f8}(0.0)\n",
       " Gray{N0f8}(0.0)\n",
       " Gray{N0f8}(0.0)\n",
       " Gray{N0f8}(0.0)\n",
       " Gray{N0f8}(0.0)\n",
       " Gray{N0f8}(0.0)\n",
       " Gray{N0f8}(0.0)\n",
       " ⋮\n",
       " Gray{N0f8}(0.0)\n",
       " Gray{N0f8}(0.0)\n",
       " Gray{N0f8}(0.0)\n",
       " Gray{N0f8}(0.0)\n",
       " Gray{N0f8}(0.0)\n",
       " Gray{N0f8}(0.0)\n",
       " Gray{N0f8}(0.0)\n",
       " Gray{N0f8}(0.0)\n",
       " Gray{N0f8}(0.0)\n",
       " Gray{N0f8}(0.0)\n",
       " Gray{N0f8}(0.0)\n",
       " Gray{N0f8}(0.0)"
      ]
     },
     "execution_count": 79,
     "metadata": {},
     "output_type": "execute_result"
    }
   ],
   "source": [
    "reshape(foo,:)"
   ]
  },
  {
   "cell_type": "code",
   "execution_count": 80,
   "id": "a3465482-63fa-4452-a7f1-f56bdccf19db",
   "metadata": {},
   "outputs": [
    {
     "data": {
      "text/plain": [
       "Vector{ColorTypes.Gray{FixedPointNumbers.N0f8}} (alias for Array{ColorTypes.Gray{FixedPointNumbers.Normed{UInt8, 8}}, 1})"
      ]
     },
     "execution_count": 80,
     "metadata": {},
     "output_type": "execute_result"
    }
   ],
   "source": [
    "typeof(reshape(foo,:))"
   ]
  },
  {
   "cell_type": "code",
   "execution_count": 81,
   "id": "a74602e1-2b07-4e7c-9726-77811b299908",
   "metadata": {},
   "outputs": [
    {
     "data": {
      "text/plain": [
       "784-element Vector{Float64}:\n",
       " 0.0\n",
       " 0.0\n",
       " 0.0\n",
       " 0.0\n",
       " 0.0\n",
       " 0.0\n",
       " 0.0\n",
       " 0.0\n",
       " 0.0\n",
       " 0.0\n",
       " 0.0\n",
       " 0.0\n",
       " 0.0\n",
       " ⋮\n",
       " 0.0\n",
       " 0.0\n",
       " 0.0\n",
       " 0.0\n",
       " 0.0\n",
       " 0.0\n",
       " 0.0\n",
       " 0.0\n",
       " 0.0\n",
       " 0.0\n",
       " 0.0\n",
       " 0.0"
      ]
     },
     "execution_count": 81,
     "metadata": {},
     "output_type": "execute_result"
    }
   ],
   "source": [
    "float(reshape(foo,:))"
   ]
  },
  {
   "cell_type": "code",
   "execution_count": 83,
   "id": "6e3d3500-cb2d-4673-82aa-075df0d2b7a3",
   "metadata": {},
   "outputs": [
    {
     "data": {
      "text/plain": [
       "1.0"
      ]
     },
     "execution_count": 83,
     "metadata": {},
     "output_type": "execute_result"
    }
   ],
   "source": [
    "maximum(float(reshape(foo,:)))"
   ]
  },
  {
   "cell_type": "code",
   "execution_count": 85,
   "id": "05e23e8c-d868-4ab5-92e9-0e76056bb53a",
   "metadata": {},
   "outputs": [
    {
     "data": {
      "text/plain": [
       "784×60000 Matrix{Float64}:\n",
       " 0.0  0.0  0.0  0.0  0.0  0.0  0.0  0.0  …  0.0  0.0  0.0  0.0  0.0  0.0  0.0\n",
       " 0.0  0.0  0.0  0.0  0.0  0.0  0.0  0.0     0.0  0.0  0.0  0.0  0.0  0.0  0.0\n",
       " 0.0  0.0  0.0  0.0  0.0  0.0  0.0  0.0     0.0  0.0  0.0  0.0  0.0  0.0  0.0\n",
       " 0.0  0.0  0.0  0.0  0.0  0.0  0.0  0.0     0.0  0.0  0.0  0.0  0.0  0.0  0.0\n",
       " 0.0  0.0  0.0  0.0  0.0  0.0  0.0  0.0     0.0  0.0  0.0  0.0  0.0  0.0  0.0\n",
       " 0.0  0.0  0.0  0.0  0.0  0.0  0.0  0.0  …  0.0  0.0  0.0  0.0  0.0  0.0  0.0\n",
       " 0.0  0.0  0.0  0.0  0.0  0.0  0.0  0.0     0.0  0.0  0.0  0.0  0.0  0.0  0.0\n",
       " 0.0  0.0  0.0  0.0  0.0  0.0  0.0  0.0     0.0  0.0  0.0  0.0  0.0  0.0  0.0\n",
       " 0.0  0.0  0.0  0.0  0.0  0.0  0.0  0.0     0.0  0.0  0.0  0.0  0.0  0.0  0.0\n",
       " 0.0  0.0  0.0  0.0  0.0  0.0  0.0  0.0     0.0  0.0  0.0  0.0  0.0  0.0  0.0\n",
       " 0.0  0.0  0.0  0.0  0.0  0.0  0.0  0.0  …  0.0  0.0  0.0  0.0  0.0  0.0  0.0\n",
       " 0.0  0.0  0.0  0.0  0.0  0.0  0.0  0.0     0.0  0.0  0.0  0.0  0.0  0.0  0.0\n",
       " 0.0  0.0  0.0  0.0  0.0  0.0  0.0  0.0     0.0  0.0  0.0  0.0  0.0  0.0  0.0\n",
       " ⋮                        ⋮              ⋱            ⋮                   \n",
       " 0.0  0.0  0.0  0.0  0.0  0.0  0.0  0.0     0.0  0.0  0.0  0.0  0.0  0.0  0.0\n",
       " 0.0  0.0  0.0  0.0  0.0  0.0  0.0  0.0     0.0  0.0  0.0  0.0  0.0  0.0  0.0\n",
       " 0.0  0.0  0.0  0.0  0.0  0.0  0.0  0.0     0.0  0.0  0.0  0.0  0.0  0.0  0.0\n",
       " 0.0  0.0  0.0  0.0  0.0  0.0  0.0  0.0  …  0.0  0.0  0.0  0.0  0.0  0.0  0.0\n",
       " 0.0  0.0  0.0  0.0  0.0  0.0  0.0  0.0     0.0  0.0  0.0  0.0  0.0  0.0  0.0\n",
       " 0.0  0.0  0.0  0.0  0.0  0.0  0.0  0.0     0.0  0.0  0.0  0.0  0.0  0.0  0.0\n",
       " 0.0  0.0  0.0  0.0  0.0  0.0  0.0  0.0     0.0  0.0  0.0  0.0  0.0  0.0  0.0\n",
       " 0.0  0.0  0.0  0.0  0.0  0.0  0.0  0.0     0.0  0.0  0.0  0.0  0.0  0.0  0.0\n",
       " 0.0  0.0  0.0  0.0  0.0  0.0  0.0  0.0  …  0.0  0.0  0.0  0.0  0.0  0.0  0.0\n",
       " 0.0  0.0  0.0  0.0  0.0  0.0  0.0  0.0     0.0  0.0  0.0  0.0  0.0  0.0  0.0\n",
       " 0.0  0.0  0.0  0.0  0.0  0.0  0.0  0.0     0.0  0.0  0.0  0.0  0.0  0.0  0.0\n",
       " 0.0  0.0  0.0  0.0  0.0  0.0  0.0  0.0     0.0  0.0  0.0  0.0  0.0  0.0  0.0"
      ]
     },
     "execution_count": 85,
     "metadata": {},
     "output_type": "execute_result"
    }
   ],
   "source": [
    "X=hcat(float.(reshape.(images,:))...)"
   ]
  },
  {
   "cell_type": "code",
   "execution_count": 87,
   "id": "67b3977b-aeaa-459b-a7c0-021158c8f8a4",
   "metadata": {},
   "outputs": [
    {
     "data": {
      "text/plain": [
       "10×60000 OneHotMatrix(::Vector{UInt32}) with eltype Bool:\n",
       " ⋅  1  ⋅  ⋅  ⋅  ⋅  ⋅  ⋅  ⋅  ⋅  ⋅  ⋅  ⋅  …  ⋅  ⋅  ⋅  ⋅  ⋅  ⋅  ⋅  ⋅  ⋅  ⋅  ⋅  ⋅\n",
       " ⋅  ⋅  ⋅  1  ⋅  ⋅  1  ⋅  1  ⋅  ⋅  ⋅  ⋅     ⋅  ⋅  ⋅  ⋅  ⋅  ⋅  1  ⋅  ⋅  ⋅  ⋅  ⋅\n",
       " ⋅  ⋅  ⋅  ⋅  ⋅  1  ⋅  ⋅  ⋅  ⋅  ⋅  ⋅  ⋅     ⋅  ⋅  ⋅  1  ⋅  ⋅  ⋅  ⋅  ⋅  ⋅  ⋅  ⋅\n",
       " ⋅  ⋅  ⋅  ⋅  ⋅  ⋅  ⋅  1  ⋅  ⋅  1  ⋅  1     ⋅  ⋅  ⋅  ⋅  ⋅  ⋅  ⋅  ⋅  1  ⋅  ⋅  ⋅\n",
       " ⋅  ⋅  1  ⋅  ⋅  ⋅  ⋅  ⋅  ⋅  1  ⋅  ⋅  ⋅     ⋅  ⋅  ⋅  ⋅  ⋅  ⋅  ⋅  ⋅  ⋅  ⋅  ⋅  ⋅\n",
       " 1  ⋅  ⋅  ⋅  ⋅  ⋅  ⋅  ⋅  ⋅  ⋅  ⋅  1  ⋅  …  ⋅  ⋅  ⋅  ⋅  ⋅  1  ⋅  ⋅  ⋅  1  ⋅  ⋅\n",
       " ⋅  ⋅  ⋅  ⋅  ⋅  ⋅  ⋅  ⋅  ⋅  ⋅  ⋅  ⋅  ⋅     ⋅  ⋅  ⋅  ⋅  ⋅  ⋅  ⋅  ⋅  ⋅  ⋅  1  ⋅\n",
       " ⋅  ⋅  ⋅  ⋅  ⋅  ⋅  ⋅  ⋅  ⋅  ⋅  ⋅  ⋅  ⋅     1  ⋅  ⋅  ⋅  ⋅  ⋅  ⋅  ⋅  ⋅  ⋅  ⋅  ⋅\n",
       " ⋅  ⋅  ⋅  ⋅  ⋅  ⋅  ⋅  ⋅  ⋅  ⋅  ⋅  ⋅  ⋅     ⋅  1  ⋅  ⋅  ⋅  ⋅  ⋅  1  ⋅  ⋅  ⋅  1\n",
       " ⋅  ⋅  ⋅  ⋅  1  ⋅  ⋅  ⋅  ⋅  ⋅  ⋅  ⋅  ⋅     ⋅  ⋅  1  ⋅  1  ⋅  ⋅  ⋅  ⋅  ⋅  ⋅  ⋅"
      ]
     },
     "execution_count": 87,
     "metadata": {},
     "output_type": "execute_result"
    }
   ],
   "source": [
    "y = onehotbatch(labels, 0:9)"
   ]
  },
  {
   "cell_type": "code",
   "execution_count": 88,
   "id": "1486ab36-bbab-4442-86c2-5a728f2be2c9",
   "metadata": {},
   "outputs": [
    {
     "data": {
      "text/plain": [
       "Chain(\n",
       "  Dense(784, 40, relu),                 \u001b[90m# 31_400 parameters\u001b[39m\n",
       "  Dense(40, 10),                        \u001b[90m# 410 parameters\u001b[39m\n",
       "  NNlib.softmax,\n",
       ")\u001b[90m                   # Total: 4 arrays, \u001b[39m31_810 parameters, 124.508 KiB."
      ]
     },
     "execution_count": 88,
     "metadata": {},
     "output_type": "execute_result"
    }
   ],
   "source": [
    "m = Chain(\n",
    "  Dense(28*28,40, relu),\n",
    "  Dense(40, 10),\n",
    "  softmax)"
   ]
  },
  {
   "cell_type": "code",
   "execution_count": 90,
   "id": "f48af191-e4d0-4b24-9bd6-be20e3151758",
   "metadata": {},
   "outputs": [
    {
     "data": {
      "text/plain": [
       "ADAM(0.001, (0.9, 0.999), 1.0e-8, IdDict{Any, Any}())"
      ]
     },
     "execution_count": 90,
     "metadata": {},
     "output_type": "execute_result"
    }
   ],
   "source": [
    "loss(X, y) = crossentropy(m(X), y) \n",
    "opt = ADAM()"
   ]
  },
  {
   "cell_type": "code",
   "execution_count": 91,
   "id": "724b8878-d2a6-42e2-82bc-278250c741e6",
   "metadata": {},
   "outputs": [
    {
     "data": {
      "text/plain": [
       "#7 (generic function with 1 method)"
      ]
     },
     "execution_count": 91,
     "metadata": {},
     "output_type": "execute_result"
    }
   ],
   "source": [
    "progress = () -> @show(loss(X, y))"
   ]
  },
  {
   "cell_type": "code",
   "execution_count": 92,
   "id": "8b7f0c5a-048b-45b0-8926-533f3c1cd8f5",
   "metadata": {},
   "outputs": [
    {
     "name": "stderr",
     "output_type": "stream",
     "text": [
      "┌ Info: Epoch 1\n",
      "└ @ Main /home/tasty/.julia/packages/Flux/qAdFM/src/optimise/train.jl:143\n"
     ]
    },
    {
     "name": "stdout",
     "output_type": "stream",
     "text": [
      "loss(X, y) = 2.3056182316857106\n"
     ]
    },
    {
     "name": "stderr",
     "output_type": "stream",
     "text": [
      "┌ Info: Epoch 2\n",
      "└ @ Main /home/tasty/.julia/packages/Flux/qAdFM/src/optimise/train.jl:143\n"
     ]
    },
    {
     "name": "stdout",
     "output_type": "stream",
     "text": [
      "loss(X, y) = 2.23223238263482\n"
     ]
    },
    {
     "name": "stderr",
     "output_type": "stream",
     "text": [
      "┌ Info: Epoch 3\n",
      "└ @ Main /home/tasty/.julia/packages/Flux/qAdFM/src/optimise/train.jl:143\n"
     ]
    },
    {
     "name": "stdout",
     "output_type": "stream",
     "text": [
      "loss(X, y) = 2.167176117349887\n"
     ]
    },
    {
     "name": "stderr",
     "output_type": "stream",
     "text": [
      "┌ Info: Epoch 4\n",
      "└ @ Main /home/tasty/.julia/packages/Flux/qAdFM/src/optimise/train.jl:143\n"
     ]
    },
    {
     "name": "stdout",
     "output_type": "stream",
     "text": [
      "loss(X, y) = 2.1069172139885883\n"
     ]
    },
    {
     "name": "stderr",
     "output_type": "stream",
     "text": [
      "┌ Info: Epoch 5\n",
      "└ @ Main /home/tasty/.julia/packages/Flux/qAdFM/src/optimise/train.jl:143\n"
     ]
    },
    {
     "name": "stdout",
     "output_type": "stream",
     "text": [
      "loss(X, y) = 2.0491183516805833\n"
     ]
    },
    {
     "name": "stderr",
     "output_type": "stream",
     "text": [
      "┌ Info: Epoch 6\n",
      "└ @ Main /home/tasty/.julia/packages/Flux/qAdFM/src/optimise/train.jl:143\n"
     ]
    },
    {
     "name": "stdout",
     "output_type": "stream",
     "text": [
      "loss(X, y) = 1.9924810721968067\n"
     ]
    },
    {
     "name": "stderr",
     "output_type": "stream",
     "text": [
      "┌ Info: Epoch 7\n",
      "└ @ Main /home/tasty/.julia/packages/Flux/qAdFM/src/optimise/train.jl:143\n"
     ]
    },
    {
     "name": "stdout",
     "output_type": "stream",
     "text": [
      "loss(X, y) = 1.9365351562729958\n"
     ]
    },
    {
     "name": "stderr",
     "output_type": "stream",
     "text": [
      "┌ Info: Epoch 8\n",
      "└ @ Main /home/tasty/.julia/packages/Flux/qAdFM/src/optimise/train.jl:143\n"
     ]
    },
    {
     "name": "stdout",
     "output_type": "stream",
     "text": [
      "loss(X, y) = 1.881279505771929\n"
     ]
    },
    {
     "name": "stderr",
     "output_type": "stream",
     "text": [
      "┌ Info: Epoch 9\n",
      "└ @ Main /home/tasty/.julia/packages/Flux/qAdFM/src/optimise/train.jl:143\n"
     ]
    },
    {
     "name": "stdout",
     "output_type": "stream",
     "text": [
      "loss(X, y) = 1.826712426397674\n"
     ]
    },
    {
     "name": "stderr",
     "output_type": "stream",
     "text": [
      "┌ Info: Epoch 10\n",
      "└ @ Main /home/tasty/.julia/packages/Flux/qAdFM/src/optimise/train.jl:143\n"
     ]
    },
    {
     "name": "stdout",
     "output_type": "stream",
     "text": [
      "loss(X, y) = 1.7727503644393525\n"
     ]
    },
    {
     "name": "stderr",
     "output_type": "stream",
     "text": [
      "┌ Info: Epoch 11\n",
      "└ @ Main /home/tasty/.julia/packages/Flux/qAdFM/src/optimise/train.jl:143\n"
     ]
    },
    {
     "name": "stdout",
     "output_type": "stream",
     "text": [
      "loss(X, y) = 1.7192145887917825\n"
     ]
    },
    {
     "name": "stderr",
     "output_type": "stream",
     "text": [
      "┌ Info: Epoch 12\n",
      "└ @ Main /home/tasty/.julia/packages/Flux/qAdFM/src/optimise/train.jl:143\n"
     ]
    },
    {
     "name": "stdout",
     "output_type": "stream",
     "text": [
      "loss(X, y) = 1.6659923880061822\n"
     ]
    },
    {
     "name": "stderr",
     "output_type": "stream",
     "text": [
      "┌ Info: Epoch 13\n",
      "└ @ Main /home/tasty/.julia/packages/Flux/qAdFM/src/optimise/train.jl:143\n"
     ]
    },
    {
     "name": "stdout",
     "output_type": "stream",
     "text": [
      "loss(X, y) = 1.6130507361670239\n"
     ]
    },
    {
     "name": "stderr",
     "output_type": "stream",
     "text": [
      "┌ Info: Epoch 14\n",
      "└ @ Main /home/tasty/.julia/packages/Flux/qAdFM/src/optimise/train.jl:143\n"
     ]
    },
    {
     "name": "stdout",
     "output_type": "stream",
     "text": [
      "loss(X, y) = 1.5605030674356897\n"
     ]
    },
    {
     "name": "stderr",
     "output_type": "stream",
     "text": [
      "┌ Info: Epoch 15\n",
      "└ @ Main /home/tasty/.julia/packages/Flux/qAdFM/src/optimise/train.jl:143\n"
     ]
    },
    {
     "name": "stdout",
     "output_type": "stream",
     "text": [
      "loss(X, y) = 1.5086040427207\n"
     ]
    },
    {
     "name": "stderr",
     "output_type": "stream",
     "text": [
      "┌ Info: Epoch 16\n",
      "└ @ Main /home/tasty/.julia/packages/Flux/qAdFM/src/optimise/train.jl:143\n"
     ]
    },
    {
     "name": "stdout",
     "output_type": "stream",
     "text": [
      "loss(X, y) = 1.4577542518519433\n"
     ]
    },
    {
     "name": "stderr",
     "output_type": "stream",
     "text": [
      "┌ Info: Epoch 17\n",
      "└ @ Main /home/tasty/.julia/packages/Flux/qAdFM/src/optimise/train.jl:143\n"
     ]
    },
    {
     "name": "stdout",
     "output_type": "stream",
     "text": [
      "loss(X, y) = 1.4084141972511732\n"
     ]
    },
    {
     "name": "stderr",
     "output_type": "stream",
     "text": [
      "┌ Info: Epoch 18\n",
      "└ @ Main /home/tasty/.julia/packages/Flux/qAdFM/src/optimise/train.jl:143\n"
     ]
    },
    {
     "name": "stdout",
     "output_type": "stream",
     "text": [
      "loss(X, y) = 1.3608451034941067\n"
     ]
    },
    {
     "name": "stderr",
     "output_type": "stream",
     "text": [
      "┌ Info: Epoch 19\n",
      "└ @ Main /home/tasty/.julia/packages/Flux/qAdFM/src/optimise/train.jl:143\n"
     ]
    },
    {
     "name": "stdout",
     "output_type": "stream",
     "text": [
      "loss(X, y) = 1.3151602310175654\n"
     ]
    },
    {
     "name": "stderr",
     "output_type": "stream",
     "text": [
      "┌ Info: Epoch 20\n",
      "└ @ Main /home/tasty/.julia/packages/Flux/qAdFM/src/optimise/train.jl:143\n"
     ]
    },
    {
     "name": "stdout",
     "output_type": "stream",
     "text": [
      "loss(X, y) = 1.271354775672781\n"
     ]
    },
    {
     "name": "stderr",
     "output_type": "stream",
     "text": [
      "┌ Info: Epoch 21\n",
      "└ @ Main /home/tasty/.julia/packages/Flux/qAdFM/src/optimise/train.jl:143\n"
     ]
    },
    {
     "name": "stdout",
     "output_type": "stream",
     "text": [
      "loss(X, y) = 1.2292425577130843\n"
     ]
    },
    {
     "name": "stderr",
     "output_type": "stream",
     "text": [
      "┌ Info: Epoch 22\n",
      "└ @ Main /home/tasty/.julia/packages/Flux/qAdFM/src/optimise/train.jl:143\n"
     ]
    },
    {
     "name": "stdout",
     "output_type": "stream",
     "text": [
      "loss(X, y) = 1.1887192926138628\n"
     ]
    },
    {
     "name": "stderr",
     "output_type": "stream",
     "text": [
      "┌ Info: Epoch 23\n",
      "└ @ Main /home/tasty/.julia/packages/Flux/qAdFM/src/optimise/train.jl:143\n"
     ]
    },
    {
     "name": "stdout",
     "output_type": "stream",
     "text": [
      "loss(X, y) = 1.1497750118288004\n"
     ]
    },
    {
     "name": "stderr",
     "output_type": "stream",
     "text": [
      "┌ Info: Epoch 24\n",
      "└ @ Main /home/tasty/.julia/packages/Flux/qAdFM/src/optimise/train.jl:143\n"
     ]
    },
    {
     "name": "stdout",
     "output_type": "stream",
     "text": [
      "loss(X, y) = 1.1125150712290937\n"
     ]
    },
    {
     "name": "stderr",
     "output_type": "stream",
     "text": [
      "┌ Info: Epoch 25\n",
      "└ @ Main /home/tasty/.julia/packages/Flux/qAdFM/src/optimise/train.jl:143\n"
     ]
    },
    {
     "name": "stdout",
     "output_type": "stream",
     "text": [
      "loss(X, y) = 1.076996553430911\n"
     ]
    },
    {
     "name": "stderr",
     "output_type": "stream",
     "text": [
      "┌ Info: Epoch 26\n",
      "└ @ Main /home/tasty/.julia/packages/Flux/qAdFM/src/optimise/train.jl:143\n"
     ]
    },
    {
     "name": "stdout",
     "output_type": "stream",
     "text": [
      "loss(X, y) = 1.0432636980439425\n"
     ]
    },
    {
     "name": "stderr",
     "output_type": "stream",
     "text": [
      "┌ Info: Epoch 27\n",
      "└ @ Main /home/tasty/.julia/packages/Flux/qAdFM/src/optimise/train.jl:143\n"
     ]
    },
    {
     "name": "stdout",
     "output_type": "stream",
     "text": [
      "loss(X, y) = 1.011230295274616\n"
     ]
    },
    {
     "name": "stderr",
     "output_type": "stream",
     "text": [
      "┌ Info: Epoch 28\n",
      "└ @ Main /home/tasty/.julia/packages/Flux/qAdFM/src/optimise/train.jl:143\n"
     ]
    },
    {
     "name": "stdout",
     "output_type": "stream",
     "text": [
      "loss(X, y) = 0.9807208220953938\n"
     ]
    },
    {
     "name": "stderr",
     "output_type": "stream",
     "text": [
      "┌ Info: Epoch 29\n",
      "└ @ Main /home/tasty/.julia/packages/Flux/qAdFM/src/optimise/train.jl:143\n"
     ]
    },
    {
     "name": "stdout",
     "output_type": "stream",
     "text": [
      "loss(X, y) = 0.9515723975768654\n"
     ]
    },
    {
     "name": "stderr",
     "output_type": "stream",
     "text": [
      "┌ Info: Epoch 30\n",
      "└ @ Main /home/tasty/.julia/packages/Flux/qAdFM/src/optimise/train.jl:143\n"
     ]
    },
    {
     "name": "stdout",
     "output_type": "stream",
     "text": [
      "loss(X, y) = 0.9236621740418081\n"
     ]
    },
    {
     "name": "stderr",
     "output_type": "stream",
     "text": [
      "┌ Info: Epoch 31\n",
      "└ @ Main /home/tasty/.julia/packages/Flux/qAdFM/src/optimise/train.jl:143\n"
     ]
    },
    {
     "name": "stdout",
     "output_type": "stream",
     "text": [
      "loss(X, y) = 0.8969376724307668\n"
     ]
    },
    {
     "name": "stderr",
     "output_type": "stream",
     "text": [
      "┌ Info: Epoch 32\n",
      "└ @ Main /home/tasty/.julia/packages/Flux/qAdFM/src/optimise/train.jl:143\n"
     ]
    },
    {
     "name": "stdout",
     "output_type": "stream",
     "text": [
      "loss(X, y) = 0.8713996844844704\n"
     ]
    },
    {
     "name": "stderr",
     "output_type": "stream",
     "text": [
      "┌ Info: Epoch 33\n",
      "└ @ Main /home/tasty/.julia/packages/Flux/qAdFM/src/optimise/train.jl:143\n"
     ]
    },
    {
     "name": "stdout",
     "output_type": "stream",
     "text": [
      "loss(X, y) = 0.8470762170177172\n"
     ]
    },
    {
     "name": "stderr",
     "output_type": "stream",
     "text": [
      "┌ Info: Epoch 34\n",
      "└ @ Main /home/tasty/.julia/packages/Flux/qAdFM/src/optimise/train.jl:143\n"
     ]
    },
    {
     "name": "stdout",
     "output_type": "stream",
     "text": [
      "loss(X, y) = 0.8239894064730521\n"
     ]
    },
    {
     "name": "stderr",
     "output_type": "stream",
     "text": [
      "┌ Info: Epoch 35\n",
      "└ @ Main /home/tasty/.julia/packages/Flux/qAdFM/src/optimise/train.jl:143\n"
     ]
    },
    {
     "name": "stdout",
     "output_type": "stream",
     "text": [
      "loss(X, y) = 0.8021125756620003\n"
     ]
    },
    {
     "name": "stderr",
     "output_type": "stream",
     "text": [
      "┌ Info: Epoch 36\n",
      "└ @ Main /home/tasty/.julia/packages/Flux/qAdFM/src/optimise/train.jl:143\n"
     ]
    },
    {
     "name": "stdout",
     "output_type": "stream",
     "text": [
      "loss(X, y) = 0.7813844438625456\n"
     ]
    },
    {
     "name": "stderr",
     "output_type": "stream",
     "text": [
      "┌ Info: Epoch 37\n",
      "└ @ Main /home/tasty/.julia/packages/Flux/qAdFM/src/optimise/train.jl:143\n"
     ]
    },
    {
     "name": "stdout",
     "output_type": "stream",
     "text": [
      "loss(X, y) = 0.7617838991173841\n"
     ]
    },
    {
     "name": "stderr",
     "output_type": "stream",
     "text": [
      "┌ Info: Epoch 38\n",
      "└ @ Main /home/tasty/.julia/packages/Flux/qAdFM/src/optimise/train.jl:143\n"
     ]
    },
    {
     "name": "stdout",
     "output_type": "stream",
     "text": [
      "loss(X, y) = 0.7432535563049337\n"
     ]
    },
    {
     "name": "stderr",
     "output_type": "stream",
     "text": [
      "┌ Info: Epoch 39\n",
      "└ @ Main /home/tasty/.julia/packages/Flux/qAdFM/src/optimise/train.jl:143\n"
     ]
    },
    {
     "name": "stdout",
     "output_type": "stream",
     "text": [
      "loss(X, y) = 0.7257328664658954\n"
     ]
    },
    {
     "name": "stderr",
     "output_type": "stream",
     "text": [
      "┌ Info: Epoch 40\n",
      "└ @ Main /home/tasty/.julia/packages/Flux/qAdFM/src/optimise/train.jl:143\n"
     ]
    },
    {
     "name": "stdout",
     "output_type": "stream",
     "text": [
      "loss(X, y) = 0.7091887347545316\n"
     ]
    },
    {
     "name": "stderr",
     "output_type": "stream",
     "text": [
      "┌ Info: Epoch 41\n",
      "└ @ Main /home/tasty/.julia/packages/Flux/qAdFM/src/optimise/train.jl:143\n"
     ]
    },
    {
     "name": "stdout",
     "output_type": "stream",
     "text": [
      "loss(X, y) = 0.6935504478196327\n"
     ]
    },
    {
     "name": "stderr",
     "output_type": "stream",
     "text": [
      "┌ Info: Epoch 42\n",
      "└ @ Main /home/tasty/.julia/packages/Flux/qAdFM/src/optimise/train.jl:143\n"
     ]
    },
    {
     "name": "stdout",
     "output_type": "stream",
     "text": [
      "loss(X, y) = 0.6787613053661582\n"
     ]
    },
    {
     "name": "stderr",
     "output_type": "stream",
     "text": [
      "┌ Info: Epoch 43\n",
      "└ @ Main /home/tasty/.julia/packages/Flux/qAdFM/src/optimise/train.jl:143\n"
     ]
    },
    {
     "name": "stdout",
     "output_type": "stream",
     "text": [
      "loss(X, y) = 0.6647567079824872\n"
     ]
    },
    {
     "name": "stderr",
     "output_type": "stream",
     "text": [
      "┌ Info: Epoch 44\n",
      "└ @ Main /home/tasty/.julia/packages/Flux/qAdFM/src/optimise/train.jl:143\n"
     ]
    },
    {
     "name": "stdout",
     "output_type": "stream",
     "text": [
      "loss(X, y) = 0.651472049893829\n"
     ]
    },
    {
     "name": "stderr",
     "output_type": "stream",
     "text": [
      "┌ Info: Epoch 45\n",
      "└ @ Main /home/tasty/.julia/packages/Flux/qAdFM/src/optimise/train.jl:143\n"
     ]
    },
    {
     "name": "stdout",
     "output_type": "stream",
     "text": [
      "loss(X, y) = 0.6388694893814981\n"
     ]
    },
    {
     "name": "stderr",
     "output_type": "stream",
     "text": [
      "┌ Info: Epoch 46\n",
      "└ @ Main /home/tasty/.julia/packages/Flux/qAdFM/src/optimise/train.jl:143\n"
     ]
    },
    {
     "name": "stdout",
     "output_type": "stream",
     "text": [
      "loss(X, y) = 0.6269115446330245\n"
     ]
    },
    {
     "name": "stderr",
     "output_type": "stream",
     "text": [
      "┌ Info: Epoch 47\n",
      "└ @ Main /home/tasty/.julia/packages/Flux/qAdFM/src/optimise/train.jl:143\n"
     ]
    },
    {
     "name": "stdout",
     "output_type": "stream",
     "text": [
      "loss(X, y) = 0.6155610414030572\n"
     ]
    },
    {
     "name": "stderr",
     "output_type": "stream",
     "text": [
      "┌ Info: Epoch 48\n",
      "└ @ Main /home/tasty/.julia/packages/Flux/qAdFM/src/optimise/train.jl:143\n"
     ]
    },
    {
     "name": "stdout",
     "output_type": "stream",
     "text": [
      "loss(X, y) = 0.6047853962994102\n"
     ]
    },
    {
     "name": "stderr",
     "output_type": "stream",
     "text": [
      "┌ Info: Epoch 49\n",
      "└ @ Main /home/tasty/.julia/packages/Flux/qAdFM/src/optimise/train.jl:143\n"
     ]
    },
    {
     "name": "stdout",
     "output_type": "stream",
     "text": [
      "loss(X, y) = 0.5945506009528464\n"
     ]
    },
    {
     "name": "stderr",
     "output_type": "stream",
     "text": [
      "┌ Info: Epoch 50\n",
      "└ @ Main /home/tasty/.julia/packages/Flux/qAdFM/src/optimise/train.jl:143\n"
     ]
    },
    {
     "name": "stdout",
     "output_type": "stream",
     "text": [
      "loss(X, y) = 0.584808202694017\n"
     ]
    },
    {
     "name": "stderr",
     "output_type": "stream",
     "text": [
      "┌ Info: Epoch 51\n",
      "└ @ Main /home/tasty/.julia/packages/Flux/qAdFM/src/optimise/train.jl:143\n"
     ]
    },
    {
     "name": "stdout",
     "output_type": "stream",
     "text": [
      "loss(X, y) = 0.5755220173091663\n"
     ]
    },
    {
     "name": "stderr",
     "output_type": "stream",
     "text": [
      "┌ Info: Epoch 52\n",
      "└ @ Main /home/tasty/.julia/packages/Flux/qAdFM/src/optimise/train.jl:143\n"
     ]
    },
    {
     "name": "stdout",
     "output_type": "stream",
     "text": [
      "loss(X, y) = 0.5666601658053694\n"
     ]
    },
    {
     "name": "stderr",
     "output_type": "stream",
     "text": [
      "┌ Info: Epoch 53\n",
      "└ @ Main /home/tasty/.julia/packages/Flux/qAdFM/src/optimise/train.jl:143\n"
     ]
    },
    {
     "name": "stdout",
     "output_type": "stream",
     "text": [
      "loss(X, y) = 0.5581993198499353\n"
     ]
    },
    {
     "name": "stderr",
     "output_type": "stream",
     "text": [
      "┌ Info: Epoch 54\n",
      "└ @ Main /home/tasty/.julia/packages/Flux/qAdFM/src/optimise/train.jl:143\n"
     ]
    },
    {
     "name": "stdout",
     "output_type": "stream",
     "text": [
      "loss(X, y) = 0.5501217107848176\n"
     ]
    },
    {
     "name": "stderr",
     "output_type": "stream",
     "text": [
      "┌ Info: Epoch 55\n",
      "└ @ Main /home/tasty/.julia/packages/Flux/qAdFM/src/optimise/train.jl:143\n"
     ]
    },
    {
     "name": "stdout",
     "output_type": "stream",
     "text": [
      "loss(X, y) = 0.5424114328973347\n"
     ]
    },
    {
     "name": "stderr",
     "output_type": "stream",
     "text": [
      "┌ Info: Epoch 56\n",
      "└ @ Main /home/tasty/.julia/packages/Flux/qAdFM/src/optimise/train.jl:143\n"
     ]
    },
    {
     "name": "stdout",
     "output_type": "stream",
     "text": [
      "loss(X, y) = 0.5350502844171529\n"
     ]
    },
    {
     "name": "stderr",
     "output_type": "stream",
     "text": [
      "┌ Info: Epoch 57\n",
      "└ @ Main /home/tasty/.julia/packages/Flux/qAdFM/src/optimise/train.jl:143\n"
     ]
    },
    {
     "name": "stdout",
     "output_type": "stream",
     "text": [
      "loss(X, y) = 0.5280145369596518\n"
     ]
    },
    {
     "name": "stderr",
     "output_type": "stream",
     "text": [
      "┌ Info: Epoch 58\n",
      "└ @ Main /home/tasty/.julia/packages/Flux/qAdFM/src/optimise/train.jl:143\n"
     ]
    },
    {
     "name": "stdout",
     "output_type": "stream",
     "text": [
      "loss(X, y) = 0.5212789657538566\n"
     ]
    },
    {
     "name": "stderr",
     "output_type": "stream",
     "text": [
      "┌ Info: Epoch 59\n",
      "└ @ Main /home/tasty/.julia/packages/Flux/qAdFM/src/optimise/train.jl:143\n"
     ]
    },
    {
     "name": "stdout",
     "output_type": "stream",
     "text": [
      "loss(X, y) = 0.5148229236237813\n"
     ]
    },
    {
     "name": "stderr",
     "output_type": "stream",
     "text": [
      "┌ Info: Epoch 60\n",
      "└ @ Main /home/tasty/.julia/packages/Flux/qAdFM/src/optimise/train.jl:143\n"
     ]
    },
    {
     "name": "stdout",
     "output_type": "stream",
     "text": [
      "loss(X, y) = 0.5086269917765678\n"
     ]
    },
    {
     "name": "stderr",
     "output_type": "stream",
     "text": [
      "┌ Info: Epoch 61\n",
      "└ @ Main /home/tasty/.julia/packages/Flux/qAdFM/src/optimise/train.jl:143\n"
     ]
    },
    {
     "name": "stdout",
     "output_type": "stream",
     "text": [
      "loss(X, y) = 0.5026745910877438\n"
     ]
    },
    {
     "name": "stderr",
     "output_type": "stream",
     "text": [
      "┌ Info: Epoch 62\n",
      "└ @ Main /home/tasty/.julia/packages/Flux/qAdFM/src/optimise/train.jl:143\n"
     ]
    },
    {
     "name": "stdout",
     "output_type": "stream",
     "text": [
      "loss(X, y) = 0.496951615074461\n"
     ]
    },
    {
     "name": "stderr",
     "output_type": "stream",
     "text": [
      "┌ Info: Epoch 63\n",
      "└ @ Main /home/tasty/.julia/packages/Flux/qAdFM/src/optimise/train.jl:143\n"
     ]
    },
    {
     "name": "stdout",
     "output_type": "stream",
     "text": [
      "loss(X, y) = 0.4914436829617908\n"
     ]
    },
    {
     "name": "stderr",
     "output_type": "stream",
     "text": [
      "┌ Info: Epoch 64\n",
      "└ @ Main /home/tasty/.julia/packages/Flux/qAdFM/src/optimise/train.jl:143\n"
     ]
    },
    {
     "name": "stdout",
     "output_type": "stream",
     "text": [
      "loss(X, y) = 0.48613519116591813\n"
     ]
    },
    {
     "name": "stderr",
     "output_type": "stream",
     "text": [
      "┌ Info: Epoch 65\n",
      "└ @ Main /home/tasty/.julia/packages/Flux/qAdFM/src/optimise/train.jl:143\n"
     ]
    },
    {
     "name": "stdout",
     "output_type": "stream",
     "text": [
      "loss(X, y) = 0.4810143034649154\n"
     ]
    },
    {
     "name": "stderr",
     "output_type": "stream",
     "text": [
      "┌ Info: Epoch 66\n",
      "└ @ Main /home/tasty/.julia/packages/Flux/qAdFM/src/optimise/train.jl:143\n"
     ]
    },
    {
     "name": "stdout",
     "output_type": "stream",
     "text": [
      "loss(X, y) = 0.4760673342571442\n"
     ]
    },
    {
     "name": "stderr",
     "output_type": "stream",
     "text": [
      "┌ Info: Epoch 67\n",
      "└ @ Main /home/tasty/.julia/packages/Flux/qAdFM/src/optimise/train.jl:143\n"
     ]
    },
    {
     "name": "stdout",
     "output_type": "stream",
     "text": [
      "loss(X, y) = 0.4712842090521763\n"
     ]
    },
    {
     "name": "stderr",
     "output_type": "stream",
     "text": [
      "┌ Info: Epoch 68\n",
      "└ @ Main /home/tasty/.julia/packages/Flux/qAdFM/src/optimise/train.jl:143\n"
     ]
    },
    {
     "name": "stdout",
     "output_type": "stream",
     "text": [
      "loss(X, y) = 0.4666538703277846\n"
     ]
    },
    {
     "name": "stderr",
     "output_type": "stream",
     "text": [
      "┌ Info: Epoch 69\n",
      "└ @ Main /home/tasty/.julia/packages/Flux/qAdFM/src/optimise/train.jl:143\n"
     ]
    },
    {
     "name": "stdout",
     "output_type": "stream",
     "text": [
      "loss(X, y) = 0.4621670053698912\n"
     ]
    },
    {
     "name": "stderr",
     "output_type": "stream",
     "text": [
      "┌ Info: Epoch 70\n",
      "└ @ Main /home/tasty/.julia/packages/Flux/qAdFM/src/optimise/train.jl:143\n"
     ]
    },
    {
     "name": "stdout",
     "output_type": "stream",
     "text": [
      "loss(X, y) = 0.4578149263215482\n"
     ]
    },
    {
     "name": "stderr",
     "output_type": "stream",
     "text": [
      "┌ Info: Epoch 71\n",
      "└ @ Main /home/tasty/.julia/packages/Flux/qAdFM/src/optimise/train.jl:143\n"
     ]
    },
    {
     "name": "stdout",
     "output_type": "stream",
     "text": [
      "loss(X, y) = 0.4535929040809208\n"
     ]
    },
    {
     "name": "stderr",
     "output_type": "stream",
     "text": [
      "┌ Info: Epoch 72\n",
      "└ @ Main /home/tasty/.julia/packages/Flux/qAdFM/src/optimise/train.jl:143\n"
     ]
    },
    {
     "name": "stdout",
     "output_type": "stream",
     "text": [
      "loss(X, y) = 0.44949987093040983\n"
     ]
    },
    {
     "name": "stderr",
     "output_type": "stream",
     "text": [
      "┌ Info: Epoch 73\n",
      "└ @ Main /home/tasty/.julia/packages/Flux/qAdFM/src/optimise/train.jl:143\n"
     ]
    },
    {
     "name": "stdout",
     "output_type": "stream",
     "text": [
      "loss(X, y) = 0.4455387179979141\n"
     ]
    },
    {
     "name": "stderr",
     "output_type": "stream",
     "text": [
      "┌ Info: Epoch 74\n",
      "└ @ Main /home/tasty/.julia/packages/Flux/qAdFM/src/optimise/train.jl:143\n"
     ]
    },
    {
     "name": "stdout",
     "output_type": "stream",
     "text": [
      "loss(X, y) = 0.4417076581370872\n"
     ]
    },
    {
     "name": "stderr",
     "output_type": "stream",
     "text": [
      "┌ Info: Epoch 75\n",
      "└ @ Main /home/tasty/.julia/packages/Flux/qAdFM/src/optimise/train.jl:143\n"
     ]
    },
    {
     "name": "stdout",
     "output_type": "stream",
     "text": [
      "loss(X, y) = 0.43799754003745767\n"
     ]
    },
    {
     "name": "stderr",
     "output_type": "stream",
     "text": [
      "┌ Info: Epoch 76\n",
      "└ @ Main /home/tasty/.julia/packages/Flux/qAdFM/src/optimise/train.jl:143\n"
     ]
    },
    {
     "name": "stdout",
     "output_type": "stream",
     "text": [
      "loss(X, y) = 0.434401104608576\n"
     ]
    },
    {
     "name": "stderr",
     "output_type": "stream",
     "text": [
      "┌ Info: Epoch 77\n",
      "└ @ Main /home/tasty/.julia/packages/Flux/qAdFM/src/optimise/train.jl:143\n"
     ]
    },
    {
     "name": "stdout",
     "output_type": "stream",
     "text": [
      "loss(X, y) = 0.43090706888927927\n"
     ]
    },
    {
     "name": "stderr",
     "output_type": "stream",
     "text": [
      "┌ Info: Epoch 78\n",
      "└ @ Main /home/tasty/.julia/packages/Flux/qAdFM/src/optimise/train.jl:143\n"
     ]
    },
    {
     "name": "stdout",
     "output_type": "stream",
     "text": [
      "loss(X, y) = 0.4275052689400445\n"
     ]
    },
    {
     "name": "stderr",
     "output_type": "stream",
     "text": [
      "┌ Info: Epoch 79\n",
      "└ @ Main /home/tasty/.julia/packages/Flux/qAdFM/src/optimise/train.jl:143\n"
     ]
    },
    {
     "name": "stdout",
     "output_type": "stream",
     "text": [
      "loss(X, y) = 0.42419359339759527\n"
     ]
    },
    {
     "name": "stderr",
     "output_type": "stream",
     "text": [
      "┌ Info: Epoch 80\n",
      "└ @ Main /home/tasty/.julia/packages/Flux/qAdFM/src/optimise/train.jl:143\n"
     ]
    },
    {
     "name": "stdout",
     "output_type": "stream",
     "text": [
      "loss(X, y) = 0.4209707994663177\n"
     ]
    },
    {
     "name": "stderr",
     "output_type": "stream",
     "text": [
      "┌ Info: Epoch 81\n",
      "└ @ Main /home/tasty/.julia/packages/Flux/qAdFM/src/optimise/train.jl:143\n"
     ]
    },
    {
     "name": "stdout",
     "output_type": "stream",
     "text": [
      "loss(X, y) = 0.417835020626789\n"
     ]
    },
    {
     "name": "stderr",
     "output_type": "stream",
     "text": [
      "┌ Info: Epoch 82\n",
      "└ @ Main /home/tasty/.julia/packages/Flux/qAdFM/src/optimise/train.jl:143\n"
     ]
    },
    {
     "name": "stdout",
     "output_type": "stream",
     "text": [
      "loss(X, y) = 0.4147818795163628\n"
     ]
    },
    {
     "name": "stderr",
     "output_type": "stream",
     "text": [
      "┌ Info: Epoch 83\n",
      "└ @ Main /home/tasty/.julia/packages/Flux/qAdFM/src/optimise/train.jl:143\n"
     ]
    },
    {
     "name": "stdout",
     "output_type": "stream",
     "text": [
      "loss(X, y) = 0.41180840573876304\n"
     ]
    },
    {
     "name": "stderr",
     "output_type": "stream",
     "text": [
      "┌ Info: Epoch 84\n",
      "└ @ Main /home/tasty/.julia/packages/Flux/qAdFM/src/optimise/train.jl:143\n"
     ]
    },
    {
     "name": "stdout",
     "output_type": "stream",
     "text": [
      "loss(X, y) = 0.4089112776993034\n"
     ]
    },
    {
     "name": "stderr",
     "output_type": "stream",
     "text": [
      "┌ Info: Epoch 85\n",
      "└ @ Main /home/tasty/.julia/packages/Flux/qAdFM/src/optimise/train.jl:143\n"
     ]
    },
    {
     "name": "stdout",
     "output_type": "stream",
     "text": [
      "loss(X, y) = 0.40609078021825057\n"
     ]
    },
    {
     "name": "stderr",
     "output_type": "stream",
     "text": [
      "┌ Info: Epoch 86\n",
      "└ @ Main /home/tasty/.julia/packages/Flux/qAdFM/src/optimise/train.jl:143\n"
     ]
    },
    {
     "name": "stdout",
     "output_type": "stream",
     "text": [
      "loss(X, y) = 0.40334594457316586\n"
     ]
    },
    {
     "name": "stderr",
     "output_type": "stream",
     "text": [
      "┌ Info: Epoch 87\n",
      "└ @ Main /home/tasty/.julia/packages/Flux/qAdFM/src/optimise/train.jl:143\n"
     ]
    },
    {
     "name": "stdout",
     "output_type": "stream",
     "text": [
      "loss(X, y) = 0.4006746224363615\n"
     ]
    },
    {
     "name": "stderr",
     "output_type": "stream",
     "text": [
      "┌ Info: Epoch 88\n",
      "└ @ Main /home/tasty/.julia/packages/Flux/qAdFM/src/optimise/train.jl:143\n"
     ]
    },
    {
     "name": "stdout",
     "output_type": "stream",
     "text": [
      "loss(X, y) = 0.3980735053975728\n"
     ]
    },
    {
     "name": "stderr",
     "output_type": "stream",
     "text": [
      "┌ Info: Epoch 89\n",
      "└ @ Main /home/tasty/.julia/packages/Flux/qAdFM/src/optimise/train.jl:143\n"
     ]
    },
    {
     "name": "stdout",
     "output_type": "stream",
     "text": [
      "loss(X, y) = 0.39553862949686314\n"
     ]
    },
    {
     "name": "stderr",
     "output_type": "stream",
     "text": [
      "┌ Info: Epoch 90\n",
      "└ @ Main /home/tasty/.julia/packages/Flux/qAdFM/src/optimise/train.jl:143\n"
     ]
    },
    {
     "name": "stdout",
     "output_type": "stream",
     "text": [
      "loss(X, y) = 0.39306567986618696\n"
     ]
    },
    {
     "name": "stderr",
     "output_type": "stream",
     "text": [
      "┌ Info: Epoch 91\n",
      "└ @ Main /home/tasty/.julia/packages/Flux/qAdFM/src/optimise/train.jl:143\n"
     ]
    },
    {
     "name": "stdout",
     "output_type": "stream",
     "text": [
      "loss(X, y) = 0.3906508539533902\n"
     ]
    },
    {
     "name": "stderr",
     "output_type": "stream",
     "text": [
      "┌ Info: Epoch 92\n",
      "└ @ Main /home/tasty/.julia/packages/Flux/qAdFM/src/optimise/train.jl:143\n"
     ]
    },
    {
     "name": "stdout",
     "output_type": "stream",
     "text": [
      "loss(X, y) = 0.38829096866700796\n"
     ]
    },
    {
     "name": "stderr",
     "output_type": "stream",
     "text": [
      "┌ Info: Epoch 93\n",
      "└ @ Main /home/tasty/.julia/packages/Flux/qAdFM/src/optimise/train.jl:143\n"
     ]
    },
    {
     "name": "stdout",
     "output_type": "stream",
     "text": [
      "loss(X, y) = 0.3859837303058219\n"
     ]
    },
    {
     "name": "stderr",
     "output_type": "stream",
     "text": [
      "┌ Info: Epoch 94\n",
      "└ @ Main /home/tasty/.julia/packages/Flux/qAdFM/src/optimise/train.jl:143\n"
     ]
    },
    {
     "name": "stdout",
     "output_type": "stream",
     "text": [
      "loss(X, y) = 0.3837271348152634\n"
     ]
    },
    {
     "name": "stderr",
     "output_type": "stream",
     "text": [
      "┌ Info: Epoch 95\n",
      "└ @ Main /home/tasty/.julia/packages/Flux/qAdFM/src/optimise/train.jl:143\n"
     ]
    },
    {
     "name": "stdout",
     "output_type": "stream",
     "text": [
      "loss(X, y) = 0.38151952262392524\n"
     ]
    },
    {
     "name": "stderr",
     "output_type": "stream",
     "text": [
      "┌ Info: Epoch 96\n",
      "└ @ Main /home/tasty/.julia/packages/Flux/qAdFM/src/optimise/train.jl:143\n"
     ]
    },
    {
     "name": "stdout",
     "output_type": "stream",
     "text": [
      "loss(X, y) = 0.3793581436716555\n"
     ]
    },
    {
     "name": "stderr",
     "output_type": "stream",
     "text": [
      "┌ Info: Epoch 97\n",
      "└ @ Main /home/tasty/.julia/packages/Flux/qAdFM/src/optimise/train.jl:143\n"
     ]
    },
    {
     "name": "stdout",
     "output_type": "stream",
     "text": [
      "loss(X, y) = 0.37724177277807386\n"
     ]
    },
    {
     "name": "stderr",
     "output_type": "stream",
     "text": [
      "┌ Info: Epoch 98\n",
      "└ @ Main /home/tasty/.julia/packages/Flux/qAdFM/src/optimise/train.jl:143\n"
     ]
    },
    {
     "name": "stdout",
     "output_type": "stream",
     "text": [
      "loss(X, y) = 0.3751698991056834\n"
     ]
    },
    {
     "name": "stderr",
     "output_type": "stream",
     "text": [
      "┌ Info: Epoch 99\n",
      "└ @ Main /home/tasty/.julia/packages/Flux/qAdFM/src/optimise/train.jl:143\n"
     ]
    },
    {
     "name": "stdout",
     "output_type": "stream",
     "text": [
      "loss(X, y) = 0.37314285175295503\n"
     ]
    },
    {
     "name": "stderr",
     "output_type": "stream",
     "text": [
      "┌ Info: Epoch 100\n",
      "└ @ Main /home/tasty/.julia/packages/Flux/qAdFM/src/optimise/train.jl:143\n"
     ]
    },
    {
     "name": "stdout",
     "output_type": "stream",
     "text": [
      "loss(X, y) = 0.3711592576806329\n"
     ]
    }
   ],
   "source": [
    "using Flux:@epochs\n",
    "@epochs 100 Flux.train!(loss, params(m),[(X,y)], opt, cb = throttle(progress, 10))"
   ]
  },
  {
   "cell_type": "code",
   "execution_count": 93,
   "id": "c9c22040-e785-4755-95c3-a956635233e1",
   "metadata": {},
   "outputs": [
    {
     "data": {
      "text/plain": [
       "1915"
      ]
     },
     "execution_count": 93,
     "metadata": {},
     "output_type": "execute_result"
    }
   ],
   "source": [
    "foobar=rand(1:10000)\n",
    "\t"
   ]
  },
  {
   "cell_type": "code",
   "execution_count": 95,
   "id": "37f3fa41-a758-4216-b356-800b611d6c97",
   "metadata": {},
   "outputs": [
    {
     "name": "stderr",
     "output_type": "stream",
     "text": [
      "┌ Warning: Flux's datasets are deprecated, please use the package MLDatasets.jl\n",
      "└ @ Flux.Data /home/tasty/.julia/packages/Flux/qAdFM/src/data/Data.jl:16\n"
     ]
    },
    {
     "data": {
      "image/svg+xml": [
       "<?xml version=\"1.0\" encoding=\"UTF-8\"?>\n",
       "<!DOCTYPE svg PUBLIC \"-//W3C//DTD SVG 1.1//EN\"\n",
       " \"http://www.w3.org/Graphics/SVG/1.1/DTD/svg11.dtd\">\n",
       "<svg xmlns=\"http://www.w3.org/2000/svg\" version=\"1.1\"\n",
       "     width=\"150mm\" height=\"150mm\"\n",
       "     viewBox=\"0 0 28 28\" preserveAspectRatio=\"none\"\n",
       "     shape-rendering=\"crispEdges\" stroke=\"none\">\n",
       "<rect width=\".81\" height=\".81\" x=\"0\" y=\"0\" fill=\"#000000\" />\n",
       "<rect width=\".81\" height=\".81\" x=\"1\" y=\"0\" fill=\"#000000\" />\n",
       "<rect width=\".81\" height=\".81\" x=\"2\" y=\"0\" fill=\"#000000\" />\n",
       "<rect width=\".81\" height=\".81\" x=\"3\" y=\"0\" fill=\"#000000\" />\n",
       "<rect width=\".81\" height=\".81\" x=\"4\" y=\"0\" fill=\"#000000\" />\n",
       "<rect width=\".81\" height=\".81\" x=\"5\" y=\"0\" fill=\"#000000\" />\n",
       "<rect width=\".81\" height=\".81\" x=\"6\" y=\"0\" fill=\"#000000\" />\n",
       "<rect width=\".81\" height=\".81\" x=\"7\" y=\"0\" fill=\"#000000\" />\n",
       "<rect width=\".81\" height=\".81\" x=\"8\" y=\"0\" fill=\"#000000\" />\n",
       "<rect width=\".81\" height=\".81\" x=\"9\" y=\"0\" fill=\"#000000\" />\n",
       "<rect width=\".81\" height=\".81\" x=\"10\" y=\"0\" fill=\"#000000\" />\n",
       "<rect width=\".81\" height=\".81\" x=\"11\" y=\"0\" fill=\"#000000\" />\n",
       "<rect width=\".81\" height=\".81\" x=\"12\" y=\"0\" fill=\"#000000\" />\n",
       "<rect width=\".81\" height=\".81\" x=\"13\" y=\"0\" fill=\"#000000\" />\n",
       "<rect width=\".81\" height=\".81\" x=\"14\" y=\"0\" fill=\"#000000\" />\n",
       "<rect width=\".81\" height=\".81\" x=\"15\" y=\"0\" fill=\"#000000\" />\n",
       "<rect width=\".81\" height=\".81\" x=\"16\" y=\"0\" fill=\"#000000\" />\n",
       "<rect width=\".81\" height=\".81\" x=\"17\" y=\"0\" fill=\"#000000\" />\n",
       "<rect width=\".81\" height=\".81\" x=\"18\" y=\"0\" fill=\"#000000\" />\n",
       "<rect width=\".81\" height=\".81\" x=\"19\" y=\"0\" fill=\"#000000\" />\n",
       "<rect width=\".81\" height=\".81\" x=\"20\" y=\"0\" fill=\"#000000\" />\n",
       "<rect width=\".81\" height=\".81\" x=\"21\" y=\"0\" fill=\"#000000\" />\n",
       "<rect width=\".81\" height=\".81\" x=\"22\" y=\"0\" fill=\"#000000\" />\n",
       "<rect width=\".81\" height=\".81\" x=\"23\" y=\"0\" fill=\"#000000\" />\n",
       "<rect width=\".81\" height=\".81\" x=\"24\" y=\"0\" fill=\"#000000\" />\n",
       "<rect width=\".81\" height=\".81\" x=\"25\" y=\"0\" fill=\"#000000\" />\n",
       "<rect width=\".81\" height=\".81\" x=\"26\" y=\"0\" fill=\"#000000\" />\n",
       "<rect width=\".81\" height=\".81\" x=\"27\" y=\"0\" fill=\"#000000\" />\n",
       "<rect width=\".81\" height=\".81\" x=\"0\" y=\"1\" fill=\"#000000\" />\n",
       "<rect width=\".81\" height=\".81\" x=\"1\" y=\"1\" fill=\"#000000\" />\n",
       "<rect width=\".81\" height=\".81\" x=\"2\" y=\"1\" fill=\"#000000\" />\n",
       "<rect width=\".81\" height=\".81\" x=\"3\" y=\"1\" fill=\"#000000\" />\n",
       "<rect width=\".81\" height=\".81\" x=\"4\" y=\"1\" fill=\"#000000\" />\n",
       "<rect width=\".81\" height=\".81\" x=\"5\" y=\"1\" fill=\"#000000\" />\n",
       "<rect width=\".81\" height=\".81\" x=\"6\" y=\"1\" fill=\"#000000\" />\n",
       "<rect width=\".81\" height=\".81\" x=\"7\" y=\"1\" fill=\"#000000\" />\n",
       "<rect width=\".81\" height=\".81\" x=\"8\" y=\"1\" fill=\"#000000\" />\n",
       "<rect width=\".81\" height=\".81\" x=\"9\" y=\"1\" fill=\"#000000\" />\n",
       "<rect width=\".81\" height=\".81\" x=\"10\" y=\"1\" fill=\"#000000\" />\n",
       "<rect width=\".81\" height=\".81\" x=\"11\" y=\"1\" fill=\"#000000\" />\n",
       "<rect width=\".81\" height=\".81\" x=\"12\" y=\"1\" fill=\"#000000\" />\n",
       "<rect width=\".81\" height=\".81\" x=\"13\" y=\"1\" fill=\"#000000\" />\n",
       "<rect width=\".81\" height=\".81\" x=\"14\" y=\"1\" fill=\"#000000\" />\n",
       "<rect width=\".81\" height=\".81\" x=\"15\" y=\"1\" fill=\"#000000\" />\n",
       "<rect width=\".81\" height=\".81\" x=\"16\" y=\"1\" fill=\"#000000\" />\n",
       "<rect width=\".81\" height=\".81\" x=\"17\" y=\"1\" fill=\"#000000\" />\n",
       "<rect width=\".81\" height=\".81\" x=\"18\" y=\"1\" fill=\"#000000\" />\n",
       "<rect width=\".81\" height=\".81\" x=\"19\" y=\"1\" fill=\"#000000\" />\n",
       "<rect width=\".81\" height=\".81\" x=\"20\" y=\"1\" fill=\"#000000\" />\n",
       "<rect width=\".81\" height=\".81\" x=\"21\" y=\"1\" fill=\"#000000\" />\n",
       "<rect width=\".81\" height=\".81\" x=\"22\" y=\"1\" fill=\"#000000\" />\n",
       "<rect width=\".81\" height=\".81\" x=\"23\" y=\"1\" fill=\"#000000\" />\n",
       "<rect width=\".81\" height=\".81\" x=\"24\" y=\"1\" fill=\"#000000\" />\n",
       "<rect width=\".81\" height=\".81\" x=\"25\" y=\"1\" fill=\"#000000\" />\n",
       "<rect width=\".81\" height=\".81\" x=\"26\" y=\"1\" fill=\"#000000\" />\n",
       "<rect width=\".81\" height=\".81\" x=\"27\" y=\"1\" fill=\"#000000\" />\n",
       "<rect width=\".81\" height=\".81\" x=\"0\" y=\"2\" fill=\"#000000\" />\n",
       "<rect width=\".81\" height=\".81\" x=\"1\" y=\"2\" fill=\"#000000\" />\n",
       "<rect width=\".81\" height=\".81\" x=\"2\" y=\"2\" fill=\"#000000\" />\n",
       "<rect width=\".81\" height=\".81\" x=\"3\" y=\"2\" fill=\"#000000\" />\n",
       "<rect width=\".81\" height=\".81\" x=\"4\" y=\"2\" fill=\"#000000\" />\n",
       "<rect width=\".81\" height=\".81\" x=\"5\" y=\"2\" fill=\"#000000\" />\n",
       "<rect width=\".81\" height=\".81\" x=\"6\" y=\"2\" fill=\"#000000\" />\n",
       "<rect width=\".81\" height=\".81\" x=\"7\" y=\"2\" fill=\"#000000\" />\n",
       "<rect width=\".81\" height=\".81\" x=\"8\" y=\"2\" fill=\"#000000\" />\n",
       "<rect width=\".81\" height=\".81\" x=\"9\" y=\"2\" fill=\"#000000\" />\n",
       "<rect width=\".81\" height=\".81\" x=\"10\" y=\"2\" fill=\"#000000\" />\n",
       "<rect width=\".81\" height=\".81\" x=\"11\" y=\"2\" fill=\"#000000\" />\n",
       "<rect width=\".81\" height=\".81\" x=\"12\" y=\"2\" fill=\"#000000\" />\n",
       "<rect width=\".81\" height=\".81\" x=\"13\" y=\"2\" fill=\"#000000\" />\n",
       "<rect width=\".81\" height=\".81\" x=\"14\" y=\"2\" fill=\"#000000\" />\n",
       "<rect width=\".81\" height=\".81\" x=\"15\" y=\"2\" fill=\"#000000\" />\n",
       "<rect width=\".81\" height=\".81\" x=\"16\" y=\"2\" fill=\"#000000\" />\n",
       "<rect width=\".81\" height=\".81\" x=\"17\" y=\"2\" fill=\"#000000\" />\n",
       "<rect width=\".81\" height=\".81\" x=\"18\" y=\"2\" fill=\"#000000\" />\n",
       "<rect width=\".81\" height=\".81\" x=\"19\" y=\"2\" fill=\"#000000\" />\n",
       "<rect width=\".81\" height=\".81\" x=\"20\" y=\"2\" fill=\"#000000\" />\n",
       "<rect width=\".81\" height=\".81\" x=\"21\" y=\"2\" fill=\"#000000\" />\n",
       "<rect width=\".81\" height=\".81\" x=\"22\" y=\"2\" fill=\"#000000\" />\n",
       "<rect width=\".81\" height=\".81\" x=\"23\" y=\"2\" fill=\"#000000\" />\n",
       "<rect width=\".81\" height=\".81\" x=\"24\" y=\"2\" fill=\"#000000\" />\n",
       "<rect width=\".81\" height=\".81\" x=\"25\" y=\"2\" fill=\"#000000\" />\n",
       "<rect width=\".81\" height=\".81\" x=\"26\" y=\"2\" fill=\"#000000\" />\n",
       "<rect width=\".81\" height=\".81\" x=\"27\" y=\"2\" fill=\"#000000\" />\n",
       "<rect width=\".81\" height=\".81\" x=\"0\" y=\"3\" fill=\"#000000\" />\n",
       "<rect width=\".81\" height=\".81\" x=\"1\" y=\"3\" fill=\"#000000\" />\n",
       "<rect width=\".81\" height=\".81\" x=\"2\" y=\"3\" fill=\"#000000\" />\n",
       "<rect width=\".81\" height=\".81\" x=\"3\" y=\"3\" fill=\"#000000\" />\n",
       "<rect width=\".81\" height=\".81\" x=\"4\" y=\"3\" fill=\"#000000\" />\n",
       "<rect width=\".81\" height=\".81\" x=\"5\" y=\"3\" fill=\"#000000\" />\n",
       "<rect width=\".81\" height=\".81\" x=\"6\" y=\"3\" fill=\"#000000\" />\n",
       "<rect width=\".81\" height=\".81\" x=\"7\" y=\"3\" fill=\"#000000\" />\n",
       "<rect width=\".81\" height=\".81\" x=\"8\" y=\"3\" fill=\"#000000\" />\n",
       "<rect width=\".81\" height=\".81\" x=\"9\" y=\"3\" fill=\"#000000\" />\n",
       "<rect width=\".81\" height=\".81\" x=\"10\" y=\"3\" fill=\"#000000\" />\n",
       "<rect width=\".81\" height=\".81\" x=\"11\" y=\"3\" fill=\"#000000\" />\n",
       "<rect width=\".81\" height=\".81\" x=\"12\" y=\"3\" fill=\"#000000\" />\n",
       "<rect width=\".81\" height=\".81\" x=\"13\" y=\"3\" fill=\"#000000\" />\n",
       "<rect width=\".81\" height=\".81\" x=\"14\" y=\"3\" fill=\"#000000\" />\n",
       "<rect width=\".81\" height=\".81\" x=\"15\" y=\"3\" fill=\"#000000\" />\n",
       "<rect width=\".81\" height=\".81\" x=\"16\" y=\"3\" fill=\"#000000\" />\n",
       "<rect width=\".81\" height=\".81\" x=\"17\" y=\"3\" fill=\"#000000\" />\n",
       "<rect width=\".81\" height=\".81\" x=\"18\" y=\"3\" fill=\"#000000\" />\n",
       "<rect width=\".81\" height=\".81\" x=\"19\" y=\"3\" fill=\"#000000\" />\n",
       "<rect width=\".81\" height=\".81\" x=\"20\" y=\"3\" fill=\"#000000\" />\n",
       "<rect width=\".81\" height=\".81\" x=\"21\" y=\"3\" fill=\"#000000\" />\n",
       "<rect width=\".81\" height=\".81\" x=\"22\" y=\"3\" fill=\"#000000\" />\n",
       "<rect width=\".81\" height=\".81\" x=\"23\" y=\"3\" fill=\"#000000\" />\n",
       "<rect width=\".81\" height=\".81\" x=\"24\" y=\"3\" fill=\"#000000\" />\n",
       "<rect width=\".81\" height=\".81\" x=\"25\" y=\"3\" fill=\"#000000\" />\n",
       "<rect width=\".81\" height=\".81\" x=\"26\" y=\"3\" fill=\"#000000\" />\n",
       "<rect width=\".81\" height=\".81\" x=\"27\" y=\"3\" fill=\"#000000\" />\n",
       "<rect width=\".81\" height=\".81\" x=\"0\" y=\"4\" fill=\"#000000\" />\n",
       "<rect width=\".81\" height=\".81\" x=\"1\" y=\"4\" fill=\"#000000\" />\n",
       "<rect width=\".81\" height=\".81\" x=\"2\" y=\"4\" fill=\"#000000\" />\n",
       "<rect width=\".81\" height=\".81\" x=\"3\" y=\"4\" fill=\"#000000\" />\n",
       "<rect width=\".81\" height=\".81\" x=\"4\" y=\"4\" fill=\"#000000\" />\n",
       "<rect width=\".81\" height=\".81\" x=\"5\" y=\"4\" fill=\"#000000\" />\n",
       "<rect width=\".81\" height=\".81\" x=\"6\" y=\"4\" fill=\"#000000\" />\n",
       "<rect width=\".81\" height=\".81\" x=\"7\" y=\"4\" fill=\"#000000\" />\n",
       "<rect width=\".81\" height=\".81\" x=\"8\" y=\"4\" fill=\"#000000\" />\n",
       "<rect width=\".81\" height=\".81\" x=\"9\" y=\"4\" fill=\"#000000\" />\n",
       "<rect width=\".81\" height=\".81\" x=\"10\" y=\"4\" fill=\"#000000\" />\n",
       "<rect width=\".81\" height=\".81\" x=\"11\" y=\"4\" fill=\"#000000\" />\n",
       "<rect width=\".81\" height=\".81\" x=\"12\" y=\"4\" fill=\"#000000\" />\n",
       "<rect width=\".81\" height=\".81\" x=\"13\" y=\"4\" fill=\"#000000\" />\n",
       "<rect width=\".81\" height=\".81\" x=\"14\" y=\"4\" fill=\"#000000\" />\n",
       "<rect width=\".81\" height=\".81\" x=\"15\" y=\"4\" fill=\"#000000\" />\n",
       "<rect width=\".81\" height=\".81\" x=\"16\" y=\"4\" fill=\"#000000\" />\n",
       "<rect width=\".81\" height=\".81\" x=\"17\" y=\"4\" fill=\"#000000\" />\n",
       "<rect width=\".81\" height=\".81\" x=\"18\" y=\"4\" fill=\"#000000\" />\n",
       "<rect width=\".81\" height=\".81\" x=\"19\" y=\"4\" fill=\"#000000\" />\n",
       "<rect width=\".81\" height=\".81\" x=\"20\" y=\"4\" fill=\"#000000\" />\n",
       "<rect width=\".81\" height=\".81\" x=\"21\" y=\"4\" fill=\"#000000\" />\n",
       "<rect width=\".81\" height=\".81\" x=\"22\" y=\"4\" fill=\"#000000\" />\n",
       "<rect width=\".81\" height=\".81\" x=\"23\" y=\"4\" fill=\"#000000\" />\n",
       "<rect width=\".81\" height=\".81\" x=\"24\" y=\"4\" fill=\"#000000\" />\n",
       "<rect width=\".81\" height=\".81\" x=\"25\" y=\"4\" fill=\"#000000\" />\n",
       "<rect width=\".81\" height=\".81\" x=\"26\" y=\"4\" fill=\"#000000\" />\n",
       "<rect width=\".81\" height=\".81\" x=\"27\" y=\"4\" fill=\"#000000\" />\n",
       "<rect width=\".81\" height=\".81\" x=\"0\" y=\"5\" fill=\"#000000\" />\n",
       "<rect width=\".81\" height=\".81\" x=\"1\" y=\"5\" fill=\"#000000\" />\n",
       "<rect width=\".81\" height=\".81\" x=\"2\" y=\"5\" fill=\"#000000\" />\n",
       "<rect width=\".81\" height=\".81\" x=\"3\" y=\"5\" fill=\"#000000\" />\n",
       "<rect width=\".81\" height=\".81\" x=\"4\" y=\"5\" fill=\"#000000\" />\n",
       "<rect width=\".81\" height=\".81\" x=\"5\" y=\"5\" fill=\"#000000\" />\n",
       "<rect width=\".81\" height=\".81\" x=\"6\" y=\"5\" fill=\"#000000\" />\n",
       "<rect width=\".81\" height=\".81\" x=\"7\" y=\"5\" fill=\"#000000\" />\n",
       "<rect width=\".81\" height=\".81\" x=\"8\" y=\"5\" fill=\"#000000\" />\n",
       "<rect width=\".81\" height=\".81\" x=\"9\" y=\"5\" fill=\"#000000\" />\n",
       "<rect width=\".81\" height=\".81\" x=\"10\" y=\"5\" fill=\"#000000\" />\n",
       "<rect width=\".81\" height=\".81\" x=\"11\" y=\"5\" fill=\"#7A7A7A\" />\n",
       "<rect width=\".81\" height=\".81\" x=\"12\" y=\"5\" fill=\"#C2C2C2\" />\n",
       "<rect width=\".81\" height=\".81\" x=\"13\" y=\"5\" fill=\"#FFFFFF\" />\n",
       "<rect width=\".81\" height=\".81\" x=\"14\" y=\"5\" fill=\"#FEFEFE\" />\n",
       "<rect width=\".81\" height=\".81\" x=\"15\" y=\"5\" fill=\"#909090\" />\n",
       "<rect width=\".81\" height=\".81\" x=\"16\" y=\"5\" fill=\"#050505\" />\n",
       "<rect width=\".81\" height=\".81\" x=\"17\" y=\"5\" fill=\"#000000\" />\n",
       "<rect width=\".81\" height=\".81\" x=\"18\" y=\"5\" fill=\"#000000\" />\n",
       "<rect width=\".81\" height=\".81\" x=\"19\" y=\"5\" fill=\"#000000\" />\n",
       "<rect width=\".81\" height=\".81\" x=\"20\" y=\"5\" fill=\"#000000\" />\n",
       "<rect width=\".81\" height=\".81\" x=\"21\" y=\"5\" fill=\"#000000\" />\n",
       "<rect width=\".81\" height=\".81\" x=\"22\" y=\"5\" fill=\"#000000\" />\n",
       "<rect width=\".81\" height=\".81\" x=\"23\" y=\"5\" fill=\"#000000\" />\n",
       "<rect width=\".81\" height=\".81\" x=\"24\" y=\"5\" fill=\"#000000\" />\n",
       "<rect width=\".81\" height=\".81\" x=\"25\" y=\"5\" fill=\"#000000\" />\n",
       "<rect width=\".81\" height=\".81\" x=\"26\" y=\"5\" fill=\"#000000\" />\n",
       "<rect width=\".81\" height=\".81\" x=\"27\" y=\"5\" fill=\"#000000\" />\n",
       "<rect width=\".81\" height=\".81\" x=\"0\" y=\"6\" fill=\"#000000\" />\n",
       "<rect width=\".81\" height=\".81\" x=\"1\" y=\"6\" fill=\"#000000\" />\n",
       "<rect width=\".81\" height=\".81\" x=\"2\" y=\"6\" fill=\"#000000\" />\n",
       "<rect width=\".81\" height=\".81\" x=\"3\" y=\"6\" fill=\"#000000\" />\n",
       "<rect width=\".81\" height=\".81\" x=\"4\" y=\"6\" fill=\"#000000\" />\n",
       "<rect width=\".81\" height=\".81\" x=\"5\" y=\"6\" fill=\"#000000\" />\n",
       "<rect width=\".81\" height=\".81\" x=\"6\" y=\"6\" fill=\"#000000\" />\n",
       "<rect width=\".81\" height=\".81\" x=\"7\" y=\"6\" fill=\"#000000\" />\n",
       "<rect width=\".81\" height=\".81\" x=\"8\" y=\"6\" fill=\"#000000\" />\n",
       "<rect width=\".81\" height=\".81\" x=\"9\" y=\"6\" fill=\"#0A0A0A\" />\n",
       "<rect width=\".81\" height=\".81\" x=\"10\" y=\"6\" fill=\"#4E4E4E\" />\n",
       "<rect width=\".81\" height=\".81\" x=\"11\" y=\"6\" fill=\"#F2F2F2\" />\n",
       "<rect width=\".81\" height=\".81\" x=\"12\" y=\"6\" fill=\"#FDFDFD\" />\n",
       "<rect width=\".81\" height=\".81\" x=\"13\" y=\"6\" fill=\"#FDFDFD\" />\n",
       "<rect width=\".81\" height=\".81\" x=\"14\" y=\"6\" fill=\"#FDFDFD\" />\n",
       "<rect width=\".81\" height=\".81\" x=\"15\" y=\"6\" fill=\"#FDFDFD\" />\n",
       "<rect width=\".81\" height=\".81\" x=\"16\" y=\"6\" fill=\"#4B4B4B\" />\n",
       "<rect width=\".81\" height=\".81\" x=\"17\" y=\"6\" fill=\"#000000\" />\n",
       "<rect width=\".81\" height=\".81\" x=\"18\" y=\"6\" fill=\"#000000\" />\n",
       "<rect width=\".81\" height=\".81\" x=\"19\" y=\"6\" fill=\"#000000\" />\n",
       "<rect width=\".81\" height=\".81\" x=\"20\" y=\"6\" fill=\"#000000\" />\n",
       "<rect width=\".81\" height=\".81\" x=\"21\" y=\"6\" fill=\"#000000\" />\n",
       "<rect width=\".81\" height=\".81\" x=\"22\" y=\"6\" fill=\"#000000\" />\n",
       "<rect width=\".81\" height=\".81\" x=\"23\" y=\"6\" fill=\"#000000\" />\n",
       "<rect width=\".81\" height=\".81\" x=\"24\" y=\"6\" fill=\"#000000\" />\n",
       "<rect width=\".81\" height=\".81\" x=\"25\" y=\"6\" fill=\"#000000\" />\n",
       "<rect width=\".81\" height=\".81\" x=\"26\" y=\"6\" fill=\"#000000\" />\n",
       "<rect width=\".81\" height=\".81\" x=\"27\" y=\"6\" fill=\"#000000\" />\n",
       "<rect width=\".81\" height=\".81\" x=\"0\" y=\"7\" fill=\"#000000\" />\n",
       "<rect width=\".81\" height=\".81\" x=\"1\" y=\"7\" fill=\"#000000\" />\n",
       "<rect width=\".81\" height=\".81\" x=\"2\" y=\"7\" fill=\"#000000\" />\n",
       "<rect width=\".81\" height=\".81\" x=\"3\" y=\"7\" fill=\"#000000\" />\n",
       "<rect width=\".81\" height=\".81\" x=\"4\" y=\"7\" fill=\"#000000\" />\n",
       "<rect width=\".81\" height=\".81\" x=\"5\" y=\"7\" fill=\"#000000\" />\n",
       "<rect width=\".81\" height=\".81\" x=\"6\" y=\"7\" fill=\"#000000\" />\n",
       "<rect width=\".81\" height=\".81\" x=\"7\" y=\"7\" fill=\"#000000\" />\n",
       "<rect width=\".81\" height=\".81\" x=\"8\" y=\"7\" fill=\"#0C0C0C\" />\n",
       "<rect width=\".81\" height=\".81\" x=\"9\" y=\"7\" fill=\"#A4A4A4\" />\n",
       "<rect width=\".81\" height=\".81\" x=\"10\" y=\"7\" fill=\"#FDFDFD\" />\n",
       "<rect width=\".81\" height=\".81\" x=\"11\" y=\"7\" fill=\"#CECECE\" />\n",
       "<rect width=\".81\" height=\".81\" x=\"12\" y=\"7\" fill=\"#575757\" />\n",
       "<rect width=\".81\" height=\".81\" x=\"13\" y=\"7\" fill=\"#525252\" />\n",
       "<rect width=\".81\" height=\".81\" x=\"14\" y=\"7\" fill=\"#A5A5A5\" />\n",
       "<rect width=\".81\" height=\".81\" x=\"15\" y=\"7\" fill=\"#FDFDFD\" />\n",
       "<rect width=\".81\" height=\".81\" x=\"16\" y=\"7\" fill=\"#B0B0B0\" />\n",
       "<rect width=\".81\" height=\".81\" x=\"17\" y=\"7\" fill=\"#000000\" />\n",
       "<rect width=\".81\" height=\".81\" x=\"18\" y=\"7\" fill=\"#000000\" />\n",
       "<rect width=\".81\" height=\".81\" x=\"19\" y=\"7\" fill=\"#000000\" />\n",
       "<rect width=\".81\" height=\".81\" x=\"20\" y=\"7\" fill=\"#000000\" />\n",
       "<rect width=\".81\" height=\".81\" x=\"21\" y=\"7\" fill=\"#000000\" />\n",
       "<rect width=\".81\" height=\".81\" x=\"22\" y=\"7\" fill=\"#000000\" />\n",
       "<rect width=\".81\" height=\".81\" x=\"23\" y=\"7\" fill=\"#000000\" />\n",
       "<rect width=\".81\" height=\".81\" x=\"24\" y=\"7\" fill=\"#000000\" />\n",
       "<rect width=\".81\" height=\".81\" x=\"25\" y=\"7\" fill=\"#000000\" />\n",
       "<rect width=\".81\" height=\".81\" x=\"26\" y=\"7\" fill=\"#000000\" />\n",
       "<rect width=\".81\" height=\".81\" x=\"27\" y=\"7\" fill=\"#000000\" />\n",
       "<rect width=\".81\" height=\".81\" x=\"0\" y=\"8\" fill=\"#000000\" />\n",
       "<rect width=\".81\" height=\".81\" x=\"1\" y=\"8\" fill=\"#000000\" />\n",
       "<rect width=\".81\" height=\".81\" x=\"2\" y=\"8\" fill=\"#000000\" />\n",
       "<rect width=\".81\" height=\".81\" x=\"3\" y=\"8\" fill=\"#000000\" />\n",
       "<rect width=\".81\" height=\".81\" x=\"4\" y=\"8\" fill=\"#000000\" />\n",
       "<rect width=\".81\" height=\".81\" x=\"5\" y=\"8\" fill=\"#000000\" />\n",
       "<rect width=\".81\" height=\".81\" x=\"6\" y=\"8\" fill=\"#000000\" />\n",
       "<rect width=\".81\" height=\".81\" x=\"7\" y=\"8\" fill=\"#000000\" />\n",
       "<rect width=\".81\" height=\".81\" x=\"8\" y=\"8\" fill=\"#8E8E8E\" />\n",
       "<rect width=\".81\" height=\".81\" x=\"9\" y=\"8\" fill=\"#FDFDFD\" />\n",
       "<rect width=\".81\" height=\".81\" x=\"10\" y=\"8\" fill=\"#E4E4E4\" />\n",
       "<rect width=\".81\" height=\".81\" x=\"11\" y=\"8\" fill=\"#151515\" />\n",
       "<rect width=\".81\" height=\".81\" x=\"12\" y=\"8\" fill=\"#000000\" />\n",
       "<rect width=\".81\" height=\".81\" x=\"13\" y=\"8\" fill=\"#000000\" />\n",
       "<rect width=\".81\" height=\".81\" x=\"14\" y=\"8\" fill=\"#0B0B0B\" />\n",
       "<rect width=\".81\" height=\".81\" x=\"15\" y=\"8\" fill=\"#939393\" />\n",
       "<rect width=\".81\" height=\".81\" x=\"16\" y=\"8\" fill=\"#484848\" />\n",
       "<rect width=\".81\" height=\".81\" x=\"17\" y=\"8\" fill=\"#000000\" />\n",
       "<rect width=\".81\" height=\".81\" x=\"18\" y=\"8\" fill=\"#000000\" />\n",
       "<rect width=\".81\" height=\".81\" x=\"19\" y=\"8\" fill=\"#000000\" />\n",
       "<rect width=\".81\" height=\".81\" x=\"20\" y=\"8\" fill=\"#2A2A2A\" />\n",
       "<rect width=\".81\" height=\".81\" x=\"21\" y=\"8\" fill=\"#949494\" />\n",
       "<rect width=\".81\" height=\".81\" x=\"22\" y=\"8\" fill=\"#686868\" />\n",
       "<rect width=\".81\" height=\".81\" x=\"23\" y=\"8\" fill=\"#303030\" />\n",
       "<rect width=\".81\" height=\".81\" x=\"24\" y=\"8\" fill=\"#000000\" />\n",
       "<rect width=\".81\" height=\".81\" x=\"25\" y=\"8\" fill=\"#000000\" />\n",
       "<rect width=\".81\" height=\".81\" x=\"26\" y=\"8\" fill=\"#000000\" />\n",
       "<rect width=\".81\" height=\".81\" x=\"27\" y=\"8\" fill=\"#000000\" />\n",
       "<rect width=\".81\" height=\".81\" x=\"0\" y=\"9\" fill=\"#000000\" />\n",
       "<rect width=\".81\" height=\".81\" x=\"1\" y=\"9\" fill=\"#000000\" />\n",
       "<rect width=\".81\" height=\".81\" x=\"2\" y=\"9\" fill=\"#000000\" />\n",
       "<rect width=\".81\" height=\".81\" x=\"3\" y=\"9\" fill=\"#000000\" />\n",
       "<rect width=\".81\" height=\".81\" x=\"4\" y=\"9\" fill=\"#000000\" />\n",
       "<rect width=\".81\" height=\".81\" x=\"5\" y=\"9\" fill=\"#000000\" />\n",
       "<rect width=\".81\" height=\".81\" x=\"6\" y=\"9\" fill=\"#000000\" />\n",
       "<rect width=\".81\" height=\".81\" x=\"7\" y=\"9\" fill=\"#000000\" />\n",
       "<rect width=\".81\" height=\".81\" x=\"8\" y=\"9\" fill=\"#ABABAB\" />\n",
       "<rect width=\".81\" height=\".81\" x=\"9\" y=\"9\" fill=\"#FDFDFD\" />\n",
       "<rect width=\".81\" height=\".81\" x=\"10\" y=\"9\" fill=\"#7C7C7C\" />\n",
       "<rect width=\".81\" height=\".81\" x=\"11\" y=\"9\" fill=\"#000000\" />\n",
       "<rect width=\".81\" height=\".81\" x=\"12\" y=\"9\" fill=\"#000000\" />\n",
       "<rect width=\".81\" height=\".81\" x=\"13\" y=\"9\" fill=\"#000000\" />\n",
       "<rect width=\".81\" height=\".81\" x=\"14\" y=\"9\" fill=\"#000000\" />\n",
       "<rect width=\".81\" height=\".81\" x=\"15\" y=\"9\" fill=\"#000000\" />\n",
       "<rect width=\".81\" height=\".81\" x=\"16\" y=\"9\" fill=\"#000000\" />\n",
       "<rect width=\".81\" height=\".81\" x=\"17\" y=\"9\" fill=\"#000000\" />\n",
       "<rect width=\".81\" height=\".81\" x=\"18\" y=\"9\" fill=\"#282828\" />\n",
       "<rect width=\".81\" height=\".81\" x=\"19\" y=\"9\" fill=\"#959595\" />\n",
       "<rect width=\".81\" height=\".81\" x=\"20\" y=\"9\" fill=\"#EAEAEA\" />\n",
       "<rect width=\".81\" height=\".81\" x=\"21\" y=\"9\" fill=\"#FDFDFD\" />\n",
       "<rect width=\".81\" height=\".81\" x=\"22\" y=\"9\" fill=\"#FDFDFD\" />\n",
       "<rect width=\".81\" height=\".81\" x=\"23\" y=\"9\" fill=\"#818181\" />\n",
       "<rect width=\".81\" height=\".81\" x=\"24\" y=\"9\" fill=\"#000000\" />\n",
       "<rect width=\".81\" height=\".81\" x=\"25\" y=\"9\" fill=\"#000000\" />\n",
       "<rect width=\".81\" height=\".81\" x=\"26\" y=\"9\" fill=\"#000000\" />\n",
       "<rect width=\".81\" height=\".81\" x=\"27\" y=\"9\" fill=\"#000000\" />\n",
       "<rect width=\".81\" height=\".81\" x=\"0\" y=\"10\" fill=\"#000000\" />\n",
       "<rect width=\".81\" height=\".81\" x=\"1\" y=\"10\" fill=\"#000000\" />\n",
       "<rect width=\".81\" height=\".81\" x=\"2\" y=\"10\" fill=\"#000000\" />\n",
       "<rect width=\".81\" height=\".81\" x=\"3\" y=\"10\" fill=\"#000000\" />\n",
       "<rect width=\".81\" height=\".81\" x=\"4\" y=\"10\" fill=\"#000000\" />\n",
       "<rect width=\".81\" height=\".81\" x=\"5\" y=\"10\" fill=\"#000000\" />\n",
       "<rect width=\".81\" height=\".81\" x=\"6\" y=\"10\" fill=\"#000000\" />\n",
       "<rect width=\".81\" height=\".81\" x=\"7\" y=\"10\" fill=\"#000000\" />\n",
       "<rect width=\".81\" height=\".81\" x=\"8\" y=\"10\" fill=\"#7B7B7B\" />\n",
       "<rect width=\".81\" height=\".81\" x=\"9\" y=\"10\" fill=\"#FDFDFD\" />\n",
       "<rect width=\".81\" height=\".81\" x=\"10\" y=\"10\" fill=\"#858585\" />\n",
       "<rect width=\".81\" height=\".81\" x=\"11\" y=\"10\" fill=\"#0C0C0C\" />\n",
       "<rect width=\".81\" height=\".81\" x=\"12\" y=\"10\" fill=\"#000000\" />\n",
       "<rect width=\".81\" height=\".81\" x=\"13\" y=\"10\" fill=\"#000000\" />\n",
       "<rect width=\".81\" height=\".81\" x=\"14\" y=\"10\" fill=\"#000000\" />\n",
       "<rect width=\".81\" height=\".81\" x=\"15\" y=\"10\" fill=\"#000000\" />\n",
       "<rect width=\".81\" height=\".81\" x=\"16\" y=\"10\" fill=\"#454545\" />\n",
       "<rect width=\".81\" height=\".81\" x=\"17\" y=\"10\" fill=\"#E1E1E1\" />\n",
       "<rect width=\".81\" height=\".81\" x=\"18\" y=\"10\" fill=\"#EDEDED\" />\n",
       "<rect width=\".81\" height=\".81\" x=\"19\" y=\"10\" fill=\"#FDFDFD\" />\n",
       "<rect width=\".81\" height=\".81\" x=\"20\" y=\"10\" fill=\"#FDFDFD\" />\n",
       "<rect width=\".81\" height=\".81\" x=\"21\" y=\"10\" fill=\"#FDFDFD\" />\n",
       "<rect width=\".81\" height=\".81\" x=\"22\" y=\"10\" fill=\"#C3C3C3\" />\n",
       "<rect width=\".81\" height=\".81\" x=\"23\" y=\"10\" fill=\"#060606\" />\n",
       "<rect width=\".81\" height=\".81\" x=\"24\" y=\"10\" fill=\"#000000\" />\n",
       "<rect width=\".81\" height=\".81\" x=\"25\" y=\"10\" fill=\"#000000\" />\n",
       "<rect width=\".81\" height=\".81\" x=\"26\" y=\"10\" fill=\"#000000\" />\n",
       "<rect width=\".81\" height=\".81\" x=\"27\" y=\"10\" fill=\"#000000\" />\n",
       "<rect width=\".81\" height=\".81\" x=\"0\" y=\"11\" fill=\"#000000\" />\n",
       "<rect width=\".81\" height=\".81\" x=\"1\" y=\"11\" fill=\"#000000\" />\n",
       "<rect width=\".81\" height=\".81\" x=\"2\" y=\"11\" fill=\"#000000\" />\n",
       "<rect width=\".81\" height=\".81\" x=\"3\" y=\"11\" fill=\"#000000\" />\n",
       "<rect width=\".81\" height=\".81\" x=\"4\" y=\"11\" fill=\"#000000\" />\n",
       "<rect width=\".81\" height=\".81\" x=\"5\" y=\"11\" fill=\"#000000\" />\n",
       "<rect width=\".81\" height=\".81\" x=\"6\" y=\"11\" fill=\"#000000\" />\n",
       "<rect width=\".81\" height=\".81\" x=\"7\" y=\"11\" fill=\"#000000\" />\n",
       "<rect width=\".81\" height=\".81\" x=\"8\" y=\"11\" fill=\"#353535\" />\n",
       "<rect width=\".81\" height=\".81\" x=\"9\" y=\"11\" fill=\"#FCFCFC\" />\n",
       "<rect width=\".81\" height=\".81\" x=\"10\" y=\"11\" fill=\"#FDFDFD\" />\n",
       "<rect width=\".81\" height=\".81\" x=\"11\" y=\"11\" fill=\"#575757\" />\n",
       "<rect width=\".81\" height=\".81\" x=\"12\" y=\"11\" fill=\"#000000\" />\n",
       "<rect width=\".81\" height=\".81\" x=\"13\" y=\"11\" fill=\"#010101\" />\n",
       "<rect width=\".81\" height=\".81\" x=\"14\" y=\"11\" fill=\"#515151\" />\n",
       "<rect width=\".81\" height=\".81\" x=\"15\" y=\"11\" fill=\"#CFCFCF\" />\n",
       "<rect width=\".81\" height=\".81\" x=\"16\" y=\"11\" fill=\"#F6F6F6\" />\n",
       "<rect width=\".81\" height=\".81\" x=\"17\" y=\"11\" fill=\"#FDFDFD\" />\n",
       "<rect width=\".81\" height=\".81\" x=\"18\" y=\"11\" fill=\"#FBFBFB\" />\n",
       "<rect width=\".81\" height=\".81\" x=\"19\" y=\"11\" fill=\"#F7F7F7\" />\n",
       "<rect width=\".81\" height=\".81\" x=\"20\" y=\"11\" fill=\"#B2B2B2\" />\n",
       "<rect width=\".81\" height=\".81\" x=\"21\" y=\"11\" fill=\"#343434\" />\n",
       "<rect width=\".81\" height=\".81\" x=\"22\" y=\"11\" fill=\"#080808\" />\n",
       "<rect width=\".81\" height=\".81\" x=\"23\" y=\"11\" fill=\"#000000\" />\n",
       "<rect width=\".81\" height=\".81\" x=\"24\" y=\"11\" fill=\"#000000\" />\n",
       "<rect width=\".81\" height=\".81\" x=\"25\" y=\"11\" fill=\"#000000\" />\n",
       "<rect width=\".81\" height=\".81\" x=\"26\" y=\"11\" fill=\"#000000\" />\n",
       "<rect width=\".81\" height=\".81\" x=\"27\" y=\"11\" fill=\"#000000\" />\n",
       "<rect width=\".81\" height=\".81\" x=\"0\" y=\"12\" fill=\"#000000\" />\n",
       "<rect width=\".81\" height=\".81\" x=\"1\" y=\"12\" fill=\"#000000\" />\n",
       "<rect width=\".81\" height=\".81\" x=\"2\" y=\"12\" fill=\"#000000\" />\n",
       "<rect width=\".81\" height=\".81\" x=\"3\" y=\"12\" fill=\"#000000\" />\n",
       "<rect width=\".81\" height=\".81\" x=\"4\" y=\"12\" fill=\"#000000\" />\n",
       "<rect width=\".81\" height=\".81\" x=\"5\" y=\"12\" fill=\"#000000\" />\n",
       "<rect width=\".81\" height=\".81\" x=\"6\" y=\"12\" fill=\"#000000\" />\n",
       "<rect width=\".81\" height=\".81\" x=\"7\" y=\"12\" fill=\"#000000\" />\n",
       "<rect width=\".81\" height=\".81\" x=\"8\" y=\"12\" fill=\"#000000\" />\n",
       "<rect width=\".81\" height=\".81\" x=\"9\" y=\"12\" fill=\"#B2B2B2\" />\n",
       "<rect width=\".81\" height=\".81\" x=\"10\" y=\"12\" fill=\"#FDFDFD\" />\n",
       "<rect width=\".81\" height=\".81\" x=\"11\" y=\"12\" fill=\"#CECECE\" />\n",
       "<rect width=\".81\" height=\".81\" x=\"12\" y=\"12\" fill=\"#151515\" />\n",
       "<rect width=\".81\" height=\".81\" x=\"13\" y=\"12\" fill=\"#989898\" />\n",
       "<rect width=\".81\" height=\".81\" x=\"14\" y=\"12\" fill=\"#FDFDFD\" />\n",
       "<rect width=\".81\" height=\".81\" x=\"15\" y=\"12\" fill=\"#FDFDFD\" />\n",
       "<rect width=\".81\" height=\".81\" x=\"16\" y=\"12\" fill=\"#FDFDFD\" />\n",
       "<rect width=\".81\" height=\".81\" x=\"17\" y=\"12\" fill=\"#E9E9E9\" />\n",
       "<rect width=\".81\" height=\".81\" x=\"18\" y=\"12\" fill=\"#494949\" />\n",
       "<rect width=\".81\" height=\".81\" x=\"19\" y=\"12\" fill=\"#000000\" />\n",
       "<rect width=\".81\" height=\".81\" x=\"20\" y=\"12\" fill=\"#000000\" />\n",
       "<rect width=\".81\" height=\".81\" x=\"21\" y=\"12\" fill=\"#000000\" />\n",
       "<rect width=\".81\" height=\".81\" x=\"22\" y=\"12\" fill=\"#000000\" />\n",
       "<rect width=\".81\" height=\".81\" x=\"23\" y=\"12\" fill=\"#000000\" />\n",
       "<rect width=\".81\" height=\".81\" x=\"24\" y=\"12\" fill=\"#000000\" />\n",
       "<rect width=\".81\" height=\".81\" x=\"25\" y=\"12\" fill=\"#000000\" />\n",
       "<rect width=\".81\" height=\".81\" x=\"26\" y=\"12\" fill=\"#000000\" />\n",
       "<rect width=\".81\" height=\".81\" x=\"27\" y=\"12\" fill=\"#000000\" />\n",
       "<rect width=\".81\" height=\".81\" x=\"0\" y=\"13\" fill=\"#000000\" />\n",
       "<rect width=\".81\" height=\".81\" x=\"1\" y=\"13\" fill=\"#000000\" />\n",
       "<rect width=\".81\" height=\".81\" x=\"2\" y=\"13\" fill=\"#000000\" />\n",
       "<rect width=\".81\" height=\".81\" x=\"3\" y=\"13\" fill=\"#000000\" />\n",
       "<rect width=\".81\" height=\".81\" x=\"4\" y=\"13\" fill=\"#000000\" />\n",
       "<rect width=\".81\" height=\".81\" x=\"5\" y=\"13\" fill=\"#000000\" />\n",
       "<rect width=\".81\" height=\".81\" x=\"6\" y=\"13\" fill=\"#000000\" />\n",
       "<rect width=\".81\" height=\".81\" x=\"7\" y=\"13\" fill=\"#000000\" />\n",
       "<rect width=\".81\" height=\".81\" x=\"8\" y=\"13\" fill=\"#000000\" />\n",
       "<rect width=\".81\" height=\".81\" x=\"9\" y=\"13\" fill=\"#1B1B1B\" />\n",
       "<rect width=\".81\" height=\".81\" x=\"10\" y=\"13\" fill=\"#E0E0E0\" />\n",
       "<rect width=\".81\" height=\".81\" x=\"11\" y=\"13\" fill=\"#FDFDFD\" />\n",
       "<rect width=\".81\" height=\".81\" x=\"12\" y=\"13\" fill=\"#D2D2D2\" />\n",
       "<rect width=\".81\" height=\".81\" x=\"13\" y=\"13\" fill=\"#FDFDFD\" />\n",
       "<rect width=\".81\" height=\".81\" x=\"14\" y=\"13\" fill=\"#FDFDFD\" />\n",
       "<rect width=\".81\" height=\".81\" x=\"15\" y=\"13\" fill=\"#C5C5C5\" />\n",
       "<rect width=\".81\" height=\".81\" x=\"16\" y=\"13\" fill=\"#5E5E5E\" />\n",
       "<rect width=\".81\" height=\".81\" x=\"17\" y=\"13\" fill=\"#0F0F0F\" />\n",
       "<rect width=\".81\" height=\".81\" x=\"18\" y=\"13\" fill=\"#000000\" />\n",
       "<rect width=\".81\" height=\".81\" x=\"19\" y=\"13\" fill=\"#000000\" />\n",
       "<rect width=\".81\" height=\".81\" x=\"20\" y=\"13\" fill=\"#000000\" />\n",
       "<rect width=\".81\" height=\".81\" x=\"21\" y=\"13\" fill=\"#000000\" />\n",
       "<rect width=\".81\" height=\".81\" x=\"22\" y=\"13\" fill=\"#000000\" />\n",
       "<rect width=\".81\" height=\".81\" x=\"23\" y=\"13\" fill=\"#000000\" />\n",
       "<rect width=\".81\" height=\".81\" x=\"24\" y=\"13\" fill=\"#000000\" />\n",
       "<rect width=\".81\" height=\".81\" x=\"25\" y=\"13\" fill=\"#000000\" />\n",
       "<rect width=\".81\" height=\".81\" x=\"26\" y=\"13\" fill=\"#000000\" />\n",
       "<rect width=\".81\" height=\".81\" x=\"27\" y=\"13\" fill=\"#000000\" />\n",
       "<rect width=\".81\" height=\".81\" x=\"0\" y=\"14\" fill=\"#000000\" />\n",
       "<rect width=\".81\" height=\".81\" x=\"1\" y=\"14\" fill=\"#000000\" />\n",
       "<rect width=\".81\" height=\".81\" x=\"2\" y=\"14\" fill=\"#000000\" />\n",
       "<rect width=\".81\" height=\".81\" x=\"3\" y=\"14\" fill=\"#000000\" />\n",
       "<rect width=\".81\" height=\".81\" x=\"4\" y=\"14\" fill=\"#000000\" />\n",
       "<rect width=\".81\" height=\".81\" x=\"5\" y=\"14\" fill=\"#000000\" />\n",
       "<rect width=\".81\" height=\".81\" x=\"6\" y=\"14\" fill=\"#000000\" />\n",
       "<rect width=\".81\" height=\".81\" x=\"7\" y=\"14\" fill=\"#000000\" />\n",
       "<rect width=\".81\" height=\".81\" x=\"8\" y=\"14\" fill=\"#000000\" />\n",
       "<rect width=\".81\" height=\".81\" x=\"9\" y=\"14\" fill=\"#000000\" />\n",
       "<rect width=\".81\" height=\".81\" x=\"10\" y=\"14\" fill=\"#7D7D7D\" />\n",
       "<rect width=\".81\" height=\".81\" x=\"11\" y=\"14\" fill=\"#FDFDFD\" />\n",
       "<rect width=\".81\" height=\".81\" x=\"12\" y=\"14\" fill=\"#FDFDFD\" />\n",
       "<rect width=\".81\" height=\".81\" x=\"13\" y=\"14\" fill=\"#FDFDFD\" />\n",
       "<rect width=\".81\" height=\".81\" x=\"14\" y=\"14\" fill=\"#8D8D8D\" />\n",
       "<rect width=\".81\" height=\".81\" x=\"15\" y=\"14\" fill=\"#171717\" />\n",
       "<rect width=\".81\" height=\".81\" x=\"16\" y=\"14\" fill=\"#000000\" />\n",
       "<rect width=\".81\" height=\".81\" x=\"17\" y=\"14\" fill=\"#000000\" />\n",
       "<rect width=\".81\" height=\".81\" x=\"18\" y=\"14\" fill=\"#000000\" />\n",
       "<rect width=\".81\" height=\".81\" x=\"19\" y=\"14\" fill=\"#000000\" />\n",
       "<rect width=\".81\" height=\".81\" x=\"20\" y=\"14\" fill=\"#000000\" />\n",
       "<rect width=\".81\" height=\".81\" x=\"21\" y=\"14\" fill=\"#000000\" />\n",
       "<rect width=\".81\" height=\".81\" x=\"22\" y=\"14\" fill=\"#000000\" />\n",
       "<rect width=\".81\" height=\".81\" x=\"23\" y=\"14\" fill=\"#000000\" />\n",
       "<rect width=\".81\" height=\".81\" x=\"24\" y=\"14\" fill=\"#000000\" />\n",
       "<rect width=\".81\" height=\".81\" x=\"25\" y=\"14\" fill=\"#000000\" />\n",
       "<rect width=\".81\" height=\".81\" x=\"26\" y=\"14\" fill=\"#000000\" />\n",
       "<rect width=\".81\" height=\".81\" x=\"27\" y=\"14\" fill=\"#000000\" />\n",
       "<rect width=\".81\" height=\".81\" x=\"0\" y=\"15\" fill=\"#000000\" />\n",
       "<rect width=\".81\" height=\".81\" x=\"1\" y=\"15\" fill=\"#000000\" />\n",
       "<rect width=\".81\" height=\".81\" x=\"2\" y=\"15\" fill=\"#000000\" />\n",
       "<rect width=\".81\" height=\".81\" x=\"3\" y=\"15\" fill=\"#000000\" />\n",
       "<rect width=\".81\" height=\".81\" x=\"4\" y=\"15\" fill=\"#000000\" />\n",
       "<rect width=\".81\" height=\".81\" x=\"5\" y=\"15\" fill=\"#000000\" />\n",
       "<rect width=\".81\" height=\".81\" x=\"6\" y=\"15\" fill=\"#000000\" />\n",
       "<rect width=\".81\" height=\".81\" x=\"7\" y=\"15\" fill=\"#000000\" />\n",
       "<rect width=\".81\" height=\".81\" x=\"8\" y=\"15\" fill=\"#000000\" />\n",
       "<rect width=\".81\" height=\".81\" x=\"9\" y=\"15\" fill=\"#000000\" />\n",
       "<rect width=\".81\" height=\".81\" x=\"10\" y=\"15\" fill=\"#7D7D7D\" />\n",
       "<rect width=\".81\" height=\".81\" x=\"11\" y=\"15\" fill=\"#FDFDFD\" />\n",
       "<rect width=\".81\" height=\".81\" x=\"12\" y=\"15\" fill=\"#FDFDFD\" />\n",
       "<rect width=\".81\" height=\".81\" x=\"13\" y=\"15\" fill=\"#FDFDFD\" />\n",
       "<rect width=\".81\" height=\".81\" x=\"14\" y=\"15\" fill=\"#818181\" />\n",
       "<rect width=\".81\" height=\".81\" x=\"15\" y=\"15\" fill=\"#000000\" />\n",
       "<rect width=\".81\" height=\".81\" x=\"16\" y=\"15\" fill=\"#000000\" />\n",
       "<rect width=\".81\" height=\".81\" x=\"17\" y=\"15\" fill=\"#000000\" />\n",
       "<rect width=\".81\" height=\".81\" x=\"18\" y=\"15\" fill=\"#000000\" />\n",
       "<rect width=\".81\" height=\".81\" x=\"19\" y=\"15\" fill=\"#000000\" />\n",
       "<rect width=\".81\" height=\".81\" x=\"20\" y=\"15\" fill=\"#000000\" />\n",
       "<rect width=\".81\" height=\".81\" x=\"21\" y=\"15\" fill=\"#000000\" />\n",
       "<rect width=\".81\" height=\".81\" x=\"22\" y=\"15\" fill=\"#000000\" />\n",
       "<rect width=\".81\" height=\".81\" x=\"23\" y=\"15\" fill=\"#000000\" />\n",
       "<rect width=\".81\" height=\".81\" x=\"24\" y=\"15\" fill=\"#000000\" />\n",
       "<rect width=\".81\" height=\".81\" x=\"25\" y=\"15\" fill=\"#000000\" />\n",
       "<rect width=\".81\" height=\".81\" x=\"26\" y=\"15\" fill=\"#000000\" />\n",
       "<rect width=\".81\" height=\".81\" x=\"27\" y=\"15\" fill=\"#000000\" />\n",
       "<rect width=\".81\" height=\".81\" x=\"0\" y=\"16\" fill=\"#000000\" />\n",
       "<rect width=\".81\" height=\".81\" x=\"1\" y=\"16\" fill=\"#000000\" />\n",
       "<rect width=\".81\" height=\".81\" x=\"2\" y=\"16\" fill=\"#000000\" />\n",
       "<rect width=\".81\" height=\".81\" x=\"3\" y=\"16\" fill=\"#000000\" />\n",
       "<rect width=\".81\" height=\".81\" x=\"4\" y=\"16\" fill=\"#000000\" />\n",
       "<rect width=\".81\" height=\".81\" x=\"5\" y=\"16\" fill=\"#000000\" />\n",
       "<rect width=\".81\" height=\".81\" x=\"6\" y=\"16\" fill=\"#000000\" />\n",
       "<rect width=\".81\" height=\".81\" x=\"7\" y=\"16\" fill=\"#000000\" />\n",
       "<rect width=\".81\" height=\".81\" x=\"8\" y=\"16\" fill=\"#000000\" />\n",
       "<rect width=\".81\" height=\".81\" x=\"9\" y=\"16\" fill=\"#000000\" />\n",
       "<rect width=\".81\" height=\".81\" x=\"10\" y=\"16\" fill=\"#CFCFCF\" />\n",
       "<rect width=\".81\" height=\".81\" x=\"11\" y=\"16\" fill=\"#FDFDFD\" />\n",
       "<rect width=\".81\" height=\".81\" x=\"12\" y=\"16\" fill=\"#FDFDFD\" />\n",
       "<rect width=\".81\" height=\".81\" x=\"13\" y=\"16\" fill=\"#FDFDFD\" />\n",
       "<rect width=\".81\" height=\".81\" x=\"14\" y=\"16\" fill=\"#F7F7F7\" />\n",
       "<rect width=\".81\" height=\".81\" x=\"15\" y=\"16\" fill=\"#A3A3A3\" />\n",
       "<rect width=\".81\" height=\".81\" x=\"16\" y=\"16\" fill=\"#000000\" />\n",
       "<rect width=\".81\" height=\".81\" x=\"17\" y=\"16\" fill=\"#000000\" />\n",
       "<rect width=\".81\" height=\".81\" x=\"18\" y=\"16\" fill=\"#000000\" />\n",
       "<rect width=\".81\" height=\".81\" x=\"19\" y=\"16\" fill=\"#000000\" />\n",
       "<rect width=\".81\" height=\".81\" x=\"20\" y=\"16\" fill=\"#000000\" />\n",
       "<rect width=\".81\" height=\".81\" x=\"21\" y=\"16\" fill=\"#000000\" />\n",
       "<rect width=\".81\" height=\".81\" x=\"22\" y=\"16\" fill=\"#000000\" />\n",
       "<rect width=\".81\" height=\".81\" x=\"23\" y=\"16\" fill=\"#000000\" />\n",
       "<rect width=\".81\" height=\".81\" x=\"24\" y=\"16\" fill=\"#000000\" />\n",
       "<rect width=\".81\" height=\".81\" x=\"25\" y=\"16\" fill=\"#000000\" />\n",
       "<rect width=\".81\" height=\".81\" x=\"26\" y=\"16\" fill=\"#000000\" />\n",
       "<rect width=\".81\" height=\".81\" x=\"27\" y=\"16\" fill=\"#000000\" />\n",
       "<rect width=\".81\" height=\".81\" x=\"0\" y=\"17\" fill=\"#000000\" />\n",
       "<rect width=\".81\" height=\".81\" x=\"1\" y=\"17\" fill=\"#000000\" />\n",
       "<rect width=\".81\" height=\".81\" x=\"2\" y=\"17\" fill=\"#000000\" />\n",
       "<rect width=\".81\" height=\".81\" x=\"3\" y=\"17\" fill=\"#000000\" />\n",
       "<rect width=\".81\" height=\".81\" x=\"4\" y=\"17\" fill=\"#000000\" />\n",
       "<rect width=\".81\" height=\".81\" x=\"5\" y=\"17\" fill=\"#000000\" />\n",
       "<rect width=\".81\" height=\".81\" x=\"6\" y=\"17\" fill=\"#000000\" />\n",
       "<rect width=\".81\" height=\".81\" x=\"7\" y=\"17\" fill=\"#000000\" />\n",
       "<rect width=\".81\" height=\".81\" x=\"8\" y=\"17\" fill=\"#000000\" />\n",
       "<rect width=\".81\" height=\".81\" x=\"9\" y=\"17\" fill=\"#000000\" />\n",
       "<rect width=\".81\" height=\".81\" x=\"10\" y=\"17\" fill=\"#CFCFCF\" />\n",
       "<rect width=\".81\" height=\".81\" x=\"11\" y=\"17\" fill=\"#FDFDFD\" />\n",
       "<rect width=\".81\" height=\".81\" x=\"12\" y=\"17\" fill=\"#8F8F8F\" />\n",
       "<rect width=\".81\" height=\".81\" x=\"13\" y=\"17\" fill=\"#979797\" />\n",
       "<rect width=\".81\" height=\".81\" x=\"14\" y=\"17\" fill=\"#FDFDFD\" />\n",
       "<rect width=\".81\" height=\".81\" x=\"15\" y=\"17\" fill=\"#F8F8F8\" />\n",
       "<rect width=\".81\" height=\".81\" x=\"16\" y=\"17\" fill=\"#353535\" />\n",
       "<rect width=\".81\" height=\".81\" x=\"17\" y=\"17\" fill=\"#000000\" />\n",
       "<rect width=\".81\" height=\".81\" x=\"18\" y=\"17\" fill=\"#000000\" />\n",
       "<rect width=\".81\" height=\".81\" x=\"19\" y=\"17\" fill=\"#000000\" />\n",
       "<rect width=\".81\" height=\".81\" x=\"20\" y=\"17\" fill=\"#000000\" />\n",
       "<rect width=\".81\" height=\".81\" x=\"21\" y=\"17\" fill=\"#000000\" />\n",
       "<rect width=\".81\" height=\".81\" x=\"22\" y=\"17\" fill=\"#000000\" />\n",
       "<rect width=\".81\" height=\".81\" x=\"23\" y=\"17\" fill=\"#000000\" />\n",
       "<rect width=\".81\" height=\".81\" x=\"24\" y=\"17\" fill=\"#000000\" />\n",
       "<rect width=\".81\" height=\".81\" x=\"25\" y=\"17\" fill=\"#000000\" />\n",
       "<rect width=\".81\" height=\".81\" x=\"26\" y=\"17\" fill=\"#000000\" />\n",
       "<rect width=\".81\" height=\".81\" x=\"27\" y=\"17\" fill=\"#000000\" />\n",
       "<rect width=\".81\" height=\".81\" x=\"0\" y=\"18\" fill=\"#000000\" />\n",
       "<rect width=\".81\" height=\".81\" x=\"1\" y=\"18\" fill=\"#000000\" />\n",
       "<rect width=\".81\" height=\".81\" x=\"2\" y=\"18\" fill=\"#000000\" />\n",
       "<rect width=\".81\" height=\".81\" x=\"3\" y=\"18\" fill=\"#000000\" />\n",
       "<rect width=\".81\" height=\".81\" x=\"4\" y=\"18\" fill=\"#000000\" />\n",
       "<rect width=\".81\" height=\".81\" x=\"5\" y=\"18\" fill=\"#000000\" />\n",
       "<rect width=\".81\" height=\".81\" x=\"6\" y=\"18\" fill=\"#000000\" />\n",
       "<rect width=\".81\" height=\".81\" x=\"7\" y=\"18\" fill=\"#000000\" />\n",
       "<rect width=\".81\" height=\".81\" x=\"8\" y=\"18\" fill=\"#000000\" />\n",
       "<rect width=\".81\" height=\".81\" x=\"9\" y=\"18\" fill=\"#434343\" />\n",
       "<rect width=\".81\" height=\".81\" x=\"10\" y=\"18\" fill=\"#FAFAFA\" />\n",
       "<rect width=\".81\" height=\".81\" x=\"11\" y=\"18\" fill=\"#FDFDFD\" />\n",
       "<rect width=\".81\" height=\".81\" x=\"12\" y=\"18\" fill=\"#0D0D0D\" />\n",
       "<rect width=\".81\" height=\".81\" x=\"13\" y=\"18\" fill=\"#0C0C0C\" />\n",
       "<rect width=\".81\" height=\".81\" x=\"14\" y=\"18\" fill=\"#C8C8C8\" />\n",
       "<rect width=\".81\" height=\".81\" x=\"15\" y=\"18\" fill=\"#FDFDFD\" />\n",
       "<rect width=\".81\" height=\".81\" x=\"16\" y=\"18\" fill=\"#D6D6D6\" />\n",
       "<rect width=\".81\" height=\".81\" x=\"17\" y=\"18\" fill=\"#151515\" />\n",
       "<rect width=\".81\" height=\".81\" x=\"18\" y=\"18\" fill=\"#000000\" />\n",
       "<rect width=\".81\" height=\".81\" x=\"19\" y=\"18\" fill=\"#000000\" />\n",
       "<rect width=\".81\" height=\".81\" x=\"20\" y=\"18\" fill=\"#000000\" />\n",
       "<rect width=\".81\" height=\".81\" x=\"21\" y=\"18\" fill=\"#000000\" />\n",
       "<rect width=\".81\" height=\".81\" x=\"22\" y=\"18\" fill=\"#000000\" />\n",
       "<rect width=\".81\" height=\".81\" x=\"23\" y=\"18\" fill=\"#000000\" />\n",
       "<rect width=\".81\" height=\".81\" x=\"24\" y=\"18\" fill=\"#000000\" />\n",
       "<rect width=\".81\" height=\".81\" x=\"25\" y=\"18\" fill=\"#000000\" />\n",
       "<rect width=\".81\" height=\".81\" x=\"26\" y=\"18\" fill=\"#000000\" />\n",
       "<rect width=\".81\" height=\".81\" x=\"27\" y=\"18\" fill=\"#000000\" />\n",
       "<rect width=\".81\" height=\".81\" x=\"0\" y=\"19\" fill=\"#000000\" />\n",
       "<rect width=\".81\" height=\".81\" x=\"1\" y=\"19\" fill=\"#000000\" />\n",
       "<rect width=\".81\" height=\".81\" x=\"2\" y=\"19\" fill=\"#000000\" />\n",
       "<rect width=\".81\" height=\".81\" x=\"3\" y=\"19\" fill=\"#000000\" />\n",
       "<rect width=\".81\" height=\".81\" x=\"4\" y=\"19\" fill=\"#000000\" />\n",
       "<rect width=\".81\" height=\".81\" x=\"5\" y=\"19\" fill=\"#000000\" />\n",
       "<rect width=\".81\" height=\".81\" x=\"6\" y=\"19\" fill=\"#000000\" />\n",
       "<rect width=\".81\" height=\".81\" x=\"7\" y=\"19\" fill=\"#000000\" />\n",
       "<rect width=\".81\" height=\".81\" x=\"8\" y=\"19\" fill=\"#000000\" />\n",
       "<rect width=\".81\" height=\".81\" x=\"9\" y=\"19\" fill=\"#000000\" />\n",
       "<rect width=\".81\" height=\".81\" x=\"10\" y=\"19\" fill=\"#CFCFCF\" />\n",
       "<rect width=\".81\" height=\".81\" x=\"11\" y=\"19\" fill=\"#FDFDFD\" />\n",
       "<rect width=\".81\" height=\".81\" x=\"12\" y=\"19\" fill=\"#0B0B0B\" />\n",
       "<rect width=\".81\" height=\".81\" x=\"13\" y=\"19\" fill=\"#000000\" />\n",
       "<rect width=\".81\" height=\".81\" x=\"14\" y=\"19\" fill=\"#121212\" />\n",
       "<rect width=\".81\" height=\".81\" x=\"15\" y=\"19\" fill=\"#D1D1D1\" />\n",
       "<rect width=\".81\" height=\".81\" x=\"16\" y=\"19\" fill=\"#FDFDFD\" />\n",
       "<rect width=\".81\" height=\".81\" x=\"17\" y=\"19\" fill=\"#373737\" />\n",
       "<rect width=\".81\" height=\".81\" x=\"18\" y=\"19\" fill=\"#000000\" />\n",
       "<rect width=\".81\" height=\".81\" x=\"19\" y=\"19\" fill=\"#000000\" />\n",
       "<rect width=\".81\" height=\".81\" x=\"20\" y=\"19\" fill=\"#000000\" />\n",
       "<rect width=\".81\" height=\".81\" x=\"21\" y=\"19\" fill=\"#000000\" />\n",
       "<rect width=\".81\" height=\".81\" x=\"22\" y=\"19\" fill=\"#000000\" />\n",
       "<rect width=\".81\" height=\".81\" x=\"23\" y=\"19\" fill=\"#000000\" />\n",
       "<rect width=\".81\" height=\".81\" x=\"24\" y=\"19\" fill=\"#000000\" />\n",
       "<rect width=\".81\" height=\".81\" x=\"25\" y=\"19\" fill=\"#000000\" />\n",
       "<rect width=\".81\" height=\".81\" x=\"26\" y=\"19\" fill=\"#000000\" />\n",
       "<rect width=\".81\" height=\".81\" x=\"27\" y=\"19\" fill=\"#000000\" />\n",
       "<rect width=\".81\" height=\".81\" x=\"0\" y=\"20\" fill=\"#000000\" />\n",
       "<rect width=\".81\" height=\".81\" x=\"1\" y=\"20\" fill=\"#000000\" />\n",
       "<rect width=\".81\" height=\".81\" x=\"2\" y=\"20\" fill=\"#000000\" />\n",
       "<rect width=\".81\" height=\".81\" x=\"3\" y=\"20\" fill=\"#000000\" />\n",
       "<rect width=\".81\" height=\".81\" x=\"4\" y=\"20\" fill=\"#000000\" />\n",
       "<rect width=\".81\" height=\".81\" x=\"5\" y=\"20\" fill=\"#000000\" />\n",
       "<rect width=\".81\" height=\".81\" x=\"6\" y=\"20\" fill=\"#000000\" />\n",
       "<rect width=\".81\" height=\".81\" x=\"7\" y=\"20\" fill=\"#000000\" />\n",
       "<rect width=\".81\" height=\".81\" x=\"8\" y=\"20\" fill=\"#000000\" />\n",
       "<rect width=\".81\" height=\".81\" x=\"9\" y=\"20\" fill=\"#000000\" />\n",
       "<rect width=\".81\" height=\".81\" x=\"10\" y=\"20\" fill=\"#CFCFCF\" />\n",
       "<rect width=\".81\" height=\".81\" x=\"11\" y=\"20\" fill=\"#FDFDFD\" />\n",
       "<rect width=\".81\" height=\".81\" x=\"12\" y=\"20\" fill=\"#212121\" />\n",
       "<rect width=\".81\" height=\".81\" x=\"13\" y=\"20\" fill=\"#000000\" />\n",
       "<rect width=\".81\" height=\".81\" x=\"14\" y=\"20\" fill=\"#000000\" />\n",
       "<rect width=\".81\" height=\".81\" x=\"15\" y=\"20\" fill=\"#656565\" />\n",
       "<rect width=\".81\" height=\".81\" x=\"16\" y=\"20\" fill=\"#FDFDFD\" />\n",
       "<rect width=\".81\" height=\".81\" x=\"17\" y=\"20\" fill=\"#B0B0B0\" />\n",
       "<rect width=\".81\" height=\".81\" x=\"18\" y=\"20\" fill=\"#050505\" />\n",
       "<rect width=\".81\" height=\".81\" x=\"19\" y=\"20\" fill=\"#000000\" />\n",
       "<rect width=\".81\" height=\".81\" x=\"20\" y=\"20\" fill=\"#000000\" />\n",
       "<rect width=\".81\" height=\".81\" x=\"21\" y=\"20\" fill=\"#000000\" />\n",
       "<rect width=\".81\" height=\".81\" x=\"22\" y=\"20\" fill=\"#000000\" />\n",
       "<rect width=\".81\" height=\".81\" x=\"23\" y=\"20\" fill=\"#000000\" />\n",
       "<rect width=\".81\" height=\".81\" x=\"24\" y=\"20\" fill=\"#000000\" />\n",
       "<rect width=\".81\" height=\".81\" x=\"25\" y=\"20\" fill=\"#000000\" />\n",
       "<rect width=\".81\" height=\".81\" x=\"26\" y=\"20\" fill=\"#000000\" />\n",
       "<rect width=\".81\" height=\".81\" x=\"27\" y=\"20\" fill=\"#000000\" />\n",
       "<rect width=\".81\" height=\".81\" x=\"0\" y=\"21\" fill=\"#000000\" />\n",
       "<rect width=\".81\" height=\".81\" x=\"1\" y=\"21\" fill=\"#000000\" />\n",
       "<rect width=\".81\" height=\".81\" x=\"2\" y=\"21\" fill=\"#000000\" />\n",
       "<rect width=\".81\" height=\".81\" x=\"3\" y=\"21\" fill=\"#000000\" />\n",
       "<rect width=\".81\" height=\".81\" x=\"4\" y=\"21\" fill=\"#000000\" />\n",
       "<rect width=\".81\" height=\".81\" x=\"5\" y=\"21\" fill=\"#000000\" />\n",
       "<rect width=\".81\" height=\".81\" x=\"6\" y=\"21\" fill=\"#000000\" />\n",
       "<rect width=\".81\" height=\".81\" x=\"7\" y=\"21\" fill=\"#000000\" />\n",
       "<rect width=\".81\" height=\".81\" x=\"8\" y=\"21\" fill=\"#000000\" />\n",
       "<rect width=\".81\" height=\".81\" x=\"9\" y=\"21\" fill=\"#000000\" />\n",
       "<rect width=\".81\" height=\".81\" x=\"10\" y=\"21\" fill=\"#636363\" />\n",
       "<rect width=\".81\" height=\".81\" x=\"11\" y=\"21\" fill=\"#F6F6F6\" />\n",
       "<rect width=\".81\" height=\".81\" x=\"12\" y=\"21\" fill=\"#D8D8D8\" />\n",
       "<rect width=\".81\" height=\".81\" x=\"13\" y=\"21\" fill=\"#1D1D1D\" />\n",
       "<rect width=\".81\" height=\".81\" x=\"14\" y=\"21\" fill=\"#000000\" />\n",
       "<rect width=\".81\" height=\".81\" x=\"15\" y=\"21\" fill=\"#3C3C3C\" />\n",
       "<rect width=\".81\" height=\".81\" x=\"16\" y=\"21\" fill=\"#FDFDFD\" />\n",
       "<rect width=\".81\" height=\".81\" x=\"17\" y=\"21\" fill=\"#B9B9B9\" />\n",
       "<rect width=\".81\" height=\".81\" x=\"18\" y=\"21\" fill=\"#070707\" />\n",
       "<rect width=\".81\" height=\".81\" x=\"19\" y=\"21\" fill=\"#000000\" />\n",
       "<rect width=\".81\" height=\".81\" x=\"20\" y=\"21\" fill=\"#000000\" />\n",
       "<rect width=\".81\" height=\".81\" x=\"21\" y=\"21\" fill=\"#000000\" />\n",
       "<rect width=\".81\" height=\".81\" x=\"22\" y=\"21\" fill=\"#000000\" />\n",
       "<rect width=\".81\" height=\".81\" x=\"23\" y=\"21\" fill=\"#000000\" />\n",
       "<rect width=\".81\" height=\".81\" x=\"24\" y=\"21\" fill=\"#000000\" />\n",
       "<rect width=\".81\" height=\".81\" x=\"25\" y=\"21\" fill=\"#000000\" />\n",
       "<rect width=\".81\" height=\".81\" x=\"26\" y=\"21\" fill=\"#000000\" />\n",
       "<rect width=\".81\" height=\".81\" x=\"27\" y=\"21\" fill=\"#000000\" />\n",
       "<rect width=\".81\" height=\".81\" x=\"0\" y=\"22\" fill=\"#000000\" />\n",
       "<rect width=\".81\" height=\".81\" x=\"1\" y=\"22\" fill=\"#000000\" />\n",
       "<rect width=\".81\" height=\".81\" x=\"2\" y=\"22\" fill=\"#000000\" />\n",
       "<rect width=\".81\" height=\".81\" x=\"3\" y=\"22\" fill=\"#000000\" />\n",
       "<rect width=\".81\" height=\".81\" x=\"4\" y=\"22\" fill=\"#000000\" />\n",
       "<rect width=\".81\" height=\".81\" x=\"5\" y=\"22\" fill=\"#000000\" />\n",
       "<rect width=\".81\" height=\".81\" x=\"6\" y=\"22\" fill=\"#000000\" />\n",
       "<rect width=\".81\" height=\".81\" x=\"7\" y=\"22\" fill=\"#000000\" />\n",
       "<rect width=\".81\" height=\".81\" x=\"8\" y=\"22\" fill=\"#000000\" />\n",
       "<rect width=\".81\" height=\".81\" x=\"9\" y=\"22\" fill=\"#000000\" />\n",
       "<rect width=\".81\" height=\".81\" x=\"10\" y=\"22\" fill=\"#000000\" />\n",
       "<rect width=\".81\" height=\".81\" x=\"11\" y=\"22\" fill=\"#BABABA\" />\n",
       "<rect width=\".81\" height=\".81\" x=\"12\" y=\"22\" fill=\"#FDFDFD\" />\n",
       "<rect width=\".81\" height=\".81\" x=\"13\" y=\"22\" fill=\"#E0E0E0\" />\n",
       "<rect width=\".81\" height=\".81\" x=\"14\" y=\"22\" fill=\"#7F7F7F\" />\n",
       "<rect width=\".81\" height=\".81\" x=\"15\" y=\"22\" fill=\"#B2B2B2\" />\n",
       "<rect width=\".81\" height=\".81\" x=\"16\" y=\"22\" fill=\"#FDFDFD\" />\n",
       "<rect width=\".81\" height=\".81\" x=\"17\" y=\"22\" fill=\"#9E9E9E\" />\n",
       "<rect width=\".81\" height=\".81\" x=\"18\" y=\"22\" fill=\"#000000\" />\n",
       "<rect width=\".81\" height=\".81\" x=\"19\" y=\"22\" fill=\"#000000\" />\n",
       "<rect width=\".81\" height=\".81\" x=\"20\" y=\"22\" fill=\"#000000\" />\n",
       "<rect width=\".81\" height=\".81\" x=\"21\" y=\"22\" fill=\"#000000\" />\n",
       "<rect width=\".81\" height=\".81\" x=\"22\" y=\"22\" fill=\"#000000\" />\n",
       "<rect width=\".81\" height=\".81\" x=\"23\" y=\"22\" fill=\"#000000\" />\n",
       "<rect width=\".81\" height=\".81\" x=\"24\" y=\"22\" fill=\"#000000\" />\n",
       "<rect width=\".81\" height=\".81\" x=\"25\" y=\"22\" fill=\"#000000\" />\n",
       "<rect width=\".81\" height=\".81\" x=\"26\" y=\"22\" fill=\"#000000\" />\n",
       "<rect width=\".81\" height=\".81\" x=\"27\" y=\"22\" fill=\"#000000\" />\n",
       "<rect width=\".81\" height=\".81\" x=\"0\" y=\"23\" fill=\"#000000\" />\n",
       "<rect width=\".81\" height=\".81\" x=\"1\" y=\"23\" fill=\"#000000\" />\n",
       "<rect width=\".81\" height=\".81\" x=\"2\" y=\"23\" fill=\"#000000\" />\n",
       "<rect width=\".81\" height=\".81\" x=\"3\" y=\"23\" fill=\"#000000\" />\n",
       "<rect width=\".81\" height=\".81\" x=\"4\" y=\"23\" fill=\"#000000\" />\n",
       "<rect width=\".81\" height=\".81\" x=\"5\" y=\"23\" fill=\"#000000\" />\n",
       "<rect width=\".81\" height=\".81\" x=\"6\" y=\"23\" fill=\"#000000\" />\n",
       "<rect width=\".81\" height=\".81\" x=\"7\" y=\"23\" fill=\"#000000\" />\n",
       "<rect width=\".81\" height=\".81\" x=\"8\" y=\"23\" fill=\"#000000\" />\n",
       "<rect width=\".81\" height=\".81\" x=\"9\" y=\"23\" fill=\"#000000\" />\n",
       "<rect width=\".81\" height=\".81\" x=\"10\" y=\"23\" fill=\"#000000\" />\n",
       "<rect width=\".81\" height=\".81\" x=\"11\" y=\"23\" fill=\"#414141\" />\n",
       "<rect width=\".81\" height=\".81\" x=\"12\" y=\"23\" fill=\"#F9F9F9\" />\n",
       "<rect width=\".81\" height=\".81\" x=\"13\" y=\"23\" fill=\"#FDFDFD\" />\n",
       "<rect width=\".81\" height=\".81\" x=\"14\" y=\"23\" fill=\"#FDFDFD\" />\n",
       "<rect width=\".81\" height=\".81\" x=\"15\" y=\"23\" fill=\"#FDFDFD\" />\n",
       "<rect width=\".81\" height=\".81\" x=\"16\" y=\"23\" fill=\"#FDFDFD\" />\n",
       "<rect width=\".81\" height=\".81\" x=\"17\" y=\"23\" fill=\"#393939\" />\n",
       "<rect width=\".81\" height=\".81\" x=\"18\" y=\"23\" fill=\"#000000\" />\n",
       "<rect width=\".81\" height=\".81\" x=\"19\" y=\"23\" fill=\"#000000\" />\n",
       "<rect width=\".81\" height=\".81\" x=\"20\" y=\"23\" fill=\"#000000\" />\n",
       "<rect width=\".81\" height=\".81\" x=\"21\" y=\"23\" fill=\"#000000\" />\n",
       "<rect width=\".81\" height=\".81\" x=\"22\" y=\"23\" fill=\"#000000\" />\n",
       "<rect width=\".81\" height=\".81\" x=\"23\" y=\"23\" fill=\"#000000\" />\n",
       "<rect width=\".81\" height=\".81\" x=\"24\" y=\"23\" fill=\"#000000\" />\n",
       "<rect width=\".81\" height=\".81\" x=\"25\" y=\"23\" fill=\"#000000\" />\n",
       "<rect width=\".81\" height=\".81\" x=\"26\" y=\"23\" fill=\"#000000\" />\n",
       "<rect width=\".81\" height=\".81\" x=\"27\" y=\"23\" fill=\"#000000\" />\n",
       "<rect width=\".81\" height=\".81\" x=\"0\" y=\"24\" fill=\"#000000\" />\n",
       "<rect width=\".81\" height=\".81\" x=\"1\" y=\"24\" fill=\"#000000\" />\n",
       "<rect width=\".81\" height=\".81\" x=\"2\" y=\"24\" fill=\"#000000\" />\n",
       "<rect width=\".81\" height=\".81\" x=\"3\" y=\"24\" fill=\"#000000\" />\n",
       "<rect width=\".81\" height=\".81\" x=\"4\" y=\"24\" fill=\"#000000\" />\n",
       "<rect width=\".81\" height=\".81\" x=\"5\" y=\"24\" fill=\"#000000\" />\n",
       "<rect width=\".81\" height=\".81\" x=\"6\" y=\"24\" fill=\"#000000\" />\n",
       "<rect width=\".81\" height=\".81\" x=\"7\" y=\"24\" fill=\"#000000\" />\n",
       "<rect width=\".81\" height=\".81\" x=\"8\" y=\"24\" fill=\"#000000\" />\n",
       "<rect width=\".81\" height=\".81\" x=\"9\" y=\"24\" fill=\"#000000\" />\n",
       "<rect width=\".81\" height=\".81\" x=\"10\" y=\"24\" fill=\"#000000\" />\n",
       "<rect width=\".81\" height=\".81\" x=\"11\" y=\"24\" fill=\"#000000\" />\n",
       "<rect width=\".81\" height=\".81\" x=\"12\" y=\"24\" fill=\"#131313\" />\n",
       "<rect width=\".81\" height=\".81\" x=\"13\" y=\"24\" fill=\"#929292\" />\n",
       "<rect width=\".81\" height=\".81\" x=\"14\" y=\"24\" fill=\"#B2B2B2\" />\n",
       "<rect width=\".81\" height=\".81\" x=\"15\" y=\"24\" fill=\"#878787\" />\n",
       "<rect width=\".81\" height=\".81\" x=\"16\" y=\"24\" fill=\"#646464\" />\n",
       "<rect width=\".81\" height=\".81\" x=\"17\" y=\"24\" fill=\"#030303\" />\n",
       "<rect width=\".81\" height=\".81\" x=\"18\" y=\"24\" fill=\"#000000\" />\n",
       "<rect width=\".81\" height=\".81\" x=\"19\" y=\"24\" fill=\"#000000\" />\n",
       "<rect width=\".81\" height=\".81\" x=\"20\" y=\"24\" fill=\"#000000\" />\n",
       "<rect width=\".81\" height=\".81\" x=\"21\" y=\"24\" fill=\"#000000\" />\n",
       "<rect width=\".81\" height=\".81\" x=\"22\" y=\"24\" fill=\"#000000\" />\n",
       "<rect width=\".81\" height=\".81\" x=\"23\" y=\"24\" fill=\"#000000\" />\n",
       "<rect width=\".81\" height=\".81\" x=\"24\" y=\"24\" fill=\"#000000\" />\n",
       "<rect width=\".81\" height=\".81\" x=\"25\" y=\"24\" fill=\"#000000\" />\n",
       "<rect width=\".81\" height=\".81\" x=\"26\" y=\"24\" fill=\"#000000\" />\n",
       "<rect width=\".81\" height=\".81\" x=\"27\" y=\"24\" fill=\"#000000\" />\n",
       "<rect width=\".81\" height=\".81\" x=\"0\" y=\"25\" fill=\"#000000\" />\n",
       "<rect width=\".81\" height=\".81\" x=\"1\" y=\"25\" fill=\"#000000\" />\n",
       "<rect width=\".81\" height=\".81\" x=\"2\" y=\"25\" fill=\"#000000\" />\n",
       "<rect width=\".81\" height=\".81\" x=\"3\" y=\"25\" fill=\"#000000\" />\n",
       "<rect width=\".81\" height=\".81\" x=\"4\" y=\"25\" fill=\"#000000\" />\n",
       "<rect width=\".81\" height=\".81\" x=\"5\" y=\"25\" fill=\"#000000\" />\n",
       "<rect width=\".81\" height=\".81\" x=\"6\" y=\"25\" fill=\"#000000\" />\n",
       "<rect width=\".81\" height=\".81\" x=\"7\" y=\"25\" fill=\"#000000\" />\n",
       "<rect width=\".81\" height=\".81\" x=\"8\" y=\"25\" fill=\"#000000\" />\n",
       "<rect width=\".81\" height=\".81\" x=\"9\" y=\"25\" fill=\"#000000\" />\n",
       "<rect width=\".81\" height=\".81\" x=\"10\" y=\"25\" fill=\"#000000\" />\n",
       "<rect width=\".81\" height=\".81\" x=\"11\" y=\"25\" fill=\"#000000\" />\n",
       "<rect width=\".81\" height=\".81\" x=\"12\" y=\"25\" fill=\"#000000\" />\n",
       "<rect width=\".81\" height=\".81\" x=\"13\" y=\"25\" fill=\"#000000\" />\n",
       "<rect width=\".81\" height=\".81\" x=\"14\" y=\"25\" fill=\"#000000\" />\n",
       "<rect width=\".81\" height=\".81\" x=\"15\" y=\"25\" fill=\"#000000\" />\n",
       "<rect width=\".81\" height=\".81\" x=\"16\" y=\"25\" fill=\"#000000\" />\n",
       "<rect width=\".81\" height=\".81\" x=\"17\" y=\"25\" fill=\"#000000\" />\n",
       "<rect width=\".81\" height=\".81\" x=\"18\" y=\"25\" fill=\"#000000\" />\n",
       "<rect width=\".81\" height=\".81\" x=\"19\" y=\"25\" fill=\"#000000\" />\n",
       "<rect width=\".81\" height=\".81\" x=\"20\" y=\"25\" fill=\"#000000\" />\n",
       "<rect width=\".81\" height=\".81\" x=\"21\" y=\"25\" fill=\"#000000\" />\n",
       "<rect width=\".81\" height=\".81\" x=\"22\" y=\"25\" fill=\"#000000\" />\n",
       "<rect width=\".81\" height=\".81\" x=\"23\" y=\"25\" fill=\"#000000\" />\n",
       "<rect width=\".81\" height=\".81\" x=\"24\" y=\"25\" fill=\"#000000\" />\n",
       "<rect width=\".81\" height=\".81\" x=\"25\" y=\"25\" fill=\"#000000\" />\n",
       "<rect width=\".81\" height=\".81\" x=\"26\" y=\"25\" fill=\"#000000\" />\n",
       "<rect width=\".81\" height=\".81\" x=\"27\" y=\"25\" fill=\"#000000\" />\n",
       "<rect width=\".81\" height=\".81\" x=\"0\" y=\"26\" fill=\"#000000\" />\n",
       "<rect width=\".81\" height=\".81\" x=\"1\" y=\"26\" fill=\"#000000\" />\n",
       "<rect width=\".81\" height=\".81\" x=\"2\" y=\"26\" fill=\"#000000\" />\n",
       "<rect width=\".81\" height=\".81\" x=\"3\" y=\"26\" fill=\"#000000\" />\n",
       "<rect width=\".81\" height=\".81\" x=\"4\" y=\"26\" fill=\"#000000\" />\n",
       "<rect width=\".81\" height=\".81\" x=\"5\" y=\"26\" fill=\"#000000\" />\n",
       "<rect width=\".81\" height=\".81\" x=\"6\" y=\"26\" fill=\"#000000\" />\n",
       "<rect width=\".81\" height=\".81\" x=\"7\" y=\"26\" fill=\"#000000\" />\n",
       "<rect width=\".81\" height=\".81\" x=\"8\" y=\"26\" fill=\"#000000\" />\n",
       "<rect width=\".81\" height=\".81\" x=\"9\" y=\"26\" fill=\"#000000\" />\n",
       "<rect width=\".81\" height=\".81\" x=\"10\" y=\"26\" fill=\"#000000\" />\n",
       "<rect width=\".81\" height=\".81\" x=\"11\" y=\"26\" fill=\"#000000\" />\n",
       "<rect width=\".81\" height=\".81\" x=\"12\" y=\"26\" fill=\"#000000\" />\n",
       "<rect width=\".81\" height=\".81\" x=\"13\" y=\"26\" fill=\"#000000\" />\n",
       "<rect width=\".81\" height=\".81\" x=\"14\" y=\"26\" fill=\"#000000\" />\n",
       "<rect width=\".81\" height=\".81\" x=\"15\" y=\"26\" fill=\"#000000\" />\n",
       "<rect width=\".81\" height=\".81\" x=\"16\" y=\"26\" fill=\"#000000\" />\n",
       "<rect width=\".81\" height=\".81\" x=\"17\" y=\"26\" fill=\"#000000\" />\n",
       "<rect width=\".81\" height=\".81\" x=\"18\" y=\"26\" fill=\"#000000\" />\n",
       "<rect width=\".81\" height=\".81\" x=\"19\" y=\"26\" fill=\"#000000\" />\n",
       "<rect width=\".81\" height=\".81\" x=\"20\" y=\"26\" fill=\"#000000\" />\n",
       "<rect width=\".81\" height=\".81\" x=\"21\" y=\"26\" fill=\"#000000\" />\n",
       "<rect width=\".81\" height=\".81\" x=\"22\" y=\"26\" fill=\"#000000\" />\n",
       "<rect width=\".81\" height=\".81\" x=\"23\" y=\"26\" fill=\"#000000\" />\n",
       "<rect width=\".81\" height=\".81\" x=\"24\" y=\"26\" fill=\"#000000\" />\n",
       "<rect width=\".81\" height=\".81\" x=\"25\" y=\"26\" fill=\"#000000\" />\n",
       "<rect width=\".81\" height=\".81\" x=\"26\" y=\"26\" fill=\"#000000\" />\n",
       "<rect width=\".81\" height=\".81\" x=\"27\" y=\"26\" fill=\"#000000\" />\n",
       "<rect width=\".81\" height=\".81\" x=\"0\" y=\"27\" fill=\"#000000\" />\n",
       "<rect width=\".81\" height=\".81\" x=\"1\" y=\"27\" fill=\"#000000\" />\n",
       "<rect width=\".81\" height=\".81\" x=\"2\" y=\"27\" fill=\"#000000\" />\n",
       "<rect width=\".81\" height=\".81\" x=\"3\" y=\"27\" fill=\"#000000\" />\n",
       "<rect width=\".81\" height=\".81\" x=\"4\" y=\"27\" fill=\"#000000\" />\n",
       "<rect width=\".81\" height=\".81\" x=\"5\" y=\"27\" fill=\"#000000\" />\n",
       "<rect width=\".81\" height=\".81\" x=\"6\" y=\"27\" fill=\"#000000\" />\n",
       "<rect width=\".81\" height=\".81\" x=\"7\" y=\"27\" fill=\"#000000\" />\n",
       "<rect width=\".81\" height=\".81\" x=\"8\" y=\"27\" fill=\"#000000\" />\n",
       "<rect width=\".81\" height=\".81\" x=\"9\" y=\"27\" fill=\"#000000\" />\n",
       "<rect width=\".81\" height=\".81\" x=\"10\" y=\"27\" fill=\"#000000\" />\n",
       "<rect width=\".81\" height=\".81\" x=\"11\" y=\"27\" fill=\"#000000\" />\n",
       "<rect width=\".81\" height=\".81\" x=\"12\" y=\"27\" fill=\"#000000\" />\n",
       "<rect width=\".81\" height=\".81\" x=\"13\" y=\"27\" fill=\"#000000\" />\n",
       "<rect width=\".81\" height=\".81\" x=\"14\" y=\"27\" fill=\"#000000\" />\n",
       "<rect width=\".81\" height=\".81\" x=\"15\" y=\"27\" fill=\"#000000\" />\n",
       "<rect width=\".81\" height=\".81\" x=\"16\" y=\"27\" fill=\"#000000\" />\n",
       "<rect width=\".81\" height=\".81\" x=\"17\" y=\"27\" fill=\"#000000\" />\n",
       "<rect width=\".81\" height=\".81\" x=\"18\" y=\"27\" fill=\"#000000\" />\n",
       "<rect width=\".81\" height=\".81\" x=\"19\" y=\"27\" fill=\"#000000\" />\n",
       "<rect width=\".81\" height=\".81\" x=\"20\" y=\"27\" fill=\"#000000\" />\n",
       "<rect width=\".81\" height=\".81\" x=\"21\" y=\"27\" fill=\"#000000\" />\n",
       "<rect width=\".81\" height=\".81\" x=\"22\" y=\"27\" fill=\"#000000\" />\n",
       "<rect width=\".81\" height=\".81\" x=\"23\" y=\"27\" fill=\"#000000\" />\n",
       "<rect width=\".81\" height=\".81\" x=\"24\" y=\"27\" fill=\"#000000\" />\n",
       "<rect width=\".81\" height=\".81\" x=\"25\" y=\"27\" fill=\"#000000\" />\n",
       "<rect width=\".81\" height=\".81\" x=\"26\" y=\"27\" fill=\"#000000\" />\n",
       "<rect width=\".81\" height=\".81\" x=\"27\" y=\"27\" fill=\"#000000\" />\n",
       "</svg>"
      ],
      "text/plain": [
       "28×28 Array{Gray{N0f8},2} with eltype ColorTypes.Gray{FixedPointNumbers.N0f8}:\n",
       " Gray{N0f8}(0.0)  Gray{N0f8}(0.0)  …  Gray{N0f8}(0.0)  Gray{N0f8}(0.0)\n",
       " Gray{N0f8}(0.0)  Gray{N0f8}(0.0)     Gray{N0f8}(0.0)  Gray{N0f8}(0.0)\n",
       " Gray{N0f8}(0.0)  Gray{N0f8}(0.0)     Gray{N0f8}(0.0)  Gray{N0f8}(0.0)\n",
       " Gray{N0f8}(0.0)  Gray{N0f8}(0.0)     Gray{N0f8}(0.0)  Gray{N0f8}(0.0)\n",
       " Gray{N0f8}(0.0)  Gray{N0f8}(0.0)     Gray{N0f8}(0.0)  Gray{N0f8}(0.0)\n",
       " Gray{N0f8}(0.0)  Gray{N0f8}(0.0)  …  Gray{N0f8}(0.0)  Gray{N0f8}(0.0)\n",
       " Gray{N0f8}(0.0)  Gray{N0f8}(0.0)     Gray{N0f8}(0.0)  Gray{N0f8}(0.0)\n",
       " Gray{N0f8}(0.0)  Gray{N0f8}(0.0)     Gray{N0f8}(0.0)  Gray{N0f8}(0.0)\n",
       " Gray{N0f8}(0.0)  Gray{N0f8}(0.0)     Gray{N0f8}(0.0)  Gray{N0f8}(0.0)\n",
       " Gray{N0f8}(0.0)  Gray{N0f8}(0.0)     Gray{N0f8}(0.0)  Gray{N0f8}(0.0)\n",
       " Gray{N0f8}(0.0)  Gray{N0f8}(0.0)  …  Gray{N0f8}(0.0)  Gray{N0f8}(0.0)\n",
       " Gray{N0f8}(0.0)  Gray{N0f8}(0.0)     Gray{N0f8}(0.0)  Gray{N0f8}(0.0)\n",
       " Gray{N0f8}(0.0)  Gray{N0f8}(0.0)     Gray{N0f8}(0.0)  Gray{N0f8}(0.0)\n",
       " ⋮                                 ⋱                   \n",
       " Gray{N0f8}(0.0)  Gray{N0f8}(0.0)     Gray{N0f8}(0.0)  Gray{N0f8}(0.0)\n",
       " Gray{N0f8}(0.0)  Gray{N0f8}(0.0)     Gray{N0f8}(0.0)  Gray{N0f8}(0.0)\n",
       " Gray{N0f8}(0.0)  Gray{N0f8}(0.0)     Gray{N0f8}(0.0)  Gray{N0f8}(0.0)\n",
       " Gray{N0f8}(0.0)  Gray{N0f8}(0.0)     Gray{N0f8}(0.0)  Gray{N0f8}(0.0)\n",
       " Gray{N0f8}(0.0)  Gray{N0f8}(0.0)  …  Gray{N0f8}(0.0)  Gray{N0f8}(0.0)\n",
       " Gray{N0f8}(0.0)  Gray{N0f8}(0.0)     Gray{N0f8}(0.0)  Gray{N0f8}(0.0)\n",
       " Gray{N0f8}(0.0)  Gray{N0f8}(0.0)     Gray{N0f8}(0.0)  Gray{N0f8}(0.0)\n",
       " Gray{N0f8}(0.0)  Gray{N0f8}(0.0)     Gray{N0f8}(0.0)  Gray{N0f8}(0.0)\n",
       " Gray{N0f8}(0.0)  Gray{N0f8}(0.0)     Gray{N0f8}(0.0)  Gray{N0f8}(0.0)\n",
       " Gray{N0f8}(0.0)  Gray{N0f8}(0.0)  …  Gray{N0f8}(0.0)  Gray{N0f8}(0.0)\n",
       " Gray{N0f8}(0.0)  Gray{N0f8}(0.0)     Gray{N0f8}(0.0)  Gray{N0f8}(0.0)\n",
       " Gray{N0f8}(0.0)  Gray{N0f8}(0.0)     Gray{N0f8}(0.0)  Gray{N0f8}(0.0)"
      ]
     },
     "execution_count": 95,
     "metadata": {},
     "output_type": "execute_result"
    }
   ],
   "source": [
    "\n",
    "(Flux.Data.MNIST.images(:test)[foobar])\n",
    "\t"
   ]
  },
  {
   "cell_type": "code",
   "execution_count": 96,
   "id": "55346985-7b45-4b86-a347-c3951b389041",
   "metadata": {},
   "outputs": [
    {
     "name": "stderr",
     "output_type": "stream",
     "text": [
      "┌ Warning: Flux's datasets are deprecated, please use the package MLDatasets.jl\n",
      "└ @ Flux.Data /home/tasty/.julia/packages/Flux/qAdFM/src/data/Data.jl:16\n"
     ]
    },
    {
     "data": {
      "text/plain": [
       "8"
      ]
     },
     "execution_count": 96,
     "metadata": {},
     "output_type": "execute_result"
    }
   ],
   "source": [
    "(onecold(m(hcat(float.(reshape.(Flux.Data.MNIST.images(:test), :))...)[:,foobar])) - 1)"
   ]
  },
  {
   "cell_type": "code",
   "execution_count": 98,
   "id": "17b1e8c1-c612-4526-9ffe-27e18d43d506",
   "metadata": {},
   "outputs": [
    {
     "data": {
      "text/plain": [
       "accuracy (generic function with 1 method)"
      ]
     },
     "execution_count": 98,
     "metadata": {},
     "output_type": "execute_result"
    }
   ],
   "source": [
    "accuracy(X, y) = mean(onecold(m(X)) .== onecold(y))"
   ]
  },
  {
   "cell_type": "code",
   "execution_count": 99,
   "id": "9ef545aa-22bd-4925-b821-cd9878f97399",
   "metadata": {},
   "outputs": [
    {
     "data": {
      "text/plain": [
       "0.8994333333333333"
      ]
     },
     "execution_count": 99,
     "metadata": {},
     "output_type": "execute_result"
    }
   ],
   "source": [
    "accuracy(X, y)"
   ]
  },
  {
   "cell_type": "code",
   "execution_count": 100,
   "id": "9678198b-efd0-47a4-93a6-e8951f96e9e2",
   "metadata": {},
   "outputs": [
    {
     "name": "stderr",
     "output_type": "stream",
     "text": [
      "┌ Warning: Flux's datasets are deprecated, please use the package MLDatasets.jl\n",
      "└ @ Flux.Data /home/tasty/.julia/packages/Flux/qAdFM/src/data/Data.jl:16\n",
      "┌ Warning: Flux's datasets are deprecated, please use the package MLDatasets.jl\n",
      "└ @ Flux.Data /home/tasty/.julia/packages/Flux/qAdFM/src/data/Data.jl:16\n"
     ]
    },
    {
     "data": {
      "text/plain": [
       "0.9059"
      ]
     },
     "execution_count": 100,
     "metadata": {},
     "output_type": "execute_result"
    }
   ],
   "source": [
    "(accuracy(hcat(float.(reshape.(Flux.Data.MNIST.images(:test), :))...), onehotbatch(Flux.Data.MNIST.labels(:test), 0:9)))"
   ]
  },
  {
   "cell_type": "code",
   "execution_count": null,
   "id": "9cd3113d-3cb1-4a6f-9a01-dc47a56a1a36",
   "metadata": {},
   "outputs": [],
   "source": []
  },
  {
   "cell_type": "code",
   "execution_count": null,
   "id": "e923011e-90fd-4f30-809b-abadef2d0638",
   "metadata": {},
   "outputs": [],
   "source": []
  },
  {
   "cell_type": "code",
   "execution_count": 117,
   "id": "d47c0df3-ddf9-4052-9a2c-4ffefc3ac949",
   "metadata": {},
   "outputs": [],
   "source": [
    "using Flux, Statistics\n",
    "using Flux.Data: DataLoader\n",
    "using Flux: onehotbatch, onecold, logitcrossentropy, throttle, @epochs\n",
    "using Base.Iterators: repeated\n",
    "using Parameters: @with_kw\n",
    "using MLDatasets"
   ]
  },
  {
   "cell_type": "code",
   "execution_count": 119,
   "id": "1d2566f2-8055-4920-a1b9-8e67fd60bab4",
   "metadata": {},
   "outputs": [
    {
     "data": {
      "text/plain": [
       "Args1"
      ]
     },
     "execution_count": 119,
     "metadata": {},
     "output_type": "execute_result"
    }
   ],
   "source": [
    "@with_kw mutable struct Args1\n",
    "    η::Float64 = 3e-4       # learning rate\n",
    "    batchsize::Int = 1024   # batch size\n",
    "    epochs::Int = 10        # number of epochs\n",
    "    device::Function = gpu  # set as gpu, if gpu available\n",
    "end"
   ]
  },
  {
   "cell_type": "code",
   "execution_count": 120,
   "id": "c49ce035-d4a9-46c7-9a0d-57fffc7d25f1",
   "metadata": {},
   "outputs": [
    {
     "data": {
      "text/plain": [
       "getdata (generic function with 1 method)"
      ]
     },
     "execution_count": 120,
     "metadata": {},
     "output_type": "execute_result"
    }
   ],
   "source": [
    "function getdata(args)\n",
    "    ENV[\"DATADEPS_ALWAYS_ACCEPT\"] = \"true\"\n",
    "\n",
    "    # Loading Dataset\t\n",
    "    xtrain, ytrain = MLDatasets.MNIST.traindata(Float32)\n",
    "    xtest, ytest = MLDatasets.MNIST.testdata(Float32)\n",
    "\t\n",
    "    # Reshape Data in order to flatten each image into a linear array\n",
    "    xtrain = Flux.flatten(xtrain)\n",
    "    xtest = Flux.flatten(xtest)\n",
    "\n",
    "    # One-hot-encode the labels\n",
    "    ytrain, ytest = onehotbatch(ytrain, 0:9), onehotbatch(ytest, 0:9)\n",
    "\n",
    "    # Batching\n",
    "    train_data = DataLoader((xtrain, ytrain), batchsize=args.batchsize, shuffle=true)\n",
    "    test_data = DataLoader((xtest, ytest), batchsize=args.batchsize)\n",
    "\n",
    "    return train_data, test_data\n",
    "end"
   ]
  },
  {
   "cell_type": "code",
   "execution_count": null,
   "id": "09c8a9a5-b9b0-41fd-b052-576f90c5a953",
   "metadata": {},
   "outputs": [],
   "source": []
  },
  {
   "cell_type": "code",
   "execution_count": 121,
   "id": "36f8c79e-b1d1-4733-997b-59cea5a7df08",
   "metadata": {},
   "outputs": [
    {
     "data": {
      "text/plain": [
       "build_model (generic function with 2 methods)"
      ]
     },
     "execution_count": 121,
     "metadata": {},
     "output_type": "execute_result"
    }
   ],
   "source": [
    "function build_model(; imgsize=(28,28,1), nclasses=10)\n",
    "    return Chain(\n",
    " \t    Dense(prod(imgsize), 32, relu),\n",
    "            Dense(32, nclasses))\n",
    "end"
   ]
  },
  {
   "cell_type": "code",
   "execution_count": null,
   "id": "f59d0383-78f4-40b2-a211-6d73a3262f07",
   "metadata": {},
   "outputs": [],
   "source": []
  },
  {
   "cell_type": "code",
   "execution_count": 122,
   "id": "5c87d79a-2dad-43ad-9f52-a8aa33f1e8fc",
   "metadata": {},
   "outputs": [
    {
     "data": {
      "text/plain": [
       "loss_all (generic function with 1 method)"
      ]
     },
     "execution_count": 122,
     "metadata": {},
     "output_type": "execute_result"
    }
   ],
   "source": [
    "function loss_all(dataloader, model)\n",
    "    l = 0f0\n",
    "    for (x,y) in dataloader\n",
    "        l += logitcrossentropy(model(x), y)\n",
    "    end\n",
    "    l/length(dataloader)\n",
    "end"
   ]
  },
  {
   "cell_type": "code",
   "execution_count": null,
   "id": "6d38eac6-c693-41a3-a9c7-9b763db69949",
   "metadata": {},
   "outputs": [],
   "source": []
  },
  {
   "cell_type": "code",
   "execution_count": 123,
   "id": "17bf5091-18ce-403a-9df0-cf86e7ed0368",
   "metadata": {},
   "outputs": [
    {
     "data": {
      "text/plain": [
       "accuracy (generic function with 2 methods)"
      ]
     },
     "execution_count": 123,
     "metadata": {},
     "output_type": "execute_result"
    }
   ],
   "source": [
    "function accuracy(data_loader, model)\n",
    "    acc = 0\n",
    "    for (x,y) in data_loader\n",
    "        acc += sum(onecold(cpu(model(x))) .== onecold(cpu(y)))*1 / size(x,2)\n",
    "    end\n",
    "    acc/length(data_loader)\n",
    "end"
   ]
  },
  {
   "cell_type": "code",
   "execution_count": null,
   "id": "234a5aac-1690-4b65-aa30-8a5c787e5444",
   "metadata": {},
   "outputs": [],
   "source": []
  },
  {
   "cell_type": "code",
   "execution_count": 125,
   "id": "fad8f93a-576d-4a7f-aff3-4409f3409e56",
   "metadata": {},
   "outputs": [
    {
     "data": {
      "text/plain": [
       "train (generic function with 1 method)"
      ]
     },
     "execution_count": 125,
     "metadata": {},
     "output_type": "execute_result"
    }
   ],
   "source": [
    "function train(; kws...)\n",
    "    # Initializing Model parameters \n",
    "    args = Args1(; kws...)\n",
    "\n",
    "    # Load Data\n",
    "    train_data,test_data = getdata(args)\n",
    "\n",
    "    # Construct model\n",
    "    m = build_model()\n",
    "    train_data = args.device.(train_data)\n",
    "    test_data = args.device.(test_data)\n",
    "    m = args.device(m)\n",
    "    loss(x,y) = logitcrossentropy(m(x), y)\n",
    "    \n",
    "    ## Training\n",
    "    evalcb = () -> @show(loss_all(train_data, m))\n",
    "    opt = ADAM(args.η)\n",
    "\t\t\n",
    "    @epochs args.epochs Flux.train!(loss, params(m), train_data, opt, cb = evalcb)\n",
    "\n",
    "    @show accuracy(train_data, m)\n",
    "\n",
    "    @show accuracy(test_data, m)\n",
    "end\n"
   ]
  },
  {
   "cell_type": "code",
   "execution_count": null,
   "id": "48cd960f-6df0-4d84-adba-2a3bbb0f4919",
   "metadata": {},
   "outputs": [],
   "source": []
  },
  {
   "cell_type": "code",
   "execution_count": null,
   "id": "7c5102d7-8864-42e2-9428-f7ae82118133",
   "metadata": {},
   "outputs": [],
   "source": []
  },
  {
   "cell_type": "code",
   "execution_count": null,
   "id": "26f913c0-7930-4d86-905c-22ebea9940dd",
   "metadata": {},
   "outputs": [],
   "source": []
  },
  {
   "cell_type": "code",
   "execution_count": null,
   "id": "2573bebb-2d0c-4194-bfbd-2c37ebac0669",
   "metadata": {},
   "outputs": [],
   "source": []
  },
  {
   "cell_type": "code",
   "execution_count": null,
   "id": "494e97f7-711e-43bc-8262-e675967b07a3",
   "metadata": {},
   "outputs": [],
   "source": []
  },
  {
   "cell_type": "code",
   "execution_count": null,
   "id": "9c829f96-1030-4017-930a-507fec394b2c",
   "metadata": {},
   "outputs": [],
   "source": []
  },
  {
   "cell_type": "code",
   "execution_count": null,
   "id": "b916e786-a717-4a5e-8bb5-c3ce48b18180",
   "metadata": {},
   "outputs": [],
   "source": []
  },
  {
   "cell_type": "code",
   "execution_count": null,
   "id": "dfb28557-13cb-42db-a22f-204cd6fb7897",
   "metadata": {},
   "outputs": [],
   "source": []
  },
  {
   "cell_type": "code",
   "execution_count": null,
   "id": "bb7800b9-f49a-45f7-b8bd-d7769daf457c",
   "metadata": {},
   "outputs": [],
   "source": []
  },
  {
   "cell_type": "code",
   "execution_count": null,
   "id": "6907b92c-f896-4cf4-b23e-072494423ae9",
   "metadata": {},
   "outputs": [],
   "source": []
  },
  {
   "cell_type": "code",
   "execution_count": null,
   "id": "968aa0d5-2fc6-43c1-95d0-5839bdaa562e",
   "metadata": {},
   "outputs": [],
   "source": []
  },
  {
   "cell_type": "code",
   "execution_count": 147,
   "id": "cb1eeecb-6935-41dd-bed3-0551b70fa1ec",
   "metadata": {},
   "outputs": [],
   "source": [
    "## Classification of MNIST dataset \n",
    "## with the convolutional neural network known as LeNet5.\n",
    "## This script also combines various\n",
    "## packages from the Julia ecosystem with Flux.\n",
    "using Flux\n",
    "using Flux.Data: DataLoader\n",
    "using Flux.Optimise: Optimiser, WeightDecay\n",
    "using Flux: onehotbatch, onecold\n",
    "using Flux.Losses: logitcrossentropy\n",
    "using Statistics, Random\n",
    "using Logging: with_logger\n",
    "using TensorBoardLogger: TBLogger, tb_overwrite, set_step!, set_step_increment!\n",
    "using ProgressMeter: @showprogress\n",
    "import MLDatasets\n",
    "import BSON\n",
    "using CUDA\n",
    "\n",
    "# LeNet5 \"constructor\". \n",
    "# The model can be adapted to any image size\n",
    "# and any number of output classes.\n",
    "function LeNet5(; imgsize=(28,28,1), nclasses=10) \n",
    "    out_conv_size = (imgsize[1]÷4 - 3, imgsize[2]÷4 - 3, 16)\n",
    "    \n",
    "    return Chain(\n",
    "            Conv((5, 5), imgsize[end]=>6, relu),\n",
    "            MaxPool((2, 2)),\n",
    "            Conv((5, 5), 6=>16, relu),\n",
    "            MaxPool((2, 2)),\n",
    "            flatten,\n",
    "            Dense(prod(out_conv_size), 120, relu), \n",
    "            Dense(120, 84, relu), \n",
    "            Dense(84, nclasses)\n",
    "          )\n",
    "end\n",
    "\n",
    "function get_data(args)\n",
    "    xtrain, ytrain = MLDatasets.MNIST.traindata(Float32)\n",
    "    xtest, ytest = MLDatasets.MNIST.testdata(Float32)\n",
    "\n",
    "    xtrain = reshape(xtrain, 28, 28, 1, :)\n",
    "    xtest = reshape(xtest, 28, 28, 1, :)\n",
    "\n",
    "    ytrain, ytest = onehotbatch(ytrain, 0:9), onehotbatch(ytest, 0:9)\n",
    "\n",
    "    train_loader = DataLoader((xtrain, ytrain), batchsize=args.batchsize, shuffle=true)\n",
    "    test_loader = DataLoader((xtest, ytest),  batchsize=args.batchsize)\n",
    "    \n",
    "    return train_loader, test_loader\n",
    "end\n",
    "\n",
    "loss(ŷ, y) = logitcrossentropy(ŷ, y)\n",
    "\n",
    "function eval_loss_accuracy(loader, model, device)\n",
    "    l = 0f0\n",
    "    acc = 0\n",
    "    ntot = 0\n",
    "    for (x, y) in loader\n",
    "        x, y = x |> device, y |> device\n",
    "        ŷ = model(x)\n",
    "        l += loss(ŷ, y) * size(x)[end]        \n",
    "        acc += sum(onecold(ŷ |> cpu) .== onecold(y |> cpu))\n",
    "        ntot += size(x)[end]\n",
    "    end\n",
    "    return (loss = l/ntot |> round4, acc = acc/ntot*100 |> round4)\n",
    "end\n",
    "\n",
    "## utility functions\n",
    "num_params(model) = sum(length, Flux.params(model)) \n",
    "round4(x) = round(x, digits=4)\n",
    "\n",
    "# arguments for the `train` function \n",
    "Base.@kwdef mutable struct Args3\n",
    "    η = 3e-4             # learning rate\n",
    "    λ = 0                # L2 regularizer param, implemented as weight decay\n",
    "    batchsize = 128      # batch size\n",
    "    epochs = 10          # number of epochs\n",
    "    seed = 0             # set seed > 0 for reproducibility\n",
    "    use_cuda = true      # if true use cuda (if available)\n",
    "    infotime = 1 \t     # report every `infotime` epochs\n",
    "    checktime = 5        # Save the model every `checktime` epochs. Set to 0 for no checkpoints.\n",
    "    tblogger = true      # log training with tensorboard\n",
    "    savepath = \"runs/\"    # results path\n",
    "end\n",
    "\n",
    "function train3(; kws...)\n",
    "    args = Args3(; kws...)\n",
    "    args.seed > 0 && Random.seed!(args.seed)\n",
    "    use_cuda = args.use_cuda && CUDA.functional()\n",
    "    \n",
    "    if use_cuda\n",
    "        device = gpu\n",
    "        @info \"Training on GPU\"\n",
    "    else\n",
    "        device = cpu\n",
    "        @info \"Training on CPU\"\n",
    "    end\n",
    "\n",
    "    ## DATA\n",
    "    train_loader, test_loader = get_data(args)\n",
    "    @info \"Dataset MNIST: $(train_loader.nobs) train and $(test_loader.nobs) test examples\"\n",
    "\n",
    "    ## MODEL AND OPTIMIZER\n",
    "    model = LeNet5() |> device\n",
    "    @info \"LeNet5 model: $(num_params(model)) trainable params\"    \n",
    "    \n",
    "    ps = Flux.params(model)  \n",
    "\n",
    "    opt = ADAM(args.η) \n",
    "    if args.λ > 0 # add weight decay, equivalent to L2 regularization\n",
    "        opt = Optimiser(WeightDecay(args.λ), opt)\n",
    "    end\n",
    "    \n",
    "    ## LOGGING UTILITIES\n",
    "    if args.tblogger \n",
    "        tblogger = TBLogger(args.savepath, tb_overwrite)\n",
    "        set_step_increment!(tblogger, 0) # 0 auto increment since we manually set_step!\n",
    "        @info \"TensorBoard logging at \\\"$(args.savepath)\\\"\"\n",
    "    end\n",
    "    \n",
    "    function report(epoch)\n",
    "        train = eval_loss_accuracy(train_loader, model, device)\n",
    "        test = eval_loss_accuracy(test_loader, model, device)        \n",
    "        println(\"Epoch: $epoch   Train: $(train)   Test: $(test)\")\n",
    "        if args.tblogger\n",
    "            set_step!(tblogger, epoch)\n",
    "            with_logger(tblogger) do\n",
    "                @info \"train\" loss=train.loss  acc=train.acc\n",
    "                @info \"test\"  loss=test.loss   acc=test.acc\n",
    "            end\n",
    "        end\n",
    "    end\n",
    "    \n",
    "    ## TRAINING\n",
    "    @info \"Start Training\"\n",
    "    report(0)\n",
    "    for epoch in 1:args.epochs\n",
    "        @showprogress for (x, y) in train_loader\n",
    "            x, y = x |> device, y |> device\n",
    "            gs = Flux.gradient(ps) do\n",
    "                    ŷ = model(x)\n",
    "                    loss(ŷ, y)\n",
    "                end\n",
    "\n",
    "            Flux.Optimise.update!(opt, ps, gs)\n",
    "        end\n",
    "        \n",
    "        ## Printing and logging\n",
    "        epoch % args.infotime == 0 && report(epoch)\n",
    "        if args.checktime > 0 && epoch % args.checktime == 0\n",
    "            !ispath(args.savepath) && mkpath(args.savepath)\n",
    "            modelpath = joinpath(args.savepath, \"model.bson\") \n",
    "            let model = cpu(model) #return model to cpu before serialization\n",
    "                BSON.@save modelpath model epoch\n",
    "            end\n",
    "            @info \"Model saved in \\\"$(modelpath)\\\"\"\n",
    "        end\n",
    "    end\n",
    "end\n",
    "\n",
    "if abspath(PROGRAM_FILE) == @__FILE__\n",
    "    train()\n",
    "end\n",
    "\n"
   ]
  },
  {
   "cell_type": "code",
   "execution_count": 148,
   "id": "b94df416-3d93-4d67-b39f-4723efe2e736",
   "metadata": {},
   "outputs": [
    {
     "name": "stderr",
     "output_type": "stream",
     "text": [
      "┌ Info: Training on CPU\n",
      "└ @ Main In[147]:95\n"
     ]
    },
    {
     "name": "stdout",
     "output_type": "stream",
     "text": [
      "This program has requested access to the data dependency MNIST.\n",
      "which is not currently installed. It can be installed automatically, and you will not see this message again.\n",
      "\n",
      "Dataset: THE MNIST DATABASE of handwritten digits\n",
      "Authors: Yann LeCun, Corinna Cortes, Christopher J.C. Burges\n",
      "Website: http://yann.lecun.com/exdb/mnist/\n",
      "\n",
      "[LeCun et al., 1998a]\n",
      "    Y. LeCun, L. Bottou, Y. Bengio, and P. Haffner.\n",
      "    \"Gradient-based learning applied to document recognition.\"\n",
      "    Proceedings of the IEEE, 86(11):2278-2324, November 1998\n",
      "\n",
      "The files are available for download at the offical\n",
      "website linked above. Note that using the data\n",
      "responsibly and respecting copyright remains your\n",
      "responsibility. The authors of MNIST aren't really\n",
      "explicit about any terms of use, so please read the\n",
      "website to make sure you want to download the\n",
      "dataset.\n",
      "\n",
      "\n",
      "\n",
      "Do you want to download the dataset from [\"https://ossci-datasets.s3.amazonaws.com/mnist/train-images-idx3-ubyte.gz\", \"https://ossci-datasets.s3.amazonaws.com/mnist/train-labels-idx1-ubyte.gz\", \"https://ossci-datasets.s3.amazonaws.com/mnist/t10k-images-idx3-ubyte.gz\", \"https://ossci-datasets.s3.amazonaws.com/mnist/t10k-labels-idx1-ubyte.gz\"] to \"/home/tasty/.julia/datadeps/MNIST\"?\n",
      "[y/n]\n"
     ]
    },
    {
     "name": "stdin",
     "output_type": "stream",
     "text": [
      "stdin>  y\n"
     ]
    },
    {
     "name": "stderr",
     "output_type": "stream",
     "text": [
      "┌ Info: Dataset MNIST: 60000 train and 10000 test examples\n",
      "└ @ Main In[147]:100\n",
      "┌ Info: LeNet5 model: 44426 trainable params\n",
      "└ @ Main In[147]:104\n",
      "┌ Info: TensorBoard logging at \"runs/\"\n",
      "└ @ Main In[147]:117\n",
      "┌ Info: Start Training\n",
      "└ @ Main In[147]:134\n"
     ]
    },
    {
     "name": "stdout",
     "output_type": "stream",
     "text": [
      "Epoch: 0   Train: (loss = 2.3099f0, acc = 8.9867)   Test: (loss = 2.3086f0, acc = 9.2)\n"
     ]
    },
    {
     "name": "stderr",
     "output_type": "stream",
     "text": [
      "\u001b[32mProgress: 100%|█████████████████████████████████████████| Time: 0:00:45\u001b[39m\n"
     ]
    },
    {
     "name": "stdout",
     "output_type": "stream",
     "text": [
      "Epoch: 1   Train: (loss = 0.1962f0, acc = 94.355)   Test: (loss = 0.181f0, acc = 94.64)\n"
     ]
    },
    {
     "name": "stderr",
     "output_type": "stream",
     "text": [
      "\u001b[32mProgress: 100%|█████████████████████████████████████████| Time: 0:00:34\u001b[39m\n"
     ]
    },
    {
     "name": "stdout",
     "output_type": "stream",
     "text": [
      "Epoch: 2   Train: (loss = 0.126f0, acc = 96.3683)   Test: (loss = 0.1143f0, acc = 96.5)\n"
     ]
    },
    {
     "name": "stderr",
     "output_type": "stream",
     "text": [
      "\u001b[32mProgress: 100%|█████████████████████████████████████████| Time: 0:00:35\u001b[39m\n"
     ]
    },
    {
     "name": "stdout",
     "output_type": "stream",
     "text": [
      "Epoch: 3   Train: (loss = 0.0946f0, acc = 97.1667)   Test: (loss = 0.0852f0, acc = 97.3)\n"
     ]
    },
    {
     "name": "stderr",
     "output_type": "stream",
     "text": [
      "\u001b[32mProgress: 100%|█████████████████████████████████████████| Time: 0:00:36\u001b[39m\n"
     ]
    },
    {
     "name": "stdout",
     "output_type": "stream",
     "text": [
      "Epoch: 4   Train: (loss = 0.0818f0, acc = 97.5)   Test: (loss = 0.0727f0, acc = 97.75)\n"
     ]
    },
    {
     "name": "stderr",
     "output_type": "stream",
     "text": [
      "\u001b[32mProgress: 100%|█████████████████████████████████████████| Time: 0:00:36\u001b[39m\n"
     ]
    },
    {
     "name": "stdout",
     "output_type": "stream",
     "text": [
      "Epoch: 5   Train: (loss = 0.0616f0, acc = 98.085)   Test: (loss = 0.0571f0, acc = 98.19)\n"
     ]
    },
    {
     "name": "stderr",
     "output_type": "stream",
     "text": [
      "┌ Info: Model saved in \"runs/model.bson\"\n",
      "└ @ Main In[147]:155\n",
      "\u001b[32mProgress: 100%|█████████████████████████████████████████| Time: 0:00:34\u001b[39m\n"
     ]
    },
    {
     "name": "stdout",
     "output_type": "stream",
     "text": [
      "Epoch: 6   Train: (loss = 0.0541f0, acc = 98.39)   Test: (loss = 0.0518f0, acc = 98.3)\n"
     ]
    },
    {
     "name": "stderr",
     "output_type": "stream",
     "text": [
      "\u001b[32mProgress: 100%|█████████████████████████████████████████| Time: 0:00:35\u001b[39m\n"
     ]
    },
    {
     "name": "stdout",
     "output_type": "stream",
     "text": [
      "Epoch: 7   Train: (loss = 0.0525f0, acc = 98.42)   Test: (loss = 0.0508f0, acc = 98.44)\n"
     ]
    },
    {
     "name": "stderr",
     "output_type": "stream",
     "text": [
      "\u001b[32mProgress: 100%|█████████████████████████████████████████| Time: 0:00:34\u001b[39m\n"
     ]
    },
    {
     "name": "stdout",
     "output_type": "stream",
     "text": [
      "Epoch: 8   Train: (loss = 0.0472f0, acc = 98.5583)   Test: (loss = 0.0461f0, acc = 98.41)\n"
     ]
    },
    {
     "name": "stderr",
     "output_type": "stream",
     "text": [
      "\u001b[32mProgress: 100%|█████████████████████████████████████████| Time: 0:00:34\u001b[39m\n"
     ]
    },
    {
     "name": "stdout",
     "output_type": "stream",
     "text": [
      "Epoch: 9   Train: (loss = 0.0388f0, acc = 98.8833)   Test: (loss = 0.0404f0, acc = 98.69)\n"
     ]
    },
    {
     "name": "stderr",
     "output_type": "stream",
     "text": [
      "\u001b[32mProgress: 100%|█████████████████████████████████████████| Time: 0:00:34\u001b[39m\n"
     ]
    },
    {
     "name": "stdout",
     "output_type": "stream",
     "text": [
      "Epoch: 10   Train: (loss = 0.04f0, acc = 98.8183)   Test: (loss = 0.0434f0, acc = 98.6)\n"
     ]
    },
    {
     "name": "stderr",
     "output_type": "stream",
     "text": [
      "┌ Info: Model saved in \"runs/model.bson\"\n",
      "└ @ Main In[147]:155\n"
     ]
    }
   ],
   "source": [
    "train3()"
   ]
  },
  {
   "cell_type": "code",
   "execution_count": null,
   "id": "471f65b2-6b6a-47fe-b421-f8bf4ba75ad1",
   "metadata": {},
   "outputs": [],
   "source": []
  },
  {
   "cell_type": "code",
   "execution_count": null,
   "id": "7e92ee62-b38f-4006-aee3-4cc4b1b5b6ef",
   "metadata": {},
   "outputs": [],
   "source": []
  },
  {
   "cell_type": "code",
   "execution_count": null,
   "id": "7a44829b-21d9-4a9b-b5ab-3f4cec9e89cb",
   "metadata": {},
   "outputs": [],
   "source": []
  },
  {
   "cell_type": "code",
   "execution_count": null,
   "id": "e1cbc85e-2d88-426b-a866-2223956d58bd",
   "metadata": {},
   "outputs": [],
   "source": []
  },
  {
   "cell_type": "code",
   "execution_count": null,
   "id": "dcb9d487-74a0-4a03-8c31-108f800cbb3e",
   "metadata": {},
   "outputs": [],
   "source": []
  },
  {
   "cell_type": "code",
   "execution_count": null,
   "id": "930bf250-d0c8-4b2a-b3db-d11e4f8e4b36",
   "metadata": {},
   "outputs": [],
   "source": []
  },
  {
   "cell_type": "code",
   "execution_count": null,
   "id": "a369bb75-7d05-4464-bcaf-48d37f2041f9",
   "metadata": {},
   "outputs": [],
   "source": []
  },
  {
   "cell_type": "code",
   "execution_count": null,
   "id": "8fcffa42-ad02-48f2-9a0c-690f998853e4",
   "metadata": {},
   "outputs": [],
   "source": []
  },
  {
   "cell_type": "code",
   "execution_count": null,
   "id": "b95005b9-01f2-4ca1-bef8-bbb5c35c4606",
   "metadata": {},
   "outputs": [],
   "source": []
  },
  {
   "cell_type": "code",
   "execution_count": null,
   "id": "9e4da8ea-4831-4c66-a11b-9dce37410b6a",
   "metadata": {},
   "outputs": [],
   "source": []
  }
 ],
 "metadata": {
  "kernelspec": {
   "display_name": "Julia 1.6.2",
   "language": "julia",
   "name": "julia-1.6"
  },
  "language_info": {
   "file_extension": ".jl",
   "mimetype": "application/julia",
   "name": "julia",
   "version": "1.6.2"
  }
 },
 "nbformat": 4,
 "nbformat_minor": 5
}
