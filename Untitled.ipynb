{
 "cells": [
  {
   "cell_type": "code",
   "execution_count": null,
   "metadata": {},
   "outputs": [],
   "source": []
  },
  {
   "cell_type": "code",
   "execution_count": 1,
   "metadata": {},
   "outputs": [
    {
     "name": "stdout",
     "output_type": "stream",
     "text": [
      "Hello World!"
     ]
    }
   ],
   "source": [
    "print(\"Hello World!\")"
   ]
  },
  {
   "cell_type": "code",
   "execution_count": 2,
   "metadata": {},
   "outputs": [],
   "source": [
    "import Pkg"
   ]
  },
  {
   "cell_type": "code",
   "execution_count": 33,
   "metadata": {},
   "outputs": [],
   "source": [
    "#Pkg.add(\"SQLite\")"
   ]
  },
  {
   "cell_type": "code",
   "execution_count": 34,
   "metadata": {},
   "outputs": [],
   "source": [
    "using SQLite"
   ]
  },
  {
   "cell_type": "code",
   "execution_count": 35,
   "metadata": {},
   "outputs": [
    {
     "name": "stdout",
     "output_type": "stream",
     "text": [
      "alice.svg\n",
      "animalSounds\n",
      "animations\n",
      "cloud1.svg\n",
      "countryRoadNoStopWords.svg\n",
      "countryRoad.svg\n",
      "crowdSounds\n",
      "crowdSoundsTest\n",
      "demoDB.db\n",
      "eagle.png\n",
      "figs\n",
      "fileMapStuff\n",
      "fileWAVs\n",
      "lettermask.svg\n",
      "mechanicalSounds\n",
      "mechanicalSoundsTest\n",
      "plottingJL1.ipynb\n",
      "plottingJL2.ipynb\n",
      "plottingJL3.ipynb\n",
      "plottingJL4.ipynb\n",
      "plottingJL5.ipynb\n",
      "plottingJL6-RandJL.ipynb\n",
      "plottingJL7-JLandR.ipynb\n",
      "plottingJL8audioML.ipynb\n",
      "plottingJL9-naivebayes.ipynb\n",
      "plottingJLb10-JLandPy.ipynb\n",
      "plottingJLbFluxAudio.ipynb\n",
      "plottingJLbFluxConv.ipynb\n",
      "plottingJLbFlux.ipynb\n",
      "README.md\n",
      "runs\n",
      "silhouette-bald-eagle.png\n",
      "tl_2017_12_cousub\n",
      "united_states_florida_administrative_boundaries_polygon\n",
      "Untitled.ipynb\n"
     ]
    },
    {
     "data": {
      "text/plain": [
       "Process(`\u001b[4mls\u001b[24m`, ProcessExited(0))"
      ]
     },
     "execution_count": 35,
     "metadata": {},
     "output_type": "execute_result"
    }
   ],
   "source": [
    "run(`ls `)"
   ]
  },
  {
   "cell_type": "code",
   "execution_count": 40,
   "metadata": {},
   "outputs": [],
   "source": [
    "#Pkg.add(\"Tables\")\n",
    "using Tables"
   ]
  },
  {
   "cell_type": "code",
   "execution_count": 41,
   "metadata": {},
   "outputs": [],
   "source": [
    "using DataFrames"
   ]
  },
  {
   "cell_type": "code",
   "execution_count": 37,
   "metadata": {},
   "outputs": [
    {
     "data": {
      "text/plain": [
       "SQLite.DB(\"db2.db\")"
      ]
     },
     "execution_count": 37,
     "metadata": {},
     "output_type": "execute_result"
    }
   ],
   "source": [
    "db = SQLite.DB(\"db2.db\")"
   ]
  },
  {
   "cell_type": "code",
   "execution_count": 38,
   "metadata": {},
   "outputs": [
    {
     "data": {
      "text/plain": [
       "SQLite.DB(\"db2.db\")"
      ]
     },
     "execution_count": 38,
     "metadata": {},
     "output_type": "execute_result"
    }
   ],
   "source": [
    "db"
   ]
  },
  {
   "cell_type": "code",
   "execution_count": null,
   "metadata": {},
   "outputs": [],
   "source": []
  },
  {
   "cell_type": "code",
   "execution_count": 65,
   "metadata": {},
   "outputs": [],
   "source": [
    "using SQLite\n",
    "using DataFrames\n",
    "using DBInterface, SQLite"
   ]
  },
  {
   "cell_type": "code",
   "execution_count": 67,
   "metadata": {},
   "outputs": [
    {
     "data": {
      "text/plain": [
       "SQLite.Stmt(SQLite.DB(\"db2.db\"), 17)"
      ]
     },
     "execution_count": 67,
     "metadata": {},
     "output_type": "execute_result"
    }
   ],
   "source": [
    "stmt = DBInterface.prepare(db, \"CREATE TABLE tableOne (first TEXT, last TEXT) \")"
   ]
  },
  {
   "cell_type": "code",
   "execution_count": 68,
   "metadata": {},
   "outputs": [
    {
     "data": {
      "text/plain": [
       "SQLite.Query(SQLite.Stmt(SQLite.DB(\"db2.db\"), 17), Base.RefValue{Int32}(101), Symbol[], Type[], Dict{Symbol, Int64}(), Base.RefValue{Int64}(0))"
      ]
     },
     "execution_count": 68,
     "metadata": {},
     "output_type": "execute_result"
    }
   ],
   "source": [
    "DBInterface.execute(stmt)"
   ]
  },
  {
   "cell_type": "code",
   "execution_count": 69,
   "metadata": {},
   "outputs": [
    {
     "data": {
      "text/plain": [
       "SQLite.Stmt(SQLite.DB(\"db2.db\"), 18)"
      ]
     },
     "execution_count": 69,
     "metadata": {},
     "output_type": "execute_result"
    }
   ],
   "source": [
    "stmt2 = DBInterface.prepare(db, \"INSERT INTO tableOne (first, last) VALUES (?, ?)\")"
   ]
  },
  {
   "cell_type": "code",
   "execution_count": 70,
   "metadata": {},
   "outputs": [
    {
     "data": {
      "text/plain": [
       "(first = \"alex\", last = \"manz\")"
      ]
     },
     "execution_count": 70,
     "metadata": {},
     "output_type": "execute_result"
    }
   ],
   "source": [
    "row = (first=\"alex\", last=\"manz\")"
   ]
  },
  {
   "cell_type": "code",
   "execution_count": 71,
   "metadata": {},
   "outputs": [
    {
     "data": {
      "text/plain": [
       "SQLite.Query(SQLite.Stmt(SQLite.DB(\"db2.db\"), 18), Base.RefValue{Int32}(101), Symbol[], Type[], Dict{Symbol, Int64}(), Base.RefValue{Int64}(0))"
      ]
     },
     "execution_count": 71,
     "metadata": {},
     "output_type": "execute_result"
    }
   ],
   "source": [
    "DBInterface.execute(stmt2, (row.first, row.last))"
   ]
  },
  {
   "cell_type": "code",
   "execution_count": 73,
   "metadata": {},
   "outputs": [
    {
     "data": {
      "text/plain": [
       "SQLite.Stmt(SQLite.DB(\"db2.db\"), 19)"
      ]
     },
     "execution_count": 73,
     "metadata": {},
     "output_type": "execute_result"
    }
   ],
   "source": [
    "stmt3 = DBInterface.prepare(db, \"SELECT * FROM tableOne \")"
   ]
  },
  {
   "cell_type": "code",
   "execution_count": 75,
   "metadata": {},
   "outputs": [
    {
     "data": {
      "text/plain": [
       "SQLite.Query(SQLite.Stmt(SQLite.DB(\"db2.db\"), 19), Base.RefValue{Int32}(100), [:first, :last], Type[Union{Missing, String}, Union{Missing, String}], Dict(:first => 1, :last => 2), Base.RefValue{Int64}(0))"
      ]
     },
     "execution_count": 75,
     "metadata": {},
     "output_type": "execute_result"
    }
   ],
   "source": [
    "df_tmp = DBInterface.execute(stmt3) "
   ]
  },
  {
   "cell_type": "code",
   "execution_count": 77,
   "metadata": {},
   "outputs": [
    {
     "data": {
      "text/plain": [
       "SQLite.Query"
      ]
     },
     "execution_count": 77,
     "metadata": {},
     "output_type": "execute_result"
    }
   ],
   "source": [
    "typeof(df_tmp)"
   ]
  },
  {
   "cell_type": "code",
   "execution_count": 80,
   "metadata": {},
   "outputs": [
    {
     "data": {
      "text/plain": [
       "SQLite.Query(SQLite.Stmt(SQLite.DB(\"db2.db\"), 19), Base.RefValue{Int32}(100), [:first, :last], Type[Union{Missing, String}, Union{Missing, String}], Dict(:first => 1, :last => 2), Base.RefValue{Int64}(1))"
      ]
     },
     "execution_count": 80,
     "metadata": {},
     "output_type": "execute_result"
    }
   ],
   "source": [
    "Tables.rows(df_tmp)"
   ]
  },
  {
   "cell_type": "code",
   "execution_count": 83,
   "metadata": {},
   "outputs": [
    {
     "data": {
      "text/plain": [
       "(:stmt, :status, :names, :types, :lookup, :current_rownumber)"
      ]
     },
     "execution_count": 83,
     "metadata": {},
     "output_type": "execute_result"
    }
   ],
   "source": [
    "fieldnames(typeof(df_tmp))"
   ]
  },
  {
   "cell_type": "code",
   "execution_count": 84,
   "metadata": {},
   "outputs": [
    {
     "data": {
      "text/html": [
       "4-element Vector{Method}:<ul><li> eltype(q::<b>SQLite.Query</b>) in SQLite at <a href=\"file:///home/tasty/.julia/packages/SQLite/aDggE/src/tables.jl\" target=\"_blank\">/home/tasty/.julia/packages/SQLite/aDggE/src/tables.jl:38</a><li> isempty(q::<b>SQLite.Query</b>) in SQLite at <a href=\"file:///home/tasty/.julia/packages/SQLite/aDggE/src/tables.jl\" target=\"_blank\">/home/tasty/.julia/packages/SQLite/aDggE/src/tables.jl:15</a><li> iterate(q::<b>SQLite.Query</b>) in SQLite at <a href=\"file:///home/tasty/.julia/packages/SQLite/aDggE/src/tables.jl\" target=\"_blank\">/home/tasty/.julia/packages/SQLite/aDggE/src/tables.jl:81</a><li> iterate(q::<b>SQLite.Query</b>, rownumber) in SQLite at <a href=\"file:///home/tasty/.julia/packages/SQLite/aDggE/src/tables.jl\" target=\"_blank\">/home/tasty/.julia/packages/SQLite/aDggE/src/tables.jl:87</a></ul>"
      ],
      "text/plain": [
       "[1] eltype(q::SQLite.Query) in SQLite at /home/tasty/.julia/packages/SQLite/aDggE/src/tables.jl:38\n",
       "[2] isempty(q::SQLite.Query) in SQLite at /home/tasty/.julia/packages/SQLite/aDggE/src/tables.jl:15\n",
       "[3] iterate(q::SQLite.Query) in SQLite at /home/tasty/.julia/packages/SQLite/aDggE/src/tables.jl:81\n",
       "[4] iterate(q::SQLite.Query, rownumber) in SQLite at /home/tasty/.julia/packages/SQLite/aDggE/src/tables.jl:87"
      ]
     },
     "execution_count": 84,
     "metadata": {},
     "output_type": "execute_result"
    }
   ],
   "source": [
    "methodswith(typeof(df_tmp))"
   ]
  },
  {
   "cell_type": "code",
   "execution_count": 85,
   "metadata": {},
   "outputs": [
    {
     "data": {
      "text/plain": [
       "(SQLite.Row: (first = \"alex\", last = \"manz\"), 2)"
      ]
     },
     "execution_count": 85,
     "metadata": {},
     "output_type": "execute_result"
    }
   ],
   "source": [
    "iterate(df_tmp)"
   ]
  },
  {
   "cell_type": "code",
   "execution_count": null,
   "metadata": {},
   "outputs": [],
   "source": []
  },
  {
   "cell_type": "code",
   "execution_count": 86,
   "metadata": {},
   "outputs": [
    {
     "data": {
      "text/plain": [
       "(first = \"alex2\", last = \"manz2\")"
      ]
     },
     "execution_count": 86,
     "metadata": {},
     "output_type": "execute_result"
    }
   ],
   "source": [
    "row = (first=\"alex2\", last=\"manz2\")"
   ]
  },
  {
   "cell_type": "code",
   "execution_count": 91,
   "metadata": {},
   "outputs": [
    {
     "data": {
      "text/plain": [
       "SQLite.Query(SQLite.Stmt(SQLite.DB(\"db2.db\"), 18), Base.RefValue{Int32}(101), Symbol[], Type[], Dict{Symbol, Int64}(), Base.RefValue{Int64}(0))"
      ]
     },
     "execution_count": 91,
     "metadata": {},
     "output_type": "execute_result"
    }
   ],
   "source": [
    "DBInterface.execute(stmt2, (row.first, row.last))"
   ]
  },
  {
   "cell_type": "code",
   "execution_count": 92,
   "metadata": {},
   "outputs": [
    {
     "data": {
      "text/plain": [
       "SQLite.Query(SQLite.Stmt(SQLite.DB(\"db2.db\"), 18), Base.RefValue{Int32}(101), Symbol[], Type[], Dict{Symbol, Int64}(), Base.RefValue{Int64}(0))"
      ]
     },
     "execution_count": 92,
     "metadata": {},
     "output_type": "execute_result"
    }
   ],
   "source": [
    "row = (first=\"alex3\", last=\"manz3\")\n",
    "DBInterface.execute(stmt2, (row.first, row.last))"
   ]
  },
  {
   "cell_type": "code",
   "execution_count": 93,
   "metadata": {},
   "outputs": [
    {
     "data": {
      "text/plain": [
       "SQLite.Query(SQLite.Stmt(SQLite.DB(\"db2.db\"), 19), Base.RefValue{Int32}(100), [:first, :last], Type[Union{Missing, String}, Union{Missing, String}], Dict(:first => 1, :last => 2), Base.RefValue{Int64}(0))"
      ]
     },
     "execution_count": 93,
     "metadata": {},
     "output_type": "execute_result"
    }
   ],
   "source": [
    "df_tmp = DBInterface.execute(stmt3) "
   ]
  },
  {
   "cell_type": "code",
   "execution_count": 94,
   "metadata": {},
   "outputs": [
    {
     "data": {
      "text/plain": [
       "(SQLite.Row: (first = \"alex\", last = \"manz\"), 2)"
      ]
     },
     "execution_count": 94,
     "metadata": {},
     "output_type": "execute_result"
    }
   ],
   "source": [
    "iterate(df_tmp)"
   ]
  },
  {
   "cell_type": "code",
   "execution_count": null,
   "metadata": {},
   "outputs": [],
   "source": []
  },
  {
   "cell_type": "code",
   "execution_count": null,
   "metadata": {},
   "outputs": [],
   "source": []
  },
  {
   "cell_type": "code",
   "execution_count": null,
   "metadata": {},
   "outputs": [],
   "source": []
  },
  {
   "cell_type": "code",
   "execution_count": null,
   "metadata": {},
   "outputs": [],
   "source": []
  },
  {
   "cell_type": "code",
   "execution_count": null,
   "metadata": {},
   "outputs": [],
   "source": []
  },
  {
   "cell_type": "code",
   "execution_count": null,
   "metadata": {},
   "outputs": [],
   "source": []
  }
 ],
 "metadata": {
  "kernelspec": {
   "display_name": "Julia 1.8.2",
   "language": "julia",
   "name": "julia-1.8"
  },
  "language_info": {
   "file_extension": ".jl",
   "mimetype": "application/julia",
   "name": "julia",
   "version": "1.8.2"
  }
 },
 "nbformat": 4,
 "nbformat_minor": 5
}
