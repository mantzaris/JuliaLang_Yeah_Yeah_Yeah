{
 "cells": [
  {
   "cell_type": "code",
   "execution_count": 22,
   "metadata": {},
   "outputs": [],
   "source": [
    "# (@v1.5) pkg> add Flux@v0.12.2"
   ]
  },
  {
   "cell_type": "code",
   "execution_count": 23,
   "metadata": {},
   "outputs": [],
   "source": [
    "using Flux, Images, MLDatasets, Plots\n",
    "using Flux: crossentropy, onecold, onehotbatch, train!\n",
    "using LinearAlgebra, Random, Statistics"
   ]
  },
  {
   "cell_type": "code",
   "execution_count": 99,
   "metadata": {},
   "outputs": [],
   "source": [
    "using Flux.Losses: logitcrossentropy"
   ]
  },
  {
   "cell_type": "code",
   "execution_count": 24,
   "metadata": {},
   "outputs": [
    {
     "data": {
      "text/plain": [
       "12×2 Array{Int8,2}:\n",
       "   49   -67\n",
       "   47   -54\n",
       "  105    -8\n",
       "  102  -127\n",
       "  -94  -102\n",
       "  -70    89\n",
       "   84   -79\n",
       "   49   114\n",
       "   -1  -104\n",
       " -121  -120\n",
       "  -70   -80\n",
       "   71   -98"
      ]
     },
     "execution_count": 24,
     "metadata": {},
     "output_type": "execute_result"
    }
   ],
   "source": [
    "r = rand(Int8, 3,4,2);\n",
    "Flux.flatten(r)"
   ]
  },
  {
   "cell_type": "code",
   "execution_count": null,
   "metadata": {},
   "outputs": [],
   "source": []
  },
  {
   "cell_type": "code",
   "execution_count": 25,
   "metadata": {},
   "outputs": [
    {
     "data": {
      "text/plain": [
       "(Float32[0.0 0.0 … 0.0 0.0; 0.0 0.0 … 0.0 0.0; … ; 0.0 0.0 … 0.0 0.0; 0.0 0.0 … 0.0 0.0]\n",
       "\n",
       "Float32[0.0 0.0 … 0.0 0.0; 0.0 0.0 … 0.0 0.0; … ; 0.0 0.0 … 0.0 0.0; 0.0 0.0 … 0.0 0.0]\n",
       "\n",
       "Float32[0.0 0.0 … 0.0 0.0; 0.0 0.0 … 0.0 0.0; … ; 0.0 0.0 … 0.0 0.0; 0.0 0.0 … 0.0 0.0]\n",
       "\n",
       "...\n",
       "\n",
       "Float32[0.0 0.0 … 0.0 0.0; 0.0 0.0 … 0.0 0.0; … ; 0.0 0.0 … 0.0 0.0; 0.0 0.0 … 0.0 0.0]\n",
       "\n",
       "Float32[0.0 0.0 … 0.0 0.0; 0.0 0.0 … 0.0 0.0; … ; 0.0 0.0 … 0.0 0.0; 0.0 0.0 … 0.0 0.0]\n",
       "\n",
       "Float32[0.0 0.0 … 0.0 0.0; 0.0 0.0 … 0.0 0.0; … ; 0.0 0.0 … 0.0 0.0; 0.0 0.0 … 0.0 0.0], [7, 2, 1, 0, 4, 1, 4, 9, 5, 9  …  7, 8, 9, 0, 1, 2, 3, 4, 5, 6])"
      ]
     },
     "execution_count": 25,
     "metadata": {},
     "output_type": "execute_result"
    }
   ],
   "source": [
    "X_train_raw, y_train_raw = MLDatasets.MNIST.traindata(Float32)\n",
    "X_test_raw, y_test_raw = MLDatasets.MNIST.testdata(Float32)"
   ]
  },
  {
   "cell_type": "code",
   "execution_count": 26,
   "metadata": {},
   "outputs": [
    {
     "data": {
      "text/plain": [
       "28×28 Array{Float32,2}:\n",
       " 0.0  0.0  0.0  0.0  0.0  0.0        …  0.0       0.0        0.0  0.0  0.0\n",
       " 0.0  0.0  0.0  0.0  0.0  0.0           0.0       0.0        0.0  0.0  0.0\n",
       " 0.0  0.0  0.0  0.0  0.0  0.0           0.0       0.0        0.0  0.0  0.0\n",
       " 0.0  0.0  0.0  0.0  0.0  0.0           0.0       0.0        0.0  0.0  0.0\n",
       " 0.0  0.0  0.0  0.0  0.0  0.0           0.215686  0.533333   0.0  0.0  0.0\n",
       " 0.0  0.0  0.0  0.0  0.0  0.0        …  0.67451   0.992157   0.0  0.0  0.0\n",
       " 0.0  0.0  0.0  0.0  0.0  0.0           0.886275  0.992157   0.0  0.0  0.0\n",
       " 0.0  0.0  0.0  0.0  0.0  0.0           0.992157  0.992157   0.0  0.0  0.0\n",
       " 0.0  0.0  0.0  0.0  0.0  0.0           0.992157  0.831373   0.0  0.0  0.0\n",
       " 0.0  0.0  0.0  0.0  0.0  0.0           0.992157  0.529412   0.0  0.0  0.0\n",
       " 0.0  0.0  0.0  0.0  0.0  0.0        …  0.992157  0.517647   0.0  0.0  0.0\n",
       " 0.0  0.0  0.0  0.0  0.0  0.0           0.956863  0.0627451  0.0  0.0  0.0\n",
       " 0.0  0.0  0.0  0.0  0.0  0.0117647     0.521569  0.0        0.0  0.0  0.0\n",
       " ⋮                        ⋮          ⋱                       ⋮         \n",
       " 0.0  0.0  0.0  0.0  0.0  0.494118      0.0       0.0        0.0  0.0  0.0\n",
       " 0.0  0.0  0.0  0.0  0.0  0.533333      0.0       0.0        0.0  0.0  0.0\n",
       " 0.0  0.0  0.0  0.0  0.0  0.686275      0.0       0.0        0.0  0.0  0.0\n",
       " 0.0  0.0  0.0  0.0  0.0  0.101961      0.0       0.0        0.0  0.0  0.0\n",
       " 0.0  0.0  0.0  0.0  0.0  0.65098    …  0.0       0.0        0.0  0.0  0.0\n",
       " 0.0  0.0  0.0  0.0  0.0  1.0           0.0       0.0        0.0  0.0  0.0\n",
       " 0.0  0.0  0.0  0.0  0.0  0.968627      0.0       0.0        0.0  0.0  0.0\n",
       " 0.0  0.0  0.0  0.0  0.0  0.498039      0.0       0.0        0.0  0.0  0.0\n",
       " 0.0  0.0  0.0  0.0  0.0  0.0           0.0       0.0        0.0  0.0  0.0\n",
       " 0.0  0.0  0.0  0.0  0.0  0.0        …  0.0       0.0        0.0  0.0  0.0\n",
       " 0.0  0.0  0.0  0.0  0.0  0.0           0.0       0.0        0.0  0.0  0.0\n",
       " 0.0  0.0  0.0  0.0  0.0  0.0           0.0       0.0        0.0  0.0  0.0"
      ]
     },
     "execution_count": 26,
     "metadata": {},
     "output_type": "execute_result"
    }
   ],
   "source": [
    "index = 1\n",
    "img = X_train_raw[:, :, index]"
   ]
  },
  {
   "cell_type": "code",
   "execution_count": 27,
   "metadata": {},
   "outputs": [
    {
     "data": {
      "image/png": "[encoded data removed]",
      "text/plain": [
       "28×28 reinterpret(Gray{Float32}, ::Adjoint{Float32,Array{Float32,2}}):\n",
       " Gray{Float32}(0.0)  Gray{Float32}(0.0)  …  Gray{Float32}(0.0)\n",
       " Gray{Float32}(0.0)  Gray{Float32}(0.0)     Gray{Float32}(0.0)\n",
       " Gray{Float32}(0.0)  Gray{Float32}(0.0)     Gray{Float32}(0.0)\n",
       " Gray{Float32}(0.0)  Gray{Float32}(0.0)     Gray{Float32}(0.0)\n",
       " Gray{Float32}(0.0)  Gray{Float32}(0.0)     Gray{Float32}(0.0)\n",
       " Gray{Float32}(0.0)  Gray{Float32}(0.0)  …  Gray{Float32}(0.0)\n",
       " Gray{Float32}(0.0)  Gray{Float32}(0.0)     Gray{Float32}(0.0)\n",
       " Gray{Float32}(0.0)  Gray{Float32}(0.0)     Gray{Float32}(0.0)\n",
       " Gray{Float32}(0.0)  Gray{Float32}(0.0)     Gray{Float32}(0.0)\n",
       " Gray{Float32}(0.0)  Gray{Float32}(0.0)     Gray{Float32}(0.0)\n",
       " Gray{Float32}(0.0)  Gray{Float32}(0.0)  …  Gray{Float32}(0.0)\n",
       " Gray{Float32}(0.0)  Gray{Float32}(0.0)     Gray{Float32}(0.0)\n",
       " Gray{Float32}(0.0)  Gray{Float32}(0.0)     Gray{Float32}(0.0)\n",
       " ⋮                                       ⋱  \n",
       " Gray{Float32}(0.0)  Gray{Float32}(0.0)     Gray{Float32}(0.0)\n",
       " Gray{Float32}(0.0)  Gray{Float32}(0.0)     Gray{Float32}(0.0)\n",
       " Gray{Float32}(0.0)  Gray{Float32}(0.0)     Gray{Float32}(0.0)\n",
       " Gray{Float32}(0.0)  Gray{Float32}(0.0)     Gray{Float32}(0.0)\n",
       " Gray{Float32}(0.0)  Gray{Float32}(0.0)  …  Gray{Float32}(0.0)\n",
       " Gray{Float32}(0.0)  Gray{Float32}(0.0)     Gray{Float32}(0.0)\n",
       " Gray{Float32}(0.0)  Gray{Float32}(0.0)     Gray{Float32}(0.0)\n",
       " Gray{Float32}(0.0)  Gray{Float32}(0.0)     Gray{Float32}(0.0)\n",
       " Gray{Float32}(0.0)  Gray{Float32}(0.0)     Gray{Float32}(0.0)\n",
       " Gray{Float32}(0.0)  Gray{Float32}(0.0)  …  Gray{Float32}(0.0)\n",
       " Gray{Float32}(0.0)  Gray{Float32}(0.0)     Gray{Float32}(0.0)\n",
       " Gray{Float32}(0.0)  Gray{Float32}(0.0)     Gray{Float32}(0.0)"
      ]
     },
     "execution_count": 27,
     "metadata": {},
     "output_type": "execute_result"
    }
   ],
   "source": [
    "colorview(Gray, img')"
   ]
  },
  {
   "cell_type": "code",
   "execution_count": 28,
   "metadata": {},
   "outputs": [
    {
     "data": {
      "text/plain": [
       "5"
      ]
     },
     "execution_count": 28,
     "metadata": {},
     "output_type": "execute_result"
    }
   ],
   "source": [
    "y_train_raw\n",
    "y_train_raw[index]"
   ]
  },
  {
   "cell_type": "code",
   "execution_count": 29,
   "metadata": {},
   "outputs": [
    {
     "data": {
      "image/png": "[encoded data removed]",
      "text/plain": [
       "28×28 reinterpret(Gray{Float32}, ::Adjoint{Float32,Array{Float32,2}}):\n",
       " Gray{Float32}(0.0)  Gray{Float32}(0.0)  …  Gray{Float32}(0.0)\n",
       " Gray{Float32}(0.0)  Gray{Float32}(0.0)     Gray{Float32}(0.0)\n",
       " Gray{Float32}(0.0)  Gray{Float32}(0.0)     Gray{Float32}(0.0)\n",
       " Gray{Float32}(0.0)  Gray{Float32}(0.0)     Gray{Float32}(0.0)\n",
       " Gray{Float32}(0.0)  Gray{Float32}(0.0)     Gray{Float32}(0.0)\n",
       " Gray{Float32}(0.0)  Gray{Float32}(0.0)  …  Gray{Float32}(0.0)\n",
       " Gray{Float32}(0.0)  Gray{Float32}(0.0)     Gray{Float32}(0.0)\n",
       " Gray{Float32}(0.0)  Gray{Float32}(0.0)     Gray{Float32}(0.0)\n",
       " Gray{Float32}(0.0)  Gray{Float32}(0.0)     Gray{Float32}(0.0)\n",
       " Gray{Float32}(0.0)  Gray{Float32}(0.0)     Gray{Float32}(0.0)\n",
       " Gray{Float32}(0.0)  Gray{Float32}(0.0)  …  Gray{Float32}(0.0)\n",
       " Gray{Float32}(0.0)  Gray{Float32}(0.0)     Gray{Float32}(0.0)\n",
       " Gray{Float32}(0.0)  Gray{Float32}(0.0)     Gray{Float32}(0.0)\n",
       " ⋮                                       ⋱  \n",
       " Gray{Float32}(0.0)  Gray{Float32}(0.0)     Gray{Float32}(0.0)\n",
       " Gray{Float32}(0.0)  Gray{Float32}(0.0)     Gray{Float32}(0.0)\n",
       " Gray{Float32}(0.0)  Gray{Float32}(0.0)     Gray{Float32}(0.0)\n",
       " Gray{Float32}(0.0)  Gray{Float32}(0.0)     Gray{Float32}(0.0)\n",
       " Gray{Float32}(0.0)  Gray{Float32}(0.0)  …  Gray{Float32}(0.0)\n",
       " Gray{Float32}(0.0)  Gray{Float32}(0.0)     Gray{Float32}(0.0)\n",
       " Gray{Float32}(0.0)  Gray{Float32}(0.0)     Gray{Float32}(0.0)\n",
       " Gray{Float32}(0.0)  Gray{Float32}(0.0)     Gray{Float32}(0.0)\n",
       " Gray{Float32}(0.0)  Gray{Float32}(0.0)     Gray{Float32}(0.0)\n",
       " Gray{Float32}(0.0)  Gray{Float32}(0.0)  …  Gray{Float32}(0.0)\n",
       " Gray{Float32}(0.0)  Gray{Float32}(0.0)     Gray{Float32}(0.0)\n",
       " Gray{Float32}(0.0)  Gray{Float32}(0.0)     Gray{Float32}(0.0)"
      ]
     },
     "execution_count": 29,
     "metadata": {},
     "output_type": "execute_result"
    }
   ],
   "source": [
    "X_test_raw\n",
    "img = X_test_raw[:, :, index]\n",
    "colorview(Gray, img')"
   ]
  },
  {
   "cell_type": "code",
   "execution_count": 30,
   "metadata": {},
   "outputs": [
    {
     "data": {
      "text/plain": [
       "7"
      ]
     },
     "execution_count": 30,
     "metadata": {},
     "output_type": "execute_result"
    }
   ],
   "source": [
    "y_test_raw\n",
    "y_test_raw[index]"
   ]
  },
  {
   "cell_type": "code",
   "execution_count": 31,
   "metadata": {},
   "outputs": [
    {
     "data": {
      "text/plain": [
       "784×10000 Array{Float32,2}:\n",
       " 0.0  0.0  0.0  0.0  0.0  0.0  0.0  0.0  …  0.0  0.0  0.0  0.0  0.0  0.0  0.0\n",
       " 0.0  0.0  0.0  0.0  0.0  0.0  0.0  0.0     0.0  0.0  0.0  0.0  0.0  0.0  0.0\n",
       " 0.0  0.0  0.0  0.0  0.0  0.0  0.0  0.0     0.0  0.0  0.0  0.0  0.0  0.0  0.0\n",
       " 0.0  0.0  0.0  0.0  0.0  0.0  0.0  0.0     0.0  0.0  0.0  0.0  0.0  0.0  0.0\n",
       " 0.0  0.0  0.0  0.0  0.0  0.0  0.0  0.0     0.0  0.0  0.0  0.0  0.0  0.0  0.0\n",
       " 0.0  0.0  0.0  0.0  0.0  0.0  0.0  0.0  …  0.0  0.0  0.0  0.0  0.0  0.0  0.0\n",
       " 0.0  0.0  0.0  0.0  0.0  0.0  0.0  0.0     0.0  0.0  0.0  0.0  0.0  0.0  0.0\n",
       " 0.0  0.0  0.0  0.0  0.0  0.0  0.0  0.0     0.0  0.0  0.0  0.0  0.0  0.0  0.0\n",
       " 0.0  0.0  0.0  0.0  0.0  0.0  0.0  0.0     0.0  0.0  0.0  0.0  0.0  0.0  0.0\n",
       " 0.0  0.0  0.0  0.0  0.0  0.0  0.0  0.0     0.0  0.0  0.0  0.0  0.0  0.0  0.0\n",
       " 0.0  0.0  0.0  0.0  0.0  0.0  0.0  0.0  …  0.0  0.0  0.0  0.0  0.0  0.0  0.0\n",
       " 0.0  0.0  0.0  0.0  0.0  0.0  0.0  0.0     0.0  0.0  0.0  0.0  0.0  0.0  0.0\n",
       " 0.0  0.0  0.0  0.0  0.0  0.0  0.0  0.0     0.0  0.0  0.0  0.0  0.0  0.0  0.0\n",
       " ⋮                        ⋮              ⋱            ⋮                   \n",
       " 0.0  0.0  0.0  0.0  0.0  0.0  0.0  0.0     0.0  0.0  0.0  0.0  0.0  0.0  0.0\n",
       " 0.0  0.0  0.0  0.0  0.0  0.0  0.0  0.0     0.0  0.0  0.0  0.0  0.0  0.0  0.0\n",
       " 0.0  0.0  0.0  0.0  0.0  0.0  0.0  0.0     0.0  0.0  0.0  0.0  0.0  0.0  0.0\n",
       " 0.0  0.0  0.0  0.0  0.0  0.0  0.0  0.0  …  0.0  0.0  0.0  0.0  0.0  0.0  0.0\n",
       " 0.0  0.0  0.0  0.0  0.0  0.0  0.0  0.0     0.0  0.0  0.0  0.0  0.0  0.0  0.0\n",
       " 0.0  0.0  0.0  0.0  0.0  0.0  0.0  0.0     0.0  0.0  0.0  0.0  0.0  0.0  0.0\n",
       " 0.0  0.0  0.0  0.0  0.0  0.0  0.0  0.0     0.0  0.0  0.0  0.0  0.0  0.0  0.0\n",
       " 0.0  0.0  0.0  0.0  0.0  0.0  0.0  0.0     0.0  0.0  0.0  0.0  0.0  0.0  0.0\n",
       " 0.0  0.0  0.0  0.0  0.0  0.0  0.0  0.0  …  0.0  0.0  0.0  0.0  0.0  0.0  0.0\n",
       " 0.0  0.0  0.0  0.0  0.0  0.0  0.0  0.0     0.0  0.0  0.0  0.0  0.0  0.0  0.0\n",
       " 0.0  0.0  0.0  0.0  0.0  0.0  0.0  0.0     0.0  0.0  0.0  0.0  0.0  0.0  0.0\n",
       " 0.0  0.0  0.0  0.0  0.0  0.0  0.0  0.0     0.0  0.0  0.0  0.0  0.0  0.0  0.0"
      ]
     },
     "execution_count": 31,
     "metadata": {},
     "output_type": "execute_result"
    }
   ],
   "source": [
    "X_train = Flux.flatten(X_train_raw)\n",
    "X_test = Flux.flatten(X_test_raw)"
   ]
  },
  {
   "cell_type": "code",
   "execution_count": 32,
   "metadata": {},
   "outputs": [],
   "source": [
    "y_train = onehotbatch(y_train_raw, 0:9)\n",
    "y_test = onehotbatch(y_test_raw, 0:9);"
   ]
  },
  {
   "cell_type": "code",
   "execution_count": null,
   "metadata": {},
   "outputs": [],
   "source": []
  },
  {
   "cell_type": "code",
   "execution_count": 33,
   "metadata": {},
   "outputs": [
    {
     "data": {
      "text/plain": [
       "Chain(Dense(784, 32, relu), Dense(32, 10), softmax)"
      ]
     },
     "execution_count": 33,
     "metadata": {},
     "output_type": "execute_result"
    }
   ],
   "source": [
    "# model architecture proposed/defined\n",
    "model = Chain(\n",
    "    Dense(28 * 28, 32, relu),\n",
    "    Dense(32, 10),\n",
    "    softmax\n",
    ")"
   ]
  },
  {
   "cell_type": "code",
   "execution_count": 34,
   "metadata": {},
   "outputs": [
    {
     "data": {
      "text/plain": [
       "loss (generic function with 1 method)"
      ]
     },
     "execution_count": 34,
     "metadata": {},
     "output_type": "execute_result"
    }
   ],
   "source": [
    "# define loss function\n",
    "loss(x, y) = crossentropy(model(x), y)"
   ]
  },
  {
   "cell_type": "code",
   "execution_count": null,
   "metadata": {},
   "outputs": [],
   "source": []
  },
  {
   "cell_type": "code",
   "execution_count": 36,
   "metadata": {},
   "outputs": [
    {
     "data": {
      "text/plain": [
       "Params([Float32[-0.08493947 -0.019155134 … -0.074220344 -0.045250878; 0.014019013 -0.0713601 … -0.032250006 -0.07874289; … ; 0.06285887 0.069193885 … -0.030540891 0.018342374; 0.07480435 0.056061946 … -0.031309124 0.04253288], Float32[0.0, 0.0, 0.0, 0.0, 0.0, 0.0, 0.0, 0.0, 0.0, 0.0  …  0.0, 0.0, 0.0, 0.0, 0.0, 0.0, 0.0, 0.0, 0.0, 0.0], Float32[-0.20388281 0.08625544 … 0.24114476 -0.15277174; -0.2518291 0.23824814 … 0.12989771 -0.03724978; … ; -0.14088014 -0.25729135 … 0.111247495 -0.29017195; 0.19009541 0.05518359 … -0.13898505 0.03264794], Float32[0.0, 0.0, 0.0, 0.0, 0.0, 0.0, 0.0, 0.0, 0.0, 0.0]])"
      ]
     },
     "execution_count": 36,
     "metadata": {},
     "output_type": "execute_result"
    }
   ],
   "source": [
    "ps = params(model)"
   ]
  },
  {
   "cell_type": "code",
   "execution_count": 37,
   "metadata": {},
   "outputs": [
    {
     "data": {
      "text/plain": [
       "ADAM(0.01, (0.9, 0.999), IdDict{Any,Any}())"
      ]
     },
     "execution_count": 37,
     "metadata": {},
     "output_type": "execute_result"
    }
   ],
   "source": [
    "learning_rate = 0.01\n",
    "opt = ADAM(learning_rate)"
   ]
  },
  {
   "cell_type": "code",
   "execution_count": 39,
   "metadata": {},
   "outputs": [
    {
     "name": "stdout",
     "output_type": "stream",
     "text": [
      "Epoch = 1 : Training Loss = 0.039923046\n",
      "Epoch = 2 : Training Loss = 0.039828427\n",
      "Epoch = 3 : Training Loss = 0.039629765\n",
      "Epoch = 4 : Training Loss = 0.039438467\n",
      "Epoch = 5 : Training Loss = 0.03921016\n",
      "Epoch = 6 : Training Loss = 0.039036643\n",
      "Epoch = 7 : Training Loss = 0.03889132\n",
      "Epoch = 8 : Training Loss = 0.03880948\n",
      "Epoch = 9 : Training Loss = 0.038777534\n",
      "Epoch = 10 : Training Loss = 0.038718946\n",
      "Epoch = 11 : Training Loss = 0.038700115\n",
      "Epoch = 12 : Training Loss = 0.038628157\n",
      "Epoch = 13 : Training Loss = 0.038521156\n",
      "Epoch = 14 : Training Loss = 0.038305853\n",
      "Epoch = 15 : Training Loss = 0.03809795\n",
      "Epoch = 16 : Training Loss = 0.03793491\n",
      "Epoch = 17 : Training Loss = 0.037826378\n",
      "Epoch = 18 : Training Loss = 0.03772157\n",
      "Epoch = 19 : Training Loss = 0.037621547\n",
      "Epoch = 20 : Training Loss = 0.037558727\n",
      "Epoch = 21 : Training Loss = 0.03747565\n",
      "Epoch = 22 : Training Loss = 0.037399318\n",
      "Epoch = 23 : Training Loss = 0.037298404\n",
      "Epoch = 24 : Training Loss = 0.037184548\n",
      "Epoch = 25 : Training Loss = 0.037086118\n",
      "Epoch = 26 : Training Loss = 0.03702042\n",
      "Epoch = 27 : Training Loss = 0.036905326\n",
      "Epoch = 28 : Training Loss = 0.03677202\n",
      "Epoch = 29 : Training Loss = 0.036602758\n",
      "Epoch = 30 : Training Loss = 0.03649165\n",
      "Epoch = 31 : Training Loss = 0.036398236\n",
      "Epoch = 32 : Training Loss = 0.036266692\n",
      "Epoch = 33 : Training Loss = 0.03613215\n",
      "Epoch = 34 : Training Loss = 0.036025465\n",
      "Epoch = 35 : Training Loss = 0.035929587\n",
      "Epoch = 36 : Training Loss = 0.035844497\n",
      "Epoch = 37 : Training Loss = 0.03574597\n",
      "Epoch = 38 : Training Loss = 0.03562931\n",
      "Epoch = 39 : Training Loss = 0.035529733\n",
      "Epoch = 40 : Training Loss = 0.03548897\n",
      "Epoch = 41 : Training Loss = 0.03551337\n",
      "Epoch = 42 : Training Loss = 0.03552474\n",
      "Epoch = 43 : Training Loss = 0.035586447\n",
      "Epoch = 44 : Training Loss = 0.035489008\n",
      "Epoch = 45 : Training Loss = 0.035379276\n",
      "Epoch = 46 : Training Loss = 0.03512023\n",
      "Epoch = 47 : Training Loss = 0.034841903\n",
      "Epoch = 48 : Training Loss = 0.03463642\n",
      "Epoch = 49 : Training Loss = 0.034524087\n",
      "Epoch = 50 : Training Loss = 0.034515854\n"
     ]
    }
   ],
   "source": [
    "loss_history = []\n",
    "epochs = 50\n",
    "\n",
    "for epoch in 1:epochs\n",
    "    # train model\n",
    "    train!(loss, ps, [(X_train, y_train)], opt)\n",
    "    # print report\n",
    "    train_loss = loss(X_train, y_train)\n",
    "    push!(loss_history, train_loss)\n",
    "    println(\"Epoch = $epoch : Training Loss = $train_loss\")\n",
    "end"
   ]
  },
  {
   "cell_type": "code",
   "execution_count": 40,
   "metadata": {},
   "outputs": [
    {
     "data": {
      "text/plain": [
       "0.9616"
      ]
     },
     "execution_count": 40,
     "metadata": {},
     "output_type": "execute_result"
    }
   ],
   "source": [
    "y_hat_raw = model(X_test)\n",
    "y_hat = onecold(y_hat_raw) .- 1\n",
    "y = y_test_raw\n",
    "mean(y_hat .== y)"
   ]
  },
  {
   "cell_type": "code",
   "execution_count": 42,
   "metadata": {},
   "outputs": [
    {
     "data": {
      "image/svg+xml": [
       "<?xml version=\"1.0\" encoding=\"utf-8\"?>\n",
       "<svg xmlns=\"http://www.w3.org/2000/svg\" xmlns:xlink=\"http://www.w3.org/1999/xlink\" width=\"600\" height=\"400\" viewBox=\"0 0 2400 1600\">\n",
       "<defs>\n",
       "  <clipPath id=\"clip880\">\n",
       "    <rect x=\"0\" y=\"0\" width=\"2400\" height=\"1600\"/>\n",
       "  </clipPath>\n",
       "</defs>\n",
       "<path clip-path=\"url(#clip880)\" d=\"\n",
       "M0 1600 L2400 1600 L2400 0 L0 0  Z\n",
       "  \" fill=\"#ffffff\" fill-rule=\"evenodd\" fill-opacity=\"1\"/>\n",
       "<defs>\n",
       "  <clipPath id=\"clip881\">\n",
       "    <rect x=\"480\" y=\"0\" width=\"1681\" height=\"1600\"/>\n",
       "  </clipPath>\n",
       "</defs>\n",
       "<path clip-path=\"url(#clip880)\" d=\"\n",
       "M279.866 1423.18 L2352.76 1423.18 L2352.76 123.472 L279.866 123.472  Z\n",
       "  \" fill=\"#ffffff\" fill-rule=\"evenodd\" fill-opacity=\"1\"/>\n",
       "<defs>\n",
       "  <clipPath id=\"clip882\">\n",
       "    <rect x=\"279\" y=\"123\" width=\"2074\" height=\"1301\"/>\n",
       "  </clipPath>\n",
       "</defs>\n",
       "<polyline clip-path=\"url(#clip882)\" style=\"stroke:#000000; stroke-linecap:butt; stroke-linejoin:round; stroke-width:2; stroke-opacity:0.1; fill:none\" points=\"\n",
       "  298.623,1423.18 298.623,123.472 \n",
       "  \"/>\n",
       "<polyline clip-path=\"url(#clip882)\" style=\"stroke:#000000; stroke-linecap:butt; stroke-linejoin:round; stroke-width:2; stroke-opacity:0.1; fill:none\" points=\"\n",
       "  697.717,1423.18 697.717,123.472 \n",
       "  \"/>\n",
       "<polyline clip-path=\"url(#clip882)\" style=\"stroke:#000000; stroke-linecap:butt; stroke-linejoin:round; stroke-width:2; stroke-opacity:0.1; fill:none\" points=\"\n",
       "  1096.81,1423.18 1096.81,123.472 \n",
       "  \"/>\n",
       "<polyline clip-path=\"url(#clip882)\" style=\"stroke:#000000; stroke-linecap:butt; stroke-linejoin:round; stroke-width:2; stroke-opacity:0.1; fill:none\" points=\"\n",
       "  1495.9,1423.18 1495.9,123.472 \n",
       "  \"/>\n",
       "<polyline clip-path=\"url(#clip882)\" style=\"stroke:#000000; stroke-linecap:butt; stroke-linejoin:round; stroke-width:2; stroke-opacity:0.1; fill:none\" points=\"\n",
       "  1895,1423.18 1895,123.472 \n",
       "  \"/>\n",
       "<polyline clip-path=\"url(#clip882)\" style=\"stroke:#000000; stroke-linecap:butt; stroke-linejoin:round; stroke-width:2; stroke-opacity:0.1; fill:none\" points=\"\n",
       "  2294.09,1423.18 2294.09,123.472 \n",
       "  \"/>\n",
       "<polyline clip-path=\"url(#clip880)\" style=\"stroke:#000000; stroke-linecap:butt; stroke-linejoin:round; stroke-width:4; stroke-opacity:1; fill:none\" points=\"\n",
       "  279.866,1423.18 2352.76,1423.18 \n",
       "  \"/>\n",
       "<polyline clip-path=\"url(#clip880)\" style=\"stroke:#000000; stroke-linecap:butt; stroke-linejoin:round; stroke-width:4; stroke-opacity:1; fill:none\" points=\"\n",
       "  298.623,1423.18 298.623,1404.28 \n",
       "  \"/>\n",
       "<polyline clip-path=\"url(#clip880)\" style=\"stroke:#000000; stroke-linecap:butt; stroke-linejoin:round; stroke-width:4; stroke-opacity:1; fill:none\" points=\"\n",
       "  697.717,1423.18 697.717,1404.28 \n",
       "  \"/>\n",
       "<polyline clip-path=\"url(#clip880)\" style=\"stroke:#000000; stroke-linecap:butt; stroke-linejoin:round; stroke-width:4; stroke-opacity:1; fill:none\" points=\"\n",
       "  1096.81,1423.18 1096.81,1404.28 \n",
       "  \"/>\n",
       "<polyline clip-path=\"url(#clip880)\" style=\"stroke:#000000; stroke-linecap:butt; stroke-linejoin:round; stroke-width:4; stroke-opacity:1; fill:none\" points=\"\n",
       "  1495.9,1423.18 1495.9,1404.28 \n",
       "  \"/>\n",
       "<polyline clip-path=\"url(#clip880)\" style=\"stroke:#000000; stroke-linecap:butt; stroke-linejoin:round; stroke-width:4; stroke-opacity:1; fill:none\" points=\"\n",
       "  1895,1423.18 1895,1404.28 \n",
       "  \"/>\n",
       "<polyline clip-path=\"url(#clip880)\" style=\"stroke:#000000; stroke-linecap:butt; stroke-linejoin:round; stroke-width:4; stroke-opacity:1; fill:none\" points=\"\n",
       "  2294.09,1423.18 2294.09,1404.28 \n",
       "  \"/>\n",
       "<path clip-path=\"url(#clip880)\" d=\"M298.623 1454.1 Q295.012 1454.1 293.184 1457.66 Q291.378 1461.2 291.378 1468.33 Q291.378 1475.44 293.184 1479.01 Q295.012 1482.55 298.623 1482.55 Q302.258 1482.55 304.063 1479.01 Q305.892 1475.44 305.892 1468.33 Q305.892 1461.2 304.063 1457.66 Q302.258 1454.1 298.623 1454.1 M298.623 1450.39 Q304.433 1450.39 307.489 1455 Q310.568 1459.58 310.568 1468.33 Q310.568 1477.06 307.489 1481.67 Q304.433 1486.25 298.623 1486.25 Q292.813 1486.25 289.734 1481.67 Q286.679 1477.06 286.679 1468.33 Q286.679 1459.58 289.734 1455 Q292.813 1450.39 298.623 1450.39 Z\" fill=\"#000000\" fill-rule=\"evenodd\" fill-opacity=\"1\" /><path clip-path=\"url(#clip880)\" d=\"M672.404 1481.64 L680.043 1481.64 L680.043 1455.28 L671.733 1456.95 L671.733 1452.69 L679.997 1451.02 L684.673 1451.02 L684.673 1481.64 L692.311 1481.64 L692.311 1485.58 L672.404 1485.58 L672.404 1481.64 Z\" fill=\"#000000\" fill-rule=\"evenodd\" fill-opacity=\"1\" /><path clip-path=\"url(#clip880)\" d=\"M711.756 1454.1 Q708.145 1454.1 706.316 1457.66 Q704.51 1461.2 704.51 1468.33 Q704.51 1475.44 706.316 1479.01 Q708.145 1482.55 711.756 1482.55 Q715.39 1482.55 717.196 1479.01 Q719.024 1475.44 719.024 1468.33 Q719.024 1461.2 717.196 1457.66 Q715.39 1454.1 711.756 1454.1 M711.756 1450.39 Q717.566 1450.39 720.621 1455 Q723.7 1459.58 723.7 1468.33 Q723.7 1477.06 720.621 1481.67 Q717.566 1486.25 711.756 1486.25 Q705.946 1486.25 702.867 1481.67 Q699.811 1477.06 699.811 1468.33 Q699.811 1459.58 702.867 1455 Q705.946 1450.39 711.756 1450.39 Z\" fill=\"#000000\" fill-rule=\"evenodd\" fill-opacity=\"1\" /><path clip-path=\"url(#clip880)\" d=\"M1075.58 1481.64 L1091.9 1481.64 L1091.9 1485.58 L1069.96 1485.58 L1069.96 1481.64 Q1072.62 1478.89 1077.2 1474.26 Q1081.81 1469.61 1082.99 1468.27 Q1085.24 1465.74 1086.12 1464.01 Q1087.02 1462.25 1087.02 1460.56 Q1087.02 1457.8 1085.07 1456.07 Q1083.15 1454.33 1080.05 1454.33 Q1077.85 1454.33 1075.4 1455.09 Q1072.97 1455.86 1070.19 1457.41 L1070.19 1452.69 Q1073.01 1451.55 1075.47 1450.97 Q1077.92 1450.39 1079.96 1450.39 Q1085.33 1450.39 1088.52 1453.08 Q1091.72 1455.77 1091.72 1460.26 Q1091.72 1462.39 1090.91 1464.31 Q1090.12 1466.2 1088.01 1468.8 Q1087.43 1469.47 1084.33 1472.69 Q1081.23 1475.88 1075.58 1481.64 Z\" fill=\"#000000\" fill-rule=\"evenodd\" fill-opacity=\"1\" /><path clip-path=\"url(#clip880)\" d=\"M1111.72 1454.1 Q1108.11 1454.1 1106.28 1457.66 Q1104.47 1461.2 1104.47 1468.33 Q1104.47 1475.44 1106.28 1479.01 Q1108.11 1482.55 1111.72 1482.55 Q1115.35 1482.55 1117.16 1479.01 Q1118.99 1475.44 1118.99 1468.33 Q1118.99 1461.2 1117.16 1457.66 Q1115.35 1454.1 1111.72 1454.1 M1111.72 1450.39 Q1117.53 1450.39 1120.58 1455 Q1123.66 1459.58 1123.66 1468.33 Q1123.66 1477.06 1120.58 1481.67 Q1117.53 1486.25 1111.72 1486.25 Q1105.91 1486.25 1102.83 1481.67 Q1099.77 1477.06 1099.77 1468.33 Q1099.77 1459.58 1102.83 1455 Q1105.91 1450.39 1111.72 1450.39 Z\" fill=\"#000000\" fill-rule=\"evenodd\" fill-opacity=\"1\" /><path clip-path=\"url(#clip880)\" d=\"M1484.75 1466.95 Q1488.1 1467.66 1489.98 1469.93 Q1491.88 1472.2 1491.88 1475.53 Q1491.88 1480.65 1488.36 1483.45 Q1484.84 1486.25 1478.36 1486.25 Q1476.18 1486.25 1473.87 1485.81 Q1471.57 1485.39 1469.12 1484.54 L1469.12 1480.02 Q1471.07 1481.16 1473.38 1481.74 Q1475.69 1482.32 1478.22 1482.32 Q1482.62 1482.32 1484.91 1480.58 Q1487.22 1478.84 1487.22 1475.53 Q1487.22 1472.48 1485.07 1470.77 Q1482.94 1469.03 1479.12 1469.03 L1475.09 1469.03 L1475.09 1465.19 L1479.31 1465.19 Q1482.75 1465.19 1484.58 1463.82 Q1486.41 1462.43 1486.41 1459.84 Q1486.41 1457.18 1484.51 1455.77 Q1482.64 1454.33 1479.12 1454.33 Q1477.2 1454.33 1475 1454.75 Q1472.8 1455.16 1470.16 1456.04 L1470.16 1451.88 Q1472.82 1451.14 1475.14 1450.77 Q1477.48 1450.39 1479.54 1450.39 Q1484.86 1450.39 1487.96 1452.83 Q1491.06 1455.23 1491.06 1459.35 Q1491.06 1462.22 1489.42 1464.21 Q1487.78 1466.18 1484.75 1466.95 Z\" fill=\"#000000\" fill-rule=\"evenodd\" fill-opacity=\"1\" /><path clip-path=\"url(#clip880)\" d=\"M1510.74 1454.1 Q1507.13 1454.1 1505.3 1457.66 Q1503.5 1461.2 1503.5 1468.33 Q1503.5 1475.44 1505.3 1479.01 Q1507.13 1482.55 1510.74 1482.55 Q1514.37 1482.55 1516.18 1479.01 Q1518.01 1475.44 1518.01 1468.33 Q1518.01 1461.2 1516.18 1457.66 Q1514.37 1454.1 1510.74 1454.1 M1510.74 1450.39 Q1516.55 1450.39 1519.61 1455 Q1522.69 1459.58 1522.69 1468.33 Q1522.69 1477.06 1519.61 1481.67 Q1516.55 1486.25 1510.74 1486.25 Q1504.93 1486.25 1501.85 1481.67 Q1498.8 1477.06 1498.8 1468.33 Q1498.8 1459.58 1501.85 1455 Q1504.93 1450.39 1510.74 1450.39 Z\" fill=\"#000000\" fill-rule=\"evenodd\" fill-opacity=\"1\" /><path clip-path=\"url(#clip880)\" d=\"M1883.17 1455.09 L1871.36 1473.54 L1883.17 1473.54 L1883.17 1455.09 M1881.94 1451.02 L1887.82 1451.02 L1887.82 1473.54 L1892.75 1473.54 L1892.75 1477.43 L1887.82 1477.43 L1887.82 1485.58 L1883.17 1485.58 L1883.17 1477.43 L1867.57 1477.43 L1867.57 1472.92 L1881.94 1451.02 Z\" fill=\"#000000\" fill-rule=\"evenodd\" fill-opacity=\"1\" /><path clip-path=\"url(#clip880)\" d=\"M1910.48 1454.1 Q1906.87 1454.1 1905.04 1457.66 Q1903.24 1461.2 1903.24 1468.33 Q1903.24 1475.44 1905.04 1479.01 Q1906.87 1482.55 1910.48 1482.55 Q1914.12 1482.55 1915.92 1479.01 Q1917.75 1475.44 1917.75 1468.33 Q1917.75 1461.2 1915.92 1457.66 Q1914.12 1454.1 1910.48 1454.1 M1910.48 1450.39 Q1916.29 1450.39 1919.35 1455 Q1922.43 1459.58 1922.43 1468.33 Q1922.43 1477.06 1919.35 1481.67 Q1916.29 1486.25 1910.48 1486.25 Q1904.67 1486.25 1901.59 1481.67 Q1898.54 1477.06 1898.54 1468.33 Q1898.54 1459.58 1901.59 1455 Q1904.67 1450.39 1910.48 1450.39 Z\" fill=\"#000000\" fill-rule=\"evenodd\" fill-opacity=\"1\" /><path clip-path=\"url(#clip880)\" d=\"M2268.79 1451.02 L2287.14 1451.02 L2287.14 1454.96 L2273.07 1454.96 L2273.07 1463.43 Q2274.09 1463.08 2275.11 1462.92 Q2276.13 1462.73 2277.14 1462.73 Q2282.93 1462.73 2286.31 1465.9 Q2289.69 1469.08 2289.69 1474.49 Q2289.69 1480.07 2286.22 1483.17 Q2282.75 1486.25 2276.43 1486.25 Q2274.25 1486.25 2271.98 1485.88 Q2269.74 1485.51 2267.33 1484.77 L2267.33 1480.07 Q2269.41 1481.2 2271.64 1481.76 Q2273.86 1482.32 2276.33 1482.32 Q2280.34 1482.32 2282.68 1480.21 Q2285.02 1478.1 2285.02 1474.49 Q2285.02 1470.88 2282.68 1468.77 Q2280.34 1466.67 2276.33 1466.67 Q2274.46 1466.67 2272.58 1467.08 Q2270.73 1467.5 2268.79 1468.38 L2268.79 1451.02 Z\" fill=\"#000000\" fill-rule=\"evenodd\" fill-opacity=\"1\" /><path clip-path=\"url(#clip880)\" d=\"M2308.9 1454.1 Q2305.29 1454.1 2303.46 1457.66 Q2301.66 1461.2 2301.66 1468.33 Q2301.66 1475.44 2303.46 1479.01 Q2305.29 1482.55 2308.9 1482.55 Q2312.54 1482.55 2314.34 1479.01 Q2316.17 1475.44 2316.17 1468.33 Q2316.17 1461.2 2314.34 1457.66 Q2312.54 1454.1 2308.9 1454.1 M2308.9 1450.39 Q2314.71 1450.39 2317.77 1455 Q2320.85 1459.58 2320.85 1468.33 Q2320.85 1477.06 2317.77 1481.67 Q2314.71 1486.25 2308.9 1486.25 Q2303.09 1486.25 2300.02 1481.67 Q2296.96 1477.06 2296.96 1468.33 Q2296.96 1459.58 2300.02 1455 Q2303.09 1450.39 2308.9 1450.39 Z\" fill=\"#000000\" fill-rule=\"evenodd\" fill-opacity=\"1\" /><path clip-path=\"url(#clip880)\" d=\"M1204.32 1520.52 L1234.37 1520.52 L1234.37 1525.93 L1210.75 1525.93 L1210.75 1540 L1233.38 1540 L1233.38 1545.41 L1210.75 1545.41 L1210.75 1562.63 L1234.94 1562.63 L1234.94 1568.04 L1204.32 1568.04 L1204.32 1520.52 Z\" fill=\"#000000\" fill-rule=\"evenodd\" fill-opacity=\"1\" /><path clip-path=\"url(#clip880)\" d=\"M1250.92 1562.7 L1250.92 1581.6 L1245.03 1581.6 L1245.03 1532.4 L1250.92 1532.4 L1250.92 1537.81 Q1252.77 1534.62 1255.57 1533.1 Q1258.4 1531.54 1262.31 1531.54 Q1268.81 1531.54 1272.85 1536.69 Q1276.92 1541.85 1276.92 1550.25 Q1276.92 1558.65 1272.85 1563.81 Q1268.81 1568.97 1262.31 1568.97 Q1258.4 1568.97 1255.57 1567.44 Q1252.77 1565.88 1250.92 1562.7 M1270.84 1550.25 Q1270.84 1543.79 1268.17 1540.13 Q1265.53 1536.44 1260.88 1536.44 Q1256.23 1536.44 1253.56 1540.13 Q1250.92 1543.79 1250.92 1550.25 Q1250.92 1556.71 1253.56 1560.4 Q1256.23 1564.07 1260.88 1564.07 Q1265.53 1564.07 1268.17 1560.4 Q1270.84 1556.71 1270.84 1550.25 Z\" fill=\"#000000\" fill-rule=\"evenodd\" fill-opacity=\"1\" /><path clip-path=\"url(#clip880)\" d=\"M1300.44 1536.5 Q1295.73 1536.5 1293 1540.19 Q1290.26 1543.85 1290.26 1550.25 Q1290.26 1556.65 1292.96 1560.34 Q1295.7 1564 1300.44 1564 Q1305.12 1564 1307.86 1560.31 Q1310.6 1556.62 1310.6 1550.25 Q1310.6 1543.92 1307.86 1540.23 Q1305.12 1536.5 1300.44 1536.5 M1300.44 1531.54 Q1308.08 1531.54 1312.44 1536.5 Q1316.8 1541.47 1316.8 1550.25 Q1316.8 1559 1312.44 1564 Q1308.08 1568.97 1300.44 1568.97 Q1292.77 1568.97 1288.41 1564 Q1284.08 1559 1284.08 1550.25 Q1284.08 1541.47 1288.41 1536.5 Q1292.77 1531.54 1300.44 1531.54 Z\" fill=\"#000000\" fill-rule=\"evenodd\" fill-opacity=\"1\" /><path clip-path=\"url(#clip880)\" d=\"M1352.17 1533.76 L1352.17 1539.24 Q1349.68 1537.87 1347.17 1537.2 Q1344.69 1536.5 1342.14 1536.5 Q1336.44 1536.5 1333.29 1540.13 Q1330.14 1543.73 1330.14 1550.25 Q1330.14 1556.78 1333.29 1560.4 Q1336.44 1564 1342.14 1564 Q1344.69 1564 1347.17 1563.33 Q1349.68 1562.63 1352.17 1561.26 L1352.17 1566.68 Q1349.71 1567.82 1347.07 1568.39 Q1344.46 1568.97 1341.5 1568.97 Q1333.45 1568.97 1328.71 1563.91 Q1323.97 1558.85 1323.97 1550.25 Q1323.97 1541.53 1328.74 1536.53 Q1333.55 1531.54 1341.89 1531.54 Q1344.59 1531.54 1347.17 1532.11 Q1349.75 1532.65 1352.17 1533.76 Z\" fill=\"#000000\" fill-rule=\"evenodd\" fill-opacity=\"1\" /><path clip-path=\"url(#clip880)\" d=\"M1391.98 1546.53 L1391.98 1568.04 L1386.13 1568.04 L1386.13 1546.72 Q1386.13 1541.66 1384.15 1539.14 Q1382.18 1536.63 1378.23 1536.63 Q1373.49 1536.63 1370.75 1539.65 Q1368.02 1542.68 1368.02 1547.9 L1368.02 1568.04 L1362.13 1568.04 L1362.13 1518.52 L1368.02 1518.52 L1368.02 1537.93 Q1370.12 1534.72 1372.95 1533.13 Q1375.81 1531.54 1379.54 1531.54 Q1385.68 1531.54 1388.83 1535.36 Q1391.98 1539.14 1391.98 1546.53 Z\" fill=\"#000000\" fill-rule=\"evenodd\" fill-opacity=\"1\" /><path clip-path=\"url(#clip880)\" d=\"M1426.39 1533.45 L1426.39 1538.98 Q1423.91 1537.71 1421.23 1537.07 Q1418.56 1536.44 1415.7 1536.44 Q1411.34 1536.44 1409.14 1537.77 Q1406.97 1539.11 1406.97 1541.79 Q1406.97 1543.82 1408.53 1545 Q1410.09 1546.15 1414.8 1547.2 L1416.81 1547.64 Q1423.05 1548.98 1425.66 1551.43 Q1428.3 1553.85 1428.3 1558.21 Q1428.3 1563.17 1424.35 1566.07 Q1420.44 1568.97 1413.56 1568.97 Q1410.7 1568.97 1407.58 1568.39 Q1404.49 1567.85 1401.05 1566.74 L1401.05 1560.69 Q1404.3 1562.38 1407.45 1563.24 Q1410.6 1564.07 1413.69 1564.07 Q1417.83 1564.07 1420.06 1562.66 Q1422.28 1561.23 1422.28 1558.65 Q1422.28 1556.27 1420.66 1554.99 Q1419.07 1553.72 1413.63 1552.54 L1411.59 1552.07 Q1406.15 1550.92 1403.73 1548.56 Q1401.31 1546.18 1401.31 1542.04 Q1401.31 1537.01 1404.87 1534.27 Q1408.44 1531.54 1415 1531.54 Q1418.24 1531.54 1421.11 1532.01 Q1423.97 1532.49 1426.39 1533.45 Z\" fill=\"#000000\" fill-rule=\"evenodd\" fill-opacity=\"1\" /><polyline clip-path=\"url(#clip882)\" style=\"stroke:#000000; stroke-linecap:butt; stroke-linejoin:round; stroke-width:2; stroke-opacity:0.1; fill:none\" points=\"\n",
       "  279.866,1276.61 2352.76,1276.61 \n",
       "  \"/>\n",
       "<polyline clip-path=\"url(#clip882)\" style=\"stroke:#000000; stroke-linecap:butt; stroke-linejoin:round; stroke-width:2; stroke-opacity:0.1; fill:none\" points=\"\n",
       "  279.866,1049.85 2352.76,1049.85 \n",
       "  \"/>\n",
       "<polyline clip-path=\"url(#clip882)\" style=\"stroke:#000000; stroke-linecap:butt; stroke-linejoin:round; stroke-width:2; stroke-opacity:0.1; fill:none\" points=\"\n",
       "  279.866,823.089 2352.76,823.089 \n",
       "  \"/>\n",
       "<polyline clip-path=\"url(#clip882)\" style=\"stroke:#000000; stroke-linecap:butt; stroke-linejoin:round; stroke-width:2; stroke-opacity:0.1; fill:none\" points=\"\n",
       "  279.866,596.328 2352.76,596.328 \n",
       "  \"/>\n",
       "<polyline clip-path=\"url(#clip882)\" style=\"stroke:#000000; stroke-linecap:butt; stroke-linejoin:round; stroke-width:2; stroke-opacity:0.1; fill:none\" points=\"\n",
       "  279.866,369.567 2352.76,369.567 \n",
       "  \"/>\n",
       "<polyline clip-path=\"url(#clip882)\" style=\"stroke:#000000; stroke-linecap:butt; stroke-linejoin:round; stroke-width:2; stroke-opacity:0.1; fill:none\" points=\"\n",
       "  279.866,142.806 2352.76,142.806 \n",
       "  \"/>\n",
       "<polyline clip-path=\"url(#clip880)\" style=\"stroke:#000000; stroke-linecap:butt; stroke-linejoin:round; stroke-width:4; stroke-opacity:1; fill:none\" points=\"\n",
       "  279.866,1423.18 279.866,123.472 \n",
       "  \"/>\n",
       "<polyline clip-path=\"url(#clip880)\" style=\"stroke:#000000; stroke-linecap:butt; stroke-linejoin:round; stroke-width:4; stroke-opacity:1; fill:none\" points=\"\n",
       "  279.866,1276.61 298.764,1276.61 \n",
       "  \"/>\n",
       "<polyline clip-path=\"url(#clip880)\" style=\"stroke:#000000; stroke-linecap:butt; stroke-linejoin:round; stroke-width:4; stroke-opacity:1; fill:none\" points=\"\n",
       "  279.866,1049.85 298.764,1049.85 \n",
       "  \"/>\n",
       "<polyline clip-path=\"url(#clip880)\" style=\"stroke:#000000; stroke-linecap:butt; stroke-linejoin:round; stroke-width:4; stroke-opacity:1; fill:none\" points=\"\n",
       "  279.866,823.089 298.764,823.089 \n",
       "  \"/>\n",
       "<polyline clip-path=\"url(#clip880)\" style=\"stroke:#000000; stroke-linecap:butt; stroke-linejoin:round; stroke-width:4; stroke-opacity:1; fill:none\" points=\"\n",
       "  279.866,596.328 298.764,596.328 \n",
       "  \"/>\n",
       "<polyline clip-path=\"url(#clip880)\" style=\"stroke:#000000; stroke-linecap:butt; stroke-linejoin:round; stroke-width:4; stroke-opacity:1; fill:none\" points=\"\n",
       "  279.866,369.567 298.764,369.567 \n",
       "  \"/>\n",
       "<polyline clip-path=\"url(#clip880)\" style=\"stroke:#000000; stroke-linecap:butt; stroke-linejoin:round; stroke-width:4; stroke-opacity:1; fill:none\" points=\"\n",
       "  279.866,142.806 298.764,142.806 \n",
       "  \"/>\n",
       "<path clip-path=\"url(#clip880)\" d=\"M127.362 1262.41 Q123.751 1262.41 121.922 1265.97 Q120.117 1269.52 120.117 1276.65 Q120.117 1283.75 121.922 1287.32 Q123.751 1290.86 127.362 1290.86 Q130.996 1290.86 132.802 1287.32 Q134.63 1283.75 134.63 1276.65 Q134.63 1269.52 132.802 1265.97 Q130.996 1262.41 127.362 1262.41 M127.362 1258.71 Q133.172 1258.71 136.228 1263.31 Q139.306 1267.9 139.306 1276.65 Q139.306 1285.37 136.228 1289.98 Q133.172 1294.56 127.362 1294.56 Q121.552 1294.56 118.473 1289.98 Q115.418 1285.37 115.418 1276.65 Q115.418 1267.9 118.473 1263.31 Q121.552 1258.71 127.362 1258.71 Z\" fill=\"#000000\" fill-rule=\"evenodd\" fill-opacity=\"1\" /><path clip-path=\"url(#clip880)\" d=\"M147.524 1288.01 L152.408 1288.01 L152.408 1293.89 L147.524 1293.89 L147.524 1288.01 Z\" fill=\"#000000\" fill-rule=\"evenodd\" fill-opacity=\"1\" /><path clip-path=\"url(#clip880)\" d=\"M172.593 1262.41 Q168.982 1262.41 167.153 1265.97 Q165.348 1269.52 165.348 1276.65 Q165.348 1283.75 167.153 1287.32 Q168.982 1290.86 172.593 1290.86 Q176.227 1290.86 178.033 1287.32 Q179.862 1283.75 179.862 1276.65 Q179.862 1269.52 178.033 1265.97 Q176.227 1262.41 172.593 1262.41 M172.593 1258.71 Q178.403 1258.71 181.459 1263.31 Q184.538 1267.9 184.538 1276.65 Q184.538 1285.37 181.459 1289.98 Q178.403 1294.56 172.593 1294.56 Q166.783 1294.56 163.704 1289.98 Q160.649 1285.37 160.649 1276.65 Q160.649 1267.9 163.704 1263.31 Q166.783 1258.71 172.593 1258.71 Z\" fill=\"#000000\" fill-rule=\"evenodd\" fill-opacity=\"1\" /><path clip-path=\"url(#clip880)\" d=\"M206.922 1275.26 Q210.278 1275.97 212.153 1278.24 Q214.051 1280.51 214.051 1283.84 Q214.051 1288.96 210.533 1291.76 Q207.014 1294.56 200.533 1294.56 Q198.357 1294.56 196.042 1294.12 Q193.75 1293.71 191.297 1292.85 L191.297 1288.33 Q193.241 1289.47 195.556 1290.05 Q197.871 1290.63 200.394 1290.63 Q204.792 1290.63 207.084 1288.89 Q209.399 1287.15 209.399 1283.84 Q209.399 1280.79 207.246 1279.08 Q205.116 1277.34 201.297 1277.34 L197.269 1277.34 L197.269 1273.5 L201.482 1273.5 Q204.931 1273.5 206.76 1272.13 Q208.588 1270.74 208.588 1268.15 Q208.588 1265.49 206.69 1264.08 Q204.815 1262.64 201.297 1262.64 Q199.375 1262.64 197.176 1263.06 Q194.977 1263.47 192.338 1264.35 L192.338 1260.19 Q195 1259.45 197.315 1259.08 Q199.653 1258.71 201.713 1258.71 Q207.037 1258.71 210.139 1261.14 Q213.241 1263.54 213.241 1267.66 Q213.241 1270.53 211.598 1272.52 Q209.954 1274.49 206.922 1275.26 Z\" fill=\"#000000\" fill-rule=\"evenodd\" fill-opacity=\"1\" /><path clip-path=\"url(#clip880)\" d=\"M222.963 1259.33 L241.32 1259.33 L241.32 1263.27 L227.246 1263.27 L227.246 1271.74 Q228.264 1271.39 229.283 1271.23 Q230.301 1271.04 231.32 1271.04 Q237.107 1271.04 240.486 1274.21 Q243.866 1277.39 243.866 1282.8 Q243.866 1288.38 240.394 1291.48 Q236.922 1294.56 230.602 1294.56 Q228.426 1294.56 226.158 1294.19 Q223.912 1293.82 221.505 1293.08 L221.505 1288.38 Q223.588 1289.52 225.81 1290.07 Q228.033 1290.63 230.51 1290.63 Q234.514 1290.63 236.852 1288.52 Q239.19 1286.41 239.19 1282.8 Q239.19 1279.19 236.852 1277.08 Q234.514 1274.98 230.51 1274.98 Q228.635 1274.98 226.76 1275.4 Q224.908 1275.81 222.963 1276.69 L222.963 1259.33 Z\" fill=\"#000000\" fill-rule=\"evenodd\" fill-opacity=\"1\" /><path clip-path=\"url(#clip880)\" d=\"M126.205 1035.65 Q122.593 1035.65 120.765 1039.21 Q118.959 1042.75 118.959 1049.88 Q118.959 1056.99 120.765 1060.56 Q122.593 1064.1 126.205 1064.1 Q129.839 1064.1 131.644 1060.56 Q133.473 1056.99 133.473 1049.88 Q133.473 1042.75 131.644 1039.21 Q129.839 1035.65 126.205 1035.65 M126.205 1031.94 Q132.015 1031.94 135.07 1036.55 Q138.149 1041.13 138.149 1049.88 Q138.149 1058.61 135.07 1063.22 Q132.015 1067.8 126.205 1067.8 Q120.394 1067.8 117.316 1063.22 Q114.26 1058.61 114.26 1049.88 Q114.26 1041.13 117.316 1036.55 Q120.394 1031.94 126.205 1031.94 Z\" fill=\"#000000\" fill-rule=\"evenodd\" fill-opacity=\"1\" /><path clip-path=\"url(#clip880)\" d=\"M146.366 1061.25 L151.251 1061.25 L151.251 1067.13 L146.366 1067.13 L146.366 1061.25 Z\" fill=\"#000000\" fill-rule=\"evenodd\" fill-opacity=\"1\" /><path clip-path=\"url(#clip880)\" d=\"M171.436 1035.65 Q167.825 1035.65 165.996 1039.21 Q164.19 1042.75 164.19 1049.88 Q164.19 1056.99 165.996 1060.56 Q167.825 1064.1 171.436 1064.1 Q175.07 1064.1 176.876 1060.56 Q178.704 1056.99 178.704 1049.88 Q178.704 1042.75 176.876 1039.21 Q175.07 1035.65 171.436 1035.65 M171.436 1031.94 Q177.246 1031.94 180.301 1036.55 Q183.38 1041.13 183.38 1049.88 Q183.38 1058.61 180.301 1063.22 Q177.246 1067.8 171.436 1067.8 Q165.626 1067.8 162.547 1063.22 Q159.491 1058.61 159.491 1049.88 Q159.491 1041.13 162.547 1036.55 Q165.626 1031.94 171.436 1031.94 Z\" fill=\"#000000\" fill-rule=\"evenodd\" fill-opacity=\"1\" /><path clip-path=\"url(#clip880)\" d=\"M205.764 1048.5 Q209.121 1049.21 210.996 1051.48 Q212.894 1053.75 212.894 1057.08 Q212.894 1062.2 209.375 1065 Q205.857 1067.8 199.375 1067.8 Q197.2 1067.8 194.885 1067.36 Q192.593 1066.94 190.139 1066.09 L190.139 1061.57 Q192.084 1062.71 194.399 1063.29 Q196.713 1063.87 199.237 1063.87 Q203.635 1063.87 205.926 1062.13 Q208.241 1060.39 208.241 1057.08 Q208.241 1054.03 206.088 1052.31 Q203.959 1050.58 200.139 1050.58 L196.112 1050.58 L196.112 1046.74 L200.325 1046.74 Q203.774 1046.74 205.602 1045.37 Q207.431 1043.98 207.431 1041.39 Q207.431 1038.73 205.533 1037.31 Q203.658 1035.88 200.139 1035.88 Q198.218 1035.88 196.019 1036.3 Q193.82 1036.71 191.181 1037.59 L191.181 1033.43 Q193.843 1032.69 196.158 1032.31 Q198.496 1031.94 200.556 1031.94 Q205.88 1031.94 208.982 1034.38 Q212.084 1036.78 212.084 1040.9 Q212.084 1043.77 210.44 1045.76 Q208.797 1047.73 205.764 1048.5 Z\" fill=\"#000000\" fill-rule=\"evenodd\" fill-opacity=\"1\" /><path clip-path=\"url(#clip880)\" d=\"M232.338 1047.99 Q229.19 1047.99 227.338 1050.14 Q225.51 1052.29 225.51 1056.04 Q225.51 1059.77 227.338 1061.94 Q229.19 1064.1 232.338 1064.1 Q235.486 1064.1 237.315 1061.94 Q239.167 1059.77 239.167 1056.04 Q239.167 1052.29 237.315 1050.14 Q235.486 1047.99 232.338 1047.99 M241.621 1033.33 L241.621 1037.59 Q239.861 1036.76 238.056 1036.32 Q236.273 1035.88 234.514 1035.88 Q229.885 1035.88 227.431 1039 Q225 1042.13 224.653 1048.45 Q226.019 1046.44 228.079 1045.37 Q230.139 1044.28 232.616 1044.28 Q237.824 1044.28 240.834 1047.45 Q243.866 1050.6 243.866 1056.04 Q243.866 1061.37 240.718 1064.58 Q237.57 1067.8 232.338 1067.8 Q226.343 1067.8 223.172 1063.22 Q220 1058.61 220 1049.88 Q220 1041.69 223.889 1036.83 Q227.778 1031.94 234.329 1031.94 Q236.088 1031.94 237.871 1032.29 Q239.676 1032.64 241.621 1033.33 Z\" fill=\"#000000\" fill-rule=\"evenodd\" fill-opacity=\"1\" /><path clip-path=\"url(#clip880)\" d=\"M127.269 808.887 Q123.658 808.887 121.83 812.452 Q120.024 815.994 120.024 823.123 Q120.024 830.23 121.83 833.795 Q123.658 837.336 127.269 837.336 Q130.904 837.336 132.709 833.795 Q134.538 830.23 134.538 823.123 Q134.538 815.994 132.709 812.452 Q130.904 808.887 127.269 808.887 M127.269 805.184 Q133.08 805.184 136.135 809.79 Q139.214 814.373 139.214 823.123 Q139.214 831.85 136.135 836.457 Q133.08 841.04 127.269 841.04 Q121.459 841.04 118.381 836.457 Q115.325 831.85 115.325 823.123 Q115.325 814.373 118.381 809.79 Q121.459 805.184 127.269 805.184 Z\" fill=\"#000000\" fill-rule=\"evenodd\" fill-opacity=\"1\" /><path clip-path=\"url(#clip880)\" d=\"M147.431 834.489 L152.316 834.489 L152.316 840.369 L147.431 840.369 L147.431 834.489 Z\" fill=\"#000000\" fill-rule=\"evenodd\" fill-opacity=\"1\" /><path clip-path=\"url(#clip880)\" d=\"M172.501 808.887 Q168.889 808.887 167.061 812.452 Q165.255 815.994 165.255 823.123 Q165.255 830.23 167.061 833.795 Q168.889 837.336 172.501 837.336 Q176.135 837.336 177.94 833.795 Q179.769 830.23 179.769 823.123 Q179.769 815.994 177.94 812.452 Q176.135 808.887 172.501 808.887 M172.501 805.184 Q178.311 805.184 181.366 809.79 Q184.445 814.373 184.445 823.123 Q184.445 831.85 181.366 836.457 Q178.311 841.04 172.501 841.04 Q166.69 841.04 163.612 836.457 Q160.556 831.85 160.556 823.123 Q160.556 814.373 163.612 809.79 Q166.69 805.184 172.501 805.184 Z\" fill=\"#000000\" fill-rule=\"evenodd\" fill-opacity=\"1\" /><path clip-path=\"url(#clip880)\" d=\"M206.829 821.734 Q210.186 822.452 212.061 824.721 Q213.959 826.989 213.959 830.322 Q213.959 835.438 210.44 838.239 Q206.922 841.04 200.44 841.04 Q198.264 841.04 195.95 840.6 Q193.658 840.183 191.204 839.327 L191.204 834.813 Q193.149 835.947 195.463 836.526 Q197.778 837.105 200.301 837.105 Q204.699 837.105 206.991 835.369 Q209.306 833.633 209.306 830.322 Q209.306 827.267 207.153 825.554 Q205.024 823.818 201.204 823.818 L197.176 823.818 L197.176 819.975 L201.389 819.975 Q204.838 819.975 206.667 818.609 Q208.496 817.221 208.496 814.628 Q208.496 811.966 206.598 810.554 Q204.723 809.119 201.204 809.119 Q199.283 809.119 197.084 809.535 Q194.885 809.952 192.246 810.832 L192.246 806.665 Q194.908 805.924 197.223 805.554 Q199.561 805.184 201.621 805.184 Q206.945 805.184 210.047 807.614 Q213.149 810.022 213.149 814.142 Q213.149 817.012 211.505 819.003 Q209.861 820.971 206.829 821.734 Z\" fill=\"#000000\" fill-rule=\"evenodd\" fill-opacity=\"1\" /><path clip-path=\"url(#clip880)\" d=\"M221.644 805.809 L243.866 805.809 L243.866 807.799 L231.32 840.369 L226.435 840.369 L238.241 809.744 L221.644 809.744 L221.644 805.809 Z\" fill=\"#000000\" fill-rule=\"evenodd\" fill-opacity=\"1\" /><path clip-path=\"url(#clip880)\" d=\"M126.459 582.126 Q122.848 582.126 121.019 585.691 Q119.214 589.233 119.214 596.363 Q119.214 603.469 121.019 607.034 Q122.848 610.575 126.459 610.575 Q130.093 610.575 131.899 607.034 Q133.728 603.469 133.728 596.363 Q133.728 589.233 131.899 585.691 Q130.093 582.126 126.459 582.126 M126.459 578.423 Q132.269 578.423 135.325 583.029 Q138.404 587.613 138.404 596.363 Q138.404 605.089 135.325 609.696 Q132.269 614.279 126.459 614.279 Q120.649 614.279 117.57 609.696 Q114.515 605.089 114.515 596.363 Q114.515 587.613 117.57 583.029 Q120.649 578.423 126.459 578.423 Z\" fill=\"#000000\" fill-rule=\"evenodd\" fill-opacity=\"1\" /><path clip-path=\"url(#clip880)\" d=\"M146.621 607.728 L151.505 607.728 L151.505 613.608 L146.621 613.608 L146.621 607.728 Z\" fill=\"#000000\" fill-rule=\"evenodd\" fill-opacity=\"1\" /><path clip-path=\"url(#clip880)\" d=\"M171.69 582.126 Q168.079 582.126 166.251 585.691 Q164.445 589.233 164.445 596.363 Q164.445 603.469 166.251 607.034 Q168.079 610.575 171.69 610.575 Q175.325 610.575 177.13 607.034 Q178.959 603.469 178.959 596.363 Q178.959 589.233 177.13 585.691 Q175.325 582.126 171.69 582.126 M171.69 578.423 Q177.501 578.423 180.556 583.029 Q183.635 587.613 183.635 596.363 Q183.635 605.089 180.556 609.696 Q177.501 614.279 171.69 614.279 Q165.88 614.279 162.802 609.696 Q159.746 605.089 159.746 596.363 Q159.746 587.613 162.802 583.029 Q165.88 578.423 171.69 578.423 Z\" fill=\"#000000\" fill-rule=\"evenodd\" fill-opacity=\"1\" /><path clip-path=\"url(#clip880)\" d=\"M206.019 594.974 Q209.375 595.691 211.25 597.96 Q213.149 600.228 213.149 603.562 Q213.149 608.677 209.63 611.478 Q206.112 614.279 199.63 614.279 Q197.454 614.279 195.139 613.839 Q192.848 613.423 190.394 612.566 L190.394 608.052 Q192.338 609.187 194.653 609.765 Q196.968 610.344 199.491 610.344 Q203.889 610.344 206.181 608.608 Q208.496 606.872 208.496 603.562 Q208.496 600.506 206.343 598.793 Q204.213 597.057 200.394 597.057 L196.366 597.057 L196.366 593.214 L200.579 593.214 Q204.028 593.214 205.857 591.849 Q207.686 590.46 207.686 587.867 Q207.686 585.205 205.787 583.793 Q203.912 582.358 200.394 582.358 Q198.473 582.358 196.274 582.775 Q194.075 583.191 191.436 584.071 L191.436 579.904 Q194.098 579.164 196.412 578.793 Q198.75 578.423 200.811 578.423 Q206.135 578.423 209.237 580.853 Q212.338 583.261 212.338 587.381 Q212.338 590.251 210.695 592.242 Q209.051 594.21 206.019 594.974 Z\" fill=\"#000000\" fill-rule=\"evenodd\" fill-opacity=\"1\" /><path clip-path=\"url(#clip880)\" d=\"M232.014 597.196 Q228.681 597.196 226.76 598.978 Q224.861 600.761 224.861 603.886 Q224.861 607.011 226.76 608.793 Q228.681 610.575 232.014 610.575 Q235.347 610.575 237.269 608.793 Q239.19 606.987 239.19 603.886 Q239.19 600.761 237.269 598.978 Q235.371 597.196 232.014 597.196 M227.338 595.205 Q224.329 594.464 222.639 592.404 Q220.973 590.344 220.973 587.381 Q220.973 583.238 223.912 580.83 Q226.875 578.423 232.014 578.423 Q237.176 578.423 240.116 580.83 Q243.056 583.238 243.056 587.381 Q243.056 590.344 241.366 592.404 Q239.699 594.464 236.713 595.205 Q240.093 595.992 241.968 598.284 Q243.866 600.575 243.866 603.886 Q243.866 608.909 240.787 611.594 Q237.732 614.279 232.014 614.279 Q226.297 614.279 223.218 611.594 Q220.162 608.909 220.162 603.886 Q220.162 600.575 222.061 598.284 Q223.959 595.992 227.338 595.205 M225.625 587.821 Q225.625 590.506 227.292 592.011 Q228.982 593.515 232.014 593.515 Q235.023 593.515 236.713 592.011 Q238.426 590.506 238.426 587.821 Q238.426 585.136 236.713 583.631 Q235.023 582.126 232.014 582.126 Q228.982 582.126 227.292 583.631 Q225.625 585.136 225.625 587.821 Z\" fill=\"#000000\" fill-rule=\"evenodd\" fill-opacity=\"1\" /><path clip-path=\"url(#clip880)\" d=\"M126.552 355.366 Q122.941 355.366 121.112 358.93 Q119.306 362.472 119.306 369.602 Q119.306 376.708 121.112 380.273 Q122.941 383.815 126.552 383.815 Q130.186 383.815 131.992 380.273 Q133.82 376.708 133.82 369.602 Q133.82 362.472 131.992 358.93 Q130.186 355.366 126.552 355.366 M126.552 351.662 Q132.362 351.662 135.417 356.268 Q138.496 360.852 138.496 369.602 Q138.496 378.328 135.417 382.935 Q132.362 387.518 126.552 387.518 Q120.742 387.518 117.663 382.935 Q114.607 378.328 114.607 369.602 Q114.607 360.852 117.663 356.268 Q120.742 351.662 126.552 351.662 Z\" fill=\"#000000\" fill-rule=\"evenodd\" fill-opacity=\"1\" /><path clip-path=\"url(#clip880)\" d=\"M146.714 380.967 L151.598 380.967 L151.598 386.847 L146.714 386.847 L146.714 380.967 Z\" fill=\"#000000\" fill-rule=\"evenodd\" fill-opacity=\"1\" /><path clip-path=\"url(#clip880)\" d=\"M171.783 355.366 Q168.172 355.366 166.343 358.93 Q164.538 362.472 164.538 369.602 Q164.538 376.708 166.343 380.273 Q168.172 383.815 171.783 383.815 Q175.417 383.815 177.223 380.273 Q179.051 376.708 179.051 369.602 Q179.051 362.472 177.223 358.93 Q175.417 355.366 171.783 355.366 M171.783 351.662 Q177.593 351.662 180.649 356.268 Q183.727 360.852 183.727 369.602 Q183.727 378.328 180.649 382.935 Q177.593 387.518 171.783 387.518 Q165.973 387.518 162.894 382.935 Q159.839 378.328 159.839 369.602 Q159.839 360.852 162.894 356.268 Q165.973 351.662 171.783 351.662 Z\" fill=\"#000000\" fill-rule=\"evenodd\" fill-opacity=\"1\" /><path clip-path=\"url(#clip880)\" d=\"M206.112 368.213 Q209.468 368.93 211.343 371.199 Q213.241 373.467 213.241 376.801 Q213.241 381.916 209.723 384.717 Q206.204 387.518 199.723 387.518 Q197.547 387.518 195.232 387.078 Q192.94 386.662 190.487 385.805 L190.487 381.291 Q192.431 382.426 194.746 383.004 Q197.061 383.583 199.584 383.583 Q203.982 383.583 206.274 381.847 Q208.588 380.111 208.588 376.801 Q208.588 373.745 206.436 372.032 Q204.306 370.296 200.487 370.296 L196.459 370.296 L196.459 366.454 L200.672 366.454 Q204.121 366.454 205.949 365.088 Q207.778 363.699 207.778 361.106 Q207.778 358.444 205.88 357.032 Q204.005 355.597 200.487 355.597 Q198.565 355.597 196.366 356.014 Q194.167 356.43 191.528 357.31 L191.528 353.143 Q194.19 352.403 196.505 352.032 Q198.843 351.662 200.903 351.662 Q206.227 351.662 209.329 354.092 Q212.431 356.5 212.431 360.62 Q212.431 363.491 210.787 365.481 Q209.144 367.449 206.112 368.213 Z\" fill=\"#000000\" fill-rule=\"evenodd\" fill-opacity=\"1\" /><path clip-path=\"url(#clip880)\" d=\"M222.246 386.129 L222.246 381.87 Q224.005 382.703 225.81 383.143 Q227.616 383.583 229.352 383.583 Q233.982 383.583 236.412 380.481 Q238.866 377.356 239.213 371.014 Q237.871 373.004 235.81 374.069 Q233.75 375.134 231.25 375.134 Q226.065 375.134 223.033 372.009 Q220.023 368.861 220.023 363.421 Q220.023 358.097 223.172 354.88 Q226.32 351.662 231.551 351.662 Q237.547 351.662 240.695 356.268 Q243.866 360.852 243.866 369.602 Q243.866 377.773 239.977 382.657 Q236.111 387.518 229.56 387.518 Q227.801 387.518 225.996 387.171 Q224.19 386.824 222.246 386.129 M231.551 371.477 Q234.699 371.477 236.528 369.324 Q238.38 367.171 238.38 363.421 Q238.38 359.694 236.528 357.542 Q234.699 355.366 231.551 355.366 Q228.403 355.366 226.551 357.542 Q224.723 359.694 224.723 363.421 Q224.723 367.171 226.551 369.324 Q228.403 371.477 231.551 371.477 Z\" fill=\"#000000\" fill-rule=\"evenodd\" fill-opacity=\"1\" /><path clip-path=\"url(#clip880)\" d=\"M126.367 128.605 Q122.755 128.605 120.927 132.17 Q119.121 135.711 119.121 142.841 Q119.121 149.947 120.927 153.512 Q122.755 157.054 126.367 157.054 Q130.001 157.054 131.806 153.512 Q133.635 149.947 133.635 142.841 Q133.635 135.711 131.806 132.17 Q130.001 128.605 126.367 128.605 M126.367 124.901 Q132.177 124.901 135.232 129.508 Q138.311 134.091 138.311 142.841 Q138.311 151.568 135.232 156.174 Q132.177 160.757 126.367 160.757 Q120.556 160.757 117.478 156.174 Q114.422 151.568 114.422 142.841 Q114.422 134.091 117.478 129.508 Q120.556 124.901 126.367 124.901 Z\" fill=\"#000000\" fill-rule=\"evenodd\" fill-opacity=\"1\" /><path clip-path=\"url(#clip880)\" d=\"M146.529 154.207 L151.413 154.207 L151.413 160.086 L146.529 160.086 L146.529 154.207 Z\" fill=\"#000000\" fill-rule=\"evenodd\" fill-opacity=\"1\" /><path clip-path=\"url(#clip880)\" d=\"M171.598 128.605 Q167.987 128.605 166.158 132.17 Q164.352 135.711 164.352 142.841 Q164.352 149.947 166.158 153.512 Q167.987 157.054 171.598 157.054 Q175.232 157.054 177.038 153.512 Q178.866 149.947 178.866 142.841 Q178.866 135.711 177.038 132.17 Q175.232 128.605 171.598 128.605 M171.598 124.901 Q177.408 124.901 180.464 129.508 Q183.542 134.091 183.542 142.841 Q183.542 151.568 180.464 156.174 Q177.408 160.757 171.598 160.757 Q165.788 160.757 162.709 156.174 Q159.653 151.568 159.653 142.841 Q159.653 134.091 162.709 129.508 Q165.788 124.901 171.598 124.901 Z\" fill=\"#000000\" fill-rule=\"evenodd\" fill-opacity=\"1\" /><path clip-path=\"url(#clip880)\" d=\"M204.607 129.6 L192.801 148.049 L204.607 148.049 L204.607 129.6 M203.38 125.526 L209.26 125.526 L209.26 148.049 L214.19 148.049 L214.19 151.938 L209.26 151.938 L209.26 160.086 L204.607 160.086 L204.607 151.938 L189.005 151.938 L189.005 147.424 L203.38 125.526 Z\" fill=\"#000000\" fill-rule=\"evenodd\" fill-opacity=\"1\" /><path clip-path=\"url(#clip880)\" d=\"M231.922 128.605 Q228.31 128.605 226.482 132.17 Q224.676 135.711 224.676 142.841 Q224.676 149.947 226.482 153.512 Q228.31 157.054 231.922 157.054 Q235.556 157.054 237.361 153.512 Q239.19 149.947 239.19 142.841 Q239.19 135.711 237.361 132.17 Q235.556 128.605 231.922 128.605 M231.922 124.901 Q237.732 124.901 240.787 129.508 Q243.866 134.091 243.866 142.841 Q243.866 151.568 240.787 156.174 Q237.732 160.757 231.922 160.757 Q226.111 160.757 223.033 156.174 Q219.977 151.568 219.977 142.841 Q219.977 134.091 223.033 129.508 Q226.111 124.901 231.922 124.901 Z\" fill=\"#000000\" fill-rule=\"evenodd\" fill-opacity=\"1\" /><path clip-path=\"url(#clip880)\" d=\"M16.4842 840.023 L16.4842 833.593 L58.5933 833.593 L58.5933 810.454 L64.0042 810.454 L64.0042 840.023 L16.4842 840.023 Z\" fill=\"#000000\" fill-rule=\"evenodd\" fill-opacity=\"1\" /><path clip-path=\"url(#clip880)\" d=\"M32.4621 791.293 Q32.4621 796.004 36.1542 798.741 Q39.8145 801.478 46.212 801.478 Q52.6095 801.478 56.3017 798.773 Q59.9619 796.036 59.9619 791.293 Q59.9619 786.614 56.2698 783.877 Q52.5777 781.14 46.212 781.14 Q39.8781 781.14 36.186 783.877 Q32.4621 786.614 32.4621 791.293 M27.4968 791.293 Q27.4968 783.654 32.4621 779.294 Q37.4273 774.933 46.212 774.933 Q54.9649 774.933 59.9619 779.294 Q64.9272 783.654 64.9272 791.293 Q64.9272 798.964 59.9619 803.324 Q54.9649 807.653 46.212 807.653 Q37.4273 807.653 32.4621 803.324 Q27.4968 798.964 27.4968 791.293 Z\" fill=\"#000000\" fill-rule=\"evenodd\" fill-opacity=\"1\" /><path clip-path=\"url(#clip880)\" d=\"M29.4065 742.5 L34.9447 742.5 Q33.6716 744.983 33.035 747.656 Q32.3984 750.33 32.3984 753.194 Q32.3984 757.555 33.7352 759.751 Q35.072 761.915 37.7456 761.915 Q39.7826 761.915 40.9603 760.356 Q42.1061 758.796 43.1565 754.086 L43.6021 752.08 Q44.9389 745.842 47.3897 743.232 Q49.8086 740.59 54.1691 740.59 Q59.1344 740.59 62.0308 744.537 Q64.9272 748.452 64.9272 755.327 Q64.9272 758.192 64.3543 761.311 Q63.8132 764.398 62.6992 767.836 L56.6518 767.836 Q58.3387 764.589 59.198 761.438 Q60.0256 758.287 60.0256 755.2 Q60.0256 751.062 58.6251 748.834 Q57.1929 746.606 54.6147 746.606 Q52.2276 746.606 50.9545 748.229 Q49.6813 749.821 48.5037 755.263 L48.0262 757.3 Q46.8804 762.743 44.5251 765.162 Q42.138 767.581 38.0002 767.581 Q32.9713 767.581 30.2341 764.016 Q27.4968 760.451 27.4968 753.895 Q27.4968 750.648 27.9743 747.784 Q28.4517 744.919 29.4065 742.5 Z\" fill=\"#000000\" fill-rule=\"evenodd\" fill-opacity=\"1\" /><path clip-path=\"url(#clip880)\" d=\"M29.4065 708.539 L34.9447 708.539 Q33.6716 711.022 33.035 713.695 Q32.3984 716.369 32.3984 719.233 Q32.3984 723.594 33.7352 725.79 Q35.072 727.954 37.7456 727.954 Q39.7826 727.954 40.9603 726.395 Q42.1061 724.835 43.1565 720.125 L43.6021 718.119 Q44.9389 711.881 47.3897 709.271 Q49.8086 706.629 54.1691 706.629 Q59.1344 706.629 62.0308 710.576 Q64.9272 714.491 64.9272 721.366 Q64.9272 724.23 64.3543 727.35 Q63.8132 730.437 62.6992 733.875 L56.6518 733.875 Q58.3387 730.628 59.198 727.477 Q60.0256 724.326 60.0256 721.239 Q60.0256 717.101 58.6251 714.873 Q57.1929 712.645 54.6147 712.645 Q52.2276 712.645 50.9545 714.268 Q49.6813 715.86 48.5037 721.302 L48.0262 723.339 Q46.8804 728.782 44.5251 731.201 Q42.138 733.62 38.0002 733.62 Q32.9713 733.62 30.2341 730.055 Q27.4968 726.49 27.4968 719.934 Q27.4968 716.687 27.9743 713.823 Q28.4517 710.958 29.4065 708.539 Z\" fill=\"#000000\" fill-rule=\"evenodd\" fill-opacity=\"1\" /><path clip-path=\"url(#clip880)\" d=\"M1006.94 12.096 L1015.13 12.096 L1015.13 65.6895 L1044.58 65.6895 L1044.58 72.576 L1006.94 72.576 L1006.94 12.096 Z\" fill=\"#000000\" fill-rule=\"evenodd\" fill-opacity=\"1\" /><path clip-path=\"url(#clip880)\" d=\"M1090.19 48.0275 L1090.19 51.6733 L1055.92 51.6733 Q1056.4 59.3701 1060.54 63.421 Q1064.71 67.4314 1072.12 67.4314 Q1076.42 67.4314 1080.43 66.3781 Q1084.48 65.3249 1088.45 63.2184 L1088.45 70.267 Q1084.44 71.9684 1080.22 72.8596 Q1076.01 73.7508 1071.68 73.7508 Q1060.82 73.7508 1054.46 67.4314 Q1048.14 61.1119 1048.14 50.3365 Q1048.14 39.1965 1054.14 32.6746 Q1060.17 26.1121 1070.38 26.1121 Q1079.54 26.1121 1084.84 32.0264 Q1090.19 37.9003 1090.19 48.0275 M1082.74 45.84 Q1082.65 39.7232 1079.29 36.0774 Q1075.97 32.4315 1070.46 32.4315 Q1064.22 32.4315 1060.46 35.9558 Q1056.73 39.4801 1056.16 45.8805 L1082.74 45.84 Z\" fill=\"#000000\" fill-rule=\"evenodd\" fill-opacity=\"1\" /><path clip-path=\"url(#clip880)\" d=\"M1123.04 49.7694 Q1114.01 49.7694 1110.52 51.8354 Q1107.04 53.9013 1107.04 58.8839 Q1107.04 62.8538 1109.63 65.2034 Q1112.27 67.5124 1116.76 67.5124 Q1122.96 67.5124 1126.69 63.1374 Q1130.46 58.7219 1130.46 51.4303 L1130.46 49.7694 L1123.04 49.7694 M1137.91 46.6907 L1137.91 72.576 L1130.46 72.576 L1130.46 65.6895 Q1127.9 69.8214 1124.1 71.8063 Q1120.29 73.7508 1114.78 73.7508 Q1107.81 73.7508 1103.68 69.8619 Q1099.59 65.9325 1099.59 59.3701 Q1099.59 51.7138 1104.69 47.825 Q1109.84 43.9361 1120 43.9361 L1130.46 43.9361 L1130.46 43.2069 Q1130.46 38.0623 1127.05 35.2672 Q1123.69 32.4315 1117.57 32.4315 Q1113.68 32.4315 1110 33.3632 Q1106.31 34.295 1102.91 36.1584 L1102.91 29.2718 Q1107 27.692 1110.85 26.9223 Q1114.7 26.1121 1118.34 26.1121 Q1128.19 26.1121 1133.05 31.2163 Q1137.91 36.3204 1137.91 46.6907 Z\" fill=\"#000000\" fill-rule=\"evenodd\" fill-opacity=\"1\" /><path clip-path=\"url(#clip880)\" d=\"M1179.55 34.1734 Q1178.3 33.4443 1176.8 33.1202 Q1175.34 32.7556 1173.56 32.7556 Q1167.24 32.7556 1163.83 36.8875 Q1160.47 40.9789 1160.47 48.6757 L1160.47 72.576 L1152.98 72.576 L1152.98 27.2059 L1160.47 27.2059 L1160.47 34.2544 Q1162.82 30.1225 1166.59 28.1376 Q1170.36 26.1121 1175.74 26.1121 Q1176.51 26.1121 1177.45 26.2337 Q1178.38 26.3147 1179.51 26.5172 L1179.55 34.1734 Z\" fill=\"#000000\" fill-rule=\"evenodd\" fill-opacity=\"1\" /><path clip-path=\"url(#clip880)\" d=\"M1223.63 45.1919 L1223.63 72.576 L1216.17 72.576 L1216.17 45.4349 Q1216.17 38.994 1213.66 35.7938 Q1211.15 32.5936 1206.13 32.5936 Q1200.09 32.5936 1196.61 36.4419 Q1193.12 40.2903 1193.12 46.9338 L1193.12 72.576 L1185.63 72.576 L1185.63 27.2059 L1193.12 27.2059 L1193.12 34.2544 Q1195.8 30.163 1199.4 28.1376 Q1203.05 26.1121 1207.79 26.1121 Q1215.61 26.1121 1219.62 30.9732 Q1223.63 35.7938 1223.63 45.1919 Z\" fill=\"#000000\" fill-rule=\"evenodd\" fill-opacity=\"1\" /><path clip-path=\"url(#clip880)\" d=\"M1238.49 27.2059 L1245.95 27.2059 L1245.95 72.576 L1238.49 72.576 L1238.49 27.2059 M1238.49 9.54393 L1245.95 9.54393 L1245.95 18.9825 L1238.49 18.9825 L1238.49 9.54393 Z\" fill=\"#000000\" fill-rule=\"evenodd\" fill-opacity=\"1\" /><path clip-path=\"url(#clip880)\" d=\"M1299.26 45.1919 L1299.26 72.576 L1291.8 72.576 L1291.8 45.4349 Q1291.8 38.994 1289.29 35.7938 Q1286.78 32.5936 1281.76 32.5936 Q1275.72 32.5936 1272.24 36.4419 Q1268.75 40.2903 1268.75 46.9338 L1268.75 72.576 L1261.26 72.576 L1261.26 27.2059 L1268.75 27.2059 L1268.75 34.2544 Q1271.43 30.163 1275.03 28.1376 Q1278.68 26.1121 1283.42 26.1121 Q1291.24 26.1121 1295.25 30.9732 Q1299.26 35.7938 1299.26 45.1919 Z\" fill=\"#000000\" fill-rule=\"evenodd\" fill-opacity=\"1\" /><path clip-path=\"url(#clip880)\" d=\"M1343.98 49.3643 Q1343.98 41.2625 1340.62 36.8065 Q1337.29 32.3505 1331.26 32.3505 Q1325.26 32.3505 1321.9 36.8065 Q1318.58 41.2625 1318.58 49.3643 Q1318.58 57.4256 1321.9 61.8816 Q1325.26 66.3376 1331.26 66.3376 Q1337.29 66.3376 1340.62 61.8816 Q1343.98 57.4256 1343.98 49.3643 M1351.43 66.9452 Q1351.43 78.5308 1346.29 84.1616 Q1341.14 89.8329 1330.53 89.8329 Q1326.6 89.8329 1323.12 89.2252 Q1319.63 88.6581 1316.35 87.4428 L1316.35 80.1917 Q1319.63 81.9741 1322.83 82.8248 Q1326.03 83.6755 1329.35 83.6755 Q1336.69 83.6755 1340.33 79.8271 Q1343.98 76.0193 1343.98 68.282 L1343.98 64.5957 Q1341.67 68.6061 1338.06 70.5911 Q1334.46 72.576 1329.44 72.576 Q1321.09 72.576 1315.99 66.2161 Q1310.88 59.8562 1310.88 49.3643 Q1310.88 38.832 1315.99 32.472 Q1321.09 26.1121 1329.44 26.1121 Q1334.46 26.1121 1338.06 28.0971 Q1341.67 30.082 1343.98 34.0924 L1343.98 27.2059 L1351.43 27.2059 L1351.43 66.9452 Z\" fill=\"#000000\" fill-rule=\"evenodd\" fill-opacity=\"1\" /><path clip-path=\"url(#clip880)\" d=\"M1438.77 16.7545 L1438.77 25.383 Q1434.64 21.5346 1429.94 19.6307 Q1425.28 17.7268 1420.01 17.7268 Q1409.64 17.7268 1404.13 24.0867 Q1398.63 30.4061 1398.63 42.3968 Q1398.63 54.3469 1404.13 60.7069 Q1409.64 67.0263 1420.01 67.0263 Q1425.28 67.0263 1429.94 65.1223 Q1434.64 63.2184 1438.77 59.3701 L1438.77 67.9175 Q1434.48 70.8341 1429.66 72.2924 Q1424.88 73.7508 1419.53 73.7508 Q1405.8 73.7508 1397.9 65.3654 Q1390 56.9395 1390 42.3968 Q1390 27.8135 1397.9 19.4281 Q1405.8 11.0023 1419.53 11.0023 Q1424.96 11.0023 1429.74 12.4606 Q1434.56 13.8784 1438.77 16.7545 Z\" fill=\"#000000\" fill-rule=\"evenodd\" fill-opacity=\"1\" /><path clip-path=\"url(#clip880)\" d=\"M1450.31 54.671 L1450.31 27.2059 L1457.77 27.2059 L1457.77 54.3874 Q1457.77 60.8284 1460.28 64.0691 Q1462.79 67.2693 1467.81 67.2693 Q1473.85 67.2693 1477.33 63.421 Q1480.86 59.5726 1480.86 52.9291 L1480.86 27.2059 L1488.31 27.2059 L1488.31 72.576 L1480.86 72.576 L1480.86 65.6084 Q1478.14 69.7404 1474.54 71.7658 Q1470.97 73.7508 1466.23 73.7508 Q1458.42 73.7508 1454.37 68.8897 Q1450.31 64.0286 1450.31 54.671 M1469.07 26.1121 L1469.07 26.1121 Z\" fill=\"#000000\" fill-rule=\"evenodd\" fill-opacity=\"1\" /><path clip-path=\"url(#clip880)\" d=\"M1529.96 34.1734 Q1528.7 33.4443 1527.2 33.1202 Q1525.74 32.7556 1523.96 32.7556 Q1517.64 32.7556 1514.24 36.8875 Q1510.88 40.9789 1510.88 48.6757 L1510.88 72.576 L1503.38 72.576 L1503.38 27.2059 L1510.88 27.2059 L1510.88 34.2544 Q1513.23 30.1225 1516.99 28.1376 Q1520.76 26.1121 1526.15 26.1121 Q1526.92 26.1121 1527.85 26.2337 Q1528.78 26.3147 1529.92 26.5172 L1529.96 34.1734 Z\" fill=\"#000000\" fill-rule=\"evenodd\" fill-opacity=\"1\" /><path clip-path=\"url(#clip880)\" d=\"M1532.43 27.2059 L1540.33 27.2059 L1554.5 65.2844 L1568.68 27.2059 L1576.58 27.2059 L1559.57 72.576 L1549.44 72.576 L1532.43 27.2059 Z\" fill=\"#000000\" fill-rule=\"evenodd\" fill-opacity=\"1\" /><path clip-path=\"url(#clip880)\" d=\"M1625.68 48.0275 L1625.68 51.6733 L1591.41 51.6733 Q1591.89 59.3701 1596.03 63.421 Q1600.2 67.4314 1607.61 67.4314 Q1611.91 67.4314 1615.92 66.3781 Q1619.97 65.3249 1623.94 63.2184 L1623.94 70.267 Q1619.93 71.9684 1615.71 72.8596 Q1611.5 73.7508 1607.17 73.7508 Q1596.31 73.7508 1589.95 67.4314 Q1583.63 61.1119 1583.63 50.3365 Q1583.63 39.1965 1589.63 32.6746 Q1595.66 26.1121 1605.87 26.1121 Q1615.02 26.1121 1620.33 32.0264 Q1625.68 37.9003 1625.68 48.0275 M1618.22 45.84 Q1618.14 39.7232 1614.78 36.0774 Q1611.46 32.4315 1605.95 32.4315 Q1599.71 32.4315 1595.94 35.9558 Q1592.22 39.4801 1591.65 45.8805 L1618.22 45.84 Z\" fill=\"#000000\" fill-rule=\"evenodd\" fill-opacity=\"1\" /><polyline clip-path=\"url(#clip882)\" style=\"stroke:#0000ff; stroke-linecap:butt; stroke-linejoin:round; stroke-width:8; stroke-opacity:1; fill:none\" points=\"\n",
       "  338.533,160.256 378.442,181.712 418.351,226.761 458.261,270.14 498.17,321.911 538.079,361.258 577.989,394.211 617.898,412.77 657.807,420.014 697.717,433.299 \n",
       "  737.626,437.569 777.535,453.886 817.444,478.15 857.354,526.972 897.263,574.116 937.172,611.088 977.082,635.698 1016.99,659.465 1056.9,682.146 1096.81,696.391 \n",
       "  1136.72,715.23 1176.63,732.539 1216.54,755.422 1256.45,781.24 1296.36,803.56 1336.27,818.458 1376.17,844.557 1416.08,874.786 1455.99,913.168 1495.9,938.362 \n",
       "  1535.81,959.545 1575.72,989.374 1615.63,1019.88 1655.54,1044.08 1695.45,1065.82 1735.36,1085.11 1775.27,1107.45 1815.18,1133.91 1855.09,1156.49 1895,1165.73 \n",
       "  1934.91,1160.2 1974.81,1157.62 2014.72,1143.63 2054.63,1165.72 2094.54,1190.61 2134.45,1249.35 2174.36,1312.46 2214.27,1359.06 2254.18,1384.53 2294.09,1386.4 \n",
       "  \n",
       "  \"/>\n",
       "</svg>\n"
      ]
     },
     "execution_count": 42,
     "metadata": {},
     "output_type": "execute_result"
    }
   ],
   "source": [
    "p_l_curve = plot(1:epochs, loss_history, xlabel = \"Epochs\", ylabel = \"Loss\", title = \"Learning Curve\", \n",
    "    legend = false, color = :blue, linewidth = 2)"
   ]
  },
  {
   "cell_type": "code",
   "execution_count": 54,
   "metadata": {},
   "outputs": [],
   "source": [
    "using Flux: flatten"
   ]
  },
  {
   "cell_type": "code",
   "execution_count": null,
   "metadata": {},
   "outputs": [],
   "source": []
  },
  {
   "cell_type": "code",
   "execution_count": 78,
   "metadata": {},
   "outputs": [],
   "source": [
    "using Flux.Data: DataLoader"
   ]
  },
  {
   "cell_type": "code",
   "execution_count": 82,
   "metadata": {},
   "outputs": [
    {
     "data": {
      "text/plain": [
       "get_data (generic function with 1 method)"
      ]
     },
     "execution_count": 82,
     "metadata": {},
     "output_type": "execute_result"
    }
   ],
   "source": [
    "function get_data(args)\n",
    "    xtrain, ytrain = MLDatasets.MNIST.traindata(Float32)\n",
    "    xtest, ytest = MLDatasets.MNIST.testdata(Float32)\n",
    "\n",
    "    xtrain = reshape(xtrain, 28, 28, 1, :)\n",
    "    xtest = reshape(xtest, 28, 28, 1, :)\n",
    "\n",
    "    ytrain, ytest = onehotbatch(ytrain, 0:9), onehotbatch(ytest, 0:9)\n",
    "\n",
    "    train_loader = DataLoader((xtrain, ytrain), batchsize=args.batchsize, shuffle=true)\n",
    "    test_loader = DataLoader((xtest, ytest),  batchsize=args.batchsize)\n",
    "    \n",
    "    return train_loader, test_loader\n",
    "end"
   ]
  },
  {
   "cell_type": "code",
   "execution_count": 83,
   "metadata": {},
   "outputs": [
    {
     "data": {
      "text/plain": [
       "LeNet5 (generic function with 1 method)"
      ]
     },
     "execution_count": 83,
     "metadata": {},
     "output_type": "execute_result"
    }
   ],
   "source": [
    "function LeNet5(; imgsize=(28,28,1), nclasses=10) \n",
    "    out_conv_size = (imgsize[1]÷4 - 3, imgsize[2]÷4 - 3, 16)\n",
    "    \n",
    "    return Chain(\n",
    "            Conv((5, 5), imgsize[end]=>6, relu),\n",
    "            MaxPool((2, 2)),\n",
    "            Conv((5, 5), 6=>16, relu),\n",
    "            MaxPool((2, 2)),\n",
    "            flatten,\n",
    "            Dense(prod(out_conv_size), 120, relu), \n",
    "            Dense(120, 84, relu), \n",
    "            Dense(84, nclasses)\n",
    "          )\n",
    "end"
   ]
  },
  {
   "cell_type": "code",
   "execution_count": 84,
   "metadata": {},
   "outputs": [
    {
     "data": {
      "text/plain": [
       "loss (generic function with 1 method)"
      ]
     },
     "execution_count": 84,
     "metadata": {},
     "output_type": "execute_result"
    }
   ],
   "source": [
    "loss(ŷ, y) = logitcrossentropy(ŷ, y)"
   ]
  },
  {
   "cell_type": "code",
   "execution_count": 85,
   "metadata": {},
   "outputs": [
    {
     "data": {
      "text/plain": [
       "eval_loss_accuracy (generic function with 1 method)"
      ]
     },
     "execution_count": 85,
     "metadata": {},
     "output_type": "execute_result"
    }
   ],
   "source": [
    "function eval_loss_accuracy(loader, model, device)\n",
    "    l = 0f0\n",
    "    acc = 0\n",
    "    ntot = 0\n",
    "    for (x, y) in loader\n",
    "        x, y = x |> device, y |> device\n",
    "        ŷ = model(x)\n",
    "        l += loss(ŷ, y) * size(x)[end]        \n",
    "        acc += sum(onecold(ŷ |> cpu) .== onecold(y |> cpu))\n",
    "        ntot += size(x)[end]\n",
    "    end\n",
    "    return (loss = l/ntot |> round4, acc = acc/ntot*100 |> round4)\n",
    "end"
   ]
  },
  {
   "cell_type": "code",
   "execution_count": 86,
   "metadata": {},
   "outputs": [
    {
     "data": {
      "text/plain": [
       "round4 (generic function with 1 method)"
      ]
     },
     "execution_count": 86,
     "metadata": {},
     "output_type": "execute_result"
    }
   ],
   "source": [
    "num_params(model) = sum(length, Flux.params(model)) \n",
    "round4(x) = round(x, digits=4)"
   ]
  },
  {
   "cell_type": "code",
   "execution_count": 106,
   "metadata": {},
   "outputs": [
    {
     "data": {
      "text/plain": [
       "Args"
      ]
     },
     "execution_count": 106,
     "metadata": {},
     "output_type": "execute_result"
    }
   ],
   "source": [
    "Base.@kwdef mutable struct Args\n",
    "    η = 3e-4             # learning rate\n",
    "    λ = 0                # L2 regularizer param, implemented as weight decay\n",
    "    batchsize = 128      # batch size\n",
    "    epochs = 4          # number of epochs\n",
    "    seed = 0             # set seed > 0 for reproducibility\n",
    "    use_cuda = true      # if true use cuda (if available)\n",
    "    infotime = 1 \t     # report every `infotime` epochs\n",
    "    checktime = 5        # Save the model every `checktime` epochs. Set to 0 for no checkpoints.\n",
    "    tblogger = true      # log training with tensorboard\n",
    "    savepath = \"runs/\"    # results path\n",
    "end"
   ]
  },
  {
   "cell_type": "code",
   "execution_count": 107,
   "metadata": {},
   "outputs": [],
   "source": [
    "using ProgressMeter: @showprogress"
   ]
  },
  {
   "cell_type": "code",
   "execution_count": 108,
   "metadata": {},
   "outputs": [],
   "source": [
    "using Logging: with_logger"
   ]
  },
  {
   "cell_type": "code",
   "execution_count": 109,
   "metadata": {},
   "outputs": [],
   "source": [
    "import BSON\n",
    "using TensorBoardLogger: TBLogger, tb_overwrite, set_step!, set_step_increment!"
   ]
  },
  {
   "cell_type": "code",
   "execution_count": 139,
   "metadata": {},
   "outputs": [
    {
     "data": {
      "text/plain": [
       "train (generic function with 1 method)"
      ]
     },
     "execution_count": 139,
     "metadata": {},
     "output_type": "execute_result"
    }
   ],
   "source": [
    "model = \"\"\n",
    "loss_history2 = []\n",
    "\n",
    "function train(; kws...)\n",
    "    args = Args(; kws...)\n",
    "        args.seed > 0 && Random.seed!(args.seed)\n",
    "    device = cpu\n",
    "        @info \"Training on CPU\"\n",
    "\n",
    "    train_loader, test_loader = get_data(args)\n",
    "    @info \"Dataset MNIST: $(train_loader.nobs) train and $(test_loader.nobs) test examples\"\n",
    "\n",
    "    ## MODEL AND OPTIMIZER\n",
    "    model = LeNet5() |> device\n",
    "    @info \"LeNet5 model: $(num_params(model)) trainable params\"    \n",
    "    \n",
    "    ps = Flux.params(model)  \n",
    "\n",
    "    opt = ADAM(args.η) \n",
    "    if args.λ > 0 # add weight decay, equivalent to L2 regularization\n",
    "        opt = Optimiser(WeightDecay(args.λ), opt)\n",
    "    end\n",
    "    \n",
    "    ## LOGGING UTILITIES\n",
    "    if args.tblogger \n",
    "        tblogger = TBLogger(args.savepath, tb_overwrite)\n",
    "        set_step_increment!(tblogger, 0) # 0 auto increment since we manually set_step!\n",
    "        @info \"TensorBoard logging at \\\"$(args.savepath)\\\"\"\n",
    "    end\n",
    "    \n",
    "    function report(epoch)\n",
    "        train = eval_loss_accuracy(train_loader, model, device)\n",
    "        test = eval_loss_accuracy(test_loader, model, device)   \n",
    "        \n",
    "        push!(loss_history2, train.loss)\n",
    "        \n",
    "        println(\"Epoch: $epoch   Train: $(train)   Test: $(test)\")\n",
    "        if args.tblogger\n",
    "            set_step!(tblogger, epoch)\n",
    "            with_logger(tblogger) do\n",
    "                @info \"train\" loss=train.loss  acc=train.acc\n",
    "                @info \"test\"  loss=test.loss   acc=test.acc\n",
    "            end\n",
    "        end\n",
    "    end\n",
    "    \n",
    "    ## TRAINING\n",
    "    @info \"Start Training\"\n",
    "    report(0)\n",
    "    for epoch in 1:args.epochs\n",
    "        @showprogress for (x, y) in train_loader\n",
    "            x, y = x |> device, y |> device\n",
    "            gs = Flux.gradient(ps) do\n",
    "                    ŷ = model(x)\n",
    "                    loss(ŷ, y)\n",
    "                end\n",
    "\n",
    "            Flux.Optimise.update!(opt, ps, gs)\n",
    "        end\n",
    "        \n",
    "        \n",
    "        \n",
    "        ## Printing and logging\n",
    "        epoch % args.infotime == 0 && report(epoch)\n",
    "        if args.checktime > 0 && epoch % args.checktime == 0\n",
    "            !ispath(args.savepath) && mkpath(args.savepath)\n",
    "            modelpath = joinpath(args.savepath, \"model.bson\") \n",
    "            let model = cpu(model) #return model to cpu before serialization\n",
    "                BSON.@save modelpath model epoch\n",
    "            end\n",
    "            @info \"Model saved in \\\"$(modelpath)\\\"\"\n",
    "        end\n",
    "    end\n",
    "    return(model)\n",
    "end"
   ]
  },
  {
   "cell_type": "code",
   "execution_count": 140,
   "metadata": {},
   "outputs": [
    {
     "name": "stderr",
     "output_type": "stream",
     "text": [
      "┌ Info: Training on CPU\n",
      "└ @ Main In[139]:8\n",
      "┌ Info: Dataset MNIST: 60000 train and 10000 test examples\n",
      "└ @ Main In[139]:11\n",
      "┌ Info: LeNet5 model: 44426 trainable params\n",
      "└ @ Main In[139]:15\n",
      "┌ Info: TensorBoard logging at \"runs/\"\n",
      "└ @ Main In[139]:28\n",
      "┌ Info: Start Training\n",
      "└ @ Main In[139]:48\n"
     ]
    },
    {
     "name": "stdout",
     "output_type": "stream",
     "text": [
      "Epoch: 0   Train: (loss = 2.314f0, acc = 14.44)   Test: (loss = 2.3133f0, acc = 15.49)\n"
     ]
    },
    {
     "name": "stderr",
     "output_type": "stream",
     "text": [
      "\u001b[32mProgress: 100%|█████████████████████████████████████████| Time: 0:00:21\u001b[39m\n"
     ]
    },
    {
     "name": "stdout",
     "output_type": "stream",
     "text": [
      "Epoch: 1   Train: (loss = 0.1897f0, acc = 94.295)   Test: (loss = 0.1781f0, acc = 94.79)\n"
     ]
    },
    {
     "name": "stderr",
     "output_type": "stream",
     "text": [
      "\u001b[32mProgress: 100%|█████████████████████████████████████████| Time: 0:00:21\u001b[39m\n"
     ]
    },
    {
     "name": "stdout",
     "output_type": "stream",
     "text": [
      "Epoch: 2   Train: (loss = 0.1163f0, acc = 96.6667)   Test: (loss = 0.1038f0, acc = 96.88)\n"
     ]
    },
    {
     "name": "stderr",
     "output_type": "stream",
     "text": [
      "\u001b[32mProgress: 100%|█████████████████████████████████████████| Time: 0:00:19\u001b[39m\n"
     ]
    },
    {
     "name": "stdout",
     "output_type": "stream",
     "text": [
      "Epoch: 3   Train: (loss = 0.0879f0, acc = 97.3533)   Test: (loss = 0.0779f0, acc = 97.63)\n"
     ]
    },
    {
     "name": "stderr",
     "output_type": "stream",
     "text": [
      "\u001b[32mProgress: 100%|█████████████████████████████████████████| Time: 0:00:17\u001b[39m\n"
     ]
    },
    {
     "name": "stdout",
     "output_type": "stream",
     "text": [
      "Epoch: 4   Train: (loss = 0.0689f0, acc = 97.9233)   Test: (loss = 0.0629f0, acc = 98.16)\n"
     ]
    },
    {
     "data": {
      "text/plain": [
       "Chain(Conv((5, 5), 1=>6, relu), MaxPool((2, 2)), Conv((5, 5), 6=>16, relu), MaxPool((2, 2)), flatten, Dense(256, 120, relu), Dense(120, 84, relu), Dense(84, 10))"
      ]
     },
     "execution_count": 140,
     "metadata": {},
     "output_type": "execute_result"
    }
   ],
   "source": [
    "modelCNN = train()"
   ]
  },
  {
   "cell_type": "code",
   "execution_count": 141,
   "metadata": {},
   "outputs": [],
   "source": [
    "xtrain, ytrain = MLDatasets.MNIST.traindata(Float32)\n",
    "xtest, ytest = MLDatasets.MNIST.testdata(Float32)\n",
    "\n",
    "xtrain = reshape(xtrain, 28, 28, 1, :)\n",
    "xtest = reshape(xtest, 28, 28, 1, :)\n",
    "\n",
    "ytrain, ytest = onehotbatch(ytrain, 0:9), onehotbatch(ytest, 0:9)\n",
    "\n",
    "train_loader = DataLoader((xtrain, ytrain), batchsize=128, shuffle=true)\n",
    "test_loader = DataLoader((xtest, ytest),  batchsize=128);"
   ]
  },
  {
   "cell_type": "code",
   "execution_count": null,
   "metadata": {},
   "outputs": [],
   "source": []
  },
  {
   "cell_type": "code",
   "execution_count": 142,
   "metadata": {},
   "outputs": [
    {
     "name": "stdout",
     "output_type": "stream",
     "text": [
      "(10000,)\n",
      "(10000,)\n"
     ]
    },
    {
     "data": {
      "text/plain": [
       "0.9816"
      ]
     },
     "execution_count": 142,
     "metadata": {},
     "output_type": "execute_result"
    }
   ],
   "source": [
    "y_hat_raw2 = modelCNN(xtest)\n",
    "y_hat2 = onecold(y_hat_raw2) .- 1\n",
    "println( size(y_hat2) )\n",
    "y2 = ytest\n",
    "y2 = onecold(y2,0:9)\n",
    "println( size(y2) )\n",
    "mean(y_hat2 .== y2)"
   ]
  },
  {
   "cell_type": "code",
   "execution_count": 143,
   "metadata": {},
   "outputs": [
    {
     "data": {
      "text/plain": [
       "5-element Array{Any,1}:\n",
       " 2.314f0\n",
       " 0.1897f0\n",
       " 0.1163f0\n",
       " 0.0879f0\n",
       " 0.0689f0"
      ]
     },
     "execution_count": 143,
     "metadata": {},
     "output_type": "execute_result"
    }
   ],
   "source": [
    "loss_history2"
   ]
  },
  {
   "cell_type": "code",
   "execution_count": 144,
   "metadata": {},
   "outputs": [
    {
     "data": {
      "image/svg+xml": [
       "<?xml version=\"1.0\" encoding=\"utf-8\"?>\n",
       "<svg xmlns=\"http://www.w3.org/2000/svg\" xmlns:xlink=\"http://www.w3.org/1999/xlink\" width=\"600\" height=\"400\" viewBox=\"0 0 2400 1600\">\n",
       "<defs>\n",
       "  <clipPath id=\"clip920\">\n",
       "    <rect x=\"0\" y=\"0\" width=\"2400\" height=\"1600\"/>\n",
       "  </clipPath>\n",
       "</defs>\n",
       "<path clip-path=\"url(#clip920)\" d=\"\n",
       "M0 1600 L2400 1600 L2400 0 L0 0  Z\n",
       "  \" fill=\"#ffffff\" fill-rule=\"evenodd\" fill-opacity=\"1\"/>\n",
       "<defs>\n",
       "  <clipPath id=\"clip921\">\n",
       "    <rect x=\"480\" y=\"0\" width=\"1681\" height=\"1600\"/>\n",
       "  </clipPath>\n",
       "</defs>\n",
       "<path clip-path=\"url(#clip920)\" d=\"\n",
       "M219.033 1423.18 L2352.76 1423.18 L2352.76 123.472 L219.033 123.472  Z\n",
       "  \" fill=\"#ffffff\" fill-rule=\"evenodd\" fill-opacity=\"1\"/>\n",
       "<defs>\n",
       "  <clipPath id=\"clip922\">\n",
       "    <rect x=\"219\" y=\"123\" width=\"2135\" height=\"1301\"/>\n",
       "  </clipPath>\n",
       "</defs>\n",
       "<polyline clip-path=\"url(#clip922)\" style=\"stroke:#000000; stroke-linecap:butt; stroke-linejoin:round; stroke-width:2; stroke-opacity:0.1; fill:none\" points=\"\n",
       "  279.421,1423.18 279.421,123.472 \n",
       "  \"/>\n",
       "<polyline clip-path=\"url(#clip922)\" style=\"stroke:#000000; stroke-linecap:butt; stroke-linejoin:round; stroke-width:2; stroke-opacity:0.1; fill:none\" points=\"\n",
       "  782.658,1423.18 782.658,123.472 \n",
       "  \"/>\n",
       "<polyline clip-path=\"url(#clip922)\" style=\"stroke:#000000; stroke-linecap:butt; stroke-linejoin:round; stroke-width:2; stroke-opacity:0.1; fill:none\" points=\"\n",
       "  1285.89,1423.18 1285.89,123.472 \n",
       "  \"/>\n",
       "<polyline clip-path=\"url(#clip922)\" style=\"stroke:#000000; stroke-linecap:butt; stroke-linejoin:round; stroke-width:2; stroke-opacity:0.1; fill:none\" points=\"\n",
       "  1789.13,1423.18 1789.13,123.472 \n",
       "  \"/>\n",
       "<polyline clip-path=\"url(#clip922)\" style=\"stroke:#000000; stroke-linecap:butt; stroke-linejoin:round; stroke-width:2; stroke-opacity:0.1; fill:none\" points=\"\n",
       "  2292.37,1423.18 2292.37,123.472 \n",
       "  \"/>\n",
       "<polyline clip-path=\"url(#clip920)\" style=\"stroke:#000000; stroke-linecap:butt; stroke-linejoin:round; stroke-width:4; stroke-opacity:1; fill:none\" points=\"\n",
       "  219.033,1423.18 2352.76,1423.18 \n",
       "  \"/>\n",
       "<polyline clip-path=\"url(#clip920)\" style=\"stroke:#000000; stroke-linecap:butt; stroke-linejoin:round; stroke-width:4; stroke-opacity:1; fill:none\" points=\"\n",
       "  279.421,1423.18 279.421,1404.28 \n",
       "  \"/>\n",
       "<polyline clip-path=\"url(#clip920)\" style=\"stroke:#000000; stroke-linecap:butt; stroke-linejoin:round; stroke-width:4; stroke-opacity:1; fill:none\" points=\"\n",
       "  782.658,1423.18 782.658,1404.28 \n",
       "  \"/>\n",
       "<polyline clip-path=\"url(#clip920)\" style=\"stroke:#000000; stroke-linecap:butt; stroke-linejoin:round; stroke-width:4; stroke-opacity:1; fill:none\" points=\"\n",
       "  1285.89,1423.18 1285.89,1404.28 \n",
       "  \"/>\n",
       "<polyline clip-path=\"url(#clip920)\" style=\"stroke:#000000; stroke-linecap:butt; stroke-linejoin:round; stroke-width:4; stroke-opacity:1; fill:none\" points=\"\n",
       "  1789.13,1423.18 1789.13,1404.28 \n",
       "  \"/>\n",
       "<polyline clip-path=\"url(#clip920)\" style=\"stroke:#000000; stroke-linecap:butt; stroke-linejoin:round; stroke-width:4; stroke-opacity:1; fill:none\" points=\"\n",
       "  2292.37,1423.18 2292.37,1404.28 \n",
       "  \"/>\n",
       "<path clip-path=\"url(#clip920)\" d=\"M269.803 1481.64 L277.442 1481.64 L277.442 1455.28 L269.132 1456.95 L269.132 1452.69 L277.396 1451.02 L282.072 1451.02 L282.072 1481.64 L289.711 1481.64 L289.711 1485.58 L269.803 1485.58 L269.803 1481.64 Z\" fill=\"#000000\" fill-rule=\"evenodd\" fill-opacity=\"1\" /><path clip-path=\"url(#clip920)\" d=\"M777.311 1481.64 L793.63 1481.64 L793.63 1485.58 L771.686 1485.58 L771.686 1481.64 Q774.348 1478.89 778.931 1474.26 Q783.537 1469.61 784.718 1468.27 Q786.963 1465.74 787.843 1464.01 Q788.746 1462.25 788.746 1460.56 Q788.746 1457.8 786.801 1456.07 Q784.88 1454.33 781.778 1454.33 Q779.579 1454.33 777.125 1455.09 Q774.695 1455.86 771.917 1457.41 L771.917 1452.69 Q774.741 1451.55 777.195 1450.97 Q779.649 1450.39 781.686 1450.39 Q787.056 1450.39 790.25 1453.08 Q793.445 1455.77 793.445 1460.26 Q793.445 1462.39 792.635 1464.31 Q791.848 1466.2 789.741 1468.8 Q789.162 1469.47 786.061 1472.69 Q782.959 1475.88 777.311 1481.64 Z\" fill=\"#000000\" fill-rule=\"evenodd\" fill-opacity=\"1\" /><path clip-path=\"url(#clip920)\" d=\"M1290.14 1466.95 Q1293.5 1467.66 1295.37 1469.93 Q1297.27 1472.2 1297.27 1475.53 Q1297.27 1480.65 1293.75 1483.45 Q1290.23 1486.25 1283.75 1486.25 Q1281.58 1486.25 1279.26 1485.81 Q1276.97 1485.39 1274.52 1484.54 L1274.52 1480.02 Q1276.46 1481.16 1278.78 1481.74 Q1281.09 1482.32 1283.61 1482.32 Q1288.01 1482.32 1290.3 1480.58 Q1292.62 1478.84 1292.62 1475.53 Q1292.62 1472.48 1290.47 1470.77 Q1288.34 1469.03 1284.52 1469.03 L1280.49 1469.03 L1280.49 1465.19 L1284.7 1465.19 Q1288.15 1465.19 1289.98 1463.82 Q1291.81 1462.43 1291.81 1459.84 Q1291.81 1457.18 1289.91 1455.77 Q1288.04 1454.33 1284.52 1454.33 Q1282.6 1454.33 1280.4 1454.75 Q1278.2 1455.16 1275.56 1456.04 L1275.56 1451.88 Q1278.22 1451.14 1280.54 1450.77 Q1282.87 1450.39 1284.93 1450.39 Q1290.26 1450.39 1293.36 1452.83 Q1296.46 1455.23 1296.46 1459.35 Q1296.46 1462.22 1294.82 1464.21 Q1293.17 1466.18 1290.14 1466.95 Z\" fill=\"#000000\" fill-rule=\"evenodd\" fill-opacity=\"1\" /><path clip-path=\"url(#clip920)\" d=\"M1792.14 1455.09 L1780.33 1473.54 L1792.14 1473.54 L1792.14 1455.09 M1790.91 1451.02 L1796.79 1451.02 L1796.79 1473.54 L1801.72 1473.54 L1801.72 1477.43 L1796.79 1477.43 L1796.79 1485.58 L1792.14 1485.58 L1792.14 1477.43 L1776.54 1477.43 L1776.54 1472.92 L1790.91 1451.02 Z\" fill=\"#000000\" fill-rule=\"evenodd\" fill-opacity=\"1\" /><path clip-path=\"url(#clip920)\" d=\"M2282.65 1451.02 L2301 1451.02 L2301 1454.96 L2286.93 1454.96 L2286.93 1463.43 Q2287.95 1463.08 2288.96 1462.92 Q2289.98 1462.73 2291 1462.73 Q2296.79 1462.73 2300.17 1465.9 Q2303.55 1469.08 2303.55 1474.49 Q2303.55 1480.07 2300.08 1483.17 Q2296.6 1486.25 2290.28 1486.25 Q2288.11 1486.25 2285.84 1485.88 Q2283.59 1485.51 2281.19 1484.77 L2281.19 1480.07 Q2283.27 1481.2 2285.49 1481.76 Q2287.71 1482.32 2290.19 1482.32 Q2294.2 1482.32 2296.53 1480.21 Q2298.87 1478.1 2298.87 1474.49 Q2298.87 1470.88 2296.53 1468.77 Q2294.2 1466.67 2290.19 1466.67 Q2288.32 1466.67 2286.44 1467.08 Q2284.59 1467.5 2282.65 1468.38 L2282.65 1451.02 Z\" fill=\"#000000\" fill-rule=\"evenodd\" fill-opacity=\"1\" /><path clip-path=\"url(#clip920)\" d=\"M1173.91 1520.52 L1203.95 1520.52 L1203.95 1525.93 L1180.34 1525.93 L1180.34 1540 L1202.97 1540 L1202.97 1545.41 L1180.34 1545.41 L1180.34 1562.63 L1204.52 1562.63 L1204.52 1568.04 L1173.91 1568.04 L1173.91 1520.52 Z\" fill=\"#000000\" fill-rule=\"evenodd\" fill-opacity=\"1\" /><path clip-path=\"url(#clip920)\" d=\"M1220.5 1562.7 L1220.5 1581.6 L1214.61 1581.6 L1214.61 1532.4 L1220.5 1532.4 L1220.5 1537.81 Q1222.35 1534.62 1225.15 1533.1 Q1227.98 1531.54 1231.9 1531.54 Q1238.39 1531.54 1242.43 1536.69 Q1246.51 1541.85 1246.51 1550.25 Q1246.51 1558.65 1242.43 1563.81 Q1238.39 1568.97 1231.9 1568.97 Q1227.98 1568.97 1225.15 1567.44 Q1222.35 1565.88 1220.5 1562.7 M1240.43 1550.25 Q1240.43 1543.79 1237.75 1540.13 Q1235.11 1536.44 1230.47 1536.44 Q1225.82 1536.44 1223.14 1540.13 Q1220.5 1543.79 1220.5 1550.25 Q1220.5 1556.71 1223.14 1560.4 Q1225.82 1564.07 1230.47 1564.07 Q1235.11 1564.07 1237.75 1560.4 Q1240.43 1556.71 1240.43 1550.25 Z\" fill=\"#000000\" fill-rule=\"evenodd\" fill-opacity=\"1\" /><path clip-path=\"url(#clip920)\" d=\"M1270.03 1536.5 Q1265.32 1536.5 1262.58 1540.19 Q1259.84 1543.85 1259.84 1550.25 Q1259.84 1556.65 1262.55 1560.34 Q1265.29 1564 1270.03 1564 Q1274.71 1564 1277.44 1560.31 Q1280.18 1556.62 1280.18 1550.25 Q1280.18 1543.92 1277.44 1540.23 Q1274.71 1536.5 1270.03 1536.5 M1270.03 1531.54 Q1277.67 1531.54 1282.03 1536.5 Q1286.39 1541.47 1286.39 1550.25 Q1286.39 1559 1282.03 1564 Q1277.67 1568.97 1270.03 1568.97 Q1262.36 1568.97 1258 1564 Q1253.67 1559 1253.67 1550.25 Q1253.67 1541.47 1258 1536.5 Q1262.36 1531.54 1270.03 1531.54 Z\" fill=\"#000000\" fill-rule=\"evenodd\" fill-opacity=\"1\" /><path clip-path=\"url(#clip920)\" d=\"M1321.75 1533.76 L1321.75 1539.24 Q1319.27 1537.87 1316.75 1537.2 Q1314.27 1536.5 1311.72 1536.5 Q1306.03 1536.5 1302.87 1540.13 Q1299.72 1543.73 1299.72 1550.25 Q1299.72 1556.78 1302.87 1560.4 Q1306.03 1564 1311.72 1564 Q1314.27 1564 1316.75 1563.33 Q1319.27 1562.63 1321.75 1561.26 L1321.75 1566.68 Q1319.3 1567.82 1316.66 1568.39 Q1314.05 1568.97 1311.09 1568.97 Q1303.03 1568.97 1298.29 1563.91 Q1293.55 1558.85 1293.55 1550.25 Q1293.55 1541.53 1298.32 1536.53 Q1303.13 1531.54 1311.47 1531.54 Q1314.17 1531.54 1316.75 1532.11 Q1319.33 1532.65 1321.75 1533.76 Z\" fill=\"#000000\" fill-rule=\"evenodd\" fill-opacity=\"1\" /><path clip-path=\"url(#clip920)\" d=\"M1361.57 1546.53 L1361.57 1568.04 L1355.71 1568.04 L1355.71 1546.72 Q1355.71 1541.66 1353.74 1539.14 Q1351.76 1536.63 1347.82 1536.63 Q1343.07 1536.63 1340.34 1539.65 Q1337.6 1542.68 1337.6 1547.9 L1337.6 1568.04 L1331.71 1568.04 L1331.71 1518.52 L1337.6 1518.52 L1337.6 1537.93 Q1339.7 1534.72 1342.53 1533.13 Q1345.4 1531.54 1349.12 1531.54 Q1355.26 1531.54 1358.42 1535.36 Q1361.57 1539.14 1361.57 1546.53 Z\" fill=\"#000000\" fill-rule=\"evenodd\" fill-opacity=\"1\" /><path clip-path=\"url(#clip920)\" d=\"M1395.97 1533.45 L1395.97 1538.98 Q1393.49 1537.71 1390.82 1537.07 Q1388.14 1536.44 1385.28 1536.44 Q1380.92 1536.44 1378.72 1537.77 Q1376.56 1539.11 1376.56 1541.79 Q1376.56 1543.82 1378.12 1545 Q1379.68 1546.15 1384.39 1547.2 L1386.39 1547.64 Q1392.63 1548.98 1395.24 1551.43 Q1397.88 1553.85 1397.88 1558.21 Q1397.88 1563.17 1393.94 1566.07 Q1390.02 1568.97 1383.15 1568.97 Q1380.28 1568.97 1377.16 1568.39 Q1374.08 1567.85 1370.64 1566.74 L1370.64 1560.69 Q1373.88 1562.38 1377.04 1563.24 Q1380.19 1564.07 1383.27 1564.07 Q1387.41 1564.07 1389.64 1562.66 Q1391.87 1561.23 1391.87 1558.65 Q1391.87 1556.27 1390.24 1554.99 Q1388.65 1553.72 1383.21 1552.54 L1381.17 1552.07 Q1375.73 1550.92 1373.31 1548.56 Q1370.89 1546.18 1370.89 1542.04 Q1370.89 1537.01 1374.46 1534.27 Q1378.02 1531.54 1384.58 1531.54 Q1387.83 1531.54 1390.69 1532.01 Q1393.55 1532.49 1395.97 1533.45 Z\" fill=\"#000000\" fill-rule=\"evenodd\" fill-opacity=\"1\" /><polyline clip-path=\"url(#clip922)\" style=\"stroke:#000000; stroke-linecap:butt; stroke-linejoin:round; stroke-width:2; stroke-opacity:0.1; fill:none\" points=\"\n",
       "  219.033,1150.95 2352.76,1150.95 \n",
       "  \"/>\n",
       "<polyline clip-path=\"url(#clip922)\" style=\"stroke:#000000; stroke-linecap:butt; stroke-linejoin:round; stroke-width:2; stroke-opacity:0.1; fill:none\" points=\"\n",
       "  219.033,877.884 2352.76,877.884 \n",
       "  \"/>\n",
       "<polyline clip-path=\"url(#clip922)\" style=\"stroke:#000000; stroke-linecap:butt; stroke-linejoin:round; stroke-width:2; stroke-opacity:0.1; fill:none\" points=\"\n",
       "  219.033,604.814 2352.76,604.814 \n",
       "  \"/>\n",
       "<polyline clip-path=\"url(#clip922)\" style=\"stroke:#000000; stroke-linecap:butt; stroke-linejoin:round; stroke-width:2; stroke-opacity:0.1; fill:none\" points=\"\n",
       "  219.033,331.744 2352.76,331.744 \n",
       "  \"/>\n",
       "<polyline clip-path=\"url(#clip920)\" style=\"stroke:#000000; stroke-linecap:butt; stroke-linejoin:round; stroke-width:4; stroke-opacity:1; fill:none\" points=\"\n",
       "  219.033,1423.18 219.033,123.472 \n",
       "  \"/>\n",
       "<polyline clip-path=\"url(#clip920)\" style=\"stroke:#000000; stroke-linecap:butt; stroke-linejoin:round; stroke-width:4; stroke-opacity:1; fill:none\" points=\"\n",
       "  219.033,1150.95 237.931,1150.95 \n",
       "  \"/>\n",
       "<polyline clip-path=\"url(#clip920)\" style=\"stroke:#000000; stroke-linecap:butt; stroke-linejoin:round; stroke-width:4; stroke-opacity:1; fill:none\" points=\"\n",
       "  219.033,877.884 237.931,877.884 \n",
       "  \"/>\n",
       "<polyline clip-path=\"url(#clip920)\" style=\"stroke:#000000; stroke-linecap:butt; stroke-linejoin:round; stroke-width:4; stroke-opacity:1; fill:none\" points=\"\n",
       "  219.033,604.814 237.931,604.814 \n",
       "  \"/>\n",
       "<polyline clip-path=\"url(#clip920)\" style=\"stroke:#000000; stroke-linecap:butt; stroke-linejoin:round; stroke-width:4; stroke-opacity:1; fill:none\" points=\"\n",
       "  219.033,331.744 237.931,331.744 \n",
       "  \"/>\n",
       "<path clip-path=\"url(#clip920)\" d=\"M126.853 1136.75 Q123.242 1136.75 121.413 1140.32 Q119.607 1143.86 119.607 1150.99 Q119.607 1158.1 121.413 1161.66 Q123.242 1165.2 126.853 1165.2 Q130.487 1165.2 132.292 1161.66 Q134.121 1158.1 134.121 1150.99 Q134.121 1143.86 132.292 1140.32 Q130.487 1136.75 126.853 1136.75 M126.853 1133.05 Q132.663 1133.05 135.718 1137.66 Q138.797 1142.24 138.797 1150.99 Q138.797 1159.72 135.718 1164.32 Q132.663 1168.91 126.853 1168.91 Q121.043 1168.91 117.964 1164.32 Q114.908 1159.72 114.908 1150.99 Q114.908 1142.24 117.964 1137.66 Q121.043 1133.05 126.853 1133.05 Z\" fill=\"#000000\" fill-rule=\"evenodd\" fill-opacity=\"1\" /><path clip-path=\"url(#clip920)\" d=\"M147.015 1162.36 L151.899 1162.36 L151.899 1168.23 L147.015 1168.23 L147.015 1162.36 Z\" fill=\"#000000\" fill-rule=\"evenodd\" fill-opacity=\"1\" /><path clip-path=\"url(#clip920)\" d=\"M162.13 1133.67 L180.487 1133.67 L180.487 1137.61 L166.413 1137.61 L166.413 1146.08 Q167.431 1145.73 168.45 1145.57 Q169.468 1145.39 170.487 1145.39 Q176.274 1145.39 179.653 1148.56 Q183.033 1151.73 183.033 1157.15 Q183.033 1162.73 179.561 1165.83 Q176.089 1168.91 169.769 1168.91 Q167.593 1168.91 165.325 1168.54 Q163.079 1168.17 160.672 1167.42 L160.672 1162.73 Q162.755 1163.86 164.977 1164.42 Q167.2 1164.97 169.677 1164.97 Q173.681 1164.97 176.019 1162.86 Q178.357 1160.76 178.357 1157.15 Q178.357 1153.54 176.019 1151.43 Q173.681 1149.32 169.677 1149.32 Q167.802 1149.32 165.927 1149.74 Q164.075 1150.16 162.13 1151.04 L162.13 1133.67 Z\" fill=\"#000000\" fill-rule=\"evenodd\" fill-opacity=\"1\" /><path clip-path=\"url(#clip920)\" d=\"M116.668 891.229 L124.306 891.229 L124.306 864.864 L115.996 866.53 L115.996 862.271 L124.26 860.604 L128.936 860.604 L128.936 891.229 L136.575 891.229 L136.575 895.164 L116.668 895.164 L116.668 891.229 Z\" fill=\"#000000\" fill-rule=\"evenodd\" fill-opacity=\"1\" /><path clip-path=\"url(#clip920)\" d=\"M146.019 889.285 L150.903 889.285 L150.903 895.164 L146.019 895.164 L146.019 889.285 Z\" fill=\"#000000\" fill-rule=\"evenodd\" fill-opacity=\"1\" /><path clip-path=\"url(#clip920)\" d=\"M171.089 863.683 Q167.477 863.683 165.649 867.248 Q163.843 870.79 163.843 877.919 Q163.843 885.026 165.649 888.59 Q167.477 892.132 171.089 892.132 Q174.723 892.132 176.528 888.59 Q178.357 885.026 178.357 877.919 Q178.357 870.79 176.528 867.248 Q174.723 863.683 171.089 863.683 M171.089 859.98 Q176.899 859.98 179.954 864.586 Q183.033 869.169 183.033 877.919 Q183.033 886.646 179.954 891.252 Q176.899 895.836 171.089 895.836 Q165.278 895.836 162.2 891.252 Q159.144 886.646 159.144 877.919 Q159.144 869.169 162.2 864.586 Q165.278 859.98 171.089 859.98 Z\" fill=\"#000000\" fill-rule=\"evenodd\" fill-opacity=\"1\" /><path clip-path=\"url(#clip920)\" d=\"M117.663 618.159 L125.302 618.159 L125.302 591.794 L116.992 593.46 L116.992 589.201 L125.255 587.534 L129.931 587.534 L129.931 618.159 L137.57 618.159 L137.57 622.094 L117.663 622.094 L117.663 618.159 Z\" fill=\"#000000\" fill-rule=\"evenodd\" fill-opacity=\"1\" /><path clip-path=\"url(#clip920)\" d=\"M147.015 616.215 L151.899 616.215 L151.899 622.094 L147.015 622.094 L147.015 616.215 Z\" fill=\"#000000\" fill-rule=\"evenodd\" fill-opacity=\"1\" /><path clip-path=\"url(#clip920)\" d=\"M162.13 587.534 L180.487 587.534 L180.487 591.47 L166.413 591.47 L166.413 599.942 Q167.431 599.595 168.45 599.432 Q169.468 599.247 170.487 599.247 Q176.274 599.247 179.653 602.419 Q183.033 605.59 183.033 611.006 Q183.033 616.585 179.561 619.687 Q176.089 622.766 169.769 622.766 Q167.593 622.766 165.325 622.395 Q163.079 622.025 160.672 621.284 L160.672 616.585 Q162.755 617.719 164.977 618.275 Q167.2 618.831 169.677 618.831 Q173.681 618.831 176.019 616.724 Q178.357 614.618 178.357 611.006 Q178.357 607.395 176.019 605.289 Q173.681 603.182 169.677 603.182 Q167.802 603.182 165.927 603.599 Q164.075 604.016 162.13 604.895 L162.13 587.534 Z\" fill=\"#000000\" fill-rule=\"evenodd\" fill-opacity=\"1\" /><path clip-path=\"url(#clip920)\" d=\"M119.885 345.089 L136.204 345.089 L136.204 349.024 L114.26 349.024 L114.26 345.089 Q116.922 342.334 121.505 337.705 Q126.112 333.052 127.292 331.71 Q129.538 329.186 130.417 327.45 Q131.32 325.691 131.32 324.001 Q131.32 321.247 129.376 319.511 Q127.455 317.774 124.353 317.774 Q122.154 317.774 119.7 318.538 Q117.269 319.302 114.492 320.853 L114.492 316.131 Q117.316 314.997 119.769 314.418 Q122.223 313.839 124.26 313.839 Q129.63 313.839 132.825 316.524 Q136.019 319.21 136.019 323.7 Q136.019 325.83 135.209 327.751 Q134.422 329.649 132.316 332.242 Q131.737 332.913 128.635 336.131 Q125.533 339.325 119.885 345.089 Z\" fill=\"#000000\" fill-rule=\"evenodd\" fill-opacity=\"1\" /><path clip-path=\"url(#clip920)\" d=\"M146.019 343.145 L150.903 343.145 L150.903 349.024 L146.019 349.024 L146.019 343.145 Z\" fill=\"#000000\" fill-rule=\"evenodd\" fill-opacity=\"1\" /><path clip-path=\"url(#clip920)\" d=\"M171.089 317.543 Q167.477 317.543 165.649 321.108 Q163.843 324.649 163.843 331.779 Q163.843 338.885 165.649 342.45 Q167.477 345.992 171.089 345.992 Q174.723 345.992 176.528 342.45 Q178.357 338.885 178.357 331.779 Q178.357 324.649 176.528 321.108 Q174.723 317.543 171.089 317.543 M171.089 313.839 Q176.899 313.839 179.954 318.446 Q183.033 323.029 183.033 331.779 Q183.033 340.506 179.954 345.112 Q176.899 349.696 171.089 349.696 Q165.278 349.696 162.2 345.112 Q159.144 340.506 159.144 331.779 Q159.144 323.029 162.2 318.446 Q165.278 313.839 171.089 313.839 Z\" fill=\"#000000\" fill-rule=\"evenodd\" fill-opacity=\"1\" /><path clip-path=\"url(#clip920)\" d=\"M16.4842 840.023 L16.4842 833.593 L58.5933 833.593 L58.5933 810.454 L64.0042 810.454 L64.0042 840.023 L16.4842 840.023 Z\" fill=\"#000000\" fill-rule=\"evenodd\" fill-opacity=\"1\" /><path clip-path=\"url(#clip920)\" d=\"M32.4621 791.293 Q32.4621 796.004 36.1542 798.741 Q39.8145 801.478 46.212 801.478 Q52.6095 801.478 56.3017 798.773 Q59.9619 796.036 59.9619 791.293 Q59.9619 786.614 56.2698 783.877 Q52.5777 781.14 46.212 781.14 Q39.8781 781.14 36.186 783.877 Q32.4621 786.614 32.4621 791.293 M27.4968 791.293 Q27.4968 783.654 32.4621 779.294 Q37.4273 774.933 46.212 774.933 Q54.9649 774.933 59.9619 779.294 Q64.9272 783.654 64.9272 791.293 Q64.9272 798.964 59.9619 803.324 Q54.9649 807.653 46.212 807.653 Q37.4273 807.653 32.4621 803.324 Q27.4968 798.964 27.4968 791.293 Z\" fill=\"#000000\" fill-rule=\"evenodd\" fill-opacity=\"1\" /><path clip-path=\"url(#clip920)\" d=\"M29.4065 742.5 L34.9447 742.5 Q33.6716 744.983 33.035 747.656 Q32.3984 750.33 32.3984 753.194 Q32.3984 757.555 33.7352 759.751 Q35.072 761.915 37.7456 761.915 Q39.7826 761.915 40.9603 760.356 Q42.1061 758.796 43.1565 754.086 L43.6021 752.08 Q44.9389 745.842 47.3897 743.232 Q49.8086 740.59 54.1691 740.59 Q59.1344 740.59 62.0308 744.537 Q64.9272 748.452 64.9272 755.327 Q64.9272 758.192 64.3543 761.311 Q63.8132 764.398 62.6992 767.836 L56.6518 767.836 Q58.3387 764.589 59.198 761.438 Q60.0256 758.287 60.0256 755.2 Q60.0256 751.062 58.6251 748.834 Q57.1929 746.606 54.6147 746.606 Q52.2276 746.606 50.9545 748.229 Q49.6813 749.821 48.5037 755.263 L48.0262 757.3 Q46.8804 762.743 44.5251 765.162 Q42.138 767.581 38.0002 767.581 Q32.9713 767.581 30.2341 764.016 Q27.4968 760.451 27.4968 753.895 Q27.4968 750.648 27.9743 747.784 Q28.4517 744.919 29.4065 742.5 Z\" fill=\"#000000\" fill-rule=\"evenodd\" fill-opacity=\"1\" /><path clip-path=\"url(#clip920)\" d=\"M29.4065 708.539 L34.9447 708.539 Q33.6716 711.022 33.035 713.695 Q32.3984 716.369 32.3984 719.233 Q32.3984 723.594 33.7352 725.79 Q35.072 727.954 37.7456 727.954 Q39.7826 727.954 40.9603 726.395 Q42.1061 724.835 43.1565 720.125 L43.6021 718.119 Q44.9389 711.881 47.3897 709.271 Q49.8086 706.629 54.1691 706.629 Q59.1344 706.629 62.0308 710.576 Q64.9272 714.491 64.9272 721.366 Q64.9272 724.23 64.3543 727.35 Q63.8132 730.437 62.6992 733.875 L56.6518 733.875 Q58.3387 730.628 59.198 727.477 Q60.0256 724.326 60.0256 721.239 Q60.0256 717.101 58.6251 714.873 Q57.1929 712.645 54.6147 712.645 Q52.2276 712.645 50.9545 714.268 Q49.6813 715.86 48.5037 721.302 L48.0262 723.339 Q46.8804 728.782 44.5251 731.201 Q42.138 733.62 38.0002 733.62 Q32.9713 733.62 30.2341 730.055 Q27.4968 726.49 27.4968 719.934 Q27.4968 716.687 27.9743 713.823 Q28.4517 710.958 29.4065 708.539 Z\" fill=\"#000000\" fill-rule=\"evenodd\" fill-opacity=\"1\" /><path clip-path=\"url(#clip920)\" d=\"M976.527 12.096 L984.71 12.096 L984.71 65.6895 L1014.16 65.6895 L1014.16 72.576 L976.527 72.576 L976.527 12.096 Z\" fill=\"#000000\" fill-rule=\"evenodd\" fill-opacity=\"1\" /><path clip-path=\"url(#clip920)\" d=\"M1059.77 48.0275 L1059.77 51.6733 L1025.5 51.6733 Q1025.99 59.3701 1030.12 63.421 Q1034.29 67.4314 1041.71 67.4314 Q1046 67.4314 1050.01 66.3781 Q1054.06 65.3249 1058.03 63.2184 L1058.03 70.267 Q1054.02 71.9684 1049.81 72.8596 Q1045.59 73.7508 1041.26 73.7508 Q1030.4 73.7508 1024.04 67.4314 Q1017.72 61.1119 1017.72 50.3365 Q1017.72 39.1965 1023.72 32.6746 Q1029.76 26.1121 1039.96 26.1121 Q1049.12 26.1121 1054.43 32.0264 Q1059.77 37.9003 1059.77 48.0275 M1052.32 45.84 Q1052.24 39.7232 1048.88 36.0774 Q1045.55 32.4315 1040.05 32.4315 Q1033.81 32.4315 1030.04 35.9558 Q1026.31 39.4801 1025.75 45.8805 L1052.32 45.84 Z\" fill=\"#000000\" fill-rule=\"evenodd\" fill-opacity=\"1\" /><path clip-path=\"url(#clip920)\" d=\"M1092.63 49.7694 Q1083.59 49.7694 1080.11 51.8354 Q1076.62 53.9013 1076.62 58.8839 Q1076.62 62.8538 1079.22 65.2034 Q1081.85 67.5124 1086.35 67.5124 Q1092.54 67.5124 1096.27 63.1374 Q1100.04 58.7219 1100.04 51.4303 L1100.04 49.7694 L1092.63 49.7694 M1107.49 46.6907 L1107.49 72.576 L1100.04 72.576 L1100.04 65.6895 Q1097.49 69.8214 1093.68 71.8063 Q1089.87 73.7508 1084.36 73.7508 Q1077.39 73.7508 1073.26 69.8619 Q1069.17 65.9325 1069.17 59.3701 Q1069.17 51.7138 1074.28 47.825 Q1079.42 43.9361 1089.59 43.9361 L1100.04 43.9361 L1100.04 43.2069 Q1100.04 38.0623 1096.64 35.2672 Q1093.27 32.4315 1087.16 32.4315 Q1083.27 32.4315 1079.58 33.3632 Q1075.9 34.295 1072.49 36.1584 L1072.49 29.2718 Q1076.58 27.692 1080.43 26.9223 Q1084.28 26.1121 1087.93 26.1121 Q1097.77 26.1121 1102.63 31.2163 Q1107.49 36.3204 1107.49 46.6907 Z\" fill=\"#000000\" fill-rule=\"evenodd\" fill-opacity=\"1\" /><path clip-path=\"url(#clip920)\" d=\"M1149.14 34.1734 Q1147.88 33.4443 1146.38 33.1202 Q1144.92 32.7556 1143.14 32.7556 Q1136.82 32.7556 1133.42 36.8875 Q1130.06 40.9789 1130.06 48.6757 L1130.06 72.576 L1122.56 72.576 L1122.56 27.2059 L1130.06 27.2059 L1130.06 34.2544 Q1132.41 30.1225 1136.17 28.1376 Q1139.94 26.1121 1145.33 26.1121 Q1146.1 26.1121 1147.03 26.2337 Q1147.96 26.3147 1149.1 26.5172 L1149.14 34.1734 Z\" fill=\"#000000\" fill-rule=\"evenodd\" fill-opacity=\"1\" /><path clip-path=\"url(#clip920)\" d=\"M1193.21 45.1919 L1193.21 72.576 L1185.76 72.576 L1185.76 45.4349 Q1185.76 38.994 1183.24 35.7938 Q1180.73 32.5936 1175.71 32.5936 Q1169.67 32.5936 1166.19 36.4419 Q1162.71 40.2903 1162.71 46.9338 L1162.71 72.576 L1155.21 72.576 L1155.21 27.2059 L1162.71 27.2059 L1162.71 34.2544 Q1165.38 30.163 1168.99 28.1376 Q1172.63 26.1121 1177.37 26.1121 Q1185.19 26.1121 1189.2 30.9732 Q1193.21 35.7938 1193.21 45.1919 Z\" fill=\"#000000\" fill-rule=\"evenodd\" fill-opacity=\"1\" /><path clip-path=\"url(#clip920)\" d=\"M1208.08 27.2059 L1215.53 27.2059 L1215.53 72.576 L1208.08 72.576 L1208.08 27.2059 M1208.08 9.54393 L1215.53 9.54393 L1215.53 18.9825 L1208.08 18.9825 L1208.08 9.54393 Z\" fill=\"#000000\" fill-rule=\"evenodd\" fill-opacity=\"1\" /><path clip-path=\"url(#clip920)\" d=\"M1268.84 45.1919 L1268.84 72.576 L1261.39 72.576 L1261.39 45.4349 Q1261.39 38.994 1258.87 35.7938 Q1256.36 32.5936 1251.34 32.5936 Q1245.3 32.5936 1241.82 36.4419 Q1238.34 40.2903 1238.34 46.9338 L1238.34 72.576 L1230.84 72.576 L1230.84 27.2059 L1238.34 27.2059 L1238.34 34.2544 Q1241.01 30.163 1244.62 28.1376 Q1248.26 26.1121 1253 26.1121 Q1260.82 26.1121 1264.83 30.9732 Q1268.84 35.7938 1268.84 45.1919 Z\" fill=\"#000000\" fill-rule=\"evenodd\" fill-opacity=\"1\" /><path clip-path=\"url(#clip920)\" d=\"M1313.56 49.3643 Q1313.56 41.2625 1310.2 36.8065 Q1306.88 32.3505 1300.84 32.3505 Q1294.85 32.3505 1291.48 36.8065 Q1288.16 41.2625 1288.16 49.3643 Q1288.16 57.4256 1291.48 61.8816 Q1294.85 66.3376 1300.84 66.3376 Q1306.88 66.3376 1310.2 61.8816 Q1313.56 57.4256 1313.56 49.3643 M1321.02 66.9452 Q1321.02 78.5308 1315.87 84.1616 Q1310.73 89.8329 1300.11 89.8329 Q1296.18 89.8329 1292.7 89.2252 Q1289.22 88.6581 1285.93 87.4428 L1285.93 80.1917 Q1289.22 81.9741 1292.42 82.8248 Q1295.62 83.6755 1298.94 83.6755 Q1306.27 83.6755 1309.92 79.8271 Q1313.56 76.0193 1313.56 68.282 L1313.56 64.5957 Q1311.25 68.6061 1307.65 70.5911 Q1304.04 72.576 1299.02 72.576 Q1290.67 72.576 1285.57 66.2161 Q1280.47 59.8562 1280.47 49.3643 Q1280.47 38.832 1285.57 32.472 Q1290.67 26.1121 1299.02 26.1121 Q1304.04 26.1121 1307.65 28.0971 Q1311.25 30.082 1313.56 34.0924 L1313.56 27.2059 L1321.02 27.2059 L1321.02 66.9452 Z\" fill=\"#000000\" fill-rule=\"evenodd\" fill-opacity=\"1\" /><path clip-path=\"url(#clip920)\" d=\"M1408.35 16.7545 L1408.35 25.383 Q1404.22 21.5346 1399.52 19.6307 Q1394.86 17.7268 1389.6 17.7268 Q1379.23 17.7268 1373.72 24.0867 Q1368.21 30.4061 1368.21 42.3968 Q1368.21 54.3469 1373.72 60.7069 Q1379.23 67.0263 1389.6 67.0263 Q1394.86 67.0263 1399.52 65.1223 Q1404.22 63.2184 1408.35 59.3701 L1408.35 67.9175 Q1404.06 70.8341 1399.24 72.2924 Q1394.46 73.7508 1389.11 73.7508 Q1375.38 73.7508 1367.48 65.3654 Q1359.58 56.9395 1359.58 42.3968 Q1359.58 27.8135 1367.48 19.4281 Q1375.38 11.0023 1389.11 11.0023 Q1394.54 11.0023 1399.32 12.4606 Q1404.14 13.8784 1408.35 16.7545 Z\" fill=\"#000000\" fill-rule=\"evenodd\" fill-opacity=\"1\" /><path clip-path=\"url(#clip920)\" d=\"M1419.9 54.671 L1419.9 27.2059 L1427.35 27.2059 L1427.35 54.3874 Q1427.35 60.8284 1429.86 64.0691 Q1432.38 67.2693 1437.4 67.2693 Q1443.43 67.2693 1446.92 63.421 Q1450.44 59.5726 1450.44 52.9291 L1450.44 27.2059 L1457.9 27.2059 L1457.9 72.576 L1450.44 72.576 L1450.44 65.6084 Q1447.73 69.7404 1444.12 71.7658 Q1440.56 73.7508 1435.82 73.7508 Q1428 73.7508 1423.95 68.8897 Q1419.9 64.0286 1419.9 54.671 M1438.65 26.1121 L1438.65 26.1121 Z\" fill=\"#000000\" fill-rule=\"evenodd\" fill-opacity=\"1\" /><path clip-path=\"url(#clip920)\" d=\"M1499.54 34.1734 Q1498.28 33.4443 1496.78 33.1202 Q1495.33 32.7556 1493.54 32.7556 Q1487.22 32.7556 1483.82 36.8875 Q1480.46 40.9789 1480.46 48.6757 L1480.46 72.576 L1472.97 72.576 L1472.97 27.2059 L1480.46 27.2059 L1480.46 34.2544 Q1482.81 30.1225 1486.58 28.1376 Q1490.34 26.1121 1495.73 26.1121 Q1496.5 26.1121 1497.43 26.2337 Q1498.36 26.3147 1499.5 26.5172 L1499.54 34.1734 Z\" fill=\"#000000\" fill-rule=\"evenodd\" fill-opacity=\"1\" /><path clip-path=\"url(#clip920)\" d=\"M1502.01 27.2059 L1509.91 27.2059 L1524.09 65.2844 L1538.27 27.2059 L1546.17 27.2059 L1529.15 72.576 L1519.02 72.576 L1502.01 27.2059 Z\" fill=\"#000000\" fill-rule=\"evenodd\" fill-opacity=\"1\" /><path clip-path=\"url(#clip920)\" d=\"M1595.26 48.0275 L1595.26 51.6733 L1560.99 51.6733 Q1561.48 59.3701 1565.61 63.421 Q1569.78 67.4314 1577.19 67.4314 Q1581.49 67.4314 1585.5 66.3781 Q1589.55 65.3249 1593.52 63.2184 L1593.52 70.267 Q1589.51 71.9684 1585.3 72.8596 Q1581.08 73.7508 1576.75 73.7508 Q1565.89 73.7508 1559.53 67.4314 Q1553.21 61.1119 1553.21 50.3365 Q1553.21 39.1965 1559.21 32.6746 Q1565.24 26.1121 1575.45 26.1121 Q1584.61 26.1121 1589.91 32.0264 Q1595.26 37.9003 1595.26 48.0275 M1587.81 45.84 Q1587.73 39.7232 1584.37 36.0774 Q1581.04 32.4315 1575.53 32.4315 Q1569.3 32.4315 1565.53 35.9558 Q1561.8 39.4801 1561.23 45.8805 L1587.81 45.84 Z\" fill=\"#000000\" fill-rule=\"evenodd\" fill-opacity=\"1\" /><polyline clip-path=\"url(#clip922)\" style=\"stroke:#0000ff; stroke-linecap:butt; stroke-linejoin:round; stroke-width:8; stroke-opacity:1; fill:none\" points=\"\n",
       "  279.421,160.256 782.658,1320.42 1285.89,1360.51 1789.13,1376.02 2292.37,1386.4 \n",
       "  \"/>\n",
       "</svg>\n"
      ]
     },
     "execution_count": 144,
     "metadata": {},
     "output_type": "execute_result"
    }
   ],
   "source": [
    "p_l_curve = plot(1:length(loss_history2), loss_history2, xlabel = \"Epochs\", ylabel = \"Loss\", title = \"Learning Curve\", \n",
    "    legend = false, color = :blue, linewidth = 2)"
   ]
  },
  {
   "cell_type": "code",
   "execution_count": null,
   "metadata": {},
   "outputs": [],
   "source": []
  }
 ],
 "metadata": {
  "kernelspec": {
   "display_name": "Julia 1.8.2",
   "language": "julia",
   "name": "julia-1.8"
  },
  "language_info": {
   "file_extension": ".jl",
   "mimetype": "application/julia",
   "name": "julia",
   "version": "1.8.2"
  }
 },
 "nbformat": 4,
 "nbformat_minor": 4
}
