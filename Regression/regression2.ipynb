{
 "cells": [
  {
   "cell_type": "code",
   "execution_count": null,
   "metadata": {},
   "outputs": [],
   "source": []
  },
  {
   "cell_type": "code",
   "execution_count": 1,
   "metadata": {},
   "outputs": [
    {
     "name": "stderr",
     "output_type": "stream",
     "text": [
      "\u001b[32m\u001b[1m    Updating\u001b[22m\u001b[39m registry at `~/.julia/registries/General.toml`\n",
      "\u001b[32m\u001b[1m   Resolving\u001b[22m\u001b[39m package versions...\n",
      "\u001b[32m\u001b[1m   Installed\u001b[22m\u001b[39m StatisticalTraits ──────── v3.4.0\n",
      "\u001b[32m\u001b[1m   Installed\u001b[22m\u001b[39m CategoricalDistributions ─ v0.1.15\n",
      "\u001b[32m\u001b[1m   Installed\u001b[22m\u001b[39m ContextVariablesX ──────── v0.1.3\n",
      "\u001b[32m\u001b[1m   Installed\u001b[22m\u001b[39m Bootstrap ──────────────── v2.4.0\n",
      "\u001b[32m\u001b[1m   Installed\u001b[22m\u001b[39m ShowCases ──────────────── v0.1.0\n",
      "\u001b[32m\u001b[1m   Installed\u001b[22m\u001b[39m LearnAPI ───────────────── v0.1.0\n",
      "\u001b[32m\u001b[1m   Installed\u001b[22m\u001b[39m NNlib ──────────────────── v0.9.30\n",
      "\u001b[32m\u001b[1m   Installed\u001b[22m\u001b[39m DSP ────────────────────── v0.7.10\n",
      "\u001b[32m\u001b[1m   Installed\u001b[22m\u001b[39m EnumX ──────────────────── v1.0.5\n",
      "\u001b[32m\u001b[1m   Installed\u001b[22m\u001b[39m ScopedValues ───────────── v1.3.0\n",
      "\u001b[32m\u001b[1m   Installed\u001b[22m\u001b[39m InitialValues ──────────── v0.3.1\n",
      "\u001b[32m\u001b[1m   Installed\u001b[22m\u001b[39m MLUtils ────────────────── v0.4.8\n",
      "\u001b[32m\u001b[1m   Installed\u001b[22m\u001b[39m PrettyPrint ────────────── v0.2.0\n",
      "\u001b[32m\u001b[1m   Installed\u001b[22m\u001b[39m MLCore ─────────────────── v1.0.0\n",
      "\u001b[32m\u001b[1m   Installed\u001b[22m\u001b[39m FiniteDiff ─────────────── v2.27.0\n",
      "\u001b[32m\u001b[1m   Installed\u001b[22m\u001b[39m FLoopsBase ─────────────── v0.1.1\n",
      "\u001b[32m\u001b[1m   Installed\u001b[22m\u001b[39m MLJFlow ────────────────── v0.5.0\n",
      "\u001b[32m\u001b[1m   Installed\u001b[22m\u001b[39m EarlyStopping ──────────── v0.3.0\n",
      "\u001b[32m\u001b[1m   Installed\u001b[22m\u001b[39m MLBase ─────────────────── v0.9.2\n",
      "\u001b[32m\u001b[1m   Installed\u001b[22m\u001b[39m LinearMaps ─────────────── v3.11.4\n",
      "\u001b[32m\u001b[1m   Installed\u001b[22m\u001b[39m MLJModels ──────────────── v0.17.9\n",
      "\u001b[32m\u001b[1m   Installed\u001b[22m\u001b[39m StatisticalMeasures ────── v0.1.7\n",
      "\u001b[32m\u001b[1m   Installed\u001b[22m\u001b[39m IterationControl ───────── v0.5.4\n",
      "\u001b[32m\u001b[1m   Installed\u001b[22m\u001b[39m MLJLinearModels ────────── v0.10.0\n",
      "\u001b[32m\u001b[1m   Installed\u001b[22m\u001b[39m MicroCollections ───────── v0.2.0\n",
      "\u001b[32m\u001b[1m   Installed\u001b[22m\u001b[39m DefineSingletons ───────── v0.1.2\n",
      "\u001b[32m\u001b[1m   Installed\u001b[22m\u001b[39m NameResolution ─────────── v0.1.5\n",
      "\u001b[32m\u001b[1m   Installed\u001b[22m\u001b[39m MLJBase ────────────────── v1.7.0\n",
      "\u001b[32m\u001b[1m   Installed\u001b[22m\u001b[39m NLSolversBase ──────────── v7.9.1\n",
      "\u001b[32m\u001b[1m   Installed\u001b[22m\u001b[39m PrettyPrinting ─────────── v0.4.2\n",
      "\u001b[32m\u001b[1m   Installed\u001b[22m\u001b[39m CommonSubexpressions ───── v0.3.1\n",
      "\u001b[32m\u001b[1m   Installed\u001b[22m\u001b[39m MLStyle ────────────────── v0.4.17\n",
      "\u001b[32m\u001b[1m   Installed\u001b[22m\u001b[39m ADTypes ────────────────── v1.14.0\n",
      "\u001b[32m\u001b[1m   Installed\u001b[22m\u001b[39m DiffRules ──────────────── v1.15.1\n",
      "\u001b[32m\u001b[1m   Installed\u001b[22m\u001b[39m StatisticalMeasuresBase ── v0.1.2\n",
      "\u001b[32m\u001b[1m   Installed\u001b[22m\u001b[39m BangBang ───────────────── v0.4.4\n",
      "\u001b[32m\u001b[1m   Installed\u001b[22m\u001b[39m FLoops ─────────────────── v0.2.2\n",
      "\u001b[32m\u001b[1m   Installed\u001b[22m\u001b[39m Lasso ──────────────────── v0.7.2\n",
      "\u001b[32m\u001b[1m   Installed\u001b[22m\u001b[39m MLJIteration ───────────── v0.6.3\n",
      "\u001b[32m\u001b[1m   Installed\u001b[22m\u001b[39m ARFFFiles ──────────────── v1.5.0\n",
      "\u001b[32m\u001b[1m   Installed\u001b[22m\u001b[39m PositiveFactorizations ─── v0.2.4\n",
      "\u001b[32m\u001b[1m   Installed\u001b[22m\u001b[39m HashArrayMappedTries ───── v0.2.0\n",
      "\u001b[32m\u001b[1m   Installed\u001b[22m\u001b[39m DiffResults ────────────── v1.1.0\n",
      "\u001b[32m\u001b[1m   Installed\u001b[22m\u001b[39m OpenML ─────────────────── v0.3.2\n",
      "\u001b[32m\u001b[1m   Installed\u001b[22m\u001b[39m FeatureSelection ───────── v0.2.2\n",
      "\u001b[32m\u001b[1m   Installed\u001b[22m\u001b[39m ScientificTypes ────────── v3.1.0\n",
      "\u001b[32m\u001b[1m   Installed\u001b[22m\u001b[39m LineSearches ───────────── v7.3.0\n",
      "\u001b[32m\u001b[1m   Installed\u001b[22m\u001b[39m JuliaVariables ─────────── v0.2.4\n",
      "\u001b[32m\u001b[1m   Installed\u001b[22m\u001b[39m UnsafeAtomics ──────────── v0.3.0\n",
      "\u001b[32m\u001b[1m   Installed\u001b[22m\u001b[39m Atomix ─────────────────── v1.1.1\n",
      "\u001b[32m\u001b[1m   Installed\u001b[22m\u001b[39m KernelAbstractions ─────── v0.9.34\n",
      "\u001b[32m\u001b[1m   Installed\u001b[22m\u001b[39m DifferentiationInterface ─ v0.6.50\n",
      "\u001b[32m\u001b[1m   Installed\u001b[22m\u001b[39m MLJ ────────────────────── v0.20.7\n",
      "\u001b[32m\u001b[1m   Installed\u001b[22m\u001b[39m GPUArraysCore ──────────── v0.2.0\n",
      "\u001b[32m\u001b[1m   Installed\u001b[22m\u001b[39m ScientificTypesBase ────── v3.0.0\n",
      "\u001b[32m\u001b[1m   Installed\u001b[22m\u001b[39m MLJEnsembles ───────────── v0.4.3\n",
      "\u001b[32m\u001b[1m   Installed\u001b[22m\u001b[39m MLJModelInterface ──────── v1.11.0\n",
      "\u001b[32m\u001b[1m   Installed\u001b[22m\u001b[39m MLJTuning ──────────────── v0.8.8\n",
      "\u001b[32m\u001b[1m   Installed\u001b[22m\u001b[39m Transducers ────────────── v0.4.84\n",
      "\u001b[32m\u001b[1m   Installed\u001b[22m\u001b[39m MLFlowClient ───────────── v0.5.1\n",
      "\u001b[32m\u001b[1m   Installed\u001b[22m\u001b[39m Baselet ────────────────── v0.1.1\n",
      "\u001b[32m\u001b[1m   Installed\u001b[22m\u001b[39m MLJBalancing ───────────── v0.1.5\n",
      "\u001b[32m\u001b[1m   Installed\u001b[22m\u001b[39m SplittablesBase ────────── v0.1.15\n",
      "\u001b[32m\u001b[1m   Installed\u001b[22m\u001b[39m ForwardDiff ────────────── v0.10.38\n",
      "\u001b[32m\u001b[1m   Installed\u001b[22m\u001b[39m IterativeSolvers ───────── v0.9.4\n",
      "\u001b[32m\u001b[1m   Installed\u001b[22m\u001b[39m Optim ──────────────────── v1.12.0\n",
      "\u001b[32m\u001b[1m   Installed\u001b[22m\u001b[39m LatinHypercubeSampling ─── v1.9.0\n",
      "\u001b[32m\u001b[1m    Updating\u001b[22m\u001b[39m `~/.julia/environments/v1.11/Project.toml`\n",
      "  \u001b[90m[e28b5b4c] \u001b[39m\u001b[92m+ Bootstrap v2.4.0\u001b[39m\n",
      "  \u001b[90m[b4fcebef] \u001b[39m\u001b[92m+ Lasso v0.7.2\u001b[39m\n",
      "  \u001b[90m[f0e99cf1] \u001b[39m\u001b[92m+ MLBase v0.9.2\u001b[39m\n",
      "  \u001b[90m[add582a8] \u001b[39m\u001b[92m+ MLJ v0.20.7\u001b[39m\n",
      "  \u001b[90m[6ee0df7b] \u001b[39m\u001b[92m+ MLJLinearModels v0.10.0\u001b[39m\n",
      "  \u001b[90m[6f286f6a] \u001b[39m\u001b[92m+ MultivariateStats v0.10.3\u001b[39m\n",
      "  \u001b[90m[9a3f8284] \u001b[39m\u001b[92m+ Random v1.11.0\u001b[39m\n",
      "\u001b[32m\u001b[1m    Updating\u001b[22m\u001b[39m `~/.julia/environments/v1.11/Manifest.toml`\n",
      "  \u001b[90m[47edcb42] \u001b[39m\u001b[92m+ ADTypes v1.14.0\u001b[39m\n",
      "  \u001b[90m[da404889] \u001b[39m\u001b[92m+ ARFFFiles v1.5.0\u001b[39m\n",
      "  \u001b[90m[a9b6321e] \u001b[39m\u001b[92m+ Atomix v1.1.1\u001b[39m\n",
      "  \u001b[90m[198e06fe] \u001b[39m\u001b[92m+ BangBang v0.4.4\u001b[39m\n",
      "  \u001b[90m[9718e550] \u001b[39m\u001b[92m+ Baselet v0.1.1\u001b[39m\n",
      "  \u001b[90m[e28b5b4c] \u001b[39m\u001b[92m+ Bootstrap v2.4.0\u001b[39m\n",
      "  \u001b[90m[af321ab8] \u001b[39m\u001b[92m+ CategoricalDistributions v0.1.15\u001b[39m\n",
      "  \u001b[90m[bbf7d656] \u001b[39m\u001b[92m+ CommonSubexpressions v0.3.1\u001b[39m\n",
      "  \u001b[90m[6add18c4] \u001b[39m\u001b[92m+ ContextVariablesX v0.1.3\u001b[39m\n",
      "\u001b[33m⌅\u001b[39m \u001b[90m[717857b8] \u001b[39m\u001b[92m+ DSP v0.7.10\u001b[39m\n",
      "  \u001b[90m[244e2a9f] \u001b[39m\u001b[92m+ DefineSingletons v0.1.2\u001b[39m\n",
      "  \u001b[90m[163ba53b] \u001b[39m\u001b[92m+ DiffResults v1.1.0\u001b[39m\n",
      "  \u001b[90m[b552c78f] \u001b[39m\u001b[92m+ DiffRules v1.15.1\u001b[39m\n",
      "  \u001b[90m[a0c0ee7d] \u001b[39m\u001b[92m+ DifferentiationInterface v0.6.50\u001b[39m\n",
      "  \u001b[90m[792122b4] \u001b[39m\u001b[92m+ EarlyStopping v0.3.0\u001b[39m\n",
      "  \u001b[90m[4e289a0a] \u001b[39m\u001b[92m+ EnumX v1.0.5\u001b[39m\n",
      "  \u001b[90m[cc61a311] \u001b[39m\u001b[92m+ FLoops v0.2.2\u001b[39m\n",
      "  \u001b[90m[b9860ae5] \u001b[39m\u001b[92m+ FLoopsBase v0.1.1\u001b[39m\n",
      "  \u001b[90m[33837fe5] \u001b[39m\u001b[92m+ FeatureSelection v0.2.2\u001b[39m\n",
      "  \u001b[90m[6a86dc24] \u001b[39m\u001b[92m+ FiniteDiff v2.27.0\u001b[39m\n",
      "\u001b[32m⌃\u001b[39m \u001b[90m[f6369f11] \u001b[39m\u001b[92m+ ForwardDiff v0.10.38\u001b[39m\n",
      "  \u001b[90m[46192b85] \u001b[39m\u001b[92m+ GPUArraysCore v0.2.0\u001b[39m\n",
      "  \u001b[90m[076d061b] \u001b[39m\u001b[92m+ HashArrayMappedTries v0.2.0\u001b[39m\n",
      "  \u001b[90m[22cec73e] \u001b[39m\u001b[92m+ InitialValues v0.3.1\u001b[39m\n",
      "  \u001b[90m[b3c1a2ee] \u001b[39m\u001b[92m+ IterationControl v0.5.4\u001b[39m\n",
      "  \u001b[90m[42fd0dbc] \u001b[39m\u001b[92m+ IterativeSolvers v0.9.4\u001b[39m\n",
      "  \u001b[90m[b14d175d] \u001b[39m\u001b[92m+ JuliaVariables v0.2.4\u001b[39m\n",
      "  \u001b[90m[63c18a36] \u001b[39m\u001b[92m+ KernelAbstractions v0.9.34\u001b[39m\n",
      "  \u001b[90m[b4fcebef] \u001b[39m\u001b[92m+ Lasso v0.7.2\u001b[39m\n",
      "  \u001b[90m[a5e1c1ea] \u001b[39m\u001b[92m+ LatinHypercubeSampling v1.9.0\u001b[39m\n",
      "\u001b[33m⌅\u001b[39m \u001b[90m[92ad9a40] \u001b[39m\u001b[92m+ LearnAPI v0.1.0\u001b[39m\n",
      "  \u001b[90m[d3d80556] \u001b[39m\u001b[92m+ LineSearches v7.3.0\u001b[39m\n",
      "  \u001b[90m[7a12625a] \u001b[39m\u001b[92m+ LinearMaps v3.11.4\u001b[39m\n",
      "  \u001b[90m[f0e99cf1] \u001b[39m\u001b[92m+ MLBase v0.9.2\u001b[39m\n",
      "  \u001b[90m[c2834f40] \u001b[39m\u001b[92m+ MLCore v1.0.0\u001b[39m\n",
      "\u001b[33m⌅\u001b[39m \u001b[90m[64a0f543] \u001b[39m\u001b[92m+ MLFlowClient v0.5.1\u001b[39m\n",
      "  \u001b[90m[add582a8] \u001b[39m\u001b[92m+ MLJ v0.20.7\u001b[39m\n",
      "  \u001b[90m[45f359ea] \u001b[39m\u001b[92m+ MLJBalancing v0.1.5\u001b[39m\n",
      "\u001b[32m⌃\u001b[39m \u001b[90m[a7f614a8] \u001b[39m\u001b[92m+ MLJBase v1.7.0\u001b[39m\n",
      "  \u001b[90m[50ed68f4] \u001b[39m\u001b[92m+ MLJEnsembles v0.4.3\u001b[39m\n",
      "  \u001b[90m[7b7b8358] \u001b[39m\u001b[92m+ MLJFlow v0.5.0\u001b[39m\n",
      "  \u001b[90m[614be32b] \u001b[39m\u001b[92m+ MLJIteration v0.6.3\u001b[39m\n",
      "  \u001b[90m[6ee0df7b] \u001b[39m\u001b[92m+ MLJLinearModels v0.10.0\u001b[39m\n",
      "  \u001b[90m[e80e1ace] \u001b[39m\u001b[92m+ MLJModelInterface v1.11.0\u001b[39m\n",
      "  \u001b[90m[d491faf4] \u001b[39m\u001b[92m+ MLJModels v0.17.9\u001b[39m\n",
      "  \u001b[90m[03970b2e] \u001b[39m\u001b[92m+ MLJTuning v0.8.8\u001b[39m\n",
      "  \u001b[90m[d8e11817] \u001b[39m\u001b[92m+ MLStyle v0.4.17\u001b[39m\n",
      "  \u001b[90m[f1d291b0] \u001b[39m\u001b[92m+ MLUtils v0.4.8\u001b[39m\n",
      "  \u001b[90m[128add7d] \u001b[39m\u001b[92m+ MicroCollections v0.2.0\u001b[39m\n",
      "  \u001b[90m[d41bc354] \u001b[39m\u001b[92m+ NLSolversBase v7.9.1\u001b[39m\n",
      "  \u001b[90m[872c559c] \u001b[39m\u001b[92m+ NNlib v0.9.30\u001b[39m\n",
      "  \u001b[90m[71a1bf82] \u001b[39m\u001b[92m+ NameResolution v0.1.5\u001b[39m\n",
      "  \u001b[90m[8b6db2d4] \u001b[39m\u001b[92m+ OpenML v0.3.2\u001b[39m\n",
      "  \u001b[90m[429524aa] \u001b[39m\u001b[92m+ Optim v1.12.0\u001b[39m\n",
      "  \u001b[90m[85a6dd25] \u001b[39m\u001b[92m+ PositiveFactorizations v0.2.4\u001b[39m\n",
      "  \u001b[90m[8162dcfd] \u001b[39m\u001b[92m+ PrettyPrint v0.2.0\u001b[39m\n",
      "  \u001b[90m[54e16d92] \u001b[39m\u001b[92m+ PrettyPrinting v0.4.2\u001b[39m\n",
      "  \u001b[90m[321657f4] \u001b[39m\u001b[92m+ ScientificTypes v3.1.0\u001b[39m\n",
      "  \u001b[90m[30f210dd] \u001b[39m\u001b[92m+ ScientificTypesBase v3.0.0\u001b[39m\n",
      "  \u001b[90m[7e506255] \u001b[39m\u001b[92m+ ScopedValues v1.3.0\u001b[39m\n",
      "  \u001b[90m[605ecd9f] \u001b[39m\u001b[92m+ ShowCases v0.1.0\u001b[39m\n",
      "  \u001b[90m[171d559e] \u001b[39m\u001b[92m+ SplittablesBase v0.1.15\u001b[39m\n",
      "\u001b[33m⌅\u001b[39m \u001b[90m[a19d573c] \u001b[39m\u001b[92m+ StatisticalMeasures v0.1.7\u001b[39m\n",
      "  \u001b[90m[c062fc1d] \u001b[39m\u001b[92m+ StatisticalMeasuresBase v0.1.2\u001b[39m\n",
      "  \u001b[90m[64bff920] \u001b[39m\u001b[92m+ StatisticalTraits v3.4.0\u001b[39m\n",
      "  \u001b[90m[28d57a85] \u001b[39m\u001b[92m+ Transducers v0.4.84\u001b[39m\n",
      "  \u001b[90m[013be700] \u001b[39m\u001b[92m+ UnsafeAtomics v0.3.0\u001b[39m\n",
      "\u001b[36m\u001b[1m        Info\u001b[22m\u001b[39m Packages marked with \u001b[32m⌃\u001b[39m and \u001b[33m⌅\u001b[39m have new versions available. Those with \u001b[32m⌃\u001b[39m may be upgradable, but those with \u001b[33m⌅\u001b[39m are restricted by compatibility constraints from upgrading. To see why use `status --outdated -m`\n",
      "\u001b[92m\u001b[1mPrecompiling\u001b[22m\u001b[39m project...\n",
      "   2120.9 ms\u001b[32m  ✓ \u001b[39m\u001b[90mDefineSingletons\u001b[39m\n",
      "   2750.8 ms\u001b[32m  ✓ \u001b[39m\u001b[90mInitialValues\u001b[39m\n",
      "   2301.3 ms\u001b[32m  ✓ \u001b[39m\u001b[90mEnumX\u001b[39m\n",
      "   2299.0 ms\u001b[32m  ✓ \u001b[39m\u001b[90mHashArrayMappedTries\u001b[39m\n",
      "   2303.4 ms\u001b[32m  ✓ \u001b[39m\u001b[90mScientificTypesBase\u001b[39m\n",
      "   2329.0 ms\u001b[32m  ✓ \u001b[39m\u001b[90mPrettyPrint\u001b[39m\n",
      "   2334.6 ms\u001b[32m  ✓ \u001b[39m\u001b[90mADTypes\u001b[39m\n",
      "   4157.2 ms\u001b[32m  ✓ \u001b[39m\u001b[90mUnsafeAtomics\u001b[39m\n",
      "   1164.5 ms\u001b[32m  ✓ \u001b[39m\u001b[90mDiffResults\u001b[39m\n",
      "   1821.3 ms\u001b[32m  ✓ \u001b[39m\u001b[90mCommonSubexpressions\u001b[39m\n",
      "   1939.2 ms\u001b[32m  ✓ \u001b[39m\u001b[90mPositiveFactorizations\u001b[39m\n",
      "   2213.6 ms\u001b[32m  ✓ \u001b[39m\u001b[90mShowCases\u001b[39m\n",
      "   2804.3 ms\u001b[32m  ✓ \u001b[39m\u001b[90mEarlyStopping\u001b[39m\n",
      "   3747.4 ms\u001b[32m  ✓ \u001b[39m\u001b[90mBaselet\u001b[39m\n",
      "   6971.5 ms\u001b[32m  ✓ \u001b[39m\u001b[90mPrettyPrinting\u001b[39m\n",
      "   2031.6 ms\u001b[32m  ✓ \u001b[39m\u001b[90mContextVariablesX\u001b[39m\n",
      "   3101.7 ms\u001b[32m  ✓ \u001b[39m\u001b[90mMLCore\u001b[39m\n",
      "   1290.7 ms\u001b[32m  ✓ \u001b[39m\u001b[90mGPUArraysCore\u001b[39m\n",
      "   4094.5 ms\u001b[32m  ✓ \u001b[39m\u001b[90mLearnAPI\u001b[39m\n",
      "   5316.9 ms\u001b[32m  ✓ \u001b[39m\u001b[90mLinearMaps\u001b[39m\n",
      "   2072.8 ms\u001b[32m  ✓ \u001b[39m\u001b[90mDiffRules\u001b[39m\n",
      "   2901.1 ms\u001b[32m  ✓ \u001b[39m\u001b[90mLatinHypercubeSampling\u001b[39m\n",
      "   3508.8 ms\u001b[32m  ✓ \u001b[39mMLBase\n",
      "   4940.5 ms\u001b[32m  ✓ \u001b[39m\u001b[90mIterativeSolvers\u001b[39m\n",
      "   2462.8 ms\u001b[32m  ✓ \u001b[39m\u001b[90mARFFFiles\u001b[39m\n",
      "   2868.2 ms\u001b[32m  ✓ \u001b[39m\u001b[90mSplittablesBase\u001b[39m\n",
      "   1267.1 ms\u001b[32m  ✓ \u001b[39m\u001b[90mScopedValues\u001b[39m\n",
      "   1670.0 ms\u001b[32m  ✓ \u001b[39m\u001b[90mStatisticalTraits\u001b[39m\n",
      "   2742.8 ms\u001b[32m  ✓ \u001b[39m\u001b[90mBangBang\u001b[39m\n",
      "   1904.1 ms\u001b[32m  ✓ \u001b[39m\u001b[90mNameResolution\u001b[39m\n",
      "   1484.5 ms\u001b[32m  ✓ \u001b[39m\u001b[90mADTypes → ADTypesChainRulesCoreExt\u001b[39m\n",
      "   1593.1 ms\u001b[32m  ✓ \u001b[39m\u001b[90mADTypes → ADTypesConstructionBaseExt\u001b[39m\n",
      "   1665.8 ms\u001b[32m  ✓ \u001b[39m\u001b[90mAtomix\u001b[39m\n",
      "   1496.7 ms\u001b[32m  ✓ \u001b[39m\u001b[90mArrayInterface → ArrayInterfaceGPUArraysCoreExt\u001b[39m\n",
      "   1613.1 ms\u001b[32m  ✓ \u001b[39m\u001b[90mLinearMaps → LinearMapsStatisticsExt\u001b[39m\n",
      "   1661.1 ms\u001b[32m  ✓ \u001b[39m\u001b[90mLinearMaps → LinearMapsChainRulesCoreExt\u001b[39m\n",
      "   2538.5 ms\u001b[32m  ✓ \u001b[39m\u001b[90mFLoopsBase\u001b[39m\n",
      "   3724.2 ms\u001b[32m  ✓ \u001b[39m\u001b[90mMLFlowClient\u001b[39m\n",
      "   7296.7 ms\u001b[32m  ✓ \u001b[39mBootstrap\n",
      "   7533.7 ms\u001b[32m  ✓ \u001b[39m\u001b[90mDSP\u001b[39m\n",
      "   4551.5 ms\u001b[32m  ✓ \u001b[39m\u001b[90mIterationControl\u001b[39m\n",
      "   3306.6 ms\u001b[32m  ✓ \u001b[39m\u001b[90mLinearMaps → LinearMapsSparseArraysExt\u001b[39m\n",
      "   2720.4 ms\u001b[32m  ✓ \u001b[39m\u001b[90mMLJModelInterface\u001b[39m\n",
      "   1847.8 ms\u001b[32m  ✓ \u001b[39m\u001b[90mBangBang → BangBangStaticArraysExt\u001b[39m\n",
      "   1628.1 ms\u001b[32m  ✓ \u001b[39m\u001b[90mBangBang → BangBangChainRulesCoreExt\u001b[39m\n",
      "   4220.9 ms\u001b[32m  ✓ \u001b[39m\u001b[90mOpenML\u001b[39m\n",
      "   1576.5 ms\u001b[32m  ✓ \u001b[39m\u001b[90mBangBang → BangBangTablesExt\u001b[39m\n",
      "   2600.2 ms\u001b[32m  ✓ \u001b[39m\u001b[90mDifferentiationInterface\u001b[39m\n",
      "   4593.9 ms\u001b[32m  ✓ \u001b[39m\u001b[90mBangBang → BangBangDataFramesExt\u001b[39m\n",
      "   2353.5 ms\u001b[32m  ✓ \u001b[39m\u001b[90mFiniteDiff\u001b[39m\n",
      "   4971.4 ms\u001b[32m  ✓ \u001b[39m\u001b[90mScientificTypes\u001b[39m\n",
      "   2423.1 ms\u001b[32m  ✓ \u001b[39m\u001b[90mFeatureSelection\u001b[39m\n",
      "   1579.6 ms\u001b[32m  ✓ \u001b[39m\u001b[90mDifferentiationInterface → DifferentiationInterfaceSparseArraysExt\u001b[39m\n",
      "   2035.5 ms\u001b[32m  ✓ \u001b[39m\u001b[90mDifferentiationInterface → DifferentiationInterfaceStaticArraysExt\u001b[39m\n",
      "   1769.9 ms\u001b[32m  ✓ \u001b[39m\u001b[90mDifferentiationInterface → DifferentiationInterfaceChainRulesCoreExt\u001b[39m\n",
      "   2182.2 ms\u001b[32m  ✓ \u001b[39m\u001b[90mMicroCollections\u001b[39m\n",
      "   2160.4 ms\u001b[32m  ✓ \u001b[39m\u001b[90mFiniteDiff → FiniteDiffSparseArraysExt\u001b[39m\n",
      "   1690.8 ms\u001b[32m  ✓ \u001b[39m\u001b[90mFiniteDiff → FiniteDiffStaticArraysExt\u001b[39m\n",
      "   9577.2 ms\u001b[32m  ✓ \u001b[39m\u001b[90mForwardDiff\u001b[39m\n",
      "   2398.4 ms\u001b[32m  ✓ \u001b[39m\u001b[90mDifferentiationInterface → DifferentiationInterfaceFiniteDiffExt\u001b[39m\n",
      "   1687.4 ms\u001b[32m  ✓ \u001b[39m\u001b[90mRoots → RootsForwardDiffExt\u001b[39m\n",
      "   2403.8 ms\u001b[32m  ✓ \u001b[39m\u001b[90mForwardDiff → ForwardDiffStaticArraysExt\u001b[39m\n",
      "   7993.6 ms\u001b[32m  ✓ \u001b[39mLasso\n",
      "   2373.2 ms\u001b[32m  ✓ \u001b[39m\u001b[90mDifferentiationInterface → DifferentiationInterfaceForwardDiffExt\u001b[39m\n",
      "   4767.7 ms\u001b[32m  ✓ \u001b[39m\u001b[90mCategoricalDistributions\u001b[39m\n",
      "   3746.5 ms\u001b[32m  ✓ \u001b[39m\u001b[90mLoopVectorization → ForwardDiffExt\u001b[39m\n",
      "  10018.9 ms\u001b[32m  ✓ \u001b[39m\u001b[90mKernelAbstractions\u001b[39m\n",
      "   2137.7 ms\u001b[32m  ✓ \u001b[39m\u001b[90mNLSolversBase\u001b[39m\n",
      "   6559.6 ms\u001b[32m  ✓ \u001b[39m\u001b[90mTransducers\u001b[39m\n",
      "   1714.1 ms\u001b[32m  ✓ \u001b[39m\u001b[90mKernelAbstractions → LinearAlgebraExt\u001b[39m\n",
      "   1887.6 ms\u001b[32m  ✓ \u001b[39m\u001b[90mKernelAbstractions → SparseArraysExt\u001b[39m\n",
      "   1467.4 ms\u001b[32m  ✓ \u001b[39m\u001b[90mTransducers → TransducersAdaptExt\u001b[39m\n",
      "   2735.8 ms\u001b[32m  ✓ \u001b[39m\u001b[90mTransducers → TransducersDataFramesExt\u001b[39m\n",
      "   3998.3 ms\u001b[32m  ✓ \u001b[39m\u001b[90mLineSearches\u001b[39m\n",
      "   6341.7 ms\u001b[32m  ✓ \u001b[39m\u001b[90mOptim\u001b[39m\n",
      "  11622.2 ms\u001b[32m  ✓ \u001b[39m\u001b[90mNNlib\u001b[39m\n",
      "  39338.8 ms\u001b[32m  ✓ \u001b[39m\u001b[90mMLStyle\u001b[39m\n",
      "   2549.2 ms\u001b[32m  ✓ \u001b[39m\u001b[90mNNlib → NNlibSpecialFunctionsExt\u001b[39m\n",
      "   3421.5 ms\u001b[32m  ✓ \u001b[39m\u001b[90mNNlib → NNlibForwardDiffExt\u001b[39m\n",
      "   3550.4 ms\u001b[32m  ✓ \u001b[39m\u001b[90mNNlib → NNlibFFTWExt\u001b[39m\n",
      "  19793.5 ms\u001b[32m  ✓ \u001b[39m\u001b[90mMLJModels\u001b[39m\n",
      "   8310.9 ms\u001b[32m  ✓ \u001b[39mMLJLinearModels\n",
      "   6959.3 ms\u001b[32m  ✓ \u001b[39m\u001b[90mJuliaVariables\u001b[39m\n",
      "   5275.2 ms\u001b[32m  ✓ \u001b[39m\u001b[90mFLoops\u001b[39m\n",
      "   7461.0 ms\u001b[32m  ✓ \u001b[39m\u001b[90mMLUtils\u001b[39m\n",
      "   7726.8 ms\u001b[32m  ✓ \u001b[39m\u001b[90mStatisticalMeasuresBase\u001b[39m\n",
      "   3744.7 ms\u001b[32m  ✓ \u001b[39m\u001b[90mMLJEnsembles\u001b[39m\n",
      "   7023.1 ms\u001b[32m  ✓ \u001b[39m\u001b[90mMLJBase\u001b[39m\n",
      "  23068.7 ms\u001b[32m  ✓ \u001b[39m\u001b[90mStatisticalMeasures\u001b[39m\n",
      "   3740.9 ms\u001b[32m  ✓ \u001b[39m\u001b[90mStatisticalMeasures → ScientificTypesExt\u001b[39m\n",
      "   3909.0 ms\u001b[32m  ✓ \u001b[39m\u001b[90mMLJBase → DefaultMeasuresExt\u001b[39m\n",
      "   4395.1 ms\u001b[32m  ✓ \u001b[39m\u001b[90mMLJTuning\u001b[39m\n",
      "   4480.0 ms\u001b[32m  ✓ \u001b[39m\u001b[90mMLJFlow\u001b[39m\n",
      "   4608.6 ms\u001b[32m  ✓ \u001b[39m\u001b[90mMLJBalancing\u001b[39m\n",
      "   6705.8 ms\u001b[32m  ✓ \u001b[39m\u001b[90mMLJIteration\u001b[39m\n",
      "   6617.9 ms\u001b[32m  ✓ \u001b[39mMLJ\n",
      "  96 dependencies successfully precompiled in 112 seconds. 490 already precompiled.\n"
     ]
    }
   ],
   "source": [
    "using Pkg\n",
    "Pkg.add([\"DataFrames\", \"GLM\", \"Plots\", \"Random\", \"Lasso\", \"StatsBase\", \n",
    "         \"MLBase\", \"MultivariateStats\", \"HypothesisTests\", \"Distributions\",\n",
    "         \"Bootstrap\", \"StatsPlots\", \"RDatasets\", \"MLJ\", \"MLJLinearModels\"])\n"
   ]
  },
  {
   "cell_type": "code",
   "execution_count": 2,
   "metadata": {},
   "outputs": [],
   "source": [
    "using DataFrames\n",
    "using GLM\n",
    "using Plots\n",
    "using Random\n",
    "using StatsBase\n",
    "using Lasso\n",
    "using MLBase\n",
    "using MultivariateStats\n",
    "using HypothesisTests\n",
    "using Distributions\n",
    "using Bootstrap\n",
    "using StatsPlots\n",
    "using RDatasets\n",
    "using MLJ\n",
    "using MLJLinearModels"
   ]
  },
  {
   "cell_type": "code",
   "execution_count": 3,
   "metadata": {},
   "outputs": [
    {
     "data": {
      "text/plain": [
       "200-element Vector{Float64}:\n",
       "  1.134477839865555\n",
       "  0.8093936278375158\n",
       "  0.38547332403073764\n",
       "  1.3320269344781919\n",
       "  1.50463986375581\n",
       "  1.344415863751584\n",
       "  1.3544913335960875\n",
       "  1.5419626820460077\n",
       "  2.1066407182293596\n",
       "  1.7314719493006778\n",
       "  ⋮\n",
       " 15.13126217835801\n",
       " 20.517039288361648\n",
       " 19.92191627440723\n",
       " 17.652433048726543\n",
       " 23.627668351550476\n",
       " 18.375399028105026\n",
       " 22.548710009424894\n",
       " 19.843284643184806\n",
       " 16.02219167078583"
      ]
     },
     "metadata": {},
     "output_type": "display_data"
    }
   ],
   "source": [
    "# gen synthetic data for simple linear regression with controlled heteroscedasticity\n",
    "n = 200\n",
    "x = range(0, 10, length=n)\n",
    "epsilon = randn(n) .* (0.5 .+ 0.3 .* x)  # Heteroscedastic errors\n",
    "y = 2 .* x .+ 1 .+ epsilon\n"
   ]
  },
  {
   "cell_type": "code",
   "execution_count": 4,
   "metadata": {},
   "outputs": [
    {
     "data": {
      "text/html": [
       "<div><div style = \"float: left;\"><span>200×2 DataFrame</span></div><div style = \"float: right;\"><span style = \"font-style: italic;\">175 rows omitted</span></div><div style = \"clear: both;\"></div></div><div class = \"data-frame\" style = \"overflow-x: scroll;\"><table class = \"data-frame\" style = \"margin-bottom: 6px;\"><thead><tr class = \"header\"><th class = \"rowNumber\" style = \"font-weight: bold; text-align: right;\">Row</th><th style = \"text-align: left;\">X</th><th style = \"text-align: left;\">Y</th></tr><tr class = \"subheader headerLastRow\"><th class = \"rowNumber\" style = \"font-weight: bold; text-align: right;\"></th><th title = \"Float64\" style = \"text-align: left;\">Float64</th><th title = \"Float64\" style = \"text-align: left;\">Float64</th></tr></thead><tbody><tr><td class = \"rowNumber\" style = \"font-weight: bold; text-align: right;\">1</td><td style = \"text-align: right;\">0.0</td><td style = \"text-align: right;\">1.13448</td></tr><tr><td class = \"rowNumber\" style = \"font-weight: bold; text-align: right;\">2</td><td style = \"text-align: right;\">0.0502513</td><td style = \"text-align: right;\">0.809394</td></tr><tr><td class = \"rowNumber\" style = \"font-weight: bold; text-align: right;\">3</td><td style = \"text-align: right;\">0.100503</td><td style = \"text-align: right;\">0.385473</td></tr><tr><td class = \"rowNumber\" style = \"font-weight: bold; text-align: right;\">4</td><td style = \"text-align: right;\">0.150754</td><td style = \"text-align: right;\">1.33203</td></tr><tr><td class = \"rowNumber\" style = \"font-weight: bold; text-align: right;\">5</td><td style = \"text-align: right;\">0.201005</td><td style = \"text-align: right;\">1.50464</td></tr><tr><td class = \"rowNumber\" style = \"font-weight: bold; text-align: right;\">6</td><td style = \"text-align: right;\">0.251256</td><td style = \"text-align: right;\">1.34442</td></tr><tr><td class = \"rowNumber\" style = \"font-weight: bold; text-align: right;\">7</td><td style = \"text-align: right;\">0.301508</td><td style = \"text-align: right;\">1.35449</td></tr><tr><td class = \"rowNumber\" style = \"font-weight: bold; text-align: right;\">8</td><td style = \"text-align: right;\">0.351759</td><td style = \"text-align: right;\">1.54196</td></tr><tr><td class = \"rowNumber\" style = \"font-weight: bold; text-align: right;\">9</td><td style = \"text-align: right;\">0.40201</td><td style = \"text-align: right;\">2.10664</td></tr><tr><td class = \"rowNumber\" style = \"font-weight: bold; text-align: right;\">10</td><td style = \"text-align: right;\">0.452261</td><td style = \"text-align: right;\">1.73147</td></tr><tr><td class = \"rowNumber\" style = \"font-weight: bold; text-align: right;\">11</td><td style = \"text-align: right;\">0.502513</td><td style = \"text-align: right;\">1.98436</td></tr><tr><td class = \"rowNumber\" style = \"font-weight: bold; text-align: right;\">12</td><td style = \"text-align: right;\">0.552764</td><td style = \"text-align: right;\">2.43866</td></tr><tr><td class = \"rowNumber\" style = \"font-weight: bold; text-align: right;\">13</td><td style = \"text-align: right;\">0.603015</td><td style = \"text-align: right;\">2.24649</td></tr><tr><td style = \"text-align: right;\">&vellip;</td><td style = \"text-align: right;\">&vellip;</td><td style = \"text-align: right;\">&vellip;</td></tr><tr><td class = \"rowNumber\" style = \"font-weight: bold; text-align: right;\">189</td><td style = \"text-align: right;\">9.44724</td><td style = \"text-align: right;\">13.6864</td></tr><tr><td class = \"rowNumber\" style = \"font-weight: bold; text-align: right;\">190</td><td style = \"text-align: right;\">9.49749</td><td style = \"text-align: right;\">24.5949</td></tr><tr><td class = \"rowNumber\" style = \"font-weight: bold; text-align: right;\">191</td><td style = \"text-align: right;\">9.54774</td><td style = \"text-align: right;\">17.4187</td></tr><tr><td class = \"rowNumber\" style = \"font-weight: bold; text-align: right;\">192</td><td style = \"text-align: right;\">9.59799</td><td style = \"text-align: right;\">15.1313</td></tr><tr><td class = \"rowNumber\" style = \"font-weight: bold; text-align: right;\">193</td><td style = \"text-align: right;\">9.64824</td><td style = \"text-align: right;\">20.517</td></tr><tr><td class = \"rowNumber\" style = \"font-weight: bold; text-align: right;\">194</td><td style = \"text-align: right;\">9.69849</td><td style = \"text-align: right;\">19.9219</td></tr><tr><td class = \"rowNumber\" style = \"font-weight: bold; text-align: right;\">195</td><td style = \"text-align: right;\">9.74874</td><td style = \"text-align: right;\">17.6524</td></tr><tr><td class = \"rowNumber\" style = \"font-weight: bold; text-align: right;\">196</td><td style = \"text-align: right;\">9.79899</td><td style = \"text-align: right;\">23.6277</td></tr><tr><td class = \"rowNumber\" style = \"font-weight: bold; text-align: right;\">197</td><td style = \"text-align: right;\">9.84925</td><td style = \"text-align: right;\">18.3754</td></tr><tr><td class = \"rowNumber\" style = \"font-weight: bold; text-align: right;\">198</td><td style = \"text-align: right;\">9.8995</td><td style = \"text-align: right;\">22.5487</td></tr><tr><td class = \"rowNumber\" style = \"font-weight: bold; text-align: right;\">199</td><td style = \"text-align: right;\">9.94975</td><td style = \"text-align: right;\">19.8433</td></tr><tr><td class = \"rowNumber\" style = \"font-weight: bold; text-align: right;\">200</td><td style = \"text-align: right;\">10.0</td><td style = \"text-align: right;\">16.0222</td></tr></tbody></table></div>"
      ],
      "text/latex": [
       "\\begin{tabular}{r|cc}\n",
       "\t& X & Y\\\\\n",
       "\t\\hline\n",
       "\t& Float64 & Float64\\\\\n",
       "\t\\hline\n",
       "\t1 & 0.0 & 1.13448 \\\\\n",
       "\t2 & 0.0502513 & 0.809394 \\\\\n",
       "\t3 & 0.100503 & 0.385473 \\\\\n",
       "\t4 & 0.150754 & 1.33203 \\\\\n",
       "\t5 & 0.201005 & 1.50464 \\\\\n",
       "\t6 & 0.251256 & 1.34442 \\\\\n",
       "\t7 & 0.301508 & 1.35449 \\\\\n",
       "\t8 & 0.351759 & 1.54196 \\\\\n",
       "\t9 & 0.40201 & 2.10664 \\\\\n",
       "\t10 & 0.452261 & 1.73147 \\\\\n",
       "\t11 & 0.502513 & 1.98436 \\\\\n",
       "\t12 & 0.552764 & 2.43866 \\\\\n",
       "\t13 & 0.603015 & 2.24649 \\\\\n",
       "\t14 & 0.653266 & 3.02556 \\\\\n",
       "\t15 & 0.703518 & 1.85888 \\\\\n",
       "\t16 & 0.753769 & 2.23243 \\\\\n",
       "\t17 & 0.80402 & 1.70395 \\\\\n",
       "\t18 & 0.854271 & 3.31246 \\\\\n",
       "\t19 & 0.904523 & 2.15048 \\\\\n",
       "\t20 & 0.954774 & 2.09369 \\\\\n",
       "\t21 & 1.00503 & 1.43612 \\\\\n",
       "\t22 & 1.05528 & 3.96263 \\\\\n",
       "\t23 & 1.10553 & 3.99755 \\\\\n",
       "\t24 & 1.15578 & 2.92239 \\\\\n",
       "\t$\\dots$ & $\\dots$ & $\\dots$ \\\\\n",
       "\\end{tabular}\n"
      ],
      "text/plain": [
       "\u001b[1m200×2 DataFrame\u001b[0m\n",
       "\u001b[1m Row \u001b[0m│\u001b[1m X          \u001b[0m\u001b[1m Y         \u001b[0m\n",
       "     │\u001b[90m Float64    \u001b[0m\u001b[90m Float64   \u001b[0m\n",
       "─────┼───────────────────────\n",
       "   1 │  0.0         1.13448\n",
       "   2 │  0.0502513   0.809394\n",
       "   3 │  0.100503    0.385473\n",
       "   4 │  0.150754    1.33203\n",
       "   5 │  0.201005    1.50464\n",
       "   6 │  0.251256    1.34442\n",
       "   7 │  0.301508    1.35449\n",
       "   8 │  0.351759    1.54196\n",
       "  ⋮  │     ⋮           ⋮\n",
       " 194 │  9.69849    19.9219\n",
       " 195 │  9.74874    17.6524\n",
       " 196 │  9.79899    23.6277\n",
       " 197 │  9.84925    18.3754\n",
       " 198 │  9.8995     22.5487\n",
       " 199 │  9.94975    19.8433\n",
       " 200 │ 10.0        16.0222\n",
       "\u001b[36m             185 rows omitted\u001b[0m"
      ]
     },
     "metadata": {},
     "output_type": "display_data"
    }
   ],
   "source": [
    "\n",
    "#create a DataFrame\n",
    "data = DataFrame(X=x, Y=y)"
   ]
  },
  {
   "cell_type": "code",
   "execution_count": 5,
   "metadata": {},
   "outputs": [
    {
     "data": {
      "text/plain": [
       "StatsModels.TableRegressionModel{LinearModel{GLM.LmResp{Vector{Float64}}, GLM.DensePredChol{Float64, LinearAlgebra.CholeskyPivoted{Float64, Matrix{Float64}, Vector{Int64}}}}, Matrix{Float64}}\n",
       "\n",
       "Y ~ 1 + X\n",
       "\n",
       "Coefficients:\n",
       "───────────────────────────────────────────────────────────────────────\n",
       "               Coef.  Std. Error      t  Pr(>|t|)  Lower 95%  Upper 95%\n",
       "───────────────────────────────────────────────────────────────────────\n",
       "(Intercept)  0.97552   0.322049    3.03    0.0028   0.340434    1.61061\n",
       "X            1.94622   0.0557105  34.93    <1e-85   1.83636     2.05608\n",
       "───────────────────────────────────────────────────────────────────────"
      ]
     },
     "metadata": {},
     "output_type": "display_data"
    }
   ],
   "source": [
    "\n",
    "#fit simple linear regression model\n",
    "model_simple = lm(@formula(Y ~ X), data)"
   ]
  },
  {
   "cell_type": "code",
   "execution_count": 6,
   "metadata": {},
   "outputs": [
    {
     "name": "stdout",
     "output_type": "stream",
     "text": [
      "StatsModels.TableRegressionModel{LinearModel{GLM.LmResp{Vector{Float64}}, GLM.DensePredChol{Float64, LinearAlgebra.CholeskyPivoted{Float64, Matrix{Float64}, Vector{Int64}}}}, Matrix{Float64}}\n",
      "\n",
      "Y ~ 1 + X\n",
      "\n",
      "Coefficients:\n",
      "───────────────────────────────────────────────────────────────────────\n",
      "               Coef.  Std. Error      t  Pr(>|t|)  Lower 95%  Upper 95%\n",
      "───────────────────────────────────────────────────────────────────────\n",
      "(Intercept)  0.97552   0.322049    3.03    0.0028   0.340434    1.61061\n",
      "X            1.94622   0.0557105  34.93    <1e-85   1.83636     2.05608\n",
      "───────────────────────────────────────────────────────────────────────\n"
     ]
    }
   ],
   "source": [
    "println(model_simple)\n"
   ]
  },
  {
   "cell_type": "code",
   "execution_count": 7,
   "metadata": {},
   "outputs": [
    {
     "data": {
      "text/plain": [
       "2-element Vector{Float64}:\n",
       " 0.002779706012531751\n",
       " 1.3382569714512061e-86"
      ]
     },
     "metadata": {},
     "output_type": "display_data"
    }
   ],
   "source": [
    "coef_simple = coef(model_simple)\n",
    "stderr_simple = stderror(model_simple)\n",
    "tvalues_simple = coef_simple ./ stderr_simple\n",
    "pvalues_simple = 2 * ccdf.(TDist(dof_residual(model_simple)), abs.(tvalues_simple))\n"
   ]
  },
  {
   "cell_type": "code",
   "execution_count": 8,
   "metadata": {},
   "outputs": [
    {
     "name": "stdout",
     "output_type": "stream",
     "text": [
      "Intercept: Estimate = 0.9755, Std. Error = 0.322, t-value = 3.0291, p-value = 0.00278\n",
      "X: Estimate = 1.9462, Std. Error = 0.0557, t-value = 34.9345, p-value = 0.0\n"
     ]
    }
   ],
   "source": [
    "coef_names = [\"Intercept\", \"X\"]\n",
    "for i in 1:length(coef_simple)\n",
    "    println(\"$(coef_names[i]): Estimate = $(round(coef_simple[i], digits=4)), \" *\n",
    "            \"Std. Error = $(round(stderr_simple[i], digits=4)), \" *\n",
    "            \"t-value = $(round(tvalues_simple[i], digits=4)), \" *\n",
    "            \"p-value = $(round(pvalues_simple[i], digits=6))\")\n",
    "end\n"
   ]
  },
  {
   "cell_type": "code",
   "execution_count": 10,
   "metadata": {},
   "outputs": [
    {
     "data": {
      "text/plain": [
       "200-element Vector{Float64}:\n",
       "  0.9755198236319341\n",
       "  1.0733197782015242\n",
       "  1.1711197327711143\n",
       "  1.2689196873407043\n",
       "  1.3667196419102943\n",
       "  1.4645195964798843\n",
       "  1.562319551049474\n",
       "  1.6601195056190643\n",
       "  1.7579194601886543\n",
       "  1.8557194147582443\n",
       "  ⋮\n",
       " 19.655311146423628\n",
       " 19.753111100993216\n",
       " 19.850911055562808\n",
       " 19.948711010132396\n",
       " 20.046510964701987\n",
       " 20.144310919271575\n",
       " 20.242110873841167\n",
       " 20.339910828410755\n",
       " 20.437710782980346"
      ]
     },
     "metadata": {},
     "output_type": "display_data"
    }
   ],
   "source": [
    "predictions_simple = GLM.predict(model_simple)\n"
   ]
  },
  {
   "cell_type": "code",
   "execution_count": 11,
   "metadata": {},
   "outputs": [
    {
     "data": {
      "text/plain": [
       "200-element Vector{Float64}:\n",
       "  0.15895801623362094\n",
       " -0.26392615036400846\n",
       " -0.7856464087403766\n",
       "  0.06310724713748761\n",
       "  0.13792022184551578\n",
       " -0.12010373272830033\n",
       " -0.20782821745338653\n",
       " -0.11815682357305657\n",
       "  0.3487212580407053\n",
       " -0.12424746545756649\n",
       "  ⋮\n",
       " -4.5240489680656175\n",
       "  0.7639281873684318\n",
       "  0.07100521884442301\n",
       " -2.2962779614058526\n",
       "  3.5811573868484885\n",
       " -1.7689118911665496\n",
       "  2.3065991355837276\n",
       " -0.49662618522594926\n",
       " -4.4155191121945165"
      ]
     },
     "metadata": {},
     "output_type": "display_data"
    }
   ],
   "source": [
    "residuals_simple = residuals(model_simple)\n"
   ]
  },
  {
   "cell_type": "code",
   "execution_count": 12,
   "metadata": {},
   "outputs": [
    {
     "name": "stdout",
     "output_type": "stream",
     "text": [
      "Shapiro-Wilk test for normality: W = 0.9854, p-value = 0.036227\n",
      "Normality assumption: Rejected\n"
     ]
    }
   ],
   "source": [
    "sw_test = ShapiroWilkTest(residuals_simple)\n",
    "println(\"Shapiro-Wilk test for normality: W = $(round(sw_test.W, digits=4)), p-value = $(round(pvalue(sw_test), digits=6))\")\n",
    "println(\"Normality assumption: $(pvalue(sw_test) > 0.05 ? \"Not rejected\" : \"Rejected\")\")\n"
   ]
  },
  {
   "cell_type": "code",
   "execution_count": null,
   "metadata": {},
   "outputs": [],
   "source": []
  },
  {
   "cell_type": "code",
   "execution_count": 22,
   "metadata": {},
   "outputs": [
    {
     "data": {
      "text/plain": [
       "1.7150371348236353"
      ]
     },
     "metadata": {},
     "output_type": "display_data"
    }
   ],
   "source": [
    "r_squared_simple = r2(model_simple)\n",
    "adj_r_squared_simple = adjr2(model_simple)\n",
    "rmse_simple = sqrt(mean(residuals_simple.^2))\n",
    "mae_simple = mean(abs.(residuals_simple))\n"
   ]
  },
  {
   "cell_type": "code",
   "execution_count": 23,
   "metadata": {},
   "outputs": [
    {
     "name": "stdout",
     "output_type": "stream",
     "text": [
      "R-squared: 0.8604\n",
      "Adjusted R-squared: 0.8597\n",
      "RMSE: 2.2743\n",
      "MAE: 1.715\n"
     ]
    }
   ],
   "source": [
    "println(\"R-squared: $(round(r_squared_simple, digits=4))\")\n",
    "println(\"Adjusted R-squared: $(round(adj_r_squared_simple, digits=4))\")\n",
    "println(\"RMSE: $(round(rmse_simple, digits=4))\")\n",
    "println(\"MAE: $(round(mae_simple, digits=4))\")\n"
   ]
  },
  {
   "cell_type": "code",
   "execution_count": 24,
   "metadata": {},
   "outputs": [
    {
     "name": "stdout",
     "output_type": "stream",
     "text": [
      "\n",
      "Confidence Intervals (95%):\n",
      "Intercept: (0.3404, 1.6106)\n",
      "X: (1.8364, 2.0561)\n"
     ]
    }
   ],
   "source": [
    "conf_int = confint(model_simple)\n",
    "println(\"\\nConfidence Intervals (95%):\")\n",
    "for i in 1:length(coef_names)\n",
    "    println(\"$(coef_names[i]): ($(round(conf_int[i,1], digits=4)), $(round(conf_int[i,2], digits=4)))\")\n",
    "end\n"
   ]
  },
  {
   "cell_type": "code",
   "execution_count": 25,
   "metadata": {},
   "outputs": [
    {
     "data": {
      "text/plain": [
       "300-element Vector{Float64}:\n",
       " -1.6071051138023362\n",
       " -2.5547293405084526\n",
       " -2.2890815019185475\n",
       " -3.6346052372579423\n",
       " -3.592817339240087\n",
       " -3.605561926130214\n",
       " -2.9840972887115766\n",
       " -2.495129037148038\n",
       " -1.3429286184698663\n",
       " -1.5229358887890676\n",
       "  ⋮\n",
       "  5.285947530374424\n",
       "  4.285555773100454\n",
       "  5.515477252640705\n",
       "  4.374081615500912\n",
       "  3.7488241945438183\n",
       "  6.376301759512508\n",
       "  6.044391749484387\n",
       "  8.830929519833003\n",
       "  6.356627101474468"
      ]
     },
     "metadata": {},
     "output_type": "display_data"
    }
   ],
   "source": [
    "n = 300\n",
    "x1 = range(0, 10, length=n)\n",
    "x2 = 0.7 .* x1 .+ randn(n) .* 2\n",
    "x3 = range(-5, 5, length=n)\n",
    "x4 = randn(n) .* 3 \n",
    "x5 = 0.3 .* x1 .+ 0.5 .* x3 .+ randn(n) \n"
   ]
  },
  {
   "cell_type": "code",
   "execution_count": 26,
   "metadata": {},
   "outputs": [
    {
     "name": "stdout",
     "output_type": "stream",
     "text": [
      "StatsModels.TableRegressionModel{LinearModel{GLM.LmResp{Vector{Float64}}, GLM.DensePredChol{Float64, LinearAlgebra.CholeskyPivoted{Float64, Matrix{Float64}, Vector{Int64}}}}, Matrix{Float64}}\n",
      "\n",
      "Y ~ 1 + X1 + X2 + X3 + X4 + X5\n",
      "\n",
      "Coefficients:\n",
      "─────────────────────────────────────────────────────────────────────────────────\n",
      "                   Coef.   Std. Error       t  Pr(>|t|)    Lower 95%    Upper 95%\n",
      "─────────────────────────────────────────────────────────────────────────────────\n",
      "(Intercept)   0.0         NaN          NaN       NaN     NaN          NaN\n",
      "X1            1.87812       0.028111    66.81    <1e-99    1.82279      1.93344\n",
      "X2           -0.479012      0.0276694  -17.31    <1e-46   -0.533466    -0.424557\n",
      "X3            2.55261       0.0385141   66.28    <1e-99    2.47681      2.6284\n",
      "X4            0.00322761    0.0182357    0.18    0.8596   -0.0326609    0.0391161\n",
      "X5            2.56834       0.0571567   44.94    <1e-99    2.45585      2.68083\n",
      "─────────────────────────────────────────────────────────────────────────────────\n"
     ]
    }
   ],
   "source": [
    "\n",
    "true_beta = [2.0, 1.5, -0.5, 3.0, 0.0, 2.5]\n",
    "\n",
    "#  response with some noise\n",
    "y_multi = true_beta[1] .+ true_beta[2] .* x1 .+ true_beta[3] .* x2 .+ \n",
    "          true_beta[4] .* x3 .+ true_beta[5] .* x4 .+ true_beta[6] .* x5 .+ randn(n)\n",
    "\n",
    "data_multi = DataFrame(Y=y_multi, X1=x1, X2=x2, X3=x3, X4=x4, X5=x5)\n",
    "\n",
    "model_multi = lm(@formula(Y ~ X1 + X2 + X3 + X4 + X5), data_multi)\n",
    "\n",
    "\n",
    "println(model_multi)"
   ]
  },
  {
   "cell_type": "code",
   "execution_count": 27,
   "metadata": {},
   "outputs": [
    {
     "name": "stdout",
     "output_type": "stream",
     "text": [
      "\n",
      "Coefficient Statistics:\n",
      "Intercept: Estimate = 0.0, Std. Error = NaN, t-value = NaN, p-value = NaN\n",
      "X1: Estimate = 1.8781, Std. Error = 0.0281, t-value = 66.8107, p-value = 0.0\n",
      "X2: Estimate = -0.479, Std. Error = 0.0277, t-value = -17.312, p-value = 0.0\n",
      "X3: Estimate = 2.5526, Std. Error = 0.0385, t-value = 66.2772, p-value = 0.0\n",
      "X4: Estimate = 0.0032, Std. Error = 0.0182, t-value = 0.177, p-value = 0.859634\n",
      "X5: Estimate = 2.5683, Std. Error = 0.0572, t-value = 44.9351, p-value = 0.0\n"
     ]
    }
   ],
   "source": [
    "coef_multi = coef(model_multi)\n",
    "stderr_multi = stderror(model_multi)\n",
    "tvalues_multi = coef_multi ./ stderr_multi\n",
    "pvalues_multi = 2 * ccdf.(TDist(dof_residual(model_multi)), abs.(tvalues_multi))\n",
    "\n",
    "println(\"\\nCoefficient Statistics:\")\n",
    "coef_names_multi = [\"Intercept\", \"X1\", \"X2\", \"X3\", \"X4\", \"X5\"]\n",
    "for i in 1:length(coef_multi)\n",
    "    println(\"$(coef_names_multi[i]): Estimate = $(round(coef_multi[i], digits=4)), \" *\n",
    "            \"Std. Error = $(round(stderr_multi[i], digits=4)), \" *\n",
    "            \"t-value = $(round(tvalues_multi[i], digits=4)), \" *\n",
    "            \"p-value = $(round(pvalues_multi[i], digits=6))\")\n",
    "end"
   ]
  },
  {
   "cell_type": "code",
   "execution_count": 28,
   "metadata": {},
   "outputs": [
    {
     "name": "stdout",
     "output_type": "stream",
     "text": [
      "\n",
      "Feature Importance (based on absolute t-values):\n",
      "X1: 66.8107\n",
      "X3: 66.2772\n",
      "X5: 44.9351\n",
      "X2: 17.312\n",
      "X4: 0.177\n"
     ]
    }
   ],
   "source": [
    "feature_importance = abs.(tvalues_multi[2:end])  # Exclude intercept\n",
    "feature_names = coef_names_multi[2:end]\n",
    "sorted_indices = sortperm(feature_importance, rev=true)\n",
    "\n",
    "println(\"\\nFeature Importance (based on absolute t-values):\")\n",
    "for i in sorted_indices\n",
    "    println(\"$(feature_names[i]): $(round(feature_importance[i], digits=4))\")\n",
    "end"
   ]
  },
  {
   "cell_type": "code",
   "execution_count": 29,
   "metadata": {},
   "outputs": [
    {
     "data": {
      "text/plain": [
       "calculate_vif (generic function with 1 method)"
      ]
     },
     "metadata": {},
     "output_type": "display_data"
    }
   ],
   "source": [
    "function calculate_vif(data, feature_names)\n",
    "    vifs = Float64[]\n",
    "    for i in 1:length(feature_names)\n",
    "        target = feature_names[i]\n",
    "        predictors = filter(x -> x != target, feature_names)\n",
    "        if isempty(predictors)\n",
    "            push!(vifs, 1.0)\n",
    "            continue\n",
    "        end\n",
    "        formula = Term(Symbol(target)) ~ sum(Term.(Symbol.(predictors)))\n",
    "        model_vif = lm(formula, data)\n",
    "        r2_vif = r2(model_vif)\n",
    "        push!(vifs, 1 / (1 - r2_vif))\n",
    "    end\n",
    "    return vifs\n",
    "end"
   ]
  },
  {
   "cell_type": "code",
   "execution_count": 30,
   "metadata": {},
   "outputs": [
    {
     "data": {
      "text/plain": [
       "5-element Vector{Float64}:\n",
       " Inf\n",
       "  2.0250965462543324\n",
       " Inf\n",
       "  1.006695091681108\n",
       "  7.311047742108615"
      ]
     },
     "metadata": {},
     "output_type": "display_data"
    }
   ],
   "source": [
    "vifs = calculate_vif(data_multi, [\"X1\", \"X2\", \"X3\", \"X4\", \"X5\"])\n"
   ]
  },
  {
   "cell_type": "code",
   "execution_count": 31,
   "metadata": {},
   "outputs": [
    {
     "name": "stdout",
     "output_type": "stream",
     "text": [
      "\n",
      "Variance Inflation Factors (VIF):\n",
      "X1: Inf - High multicollinearity\n",
      "X2: 2.0251 \n",
      "X3: Inf - High multicollinearity\n",
      "X4: 1.0067 \n",
      "X5: 7.311 - High multicollinearity\n"
     ]
    }
   ],
   "source": [
    "println(\"\\nVariance Inflation Factors (VIF):\")\n",
    "for i in 1:length(feature_names)\n",
    "    println(\"$(feature_names[i]): $(round(vifs[i], digits=4)) $(vifs[i] > 5 ? \"- High multicollinearity\" : \"\")\")\n",
    "end"
   ]
  },
  {
   "cell_type": "code",
   "execution_count": null,
   "metadata": {},
   "outputs": [],
   "source": []
  },
  {
   "cell_type": "code",
   "execution_count": 33,
   "metadata": {},
   "outputs": [
    {
     "data": {
      "text/plain": [
       "partial_correlation (generic function with 1 method)"
      ]
     },
     "metadata": {},
     "output_type": "display_data"
    }
   ],
   "source": [
    "function partial_correlation(data, x, y, controlling_vars)\n",
    "\n",
    "    x_formula = Term(Symbol(x)) ~ sum(Term.(Symbol.(controlling_vars)))\n",
    "    x_model = lm(x_formula, data)\n",
    "    x_residuals = residuals(x_model)\n",
    "    \n",
    "\n",
    "    y_formula = Term(Symbol(y)) ~ sum(Term.(Symbol.(controlling_vars)))\n",
    "    y_model = lm(y_formula, data)\n",
    "    y_residuals = residuals(y_model)\n",
    "    \n",
    "    return cor(x_residuals, y_residuals)\n",
    "end"
   ]
  },
  {
   "cell_type": "code",
   "execution_count": 34,
   "metadata": {},
   "outputs": [
    {
     "name": "stdout",
     "output_type": "stream",
     "text": [
      "X1: 0.0137\n",
      "X2: -0.7099\n",
      "X3: -0.0277\n",
      "X4: 0.0103\n",
      "X5: 0.9341\n"
     ]
    }
   ],
   "source": [
    "for i in 1:length(feature_names)\n",
    "    controlling_vars = filter(x -> x != feature_names[i], feature_names)\n",
    "    pc = partial_correlation(data_multi, feature_names[i], \"Y\", controlling_vars)\n",
    "    println(\"$(feature_names[i]): $(round(pc, digits=4))\")\n",
    "end"
   ]
  },
  {
   "cell_type": "code",
   "execution_count": 35,
   "metadata": {},
   "outputs": [
    {
     "name": "stdout",
     "output_type": "stream",
     "text": [
      "\n",
      "Performance Metrics:\n",
      "R-squared: 0.9973\n",
      "Adjusted R-squared: 0.9973\n",
      "RMSE: 0.9462\n",
      "MAE: 0.7762\n"
     ]
    }
   ],
   "source": [
    "r_squared_multi = r2(model_multi)\n",
    "adj_r_squared_multi = adjr2(model_multi)\n",
    "residuals_multi = residuals(model_multi)\n",
    "rmse_multi = sqrt(mean(residuals_multi.^2))\n",
    "mae_multi = mean(abs.(residuals_multi))\n",
    "\n",
    "println(\"\\nPerformance Metrics:\")\n",
    "println(\"R-squared: $(round(r_squared_multi, digits=4))\")\n",
    "println(\"Adjusted R-squared: $(round(adj_r_squared_multi, digits=4))\")\n",
    "println(\"RMSE: $(round(rmse_multi, digits=4))\")\n",
    "println(\"MAE: $(round(mae_multi, digits=4))\")"
   ]
  },
  {
   "cell_type": "code",
   "execution_count": null,
   "metadata": {},
   "outputs": [],
   "source": []
  },
  {
   "cell_type": "code",
   "execution_count": 37,
   "metadata": {},
   "outputs": [
    {
     "name": "stdout",
     "output_type": "stream",
     "text": [
      "\n",
      "ANOVA for Model Significance:\n",
      "F(5, 294.0) = 21973.4246, p-value = 0.0\n",
      "Model significance: Significant\n"
     ]
    }
   ],
   "source": [
    "\n",
    "function anova_test(model)\n",
    "    n = nobs(model)\n",
    "    p = length(coef(model)) - 1\n",
    "    r2 = GLM.r2(model)\n",
    "    f_stat = (r2 / p) / ((1 - r2) / (n - p - 1))\n",
    "    p_val = 1 - cdf(FDist(p, n - p - 1), f_stat)\n",
    "    return (f_statistic = f_stat, p_value = p_val, df1 = p, df2 = n - p - 1)\n",
    "end\n",
    "\n",
    "anova_result = anova_test(model_multi)\n",
    "println(\"\\nANOVA for Model Significance:\")\n",
    "println(\"F($(anova_result.df1), $(anova_result.df2)) = $(round(anova_result.f_statistic, digits=4)), p-value = $(round(anova_result.p_value, digits=6))\")\n",
    "println(\"Model significance: $(anova_result.p_value < 0.05 ? \"Significant\" : \"Not significant\")\")"
   ]
  },
  {
   "cell_type": "code",
   "execution_count": 38,
   "metadata": {},
   "outputs": [
    {
     "data": {
      "text/plain": [
       "200-element Vector{Float64}:\n",
       "  2.7549787019434926\n",
       " -1.9429753755391668\n",
       "  2.9449346893522725\n",
       " -0.5372347200984396\n",
       "  0.7062488494522423\n",
       " -2.3216423672899467\n",
       " -3.1647532081340537\n",
       " -1.8859403761433322\n",
       "  2.6549929104976013\n",
       " -0.9765005022088569\n",
       "  ⋮\n",
       "  3.443101907383187\n",
       "  0.25360941058690917\n",
       "  0.31550078859947406\n",
       " -2.049248904594208\n",
       "  3.982929369660077\n",
       "  3.242496187754242\n",
       "  1.4315538250661717\n",
       " -1.0607036343620784\n",
       " -0.7497444828885428"
      ]
     },
     "metadata": {},
     "output_type": "display_data"
    }
   ],
   "source": [
    "n_lasso = 200\n",
    "p_lasso = 20  \n",
    "X_lasso = randn(n_lasso, p_lasso)\n",
    "beta_true_lasso = vcat([1.5, 0.8, 1.2, 0.6, 0.9], zeros(p_lasso-5)) \n",
    "y_lasso = X_lasso * beta_true_lasso + 0.5 * randn(n_lasso)\n"
   ]
  },
  {
   "cell_type": "code",
   "execution_count": 39,
   "metadata": {},
   "outputs": [
    {
     "data": {
      "text/plain": [
       "200-element Vector{Float64}:\n",
       "  2.7549787019434926\n",
       " -1.9429753755391668\n",
       "  2.9449346893522725\n",
       " -0.5372347200984396\n",
       "  0.7062488494522423\n",
       " -2.3216423672899467\n",
       " -3.1647532081340537\n",
       " -1.8859403761433322\n",
       "  2.6549929104976013\n",
       " -0.9765005022088569\n",
       "  ⋮\n",
       "  3.443101907383187\n",
       "  0.25360941058690917\n",
       "  0.31550078859947406\n",
       " -2.049248904594208\n",
       "  3.982929369660077\n",
       "  3.242496187754242\n",
       "  1.4315538250661717\n",
       " -1.0607036343620784\n",
       " -0.7497444828885428"
      ]
     },
     "metadata": {},
     "output_type": "display_data"
    }
   ],
   "source": [
    "data_lasso = DataFrame(X_lasso, :auto)\n",
    "data_lasso.Y = y_lasso"
   ]
  },
  {
   "cell_type": "code",
   "execution_count": 40,
   "metadata": {},
   "outputs": [
    {
     "name": "stdout",
     "output_type": "stream",
     "text": [
      "Performing 10-fold cross-validation for lambda selection...\n"
     ]
    },
    {
     "data": {
      "text/plain": [
       "200-element Vector{Float64}:\n",
       "  2.7549787019434926\n",
       " -1.9429753755391668\n",
       "  2.9449346893522725\n",
       " -0.5372347200984396\n",
       "  0.7062488494522423\n",
       " -2.3216423672899467\n",
       " -3.1647532081340537\n",
       " -1.8859403761433322\n",
       "  2.6549929104976013\n",
       " -0.9765005022088569\n",
       "  ⋮\n",
       "  3.443101907383187\n",
       "  0.25360941058690917\n",
       "  0.31550078859947406\n",
       " -2.049248904594208\n",
       "  3.982929369660077\n",
       "  3.242496187754242\n",
       "  1.4315538250661717\n",
       " -1.0607036343620784\n",
       " -0.7497444828885428"
      ]
     },
     "metadata": {},
     "output_type": "display_data"
    }
   ],
   "source": [
    "cv_folds = 10\n",
    "println(\"Performing $cv_folds-fold cross-validation for lambda selection...\")\n",
    "\n",
    "X_matrix = Matrix(select(data_lasso, Not(:Y)))\n",
    "y_vector = data_lasso.Y\n"
   ]
  },
  {
   "cell_type": "code",
   "execution_count": 47,
   "metadata": {},
   "outputs": [
    {
     "data": {
      "text/plain": [
       "LassoPath (66) solutions for 21 predictors in 256 iterations):\n",
       "───────────────────────────────────\n",
       "               λ    pct_dev  ncoefs\n",
       "───────────────────────────────────\n",
       " [1]  1.39921     0.0             0\n",
       " [2]  1.2749      0.0597632       1\n",
       " [3]  1.16164     0.10938         1\n",
       " [4]  1.05845     0.192506        2\n",
       " [5]  0.964418    0.267203        2\n",
       " [6]  0.878742    0.334948        3\n",
       " [7]  0.800677    0.409224        4\n",
       " [8]  0.729547    0.493796        4\n",
       " [9]  0.664736    0.564008        4\n",
       "[10]  0.605683    0.622299        4\n",
       "[11]  0.551875    0.670694        4\n",
       "[12]  0.502848    0.710871        4\n",
       "[13]  0.458177    0.749853        5\n",
       "[14]  0.417473    0.785925        5\n",
       "[15]  0.380386    0.815873        5\n",
       "[16]  0.346594    0.840736        5\n",
       "[17]  0.315803    0.861378        5\n",
       "[18]  0.287748    0.878515        5\n",
       "[19]  0.262186    0.892743        5\n",
       "[20]  0.238894    0.904554        5\n",
       "[21]  0.217671    0.914361        5\n",
       "[22]  0.198334    0.922502        5\n",
       "[23]  0.180714    0.929262        5\n",
       "[24]  0.16466     0.934874        5\n",
       "[25]  0.150032    0.939532        5\n",
       "[26]  0.136704    0.9434          5\n",
       "[27]  0.124559    0.946612        5\n",
       "[28]  0.113494    0.949277        5\n",
       "[29]  0.103411    0.951491        5\n",
       "[30]  0.0942246   0.953328        5\n",
       "[31]  0.0858539   0.954854        5\n",
       "[32]  0.0782269   0.956121        5\n",
       "[33]  0.0712774   0.957172        5\n",
       "[34]  0.0649454   0.958081        7\n",
       "[35]  0.0591758   0.958959        7\n",
       "[36]  0.0539188   0.959688        7\n",
       "[37]  0.0491288   0.960294        7\n",
       "[38]  0.0447643   0.960797        7\n",
       "[39]  0.0407876   0.961214        7\n",
       "[40]  0.0371641   0.961561        7\n",
       "[41]  0.0338626   0.961848        7\n",
       "[42]  0.0308543   0.962094        8\n",
       "[43]  0.0281133   0.962373       10\n",
       "[44]  0.0256158   0.962656       11\n",
       "[45]  0.0233402   0.962922       12\n",
       "[46]  0.0212667   0.963151       12\n",
       "[47]  0.0193774   0.963342       12\n",
       "[48]  0.017656    0.9635         12\n",
       "[49]  0.0160875   0.963633       13\n",
       "[50]  0.0146583   0.963744       13\n",
       "[51]  0.0133561   0.963847       14\n",
       "[52]  0.0121696   0.96394        15\n",
       "[53]  0.0110885   0.96402        16\n",
       "[54]  0.0101034   0.964089       16\n",
       "[55]  0.00920584  0.964146       17\n",
       "[56]  0.00838802  0.964196       17\n",
       "[57]  0.00764285  0.964237       17\n",
       "[58]  0.00696388  0.964271       17\n",
       "[59]  0.00634523  0.964299       17\n",
       "[60]  0.00578153  0.964324       18\n",
       "[61]  0.00526792  0.964345       18\n",
       "[62]  0.00479993  0.964362       18\n",
       "[63]  0.00437352  0.964377       18\n",
       "[64]  0.00398499  0.964389       19\n",
       "[65]  0.00363097  0.964399       19\n",
       "[66]  0.00330841  0.964407       20\n",
       "───────────────────────────────────"
      ]
     },
     "metadata": {},
     "output_type": "display_data"
    }
   ],
   "source": [
    "path = Lasso.fit(LassoPath, X_matrix, y_vector)"
   ]
  },
  {
   "cell_type": "code",
   "execution_count": null,
   "metadata": {},
   "outputs": [],
   "source": []
  },
  {
   "cell_type": "code",
   "execution_count": null,
   "metadata": {},
   "outputs": [],
   "source": []
  },
  {
   "cell_type": "code",
   "execution_count": null,
   "metadata": {},
   "outputs": [],
   "source": []
  },
  {
   "cell_type": "code",
   "execution_count": null,
   "metadata": {},
   "outputs": [],
   "source": []
  },
  {
   "cell_type": "code",
   "execution_count": null,
   "metadata": {},
   "outputs": [],
   "source": []
  },
  {
   "cell_type": "code",
   "execution_count": null,
   "metadata": {},
   "outputs": [],
   "source": []
  },
  {
   "cell_type": "code",
   "execution_count": null,
   "metadata": {},
   "outputs": [],
   "source": []
  }
 ],
 "metadata": {
  "kernelspec": {
   "display_name": "Julia 1.11.1",
   "language": "julia",
   "name": "julia-1.11"
  },
  "language_info": {
   "file_extension": ".jl",
   "mimetype": "application/julia",
   "name": "julia",
   "version": "1.11.1"
  }
 },
 "nbformat": 4,
 "nbformat_minor": 2
}
