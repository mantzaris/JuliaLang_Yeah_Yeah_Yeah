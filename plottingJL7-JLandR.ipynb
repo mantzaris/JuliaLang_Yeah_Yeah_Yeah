{
 "cells": [
  {
   "cell_type": "code",
   "execution_count": null,
   "metadata": {},
   "outputs": [],
   "source": []
  },
  {
   "cell_type": "code",
   "execution_count": 1,
   "metadata": {},
   "outputs": [],
   "source": [
    "using Plots"
   ]
  },
  {
   "cell_type": "code",
   "execution_count": 2,
   "metadata": {},
   "outputs": [],
   "source": [
    "#import Pkg\n",
    "#Pkg.add(\"RCall\")\n",
    "using RCall"
   ]
  },
  {
   "cell_type": "code",
   "execution_count": null,
   "metadata": {},
   "outputs": [],
   "source": []
  },
  {
   "cell_type": "code",
   "execution_count": 4,
   "metadata": {},
   "outputs": [
    {
     "data": {
      "text/plain": [
       "RObject{RealSxp}\n",
       "[1] 55\n"
      ]
     },
     "execution_count": 4,
     "metadata": {},
     "output_type": "execute_result"
    }
   ],
   "source": [
    "#call R to perform some computation\n",
    "R\"sum(c(1,2,3,4,5,6,7,8,9,10))\""
   ]
  },
  {
   "cell_type": "code",
   "execution_count": 5,
   "metadata": {},
   "outputs": [
    {
     "data": {
      "text/plain": [
       "RObject{RealSxp}\n",
       " [1] -0.9783953 -0.7125664 -0.3369801 -1.2556020  1.1331482  0.1778831\n",
       " [7]  0.2131351 -0.8253660 -0.9482757 -0.1606809\n"
      ]
     },
     "execution_count": 5,
     "metadata": {},
     "output_type": "execute_result"
    }
   ],
   "source": [
    "R\"rnorm(10)\""
   ]
  },
  {
   "cell_type": "code",
   "execution_count": 6,
   "metadata": {},
   "outputs": [
    {
     "data": {
      "text/plain": [
       "RObject{RealSxp}\n",
       "[1] -0.008501119\n"
      ]
     },
     "execution_count": 6,
     "metadata": {},
     "output_type": "execute_result"
    }
   ],
   "source": [
    "R\"mean(rnorm(100))\""
   ]
  },
  {
   "cell_type": "code",
   "execution_count": null,
   "metadata": {},
   "outputs": [
    {
     "data": {
      "text/plain": [
       "RObject{VecSxp}\n",
       "\n",
       "\tWelch Two Sample t-test\n",
       "\n",
       "data:  rnorm(10, 0, 2) and rnorm(10, 1, 2)\n",
       "t = -2.2397, df = 16.141, p-value = 0.03953\n",
       "alternative hypothesis: true difference in means is not equal to 0\n",
       "95 percent confidence interval:\n",
       " -2.94081464 -0.08188164\n",
       "sample estimates:\n",
       " mean of x  mean of y \n",
       "-0.3309918  1.1803564 \n",
       "\n"
      ]
     },
     "execution_count": 7,
     "metadata": {},
     "output_type": "execute_result"
    }
   ],
   "source": [
    "#use R to perform a t-test\n",
    "R\"t.test(rnorm(10,0,2),rnorm(10,1,2))\""
   ]
  },
  {
   "cell_type": "code",
   "execution_count": 8,
   "metadata": {},
   "outputs": [
    {
     "data": {
      "text/plain": [
       "RObject{VecSxp}\n",
       "\n",
       "\tWelch Two Sample t-test\n",
       "\n",
       "data:  `#JL`$r1 and `#JL`$r2\n",
       "t = -0.38858, df = 17.993, p-value = 0.7021\n",
       "alternative hypothesis: true difference in means is not equal to 0\n",
       "95 percent confidence interval:\n",
       " -2.507007  1.724392\n",
       "sample estimates:\n",
       "  mean of x   mean of y \n",
       "-0.06153839  0.32976931 \n",
       "\n"
      ]
     },
     "execution_count": 8,
     "metadata": {},
     "output_type": "execute_result"
    }
   ],
   "source": [
    "#use R to perform a t-test using data from Julia\n",
    "using Random, Distributions\n",
    "d1 = Normal(0,2)\n",
    "d2 = Normal(1,2)\n",
    "r1 = rand(d1,10)\n",
    "r2 = rand(d2,10)\n",
    "R\"t.test($r1,$r2)\""
   ]
  },
  {
   "cell_type": "code",
   "execution_count": 10,
   "metadata": {},
   "outputs": [
    {
     "data": {
      "text/plain": [
       "RObject{RealSxp}\n",
       "[1] 0.2\n"
      ]
     },
     "execution_count": 10,
     "metadata": {},
     "output_type": "execute_result"
    }
   ],
   "source": [
    "#pass a function\n",
    "f1(x,y) = x/(y+5)\n",
    "R\"$f1(2,5)\""
   ]
  },
  {
   "cell_type": "code",
   "execution_count": 11,
   "metadata": {},
   "outputs": [
    {
     "name": "stdout",
     "output_type": "stream",
     "text": [
      "OrderedCollections.OrderedDict{Symbol, Any}(:statistic => -1.3816259510436286, :parameter => 17.993426295443406, :p_value => 0.1840023235893069, :conf_int => [-3.5070073492055096, 0.7243919606575776], :estimate => [-1.061538387902558, 0.32976930637140833], :null_value => 0.0, :stderr => 1.0070074995500948, :alternative => \"two.sided\", :method => \"Welch Two Sample t-test\", :data_name => \"r1b and `#JL`\\$r2\")\n",
      "0.1840023235893069\n",
      "0.1840023235893069\n"
     ]
    }
   ],
   "source": [
    "#use multiline statements in R, and then extract a variable from R's environment to copy it into Julia\n",
    "R\"\"\"\n",
    "r1b = $r1 - 1\n",
    "xx = t.test(r1b,$r2)\n",
    "\"\"\"\n",
    "xx = rcopy(R\"xx\")\n",
    "println(xx)\n",
    "println(xx[:p_value])\n",
    "println(xx[Symbol(\"p_value\")])"
   ]
  },
  {
   "cell_type": "code",
   "execution_count": 12,
   "metadata": {},
   "outputs": [
    {
     "name": "stdout",
     "output_type": "stream",
     "text": [
      "Dict(\"c\" => 3, \"b\" => 2, \"a\" => 1)\n",
      "RObject{VecSxp}\n",
      "$c\n",
      "[1] 3\n",
      "\n",
      "$b\n",
      "[1] 2\n",
      "\n",
      "$a\n",
      "[1] 1\n",
      "\n",
      "\n"
     ]
    },
    {
     "data": {
      "text/plain": [
       "RObject{StrSxp}\n",
       "[1] \"list\"\n"
      ]
     },
     "execution_count": 12,
     "metadata": {},
     "output_type": "execute_result"
    }
   ],
   "source": [
    "#'robject' function converts, changes, a julia 'object' to an RObject for R to use\n",
    "dd1 = Dict(\"a\"=>1,\"b\"=>2,\"c\"=>3)\n",
    "println(dd1)\n",
    "dd1r = robject(dd1)\n",
    "println(dd1r)\n",
    "R\"typeof($dd1r)\""
   ]
  },
  {
   "cell_type": "code",
   "execution_count": 13,
   "metadata": {},
   "outputs": [],
   "source": [
    "#import R functions direct into Julia\n",
    "@rimport base as Rbase"
   ]
  },
  {
   "cell_type": "code",
   "execution_count": 14,
   "metadata": {},
   "outputs": [
    {
     "data": {
      "text/plain": [
       "RObject{IntSxp}\n",
       "[1]  1  2  3 10\n"
      ]
     },
     "execution_count": 14,
     "metadata": {},
     "output_type": "execute_result"
    }
   ],
   "source": [
    "Rbase.c(1,2,3,10)"
   ]
  },
  {
   "cell_type": "code",
   "execution_count": 15,
   "metadata": {},
   "outputs": [
    {
     "data": {
      "text/plain": [
       "RObject{IntSxp}\n",
       "[1] 16\n"
      ]
     },
     "execution_count": 15,
     "metadata": {},
     "output_type": "execute_result"
    }
   ],
   "source": [
    "Rbase.sum(Rbase.c(1,2,3,10))"
   ]
  },
  {
   "cell_type": "code",
   "execution_count": 16,
   "metadata": {},
   "outputs": [
    {
     "data": {
      "text/plain": [
       "RObject{StrSxp}\n",
       "[1] \"PlantGrowth\"\n"
      ]
     },
     "execution_count": 16,
     "metadata": {},
     "output_type": "execute_result"
    }
   ],
   "source": [
    "R\"data(\\\"PlantGrowth\\\")\""
   ]
  },
  {
   "cell_type": "code",
   "execution_count": 17,
   "metadata": {},
   "outputs": [
    {
     "data": {
      "text/html": [
       "<table class=\"data-frame\"><thead><tr><th></th><th>weight</th><th>group</th></tr><tr><th></th><th>Float64</th><th>Cat…</th></tr></thead><tbody><p>6 rows × 2 columns</p><tr><th>1</th><td>4.17</td><td>ctrl</td></tr><tr><th>2</th><td>5.58</td><td>ctrl</td></tr><tr><th>3</th><td>5.18</td><td>ctrl</td></tr><tr><th>4</th><td>6.11</td><td>ctrl</td></tr><tr><th>5</th><td>4.5</td><td>ctrl</td></tr><tr><th>6</th><td>4.61</td><td>ctrl</td></tr></tbody></table>"
      ],
      "text/latex": [
       "\\begin{tabular}{r|cc}\n",
       "\t& weight & group\\\\\n",
       "\t\\hline\n",
       "\t& Float64 & Cat…\\\\\n",
       "\t\\hline\n",
       "\t1 & 4.17 & ctrl \\\\\n",
       "\t2 & 5.58 & ctrl \\\\\n",
       "\t3 & 5.18 & ctrl \\\\\n",
       "\t4 & 6.11 & ctrl \\\\\n",
       "\t5 & 4.5 & ctrl \\\\\n",
       "\t6 & 4.61 & ctrl \\\\\n",
       "\\end{tabular}\n"
      ],
      "text/plain": [
       "\u001b[1m6×2 DataFrame\u001b[0m\n",
       "\u001b[1m Row \u001b[0m│\u001b[1m weight  \u001b[0m\u001b[1m group \u001b[0m\n",
       "\u001b[1m     \u001b[0m│\u001b[90m Float64 \u001b[0m\u001b[90m Cat…  \u001b[0m\n",
       "─────┼────────────────\n",
       "   1 │    4.17  ctrl\n",
       "   2 │    5.58  ctrl\n",
       "   3 │    5.18  ctrl\n",
       "   4 │    6.11  ctrl\n",
       "   5 │    4.5   ctrl\n",
       "   6 │    4.61  ctrl"
      ]
     },
     "execution_count": 17,
     "metadata": {},
     "output_type": "execute_result"
    }
   ],
   "source": [
    "rcopy(R\"head(PlantGrowth)\")"
   ]
  },
  {
   "cell_type": "code",
   "execution_count": 18,
   "metadata": {},
   "outputs": [
    {
     "data": {
      "text/html": [
       "<table class=\"data-frame\"><thead><tr><th></th><th>weight</th><th>group</th></tr><tr><th></th><th>Float64</th><th>Cat…</th></tr></thead><tbody><p>30 rows × 2 columns</p><tr><th>1</th><td>4.17</td><td>ctrl</td></tr><tr><th>2</th><td>5.58</td><td>ctrl</td></tr><tr><th>3</th><td>5.18</td><td>ctrl</td></tr><tr><th>4</th><td>6.11</td><td>ctrl</td></tr><tr><th>5</th><td>4.5</td><td>ctrl</td></tr><tr><th>6</th><td>4.61</td><td>ctrl</td></tr><tr><th>7</th><td>5.17</td><td>ctrl</td></tr><tr><th>8</th><td>4.53</td><td>ctrl</td></tr><tr><th>9</th><td>5.33</td><td>ctrl</td></tr><tr><th>10</th><td>5.14</td><td>ctrl</td></tr><tr><th>11</th><td>4.81</td><td>trt1</td></tr><tr><th>12</th><td>4.17</td><td>trt1</td></tr><tr><th>13</th><td>4.41</td><td>trt1</td></tr><tr><th>14</th><td>3.59</td><td>trt1</td></tr><tr><th>15</th><td>5.87</td><td>trt1</td></tr><tr><th>16</th><td>3.83</td><td>trt1</td></tr><tr><th>17</th><td>6.03</td><td>trt1</td></tr><tr><th>18</th><td>4.89</td><td>trt1</td></tr><tr><th>19</th><td>4.32</td><td>trt1</td></tr><tr><th>20</th><td>4.69</td><td>trt1</td></tr><tr><th>21</th><td>6.31</td><td>trt2</td></tr><tr><th>22</th><td>5.12</td><td>trt2</td></tr><tr><th>23</th><td>5.54</td><td>trt2</td></tr><tr><th>24</th><td>5.5</td><td>trt2</td></tr><tr><th>25</th><td>5.37</td><td>trt2</td></tr><tr><th>26</th><td>5.29</td><td>trt2</td></tr><tr><th>27</th><td>4.92</td><td>trt2</td></tr><tr><th>28</th><td>6.15</td><td>trt2</td></tr><tr><th>29</th><td>5.8</td><td>trt2</td></tr><tr><th>30</th><td>5.26</td><td>trt2</td></tr></tbody></table>"
      ],
      "text/latex": [
       "\\begin{tabular}{r|cc}\n",
       "\t& weight & group\\\\\n",
       "\t\\hline\n",
       "\t& Float64 & Cat…\\\\\n",
       "\t\\hline\n",
       "\t1 & 4.17 & ctrl \\\\\n",
       "\t2 & 5.58 & ctrl \\\\\n",
       "\t3 & 5.18 & ctrl \\\\\n",
       "\t4 & 6.11 & ctrl \\\\\n",
       "\t5 & 4.5 & ctrl \\\\\n",
       "\t6 & 4.61 & ctrl \\\\\n",
       "\t7 & 5.17 & ctrl \\\\\n",
       "\t8 & 4.53 & ctrl \\\\\n",
       "\t9 & 5.33 & ctrl \\\\\n",
       "\t10 & 5.14 & ctrl \\\\\n",
       "\t11 & 4.81 & trt1 \\\\\n",
       "\t12 & 4.17 & trt1 \\\\\n",
       "\t13 & 4.41 & trt1 \\\\\n",
       "\t14 & 3.59 & trt1 \\\\\n",
       "\t15 & 5.87 & trt1 \\\\\n",
       "\t16 & 3.83 & trt1 \\\\\n",
       "\t17 & 6.03 & trt1 \\\\\n",
       "\t18 & 4.89 & trt1 \\\\\n",
       "\t19 & 4.32 & trt1 \\\\\n",
       "\t20 & 4.69 & trt1 \\\\\n",
       "\t21 & 6.31 & trt2 \\\\\n",
       "\t22 & 5.12 & trt2 \\\\\n",
       "\t23 & 5.54 & trt2 \\\\\n",
       "\t24 & 5.5 & trt2 \\\\\n",
       "\t25 & 5.37 & trt2 \\\\\n",
       "\t26 & 5.29 & trt2 \\\\\n",
       "\t27 & 4.92 & trt2 \\\\\n",
       "\t28 & 6.15 & trt2 \\\\\n",
       "\t29 & 5.8 & trt2 \\\\\n",
       "\t30 & 5.26 & trt2 \\\\\n",
       "\\end{tabular}\n"
      ],
      "text/plain": [
       "\u001b[1m30×2 DataFrame\u001b[0m\n",
       "\u001b[1m Row \u001b[0m│\u001b[1m weight  \u001b[0m\u001b[1m group \u001b[0m\n",
       "\u001b[1m     \u001b[0m│\u001b[90m Float64 \u001b[0m\u001b[90m Cat…  \u001b[0m\n",
       "─────┼────────────────\n",
       "   1 │    4.17  ctrl\n",
       "   2 │    5.58  ctrl\n",
       "   3 │    5.18  ctrl\n",
       "   4 │    6.11  ctrl\n",
       "   5 │    4.5   ctrl\n",
       "   6 │    4.61  ctrl\n",
       "   7 │    5.17  ctrl\n",
       "   8 │    4.53  ctrl\n",
       "   9 │    5.33  ctrl\n",
       "  10 │    5.14  ctrl\n",
       "  11 │    4.81  trt1\n",
       "  ⋮  │    ⋮       ⋮\n",
       "  21 │    6.31  trt2\n",
       "  22 │    5.12  trt2\n",
       "  23 │    5.54  trt2\n",
       "  24 │    5.5   trt2\n",
       "  25 │    5.37  trt2\n",
       "  26 │    5.29  trt2\n",
       "  27 │    4.92  trt2\n",
       "  28 │    6.15  trt2\n",
       "  29 │    5.8   trt2\n",
       "  30 │    5.26  trt2\n",
       "\u001b[36m        9 rows omitted\u001b[0m"
      ]
     },
     "execution_count": 18,
     "metadata": {},
     "output_type": "execute_result"
    }
   ],
   "source": [
    "pg = rcopy(R\"PlantGrowth\")"
   ]
  },
  {
   "cell_type": "code",
   "execution_count": 19,
   "metadata": {},
   "outputs": [
    {
     "data": {
      "text/html": [
       "<table class=\"data-frame\"><thead><tr><th></th><th>weight</th><th>group</th></tr><tr><th></th><th>Float64</th><th>Cat…</th></tr></thead><tbody><p>30 rows × 2 columns</p><tr><th>1</th><td>4.17</td><td>ctrl</td></tr><tr><th>2</th><td>5.58</td><td>ctrl</td></tr><tr><th>3</th><td>5.18</td><td>ctrl</td></tr><tr><th>4</th><td>6.11</td><td>ctrl</td></tr><tr><th>5</th><td>4.5</td><td>ctrl</td></tr><tr><th>6</th><td>4.61</td><td>ctrl</td></tr><tr><th>7</th><td>5.17</td><td>ctrl</td></tr><tr><th>8</th><td>4.53</td><td>ctrl</td></tr><tr><th>9</th><td>5.33</td><td>ctrl</td></tr><tr><th>10</th><td>5.14</td><td>ctrl</td></tr><tr><th>11</th><td>4.81</td><td>trt1</td></tr><tr><th>12</th><td>4.17</td><td>trt1</td></tr><tr><th>13</th><td>4.41</td><td>trt1</td></tr><tr><th>14</th><td>3.59</td><td>trt1</td></tr><tr><th>15</th><td>5.87</td><td>trt1</td></tr><tr><th>16</th><td>3.83</td><td>trt1</td></tr><tr><th>17</th><td>6.03</td><td>trt1</td></tr><tr><th>18</th><td>4.89</td><td>trt1</td></tr><tr><th>19</th><td>4.32</td><td>trt1</td></tr><tr><th>20</th><td>4.69</td><td>trt1</td></tr><tr><th>21</th><td>6.31</td><td>trt2</td></tr><tr><th>22</th><td>5.12</td><td>trt2</td></tr><tr><th>23</th><td>5.54</td><td>trt2</td></tr><tr><th>24</th><td>5.5</td><td>trt2</td></tr><tr><th>25</th><td>5.37</td><td>trt2</td></tr><tr><th>26</th><td>5.29</td><td>trt2</td></tr><tr><th>27</th><td>4.92</td><td>trt2</td></tr><tr><th>28</th><td>6.15</td><td>trt2</td></tr><tr><th>29</th><td>5.8</td><td>trt2</td></tr><tr><th>30</th><td>5.26</td><td>trt2</td></tr></tbody></table>"
      ],
      "text/latex": [
       "\\begin{tabular}{r|cc}\n",
       "\t& weight & group\\\\\n",
       "\t\\hline\n",
       "\t& Float64 & Cat…\\\\\n",
       "\t\\hline\n",
       "\t1 & 4.17 & ctrl \\\\\n",
       "\t2 & 5.58 & ctrl \\\\\n",
       "\t3 & 5.18 & ctrl \\\\\n",
       "\t4 & 6.11 & ctrl \\\\\n",
       "\t5 & 4.5 & ctrl \\\\\n",
       "\t6 & 4.61 & ctrl \\\\\n",
       "\t7 & 5.17 & ctrl \\\\\n",
       "\t8 & 4.53 & ctrl \\\\\n",
       "\t9 & 5.33 & ctrl \\\\\n",
       "\t10 & 5.14 & ctrl \\\\\n",
       "\t11 & 4.81 & trt1 \\\\\n",
       "\t12 & 4.17 & trt1 \\\\\n",
       "\t13 & 4.41 & trt1 \\\\\n",
       "\t14 & 3.59 & trt1 \\\\\n",
       "\t15 & 5.87 & trt1 \\\\\n",
       "\t16 & 3.83 & trt1 \\\\\n",
       "\t17 & 6.03 & trt1 \\\\\n",
       "\t18 & 4.89 & trt1 \\\\\n",
       "\t19 & 4.32 & trt1 \\\\\n",
       "\t20 & 4.69 & trt1 \\\\\n",
       "\t21 & 6.31 & trt2 \\\\\n",
       "\t22 & 5.12 & trt2 \\\\\n",
       "\t23 & 5.54 & trt2 \\\\\n",
       "\t24 & 5.5 & trt2 \\\\\n",
       "\t25 & 5.37 & trt2 \\\\\n",
       "\t26 & 5.29 & trt2 \\\\\n",
       "\t27 & 4.92 & trt2 \\\\\n",
       "\t28 & 6.15 & trt2 \\\\\n",
       "\t29 & 5.8 & trt2 \\\\\n",
       "\t30 & 5.26 & trt2 \\\\\n",
       "\\end{tabular}\n"
      ],
      "text/plain": [
       "\u001b[1m30×2 DataFrame\u001b[0m\n",
       "\u001b[1m Row \u001b[0m│\u001b[1m weight  \u001b[0m\u001b[1m group \u001b[0m\n",
       "\u001b[1m     \u001b[0m│\u001b[90m Float64 \u001b[0m\u001b[90m Cat…  \u001b[0m\n",
       "─────┼────────────────\n",
       "   1 │    4.17  ctrl\n",
       "   2 │    5.58  ctrl\n",
       "   3 │    5.18  ctrl\n",
       "   4 │    6.11  ctrl\n",
       "   5 │    4.5   ctrl\n",
       "   6 │    4.61  ctrl\n",
       "   7 │    5.17  ctrl\n",
       "   8 │    4.53  ctrl\n",
       "   9 │    5.33  ctrl\n",
       "  10 │    5.14  ctrl\n",
       "  11 │    4.81  trt1\n",
       "  ⋮  │    ⋮       ⋮\n",
       "  21 │    6.31  trt2\n",
       "  22 │    5.12  trt2\n",
       "  23 │    5.54  trt2\n",
       "  24 │    5.5   trt2\n",
       "  25 │    5.37  trt2\n",
       "  26 │    5.29  trt2\n",
       "  27 │    4.92  trt2\n",
       "  28 │    6.15  trt2\n",
       "  29 │    5.8   trt2\n",
       "  30 │    5.26  trt2\n",
       "\u001b[36m        9 rows omitted\u001b[0m"
      ]
     },
     "execution_count": 19,
     "metadata": {},
     "output_type": "execute_result"
    }
   ],
   "source": [
    "pg"
   ]
  },
  {
   "cell_type": "code",
   "execution_count": null,
   "metadata": {},
   "outputs": [],
   "source": []
  },
  {
   "cell_type": "code",
   "execution_count": null,
   "metadata": {},
   "outputs": [],
   "source": []
  },
  {
   "cell_type": "code",
   "execution_count": null,
   "metadata": {},
   "outputs": [],
   "source": []
  },
  {
   "cell_type": "code",
   "execution_count": null,
   "metadata": {},
   "outputs": [],
   "source": []
  }
 ],
 "metadata": {
  "kernelspec": {
   "display_name": "Julia 1.6.2",
   "language": "julia",
   "name": "julia-1.6"
  },
  "language_info": {
   "file_extension": ".jl",
   "mimetype": "application/julia",
   "name": "julia",
   "version": "1.6.2"
  }
 },
 "nbformat": 4,
 "nbformat_minor": 4
}
