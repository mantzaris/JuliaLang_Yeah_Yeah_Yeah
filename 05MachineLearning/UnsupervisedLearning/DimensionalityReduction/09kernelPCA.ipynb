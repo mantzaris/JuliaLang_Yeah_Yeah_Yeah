{
 "cells": [
  {
   "cell_type": "code",
   "execution_count": 3,
   "metadata": {},
   "outputs": [],
   "source": [
    "using Random, Distributions\n",
    "using StatsBase, Statistics, LinearAlgebra, Plots"
   ]
  },
  {
   "cell_type": "markdown",
   "metadata": {},
   "source": [
    "#### generate some data that is not linearly separable, that is no linear function can separate them, this example starts off with a cluster in the center and the data surrounding it around an approximate radius"
   ]
  },
  {
   "cell_type": "code",
   "execution_count": 4,
   "metadata": {},
   "outputs": [
    {
     "data": {
      "text/plain": [
       "GenerateDataNotLinearlySeparable (generic function with 3 methods)"
      ]
     },
     "execution_count": 4,
     "metadata": {},
     "output_type": "execute_result"
    }
   ],
   "source": [
    "\n",
    "function GenerateDataNotLinearlySeparable(NN = 100, radius = 10)\n",
    "    points = []\n",
    "    for i in 1:NN\n",
    "        x_tmp = 0\n",
    "        y_tmp = 0\n",
    "        if(i < Int(round(NN/2))) #center cluster data\n",
    "            x_tmp, y_tmp = rand(Normal(0,1),2)\n",
    "            push!(points,[x_tmp,y_tmp,\"red\"])            \n",
    "        else #periphery circle perimenter < rr = rand() * 2pi; sqrt( (10sin(rr))^2 + (10cos(rr))^2 )) >\n",
    "            angle = rand() * 2pi\n",
    "            x_tmp = radius*cos(angle) + rand(Normal(0,0.1),1)[1]\n",
    "            y_tmp = radius*sin(angle) + rand(Normal(0,0.1),1)[1]\n",
    "            push!(points,[x_tmp,y_tmp,\"blue\"])            \n",
    "        end\n",
    "    end\n",
    "    return points\n",
    "end"
   ]
  },
  {
   "cell_type": "code",
   "execution_count": 5,
   "metadata": {},
   "outputs": [
    {
     "data": {
      "text/plain": [
       "100-element Vector{Any}:\n",
       " Any[-0.9960870521569225, 1.7089627281444382, \"red\"]\n",
       " Any[1.9970615705022214, -0.13778272571754713, \"red\"]\n",
       " Any[1.0650417017677318, 1.1632088505844655, \"red\"]\n",
       " Any[-0.8204574374962016, -0.5127553123442818, \"red\"]\n",
       " Any[0.24551893340192116, 1.5158840560863436, \"red\"]\n",
       " Any[-0.45136381435049083, 1.2862875780232117, \"red\"]\n",
       " Any[1.1813370953680749, 0.9389761962405239, \"red\"]\n",
       " Any[1.124731396154549, -0.60848330761631, \"red\"]\n",
       " Any[0.8286773503262436, 0.27800402619906683, \"red\"]\n",
       " Any[-0.05293345806827782, -0.311975391829509, \"red\"]\n",
       " Any[-1.0029716611274448, -0.4796334903004826, \"red\"]\n",
       " Any[0.42887651596299436, 0.05164449723173598, \"red\"]\n",
       " Any[-0.10392906596275298, -1.093044854804354, \"red\"]\n",
       " ⋮\n",
       " Any[-8.227640566069232, 5.558842283796053, \"blue\"]\n",
       " Any[8.614061479939284, -5.185088155994315, \"blue\"]\n",
       " Any[-8.471239537464134, -5.398101115041877, \"blue\"]\n",
       " Any[1.4606721736118842, 9.954119899513742, \"blue\"]\n",
       " Any[2.4701597860014393, 9.574150622197742, \"blue\"]\n",
       " Any[-8.226369364988111, -5.877050006989085, \"blue\"]\n",
       " Any[-7.668755251216751, 6.422597413693851, \"blue\"]\n",
       " Any[-2.8203797909736736, -9.602149490186555, \"blue\"]\n",
       " Any[1.2700889730453444, 9.964629654756598, \"blue\"]\n",
       " Any[-3.2762177646175537, 9.220588662679594, \"blue\"]\n",
       " Any[9.023152444675214, -4.523401997312981, \"blue\"]\n",
       " Any[5.531562845310036, 8.479734966806245, \"blue\"]"
      ]
     },
     "execution_count": 5,
     "metadata": {},
     "output_type": "execute_result"
    }
   ],
   "source": [
    "points = GenerateDataNotLinearlySeparable()"
   ]
  },
  {
   "cell_type": "code",
   "execution_count": 6,
   "metadata": {},
   "outputs": [
    {
     "data": {
      "text/plain": [
       "2-element Vector{Int64}:\n",
       " 1\n",
       " 1"
      ]
     },
     "execution_count": 6,
     "metadata": {},
     "output_type": "execute_result"
    }
   ],
   "source": [
    "point_new = [ 1 , 1 ]"
   ]
  },
  {
   "cell_type": "code",
   "execution_count": 7,
   "metadata": {},
   "outputs": [
    {
     "data": {
      "image/svg+xml": [
       "<?xml version=\"1.0\" encoding=\"utf-8\"?>\n",
       "<svg xmlns=\"http://www.w3.org/2000/svg\" xmlns:xlink=\"http://www.w3.org/1999/xlink\" width=\"600\" height=\"400\" viewBox=\"0 0 2400 1600\">\n",
       "<defs>\n",
       "  <clipPath id=\"clip760\">\n",
       "    <rect x=\"0\" y=\"0\" width=\"2400\" height=\"1600\"/>\n",
       "  </clipPath>\n",
       "</defs>\n",
       "<path clip-path=\"url(#clip760)\" d=\"M0 1600 L2400 1600 L2400 0 L0 0  Z\" fill=\"#ffffff\" fill-rule=\"evenodd\" fill-opacity=\"1\"/>\n",
       "<defs>\n",
       "  <clipPath id=\"clip761\">\n",
       "    <rect x=\"480\" y=\"0\" width=\"1681\" height=\"1600\"/>\n",
       "  </clipPath>\n",
       "</defs>\n",
       "<path clip-path=\"url(#clip760)\" d=\"M178.867 1486.45 L2352.76 1486.45 L2352.76 123.472 L178.867 123.472  Z\" fill=\"#ffffff\" fill-rule=\"evenodd\" fill-opacity=\"1\"/>\n",
       "<defs>\n",
       "  <clipPath id=\"clip762\">\n",
       "    <rect x=\"178\" y=\"123\" width=\"2175\" height=\"1364\"/>\n",
       "  </clipPath>\n",
       "</defs>\n",
       "<polyline clip-path=\"url(#clip762)\" style=\"stroke:#000000; stroke-linecap:round; stroke-linejoin:round; stroke-width:2; stroke-opacity:0.1; fill:none\" points=\"238.247,1486.45 238.247,123.472 \"/>\n",
       "<polyline clip-path=\"url(#clip762)\" style=\"stroke:#000000; stroke-linecap:round; stroke-linejoin:round; stroke-width:2; stroke-opacity:0.1; fill:none\" points=\"751.765,1486.45 751.765,123.472 \"/>\n",
       "<polyline clip-path=\"url(#clip762)\" style=\"stroke:#000000; stroke-linecap:round; stroke-linejoin:round; stroke-width:2; stroke-opacity:0.1; fill:none\" points=\"1265.28,1486.45 1265.28,123.472 \"/>\n",
       "<polyline clip-path=\"url(#clip762)\" style=\"stroke:#000000; stroke-linecap:round; stroke-linejoin:round; stroke-width:2; stroke-opacity:0.1; fill:none\" points=\"1778.8,1486.45 1778.8,123.472 \"/>\n",
       "<polyline clip-path=\"url(#clip762)\" style=\"stroke:#000000; stroke-linecap:round; stroke-linejoin:round; stroke-width:2; stroke-opacity:0.1; fill:none\" points=\"2292.32,1486.45 2292.32,123.472 \"/>\n",
       "<polyline clip-path=\"url(#clip760)\" style=\"stroke:#000000; stroke-linecap:round; stroke-linejoin:round; stroke-width:4; stroke-opacity:1; fill:none\" points=\"178.867,1486.45 2352.76,1486.45 \"/>\n",
       "<polyline clip-path=\"url(#clip760)\" style=\"stroke:#000000; stroke-linecap:round; stroke-linejoin:round; stroke-width:4; stroke-opacity:1; fill:none\" points=\"238.247,1486.45 238.247,1467.55 \"/>\n",
       "<polyline clip-path=\"url(#clip760)\" style=\"stroke:#000000; stroke-linecap:round; stroke-linejoin:round; stroke-width:4; stroke-opacity:1; fill:none\" points=\"751.765,1486.45 751.765,1467.55 \"/>\n",
       "<polyline clip-path=\"url(#clip760)\" style=\"stroke:#000000; stroke-linecap:round; stroke-linejoin:round; stroke-width:4; stroke-opacity:1; fill:none\" points=\"1265.28,1486.45 1265.28,1467.55 \"/>\n",
       "<polyline clip-path=\"url(#clip760)\" style=\"stroke:#000000; stroke-linecap:round; stroke-linejoin:round; stroke-width:4; stroke-opacity:1; fill:none\" points=\"1778.8,1486.45 1778.8,1467.55 \"/>\n",
       "<polyline clip-path=\"url(#clip760)\" style=\"stroke:#000000; stroke-linecap:round; stroke-linejoin:round; stroke-width:4; stroke-opacity:1; fill:none\" points=\"2292.32,1486.45 2292.32,1467.55 \"/>\n",
       "<path clip-path=\"url(#clip760)\" d=\"M192.31 1532.02 L221.986 1532.02 L221.986 1535.95 L192.31 1535.95 L192.31 1532.02 Z\" fill=\"#000000\" fill-rule=\"nonzero\" fill-opacity=\"1\" /><path clip-path=\"url(#clip760)\" d=\"M232.888 1544.91 L240.527 1544.91 L240.527 1518.55 L232.217 1520.21 L232.217 1515.95 L240.481 1514.29 L245.157 1514.29 L245.157 1544.91 L252.796 1544.91 L252.796 1548.85 L232.888 1548.85 L232.888 1544.91 Z\" fill=\"#000000\" fill-rule=\"nonzero\" fill-opacity=\"1\" /><path clip-path=\"url(#clip760)\" d=\"M272.24 1517.37 Q268.629 1517.37 266.8 1520.93 Q264.995 1524.47 264.995 1531.6 Q264.995 1538.71 266.8 1542.27 Q268.629 1545.82 272.24 1545.82 Q275.874 1545.82 277.68 1542.27 Q279.509 1538.71 279.509 1531.6 Q279.509 1524.47 277.68 1520.93 Q275.874 1517.37 272.24 1517.37 M272.24 1513.66 Q278.05 1513.66 281.106 1518.27 Q284.184 1522.85 284.184 1531.6 Q284.184 1540.33 281.106 1544.94 Q278.05 1549.52 272.24 1549.52 Q266.43 1549.52 263.351 1544.94 Q260.296 1540.33 260.296 1531.6 Q260.296 1522.85 263.351 1518.27 Q266.43 1513.66 272.24 1513.66 Z\" fill=\"#000000\" fill-rule=\"nonzero\" fill-opacity=\"1\" /><path clip-path=\"url(#clip760)\" d=\"M721.406 1532.02 L751.082 1532.02 L751.082 1535.95 L721.406 1535.95 L721.406 1532.02 Z\" fill=\"#000000\" fill-rule=\"nonzero\" fill-opacity=\"1\" /><path clip-path=\"url(#clip760)\" d=\"M761.221 1514.29 L779.577 1514.29 L779.577 1518.22 L765.503 1518.22 L765.503 1526.7 Q766.522 1526.35 767.54 1526.19 Q768.559 1526 769.577 1526 Q775.364 1526 778.744 1529.17 Q782.123 1532.34 782.123 1537.76 Q782.123 1543.34 778.651 1546.44 Q775.179 1549.52 768.86 1549.52 Q766.684 1549.52 764.415 1549.15 Q762.17 1548.78 759.762 1548.04 L759.762 1543.34 Q761.846 1544.47 764.068 1545.03 Q766.29 1545.58 768.767 1545.58 Q772.772 1545.58 775.11 1543.48 Q777.448 1541.37 777.448 1537.76 Q777.448 1534.15 775.11 1532.04 Q772.772 1529.94 768.767 1529.94 Q766.892 1529.94 765.017 1530.35 Q763.165 1530.77 761.221 1531.65 L761.221 1514.29 Z\" fill=\"#000000\" fill-rule=\"nonzero\" fill-opacity=\"1\" /><path clip-path=\"url(#clip760)\" d=\"M1265.28 1517.37 Q1261.67 1517.37 1259.84 1520.93 Q1258.04 1524.47 1258.04 1531.6 Q1258.04 1538.71 1259.84 1542.27 Q1261.67 1545.82 1265.28 1545.82 Q1268.92 1545.82 1270.72 1542.27 Q1272.55 1538.71 1272.55 1531.6 Q1272.55 1524.47 1270.72 1520.93 Q1268.92 1517.37 1265.28 1517.37 M1265.28 1513.66 Q1271.09 1513.66 1274.15 1518.27 Q1277.23 1522.85 1277.23 1531.6 Q1277.23 1540.33 1274.15 1544.94 Q1271.09 1549.52 1265.28 1549.52 Q1259.47 1549.52 1256.39 1544.94 Q1253.34 1540.33 1253.34 1531.6 Q1253.34 1522.85 1256.39 1518.27 Q1259.47 1513.66 1265.28 1513.66 Z\" fill=\"#000000\" fill-rule=\"nonzero\" fill-opacity=\"1\" /><path clip-path=\"url(#clip760)\" d=\"M1769.08 1514.29 L1787.43 1514.29 L1787.43 1518.22 L1773.36 1518.22 L1773.36 1526.7 Q1774.38 1526.35 1775.4 1526.19 Q1776.42 1526 1777.43 1526 Q1783.22 1526 1786.6 1529.17 Q1789.98 1532.34 1789.98 1537.76 Q1789.98 1543.34 1786.51 1546.44 Q1783.04 1549.52 1776.72 1549.52 Q1774.54 1549.52 1772.27 1549.15 Q1770.03 1548.78 1767.62 1548.04 L1767.62 1543.34 Q1769.7 1544.47 1771.93 1545.03 Q1774.15 1545.58 1776.62 1545.58 Q1780.63 1545.58 1782.97 1543.48 Q1785.3 1541.37 1785.3 1537.76 Q1785.3 1534.15 1782.97 1532.04 Q1780.63 1529.94 1776.62 1529.94 Q1774.75 1529.94 1772.87 1530.35 Q1771.02 1530.77 1769.08 1531.65 L1769.08 1514.29 Z\" fill=\"#000000\" fill-rule=\"nonzero\" fill-opacity=\"1\" /><path clip-path=\"url(#clip760)\" d=\"M2267.01 1544.91 L2274.64 1544.91 L2274.64 1518.55 L2266.33 1520.21 L2266.33 1515.95 L2274.6 1514.29 L2279.27 1514.29 L2279.27 1544.91 L2286.91 1544.91 L2286.91 1548.85 L2267.01 1548.85 L2267.01 1544.91 Z\" fill=\"#000000\" fill-rule=\"nonzero\" fill-opacity=\"1\" /><path clip-path=\"url(#clip760)\" d=\"M2306.36 1517.37 Q2302.75 1517.37 2300.92 1520.93 Q2299.11 1524.47 2299.11 1531.6 Q2299.11 1538.71 2300.92 1542.27 Q2302.75 1545.82 2306.36 1545.82 Q2309.99 1545.82 2311.8 1542.27 Q2313.63 1538.71 2313.63 1531.6 Q2313.63 1524.47 2311.8 1520.93 Q2309.99 1517.37 2306.36 1517.37 M2306.36 1513.66 Q2312.17 1513.66 2315.22 1518.27 Q2318.3 1522.85 2318.3 1531.6 Q2318.3 1540.33 2315.22 1544.94 Q2312.17 1549.52 2306.36 1549.52 Q2300.55 1549.52 2297.47 1544.94 Q2294.41 1540.33 2294.41 1531.6 Q2294.41 1522.85 2297.47 1518.27 Q2300.55 1513.66 2306.36 1513.66 Z\" fill=\"#000000\" fill-rule=\"nonzero\" fill-opacity=\"1\" /><polyline clip-path=\"url(#clip762)\" style=\"stroke:#000000; stroke-linecap:round; stroke-linejoin:round; stroke-width:2; stroke-opacity:0.1; fill:none\" points=\"178.867,1439.23 2352.76,1439.23 \"/>\n",
       "<polyline clip-path=\"url(#clip762)\" style=\"stroke:#000000; stroke-linecap:round; stroke-linejoin:round; stroke-width:2; stroke-opacity:0.1; fill:none\" points=\"178.867,1120.2 2352.76,1120.2 \"/>\n",
       "<polyline clip-path=\"url(#clip762)\" style=\"stroke:#000000; stroke-linecap:round; stroke-linejoin:round; stroke-width:2; stroke-opacity:0.1; fill:none\" points=\"178.867,801.16 2352.76,801.16 \"/>\n",
       "<polyline clip-path=\"url(#clip762)\" style=\"stroke:#000000; stroke-linecap:round; stroke-linejoin:round; stroke-width:2; stroke-opacity:0.1; fill:none\" points=\"178.867,482.124 2352.76,482.124 \"/>\n",
       "<polyline clip-path=\"url(#clip762)\" style=\"stroke:#000000; stroke-linecap:round; stroke-linejoin:round; stroke-width:2; stroke-opacity:0.1; fill:none\" points=\"178.867,163.088 2352.76,163.088 \"/>\n",
       "<polyline clip-path=\"url(#clip760)\" style=\"stroke:#000000; stroke-linecap:round; stroke-linejoin:round; stroke-width:4; stroke-opacity:1; fill:none\" points=\"178.867,1486.45 178.867,123.472 \"/>\n",
       "<polyline clip-path=\"url(#clip760)\" style=\"stroke:#000000; stroke-linecap:round; stroke-linejoin:round; stroke-width:4; stroke-opacity:1; fill:none\" points=\"178.867,1439.23 197.764,1439.23 \"/>\n",
       "<polyline clip-path=\"url(#clip760)\" style=\"stroke:#000000; stroke-linecap:round; stroke-linejoin:round; stroke-width:4; stroke-opacity:1; fill:none\" points=\"178.867,1120.2 197.764,1120.2 \"/>\n",
       "<polyline clip-path=\"url(#clip760)\" style=\"stroke:#000000; stroke-linecap:round; stroke-linejoin:round; stroke-width:4; stroke-opacity:1; fill:none\" points=\"178.867,801.16 197.764,801.16 \"/>\n",
       "<polyline clip-path=\"url(#clip760)\" style=\"stroke:#000000; stroke-linecap:round; stroke-linejoin:round; stroke-width:4; stroke-opacity:1; fill:none\" points=\"178.867,482.124 197.764,482.124 \"/>\n",
       "<polyline clip-path=\"url(#clip760)\" style=\"stroke:#000000; stroke-linecap:round; stroke-linejoin:round; stroke-width:4; stroke-opacity:1; fill:none\" points=\"178.867,163.088 197.764,163.088 \"/>\n",
       "<path clip-path=\"url(#clip760)\" d=\"M50.9921 1439.68 L80.6679 1439.68 L80.6679 1443.62 L50.9921 1443.62 L50.9921 1439.68 Z\" fill=\"#000000\" fill-rule=\"nonzero\" fill-opacity=\"1\" /><path clip-path=\"url(#clip760)\" d=\"M91.5706 1452.58 L99.2095 1452.58 L99.2095 1426.21 L90.8993 1427.88 L90.8993 1423.62 L99.1632 1421.95 L103.839 1421.95 L103.839 1452.58 L111.478 1452.58 L111.478 1456.51 L91.5706 1456.51 L91.5706 1452.58 Z\" fill=\"#000000\" fill-rule=\"nonzero\" fill-opacity=\"1\" /><path clip-path=\"url(#clip760)\" d=\"M130.922 1425.03 Q127.311 1425.03 125.482 1428.6 Q123.677 1432.14 123.677 1439.27 Q123.677 1446.37 125.482 1449.94 Q127.311 1453.48 130.922 1453.48 Q134.556 1453.48 136.362 1449.94 Q138.191 1446.37 138.191 1439.27 Q138.191 1432.14 136.362 1428.6 Q134.556 1425.03 130.922 1425.03 M130.922 1421.33 Q136.732 1421.33 139.788 1425.93 Q142.867 1430.52 142.867 1439.27 Q142.867 1447.99 139.788 1452.6 Q136.732 1457.18 130.922 1457.18 Q125.112 1457.18 122.033 1452.6 Q118.978 1447.99 118.978 1439.27 Q118.978 1430.52 122.033 1425.93 Q125.112 1421.33 130.922 1421.33 Z\" fill=\"#000000\" fill-rule=\"nonzero\" fill-opacity=\"1\" /><path clip-path=\"url(#clip760)\" d=\"M82.1494 1120.65 L111.825 1120.65 L111.825 1124.58 L82.1494 1124.58 L82.1494 1120.65 Z\" fill=\"#000000\" fill-rule=\"nonzero\" fill-opacity=\"1\" /><path clip-path=\"url(#clip760)\" d=\"M121.964 1102.92 L140.32 1102.92 L140.32 1106.85 L126.246 1106.85 L126.246 1115.32 Q127.265 1114.98 128.283 1114.81 Q129.302 1114.63 130.32 1114.63 Q136.107 1114.63 139.487 1117.8 Q142.867 1120.97 142.867 1126.39 Q142.867 1131.97 139.394 1135.07 Q135.922 1138.15 129.603 1138.15 Q127.427 1138.15 125.158 1137.78 Q122.913 1137.41 120.506 1136.67 L120.506 1131.97 Q122.589 1133.1 124.811 1133.66 Q127.033 1134.21 129.51 1134.21 Q133.515 1134.21 135.853 1132.11 Q138.191 1130 138.191 1126.39 Q138.191 1122.78 135.853 1120.67 Q133.515 1118.56 129.51 1118.56 Q127.635 1118.56 125.76 1118.98 Q123.908 1119.4 121.964 1120.28 L121.964 1102.92 Z\" fill=\"#000000\" fill-rule=\"nonzero\" fill-opacity=\"1\" /><path clip-path=\"url(#clip760)\" d=\"M130.922 786.959 Q127.311 786.959 125.482 790.524 Q123.677 794.066 123.677 801.195 Q123.677 808.302 125.482 811.866 Q127.311 815.408 130.922 815.408 Q134.556 815.408 136.362 811.866 Q138.191 808.302 138.191 801.195 Q138.191 794.066 136.362 790.524 Q134.556 786.959 130.922 786.959 M130.922 783.255 Q136.732 783.255 139.788 787.862 Q142.867 792.445 142.867 801.195 Q142.867 809.922 139.788 814.528 Q136.732 819.112 130.922 819.112 Q125.112 819.112 122.033 814.528 Q118.978 809.922 118.978 801.195 Q118.978 792.445 122.033 787.862 Q125.112 783.255 130.922 783.255 Z\" fill=\"#000000\" fill-rule=\"nonzero\" fill-opacity=\"1\" /><path clip-path=\"url(#clip760)\" d=\"M121.964 464.844 L140.32 464.844 L140.32 468.779 L126.246 468.779 L126.246 477.251 Q127.265 476.904 128.283 476.742 Q129.302 476.557 130.32 476.557 Q136.107 476.557 139.487 479.728 Q142.867 482.9 142.867 488.316 Q142.867 493.895 139.394 496.997 Q135.922 500.075 129.603 500.075 Q127.427 500.075 125.158 499.705 Q122.913 499.335 120.506 498.594 L120.506 493.895 Q122.589 495.029 124.811 495.585 Q127.033 496.14 129.51 496.14 Q133.515 496.14 135.853 494.034 Q138.191 491.927 138.191 488.316 Q138.191 484.705 135.853 482.599 Q133.515 480.492 129.51 480.492 Q127.635 480.492 125.76 480.909 Q123.908 481.325 121.964 482.205 L121.964 464.844 Z\" fill=\"#000000\" fill-rule=\"nonzero\" fill-opacity=\"1\" /><path clip-path=\"url(#clip760)\" d=\"M91.5706 176.433 L99.2095 176.433 L99.2095 150.067 L90.8993 151.734 L90.8993 147.474 L99.1632 145.808 L103.839 145.808 L103.839 176.433 L111.478 176.433 L111.478 180.368 L91.5706 180.368 L91.5706 176.433 Z\" fill=\"#000000\" fill-rule=\"nonzero\" fill-opacity=\"1\" /><path clip-path=\"url(#clip760)\" d=\"M130.922 148.886 Q127.311 148.886 125.482 152.451 Q123.677 155.993 123.677 163.122 Q123.677 170.229 125.482 173.794 Q127.311 177.335 130.922 177.335 Q134.556 177.335 136.362 173.794 Q138.191 170.229 138.191 163.122 Q138.191 155.993 136.362 152.451 Q134.556 148.886 130.922 148.886 M130.922 145.183 Q136.732 145.183 139.788 149.789 Q142.867 154.373 142.867 163.122 Q142.867 171.849 139.788 176.456 Q136.732 181.039 130.922 181.039 Q125.112 181.039 122.033 176.456 Q118.978 171.849 118.978 163.122 Q118.978 154.373 122.033 149.789 Q125.112 145.183 130.922 145.183 Z\" fill=\"#000000\" fill-rule=\"nonzero\" fill-opacity=\"1\" /><path clip-path=\"url(#clip760)\" d=\"M857.338 45.1919 L857.338 72.576 L849.885 72.576 L849.885 45.4349 Q849.885 38.994 847.373 35.7938 Q844.862 32.5936 839.838 32.5936 Q833.803 32.5936 830.319 36.4419 Q826.835 40.2903 826.835 46.9338 L826.835 72.576 L819.341 72.576 L819.341 27.2059 L826.835 27.2059 L826.835 34.2544 Q829.509 30.163 833.114 28.1376 Q836.76 26.1121 841.499 26.1121 Q849.318 26.1121 853.328 30.9732 Q857.338 35.7938 857.338 45.1919 Z\" fill=\"#000000\" fill-rule=\"nonzero\" fill-opacity=\"1\" /><path clip-path=\"url(#clip760)\" d=\"M889.786 32.4315 Q883.791 32.4315 880.307 37.1306 Q876.823 41.7891 876.823 49.9314 Q876.823 58.0738 880.266 62.7728 Q883.75 67.4314 889.786 67.4314 Q895.741 67.4314 899.225 62.7323 Q902.708 58.0333 902.708 49.9314 Q902.708 41.8701 899.225 37.1711 Q895.741 32.4315 889.786 32.4315 M889.786 26.1121 Q899.508 26.1121 905.058 32.4315 Q910.608 38.7509 910.608 49.9314 Q910.608 61.0714 905.058 67.4314 Q899.508 73.7508 889.786 73.7508 Q880.023 73.7508 874.474 67.4314 Q868.964 61.0714 868.964 49.9314 Q868.964 38.7509 874.474 32.4315 Q880.023 26.1121 889.786 26.1121 Z\" fill=\"#000000\" fill-rule=\"nonzero\" fill-opacity=\"1\" /><path clip-path=\"url(#clip760)\" d=\"M930.336 14.324 L930.336 27.2059 L945.689 27.2059 L945.689 32.9987 L930.336 32.9987 L930.336 57.6282 Q930.336 63.1779 931.834 64.7578 Q933.374 66.3376 938.032 66.3376 L945.689 66.3376 L945.689 72.576 L938.032 72.576 Q929.404 72.576 926.123 69.3758 Q922.841 66.1351 922.841 57.6282 L922.841 32.9987 L917.373 32.9987 L917.373 27.2059 L922.841 27.2059 L922.841 14.324 L930.336 14.324 Z\" fill=\"#000000\" fill-rule=\"nonzero\" fill-opacity=\"1\" /><path clip-path=\"url(#clip760)\" d=\"M981.863 9.54393 L989.317 9.54393 L989.317 72.576 L981.863 72.576 L981.863 9.54393 Z\" fill=\"#000000\" fill-rule=\"nonzero\" fill-opacity=\"1\" /><path clip-path=\"url(#clip760)\" d=\"M1004.91 27.2059 L1012.37 27.2059 L1012.37 72.576 L1004.91 72.576 L1004.91 27.2059 M1004.91 9.54393 L1012.37 9.54393 L1012.37 18.9825 L1004.91 18.9825 L1004.91 9.54393 Z\" fill=\"#000000\" fill-rule=\"nonzero\" fill-opacity=\"1\" /><path clip-path=\"url(#clip760)\" d=\"M1065.68 45.1919 L1065.68 72.576 L1058.22 72.576 L1058.22 45.4349 Q1058.22 38.994 1055.71 35.7938 Q1053.2 32.5936 1048.18 32.5936 Q1042.14 32.5936 1038.66 36.4419 Q1035.17 40.2903 1035.17 46.9338 L1035.17 72.576 L1027.68 72.576 L1027.68 27.2059 L1035.17 27.2059 L1035.17 34.2544 Q1037.85 30.163 1041.45 28.1376 Q1045.1 26.1121 1049.84 26.1121 Q1057.66 26.1121 1061.67 30.9732 Q1065.68 35.7938 1065.68 45.1919 Z\" fill=\"#000000\" fill-rule=\"nonzero\" fill-opacity=\"1\" /><path clip-path=\"url(#clip760)\" d=\"M1119.35 48.0275 L1119.35 51.6733 L1085.08 51.6733 Q1085.57 59.3701 1089.7 63.421 Q1093.87 67.4314 1101.28 67.4314 Q1105.58 67.4314 1109.59 66.3781 Q1113.64 65.3249 1117.61 63.2184 L1117.61 70.267 Q1113.6 71.9684 1109.39 72.8596 Q1105.17 73.7508 1100.84 73.7508 Q1089.98 73.7508 1083.62 67.4314 Q1077.3 61.1119 1077.3 50.3365 Q1077.3 39.1965 1083.3 32.6746 Q1089.33 26.1121 1099.54 26.1121 Q1108.7 26.1121 1114 32.0264 Q1119.35 37.9003 1119.35 48.0275 M1111.9 45.84 Q1111.82 39.7232 1108.45 36.0774 Q1105.13 32.4315 1099.62 32.4315 Q1093.38 32.4315 1089.62 35.9558 Q1085.89 39.4801 1085.32 45.8805 L1111.9 45.84 Z\" fill=\"#000000\" fill-rule=\"nonzero\" fill-opacity=\"1\" /><path clip-path=\"url(#clip760)\" d=\"M1152.2 49.7694 Q1143.17 49.7694 1139.69 51.8354 Q1136.2 53.9013 1136.2 58.8839 Q1136.2 62.8538 1138.8 65.2034 Q1141.43 67.5124 1145.92 67.5124 Q1152.12 67.5124 1155.85 63.1374 Q1159.62 58.7219 1159.62 51.4303 L1159.62 49.7694 L1152.2 49.7694 M1167.07 46.6907 L1167.07 72.576 L1159.62 72.576 L1159.62 65.6895 Q1157.06 69.8214 1153.26 71.8063 Q1149.45 73.7508 1143.94 73.7508 Q1136.97 73.7508 1132.84 69.8619 Q1128.75 65.9325 1128.75 59.3701 Q1128.75 51.7138 1133.85 47.825 Q1139 43.9361 1149.17 43.9361 L1159.62 43.9361 L1159.62 43.2069 Q1159.62 38.0623 1156.21 35.2672 Q1152.85 32.4315 1146.73 32.4315 Q1142.85 32.4315 1139.16 33.3632 Q1135.47 34.295 1132.07 36.1584 L1132.07 29.2718 Q1136.16 27.692 1140.01 26.9223 Q1143.86 26.1121 1147.5 26.1121 Q1157.35 26.1121 1162.21 31.2163 Q1167.07 36.3204 1167.07 46.6907 Z\" fill=\"#000000\" fill-rule=\"nonzero\" fill-opacity=\"1\" /><path clip-path=\"url(#clip760)\" d=\"M1208.71 34.1734 Q1207.46 33.4443 1205.96 33.1202 Q1204.5 32.7556 1202.72 32.7556 Q1196.4 32.7556 1193 36.8875 Q1189.63 40.9789 1189.63 48.6757 L1189.63 72.576 L1182.14 72.576 L1182.14 27.2059 L1189.63 27.2059 L1189.63 34.2544 Q1191.98 30.1225 1195.75 28.1376 Q1199.52 26.1121 1204.91 26.1121 Q1205.68 26.1121 1206.61 26.2337 Q1207.54 26.3147 1208.67 26.5172 L1208.71 34.1734 Z\" fill=\"#000000\" fill-rule=\"nonzero\" fill-opacity=\"1\" /><path clip-path=\"url(#clip760)\" d=\"M1216.53 9.54393 L1223.99 9.54393 L1223.99 72.576 L1216.53 72.576 L1216.53 9.54393 Z\" fill=\"#000000\" fill-rule=\"nonzero\" fill-opacity=\"1\" /><path clip-path=\"url(#clip760)\" d=\"M1258.46 76.7889 Q1255.3 84.8907 1252.3 87.3618 Q1249.3 89.8329 1244.28 89.8329 L1238.33 89.8329 L1238.33 83.5945 L1242.7 83.5945 Q1245.78 83.5945 1247.48 82.1361 Q1249.18 80.6778 1251.25 75.2496 L1252.59 71.8468 L1234.23 27.2059 L1242.13 27.2059 L1256.31 62.6918 L1270.49 27.2059 L1278.39 27.2059 L1258.46 76.7889 Z\" fill=\"#000000\" fill-rule=\"nonzero\" fill-opacity=\"1\" /><path clip-path=\"url(#clip760)\" d=\"M1343.97 28.5427 L1343.97 35.5912 Q1340.81 33.9709 1337.41 33.1607 Q1334.01 32.3505 1330.36 32.3505 Q1324.81 32.3505 1322.02 34.0519 Q1319.26 35.7533 1319.26 39.156 Q1319.26 41.7486 1321.25 43.2475 Q1323.23 44.7058 1329.23 46.0426 L1331.78 46.6097 Q1339.72 48.3111 1343.04 51.4303 Q1346.4 54.509 1346.4 60.0587 Q1346.4 66.3781 1341.38 70.0644 Q1336.4 73.7508 1327.65 73.7508 Q1324 73.7508 1320.03 73.0216 Q1316.1 72.3329 1311.73 70.9151 L1311.73 63.2184 Q1315.86 65.3654 1319.87 66.4591 Q1323.88 67.5124 1327.81 67.5124 Q1333.08 67.5124 1335.91 65.73 Q1338.75 63.9071 1338.75 60.6258 Q1338.75 57.5877 1336.68 55.9673 Q1334.66 54.3469 1327.73 52.8481 L1325.14 52.2405 Q1318.21 50.7821 1315.13 47.7845 Q1312.05 44.7463 1312.05 39.4801 Q1312.05 33.0797 1316.59 29.5959 Q1321.13 26.1121 1329.47 26.1121 Q1333.6 26.1121 1337.25 26.7198 Q1340.89 27.3274 1343.97 28.5427 Z\" fill=\"#000000\" fill-rule=\"nonzero\" fill-opacity=\"1\" /><path clip-path=\"url(#clip760)\" d=\"M1397.08 48.0275 L1397.08 51.6733 L1362.81 51.6733 Q1363.3 59.3701 1367.43 63.421 Q1371.6 67.4314 1379.01 67.4314 Q1383.31 67.4314 1387.32 66.3781 Q1391.37 65.3249 1395.34 63.2184 L1395.34 70.267 Q1391.33 71.9684 1387.12 72.8596 Q1382.9 73.7508 1378.57 73.7508 Q1367.71 73.7508 1361.35 67.4314 Q1355.03 61.1119 1355.03 50.3365 Q1355.03 39.1965 1361.03 32.6746 Q1367.06 26.1121 1377.27 26.1121 Q1386.43 26.1121 1391.73 32.0264 Q1397.08 37.9003 1397.08 48.0275 M1389.63 45.84 Q1389.55 39.7232 1386.18 36.0774 Q1382.86 32.4315 1377.35 32.4315 Q1371.11 32.4315 1367.35 35.9558 Q1363.62 39.4801 1363.05 45.8805 L1389.63 45.84 Z\" fill=\"#000000\" fill-rule=\"nonzero\" fill-opacity=\"1\" /><path clip-path=\"url(#clip760)\" d=\"M1416.53 65.7705 L1416.53 89.8329 L1409.03 89.8329 L1409.03 27.2059 L1416.53 27.2059 L1416.53 34.0924 Q1418.87 30.0415 1422.44 28.0971 Q1426.04 26.1121 1431.03 26.1121 Q1439.29 26.1121 1444.44 32.6746 Q1449.62 39.2371 1449.62 49.9314 Q1449.62 60.6258 1444.44 67.1883 Q1439.29 73.7508 1431.03 73.7508 Q1426.04 73.7508 1422.44 71.8063 Q1418.87 69.8214 1416.53 65.7705 M1441.88 49.9314 Q1441.88 41.7081 1438.48 37.0496 Q1435.12 32.3505 1429.2 32.3505 Q1423.29 32.3505 1419.89 37.0496 Q1416.53 41.7081 1416.53 49.9314 Q1416.53 58.1548 1419.89 62.8538 Q1423.29 67.5124 1429.2 67.5124 Q1435.12 67.5124 1438.48 62.8538 Q1441.88 58.1548 1441.88 49.9314 Z\" fill=\"#000000\" fill-rule=\"nonzero\" fill-opacity=\"1\" /><path clip-path=\"url(#clip760)\" d=\"M1482.6 49.7694 Q1473.56 49.7694 1470.08 51.8354 Q1466.59 53.9013 1466.59 58.8839 Q1466.59 62.8538 1469.19 65.2034 Q1471.82 67.5124 1476.32 67.5124 Q1482.51 67.5124 1486.24 63.1374 Q1490.01 58.7219 1490.01 51.4303 L1490.01 49.7694 L1482.6 49.7694 M1497.46 46.6907 L1497.46 72.576 L1490.01 72.576 L1490.01 65.6895 Q1487.46 69.8214 1483.65 71.8063 Q1479.84 73.7508 1474.33 73.7508 Q1467.36 73.7508 1463.23 69.8619 Q1459.14 65.9325 1459.14 59.3701 Q1459.14 51.7138 1464.24 47.825 Q1469.39 43.9361 1479.56 43.9361 L1490.01 43.9361 L1490.01 43.2069 Q1490.01 38.0623 1486.61 35.2672 Q1483.24 32.4315 1477.13 32.4315 Q1473.24 32.4315 1469.55 33.3632 Q1465.87 34.295 1462.46 36.1584 L1462.46 29.2718 Q1466.55 27.692 1470.4 26.9223 Q1474.25 26.1121 1477.9 26.1121 Q1487.74 26.1121 1492.6 31.2163 Q1497.46 36.3204 1497.46 46.6907 Z\" fill=\"#000000\" fill-rule=\"nonzero\" fill-opacity=\"1\" /><path clip-path=\"url(#clip760)\" d=\"M1539.11 34.1734 Q1537.85 33.4443 1536.35 33.1202 Q1534.89 32.7556 1533.11 32.7556 Q1526.79 32.7556 1523.39 36.8875 Q1520.03 40.9789 1520.03 48.6757 L1520.03 72.576 L1512.53 72.576 L1512.53 27.2059 L1520.03 27.2059 L1520.03 34.2544 Q1522.38 30.1225 1526.14 28.1376 Q1529.91 26.1121 1535.3 26.1121 Q1536.07 26.1121 1537 26.2337 Q1537.93 26.3147 1539.07 26.5172 L1539.11 34.1734 Z\" fill=\"#000000\" fill-rule=\"nonzero\" fill-opacity=\"1\" /><path clip-path=\"url(#clip760)\" d=\"M1567.54 49.7694 Q1558.51 49.7694 1555.03 51.8354 Q1551.54 53.9013 1551.54 58.8839 Q1551.54 62.8538 1554.13 65.2034 Q1556.77 67.5124 1561.26 67.5124 Q1567.46 67.5124 1571.19 63.1374 Q1574.96 58.7219 1574.96 51.4303 L1574.96 49.7694 L1567.54 49.7694 M1582.41 46.6907 L1582.41 72.576 L1574.96 72.576 L1574.96 65.6895 Q1572.4 69.8214 1568.6 71.8063 Q1564.79 73.7508 1559.28 73.7508 Q1552.31 73.7508 1548.18 69.8619 Q1544.09 65.9325 1544.09 59.3701 Q1544.09 51.7138 1549.19 47.825 Q1554.34 43.9361 1564.5 43.9361 L1574.96 43.9361 L1574.96 43.2069 Q1574.96 38.0623 1571.55 35.2672 Q1568.19 32.4315 1562.07 32.4315 Q1558.19 32.4315 1554.5 33.3632 Q1550.81 34.295 1547.41 36.1584 L1547.41 29.2718 Q1551.5 27.692 1555.35 26.9223 Q1559.2 26.1121 1562.84 26.1121 Q1572.69 26.1121 1577.55 31.2163 Q1582.41 36.3204 1582.41 46.6907 Z\" fill=\"#000000\" fill-rule=\"nonzero\" fill-opacity=\"1\" /><path clip-path=\"url(#clip760)\" d=\"M1630.33 49.9314 Q1630.33 41.7081 1626.93 37.0496 Q1623.57 32.3505 1617.65 32.3505 Q1611.74 32.3505 1608.34 37.0496 Q1604.97 41.7081 1604.97 49.9314 Q1604.97 58.1548 1608.34 62.8538 Q1611.74 67.5124 1617.65 67.5124 Q1623.57 67.5124 1626.93 62.8538 Q1630.33 58.1548 1630.33 49.9314 M1604.97 34.0924 Q1607.32 30.0415 1610.89 28.0971 Q1614.49 26.1121 1619.48 26.1121 Q1627.74 26.1121 1632.88 32.6746 Q1638.07 39.2371 1638.07 49.9314 Q1638.07 60.6258 1632.88 67.1883 Q1627.74 73.7508 1619.48 73.7508 Q1614.49 73.7508 1610.89 71.8063 Q1607.32 69.8214 1604.97 65.7705 L1604.97 72.576 L1597.48 72.576 L1597.48 9.54393 L1604.97 9.54393 L1604.97 34.0924 Z\" fill=\"#000000\" fill-rule=\"nonzero\" fill-opacity=\"1\" /><path clip-path=\"url(#clip760)\" d=\"M1650.42 9.54393 L1657.88 9.54393 L1657.88 72.576 L1650.42 72.576 L1650.42 9.54393 Z\" fill=\"#000000\" fill-rule=\"nonzero\" fill-opacity=\"1\" /><path clip-path=\"url(#clip760)\" d=\"M1712.28 48.0275 L1712.28 51.6733 L1678.01 51.6733 Q1678.5 59.3701 1682.63 63.421 Q1686.8 67.4314 1694.21 67.4314 Q1698.51 67.4314 1702.52 66.3781 Q1706.57 65.3249 1710.54 63.2184 L1710.54 70.267 Q1706.53 71.9684 1702.32 72.8596 Q1698.1 73.7508 1693.77 73.7508 Q1682.91 73.7508 1676.55 67.4314 Q1670.23 61.1119 1670.23 50.3365 Q1670.23 39.1965 1676.23 32.6746 Q1682.26 26.1121 1692.47 26.1121 Q1701.63 26.1121 1706.93 32.0264 Q1712.28 37.9003 1712.28 48.0275 M1704.83 45.84 Q1704.75 39.7232 1701.38 36.0774 Q1698.06 32.4315 1692.55 32.4315 Q1686.32 32.4315 1682.55 35.9558 Q1678.82 39.4801 1678.25 45.8805 L1704.83 45.84 Z\" fill=\"#000000\" fill-rule=\"nonzero\" fill-opacity=\"1\" /><circle clip-path=\"url(#clip762)\" cx=\"1162.98\" cy=\"692.116\" r=\"14.4\" fill=\"#ff0000\" fill-rule=\"evenodd\" fill-opacity=\"1\" stroke=\"#000000\" stroke-opacity=\"1\" stroke-width=\"3.2\"/>\n",
       "<circle clip-path=\"url(#clip762)\" cx=\"1470.39\" cy=\"809.952\" r=\"14.4\" fill=\"#ff0000\" fill-rule=\"evenodd\" fill-opacity=\"1\" stroke=\"#000000\" stroke-opacity=\"1\" stroke-width=\"3.2\"/>\n",
       "<circle clip-path=\"url(#clip762)\" cx=\"1374.67\" cy=\"726.939\" r=\"14.4\" fill=\"#ff0000\" fill-rule=\"evenodd\" fill-opacity=\"1\" stroke=\"#000000\" stroke-opacity=\"1\" stroke-width=\"3.2\"/>\n",
       "<circle clip-path=\"url(#clip762)\" cx=\"1181.02\" cy=\"833.878\" r=\"14.4\" fill=\"#ff0000\" fill-rule=\"evenodd\" fill-opacity=\"1\" stroke=\"#000000\" stroke-opacity=\"1\" stroke-width=\"3.2\"/>\n",
       "<circle clip-path=\"url(#clip762)\" cx=\"1290.5\" cy=\"704.436\" r=\"14.4\" fill=\"#ff0000\" fill-rule=\"evenodd\" fill-opacity=\"1\" stroke=\"#000000\" stroke-opacity=\"1\" stroke-width=\"3.2\"/>\n",
       "<circle clip-path=\"url(#clip762)\" cx=\"1218.93\" cy=\"719.086\" r=\"14.4\" fill=\"#ff0000\" fill-rule=\"evenodd\" fill-opacity=\"1\" stroke=\"#000000\" stroke-opacity=\"1\" stroke-width=\"3.2\"/>\n",
       "<circle clip-path=\"url(#clip762)\" cx=\"1386.61\" cy=\"741.247\" r=\"14.4\" fill=\"#ff0000\" fill-rule=\"evenodd\" fill-opacity=\"1\" stroke=\"#000000\" stroke-opacity=\"1\" stroke-width=\"3.2\"/>\n",
       "<circle clip-path=\"url(#clip762)\" cx=\"1380.8\" cy=\"839.986\" r=\"14.4\" fill=\"#ff0000\" fill-rule=\"evenodd\" fill-opacity=\"1\" stroke=\"#000000\" stroke-opacity=\"1\" stroke-width=\"3.2\"/>\n",
       "<circle clip-path=\"url(#clip762)\" cx=\"1350.39\" cy=\"783.422\" r=\"14.4\" fill=\"#ff0000\" fill-rule=\"evenodd\" fill-opacity=\"1\" stroke=\"#000000\" stroke-opacity=\"1\" stroke-width=\"3.2\"/>\n",
       "<circle clip-path=\"url(#clip762)\" cx=\"1259.85\" cy=\"821.067\" r=\"14.4\" fill=\"#ff0000\" fill-rule=\"evenodd\" fill-opacity=\"1\" stroke=\"#000000\" stroke-opacity=\"1\" stroke-width=\"3.2\"/>\n",
       "<circle clip-path=\"url(#clip762)\" cx=\"1162.27\" cy=\"831.764\" r=\"14.4\" fill=\"#ff0000\" fill-rule=\"evenodd\" fill-opacity=\"1\" stroke=\"#000000\" stroke-opacity=\"1\" stroke-width=\"3.2\"/>\n",
       "<circle clip-path=\"url(#clip762)\" cx=\"1309.33\" cy=\"797.865\" r=\"14.4\" fill=\"#ff0000\" fill-rule=\"evenodd\" fill-opacity=\"1\" stroke=\"#000000\" stroke-opacity=\"1\" stroke-width=\"3.2\"/>\n",
       "<circle clip-path=\"url(#clip762)\" cx=\"1254.61\" cy=\"870.905\" r=\"14.4\" fill=\"#ff0000\" fill-rule=\"evenodd\" fill-opacity=\"1\" stroke=\"#000000\" stroke-opacity=\"1\" stroke-width=\"3.2\"/>\n",
       "<circle clip-path=\"url(#clip762)\" cx=\"1309.38\" cy=\"884.832\" r=\"14.4\" fill=\"#ff0000\" fill-rule=\"evenodd\" fill-opacity=\"1\" stroke=\"#000000\" stroke-opacity=\"1\" stroke-width=\"3.2\"/>\n",
       "<circle clip-path=\"url(#clip762)\" cx=\"1420.71\" cy=\"783.352\" r=\"14.4\" fill=\"#ff0000\" fill-rule=\"evenodd\" fill-opacity=\"1\" stroke=\"#000000\" stroke-opacity=\"1\" stroke-width=\"3.2\"/>\n",
       "<circle clip-path=\"url(#clip762)\" cx=\"1196.47\" cy=\"818.474\" r=\"14.4\" fill=\"#ff0000\" fill-rule=\"evenodd\" fill-opacity=\"1\" stroke=\"#000000\" stroke-opacity=\"1\" stroke-width=\"3.2\"/>\n",
       "<circle clip-path=\"url(#clip762)\" cx=\"1305.88\" cy=\"730.354\" r=\"14.4\" fill=\"#ff0000\" fill-rule=\"evenodd\" fill-opacity=\"1\" stroke=\"#000000\" stroke-opacity=\"1\" stroke-width=\"3.2\"/>\n",
       "<circle clip-path=\"url(#clip762)\" cx=\"1276.75\" cy=\"651.471\" r=\"14.4\" fill=\"#ff0000\" fill-rule=\"evenodd\" fill-opacity=\"1\" stroke=\"#000000\" stroke-opacity=\"1\" stroke-width=\"3.2\"/>\n",
       "<circle clip-path=\"url(#clip762)\" cx=\"1317.97\" cy=\"930.523\" r=\"14.4\" fill=\"#ff0000\" fill-rule=\"evenodd\" fill-opacity=\"1\" stroke=\"#000000\" stroke-opacity=\"1\" stroke-width=\"3.2\"/>\n",
       "<circle clip-path=\"url(#clip762)\" cx=\"1180.66\" cy=\"800.031\" r=\"14.4\" fill=\"#ff0000\" fill-rule=\"evenodd\" fill-opacity=\"1\" stroke=\"#000000\" stroke-opacity=\"1\" stroke-width=\"3.2\"/>\n",
       "<circle clip-path=\"url(#clip762)\" cx=\"1007.56\" cy=\"741.43\" r=\"14.4\" fill=\"#ff0000\" fill-rule=\"evenodd\" fill-opacity=\"1\" stroke=\"#000000\" stroke-opacity=\"1\" stroke-width=\"3.2\"/>\n",
       "<circle clip-path=\"url(#clip762)\" cx=\"1188.88\" cy=\"848.321\" r=\"14.4\" fill=\"#ff0000\" fill-rule=\"evenodd\" fill-opacity=\"1\" stroke=\"#000000\" stroke-opacity=\"1\" stroke-width=\"3.2\"/>\n",
       "<circle clip-path=\"url(#clip762)\" cx=\"1284.52\" cy=\"822.263\" r=\"14.4\" fill=\"#ff0000\" fill-rule=\"evenodd\" fill-opacity=\"1\" stroke=\"#000000\" stroke-opacity=\"1\" stroke-width=\"3.2\"/>\n",
       "<circle clip-path=\"url(#clip762)\" cx=\"1328.82\" cy=\"781.658\" r=\"14.4\" fill=\"#ff0000\" fill-rule=\"evenodd\" fill-opacity=\"1\" stroke=\"#000000\" stroke-opacity=\"1\" stroke-width=\"3.2\"/>\n",
       "<circle clip-path=\"url(#clip762)\" cx=\"1259.75\" cy=\"826.198\" r=\"14.4\" fill=\"#ff0000\" fill-rule=\"evenodd\" fill-opacity=\"1\" stroke=\"#000000\" stroke-opacity=\"1\" stroke-width=\"3.2\"/>\n",
       "<circle clip-path=\"url(#clip762)\" cx=\"1331.39\" cy=\"841.833\" r=\"14.4\" fill=\"#ff0000\" fill-rule=\"evenodd\" fill-opacity=\"1\" stroke=\"#000000\" stroke-opacity=\"1\" stroke-width=\"3.2\"/>\n",
       "<circle clip-path=\"url(#clip762)\" cx=\"1220.34\" cy=\"742.539\" r=\"14.4\" fill=\"#ff0000\" fill-rule=\"evenodd\" fill-opacity=\"1\" stroke=\"#000000\" stroke-opacity=\"1\" stroke-width=\"3.2\"/>\n",
       "<circle clip-path=\"url(#clip762)\" cx=\"1160.61\" cy=\"775.607\" r=\"14.4\" fill=\"#ff0000\" fill-rule=\"evenodd\" fill-opacity=\"1\" stroke=\"#000000\" stroke-opacity=\"1\" stroke-width=\"3.2\"/>\n",
       "<circle clip-path=\"url(#clip762)\" cx=\"1339.98\" cy=\"794.561\" r=\"14.4\" fill=\"#ff0000\" fill-rule=\"evenodd\" fill-opacity=\"1\" stroke=\"#000000\" stroke-opacity=\"1\" stroke-width=\"3.2\"/>\n",
       "<circle clip-path=\"url(#clip762)\" cx=\"1201.36\" cy=\"891.397\" r=\"14.4\" fill=\"#ff0000\" fill-rule=\"evenodd\" fill-opacity=\"1\" stroke=\"#000000\" stroke-opacity=\"1\" stroke-width=\"3.2\"/>\n",
       "<circle clip-path=\"url(#clip762)\" cx=\"1253.85\" cy=\"717.976\" r=\"14.4\" fill=\"#ff0000\" fill-rule=\"evenodd\" fill-opacity=\"1\" stroke=\"#000000\" stroke-opacity=\"1\" stroke-width=\"3.2\"/>\n",
       "<circle clip-path=\"url(#clip762)\" cx=\"1273.09\" cy=\"717.172\" r=\"14.4\" fill=\"#ff0000\" fill-rule=\"evenodd\" fill-opacity=\"1\" stroke=\"#000000\" stroke-opacity=\"1\" stroke-width=\"3.2\"/>\n",
       "<circle clip-path=\"url(#clip762)\" cx=\"1326.65\" cy=\"721.512\" r=\"14.4\" fill=\"#ff0000\" fill-rule=\"evenodd\" fill-opacity=\"1\" stroke=\"#000000\" stroke-opacity=\"1\" stroke-width=\"3.2\"/>\n",
       "<circle clip-path=\"url(#clip762)\" cx=\"1177.5\" cy=\"789.58\" r=\"14.4\" fill=\"#ff0000\" fill-rule=\"evenodd\" fill-opacity=\"1\" stroke=\"#000000\" stroke-opacity=\"1\" stroke-width=\"3.2\"/>\n",
       "<circle clip-path=\"url(#clip762)\" cx=\"1136.52\" cy=\"844.887\" r=\"14.4\" fill=\"#ff0000\" fill-rule=\"evenodd\" fill-opacity=\"1\" stroke=\"#000000\" stroke-opacity=\"1\" stroke-width=\"3.2\"/>\n",
       "<circle clip-path=\"url(#clip762)\" cx=\"1416.88\" cy=\"725.89\" r=\"14.4\" fill=\"#ff0000\" fill-rule=\"evenodd\" fill-opacity=\"1\" stroke=\"#000000\" stroke-opacity=\"1\" stroke-width=\"3.2\"/>\n",
       "<circle clip-path=\"url(#clip762)\" cx=\"1210.47\" cy=\"775.854\" r=\"14.4\" fill=\"#ff0000\" fill-rule=\"evenodd\" fill-opacity=\"1\" stroke=\"#000000\" stroke-opacity=\"1\" stroke-width=\"3.2\"/>\n",
       "<circle clip-path=\"url(#clip762)\" cx=\"1145.5\" cy=\"831.321\" r=\"14.4\" fill=\"#ff0000\" fill-rule=\"evenodd\" fill-opacity=\"1\" stroke=\"#000000\" stroke-opacity=\"1\" stroke-width=\"3.2\"/>\n",
       "<circle clip-path=\"url(#clip762)\" cx=\"1213.27\" cy=\"819.596\" r=\"14.4\" fill=\"#ff0000\" fill-rule=\"evenodd\" fill-opacity=\"1\" stroke=\"#000000\" stroke-opacity=\"1\" stroke-width=\"3.2\"/>\n",
       "<circle clip-path=\"url(#clip762)\" cx=\"1389.56\" cy=\"835.848\" r=\"14.4\" fill=\"#ff0000\" fill-rule=\"evenodd\" fill-opacity=\"1\" stroke=\"#000000\" stroke-opacity=\"1\" stroke-width=\"3.2\"/>\n",
       "<circle clip-path=\"url(#clip762)\" cx=\"1251.18\" cy=\"706.783\" r=\"14.4\" fill=\"#ff0000\" fill-rule=\"evenodd\" fill-opacity=\"1\" stroke=\"#000000\" stroke-opacity=\"1\" stroke-width=\"3.2\"/>\n",
       "<circle clip-path=\"url(#clip762)\" cx=\"1081.22\" cy=\"729.74\" r=\"14.4\" fill=\"#ff0000\" fill-rule=\"evenodd\" fill-opacity=\"1\" stroke=\"#000000\" stroke-opacity=\"1\" stroke-width=\"3.2\"/>\n",
       "<circle clip-path=\"url(#clip762)\" cx=\"1283.95\" cy=\"646.121\" r=\"14.4\" fill=\"#ff0000\" fill-rule=\"evenodd\" fill-opacity=\"1\" stroke=\"#000000\" stroke-opacity=\"1\" stroke-width=\"3.2\"/>\n",
       "<circle clip-path=\"url(#clip762)\" cx=\"1133.34\" cy=\"765.531\" r=\"14.4\" fill=\"#ff0000\" fill-rule=\"evenodd\" fill-opacity=\"1\" stroke=\"#000000\" stroke-opacity=\"1\" stroke-width=\"3.2\"/>\n",
       "<circle clip-path=\"url(#clip762)\" cx=\"1189.38\" cy=\"793.216\" r=\"14.4\" fill=\"#ff0000\" fill-rule=\"evenodd\" fill-opacity=\"1\" stroke=\"#000000\" stroke-opacity=\"1\" stroke-width=\"3.2\"/>\n",
       "<circle clip-path=\"url(#clip762)\" cx=\"1299.34\" cy=\"753.333\" r=\"14.4\" fill=\"#ff0000\" fill-rule=\"evenodd\" fill-opacity=\"1\" stroke=\"#000000\" stroke-opacity=\"1\" stroke-width=\"3.2\"/>\n",
       "<circle clip-path=\"url(#clip762)\" cx=\"1022.41\" cy=\"695.312\" r=\"14.4\" fill=\"#ff0000\" fill-rule=\"evenodd\" fill-opacity=\"1\" stroke=\"#000000\" stroke-opacity=\"1\" stroke-width=\"3.2\"/>\n",
       "<circle clip-path=\"url(#clip762)\" cx=\"1226.94\" cy=\"788.616\" r=\"14.4\" fill=\"#ff0000\" fill-rule=\"evenodd\" fill-opacity=\"1\" stroke=\"#000000\" stroke-opacity=\"1\" stroke-width=\"3.2\"/>\n",
       "<circle clip-path=\"url(#clip762)\" cx=\"1179.96\" cy=\"808.061\" r=\"14.4\" fill=\"#ff0000\" fill-rule=\"evenodd\" fill-opacity=\"1\" stroke=\"#000000\" stroke-opacity=\"1\" stroke-width=\"3.2\"/>\n",
       "<circle clip-path=\"url(#clip762)\" cx=\"618.339\" cy=\"1304.62\" r=\"14.4\" fill=\"#0000ff\" fill-rule=\"evenodd\" fill-opacity=\"1\" stroke=\"#000000\" stroke-opacity=\"1\" stroke-width=\"3.2\"/>\n",
       "<circle clip-path=\"url(#clip762)\" cx=\"498.962\" cy=\"1229.32\" r=\"14.4\" fill=\"#0000ff\" fill-rule=\"evenodd\" fill-opacity=\"1\" stroke=\"#000000\" stroke-opacity=\"1\" stroke-width=\"3.2\"/>\n",
       "<circle clip-path=\"url(#clip762)\" cx=\"642.656\" cy=\"1314.69\" r=\"14.4\" fill=\"#0000ff\" fill-rule=\"evenodd\" fill-opacity=\"1\" stroke=\"#000000\" stroke-opacity=\"1\" stroke-width=\"3.2\"/>\n",
       "<circle clip-path=\"url(#clip762)\" cx=\"245.476\" cy=\"636.401\" r=\"14.4\" fill=\"#0000ff\" fill-rule=\"evenodd\" fill-opacity=\"1\" stroke=\"#000000\" stroke-opacity=\"1\" stroke-width=\"3.2\"/>\n",
       "<circle clip-path=\"url(#clip762)\" cx=\"343.249\" cy=\"1074.36\" r=\"14.4\" fill=\"#0000ff\" fill-rule=\"evenodd\" fill-opacity=\"1\" stroke=\"#000000\" stroke-opacity=\"1\" stroke-width=\"3.2\"/>\n",
       "<circle clip-path=\"url(#clip762)\" cx=\"240.392\" cy=\"823.581\" r=\"14.4\" fill=\"#0000ff\" fill-rule=\"evenodd\" fill-opacity=\"1\" stroke=\"#000000\" stroke-opacity=\"1\" stroke-width=\"3.2\"/>\n",
       "<circle clip-path=\"url(#clip762)\" cx=\"782.568\" cy=\"243.645\" r=\"14.4\" fill=\"#0000ff\" fill-rule=\"evenodd\" fill-opacity=\"1\" stroke=\"#000000\" stroke-opacity=\"1\" stroke-width=\"3.2\"/>\n",
       "<circle clip-path=\"url(#clip762)\" cx=\"1620\" cy=\"200.733\" r=\"14.4\" fill=\"#0000ff\" fill-rule=\"evenodd\" fill-opacity=\"1\" stroke=\"#000000\" stroke-opacity=\"1\" stroke-width=\"3.2\"/>\n",
       "<circle clip-path=\"url(#clip762)\" cx=\"308.028\" cy=\"1031.42\" r=\"14.4\" fill=\"#0000ff\" fill-rule=\"evenodd\" fill-opacity=\"1\" stroke=\"#000000\" stroke-opacity=\"1\" stroke-width=\"3.2\"/>\n",
       "<circle clip-path=\"url(#clip762)\" cx=\"647.893\" cy=\"294.393\" r=\"14.4\" fill=\"#0000ff\" fill-rule=\"evenodd\" fill-opacity=\"1\" stroke=\"#000000\" stroke-opacity=\"1\" stroke-width=\"3.2\"/>\n",
       "<circle clip-path=\"url(#clip762)\" cx=\"1624.4\" cy=\"1406.41\" r=\"14.4\" fill=\"#0000ff\" fill-rule=\"evenodd\" fill-opacity=\"1\" stroke=\"#000000\" stroke-opacity=\"1\" stroke-width=\"3.2\"/>\n",
       "<circle clip-path=\"url(#clip762)\" cx=\"1531.07\" cy=\"189.882\" r=\"14.4\" fill=\"#0000ff\" fill-rule=\"evenodd\" fill-opacity=\"1\" stroke=\"#000000\" stroke-opacity=\"1\" stroke-width=\"3.2\"/>\n",
       "<circle clip-path=\"url(#clip762)\" cx=\"2126.96\" cy=\"442.837\" r=\"14.4\" fill=\"#0000ff\" fill-rule=\"evenodd\" fill-opacity=\"1\" stroke=\"#000000\" stroke-opacity=\"1\" stroke-width=\"3.2\"/>\n",
       "<circle clip-path=\"url(#clip762)\" cx=\"648.242\" cy=\"1311.47\" r=\"14.4\" fill=\"#0000ff\" fill-rule=\"evenodd\" fill-opacity=\"1\" stroke=\"#000000\" stroke-opacity=\"1\" stroke-width=\"3.2\"/>\n",
       "<circle clip-path=\"url(#clip762)\" cx=\"2279.78\" cy=\"682.061\" r=\"14.4\" fill=\"#0000ff\" fill-rule=\"evenodd\" fill-opacity=\"1\" stroke=\"#000000\" stroke-opacity=\"1\" stroke-width=\"3.2\"/>\n",
       "<circle clip-path=\"url(#clip762)\" cx=\"2165.14\" cy=\"1100.84\" r=\"14.4\" fill=\"#0000ff\" fill-rule=\"evenodd\" fill-opacity=\"1\" stroke=\"#000000\" stroke-opacity=\"1\" stroke-width=\"3.2\"/>\n",
       "<circle clip-path=\"url(#clip762)\" cx=\"486.028\" cy=\"384.321\" r=\"14.4\" fill=\"#0000ff\" fill-rule=\"evenodd\" fill-opacity=\"1\" stroke=\"#000000\" stroke-opacity=\"1\" stroke-width=\"3.2\"/>\n",
       "<circle clip-path=\"url(#clip762)\" cx=\"1987.64\" cy=\"1256.79\" r=\"14.4\" fill=\"#0000ff\" fill-rule=\"evenodd\" fill-opacity=\"1\" stroke=\"#000000\" stroke-opacity=\"1\" stroke-width=\"3.2\"/>\n",
       "<circle clip-path=\"url(#clip762)\" cx=\"355.057\" cy=\"516.875\" r=\"14.4\" fill=\"#0000ff\" fill-rule=\"evenodd\" fill-opacity=\"1\" stroke=\"#000000\" stroke-opacity=\"1\" stroke-width=\"3.2\"/>\n",
       "<circle clip-path=\"url(#clip762)\" cx=\"1901.43\" cy=\"1285.87\" r=\"14.4\" fill=\"#0000ff\" fill-rule=\"evenodd\" fill-opacity=\"1\" stroke=\"#000000\" stroke-opacity=\"1\" stroke-width=\"3.2\"/>\n",
       "<circle clip-path=\"url(#clip762)\" cx=\"2123.23\" cy=\"1156.05\" r=\"14.4\" fill=\"#0000ff\" fill-rule=\"evenodd\" fill-opacity=\"1\" stroke=\"#000000\" stroke-opacity=\"1\" stroke-width=\"3.2\"/>\n",
       "<circle clip-path=\"url(#clip762)\" cx=\"1581.8\" cy=\"1412.64\" r=\"14.4\" fill=\"#0000ff\" fill-rule=\"evenodd\" fill-opacity=\"1\" stroke=\"#000000\" stroke-opacity=\"1\" stroke-width=\"3.2\"/>\n",
       "<circle clip-path=\"url(#clip762)\" cx=\"1201.74\" cy=\"163.982\" r=\"14.4\" fill=\"#0000ff\" fill-rule=\"evenodd\" fill-opacity=\"1\" stroke=\"#000000\" stroke-opacity=\"1\" stroke-width=\"3.2\"/>\n",
       "<circle clip-path=\"url(#clip762)\" cx=\"1093.98\" cy=\"182.339\" r=\"14.4\" fill=\"#0000ff\" fill-rule=\"evenodd\" fill-opacity=\"1\" stroke=\"#000000\" stroke-opacity=\"1\" stroke-width=\"3.2\"/>\n",
       "<circle clip-path=\"url(#clip762)\" cx=\"1876.2\" cy=\"285.14\" r=\"14.4\" fill=\"#0000ff\" fill-rule=\"evenodd\" fill-opacity=\"1\" stroke=\"#000000\" stroke-opacity=\"1\" stroke-width=\"3.2\"/>\n",
       "<circle clip-path=\"url(#clip762)\" cx=\"904.1\" cy=\"1394.76\" r=\"14.4\" fill=\"#0000ff\" fill-rule=\"evenodd\" fill-opacity=\"1\" stroke=\"#000000\" stroke-opacity=\"1\" stroke-width=\"3.2\"/>\n",
       "<circle clip-path=\"url(#clip762)\" cx=\"1171.4\" cy=\"162.047\" r=\"14.4\" fill=\"#0000ff\" fill-rule=\"evenodd\" fill-opacity=\"1\" stroke=\"#000000\" stroke-opacity=\"1\" stroke-width=\"3.2\"/>\n",
       "<circle clip-path=\"url(#clip762)\" cx=\"1465.48\" cy=\"1425.13\" r=\"14.4\" fill=\"#0000ff\" fill-rule=\"evenodd\" fill-opacity=\"1\" stroke=\"#000000\" stroke-opacity=\"1\" stroke-width=\"3.2\"/>\n",
       "<circle clip-path=\"url(#clip762)\" cx=\"1847.34\" cy=\"272.316\" r=\"14.4\" fill=\"#0000ff\" fill-rule=\"evenodd\" fill-opacity=\"1\" stroke=\"#000000\" stroke-opacity=\"1\" stroke-width=\"3.2\"/>\n",
       "<circle clip-path=\"url(#clip762)\" cx=\"246.614\" cy=\"824.918\" r=\"14.4\" fill=\"#0000ff\" fill-rule=\"evenodd\" fill-opacity=\"1\" stroke=\"#000000\" stroke-opacity=\"1\" stroke-width=\"3.2\"/>\n",
       "<circle clip-path=\"url(#clip762)\" cx=\"1452.85\" cy=\"174.925\" r=\"14.4\" fill=\"#0000ff\" fill-rule=\"evenodd\" fill-opacity=\"1\" stroke=\"#000000\" stroke-opacity=\"1\" stroke-width=\"3.2\"/>\n",
       "<circle clip-path=\"url(#clip762)\" cx=\"289.532\" cy=\"583.116\" r=\"14.4\" fill=\"#0000ff\" fill-rule=\"evenodd\" fill-opacity=\"1\" stroke=\"#000000\" stroke-opacity=\"1\" stroke-width=\"3.2\"/>\n",
       "<circle clip-path=\"url(#clip762)\" cx=\"2045.39\" cy=\"1225.18\" r=\"14.4\" fill=\"#0000ff\" fill-rule=\"evenodd\" fill-opacity=\"1\" stroke=\"#000000\" stroke-opacity=\"1\" stroke-width=\"3.2\"/>\n",
       "<circle clip-path=\"url(#clip762)\" cx=\"1454.04\" cy=\"1428.46\" r=\"14.4\" fill=\"#0000ff\" fill-rule=\"evenodd\" fill-opacity=\"1\" stroke=\"#000000\" stroke-opacity=\"1\" stroke-width=\"3.2\"/>\n",
       "<circle clip-path=\"url(#clip762)\" cx=\"1295.93\" cy=\"1447.87\" r=\"14.4\" fill=\"#0000ff\" fill-rule=\"evenodd\" fill-opacity=\"1\" stroke=\"#000000\" stroke-opacity=\"1\" stroke-width=\"3.2\"/>\n",
       "<circle clip-path=\"url(#clip762)\" cx=\"242.979\" cy=\"925.256\" r=\"14.4\" fill=\"#0000ff\" fill-rule=\"evenodd\" fill-opacity=\"1\" stroke=\"#000000\" stroke-opacity=\"1\" stroke-width=\"3.2\"/>\n",
       "<circle clip-path=\"url(#clip762)\" cx=\"829.345\" cy=\"216.629\" r=\"14.4\" fill=\"#0000ff\" fill-rule=\"evenodd\" fill-opacity=\"1\" stroke=\"#000000\" stroke-opacity=\"1\" stroke-width=\"3.2\"/>\n",
       "<circle clip-path=\"url(#clip762)\" cx=\"2291.23\" cy=\"723.006\" r=\"14.4\" fill=\"#0000ff\" fill-rule=\"evenodd\" fill-opacity=\"1\" stroke=\"#000000\" stroke-opacity=\"1\" stroke-width=\"3.2\"/>\n",
       "<circle clip-path=\"url(#clip762)\" cx=\"332.58\" cy=\"1068.26\" r=\"14.4\" fill=\"#0000ff\" fill-rule=\"evenodd\" fill-opacity=\"1\" stroke=\"#000000\" stroke-opacity=\"1\" stroke-width=\"3.2\"/>\n",
       "<circle clip-path=\"url(#clip762)\" cx=\"420.275\" cy=\"446.466\" r=\"14.4\" fill=\"#0000ff\" fill-rule=\"evenodd\" fill-opacity=\"1\" stroke=\"#000000\" stroke-opacity=\"1\" stroke-width=\"3.2\"/>\n",
       "<circle clip-path=\"url(#clip762)\" cx=\"2149.98\" cy=\"1132.01\" r=\"14.4\" fill=\"#0000ff\" fill-rule=\"evenodd\" fill-opacity=\"1\" stroke=\"#000000\" stroke-opacity=\"1\" stroke-width=\"3.2\"/>\n",
       "<circle clip-path=\"url(#clip762)\" cx=\"395.256\" cy=\"1145.6\" r=\"14.4\" fill=\"#0000ff\" fill-rule=\"evenodd\" fill-opacity=\"1\" stroke=\"#000000\" stroke-opacity=\"1\" stroke-width=\"3.2\"/>\n",
       "<circle clip-path=\"url(#clip762)\" cx=\"1415.3\" cy=\"166.015\" r=\"14.4\" fill=\"#0000ff\" fill-rule=\"evenodd\" fill-opacity=\"1\" stroke=\"#000000\" stroke-opacity=\"1\" stroke-width=\"3.2\"/>\n",
       "<circle clip-path=\"url(#clip762)\" cx=\"1518.98\" cy=\"190.26\" r=\"14.4\" fill=\"#0000ff\" fill-rule=\"evenodd\" fill-opacity=\"1\" stroke=\"#000000\" stroke-opacity=\"1\" stroke-width=\"3.2\"/>\n",
       "<circle clip-path=\"url(#clip762)\" cx=\"420.405\" cy=\"1176.16\" r=\"14.4\" fill=\"#0000ff\" fill-rule=\"evenodd\" fill-opacity=\"1\" stroke=\"#000000\" stroke-opacity=\"1\" stroke-width=\"3.2\"/>\n",
       "<circle clip-path=\"url(#clip762)\" cx=\"477.674\" cy=\"391.352\" r=\"14.4\" fill=\"#0000ff\" fill-rule=\"evenodd\" fill-opacity=\"1\" stroke=\"#000000\" stroke-opacity=\"1\" stroke-width=\"3.2\"/>\n",
       "<circle clip-path=\"url(#clip762)\" cx=\"975.619\" cy=\"1413.85\" r=\"14.4\" fill=\"#0000ff\" fill-rule=\"evenodd\" fill-opacity=\"1\" stroke=\"#000000\" stroke-opacity=\"1\" stroke-width=\"3.2\"/>\n",
       "<circle clip-path=\"url(#clip762)\" cx=\"1395.73\" cy=\"165.345\" r=\"14.4\" fill=\"#0000ff\" fill-rule=\"evenodd\" fill-opacity=\"1\" stroke=\"#000000\" stroke-opacity=\"1\" stroke-width=\"3.2\"/>\n",
       "<circle clip-path=\"url(#clip762)\" cx=\"928.803\" cy=\"212.82\" r=\"14.4\" fill=\"#0000ff\" fill-rule=\"evenodd\" fill-opacity=\"1\" stroke=\"#000000\" stroke-opacity=\"1\" stroke-width=\"3.2\"/>\n",
       "<circle clip-path=\"url(#clip762)\" cx=\"2191.99\" cy=\"1089.79\" r=\"14.4\" fill=\"#0000ff\" fill-rule=\"evenodd\" fill-opacity=\"1\" stroke=\"#000000\" stroke-opacity=\"1\" stroke-width=\"3.2\"/>\n",
       "<circle clip-path=\"url(#clip762)\" cx=\"1833.39\" cy=\"260.092\" r=\"14.4\" fill=\"#0000ff\" fill-rule=\"evenodd\" fill-opacity=\"1\" stroke=\"#000000\" stroke-opacity=\"1\" stroke-width=\"3.2\"/>\n",
       "<path clip-path=\"url(#clip762)\" d=\"M1367.99 665.353 L1351.07 714.025 L1299.51 715.105 L1340.63 746.281 L1325.65 795.601 L1367.99 766.153 L1410.32 795.601 L1395.35 746.281 L1436.46 715.105 L1384.91 714.025 L1367.99 665.353 Z\" fill=\"#800080\" fill-rule=\"evenodd\" fill-opacity=\"1\" stroke=\"#000000\" stroke-opacity=\"1\" stroke-width=\"3.2\"/>\n",
       "</svg>\n"
      ]
     },
     "execution_count": 7,
     "metadata": {},
     "output_type": "execute_result"
    }
   ],
   "source": [
    "scatter( map(x->x[1],points) , map(x->x[2],points) , markercolor= map(x->x[3],points) , title=\"not linearly separable\" , legend=false )\n",
    "scatter!( [point_new[1]] , [point_new[2]] , markershape=:star , markersize=18 , markercolor = \"purple\" )"
   ]
  },
  {
   "cell_type": "markdown",
   "metadata": {},
   "source": [
    "### we have more data than dimensions\n",
    "\n",
    "### now make the Kernel matrix with kernel $k(x_i,x_j) = e^{-||x_i-x_j||^2}$"
   ]
  },
  {
   "cell_type": "code",
   "execution_count": 8,
   "metadata": {},
   "outputs": [
    {
     "data": {
      "text/plain": [
       "kernel1 (generic function with 1 method)"
      ]
     },
     "execution_count": 8,
     "metadata": {},
     "output_type": "execute_result"
    }
   ],
   "source": [
    "function kernel1(xi,xj) \n",
    "    return exp( (-1/10) * sum(map(x->abs(x), xi[1:2] .- xj[1:2] ))^2 )\n",
    "end"
   ]
  },
  {
   "cell_type": "code",
   "execution_count": 9,
   "metadata": {},
   "outputs": [
    {
     "data": {
      "text/plain": [
       "0.09609120684979235"
      ]
     },
     "execution_count": 9,
     "metadata": {},
     "output_type": "execute_result"
    }
   ],
   "source": [
    "kernel1( points[1] , points[2] )"
   ]
  },
  {
   "cell_type": "code",
   "execution_count": 10,
   "metadata": {},
   "outputs": [
    {
     "data": {
      "text/plain": [
       "100×100 Matrix{Float64}:\n",
       " 1.0          0.0960912    0.506828     …  3.38569e-12  2.08731e-8\n",
       " 0.0960912    1.0          0.60736         2.20957e-6   3.86105e-7\n",
       " 0.506828     0.60736      1.0             8.21058e-9   9.33784e-7\n",
       " 0.562858     0.360883     0.281281        4.61459e-9   5.94788e-11\n",
       " 0.81397      0.313629     0.871617        2.92046e-10  3.04075e-7\n",
       " 0.91066      0.223214     0.764303     …  7.1545e-11   2.88348e-8\n",
       " 0.419487     0.698969     0.988471        2.05551e-8   7.23221e-7\n",
       " 0.139482     0.834959     0.715055        8.69368e-7   1.2325e-8\n",
       " 0.346465     0.778054     0.881798        4.62459e-8   5.85777e-8\n",
       " 0.415371     0.609753     0.510458        2.14874e-8   1.05732e-9\n",
       " 0.617539     0.327319     0.252323     …  2.52711e-9   3.75217e-11\n",
       " 0.386723     0.734239     0.736787        2.93755e-8   1.11906e-8\n",
       " 0.255461     0.392952     0.30937         1.41789e-7   9.01855e-11\n",
       " ⋮                                      ⋱               \n",
       " 4.64455e-6   9.79777e-12  7.28828e-9      3.58162e-33  8.25687e-13\n",
       " 1.48018e-12  1.23357e-6   4.09483e-9      0.891673     6.5951e-13\n",
       " 5.8226e-10   1.80307e-11  5.57213e-12  …  2.2176e-15   1.74175e-34\n",
       " 1.06165e-5   1.24218e-5   0.000216211     8.01009e-22  0.0461893\n",
       " 2.65215e-6   3.12501e-5   6.53663e-5      3.01806e-19  0.177802\n",
       " 2.92587e-10  8.58698e-12  2.60824e-12     9.33311e-16  4.69616e-35\n",
       " 2.34133e-6   3.67692e-12  3.1341e-9       6.70265e-34  7.76356e-11\n",
       " 3.21168e-8   1.38578e-9   4.76509e-10  …  3.65922e-13  4.50603e-31\n",
       " 1.55583e-5   8.06838e-6   0.000300024     3.28787e-22  0.0368067\n",
       " 6.85567e-5   5.03962e-10  2.10743e-7      3.49694e-30  0.000109713\n",
       " 3.38569e-12  2.20957e-6   8.21058e-9      1.0          1.52718e-12\n",
       " 2.08731e-8   3.86105e-7   9.33784e-7      1.52718e-12  1.0"
      ]
     },
     "execution_count": 10,
     "metadata": {},
     "output_type": "execute_result"
    }
   ],
   "source": [
    "kernal_mat = zeros(length(points),length(points))\n",
    "[ kernal_mat[i,j] = kernel1(points[i],points[j])  for i in 1:length(points) for j in 1:length(points) ];\n",
    "kernal_mat"
   ]
  },
  {
   "cell_type": "code",
   "execution_count": 11,
   "metadata": {},
   "outputs": [
    {
     "data": {
      "text/plain": [
       "100×100 Matrix{Float64}:\n",
       "  0.828941   -0.0749679   0.335769  …  -0.170991  -0.171059  -0.171059\n",
       " -0.0749679   0.828941    0.436301     -0.171059  -0.171057  -0.171059\n",
       "  0.335769    0.436301    0.828941     -0.171059  -0.171059  -0.171058\n",
       "  0.391799    0.189824    0.110222     -0.171059  -0.171059  -0.171059\n",
       "  0.642911    0.14257     0.700558     -0.171056  -0.171059  -0.171059\n",
       "  0.739601    0.0521554   0.593244  …  -0.17105   -0.171059  -0.171059\n",
       "  0.248428    0.52791     0.817412     -0.171059  -0.171059  -0.171058\n",
       " -0.031577    0.663899    0.543996     -0.171059  -0.171058  -0.171059\n",
       "  0.175406    0.606995    0.710739     -0.171059  -0.171059  -0.171059\n",
       "  0.244312    0.438694    0.339399     -0.171059  -0.171059  -0.171059\n",
       "  0.44648     0.15626     0.081264  …  -0.171059  -0.171059  -0.171059\n",
       "  0.215664    0.56318     0.565728     -0.171059  -0.171059  -0.171059\n",
       "  0.0844018   0.221893    0.138311     -0.171059  -0.171059  -0.171059\n",
       "  ⋮                                 ⋱                        \n",
       " -0.171054   -0.171059   -0.171059     -0.170459  -0.171059  -0.171059\n",
       " -0.171059   -0.171058   -0.171059     -0.171059   0.720613  -0.171059\n",
       " -0.171059   -0.171059   -0.171059  …  -0.171059  -0.171059  -0.171059\n",
       " -0.171048   -0.171047   -0.170843     -0.1209    -0.171059  -0.12487\n",
       " -0.171056   -0.171028   -0.170994     -0.146848  -0.171059   0.00674322\n",
       " -0.171059   -0.171059   -0.171059     -0.171059  -0.171059  -0.171059\n",
       " -0.171057   -0.171059   -0.171059     -0.165377  -0.171059  -0.171059\n",
       " -0.171059   -0.171059   -0.171059  …  -0.171059  -0.171059  -0.171059\n",
       " -0.171044   -0.171051   -0.170759     -0.110175  -0.171059  -0.134252\n",
       " -0.170991   -0.171059   -0.171059      0.828941  -0.171059  -0.170949\n",
       " -0.171059   -0.171057   -0.171059     -0.171059   0.828941  -0.171059\n",
       " -0.171059   -0.171059   -0.171058     -0.170949  -0.171059   0.828941"
      ]
     },
     "execution_count": 11,
     "metadata": {},
     "output_type": "execute_result"
    }
   ],
   "source": [
    "kernal_mat = kernal_mat .- mean( kernal_mat ) #centering"
   ]
  },
  {
   "cell_type": "code",
   "execution_count": 12,
   "metadata": {},
   "outputs": [
    {
     "data": {
      "text/plain": [
       "100×100 Matrix{Float64}:\n",
       " -0.0549749  -0.275244     -0.236378     …  -0.0985617    0.111463\n",
       " -0.0869189   0.0520868     0.175116        -0.0267467    0.0865442\n",
       " -0.0501249   0.107302     -0.219858        -0.233182     0.119315\n",
       " -0.0368363  -0.0925897     0.0230165        0.191734     0.148746\n",
       " -0.0387686   0.105012      0.153108        -0.220472     0.1321\n",
       " -0.0279892  -0.153425      0.107317     …  -0.126477     0.146808\n",
       " -0.0503497   0.0309082    -0.206858        -0.204897     0.120807\n",
       " -0.0515257   0.113501      0.172254         0.0428919    0.121815\n",
       " -0.0289208  -0.25551       0.0389061       -0.0781932    0.151176\n",
       " -0.0177607  -0.0359401    -0.2624           0.0858075    0.1676\n",
       " -0.0414202  -0.0533854     0.133731     …   0.196769     0.142927\n",
       " -0.0157596  -0.265599     -0.0894402       -0.0149477    0.166665\n",
       " -0.0485512  -0.00736302   -0.123501         0.158658     0.133319\n",
       "  ⋮                                      ⋱               \n",
       " -0.132381   -0.000983257   6.32911e-5       0.00336909  -0.0366097\n",
       " -0.122208   -0.000644529   3.90326e-5       0.00430553  -0.038034\n",
       " -0.121702   -0.000846073   5.11909e-5   …   0.00472883  -0.0383768\n",
       " -0.103366   -0.000621675   0.000192717      0.0118166   -0.0419612\n",
       " -0.106664   -0.000592091  -1.66798e-5       0.0113018   -0.0414892\n",
       " -0.124315   -0.000993477   6.07616e-5       0.00455809  -0.0380808\n",
       " -0.134705   -0.00111049    6.68098e-5       0.00332318  -0.0364164\n",
       " -0.151105   -0.00164736    0.000101945  …   0.00265489  -0.0347699\n",
       " -0.103694   -0.000681308   0.000168569      0.0117217   -0.0419053\n",
       " -0.129123   -0.00112893    7.85565e-5       0.00532778  -0.0375161\n",
       " -0.133676   -0.0016474     9.82679e-5       0.00392506  -0.0370572\n",
       " -0.134349   -0.00104965    7.39859e-5       0.00485675  -0.0368103"
      ]
     },
     "execution_count": 12,
     "metadata": {},
     "output_type": "execute_result"
    }
   ],
   "source": [
    "eigvecs_kernel = eigvecs( kernal_mat )"
   ]
  },
  {
   "cell_type": "code",
   "execution_count": 13,
   "metadata": {},
   "outputs": [
    {
     "data": {
      "text/plain": [
       "100-element Vector{Float64}:\n",
       " -7.355269839196227\n",
       " -0.46162938990876634\n",
       " -0.4406694470204349\n",
       " -0.34642548227135345\n",
       " -0.20105863915440975\n",
       " -0.17368251854920583\n",
       " -0.12963952477166782\n",
       " -0.11971640197208368\n",
       " -0.09324513438957759\n",
       " -0.08678077187850732\n",
       " -0.06472642106876295\n",
       " -0.05788426044512942\n",
       " -0.048001939670344454\n",
       "  ⋮\n",
       "  2.166483755291624\n",
       "  2.771250460797201\n",
       "  2.9913863345289005\n",
       "  3.372523132231417\n",
       "  3.4310353888112033\n",
       "  3.6970846922406277\n",
       "  4.010788928620979\n",
       "  4.374662037294129\n",
       "  5.576589620393863\n",
       "  6.045466621094764\n",
       "  7.0331851967562224\n",
       " 25.707124797230243"
      ]
     },
     "execution_count": 13,
     "metadata": {},
     "output_type": "execute_result"
    }
   ],
   "source": [
    "eigvals_kernel = eigvals( kernal_mat )"
   ]
  },
  {
   "cell_type": "code",
   "execution_count": 14,
   "metadata": {},
   "outputs": [
    {
     "data": {
      "text/plain": [
       "2-element Vector{Int64}:\n",
       " 100\n",
       "  99"
      ]
     },
     "execution_count": 14,
     "metadata": {},
     "output_type": "execute_result"
    }
   ],
   "source": [
    "vals = sort(eigvals_kernel,rev=true)[1:2]\n",
    "inds = map( v -> findall( eigvals_kernel .== v )[1] , vals )"
   ]
  },
  {
   "cell_type": "code",
   "execution_count": 19,
   "metadata": {},
   "outputs": [
    {
     "data": {
      "text/plain": [
       "100×2 Matrix{Float64}:\n",
       " -0.171059    -0.171059\n",
       " -0.171059    -0.171057\n",
       " -0.171058    -0.171059\n",
       " -0.171059    -0.171059\n",
       " -0.171059    -0.171059\n",
       " -0.171059    -0.171059\n",
       " -0.171058    -0.171059\n",
       " -0.171059    -0.171058\n",
       " -0.171059    -0.171059\n",
       " -0.171059    -0.171059\n",
       " -0.171059    -0.171059\n",
       " -0.171059    -0.171059\n",
       " -0.171059    -0.171059\n",
       "  ⋮           \n",
       " -0.171059    -0.171059\n",
       " -0.171059     0.720613\n",
       " -0.171059    -0.171059\n",
       " -0.12487     -0.171059\n",
       "  0.00674322  -0.171059\n",
       " -0.171059    -0.171059\n",
       " -0.171059    -0.171059\n",
       " -0.171059    -0.171059\n",
       " -0.134252    -0.171059\n",
       " -0.170949    -0.171059\n",
       " -0.171059     0.828941\n",
       "  0.828941    -0.171059"
      ]
     },
     "execution_count": 19,
     "metadata": {},
     "output_type": "execute_result"
    }
   ],
   "source": [
    "phi_vecs = kernal_mat[ : , inds ]"
   ]
  },
  {
   "cell_type": "code",
   "execution_count": null,
   "metadata": {},
   "outputs": [],
   "source": []
  },
  {
   "cell_type": "code",
   "execution_count": 20,
   "metadata": {},
   "outputs": [
    {
     "data": {
      "text/plain": [
       "Point2HigherDim (generic function with 1 method)"
      ]
     },
     "execution_count": 20,
     "metadata": {},
     "output_type": "execute_result"
    }
   ],
   "source": [
    "function Point2HigherDim( point_new , points ) #find the point projection in the higher dimension\n",
    "    map( i -> kernel1( point_new , points[i] ) , 1:length(points) )\n",
    "end"
   ]
  },
  {
   "cell_type": "code",
   "execution_count": 21,
   "metadata": {},
   "outputs": [
    {
     "data": {
      "text/plain": [
       "100-element Vector{Float64}:\n",
       " 1.0\n",
       " 0.09609120684979235\n",
       " 0.5068279381714965\n",
       " 0.5628581828945107\n",
       " 0.813969806287757\n",
       " 0.9106597300203814\n",
       " 0.4194869041500997\n",
       " 0.13948207744691035\n",
       " 0.3464650631550574\n",
       " 0.4153706732148188\n",
       " 0.6175386592573665\n",
       " 0.3867231916760522\n",
       " 0.25546089721372134\n",
       " ⋮\n",
       " 4.6445508417449895e-6\n",
       " 1.4801764132931059e-12\n",
       " 5.822604235710983e-10\n",
       " 1.061649688077941e-5\n",
       " 2.6521463323891688e-6\n",
       " 2.9258675503167253e-10\n",
       " 2.3413348605703236e-6\n",
       " 3.211680772106356e-8\n",
       " 1.555827494208294e-5\n",
       " 6.855667219729762e-5\n",
       " 3.3856880026815523e-12\n",
       " 2.087313041730536e-8"
      ]
     },
     "execution_count": 21,
     "metadata": {},
     "output_type": "execute_result"
    }
   ],
   "source": [
    "Point2HigherDim( points[1] , points ) #map first point"
   ]
  },
  {
   "cell_type": "code",
   "execution_count": 22,
   "metadata": {},
   "outputs": [
    {
     "name": "stdout",
     "output_type": "stream",
     "text": [
      "100\n",
      "100\n"
     ]
    }
   ],
   "source": [
    "#map all original points\n",
    "points_higherDim = map( i -> Point2HigherDim( points[i] , points ) , 1:length(points) );\n",
    "println( length( points_higherDim ) )\n",
    "println( length( points_higherDim[1] ) )"
   ]
  },
  {
   "cell_type": "code",
   "execution_count": 23,
   "metadata": {},
   "outputs": [
    {
     "data": {
      "text/plain": [
       "2-element Vector{Float64}:\n",
       " -4.6053337825264435\n",
       " -4.605344373181585"
      ]
     },
     "execution_count": 23,
     "metadata": {},
     "output_type": "execute_result"
    }
   ],
   "source": [
    "phi_vecs' * points_higherDim[1] # 1 point projection"
   ]
  },
  {
   "cell_type": "code",
   "execution_count": 24,
   "metadata": {},
   "outputs": [
    {
     "name": "stdout",
     "output_type": "stream",
     "text": [
      "[-4.6053337825264435, -4.605344373181585]\n"
     ]
    },
    {
     "data": {
      "text/plain": [
       "100"
      ]
     },
     "execution_count": 24,
     "metadata": {},
     "output_type": "execute_result"
    }
   ],
   "source": [
    "points_projection = map( i -> phi_vecs' * points_higherDim[i] , 1:length(points_higherDim) )\n",
    "println( points_projection[1] )\n",
    "length( points_projection )"
   ]
  },
  {
   "cell_type": "code",
   "execution_count": 19,
   "metadata": {},
   "outputs": [
    {
     "data": {
      "image/svg+xml": [
       "<?xml version=\"1.0\" encoding=\"utf-8\"?>\n",
       "<svg xmlns=\"http://www.w3.org/2000/svg\" xmlns:xlink=\"http://www.w3.org/1999/xlink\" width=\"600\" height=\"400\" viewBox=\"0 0 2400 1600\">\n",
       "<defs>\n",
       "  <clipPath id=\"clip350\">\n",
       "    <rect x=\"0\" y=\"0\" width=\"2400\" height=\"1600\"/>\n",
       "  </clipPath>\n",
       "</defs>\n",
       "<path clip-path=\"url(#clip350)\" d=\"\n",
       "M0 1600 L2400 1600 L2400 0 L0 0  Z\n",
       "  \" fill=\"#ffffff\" fill-rule=\"evenodd\" fill-opacity=\"1\"/>\n",
       "<defs>\n",
       "  <clipPath id=\"clip351\">\n",
       "    <rect x=\"480\" y=\"0\" width=\"1681\" height=\"1600\"/>\n",
       "  </clipPath>\n",
       "</defs>\n",
       "<path clip-path=\"url(#clip350)\" d=\"\n",
       "M149.191 1486.45 L2352.76 1486.45 L2352.76 123.472 L149.191 123.472  Z\n",
       "  \" fill=\"#ffffff\" fill-rule=\"evenodd\" fill-opacity=\"1\"/>\n",
       "<defs>\n",
       "  <clipPath id=\"clip352\">\n",
       "    <rect x=\"149\" y=\"123\" width=\"2205\" height=\"1364\"/>\n",
       "  </clipPath>\n",
       "</defs>\n",
       "<polyline clip-path=\"url(#clip352)\" style=\"stroke:#000000; stroke-linecap:round; stroke-linejoin:round; stroke-width:2; stroke-opacity:0.1; fill:none\" points=\"\n",
       "  183.506,1486.45 183.506,123.472 \n",
       "  \"/>\n",
       "<polyline clip-path=\"url(#clip352)\" style=\"stroke:#000000; stroke-linecap:round; stroke-linejoin:round; stroke-width:2; stroke-opacity:0.1; fill:none\" points=\"\n",
       "  712.008,1486.45 712.008,123.472 \n",
       "  \"/>\n",
       "<polyline clip-path=\"url(#clip352)\" style=\"stroke:#000000; stroke-linecap:round; stroke-linejoin:round; stroke-width:2; stroke-opacity:0.1; fill:none\" points=\"\n",
       "  1240.51,1486.45 1240.51,123.472 \n",
       "  \"/>\n",
       "<polyline clip-path=\"url(#clip352)\" style=\"stroke:#000000; stroke-linecap:round; stroke-linejoin:round; stroke-width:2; stroke-opacity:0.1; fill:none\" points=\"\n",
       "  1769.01,1486.45 1769.01,123.472 \n",
       "  \"/>\n",
       "<polyline clip-path=\"url(#clip352)\" style=\"stroke:#000000; stroke-linecap:round; stroke-linejoin:round; stroke-width:2; stroke-opacity:0.1; fill:none\" points=\"\n",
       "  2297.51,1486.45 2297.51,123.472 \n",
       "  \"/>\n",
       "<polyline clip-path=\"url(#clip350)\" style=\"stroke:#000000; stroke-linecap:round; stroke-linejoin:round; stroke-width:4; stroke-opacity:1; fill:none\" points=\"\n",
       "  149.191,1486.45 2352.76,1486.45 \n",
       "  \"/>\n",
       "<polyline clip-path=\"url(#clip350)\" style=\"stroke:#000000; stroke-linecap:round; stroke-linejoin:round; stroke-width:4; stroke-opacity:1; fill:none\" points=\"\n",
       "  183.506,1486.45 183.506,1467.55 \n",
       "  \"/>\n",
       "<polyline clip-path=\"url(#clip350)\" style=\"stroke:#000000; stroke-linecap:round; stroke-linejoin:round; stroke-width:4; stroke-opacity:1; fill:none\" points=\"\n",
       "  712.008,1486.45 712.008,1467.55 \n",
       "  \"/>\n",
       "<polyline clip-path=\"url(#clip350)\" style=\"stroke:#000000; stroke-linecap:round; stroke-linejoin:round; stroke-width:4; stroke-opacity:1; fill:none\" points=\"\n",
       "  1240.51,1486.45 1240.51,1467.55 \n",
       "  \"/>\n",
       "<polyline clip-path=\"url(#clip350)\" style=\"stroke:#000000; stroke-linecap:round; stroke-linejoin:round; stroke-width:4; stroke-opacity:1; fill:none\" points=\"\n",
       "  1769.01,1486.45 1769.01,1467.55 \n",
       "  \"/>\n",
       "<polyline clip-path=\"url(#clip350)\" style=\"stroke:#000000; stroke-linecap:round; stroke-linejoin:round; stroke-width:4; stroke-opacity:1; fill:none\" points=\"\n",
       "  2297.51,1486.45 2297.51,1467.55 \n",
       "  \"/>\n",
       "<path clip-path=\"url(#clip350)\" d=\"M152.569 1532.02 L182.245 1532.02 L182.245 1535.95 L152.569 1535.95 L152.569 1532.02 Z\" fill=\"#000000\" fill-rule=\"evenodd\" fill-opacity=\"1\" /><path clip-path=\"url(#clip350)\" d=\"M202.916 1529.7 Q199.768 1529.7 197.916 1531.86 Q196.087 1534.01 196.087 1537.76 Q196.087 1541.49 197.916 1543.66 Q199.768 1545.82 202.916 1545.82 Q206.064 1545.82 207.893 1543.66 Q209.744 1541.49 209.744 1537.76 Q209.744 1534.01 207.893 1531.86 Q206.064 1529.7 202.916 1529.7 M212.198 1515.05 L212.198 1519.31 Q210.439 1518.48 208.633 1518.04 Q206.851 1517.6 205.092 1517.6 Q200.462 1517.6 198.008 1520.72 Q195.578 1523.85 195.231 1530.17 Q196.596 1528.15 198.657 1527.09 Q200.717 1526 203.194 1526 Q208.402 1526 211.411 1529.17 Q214.444 1532.32 214.444 1537.76 Q214.444 1543.08 211.295 1546.3 Q208.147 1549.52 202.916 1549.52 Q196.92 1549.52 193.749 1544.94 Q190.578 1540.33 190.578 1531.6 Q190.578 1523.41 194.467 1518.55 Q198.356 1513.66 204.907 1513.66 Q206.666 1513.66 208.448 1514.01 Q210.254 1514.36 212.198 1515.05 Z\" fill=\"#000000\" fill-rule=\"evenodd\" fill-opacity=\"1\" /><path clip-path=\"url(#clip350)\" d=\"M680.908 1532.02 L710.584 1532.02 L710.584 1535.95 L680.908 1535.95 L680.908 1532.02 Z\" fill=\"#000000\" fill-rule=\"evenodd\" fill-opacity=\"1\" /><path clip-path=\"url(#clip350)\" d=\"M733.524 1518.36 L721.718 1536.81 L733.524 1536.81 L733.524 1518.36 M732.297 1514.29 L738.176 1514.29 L738.176 1536.81 L743.107 1536.81 L743.107 1540.7 L738.176 1540.7 L738.176 1548.85 L733.524 1548.85 L733.524 1540.7 L717.922 1540.7 L717.922 1536.19 L732.297 1514.29 Z\" fill=\"#000000\" fill-rule=\"evenodd\" fill-opacity=\"1\" /><path clip-path=\"url(#clip350)\" d=\"M1210.45 1532.02 L1240.13 1532.02 L1240.13 1535.95 L1210.45 1535.95 L1210.45 1532.02 Z\" fill=\"#000000\" fill-rule=\"evenodd\" fill-opacity=\"1\" /><path clip-path=\"url(#clip350)\" d=\"M1254.25 1544.91 L1270.57 1544.91 L1270.57 1548.85 L1248.62 1548.85 L1248.62 1544.91 Q1251.28 1542.16 1255.87 1537.53 Q1260.47 1532.88 1261.65 1531.53 Q1263.9 1529.01 1264.78 1527.27 Q1265.68 1525.51 1265.68 1523.82 Q1265.68 1521.07 1263.74 1519.33 Q1261.82 1517.6 1258.71 1517.6 Q1256.52 1517.6 1254.06 1518.36 Q1251.63 1519.13 1248.85 1520.68 L1248.85 1515.95 Q1251.68 1514.82 1254.13 1514.24 Q1256.59 1513.66 1258.62 1513.66 Q1263.99 1513.66 1267.19 1516.35 Q1270.38 1519.03 1270.38 1523.52 Q1270.38 1525.65 1269.57 1527.57 Q1268.78 1529.47 1266.68 1532.07 Q1266.1 1532.74 1263 1535.95 Q1259.9 1539.15 1254.25 1544.91 Z\" fill=\"#000000\" fill-rule=\"evenodd\" fill-opacity=\"1\" /><path clip-path=\"url(#clip350)\" d=\"M1769.01 1517.37 Q1765.4 1517.37 1763.57 1520.93 Q1761.76 1524.47 1761.76 1531.6 Q1761.76 1538.71 1763.57 1542.27 Q1765.4 1545.82 1769.01 1545.82 Q1772.64 1545.82 1774.45 1542.27 Q1776.28 1538.71 1776.28 1531.6 Q1776.28 1524.47 1774.45 1520.93 Q1772.64 1517.37 1769.01 1517.37 M1769.01 1513.66 Q1774.82 1513.66 1777.88 1518.27 Q1780.95 1522.85 1780.95 1531.6 Q1780.95 1540.33 1777.88 1544.94 Q1774.82 1549.52 1769.01 1549.52 Q1763.2 1549.52 1760.12 1544.94 Q1757.07 1540.33 1757.07 1531.6 Q1757.07 1522.85 1760.12 1518.27 Q1763.2 1513.66 1769.01 1513.66 Z\" fill=\"#000000\" fill-rule=\"evenodd\" fill-opacity=\"1\" /><path clip-path=\"url(#clip350)\" d=\"M2292.16 1544.91 L2308.48 1544.91 L2308.48 1548.85 L2286.54 1548.85 L2286.54 1544.91 Q2289.2 1542.16 2293.78 1537.53 Q2298.39 1532.88 2299.57 1531.53 Q2301.82 1529.01 2302.7 1527.27 Q2303.6 1525.51 2303.6 1523.82 Q2303.6 1521.07 2301.66 1519.33 Q2299.73 1517.6 2296.63 1517.6 Q2294.43 1517.6 2291.98 1518.36 Q2289.55 1519.13 2286.77 1520.68 L2286.77 1515.95 Q2289.59 1514.82 2292.05 1514.24 Q2294.5 1513.66 2296.54 1513.66 Q2301.91 1513.66 2305.1 1516.35 Q2308.3 1519.03 2308.3 1523.52 Q2308.3 1525.65 2307.49 1527.57 Q2306.7 1529.47 2304.59 1532.07 Q2304.02 1532.74 2300.91 1535.95 Q2297.81 1539.15 2292.16 1544.91 Z\" fill=\"#000000\" fill-rule=\"evenodd\" fill-opacity=\"1\" /><polyline clip-path=\"url(#clip352)\" style=\"stroke:#000000; stroke-linecap:round; stroke-linejoin:round; stroke-width:2; stroke-opacity:0.1; fill:none\" points=\"\n",
       "  149.191,1463.32 2352.76,1463.32 \n",
       "  \"/>\n",
       "<polyline clip-path=\"url(#clip352)\" style=\"stroke:#000000; stroke-linecap:round; stroke-linejoin:round; stroke-width:2; stroke-opacity:0.1; fill:none\" points=\"\n",
       "  149.191,1174.27 2352.76,1174.27 \n",
       "  \"/>\n",
       "<polyline clip-path=\"url(#clip352)\" style=\"stroke:#000000; stroke-linecap:round; stroke-linejoin:round; stroke-width:2; stroke-opacity:0.1; fill:none\" points=\"\n",
       "  149.191,885.22 2352.76,885.22 \n",
       "  \"/>\n",
       "<polyline clip-path=\"url(#clip352)\" style=\"stroke:#000000; stroke-linecap:round; stroke-linejoin:round; stroke-width:2; stroke-opacity:0.1; fill:none\" points=\"\n",
       "  149.191,596.168 2352.76,596.168 \n",
       "  \"/>\n",
       "<polyline clip-path=\"url(#clip352)\" style=\"stroke:#000000; stroke-linecap:round; stroke-linejoin:round; stroke-width:2; stroke-opacity:0.1; fill:none\" points=\"\n",
       "  149.191,307.116 2352.76,307.116 \n",
       "  \"/>\n",
       "<polyline clip-path=\"url(#clip350)\" style=\"stroke:#000000; stroke-linecap:round; stroke-linejoin:round; stroke-width:4; stroke-opacity:1; fill:none\" points=\"\n",
       "  149.191,1486.45 149.191,123.472 \n",
       "  \"/>\n",
       "<polyline clip-path=\"url(#clip350)\" style=\"stroke:#000000; stroke-linecap:round; stroke-linejoin:round; stroke-width:4; stroke-opacity:1; fill:none\" points=\"\n",
       "  149.191,1463.32 168.089,1463.32 \n",
       "  \"/>\n",
       "<polyline clip-path=\"url(#clip350)\" style=\"stroke:#000000; stroke-linecap:round; stroke-linejoin:round; stroke-width:4; stroke-opacity:1; fill:none\" points=\"\n",
       "  149.191,1174.27 168.089,1174.27 \n",
       "  \"/>\n",
       "<polyline clip-path=\"url(#clip350)\" style=\"stroke:#000000; stroke-linecap:round; stroke-linejoin:round; stroke-width:4; stroke-opacity:1; fill:none\" points=\"\n",
       "  149.191,885.22 168.089,885.22 \n",
       "  \"/>\n",
       "<polyline clip-path=\"url(#clip350)\" style=\"stroke:#000000; stroke-linecap:round; stroke-linejoin:round; stroke-width:4; stroke-opacity:1; fill:none\" points=\"\n",
       "  149.191,596.168 168.089,596.168 \n",
       "  \"/>\n",
       "<polyline clip-path=\"url(#clip350)\" style=\"stroke:#000000; stroke-linecap:round; stroke-linejoin:round; stroke-width:4; stroke-opacity:1; fill:none\" points=\"\n",
       "  149.191,307.116 168.089,307.116 \n",
       "  \"/>\n",
       "<path clip-path=\"url(#clip350)\" d=\"M51.3162 1463.77 L80.992 1463.77 L80.992 1467.71 L51.3162 1467.71 L51.3162 1463.77 Z\" fill=\"#000000\" fill-rule=\"evenodd\" fill-opacity=\"1\" /><path clip-path=\"url(#clip350)\" d=\"M101.663 1461.46 Q98.515 1461.46 96.6632 1463.61 Q94.8345 1465.77 94.8345 1469.52 Q94.8345 1473.24 96.6632 1475.42 Q98.515 1477.57 101.663 1477.57 Q104.811 1477.57 106.64 1475.42 Q108.492 1473.24 108.492 1469.52 Q108.492 1465.77 106.64 1463.61 Q104.811 1461.46 101.663 1461.46 M110.946 1446.81 L110.946 1451.07 Q109.186 1450.23 107.381 1449.79 Q105.598 1449.35 103.839 1449.35 Q99.2095 1449.35 96.7558 1452.48 Q94.3252 1455.6 93.978 1461.92 Q95.3437 1459.91 97.4039 1458.84 Q99.4641 1457.76 101.941 1457.76 Q107.149 1457.76 110.158 1460.93 Q113.191 1464.08 113.191 1469.52 Q113.191 1474.84 110.043 1478.06 Q106.895 1481.27 101.663 1481.27 Q95.6678 1481.27 92.4965 1476.69 Q89.3253 1472.09 89.3253 1463.36 Q89.3253 1455.16 93.2141 1450.3 Q97.103 1445.42 103.654 1445.42 Q105.413 1445.42 107.196 1445.77 Q109.001 1446.11 110.946 1446.81 Z\" fill=\"#000000\" fill-rule=\"evenodd\" fill-opacity=\"1\" /><path clip-path=\"url(#clip350)\" d=\"M50.9921 1174.72 L80.6679 1174.72 L80.6679 1178.66 L50.9921 1178.66 L50.9921 1174.72 Z\" fill=\"#000000\" fill-rule=\"evenodd\" fill-opacity=\"1\" /><path clip-path=\"url(#clip350)\" d=\"M103.608 1161.07 L91.8021 1179.51 L103.608 1179.51 L103.608 1161.07 M102.381 1156.99 L108.26 1156.99 L108.26 1179.51 L113.191 1179.51 L113.191 1183.4 L108.26 1183.4 L108.26 1191.55 L103.608 1191.55 L103.608 1183.4 L88.0058 1183.4 L88.0058 1178.89 L102.381 1156.99 Z\" fill=\"#000000\" fill-rule=\"evenodd\" fill-opacity=\"1\" /><path clip-path=\"url(#clip350)\" d=\"M53.0754 885.671 L82.7512 885.671 L82.7512 889.606 L53.0754 889.606 L53.0754 885.671 Z\" fill=\"#000000\" fill-rule=\"evenodd\" fill-opacity=\"1\" /><path clip-path=\"url(#clip350)\" d=\"M96.8715 898.565 L113.191 898.565 L113.191 902.5 L91.2465 902.5 L91.2465 898.565 Q93.9086 895.81 98.4919 891.181 Q103.098 886.528 104.279 885.185 Q106.524 882.662 107.404 880.926 Q108.307 879.167 108.307 877.477 Q108.307 874.722 106.362 872.986 Q104.441 871.25 101.339 871.25 Q99.14 871.25 96.6863 872.014 Q94.2558 872.778 91.478 874.329 L91.478 869.607 Q94.3021 868.472 96.7558 867.894 Q99.2095 867.315 101.246 867.315 Q106.617 867.315 109.811 870 Q113.006 872.685 113.006 877.176 Q113.006 879.306 112.196 881.227 Q111.408 883.125 109.302 885.718 Q108.723 886.389 105.621 889.606 Q102.52 892.801 96.8715 898.565 Z\" fill=\"#000000\" fill-rule=\"evenodd\" fill-opacity=\"1\" /><path clip-path=\"url(#clip350)\" d=\"M101.246 581.967 Q97.6354 581.967 95.8067 585.532 Q94.0012 589.073 94.0012 596.203 Q94.0012 603.309 95.8067 606.874 Q97.6354 610.416 101.246 610.416 Q104.881 610.416 106.686 606.874 Q108.515 603.309 108.515 596.203 Q108.515 589.073 106.686 585.532 Q104.881 581.967 101.246 581.967 M101.246 578.263 Q107.057 578.263 110.112 582.87 Q113.191 587.453 113.191 596.203 Q113.191 604.93 110.112 609.536 Q107.057 614.119 101.246 614.119 Q95.4363 614.119 92.3576 609.536 Q89.3021 604.93 89.3021 596.203 Q89.3021 587.453 92.3576 582.87 Q95.4363 578.263 101.246 578.263 Z\" fill=\"#000000\" fill-rule=\"evenodd\" fill-opacity=\"1\" /><path clip-path=\"url(#clip350)\" d=\"M96.8715 320.461 L113.191 320.461 L113.191 324.396 L91.2465 324.396 L91.2465 320.461 Q93.9086 317.707 98.4919 313.077 Q103.098 308.424 104.279 307.082 Q106.524 304.558 107.404 302.822 Q108.307 301.063 108.307 299.373 Q108.307 296.619 106.362 294.883 Q104.441 293.146 101.339 293.146 Q99.14 293.146 96.6863 293.91 Q94.2558 294.674 91.478 296.225 L91.478 291.503 Q94.3021 290.369 96.7558 289.79 Q99.2095 289.211 101.246 289.211 Q106.617 289.211 109.811 291.896 Q113.006 294.582 113.006 299.072 Q113.006 301.202 112.196 303.123 Q111.408 305.021 109.302 307.614 Q108.723 308.285 105.621 311.503 Q102.52 314.697 96.8715 320.461 Z\" fill=\"#000000\" fill-rule=\"evenodd\" fill-opacity=\"1\" /><path clip-path=\"url(#clip350)\" d=\"M1070.18 65.7705 L1070.18 89.8329 L1062.69 89.8329 L1062.69 27.2059 L1070.18 27.2059 L1070.18 34.0924 Q1072.53 30.0415 1076.1 28.0971 Q1079.7 26.1121 1084.68 26.1121 Q1092.95 26.1121 1098.09 32.6746 Q1103.28 39.2371 1103.28 49.9314 Q1103.28 60.6258 1098.09 67.1883 Q1092.95 73.7508 1084.68 73.7508 Q1079.7 73.7508 1076.1 71.8063 Q1072.53 69.8214 1070.18 65.7705 M1095.54 49.9314 Q1095.54 41.7081 1092.14 37.0496 Q1088.78 32.3505 1082.86 32.3505 Q1076.95 32.3505 1073.54 37.0496 Q1070.18 41.7081 1070.18 49.9314 Q1070.18 58.1548 1073.54 62.8538 Q1076.95 67.5124 1082.86 67.5124 Q1088.78 67.5124 1092.14 62.8538 Q1095.54 58.1548 1095.54 49.9314 Z\" fill=\"#000000\" fill-rule=\"evenodd\" fill-opacity=\"1\" /><path clip-path=\"url(#clip350)\" d=\"M1141.92 34.1734 Q1140.67 33.4443 1139.17 33.1202 Q1137.71 32.7556 1135.93 32.7556 Q1129.61 32.7556 1126.21 36.8875 Q1122.84 40.9789 1122.84 48.6757 L1122.84 72.576 L1115.35 72.576 L1115.35 27.2059 L1122.84 27.2059 L1122.84 34.2544 Q1125.19 30.1225 1128.96 28.1376 Q1132.73 26.1121 1138.12 26.1121 Q1138.88 26.1121 1139.82 26.2337 Q1140.75 26.3147 1141.88 26.5172 L1141.92 34.1734 Z\" fill=\"#000000\" fill-rule=\"evenodd\" fill-opacity=\"1\" /><path clip-path=\"url(#clip350)\" d=\"M1165.5 32.4315 Q1159.5 32.4315 1156.02 37.1306 Q1152.54 41.7891 1152.54 49.9314 Q1152.54 58.0738 1155.98 62.7728 Q1159.46 67.4314 1165.5 67.4314 Q1171.45 67.4314 1174.94 62.7323 Q1178.42 58.0333 1178.42 49.9314 Q1178.42 41.8701 1174.94 37.1711 Q1171.45 32.4315 1165.5 32.4315 M1165.5 26.1121 Q1175.22 26.1121 1180.77 32.4315 Q1186.32 38.7509 1186.32 49.9314 Q1186.32 61.0714 1180.77 67.4314 Q1175.22 73.7508 1165.5 73.7508 Q1155.74 73.7508 1150.19 67.4314 Q1144.68 61.0714 1144.68 49.9314 Q1144.68 38.7509 1150.19 32.4315 Q1155.74 26.1121 1165.5 26.1121 Z\" fill=\"#000000\" fill-rule=\"evenodd\" fill-opacity=\"1\" /><path clip-path=\"url(#clip350)\" d=\"M1198.68 27.2059 L1206.13 27.2059 L1206.13 73.3862 Q1206.13 82.0551 1202.81 85.944 Q1199.53 89.8329 1192.19 89.8329 L1189.36 89.8329 L1189.36 83.5134 L1191.34 83.5134 Q1195.6 83.5134 1197.14 81.5285 Q1198.68 79.5841 1198.68 73.3862 L1198.68 27.2059 M1198.68 9.54393 L1206.13 9.54393 L1206.13 18.9825 L1198.68 18.9825 L1198.68 9.54393 Z\" fill=\"#000000\" fill-rule=\"evenodd\" fill-opacity=\"1\" /><path clip-path=\"url(#clip350)\" d=\"M1260.53 48.0275 L1260.53 51.6733 L1226.26 51.6733 Q1226.75 59.3701 1230.88 63.421 Q1235.05 67.4314 1242.47 67.4314 Q1246.76 67.4314 1250.77 66.3781 Q1254.82 65.3249 1258.79 63.2184 L1258.79 70.267 Q1254.78 71.9684 1250.57 72.8596 Q1246.36 73.7508 1242.02 73.7508 Q1231.16 73.7508 1224.8 67.4314 Q1218.49 61.1119 1218.49 50.3365 Q1218.49 39.1965 1224.48 32.6746 Q1230.52 26.1121 1240.72 26.1121 Q1249.88 26.1121 1255.19 32.0264 Q1260.53 37.9003 1260.53 48.0275 M1253.08 45.84 Q1253 39.7232 1249.64 36.0774 Q1246.31 32.4315 1240.81 32.4315 Q1234.57 32.4315 1230.8 35.9558 Q1227.07 39.4801 1226.51 45.8805 L1253.08 45.84 Z\" fill=\"#000000\" fill-rule=\"evenodd\" fill-opacity=\"1\" /><path clip-path=\"url(#clip350)\" d=\"M1305.42 28.9478 L1305.42 35.9153 Q1302.26 34.1734 1299.06 33.3227 Q1295.9 32.4315 1292.66 32.4315 Q1285.41 32.4315 1281.4 37.0496 Q1277.39 41.6271 1277.39 49.9314 Q1277.39 58.2358 1281.4 62.8538 Q1285.41 67.4314 1292.66 67.4314 Q1295.9 67.4314 1299.06 66.5807 Q1302.26 65.6895 1305.42 63.9476 L1305.42 70.8341 Q1302.3 72.2924 1298.94 73.0216 Q1295.61 73.7508 1291.85 73.7508 Q1281.6 73.7508 1275.56 67.3098 Q1269.53 60.8689 1269.53 49.9314 Q1269.53 38.832 1275.6 32.472 Q1281.72 26.1121 1292.33 26.1121 Q1295.78 26.1121 1299.06 26.8413 Q1302.34 27.5299 1305.42 28.9478 Z\" fill=\"#000000\" fill-rule=\"evenodd\" fill-opacity=\"1\" /><path clip-path=\"url(#clip350)\" d=\"M1325.75 14.324 L1325.75 27.2059 L1341.11 27.2059 L1341.11 32.9987 L1325.75 32.9987 L1325.75 57.6282 Q1325.75 63.1779 1327.25 64.7578 Q1328.79 66.3376 1333.45 66.3376 L1341.11 66.3376 L1341.11 72.576 L1333.45 72.576 Q1324.82 72.576 1321.54 69.3758 Q1318.26 66.1351 1318.26 57.6282 L1318.26 32.9987 L1312.79 32.9987 L1312.79 27.2059 L1318.26 27.2059 L1318.26 14.324 L1325.75 14.324 Z\" fill=\"#000000\" fill-rule=\"evenodd\" fill-opacity=\"1\" /><path clip-path=\"url(#clip350)\" d=\"M1389.72 48.0275 L1389.72 51.6733 L1355.45 51.6733 Q1355.93 59.3701 1360.06 63.421 Q1364.24 67.4314 1371.65 67.4314 Q1375.94 67.4314 1379.95 66.3781 Q1384.01 65.3249 1387.97 63.2184 L1387.97 70.267 Q1383.96 71.9684 1379.75 72.8596 Q1375.54 73.7508 1371.2 73.7508 Q1360.35 73.7508 1353.99 67.4314 Q1347.67 61.1119 1347.67 50.3365 Q1347.67 39.1965 1353.66 32.6746 Q1359.7 26.1121 1369.91 26.1121 Q1379.06 26.1121 1384.37 32.0264 Q1389.72 37.9003 1389.72 48.0275 M1382.26 45.84 Q1382.18 39.7232 1378.82 36.0774 Q1375.5 32.4315 1369.99 32.4315 Q1363.75 32.4315 1359.98 35.9558 Q1356.26 39.4801 1355.69 45.8805 L1382.26 45.84 Z\" fill=\"#000000\" fill-rule=\"evenodd\" fill-opacity=\"1\" /><path clip-path=\"url(#clip350)\" d=\"M1431.81 34.0924 L1431.81 9.54393 L1439.26 9.54393 L1439.26 72.576 L1431.81 72.576 L1431.81 65.7705 Q1429.46 69.8214 1425.85 71.8063 Q1422.29 73.7508 1417.26 73.7508 Q1409.04 73.7508 1403.85 67.1883 Q1398.71 60.6258 1398.71 49.9314 Q1398.71 39.2371 1403.85 32.6746 Q1409.04 26.1121 1417.26 26.1121 Q1422.29 26.1121 1425.85 28.0971 Q1429.46 30.0415 1431.81 34.0924 M1406.41 49.9314 Q1406.41 58.1548 1409.77 62.8538 Q1413.17 67.5124 1419.09 67.5124 Q1425 67.5124 1428.4 62.8538 Q1431.81 58.1548 1431.81 49.9314 Q1431.81 41.7081 1428.4 37.0496 Q1425 32.3505 1419.09 32.3505 Q1413.17 32.3505 1409.77 37.0496 Q1406.41 41.7081 1406.41 49.9314 Z\" fill=\"#000000\" fill-rule=\"evenodd\" fill-opacity=\"1\" /><circle clip-path=\"url(#clip352)\" cx=\"520.736\" cy=\"1278.85\" r=\"14.4\" fill=\"#ff0000\" fill-rule=\"evenodd\" fill-opacity=\"1\" stroke=\"#000000\" stroke-opacity=\"1\" stroke-width=\"3.2\"/>\n",
       "<circle clip-path=\"url(#clip352)\" cx=\"262.611\" cy=\"1419.94\" r=\"14.4\" fill=\"#ff0000\" fill-rule=\"evenodd\" fill-opacity=\"1\" stroke=\"#000000\" stroke-opacity=\"1\" stroke-width=\"3.2\"/>\n",
       "<circle clip-path=\"url(#clip352)\" cx=\"1120.11\" cy=\"950.29\" r=\"14.4\" fill=\"#ff0000\" fill-rule=\"evenodd\" fill-opacity=\"1\" stroke=\"#000000\" stroke-opacity=\"1\" stroke-width=\"3.2\"/>\n",
       "<circle clip-path=\"url(#clip352)\" cx=\"364.523\" cy=\"1364.08\" r=\"14.4\" fill=\"#ff0000\" fill-rule=\"evenodd\" fill-opacity=\"1\" stroke=\"#000000\" stroke-opacity=\"1\" stroke-width=\"3.2\"/>\n",
       "<circle clip-path=\"url(#clip352)\" cx=\"247.666\" cy=\"1428.1\" r=\"14.4\" fill=\"#ff0000\" fill-rule=\"evenodd\" fill-opacity=\"1\" stroke=\"#000000\" stroke-opacity=\"1\" stroke-width=\"3.2\"/>\n",
       "<circle clip-path=\"url(#clip352)\" cx=\"1178.15\" cy=\"919.335\" r=\"14.4\" fill=\"#ff0000\" fill-rule=\"evenodd\" fill-opacity=\"1\" stroke=\"#000000\" stroke-opacity=\"1\" stroke-width=\"3.2\"/>\n",
       "<circle clip-path=\"url(#clip352)\" cx=\"252.646\" cy=\"1425.34\" r=\"14.4\" fill=\"#ff0000\" fill-rule=\"evenodd\" fill-opacity=\"1\" stroke=\"#000000\" stroke-opacity=\"1\" stroke-width=\"3.2\"/>\n",
       "<circle clip-path=\"url(#clip352)\" cx=\"377.379\" cy=\"1357.06\" r=\"14.4\" fill=\"#ff0000\" fill-rule=\"evenodd\" fill-opacity=\"1\" stroke=\"#000000\" stroke-opacity=\"1\" stroke-width=\"3.2\"/>\n",
       "<circle clip-path=\"url(#clip352)\" cx=\"846.118\" cy=\"1100.89\" r=\"14.4\" fill=\"#ff0000\" fill-rule=\"evenodd\" fill-opacity=\"1\" stroke=\"#000000\" stroke-opacity=\"1\" stroke-width=\"3.2\"/>\n",
       "<circle clip-path=\"url(#clip352)\" cx=\"257.385\" cy=\"1422.75\" r=\"14.4\" fill=\"#ff0000\" fill-rule=\"evenodd\" fill-opacity=\"1\" stroke=\"#000000\" stroke-opacity=\"1\" stroke-width=\"3.2\"/>\n",
       "<circle clip-path=\"url(#clip352)\" cx=\"267.561\" cy=\"1417.17\" r=\"14.4\" fill=\"#ff0000\" fill-rule=\"evenodd\" fill-opacity=\"1\" stroke=\"#000000\" stroke-opacity=\"1\" stroke-width=\"3.2\"/>\n",
       "<circle clip-path=\"url(#clip352)\" cx=\"425.324\" cy=\"1330.8\" r=\"14.4\" fill=\"#ff0000\" fill-rule=\"evenodd\" fill-opacity=\"1\" stroke=\"#000000\" stroke-opacity=\"1\" stroke-width=\"3.2\"/>\n",
       "<circle clip-path=\"url(#clip352)\" cx=\"585.857\" cy=\"1243.14\" r=\"14.4\" fill=\"#ff0000\" fill-rule=\"evenodd\" fill-opacity=\"1\" stroke=\"#000000\" stroke-opacity=\"1\" stroke-width=\"3.2\"/>\n",
       "<circle clip-path=\"url(#clip352)\" cx=\"616.079\" cy=\"1226.7\" r=\"14.4\" fill=\"#ff0000\" fill-rule=\"evenodd\" fill-opacity=\"1\" stroke=\"#000000\" stroke-opacity=\"1\" stroke-width=\"3.2\"/>\n",
       "<circle clip-path=\"url(#clip352)\" cx=\"732.48\" cy=\"1163.06\" r=\"14.4\" fill=\"#ff0000\" fill-rule=\"evenodd\" fill-opacity=\"1\" stroke=\"#000000\" stroke-opacity=\"1\" stroke-width=\"3.2\"/>\n",
       "<circle clip-path=\"url(#clip352)\" cx=\"512.751\" cy=\"1282.97\" r=\"14.4\" fill=\"#ff0000\" fill-rule=\"evenodd\" fill-opacity=\"1\" stroke=\"#000000\" stroke-opacity=\"1\" stroke-width=\"3.2\"/>\n",
       "<circle clip-path=\"url(#clip352)\" cx=\"701.857\" cy=\"1179.8\" r=\"14.4\" fill=\"#ff0000\" fill-rule=\"evenodd\" fill-opacity=\"1\" stroke=\"#000000\" stroke-opacity=\"1\" stroke-width=\"3.2\"/>\n",
       "<circle clip-path=\"url(#clip352)\" cx=\"582.553\" cy=\"1244.99\" r=\"14.4\" fill=\"#ff0000\" fill-rule=\"evenodd\" fill-opacity=\"1\" stroke=\"#000000\" stroke-opacity=\"1\" stroke-width=\"3.2\"/>\n",
       "<circle clip-path=\"url(#clip352)\" cx=\"440.077\" cy=\"1322.94\" r=\"14.4\" fill=\"#ff0000\" fill-rule=\"evenodd\" fill-opacity=\"1\" stroke=\"#000000\" stroke-opacity=\"1\" stroke-width=\"3.2\"/>\n",
       "<circle clip-path=\"url(#clip352)\" cx=\"408.308\" cy=\"1340.33\" r=\"14.4\" fill=\"#ff0000\" fill-rule=\"evenodd\" fill-opacity=\"1\" stroke=\"#000000\" stroke-opacity=\"1\" stroke-width=\"3.2\"/>\n",
       "<circle clip-path=\"url(#clip352)\" cx=\"502.091\" cy=\"1288.79\" r=\"14.4\" fill=\"#ff0000\" fill-rule=\"evenodd\" fill-opacity=\"1\" stroke=\"#000000\" stroke-opacity=\"1\" stroke-width=\"3.2\"/>\n",
       "<circle clip-path=\"url(#clip352)\" cx=\"479.457\" cy=\"1301.2\" r=\"14.4\" fill=\"#ff0000\" fill-rule=\"evenodd\" fill-opacity=\"1\" stroke=\"#000000\" stroke-opacity=\"1\" stroke-width=\"3.2\"/>\n",
       "<circle clip-path=\"url(#clip352)\" cx=\"257.182\" cy=\"1422.95\" r=\"14.4\" fill=\"#ff0000\" fill-rule=\"evenodd\" fill-opacity=\"1\" stroke=\"#000000\" stroke-opacity=\"1\" stroke-width=\"3.2\"/>\n",
       "<circle clip-path=\"url(#clip352)\" cx=\"809.748\" cy=\"1120.71\" r=\"14.4\" fill=\"#ff0000\" fill-rule=\"evenodd\" fill-opacity=\"1\" stroke=\"#000000\" stroke-opacity=\"1\" stroke-width=\"3.2\"/>\n",
       "<circle clip-path=\"url(#clip352)\" cx=\"334.426\" cy=\"1380.6\" r=\"14.4\" fill=\"#ff0000\" fill-rule=\"evenodd\" fill-opacity=\"1\" stroke=\"#000000\" stroke-opacity=\"1\" stroke-width=\"3.2\"/>\n",
       "<circle clip-path=\"url(#clip352)\" cx=\"882.124\" cy=\"1081.22\" r=\"14.4\" fill=\"#ff0000\" fill-rule=\"evenodd\" fill-opacity=\"1\" stroke=\"#000000\" stroke-opacity=\"1\" stroke-width=\"3.2\"/>\n",
       "<circle clip-path=\"url(#clip352)\" cx=\"380.71\" cy=\"1355.21\" r=\"14.4\" fill=\"#ff0000\" fill-rule=\"evenodd\" fill-opacity=\"1\" stroke=\"#000000\" stroke-opacity=\"1\" stroke-width=\"3.2\"/>\n",
       "<circle clip-path=\"url(#clip352)\" cx=\"1035.5\" cy=\"997.212\" r=\"14.4\" fill=\"#ff0000\" fill-rule=\"evenodd\" fill-opacity=\"1\" stroke=\"#000000\" stroke-opacity=\"1\" stroke-width=\"3.2\"/>\n",
       "<circle clip-path=\"url(#clip352)\" cx=\"333.827\" cy=\"1381.05\" r=\"14.4\" fill=\"#ff0000\" fill-rule=\"evenodd\" fill-opacity=\"1\" stroke=\"#000000\" stroke-opacity=\"1\" stroke-width=\"3.2\"/>\n",
       "<circle clip-path=\"url(#clip352)\" cx=\"496.321\" cy=\"1292.16\" r=\"14.4\" fill=\"#ff0000\" fill-rule=\"evenodd\" fill-opacity=\"1\" stroke=\"#000000\" stroke-opacity=\"1\" stroke-width=\"3.2\"/>\n",
       "<circle clip-path=\"url(#clip352)\" cx=\"261.025\" cy=\"1420.84\" r=\"14.4\" fill=\"#ff0000\" fill-rule=\"evenodd\" fill-opacity=\"1\" stroke=\"#000000\" stroke-opacity=\"1\" stroke-width=\"3.2\"/>\n",
       "<circle clip-path=\"url(#clip352)\" cx=\"420.859\" cy=\"1333.29\" r=\"14.4\" fill=\"#ff0000\" fill-rule=\"evenodd\" fill-opacity=\"1\" stroke=\"#000000\" stroke-opacity=\"1\" stroke-width=\"3.2\"/>\n",
       "<circle clip-path=\"url(#clip352)\" cx=\"612.824\" cy=\"1228.49\" r=\"14.4\" fill=\"#ff0000\" fill-rule=\"evenodd\" fill-opacity=\"1\" stroke=\"#000000\" stroke-opacity=\"1\" stroke-width=\"3.2\"/>\n",
       "<circle clip-path=\"url(#clip352)\" cx=\"810.808\" cy=\"1120.2\" r=\"14.4\" fill=\"#ff0000\" fill-rule=\"evenodd\" fill-opacity=\"1\" stroke=\"#000000\" stroke-opacity=\"1\" stroke-width=\"3.2\"/>\n",
       "<circle clip-path=\"url(#clip352)\" cx=\"876.961\" cy=\"1083.94\" r=\"14.4\" fill=\"#ff0000\" fill-rule=\"evenodd\" fill-opacity=\"1\" stroke=\"#000000\" stroke-opacity=\"1\" stroke-width=\"3.2\"/>\n",
       "<circle clip-path=\"url(#clip352)\" cx=\"440.569\" cy=\"1322.61\" r=\"14.4\" fill=\"#ff0000\" fill-rule=\"evenodd\" fill-opacity=\"1\" stroke=\"#000000\" stroke-opacity=\"1\" stroke-width=\"3.2\"/>\n",
       "<circle clip-path=\"url(#clip352)\" cx=\"303.185\" cy=\"1397.67\" r=\"14.4\" fill=\"#ff0000\" fill-rule=\"evenodd\" fill-opacity=\"1\" stroke=\"#000000\" stroke-opacity=\"1\" stroke-width=\"3.2\"/>\n",
       "<circle clip-path=\"url(#clip352)\" cx=\"299.783\" cy=\"1399.52\" r=\"14.4\" fill=\"#ff0000\" fill-rule=\"evenodd\" fill-opacity=\"1\" stroke=\"#000000\" stroke-opacity=\"1\" stroke-width=\"3.2\"/>\n",
       "<circle clip-path=\"url(#clip352)\" cx=\"211.556\" cy=\"1447.87\" r=\"14.4\" fill=\"#ff0000\" fill-rule=\"evenodd\" fill-opacity=\"1\" stroke=\"#000000\" stroke-opacity=\"1\" stroke-width=\"3.2\"/>\n",
       "<circle clip-path=\"url(#clip352)\" cx=\"262.939\" cy=\"1419.77\" r=\"14.4\" fill=\"#ff0000\" fill-rule=\"evenodd\" fill-opacity=\"1\" stroke=\"#000000\" stroke-opacity=\"1\" stroke-width=\"3.2\"/>\n",
       "<circle clip-path=\"url(#clip352)\" cx=\"472.997\" cy=\"1304.7\" r=\"14.4\" fill=\"#ff0000\" fill-rule=\"evenodd\" fill-opacity=\"1\" stroke=\"#000000\" stroke-opacity=\"1\" stroke-width=\"3.2\"/>\n",
       "<circle clip-path=\"url(#clip352)\" cx=\"252.984\" cy=\"1425.13\" r=\"14.4\" fill=\"#ff0000\" fill-rule=\"evenodd\" fill-opacity=\"1\" stroke=\"#000000\" stroke-opacity=\"1\" stroke-width=\"3.2\"/>\n",
       "<circle clip-path=\"url(#clip352)\" cx=\"242.66\" cy=\"1430.89\" r=\"14.4\" fill=\"#ff0000\" fill-rule=\"evenodd\" fill-opacity=\"1\" stroke=\"#000000\" stroke-opacity=\"1\" stroke-width=\"3.2\"/>\n",
       "<circle clip-path=\"url(#clip352)\" cx=\"792.905\" cy=\"1129.6\" r=\"14.4\" fill=\"#ff0000\" fill-rule=\"evenodd\" fill-opacity=\"1\" stroke=\"#000000\" stroke-opacity=\"1\" stroke-width=\"3.2\"/>\n",
       "<circle clip-path=\"url(#clip352)\" cx=\"538.2\" cy=\"1269.18\" r=\"14.4\" fill=\"#ff0000\" fill-rule=\"evenodd\" fill-opacity=\"1\" stroke=\"#000000\" stroke-opacity=\"1\" stroke-width=\"3.2\"/>\n",
       "<circle clip-path=\"url(#clip352)\" cx=\"526.03\" cy=\"1275.95\" r=\"14.4\" fill=\"#ff0000\" fill-rule=\"evenodd\" fill-opacity=\"1\" stroke=\"#000000\" stroke-opacity=\"1\" stroke-width=\"3.2\"/>\n",
       "<circle clip-path=\"url(#clip352)\" cx=\"483.91\" cy=\"1298.79\" r=\"14.4\" fill=\"#ff0000\" fill-rule=\"evenodd\" fill-opacity=\"1\" stroke=\"#000000\" stroke-opacity=\"1\" stroke-width=\"3.2\"/>\n",
       "<circle clip-path=\"url(#clip352)\" cx=\"720.961\" cy=\"1169.33\" r=\"14.4\" fill=\"#ff0000\" fill-rule=\"evenodd\" fill-opacity=\"1\" stroke=\"#000000\" stroke-opacity=\"1\" stroke-width=\"3.2\"/>\n",
       "<circle clip-path=\"url(#clip352)\" cx=\"559.368\" cy=\"1257.69\" r=\"14.4\" fill=\"#ff0000\" fill-rule=\"evenodd\" fill-opacity=\"1\" stroke=\"#000000\" stroke-opacity=\"1\" stroke-width=\"3.2\"/>\n",
       "<circle clip-path=\"url(#clip352)\" cx=\"1613.33\" cy=\"686.463\" r=\"14.4\" fill=\"#0000ff\" fill-rule=\"evenodd\" fill-opacity=\"1\" stroke=\"#000000\" stroke-opacity=\"1\" stroke-width=\"3.2\"/>\n",
       "<circle clip-path=\"url(#clip352)\" cx=\"1584.48\" cy=\"697.094\" r=\"14.4\" fill=\"#0000ff\" fill-rule=\"evenodd\" fill-opacity=\"1\" stroke=\"#000000\" stroke-opacity=\"1\" stroke-width=\"3.2\"/>\n",
       "<circle clip-path=\"url(#clip352)\" cx=\"1513.19\" cy=\"349.536\" r=\"14.4\" fill=\"#0000ff\" fill-rule=\"evenodd\" fill-opacity=\"1\" stroke=\"#000000\" stroke-opacity=\"1\" stroke-width=\"3.2\"/>\n",
       "<circle clip-path=\"url(#clip352)\" cx=\"1621.49\" cy=\"680.177\" r=\"14.4\" fill=\"#0000ff\" fill-rule=\"evenodd\" fill-opacity=\"1\" stroke=\"#000000\" stroke-opacity=\"1\" stroke-width=\"3.2\"/>\n",
       "<circle clip-path=\"url(#clip352)\" cx=\"1524.24\" cy=\"170.602\" r=\"14.4\" fill=\"#0000ff\" fill-rule=\"evenodd\" fill-opacity=\"1\" stroke=\"#000000\" stroke-opacity=\"1\" stroke-width=\"3.2\"/>\n",
       "<circle clip-path=\"url(#clip352)\" cx=\"1612.7\" cy=\"683.906\" r=\"14.4\" fill=\"#0000ff\" fill-rule=\"evenodd\" fill-opacity=\"1\" stroke=\"#000000\" stroke-opacity=\"1\" stroke-width=\"3.2\"/>\n",
       "<circle clip-path=\"url(#clip352)\" cx=\"1583.92\" cy=\"697.397\" r=\"14.4\" fill=\"#0000ff\" fill-rule=\"evenodd\" fill-opacity=\"1\" stroke=\"#000000\" stroke-opacity=\"1\" stroke-width=\"3.2\"/>\n",
       "<circle clip-path=\"url(#clip352)\" cx=\"1576.22\" cy=\"701.613\" r=\"14.4\" fill=\"#0000ff\" fill-rule=\"evenodd\" fill-opacity=\"1\" stroke=\"#000000\" stroke-opacity=\"1\" stroke-width=\"3.2\"/>\n",
       "<circle clip-path=\"url(#clip352)\" cx=\"1430.3\" cy=\"781.417\" r=\"14.4\" fill=\"#0000ff\" fill-rule=\"evenodd\" fill-opacity=\"1\" stroke=\"#000000\" stroke-opacity=\"1\" stroke-width=\"3.2\"/>\n",
       "<circle clip-path=\"url(#clip352)\" cx=\"1658.02\" cy=\"657.006\" r=\"14.4\" fill=\"#0000ff\" fill-rule=\"evenodd\" fill-opacity=\"1\" stroke=\"#000000\" stroke-opacity=\"1\" stroke-width=\"3.2\"/>\n",
       "<circle clip-path=\"url(#clip352)\" cx=\"1535.55\" cy=\"531.881\" r=\"14.4\" fill=\"#0000ff\" fill-rule=\"evenodd\" fill-opacity=\"1\" stroke=\"#000000\" stroke-opacity=\"1\" stroke-width=\"3.2\"/>\n",
       "<circle clip-path=\"url(#clip352)\" cx=\"1436.31\" cy=\"778.132\" r=\"14.4\" fill=\"#0000ff\" fill-rule=\"evenodd\" fill-opacity=\"1\" stroke=\"#000000\" stroke-opacity=\"1\" stroke-width=\"3.2\"/>\n",
       "<circle clip-path=\"url(#clip352)\" cx=\"1591.91\" cy=\"693.03\" r=\"14.4\" fill=\"#0000ff\" fill-rule=\"evenodd\" fill-opacity=\"1\" stroke=\"#000000\" stroke-opacity=\"1\" stroke-width=\"3.2\"/>\n",
       "<circle clip-path=\"url(#clip352)\" cx=\"1533.79\" cy=\"162.047\" r=\"14.4\" fill=\"#0000ff\" fill-rule=\"evenodd\" fill-opacity=\"1\" stroke=\"#000000\" stroke-opacity=\"1\" stroke-width=\"3.2\"/>\n",
       "<circle clip-path=\"url(#clip352)\" cx=\"1611.81\" cy=\"682.147\" r=\"14.4\" fill=\"#0000ff\" fill-rule=\"evenodd\" fill-opacity=\"1\" stroke=\"#000000\" stroke-opacity=\"1\" stroke-width=\"3.2\"/>\n",
       "<circle clip-path=\"url(#clip352)\" cx=\"2290.39\" cy=\"667.425\" r=\"14.4\" fill=\"#0000ff\" fill-rule=\"evenodd\" fill-opacity=\"1\" stroke=\"#000000\" stroke-opacity=\"1\" stroke-width=\"3.2\"/>\n",
       "<circle clip-path=\"url(#clip352)\" cx=\"1673.32\" cy=\"648.506\" r=\"14.4\" fill=\"#0000ff\" fill-rule=\"evenodd\" fill-opacity=\"1\" stroke=\"#000000\" stroke-opacity=\"1\" stroke-width=\"3.2\"/>\n",
       "<circle clip-path=\"url(#clip352)\" cx=\"1519.45\" cy=\"422.369\" r=\"14.4\" fill=\"#0000ff\" fill-rule=\"evenodd\" fill-opacity=\"1\" stroke=\"#000000\" stroke-opacity=\"1\" stroke-width=\"3.2\"/>\n",
       "<circle clip-path=\"url(#clip352)\" cx=\"1621.45\" cy=\"676.875\" r=\"14.4\" fill=\"#0000ff\" fill-rule=\"evenodd\" fill-opacity=\"1\" stroke=\"#000000\" stroke-opacity=\"1\" stroke-width=\"3.2\"/>\n",
       "<circle clip-path=\"url(#clip352)\" cx=\"1437.46\" cy=\"777.504\" r=\"14.4\" fill=\"#0000ff\" fill-rule=\"evenodd\" fill-opacity=\"1\" stroke=\"#000000\" stroke-opacity=\"1\" stroke-width=\"3.2\"/>\n",
       "<circle clip-path=\"url(#clip352)\" cx=\"1574.01\" cy=\"702.817\" r=\"14.4\" fill=\"#0000ff\" fill-rule=\"evenodd\" fill-opacity=\"1\" stroke=\"#000000\" stroke-opacity=\"1\" stroke-width=\"3.2\"/>\n",
       "<circle clip-path=\"url(#clip352)\" cx=\"1529.22\" cy=\"727.245\" r=\"14.4\" fill=\"#0000ff\" fill-rule=\"evenodd\" fill-opacity=\"1\" stroke=\"#000000\" stroke-opacity=\"1\" stroke-width=\"3.2\"/>\n",
       "<circle clip-path=\"url(#clip352)\" cx=\"1599.31\" cy=\"688.983\" r=\"14.4\" fill=\"#0000ff\" fill-rule=\"evenodd\" fill-opacity=\"1\" stroke=\"#000000\" stroke-opacity=\"1\" stroke-width=\"3.2\"/>\n",
       "<circle clip-path=\"url(#clip352)\" cx=\"1511.82\" cy=\"228.961\" r=\"14.4\" fill=\"#0000ff\" fill-rule=\"evenodd\" fill-opacity=\"1\" stroke=\"#000000\" stroke-opacity=\"1\" stroke-width=\"3.2\"/>\n",
       "<circle clip-path=\"url(#clip352)\" cx=\"1610.14\" cy=\"686.776\" r=\"14.4\" fill=\"#0000ff\" fill-rule=\"evenodd\" fill-opacity=\"1\" stroke=\"#000000\" stroke-opacity=\"1\" stroke-width=\"3.2\"/>\n",
       "<circle clip-path=\"url(#clip352)\" cx=\"1596.5\" cy=\"690.521\" r=\"14.4\" fill=\"#0000ff\" fill-rule=\"evenodd\" fill-opacity=\"1\" stroke=\"#000000\" stroke-opacity=\"1\" stroke-width=\"3.2\"/>\n",
       "<circle clip-path=\"url(#clip352)\" cx=\"1428.78\" cy=\"782.245\" r=\"14.4\" fill=\"#0000ff\" fill-rule=\"evenodd\" fill-opacity=\"1\" stroke=\"#000000\" stroke-opacity=\"1\" stroke-width=\"3.2\"/>\n",
       "<circle clip-path=\"url(#clip352)\" cx=\"1592.3\" cy=\"692.813\" r=\"14.4\" fill=\"#0000ff\" fill-rule=\"evenodd\" fill-opacity=\"1\" stroke=\"#000000\" stroke-opacity=\"1\" stroke-width=\"3.2\"/>\n",
       "<circle clip-path=\"url(#clip352)\" cx=\"1456.78\" cy=\"766.933\" r=\"14.4\" fill=\"#0000ff\" fill-rule=\"evenodd\" fill-opacity=\"1\" stroke=\"#000000\" stroke-opacity=\"1\" stroke-width=\"3.2\"/>\n",
       "<circle clip-path=\"url(#clip352)\" cx=\"1589.56\" cy=\"648.888\" r=\"14.4\" fill=\"#0000ff\" fill-rule=\"evenodd\" fill-opacity=\"1\" stroke=\"#000000\" stroke-opacity=\"1\" stroke-width=\"3.2\"/>\n",
       "<circle clip-path=\"url(#clip352)\" cx=\"1622.28\" cy=\"657.073\" r=\"14.4\" fill=\"#0000ff\" fill-rule=\"evenodd\" fill-opacity=\"1\" stroke=\"#000000\" stroke-opacity=\"1\" stroke-width=\"3.2\"/>\n",
       "<circle clip-path=\"url(#clip352)\" cx=\"1633.13\" cy=\"682.592\" r=\"14.4\" fill=\"#0000ff\" fill-rule=\"evenodd\" fill-opacity=\"1\" stroke=\"#000000\" stroke-opacity=\"1\" stroke-width=\"3.2\"/>\n",
       "<circle clip-path=\"url(#clip352)\" cx=\"1583.67\" cy=\"697.536\" r=\"14.4\" fill=\"#0000ff\" fill-rule=\"evenodd\" fill-opacity=\"1\" stroke=\"#000000\" stroke-opacity=\"1\" stroke-width=\"3.2\"/>\n",
       "<circle clip-path=\"url(#clip352)\" cx=\"1665.94\" cy=\"669.113\" r=\"14.4\" fill=\"#0000ff\" fill-rule=\"evenodd\" fill-opacity=\"1\" stroke=\"#000000\" stroke-opacity=\"1\" stroke-width=\"3.2\"/>\n",
       "<circle clip-path=\"url(#clip352)\" cx=\"1645.82\" cy=\"653.931\" r=\"14.4\" fill=\"#0000ff\" fill-rule=\"evenodd\" fill-opacity=\"1\" stroke=\"#000000\" stroke-opacity=\"1\" stroke-width=\"3.2\"/>\n",
       "<circle clip-path=\"url(#clip352)\" cx=\"1429.42\" cy=\"781.899\" r=\"14.4\" fill=\"#0000ff\" fill-rule=\"evenodd\" fill-opacity=\"1\" stroke=\"#000000\" stroke-opacity=\"1\" stroke-width=\"3.2\"/>\n",
       "<circle clip-path=\"url(#clip352)\" cx=\"1484.26\" cy=\"751.884\" r=\"14.4\" fill=\"#0000ff\" fill-rule=\"evenodd\" fill-opacity=\"1\" stroke=\"#000000\" stroke-opacity=\"1\" stroke-width=\"3.2\"/>\n",
       "<circle clip-path=\"url(#clip352)\" cx=\"1564.33\" cy=\"708.116\" r=\"14.4\" fill=\"#0000ff\" fill-rule=\"evenodd\" fill-opacity=\"1\" stroke=\"#000000\" stroke-opacity=\"1\" stroke-width=\"3.2\"/>\n",
       "<circle clip-path=\"url(#clip352)\" cx=\"1563.61\" cy=\"620.266\" r=\"14.4\" fill=\"#0000ff\" fill-rule=\"evenodd\" fill-opacity=\"1\" stroke=\"#000000\" stroke-opacity=\"1\" stroke-width=\"3.2\"/>\n",
       "<circle clip-path=\"url(#clip352)\" cx=\"1544.04\" cy=\"719.111\" r=\"14.4\" fill=\"#0000ff\" fill-rule=\"evenodd\" fill-opacity=\"1\" stroke=\"#000000\" stroke-opacity=\"1\" stroke-width=\"3.2\"/>\n",
       "<circle clip-path=\"url(#clip352)\" cx=\"1594.41\" cy=\"691.662\" r=\"14.4\" fill=\"#0000ff\" fill-rule=\"evenodd\" fill-opacity=\"1\" stroke=\"#000000\" stroke-opacity=\"1\" stroke-width=\"3.2\"/>\n",
       "<circle clip-path=\"url(#clip352)\" cx=\"1641.82\" cy=\"332.784\" r=\"14.4\" fill=\"#0000ff\" fill-rule=\"evenodd\" fill-opacity=\"1\" stroke=\"#000000\" stroke-opacity=\"1\" stroke-width=\"3.2\"/>\n",
       "<circle clip-path=\"url(#clip352)\" cx=\"1641.85\" cy=\"681.042\" r=\"14.4\" fill=\"#0000ff\" fill-rule=\"evenodd\" fill-opacity=\"1\" stroke=\"#000000\" stroke-opacity=\"1\" stroke-width=\"3.2\"/>\n",
       "<circle clip-path=\"url(#clip352)\" cx=\"1643.04\" cy=\"665.082\" r=\"14.4\" fill=\"#0000ff\" fill-rule=\"evenodd\" fill-opacity=\"1\" stroke=\"#000000\" stroke-opacity=\"1\" stroke-width=\"3.2\"/>\n",
       "<circle clip-path=\"url(#clip352)\" cx=\"1593.41\" cy=\"692.208\" r=\"14.4\" fill=\"#0000ff\" fill-rule=\"evenodd\" fill-opacity=\"1\" stroke=\"#000000\" stroke-opacity=\"1\" stroke-width=\"3.2\"/>\n",
       "<circle clip-path=\"url(#clip352)\" cx=\"1666.71\" cy=\"652.12\" r=\"14.4\" fill=\"#0000ff\" fill-rule=\"evenodd\" fill-opacity=\"1\" stroke=\"#000000\" stroke-opacity=\"1\" stroke-width=\"3.2\"/>\n",
       "<circle clip-path=\"url(#clip352)\" cx=\"1617.25\" cy=\"679.171\" r=\"14.4\" fill=\"#0000ff\" fill-rule=\"evenodd\" fill-opacity=\"1\" stroke=\"#000000\" stroke-opacity=\"1\" stroke-width=\"3.2\"/>\n",
       "<circle clip-path=\"url(#clip352)\" cx=\"1855.37\" cy=\"647.34\" r=\"14.4\" fill=\"#0000ff\" fill-rule=\"evenodd\" fill-opacity=\"1\" stroke=\"#000000\" stroke-opacity=\"1\" stroke-width=\"3.2\"/>\n",
       "<circle clip-path=\"url(#clip352)\" cx=\"2259.16\" cy=\"664.304\" r=\"14.4\" fill=\"#0000ff\" fill-rule=\"evenodd\" fill-opacity=\"1\" stroke=\"#000000\" stroke-opacity=\"1\" stroke-width=\"3.2\"/>\n",
       "<circle clip-path=\"url(#clip352)\" cx=\"1559.06\" cy=\"175.847\" r=\"14.4\" fill=\"#0000ff\" fill-rule=\"evenodd\" fill-opacity=\"1\" stroke=\"#000000\" stroke-opacity=\"1\" stroke-width=\"3.2\"/>\n",
       "<circle clip-path=\"url(#clip352)\" cx=\"2266.66\" cy=\"665.015\" r=\"14.4\" fill=\"#0000ff\" fill-rule=\"evenodd\" fill-opacity=\"1\" stroke=\"#000000\" stroke-opacity=\"1\" stroke-width=\"3.2\"/>\n",
       "</svg>\n"
      ]
     },
     "execution_count": 19,
     "metadata": {},
     "output_type": "execute_result"
    }
   ],
   "source": [
    "scatter( map(x->x[1],points_projection) , map(x->x[2],points_projection) , markercolor= map(x->x[3],points) , title=\"projected\" , legend=false )"
   ]
  },
  {
   "cell_type": "code",
   "execution_count": null,
   "metadata": {},
   "outputs": [],
   "source": []
  },
  {
   "cell_type": "code",
   "execution_count": 20,
   "metadata": {},
   "outputs": [
    {
     "data": {
      "text/plain": [
       "2-element Vector{Float64}:\n",
       " -4.686353056229395\n",
       " -4.685476036707563"
      ]
     },
     "execution_count": 20,
     "metadata": {},
     "output_type": "execute_result"
    }
   ],
   "source": [
    "point_new_high_Dim = phi_vecs' * Point2HigherDim( point_new , points ) "
   ]
  },
  {
   "cell_type": "code",
   "execution_count": 21,
   "metadata": {},
   "outputs": [
    {
     "data": {
      "image/svg+xml": [
       "<?xml version=\"1.0\" encoding=\"utf-8\"?>\n",
       "<svg xmlns=\"http://www.w3.org/2000/svg\" xmlns:xlink=\"http://www.w3.org/1999/xlink\" width=\"600\" height=\"400\" viewBox=\"0 0 2400 1600\">\n",
       "<defs>\n",
       "  <clipPath id=\"clip390\">\n",
       "    <rect x=\"0\" y=\"0\" width=\"2400\" height=\"1600\"/>\n",
       "  </clipPath>\n",
       "</defs>\n",
       "<path clip-path=\"url(#clip390)\" d=\"\n",
       "M0 1600 L2400 1600 L2400 0 L0 0  Z\n",
       "  \" fill=\"#ffffff\" fill-rule=\"evenodd\" fill-opacity=\"1\"/>\n",
       "<defs>\n",
       "  <clipPath id=\"clip391\">\n",
       "    <rect x=\"480\" y=\"0\" width=\"1681\" height=\"1600\"/>\n",
       "  </clipPath>\n",
       "</defs>\n",
       "<path clip-path=\"url(#clip390)\" d=\"\n",
       "M149.191 1486.45 L2352.76 1486.45 L2352.76 123.472 L149.191 123.472  Z\n",
       "  \" fill=\"#ffffff\" fill-rule=\"evenodd\" fill-opacity=\"1\"/>\n",
       "<defs>\n",
       "  <clipPath id=\"clip392\">\n",
       "    <rect x=\"149\" y=\"123\" width=\"2205\" height=\"1364\"/>\n",
       "  </clipPath>\n",
       "</defs>\n",
       "<polyline clip-path=\"url(#clip392)\" style=\"stroke:#000000; stroke-linecap:round; stroke-linejoin:round; stroke-width:2; stroke-opacity:0.1; fill:none\" points=\"\n",
       "  183.506,1486.45 183.506,123.472 \n",
       "  \"/>\n",
       "<polyline clip-path=\"url(#clip392)\" style=\"stroke:#000000; stroke-linecap:round; stroke-linejoin:round; stroke-width:2; stroke-opacity:0.1; fill:none\" points=\"\n",
       "  712.008,1486.45 712.008,123.472 \n",
       "  \"/>\n",
       "<polyline clip-path=\"url(#clip392)\" style=\"stroke:#000000; stroke-linecap:round; stroke-linejoin:round; stroke-width:2; stroke-opacity:0.1; fill:none\" points=\"\n",
       "  1240.51,1486.45 1240.51,123.472 \n",
       "  \"/>\n",
       "<polyline clip-path=\"url(#clip392)\" style=\"stroke:#000000; stroke-linecap:round; stroke-linejoin:round; stroke-width:2; stroke-opacity:0.1; fill:none\" points=\"\n",
       "  1769.01,1486.45 1769.01,123.472 \n",
       "  \"/>\n",
       "<polyline clip-path=\"url(#clip392)\" style=\"stroke:#000000; stroke-linecap:round; stroke-linejoin:round; stroke-width:2; stroke-opacity:0.1; fill:none\" points=\"\n",
       "  2297.51,1486.45 2297.51,123.472 \n",
       "  \"/>\n",
       "<polyline clip-path=\"url(#clip390)\" style=\"stroke:#000000; stroke-linecap:round; stroke-linejoin:round; stroke-width:4; stroke-opacity:1; fill:none\" points=\"\n",
       "  149.191,1486.45 2352.76,1486.45 \n",
       "  \"/>\n",
       "<polyline clip-path=\"url(#clip390)\" style=\"stroke:#000000; stroke-linecap:round; stroke-linejoin:round; stroke-width:4; stroke-opacity:1; fill:none\" points=\"\n",
       "  183.506,1486.45 183.506,1467.55 \n",
       "  \"/>\n",
       "<polyline clip-path=\"url(#clip390)\" style=\"stroke:#000000; stroke-linecap:round; stroke-linejoin:round; stroke-width:4; stroke-opacity:1; fill:none\" points=\"\n",
       "  712.008,1486.45 712.008,1467.55 \n",
       "  \"/>\n",
       "<polyline clip-path=\"url(#clip390)\" style=\"stroke:#000000; stroke-linecap:round; stroke-linejoin:round; stroke-width:4; stroke-opacity:1; fill:none\" points=\"\n",
       "  1240.51,1486.45 1240.51,1467.55 \n",
       "  \"/>\n",
       "<polyline clip-path=\"url(#clip390)\" style=\"stroke:#000000; stroke-linecap:round; stroke-linejoin:round; stroke-width:4; stroke-opacity:1; fill:none\" points=\"\n",
       "  1769.01,1486.45 1769.01,1467.55 \n",
       "  \"/>\n",
       "<polyline clip-path=\"url(#clip390)\" style=\"stroke:#000000; stroke-linecap:round; stroke-linejoin:round; stroke-width:4; stroke-opacity:1; fill:none\" points=\"\n",
       "  2297.51,1486.45 2297.51,1467.55 \n",
       "  \"/>\n",
       "<path clip-path=\"url(#clip390)\" d=\"M152.569 1532.02 L182.245 1532.02 L182.245 1535.95 L152.569 1535.95 L152.569 1532.02 Z\" fill=\"#000000\" fill-rule=\"evenodd\" fill-opacity=\"1\" /><path clip-path=\"url(#clip390)\" d=\"M202.916 1529.7 Q199.768 1529.7 197.916 1531.86 Q196.087 1534.01 196.087 1537.76 Q196.087 1541.49 197.916 1543.66 Q199.768 1545.82 202.916 1545.82 Q206.064 1545.82 207.893 1543.66 Q209.744 1541.49 209.744 1537.76 Q209.744 1534.01 207.893 1531.86 Q206.064 1529.7 202.916 1529.7 M212.198 1515.05 L212.198 1519.31 Q210.439 1518.48 208.633 1518.04 Q206.851 1517.6 205.092 1517.6 Q200.462 1517.6 198.008 1520.72 Q195.578 1523.85 195.231 1530.17 Q196.596 1528.15 198.657 1527.09 Q200.717 1526 203.194 1526 Q208.402 1526 211.411 1529.17 Q214.444 1532.32 214.444 1537.76 Q214.444 1543.08 211.295 1546.3 Q208.147 1549.52 202.916 1549.52 Q196.92 1549.52 193.749 1544.94 Q190.578 1540.33 190.578 1531.6 Q190.578 1523.41 194.467 1518.55 Q198.356 1513.66 204.907 1513.66 Q206.666 1513.66 208.448 1514.01 Q210.254 1514.36 212.198 1515.05 Z\" fill=\"#000000\" fill-rule=\"evenodd\" fill-opacity=\"1\" /><path clip-path=\"url(#clip390)\" d=\"M680.908 1532.02 L710.584 1532.02 L710.584 1535.95 L680.908 1535.95 L680.908 1532.02 Z\" fill=\"#000000\" fill-rule=\"evenodd\" fill-opacity=\"1\" /><path clip-path=\"url(#clip390)\" d=\"M733.524 1518.36 L721.718 1536.81 L733.524 1536.81 L733.524 1518.36 M732.297 1514.29 L738.176 1514.29 L738.176 1536.81 L743.107 1536.81 L743.107 1540.7 L738.176 1540.7 L738.176 1548.85 L733.524 1548.85 L733.524 1540.7 L717.922 1540.7 L717.922 1536.19 L732.297 1514.29 Z\" fill=\"#000000\" fill-rule=\"evenodd\" fill-opacity=\"1\" /><path clip-path=\"url(#clip390)\" d=\"M1210.45 1532.02 L1240.13 1532.02 L1240.13 1535.95 L1210.45 1535.95 L1210.45 1532.02 Z\" fill=\"#000000\" fill-rule=\"evenodd\" fill-opacity=\"1\" /><path clip-path=\"url(#clip390)\" d=\"M1254.25 1544.91 L1270.57 1544.91 L1270.57 1548.85 L1248.62 1548.85 L1248.62 1544.91 Q1251.28 1542.16 1255.87 1537.53 Q1260.47 1532.88 1261.65 1531.53 Q1263.9 1529.01 1264.78 1527.27 Q1265.68 1525.51 1265.68 1523.82 Q1265.68 1521.07 1263.74 1519.33 Q1261.82 1517.6 1258.71 1517.6 Q1256.52 1517.6 1254.06 1518.36 Q1251.63 1519.13 1248.85 1520.68 L1248.85 1515.95 Q1251.68 1514.82 1254.13 1514.24 Q1256.59 1513.66 1258.62 1513.66 Q1263.99 1513.66 1267.19 1516.35 Q1270.38 1519.03 1270.38 1523.52 Q1270.38 1525.65 1269.57 1527.57 Q1268.78 1529.47 1266.68 1532.07 Q1266.1 1532.74 1263 1535.95 Q1259.9 1539.15 1254.25 1544.91 Z\" fill=\"#000000\" fill-rule=\"evenodd\" fill-opacity=\"1\" /><path clip-path=\"url(#clip390)\" d=\"M1769.01 1517.37 Q1765.4 1517.37 1763.57 1520.93 Q1761.76 1524.47 1761.76 1531.6 Q1761.76 1538.71 1763.57 1542.27 Q1765.4 1545.82 1769.01 1545.82 Q1772.64 1545.82 1774.45 1542.27 Q1776.28 1538.71 1776.28 1531.6 Q1776.28 1524.47 1774.45 1520.93 Q1772.64 1517.37 1769.01 1517.37 M1769.01 1513.66 Q1774.82 1513.66 1777.88 1518.27 Q1780.95 1522.85 1780.95 1531.6 Q1780.95 1540.33 1777.88 1544.94 Q1774.82 1549.52 1769.01 1549.52 Q1763.2 1549.52 1760.12 1544.94 Q1757.07 1540.33 1757.07 1531.6 Q1757.07 1522.85 1760.12 1518.27 Q1763.2 1513.66 1769.01 1513.66 Z\" fill=\"#000000\" fill-rule=\"evenodd\" fill-opacity=\"1\" /><path clip-path=\"url(#clip390)\" d=\"M2292.16 1544.91 L2308.48 1544.91 L2308.48 1548.85 L2286.54 1548.85 L2286.54 1544.91 Q2289.2 1542.16 2293.78 1537.53 Q2298.39 1532.88 2299.57 1531.53 Q2301.82 1529.01 2302.7 1527.27 Q2303.6 1525.51 2303.6 1523.82 Q2303.6 1521.07 2301.66 1519.33 Q2299.73 1517.6 2296.63 1517.6 Q2294.43 1517.6 2291.98 1518.36 Q2289.55 1519.13 2286.77 1520.68 L2286.77 1515.95 Q2289.59 1514.82 2292.05 1514.24 Q2294.5 1513.66 2296.54 1513.66 Q2301.91 1513.66 2305.1 1516.35 Q2308.3 1519.03 2308.3 1523.52 Q2308.3 1525.65 2307.49 1527.57 Q2306.7 1529.47 2304.59 1532.07 Q2304.02 1532.74 2300.91 1535.95 Q2297.81 1539.15 2292.16 1544.91 Z\" fill=\"#000000\" fill-rule=\"evenodd\" fill-opacity=\"1\" /><polyline clip-path=\"url(#clip392)\" style=\"stroke:#000000; stroke-linecap:round; stroke-linejoin:round; stroke-width:2; stroke-opacity:0.1; fill:none\" points=\"\n",
       "  149.191,1463.32 2352.76,1463.32 \n",
       "  \"/>\n",
       "<polyline clip-path=\"url(#clip392)\" style=\"stroke:#000000; stroke-linecap:round; stroke-linejoin:round; stroke-width:2; stroke-opacity:0.1; fill:none\" points=\"\n",
       "  149.191,1174.27 2352.76,1174.27 \n",
       "  \"/>\n",
       "<polyline clip-path=\"url(#clip392)\" style=\"stroke:#000000; stroke-linecap:round; stroke-linejoin:round; stroke-width:2; stroke-opacity:0.1; fill:none\" points=\"\n",
       "  149.191,885.22 2352.76,885.22 \n",
       "  \"/>\n",
       "<polyline clip-path=\"url(#clip392)\" style=\"stroke:#000000; stroke-linecap:round; stroke-linejoin:round; stroke-width:2; stroke-opacity:0.1; fill:none\" points=\"\n",
       "  149.191,596.168 2352.76,596.168 \n",
       "  \"/>\n",
       "<polyline clip-path=\"url(#clip392)\" style=\"stroke:#000000; stroke-linecap:round; stroke-linejoin:round; stroke-width:2; stroke-opacity:0.1; fill:none\" points=\"\n",
       "  149.191,307.116 2352.76,307.116 \n",
       "  \"/>\n",
       "<polyline clip-path=\"url(#clip390)\" style=\"stroke:#000000; stroke-linecap:round; stroke-linejoin:round; stroke-width:4; stroke-opacity:1; fill:none\" points=\"\n",
       "  149.191,1486.45 149.191,123.472 \n",
       "  \"/>\n",
       "<polyline clip-path=\"url(#clip390)\" style=\"stroke:#000000; stroke-linecap:round; stroke-linejoin:round; stroke-width:4; stroke-opacity:1; fill:none\" points=\"\n",
       "  149.191,1463.32 168.089,1463.32 \n",
       "  \"/>\n",
       "<polyline clip-path=\"url(#clip390)\" style=\"stroke:#000000; stroke-linecap:round; stroke-linejoin:round; stroke-width:4; stroke-opacity:1; fill:none\" points=\"\n",
       "  149.191,1174.27 168.089,1174.27 \n",
       "  \"/>\n",
       "<polyline clip-path=\"url(#clip390)\" style=\"stroke:#000000; stroke-linecap:round; stroke-linejoin:round; stroke-width:4; stroke-opacity:1; fill:none\" points=\"\n",
       "  149.191,885.22 168.089,885.22 \n",
       "  \"/>\n",
       "<polyline clip-path=\"url(#clip390)\" style=\"stroke:#000000; stroke-linecap:round; stroke-linejoin:round; stroke-width:4; stroke-opacity:1; fill:none\" points=\"\n",
       "  149.191,596.168 168.089,596.168 \n",
       "  \"/>\n",
       "<polyline clip-path=\"url(#clip390)\" style=\"stroke:#000000; stroke-linecap:round; stroke-linejoin:round; stroke-width:4; stroke-opacity:1; fill:none\" points=\"\n",
       "  149.191,307.116 168.089,307.116 \n",
       "  \"/>\n",
       "<path clip-path=\"url(#clip390)\" d=\"M51.3162 1463.77 L80.992 1463.77 L80.992 1467.71 L51.3162 1467.71 L51.3162 1463.77 Z\" fill=\"#000000\" fill-rule=\"evenodd\" fill-opacity=\"1\" /><path clip-path=\"url(#clip390)\" d=\"M101.663 1461.46 Q98.515 1461.46 96.6632 1463.61 Q94.8345 1465.77 94.8345 1469.52 Q94.8345 1473.24 96.6632 1475.42 Q98.515 1477.57 101.663 1477.57 Q104.811 1477.57 106.64 1475.42 Q108.492 1473.24 108.492 1469.52 Q108.492 1465.77 106.64 1463.61 Q104.811 1461.46 101.663 1461.46 M110.946 1446.81 L110.946 1451.07 Q109.186 1450.23 107.381 1449.79 Q105.598 1449.35 103.839 1449.35 Q99.2095 1449.35 96.7558 1452.48 Q94.3252 1455.6 93.978 1461.92 Q95.3437 1459.91 97.4039 1458.84 Q99.4641 1457.76 101.941 1457.76 Q107.149 1457.76 110.158 1460.93 Q113.191 1464.08 113.191 1469.52 Q113.191 1474.84 110.043 1478.06 Q106.895 1481.27 101.663 1481.27 Q95.6678 1481.27 92.4965 1476.69 Q89.3253 1472.09 89.3253 1463.36 Q89.3253 1455.16 93.2141 1450.3 Q97.103 1445.42 103.654 1445.42 Q105.413 1445.42 107.196 1445.77 Q109.001 1446.11 110.946 1446.81 Z\" fill=\"#000000\" fill-rule=\"evenodd\" fill-opacity=\"1\" /><path clip-path=\"url(#clip390)\" d=\"M50.9921 1174.72 L80.6679 1174.72 L80.6679 1178.66 L50.9921 1178.66 L50.9921 1174.72 Z\" fill=\"#000000\" fill-rule=\"evenodd\" fill-opacity=\"1\" /><path clip-path=\"url(#clip390)\" d=\"M103.608 1161.07 L91.8021 1179.51 L103.608 1179.51 L103.608 1161.07 M102.381 1156.99 L108.26 1156.99 L108.26 1179.51 L113.191 1179.51 L113.191 1183.4 L108.26 1183.4 L108.26 1191.55 L103.608 1191.55 L103.608 1183.4 L88.0058 1183.4 L88.0058 1178.89 L102.381 1156.99 Z\" fill=\"#000000\" fill-rule=\"evenodd\" fill-opacity=\"1\" /><path clip-path=\"url(#clip390)\" d=\"M53.0754 885.671 L82.7512 885.671 L82.7512 889.606 L53.0754 889.606 L53.0754 885.671 Z\" fill=\"#000000\" fill-rule=\"evenodd\" fill-opacity=\"1\" /><path clip-path=\"url(#clip390)\" d=\"M96.8715 898.565 L113.191 898.565 L113.191 902.5 L91.2465 902.5 L91.2465 898.565 Q93.9086 895.81 98.4919 891.181 Q103.098 886.528 104.279 885.185 Q106.524 882.662 107.404 880.926 Q108.307 879.167 108.307 877.477 Q108.307 874.722 106.362 872.986 Q104.441 871.25 101.339 871.25 Q99.14 871.25 96.6863 872.014 Q94.2558 872.778 91.478 874.329 L91.478 869.607 Q94.3021 868.472 96.7558 867.894 Q99.2095 867.315 101.246 867.315 Q106.617 867.315 109.811 870 Q113.006 872.685 113.006 877.176 Q113.006 879.306 112.196 881.227 Q111.408 883.125 109.302 885.718 Q108.723 886.389 105.621 889.606 Q102.52 892.801 96.8715 898.565 Z\" fill=\"#000000\" fill-rule=\"evenodd\" fill-opacity=\"1\" /><path clip-path=\"url(#clip390)\" d=\"M101.246 581.967 Q97.6354 581.967 95.8067 585.532 Q94.0012 589.073 94.0012 596.203 Q94.0012 603.309 95.8067 606.874 Q97.6354 610.416 101.246 610.416 Q104.881 610.416 106.686 606.874 Q108.515 603.309 108.515 596.203 Q108.515 589.073 106.686 585.532 Q104.881 581.967 101.246 581.967 M101.246 578.263 Q107.057 578.263 110.112 582.87 Q113.191 587.453 113.191 596.203 Q113.191 604.93 110.112 609.536 Q107.057 614.119 101.246 614.119 Q95.4363 614.119 92.3576 609.536 Q89.3021 604.93 89.3021 596.203 Q89.3021 587.453 92.3576 582.87 Q95.4363 578.263 101.246 578.263 Z\" fill=\"#000000\" fill-rule=\"evenodd\" fill-opacity=\"1\" /><path clip-path=\"url(#clip390)\" d=\"M96.8715 320.461 L113.191 320.461 L113.191 324.396 L91.2465 324.396 L91.2465 320.461 Q93.9086 317.707 98.4919 313.077 Q103.098 308.424 104.279 307.082 Q106.524 304.558 107.404 302.822 Q108.307 301.063 108.307 299.373 Q108.307 296.619 106.362 294.883 Q104.441 293.146 101.339 293.146 Q99.14 293.146 96.6863 293.91 Q94.2558 294.674 91.478 296.225 L91.478 291.503 Q94.3021 290.369 96.7558 289.79 Q99.2095 289.211 101.246 289.211 Q106.617 289.211 109.811 291.896 Q113.006 294.582 113.006 299.072 Q113.006 301.202 112.196 303.123 Q111.408 305.021 109.302 307.614 Q108.723 308.285 105.621 311.503 Q102.52 314.697 96.8715 320.461 Z\" fill=\"#000000\" fill-rule=\"evenodd\" fill-opacity=\"1\" /><path clip-path=\"url(#clip390)\" d=\"M1070.18 65.7705 L1070.18 89.8329 L1062.69 89.8329 L1062.69 27.2059 L1070.18 27.2059 L1070.18 34.0924 Q1072.53 30.0415 1076.1 28.0971 Q1079.7 26.1121 1084.68 26.1121 Q1092.95 26.1121 1098.09 32.6746 Q1103.28 39.2371 1103.28 49.9314 Q1103.28 60.6258 1098.09 67.1883 Q1092.95 73.7508 1084.68 73.7508 Q1079.7 73.7508 1076.1 71.8063 Q1072.53 69.8214 1070.18 65.7705 M1095.54 49.9314 Q1095.54 41.7081 1092.14 37.0496 Q1088.78 32.3505 1082.86 32.3505 Q1076.95 32.3505 1073.54 37.0496 Q1070.18 41.7081 1070.18 49.9314 Q1070.18 58.1548 1073.54 62.8538 Q1076.95 67.5124 1082.86 67.5124 Q1088.78 67.5124 1092.14 62.8538 Q1095.54 58.1548 1095.54 49.9314 Z\" fill=\"#000000\" fill-rule=\"evenodd\" fill-opacity=\"1\" /><path clip-path=\"url(#clip390)\" d=\"M1141.92 34.1734 Q1140.67 33.4443 1139.17 33.1202 Q1137.71 32.7556 1135.93 32.7556 Q1129.61 32.7556 1126.21 36.8875 Q1122.84 40.9789 1122.84 48.6757 L1122.84 72.576 L1115.35 72.576 L1115.35 27.2059 L1122.84 27.2059 L1122.84 34.2544 Q1125.19 30.1225 1128.96 28.1376 Q1132.73 26.1121 1138.12 26.1121 Q1138.88 26.1121 1139.82 26.2337 Q1140.75 26.3147 1141.88 26.5172 L1141.92 34.1734 Z\" fill=\"#000000\" fill-rule=\"evenodd\" fill-opacity=\"1\" /><path clip-path=\"url(#clip390)\" d=\"M1165.5 32.4315 Q1159.5 32.4315 1156.02 37.1306 Q1152.54 41.7891 1152.54 49.9314 Q1152.54 58.0738 1155.98 62.7728 Q1159.46 67.4314 1165.5 67.4314 Q1171.45 67.4314 1174.94 62.7323 Q1178.42 58.0333 1178.42 49.9314 Q1178.42 41.8701 1174.94 37.1711 Q1171.45 32.4315 1165.5 32.4315 M1165.5 26.1121 Q1175.22 26.1121 1180.77 32.4315 Q1186.32 38.7509 1186.32 49.9314 Q1186.32 61.0714 1180.77 67.4314 Q1175.22 73.7508 1165.5 73.7508 Q1155.74 73.7508 1150.19 67.4314 Q1144.68 61.0714 1144.68 49.9314 Q1144.68 38.7509 1150.19 32.4315 Q1155.74 26.1121 1165.5 26.1121 Z\" fill=\"#000000\" fill-rule=\"evenodd\" fill-opacity=\"1\" /><path clip-path=\"url(#clip390)\" d=\"M1198.68 27.2059 L1206.13 27.2059 L1206.13 73.3862 Q1206.13 82.0551 1202.81 85.944 Q1199.53 89.8329 1192.19 89.8329 L1189.36 89.8329 L1189.36 83.5134 L1191.34 83.5134 Q1195.6 83.5134 1197.14 81.5285 Q1198.68 79.5841 1198.68 73.3862 L1198.68 27.2059 M1198.68 9.54393 L1206.13 9.54393 L1206.13 18.9825 L1198.68 18.9825 L1198.68 9.54393 Z\" fill=\"#000000\" fill-rule=\"evenodd\" fill-opacity=\"1\" /><path clip-path=\"url(#clip390)\" d=\"M1260.53 48.0275 L1260.53 51.6733 L1226.26 51.6733 Q1226.75 59.3701 1230.88 63.421 Q1235.05 67.4314 1242.47 67.4314 Q1246.76 67.4314 1250.77 66.3781 Q1254.82 65.3249 1258.79 63.2184 L1258.79 70.267 Q1254.78 71.9684 1250.57 72.8596 Q1246.36 73.7508 1242.02 73.7508 Q1231.16 73.7508 1224.8 67.4314 Q1218.49 61.1119 1218.49 50.3365 Q1218.49 39.1965 1224.48 32.6746 Q1230.52 26.1121 1240.72 26.1121 Q1249.88 26.1121 1255.19 32.0264 Q1260.53 37.9003 1260.53 48.0275 M1253.08 45.84 Q1253 39.7232 1249.64 36.0774 Q1246.31 32.4315 1240.81 32.4315 Q1234.57 32.4315 1230.8 35.9558 Q1227.07 39.4801 1226.51 45.8805 L1253.08 45.84 Z\" fill=\"#000000\" fill-rule=\"evenodd\" fill-opacity=\"1\" /><path clip-path=\"url(#clip390)\" d=\"M1305.42 28.9478 L1305.42 35.9153 Q1302.26 34.1734 1299.06 33.3227 Q1295.9 32.4315 1292.66 32.4315 Q1285.41 32.4315 1281.4 37.0496 Q1277.39 41.6271 1277.39 49.9314 Q1277.39 58.2358 1281.4 62.8538 Q1285.41 67.4314 1292.66 67.4314 Q1295.9 67.4314 1299.06 66.5807 Q1302.26 65.6895 1305.42 63.9476 L1305.42 70.8341 Q1302.3 72.2924 1298.94 73.0216 Q1295.61 73.7508 1291.85 73.7508 Q1281.6 73.7508 1275.56 67.3098 Q1269.53 60.8689 1269.53 49.9314 Q1269.53 38.832 1275.6 32.472 Q1281.72 26.1121 1292.33 26.1121 Q1295.78 26.1121 1299.06 26.8413 Q1302.34 27.5299 1305.42 28.9478 Z\" fill=\"#000000\" fill-rule=\"evenodd\" fill-opacity=\"1\" /><path clip-path=\"url(#clip390)\" d=\"M1325.75 14.324 L1325.75 27.2059 L1341.11 27.2059 L1341.11 32.9987 L1325.75 32.9987 L1325.75 57.6282 Q1325.75 63.1779 1327.25 64.7578 Q1328.79 66.3376 1333.45 66.3376 L1341.11 66.3376 L1341.11 72.576 L1333.45 72.576 Q1324.82 72.576 1321.54 69.3758 Q1318.26 66.1351 1318.26 57.6282 L1318.26 32.9987 L1312.79 32.9987 L1312.79 27.2059 L1318.26 27.2059 L1318.26 14.324 L1325.75 14.324 Z\" fill=\"#000000\" fill-rule=\"evenodd\" fill-opacity=\"1\" /><path clip-path=\"url(#clip390)\" d=\"M1389.72 48.0275 L1389.72 51.6733 L1355.45 51.6733 Q1355.93 59.3701 1360.06 63.421 Q1364.24 67.4314 1371.65 67.4314 Q1375.94 67.4314 1379.95 66.3781 Q1384.01 65.3249 1387.97 63.2184 L1387.97 70.267 Q1383.96 71.9684 1379.75 72.8596 Q1375.54 73.7508 1371.2 73.7508 Q1360.35 73.7508 1353.99 67.4314 Q1347.67 61.1119 1347.67 50.3365 Q1347.67 39.1965 1353.66 32.6746 Q1359.7 26.1121 1369.91 26.1121 Q1379.06 26.1121 1384.37 32.0264 Q1389.72 37.9003 1389.72 48.0275 M1382.26 45.84 Q1382.18 39.7232 1378.82 36.0774 Q1375.5 32.4315 1369.99 32.4315 Q1363.75 32.4315 1359.98 35.9558 Q1356.26 39.4801 1355.69 45.8805 L1382.26 45.84 Z\" fill=\"#000000\" fill-rule=\"evenodd\" fill-opacity=\"1\" /><path clip-path=\"url(#clip390)\" d=\"M1431.81 34.0924 L1431.81 9.54393 L1439.26 9.54393 L1439.26 72.576 L1431.81 72.576 L1431.81 65.7705 Q1429.46 69.8214 1425.85 71.8063 Q1422.29 73.7508 1417.26 73.7508 Q1409.04 73.7508 1403.85 67.1883 Q1398.71 60.6258 1398.71 49.9314 Q1398.71 39.2371 1403.85 32.6746 Q1409.04 26.1121 1417.26 26.1121 Q1422.29 26.1121 1425.85 28.0971 Q1429.46 30.0415 1431.81 34.0924 M1406.41 49.9314 Q1406.41 58.1548 1409.77 62.8538 Q1413.17 67.5124 1419.09 67.5124 Q1425 67.5124 1428.4 62.8538 Q1431.81 58.1548 1431.81 49.9314 Q1431.81 41.7081 1428.4 37.0496 Q1425 32.3505 1419.09 32.3505 Q1413.17 32.3505 1409.77 37.0496 Q1406.41 41.7081 1406.41 49.9314 Z\" fill=\"#000000\" fill-rule=\"evenodd\" fill-opacity=\"1\" /><circle clip-path=\"url(#clip392)\" cx=\"520.736\" cy=\"1278.85\" r=\"14.4\" fill=\"#ff0000\" fill-rule=\"evenodd\" fill-opacity=\"1\" stroke=\"#000000\" stroke-opacity=\"1\" stroke-width=\"3.2\"/>\n",
       "<circle clip-path=\"url(#clip392)\" cx=\"262.611\" cy=\"1419.94\" r=\"14.4\" fill=\"#ff0000\" fill-rule=\"evenodd\" fill-opacity=\"1\" stroke=\"#000000\" stroke-opacity=\"1\" stroke-width=\"3.2\"/>\n",
       "<circle clip-path=\"url(#clip392)\" cx=\"1120.11\" cy=\"950.29\" r=\"14.4\" fill=\"#ff0000\" fill-rule=\"evenodd\" fill-opacity=\"1\" stroke=\"#000000\" stroke-opacity=\"1\" stroke-width=\"3.2\"/>\n",
       "<circle clip-path=\"url(#clip392)\" cx=\"364.523\" cy=\"1364.08\" r=\"14.4\" fill=\"#ff0000\" fill-rule=\"evenodd\" fill-opacity=\"1\" stroke=\"#000000\" stroke-opacity=\"1\" stroke-width=\"3.2\"/>\n",
       "<circle clip-path=\"url(#clip392)\" cx=\"247.666\" cy=\"1428.1\" r=\"14.4\" fill=\"#ff0000\" fill-rule=\"evenodd\" fill-opacity=\"1\" stroke=\"#000000\" stroke-opacity=\"1\" stroke-width=\"3.2\"/>\n",
       "<circle clip-path=\"url(#clip392)\" cx=\"1178.15\" cy=\"919.335\" r=\"14.4\" fill=\"#ff0000\" fill-rule=\"evenodd\" fill-opacity=\"1\" stroke=\"#000000\" stroke-opacity=\"1\" stroke-width=\"3.2\"/>\n",
       "<circle clip-path=\"url(#clip392)\" cx=\"252.646\" cy=\"1425.34\" r=\"14.4\" fill=\"#ff0000\" fill-rule=\"evenodd\" fill-opacity=\"1\" stroke=\"#000000\" stroke-opacity=\"1\" stroke-width=\"3.2\"/>\n",
       "<circle clip-path=\"url(#clip392)\" cx=\"377.379\" cy=\"1357.06\" r=\"14.4\" fill=\"#ff0000\" fill-rule=\"evenodd\" fill-opacity=\"1\" stroke=\"#000000\" stroke-opacity=\"1\" stroke-width=\"3.2\"/>\n",
       "<circle clip-path=\"url(#clip392)\" cx=\"846.118\" cy=\"1100.89\" r=\"14.4\" fill=\"#ff0000\" fill-rule=\"evenodd\" fill-opacity=\"1\" stroke=\"#000000\" stroke-opacity=\"1\" stroke-width=\"3.2\"/>\n",
       "<circle clip-path=\"url(#clip392)\" cx=\"257.385\" cy=\"1422.75\" r=\"14.4\" fill=\"#ff0000\" fill-rule=\"evenodd\" fill-opacity=\"1\" stroke=\"#000000\" stroke-opacity=\"1\" stroke-width=\"3.2\"/>\n",
       "<circle clip-path=\"url(#clip392)\" cx=\"267.561\" cy=\"1417.17\" r=\"14.4\" fill=\"#ff0000\" fill-rule=\"evenodd\" fill-opacity=\"1\" stroke=\"#000000\" stroke-opacity=\"1\" stroke-width=\"3.2\"/>\n",
       "<circle clip-path=\"url(#clip392)\" cx=\"425.324\" cy=\"1330.8\" r=\"14.4\" fill=\"#ff0000\" fill-rule=\"evenodd\" fill-opacity=\"1\" stroke=\"#000000\" stroke-opacity=\"1\" stroke-width=\"3.2\"/>\n",
       "<circle clip-path=\"url(#clip392)\" cx=\"585.857\" cy=\"1243.14\" r=\"14.4\" fill=\"#ff0000\" fill-rule=\"evenodd\" fill-opacity=\"1\" stroke=\"#000000\" stroke-opacity=\"1\" stroke-width=\"3.2\"/>\n",
       "<circle clip-path=\"url(#clip392)\" cx=\"616.079\" cy=\"1226.7\" r=\"14.4\" fill=\"#ff0000\" fill-rule=\"evenodd\" fill-opacity=\"1\" stroke=\"#000000\" stroke-opacity=\"1\" stroke-width=\"3.2\"/>\n",
       "<circle clip-path=\"url(#clip392)\" cx=\"732.48\" cy=\"1163.06\" r=\"14.4\" fill=\"#ff0000\" fill-rule=\"evenodd\" fill-opacity=\"1\" stroke=\"#000000\" stroke-opacity=\"1\" stroke-width=\"3.2\"/>\n",
       "<circle clip-path=\"url(#clip392)\" cx=\"512.751\" cy=\"1282.97\" r=\"14.4\" fill=\"#ff0000\" fill-rule=\"evenodd\" fill-opacity=\"1\" stroke=\"#000000\" stroke-opacity=\"1\" stroke-width=\"3.2\"/>\n",
       "<circle clip-path=\"url(#clip392)\" cx=\"701.857\" cy=\"1179.8\" r=\"14.4\" fill=\"#ff0000\" fill-rule=\"evenodd\" fill-opacity=\"1\" stroke=\"#000000\" stroke-opacity=\"1\" stroke-width=\"3.2\"/>\n",
       "<circle clip-path=\"url(#clip392)\" cx=\"582.553\" cy=\"1244.99\" r=\"14.4\" fill=\"#ff0000\" fill-rule=\"evenodd\" fill-opacity=\"1\" stroke=\"#000000\" stroke-opacity=\"1\" stroke-width=\"3.2\"/>\n",
       "<circle clip-path=\"url(#clip392)\" cx=\"440.077\" cy=\"1322.94\" r=\"14.4\" fill=\"#ff0000\" fill-rule=\"evenodd\" fill-opacity=\"1\" stroke=\"#000000\" stroke-opacity=\"1\" stroke-width=\"3.2\"/>\n",
       "<circle clip-path=\"url(#clip392)\" cx=\"408.308\" cy=\"1340.33\" r=\"14.4\" fill=\"#ff0000\" fill-rule=\"evenodd\" fill-opacity=\"1\" stroke=\"#000000\" stroke-opacity=\"1\" stroke-width=\"3.2\"/>\n",
       "<circle clip-path=\"url(#clip392)\" cx=\"502.091\" cy=\"1288.79\" r=\"14.4\" fill=\"#ff0000\" fill-rule=\"evenodd\" fill-opacity=\"1\" stroke=\"#000000\" stroke-opacity=\"1\" stroke-width=\"3.2\"/>\n",
       "<circle clip-path=\"url(#clip392)\" cx=\"479.457\" cy=\"1301.2\" r=\"14.4\" fill=\"#ff0000\" fill-rule=\"evenodd\" fill-opacity=\"1\" stroke=\"#000000\" stroke-opacity=\"1\" stroke-width=\"3.2\"/>\n",
       "<circle clip-path=\"url(#clip392)\" cx=\"257.182\" cy=\"1422.95\" r=\"14.4\" fill=\"#ff0000\" fill-rule=\"evenodd\" fill-opacity=\"1\" stroke=\"#000000\" stroke-opacity=\"1\" stroke-width=\"3.2\"/>\n",
       "<circle clip-path=\"url(#clip392)\" cx=\"809.748\" cy=\"1120.71\" r=\"14.4\" fill=\"#ff0000\" fill-rule=\"evenodd\" fill-opacity=\"1\" stroke=\"#000000\" stroke-opacity=\"1\" stroke-width=\"3.2\"/>\n",
       "<circle clip-path=\"url(#clip392)\" cx=\"334.426\" cy=\"1380.6\" r=\"14.4\" fill=\"#ff0000\" fill-rule=\"evenodd\" fill-opacity=\"1\" stroke=\"#000000\" stroke-opacity=\"1\" stroke-width=\"3.2\"/>\n",
       "<circle clip-path=\"url(#clip392)\" cx=\"882.124\" cy=\"1081.22\" r=\"14.4\" fill=\"#ff0000\" fill-rule=\"evenodd\" fill-opacity=\"1\" stroke=\"#000000\" stroke-opacity=\"1\" stroke-width=\"3.2\"/>\n",
       "<circle clip-path=\"url(#clip392)\" cx=\"380.71\" cy=\"1355.21\" r=\"14.4\" fill=\"#ff0000\" fill-rule=\"evenodd\" fill-opacity=\"1\" stroke=\"#000000\" stroke-opacity=\"1\" stroke-width=\"3.2\"/>\n",
       "<circle clip-path=\"url(#clip392)\" cx=\"1035.5\" cy=\"997.212\" r=\"14.4\" fill=\"#ff0000\" fill-rule=\"evenodd\" fill-opacity=\"1\" stroke=\"#000000\" stroke-opacity=\"1\" stroke-width=\"3.2\"/>\n",
       "<circle clip-path=\"url(#clip392)\" cx=\"333.827\" cy=\"1381.05\" r=\"14.4\" fill=\"#ff0000\" fill-rule=\"evenodd\" fill-opacity=\"1\" stroke=\"#000000\" stroke-opacity=\"1\" stroke-width=\"3.2\"/>\n",
       "<circle clip-path=\"url(#clip392)\" cx=\"496.321\" cy=\"1292.16\" r=\"14.4\" fill=\"#ff0000\" fill-rule=\"evenodd\" fill-opacity=\"1\" stroke=\"#000000\" stroke-opacity=\"1\" stroke-width=\"3.2\"/>\n",
       "<circle clip-path=\"url(#clip392)\" cx=\"261.025\" cy=\"1420.84\" r=\"14.4\" fill=\"#ff0000\" fill-rule=\"evenodd\" fill-opacity=\"1\" stroke=\"#000000\" stroke-opacity=\"1\" stroke-width=\"3.2\"/>\n",
       "<circle clip-path=\"url(#clip392)\" cx=\"420.859\" cy=\"1333.29\" r=\"14.4\" fill=\"#ff0000\" fill-rule=\"evenodd\" fill-opacity=\"1\" stroke=\"#000000\" stroke-opacity=\"1\" stroke-width=\"3.2\"/>\n",
       "<circle clip-path=\"url(#clip392)\" cx=\"612.824\" cy=\"1228.49\" r=\"14.4\" fill=\"#ff0000\" fill-rule=\"evenodd\" fill-opacity=\"1\" stroke=\"#000000\" stroke-opacity=\"1\" stroke-width=\"3.2\"/>\n",
       "<circle clip-path=\"url(#clip392)\" cx=\"810.808\" cy=\"1120.2\" r=\"14.4\" fill=\"#ff0000\" fill-rule=\"evenodd\" fill-opacity=\"1\" stroke=\"#000000\" stroke-opacity=\"1\" stroke-width=\"3.2\"/>\n",
       "<circle clip-path=\"url(#clip392)\" cx=\"876.961\" cy=\"1083.94\" r=\"14.4\" fill=\"#ff0000\" fill-rule=\"evenodd\" fill-opacity=\"1\" stroke=\"#000000\" stroke-opacity=\"1\" stroke-width=\"3.2\"/>\n",
       "<circle clip-path=\"url(#clip392)\" cx=\"440.569\" cy=\"1322.61\" r=\"14.4\" fill=\"#ff0000\" fill-rule=\"evenodd\" fill-opacity=\"1\" stroke=\"#000000\" stroke-opacity=\"1\" stroke-width=\"3.2\"/>\n",
       "<circle clip-path=\"url(#clip392)\" cx=\"303.185\" cy=\"1397.67\" r=\"14.4\" fill=\"#ff0000\" fill-rule=\"evenodd\" fill-opacity=\"1\" stroke=\"#000000\" stroke-opacity=\"1\" stroke-width=\"3.2\"/>\n",
       "<circle clip-path=\"url(#clip392)\" cx=\"299.783\" cy=\"1399.52\" r=\"14.4\" fill=\"#ff0000\" fill-rule=\"evenodd\" fill-opacity=\"1\" stroke=\"#000000\" stroke-opacity=\"1\" stroke-width=\"3.2\"/>\n",
       "<circle clip-path=\"url(#clip392)\" cx=\"211.556\" cy=\"1447.87\" r=\"14.4\" fill=\"#ff0000\" fill-rule=\"evenodd\" fill-opacity=\"1\" stroke=\"#000000\" stroke-opacity=\"1\" stroke-width=\"3.2\"/>\n",
       "<circle clip-path=\"url(#clip392)\" cx=\"262.939\" cy=\"1419.77\" r=\"14.4\" fill=\"#ff0000\" fill-rule=\"evenodd\" fill-opacity=\"1\" stroke=\"#000000\" stroke-opacity=\"1\" stroke-width=\"3.2\"/>\n",
       "<circle clip-path=\"url(#clip392)\" cx=\"472.997\" cy=\"1304.7\" r=\"14.4\" fill=\"#ff0000\" fill-rule=\"evenodd\" fill-opacity=\"1\" stroke=\"#000000\" stroke-opacity=\"1\" stroke-width=\"3.2\"/>\n",
       "<circle clip-path=\"url(#clip392)\" cx=\"252.984\" cy=\"1425.13\" r=\"14.4\" fill=\"#ff0000\" fill-rule=\"evenodd\" fill-opacity=\"1\" stroke=\"#000000\" stroke-opacity=\"1\" stroke-width=\"3.2\"/>\n",
       "<circle clip-path=\"url(#clip392)\" cx=\"242.66\" cy=\"1430.89\" r=\"14.4\" fill=\"#ff0000\" fill-rule=\"evenodd\" fill-opacity=\"1\" stroke=\"#000000\" stroke-opacity=\"1\" stroke-width=\"3.2\"/>\n",
       "<circle clip-path=\"url(#clip392)\" cx=\"792.905\" cy=\"1129.6\" r=\"14.4\" fill=\"#ff0000\" fill-rule=\"evenodd\" fill-opacity=\"1\" stroke=\"#000000\" stroke-opacity=\"1\" stroke-width=\"3.2\"/>\n",
       "<circle clip-path=\"url(#clip392)\" cx=\"538.2\" cy=\"1269.18\" r=\"14.4\" fill=\"#ff0000\" fill-rule=\"evenodd\" fill-opacity=\"1\" stroke=\"#000000\" stroke-opacity=\"1\" stroke-width=\"3.2\"/>\n",
       "<circle clip-path=\"url(#clip392)\" cx=\"526.03\" cy=\"1275.95\" r=\"14.4\" fill=\"#ff0000\" fill-rule=\"evenodd\" fill-opacity=\"1\" stroke=\"#000000\" stroke-opacity=\"1\" stroke-width=\"3.2\"/>\n",
       "<circle clip-path=\"url(#clip392)\" cx=\"483.91\" cy=\"1298.79\" r=\"14.4\" fill=\"#ff0000\" fill-rule=\"evenodd\" fill-opacity=\"1\" stroke=\"#000000\" stroke-opacity=\"1\" stroke-width=\"3.2\"/>\n",
       "<circle clip-path=\"url(#clip392)\" cx=\"720.961\" cy=\"1169.33\" r=\"14.4\" fill=\"#ff0000\" fill-rule=\"evenodd\" fill-opacity=\"1\" stroke=\"#000000\" stroke-opacity=\"1\" stroke-width=\"3.2\"/>\n",
       "<circle clip-path=\"url(#clip392)\" cx=\"559.368\" cy=\"1257.69\" r=\"14.4\" fill=\"#ff0000\" fill-rule=\"evenodd\" fill-opacity=\"1\" stroke=\"#000000\" stroke-opacity=\"1\" stroke-width=\"3.2\"/>\n",
       "<circle clip-path=\"url(#clip392)\" cx=\"1613.33\" cy=\"686.463\" r=\"14.4\" fill=\"#0000ff\" fill-rule=\"evenodd\" fill-opacity=\"1\" stroke=\"#000000\" stroke-opacity=\"1\" stroke-width=\"3.2\"/>\n",
       "<circle clip-path=\"url(#clip392)\" cx=\"1584.48\" cy=\"697.094\" r=\"14.4\" fill=\"#0000ff\" fill-rule=\"evenodd\" fill-opacity=\"1\" stroke=\"#000000\" stroke-opacity=\"1\" stroke-width=\"3.2\"/>\n",
       "<circle clip-path=\"url(#clip392)\" cx=\"1513.19\" cy=\"349.536\" r=\"14.4\" fill=\"#0000ff\" fill-rule=\"evenodd\" fill-opacity=\"1\" stroke=\"#000000\" stroke-opacity=\"1\" stroke-width=\"3.2\"/>\n",
       "<circle clip-path=\"url(#clip392)\" cx=\"1621.49\" cy=\"680.177\" r=\"14.4\" fill=\"#0000ff\" fill-rule=\"evenodd\" fill-opacity=\"1\" stroke=\"#000000\" stroke-opacity=\"1\" stroke-width=\"3.2\"/>\n",
       "<circle clip-path=\"url(#clip392)\" cx=\"1524.24\" cy=\"170.602\" r=\"14.4\" fill=\"#0000ff\" fill-rule=\"evenodd\" fill-opacity=\"1\" stroke=\"#000000\" stroke-opacity=\"1\" stroke-width=\"3.2\"/>\n",
       "<circle clip-path=\"url(#clip392)\" cx=\"1612.7\" cy=\"683.906\" r=\"14.4\" fill=\"#0000ff\" fill-rule=\"evenodd\" fill-opacity=\"1\" stroke=\"#000000\" stroke-opacity=\"1\" stroke-width=\"3.2\"/>\n",
       "<circle clip-path=\"url(#clip392)\" cx=\"1583.92\" cy=\"697.397\" r=\"14.4\" fill=\"#0000ff\" fill-rule=\"evenodd\" fill-opacity=\"1\" stroke=\"#000000\" stroke-opacity=\"1\" stroke-width=\"3.2\"/>\n",
       "<circle clip-path=\"url(#clip392)\" cx=\"1576.22\" cy=\"701.613\" r=\"14.4\" fill=\"#0000ff\" fill-rule=\"evenodd\" fill-opacity=\"1\" stroke=\"#000000\" stroke-opacity=\"1\" stroke-width=\"3.2\"/>\n",
       "<circle clip-path=\"url(#clip392)\" cx=\"1430.3\" cy=\"781.417\" r=\"14.4\" fill=\"#0000ff\" fill-rule=\"evenodd\" fill-opacity=\"1\" stroke=\"#000000\" stroke-opacity=\"1\" stroke-width=\"3.2\"/>\n",
       "<circle clip-path=\"url(#clip392)\" cx=\"1658.02\" cy=\"657.006\" r=\"14.4\" fill=\"#0000ff\" fill-rule=\"evenodd\" fill-opacity=\"1\" stroke=\"#000000\" stroke-opacity=\"1\" stroke-width=\"3.2\"/>\n",
       "<circle clip-path=\"url(#clip392)\" cx=\"1535.55\" cy=\"531.881\" r=\"14.4\" fill=\"#0000ff\" fill-rule=\"evenodd\" fill-opacity=\"1\" stroke=\"#000000\" stroke-opacity=\"1\" stroke-width=\"3.2\"/>\n",
       "<circle clip-path=\"url(#clip392)\" cx=\"1436.31\" cy=\"778.132\" r=\"14.4\" fill=\"#0000ff\" fill-rule=\"evenodd\" fill-opacity=\"1\" stroke=\"#000000\" stroke-opacity=\"1\" stroke-width=\"3.2\"/>\n",
       "<circle clip-path=\"url(#clip392)\" cx=\"1591.91\" cy=\"693.03\" r=\"14.4\" fill=\"#0000ff\" fill-rule=\"evenodd\" fill-opacity=\"1\" stroke=\"#000000\" stroke-opacity=\"1\" stroke-width=\"3.2\"/>\n",
       "<circle clip-path=\"url(#clip392)\" cx=\"1533.79\" cy=\"162.047\" r=\"14.4\" fill=\"#0000ff\" fill-rule=\"evenodd\" fill-opacity=\"1\" stroke=\"#000000\" stroke-opacity=\"1\" stroke-width=\"3.2\"/>\n",
       "<circle clip-path=\"url(#clip392)\" cx=\"1611.81\" cy=\"682.147\" r=\"14.4\" fill=\"#0000ff\" fill-rule=\"evenodd\" fill-opacity=\"1\" stroke=\"#000000\" stroke-opacity=\"1\" stroke-width=\"3.2\"/>\n",
       "<circle clip-path=\"url(#clip392)\" cx=\"2290.39\" cy=\"667.425\" r=\"14.4\" fill=\"#0000ff\" fill-rule=\"evenodd\" fill-opacity=\"1\" stroke=\"#000000\" stroke-opacity=\"1\" stroke-width=\"3.2\"/>\n",
       "<circle clip-path=\"url(#clip392)\" cx=\"1673.32\" cy=\"648.506\" r=\"14.4\" fill=\"#0000ff\" fill-rule=\"evenodd\" fill-opacity=\"1\" stroke=\"#000000\" stroke-opacity=\"1\" stroke-width=\"3.2\"/>\n",
       "<circle clip-path=\"url(#clip392)\" cx=\"1519.45\" cy=\"422.369\" r=\"14.4\" fill=\"#0000ff\" fill-rule=\"evenodd\" fill-opacity=\"1\" stroke=\"#000000\" stroke-opacity=\"1\" stroke-width=\"3.2\"/>\n",
       "<circle clip-path=\"url(#clip392)\" cx=\"1621.45\" cy=\"676.875\" r=\"14.4\" fill=\"#0000ff\" fill-rule=\"evenodd\" fill-opacity=\"1\" stroke=\"#000000\" stroke-opacity=\"1\" stroke-width=\"3.2\"/>\n",
       "<circle clip-path=\"url(#clip392)\" cx=\"1437.46\" cy=\"777.504\" r=\"14.4\" fill=\"#0000ff\" fill-rule=\"evenodd\" fill-opacity=\"1\" stroke=\"#000000\" stroke-opacity=\"1\" stroke-width=\"3.2\"/>\n",
       "<circle clip-path=\"url(#clip392)\" cx=\"1574.01\" cy=\"702.817\" r=\"14.4\" fill=\"#0000ff\" fill-rule=\"evenodd\" fill-opacity=\"1\" stroke=\"#000000\" stroke-opacity=\"1\" stroke-width=\"3.2\"/>\n",
       "<circle clip-path=\"url(#clip392)\" cx=\"1529.22\" cy=\"727.245\" r=\"14.4\" fill=\"#0000ff\" fill-rule=\"evenodd\" fill-opacity=\"1\" stroke=\"#000000\" stroke-opacity=\"1\" stroke-width=\"3.2\"/>\n",
       "<circle clip-path=\"url(#clip392)\" cx=\"1599.31\" cy=\"688.983\" r=\"14.4\" fill=\"#0000ff\" fill-rule=\"evenodd\" fill-opacity=\"1\" stroke=\"#000000\" stroke-opacity=\"1\" stroke-width=\"3.2\"/>\n",
       "<circle clip-path=\"url(#clip392)\" cx=\"1511.82\" cy=\"228.961\" r=\"14.4\" fill=\"#0000ff\" fill-rule=\"evenodd\" fill-opacity=\"1\" stroke=\"#000000\" stroke-opacity=\"1\" stroke-width=\"3.2\"/>\n",
       "<circle clip-path=\"url(#clip392)\" cx=\"1610.14\" cy=\"686.776\" r=\"14.4\" fill=\"#0000ff\" fill-rule=\"evenodd\" fill-opacity=\"1\" stroke=\"#000000\" stroke-opacity=\"1\" stroke-width=\"3.2\"/>\n",
       "<circle clip-path=\"url(#clip392)\" cx=\"1596.5\" cy=\"690.521\" r=\"14.4\" fill=\"#0000ff\" fill-rule=\"evenodd\" fill-opacity=\"1\" stroke=\"#000000\" stroke-opacity=\"1\" stroke-width=\"3.2\"/>\n",
       "<circle clip-path=\"url(#clip392)\" cx=\"1428.78\" cy=\"782.245\" r=\"14.4\" fill=\"#0000ff\" fill-rule=\"evenodd\" fill-opacity=\"1\" stroke=\"#000000\" stroke-opacity=\"1\" stroke-width=\"3.2\"/>\n",
       "<circle clip-path=\"url(#clip392)\" cx=\"1592.3\" cy=\"692.813\" r=\"14.4\" fill=\"#0000ff\" fill-rule=\"evenodd\" fill-opacity=\"1\" stroke=\"#000000\" stroke-opacity=\"1\" stroke-width=\"3.2\"/>\n",
       "<circle clip-path=\"url(#clip392)\" cx=\"1456.78\" cy=\"766.933\" r=\"14.4\" fill=\"#0000ff\" fill-rule=\"evenodd\" fill-opacity=\"1\" stroke=\"#000000\" stroke-opacity=\"1\" stroke-width=\"3.2\"/>\n",
       "<circle clip-path=\"url(#clip392)\" cx=\"1589.56\" cy=\"648.888\" r=\"14.4\" fill=\"#0000ff\" fill-rule=\"evenodd\" fill-opacity=\"1\" stroke=\"#000000\" stroke-opacity=\"1\" stroke-width=\"3.2\"/>\n",
       "<circle clip-path=\"url(#clip392)\" cx=\"1622.28\" cy=\"657.073\" r=\"14.4\" fill=\"#0000ff\" fill-rule=\"evenodd\" fill-opacity=\"1\" stroke=\"#000000\" stroke-opacity=\"1\" stroke-width=\"3.2\"/>\n",
       "<circle clip-path=\"url(#clip392)\" cx=\"1633.13\" cy=\"682.592\" r=\"14.4\" fill=\"#0000ff\" fill-rule=\"evenodd\" fill-opacity=\"1\" stroke=\"#000000\" stroke-opacity=\"1\" stroke-width=\"3.2\"/>\n",
       "<circle clip-path=\"url(#clip392)\" cx=\"1583.67\" cy=\"697.536\" r=\"14.4\" fill=\"#0000ff\" fill-rule=\"evenodd\" fill-opacity=\"1\" stroke=\"#000000\" stroke-opacity=\"1\" stroke-width=\"3.2\"/>\n",
       "<circle clip-path=\"url(#clip392)\" cx=\"1665.94\" cy=\"669.113\" r=\"14.4\" fill=\"#0000ff\" fill-rule=\"evenodd\" fill-opacity=\"1\" stroke=\"#000000\" stroke-opacity=\"1\" stroke-width=\"3.2\"/>\n",
       "<circle clip-path=\"url(#clip392)\" cx=\"1645.82\" cy=\"653.931\" r=\"14.4\" fill=\"#0000ff\" fill-rule=\"evenodd\" fill-opacity=\"1\" stroke=\"#000000\" stroke-opacity=\"1\" stroke-width=\"3.2\"/>\n",
       "<circle clip-path=\"url(#clip392)\" cx=\"1429.42\" cy=\"781.899\" r=\"14.4\" fill=\"#0000ff\" fill-rule=\"evenodd\" fill-opacity=\"1\" stroke=\"#000000\" stroke-opacity=\"1\" stroke-width=\"3.2\"/>\n",
       "<circle clip-path=\"url(#clip392)\" cx=\"1484.26\" cy=\"751.884\" r=\"14.4\" fill=\"#0000ff\" fill-rule=\"evenodd\" fill-opacity=\"1\" stroke=\"#000000\" stroke-opacity=\"1\" stroke-width=\"3.2\"/>\n",
       "<circle clip-path=\"url(#clip392)\" cx=\"1564.33\" cy=\"708.116\" r=\"14.4\" fill=\"#0000ff\" fill-rule=\"evenodd\" fill-opacity=\"1\" stroke=\"#000000\" stroke-opacity=\"1\" stroke-width=\"3.2\"/>\n",
       "<circle clip-path=\"url(#clip392)\" cx=\"1563.61\" cy=\"620.266\" r=\"14.4\" fill=\"#0000ff\" fill-rule=\"evenodd\" fill-opacity=\"1\" stroke=\"#000000\" stroke-opacity=\"1\" stroke-width=\"3.2\"/>\n",
       "<circle clip-path=\"url(#clip392)\" cx=\"1544.04\" cy=\"719.111\" r=\"14.4\" fill=\"#0000ff\" fill-rule=\"evenodd\" fill-opacity=\"1\" stroke=\"#000000\" stroke-opacity=\"1\" stroke-width=\"3.2\"/>\n",
       "<circle clip-path=\"url(#clip392)\" cx=\"1594.41\" cy=\"691.662\" r=\"14.4\" fill=\"#0000ff\" fill-rule=\"evenodd\" fill-opacity=\"1\" stroke=\"#000000\" stroke-opacity=\"1\" stroke-width=\"3.2\"/>\n",
       "<circle clip-path=\"url(#clip392)\" cx=\"1641.82\" cy=\"332.784\" r=\"14.4\" fill=\"#0000ff\" fill-rule=\"evenodd\" fill-opacity=\"1\" stroke=\"#000000\" stroke-opacity=\"1\" stroke-width=\"3.2\"/>\n",
       "<circle clip-path=\"url(#clip392)\" cx=\"1641.85\" cy=\"681.042\" r=\"14.4\" fill=\"#0000ff\" fill-rule=\"evenodd\" fill-opacity=\"1\" stroke=\"#000000\" stroke-opacity=\"1\" stroke-width=\"3.2\"/>\n",
       "<circle clip-path=\"url(#clip392)\" cx=\"1643.04\" cy=\"665.082\" r=\"14.4\" fill=\"#0000ff\" fill-rule=\"evenodd\" fill-opacity=\"1\" stroke=\"#000000\" stroke-opacity=\"1\" stroke-width=\"3.2\"/>\n",
       "<circle clip-path=\"url(#clip392)\" cx=\"1593.41\" cy=\"692.208\" r=\"14.4\" fill=\"#0000ff\" fill-rule=\"evenodd\" fill-opacity=\"1\" stroke=\"#000000\" stroke-opacity=\"1\" stroke-width=\"3.2\"/>\n",
       "<circle clip-path=\"url(#clip392)\" cx=\"1666.71\" cy=\"652.12\" r=\"14.4\" fill=\"#0000ff\" fill-rule=\"evenodd\" fill-opacity=\"1\" stroke=\"#000000\" stroke-opacity=\"1\" stroke-width=\"3.2\"/>\n",
       "<circle clip-path=\"url(#clip392)\" cx=\"1617.25\" cy=\"679.171\" r=\"14.4\" fill=\"#0000ff\" fill-rule=\"evenodd\" fill-opacity=\"1\" stroke=\"#000000\" stroke-opacity=\"1\" stroke-width=\"3.2\"/>\n",
       "<circle clip-path=\"url(#clip392)\" cx=\"1855.37\" cy=\"647.34\" r=\"14.4\" fill=\"#0000ff\" fill-rule=\"evenodd\" fill-opacity=\"1\" stroke=\"#000000\" stroke-opacity=\"1\" stroke-width=\"3.2\"/>\n",
       "<circle clip-path=\"url(#clip392)\" cx=\"2259.16\" cy=\"664.304\" r=\"14.4\" fill=\"#0000ff\" fill-rule=\"evenodd\" fill-opacity=\"1\" stroke=\"#000000\" stroke-opacity=\"1\" stroke-width=\"3.2\"/>\n",
       "<circle clip-path=\"url(#clip392)\" cx=\"1559.06\" cy=\"175.847\" r=\"14.4\" fill=\"#0000ff\" fill-rule=\"evenodd\" fill-opacity=\"1\" stroke=\"#000000\" stroke-opacity=\"1\" stroke-width=\"3.2\"/>\n",
       "<circle clip-path=\"url(#clip392)\" cx=\"2266.66\" cy=\"665.015\" r=\"14.4\" fill=\"#0000ff\" fill-rule=\"evenodd\" fill-opacity=\"1\" stroke=\"#000000\" stroke-opacity=\"1\" stroke-width=\"3.2\"/>\n",
       "<path clip-path=\"url(#clip392)\" d=\"M530.638 1201.34 L513.718 1250.01 L462.166 1251.09 L503.278 1282.27 L488.302 1331.59 L530.638 1302.14 L572.974 1331.59 L557.998 1282.27 L599.11 1251.09 L547.558 1250.01 L530.638 1201.34 Z\" fill=\"#800080\" fill-rule=\"evenodd\" fill-opacity=\"1\" stroke=\"#000000\" stroke-opacity=\"1\" stroke-width=\"3.2\"/>\n",
       "</svg>\n"
      ]
     },
     "execution_count": 21,
     "metadata": {},
     "output_type": "execute_result"
    }
   ],
   "source": [
    "scatter( map(x->x[1],points_projection) , map(x->x[2],points_projection) , markercolor= map(x->x[3],points) , title=\"projected\" , legend=false )\n",
    "scatter!( [point_new_high_Dim[1]] , [point_new_high_Dim[2]] , markershape=:star , markersize=18 , markercolor = \"purple\" )"
   ]
  },
  {
   "cell_type": "code",
   "execution_count": null,
   "metadata": {},
   "outputs": [],
   "source": []
  },
  {
   "cell_type": "code",
   "execution_count": null,
   "metadata": {},
   "outputs": [],
   "source": []
  },
  {
   "cell_type": "code",
   "execution_count": null,
   "metadata": {},
   "outputs": [],
   "source": []
  },
  {
   "cell_type": "code",
   "execution_count": 22,
   "metadata": {},
   "outputs": [],
   "source": [
    "using RDatasets"
   ]
  },
  {
   "cell_type": "code",
   "execution_count": 23,
   "metadata": {},
   "outputs": [],
   "source": [
    "iris = dataset(\"datasets\",\"iris\");"
   ]
  },
  {
   "cell_type": "code",
   "execution_count": 43,
   "metadata": {},
   "outputs": [],
   "source": [
    "iris_X = Matrix(iris[:,1:4])\n",
    "iris_Y = Vector(iris[:,5]);"
   ]
  },
  {
   "cell_type": "code",
   "execution_count": 406,
   "metadata": {},
   "outputs": [
    {
     "data": {
      "text/plain": [
       "kernelIris (generic function with 1 method)"
      ]
     },
     "execution_count": 406,
     "metadata": {},
     "output_type": "execute_result"
    }
   ],
   "source": [
    "kernel_type = \"rbf\"\n",
    "function kernelIris(xi,xj)\n",
    "    if( kernel_type == \"polynomial\" )\n",
    "        \n",
    "        return (xi' * xj + 4)^2\n",
    "    elseif( kernel_type == \"rbf\" )\n",
    "        h = 1/2\n",
    "        diff = xi .- xj\n",
    "        sum_tmp = sum( diff.^2 ) ./ std(iris_X)^2\n",
    "        return 1/2 * exp( (-1) * h * ( sum_tmp ) )\n",
    "        #return exp( (-1/10) * sum(map(x->abs(x), xi[1:2] .- xj[1:2] ))^2 )\n",
    "    end\n",
    "end"
   ]
  },
  {
   "cell_type": "code",
   "execution_count": 407,
   "metadata": {},
   "outputs": [
    {
     "data": {
      "text/plain": [
       "0.023635876321037145"
      ]
     },
     "execution_count": 407,
     "metadata": {},
     "output_type": "execute_result"
    }
   ],
   "source": [
    "kernelIris( iris_X[1,:] , iris_X[133,:]   )"
   ]
  },
  {
   "cell_type": "code",
   "execution_count": 408,
   "metadata": {},
   "outputs": [],
   "source": [
    "kernal_mat = zeros(150,150)\n",
    "[ kernal_mat[i,j] = kernelIris(iris_X[i,:],iris_X[j,:])  for i in 1:150 for j in 1:150 ];\n",
    "kernal_mat;"
   ]
  },
  {
   "cell_type": "code",
   "execution_count": 409,
   "metadata": {},
   "outputs": [],
   "source": [
    "kernal_mat = kernal_mat .- mean( kernal_mat ) ;#centering"
   ]
  },
  {
   "cell_type": "code",
   "execution_count": 410,
   "metadata": {},
   "outputs": [],
   "source": [
    "eigvecs_kernel = eigvecs( kernal_mat );"
   ]
  },
  {
   "cell_type": "code",
   "execution_count": 411,
   "metadata": {},
   "outputs": [],
   "source": [
    "eigvals_kernel = eigvals( kernal_mat );"
   ]
  },
  {
   "cell_type": "code",
   "execution_count": 412,
   "metadata": {},
   "outputs": [
    {
     "data": {
      "text/plain": [
       "2-element Vector{Int64}:\n",
       " 150\n",
       " 149"
      ]
     },
     "execution_count": 412,
     "metadata": {},
     "output_type": "execute_result"
    }
   ],
   "source": [
    "vals = sort(eigvals_kernel,rev=true)[1:2]\n",
    "inds = map( v -> findall( eigvals_kernel .== v )[1] , vals )"
   ]
  },
  {
   "cell_type": "code",
   "execution_count": 413,
   "metadata": {},
   "outputs": [],
   "source": [
    "phi_vecs = kernal_mat[ : , inds ];"
   ]
  },
  {
   "cell_type": "code",
   "execution_count": 414,
   "metadata": {},
   "outputs": [
    {
     "data": {
      "text/plain": [
       "Point2HigherDim (generic function with 1 method)"
      ]
     },
     "execution_count": 414,
     "metadata": {},
     "output_type": "execute_result"
    }
   ],
   "source": [
    "function Point2HigherDim( point_new , points ) #find the point projection in the higher dimension\n",
    "    map( i -> kernelIris( point_new , points[i,:] ) , 1:150 )\n",
    "end"
   ]
  },
  {
   "cell_type": "code",
   "execution_count": 415,
   "metadata": {},
   "outputs": [],
   "source": [
    "Point2HigherDim( iris_X[1,:] , iris_X ) ;#map first point"
   ]
  },
  {
   "cell_type": "code",
   "execution_count": 416,
   "metadata": {},
   "outputs": [
    {
     "name": "stdout",
     "output_type": "stream",
     "text": [
      "150\n",
      "150\n"
     ]
    }
   ],
   "source": [
    "#map all original points\n",
    "points_higherDim = map( i -> Point2HigherDim( iris_X[i,:] , iris_X ) , 1:150 );\n",
    "println( length( points_higherDim ) )\n",
    "println( length( points_higherDim[1] ) );"
   ]
  },
  {
   "cell_type": "code",
   "execution_count": 417,
   "metadata": {},
   "outputs": [
    {
     "data": {
      "text/plain": [
       "2-element Vector{Float64}:\n",
       " -3.492962130746504\n",
       " -4.664929596234954"
      ]
     },
     "execution_count": 417,
     "metadata": {},
     "output_type": "execute_result"
    }
   ],
   "source": [
    "phi_vecs' * points_higherDim[1] # 1 point projection"
   ]
  },
  {
   "cell_type": "code",
   "execution_count": 418,
   "metadata": {},
   "outputs": [
    {
     "name": "stdout",
     "output_type": "stream",
     "text": [
      "[-3.492962130746504, -4.664929596234954]\n"
     ]
    }
   ],
   "source": [
    "points_projection = map( i -> phi_vecs' * points_higherDim[i] , 1:150 )\n",
    "println( points_projection[1] )\n",
    "length( points_projection );"
   ]
  },
  {
   "cell_type": "code",
   "execution_count": 419,
   "metadata": {},
   "outputs": [],
   "source": [
    "cols = []\n",
    "shapes = []\n",
    "for i in 1:150\n",
    "    if(i<51)\n",
    "        push!(cols,\"red\")\n",
    "        push!(shapes,:square)\n",
    "    elseif(i<101)\n",
    "        push!(cols,\"blue\")\n",
    "        push!(shapes,:circle)\n",
    "    else\n",
    "        push!(cols,\"green\")\n",
    "        push!(shapes,:star)\n",
    "    end\n",
    "end\n",
    "cols;"
   ]
  },
  {
   "cell_type": "code",
   "execution_count": 420,
   "metadata": {},
   "outputs": [
    {
     "data": {
      "image/svg+xml": [
       "<?xml version=\"1.0\" encoding=\"utf-8\"?>\n",
       "<svg xmlns=\"http://www.w3.org/2000/svg\" xmlns:xlink=\"http://www.w3.org/1999/xlink\" width=\"600\" height=\"400\" viewBox=\"0 0 2400 1600\">\n",
       "<defs>\n",
       "  <clipPath id=\"clip530\">\n",
       "    <rect x=\"0\" y=\"0\" width=\"2400\" height=\"1600\"/>\n",
       "  </clipPath>\n",
       "</defs>\n",
       "<path clip-path=\"url(#clip530)\" d=\"\n",
       "M0 1600 L2400 1600 L2400 0 L0 0  Z\n",
       "  \" fill=\"#ffffff\" fill-rule=\"evenodd\" fill-opacity=\"1\"/>\n",
       "<defs>\n",
       "  <clipPath id=\"clip531\">\n",
       "    <rect x=\"480\" y=\"0\" width=\"1681\" height=\"1600\"/>\n",
       "  </clipPath>\n",
       "</defs>\n",
       "<path clip-path=\"url(#clip530)\" d=\"\n",
       "M149.191 1486.45 L2352.76 1486.45 L2352.76 123.472 L149.191 123.472  Z\n",
       "  \" fill=\"#ffffff\" fill-rule=\"evenodd\" fill-opacity=\"1\"/>\n",
       "<defs>\n",
       "  <clipPath id=\"clip532\">\n",
       "    <rect x=\"149\" y=\"123\" width=\"2205\" height=\"1364\"/>\n",
       "  </clipPath>\n",
       "</defs>\n",
       "<polyline clip-path=\"url(#clip532)\" style=\"stroke:#000000; stroke-linecap:round; stroke-linejoin:round; stroke-width:2; stroke-opacity:0.1; fill:none\" points=\"\n",
       "  459.234,1486.45 459.234,123.472 \n",
       "  \"/>\n",
       "<polyline clip-path=\"url(#clip532)\" style=\"stroke:#000000; stroke-linecap:round; stroke-linejoin:round; stroke-width:2; stroke-opacity:0.1; fill:none\" points=\"\n",
       "  955.166,1486.45 955.166,123.472 \n",
       "  \"/>\n",
       "<polyline clip-path=\"url(#clip532)\" style=\"stroke:#000000; stroke-linecap:round; stroke-linejoin:round; stroke-width:2; stroke-opacity:0.1; fill:none\" points=\"\n",
       "  1451.1,1486.45 1451.1,123.472 \n",
       "  \"/>\n",
       "<polyline clip-path=\"url(#clip532)\" style=\"stroke:#000000; stroke-linecap:round; stroke-linejoin:round; stroke-width:2; stroke-opacity:0.1; fill:none\" points=\"\n",
       "  1947.03,1486.45 1947.03,123.472 \n",
       "  \"/>\n",
       "<polyline clip-path=\"url(#clip530)\" style=\"stroke:#000000; stroke-linecap:round; stroke-linejoin:round; stroke-width:4; stroke-opacity:1; fill:none\" points=\"\n",
       "  149.191,1486.45 2352.76,1486.45 \n",
       "  \"/>\n",
       "<polyline clip-path=\"url(#clip530)\" style=\"stroke:#000000; stroke-linecap:round; stroke-linejoin:round; stroke-width:4; stroke-opacity:1; fill:none\" points=\"\n",
       "  459.234,1486.45 459.234,1467.55 \n",
       "  \"/>\n",
       "<polyline clip-path=\"url(#clip530)\" style=\"stroke:#000000; stroke-linecap:round; stroke-linejoin:round; stroke-width:4; stroke-opacity:1; fill:none\" points=\"\n",
       "  955.166,1486.45 955.166,1467.55 \n",
       "  \"/>\n",
       "<polyline clip-path=\"url(#clip530)\" style=\"stroke:#000000; stroke-linecap:round; stroke-linejoin:round; stroke-width:4; stroke-opacity:1; fill:none\" points=\"\n",
       "  1451.1,1486.45 1451.1,1467.55 \n",
       "  \"/>\n",
       "<polyline clip-path=\"url(#clip530)\" style=\"stroke:#000000; stroke-linecap:round; stroke-linejoin:round; stroke-width:4; stroke-opacity:1; fill:none\" points=\"\n",
       "  1947.03,1486.45 1947.03,1467.55 \n",
       "  \"/>\n",
       "<path clip-path=\"url(#clip530)\" d=\"M406.26 1532.02 L435.936 1532.02 L435.936 1535.95 L406.26 1535.95 L406.26 1532.02 Z\" fill=\"#000000\" fill-rule=\"evenodd\" fill-opacity=\"1\" /><path clip-path=\"url(#clip530)\" d=\"M450.056 1544.91 L466.375 1544.91 L466.375 1548.85 L444.431 1548.85 L444.431 1544.91 Q447.093 1542.16 451.676 1537.53 Q456.283 1532.88 457.463 1531.53 Q459.709 1529.01 460.588 1527.27 Q461.491 1525.51 461.491 1523.82 Q461.491 1521.07 459.547 1519.33 Q457.625 1517.6 454.523 1517.6 Q452.324 1517.6 449.871 1518.36 Q447.44 1519.13 444.662 1520.68 L444.662 1515.95 Q447.486 1514.82 449.94 1514.24 Q452.394 1513.66 454.431 1513.66 Q459.801 1513.66 462.996 1516.35 Q466.19 1519.03 466.19 1523.52 Q466.19 1525.65 465.38 1527.57 Q464.593 1529.47 462.486 1532.07 Q461.908 1532.74 458.806 1535.95 Q455.704 1539.15 450.056 1544.91 Z\" fill=\"#000000\" fill-rule=\"evenodd\" fill-opacity=\"1\" /><path clip-path=\"url(#clip530)\" d=\"M476.19 1542.97 L481.074 1542.97 L481.074 1548.85 L476.19 1548.85 L476.19 1542.97 Z\" fill=\"#000000\" fill-rule=\"evenodd\" fill-opacity=\"1\" /><path clip-path=\"url(#clip530)\" d=\"M491.306 1514.29 L509.662 1514.29 L509.662 1518.22 L495.588 1518.22 L495.588 1526.7 Q496.607 1526.35 497.625 1526.19 Q498.644 1526 499.662 1526 Q505.449 1526 508.829 1529.17 Q512.208 1532.34 512.208 1537.76 Q512.208 1543.34 508.736 1546.44 Q505.264 1549.52 498.945 1549.52 Q496.769 1549.52 494.5 1549.15 Q492.255 1548.78 489.847 1548.04 L489.847 1543.34 Q491.931 1544.47 494.153 1545.03 Q496.375 1545.58 498.852 1545.58 Q502.857 1545.58 505.195 1543.48 Q507.532 1541.37 507.532 1537.76 Q507.532 1534.15 505.195 1532.04 Q502.857 1529.94 498.852 1529.94 Q496.977 1529.94 495.102 1530.35 Q493.25 1530.77 491.306 1531.65 L491.306 1514.29 Z\" fill=\"#000000\" fill-rule=\"evenodd\" fill-opacity=\"1\" /><path clip-path=\"url(#clip530)\" d=\"M932.551 1517.37 Q928.94 1517.37 927.111 1520.93 Q925.305 1524.47 925.305 1531.6 Q925.305 1538.71 927.111 1542.27 Q928.94 1545.82 932.551 1545.82 Q936.185 1545.82 937.99 1542.27 Q939.819 1538.71 939.819 1531.6 Q939.819 1524.47 937.99 1520.93 Q936.185 1517.37 932.551 1517.37 M932.551 1513.66 Q938.361 1513.66 941.416 1518.27 Q944.495 1522.85 944.495 1531.6 Q944.495 1540.33 941.416 1544.94 Q938.361 1549.52 932.551 1549.52 Q926.741 1549.52 923.662 1544.94 Q920.606 1540.33 920.606 1531.6 Q920.606 1522.85 923.662 1518.27 Q926.741 1513.66 932.551 1513.66 Z\" fill=\"#000000\" fill-rule=\"evenodd\" fill-opacity=\"1\" /><path clip-path=\"url(#clip530)\" d=\"M952.713 1542.97 L957.597 1542.97 L957.597 1548.85 L952.713 1548.85 L952.713 1542.97 Z\" fill=\"#000000\" fill-rule=\"evenodd\" fill-opacity=\"1\" /><path clip-path=\"url(#clip530)\" d=\"M977.782 1517.37 Q974.171 1517.37 972.342 1520.93 Q970.537 1524.47 970.537 1531.6 Q970.537 1538.71 972.342 1542.27 Q974.171 1545.82 977.782 1545.82 Q981.416 1545.82 983.222 1542.27 Q985.05 1538.71 985.05 1531.6 Q985.05 1524.47 983.222 1520.93 Q981.416 1517.37 977.782 1517.37 M977.782 1513.66 Q983.592 1513.66 986.648 1518.27 Q989.726 1522.85 989.726 1531.6 Q989.726 1540.33 986.648 1544.94 Q983.592 1549.52 977.782 1549.52 Q971.972 1549.52 968.893 1544.94 Q965.838 1540.33 965.838 1531.6 Q965.838 1522.85 968.893 1518.27 Q971.972 1513.66 977.782 1513.66 Z\" fill=\"#000000\" fill-rule=\"evenodd\" fill-opacity=\"1\" /><path clip-path=\"url(#clip530)\" d=\"M1422.83 1544.91 L1439.15 1544.91 L1439.15 1548.85 L1417.21 1548.85 L1417.21 1544.91 Q1419.87 1542.16 1424.46 1537.53 Q1429.06 1532.88 1430.24 1531.53 Q1432.49 1529.01 1433.37 1527.27 Q1434.27 1525.51 1434.27 1523.82 Q1434.27 1521.07 1432.33 1519.33 Q1430.4 1517.6 1427.3 1517.6 Q1425.1 1517.6 1422.65 1518.36 Q1420.22 1519.13 1417.44 1520.68 L1417.44 1515.95 Q1420.27 1514.82 1422.72 1514.24 Q1425.17 1513.66 1427.21 1513.66 Q1432.58 1513.66 1435.77 1516.35 Q1438.97 1519.03 1438.97 1523.52 Q1438.97 1525.65 1438.16 1527.57 Q1437.37 1529.47 1435.27 1532.07 Q1434.69 1532.74 1431.58 1535.95 Q1428.48 1539.15 1422.83 1544.91 Z\" fill=\"#000000\" fill-rule=\"evenodd\" fill-opacity=\"1\" /><path clip-path=\"url(#clip530)\" d=\"M1448.97 1542.97 L1453.85 1542.97 L1453.85 1548.85 L1448.97 1548.85 L1448.97 1542.97 Z\" fill=\"#000000\" fill-rule=\"evenodd\" fill-opacity=\"1\" /><path clip-path=\"url(#clip530)\" d=\"M1464.08 1514.29 L1482.44 1514.29 L1482.44 1518.22 L1468.37 1518.22 L1468.37 1526.7 Q1469.39 1526.35 1470.4 1526.19 Q1471.42 1526 1472.44 1526 Q1478.23 1526 1481.61 1529.17 Q1484.99 1532.34 1484.99 1537.76 Q1484.99 1543.34 1481.51 1546.44 Q1478.04 1549.52 1471.72 1549.52 Q1469.55 1549.52 1467.28 1549.15 Q1465.03 1548.78 1462.63 1548.04 L1462.63 1543.34 Q1464.71 1544.47 1466.93 1545.03 Q1469.15 1545.58 1471.63 1545.58 Q1475.64 1545.58 1477.97 1543.48 Q1480.31 1541.37 1480.31 1537.76 Q1480.31 1534.15 1477.97 1532.04 Q1475.64 1529.94 1471.63 1529.94 Q1469.76 1529.94 1467.88 1530.35 Q1466.03 1530.77 1464.08 1531.65 L1464.08 1514.29 Z\" fill=\"#000000\" fill-rule=\"evenodd\" fill-opacity=\"1\" /><path clip-path=\"url(#clip530)\" d=\"M1914.2 1514.29 L1932.55 1514.29 L1932.55 1518.22 L1918.48 1518.22 L1918.48 1526.7 Q1919.5 1526.35 1920.51 1526.19 Q1921.53 1526 1922.55 1526 Q1928.34 1526 1931.72 1529.17 Q1935.1 1532.34 1935.1 1537.76 Q1935.1 1543.34 1931.63 1546.44 Q1928.15 1549.52 1921.83 1549.52 Q1919.66 1549.52 1917.39 1549.15 Q1915.14 1548.78 1912.74 1548.04 L1912.74 1543.34 Q1914.82 1544.47 1917.04 1545.03 Q1919.26 1545.58 1921.74 1545.58 Q1925.75 1545.58 1928.08 1543.48 Q1930.42 1541.37 1930.42 1537.76 Q1930.42 1534.15 1928.08 1532.04 Q1925.75 1529.94 1921.74 1529.94 Q1919.87 1529.94 1917.99 1530.35 Q1916.14 1530.77 1914.2 1531.65 L1914.2 1514.29 Z\" fill=\"#000000\" fill-rule=\"evenodd\" fill-opacity=\"1\" /><path clip-path=\"url(#clip530)\" d=\"M1944.31 1542.97 L1949.19 1542.97 L1949.19 1548.85 L1944.31 1548.85 L1944.31 1542.97 Z\" fill=\"#000000\" fill-rule=\"evenodd\" fill-opacity=\"1\" /><path clip-path=\"url(#clip530)\" d=\"M1969.38 1517.37 Q1965.77 1517.37 1963.94 1520.93 Q1962.13 1524.47 1962.13 1531.6 Q1962.13 1538.71 1963.94 1542.27 Q1965.77 1545.82 1969.38 1545.82 Q1973.01 1545.82 1974.82 1542.27 Q1976.65 1538.71 1976.65 1531.6 Q1976.65 1524.47 1974.82 1520.93 Q1973.01 1517.37 1969.38 1517.37 M1969.38 1513.66 Q1975.19 1513.66 1978.25 1518.27 Q1981.32 1522.85 1981.32 1531.6 Q1981.32 1540.33 1978.25 1544.94 Q1975.19 1549.52 1969.38 1549.52 Q1963.57 1549.52 1960.49 1544.94 Q1957.44 1540.33 1957.44 1531.6 Q1957.44 1522.85 1960.49 1518.27 Q1963.57 1513.66 1969.38 1513.66 Z\" fill=\"#000000\" fill-rule=\"evenodd\" fill-opacity=\"1\" /><polyline clip-path=\"url(#clip532)\" style=\"stroke:#000000; stroke-linecap:round; stroke-linejoin:round; stroke-width:2; stroke-opacity:0.1; fill:none\" points=\"\n",
       "  149.191,1357.97 2352.76,1357.97 \n",
       "  \"/>\n",
       "<polyline clip-path=\"url(#clip532)\" style=\"stroke:#000000; stroke-linecap:round; stroke-linejoin:round; stroke-width:2; stroke-opacity:0.1; fill:none\" points=\"\n",
       "  149.191,1106.5 2352.76,1106.5 \n",
       "  \"/>\n",
       "<polyline clip-path=\"url(#clip532)\" style=\"stroke:#000000; stroke-linecap:round; stroke-linejoin:round; stroke-width:2; stroke-opacity:0.1; fill:none\" points=\"\n",
       "  149.191,855.026 2352.76,855.026 \n",
       "  \"/>\n",
       "<polyline clip-path=\"url(#clip532)\" style=\"stroke:#000000; stroke-linecap:round; stroke-linejoin:round; stroke-width:2; stroke-opacity:0.1; fill:none\" points=\"\n",
       "  149.191,603.556 2352.76,603.556 \n",
       "  \"/>\n",
       "<polyline clip-path=\"url(#clip532)\" style=\"stroke:#000000; stroke-linecap:round; stroke-linejoin:round; stroke-width:2; stroke-opacity:0.1; fill:none\" points=\"\n",
       "  149.191,352.085 2352.76,352.085 \n",
       "  \"/>\n",
       "<polyline clip-path=\"url(#clip530)\" style=\"stroke:#000000; stroke-linecap:round; stroke-linejoin:round; stroke-width:4; stroke-opacity:1; fill:none\" points=\"\n",
       "  149.191,1486.45 149.191,123.472 \n",
       "  \"/>\n",
       "<polyline clip-path=\"url(#clip530)\" style=\"stroke:#000000; stroke-linecap:round; stroke-linejoin:round; stroke-width:4; stroke-opacity:1; fill:none\" points=\"\n",
       "  149.191,1357.97 168.089,1357.97 \n",
       "  \"/>\n",
       "<polyline clip-path=\"url(#clip530)\" style=\"stroke:#000000; stroke-linecap:round; stroke-linejoin:round; stroke-width:4; stroke-opacity:1; fill:none\" points=\"\n",
       "  149.191,1106.5 168.089,1106.5 \n",
       "  \"/>\n",
       "<polyline clip-path=\"url(#clip530)\" style=\"stroke:#000000; stroke-linecap:round; stroke-linejoin:round; stroke-width:4; stroke-opacity:1; fill:none\" points=\"\n",
       "  149.191,855.026 168.089,855.026 \n",
       "  \"/>\n",
       "<polyline clip-path=\"url(#clip530)\" style=\"stroke:#000000; stroke-linecap:round; stroke-linejoin:round; stroke-width:4; stroke-opacity:1; fill:none\" points=\"\n",
       "  149.191,603.556 168.089,603.556 \n",
       "  \"/>\n",
       "<polyline clip-path=\"url(#clip530)\" style=\"stroke:#000000; stroke-linecap:round; stroke-linejoin:round; stroke-width:4; stroke-opacity:1; fill:none\" points=\"\n",
       "  149.191,352.085 168.089,352.085 \n",
       "  \"/>\n",
       "<path clip-path=\"url(#clip530)\" d=\"M50.9921 1358.42 L80.6679 1358.42 L80.6679 1362.35 L50.9921 1362.35 L50.9921 1358.42 Z\" fill=\"#000000\" fill-rule=\"evenodd\" fill-opacity=\"1\" /><path clip-path=\"url(#clip530)\" d=\"M103.608 1344.76 L91.8021 1363.21 L103.608 1363.21 L103.608 1344.76 M102.381 1340.69 L108.26 1340.69 L108.26 1363.21 L113.191 1363.21 L113.191 1367.1 L108.26 1367.1 L108.26 1375.25 L103.608 1375.25 L103.608 1367.1 L88.0058 1367.1 L88.0058 1362.59 L102.381 1340.69 Z\" fill=\"#000000\" fill-rule=\"evenodd\" fill-opacity=\"1\" /><path clip-path=\"url(#clip530)\" d=\"M53.0754 1106.95 L82.7512 1106.95 L82.7512 1110.88 L53.0754 1110.88 L53.0754 1106.95 Z\" fill=\"#000000\" fill-rule=\"evenodd\" fill-opacity=\"1\" /><path clip-path=\"url(#clip530)\" d=\"M96.8715 1119.84 L113.191 1119.84 L113.191 1123.78 L91.2465 1123.78 L91.2465 1119.84 Q93.9086 1117.09 98.4919 1112.46 Q103.098 1107.8 104.279 1106.46 Q106.524 1103.94 107.404 1102.2 Q108.307 1100.44 108.307 1098.75 Q108.307 1096 106.362 1094.26 Q104.441 1092.53 101.339 1092.53 Q99.14 1092.53 96.6863 1093.29 Q94.2558 1094.05 91.478 1095.61 L91.478 1090.88 Q94.3021 1089.75 96.7558 1089.17 Q99.2095 1088.59 101.246 1088.59 Q106.617 1088.59 109.811 1091.28 Q113.006 1093.96 113.006 1098.45 Q113.006 1100.58 112.196 1102.5 Q111.408 1104.4 109.302 1106.99 Q108.723 1107.67 105.621 1110.88 Q102.52 1114.08 96.8715 1119.84 Z\" fill=\"#000000\" fill-rule=\"evenodd\" fill-opacity=\"1\" /><path clip-path=\"url(#clip530)\" d=\"M101.246 840.825 Q97.6354 840.825 95.8067 844.39 Q94.0012 847.932 94.0012 855.061 Q94.0012 862.168 95.8067 865.732 Q97.6354 869.274 101.246 869.274 Q104.881 869.274 106.686 865.732 Q108.515 862.168 108.515 855.061 Q108.515 847.932 106.686 844.39 Q104.881 840.825 101.246 840.825 M101.246 837.121 Q107.057 837.121 110.112 841.728 Q113.191 846.311 113.191 855.061 Q113.191 863.788 110.112 868.394 Q107.057 872.978 101.246 872.978 Q95.4363 872.978 92.3576 868.394 Q89.3021 863.788 89.3021 855.061 Q89.3021 846.311 92.3576 841.728 Q95.4363 837.121 101.246 837.121 Z\" fill=\"#000000\" fill-rule=\"evenodd\" fill-opacity=\"1\" /><path clip-path=\"url(#clip530)\" d=\"M96.8715 616.901 L113.191 616.901 L113.191 620.836 L91.2465 620.836 L91.2465 616.901 Q93.9086 614.146 98.4919 609.516 Q103.098 604.864 104.279 603.521 Q106.524 600.998 107.404 599.262 Q108.307 597.503 108.307 595.813 Q108.307 593.058 106.362 591.322 Q104.441 589.586 101.339 589.586 Q99.14 589.586 96.6863 590.35 Q94.2558 591.114 91.478 592.665 L91.478 587.942 Q94.3021 586.808 96.7558 586.23 Q99.2095 585.651 101.246 585.651 Q106.617 585.651 109.811 588.336 Q113.006 591.021 113.006 595.512 Q113.006 597.642 112.196 599.563 Q111.408 601.461 109.302 604.054 Q108.723 604.725 105.621 607.942 Q102.52 611.137 96.8715 616.901 Z\" fill=\"#000000\" fill-rule=\"evenodd\" fill-opacity=\"1\" /><path clip-path=\"url(#clip530)\" d=\"M103.608 338.879 L91.8021 357.328 L103.608 357.328 L103.608 338.879 M102.381 334.805 L108.26 334.805 L108.26 357.328 L113.191 357.328 L113.191 361.217 L108.26 361.217 L108.26 369.365 L103.608 369.365 L103.608 361.217 L88.0058 361.217 L88.0058 356.703 L102.381 334.805 Z\" fill=\"#000000\" fill-rule=\"evenodd\" fill-opacity=\"1\" /><path clip-path=\"url(#clip530)\" d=\"M1070.18 65.7705 L1070.18 89.8329 L1062.69 89.8329 L1062.69 27.2059 L1070.18 27.2059 L1070.18 34.0924 Q1072.53 30.0415 1076.1 28.0971 Q1079.7 26.1121 1084.68 26.1121 Q1092.95 26.1121 1098.09 32.6746 Q1103.28 39.2371 1103.28 49.9314 Q1103.28 60.6258 1098.09 67.1883 Q1092.95 73.7508 1084.68 73.7508 Q1079.7 73.7508 1076.1 71.8063 Q1072.53 69.8214 1070.18 65.7705 M1095.54 49.9314 Q1095.54 41.7081 1092.14 37.0496 Q1088.78 32.3505 1082.86 32.3505 Q1076.95 32.3505 1073.54 37.0496 Q1070.18 41.7081 1070.18 49.9314 Q1070.18 58.1548 1073.54 62.8538 Q1076.95 67.5124 1082.86 67.5124 Q1088.78 67.5124 1092.14 62.8538 Q1095.54 58.1548 1095.54 49.9314 Z\" fill=\"#000000\" fill-rule=\"evenodd\" fill-opacity=\"1\" /><path clip-path=\"url(#clip530)\" d=\"M1141.92 34.1734 Q1140.67 33.4443 1139.17 33.1202 Q1137.71 32.7556 1135.93 32.7556 Q1129.61 32.7556 1126.21 36.8875 Q1122.84 40.9789 1122.84 48.6757 L1122.84 72.576 L1115.35 72.576 L1115.35 27.2059 L1122.84 27.2059 L1122.84 34.2544 Q1125.19 30.1225 1128.96 28.1376 Q1132.73 26.1121 1138.12 26.1121 Q1138.88 26.1121 1139.82 26.2337 Q1140.75 26.3147 1141.88 26.5172 L1141.92 34.1734 Z\" fill=\"#000000\" fill-rule=\"evenodd\" fill-opacity=\"1\" /><path clip-path=\"url(#clip530)\" d=\"M1165.5 32.4315 Q1159.5 32.4315 1156.02 37.1306 Q1152.54 41.7891 1152.54 49.9314 Q1152.54 58.0738 1155.98 62.7728 Q1159.46 67.4314 1165.5 67.4314 Q1171.45 67.4314 1174.94 62.7323 Q1178.42 58.0333 1178.42 49.9314 Q1178.42 41.8701 1174.94 37.1711 Q1171.45 32.4315 1165.5 32.4315 M1165.5 26.1121 Q1175.22 26.1121 1180.77 32.4315 Q1186.32 38.7509 1186.32 49.9314 Q1186.32 61.0714 1180.77 67.4314 Q1175.22 73.7508 1165.5 73.7508 Q1155.74 73.7508 1150.19 67.4314 Q1144.68 61.0714 1144.68 49.9314 Q1144.68 38.7509 1150.19 32.4315 Q1155.74 26.1121 1165.5 26.1121 Z\" fill=\"#000000\" fill-rule=\"evenodd\" fill-opacity=\"1\" /><path clip-path=\"url(#clip530)\" d=\"M1198.68 27.2059 L1206.13 27.2059 L1206.13 73.3862 Q1206.13 82.0551 1202.81 85.944 Q1199.53 89.8329 1192.19 89.8329 L1189.36 89.8329 L1189.36 83.5134 L1191.34 83.5134 Q1195.6 83.5134 1197.14 81.5285 Q1198.68 79.5841 1198.68 73.3862 L1198.68 27.2059 M1198.68 9.54393 L1206.13 9.54393 L1206.13 18.9825 L1198.68 18.9825 L1198.68 9.54393 Z\" fill=\"#000000\" fill-rule=\"evenodd\" fill-opacity=\"1\" /><path clip-path=\"url(#clip530)\" d=\"M1260.53 48.0275 L1260.53 51.6733 L1226.26 51.6733 Q1226.75 59.3701 1230.88 63.421 Q1235.05 67.4314 1242.47 67.4314 Q1246.76 67.4314 1250.77 66.3781 Q1254.82 65.3249 1258.79 63.2184 L1258.79 70.267 Q1254.78 71.9684 1250.57 72.8596 Q1246.36 73.7508 1242.02 73.7508 Q1231.16 73.7508 1224.8 67.4314 Q1218.49 61.1119 1218.49 50.3365 Q1218.49 39.1965 1224.48 32.6746 Q1230.52 26.1121 1240.72 26.1121 Q1249.88 26.1121 1255.19 32.0264 Q1260.53 37.9003 1260.53 48.0275 M1253.08 45.84 Q1253 39.7232 1249.64 36.0774 Q1246.31 32.4315 1240.81 32.4315 Q1234.57 32.4315 1230.8 35.9558 Q1227.07 39.4801 1226.51 45.8805 L1253.08 45.84 Z\" fill=\"#000000\" fill-rule=\"evenodd\" fill-opacity=\"1\" /><path clip-path=\"url(#clip530)\" d=\"M1305.42 28.9478 L1305.42 35.9153 Q1302.26 34.1734 1299.06 33.3227 Q1295.9 32.4315 1292.66 32.4315 Q1285.41 32.4315 1281.4 37.0496 Q1277.39 41.6271 1277.39 49.9314 Q1277.39 58.2358 1281.4 62.8538 Q1285.41 67.4314 1292.66 67.4314 Q1295.9 67.4314 1299.06 66.5807 Q1302.26 65.6895 1305.42 63.9476 L1305.42 70.8341 Q1302.3 72.2924 1298.94 73.0216 Q1295.61 73.7508 1291.85 73.7508 Q1281.6 73.7508 1275.56 67.3098 Q1269.53 60.8689 1269.53 49.9314 Q1269.53 38.832 1275.6 32.472 Q1281.72 26.1121 1292.33 26.1121 Q1295.78 26.1121 1299.06 26.8413 Q1302.34 27.5299 1305.42 28.9478 Z\" fill=\"#000000\" fill-rule=\"evenodd\" fill-opacity=\"1\" /><path clip-path=\"url(#clip530)\" d=\"M1325.75 14.324 L1325.75 27.2059 L1341.11 27.2059 L1341.11 32.9987 L1325.75 32.9987 L1325.75 57.6282 Q1325.75 63.1779 1327.25 64.7578 Q1328.79 66.3376 1333.45 66.3376 L1341.11 66.3376 L1341.11 72.576 L1333.45 72.576 Q1324.82 72.576 1321.54 69.3758 Q1318.26 66.1351 1318.26 57.6282 L1318.26 32.9987 L1312.79 32.9987 L1312.79 27.2059 L1318.26 27.2059 L1318.26 14.324 L1325.75 14.324 Z\" fill=\"#000000\" fill-rule=\"evenodd\" fill-opacity=\"1\" /><path clip-path=\"url(#clip530)\" d=\"M1389.72 48.0275 L1389.72 51.6733 L1355.45 51.6733 Q1355.93 59.3701 1360.06 63.421 Q1364.24 67.4314 1371.65 67.4314 Q1375.94 67.4314 1379.95 66.3781 Q1384.01 65.3249 1387.97 63.2184 L1387.97 70.267 Q1383.96 71.9684 1379.75 72.8596 Q1375.54 73.7508 1371.2 73.7508 Q1360.35 73.7508 1353.99 67.4314 Q1347.67 61.1119 1347.67 50.3365 Q1347.67 39.1965 1353.66 32.6746 Q1359.7 26.1121 1369.91 26.1121 Q1379.06 26.1121 1384.37 32.0264 Q1389.72 37.9003 1389.72 48.0275 M1382.26 45.84 Q1382.18 39.7232 1378.82 36.0774 Q1375.5 32.4315 1369.99 32.4315 Q1363.75 32.4315 1359.98 35.9558 Q1356.26 39.4801 1355.69 45.8805 L1382.26 45.84 Z\" fill=\"#000000\" fill-rule=\"evenodd\" fill-opacity=\"1\" /><path clip-path=\"url(#clip530)\" d=\"M1431.81 34.0924 L1431.81 9.54393 L1439.26 9.54393 L1439.26 72.576 L1431.81 72.576 L1431.81 65.7705 Q1429.46 69.8214 1425.85 71.8063 Q1422.29 73.7508 1417.26 73.7508 Q1409.04 73.7508 1403.85 67.1883 Q1398.71 60.6258 1398.71 49.9314 Q1398.71 39.2371 1403.85 32.6746 Q1409.04 26.1121 1417.26 26.1121 Q1422.29 26.1121 1425.85 28.0971 Q1429.46 30.0415 1431.81 34.0924 M1406.41 49.9314 Q1406.41 58.1548 1409.77 62.8538 Q1413.17 67.5124 1419.09 67.5124 Q1425 67.5124 1428.4 62.8538 Q1431.81 58.1548 1431.81 49.9314 Q1431.81 41.7081 1428.4 37.0496 Q1425 32.3505 1419.09 32.3505 Q1413.17 32.3505 1409.77 37.0496 Q1406.41 41.7081 1406.41 49.9314 Z\" fill=\"#000000\" fill-rule=\"evenodd\" fill-opacity=\"1\" /><path clip-path=\"url(#clip532)\" d=\"M246.257 1425.57 L246.257 1457.57 L278.257 1457.57 L278.257 1425.57 L246.257 1425.57 Z\" fill=\"#ff0000\" fill-rule=\"evenodd\" fill-opacity=\"1\" stroke=\"#000000\" stroke-opacity=\"1\" stroke-width=\"3.2\"/>\n",
       "<path clip-path=\"url(#clip532)\" d=\"M266.231 1414.82 L266.231 1446.82 L298.231 1446.82 L298.231 1414.82 L266.231 1414.82 Z\" fill=\"#ff0000\" fill-rule=\"evenodd\" fill-opacity=\"1\" stroke=\"#000000\" stroke-opacity=\"1\" stroke-width=\"3.2\"/>\n",
       "<path clip-path=\"url(#clip532)\" d=\"M228.394 1429.61 L228.394 1461.61 L260.394 1461.61 L260.394 1429.61 L228.394 1429.61 Z\" fill=\"#ff0000\" fill-rule=\"evenodd\" fill-opacity=\"1\" stroke=\"#000000\" stroke-opacity=\"1\" stroke-width=\"3.2\"/>\n",
       "<path clip-path=\"url(#clip532)\" d=\"M268.746 1411.61 L268.746 1443.61 L300.746 1443.61 L300.746 1411.61 L268.746 1411.61 Z\" fill=\"#ff0000\" fill-rule=\"evenodd\" fill-opacity=\"1\" stroke=\"#000000\" stroke-opacity=\"1\" stroke-width=\"3.2\"/>\n",
       "<path clip-path=\"url(#clip532)\" d=\"M238.051 1427.91 L238.051 1459.91 L270.051 1459.91 L270.051 1427.91 L238.051 1427.91 Z\" fill=\"#ff0000\" fill-rule=\"evenodd\" fill-opacity=\"1\" stroke=\"#000000\" stroke-opacity=\"1\" stroke-width=\"3.2\"/>\n",
       "<path clip-path=\"url(#clip532)\" d=\"M367.694 1356.9 L367.694 1388.9 L399.694 1388.9 L399.694 1356.9 L367.694 1356.9 Z\" fill=\"#ff0000\" fill-rule=\"evenodd\" fill-opacity=\"1\" stroke=\"#000000\" stroke-opacity=\"1\" stroke-width=\"3.2\"/>\n",
       "<path clip-path=\"url(#clip532)\" d=\"M240.208 1424.31 L240.208 1456.31 L272.208 1456.31 L272.208 1424.31 L240.208 1424.31 Z\" fill=\"#ff0000\" fill-rule=\"evenodd\" fill-opacity=\"1\" stroke=\"#000000\" stroke-opacity=\"1\" stroke-width=\"3.2\"/>\n",
       "<path clip-path=\"url(#clip532)\" d=\"M261.604 1421.3 L261.604 1453.3 L293.604 1453.3 L293.604 1421.3 L261.604 1421.3 Z\" fill=\"#ff0000\" fill-rule=\"evenodd\" fill-opacity=\"1\" stroke=\"#000000\" stroke-opacity=\"1\" stroke-width=\"3.2\"/>\n",
       "<path clip-path=\"url(#clip532)\" d=\"M276.681 1396.14 L276.681 1428.14 L308.681 1428.14 L308.681 1396.14 L276.681 1396.14 Z\" fill=\"#ff0000\" fill-rule=\"evenodd\" fill-opacity=\"1\" stroke=\"#000000\" stroke-opacity=\"1\" stroke-width=\"3.2\"/>\n",
       "<path clip-path=\"url(#clip532)\" d=\"M269.292 1415.42 L269.292 1447.42 L301.292 1447.42 L301.292 1415.42 L269.292 1415.42 Z\" fill=\"#ff0000\" fill-rule=\"evenodd\" fill-opacity=\"1\" stroke=\"#000000\" stroke-opacity=\"1\" stroke-width=\"3.2\"/>\n",
       "<path clip-path=\"url(#clip532)\" d=\"M295.594 1395.72 L295.594 1427.72 L327.594 1427.72 L327.594 1395.72 L295.594 1395.72 Z\" fill=\"#ff0000\" fill-rule=\"evenodd\" fill-opacity=\"1\" stroke=\"#000000\" stroke-opacity=\"1\" stroke-width=\"3.2\"/>\n",
       "<path clip-path=\"url(#clip532)\" d=\"M273.471 1415.2 L273.471 1447.2 L305.471 1447.2 L305.471 1415.2 L273.471 1415.2 Z\" fill=\"#ff0000\" fill-rule=\"evenodd\" fill-opacity=\"1\" stroke=\"#000000\" stroke-opacity=\"1\" stroke-width=\"3.2\"/>\n",
       "<path clip-path=\"url(#clip532)\" d=\"M256.782 1416.89 L256.782 1448.89 L288.782 1448.89 L288.782 1416.89 L256.782 1416.89 Z\" fill=\"#ff0000\" fill-rule=\"evenodd\" fill-opacity=\"1\" stroke=\"#000000\" stroke-opacity=\"1\" stroke-width=\"3.2\"/>\n",
       "<path clip-path=\"url(#clip532)\" d=\"M239.143 1402.11 L239.143 1434.11 L271.143 1434.11 L271.143 1402.11 L239.143 1402.11 Z\" fill=\"#ff0000\" fill-rule=\"evenodd\" fill-opacity=\"1\" stroke=\"#000000\" stroke-opacity=\"1\" stroke-width=\"3.2\"/>\n",
       "<path clip-path=\"url(#clip532)\" d=\"M316.273 1356.73 L316.273 1388.73 L348.273 1388.73 L348.273 1356.73 L316.273 1356.73 Z\" fill=\"#ff0000\" fill-rule=\"evenodd\" fill-opacity=\"1\" stroke=\"#000000\" stroke-opacity=\"1\" stroke-width=\"3.2\"/>\n",
       "<path clip-path=\"url(#clip532)\" d=\"M392.34 1310.85 L392.34 1342.85 L424.34 1342.85 L424.34 1310.85 L392.34 1310.85 Z\" fill=\"#ff0000\" fill-rule=\"evenodd\" fill-opacity=\"1\" stroke=\"#000000\" stroke-opacity=\"1\" stroke-width=\"3.2\"/>\n",
       "<path clip-path=\"url(#clip532)\" d=\"M280.852 1393.14 L280.852 1425.14 L312.852 1425.14 L312.852 1393.14 L280.852 1393.14 Z\" fill=\"#ff0000\" fill-rule=\"evenodd\" fill-opacity=\"1\" stroke=\"#000000\" stroke-opacity=\"1\" stroke-width=\"3.2\"/>\n",
       "<path clip-path=\"url(#clip532)\" d=\"M254.121 1422.4 L254.121 1454.4 L286.121 1454.4 L286.121 1422.4 L254.121 1422.4 Z\" fill=\"#ff0000\" fill-rule=\"evenodd\" fill-opacity=\"1\" stroke=\"#000000\" stroke-opacity=\"1\" stroke-width=\"3.2\"/>\n",
       "<path clip-path=\"url(#clip532)\" d=\"M402.079 1334.58 L402.079 1366.58 L434.079 1366.58 L434.079 1334.58 L402.079 1334.58 Z\" fill=\"#ff0000\" fill-rule=\"evenodd\" fill-opacity=\"1\" stroke=\"#000000\" stroke-opacity=\"1\" stroke-width=\"3.2\"/>\n",
       "<path clip-path=\"url(#clip532)\" d=\"M273.485 1407.98 L273.485 1439.98 L305.485 1439.98 L305.485 1407.98 L273.485 1407.98 Z\" fill=\"#ff0000\" fill-rule=\"evenodd\" fill-opacity=\"1\" stroke=\"#000000\" stroke-opacity=\"1\" stroke-width=\"3.2\"/>\n",
       "<path clip-path=\"url(#clip532)\" d=\"M354.244 1374.71 L354.244 1406.71 L386.244 1406.71 L386.244 1374.71 L354.244 1374.71 Z\" fill=\"#ff0000\" fill-rule=\"evenodd\" fill-opacity=\"1\" stroke=\"#000000\" stroke-opacity=\"1\" stroke-width=\"3.2\"/>\n",
       "<path clip-path=\"url(#clip532)\" d=\"M282.141 1406.7 L282.141 1438.7 L314.141 1438.7 L314.141 1406.7 L282.141 1406.7 Z\" fill=\"#ff0000\" fill-rule=\"evenodd\" fill-opacity=\"1\" stroke=\"#000000\" stroke-opacity=\"1\" stroke-width=\"3.2\"/>\n",
       "<path clip-path=\"url(#clip532)\" d=\"M195.556 1430.03 L195.556 1462.03 L227.556 1462.03 L227.556 1430.03 L195.556 1430.03 Z\" fill=\"#ff0000\" fill-rule=\"evenodd\" fill-opacity=\"1\" stroke=\"#000000\" stroke-opacity=\"1\" stroke-width=\"3.2\"/>\n",
       "<path clip-path=\"url(#clip532)\" d=\"M360.388 1376.68 L360.388 1408.68 L392.388 1408.68 L392.388 1376.68 L360.388 1376.68 Z\" fill=\"#ff0000\" fill-rule=\"evenodd\" fill-opacity=\"1\" stroke=\"#000000\" stroke-opacity=\"1\" stroke-width=\"3.2\"/>\n",
       "<path clip-path=\"url(#clip532)\" d=\"M356.372 1375.93 L356.372 1407.93 L388.372 1407.93 L388.372 1375.93 L356.372 1375.93 Z\" fill=\"#ff0000\" fill-rule=\"evenodd\" fill-opacity=\"1\" stroke=\"#000000\" stroke-opacity=\"1\" stroke-width=\"3.2\"/>\n",
       "<path clip-path=\"url(#clip532)\" d=\"M315.092 1395.51 L315.092 1427.51 L347.092 1427.51 L347.092 1395.51 L315.092 1395.51 Z\" fill=\"#ff0000\" fill-rule=\"evenodd\" fill-opacity=\"1\" stroke=\"#000000\" stroke-opacity=\"1\" stroke-width=\"3.2\"/>\n",
       "<path clip-path=\"url(#clip532)\" d=\"M304.287 1402.86 L304.287 1434.86 L336.287 1434.86 L336.287 1402.86 L304.287 1402.86 Z\" fill=\"#ff0000\" fill-rule=\"evenodd\" fill-opacity=\"1\" stroke=\"#000000\" stroke-opacity=\"1\" stroke-width=\"3.2\"/>\n",
       "<path clip-path=\"url(#clip532)\" d=\"M274.864 1412.99 L274.864 1444.99 L306.864 1444.99 L306.864 1412.99 L274.864 1412.99 Z\" fill=\"#ff0000\" fill-rule=\"evenodd\" fill-opacity=\"1\" stroke=\"#000000\" stroke-opacity=\"1\" stroke-width=\"3.2\"/>\n",
       "<path clip-path=\"url(#clip532)\" d=\"M258.38 1420.09 L258.38 1452.09 L290.38 1452.09 L290.38 1420.09 L258.38 1420.09 Z\" fill=\"#ff0000\" fill-rule=\"evenodd\" fill-opacity=\"1\" stroke=\"#000000\" stroke-opacity=\"1\" stroke-width=\"3.2\"/>\n",
       "<path clip-path=\"url(#clip532)\" d=\"M282.392 1409.6 L282.392 1441.6 L314.392 1441.6 L314.392 1409.6 L282.392 1409.6 Z\" fill=\"#ff0000\" fill-rule=\"evenodd\" fill-opacity=\"1\" stroke=\"#000000\" stroke-opacity=\"1\" stroke-width=\"3.2\"/>\n",
       "<path clip-path=\"url(#clip532)\" d=\"M293.536 1405.42 L293.536 1437.42 L325.536 1437.42 L325.536 1405.42 L293.536 1405.42 Z\" fill=\"#ff0000\" fill-rule=\"evenodd\" fill-opacity=\"1\" stroke=\"#000000\" stroke-opacity=\"1\" stroke-width=\"3.2\"/>\n",
       "<path clip-path=\"url(#clip532)\" d=\"M322.637 1388.41 L322.637 1420.41 L354.637 1420.41 L354.637 1388.41 L322.637 1388.41 Z\" fill=\"#ff0000\" fill-rule=\"evenodd\" fill-opacity=\"1\" stroke=\"#000000\" stroke-opacity=\"1\" stroke-width=\"3.2\"/>\n",
       "<path clip-path=\"url(#clip532)\" d=\"M283.117 1389.08 L283.117 1421.08 L315.117 1421.08 L315.117 1389.08 L283.117 1389.08 Z\" fill=\"#ff0000\" fill-rule=\"evenodd\" fill-opacity=\"1\" stroke=\"#000000\" stroke-opacity=\"1\" stroke-width=\"3.2\"/>\n",
       "<path clip-path=\"url(#clip532)\" d=\"M312.252 1364.52 L312.252 1396.52 L344.252 1396.52 L344.252 1364.52 L312.252 1364.52 Z\" fill=\"#ff0000\" fill-rule=\"evenodd\" fill-opacity=\"1\" stroke=\"#000000\" stroke-opacity=\"1\" stroke-width=\"3.2\"/>\n",
       "<path clip-path=\"url(#clip532)\" d=\"M275.788 1413.64 L275.788 1445.64 L307.788 1445.64 L307.788 1413.64 L275.788 1413.64 Z\" fill=\"#ff0000\" fill-rule=\"evenodd\" fill-opacity=\"1\" stroke=\"#000000\" stroke-opacity=\"1\" stroke-width=\"3.2\"/>\n",
       "<path clip-path=\"url(#clip532)\" d=\"M224.356 1431.87 L224.356 1463.87 L256.356 1463.87 L256.356 1431.87 L224.356 1431.87 Z\" fill=\"#ff0000\" fill-rule=\"evenodd\" fill-opacity=\"1\" stroke=\"#000000\" stroke-opacity=\"1\" stroke-width=\"3.2\"/>\n",
       "<path clip-path=\"url(#clip532)\" d=\"M274.202 1403.13 L274.202 1435.13 L306.202 1435.13 L306.202 1403.13 L274.202 1403.13 Z\" fill=\"#ff0000\" fill-rule=\"evenodd\" fill-opacity=\"1\" stroke=\"#000000\" stroke-opacity=\"1\" stroke-width=\"3.2\"/>\n",
       "<path clip-path=\"url(#clip532)\" d=\"M227.897 1431.02 L227.897 1463.02 L259.897 1463.02 L259.897 1431.02 L227.897 1431.02 Z\" fill=\"#ff0000\" fill-rule=\"evenodd\" fill-opacity=\"1\" stroke=\"#000000\" stroke-opacity=\"1\" stroke-width=\"3.2\"/>\n",
       "<path clip-path=\"url(#clip532)\" d=\"M252.796 1406.99 L252.796 1438.99 L284.796 1438.99 L284.796 1406.99 L252.796 1406.99 Z\" fill=\"#ff0000\" fill-rule=\"evenodd\" fill-opacity=\"1\" stroke=\"#000000\" stroke-opacity=\"1\" stroke-width=\"3.2\"/>\n",
       "<path clip-path=\"url(#clip532)\" d=\"M269.162 1417.59 L269.162 1449.59 L301.162 1449.59 L301.162 1417.59 L269.162 1417.59 Z\" fill=\"#ff0000\" fill-rule=\"evenodd\" fill-opacity=\"1\" stroke=\"#000000\" stroke-opacity=\"1\" stroke-width=\"3.2\"/>\n",
       "<path clip-path=\"url(#clip532)\" d=\"M230.796 1431.22 L230.796 1463.22 L262.796 1463.22 L262.796 1431.22 L230.796 1431.22 Z\" fill=\"#ff0000\" fill-rule=\"evenodd\" fill-opacity=\"1\" stroke=\"#000000\" stroke-opacity=\"1\" stroke-width=\"3.2\"/>\n",
       "<path clip-path=\"url(#clip532)\" d=\"M358.171 1336.23 L358.171 1368.23 L390.171 1368.23 L390.171 1336.23 L358.171 1336.23 Z\" fill=\"#ff0000\" fill-rule=\"evenodd\" fill-opacity=\"1\" stroke=\"#000000\" stroke-opacity=\"1\" stroke-width=\"3.2\"/>\n",
       "<path clip-path=\"url(#clip532)\" d=\"M236.776 1416.71 L236.776 1448.71 L268.776 1448.71 L268.776 1416.71 L236.776 1416.71 Z\" fill=\"#ff0000\" fill-rule=\"evenodd\" fill-opacity=\"1\" stroke=\"#000000\" stroke-opacity=\"1\" stroke-width=\"3.2\"/>\n",
       "<path clip-path=\"url(#clip532)\" d=\"M327.67 1388.45 L327.67 1420.45 L359.67 1420.45 L359.67 1388.45 L327.67 1388.45 Z\" fill=\"#ff0000\" fill-rule=\"evenodd\" fill-opacity=\"1\" stroke=\"#000000\" stroke-opacity=\"1\" stroke-width=\"3.2\"/>\n",
       "<path clip-path=\"url(#clip532)\" d=\"M393.157 1351.66 L393.157 1383.66 L425.157 1383.66 L425.157 1351.66 L393.157 1351.66 Z\" fill=\"#ff0000\" fill-rule=\"evenodd\" fill-opacity=\"1\" stroke=\"#000000\" stroke-opacity=\"1\" stroke-width=\"3.2\"/>\n",
       "<path clip-path=\"url(#clip532)\" d=\"M270.111 1412.48 L270.111 1444.48 L302.111 1444.48 L302.111 1412.48 L270.111 1412.48 Z\" fill=\"#ff0000\" fill-rule=\"evenodd\" fill-opacity=\"1\" stroke=\"#000000\" stroke-opacity=\"1\" stroke-width=\"3.2\"/>\n",
       "<path clip-path=\"url(#clip532)\" d=\"M286.887 1402.12 L286.887 1434.12 L318.887 1434.12 L318.887 1402.12 L286.887 1402.12 Z\" fill=\"#ff0000\" fill-rule=\"evenodd\" fill-opacity=\"1\" stroke=\"#000000\" stroke-opacity=\"1\" stroke-width=\"3.2\"/>\n",
       "<path clip-path=\"url(#clip532)\" d=\"M243.509 1422.47 L243.509 1454.47 L275.509 1454.47 L275.509 1422.47 L243.509 1422.47 Z\" fill=\"#ff0000\" fill-rule=\"evenodd\" fill-opacity=\"1\" stroke=\"#000000\" stroke-opacity=\"1\" stroke-width=\"3.2\"/>\n",
       "<path clip-path=\"url(#clip532)\" d=\"M283.293 1403.57 L283.293 1435.57 L315.293 1435.57 L315.293 1403.57 L283.293 1403.57 Z\" fill=\"#ff0000\" fill-rule=\"evenodd\" fill-opacity=\"1\" stroke=\"#000000\" stroke-opacity=\"1\" stroke-width=\"3.2\"/>\n",
       "<path clip-path=\"url(#clip532)\" d=\"M247.222 1426.75 L247.222 1458.75 L279.222 1458.75 L279.222 1426.75 L247.222 1426.75 Z\" fill=\"#ff0000\" fill-rule=\"evenodd\" fill-opacity=\"1\" stroke=\"#000000\" stroke-opacity=\"1\" stroke-width=\"3.2\"/>\n",
       "<circle clip-path=\"url(#clip532)\" cx=\"2140.77\" cy=\"268.875\" r=\"14.4\" fill=\"#0000ff\" fill-rule=\"evenodd\" fill-opacity=\"1\" stroke=\"#000000\" stroke-opacity=\"1\" stroke-width=\"3.2\"/>\n",
       "<circle clip-path=\"url(#clip532)\" cx=\"2173.95\" cy=\"289.103\" r=\"14.4\" fill=\"#0000ff\" fill-rule=\"evenodd\" fill-opacity=\"1\" stroke=\"#000000\" stroke-opacity=\"1\" stroke-width=\"3.2\"/>\n",
       "<circle clip-path=\"url(#clip532)\" cx=\"2207.22\" cy=\"223.811\" r=\"14.4\" fill=\"#0000ff\" fill-rule=\"evenodd\" fill-opacity=\"1\" stroke=\"#000000\" stroke-opacity=\"1\" stroke-width=\"3.2\"/>\n",
       "<circle clip-path=\"url(#clip532)\" cx=\"1858.2\" cy=\"531.001\" r=\"14.4\" fill=\"#0000ff\" fill-rule=\"evenodd\" fill-opacity=\"1\" stroke=\"#000000\" stroke-opacity=\"1\" stroke-width=\"3.2\"/>\n",
       "<circle clip-path=\"url(#clip532)\" cx=\"2219.66\" cy=\"258.551\" r=\"14.4\" fill=\"#0000ff\" fill-rule=\"evenodd\" fill-opacity=\"1\" stroke=\"#000000\" stroke-opacity=\"1\" stroke-width=\"3.2\"/>\n",
       "<circle clip-path=\"url(#clip532)\" cx=\"2102.56\" cy=\"365.817\" r=\"14.4\" fill=\"#0000ff\" fill-rule=\"evenodd\" fill-opacity=\"1\" stroke=\"#000000\" stroke-opacity=\"1\" stroke-width=\"3.2\"/>\n",
       "<circle clip-path=\"url(#clip532)\" cx=\"2216.17\" cy=\"252.008\" r=\"14.4\" fill=\"#0000ff\" fill-rule=\"evenodd\" fill-opacity=\"1\" stroke=\"#000000\" stroke-opacity=\"1\" stroke-width=\"3.2\"/>\n",
       "<circle clip-path=\"url(#clip532)\" cx=\"1305.44\" cy=\"868.536\" r=\"14.4\" fill=\"#0000ff\" fill-rule=\"evenodd\" fill-opacity=\"1\" stroke=\"#000000\" stroke-opacity=\"1\" stroke-width=\"3.2\"/>\n",
       "<circle clip-path=\"url(#clip532)\" cx=\"2182.78\" cy=\"278.764\" r=\"14.4\" fill=\"#0000ff\" fill-rule=\"evenodd\" fill-opacity=\"1\" stroke=\"#000000\" stroke-opacity=\"1\" stroke-width=\"3.2\"/>\n",
       "<circle clip-path=\"url(#clip532)\" cx=\"1766.82\" cy=\"589.521\" r=\"14.4\" fill=\"#0000ff\" fill-rule=\"evenodd\" fill-opacity=\"1\" stroke=\"#000000\" stroke-opacity=\"1\" stroke-width=\"3.2\"/>\n",
       "<circle clip-path=\"url(#clip532)\" cx=\"1427.9\" cy=\"784.559\" r=\"14.4\" fill=\"#0000ff\" fill-rule=\"evenodd\" fill-opacity=\"1\" stroke=\"#000000\" stroke-opacity=\"1\" stroke-width=\"3.2\"/>\n",
       "<circle clip-path=\"url(#clip532)\" cx=\"2058.76\" cy=\"394.694\" r=\"14.4\" fill=\"#0000ff\" fill-rule=\"evenodd\" fill-opacity=\"1\" stroke=\"#000000\" stroke-opacity=\"1\" stroke-width=\"3.2\"/>\n",
       "<circle clip-path=\"url(#clip532)\" cx=\"1869.79\" cy=\"515.998\" r=\"14.4\" fill=\"#0000ff\" fill-rule=\"evenodd\" fill-opacity=\"1\" stroke=\"#000000\" stroke-opacity=\"1\" stroke-width=\"3.2\"/>\n",
       "<circle clip-path=\"url(#clip532)\" cx=\"2220.86\" cy=\"270.614\" r=\"14.4\" fill=\"#0000ff\" fill-rule=\"evenodd\" fill-opacity=\"1\" stroke=\"#000000\" stroke-opacity=\"1\" stroke-width=\"3.2\"/>\n",
       "<circle clip-path=\"url(#clip532)\" cx=\"1684.16\" cy=\"647.114\" r=\"14.4\" fill=\"#0000ff\" fill-rule=\"evenodd\" fill-opacity=\"1\" stroke=\"#000000\" stroke-opacity=\"1\" stroke-width=\"3.2\"/>\n",
       "<circle clip-path=\"url(#clip532)\" cx=\"2126.95\" cy=\"311.164\" r=\"14.4\" fill=\"#0000ff\" fill-rule=\"evenodd\" fill-opacity=\"1\" stroke=\"#000000\" stroke-opacity=\"1\" stroke-width=\"3.2\"/>\n",
       "<circle clip-path=\"url(#clip532)\" cx=\"2104.42\" cy=\"359.019\" r=\"14.4\" fill=\"#0000ff\" fill-rule=\"evenodd\" fill-opacity=\"1\" stroke=\"#000000\" stroke-opacity=\"1\" stroke-width=\"3.2\"/>\n",
       "<circle clip-path=\"url(#clip532)\" cx=\"1911.29\" cy=\"499.675\" r=\"14.4\" fill=\"#0000ff\" fill-rule=\"evenodd\" fill-opacity=\"1\" stroke=\"#000000\" stroke-opacity=\"1\" stroke-width=\"3.2\"/>\n",
       "<circle clip-path=\"url(#clip532)\" cx=\"2141.4\" cy=\"321.15\" r=\"14.4\" fill=\"#0000ff\" fill-rule=\"evenodd\" fill-opacity=\"1\" stroke=\"#000000\" stroke-opacity=\"1\" stroke-width=\"3.2\"/>\n",
       "<circle clip-path=\"url(#clip532)\" cx=\"1805.42\" cy=\"570.554\" r=\"14.4\" fill=\"#0000ff\" fill-rule=\"evenodd\" fill-opacity=\"1\" stroke=\"#000000\" stroke-opacity=\"1\" stroke-width=\"3.2\"/>\n",
       "<circle clip-path=\"url(#clip532)\" cx=\"2227.76\" cy=\"248.563\" r=\"14.4\" fill=\"#0000ff\" fill-rule=\"evenodd\" fill-opacity=\"1\" stroke=\"#000000\" stroke-opacity=\"1\" stroke-width=\"3.2\"/>\n",
       "<circle clip-path=\"url(#clip532)\" cx=\"1974.89\" cy=\"452.869\" r=\"14.4\" fill=\"#0000ff\" fill-rule=\"evenodd\" fill-opacity=\"1\" stroke=\"#000000\" stroke-opacity=\"1\" stroke-width=\"3.2\"/>\n",
       "<circle clip-path=\"url(#clip532)\" cx=\"2255.37\" cy=\"230.239\" r=\"14.4\" fill=\"#0000ff\" fill-rule=\"evenodd\" fill-opacity=\"1\" stroke=\"#000000\" stroke-opacity=\"1\" stroke-width=\"3.2\"/>\n",
       "<circle clip-path=\"url(#clip532)\" cx=\"2186.28\" cy=\"295.935\" r=\"14.4\" fill=\"#0000ff\" fill-rule=\"evenodd\" fill-opacity=\"1\" stroke=\"#000000\" stroke-opacity=\"1\" stroke-width=\"3.2\"/>\n",
       "<circle clip-path=\"url(#clip532)\" cx=\"2106.29\" cy=\"349.176\" r=\"14.4\" fill=\"#0000ff\" fill-rule=\"evenodd\" fill-opacity=\"1\" stroke=\"#000000\" stroke-opacity=\"1\" stroke-width=\"3.2\"/>\n",
       "<circle clip-path=\"url(#clip532)\" cx=\"2142.87\" cy=\"309.016\" r=\"14.4\" fill=\"#0000ff\" fill-rule=\"evenodd\" fill-opacity=\"1\" stroke=\"#000000\" stroke-opacity=\"1\" stroke-width=\"3.2\"/>\n",
       "<circle clip-path=\"url(#clip532)\" cx=\"2211.34\" cy=\"239.072\" r=\"14.4\" fill=\"#0000ff\" fill-rule=\"evenodd\" fill-opacity=\"1\" stroke=\"#000000\" stroke-opacity=\"1\" stroke-width=\"3.2\"/>\n",
       "<circle clip-path=\"url(#clip532)\" cx=\"2266.85\" cy=\"189.113\" r=\"14.4\" fill=\"#0000ff\" fill-rule=\"evenodd\" fill-opacity=\"1\" stroke=\"#000000\" stroke-opacity=\"1\" stroke-width=\"3.2\"/>\n",
       "<circle clip-path=\"url(#clip532)\" cx=\"2177.9\" cy=\"308.162\" r=\"14.4\" fill=\"#0000ff\" fill-rule=\"evenodd\" fill-opacity=\"1\" stroke=\"#000000\" stroke-opacity=\"1\" stroke-width=\"3.2\"/>\n",
       "<circle clip-path=\"url(#clip532)\" cx=\"1592.4\" cy=\"705.24\" r=\"14.4\" fill=\"#0000ff\" fill-rule=\"evenodd\" fill-opacity=\"1\" stroke=\"#000000\" stroke-opacity=\"1\" stroke-width=\"3.2\"/>\n",
       "<circle clip-path=\"url(#clip532)\" cx=\"1732.53\" cy=\"615.565\" r=\"14.4\" fill=\"#0000ff\" fill-rule=\"evenodd\" fill-opacity=\"1\" stroke=\"#000000\" stroke-opacity=\"1\" stroke-width=\"3.2\"/>\n",
       "<circle clip-path=\"url(#clip532)\" cx=\"1659.22\" cy=\"661.717\" r=\"14.4\" fill=\"#0000ff\" fill-rule=\"evenodd\" fill-opacity=\"1\" stroke=\"#000000\" stroke-opacity=\"1\" stroke-width=\"3.2\"/>\n",
       "<circle clip-path=\"url(#clip532)\" cx=\"1868.16\" cy=\"530.259\" r=\"14.4\" fill=\"#0000ff\" fill-rule=\"evenodd\" fill-opacity=\"1\" stroke=\"#000000\" stroke-opacity=\"1\" stroke-width=\"3.2\"/>\n",
       "<circle clip-path=\"url(#clip532)\" cx=\"2276.99\" cy=\"211.724\" r=\"14.4\" fill=\"#0000ff\" fill-rule=\"evenodd\" fill-opacity=\"1\" stroke=\"#000000\" stroke-opacity=\"1\" stroke-width=\"3.2\"/>\n",
       "<circle clip-path=\"url(#clip532)\" cx=\"2054.37\" cy=\"390.135\" r=\"14.4\" fill=\"#0000ff\" fill-rule=\"evenodd\" fill-opacity=\"1\" stroke=\"#000000\" stroke-opacity=\"1\" stroke-width=\"3.2\"/>\n",
       "<circle clip-path=\"url(#clip532)\" cx=\"2133.14\" cy=\"320.106\" r=\"14.4\" fill=\"#0000ff\" fill-rule=\"evenodd\" fill-opacity=\"1\" stroke=\"#000000\" stroke-opacity=\"1\" stroke-width=\"3.2\"/>\n",
       "<circle clip-path=\"url(#clip532)\" cx=\"2210.16\" cy=\"244.047\" r=\"14.4\" fill=\"#0000ff\" fill-rule=\"evenodd\" fill-opacity=\"1\" stroke=\"#000000\" stroke-opacity=\"1\" stroke-width=\"3.2\"/>\n",
       "<circle clip-path=\"url(#clip532)\" cx=\"2106.12\" cy=\"348.609\" r=\"14.4\" fill=\"#0000ff\" fill-rule=\"evenodd\" fill-opacity=\"1\" stroke=\"#000000\" stroke-opacity=\"1\" stroke-width=\"3.2\"/>\n",
       "<circle clip-path=\"url(#clip532)\" cx=\"1928.31\" cy=\"486.978\" r=\"14.4\" fill=\"#0000ff\" fill-rule=\"evenodd\" fill-opacity=\"1\" stroke=\"#000000\" stroke-opacity=\"1\" stroke-width=\"3.2\"/>\n",
       "<circle clip-path=\"url(#clip532)\" cx=\"1870.75\" cy=\"526.799\" r=\"14.4\" fill=\"#0000ff\" fill-rule=\"evenodd\" fill-opacity=\"1\" stroke=\"#000000\" stroke-opacity=\"1\" stroke-width=\"3.2\"/>\n",
       "<circle clip-path=\"url(#clip532)\" cx=\"2006.61\" cy=\"432.13\" r=\"14.4\" fill=\"#0000ff\" fill-rule=\"evenodd\" fill-opacity=\"1\" stroke=\"#000000\" stroke-opacity=\"1\" stroke-width=\"3.2\"/>\n",
       "<circle clip-path=\"url(#clip532)\" cx=\"2194.29\" cy=\"290.674\" r=\"14.4\" fill=\"#0000ff\" fill-rule=\"evenodd\" fill-opacity=\"1\" stroke=\"#000000\" stroke-opacity=\"1\" stroke-width=\"3.2\"/>\n",
       "<circle clip-path=\"url(#clip532)\" cx=\"1914.5\" cy=\"499.339\" r=\"14.4\" fill=\"#0000ff\" fill-rule=\"evenodd\" fill-opacity=\"1\" stroke=\"#000000\" stroke-opacity=\"1\" stroke-width=\"3.2\"/>\n",
       "<circle clip-path=\"url(#clip532)\" cx=\"1331.66\" cy=\"853.007\" r=\"14.4\" fill=\"#0000ff\" fill-rule=\"evenodd\" fill-opacity=\"1\" stroke=\"#000000\" stroke-opacity=\"1\" stroke-width=\"3.2\"/>\n",
       "<circle clip-path=\"url(#clip532)\" cx=\"1980.94\" cy=\"454.217\" r=\"14.4\" fill=\"#0000ff\" fill-rule=\"evenodd\" fill-opacity=\"1\" stroke=\"#000000\" stroke-opacity=\"1\" stroke-width=\"3.2\"/>\n",
       "<circle clip-path=\"url(#clip532)\" cx=\"1970.44\" cy=\"458.152\" r=\"14.4\" fill=\"#0000ff\" fill-rule=\"evenodd\" fill-opacity=\"1\" stroke=\"#000000\" stroke-opacity=\"1\" stroke-width=\"3.2\"/>\n",
       "<circle clip-path=\"url(#clip532)\" cx=\"1997.27\" cy=\"441.909\" r=\"14.4\" fill=\"#0000ff\" fill-rule=\"evenodd\" fill-opacity=\"1\" stroke=\"#000000\" stroke-opacity=\"1\" stroke-width=\"3.2\"/>\n",
       "<circle clip-path=\"url(#clip532)\" cx=\"2100.52\" cy=\"361.571\" r=\"14.4\" fill=\"#0000ff\" fill-rule=\"evenodd\" fill-opacity=\"1\" stroke=\"#000000\" stroke-opacity=\"1\" stroke-width=\"3.2\"/>\n",
       "<circle clip-path=\"url(#clip532)\" cx=\"1203.24\" cy=\"933.878\" r=\"14.4\" fill=\"#0000ff\" fill-rule=\"evenodd\" fill-opacity=\"1\" stroke=\"#000000\" stroke-opacity=\"1\" stroke-width=\"3.2\"/>\n",
       "<circle clip-path=\"url(#clip532)\" cx=\"1959.79\" cy=\"469.069\" r=\"14.4\" fill=\"#0000ff\" fill-rule=\"evenodd\" fill-opacity=\"1\" stroke=\"#000000\" stroke-opacity=\"1\" stroke-width=\"3.2\"/>\n",
       "<path clip-path=\"url(#clip532)\" d=\"M2074.47 211.627 L2070.71 222.443 L2059.25 222.683 L2068.39 229.611 L2065.06 240.571 L2074.47 234.027 L2083.87 240.571 L2080.55 229.611 L2089.68 222.683 L2078.23 222.443 L2074.47 211.627 Z\" fill=\"#008000\" fill-rule=\"evenodd\" fill-opacity=\"1\" stroke=\"#000000\" stroke-opacity=\"1\" stroke-width=\"3.2\"/>\n",
       "<path clip-path=\"url(#clip532)\" d=\"M2257.68 202.238 L2253.92 213.054 L2242.46 213.294 L2251.6 220.222 L2248.27 231.182 L2257.68 224.638 L2267.09 231.182 L2263.76 220.222 L2272.89 213.294 L2261.44 213.054 L2257.68 202.238 Z\" fill=\"#008000\" fill-rule=\"evenodd\" fill-opacity=\"1\" stroke=\"#000000\" stroke-opacity=\"1\" stroke-width=\"3.2\"/>\n",
       "<path clip-path=\"url(#clip532)\" d=\"M2085.97 199.028 L2082.21 209.844 L2070.75 210.084 L2079.89 217.012 L2076.56 227.972 L2085.97 221.428 L2095.37 227.972 L2092.05 217.012 L2101.18 210.084 L2089.73 209.844 L2085.97 199.028 Z\" fill=\"#008000\" fill-rule=\"evenodd\" fill-opacity=\"1\" stroke=\"#000000\" stroke-opacity=\"1\" stroke-width=\"3.2\"/>\n",
       "<path clip-path=\"url(#clip532)\" d=\"M2263.97 151.357 L2260.21 162.173 L2248.75 162.413 L2257.89 169.341 L2254.56 180.301 L2263.97 173.757 L2273.38 180.301 L2270.05 169.341 L2279.19 162.413 L2267.73 162.173 L2263.97 151.357 Z\" fill=\"#008000\" fill-rule=\"evenodd\" fill-opacity=\"1\" stroke=\"#000000\" stroke-opacity=\"1\" stroke-width=\"3.2\"/>\n",
       "<path clip-path=\"url(#clip532)\" d=\"M2188.56 162.405 L2184.8 173.221 L2173.34 173.461 L2182.48 180.389 L2179.15 191.349 L2188.56 184.805 L2197.97 191.349 L2194.64 180.389 L2203.78 173.461 L2192.32 173.221 L2188.56 162.405 Z\" fill=\"#008000\" fill-rule=\"evenodd\" fill-opacity=\"1\" stroke=\"#000000\" stroke-opacity=\"1\" stroke-width=\"3.2\"/>\n",
       "<path clip-path=\"url(#clip532)\" d=\"M1762.26 349.654 L1758.5 360.47 L1747.05 360.71 L1756.18 367.638 L1752.86 378.598 L1762.26 372.054 L1771.67 378.598 L1768.34 367.638 L1777.48 360.71 L1766.02 360.47 L1762.26 349.654 Z\" fill=\"#008000\" fill-rule=\"evenodd\" fill-opacity=\"1\" stroke=\"#000000\" stroke-opacity=\"1\" stroke-width=\"3.2\"/>\n",
       "<path clip-path=\"url(#clip532)\" d=\"M1913.24 448.876 L1909.48 459.692 L1898.03 459.932 L1907.16 466.86 L1903.83 477.82 L1913.24 471.276 L1922.65 477.82 L1919.32 466.86 L1928.46 459.932 L1917 459.692 L1913.24 448.876 Z\" fill=\"#008000\" fill-rule=\"evenodd\" fill-opacity=\"1\" stroke=\"#000000\" stroke-opacity=\"1\" stroke-width=\"3.2\"/>\n",
       "<path clip-path=\"url(#clip532)\" d=\"M1942.39 266.949 L1938.63 277.765 L1927.17 278.005 L1936.31 284.933 L1932.98 295.893 L1942.39 289.349 L1951.8 295.893 L1948.47 284.933 L1957.6 278.005 L1946.15 277.765 L1942.39 266.949 Z\" fill=\"#008000\" fill-rule=\"evenodd\" fill-opacity=\"1\" stroke=\"#000000\" stroke-opacity=\"1\" stroke-width=\"3.2\"/>\n",
       "<path clip-path=\"url(#clip532)\" d=\"M2174.02 180.648 L2170.26 191.464 L2158.81 191.704 L2167.94 198.632 L2164.61 209.592 L2174.02 203.048 L2183.43 209.592 L2180.1 198.632 L2189.24 191.704 L2177.78 191.464 L2174.02 180.648 Z\" fill=\"#008000\" fill-rule=\"evenodd\" fill-opacity=\"1\" stroke=\"#000000\" stroke-opacity=\"1\" stroke-width=\"3.2\"/>\n",
       "<path clip-path=\"url(#clip532)\" d=\"M1902.63 279.229 L1898.87 290.045 L1887.41 290.285 L1896.55 297.213 L1893.22 308.173 L1902.63 301.629 L1912.03 308.173 L1908.71 297.213 L1917.84 290.285 L1906.39 290.045 L1902.63 279.229 Z\" fill=\"#008000\" fill-rule=\"evenodd\" fill-opacity=\"1\" stroke=\"#000000\" stroke-opacity=\"1\" stroke-width=\"3.2\"/>\n",
       "<path clip-path=\"url(#clip532)\" d=\"M2270.21 160.134 L2266.45 170.95 L2255 171.19 L2264.13 178.118 L2260.81 189.078 L2270.21 182.534 L2279.62 189.078 L2276.29 178.118 L2285.43 171.19 L2273.97 170.95 L2270.21 160.134 Z\" fill=\"#008000\" fill-rule=\"evenodd\" fill-opacity=\"1\" stroke=\"#000000\" stroke-opacity=\"1\" stroke-width=\"3.2\"/>\n",
       "<path clip-path=\"url(#clip532)\" d=\"M2290.39 150.764 L2286.63 161.58 L2275.17 161.82 L2284.31 168.748 L2280.98 179.708 L2290.39 173.164 L2299.8 179.708 L2296.47 168.748 L2305.61 161.82 L2294.15 161.58 L2290.39 150.764 Z\" fill=\"#008000\" fill-rule=\"evenodd\" fill-opacity=\"1\" stroke=\"#000000\" stroke-opacity=\"1\" stroke-width=\"3.2\"/>\n",
       "<path clip-path=\"url(#clip532)\" d=\"M2219.2 153.61 L2215.44 164.426 L2203.98 164.666 L2213.12 171.594 L2209.79 182.554 L2219.2 176.01 L2228.61 182.554 L2225.28 171.594 L2234.41 164.666 L2222.96 164.426 L2219.2 153.61 Z\" fill=\"#008000\" fill-rule=\"evenodd\" fill-opacity=\"1\" stroke=\"#000000\" stroke-opacity=\"1\" stroke-width=\"3.2\"/>\n",
       "<path clip-path=\"url(#clip532)\" d=\"M2216.85 231.339 L2213.09 242.155 L2201.64 242.395 L2210.77 249.323 L2207.44 260.283 L2216.85 253.739 L2226.26 260.283 L2222.93 249.323 L2232.07 242.395 L2220.61 242.155 L2216.85 231.339 Z\" fill=\"#008000\" fill-rule=\"evenodd\" fill-opacity=\"1\" stroke=\"#000000\" stroke-opacity=\"1\" stroke-width=\"3.2\"/>\n",
       "<path clip-path=\"url(#clip532)\" d=\"M2206.17 209.862 L2202.41 220.678 L2190.95 220.918 L2200.09 227.846 L2196.76 238.806 L2206.17 232.262 L2215.57 238.806 L2212.25 227.846 L2221.38 220.918 L2209.93 220.678 L2206.17 209.862 Z\" fill=\"#008000\" fill-rule=\"evenodd\" fill-opacity=\"1\" stroke=\"#000000\" stroke-opacity=\"1\" stroke-width=\"3.2\"/>\n",
       "<path clip-path=\"url(#clip532)\" d=\"M2237.39 159.787 L2233.63 170.603 L2222.17 170.843 L2231.31 177.771 L2227.98 188.731 L2237.39 182.187 L2246.8 188.731 L2243.47 177.771 L2252.61 170.843 L2241.15 170.603 L2237.39 159.787 Z\" fill=\"#008000\" fill-rule=\"evenodd\" fill-opacity=\"1\" stroke=\"#000000\" stroke-opacity=\"1\" stroke-width=\"3.2\"/>\n",
       "<path clip-path=\"url(#clip532)\" d=\"M2268.91 146.047 L2265.15 156.863 L2253.7 157.103 L2262.83 164.031 L2259.5 174.991 L2268.91 168.447 L2278.32 174.991 L2274.99 164.031 L2284.13 157.103 L2272.67 156.863 L2268.91 146.047 Z\" fill=\"#008000\" fill-rule=\"evenodd\" fill-opacity=\"1\" stroke=\"#000000\" stroke-opacity=\"1\" stroke-width=\"3.2\"/>\n",
       "<path clip-path=\"url(#clip532)\" d=\"M1631.37 416.893 L1627.61 427.709 L1616.15 427.949 L1625.29 434.877 L1621.96 445.837 L1631.37 439.293 L1640.78 445.837 L1637.45 434.877 L1646.58 427.949 L1635.13 427.709 L1631.37 416.893 Z\" fill=\"#008000\" fill-rule=\"evenodd\" fill-opacity=\"1\" stroke=\"#000000\" stroke-opacity=\"1\" stroke-width=\"3.2\"/>\n",
       "<path clip-path=\"url(#clip532)\" d=\"M1621.96 425.43 L1618.2 436.246 L1606.75 436.486 L1615.88 443.414 L1612.56 454.374 L1621.96 447.83 L1631.37 454.374 L1628.04 443.414 L1637.18 436.486 L1625.72 436.246 L1621.96 425.43 Z\" fill=\"#008000\" fill-rule=\"evenodd\" fill-opacity=\"1\" stroke=\"#000000\" stroke-opacity=\"1\" stroke-width=\"3.2\"/>\n",
       "<path clip-path=\"url(#clip532)\" d=\"M2202.38 247.669 L2198.62 258.485 L2187.17 258.725 L2196.3 265.653 L2192.97 276.613 L2202.38 270.069 L2211.79 276.613 L2208.46 265.653 L2217.6 258.725 L2206.14 258.485 L2202.38 247.669 Z\" fill=\"#008000\" fill-rule=\"evenodd\" fill-opacity=\"1\" stroke=\"#000000\" stroke-opacity=\"1\" stroke-width=\"3.2\"/>\n",
       "<path clip-path=\"url(#clip532)\" d=\"M2133.1 180.298 L2129.34 191.114 L2117.89 191.354 L2127.02 198.282 L2123.69 209.242 L2133.1 202.698 L2142.51 209.242 L2139.18 198.282 L2148.32 191.354 L2136.86 191.114 L2133.1 180.298 Z\" fill=\"#008000\" fill-rule=\"evenodd\" fill-opacity=\"1\" stroke=\"#000000\" stroke-opacity=\"1\" stroke-width=\"3.2\"/>\n",
       "<path clip-path=\"url(#clip532)\" d=\"M2206.04 244.085 L2202.28 254.901 L2190.82 255.141 L2199.96 262.069 L2196.63 273.029 L2206.04 266.485 L2215.45 273.029 L2212.12 262.069 L2221.25 255.141 L2209.8 254.901 L2206.04 244.085 Z\" fill=\"#008000\" fill-rule=\"evenodd\" fill-opacity=\"1\" stroke=\"#000000\" stroke-opacity=\"1\" stroke-width=\"3.2\"/>\n",
       "<path clip-path=\"url(#clip532)\" d=\"M1709.3 379.873 L1705.54 390.689 L1694.09 390.929 L1703.22 397.857 L1699.9 408.817 L1709.3 402.273 L1718.71 408.817 L1715.38 397.857 L1724.52 390.929 L1713.06 390.689 L1709.3 379.873 Z\" fill=\"#008000\" fill-rule=\"evenodd\" fill-opacity=\"1\" stroke=\"#000000\" stroke-opacity=\"1\" stroke-width=\"3.2\"/>\n",
       "<path clip-path=\"url(#clip532)\" d=\"M2288.04 185 L2284.28 195.816 L2272.82 196.056 L2281.96 202.984 L2278.63 213.944 L2288.04 207.4 L2297.45 213.944 L2294.12 202.984 L2303.25 196.056 L2291.8 195.816 L2288.04 185 Z\" fill=\"#008000\" fill-rule=\"evenodd\" fill-opacity=\"1\" stroke=\"#000000\" stroke-opacity=\"1\" stroke-width=\"3.2\"/>\n",
       "<path clip-path=\"url(#clip532)\" d=\"M2176.76 166.259 L2173 177.075 L2161.55 177.315 L2170.68 184.243 L2167.35 195.203 L2176.76 188.659 L2186.17 195.203 L2182.84 184.243 L2191.98 177.315 L2180.52 177.075 L2176.76 166.259 Z\" fill=\"#008000\" fill-rule=\"evenodd\" fill-opacity=\"1\" stroke=\"#000000\" stroke-opacity=\"1\" stroke-width=\"3.2\"/>\n",
       "<path clip-path=\"url(#clip532)\" d=\"M2039.64 222.637 L2035.88 233.453 L2024.42 233.693 L2033.56 240.621 L2030.23 251.581 L2039.64 245.037 L2049.04 251.581 L2045.72 240.621 L2054.85 233.693 L2043.4 233.453 L2039.64 222.637 Z\" fill=\"#008000\" fill-rule=\"evenodd\" fill-opacity=\"1\" stroke=\"#000000\" stroke-opacity=\"1\" stroke-width=\"3.2\"/>\n",
       "<path clip-path=\"url(#clip532)\" d=\"M2277.24 200.47 L2273.48 211.286 L2262.02 211.526 L2271.16 218.454 L2267.83 229.414 L2277.24 222.87 L2286.64 229.414 L2283.32 218.454 L2292.45 211.526 L2281 211.286 L2277.24 200.47 Z\" fill=\"#008000\" fill-rule=\"evenodd\" fill-opacity=\"1\" stroke=\"#000000\" stroke-opacity=\"1\" stroke-width=\"3.2\"/>\n",
       "<path clip-path=\"url(#clip532)\" d=\"M2279.44 193.921 L2275.68 204.737 L2264.22 204.977 L2273.36 211.905 L2270.03 222.865 L2279.44 216.321 L2288.85 222.865 L2285.52 211.905 L2294.65 204.977 L2283.2 204.737 L2279.44 193.921 Z\" fill=\"#008000\" fill-rule=\"evenodd\" fill-opacity=\"1\" stroke=\"#000000\" stroke-opacity=\"1\" stroke-width=\"3.2\"/>\n",
       "<path clip-path=\"url(#clip532)\" d=\"M2245.54 150.198 L2241.78 161.014 L2230.33 161.254 L2239.46 168.182 L2236.13 179.142 L2245.54 172.598 L2254.95 179.142 L2251.62 168.182 L2260.76 161.254 L2249.3 161.014 L2245.54 150.198 Z\" fill=\"#008000\" fill-rule=\"evenodd\" fill-opacity=\"1\" stroke=\"#000000\" stroke-opacity=\"1\" stroke-width=\"3.2\"/>\n",
       "<path clip-path=\"url(#clip532)\" d=\"M2091.73 209.181 L2087.97 219.997 L2076.51 220.237 L2085.65 227.165 L2082.32 238.125 L2091.73 231.581 L2101.14 238.125 L2097.81 227.165 L2106.94 220.237 L2095.49 219.997 L2091.73 209.181 Z\" fill=\"#008000\" fill-rule=\"evenodd\" fill-opacity=\"1\" stroke=\"#000000\" stroke-opacity=\"1\" stroke-width=\"3.2\"/>\n",
       "<path clip-path=\"url(#clip532)\" d=\"M1970.26 254.917 L1966.5 265.733 L1955.04 265.973 L1964.18 272.901 L1960.85 283.861 L1970.26 277.317 L1979.66 283.861 L1976.34 272.901 L1985.47 265.973 L1974.02 265.733 L1970.26 254.917 Z\" fill=\"#008000\" fill-rule=\"evenodd\" fill-opacity=\"1\" stroke=\"#000000\" stroke-opacity=\"1\" stroke-width=\"3.2\"/>\n",
       "<path clip-path=\"url(#clip532)\" d=\"M1665.8 402.61 L1662.04 413.426 L1650.58 413.666 L1659.72 420.594 L1656.39 431.554 L1665.8 425.01 L1675.2 431.554 L1671.88 420.594 L1681.01 413.666 L1669.56 413.426 L1665.8 402.61 Z\" fill=\"#008000\" fill-rule=\"evenodd\" fill-opacity=\"1\" stroke=\"#000000\" stroke-opacity=\"1\" stroke-width=\"3.2\"/>\n",
       "<path clip-path=\"url(#clip532)\" d=\"M2233.93 153.576 L2230.17 164.392 L2218.71 164.632 L2227.85 171.56 L2224.52 182.52 L2233.93 175.976 L2243.33 182.52 L2240.01 171.56 L2249.14 164.632 L2237.69 164.392 L2233.93 153.576 Z\" fill=\"#008000\" fill-rule=\"evenodd\" fill-opacity=\"1\" stroke=\"#000000\" stroke-opacity=\"1\" stroke-width=\"3.2\"/>\n",
       "<path clip-path=\"url(#clip532)\" d=\"M2285.85 181.877 L2282.09 192.693 L2270.64 192.933 L2279.77 199.861 L2276.45 210.821 L2285.85 204.277 L2295.26 210.821 L2291.93 199.861 L2301.07 192.933 L2289.61 192.693 L2285.85 181.877 Z\" fill=\"#008000\" fill-rule=\"evenodd\" fill-opacity=\"1\" stroke=\"#000000\" stroke-opacity=\"1\" stroke-width=\"3.2\"/>\n",
       "<path clip-path=\"url(#clip532)\" d=\"M2222.38 195.554 L2218.62 206.37 L2207.17 206.61 L2216.3 213.538 L2212.98 224.498 L2222.38 217.954 L2231.79 224.498 L2228.46 213.538 L2237.6 206.61 L2226.14 206.37 L2222.38 195.554 Z\" fill=\"#008000\" fill-rule=\"evenodd\" fill-opacity=\"1\" stroke=\"#000000\" stroke-opacity=\"1\" stroke-width=\"3.2\"/>\n",
       "<path clip-path=\"url(#clip532)\" d=\"M1852.49 306.209 L1848.73 317.025 L1837.27 317.265 L1846.41 324.193 L1843.08 335.153 L1852.49 328.609 L1861.9 335.153 L1858.57 324.193 L1867.7 317.265 L1856.25 317.025 L1852.49 306.209 Z\" fill=\"#008000\" fill-rule=\"evenodd\" fill-opacity=\"1\" stroke=\"#000000\" stroke-opacity=\"1\" stroke-width=\"3.2\"/>\n",
       "<path clip-path=\"url(#clip532)\" d=\"M2163.41 181.94 L2159.65 192.756 L2148.2 192.996 L2157.33 199.924 L2154.01 210.884 L2163.41 204.34 L2172.82 210.884 L2169.49 199.924 L2178.63 192.996 L2167.17 192.756 L2163.41 181.94 Z\" fill=\"#008000\" fill-rule=\"evenodd\" fill-opacity=\"1\" stroke=\"#000000\" stroke-opacity=\"1\" stroke-width=\"3.2\"/>\n",
       "<path clip-path=\"url(#clip532)\" d=\"M2268.19 148.695 L2264.43 159.511 L2252.98 159.751 L2262.11 166.679 L2258.79 177.639 L2268.19 171.095 L2277.6 177.639 L2274.27 166.679 L2283.41 159.751 L2271.95 159.511 L2268.19 148.695 Z\" fill=\"#008000\" fill-rule=\"evenodd\" fill-opacity=\"1\" stroke=\"#000000\" stroke-opacity=\"1\" stroke-width=\"3.2\"/>\n",
       "<path clip-path=\"url(#clip532)\" d=\"M2258.08 215.918 L2254.32 226.734 L2242.86 226.974 L2252 233.902 L2248.67 244.862 L2258.08 238.318 L2267.49 244.862 L2264.16 233.902 L2273.3 226.974 L2261.84 226.734 L2258.08 215.918 Z\" fill=\"#008000\" fill-rule=\"evenodd\" fill-opacity=\"1\" stroke=\"#000000\" stroke-opacity=\"1\" stroke-width=\"3.2\"/>\n",
       "<path clip-path=\"url(#clip532)\" d=\"M2207.51 160.538 L2203.75 171.354 L2192.29 171.594 L2201.43 178.522 L2198.1 189.482 L2207.51 182.938 L2216.92 189.482 L2213.59 178.522 L2222.73 171.594 L2211.27 171.354 L2207.51 160.538 Z\" fill=\"#008000\" fill-rule=\"evenodd\" fill-opacity=\"1\" stroke=\"#000000\" stroke-opacity=\"1\" stroke-width=\"3.2\"/>\n",
       "<path clip-path=\"url(#clip532)\" d=\"M2171.46 168.612 L2167.7 179.428 L2156.24 179.668 L2165.38 186.596 L2162.05 197.556 L2171.46 191.012 L2180.86 197.556 L2177.54 186.596 L2186.67 179.668 L2175.22 179.428 L2171.46 168.612 Z\" fill=\"#008000\" fill-rule=\"evenodd\" fill-opacity=\"1\" stroke=\"#000000\" stroke-opacity=\"1\" stroke-width=\"3.2\"/>\n",
       "<path clip-path=\"url(#clip532)\" d=\"M2195.27 177.29 L2191.51 188.106 L2180.06 188.346 L2189.19 195.274 L2185.86 206.234 L2195.27 199.69 L2204.68 206.234 L2201.35 195.274 L2210.49 188.346 L2199.03 188.106 L2195.27 177.29 Z\" fill=\"#008000\" fill-rule=\"evenodd\" fill-opacity=\"1\" stroke=\"#000000\" stroke-opacity=\"1\" stroke-width=\"3.2\"/>\n",
       "<path clip-path=\"url(#clip532)\" d=\"M2257.68 202.238 L2253.92 213.054 L2242.46 213.294 L2251.6 220.222 L2248.27 231.182 L2257.68 224.638 L2267.09 231.182 L2263.76 220.222 L2272.89 213.294 L2261.44 213.054 L2257.68 202.238 Z\" fill=\"#008000\" fill-rule=\"evenodd\" fill-opacity=\"1\" stroke=\"#000000\" stroke-opacity=\"1\" stroke-width=\"3.2\"/>\n",
       "<path clip-path=\"url(#clip532)\" d=\"M2107.29 188.801 L2103.53 199.617 L2092.07 199.857 L2101.21 206.785 L2097.88 217.745 L2107.29 211.201 L2116.7 217.745 L2113.37 206.785 L2122.51 199.857 L2111.05 199.617 L2107.29 188.801 Z\" fill=\"#008000\" fill-rule=\"evenodd\" fill-opacity=\"1\" stroke=\"#000000\" stroke-opacity=\"1\" stroke-width=\"3.2\"/>\n",
       "<path clip-path=\"url(#clip532)\" d=\"M2116.77 189.35 L2113.01 200.166 L2101.55 200.406 L2110.69 207.334 L2107.36 218.294 L2116.77 211.75 L2126.18 218.294 L2122.85 207.334 L2131.98 200.406 L2120.53 200.166 L2116.77 189.35 Z\" fill=\"#008000\" fill-rule=\"evenodd\" fill-opacity=\"1\" stroke=\"#000000\" stroke-opacity=\"1\" stroke-width=\"3.2\"/>\n",
       "<path clip-path=\"url(#clip532)\" d=\"M2231.62 160.53 L2227.86 171.346 L2216.4 171.586 L2225.54 178.514 L2222.21 189.474 L2231.62 182.93 L2241.03 189.474 L2237.7 178.514 L2246.84 171.586 L2235.38 171.346 L2231.62 160.53 Z\" fill=\"#008000\" fill-rule=\"evenodd\" fill-opacity=\"1\" stroke=\"#000000\" stroke-opacity=\"1\" stroke-width=\"3.2\"/>\n",
       "<path clip-path=\"url(#clip532)\" d=\"M2277.6 182.181 L2273.84 192.997 L2262.38 193.237 L2271.52 200.165 L2268.19 211.125 L2277.6 204.581 L2287.01 211.125 L2283.68 200.165 L2292.81 193.237 L2281.36 192.997 L2277.6 182.181 Z\" fill=\"#008000\" fill-rule=\"evenodd\" fill-opacity=\"1\" stroke=\"#000000\" stroke-opacity=\"1\" stroke-width=\"3.2\"/>\n",
       "<path clip-path=\"url(#clip532)\" d=\"M2285.84 148.429 L2282.08 159.245 L2270.62 159.485 L2279.76 166.413 L2276.43 177.373 L2285.84 170.829 L2295.24 177.373 L2291.92 166.413 L2301.05 159.485 L2289.6 159.245 L2285.84 148.429 Z\" fill=\"#008000\" fill-rule=\"evenodd\" fill-opacity=\"1\" stroke=\"#000000\" stroke-opacity=\"1\" stroke-width=\"3.2\"/>\n",
       "<path clip-path=\"url(#clip532)\" d=\"M2203.13 176.83 L2199.37 187.646 L2187.92 187.886 L2197.05 194.814 L2193.73 205.774 L2203.13 199.23 L2212.54 205.774 L2209.21 194.814 L2218.35 187.886 L2206.89 187.646 L2203.13 176.83 Z\" fill=\"#008000\" fill-rule=\"evenodd\" fill-opacity=\"1\" stroke=\"#000000\" stroke-opacity=\"1\" stroke-width=\"3.2\"/>\n",
       "<path clip-path=\"url(#clip532)\" d=\"M2272.26 191.285 L2268.5 202.101 L2257.05 202.341 L2266.18 209.269 L2262.85 220.229 L2272.26 213.685 L2281.67 220.229 L2278.34 209.269 L2287.48 202.341 L2276.02 202.101 L2272.26 191.285 Z\" fill=\"#008000\" fill-rule=\"evenodd\" fill-opacity=\"1\" stroke=\"#000000\" stroke-opacity=\"1\" stroke-width=\"3.2\"/>\n",
       "</svg>\n"
      ]
     },
     "metadata": {},
     "output_type": "display_data"
    }
   ],
   "source": [
    "p = scatter( map(x->x[1],points_projection) , map(x->x[2],points_projection), markershapes=shapes, markercolor=cols , title=\"projected\" , legend=false )\n",
    "display( p ) "
   ]
  },
  {
   "cell_type": "code",
   "execution_count": 390,
   "metadata": {},
   "outputs": [
    {
     "data": {
      "text/plain": [
       "\"/home/tasty/Documents/repos/JuliaPlottingExploration/PCA/irisKPCA.png\""
      ]
     },
     "execution_count": 390,
     "metadata": {},
     "output_type": "execute_result"
    }
   ],
   "source": [
    "savefig(p,\"irisKPCA.png\")"
   ]
  },
  {
   "cell_type": "code",
   "execution_count": null,
   "metadata": {},
   "outputs": [],
   "source": []
  }
 ],
 "metadata": {
  "kernelspec": {
   "display_name": "Julia 1.8.2",
   "language": "julia",
   "name": "julia-1.8"
  },
  "language_info": {
   "file_extension": ".jl",
   "mimetype": "application/julia",
   "name": "julia",
   "version": "1.8.2"
  }
 },
 "nbformat": 4,
 "nbformat_minor": 4
}
