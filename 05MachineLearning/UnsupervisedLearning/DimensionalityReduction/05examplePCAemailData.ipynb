{
 "cells": [
  {
   "cell_type": "code",
   "execution_count": 1,
   "metadata": {},
   "outputs": [],
   "source": [
    "using Random"
   ]
  },
  {
   "cell_type": "markdown",
   "metadata": {},
   "source": [
    "# Produce synthetic emails that are 'spam' or 'not spam'\n",
    "\n",
    "- Key words that belong to both groups of emails\n",
    "- keywords for emails pertaining to spam\n",
    "- keywords for words pertaining to work\n",
    "- create a vector for all the words possible (corpus)"
   ]
  },
  {
   "cell_type": "code",
   "execution_count": 2,
   "metadata": {},
   "outputs": [],
   "source": [
    "words_corpus = [\"apple\", \"banana\", \"cat\", \"dog\",\"car\",\"the\",\"is\",\"a\",\"hi\",\"hello\",\"ok\",\"fine\",\"great\",\"best\"]\n",
    "intro_corpus = [\"Dear\",\"Greetings\",\"Salutations\"]\n",
    "spam_keywords = [\"sales\",\"limited\",\"exclusive\",\"discount\",\"opportunity\",\"attention\",\"immediate\",\"bank\"]\n",
    "work_keywords = [\"meeting\",\"colleague\",\"holiday\",\"deliverable\",\"office\",\"accounting\",\"board\",\"bank\"];\n",
    "special_words = [\"Florida\",\"Orlando\",\"UCF\",\"statistics\",\"Julia\"]\n",
    "all_words = unique( [words_corpus...,intro_corpus...,spam_keywords...,work_keywords...] );"
   ]
  },
  {
   "cell_type": "markdown",
   "metadata": {},
   "source": [
    "## for a set of 'n' emails of length 'email_length', add an intro, then randomly select if the email will be spam or not-spam, within each conditional interleave the words with the normal words existing in both groups and words for one group or the other. "
   ]
  },
  {
   "cell_type": "code",
   "execution_count": 3,
   "metadata": {},
   "outputs": [
    {
     "data": {
      "text/plain": [
       "generate_email (generic function with 1 method)"
      ]
     },
     "execution_count": 3,
     "metadata": {},
     "output_type": "execute_result"
    }
   ],
   "source": [
    "email_length = 20\n",
    "\n",
    "function generate_email(n)\n",
    "    emails = []\n",
    "    \n",
    "    for _ in 1:n\n",
    "        new_email = []\n",
    "        \n",
    "        intro_tmp = rand(intro_corpus,1)[1]\n",
    "        push!(new_email,intro_tmp)\n",
    "        push!(new_email,\" \")\n",
    "        \n",
    "        if rand() <= 0.5 #spam\n",
    "            for _ in 1:email_length\n",
    "                if rand() <= 0.5\n",
    "                    word_tmp = rand(spam_keywords,1)[1]\n",
    "                    push!(new_email,word_tmp)\n",
    "                else\n",
    "                    word_tmp = rand(words_corpus,1)[1]\n",
    "                    push!(new_email,word_tmp)\n",
    "                end\n",
    "                push!(new_email,\" \")\n",
    "            end\n",
    "        else #non-spam\n",
    "            for _ in 1:email_length\n",
    "                if rand() <= 0.5\n",
    "                    word_tmp = rand(work_keywords,1)[1]\n",
    "                    push!(new_email,word_tmp)\n",
    "                else\n",
    "                    word_tmp = rand(words_corpus,1)[1]\n",
    "                    push!(new_email,word_tmp)\n",
    "                end\n",
    "                push!(new_email,\" \")\n",
    "            end\n",
    "        end\n",
    "        \n",
    "        new_email = reduce(*,new_email)\n",
    "        \n",
    "        push!(emails,new_email)\n",
    "    end\n",
    "    \n",
    "    return emails\n",
    "end"
   ]
  },
  {
   "cell_type": "markdown",
   "metadata": {},
   "source": [
    "### produce an email with words that are not present in either spam or work emails (type of outlier)"
   ]
  },
  {
   "cell_type": "code",
   "execution_count": 4,
   "metadata": {},
   "outputs": [
    {
     "data": {
      "text/plain": [
       "\"Florida Orlando UCF statistics Julia \""
      ]
     },
     "execution_count": 4,
     "metadata": {},
     "output_type": "execute_result"
    }
   ],
   "source": [
    "email_outlier = map( x -> x * \" \" , [special_words...] ) |> x -> reduce(*,x)"
   ]
  },
  {
   "cell_type": "code",
   "execution_count": 5,
   "metadata": {},
   "outputs": [
    {
     "data": {
      "text/plain": [
       "5-element Vector{Any}:\n",
       " \"Greetings the is holiday hi gre\" ⋯ 98 bytes ⋯ \"gue apple accounting colleague \"\n",
       " \"Greetings hi cat discount great\" ⋯ 67 bytes ⋯ \"mited hi attention apple sales \"\n",
       " \"Florida Orlando UCF statistics Julia \"\n",
       " \"Salutations sales opportunity a\" ⋯ 110 bytes ⋯ \"mited opportunity opportunity \"\n",
       " \"Salutations discount a is limit\" ⋯ 85 bytes ⋯ \"ar sales opportunity limited a \""
      ]
     },
     "execution_count": 5,
     "metadata": {},
     "output_type": "execute_result"
    }
   ],
   "source": [
    "emails_fit = generate_email(200)\n",
    "emails_new = generate_email(4)\n",
    "insert!(emails_new,3, email_outlier)"
   ]
  },
  {
   "cell_type": "code",
   "execution_count": 6,
   "metadata": {},
   "outputs": [],
   "source": [
    "#import Pkg; \n",
    "#Pkg.add(\"JSON\")\n",
    "using JSON"
   ]
  },
  {
   "cell_type": "code",
   "execution_count": 7,
   "metadata": {},
   "outputs": [],
   "source": [
    "emails_json = JSON.json(emails_fit)\n",
    "emails_new_json = JSON.json(emails_new);"
   ]
  },
  {
   "cell_type": "code",
   "execution_count": 8,
   "metadata": {},
   "outputs": [
    {
     "data": {
      "text/plain": [
       "660"
      ]
     },
     "execution_count": 8,
     "metadata": {},
     "output_type": "execute_result"
    }
   ],
   "source": [
    "open(\"emails.json\",\"w\") do f \n",
    "    write(f, emails_json) \n",
    "end\n",
    "\n",
    "open(\"emails_new.json\",\"w\") do f \n",
    "    write(f, emails_new_json) \n",
    "end"
   ]
  },
  {
   "cell_type": "markdown",
   "metadata": {},
   "source": [
    "### read in that file and parse the JSON"
   ]
  },
  {
   "cell_type": "code",
   "execution_count": 9,
   "metadata": {},
   "outputs": [
    {
     "data": {
      "text/plain": [
       "5-element Vector{Any}:\n",
       " \"Greetings the is holiday hi gre\" ⋯ 98 bytes ⋯ \"gue apple accounting colleague \"\n",
       " \"Greetings hi cat discount great\" ⋯ 67 bytes ⋯ \"mited hi attention apple sales \"\n",
       " \"Florida Orlando UCF statistics Julia \"\n",
       " \"Salutations sales opportunity a\" ⋯ 110 bytes ⋯ \"mited opportunity opportunity \"\n",
       " \"Salutations discount a is limit\" ⋯ 85 bytes ⋯ \"ar sales opportunity limited a \""
      ]
     },
     "execution_count": 9,
     "metadata": {},
     "output_type": "execute_result"
    }
   ],
   "source": [
    "emails_parsed = JSON.parsefile(\"emails.json\")\n",
    "emails_new_parsed = JSON.parsefile(\"emails_new.json\")"
   ]
  },
  {
   "cell_type": "markdown",
   "metadata": {},
   "source": [
    "### get the corpus from the unique words present in all the emails\n",
    "\n",
    "this line proceeds by \n",
    "- making a list of all the words by spreading the contents of the arrays into a new array having all the elements [emails_parsed...,emails_new_parsed...]\n",
    "- concatenating all the words across all emails reduce(*,[emails_parsed...,emails_new_parsed...])\n",
    "- split( reduce(*,[emails_parsed...,emails_new_parsed...])) splits all the words based on the defaul delimeter of the space\n",
    "- then gets the unique array"
   ]
  },
  {
   "cell_type": "code",
   "execution_count": 10,
   "metadata": {},
   "outputs": [],
   "source": [
    "all_seen_words = unique( split( reduce(*,[emails_parsed...,emails_new_parsed...])) );"
   ]
  },
  {
   "cell_type": "markdown",
   "metadata": {},
   "source": [
    "## Create a word embedding vector for each email using the most simple approach\n",
    "\n",
    "- Initialize a dictionary (key-value set) where the keys are all the possible words and the value is zero\n",
    "- Go through each word in the email and add a count of observation to the word seen in the dictionary so that you have the total counts for each word \n",
    "- 'Normalize' the dictionary counts so that all the values sum to 1. This is important so that emails with more or less words are not affecting the 'relative' strength of words as a presence proportion in the email. Eg. an email with the word 'discount' in an email of 10 words should count the same as an email with 'discount' 10 times in an email of 100 words.\n",
    "- return only the values of the dictionary. The values each time will have the same default order so that we can compare vectors on the relative presence of one keyword or another\n",
    "\n",
    "You can consider it that each entry is a dimension produced by the amount of relative presence or absence of a potential key word"
   ]
  },
  {
   "cell_type": "code",
   "execution_count": 11,
   "metadata": {},
   "outputs": [
    {
     "data": {
      "text/plain": [
       "email_to_vector (generic function with 1 method)"
      ]
     },
     "execution_count": 11,
     "metadata": {},
     "output_type": "execute_result"
    }
   ],
   "source": [
    "function email_to_vector(email)\n",
    "    word_count = Dict(word => 0.0 for word in all_seen_words)\n",
    "    \n",
    "    for word in split(email)\n",
    "        word_count[word] += 1\n",
    "    end\n",
    "    \n",
    "    total_counts = sum( values(word_count) )\n",
    "    normalized_vector = [word_count[word] / total_counts for word in all_seen_words]\n",
    "    \n",
    "    return normalized_vector\n",
    "end"
   ]
  },
  {
   "cell_type": "code",
   "execution_count": 12,
   "metadata": {},
   "outputs": [
    {
     "data": {
      "text/plain": [
       "1.0"
      ]
     },
     "execution_count": 12,
     "metadata": {},
     "output_type": "execute_result"
    }
   ],
   "source": [
    "sum( email_to_vector(emails_parsed[3]) )"
   ]
  },
  {
   "cell_type": "code",
   "execution_count": 13,
   "metadata": {},
   "outputs": [],
   "source": [
    "#get the vectors for email sets\n",
    "email_vectors = [email_to_vector(email) for email in emails_parsed];\n",
    "email_new_vectors = [email_to_vector(email) for email in emails_new_parsed];"
   ]
  },
  {
   "cell_type": "code",
   "execution_count": 14,
   "metadata": {},
   "outputs": [],
   "source": [
    "email_mat = hcat( email_vectors... );\n",
    "email_new_mat = hcat( email_new_vectors... );"
   ]
  },
  {
   "cell_type": "code",
   "execution_count": 15,
   "metadata": {},
   "outputs": [
    {
     "data": {
      "text/plain": [
       "(37, 200)"
      ]
     },
     "execution_count": 15,
     "metadata": {},
     "output_type": "execute_result"
    }
   ],
   "source": [
    "size(email_mat)"
   ]
  },
  {
   "cell_type": "code",
   "execution_count": 16,
   "metadata": {},
   "outputs": [],
   "source": [
    "using Statistics\n",
    "using MultivariateStats\n",
    "using Plots"
   ]
  },
  {
   "cell_type": "markdown",
   "metadata": {},
   "source": [
    "## fit a PCA model to the matrix of emails (here this library assumes the dimensions run down the rows and the observations along the columns)\n",
    "\n",
    "plot the eigenvalues"
   ]
  },
  {
   "cell_type": "code",
   "execution_count": 17,
   "metadata": {},
   "outputs": [
    {
     "data": {
      "image/svg+xml": [
       "<?xml version=\"1.0\" encoding=\"utf-8\"?>\n",
       "<svg xmlns=\"http://www.w3.org/2000/svg\" xmlns:xlink=\"http://www.w3.org/1999/xlink\" width=\"600\" height=\"200\" viewBox=\"0 0 2400 800\">\n",
       "<defs>\n",
       "  <clipPath id=\"clip520\">\n",
       "    <rect x=\"0\" y=\"0\" width=\"2400\" height=\"800\"/>\n",
       "  </clipPath>\n",
       "</defs>\n",
       "<path clip-path=\"url(#clip520)\" d=\"M0 800 L2400 800 L2400 0 L0 0  Z\" fill=\"#ffffff\" fill-rule=\"evenodd\" fill-opacity=\"1\"/>\n",
       "<defs>\n",
       "  <clipPath id=\"clip521\">\n",
       "    <rect x=\"480\" y=\"0\" width=\"1681\" height=\"800\"/>\n",
       "  </clipPath>\n",
       "</defs>\n",
       "<path clip-path=\"url(#clip520)\" d=\"M246.598 711.728 L2352.76 711.728 L2352.76 93.2321 L246.598 93.2321  Z\" fill=\"#ffffff\" fill-rule=\"evenodd\" fill-opacity=\"1\"/>\n",
       "<defs>\n",
       "  <clipPath id=\"clip522\">\n",
       "    <rect x=\"246\" y=\"93\" width=\"2107\" height=\"619\"/>\n",
       "  </clipPath>\n",
       "</defs>\n",
       "<polyline clip-path=\"url(#clip522)\" style=\"stroke:#000000; stroke-linecap:round; stroke-linejoin:round; stroke-width:2; stroke-opacity:0.1; fill:none\" points=\"590.055,711.728 590.055,93.2321 \"/>\n",
       "<polyline clip-path=\"url(#clip522)\" style=\"stroke:#000000; stroke-linecap:round; stroke-linejoin:round; stroke-width:2; stroke-opacity:0.1; fill:none\" points=\"944.866,711.728 944.866,93.2321 \"/>\n",
       "<polyline clip-path=\"url(#clip522)\" style=\"stroke:#000000; stroke-linecap:round; stroke-linejoin:round; stroke-width:2; stroke-opacity:0.1; fill:none\" points=\"1299.68,711.728 1299.68,93.2321 \"/>\n",
       "<polyline clip-path=\"url(#clip522)\" style=\"stroke:#000000; stroke-linecap:round; stroke-linejoin:round; stroke-width:2; stroke-opacity:0.1; fill:none\" points=\"1654.49,711.728 1654.49,93.2321 \"/>\n",
       "<polyline clip-path=\"url(#clip522)\" style=\"stroke:#000000; stroke-linecap:round; stroke-linejoin:round; stroke-width:2; stroke-opacity:0.1; fill:none\" points=\"2009.3,711.728 2009.3,93.2321 \"/>\n",
       "<polyline clip-path=\"url(#clip520)\" style=\"stroke:#000000; stroke-linecap:round; stroke-linejoin:round; stroke-width:4; stroke-opacity:1; fill:none\" points=\"246.598,711.728 2352.76,711.728 \"/>\n",
       "<polyline clip-path=\"url(#clip520)\" style=\"stroke:#000000; stroke-linecap:round; stroke-linejoin:round; stroke-width:4; stroke-opacity:1; fill:none\" points=\"590.055,711.728 590.055,692.83 \"/>\n",
       "<polyline clip-path=\"url(#clip520)\" style=\"stroke:#000000; stroke-linecap:round; stroke-linejoin:round; stroke-width:4; stroke-opacity:1; fill:none\" points=\"944.866,711.728 944.866,692.83 \"/>\n",
       "<polyline clip-path=\"url(#clip520)\" style=\"stroke:#000000; stroke-linecap:round; stroke-linejoin:round; stroke-width:4; stroke-opacity:1; fill:none\" points=\"1299.68,711.728 1299.68,692.83 \"/>\n",
       "<polyline clip-path=\"url(#clip520)\" style=\"stroke:#000000; stroke-linecap:round; stroke-linejoin:round; stroke-width:4; stroke-opacity:1; fill:none\" points=\"1654.49,711.728 1654.49,692.83 \"/>\n",
       "<polyline clip-path=\"url(#clip520)\" style=\"stroke:#000000; stroke-linecap:round; stroke-linejoin:round; stroke-width:4; stroke-opacity:1; fill:none\" points=\"2009.3,711.728 2009.3,692.83 \"/>\n",
       "<path clip-path=\"url(#clip520)\" d=\"M580.333 739.568 L598.689 739.568 L598.689 743.503 L584.615 743.503 L584.615 751.975 Q585.634 751.628 586.652 751.466 Q587.671 751.281 588.689 751.281 Q594.476 751.281 597.856 754.452 Q601.235 757.623 601.235 763.04 Q601.235 768.619 597.763 771.72 Q594.291 774.799 587.971 774.799 Q585.796 774.799 583.527 774.429 Q581.282 774.058 578.874 773.318 L578.874 768.619 Q580.958 769.753 583.18 770.308 Q585.402 770.864 587.879 770.864 Q591.884 770.864 594.221 768.758 Q596.559 766.651 596.559 763.04 Q596.559 759.429 594.221 757.322 Q591.884 755.216 587.879 755.216 Q586.004 755.216 584.129 755.633 Q582.277 756.049 580.333 756.929 L580.333 739.568 Z\" fill=\"#000000\" fill-rule=\"nonzero\" fill-opacity=\"1\" /><path clip-path=\"url(#clip520)\" d=\"M919.553 770.193 L927.192 770.193 L927.192 743.827 L918.882 745.494 L918.882 741.235 L927.146 739.568 L931.822 739.568 L931.822 770.193 L939.461 770.193 L939.461 774.128 L919.553 774.128 L919.553 770.193 Z\" fill=\"#000000\" fill-rule=\"nonzero\" fill-opacity=\"1\" /><path clip-path=\"url(#clip520)\" d=\"M958.905 742.647 Q955.294 742.647 953.465 746.211 Q951.66 749.753 951.66 756.883 Q951.66 763.989 953.465 767.554 Q955.294 771.095 958.905 771.095 Q962.539 771.095 964.345 767.554 Q966.174 763.989 966.174 756.883 Q966.174 749.753 964.345 746.211 Q962.539 742.647 958.905 742.647 M958.905 738.943 Q964.715 738.943 967.771 743.549 Q970.849 748.133 970.849 756.883 Q970.849 765.609 967.771 770.216 Q964.715 774.799 958.905 774.799 Q953.095 774.799 950.016 770.216 Q946.961 765.609 946.961 756.883 Q946.961 748.133 950.016 743.549 Q953.095 738.943 958.905 738.943 Z\" fill=\"#000000\" fill-rule=\"nonzero\" fill-opacity=\"1\" /><path clip-path=\"url(#clip520)\" d=\"M1274.86 770.193 L1282.5 770.193 L1282.5 743.827 L1274.19 745.494 L1274.19 741.235 L1282.45 739.568 L1287.13 739.568 L1287.13 770.193 L1294.77 770.193 L1294.77 774.128 L1274.86 774.128 L1274.86 770.193 Z\" fill=\"#000000\" fill-rule=\"nonzero\" fill-opacity=\"1\" /><path clip-path=\"url(#clip520)\" d=\"M1304.26 739.568 L1322.62 739.568 L1322.62 743.503 L1308.54 743.503 L1308.54 751.975 Q1309.56 751.628 1310.58 751.466 Q1311.6 751.281 1312.62 751.281 Q1318.4 751.281 1321.78 754.452 Q1325.16 757.623 1325.16 763.04 Q1325.16 768.619 1321.69 771.72 Q1318.22 774.799 1311.9 774.799 Q1309.72 774.799 1307.45 774.429 Q1305.21 774.058 1302.8 773.318 L1302.8 768.619 Q1304.89 769.753 1307.11 770.308 Q1309.33 770.864 1311.81 770.864 Q1315.81 770.864 1318.15 768.758 Q1320.49 766.651 1320.49 763.04 Q1320.49 759.429 1318.15 757.322 Q1315.81 755.216 1311.81 755.216 Q1309.93 755.216 1308.06 755.633 Q1306.2 756.049 1304.26 756.929 L1304.26 739.568 Z\" fill=\"#000000\" fill-rule=\"nonzero\" fill-opacity=\"1\" /><path clip-path=\"url(#clip520)\" d=\"M1633.26 770.193 L1649.58 770.193 L1649.58 774.128 L1627.64 774.128 L1627.64 770.193 Q1630.3 767.438 1634.88 762.808 Q1639.49 758.156 1640.67 756.813 Q1642.91 754.29 1643.79 752.554 Q1644.7 750.795 1644.7 749.105 Q1644.7 746.35 1642.75 744.614 Q1640.83 742.878 1637.73 742.878 Q1635.53 742.878 1633.08 743.642 Q1630.65 744.406 1627.87 745.957 L1627.87 741.235 Q1630.69 740.1 1633.15 739.522 Q1635.6 738.943 1637.64 738.943 Q1643.01 738.943 1646.2 741.628 Q1649.4 744.313 1649.4 748.804 Q1649.4 750.934 1648.59 752.855 Q1647.8 754.753 1645.69 757.346 Q1645.11 758.017 1642.01 761.234 Q1638.91 764.429 1633.26 770.193 Z\" fill=\"#000000\" fill-rule=\"nonzero\" fill-opacity=\"1\" /><path clip-path=\"url(#clip520)\" d=\"M1669.4 742.647 Q1665.78 742.647 1663.96 746.211 Q1662.15 749.753 1662.15 756.883 Q1662.15 763.989 1663.96 767.554 Q1665.78 771.095 1669.4 771.095 Q1673.03 771.095 1674.83 767.554 Q1676.66 763.989 1676.66 756.883 Q1676.66 749.753 1674.83 746.211 Q1673.03 742.647 1669.4 742.647 M1669.4 738.943 Q1675.21 738.943 1678.26 743.549 Q1681.34 748.133 1681.34 756.883 Q1681.34 765.609 1678.26 770.216 Q1675.21 774.799 1669.4 774.799 Q1663.59 774.799 1660.51 770.216 Q1657.45 765.609 1657.45 756.883 Q1657.45 748.133 1660.51 743.549 Q1663.59 738.943 1669.4 738.943 Z\" fill=\"#000000\" fill-rule=\"nonzero\" fill-opacity=\"1\" /><path clip-path=\"url(#clip520)\" d=\"M1988.57 770.193 L2004.89 770.193 L2004.89 774.128 L1982.94 774.128 L1982.94 770.193 Q1985.61 767.438 1990.19 762.808 Q1994.8 758.156 1995.98 756.813 Q1998.22 754.29 1999.1 752.554 Q2000 750.795 2000 749.105 Q2000 746.35 1998.06 744.614 Q1996.14 742.878 1993.04 742.878 Q1990.84 742.878 1988.38 743.642 Q1985.95 744.406 1983.18 745.957 L1983.18 741.235 Q1986 740.1 1988.45 739.522 Q1990.91 738.943 1992.94 738.943 Q1998.32 738.943 2001.51 741.628 Q2004.7 744.313 2004.7 748.804 Q2004.7 750.934 2003.89 752.855 Q2003.11 754.753 2001 757.346 Q2000.42 758.017 1997.32 761.234 Q1994.22 764.429 1988.57 770.193 Z\" fill=\"#000000\" fill-rule=\"nonzero\" fill-opacity=\"1\" /><path clip-path=\"url(#clip520)\" d=\"M2014.75 739.568 L2033.11 739.568 L2033.11 743.503 L2019.03 743.503 L2019.03 751.975 Q2020.05 751.628 2021.07 751.466 Q2022.09 751.281 2023.11 751.281 Q2028.89 751.281 2032.27 754.452 Q2035.65 757.623 2035.65 763.04 Q2035.65 768.619 2032.18 771.72 Q2028.71 774.799 2022.39 774.799 Q2020.21 774.799 2017.94 774.429 Q2015.7 774.058 2013.29 773.318 L2013.29 768.619 Q2015.38 769.753 2017.6 770.308 Q2019.82 770.864 2022.3 770.864 Q2026.3 770.864 2028.64 768.758 Q2030.98 766.651 2030.98 763.04 Q2030.98 759.429 2028.64 757.322 Q2026.3 755.216 2022.3 755.216 Q2020.42 755.216 2018.55 755.633 Q2016.69 756.049 2014.75 756.929 L2014.75 739.568 Z\" fill=\"#000000\" fill-rule=\"nonzero\" fill-opacity=\"1\" /><polyline clip-path=\"url(#clip522)\" style=\"stroke:#000000; stroke-linecap:round; stroke-linejoin:round; stroke-width:2; stroke-opacity:0.1; fill:none\" points=\"246.598,607.935 2352.76,607.935 \"/>\n",
       "<polyline clip-path=\"url(#clip522)\" style=\"stroke:#000000; stroke-linecap:round; stroke-linejoin:round; stroke-width:2; stroke-opacity:0.1; fill:none\" points=\"246.598,495.16 2352.76,495.16 \"/>\n",
       "<polyline clip-path=\"url(#clip522)\" style=\"stroke:#000000; stroke-linecap:round; stroke-linejoin:round; stroke-width:2; stroke-opacity:0.1; fill:none\" points=\"246.598,382.385 2352.76,382.385 \"/>\n",
       "<polyline clip-path=\"url(#clip522)\" style=\"stroke:#000000; stroke-linecap:round; stroke-linejoin:round; stroke-width:2; stroke-opacity:0.1; fill:none\" points=\"246.598,269.609 2352.76,269.609 \"/>\n",
       "<polyline clip-path=\"url(#clip522)\" style=\"stroke:#000000; stroke-linecap:round; stroke-linejoin:round; stroke-width:2; stroke-opacity:0.1; fill:none\" points=\"246.598,156.834 2352.76,156.834 \"/>\n",
       "<polyline clip-path=\"url(#clip520)\" style=\"stroke:#000000; stroke-linecap:round; stroke-linejoin:round; stroke-width:4; stroke-opacity:1; fill:none\" points=\"246.598,711.728 246.598,93.2321 \"/>\n",
       "<polyline clip-path=\"url(#clip520)\" style=\"stroke:#000000; stroke-linecap:round; stroke-linejoin:round; stroke-width:4; stroke-opacity:1; fill:none\" points=\"246.598,607.935 265.495,607.935 \"/>\n",
       "<polyline clip-path=\"url(#clip520)\" style=\"stroke:#000000; stroke-linecap:round; stroke-linejoin:round; stroke-width:4; stroke-opacity:1; fill:none\" points=\"246.598,495.16 265.495,495.16 \"/>\n",
       "<polyline clip-path=\"url(#clip520)\" style=\"stroke:#000000; stroke-linecap:round; stroke-linejoin:round; stroke-width:4; stroke-opacity:1; fill:none\" points=\"246.598,382.385 265.495,382.385 \"/>\n",
       "<polyline clip-path=\"url(#clip520)\" style=\"stroke:#000000; stroke-linecap:round; stroke-linejoin:round; stroke-width:4; stroke-opacity:1; fill:none\" points=\"246.598,269.609 265.495,269.609 \"/>\n",
       "<polyline clip-path=\"url(#clip520)\" style=\"stroke:#000000; stroke-linecap:round; stroke-linejoin:round; stroke-width:4; stroke-opacity:1; fill:none\" points=\"246.598,156.834 265.495,156.834 \"/>\n",
       "<path clip-path=\"url(#clip520)\" d=\"M63.9319 593.734 Q60.3208 593.734 58.4921 597.299 Q56.6865 600.841 56.6865 607.97 Q56.6865 615.077 58.4921 618.641 Q60.3208 622.183 63.9319 622.183 Q67.5661 622.183 69.3717 618.641 Q71.2004 615.077 71.2004 607.97 Q71.2004 600.841 69.3717 597.299 Q67.5661 593.734 63.9319 593.734 M63.9319 590.03 Q69.742 590.03 72.7976 594.637 Q75.8763 599.22 75.8763 607.97 Q75.8763 616.697 72.7976 621.303 Q69.742 625.887 63.9319 625.887 Q58.1217 625.887 55.043 621.303 Q51.9875 616.697 51.9875 607.97 Q51.9875 599.22 55.043 594.637 Q58.1217 590.03 63.9319 590.03 Z\" fill=\"#000000\" fill-rule=\"nonzero\" fill-opacity=\"1\" /><path clip-path=\"url(#clip520)\" d=\"M84.0938 619.336 L88.978 619.336 L88.978 625.215 L84.0938 625.215 L84.0938 619.336 Z\" fill=\"#000000\" fill-rule=\"nonzero\" fill-opacity=\"1\" /><path clip-path=\"url(#clip520)\" d=\"M109.163 593.734 Q105.552 593.734 103.723 597.299 Q101.918 600.841 101.918 607.97 Q101.918 615.077 103.723 618.641 Q105.552 622.183 109.163 622.183 Q112.797 622.183 114.603 618.641 Q116.432 615.077 116.432 607.97 Q116.432 600.841 114.603 597.299 Q112.797 593.734 109.163 593.734 M109.163 590.03 Q114.973 590.03 118.029 594.637 Q121.107 599.22 121.107 607.97 Q121.107 616.697 118.029 621.303 Q114.973 625.887 109.163 625.887 Q103.353 625.887 100.274 621.303 Q97.2187 616.697 97.2187 607.97 Q97.2187 599.22 100.274 594.637 Q103.353 590.03 109.163 590.03 Z\" fill=\"#000000\" fill-rule=\"nonzero\" fill-opacity=\"1\" /><path clip-path=\"url(#clip520)\" d=\"M139.325 593.734 Q135.714 593.734 133.885 597.299 Q132.08 600.841 132.08 607.97 Q132.08 615.077 133.885 618.641 Q135.714 622.183 139.325 622.183 Q142.959 622.183 144.765 618.641 Q146.593 615.077 146.593 607.97 Q146.593 600.841 144.765 597.299 Q142.959 593.734 139.325 593.734 M139.325 590.03 Q145.135 590.03 148.191 594.637 Q151.269 599.22 151.269 607.97 Q151.269 616.697 148.191 621.303 Q145.135 625.887 139.325 625.887 Q133.515 625.887 130.436 621.303 Q127.381 616.697 127.381 607.97 Q127.381 599.22 130.436 594.637 Q133.515 590.03 139.325 590.03 Z\" fill=\"#000000\" fill-rule=\"nonzero\" fill-opacity=\"1\" /><path clip-path=\"url(#clip520)\" d=\"M163.515 621.28 L179.834 621.28 L179.834 625.215 L157.89 625.215 L157.89 621.28 Q160.552 618.526 165.135 613.896 Q169.741 609.243 170.922 607.901 Q173.167 605.378 174.047 603.642 Q174.95 601.882 174.95 600.192 Q174.95 597.438 173.005 595.702 Q171.084 593.966 167.982 593.966 Q165.783 593.966 163.329 594.73 Q160.899 595.493 158.121 597.044 L158.121 592.322 Q160.945 591.188 163.399 590.609 Q165.853 590.03 167.89 590.03 Q173.26 590.03 176.454 592.716 Q179.649 595.401 179.649 599.892 Q179.649 602.021 178.839 603.942 Q178.052 605.841 175.945 608.433 Q175.366 609.104 172.265 612.322 Q169.163 615.516 163.515 621.28 Z\" fill=\"#000000\" fill-rule=\"nonzero\" fill-opacity=\"1\" /><path clip-path=\"url(#clip520)\" d=\"M189.695 590.655 L208.051 590.655 L208.051 594.591 L193.977 594.591 L193.977 603.063 Q194.996 602.716 196.014 602.554 Q197.033 602.368 198.052 602.368 Q203.839 602.368 207.218 605.54 Q210.598 608.711 210.598 614.128 Q210.598 619.706 207.126 622.808 Q203.653 625.887 197.334 625.887 Q195.158 625.887 192.89 625.516 Q190.644 625.146 188.237 624.405 L188.237 619.706 Q190.32 620.841 192.542 621.396 Q194.765 621.952 197.241 621.952 Q201.246 621.952 203.584 619.845 Q205.922 617.739 205.922 614.128 Q205.922 610.516 203.584 608.41 Q201.246 606.304 197.241 606.304 Q195.366 606.304 193.491 606.72 Q191.64 607.137 189.695 608.017 L189.695 590.655 Z\" fill=\"#000000\" fill-rule=\"nonzero\" fill-opacity=\"1\" /><path clip-path=\"url(#clip520)\" d=\"M62.9365 480.959 Q59.3254 480.959 57.4967 484.524 Q55.6912 488.065 55.6912 495.195 Q55.6912 502.301 57.4967 505.866 Q59.3254 509.408 62.9365 509.408 Q66.5707 509.408 68.3763 505.866 Q70.205 502.301 70.205 495.195 Q70.205 488.065 68.3763 484.524 Q66.5707 480.959 62.9365 480.959 M62.9365 477.255 Q68.7467 477.255 71.8022 481.861 Q74.8809 486.445 74.8809 495.195 Q74.8809 503.922 71.8022 508.528 Q68.7467 513.111 62.9365 513.111 Q57.1264 513.111 54.0477 508.528 Q50.9921 503.922 50.9921 495.195 Q50.9921 486.445 54.0477 481.861 Q57.1264 477.255 62.9365 477.255 Z\" fill=\"#000000\" fill-rule=\"nonzero\" fill-opacity=\"1\" /><path clip-path=\"url(#clip520)\" d=\"M83.0984 506.56 L87.9827 506.56 L87.9827 512.44 L83.0984 512.44 L83.0984 506.56 Z\" fill=\"#000000\" fill-rule=\"nonzero\" fill-opacity=\"1\" /><path clip-path=\"url(#clip520)\" d=\"M108.168 480.959 Q104.557 480.959 102.728 484.524 Q100.922 488.065 100.922 495.195 Q100.922 502.301 102.728 505.866 Q104.557 509.408 108.168 509.408 Q111.802 509.408 113.608 505.866 Q115.436 502.301 115.436 495.195 Q115.436 488.065 113.608 484.524 Q111.802 480.959 108.168 480.959 M108.168 477.255 Q113.978 477.255 117.033 481.861 Q120.112 486.445 120.112 495.195 Q120.112 503.922 117.033 508.528 Q113.978 513.111 108.168 513.111 Q102.358 513.111 99.2789 508.528 Q96.2234 503.922 96.2234 495.195 Q96.2234 486.445 99.2789 481.861 Q102.358 477.255 108.168 477.255 Z\" fill=\"#000000\" fill-rule=\"nonzero\" fill-opacity=\"1\" /><path clip-path=\"url(#clip520)\" d=\"M138.33 480.959 Q134.719 480.959 132.89 484.524 Q131.084 488.065 131.084 495.195 Q131.084 502.301 132.89 505.866 Q134.719 509.408 138.33 509.408 Q141.964 509.408 143.769 505.866 Q145.598 502.301 145.598 495.195 Q145.598 488.065 143.769 484.524 Q141.964 480.959 138.33 480.959 M138.33 477.255 Q144.14 477.255 147.195 481.861 Q150.274 486.445 150.274 495.195 Q150.274 503.922 147.195 508.528 Q144.14 513.111 138.33 513.111 Q132.519 513.111 129.441 508.528 Q126.385 503.922 126.385 495.195 Q126.385 486.445 129.441 481.861 Q132.519 477.255 138.33 477.255 Z\" fill=\"#000000\" fill-rule=\"nonzero\" fill-opacity=\"1\" /><path clip-path=\"url(#clip520)\" d=\"M158.538 477.88 L176.894 477.88 L176.894 481.815 L162.82 481.815 L162.82 490.287 Q163.839 489.94 164.857 489.778 Q165.876 489.593 166.894 489.593 Q172.681 489.593 176.061 492.764 Q179.441 495.935 179.441 501.352 Q179.441 506.931 175.968 510.033 Q172.496 513.111 166.177 513.111 Q164.001 513.111 161.732 512.741 Q159.487 512.371 157.08 511.63 L157.08 506.931 Q159.163 508.065 161.385 508.621 Q163.607 509.176 166.084 509.176 Q170.089 509.176 172.427 507.07 Q174.765 504.963 174.765 501.352 Q174.765 497.741 172.427 495.635 Q170.089 493.528 166.084 493.528 Q164.209 493.528 162.334 493.945 Q160.482 494.361 158.538 495.241 L158.538 477.88 Z\" fill=\"#000000\" fill-rule=\"nonzero\" fill-opacity=\"1\" /><path clip-path=\"url(#clip520)\" d=\"M198.653 480.959 Q195.042 480.959 193.214 484.524 Q191.408 488.065 191.408 495.195 Q191.408 502.301 193.214 505.866 Q195.042 509.408 198.653 509.408 Q202.288 509.408 204.093 505.866 Q205.922 502.301 205.922 495.195 Q205.922 488.065 204.093 484.524 Q202.288 480.959 198.653 480.959 M198.653 477.255 Q204.464 477.255 207.519 481.861 Q210.598 486.445 210.598 495.195 Q210.598 503.922 207.519 508.528 Q204.464 513.111 198.653 513.111 Q192.843 513.111 189.765 508.528 Q186.709 503.922 186.709 495.195 Q186.709 486.445 189.765 481.861 Q192.843 477.255 198.653 477.255 Z\" fill=\"#000000\" fill-rule=\"nonzero\" fill-opacity=\"1\" /><path clip-path=\"url(#clip520)\" d=\"M63.9319 368.183 Q60.3208 368.183 58.4921 371.748 Q56.6865 375.29 56.6865 382.419 Q56.6865 389.526 58.4921 393.091 Q60.3208 396.632 63.9319 396.632 Q67.5661 396.632 69.3717 393.091 Q71.2004 389.526 71.2004 382.419 Q71.2004 375.29 69.3717 371.748 Q67.5661 368.183 63.9319 368.183 M63.9319 364.48 Q69.742 364.48 72.7976 369.086 Q75.8763 373.669 75.8763 382.419 Q75.8763 391.146 72.7976 395.753 Q69.742 400.336 63.9319 400.336 Q58.1217 400.336 55.043 395.753 Q51.9875 391.146 51.9875 382.419 Q51.9875 373.669 55.043 369.086 Q58.1217 364.48 63.9319 364.48 Z\" fill=\"#000000\" fill-rule=\"nonzero\" fill-opacity=\"1\" /><path clip-path=\"url(#clip520)\" d=\"M84.0938 393.785 L88.978 393.785 L88.978 399.665 L84.0938 399.665 L84.0938 393.785 Z\" fill=\"#000000\" fill-rule=\"nonzero\" fill-opacity=\"1\" /><path clip-path=\"url(#clip520)\" d=\"M109.163 368.183 Q105.552 368.183 103.723 371.748 Q101.918 375.29 101.918 382.419 Q101.918 389.526 103.723 393.091 Q105.552 396.632 109.163 396.632 Q112.797 396.632 114.603 393.091 Q116.432 389.526 116.432 382.419 Q116.432 375.29 114.603 371.748 Q112.797 368.183 109.163 368.183 M109.163 364.48 Q114.973 364.48 118.029 369.086 Q121.107 373.669 121.107 382.419 Q121.107 391.146 118.029 395.753 Q114.973 400.336 109.163 400.336 Q103.353 400.336 100.274 395.753 Q97.2187 391.146 97.2187 382.419 Q97.2187 373.669 100.274 369.086 Q103.353 364.48 109.163 364.48 Z\" fill=\"#000000\" fill-rule=\"nonzero\" fill-opacity=\"1\" /><path clip-path=\"url(#clip520)\" d=\"M139.325 368.183 Q135.714 368.183 133.885 371.748 Q132.08 375.29 132.08 382.419 Q132.08 389.526 133.885 393.091 Q135.714 396.632 139.325 396.632 Q142.959 396.632 144.765 393.091 Q146.593 389.526 146.593 382.419 Q146.593 375.29 144.765 371.748 Q142.959 368.183 139.325 368.183 M139.325 364.48 Q145.135 364.48 148.191 369.086 Q151.269 373.669 151.269 382.419 Q151.269 391.146 148.191 395.753 Q145.135 400.336 139.325 400.336 Q133.515 400.336 130.436 395.753 Q127.381 391.146 127.381 382.419 Q127.381 373.669 130.436 369.086 Q133.515 364.48 139.325 364.48 Z\" fill=\"#000000\" fill-rule=\"nonzero\" fill-opacity=\"1\" /><path clip-path=\"url(#clip520)\" d=\"M158.306 365.105 L180.528 365.105 L180.528 367.095 L167.982 399.665 L163.098 399.665 L174.903 369.04 L158.306 369.04 L158.306 365.105 Z\" fill=\"#000000\" fill-rule=\"nonzero\" fill-opacity=\"1\" /><path clip-path=\"url(#clip520)\" d=\"M189.695 365.105 L208.051 365.105 L208.051 369.04 L193.977 369.04 L193.977 377.512 Q194.996 377.165 196.014 377.003 Q197.033 376.817 198.052 376.817 Q203.839 376.817 207.218 379.989 Q210.598 383.16 210.598 388.577 Q210.598 394.155 207.126 397.257 Q203.653 400.336 197.334 400.336 Q195.158 400.336 192.89 399.965 Q190.644 399.595 188.237 398.854 L188.237 394.155 Q190.32 395.29 192.542 395.845 Q194.765 396.401 197.241 396.401 Q201.246 396.401 203.584 394.294 Q205.922 392.188 205.922 388.577 Q205.922 384.966 203.584 382.859 Q201.246 380.753 197.241 380.753 Q195.366 380.753 193.491 381.169 Q191.64 381.586 189.695 382.466 L189.695 365.105 Z\" fill=\"#000000\" fill-rule=\"nonzero\" fill-opacity=\"1\" /><path clip-path=\"url(#clip520)\" d=\"M62.9365 255.408 Q59.3254 255.408 57.4967 258.973 Q55.6912 262.514 55.6912 269.644 Q55.6912 276.75 57.4967 280.315 Q59.3254 283.857 62.9365 283.857 Q66.5707 283.857 68.3763 280.315 Q70.205 276.75 70.205 269.644 Q70.205 262.514 68.3763 258.973 Q66.5707 255.408 62.9365 255.408 M62.9365 251.704 Q68.7467 251.704 71.8022 256.311 Q74.8809 260.894 74.8809 269.644 Q74.8809 278.371 71.8022 282.977 Q68.7467 287.56 62.9365 287.56 Q57.1264 287.56 54.0477 282.977 Q50.9921 278.371 50.9921 269.644 Q50.9921 260.894 54.0477 256.311 Q57.1264 251.704 62.9365 251.704 Z\" fill=\"#000000\" fill-rule=\"nonzero\" fill-opacity=\"1\" /><path clip-path=\"url(#clip520)\" d=\"M83.0984 281.01 L87.9827 281.01 L87.9827 286.889 L83.0984 286.889 L83.0984 281.01 Z\" fill=\"#000000\" fill-rule=\"nonzero\" fill-opacity=\"1\" /><path clip-path=\"url(#clip520)\" d=\"M108.168 255.408 Q104.557 255.408 102.728 258.973 Q100.922 262.514 100.922 269.644 Q100.922 276.75 102.728 280.315 Q104.557 283.857 108.168 283.857 Q111.802 283.857 113.608 280.315 Q115.436 276.75 115.436 269.644 Q115.436 262.514 113.608 258.973 Q111.802 255.408 108.168 255.408 M108.168 251.704 Q113.978 251.704 117.033 256.311 Q120.112 260.894 120.112 269.644 Q120.112 278.371 117.033 282.977 Q113.978 287.56 108.168 287.56 Q102.358 287.56 99.2789 282.977 Q96.2234 278.371 96.2234 269.644 Q96.2234 260.894 99.2789 256.311 Q102.358 251.704 108.168 251.704 Z\" fill=\"#000000\" fill-rule=\"nonzero\" fill-opacity=\"1\" /><path clip-path=\"url(#clip520)\" d=\"M129.14 282.954 L136.779 282.954 L136.779 256.588 L128.469 258.255 L128.469 253.996 L136.732 252.329 L141.408 252.329 L141.408 282.954 L149.047 282.954 L149.047 286.889 L129.14 286.889 L129.14 282.954 Z\" fill=\"#000000\" fill-rule=\"nonzero\" fill-opacity=\"1\" /><path clip-path=\"url(#clip520)\" d=\"M168.491 255.408 Q164.88 255.408 163.052 258.973 Q161.246 262.514 161.246 269.644 Q161.246 276.75 163.052 280.315 Q164.88 283.857 168.491 283.857 Q172.126 283.857 173.931 280.315 Q175.76 276.75 175.76 269.644 Q175.76 262.514 173.931 258.973 Q172.126 255.408 168.491 255.408 M168.491 251.704 Q174.302 251.704 177.357 256.311 Q180.436 260.894 180.436 269.644 Q180.436 278.371 177.357 282.977 Q174.302 287.56 168.491 287.56 Q162.681 287.56 159.603 282.977 Q156.547 278.371 156.547 269.644 Q156.547 260.894 159.603 256.311 Q162.681 251.704 168.491 251.704 Z\" fill=\"#000000\" fill-rule=\"nonzero\" fill-opacity=\"1\" /><path clip-path=\"url(#clip520)\" d=\"M198.653 255.408 Q195.042 255.408 193.214 258.973 Q191.408 262.514 191.408 269.644 Q191.408 276.75 193.214 280.315 Q195.042 283.857 198.653 283.857 Q202.288 283.857 204.093 280.315 Q205.922 276.75 205.922 269.644 Q205.922 262.514 204.093 258.973 Q202.288 255.408 198.653 255.408 M198.653 251.704 Q204.464 251.704 207.519 256.311 Q210.598 260.894 210.598 269.644 Q210.598 278.371 207.519 282.977 Q204.464 287.56 198.653 287.56 Q192.843 287.56 189.765 282.977 Q186.709 278.371 186.709 269.644 Q186.709 260.894 189.765 256.311 Q192.843 251.704 198.653 251.704 Z\" fill=\"#000000\" fill-rule=\"nonzero\" fill-opacity=\"1\" /><path clip-path=\"url(#clip520)\" d=\"M63.9319 142.632 Q60.3208 142.632 58.4921 146.197 Q56.6865 149.739 56.6865 156.868 Q56.6865 163.975 58.4921 167.54 Q60.3208 171.081 63.9319 171.081 Q67.5661 171.081 69.3717 167.54 Q71.2004 163.975 71.2004 156.868 Q71.2004 149.739 69.3717 146.197 Q67.5661 142.632 63.9319 142.632 M63.9319 138.929 Q69.742 138.929 72.7976 143.535 Q75.8763 148.118 75.8763 156.868 Q75.8763 165.595 72.7976 170.202 Q69.742 174.785 63.9319 174.785 Q58.1217 174.785 55.043 170.202 Q51.9875 165.595 51.9875 156.868 Q51.9875 148.118 55.043 143.535 Q58.1217 138.929 63.9319 138.929 Z\" fill=\"#000000\" fill-rule=\"nonzero\" fill-opacity=\"1\" /><path clip-path=\"url(#clip520)\" d=\"M84.0938 168.234 L88.978 168.234 L88.978 174.114 L84.0938 174.114 L84.0938 168.234 Z\" fill=\"#000000\" fill-rule=\"nonzero\" fill-opacity=\"1\" /><path clip-path=\"url(#clip520)\" d=\"M109.163 142.632 Q105.552 142.632 103.723 146.197 Q101.918 149.739 101.918 156.868 Q101.918 163.975 103.723 167.54 Q105.552 171.081 109.163 171.081 Q112.797 171.081 114.603 167.54 Q116.432 163.975 116.432 156.868 Q116.432 149.739 114.603 146.197 Q112.797 142.632 109.163 142.632 M109.163 138.929 Q114.973 138.929 118.029 143.535 Q121.107 148.118 121.107 156.868 Q121.107 165.595 118.029 170.202 Q114.973 174.785 109.163 174.785 Q103.353 174.785 100.274 170.202 Q97.2187 165.595 97.2187 156.868 Q97.2187 148.118 100.274 143.535 Q103.353 138.929 109.163 138.929 Z\" fill=\"#000000\" fill-rule=\"nonzero\" fill-opacity=\"1\" /><path clip-path=\"url(#clip520)\" d=\"M130.135 170.178 L137.774 170.178 L137.774 143.813 L129.464 145.48 L129.464 141.22 L137.728 139.554 L142.404 139.554 L142.404 170.178 L150.043 170.178 L150.043 174.114 L130.135 174.114 L130.135 170.178 Z\" fill=\"#000000\" fill-rule=\"nonzero\" fill-opacity=\"1\" /><path clip-path=\"url(#clip520)\" d=\"M163.515 170.178 L179.834 170.178 L179.834 174.114 L157.89 174.114 L157.89 170.178 Q160.552 167.424 165.135 162.794 Q169.741 158.142 170.922 156.799 Q173.167 154.276 174.047 152.54 Q174.95 150.78 174.95 149.091 Q174.95 146.336 173.005 144.6 Q171.084 142.864 167.982 142.864 Q165.783 142.864 163.329 143.628 Q160.899 144.392 158.121 145.943 L158.121 141.22 Q160.945 140.086 163.399 139.507 Q165.853 138.929 167.89 138.929 Q173.26 138.929 176.454 141.614 Q179.649 144.299 179.649 148.79 Q179.649 150.919 178.839 152.841 Q178.052 154.739 175.945 157.331 Q175.366 158.003 172.265 161.22 Q169.163 164.415 163.515 170.178 Z\" fill=\"#000000\" fill-rule=\"nonzero\" fill-opacity=\"1\" /><path clip-path=\"url(#clip520)\" d=\"M189.695 139.554 L208.051 139.554 L208.051 143.489 L193.977 143.489 L193.977 151.961 Q194.996 151.614 196.014 151.452 Q197.033 151.267 198.052 151.267 Q203.839 151.267 207.218 154.438 Q210.598 157.609 210.598 163.026 Q210.598 168.604 207.126 171.706 Q203.653 174.785 197.334 174.785 Q195.158 174.785 192.89 174.415 Q190.644 174.044 188.237 173.303 L188.237 168.604 Q190.32 169.739 192.542 170.294 Q194.765 170.85 197.241 170.85 Q201.246 170.85 203.584 168.743 Q205.922 166.637 205.922 163.026 Q205.922 159.415 203.584 157.308 Q201.246 155.202 197.241 155.202 Q195.366 155.202 193.491 155.618 Q191.64 156.035 189.695 156.915 L189.695 139.554 Z\" fill=\"#000000\" fill-rule=\"nonzero\" fill-opacity=\"1\" /><path clip-path=\"url(#clip520)\" d=\"M1095.94 48.0275 L1095.94 51.6733 L1061.67 51.6733 Q1062.15 59.3701 1066.28 63.421 Q1070.46 67.4314 1077.87 67.4314 Q1082.16 67.4314 1086.17 66.3781 Q1090.22 65.3249 1094.19 63.2184 L1094.19 70.267 Q1090.18 71.9684 1085.97 72.8596 Q1081.76 73.7508 1077.42 73.7508 Q1066.57 73.7508 1060.21 67.4314 Q1053.89 61.1119 1053.89 50.3365 Q1053.89 39.1965 1059.88 32.6746 Q1065.92 26.1121 1076.13 26.1121 Q1085.28 26.1121 1090.59 32.0264 Q1095.94 37.9003 1095.94 48.0275 M1088.48 45.84 Q1088.4 39.7232 1085.04 36.0774 Q1081.72 32.4315 1076.21 32.4315 Q1069.97 32.4315 1066.2 35.9558 Q1062.48 39.4801 1061.91 45.8805 L1088.48 45.84 Z\" fill=\"#000000\" fill-rule=\"nonzero\" fill-opacity=\"1\" /><path clip-path=\"url(#clip520)\" d=\"M1108.17 27.2059 L1115.62 27.2059 L1115.62 72.576 L1108.17 72.576 L1108.17 27.2059 M1108.17 9.54393 L1115.62 9.54393 L1115.62 18.9825 L1108.17 18.9825 L1108.17 9.54393 Z\" fill=\"#000000\" fill-rule=\"nonzero\" fill-opacity=\"1\" /><path clip-path=\"url(#clip520)\" d=\"M1161.08 49.3643 Q1161.08 41.2625 1157.71 36.8065 Q1154.39 32.3505 1148.36 32.3505 Q1142.36 32.3505 1139 36.8065 Q1135.68 41.2625 1135.68 49.3643 Q1135.68 57.4256 1139 61.8816 Q1142.36 66.3376 1148.36 66.3376 Q1154.39 66.3376 1157.71 61.8816 Q1161.08 57.4256 1161.08 49.3643 M1168.53 66.9452 Q1168.53 78.5308 1163.38 84.1616 Q1158.24 89.8329 1147.63 89.8329 Q1143.7 89.8329 1140.21 89.2252 Q1136.73 88.6581 1133.45 87.4428 L1133.45 80.1917 Q1136.73 81.9741 1139.93 82.8248 Q1143.13 83.6755 1146.45 83.6755 Q1153.78 83.6755 1157.43 79.8271 Q1161.08 76.0193 1161.08 68.282 L1161.08 64.5957 Q1158.77 68.6061 1155.16 70.5911 Q1151.56 72.576 1146.53 72.576 Q1138.19 72.576 1133.08 66.2161 Q1127.98 59.8562 1127.98 49.3643 Q1127.98 38.832 1133.08 32.472 Q1138.19 26.1121 1146.53 26.1121 Q1151.56 26.1121 1155.16 28.0971 Q1158.77 30.082 1161.08 34.0924 L1161.08 27.2059 L1168.53 27.2059 L1168.53 66.9452 Z\" fill=\"#000000\" fill-rule=\"nonzero\" fill-opacity=\"1\" /><path clip-path=\"url(#clip520)\" d=\"M1222.69 48.0275 L1222.69 51.6733 L1188.42 51.6733 Q1188.9 59.3701 1193.04 63.421 Q1197.21 67.4314 1204.62 67.4314 Q1208.92 67.4314 1212.93 66.3781 Q1216.98 65.3249 1220.95 63.2184 L1220.95 70.267 Q1216.94 71.9684 1212.72 72.8596 Q1208.51 73.7508 1204.18 73.7508 Q1193.32 73.7508 1186.96 67.4314 Q1180.64 61.1119 1180.64 50.3365 Q1180.64 39.1965 1186.64 32.6746 Q1192.67 26.1121 1202.88 26.1121 Q1212.04 26.1121 1217.34 32.0264 Q1222.69 37.9003 1222.69 48.0275 M1215.24 45.84 Q1215.15 39.7232 1211.79 36.0774 Q1208.47 32.4315 1202.96 32.4315 Q1196.72 32.4315 1192.96 35.9558 Q1189.23 39.4801 1188.66 45.8805 L1215.24 45.84 Z\" fill=\"#000000\" fill-rule=\"nonzero\" fill-opacity=\"1\" /><path clip-path=\"url(#clip520)\" d=\"M1272.64 45.1919 L1272.64 72.576 L1265.18 72.576 L1265.18 45.4349 Q1265.18 38.994 1262.67 35.7938 Q1260.16 32.5936 1255.14 32.5936 Q1249.1 32.5936 1245.62 36.4419 Q1242.13 40.2903 1242.13 46.9338 L1242.13 72.576 L1234.64 72.576 L1234.64 27.2059 L1242.13 27.2059 L1242.13 34.2544 Q1244.81 30.163 1248.41 28.1376 Q1252.06 26.1121 1256.8 26.1121 Q1264.62 26.1121 1268.63 30.9732 Q1272.64 35.7938 1272.64 45.1919 Z\" fill=\"#000000\" fill-rule=\"nonzero\" fill-opacity=\"1\" /><path clip-path=\"url(#clip520)\" d=\"M1282.16 27.2059 L1290.06 27.2059 L1304.23 65.2844 L1318.41 27.2059 L1326.31 27.2059 L1309.3 72.576 L1299.17 72.576 L1282.16 27.2059 Z\" fill=\"#000000\" fill-rule=\"nonzero\" fill-opacity=\"1\" /><path clip-path=\"url(#clip520)\" d=\"M1357.22 49.7694 Q1348.19 49.7694 1344.7 51.8354 Q1341.22 53.9013 1341.22 58.8839 Q1341.22 62.8538 1343.81 65.2034 Q1346.44 67.5124 1350.94 67.5124 Q1357.14 67.5124 1360.87 63.1374 Q1364.63 58.7219 1364.63 51.4303 L1364.63 49.7694 L1357.22 49.7694 M1372.09 46.6907 L1372.09 72.576 L1364.63 72.576 L1364.63 65.6895 Q1362.08 69.8214 1358.27 71.8063 Q1354.47 73.7508 1348.96 73.7508 Q1341.99 73.7508 1337.86 69.8619 Q1333.77 65.9325 1333.77 59.3701 Q1333.77 51.7138 1338.87 47.825 Q1344.01 43.9361 1354.18 43.9361 L1364.63 43.9361 L1364.63 43.2069 Q1364.63 38.0623 1361.23 35.2672 Q1357.87 32.4315 1351.75 32.4315 Q1347.86 32.4315 1344.18 33.3632 Q1340.49 34.295 1337.09 36.1584 L1337.09 29.2718 Q1341.18 27.692 1345.03 26.9223 Q1348.88 26.1121 1352.52 26.1121 Q1362.36 26.1121 1367.23 31.2163 Q1372.09 36.3204 1372.09 46.6907 Z\" fill=\"#000000\" fill-rule=\"nonzero\" fill-opacity=\"1\" /><path clip-path=\"url(#clip520)\" d=\"M1387.44 9.54393 L1394.89 9.54393 L1394.89 72.576 L1387.44 72.576 L1387.44 9.54393 Z\" fill=\"#000000\" fill-rule=\"nonzero\" fill-opacity=\"1\" /><path clip-path=\"url(#clip520)\" d=\"M1409.72 54.671 L1409.72 27.2059 L1417.17 27.2059 L1417.17 54.3874 Q1417.17 60.8284 1419.68 64.0691 Q1422.2 67.2693 1427.22 67.2693 Q1433.26 67.2693 1436.74 63.421 Q1440.26 59.5726 1440.26 52.9291 L1440.26 27.2059 L1447.72 27.2059 L1447.72 72.576 L1440.26 72.576 L1440.26 65.6084 Q1437.55 69.7404 1433.94 71.7658 Q1430.38 73.7508 1425.64 73.7508 Q1417.82 73.7508 1413.77 68.8897 Q1409.72 64.0286 1409.72 54.671 M1428.48 26.1121 L1428.48 26.1121 Z\" fill=\"#000000\" fill-rule=\"nonzero\" fill-opacity=\"1\" /><path clip-path=\"url(#clip520)\" d=\"M1501.88 48.0275 L1501.88 51.6733 L1467.61 51.6733 Q1468.09 59.3701 1472.23 63.421 Q1476.4 67.4314 1483.81 67.4314 Q1488.1 67.4314 1492.12 66.3781 Q1496.17 65.3249 1500.14 63.2184 L1500.14 70.267 Q1496.13 71.9684 1491.91 72.8596 Q1487.7 73.7508 1483.37 73.7508 Q1472.51 73.7508 1466.15 67.4314 Q1459.83 61.1119 1459.83 50.3365 Q1459.83 39.1965 1465.82 32.6746 Q1471.86 26.1121 1482.07 26.1121 Q1491.22 26.1121 1496.53 32.0264 Q1501.88 37.9003 1501.88 48.0275 M1494.42 45.84 Q1494.34 39.7232 1490.98 36.0774 Q1487.66 32.4315 1482.15 32.4315 Q1475.91 32.4315 1472.14 35.9558 Q1468.42 39.4801 1467.85 45.8805 L1494.42 45.84 Z\" fill=\"#000000\" fill-rule=\"nonzero\" fill-opacity=\"1\" /><path clip-path=\"url(#clip520)\" d=\"M1543.03 28.5427 L1543.03 35.5912 Q1539.88 33.9709 1536.47 33.1607 Q1533.07 32.3505 1529.42 32.3505 Q1523.87 32.3505 1521.08 34.0519 Q1518.32 35.7533 1518.32 39.156 Q1518.32 41.7486 1520.31 43.2475 Q1522.29 44.7058 1528.29 46.0426 L1530.84 46.6097 Q1538.78 48.3111 1542.1 51.4303 Q1545.47 54.509 1545.47 60.0587 Q1545.47 66.3781 1540.44 70.0644 Q1535.46 73.7508 1526.71 73.7508 Q1523.06 73.7508 1519.09 73.0216 Q1515.16 72.3329 1510.79 70.9151 L1510.79 63.2184 Q1514.92 65.3654 1518.93 66.4591 Q1522.94 67.5124 1526.87 67.5124 Q1532.14 67.5124 1534.97 65.73 Q1537.81 63.9071 1537.81 60.6258 Q1537.81 57.5877 1535.74 55.9673 Q1533.72 54.3469 1526.79 52.8481 L1524.2 52.2405 Q1517.27 50.7821 1514.19 47.7845 Q1511.11 44.7463 1511.11 39.4801 Q1511.11 33.0797 1515.65 29.5959 Q1520.19 26.1121 1528.53 26.1121 Q1532.66 26.1121 1536.31 26.7198 Q1539.96 27.3274 1543.03 28.5427 Z\" fill=\"#000000\" fill-rule=\"nonzero\" fill-opacity=\"1\" /><polyline clip-path=\"url(#clip522)\" style=\"stroke:#009af9; stroke-linecap:round; stroke-linejoin:round; stroke-width:16; stroke-opacity:1; fill:none\" points=\"306.206,110.737 377.168,592.601 448.13,602.644 519.093,611.845 590.055,616.38 661.017,620.531 731.979,625.717 802.941,630.95 873.904,631.55 944.866,633.463 1015.83,639.756 1086.79,641.846 1157.75,647.541 1228.71,650.817 1299.68,655.81 1370.64,658.15 1441.6,659.15 1512.56,661.365 1583.53,665.126 1654.49,667.086 1725.45,669.764 1796.41,673.35 1867.37,677.002 1938.34,678.498 2009.3,682.098 2080.26,686.199 2151.22,686.782 2222.19,690.168 2293.15,694.223 \"/>\n",
       "</svg>\n"
      ]
     },
     "execution_count": 17,
     "metadata": {},
     "output_type": "execute_result"
    }
   ],
   "source": [
    "emails_pca_model_full = fit( PCA, email_mat; maxoutdim=size(email_mat,1) );\n",
    "plot( emails_pca_model_full.prinvars, linewidth=4, title=\"eigenvalues\", size=(600,200), legend=false )"
   ]
  },
  {
   "cell_type": "markdown",
   "metadata": {},
   "source": [
    "### find the ratio of the total variance obtained from the 'first 2' and the 'first 3' eigenvalues"
   ]
  },
  {
   "cell_type": "code",
   "execution_count": 18,
   "metadata": {},
   "outputs": [
    {
     "data": {
      "text/plain": [
       "0.2906449791093425"
      ]
     },
     "execution_count": 18,
     "metadata": {},
     "output_type": "execute_result"
    }
   ],
   "source": [
    "sum(emails_pca_model_full.prinvars[1:2]) / sum(emails_pca_model_full.prinvars)"
   ]
  },
  {
   "cell_type": "code",
   "execution_count": 19,
   "metadata": {},
   "outputs": [
    {
     "data": {
      "text/plain": [
       "0.3371376776756272"
      ]
     },
     "execution_count": 19,
     "metadata": {},
     "output_type": "execute_result"
    }
   ],
   "source": [
    "sum(emails_pca_model_full.prinvars[1:3]) / sum(emails_pca_model_full.prinvars)"
   ]
  },
  {
   "cell_type": "markdown",
   "metadata": {},
   "source": [
    "### this time select only up to 2 eigenvectors"
   ]
  },
  {
   "cell_type": "code",
   "execution_count": 20,
   "metadata": {},
   "outputs": [],
   "source": [
    "emails_pca_model = fit(PCA, email_mat; maxoutdim=2);"
   ]
  },
  {
   "cell_type": "markdown",
   "metadata": {},
   "source": [
    "## 'transform' the data (project the data onto the eigenvectors)\n",
    "\n",
    "- this takes in the email vector representations, multiplies it agains the eigenvectors to get the 'transformations' which is the projection of the each email onto each eigenvector\n",
    "- If there are 2 eigenvectors then each email is multiplied (projected) onto each vector producing a single value each time, and each value is considered to be a new 'x' and 'y'. If you had 5 eigenvectors, there would be 5 projections (multiplications) with a single email creating 5 values per email, but we choose 2 to make it easy to visualize."
   ]
  },
  {
   "cell_type": "code",
   "execution_count": 21,
   "metadata": {},
   "outputs": [
    {
     "data": {
      "text/plain": [
       "2×5 Matrix{Float64}:\n",
       " -0.130392    0.108395   -0.00629926   0.145158     0.110053\n",
       "  0.00893022  0.0236108   0.0236062   -0.00562009  -0.0181286"
      ]
     },
     "execution_count": 21,
     "metadata": {},
     "output_type": "execute_result"
    }
   ],
   "source": [
    "emails_transformed = transform(emails_pca_model, email_mat)\n",
    "emails_new_transformed = transform(emails_pca_model, email_new_mat)"
   ]
  },
  {
   "cell_type": "markdown",
   "metadata": {},
   "source": [
    "get the max and min values for each eigenvector transformation to plot it"
   ]
  },
  {
   "cell_type": "code",
   "execution_count": 22,
   "metadata": {},
   "outputs": [
    {
     "data": {
      "text/plain": [
       "0.19857135956751754"
      ]
     },
     "execution_count": 22,
     "metadata": {},
     "output_type": "execute_result"
    }
   ],
   "source": [
    "minimum_x = minimum( [emails_transformed[1,:]..., emails_new_transformed[1,:]...] ) - 0.1\n",
    "maximum_x = maximum( [emails_transformed[1,:]..., emails_new_transformed[1,:]...] ) + 0.1\n",
    "\n",
    "minimum_y = minimum( [emails_transformed[2,:]..., emails_new_transformed[2,:]...] ) - 0.1\n",
    "maximum_y = maximum( [emails_transformed[2,:]..., emails_new_transformed[2,:]...] ) + 0.1"
   ]
  },
  {
   "cell_type": "code",
   "execution_count": 23,
   "metadata": {},
   "outputs": [
    {
     "data": {
      "image/svg+xml": [
       "<?xml version=\"1.0\" encoding=\"utf-8\"?>\n",
       "<svg xmlns=\"http://www.w3.org/2000/svg\" xmlns:xlink=\"http://www.w3.org/1999/xlink\" width=\"500\" height=\"300\" viewBox=\"0 0 2000 1200\">\n",
       "<defs>\n",
       "  <clipPath id=\"clip560\">\n",
       "    <rect x=\"0\" y=\"0\" width=\"2000\" height=\"1200\"/>\n",
       "  </clipPath>\n",
       "</defs>\n",
       "<path clip-path=\"url(#clip560)\" d=\"M0 1200 L2000 1200 L2000 0 L0 0  Z\" fill=\"#ffffff\" fill-rule=\"evenodd\" fill-opacity=\"1\"/>\n",
       "<defs>\n",
       "  <clipPath id=\"clip561\">\n",
       "    <rect x=\"400\" y=\"0\" width=\"1401\" height=\"1200\"/>\n",
       "  </clipPath>\n",
       "</defs>\n",
       "<path clip-path=\"url(#clip560)\" d=\"M188.709 1093.9 L1952.76 1093.9 L1952.76 117.424 L188.709 117.424  Z\" fill=\"#ffffff\" fill-rule=\"evenodd\" fill-opacity=\"1\"/>\n",
       "<defs>\n",
       "  <clipPath id=\"clip562\">\n",
       "    <rect x=\"188\" y=\"117\" width=\"1765\" height=\"977\"/>\n",
       "  </clipPath>\n",
       "</defs>\n",
       "<polyline clip-path=\"url(#clip562)\" style=\"stroke:#000000; stroke-linecap:round; stroke-linejoin:round; stroke-width:2; stroke-opacity:0.1; fill:none\" points=\"198.679,1093.9 198.679,117.424 \"/>\n",
       "<polyline clip-path=\"url(#clip562)\" style=\"stroke:#000000; stroke-linecap:round; stroke-linejoin:round; stroke-width:2; stroke-opacity:0.1; fill:none\" points=\"507.703,1093.9 507.703,117.424 \"/>\n",
       "<polyline clip-path=\"url(#clip562)\" style=\"stroke:#000000; stroke-linecap:round; stroke-linejoin:round; stroke-width:2; stroke-opacity:0.1; fill:none\" points=\"816.726,1093.9 816.726,117.424 \"/>\n",
       "<polyline clip-path=\"url(#clip562)\" style=\"stroke:#000000; stroke-linecap:round; stroke-linejoin:round; stroke-width:2; stroke-opacity:0.1; fill:none\" points=\"1125.75,1093.9 1125.75,117.424 \"/>\n",
       "<polyline clip-path=\"url(#clip562)\" style=\"stroke:#000000; stroke-linecap:round; stroke-linejoin:round; stroke-width:2; stroke-opacity:0.1; fill:none\" points=\"1434.77,1093.9 1434.77,117.424 \"/>\n",
       "<polyline clip-path=\"url(#clip562)\" style=\"stroke:#000000; stroke-linecap:round; stroke-linejoin:round; stroke-width:2; stroke-opacity:0.1; fill:none\" points=\"1743.8,1093.9 1743.8,117.424 \"/>\n",
       "<polyline clip-path=\"url(#clip560)\" style=\"stroke:#000000; stroke-linecap:round; stroke-linejoin:round; stroke-width:4; stroke-opacity:1; fill:none\" points=\"188.709,1093.9 1952.76,1093.9 \"/>\n",
       "<polyline clip-path=\"url(#clip560)\" style=\"stroke:#000000; stroke-linecap:round; stroke-linejoin:round; stroke-width:4; stroke-opacity:1; fill:none\" points=\"198.679,1093.9 198.679,1075.01 \"/>\n",
       "<polyline clip-path=\"url(#clip560)\" style=\"stroke:#000000; stroke-linecap:round; stroke-linejoin:round; stroke-width:4; stroke-opacity:1; fill:none\" points=\"507.703,1093.9 507.703,1075.01 \"/>\n",
       "<polyline clip-path=\"url(#clip560)\" style=\"stroke:#000000; stroke-linecap:round; stroke-linejoin:round; stroke-width:4; stroke-opacity:1; fill:none\" points=\"816.726,1093.9 816.726,1075.01 \"/>\n",
       "<polyline clip-path=\"url(#clip560)\" style=\"stroke:#000000; stroke-linecap:round; stroke-linejoin:round; stroke-width:4; stroke-opacity:1; fill:none\" points=\"1125.75,1093.9 1125.75,1075.01 \"/>\n",
       "<polyline clip-path=\"url(#clip560)\" style=\"stroke:#000000; stroke-linecap:round; stroke-linejoin:round; stroke-width:4; stroke-opacity:1; fill:none\" points=\"1434.77,1093.9 1434.77,1075.01 \"/>\n",
       "<polyline clip-path=\"url(#clip560)\" style=\"stroke:#000000; stroke-linecap:round; stroke-linejoin:round; stroke-width:4; stroke-opacity:1; fill:none\" points=\"1743.8,1093.9 1743.8,1075.01 \"/>\n",
       "<path clip-path=\"url(#clip560)\" d=\"M145.532 1136.28 L175.207 1136.28 L175.207 1140.21 L145.532 1140.21 L145.532 1136.28 Z\" fill=\"#000000\" fill-rule=\"nonzero\" fill-opacity=\"1\" /><path clip-path=\"url(#clip560)\" d=\"M195.3 1121.62 Q191.689 1121.62 189.86 1125.19 Q188.055 1128.73 188.055 1135.86 Q188.055 1142.97 189.86 1146.53 Q191.689 1150.07 195.3 1150.07 Q198.934 1150.07 200.74 1146.53 Q202.568 1142.97 202.568 1135.86 Q202.568 1128.73 200.74 1125.19 Q198.934 1121.62 195.3 1121.62 M195.3 1117.92 Q201.11 1117.92 204.166 1122.53 Q207.244 1127.11 207.244 1135.86 Q207.244 1144.59 204.166 1149.19 Q201.11 1153.78 195.3 1153.78 Q189.49 1153.78 186.411 1149.19 Q183.355 1144.59 183.355 1135.86 Q183.355 1127.11 186.411 1122.53 Q189.49 1117.92 195.3 1117.92 Z\" fill=\"#000000\" fill-rule=\"nonzero\" fill-opacity=\"1\" /><path clip-path=\"url(#clip560)\" d=\"M215.462 1147.22 L220.346 1147.22 L220.346 1153.1 L215.462 1153.1 L215.462 1147.22 Z\" fill=\"#000000\" fill-rule=\"nonzero\" fill-opacity=\"1\" /><path clip-path=\"url(#clip560)\" d=\"M244.698 1134.47 Q248.054 1135.19 249.929 1137.46 Q251.827 1139.72 251.827 1143.06 Q251.827 1148.17 248.309 1150.97 Q244.79 1153.78 238.309 1153.78 Q236.133 1153.78 233.818 1153.34 Q231.527 1152.92 229.073 1152.06 L229.073 1147.55 Q231.017 1148.68 233.332 1149.26 Q235.647 1149.84 238.17 1149.84 Q242.568 1149.84 244.86 1148.1 Q247.175 1146.37 247.175 1143.06 Q247.175 1140 245.022 1138.29 Q242.892 1136.55 239.073 1136.55 L235.045 1136.55 L235.045 1132.71 L239.258 1132.71 Q242.707 1132.71 244.536 1131.34 Q246.364 1129.96 246.364 1127.36 Q246.364 1124.7 244.466 1123.29 Q242.591 1121.85 239.073 1121.85 Q237.152 1121.85 234.952 1122.27 Q232.753 1122.69 230.115 1123.57 L230.115 1119.4 Q232.777 1118.66 235.091 1118.29 Q237.429 1117.92 239.489 1117.92 Q244.814 1117.92 247.915 1120.35 Q251.017 1122.76 251.017 1126.88 Q251.017 1129.75 249.374 1131.74 Q247.73 1133.71 244.698 1134.47 Z\" fill=\"#000000\" fill-rule=\"nonzero\" fill-opacity=\"1\" /><path clip-path=\"url(#clip560)\" d=\"M455.03 1136.28 L484.705 1136.28 L484.705 1140.21 L455.03 1140.21 L455.03 1136.28 Z\" fill=\"#000000\" fill-rule=\"nonzero\" fill-opacity=\"1\" /><path clip-path=\"url(#clip560)\" d=\"M504.798 1121.62 Q501.187 1121.62 499.358 1125.19 Q497.552 1128.73 497.552 1135.86 Q497.552 1142.97 499.358 1146.53 Q501.187 1150.07 504.798 1150.07 Q508.432 1150.07 510.238 1146.53 Q512.066 1142.97 512.066 1135.86 Q512.066 1128.73 510.238 1125.19 Q508.432 1121.62 504.798 1121.62 M504.798 1117.92 Q510.608 1117.92 513.663 1122.53 Q516.742 1127.11 516.742 1135.86 Q516.742 1144.59 513.663 1149.19 Q510.608 1153.78 504.798 1153.78 Q498.988 1153.78 495.909 1149.19 Q492.853 1144.59 492.853 1135.86 Q492.853 1127.11 495.909 1122.53 Q498.988 1117.92 504.798 1117.92 Z\" fill=\"#000000\" fill-rule=\"nonzero\" fill-opacity=\"1\" /><path clip-path=\"url(#clip560)\" d=\"M524.96 1147.22 L529.844 1147.22 L529.844 1153.1 L524.96 1153.1 L524.96 1147.22 Z\" fill=\"#000000\" fill-rule=\"nonzero\" fill-opacity=\"1\" /><path clip-path=\"url(#clip560)\" d=\"M544.057 1149.17 L560.376 1149.17 L560.376 1153.1 L538.432 1153.1 L538.432 1149.17 Q541.094 1146.41 545.677 1141.78 Q550.284 1137.13 551.464 1135.79 Q553.71 1133.27 554.589 1131.53 Q555.492 1129.77 555.492 1128.08 Q555.492 1125.33 553.548 1123.59 Q551.626 1121.85 548.524 1121.85 Q546.325 1121.85 543.872 1122.62 Q541.441 1123.38 538.663 1124.93 L538.663 1120.21 Q541.487 1119.08 543.941 1118.5 Q546.395 1117.92 548.432 1117.92 Q553.802 1117.92 556.997 1120.6 Q560.191 1123.29 560.191 1127.78 Q560.191 1129.91 559.381 1131.83 Q558.594 1133.73 556.487 1136.32 Q555.909 1136.99 552.807 1140.21 Q549.705 1143.4 544.057 1149.17 Z\" fill=\"#000000\" fill-rule=\"nonzero\" fill-opacity=\"1\" /><path clip-path=\"url(#clip560)\" d=\"M763.868 1136.28 L793.544 1136.28 L793.544 1140.21 L763.868 1140.21 L763.868 1136.28 Z\" fill=\"#000000\" fill-rule=\"nonzero\" fill-opacity=\"1\" /><path clip-path=\"url(#clip560)\" d=\"M813.636 1121.62 Q810.025 1121.62 808.196 1125.19 Q806.391 1128.73 806.391 1135.86 Q806.391 1142.97 808.196 1146.53 Q810.025 1150.07 813.636 1150.07 Q817.27 1150.07 819.076 1146.53 Q820.904 1142.97 820.904 1135.86 Q820.904 1128.73 819.076 1125.19 Q817.27 1121.62 813.636 1121.62 M813.636 1117.92 Q819.446 1117.92 822.502 1122.53 Q825.58 1127.11 825.58 1135.86 Q825.58 1144.59 822.502 1149.19 Q819.446 1153.78 813.636 1153.78 Q807.826 1153.78 804.747 1149.19 Q801.692 1144.59 801.692 1135.86 Q801.692 1127.11 804.747 1122.53 Q807.826 1117.92 813.636 1117.92 Z\" fill=\"#000000\" fill-rule=\"nonzero\" fill-opacity=\"1\" /><path clip-path=\"url(#clip560)\" d=\"M833.798 1147.22 L838.682 1147.22 L838.682 1153.1 L833.798 1153.1 L833.798 1147.22 Z\" fill=\"#000000\" fill-rule=\"nonzero\" fill-opacity=\"1\" /><path clip-path=\"url(#clip560)\" d=\"M849.677 1149.17 L857.316 1149.17 L857.316 1122.8 L849.006 1124.47 L849.006 1120.21 L857.27 1118.54 L861.946 1118.54 L861.946 1149.17 L869.585 1149.17 L869.585 1153.1 L849.677 1153.1 L849.677 1149.17 Z\" fill=\"#000000\" fill-rule=\"nonzero\" fill-opacity=\"1\" /><path clip-path=\"url(#clip560)\" d=\"M1103.13 1121.62 Q1099.52 1121.62 1097.69 1125.19 Q1095.89 1128.73 1095.89 1135.86 Q1095.89 1142.97 1097.69 1146.53 Q1099.52 1150.07 1103.13 1150.07 Q1106.77 1150.07 1108.57 1146.53 Q1110.4 1142.97 1110.4 1135.86 Q1110.4 1128.73 1108.57 1125.19 Q1106.77 1121.62 1103.13 1121.62 M1103.13 1117.92 Q1108.94 1117.92 1112 1122.53 Q1115.08 1127.11 1115.08 1135.86 Q1115.08 1144.59 1112 1149.19 Q1108.94 1153.78 1103.13 1153.78 Q1097.32 1153.78 1094.25 1149.19 Q1091.19 1144.59 1091.19 1135.86 Q1091.19 1127.11 1094.25 1122.53 Q1097.32 1117.92 1103.13 1117.92 Z\" fill=\"#000000\" fill-rule=\"nonzero\" fill-opacity=\"1\" /><path clip-path=\"url(#clip560)\" d=\"M1123.3 1147.22 L1128.18 1147.22 L1128.18 1153.1 L1123.3 1153.1 L1123.3 1147.22 Z\" fill=\"#000000\" fill-rule=\"nonzero\" fill-opacity=\"1\" /><path clip-path=\"url(#clip560)\" d=\"M1148.37 1121.62 Q1144.75 1121.62 1142.93 1125.19 Q1141.12 1128.73 1141.12 1135.86 Q1141.12 1142.97 1142.93 1146.53 Q1144.75 1150.07 1148.37 1150.07 Q1152 1150.07 1153.81 1146.53 Q1155.63 1142.97 1155.63 1135.86 Q1155.63 1128.73 1153.81 1125.19 Q1152 1121.62 1148.37 1121.62 M1148.37 1117.92 Q1154.18 1117.92 1157.23 1122.53 Q1160.31 1127.11 1160.31 1135.86 Q1160.31 1144.59 1157.23 1149.19 Q1154.18 1153.78 1148.37 1153.78 Q1142.56 1153.78 1139.48 1149.19 Q1136.42 1144.59 1136.42 1135.86 Q1136.42 1127.11 1139.48 1122.53 Q1142.56 1117.92 1148.37 1117.92 Z\" fill=\"#000000\" fill-rule=\"nonzero\" fill-opacity=\"1\" /><path clip-path=\"url(#clip560)\" d=\"M1412.77 1121.62 Q1409.16 1121.62 1407.33 1125.19 Q1405.53 1128.73 1405.53 1135.86 Q1405.53 1142.97 1407.33 1146.53 Q1409.16 1150.07 1412.77 1150.07 Q1416.41 1150.07 1418.21 1146.53 Q1420.04 1142.97 1420.04 1135.86 Q1420.04 1128.73 1418.21 1125.19 Q1416.41 1121.62 1412.77 1121.62 M1412.77 1117.92 Q1418.58 1117.92 1421.64 1122.53 Q1424.72 1127.11 1424.72 1135.86 Q1424.72 1144.59 1421.64 1149.19 Q1418.58 1153.78 1412.77 1153.78 Q1406.96 1153.78 1403.88 1149.19 Q1400.83 1144.59 1400.83 1135.86 Q1400.83 1127.11 1403.88 1122.53 Q1406.96 1117.92 1412.77 1117.92 Z\" fill=\"#000000\" fill-rule=\"nonzero\" fill-opacity=\"1\" /><path clip-path=\"url(#clip560)\" d=\"M1432.93 1147.22 L1437.82 1147.22 L1437.82 1153.1 L1432.93 1153.1 L1432.93 1147.22 Z\" fill=\"#000000\" fill-rule=\"nonzero\" fill-opacity=\"1\" /><path clip-path=\"url(#clip560)\" d=\"M1448.81 1149.17 L1456.45 1149.17 L1456.45 1122.8 L1448.14 1124.47 L1448.14 1120.21 L1456.4 1118.54 L1461.08 1118.54 L1461.08 1149.17 L1468.72 1149.17 L1468.72 1153.1 L1448.81 1153.1 L1448.81 1149.17 Z\" fill=\"#000000\" fill-rule=\"nonzero\" fill-opacity=\"1\" /><path clip-path=\"url(#clip560)\" d=\"M1721.98 1121.62 Q1718.37 1121.62 1716.54 1125.19 Q1714.73 1128.73 1714.73 1135.86 Q1714.73 1142.97 1716.54 1146.53 Q1718.37 1150.07 1721.98 1150.07 Q1725.61 1150.07 1727.42 1146.53 Q1729.25 1142.97 1729.25 1135.86 Q1729.25 1128.73 1727.42 1125.19 Q1725.61 1121.62 1721.98 1121.62 M1721.98 1117.92 Q1727.79 1117.92 1730.85 1122.53 Q1733.92 1127.11 1733.92 1135.86 Q1733.92 1144.59 1730.85 1149.19 Q1727.79 1153.78 1721.98 1153.78 Q1716.17 1153.78 1713.09 1149.19 Q1710.04 1144.59 1710.04 1135.86 Q1710.04 1127.11 1713.09 1122.53 Q1716.17 1117.92 1721.98 1117.92 Z\" fill=\"#000000\" fill-rule=\"nonzero\" fill-opacity=\"1\" /><path clip-path=\"url(#clip560)\" d=\"M1742.14 1147.22 L1747.03 1147.22 L1747.03 1153.1 L1742.14 1153.1 L1742.14 1147.22 Z\" fill=\"#000000\" fill-rule=\"nonzero\" fill-opacity=\"1\" /><path clip-path=\"url(#clip560)\" d=\"M1761.24 1149.17 L1777.56 1149.17 L1777.56 1153.1 L1755.61 1153.1 L1755.61 1149.17 Q1758.28 1146.41 1762.86 1141.78 Q1767.47 1137.13 1768.65 1135.79 Q1770.89 1133.27 1771.77 1131.53 Q1772.67 1129.77 1772.67 1128.08 Q1772.67 1125.33 1770.73 1123.59 Q1768.81 1121.85 1765.71 1121.85 Q1763.51 1121.85 1761.05 1122.62 Q1758.62 1123.38 1755.84 1124.93 L1755.84 1120.21 Q1758.67 1119.08 1761.12 1118.5 Q1763.58 1117.92 1765.61 1117.92 Q1770.98 1117.92 1774.18 1120.6 Q1777.37 1123.29 1777.37 1127.78 Q1777.37 1129.91 1776.56 1131.83 Q1775.78 1133.73 1773.67 1136.32 Q1773.09 1136.99 1769.99 1140.21 Q1766.89 1143.4 1761.24 1149.17 Z\" fill=\"#000000\" fill-rule=\"nonzero\" fill-opacity=\"1\" /><polyline clip-path=\"url(#clip562)\" style=\"stroke:#000000; stroke-linecap:round; stroke-linejoin:round; stroke-width:2; stroke-opacity:0.1; fill:none\" points=\"188.709,966.18 1952.76,966.18 \"/>\n",
       "<polyline clip-path=\"url(#clip562)\" style=\"stroke:#000000; stroke-linecap:round; stroke-linejoin:round; stroke-width:2; stroke-opacity:0.1; fill:none\" points=\"188.709,753.23 1952.76,753.23 \"/>\n",
       "<polyline clip-path=\"url(#clip562)\" style=\"stroke:#000000; stroke-linecap:round; stroke-linejoin:round; stroke-width:2; stroke-opacity:0.1; fill:none\" points=\"188.709,540.281 1952.76,540.281 \"/>\n",
       "<polyline clip-path=\"url(#clip562)\" style=\"stroke:#000000; stroke-linecap:round; stroke-linejoin:round; stroke-width:2; stroke-opacity:0.1; fill:none\" points=\"188.709,327.331 1952.76,327.331 \"/>\n",
       "<polyline clip-path=\"url(#clip560)\" style=\"stroke:#000000; stroke-linecap:round; stroke-linejoin:round; stroke-width:4; stroke-opacity:1; fill:none\" points=\"188.709,1093.9 188.709,117.424 \"/>\n",
       "<polyline clip-path=\"url(#clip560)\" style=\"stroke:#000000; stroke-linecap:round; stroke-linejoin:round; stroke-width:4; stroke-opacity:1; fill:none\" points=\"188.709,966.18 207.607,966.18 \"/>\n",
       "<polyline clip-path=\"url(#clip560)\" style=\"stroke:#000000; stroke-linecap:round; stroke-linejoin:round; stroke-width:4; stroke-opacity:1; fill:none\" points=\"188.709,753.23 207.607,753.23 \"/>\n",
       "<polyline clip-path=\"url(#clip560)\" style=\"stroke:#000000; stroke-linecap:round; stroke-linejoin:round; stroke-width:4; stroke-opacity:1; fill:none\" points=\"188.709,540.281 207.607,540.281 \"/>\n",
       "<polyline clip-path=\"url(#clip560)\" style=\"stroke:#000000; stroke-linecap:round; stroke-linejoin:round; stroke-width:4; stroke-opacity:1; fill:none\" points=\"188.709,327.331 207.607,327.331 \"/>\n",
       "<path clip-path=\"url(#clip560)\" d=\"M53.3625 966.631 L83.0383 966.631 L83.0383 970.567 L53.3625 970.567 L53.3625 966.631 Z\" fill=\"#000000\" fill-rule=\"nonzero\" fill-opacity=\"1\" /><path clip-path=\"url(#clip560)\" d=\"M103.131 951.979 Q99.5197 951.979 97.691 955.544 Q95.8854 959.085 95.8854 966.215 Q95.8854 973.321 97.691 976.886 Q99.5197 980.428 103.131 980.428 Q106.765 980.428 108.571 976.886 Q110.399 973.321 110.399 966.215 Q110.399 959.085 108.571 955.544 Q106.765 951.979 103.131 951.979 M103.131 948.275 Q108.941 948.275 111.996 952.882 Q115.075 957.465 115.075 966.215 Q115.075 974.942 111.996 979.548 Q108.941 984.131 103.131 984.131 Q97.3206 984.131 94.2419 979.548 Q91.1864 974.942 91.1864 966.215 Q91.1864 957.465 94.2419 952.882 Q97.3206 948.275 103.131 948.275 Z\" fill=\"#000000\" fill-rule=\"nonzero\" fill-opacity=\"1\" /><path clip-path=\"url(#clip560)\" d=\"M123.293 977.58 L128.177 977.58 L128.177 983.46 L123.293 983.46 L123.293 977.58 Z\" fill=\"#000000\" fill-rule=\"nonzero\" fill-opacity=\"1\" /><path clip-path=\"url(#clip560)\" d=\"M142.39 979.525 L158.709 979.525 L158.709 983.46 L136.765 983.46 L136.765 979.525 Q139.427 976.77 144.01 972.141 Q148.617 967.488 149.797 966.145 Q152.043 963.622 152.922 961.886 Q153.825 960.127 153.825 958.437 Q153.825 955.682 151.88 953.946 Q149.959 952.21 146.857 952.21 Q144.658 952.21 142.205 952.974 Q139.774 953.738 136.996 955.289 L136.996 950.567 Q139.82 949.432 142.274 948.854 Q144.728 948.275 146.765 948.275 Q152.135 948.275 155.33 950.96 Q158.524 953.645 158.524 958.136 Q158.524 960.266 157.714 962.187 Q156.927 964.085 154.82 966.678 Q154.242 967.349 151.14 970.567 Q148.038 973.761 142.39 979.525 Z\" fill=\"#000000\" fill-rule=\"nonzero\" fill-opacity=\"1\" /><path clip-path=\"url(#clip560)\" d=\"M52.9921 753.682 L82.6679 753.682 L82.6679 757.617 L52.9921 757.617 L52.9921 753.682 Z\" fill=\"#000000\" fill-rule=\"nonzero\" fill-opacity=\"1\" /><path clip-path=\"url(#clip560)\" d=\"M102.76 739.029 Q99.1493 739.029 97.3206 742.594 Q95.515 746.136 95.515 753.265 Q95.515 760.372 97.3206 763.936 Q99.1493 767.478 102.76 767.478 Q106.395 767.478 108.2 763.936 Q110.029 760.372 110.029 753.265 Q110.029 746.136 108.2 742.594 Q106.395 739.029 102.76 739.029 M102.76 735.325 Q108.571 735.325 111.626 739.932 Q114.705 744.515 114.705 753.265 Q114.705 761.992 111.626 766.598 Q108.571 771.182 102.76 771.182 Q96.9502 771.182 93.8715 766.598 Q90.816 761.992 90.816 753.265 Q90.816 744.515 93.8715 739.932 Q96.9502 735.325 102.76 735.325 Z\" fill=\"#000000\" fill-rule=\"nonzero\" fill-opacity=\"1\" /><path clip-path=\"url(#clip560)\" d=\"M122.922 764.631 L127.807 764.631 L127.807 770.51 L122.922 770.51 L122.922 764.631 Z\" fill=\"#000000\" fill-rule=\"nonzero\" fill-opacity=\"1\" /><path clip-path=\"url(#clip560)\" d=\"M138.802 766.575 L146.441 766.575 L146.441 740.21 L138.131 741.876 L138.131 737.617 L146.394 735.95 L151.07 735.95 L151.07 766.575 L158.709 766.575 L158.709 770.51 L138.802 770.51 L138.802 766.575 Z\" fill=\"#000000\" fill-rule=\"nonzero\" fill-opacity=\"1\" /><path clip-path=\"url(#clip560)\" d=\"M101.534 526.08 Q97.9224 526.08 96.0937 529.644 Q94.2882 533.186 94.2882 540.316 Q94.2882 547.422 96.0937 550.987 Q97.9224 554.529 101.534 554.529 Q105.168 554.529 106.973 550.987 Q108.802 547.422 108.802 540.316 Q108.802 533.186 106.973 529.644 Q105.168 526.08 101.534 526.08 M101.534 522.376 Q107.344 522.376 110.399 526.982 Q113.478 531.566 113.478 540.316 Q113.478 549.042 110.399 553.649 Q107.344 558.232 101.534 558.232 Q95.7234 558.232 92.6447 553.649 Q89.5892 549.042 89.5892 540.316 Q89.5892 531.566 92.6447 526.982 Q95.7234 522.376 101.534 522.376 Z\" fill=\"#000000\" fill-rule=\"nonzero\" fill-opacity=\"1\" /><path clip-path=\"url(#clip560)\" d=\"M121.695 551.681 L126.58 551.681 L126.58 557.561 L121.695 557.561 L121.695 551.681 Z\" fill=\"#000000\" fill-rule=\"nonzero\" fill-opacity=\"1\" /><path clip-path=\"url(#clip560)\" d=\"M146.765 526.08 Q143.154 526.08 141.325 529.644 Q139.519 533.186 139.519 540.316 Q139.519 547.422 141.325 550.987 Q143.154 554.529 146.765 554.529 Q150.399 554.529 152.205 550.987 Q154.033 547.422 154.033 540.316 Q154.033 533.186 152.205 529.644 Q150.399 526.08 146.765 526.08 M146.765 522.376 Q152.575 522.376 155.63 526.982 Q158.709 531.566 158.709 540.316 Q158.709 549.042 155.63 553.649 Q152.575 558.232 146.765 558.232 Q140.955 558.232 137.876 553.649 Q134.82 549.042 134.82 540.316 Q134.82 531.566 137.876 526.982 Q140.955 522.376 146.765 522.376 Z\" fill=\"#000000\" fill-rule=\"nonzero\" fill-opacity=\"1\" /><path clip-path=\"url(#clip560)\" d=\"M102.76 313.13 Q99.1493 313.13 97.3206 316.695 Q95.515 320.237 95.515 327.366 Q95.515 334.473 97.3206 338.037 Q99.1493 341.579 102.76 341.579 Q106.395 341.579 108.2 338.037 Q110.029 334.473 110.029 327.366 Q110.029 320.237 108.2 316.695 Q106.395 313.13 102.76 313.13 M102.76 309.426 Q108.571 309.426 111.626 314.033 Q114.705 318.616 114.705 327.366 Q114.705 336.093 111.626 340.699 Q108.571 345.283 102.76 345.283 Q96.9502 345.283 93.8715 340.699 Q90.816 336.093 90.816 327.366 Q90.816 318.616 93.8715 314.033 Q96.9502 309.426 102.76 309.426 Z\" fill=\"#000000\" fill-rule=\"nonzero\" fill-opacity=\"1\" /><path clip-path=\"url(#clip560)\" d=\"M122.922 338.732 L127.807 338.732 L127.807 344.611 L122.922 344.611 L122.922 338.732 Z\" fill=\"#000000\" fill-rule=\"nonzero\" fill-opacity=\"1\" /><path clip-path=\"url(#clip560)\" d=\"M138.802 340.676 L146.441 340.676 L146.441 314.311 L138.131 315.977 L138.131 311.718 L146.394 310.051 L151.07 310.051 L151.07 340.676 L158.709 340.676 L158.709 344.611 L138.802 344.611 L138.802 340.676 Z\" fill=\"#000000\" fill-rule=\"nonzero\" fill-opacity=\"1\" /><path clip-path=\"url(#clip560)\" d=\"M714.435 48.0275 L714.435 51.6733 L680.165 51.6733 Q680.651 59.3701 684.783 63.421 Q688.955 67.4314 696.368 67.4314 Q700.662 67.4314 704.673 66.3781 Q708.723 65.3249 712.693 63.2184 L712.693 70.267 Q708.683 71.9684 704.47 72.8596 Q700.257 73.7508 695.923 73.7508 Q685.066 73.7508 678.706 67.4314 Q672.387 61.1119 672.387 50.3365 Q672.387 39.1965 678.382 32.6746 Q684.418 26.1121 694.626 26.1121 Q703.781 26.1121 709.088 32.0264 Q714.435 37.9003 714.435 48.0275 M706.982 45.84 Q706.901 39.7232 703.538 36.0774 Q700.217 32.4315 694.707 32.4315 Q688.469 32.4315 684.702 35.9558 Q680.975 39.4801 680.408 45.8805 L706.982 45.84 Z\" fill=\"#000000\" fill-rule=\"nonzero\" fill-opacity=\"1\" /><path clip-path=\"url(#clip560)\" d=\"M761.993 35.9153 Q764.788 30.8922 768.677 28.5022 Q772.566 26.1121 777.832 26.1121 Q784.921 26.1121 788.769 31.0947 Q792.618 36.0368 792.618 45.1919 L792.618 72.576 L785.124 72.576 L785.124 45.4349 Q785.124 38.913 782.815 35.7533 Q780.505 32.5936 775.766 32.5936 Q769.973 32.5936 766.611 36.4419 Q763.249 40.2903 763.249 46.9338 L763.249 72.576 L755.754 72.576 L755.754 45.4349 Q755.754 38.8725 753.445 35.7533 Q751.136 32.5936 746.316 32.5936 Q740.604 32.5936 737.242 36.4824 Q733.88 40.3308 733.88 46.9338 L733.88 72.576 L726.385 72.576 L726.385 27.2059 L733.88 27.2059 L733.88 34.2544 Q736.432 30.082 739.996 28.0971 Q743.561 26.1121 748.463 26.1121 Q753.405 26.1121 756.848 28.6237 Q760.332 31.1352 761.993 35.9153 Z\" fill=\"#000000\" fill-rule=\"nonzero\" fill-opacity=\"1\" /><path clip-path=\"url(#clip560)\" d=\"M828.104 49.7694 Q819.07 49.7694 815.586 51.8354 Q812.103 53.9013 812.103 58.8839 Q812.103 62.8538 814.695 65.2034 Q817.328 67.5124 821.825 67.5124 Q828.023 67.5124 831.749 63.1374 Q835.517 58.7219 835.517 51.4303 L835.517 49.7694 L828.104 49.7694 M842.97 46.6907 L842.97 72.576 L835.517 72.576 L835.517 65.6895 Q832.965 69.8214 829.157 71.8063 Q825.349 73.7508 819.84 73.7508 Q812.872 73.7508 808.74 69.8619 Q804.649 65.9325 804.649 59.3701 Q804.649 51.7138 809.753 47.825 Q814.898 43.9361 825.065 43.9361 L835.517 43.9361 L835.517 43.2069 Q835.517 38.0623 832.114 35.2672 Q828.752 32.4315 822.635 32.4315 Q818.746 32.4315 815.06 33.3632 Q811.373 34.295 807.971 36.1584 L807.971 29.2718 Q812.062 27.692 815.91 26.9223 Q819.759 26.1121 823.405 26.1121 Q833.248 26.1121 838.109 31.2163 Q842.97 36.3204 842.97 46.6907 Z\" fill=\"#000000\" fill-rule=\"nonzero\" fill-opacity=\"1\" /><path clip-path=\"url(#clip560)\" d=\"M858.323 27.2059 L865.777 27.2059 L865.777 72.576 L858.323 72.576 L858.323 27.2059 M858.323 9.54393 L865.777 9.54393 L865.777 18.9825 L858.323 18.9825 L858.323 9.54393 Z\" fill=\"#000000\" fill-rule=\"nonzero\" fill-opacity=\"1\" /><path clip-path=\"url(#clip560)\" d=\"M881.373 9.54393 L888.827 9.54393 L888.827 72.576 L881.373 72.576 L881.373 9.54393 Z\" fill=\"#000000\" fill-rule=\"nonzero\" fill-opacity=\"1\" /><path clip-path=\"url(#clip560)\" d=\"M933.346 28.5427 L933.346 35.5912 Q930.186 33.9709 926.784 33.1607 Q923.381 32.3505 919.735 32.3505 Q914.185 32.3505 911.39 34.0519 Q908.636 35.7533 908.636 39.156 Q908.636 41.7486 910.621 43.2475 Q912.605 44.7058 918.601 46.0426 L921.153 46.6097 Q929.093 48.3111 932.414 51.4303 Q935.777 54.509 935.777 60.0587 Q935.777 66.3781 930.754 70.0644 Q925.771 73.7508 917.021 73.7508 Q913.375 73.7508 909.405 73.0216 Q905.476 72.3329 901.101 70.9151 L901.101 63.2184 Q905.233 65.3654 909.243 66.4591 Q913.254 67.5124 917.183 67.5124 Q922.449 67.5124 925.285 65.73 Q928.12 63.9071 928.12 60.6258 Q928.12 57.5877 926.054 55.9673 Q924.029 54.3469 917.102 52.8481 L914.509 52.2405 Q907.582 50.7821 904.504 47.7845 Q901.425 44.7463 901.425 39.4801 Q901.425 33.0797 905.962 29.5959 Q910.499 26.1121 918.844 26.1121 Q922.976 26.1121 926.622 26.7198 Q930.267 27.3274 933.346 28.5427 Z\" fill=\"#000000\" fill-rule=\"nonzero\" fill-opacity=\"1\" /><path clip-path=\"url(#clip560)\" d=\"M981.39 14.324 L981.39 27.2059 L996.743 27.2059 L996.743 32.9987 L981.39 32.9987 L981.39 57.6282 Q981.39 63.1779 982.889 64.7578 Q984.428 66.3376 989.087 66.3376 L996.743 66.3376 L996.743 72.576 L989.087 72.576 Q980.458 72.576 977.177 69.3758 Q973.896 66.1351 973.896 57.6282 L973.896 32.9987 L968.427 32.9987 L968.427 27.2059 L973.896 27.2059 L973.896 14.324 L981.39 14.324 Z\" fill=\"#000000\" fill-rule=\"nonzero\" fill-opacity=\"1\" /><path clip-path=\"url(#clip560)\" d=\"M1032.84 34.1734 Q1031.58 33.4443 1030.08 33.1202 Q1028.62 32.7556 1026.84 32.7556 Q1020.52 32.7556 1017.12 36.8875 Q1013.76 40.9789 1013.76 48.6757 L1013.76 72.576 L1006.26 72.576 L1006.26 27.2059 L1013.76 27.2059 L1013.76 34.2544 Q1016.11 30.1225 1019.87 28.1376 Q1023.64 26.1121 1029.03 26.1121 Q1029.8 26.1121 1030.73 26.2337 Q1031.66 26.3147 1032.8 26.5172 L1032.84 34.1734 Z\" fill=\"#000000\" fill-rule=\"nonzero\" fill-opacity=\"1\" /><path clip-path=\"url(#clip560)\" d=\"M1061.27 49.7694 Q1052.24 49.7694 1048.76 51.8354 Q1045.27 53.9013 1045.27 58.8839 Q1045.27 62.8538 1047.87 65.2034 Q1050.5 67.5124 1054.99 67.5124 Q1061.19 67.5124 1064.92 63.1374 Q1068.69 58.7219 1068.69 51.4303 L1068.69 49.7694 L1061.27 49.7694 M1076.14 46.6907 L1076.14 72.576 L1068.69 72.576 L1068.69 65.6895 Q1066.13 69.8214 1062.33 71.8063 Q1058.52 73.7508 1053.01 73.7508 Q1046.04 73.7508 1041.91 69.8619 Q1037.82 65.9325 1037.82 59.3701 Q1037.82 51.7138 1042.92 47.825 Q1048.07 43.9361 1058.24 43.9361 L1068.69 43.9361 L1068.69 43.2069 Q1068.69 38.0623 1065.28 35.2672 Q1061.92 32.4315 1055.8 32.4315 Q1051.92 32.4315 1048.23 33.3632 Q1044.54 34.295 1041.14 36.1584 L1041.14 29.2718 Q1045.23 27.692 1049.08 26.9223 Q1052.93 26.1121 1056.57 26.1121 Q1066.42 26.1121 1071.28 31.2163 Q1076.14 36.3204 1076.14 46.6907 Z\" fill=\"#000000\" fill-rule=\"nonzero\" fill-opacity=\"1\" /><path clip-path=\"url(#clip560)\" d=\"M1129.21 45.1919 L1129.21 72.576 L1121.75 72.576 L1121.75 45.4349 Q1121.75 38.994 1119.24 35.7938 Q1116.73 32.5936 1111.71 32.5936 Q1105.67 32.5936 1102.19 36.4419 Q1098.7 40.2903 1098.7 46.9338 L1098.7 72.576 L1091.21 72.576 L1091.21 27.2059 L1098.7 27.2059 L1098.7 34.2544 Q1101.38 30.163 1104.98 28.1376 Q1108.63 26.1121 1113.37 26.1121 Q1121.19 26.1121 1125.2 30.9732 Q1129.21 35.7938 1129.21 45.1919 Z\" fill=\"#000000\" fill-rule=\"nonzero\" fill-opacity=\"1\" /><path clip-path=\"url(#clip560)\" d=\"M1173 28.5427 L1173 35.5912 Q1169.84 33.9709 1166.44 33.1607 Q1163.03 32.3505 1159.39 32.3505 Q1153.84 32.3505 1151.04 34.0519 Q1148.29 35.7533 1148.29 39.156 Q1148.29 41.7486 1150.27 43.2475 Q1152.26 44.7058 1158.25 46.0426 L1160.8 46.6097 Q1168.74 48.3111 1172.07 51.4303 Q1175.43 54.509 1175.43 60.0587 Q1175.43 66.3781 1170.41 70.0644 Q1165.42 73.7508 1156.67 73.7508 Q1153.03 73.7508 1149.06 73.0216 Q1145.13 72.3329 1140.75 70.9151 L1140.75 63.2184 Q1144.88 65.3654 1148.89 66.4591 Q1152.91 67.5124 1156.83 67.5124 Q1162.1 67.5124 1164.94 65.73 Q1167.77 63.9071 1167.77 60.6258 Q1167.77 57.5877 1165.71 55.9673 Q1163.68 54.3469 1156.75 52.8481 L1154.16 52.2405 Q1147.23 50.7821 1144.16 47.7845 Q1141.08 44.7463 1141.08 39.4801 Q1141.08 33.0797 1145.61 29.5959 Q1150.15 26.1121 1158.5 26.1121 Q1162.63 26.1121 1166.27 26.7198 Q1169.92 27.3274 1173 28.5427 Z\" fill=\"#000000\" fill-rule=\"nonzero\" fill-opacity=\"1\" /><path clip-path=\"url(#clip560)\" d=\"M1210.27 9.54393 L1210.27 15.7418 L1203.14 15.7418 Q1199.13 15.7418 1197.55 17.3622 Q1196.01 18.9825 1196.01 23.1955 L1196.01 27.2059 L1208.28 27.2059 L1208.28 32.9987 L1196.01 32.9987 L1196.01 72.576 L1188.51 72.576 L1188.51 32.9987 L1181.38 32.9987 L1181.38 27.2059 L1188.51 27.2059 L1188.51 24.0462 Q1188.51 16.471 1192.04 13.0277 Q1195.56 9.54393 1203.22 9.54393 L1210.27 9.54393 Z\" fill=\"#000000\" fill-rule=\"nonzero\" fill-opacity=\"1\" /><path clip-path=\"url(#clip560)\" d=\"M1234.09 32.4315 Q1228.09 32.4315 1224.61 37.1306 Q1221.12 41.7891 1221.12 49.9314 Q1221.12 58.0738 1224.57 62.7728 Q1228.05 67.4314 1234.09 67.4314 Q1240.04 67.4314 1243.52 62.7323 Q1247.01 58.0333 1247.01 49.9314 Q1247.01 41.8701 1243.52 37.1711 Q1240.04 32.4315 1234.09 32.4315 M1234.09 26.1121 Q1243.81 26.1121 1249.36 32.4315 Q1254.91 38.7509 1254.91 49.9314 Q1254.91 61.0714 1249.36 67.4314 Q1243.81 73.7508 1234.09 73.7508 Q1224.32 73.7508 1218.77 67.4314 Q1213.26 61.0714 1213.26 49.9314 Q1213.26 38.7509 1218.77 32.4315 Q1224.32 26.1121 1234.09 26.1121 Z\" fill=\"#000000\" fill-rule=\"nonzero\" fill-opacity=\"1\" /><path clip-path=\"url(#clip560)\" d=\"M1293.55 34.1734 Q1292.3 33.4443 1290.8 33.1202 Q1289.34 32.7556 1287.56 32.7556 Q1281.24 32.7556 1277.84 36.8875 Q1274.47 40.9789 1274.47 48.6757 L1274.47 72.576 L1266.98 72.576 L1266.98 27.2059 L1274.47 27.2059 L1274.47 34.2544 Q1276.82 30.1225 1280.59 28.1376 Q1284.36 26.1121 1289.74 26.1121 Q1290.51 26.1121 1291.45 26.2337 Q1292.38 26.3147 1293.51 26.5172 L1293.55 34.1734 Z\" fill=\"#000000\" fill-rule=\"nonzero\" fill-opacity=\"1\" /><path clip-path=\"url(#clip560)\" d=\"M1335.24 35.9153 Q1338.03 30.8922 1341.92 28.5022 Q1345.81 26.1121 1351.08 26.1121 Q1358.16 26.1121 1362.01 31.0947 Q1365.86 36.0368 1365.86 45.1919 L1365.86 72.576 L1358.37 72.576 L1358.37 45.4349 Q1358.37 38.913 1356.06 35.7533 Q1353.75 32.5936 1349.01 32.5936 Q1343.22 32.5936 1339.85 36.4419 Q1336.49 40.2903 1336.49 46.9338 L1336.49 72.576 L1329 72.576 L1329 45.4349 Q1329 38.8725 1326.69 35.7533 Q1324.38 32.5936 1319.56 32.5936 Q1313.85 32.5936 1310.49 36.4824 Q1307.12 40.3308 1307.12 46.9338 L1307.12 72.576 L1299.63 72.576 L1299.63 27.2059 L1307.12 27.2059 L1307.12 34.2544 Q1309.68 30.082 1313.24 28.0971 Q1316.8 26.1121 1321.71 26.1121 Q1326.65 26.1121 1330.09 28.6237 Q1333.58 31.1352 1335.24 35.9153 Z\" fill=\"#000000\" fill-rule=\"nonzero\" fill-opacity=\"1\" /><path clip-path=\"url(#clip560)\" d=\"M1419.54 48.0275 L1419.54 51.6733 L1385.26 51.6733 Q1385.75 59.3701 1389.88 63.421 Q1394.06 67.4314 1401.47 67.4314 Q1405.76 67.4314 1409.77 66.3781 Q1413.82 65.3249 1417.79 63.2184 L1417.79 70.267 Q1413.78 71.9684 1409.57 72.8596 Q1405.36 73.7508 1401.02 73.7508 Q1390.17 73.7508 1383.81 67.4314 Q1377.49 61.1119 1377.49 50.3365 Q1377.49 39.1965 1383.48 32.6746 Q1389.52 26.1121 1399.73 26.1121 Q1408.88 26.1121 1414.19 32.0264 Q1419.54 37.9003 1419.54 48.0275 M1412.08 45.84 Q1412 39.7232 1408.64 36.0774 Q1405.32 32.4315 1399.81 32.4315 Q1393.57 32.4315 1389.8 35.9558 Q1386.08 39.4801 1385.51 45.8805 L1412.08 45.84 Z\" fill=\"#000000\" fill-rule=\"nonzero\" fill-opacity=\"1\" /><path clip-path=\"url(#clip560)\" d=\"M1461.62 34.0924 L1461.62 9.54393 L1469.08 9.54393 L1469.08 72.576 L1461.62 72.576 L1461.62 65.7705 Q1459.28 69.8214 1455.67 71.8063 Q1452.1 73.7508 1447.08 73.7508 Q1438.86 73.7508 1433.67 67.1883 Q1428.53 60.6258 1428.53 49.9314 Q1428.53 39.2371 1433.67 32.6746 Q1438.86 26.1121 1447.08 26.1121 Q1452.1 26.1121 1455.67 28.0971 Q1459.28 30.0415 1461.62 34.0924 M1436.23 49.9314 Q1436.23 58.1548 1439.59 62.8538 Q1442.99 67.5124 1448.9 67.5124 Q1454.82 67.5124 1458.22 62.8538 Q1461.62 58.1548 1461.62 49.9314 Q1461.62 41.7081 1458.22 37.0496 Q1454.82 32.3505 1448.9 32.3505 Q1442.99 32.3505 1439.59 37.0496 Q1436.23 41.7081 1436.23 49.9314 Z\" fill=\"#000000\" fill-rule=\"nonzero\" fill-opacity=\"1\" /><circle clip-path=\"url(#clip562)\" cx=\"1453.77\" cy=\"829.749\" r=\"14.4\" fill=\"#009af9\" fill-rule=\"evenodd\" fill-opacity=\"1\" stroke=\"#000000\" stroke-opacity=\"1\" stroke-width=\"2.4\"/>\n",
       "<circle clip-path=\"url(#clip562)\" cx=\"1551.45\" cy=\"407.126\" r=\"14.4\" fill=\"#009af9\" fill-rule=\"evenodd\" fill-opacity=\"1\" stroke=\"#000000\" stroke-opacity=\"1\" stroke-width=\"2.4\"/>\n",
       "<circle clip-path=\"url(#clip562)\" cx=\"706.623\" cy=\"549.875\" r=\"14.4\" fill=\"#009af9\" fill-rule=\"evenodd\" fill-opacity=\"1\" stroke=\"#000000\" stroke-opacity=\"1\" stroke-width=\"2.4\"/>\n",
       "<circle clip-path=\"url(#clip562)\" cx=\"1227.71\" cy=\"426.876\" r=\"14.4\" fill=\"#009af9\" fill-rule=\"evenodd\" fill-opacity=\"1\" stroke=\"#000000\" stroke-opacity=\"1\" stroke-width=\"2.4\"/>\n",
       "<circle clip-path=\"url(#clip562)\" cx=\"1344.73\" cy=\"624.191\" r=\"14.4\" fill=\"#009af9\" fill-rule=\"evenodd\" fill-opacity=\"1\" stroke=\"#000000\" stroke-opacity=\"1\" stroke-width=\"2.4\"/>\n",
       "<circle clip-path=\"url(#clip562)\" cx=\"965.014\" cy=\"709.723\" r=\"14.4\" fill=\"#009af9\" fill-rule=\"evenodd\" fill-opacity=\"1\" stroke=\"#000000\" stroke-opacity=\"1\" stroke-width=\"2.4\"/>\n",
       "<circle clip-path=\"url(#clip562)\" cx=\"848.012\" cy=\"365.172\" r=\"14.4\" fill=\"#009af9\" fill-rule=\"evenodd\" fill-opacity=\"1\" stroke=\"#000000\" stroke-opacity=\"1\" stroke-width=\"2.4\"/>\n",
       "<circle clip-path=\"url(#clip562)\" cx=\"1310\" cy=\"828.195\" r=\"14.4\" fill=\"#009af9\" fill-rule=\"evenodd\" fill-opacity=\"1\" stroke=\"#000000\" stroke-opacity=\"1\" stroke-width=\"2.4\"/>\n",
       "<circle clip-path=\"url(#clip562)\" cx=\"600.324\" cy=\"417.387\" r=\"14.4\" fill=\"#009af9\" fill-rule=\"evenodd\" fill-opacity=\"1\" stroke=\"#000000\" stroke-opacity=\"1\" stroke-width=\"2.4\"/>\n",
       "<circle clip-path=\"url(#clip562)\" cx=\"912.218\" cy=\"526.755\" r=\"14.4\" fill=\"#009af9\" fill-rule=\"evenodd\" fill-opacity=\"1\" stroke=\"#000000\" stroke-opacity=\"1\" stroke-width=\"2.4\"/>\n",
       "<circle clip-path=\"url(#clip562)\" cx=\"837.329\" cy=\"382.264\" r=\"14.4\" fill=\"#009af9\" fill-rule=\"evenodd\" fill-opacity=\"1\" stroke=\"#000000\" stroke-opacity=\"1\" stroke-width=\"2.4\"/>\n",
       "<circle clip-path=\"url(#clip562)\" cx=\"669.359\" cy=\"452.359\" r=\"14.4\" fill=\"#009af9\" fill-rule=\"evenodd\" fill-opacity=\"1\" stroke=\"#000000\" stroke-opacity=\"1\" stroke-width=\"2.4\"/>\n",
       "<circle clip-path=\"url(#clip562)\" cx=\"843.059\" cy=\"394.145\" r=\"14.4\" fill=\"#009af9\" fill-rule=\"evenodd\" fill-opacity=\"1\" stroke=\"#000000\" stroke-opacity=\"1\" stroke-width=\"2.4\"/>\n",
       "<circle clip-path=\"url(#clip562)\" cx=\"1481.22\" cy=\"517.49\" r=\"14.4\" fill=\"#009af9\" fill-rule=\"evenodd\" fill-opacity=\"1\" stroke=\"#000000\" stroke-opacity=\"1\" stroke-width=\"2.4\"/>\n",
       "<circle clip-path=\"url(#clip562)\" cx=\"1541.26\" cy=\"739.684\" r=\"14.4\" fill=\"#009af9\" fill-rule=\"evenodd\" fill-opacity=\"1\" stroke=\"#000000\" stroke-opacity=\"1\" stroke-width=\"2.4\"/>\n",
       "<circle clip-path=\"url(#clip562)\" cx=\"795.931\" cy=\"510.938\" r=\"14.4\" fill=\"#009af9\" fill-rule=\"evenodd\" fill-opacity=\"1\" stroke=\"#000000\" stroke-opacity=\"1\" stroke-width=\"2.4\"/>\n",
       "<circle clip-path=\"url(#clip562)\" cx=\"648.507\" cy=\"543.167\" r=\"14.4\" fill=\"#009af9\" fill-rule=\"evenodd\" fill-opacity=\"1\" stroke=\"#000000\" stroke-opacity=\"1\" stroke-width=\"2.4\"/>\n",
       "<circle clip-path=\"url(#clip562)\" cx=\"1523.92\" cy=\"569.861\" r=\"14.4\" fill=\"#009af9\" fill-rule=\"evenodd\" fill-opacity=\"1\" stroke=\"#000000\" stroke-opacity=\"1\" stroke-width=\"2.4\"/>\n",
       "<circle clip-path=\"url(#clip562)\" cx=\"1494.47\" cy=\"397.637\" r=\"14.4\" fill=\"#009af9\" fill-rule=\"evenodd\" fill-opacity=\"1\" stroke=\"#000000\" stroke-opacity=\"1\" stroke-width=\"2.4\"/>\n",
       "<circle clip-path=\"url(#clip562)\" cx=\"873.638\" cy=\"443.25\" r=\"14.4\" fill=\"#009af9\" fill-rule=\"evenodd\" fill-opacity=\"1\" stroke=\"#000000\" stroke-opacity=\"1\" stroke-width=\"2.4\"/>\n",
       "<circle clip-path=\"url(#clip562)\" cx=\"832.55\" cy=\"551.548\" r=\"14.4\" fill=\"#009af9\" fill-rule=\"evenodd\" fill-opacity=\"1\" stroke=\"#000000\" stroke-opacity=\"1\" stroke-width=\"2.4\"/>\n",
       "<circle clip-path=\"url(#clip562)\" cx=\"1340.86\" cy=\"818.768\" r=\"14.4\" fill=\"#009af9\" fill-rule=\"evenodd\" fill-opacity=\"1\" stroke=\"#000000\" stroke-opacity=\"1\" stroke-width=\"2.4\"/>\n",
       "<circle clip-path=\"url(#clip562)\" cx=\"1554.92\" cy=\"481.57\" r=\"14.4\" fill=\"#009af9\" fill-rule=\"evenodd\" fill-opacity=\"1\" stroke=\"#000000\" stroke-opacity=\"1\" stroke-width=\"2.4\"/>\n",
       "<circle clip-path=\"url(#clip562)\" cx=\"1427.53\" cy=\"451.851\" r=\"14.4\" fill=\"#009af9\" fill-rule=\"evenodd\" fill-opacity=\"1\" stroke=\"#000000\" stroke-opacity=\"1\" stroke-width=\"2.4\"/>\n",
       "<circle clip-path=\"url(#clip562)\" cx=\"1350.2\" cy=\"599.981\" r=\"14.4\" fill=\"#009af9\" fill-rule=\"evenodd\" fill-opacity=\"1\" stroke=\"#000000\" stroke-opacity=\"1\" stroke-width=\"2.4\"/>\n",
       "<circle clip-path=\"url(#clip562)\" cx=\"1406.47\" cy=\"482.03\" r=\"14.4\" fill=\"#009af9\" fill-rule=\"evenodd\" fill-opacity=\"1\" stroke=\"#000000\" stroke-opacity=\"1\" stroke-width=\"2.4\"/>\n",
       "<circle clip-path=\"url(#clip562)\" cx=\"1496.34\" cy=\"444.924\" r=\"14.4\" fill=\"#009af9\" fill-rule=\"evenodd\" fill-opacity=\"1\" stroke=\"#000000\" stroke-opacity=\"1\" stroke-width=\"2.4\"/>\n",
       "<circle clip-path=\"url(#clip562)\" cx=\"623.446\" cy=\"411.094\" r=\"14.4\" fill=\"#009af9\" fill-rule=\"evenodd\" fill-opacity=\"1\" stroke=\"#000000\" stroke-opacity=\"1\" stroke-width=\"2.4\"/>\n",
       "<circle clip-path=\"url(#clip562)\" cx=\"1457.74\" cy=\"578.21\" r=\"14.4\" fill=\"#009af9\" fill-rule=\"evenodd\" fill-opacity=\"1\" stroke=\"#000000\" stroke-opacity=\"1\" stroke-width=\"2.4\"/>\n",
       "<circle clip-path=\"url(#clip562)\" cx=\"674.597\" cy=\"677\" r=\"14.4\" fill=\"#009af9\" fill-rule=\"evenodd\" fill-opacity=\"1\" stroke=\"#000000\" stroke-opacity=\"1\" stroke-width=\"2.4\"/>\n",
       "<circle clip-path=\"url(#clip562)\" cx=\"866.699\" cy=\"526.334\" r=\"14.4\" fill=\"#009af9\" fill-rule=\"evenodd\" fill-opacity=\"1\" stroke=\"#000000\" stroke-opacity=\"1\" stroke-width=\"2.4\"/>\n",
       "<circle clip-path=\"url(#clip562)\" cx=\"817.52\" cy=\"666.125\" r=\"14.4\" fill=\"#009af9\" fill-rule=\"evenodd\" fill-opacity=\"1\" stroke=\"#000000\" stroke-opacity=\"1\" stroke-width=\"2.4\"/>\n",
       "<circle clip-path=\"url(#clip562)\" cx=\"757.819\" cy=\"477.548\" r=\"14.4\" fill=\"#009af9\" fill-rule=\"evenodd\" fill-opacity=\"1\" stroke=\"#000000\" stroke-opacity=\"1\" stroke-width=\"2.4\"/>\n",
       "<circle clip-path=\"url(#clip562)\" cx=\"746.316\" cy=\"517.218\" r=\"14.4\" fill=\"#009af9\" fill-rule=\"evenodd\" fill-opacity=\"1\" stroke=\"#000000\" stroke-opacity=\"1\" stroke-width=\"2.4\"/>\n",
       "<circle clip-path=\"url(#clip562)\" cx=\"1369.08\" cy=\"573.077\" r=\"14.4\" fill=\"#009af9\" fill-rule=\"evenodd\" fill-opacity=\"1\" stroke=\"#000000\" stroke-opacity=\"1\" stroke-width=\"2.4\"/>\n",
       "<circle clip-path=\"url(#clip562)\" cx=\"1588.17\" cy=\"440.728\" r=\"14.4\" fill=\"#009af9\" fill-rule=\"evenodd\" fill-opacity=\"1\" stroke=\"#000000\" stroke-opacity=\"1\" stroke-width=\"2.4\"/>\n",
       "<circle clip-path=\"url(#clip562)\" cx=\"1342.27\" cy=\"668.45\" r=\"14.4\" fill=\"#009af9\" fill-rule=\"evenodd\" fill-opacity=\"1\" stroke=\"#000000\" stroke-opacity=\"1\" stroke-width=\"2.4\"/>\n",
       "<circle clip-path=\"url(#clip562)\" cx=\"896.974\" cy=\"537.563\" r=\"14.4\" fill=\"#009af9\" fill-rule=\"evenodd\" fill-opacity=\"1\" stroke=\"#000000\" stroke-opacity=\"1\" stroke-width=\"2.4\"/>\n",
       "<circle clip-path=\"url(#clip562)\" cx=\"1293.76\" cy=\"510.914\" r=\"14.4\" fill=\"#009af9\" fill-rule=\"evenodd\" fill-opacity=\"1\" stroke=\"#000000\" stroke-opacity=\"1\" stroke-width=\"2.4\"/>\n",
       "<circle clip-path=\"url(#clip562)\" cx=\"665.999\" cy=\"647.302\" r=\"14.4\" fill=\"#009af9\" fill-rule=\"evenodd\" fill-opacity=\"1\" stroke=\"#000000\" stroke-opacity=\"1\" stroke-width=\"2.4\"/>\n",
       "<circle clip-path=\"url(#clip562)\" cx=\"815.199\" cy=\"562.485\" r=\"14.4\" fill=\"#009af9\" fill-rule=\"evenodd\" fill-opacity=\"1\" stroke=\"#000000\" stroke-opacity=\"1\" stroke-width=\"2.4\"/>\n",
       "<circle clip-path=\"url(#clip562)\" cx=\"1424.37\" cy=\"422.723\" r=\"14.4\" fill=\"#009af9\" fill-rule=\"evenodd\" fill-opacity=\"1\" stroke=\"#000000\" stroke-opacity=\"1\" stroke-width=\"2.4\"/>\n",
       "<circle clip-path=\"url(#clip562)\" cx=\"653.204\" cy=\"628.284\" r=\"14.4\" fill=\"#009af9\" fill-rule=\"evenodd\" fill-opacity=\"1\" stroke=\"#000000\" stroke-opacity=\"1\" stroke-width=\"2.4\"/>\n",
       "<circle clip-path=\"url(#clip562)\" cx=\"871.737\" cy=\"522.833\" r=\"14.4\" fill=\"#009af9\" fill-rule=\"evenodd\" fill-opacity=\"1\" stroke=\"#000000\" stroke-opacity=\"1\" stroke-width=\"2.4\"/>\n",
       "<circle clip-path=\"url(#clip562)\" cx=\"1517.51\" cy=\"414.448\" r=\"14.4\" fill=\"#009af9\" fill-rule=\"evenodd\" fill-opacity=\"1\" stroke=\"#000000\" stroke-opacity=\"1\" stroke-width=\"2.4\"/>\n",
       "<circle clip-path=\"url(#clip562)\" cx=\"734.586\" cy=\"417.233\" r=\"14.4\" fill=\"#009af9\" fill-rule=\"evenodd\" fill-opacity=\"1\" stroke=\"#000000\" stroke-opacity=\"1\" stroke-width=\"2.4\"/>\n",
       "<circle clip-path=\"url(#clip562)\" cx=\"1538.75\" cy=\"374.519\" r=\"14.4\" fill=\"#009af9\" fill-rule=\"evenodd\" fill-opacity=\"1\" stroke=\"#000000\" stroke-opacity=\"1\" stroke-width=\"2.4\"/>\n",
       "<circle clip-path=\"url(#clip562)\" cx=\"1419.97\" cy=\"779.162\" r=\"14.4\" fill=\"#009af9\" fill-rule=\"evenodd\" fill-opacity=\"1\" stroke=\"#000000\" stroke-opacity=\"1\" stroke-width=\"2.4\"/>\n",
       "<circle clip-path=\"url(#clip562)\" cx=\"781.038\" cy=\"735.247\" r=\"14.4\" fill=\"#009af9\" fill-rule=\"evenodd\" fill-opacity=\"1\" stroke=\"#000000\" stroke-opacity=\"1\" stroke-width=\"2.4\"/>\n",
       "<circle clip-path=\"url(#clip562)\" cx=\"603.702\" cy=\"448.222\" r=\"14.4\" fill=\"#009af9\" fill-rule=\"evenodd\" fill-opacity=\"1\" stroke=\"#000000\" stroke-opacity=\"1\" stroke-width=\"2.4\"/>\n",
       "<circle clip-path=\"url(#clip562)\" cx=\"1448.28\" cy=\"590.382\" r=\"14.4\" fill=\"#009af9\" fill-rule=\"evenodd\" fill-opacity=\"1\" stroke=\"#000000\" stroke-opacity=\"1\" stroke-width=\"2.4\"/>\n",
       "<circle clip-path=\"url(#clip562)\" cx=\"787.226\" cy=\"403.27\" r=\"14.4\" fill=\"#009af9\" fill-rule=\"evenodd\" fill-opacity=\"1\" stroke=\"#000000\" stroke-opacity=\"1\" stroke-width=\"2.4\"/>\n",
       "<circle clip-path=\"url(#clip562)\" cx=\"701.635\" cy=\"539.624\" r=\"14.4\" fill=\"#009af9\" fill-rule=\"evenodd\" fill-opacity=\"1\" stroke=\"#000000\" stroke-opacity=\"1\" stroke-width=\"2.4\"/>\n",
       "<circle clip-path=\"url(#clip562)\" cx=\"683.005\" cy=\"580.845\" r=\"14.4\" fill=\"#009af9\" fill-rule=\"evenodd\" fill-opacity=\"1\" stroke=\"#000000\" stroke-opacity=\"1\" stroke-width=\"2.4\"/>\n",
       "<circle clip-path=\"url(#clip562)\" cx=\"839.054\" cy=\"564.22\" r=\"14.4\" fill=\"#009af9\" fill-rule=\"evenodd\" fill-opacity=\"1\" stroke=\"#000000\" stroke-opacity=\"1\" stroke-width=\"2.4\"/>\n",
       "<circle clip-path=\"url(#clip562)\" cx=\"735.506\" cy=\"596.608\" r=\"14.4\" fill=\"#009af9\" fill-rule=\"evenodd\" fill-opacity=\"1\" stroke=\"#000000\" stroke-opacity=\"1\" stroke-width=\"2.4\"/>\n",
       "<circle clip-path=\"url(#clip562)\" cx=\"1394.04\" cy=\"486.604\" r=\"14.4\" fill=\"#009af9\" fill-rule=\"evenodd\" fill-opacity=\"1\" stroke=\"#000000\" stroke-opacity=\"1\" stroke-width=\"2.4\"/>\n",
       "<circle clip-path=\"url(#clip562)\" cx=\"799.283\" cy=\"352.403\" r=\"14.4\" fill=\"#009af9\" fill-rule=\"evenodd\" fill-opacity=\"1\" stroke=\"#000000\" stroke-opacity=\"1\" stroke-width=\"2.4\"/>\n",
       "<circle clip-path=\"url(#clip562)\" cx=\"674.547\" cy=\"445.336\" r=\"14.4\" fill=\"#009af9\" fill-rule=\"evenodd\" fill-opacity=\"1\" stroke=\"#000000\" stroke-opacity=\"1\" stroke-width=\"2.4\"/>\n",
       "<circle clip-path=\"url(#clip562)\" cx=\"1445.3\" cy=\"596.017\" r=\"14.4\" fill=\"#009af9\" fill-rule=\"evenodd\" fill-opacity=\"1\" stroke=\"#000000\" stroke-opacity=\"1\" stroke-width=\"2.4\"/>\n",
       "<circle clip-path=\"url(#clip562)\" cx=\"679.929\" cy=\"729.081\" r=\"14.4\" fill=\"#009af9\" fill-rule=\"evenodd\" fill-opacity=\"1\" stroke=\"#000000\" stroke-opacity=\"1\" stroke-width=\"2.4\"/>\n",
       "<circle clip-path=\"url(#clip562)\" cx=\"845.052\" cy=\"606.769\" r=\"14.4\" fill=\"#009af9\" fill-rule=\"evenodd\" fill-opacity=\"1\" stroke=\"#000000\" stroke-opacity=\"1\" stroke-width=\"2.4\"/>\n",
       "<circle clip-path=\"url(#clip562)\" cx=\"1497.03\" cy=\"334.456\" r=\"14.4\" fill=\"#009af9\" fill-rule=\"evenodd\" fill-opacity=\"1\" stroke=\"#000000\" stroke-opacity=\"1\" stroke-width=\"2.4\"/>\n",
       "<circle clip-path=\"url(#clip562)\" cx=\"1433.8\" cy=\"362.928\" r=\"14.4\" fill=\"#009af9\" fill-rule=\"evenodd\" fill-opacity=\"1\" stroke=\"#000000\" stroke-opacity=\"1\" stroke-width=\"2.4\"/>\n",
       "<circle clip-path=\"url(#clip562)\" cx=\"1475.99\" cy=\"701.183\" r=\"14.4\" fill=\"#009af9\" fill-rule=\"evenodd\" fill-opacity=\"1\" stroke=\"#000000\" stroke-opacity=\"1\" stroke-width=\"2.4\"/>\n",
       "<circle clip-path=\"url(#clip562)\" cx=\"1489.25\" cy=\"518.792\" r=\"14.4\" fill=\"#009af9\" fill-rule=\"evenodd\" fill-opacity=\"1\" stroke=\"#000000\" stroke-opacity=\"1\" stroke-width=\"2.4\"/>\n",
       "<circle clip-path=\"url(#clip562)\" cx=\"1482.61\" cy=\"510.462\" r=\"14.4\" fill=\"#009af9\" fill-rule=\"evenodd\" fill-opacity=\"1\" stroke=\"#000000\" stroke-opacity=\"1\" stroke-width=\"2.4\"/>\n",
       "<circle clip-path=\"url(#clip562)\" cx=\"873.258\" cy=\"642.206\" r=\"14.4\" fill=\"#009af9\" fill-rule=\"evenodd\" fill-opacity=\"1\" stroke=\"#000000\" stroke-opacity=\"1\" stroke-width=\"2.4\"/>\n",
       "<circle clip-path=\"url(#clip562)\" cx=\"1360.19\" cy=\"346.403\" r=\"14.4\" fill=\"#009af9\" fill-rule=\"evenodd\" fill-opacity=\"1\" stroke=\"#000000\" stroke-opacity=\"1\" stroke-width=\"2.4\"/>\n",
       "<circle clip-path=\"url(#clip562)\" cx=\"747.053\" cy=\"531.73\" r=\"14.4\" fill=\"#009af9\" fill-rule=\"evenodd\" fill-opacity=\"1\" stroke=\"#000000\" stroke-opacity=\"1\" stroke-width=\"2.4\"/>\n",
       "<circle clip-path=\"url(#clip562)\" cx=\"1557.15\" cy=\"330.374\" r=\"14.4\" fill=\"#009af9\" fill-rule=\"evenodd\" fill-opacity=\"1\" stroke=\"#000000\" stroke-opacity=\"1\" stroke-width=\"2.4\"/>\n",
       "<circle clip-path=\"url(#clip562)\" cx=\"1458.67\" cy=\"715.584\" r=\"14.4\" fill=\"#009af9\" fill-rule=\"evenodd\" fill-opacity=\"1\" stroke=\"#000000\" stroke-opacity=\"1\" stroke-width=\"2.4\"/>\n",
       "<circle clip-path=\"url(#clip562)\" cx=\"1427.18\" cy=\"611.809\" r=\"14.4\" fill=\"#009af9\" fill-rule=\"evenodd\" fill-opacity=\"1\" stroke=\"#000000\" stroke-opacity=\"1\" stroke-width=\"2.4\"/>\n",
       "<circle clip-path=\"url(#clip562)\" cx=\"1553.59\" cy=\"607.62\" r=\"14.4\" fill=\"#009af9\" fill-rule=\"evenodd\" fill-opacity=\"1\" stroke=\"#000000\" stroke-opacity=\"1\" stroke-width=\"2.4\"/>\n",
       "<circle clip-path=\"url(#clip562)\" cx=\"882.851\" cy=\"567.481\" r=\"14.4\" fill=\"#009af9\" fill-rule=\"evenodd\" fill-opacity=\"1\" stroke=\"#000000\" stroke-opacity=\"1\" stroke-width=\"2.4\"/>\n",
       "<circle clip-path=\"url(#clip562)\" cx=\"1339.13\" cy=\"616.137\" r=\"14.4\" fill=\"#009af9\" fill-rule=\"evenodd\" fill-opacity=\"1\" stroke=\"#000000\" stroke-opacity=\"1\" stroke-width=\"2.4\"/>\n",
       "<circle clip-path=\"url(#clip562)\" cx=\"1481.08\" cy=\"558.149\" r=\"14.4\" fill=\"#009af9\" fill-rule=\"evenodd\" fill-opacity=\"1\" stroke=\"#000000\" stroke-opacity=\"1\" stroke-width=\"2.4\"/>\n",
       "<circle clip-path=\"url(#clip562)\" cx=\"1479.59\" cy=\"554.378\" r=\"14.4\" fill=\"#009af9\" fill-rule=\"evenodd\" fill-opacity=\"1\" stroke=\"#000000\" stroke-opacity=\"1\" stroke-width=\"2.4\"/>\n",
       "<circle clip-path=\"url(#clip562)\" cx=\"1490.17\" cy=\"588.384\" r=\"14.4\" fill=\"#009af9\" fill-rule=\"evenodd\" fill-opacity=\"1\" stroke=\"#000000\" stroke-opacity=\"1\" stroke-width=\"2.4\"/>\n",
       "<circle clip-path=\"url(#clip562)\" cx=\"728.756\" cy=\"575.493\" r=\"14.4\" fill=\"#009af9\" fill-rule=\"evenodd\" fill-opacity=\"1\" stroke=\"#000000\" stroke-opacity=\"1\" stroke-width=\"2.4\"/>\n",
       "<circle clip-path=\"url(#clip562)\" cx=\"1266.68\" cy=\"610.946\" r=\"14.4\" fill=\"#009af9\" fill-rule=\"evenodd\" fill-opacity=\"1\" stroke=\"#000000\" stroke-opacity=\"1\" stroke-width=\"2.4\"/>\n",
       "<circle clip-path=\"url(#clip562)\" cx=\"676.332\" cy=\"495.059\" r=\"14.4\" fill=\"#009af9\" fill-rule=\"evenodd\" fill-opacity=\"1\" stroke=\"#000000\" stroke-opacity=\"1\" stroke-width=\"2.4\"/>\n",
       "<circle clip-path=\"url(#clip562)\" cx=\"865.149\" cy=\"644.231\" r=\"14.4\" fill=\"#009af9\" fill-rule=\"evenodd\" fill-opacity=\"1\" stroke=\"#000000\" stroke-opacity=\"1\" stroke-width=\"2.4\"/>\n",
       "<circle clip-path=\"url(#clip562)\" cx=\"854.399\" cy=\"518.741\" r=\"14.4\" fill=\"#009af9\" fill-rule=\"evenodd\" fill-opacity=\"1\" stroke=\"#000000\" stroke-opacity=\"1\" stroke-width=\"2.4\"/>\n",
       "<circle clip-path=\"url(#clip562)\" cx=\"1425.25\" cy=\"423.095\" r=\"14.4\" fill=\"#009af9\" fill-rule=\"evenodd\" fill-opacity=\"1\" stroke=\"#000000\" stroke-opacity=\"1\" stroke-width=\"2.4\"/>\n",
       "<circle clip-path=\"url(#clip562)\" cx=\"1451.03\" cy=\"487.965\" r=\"14.4\" fill=\"#009af9\" fill-rule=\"evenodd\" fill-opacity=\"1\" stroke=\"#000000\" stroke-opacity=\"1\" stroke-width=\"2.4\"/>\n",
       "<circle clip-path=\"url(#clip562)\" cx=\"666.089\" cy=\"500.507\" r=\"14.4\" fill=\"#009af9\" fill-rule=\"evenodd\" fill-opacity=\"1\" stroke=\"#000000\" stroke-opacity=\"1\" stroke-width=\"2.4\"/>\n",
       "<circle clip-path=\"url(#clip562)\" cx=\"1251.27\" cy=\"538.645\" r=\"14.4\" fill=\"#009af9\" fill-rule=\"evenodd\" fill-opacity=\"1\" stroke=\"#000000\" stroke-opacity=\"1\" stroke-width=\"2.4\"/>\n",
       "<circle clip-path=\"url(#clip562)\" cx=\"1465.62\" cy=\"514.099\" r=\"14.4\" fill=\"#009af9\" fill-rule=\"evenodd\" fill-opacity=\"1\" stroke=\"#000000\" stroke-opacity=\"1\" stroke-width=\"2.4\"/>\n",
       "<circle clip-path=\"url(#clip562)\" cx=\"532.333\" cy=\"509.178\" r=\"14.4\" fill=\"#009af9\" fill-rule=\"evenodd\" fill-opacity=\"1\" stroke=\"#000000\" stroke-opacity=\"1\" stroke-width=\"2.4\"/>\n",
       "<circle clip-path=\"url(#clip562)\" cx=\"648.822\" cy=\"547.565\" r=\"14.4\" fill=\"#009af9\" fill-rule=\"evenodd\" fill-opacity=\"1\" stroke=\"#000000\" stroke-opacity=\"1\" stroke-width=\"2.4\"/>\n",
       "<circle clip-path=\"url(#clip562)\" cx=\"1503.1\" cy=\"362.955\" r=\"14.4\" fill=\"#009af9\" fill-rule=\"evenodd\" fill-opacity=\"1\" stroke=\"#000000\" stroke-opacity=\"1\" stroke-width=\"2.4\"/>\n",
       "<circle clip-path=\"url(#clip562)\" cx=\"1378.68\" cy=\"471.739\" r=\"14.4\" fill=\"#009af9\" fill-rule=\"evenodd\" fill-opacity=\"1\" stroke=\"#000000\" stroke-opacity=\"1\" stroke-width=\"2.4\"/>\n",
       "<circle clip-path=\"url(#clip562)\" cx=\"786.929\" cy=\"665.296\" r=\"14.4\" fill=\"#009af9\" fill-rule=\"evenodd\" fill-opacity=\"1\" stroke=\"#000000\" stroke-opacity=\"1\" stroke-width=\"2.4\"/>\n",
       "<circle clip-path=\"url(#clip562)\" cx=\"1547.09\" cy=\"457.884\" r=\"14.4\" fill=\"#009af9\" fill-rule=\"evenodd\" fill-opacity=\"1\" stroke=\"#000000\" stroke-opacity=\"1\" stroke-width=\"2.4\"/>\n",
       "<circle clip-path=\"url(#clip562)\" cx=\"900.244\" cy=\"509.698\" r=\"14.4\" fill=\"#009af9\" fill-rule=\"evenodd\" fill-opacity=\"1\" stroke=\"#000000\" stroke-opacity=\"1\" stroke-width=\"2.4\"/>\n",
       "<circle clip-path=\"url(#clip562)\" cx=\"848.463\" cy=\"546.528\" r=\"14.4\" fill=\"#009af9\" fill-rule=\"evenodd\" fill-opacity=\"1\" stroke=\"#000000\" stroke-opacity=\"1\" stroke-width=\"2.4\"/>\n",
       "<circle clip-path=\"url(#clip562)\" cx=\"814.055\" cy=\"548.223\" r=\"14.4\" fill=\"#009af9\" fill-rule=\"evenodd\" fill-opacity=\"1\" stroke=\"#000000\" stroke-opacity=\"1\" stroke-width=\"2.4\"/>\n",
       "<circle clip-path=\"url(#clip562)\" cx=\"701.815\" cy=\"713.843\" r=\"14.4\" fill=\"#009af9\" fill-rule=\"evenodd\" fill-opacity=\"1\" stroke=\"#000000\" stroke-opacity=\"1\" stroke-width=\"2.4\"/>\n",
       "<circle clip-path=\"url(#clip562)\" cx=\"1489.4\" cy=\"504.77\" r=\"14.4\" fill=\"#009af9\" fill-rule=\"evenodd\" fill-opacity=\"1\" stroke=\"#000000\" stroke-opacity=\"1\" stroke-width=\"2.4\"/>\n",
       "<circle clip-path=\"url(#clip562)\" cx=\"765.449\" cy=\"644.364\" r=\"14.4\" fill=\"#009af9\" fill-rule=\"evenodd\" fill-opacity=\"1\" stroke=\"#000000\" stroke-opacity=\"1\" stroke-width=\"2.4\"/>\n",
       "<circle clip-path=\"url(#clip562)\" cx=\"640.882\" cy=\"589.716\" r=\"14.4\" fill=\"#009af9\" fill-rule=\"evenodd\" fill-opacity=\"1\" stroke=\"#000000\" stroke-opacity=\"1\" stroke-width=\"2.4\"/>\n",
       "<circle clip-path=\"url(#clip562)\" cx=\"1517.75\" cy=\"698.628\" r=\"14.4\" fill=\"#009af9\" fill-rule=\"evenodd\" fill-opacity=\"1\" stroke=\"#000000\" stroke-opacity=\"1\" stroke-width=\"2.4\"/>\n",
       "<circle clip-path=\"url(#clip562)\" cx=\"1569.96\" cy=\"337.917\" r=\"14.4\" fill=\"#009af9\" fill-rule=\"evenodd\" fill-opacity=\"1\" stroke=\"#000000\" stroke-opacity=\"1\" stroke-width=\"2.4\"/>\n",
       "<circle clip-path=\"url(#clip562)\" cx=\"1412.99\" cy=\"498.736\" r=\"14.4\" fill=\"#009af9\" fill-rule=\"evenodd\" fill-opacity=\"1\" stroke=\"#000000\" stroke-opacity=\"1\" stroke-width=\"2.4\"/>\n",
       "<circle clip-path=\"url(#clip562)\" cx=\"850.866\" cy=\"570.749\" r=\"14.4\" fill=\"#009af9\" fill-rule=\"evenodd\" fill-opacity=\"1\" stroke=\"#000000\" stroke-opacity=\"1\" stroke-width=\"2.4\"/>\n",
       "<circle clip-path=\"url(#clip562)\" cx=\"1510.28\" cy=\"467.907\" r=\"14.4\" fill=\"#009af9\" fill-rule=\"evenodd\" fill-opacity=\"1\" stroke=\"#000000\" stroke-opacity=\"1\" stroke-width=\"2.4\"/>\n",
       "<circle clip-path=\"url(#clip562)\" cx=\"1325.29\" cy=\"497.805\" r=\"14.4\" fill=\"#009af9\" fill-rule=\"evenodd\" fill-opacity=\"1\" stroke=\"#000000\" stroke-opacity=\"1\" stroke-width=\"2.4\"/>\n",
       "<circle clip-path=\"url(#clip562)\" cx=\"549.028\" cy=\"493.675\" r=\"14.4\" fill=\"#009af9\" fill-rule=\"evenodd\" fill-opacity=\"1\" stroke=\"#000000\" stroke-opacity=\"1\" stroke-width=\"2.4\"/>\n",
       "<circle clip-path=\"url(#clip562)\" cx=\"1643.73\" cy=\"539.13\" r=\"14.4\" fill=\"#009af9\" fill-rule=\"evenodd\" fill-opacity=\"1\" stroke=\"#000000\" stroke-opacity=\"1\" stroke-width=\"2.4\"/>\n",
       "<circle clip-path=\"url(#clip562)\" cx=\"833.786\" cy=\"634.908\" r=\"14.4\" fill=\"#009af9\" fill-rule=\"evenodd\" fill-opacity=\"1\" stroke=\"#000000\" stroke-opacity=\"1\" stroke-width=\"2.4\"/>\n",
       "<circle clip-path=\"url(#clip562)\" cx=\"586.165\" cy=\"499.473\" r=\"14.4\" fill=\"#009af9\" fill-rule=\"evenodd\" fill-opacity=\"1\" stroke=\"#000000\" stroke-opacity=\"1\" stroke-width=\"2.4\"/>\n",
       "<circle clip-path=\"url(#clip562)\" cx=\"758.871\" cy=\"610.703\" r=\"14.4\" fill=\"#009af9\" fill-rule=\"evenodd\" fill-opacity=\"1\" stroke=\"#000000\" stroke-opacity=\"1\" stroke-width=\"2.4\"/>\n",
       "<circle clip-path=\"url(#clip562)\" cx=\"756.752\" cy=\"523.185\" r=\"14.4\" fill=\"#009af9\" fill-rule=\"evenodd\" fill-opacity=\"1\" stroke=\"#000000\" stroke-opacity=\"1\" stroke-width=\"2.4\"/>\n",
       "<circle clip-path=\"url(#clip562)\" cx=\"772.616\" cy=\"576.303\" r=\"14.4\" fill=\"#009af9\" fill-rule=\"evenodd\" fill-opacity=\"1\" stroke=\"#000000\" stroke-opacity=\"1\" stroke-width=\"2.4\"/>\n",
       "<circle clip-path=\"url(#clip562)\" cx=\"1408.91\" cy=\"491.554\" r=\"14.4\" fill=\"#009af9\" fill-rule=\"evenodd\" fill-opacity=\"1\" stroke=\"#000000\" stroke-opacity=\"1\" stroke-width=\"2.4\"/>\n",
       "<circle clip-path=\"url(#clip562)\" cx=\"1616.63\" cy=\"620.156\" r=\"14.4\" fill=\"#009af9\" fill-rule=\"evenodd\" fill-opacity=\"1\" stroke=\"#000000\" stroke-opacity=\"1\" stroke-width=\"2.4\"/>\n",
       "<circle clip-path=\"url(#clip562)\" cx=\"497.733\" cy=\"446.518\" r=\"14.4\" fill=\"#009af9\" fill-rule=\"evenodd\" fill-opacity=\"1\" stroke=\"#000000\" stroke-opacity=\"1\" stroke-width=\"2.4\"/>\n",
       "<circle clip-path=\"url(#clip562)\" cx=\"854.439\" cy=\"525.325\" r=\"14.4\" fill=\"#009af9\" fill-rule=\"evenodd\" fill-opacity=\"1\" stroke=\"#000000\" stroke-opacity=\"1\" stroke-width=\"2.4\"/>\n",
       "<circle clip-path=\"url(#clip562)\" cx=\"1419.79\" cy=\"727.798\" r=\"14.4\" fill=\"#009af9\" fill-rule=\"evenodd\" fill-opacity=\"1\" stroke=\"#000000\" stroke-opacity=\"1\" stroke-width=\"2.4\"/>\n",
       "<circle clip-path=\"url(#clip562)\" cx=\"710.027\" cy=\"512.54\" r=\"14.4\" fill=\"#009af9\" fill-rule=\"evenodd\" fill-opacity=\"1\" stroke=\"#000000\" stroke-opacity=\"1\" stroke-width=\"2.4\"/>\n",
       "<circle clip-path=\"url(#clip562)\" cx=\"1483.78\" cy=\"773.795\" r=\"14.4\" fill=\"#009af9\" fill-rule=\"evenodd\" fill-opacity=\"1\" stroke=\"#000000\" stroke-opacity=\"1\" stroke-width=\"2.4\"/>\n",
       "<circle clip-path=\"url(#clip562)\" cx=\"1378.22\" cy=\"412.837\" r=\"14.4\" fill=\"#009af9\" fill-rule=\"evenodd\" fill-opacity=\"1\" stroke=\"#000000\" stroke-opacity=\"1\" stroke-width=\"2.4\"/>\n",
       "<circle clip-path=\"url(#clip562)\" cx=\"1459.18\" cy=\"516.09\" r=\"14.4\" fill=\"#009af9\" fill-rule=\"evenodd\" fill-opacity=\"1\" stroke=\"#000000\" stroke-opacity=\"1\" stroke-width=\"2.4\"/>\n",
       "<circle clip-path=\"url(#clip562)\" cx=\"1505.15\" cy=\"558.59\" r=\"14.4\" fill=\"#009af9\" fill-rule=\"evenodd\" fill-opacity=\"1\" stroke=\"#000000\" stroke-opacity=\"1\" stroke-width=\"2.4\"/>\n",
       "<circle clip-path=\"url(#clip562)\" cx=\"865.891\" cy=\"583.508\" r=\"14.4\" fill=\"#009af9\" fill-rule=\"evenodd\" fill-opacity=\"1\" stroke=\"#000000\" stroke-opacity=\"1\" stroke-width=\"2.4\"/>\n",
       "<circle clip-path=\"url(#clip562)\" cx=\"721.403\" cy=\"421.783\" r=\"14.4\" fill=\"#009af9\" fill-rule=\"evenodd\" fill-opacity=\"1\" stroke=\"#000000\" stroke-opacity=\"1\" stroke-width=\"2.4\"/>\n",
       "<circle clip-path=\"url(#clip562)\" cx=\"770.656\" cy=\"422.245\" r=\"14.4\" fill=\"#009af9\" fill-rule=\"evenodd\" fill-opacity=\"1\" stroke=\"#000000\" stroke-opacity=\"1\" stroke-width=\"2.4\"/>\n",
       "<circle clip-path=\"url(#clip562)\" cx=\"820.158\" cy=\"642.344\" r=\"14.4\" fill=\"#009af9\" fill-rule=\"evenodd\" fill-opacity=\"1\" stroke=\"#000000\" stroke-opacity=\"1\" stroke-width=\"2.4\"/>\n",
       "<circle clip-path=\"url(#clip562)\" cx=\"1383.92\" cy=\"571.864\" r=\"14.4\" fill=\"#009af9\" fill-rule=\"evenodd\" fill-opacity=\"1\" stroke=\"#000000\" stroke-opacity=\"1\" stroke-width=\"2.4\"/>\n",
       "<circle clip-path=\"url(#clip562)\" cx=\"666.764\" cy=\"400.642\" r=\"14.4\" fill=\"#009af9\" fill-rule=\"evenodd\" fill-opacity=\"1\" stroke=\"#000000\" stroke-opacity=\"1\" stroke-width=\"2.4\"/>\n",
       "<circle clip-path=\"url(#clip562)\" cx=\"1528.14\" cy=\"629.982\" r=\"14.4\" fill=\"#009af9\" fill-rule=\"evenodd\" fill-opacity=\"1\" stroke=\"#000000\" stroke-opacity=\"1\" stroke-width=\"2.4\"/>\n",
       "<circle clip-path=\"url(#clip562)\" cx=\"1373.85\" cy=\"539.603\" r=\"14.4\" fill=\"#009af9\" fill-rule=\"evenodd\" fill-opacity=\"1\" stroke=\"#000000\" stroke-opacity=\"1\" stroke-width=\"2.4\"/>\n",
       "<circle clip-path=\"url(#clip562)\" cx=\"686.59\" cy=\"396.847\" r=\"14.4\" fill=\"#009af9\" fill-rule=\"evenodd\" fill-opacity=\"1\" stroke=\"#000000\" stroke-opacity=\"1\" stroke-width=\"2.4\"/>\n",
       "<circle clip-path=\"url(#clip562)\" cx=\"1307.34\" cy=\"403.627\" r=\"14.4\" fill=\"#009af9\" fill-rule=\"evenodd\" fill-opacity=\"1\" stroke=\"#000000\" stroke-opacity=\"1\" stroke-width=\"2.4\"/>\n",
       "<circle clip-path=\"url(#clip562)\" cx=\"696.306\" cy=\"415.939\" r=\"14.4\" fill=\"#009af9\" fill-rule=\"evenodd\" fill-opacity=\"1\" stroke=\"#000000\" stroke-opacity=\"1\" stroke-width=\"2.4\"/>\n",
       "<circle clip-path=\"url(#clip562)\" cx=\"498.708\" cy=\"611.32\" r=\"14.4\" fill=\"#009af9\" fill-rule=\"evenodd\" fill-opacity=\"1\" stroke=\"#000000\" stroke-opacity=\"1\" stroke-width=\"2.4\"/>\n",
       "<circle clip-path=\"url(#clip562)\" cx=\"1473.27\" cy=\"458.701\" r=\"14.4\" fill=\"#009af9\" fill-rule=\"evenodd\" fill-opacity=\"1\" stroke=\"#000000\" stroke-opacity=\"1\" stroke-width=\"2.4\"/>\n",
       "<circle clip-path=\"url(#clip562)\" cx=\"710.257\" cy=\"394.186\" r=\"14.4\" fill=\"#009af9\" fill-rule=\"evenodd\" fill-opacity=\"1\" stroke=\"#000000\" stroke-opacity=\"1\" stroke-width=\"2.4\"/>\n",
       "<circle clip-path=\"url(#clip562)\" cx=\"748.573\" cy=\"477.981\" r=\"14.4\" fill=\"#009af9\" fill-rule=\"evenodd\" fill-opacity=\"1\" stroke=\"#000000\" stroke-opacity=\"1\" stroke-width=\"2.4\"/>\n",
       "<circle clip-path=\"url(#clip562)\" cx=\"968.768\" cy=\"705.896\" r=\"14.4\" fill=\"#009af9\" fill-rule=\"evenodd\" fill-opacity=\"1\" stroke=\"#000000\" stroke-opacity=\"1\" stroke-width=\"2.4\"/>\n",
       "<circle clip-path=\"url(#clip562)\" cx=\"707.571\" cy=\"517.131\" r=\"14.4\" fill=\"#009af9\" fill-rule=\"evenodd\" fill-opacity=\"1\" stroke=\"#000000\" stroke-opacity=\"1\" stroke-width=\"2.4\"/>\n",
       "<circle clip-path=\"url(#clip562)\" cx=\"1292.4\" cy=\"518.451\" r=\"14.4\" fill=\"#009af9\" fill-rule=\"evenodd\" fill-opacity=\"1\" stroke=\"#000000\" stroke-opacity=\"1\" stroke-width=\"2.4\"/>\n",
       "<circle clip-path=\"url(#clip562)\" cx=\"1519.89\" cy=\"381.663\" r=\"14.4\" fill=\"#009af9\" fill-rule=\"evenodd\" fill-opacity=\"1\" stroke=\"#000000\" stroke-opacity=\"1\" stroke-width=\"2.4\"/>\n",
       "<circle clip-path=\"url(#clip562)\" cx=\"1619.53\" cy=\"481.508\" r=\"14.4\" fill=\"#009af9\" fill-rule=\"evenodd\" fill-opacity=\"1\" stroke=\"#000000\" stroke-opacity=\"1\" stroke-width=\"2.4\"/>\n",
       "<circle clip-path=\"url(#clip562)\" cx=\"1357.59\" cy=\"584.512\" r=\"14.4\" fill=\"#009af9\" fill-rule=\"evenodd\" fill-opacity=\"1\" stroke=\"#000000\" stroke-opacity=\"1\" stroke-width=\"2.4\"/>\n",
       "<circle clip-path=\"url(#clip562)\" cx=\"1475.24\" cy=\"405.456\" r=\"14.4\" fill=\"#009af9\" fill-rule=\"evenodd\" fill-opacity=\"1\" stroke=\"#000000\" stroke-opacity=\"1\" stroke-width=\"2.4\"/>\n",
       "<circle clip-path=\"url(#clip562)\" cx=\"853.966\" cy=\"663.556\" r=\"14.4\" fill=\"#009af9\" fill-rule=\"evenodd\" fill-opacity=\"1\" stroke=\"#000000\" stroke-opacity=\"1\" stroke-width=\"2.4\"/>\n",
       "<circle clip-path=\"url(#clip562)\" cx=\"1410.06\" cy=\"525.035\" r=\"14.4\" fill=\"#009af9\" fill-rule=\"evenodd\" fill-opacity=\"1\" stroke=\"#000000\" stroke-opacity=\"1\" stroke-width=\"2.4\"/>\n",
       "<circle clip-path=\"url(#clip562)\" cx=\"1303.69\" cy=\"404.967\" r=\"14.4\" fill=\"#009af9\" fill-rule=\"evenodd\" fill-opacity=\"1\" stroke=\"#000000\" stroke-opacity=\"1\" stroke-width=\"2.4\"/>\n",
       "<circle clip-path=\"url(#clip562)\" cx=\"1491.32\" cy=\"651.715\" r=\"14.4\" fill=\"#009af9\" fill-rule=\"evenodd\" fill-opacity=\"1\" stroke=\"#000000\" stroke-opacity=\"1\" stroke-width=\"2.4\"/>\n",
       "<circle clip-path=\"url(#clip562)\" cx=\"1398.08\" cy=\"732.058\" r=\"14.4\" fill=\"#009af9\" fill-rule=\"evenodd\" fill-opacity=\"1\" stroke=\"#000000\" stroke-opacity=\"1\" stroke-width=\"2.4\"/>\n",
       "<circle clip-path=\"url(#clip562)\" cx=\"1364.86\" cy=\"511.032\" r=\"14.4\" fill=\"#009af9\" fill-rule=\"evenodd\" fill-opacity=\"1\" stroke=\"#000000\" stroke-opacity=\"1\" stroke-width=\"2.4\"/>\n",
       "<circle clip-path=\"url(#clip562)\" cx=\"874.153\" cy=\"546.378\" r=\"14.4\" fill=\"#009af9\" fill-rule=\"evenodd\" fill-opacity=\"1\" stroke=\"#000000\" stroke-opacity=\"1\" stroke-width=\"2.4\"/>\n",
       "<circle clip-path=\"url(#clip562)\" cx=\"1488.41\" cy=\"638.55\" r=\"14.4\" fill=\"#009af9\" fill-rule=\"evenodd\" fill-opacity=\"1\" stroke=\"#000000\" stroke-opacity=\"1\" stroke-width=\"2.4\"/>\n",
       "<circle clip-path=\"url(#clip562)\" cx=\"1387.97\" cy=\"492.961\" r=\"14.4\" fill=\"#009af9\" fill-rule=\"evenodd\" fill-opacity=\"1\" stroke=\"#000000\" stroke-opacity=\"1\" stroke-width=\"2.4\"/>\n",
       "<circle clip-path=\"url(#clip562)\" cx=\"830.823\" cy=\"811.128\" r=\"14.4\" fill=\"#009af9\" fill-rule=\"evenodd\" fill-opacity=\"1\" stroke=\"#000000\" stroke-opacity=\"1\" stroke-width=\"2.4\"/>\n",
       "<circle clip-path=\"url(#clip562)\" cx=\"567.737\" cy=\"644.957\" r=\"14.4\" fill=\"#009af9\" fill-rule=\"evenodd\" fill-opacity=\"1\" stroke=\"#000000\" stroke-opacity=\"1\" stroke-width=\"2.4\"/>\n",
       "<circle clip-path=\"url(#clip562)\" cx=\"1549.5\" cy=\"402.327\" r=\"14.4\" fill=\"#009af9\" fill-rule=\"evenodd\" fill-opacity=\"1\" stroke=\"#000000\" stroke-opacity=\"1\" stroke-width=\"2.4\"/>\n",
       "<circle clip-path=\"url(#clip562)\" cx=\"1437.91\" cy=\"701.47\" r=\"14.4\" fill=\"#009af9\" fill-rule=\"evenodd\" fill-opacity=\"1\" stroke=\"#000000\" stroke-opacity=\"1\" stroke-width=\"2.4\"/>\n",
       "<circle clip-path=\"url(#clip562)\" cx=\"1478.09\" cy=\"488.219\" r=\"14.4\" fill=\"#009af9\" fill-rule=\"evenodd\" fill-opacity=\"1\" stroke=\"#000000\" stroke-opacity=\"1\" stroke-width=\"2.4\"/>\n",
       "<circle clip-path=\"url(#clip562)\" cx=\"1450.03\" cy=\"624.755\" r=\"14.4\" fill=\"#009af9\" fill-rule=\"evenodd\" fill-opacity=\"1\" stroke=\"#000000\" stroke-opacity=\"1\" stroke-width=\"2.4\"/>\n",
       "<circle clip-path=\"url(#clip562)\" cx=\"1500.23\" cy=\"432.708\" r=\"14.4\" fill=\"#009af9\" fill-rule=\"evenodd\" fill-opacity=\"1\" stroke=\"#000000\" stroke-opacity=\"1\" stroke-width=\"2.4\"/>\n",
       "<circle clip-path=\"url(#clip562)\" cx=\"741.076\" cy=\"395.827\" r=\"14.4\" fill=\"#009af9\" fill-rule=\"evenodd\" fill-opacity=\"1\" stroke=\"#000000\" stroke-opacity=\"1\" stroke-width=\"2.4\"/>\n",
       "<circle clip-path=\"url(#clip562)\" cx=\"1404.08\" cy=\"345.613\" r=\"14.4\" fill=\"#009af9\" fill-rule=\"evenodd\" fill-opacity=\"1\" stroke=\"#000000\" stroke-opacity=\"1\" stroke-width=\"2.4\"/>\n",
       "<circle clip-path=\"url(#clip562)\" cx=\"740.375\" cy=\"452.112\" r=\"14.4\" fill=\"#009af9\" fill-rule=\"evenodd\" fill-opacity=\"1\" stroke=\"#000000\" stroke-opacity=\"1\" stroke-width=\"2.4\"/>\n",
       "<circle clip-path=\"url(#clip562)\" cx=\"1408.48\" cy=\"514.282\" r=\"14.4\" fill=\"#009af9\" fill-rule=\"evenodd\" fill-opacity=\"1\" stroke=\"#000000\" stroke-opacity=\"1\" stroke-width=\"2.4\"/>\n",
       "<circle clip-path=\"url(#clip562)\" cx=\"1345.9\" cy=\"533.765\" r=\"14.4\" fill=\"#009af9\" fill-rule=\"evenodd\" fill-opacity=\"1\" stroke=\"#000000\" stroke-opacity=\"1\" stroke-width=\"2.4\"/>\n",
       "<circle clip-path=\"url(#clip562)\" cx=\"779.733\" cy=\"651.18\" r=\"14.4\" fill=\"#009af9\" fill-rule=\"evenodd\" fill-opacity=\"1\" stroke=\"#000000\" stroke-opacity=\"1\" stroke-width=\"2.4\"/>\n",
       "<circle clip-path=\"url(#clip562)\" cx=\"1567.37\" cy=\"595.536\" r=\"14.4\" fill=\"#009af9\" fill-rule=\"evenodd\" fill-opacity=\"1\" stroke=\"#000000\" stroke-opacity=\"1\" stroke-width=\"2.4\"/>\n",
       "<circle clip-path=\"url(#clip562)\" cx=\"850.446\" cy=\"448.53\" r=\"14.4\" fill=\"#009af9\" fill-rule=\"evenodd\" fill-opacity=\"1\" stroke=\"#000000\" stroke-opacity=\"1\" stroke-width=\"2.4\"/>\n",
       "<circle clip-path=\"url(#clip562)\" cx=\"662.305\" cy=\"398.144\" r=\"14.4\" fill=\"#009af9\" fill-rule=\"evenodd\" fill-opacity=\"1\" stroke=\"#000000\" stroke-opacity=\"1\" stroke-width=\"2.4\"/>\n",
       "<circle clip-path=\"url(#clip562)\" cx=\"722.574\" cy=\"719.73\" r=\"14.4\" fill=\"#009af9\" fill-rule=\"evenodd\" fill-opacity=\"1\" stroke=\"#000000\" stroke-opacity=\"1\" stroke-width=\"2.4\"/>\n",
       "<circle clip-path=\"url(#clip562)\" cx=\"1369.67\" cy=\"659.416\" r=\"14.4\" fill=\"#009af9\" fill-rule=\"evenodd\" fill-opacity=\"1\" stroke=\"#000000\" stroke-opacity=\"1\" stroke-width=\"2.4\"/>\n",
       "<circle clip-path=\"url(#clip562)\" cx=\"1520.59\" cy=\"361.872\" r=\"14.4\" fill=\"#009af9\" fill-rule=\"evenodd\" fill-opacity=\"1\" stroke=\"#000000\" stroke-opacity=\"1\" stroke-width=\"2.4\"/>\n",
       "<circle clip-path=\"url(#clip562)\" cx=\"1452.85\" cy=\"547.982\" r=\"14.4\" fill=\"#009af9\" fill-rule=\"evenodd\" fill-opacity=\"1\" stroke=\"#000000\" stroke-opacity=\"1\" stroke-width=\"2.4\"/>\n",
       "<circle clip-path=\"url(#clip562)\" cx=\"1592.39\" cy=\"528.977\" r=\"14.4\" fill=\"#009af9\" fill-rule=\"evenodd\" fill-opacity=\"1\" stroke=\"#000000\" stroke-opacity=\"1\" stroke-width=\"2.4\"/>\n",
       "<circle clip-path=\"url(#clip562)\" cx=\"1488.16\" cy=\"602.483\" r=\"14.4\" fill=\"#009af9\" fill-rule=\"evenodd\" fill-opacity=\"1\" stroke=\"#000000\" stroke-opacity=\"1\" stroke-width=\"2.4\"/>\n",
       "<circle clip-path=\"url(#clip562)\" cx=\"1300.01\" cy=\"546.516\" r=\"14.4\" fill=\"#009af9\" fill-rule=\"evenodd\" fill-opacity=\"1\" stroke=\"#000000\" stroke-opacity=\"1\" stroke-width=\"2.4\"/>\n",
       "<circle clip-path=\"url(#clip562)\" cx=\"777.011\" cy=\"644.031\" r=\"14.4\" fill=\"#009af9\" fill-rule=\"evenodd\" fill-opacity=\"1\" stroke=\"#000000\" stroke-opacity=\"1\" stroke-width=\"2.4\"/>\n",
       "<circle clip-path=\"url(#clip562)\" cx=\"747.425\" cy=\"387.895\" r=\"14.4\" fill=\"#009af9\" fill-rule=\"evenodd\" fill-opacity=\"1\" stroke=\"#000000\" stroke-opacity=\"1\" stroke-width=\"2.4\"/>\n",
       "<circle clip-path=\"url(#clip562)\" cx=\"1550.58\" cy=\"383.15\" r=\"14.4\" fill=\"#009af9\" fill-rule=\"evenodd\" fill-opacity=\"1\" stroke=\"#000000\" stroke-opacity=\"1\" stroke-width=\"2.4\"/>\n",
       "<circle clip-path=\"url(#clip562)\" cx=\"1458.04\" cy=\"880.954\" r=\"14.4\" fill=\"#009af9\" fill-rule=\"evenodd\" fill-opacity=\"1\" stroke=\"#000000\" stroke-opacity=\"1\" stroke-width=\"2.4\"/>\n",
       "<circle clip-path=\"url(#clip562)\" cx=\"774.15\" cy=\"493.007\" r=\"14.4\" fill=\"#009af9\" fill-rule=\"evenodd\" fill-opacity=\"1\" stroke=\"#000000\" stroke-opacity=\"1\" stroke-width=\"2.4\"/>\n",
       "<circle clip-path=\"url(#clip562)\" cx=\"643.253\" cy=\"519.533\" r=\"14.4\" fill=\"#009af9\" fill-rule=\"evenodd\" fill-opacity=\"1\" stroke=\"#000000\" stroke-opacity=\"1\" stroke-width=\"2.4\"/>\n",
       "<circle clip-path=\"url(#clip562)\" cx=\"1448.38\" cy=\"555.581\" r=\"14.4\" fill=\"#009af9\" fill-rule=\"evenodd\" fill-opacity=\"1\" stroke=\"#000000\" stroke-opacity=\"1\" stroke-width=\"2.4\"/>\n",
       "<circle clip-path=\"url(#clip562)\" cx=\"925.263\" cy=\"569.946\" r=\"14.4\" fill=\"#009af9\" fill-rule=\"evenodd\" fill-opacity=\"1\" stroke=\"#000000\" stroke-opacity=\"1\" stroke-width=\"2.4\"/>\n",
       "<circle clip-path=\"url(#clip562)\" cx=\"1500.47\" cy=\"597.622\" r=\"14.4\" fill=\"#009af9\" fill-rule=\"evenodd\" fill-opacity=\"1\" stroke=\"#000000\" stroke-opacity=\"1\" stroke-width=\"2.4\"/>\n",
       "<circle clip-path=\"url(#clip562)\" cx=\"729.11\" cy=\"511.341\" r=\"14.4\" fill=\"#009af9\" fill-rule=\"evenodd\" fill-opacity=\"1\" stroke=\"#000000\" stroke-opacity=\"1\" stroke-width=\"2.4\"/>\n",
       "<circle clip-path=\"url(#clip562)\" cx=\"949.03\" cy=\"747.775\" r=\"14.4\" fill=\"#009af9\" fill-rule=\"evenodd\" fill-opacity=\"1\" stroke=\"#000000\" stroke-opacity=\"1\" stroke-width=\"2.4\"/>\n",
       "<circle clip-path=\"url(#clip562)\" cx=\"1502.58\" cy=\"663.948\" r=\"14.4\" fill=\"#009af9\" fill-rule=\"evenodd\" fill-opacity=\"1\" stroke=\"#000000\" stroke-opacity=\"1\" stroke-width=\"2.4\"/>\n",
       "<circle clip-path=\"url(#clip562)\" cx=\"1627.67\" cy=\"499.58\" r=\"14.4\" fill=\"#009af9\" fill-rule=\"evenodd\" fill-opacity=\"1\" stroke=\"#000000\" stroke-opacity=\"1\" stroke-width=\"2.4\"/>\n",
       "<circle clip-path=\"url(#clip562)\" cx=\"660.218\" cy=\"524.349\" r=\"14.4\" fill=\"#009af9\" fill-rule=\"evenodd\" fill-opacity=\"1\" stroke=\"#000000\" stroke-opacity=\"1\" stroke-width=\"2.4\"/>\n",
       "<circle clip-path=\"url(#clip562)\" cx=\"888.127\" cy=\"588.295\" r=\"14.4\" fill=\"#009af9\" fill-rule=\"evenodd\" fill-opacity=\"1\" stroke=\"#000000\" stroke-opacity=\"1\" stroke-width=\"2.4\"/>\n",
       "<circle clip-path=\"url(#clip562)\" cx=\"1366.81\" cy=\"436.396\" r=\"14.4\" fill=\"#009af9\" fill-rule=\"evenodd\" fill-opacity=\"1\" stroke=\"#000000\" stroke-opacity=\"1\" stroke-width=\"2.4\"/>\n",
       "<circle clip-path=\"url(#clip562)\" cx=\"1401.59\" cy=\"717.958\" r=\"14.4\" fill=\"#009af9\" fill-rule=\"evenodd\" fill-opacity=\"1\" stroke=\"#000000\" stroke-opacity=\"1\" stroke-width=\"2.4\"/>\n",
       "<circle clip-path=\"url(#clip562)\" cx=\"875.646\" cy=\"637.66\" r=\"14.4\" fill=\"#009af9\" fill-rule=\"evenodd\" fill-opacity=\"1\" stroke=\"#000000\" stroke-opacity=\"1\" stroke-width=\"2.4\"/>\n",
       "<circle clip-path=\"url(#clip562)\" cx=\"1570.46\" cy=\"360.303\" r=\"14.4\" fill=\"#009af9\" fill-rule=\"evenodd\" fill-opacity=\"1\" stroke=\"#000000\" stroke-opacity=\"1\" stroke-width=\"2.4\"/>\n",
       "<circle clip-path=\"url(#clip562)\" cx=\"1605.2\" cy=\"741.17\" r=\"14.4\" fill=\"#009af9\" fill-rule=\"evenodd\" fill-opacity=\"1\" stroke=\"#000000\" stroke-opacity=\"1\" stroke-width=\"2.4\"/>\n",
       "<circle clip-path=\"url(#clip562)\" cx=\"1434.15\" cy=\"549.387\" r=\"14.4\" fill=\"#009af9\" fill-rule=\"evenodd\" fill-opacity=\"1\" stroke=\"#000000\" stroke-opacity=\"1\" stroke-width=\"2.4\"/>\n",
       "</svg>\n"
      ]
     },
     "metadata": {},
     "output_type": "display_data"
    }
   ],
   "source": [
    "pt = plot( emails_transformed[1,:], emails_transformed[2,:], xlims=(minimum_x,maximum_x), ylims=(minimum_y,maximum_y),\n",
    "        size=(500,300), title=\"emails transformed\", seriestype=:scatter, legend=false )\n",
    "display( pt )"
   ]
  },
  {
   "cell_type": "markdown",
   "metadata": {},
   "source": [
    "### now plot the transformation of the new emails with number annotations"
   ]
  },
  {
   "cell_type": "code",
   "execution_count": 24,
   "metadata": {},
   "outputs": [
    {
     "data": {
      "image/svg+xml": [
       "<?xml version=\"1.0\" encoding=\"utf-8\"?>\n",
       "<svg xmlns=\"http://www.w3.org/2000/svg\" xmlns:xlink=\"http://www.w3.org/1999/xlink\" width=\"500\" height=\"300\" viewBox=\"0 0 2000 1200\">\n",
       "<defs>\n",
       "  <clipPath id=\"clip600\">\n",
       "    <rect x=\"0\" y=\"0\" width=\"2000\" height=\"1200\"/>\n",
       "  </clipPath>\n",
       "</defs>\n",
       "<path clip-path=\"url(#clip600)\" d=\"M0 1200 L2000 1200 L2000 0 L0 0  Z\" fill=\"#ffffff\" fill-rule=\"evenodd\" fill-opacity=\"1\"/>\n",
       "<defs>\n",
       "  <clipPath id=\"clip601\">\n",
       "    <rect x=\"400\" y=\"0\" width=\"1401\" height=\"1200\"/>\n",
       "  </clipPath>\n",
       "</defs>\n",
       "<path clip-path=\"url(#clip600)\" d=\"M188.709 1093.9 L1952.76 1093.9 L1952.76 117.424 L188.709 117.424  Z\" fill=\"#ffffff\" fill-rule=\"evenodd\" fill-opacity=\"1\"/>\n",
       "<defs>\n",
       "  <clipPath id=\"clip602\">\n",
       "    <rect x=\"188\" y=\"117\" width=\"1765\" height=\"977\"/>\n",
       "  </clipPath>\n",
       "</defs>\n",
       "<polyline clip-path=\"url(#clip602)\" style=\"stroke:#000000; stroke-linecap:round; stroke-linejoin:round; stroke-width:2; stroke-opacity:0.1; fill:none\" points=\"198.679,1093.9 198.679,117.424 \"/>\n",
       "<polyline clip-path=\"url(#clip602)\" style=\"stroke:#000000; stroke-linecap:round; stroke-linejoin:round; stroke-width:2; stroke-opacity:0.1; fill:none\" points=\"507.703,1093.9 507.703,117.424 \"/>\n",
       "<polyline clip-path=\"url(#clip602)\" style=\"stroke:#000000; stroke-linecap:round; stroke-linejoin:round; stroke-width:2; stroke-opacity:0.1; fill:none\" points=\"816.726,1093.9 816.726,117.424 \"/>\n",
       "<polyline clip-path=\"url(#clip602)\" style=\"stroke:#000000; stroke-linecap:round; stroke-linejoin:round; stroke-width:2; stroke-opacity:0.1; fill:none\" points=\"1125.75,1093.9 1125.75,117.424 \"/>\n",
       "<polyline clip-path=\"url(#clip602)\" style=\"stroke:#000000; stroke-linecap:round; stroke-linejoin:round; stroke-width:2; stroke-opacity:0.1; fill:none\" points=\"1434.77,1093.9 1434.77,117.424 \"/>\n",
       "<polyline clip-path=\"url(#clip602)\" style=\"stroke:#000000; stroke-linecap:round; stroke-linejoin:round; stroke-width:2; stroke-opacity:0.1; fill:none\" points=\"1743.8,1093.9 1743.8,117.424 \"/>\n",
       "<polyline clip-path=\"url(#clip600)\" style=\"stroke:#000000; stroke-linecap:round; stroke-linejoin:round; stroke-width:4; stroke-opacity:1; fill:none\" points=\"188.709,1093.9 1952.76,1093.9 \"/>\n",
       "<polyline clip-path=\"url(#clip600)\" style=\"stroke:#000000; stroke-linecap:round; stroke-linejoin:round; stroke-width:4; stroke-opacity:1; fill:none\" points=\"198.679,1093.9 198.679,1075.01 \"/>\n",
       "<polyline clip-path=\"url(#clip600)\" style=\"stroke:#000000; stroke-linecap:round; stroke-linejoin:round; stroke-width:4; stroke-opacity:1; fill:none\" points=\"507.703,1093.9 507.703,1075.01 \"/>\n",
       "<polyline clip-path=\"url(#clip600)\" style=\"stroke:#000000; stroke-linecap:round; stroke-linejoin:round; stroke-width:4; stroke-opacity:1; fill:none\" points=\"816.726,1093.9 816.726,1075.01 \"/>\n",
       "<polyline clip-path=\"url(#clip600)\" style=\"stroke:#000000; stroke-linecap:round; stroke-linejoin:round; stroke-width:4; stroke-opacity:1; fill:none\" points=\"1125.75,1093.9 1125.75,1075.01 \"/>\n",
       "<polyline clip-path=\"url(#clip600)\" style=\"stroke:#000000; stroke-linecap:round; stroke-linejoin:round; stroke-width:4; stroke-opacity:1; fill:none\" points=\"1434.77,1093.9 1434.77,1075.01 \"/>\n",
       "<polyline clip-path=\"url(#clip600)\" style=\"stroke:#000000; stroke-linecap:round; stroke-linejoin:round; stroke-width:4; stroke-opacity:1; fill:none\" points=\"1743.8,1093.9 1743.8,1075.01 \"/>\n",
       "<path clip-path=\"url(#clip600)\" d=\"M145.532 1136.28 L175.207 1136.28 L175.207 1140.21 L145.532 1140.21 L145.532 1136.28 Z\" fill=\"#000000\" fill-rule=\"nonzero\" fill-opacity=\"1\" /><path clip-path=\"url(#clip600)\" d=\"M195.3 1121.62 Q191.689 1121.62 189.86 1125.19 Q188.055 1128.73 188.055 1135.86 Q188.055 1142.97 189.86 1146.53 Q191.689 1150.07 195.3 1150.07 Q198.934 1150.07 200.74 1146.53 Q202.568 1142.97 202.568 1135.86 Q202.568 1128.73 200.74 1125.19 Q198.934 1121.62 195.3 1121.62 M195.3 1117.92 Q201.11 1117.92 204.166 1122.53 Q207.244 1127.11 207.244 1135.86 Q207.244 1144.59 204.166 1149.19 Q201.11 1153.78 195.3 1153.78 Q189.49 1153.78 186.411 1149.19 Q183.355 1144.59 183.355 1135.86 Q183.355 1127.11 186.411 1122.53 Q189.49 1117.92 195.3 1117.92 Z\" fill=\"#000000\" fill-rule=\"nonzero\" fill-opacity=\"1\" /><path clip-path=\"url(#clip600)\" d=\"M215.462 1147.22 L220.346 1147.22 L220.346 1153.1 L215.462 1153.1 L215.462 1147.22 Z\" fill=\"#000000\" fill-rule=\"nonzero\" fill-opacity=\"1\" /><path clip-path=\"url(#clip600)\" d=\"M244.698 1134.47 Q248.054 1135.19 249.929 1137.46 Q251.827 1139.72 251.827 1143.06 Q251.827 1148.17 248.309 1150.97 Q244.79 1153.78 238.309 1153.78 Q236.133 1153.78 233.818 1153.34 Q231.527 1152.92 229.073 1152.06 L229.073 1147.55 Q231.017 1148.68 233.332 1149.26 Q235.647 1149.84 238.17 1149.84 Q242.568 1149.84 244.86 1148.1 Q247.175 1146.37 247.175 1143.06 Q247.175 1140 245.022 1138.29 Q242.892 1136.55 239.073 1136.55 L235.045 1136.55 L235.045 1132.71 L239.258 1132.71 Q242.707 1132.71 244.536 1131.34 Q246.364 1129.96 246.364 1127.36 Q246.364 1124.7 244.466 1123.29 Q242.591 1121.85 239.073 1121.85 Q237.152 1121.85 234.952 1122.27 Q232.753 1122.69 230.115 1123.57 L230.115 1119.4 Q232.777 1118.66 235.091 1118.29 Q237.429 1117.92 239.489 1117.92 Q244.814 1117.92 247.915 1120.35 Q251.017 1122.76 251.017 1126.88 Q251.017 1129.75 249.374 1131.74 Q247.73 1133.71 244.698 1134.47 Z\" fill=\"#000000\" fill-rule=\"nonzero\" fill-opacity=\"1\" /><path clip-path=\"url(#clip600)\" d=\"M455.03 1136.28 L484.705 1136.28 L484.705 1140.21 L455.03 1140.21 L455.03 1136.28 Z\" fill=\"#000000\" fill-rule=\"nonzero\" fill-opacity=\"1\" /><path clip-path=\"url(#clip600)\" d=\"M504.798 1121.62 Q501.187 1121.62 499.358 1125.19 Q497.552 1128.73 497.552 1135.86 Q497.552 1142.97 499.358 1146.53 Q501.187 1150.07 504.798 1150.07 Q508.432 1150.07 510.238 1146.53 Q512.066 1142.97 512.066 1135.86 Q512.066 1128.73 510.238 1125.19 Q508.432 1121.62 504.798 1121.62 M504.798 1117.92 Q510.608 1117.92 513.663 1122.53 Q516.742 1127.11 516.742 1135.86 Q516.742 1144.59 513.663 1149.19 Q510.608 1153.78 504.798 1153.78 Q498.988 1153.78 495.909 1149.19 Q492.853 1144.59 492.853 1135.86 Q492.853 1127.11 495.909 1122.53 Q498.988 1117.92 504.798 1117.92 Z\" fill=\"#000000\" fill-rule=\"nonzero\" fill-opacity=\"1\" /><path clip-path=\"url(#clip600)\" d=\"M524.96 1147.22 L529.844 1147.22 L529.844 1153.1 L524.96 1153.1 L524.96 1147.22 Z\" fill=\"#000000\" fill-rule=\"nonzero\" fill-opacity=\"1\" /><path clip-path=\"url(#clip600)\" d=\"M544.057 1149.17 L560.376 1149.17 L560.376 1153.1 L538.432 1153.1 L538.432 1149.17 Q541.094 1146.41 545.677 1141.78 Q550.284 1137.13 551.464 1135.79 Q553.71 1133.27 554.589 1131.53 Q555.492 1129.77 555.492 1128.08 Q555.492 1125.33 553.548 1123.59 Q551.626 1121.85 548.524 1121.85 Q546.325 1121.85 543.872 1122.62 Q541.441 1123.38 538.663 1124.93 L538.663 1120.21 Q541.487 1119.08 543.941 1118.5 Q546.395 1117.92 548.432 1117.92 Q553.802 1117.92 556.997 1120.6 Q560.191 1123.29 560.191 1127.78 Q560.191 1129.91 559.381 1131.83 Q558.594 1133.73 556.487 1136.32 Q555.909 1136.99 552.807 1140.21 Q549.705 1143.4 544.057 1149.17 Z\" fill=\"#000000\" fill-rule=\"nonzero\" fill-opacity=\"1\" /><path clip-path=\"url(#clip600)\" d=\"M763.868 1136.28 L793.544 1136.28 L793.544 1140.21 L763.868 1140.21 L763.868 1136.28 Z\" fill=\"#000000\" fill-rule=\"nonzero\" fill-opacity=\"1\" /><path clip-path=\"url(#clip600)\" d=\"M813.636 1121.62 Q810.025 1121.62 808.196 1125.19 Q806.391 1128.73 806.391 1135.86 Q806.391 1142.97 808.196 1146.53 Q810.025 1150.07 813.636 1150.07 Q817.27 1150.07 819.076 1146.53 Q820.904 1142.97 820.904 1135.86 Q820.904 1128.73 819.076 1125.19 Q817.27 1121.62 813.636 1121.62 M813.636 1117.92 Q819.446 1117.92 822.502 1122.53 Q825.58 1127.11 825.58 1135.86 Q825.58 1144.59 822.502 1149.19 Q819.446 1153.78 813.636 1153.78 Q807.826 1153.78 804.747 1149.19 Q801.692 1144.59 801.692 1135.86 Q801.692 1127.11 804.747 1122.53 Q807.826 1117.92 813.636 1117.92 Z\" fill=\"#000000\" fill-rule=\"nonzero\" fill-opacity=\"1\" /><path clip-path=\"url(#clip600)\" d=\"M833.798 1147.22 L838.682 1147.22 L838.682 1153.1 L833.798 1153.1 L833.798 1147.22 Z\" fill=\"#000000\" fill-rule=\"nonzero\" fill-opacity=\"1\" /><path clip-path=\"url(#clip600)\" d=\"M849.677 1149.17 L857.316 1149.17 L857.316 1122.8 L849.006 1124.47 L849.006 1120.21 L857.27 1118.54 L861.946 1118.54 L861.946 1149.17 L869.585 1149.17 L869.585 1153.1 L849.677 1153.1 L849.677 1149.17 Z\" fill=\"#000000\" fill-rule=\"nonzero\" fill-opacity=\"1\" /><path clip-path=\"url(#clip600)\" d=\"M1103.13 1121.62 Q1099.52 1121.62 1097.69 1125.19 Q1095.89 1128.73 1095.89 1135.86 Q1095.89 1142.97 1097.69 1146.53 Q1099.52 1150.07 1103.13 1150.07 Q1106.77 1150.07 1108.57 1146.53 Q1110.4 1142.97 1110.4 1135.86 Q1110.4 1128.73 1108.57 1125.19 Q1106.77 1121.62 1103.13 1121.62 M1103.13 1117.92 Q1108.94 1117.92 1112 1122.53 Q1115.08 1127.11 1115.08 1135.86 Q1115.08 1144.59 1112 1149.19 Q1108.94 1153.78 1103.13 1153.78 Q1097.32 1153.78 1094.25 1149.19 Q1091.19 1144.59 1091.19 1135.86 Q1091.19 1127.11 1094.25 1122.53 Q1097.32 1117.92 1103.13 1117.92 Z\" fill=\"#000000\" fill-rule=\"nonzero\" fill-opacity=\"1\" /><path clip-path=\"url(#clip600)\" d=\"M1123.3 1147.22 L1128.18 1147.22 L1128.18 1153.1 L1123.3 1153.1 L1123.3 1147.22 Z\" fill=\"#000000\" fill-rule=\"nonzero\" fill-opacity=\"1\" /><path clip-path=\"url(#clip600)\" d=\"M1148.37 1121.62 Q1144.75 1121.62 1142.93 1125.19 Q1141.12 1128.73 1141.12 1135.86 Q1141.12 1142.97 1142.93 1146.53 Q1144.75 1150.07 1148.37 1150.07 Q1152 1150.07 1153.81 1146.53 Q1155.63 1142.97 1155.63 1135.86 Q1155.63 1128.73 1153.81 1125.19 Q1152 1121.62 1148.37 1121.62 M1148.37 1117.92 Q1154.18 1117.92 1157.23 1122.53 Q1160.31 1127.11 1160.31 1135.86 Q1160.31 1144.59 1157.23 1149.19 Q1154.18 1153.78 1148.37 1153.78 Q1142.56 1153.78 1139.48 1149.19 Q1136.42 1144.59 1136.42 1135.86 Q1136.42 1127.11 1139.48 1122.53 Q1142.56 1117.92 1148.37 1117.92 Z\" fill=\"#000000\" fill-rule=\"nonzero\" fill-opacity=\"1\" /><path clip-path=\"url(#clip600)\" d=\"M1412.77 1121.62 Q1409.16 1121.62 1407.33 1125.19 Q1405.53 1128.73 1405.53 1135.86 Q1405.53 1142.97 1407.33 1146.53 Q1409.16 1150.07 1412.77 1150.07 Q1416.41 1150.07 1418.21 1146.53 Q1420.04 1142.97 1420.04 1135.86 Q1420.04 1128.73 1418.21 1125.19 Q1416.41 1121.62 1412.77 1121.62 M1412.77 1117.92 Q1418.58 1117.92 1421.64 1122.53 Q1424.72 1127.11 1424.72 1135.86 Q1424.72 1144.59 1421.64 1149.19 Q1418.58 1153.78 1412.77 1153.78 Q1406.96 1153.78 1403.88 1149.19 Q1400.83 1144.59 1400.83 1135.86 Q1400.83 1127.11 1403.88 1122.53 Q1406.96 1117.92 1412.77 1117.92 Z\" fill=\"#000000\" fill-rule=\"nonzero\" fill-opacity=\"1\" /><path clip-path=\"url(#clip600)\" d=\"M1432.93 1147.22 L1437.82 1147.22 L1437.82 1153.1 L1432.93 1153.1 L1432.93 1147.22 Z\" fill=\"#000000\" fill-rule=\"nonzero\" fill-opacity=\"1\" /><path clip-path=\"url(#clip600)\" d=\"M1448.81 1149.17 L1456.45 1149.17 L1456.45 1122.8 L1448.14 1124.47 L1448.14 1120.21 L1456.4 1118.54 L1461.08 1118.54 L1461.08 1149.17 L1468.72 1149.17 L1468.72 1153.1 L1448.81 1153.1 L1448.81 1149.17 Z\" fill=\"#000000\" fill-rule=\"nonzero\" fill-opacity=\"1\" /><path clip-path=\"url(#clip600)\" d=\"M1721.98 1121.62 Q1718.37 1121.62 1716.54 1125.19 Q1714.73 1128.73 1714.73 1135.86 Q1714.73 1142.97 1716.54 1146.53 Q1718.37 1150.07 1721.98 1150.07 Q1725.61 1150.07 1727.42 1146.53 Q1729.25 1142.97 1729.25 1135.86 Q1729.25 1128.73 1727.42 1125.19 Q1725.61 1121.62 1721.98 1121.62 M1721.98 1117.92 Q1727.79 1117.92 1730.85 1122.53 Q1733.92 1127.11 1733.92 1135.86 Q1733.92 1144.59 1730.85 1149.19 Q1727.79 1153.78 1721.98 1153.78 Q1716.17 1153.78 1713.09 1149.19 Q1710.04 1144.59 1710.04 1135.86 Q1710.04 1127.11 1713.09 1122.53 Q1716.17 1117.92 1721.98 1117.92 Z\" fill=\"#000000\" fill-rule=\"nonzero\" fill-opacity=\"1\" /><path clip-path=\"url(#clip600)\" d=\"M1742.14 1147.22 L1747.03 1147.22 L1747.03 1153.1 L1742.14 1153.1 L1742.14 1147.22 Z\" fill=\"#000000\" fill-rule=\"nonzero\" fill-opacity=\"1\" /><path clip-path=\"url(#clip600)\" d=\"M1761.24 1149.17 L1777.56 1149.17 L1777.56 1153.1 L1755.61 1153.1 L1755.61 1149.17 Q1758.28 1146.41 1762.86 1141.78 Q1767.47 1137.13 1768.65 1135.79 Q1770.89 1133.27 1771.77 1131.53 Q1772.67 1129.77 1772.67 1128.08 Q1772.67 1125.33 1770.73 1123.59 Q1768.81 1121.85 1765.71 1121.85 Q1763.51 1121.85 1761.05 1122.62 Q1758.62 1123.38 1755.84 1124.93 L1755.84 1120.21 Q1758.67 1119.08 1761.12 1118.5 Q1763.58 1117.92 1765.61 1117.92 Q1770.98 1117.92 1774.18 1120.6 Q1777.37 1123.29 1777.37 1127.78 Q1777.37 1129.91 1776.56 1131.83 Q1775.78 1133.73 1773.67 1136.32 Q1773.09 1136.99 1769.99 1140.21 Q1766.89 1143.4 1761.24 1149.17 Z\" fill=\"#000000\" fill-rule=\"nonzero\" fill-opacity=\"1\" /><polyline clip-path=\"url(#clip602)\" style=\"stroke:#000000; stroke-linecap:round; stroke-linejoin:round; stroke-width:2; stroke-opacity:0.1; fill:none\" points=\"188.709,966.18 1952.76,966.18 \"/>\n",
       "<polyline clip-path=\"url(#clip602)\" style=\"stroke:#000000; stroke-linecap:round; stroke-linejoin:round; stroke-width:2; stroke-opacity:0.1; fill:none\" points=\"188.709,753.23 1952.76,753.23 \"/>\n",
       "<polyline clip-path=\"url(#clip602)\" style=\"stroke:#000000; stroke-linecap:round; stroke-linejoin:round; stroke-width:2; stroke-opacity:0.1; fill:none\" points=\"188.709,540.281 1952.76,540.281 \"/>\n",
       "<polyline clip-path=\"url(#clip602)\" style=\"stroke:#000000; stroke-linecap:round; stroke-linejoin:round; stroke-width:2; stroke-opacity:0.1; fill:none\" points=\"188.709,327.331 1952.76,327.331 \"/>\n",
       "<polyline clip-path=\"url(#clip600)\" style=\"stroke:#000000; stroke-linecap:round; stroke-linejoin:round; stroke-width:4; stroke-opacity:1; fill:none\" points=\"188.709,1093.9 188.709,117.424 \"/>\n",
       "<polyline clip-path=\"url(#clip600)\" style=\"stroke:#000000; stroke-linecap:round; stroke-linejoin:round; stroke-width:4; stroke-opacity:1; fill:none\" points=\"188.709,966.18 207.607,966.18 \"/>\n",
       "<polyline clip-path=\"url(#clip600)\" style=\"stroke:#000000; stroke-linecap:round; stroke-linejoin:round; stroke-width:4; stroke-opacity:1; fill:none\" points=\"188.709,753.23 207.607,753.23 \"/>\n",
       "<polyline clip-path=\"url(#clip600)\" style=\"stroke:#000000; stroke-linecap:round; stroke-linejoin:round; stroke-width:4; stroke-opacity:1; fill:none\" points=\"188.709,540.281 207.607,540.281 \"/>\n",
       "<polyline clip-path=\"url(#clip600)\" style=\"stroke:#000000; stroke-linecap:round; stroke-linejoin:round; stroke-width:4; stroke-opacity:1; fill:none\" points=\"188.709,327.331 207.607,327.331 \"/>\n",
       "<path clip-path=\"url(#clip600)\" d=\"M53.3625 966.631 L83.0383 966.631 L83.0383 970.567 L53.3625 970.567 L53.3625 966.631 Z\" fill=\"#000000\" fill-rule=\"nonzero\" fill-opacity=\"1\" /><path clip-path=\"url(#clip600)\" d=\"M103.131 951.979 Q99.5197 951.979 97.691 955.544 Q95.8854 959.085 95.8854 966.215 Q95.8854 973.321 97.691 976.886 Q99.5197 980.428 103.131 980.428 Q106.765 980.428 108.571 976.886 Q110.399 973.321 110.399 966.215 Q110.399 959.085 108.571 955.544 Q106.765 951.979 103.131 951.979 M103.131 948.275 Q108.941 948.275 111.996 952.882 Q115.075 957.465 115.075 966.215 Q115.075 974.942 111.996 979.548 Q108.941 984.131 103.131 984.131 Q97.3206 984.131 94.2419 979.548 Q91.1864 974.942 91.1864 966.215 Q91.1864 957.465 94.2419 952.882 Q97.3206 948.275 103.131 948.275 Z\" fill=\"#000000\" fill-rule=\"nonzero\" fill-opacity=\"1\" /><path clip-path=\"url(#clip600)\" d=\"M123.293 977.58 L128.177 977.58 L128.177 983.46 L123.293 983.46 L123.293 977.58 Z\" fill=\"#000000\" fill-rule=\"nonzero\" fill-opacity=\"1\" /><path clip-path=\"url(#clip600)\" d=\"M142.39 979.525 L158.709 979.525 L158.709 983.46 L136.765 983.46 L136.765 979.525 Q139.427 976.77 144.01 972.141 Q148.617 967.488 149.797 966.145 Q152.043 963.622 152.922 961.886 Q153.825 960.127 153.825 958.437 Q153.825 955.682 151.88 953.946 Q149.959 952.21 146.857 952.21 Q144.658 952.21 142.205 952.974 Q139.774 953.738 136.996 955.289 L136.996 950.567 Q139.82 949.432 142.274 948.854 Q144.728 948.275 146.765 948.275 Q152.135 948.275 155.33 950.96 Q158.524 953.645 158.524 958.136 Q158.524 960.266 157.714 962.187 Q156.927 964.085 154.82 966.678 Q154.242 967.349 151.14 970.567 Q148.038 973.761 142.39 979.525 Z\" fill=\"#000000\" fill-rule=\"nonzero\" fill-opacity=\"1\" /><path clip-path=\"url(#clip600)\" d=\"M52.9921 753.682 L82.6679 753.682 L82.6679 757.617 L52.9921 757.617 L52.9921 753.682 Z\" fill=\"#000000\" fill-rule=\"nonzero\" fill-opacity=\"1\" /><path clip-path=\"url(#clip600)\" d=\"M102.76 739.029 Q99.1493 739.029 97.3206 742.594 Q95.515 746.136 95.515 753.265 Q95.515 760.372 97.3206 763.936 Q99.1493 767.478 102.76 767.478 Q106.395 767.478 108.2 763.936 Q110.029 760.372 110.029 753.265 Q110.029 746.136 108.2 742.594 Q106.395 739.029 102.76 739.029 M102.76 735.325 Q108.571 735.325 111.626 739.932 Q114.705 744.515 114.705 753.265 Q114.705 761.992 111.626 766.598 Q108.571 771.182 102.76 771.182 Q96.9502 771.182 93.8715 766.598 Q90.816 761.992 90.816 753.265 Q90.816 744.515 93.8715 739.932 Q96.9502 735.325 102.76 735.325 Z\" fill=\"#000000\" fill-rule=\"nonzero\" fill-opacity=\"1\" /><path clip-path=\"url(#clip600)\" d=\"M122.922 764.631 L127.807 764.631 L127.807 770.51 L122.922 770.51 L122.922 764.631 Z\" fill=\"#000000\" fill-rule=\"nonzero\" fill-opacity=\"1\" /><path clip-path=\"url(#clip600)\" d=\"M138.802 766.575 L146.441 766.575 L146.441 740.21 L138.131 741.876 L138.131 737.617 L146.394 735.95 L151.07 735.95 L151.07 766.575 L158.709 766.575 L158.709 770.51 L138.802 770.51 L138.802 766.575 Z\" fill=\"#000000\" fill-rule=\"nonzero\" fill-opacity=\"1\" /><path clip-path=\"url(#clip600)\" d=\"M101.534 526.08 Q97.9224 526.08 96.0937 529.644 Q94.2882 533.186 94.2882 540.316 Q94.2882 547.422 96.0937 550.987 Q97.9224 554.529 101.534 554.529 Q105.168 554.529 106.973 550.987 Q108.802 547.422 108.802 540.316 Q108.802 533.186 106.973 529.644 Q105.168 526.08 101.534 526.08 M101.534 522.376 Q107.344 522.376 110.399 526.982 Q113.478 531.566 113.478 540.316 Q113.478 549.042 110.399 553.649 Q107.344 558.232 101.534 558.232 Q95.7234 558.232 92.6447 553.649 Q89.5892 549.042 89.5892 540.316 Q89.5892 531.566 92.6447 526.982 Q95.7234 522.376 101.534 522.376 Z\" fill=\"#000000\" fill-rule=\"nonzero\" fill-opacity=\"1\" /><path clip-path=\"url(#clip600)\" d=\"M121.695 551.681 L126.58 551.681 L126.58 557.561 L121.695 557.561 L121.695 551.681 Z\" fill=\"#000000\" fill-rule=\"nonzero\" fill-opacity=\"1\" /><path clip-path=\"url(#clip600)\" d=\"M146.765 526.08 Q143.154 526.08 141.325 529.644 Q139.519 533.186 139.519 540.316 Q139.519 547.422 141.325 550.987 Q143.154 554.529 146.765 554.529 Q150.399 554.529 152.205 550.987 Q154.033 547.422 154.033 540.316 Q154.033 533.186 152.205 529.644 Q150.399 526.08 146.765 526.08 M146.765 522.376 Q152.575 522.376 155.63 526.982 Q158.709 531.566 158.709 540.316 Q158.709 549.042 155.63 553.649 Q152.575 558.232 146.765 558.232 Q140.955 558.232 137.876 553.649 Q134.82 549.042 134.82 540.316 Q134.82 531.566 137.876 526.982 Q140.955 522.376 146.765 522.376 Z\" fill=\"#000000\" fill-rule=\"nonzero\" fill-opacity=\"1\" /><path clip-path=\"url(#clip600)\" d=\"M102.76 313.13 Q99.1493 313.13 97.3206 316.695 Q95.515 320.237 95.515 327.366 Q95.515 334.473 97.3206 338.037 Q99.1493 341.579 102.76 341.579 Q106.395 341.579 108.2 338.037 Q110.029 334.473 110.029 327.366 Q110.029 320.237 108.2 316.695 Q106.395 313.13 102.76 313.13 M102.76 309.426 Q108.571 309.426 111.626 314.033 Q114.705 318.616 114.705 327.366 Q114.705 336.093 111.626 340.699 Q108.571 345.283 102.76 345.283 Q96.9502 345.283 93.8715 340.699 Q90.816 336.093 90.816 327.366 Q90.816 318.616 93.8715 314.033 Q96.9502 309.426 102.76 309.426 Z\" fill=\"#000000\" fill-rule=\"nonzero\" fill-opacity=\"1\" /><path clip-path=\"url(#clip600)\" d=\"M122.922 338.732 L127.807 338.732 L127.807 344.611 L122.922 344.611 L122.922 338.732 Z\" fill=\"#000000\" fill-rule=\"nonzero\" fill-opacity=\"1\" /><path clip-path=\"url(#clip600)\" d=\"M138.802 340.676 L146.441 340.676 L146.441 314.311 L138.131 315.977 L138.131 311.718 L146.394 310.051 L151.07 310.051 L151.07 340.676 L158.709 340.676 L158.709 344.611 L138.802 344.611 L138.802 340.676 Z\" fill=\"#000000\" fill-rule=\"nonzero\" fill-opacity=\"1\" /><path clip-path=\"url(#clip600)\" d=\"M714.435 48.0275 L714.435 51.6733 L680.165 51.6733 Q680.651 59.3701 684.783 63.421 Q688.955 67.4314 696.368 67.4314 Q700.662 67.4314 704.673 66.3781 Q708.723 65.3249 712.693 63.2184 L712.693 70.267 Q708.683 71.9684 704.47 72.8596 Q700.257 73.7508 695.923 73.7508 Q685.066 73.7508 678.706 67.4314 Q672.387 61.1119 672.387 50.3365 Q672.387 39.1965 678.382 32.6746 Q684.418 26.1121 694.626 26.1121 Q703.781 26.1121 709.088 32.0264 Q714.435 37.9003 714.435 48.0275 M706.982 45.84 Q706.901 39.7232 703.538 36.0774 Q700.217 32.4315 694.707 32.4315 Q688.469 32.4315 684.702 35.9558 Q680.975 39.4801 680.408 45.8805 L706.982 45.84 Z\" fill=\"#000000\" fill-rule=\"nonzero\" fill-opacity=\"1\" /><path clip-path=\"url(#clip600)\" d=\"M761.993 35.9153 Q764.788 30.8922 768.677 28.5022 Q772.566 26.1121 777.832 26.1121 Q784.921 26.1121 788.769 31.0947 Q792.618 36.0368 792.618 45.1919 L792.618 72.576 L785.124 72.576 L785.124 45.4349 Q785.124 38.913 782.815 35.7533 Q780.505 32.5936 775.766 32.5936 Q769.973 32.5936 766.611 36.4419 Q763.249 40.2903 763.249 46.9338 L763.249 72.576 L755.754 72.576 L755.754 45.4349 Q755.754 38.8725 753.445 35.7533 Q751.136 32.5936 746.316 32.5936 Q740.604 32.5936 737.242 36.4824 Q733.88 40.3308 733.88 46.9338 L733.88 72.576 L726.385 72.576 L726.385 27.2059 L733.88 27.2059 L733.88 34.2544 Q736.432 30.082 739.996 28.0971 Q743.561 26.1121 748.463 26.1121 Q753.405 26.1121 756.848 28.6237 Q760.332 31.1352 761.993 35.9153 Z\" fill=\"#000000\" fill-rule=\"nonzero\" fill-opacity=\"1\" /><path clip-path=\"url(#clip600)\" d=\"M828.104 49.7694 Q819.07 49.7694 815.586 51.8354 Q812.103 53.9013 812.103 58.8839 Q812.103 62.8538 814.695 65.2034 Q817.328 67.5124 821.825 67.5124 Q828.023 67.5124 831.749 63.1374 Q835.517 58.7219 835.517 51.4303 L835.517 49.7694 L828.104 49.7694 M842.97 46.6907 L842.97 72.576 L835.517 72.576 L835.517 65.6895 Q832.965 69.8214 829.157 71.8063 Q825.349 73.7508 819.84 73.7508 Q812.872 73.7508 808.74 69.8619 Q804.649 65.9325 804.649 59.3701 Q804.649 51.7138 809.753 47.825 Q814.898 43.9361 825.065 43.9361 L835.517 43.9361 L835.517 43.2069 Q835.517 38.0623 832.114 35.2672 Q828.752 32.4315 822.635 32.4315 Q818.746 32.4315 815.06 33.3632 Q811.373 34.295 807.971 36.1584 L807.971 29.2718 Q812.062 27.692 815.91 26.9223 Q819.759 26.1121 823.405 26.1121 Q833.248 26.1121 838.109 31.2163 Q842.97 36.3204 842.97 46.6907 Z\" fill=\"#000000\" fill-rule=\"nonzero\" fill-opacity=\"1\" /><path clip-path=\"url(#clip600)\" d=\"M858.323 27.2059 L865.777 27.2059 L865.777 72.576 L858.323 72.576 L858.323 27.2059 M858.323 9.54393 L865.777 9.54393 L865.777 18.9825 L858.323 18.9825 L858.323 9.54393 Z\" fill=\"#000000\" fill-rule=\"nonzero\" fill-opacity=\"1\" /><path clip-path=\"url(#clip600)\" d=\"M881.373 9.54393 L888.827 9.54393 L888.827 72.576 L881.373 72.576 L881.373 9.54393 Z\" fill=\"#000000\" fill-rule=\"nonzero\" fill-opacity=\"1\" /><path clip-path=\"url(#clip600)\" d=\"M933.346 28.5427 L933.346 35.5912 Q930.186 33.9709 926.784 33.1607 Q923.381 32.3505 919.735 32.3505 Q914.185 32.3505 911.39 34.0519 Q908.636 35.7533 908.636 39.156 Q908.636 41.7486 910.621 43.2475 Q912.605 44.7058 918.601 46.0426 L921.153 46.6097 Q929.093 48.3111 932.414 51.4303 Q935.777 54.509 935.777 60.0587 Q935.777 66.3781 930.754 70.0644 Q925.771 73.7508 917.021 73.7508 Q913.375 73.7508 909.405 73.0216 Q905.476 72.3329 901.101 70.9151 L901.101 63.2184 Q905.233 65.3654 909.243 66.4591 Q913.254 67.5124 917.183 67.5124 Q922.449 67.5124 925.285 65.73 Q928.12 63.9071 928.12 60.6258 Q928.12 57.5877 926.054 55.9673 Q924.029 54.3469 917.102 52.8481 L914.509 52.2405 Q907.582 50.7821 904.504 47.7845 Q901.425 44.7463 901.425 39.4801 Q901.425 33.0797 905.962 29.5959 Q910.499 26.1121 918.844 26.1121 Q922.976 26.1121 926.622 26.7198 Q930.267 27.3274 933.346 28.5427 Z\" fill=\"#000000\" fill-rule=\"nonzero\" fill-opacity=\"1\" /><path clip-path=\"url(#clip600)\" d=\"M981.39 14.324 L981.39 27.2059 L996.743 27.2059 L996.743 32.9987 L981.39 32.9987 L981.39 57.6282 Q981.39 63.1779 982.889 64.7578 Q984.428 66.3376 989.087 66.3376 L996.743 66.3376 L996.743 72.576 L989.087 72.576 Q980.458 72.576 977.177 69.3758 Q973.896 66.1351 973.896 57.6282 L973.896 32.9987 L968.427 32.9987 L968.427 27.2059 L973.896 27.2059 L973.896 14.324 L981.39 14.324 Z\" fill=\"#000000\" fill-rule=\"nonzero\" fill-opacity=\"1\" /><path clip-path=\"url(#clip600)\" d=\"M1032.84 34.1734 Q1031.58 33.4443 1030.08 33.1202 Q1028.62 32.7556 1026.84 32.7556 Q1020.52 32.7556 1017.12 36.8875 Q1013.76 40.9789 1013.76 48.6757 L1013.76 72.576 L1006.26 72.576 L1006.26 27.2059 L1013.76 27.2059 L1013.76 34.2544 Q1016.11 30.1225 1019.87 28.1376 Q1023.64 26.1121 1029.03 26.1121 Q1029.8 26.1121 1030.73 26.2337 Q1031.66 26.3147 1032.8 26.5172 L1032.84 34.1734 Z\" fill=\"#000000\" fill-rule=\"nonzero\" fill-opacity=\"1\" /><path clip-path=\"url(#clip600)\" d=\"M1061.27 49.7694 Q1052.24 49.7694 1048.76 51.8354 Q1045.27 53.9013 1045.27 58.8839 Q1045.27 62.8538 1047.87 65.2034 Q1050.5 67.5124 1054.99 67.5124 Q1061.19 67.5124 1064.92 63.1374 Q1068.69 58.7219 1068.69 51.4303 L1068.69 49.7694 L1061.27 49.7694 M1076.14 46.6907 L1076.14 72.576 L1068.69 72.576 L1068.69 65.6895 Q1066.13 69.8214 1062.33 71.8063 Q1058.52 73.7508 1053.01 73.7508 Q1046.04 73.7508 1041.91 69.8619 Q1037.82 65.9325 1037.82 59.3701 Q1037.82 51.7138 1042.92 47.825 Q1048.07 43.9361 1058.24 43.9361 L1068.69 43.9361 L1068.69 43.2069 Q1068.69 38.0623 1065.28 35.2672 Q1061.92 32.4315 1055.8 32.4315 Q1051.92 32.4315 1048.23 33.3632 Q1044.54 34.295 1041.14 36.1584 L1041.14 29.2718 Q1045.23 27.692 1049.08 26.9223 Q1052.93 26.1121 1056.57 26.1121 Q1066.42 26.1121 1071.28 31.2163 Q1076.14 36.3204 1076.14 46.6907 Z\" fill=\"#000000\" fill-rule=\"nonzero\" fill-opacity=\"1\" /><path clip-path=\"url(#clip600)\" d=\"M1129.21 45.1919 L1129.21 72.576 L1121.75 72.576 L1121.75 45.4349 Q1121.75 38.994 1119.24 35.7938 Q1116.73 32.5936 1111.71 32.5936 Q1105.67 32.5936 1102.19 36.4419 Q1098.7 40.2903 1098.7 46.9338 L1098.7 72.576 L1091.21 72.576 L1091.21 27.2059 L1098.7 27.2059 L1098.7 34.2544 Q1101.38 30.163 1104.98 28.1376 Q1108.63 26.1121 1113.37 26.1121 Q1121.19 26.1121 1125.2 30.9732 Q1129.21 35.7938 1129.21 45.1919 Z\" fill=\"#000000\" fill-rule=\"nonzero\" fill-opacity=\"1\" /><path clip-path=\"url(#clip600)\" d=\"M1173 28.5427 L1173 35.5912 Q1169.84 33.9709 1166.44 33.1607 Q1163.03 32.3505 1159.39 32.3505 Q1153.84 32.3505 1151.04 34.0519 Q1148.29 35.7533 1148.29 39.156 Q1148.29 41.7486 1150.27 43.2475 Q1152.26 44.7058 1158.25 46.0426 L1160.8 46.6097 Q1168.74 48.3111 1172.07 51.4303 Q1175.43 54.509 1175.43 60.0587 Q1175.43 66.3781 1170.41 70.0644 Q1165.42 73.7508 1156.67 73.7508 Q1153.03 73.7508 1149.06 73.0216 Q1145.13 72.3329 1140.75 70.9151 L1140.75 63.2184 Q1144.88 65.3654 1148.89 66.4591 Q1152.91 67.5124 1156.83 67.5124 Q1162.1 67.5124 1164.94 65.73 Q1167.77 63.9071 1167.77 60.6258 Q1167.77 57.5877 1165.71 55.9673 Q1163.68 54.3469 1156.75 52.8481 L1154.16 52.2405 Q1147.23 50.7821 1144.16 47.7845 Q1141.08 44.7463 1141.08 39.4801 Q1141.08 33.0797 1145.61 29.5959 Q1150.15 26.1121 1158.5 26.1121 Q1162.63 26.1121 1166.27 26.7198 Q1169.92 27.3274 1173 28.5427 Z\" fill=\"#000000\" fill-rule=\"nonzero\" fill-opacity=\"1\" /><path clip-path=\"url(#clip600)\" d=\"M1210.27 9.54393 L1210.27 15.7418 L1203.14 15.7418 Q1199.13 15.7418 1197.55 17.3622 Q1196.01 18.9825 1196.01 23.1955 L1196.01 27.2059 L1208.28 27.2059 L1208.28 32.9987 L1196.01 32.9987 L1196.01 72.576 L1188.51 72.576 L1188.51 32.9987 L1181.38 32.9987 L1181.38 27.2059 L1188.51 27.2059 L1188.51 24.0462 Q1188.51 16.471 1192.04 13.0277 Q1195.56 9.54393 1203.22 9.54393 L1210.27 9.54393 Z\" fill=\"#000000\" fill-rule=\"nonzero\" fill-opacity=\"1\" /><path clip-path=\"url(#clip600)\" d=\"M1234.09 32.4315 Q1228.09 32.4315 1224.61 37.1306 Q1221.12 41.7891 1221.12 49.9314 Q1221.12 58.0738 1224.57 62.7728 Q1228.05 67.4314 1234.09 67.4314 Q1240.04 67.4314 1243.52 62.7323 Q1247.01 58.0333 1247.01 49.9314 Q1247.01 41.8701 1243.52 37.1711 Q1240.04 32.4315 1234.09 32.4315 M1234.09 26.1121 Q1243.81 26.1121 1249.36 32.4315 Q1254.91 38.7509 1254.91 49.9314 Q1254.91 61.0714 1249.36 67.4314 Q1243.81 73.7508 1234.09 73.7508 Q1224.32 73.7508 1218.77 67.4314 Q1213.26 61.0714 1213.26 49.9314 Q1213.26 38.7509 1218.77 32.4315 Q1224.32 26.1121 1234.09 26.1121 Z\" fill=\"#000000\" fill-rule=\"nonzero\" fill-opacity=\"1\" /><path clip-path=\"url(#clip600)\" d=\"M1293.55 34.1734 Q1292.3 33.4443 1290.8 33.1202 Q1289.34 32.7556 1287.56 32.7556 Q1281.24 32.7556 1277.84 36.8875 Q1274.47 40.9789 1274.47 48.6757 L1274.47 72.576 L1266.98 72.576 L1266.98 27.2059 L1274.47 27.2059 L1274.47 34.2544 Q1276.82 30.1225 1280.59 28.1376 Q1284.36 26.1121 1289.74 26.1121 Q1290.51 26.1121 1291.45 26.2337 Q1292.38 26.3147 1293.51 26.5172 L1293.55 34.1734 Z\" fill=\"#000000\" fill-rule=\"nonzero\" fill-opacity=\"1\" /><path clip-path=\"url(#clip600)\" d=\"M1335.24 35.9153 Q1338.03 30.8922 1341.92 28.5022 Q1345.81 26.1121 1351.08 26.1121 Q1358.16 26.1121 1362.01 31.0947 Q1365.86 36.0368 1365.86 45.1919 L1365.86 72.576 L1358.37 72.576 L1358.37 45.4349 Q1358.37 38.913 1356.06 35.7533 Q1353.75 32.5936 1349.01 32.5936 Q1343.22 32.5936 1339.85 36.4419 Q1336.49 40.2903 1336.49 46.9338 L1336.49 72.576 L1329 72.576 L1329 45.4349 Q1329 38.8725 1326.69 35.7533 Q1324.38 32.5936 1319.56 32.5936 Q1313.85 32.5936 1310.49 36.4824 Q1307.12 40.3308 1307.12 46.9338 L1307.12 72.576 L1299.63 72.576 L1299.63 27.2059 L1307.12 27.2059 L1307.12 34.2544 Q1309.68 30.082 1313.24 28.0971 Q1316.8 26.1121 1321.71 26.1121 Q1326.65 26.1121 1330.09 28.6237 Q1333.58 31.1352 1335.24 35.9153 Z\" fill=\"#000000\" fill-rule=\"nonzero\" fill-opacity=\"1\" /><path clip-path=\"url(#clip600)\" d=\"M1419.54 48.0275 L1419.54 51.6733 L1385.26 51.6733 Q1385.75 59.3701 1389.88 63.421 Q1394.06 67.4314 1401.47 67.4314 Q1405.76 67.4314 1409.77 66.3781 Q1413.82 65.3249 1417.79 63.2184 L1417.79 70.267 Q1413.78 71.9684 1409.57 72.8596 Q1405.36 73.7508 1401.02 73.7508 Q1390.17 73.7508 1383.81 67.4314 Q1377.49 61.1119 1377.49 50.3365 Q1377.49 39.1965 1383.48 32.6746 Q1389.52 26.1121 1399.73 26.1121 Q1408.88 26.1121 1414.19 32.0264 Q1419.54 37.9003 1419.54 48.0275 M1412.08 45.84 Q1412 39.7232 1408.64 36.0774 Q1405.32 32.4315 1399.81 32.4315 Q1393.57 32.4315 1389.8 35.9558 Q1386.08 39.4801 1385.51 45.8805 L1412.08 45.84 Z\" fill=\"#000000\" fill-rule=\"nonzero\" fill-opacity=\"1\" /><path clip-path=\"url(#clip600)\" d=\"M1461.62 34.0924 L1461.62 9.54393 L1469.08 9.54393 L1469.08 72.576 L1461.62 72.576 L1461.62 65.7705 Q1459.28 69.8214 1455.67 71.8063 Q1452.1 73.7508 1447.08 73.7508 Q1438.86 73.7508 1433.67 67.1883 Q1428.53 60.6258 1428.53 49.9314 Q1428.53 39.2371 1433.67 32.6746 Q1438.86 26.1121 1447.08 26.1121 Q1452.1 26.1121 1455.67 28.0971 Q1459.28 30.0415 1461.62 34.0924 M1436.23 49.9314 Q1436.23 58.1548 1439.59 62.8538 Q1442.99 67.5124 1448.9 67.5124 Q1454.82 67.5124 1458.22 62.8538 Q1461.62 58.1548 1461.62 49.9314 Q1461.62 41.7081 1458.22 37.0496 Q1454.82 32.3505 1448.9 32.3505 Q1442.99 32.3505 1439.59 37.0496 Q1436.23 41.7081 1436.23 49.9314 Z\" fill=\"#000000\" fill-rule=\"nonzero\" fill-opacity=\"1\" /><circle clip-path=\"url(#clip602)\" cx=\"1453.77\" cy=\"829.749\" r=\"14.4\" fill=\"#009af9\" fill-rule=\"evenodd\" fill-opacity=\"1\" stroke=\"#000000\" stroke-opacity=\"1\" stroke-width=\"2.4\"/>\n",
       "<circle clip-path=\"url(#clip602)\" cx=\"1551.45\" cy=\"407.126\" r=\"14.4\" fill=\"#009af9\" fill-rule=\"evenodd\" fill-opacity=\"1\" stroke=\"#000000\" stroke-opacity=\"1\" stroke-width=\"2.4\"/>\n",
       "<circle clip-path=\"url(#clip602)\" cx=\"706.623\" cy=\"549.875\" r=\"14.4\" fill=\"#009af9\" fill-rule=\"evenodd\" fill-opacity=\"1\" stroke=\"#000000\" stroke-opacity=\"1\" stroke-width=\"2.4\"/>\n",
       "<circle clip-path=\"url(#clip602)\" cx=\"1227.71\" cy=\"426.876\" r=\"14.4\" fill=\"#009af9\" fill-rule=\"evenodd\" fill-opacity=\"1\" stroke=\"#000000\" stroke-opacity=\"1\" stroke-width=\"2.4\"/>\n",
       "<circle clip-path=\"url(#clip602)\" cx=\"1344.73\" cy=\"624.191\" r=\"14.4\" fill=\"#009af9\" fill-rule=\"evenodd\" fill-opacity=\"1\" stroke=\"#000000\" stroke-opacity=\"1\" stroke-width=\"2.4\"/>\n",
       "<circle clip-path=\"url(#clip602)\" cx=\"965.014\" cy=\"709.723\" r=\"14.4\" fill=\"#009af9\" fill-rule=\"evenodd\" fill-opacity=\"1\" stroke=\"#000000\" stroke-opacity=\"1\" stroke-width=\"2.4\"/>\n",
       "<circle clip-path=\"url(#clip602)\" cx=\"848.012\" cy=\"365.172\" r=\"14.4\" fill=\"#009af9\" fill-rule=\"evenodd\" fill-opacity=\"1\" stroke=\"#000000\" stroke-opacity=\"1\" stroke-width=\"2.4\"/>\n",
       "<circle clip-path=\"url(#clip602)\" cx=\"1310\" cy=\"828.195\" r=\"14.4\" fill=\"#009af9\" fill-rule=\"evenodd\" fill-opacity=\"1\" stroke=\"#000000\" stroke-opacity=\"1\" stroke-width=\"2.4\"/>\n",
       "<circle clip-path=\"url(#clip602)\" cx=\"600.324\" cy=\"417.387\" r=\"14.4\" fill=\"#009af9\" fill-rule=\"evenodd\" fill-opacity=\"1\" stroke=\"#000000\" stroke-opacity=\"1\" stroke-width=\"2.4\"/>\n",
       "<circle clip-path=\"url(#clip602)\" cx=\"912.218\" cy=\"526.755\" r=\"14.4\" fill=\"#009af9\" fill-rule=\"evenodd\" fill-opacity=\"1\" stroke=\"#000000\" stroke-opacity=\"1\" stroke-width=\"2.4\"/>\n",
       "<circle clip-path=\"url(#clip602)\" cx=\"837.329\" cy=\"382.264\" r=\"14.4\" fill=\"#009af9\" fill-rule=\"evenodd\" fill-opacity=\"1\" stroke=\"#000000\" stroke-opacity=\"1\" stroke-width=\"2.4\"/>\n",
       "<circle clip-path=\"url(#clip602)\" cx=\"669.359\" cy=\"452.359\" r=\"14.4\" fill=\"#009af9\" fill-rule=\"evenodd\" fill-opacity=\"1\" stroke=\"#000000\" stroke-opacity=\"1\" stroke-width=\"2.4\"/>\n",
       "<circle clip-path=\"url(#clip602)\" cx=\"843.059\" cy=\"394.145\" r=\"14.4\" fill=\"#009af9\" fill-rule=\"evenodd\" fill-opacity=\"1\" stroke=\"#000000\" stroke-opacity=\"1\" stroke-width=\"2.4\"/>\n",
       "<circle clip-path=\"url(#clip602)\" cx=\"1481.22\" cy=\"517.49\" r=\"14.4\" fill=\"#009af9\" fill-rule=\"evenodd\" fill-opacity=\"1\" stroke=\"#000000\" stroke-opacity=\"1\" stroke-width=\"2.4\"/>\n",
       "<circle clip-path=\"url(#clip602)\" cx=\"1541.26\" cy=\"739.684\" r=\"14.4\" fill=\"#009af9\" fill-rule=\"evenodd\" fill-opacity=\"1\" stroke=\"#000000\" stroke-opacity=\"1\" stroke-width=\"2.4\"/>\n",
       "<circle clip-path=\"url(#clip602)\" cx=\"795.931\" cy=\"510.938\" r=\"14.4\" fill=\"#009af9\" fill-rule=\"evenodd\" fill-opacity=\"1\" stroke=\"#000000\" stroke-opacity=\"1\" stroke-width=\"2.4\"/>\n",
       "<circle clip-path=\"url(#clip602)\" cx=\"648.507\" cy=\"543.167\" r=\"14.4\" fill=\"#009af9\" fill-rule=\"evenodd\" fill-opacity=\"1\" stroke=\"#000000\" stroke-opacity=\"1\" stroke-width=\"2.4\"/>\n",
       "<circle clip-path=\"url(#clip602)\" cx=\"1523.92\" cy=\"569.861\" r=\"14.4\" fill=\"#009af9\" fill-rule=\"evenodd\" fill-opacity=\"1\" stroke=\"#000000\" stroke-opacity=\"1\" stroke-width=\"2.4\"/>\n",
       "<circle clip-path=\"url(#clip602)\" cx=\"1494.47\" cy=\"397.637\" r=\"14.4\" fill=\"#009af9\" fill-rule=\"evenodd\" fill-opacity=\"1\" stroke=\"#000000\" stroke-opacity=\"1\" stroke-width=\"2.4\"/>\n",
       "<circle clip-path=\"url(#clip602)\" cx=\"873.638\" cy=\"443.25\" r=\"14.4\" fill=\"#009af9\" fill-rule=\"evenodd\" fill-opacity=\"1\" stroke=\"#000000\" stroke-opacity=\"1\" stroke-width=\"2.4\"/>\n",
       "<circle clip-path=\"url(#clip602)\" cx=\"832.55\" cy=\"551.548\" r=\"14.4\" fill=\"#009af9\" fill-rule=\"evenodd\" fill-opacity=\"1\" stroke=\"#000000\" stroke-opacity=\"1\" stroke-width=\"2.4\"/>\n",
       "<circle clip-path=\"url(#clip602)\" cx=\"1340.86\" cy=\"818.768\" r=\"14.4\" fill=\"#009af9\" fill-rule=\"evenodd\" fill-opacity=\"1\" stroke=\"#000000\" stroke-opacity=\"1\" stroke-width=\"2.4\"/>\n",
       "<circle clip-path=\"url(#clip602)\" cx=\"1554.92\" cy=\"481.57\" r=\"14.4\" fill=\"#009af9\" fill-rule=\"evenodd\" fill-opacity=\"1\" stroke=\"#000000\" stroke-opacity=\"1\" stroke-width=\"2.4\"/>\n",
       "<circle clip-path=\"url(#clip602)\" cx=\"1427.53\" cy=\"451.851\" r=\"14.4\" fill=\"#009af9\" fill-rule=\"evenodd\" fill-opacity=\"1\" stroke=\"#000000\" stroke-opacity=\"1\" stroke-width=\"2.4\"/>\n",
       "<circle clip-path=\"url(#clip602)\" cx=\"1350.2\" cy=\"599.981\" r=\"14.4\" fill=\"#009af9\" fill-rule=\"evenodd\" fill-opacity=\"1\" stroke=\"#000000\" stroke-opacity=\"1\" stroke-width=\"2.4\"/>\n",
       "<circle clip-path=\"url(#clip602)\" cx=\"1406.47\" cy=\"482.03\" r=\"14.4\" fill=\"#009af9\" fill-rule=\"evenodd\" fill-opacity=\"1\" stroke=\"#000000\" stroke-opacity=\"1\" stroke-width=\"2.4\"/>\n",
       "<circle clip-path=\"url(#clip602)\" cx=\"1496.34\" cy=\"444.924\" r=\"14.4\" fill=\"#009af9\" fill-rule=\"evenodd\" fill-opacity=\"1\" stroke=\"#000000\" stroke-opacity=\"1\" stroke-width=\"2.4\"/>\n",
       "<circle clip-path=\"url(#clip602)\" cx=\"623.446\" cy=\"411.094\" r=\"14.4\" fill=\"#009af9\" fill-rule=\"evenodd\" fill-opacity=\"1\" stroke=\"#000000\" stroke-opacity=\"1\" stroke-width=\"2.4\"/>\n",
       "<circle clip-path=\"url(#clip602)\" cx=\"1457.74\" cy=\"578.21\" r=\"14.4\" fill=\"#009af9\" fill-rule=\"evenodd\" fill-opacity=\"1\" stroke=\"#000000\" stroke-opacity=\"1\" stroke-width=\"2.4\"/>\n",
       "<circle clip-path=\"url(#clip602)\" cx=\"674.597\" cy=\"677\" r=\"14.4\" fill=\"#009af9\" fill-rule=\"evenodd\" fill-opacity=\"1\" stroke=\"#000000\" stroke-opacity=\"1\" stroke-width=\"2.4\"/>\n",
       "<circle clip-path=\"url(#clip602)\" cx=\"866.699\" cy=\"526.334\" r=\"14.4\" fill=\"#009af9\" fill-rule=\"evenodd\" fill-opacity=\"1\" stroke=\"#000000\" stroke-opacity=\"1\" stroke-width=\"2.4\"/>\n",
       "<circle clip-path=\"url(#clip602)\" cx=\"817.52\" cy=\"666.125\" r=\"14.4\" fill=\"#009af9\" fill-rule=\"evenodd\" fill-opacity=\"1\" stroke=\"#000000\" stroke-opacity=\"1\" stroke-width=\"2.4\"/>\n",
       "<circle clip-path=\"url(#clip602)\" cx=\"757.819\" cy=\"477.548\" r=\"14.4\" fill=\"#009af9\" fill-rule=\"evenodd\" fill-opacity=\"1\" stroke=\"#000000\" stroke-opacity=\"1\" stroke-width=\"2.4\"/>\n",
       "<circle clip-path=\"url(#clip602)\" cx=\"746.316\" cy=\"517.218\" r=\"14.4\" fill=\"#009af9\" fill-rule=\"evenodd\" fill-opacity=\"1\" stroke=\"#000000\" stroke-opacity=\"1\" stroke-width=\"2.4\"/>\n",
       "<circle clip-path=\"url(#clip602)\" cx=\"1369.08\" cy=\"573.077\" r=\"14.4\" fill=\"#009af9\" fill-rule=\"evenodd\" fill-opacity=\"1\" stroke=\"#000000\" stroke-opacity=\"1\" stroke-width=\"2.4\"/>\n",
       "<circle clip-path=\"url(#clip602)\" cx=\"1588.17\" cy=\"440.728\" r=\"14.4\" fill=\"#009af9\" fill-rule=\"evenodd\" fill-opacity=\"1\" stroke=\"#000000\" stroke-opacity=\"1\" stroke-width=\"2.4\"/>\n",
       "<circle clip-path=\"url(#clip602)\" cx=\"1342.27\" cy=\"668.45\" r=\"14.4\" fill=\"#009af9\" fill-rule=\"evenodd\" fill-opacity=\"1\" stroke=\"#000000\" stroke-opacity=\"1\" stroke-width=\"2.4\"/>\n",
       "<circle clip-path=\"url(#clip602)\" cx=\"896.974\" cy=\"537.563\" r=\"14.4\" fill=\"#009af9\" fill-rule=\"evenodd\" fill-opacity=\"1\" stroke=\"#000000\" stroke-opacity=\"1\" stroke-width=\"2.4\"/>\n",
       "<circle clip-path=\"url(#clip602)\" cx=\"1293.76\" cy=\"510.914\" r=\"14.4\" fill=\"#009af9\" fill-rule=\"evenodd\" fill-opacity=\"1\" stroke=\"#000000\" stroke-opacity=\"1\" stroke-width=\"2.4\"/>\n",
       "<circle clip-path=\"url(#clip602)\" cx=\"665.999\" cy=\"647.302\" r=\"14.4\" fill=\"#009af9\" fill-rule=\"evenodd\" fill-opacity=\"1\" stroke=\"#000000\" stroke-opacity=\"1\" stroke-width=\"2.4\"/>\n",
       "<circle clip-path=\"url(#clip602)\" cx=\"815.199\" cy=\"562.485\" r=\"14.4\" fill=\"#009af9\" fill-rule=\"evenodd\" fill-opacity=\"1\" stroke=\"#000000\" stroke-opacity=\"1\" stroke-width=\"2.4\"/>\n",
       "<circle clip-path=\"url(#clip602)\" cx=\"1424.37\" cy=\"422.723\" r=\"14.4\" fill=\"#009af9\" fill-rule=\"evenodd\" fill-opacity=\"1\" stroke=\"#000000\" stroke-opacity=\"1\" stroke-width=\"2.4\"/>\n",
       "<circle clip-path=\"url(#clip602)\" cx=\"653.204\" cy=\"628.284\" r=\"14.4\" fill=\"#009af9\" fill-rule=\"evenodd\" fill-opacity=\"1\" stroke=\"#000000\" stroke-opacity=\"1\" stroke-width=\"2.4\"/>\n",
       "<circle clip-path=\"url(#clip602)\" cx=\"871.737\" cy=\"522.833\" r=\"14.4\" fill=\"#009af9\" fill-rule=\"evenodd\" fill-opacity=\"1\" stroke=\"#000000\" stroke-opacity=\"1\" stroke-width=\"2.4\"/>\n",
       "<circle clip-path=\"url(#clip602)\" cx=\"1517.51\" cy=\"414.448\" r=\"14.4\" fill=\"#009af9\" fill-rule=\"evenodd\" fill-opacity=\"1\" stroke=\"#000000\" stroke-opacity=\"1\" stroke-width=\"2.4\"/>\n",
       "<circle clip-path=\"url(#clip602)\" cx=\"734.586\" cy=\"417.233\" r=\"14.4\" fill=\"#009af9\" fill-rule=\"evenodd\" fill-opacity=\"1\" stroke=\"#000000\" stroke-opacity=\"1\" stroke-width=\"2.4\"/>\n",
       "<circle clip-path=\"url(#clip602)\" cx=\"1538.75\" cy=\"374.519\" r=\"14.4\" fill=\"#009af9\" fill-rule=\"evenodd\" fill-opacity=\"1\" stroke=\"#000000\" stroke-opacity=\"1\" stroke-width=\"2.4\"/>\n",
       "<circle clip-path=\"url(#clip602)\" cx=\"1419.97\" cy=\"779.162\" r=\"14.4\" fill=\"#009af9\" fill-rule=\"evenodd\" fill-opacity=\"1\" stroke=\"#000000\" stroke-opacity=\"1\" stroke-width=\"2.4\"/>\n",
       "<circle clip-path=\"url(#clip602)\" cx=\"781.038\" cy=\"735.247\" r=\"14.4\" fill=\"#009af9\" fill-rule=\"evenodd\" fill-opacity=\"1\" stroke=\"#000000\" stroke-opacity=\"1\" stroke-width=\"2.4\"/>\n",
       "<circle clip-path=\"url(#clip602)\" cx=\"603.702\" cy=\"448.222\" r=\"14.4\" fill=\"#009af9\" fill-rule=\"evenodd\" fill-opacity=\"1\" stroke=\"#000000\" stroke-opacity=\"1\" stroke-width=\"2.4\"/>\n",
       "<circle clip-path=\"url(#clip602)\" cx=\"1448.28\" cy=\"590.382\" r=\"14.4\" fill=\"#009af9\" fill-rule=\"evenodd\" fill-opacity=\"1\" stroke=\"#000000\" stroke-opacity=\"1\" stroke-width=\"2.4\"/>\n",
       "<circle clip-path=\"url(#clip602)\" cx=\"787.226\" cy=\"403.27\" r=\"14.4\" fill=\"#009af9\" fill-rule=\"evenodd\" fill-opacity=\"1\" stroke=\"#000000\" stroke-opacity=\"1\" stroke-width=\"2.4\"/>\n",
       "<circle clip-path=\"url(#clip602)\" cx=\"701.635\" cy=\"539.624\" r=\"14.4\" fill=\"#009af9\" fill-rule=\"evenodd\" fill-opacity=\"1\" stroke=\"#000000\" stroke-opacity=\"1\" stroke-width=\"2.4\"/>\n",
       "<circle clip-path=\"url(#clip602)\" cx=\"683.005\" cy=\"580.845\" r=\"14.4\" fill=\"#009af9\" fill-rule=\"evenodd\" fill-opacity=\"1\" stroke=\"#000000\" stroke-opacity=\"1\" stroke-width=\"2.4\"/>\n",
       "<circle clip-path=\"url(#clip602)\" cx=\"839.054\" cy=\"564.22\" r=\"14.4\" fill=\"#009af9\" fill-rule=\"evenodd\" fill-opacity=\"1\" stroke=\"#000000\" stroke-opacity=\"1\" stroke-width=\"2.4\"/>\n",
       "<circle clip-path=\"url(#clip602)\" cx=\"735.506\" cy=\"596.608\" r=\"14.4\" fill=\"#009af9\" fill-rule=\"evenodd\" fill-opacity=\"1\" stroke=\"#000000\" stroke-opacity=\"1\" stroke-width=\"2.4\"/>\n",
       "<circle clip-path=\"url(#clip602)\" cx=\"1394.04\" cy=\"486.604\" r=\"14.4\" fill=\"#009af9\" fill-rule=\"evenodd\" fill-opacity=\"1\" stroke=\"#000000\" stroke-opacity=\"1\" stroke-width=\"2.4\"/>\n",
       "<circle clip-path=\"url(#clip602)\" cx=\"799.283\" cy=\"352.403\" r=\"14.4\" fill=\"#009af9\" fill-rule=\"evenodd\" fill-opacity=\"1\" stroke=\"#000000\" stroke-opacity=\"1\" stroke-width=\"2.4\"/>\n",
       "<circle clip-path=\"url(#clip602)\" cx=\"674.547\" cy=\"445.336\" r=\"14.4\" fill=\"#009af9\" fill-rule=\"evenodd\" fill-opacity=\"1\" stroke=\"#000000\" stroke-opacity=\"1\" stroke-width=\"2.4\"/>\n",
       "<circle clip-path=\"url(#clip602)\" cx=\"1445.3\" cy=\"596.017\" r=\"14.4\" fill=\"#009af9\" fill-rule=\"evenodd\" fill-opacity=\"1\" stroke=\"#000000\" stroke-opacity=\"1\" stroke-width=\"2.4\"/>\n",
       "<circle clip-path=\"url(#clip602)\" cx=\"679.929\" cy=\"729.081\" r=\"14.4\" fill=\"#009af9\" fill-rule=\"evenodd\" fill-opacity=\"1\" stroke=\"#000000\" stroke-opacity=\"1\" stroke-width=\"2.4\"/>\n",
       "<circle clip-path=\"url(#clip602)\" cx=\"845.052\" cy=\"606.769\" r=\"14.4\" fill=\"#009af9\" fill-rule=\"evenodd\" fill-opacity=\"1\" stroke=\"#000000\" stroke-opacity=\"1\" stroke-width=\"2.4\"/>\n",
       "<circle clip-path=\"url(#clip602)\" cx=\"1497.03\" cy=\"334.456\" r=\"14.4\" fill=\"#009af9\" fill-rule=\"evenodd\" fill-opacity=\"1\" stroke=\"#000000\" stroke-opacity=\"1\" stroke-width=\"2.4\"/>\n",
       "<circle clip-path=\"url(#clip602)\" cx=\"1433.8\" cy=\"362.928\" r=\"14.4\" fill=\"#009af9\" fill-rule=\"evenodd\" fill-opacity=\"1\" stroke=\"#000000\" stroke-opacity=\"1\" stroke-width=\"2.4\"/>\n",
       "<circle clip-path=\"url(#clip602)\" cx=\"1475.99\" cy=\"701.183\" r=\"14.4\" fill=\"#009af9\" fill-rule=\"evenodd\" fill-opacity=\"1\" stroke=\"#000000\" stroke-opacity=\"1\" stroke-width=\"2.4\"/>\n",
       "<circle clip-path=\"url(#clip602)\" cx=\"1489.25\" cy=\"518.792\" r=\"14.4\" fill=\"#009af9\" fill-rule=\"evenodd\" fill-opacity=\"1\" stroke=\"#000000\" stroke-opacity=\"1\" stroke-width=\"2.4\"/>\n",
       "<circle clip-path=\"url(#clip602)\" cx=\"1482.61\" cy=\"510.462\" r=\"14.4\" fill=\"#009af9\" fill-rule=\"evenodd\" fill-opacity=\"1\" stroke=\"#000000\" stroke-opacity=\"1\" stroke-width=\"2.4\"/>\n",
       "<circle clip-path=\"url(#clip602)\" cx=\"873.258\" cy=\"642.206\" r=\"14.4\" fill=\"#009af9\" fill-rule=\"evenodd\" fill-opacity=\"1\" stroke=\"#000000\" stroke-opacity=\"1\" stroke-width=\"2.4\"/>\n",
       "<circle clip-path=\"url(#clip602)\" cx=\"1360.19\" cy=\"346.403\" r=\"14.4\" fill=\"#009af9\" fill-rule=\"evenodd\" fill-opacity=\"1\" stroke=\"#000000\" stroke-opacity=\"1\" stroke-width=\"2.4\"/>\n",
       "<circle clip-path=\"url(#clip602)\" cx=\"747.053\" cy=\"531.73\" r=\"14.4\" fill=\"#009af9\" fill-rule=\"evenodd\" fill-opacity=\"1\" stroke=\"#000000\" stroke-opacity=\"1\" stroke-width=\"2.4\"/>\n",
       "<circle clip-path=\"url(#clip602)\" cx=\"1557.15\" cy=\"330.374\" r=\"14.4\" fill=\"#009af9\" fill-rule=\"evenodd\" fill-opacity=\"1\" stroke=\"#000000\" stroke-opacity=\"1\" stroke-width=\"2.4\"/>\n",
       "<circle clip-path=\"url(#clip602)\" cx=\"1458.67\" cy=\"715.584\" r=\"14.4\" fill=\"#009af9\" fill-rule=\"evenodd\" fill-opacity=\"1\" stroke=\"#000000\" stroke-opacity=\"1\" stroke-width=\"2.4\"/>\n",
       "<circle clip-path=\"url(#clip602)\" cx=\"1427.18\" cy=\"611.809\" r=\"14.4\" fill=\"#009af9\" fill-rule=\"evenodd\" fill-opacity=\"1\" stroke=\"#000000\" stroke-opacity=\"1\" stroke-width=\"2.4\"/>\n",
       "<circle clip-path=\"url(#clip602)\" cx=\"1553.59\" cy=\"607.62\" r=\"14.4\" fill=\"#009af9\" fill-rule=\"evenodd\" fill-opacity=\"1\" stroke=\"#000000\" stroke-opacity=\"1\" stroke-width=\"2.4\"/>\n",
       "<circle clip-path=\"url(#clip602)\" cx=\"882.851\" cy=\"567.481\" r=\"14.4\" fill=\"#009af9\" fill-rule=\"evenodd\" fill-opacity=\"1\" stroke=\"#000000\" stroke-opacity=\"1\" stroke-width=\"2.4\"/>\n",
       "<circle clip-path=\"url(#clip602)\" cx=\"1339.13\" cy=\"616.137\" r=\"14.4\" fill=\"#009af9\" fill-rule=\"evenodd\" fill-opacity=\"1\" stroke=\"#000000\" stroke-opacity=\"1\" stroke-width=\"2.4\"/>\n",
       "<circle clip-path=\"url(#clip602)\" cx=\"1481.08\" cy=\"558.149\" r=\"14.4\" fill=\"#009af9\" fill-rule=\"evenodd\" fill-opacity=\"1\" stroke=\"#000000\" stroke-opacity=\"1\" stroke-width=\"2.4\"/>\n",
       "<circle clip-path=\"url(#clip602)\" cx=\"1479.59\" cy=\"554.378\" r=\"14.4\" fill=\"#009af9\" fill-rule=\"evenodd\" fill-opacity=\"1\" stroke=\"#000000\" stroke-opacity=\"1\" stroke-width=\"2.4\"/>\n",
       "<circle clip-path=\"url(#clip602)\" cx=\"1490.17\" cy=\"588.384\" r=\"14.4\" fill=\"#009af9\" fill-rule=\"evenodd\" fill-opacity=\"1\" stroke=\"#000000\" stroke-opacity=\"1\" stroke-width=\"2.4\"/>\n",
       "<circle clip-path=\"url(#clip602)\" cx=\"728.756\" cy=\"575.493\" r=\"14.4\" fill=\"#009af9\" fill-rule=\"evenodd\" fill-opacity=\"1\" stroke=\"#000000\" stroke-opacity=\"1\" stroke-width=\"2.4\"/>\n",
       "<circle clip-path=\"url(#clip602)\" cx=\"1266.68\" cy=\"610.946\" r=\"14.4\" fill=\"#009af9\" fill-rule=\"evenodd\" fill-opacity=\"1\" stroke=\"#000000\" stroke-opacity=\"1\" stroke-width=\"2.4\"/>\n",
       "<circle clip-path=\"url(#clip602)\" cx=\"676.332\" cy=\"495.059\" r=\"14.4\" fill=\"#009af9\" fill-rule=\"evenodd\" fill-opacity=\"1\" stroke=\"#000000\" stroke-opacity=\"1\" stroke-width=\"2.4\"/>\n",
       "<circle clip-path=\"url(#clip602)\" cx=\"865.149\" cy=\"644.231\" r=\"14.4\" fill=\"#009af9\" fill-rule=\"evenodd\" fill-opacity=\"1\" stroke=\"#000000\" stroke-opacity=\"1\" stroke-width=\"2.4\"/>\n",
       "<circle clip-path=\"url(#clip602)\" cx=\"854.399\" cy=\"518.741\" r=\"14.4\" fill=\"#009af9\" fill-rule=\"evenodd\" fill-opacity=\"1\" stroke=\"#000000\" stroke-opacity=\"1\" stroke-width=\"2.4\"/>\n",
       "<circle clip-path=\"url(#clip602)\" cx=\"1425.25\" cy=\"423.095\" r=\"14.4\" fill=\"#009af9\" fill-rule=\"evenodd\" fill-opacity=\"1\" stroke=\"#000000\" stroke-opacity=\"1\" stroke-width=\"2.4\"/>\n",
       "<circle clip-path=\"url(#clip602)\" cx=\"1451.03\" cy=\"487.965\" r=\"14.4\" fill=\"#009af9\" fill-rule=\"evenodd\" fill-opacity=\"1\" stroke=\"#000000\" stroke-opacity=\"1\" stroke-width=\"2.4\"/>\n",
       "<circle clip-path=\"url(#clip602)\" cx=\"666.089\" cy=\"500.507\" r=\"14.4\" fill=\"#009af9\" fill-rule=\"evenodd\" fill-opacity=\"1\" stroke=\"#000000\" stroke-opacity=\"1\" stroke-width=\"2.4\"/>\n",
       "<circle clip-path=\"url(#clip602)\" cx=\"1251.27\" cy=\"538.645\" r=\"14.4\" fill=\"#009af9\" fill-rule=\"evenodd\" fill-opacity=\"1\" stroke=\"#000000\" stroke-opacity=\"1\" stroke-width=\"2.4\"/>\n",
       "<circle clip-path=\"url(#clip602)\" cx=\"1465.62\" cy=\"514.099\" r=\"14.4\" fill=\"#009af9\" fill-rule=\"evenodd\" fill-opacity=\"1\" stroke=\"#000000\" stroke-opacity=\"1\" stroke-width=\"2.4\"/>\n",
       "<circle clip-path=\"url(#clip602)\" cx=\"532.333\" cy=\"509.178\" r=\"14.4\" fill=\"#009af9\" fill-rule=\"evenodd\" fill-opacity=\"1\" stroke=\"#000000\" stroke-opacity=\"1\" stroke-width=\"2.4\"/>\n",
       "<circle clip-path=\"url(#clip602)\" cx=\"648.822\" cy=\"547.565\" r=\"14.4\" fill=\"#009af9\" fill-rule=\"evenodd\" fill-opacity=\"1\" stroke=\"#000000\" stroke-opacity=\"1\" stroke-width=\"2.4\"/>\n",
       "<circle clip-path=\"url(#clip602)\" cx=\"1503.1\" cy=\"362.955\" r=\"14.4\" fill=\"#009af9\" fill-rule=\"evenodd\" fill-opacity=\"1\" stroke=\"#000000\" stroke-opacity=\"1\" stroke-width=\"2.4\"/>\n",
       "<circle clip-path=\"url(#clip602)\" cx=\"1378.68\" cy=\"471.739\" r=\"14.4\" fill=\"#009af9\" fill-rule=\"evenodd\" fill-opacity=\"1\" stroke=\"#000000\" stroke-opacity=\"1\" stroke-width=\"2.4\"/>\n",
       "<circle clip-path=\"url(#clip602)\" cx=\"786.929\" cy=\"665.296\" r=\"14.4\" fill=\"#009af9\" fill-rule=\"evenodd\" fill-opacity=\"1\" stroke=\"#000000\" stroke-opacity=\"1\" stroke-width=\"2.4\"/>\n",
       "<circle clip-path=\"url(#clip602)\" cx=\"1547.09\" cy=\"457.884\" r=\"14.4\" fill=\"#009af9\" fill-rule=\"evenodd\" fill-opacity=\"1\" stroke=\"#000000\" stroke-opacity=\"1\" stroke-width=\"2.4\"/>\n",
       "<circle clip-path=\"url(#clip602)\" cx=\"900.244\" cy=\"509.698\" r=\"14.4\" fill=\"#009af9\" fill-rule=\"evenodd\" fill-opacity=\"1\" stroke=\"#000000\" stroke-opacity=\"1\" stroke-width=\"2.4\"/>\n",
       "<circle clip-path=\"url(#clip602)\" cx=\"848.463\" cy=\"546.528\" r=\"14.4\" fill=\"#009af9\" fill-rule=\"evenodd\" fill-opacity=\"1\" stroke=\"#000000\" stroke-opacity=\"1\" stroke-width=\"2.4\"/>\n",
       "<circle clip-path=\"url(#clip602)\" cx=\"814.055\" cy=\"548.223\" r=\"14.4\" fill=\"#009af9\" fill-rule=\"evenodd\" fill-opacity=\"1\" stroke=\"#000000\" stroke-opacity=\"1\" stroke-width=\"2.4\"/>\n",
       "<circle clip-path=\"url(#clip602)\" cx=\"701.815\" cy=\"713.843\" r=\"14.4\" fill=\"#009af9\" fill-rule=\"evenodd\" fill-opacity=\"1\" stroke=\"#000000\" stroke-opacity=\"1\" stroke-width=\"2.4\"/>\n",
       "<circle clip-path=\"url(#clip602)\" cx=\"1489.4\" cy=\"504.77\" r=\"14.4\" fill=\"#009af9\" fill-rule=\"evenodd\" fill-opacity=\"1\" stroke=\"#000000\" stroke-opacity=\"1\" stroke-width=\"2.4\"/>\n",
       "<circle clip-path=\"url(#clip602)\" cx=\"765.449\" cy=\"644.364\" r=\"14.4\" fill=\"#009af9\" fill-rule=\"evenodd\" fill-opacity=\"1\" stroke=\"#000000\" stroke-opacity=\"1\" stroke-width=\"2.4\"/>\n",
       "<circle clip-path=\"url(#clip602)\" cx=\"640.882\" cy=\"589.716\" r=\"14.4\" fill=\"#009af9\" fill-rule=\"evenodd\" fill-opacity=\"1\" stroke=\"#000000\" stroke-opacity=\"1\" stroke-width=\"2.4\"/>\n",
       "<circle clip-path=\"url(#clip602)\" cx=\"1517.75\" cy=\"698.628\" r=\"14.4\" fill=\"#009af9\" fill-rule=\"evenodd\" fill-opacity=\"1\" stroke=\"#000000\" stroke-opacity=\"1\" stroke-width=\"2.4\"/>\n",
       "<circle clip-path=\"url(#clip602)\" cx=\"1569.96\" cy=\"337.917\" r=\"14.4\" fill=\"#009af9\" fill-rule=\"evenodd\" fill-opacity=\"1\" stroke=\"#000000\" stroke-opacity=\"1\" stroke-width=\"2.4\"/>\n",
       "<circle clip-path=\"url(#clip602)\" cx=\"1412.99\" cy=\"498.736\" r=\"14.4\" fill=\"#009af9\" fill-rule=\"evenodd\" fill-opacity=\"1\" stroke=\"#000000\" stroke-opacity=\"1\" stroke-width=\"2.4\"/>\n",
       "<circle clip-path=\"url(#clip602)\" cx=\"850.866\" cy=\"570.749\" r=\"14.4\" fill=\"#009af9\" fill-rule=\"evenodd\" fill-opacity=\"1\" stroke=\"#000000\" stroke-opacity=\"1\" stroke-width=\"2.4\"/>\n",
       "<circle clip-path=\"url(#clip602)\" cx=\"1510.28\" cy=\"467.907\" r=\"14.4\" fill=\"#009af9\" fill-rule=\"evenodd\" fill-opacity=\"1\" stroke=\"#000000\" stroke-opacity=\"1\" stroke-width=\"2.4\"/>\n",
       "<circle clip-path=\"url(#clip602)\" cx=\"1325.29\" cy=\"497.805\" r=\"14.4\" fill=\"#009af9\" fill-rule=\"evenodd\" fill-opacity=\"1\" stroke=\"#000000\" stroke-opacity=\"1\" stroke-width=\"2.4\"/>\n",
       "<circle clip-path=\"url(#clip602)\" cx=\"549.028\" cy=\"493.675\" r=\"14.4\" fill=\"#009af9\" fill-rule=\"evenodd\" fill-opacity=\"1\" stroke=\"#000000\" stroke-opacity=\"1\" stroke-width=\"2.4\"/>\n",
       "<circle clip-path=\"url(#clip602)\" cx=\"1643.73\" cy=\"539.13\" r=\"14.4\" fill=\"#009af9\" fill-rule=\"evenodd\" fill-opacity=\"1\" stroke=\"#000000\" stroke-opacity=\"1\" stroke-width=\"2.4\"/>\n",
       "<circle clip-path=\"url(#clip602)\" cx=\"833.786\" cy=\"634.908\" r=\"14.4\" fill=\"#009af9\" fill-rule=\"evenodd\" fill-opacity=\"1\" stroke=\"#000000\" stroke-opacity=\"1\" stroke-width=\"2.4\"/>\n",
       "<circle clip-path=\"url(#clip602)\" cx=\"586.165\" cy=\"499.473\" r=\"14.4\" fill=\"#009af9\" fill-rule=\"evenodd\" fill-opacity=\"1\" stroke=\"#000000\" stroke-opacity=\"1\" stroke-width=\"2.4\"/>\n",
       "<circle clip-path=\"url(#clip602)\" cx=\"758.871\" cy=\"610.703\" r=\"14.4\" fill=\"#009af9\" fill-rule=\"evenodd\" fill-opacity=\"1\" stroke=\"#000000\" stroke-opacity=\"1\" stroke-width=\"2.4\"/>\n",
       "<circle clip-path=\"url(#clip602)\" cx=\"756.752\" cy=\"523.185\" r=\"14.4\" fill=\"#009af9\" fill-rule=\"evenodd\" fill-opacity=\"1\" stroke=\"#000000\" stroke-opacity=\"1\" stroke-width=\"2.4\"/>\n",
       "<circle clip-path=\"url(#clip602)\" cx=\"772.616\" cy=\"576.303\" r=\"14.4\" fill=\"#009af9\" fill-rule=\"evenodd\" fill-opacity=\"1\" stroke=\"#000000\" stroke-opacity=\"1\" stroke-width=\"2.4\"/>\n",
       "<circle clip-path=\"url(#clip602)\" cx=\"1408.91\" cy=\"491.554\" r=\"14.4\" fill=\"#009af9\" fill-rule=\"evenodd\" fill-opacity=\"1\" stroke=\"#000000\" stroke-opacity=\"1\" stroke-width=\"2.4\"/>\n",
       "<circle clip-path=\"url(#clip602)\" cx=\"1616.63\" cy=\"620.156\" r=\"14.4\" fill=\"#009af9\" fill-rule=\"evenodd\" fill-opacity=\"1\" stroke=\"#000000\" stroke-opacity=\"1\" stroke-width=\"2.4\"/>\n",
       "<circle clip-path=\"url(#clip602)\" cx=\"497.733\" cy=\"446.518\" r=\"14.4\" fill=\"#009af9\" fill-rule=\"evenodd\" fill-opacity=\"1\" stroke=\"#000000\" stroke-opacity=\"1\" stroke-width=\"2.4\"/>\n",
       "<circle clip-path=\"url(#clip602)\" cx=\"854.439\" cy=\"525.325\" r=\"14.4\" fill=\"#009af9\" fill-rule=\"evenodd\" fill-opacity=\"1\" stroke=\"#000000\" stroke-opacity=\"1\" stroke-width=\"2.4\"/>\n",
       "<circle clip-path=\"url(#clip602)\" cx=\"1419.79\" cy=\"727.798\" r=\"14.4\" fill=\"#009af9\" fill-rule=\"evenodd\" fill-opacity=\"1\" stroke=\"#000000\" stroke-opacity=\"1\" stroke-width=\"2.4\"/>\n",
       "<circle clip-path=\"url(#clip602)\" cx=\"710.027\" cy=\"512.54\" r=\"14.4\" fill=\"#009af9\" fill-rule=\"evenodd\" fill-opacity=\"1\" stroke=\"#000000\" stroke-opacity=\"1\" stroke-width=\"2.4\"/>\n",
       "<circle clip-path=\"url(#clip602)\" cx=\"1483.78\" cy=\"773.795\" r=\"14.4\" fill=\"#009af9\" fill-rule=\"evenodd\" fill-opacity=\"1\" stroke=\"#000000\" stroke-opacity=\"1\" stroke-width=\"2.4\"/>\n",
       "<circle clip-path=\"url(#clip602)\" cx=\"1378.22\" cy=\"412.837\" r=\"14.4\" fill=\"#009af9\" fill-rule=\"evenodd\" fill-opacity=\"1\" stroke=\"#000000\" stroke-opacity=\"1\" stroke-width=\"2.4\"/>\n",
       "<circle clip-path=\"url(#clip602)\" cx=\"1459.18\" cy=\"516.09\" r=\"14.4\" fill=\"#009af9\" fill-rule=\"evenodd\" fill-opacity=\"1\" stroke=\"#000000\" stroke-opacity=\"1\" stroke-width=\"2.4\"/>\n",
       "<circle clip-path=\"url(#clip602)\" cx=\"1505.15\" cy=\"558.59\" r=\"14.4\" fill=\"#009af9\" fill-rule=\"evenodd\" fill-opacity=\"1\" stroke=\"#000000\" stroke-opacity=\"1\" stroke-width=\"2.4\"/>\n",
       "<circle clip-path=\"url(#clip602)\" cx=\"865.891\" cy=\"583.508\" r=\"14.4\" fill=\"#009af9\" fill-rule=\"evenodd\" fill-opacity=\"1\" stroke=\"#000000\" stroke-opacity=\"1\" stroke-width=\"2.4\"/>\n",
       "<circle clip-path=\"url(#clip602)\" cx=\"721.403\" cy=\"421.783\" r=\"14.4\" fill=\"#009af9\" fill-rule=\"evenodd\" fill-opacity=\"1\" stroke=\"#000000\" stroke-opacity=\"1\" stroke-width=\"2.4\"/>\n",
       "<circle clip-path=\"url(#clip602)\" cx=\"770.656\" cy=\"422.245\" r=\"14.4\" fill=\"#009af9\" fill-rule=\"evenodd\" fill-opacity=\"1\" stroke=\"#000000\" stroke-opacity=\"1\" stroke-width=\"2.4\"/>\n",
       "<circle clip-path=\"url(#clip602)\" cx=\"820.158\" cy=\"642.344\" r=\"14.4\" fill=\"#009af9\" fill-rule=\"evenodd\" fill-opacity=\"1\" stroke=\"#000000\" stroke-opacity=\"1\" stroke-width=\"2.4\"/>\n",
       "<circle clip-path=\"url(#clip602)\" cx=\"1383.92\" cy=\"571.864\" r=\"14.4\" fill=\"#009af9\" fill-rule=\"evenodd\" fill-opacity=\"1\" stroke=\"#000000\" stroke-opacity=\"1\" stroke-width=\"2.4\"/>\n",
       "<circle clip-path=\"url(#clip602)\" cx=\"666.764\" cy=\"400.642\" r=\"14.4\" fill=\"#009af9\" fill-rule=\"evenodd\" fill-opacity=\"1\" stroke=\"#000000\" stroke-opacity=\"1\" stroke-width=\"2.4\"/>\n",
       "<circle clip-path=\"url(#clip602)\" cx=\"1528.14\" cy=\"629.982\" r=\"14.4\" fill=\"#009af9\" fill-rule=\"evenodd\" fill-opacity=\"1\" stroke=\"#000000\" stroke-opacity=\"1\" stroke-width=\"2.4\"/>\n",
       "<circle clip-path=\"url(#clip602)\" cx=\"1373.85\" cy=\"539.603\" r=\"14.4\" fill=\"#009af9\" fill-rule=\"evenodd\" fill-opacity=\"1\" stroke=\"#000000\" stroke-opacity=\"1\" stroke-width=\"2.4\"/>\n",
       "<circle clip-path=\"url(#clip602)\" cx=\"686.59\" cy=\"396.847\" r=\"14.4\" fill=\"#009af9\" fill-rule=\"evenodd\" fill-opacity=\"1\" stroke=\"#000000\" stroke-opacity=\"1\" stroke-width=\"2.4\"/>\n",
       "<circle clip-path=\"url(#clip602)\" cx=\"1307.34\" cy=\"403.627\" r=\"14.4\" fill=\"#009af9\" fill-rule=\"evenodd\" fill-opacity=\"1\" stroke=\"#000000\" stroke-opacity=\"1\" stroke-width=\"2.4\"/>\n",
       "<circle clip-path=\"url(#clip602)\" cx=\"696.306\" cy=\"415.939\" r=\"14.4\" fill=\"#009af9\" fill-rule=\"evenodd\" fill-opacity=\"1\" stroke=\"#000000\" stroke-opacity=\"1\" stroke-width=\"2.4\"/>\n",
       "<circle clip-path=\"url(#clip602)\" cx=\"498.708\" cy=\"611.32\" r=\"14.4\" fill=\"#009af9\" fill-rule=\"evenodd\" fill-opacity=\"1\" stroke=\"#000000\" stroke-opacity=\"1\" stroke-width=\"2.4\"/>\n",
       "<circle clip-path=\"url(#clip602)\" cx=\"1473.27\" cy=\"458.701\" r=\"14.4\" fill=\"#009af9\" fill-rule=\"evenodd\" fill-opacity=\"1\" stroke=\"#000000\" stroke-opacity=\"1\" stroke-width=\"2.4\"/>\n",
       "<circle clip-path=\"url(#clip602)\" cx=\"710.257\" cy=\"394.186\" r=\"14.4\" fill=\"#009af9\" fill-rule=\"evenodd\" fill-opacity=\"1\" stroke=\"#000000\" stroke-opacity=\"1\" stroke-width=\"2.4\"/>\n",
       "<circle clip-path=\"url(#clip602)\" cx=\"748.573\" cy=\"477.981\" r=\"14.4\" fill=\"#009af9\" fill-rule=\"evenodd\" fill-opacity=\"1\" stroke=\"#000000\" stroke-opacity=\"1\" stroke-width=\"2.4\"/>\n",
       "<circle clip-path=\"url(#clip602)\" cx=\"968.768\" cy=\"705.896\" r=\"14.4\" fill=\"#009af9\" fill-rule=\"evenodd\" fill-opacity=\"1\" stroke=\"#000000\" stroke-opacity=\"1\" stroke-width=\"2.4\"/>\n",
       "<circle clip-path=\"url(#clip602)\" cx=\"707.571\" cy=\"517.131\" r=\"14.4\" fill=\"#009af9\" fill-rule=\"evenodd\" fill-opacity=\"1\" stroke=\"#000000\" stroke-opacity=\"1\" stroke-width=\"2.4\"/>\n",
       "<circle clip-path=\"url(#clip602)\" cx=\"1292.4\" cy=\"518.451\" r=\"14.4\" fill=\"#009af9\" fill-rule=\"evenodd\" fill-opacity=\"1\" stroke=\"#000000\" stroke-opacity=\"1\" stroke-width=\"2.4\"/>\n",
       "<circle clip-path=\"url(#clip602)\" cx=\"1519.89\" cy=\"381.663\" r=\"14.4\" fill=\"#009af9\" fill-rule=\"evenodd\" fill-opacity=\"1\" stroke=\"#000000\" stroke-opacity=\"1\" stroke-width=\"2.4\"/>\n",
       "<circle clip-path=\"url(#clip602)\" cx=\"1619.53\" cy=\"481.508\" r=\"14.4\" fill=\"#009af9\" fill-rule=\"evenodd\" fill-opacity=\"1\" stroke=\"#000000\" stroke-opacity=\"1\" stroke-width=\"2.4\"/>\n",
       "<circle clip-path=\"url(#clip602)\" cx=\"1357.59\" cy=\"584.512\" r=\"14.4\" fill=\"#009af9\" fill-rule=\"evenodd\" fill-opacity=\"1\" stroke=\"#000000\" stroke-opacity=\"1\" stroke-width=\"2.4\"/>\n",
       "<circle clip-path=\"url(#clip602)\" cx=\"1475.24\" cy=\"405.456\" r=\"14.4\" fill=\"#009af9\" fill-rule=\"evenodd\" fill-opacity=\"1\" stroke=\"#000000\" stroke-opacity=\"1\" stroke-width=\"2.4\"/>\n",
       "<circle clip-path=\"url(#clip602)\" cx=\"853.966\" cy=\"663.556\" r=\"14.4\" fill=\"#009af9\" fill-rule=\"evenodd\" fill-opacity=\"1\" stroke=\"#000000\" stroke-opacity=\"1\" stroke-width=\"2.4\"/>\n",
       "<circle clip-path=\"url(#clip602)\" cx=\"1410.06\" cy=\"525.035\" r=\"14.4\" fill=\"#009af9\" fill-rule=\"evenodd\" fill-opacity=\"1\" stroke=\"#000000\" stroke-opacity=\"1\" stroke-width=\"2.4\"/>\n",
       "<circle clip-path=\"url(#clip602)\" cx=\"1303.69\" cy=\"404.967\" r=\"14.4\" fill=\"#009af9\" fill-rule=\"evenodd\" fill-opacity=\"1\" stroke=\"#000000\" stroke-opacity=\"1\" stroke-width=\"2.4\"/>\n",
       "<circle clip-path=\"url(#clip602)\" cx=\"1491.32\" cy=\"651.715\" r=\"14.4\" fill=\"#009af9\" fill-rule=\"evenodd\" fill-opacity=\"1\" stroke=\"#000000\" stroke-opacity=\"1\" stroke-width=\"2.4\"/>\n",
       "<circle clip-path=\"url(#clip602)\" cx=\"1398.08\" cy=\"732.058\" r=\"14.4\" fill=\"#009af9\" fill-rule=\"evenodd\" fill-opacity=\"1\" stroke=\"#000000\" stroke-opacity=\"1\" stroke-width=\"2.4\"/>\n",
       "<circle clip-path=\"url(#clip602)\" cx=\"1364.86\" cy=\"511.032\" r=\"14.4\" fill=\"#009af9\" fill-rule=\"evenodd\" fill-opacity=\"1\" stroke=\"#000000\" stroke-opacity=\"1\" stroke-width=\"2.4\"/>\n",
       "<circle clip-path=\"url(#clip602)\" cx=\"874.153\" cy=\"546.378\" r=\"14.4\" fill=\"#009af9\" fill-rule=\"evenodd\" fill-opacity=\"1\" stroke=\"#000000\" stroke-opacity=\"1\" stroke-width=\"2.4\"/>\n",
       "<circle clip-path=\"url(#clip602)\" cx=\"1488.41\" cy=\"638.55\" r=\"14.4\" fill=\"#009af9\" fill-rule=\"evenodd\" fill-opacity=\"1\" stroke=\"#000000\" stroke-opacity=\"1\" stroke-width=\"2.4\"/>\n",
       "<circle clip-path=\"url(#clip602)\" cx=\"1387.97\" cy=\"492.961\" r=\"14.4\" fill=\"#009af9\" fill-rule=\"evenodd\" fill-opacity=\"1\" stroke=\"#000000\" stroke-opacity=\"1\" stroke-width=\"2.4\"/>\n",
       "<circle clip-path=\"url(#clip602)\" cx=\"830.823\" cy=\"811.128\" r=\"14.4\" fill=\"#009af9\" fill-rule=\"evenodd\" fill-opacity=\"1\" stroke=\"#000000\" stroke-opacity=\"1\" stroke-width=\"2.4\"/>\n",
       "<circle clip-path=\"url(#clip602)\" cx=\"567.737\" cy=\"644.957\" r=\"14.4\" fill=\"#009af9\" fill-rule=\"evenodd\" fill-opacity=\"1\" stroke=\"#000000\" stroke-opacity=\"1\" stroke-width=\"2.4\"/>\n",
       "<circle clip-path=\"url(#clip602)\" cx=\"1549.5\" cy=\"402.327\" r=\"14.4\" fill=\"#009af9\" fill-rule=\"evenodd\" fill-opacity=\"1\" stroke=\"#000000\" stroke-opacity=\"1\" stroke-width=\"2.4\"/>\n",
       "<circle clip-path=\"url(#clip602)\" cx=\"1437.91\" cy=\"701.47\" r=\"14.4\" fill=\"#009af9\" fill-rule=\"evenodd\" fill-opacity=\"1\" stroke=\"#000000\" stroke-opacity=\"1\" stroke-width=\"2.4\"/>\n",
       "<circle clip-path=\"url(#clip602)\" cx=\"1478.09\" cy=\"488.219\" r=\"14.4\" fill=\"#009af9\" fill-rule=\"evenodd\" fill-opacity=\"1\" stroke=\"#000000\" stroke-opacity=\"1\" stroke-width=\"2.4\"/>\n",
       "<circle clip-path=\"url(#clip602)\" cx=\"1450.03\" cy=\"624.755\" r=\"14.4\" fill=\"#009af9\" fill-rule=\"evenodd\" fill-opacity=\"1\" stroke=\"#000000\" stroke-opacity=\"1\" stroke-width=\"2.4\"/>\n",
       "<circle clip-path=\"url(#clip602)\" cx=\"1500.23\" cy=\"432.708\" r=\"14.4\" fill=\"#009af9\" fill-rule=\"evenodd\" fill-opacity=\"1\" stroke=\"#000000\" stroke-opacity=\"1\" stroke-width=\"2.4\"/>\n",
       "<circle clip-path=\"url(#clip602)\" cx=\"741.076\" cy=\"395.827\" r=\"14.4\" fill=\"#009af9\" fill-rule=\"evenodd\" fill-opacity=\"1\" stroke=\"#000000\" stroke-opacity=\"1\" stroke-width=\"2.4\"/>\n",
       "<circle clip-path=\"url(#clip602)\" cx=\"1404.08\" cy=\"345.613\" r=\"14.4\" fill=\"#009af9\" fill-rule=\"evenodd\" fill-opacity=\"1\" stroke=\"#000000\" stroke-opacity=\"1\" stroke-width=\"2.4\"/>\n",
       "<circle clip-path=\"url(#clip602)\" cx=\"740.375\" cy=\"452.112\" r=\"14.4\" fill=\"#009af9\" fill-rule=\"evenodd\" fill-opacity=\"1\" stroke=\"#000000\" stroke-opacity=\"1\" stroke-width=\"2.4\"/>\n",
       "<circle clip-path=\"url(#clip602)\" cx=\"1408.48\" cy=\"514.282\" r=\"14.4\" fill=\"#009af9\" fill-rule=\"evenodd\" fill-opacity=\"1\" stroke=\"#000000\" stroke-opacity=\"1\" stroke-width=\"2.4\"/>\n",
       "<circle clip-path=\"url(#clip602)\" cx=\"1345.9\" cy=\"533.765\" r=\"14.4\" fill=\"#009af9\" fill-rule=\"evenodd\" fill-opacity=\"1\" stroke=\"#000000\" stroke-opacity=\"1\" stroke-width=\"2.4\"/>\n",
       "<circle clip-path=\"url(#clip602)\" cx=\"779.733\" cy=\"651.18\" r=\"14.4\" fill=\"#009af9\" fill-rule=\"evenodd\" fill-opacity=\"1\" stroke=\"#000000\" stroke-opacity=\"1\" stroke-width=\"2.4\"/>\n",
       "<circle clip-path=\"url(#clip602)\" cx=\"1567.37\" cy=\"595.536\" r=\"14.4\" fill=\"#009af9\" fill-rule=\"evenodd\" fill-opacity=\"1\" stroke=\"#000000\" stroke-opacity=\"1\" stroke-width=\"2.4\"/>\n",
       "<circle clip-path=\"url(#clip602)\" cx=\"850.446\" cy=\"448.53\" r=\"14.4\" fill=\"#009af9\" fill-rule=\"evenodd\" fill-opacity=\"1\" stroke=\"#000000\" stroke-opacity=\"1\" stroke-width=\"2.4\"/>\n",
       "<circle clip-path=\"url(#clip602)\" cx=\"662.305\" cy=\"398.144\" r=\"14.4\" fill=\"#009af9\" fill-rule=\"evenodd\" fill-opacity=\"1\" stroke=\"#000000\" stroke-opacity=\"1\" stroke-width=\"2.4\"/>\n",
       "<circle clip-path=\"url(#clip602)\" cx=\"722.574\" cy=\"719.73\" r=\"14.4\" fill=\"#009af9\" fill-rule=\"evenodd\" fill-opacity=\"1\" stroke=\"#000000\" stroke-opacity=\"1\" stroke-width=\"2.4\"/>\n",
       "<circle clip-path=\"url(#clip602)\" cx=\"1369.67\" cy=\"659.416\" r=\"14.4\" fill=\"#009af9\" fill-rule=\"evenodd\" fill-opacity=\"1\" stroke=\"#000000\" stroke-opacity=\"1\" stroke-width=\"2.4\"/>\n",
       "<circle clip-path=\"url(#clip602)\" cx=\"1520.59\" cy=\"361.872\" r=\"14.4\" fill=\"#009af9\" fill-rule=\"evenodd\" fill-opacity=\"1\" stroke=\"#000000\" stroke-opacity=\"1\" stroke-width=\"2.4\"/>\n",
       "<circle clip-path=\"url(#clip602)\" cx=\"1452.85\" cy=\"547.982\" r=\"14.4\" fill=\"#009af9\" fill-rule=\"evenodd\" fill-opacity=\"1\" stroke=\"#000000\" stroke-opacity=\"1\" stroke-width=\"2.4\"/>\n",
       "<circle clip-path=\"url(#clip602)\" cx=\"1592.39\" cy=\"528.977\" r=\"14.4\" fill=\"#009af9\" fill-rule=\"evenodd\" fill-opacity=\"1\" stroke=\"#000000\" stroke-opacity=\"1\" stroke-width=\"2.4\"/>\n",
       "<circle clip-path=\"url(#clip602)\" cx=\"1488.16\" cy=\"602.483\" r=\"14.4\" fill=\"#009af9\" fill-rule=\"evenodd\" fill-opacity=\"1\" stroke=\"#000000\" stroke-opacity=\"1\" stroke-width=\"2.4\"/>\n",
       "<circle clip-path=\"url(#clip602)\" cx=\"1300.01\" cy=\"546.516\" r=\"14.4\" fill=\"#009af9\" fill-rule=\"evenodd\" fill-opacity=\"1\" stroke=\"#000000\" stroke-opacity=\"1\" stroke-width=\"2.4\"/>\n",
       "<circle clip-path=\"url(#clip602)\" cx=\"777.011\" cy=\"644.031\" r=\"14.4\" fill=\"#009af9\" fill-rule=\"evenodd\" fill-opacity=\"1\" stroke=\"#000000\" stroke-opacity=\"1\" stroke-width=\"2.4\"/>\n",
       "<circle clip-path=\"url(#clip602)\" cx=\"747.425\" cy=\"387.895\" r=\"14.4\" fill=\"#009af9\" fill-rule=\"evenodd\" fill-opacity=\"1\" stroke=\"#000000\" stroke-opacity=\"1\" stroke-width=\"2.4\"/>\n",
       "<circle clip-path=\"url(#clip602)\" cx=\"1550.58\" cy=\"383.15\" r=\"14.4\" fill=\"#009af9\" fill-rule=\"evenodd\" fill-opacity=\"1\" stroke=\"#000000\" stroke-opacity=\"1\" stroke-width=\"2.4\"/>\n",
       "<circle clip-path=\"url(#clip602)\" cx=\"1458.04\" cy=\"880.954\" r=\"14.4\" fill=\"#009af9\" fill-rule=\"evenodd\" fill-opacity=\"1\" stroke=\"#000000\" stroke-opacity=\"1\" stroke-width=\"2.4\"/>\n",
       "<circle clip-path=\"url(#clip602)\" cx=\"774.15\" cy=\"493.007\" r=\"14.4\" fill=\"#009af9\" fill-rule=\"evenodd\" fill-opacity=\"1\" stroke=\"#000000\" stroke-opacity=\"1\" stroke-width=\"2.4\"/>\n",
       "<circle clip-path=\"url(#clip602)\" cx=\"643.253\" cy=\"519.533\" r=\"14.4\" fill=\"#009af9\" fill-rule=\"evenodd\" fill-opacity=\"1\" stroke=\"#000000\" stroke-opacity=\"1\" stroke-width=\"2.4\"/>\n",
       "<circle clip-path=\"url(#clip602)\" cx=\"1448.38\" cy=\"555.581\" r=\"14.4\" fill=\"#009af9\" fill-rule=\"evenodd\" fill-opacity=\"1\" stroke=\"#000000\" stroke-opacity=\"1\" stroke-width=\"2.4\"/>\n",
       "<circle clip-path=\"url(#clip602)\" cx=\"925.263\" cy=\"569.946\" r=\"14.4\" fill=\"#009af9\" fill-rule=\"evenodd\" fill-opacity=\"1\" stroke=\"#000000\" stroke-opacity=\"1\" stroke-width=\"2.4\"/>\n",
       "<circle clip-path=\"url(#clip602)\" cx=\"1500.47\" cy=\"597.622\" r=\"14.4\" fill=\"#009af9\" fill-rule=\"evenodd\" fill-opacity=\"1\" stroke=\"#000000\" stroke-opacity=\"1\" stroke-width=\"2.4\"/>\n",
       "<circle clip-path=\"url(#clip602)\" cx=\"729.11\" cy=\"511.341\" r=\"14.4\" fill=\"#009af9\" fill-rule=\"evenodd\" fill-opacity=\"1\" stroke=\"#000000\" stroke-opacity=\"1\" stroke-width=\"2.4\"/>\n",
       "<circle clip-path=\"url(#clip602)\" cx=\"949.03\" cy=\"747.775\" r=\"14.4\" fill=\"#009af9\" fill-rule=\"evenodd\" fill-opacity=\"1\" stroke=\"#000000\" stroke-opacity=\"1\" stroke-width=\"2.4\"/>\n",
       "<circle clip-path=\"url(#clip602)\" cx=\"1502.58\" cy=\"663.948\" r=\"14.4\" fill=\"#009af9\" fill-rule=\"evenodd\" fill-opacity=\"1\" stroke=\"#000000\" stroke-opacity=\"1\" stroke-width=\"2.4\"/>\n",
       "<circle clip-path=\"url(#clip602)\" cx=\"1627.67\" cy=\"499.58\" r=\"14.4\" fill=\"#009af9\" fill-rule=\"evenodd\" fill-opacity=\"1\" stroke=\"#000000\" stroke-opacity=\"1\" stroke-width=\"2.4\"/>\n",
       "<circle clip-path=\"url(#clip602)\" cx=\"660.218\" cy=\"524.349\" r=\"14.4\" fill=\"#009af9\" fill-rule=\"evenodd\" fill-opacity=\"1\" stroke=\"#000000\" stroke-opacity=\"1\" stroke-width=\"2.4\"/>\n",
       "<circle clip-path=\"url(#clip602)\" cx=\"888.127\" cy=\"588.295\" r=\"14.4\" fill=\"#009af9\" fill-rule=\"evenodd\" fill-opacity=\"1\" stroke=\"#000000\" stroke-opacity=\"1\" stroke-width=\"2.4\"/>\n",
       "<circle clip-path=\"url(#clip602)\" cx=\"1366.81\" cy=\"436.396\" r=\"14.4\" fill=\"#009af9\" fill-rule=\"evenodd\" fill-opacity=\"1\" stroke=\"#000000\" stroke-opacity=\"1\" stroke-width=\"2.4\"/>\n",
       "<circle clip-path=\"url(#clip602)\" cx=\"1401.59\" cy=\"717.958\" r=\"14.4\" fill=\"#009af9\" fill-rule=\"evenodd\" fill-opacity=\"1\" stroke=\"#000000\" stroke-opacity=\"1\" stroke-width=\"2.4\"/>\n",
       "<circle clip-path=\"url(#clip602)\" cx=\"875.646\" cy=\"637.66\" r=\"14.4\" fill=\"#009af9\" fill-rule=\"evenodd\" fill-opacity=\"1\" stroke=\"#000000\" stroke-opacity=\"1\" stroke-width=\"2.4\"/>\n",
       "<circle clip-path=\"url(#clip602)\" cx=\"1570.46\" cy=\"360.303\" r=\"14.4\" fill=\"#009af9\" fill-rule=\"evenodd\" fill-opacity=\"1\" stroke=\"#000000\" stroke-opacity=\"1\" stroke-width=\"2.4\"/>\n",
       "<circle clip-path=\"url(#clip602)\" cx=\"1605.2\" cy=\"741.17\" r=\"14.4\" fill=\"#009af9\" fill-rule=\"evenodd\" fill-opacity=\"1\" stroke=\"#000000\" stroke-opacity=\"1\" stroke-width=\"2.4\"/>\n",
       "<circle clip-path=\"url(#clip602)\" cx=\"1434.15\" cy=\"549.387\" r=\"14.4\" fill=\"#009af9\" fill-rule=\"evenodd\" fill-opacity=\"1\" stroke=\"#000000\" stroke-opacity=\"1\" stroke-width=\"2.4\"/>\n",
       "<circle clip-path=\"url(#clip602)\" cx=\"722.808\" cy=\"521.264\" r=\"14.4\" fill=\"#ff0000\" fill-rule=\"evenodd\" fill-opacity=\"1\" stroke=\"#000000\" stroke-opacity=\"1\" stroke-width=\"2.4\"/>\n",
       "<circle clip-path=\"url(#clip602)\" cx=\"1460.71\" cy=\"490.002\" r=\"14.4\" fill=\"#ff0000\" fill-rule=\"evenodd\" fill-opacity=\"1\" stroke=\"#000000\" stroke-opacity=\"1\" stroke-width=\"2.4\"/>\n",
       "<circle clip-path=\"url(#clip602)\" cx=\"1106.28\" cy=\"490.012\" r=\"14.4\" fill=\"#ff0000\" fill-rule=\"evenodd\" fill-opacity=\"1\" stroke=\"#000000\" stroke-opacity=\"1\" stroke-width=\"2.4\"/>\n",
       "<circle clip-path=\"url(#clip602)\" cx=\"1574.32\" cy=\"552.249\" r=\"14.4\" fill=\"#ff0000\" fill-rule=\"evenodd\" fill-opacity=\"1\" stroke=\"#000000\" stroke-opacity=\"1\" stroke-width=\"2.4\"/>\n",
       "<circle clip-path=\"url(#clip602)\" cx=\"1465.84\" cy=\"578.886\" r=\"14.4\" fill=\"#ff0000\" fill-rule=\"evenodd\" fill-opacity=\"1\" stroke=\"#000000\" stroke-opacity=\"1\" stroke-width=\"2.4\"/>\n",
       "<path clip-path=\"url(#clip600)\" d=\"M708.381 499.809 L719.839 499.809 L719.839 460.261 L707.374 462.761 L707.374 456.372 L719.769 453.872 L726.783 453.872 L726.783 499.809 L738.242 499.809 L738.242 505.712 L708.381 505.712 L708.381 499.809 Z\" fill=\"#ff0000\" fill-rule=\"nonzero\" fill-opacity=\"1\" /><path clip-path=\"url(#clip600)\" d=\"M1452.69 468.547 L1477.17 468.547 L1477.17 474.45 L1444.26 474.45 L1444.26 468.547 Q1448.25 464.415 1455.12 457.471 Q1462.03 450.492 1463.81 448.478 Q1467.17 444.693 1468.49 442.089 Q1469.85 439.45 1469.85 436.915 Q1469.85 432.783 1466.93 430.179 Q1464.05 427.575 1459.4 427.575 Q1456.1 427.575 1452.42 428.721 Q1448.77 429.867 1444.6 432.193 L1444.6 425.11 Q1448.84 423.409 1452.52 422.54 Q1456.2 421.672 1459.26 421.672 Q1467.31 421.672 1472.1 425.7 Q1476.9 429.728 1476.9 436.464 Q1476.9 439.658 1475.68 442.54 Q1474.5 445.388 1471.34 449.276 Q1470.47 450.283 1465.82 455.11 Q1461.17 459.901 1452.69 468.547 Z\" fill=\"#ff0000\" fill-rule=\"nonzero\" fill-opacity=\"1\" /><path clip-path=\"url(#clip600)\" d=\"M1112.65 446.508 Q1117.69 447.585 1120.5 450.987 Q1123.35 454.39 1123.35 459.39 Q1123.35 467.064 1118.07 471.265 Q1112.79 475.467 1103.07 475.467 Q1099.81 475.467 1096.34 474.807 Q1092.9 474.182 1089.22 472.897 L1089.22 466.126 Q1092.13 467.828 1095.61 468.696 Q1099.08 469.564 1102.86 469.564 Q1109.46 469.564 1112.9 466.96 Q1116.37 464.355 1116.37 459.39 Q1116.37 454.807 1113.14 452.237 Q1109.95 449.633 1104.22 449.633 L1098.18 449.633 L1098.18 443.869 L1104.5 443.869 Q1109.67 443.869 1112.41 441.821 Q1115.15 439.738 1115.15 435.849 Q1115.15 431.856 1112.31 429.738 Q1109.5 427.585 1104.22 427.585 Q1101.34 427.585 1098.04 428.21 Q1094.74 428.835 1090.78 430.154 L1090.78 423.904 Q1094.77 422.793 1098.25 422.238 Q1101.75 421.682 1104.84 421.682 Q1112.83 421.682 1117.48 425.328 Q1122.13 428.939 1122.13 435.12 Q1122.13 439.425 1119.67 442.411 Q1117.2 445.363 1112.65 446.508 Z\" fill=\"#ff0000\" fill-rule=\"nonzero\" fill-opacity=\"1\" /><path clip-path=\"url(#clip600)\" d=\"M1578.84 490.968 L1561.13 518.641 L1578.84 518.641 L1578.84 490.968 M1577 484.857 L1585.82 484.857 L1585.82 518.641 L1593.21 518.641 L1593.21 524.475 L1585.82 524.475 L1585.82 536.697 L1578.84 536.697 L1578.84 524.475 L1555.43 524.475 L1555.43 517.704 L1577 484.857 Z\" fill=\"#ff0000\" fill-rule=\"nonzero\" fill-opacity=\"1\" /><path clip-path=\"url(#clip600)\" d=\"M1451.25 511.494 L1478.79 511.494 L1478.79 517.396 L1457.68 517.396 L1457.68 530.105 Q1459.21 529.584 1460.73 529.341 Q1462.26 529.063 1463.79 529.063 Q1472.47 529.063 1477.54 533.82 Q1482.61 538.577 1482.61 546.702 Q1482.61 555.07 1477.4 559.723 Q1472.19 564.341 1462.71 564.341 Q1459.45 564.341 1456.05 563.785 Q1452.68 563.23 1449.07 562.118 L1449.07 555.07 Q1452.19 556.771 1455.53 557.605 Q1458.86 558.438 1462.57 558.438 Q1468.58 558.438 1472.09 555.278 Q1475.6 552.118 1475.6 546.702 Q1475.6 541.285 1472.09 538.125 Q1468.58 534.966 1462.57 534.966 Q1459.76 534.966 1456.95 535.591 Q1454.17 536.216 1451.25 537.535 L1451.25 511.494 Z\" fill=\"#ff0000\" fill-rule=\"nonzero\" fill-opacity=\"1\" /></svg>\n"
      ]
     },
     "metadata": {},
     "output_type": "display_data"
    }
   ],
   "source": [
    "pt2 = plot( pt, emails_new_transformed[1,:], emails_new_transformed[2,:], size=(500,300), markercolor=:red, seriestype=:scatter )\n",
    "\n",
    "for ind in 1:size(emails_new_transformed,2)\n",
    "    annotate!(pt2, emails_new_transformed[1,ind], emails_new_transformed[2,ind], text(string(ind), :red, :bottom, 12) )\n",
    "end\n",
    "\n",
    "display(pt2)"
   ]
  },
  {
   "cell_type": "markdown",
   "metadata": {},
   "source": [
    "## email 3 was our outlier and it does not reside within either cluster"
   ]
  },
  {
   "cell_type": "code",
   "execution_count": null,
   "metadata": {},
   "outputs": [],
   "source": []
  },
  {
   "cell_type": "code",
   "execution_count": null,
   "metadata": {},
   "outputs": [],
   "source": []
  },
  {
   "cell_type": "code",
   "execution_count": null,
   "metadata": {},
   "outputs": [],
   "source": []
  }
 ],
 "metadata": {
  "kernelspec": {
   "display_name": "Julia 1.8.2",
   "language": "julia",
   "name": "julia-1.8"
  },
  "language_info": {
   "file_extension": ".jl",
   "mimetype": "application/julia",
   "name": "julia",
   "version": "1.8.2"
  }
 },
 "nbformat": 4,
 "nbformat_minor": 4
}
