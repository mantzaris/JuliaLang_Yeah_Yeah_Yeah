{
 "cells": [
  {
   "cell_type": "code",
   "execution_count": 1,
   "metadata": {},
   "outputs": [],
   "source": [
    "using Random"
   ]
  },
  {
   "cell_type": "markdown",
   "metadata": {},
   "source": [
    "# Produce synthetic emails that are 'spam' or 'not spam'\n",
    "\n",
    "- Key words that belong to both groups of emails\n",
    "- keywords for emails pertaining to spam\n",
    "- keywords for words pertaining to work\n",
    "- create a vector for all the words possible (corpus)"
   ]
  },
  {
   "cell_type": "code",
   "execution_count": 1,
   "metadata": {},
   "outputs": [],
   "source": [
    "words_corpus = [\"apple\", \"banana\", \"cat\", \"dog\",\"car\",\"the\",\"is\",\"a\",\"hi\",\"hello\",\"ok\",\"fine\",\"great\",\"best\"]\n",
    "intro_corpus = [\"Dear\",\"Greetings\",\"Salutations\"]\n",
    "spam_keywords = [\"sales\",\"limited\",\"exclusive\",\"discount\",\"opportunity\",\"attention\",\"immediate\",\"bank\"]\n",
    "work_keywords = [\"meeting\",\"colleague\",\"holiday\",\"deliverable\",\"office\",\"accounting\",\"board\",\"bank\"];\n",
    "special_words = [\"Florida\",\"Orlando\",\"UCF\",\"statistics\",\"Julia\"]\n",
    "all_words = unique( [words_corpus...,intro_corpus...,spam_keywords...,work_keywords...] );"
   ]
  },
  {
   "cell_type": "markdown",
   "metadata": {},
   "source": [
    "## for a set of 'n' emails of length 'email_length', add an intro, then randomly select if the email will be spam or not-spam, within each conditional interleave the words with the normal words existing in both groups and words for one group or the other. "
   ]
  },
  {
   "cell_type": "code",
   "execution_count": 2,
   "metadata": {},
   "outputs": [
    {
     "data": {
      "text/plain": [
       "generate_email (generic function with 1 method)"
      ]
     },
     "execution_count": 2,
     "metadata": {},
     "output_type": "execute_result"
    }
   ],
   "source": [
    "email_length = 20\n",
    "\n",
    "function generate_email(n)\n",
    "    emails = []\n",
    "    \n",
    "    for _ in 1:n\n",
    "        new_email = []\n",
    "        \n",
    "        intro_tmp = rand(intro_corpus,1)[1]\n",
    "        push!(new_email,intro_tmp)\n",
    "        push!(new_email,\" \")\n",
    "        \n",
    "        if rand() <= 0.5 #spam\n",
    "            for _ in 1:email_length\n",
    "                if rand() <= 0.5\n",
    "                    word_tmp = rand(spam_keywords,1)[1]\n",
    "                    push!(new_email,word_tmp)\n",
    "                else\n",
    "                    word_tmp = rand(words_corpus,1)[1]\n",
    "                    push!(new_email,word_tmp)\n",
    "                end\n",
    "                push!(new_email,\" \")\n",
    "            end\n",
    "        else #non-spam\n",
    "            for _ in 1:email_length\n",
    "                if rand() <= 0.5\n",
    "                    word_tmp = rand(work_keywords,1)[1]\n",
    "                    push!(new_email,word_tmp)\n",
    "                else\n",
    "                    word_tmp = rand(words_corpus,1)[1]\n",
    "                    push!(new_email,word_tmp)\n",
    "                end\n",
    "                push!(new_email,\" \")\n",
    "            end\n",
    "        end\n",
    "        \n",
    "        new_email = reduce(*,new_email)\n",
    "        \n",
    "        push!(emails,new_email)\n",
    "    end\n",
    "    \n",
    "    return emails\n",
    "end"
   ]
  },
  {
   "cell_type": "markdown",
   "metadata": {},
   "source": [
    "### produce an email with words that are not present in either spam or work emails (type of outlier)"
   ]
  },
  {
   "cell_type": "code",
   "execution_count": 4,
   "metadata": {},
   "outputs": [
    {
     "data": {
      "text/plain": [
       "\"Florida Orlando UCF statistics Julia \""
      ]
     },
     "execution_count": 4,
     "metadata": {},
     "output_type": "execute_result"
    }
   ],
   "source": [
    "email_outlier = map( x -> x * \" \" , [special_words...] ) |> x -> reduce(*,x)"
   ]
  },
  {
   "cell_type": "code",
   "execution_count": 5,
   "metadata": {},
   "outputs": [
    {
     "data": {
      "text/plain": [
       "5-element Vector{Any}:\n",
       " \"Salutations apple accounting ca\" ⋯ 75 bytes ⋯ \"llo banana ok bank deliverable \"\n",
       " \"Dear fine limited the cat exclu\" ⋯ 50 bytes ⋯ \"on exclusive best limited a ok \"\n",
       " \"Florida Orlando UCF statistics Julia \"\n",
       " \"Salutations hello hello discoun\" ⋯ 80 bytes ⋯ \"scount immediate discount bank \"\n",
       " \"Salutations bank apple opportun\" ⋯ 101 bytes ⋯ \"ted a sales limited exclusive \""
      ]
     },
     "execution_count": 5,
     "metadata": {},
     "output_type": "execute_result"
    }
   ],
   "source": [
    "emails_fit = generate_email(200)\n",
    "emails_new = generate_email(4)\n",
    "insert!(emails_new,3, email_outlier)"
   ]
  },
  {
   "cell_type": "code",
   "execution_count": 6,
   "metadata": {},
   "outputs": [],
   "source": [
    "#import Pkg; \n",
    "#Pkg.add(\"JSON\")\n",
    "using JSON"
   ]
  },
  {
   "cell_type": "code",
   "execution_count": 8,
   "metadata": {},
   "outputs": [],
   "source": [
    "emails_json = JSON.json(emails_fit)\n",
    "emails_new_json = JSON.json(emails_new);"
   ]
  },
  {
   "cell_type": "code",
   "execution_count": 9,
   "metadata": {},
   "outputs": [
    {
     "data": {
      "text/plain": [
       "606"
      ]
     },
     "execution_count": 9,
     "metadata": {},
     "output_type": "execute_result"
    }
   ],
   "source": [
    "open(\"emails.json\",\"w\") do f \n",
    "    write(f, emails_json) \n",
    "end\n",
    "\n",
    "open(\"emails_new.json\",\"w\") do f \n",
    "    write(f, emails_new_json) \n",
    "end"
   ]
  },
  {
   "cell_type": "markdown",
   "metadata": {},
   "source": [
    "### read in that file and parse the JSON"
   ]
  },
  {
   "cell_type": "code",
   "execution_count": 11,
   "metadata": {},
   "outputs": [
    {
     "data": {
      "text/plain": [
       "5-element Vector{Any}:\n",
       " \"Salutations apple accounting ca\" ⋯ 75 bytes ⋯ \"llo banana ok bank deliverable \"\n",
       " \"Dear fine limited the cat exclu\" ⋯ 50 bytes ⋯ \"on exclusive best limited a ok \"\n",
       " \"Florida Orlando UCF statistics Julia \"\n",
       " \"Salutations hello hello discoun\" ⋯ 80 bytes ⋯ \"scount immediate discount bank \"\n",
       " \"Salutations bank apple opportun\" ⋯ 101 bytes ⋯ \"ted a sales limited exclusive \""
      ]
     },
     "execution_count": 11,
     "metadata": {},
     "output_type": "execute_result"
    }
   ],
   "source": [
    "emails_parsed = JSON.parsefile(\"emails.json\")\n",
    "emails_new_parsed = JSON.parsefile(\"emails_new.json\")"
   ]
  },
  {
   "cell_type": "markdown",
   "metadata": {},
   "source": [
    "### get the corpus from the unique words present in all the emails\n",
    "\n",
    "this line proceeds by \n",
    "- making a list of all the words by spreading the contents of the arrays into a new array having all the elements [emails_parsed...,emails_new_parsed...]\n",
    "- concatenating all the words across all emails reduce(*,[emails_parsed...,emails_new_parsed...])\n",
    "- split( reduce(*,[emails_parsed...,emails_new_parsed...])) splits all the words based on the defaul delimeter of the space\n",
    "- then gets the unique array"
   ]
  },
  {
   "cell_type": "code",
   "execution_count": 12,
   "metadata": {},
   "outputs": [],
   "source": [
    "all_seen_words = unique( split( reduce(*,[emails_parsed...,emails_new_parsed...])) );"
   ]
  },
  {
   "cell_type": "markdown",
   "metadata": {},
   "source": [
    "## Create a word embedding vector for each email using the most simple approach\n",
    "\n",
    "- Initialize a dictionary (key-value set) where the keys are all the possible words and the value is zero\n",
    "- Go through each word in the email and add a count of observation to the word seen in the dictionary so that you have the total counts for each word \n",
    "- 'Normalize' the dictionary counts so that all the values sum to 1. This is important so that emails with more or less words are not affecting the 'relative' strength of words as a presence proportion in the email. Eg. an email with the word 'discount' in an email of 10 words should count the same as an email with 'discount' 10 times in an email of 100 words.\n",
    "- return only the values of the dictionary. The values each time will have the same default order so that we can compare vectors on the relative presence of one keyword or another\n",
    "\n",
    "You can consider it that each entry is a dimension produced by the amount of relative presence or absence of a potential key word"
   ]
  },
  {
   "cell_type": "code",
   "execution_count": 13,
   "metadata": {},
   "outputs": [
    {
     "data": {
      "text/plain": [
       "email_to_vector (generic function with 1 method)"
      ]
     },
     "execution_count": 13,
     "metadata": {},
     "output_type": "execute_result"
    }
   ],
   "source": [
    "function email_to_vector(email)\n",
    "    word_count = Dict(word => 0.0 for word in all_seen_words)\n",
    "    \n",
    "    for word in split(email)\n",
    "        word_count[word] += 1\n",
    "    end\n",
    "    \n",
    "    total_counts = sum( values(word_count) )\n",
    "    normalized_vector = [word_count[word] / total_counts for word in all_seen_words]\n",
    "    \n",
    "    return normalized_vector\n",
    "end"
   ]
  },
  {
   "cell_type": "code",
   "execution_count": 14,
   "metadata": {},
   "outputs": [
    {
     "data": {
      "text/plain": [
       "1.0"
      ]
     },
     "execution_count": 14,
     "metadata": {},
     "output_type": "execute_result"
    }
   ],
   "source": [
    "sum( email_to_vector(emails_parsed[3]) )"
   ]
  },
  {
   "cell_type": "code",
   "execution_count": 15,
   "metadata": {},
   "outputs": [],
   "source": [
    "#get the vectors for email sets\n",
    "email_vectors = [email_to_vector(email) for email in emails_parsed];\n",
    "email_new_vectors = [email_to_vector(email) for email in emails_new_parsed];"
   ]
  },
  {
   "cell_type": "code",
   "execution_count": 16,
   "metadata": {},
   "outputs": [],
   "source": [
    "email_mat = hcat( email_vectors... );\n",
    "email_new_mat = hcat( email_new_vectors... );"
   ]
  },
  {
   "cell_type": "code",
   "execution_count": 18,
   "metadata": {},
   "outputs": [
    {
     "data": {
      "text/plain": [
       "(37, 200)"
      ]
     },
     "execution_count": 18,
     "metadata": {},
     "output_type": "execute_result"
    }
   ],
   "source": [
    "size(email_mat)"
   ]
  },
  {
   "cell_type": "code",
   "execution_count": 19,
   "metadata": {},
   "outputs": [],
   "source": [
    "using Statistics\n",
    "using MultivariateStats\n",
    "using Plots"
   ]
  },
  {
   "cell_type": "markdown",
   "metadata": {},
   "source": [
    "## fit a PCA model to the matrix of emails (here this library assumes the dimensions run down the rows and the observations along the columns)\n",
    "\n",
    "plot the eigenvalues"
   ]
  },
  {
   "cell_type": "code",
   "execution_count": 20,
   "metadata": {},
   "outputs": [
    {
     "data": {
      "image/svg+xml": [
       "<?xml version=\"1.0\" encoding=\"utf-8\"?>\n",
       "<svg xmlns=\"http://www.w3.org/2000/svg\" xmlns:xlink=\"http://www.w3.org/1999/xlink\" width=\"600\" height=\"200\" viewBox=\"0 0 2400 800\">\n",
       "<defs>\n",
       "  <clipPath id=\"clip100\">\n",
       "    <rect x=\"0\" y=\"0\" width=\"2400\" height=\"800\"/>\n",
       "  </clipPath>\n",
       "</defs>\n",
       "<path clip-path=\"url(#clip100)\" d=\"M0 800 L2400 800 L2400 0 L0 0  Z\" fill=\"#ffffff\" fill-rule=\"evenodd\" fill-opacity=\"1\"/>\n",
       "<defs>\n",
       "  <clipPath id=\"clip101\">\n",
       "    <rect x=\"480\" y=\"0\" width=\"1681\" height=\"800\"/>\n",
       "  </clipPath>\n",
       "</defs>\n",
       "<path clip-path=\"url(#clip100)\" d=\"M246.598 711.728 L2352.76 711.728 L2352.76 93.2321 L246.598 93.2321  Z\" fill=\"#ffffff\" fill-rule=\"evenodd\" fill-opacity=\"1\"/>\n",
       "<defs>\n",
       "  <clipPath id=\"clip102\">\n",
       "    <rect x=\"246\" y=\"93\" width=\"2107\" height=\"619\"/>\n",
       "  </clipPath>\n",
       "</defs>\n",
       "<polyline clip-path=\"url(#clip102)\" style=\"stroke:#000000; stroke-linecap:round; stroke-linejoin:round; stroke-width:2; stroke-opacity:0.1; fill:none\" points=\"590.055,711.728 590.055,93.2321 \"/>\n",
       "<polyline clip-path=\"url(#clip102)\" style=\"stroke:#000000; stroke-linecap:round; stroke-linejoin:round; stroke-width:2; stroke-opacity:0.1; fill:none\" points=\"944.866,711.728 944.866,93.2321 \"/>\n",
       "<polyline clip-path=\"url(#clip102)\" style=\"stroke:#000000; stroke-linecap:round; stroke-linejoin:round; stroke-width:2; stroke-opacity:0.1; fill:none\" points=\"1299.68,711.728 1299.68,93.2321 \"/>\n",
       "<polyline clip-path=\"url(#clip102)\" style=\"stroke:#000000; stroke-linecap:round; stroke-linejoin:round; stroke-width:2; stroke-opacity:0.1; fill:none\" points=\"1654.49,711.728 1654.49,93.2321 \"/>\n",
       "<polyline clip-path=\"url(#clip102)\" style=\"stroke:#000000; stroke-linecap:round; stroke-linejoin:round; stroke-width:2; stroke-opacity:0.1; fill:none\" points=\"2009.3,711.728 2009.3,93.2321 \"/>\n",
       "<polyline clip-path=\"url(#clip100)\" style=\"stroke:#000000; stroke-linecap:round; stroke-linejoin:round; stroke-width:4; stroke-opacity:1; fill:none\" points=\"246.598,711.728 2352.76,711.728 \"/>\n",
       "<polyline clip-path=\"url(#clip100)\" style=\"stroke:#000000; stroke-linecap:round; stroke-linejoin:round; stroke-width:4; stroke-opacity:1; fill:none\" points=\"590.055,711.728 590.055,692.83 \"/>\n",
       "<polyline clip-path=\"url(#clip100)\" style=\"stroke:#000000; stroke-linecap:round; stroke-linejoin:round; stroke-width:4; stroke-opacity:1; fill:none\" points=\"944.866,711.728 944.866,692.83 \"/>\n",
       "<polyline clip-path=\"url(#clip100)\" style=\"stroke:#000000; stroke-linecap:round; stroke-linejoin:round; stroke-width:4; stroke-opacity:1; fill:none\" points=\"1299.68,711.728 1299.68,692.83 \"/>\n",
       "<polyline clip-path=\"url(#clip100)\" style=\"stroke:#000000; stroke-linecap:round; stroke-linejoin:round; stroke-width:4; stroke-opacity:1; fill:none\" points=\"1654.49,711.728 1654.49,692.83 \"/>\n",
       "<polyline clip-path=\"url(#clip100)\" style=\"stroke:#000000; stroke-linecap:round; stroke-linejoin:round; stroke-width:4; stroke-opacity:1; fill:none\" points=\"2009.3,711.728 2009.3,692.83 \"/>\n",
       "<path clip-path=\"url(#clip100)\" d=\"M580.333 739.568 L598.689 739.568 L598.689 743.503 L584.615 743.503 L584.615 751.975 Q585.634 751.628 586.652 751.466 Q587.671 751.281 588.689 751.281 Q594.476 751.281 597.856 754.452 Q601.235 757.623 601.235 763.04 Q601.235 768.619 597.763 771.72 Q594.291 774.799 587.971 774.799 Q585.796 774.799 583.527 774.429 Q581.282 774.058 578.874 773.318 L578.874 768.619 Q580.958 769.753 583.18 770.308 Q585.402 770.864 587.879 770.864 Q591.884 770.864 594.221 768.758 Q596.559 766.651 596.559 763.04 Q596.559 759.429 594.221 757.322 Q591.884 755.216 587.879 755.216 Q586.004 755.216 584.129 755.633 Q582.277 756.049 580.333 756.929 L580.333 739.568 Z\" fill=\"#000000\" fill-rule=\"nonzero\" fill-opacity=\"1\" /><path clip-path=\"url(#clip100)\" d=\"M919.553 770.193 L927.192 770.193 L927.192 743.827 L918.882 745.494 L918.882 741.235 L927.146 739.568 L931.822 739.568 L931.822 770.193 L939.461 770.193 L939.461 774.128 L919.553 774.128 L919.553 770.193 Z\" fill=\"#000000\" fill-rule=\"nonzero\" fill-opacity=\"1\" /><path clip-path=\"url(#clip100)\" d=\"M958.905 742.647 Q955.294 742.647 953.465 746.211 Q951.66 749.753 951.66 756.883 Q951.66 763.989 953.465 767.554 Q955.294 771.095 958.905 771.095 Q962.539 771.095 964.345 767.554 Q966.174 763.989 966.174 756.883 Q966.174 749.753 964.345 746.211 Q962.539 742.647 958.905 742.647 M958.905 738.943 Q964.715 738.943 967.771 743.549 Q970.849 748.133 970.849 756.883 Q970.849 765.609 967.771 770.216 Q964.715 774.799 958.905 774.799 Q953.095 774.799 950.016 770.216 Q946.961 765.609 946.961 756.883 Q946.961 748.133 950.016 743.549 Q953.095 738.943 958.905 738.943 Z\" fill=\"#000000\" fill-rule=\"nonzero\" fill-opacity=\"1\" /><path clip-path=\"url(#clip100)\" d=\"M1274.86 770.193 L1282.5 770.193 L1282.5 743.827 L1274.19 745.494 L1274.19 741.235 L1282.45 739.568 L1287.13 739.568 L1287.13 770.193 L1294.77 770.193 L1294.77 774.128 L1274.86 774.128 L1274.86 770.193 Z\" fill=\"#000000\" fill-rule=\"nonzero\" fill-opacity=\"1\" /><path clip-path=\"url(#clip100)\" d=\"M1304.26 739.568 L1322.62 739.568 L1322.62 743.503 L1308.54 743.503 L1308.54 751.975 Q1309.56 751.628 1310.58 751.466 Q1311.6 751.281 1312.62 751.281 Q1318.4 751.281 1321.78 754.452 Q1325.16 757.623 1325.16 763.04 Q1325.16 768.619 1321.69 771.72 Q1318.22 774.799 1311.9 774.799 Q1309.72 774.799 1307.45 774.429 Q1305.21 774.058 1302.8 773.318 L1302.8 768.619 Q1304.89 769.753 1307.11 770.308 Q1309.33 770.864 1311.81 770.864 Q1315.81 770.864 1318.15 768.758 Q1320.49 766.651 1320.49 763.04 Q1320.49 759.429 1318.15 757.322 Q1315.81 755.216 1311.81 755.216 Q1309.93 755.216 1308.06 755.633 Q1306.2 756.049 1304.26 756.929 L1304.26 739.568 Z\" fill=\"#000000\" fill-rule=\"nonzero\" fill-opacity=\"1\" /><path clip-path=\"url(#clip100)\" d=\"M1633.26 770.193 L1649.58 770.193 L1649.58 774.128 L1627.64 774.128 L1627.64 770.193 Q1630.3 767.438 1634.88 762.808 Q1639.49 758.156 1640.67 756.813 Q1642.91 754.29 1643.79 752.554 Q1644.7 750.795 1644.7 749.105 Q1644.7 746.35 1642.75 744.614 Q1640.83 742.878 1637.73 742.878 Q1635.53 742.878 1633.08 743.642 Q1630.65 744.406 1627.87 745.957 L1627.87 741.235 Q1630.69 740.1 1633.15 739.522 Q1635.6 738.943 1637.64 738.943 Q1643.01 738.943 1646.2 741.628 Q1649.4 744.313 1649.4 748.804 Q1649.4 750.934 1648.59 752.855 Q1647.8 754.753 1645.69 757.346 Q1645.11 758.017 1642.01 761.234 Q1638.91 764.429 1633.26 770.193 Z\" fill=\"#000000\" fill-rule=\"nonzero\" fill-opacity=\"1\" /><path clip-path=\"url(#clip100)\" d=\"M1669.4 742.647 Q1665.78 742.647 1663.96 746.211 Q1662.15 749.753 1662.15 756.883 Q1662.15 763.989 1663.96 767.554 Q1665.78 771.095 1669.4 771.095 Q1673.03 771.095 1674.83 767.554 Q1676.66 763.989 1676.66 756.883 Q1676.66 749.753 1674.83 746.211 Q1673.03 742.647 1669.4 742.647 M1669.4 738.943 Q1675.21 738.943 1678.26 743.549 Q1681.34 748.133 1681.34 756.883 Q1681.34 765.609 1678.26 770.216 Q1675.21 774.799 1669.4 774.799 Q1663.59 774.799 1660.51 770.216 Q1657.45 765.609 1657.45 756.883 Q1657.45 748.133 1660.51 743.549 Q1663.59 738.943 1669.4 738.943 Z\" fill=\"#000000\" fill-rule=\"nonzero\" fill-opacity=\"1\" /><path clip-path=\"url(#clip100)\" d=\"M1988.57 770.193 L2004.89 770.193 L2004.89 774.128 L1982.94 774.128 L1982.94 770.193 Q1985.61 767.438 1990.19 762.808 Q1994.8 758.156 1995.98 756.813 Q1998.22 754.29 1999.1 752.554 Q2000 750.795 2000 749.105 Q2000 746.35 1998.06 744.614 Q1996.14 742.878 1993.04 742.878 Q1990.84 742.878 1988.38 743.642 Q1985.95 744.406 1983.18 745.957 L1983.18 741.235 Q1986 740.1 1988.45 739.522 Q1990.91 738.943 1992.94 738.943 Q1998.32 738.943 2001.51 741.628 Q2004.7 744.313 2004.7 748.804 Q2004.7 750.934 2003.89 752.855 Q2003.11 754.753 2001 757.346 Q2000.42 758.017 1997.32 761.234 Q1994.22 764.429 1988.57 770.193 Z\" fill=\"#000000\" fill-rule=\"nonzero\" fill-opacity=\"1\" /><path clip-path=\"url(#clip100)\" d=\"M2014.75 739.568 L2033.11 739.568 L2033.11 743.503 L2019.03 743.503 L2019.03 751.975 Q2020.05 751.628 2021.07 751.466 Q2022.09 751.281 2023.11 751.281 Q2028.89 751.281 2032.27 754.452 Q2035.65 757.623 2035.65 763.04 Q2035.65 768.619 2032.18 771.72 Q2028.71 774.799 2022.39 774.799 Q2020.21 774.799 2017.94 774.429 Q2015.7 774.058 2013.29 773.318 L2013.29 768.619 Q2015.38 769.753 2017.6 770.308 Q2019.82 770.864 2022.3 770.864 Q2026.3 770.864 2028.64 768.758 Q2030.98 766.651 2030.98 763.04 Q2030.98 759.429 2028.64 757.322 Q2026.3 755.216 2022.3 755.216 Q2020.42 755.216 2018.55 755.633 Q2016.69 756.049 2014.75 756.929 L2014.75 739.568 Z\" fill=\"#000000\" fill-rule=\"nonzero\" fill-opacity=\"1\" /><polyline clip-path=\"url(#clip102)\" style=\"stroke:#000000; stroke-linecap:round; stroke-linejoin:round; stroke-width:2; stroke-opacity:0.1; fill:none\" points=\"246.598,605.883 2352.76,605.883 \"/>\n",
       "<polyline clip-path=\"url(#clip102)\" style=\"stroke:#000000; stroke-linecap:round; stroke-linejoin:round; stroke-width:2; stroke-opacity:0.1; fill:none\" points=\"246.598,493.715 2352.76,493.715 \"/>\n",
       "<polyline clip-path=\"url(#clip102)\" style=\"stroke:#000000; stroke-linecap:round; stroke-linejoin:round; stroke-width:2; stroke-opacity:0.1; fill:none\" points=\"246.598,381.546 2352.76,381.546 \"/>\n",
       "<polyline clip-path=\"url(#clip102)\" style=\"stroke:#000000; stroke-linecap:round; stroke-linejoin:round; stroke-width:2; stroke-opacity:0.1; fill:none\" points=\"246.598,269.377 2352.76,269.377 \"/>\n",
       "<polyline clip-path=\"url(#clip102)\" style=\"stroke:#000000; stroke-linecap:round; stroke-linejoin:round; stroke-width:2; stroke-opacity:0.1; fill:none\" points=\"246.598,157.208 2352.76,157.208 \"/>\n",
       "<polyline clip-path=\"url(#clip100)\" style=\"stroke:#000000; stroke-linecap:round; stroke-linejoin:round; stroke-width:4; stroke-opacity:1; fill:none\" points=\"246.598,711.728 246.598,93.2321 \"/>\n",
       "<polyline clip-path=\"url(#clip100)\" style=\"stroke:#000000; stroke-linecap:round; stroke-linejoin:round; stroke-width:4; stroke-opacity:1; fill:none\" points=\"246.598,605.883 265.495,605.883 \"/>\n",
       "<polyline clip-path=\"url(#clip100)\" style=\"stroke:#000000; stroke-linecap:round; stroke-linejoin:round; stroke-width:4; stroke-opacity:1; fill:none\" points=\"246.598,493.715 265.495,493.715 \"/>\n",
       "<polyline clip-path=\"url(#clip100)\" style=\"stroke:#000000; stroke-linecap:round; stroke-linejoin:round; stroke-width:4; stroke-opacity:1; fill:none\" points=\"246.598,381.546 265.495,381.546 \"/>\n",
       "<polyline clip-path=\"url(#clip100)\" style=\"stroke:#000000; stroke-linecap:round; stroke-linejoin:round; stroke-width:4; stroke-opacity:1; fill:none\" points=\"246.598,269.377 265.495,269.377 \"/>\n",
       "<polyline clip-path=\"url(#clip100)\" style=\"stroke:#000000; stroke-linecap:round; stroke-linejoin:round; stroke-width:4; stroke-opacity:1; fill:none\" points=\"246.598,157.208 265.495,157.208 \"/>\n",
       "<path clip-path=\"url(#clip100)\" d=\"M63.9319 591.682 Q60.3208 591.682 58.4921 595.247 Q56.6865 598.788 56.6865 605.918 Q56.6865 613.024 58.4921 616.589 Q60.3208 620.131 63.9319 620.131 Q67.5661 620.131 69.3717 616.589 Q71.2004 613.024 71.2004 605.918 Q71.2004 598.788 69.3717 595.247 Q67.5661 591.682 63.9319 591.682 M63.9319 587.978 Q69.742 587.978 72.7976 592.585 Q75.8763 597.168 75.8763 605.918 Q75.8763 614.645 72.7976 619.251 Q69.742 623.835 63.9319 623.835 Q58.1217 623.835 55.043 619.251 Q51.9875 614.645 51.9875 605.918 Q51.9875 597.168 55.043 592.585 Q58.1217 587.978 63.9319 587.978 Z\" fill=\"#000000\" fill-rule=\"nonzero\" fill-opacity=\"1\" /><path clip-path=\"url(#clip100)\" d=\"M84.0938 617.284 L88.978 617.284 L88.978 623.163 L84.0938 623.163 L84.0938 617.284 Z\" fill=\"#000000\" fill-rule=\"nonzero\" fill-opacity=\"1\" /><path clip-path=\"url(#clip100)\" d=\"M109.163 591.682 Q105.552 591.682 103.723 595.247 Q101.918 598.788 101.918 605.918 Q101.918 613.024 103.723 616.589 Q105.552 620.131 109.163 620.131 Q112.797 620.131 114.603 616.589 Q116.432 613.024 116.432 605.918 Q116.432 598.788 114.603 595.247 Q112.797 591.682 109.163 591.682 M109.163 587.978 Q114.973 587.978 118.029 592.585 Q121.107 597.168 121.107 605.918 Q121.107 614.645 118.029 619.251 Q114.973 623.835 109.163 623.835 Q103.353 623.835 100.274 619.251 Q97.2187 614.645 97.2187 605.918 Q97.2187 597.168 100.274 592.585 Q103.353 587.978 109.163 587.978 Z\" fill=\"#000000\" fill-rule=\"nonzero\" fill-opacity=\"1\" /><path clip-path=\"url(#clip100)\" d=\"M139.325 591.682 Q135.714 591.682 133.885 595.247 Q132.08 598.788 132.08 605.918 Q132.08 613.024 133.885 616.589 Q135.714 620.131 139.325 620.131 Q142.959 620.131 144.765 616.589 Q146.593 613.024 146.593 605.918 Q146.593 598.788 144.765 595.247 Q142.959 591.682 139.325 591.682 M139.325 587.978 Q145.135 587.978 148.191 592.585 Q151.269 597.168 151.269 605.918 Q151.269 614.645 148.191 619.251 Q145.135 623.835 139.325 623.835 Q133.515 623.835 130.436 619.251 Q127.381 614.645 127.381 605.918 Q127.381 597.168 130.436 592.585 Q133.515 587.978 139.325 587.978 Z\" fill=\"#000000\" fill-rule=\"nonzero\" fill-opacity=\"1\" /><path clip-path=\"url(#clip100)\" d=\"M163.515 619.228 L179.834 619.228 L179.834 623.163 L157.89 623.163 L157.89 619.228 Q160.552 616.474 165.135 611.844 Q169.741 607.191 170.922 605.849 Q173.167 603.325 174.047 601.589 Q174.95 599.83 174.95 598.14 Q174.95 595.386 173.005 593.65 Q171.084 591.913 167.982 591.913 Q165.783 591.913 163.329 592.677 Q160.899 593.441 158.121 594.992 L158.121 590.27 Q160.945 589.136 163.399 588.557 Q165.853 587.978 167.89 587.978 Q173.26 587.978 176.454 590.664 Q179.649 593.349 179.649 597.839 Q179.649 599.969 178.839 601.89 Q178.052 603.788 175.945 606.381 Q175.366 607.052 172.265 610.27 Q169.163 613.464 163.515 619.228 Z\" fill=\"#000000\" fill-rule=\"nonzero\" fill-opacity=\"1\" /><path clip-path=\"url(#clip100)\" d=\"M189.695 588.603 L208.051 588.603 L208.051 592.538 L193.977 592.538 L193.977 601.011 Q194.996 600.663 196.014 600.501 Q197.033 600.316 198.052 600.316 Q203.839 600.316 207.218 603.488 Q210.598 606.659 210.598 612.075 Q210.598 617.654 207.126 620.756 Q203.653 623.835 197.334 623.835 Q195.158 623.835 192.89 623.464 Q190.644 623.094 188.237 622.353 L188.237 617.654 Q190.32 618.788 192.542 619.344 Q194.765 619.899 197.241 619.899 Q201.246 619.899 203.584 617.793 Q205.922 615.687 205.922 612.075 Q205.922 608.464 203.584 606.358 Q201.246 604.251 197.241 604.251 Q195.366 604.251 193.491 604.668 Q191.64 605.085 189.695 605.964 L189.695 588.603 Z\" fill=\"#000000\" fill-rule=\"nonzero\" fill-opacity=\"1\" /><path clip-path=\"url(#clip100)\" d=\"M62.9365 479.513 Q59.3254 479.513 57.4967 483.078 Q55.6912 486.62 55.6912 493.749 Q55.6912 500.856 57.4967 504.421 Q59.3254 507.962 62.9365 507.962 Q66.5707 507.962 68.3763 504.421 Q70.205 500.856 70.205 493.749 Q70.205 486.62 68.3763 483.078 Q66.5707 479.513 62.9365 479.513 M62.9365 475.81 Q68.7467 475.81 71.8022 480.416 Q74.8809 484.999 74.8809 493.749 Q74.8809 502.476 71.8022 507.083 Q68.7467 511.666 62.9365 511.666 Q57.1264 511.666 54.0477 507.083 Q50.9921 502.476 50.9921 493.749 Q50.9921 484.999 54.0477 480.416 Q57.1264 475.81 62.9365 475.81 Z\" fill=\"#000000\" fill-rule=\"nonzero\" fill-opacity=\"1\" /><path clip-path=\"url(#clip100)\" d=\"M83.0984 505.115 L87.9827 505.115 L87.9827 510.995 L83.0984 510.995 L83.0984 505.115 Z\" fill=\"#000000\" fill-rule=\"nonzero\" fill-opacity=\"1\" /><path clip-path=\"url(#clip100)\" d=\"M108.168 479.513 Q104.557 479.513 102.728 483.078 Q100.922 486.62 100.922 493.749 Q100.922 500.856 102.728 504.421 Q104.557 507.962 108.168 507.962 Q111.802 507.962 113.608 504.421 Q115.436 500.856 115.436 493.749 Q115.436 486.62 113.608 483.078 Q111.802 479.513 108.168 479.513 M108.168 475.81 Q113.978 475.81 117.033 480.416 Q120.112 484.999 120.112 493.749 Q120.112 502.476 117.033 507.083 Q113.978 511.666 108.168 511.666 Q102.358 511.666 99.2789 507.083 Q96.2234 502.476 96.2234 493.749 Q96.2234 484.999 99.2789 480.416 Q102.358 475.81 108.168 475.81 Z\" fill=\"#000000\" fill-rule=\"nonzero\" fill-opacity=\"1\" /><path clip-path=\"url(#clip100)\" d=\"M138.33 479.513 Q134.719 479.513 132.89 483.078 Q131.084 486.62 131.084 493.749 Q131.084 500.856 132.89 504.421 Q134.719 507.962 138.33 507.962 Q141.964 507.962 143.769 504.421 Q145.598 500.856 145.598 493.749 Q145.598 486.62 143.769 483.078 Q141.964 479.513 138.33 479.513 M138.33 475.81 Q144.14 475.81 147.195 480.416 Q150.274 484.999 150.274 493.749 Q150.274 502.476 147.195 507.083 Q144.14 511.666 138.33 511.666 Q132.519 511.666 129.441 507.083 Q126.385 502.476 126.385 493.749 Q126.385 484.999 129.441 480.416 Q132.519 475.81 138.33 475.81 Z\" fill=\"#000000\" fill-rule=\"nonzero\" fill-opacity=\"1\" /><path clip-path=\"url(#clip100)\" d=\"M158.538 476.435 L176.894 476.435 L176.894 480.37 L162.82 480.37 L162.82 488.842 Q163.839 488.495 164.857 488.333 Q165.876 488.147 166.894 488.147 Q172.681 488.147 176.061 491.319 Q179.441 494.49 179.441 499.907 Q179.441 505.485 175.968 508.587 Q172.496 511.666 166.177 511.666 Q164.001 511.666 161.732 511.295 Q159.487 510.925 157.08 510.184 L157.08 505.485 Q159.163 506.62 161.385 507.175 Q163.607 507.731 166.084 507.731 Q170.089 507.731 172.427 505.624 Q174.765 503.518 174.765 499.907 Q174.765 496.296 172.427 494.189 Q170.089 492.083 166.084 492.083 Q164.209 492.083 162.334 492.499 Q160.482 492.916 158.538 493.796 L158.538 476.435 Z\" fill=\"#000000\" fill-rule=\"nonzero\" fill-opacity=\"1\" /><path clip-path=\"url(#clip100)\" d=\"M198.653 479.513 Q195.042 479.513 193.214 483.078 Q191.408 486.62 191.408 493.749 Q191.408 500.856 193.214 504.421 Q195.042 507.962 198.653 507.962 Q202.288 507.962 204.093 504.421 Q205.922 500.856 205.922 493.749 Q205.922 486.62 204.093 483.078 Q202.288 479.513 198.653 479.513 M198.653 475.81 Q204.464 475.81 207.519 480.416 Q210.598 484.999 210.598 493.749 Q210.598 502.476 207.519 507.083 Q204.464 511.666 198.653 511.666 Q192.843 511.666 189.765 507.083 Q186.709 502.476 186.709 493.749 Q186.709 484.999 189.765 480.416 Q192.843 475.81 198.653 475.81 Z\" fill=\"#000000\" fill-rule=\"nonzero\" fill-opacity=\"1\" /><path clip-path=\"url(#clip100)\" d=\"M63.9319 367.344 Q60.3208 367.344 58.4921 370.909 Q56.6865 374.451 56.6865 381.581 Q56.6865 388.687 58.4921 392.252 Q60.3208 395.793 63.9319 395.793 Q67.5661 395.793 69.3717 392.252 Q71.2004 388.687 71.2004 381.581 Q71.2004 374.451 69.3717 370.909 Q67.5661 367.344 63.9319 367.344 M63.9319 363.641 Q69.742 363.641 72.7976 368.247 Q75.8763 372.831 75.8763 381.581 Q75.8763 390.307 72.7976 394.914 Q69.742 399.497 63.9319 399.497 Q58.1217 399.497 55.043 394.914 Q51.9875 390.307 51.9875 381.581 Q51.9875 372.831 55.043 368.247 Q58.1217 363.641 63.9319 363.641 Z\" fill=\"#000000\" fill-rule=\"nonzero\" fill-opacity=\"1\" /><path clip-path=\"url(#clip100)\" d=\"M84.0938 392.946 L88.978 392.946 L88.978 398.826 L84.0938 398.826 L84.0938 392.946 Z\" fill=\"#000000\" fill-rule=\"nonzero\" fill-opacity=\"1\" /><path clip-path=\"url(#clip100)\" d=\"M109.163 367.344 Q105.552 367.344 103.723 370.909 Q101.918 374.451 101.918 381.581 Q101.918 388.687 103.723 392.252 Q105.552 395.793 109.163 395.793 Q112.797 395.793 114.603 392.252 Q116.432 388.687 116.432 381.581 Q116.432 374.451 114.603 370.909 Q112.797 367.344 109.163 367.344 M109.163 363.641 Q114.973 363.641 118.029 368.247 Q121.107 372.831 121.107 381.581 Q121.107 390.307 118.029 394.914 Q114.973 399.497 109.163 399.497 Q103.353 399.497 100.274 394.914 Q97.2187 390.307 97.2187 381.581 Q97.2187 372.831 100.274 368.247 Q103.353 363.641 109.163 363.641 Z\" fill=\"#000000\" fill-rule=\"nonzero\" fill-opacity=\"1\" /><path clip-path=\"url(#clip100)\" d=\"M139.325 367.344 Q135.714 367.344 133.885 370.909 Q132.08 374.451 132.08 381.581 Q132.08 388.687 133.885 392.252 Q135.714 395.793 139.325 395.793 Q142.959 395.793 144.765 392.252 Q146.593 388.687 146.593 381.581 Q146.593 374.451 144.765 370.909 Q142.959 367.344 139.325 367.344 M139.325 363.641 Q145.135 363.641 148.191 368.247 Q151.269 372.831 151.269 381.581 Q151.269 390.307 148.191 394.914 Q145.135 399.497 139.325 399.497 Q133.515 399.497 130.436 394.914 Q127.381 390.307 127.381 381.581 Q127.381 372.831 130.436 368.247 Q133.515 363.641 139.325 363.641 Z\" fill=\"#000000\" fill-rule=\"nonzero\" fill-opacity=\"1\" /><path clip-path=\"url(#clip100)\" d=\"M158.306 364.266 L180.528 364.266 L180.528 366.257 L167.982 398.826 L163.098 398.826 L174.903 368.201 L158.306 368.201 L158.306 364.266 Z\" fill=\"#000000\" fill-rule=\"nonzero\" fill-opacity=\"1\" /><path clip-path=\"url(#clip100)\" d=\"M189.695 364.266 L208.051 364.266 L208.051 368.201 L193.977 368.201 L193.977 376.673 Q194.996 376.326 196.014 376.164 Q197.033 375.979 198.052 375.979 Q203.839 375.979 207.218 379.15 Q210.598 382.321 210.598 387.738 Q210.598 393.317 207.126 396.418 Q203.653 399.497 197.334 399.497 Q195.158 399.497 192.89 399.127 Q190.644 398.756 188.237 398.016 L188.237 393.317 Q190.32 394.451 192.542 395.006 Q194.765 395.562 197.241 395.562 Q201.246 395.562 203.584 393.455 Q205.922 391.349 205.922 387.738 Q205.922 384.127 203.584 382.02 Q201.246 379.914 197.241 379.914 Q195.366 379.914 193.491 380.331 Q191.64 380.747 189.695 381.627 L189.695 364.266 Z\" fill=\"#000000\" fill-rule=\"nonzero\" fill-opacity=\"1\" /><path clip-path=\"url(#clip100)\" d=\"M62.9365 255.176 Q59.3254 255.176 57.4967 258.741 Q55.6912 262.282 55.6912 269.412 Q55.6912 276.518 57.4967 280.083 Q59.3254 283.625 62.9365 283.625 Q66.5707 283.625 68.3763 280.083 Q70.205 276.518 70.205 269.412 Q70.205 262.282 68.3763 258.741 Q66.5707 255.176 62.9365 255.176 M62.9365 251.472 Q68.7467 251.472 71.8022 256.079 Q74.8809 260.662 74.8809 269.412 Q74.8809 278.139 71.8022 282.745 Q68.7467 287.328 62.9365 287.328 Q57.1264 287.328 54.0477 282.745 Q50.9921 278.139 50.9921 269.412 Q50.9921 260.662 54.0477 256.079 Q57.1264 251.472 62.9365 251.472 Z\" fill=\"#000000\" fill-rule=\"nonzero\" fill-opacity=\"1\" /><path clip-path=\"url(#clip100)\" d=\"M83.0984 280.777 L87.9827 280.777 L87.9827 286.657 L83.0984 286.657 L83.0984 280.777 Z\" fill=\"#000000\" fill-rule=\"nonzero\" fill-opacity=\"1\" /><path clip-path=\"url(#clip100)\" d=\"M108.168 255.176 Q104.557 255.176 102.728 258.741 Q100.922 262.282 100.922 269.412 Q100.922 276.518 102.728 280.083 Q104.557 283.625 108.168 283.625 Q111.802 283.625 113.608 280.083 Q115.436 276.518 115.436 269.412 Q115.436 262.282 113.608 258.741 Q111.802 255.176 108.168 255.176 M108.168 251.472 Q113.978 251.472 117.033 256.079 Q120.112 260.662 120.112 269.412 Q120.112 278.139 117.033 282.745 Q113.978 287.328 108.168 287.328 Q102.358 287.328 99.2789 282.745 Q96.2234 278.139 96.2234 269.412 Q96.2234 260.662 99.2789 256.079 Q102.358 251.472 108.168 251.472 Z\" fill=\"#000000\" fill-rule=\"nonzero\" fill-opacity=\"1\" /><path clip-path=\"url(#clip100)\" d=\"M129.14 282.722 L136.779 282.722 L136.779 256.356 L128.469 258.023 L128.469 253.764 L136.732 252.097 L141.408 252.097 L141.408 282.722 L149.047 282.722 L149.047 286.657 L129.14 286.657 L129.14 282.722 Z\" fill=\"#000000\" fill-rule=\"nonzero\" fill-opacity=\"1\" /><path clip-path=\"url(#clip100)\" d=\"M168.491 255.176 Q164.88 255.176 163.052 258.741 Q161.246 262.282 161.246 269.412 Q161.246 276.518 163.052 280.083 Q164.88 283.625 168.491 283.625 Q172.126 283.625 173.931 280.083 Q175.76 276.518 175.76 269.412 Q175.76 262.282 173.931 258.741 Q172.126 255.176 168.491 255.176 M168.491 251.472 Q174.302 251.472 177.357 256.079 Q180.436 260.662 180.436 269.412 Q180.436 278.139 177.357 282.745 Q174.302 287.328 168.491 287.328 Q162.681 287.328 159.603 282.745 Q156.547 278.139 156.547 269.412 Q156.547 260.662 159.603 256.079 Q162.681 251.472 168.491 251.472 Z\" fill=\"#000000\" fill-rule=\"nonzero\" fill-opacity=\"1\" /><path clip-path=\"url(#clip100)\" d=\"M198.653 255.176 Q195.042 255.176 193.214 258.741 Q191.408 262.282 191.408 269.412 Q191.408 276.518 193.214 280.083 Q195.042 283.625 198.653 283.625 Q202.288 283.625 204.093 280.083 Q205.922 276.518 205.922 269.412 Q205.922 262.282 204.093 258.741 Q202.288 255.176 198.653 255.176 M198.653 251.472 Q204.464 251.472 207.519 256.079 Q210.598 260.662 210.598 269.412 Q210.598 278.139 207.519 282.745 Q204.464 287.328 198.653 287.328 Q192.843 287.328 189.765 282.745 Q186.709 278.139 186.709 269.412 Q186.709 260.662 189.765 256.079 Q192.843 251.472 198.653 251.472 Z\" fill=\"#000000\" fill-rule=\"nonzero\" fill-opacity=\"1\" /><path clip-path=\"url(#clip100)\" d=\"M63.9319 143.007 Q60.3208 143.007 58.4921 146.572 Q56.6865 150.113 56.6865 157.243 Q56.6865 164.349 58.4921 167.914 Q60.3208 171.456 63.9319 171.456 Q67.5661 171.456 69.3717 167.914 Q71.2004 164.349 71.2004 157.243 Q71.2004 150.113 69.3717 146.572 Q67.5661 143.007 63.9319 143.007 M63.9319 139.303 Q69.742 139.303 72.7976 143.91 Q75.8763 148.493 75.8763 157.243 Q75.8763 165.97 72.7976 170.576 Q69.742 175.16 63.9319 175.16 Q58.1217 175.16 55.043 170.576 Q51.9875 165.97 51.9875 157.243 Q51.9875 148.493 55.043 143.91 Q58.1217 139.303 63.9319 139.303 Z\" fill=\"#000000\" fill-rule=\"nonzero\" fill-opacity=\"1\" /><path clip-path=\"url(#clip100)\" d=\"M84.0938 168.609 L88.978 168.609 L88.978 174.488 L84.0938 174.488 L84.0938 168.609 Z\" fill=\"#000000\" fill-rule=\"nonzero\" fill-opacity=\"1\" /><path clip-path=\"url(#clip100)\" d=\"M109.163 143.007 Q105.552 143.007 103.723 146.572 Q101.918 150.113 101.918 157.243 Q101.918 164.349 103.723 167.914 Q105.552 171.456 109.163 171.456 Q112.797 171.456 114.603 167.914 Q116.432 164.349 116.432 157.243 Q116.432 150.113 114.603 146.572 Q112.797 143.007 109.163 143.007 M109.163 139.303 Q114.973 139.303 118.029 143.91 Q121.107 148.493 121.107 157.243 Q121.107 165.97 118.029 170.576 Q114.973 175.16 109.163 175.16 Q103.353 175.16 100.274 170.576 Q97.2187 165.97 97.2187 157.243 Q97.2187 148.493 100.274 143.91 Q103.353 139.303 109.163 139.303 Z\" fill=\"#000000\" fill-rule=\"nonzero\" fill-opacity=\"1\" /><path clip-path=\"url(#clip100)\" d=\"M130.135 170.553 L137.774 170.553 L137.774 144.188 L129.464 145.854 L129.464 141.595 L137.728 139.928 L142.404 139.928 L142.404 170.553 L150.043 170.553 L150.043 174.488 L130.135 174.488 L130.135 170.553 Z\" fill=\"#000000\" fill-rule=\"nonzero\" fill-opacity=\"1\" /><path clip-path=\"url(#clip100)\" d=\"M163.515 170.553 L179.834 170.553 L179.834 174.488 L157.89 174.488 L157.89 170.553 Q160.552 167.799 165.135 163.169 Q169.741 158.516 170.922 157.174 Q173.167 154.65 174.047 152.914 Q174.95 151.155 174.95 149.465 Q174.95 146.711 173.005 144.975 Q171.084 143.238 167.982 143.238 Q165.783 143.238 163.329 144.002 Q160.899 144.766 158.121 146.317 L158.121 141.595 Q160.945 140.461 163.399 139.882 Q165.853 139.303 167.89 139.303 Q173.26 139.303 176.454 141.988 Q179.649 144.674 179.649 149.164 Q179.649 151.294 178.839 153.215 Q178.052 155.113 175.945 157.706 Q175.366 158.377 172.265 161.595 Q169.163 164.789 163.515 170.553 Z\" fill=\"#000000\" fill-rule=\"nonzero\" fill-opacity=\"1\" /><path clip-path=\"url(#clip100)\" d=\"M189.695 139.928 L208.051 139.928 L208.051 143.863 L193.977 143.863 L193.977 152.336 Q194.996 151.988 196.014 151.826 Q197.033 151.641 198.052 151.641 Q203.839 151.641 207.218 154.812 Q210.598 157.984 210.598 163.4 Q210.598 168.979 207.126 172.081 Q203.653 175.16 197.334 175.16 Q195.158 175.16 192.89 174.789 Q190.644 174.419 188.237 173.678 L188.237 168.979 Q190.32 170.113 192.542 170.669 Q194.765 171.224 197.241 171.224 Q201.246 171.224 203.584 169.118 Q205.922 167.011 205.922 163.4 Q205.922 159.789 203.584 157.683 Q201.246 155.576 197.241 155.576 Q195.366 155.576 193.491 155.993 Q191.64 156.41 189.695 157.289 L189.695 139.928 Z\" fill=\"#000000\" fill-rule=\"nonzero\" fill-opacity=\"1\" /><path clip-path=\"url(#clip100)\" d=\"M1095.94 48.0275 L1095.94 51.6733 L1061.67 51.6733 Q1062.15 59.3701 1066.28 63.421 Q1070.46 67.4314 1077.87 67.4314 Q1082.16 67.4314 1086.17 66.3781 Q1090.22 65.3249 1094.19 63.2184 L1094.19 70.267 Q1090.18 71.9684 1085.97 72.8596 Q1081.76 73.7508 1077.42 73.7508 Q1066.57 73.7508 1060.21 67.4314 Q1053.89 61.1119 1053.89 50.3365 Q1053.89 39.1965 1059.88 32.6746 Q1065.92 26.1121 1076.13 26.1121 Q1085.28 26.1121 1090.59 32.0264 Q1095.94 37.9003 1095.94 48.0275 M1088.48 45.84 Q1088.4 39.7232 1085.04 36.0774 Q1081.72 32.4315 1076.21 32.4315 Q1069.97 32.4315 1066.2 35.9558 Q1062.48 39.4801 1061.91 45.8805 L1088.48 45.84 Z\" fill=\"#000000\" fill-rule=\"nonzero\" fill-opacity=\"1\" /><path clip-path=\"url(#clip100)\" d=\"M1108.17 27.2059 L1115.62 27.2059 L1115.62 72.576 L1108.17 72.576 L1108.17 27.2059 M1108.17 9.54393 L1115.62 9.54393 L1115.62 18.9825 L1108.17 18.9825 L1108.17 9.54393 Z\" fill=\"#000000\" fill-rule=\"nonzero\" fill-opacity=\"1\" /><path clip-path=\"url(#clip100)\" d=\"M1161.08 49.3643 Q1161.08 41.2625 1157.71 36.8065 Q1154.39 32.3505 1148.36 32.3505 Q1142.36 32.3505 1139 36.8065 Q1135.68 41.2625 1135.68 49.3643 Q1135.68 57.4256 1139 61.8816 Q1142.36 66.3376 1148.36 66.3376 Q1154.39 66.3376 1157.71 61.8816 Q1161.08 57.4256 1161.08 49.3643 M1168.53 66.9452 Q1168.53 78.5308 1163.38 84.1616 Q1158.24 89.8329 1147.63 89.8329 Q1143.7 89.8329 1140.21 89.2252 Q1136.73 88.6581 1133.45 87.4428 L1133.45 80.1917 Q1136.73 81.9741 1139.93 82.8248 Q1143.13 83.6755 1146.45 83.6755 Q1153.78 83.6755 1157.43 79.8271 Q1161.08 76.0193 1161.08 68.282 L1161.08 64.5957 Q1158.77 68.6061 1155.16 70.5911 Q1151.56 72.576 1146.53 72.576 Q1138.19 72.576 1133.08 66.2161 Q1127.98 59.8562 1127.98 49.3643 Q1127.98 38.832 1133.08 32.472 Q1138.19 26.1121 1146.53 26.1121 Q1151.56 26.1121 1155.16 28.0971 Q1158.77 30.082 1161.08 34.0924 L1161.08 27.2059 L1168.53 27.2059 L1168.53 66.9452 Z\" fill=\"#000000\" fill-rule=\"nonzero\" fill-opacity=\"1\" /><path clip-path=\"url(#clip100)\" d=\"M1222.69 48.0275 L1222.69 51.6733 L1188.42 51.6733 Q1188.9 59.3701 1193.04 63.421 Q1197.21 67.4314 1204.62 67.4314 Q1208.92 67.4314 1212.93 66.3781 Q1216.98 65.3249 1220.95 63.2184 L1220.95 70.267 Q1216.94 71.9684 1212.72 72.8596 Q1208.51 73.7508 1204.18 73.7508 Q1193.32 73.7508 1186.96 67.4314 Q1180.64 61.1119 1180.64 50.3365 Q1180.64 39.1965 1186.64 32.6746 Q1192.67 26.1121 1202.88 26.1121 Q1212.04 26.1121 1217.34 32.0264 Q1222.69 37.9003 1222.69 48.0275 M1215.24 45.84 Q1215.15 39.7232 1211.79 36.0774 Q1208.47 32.4315 1202.96 32.4315 Q1196.72 32.4315 1192.96 35.9558 Q1189.23 39.4801 1188.66 45.8805 L1215.24 45.84 Z\" fill=\"#000000\" fill-rule=\"nonzero\" fill-opacity=\"1\" /><path clip-path=\"url(#clip100)\" d=\"M1272.64 45.1919 L1272.64 72.576 L1265.18 72.576 L1265.18 45.4349 Q1265.18 38.994 1262.67 35.7938 Q1260.16 32.5936 1255.14 32.5936 Q1249.1 32.5936 1245.62 36.4419 Q1242.13 40.2903 1242.13 46.9338 L1242.13 72.576 L1234.64 72.576 L1234.64 27.2059 L1242.13 27.2059 L1242.13 34.2544 Q1244.81 30.163 1248.41 28.1376 Q1252.06 26.1121 1256.8 26.1121 Q1264.62 26.1121 1268.63 30.9732 Q1272.64 35.7938 1272.64 45.1919 Z\" fill=\"#000000\" fill-rule=\"nonzero\" fill-opacity=\"1\" /><path clip-path=\"url(#clip100)\" d=\"M1282.16 27.2059 L1290.06 27.2059 L1304.23 65.2844 L1318.41 27.2059 L1326.31 27.2059 L1309.3 72.576 L1299.17 72.576 L1282.16 27.2059 Z\" fill=\"#000000\" fill-rule=\"nonzero\" fill-opacity=\"1\" /><path clip-path=\"url(#clip100)\" d=\"M1357.22 49.7694 Q1348.19 49.7694 1344.7 51.8354 Q1341.22 53.9013 1341.22 58.8839 Q1341.22 62.8538 1343.81 65.2034 Q1346.44 67.5124 1350.94 67.5124 Q1357.14 67.5124 1360.87 63.1374 Q1364.63 58.7219 1364.63 51.4303 L1364.63 49.7694 L1357.22 49.7694 M1372.09 46.6907 L1372.09 72.576 L1364.63 72.576 L1364.63 65.6895 Q1362.08 69.8214 1358.27 71.8063 Q1354.47 73.7508 1348.96 73.7508 Q1341.99 73.7508 1337.86 69.8619 Q1333.77 65.9325 1333.77 59.3701 Q1333.77 51.7138 1338.87 47.825 Q1344.01 43.9361 1354.18 43.9361 L1364.63 43.9361 L1364.63 43.2069 Q1364.63 38.0623 1361.23 35.2672 Q1357.87 32.4315 1351.75 32.4315 Q1347.86 32.4315 1344.18 33.3632 Q1340.49 34.295 1337.09 36.1584 L1337.09 29.2718 Q1341.18 27.692 1345.03 26.9223 Q1348.88 26.1121 1352.52 26.1121 Q1362.36 26.1121 1367.23 31.2163 Q1372.09 36.3204 1372.09 46.6907 Z\" fill=\"#000000\" fill-rule=\"nonzero\" fill-opacity=\"1\" /><path clip-path=\"url(#clip100)\" d=\"M1387.44 9.54393 L1394.89 9.54393 L1394.89 72.576 L1387.44 72.576 L1387.44 9.54393 Z\" fill=\"#000000\" fill-rule=\"nonzero\" fill-opacity=\"1\" /><path clip-path=\"url(#clip100)\" d=\"M1409.72 54.671 L1409.72 27.2059 L1417.17 27.2059 L1417.17 54.3874 Q1417.17 60.8284 1419.68 64.0691 Q1422.2 67.2693 1427.22 67.2693 Q1433.26 67.2693 1436.74 63.421 Q1440.26 59.5726 1440.26 52.9291 L1440.26 27.2059 L1447.72 27.2059 L1447.72 72.576 L1440.26 72.576 L1440.26 65.6084 Q1437.55 69.7404 1433.94 71.7658 Q1430.38 73.7508 1425.64 73.7508 Q1417.82 73.7508 1413.77 68.8897 Q1409.72 64.0286 1409.72 54.671 M1428.48 26.1121 L1428.48 26.1121 Z\" fill=\"#000000\" fill-rule=\"nonzero\" fill-opacity=\"1\" /><path clip-path=\"url(#clip100)\" d=\"M1501.88 48.0275 L1501.88 51.6733 L1467.61 51.6733 Q1468.09 59.3701 1472.23 63.421 Q1476.4 67.4314 1483.81 67.4314 Q1488.1 67.4314 1492.12 66.3781 Q1496.17 65.3249 1500.14 63.2184 L1500.14 70.267 Q1496.13 71.9684 1491.91 72.8596 Q1487.7 73.7508 1483.37 73.7508 Q1472.51 73.7508 1466.15 67.4314 Q1459.83 61.1119 1459.83 50.3365 Q1459.83 39.1965 1465.82 32.6746 Q1471.86 26.1121 1482.07 26.1121 Q1491.22 26.1121 1496.53 32.0264 Q1501.88 37.9003 1501.88 48.0275 M1494.42 45.84 Q1494.34 39.7232 1490.98 36.0774 Q1487.66 32.4315 1482.15 32.4315 Q1475.91 32.4315 1472.14 35.9558 Q1468.42 39.4801 1467.85 45.8805 L1494.42 45.84 Z\" fill=\"#000000\" fill-rule=\"nonzero\" fill-opacity=\"1\" /><path clip-path=\"url(#clip100)\" d=\"M1543.03 28.5427 L1543.03 35.5912 Q1539.88 33.9709 1536.47 33.1607 Q1533.07 32.3505 1529.42 32.3505 Q1523.87 32.3505 1521.08 34.0519 Q1518.32 35.7533 1518.32 39.156 Q1518.32 41.7486 1520.31 43.2475 Q1522.29 44.7058 1528.29 46.0426 L1530.84 46.6097 Q1538.78 48.3111 1542.1 51.4303 Q1545.47 54.509 1545.47 60.0587 Q1545.47 66.3781 1540.44 70.0644 Q1535.46 73.7508 1526.71 73.7508 Q1523.06 73.7508 1519.09 73.0216 Q1515.16 72.3329 1510.79 70.9151 L1510.79 63.2184 Q1514.92 65.3654 1518.93 66.4591 Q1522.94 67.5124 1526.87 67.5124 Q1532.14 67.5124 1534.97 65.73 Q1537.81 63.9071 1537.81 60.6258 Q1537.81 57.5877 1535.74 55.9673 Q1533.72 54.3469 1526.79 52.8481 L1524.2 52.2405 Q1517.27 50.7821 1514.19 47.7845 Q1511.11 44.7463 1511.11 39.4801 Q1511.11 33.0797 1515.65 29.5959 Q1520.19 26.1121 1528.53 26.1121 Q1532.66 26.1121 1536.31 26.7198 Q1539.96 27.3274 1543.03 28.5427 Z\" fill=\"#000000\" fill-rule=\"nonzero\" fill-opacity=\"1\" /><polyline clip-path=\"url(#clip102)\" style=\"stroke:#009af9; stroke-linecap:round; stroke-linejoin:round; stroke-width:16; stroke-opacity:1; fill:none\" points=\"306.206,110.737 377.168,549.352 448.13,604.165 519.093,606.093 590.055,609.524 661.017,618.042 731.979,622.888 802.941,628.687 873.904,632.148 944.866,634.631 1015.83,638.481 1086.79,642.664 1157.75,648.15 1228.71,650.139 1299.68,651.384 1370.64,653.689 1441.6,655.606 1512.56,658.732 1583.53,664.082 1654.49,666.227 1725.45,667.814 1796.41,670.726 1867.37,673.469 1938.34,675.26 2009.3,677.049 2080.26,681.979 2151.22,688.957 2222.19,692.718 2293.15,694.223 \"/>\n",
       "</svg>\n"
      ]
     },
     "execution_count": 20,
     "metadata": {},
     "output_type": "execute_result"
    }
   ],
   "source": [
    "emails_pca_model_full = fit( PCA, email_mat; maxoutdim=size(email_mat,1) );\n",
    "plot( emails_pca_model_full.prinvars, linewidth=4, title=\"eigenvalues\", size=(600,200), legend=false )"
   ]
  },
  {
   "cell_type": "markdown",
   "metadata": {},
   "source": [
    "### find the ratio of the total variance obtained from the 'first 2' and the 'first 3' eigenvalues"
   ]
  },
  {
   "cell_type": "code",
   "execution_count": 22,
   "metadata": {},
   "outputs": [
    {
     "data": {
      "text/plain": [
       "0.30361811855971366"
      ]
     },
     "execution_count": 22,
     "metadata": {},
     "output_type": "execute_result"
    }
   ],
   "source": [
    "sum(emails_pca_model_full.prinvars[1:2]) / sum(emails_pca_model_full.prinvars)"
   ]
  },
  {
   "cell_type": "code",
   "execution_count": 24,
   "metadata": {},
   "outputs": [
    {
     "data": {
      "text/plain": [
       "0.34817664047812663"
      ]
     },
     "execution_count": 24,
     "metadata": {},
     "output_type": "execute_result"
    }
   ],
   "source": [
    "sum(emails_pca_model_full.prinvars[1:3]) / sum(emails_pca_model_full.prinvars)"
   ]
  },
  {
   "cell_type": "markdown",
   "metadata": {},
   "source": [
    "### this time select only up to 2 eigenvectors"
   ]
  },
  {
   "cell_type": "code",
   "execution_count": 25,
   "metadata": {},
   "outputs": [],
   "source": [
    "emails_pca_model = fit(PCA, email_mat; maxoutdim=2);"
   ]
  },
  {
   "cell_type": "markdown",
   "metadata": {},
   "source": [
    "## 'transform' the data (project the data onto the eigenvectors)\n",
    "\n",
    "- this takes in the email vector representations, multiplies it agains the eigenvectors to get the 'transformations' which is the projection of the each email onto each eigenvector\n",
    "- If there are 2 eigenvectors then each email is multiplied (projected) onto each vector producing a single value each time, and each value is considered to be a new 'x' and 'y'. If you had 5 eigenvectors, there would be 5 projections (multiplications) with a single email creating 5 values per email, but we choose 2 to make it easy to visualize."
   ]
  },
  {
   "cell_type": "code",
   "execution_count": 26,
   "metadata": {},
   "outputs": [
    {
     "data": {
      "text/plain": [
       "2×5 Matrix{Float64}:\n",
       "  0.0721453   -0.0820397   -0.00648536  -0.106034   -0.191232\n",
       " -0.00961795  -0.00415632   0.0191086   -0.0971514   0.00414779"
      ]
     },
     "execution_count": 26,
     "metadata": {},
     "output_type": "execute_result"
    }
   ],
   "source": [
    "emails_transformed = transform(emails_pca_model, email_mat)\n",
    "emails_new_transformed = transform(emails_pca_model, email_new_mat)"
   ]
  },
  {
   "cell_type": "markdown",
   "metadata": {},
   "source": [
    "get the max and min values for each eigenvector transformation to plot it"
   ]
  },
  {
   "cell_type": "code",
   "execution_count": 27,
   "metadata": {},
   "outputs": [
    {
     "data": {
      "text/plain": [
       "0.22765215914607095"
      ]
     },
     "execution_count": 27,
     "metadata": {},
     "output_type": "execute_result"
    }
   ],
   "source": [
    "minimum_x = minimum( [emails_transformed[1,:]..., emails_new_transformed[1,:]...] ) - 0.1\n",
    "maximum_x = maximum( [emails_transformed[1,:]..., emails_new_transformed[1,:]...] ) + 0.1\n",
    "\n",
    "minimum_y = minimum( [emails_transformed[2,:]..., emails_new_transformed[2,:]...] ) - 0.1\n",
    "maximum_y = maximum( [emails_transformed[2,:]..., emails_new_transformed[2,:]...] ) + 0.1"
   ]
  },
  {
   "cell_type": "code",
   "execution_count": 30,
   "metadata": {},
   "outputs": [
    {
     "data": {
      "image/svg+xml": [
       "<?xml version=\"1.0\" encoding=\"utf-8\"?>\n",
       "<svg xmlns=\"http://www.w3.org/2000/svg\" xmlns:xlink=\"http://www.w3.org/1999/xlink\" width=\"500\" height=\"300\" viewBox=\"0 0 2000 1200\">\n",
       "<defs>\n",
       "  <clipPath id=\"clip220\">\n",
       "    <rect x=\"0\" y=\"0\" width=\"2000\" height=\"1200\"/>\n",
       "  </clipPath>\n",
       "</defs>\n",
       "<path clip-path=\"url(#clip220)\" d=\"M0 1200 L2000 1200 L2000 0 L0 0  Z\" fill=\"#ffffff\" fill-rule=\"evenodd\" fill-opacity=\"1\"/>\n",
       "<defs>\n",
       "  <clipPath id=\"clip221\">\n",
       "    <rect x=\"400\" y=\"0\" width=\"1401\" height=\"1200\"/>\n",
       "  </clipPath>\n",
       "</defs>\n",
       "<path clip-path=\"url(#clip220)\" d=\"M189.288 1093.9 L1952.76 1093.9 L1952.76 117.424 L189.288 117.424  Z\" fill=\"#ffffff\" fill-rule=\"evenodd\" fill-opacity=\"1\"/>\n",
       "<defs>\n",
       "  <clipPath id=\"clip222\">\n",
       "    <rect x=\"189\" y=\"117\" width=\"1764\" height=\"977\"/>\n",
       "  </clipPath>\n",
       "</defs>\n",
       "<polyline clip-path=\"url(#clip222)\" style=\"stroke:#000000; stroke-linecap:round; stroke-linejoin:round; stroke-width:2; stroke-opacity:0.1; fill:none\" points=\"472.722,1093.9 472.722,117.424 \"/>\n",
       "<polyline clip-path=\"url(#clip222)\" style=\"stroke:#000000; stroke-linecap:round; stroke-linejoin:round; stroke-width:2; stroke-opacity:0.1; fill:none\" points=\"783.395,1093.9 783.395,117.424 \"/>\n",
       "<polyline clip-path=\"url(#clip222)\" style=\"stroke:#000000; stroke-linecap:round; stroke-linejoin:round; stroke-width:2; stroke-opacity:0.1; fill:none\" points=\"1094.07,1093.9 1094.07,117.424 \"/>\n",
       "<polyline clip-path=\"url(#clip222)\" style=\"stroke:#000000; stroke-linecap:round; stroke-linejoin:round; stroke-width:2; stroke-opacity:0.1; fill:none\" points=\"1404.74,1093.9 1404.74,117.424 \"/>\n",
       "<polyline clip-path=\"url(#clip222)\" style=\"stroke:#000000; stroke-linecap:round; stroke-linejoin:round; stroke-width:2; stroke-opacity:0.1; fill:none\" points=\"1715.41,1093.9 1715.41,117.424 \"/>\n",
       "<polyline clip-path=\"url(#clip220)\" style=\"stroke:#000000; stroke-linecap:round; stroke-linejoin:round; stroke-width:4; stroke-opacity:1; fill:none\" points=\"189.288,1093.9 1952.76,1093.9 \"/>\n",
       "<polyline clip-path=\"url(#clip220)\" style=\"stroke:#000000; stroke-linecap:round; stroke-linejoin:round; stroke-width:4; stroke-opacity:1; fill:none\" points=\"472.722,1093.9 472.722,1075.01 \"/>\n",
       "<polyline clip-path=\"url(#clip220)\" style=\"stroke:#000000; stroke-linecap:round; stroke-linejoin:round; stroke-width:4; stroke-opacity:1; fill:none\" points=\"783.395,1093.9 783.395,1075.01 \"/>\n",
       "<polyline clip-path=\"url(#clip220)\" style=\"stroke:#000000; stroke-linecap:round; stroke-linejoin:round; stroke-width:4; stroke-opacity:1; fill:none\" points=\"1094.07,1093.9 1094.07,1075.01 \"/>\n",
       "<polyline clip-path=\"url(#clip220)\" style=\"stroke:#000000; stroke-linecap:round; stroke-linejoin:round; stroke-width:4; stroke-opacity:1; fill:none\" points=\"1404.74,1093.9 1404.74,1075.01 \"/>\n",
       "<polyline clip-path=\"url(#clip220)\" style=\"stroke:#000000; stroke-linecap:round; stroke-linejoin:round; stroke-width:4; stroke-opacity:1; fill:none\" points=\"1715.41,1093.9 1715.41,1075.01 \"/>\n",
       "<path clip-path=\"url(#clip220)\" d=\"M420.049 1136.28 L449.724 1136.28 L449.724 1140.21 L420.049 1140.21 L420.049 1136.28 Z\" fill=\"#000000\" fill-rule=\"nonzero\" fill-opacity=\"1\" /><path clip-path=\"url(#clip220)\" d=\"M469.817 1121.62 Q466.206 1121.62 464.377 1125.19 Q462.572 1128.73 462.572 1135.86 Q462.572 1142.97 464.377 1146.53 Q466.206 1150.07 469.817 1150.07 Q473.451 1150.07 475.257 1146.53 Q477.085 1142.97 477.085 1135.86 Q477.085 1128.73 475.257 1125.19 Q473.451 1121.62 469.817 1121.62 M469.817 1117.92 Q475.627 1117.92 478.683 1122.53 Q481.761 1127.11 481.761 1135.86 Q481.761 1144.59 478.683 1149.19 Q475.627 1153.78 469.817 1153.78 Q464.007 1153.78 460.928 1149.19 Q457.872 1144.59 457.872 1135.86 Q457.872 1127.11 460.928 1122.53 Q464.007 1117.92 469.817 1117.92 Z\" fill=\"#000000\" fill-rule=\"nonzero\" fill-opacity=\"1\" /><path clip-path=\"url(#clip220)\" d=\"M489.979 1147.22 L494.863 1147.22 L494.863 1153.1 L489.979 1153.1 L489.979 1147.22 Z\" fill=\"#000000\" fill-rule=\"nonzero\" fill-opacity=\"1\" /><path clip-path=\"url(#clip220)\" d=\"M509.076 1149.17 L525.395 1149.17 L525.395 1153.1 L503.451 1153.1 L503.451 1149.17 Q506.113 1146.41 510.696 1141.78 Q515.303 1137.13 516.483 1135.79 Q518.729 1133.27 519.608 1131.53 Q520.511 1129.77 520.511 1128.08 Q520.511 1125.33 518.567 1123.59 Q516.645 1121.85 513.543 1121.85 Q511.344 1121.85 508.891 1122.62 Q506.46 1123.38 503.682 1124.93 L503.682 1120.21 Q506.506 1119.08 508.96 1118.5 Q511.414 1117.92 513.451 1117.92 Q518.821 1117.92 522.016 1120.6 Q525.21 1123.29 525.21 1127.78 Q525.21 1129.91 524.4 1131.83 Q523.613 1133.73 521.506 1136.32 Q520.928 1136.99 517.826 1140.21 Q514.724 1143.4 509.076 1149.17 Z\" fill=\"#000000\" fill-rule=\"nonzero\" fill-opacity=\"1\" /><path clip-path=\"url(#clip220)\" d=\"M730.536 1136.28 L760.212 1136.28 L760.212 1140.21 L730.536 1140.21 L730.536 1136.28 Z\" fill=\"#000000\" fill-rule=\"nonzero\" fill-opacity=\"1\" /><path clip-path=\"url(#clip220)\" d=\"M780.305 1121.62 Q776.694 1121.62 774.865 1125.19 Q773.059 1128.73 773.059 1135.86 Q773.059 1142.97 774.865 1146.53 Q776.694 1150.07 780.305 1150.07 Q783.939 1150.07 785.744 1146.53 Q787.573 1142.97 787.573 1135.86 Q787.573 1128.73 785.744 1125.19 Q783.939 1121.62 780.305 1121.62 M780.305 1117.92 Q786.115 1117.92 789.17 1122.53 Q792.249 1127.11 792.249 1135.86 Q792.249 1144.59 789.17 1149.19 Q786.115 1153.78 780.305 1153.78 Q774.494 1153.78 771.416 1149.19 Q768.36 1144.59 768.36 1135.86 Q768.36 1127.11 771.416 1122.53 Q774.494 1117.92 780.305 1117.92 Z\" fill=\"#000000\" fill-rule=\"nonzero\" fill-opacity=\"1\" /><path clip-path=\"url(#clip220)\" d=\"M800.467 1147.22 L805.351 1147.22 L805.351 1153.1 L800.467 1153.1 L800.467 1147.22 Z\" fill=\"#000000\" fill-rule=\"nonzero\" fill-opacity=\"1\" /><path clip-path=\"url(#clip220)\" d=\"M816.346 1149.17 L823.985 1149.17 L823.985 1122.8 L815.675 1124.47 L815.675 1120.21 L823.939 1118.54 L828.615 1118.54 L828.615 1149.17 L836.253 1149.17 L836.253 1153.1 L816.346 1153.1 L816.346 1149.17 Z\" fill=\"#000000\" fill-rule=\"nonzero\" fill-opacity=\"1\" /><path clip-path=\"url(#clip220)\" d=\"M1071.45 1121.62 Q1067.84 1121.62 1066.01 1125.19 Q1064.21 1128.73 1064.21 1135.86 Q1064.21 1142.97 1066.01 1146.53 Q1067.84 1150.07 1071.45 1150.07 Q1075.09 1150.07 1076.89 1146.53 Q1078.72 1142.97 1078.72 1135.86 Q1078.72 1128.73 1076.89 1125.19 Q1075.09 1121.62 1071.45 1121.62 M1071.45 1117.92 Q1077.26 1117.92 1080.32 1122.53 Q1083.4 1127.11 1083.4 1135.86 Q1083.4 1144.59 1080.32 1149.19 Q1077.26 1153.78 1071.45 1153.78 Q1065.64 1153.78 1062.56 1149.19 Q1059.51 1144.59 1059.51 1135.86 Q1059.51 1127.11 1062.56 1122.53 Q1065.64 1117.92 1071.45 1117.92 Z\" fill=\"#000000\" fill-rule=\"nonzero\" fill-opacity=\"1\" /><path clip-path=\"url(#clip220)\" d=\"M1091.61 1147.22 L1096.5 1147.22 L1096.5 1153.1 L1091.61 1153.1 L1091.61 1147.22 Z\" fill=\"#000000\" fill-rule=\"nonzero\" fill-opacity=\"1\" /><path clip-path=\"url(#clip220)\" d=\"M1116.68 1121.62 Q1113.07 1121.62 1111.24 1125.19 Q1109.44 1128.73 1109.44 1135.86 Q1109.44 1142.97 1111.24 1146.53 Q1113.07 1150.07 1116.68 1150.07 Q1120.32 1150.07 1122.12 1146.53 Q1123.95 1142.97 1123.95 1135.86 Q1123.95 1128.73 1122.12 1125.19 Q1120.32 1121.62 1116.68 1121.62 M1116.68 1117.92 Q1122.49 1117.92 1125.55 1122.53 Q1128.63 1127.11 1128.63 1135.86 Q1128.63 1144.59 1125.55 1149.19 Q1122.49 1153.78 1116.68 1153.78 Q1110.87 1153.78 1107.79 1149.19 Q1104.74 1144.59 1104.74 1135.86 Q1104.74 1127.11 1107.79 1122.53 Q1110.87 1117.92 1116.68 1117.92 Z\" fill=\"#000000\" fill-rule=\"nonzero\" fill-opacity=\"1\" /><path clip-path=\"url(#clip220)\" d=\"M1382.74 1121.62 Q1379.13 1121.62 1377.3 1125.19 Q1375.49 1128.73 1375.49 1135.86 Q1375.49 1142.97 1377.3 1146.53 Q1379.13 1150.07 1382.74 1150.07 Q1386.37 1150.07 1388.18 1146.53 Q1390.01 1142.97 1390.01 1135.86 Q1390.01 1128.73 1388.18 1125.19 Q1386.37 1121.62 1382.74 1121.62 M1382.74 1117.92 Q1388.55 1117.92 1391.6 1122.53 Q1394.68 1127.11 1394.68 1135.86 Q1394.68 1144.59 1391.6 1149.19 Q1388.55 1153.78 1382.74 1153.78 Q1376.93 1153.78 1373.85 1149.19 Q1370.79 1144.59 1370.79 1135.86 Q1370.79 1127.11 1373.85 1122.53 Q1376.93 1117.92 1382.74 1117.92 Z\" fill=\"#000000\" fill-rule=\"nonzero\" fill-opacity=\"1\" /><path clip-path=\"url(#clip220)\" d=\"M1402.9 1147.22 L1407.78 1147.22 L1407.78 1153.1 L1402.9 1153.1 L1402.9 1147.22 Z\" fill=\"#000000\" fill-rule=\"nonzero\" fill-opacity=\"1\" /><path clip-path=\"url(#clip220)\" d=\"M1418.78 1149.17 L1426.42 1149.17 L1426.42 1122.8 L1418.11 1124.47 L1418.11 1120.21 L1426.37 1118.54 L1431.05 1118.54 L1431.05 1149.17 L1438.69 1149.17 L1438.69 1153.1 L1418.78 1153.1 L1418.78 1149.17 Z\" fill=\"#000000\" fill-rule=\"nonzero\" fill-opacity=\"1\" /><path clip-path=\"url(#clip220)\" d=\"M1693.6 1121.62 Q1689.99 1121.62 1688.16 1125.19 Q1686.35 1128.73 1686.35 1135.86 Q1686.35 1142.97 1688.16 1146.53 Q1689.99 1150.07 1693.6 1150.07 Q1697.23 1150.07 1699.04 1146.53 Q1700.87 1142.97 1700.87 1135.86 Q1700.87 1128.73 1699.04 1125.19 Q1697.23 1121.62 1693.6 1121.62 M1693.6 1117.92 Q1699.41 1117.92 1702.46 1122.53 Q1705.54 1127.11 1705.54 1135.86 Q1705.54 1144.59 1702.46 1149.19 Q1699.41 1153.78 1693.6 1153.78 Q1687.79 1153.78 1684.71 1149.19 Q1681.65 1144.59 1681.65 1135.86 Q1681.65 1127.11 1684.71 1122.53 Q1687.79 1117.92 1693.6 1117.92 Z\" fill=\"#000000\" fill-rule=\"nonzero\" fill-opacity=\"1\" /><path clip-path=\"url(#clip220)\" d=\"M1713.76 1147.22 L1718.64 1147.22 L1718.64 1153.1 L1713.76 1153.1 L1713.76 1147.22 Z\" fill=\"#000000\" fill-rule=\"nonzero\" fill-opacity=\"1\" /><path clip-path=\"url(#clip220)\" d=\"M1732.86 1149.17 L1749.18 1149.17 L1749.18 1153.1 L1727.23 1153.1 L1727.23 1149.17 Q1729.89 1146.41 1734.48 1141.78 Q1739.08 1137.13 1740.26 1135.79 Q1742.51 1133.27 1743.39 1131.53 Q1744.29 1129.77 1744.29 1128.08 Q1744.29 1125.33 1742.35 1123.59 Q1740.43 1121.85 1737.32 1121.85 Q1735.12 1121.85 1732.67 1122.62 Q1730.24 1123.38 1727.46 1124.93 L1727.46 1120.21 Q1730.29 1119.08 1732.74 1118.5 Q1735.19 1117.92 1737.23 1117.92 Q1742.6 1117.92 1745.8 1120.6 Q1748.99 1123.29 1748.99 1127.78 Q1748.99 1129.91 1748.18 1131.83 Q1747.39 1133.73 1745.29 1136.32 Q1744.71 1136.99 1741.61 1140.21 Q1738.5 1143.4 1732.86 1149.17 Z\" fill=\"#000000\" fill-rule=\"nonzero\" fill-opacity=\"1\" /><polyline clip-path=\"url(#clip222)\" style=\"stroke:#000000; stroke-linecap:round; stroke-linejoin:round; stroke-width:2; stroke-opacity:0.1; fill:none\" points=\"189.288,1092.23 1952.76,1092.23 \"/>\n",
       "<polyline clip-path=\"url(#clip222)\" style=\"stroke:#000000; stroke-linecap:round; stroke-linejoin:round; stroke-width:2; stroke-opacity:0.1; fill:none\" points=\"189.288,907.487 1952.76,907.487 \"/>\n",
       "<polyline clip-path=\"url(#clip222)\" style=\"stroke:#000000; stroke-linecap:round; stroke-linejoin:round; stroke-width:2; stroke-opacity:0.1; fill:none\" points=\"189.288,722.743 1952.76,722.743 \"/>\n",
       "<polyline clip-path=\"url(#clip222)\" style=\"stroke:#000000; stroke-linecap:round; stroke-linejoin:round; stroke-width:2; stroke-opacity:0.1; fill:none\" points=\"189.288,537.998 1952.76,537.998 \"/>\n",
       "<polyline clip-path=\"url(#clip222)\" style=\"stroke:#000000; stroke-linecap:round; stroke-linejoin:round; stroke-width:2; stroke-opacity:0.1; fill:none\" points=\"189.288,353.254 1952.76,353.254 \"/>\n",
       "<polyline clip-path=\"url(#clip222)\" style=\"stroke:#000000; stroke-linecap:round; stroke-linejoin:round; stroke-width:2; stroke-opacity:0.1; fill:none\" points=\"189.288,168.51 1952.76,168.51 \"/>\n",
       "<polyline clip-path=\"url(#clip220)\" style=\"stroke:#000000; stroke-linecap:round; stroke-linejoin:round; stroke-width:4; stroke-opacity:1; fill:none\" points=\"189.288,1093.9 189.288,117.424 \"/>\n",
       "<polyline clip-path=\"url(#clip220)\" style=\"stroke:#000000; stroke-linecap:round; stroke-linejoin:round; stroke-width:4; stroke-opacity:1; fill:none\" points=\"189.288,1092.23 208.185,1092.23 \"/>\n",
       "<polyline clip-path=\"url(#clip220)\" style=\"stroke:#000000; stroke-linecap:round; stroke-linejoin:round; stroke-width:4; stroke-opacity:1; fill:none\" points=\"189.288,907.487 208.185,907.487 \"/>\n",
       "<polyline clip-path=\"url(#clip220)\" style=\"stroke:#000000; stroke-linecap:round; stroke-linejoin:round; stroke-width:4; stroke-opacity:1; fill:none\" points=\"189.288,722.743 208.185,722.743 \"/>\n",
       "<polyline clip-path=\"url(#clip220)\" style=\"stroke:#000000; stroke-linecap:round; stroke-linejoin:round; stroke-width:4; stroke-opacity:1; fill:none\" points=\"189.288,537.998 208.185,537.998 \"/>\n",
       "<polyline clip-path=\"url(#clip220)\" style=\"stroke:#000000; stroke-linecap:round; stroke-linejoin:round; stroke-width:4; stroke-opacity:1; fill:none\" points=\"189.288,353.254 208.185,353.254 \"/>\n",
       "<polyline clip-path=\"url(#clip220)\" style=\"stroke:#000000; stroke-linecap:round; stroke-linejoin:round; stroke-width:4; stroke-opacity:1; fill:none\" points=\"189.288,168.51 208.185,168.51 \"/>\n",
       "<path clip-path=\"url(#clip220)\" d=\"M52.9921 1092.68 L82.6679 1092.68 L82.6679 1096.62 L52.9921 1096.62 L52.9921 1092.68 Z\" fill=\"#000000\" fill-rule=\"nonzero\" fill-opacity=\"1\" /><path clip-path=\"url(#clip220)\" d=\"M102.76 1078.03 Q99.1493 1078.03 97.3206 1081.59 Q95.515 1085.14 95.515 1092.27 Q95.515 1099.37 97.3206 1102.94 Q99.1493 1106.48 102.76 1106.48 Q106.395 1106.48 108.2 1102.94 Q110.029 1099.37 110.029 1092.27 Q110.029 1085.14 108.2 1081.59 Q106.395 1078.03 102.76 1078.03 M102.76 1074.33 Q108.571 1074.33 111.626 1078.93 Q114.705 1083.52 114.705 1092.27 Q114.705 1100.99 111.626 1105.6 Q108.571 1110.18 102.76 1110.18 Q96.9502 1110.18 93.8715 1105.6 Q90.816 1100.99 90.816 1092.27 Q90.816 1083.52 93.8715 1078.93 Q96.9502 1074.33 102.76 1074.33 Z\" fill=\"#000000\" fill-rule=\"nonzero\" fill-opacity=\"1\" /><path clip-path=\"url(#clip220)\" d=\"M122.922 1103.63 L127.807 1103.63 L127.807 1109.51 L122.922 1109.51 L122.922 1103.63 Z\" fill=\"#000000\" fill-rule=\"nonzero\" fill-opacity=\"1\" /><path clip-path=\"url(#clip220)\" d=\"M152.158 1090.88 Q155.515 1091.59 157.39 1093.86 Q159.288 1096.13 159.288 1099.46 Q159.288 1104.58 155.769 1107.38 Q152.251 1110.18 145.769 1110.18 Q143.593 1110.18 141.279 1109.74 Q138.987 1109.33 136.533 1108.47 L136.533 1103.96 Q138.478 1105.09 140.793 1105.67 Q143.107 1106.25 145.631 1106.25 Q150.029 1106.25 152.32 1104.51 Q154.635 1102.78 154.635 1099.46 Q154.635 1096.41 152.482 1094.7 Q150.353 1092.96 146.533 1092.96 L142.506 1092.96 L142.506 1089.12 L146.718 1089.12 Q150.168 1089.12 151.996 1087.75 Q153.825 1086.36 153.825 1083.77 Q153.825 1081.11 151.927 1079.7 Q150.052 1078.26 146.533 1078.26 Q144.612 1078.26 142.413 1078.68 Q140.214 1079.09 137.575 1079.97 L137.575 1075.81 Q140.237 1075.07 142.552 1074.7 Q144.89 1074.33 146.95 1074.33 Q152.274 1074.33 155.376 1076.76 Q158.478 1079.16 158.478 1083.28 Q158.478 1086.15 156.834 1088.15 Q155.191 1090.11 152.158 1090.88 Z\" fill=\"#000000\" fill-rule=\"nonzero\" fill-opacity=\"1\" /><path clip-path=\"url(#clip220)\" d=\"M53.9412 907.938 L83.617 907.938 L83.617 911.873 L53.9412 911.873 L53.9412 907.938 Z\" fill=\"#000000\" fill-rule=\"nonzero\" fill-opacity=\"1\" /><path clip-path=\"url(#clip220)\" d=\"M103.709 893.286 Q100.098 893.286 98.2697 896.85 Q96.4641 900.392 96.4641 907.522 Q96.4641 914.628 98.2697 918.193 Q100.098 921.735 103.709 921.735 Q107.344 921.735 109.149 918.193 Q110.978 914.628 110.978 907.522 Q110.978 900.392 109.149 896.85 Q107.344 893.286 103.709 893.286 M103.709 889.582 Q109.52 889.582 112.575 894.188 Q115.654 898.772 115.654 907.522 Q115.654 916.248 112.575 920.855 Q109.52 925.438 103.709 925.438 Q97.8993 925.438 94.8206 920.855 Q91.7651 916.248 91.7651 907.522 Q91.7651 898.772 94.8206 894.188 Q97.8993 889.582 103.709 889.582 Z\" fill=\"#000000\" fill-rule=\"nonzero\" fill-opacity=\"1\" /><path clip-path=\"url(#clip220)\" d=\"M123.871 918.887 L128.756 918.887 L128.756 924.767 L123.871 924.767 L123.871 918.887 Z\" fill=\"#000000\" fill-rule=\"nonzero\" fill-opacity=\"1\" /><path clip-path=\"url(#clip220)\" d=\"M142.968 920.832 L159.288 920.832 L159.288 924.767 L137.344 924.767 L137.344 920.832 Q140.006 918.077 144.589 913.448 Q149.195 908.795 150.376 907.452 Q152.621 904.929 153.501 903.193 Q154.404 901.434 154.404 899.744 Q154.404 896.989 152.459 895.253 Q150.538 893.517 147.436 893.517 Q145.237 893.517 142.783 894.281 Q140.353 895.045 137.575 896.596 L137.575 891.874 Q140.399 890.739 142.853 890.161 Q145.306 889.582 147.343 889.582 Q152.714 889.582 155.908 892.267 Q159.103 894.952 159.103 899.443 Q159.103 901.573 158.292 903.494 Q157.505 905.392 155.399 907.985 Q154.82 908.656 151.718 911.873 Q148.617 915.068 142.968 920.832 Z\" fill=\"#000000\" fill-rule=\"nonzero\" fill-opacity=\"1\" /><path clip-path=\"url(#clip220)\" d=\"M53.5708 723.194 L83.2466 723.194 L83.2466 727.129 L53.5708 727.129 L53.5708 723.194 Z\" fill=\"#000000\" fill-rule=\"nonzero\" fill-opacity=\"1\" /><path clip-path=\"url(#clip220)\" d=\"M103.339 708.541 Q99.728 708.541 97.8993 712.106 Q96.0937 715.648 96.0937 722.777 Q96.0937 729.884 97.8993 733.449 Q99.728 736.99 103.339 736.99 Q106.973 736.99 108.779 733.449 Q110.608 729.884 110.608 722.777 Q110.608 715.648 108.779 712.106 Q106.973 708.541 103.339 708.541 M103.339 704.838 Q109.149 704.838 112.205 709.444 Q115.283 714.027 115.283 722.777 Q115.283 731.504 112.205 736.111 Q109.149 740.694 103.339 740.694 Q97.5289 740.694 94.4502 736.111 Q91.3947 731.504 91.3947 722.777 Q91.3947 714.027 94.4502 709.444 Q97.5289 704.838 103.339 704.838 Z\" fill=\"#000000\" fill-rule=\"nonzero\" fill-opacity=\"1\" /><path clip-path=\"url(#clip220)\" d=\"M123.501 734.143 L128.385 734.143 L128.385 740.023 L123.501 740.023 L123.501 734.143 Z\" fill=\"#000000\" fill-rule=\"nonzero\" fill-opacity=\"1\" /><path clip-path=\"url(#clip220)\" d=\"M139.381 736.088 L147.019 736.088 L147.019 709.722 L138.709 711.389 L138.709 707.129 L146.973 705.463 L151.649 705.463 L151.649 736.088 L159.288 736.088 L159.288 740.023 L139.381 740.023 L139.381 736.088 Z\" fill=\"#000000\" fill-rule=\"nonzero\" fill-opacity=\"1\" /><path clip-path=\"url(#clip220)\" d=\"M102.112 523.797 Q98.5011 523.797 96.6724 527.362 Q94.8669 530.904 94.8669 538.033 Q94.8669 545.14 96.6724 548.704 Q98.5011 552.246 102.112 552.246 Q105.746 552.246 107.552 548.704 Q109.381 545.14 109.381 538.033 Q109.381 530.904 107.552 527.362 Q105.746 523.797 102.112 523.797 M102.112 520.093 Q107.922 520.093 110.978 524.7 Q114.057 529.283 114.057 538.033 Q114.057 546.76 110.978 551.366 Q107.922 555.95 102.112 555.95 Q96.3021 555.95 93.2234 551.366 Q90.1679 546.76 90.1679 538.033 Q90.1679 529.283 93.2234 524.7 Q96.3021 520.093 102.112 520.093 Z\" fill=\"#000000\" fill-rule=\"nonzero\" fill-opacity=\"1\" /><path clip-path=\"url(#clip220)\" d=\"M122.274 549.399 L127.158 549.399 L127.158 555.278 L122.274 555.278 L122.274 549.399 Z\" fill=\"#000000\" fill-rule=\"nonzero\" fill-opacity=\"1\" /><path clip-path=\"url(#clip220)\" d=\"M147.343 523.797 Q143.732 523.797 141.904 527.362 Q140.098 530.904 140.098 538.033 Q140.098 545.14 141.904 548.704 Q143.732 552.246 147.343 552.246 Q150.978 552.246 152.783 548.704 Q154.612 545.14 154.612 538.033 Q154.612 530.904 152.783 527.362 Q150.978 523.797 147.343 523.797 M147.343 520.093 Q153.154 520.093 156.209 524.7 Q159.288 529.283 159.288 538.033 Q159.288 546.76 156.209 551.366 Q153.154 555.95 147.343 555.95 Q141.533 555.95 138.455 551.366 Q135.399 546.76 135.399 538.033 Q135.399 529.283 138.455 524.7 Q141.533 520.093 147.343 520.093 Z\" fill=\"#000000\" fill-rule=\"nonzero\" fill-opacity=\"1\" /><path clip-path=\"url(#clip220)\" d=\"M103.339 339.053 Q99.728 339.053 97.8993 342.618 Q96.0937 346.159 96.0937 353.289 Q96.0937 360.395 97.8993 363.96 Q99.728 367.502 103.339 367.502 Q106.973 367.502 108.779 363.96 Q110.608 360.395 110.608 353.289 Q110.608 346.159 108.779 342.618 Q106.973 339.053 103.339 339.053 M103.339 335.349 Q109.149 335.349 112.205 339.956 Q115.283 344.539 115.283 353.289 Q115.283 362.016 112.205 366.622 Q109.149 371.205 103.339 371.205 Q97.5289 371.205 94.4502 366.622 Q91.3947 362.016 91.3947 353.289 Q91.3947 344.539 94.4502 339.956 Q97.5289 335.349 103.339 335.349 Z\" fill=\"#000000\" fill-rule=\"nonzero\" fill-opacity=\"1\" /><path clip-path=\"url(#clip220)\" d=\"M123.501 364.655 L128.385 364.655 L128.385 370.534 L123.501 370.534 L123.501 364.655 Z\" fill=\"#000000\" fill-rule=\"nonzero\" fill-opacity=\"1\" /><path clip-path=\"url(#clip220)\" d=\"M139.381 366.599 L147.019 366.599 L147.019 340.233 L138.709 341.9 L138.709 337.641 L146.973 335.974 L151.649 335.974 L151.649 366.599 L159.288 366.599 L159.288 370.534 L139.381 370.534 L139.381 366.599 Z\" fill=\"#000000\" fill-rule=\"nonzero\" fill-opacity=\"1\" /><path clip-path=\"url(#clip220)\" d=\"M103.709 154.309 Q100.098 154.309 98.2697 157.873 Q96.4641 161.415 96.4641 168.545 Q96.4641 175.651 98.2697 179.216 Q100.098 182.758 103.709 182.758 Q107.344 182.758 109.149 179.216 Q110.978 175.651 110.978 168.545 Q110.978 161.415 109.149 157.873 Q107.344 154.309 103.709 154.309 M103.709 150.605 Q109.52 150.605 112.575 155.211 Q115.654 159.795 115.654 168.545 Q115.654 177.271 112.575 181.878 Q109.52 186.461 103.709 186.461 Q97.8993 186.461 94.8206 181.878 Q91.7651 177.271 91.7651 168.545 Q91.7651 159.795 94.8206 155.211 Q97.8993 150.605 103.709 150.605 Z\" fill=\"#000000\" fill-rule=\"nonzero\" fill-opacity=\"1\" /><path clip-path=\"url(#clip220)\" d=\"M123.871 179.91 L128.756 179.91 L128.756 185.79 L123.871 185.79 L123.871 179.91 Z\" fill=\"#000000\" fill-rule=\"nonzero\" fill-opacity=\"1\" /><path clip-path=\"url(#clip220)\" d=\"M142.968 181.855 L159.288 181.855 L159.288 185.79 L137.344 185.79 L137.344 181.855 Q140.006 179.1 144.589 174.471 Q149.195 169.818 150.376 168.475 Q152.621 165.952 153.501 164.216 Q154.404 162.457 154.404 160.767 Q154.404 158.012 152.459 156.276 Q150.538 154.54 147.436 154.54 Q145.237 154.54 142.783 155.304 Q140.353 156.068 137.575 157.619 L137.575 152.897 Q140.399 151.762 142.853 151.184 Q145.306 150.605 147.343 150.605 Q152.714 150.605 155.908 153.29 Q159.103 155.975 159.103 160.466 Q159.103 162.596 158.292 164.517 Q157.505 166.415 155.399 169.008 Q154.82 169.679 151.718 172.896 Q148.617 176.091 142.968 181.855 Z\" fill=\"#000000\" fill-rule=\"nonzero\" fill-opacity=\"1\" /><path clip-path=\"url(#clip220)\" d=\"M714.725 48.0275 L714.725 51.6733 L680.454 51.6733 Q680.94 59.3701 685.072 63.421 Q689.244 67.4314 696.658 67.4314 Q700.952 67.4314 704.962 66.3781 Q709.013 65.3249 712.983 63.2184 L712.983 70.267 Q708.972 71.9684 704.759 72.8596 Q700.546 73.7508 696.212 73.7508 Q685.356 73.7508 678.996 67.4314 Q672.676 61.1119 672.676 50.3365 Q672.676 39.1965 678.672 32.6746 Q684.707 26.1121 694.916 26.1121 Q704.071 26.1121 709.377 32.0264 Q714.725 37.9003 714.725 48.0275 M707.271 45.84 Q707.19 39.7232 703.828 36.0774 Q700.506 32.4315 694.997 32.4315 Q688.758 32.4315 684.991 35.9558 Q681.264 39.4801 680.697 45.8805 L707.271 45.84 Z\" fill=\"#000000\" fill-rule=\"nonzero\" fill-opacity=\"1\" /><path clip-path=\"url(#clip220)\" d=\"M762.282 35.9153 Q765.077 30.8922 768.966 28.5022 Q772.855 26.1121 778.121 26.1121 Q785.21 26.1121 789.059 31.0947 Q792.907 36.0368 792.907 45.1919 L792.907 72.576 L785.413 72.576 L785.413 45.4349 Q785.413 38.913 783.104 35.7533 Q780.795 32.5936 776.055 32.5936 Q770.262 32.5936 766.9 36.4419 Q763.538 40.2903 763.538 46.9338 L763.538 72.576 L756.044 72.576 L756.044 45.4349 Q756.044 38.8725 753.735 35.7533 Q751.426 32.5936 746.605 32.5936 Q740.893 32.5936 737.531 36.4824 Q734.169 40.3308 734.169 46.9338 L734.169 72.576 L726.675 72.576 L726.675 27.2059 L734.169 27.2059 L734.169 34.2544 Q736.721 30.082 740.286 28.0971 Q743.851 26.1121 748.752 26.1121 Q753.694 26.1121 757.138 28.6237 Q760.621 31.1352 762.282 35.9153 Z\" fill=\"#000000\" fill-rule=\"nonzero\" fill-opacity=\"1\" /><path clip-path=\"url(#clip220)\" d=\"M828.393 49.7694 Q819.359 49.7694 815.876 51.8354 Q812.392 53.9013 812.392 58.8839 Q812.392 62.8538 814.984 65.2034 Q817.618 67.5124 822.114 67.5124 Q828.312 67.5124 832.039 63.1374 Q835.806 58.7219 835.806 51.4303 L835.806 49.7694 L828.393 49.7694 M843.26 46.6907 L843.26 72.576 L835.806 72.576 L835.806 65.6895 Q833.254 69.8214 829.446 71.8063 Q825.638 73.7508 820.129 73.7508 Q813.162 73.7508 809.03 69.8619 Q804.938 65.9325 804.938 59.3701 Q804.938 51.7138 810.042 47.825 Q815.187 43.9361 825.355 43.9361 L835.806 43.9361 L835.806 43.2069 Q835.806 38.0623 832.403 35.2672 Q829.041 32.4315 822.924 32.4315 Q819.035 32.4315 815.349 33.3632 Q811.663 34.295 808.26 36.1584 L808.26 29.2718 Q812.351 27.692 816.2 26.9223 Q820.048 26.1121 823.694 26.1121 Q833.538 26.1121 838.399 31.2163 Q843.26 36.3204 843.26 46.6907 Z\" fill=\"#000000\" fill-rule=\"nonzero\" fill-opacity=\"1\" /><path clip-path=\"url(#clip220)\" d=\"M858.613 27.2059 L866.066 27.2059 L866.066 72.576 L858.613 72.576 L858.613 27.2059 M858.613 9.54393 L866.066 9.54393 L866.066 18.9825 L858.613 18.9825 L858.613 9.54393 Z\" fill=\"#000000\" fill-rule=\"nonzero\" fill-opacity=\"1\" /><path clip-path=\"url(#clip220)\" d=\"M881.662 9.54393 L889.116 9.54393 L889.116 72.576 L881.662 72.576 L881.662 9.54393 Z\" fill=\"#000000\" fill-rule=\"nonzero\" fill-opacity=\"1\" /><path clip-path=\"url(#clip220)\" d=\"M933.635 28.5427 L933.635 35.5912 Q930.476 33.9709 927.073 33.1607 Q923.67 32.3505 920.024 32.3505 Q914.475 32.3505 911.68 34.0519 Q908.925 35.7533 908.925 39.156 Q908.925 41.7486 910.91 43.2475 Q912.895 44.7058 918.89 46.0426 L921.442 46.6097 Q929.382 48.3111 932.704 51.4303 Q936.066 54.509 936.066 60.0587 Q936.066 66.3781 931.043 70.0644 Q926.06 73.7508 917.31 73.7508 Q913.665 73.7508 909.695 73.0216 Q905.765 72.3329 901.39 70.9151 L901.39 63.2184 Q905.522 65.3654 909.533 66.4591 Q913.543 67.5124 917.472 67.5124 Q922.739 67.5124 925.574 65.73 Q928.41 63.9071 928.41 60.6258 Q928.41 57.5877 926.344 55.9673 Q924.318 54.3469 917.391 52.8481 L914.799 52.2405 Q907.872 50.7821 904.793 47.7845 Q901.714 44.7463 901.714 39.4801 Q901.714 33.0797 906.251 29.5959 Q910.788 26.1121 919.133 26.1121 Q923.265 26.1121 926.911 26.7198 Q930.557 27.3274 933.635 28.5427 Z\" fill=\"#000000\" fill-rule=\"nonzero\" fill-opacity=\"1\" /><path clip-path=\"url(#clip220)\" d=\"M981.679 14.324 L981.679 27.2059 L997.032 27.2059 L997.032 32.9987 L981.679 32.9987 L981.679 57.6282 Q981.679 63.1779 983.178 64.7578 Q984.717 66.3376 989.376 66.3376 L997.032 66.3376 L997.032 72.576 L989.376 72.576 Q980.747 72.576 977.466 69.3758 Q974.185 66.1351 974.185 57.6282 L974.185 32.9987 L968.716 32.9987 L968.716 27.2059 L974.185 27.2059 L974.185 14.324 L981.679 14.324 Z\" fill=\"#000000\" fill-rule=\"nonzero\" fill-opacity=\"1\" /><path clip-path=\"url(#clip220)\" d=\"M1033.13 34.1734 Q1031.87 33.4443 1030.37 33.1202 Q1028.91 32.7556 1027.13 32.7556 Q1020.81 32.7556 1017.41 36.8875 Q1014.05 40.9789 1014.05 48.6757 L1014.05 72.576 L1006.55 72.576 L1006.55 27.2059 L1014.05 27.2059 L1014.05 34.2544 Q1016.4 30.1225 1020.16 28.1376 Q1023.93 26.1121 1029.32 26.1121 Q1030.09 26.1121 1031.02 26.2337 Q1031.95 26.3147 1033.09 26.5172 L1033.13 34.1734 Z\" fill=\"#000000\" fill-rule=\"nonzero\" fill-opacity=\"1\" /><path clip-path=\"url(#clip220)\" d=\"M1061.56 49.7694 Q1052.53 49.7694 1049.05 51.8354 Q1045.56 53.9013 1045.56 58.8839 Q1045.56 62.8538 1048.15 65.2034 Q1050.79 67.5124 1055.28 67.5124 Q1061.48 67.5124 1065.21 63.1374 Q1068.98 58.7219 1068.98 51.4303 L1068.98 49.7694 L1061.56 49.7694 M1076.43 46.6907 L1076.43 72.576 L1068.98 72.576 L1068.98 65.6895 Q1066.42 69.8214 1062.62 71.8063 Q1058.81 73.7508 1053.3 73.7508 Q1046.33 73.7508 1042.2 69.8619 Q1038.11 65.9325 1038.11 59.3701 Q1038.11 51.7138 1043.21 47.825 Q1048.36 43.9361 1058.52 43.9361 L1068.98 43.9361 L1068.98 43.2069 Q1068.98 38.0623 1065.57 35.2672 Q1062.21 32.4315 1056.09 32.4315 Q1052.21 32.4315 1048.52 33.3632 Q1044.83 34.295 1041.43 36.1584 L1041.43 29.2718 Q1045.52 27.692 1049.37 26.9223 Q1053.22 26.1121 1056.86 26.1121 Q1066.71 26.1121 1071.57 31.2163 Q1076.43 36.3204 1076.43 46.6907 Z\" fill=\"#000000\" fill-rule=\"nonzero\" fill-opacity=\"1\" /><path clip-path=\"url(#clip220)\" d=\"M1129.5 45.1919 L1129.5 72.576 L1122.04 72.576 L1122.04 45.4349 Q1122.04 38.994 1119.53 35.7938 Q1117.02 32.5936 1112 32.5936 Q1105.96 32.5936 1102.48 36.4419 Q1098.99 40.2903 1098.99 46.9338 L1098.99 72.576 L1091.5 72.576 L1091.5 27.2059 L1098.99 27.2059 L1098.99 34.2544 Q1101.67 30.163 1105.27 28.1376 Q1108.92 26.1121 1113.66 26.1121 Q1121.48 26.1121 1125.49 30.9732 Q1129.5 35.7938 1129.5 45.1919 Z\" fill=\"#000000\" fill-rule=\"nonzero\" fill-opacity=\"1\" /><path clip-path=\"url(#clip220)\" d=\"M1173.29 28.5427 L1173.29 35.5912 Q1170.13 33.9709 1166.72 33.1607 Q1163.32 32.3505 1159.68 32.3505 Q1154.13 32.3505 1151.33 34.0519 Q1148.58 35.7533 1148.58 39.156 Q1148.58 41.7486 1150.56 43.2475 Q1152.55 44.7058 1158.54 46.0426 L1161.09 46.6097 Q1169.03 48.3111 1172.36 51.4303 Q1175.72 54.509 1175.72 60.0587 Q1175.72 66.3781 1170.69 70.0644 Q1165.71 73.7508 1156.96 73.7508 Q1153.32 73.7508 1149.35 73.0216 Q1145.42 72.3329 1141.04 70.9151 L1141.04 63.2184 Q1145.17 65.3654 1149.18 66.4591 Q1153.19 67.5124 1157.12 67.5124 Q1162.39 67.5124 1165.23 65.73 Q1168.06 63.9071 1168.06 60.6258 Q1168.06 57.5877 1166 55.9673 Q1163.97 54.3469 1157.04 52.8481 L1154.45 52.2405 Q1147.52 50.7821 1144.44 47.7845 Q1141.37 44.7463 1141.37 39.4801 Q1141.37 33.0797 1145.9 29.5959 Q1150.44 26.1121 1158.78 26.1121 Q1162.92 26.1121 1166.56 26.7198 Q1170.21 27.3274 1173.29 28.5427 Z\" fill=\"#000000\" fill-rule=\"nonzero\" fill-opacity=\"1\" /><path clip-path=\"url(#clip220)\" d=\"M1210.56 9.54393 L1210.56 15.7418 L1203.43 15.7418 Q1199.42 15.7418 1197.84 17.3622 Q1196.3 18.9825 1196.3 23.1955 L1196.3 27.2059 L1208.57 27.2059 L1208.57 32.9987 L1196.3 32.9987 L1196.3 72.576 L1188.8 72.576 L1188.8 32.9987 L1181.67 32.9987 L1181.67 27.2059 L1188.8 27.2059 L1188.8 24.0462 Q1188.8 16.471 1192.33 13.0277 Q1195.85 9.54393 1203.51 9.54393 L1210.56 9.54393 Z\" fill=\"#000000\" fill-rule=\"nonzero\" fill-opacity=\"1\" /><path clip-path=\"url(#clip220)\" d=\"M1234.37 32.4315 Q1228.38 32.4315 1224.9 37.1306 Q1221.41 41.7891 1221.41 49.9314 Q1221.41 58.0738 1224.85 62.7728 Q1228.34 67.4314 1234.37 67.4314 Q1240.33 67.4314 1243.81 62.7323 Q1247.3 58.0333 1247.3 49.9314 Q1247.3 41.8701 1243.81 37.1711 Q1240.33 32.4315 1234.37 32.4315 M1234.37 26.1121 Q1244.1 26.1121 1249.65 32.4315 Q1255.2 38.7509 1255.2 49.9314 Q1255.2 61.0714 1249.65 67.4314 Q1244.1 73.7508 1234.37 73.7508 Q1224.61 73.7508 1219.06 67.4314 Q1213.55 61.0714 1213.55 49.9314 Q1213.55 38.7509 1219.06 32.4315 Q1224.61 26.1121 1234.37 26.1121 Z\" fill=\"#000000\" fill-rule=\"nonzero\" fill-opacity=\"1\" /><path clip-path=\"url(#clip220)\" d=\"M1293.84 34.1734 Q1292.59 33.4443 1291.09 33.1202 Q1289.63 32.7556 1287.85 32.7556 Q1281.53 32.7556 1278.12 36.8875 Q1274.76 40.9789 1274.76 48.6757 L1274.76 72.576 L1267.27 72.576 L1267.27 27.2059 L1274.76 27.2059 L1274.76 34.2544 Q1277.11 30.1225 1280.88 28.1376 Q1284.65 26.1121 1290.03 26.1121 Q1290.8 26.1121 1291.74 26.2337 Q1292.67 26.3147 1293.8 26.5172 L1293.84 34.1734 Z\" fill=\"#000000\" fill-rule=\"nonzero\" fill-opacity=\"1\" /><path clip-path=\"url(#clip220)\" d=\"M1335.53 35.9153 Q1338.32 30.8922 1342.21 28.5022 Q1346.1 26.1121 1351.36 26.1121 Q1358.45 26.1121 1362.3 31.0947 Q1366.15 36.0368 1366.15 45.1919 L1366.15 72.576 L1358.66 72.576 L1358.66 45.4349 Q1358.66 38.913 1356.35 35.7533 Q1354.04 32.5936 1349.3 32.5936 Q1343.51 32.5936 1340.14 36.4419 Q1336.78 40.2903 1336.78 46.9338 L1336.78 72.576 L1329.29 72.576 L1329.29 45.4349 Q1329.29 38.8725 1326.98 35.7533 Q1324.67 32.5936 1319.85 32.5936 Q1314.14 32.5936 1310.77 36.4824 Q1307.41 40.3308 1307.41 46.9338 L1307.41 72.576 L1299.92 72.576 L1299.92 27.2059 L1307.41 27.2059 L1307.41 34.2544 Q1309.96 30.082 1313.53 28.0971 Q1317.09 26.1121 1322 26.1121 Q1326.94 26.1121 1330.38 28.6237 Q1333.86 31.1352 1335.53 35.9153 Z\" fill=\"#000000\" fill-rule=\"nonzero\" fill-opacity=\"1\" /><path clip-path=\"url(#clip220)\" d=\"M1419.82 48.0275 L1419.82 51.6733 L1385.55 51.6733 Q1386.04 59.3701 1390.17 63.421 Q1394.34 67.4314 1401.76 67.4314 Q1406.05 67.4314 1410.06 66.3781 Q1414.11 65.3249 1418.08 63.2184 L1418.08 70.267 Q1414.07 71.9684 1409.86 72.8596 Q1405.65 73.7508 1401.31 73.7508 Q1390.46 73.7508 1384.1 67.4314 Q1377.78 61.1119 1377.78 50.3365 Q1377.78 39.1965 1383.77 32.6746 Q1389.81 26.1121 1400.02 26.1121 Q1409.17 26.1121 1414.48 32.0264 Q1419.82 37.9003 1419.82 48.0275 M1412.37 45.84 Q1412.29 39.7232 1408.93 36.0774 Q1405.61 32.4315 1400.1 32.4315 Q1393.86 32.4315 1390.09 35.9558 Q1386.36 39.4801 1385.8 45.8805 L1412.37 45.84 Z\" fill=\"#000000\" fill-rule=\"nonzero\" fill-opacity=\"1\" /><path clip-path=\"url(#clip220)\" d=\"M1461.91 34.0924 L1461.91 9.54393 L1469.37 9.54393 L1469.37 72.576 L1461.91 72.576 L1461.91 65.7705 Q1459.56 69.8214 1455.96 71.8063 Q1452.39 73.7508 1447.37 73.7508 Q1439.15 73.7508 1433.96 67.1883 Q1428.82 60.6258 1428.82 49.9314 Q1428.82 39.2371 1433.96 32.6746 Q1439.15 26.1121 1447.37 26.1121 Q1452.39 26.1121 1455.96 28.0971 Q1459.56 30.0415 1461.91 34.0924 M1436.51 49.9314 Q1436.51 58.1548 1439.88 62.8538 Q1443.28 67.5124 1449.19 67.5124 Q1455.11 67.5124 1458.51 62.8538 Q1461.91 58.1548 1461.91 49.9314 Q1461.91 41.7081 1458.51 37.0496 Q1455.11 32.3505 1449.19 32.3505 Q1443.28 32.3505 1439.88 37.0496 Q1436.51 41.7081 1436.51 49.9314 Z\" fill=\"#000000\" fill-rule=\"nonzero\" fill-opacity=\"1\" /><circle clip-path=\"url(#clip222)\" cx=\"1420.86\" cy=\"477.263\" r=\"14.4\" fill=\"#009af9\" fill-rule=\"evenodd\" fill-opacity=\"1\" stroke=\"#000000\" stroke-opacity=\"1\" stroke-width=\"2.4\"/>\n",
       "<circle clip-path=\"url(#clip222)\" cx=\"1457.47\" cy=\"429.801\" r=\"14.4\" fill=\"#009af9\" fill-rule=\"evenodd\" fill-opacity=\"1\" stroke=\"#000000\" stroke-opacity=\"1\" stroke-width=\"2.4\"/>\n",
       "<circle clip-path=\"url(#clip222)\" cx=\"697.169\" cy=\"713.478\" r=\"14.4\" fill=\"#009af9\" fill-rule=\"evenodd\" fill-opacity=\"1\" stroke=\"#000000\" stroke-opacity=\"1\" stroke-width=\"2.4\"/>\n",
       "<circle clip-path=\"url(#clip222)\" cx=\"1352.12\" cy=\"391.573\" r=\"14.4\" fill=\"#009af9\" fill-rule=\"evenodd\" fill-opacity=\"1\" stroke=\"#000000\" stroke-opacity=\"1\" stroke-width=\"2.4\"/>\n",
       "<circle clip-path=\"url(#clip222)\" cx=\"822.38\" cy=\"538.804\" r=\"14.4\" fill=\"#009af9\" fill-rule=\"evenodd\" fill-opacity=\"1\" stroke=\"#000000\" stroke-opacity=\"1\" stroke-width=\"2.4\"/>\n",
       "<circle clip-path=\"url(#clip222)\" cx=\"716.934\" cy=\"509.113\" r=\"14.4\" fill=\"#009af9\" fill-rule=\"evenodd\" fill-opacity=\"1\" stroke=\"#000000\" stroke-opacity=\"1\" stroke-width=\"2.4\"/>\n",
       "<circle clip-path=\"url(#clip222)\" cx=\"810.753\" cy=\"681.889\" r=\"14.4\" fill=\"#009af9\" fill-rule=\"evenodd\" fill-opacity=\"1\" stroke=\"#000000\" stroke-opacity=\"1\" stroke-width=\"2.4\"/>\n",
       "<circle clip-path=\"url(#clip222)\" cx=\"1512.96\" cy=\"436.606\" r=\"14.4\" fill=\"#009af9\" fill-rule=\"evenodd\" fill-opacity=\"1\" stroke=\"#000000\" stroke-opacity=\"1\" stroke-width=\"2.4\"/>\n",
       "<circle clip-path=\"url(#clip222)\" cx=\"605.939\" cy=\"596.931\" r=\"14.4\" fill=\"#009af9\" fill-rule=\"evenodd\" fill-opacity=\"1\" stroke=\"#000000\" stroke-opacity=\"1\" stroke-width=\"2.4\"/>\n",
       "<circle clip-path=\"url(#clip222)\" cx=\"1343.09\" cy=\"381.934\" r=\"14.4\" fill=\"#009af9\" fill-rule=\"evenodd\" fill-opacity=\"1\" stroke=\"#000000\" stroke-opacity=\"1\" stroke-width=\"2.4\"/>\n",
       "<circle clip-path=\"url(#clip222)\" cx=\"1388.93\" cy=\"648.08\" r=\"14.4\" fill=\"#009af9\" fill-rule=\"evenodd\" fill-opacity=\"1\" stroke=\"#000000\" stroke-opacity=\"1\" stroke-width=\"2.4\"/>\n",
       "<circle clip-path=\"url(#clip222)\" cx=\"676.536\" cy=\"539.201\" r=\"14.4\" fill=\"#009af9\" fill-rule=\"evenodd\" fill-opacity=\"1\" stroke=\"#000000\" stroke-opacity=\"1\" stroke-width=\"2.4\"/>\n",
       "<circle clip-path=\"url(#clip222)\" cx=\"1394.35\" cy=\"498.983\" r=\"14.4\" fill=\"#009af9\" fill-rule=\"evenodd\" fill-opacity=\"1\" stroke=\"#000000\" stroke-opacity=\"1\" stroke-width=\"2.4\"/>\n",
       "<circle clip-path=\"url(#clip222)\" cx=\"1418.5\" cy=\"522.968\" r=\"14.4\" fill=\"#009af9\" fill-rule=\"evenodd\" fill-opacity=\"1\" stroke=\"#000000\" stroke-opacity=\"1\" stroke-width=\"2.4\"/>\n",
       "<circle clip-path=\"url(#clip222)\" cx=\"796.794\" cy=\"604.841\" r=\"14.4\" fill=\"#009af9\" fill-rule=\"evenodd\" fill-opacity=\"1\" stroke=\"#000000\" stroke-opacity=\"1\" stroke-width=\"2.4\"/>\n",
       "<circle clip-path=\"url(#clip222)\" cx=\"1517.92\" cy=\"584.298\" r=\"14.4\" fill=\"#009af9\" fill-rule=\"evenodd\" fill-opacity=\"1\" stroke=\"#000000\" stroke-opacity=\"1\" stroke-width=\"2.4\"/>\n",
       "<circle clip-path=\"url(#clip222)\" cx=\"666.802\" cy=\"666.441\" r=\"14.4\" fill=\"#009af9\" fill-rule=\"evenodd\" fill-opacity=\"1\" stroke=\"#000000\" stroke-opacity=\"1\" stroke-width=\"2.4\"/>\n",
       "<circle clip-path=\"url(#clip222)\" cx=\"1454.43\" cy=\"411.905\" r=\"14.4\" fill=\"#009af9\" fill-rule=\"evenodd\" fill-opacity=\"1\" stroke=\"#000000\" stroke-opacity=\"1\" stroke-width=\"2.4\"/>\n",
       "<circle clip-path=\"url(#clip222)\" cx=\"1362.93\" cy=\"576.869\" r=\"14.4\" fill=\"#009af9\" fill-rule=\"evenodd\" fill-opacity=\"1\" stroke=\"#000000\" stroke-opacity=\"1\" stroke-width=\"2.4\"/>\n",
       "<circle clip-path=\"url(#clip222)\" cx=\"847.122\" cy=\"582.382\" r=\"14.4\" fill=\"#009af9\" fill-rule=\"evenodd\" fill-opacity=\"1\" stroke=\"#000000\" stroke-opacity=\"1\" stroke-width=\"2.4\"/>\n",
       "<circle clip-path=\"url(#clip222)\" cx=\"778.601\" cy=\"564.501\" r=\"14.4\" fill=\"#009af9\" fill-rule=\"evenodd\" fill-opacity=\"1\" stroke=\"#000000\" stroke-opacity=\"1\" stroke-width=\"2.4\"/>\n",
       "<circle clip-path=\"url(#clip222)\" cx=\"1312.11\" cy=\"427.749\" r=\"14.4\" fill=\"#009af9\" fill-rule=\"evenodd\" fill-opacity=\"1\" stroke=\"#000000\" stroke-opacity=\"1\" stroke-width=\"2.4\"/>\n",
       "<circle clip-path=\"url(#clip222)\" cx=\"1504.9\" cy=\"536.665\" r=\"14.4\" fill=\"#009af9\" fill-rule=\"evenodd\" fill-opacity=\"1\" stroke=\"#000000\" stroke-opacity=\"1\" stroke-width=\"2.4\"/>\n",
       "<circle clip-path=\"url(#clip222)\" cx=\"859.422\" cy=\"667.494\" r=\"14.4\" fill=\"#009af9\" fill-rule=\"evenodd\" fill-opacity=\"1\" stroke=\"#000000\" stroke-opacity=\"1\" stroke-width=\"2.4\"/>\n",
       "<circle clip-path=\"url(#clip222)\" cx=\"1531.63\" cy=\"627.432\" r=\"14.4\" fill=\"#009af9\" fill-rule=\"evenodd\" fill-opacity=\"1\" stroke=\"#000000\" stroke-opacity=\"1\" stroke-width=\"2.4\"/>\n",
       "<circle clip-path=\"url(#clip222)\" cx=\"1293.26\" cy=\"428.909\" r=\"14.4\" fill=\"#009af9\" fill-rule=\"evenodd\" fill-opacity=\"1\" stroke=\"#000000\" stroke-opacity=\"1\" stroke-width=\"2.4\"/>\n",
       "<circle clip-path=\"url(#clip222)\" cx=\"1430.9\" cy=\"572.461\" r=\"14.4\" fill=\"#009af9\" fill-rule=\"evenodd\" fill-opacity=\"1\" stroke=\"#000000\" stroke-opacity=\"1\" stroke-width=\"2.4\"/>\n",
       "<circle clip-path=\"url(#clip222)\" cx=\"630.492\" cy=\"414.256\" r=\"14.4\" fill=\"#009af9\" fill-rule=\"evenodd\" fill-opacity=\"1\" stroke=\"#000000\" stroke-opacity=\"1\" stroke-width=\"2.4\"/>\n",
       "<circle clip-path=\"url(#clip222)\" cx=\"1322.84\" cy=\"529.247\" r=\"14.4\" fill=\"#009af9\" fill-rule=\"evenodd\" fill-opacity=\"1\" stroke=\"#000000\" stroke-opacity=\"1\" stroke-width=\"2.4\"/>\n",
       "<circle clip-path=\"url(#clip222)\" cx=\"844.326\" cy=\"454.268\" r=\"14.4\" fill=\"#009af9\" fill-rule=\"evenodd\" fill-opacity=\"1\" stroke=\"#000000\" stroke-opacity=\"1\" stroke-width=\"2.4\"/>\n",
       "<circle clip-path=\"url(#clip222)\" cx=\"1554.92\" cy=\"498.037\" r=\"14.4\" fill=\"#009af9\" fill-rule=\"evenodd\" fill-opacity=\"1\" stroke=\"#000000\" stroke-opacity=\"1\" stroke-width=\"2.4\"/>\n",
       "<circle clip-path=\"url(#clip222)\" cx=\"1510.13\" cy=\"454.89\" r=\"14.4\" fill=\"#009af9\" fill-rule=\"evenodd\" fill-opacity=\"1\" stroke=\"#000000\" stroke-opacity=\"1\" stroke-width=\"2.4\"/>\n",
       "<circle clip-path=\"url(#clip222)\" cx=\"1504.09\" cy=\"835.353\" r=\"14.4\" fill=\"#009af9\" fill-rule=\"evenodd\" fill-opacity=\"1\" stroke=\"#000000\" stroke-opacity=\"1\" stroke-width=\"2.4\"/>\n",
       "<circle clip-path=\"url(#clip222)\" cx=\"1327.93\" cy=\"540.203\" r=\"14.4\" fill=\"#009af9\" fill-rule=\"evenodd\" fill-opacity=\"1\" stroke=\"#000000\" stroke-opacity=\"1\" stroke-width=\"2.4\"/>\n",
       "<circle clip-path=\"url(#clip222)\" cx=\"742.996\" cy=\"436.75\" r=\"14.4\" fill=\"#009af9\" fill-rule=\"evenodd\" fill-opacity=\"1\" stroke=\"#000000\" stroke-opacity=\"1\" stroke-width=\"2.4\"/>\n",
       "<circle clip-path=\"url(#clip222)\" cx=\"1305.73\" cy=\"425.371\" r=\"14.4\" fill=\"#009af9\" fill-rule=\"evenodd\" fill-opacity=\"1\" stroke=\"#000000\" stroke-opacity=\"1\" stroke-width=\"2.4\"/>\n",
       "<circle clip-path=\"url(#clip222)\" cx=\"692.639\" cy=\"602.946\" r=\"14.4\" fill=\"#009af9\" fill-rule=\"evenodd\" fill-opacity=\"1\" stroke=\"#000000\" stroke-opacity=\"1\" stroke-width=\"2.4\"/>\n",
       "<circle clip-path=\"url(#clip222)\" cx=\"706.883\" cy=\"531.173\" r=\"14.4\" fill=\"#009af9\" fill-rule=\"evenodd\" fill-opacity=\"1\" stroke=\"#000000\" stroke-opacity=\"1\" stroke-width=\"2.4\"/>\n",
       "<circle clip-path=\"url(#clip222)\" cx=\"676.497\" cy=\"379.572\" r=\"14.4\" fill=\"#009af9\" fill-rule=\"evenodd\" fill-opacity=\"1\" stroke=\"#000000\" stroke-opacity=\"1\" stroke-width=\"2.4\"/>\n",
       "<circle clip-path=\"url(#clip222)\" cx=\"700.348\" cy=\"482.898\" r=\"14.4\" fill=\"#009af9\" fill-rule=\"evenodd\" fill-opacity=\"1\" stroke=\"#000000\" stroke-opacity=\"1\" stroke-width=\"2.4\"/>\n",
       "<circle clip-path=\"url(#clip222)\" cx=\"606.054\" cy=\"515.273\" r=\"14.4\" fill=\"#009af9\" fill-rule=\"evenodd\" fill-opacity=\"1\" stroke=\"#000000\" stroke-opacity=\"1\" stroke-width=\"2.4\"/>\n",
       "<circle clip-path=\"url(#clip222)\" cx=\"1281.47\" cy=\"610\" r=\"14.4\" fill=\"#009af9\" fill-rule=\"evenodd\" fill-opacity=\"1\" stroke=\"#000000\" stroke-opacity=\"1\" stroke-width=\"2.4\"/>\n",
       "<circle clip-path=\"url(#clip222)\" cx=\"1432.41\" cy=\"408.919\" r=\"14.4\" fill=\"#009af9\" fill-rule=\"evenodd\" fill-opacity=\"1\" stroke=\"#000000\" stroke-opacity=\"1\" stroke-width=\"2.4\"/>\n",
       "<circle clip-path=\"url(#clip222)\" cx=\"1363.47\" cy=\"480.037\" r=\"14.4\" fill=\"#009af9\" fill-rule=\"evenodd\" fill-opacity=\"1\" stroke=\"#000000\" stroke-opacity=\"1\" stroke-width=\"2.4\"/>\n",
       "<circle clip-path=\"url(#clip222)\" cx=\"1341.77\" cy=\"302.168\" r=\"14.4\" fill=\"#009af9\" fill-rule=\"evenodd\" fill-opacity=\"1\" stroke=\"#000000\" stroke-opacity=\"1\" stroke-width=\"2.4\"/>\n",
       "<circle clip-path=\"url(#clip222)\" cx=\"1619.99\" cy=\"556.176\" r=\"14.4\" fill=\"#009af9\" fill-rule=\"evenodd\" fill-opacity=\"1\" stroke=\"#000000\" stroke-opacity=\"1\" stroke-width=\"2.4\"/>\n",
       "<circle clip-path=\"url(#clip222)\" cx=\"1424.28\" cy=\"401.065\" r=\"14.4\" fill=\"#009af9\" fill-rule=\"evenodd\" fill-opacity=\"1\" stroke=\"#000000\" stroke-opacity=\"1\" stroke-width=\"2.4\"/>\n",
       "<circle clip-path=\"url(#clip222)\" cx=\"561.3\" cy=\"489.139\" r=\"14.4\" fill=\"#009af9\" fill-rule=\"evenodd\" fill-opacity=\"1\" stroke=\"#000000\" stroke-opacity=\"1\" stroke-width=\"2.4\"/>\n",
       "<circle clip-path=\"url(#clip222)\" cx=\"761.187\" cy=\"458.653\" r=\"14.4\" fill=\"#009af9\" fill-rule=\"evenodd\" fill-opacity=\"1\" stroke=\"#000000\" stroke-opacity=\"1\" stroke-width=\"2.4\"/>\n",
       "<circle clip-path=\"url(#clip222)\" cx=\"932.869\" cy=\"476.874\" r=\"14.4\" fill=\"#009af9\" fill-rule=\"evenodd\" fill-opacity=\"1\" stroke=\"#000000\" stroke-opacity=\"1\" stroke-width=\"2.4\"/>\n",
       "<circle clip-path=\"url(#clip222)\" cx=\"1402.64\" cy=\"435.644\" r=\"14.4\" fill=\"#009af9\" fill-rule=\"evenodd\" fill-opacity=\"1\" stroke=\"#000000\" stroke-opacity=\"1\" stroke-width=\"2.4\"/>\n",
       "<circle clip-path=\"url(#clip222)\" cx=\"1443\" cy=\"391.913\" r=\"14.4\" fill=\"#009af9\" fill-rule=\"evenodd\" fill-opacity=\"1\" stroke=\"#000000\" stroke-opacity=\"1\" stroke-width=\"2.4\"/>\n",
       "<circle clip-path=\"url(#clip222)\" cx=\"641.962\" cy=\"515.325\" r=\"14.4\" fill=\"#009af9\" fill-rule=\"evenodd\" fill-opacity=\"1\" stroke=\"#000000\" stroke-opacity=\"1\" stroke-width=\"2.4\"/>\n",
       "<circle clip-path=\"url(#clip222)\" cx=\"1443.66\" cy=\"598.258\" r=\"14.4\" fill=\"#009af9\" fill-rule=\"evenodd\" fill-opacity=\"1\" stroke=\"#000000\" stroke-opacity=\"1\" stroke-width=\"2.4\"/>\n",
       "<circle clip-path=\"url(#clip222)\" cx=\"711.751\" cy=\"654.233\" r=\"14.4\" fill=\"#009af9\" fill-rule=\"evenodd\" fill-opacity=\"1\" stroke=\"#000000\" stroke-opacity=\"1\" stroke-width=\"2.4\"/>\n",
       "<circle clip-path=\"url(#clip222)\" cx=\"1324.73\" cy=\"667.567\" r=\"14.4\" fill=\"#009af9\" fill-rule=\"evenodd\" fill-opacity=\"1\" stroke=\"#000000\" stroke-opacity=\"1\" stroke-width=\"2.4\"/>\n",
       "<circle clip-path=\"url(#clip222)\" cx=\"653.973\" cy=\"389.16\" r=\"14.4\" fill=\"#009af9\" fill-rule=\"evenodd\" fill-opacity=\"1\" stroke=\"#000000\" stroke-opacity=\"1\" stroke-width=\"2.4\"/>\n",
       "<circle clip-path=\"url(#clip222)\" cx=\"1392.03\" cy=\"553.918\" r=\"14.4\" fill=\"#009af9\" fill-rule=\"evenodd\" fill-opacity=\"1\" stroke=\"#000000\" stroke-opacity=\"1\" stroke-width=\"2.4\"/>\n",
       "<circle clip-path=\"url(#clip222)\" cx=\"1412.53\" cy=\"357.386\" r=\"14.4\" fill=\"#009af9\" fill-rule=\"evenodd\" fill-opacity=\"1\" stroke=\"#000000\" stroke-opacity=\"1\" stroke-width=\"2.4\"/>\n",
       "<circle clip-path=\"url(#clip222)\" cx=\"1642.08\" cy=\"612.54\" r=\"14.4\" fill=\"#009af9\" fill-rule=\"evenodd\" fill-opacity=\"1\" stroke=\"#000000\" stroke-opacity=\"1\" stroke-width=\"2.4\"/>\n",
       "<circle clip-path=\"url(#clip222)\" cx=\"840.946\" cy=\"689.903\" r=\"14.4\" fill=\"#009af9\" fill-rule=\"evenodd\" fill-opacity=\"1\" stroke=\"#000000\" stroke-opacity=\"1\" stroke-width=\"2.4\"/>\n",
       "<circle clip-path=\"url(#clip222)\" cx=\"1400.25\" cy=\"542.722\" r=\"14.4\" fill=\"#009af9\" fill-rule=\"evenodd\" fill-opacity=\"1\" stroke=\"#000000\" stroke-opacity=\"1\" stroke-width=\"2.4\"/>\n",
       "<circle clip-path=\"url(#clip222)\" cx=\"609.894\" cy=\"400.02\" r=\"14.4\" fill=\"#009af9\" fill-rule=\"evenodd\" fill-opacity=\"1\" stroke=\"#000000\" stroke-opacity=\"1\" stroke-width=\"2.4\"/>\n",
       "<circle clip-path=\"url(#clip222)\" cx=\"1341.61\" cy=\"619.002\" r=\"14.4\" fill=\"#009af9\" fill-rule=\"evenodd\" fill-opacity=\"1\" stroke=\"#000000\" stroke-opacity=\"1\" stroke-width=\"2.4\"/>\n",
       "<circle clip-path=\"url(#clip222)\" cx=\"688.741\" cy=\"582.081\" r=\"14.4\" fill=\"#009af9\" fill-rule=\"evenodd\" fill-opacity=\"1\" stroke=\"#000000\" stroke-opacity=\"1\" stroke-width=\"2.4\"/>\n",
       "<circle clip-path=\"url(#clip222)\" cx=\"818.796\" cy=\"465.441\" r=\"14.4\" fill=\"#009af9\" fill-rule=\"evenodd\" fill-opacity=\"1\" stroke=\"#000000\" stroke-opacity=\"1\" stroke-width=\"2.4\"/>\n",
       "<circle clip-path=\"url(#clip222)\" cx=\"1247.18\" cy=\"702.36\" r=\"14.4\" fill=\"#009af9\" fill-rule=\"evenodd\" fill-opacity=\"1\" stroke=\"#000000\" stroke-opacity=\"1\" stroke-width=\"2.4\"/>\n",
       "<circle clip-path=\"url(#clip222)\" cx=\"1403.49\" cy=\"499.23\" r=\"14.4\" fill=\"#009af9\" fill-rule=\"evenodd\" fill-opacity=\"1\" stroke=\"#000000\" stroke-opacity=\"1\" stroke-width=\"2.4\"/>\n",
       "<circle clip-path=\"url(#clip222)\" cx=\"1323.38\" cy=\"738.044\" r=\"14.4\" fill=\"#009af9\" fill-rule=\"evenodd\" fill-opacity=\"1\" stroke=\"#000000\" stroke-opacity=\"1\" stroke-width=\"2.4\"/>\n",
       "<circle clip-path=\"url(#clip222)\" cx=\"1506.65\" cy=\"416.854\" r=\"14.4\" fill=\"#009af9\" fill-rule=\"evenodd\" fill-opacity=\"1\" stroke=\"#000000\" stroke-opacity=\"1\" stroke-width=\"2.4\"/>\n",
       "<circle clip-path=\"url(#clip222)\" cx=\"861.244\" cy=\"496.833\" r=\"14.4\" fill=\"#009af9\" fill-rule=\"evenodd\" fill-opacity=\"1\" stroke=\"#000000\" stroke-opacity=\"1\" stroke-width=\"2.4\"/>\n",
       "<circle clip-path=\"url(#clip222)\" cx=\"1480.92\" cy=\"675.847\" r=\"14.4\" fill=\"#009af9\" fill-rule=\"evenodd\" fill-opacity=\"1\" stroke=\"#000000\" stroke-opacity=\"1\" stroke-width=\"2.4\"/>\n",
       "<circle clip-path=\"url(#clip222)\" cx=\"736.204\" cy=\"677.317\" r=\"14.4\" fill=\"#009af9\" fill-rule=\"evenodd\" fill-opacity=\"1\" stroke=\"#000000\" stroke-opacity=\"1\" stroke-width=\"2.4\"/>\n",
       "<circle clip-path=\"url(#clip222)\" cx=\"1476.42\" cy=\"554.738\" r=\"14.4\" fill=\"#009af9\" fill-rule=\"evenodd\" fill-opacity=\"1\" stroke=\"#000000\" stroke-opacity=\"1\" stroke-width=\"2.4\"/>\n",
       "<circle clip-path=\"url(#clip222)\" cx=\"1355.5\" cy=\"614.204\" r=\"14.4\" fill=\"#009af9\" fill-rule=\"evenodd\" fill-opacity=\"1\" stroke=\"#000000\" stroke-opacity=\"1\" stroke-width=\"2.4\"/>\n",
       "<circle clip-path=\"url(#clip222)\" cx=\"883.163\" cy=\"459.16\" r=\"14.4\" fill=\"#009af9\" fill-rule=\"evenodd\" fill-opacity=\"1\" stroke=\"#000000\" stroke-opacity=\"1\" stroke-width=\"2.4\"/>\n",
       "<circle clip-path=\"url(#clip222)\" cx=\"1547.39\" cy=\"521.494\" r=\"14.4\" fill=\"#009af9\" fill-rule=\"evenodd\" fill-opacity=\"1\" stroke=\"#000000\" stroke-opacity=\"1\" stroke-width=\"2.4\"/>\n",
       "<circle clip-path=\"url(#clip222)\" cx=\"1494.08\" cy=\"878.205\" r=\"14.4\" fill=\"#009af9\" fill-rule=\"evenodd\" fill-opacity=\"1\" stroke=\"#000000\" stroke-opacity=\"1\" stroke-width=\"2.4\"/>\n",
       "<circle clip-path=\"url(#clip222)\" cx=\"718.26\" cy=\"439.32\" r=\"14.4\" fill=\"#009af9\" fill-rule=\"evenodd\" fill-opacity=\"1\" stroke=\"#000000\" stroke-opacity=\"1\" stroke-width=\"2.4\"/>\n",
       "<circle clip-path=\"url(#clip222)\" cx=\"548.65\" cy=\"449.079\" r=\"14.4\" fill=\"#009af9\" fill-rule=\"evenodd\" fill-opacity=\"1\" stroke=\"#000000\" stroke-opacity=\"1\" stroke-width=\"2.4\"/>\n",
       "<circle clip-path=\"url(#clip222)\" cx=\"667.622\" cy=\"606.739\" r=\"14.4\" fill=\"#009af9\" fill-rule=\"evenodd\" fill-opacity=\"1\" stroke=\"#000000\" stroke-opacity=\"1\" stroke-width=\"2.4\"/>\n",
       "<circle clip-path=\"url(#clip222)\" cx=\"884.085\" cy=\"449.404\" r=\"14.4\" fill=\"#009af9\" fill-rule=\"evenodd\" fill-opacity=\"1\" stroke=\"#000000\" stroke-opacity=\"1\" stroke-width=\"2.4\"/>\n",
       "<circle clip-path=\"url(#clip222)\" cx=\"1291.43\" cy=\"395.719\" r=\"14.4\" fill=\"#009af9\" fill-rule=\"evenodd\" fill-opacity=\"1\" stroke=\"#000000\" stroke-opacity=\"1\" stroke-width=\"2.4\"/>\n",
       "<circle clip-path=\"url(#clip222)\" cx=\"1275.04\" cy=\"452.56\" r=\"14.4\" fill=\"#009af9\" fill-rule=\"evenodd\" fill-opacity=\"1\" stroke=\"#000000\" stroke-opacity=\"1\" stroke-width=\"2.4\"/>\n",
       "<circle clip-path=\"url(#clip222)\" cx=\"1521.45\" cy=\"431.205\" r=\"14.4\" fill=\"#009af9\" fill-rule=\"evenodd\" fill-opacity=\"1\" stroke=\"#000000\" stroke-opacity=\"1\" stroke-width=\"2.4\"/>\n",
       "<circle clip-path=\"url(#clip222)\" cx=\"808.757\" cy=\"523.923\" r=\"14.4\" fill=\"#009af9\" fill-rule=\"evenodd\" fill-opacity=\"1\" stroke=\"#000000\" stroke-opacity=\"1\" stroke-width=\"2.4\"/>\n",
       "<circle clip-path=\"url(#clip222)\" cx=\"636.757\" cy=\"618.297\" r=\"14.4\" fill=\"#009af9\" fill-rule=\"evenodd\" fill-opacity=\"1\" stroke=\"#000000\" stroke-opacity=\"1\" stroke-width=\"2.4\"/>\n",
       "<circle clip-path=\"url(#clip222)\" cx=\"1398.52\" cy=\"485.833\" r=\"14.4\" fill=\"#009af9\" fill-rule=\"evenodd\" fill-opacity=\"1\" stroke=\"#000000\" stroke-opacity=\"1\" stroke-width=\"2.4\"/>\n",
       "<circle clip-path=\"url(#clip222)\" cx=\"1285.5\" cy=\"401.535\" r=\"14.4\" fill=\"#009af9\" fill-rule=\"evenodd\" fill-opacity=\"1\" stroke=\"#000000\" stroke-opacity=\"1\" stroke-width=\"2.4\"/>\n",
       "<circle clip-path=\"url(#clip222)\" cx=\"1543.17\" cy=\"416.306\" r=\"14.4\" fill=\"#009af9\" fill-rule=\"evenodd\" fill-opacity=\"1\" stroke=\"#000000\" stroke-opacity=\"1\" stroke-width=\"2.4\"/>\n",
       "<circle clip-path=\"url(#clip222)\" cx=\"1462.22\" cy=\"536.622\" r=\"14.4\" fill=\"#009af9\" fill-rule=\"evenodd\" fill-opacity=\"1\" stroke=\"#000000\" stroke-opacity=\"1\" stroke-width=\"2.4\"/>\n",
       "<circle clip-path=\"url(#clip222)\" cx=\"723.931\" cy=\"427.159\" r=\"14.4\" fill=\"#009af9\" fill-rule=\"evenodd\" fill-opacity=\"1\" stroke=\"#000000\" stroke-opacity=\"1\" stroke-width=\"2.4\"/>\n",
       "<circle clip-path=\"url(#clip222)\" cx=\"692.277\" cy=\"615.591\" r=\"14.4\" fill=\"#009af9\" fill-rule=\"evenodd\" fill-opacity=\"1\" stroke=\"#000000\" stroke-opacity=\"1\" stroke-width=\"2.4\"/>\n",
       "<circle clip-path=\"url(#clip222)\" cx=\"814.036\" cy=\"659.542\" r=\"14.4\" fill=\"#009af9\" fill-rule=\"evenodd\" fill-opacity=\"1\" stroke=\"#000000\" stroke-opacity=\"1\" stroke-width=\"2.4\"/>\n",
       "<circle clip-path=\"url(#clip222)\" cx=\"1586.89\" cy=\"568.126\" r=\"14.4\" fill=\"#009af9\" fill-rule=\"evenodd\" fill-opacity=\"1\" stroke=\"#000000\" stroke-opacity=\"1\" stroke-width=\"2.4\"/>\n",
       "<circle clip-path=\"url(#clip222)\" cx=\"1407.93\" cy=\"557.564\" r=\"14.4\" fill=\"#009af9\" fill-rule=\"evenodd\" fill-opacity=\"1\" stroke=\"#000000\" stroke-opacity=\"1\" stroke-width=\"2.4\"/>\n",
       "<circle clip-path=\"url(#clip222)\" cx=\"1420.2\" cy=\"416.188\" r=\"14.4\" fill=\"#009af9\" fill-rule=\"evenodd\" fill-opacity=\"1\" stroke=\"#000000\" stroke-opacity=\"1\" stroke-width=\"2.4\"/>\n",
       "<circle clip-path=\"url(#clip222)\" cx=\"724.549\" cy=\"586.814\" r=\"14.4\" fill=\"#009af9\" fill-rule=\"evenodd\" fill-opacity=\"1\" stroke=\"#000000\" stroke-opacity=\"1\" stroke-width=\"2.4\"/>\n",
       "<circle clip-path=\"url(#clip222)\" cx=\"1400.36\" cy=\"628.876\" r=\"14.4\" fill=\"#009af9\" fill-rule=\"evenodd\" fill-opacity=\"1\" stroke=\"#000000\" stroke-opacity=\"1\" stroke-width=\"2.4\"/>\n",
       "<circle clip-path=\"url(#clip222)\" cx=\"726.735\" cy=\"807.979\" r=\"14.4\" fill=\"#009af9\" fill-rule=\"evenodd\" fill-opacity=\"1\" stroke=\"#000000\" stroke-opacity=\"1\" stroke-width=\"2.4\"/>\n",
       "<circle clip-path=\"url(#clip222)\" cx=\"631.303\" cy=\"596.208\" r=\"14.4\" fill=\"#009af9\" fill-rule=\"evenodd\" fill-opacity=\"1\" stroke=\"#000000\" stroke-opacity=\"1\" stroke-width=\"2.4\"/>\n",
       "<circle clip-path=\"url(#clip222)\" cx=\"1459.33\" cy=\"599.513\" r=\"14.4\" fill=\"#009af9\" fill-rule=\"evenodd\" fill-opacity=\"1\" stroke=\"#000000\" stroke-opacity=\"1\" stroke-width=\"2.4\"/>\n",
       "<circle clip-path=\"url(#clip222)\" cx=\"785.008\" cy=\"495.022\" r=\"14.4\" fill=\"#009af9\" fill-rule=\"evenodd\" fill-opacity=\"1\" stroke=\"#000000\" stroke-opacity=\"1\" stroke-width=\"2.4\"/>\n",
       "<circle clip-path=\"url(#clip222)\" cx=\"670.224\" cy=\"425.605\" r=\"14.4\" fill=\"#009af9\" fill-rule=\"evenodd\" fill-opacity=\"1\" stroke=\"#000000\" stroke-opacity=\"1\" stroke-width=\"2.4\"/>\n",
       "<circle clip-path=\"url(#clip222)\" cx=\"581.141\" cy=\"468.595\" r=\"14.4\" fill=\"#009af9\" fill-rule=\"evenodd\" fill-opacity=\"1\" stroke=\"#000000\" stroke-opacity=\"1\" stroke-width=\"2.4\"/>\n",
       "<circle clip-path=\"url(#clip222)\" cx=\"1546.7\" cy=\"527.121\" r=\"14.4\" fill=\"#009af9\" fill-rule=\"evenodd\" fill-opacity=\"1\" stroke=\"#000000\" stroke-opacity=\"1\" stroke-width=\"2.4\"/>\n",
       "<circle clip-path=\"url(#clip222)\" cx=\"1360.25\" cy=\"326.992\" r=\"14.4\" fill=\"#009af9\" fill-rule=\"evenodd\" fill-opacity=\"1\" stroke=\"#000000\" stroke-opacity=\"1\" stroke-width=\"2.4\"/>\n",
       "<circle clip-path=\"url(#clip222)\" cx=\"1360.35\" cy=\"505.643\" r=\"14.4\" fill=\"#009af9\" fill-rule=\"evenodd\" fill-opacity=\"1\" stroke=\"#000000\" stroke-opacity=\"1\" stroke-width=\"2.4\"/>\n",
       "<circle clip-path=\"url(#clip222)\" cx=\"1348.3\" cy=\"909.16\" r=\"14.4\" fill=\"#009af9\" fill-rule=\"evenodd\" fill-opacity=\"1\" stroke=\"#000000\" stroke-opacity=\"1\" stroke-width=\"2.4\"/>\n",
       "<circle clip-path=\"url(#clip222)\" cx=\"580.418\" cy=\"489.152\" r=\"14.4\" fill=\"#009af9\" fill-rule=\"evenodd\" fill-opacity=\"1\" stroke=\"#000000\" stroke-opacity=\"1\" stroke-width=\"2.4\"/>\n",
       "<circle clip-path=\"url(#clip222)\" cx=\"596.08\" cy=\"574.185\" r=\"14.4\" fill=\"#009af9\" fill-rule=\"evenodd\" fill-opacity=\"1\" stroke=\"#000000\" stroke-opacity=\"1\" stroke-width=\"2.4\"/>\n",
       "<circle clip-path=\"url(#clip222)\" cx=\"850.617\" cy=\"577.275\" r=\"14.4\" fill=\"#009af9\" fill-rule=\"evenodd\" fill-opacity=\"1\" stroke=\"#000000\" stroke-opacity=\"1\" stroke-width=\"2.4\"/>\n",
       "<circle clip-path=\"url(#clip222)\" cx=\"1442.83\" cy=\"870.149\" r=\"14.4\" fill=\"#009af9\" fill-rule=\"evenodd\" fill-opacity=\"1\" stroke=\"#000000\" stroke-opacity=\"1\" stroke-width=\"2.4\"/>\n",
       "<circle clip-path=\"url(#clip222)\" cx=\"897.828\" cy=\"531.842\" r=\"14.4\" fill=\"#009af9\" fill-rule=\"evenodd\" fill-opacity=\"1\" stroke=\"#000000\" stroke-opacity=\"1\" stroke-width=\"2.4\"/>\n",
       "<circle clip-path=\"url(#clip222)\" cx=\"1393.22\" cy=\"538.528\" r=\"14.4\" fill=\"#009af9\" fill-rule=\"evenodd\" fill-opacity=\"1\" stroke=\"#000000\" stroke-opacity=\"1\" stroke-width=\"2.4\"/>\n",
       "<circle clip-path=\"url(#clip222)\" cx=\"645.774\" cy=\"411.272\" r=\"14.4\" fill=\"#009af9\" fill-rule=\"evenodd\" fill-opacity=\"1\" stroke=\"#000000\" stroke-opacity=\"1\" stroke-width=\"2.4\"/>\n",
       "<circle clip-path=\"url(#clip222)\" cx=\"805.285\" cy=\"512.992\" r=\"14.4\" fill=\"#009af9\" fill-rule=\"evenodd\" fill-opacity=\"1\" stroke=\"#000000\" stroke-opacity=\"1\" stroke-width=\"2.4\"/>\n",
       "<circle clip-path=\"url(#clip222)\" cx=\"1379.27\" cy=\"732.03\" r=\"14.4\" fill=\"#009af9\" fill-rule=\"evenodd\" fill-opacity=\"1\" stroke=\"#000000\" stroke-opacity=\"1\" stroke-width=\"2.4\"/>\n",
       "<circle clip-path=\"url(#clip222)\" cx=\"1297.91\" cy=\"490.701\" r=\"14.4\" fill=\"#009af9\" fill-rule=\"evenodd\" fill-opacity=\"1\" stroke=\"#000000\" stroke-opacity=\"1\" stroke-width=\"2.4\"/>\n",
       "<circle clip-path=\"url(#clip222)\" cx=\"806.385\" cy=\"714.363\" r=\"14.4\" fill=\"#009af9\" fill-rule=\"evenodd\" fill-opacity=\"1\" stroke=\"#000000\" stroke-opacity=\"1\" stroke-width=\"2.4\"/>\n",
       "<circle clip-path=\"url(#clip222)\" cx=\"864.712\" cy=\"851.518\" r=\"14.4\" fill=\"#009af9\" fill-rule=\"evenodd\" fill-opacity=\"1\" stroke=\"#000000\" stroke-opacity=\"1\" stroke-width=\"2.4\"/>\n",
       "<circle clip-path=\"url(#clip222)\" cx=\"721.567\" cy=\"620.357\" r=\"14.4\" fill=\"#009af9\" fill-rule=\"evenodd\" fill-opacity=\"1\" stroke=\"#000000\" stroke-opacity=\"1\" stroke-width=\"2.4\"/>\n",
       "<circle clip-path=\"url(#clip222)\" cx=\"1422.22\" cy=\"738.527\" r=\"14.4\" fill=\"#009af9\" fill-rule=\"evenodd\" fill-opacity=\"1\" stroke=\"#000000\" stroke-opacity=\"1\" stroke-width=\"2.4\"/>\n",
       "<circle clip-path=\"url(#clip222)\" cx=\"733.796\" cy=\"525.169\" r=\"14.4\" fill=\"#009af9\" fill-rule=\"evenodd\" fill-opacity=\"1\" stroke=\"#000000\" stroke-opacity=\"1\" stroke-width=\"2.4\"/>\n",
       "<circle clip-path=\"url(#clip222)\" cx=\"727.097\" cy=\"637.922\" r=\"14.4\" fill=\"#009af9\" fill-rule=\"evenodd\" fill-opacity=\"1\" stroke=\"#000000\" stroke-opacity=\"1\" stroke-width=\"2.4\"/>\n",
       "<circle clip-path=\"url(#clip222)\" cx=\"617.816\" cy=\"475.013\" r=\"14.4\" fill=\"#009af9\" fill-rule=\"evenodd\" fill-opacity=\"1\" stroke=\"#000000\" stroke-opacity=\"1\" stroke-width=\"2.4\"/>\n",
       "<circle clip-path=\"url(#clip222)\" cx=\"1562.48\" cy=\"458.731\" r=\"14.4\" fill=\"#009af9\" fill-rule=\"evenodd\" fill-opacity=\"1\" stroke=\"#000000\" stroke-opacity=\"1\" stroke-width=\"2.4\"/>\n",
       "<circle clip-path=\"url(#clip222)\" cx=\"1388.1\" cy=\"593.092\" r=\"14.4\" fill=\"#009af9\" fill-rule=\"evenodd\" fill-opacity=\"1\" stroke=\"#000000\" stroke-opacity=\"1\" stroke-width=\"2.4\"/>\n",
       "<circle clip-path=\"url(#clip222)\" cx=\"1424.37\" cy=\"673.196\" r=\"14.4\" fill=\"#009af9\" fill-rule=\"evenodd\" fill-opacity=\"1\" stroke=\"#000000\" stroke-opacity=\"1\" stroke-width=\"2.4\"/>\n",
       "<circle clip-path=\"url(#clip222)\" cx=\"1426.84\" cy=\"447.833\" r=\"14.4\" fill=\"#009af9\" fill-rule=\"evenodd\" fill-opacity=\"1\" stroke=\"#000000\" stroke-opacity=\"1\" stroke-width=\"2.4\"/>\n",
       "<circle clip-path=\"url(#clip222)\" cx=\"867.707\" cy=\"479.555\" r=\"14.4\" fill=\"#009af9\" fill-rule=\"evenodd\" fill-opacity=\"1\" stroke=\"#000000\" stroke-opacity=\"1\" stroke-width=\"2.4\"/>\n",
       "<circle clip-path=\"url(#clip222)\" cx=\"594.867\" cy=\"427.814\" r=\"14.4\" fill=\"#009af9\" fill-rule=\"evenodd\" fill-opacity=\"1\" stroke=\"#000000\" stroke-opacity=\"1\" stroke-width=\"2.4\"/>\n",
       "<circle clip-path=\"url(#clip222)\" cx=\"834.672\" cy=\"485.942\" r=\"14.4\" fill=\"#009af9\" fill-rule=\"evenodd\" fill-opacity=\"1\" stroke=\"#000000\" stroke-opacity=\"1\" stroke-width=\"2.4\"/>\n",
       "<circle clip-path=\"url(#clip222)\" cx=\"1340.15\" cy=\"448.292\" r=\"14.4\" fill=\"#009af9\" fill-rule=\"evenodd\" fill-opacity=\"1\" stroke=\"#000000\" stroke-opacity=\"1\" stroke-width=\"2.4\"/>\n",
       "<circle clip-path=\"url(#clip222)\" cx=\"1388.84\" cy=\"716.266\" r=\"14.4\" fill=\"#009af9\" fill-rule=\"evenodd\" fill-opacity=\"1\" stroke=\"#000000\" stroke-opacity=\"1\" stroke-width=\"2.4\"/>\n",
       "<circle clip-path=\"url(#clip222)\" cx=\"638.723\" cy=\"653.757\" r=\"14.4\" fill=\"#009af9\" fill-rule=\"evenodd\" fill-opacity=\"1\" stroke=\"#000000\" stroke-opacity=\"1\" stroke-width=\"2.4\"/>\n",
       "<circle clip-path=\"url(#clip222)\" cx=\"1489.82\" cy=\"502.034\" r=\"14.4\" fill=\"#009af9\" fill-rule=\"evenodd\" fill-opacity=\"1\" stroke=\"#000000\" stroke-opacity=\"1\" stroke-width=\"2.4\"/>\n",
       "<circle clip-path=\"url(#clip222)\" cx=\"574.001\" cy=\"559.05\" r=\"14.4\" fill=\"#009af9\" fill-rule=\"evenodd\" fill-opacity=\"1\" stroke=\"#000000\" stroke-opacity=\"1\" stroke-width=\"2.4\"/>\n",
       "<circle clip-path=\"url(#clip222)\" cx=\"584.084\" cy=\"437.79\" r=\"14.4\" fill=\"#009af9\" fill-rule=\"evenodd\" fill-opacity=\"1\" stroke=\"#000000\" stroke-opacity=\"1\" stroke-width=\"2.4\"/>\n",
       "<circle clip-path=\"url(#clip222)\" cx=\"762.778\" cy=\"458.977\" r=\"14.4\" fill=\"#009af9\" fill-rule=\"evenodd\" fill-opacity=\"1\" stroke=\"#000000\" stroke-opacity=\"1\" stroke-width=\"2.4\"/>\n",
       "<circle clip-path=\"url(#clip222)\" cx=\"710.537\" cy=\"403.313\" r=\"14.4\" fill=\"#009af9\" fill-rule=\"evenodd\" fill-opacity=\"1\" stroke=\"#000000\" stroke-opacity=\"1\" stroke-width=\"2.4\"/>\n",
       "<circle clip-path=\"url(#clip222)\" cx=\"913.364\" cy=\"607.105\" r=\"14.4\" fill=\"#009af9\" fill-rule=\"evenodd\" fill-opacity=\"1\" stroke=\"#000000\" stroke-opacity=\"1\" stroke-width=\"2.4\"/>\n",
       "<circle clip-path=\"url(#clip222)\" cx=\"651.785\" cy=\"607.943\" r=\"14.4\" fill=\"#009af9\" fill-rule=\"evenodd\" fill-opacity=\"1\" stroke=\"#000000\" stroke-opacity=\"1\" stroke-width=\"2.4\"/>\n",
       "<circle clip-path=\"url(#clip222)\" cx=\"664.95\" cy=\"535.168\" r=\"14.4\" fill=\"#009af9\" fill-rule=\"evenodd\" fill-opacity=\"1\" stroke=\"#000000\" stroke-opacity=\"1\" stroke-width=\"2.4\"/>\n",
       "<circle clip-path=\"url(#clip222)\" cx=\"751.568\" cy=\"472.665\" r=\"14.4\" fill=\"#009af9\" fill-rule=\"evenodd\" fill-opacity=\"1\" stroke=\"#000000\" stroke-opacity=\"1\" stroke-width=\"2.4\"/>\n",
       "<circle clip-path=\"url(#clip222)\" cx=\"1364.95\" cy=\"760.45\" r=\"14.4\" fill=\"#009af9\" fill-rule=\"evenodd\" fill-opacity=\"1\" stroke=\"#000000\" stroke-opacity=\"1\" stroke-width=\"2.4\"/>\n",
       "<circle clip-path=\"url(#clip222)\" cx=\"850.695\" cy=\"456.432\" r=\"14.4\" fill=\"#009af9\" fill-rule=\"evenodd\" fill-opacity=\"1\" stroke=\"#000000\" stroke-opacity=\"1\" stroke-width=\"2.4\"/>\n",
       "<circle clip-path=\"url(#clip222)\" cx=\"1629.36\" cy=\"635.397\" r=\"14.4\" fill=\"#009af9\" fill-rule=\"evenodd\" fill-opacity=\"1\" stroke=\"#000000\" stroke-opacity=\"1\" stroke-width=\"2.4\"/>\n",
       "<circle clip-path=\"url(#clip222)\" cx=\"1405.75\" cy=\"581.812\" r=\"14.4\" fill=\"#009af9\" fill-rule=\"evenodd\" fill-opacity=\"1\" stroke=\"#000000\" stroke-opacity=\"1\" stroke-width=\"2.4\"/>\n",
       "<circle clip-path=\"url(#clip222)\" cx=\"1328.48\" cy=\"548.618\" r=\"14.4\" fill=\"#009af9\" fill-rule=\"evenodd\" fill-opacity=\"1\" stroke=\"#000000\" stroke-opacity=\"1\" stroke-width=\"2.4\"/>\n",
       "<circle clip-path=\"url(#clip222)\" cx=\"1368.24\" cy=\"528.057\" r=\"14.4\" fill=\"#009af9\" fill-rule=\"evenodd\" fill-opacity=\"1\" stroke=\"#000000\" stroke-opacity=\"1\" stroke-width=\"2.4\"/>\n",
       "<circle clip-path=\"url(#clip222)\" cx=\"1314.8\" cy=\"714.24\" r=\"14.4\" fill=\"#009af9\" fill-rule=\"evenodd\" fill-opacity=\"1\" stroke=\"#000000\" stroke-opacity=\"1\" stroke-width=\"2.4\"/>\n",
       "<circle clip-path=\"url(#clip222)\" cx=\"1511.81\" cy=\"690.223\" r=\"14.4\" fill=\"#009af9\" fill-rule=\"evenodd\" fill-opacity=\"1\" stroke=\"#000000\" stroke-opacity=\"1\" stroke-width=\"2.4\"/>\n",
       "<circle clip-path=\"url(#clip222)\" cx=\"1287.67\" cy=\"438.521\" r=\"14.4\" fill=\"#009af9\" fill-rule=\"evenodd\" fill-opacity=\"1\" stroke=\"#000000\" stroke-opacity=\"1\" stroke-width=\"2.4\"/>\n",
       "<circle clip-path=\"url(#clip222)\" cx=\"1515.71\" cy=\"461.382\" r=\"14.4\" fill=\"#009af9\" fill-rule=\"evenodd\" fill-opacity=\"1\" stroke=\"#000000\" stroke-opacity=\"1\" stroke-width=\"2.4\"/>\n",
       "<circle clip-path=\"url(#clip222)\" cx=\"1308.38\" cy=\"420.252\" r=\"14.4\" fill=\"#009af9\" fill-rule=\"evenodd\" fill-opacity=\"1\" stroke=\"#000000\" stroke-opacity=\"1\" stroke-width=\"2.4\"/>\n",
       "<circle clip-path=\"url(#clip222)\" cx=\"701.525\" cy=\"737.098\" r=\"14.4\" fill=\"#009af9\" fill-rule=\"evenodd\" fill-opacity=\"1\" stroke=\"#000000\" stroke-opacity=\"1\" stroke-width=\"2.4\"/>\n",
       "<circle clip-path=\"url(#clip222)\" cx=\"765.43\" cy=\"318.648\" r=\"14.4\" fill=\"#009af9\" fill-rule=\"evenodd\" fill-opacity=\"1\" stroke=\"#000000\" stroke-opacity=\"1\" stroke-width=\"2.4\"/>\n",
       "<circle clip-path=\"url(#clip222)\" cx=\"1415.55\" cy=\"357.084\" r=\"14.4\" fill=\"#009af9\" fill-rule=\"evenodd\" fill-opacity=\"1\" stroke=\"#000000\" stroke-opacity=\"1\" stroke-width=\"2.4\"/>\n",
       "<circle clip-path=\"url(#clip222)\" cx=\"663.675\" cy=\"431.414\" r=\"14.4\" fill=\"#009af9\" fill-rule=\"evenodd\" fill-opacity=\"1\" stroke=\"#000000\" stroke-opacity=\"1\" stroke-width=\"2.4\"/>\n",
       "<circle clip-path=\"url(#clip222)\" cx=\"771.288\" cy=\"685.903\" r=\"14.4\" fill=\"#009af9\" fill-rule=\"evenodd\" fill-opacity=\"1\" stroke=\"#000000\" stroke-opacity=\"1\" stroke-width=\"2.4\"/>\n",
       "<circle clip-path=\"url(#clip222)\" cx=\"1481.96\" cy=\"594.862\" r=\"14.4\" fill=\"#009af9\" fill-rule=\"evenodd\" fill-opacity=\"1\" stroke=\"#000000\" stroke-opacity=\"1\" stroke-width=\"2.4\"/>\n",
       "<circle clip-path=\"url(#clip222)\" cx=\"1526.39\" cy=\"486.794\" r=\"14.4\" fill=\"#009af9\" fill-rule=\"evenodd\" fill-opacity=\"1\" stroke=\"#000000\" stroke-opacity=\"1\" stroke-width=\"2.4\"/>\n",
       "<circle clip-path=\"url(#clip222)\" cx=\"759.433\" cy=\"518.686\" r=\"14.4\" fill=\"#009af9\" fill-rule=\"evenodd\" fill-opacity=\"1\" stroke=\"#000000\" stroke-opacity=\"1\" stroke-width=\"2.4\"/>\n",
       "<circle clip-path=\"url(#clip222)\" cx=\"712.919\" cy=\"547.358\" r=\"14.4\" fill=\"#009af9\" fill-rule=\"evenodd\" fill-opacity=\"1\" stroke=\"#000000\" stroke-opacity=\"1\" stroke-width=\"2.4\"/>\n",
       "<circle clip-path=\"url(#clip222)\" cx=\"640.723\" cy=\"611.732\" r=\"14.4\" fill=\"#009af9\" fill-rule=\"evenodd\" fill-opacity=\"1\" stroke=\"#000000\" stroke-opacity=\"1\" stroke-width=\"2.4\"/>\n",
       "<circle clip-path=\"url(#clip222)\" cx=\"1357.25\" cy=\"534.338\" r=\"14.4\" fill=\"#009af9\" fill-rule=\"evenodd\" fill-opacity=\"1\" stroke=\"#000000\" stroke-opacity=\"1\" stroke-width=\"2.4\"/>\n",
       "<circle clip-path=\"url(#clip222)\" cx=\"1578.57\" cy=\"581.193\" r=\"14.4\" fill=\"#009af9\" fill-rule=\"evenodd\" fill-opacity=\"1\" stroke=\"#000000\" stroke-opacity=\"1\" stroke-width=\"2.4\"/>\n",
       "<circle clip-path=\"url(#clip222)\" cx=\"1585.89\" cy=\"545.275\" r=\"14.4\" fill=\"#009af9\" fill-rule=\"evenodd\" fill-opacity=\"1\" stroke=\"#000000\" stroke-opacity=\"1\" stroke-width=\"2.4\"/>\n",
       "<circle clip-path=\"url(#clip222)\" cx=\"667.028\" cy=\"438.465\" r=\"14.4\" fill=\"#009af9\" fill-rule=\"evenodd\" fill-opacity=\"1\" stroke=\"#000000\" stroke-opacity=\"1\" stroke-width=\"2.4\"/>\n",
       "<circle clip-path=\"url(#clip222)\" cx=\"660.918\" cy=\"460.793\" r=\"14.4\" fill=\"#009af9\" fill-rule=\"evenodd\" fill-opacity=\"1\" stroke=\"#000000\" stroke-opacity=\"1\" stroke-width=\"2.4\"/>\n",
       "<circle clip-path=\"url(#clip222)\" cx=\"745.624\" cy=\"430.703\" r=\"14.4\" fill=\"#009af9\" fill-rule=\"evenodd\" fill-opacity=\"1\" stroke=\"#000000\" stroke-opacity=\"1\" stroke-width=\"2.4\"/>\n",
       "<circle clip-path=\"url(#clip222)\" cx=\"865.552\" cy=\"414.426\" r=\"14.4\" fill=\"#009af9\" fill-rule=\"evenodd\" fill-opacity=\"1\" stroke=\"#000000\" stroke-opacity=\"1\" stroke-width=\"2.4\"/>\n",
       "<circle clip-path=\"url(#clip222)\" cx=\"1266.79\" cy=\"629.863\" r=\"14.4\" fill=\"#009af9\" fill-rule=\"evenodd\" fill-opacity=\"1\" stroke=\"#000000\" stroke-opacity=\"1\" stroke-width=\"2.4\"/>\n",
       "<circle clip-path=\"url(#clip222)\" cx=\"717.028\" cy=\"647.723\" r=\"14.4\" fill=\"#009af9\" fill-rule=\"evenodd\" fill-opacity=\"1\" stroke=\"#000000\" stroke-opacity=\"1\" stroke-width=\"2.4\"/>\n",
       "<circle clip-path=\"url(#clip222)\" cx=\"1548.93\" cy=\"499.551\" r=\"14.4\" fill=\"#009af9\" fill-rule=\"evenodd\" fill-opacity=\"1\" stroke=\"#000000\" stroke-opacity=\"1\" stroke-width=\"2.4\"/>\n",
       "<circle clip-path=\"url(#clip222)\" cx=\"756.618\" cy=\"755.815\" r=\"14.4\" fill=\"#009af9\" fill-rule=\"evenodd\" fill-opacity=\"1\" stroke=\"#000000\" stroke-opacity=\"1\" stroke-width=\"2.4\"/>\n",
       "<circle clip-path=\"url(#clip222)\" cx=\"1551.74\" cy=\"516.835\" r=\"14.4\" fill=\"#009af9\" fill-rule=\"evenodd\" fill-opacity=\"1\" stroke=\"#000000\" stroke-opacity=\"1\" stroke-width=\"2.4\"/>\n",
       "<circle clip-path=\"url(#clip222)\" cx=\"673.013\" cy=\"537.803\" r=\"14.4\" fill=\"#009af9\" fill-rule=\"evenodd\" fill-opacity=\"1\" stroke=\"#000000\" stroke-opacity=\"1\" stroke-width=\"2.4\"/>\n",
       "<circle clip-path=\"url(#clip222)\" cx=\"720.018\" cy=\"514.337\" r=\"14.4\" fill=\"#009af9\" fill-rule=\"evenodd\" fill-opacity=\"1\" stroke=\"#000000\" stroke-opacity=\"1\" stroke-width=\"2.4\"/>\n",
       "<circle clip-path=\"url(#clip222)\" cx=\"1600.28\" cy=\"507.024\" r=\"14.4\" fill=\"#009af9\" fill-rule=\"evenodd\" fill-opacity=\"1\" stroke=\"#000000\" stroke-opacity=\"1\" stroke-width=\"2.4\"/>\n",
       "<circle clip-path=\"url(#clip222)\" cx=\"1320.28\" cy=\"501.661\" r=\"14.4\" fill=\"#009af9\" fill-rule=\"evenodd\" fill-opacity=\"1\" stroke=\"#000000\" stroke-opacity=\"1\" stroke-width=\"2.4\"/>\n",
       "<circle clip-path=\"url(#clip222)\" cx=\"524.853\" cy=\"531.759\" r=\"14.4\" fill=\"#009af9\" fill-rule=\"evenodd\" fill-opacity=\"1\" stroke=\"#000000\" stroke-opacity=\"1\" stroke-width=\"2.4\"/>\n",
       "<circle clip-path=\"url(#clip222)\" cx=\"780.971\" cy=\"351.962\" r=\"14.4\" fill=\"#009af9\" fill-rule=\"evenodd\" fill-opacity=\"1\" stroke=\"#000000\" stroke-opacity=\"1\" stroke-width=\"2.4\"/>\n",
       "<circle clip-path=\"url(#clip222)\" cx=\"1329.03\" cy=\"424.387\" r=\"14.4\" fill=\"#009af9\" fill-rule=\"evenodd\" fill-opacity=\"1\" stroke=\"#000000\" stroke-opacity=\"1\" stroke-width=\"2.4\"/>\n",
       "<circle clip-path=\"url(#clip222)\" cx=\"743.683\" cy=\"590.824\" r=\"14.4\" fill=\"#009af9\" fill-rule=\"evenodd\" fill-opacity=\"1\" stroke=\"#000000\" stroke-opacity=\"1\" stroke-width=\"2.4\"/>\n",
       "<circle clip-path=\"url(#clip222)\" cx=\"1523.21\" cy=\"418.661\" r=\"14.4\" fill=\"#009af9\" fill-rule=\"evenodd\" fill-opacity=\"1\" stroke=\"#000000\" stroke-opacity=\"1\" stroke-width=\"2.4\"/>\n",
       "<circle clip-path=\"url(#clip222)\" cx=\"787.231\" cy=\"494.146\" r=\"14.4\" fill=\"#009af9\" fill-rule=\"evenodd\" fill-opacity=\"1\" stroke=\"#000000\" stroke-opacity=\"1\" stroke-width=\"2.4\"/>\n",
       "<circle clip-path=\"url(#clip222)\" cx=\"819.402\" cy=\"683.795\" r=\"14.4\" fill=\"#009af9\" fill-rule=\"evenodd\" fill-opacity=\"1\" stroke=\"#000000\" stroke-opacity=\"1\" stroke-width=\"2.4\"/>\n",
       "<circle clip-path=\"url(#clip222)\" cx=\"1484.5\" cy=\"474.889\" r=\"14.4\" fill=\"#009af9\" fill-rule=\"evenodd\" fill-opacity=\"1\" stroke=\"#000000\" stroke-opacity=\"1\" stroke-width=\"2.4\"/>\n",
       "<circle clip-path=\"url(#clip222)\" cx=\"1392.16\" cy=\"521.703\" r=\"14.4\" fill=\"#009af9\" fill-rule=\"evenodd\" fill-opacity=\"1\" stroke=\"#000000\" stroke-opacity=\"1\" stroke-width=\"2.4\"/>\n",
       "<circle clip-path=\"url(#clip222)\" cx=\"1480.05\" cy=\"542.593\" r=\"14.4\" fill=\"#009af9\" fill-rule=\"evenodd\" fill-opacity=\"1\" stroke=\"#000000\" stroke-opacity=\"1\" stroke-width=\"2.4\"/>\n",
       "<circle clip-path=\"url(#clip222)\" cx=\"1490.84\" cy=\"595.432\" r=\"14.4\" fill=\"#009af9\" fill-rule=\"evenodd\" fill-opacity=\"1\" stroke=\"#000000\" stroke-opacity=\"1\" stroke-width=\"2.4\"/>\n",
       "<circle clip-path=\"url(#clip222)\" cx=\"1557.7\" cy=\"569.506\" r=\"14.4\" fill=\"#009af9\" fill-rule=\"evenodd\" fill-opacity=\"1\" stroke=\"#000000\" stroke-opacity=\"1\" stroke-width=\"2.4\"/>\n",
       "<circle clip-path=\"url(#clip222)\" cx=\"1420.89\" cy=\"436.436\" r=\"14.4\" fill=\"#009af9\" fill-rule=\"evenodd\" fill-opacity=\"1\" stroke=\"#000000\" stroke-opacity=\"1\" stroke-width=\"2.4\"/>\n",
       "<circle clip-path=\"url(#clip222)\" cx=\"648.219\" cy=\"508.784\" r=\"14.4\" fill=\"#009af9\" fill-rule=\"evenodd\" fill-opacity=\"1\" stroke=\"#000000\" stroke-opacity=\"1\" stroke-width=\"2.4\"/>\n",
       "<circle clip-path=\"url(#clip222)\" cx=\"872.623\" cy=\"734.048\" r=\"14.4\" fill=\"#009af9\" fill-rule=\"evenodd\" fill-opacity=\"1\" stroke=\"#000000\" stroke-opacity=\"1\" stroke-width=\"2.4\"/>\n",
       "<circle clip-path=\"url(#clip222)\" cx=\"1440.97\" cy=\"559.07\" r=\"14.4\" fill=\"#009af9\" fill-rule=\"evenodd\" fill-opacity=\"1\" stroke=\"#000000\" stroke-opacity=\"1\" stroke-width=\"2.4\"/>\n",
       "<circle clip-path=\"url(#clip222)\" cx=\"1330.56\" cy=\"337.929\" r=\"14.4\" fill=\"#009af9\" fill-rule=\"evenodd\" fill-opacity=\"1\" stroke=\"#000000\" stroke-opacity=\"1\" stroke-width=\"2.4\"/>\n",
       "<circle clip-path=\"url(#clip222)\" cx=\"709.353\" cy=\"583.999\" r=\"14.4\" fill=\"#009af9\" fill-rule=\"evenodd\" fill-opacity=\"1\" stroke=\"#000000\" stroke-opacity=\"1\" stroke-width=\"2.4\"/>\n",
       "</svg>\n"
      ]
     },
     "metadata": {},
     "output_type": "display_data"
    }
   ],
   "source": [
    "pt = plot( emails_transformed[1,:], emails_transformed[2,:], xlims=(minimum_x,maximum_x), ylims=(minimum_y,maximum_y),\n",
    "        size=(500,300), title=\"emails transformed\", seriestype=:scatter, legend=false )\n",
    "display( pt )"
   ]
  },
  {
   "cell_type": "markdown",
   "metadata": {},
   "source": [
    "### now plot the transformation of the new emails with number annotations"
   ]
  },
  {
   "cell_type": "code",
   "execution_count": 31,
   "metadata": {},
   "outputs": [
    {
     "data": {
      "image/svg+xml": [
       "<?xml version=\"1.0\" encoding=\"utf-8\"?>\n",
       "<svg xmlns=\"http://www.w3.org/2000/svg\" xmlns:xlink=\"http://www.w3.org/1999/xlink\" width=\"500\" height=\"300\" viewBox=\"0 0 2000 1200\">\n",
       "<defs>\n",
       "  <clipPath id=\"clip260\">\n",
       "    <rect x=\"0\" y=\"0\" width=\"2000\" height=\"1200\"/>\n",
       "  </clipPath>\n",
       "</defs>\n",
       "<path clip-path=\"url(#clip260)\" d=\"M0 1200 L2000 1200 L2000 0 L0 0  Z\" fill=\"#ffffff\" fill-rule=\"evenodd\" fill-opacity=\"1\"/>\n",
       "<defs>\n",
       "  <clipPath id=\"clip261\">\n",
       "    <rect x=\"400\" y=\"0\" width=\"1401\" height=\"1200\"/>\n",
       "  </clipPath>\n",
       "</defs>\n",
       "<path clip-path=\"url(#clip260)\" d=\"M189.288 1093.9 L1952.76 1093.9 L1952.76 117.424 L189.288 117.424  Z\" fill=\"#ffffff\" fill-rule=\"evenodd\" fill-opacity=\"1\"/>\n",
       "<defs>\n",
       "  <clipPath id=\"clip262\">\n",
       "    <rect x=\"189\" y=\"117\" width=\"1764\" height=\"977\"/>\n",
       "  </clipPath>\n",
       "</defs>\n",
       "<polyline clip-path=\"url(#clip262)\" style=\"stroke:#000000; stroke-linecap:round; stroke-linejoin:round; stroke-width:2; stroke-opacity:0.1; fill:none\" points=\"472.722,1093.9 472.722,117.424 \"/>\n",
       "<polyline clip-path=\"url(#clip262)\" style=\"stroke:#000000; stroke-linecap:round; stroke-linejoin:round; stroke-width:2; stroke-opacity:0.1; fill:none\" points=\"783.395,1093.9 783.395,117.424 \"/>\n",
       "<polyline clip-path=\"url(#clip262)\" style=\"stroke:#000000; stroke-linecap:round; stroke-linejoin:round; stroke-width:2; stroke-opacity:0.1; fill:none\" points=\"1094.07,1093.9 1094.07,117.424 \"/>\n",
       "<polyline clip-path=\"url(#clip262)\" style=\"stroke:#000000; stroke-linecap:round; stroke-linejoin:round; stroke-width:2; stroke-opacity:0.1; fill:none\" points=\"1404.74,1093.9 1404.74,117.424 \"/>\n",
       "<polyline clip-path=\"url(#clip262)\" style=\"stroke:#000000; stroke-linecap:round; stroke-linejoin:round; stroke-width:2; stroke-opacity:0.1; fill:none\" points=\"1715.41,1093.9 1715.41,117.424 \"/>\n",
       "<polyline clip-path=\"url(#clip260)\" style=\"stroke:#000000; stroke-linecap:round; stroke-linejoin:round; stroke-width:4; stroke-opacity:1; fill:none\" points=\"189.288,1093.9 1952.76,1093.9 \"/>\n",
       "<polyline clip-path=\"url(#clip260)\" style=\"stroke:#000000; stroke-linecap:round; stroke-linejoin:round; stroke-width:4; stroke-opacity:1; fill:none\" points=\"472.722,1093.9 472.722,1075.01 \"/>\n",
       "<polyline clip-path=\"url(#clip260)\" style=\"stroke:#000000; stroke-linecap:round; stroke-linejoin:round; stroke-width:4; stroke-opacity:1; fill:none\" points=\"783.395,1093.9 783.395,1075.01 \"/>\n",
       "<polyline clip-path=\"url(#clip260)\" style=\"stroke:#000000; stroke-linecap:round; stroke-linejoin:round; stroke-width:4; stroke-opacity:1; fill:none\" points=\"1094.07,1093.9 1094.07,1075.01 \"/>\n",
       "<polyline clip-path=\"url(#clip260)\" style=\"stroke:#000000; stroke-linecap:round; stroke-linejoin:round; stroke-width:4; stroke-opacity:1; fill:none\" points=\"1404.74,1093.9 1404.74,1075.01 \"/>\n",
       "<polyline clip-path=\"url(#clip260)\" style=\"stroke:#000000; stroke-linecap:round; stroke-linejoin:round; stroke-width:4; stroke-opacity:1; fill:none\" points=\"1715.41,1093.9 1715.41,1075.01 \"/>\n",
       "<path clip-path=\"url(#clip260)\" d=\"M420.049 1136.28 L449.724 1136.28 L449.724 1140.21 L420.049 1140.21 L420.049 1136.28 Z\" fill=\"#000000\" fill-rule=\"nonzero\" fill-opacity=\"1\" /><path clip-path=\"url(#clip260)\" d=\"M469.817 1121.62 Q466.206 1121.62 464.377 1125.19 Q462.572 1128.73 462.572 1135.86 Q462.572 1142.97 464.377 1146.53 Q466.206 1150.07 469.817 1150.07 Q473.451 1150.07 475.257 1146.53 Q477.085 1142.97 477.085 1135.86 Q477.085 1128.73 475.257 1125.19 Q473.451 1121.62 469.817 1121.62 M469.817 1117.92 Q475.627 1117.92 478.683 1122.53 Q481.761 1127.11 481.761 1135.86 Q481.761 1144.59 478.683 1149.19 Q475.627 1153.78 469.817 1153.78 Q464.007 1153.78 460.928 1149.19 Q457.872 1144.59 457.872 1135.86 Q457.872 1127.11 460.928 1122.53 Q464.007 1117.92 469.817 1117.92 Z\" fill=\"#000000\" fill-rule=\"nonzero\" fill-opacity=\"1\" /><path clip-path=\"url(#clip260)\" d=\"M489.979 1147.22 L494.863 1147.22 L494.863 1153.1 L489.979 1153.1 L489.979 1147.22 Z\" fill=\"#000000\" fill-rule=\"nonzero\" fill-opacity=\"1\" /><path clip-path=\"url(#clip260)\" d=\"M509.076 1149.17 L525.395 1149.17 L525.395 1153.1 L503.451 1153.1 L503.451 1149.17 Q506.113 1146.41 510.696 1141.78 Q515.303 1137.13 516.483 1135.79 Q518.729 1133.27 519.608 1131.53 Q520.511 1129.77 520.511 1128.08 Q520.511 1125.33 518.567 1123.59 Q516.645 1121.85 513.543 1121.85 Q511.344 1121.85 508.891 1122.62 Q506.46 1123.38 503.682 1124.93 L503.682 1120.21 Q506.506 1119.08 508.96 1118.5 Q511.414 1117.92 513.451 1117.92 Q518.821 1117.92 522.016 1120.6 Q525.21 1123.29 525.21 1127.78 Q525.21 1129.91 524.4 1131.83 Q523.613 1133.73 521.506 1136.32 Q520.928 1136.99 517.826 1140.21 Q514.724 1143.4 509.076 1149.17 Z\" fill=\"#000000\" fill-rule=\"nonzero\" fill-opacity=\"1\" /><path clip-path=\"url(#clip260)\" d=\"M730.536 1136.28 L760.212 1136.28 L760.212 1140.21 L730.536 1140.21 L730.536 1136.28 Z\" fill=\"#000000\" fill-rule=\"nonzero\" fill-opacity=\"1\" /><path clip-path=\"url(#clip260)\" d=\"M780.305 1121.62 Q776.694 1121.62 774.865 1125.19 Q773.059 1128.73 773.059 1135.86 Q773.059 1142.97 774.865 1146.53 Q776.694 1150.07 780.305 1150.07 Q783.939 1150.07 785.744 1146.53 Q787.573 1142.97 787.573 1135.86 Q787.573 1128.73 785.744 1125.19 Q783.939 1121.62 780.305 1121.62 M780.305 1117.92 Q786.115 1117.92 789.17 1122.53 Q792.249 1127.11 792.249 1135.86 Q792.249 1144.59 789.17 1149.19 Q786.115 1153.78 780.305 1153.78 Q774.494 1153.78 771.416 1149.19 Q768.36 1144.59 768.36 1135.86 Q768.36 1127.11 771.416 1122.53 Q774.494 1117.92 780.305 1117.92 Z\" fill=\"#000000\" fill-rule=\"nonzero\" fill-opacity=\"1\" /><path clip-path=\"url(#clip260)\" d=\"M800.467 1147.22 L805.351 1147.22 L805.351 1153.1 L800.467 1153.1 L800.467 1147.22 Z\" fill=\"#000000\" fill-rule=\"nonzero\" fill-opacity=\"1\" /><path clip-path=\"url(#clip260)\" d=\"M816.346 1149.17 L823.985 1149.17 L823.985 1122.8 L815.675 1124.47 L815.675 1120.21 L823.939 1118.54 L828.615 1118.54 L828.615 1149.17 L836.253 1149.17 L836.253 1153.1 L816.346 1153.1 L816.346 1149.17 Z\" fill=\"#000000\" fill-rule=\"nonzero\" fill-opacity=\"1\" /><path clip-path=\"url(#clip260)\" d=\"M1071.45 1121.62 Q1067.84 1121.62 1066.01 1125.19 Q1064.21 1128.73 1064.21 1135.86 Q1064.21 1142.97 1066.01 1146.53 Q1067.84 1150.07 1071.45 1150.07 Q1075.09 1150.07 1076.89 1146.53 Q1078.72 1142.97 1078.72 1135.86 Q1078.72 1128.73 1076.89 1125.19 Q1075.09 1121.62 1071.45 1121.62 M1071.45 1117.92 Q1077.26 1117.92 1080.32 1122.53 Q1083.4 1127.11 1083.4 1135.86 Q1083.4 1144.59 1080.32 1149.19 Q1077.26 1153.78 1071.45 1153.78 Q1065.64 1153.78 1062.56 1149.19 Q1059.51 1144.59 1059.51 1135.86 Q1059.51 1127.11 1062.56 1122.53 Q1065.64 1117.92 1071.45 1117.92 Z\" fill=\"#000000\" fill-rule=\"nonzero\" fill-opacity=\"1\" /><path clip-path=\"url(#clip260)\" d=\"M1091.61 1147.22 L1096.5 1147.22 L1096.5 1153.1 L1091.61 1153.1 L1091.61 1147.22 Z\" fill=\"#000000\" fill-rule=\"nonzero\" fill-opacity=\"1\" /><path clip-path=\"url(#clip260)\" d=\"M1116.68 1121.62 Q1113.07 1121.62 1111.24 1125.19 Q1109.44 1128.73 1109.44 1135.86 Q1109.44 1142.97 1111.24 1146.53 Q1113.07 1150.07 1116.68 1150.07 Q1120.32 1150.07 1122.12 1146.53 Q1123.95 1142.97 1123.95 1135.86 Q1123.95 1128.73 1122.12 1125.19 Q1120.32 1121.62 1116.68 1121.62 M1116.68 1117.92 Q1122.49 1117.92 1125.55 1122.53 Q1128.63 1127.11 1128.63 1135.86 Q1128.63 1144.59 1125.55 1149.19 Q1122.49 1153.78 1116.68 1153.78 Q1110.87 1153.78 1107.79 1149.19 Q1104.74 1144.59 1104.74 1135.86 Q1104.74 1127.11 1107.79 1122.53 Q1110.87 1117.92 1116.68 1117.92 Z\" fill=\"#000000\" fill-rule=\"nonzero\" fill-opacity=\"1\" /><path clip-path=\"url(#clip260)\" d=\"M1382.74 1121.62 Q1379.13 1121.62 1377.3 1125.19 Q1375.49 1128.73 1375.49 1135.86 Q1375.49 1142.97 1377.3 1146.53 Q1379.13 1150.07 1382.74 1150.07 Q1386.37 1150.07 1388.18 1146.53 Q1390.01 1142.97 1390.01 1135.86 Q1390.01 1128.73 1388.18 1125.19 Q1386.37 1121.62 1382.74 1121.62 M1382.74 1117.92 Q1388.55 1117.92 1391.6 1122.53 Q1394.68 1127.11 1394.68 1135.86 Q1394.68 1144.59 1391.6 1149.19 Q1388.55 1153.78 1382.74 1153.78 Q1376.93 1153.78 1373.85 1149.19 Q1370.79 1144.59 1370.79 1135.86 Q1370.79 1127.11 1373.85 1122.53 Q1376.93 1117.92 1382.74 1117.92 Z\" fill=\"#000000\" fill-rule=\"nonzero\" fill-opacity=\"1\" /><path clip-path=\"url(#clip260)\" d=\"M1402.9 1147.22 L1407.78 1147.22 L1407.78 1153.1 L1402.9 1153.1 L1402.9 1147.22 Z\" fill=\"#000000\" fill-rule=\"nonzero\" fill-opacity=\"1\" /><path clip-path=\"url(#clip260)\" d=\"M1418.78 1149.17 L1426.42 1149.17 L1426.42 1122.8 L1418.11 1124.47 L1418.11 1120.21 L1426.37 1118.54 L1431.05 1118.54 L1431.05 1149.17 L1438.69 1149.17 L1438.69 1153.1 L1418.78 1153.1 L1418.78 1149.17 Z\" fill=\"#000000\" fill-rule=\"nonzero\" fill-opacity=\"1\" /><path clip-path=\"url(#clip260)\" d=\"M1693.6 1121.62 Q1689.99 1121.62 1688.16 1125.19 Q1686.35 1128.73 1686.35 1135.86 Q1686.35 1142.97 1688.16 1146.53 Q1689.99 1150.07 1693.6 1150.07 Q1697.23 1150.07 1699.04 1146.53 Q1700.87 1142.97 1700.87 1135.86 Q1700.87 1128.73 1699.04 1125.19 Q1697.23 1121.62 1693.6 1121.62 M1693.6 1117.92 Q1699.41 1117.92 1702.46 1122.53 Q1705.54 1127.11 1705.54 1135.86 Q1705.54 1144.59 1702.46 1149.19 Q1699.41 1153.78 1693.6 1153.78 Q1687.79 1153.78 1684.71 1149.19 Q1681.65 1144.59 1681.65 1135.86 Q1681.65 1127.11 1684.71 1122.53 Q1687.79 1117.92 1693.6 1117.92 Z\" fill=\"#000000\" fill-rule=\"nonzero\" fill-opacity=\"1\" /><path clip-path=\"url(#clip260)\" d=\"M1713.76 1147.22 L1718.64 1147.22 L1718.64 1153.1 L1713.76 1153.1 L1713.76 1147.22 Z\" fill=\"#000000\" fill-rule=\"nonzero\" fill-opacity=\"1\" /><path clip-path=\"url(#clip260)\" d=\"M1732.86 1149.17 L1749.18 1149.17 L1749.18 1153.1 L1727.23 1153.1 L1727.23 1149.17 Q1729.89 1146.41 1734.48 1141.78 Q1739.08 1137.13 1740.26 1135.79 Q1742.51 1133.27 1743.39 1131.53 Q1744.29 1129.77 1744.29 1128.08 Q1744.29 1125.33 1742.35 1123.59 Q1740.43 1121.85 1737.32 1121.85 Q1735.12 1121.85 1732.67 1122.62 Q1730.24 1123.38 1727.46 1124.93 L1727.46 1120.21 Q1730.29 1119.08 1732.74 1118.5 Q1735.19 1117.92 1737.23 1117.92 Q1742.6 1117.92 1745.8 1120.6 Q1748.99 1123.29 1748.99 1127.78 Q1748.99 1129.91 1748.18 1131.83 Q1747.39 1133.73 1745.29 1136.32 Q1744.71 1136.99 1741.61 1140.21 Q1738.5 1143.4 1732.86 1149.17 Z\" fill=\"#000000\" fill-rule=\"nonzero\" fill-opacity=\"1\" /><polyline clip-path=\"url(#clip262)\" style=\"stroke:#000000; stroke-linecap:round; stroke-linejoin:round; stroke-width:2; stroke-opacity:0.1; fill:none\" points=\"189.288,1092.23 1952.76,1092.23 \"/>\n",
       "<polyline clip-path=\"url(#clip262)\" style=\"stroke:#000000; stroke-linecap:round; stroke-linejoin:round; stroke-width:2; stroke-opacity:0.1; fill:none\" points=\"189.288,907.487 1952.76,907.487 \"/>\n",
       "<polyline clip-path=\"url(#clip262)\" style=\"stroke:#000000; stroke-linecap:round; stroke-linejoin:round; stroke-width:2; stroke-opacity:0.1; fill:none\" points=\"189.288,722.743 1952.76,722.743 \"/>\n",
       "<polyline clip-path=\"url(#clip262)\" style=\"stroke:#000000; stroke-linecap:round; stroke-linejoin:round; stroke-width:2; stroke-opacity:0.1; fill:none\" points=\"189.288,537.998 1952.76,537.998 \"/>\n",
       "<polyline clip-path=\"url(#clip262)\" style=\"stroke:#000000; stroke-linecap:round; stroke-linejoin:round; stroke-width:2; stroke-opacity:0.1; fill:none\" points=\"189.288,353.254 1952.76,353.254 \"/>\n",
       "<polyline clip-path=\"url(#clip262)\" style=\"stroke:#000000; stroke-linecap:round; stroke-linejoin:round; stroke-width:2; stroke-opacity:0.1; fill:none\" points=\"189.288,168.51 1952.76,168.51 \"/>\n",
       "<polyline clip-path=\"url(#clip260)\" style=\"stroke:#000000; stroke-linecap:round; stroke-linejoin:round; stroke-width:4; stroke-opacity:1; fill:none\" points=\"189.288,1093.9 189.288,117.424 \"/>\n",
       "<polyline clip-path=\"url(#clip260)\" style=\"stroke:#000000; stroke-linecap:round; stroke-linejoin:round; stroke-width:4; stroke-opacity:1; fill:none\" points=\"189.288,1092.23 208.185,1092.23 \"/>\n",
       "<polyline clip-path=\"url(#clip260)\" style=\"stroke:#000000; stroke-linecap:round; stroke-linejoin:round; stroke-width:4; stroke-opacity:1; fill:none\" points=\"189.288,907.487 208.185,907.487 \"/>\n",
       "<polyline clip-path=\"url(#clip260)\" style=\"stroke:#000000; stroke-linecap:round; stroke-linejoin:round; stroke-width:4; stroke-opacity:1; fill:none\" points=\"189.288,722.743 208.185,722.743 \"/>\n",
       "<polyline clip-path=\"url(#clip260)\" style=\"stroke:#000000; stroke-linecap:round; stroke-linejoin:round; stroke-width:4; stroke-opacity:1; fill:none\" points=\"189.288,537.998 208.185,537.998 \"/>\n",
       "<polyline clip-path=\"url(#clip260)\" style=\"stroke:#000000; stroke-linecap:round; stroke-linejoin:round; stroke-width:4; stroke-opacity:1; fill:none\" points=\"189.288,353.254 208.185,353.254 \"/>\n",
       "<polyline clip-path=\"url(#clip260)\" style=\"stroke:#000000; stroke-linecap:round; stroke-linejoin:round; stroke-width:4; stroke-opacity:1; fill:none\" points=\"189.288,168.51 208.185,168.51 \"/>\n",
       "<path clip-path=\"url(#clip260)\" d=\"M52.9921 1092.68 L82.6679 1092.68 L82.6679 1096.62 L52.9921 1096.62 L52.9921 1092.68 Z\" fill=\"#000000\" fill-rule=\"nonzero\" fill-opacity=\"1\" /><path clip-path=\"url(#clip260)\" d=\"M102.76 1078.03 Q99.1493 1078.03 97.3206 1081.59 Q95.515 1085.14 95.515 1092.27 Q95.515 1099.37 97.3206 1102.94 Q99.1493 1106.48 102.76 1106.48 Q106.395 1106.48 108.2 1102.94 Q110.029 1099.37 110.029 1092.27 Q110.029 1085.14 108.2 1081.59 Q106.395 1078.03 102.76 1078.03 M102.76 1074.33 Q108.571 1074.33 111.626 1078.93 Q114.705 1083.52 114.705 1092.27 Q114.705 1100.99 111.626 1105.6 Q108.571 1110.18 102.76 1110.18 Q96.9502 1110.18 93.8715 1105.6 Q90.816 1100.99 90.816 1092.27 Q90.816 1083.52 93.8715 1078.93 Q96.9502 1074.33 102.76 1074.33 Z\" fill=\"#000000\" fill-rule=\"nonzero\" fill-opacity=\"1\" /><path clip-path=\"url(#clip260)\" d=\"M122.922 1103.63 L127.807 1103.63 L127.807 1109.51 L122.922 1109.51 L122.922 1103.63 Z\" fill=\"#000000\" fill-rule=\"nonzero\" fill-opacity=\"1\" /><path clip-path=\"url(#clip260)\" d=\"M152.158 1090.88 Q155.515 1091.59 157.39 1093.86 Q159.288 1096.13 159.288 1099.46 Q159.288 1104.58 155.769 1107.38 Q152.251 1110.18 145.769 1110.18 Q143.593 1110.18 141.279 1109.74 Q138.987 1109.33 136.533 1108.47 L136.533 1103.96 Q138.478 1105.09 140.793 1105.67 Q143.107 1106.25 145.631 1106.25 Q150.029 1106.25 152.32 1104.51 Q154.635 1102.78 154.635 1099.46 Q154.635 1096.41 152.482 1094.7 Q150.353 1092.96 146.533 1092.96 L142.506 1092.96 L142.506 1089.12 L146.718 1089.12 Q150.168 1089.12 151.996 1087.75 Q153.825 1086.36 153.825 1083.77 Q153.825 1081.11 151.927 1079.7 Q150.052 1078.26 146.533 1078.26 Q144.612 1078.26 142.413 1078.68 Q140.214 1079.09 137.575 1079.97 L137.575 1075.81 Q140.237 1075.07 142.552 1074.7 Q144.89 1074.33 146.95 1074.33 Q152.274 1074.33 155.376 1076.76 Q158.478 1079.16 158.478 1083.28 Q158.478 1086.15 156.834 1088.15 Q155.191 1090.11 152.158 1090.88 Z\" fill=\"#000000\" fill-rule=\"nonzero\" fill-opacity=\"1\" /><path clip-path=\"url(#clip260)\" d=\"M53.9412 907.938 L83.617 907.938 L83.617 911.873 L53.9412 911.873 L53.9412 907.938 Z\" fill=\"#000000\" fill-rule=\"nonzero\" fill-opacity=\"1\" /><path clip-path=\"url(#clip260)\" d=\"M103.709 893.286 Q100.098 893.286 98.2697 896.85 Q96.4641 900.392 96.4641 907.522 Q96.4641 914.628 98.2697 918.193 Q100.098 921.735 103.709 921.735 Q107.344 921.735 109.149 918.193 Q110.978 914.628 110.978 907.522 Q110.978 900.392 109.149 896.85 Q107.344 893.286 103.709 893.286 M103.709 889.582 Q109.52 889.582 112.575 894.188 Q115.654 898.772 115.654 907.522 Q115.654 916.248 112.575 920.855 Q109.52 925.438 103.709 925.438 Q97.8993 925.438 94.8206 920.855 Q91.7651 916.248 91.7651 907.522 Q91.7651 898.772 94.8206 894.188 Q97.8993 889.582 103.709 889.582 Z\" fill=\"#000000\" fill-rule=\"nonzero\" fill-opacity=\"1\" /><path clip-path=\"url(#clip260)\" d=\"M123.871 918.887 L128.756 918.887 L128.756 924.767 L123.871 924.767 L123.871 918.887 Z\" fill=\"#000000\" fill-rule=\"nonzero\" fill-opacity=\"1\" /><path clip-path=\"url(#clip260)\" d=\"M142.968 920.832 L159.288 920.832 L159.288 924.767 L137.344 924.767 L137.344 920.832 Q140.006 918.077 144.589 913.448 Q149.195 908.795 150.376 907.452 Q152.621 904.929 153.501 903.193 Q154.404 901.434 154.404 899.744 Q154.404 896.989 152.459 895.253 Q150.538 893.517 147.436 893.517 Q145.237 893.517 142.783 894.281 Q140.353 895.045 137.575 896.596 L137.575 891.874 Q140.399 890.739 142.853 890.161 Q145.306 889.582 147.343 889.582 Q152.714 889.582 155.908 892.267 Q159.103 894.952 159.103 899.443 Q159.103 901.573 158.292 903.494 Q157.505 905.392 155.399 907.985 Q154.82 908.656 151.718 911.873 Q148.617 915.068 142.968 920.832 Z\" fill=\"#000000\" fill-rule=\"nonzero\" fill-opacity=\"1\" /><path clip-path=\"url(#clip260)\" d=\"M53.5708 723.194 L83.2466 723.194 L83.2466 727.129 L53.5708 727.129 L53.5708 723.194 Z\" fill=\"#000000\" fill-rule=\"nonzero\" fill-opacity=\"1\" /><path clip-path=\"url(#clip260)\" d=\"M103.339 708.541 Q99.728 708.541 97.8993 712.106 Q96.0937 715.648 96.0937 722.777 Q96.0937 729.884 97.8993 733.449 Q99.728 736.99 103.339 736.99 Q106.973 736.99 108.779 733.449 Q110.608 729.884 110.608 722.777 Q110.608 715.648 108.779 712.106 Q106.973 708.541 103.339 708.541 M103.339 704.838 Q109.149 704.838 112.205 709.444 Q115.283 714.027 115.283 722.777 Q115.283 731.504 112.205 736.111 Q109.149 740.694 103.339 740.694 Q97.5289 740.694 94.4502 736.111 Q91.3947 731.504 91.3947 722.777 Q91.3947 714.027 94.4502 709.444 Q97.5289 704.838 103.339 704.838 Z\" fill=\"#000000\" fill-rule=\"nonzero\" fill-opacity=\"1\" /><path clip-path=\"url(#clip260)\" d=\"M123.501 734.143 L128.385 734.143 L128.385 740.023 L123.501 740.023 L123.501 734.143 Z\" fill=\"#000000\" fill-rule=\"nonzero\" fill-opacity=\"1\" /><path clip-path=\"url(#clip260)\" d=\"M139.381 736.088 L147.019 736.088 L147.019 709.722 L138.709 711.389 L138.709 707.129 L146.973 705.463 L151.649 705.463 L151.649 736.088 L159.288 736.088 L159.288 740.023 L139.381 740.023 L139.381 736.088 Z\" fill=\"#000000\" fill-rule=\"nonzero\" fill-opacity=\"1\" /><path clip-path=\"url(#clip260)\" d=\"M102.112 523.797 Q98.5011 523.797 96.6724 527.362 Q94.8669 530.904 94.8669 538.033 Q94.8669 545.14 96.6724 548.704 Q98.5011 552.246 102.112 552.246 Q105.746 552.246 107.552 548.704 Q109.381 545.14 109.381 538.033 Q109.381 530.904 107.552 527.362 Q105.746 523.797 102.112 523.797 M102.112 520.093 Q107.922 520.093 110.978 524.7 Q114.057 529.283 114.057 538.033 Q114.057 546.76 110.978 551.366 Q107.922 555.95 102.112 555.95 Q96.3021 555.95 93.2234 551.366 Q90.1679 546.76 90.1679 538.033 Q90.1679 529.283 93.2234 524.7 Q96.3021 520.093 102.112 520.093 Z\" fill=\"#000000\" fill-rule=\"nonzero\" fill-opacity=\"1\" /><path clip-path=\"url(#clip260)\" d=\"M122.274 549.399 L127.158 549.399 L127.158 555.278 L122.274 555.278 L122.274 549.399 Z\" fill=\"#000000\" fill-rule=\"nonzero\" fill-opacity=\"1\" /><path clip-path=\"url(#clip260)\" d=\"M147.343 523.797 Q143.732 523.797 141.904 527.362 Q140.098 530.904 140.098 538.033 Q140.098 545.14 141.904 548.704 Q143.732 552.246 147.343 552.246 Q150.978 552.246 152.783 548.704 Q154.612 545.14 154.612 538.033 Q154.612 530.904 152.783 527.362 Q150.978 523.797 147.343 523.797 M147.343 520.093 Q153.154 520.093 156.209 524.7 Q159.288 529.283 159.288 538.033 Q159.288 546.76 156.209 551.366 Q153.154 555.95 147.343 555.95 Q141.533 555.95 138.455 551.366 Q135.399 546.76 135.399 538.033 Q135.399 529.283 138.455 524.7 Q141.533 520.093 147.343 520.093 Z\" fill=\"#000000\" fill-rule=\"nonzero\" fill-opacity=\"1\" /><path clip-path=\"url(#clip260)\" d=\"M103.339 339.053 Q99.728 339.053 97.8993 342.618 Q96.0937 346.159 96.0937 353.289 Q96.0937 360.395 97.8993 363.96 Q99.728 367.502 103.339 367.502 Q106.973 367.502 108.779 363.96 Q110.608 360.395 110.608 353.289 Q110.608 346.159 108.779 342.618 Q106.973 339.053 103.339 339.053 M103.339 335.349 Q109.149 335.349 112.205 339.956 Q115.283 344.539 115.283 353.289 Q115.283 362.016 112.205 366.622 Q109.149 371.205 103.339 371.205 Q97.5289 371.205 94.4502 366.622 Q91.3947 362.016 91.3947 353.289 Q91.3947 344.539 94.4502 339.956 Q97.5289 335.349 103.339 335.349 Z\" fill=\"#000000\" fill-rule=\"nonzero\" fill-opacity=\"1\" /><path clip-path=\"url(#clip260)\" d=\"M123.501 364.655 L128.385 364.655 L128.385 370.534 L123.501 370.534 L123.501 364.655 Z\" fill=\"#000000\" fill-rule=\"nonzero\" fill-opacity=\"1\" /><path clip-path=\"url(#clip260)\" d=\"M139.381 366.599 L147.019 366.599 L147.019 340.233 L138.709 341.9 L138.709 337.641 L146.973 335.974 L151.649 335.974 L151.649 366.599 L159.288 366.599 L159.288 370.534 L139.381 370.534 L139.381 366.599 Z\" fill=\"#000000\" fill-rule=\"nonzero\" fill-opacity=\"1\" /><path clip-path=\"url(#clip260)\" d=\"M103.709 154.309 Q100.098 154.309 98.2697 157.873 Q96.4641 161.415 96.4641 168.545 Q96.4641 175.651 98.2697 179.216 Q100.098 182.758 103.709 182.758 Q107.344 182.758 109.149 179.216 Q110.978 175.651 110.978 168.545 Q110.978 161.415 109.149 157.873 Q107.344 154.309 103.709 154.309 M103.709 150.605 Q109.52 150.605 112.575 155.211 Q115.654 159.795 115.654 168.545 Q115.654 177.271 112.575 181.878 Q109.52 186.461 103.709 186.461 Q97.8993 186.461 94.8206 181.878 Q91.7651 177.271 91.7651 168.545 Q91.7651 159.795 94.8206 155.211 Q97.8993 150.605 103.709 150.605 Z\" fill=\"#000000\" fill-rule=\"nonzero\" fill-opacity=\"1\" /><path clip-path=\"url(#clip260)\" d=\"M123.871 179.91 L128.756 179.91 L128.756 185.79 L123.871 185.79 L123.871 179.91 Z\" fill=\"#000000\" fill-rule=\"nonzero\" fill-opacity=\"1\" /><path clip-path=\"url(#clip260)\" d=\"M142.968 181.855 L159.288 181.855 L159.288 185.79 L137.344 185.79 L137.344 181.855 Q140.006 179.1 144.589 174.471 Q149.195 169.818 150.376 168.475 Q152.621 165.952 153.501 164.216 Q154.404 162.457 154.404 160.767 Q154.404 158.012 152.459 156.276 Q150.538 154.54 147.436 154.54 Q145.237 154.54 142.783 155.304 Q140.353 156.068 137.575 157.619 L137.575 152.897 Q140.399 151.762 142.853 151.184 Q145.306 150.605 147.343 150.605 Q152.714 150.605 155.908 153.29 Q159.103 155.975 159.103 160.466 Q159.103 162.596 158.292 164.517 Q157.505 166.415 155.399 169.008 Q154.82 169.679 151.718 172.896 Q148.617 176.091 142.968 181.855 Z\" fill=\"#000000\" fill-rule=\"nonzero\" fill-opacity=\"1\" /><path clip-path=\"url(#clip260)\" d=\"M714.725 48.0275 L714.725 51.6733 L680.454 51.6733 Q680.94 59.3701 685.072 63.421 Q689.244 67.4314 696.658 67.4314 Q700.952 67.4314 704.962 66.3781 Q709.013 65.3249 712.983 63.2184 L712.983 70.267 Q708.972 71.9684 704.759 72.8596 Q700.546 73.7508 696.212 73.7508 Q685.356 73.7508 678.996 67.4314 Q672.676 61.1119 672.676 50.3365 Q672.676 39.1965 678.672 32.6746 Q684.707 26.1121 694.916 26.1121 Q704.071 26.1121 709.377 32.0264 Q714.725 37.9003 714.725 48.0275 M707.271 45.84 Q707.19 39.7232 703.828 36.0774 Q700.506 32.4315 694.997 32.4315 Q688.758 32.4315 684.991 35.9558 Q681.264 39.4801 680.697 45.8805 L707.271 45.84 Z\" fill=\"#000000\" fill-rule=\"nonzero\" fill-opacity=\"1\" /><path clip-path=\"url(#clip260)\" d=\"M762.282 35.9153 Q765.077 30.8922 768.966 28.5022 Q772.855 26.1121 778.121 26.1121 Q785.21 26.1121 789.059 31.0947 Q792.907 36.0368 792.907 45.1919 L792.907 72.576 L785.413 72.576 L785.413 45.4349 Q785.413 38.913 783.104 35.7533 Q780.795 32.5936 776.055 32.5936 Q770.262 32.5936 766.9 36.4419 Q763.538 40.2903 763.538 46.9338 L763.538 72.576 L756.044 72.576 L756.044 45.4349 Q756.044 38.8725 753.735 35.7533 Q751.426 32.5936 746.605 32.5936 Q740.893 32.5936 737.531 36.4824 Q734.169 40.3308 734.169 46.9338 L734.169 72.576 L726.675 72.576 L726.675 27.2059 L734.169 27.2059 L734.169 34.2544 Q736.721 30.082 740.286 28.0971 Q743.851 26.1121 748.752 26.1121 Q753.694 26.1121 757.138 28.6237 Q760.621 31.1352 762.282 35.9153 Z\" fill=\"#000000\" fill-rule=\"nonzero\" fill-opacity=\"1\" /><path clip-path=\"url(#clip260)\" d=\"M828.393 49.7694 Q819.359 49.7694 815.876 51.8354 Q812.392 53.9013 812.392 58.8839 Q812.392 62.8538 814.984 65.2034 Q817.618 67.5124 822.114 67.5124 Q828.312 67.5124 832.039 63.1374 Q835.806 58.7219 835.806 51.4303 L835.806 49.7694 L828.393 49.7694 M843.26 46.6907 L843.26 72.576 L835.806 72.576 L835.806 65.6895 Q833.254 69.8214 829.446 71.8063 Q825.638 73.7508 820.129 73.7508 Q813.162 73.7508 809.03 69.8619 Q804.938 65.9325 804.938 59.3701 Q804.938 51.7138 810.042 47.825 Q815.187 43.9361 825.355 43.9361 L835.806 43.9361 L835.806 43.2069 Q835.806 38.0623 832.403 35.2672 Q829.041 32.4315 822.924 32.4315 Q819.035 32.4315 815.349 33.3632 Q811.663 34.295 808.26 36.1584 L808.26 29.2718 Q812.351 27.692 816.2 26.9223 Q820.048 26.1121 823.694 26.1121 Q833.538 26.1121 838.399 31.2163 Q843.26 36.3204 843.26 46.6907 Z\" fill=\"#000000\" fill-rule=\"nonzero\" fill-opacity=\"1\" /><path clip-path=\"url(#clip260)\" d=\"M858.613 27.2059 L866.066 27.2059 L866.066 72.576 L858.613 72.576 L858.613 27.2059 M858.613 9.54393 L866.066 9.54393 L866.066 18.9825 L858.613 18.9825 L858.613 9.54393 Z\" fill=\"#000000\" fill-rule=\"nonzero\" fill-opacity=\"1\" /><path clip-path=\"url(#clip260)\" d=\"M881.662 9.54393 L889.116 9.54393 L889.116 72.576 L881.662 72.576 L881.662 9.54393 Z\" fill=\"#000000\" fill-rule=\"nonzero\" fill-opacity=\"1\" /><path clip-path=\"url(#clip260)\" d=\"M933.635 28.5427 L933.635 35.5912 Q930.476 33.9709 927.073 33.1607 Q923.67 32.3505 920.024 32.3505 Q914.475 32.3505 911.68 34.0519 Q908.925 35.7533 908.925 39.156 Q908.925 41.7486 910.91 43.2475 Q912.895 44.7058 918.89 46.0426 L921.442 46.6097 Q929.382 48.3111 932.704 51.4303 Q936.066 54.509 936.066 60.0587 Q936.066 66.3781 931.043 70.0644 Q926.06 73.7508 917.31 73.7508 Q913.665 73.7508 909.695 73.0216 Q905.765 72.3329 901.39 70.9151 L901.39 63.2184 Q905.522 65.3654 909.533 66.4591 Q913.543 67.5124 917.472 67.5124 Q922.739 67.5124 925.574 65.73 Q928.41 63.9071 928.41 60.6258 Q928.41 57.5877 926.344 55.9673 Q924.318 54.3469 917.391 52.8481 L914.799 52.2405 Q907.872 50.7821 904.793 47.7845 Q901.714 44.7463 901.714 39.4801 Q901.714 33.0797 906.251 29.5959 Q910.788 26.1121 919.133 26.1121 Q923.265 26.1121 926.911 26.7198 Q930.557 27.3274 933.635 28.5427 Z\" fill=\"#000000\" fill-rule=\"nonzero\" fill-opacity=\"1\" /><path clip-path=\"url(#clip260)\" d=\"M981.679 14.324 L981.679 27.2059 L997.032 27.2059 L997.032 32.9987 L981.679 32.9987 L981.679 57.6282 Q981.679 63.1779 983.178 64.7578 Q984.717 66.3376 989.376 66.3376 L997.032 66.3376 L997.032 72.576 L989.376 72.576 Q980.747 72.576 977.466 69.3758 Q974.185 66.1351 974.185 57.6282 L974.185 32.9987 L968.716 32.9987 L968.716 27.2059 L974.185 27.2059 L974.185 14.324 L981.679 14.324 Z\" fill=\"#000000\" fill-rule=\"nonzero\" fill-opacity=\"1\" /><path clip-path=\"url(#clip260)\" d=\"M1033.13 34.1734 Q1031.87 33.4443 1030.37 33.1202 Q1028.91 32.7556 1027.13 32.7556 Q1020.81 32.7556 1017.41 36.8875 Q1014.05 40.9789 1014.05 48.6757 L1014.05 72.576 L1006.55 72.576 L1006.55 27.2059 L1014.05 27.2059 L1014.05 34.2544 Q1016.4 30.1225 1020.16 28.1376 Q1023.93 26.1121 1029.32 26.1121 Q1030.09 26.1121 1031.02 26.2337 Q1031.95 26.3147 1033.09 26.5172 L1033.13 34.1734 Z\" fill=\"#000000\" fill-rule=\"nonzero\" fill-opacity=\"1\" /><path clip-path=\"url(#clip260)\" d=\"M1061.56 49.7694 Q1052.53 49.7694 1049.05 51.8354 Q1045.56 53.9013 1045.56 58.8839 Q1045.56 62.8538 1048.15 65.2034 Q1050.79 67.5124 1055.28 67.5124 Q1061.48 67.5124 1065.21 63.1374 Q1068.98 58.7219 1068.98 51.4303 L1068.98 49.7694 L1061.56 49.7694 M1076.43 46.6907 L1076.43 72.576 L1068.98 72.576 L1068.98 65.6895 Q1066.42 69.8214 1062.62 71.8063 Q1058.81 73.7508 1053.3 73.7508 Q1046.33 73.7508 1042.2 69.8619 Q1038.11 65.9325 1038.11 59.3701 Q1038.11 51.7138 1043.21 47.825 Q1048.36 43.9361 1058.52 43.9361 L1068.98 43.9361 L1068.98 43.2069 Q1068.98 38.0623 1065.57 35.2672 Q1062.21 32.4315 1056.09 32.4315 Q1052.21 32.4315 1048.52 33.3632 Q1044.83 34.295 1041.43 36.1584 L1041.43 29.2718 Q1045.52 27.692 1049.37 26.9223 Q1053.22 26.1121 1056.86 26.1121 Q1066.71 26.1121 1071.57 31.2163 Q1076.43 36.3204 1076.43 46.6907 Z\" fill=\"#000000\" fill-rule=\"nonzero\" fill-opacity=\"1\" /><path clip-path=\"url(#clip260)\" d=\"M1129.5 45.1919 L1129.5 72.576 L1122.04 72.576 L1122.04 45.4349 Q1122.04 38.994 1119.53 35.7938 Q1117.02 32.5936 1112 32.5936 Q1105.96 32.5936 1102.48 36.4419 Q1098.99 40.2903 1098.99 46.9338 L1098.99 72.576 L1091.5 72.576 L1091.5 27.2059 L1098.99 27.2059 L1098.99 34.2544 Q1101.67 30.163 1105.27 28.1376 Q1108.92 26.1121 1113.66 26.1121 Q1121.48 26.1121 1125.49 30.9732 Q1129.5 35.7938 1129.5 45.1919 Z\" fill=\"#000000\" fill-rule=\"nonzero\" fill-opacity=\"1\" /><path clip-path=\"url(#clip260)\" d=\"M1173.29 28.5427 L1173.29 35.5912 Q1170.13 33.9709 1166.72 33.1607 Q1163.32 32.3505 1159.68 32.3505 Q1154.13 32.3505 1151.33 34.0519 Q1148.58 35.7533 1148.58 39.156 Q1148.58 41.7486 1150.56 43.2475 Q1152.55 44.7058 1158.54 46.0426 L1161.09 46.6097 Q1169.03 48.3111 1172.36 51.4303 Q1175.72 54.509 1175.72 60.0587 Q1175.72 66.3781 1170.69 70.0644 Q1165.71 73.7508 1156.96 73.7508 Q1153.32 73.7508 1149.35 73.0216 Q1145.42 72.3329 1141.04 70.9151 L1141.04 63.2184 Q1145.17 65.3654 1149.18 66.4591 Q1153.19 67.5124 1157.12 67.5124 Q1162.39 67.5124 1165.23 65.73 Q1168.06 63.9071 1168.06 60.6258 Q1168.06 57.5877 1166 55.9673 Q1163.97 54.3469 1157.04 52.8481 L1154.45 52.2405 Q1147.52 50.7821 1144.44 47.7845 Q1141.37 44.7463 1141.37 39.4801 Q1141.37 33.0797 1145.9 29.5959 Q1150.44 26.1121 1158.78 26.1121 Q1162.92 26.1121 1166.56 26.7198 Q1170.21 27.3274 1173.29 28.5427 Z\" fill=\"#000000\" fill-rule=\"nonzero\" fill-opacity=\"1\" /><path clip-path=\"url(#clip260)\" d=\"M1210.56 9.54393 L1210.56 15.7418 L1203.43 15.7418 Q1199.42 15.7418 1197.84 17.3622 Q1196.3 18.9825 1196.3 23.1955 L1196.3 27.2059 L1208.57 27.2059 L1208.57 32.9987 L1196.3 32.9987 L1196.3 72.576 L1188.8 72.576 L1188.8 32.9987 L1181.67 32.9987 L1181.67 27.2059 L1188.8 27.2059 L1188.8 24.0462 Q1188.8 16.471 1192.33 13.0277 Q1195.85 9.54393 1203.51 9.54393 L1210.56 9.54393 Z\" fill=\"#000000\" fill-rule=\"nonzero\" fill-opacity=\"1\" /><path clip-path=\"url(#clip260)\" d=\"M1234.37 32.4315 Q1228.38 32.4315 1224.9 37.1306 Q1221.41 41.7891 1221.41 49.9314 Q1221.41 58.0738 1224.85 62.7728 Q1228.34 67.4314 1234.37 67.4314 Q1240.33 67.4314 1243.81 62.7323 Q1247.3 58.0333 1247.3 49.9314 Q1247.3 41.8701 1243.81 37.1711 Q1240.33 32.4315 1234.37 32.4315 M1234.37 26.1121 Q1244.1 26.1121 1249.65 32.4315 Q1255.2 38.7509 1255.2 49.9314 Q1255.2 61.0714 1249.65 67.4314 Q1244.1 73.7508 1234.37 73.7508 Q1224.61 73.7508 1219.06 67.4314 Q1213.55 61.0714 1213.55 49.9314 Q1213.55 38.7509 1219.06 32.4315 Q1224.61 26.1121 1234.37 26.1121 Z\" fill=\"#000000\" fill-rule=\"nonzero\" fill-opacity=\"1\" /><path clip-path=\"url(#clip260)\" d=\"M1293.84 34.1734 Q1292.59 33.4443 1291.09 33.1202 Q1289.63 32.7556 1287.85 32.7556 Q1281.53 32.7556 1278.12 36.8875 Q1274.76 40.9789 1274.76 48.6757 L1274.76 72.576 L1267.27 72.576 L1267.27 27.2059 L1274.76 27.2059 L1274.76 34.2544 Q1277.11 30.1225 1280.88 28.1376 Q1284.65 26.1121 1290.03 26.1121 Q1290.8 26.1121 1291.74 26.2337 Q1292.67 26.3147 1293.8 26.5172 L1293.84 34.1734 Z\" fill=\"#000000\" fill-rule=\"nonzero\" fill-opacity=\"1\" /><path clip-path=\"url(#clip260)\" d=\"M1335.53 35.9153 Q1338.32 30.8922 1342.21 28.5022 Q1346.1 26.1121 1351.36 26.1121 Q1358.45 26.1121 1362.3 31.0947 Q1366.15 36.0368 1366.15 45.1919 L1366.15 72.576 L1358.66 72.576 L1358.66 45.4349 Q1358.66 38.913 1356.35 35.7533 Q1354.04 32.5936 1349.3 32.5936 Q1343.51 32.5936 1340.14 36.4419 Q1336.78 40.2903 1336.78 46.9338 L1336.78 72.576 L1329.29 72.576 L1329.29 45.4349 Q1329.29 38.8725 1326.98 35.7533 Q1324.67 32.5936 1319.85 32.5936 Q1314.14 32.5936 1310.77 36.4824 Q1307.41 40.3308 1307.41 46.9338 L1307.41 72.576 L1299.92 72.576 L1299.92 27.2059 L1307.41 27.2059 L1307.41 34.2544 Q1309.96 30.082 1313.53 28.0971 Q1317.09 26.1121 1322 26.1121 Q1326.94 26.1121 1330.38 28.6237 Q1333.86 31.1352 1335.53 35.9153 Z\" fill=\"#000000\" fill-rule=\"nonzero\" fill-opacity=\"1\" /><path clip-path=\"url(#clip260)\" d=\"M1419.82 48.0275 L1419.82 51.6733 L1385.55 51.6733 Q1386.04 59.3701 1390.17 63.421 Q1394.34 67.4314 1401.76 67.4314 Q1406.05 67.4314 1410.06 66.3781 Q1414.11 65.3249 1418.08 63.2184 L1418.08 70.267 Q1414.07 71.9684 1409.86 72.8596 Q1405.65 73.7508 1401.31 73.7508 Q1390.46 73.7508 1384.1 67.4314 Q1377.78 61.1119 1377.78 50.3365 Q1377.78 39.1965 1383.77 32.6746 Q1389.81 26.1121 1400.02 26.1121 Q1409.17 26.1121 1414.48 32.0264 Q1419.82 37.9003 1419.82 48.0275 M1412.37 45.84 Q1412.29 39.7232 1408.93 36.0774 Q1405.61 32.4315 1400.1 32.4315 Q1393.86 32.4315 1390.09 35.9558 Q1386.36 39.4801 1385.8 45.8805 L1412.37 45.84 Z\" fill=\"#000000\" fill-rule=\"nonzero\" fill-opacity=\"1\" /><path clip-path=\"url(#clip260)\" d=\"M1461.91 34.0924 L1461.91 9.54393 L1469.37 9.54393 L1469.37 72.576 L1461.91 72.576 L1461.91 65.7705 Q1459.56 69.8214 1455.96 71.8063 Q1452.39 73.7508 1447.37 73.7508 Q1439.15 73.7508 1433.96 67.1883 Q1428.82 60.6258 1428.82 49.9314 Q1428.82 39.2371 1433.96 32.6746 Q1439.15 26.1121 1447.37 26.1121 Q1452.39 26.1121 1455.96 28.0971 Q1459.56 30.0415 1461.91 34.0924 M1436.51 49.9314 Q1436.51 58.1548 1439.88 62.8538 Q1443.28 67.5124 1449.19 67.5124 Q1455.11 67.5124 1458.51 62.8538 Q1461.91 58.1548 1461.91 49.9314 Q1461.91 41.7081 1458.51 37.0496 Q1455.11 32.3505 1449.19 32.3505 Q1443.28 32.3505 1439.88 37.0496 Q1436.51 41.7081 1436.51 49.9314 Z\" fill=\"#000000\" fill-rule=\"nonzero\" fill-opacity=\"1\" /><circle clip-path=\"url(#clip262)\" cx=\"1420.86\" cy=\"477.263\" r=\"14.4\" fill=\"#009af9\" fill-rule=\"evenodd\" fill-opacity=\"1\" stroke=\"#000000\" stroke-opacity=\"1\" stroke-width=\"2.4\"/>\n",
       "<circle clip-path=\"url(#clip262)\" cx=\"1457.47\" cy=\"429.801\" r=\"14.4\" fill=\"#009af9\" fill-rule=\"evenodd\" fill-opacity=\"1\" stroke=\"#000000\" stroke-opacity=\"1\" stroke-width=\"2.4\"/>\n",
       "<circle clip-path=\"url(#clip262)\" cx=\"697.169\" cy=\"713.478\" r=\"14.4\" fill=\"#009af9\" fill-rule=\"evenodd\" fill-opacity=\"1\" stroke=\"#000000\" stroke-opacity=\"1\" stroke-width=\"2.4\"/>\n",
       "<circle clip-path=\"url(#clip262)\" cx=\"1352.12\" cy=\"391.573\" r=\"14.4\" fill=\"#009af9\" fill-rule=\"evenodd\" fill-opacity=\"1\" stroke=\"#000000\" stroke-opacity=\"1\" stroke-width=\"2.4\"/>\n",
       "<circle clip-path=\"url(#clip262)\" cx=\"822.38\" cy=\"538.804\" r=\"14.4\" fill=\"#009af9\" fill-rule=\"evenodd\" fill-opacity=\"1\" stroke=\"#000000\" stroke-opacity=\"1\" stroke-width=\"2.4\"/>\n",
       "<circle clip-path=\"url(#clip262)\" cx=\"716.934\" cy=\"509.113\" r=\"14.4\" fill=\"#009af9\" fill-rule=\"evenodd\" fill-opacity=\"1\" stroke=\"#000000\" stroke-opacity=\"1\" stroke-width=\"2.4\"/>\n",
       "<circle clip-path=\"url(#clip262)\" cx=\"810.753\" cy=\"681.889\" r=\"14.4\" fill=\"#009af9\" fill-rule=\"evenodd\" fill-opacity=\"1\" stroke=\"#000000\" stroke-opacity=\"1\" stroke-width=\"2.4\"/>\n",
       "<circle clip-path=\"url(#clip262)\" cx=\"1512.96\" cy=\"436.606\" r=\"14.4\" fill=\"#009af9\" fill-rule=\"evenodd\" fill-opacity=\"1\" stroke=\"#000000\" stroke-opacity=\"1\" stroke-width=\"2.4\"/>\n",
       "<circle clip-path=\"url(#clip262)\" cx=\"605.939\" cy=\"596.931\" r=\"14.4\" fill=\"#009af9\" fill-rule=\"evenodd\" fill-opacity=\"1\" stroke=\"#000000\" stroke-opacity=\"1\" stroke-width=\"2.4\"/>\n",
       "<circle clip-path=\"url(#clip262)\" cx=\"1343.09\" cy=\"381.934\" r=\"14.4\" fill=\"#009af9\" fill-rule=\"evenodd\" fill-opacity=\"1\" stroke=\"#000000\" stroke-opacity=\"1\" stroke-width=\"2.4\"/>\n",
       "<circle clip-path=\"url(#clip262)\" cx=\"1388.93\" cy=\"648.08\" r=\"14.4\" fill=\"#009af9\" fill-rule=\"evenodd\" fill-opacity=\"1\" stroke=\"#000000\" stroke-opacity=\"1\" stroke-width=\"2.4\"/>\n",
       "<circle clip-path=\"url(#clip262)\" cx=\"676.536\" cy=\"539.201\" r=\"14.4\" fill=\"#009af9\" fill-rule=\"evenodd\" fill-opacity=\"1\" stroke=\"#000000\" stroke-opacity=\"1\" stroke-width=\"2.4\"/>\n",
       "<circle clip-path=\"url(#clip262)\" cx=\"1394.35\" cy=\"498.983\" r=\"14.4\" fill=\"#009af9\" fill-rule=\"evenodd\" fill-opacity=\"1\" stroke=\"#000000\" stroke-opacity=\"1\" stroke-width=\"2.4\"/>\n",
       "<circle clip-path=\"url(#clip262)\" cx=\"1418.5\" cy=\"522.968\" r=\"14.4\" fill=\"#009af9\" fill-rule=\"evenodd\" fill-opacity=\"1\" stroke=\"#000000\" stroke-opacity=\"1\" stroke-width=\"2.4\"/>\n",
       "<circle clip-path=\"url(#clip262)\" cx=\"796.794\" cy=\"604.841\" r=\"14.4\" fill=\"#009af9\" fill-rule=\"evenodd\" fill-opacity=\"1\" stroke=\"#000000\" stroke-opacity=\"1\" stroke-width=\"2.4\"/>\n",
       "<circle clip-path=\"url(#clip262)\" cx=\"1517.92\" cy=\"584.298\" r=\"14.4\" fill=\"#009af9\" fill-rule=\"evenodd\" fill-opacity=\"1\" stroke=\"#000000\" stroke-opacity=\"1\" stroke-width=\"2.4\"/>\n",
       "<circle clip-path=\"url(#clip262)\" cx=\"666.802\" cy=\"666.441\" r=\"14.4\" fill=\"#009af9\" fill-rule=\"evenodd\" fill-opacity=\"1\" stroke=\"#000000\" stroke-opacity=\"1\" stroke-width=\"2.4\"/>\n",
       "<circle clip-path=\"url(#clip262)\" cx=\"1454.43\" cy=\"411.905\" r=\"14.4\" fill=\"#009af9\" fill-rule=\"evenodd\" fill-opacity=\"1\" stroke=\"#000000\" stroke-opacity=\"1\" stroke-width=\"2.4\"/>\n",
       "<circle clip-path=\"url(#clip262)\" cx=\"1362.93\" cy=\"576.869\" r=\"14.4\" fill=\"#009af9\" fill-rule=\"evenodd\" fill-opacity=\"1\" stroke=\"#000000\" stroke-opacity=\"1\" stroke-width=\"2.4\"/>\n",
       "<circle clip-path=\"url(#clip262)\" cx=\"847.122\" cy=\"582.382\" r=\"14.4\" fill=\"#009af9\" fill-rule=\"evenodd\" fill-opacity=\"1\" stroke=\"#000000\" stroke-opacity=\"1\" stroke-width=\"2.4\"/>\n",
       "<circle clip-path=\"url(#clip262)\" cx=\"778.601\" cy=\"564.501\" r=\"14.4\" fill=\"#009af9\" fill-rule=\"evenodd\" fill-opacity=\"1\" stroke=\"#000000\" stroke-opacity=\"1\" stroke-width=\"2.4\"/>\n",
       "<circle clip-path=\"url(#clip262)\" cx=\"1312.11\" cy=\"427.749\" r=\"14.4\" fill=\"#009af9\" fill-rule=\"evenodd\" fill-opacity=\"1\" stroke=\"#000000\" stroke-opacity=\"1\" stroke-width=\"2.4\"/>\n",
       "<circle clip-path=\"url(#clip262)\" cx=\"1504.9\" cy=\"536.665\" r=\"14.4\" fill=\"#009af9\" fill-rule=\"evenodd\" fill-opacity=\"1\" stroke=\"#000000\" stroke-opacity=\"1\" stroke-width=\"2.4\"/>\n",
       "<circle clip-path=\"url(#clip262)\" cx=\"859.422\" cy=\"667.494\" r=\"14.4\" fill=\"#009af9\" fill-rule=\"evenodd\" fill-opacity=\"1\" stroke=\"#000000\" stroke-opacity=\"1\" stroke-width=\"2.4\"/>\n",
       "<circle clip-path=\"url(#clip262)\" cx=\"1531.63\" cy=\"627.432\" r=\"14.4\" fill=\"#009af9\" fill-rule=\"evenodd\" fill-opacity=\"1\" stroke=\"#000000\" stroke-opacity=\"1\" stroke-width=\"2.4\"/>\n",
       "<circle clip-path=\"url(#clip262)\" cx=\"1293.26\" cy=\"428.909\" r=\"14.4\" fill=\"#009af9\" fill-rule=\"evenodd\" fill-opacity=\"1\" stroke=\"#000000\" stroke-opacity=\"1\" stroke-width=\"2.4\"/>\n",
       "<circle clip-path=\"url(#clip262)\" cx=\"1430.9\" cy=\"572.461\" r=\"14.4\" fill=\"#009af9\" fill-rule=\"evenodd\" fill-opacity=\"1\" stroke=\"#000000\" stroke-opacity=\"1\" stroke-width=\"2.4\"/>\n",
       "<circle clip-path=\"url(#clip262)\" cx=\"630.492\" cy=\"414.256\" r=\"14.4\" fill=\"#009af9\" fill-rule=\"evenodd\" fill-opacity=\"1\" stroke=\"#000000\" stroke-opacity=\"1\" stroke-width=\"2.4\"/>\n",
       "<circle clip-path=\"url(#clip262)\" cx=\"1322.84\" cy=\"529.247\" r=\"14.4\" fill=\"#009af9\" fill-rule=\"evenodd\" fill-opacity=\"1\" stroke=\"#000000\" stroke-opacity=\"1\" stroke-width=\"2.4\"/>\n",
       "<circle clip-path=\"url(#clip262)\" cx=\"844.326\" cy=\"454.268\" r=\"14.4\" fill=\"#009af9\" fill-rule=\"evenodd\" fill-opacity=\"1\" stroke=\"#000000\" stroke-opacity=\"1\" stroke-width=\"2.4\"/>\n",
       "<circle clip-path=\"url(#clip262)\" cx=\"1554.92\" cy=\"498.037\" r=\"14.4\" fill=\"#009af9\" fill-rule=\"evenodd\" fill-opacity=\"1\" stroke=\"#000000\" stroke-opacity=\"1\" stroke-width=\"2.4\"/>\n",
       "<circle clip-path=\"url(#clip262)\" cx=\"1510.13\" cy=\"454.89\" r=\"14.4\" fill=\"#009af9\" fill-rule=\"evenodd\" fill-opacity=\"1\" stroke=\"#000000\" stroke-opacity=\"1\" stroke-width=\"2.4\"/>\n",
       "<circle clip-path=\"url(#clip262)\" cx=\"1504.09\" cy=\"835.353\" r=\"14.4\" fill=\"#009af9\" fill-rule=\"evenodd\" fill-opacity=\"1\" stroke=\"#000000\" stroke-opacity=\"1\" stroke-width=\"2.4\"/>\n",
       "<circle clip-path=\"url(#clip262)\" cx=\"1327.93\" cy=\"540.203\" r=\"14.4\" fill=\"#009af9\" fill-rule=\"evenodd\" fill-opacity=\"1\" stroke=\"#000000\" stroke-opacity=\"1\" stroke-width=\"2.4\"/>\n",
       "<circle clip-path=\"url(#clip262)\" cx=\"742.996\" cy=\"436.75\" r=\"14.4\" fill=\"#009af9\" fill-rule=\"evenodd\" fill-opacity=\"1\" stroke=\"#000000\" stroke-opacity=\"1\" stroke-width=\"2.4\"/>\n",
       "<circle clip-path=\"url(#clip262)\" cx=\"1305.73\" cy=\"425.371\" r=\"14.4\" fill=\"#009af9\" fill-rule=\"evenodd\" fill-opacity=\"1\" stroke=\"#000000\" stroke-opacity=\"1\" stroke-width=\"2.4\"/>\n",
       "<circle clip-path=\"url(#clip262)\" cx=\"692.639\" cy=\"602.946\" r=\"14.4\" fill=\"#009af9\" fill-rule=\"evenodd\" fill-opacity=\"1\" stroke=\"#000000\" stroke-opacity=\"1\" stroke-width=\"2.4\"/>\n",
       "<circle clip-path=\"url(#clip262)\" cx=\"706.883\" cy=\"531.173\" r=\"14.4\" fill=\"#009af9\" fill-rule=\"evenodd\" fill-opacity=\"1\" stroke=\"#000000\" stroke-opacity=\"1\" stroke-width=\"2.4\"/>\n",
       "<circle clip-path=\"url(#clip262)\" cx=\"676.497\" cy=\"379.572\" r=\"14.4\" fill=\"#009af9\" fill-rule=\"evenodd\" fill-opacity=\"1\" stroke=\"#000000\" stroke-opacity=\"1\" stroke-width=\"2.4\"/>\n",
       "<circle clip-path=\"url(#clip262)\" cx=\"700.348\" cy=\"482.898\" r=\"14.4\" fill=\"#009af9\" fill-rule=\"evenodd\" fill-opacity=\"1\" stroke=\"#000000\" stroke-opacity=\"1\" stroke-width=\"2.4\"/>\n",
       "<circle clip-path=\"url(#clip262)\" cx=\"606.054\" cy=\"515.273\" r=\"14.4\" fill=\"#009af9\" fill-rule=\"evenodd\" fill-opacity=\"1\" stroke=\"#000000\" stroke-opacity=\"1\" stroke-width=\"2.4\"/>\n",
       "<circle clip-path=\"url(#clip262)\" cx=\"1281.47\" cy=\"610\" r=\"14.4\" fill=\"#009af9\" fill-rule=\"evenodd\" fill-opacity=\"1\" stroke=\"#000000\" stroke-opacity=\"1\" stroke-width=\"2.4\"/>\n",
       "<circle clip-path=\"url(#clip262)\" cx=\"1432.41\" cy=\"408.919\" r=\"14.4\" fill=\"#009af9\" fill-rule=\"evenodd\" fill-opacity=\"1\" stroke=\"#000000\" stroke-opacity=\"1\" stroke-width=\"2.4\"/>\n",
       "<circle clip-path=\"url(#clip262)\" cx=\"1363.47\" cy=\"480.037\" r=\"14.4\" fill=\"#009af9\" fill-rule=\"evenodd\" fill-opacity=\"1\" stroke=\"#000000\" stroke-opacity=\"1\" stroke-width=\"2.4\"/>\n",
       "<circle clip-path=\"url(#clip262)\" cx=\"1341.77\" cy=\"302.168\" r=\"14.4\" fill=\"#009af9\" fill-rule=\"evenodd\" fill-opacity=\"1\" stroke=\"#000000\" stroke-opacity=\"1\" stroke-width=\"2.4\"/>\n",
       "<circle clip-path=\"url(#clip262)\" cx=\"1619.99\" cy=\"556.176\" r=\"14.4\" fill=\"#009af9\" fill-rule=\"evenodd\" fill-opacity=\"1\" stroke=\"#000000\" stroke-opacity=\"1\" stroke-width=\"2.4\"/>\n",
       "<circle clip-path=\"url(#clip262)\" cx=\"1424.28\" cy=\"401.065\" r=\"14.4\" fill=\"#009af9\" fill-rule=\"evenodd\" fill-opacity=\"1\" stroke=\"#000000\" stroke-opacity=\"1\" stroke-width=\"2.4\"/>\n",
       "<circle clip-path=\"url(#clip262)\" cx=\"561.3\" cy=\"489.139\" r=\"14.4\" fill=\"#009af9\" fill-rule=\"evenodd\" fill-opacity=\"1\" stroke=\"#000000\" stroke-opacity=\"1\" stroke-width=\"2.4\"/>\n",
       "<circle clip-path=\"url(#clip262)\" cx=\"761.187\" cy=\"458.653\" r=\"14.4\" fill=\"#009af9\" fill-rule=\"evenodd\" fill-opacity=\"1\" stroke=\"#000000\" stroke-opacity=\"1\" stroke-width=\"2.4\"/>\n",
       "<circle clip-path=\"url(#clip262)\" cx=\"932.869\" cy=\"476.874\" r=\"14.4\" fill=\"#009af9\" fill-rule=\"evenodd\" fill-opacity=\"1\" stroke=\"#000000\" stroke-opacity=\"1\" stroke-width=\"2.4\"/>\n",
       "<circle clip-path=\"url(#clip262)\" cx=\"1402.64\" cy=\"435.644\" r=\"14.4\" fill=\"#009af9\" fill-rule=\"evenodd\" fill-opacity=\"1\" stroke=\"#000000\" stroke-opacity=\"1\" stroke-width=\"2.4\"/>\n",
       "<circle clip-path=\"url(#clip262)\" cx=\"1443\" cy=\"391.913\" r=\"14.4\" fill=\"#009af9\" fill-rule=\"evenodd\" fill-opacity=\"1\" stroke=\"#000000\" stroke-opacity=\"1\" stroke-width=\"2.4\"/>\n",
       "<circle clip-path=\"url(#clip262)\" cx=\"641.962\" cy=\"515.325\" r=\"14.4\" fill=\"#009af9\" fill-rule=\"evenodd\" fill-opacity=\"1\" stroke=\"#000000\" stroke-opacity=\"1\" stroke-width=\"2.4\"/>\n",
       "<circle clip-path=\"url(#clip262)\" cx=\"1443.66\" cy=\"598.258\" r=\"14.4\" fill=\"#009af9\" fill-rule=\"evenodd\" fill-opacity=\"1\" stroke=\"#000000\" stroke-opacity=\"1\" stroke-width=\"2.4\"/>\n",
       "<circle clip-path=\"url(#clip262)\" cx=\"711.751\" cy=\"654.233\" r=\"14.4\" fill=\"#009af9\" fill-rule=\"evenodd\" fill-opacity=\"1\" stroke=\"#000000\" stroke-opacity=\"1\" stroke-width=\"2.4\"/>\n",
       "<circle clip-path=\"url(#clip262)\" cx=\"1324.73\" cy=\"667.567\" r=\"14.4\" fill=\"#009af9\" fill-rule=\"evenodd\" fill-opacity=\"1\" stroke=\"#000000\" stroke-opacity=\"1\" stroke-width=\"2.4\"/>\n",
       "<circle clip-path=\"url(#clip262)\" cx=\"653.973\" cy=\"389.16\" r=\"14.4\" fill=\"#009af9\" fill-rule=\"evenodd\" fill-opacity=\"1\" stroke=\"#000000\" stroke-opacity=\"1\" stroke-width=\"2.4\"/>\n",
       "<circle clip-path=\"url(#clip262)\" cx=\"1392.03\" cy=\"553.918\" r=\"14.4\" fill=\"#009af9\" fill-rule=\"evenodd\" fill-opacity=\"1\" stroke=\"#000000\" stroke-opacity=\"1\" stroke-width=\"2.4\"/>\n",
       "<circle clip-path=\"url(#clip262)\" cx=\"1412.53\" cy=\"357.386\" r=\"14.4\" fill=\"#009af9\" fill-rule=\"evenodd\" fill-opacity=\"1\" stroke=\"#000000\" stroke-opacity=\"1\" stroke-width=\"2.4\"/>\n",
       "<circle clip-path=\"url(#clip262)\" cx=\"1642.08\" cy=\"612.54\" r=\"14.4\" fill=\"#009af9\" fill-rule=\"evenodd\" fill-opacity=\"1\" stroke=\"#000000\" stroke-opacity=\"1\" stroke-width=\"2.4\"/>\n",
       "<circle clip-path=\"url(#clip262)\" cx=\"840.946\" cy=\"689.903\" r=\"14.4\" fill=\"#009af9\" fill-rule=\"evenodd\" fill-opacity=\"1\" stroke=\"#000000\" stroke-opacity=\"1\" stroke-width=\"2.4\"/>\n",
       "<circle clip-path=\"url(#clip262)\" cx=\"1400.25\" cy=\"542.722\" r=\"14.4\" fill=\"#009af9\" fill-rule=\"evenodd\" fill-opacity=\"1\" stroke=\"#000000\" stroke-opacity=\"1\" stroke-width=\"2.4\"/>\n",
       "<circle clip-path=\"url(#clip262)\" cx=\"609.894\" cy=\"400.02\" r=\"14.4\" fill=\"#009af9\" fill-rule=\"evenodd\" fill-opacity=\"1\" stroke=\"#000000\" stroke-opacity=\"1\" stroke-width=\"2.4\"/>\n",
       "<circle clip-path=\"url(#clip262)\" cx=\"1341.61\" cy=\"619.002\" r=\"14.4\" fill=\"#009af9\" fill-rule=\"evenodd\" fill-opacity=\"1\" stroke=\"#000000\" stroke-opacity=\"1\" stroke-width=\"2.4\"/>\n",
       "<circle clip-path=\"url(#clip262)\" cx=\"688.741\" cy=\"582.081\" r=\"14.4\" fill=\"#009af9\" fill-rule=\"evenodd\" fill-opacity=\"1\" stroke=\"#000000\" stroke-opacity=\"1\" stroke-width=\"2.4\"/>\n",
       "<circle clip-path=\"url(#clip262)\" cx=\"818.796\" cy=\"465.441\" r=\"14.4\" fill=\"#009af9\" fill-rule=\"evenodd\" fill-opacity=\"1\" stroke=\"#000000\" stroke-opacity=\"1\" stroke-width=\"2.4\"/>\n",
       "<circle clip-path=\"url(#clip262)\" cx=\"1247.18\" cy=\"702.36\" r=\"14.4\" fill=\"#009af9\" fill-rule=\"evenodd\" fill-opacity=\"1\" stroke=\"#000000\" stroke-opacity=\"1\" stroke-width=\"2.4\"/>\n",
       "<circle clip-path=\"url(#clip262)\" cx=\"1403.49\" cy=\"499.23\" r=\"14.4\" fill=\"#009af9\" fill-rule=\"evenodd\" fill-opacity=\"1\" stroke=\"#000000\" stroke-opacity=\"1\" stroke-width=\"2.4\"/>\n",
       "<circle clip-path=\"url(#clip262)\" cx=\"1323.38\" cy=\"738.044\" r=\"14.4\" fill=\"#009af9\" fill-rule=\"evenodd\" fill-opacity=\"1\" stroke=\"#000000\" stroke-opacity=\"1\" stroke-width=\"2.4\"/>\n",
       "<circle clip-path=\"url(#clip262)\" cx=\"1506.65\" cy=\"416.854\" r=\"14.4\" fill=\"#009af9\" fill-rule=\"evenodd\" fill-opacity=\"1\" stroke=\"#000000\" stroke-opacity=\"1\" stroke-width=\"2.4\"/>\n",
       "<circle clip-path=\"url(#clip262)\" cx=\"861.244\" cy=\"496.833\" r=\"14.4\" fill=\"#009af9\" fill-rule=\"evenodd\" fill-opacity=\"1\" stroke=\"#000000\" stroke-opacity=\"1\" stroke-width=\"2.4\"/>\n",
       "<circle clip-path=\"url(#clip262)\" cx=\"1480.92\" cy=\"675.847\" r=\"14.4\" fill=\"#009af9\" fill-rule=\"evenodd\" fill-opacity=\"1\" stroke=\"#000000\" stroke-opacity=\"1\" stroke-width=\"2.4\"/>\n",
       "<circle clip-path=\"url(#clip262)\" cx=\"736.204\" cy=\"677.317\" r=\"14.4\" fill=\"#009af9\" fill-rule=\"evenodd\" fill-opacity=\"1\" stroke=\"#000000\" stroke-opacity=\"1\" stroke-width=\"2.4\"/>\n",
       "<circle clip-path=\"url(#clip262)\" cx=\"1476.42\" cy=\"554.738\" r=\"14.4\" fill=\"#009af9\" fill-rule=\"evenodd\" fill-opacity=\"1\" stroke=\"#000000\" stroke-opacity=\"1\" stroke-width=\"2.4\"/>\n",
       "<circle clip-path=\"url(#clip262)\" cx=\"1355.5\" cy=\"614.204\" r=\"14.4\" fill=\"#009af9\" fill-rule=\"evenodd\" fill-opacity=\"1\" stroke=\"#000000\" stroke-opacity=\"1\" stroke-width=\"2.4\"/>\n",
       "<circle clip-path=\"url(#clip262)\" cx=\"883.163\" cy=\"459.16\" r=\"14.4\" fill=\"#009af9\" fill-rule=\"evenodd\" fill-opacity=\"1\" stroke=\"#000000\" stroke-opacity=\"1\" stroke-width=\"2.4\"/>\n",
       "<circle clip-path=\"url(#clip262)\" cx=\"1547.39\" cy=\"521.494\" r=\"14.4\" fill=\"#009af9\" fill-rule=\"evenodd\" fill-opacity=\"1\" stroke=\"#000000\" stroke-opacity=\"1\" stroke-width=\"2.4\"/>\n",
       "<circle clip-path=\"url(#clip262)\" cx=\"1494.08\" cy=\"878.205\" r=\"14.4\" fill=\"#009af9\" fill-rule=\"evenodd\" fill-opacity=\"1\" stroke=\"#000000\" stroke-opacity=\"1\" stroke-width=\"2.4\"/>\n",
       "<circle clip-path=\"url(#clip262)\" cx=\"718.26\" cy=\"439.32\" r=\"14.4\" fill=\"#009af9\" fill-rule=\"evenodd\" fill-opacity=\"1\" stroke=\"#000000\" stroke-opacity=\"1\" stroke-width=\"2.4\"/>\n",
       "<circle clip-path=\"url(#clip262)\" cx=\"548.65\" cy=\"449.079\" r=\"14.4\" fill=\"#009af9\" fill-rule=\"evenodd\" fill-opacity=\"1\" stroke=\"#000000\" stroke-opacity=\"1\" stroke-width=\"2.4\"/>\n",
       "<circle clip-path=\"url(#clip262)\" cx=\"667.622\" cy=\"606.739\" r=\"14.4\" fill=\"#009af9\" fill-rule=\"evenodd\" fill-opacity=\"1\" stroke=\"#000000\" stroke-opacity=\"1\" stroke-width=\"2.4\"/>\n",
       "<circle clip-path=\"url(#clip262)\" cx=\"884.085\" cy=\"449.404\" r=\"14.4\" fill=\"#009af9\" fill-rule=\"evenodd\" fill-opacity=\"1\" stroke=\"#000000\" stroke-opacity=\"1\" stroke-width=\"2.4\"/>\n",
       "<circle clip-path=\"url(#clip262)\" cx=\"1291.43\" cy=\"395.719\" r=\"14.4\" fill=\"#009af9\" fill-rule=\"evenodd\" fill-opacity=\"1\" stroke=\"#000000\" stroke-opacity=\"1\" stroke-width=\"2.4\"/>\n",
       "<circle clip-path=\"url(#clip262)\" cx=\"1275.04\" cy=\"452.56\" r=\"14.4\" fill=\"#009af9\" fill-rule=\"evenodd\" fill-opacity=\"1\" stroke=\"#000000\" stroke-opacity=\"1\" stroke-width=\"2.4\"/>\n",
       "<circle clip-path=\"url(#clip262)\" cx=\"1521.45\" cy=\"431.205\" r=\"14.4\" fill=\"#009af9\" fill-rule=\"evenodd\" fill-opacity=\"1\" stroke=\"#000000\" stroke-opacity=\"1\" stroke-width=\"2.4\"/>\n",
       "<circle clip-path=\"url(#clip262)\" cx=\"808.757\" cy=\"523.923\" r=\"14.4\" fill=\"#009af9\" fill-rule=\"evenodd\" fill-opacity=\"1\" stroke=\"#000000\" stroke-opacity=\"1\" stroke-width=\"2.4\"/>\n",
       "<circle clip-path=\"url(#clip262)\" cx=\"636.757\" cy=\"618.297\" r=\"14.4\" fill=\"#009af9\" fill-rule=\"evenodd\" fill-opacity=\"1\" stroke=\"#000000\" stroke-opacity=\"1\" stroke-width=\"2.4\"/>\n",
       "<circle clip-path=\"url(#clip262)\" cx=\"1398.52\" cy=\"485.833\" r=\"14.4\" fill=\"#009af9\" fill-rule=\"evenodd\" fill-opacity=\"1\" stroke=\"#000000\" stroke-opacity=\"1\" stroke-width=\"2.4\"/>\n",
       "<circle clip-path=\"url(#clip262)\" cx=\"1285.5\" cy=\"401.535\" r=\"14.4\" fill=\"#009af9\" fill-rule=\"evenodd\" fill-opacity=\"1\" stroke=\"#000000\" stroke-opacity=\"1\" stroke-width=\"2.4\"/>\n",
       "<circle clip-path=\"url(#clip262)\" cx=\"1543.17\" cy=\"416.306\" r=\"14.4\" fill=\"#009af9\" fill-rule=\"evenodd\" fill-opacity=\"1\" stroke=\"#000000\" stroke-opacity=\"1\" stroke-width=\"2.4\"/>\n",
       "<circle clip-path=\"url(#clip262)\" cx=\"1462.22\" cy=\"536.622\" r=\"14.4\" fill=\"#009af9\" fill-rule=\"evenodd\" fill-opacity=\"1\" stroke=\"#000000\" stroke-opacity=\"1\" stroke-width=\"2.4\"/>\n",
       "<circle clip-path=\"url(#clip262)\" cx=\"723.931\" cy=\"427.159\" r=\"14.4\" fill=\"#009af9\" fill-rule=\"evenodd\" fill-opacity=\"1\" stroke=\"#000000\" stroke-opacity=\"1\" stroke-width=\"2.4\"/>\n",
       "<circle clip-path=\"url(#clip262)\" cx=\"692.277\" cy=\"615.591\" r=\"14.4\" fill=\"#009af9\" fill-rule=\"evenodd\" fill-opacity=\"1\" stroke=\"#000000\" stroke-opacity=\"1\" stroke-width=\"2.4\"/>\n",
       "<circle clip-path=\"url(#clip262)\" cx=\"814.036\" cy=\"659.542\" r=\"14.4\" fill=\"#009af9\" fill-rule=\"evenodd\" fill-opacity=\"1\" stroke=\"#000000\" stroke-opacity=\"1\" stroke-width=\"2.4\"/>\n",
       "<circle clip-path=\"url(#clip262)\" cx=\"1586.89\" cy=\"568.126\" r=\"14.4\" fill=\"#009af9\" fill-rule=\"evenodd\" fill-opacity=\"1\" stroke=\"#000000\" stroke-opacity=\"1\" stroke-width=\"2.4\"/>\n",
       "<circle clip-path=\"url(#clip262)\" cx=\"1407.93\" cy=\"557.564\" r=\"14.4\" fill=\"#009af9\" fill-rule=\"evenodd\" fill-opacity=\"1\" stroke=\"#000000\" stroke-opacity=\"1\" stroke-width=\"2.4\"/>\n",
       "<circle clip-path=\"url(#clip262)\" cx=\"1420.2\" cy=\"416.188\" r=\"14.4\" fill=\"#009af9\" fill-rule=\"evenodd\" fill-opacity=\"1\" stroke=\"#000000\" stroke-opacity=\"1\" stroke-width=\"2.4\"/>\n",
       "<circle clip-path=\"url(#clip262)\" cx=\"724.549\" cy=\"586.814\" r=\"14.4\" fill=\"#009af9\" fill-rule=\"evenodd\" fill-opacity=\"1\" stroke=\"#000000\" stroke-opacity=\"1\" stroke-width=\"2.4\"/>\n",
       "<circle clip-path=\"url(#clip262)\" cx=\"1400.36\" cy=\"628.876\" r=\"14.4\" fill=\"#009af9\" fill-rule=\"evenodd\" fill-opacity=\"1\" stroke=\"#000000\" stroke-opacity=\"1\" stroke-width=\"2.4\"/>\n",
       "<circle clip-path=\"url(#clip262)\" cx=\"726.735\" cy=\"807.979\" r=\"14.4\" fill=\"#009af9\" fill-rule=\"evenodd\" fill-opacity=\"1\" stroke=\"#000000\" stroke-opacity=\"1\" stroke-width=\"2.4\"/>\n",
       "<circle clip-path=\"url(#clip262)\" cx=\"631.303\" cy=\"596.208\" r=\"14.4\" fill=\"#009af9\" fill-rule=\"evenodd\" fill-opacity=\"1\" stroke=\"#000000\" stroke-opacity=\"1\" stroke-width=\"2.4\"/>\n",
       "<circle clip-path=\"url(#clip262)\" cx=\"1459.33\" cy=\"599.513\" r=\"14.4\" fill=\"#009af9\" fill-rule=\"evenodd\" fill-opacity=\"1\" stroke=\"#000000\" stroke-opacity=\"1\" stroke-width=\"2.4\"/>\n",
       "<circle clip-path=\"url(#clip262)\" cx=\"785.008\" cy=\"495.022\" r=\"14.4\" fill=\"#009af9\" fill-rule=\"evenodd\" fill-opacity=\"1\" stroke=\"#000000\" stroke-opacity=\"1\" stroke-width=\"2.4\"/>\n",
       "<circle clip-path=\"url(#clip262)\" cx=\"670.224\" cy=\"425.605\" r=\"14.4\" fill=\"#009af9\" fill-rule=\"evenodd\" fill-opacity=\"1\" stroke=\"#000000\" stroke-opacity=\"1\" stroke-width=\"2.4\"/>\n",
       "<circle clip-path=\"url(#clip262)\" cx=\"581.141\" cy=\"468.595\" r=\"14.4\" fill=\"#009af9\" fill-rule=\"evenodd\" fill-opacity=\"1\" stroke=\"#000000\" stroke-opacity=\"1\" stroke-width=\"2.4\"/>\n",
       "<circle clip-path=\"url(#clip262)\" cx=\"1546.7\" cy=\"527.121\" r=\"14.4\" fill=\"#009af9\" fill-rule=\"evenodd\" fill-opacity=\"1\" stroke=\"#000000\" stroke-opacity=\"1\" stroke-width=\"2.4\"/>\n",
       "<circle clip-path=\"url(#clip262)\" cx=\"1360.25\" cy=\"326.992\" r=\"14.4\" fill=\"#009af9\" fill-rule=\"evenodd\" fill-opacity=\"1\" stroke=\"#000000\" stroke-opacity=\"1\" stroke-width=\"2.4\"/>\n",
       "<circle clip-path=\"url(#clip262)\" cx=\"1360.35\" cy=\"505.643\" r=\"14.4\" fill=\"#009af9\" fill-rule=\"evenodd\" fill-opacity=\"1\" stroke=\"#000000\" stroke-opacity=\"1\" stroke-width=\"2.4\"/>\n",
       "<circle clip-path=\"url(#clip262)\" cx=\"1348.3\" cy=\"909.16\" r=\"14.4\" fill=\"#009af9\" fill-rule=\"evenodd\" fill-opacity=\"1\" stroke=\"#000000\" stroke-opacity=\"1\" stroke-width=\"2.4\"/>\n",
       "<circle clip-path=\"url(#clip262)\" cx=\"580.418\" cy=\"489.152\" r=\"14.4\" fill=\"#009af9\" fill-rule=\"evenodd\" fill-opacity=\"1\" stroke=\"#000000\" stroke-opacity=\"1\" stroke-width=\"2.4\"/>\n",
       "<circle clip-path=\"url(#clip262)\" cx=\"596.08\" cy=\"574.185\" r=\"14.4\" fill=\"#009af9\" fill-rule=\"evenodd\" fill-opacity=\"1\" stroke=\"#000000\" stroke-opacity=\"1\" stroke-width=\"2.4\"/>\n",
       "<circle clip-path=\"url(#clip262)\" cx=\"850.617\" cy=\"577.275\" r=\"14.4\" fill=\"#009af9\" fill-rule=\"evenodd\" fill-opacity=\"1\" stroke=\"#000000\" stroke-opacity=\"1\" stroke-width=\"2.4\"/>\n",
       "<circle clip-path=\"url(#clip262)\" cx=\"1442.83\" cy=\"870.149\" r=\"14.4\" fill=\"#009af9\" fill-rule=\"evenodd\" fill-opacity=\"1\" stroke=\"#000000\" stroke-opacity=\"1\" stroke-width=\"2.4\"/>\n",
       "<circle clip-path=\"url(#clip262)\" cx=\"897.828\" cy=\"531.842\" r=\"14.4\" fill=\"#009af9\" fill-rule=\"evenodd\" fill-opacity=\"1\" stroke=\"#000000\" stroke-opacity=\"1\" stroke-width=\"2.4\"/>\n",
       "<circle clip-path=\"url(#clip262)\" cx=\"1393.22\" cy=\"538.528\" r=\"14.4\" fill=\"#009af9\" fill-rule=\"evenodd\" fill-opacity=\"1\" stroke=\"#000000\" stroke-opacity=\"1\" stroke-width=\"2.4\"/>\n",
       "<circle clip-path=\"url(#clip262)\" cx=\"645.774\" cy=\"411.272\" r=\"14.4\" fill=\"#009af9\" fill-rule=\"evenodd\" fill-opacity=\"1\" stroke=\"#000000\" stroke-opacity=\"1\" stroke-width=\"2.4\"/>\n",
       "<circle clip-path=\"url(#clip262)\" cx=\"805.285\" cy=\"512.992\" r=\"14.4\" fill=\"#009af9\" fill-rule=\"evenodd\" fill-opacity=\"1\" stroke=\"#000000\" stroke-opacity=\"1\" stroke-width=\"2.4\"/>\n",
       "<circle clip-path=\"url(#clip262)\" cx=\"1379.27\" cy=\"732.03\" r=\"14.4\" fill=\"#009af9\" fill-rule=\"evenodd\" fill-opacity=\"1\" stroke=\"#000000\" stroke-opacity=\"1\" stroke-width=\"2.4\"/>\n",
       "<circle clip-path=\"url(#clip262)\" cx=\"1297.91\" cy=\"490.701\" r=\"14.4\" fill=\"#009af9\" fill-rule=\"evenodd\" fill-opacity=\"1\" stroke=\"#000000\" stroke-opacity=\"1\" stroke-width=\"2.4\"/>\n",
       "<circle clip-path=\"url(#clip262)\" cx=\"806.385\" cy=\"714.363\" r=\"14.4\" fill=\"#009af9\" fill-rule=\"evenodd\" fill-opacity=\"1\" stroke=\"#000000\" stroke-opacity=\"1\" stroke-width=\"2.4\"/>\n",
       "<circle clip-path=\"url(#clip262)\" cx=\"864.712\" cy=\"851.518\" r=\"14.4\" fill=\"#009af9\" fill-rule=\"evenodd\" fill-opacity=\"1\" stroke=\"#000000\" stroke-opacity=\"1\" stroke-width=\"2.4\"/>\n",
       "<circle clip-path=\"url(#clip262)\" cx=\"721.567\" cy=\"620.357\" r=\"14.4\" fill=\"#009af9\" fill-rule=\"evenodd\" fill-opacity=\"1\" stroke=\"#000000\" stroke-opacity=\"1\" stroke-width=\"2.4\"/>\n",
       "<circle clip-path=\"url(#clip262)\" cx=\"1422.22\" cy=\"738.527\" r=\"14.4\" fill=\"#009af9\" fill-rule=\"evenodd\" fill-opacity=\"1\" stroke=\"#000000\" stroke-opacity=\"1\" stroke-width=\"2.4\"/>\n",
       "<circle clip-path=\"url(#clip262)\" cx=\"733.796\" cy=\"525.169\" r=\"14.4\" fill=\"#009af9\" fill-rule=\"evenodd\" fill-opacity=\"1\" stroke=\"#000000\" stroke-opacity=\"1\" stroke-width=\"2.4\"/>\n",
       "<circle clip-path=\"url(#clip262)\" cx=\"727.097\" cy=\"637.922\" r=\"14.4\" fill=\"#009af9\" fill-rule=\"evenodd\" fill-opacity=\"1\" stroke=\"#000000\" stroke-opacity=\"1\" stroke-width=\"2.4\"/>\n",
       "<circle clip-path=\"url(#clip262)\" cx=\"617.816\" cy=\"475.013\" r=\"14.4\" fill=\"#009af9\" fill-rule=\"evenodd\" fill-opacity=\"1\" stroke=\"#000000\" stroke-opacity=\"1\" stroke-width=\"2.4\"/>\n",
       "<circle clip-path=\"url(#clip262)\" cx=\"1562.48\" cy=\"458.731\" r=\"14.4\" fill=\"#009af9\" fill-rule=\"evenodd\" fill-opacity=\"1\" stroke=\"#000000\" stroke-opacity=\"1\" stroke-width=\"2.4\"/>\n",
       "<circle clip-path=\"url(#clip262)\" cx=\"1388.1\" cy=\"593.092\" r=\"14.4\" fill=\"#009af9\" fill-rule=\"evenodd\" fill-opacity=\"1\" stroke=\"#000000\" stroke-opacity=\"1\" stroke-width=\"2.4\"/>\n",
       "<circle clip-path=\"url(#clip262)\" cx=\"1424.37\" cy=\"673.196\" r=\"14.4\" fill=\"#009af9\" fill-rule=\"evenodd\" fill-opacity=\"1\" stroke=\"#000000\" stroke-opacity=\"1\" stroke-width=\"2.4\"/>\n",
       "<circle clip-path=\"url(#clip262)\" cx=\"1426.84\" cy=\"447.833\" r=\"14.4\" fill=\"#009af9\" fill-rule=\"evenodd\" fill-opacity=\"1\" stroke=\"#000000\" stroke-opacity=\"1\" stroke-width=\"2.4\"/>\n",
       "<circle clip-path=\"url(#clip262)\" cx=\"867.707\" cy=\"479.555\" r=\"14.4\" fill=\"#009af9\" fill-rule=\"evenodd\" fill-opacity=\"1\" stroke=\"#000000\" stroke-opacity=\"1\" stroke-width=\"2.4\"/>\n",
       "<circle clip-path=\"url(#clip262)\" cx=\"594.867\" cy=\"427.814\" r=\"14.4\" fill=\"#009af9\" fill-rule=\"evenodd\" fill-opacity=\"1\" stroke=\"#000000\" stroke-opacity=\"1\" stroke-width=\"2.4\"/>\n",
       "<circle clip-path=\"url(#clip262)\" cx=\"834.672\" cy=\"485.942\" r=\"14.4\" fill=\"#009af9\" fill-rule=\"evenodd\" fill-opacity=\"1\" stroke=\"#000000\" stroke-opacity=\"1\" stroke-width=\"2.4\"/>\n",
       "<circle clip-path=\"url(#clip262)\" cx=\"1340.15\" cy=\"448.292\" r=\"14.4\" fill=\"#009af9\" fill-rule=\"evenodd\" fill-opacity=\"1\" stroke=\"#000000\" stroke-opacity=\"1\" stroke-width=\"2.4\"/>\n",
       "<circle clip-path=\"url(#clip262)\" cx=\"1388.84\" cy=\"716.266\" r=\"14.4\" fill=\"#009af9\" fill-rule=\"evenodd\" fill-opacity=\"1\" stroke=\"#000000\" stroke-opacity=\"1\" stroke-width=\"2.4\"/>\n",
       "<circle clip-path=\"url(#clip262)\" cx=\"638.723\" cy=\"653.757\" r=\"14.4\" fill=\"#009af9\" fill-rule=\"evenodd\" fill-opacity=\"1\" stroke=\"#000000\" stroke-opacity=\"1\" stroke-width=\"2.4\"/>\n",
       "<circle clip-path=\"url(#clip262)\" cx=\"1489.82\" cy=\"502.034\" r=\"14.4\" fill=\"#009af9\" fill-rule=\"evenodd\" fill-opacity=\"1\" stroke=\"#000000\" stroke-opacity=\"1\" stroke-width=\"2.4\"/>\n",
       "<circle clip-path=\"url(#clip262)\" cx=\"574.001\" cy=\"559.05\" r=\"14.4\" fill=\"#009af9\" fill-rule=\"evenodd\" fill-opacity=\"1\" stroke=\"#000000\" stroke-opacity=\"1\" stroke-width=\"2.4\"/>\n",
       "<circle clip-path=\"url(#clip262)\" cx=\"584.084\" cy=\"437.79\" r=\"14.4\" fill=\"#009af9\" fill-rule=\"evenodd\" fill-opacity=\"1\" stroke=\"#000000\" stroke-opacity=\"1\" stroke-width=\"2.4\"/>\n",
       "<circle clip-path=\"url(#clip262)\" cx=\"762.778\" cy=\"458.977\" r=\"14.4\" fill=\"#009af9\" fill-rule=\"evenodd\" fill-opacity=\"1\" stroke=\"#000000\" stroke-opacity=\"1\" stroke-width=\"2.4\"/>\n",
       "<circle clip-path=\"url(#clip262)\" cx=\"710.537\" cy=\"403.313\" r=\"14.4\" fill=\"#009af9\" fill-rule=\"evenodd\" fill-opacity=\"1\" stroke=\"#000000\" stroke-opacity=\"1\" stroke-width=\"2.4\"/>\n",
       "<circle clip-path=\"url(#clip262)\" cx=\"913.364\" cy=\"607.105\" r=\"14.4\" fill=\"#009af9\" fill-rule=\"evenodd\" fill-opacity=\"1\" stroke=\"#000000\" stroke-opacity=\"1\" stroke-width=\"2.4\"/>\n",
       "<circle clip-path=\"url(#clip262)\" cx=\"651.785\" cy=\"607.943\" r=\"14.4\" fill=\"#009af9\" fill-rule=\"evenodd\" fill-opacity=\"1\" stroke=\"#000000\" stroke-opacity=\"1\" stroke-width=\"2.4\"/>\n",
       "<circle clip-path=\"url(#clip262)\" cx=\"664.95\" cy=\"535.168\" r=\"14.4\" fill=\"#009af9\" fill-rule=\"evenodd\" fill-opacity=\"1\" stroke=\"#000000\" stroke-opacity=\"1\" stroke-width=\"2.4\"/>\n",
       "<circle clip-path=\"url(#clip262)\" cx=\"751.568\" cy=\"472.665\" r=\"14.4\" fill=\"#009af9\" fill-rule=\"evenodd\" fill-opacity=\"1\" stroke=\"#000000\" stroke-opacity=\"1\" stroke-width=\"2.4\"/>\n",
       "<circle clip-path=\"url(#clip262)\" cx=\"1364.95\" cy=\"760.45\" r=\"14.4\" fill=\"#009af9\" fill-rule=\"evenodd\" fill-opacity=\"1\" stroke=\"#000000\" stroke-opacity=\"1\" stroke-width=\"2.4\"/>\n",
       "<circle clip-path=\"url(#clip262)\" cx=\"850.695\" cy=\"456.432\" r=\"14.4\" fill=\"#009af9\" fill-rule=\"evenodd\" fill-opacity=\"1\" stroke=\"#000000\" stroke-opacity=\"1\" stroke-width=\"2.4\"/>\n",
       "<circle clip-path=\"url(#clip262)\" cx=\"1629.36\" cy=\"635.397\" r=\"14.4\" fill=\"#009af9\" fill-rule=\"evenodd\" fill-opacity=\"1\" stroke=\"#000000\" stroke-opacity=\"1\" stroke-width=\"2.4\"/>\n",
       "<circle clip-path=\"url(#clip262)\" cx=\"1405.75\" cy=\"581.812\" r=\"14.4\" fill=\"#009af9\" fill-rule=\"evenodd\" fill-opacity=\"1\" stroke=\"#000000\" stroke-opacity=\"1\" stroke-width=\"2.4\"/>\n",
       "<circle clip-path=\"url(#clip262)\" cx=\"1328.48\" cy=\"548.618\" r=\"14.4\" fill=\"#009af9\" fill-rule=\"evenodd\" fill-opacity=\"1\" stroke=\"#000000\" stroke-opacity=\"1\" stroke-width=\"2.4\"/>\n",
       "<circle clip-path=\"url(#clip262)\" cx=\"1368.24\" cy=\"528.057\" r=\"14.4\" fill=\"#009af9\" fill-rule=\"evenodd\" fill-opacity=\"1\" stroke=\"#000000\" stroke-opacity=\"1\" stroke-width=\"2.4\"/>\n",
       "<circle clip-path=\"url(#clip262)\" cx=\"1314.8\" cy=\"714.24\" r=\"14.4\" fill=\"#009af9\" fill-rule=\"evenodd\" fill-opacity=\"1\" stroke=\"#000000\" stroke-opacity=\"1\" stroke-width=\"2.4\"/>\n",
       "<circle clip-path=\"url(#clip262)\" cx=\"1511.81\" cy=\"690.223\" r=\"14.4\" fill=\"#009af9\" fill-rule=\"evenodd\" fill-opacity=\"1\" stroke=\"#000000\" stroke-opacity=\"1\" stroke-width=\"2.4\"/>\n",
       "<circle clip-path=\"url(#clip262)\" cx=\"1287.67\" cy=\"438.521\" r=\"14.4\" fill=\"#009af9\" fill-rule=\"evenodd\" fill-opacity=\"1\" stroke=\"#000000\" stroke-opacity=\"1\" stroke-width=\"2.4\"/>\n",
       "<circle clip-path=\"url(#clip262)\" cx=\"1515.71\" cy=\"461.382\" r=\"14.4\" fill=\"#009af9\" fill-rule=\"evenodd\" fill-opacity=\"1\" stroke=\"#000000\" stroke-opacity=\"1\" stroke-width=\"2.4\"/>\n",
       "<circle clip-path=\"url(#clip262)\" cx=\"1308.38\" cy=\"420.252\" r=\"14.4\" fill=\"#009af9\" fill-rule=\"evenodd\" fill-opacity=\"1\" stroke=\"#000000\" stroke-opacity=\"1\" stroke-width=\"2.4\"/>\n",
       "<circle clip-path=\"url(#clip262)\" cx=\"701.525\" cy=\"737.098\" r=\"14.4\" fill=\"#009af9\" fill-rule=\"evenodd\" fill-opacity=\"1\" stroke=\"#000000\" stroke-opacity=\"1\" stroke-width=\"2.4\"/>\n",
       "<circle clip-path=\"url(#clip262)\" cx=\"765.43\" cy=\"318.648\" r=\"14.4\" fill=\"#009af9\" fill-rule=\"evenodd\" fill-opacity=\"1\" stroke=\"#000000\" stroke-opacity=\"1\" stroke-width=\"2.4\"/>\n",
       "<circle clip-path=\"url(#clip262)\" cx=\"1415.55\" cy=\"357.084\" r=\"14.4\" fill=\"#009af9\" fill-rule=\"evenodd\" fill-opacity=\"1\" stroke=\"#000000\" stroke-opacity=\"1\" stroke-width=\"2.4\"/>\n",
       "<circle clip-path=\"url(#clip262)\" cx=\"663.675\" cy=\"431.414\" r=\"14.4\" fill=\"#009af9\" fill-rule=\"evenodd\" fill-opacity=\"1\" stroke=\"#000000\" stroke-opacity=\"1\" stroke-width=\"2.4\"/>\n",
       "<circle clip-path=\"url(#clip262)\" cx=\"771.288\" cy=\"685.903\" r=\"14.4\" fill=\"#009af9\" fill-rule=\"evenodd\" fill-opacity=\"1\" stroke=\"#000000\" stroke-opacity=\"1\" stroke-width=\"2.4\"/>\n",
       "<circle clip-path=\"url(#clip262)\" cx=\"1481.96\" cy=\"594.862\" r=\"14.4\" fill=\"#009af9\" fill-rule=\"evenodd\" fill-opacity=\"1\" stroke=\"#000000\" stroke-opacity=\"1\" stroke-width=\"2.4\"/>\n",
       "<circle clip-path=\"url(#clip262)\" cx=\"1526.39\" cy=\"486.794\" r=\"14.4\" fill=\"#009af9\" fill-rule=\"evenodd\" fill-opacity=\"1\" stroke=\"#000000\" stroke-opacity=\"1\" stroke-width=\"2.4\"/>\n",
       "<circle clip-path=\"url(#clip262)\" cx=\"759.433\" cy=\"518.686\" r=\"14.4\" fill=\"#009af9\" fill-rule=\"evenodd\" fill-opacity=\"1\" stroke=\"#000000\" stroke-opacity=\"1\" stroke-width=\"2.4\"/>\n",
       "<circle clip-path=\"url(#clip262)\" cx=\"712.919\" cy=\"547.358\" r=\"14.4\" fill=\"#009af9\" fill-rule=\"evenodd\" fill-opacity=\"1\" stroke=\"#000000\" stroke-opacity=\"1\" stroke-width=\"2.4\"/>\n",
       "<circle clip-path=\"url(#clip262)\" cx=\"640.723\" cy=\"611.732\" r=\"14.4\" fill=\"#009af9\" fill-rule=\"evenodd\" fill-opacity=\"1\" stroke=\"#000000\" stroke-opacity=\"1\" stroke-width=\"2.4\"/>\n",
       "<circle clip-path=\"url(#clip262)\" cx=\"1357.25\" cy=\"534.338\" r=\"14.4\" fill=\"#009af9\" fill-rule=\"evenodd\" fill-opacity=\"1\" stroke=\"#000000\" stroke-opacity=\"1\" stroke-width=\"2.4\"/>\n",
       "<circle clip-path=\"url(#clip262)\" cx=\"1578.57\" cy=\"581.193\" r=\"14.4\" fill=\"#009af9\" fill-rule=\"evenodd\" fill-opacity=\"1\" stroke=\"#000000\" stroke-opacity=\"1\" stroke-width=\"2.4\"/>\n",
       "<circle clip-path=\"url(#clip262)\" cx=\"1585.89\" cy=\"545.275\" r=\"14.4\" fill=\"#009af9\" fill-rule=\"evenodd\" fill-opacity=\"1\" stroke=\"#000000\" stroke-opacity=\"1\" stroke-width=\"2.4\"/>\n",
       "<circle clip-path=\"url(#clip262)\" cx=\"667.028\" cy=\"438.465\" r=\"14.4\" fill=\"#009af9\" fill-rule=\"evenodd\" fill-opacity=\"1\" stroke=\"#000000\" stroke-opacity=\"1\" stroke-width=\"2.4\"/>\n",
       "<circle clip-path=\"url(#clip262)\" cx=\"660.918\" cy=\"460.793\" r=\"14.4\" fill=\"#009af9\" fill-rule=\"evenodd\" fill-opacity=\"1\" stroke=\"#000000\" stroke-opacity=\"1\" stroke-width=\"2.4\"/>\n",
       "<circle clip-path=\"url(#clip262)\" cx=\"745.624\" cy=\"430.703\" r=\"14.4\" fill=\"#009af9\" fill-rule=\"evenodd\" fill-opacity=\"1\" stroke=\"#000000\" stroke-opacity=\"1\" stroke-width=\"2.4\"/>\n",
       "<circle clip-path=\"url(#clip262)\" cx=\"865.552\" cy=\"414.426\" r=\"14.4\" fill=\"#009af9\" fill-rule=\"evenodd\" fill-opacity=\"1\" stroke=\"#000000\" stroke-opacity=\"1\" stroke-width=\"2.4\"/>\n",
       "<circle clip-path=\"url(#clip262)\" cx=\"1266.79\" cy=\"629.863\" r=\"14.4\" fill=\"#009af9\" fill-rule=\"evenodd\" fill-opacity=\"1\" stroke=\"#000000\" stroke-opacity=\"1\" stroke-width=\"2.4\"/>\n",
       "<circle clip-path=\"url(#clip262)\" cx=\"717.028\" cy=\"647.723\" r=\"14.4\" fill=\"#009af9\" fill-rule=\"evenodd\" fill-opacity=\"1\" stroke=\"#000000\" stroke-opacity=\"1\" stroke-width=\"2.4\"/>\n",
       "<circle clip-path=\"url(#clip262)\" cx=\"1548.93\" cy=\"499.551\" r=\"14.4\" fill=\"#009af9\" fill-rule=\"evenodd\" fill-opacity=\"1\" stroke=\"#000000\" stroke-opacity=\"1\" stroke-width=\"2.4\"/>\n",
       "<circle clip-path=\"url(#clip262)\" cx=\"756.618\" cy=\"755.815\" r=\"14.4\" fill=\"#009af9\" fill-rule=\"evenodd\" fill-opacity=\"1\" stroke=\"#000000\" stroke-opacity=\"1\" stroke-width=\"2.4\"/>\n",
       "<circle clip-path=\"url(#clip262)\" cx=\"1551.74\" cy=\"516.835\" r=\"14.4\" fill=\"#009af9\" fill-rule=\"evenodd\" fill-opacity=\"1\" stroke=\"#000000\" stroke-opacity=\"1\" stroke-width=\"2.4\"/>\n",
       "<circle clip-path=\"url(#clip262)\" cx=\"673.013\" cy=\"537.803\" r=\"14.4\" fill=\"#009af9\" fill-rule=\"evenodd\" fill-opacity=\"1\" stroke=\"#000000\" stroke-opacity=\"1\" stroke-width=\"2.4\"/>\n",
       "<circle clip-path=\"url(#clip262)\" cx=\"720.018\" cy=\"514.337\" r=\"14.4\" fill=\"#009af9\" fill-rule=\"evenodd\" fill-opacity=\"1\" stroke=\"#000000\" stroke-opacity=\"1\" stroke-width=\"2.4\"/>\n",
       "<circle clip-path=\"url(#clip262)\" cx=\"1600.28\" cy=\"507.024\" r=\"14.4\" fill=\"#009af9\" fill-rule=\"evenodd\" fill-opacity=\"1\" stroke=\"#000000\" stroke-opacity=\"1\" stroke-width=\"2.4\"/>\n",
       "<circle clip-path=\"url(#clip262)\" cx=\"1320.28\" cy=\"501.661\" r=\"14.4\" fill=\"#009af9\" fill-rule=\"evenodd\" fill-opacity=\"1\" stroke=\"#000000\" stroke-opacity=\"1\" stroke-width=\"2.4\"/>\n",
       "<circle clip-path=\"url(#clip262)\" cx=\"524.853\" cy=\"531.759\" r=\"14.4\" fill=\"#009af9\" fill-rule=\"evenodd\" fill-opacity=\"1\" stroke=\"#000000\" stroke-opacity=\"1\" stroke-width=\"2.4\"/>\n",
       "<circle clip-path=\"url(#clip262)\" cx=\"780.971\" cy=\"351.962\" r=\"14.4\" fill=\"#009af9\" fill-rule=\"evenodd\" fill-opacity=\"1\" stroke=\"#000000\" stroke-opacity=\"1\" stroke-width=\"2.4\"/>\n",
       "<circle clip-path=\"url(#clip262)\" cx=\"1329.03\" cy=\"424.387\" r=\"14.4\" fill=\"#009af9\" fill-rule=\"evenodd\" fill-opacity=\"1\" stroke=\"#000000\" stroke-opacity=\"1\" stroke-width=\"2.4\"/>\n",
       "<circle clip-path=\"url(#clip262)\" cx=\"743.683\" cy=\"590.824\" r=\"14.4\" fill=\"#009af9\" fill-rule=\"evenodd\" fill-opacity=\"1\" stroke=\"#000000\" stroke-opacity=\"1\" stroke-width=\"2.4\"/>\n",
       "<circle clip-path=\"url(#clip262)\" cx=\"1523.21\" cy=\"418.661\" r=\"14.4\" fill=\"#009af9\" fill-rule=\"evenodd\" fill-opacity=\"1\" stroke=\"#000000\" stroke-opacity=\"1\" stroke-width=\"2.4\"/>\n",
       "<circle clip-path=\"url(#clip262)\" cx=\"787.231\" cy=\"494.146\" r=\"14.4\" fill=\"#009af9\" fill-rule=\"evenodd\" fill-opacity=\"1\" stroke=\"#000000\" stroke-opacity=\"1\" stroke-width=\"2.4\"/>\n",
       "<circle clip-path=\"url(#clip262)\" cx=\"819.402\" cy=\"683.795\" r=\"14.4\" fill=\"#009af9\" fill-rule=\"evenodd\" fill-opacity=\"1\" stroke=\"#000000\" stroke-opacity=\"1\" stroke-width=\"2.4\"/>\n",
       "<circle clip-path=\"url(#clip262)\" cx=\"1484.5\" cy=\"474.889\" r=\"14.4\" fill=\"#009af9\" fill-rule=\"evenodd\" fill-opacity=\"1\" stroke=\"#000000\" stroke-opacity=\"1\" stroke-width=\"2.4\"/>\n",
       "<circle clip-path=\"url(#clip262)\" cx=\"1392.16\" cy=\"521.703\" r=\"14.4\" fill=\"#009af9\" fill-rule=\"evenodd\" fill-opacity=\"1\" stroke=\"#000000\" stroke-opacity=\"1\" stroke-width=\"2.4\"/>\n",
       "<circle clip-path=\"url(#clip262)\" cx=\"1480.05\" cy=\"542.593\" r=\"14.4\" fill=\"#009af9\" fill-rule=\"evenodd\" fill-opacity=\"1\" stroke=\"#000000\" stroke-opacity=\"1\" stroke-width=\"2.4\"/>\n",
       "<circle clip-path=\"url(#clip262)\" cx=\"1490.84\" cy=\"595.432\" r=\"14.4\" fill=\"#009af9\" fill-rule=\"evenodd\" fill-opacity=\"1\" stroke=\"#000000\" stroke-opacity=\"1\" stroke-width=\"2.4\"/>\n",
       "<circle clip-path=\"url(#clip262)\" cx=\"1557.7\" cy=\"569.506\" r=\"14.4\" fill=\"#009af9\" fill-rule=\"evenodd\" fill-opacity=\"1\" stroke=\"#000000\" stroke-opacity=\"1\" stroke-width=\"2.4\"/>\n",
       "<circle clip-path=\"url(#clip262)\" cx=\"1420.89\" cy=\"436.436\" r=\"14.4\" fill=\"#009af9\" fill-rule=\"evenodd\" fill-opacity=\"1\" stroke=\"#000000\" stroke-opacity=\"1\" stroke-width=\"2.4\"/>\n",
       "<circle clip-path=\"url(#clip262)\" cx=\"648.219\" cy=\"508.784\" r=\"14.4\" fill=\"#009af9\" fill-rule=\"evenodd\" fill-opacity=\"1\" stroke=\"#000000\" stroke-opacity=\"1\" stroke-width=\"2.4\"/>\n",
       "<circle clip-path=\"url(#clip262)\" cx=\"872.623\" cy=\"734.048\" r=\"14.4\" fill=\"#009af9\" fill-rule=\"evenodd\" fill-opacity=\"1\" stroke=\"#000000\" stroke-opacity=\"1\" stroke-width=\"2.4\"/>\n",
       "<circle clip-path=\"url(#clip262)\" cx=\"1440.97\" cy=\"559.07\" r=\"14.4\" fill=\"#009af9\" fill-rule=\"evenodd\" fill-opacity=\"1\" stroke=\"#000000\" stroke-opacity=\"1\" stroke-width=\"2.4\"/>\n",
       "<circle clip-path=\"url(#clip262)\" cx=\"1330.56\" cy=\"337.929\" r=\"14.4\" fill=\"#009af9\" fill-rule=\"evenodd\" fill-opacity=\"1\" stroke=\"#000000\" stroke-opacity=\"1\" stroke-width=\"2.4\"/>\n",
       "<circle clip-path=\"url(#clip262)\" cx=\"709.353\" cy=\"583.999\" r=\"14.4\" fill=\"#009af9\" fill-rule=\"evenodd\" fill-opacity=\"1\" stroke=\"#000000\" stroke-opacity=\"1\" stroke-width=\"2.4\"/>\n",
       "<circle clip-path=\"url(#clip262)\" cx=\"1318.2\" cy=\"555.767\" r=\"14.4\" fill=\"#ff0000\" fill-rule=\"evenodd\" fill-opacity=\"1\" stroke=\"#000000\" stroke-opacity=\"1\" stroke-width=\"2.4\"/>\n",
       "<circle clip-path=\"url(#clip262)\" cx=\"839.193\" cy=\"545.677\" r=\"14.4\" fill=\"#ff0000\" fill-rule=\"evenodd\" fill-opacity=\"1\" stroke=\"#000000\" stroke-opacity=\"1\" stroke-width=\"2.4\"/>\n",
       "<circle clip-path=\"url(#clip262)\" cx=\"1073.92\" cy=\"502.696\" r=\"14.4\" fill=\"#ff0000\" fill-rule=\"evenodd\" fill-opacity=\"1\" stroke=\"#000000\" stroke-opacity=\"1\" stroke-width=\"2.4\"/>\n",
       "<circle clip-path=\"url(#clip262)\" cx=\"764.648\" cy=\"717.48\" r=\"14.4\" fill=\"#ff0000\" fill-rule=\"evenodd\" fill-opacity=\"1\" stroke=\"#000000\" stroke-opacity=\"1\" stroke-width=\"2.4\"/>\n",
       "<circle clip-path=\"url(#clip262)\" cx=\"499.961\" cy=\"530.336\" r=\"14.4\" fill=\"#ff0000\" fill-rule=\"evenodd\" fill-opacity=\"1\" stroke=\"#000000\" stroke-opacity=\"1\" stroke-width=\"2.4\"/>\n",
       "<path clip-path=\"url(#clip260)\" d=\"M1303.78 534.312 L1315.24 534.312 L1315.24 494.764 L1302.77 497.264 L1302.77 490.875 L1315.17 488.375 L1322.18 488.375 L1322.18 534.312 L1333.64 534.312 L1333.64 540.215 L1303.78 540.215 L1303.78 534.312 Z\" fill=\"#ff0000\" fill-rule=\"nonzero\" fill-opacity=\"1\" /><path clip-path=\"url(#clip260)\" d=\"M831.172 524.222 L855.651 524.222 L855.651 530.125 L822.734 530.125 L822.734 524.222 Q826.727 520.09 833.602 513.146 Q840.512 506.167 842.283 504.153 Q845.651 500.368 846.97 497.764 Q848.325 495.125 848.325 492.59 Q848.325 488.459 845.408 485.854 Q842.526 483.25 837.873 483.25 Q834.575 483.25 830.894 484.396 Q827.248 485.542 823.082 487.868 L823.082 480.785 Q827.318 479.084 830.998 478.216 Q834.679 477.347 837.734 477.347 Q845.79 477.347 850.581 481.375 Q855.373 485.403 855.373 492.139 Q855.373 495.334 854.158 498.215 Q852.977 501.063 849.818 504.952 Q848.95 505.958 844.297 510.785 Q839.644 515.576 831.172 524.222 Z\" fill=\"#ff0000\" fill-rule=\"nonzero\" fill-opacity=\"1\" /><path clip-path=\"url(#clip260)\" d=\"M1080.29 459.193 Q1085.33 460.269 1088.14 463.672 Q1090.99 467.075 1090.99 472.075 Q1090.99 479.749 1085.71 483.95 Q1080.43 488.151 1070.71 488.151 Q1067.44 488.151 1063.97 487.492 Q1060.53 486.867 1056.85 485.582 L1056.85 478.811 Q1059.77 480.512 1063.24 481.38 Q1066.71 482.249 1070.5 482.249 Q1077.1 482.249 1080.53 479.644 Q1084.01 477.04 1084.01 472.075 Q1084.01 467.492 1080.78 464.922 Q1077.58 462.318 1071.85 462.318 L1065.81 462.318 L1065.81 456.554 L1072.13 456.554 Q1077.3 456.554 1080.05 454.506 Q1082.79 452.422 1082.79 448.533 Q1082.79 444.54 1079.94 442.422 Q1077.13 440.27 1071.85 440.27 Q1068.97 440.27 1065.67 440.895 Q1062.37 441.52 1058.42 442.839 L1058.42 436.589 Q1062.41 435.478 1065.88 434.922 Q1069.39 434.367 1072.48 434.367 Q1080.46 434.367 1085.12 438.013 Q1089.77 441.624 1089.77 447.804 Q1089.77 452.11 1087.3 455.096 Q1084.84 458.047 1080.29 459.193 Z\" fill=\"#ff0000\" fill-rule=\"nonzero\" fill-opacity=\"1\" /><path clip-path=\"url(#clip260)\" d=\"M769.162 656.199 L751.453 683.873 L769.162 683.873 L769.162 656.199 M767.321 650.088 L776.141 650.088 L776.141 683.873 L783.536 683.873 L783.536 689.706 L776.141 689.706 L776.141 701.928 L769.162 701.928 L769.162 689.706 L745.759 689.706 L745.759 682.935 L767.321 650.088 Z\" fill=\"#ff0000\" fill-rule=\"nonzero\" fill-opacity=\"1\" /><path clip-path=\"url(#clip260)\" d=\"M485.378 462.944 L512.912 462.944 L512.912 468.846 L491.801 468.846 L491.801 481.555 Q493.329 481.034 494.857 480.791 Q496.384 480.513 497.912 480.513 Q506.593 480.513 511.662 485.27 Q516.732 490.027 516.732 498.152 Q516.732 506.52 511.523 511.173 Q506.315 515.791 496.836 515.791 Q493.572 515.791 490.169 515.235 Q486.801 514.679 483.19 513.568 L483.19 506.52 Q486.315 508.221 489.648 509.054 Q492.982 509.888 496.697 509.888 Q502.704 509.888 506.211 506.728 Q509.718 503.568 509.718 498.152 Q509.718 492.735 506.211 489.575 Q502.704 486.416 496.697 486.416 Q493.884 486.416 491.072 487.041 Q488.294 487.666 485.378 488.985 L485.378 462.944 Z\" fill=\"#ff0000\" fill-rule=\"nonzero\" fill-opacity=\"1\" /></svg>\n"
      ]
     },
     "metadata": {},
     "output_type": "display_data"
    }
   ],
   "source": [
    "pt2 = plot( pt, emails_new_transformed[1,:], emails_new_transformed[2,:], size=(500,300), markercolor=:red, seriestype=:scatter )\n",
    "\n",
    "for ind in 1:size(emails_new_transformed,2)\n",
    "    annotate!(pt2, emails_new_transformed[1,ind], emails_new_transformed[2,ind], text(string(ind), :red, :bottom, 12) )\n",
    "end\n",
    "\n",
    "display(pt2)"
   ]
  },
  {
   "cell_type": "markdown",
   "metadata": {},
   "source": [
    "## email 3 was our outlier and it does not reside within either cluster"
   ]
  },
  {
   "cell_type": "code",
   "execution_count": null,
   "metadata": {},
   "outputs": [],
   "source": []
  },
  {
   "cell_type": "code",
   "execution_count": null,
   "metadata": {},
   "outputs": [],
   "source": []
  },
  {
   "cell_type": "code",
   "execution_count": null,
   "metadata": {},
   "outputs": [],
   "source": []
  }
 ],
 "metadata": {
  "kernelspec": {
   "display_name": "Julia 1.8.2",
   "language": "julia",
   "name": "julia-1.8"
  },
  "language_info": {
   "file_extension": ".jl",
   "mimetype": "application/julia",
   "name": "julia",
   "version": "1.8.2"
  }
 },
 "nbformat": 4,
 "nbformat_minor": 4
}
