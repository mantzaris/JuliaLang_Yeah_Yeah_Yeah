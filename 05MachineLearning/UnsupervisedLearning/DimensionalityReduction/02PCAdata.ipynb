{
 "cells": [
  {
   "cell_type": "code",
   "execution_count": 1,
   "id": "6c46bba0-4d3d-4338-b582-a54772c004e6",
   "metadata": {},
   "outputs": [
    {
     "data": {
      "text/html": [
       "<div><div style = \"float: left;\"><span>469×6 DataFrame</span></div><div style = \"float: right;\"><span style = \"font-style: italic;\">444 rows omitted</span></div><div style = \"clear: both;\"></div></div><div class = \"data-frame\" style = \"overflow-x: scroll;\"><table class = \"data-frame\" style = \"margin-bottom: 6px;\"><thead><tr class = \"header\"><th class = \"rowNumber\" style = \"font-weight: bold; text-align: right;\">Row</th><th style = \"text-align: left;\">V1</th><th style = \"text-align: left;\">V2</th><th style = \"text-align: left;\">V3</th><th style = \"text-align: left;\">V4</th><th style = \"text-align: left;\">V5</th><th style = \"text-align: left;\">V6</th></tr><tr class = \"subheader headerLastRow\"><th class = \"rowNumber\" style = \"font-weight: bold; text-align: right;\"></th><th title = \"Union{Missing, Float64}\" style = \"text-align: left;\">Float64?</th><th title = \"Union{Missing, Float64}\" style = \"text-align: left;\">Float64?</th><th title = \"Float64\" style = \"text-align: left;\">Float64</th><th title = \"Union{Missing, Float64}\" style = \"text-align: left;\">Float64?</th><th title = \"Union{Missing, Float64}\" style = \"text-align: left;\">Float64?</th><th title = \"Union{Missing, Float64}\" style = \"text-align: left;\">Float64?</th></tr></thead><tbody><tr><td class = \"rowNumber\" style = \"font-weight: bold; text-align: right;\">1</td><td style = \"font-style: italic; text-align: right;\">missing</td><td style = \"text-align: right;\">-203.7</td><td style = \"text-align: right;\">-84.1</td><td style = \"text-align: right;\">18.5</td><td style = \"font-style: italic; text-align: right;\">missing</td><td style = \"font-style: italic; text-align: right;\">missing</td></tr><tr><td class = \"rowNumber\" style = \"font-weight: bold; text-align: right;\">2</td><td style = \"font-style: italic; text-align: right;\">missing</td><td style = \"text-align: right;\">-203.0</td><td style = \"text-align: right;\">-97.8</td><td style = \"text-align: right;\">25.8</td><td style = \"text-align: right;\">134.7</td><td style = \"font-style: italic; text-align: right;\">missing</td></tr><tr><td class = \"rowNumber\" style = \"font-weight: bold; text-align: right;\">3</td><td style = \"font-style: italic; text-align: right;\">missing</td><td style = \"text-align: right;\">-249.0</td><td style = \"text-align: right;\">-92.1</td><td style = \"text-align: right;\">27.8</td><td style = \"text-align: right;\">177.1</td><td style = \"font-style: italic; text-align: right;\">missing</td></tr><tr><td class = \"rowNumber\" style = \"font-weight: bold; text-align: right;\">4</td><td style = \"font-style: italic; text-align: right;\">missing</td><td style = \"text-align: right;\">-231.5</td><td style = \"text-align: right;\">-97.5</td><td style = \"text-align: right;\">27.0</td><td style = \"text-align: right;\">150.3</td><td style = \"font-style: italic; text-align: right;\">missing</td></tr><tr><td class = \"rowNumber\" style = \"font-weight: bold; text-align: right;\">5</td><td style = \"font-style: italic; text-align: right;\">missing</td><td style = \"font-style: italic; text-align: right;\">missing</td><td style = \"text-align: right;\">-130.1</td><td style = \"text-align: right;\">25.8</td><td style = \"text-align: right;\">160.0</td><td style = \"font-style: italic; text-align: right;\">missing</td></tr><tr><td class = \"rowNumber\" style = \"font-weight: bold; text-align: right;\">6</td><td style = \"font-style: italic; text-align: right;\">missing</td><td style = \"text-align: right;\">-223.1</td><td style = \"text-align: right;\">-70.7</td><td style = \"text-align: right;\">62.1</td><td style = \"text-align: right;\">197.5</td><td style = \"font-style: italic; text-align: right;\">missing</td></tr><tr><td class = \"rowNumber\" style = \"font-weight: bold; text-align: right;\">7</td><td style = \"font-style: italic; text-align: right;\">missing</td><td style = \"text-align: right;\">-164.8</td><td style = \"text-align: right;\">-12.2</td><td style = \"text-align: right;\">76.8</td><td style = \"text-align: right;\">202.8</td><td style = \"font-style: italic; text-align: right;\">missing</td></tr><tr><td class = \"rowNumber\" style = \"font-weight: bold; text-align: right;\">8</td><td style = \"font-style: italic; text-align: right;\">missing</td><td style = \"text-align: right;\">-221.6</td><td style = \"text-align: right;\">-81.9</td><td style = \"text-align: right;\">27.5</td><td style = \"text-align: right;\">144.5</td><td style = \"font-style: italic; text-align: right;\">missing</td></tr><tr><td class = \"rowNumber\" style = \"font-weight: bold; text-align: right;\">9</td><td style = \"font-style: italic; text-align: right;\">missing</td><td style = \"text-align: right;\">-153.7</td><td style = \"text-align: right;\">-17.0</td><td style = \"text-align: right;\">76.1</td><td style = \"text-align: right;\">222.4</td><td style = \"font-style: italic; text-align: right;\">missing</td></tr><tr><td class = \"rowNumber\" style = \"font-weight: bold; text-align: right;\">10</td><td style = \"font-style: italic; text-align: right;\">missing</td><td style = \"text-align: right;\">-184.7</td><td style = \"text-align: right;\">-47.3</td><td style = \"text-align: right;\">74.4</td><td style = \"text-align: right;\">208.9</td><td style = \"font-style: italic; text-align: right;\">missing</td></tr><tr><td class = \"rowNumber\" style = \"font-weight: bold; text-align: right;\">11</td><td style = \"font-style: italic; text-align: right;\">missing</td><td style = \"font-style: italic; text-align: right;\">missing</td><td style = \"text-align: right;\">-148.8</td><td style = \"text-align: right;\">11.4</td><td style = \"text-align: right;\">137.7</td><td style = \"font-style: italic; text-align: right;\">missing</td></tr><tr><td class = \"rowNumber\" style = \"font-weight: bold; text-align: right;\">12</td><td style = \"font-style: italic; text-align: right;\">missing</td><td style = \"text-align: right;\">-197.6</td><td style = \"text-align: right;\">-6.4</td><td style = \"text-align: right;\">137.1</td><td style = \"font-style: italic; text-align: right;\">missing</td><td style = \"font-style: italic; text-align: right;\">missing</td></tr><tr><td class = \"rowNumber\" style = \"font-weight: bold; text-align: right;\">13</td><td style = \"font-style: italic; text-align: right;\">missing</td><td style = \"text-align: right;\">-247.8</td><td style = \"text-align: right;\">-35.4</td><td style = \"text-align: right;\">80.9</td><td style = \"text-align: right;\">229.5</td><td style = \"font-style: italic; text-align: right;\">missing</td></tr><tr><td style = \"text-align: right;\">&vellip;</td><td style = \"text-align: right;\">&vellip;</td><td style = \"text-align: right;\">&vellip;</td><td style = \"text-align: right;\">&vellip;</td><td style = \"text-align: right;\">&vellip;</td><td style = \"text-align: right;\">&vellip;</td><td style = \"text-align: right;\">&vellip;</td></tr><tr><td class = \"rowNumber\" style = \"font-weight: bold; text-align: right;\">458</td><td style = \"font-style: italic; text-align: right;\">-222.2</td><td style = \"text-align: right;\">-104.6</td><td style = \"text-align: right;\">-2.4</td><td style = \"text-align: right;\">84.3</td><td style = \"text-align: right;\">204.7</td><td style = \"font-style: italic; text-align: right;\">missing</td></tr><tr><td class = \"rowNumber\" style = \"font-weight: bold; text-align: right;\">459</td><td style = \"text-align: right;\">-236.3</td><td style = \"text-align: right;\">-124.0</td><td style = \"text-align: right;\">-6.8</td><td style = \"text-align: right;\">95.7</td><td style = \"text-align: right;\">196.0</td><td style = \"font-style: italic; text-align: right;\">missing</td></tr><tr><td class = \"rowNumber\" style = \"font-weight: bold; text-align: right;\">460</td><td style = \"font-style: italic; text-align: right;\">missing</td><td style = \"text-align: right;\">-216.5</td><td style = \"text-align: right;\">-90.2</td><td style = \"text-align: right;\">27.8</td><td style = \"text-align: right;\">138.9</td><td style = \"font-style: italic; text-align: right;\">missing</td></tr><tr><td class = \"rowNumber\" style = \"font-weight: bold; text-align: right;\">461</td><td style = \"font-style: italic; text-align: right;\">missing</td><td style = \"text-align: right;\">-163.2</td><td style = \"text-align: right;\">-43.6</td><td style = \"text-align: right;\">69.5</td><td style = \"text-align: right;\">173.9</td><td style = \"font-style: italic; text-align: right;\">missing</td></tr><tr><td class = \"rowNumber\" style = \"font-weight: bold; text-align: right;\">462</td><td style = \"font-style: italic; text-align: right;\">missing</td><td style = \"text-align: right;\">-207.3</td><td style = \"text-align: right;\">-88.3</td><td style = \"text-align: right;\">9.6</td><td style = \"text-align: right;\">104.1</td><td style = \"font-style: italic; text-align: right;\">218.0</td></tr><tr><td class = \"rowNumber\" style = \"font-weight: bold; text-align: right;\">463</td><td style = \"font-style: italic; text-align: right;\">-242.6</td><td style = \"text-align: right;\">-142.0</td><td style = \"text-align: right;\">-21.8</td><td style = \"text-align: right;\">69.8</td><td style = \"text-align: right;\">148.7</td><td style = \"font-style: italic; text-align: right;\">missing</td></tr><tr><td class = \"rowNumber\" style = \"font-weight: bold; text-align: right;\">464</td><td style = \"font-style: italic; text-align: right;\">-235.9</td><td style = \"font-style: italic; text-align: right;\">-128.8</td><td style = \"text-align: right;\">-33.1</td><td style = \"text-align: right;\">68.8</td><td style = \"font-style: italic; text-align: right;\">177.1</td><td style = \"font-style: italic; text-align: right;\">missing</td></tr><tr><td class = \"rowNumber\" style = \"font-weight: bold; text-align: right;\">465</td><td style = \"font-style: italic; text-align: right;\">missing</td><td style = \"text-align: right;\">-140.8</td><td style = \"text-align: right;\">-38.7</td><td style = \"text-align: right;\">58.1</td><td style = \"text-align: right;\">186.3</td><td style = \"font-style: italic; text-align: right;\">missing</td></tr><tr><td class = \"rowNumber\" style = \"font-weight: bold; text-align: right;\">466</td><td style = \"font-style: italic; text-align: right;\">missing</td><td style = \"text-align: right;\">-149.5</td><td style = \"text-align: right;\">-40.3</td><td style = \"text-align: right;\">62.8</td><td style = \"text-align: right;\">139.7</td><td style = \"font-style: italic; text-align: right;\">242.5</td></tr><tr><td class = \"rowNumber\" style = \"font-weight: bold; text-align: right;\">467</td><td style = \"text-align: right;\">-247.6</td><td style = \"text-align: right;\">-157.8</td><td style = \"text-align: right;\">-53.3</td><td style = \"text-align: right;\">28.3</td><td style = \"text-align: right;\">122.9</td><td style = \"font-style: italic; text-align: right;\">227.6</td></tr><tr><td class = \"rowNumber\" style = \"font-weight: bold; text-align: right;\">468</td><td style = \"font-style: italic; text-align: right;\">missing</td><td style = \"text-align: right;\">-154.9</td><td style = \"text-align: right;\">-50.8</td><td style = \"text-align: right;\">28.1</td><td style = \"text-align: right;\">119.9</td><td style = \"font-style: italic; text-align: right;\">201.1</td></tr><tr><td class = \"rowNumber\" style = \"font-weight: bold; text-align: right;\">469</td><td style = \"font-style: italic; text-align: right;\">missing</td><td style = \"text-align: right;\">-180.7</td><td style = \"text-align: right;\">-70.9</td><td style = \"text-align: right;\">33.7</td><td style = \"text-align: right;\">114.8</td><td style = \"font-style: italic; text-align: right;\">222.5</td></tr></tbody></table></div>"
      ],
      "text/latex": [
       "\\begin{tabular}{r|cccccc}\n",
       "\t& V1 & V2 & V3 & V4 & V5 & V6\\\\\n",
       "\t\\hline\n",
       "\t& Float64? & Float64? & Float64 & Float64? & Float64? & Float64?\\\\\n",
       "\t\\hline\n",
       "\t1 & \\emph{missing} & -203.7 & -84.1 & 18.5 & \\emph{missing} & \\emph{missing} \\\\\n",
       "\t2 & \\emph{missing} & -203.0 & -97.8 & 25.8 & 134.7 & \\emph{missing} \\\\\n",
       "\t3 & \\emph{missing} & -249.0 & -92.1 & 27.8 & 177.1 & \\emph{missing} \\\\\n",
       "\t4 & \\emph{missing} & -231.5 & -97.5 & 27.0 & 150.3 & \\emph{missing} \\\\\n",
       "\t5 & \\emph{missing} & \\emph{missing} & -130.1 & 25.8 & 160.0 & \\emph{missing} \\\\\n",
       "\t6 & \\emph{missing} & -223.1 & -70.7 & 62.1 & 197.5 & \\emph{missing} \\\\\n",
       "\t7 & \\emph{missing} & -164.8 & -12.2 & 76.8 & 202.8 & \\emph{missing} \\\\\n",
       "\t8 & \\emph{missing} & -221.6 & -81.9 & 27.5 & 144.5 & \\emph{missing} \\\\\n",
       "\t9 & \\emph{missing} & -153.7 & -17.0 & 76.1 & 222.4 & \\emph{missing} \\\\\n",
       "\t10 & \\emph{missing} & -184.7 & -47.3 & 74.4 & 208.9 & \\emph{missing} \\\\\n",
       "\t11 & \\emph{missing} & \\emph{missing} & -148.8 & 11.4 & 137.7 & \\emph{missing} \\\\\n",
       "\t12 & \\emph{missing} & -197.6 & -6.4 & 137.1 & \\emph{missing} & \\emph{missing} \\\\\n",
       "\t13 & \\emph{missing} & -247.8 & -35.4 & 80.9 & 229.5 & \\emph{missing} \\\\\n",
       "\t14 & \\emph{missing} & -227.0 & -104.7 & 20.2 & 140.2 & \\emph{missing} \\\\\n",
       "\t15 & -233.6 & -115.9 & -10.5 & 70.0 & 202.6 & \\emph{missing} \\\\\n",
       "\t16 & \\emph{missing} & -232.4 & -100.6 & 16.8 & 145.1 & \\emph{missing} \\\\\n",
       "\t17 & \\emph{missing} & -199.4 & -58.2 & 29.1 & 184.4 & \\emph{missing} \\\\\n",
       "\t18 & \\emph{missing} & -195.7 & -89.5 & 26.4 & 142.7 & \\emph{missing} \\\\\n",
       "\t19 & \\emph{missing} & -180.1 & -65.0 & 27.3 & 171.1 & \\emph{missing} \\\\\n",
       "\t20 & \\emph{missing} & \\emph{missing} & -85.2 & 27.1 & \\emph{missing} & \\emph{missing} \\\\\n",
       "\t21 & \\emph{missing} & -217.3 & -77.1 & 27.6 & 151.5 & \\emph{missing} \\\\\n",
       "\t22 & \\emph{missing} & -139.7 & -15.8 & 83.0 & 215.5 & \\emph{missing} \\\\\n",
       "\t23 & -249.6 & -132.8 & -14.1 & 78.1 & 205.7 & \\emph{missing} \\\\\n",
       "\t24 & \\emph{missing} & -152.7 & -36.9 & 29.7 & 149.8 & \\emph{missing} \\\\\n",
       "\t25 & \\emph{missing} & -224.1 & -81.9 & 29.1 & 172.2 & \\emph{missing} \\\\\n",
       "\t26 & \\emph{missing} & \\emph{missing} & -235.8 & 6.0 & 144.4 & \\emph{missing} \\\\\n",
       "\t27 & \\emph{missing} & -202.8 & -45.1 & 84.0 & 227.3 & \\emph{missing} \\\\\n",
       "\t28 & -240.9 & -138.4 & -21.5 & 73.4 & 210.6 & \\emph{missing} \\\\\n",
       "\t29 & -247.1 & -128.2 & -31.3 & 29.2 & 143.1 & \\emph{missing} \\\\\n",
       "\t30 & \\emph{missing} & -185.4 & -80.3 & 23.9 & 115.8 & 222.7 \\\\\n",
       "\t$\\dots$ & $\\dots$ & $\\dots$ & $\\dots$ & $\\dots$ & $\\dots$ & $\\dots$ \\\\\n",
       "\\end{tabular}\n"
      ],
      "text/plain": [
       "\u001b[1m469×6 DataFrame\u001b[0m\n",
       "\u001b[1m Row \u001b[0m│\u001b[1m V1        \u001b[0m\u001b[1m V2        \u001b[0m\u001b[1m V3      \u001b[0m\u001b[1m V4       \u001b[0m\u001b[1m V5        \u001b[0m\u001b[1m V6        \u001b[0m\n",
       "     │\u001b[90m Float64?  \u001b[0m\u001b[90m Float64?  \u001b[0m\u001b[90m Float64 \u001b[0m\u001b[90m Float64? \u001b[0m\u001b[90m Float64?  \u001b[0m\u001b[90m Float64?  \u001b[0m\n",
       "─────┼───────────────────────────────────────────────────────────────\n",
       "   1 │\u001b[90m missing   \u001b[0m    -203.7    -84.1      18.5 \u001b[90m missing   \u001b[0m\u001b[90m missing   \u001b[0m\n",
       "   2 │\u001b[90m missing   \u001b[0m    -203.0    -97.8      25.8      134.7 \u001b[90m missing   \u001b[0m\n",
       "   3 │\u001b[90m missing   \u001b[0m    -249.0    -92.1      27.8      177.1 \u001b[90m missing   \u001b[0m\n",
       "   4 │\u001b[90m missing   \u001b[0m    -231.5    -97.5      27.0      150.3 \u001b[90m missing   \u001b[0m\n",
       "   5 │\u001b[90m missing   \u001b[0m\u001b[90m missing   \u001b[0m  -130.1      25.8      160.0 \u001b[90m missing   \u001b[0m\n",
       "   6 │\u001b[90m missing   \u001b[0m    -223.1    -70.7      62.1      197.5 \u001b[90m missing   \u001b[0m\n",
       "   7 │\u001b[90m missing   \u001b[0m    -164.8    -12.2      76.8      202.8 \u001b[90m missing   \u001b[0m\n",
       "   8 │\u001b[90m missing   \u001b[0m    -221.6    -81.9      27.5      144.5 \u001b[90m missing   \u001b[0m\n",
       "   9 │\u001b[90m missing   \u001b[0m    -153.7    -17.0      76.1      222.4 \u001b[90m missing   \u001b[0m\n",
       "  10 │\u001b[90m missing   \u001b[0m    -184.7    -47.3      74.4      208.9 \u001b[90m missing   \u001b[0m\n",
       "  11 │\u001b[90m missing   \u001b[0m\u001b[90m missing   \u001b[0m  -148.8      11.4      137.7 \u001b[90m missing   \u001b[0m\n",
       "  ⋮  │     ⋮          ⋮         ⋮        ⋮          ⋮          ⋮\n",
       " 460 │\u001b[90m missing   \u001b[0m    -216.5    -90.2      27.8      138.9 \u001b[90m missing   \u001b[0m\n",
       " 461 │\u001b[90m missing   \u001b[0m    -163.2    -43.6      69.5      173.9 \u001b[90m missing   \u001b[0m\n",
       " 462 │\u001b[90m missing   \u001b[0m    -207.3    -88.3       9.6      104.1      218.0\n",
       " 463 │    -242.6     -142.0    -21.8      69.8      148.7 \u001b[90m missing   \u001b[0m\n",
       " 464 │    -235.9     -128.8    -33.1      68.8      177.1 \u001b[90m missing   \u001b[0m\n",
       " 465 │\u001b[90m missing   \u001b[0m    -140.8    -38.7      58.1      186.3 \u001b[90m missing   \u001b[0m\n",
       " 466 │\u001b[90m missing   \u001b[0m    -149.5    -40.3      62.8      139.7      242.5\n",
       " 467 │    -247.6     -157.8    -53.3      28.3      122.9      227.6\n",
       " 468 │\u001b[90m missing   \u001b[0m    -154.9    -50.8      28.1      119.9      201.1\n",
       " 469 │\u001b[90m missing   \u001b[0m    -180.7    -70.9      33.7      114.8      222.5\n",
       "\u001b[36m                                                     448 rows omitted\u001b[0m"
      ]
     },
     "execution_count": 1,
     "metadata": {},
     "output_type": "execute_result"
    }
   ],
   "source": [
    "using RDatasets\n",
    "iris = dataset(\"datasets\", \"iris\")\n",
    "neuro = dataset(\"boot\", \"neuro\")"
   ]
  },
  {
   "cell_type": "code",
   "execution_count": null,
   "id": "479aa375-a6bc-4aac-944f-496ec327ae12",
   "metadata": {},
   "outputs": [],
   "source": []
  },
  {
   "cell_type": "code",
   "execution_count": null,
   "id": "e4fece3b-ad46-43d3-831d-f04b5be2f5e9",
   "metadata": {},
   "outputs": [],
   "source": []
  },
  {
   "cell_type": "code",
   "execution_count": null,
   "id": "e3b26073-32d2-4f12-bdcf-0fbb0fc30ec4",
   "metadata": {},
   "outputs": [],
   "source": []
  },
  {
   "cell_type": "code",
   "execution_count": null,
   "id": "dbdf83dd-b7c5-4687-8f83-417126ef15c3",
   "metadata": {},
   "outputs": [],
   "source": []
  },
  {
   "cell_type": "code",
   "execution_count": null,
   "id": "b9893539-7ae1-4814-8a11-0b48a9479350",
   "metadata": {},
   "outputs": [],
   "source": []
  },
  {
   "cell_type": "code",
   "execution_count": 2,
   "id": "86ae71c9-c998-4d23-9c01-57c4a797d189",
   "metadata": {},
   "outputs": [
    {
     "data": {
      "text/html": [
       "<div><div style = \"float: left;\"><span>149×5 DataFrame</span></div><div style = \"float: right;\"><span style = \"font-style: italic;\">124 rows omitted</span></div><div style = \"clear: both;\"></div></div><div class = \"data-frame\" style = \"overflow-x: scroll;\"><table class = \"data-frame\" style = \"margin-bottom: 6px;\"><thead><tr class = \"header\"><th class = \"rowNumber\" style = \"font-weight: bold; text-align: right;\">Row</th><th style = \"text-align: left;\">5.1</th><th style = \"text-align: left;\">3.5</th><th style = \"text-align: left;\">1.4</th><th style = \"text-align: left;\">0.2</th><th style = \"text-align: left;\">Iris-setosa</th></tr><tr class = \"subheader headerLastRow\"><th class = \"rowNumber\" style = \"font-weight: bold; text-align: right;\"></th><th title = \"Float64\" style = \"text-align: left;\">Float64</th><th title = \"Float64\" style = \"text-align: left;\">Float64</th><th title = \"Float64\" style = \"text-align: left;\">Float64</th><th title = \"Float64\" style = \"text-align: left;\">Float64</th><th title = \"String15\" style = \"text-align: left;\">String15</th></tr></thead><tbody><tr><td class = \"rowNumber\" style = \"font-weight: bold; text-align: right;\">1</td><td style = \"text-align: right;\">4.9</td><td style = \"text-align: right;\">3.0</td><td style = \"text-align: right;\">1.4</td><td style = \"text-align: right;\">0.2</td><td style = \"text-align: left;\">Iris-setosa</td></tr><tr><td class = \"rowNumber\" style = \"font-weight: bold; text-align: right;\">2</td><td style = \"text-align: right;\">4.7</td><td style = \"text-align: right;\">3.2</td><td style = \"text-align: right;\">1.3</td><td style = \"text-align: right;\">0.2</td><td style = \"text-align: left;\">Iris-setosa</td></tr><tr><td class = \"rowNumber\" style = \"font-weight: bold; text-align: right;\">3</td><td style = \"text-align: right;\">4.6</td><td style = \"text-align: right;\">3.1</td><td style = \"text-align: right;\">1.5</td><td style = \"text-align: right;\">0.2</td><td style = \"text-align: left;\">Iris-setosa</td></tr><tr><td class = \"rowNumber\" style = \"font-weight: bold; text-align: right;\">4</td><td style = \"text-align: right;\">5.0</td><td style = \"text-align: right;\">3.6</td><td style = \"text-align: right;\">1.4</td><td style = \"text-align: right;\">0.2</td><td style = \"text-align: left;\">Iris-setosa</td></tr><tr><td class = \"rowNumber\" style = \"font-weight: bold; text-align: right;\">5</td><td style = \"text-align: right;\">5.4</td><td style = \"text-align: right;\">3.9</td><td style = \"text-align: right;\">1.7</td><td style = \"text-align: right;\">0.4</td><td style = \"text-align: left;\">Iris-setosa</td></tr><tr><td class = \"rowNumber\" style = \"font-weight: bold; text-align: right;\">6</td><td style = \"text-align: right;\">4.6</td><td style = \"text-align: right;\">3.4</td><td style = \"text-align: right;\">1.4</td><td style = \"text-align: right;\">0.3</td><td style = \"text-align: left;\">Iris-setosa</td></tr><tr><td class = \"rowNumber\" style = \"font-weight: bold; text-align: right;\">7</td><td style = \"text-align: right;\">5.0</td><td style = \"text-align: right;\">3.4</td><td style = \"text-align: right;\">1.5</td><td style = \"text-align: right;\">0.2</td><td style = \"text-align: left;\">Iris-setosa</td></tr><tr><td class = \"rowNumber\" style = \"font-weight: bold; text-align: right;\">8</td><td style = \"text-align: right;\">4.4</td><td style = \"text-align: right;\">2.9</td><td style = \"text-align: right;\">1.4</td><td style = \"text-align: right;\">0.2</td><td style = \"text-align: left;\">Iris-setosa</td></tr><tr><td class = \"rowNumber\" style = \"font-weight: bold; text-align: right;\">9</td><td style = \"text-align: right;\">4.9</td><td style = \"text-align: right;\">3.1</td><td style = \"text-align: right;\">1.5</td><td style = \"text-align: right;\">0.1</td><td style = \"text-align: left;\">Iris-setosa</td></tr><tr><td class = \"rowNumber\" style = \"font-weight: bold; text-align: right;\">10</td><td style = \"text-align: right;\">5.4</td><td style = \"text-align: right;\">3.7</td><td style = \"text-align: right;\">1.5</td><td style = \"text-align: right;\">0.2</td><td style = \"text-align: left;\">Iris-setosa</td></tr><tr><td class = \"rowNumber\" style = \"font-weight: bold; text-align: right;\">11</td><td style = \"text-align: right;\">4.8</td><td style = \"text-align: right;\">3.4</td><td style = \"text-align: right;\">1.6</td><td style = \"text-align: right;\">0.2</td><td style = \"text-align: left;\">Iris-setosa</td></tr><tr><td class = \"rowNumber\" style = \"font-weight: bold; text-align: right;\">12</td><td style = \"text-align: right;\">4.8</td><td style = \"text-align: right;\">3.0</td><td style = \"text-align: right;\">1.4</td><td style = \"text-align: right;\">0.1</td><td style = \"text-align: left;\">Iris-setosa</td></tr><tr><td class = \"rowNumber\" style = \"font-weight: bold; text-align: right;\">13</td><td style = \"text-align: right;\">4.3</td><td style = \"text-align: right;\">3.0</td><td style = \"text-align: right;\">1.1</td><td style = \"text-align: right;\">0.1</td><td style = \"text-align: left;\">Iris-setosa</td></tr><tr><td style = \"text-align: right;\">&vellip;</td><td style = \"text-align: right;\">&vellip;</td><td style = \"text-align: right;\">&vellip;</td><td style = \"text-align: right;\">&vellip;</td><td style = \"text-align: right;\">&vellip;</td><td style = \"text-align: right;\">&vellip;</td></tr><tr><td class = \"rowNumber\" style = \"font-weight: bold; text-align: right;\">138</td><td style = \"text-align: right;\">6.0</td><td style = \"text-align: right;\">3.0</td><td style = \"text-align: right;\">4.8</td><td style = \"text-align: right;\">1.8</td><td style = \"text-align: left;\">Iris-virginica</td></tr><tr><td class = \"rowNumber\" style = \"font-weight: bold; text-align: right;\">139</td><td style = \"text-align: right;\">6.9</td><td style = \"text-align: right;\">3.1</td><td style = \"text-align: right;\">5.4</td><td style = \"text-align: right;\">2.1</td><td style = \"text-align: left;\">Iris-virginica</td></tr><tr><td class = \"rowNumber\" style = \"font-weight: bold; text-align: right;\">140</td><td style = \"text-align: right;\">6.7</td><td style = \"text-align: right;\">3.1</td><td style = \"text-align: right;\">5.6</td><td style = \"text-align: right;\">2.4</td><td style = \"text-align: left;\">Iris-virginica</td></tr><tr><td class = \"rowNumber\" style = \"font-weight: bold; text-align: right;\">141</td><td style = \"text-align: right;\">6.9</td><td style = \"text-align: right;\">3.1</td><td style = \"text-align: right;\">5.1</td><td style = \"text-align: right;\">2.3</td><td style = \"text-align: left;\">Iris-virginica</td></tr><tr><td class = \"rowNumber\" style = \"font-weight: bold; text-align: right;\">142</td><td style = \"text-align: right;\">5.8</td><td style = \"text-align: right;\">2.7</td><td style = \"text-align: right;\">5.1</td><td style = \"text-align: right;\">1.9</td><td style = \"text-align: left;\">Iris-virginica</td></tr><tr><td class = \"rowNumber\" style = \"font-weight: bold; text-align: right;\">143</td><td style = \"text-align: right;\">6.8</td><td style = \"text-align: right;\">3.2</td><td style = \"text-align: right;\">5.9</td><td style = \"text-align: right;\">2.3</td><td style = \"text-align: left;\">Iris-virginica</td></tr><tr><td class = \"rowNumber\" style = \"font-weight: bold; text-align: right;\">144</td><td style = \"text-align: right;\">6.7</td><td style = \"text-align: right;\">3.3</td><td style = \"text-align: right;\">5.7</td><td style = \"text-align: right;\">2.5</td><td style = \"text-align: left;\">Iris-virginica</td></tr><tr><td class = \"rowNumber\" style = \"font-weight: bold; text-align: right;\">145</td><td style = \"text-align: right;\">6.7</td><td style = \"text-align: right;\">3.0</td><td style = \"text-align: right;\">5.2</td><td style = \"text-align: right;\">2.3</td><td style = \"text-align: left;\">Iris-virginica</td></tr><tr><td class = \"rowNumber\" style = \"font-weight: bold; text-align: right;\">146</td><td style = \"text-align: right;\">6.3</td><td style = \"text-align: right;\">2.5</td><td style = \"text-align: right;\">5.0</td><td style = \"text-align: right;\">1.9</td><td style = \"text-align: left;\">Iris-virginica</td></tr><tr><td class = \"rowNumber\" style = \"font-weight: bold; text-align: right;\">147</td><td style = \"text-align: right;\">6.5</td><td style = \"text-align: right;\">3.0</td><td style = \"text-align: right;\">5.2</td><td style = \"text-align: right;\">2.0</td><td style = \"text-align: left;\">Iris-virginica</td></tr><tr><td class = \"rowNumber\" style = \"font-weight: bold; text-align: right;\">148</td><td style = \"text-align: right;\">6.2</td><td style = \"text-align: right;\">3.4</td><td style = \"text-align: right;\">5.4</td><td style = \"text-align: right;\">2.3</td><td style = \"text-align: left;\">Iris-virginica</td></tr><tr><td class = \"rowNumber\" style = \"font-weight: bold; text-align: right;\">149</td><td style = \"text-align: right;\">5.9</td><td style = \"text-align: right;\">3.0</td><td style = \"text-align: right;\">5.1</td><td style = \"text-align: right;\">1.8</td><td style = \"text-align: left;\">Iris-virginica</td></tr></tbody></table></div>"
      ],
      "text/latex": [
       "\\begin{tabular}{r|ccccc}\n",
       "\t& 5.1 & 3.5 & 1.4 & 0.2 & Iris-setosa\\\\\n",
       "\t\\hline\n",
       "\t& Float64 & Float64 & Float64 & Float64 & String15\\\\\n",
       "\t\\hline\n",
       "\t1 & 4.9 & 3.0 & 1.4 & 0.2 & Iris-setosa \\\\\n",
       "\t2 & 4.7 & 3.2 & 1.3 & 0.2 & Iris-setosa \\\\\n",
       "\t3 & 4.6 & 3.1 & 1.5 & 0.2 & Iris-setosa \\\\\n",
       "\t4 & 5.0 & 3.6 & 1.4 & 0.2 & Iris-setosa \\\\\n",
       "\t5 & 5.4 & 3.9 & 1.7 & 0.4 & Iris-setosa \\\\\n",
       "\t6 & 4.6 & 3.4 & 1.4 & 0.3 & Iris-setosa \\\\\n",
       "\t7 & 5.0 & 3.4 & 1.5 & 0.2 & Iris-setosa \\\\\n",
       "\t8 & 4.4 & 2.9 & 1.4 & 0.2 & Iris-setosa \\\\\n",
       "\t9 & 4.9 & 3.1 & 1.5 & 0.1 & Iris-setosa \\\\\n",
       "\t10 & 5.4 & 3.7 & 1.5 & 0.2 & Iris-setosa \\\\\n",
       "\t11 & 4.8 & 3.4 & 1.6 & 0.2 & Iris-setosa \\\\\n",
       "\t12 & 4.8 & 3.0 & 1.4 & 0.1 & Iris-setosa \\\\\n",
       "\t13 & 4.3 & 3.0 & 1.1 & 0.1 & Iris-setosa \\\\\n",
       "\t14 & 5.8 & 4.0 & 1.2 & 0.2 & Iris-setosa \\\\\n",
       "\t15 & 5.7 & 4.4 & 1.5 & 0.4 & Iris-setosa \\\\\n",
       "\t16 & 5.4 & 3.9 & 1.3 & 0.4 & Iris-setosa \\\\\n",
       "\t17 & 5.1 & 3.5 & 1.4 & 0.3 & Iris-setosa \\\\\n",
       "\t18 & 5.7 & 3.8 & 1.7 & 0.3 & Iris-setosa \\\\\n",
       "\t19 & 5.1 & 3.8 & 1.5 & 0.3 & Iris-setosa \\\\\n",
       "\t20 & 5.4 & 3.4 & 1.7 & 0.2 & Iris-setosa \\\\\n",
       "\t21 & 5.1 & 3.7 & 1.5 & 0.4 & Iris-setosa \\\\\n",
       "\t22 & 4.6 & 3.6 & 1.0 & 0.2 & Iris-setosa \\\\\n",
       "\t23 & 5.1 & 3.3 & 1.7 & 0.5 & Iris-setosa \\\\\n",
       "\t24 & 4.8 & 3.4 & 1.9 & 0.2 & Iris-setosa \\\\\n",
       "\t25 & 5.0 & 3.0 & 1.6 & 0.2 & Iris-setosa \\\\\n",
       "\t26 & 5.0 & 3.4 & 1.6 & 0.4 & Iris-setosa \\\\\n",
       "\t27 & 5.2 & 3.5 & 1.5 & 0.2 & Iris-setosa \\\\\n",
       "\t28 & 5.2 & 3.4 & 1.4 & 0.2 & Iris-setosa \\\\\n",
       "\t29 & 4.7 & 3.2 & 1.6 & 0.2 & Iris-setosa \\\\\n",
       "\t30 & 4.8 & 3.1 & 1.6 & 0.2 & Iris-setosa \\\\\n",
       "\t$\\dots$ & $\\dots$ & $\\dots$ & $\\dots$ & $\\dots$ & $\\dots$ \\\\\n",
       "\\end{tabular}\n"
      ],
      "text/plain": [
       "\u001b[1m149×5 DataFrame\u001b[0m\n",
       "\u001b[1m Row \u001b[0m│\u001b[1m 5.1     \u001b[0m\u001b[1m 3.5     \u001b[0m\u001b[1m 1.4     \u001b[0m\u001b[1m 0.2     \u001b[0m\u001b[1m Iris-setosa    \u001b[0m\n",
       "     │\u001b[90m Float64 \u001b[0m\u001b[90m Float64 \u001b[0m\u001b[90m Float64 \u001b[0m\u001b[90m Float64 \u001b[0m\u001b[90m String15       \u001b[0m\n",
       "─────┼────────────────────────────────────────────────────\n",
       "   1 │     4.9      3.0      1.4      0.2  Iris-setosa\n",
       "   2 │     4.7      3.2      1.3      0.2  Iris-setosa\n",
       "   3 │     4.6      3.1      1.5      0.2  Iris-setosa\n",
       "   4 │     5.0      3.6      1.4      0.2  Iris-setosa\n",
       "   5 │     5.4      3.9      1.7      0.4  Iris-setosa\n",
       "   6 │     4.6      3.4      1.4      0.3  Iris-setosa\n",
       "   7 │     5.0      3.4      1.5      0.2  Iris-setosa\n",
       "   8 │     4.4      2.9      1.4      0.2  Iris-setosa\n",
       "   9 │     4.9      3.1      1.5      0.1  Iris-setosa\n",
       "  10 │     5.4      3.7      1.5      0.2  Iris-setosa\n",
       "  11 │     4.8      3.4      1.6      0.2  Iris-setosa\n",
       "  ⋮  │    ⋮        ⋮        ⋮        ⋮           ⋮\n",
       " 140 │     6.7      3.1      5.6      2.4  Iris-virginica\n",
       " 141 │     6.9      3.1      5.1      2.3  Iris-virginica\n",
       " 142 │     5.8      2.7      5.1      1.9  Iris-virginica\n",
       " 143 │     6.8      3.2      5.9      2.3  Iris-virginica\n",
       " 144 │     6.7      3.3      5.7      2.5  Iris-virginica\n",
       " 145 │     6.7      3.0      5.2      2.3  Iris-virginica\n",
       " 146 │     6.3      2.5      5.0      1.9  Iris-virginica\n",
       " 147 │     6.5      3.0      5.2      2.0  Iris-virginica\n",
       " 148 │     6.2      3.4      5.4      2.3  Iris-virginica\n",
       " 149 │     5.9      3.0      5.1      1.8  Iris-virginica\n",
       "\u001b[36m                                          128 rows omitted\u001b[0m"
      ]
     },
     "execution_count": 2,
     "metadata": {},
     "output_type": "execute_result"
    }
   ],
   "source": [
    "using CSV\n",
    "using DataFrames\n",
    "\n",
    "url = \"https://archive.ics.uci.edu/ml/machine-learning-databases/iris/iris.data\"\n",
    "iris_data = CSV.File(download(url)) |> DataFrame\n"
   ]
  },
  {
   "cell_type": "code",
   "execution_count": null,
   "id": "e81adc24-ed33-4858-9fb0-e8fa76b08ea2",
   "metadata": {},
   "outputs": [],
   "source": []
  },
  {
   "cell_type": "code",
   "execution_count": null,
   "id": "b9cbc33c-afce-49f3-8c17-3a5a1436f91f",
   "metadata": {},
   "outputs": [],
   "source": []
  },
  {
   "cell_type": "code",
   "execution_count": null,
   "id": "d1f386c6-8578-49ad-bc3a-e90d768cda9f",
   "metadata": {},
   "outputs": [],
   "source": []
  },
  {
   "cell_type": "code",
   "execution_count": null,
   "id": "1557a34c-6319-4120-a37f-3a7cef0b7a4b",
   "metadata": {},
   "outputs": [],
   "source": []
  }
 ],
 "metadata": {
  "kernelspec": {
   "display_name": "Julia 1.8.2",
   "language": "julia",
   "name": "julia-1.8"
  },
  "language_info": {
   "file_extension": ".jl",
   "mimetype": "application/julia",
   "name": "julia",
   "version": "1.8.2"
  }
 },
 "nbformat": 4,
 "nbformat_minor": 5
}
