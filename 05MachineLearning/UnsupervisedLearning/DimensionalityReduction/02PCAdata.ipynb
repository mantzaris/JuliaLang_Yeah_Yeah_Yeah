{
 "cells": [
  {
   "cell_type": "code",
   "execution_count": 24,
   "id": "6c46bba0-4d3d-4338-b582-a54772c004e6",
   "metadata": {},
   "outputs": [],
   "source": [
    "using RDatasets\n",
    "iris = dataset(\"datasets\", \"iris\")\n",
    "neuro = dataset(\"boot\", \"neuro\");"
   ]
  },
  {
   "cell_type": "code",
   "execution_count": 25,
   "id": "348744f8-a986-4e19-ae5c-cddfacddbdb2",
   "metadata": {},
   "outputs": [],
   "source": [
    "using Plots"
   ]
  },
  {
   "cell_type": "code",
   "execution_count": 26,
   "id": "1d8e10a4-bd0c-4121-9d5d-9a36f243f6ec",
   "metadata": {},
   "outputs": [],
   "source": [
    "using Statistics"
   ]
  },
  {
   "cell_type": "code",
   "execution_count": 27,
   "id": "86ae71c9-c998-4d23-9c01-57c4a797d189",
   "metadata": {},
   "outputs": [
    {
     "data": {
      "text/html": [
       "<div><div style = \"float: left;\"><span>149×5 DataFrame</span></div><div style = \"float: right;\"><span style = \"font-style: italic;\">124 rows omitted</span></div><div style = \"clear: both;\"></div></div><div class = \"data-frame\" style = \"overflow-x: scroll;\"><table class = \"data-frame\" style = \"margin-bottom: 6px;\"><thead><tr class = \"header\"><th class = \"rowNumber\" style = \"font-weight: bold; text-align: right;\">Row</th><th style = \"text-align: left;\">5.1</th><th style = \"text-align: left;\">3.5</th><th style = \"text-align: left;\">1.4</th><th style = \"text-align: left;\">0.2</th><th style = \"text-align: left;\">Iris-setosa</th></tr><tr class = \"subheader headerLastRow\"><th class = \"rowNumber\" style = \"font-weight: bold; text-align: right;\"></th><th title = \"Float64\" style = \"text-align: left;\">Float64</th><th title = \"Float64\" style = \"text-align: left;\">Float64</th><th title = \"Float64\" style = \"text-align: left;\">Float64</th><th title = \"Float64\" style = \"text-align: left;\">Float64</th><th title = \"String15\" style = \"text-align: left;\">String15</th></tr></thead><tbody><tr><td class = \"rowNumber\" style = \"font-weight: bold; text-align: right;\">1</td><td style = \"text-align: right;\">4.9</td><td style = \"text-align: right;\">3.0</td><td style = \"text-align: right;\">1.4</td><td style = \"text-align: right;\">0.2</td><td style = \"text-align: left;\">Iris-setosa</td></tr><tr><td class = \"rowNumber\" style = \"font-weight: bold; text-align: right;\">2</td><td style = \"text-align: right;\">4.7</td><td style = \"text-align: right;\">3.2</td><td style = \"text-align: right;\">1.3</td><td style = \"text-align: right;\">0.2</td><td style = \"text-align: left;\">Iris-setosa</td></tr><tr><td class = \"rowNumber\" style = \"font-weight: bold; text-align: right;\">3</td><td style = \"text-align: right;\">4.6</td><td style = \"text-align: right;\">3.1</td><td style = \"text-align: right;\">1.5</td><td style = \"text-align: right;\">0.2</td><td style = \"text-align: left;\">Iris-setosa</td></tr><tr><td class = \"rowNumber\" style = \"font-weight: bold; text-align: right;\">4</td><td style = \"text-align: right;\">5.0</td><td style = \"text-align: right;\">3.6</td><td style = \"text-align: right;\">1.4</td><td style = \"text-align: right;\">0.2</td><td style = \"text-align: left;\">Iris-setosa</td></tr><tr><td class = \"rowNumber\" style = \"font-weight: bold; text-align: right;\">5</td><td style = \"text-align: right;\">5.4</td><td style = \"text-align: right;\">3.9</td><td style = \"text-align: right;\">1.7</td><td style = \"text-align: right;\">0.4</td><td style = \"text-align: left;\">Iris-setosa</td></tr><tr><td class = \"rowNumber\" style = \"font-weight: bold; text-align: right;\">6</td><td style = \"text-align: right;\">4.6</td><td style = \"text-align: right;\">3.4</td><td style = \"text-align: right;\">1.4</td><td style = \"text-align: right;\">0.3</td><td style = \"text-align: left;\">Iris-setosa</td></tr><tr><td class = \"rowNumber\" style = \"font-weight: bold; text-align: right;\">7</td><td style = \"text-align: right;\">5.0</td><td style = \"text-align: right;\">3.4</td><td style = \"text-align: right;\">1.5</td><td style = \"text-align: right;\">0.2</td><td style = \"text-align: left;\">Iris-setosa</td></tr><tr><td class = \"rowNumber\" style = \"font-weight: bold; text-align: right;\">8</td><td style = \"text-align: right;\">4.4</td><td style = \"text-align: right;\">2.9</td><td style = \"text-align: right;\">1.4</td><td style = \"text-align: right;\">0.2</td><td style = \"text-align: left;\">Iris-setosa</td></tr><tr><td class = \"rowNumber\" style = \"font-weight: bold; text-align: right;\">9</td><td style = \"text-align: right;\">4.9</td><td style = \"text-align: right;\">3.1</td><td style = \"text-align: right;\">1.5</td><td style = \"text-align: right;\">0.1</td><td style = \"text-align: left;\">Iris-setosa</td></tr><tr><td class = \"rowNumber\" style = \"font-weight: bold; text-align: right;\">10</td><td style = \"text-align: right;\">5.4</td><td style = \"text-align: right;\">3.7</td><td style = \"text-align: right;\">1.5</td><td style = \"text-align: right;\">0.2</td><td style = \"text-align: left;\">Iris-setosa</td></tr><tr><td class = \"rowNumber\" style = \"font-weight: bold; text-align: right;\">11</td><td style = \"text-align: right;\">4.8</td><td style = \"text-align: right;\">3.4</td><td style = \"text-align: right;\">1.6</td><td style = \"text-align: right;\">0.2</td><td style = \"text-align: left;\">Iris-setosa</td></tr><tr><td class = \"rowNumber\" style = \"font-weight: bold; text-align: right;\">12</td><td style = \"text-align: right;\">4.8</td><td style = \"text-align: right;\">3.0</td><td style = \"text-align: right;\">1.4</td><td style = \"text-align: right;\">0.1</td><td style = \"text-align: left;\">Iris-setosa</td></tr><tr><td class = \"rowNumber\" style = \"font-weight: bold; text-align: right;\">13</td><td style = \"text-align: right;\">4.3</td><td style = \"text-align: right;\">3.0</td><td style = \"text-align: right;\">1.1</td><td style = \"text-align: right;\">0.1</td><td style = \"text-align: left;\">Iris-setosa</td></tr><tr><td style = \"text-align: right;\">&vellip;</td><td style = \"text-align: right;\">&vellip;</td><td style = \"text-align: right;\">&vellip;</td><td style = \"text-align: right;\">&vellip;</td><td style = \"text-align: right;\">&vellip;</td><td style = \"text-align: right;\">&vellip;</td></tr><tr><td class = \"rowNumber\" style = \"font-weight: bold; text-align: right;\">138</td><td style = \"text-align: right;\">6.0</td><td style = \"text-align: right;\">3.0</td><td style = \"text-align: right;\">4.8</td><td style = \"text-align: right;\">1.8</td><td style = \"text-align: left;\">Iris-virginica</td></tr><tr><td class = \"rowNumber\" style = \"font-weight: bold; text-align: right;\">139</td><td style = \"text-align: right;\">6.9</td><td style = \"text-align: right;\">3.1</td><td style = \"text-align: right;\">5.4</td><td style = \"text-align: right;\">2.1</td><td style = \"text-align: left;\">Iris-virginica</td></tr><tr><td class = \"rowNumber\" style = \"font-weight: bold; text-align: right;\">140</td><td style = \"text-align: right;\">6.7</td><td style = \"text-align: right;\">3.1</td><td style = \"text-align: right;\">5.6</td><td style = \"text-align: right;\">2.4</td><td style = \"text-align: left;\">Iris-virginica</td></tr><tr><td class = \"rowNumber\" style = \"font-weight: bold; text-align: right;\">141</td><td style = \"text-align: right;\">6.9</td><td style = \"text-align: right;\">3.1</td><td style = \"text-align: right;\">5.1</td><td style = \"text-align: right;\">2.3</td><td style = \"text-align: left;\">Iris-virginica</td></tr><tr><td class = \"rowNumber\" style = \"font-weight: bold; text-align: right;\">142</td><td style = \"text-align: right;\">5.8</td><td style = \"text-align: right;\">2.7</td><td style = \"text-align: right;\">5.1</td><td style = \"text-align: right;\">1.9</td><td style = \"text-align: left;\">Iris-virginica</td></tr><tr><td class = \"rowNumber\" style = \"font-weight: bold; text-align: right;\">143</td><td style = \"text-align: right;\">6.8</td><td style = \"text-align: right;\">3.2</td><td style = \"text-align: right;\">5.9</td><td style = \"text-align: right;\">2.3</td><td style = \"text-align: left;\">Iris-virginica</td></tr><tr><td class = \"rowNumber\" style = \"font-weight: bold; text-align: right;\">144</td><td style = \"text-align: right;\">6.7</td><td style = \"text-align: right;\">3.3</td><td style = \"text-align: right;\">5.7</td><td style = \"text-align: right;\">2.5</td><td style = \"text-align: left;\">Iris-virginica</td></tr><tr><td class = \"rowNumber\" style = \"font-weight: bold; text-align: right;\">145</td><td style = \"text-align: right;\">6.7</td><td style = \"text-align: right;\">3.0</td><td style = \"text-align: right;\">5.2</td><td style = \"text-align: right;\">2.3</td><td style = \"text-align: left;\">Iris-virginica</td></tr><tr><td class = \"rowNumber\" style = \"font-weight: bold; text-align: right;\">146</td><td style = \"text-align: right;\">6.3</td><td style = \"text-align: right;\">2.5</td><td style = \"text-align: right;\">5.0</td><td style = \"text-align: right;\">1.9</td><td style = \"text-align: left;\">Iris-virginica</td></tr><tr><td class = \"rowNumber\" style = \"font-weight: bold; text-align: right;\">147</td><td style = \"text-align: right;\">6.5</td><td style = \"text-align: right;\">3.0</td><td style = \"text-align: right;\">5.2</td><td style = \"text-align: right;\">2.0</td><td style = \"text-align: left;\">Iris-virginica</td></tr><tr><td class = \"rowNumber\" style = \"font-weight: bold; text-align: right;\">148</td><td style = \"text-align: right;\">6.2</td><td style = \"text-align: right;\">3.4</td><td style = \"text-align: right;\">5.4</td><td style = \"text-align: right;\">2.3</td><td style = \"text-align: left;\">Iris-virginica</td></tr><tr><td class = \"rowNumber\" style = \"font-weight: bold; text-align: right;\">149</td><td style = \"text-align: right;\">5.9</td><td style = \"text-align: right;\">3.0</td><td style = \"text-align: right;\">5.1</td><td style = \"text-align: right;\">1.8</td><td style = \"text-align: left;\">Iris-virginica</td></tr></tbody></table></div>"
      ],
      "text/latex": [
       "\\begin{tabular}{r|ccccc}\n",
       "\t& 5.1 & 3.5 & 1.4 & 0.2 & Iris-setosa\\\\\n",
       "\t\\hline\n",
       "\t& Float64 & Float64 & Float64 & Float64 & String15\\\\\n",
       "\t\\hline\n",
       "\t1 & 4.9 & 3.0 & 1.4 & 0.2 & Iris-setosa \\\\\n",
       "\t2 & 4.7 & 3.2 & 1.3 & 0.2 & Iris-setosa \\\\\n",
       "\t3 & 4.6 & 3.1 & 1.5 & 0.2 & Iris-setosa \\\\\n",
       "\t4 & 5.0 & 3.6 & 1.4 & 0.2 & Iris-setosa \\\\\n",
       "\t5 & 5.4 & 3.9 & 1.7 & 0.4 & Iris-setosa \\\\\n",
       "\t6 & 4.6 & 3.4 & 1.4 & 0.3 & Iris-setosa \\\\\n",
       "\t7 & 5.0 & 3.4 & 1.5 & 0.2 & Iris-setosa \\\\\n",
       "\t8 & 4.4 & 2.9 & 1.4 & 0.2 & Iris-setosa \\\\\n",
       "\t9 & 4.9 & 3.1 & 1.5 & 0.1 & Iris-setosa \\\\\n",
       "\t10 & 5.4 & 3.7 & 1.5 & 0.2 & Iris-setosa \\\\\n",
       "\t11 & 4.8 & 3.4 & 1.6 & 0.2 & Iris-setosa \\\\\n",
       "\t12 & 4.8 & 3.0 & 1.4 & 0.1 & Iris-setosa \\\\\n",
       "\t13 & 4.3 & 3.0 & 1.1 & 0.1 & Iris-setosa \\\\\n",
       "\t14 & 5.8 & 4.0 & 1.2 & 0.2 & Iris-setosa \\\\\n",
       "\t15 & 5.7 & 4.4 & 1.5 & 0.4 & Iris-setosa \\\\\n",
       "\t16 & 5.4 & 3.9 & 1.3 & 0.4 & Iris-setosa \\\\\n",
       "\t17 & 5.1 & 3.5 & 1.4 & 0.3 & Iris-setosa \\\\\n",
       "\t18 & 5.7 & 3.8 & 1.7 & 0.3 & Iris-setosa \\\\\n",
       "\t19 & 5.1 & 3.8 & 1.5 & 0.3 & Iris-setosa \\\\\n",
       "\t20 & 5.4 & 3.4 & 1.7 & 0.2 & Iris-setosa \\\\\n",
       "\t21 & 5.1 & 3.7 & 1.5 & 0.4 & Iris-setosa \\\\\n",
       "\t22 & 4.6 & 3.6 & 1.0 & 0.2 & Iris-setosa \\\\\n",
       "\t23 & 5.1 & 3.3 & 1.7 & 0.5 & Iris-setosa \\\\\n",
       "\t24 & 4.8 & 3.4 & 1.9 & 0.2 & Iris-setosa \\\\\n",
       "\t25 & 5.0 & 3.0 & 1.6 & 0.2 & Iris-setosa \\\\\n",
       "\t26 & 5.0 & 3.4 & 1.6 & 0.4 & Iris-setosa \\\\\n",
       "\t27 & 5.2 & 3.5 & 1.5 & 0.2 & Iris-setosa \\\\\n",
       "\t28 & 5.2 & 3.4 & 1.4 & 0.2 & Iris-setosa \\\\\n",
       "\t29 & 4.7 & 3.2 & 1.6 & 0.2 & Iris-setosa \\\\\n",
       "\t30 & 4.8 & 3.1 & 1.6 & 0.2 & Iris-setosa \\\\\n",
       "\t$\\dots$ & $\\dots$ & $\\dots$ & $\\dots$ & $\\dots$ & $\\dots$ \\\\\n",
       "\\end{tabular}\n"
      ],
      "text/plain": [
       "\u001b[1m149×5 DataFrame\u001b[0m\n",
       "\u001b[1m Row \u001b[0m│\u001b[1m 5.1     \u001b[0m\u001b[1m 3.5     \u001b[0m\u001b[1m 1.4     \u001b[0m\u001b[1m 0.2     \u001b[0m\u001b[1m Iris-setosa    \u001b[0m\n",
       "     │\u001b[90m Float64 \u001b[0m\u001b[90m Float64 \u001b[0m\u001b[90m Float64 \u001b[0m\u001b[90m Float64 \u001b[0m\u001b[90m String15       \u001b[0m\n",
       "─────┼────────────────────────────────────────────────────\n",
       "   1 │     4.9      3.0      1.4      0.2  Iris-setosa\n",
       "   2 │     4.7      3.2      1.3      0.2  Iris-setosa\n",
       "   3 │     4.6      3.1      1.5      0.2  Iris-setosa\n",
       "   4 │     5.0      3.6      1.4      0.2  Iris-setosa\n",
       "   5 │     5.4      3.9      1.7      0.4  Iris-setosa\n",
       "   6 │     4.6      3.4      1.4      0.3  Iris-setosa\n",
       "   7 │     5.0      3.4      1.5      0.2  Iris-setosa\n",
       "   8 │     4.4      2.9      1.4      0.2  Iris-setosa\n",
       "   9 │     4.9      3.1      1.5      0.1  Iris-setosa\n",
       "  10 │     5.4      3.7      1.5      0.2  Iris-setosa\n",
       "  11 │     4.8      3.4      1.6      0.2  Iris-setosa\n",
       "  ⋮  │    ⋮        ⋮        ⋮        ⋮           ⋮\n",
       " 140 │     6.7      3.1      5.6      2.4  Iris-virginica\n",
       " 141 │     6.9      3.1      5.1      2.3  Iris-virginica\n",
       " 142 │     5.8      2.7      5.1      1.9  Iris-virginica\n",
       " 143 │     6.8      3.2      5.9      2.3  Iris-virginica\n",
       " 144 │     6.7      3.3      5.7      2.5  Iris-virginica\n",
       " 145 │     6.7      3.0      5.2      2.3  Iris-virginica\n",
       " 146 │     6.3      2.5      5.0      1.9  Iris-virginica\n",
       " 147 │     6.5      3.0      5.2      2.0  Iris-virginica\n",
       " 148 │     6.2      3.4      5.4      2.3  Iris-virginica\n",
       " 149 │     5.9      3.0      5.1      1.8  Iris-virginica\n",
       "\u001b[36m                                          128 rows omitted\u001b[0m"
      ]
     },
     "execution_count": 27,
     "metadata": {},
     "output_type": "execute_result"
    }
   ],
   "source": [
    "using CSV\n",
    "using DataFrames\n",
    "\n",
    "url = \"https://archive.ics.uci.edu/ml/machine-learning-databases/iris/iris.data\"\n",
    "iris_data = CSV.File(download(url)) |> DataFrame\n"
   ]
  },
  {
   "cell_type": "code",
   "execution_count": 28,
   "id": "479aa375-a6bc-4aac-944f-496ec327ae12",
   "metadata": {},
   "outputs": [
    {
     "data": {
      "text/plain": [
       "(150, 5)"
      ]
     },
     "execution_count": 28,
     "metadata": {},
     "output_type": "execute_result"
    }
   ],
   "source": [
    "size(iris)"
   ]
  },
  {
   "cell_type": "code",
   "execution_count": 29,
   "id": "32169db0-51bf-4552-a161-96b5444e0913",
   "metadata": {},
   "outputs": [],
   "source": [
    "using MultivariateStats"
   ]
  },
  {
   "cell_type": "code",
   "execution_count": 30,
   "id": "e4fece3b-ad46-43d3-831d-f04b5be2f5e9",
   "metadata": {},
   "outputs": [
    {
     "data": {
      "text/plain": [
       "8×4 Matrix{Float64}:\n",
       " 5.1  3.5  1.4  0.2\n",
       " 4.9  3.0  1.4  0.2\n",
       " 4.7  3.2  1.3  0.2\n",
       " 4.6  3.1  1.5  0.2\n",
       " 5.0  3.6  1.4  0.2\n",
       " 5.4  3.9  1.7  0.4\n",
       " 4.6  3.4  1.4  0.3\n",
       " 5.0  3.4  1.5  0.2"
      ]
     },
     "execution_count": 30,
     "metadata": {},
     "output_type": "execute_result"
    }
   ],
   "source": [
    "iris_mat = Array( iris[:,1:4] )\n",
    "iris_mat[1:8,:]"
   ]
  },
  {
   "cell_type": "code",
   "execution_count": 31,
   "id": "5076cabf-c1e7-4a46-b52c-1ef8d5ae7a42",
   "metadata": {},
   "outputs": [
    {
     "data": {
      "text/plain": [
       "0.6856935123042507"
      ]
     },
     "execution_count": 31,
     "metadata": {},
     "output_type": "execute_result"
    }
   ],
   "source": [
    "var(iris_mat[:,1])"
   ]
  },
  {
   "cell_type": "code",
   "execution_count": 32,
   "id": "91ea9f00-25ce-44f2-b43f-e852b2873abd",
   "metadata": {},
   "outputs": [
    {
     "data": {
      "text/plain": [
       "-0.042434004474272924"
      ]
     },
     "execution_count": 32,
     "metadata": {},
     "output_type": "execute_result"
    }
   ],
   "source": [
    "cov(iris_mat[:,1],iris_mat[:,2])"
   ]
  },
  {
   "cell_type": "code",
   "execution_count": 33,
   "id": "1fe23dea-9a97-4cfa-a2ca-60dd848e3854",
   "metadata": {},
   "outputs": [
    {
     "data": {
      "text/plain": [
       "4×4 Matrix{Float64}:\n",
       "  0.685694  -0.042434   1.27432    0.516271\n",
       " -0.042434   0.189979  -0.329656  -0.121639\n",
       "  1.27432   -0.329656   3.11628    1.29561\n",
       "  0.516271  -0.121639   1.29561    0.581006"
      ]
     },
     "execution_count": 33,
     "metadata": {},
     "output_type": "execute_result"
    }
   ],
   "source": [
    "cov(iris_mat)"
   ]
  },
  {
   "cell_type": "code",
   "execution_count": 53,
   "id": "e3b26073-32d2-4f12-bdcf-0fbb0fc30ec4",
   "metadata": {},
   "outputs": [],
   "source": [
    "pca_model = fit(PCA, iris_mat'; maxoutdim=2);"
   ]
  },
  {
   "cell_type": "code",
   "execution_count": 54,
   "id": "dbdf83dd-b7c5-4687-8f83-417126ef15c3",
   "metadata": {},
   "outputs": [
    {
     "data": {
      "text/plain": [
       "4×2 Matrix{Float64}:\n",
       " -0.361387    0.656589\n",
       "  0.0845225   0.730161\n",
       " -0.856671   -0.173373\n",
       " -0.358289   -0.075481"
      ]
     },
     "execution_count": 54,
     "metadata": {},
     "output_type": "execute_result"
    }
   ],
   "source": [
    "pca_model.proj"
   ]
  },
  {
   "cell_type": "code",
   "execution_count": 55,
   "id": "b9893539-7ae1-4814-8a11-0b48a9479350",
   "metadata": {},
   "outputs": [
    {
     "data": {
      "text/plain": [
       "(:mean, :proj, :prinvars, :tprinvar, :tvar)"
      ]
     },
     "execution_count": 55,
     "metadata": {},
     "output_type": "execute_result"
    }
   ],
   "source": [
    "fieldnames(typeof(pca_model))"
   ]
  },
  {
   "cell_type": "code",
   "execution_count": 56,
   "id": "e81adc24-ed33-4858-9fb0-e8fa76b08ea2",
   "metadata": {},
   "outputs": [
    {
     "data": {
      "text/plain": [
       "2-element Vector{Float64}:\n",
       " 4.228241706034862\n",
       " 0.24267074792863333"
      ]
     },
     "execution_count": 56,
     "metadata": {},
     "output_type": "execute_result"
    }
   ],
   "source": [
    "pca_model.prinvars"
   ]
  },
  {
   "cell_type": "code",
   "execution_count": 57,
   "id": "b9cbc33c-afce-49f3-8c17-3a5a1436f91f",
   "metadata": {},
   "outputs": [
    {
     "data": {
      "text/plain": [
       "2×150 Matrix{Float64}:\n",
       " 2.68413    2.71414    2.88899   …  -1.76435    -1.90094   -1.39019\n",
       " 0.319397  -0.177001  -0.144949      0.0788589   0.116628  -0.282661"
      ]
     },
     "execution_count": 57,
     "metadata": {},
     "output_type": "execute_result"
    }
   ],
   "source": [
    "transformed_data = MultivariateStats.transform( pca_model,\n",
    "                                                    iris_mat' )"
   ]
  },
  {
   "cell_type": "code",
   "execution_count": 58,
   "id": "d1f386c6-8578-49ad-bc3a-e90d768cda9f",
   "metadata": {},
   "outputs": [
    {
     "data": {
      "image/svg+xml": [
       "<?xml version=\"1.0\" encoding=\"utf-8\"?>\n",
       "<svg xmlns=\"http://www.w3.org/2000/svg\" xmlns:xlink=\"http://www.w3.org/1999/xlink\" width=\"600\" height=\"400\" viewBox=\"0 0 2400 1600\">\n",
       "<defs>\n",
       "  <clipPath id=\"clip330\">\n",
       "    <rect x=\"0\" y=\"0\" width=\"2400\" height=\"1600\"/>\n",
       "  </clipPath>\n",
       "</defs>\n",
       "<path clip-path=\"url(#clip330)\" d=\"M0 1600 L2400 1600 L2400 0 L0 0  Z\" fill=\"#ffffff\" fill-rule=\"evenodd\" fill-opacity=\"1\"/>\n",
       "<defs>\n",
       "  <clipPath id=\"clip331\">\n",
       "    <rect x=\"480\" y=\"0\" width=\"1681\" height=\"1600\"/>\n",
       "  </clipPath>\n",
       "</defs>\n",
       "<path clip-path=\"url(#clip330)\" d=\"M193.936 1486.45 L2352.76 1486.45 L2352.76 123.472 L193.936 123.472  Z\" fill=\"#ffffff\" fill-rule=\"evenodd\" fill-opacity=\"1\"/>\n",
       "<defs>\n",
       "  <clipPath id=\"clip332\">\n",
       "    <rect x=\"193\" y=\"123\" width=\"2160\" height=\"1364\"/>\n",
       "  </clipPath>\n",
       "</defs>\n",
       "<polyline clip-path=\"url(#clip332)\" style=\"stroke:#000000; stroke-linecap:round; stroke-linejoin:round; stroke-width:2; stroke-opacity:0.1; fill:none\" points=\"195.743,1486.45 195.743,123.472 \"/>\n",
       "<polyline clip-path=\"url(#clip332)\" style=\"stroke:#000000; stroke-linecap:round; stroke-linejoin:round; stroke-width:2; stroke-opacity:0.1; fill:none\" points=\"776.023,1486.45 776.023,123.472 \"/>\n",
       "<polyline clip-path=\"url(#clip332)\" style=\"stroke:#000000; stroke-linecap:round; stroke-linejoin:round; stroke-width:2; stroke-opacity:0.1; fill:none\" points=\"1356.3,1486.45 1356.3,123.472 \"/>\n",
       "<polyline clip-path=\"url(#clip332)\" style=\"stroke:#000000; stroke-linecap:round; stroke-linejoin:round; stroke-width:2; stroke-opacity:0.1; fill:none\" points=\"1936.58,1486.45 1936.58,123.472 \"/>\n",
       "<polyline clip-path=\"url(#clip330)\" style=\"stroke:#000000; stroke-linecap:round; stroke-linejoin:round; stroke-width:4; stroke-opacity:1; fill:none\" points=\"193.936,1486.45 2352.76,1486.45 \"/>\n",
       "<polyline clip-path=\"url(#clip330)\" style=\"stroke:#000000; stroke-linecap:round; stroke-linejoin:round; stroke-width:4; stroke-opacity:1; fill:none\" points=\"195.743,1486.45 195.743,1467.55 \"/>\n",
       "<polyline clip-path=\"url(#clip330)\" style=\"stroke:#000000; stroke-linecap:round; stroke-linejoin:round; stroke-width:4; stroke-opacity:1; fill:none\" points=\"776.023,1486.45 776.023,1467.55 \"/>\n",
       "<polyline clip-path=\"url(#clip330)\" style=\"stroke:#000000; stroke-linecap:round; stroke-linejoin:round; stroke-width:4; stroke-opacity:1; fill:none\" points=\"1356.3,1486.45 1356.3,1467.55 \"/>\n",
       "<polyline clip-path=\"url(#clip330)\" style=\"stroke:#000000; stroke-linecap:round; stroke-linejoin:round; stroke-width:4; stroke-opacity:1; fill:none\" points=\"1936.58,1486.45 1936.58,1467.55 \"/>\n",
       "<path clip-path=\"url(#clip330)\" d=\"M164.644 1532.02 L194.32 1532.02 L194.32 1535.95 L164.644 1535.95 L164.644 1532.02 Z\" fill=\"#000000\" fill-rule=\"nonzero\" fill-opacity=\"1\" /><path clip-path=\"url(#clip330)\" d=\"M217.259 1518.36 L205.454 1536.81 L217.259 1536.81 L217.259 1518.36 M216.032 1514.29 L221.912 1514.29 L221.912 1536.81 L226.843 1536.81 L226.843 1540.7 L221.912 1540.7 L221.912 1548.85 L217.259 1548.85 L217.259 1540.7 L201.658 1540.7 L201.658 1536.19 L216.032 1514.29 Z\" fill=\"#000000\" fill-rule=\"nonzero\" fill-opacity=\"1\" /><path clip-path=\"url(#clip330)\" d=\"M745.965 1532.02 L775.641 1532.02 L775.641 1535.95 L745.965 1535.95 L745.965 1532.02 Z\" fill=\"#000000\" fill-rule=\"nonzero\" fill-opacity=\"1\" /><path clip-path=\"url(#clip330)\" d=\"M789.761 1544.91 L806.081 1544.91 L806.081 1548.85 L784.137 1548.85 L784.137 1544.91 Q786.799 1542.16 791.382 1537.53 Q795.988 1532.88 797.169 1531.53 Q799.414 1529.01 800.294 1527.27 Q801.197 1525.51 801.197 1523.82 Q801.197 1521.07 799.252 1519.33 Q797.331 1517.6 794.229 1517.6 Q792.03 1517.6 789.576 1518.36 Q787.146 1519.13 784.368 1520.68 L784.368 1515.95 Q787.192 1514.82 789.646 1514.24 Q792.099 1513.66 794.136 1513.66 Q799.507 1513.66 802.701 1516.35 Q805.896 1519.03 805.896 1523.52 Q805.896 1525.65 805.085 1527.57 Q804.298 1529.47 802.192 1532.07 Q801.613 1532.74 798.511 1535.95 Q795.41 1539.15 789.761 1544.91 Z\" fill=\"#000000\" fill-rule=\"nonzero\" fill-opacity=\"1\" /><path clip-path=\"url(#clip330)\" d=\"M1356.3 1517.37 Q1352.69 1517.37 1350.86 1520.93 Q1349.06 1524.47 1349.06 1531.6 Q1349.06 1538.71 1350.86 1542.27 Q1352.69 1545.82 1356.3 1545.82 Q1359.94 1545.82 1361.74 1542.27 Q1363.57 1538.71 1363.57 1531.6 Q1363.57 1524.47 1361.74 1520.93 Q1359.94 1517.37 1356.3 1517.37 M1356.3 1513.66 Q1362.11 1513.66 1365.17 1518.27 Q1368.25 1522.85 1368.25 1531.6 Q1368.25 1540.33 1365.17 1544.94 Q1362.11 1549.52 1356.3 1549.52 Q1350.49 1549.52 1347.41 1544.94 Q1344.36 1540.33 1344.36 1531.6 Q1344.36 1522.85 1347.41 1518.27 Q1350.49 1513.66 1356.3 1513.66 Z\" fill=\"#000000\" fill-rule=\"nonzero\" fill-opacity=\"1\" /><path clip-path=\"url(#clip330)\" d=\"M1931.24 1544.91 L1947.56 1544.91 L1947.56 1548.85 L1925.61 1548.85 L1925.61 1544.91 Q1928.27 1542.16 1932.86 1537.53 Q1937.46 1532.88 1938.64 1531.53 Q1940.89 1529.01 1941.77 1527.27 Q1942.67 1525.51 1942.67 1523.82 Q1942.67 1521.07 1940.73 1519.33 Q1938.81 1517.6 1935.7 1517.6 Q1933.5 1517.6 1931.05 1518.36 Q1928.62 1519.13 1925.84 1520.68 L1925.84 1515.95 Q1928.67 1514.82 1931.12 1514.24 Q1933.57 1513.66 1935.61 1513.66 Q1940.98 1513.66 1944.18 1516.35 Q1947.37 1519.03 1947.37 1523.52 Q1947.37 1525.65 1946.56 1527.57 Q1945.77 1529.47 1943.67 1532.07 Q1943.09 1532.74 1939.99 1535.95 Q1936.88 1539.15 1931.24 1544.91 Z\" fill=\"#000000\" fill-rule=\"nonzero\" fill-opacity=\"1\" /><polyline clip-path=\"url(#clip332)\" style=\"stroke:#000000; stroke-linecap:round; stroke-linejoin:round; stroke-width:2; stroke-opacity:0.1; fill:none\" points=\"193.936,1318.34 2352.76,1318.34 \"/>\n",
       "<polyline clip-path=\"url(#clip332)\" style=\"stroke:#000000; stroke-linecap:round; stroke-linejoin:round; stroke-width:2; stroke-opacity:0.1; fill:none\" points=\"193.936,1074.82 2352.76,1074.82 \"/>\n",
       "<polyline clip-path=\"url(#clip332)\" style=\"stroke:#000000; stroke-linecap:round; stroke-linejoin:round; stroke-width:2; stroke-opacity:0.1; fill:none\" points=\"193.936,831.307 2352.76,831.307 \"/>\n",
       "<polyline clip-path=\"url(#clip332)\" style=\"stroke:#000000; stroke-linecap:round; stroke-linejoin:round; stroke-width:2; stroke-opacity:0.1; fill:none\" points=\"193.936,587.792 2352.76,587.792 \"/>\n",
       "<polyline clip-path=\"url(#clip332)\" style=\"stroke:#000000; stroke-linecap:round; stroke-linejoin:round; stroke-width:2; stroke-opacity:0.1; fill:none\" points=\"193.936,344.277 2352.76,344.277 \"/>\n",
       "<polyline clip-path=\"url(#clip330)\" style=\"stroke:#000000; stroke-linecap:round; stroke-linejoin:round; stroke-width:4; stroke-opacity:1; fill:none\" points=\"193.936,1486.45 193.936,123.472 \"/>\n",
       "<polyline clip-path=\"url(#clip330)\" style=\"stroke:#000000; stroke-linecap:round; stroke-linejoin:round; stroke-width:4; stroke-opacity:1; fill:none\" points=\"193.936,1318.34 212.834,1318.34 \"/>\n",
       "<polyline clip-path=\"url(#clip330)\" style=\"stroke:#000000; stroke-linecap:round; stroke-linejoin:round; stroke-width:4; stroke-opacity:1; fill:none\" points=\"193.936,1074.82 212.834,1074.82 \"/>\n",
       "<polyline clip-path=\"url(#clip330)\" style=\"stroke:#000000; stroke-linecap:round; stroke-linejoin:round; stroke-width:4; stroke-opacity:1; fill:none\" points=\"193.936,831.307 212.834,831.307 \"/>\n",
       "<polyline clip-path=\"url(#clip330)\" style=\"stroke:#000000; stroke-linecap:round; stroke-linejoin:round; stroke-width:4; stroke-opacity:1; fill:none\" points=\"193.936,587.792 212.834,587.792 \"/>\n",
       "<polyline clip-path=\"url(#clip330)\" style=\"stroke:#000000; stroke-linecap:round; stroke-linejoin:round; stroke-width:4; stroke-opacity:1; fill:none\" points=\"193.936,344.277 212.834,344.277 \"/>\n",
       "<path clip-path=\"url(#clip330)\" d=\"M50.9921 1318.79 L80.6679 1318.79 L80.6679 1322.72 L50.9921 1322.72 L50.9921 1318.79 Z\" fill=\"#000000\" fill-rule=\"nonzero\" fill-opacity=\"1\" /><path clip-path=\"url(#clip330)\" d=\"M91.5706 1331.68 L99.2095 1331.68 L99.2095 1305.32 L90.8993 1306.98 L90.8993 1302.72 L99.1632 1301.06 L103.839 1301.06 L103.839 1331.68 L111.478 1331.68 L111.478 1335.62 L91.5706 1335.62 L91.5706 1331.68 Z\" fill=\"#000000\" fill-rule=\"nonzero\" fill-opacity=\"1\" /><path clip-path=\"url(#clip330)\" d=\"M120.922 1329.74 L125.807 1329.74 L125.807 1335.62 L120.922 1335.62 L120.922 1329.74 Z\" fill=\"#000000\" fill-rule=\"nonzero\" fill-opacity=\"1\" /><path clip-path=\"url(#clip330)\" d=\"M145.992 1304.14 Q142.381 1304.14 140.552 1307.7 Q138.746 1311.24 138.746 1318.37 Q138.746 1325.48 140.552 1329.04 Q142.381 1332.58 145.992 1332.58 Q149.626 1332.58 151.431 1329.04 Q153.26 1325.48 153.26 1318.37 Q153.26 1311.24 151.431 1307.7 Q149.626 1304.14 145.992 1304.14 M145.992 1300.43 Q151.802 1300.43 154.857 1305.04 Q157.936 1309.62 157.936 1318.37 Q157.936 1327.1 154.857 1331.71 Q151.802 1336.29 145.992 1336.29 Q140.181 1336.29 137.103 1331.71 Q134.047 1327.1 134.047 1318.37 Q134.047 1309.62 137.103 1305.04 Q140.181 1300.43 145.992 1300.43 Z\" fill=\"#000000\" fill-rule=\"nonzero\" fill-opacity=\"1\" /><path clip-path=\"url(#clip330)\" d=\"M51.9875 1075.27 L81.6633 1075.27 L81.6633 1079.21 L51.9875 1079.21 L51.9875 1075.27 Z\" fill=\"#000000\" fill-rule=\"nonzero\" fill-opacity=\"1\" /><path clip-path=\"url(#clip330)\" d=\"M101.756 1060.62 Q98.1447 1060.62 96.316 1064.19 Q94.5104 1067.73 94.5104 1074.86 Q94.5104 1081.96 96.316 1085.53 Q98.1447 1089.07 101.756 1089.07 Q105.39 1089.07 107.196 1085.53 Q109.024 1081.96 109.024 1074.86 Q109.024 1067.73 107.196 1064.19 Q105.39 1060.62 101.756 1060.62 M101.756 1056.92 Q107.566 1056.92 110.621 1061.52 Q113.7 1066.11 113.7 1074.86 Q113.7 1083.58 110.621 1088.19 Q107.566 1092.77 101.756 1092.77 Q95.9456 1092.77 92.8669 1088.19 Q89.8114 1083.58 89.8114 1074.86 Q89.8114 1066.11 92.8669 1061.52 Q95.9456 1056.92 101.756 1056.92 Z\" fill=\"#000000\" fill-rule=\"nonzero\" fill-opacity=\"1\" /><path clip-path=\"url(#clip330)\" d=\"M121.918 1086.22 L126.802 1086.22 L126.802 1092.1 L121.918 1092.1 L121.918 1086.22 Z\" fill=\"#000000\" fill-rule=\"nonzero\" fill-opacity=\"1\" /><path clip-path=\"url(#clip330)\" d=\"M137.033 1057.54 L155.39 1057.54 L155.39 1061.48 L141.316 1061.48 L141.316 1069.95 Q142.334 1069.6 143.353 1069.44 Q144.371 1069.25 145.39 1069.25 Q151.177 1069.25 154.556 1072.43 Q157.936 1075.6 157.936 1081.01 Q157.936 1086.59 154.464 1089.69 Q150.992 1092.77 144.672 1092.77 Q142.496 1092.77 140.228 1092.4 Q137.982 1092.03 135.575 1091.29 L135.575 1086.59 Q137.658 1087.73 139.881 1088.28 Q142.103 1088.84 144.58 1088.84 Q148.584 1088.84 150.922 1086.73 Q153.26 1084.63 153.26 1081.01 Q153.26 1077.4 150.922 1075.3 Q148.584 1073.19 144.58 1073.19 Q142.705 1073.19 140.83 1073.61 Q138.978 1074.02 137.033 1074.9 L137.033 1057.54 Z\" fill=\"#000000\" fill-rule=\"nonzero\" fill-opacity=\"1\" /><path clip-path=\"url(#clip330)\" d=\"M100.76 817.106 Q97.1493 817.106 95.3206 820.67 Q93.515 824.212 93.515 831.342 Q93.515 838.448 95.3206 842.013 Q97.1493 845.554 100.76 845.554 Q104.395 845.554 106.2 842.013 Q108.029 838.448 108.029 831.342 Q108.029 824.212 106.2 820.67 Q104.395 817.106 100.76 817.106 M100.76 813.402 Q106.571 813.402 109.626 818.008 Q112.705 822.592 112.705 831.342 Q112.705 840.068 109.626 844.675 Q106.571 849.258 100.76 849.258 Q94.9502 849.258 91.8715 844.675 Q88.816 840.068 88.816 831.342 Q88.816 822.592 91.8715 818.008 Q94.9502 813.402 100.76 813.402 Z\" fill=\"#000000\" fill-rule=\"nonzero\" fill-opacity=\"1\" /><path clip-path=\"url(#clip330)\" d=\"M120.922 842.707 L125.807 842.707 L125.807 848.587 L120.922 848.587 L120.922 842.707 Z\" fill=\"#000000\" fill-rule=\"nonzero\" fill-opacity=\"1\" /><path clip-path=\"url(#clip330)\" d=\"M145.992 817.106 Q142.381 817.106 140.552 820.67 Q138.746 824.212 138.746 831.342 Q138.746 838.448 140.552 842.013 Q142.381 845.554 145.992 845.554 Q149.626 845.554 151.431 842.013 Q153.26 838.448 153.26 831.342 Q153.26 824.212 151.431 820.67 Q149.626 817.106 145.992 817.106 M145.992 813.402 Q151.802 813.402 154.857 818.008 Q157.936 822.592 157.936 831.342 Q157.936 840.068 154.857 844.675 Q151.802 849.258 145.992 849.258 Q140.181 849.258 137.103 844.675 Q134.047 840.068 134.047 831.342 Q134.047 822.592 137.103 818.008 Q140.181 813.402 145.992 813.402 Z\" fill=\"#000000\" fill-rule=\"nonzero\" fill-opacity=\"1\" /><path clip-path=\"url(#clip330)\" d=\"M101.756 573.59 Q98.1447 573.59 96.316 577.155 Q94.5104 580.697 94.5104 587.826 Q94.5104 594.933 96.316 598.498 Q98.1447 602.039 101.756 602.039 Q105.39 602.039 107.196 598.498 Q109.024 594.933 109.024 587.826 Q109.024 580.697 107.196 577.155 Q105.39 573.59 101.756 573.59 M101.756 569.887 Q107.566 569.887 110.621 574.493 Q113.7 579.077 113.7 587.826 Q113.7 596.553 110.621 601.16 Q107.566 605.743 101.756 605.743 Q95.9456 605.743 92.8669 601.16 Q89.8114 596.553 89.8114 587.826 Q89.8114 579.077 92.8669 574.493 Q95.9456 569.887 101.756 569.887 Z\" fill=\"#000000\" fill-rule=\"nonzero\" fill-opacity=\"1\" /><path clip-path=\"url(#clip330)\" d=\"M121.918 599.192 L126.802 599.192 L126.802 605.072 L121.918 605.072 L121.918 599.192 Z\" fill=\"#000000\" fill-rule=\"nonzero\" fill-opacity=\"1\" /><path clip-path=\"url(#clip330)\" d=\"M137.033 570.512 L155.39 570.512 L155.39 574.447 L141.316 574.447 L141.316 582.919 Q142.334 582.572 143.353 582.41 Q144.371 582.225 145.39 582.225 Q151.177 582.225 154.556 585.396 Q157.936 588.567 157.936 593.984 Q157.936 599.563 154.464 602.664 Q150.992 605.743 144.672 605.743 Q142.496 605.743 140.228 605.373 Q137.982 605.002 135.575 604.262 L135.575 599.563 Q137.658 600.697 139.881 601.252 Q142.103 601.808 144.58 601.808 Q148.584 601.808 150.922 599.701 Q153.26 597.595 153.26 593.984 Q153.26 590.373 150.922 588.266 Q148.584 586.16 144.58 586.16 Q142.705 586.16 140.83 586.576 Q138.978 586.993 137.033 587.873 L137.033 570.512 Z\" fill=\"#000000\" fill-rule=\"nonzero\" fill-opacity=\"1\" /><path clip-path=\"url(#clip330)\" d=\"M91.5706 357.621 L99.2095 357.621 L99.2095 331.256 L90.8993 332.923 L90.8993 328.663 L99.1632 326.997 L103.839 326.997 L103.839 357.621 L111.478 357.621 L111.478 361.557 L91.5706 361.557 L91.5706 357.621 Z\" fill=\"#000000\" fill-rule=\"nonzero\" fill-opacity=\"1\" /><path clip-path=\"url(#clip330)\" d=\"M120.922 355.677 L125.807 355.677 L125.807 361.557 L120.922 361.557 L120.922 355.677 Z\" fill=\"#000000\" fill-rule=\"nonzero\" fill-opacity=\"1\" /><path clip-path=\"url(#clip330)\" d=\"M145.992 330.075 Q142.381 330.075 140.552 333.64 Q138.746 337.182 138.746 344.311 Q138.746 351.418 140.552 354.983 Q142.381 358.524 145.992 358.524 Q149.626 358.524 151.431 354.983 Q153.26 351.418 153.26 344.311 Q153.26 337.182 151.431 333.64 Q149.626 330.075 145.992 330.075 M145.992 326.372 Q151.802 326.372 154.857 330.978 Q157.936 335.561 157.936 344.311 Q157.936 353.038 154.857 357.645 Q151.802 362.228 145.992 362.228 Q140.181 362.228 137.103 357.645 Q134.047 353.038 134.047 344.311 Q134.047 335.561 137.103 330.978 Q140.181 326.372 145.992 326.372 Z\" fill=\"#000000\" fill-rule=\"nonzero\" fill-opacity=\"1\" /><path clip-path=\"url(#clip330)\" d=\"M912.552 34.1734 Q911.296 33.4443 909.798 33.1202 Q908.339 32.7556 906.557 32.7556 Q900.237 32.7556 896.835 36.8875 Q893.472 40.9789 893.472 48.6757 L893.472 72.576 L885.978 72.576 L885.978 27.2059 L893.472 27.2059 L893.472 34.2544 Q895.822 30.1225 899.589 28.1376 Q903.357 26.1121 908.744 26.1121 Q909.514 26.1121 910.446 26.2337 Q911.377 26.3147 912.512 26.5172 L912.552 34.1734 Z\" fill=\"#000000\" fill-rule=\"nonzero\" fill-opacity=\"1\" /><path clip-path=\"url(#clip330)\" d=\"M957.355 48.0275 L957.355 51.6733 L923.085 51.6733 Q923.571 59.3701 927.703 63.421 Q931.875 67.4314 939.288 67.4314 Q943.582 67.4314 947.592 66.3781 Q951.643 65.3249 955.613 63.2184 L955.613 70.267 Q951.603 71.9684 947.39 72.8596 Q943.177 73.7508 938.843 73.7508 Q927.986 73.7508 921.626 67.4314 Q915.307 61.1119 915.307 50.3365 Q915.307 39.1965 921.302 32.6746 Q927.338 26.1121 937.546 26.1121 Q946.701 26.1121 952.008 32.0264 Q957.355 37.9003 957.355 48.0275 M949.902 45.84 Q949.82 39.7232 946.458 36.0774 Q943.136 32.4315 937.627 32.4315 Q931.389 32.4315 927.622 35.9558 Q923.895 39.4801 923.328 45.8805 L949.902 45.84 Z\" fill=\"#000000\" fill-rule=\"nonzero\" fill-opacity=\"1\" /><path clip-path=\"url(#clip330)\" d=\"M1002.24 28.9478 L1002.24 35.9153 Q999.079 34.1734 995.879 33.3227 Q992.72 32.4315 989.479 32.4315 Q982.228 32.4315 978.217 37.0496 Q974.207 41.6271 974.207 49.9314 Q974.207 58.2358 978.217 62.8538 Q982.228 67.4314 989.479 67.4314 Q992.72 67.4314 995.879 66.5807 Q999.079 65.6895 1002.24 63.9476 L1002.24 70.8341 Q999.12 72.2924 995.758 73.0216 Q992.436 73.7508 988.669 73.7508 Q978.42 73.7508 972.384 67.3098 Q966.348 60.8689 966.348 49.9314 Q966.348 38.832 972.425 32.472 Q978.541 26.1121 989.155 26.1121 Q992.598 26.1121 995.879 26.8413 Q999.16 27.5299 1002.24 28.9478 Z\" fill=\"#000000\" fill-rule=\"nonzero\" fill-opacity=\"1\" /><path clip-path=\"url(#clip330)\" d=\"M1032.78 32.4315 Q1026.79 32.4315 1023.3 37.1306 Q1019.82 41.7891 1019.82 49.9314 Q1019.82 58.0738 1023.26 62.7728 Q1026.75 67.4314 1032.78 67.4314 Q1038.74 67.4314 1042.22 62.7323 Q1045.71 58.0333 1045.71 49.9314 Q1045.71 41.8701 1042.22 37.1711 Q1038.74 32.4315 1032.78 32.4315 M1032.78 26.1121 Q1042.51 26.1121 1048.05 32.4315 Q1053.6 38.7509 1053.6 49.9314 Q1053.6 61.0714 1048.05 67.4314 Q1042.51 73.7508 1032.78 73.7508 Q1023.02 73.7508 1017.47 67.4314 Q1011.96 61.0714 1011.96 49.9314 Q1011.96 38.7509 1017.47 32.4315 Q1023.02 26.1121 1032.78 26.1121 Z\" fill=\"#000000\" fill-rule=\"nonzero\" fill-opacity=\"1\" /><path clip-path=\"url(#clip330)\" d=\"M1103.67 45.1919 L1103.67 72.576 L1096.22 72.576 L1096.22 45.4349 Q1096.22 38.994 1093.71 35.7938 Q1091.2 32.5936 1086.17 32.5936 Q1080.14 32.5936 1076.65 36.4419 Q1073.17 40.2903 1073.17 46.9338 L1073.17 72.576 L1065.68 72.576 L1065.68 27.2059 L1073.17 27.2059 L1073.17 34.2544 Q1075.84 30.163 1079.45 28.1376 Q1083.1 26.1121 1087.83 26.1121 Q1095.65 26.1121 1099.66 30.9732 Q1103.67 35.7938 1103.67 45.1919 Z\" fill=\"#000000\" fill-rule=\"nonzero\" fill-opacity=\"1\" /><path clip-path=\"url(#clip330)\" d=\"M1147.46 28.5427 L1147.46 35.5912 Q1144.3 33.9709 1140.9 33.1607 Q1137.5 32.3505 1133.85 32.3505 Q1128.3 32.3505 1125.51 34.0519 Q1122.75 35.7533 1122.75 39.156 Q1122.75 41.7486 1124.74 43.2475 Q1126.72 44.7058 1132.72 46.0426 L1135.27 46.6097 Q1143.21 48.3111 1146.53 51.4303 Q1149.89 54.509 1149.89 60.0587 Q1149.89 66.3781 1144.87 70.0644 Q1139.89 73.7508 1131.14 73.7508 Q1127.49 73.7508 1123.52 73.0216 Q1119.59 72.3329 1115.22 70.9151 L1115.22 63.2184 Q1119.35 65.3654 1123.36 66.4591 Q1127.37 67.5124 1131.3 67.5124 Q1136.57 67.5124 1139.4 65.73 Q1142.24 63.9071 1142.24 60.6258 Q1142.24 57.5877 1140.17 55.9673 Q1138.15 54.3469 1131.22 52.8481 L1128.63 52.2405 Q1121.7 50.7821 1118.62 47.7845 Q1115.54 44.7463 1115.54 39.4801 Q1115.54 33.0797 1120.08 29.5959 Q1124.62 26.1121 1132.96 26.1121 Q1137.09 26.1121 1140.74 26.7198 Q1144.39 27.3274 1147.46 28.5427 Z\" fill=\"#000000\" fill-rule=\"nonzero\" fill-opacity=\"1\" /><path clip-path=\"url(#clip330)\" d=\"M1169.14 14.324 L1169.14 27.2059 L1184.49 27.2059 L1184.49 32.9987 L1169.14 32.9987 L1169.14 57.6282 Q1169.14 63.1779 1170.64 64.7578 Q1172.17 66.3376 1176.83 66.3376 L1184.49 66.3376 L1184.49 72.576 L1176.83 72.576 Q1168.2 72.576 1164.92 69.3758 Q1161.64 66.1351 1161.64 57.6282 L1161.64 32.9987 L1156.17 32.9987 L1156.17 27.2059 L1161.64 27.2059 L1161.64 14.324 L1169.14 14.324 Z\" fill=\"#000000\" fill-rule=\"nonzero\" fill-opacity=\"1\" /><path clip-path=\"url(#clip330)\" d=\"M1220.58 34.1734 Q1219.33 33.4443 1217.83 33.1202 Q1216.37 32.7556 1214.59 32.7556 Q1208.27 32.7556 1204.87 36.8875 Q1201.5 40.9789 1201.5 48.6757 L1201.5 72.576 L1194.01 72.576 L1194.01 27.2059 L1201.5 27.2059 L1201.5 34.2544 Q1203.85 30.1225 1207.62 28.1376 Q1211.39 26.1121 1216.78 26.1121 Q1217.54 26.1121 1218.48 26.2337 Q1219.41 26.3147 1220.54 26.5172 L1220.58 34.1734 Z\" fill=\"#000000\" fill-rule=\"nonzero\" fill-opacity=\"1\" /><path clip-path=\"url(#clip330)\" d=\"M1227.63 54.671 L1227.63 27.2059 L1235.09 27.2059 L1235.09 54.3874 Q1235.09 60.8284 1237.6 64.0691 Q1240.11 67.2693 1245.13 67.2693 Q1251.17 67.2693 1254.65 63.421 Q1258.18 59.5726 1258.18 52.9291 L1258.18 27.2059 L1265.63 27.2059 L1265.63 72.576 L1258.18 72.576 L1258.18 65.6084 Q1255.46 69.7404 1251.86 71.7658 Q1248.29 73.7508 1243.55 73.7508 Q1235.73 73.7508 1231.68 68.8897 Q1227.63 64.0286 1227.63 54.671 M1246.39 26.1121 L1246.39 26.1121 Z\" fill=\"#000000\" fill-rule=\"nonzero\" fill-opacity=\"1\" /><path clip-path=\"url(#clip330)\" d=\"M1313.63 28.9478 L1313.63 35.9153 Q1310.47 34.1734 1307.27 33.3227 Q1304.11 32.4315 1300.87 32.4315 Q1293.62 32.4315 1289.61 37.0496 Q1285.6 41.6271 1285.6 49.9314 Q1285.6 58.2358 1289.61 62.8538 Q1293.62 67.4314 1300.87 67.4314 Q1304.11 67.4314 1307.27 66.5807 Q1310.47 65.6895 1313.63 63.9476 L1313.63 70.8341 Q1310.51 72.2924 1307.15 73.0216 Q1303.83 73.7508 1300.06 73.7508 Q1289.81 73.7508 1283.78 67.3098 Q1277.74 60.8689 1277.74 49.9314 Q1277.74 38.832 1283.82 32.472 Q1289.93 26.1121 1300.55 26.1121 Q1303.99 26.1121 1307.27 26.8413 Q1310.55 27.5299 1313.63 28.9478 Z\" fill=\"#000000\" fill-rule=\"nonzero\" fill-opacity=\"1\" /><path clip-path=\"url(#clip330)\" d=\"M1333.97 14.324 L1333.97 27.2059 L1349.32 27.2059 L1349.32 32.9987 L1333.97 32.9987 L1333.97 57.6282 Q1333.97 63.1779 1335.47 64.7578 Q1337.01 66.3376 1341.66 66.3376 L1349.32 66.3376 L1349.32 72.576 L1341.66 72.576 Q1333.04 72.576 1329.75 69.3758 Q1326.47 66.1351 1326.47 57.6282 L1326.47 32.9987 L1321 32.9987 L1321 27.2059 L1326.47 27.2059 L1326.47 14.324 L1333.97 14.324 Z\" fill=\"#000000\" fill-rule=\"nonzero\" fill-opacity=\"1\" /><path clip-path=\"url(#clip330)\" d=\"M1397.93 48.0275 L1397.93 51.6733 L1363.66 51.6733 Q1364.15 59.3701 1368.28 63.421 Q1372.45 67.4314 1379.86 67.4314 Q1384.16 67.4314 1388.17 66.3781 Q1392.22 65.3249 1396.19 63.2184 L1396.19 70.267 Q1392.18 71.9684 1387.97 72.8596 Q1383.75 73.7508 1379.42 73.7508 Q1368.56 73.7508 1362.2 67.4314 Q1355.88 61.1119 1355.88 50.3365 Q1355.88 39.1965 1361.88 32.6746 Q1367.91 26.1121 1378.12 26.1121 Q1387.28 26.1121 1392.58 32.0264 Q1397.93 37.9003 1397.93 48.0275 M1390.48 45.84 Q1390.4 39.7232 1387.03 36.0774 Q1383.71 32.4315 1378.2 32.4315 Q1371.97 32.4315 1368.2 35.9558 Q1364.47 39.4801 1363.9 45.8805 L1390.48 45.84 Z\" fill=\"#000000\" fill-rule=\"nonzero\" fill-opacity=\"1\" /><path clip-path=\"url(#clip330)\" d=\"M1440.02 34.0924 L1440.02 9.54393 L1447.47 9.54393 L1447.47 72.576 L1440.02 72.576 L1440.02 65.7705 Q1437.67 69.8214 1434.07 71.8063 Q1430.5 73.7508 1425.48 73.7508 Q1417.25 73.7508 1412.07 67.1883 Q1406.92 60.6258 1406.92 49.9314 Q1406.92 39.2371 1412.07 32.6746 Q1417.25 26.1121 1425.48 26.1121 Q1430.5 26.1121 1434.07 28.0971 Q1437.67 30.0415 1440.02 34.0924 M1414.62 49.9314 Q1414.62 58.1548 1417.98 62.8538 Q1421.39 67.5124 1427.3 67.5124 Q1433.21 67.5124 1436.62 62.8538 Q1440.02 58.1548 1440.02 49.9314 Q1440.02 41.7081 1436.62 37.0496 Q1433.21 32.3505 1427.3 32.3505 Q1421.39 32.3505 1417.98 37.0496 Q1414.62 41.7081 1414.62 49.9314 Z\" fill=\"#000000\" fill-rule=\"nonzero\" fill-opacity=\"1\" /><path clip-path=\"url(#clip330)\" d=\"M1519.05 34.0924 L1519.05 9.54393 L1526.51 9.54393 L1526.51 72.576 L1519.05 72.576 L1519.05 65.7705 Q1516.7 69.8214 1513.1 71.8063 Q1509.53 73.7508 1504.51 73.7508 Q1496.29 73.7508 1491.1 67.1883 Q1485.96 60.6258 1485.96 49.9314 Q1485.96 39.2371 1491.1 32.6746 Q1496.29 26.1121 1504.51 26.1121 Q1509.53 26.1121 1513.1 28.0971 Q1516.7 30.0415 1519.05 34.0924 M1493.65 49.9314 Q1493.65 58.1548 1497.02 62.8538 Q1500.42 67.5124 1506.33 67.5124 Q1512.25 67.5124 1515.65 62.8538 Q1519.05 58.1548 1519.05 49.9314 Q1519.05 41.7081 1515.65 37.0496 Q1512.25 32.3505 1506.33 32.3505 Q1500.42 32.3505 1497.02 37.0496 Q1493.65 41.7081 1493.65 49.9314 Z\" fill=\"#000000\" fill-rule=\"nonzero\" fill-opacity=\"1\" /><path clip-path=\"url(#clip330)\" d=\"M1562.48 49.7694 Q1553.45 49.7694 1549.96 51.8354 Q1546.48 53.9013 1546.48 58.8839 Q1546.48 62.8538 1549.07 65.2034 Q1551.7 67.5124 1556.2 67.5124 Q1562.4 67.5124 1566.13 63.1374 Q1569.89 58.7219 1569.89 51.4303 L1569.89 49.7694 L1562.48 49.7694 M1577.35 46.6907 L1577.35 72.576 L1569.89 72.576 L1569.89 65.6895 Q1567.34 69.8214 1563.53 71.8063 Q1559.72 73.7508 1554.22 73.7508 Q1547.25 73.7508 1543.12 69.8619 Q1539.02 65.9325 1539.02 59.3701 Q1539.02 51.7138 1544.13 47.825 Q1549.27 43.9361 1559.44 43.9361 L1569.89 43.9361 L1569.89 43.2069 Q1569.89 38.0623 1566.49 35.2672 Q1563.13 32.4315 1557.01 32.4315 Q1553.12 32.4315 1549.44 33.3632 Q1545.75 34.295 1542.35 36.1584 L1542.35 29.2718 Q1546.44 27.692 1550.29 26.9223 Q1554.13 26.1121 1557.78 26.1121 Q1567.62 26.1121 1572.48 31.2163 Q1577.35 36.3204 1577.35 46.6907 Z\" fill=\"#000000\" fill-rule=\"nonzero\" fill-opacity=\"1\" /><path clip-path=\"url(#clip330)\" d=\"M1600.07 14.324 L1600.07 27.2059 L1615.42 27.2059 L1615.42 32.9987 L1600.07 32.9987 L1600.07 57.6282 Q1600.07 63.1779 1601.57 64.7578 Q1603.11 66.3376 1607.77 66.3376 L1615.42 66.3376 L1615.42 72.576 L1607.77 72.576 Q1599.14 72.576 1595.86 69.3758 Q1592.58 66.1351 1592.58 57.6282 L1592.58 32.9987 L1587.11 32.9987 L1587.11 27.2059 L1592.58 27.2059 L1592.58 14.324 L1600.07 14.324 Z\" fill=\"#000000\" fill-rule=\"nonzero\" fill-opacity=\"1\" /><path clip-path=\"url(#clip330)\" d=\"M1645.85 49.7694 Q1636.81 49.7694 1633.33 51.8354 Q1629.85 53.9013 1629.85 58.8839 Q1629.85 62.8538 1632.44 65.2034 Q1635.07 67.5124 1639.57 67.5124 Q1645.77 67.5124 1649.49 63.1374 Q1653.26 58.7219 1653.26 51.4303 L1653.26 49.7694 L1645.85 49.7694 M1660.71 46.6907 L1660.71 72.576 L1653.26 72.576 L1653.26 65.6895 Q1650.71 69.8214 1646.9 71.8063 Q1643.09 73.7508 1637.58 73.7508 Q1630.62 73.7508 1626.48 69.8619 Q1622.39 65.9325 1622.39 59.3701 Q1622.39 51.7138 1627.5 47.825 Q1632.64 43.9361 1642.81 43.9361 L1653.26 43.9361 L1653.26 43.2069 Q1653.26 38.0623 1649.86 35.2672 Q1646.49 32.4315 1640.38 32.4315 Q1636.49 32.4315 1632.8 33.3632 Q1629.12 34.295 1625.71 36.1584 L1625.71 29.2718 Q1629.81 27.692 1633.65 26.9223 Q1637.5 26.1121 1641.15 26.1121 Q1650.99 26.1121 1655.85 31.2163 Q1660.71 36.3204 1660.71 46.6907 Z\" fill=\"#000000\" fill-rule=\"nonzero\" fill-opacity=\"1\" /><circle clip-path=\"url(#clip332)\" cx=\"2135.08\" cy=\"675.751\" r=\"14.4\" fill=\"#ff0000\" fill-rule=\"evenodd\" fill-opacity=\"1\" stroke=\"#000000\" stroke-opacity=\"1\" stroke-width=\"3.2\"/>\n",
       "<circle clip-path=\"url(#clip332)\" cx=\"2143.78\" cy=\"917.512\" r=\"14.4\" fill=\"#ff0000\" fill-rule=\"evenodd\" fill-opacity=\"1\" stroke=\"#000000\" stroke-opacity=\"1\" stroke-width=\"3.2\"/>\n",
       "<circle clip-path=\"url(#clip332)\" cx=\"2194.51\" cy=\"901.902\" r=\"14.4\" fill=\"#ff0000\" fill-rule=\"evenodd\" fill-opacity=\"1\" stroke=\"#000000\" stroke-opacity=\"1\" stroke-width=\"3.2\"/>\n",
       "<circle clip-path=\"url(#clip332)\" cx=\"2152.84\" cy=\"986.328\" r=\"14.4\" fill=\"#ff0000\" fill-rule=\"evenodd\" fill-opacity=\"1\" stroke=\"#000000\" stroke-opacity=\"1\" stroke-width=\"3.2\"/>\n",
       "<circle clip-path=\"url(#clip332)\" cx=\"2148.01\" cy=\"672.168\" r=\"14.4\" fill=\"#ff0000\" fill-rule=\"evenodd\" fill-opacity=\"1\" stroke=\"#000000\" stroke-opacity=\"1\" stroke-width=\"3.2\"/>\n",
       "<circle clip-path=\"url(#clip332)\" cx=\"2018.07\" cy=\"470.257\" r=\"14.4\" fill=\"#ff0000\" fill-rule=\"evenodd\" fill-opacity=\"1\" stroke=\"#000000\" stroke-opacity=\"1\" stroke-width=\"3.2\"/>\n",
       "<circle clip-path=\"url(#clip332)\" cx=\"2174.65\" cy=\"874.877\" r=\"14.4\" fill=\"#ff0000\" fill-rule=\"evenodd\" fill-opacity=\"1\" stroke=\"#000000\" stroke-opacity=\"1\" stroke-width=\"3.2\"/>\n",
       "<circle clip-path=\"url(#clip332)\" cx=\"2118.25\" cy=\"751.733\" r=\"14.4\" fill=\"#ff0000\" fill-rule=\"evenodd\" fill-opacity=\"1\" stroke=\"#000000\" stroke-opacity=\"1\" stroke-width=\"3.2\"/>\n",
       "<circle clip-path=\"url(#clip332)\" cx=\"2193.76\" cy=\"1112.96\" r=\"14.4\" fill=\"#ff0000\" fill-rule=\"evenodd\" fill-opacity=\"1\" stroke=\"#000000\" stroke-opacity=\"1\" stroke-width=\"3.2\"/>\n",
       "<circle clip-path=\"url(#clip332)\" cx=\"2131.78\" cy=\"886.718\" r=\"14.4\" fill=\"#ff0000\" fill-rule=\"evenodd\" fill-opacity=\"1\" stroke=\"#000000\" stroke-opacity=\"1\" stroke-width=\"3.2\"/>\n",
       "<circle clip-path=\"url(#clip332)\" cx=\"2083.67\" cy=\"517.139\" r=\"14.4\" fill=\"#ff0000\" fill-rule=\"evenodd\" fill-opacity=\"1\" stroke=\"#000000\" stroke-opacity=\"1\" stroke-width=\"3.2\"/>\n",
       "<circle clip-path=\"url(#clip332)\" cx=\"2114.37\" cy=\"824.133\" r=\"14.4\" fill=\"#ff0000\" fill-rule=\"evenodd\" fill-opacity=\"1\" stroke=\"#000000\" stroke-opacity=\"1\" stroke-width=\"3.2\"/>\n",
       "<circle clip-path=\"url(#clip332)\" cx=\"2164.66\" cy=\"945.814\" r=\"14.4\" fill=\"#ff0000\" fill-rule=\"evenodd\" fill-opacity=\"1\" stroke=\"#000000\" stroke-opacity=\"1\" stroke-width=\"3.2\"/>\n",
       "<circle clip-path=\"url(#clip332)\" cx=\"2291.66\" cy=\"1080.37\" r=\"14.4\" fill=\"#ff0000\" fill-rule=\"evenodd\" fill-opacity=\"1\" stroke=\"#000000\" stroke-opacity=\"1\" stroke-width=\"3.2\"/>\n",
       "<circle clip-path=\"url(#clip332)\" cx=\"2123.65\" cy=\"257.213\" r=\"14.4\" fill=\"#ff0000\" fill-rule=\"evenodd\" fill-opacity=\"1\" stroke=\"#000000\" stroke-opacity=\"1\" stroke-width=\"3.2\"/>\n",
       "<circle clip-path=\"url(#clip332)\" cx=\"2048.59\" cy=\"179.63\" r=\"14.4\" fill=\"#ff0000\" fill-rule=\"evenodd\" fill-opacity=\"1\" stroke=\"#000000\" stroke-opacity=\"1\" stroke-width=\"3.2\"/>\n",
       "<circle clip-path=\"url(#clip332)\" cx=\"2117.49\" cy=\"436.481\" r=\"14.4\" fill=\"#ff0000\" fill-rule=\"evenodd\" fill-opacity=\"1\" stroke=\"#000000\" stroke-opacity=\"1\" stroke-width=\"3.2\"/>\n",
       "<circle clip-path=\"url(#clip332)\" cx=\"2124.68\" cy=\"679.427\" r=\"14.4\" fill=\"#ff0000\" fill-rule=\"evenodd\" fill-opacity=\"1\" stroke=\"#000000\" stroke-opacity=\"1\" stroke-width=\"3.2\"/>\n",
       "<circle clip-path=\"url(#clip332)\" cx=\"1994.56\" cy=\"406.208\" r=\"14.4\" fill=\"#ff0000\" fill-rule=\"evenodd\" fill-opacity=\"1\" stroke=\"#000000\" stroke-opacity=\"1\" stroke-width=\"3.2\"/>\n",
       "<circle clip-path=\"url(#clip332)\" cx=\"2107.18\" cy=\"581.187\" r=\"14.4\" fill=\"#ff0000\" fill-rule=\"evenodd\" fill-opacity=\"1\" stroke=\"#000000\" stroke-opacity=\"1\" stroke-width=\"3.2\"/>\n",
       "<circle clip-path=\"url(#clip332)\" cx=\"2026.6\" cy=\"640.71\" r=\"14.4\" fill=\"#ff0000\" fill-rule=\"evenodd\" fill-opacity=\"1\" stroke=\"#000000\" stroke-opacity=\"1\" stroke-width=\"3.2\"/>\n",
       "<circle clip-path=\"url(#clip332)\" cx=\"2094.33\" cy=\"620.425\" r=\"14.4\" fill=\"#ff0000\" fill-rule=\"evenodd\" fill-opacity=\"1\" stroke=\"#000000\" stroke-opacity=\"1\" stroke-width=\"3.2\"/>\n",
       "<circle clip-path=\"url(#clip332)\" cx=\"2289.38\" cy=\"766.304\" r=\"14.4\" fill=\"#ff0000\" fill-rule=\"evenodd\" fill-opacity=\"1\" stroke=\"#000000\" stroke-opacity=\"1\" stroke-width=\"3.2\"/>\n",
       "<circle clip-path=\"url(#clip332)\" cx=\"2024.42\" cy=\"783.233\" r=\"14.4\" fill=\"#ff0000\" fill-rule=\"evenodd\" fill-opacity=\"1\" stroke=\"#000000\" stroke-opacity=\"1\" stroke-width=\"3.2\"/>\n",
       "<circle clip-path=\"url(#clip332)\" cx=\"2039.8\" cy=\"849.464\" r=\"14.4\" fill=\"#ff0000\" fill-rule=\"evenodd\" fill-opacity=\"1\" stroke=\"#000000\" stroke-opacity=\"1\" stroke-width=\"3.2\"/>\n",
       "<circle clip-path=\"url(#clip332)\" cx=\"2083.59\" cy=\"902.421\" r=\"14.4\" fill=\"#ff0000\" fill-rule=\"evenodd\" fill-opacity=\"1\" stroke=\"#000000\" stroke-opacity=\"1\" stroke-width=\"3.2\"/>\n",
       "<circle clip-path=\"url(#clip332)\" cx=\"2072.61\" cy=\"767.53\" r=\"14.4\" fill=\"#ff0000\" fill-rule=\"evenodd\" fill-opacity=\"1\" stroke=\"#000000\" stroke-opacity=\"1\" stroke-width=\"3.2\"/>\n",
       "<circle clip-path=\"url(#clip332)\" cx=\"2099.73\" cy=\"652.217\" r=\"14.4\" fill=\"#ff0000\" fill-rule=\"evenodd\" fill-opacity=\"1\" stroke=\"#000000\" stroke-opacity=\"1\" stroke-width=\"3.2\"/>\n",
       "<circle clip-path=\"url(#clip332)\" cx=\"2122.14\" cy=\"679.334\" r=\"14.4\" fill=\"#ff0000\" fill-rule=\"evenodd\" fill-opacity=\"1\" stroke=\"#000000\" stroke-opacity=\"1\" stroke-width=\"3.2\"/>\n",
       "<circle clip-path=\"url(#clip332)\" cx=\"2119.95\" cy=\"927.233\" r=\"14.4\" fill=\"#ff0000\" fill-rule=\"evenodd\" fill-opacity=\"1\" stroke=\"#000000\" stroke-opacity=\"1\" stroke-width=\"3.2\"/>\n",
       "<circle clip-path=\"url(#clip332)\" cx=\"2107.01\" cy=\"930.816\" r=\"14.4\" fill=\"#ff0000\" fill-rule=\"evenodd\" fill-opacity=\"1\" stroke=\"#000000\" stroke-opacity=\"1\" stroke-width=\"3.2\"/>\n",
       "<circle clip-path=\"url(#clip332)\" cx=\"2055.52\" cy=\"631.174\" r=\"14.4\" fill=\"#ff0000\" fill-rule=\"evenodd\" fill-opacity=\"1\" stroke=\"#000000\" stroke-opacity=\"1\" stroke-width=\"3.2\"/>\n",
       "<circle clip-path=\"url(#clip332)\" cx=\"2124.84\" cy=\"435.174\" r=\"14.4\" fill=\"#ff0000\" fill-rule=\"evenodd\" fill-opacity=\"1\" stroke=\"#000000\" stroke-opacity=\"1\" stroke-width=\"3.2\"/>\n",
       "<circle clip-path=\"url(#clip332)\" cx=\"2110.3\" cy=\"298.912\" r=\"14.4\" fill=\"#ff0000\" fill-rule=\"evenodd\" fill-opacity=\"1\" stroke=\"#000000\" stroke-opacity=\"1\" stroke-width=\"3.2\"/>\n",
       "<circle clip-path=\"url(#clip332)\" cx=\"2121.38\" cy=\"890.395\" r=\"14.4\" fill=\"#ff0000\" fill-rule=\"evenodd\" fill-opacity=\"1\" stroke=\"#000000\" stroke-opacity=\"1\" stroke-width=\"3.2\"/>\n",
       "<circle clip-path=\"url(#clip332)\" cx=\"2187.91\" cy=\"797.524\" r=\"14.4\" fill=\"#ff0000\" fill-rule=\"evenodd\" fill-opacity=\"1\" stroke=\"#000000\" stroke-opacity=\"1\" stroke-width=\"3.2\"/>\n",
       "<circle clip-path=\"url(#clip332)\" cx=\"2117.99\" cy=\"539.396\" r=\"14.4\" fill=\"#ff0000\" fill-rule=\"evenodd\" fill-opacity=\"1\" stroke=\"#000000\" stroke-opacity=\"1\" stroke-width=\"3.2\"/>\n",
       "<circle clip-path=\"url(#clip332)\" cx=\"2168.89\" cy=\"700.469\" r=\"14.4\" fill=\"#ff0000\" fill-rule=\"evenodd\" fill-opacity=\"1\" stroke=\"#000000\" stroke-opacity=\"1\" stroke-width=\"3.2\"/>\n",
       "<circle clip-path=\"url(#clip332)\" cx=\"2221.07\" cy=\"1068.96\" r=\"14.4\" fill=\"#ff0000\" fill-rule=\"evenodd\" fill-opacity=\"1\" stroke=\"#000000\" stroke-opacity=\"1\" stroke-width=\"3.2\"/>\n",
       "<circle clip-path=\"url(#clip332)\" cx=\"2107.77\" cy=\"719.756\" r=\"14.4\" fill=\"#ff0000\" fill-rule=\"evenodd\" fill-opacity=\"1\" stroke=\"#000000\" stroke-opacity=\"1\" stroke-width=\"3.2\"/>\n",
       "<circle clip-path=\"url(#clip332)\" cx=\"2160.02\" cy=\"702.961\" r=\"14.4\" fill=\"#ff0000\" fill-rule=\"evenodd\" fill-opacity=\"1\" stroke=\"#000000\" stroke-opacity=\"1\" stroke-width=\"3.2\"/>\n",
       "<circle clip-path=\"url(#clip332)\" cx=\"2183.02\" cy=\"1289.58\" r=\"14.4\" fill=\"#ff0000\" fill-rule=\"evenodd\" fill-opacity=\"1\" stroke=\"#000000\" stroke-opacity=\"1\" stroke-width=\"3.2\"/>\n",
       "<circle clip-path=\"url(#clip332)\" cx=\"2225.97\" cy=\"997.835\" r=\"14.4\" fill=\"#ff0000\" fill-rule=\"evenodd\" fill-opacity=\"1\" stroke=\"#000000\" stroke-opacity=\"1\" stroke-width=\"3.2\"/>\n",
       "<circle clip-path=\"url(#clip332)\" cx=\"2054.27\" cy=\"739.321\" r=\"14.4\" fill=\"#ff0000\" fill-rule=\"evenodd\" fill-opacity=\"1\" stroke=\"#000000\" stroke-opacity=\"1\" stroke-width=\"3.2\"/>\n",
       "<circle clip-path=\"url(#clip332)\" cx=\"1997.36\" cy=\"618.639\" r=\"14.4\" fill=\"#ff0000\" fill-rule=\"evenodd\" fill-opacity=\"1\" stroke=\"#000000\" stroke-opacity=\"1\" stroke-width=\"3.2\"/>\n",
       "<circle clip-path=\"url(#clip332)\" cx=\"2143.87\" cy=\"953.166\" r=\"14.4\" fill=\"#ff0000\" fill-rule=\"evenodd\" fill-opacity=\"1\" stroke=\"#000000\" stroke-opacity=\"1\" stroke-width=\"3.2\"/>\n",
       "<circle clip-path=\"url(#clip332)\" cx=\"2092.72\" cy=\"585.955\" r=\"14.4\" fill=\"#ff0000\" fill-rule=\"evenodd\" fill-opacity=\"1\" stroke=\"#000000\" stroke-opacity=\"1\" stroke-width=\"3.2\"/>\n",
       "<circle clip-path=\"url(#clip332)\" cx=\"2180.14\" cy=\"942.323\" r=\"14.4\" fill=\"#ff0000\" fill-rule=\"evenodd\" fill-opacity=\"1\" stroke=\"#000000\" stroke-opacity=\"1\" stroke-width=\"3.2\"/>\n",
       "<circle clip-path=\"url(#clip332)\" cx=\"2094.15\" cy=\"549.117\" r=\"14.4\" fill=\"#ff0000\" fill-rule=\"evenodd\" fill-opacity=\"1\" stroke=\"#000000\" stroke-opacity=\"1\" stroke-width=\"3.2\"/>\n",
       "<circle clip-path=\"url(#clip332)\" cx=\"2140.66\" cy=\"778.851\" r=\"14.4\" fill=\"#ff0000\" fill-rule=\"evenodd\" fill-opacity=\"1\" stroke=\"#000000\" stroke-opacity=\"1\" stroke-width=\"3.2\"/>\n",
       "<circle clip-path=\"url(#clip332)\" cx=\"983.524\" cy=\"497.613\" r=\"14.4\" fill=\"#0000ff\" fill-rule=\"evenodd\" fill-opacity=\"1\" stroke=\"#000000\" stroke-opacity=\"1\" stroke-width=\"3.2\"/>\n",
       "<circle clip-path=\"url(#clip332)\" cx=\"1085.75\" cy=\"676.269\" r=\"14.4\" fill=\"#0000ff\" fill-rule=\"evenodd\" fill-opacity=\"1\" stroke=\"#000000\" stroke-opacity=\"1\" stroke-width=\"3.2\"/>\n",
       "<circle clip-path=\"url(#clip332)\" cx=\"931.45\" cy=\"585.716\" r=\"14.4\" fill=\"#0000ff\" fill-rule=\"evenodd\" fill-opacity=\"1\" stroke=\"#000000\" stroke-opacity=\"1\" stroke-width=\"3.2\"/>\n",
       "<circle clip-path=\"url(#clip332)\" cx=\"1303.12\" cy=\"1234.55\" r=\"14.4\" fill=\"#0000ff\" fill-rule=\"evenodd\" fill-opacity=\"1\" stroke=\"#000000\" stroke-opacity=\"1\" stroke-width=\"3.2\"/>\n",
       "<circle clip-path=\"url(#clip332)\" cx=\"1040.6\" cy=\"794.979\" r=\"14.4\" fill=\"#0000ff\" fill-rule=\"evenodd\" fill-opacity=\"1\" stroke=\"#000000\" stroke-opacity=\"1\" stroke-width=\"3.2\"/>\n",
       "<circle clip-path=\"url(#clip332)\" cx=\"1170.13\" cy=\"1035.01\" r=\"14.4\" fill=\"#0000ff\" fill-rule=\"evenodd\" fill-opacity=\"1\" stroke=\"#000000\" stroke-opacity=\"1\" stroke-width=\"3.2\"/>\n",
       "<circle clip-path=\"url(#clip332)\" cx=\"1038.58\" cy=\"693.249\" r=\"14.4\" fill=\"#0000ff\" fill-rule=\"evenodd\" fill-opacity=\"1\" stroke=\"#000000\" stroke-opacity=\"1\" stroke-width=\"3.2\"/>\n",
       "<circle clip-path=\"url(#clip332)\" cx=\"1573.65\" cy=\"1320.72\" r=\"14.4\" fill=\"#0000ff\" fill-rule=\"evenodd\" fill-opacity=\"1\" stroke=\"#000000\" stroke-opacity=\"1\" stroke-width=\"3.2\"/>\n",
       "<circle clip-path=\"url(#clip332)\" cx=\"1053.36\" cy=\"720.088\" r=\"14.4\" fill=\"#0000ff\" fill-rule=\"evenodd\" fill-opacity=\"1\" stroke=\"#000000\" stroke-opacity=\"1\" stroke-width=\"3.2\"/>\n",
       "<circle clip-path=\"url(#clip332)\" cx=\"1358.84\" cy=\"1183.47\" r=\"14.4\" fill=\"#0000ff\" fill-rule=\"evenodd\" fill-opacity=\"1\" stroke=\"#000000\" stroke-opacity=\"1\" stroke-width=\"3.2\"/>\n",
       "<circle clip-path=\"url(#clip332)\" cx=\"1503.65\" cy=\"1447.87\" r=\"14.4\" fill=\"#0000ff\" fill-rule=\"evenodd\" fill-opacity=\"1\" stroke=\"#000000\" stroke-opacity=\"1\" stroke-width=\"3.2\"/>\n",
       "<circle clip-path=\"url(#clip332)\" cx=\"1207.84\" cy=\"881.949\" r=\"14.4\" fill=\"#0000ff\" fill-rule=\"evenodd\" fill-opacity=\"1\" stroke=\"#000000\" stroke-opacity=\"1\" stroke-width=\"3.2\"/>\n",
       "<circle clip-path=\"url(#clip332)\" cx=\"1279.42\" cy=\"1099.19\" r=\"14.4\" fill=\"#0000ff\" fill-rule=\"evenodd\" fill-opacity=\"1\" stroke=\"#000000\" stroke-opacity=\"1\" stroke-width=\"3.2\"/>\n",
       "<circle clip-path=\"url(#clip332)\" cx=\"1070.53\" cy=\"892.097\" r=\"14.4\" fill=\"#0000ff\" fill-rule=\"evenodd\" fill-opacity=\"1\" stroke=\"#000000\" stroke-opacity=\"1\" stroke-width=\"3.2\"/>\n",
       "<circle clip-path=\"url(#clip332)\" cx=\"1406.77\" cy=\"955.429\" r=\"14.4\" fill=\"#0000ff\" fill-rule=\"evenodd\" fill-opacity=\"1\" stroke=\"#000000\" stroke-opacity=\"1\" stroke-width=\"3.2\"/>\n",
       "<circle clip-path=\"url(#clip332)\" cx=\"1087.09\" cy=\"603.776\" r=\"14.4\" fill=\"#0000ff\" fill-rule=\"evenodd\" fill-opacity=\"1\" stroke=\"#000000\" stroke-opacity=\"1\" stroke-width=\"3.2\"/>\n",
       "<circle clip-path=\"url(#clip332)\" cx=\"1164.73\" cy=\"1003.21\" r=\"14.4\" fill=\"#0000ff\" fill-rule=\"evenodd\" fill-opacity=\"1\" stroke=\"#000000\" stroke-opacity=\"1\" stroke-width=\"3.2\"/>\n",
       "<circle clip-path=\"url(#clip332)\" cx=\"1287.8\" cy=\"993.785\" r=\"14.4\" fill=\"#0000ff\" fill-rule=\"evenodd\" fill-opacity=\"1\" stroke=\"#000000\" stroke-opacity=\"1\" stroke-width=\"3.2\"/>\n",
       "<circle clip-path=\"url(#clip332)\" cx=\"1082.2\" cy=\"1095.84\" r=\"14.4\" fill=\"#0000ff\" fill-rule=\"evenodd\" fill-opacity=\"1\" stroke=\"#000000\" stroke-opacity=\"1\" stroke-width=\"3.2\"/>\n",
       "<circle clip-path=\"url(#clip332)\" cx=\"1343.18\" cy=\"1115.65\" r=\"14.4\" fill=\"#0000ff\" fill-rule=\"evenodd\" fill-opacity=\"1\" stroke=\"#000000\" stroke-opacity=\"1\" stroke-width=\"3.2\"/>\n",
       "<circle clip-path=\"url(#clip332)\" cx=\"1032.42\" cy=\"872.518\" r=\"14.4\" fill=\"#0000ff\" fill-rule=\"evenodd\" fill-opacity=\"1\" stroke=\"#000000\" stroke-opacity=\"1\" stroke-width=\"3.2\"/>\n",
       "<circle clip-path=\"url(#clip332)\" cx=\"1252.47\" cy=\"864.875\" r=\"14.4\" fill=\"#0000ff\" fill-rule=\"evenodd\" fill-opacity=\"1\" stroke=\"#000000\" stroke-opacity=\"1\" stroke-width=\"3.2\"/>\n",
       "<circle clip-path=\"url(#clip332)\" cx=\"979.648\" cy=\"990.949\" r=\"14.4\" fill=\"#0000ff\" fill-rule=\"evenodd\" fill-opacity=\"1\" stroke=\"#000000\" stroke-opacity=\"1\" stroke-width=\"3.2\"/>\n",
       "<circle clip-path=\"url(#clip332)\" cx=\"1088.87\" cy=\"920.306\" r=\"14.4\" fill=\"#0000ff\" fill-rule=\"evenodd\" fill-opacity=\"1\" stroke=\"#000000\" stroke-opacity=\"1\" stroke-width=\"3.2\"/>\n",
       "<circle clip-path=\"url(#clip332)\" cx=\"1148.9\" cy=\"758.712\" r=\"14.4\" fill=\"#0000ff\" fill-rule=\"evenodd\" fill-opacity=\"1\" stroke=\"#000000\" stroke-opacity=\"1\" stroke-width=\"3.2\"/>\n",
       "<circle clip-path=\"url(#clip332)\" cx=\"1095.13\" cy=\"671.315\" r=\"14.4\" fill=\"#0000ff\" fill-rule=\"evenodd\" fill-opacity=\"1\" stroke=\"#000000\" stroke-opacity=\"1\" stroke-width=\"3.2\"/>\n",
       "<circle clip-path=\"url(#clip332)\" cx=\"969.83\" cy=\"712.257\" r=\"14.4\" fill=\"#0000ff\" fill-rule=\"evenodd\" fill-opacity=\"1\" stroke=\"#000000\" stroke-opacity=\"1\" stroke-width=\"3.2\"/>\n",
       "<circle clip-path=\"url(#clip332)\" cx=\"904.322\" cy=\"701.028\" r=\"14.4\" fill=\"#0000ff\" fill-rule=\"evenodd\" fill-opacity=\"1\" stroke=\"#000000\" stroke-opacity=\"1\" stroke-width=\"3.2\"/>\n",
       "<circle clip-path=\"url(#clip332)\" cx=\"1120.33\" cy=\"910.863\" r=\"14.4\" fill=\"#0000ff\" fill-rule=\"evenodd\" fill-opacity=\"1\" stroke=\"#000000\" stroke-opacity=\"1\" stroke-width=\"3.2\"/>\n",
       "<circle clip-path=\"url(#clip332)\" cx=\"1444.97\" cy=\"1010.66\" r=\"14.4\" fill=\"#0000ff\" fill-rule=\"evenodd\" fill-opacity=\"1\" stroke=\"#000000\" stroke-opacity=\"1\" stroke-width=\"3.2\"/>\n",
       "<circle clip-path=\"url(#clip332)\" cx=\"1376.07\" cy=\"1174.75\" r=\"14.4\" fill=\"#0000ff\" fill-rule=\"evenodd\" fill-opacity=\"1\" stroke=\"#000000\" stroke-opacity=\"1\" stroke-width=\"3.2\"/>\n",
       "<circle clip-path=\"url(#clip332)\" cx=\"1411.32\" cy=\"1162.63\" r=\"14.4\" fill=\"#0000ff\" fill-rule=\"evenodd\" fill-opacity=\"1\" stroke=\"#000000\" stroke-opacity=\"1\" stroke-width=\"3.2\"/>\n",
       "<circle clip-path=\"url(#clip332)\" cx=\"1316.72\" cy=\"984.25\" r=\"14.4\" fill=\"#0000ff\" fill-rule=\"evenodd\" fill-opacity=\"1\" stroke=\"#000000\" stroke-opacity=\"1\" stroke-width=\"3.2\"/>\n",
       "<circle clip-path=\"url(#clip332)\" cx=\"955.902\" cy=\"1036.32\" r=\"14.4\" fill=\"#0000ff\" fill-rule=\"evenodd\" fill-opacity=\"1\" stroke=\"#000000\" stroke-opacity=\"1\" stroke-width=\"3.2\"/>\n",
       "<circle clip-path=\"url(#clip332)\" cx=\"1185.7\" cy=\"1067.17\" r=\"14.4\" fill=\"#0000ff\" fill-rule=\"evenodd\" fill-opacity=\"1\" stroke=\"#000000\" stroke-opacity=\"1\" stroke-width=\"3.2\"/>\n",
       "<circle clip-path=\"url(#clip332)\" cx=\"1122.2\" cy=\"736.734\" r=\"14.4\" fill=\"#0000ff\" fill-rule=\"evenodd\" fill-opacity=\"1\" stroke=\"#000000\" stroke-opacity=\"1\" stroke-width=\"3.2\"/>\n",
       "<circle clip-path=\"url(#clip332)\" cx=\"1002.13\" cy=\"632.784\" r=\"14.4\" fill=\"#0000ff\" fill-rule=\"evenodd\" fill-opacity=\"1\" stroke=\"#000000\" stroke-opacity=\"1\" stroke-width=\"3.2\"/>\n",
       "<circle clip-path=\"url(#clip332)\" cx=\"1119.81\" cy=\"1012.5\" r=\"14.4\" fill=\"#0000ff\" fill-rule=\"evenodd\" fill-opacity=\"1\" stroke=\"#000000\" stroke-opacity=\"1\" stroke-width=\"3.2\"/>\n",
       "<circle clip-path=\"url(#clip332)\" cx=\"1284.94\" cy=\"962.086\" r=\"14.4\" fill=\"#0000ff\" fill-rule=\"evenodd\" fill-opacity=\"1\" stroke=\"#000000\" stroke-opacity=\"1\" stroke-width=\"3.2\"/>\n",
       "<circle clip-path=\"url(#clip332)\" cx=\"1308.02\" cy=\"1163.43\" r=\"14.4\" fill=\"#0000ff\" fill-rule=\"evenodd\" fill-opacity=\"1\" stroke=\"#000000\" stroke-opacity=\"1\" stroke-width=\"3.2\"/>\n",
       "<circle clip-path=\"url(#clip332)\" cx=\"1221.45\" cy=\"1157.96\" r=\"14.4\" fill=\"#0000ff\" fill-rule=\"evenodd\" fill-opacity=\"1\" stroke=\"#000000\" stroke-opacity=\"1\" stroke-width=\"3.2\"/>\n",
       "<circle clip-path=\"url(#clip332)\" cx=\"1097.84\" cy=\"848.092\" r=\"14.4\" fill=\"#0000ff\" fill-rule=\"evenodd\" fill-opacity=\"1\" stroke=\"#000000\" stroke-opacity=\"1\" stroke-width=\"3.2\"/>\n",
       "<circle clip-path=\"url(#clip332)\" cx=\"1289.41\" cy=\"1028.25\" r=\"14.4\" fill=\"#0000ff\" fill-rule=\"evenodd\" fill-opacity=\"1\" stroke=\"#000000\" stroke-opacity=\"1\" stroke-width=\"3.2\"/>\n",
       "<circle clip-path=\"url(#clip332)\" cx=\"1560.72\" cy=\"1324.3\" r=\"14.4\" fill=\"#0000ff\" fill-rule=\"evenodd\" fill-opacity=\"1\" stroke=\"#000000\" stroke-opacity=\"1\" stroke-width=\"3.2\"/>\n",
       "<circle clip-path=\"url(#clip332)\" cx=\"1252.73\" cy=\"1077.21\" r=\"14.4\" fill=\"#0000ff\" fill-rule=\"evenodd\" fill-opacity=\"1\" stroke=\"#000000\" stroke-opacity=\"1\" stroke-width=\"3.2\"/>\n",
       "<circle clip-path=\"url(#clip332)\" cx=\"1260\" cy=\"934.876\" r=\"14.4\" fill=\"#0000ff\" fill-rule=\"evenodd\" fill-opacity=\"1\" stroke=\"#000000\" stroke-opacity=\"1\" stroke-width=\"3.2\"/>\n",
       "<circle clip-path=\"url(#clip332)\" cx=\"1247.15\" cy=\"974.113\" r=\"14.4\" fill=\"#0000ff\" fill-rule=\"evenodd\" fill-opacity=\"1\" stroke=\"#000000\" stroke-opacity=\"1\" stroke-width=\"3.2\"/>\n",
       "<circle clip-path=\"url(#clip332)\" cx=\"1169.87\" cy=\"822.668\" r=\"14.4\" fill=\"#0000ff\" fill-rule=\"evenodd\" fill-opacity=\"1\" stroke=\"#000000\" stroke-opacity=\"1\" stroke-width=\"3.2\"/>\n",
       "<circle clip-path=\"url(#clip332)\" cx=\"1619.31\" cy=\"1199.55\" r=\"14.4\" fill=\"#0000ff\" fill-rule=\"evenodd\" fill-opacity=\"1\" stroke=\"#000000\" stroke-opacity=\"1\" stroke-width=\"3.2\"/>\n",
       "<circle clip-path=\"url(#clip332)\" cx=\"1269.55\" cy=\"1001.23\" r=\"14.4\" fill=\"#0000ff\" fill-rule=\"evenodd\" fill-opacity=\"1\" stroke=\"#000000\" stroke-opacity=\"1\" stroke-width=\"3.2\"/>\n",
       "<circle clip-path=\"url(#clip332)\" cx=\"621.903\" cy=\"836.104\" r=\"14.4\" fill=\"#ffa500\" fill-rule=\"evenodd\" fill-opacity=\"1\" stroke=\"#000000\" stroke-opacity=\"1\" stroke-width=\"3.2\"/>\n",
       "<circle clip-path=\"url(#clip332)\" cx=\"945.687\" cy=\"1111.31\" r=\"14.4\" fill=\"#ffa500\" fill-rule=\"evenodd\" fill-opacity=\"1\" stroke=\"#000000\" stroke-opacity=\"1\" stroke-width=\"3.2\"/>\n",
       "<circle clip-path=\"url(#clip332)\" cx=\"597.101\" cy=\"663.816\" r=\"14.4\" fill=\"#ffa500\" fill-rule=\"evenodd\" fill-opacity=\"1\" stroke=\"#000000\" stroke-opacity=\"1\" stroke-width=\"3.2\"/>\n",
       "<circle clip-path=\"url(#clip332)\" cx=\"784.283\" cy=\"918.84\" r=\"14.4\" fill=\"#ffa500\" fill-rule=\"evenodd\" fill-opacity=\"1\" stroke=\"#000000\" stroke-opacity=\"1\" stroke-width=\"3.2\"/>\n",
       "<circle clip-path=\"url(#clip332)\" cx=\"674.472\" cy=\"850.915\" r=\"14.4\" fill=\"#ffa500\" fill-rule=\"evenodd\" fill-opacity=\"1\" stroke=\"#000000\" stroke-opacity=\"1\" stroke-width=\"3.2\"/>\n",
       "<circle clip-path=\"url(#clip332)\" cx=\"370.686\" cy=\"563.033\" r=\"14.4\" fill=\"#ffa500\" fill-rule=\"evenodd\" fill-opacity=\"1\" stroke=\"#000000\" stroke-opacity=\"1\" stroke-width=\"3.2\"/>\n",
       "<circle clip-path=\"url(#clip332)\" cx=\"1205.07\" cy=\"1412.22\" r=\"14.4\" fill=\"#ffa500\" fill-rule=\"evenodd\" fill-opacity=\"1\" stroke=\"#000000\" stroke-opacity=\"1\" stroke-width=\"3.2\"/>\n",
       "<circle clip-path=\"url(#clip332)\" cx=\"505.442\" cy=\"658.168\" r=\"14.4\" fill=\"#ffa500\" fill-rule=\"evenodd\" fill-opacity=\"1\" stroke=\"#000000\" stroke-opacity=\"1\" stroke-width=\"3.2\"/>\n",
       "<circle clip-path=\"url(#clip332)\" cx=\"682.822\" cy=\"950.06\" r=\"14.4\" fill=\"#ffa500\" fill-rule=\"evenodd\" fill-opacity=\"1\" stroke=\"#000000\" stroke-opacity=\"1\" stroke-width=\"3.2\"/>\n",
       "<circle clip-path=\"url(#clip332)\" cx=\"510.037\" cy=\"450.064\" r=\"14.4\" fill=\"#ffa500\" fill-rule=\"evenodd\" fill-opacity=\"1\" stroke=\"#000000\" stroke-opacity=\"1\" stroke-width=\"3.2\"/>\n",
       "<circle clip-path=\"url(#clip332)\" cx=\"874.156\" cy=\"713.334\" r=\"14.4\" fill=\"#ffa500\" fill-rule=\"evenodd\" fill-opacity=\"1\" stroke=\"#000000\" stroke-opacity=\"1\" stroke-width=\"3.2\"/>\n",
       "<circle clip-path=\"url(#clip332)\" cx=\"833.064\" cy=\"936.329\" r=\"14.4\" fill=\"#ffa500\" fill-rule=\"evenodd\" fill-opacity=\"1\" stroke=\"#000000\" stroke-opacity=\"1\" stroke-width=\"3.2\"/>\n",
       "<circle clip-path=\"url(#clip332)\" cx=\"727.978\" cy=\"725.974\" r=\"14.4\" fill=\"#ffa500\" fill-rule=\"evenodd\" fill-opacity=\"1\" stroke=\"#000000\" stroke-opacity=\"1\" stroke-width=\"3.2\"/>\n",
       "<circle clip-path=\"url(#clip332)\" cx=\"965.727\" cy=\"1209.64\" r=\"14.4\" fill=\"#ffa500\" fill-rule=\"evenodd\" fill-opacity=\"1\" stroke=\"#000000\" stroke-opacity=\"1\" stroke-width=\"3.2\"/>\n",
       "<circle clip-path=\"url(#clip332)\" cx=\"896.162\" cy=\"1094.13\" r=\"14.4\" fill=\"#ffa500\" fill-rule=\"evenodd\" fill-opacity=\"1\" stroke=\"#000000\" stroke-opacity=\"1\" stroke-width=\"3.2\"/>\n",
       "<circle clip-path=\"url(#clip332)\" cx=\"803.744\" cy=\"773.228\" r=\"14.4\" fill=\"#ffa500\" fill-rule=\"evenodd\" fill-opacity=\"1\" stroke=\"#000000\" stroke-opacity=\"1\" stroke-width=\"3.2\"/>\n",
       "<circle clip-path=\"url(#clip332)\" cx=\"790.62\" cy=\"810.879\" r=\"14.4\" fill=\"#ffa500\" fill-rule=\"evenodd\" fill-opacity=\"1\" stroke=\"#000000\" stroke-opacity=\"1\" stroke-width=\"3.2\"/>\n",
       "<circle clip-path=\"url(#clip332)\" cx=\"344.569\" cy=\"258.686\" r=\"14.4\" fill=\"#ffa500\" fill-rule=\"evenodd\" fill-opacity=\"1\" stroke=\"#000000\" stroke-opacity=\"1\" stroke-width=\"3.2\"/>\n",
       "<circle clip-path=\"url(#clip332)\" cx=\"255.035\" cy=\"705.983\" r=\"14.4\" fill=\"#ffa500\" fill-rule=\"evenodd\" fill-opacity=\"1\" stroke=\"#000000\" stroke-opacity=\"1\" stroke-width=\"3.2\"/>\n",
       "<circle clip-path=\"url(#clip332)\" cx=\"978.891\" cy=\"1202.01\" r=\"14.4\" fill=\"#ffa500\" fill-rule=\"evenodd\" fill-opacity=\"1\" stroke=\"#000000\" stroke-opacity=\"1\" stroke-width=\"3.2\"/>\n",
       "<circle clip-path=\"url(#clip332)\" cx=\"651.896\" cy=\"647.114\" r=\"14.4\" fill=\"#ffa500\" fill-rule=\"evenodd\" fill-opacity=\"1\" stroke=\"#000000\" stroke-opacity=\"1\" stroke-width=\"3.2\"/>\n",
       "<circle clip-path=\"url(#clip332)\" cx=\"1008.42\" cy=\"1126.49\" r=\"14.4\" fill=\"#ffa500\" fill-rule=\"evenodd\" fill-opacity=\"1\" stroke=\"#000000\" stroke-opacity=\"1\" stroke-width=\"3.2\"/>\n",
       "<circle clip-path=\"url(#clip332)\" cx=\"340.836\" cy=\"606.945\" r=\"14.4\" fill=\"#ffa500\" fill-rule=\"evenodd\" fill-opacity=\"1\" stroke=\"#000000\" stroke-opacity=\"1\" stroke-width=\"3.2\"/>\n",
       "<circle clip-path=\"url(#clip332)\" cx=\"953.366\" cy=\"930.856\" r=\"14.4\" fill=\"#ffa500\" fill-rule=\"evenodd\" fill-opacity=\"1\" stroke=\"#000000\" stroke-opacity=\"1\" stroke-width=\"3.2\"/>\n",
       "<circle clip-path=\"url(#clip332)\" cx=\"696.11\" cy=\"668.156\" r=\"14.4\" fill=\"#ffa500\" fill-rule=\"evenodd\" fill-opacity=\"1\" stroke=\"#000000\" stroke-opacity=\"1\" stroke-width=\"3.2\"/>\n",
       "<circle clip-path=\"url(#clip332)\" cx=\"597.851\" cy=\"558.131\" r=\"14.4\" fill=\"#ffa500\" fill-rule=\"evenodd\" fill-opacity=\"1\" stroke=\"#000000\" stroke-opacity=\"1\" stroke-width=\"3.2\"/>\n",
       "<circle clip-path=\"url(#clip332)\" cx=\"991.16\" cy=\"918.829\" r=\"14.4\" fill=\"#ffa500\" fill-rule=\"evenodd\" fill-opacity=\"1\" stroke=\"#000000\" stroke-opacity=\"1\" stroke-width=\"3.2\"/>\n",
       "<circle clip-path=\"url(#clip332)\" cx=\"981.694\" cy=\"888.128\" r=\"14.4\" fill=\"#ffa500\" fill-rule=\"evenodd\" fill-opacity=\"1\" stroke=\"#000000\" stroke-opacity=\"1\" stroke-width=\"3.2\"/>\n",
       "<circle clip-path=\"url(#clip332)\" cx=\"740.159\" cy=\"933.451\" r=\"14.4\" fill=\"#ffa500\" fill-rule=\"evenodd\" fill-opacity=\"1\" stroke=\"#000000\" stroke-opacity=\"1\" stroke-width=\"3.2\"/>\n",
       "<circle clip-path=\"url(#clip332)\" cx=\"663.448\" cy=\"605.013\" r=\"14.4\" fill=\"#ffa500\" fill-rule=\"evenodd\" fill-opacity=\"1\" stroke=\"#000000\" stroke-opacity=\"1\" stroke-width=\"3.2\"/>\n",
       "<circle clip-path=\"url(#clip332)\" cx=\"531.82\" cy=\"648.539\" r=\"14.4\" fill=\"#ffa500\" fill-rule=\"evenodd\" fill-opacity=\"1\" stroke=\"#000000\" stroke-opacity=\"1\" stroke-width=\"3.2\"/>\n",
       "<circle clip-path=\"url(#clip332)\" cx=\"418.956\" cy=\"162.047\" r=\"14.4\" fill=\"#ffa500\" fill-rule=\"evenodd\" fill-opacity=\"1\" stroke=\"#000000\" stroke-opacity=\"1\" stroke-width=\"3.2\"/>\n",
       "<circle clip-path=\"url(#clip332)\" cx=\"729.764\" cy=\"937.128\" r=\"14.4\" fill=\"#ffa500\" fill-rule=\"evenodd\" fill-opacity=\"1\" stroke=\"#000000\" stroke-opacity=\"1\" stroke-width=\"3.2\"/>\n",
       "<circle clip-path=\"url(#clip332)\" cx=\"937.294\" cy=\"901.154\" r=\"14.4\" fill=\"#ffa500\" fill-rule=\"evenodd\" fill-opacity=\"1\" stroke=\"#000000\" stroke-opacity=\"1\" stroke-width=\"3.2\"/>\n",
       "<circle clip-path=\"url(#clip332)\" cx=\"839.478\" cy=\"1074.77\" r=\"14.4\" fill=\"#ffa500\" fill-rule=\"evenodd\" fill-opacity=\"1\" stroke=\"#000000\" stroke-opacity=\"1\" stroke-width=\"3.2\"/>\n",
       "<circle clip-path=\"url(#clip332)\" cx=\"463.688\" cy=\"496.188\" r=\"14.4\" fill=\"#ffa500\" fill-rule=\"evenodd\" fill-opacity=\"1\" stroke=\"#000000\" stroke-opacity=\"1\" stroke-width=\"3.2\"/>\n",
       "<circle clip-path=\"url(#clip332)\" cx=\"734.172\" cy=\"763.091\" r=\"14.4\" fill=\"#ffa500\" fill-rule=\"evenodd\" fill-opacity=\"1\" stroke=\"#000000\" stroke-opacity=\"1\" stroke-width=\"3.2\"/>\n",
       "<circle clip-path=\"url(#clip332)\" cx=\"803.558\" cy=\"807.296\" r=\"14.4\" fill=\"#ffa500\" fill-rule=\"evenodd\" fill-opacity=\"1\" stroke=\"#000000\" stroke-opacity=\"1\" stroke-width=\"3.2\"/>\n",
       "<circle clip-path=\"url(#clip332)\" cx=\"1017.03\" cy=\"911.662\" r=\"14.4\" fill=\"#ffa500\" fill-rule=\"evenodd\" fill-opacity=\"1\" stroke=\"#000000\" stroke-opacity=\"1\" stroke-width=\"3.2\"/>\n",
       "<circle clip-path=\"url(#clip332)\" cx=\"744.801\" cy=\"649.991\" r=\"14.4\" fill=\"#ffa500\" fill-rule=\"evenodd\" fill-opacity=\"1\" stroke=\"#000000\" stroke-opacity=\"1\" stroke-width=\"3.2\"/>\n",
       "<circle clip-path=\"url(#clip332)\" cx=\"684.874\" cy=\"741.863\" r=\"14.4\" fill=\"#ffa500\" fill-rule=\"evenodd\" fill-opacity=\"1\" stroke=\"#000000\" stroke-opacity=\"1\" stroke-width=\"3.2\"/>\n",
       "<circle clip-path=\"url(#clip332)\" cx=\"798.576\" cy=\"632.012\" r=\"14.4\" fill=\"#ffa500\" fill-rule=\"evenodd\" fill-opacity=\"1\" stroke=\"#000000\" stroke-opacity=\"1\" stroke-width=\"3.2\"/>\n",
       "<circle clip-path=\"url(#clip332)\" cx=\"945.687\" cy=\"1111.31\" r=\"14.4\" fill=\"#ffa500\" fill-rule=\"evenodd\" fill-opacity=\"1\" stroke=\"#000000\" stroke-opacity=\"1\" stroke-width=\"3.2\"/>\n",
       "<circle clip-path=\"url(#clip332)\" cx=\"612.67\" cy=\"695.979\" r=\"14.4\" fill=\"#ffa500\" fill-rule=\"evenodd\" fill-opacity=\"1\" stroke=\"#000000\" stroke-opacity=\"1\" stroke-width=\"3.2\"/>\n",
       "<circle clip-path=\"url(#clip332)\" cx=\"654.528\" cy=\"682.861\" r=\"14.4\" fill=\"#ffa500\" fill-rule=\"evenodd\" fill-opacity=\"1\" stroke=\"#000000\" stroke-opacity=\"1\" stroke-width=\"3.2\"/>\n",
       "<circle clip-path=\"url(#clip332)\" cx=\"792.239\" cy=\"739.973\" r=\"14.4\" fill=\"#ffa500\" fill-rule=\"evenodd\" fill-opacity=\"1\" stroke=\"#000000\" stroke-opacity=\"1\" stroke-width=\"3.2\"/>\n",
       "<circle clip-path=\"url(#clip332)\" cx=\"913.211\" cy=\"1014.1\" r=\"14.4\" fill=\"#ffa500\" fill-rule=\"evenodd\" fill-opacity=\"1\" stroke=\"#000000\" stroke-opacity=\"1\" stroke-width=\"3.2\"/>\n",
       "<circle clip-path=\"url(#clip332)\" cx=\"844.396\" cy=\"792.9\" r=\"14.4\" fill=\"#ffa500\" fill-rule=\"evenodd\" fill-opacity=\"1\" stroke=\"#000000\" stroke-opacity=\"1\" stroke-width=\"3.2\"/>\n",
       "<circle clip-path=\"url(#clip332)\" cx=\"804.764\" cy=\"774.506\" r=\"14.4\" fill=\"#ffa500\" fill-rule=\"evenodd\" fill-opacity=\"1\" stroke=\"#000000\" stroke-opacity=\"1\" stroke-width=\"3.2\"/>\n",
       "<circle clip-path=\"url(#clip332)\" cx=\"952.954\" cy=\"968.971\" r=\"14.4\" fill=\"#ffa500\" fill-rule=\"evenodd\" fill-opacity=\"1\" stroke=\"#000000\" stroke-opacity=\"1\" stroke-width=\"3.2\"/>\n",
       "</svg>\n"
      ]
     },
     "execution_count": 58,
     "metadata": {},
     "output_type": "execute_result"
    }
   ],
   "source": [
    "p = plot( transformed_data[1,:], transformed_data[2,:], seriestype=:scatter,\n",
    "         title=\"reconstructed data\", legend=false,\n",
    "        markercolor=[fill(:red, 50); fill(:blue, 50); fill(:orange,50)],)\n",
    "p"
   ]
  },
  {
   "cell_type": "code",
   "execution_count": 59,
   "id": "cb670707-262e-4e54-8869-52c5e8f5ad6a",
   "metadata": {},
   "outputs": [
    {
     "data": {
      "image/svg+xml": [
       "<?xml version=\"1.0\" encoding=\"utf-8\"?>\n",
       "<svg xmlns=\"http://www.w3.org/2000/svg\" xmlns:xlink=\"http://www.w3.org/1999/xlink\" width=\"600\" height=\"400\" viewBox=\"0 0 2400 1600\">\n",
       "<defs>\n",
       "  <clipPath id=\"clip370\">\n",
       "    <rect x=\"0\" y=\"0\" width=\"2400\" height=\"1600\"/>\n",
       "  </clipPath>\n",
       "</defs>\n",
       "<path clip-path=\"url(#clip370)\" d=\"M0 1600 L2400 1600 L2400 0 L0 0  Z\" fill=\"#ffffff\" fill-rule=\"evenodd\" fill-opacity=\"1\"/>\n",
       "<defs>\n",
       "  <clipPath id=\"clip371\">\n",
       "    <rect x=\"480\" y=\"0\" width=\"1681\" height=\"1600\"/>\n",
       "  </clipPath>\n",
       "</defs>\n",
       "<path clip-path=\"url(#clip370)\" d=\"M140.696 1486.45 L2352.76 1486.45 L2352.76 123.472 L140.696 123.472  Z\" fill=\"#ffffff\" fill-rule=\"evenodd\" fill-opacity=\"1\"/>\n",
       "<defs>\n",
       "  <clipPath id=\"clip372\">\n",
       "    <rect x=\"140\" y=\"123\" width=\"2213\" height=\"1364\"/>\n",
       "  </clipPath>\n",
       "</defs>\n",
       "<polyline clip-path=\"url(#clip372)\" style=\"stroke:#000000; stroke-linecap:round; stroke-linejoin:round; stroke-width:2; stroke-opacity:0.1; fill:none\" points=\"627.424,1486.45 627.424,123.472 \"/>\n",
       "<polyline clip-path=\"url(#clip372)\" style=\"stroke:#000000; stroke-linecap:round; stroke-linejoin:round; stroke-width:2; stroke-opacity:0.1; fill:none\" points=\"1189.92,1486.45 1189.92,123.472 \"/>\n",
       "<polyline clip-path=\"url(#clip372)\" style=\"stroke:#000000; stroke-linecap:round; stroke-linejoin:round; stroke-width:2; stroke-opacity:0.1; fill:none\" points=\"1752.41,1486.45 1752.41,123.472 \"/>\n",
       "<polyline clip-path=\"url(#clip372)\" style=\"stroke:#000000; stroke-linecap:round; stroke-linejoin:round; stroke-width:2; stroke-opacity:0.1; fill:none\" points=\"2314.9,1486.45 2314.9,123.472 \"/>\n",
       "<polyline clip-path=\"url(#clip370)\" style=\"stroke:#000000; stroke-linecap:round; stroke-linejoin:round; stroke-width:4; stroke-opacity:1; fill:none\" points=\"140.696,1486.45 2352.76,1486.45 \"/>\n",
       "<polyline clip-path=\"url(#clip370)\" style=\"stroke:#000000; stroke-linecap:round; stroke-linejoin:round; stroke-width:4; stroke-opacity:1; fill:none\" points=\"627.424,1486.45 627.424,1467.55 \"/>\n",
       "<polyline clip-path=\"url(#clip370)\" style=\"stroke:#000000; stroke-linecap:round; stroke-linejoin:round; stroke-width:4; stroke-opacity:1; fill:none\" points=\"1189.92,1486.45 1189.92,1467.55 \"/>\n",
       "<polyline clip-path=\"url(#clip370)\" style=\"stroke:#000000; stroke-linecap:round; stroke-linejoin:round; stroke-width:4; stroke-opacity:1; fill:none\" points=\"1752.41,1486.45 1752.41,1467.55 \"/>\n",
       "<polyline clip-path=\"url(#clip370)\" style=\"stroke:#000000; stroke-linecap:round; stroke-linejoin:round; stroke-width:4; stroke-opacity:1; fill:none\" points=\"2314.9,1486.45 2314.9,1467.55 \"/>\n",
       "<path clip-path=\"url(#clip370)\" d=\"M596.614 1532.02 L626.29 1532.02 L626.29 1535.95 L596.614 1535.95 L596.614 1532.02 Z\" fill=\"#000000\" fill-rule=\"nonzero\" fill-opacity=\"1\" /><path clip-path=\"url(#clip370)\" d=\"M646.382 1532.44 Q643.049 1532.44 641.127 1534.22 Q639.229 1536 639.229 1539.13 Q639.229 1542.25 641.127 1544.03 Q643.049 1545.82 646.382 1545.82 Q649.715 1545.82 651.637 1544.03 Q653.558 1542.23 653.558 1539.13 Q653.558 1536 651.637 1534.22 Q649.738 1532.44 646.382 1532.44 M641.706 1530.45 Q638.697 1529.7 637.007 1527.64 Q635.34 1525.58 635.34 1522.62 Q635.34 1518.48 638.28 1516.07 Q641.243 1513.66 646.382 1513.66 Q651.544 1513.66 654.484 1516.07 Q657.424 1518.48 657.424 1522.62 Q657.424 1525.58 655.734 1527.64 Q654.067 1529.7 651.081 1530.45 Q654.461 1531.23 656.336 1533.52 Q658.234 1535.82 658.234 1539.13 Q658.234 1544.15 655.155 1546.83 Q652.1 1549.52 646.382 1549.52 Q640.664 1549.52 637.586 1546.83 Q634.53 1544.15 634.53 1539.13 Q634.53 1535.82 636.428 1533.52 Q638.327 1531.23 641.706 1530.45 M639.993 1523.06 Q639.993 1525.75 641.66 1527.25 Q643.35 1528.76 646.382 1528.76 Q649.391 1528.76 651.081 1527.25 Q652.794 1525.75 652.794 1523.06 Q652.794 1520.38 651.081 1518.87 Q649.391 1517.37 646.382 1517.37 Q643.35 1517.37 641.66 1518.87 Q639.993 1520.38 639.993 1523.06 Z\" fill=\"#000000\" fill-rule=\"nonzero\" fill-opacity=\"1\" /><path clip-path=\"url(#clip370)\" d=\"M1158.98 1532.02 L1188.66 1532.02 L1188.66 1535.95 L1158.98 1535.95 L1158.98 1532.02 Z\" fill=\"#000000\" fill-rule=\"nonzero\" fill-opacity=\"1\" /><path clip-path=\"url(#clip370)\" d=\"M1209.33 1529.7 Q1206.18 1529.7 1204.33 1531.86 Q1202.5 1534.01 1202.5 1537.76 Q1202.5 1541.49 1204.33 1543.66 Q1206.18 1545.82 1209.33 1545.82 Q1212.47 1545.82 1214.3 1543.66 Q1216.16 1541.49 1216.16 1537.76 Q1216.16 1534.01 1214.3 1531.86 Q1212.47 1529.7 1209.33 1529.7 M1218.61 1515.05 L1218.61 1519.31 Q1216.85 1518.48 1215.04 1518.04 Q1213.26 1517.6 1211.5 1517.6 Q1206.87 1517.6 1204.42 1520.72 Q1201.99 1523.85 1201.64 1530.17 Q1203.01 1528.15 1205.07 1527.09 Q1207.13 1526 1209.6 1526 Q1214.81 1526 1217.82 1529.17 Q1220.85 1532.32 1220.85 1537.76 Q1220.85 1543.08 1217.71 1546.3 Q1214.56 1549.52 1209.33 1549.52 Q1203.33 1549.52 1200.16 1544.94 Q1196.99 1540.33 1196.99 1531.6 Q1196.99 1523.41 1200.88 1518.55 Q1204.77 1513.66 1211.32 1513.66 Q1213.08 1513.66 1214.86 1514.01 Q1216.66 1514.36 1218.61 1515.05 Z\" fill=\"#000000\" fill-rule=\"nonzero\" fill-opacity=\"1\" /><path clip-path=\"url(#clip370)\" d=\"M1721.31 1532.02 L1750.99 1532.02 L1750.99 1535.95 L1721.31 1535.95 L1721.31 1532.02 Z\" fill=\"#000000\" fill-rule=\"nonzero\" fill-opacity=\"1\" /><path clip-path=\"url(#clip370)\" d=\"M1773.93 1518.36 L1762.12 1536.81 L1773.93 1536.81 L1773.93 1518.36 M1772.7 1514.29 L1778.58 1514.29 L1778.58 1536.81 L1783.51 1536.81 L1783.51 1540.7 L1778.58 1540.7 L1778.58 1548.85 L1773.93 1548.85 L1773.93 1540.7 L1758.32 1540.7 L1758.32 1536.19 L1772.7 1514.29 Z\" fill=\"#000000\" fill-rule=\"nonzero\" fill-opacity=\"1\" /><path clip-path=\"url(#clip370)\" d=\"M2284.85 1532.02 L2314.52 1532.02 L2314.52 1535.95 L2284.85 1535.95 L2284.85 1532.02 Z\" fill=\"#000000\" fill-rule=\"nonzero\" fill-opacity=\"1\" /><path clip-path=\"url(#clip370)\" d=\"M2328.64 1544.91 L2344.96 1544.91 L2344.96 1548.85 L2323.02 1548.85 L2323.02 1544.91 Q2325.68 1542.16 2330.26 1537.53 Q2334.87 1532.88 2336.05 1531.53 Q2338.29 1529.01 2339.17 1527.27 Q2340.08 1525.51 2340.08 1523.82 Q2340.08 1521.07 2338.13 1519.33 Q2336.21 1517.6 2333.11 1517.6 Q2330.91 1517.6 2328.46 1518.36 Q2326.03 1519.13 2323.25 1520.68 L2323.25 1515.95 Q2326.07 1514.82 2328.53 1514.24 Q2330.98 1513.66 2333.02 1513.66 Q2338.39 1513.66 2341.58 1516.35 Q2344.78 1519.03 2344.78 1523.52 Q2344.78 1525.65 2343.97 1527.57 Q2343.18 1529.47 2341.07 1532.07 Q2340.49 1532.74 2337.39 1535.95 Q2334.29 1539.15 2328.64 1544.91 Z\" fill=\"#000000\" fill-rule=\"nonzero\" fill-opacity=\"1\" /><polyline clip-path=\"url(#clip372)\" style=\"stroke:#000000; stroke-linecap:round; stroke-linejoin:round; stroke-width:2; stroke-opacity:0.1; fill:none\" points=\"140.696,1447.87 2352.76,1447.87 \"/>\n",
       "<polyline clip-path=\"url(#clip372)\" style=\"stroke:#000000; stroke-linecap:round; stroke-linejoin:round; stroke-width:2; stroke-opacity:0.1; fill:none\" points=\"140.696,1046.05 2352.76,1046.05 \"/>\n",
       "<polyline clip-path=\"url(#clip372)\" style=\"stroke:#000000; stroke-linecap:round; stroke-linejoin:round; stroke-width:2; stroke-opacity:0.1; fill:none\" points=\"140.696,644.232 2352.76,644.232 \"/>\n",
       "<polyline clip-path=\"url(#clip372)\" style=\"stroke:#000000; stroke-linecap:round; stroke-linejoin:round; stroke-width:2; stroke-opacity:0.1; fill:none\" points=\"140.696,242.411 2352.76,242.411 \"/>\n",
       "<polyline clip-path=\"url(#clip370)\" style=\"stroke:#000000; stroke-linecap:round; stroke-linejoin:round; stroke-width:4; stroke-opacity:1; fill:none\" points=\"140.696,1486.45 140.696,123.472 \"/>\n",
       "<polyline clip-path=\"url(#clip370)\" style=\"stroke:#000000; stroke-linecap:round; stroke-linejoin:round; stroke-width:4; stroke-opacity:1; fill:none\" points=\"140.696,1447.87 159.593,1447.87 \"/>\n",
       "<polyline clip-path=\"url(#clip370)\" style=\"stroke:#000000; stroke-linecap:round; stroke-linejoin:round; stroke-width:4; stroke-opacity:1; fill:none\" points=\"140.696,1046.05 159.593,1046.05 \"/>\n",
       "<polyline clip-path=\"url(#clip370)\" style=\"stroke:#000000; stroke-linecap:round; stroke-linejoin:round; stroke-width:4; stroke-opacity:1; fill:none\" points=\"140.696,644.232 159.593,644.232 \"/>\n",
       "<polyline clip-path=\"url(#clip370)\" style=\"stroke:#000000; stroke-linecap:round; stroke-linejoin:round; stroke-width:4; stroke-opacity:1; fill:none\" points=\"140.696,242.411 159.593,242.411 \"/>\n",
       "<path clip-path=\"url(#clip370)\" d=\"M92.7512 1433.67 Q89.1401 1433.67 87.3114 1437.24 Q85.5058 1440.78 85.5058 1447.91 Q85.5058 1455.01 87.3114 1458.58 Q89.1401 1462.12 92.7512 1462.12 Q96.3854 1462.12 98.1909 1458.58 Q100.02 1455.01 100.02 1447.91 Q100.02 1440.78 98.1909 1437.24 Q96.3854 1433.67 92.7512 1433.67 M92.7512 1429.97 Q98.5613 1429.97 101.617 1434.57 Q104.696 1439.16 104.696 1447.91 Q104.696 1456.63 101.617 1461.24 Q98.5613 1465.82 92.7512 1465.82 Q86.941 1465.82 83.8623 1461.24 Q80.8068 1456.63 80.8068 1447.91 Q80.8068 1439.16 83.8623 1434.57 Q86.941 1429.97 92.7512 1429.97 Z\" fill=\"#000000\" fill-rule=\"nonzero\" fill-opacity=\"1\" /><path clip-path=\"url(#clip370)\" d=\"M53.3995 1059.4 L61.0384 1059.4 L61.0384 1033.03 L52.7282 1034.7 L52.7282 1030.44 L60.9921 1028.77 L65.668 1028.77 L65.668 1059.4 L73.3068 1059.4 L73.3068 1063.33 L53.3995 1063.33 L53.3995 1059.4 Z\" fill=\"#000000\" fill-rule=\"nonzero\" fill-opacity=\"1\" /><path clip-path=\"url(#clip370)\" d=\"M92.7512 1031.85 Q89.1401 1031.85 87.3114 1035.42 Q85.5058 1038.96 85.5058 1046.09 Q85.5058 1053.19 87.3114 1056.76 Q89.1401 1060.3 92.7512 1060.3 Q96.3854 1060.3 98.1909 1056.76 Q100.02 1053.19 100.02 1046.09 Q100.02 1038.96 98.1909 1035.42 Q96.3854 1031.85 92.7512 1031.85 M92.7512 1028.15 Q98.5613 1028.15 101.617 1032.75 Q104.696 1037.34 104.696 1046.09 Q104.696 1054.81 101.617 1059.42 Q98.5613 1064 92.7512 1064 Q86.941 1064 83.8623 1059.42 Q80.8068 1054.81 80.8068 1046.09 Q80.8068 1037.34 83.8623 1032.75 Q86.941 1028.15 92.7512 1028.15 Z\" fill=\"#000000\" fill-rule=\"nonzero\" fill-opacity=\"1\" /><path clip-path=\"url(#clip370)\" d=\"M56.6171 657.577 L72.9365 657.577 L72.9365 661.512 L50.9921 661.512 L50.9921 657.577 Q53.6541 654.822 58.2375 650.192 Q62.8439 645.54 64.0245 644.197 Q66.2698 641.674 67.1494 639.938 Q68.0522 638.179 68.0522 636.489 Q68.0522 633.734 66.1078 631.998 Q64.1865 630.262 61.0847 630.262 Q58.8856 630.262 56.4319 631.026 Q54.0014 631.79 51.2236 633.341 L51.2236 628.618 Q54.0477 627.484 56.5014 626.905 Q58.955 626.327 60.9921 626.327 Q66.3624 626.327 69.5568 629.012 Q72.7513 631.697 72.7513 636.188 Q72.7513 638.317 71.9411 640.239 Q71.1541 642.137 69.0476 644.729 Q68.4689 645.401 65.367 648.618 Q62.2652 651.813 56.6171 657.577 Z\" fill=\"#000000\" fill-rule=\"nonzero\" fill-opacity=\"1\" /><path clip-path=\"url(#clip370)\" d=\"M92.7512 630.03 Q89.1401 630.03 87.3114 633.595 Q85.5058 637.137 85.5058 644.266 Q85.5058 651.373 87.3114 654.938 Q89.1401 658.479 92.7512 658.479 Q96.3854 658.479 98.1909 654.938 Q100.02 651.373 100.02 644.266 Q100.02 637.137 98.1909 633.595 Q96.3854 630.03 92.7512 630.03 M92.7512 626.327 Q98.5613 626.327 101.617 630.933 Q104.696 635.516 104.696 644.266 Q104.696 652.993 101.617 657.6 Q98.5613 662.183 92.7512 662.183 Q86.941 662.183 83.8623 657.6 Q80.8068 652.993 80.8068 644.266 Q80.8068 635.516 83.8623 630.933 Q86.941 626.327 92.7512 626.327 Z\" fill=\"#000000\" fill-rule=\"nonzero\" fill-opacity=\"1\" /><path clip-path=\"url(#clip370)\" d=\"M66.7559 241.057 Q70.1124 241.774 71.9874 244.043 Q73.8855 246.311 73.8855 249.645 Q73.8855 254.761 70.367 257.561 Q66.8485 260.362 60.3671 260.362 Q58.1912 260.362 55.8764 259.923 Q53.5847 259.506 51.131 258.649 L51.131 254.136 Q53.0754 255.27 55.3903 255.848 Q57.7051 256.427 60.2282 256.427 Q64.6263 256.427 66.918 254.691 Q69.2328 252.955 69.2328 249.645 Q69.2328 246.589 67.08 244.876 Q64.9504 243.14 61.131 243.14 L57.1032 243.14 L57.1032 239.298 L61.3161 239.298 Q64.7652 239.298 66.5939 237.932 Q68.4226 236.543 68.4226 233.95 Q68.4226 231.288 66.5245 229.876 Q64.6495 228.441 61.131 228.441 Q59.2097 228.441 57.0106 228.858 Q54.8115 229.275 52.1727 230.154 L52.1727 225.988 Q54.8347 225.247 57.1495 224.876 Q59.4875 224.506 61.5476 224.506 Q66.8717 224.506 69.9735 226.937 Q73.0753 229.344 73.0753 233.464 Q73.0753 236.335 71.4318 238.325 Q69.7883 240.293 66.7559 241.057 Z\" fill=\"#000000\" fill-rule=\"nonzero\" fill-opacity=\"1\" /><path clip-path=\"url(#clip370)\" d=\"M92.7512 228.21 Q89.1401 228.21 87.3114 231.775 Q85.5058 235.316 85.5058 242.446 Q85.5058 249.552 87.3114 253.117 Q89.1401 256.659 92.7512 256.659 Q96.3854 256.659 98.1909 253.117 Q100.02 249.552 100.02 242.446 Q100.02 235.316 98.1909 231.775 Q96.3854 228.21 92.7512 228.21 M92.7512 224.506 Q98.5613 224.506 101.617 229.113 Q104.696 233.696 104.696 242.446 Q104.696 251.173 101.617 255.779 Q98.5613 260.362 92.7512 260.362 Q86.941 260.362 83.8623 255.779 Q80.8068 251.173 80.8068 242.446 Q80.8068 233.696 83.8623 229.113 Q86.941 224.506 92.7512 224.506 Z\" fill=\"#000000\" fill-rule=\"nonzero\" fill-opacity=\"1\" /><path clip-path=\"url(#clip370)\" d=\"M813.097 34.1734 Q811.841 33.4443 810.342 33.1202 Q808.884 32.7556 807.101 32.7556 Q800.782 32.7556 797.379 36.8875 Q794.017 40.9789 794.017 48.6757 L794.017 72.576 L786.523 72.576 L786.523 27.2059 L794.017 27.2059 L794.017 34.2544 Q796.366 30.1225 800.134 28.1376 Q803.901 26.1121 809.289 26.1121 Q810.059 26.1121 810.99 26.2337 Q811.922 26.3147 813.056 26.5172 L813.097 34.1734 Z\" fill=\"#000000\" fill-rule=\"nonzero\" fill-opacity=\"1\" /><path clip-path=\"url(#clip370)\" d=\"M857.9 48.0275 L857.9 51.6733 L823.629 51.6733 Q824.115 59.3701 828.247 63.421 Q832.419 67.4314 839.833 67.4314 Q844.127 67.4314 848.137 66.3781 Q852.188 65.3249 856.158 63.2184 L856.158 70.267 Q852.147 71.9684 847.934 72.8596 Q843.722 73.7508 839.387 73.7508 Q828.531 73.7508 822.171 67.4314 Q815.851 61.1119 815.851 50.3365 Q815.851 39.1965 821.847 32.6746 Q827.882 26.1121 838.091 26.1121 Q847.246 26.1121 852.552 32.0264 Q857.9 37.9003 857.9 48.0275 M850.446 45.84 Q850.365 39.7232 847.003 36.0774 Q843.681 32.4315 838.172 32.4315 Q831.933 32.4315 828.166 35.9558 Q824.439 39.4801 823.872 45.8805 L850.446 45.84 Z\" fill=\"#000000\" fill-rule=\"nonzero\" fill-opacity=\"1\" /><path clip-path=\"url(#clip370)\" d=\"M902.784 28.9478 L902.784 35.9153 Q899.624 34.1734 896.424 33.3227 Q893.264 32.4315 890.023 32.4315 Q882.772 32.4315 878.762 37.0496 Q874.751 41.6271 874.751 49.9314 Q874.751 58.2358 878.762 62.8538 Q882.772 67.4314 890.023 67.4314 Q893.264 67.4314 896.424 66.5807 Q899.624 65.6895 902.784 63.9476 L902.784 70.8341 Q899.665 72.2924 896.302 73.0216 Q892.981 73.7508 889.213 73.7508 Q878.964 73.7508 872.929 67.3098 Q866.893 60.8689 866.893 49.9314 Q866.893 38.832 872.969 32.472 Q879.086 26.1121 889.699 26.1121 Q893.143 26.1121 896.424 26.8413 Q899.705 27.5299 902.784 28.9478 Z\" fill=\"#000000\" fill-rule=\"nonzero\" fill-opacity=\"1\" /><path clip-path=\"url(#clip370)\" d=\"M933.328 32.4315 Q927.332 32.4315 923.848 37.1306 Q920.365 41.7891 920.365 49.9314 Q920.365 58.0738 923.808 62.7728 Q927.292 67.4314 933.328 67.4314 Q939.282 67.4314 942.766 62.7323 Q946.25 58.0333 946.25 49.9314 Q946.25 41.8701 942.766 37.1711 Q939.282 32.4315 933.328 32.4315 M933.328 26.1121 Q943.05 26.1121 948.599 32.4315 Q954.149 38.7509 954.149 49.9314 Q954.149 61.0714 948.599 67.4314 Q943.05 73.7508 933.328 73.7508 Q923.565 73.7508 918.015 67.4314 Q912.506 61.0714 912.506 49.9314 Q912.506 38.7509 918.015 32.4315 Q923.565 26.1121 933.328 26.1121 Z\" fill=\"#000000\" fill-rule=\"nonzero\" fill-opacity=\"1\" /><path clip-path=\"url(#clip370)\" d=\"M1004.22 45.1919 L1004.22 72.576 L996.765 72.576 L996.765 45.4349 Q996.765 38.994 994.253 35.7938 Q991.742 32.5936 986.718 32.5936 Q980.683 32.5936 977.199 36.4419 Q973.715 40.2903 973.715 46.9338 L973.715 72.576 L966.221 72.576 L966.221 27.2059 L973.715 27.2059 L973.715 34.2544 Q976.389 30.163 979.994 28.1376 Q983.64 26.1121 988.379 26.1121 Q996.198 26.1121 1000.21 30.9732 Q1004.22 35.7938 1004.22 45.1919 Z\" fill=\"#000000\" fill-rule=\"nonzero\" fill-opacity=\"1\" /><path clip-path=\"url(#clip370)\" d=\"M1048.01 28.5427 L1048.01 35.5912 Q1044.85 33.9709 1041.45 33.1607 Q1038.04 32.3505 1034.4 32.3505 Q1028.85 32.3505 1026.05 34.0519 Q1023.3 35.7533 1023.3 39.156 Q1023.3 41.7486 1025.28 43.2475 Q1027.27 44.7058 1033.26 46.0426 L1035.82 46.6097 Q1043.76 48.3111 1047.08 51.4303 Q1050.44 54.509 1050.44 60.0587 Q1050.44 66.3781 1045.42 70.0644 Q1040.43 73.7508 1031.68 73.7508 Q1028.04 73.7508 1024.07 73.0216 Q1020.14 72.3329 1015.76 70.9151 L1015.76 63.2184 Q1019.9 65.3654 1023.91 66.4591 Q1027.92 67.5124 1031.85 67.5124 Q1037.11 67.5124 1039.95 65.73 Q1042.78 63.9071 1042.78 60.6258 Q1042.78 57.5877 1040.72 55.9673 Q1038.69 54.3469 1031.76 52.8481 L1029.17 52.2405 Q1022.24 50.7821 1019.17 47.7845 Q1016.09 44.7463 1016.09 39.4801 Q1016.09 33.0797 1020.62 29.5959 Q1025.16 26.1121 1033.51 26.1121 Q1037.64 26.1121 1041.28 26.7198 Q1044.93 27.3274 1048.01 28.5427 Z\" fill=\"#000000\" fill-rule=\"nonzero\" fill-opacity=\"1\" /><path clip-path=\"url(#clip370)\" d=\"M1069.68 14.324 L1069.68 27.2059 L1085.03 27.2059 L1085.03 32.9987 L1069.68 32.9987 L1069.68 57.6282 Q1069.68 63.1779 1071.18 64.7578 Q1072.72 66.3376 1077.38 66.3376 L1085.03 66.3376 L1085.03 72.576 L1077.38 72.576 Q1068.75 72.576 1065.47 69.3758 Q1062.19 66.1351 1062.19 57.6282 L1062.19 32.9987 L1056.72 32.9987 L1056.72 27.2059 L1062.19 27.2059 L1062.19 14.324 L1069.68 14.324 Z\" fill=\"#000000\" fill-rule=\"nonzero\" fill-opacity=\"1\" /><path clip-path=\"url(#clip370)\" d=\"M1121.13 34.1734 Q1119.87 33.4443 1118.37 33.1202 Q1116.91 32.7556 1115.13 32.7556 Q1108.81 32.7556 1105.41 36.8875 Q1102.05 40.9789 1102.05 48.6757 L1102.05 72.576 L1094.55 72.576 L1094.55 27.2059 L1102.05 27.2059 L1102.05 34.2544 Q1104.4 30.1225 1108.16 28.1376 Q1111.93 26.1121 1117.32 26.1121 Q1118.09 26.1121 1119.02 26.2337 Q1119.95 26.3147 1121.09 26.5172 L1121.13 34.1734 Z\" fill=\"#000000\" fill-rule=\"nonzero\" fill-opacity=\"1\" /><path clip-path=\"url(#clip370)\" d=\"M1128.18 54.671 L1128.18 27.2059 L1135.63 27.2059 L1135.63 54.3874 Q1135.63 60.8284 1138.14 64.0691 Q1140.65 67.2693 1145.68 67.2693 Q1151.71 67.2693 1155.2 63.421 Q1158.72 59.5726 1158.72 52.9291 L1158.72 27.2059 L1166.17 27.2059 L1166.17 72.576 L1158.72 72.576 L1158.72 65.6084 Q1156.01 69.7404 1152.4 71.7658 Q1148.84 73.7508 1144.1 73.7508 Q1136.28 73.7508 1132.23 68.8897 Q1128.18 64.0286 1128.18 54.671 M1146.93 26.1121 L1146.93 26.1121 Z\" fill=\"#000000\" fill-rule=\"nonzero\" fill-opacity=\"1\" /><path clip-path=\"url(#clip370)\" d=\"M1214.18 28.9478 L1214.18 35.9153 Q1211.02 34.1734 1207.82 33.3227 Q1204.66 32.4315 1201.42 32.4315 Q1194.17 32.4315 1190.15 37.0496 Q1186.14 41.6271 1186.14 49.9314 Q1186.14 58.2358 1190.15 62.8538 Q1194.17 67.4314 1201.42 67.4314 Q1204.66 67.4314 1207.82 66.5807 Q1211.02 65.6895 1214.18 63.9476 L1214.18 70.8341 Q1211.06 72.2924 1207.7 73.0216 Q1204.37 73.7508 1200.61 73.7508 Q1190.36 73.7508 1184.32 67.3098 Q1178.29 60.8689 1178.29 49.9314 Q1178.29 38.832 1184.36 32.472 Q1190.48 26.1121 1201.09 26.1121 Q1204.54 26.1121 1207.82 26.8413 Q1211.1 27.5299 1214.18 28.9478 Z\" fill=\"#000000\" fill-rule=\"nonzero\" fill-opacity=\"1\" /><path clip-path=\"url(#clip370)\" d=\"M1234.51 14.324 L1234.51 27.2059 L1249.87 27.2059 L1249.87 32.9987 L1234.51 32.9987 L1234.51 57.6282 Q1234.51 63.1779 1236.01 64.7578 Q1237.55 66.3376 1242.21 66.3376 L1249.87 66.3376 L1249.87 72.576 L1242.21 72.576 Q1233.58 72.576 1230.3 69.3758 Q1227.02 66.1351 1227.02 57.6282 L1227.02 32.9987 L1221.55 32.9987 L1221.55 27.2059 L1227.02 27.2059 L1227.02 14.324 L1234.51 14.324 Z\" fill=\"#000000\" fill-rule=\"nonzero\" fill-opacity=\"1\" /><path clip-path=\"url(#clip370)\" d=\"M1298.48 48.0275 L1298.48 51.6733 L1264.21 51.6733 Q1264.69 59.3701 1268.82 63.421 Q1273 67.4314 1280.41 67.4314 Q1284.7 67.4314 1288.71 66.3781 Q1292.76 65.3249 1296.73 63.2184 L1296.73 70.267 Q1292.72 71.9684 1288.51 72.8596 Q1284.3 73.7508 1279.96 73.7508 Q1269.11 73.7508 1262.75 67.4314 Q1256.43 61.1119 1256.43 50.3365 Q1256.43 39.1965 1262.42 32.6746 Q1268.46 26.1121 1278.67 26.1121 Q1287.82 26.1121 1293.13 32.0264 Q1298.48 37.9003 1298.48 48.0275 M1291.02 45.84 Q1290.94 39.7232 1287.58 36.0774 Q1284.26 32.4315 1278.75 32.4315 Q1272.51 32.4315 1268.74 35.9558 Q1265.02 39.4801 1264.45 45.8805 L1291.02 45.84 Z\" fill=\"#000000\" fill-rule=\"nonzero\" fill-opacity=\"1\" /><path clip-path=\"url(#clip370)\" d=\"M1340.56 34.0924 L1340.56 9.54393 L1348.02 9.54393 L1348.02 72.576 L1340.56 72.576 L1340.56 65.7705 Q1338.22 69.8214 1334.61 71.8063 Q1331.05 73.7508 1326.02 73.7508 Q1317.8 73.7508 1312.61 67.1883 Q1307.47 60.6258 1307.47 49.9314 Q1307.47 39.2371 1312.61 32.6746 Q1317.8 26.1121 1326.02 26.1121 Q1331.05 26.1121 1334.61 28.0971 Q1338.22 30.0415 1340.56 34.0924 M1315.17 49.9314 Q1315.17 58.1548 1318.53 62.8538 Q1321.93 67.5124 1327.85 67.5124 Q1333.76 67.5124 1337.16 62.8538 Q1340.56 58.1548 1340.56 49.9314 Q1340.56 41.7081 1337.16 37.0496 Q1333.76 32.3505 1327.85 32.3505 Q1321.93 32.3505 1318.53 37.0496 Q1315.17 41.7081 1315.17 49.9314 Z\" fill=\"#000000\" fill-rule=\"nonzero\" fill-opacity=\"1\" /><path clip-path=\"url(#clip370)\" d=\"M1419.6 34.0924 L1419.6 9.54393 L1427.05 9.54393 L1427.05 72.576 L1419.6 72.576 L1419.6 65.7705 Q1417.25 69.8214 1413.64 71.8063 Q1410.08 73.7508 1405.06 73.7508 Q1396.83 73.7508 1391.65 67.1883 Q1386.5 60.6258 1386.5 49.9314 Q1386.5 39.2371 1391.65 32.6746 Q1396.83 26.1121 1405.06 26.1121 Q1410.08 26.1121 1413.64 28.0971 Q1417.25 30.0415 1419.6 34.0924 M1394.2 49.9314 Q1394.2 58.1548 1397.56 62.8538 Q1400.96 67.5124 1406.88 67.5124 Q1412.79 67.5124 1416.2 62.8538 Q1419.6 58.1548 1419.6 49.9314 Q1419.6 41.7081 1416.2 37.0496 Q1412.79 32.3505 1406.88 32.3505 Q1400.96 32.3505 1397.56 37.0496 Q1394.2 41.7081 1394.2 49.9314 Z\" fill=\"#000000\" fill-rule=\"nonzero\" fill-opacity=\"1\" /><path clip-path=\"url(#clip370)\" d=\"M1463.02 49.7694 Q1453.99 49.7694 1450.51 51.8354 Q1447.02 53.9013 1447.02 58.8839 Q1447.02 62.8538 1449.62 65.2034 Q1452.25 67.5124 1456.74 67.5124 Q1462.94 67.5124 1466.67 63.1374 Q1470.44 58.7219 1470.44 51.4303 L1470.44 49.7694 L1463.02 49.7694 M1477.89 46.6907 L1477.89 72.576 L1470.44 72.576 L1470.44 65.6895 Q1467.88 69.8214 1464.08 71.8063 Q1460.27 73.7508 1454.76 73.7508 Q1447.79 73.7508 1443.66 69.8619 Q1439.57 65.9325 1439.57 59.3701 Q1439.57 51.7138 1444.67 47.825 Q1449.82 43.9361 1459.99 43.9361 L1470.44 43.9361 L1470.44 43.2069 Q1470.44 38.0623 1467.03 35.2672 Q1463.67 32.4315 1457.56 32.4315 Q1453.67 32.4315 1449.98 33.3632 Q1446.29 34.295 1442.89 36.1584 L1442.89 29.2718 Q1446.98 27.692 1450.83 26.9223 Q1454.68 26.1121 1458.32 26.1121 Q1468.17 26.1121 1473.03 31.2163 Q1477.89 36.3204 1477.89 46.6907 Z\" fill=\"#000000\" fill-rule=\"nonzero\" fill-opacity=\"1\" /><path clip-path=\"url(#clip370)\" d=\"M1500.62 14.324 L1500.62 27.2059 L1515.97 27.2059 L1515.97 32.9987 L1500.62 32.9987 L1500.62 57.6282 Q1500.62 63.1779 1502.11 64.7578 Q1503.65 66.3376 1508.31 66.3376 L1515.97 66.3376 L1515.97 72.576 L1508.31 72.576 Q1499.68 72.576 1496.4 69.3758 Q1493.12 66.1351 1493.12 57.6282 L1493.12 32.9987 L1487.65 32.9987 L1487.65 27.2059 L1493.12 27.2059 L1493.12 14.324 L1500.62 14.324 Z\" fill=\"#000000\" fill-rule=\"nonzero\" fill-opacity=\"1\" /><path clip-path=\"url(#clip370)\" d=\"M1546.39 49.7694 Q1537.36 49.7694 1533.87 51.8354 Q1530.39 53.9013 1530.39 58.8839 Q1530.39 62.8538 1532.98 65.2034 Q1535.62 67.5124 1540.11 67.5124 Q1546.31 67.5124 1550.04 63.1374 Q1553.8 58.7219 1553.8 51.4303 L1553.8 49.7694 L1546.39 49.7694 M1561.26 46.6907 L1561.26 72.576 L1553.8 72.576 L1553.8 65.6895 Q1551.25 69.8214 1547.44 71.8063 Q1543.64 73.7508 1538.13 73.7508 Q1531.16 73.7508 1527.03 69.8619 Q1522.94 65.9325 1522.94 59.3701 Q1522.94 51.7138 1528.04 47.825 Q1533.19 43.9361 1543.35 43.9361 L1553.8 43.9361 L1553.8 43.2069 Q1553.8 38.0623 1550.4 35.2672 Q1547.04 32.4315 1540.92 32.4315 Q1537.03 32.4315 1533.35 33.3632 Q1529.66 34.295 1526.26 36.1584 L1526.26 29.2718 Q1530.35 27.692 1534.2 26.9223 Q1538.05 26.1121 1541.69 26.1121 Q1551.54 26.1121 1556.4 31.2163 Q1561.26 36.3204 1561.26 46.6907 Z\" fill=\"#000000\" fill-rule=\"nonzero\" fill-opacity=\"1\" /><path clip-path=\"url(#clip370)\" d=\"M1605.45 65.6895 L1618.82 65.6895 L1618.82 19.5497 L1604.28 22.4663 L1604.28 15.0127 L1618.74 12.096 L1626.92 12.096 L1626.92 65.6895 L1640.29 65.6895 L1640.29 72.576 L1605.45 72.576 L1605.45 65.6895 Z\" fill=\"#000000\" fill-rule=\"nonzero\" fill-opacity=\"1\" /><path clip-path=\"url(#clip370)\" d=\"M1664.27 18.8205 L1664.27 65.8515 L1674.16 65.8515 Q1686.67 65.8515 1692.47 60.1802 Q1698.3 54.509 1698.3 42.2752 Q1698.3 30.1225 1692.47 24.4918 Q1686.67 18.8205 1674.16 18.8205 L1664.27 18.8205 M1656.09 12.096 L1672.9 12.096 Q1690.48 12.096 1698.71 19.4281 Q1706.93 26.7198 1706.93 42.2752 Q1706.93 57.9117 1698.66 65.2439 Q1690.4 72.576 1672.9 72.576 L1656.09 72.576 L1656.09 12.096 Z\" fill=\"#000000\" fill-rule=\"nonzero\" fill-opacity=\"1\" /><path clip-path=\"url(#clip372)\" d=\"M262.363 1287.14 L262.363 1447.87 L402.986 1447.87 L402.986 1287.14 L262.363 1287.14 L262.363 1287.14  Z\" fill=\"#009af9\" fill-rule=\"evenodd\" fill-opacity=\"1\"/>\n",
       "<polyline clip-path=\"url(#clip372)\" style=\"stroke:#000000; stroke-linecap:round; stroke-linejoin:round; stroke-width:4; stroke-opacity:1; fill:none\" points=\"262.363,1287.14 262.363,1447.87 402.986,1447.87 402.986,1287.14 262.363,1287.14 \"/>\n",
       "<path clip-path=\"url(#clip372)\" d=\"M402.986 1246.96 L402.986 1447.87 L543.609 1447.87 L543.609 1246.96 L402.986 1246.96 L402.986 1246.96  Z\" fill=\"#009af9\" fill-rule=\"evenodd\" fill-opacity=\"1\"/>\n",
       "<polyline clip-path=\"url(#clip372)\" style=\"stroke:#000000; stroke-linecap:round; stroke-linejoin:round; stroke-width:4; stroke-opacity:1; fill:none\" points=\"402.986,1246.96 402.986,1447.87 543.609,1447.87 543.609,1246.96 402.986,1246.96 \"/>\n",
       "<path clip-path=\"url(#clip372)\" d=\"M543.609 1046.05 L543.609 1447.87 L684.233 1447.87 L684.233 1046.05 L543.609 1046.05 L543.609 1046.05  Z\" fill=\"#009af9\" fill-rule=\"evenodd\" fill-opacity=\"1\"/>\n",
       "<polyline clip-path=\"url(#clip372)\" style=\"stroke:#000000; stroke-linecap:round; stroke-linejoin:round; stroke-width:4; stroke-opacity:1; fill:none\" points=\"543.609,1046.05 543.609,1447.87 684.233,1447.87 684.233,1046.05 543.609,1046.05 \"/>\n",
       "<path clip-path=\"url(#clip372)\" d=\"M684.233 885.324 L684.233 1447.87 L824.856 1447.87 L824.856 885.324 L684.233 885.324 L684.233 885.324  Z\" fill=\"#009af9\" fill-rule=\"evenodd\" fill-opacity=\"1\"/>\n",
       "<polyline clip-path=\"url(#clip372)\" style=\"stroke:#000000; stroke-linecap:round; stroke-linejoin:round; stroke-width:4; stroke-opacity:1; fill:none\" points=\"684.233,885.324 684.233,1447.87 824.856,1447.87 824.856,885.324 684.233,885.324 \"/>\n",
       "<path clip-path=\"url(#clip372)\" d=\"M824.856 764.778 L824.856 1447.87 L965.479 1447.87 L965.479 764.778 L824.856 764.778 L824.856 764.778  Z\" fill=\"#009af9\" fill-rule=\"evenodd\" fill-opacity=\"1\"/>\n",
       "<polyline clip-path=\"url(#clip372)\" style=\"stroke:#000000; stroke-linecap:round; stroke-linejoin:round; stroke-width:4; stroke-opacity:1; fill:none\" points=\"824.856,764.778 824.856,1447.87 965.479,1447.87 965.479,764.778 824.856,764.778 \"/>\n",
       "<path clip-path=\"url(#clip372)\" d=\"M965.479 644.232 L965.479 1447.87 L1106.1 1447.87 L1106.1 644.232 L965.479 644.232 L965.479 644.232  Z\" fill=\"#009af9\" fill-rule=\"evenodd\" fill-opacity=\"1\"/>\n",
       "<polyline clip-path=\"url(#clip372)\" style=\"stroke:#000000; stroke-linecap:round; stroke-linejoin:round; stroke-width:4; stroke-opacity:1; fill:none\" points=\"965.479,644.232 965.479,1447.87 1106.1,1447.87 1106.1,644.232 965.479,644.232 \"/>\n",
       "<path clip-path=\"url(#clip372)\" d=\"M1106.1 925.506 L1106.1 1447.87 L1246.73 1447.87 L1246.73 925.506 L1106.1 925.506 L1106.1 925.506  Z\" fill=\"#009af9\" fill-rule=\"evenodd\" fill-opacity=\"1\"/>\n",
       "<polyline clip-path=\"url(#clip372)\" style=\"stroke:#000000; stroke-linecap:round; stroke-linejoin:round; stroke-width:4; stroke-opacity:1; fill:none\" points=\"1106.1,925.506 1106.1,1447.87 1246.73,1447.87 1246.73,925.506 1106.1,925.506 \"/>\n",
       "<path clip-path=\"url(#clip372)\" d=\"M1246.73 965.688 L1246.73 1447.87 L1387.35 1447.87 L1387.35 965.688 L1246.73 965.688 L1246.73 965.688  Z\" fill=\"#009af9\" fill-rule=\"evenodd\" fill-opacity=\"1\"/>\n",
       "<polyline clip-path=\"url(#clip372)\" style=\"stroke:#000000; stroke-linecap:round; stroke-linejoin:round; stroke-width:4; stroke-opacity:1; fill:none\" points=\"1246.73,965.688 1246.73,1447.87 1387.35,1447.87 1387.35,965.688 1246.73,965.688 \"/>\n",
       "<path clip-path=\"url(#clip372)\" d=\"M1387.35 1367.51 L1387.35 1447.87 L1527.97 1447.87 L1527.97 1367.51 L1387.35 1367.51 L1387.35 1367.51  Z\" fill=\"#009af9\" fill-rule=\"evenodd\" fill-opacity=\"1\"/>\n",
       "<polyline clip-path=\"url(#clip372)\" style=\"stroke:#000000; stroke-linecap:round; stroke-linejoin:round; stroke-width:4; stroke-opacity:1; fill:none\" points=\"1387.35,1367.51 1387.35,1447.87 1527.97,1447.87 1527.97,1367.51 1387.35,1367.51 \"/>\n",
       "<path clip-path=\"url(#clip372)\" d=\"M1527.97 1327.33 L1527.97 1447.87 L1668.6 1447.87 L1668.6 1327.33 L1527.97 1327.33 L1527.97 1327.33  Z\" fill=\"#009af9\" fill-rule=\"evenodd\" fill-opacity=\"1\"/>\n",
       "<polyline clip-path=\"url(#clip372)\" style=\"stroke:#000000; stroke-linecap:round; stroke-linejoin:round; stroke-width:4; stroke-opacity:1; fill:none\" points=\"1527.97,1327.33 1527.97,1447.87 1668.6,1447.87 1668.6,1327.33 1527.97,1327.33 \"/>\n",
       "<path clip-path=\"url(#clip372)\" d=\"M1668.6 1447.87 L1668.6 1447.87 L1809.22 1447.87 L1809.22 1447.87 L1668.6 1447.87 L1668.6 1447.87  Z\" fill=\"#009af9\" fill-rule=\"evenodd\" fill-opacity=\"1\"/>\n",
       "<polyline clip-path=\"url(#clip372)\" style=\"stroke:#000000; stroke-linecap:round; stroke-linejoin:round; stroke-width:4; stroke-opacity:1; fill:none\" points=\"1668.6,1447.87 1668.6,1447.87 1809.22,1447.87 1668.6,1447.87 \"/>\n",
       "<path clip-path=\"url(#clip372)\" d=\"M1809.22 1407.69 L1809.22 1447.87 L1949.84 1447.87 L1949.84 1407.69 L1809.22 1407.69 L1809.22 1407.69  Z\" fill=\"#009af9\" fill-rule=\"evenodd\" fill-opacity=\"1\"/>\n",
       "<polyline clip-path=\"url(#clip372)\" style=\"stroke:#000000; stroke-linecap:round; stroke-linejoin:round; stroke-width:4; stroke-opacity:1; fill:none\" points=\"1809.22,1407.69 1809.22,1447.87 1949.84,1447.87 1949.84,1407.69 1809.22,1407.69 \"/>\n",
       "<path clip-path=\"url(#clip372)\" d=\"M1949.84 162.047 L1949.84 1447.87 L2090.47 1447.87 L2090.47 162.047 L1949.84 162.047 L1949.84 162.047  Z\" fill=\"#009af9\" fill-rule=\"evenodd\" fill-opacity=\"1\"/>\n",
       "<polyline clip-path=\"url(#clip372)\" style=\"stroke:#000000; stroke-linecap:round; stroke-linejoin:round; stroke-width:4; stroke-opacity:1; fill:none\" points=\"1949.84,162.047 1949.84,1447.87 2090.47,1447.87 2090.47,162.047 1949.84,162.047 \"/>\n",
       "<path clip-path=\"url(#clip372)\" d=\"M2090.47 845.142 L2090.47 1447.87 L2231.09 1447.87 L2231.09 845.142 L2090.47 845.142 L2090.47 845.142  Z\" fill=\"#009af9\" fill-rule=\"evenodd\" fill-opacity=\"1\"/>\n",
       "<polyline clip-path=\"url(#clip372)\" style=\"stroke:#000000; stroke-linecap:round; stroke-linejoin:round; stroke-width:4; stroke-opacity:1; fill:none\" points=\"2090.47,845.142 2090.47,1447.87 2231.09,1447.87 2231.09,845.142 2090.47,845.142 \"/>\n",
       "<circle clip-path=\"url(#clip372)\" style=\"fill:#009af9; stroke:none; fill-opacity:0\" cx=\"332.674\" cy=\"1287.14\" r=\"2\"/>\n",
       "<circle clip-path=\"url(#clip372)\" style=\"fill:#009af9; stroke:none; fill-opacity:0\" cx=\"473.298\" cy=\"1246.96\" r=\"2\"/>\n",
       "<circle clip-path=\"url(#clip372)\" style=\"fill:#009af9; stroke:none; fill-opacity:0\" cx=\"613.921\" cy=\"1046.05\" r=\"2\"/>\n",
       "<circle clip-path=\"url(#clip372)\" style=\"fill:#009af9; stroke:none; fill-opacity:0\" cx=\"754.544\" cy=\"885.324\" r=\"2\"/>\n",
       "<circle clip-path=\"url(#clip372)\" style=\"fill:#009af9; stroke:none; fill-opacity:0\" cx=\"895.168\" cy=\"764.778\" r=\"2\"/>\n",
       "<circle clip-path=\"url(#clip372)\" style=\"fill:#009af9; stroke:none; fill-opacity:0\" cx=\"1035.79\" cy=\"644.232\" r=\"2\"/>\n",
       "<circle clip-path=\"url(#clip372)\" style=\"fill:#009af9; stroke:none; fill-opacity:0\" cx=\"1176.41\" cy=\"925.506\" r=\"2\"/>\n",
       "<circle clip-path=\"url(#clip372)\" style=\"fill:#009af9; stroke:none; fill-opacity:0\" cx=\"1317.04\" cy=\"965.688\" r=\"2\"/>\n",
       "<circle clip-path=\"url(#clip372)\" style=\"fill:#009af9; stroke:none; fill-opacity:0\" cx=\"1457.66\" cy=\"1367.51\" r=\"2\"/>\n",
       "<circle clip-path=\"url(#clip372)\" style=\"fill:#009af9; stroke:none; fill-opacity:0\" cx=\"1598.28\" cy=\"1327.33\" r=\"2\"/>\n",
       "<circle clip-path=\"url(#clip372)\" style=\"fill:#009af9; stroke:none; fill-opacity:0\" cx=\"1738.91\" cy=\"1447.87\" r=\"2\"/>\n",
       "<circle clip-path=\"url(#clip372)\" style=\"fill:#009af9; stroke:none; fill-opacity:0\" cx=\"1879.53\" cy=\"1407.69\" r=\"2\"/>\n",
       "<circle clip-path=\"url(#clip372)\" style=\"fill:#009af9; stroke:none; fill-opacity:0\" cx=\"2020.15\" cy=\"162.047\" r=\"2\"/>\n",
       "<circle clip-path=\"url(#clip372)\" style=\"fill:#009af9; stroke:none; fill-opacity:0\" cx=\"2160.78\" cy=\"845.142\" r=\"2\"/>\n",
       "</svg>\n"
      ]
     },
     "execution_count": 59,
     "metadata": {},
     "output_type": "execute_result"
    }
   ],
   "source": [
    "iris1D = iris_mat * pca_model.proj[:,1];\n",
    "p = plot( iris1D, seriestype=:histogram,\n",
    "    bins=minimum(iris1D):0.5:maximum(iris1D),\n",
    "         title=\"reconstructed data 1D\", legend=false)\n",
    "    p"
   ]
  },
  {
   "cell_type": "code",
   "execution_count": null,
   "id": "f0625df3-6a9c-4964-a2a5-98e1b7a9f9da",
   "metadata": {},
   "outputs": [],
   "source": []
  },
  {
   "cell_type": "code",
   "execution_count": null,
   "id": "bd3962c0-44db-4cfa-a2d6-100de25e3848",
   "metadata": {},
   "outputs": [],
   "source": []
  },
  {
   "cell_type": "code",
   "execution_count": null,
   "id": "fc02f84a-b50d-4cb3-a073-f7634f5b7233",
   "metadata": {},
   "outputs": [],
   "source": []
  },
  {
   "cell_type": "code",
   "execution_count": null,
   "id": "91f2e715-8948-4f39-a34d-c7376e0d2ba6",
   "metadata": {},
   "outputs": [],
   "source": []
  },
  {
   "cell_type": "code",
   "execution_count": null,
   "id": "c413a31d-e140-419f-b27c-19787c5e8d95",
   "metadata": {},
   "outputs": [],
   "source": []
  },
  {
   "cell_type": "code",
   "execution_count": null,
   "id": "1557a34c-6319-4120-a37f-3a7cef0b7a4b",
   "metadata": {},
   "outputs": [],
   "source": []
  }
 ],
 "metadata": {
  "kernelspec": {
   "display_name": "Julia 1.8.2",
   "language": "julia",
   "name": "julia-1.8"
  },
  "language_info": {
   "file_extension": ".jl",
   "mimetype": "application/julia",
   "name": "julia",
   "version": "1.8.2"
  }
 },
 "nbformat": 4,
 "nbformat_minor": 5
}
